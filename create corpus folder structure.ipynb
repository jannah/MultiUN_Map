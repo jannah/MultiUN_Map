{
 "metadata": {
  "name": "",
  "signature": "sha256:2c18722c441dfdd32d7f3c072493521156d9b34d18a5da0e13d1f98f593f7713"
 },
 "nbformat": 3,
 "nbformat_minor": 0,
 "worksheets": [
  {
   "cells": [
    {
     "cell_type": "code",
     "collapsed": false,
     "input": [
      "from modules import multi_un_module as mun\n",
      "import os, shutil"
     ],
     "language": "python",
     "metadata": {},
     "outputs": [],
     "prompt_number": 2
    },
    {
     "cell_type": "code",
     "collapsed": false,
     "input": [
      "PATH = mun.PATH_TO_XML_FILES\n",
      "LOCALPATH = os.path.join('data',PATH.replace('C:\\\\Users\\\\Hassan\\\\Documents\\\\iSchool\\\\NLP\\\\United Nations\\\\',''))\n",
      "if os.path.exists(LOCALPATH) == 0 :\n",
      "    os.makedirs(LOCALPATH)\n",
      "\n",
      "def create_structure(source_parent, target_parent):\n",
      "    for d in os.listdir(source_parent):\n",
      "        \n",
      "        tp1 = os.path.join(target_parent,d)\n",
      "        sp1 = os.path.join(source_parent,d)\n",
      "        if os.path.isdir(sp1):\n",
      "            if os.path.exists(tp1) ==0:\n",
      "                os.makedirs(tp1)\n",
      "            create_structure(sp1, tp1)\n",
      "create_structure(PATH, LOCALPATH)"
     ],
     "language": "python",
     "metadata": {},
     "outputs": [],
     "prompt_number": 6
    }
   ],
   "metadata": {}
  }
 ]
}