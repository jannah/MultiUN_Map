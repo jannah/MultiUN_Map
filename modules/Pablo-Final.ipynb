{
 "metadata": {
  "name": "",
  "signature": "sha256:382f0603ffeb42bdf9a9037e47db8366cc2651b3af9166b1e301ff2423449219"
 },
 "nbformat": 3,
 "nbformat_minor": 0,
 "worksheets": [
  {
   "cells": [
    {
     "cell_type": "code",
     "collapsed": false,
     "input": [
      "MODULES_PATH = '''../modules/multi_un_module.py'''\n",
      "import imp\n",
      "NF = imp.load_source('multi_un_module', MODULES_PATH)\n",
      "import multi_un_module as mun\n",
      "import nltk\n",
      "import string\n",
      "import pycountry as pc\n",
      "from progressbar import AnimatedMarker, Bar, BouncingBar,\\\n",
      "                            Counter, ETA, Percentage, ProgressBar, SimpleProgress, FileTransferSpeed"
     ],
     "language": "python",
     "metadata": {},
     "outputs": [],
     "prompt_number": 19
    },
    {
     "cell_type": "code",
     "collapsed": false,
     "input": [
      "# docs = mun.load_xml_files_by_year('TOP_100')\n",
      "# default_doc = docs['A_56_17-en.xml']"
     ],
     "language": "python",
     "metadata": {},
     "outputs": [],
     "prompt_number": 20
    },
    {
     "cell_type": "code",
     "collapsed": false,
     "input": [
      "# Creating a master list of countries to compare to and filter from the library pycontry. \n",
      "# Defines a dictionary with two arrays, common names and official names.\n",
      "\n",
      "def load_countries():\n",
      "    countries = {\n",
      "        'common':[],\n",
      "        'official': []\n",
      "    }\n",
      "\n",
      "    for c in pc.countries:\n",
      "        countries['common'].append(c.name)\n",
      "        if hasattr(c,'official_name'):\n",
      "            countries['official'].append(c.official_name)\n",
      "    print \"Load_countries() DONE!\"\n",
      "    return countries\n",
      "\n",
      "COUNTRIES = load_countries()\n",
      "# countries"
     ],
     "language": "python",
     "metadata": {},
     "outputs": [
      {
       "output_type": "stream",
       "stream": "stdout",
       "text": [
        "Load_countries() DONE!\n"
       ]
      }
     ],
     "prompt_number": 21
    },
    {
     "cell_type": "code",
     "collapsed": false,
     "input": [
      "# Processes the tagged sentences to get NER entities for analysis. \n",
      "def load_ner_entities(tagged_sentences, show_pbar = True):\n",
      "    if show_pbar:\n",
      "        pbar = ProgressBar(widgets=[\"Building Dictionary\", SimpleProgress(), Percentage(), Bar(), ETA()], maxval=len(tagged_sentences)).start()\n",
      "    print \"get_ner_dictionary_for_analysis() Started...\"\n",
      "    entities = []\n",
      "    counter = 0\n",
      "    for sentence in tagged_sentences:\n",
      "        chunks = nltk.ne_chunk(sentence)\n",
      "        entities.extend([chunk for chunk in chunks if hasattr(chunk, 'node')])\n",
      "        counter+=1\n",
      "        if show_pbar:\n",
      "            pbar.update(counter)\n",
      "    if show_pbar:\n",
      "        pbar.finish()\n",
      "    return entities\n",
      "\n",
      "\n",
      "def get_ner_dictionary_for_analysis(tagged_sentences=None, entities = None, show_pbar = True):\n",
      "    \n",
      "    if entities is None:\n",
      "        entities = load_ner_entities(tagged_sentences, show_pbar)\n",
      "        \n",
      "    # Creating NER main dictionary to analyze and join with MUN library results\n",
      "    ner_dictionary = {\n",
      "        'GPE':[],\n",
      "        'PERSON' :[],\n",
      "        'ORGANIZATION' :[],\n",
      "        'GSP':[]\n",
      "    }\n",
      "    \n",
      "    for e in entities:\n",
      "        if not ner_dictionary.has_key(e.node):\n",
      "            ner_dictionary[e.node]=[]\n",
      "        phrase =[]\n",
      "        for item in e:\n",
      "            phrase.append(item[0])\n",
      "        ner_dictionary[e.node].append(' '.join(phrase))\n",
      "    \n",
      "    return ner_dictionary,entities"
     ],
     "language": "python",
     "metadata": {},
     "outputs": [],
     "prompt_number": 22
    },
    {
     "cell_type": "code",
     "collapsed": false,
     "input": [
      "#Selects the countries from the noun phrases detected that match the official list of countries from pycountry\n",
      "def get_filtered_countries(chunks):\n",
      "    print \"get_filtered_countries() Started...\"\n",
      "    filtered_countries = []\n",
      "    fd = nltk.FreqDist(chunks)\n",
      "    for f in fd.items():\n",
      "        for country in COUNTRIES['common']:\n",
      "            c = mun.fix_unicode(f[0])\n",
      "            if country.find(c) != -1:\n",
      "                filtered_countries.append(f)\n",
      "\n",
      "    filtered_countries = nltk.FreqDist(filtered_countries).items()\n",
      "    filtered_countries = [w[0] for w in filtered_countries]\n",
      "    print \"get_filtered_countries() DONE!\"\n",
      "    return filtered_countries"
     ],
     "language": "python",
     "metadata": {},
     "outputs": [],
     "prompt_number": 44
    },
    {
     "cell_type": "code",
     "collapsed": false,
     "input": [
      "#Creating a Frequency Distribution with the NER entities\n",
      "\n",
      "def get_ner_entities_list(ner_entities):\n",
      "    print \"get_ner_entities_list() Started...\"\n",
      "    entities = []\n",
      "    for node in ner_entities:\n",
      "        phrase = []\n",
      "        for element in node:\n",
      "            phrase.append(element[0])\n",
      "        entities.append((node.node,' '.join(phrase)))\n",
      "    print \"get_ner_entities_list() DONE!\"\n",
      "    return entities"
     ],
     "language": "python",
     "metadata": {},
     "outputs": [],
     "prompt_number": 24
    },
    {
     "cell_type": "code",
     "collapsed": false,
     "input": [
      "# Returns the list of countries/continents joined from the NER GEP list and the MUN Library chunker.\n",
      "\n",
      "def get_ner_countries(nchunks, ner_chunks):\n",
      "    print \"get_ner_countries() Started...\"\n",
      "    all_countries = get_filtered_countries(nchunks) + get_filtered_countries(ner_chunks)\n",
      "    fd = nltk.FreqDist(all_countries)\n",
      "    all_countries = []\n",
      "    for c in fd.keys():\n",
      "        all_countries.append(c[0])\n",
      "    fd = nltk.FreqDist(all_countries).keys()\n",
      "#     fd.sort()\n",
      "    print \"get_ner_countries() DONE!\"\n",
      "    return fd"
     ],
     "language": "python",
     "metadata": {},
     "outputs": [],
     "prompt_number": 25
    },
    {
     "cell_type": "code",
     "collapsed": false,
     "input": [
      "def get_ner_organizations(nchunks,ner_chunks):\n",
      "    print \"get_ner_organizations() Started...\"\n",
      "    unorgs = ['Commission','General Assembly','Secretariat','Committee', 'United Nations', 'Assembly','Convention ']\n",
      "    norgs = [(w[0][1],w[1]) for w in ner_chunks if w[0][0] == 'ORGANIZATION']\n",
      "    all_orgs = nchunks + norgs\n",
      "    all_orgs = [w[0] for w in all_orgs]\n",
      "    all_orgs = nltk.FreqDist(all_orgs).keys()\n",
      "    results = []\n",
      "    for w in all_orgs:\n",
      "        for org in unorgs:\n",
      "            if type(w) == tuple:\n",
      "                print w\n",
      "            if w.find(org) !=-1 and analyze_for_monograms(w) and w != org:\n",
      "                results.append(w)\n",
      "    print \"get_ner_organizations() DONE!\"\n",
      "    return nltk.FreqDist(results).keys()\n",
      "\n",
      "\n",
      "# Checks a text to make sure it isn't just a \n",
      "def analyze_for_monograms(text):\n",
      "    tokens = nltk.word_tokenize(text)\n",
      "    if len(tokens[0])>1 and len(tokens[-1])>1:\n",
      "        return True\n",
      "    else: \n",
      "        return False\n",
      "\n"
     ],
     "language": "python",
     "metadata": {},
     "outputs": [],
     "prompt_number": 26
    },
    {
     "cell_type": "code",
     "collapsed": false,
     "input": [
      "def ner_document_analysis(sentences, tagged_sentences, nchunks=None, summary=False):\n",
      "\n",
      "    if nchunks == None:\n",
      "        nchunks = mun.get_chunks(tagged_sentences, chunker=mun.get_chunker(tag_set='brown', target='PNS'), target = 'PNS')\n",
      "        nchunks = mun.extract_target_from_chunks(nchunks, target='PNS')\n",
      "        nchunks = nltk.FreqDist(nchunks).items()\n",
      "    \n",
      "    \n",
      "    ner_dictionary,ner_entities = get_ner_dictionary_for_analysis(tagged_sentences)\n",
      "    \n",
      "    fd_gpe = nltk.FreqDist(ner_dictionary['GPE'])\n",
      "    ner_fd_entities = nltk.FreqDist(get_ner_entities_list(ner_entities))\n",
      "    \n",
      "    allcountries = get_ner_countries(nchunks,ner_dictionary['GPE'])\n",
      "    orgs = get_ner_organizations(nchunks, ner_fd_entities.items())\n",
      "\n",
      "    return orgs,allcountries, nchunks"
     ],
     "language": "python",
     "metadata": {},
     "outputs": [],
     "prompt_number": 40
    },
    {
     "cell_type": "code",
     "collapsed": false,
     "input": [
      "doc = mun.get_document(doc_n='N0651723', include_content=True)\n",
      "\n",
      "sentences = mun.extract_sentences(doc)[:1000]\n",
      "tokenized_sentences = mun.tokenize_sentence_text(sentences)\n",
      "tagged_sentences = mun.tag_pos_sentences(tokenized_sentences)\n",
      "orgs, allcountries, nchunks= ner_document_analysis(sentences, tagged_sentences)"
     ],
     "language": "python",
     "metadata": {},
     "outputs": [
      {
       "javascript": [
        "//0823ffd9-5200-41dd-9bcc-ee0aca698e46\n",
        "$(\"head\").append(\"<style> td.pb_widget {     width: auto; } td.pb_widget_fill {     width: 100%; } table.pb {     font-family: monospace;     border: 0;     margin: 0; } table.pb tr { border: 0; } table.pb td {     white-space: nowrap;     border: 0; } div.pb {     border: 1px solid #ddd;     border-radius: 3px; } div.pb_bar {     height: 1.5em; } </style>\")"
       ],
       "metadata": {},
       "output_type": "display_data",
       "text": [
        "<IPython.core.display.Javascript at 0x16b46710>"
       ]
      },
      {
       "javascript": [
        "\n",
        "                  // 0823ffd9-5200-41dd-9bcc-ee0aca698e46 -- used to remove this code blob in the end\n",
        "                  IPython.OutputArea.prototype.cleanProgressBar = function(uuids) {\n",
        "                      // filter by uuid-strings \n",
        "                      var myfilter = function(output) { \n",
        "                          var nuids = uuids.length;\n",
        "                          for (var i=0; i<nuids; i++) {\n",
        "                              if (output.hasOwnProperty('html')) {\n",
        "                                  if (output.html.indexOf(uuids[i]) != -1) {\n",
        "                                      return false;\n",
        "                                  }\n",
        "                              }\n",
        "                              if (output.hasOwnProperty('javascript')) {\n",
        "                                  if (output.javascript.indexOf(uuids[i]) != -1) {\n",
        "                                      return false;\n",
        "                                  }\n",
        "                              }\n",
        "                          }\n",
        "                          // keep all others\n",
        "                          return true;\n",
        "                      };\n",
        "\n",
        "                      // Filter the ouputs\n",
        "                      this.outputs = this.outputs.filter(myfilter);\n",
        "                };\n",
        "                "
       ],
       "metadata": {},
       "output_type": "display_data",
       "text": [
        "<IPython.core.display.Javascript at 0x1a09b4e0>"
       ]
      },
      {
       "html": [
        "<div class=\"pb\" id=\"0823ffd9-5200-41dd-9bcc-ee0aca698e46\"><table class=\"pb ui-widget\"><tr>\n",
        "<td class=\"pb_widget\">Tokenizing sentences</td>\n",
        "<td class=\"pb_widget\"><div id=\"27a53f44-ad4e-4de7-9e75-fe64fd72d14b\">0 of 1000</div></td>\n",
        "<td class=\"pb_widget\"><div id=\"ec1cad03-9fed-4416-ba7b-d64aae9eb0dc\">  0%</div></td>\n",
        "<td class=\"pb_widget_fill\">\n",
        "        <div class=\"pb_bar\" id=\"cced99e4-9493-4925-a6af-e935904ae291\"></div>\n",
        "        <script type=\"text/javascript\">\n",
        "            $(\"div#cced99e4-9493-4925-a6af-e935904ae291\").progressbar({value: 0, max: 1000});\n",
        "        </script>\n",
        "        </td>\n",
        "<td class=\"pb_widget\"><div id=\"7b44511c-11f3-4261-9703-602ef9399934\">ETA:  --:--:--</div></td>\n",
        "</tr></table><div>"
       ],
       "metadata": {},
       "output_type": "display_data",
       "text": [
        "<IPython.core.display.HTML at 0x16b46208>"
       ]
      },
      {
       "javascript": [
        "$('div#27a53f44-ad4e-4de7-9e75-fe64fd72d14b').text('10 of 1000');"
       ],
       "metadata": {},
       "output_type": "display_data",
       "text": [
        "<IPython.core.display.Javascript at 0x1c8a0160>"
       ]
      },
      {
       "javascript": [
        "$('div#ec1cad03-9fed-4416-ba7b-d64aae9eb0dc').text('  1%');"
       ],
       "metadata": {},
       "output_type": "display_data",
       "text": [
        "<IPython.core.display.Javascript at 0x1a09b4e0>"
       ]
      },
      {
       "javascript": [
        "\n",
        "        var $myPB = $(\"div#cced99e4-9493-4925-a6af-e935904ae291\")\n",
        "        if ($myPB.hasClass('ui-progressbar')) {\n",
        "            $myPB.progressbar('value', 10);\n",
        "        } else {\n",
        "            $myPB.progressbar({value: 0, max: 1000});\n",
        "        }\n",
        "        "
       ],
       "metadata": {},
       "output_type": "display_data",
       "text": [
        "<IPython.core.display.Javascript at 0x16b46208>"
       ]
      },
      {
       "javascript": [
        "$('div#7b44511c-11f3-4261-9703-602ef9399934').text('ETA:  0:00:00');"
       ],
       "metadata": {},
       "output_type": "display_data",
       "text": [
        "<IPython.core.display.Javascript at 0x16b46710>"
       ]
      },
      {
       "javascript": [
        "$('div#27a53f44-ad4e-4de7-9e75-fe64fd72d14b').text('20 of 1000');"
       ],
       "metadata": {},
       "output_type": "display_data",
       "text": [
        "<IPython.core.display.Javascript at 0x1c8a0160>"
       ]
      },
      {
       "javascript": [
        "$('div#ec1cad03-9fed-4416-ba7b-d64aae9eb0dc').text('  2%');"
       ],
       "metadata": {},
       "output_type": "display_data",
       "text": [
        "<IPython.core.display.Javascript at 0x1c8a0e48>"
       ]
      },
      {
       "javascript": [
        "\n",
        "        var $myPB = $(\"div#cced99e4-9493-4925-a6af-e935904ae291\")\n",
        "        if ($myPB.hasClass('ui-progressbar')) {\n",
        "            $myPB.progressbar('value', 20);\n",
        "        } else {\n",
        "            $myPB.progressbar({value: 0, max: 1000});\n",
        "        }\n",
        "        "
       ],
       "metadata": {},
       "output_type": "display_data",
       "text": [
        "<IPython.core.display.Javascript at 0x1a09b4e0>"
       ]
      },
      {
       "javascript": [
        "$('div#7b44511c-11f3-4261-9703-602ef9399934').text('ETA:  0:00:00');"
       ],
       "metadata": {},
       "output_type": "display_data",
       "text": [
        "<IPython.core.display.Javascript at 0x16b46208>"
       ]
      },
      {
       "javascript": [
        "$('div#27a53f44-ad4e-4de7-9e75-fe64fd72d14b').text('30 of 1000');"
       ],
       "metadata": {},
       "output_type": "display_data",
       "text": [
        "<IPython.core.display.Javascript at 0x1c8a0c88>"
       ]
      },
      {
       "javascript": [
        "$('div#ec1cad03-9fed-4416-ba7b-d64aae9eb0dc').text('  3%');"
       ],
       "metadata": {},
       "output_type": "display_data",
       "text": [
        "<IPython.core.display.Javascript at 0x1c8a0470>"
       ]
      },
      {
       "javascript": [
        "\n",
        "        var $myPB = $(\"div#cced99e4-9493-4925-a6af-e935904ae291\")\n",
        "        if ($myPB.hasClass('ui-progressbar')) {\n",
        "            $myPB.progressbar('value', 30);\n",
        "        } else {\n",
        "            $myPB.progressbar({value: 0, max: 1000});\n",
        "        }\n",
        "        "
       ],
       "metadata": {},
       "output_type": "display_data",
       "text": [
        "<IPython.core.display.Javascript at 0x1a09b4e0>"
       ]
      },
      {
       "javascript": [
        "$('div#7b44511c-11f3-4261-9703-602ef9399934').text('ETA:  0:00:00');"
       ],
       "metadata": {},
       "output_type": "display_data",
       "text": [
        "<IPython.core.display.Javascript at 0x16b46208>"
       ]
      },
      {
       "javascript": [
        "$('div#27a53f44-ad4e-4de7-9e75-fe64fd72d14b').text('40 of 1000');"
       ],
       "metadata": {},
       "output_type": "display_data",
       "text": [
        "<IPython.core.display.Javascript at 0x1c8a0438>"
       ]
      },
      {
       "javascript": [
        "$('div#ec1cad03-9fed-4416-ba7b-d64aae9eb0dc').text('  4%');"
       ],
       "metadata": {},
       "output_type": "display_data",
       "text": [
        "<IPython.core.display.Javascript at 0x1c8a0470>"
       ]
      },
      {
       "javascript": [
        "\n",
        "        var $myPB = $(\"div#cced99e4-9493-4925-a6af-e935904ae291\")\n",
        "        if ($myPB.hasClass('ui-progressbar')) {\n",
        "            $myPB.progressbar('value', 40);\n",
        "        } else {\n",
        "            $myPB.progressbar({value: 0, max: 1000});\n",
        "        }\n",
        "        "
       ],
       "metadata": {},
       "output_type": "display_data",
       "text": [
        "<IPython.core.display.Javascript at 0x1a09b4e0>"
       ]
      },
      {
       "javascript": [
        "$('div#7b44511c-11f3-4261-9703-602ef9399934').text('ETA:  0:00:00');"
       ],
       "metadata": {},
       "output_type": "display_data",
       "text": [
        "<IPython.core.display.Javascript at 0x16b46208>"
       ]
      },
      {
       "javascript": [
        "$('div#27a53f44-ad4e-4de7-9e75-fe64fd72d14b').text('50 of 1000');"
       ],
       "metadata": {},
       "output_type": "display_data",
       "text": [
        "<IPython.core.display.Javascript at 0x1c8a0160>"
       ]
      },
      {
       "javascript": [
        "$('div#ec1cad03-9fed-4416-ba7b-d64aae9eb0dc').text('  5%');"
       ],
       "metadata": {},
       "output_type": "display_data",
       "text": [
        "<IPython.core.display.Javascript at 0x1c8a0470>"
       ]
      },
      {
       "javascript": [
        "\n",
        "        var $myPB = $(\"div#cced99e4-9493-4925-a6af-e935904ae291\")\n",
        "        if ($myPB.hasClass('ui-progressbar')) {\n",
        "            $myPB.progressbar('value', 50);\n",
        "        } else {\n",
        "            $myPB.progressbar({value: 0, max: 1000});\n",
        "        }\n",
        "        "
       ],
       "metadata": {},
       "output_type": "display_data",
       "text": [
        "<IPython.core.display.Javascript at 0x1a09b4e0>"
       ]
      },
      {
       "javascript": [
        "$('div#7b44511c-11f3-4261-9703-602ef9399934').text('ETA:  0:00:00');"
       ],
       "metadata": {},
       "output_type": "display_data",
       "text": [
        "<IPython.core.display.Javascript at 0x16b46208>"
       ]
      },
      {
       "javascript": [
        "$('div#27a53f44-ad4e-4de7-9e75-fe64fd72d14b').text('60 of 1000');"
       ],
       "metadata": {},
       "output_type": "display_data",
       "text": [
        "<IPython.core.display.Javascript at 0x1c8a0588>"
       ]
      },
      {
       "javascript": [
        "$('div#ec1cad03-9fed-4416-ba7b-d64aae9eb0dc').text('  6%');"
       ],
       "metadata": {},
       "output_type": "display_data",
       "text": [
        "<IPython.core.display.Javascript at 0x1c8a00f0>"
       ]
      },
      {
       "javascript": [
        "\n",
        "        var $myPB = $(\"div#cced99e4-9493-4925-a6af-e935904ae291\")\n",
        "        if ($myPB.hasClass('ui-progressbar')) {\n",
        "            $myPB.progressbar('value', 60);\n",
        "        } else {\n",
        "            $myPB.progressbar({value: 0, max: 1000});\n",
        "        }\n",
        "        "
       ],
       "metadata": {},
       "output_type": "display_data",
       "text": [
        "<IPython.core.display.Javascript at 0x1c8a00f0>"
       ]
      },
      {
       "javascript": [
        "$('div#7b44511c-11f3-4261-9703-602ef9399934').text('ETA:  0:00:00');"
       ],
       "metadata": {},
       "output_type": "display_data",
       "text": [
        "<IPython.core.display.Javascript at 0x1c8a0c88>"
       ]
      },
      {
       "javascript": [
        "$('div#27a53f44-ad4e-4de7-9e75-fe64fd72d14b').text('70 of 1000');"
       ],
       "metadata": {},
       "output_type": "display_data",
       "text": [
        "<IPython.core.display.Javascript at 0x1c8a0e48>"
       ]
      },
      {
       "javascript": [
        "$('div#ec1cad03-9fed-4416-ba7b-d64aae9eb0dc').text('  7%');"
       ],
       "metadata": {},
       "output_type": "display_data",
       "text": [
        "<IPython.core.display.Javascript at 0x1a09b4e0>"
       ]
      },
      {
       "javascript": [
        "\n",
        "        var $myPB = $(\"div#cced99e4-9493-4925-a6af-e935904ae291\")\n",
        "        if ($myPB.hasClass('ui-progressbar')) {\n",
        "            $myPB.progressbar('value', 70);\n",
        "        } else {\n",
        "            $myPB.progressbar({value: 0, max: 1000});\n",
        "        }\n",
        "        "
       ],
       "metadata": {},
       "output_type": "display_data",
       "text": [
        "<IPython.core.display.Javascript at 0x1a09b4e0>"
       ]
      },
      {
       "javascript": [
        "$('div#7b44511c-11f3-4261-9703-602ef9399934').text('ETA:  0:00:00');"
       ],
       "metadata": {},
       "output_type": "display_data",
       "text": [
        "<IPython.core.display.Javascript at 0x16b46208>"
       ]
      },
      {
       "javascript": [
        "$('div#27a53f44-ad4e-4de7-9e75-fe64fd72d14b').text('80 of 1000');"
       ],
       "metadata": {},
       "output_type": "display_data",
       "text": [
        "<IPython.core.display.Javascript at 0x1c8a00f0>"
       ]
      },
      {
       "javascript": [
        "$('div#ec1cad03-9fed-4416-ba7b-d64aae9eb0dc').text('  8%');"
       ],
       "metadata": {},
       "output_type": "display_data",
       "text": [
        "<IPython.core.display.Javascript at 0x1ffa1278>"
       ]
      },
      {
       "javascript": [
        "\n",
        "        var $myPB = $(\"div#cced99e4-9493-4925-a6af-e935904ae291\")\n",
        "        if ($myPB.hasClass('ui-progressbar')) {\n",
        "            $myPB.progressbar('value', 80);\n",
        "        } else {\n",
        "            $myPB.progressbar({value: 0, max: 1000});\n",
        "        }\n",
        "        "
       ],
       "metadata": {},
       "output_type": "display_data",
       "text": [
        "<IPython.core.display.Javascript at 0x16b46208>"
       ]
      },
      {
       "javascript": [
        "$('div#7b44511c-11f3-4261-9703-602ef9399934').text('ETA:  0:00:00');"
       ],
       "metadata": {},
       "output_type": "display_data",
       "text": [
        "<IPython.core.display.Javascript at 0x1a09b4e0>"
       ]
      },
      {
       "javascript": [
        "$('div#27a53f44-ad4e-4de7-9e75-fe64fd72d14b').text('90 of 1000');"
       ],
       "metadata": {},
       "output_type": "display_data",
       "text": [
        "<IPython.core.display.Javascript at 0x1c8a00f0>"
       ]
      },
      {
       "javascript": [
        "$('div#ec1cad03-9fed-4416-ba7b-d64aae9eb0dc').text('  9%');"
       ],
       "metadata": {},
       "output_type": "display_data",
       "text": [
        "<IPython.core.display.Javascript at 0x1ffa1278>"
       ]
      },
      {
       "javascript": [
        "\n",
        "        var $myPB = $(\"div#cced99e4-9493-4925-a6af-e935904ae291\")\n",
        "        if ($myPB.hasClass('ui-progressbar')) {\n",
        "            $myPB.progressbar('value', 90);\n",
        "        } else {\n",
        "            $myPB.progressbar({value: 0, max: 1000});\n",
        "        }\n",
        "        "
       ],
       "metadata": {},
       "output_type": "display_data",
       "text": [
        "<IPython.core.display.Javascript at 0x1a09b4e0>"
       ]
      },
      {
       "javascript": [
        "$('div#7b44511c-11f3-4261-9703-602ef9399934').text('ETA:  0:00:00');"
       ],
       "metadata": {},
       "output_type": "display_data",
       "text": [
        "<IPython.core.display.Javascript at 0x16b46208>"
       ]
      },
      {
       "javascript": [
        "$('div#27a53f44-ad4e-4de7-9e75-fe64fd72d14b').text('100 of 1000');"
       ],
       "metadata": {},
       "output_type": "display_data",
       "text": [
        "<IPython.core.display.Javascript at 0x1c8a00f0>"
       ]
      },
      {
       "javascript": [
        "$('div#ec1cad03-9fed-4416-ba7b-d64aae9eb0dc').text(' 10%');"
       ],
       "metadata": {},
       "output_type": "display_data",
       "text": [
        "<IPython.core.display.Javascript at 0x1ffa1278>"
       ]
      },
      {
       "javascript": [
        "\n",
        "        var $myPB = $(\"div#cced99e4-9493-4925-a6af-e935904ae291\")\n",
        "        if ($myPB.hasClass('ui-progressbar')) {\n",
        "            $myPB.progressbar('value', 100);\n",
        "        } else {\n",
        "            $myPB.progressbar({value: 0, max: 1000});\n",
        "        }\n",
        "        "
       ],
       "metadata": {},
       "output_type": "display_data",
       "text": [
        "<IPython.core.display.Javascript at 0x16b46208>"
       ]
      },
      {
       "javascript": [
        "$('div#7b44511c-11f3-4261-9703-602ef9399934').text('ETA:  0:00:00');"
       ],
       "metadata": {},
       "output_type": "display_data",
       "text": [
        "<IPython.core.display.Javascript at 0x1a09b4e0>"
       ]
      },
      {
       "javascript": [
        "$('div#27a53f44-ad4e-4de7-9e75-fe64fd72d14b').text('110 of 1000');"
       ],
       "metadata": {},
       "output_type": "display_data",
       "text": [
        "<IPython.core.display.Javascript at 0x1ffa1278>"
       ]
      },
      {
       "javascript": [
        "$('div#ec1cad03-9fed-4416-ba7b-d64aae9eb0dc').text(' 11%');"
       ],
       "metadata": {},
       "output_type": "display_data",
       "text": [
        "<IPython.core.display.Javascript at 0x1ffa1e80>"
       ]
      },
      {
       "javascript": [
        "\n",
        "        var $myPB = $(\"div#cced99e4-9493-4925-a6af-e935904ae291\")\n",
        "        if ($myPB.hasClass('ui-progressbar')) {\n",
        "            $myPB.progressbar('value', 110);\n",
        "        } else {\n",
        "            $myPB.progressbar({value: 0, max: 1000});\n",
        "        }\n",
        "        "
       ],
       "metadata": {},
       "output_type": "display_data",
       "text": [
        "<IPython.core.display.Javascript at 0x16b46208>"
       ]
      },
      {
       "javascript": [
        "$('div#7b44511c-11f3-4261-9703-602ef9399934').text('ETA:  0:00:00');"
       ],
       "metadata": {},
       "output_type": "display_data",
       "text": [
        "<IPython.core.display.Javascript at 0x1a09b4e0>"
       ]
      },
      {
       "javascript": [
        "$('div#27a53f44-ad4e-4de7-9e75-fe64fd72d14b').text('120 of 1000');"
       ],
       "metadata": {},
       "output_type": "display_data",
       "text": [
        "<IPython.core.display.Javascript at 0x1ffa1da0>"
       ]
      },
      {
       "javascript": [
        "$('div#ec1cad03-9fed-4416-ba7b-d64aae9eb0dc').text(' 12%');"
       ],
       "metadata": {},
       "output_type": "display_data",
       "text": [
        "<IPython.core.display.Javascript at 0x1ffa1e80>"
       ]
      },
      {
       "javascript": [
        "\n",
        "        var $myPB = $(\"div#cced99e4-9493-4925-a6af-e935904ae291\")\n",
        "        if ($myPB.hasClass('ui-progressbar')) {\n",
        "            $myPB.progressbar('value', 120);\n",
        "        } else {\n",
        "            $myPB.progressbar({value: 0, max: 1000});\n",
        "        }\n",
        "        "
       ],
       "metadata": {},
       "output_type": "display_data",
       "text": [
        "<IPython.core.display.Javascript at 0x16b46208>"
       ]
      },
      {
       "javascript": [
        "$('div#7b44511c-11f3-4261-9703-602ef9399934').text('ETA:  0:00:00');"
       ],
       "metadata": {},
       "output_type": "display_data",
       "text": [
        "<IPython.core.display.Javascript at 0x1a09b4e0>"
       ]
      },
      {
       "javascript": [
        "$('div#27a53f44-ad4e-4de7-9e75-fe64fd72d14b').text('130 of 1000');"
       ],
       "metadata": {},
       "output_type": "display_data",
       "text": [
        "<IPython.core.display.Javascript at 0x1ffa1e80>"
       ]
      },
      {
       "javascript": [
        "$('div#ec1cad03-9fed-4416-ba7b-d64aae9eb0dc').text(' 13%');"
       ],
       "metadata": {},
       "output_type": "display_data",
       "text": [
        "<IPython.core.display.Javascript at 0x1ffa1860>"
       ]
      },
      {
       "javascript": [
        "\n",
        "        var $myPB = $(\"div#cced99e4-9493-4925-a6af-e935904ae291\")\n",
        "        if ($myPB.hasClass('ui-progressbar')) {\n",
        "            $myPB.progressbar('value', 130);\n",
        "        } else {\n",
        "            $myPB.progressbar({value: 0, max: 1000});\n",
        "        }\n",
        "        "
       ],
       "metadata": {},
       "output_type": "display_data",
       "text": [
        "<IPython.core.display.Javascript at 0x16b46208>"
       ]
      },
      {
       "javascript": [
        "$('div#7b44511c-11f3-4261-9703-602ef9399934').text('ETA:  0:00:00');"
       ],
       "metadata": {},
       "output_type": "display_data",
       "text": [
        "<IPython.core.display.Javascript at 0x1a09b4e0>"
       ]
      },
      {
       "javascript": [
        "$('div#27a53f44-ad4e-4de7-9e75-fe64fd72d14b').text('140 of 1000');"
       ],
       "metadata": {},
       "output_type": "display_data",
       "text": [
        "<IPython.core.display.Javascript at 0x1ffa1588>"
       ]
      },
      {
       "javascript": [
        "$('div#ec1cad03-9fed-4416-ba7b-d64aae9eb0dc').text(' 14%');"
       ],
       "metadata": {},
       "output_type": "display_data",
       "text": [
        "<IPython.core.display.Javascript at 0x1ffa1860>"
       ]
      },
      {
       "javascript": [
        "\n",
        "        var $myPB = $(\"div#cced99e4-9493-4925-a6af-e935904ae291\")\n",
        "        if ($myPB.hasClass('ui-progressbar')) {\n",
        "            $myPB.progressbar('value', 140);\n",
        "        } else {\n",
        "            $myPB.progressbar({value: 0, max: 1000});\n",
        "        }\n",
        "        "
       ],
       "metadata": {},
       "output_type": "display_data",
       "text": [
        "<IPython.core.display.Javascript at 0x16b46208>"
       ]
      },
      {
       "javascript": [
        "$('div#7b44511c-11f3-4261-9703-602ef9399934').text('ETA:  0:00:00');"
       ],
       "metadata": {},
       "output_type": "display_data",
       "text": [
        "<IPython.core.display.Javascript at 0x1a09b4e0>"
       ]
      },
      {
       "javascript": [
        "$('div#27a53f44-ad4e-4de7-9e75-fe64fd72d14b').text('150 of 1000');"
       ],
       "metadata": {},
       "output_type": "display_data",
       "text": [
        "<IPython.core.display.Javascript at 0x1ffa1278>"
       ]
      },
      {
       "javascript": [
        "$('div#ec1cad03-9fed-4416-ba7b-d64aae9eb0dc').text(' 15%');"
       ],
       "metadata": {},
       "output_type": "display_data",
       "text": [
        "<IPython.core.display.Javascript at 0x1ffa14e0>"
       ]
      },
      {
       "javascript": [
        "\n",
        "        var $myPB = $(\"div#cced99e4-9493-4925-a6af-e935904ae291\")\n",
        "        if ($myPB.hasClass('ui-progressbar')) {\n",
        "            $myPB.progressbar('value', 150);\n",
        "        } else {\n",
        "            $myPB.progressbar({value: 0, max: 1000});\n",
        "        }\n",
        "        "
       ],
       "metadata": {},
       "output_type": "display_data",
       "text": [
        "<IPython.core.display.Javascript at 0x16b46208>"
       ]
      },
      {
       "javascript": [
        "$('div#7b44511c-11f3-4261-9703-602ef9399934').text('ETA:  0:00:00');"
       ],
       "metadata": {},
       "output_type": "display_data",
       "text": [
        "<IPython.core.display.Javascript at 0x1a09b4e0>"
       ]
      },
      {
       "javascript": [
        "$('div#27a53f44-ad4e-4de7-9e75-fe64fd72d14b').text('160 of 1000');"
       ],
       "metadata": {},
       "output_type": "display_data",
       "text": [
        "<IPython.core.display.Javascript at 0x1ffa1e80>"
       ]
      },
      {
       "javascript": [
        "$('div#ec1cad03-9fed-4416-ba7b-d64aae9eb0dc').text(' 16%');"
       ],
       "metadata": {},
       "output_type": "display_data",
       "text": [
        "<IPython.core.display.Javascript at 0x1ffa1b38>"
       ]
      },
      {
       "javascript": [
        "\n",
        "        var $myPB = $(\"div#cced99e4-9493-4925-a6af-e935904ae291\")\n",
        "        if ($myPB.hasClass('ui-progressbar')) {\n",
        "            $myPB.progressbar('value', 160);\n",
        "        } else {\n",
        "            $myPB.progressbar({value: 0, max: 1000});\n",
        "        }\n",
        "        "
       ],
       "metadata": {},
       "output_type": "display_data",
       "text": [
        "<IPython.core.display.Javascript at 0x16b46208>"
       ]
      },
      {
       "javascript": [
        "$('div#7b44511c-11f3-4261-9703-602ef9399934').text('ETA:  0:00:00');"
       ],
       "metadata": {},
       "output_type": "display_data",
       "text": [
        "<IPython.core.display.Javascript at 0x1a09b4e0>"
       ]
      },
      {
       "javascript": [
        "$('div#27a53f44-ad4e-4de7-9e75-fe64fd72d14b').text('170 of 1000');"
       ],
       "metadata": {},
       "output_type": "display_data",
       "text": [
        "<IPython.core.display.Javascript at 0x1ffa1da0>"
       ]
      },
      {
       "javascript": [
        "$('div#ec1cad03-9fed-4416-ba7b-d64aae9eb0dc').text(' 17%');"
       ],
       "metadata": {},
       "output_type": "display_data",
       "text": [
        "<IPython.core.display.Javascript at 0x1ffa1b38>"
       ]
      },
      {
       "javascript": [
        "\n",
        "        var $myPB = $(\"div#cced99e4-9493-4925-a6af-e935904ae291\")\n",
        "        if ($myPB.hasClass('ui-progressbar')) {\n",
        "            $myPB.progressbar('value', 170);\n",
        "        } else {\n",
        "            $myPB.progressbar({value: 0, max: 1000});\n",
        "        }\n",
        "        "
       ],
       "metadata": {},
       "output_type": "display_data",
       "text": [
        "<IPython.core.display.Javascript at 0x16b46208>"
       ]
      },
      {
       "javascript": [
        "$('div#7b44511c-11f3-4261-9703-602ef9399934').text('ETA:  0:00:00');"
       ],
       "metadata": {},
       "output_type": "display_data",
       "text": [
        "<IPython.core.display.Javascript at 0x1a09b4e0>"
       ]
      },
      {
       "javascript": [
        "$('div#27a53f44-ad4e-4de7-9e75-fe64fd72d14b').text('180 of 1000');"
       ],
       "metadata": {},
       "output_type": "display_data",
       "text": [
        "<IPython.core.display.Javascript at 0x1ffa15c0>"
       ]
      },
      {
       "javascript": [
        "$('div#ec1cad03-9fed-4416-ba7b-d64aae9eb0dc').text(' 18%');"
       ],
       "metadata": {},
       "output_type": "display_data",
       "text": [
        "<IPython.core.display.Javascript at 0x1ffa1b38>"
       ]
      },
      {
       "javascript": [
        "\n",
        "        var $myPB = $(\"div#cced99e4-9493-4925-a6af-e935904ae291\")\n",
        "        if ($myPB.hasClass('ui-progressbar')) {\n",
        "            $myPB.progressbar('value', 180);\n",
        "        } else {\n",
        "            $myPB.progressbar({value: 0, max: 1000});\n",
        "        }\n",
        "        "
       ],
       "metadata": {},
       "output_type": "display_data",
       "text": [
        "<IPython.core.display.Javascript at 0x16b46208>"
       ]
      },
      {
       "javascript": [
        "$('div#7b44511c-11f3-4261-9703-602ef9399934').text('ETA:  0:00:00');"
       ],
       "metadata": {},
       "output_type": "display_data",
       "text": [
        "<IPython.core.display.Javascript at 0x1a09b4e0>"
       ]
      },
      {
       "javascript": [
        "$('div#27a53f44-ad4e-4de7-9e75-fe64fd72d14b').text('190 of 1000');"
       ],
       "metadata": {},
       "output_type": "display_data",
       "text": [
        "<IPython.core.display.Javascript at 0x1ffa17f0>"
       ]
      },
      {
       "javascript": [
        "$('div#ec1cad03-9fed-4416-ba7b-d64aae9eb0dc').text(' 19%');"
       ],
       "metadata": {},
       "output_type": "display_data",
       "text": [
        "<IPython.core.display.Javascript at 0x1ffa1b38>"
       ]
      },
      {
       "javascript": [
        "\n",
        "        var $myPB = $(\"div#cced99e4-9493-4925-a6af-e935904ae291\")\n",
        "        if ($myPB.hasClass('ui-progressbar')) {\n",
        "            $myPB.progressbar('value', 190);\n",
        "        } else {\n",
        "            $myPB.progressbar({value: 0, max: 1000});\n",
        "        }\n",
        "        "
       ],
       "metadata": {},
       "output_type": "display_data",
       "text": [
        "<IPython.core.display.Javascript at 0x16b46208>"
       ]
      },
      {
       "javascript": [
        "$('div#7b44511c-11f3-4261-9703-602ef9399934').text('ETA:  0:00:00');"
       ],
       "metadata": {},
       "output_type": "display_data",
       "text": [
        "<IPython.core.display.Javascript at 0x1a09b4e0>"
       ]
      },
      {
       "javascript": [
        "$('div#27a53f44-ad4e-4de7-9e75-fe64fd72d14b').text('200 of 1000');"
       ],
       "metadata": {},
       "output_type": "display_data",
       "text": [
        "<IPython.core.display.Javascript at 0x1ffa12e8>"
       ]
      },
      {
       "javascript": [
        "$('div#ec1cad03-9fed-4416-ba7b-d64aae9eb0dc').text(' 20%');"
       ],
       "metadata": {},
       "output_type": "display_data",
       "text": [
        "<IPython.core.display.Javascript at 0x1ffa1b38>"
       ]
      },
      {
       "javascript": [
        "\n",
        "        var $myPB = $(\"div#cced99e4-9493-4925-a6af-e935904ae291\")\n",
        "        if ($myPB.hasClass('ui-progressbar')) {\n",
        "            $myPB.progressbar('value', 200);\n",
        "        } else {\n",
        "            $myPB.progressbar({value: 0, max: 1000});\n",
        "        }\n",
        "        "
       ],
       "metadata": {},
       "output_type": "display_data",
       "text": [
        "<IPython.core.display.Javascript at 0x16b46208>"
       ]
      },
      {
       "javascript": [
        "$('div#7b44511c-11f3-4261-9703-602ef9399934').text('ETA:  0:00:00');"
       ],
       "metadata": {},
       "output_type": "display_data",
       "text": [
        "<IPython.core.display.Javascript at 0x1a09b4e0>"
       ]
      },
      {
       "javascript": [
        "$('div#27a53f44-ad4e-4de7-9e75-fe64fd72d14b').text('210 of 1000');"
       ],
       "metadata": {},
       "output_type": "display_data",
       "text": [
        "<IPython.core.display.Javascript at 0x1ffa1b38>"
       ]
      },
      {
       "javascript": [
        "$('div#ec1cad03-9fed-4416-ba7b-d64aae9eb0dc').text(' 21%');"
       ],
       "metadata": {},
       "output_type": "display_data",
       "text": [
        "<IPython.core.display.Javascript at 0x1ffa1e80>"
       ]
      },
      {
       "javascript": [
        "\n",
        "        var $myPB = $(\"div#cced99e4-9493-4925-a6af-e935904ae291\")\n",
        "        if ($myPB.hasClass('ui-progressbar')) {\n",
        "            $myPB.progressbar('value', 210);\n",
        "        } else {\n",
        "            $myPB.progressbar({value: 0, max: 1000});\n",
        "        }\n",
        "        "
       ],
       "metadata": {},
       "output_type": "display_data",
       "text": [
        "<IPython.core.display.Javascript at 0x16b46208>"
       ]
      },
      {
       "javascript": [
        "$('div#7b44511c-11f3-4261-9703-602ef9399934').text('ETA:  0:00:00');"
       ],
       "metadata": {},
       "output_type": "display_data",
       "text": [
        "<IPython.core.display.Javascript at 0x1a09b4e0>"
       ]
      },
      {
       "javascript": [
        "$('div#27a53f44-ad4e-4de7-9e75-fe64fd72d14b').text('220 of 1000');"
       ],
       "metadata": {},
       "output_type": "display_data",
       "text": [
        "<IPython.core.display.Javascript at 0x1ffa1278>"
       ]
      },
      {
       "javascript": [
        "$('div#ec1cad03-9fed-4416-ba7b-d64aae9eb0dc').text(' 22%');"
       ],
       "metadata": {},
       "output_type": "display_data",
       "text": [
        "<IPython.core.display.Javascript at 0x1ffa1e80>"
       ]
      },
      {
       "javascript": [
        "\n",
        "        var $myPB = $(\"div#cced99e4-9493-4925-a6af-e935904ae291\")\n",
        "        if ($myPB.hasClass('ui-progressbar')) {\n",
        "            $myPB.progressbar('value', 220);\n",
        "        } else {\n",
        "            $myPB.progressbar({value: 0, max: 1000});\n",
        "        }\n",
        "        "
       ],
       "metadata": {},
       "output_type": "display_data",
       "text": [
        "<IPython.core.display.Javascript at 0x16b46208>"
       ]
      },
      {
       "javascript": [
        "$('div#7b44511c-11f3-4261-9703-602ef9399934').text('ETA:  0:00:00');"
       ],
       "metadata": {},
       "output_type": "display_data",
       "text": [
        "<IPython.core.display.Javascript at 0x1a09b4e0>"
       ]
      },
      {
       "javascript": [
        "$('div#27a53f44-ad4e-4de7-9e75-fe64fd72d14b').text('230 of 1000');"
       ],
       "metadata": {},
       "output_type": "display_data",
       "text": [
        "<IPython.core.display.Javascript at 0x1ffa15c0>"
       ]
      },
      {
       "javascript": [
        "$('div#ec1cad03-9fed-4416-ba7b-d64aae9eb0dc').text(' 23%');"
       ],
       "metadata": {},
       "output_type": "display_data",
       "text": [
        "<IPython.core.display.Javascript at 0x1ffa1588>"
       ]
      },
      {
       "javascript": [
        "\n",
        "        var $myPB = $(\"div#cced99e4-9493-4925-a6af-e935904ae291\")\n",
        "        if ($myPB.hasClass('ui-progressbar')) {\n",
        "            $myPB.progressbar('value', 230);\n",
        "        } else {\n",
        "            $myPB.progressbar({value: 0, max: 1000});\n",
        "        }\n",
        "        "
       ],
       "metadata": {},
       "output_type": "display_data",
       "text": [
        "<IPython.core.display.Javascript at 0x16b46208>"
       ]
      },
      {
       "javascript": [
        "$('div#7b44511c-11f3-4261-9703-602ef9399934').text('ETA:  0:00:00');"
       ],
       "metadata": {},
       "output_type": "display_data",
       "text": [
        "<IPython.core.display.Javascript at 0x1a09b4e0>"
       ]
      },
      {
       "javascript": [
        "$('div#27a53f44-ad4e-4de7-9e75-fe64fd72d14b').text('240 of 1000');"
       ],
       "metadata": {},
       "output_type": "display_data",
       "text": [
        "<IPython.core.display.Javascript at 0x1ffa1da0>"
       ]
      },
      {
       "javascript": [
        "$('div#ec1cad03-9fed-4416-ba7b-d64aae9eb0dc').text(' 24%');"
       ],
       "metadata": {},
       "output_type": "display_data",
       "text": [
        "<IPython.core.display.Javascript at 0x1ffa1b38>"
       ]
      },
      {
       "javascript": [
        "\n",
        "        var $myPB = $(\"div#cced99e4-9493-4925-a6af-e935904ae291\")\n",
        "        if ($myPB.hasClass('ui-progressbar')) {\n",
        "            $myPB.progressbar('value', 240);\n",
        "        } else {\n",
        "            $myPB.progressbar({value: 0, max: 1000});\n",
        "        }\n",
        "        "
       ],
       "metadata": {},
       "output_type": "display_data",
       "text": [
        "<IPython.core.display.Javascript at 0x16b46208>"
       ]
      },
      {
       "javascript": [
        "$('div#7b44511c-11f3-4261-9703-602ef9399934').text('ETA:  0:00:00');"
       ],
       "metadata": {},
       "output_type": "display_data",
       "text": [
        "<IPython.core.display.Javascript at 0x1a09b4e0>"
       ]
      },
      {
       "javascript": [
        "$('div#27a53f44-ad4e-4de7-9e75-fe64fd72d14b').text('250 of 1000');"
       ],
       "metadata": {},
       "output_type": "display_data",
       "text": [
        "<IPython.core.display.Javascript at 0x1ffa1b38>"
       ]
      },
      {
       "javascript": [
        "$('div#ec1cad03-9fed-4416-ba7b-d64aae9eb0dc').text(' 25%');"
       ],
       "metadata": {},
       "output_type": "display_data",
       "text": [
        "<IPython.core.display.Javascript at 0x1ffa15c0>"
       ]
      },
      {
       "javascript": [
        "\n",
        "        var $myPB = $(\"div#cced99e4-9493-4925-a6af-e935904ae291\")\n",
        "        if ($myPB.hasClass('ui-progressbar')) {\n",
        "            $myPB.progressbar('value', 250);\n",
        "        } else {\n",
        "            $myPB.progressbar({value: 0, max: 1000});\n",
        "        }\n",
        "        "
       ],
       "metadata": {},
       "output_type": "display_data",
       "text": [
        "<IPython.core.display.Javascript at 0x16b46208>"
       ]
      },
      {
       "javascript": [
        "$('div#7b44511c-11f3-4261-9703-602ef9399934').text('ETA:  0:00:00');"
       ],
       "metadata": {},
       "output_type": "display_data",
       "text": [
        "<IPython.core.display.Javascript at 0x1a09b4e0>"
       ]
      },
      {
       "javascript": [
        "$('div#27a53f44-ad4e-4de7-9e75-fe64fd72d14b').text('260 of 1000');"
       ],
       "metadata": {},
       "output_type": "display_data",
       "text": [
        "<IPython.core.display.Javascript at 0x1ffa17b8>"
       ]
      },
      {
       "javascript": [
        "$('div#ec1cad03-9fed-4416-ba7b-d64aae9eb0dc').text(' 26%');"
       ],
       "metadata": {},
       "output_type": "display_data",
       "text": [
        "<IPython.core.display.Javascript at 0x1ffa1dd8>"
       ]
      },
      {
       "javascript": [
        "\n",
        "        var $myPB = $(\"div#cced99e4-9493-4925-a6af-e935904ae291\")\n",
        "        if ($myPB.hasClass('ui-progressbar')) {\n",
        "            $myPB.progressbar('value', 260);\n",
        "        } else {\n",
        "            $myPB.progressbar({value: 0, max: 1000});\n",
        "        }\n",
        "        "
       ],
       "metadata": {},
       "output_type": "display_data",
       "text": [
        "<IPython.core.display.Javascript at 0x16b46208>"
       ]
      },
      {
       "javascript": [
        "$('div#7b44511c-11f3-4261-9703-602ef9399934').text('ETA:  0:00:00');"
       ],
       "metadata": {},
       "output_type": "display_data",
       "text": [
        "<IPython.core.display.Javascript at 0x1a09b4e0>"
       ]
      },
      {
       "javascript": [
        "$('div#27a53f44-ad4e-4de7-9e75-fe64fd72d14b').text('270 of 1000');"
       ],
       "metadata": {},
       "output_type": "display_data",
       "text": [
        "<IPython.core.display.Javascript at 0x1ffa1dd8>"
       ]
      },
      {
       "javascript": [
        "$('div#ec1cad03-9fed-4416-ba7b-d64aae9eb0dc').text(' 27%');"
       ],
       "metadata": {},
       "output_type": "display_data",
       "text": [
        "<IPython.core.display.Javascript at 0x1ffa1b38>"
       ]
      },
      {
       "javascript": [
        "\n",
        "        var $myPB = $(\"div#cced99e4-9493-4925-a6af-e935904ae291\")\n",
        "        if ($myPB.hasClass('ui-progressbar')) {\n",
        "            $myPB.progressbar('value', 270);\n",
        "        } else {\n",
        "            $myPB.progressbar({value: 0, max: 1000});\n",
        "        }\n",
        "        "
       ],
       "metadata": {},
       "output_type": "display_data",
       "text": [
        "<IPython.core.display.Javascript at 0x16b46208>"
       ]
      },
      {
       "javascript": [
        "$('div#7b44511c-11f3-4261-9703-602ef9399934').text('ETA:  0:00:00');"
       ],
       "metadata": {},
       "output_type": "display_data",
       "text": [
        "<IPython.core.display.Javascript at 0x1a09b4e0>"
       ]
      },
      {
       "javascript": [
        "$('div#27a53f44-ad4e-4de7-9e75-fe64fd72d14b').text('280 of 1000');"
       ],
       "metadata": {},
       "output_type": "display_data",
       "text": [
        "<IPython.core.display.Javascript at 0x1ffa1b38>"
       ]
      },
      {
       "javascript": [
        "$('div#ec1cad03-9fed-4416-ba7b-d64aae9eb0dc').text(' 28%');"
       ],
       "metadata": {},
       "output_type": "display_data",
       "text": [
        "<IPython.core.display.Javascript at 0x1ffa1828>"
       ]
      },
      {
       "javascript": [
        "\n",
        "        var $myPB = $(\"div#cced99e4-9493-4925-a6af-e935904ae291\")\n",
        "        if ($myPB.hasClass('ui-progressbar')) {\n",
        "            $myPB.progressbar('value', 280);\n",
        "        } else {\n",
        "            $myPB.progressbar({value: 0, max: 1000});\n",
        "        }\n",
        "        "
       ],
       "metadata": {},
       "output_type": "display_data",
       "text": [
        "<IPython.core.display.Javascript at 0x16b46208>"
       ]
      },
      {
       "javascript": [
        "$('div#7b44511c-11f3-4261-9703-602ef9399934').text('ETA:  0:00:00');"
       ],
       "metadata": {},
       "output_type": "display_data",
       "text": [
        "<IPython.core.display.Javascript at 0x1a09b4e0>"
       ]
      },
      {
       "javascript": [
        "$('div#27a53f44-ad4e-4de7-9e75-fe64fd72d14b').text('290 of 1000');"
       ],
       "metadata": {},
       "output_type": "display_data",
       "text": [
        "<IPython.core.display.Javascript at 0x1ffa1828>"
       ]
      },
      {
       "javascript": [
        "$('div#ec1cad03-9fed-4416-ba7b-d64aae9eb0dc').text(' 29%');"
       ],
       "metadata": {},
       "output_type": "display_data",
       "text": [
        "<IPython.core.display.Javascript at 0x1ffa17b8>"
       ]
      },
      {
       "javascript": [
        "\n",
        "        var $myPB = $(\"div#cced99e4-9493-4925-a6af-e935904ae291\")\n",
        "        if ($myPB.hasClass('ui-progressbar')) {\n",
        "            $myPB.progressbar('value', 290);\n",
        "        } else {\n",
        "            $myPB.progressbar({value: 0, max: 1000});\n",
        "        }\n",
        "        "
       ],
       "metadata": {},
       "output_type": "display_data",
       "text": [
        "<IPython.core.display.Javascript at 0x16b46208>"
       ]
      },
      {
       "javascript": [
        "$('div#7b44511c-11f3-4261-9703-602ef9399934').text('ETA:  0:00:00');"
       ],
       "metadata": {},
       "output_type": "display_data",
       "text": [
        "<IPython.core.display.Javascript at 0x1a09b4e0>"
       ]
      },
      {
       "javascript": [
        "$('div#27a53f44-ad4e-4de7-9e75-fe64fd72d14b').text('300 of 1000');"
       ],
       "metadata": {},
       "output_type": "display_data",
       "text": [
        "<IPython.core.display.Javascript at 0x1ffa17b8>"
       ]
      },
      {
       "javascript": [
        "$('div#ec1cad03-9fed-4416-ba7b-d64aae9eb0dc').text(' 30%');"
       ],
       "metadata": {},
       "output_type": "display_data",
       "text": [
        "<IPython.core.display.Javascript at 0x1ffa1dd8>"
       ]
      },
      {
       "javascript": [
        "\n",
        "        var $myPB = $(\"div#cced99e4-9493-4925-a6af-e935904ae291\")\n",
        "        if ($myPB.hasClass('ui-progressbar')) {\n",
        "            $myPB.progressbar('value', 300);\n",
        "        } else {\n",
        "            $myPB.progressbar({value: 0, max: 1000});\n",
        "        }\n",
        "        "
       ],
       "metadata": {},
       "output_type": "display_data",
       "text": [
        "<IPython.core.display.Javascript at 0x16b46208>"
       ]
      },
      {
       "javascript": [
        "$('div#7b44511c-11f3-4261-9703-602ef9399934').text('ETA:  0:00:00');"
       ],
       "metadata": {},
       "output_type": "display_data",
       "text": [
        "<IPython.core.display.Javascript at 0x1a09b4e0>"
       ]
      },
      {
       "javascript": [
        "$('div#27a53f44-ad4e-4de7-9e75-fe64fd72d14b').text('310 of 1000');"
       ],
       "metadata": {},
       "output_type": "display_data",
       "text": [
        "<IPython.core.display.Javascript at 0x1ffa1b00>"
       ]
      },
      {
       "javascript": [
        "$('div#ec1cad03-9fed-4416-ba7b-d64aae9eb0dc').text(' 31%');"
       ],
       "metadata": {},
       "output_type": "display_data",
       "text": [
        "<IPython.core.display.Javascript at 0x1ffa1dd8>"
       ]
      },
      {
       "javascript": [
        "\n",
        "        var $myPB = $(\"div#cced99e4-9493-4925-a6af-e935904ae291\")\n",
        "        if ($myPB.hasClass('ui-progressbar')) {\n",
        "            $myPB.progressbar('value', 310);\n",
        "        } else {\n",
        "            $myPB.progressbar({value: 0, max: 1000});\n",
        "        }\n",
        "        "
       ],
       "metadata": {},
       "output_type": "display_data",
       "text": [
        "<IPython.core.display.Javascript at 0x16b46208>"
       ]
      },
      {
       "javascript": [
        "$('div#7b44511c-11f3-4261-9703-602ef9399934').text('ETA:  0:00:00');"
       ],
       "metadata": {},
       "output_type": "display_data",
       "text": [
        "<IPython.core.display.Javascript at 0x1a09b4e0>"
       ]
      },
      {
       "javascript": [
        "$('div#27a53f44-ad4e-4de7-9e75-fe64fd72d14b').text('320 of 1000');"
       ],
       "metadata": {},
       "output_type": "display_data",
       "text": [
        "<IPython.core.display.Javascript at 0x1ffa12b0>"
       ]
      },
      {
       "javascript": [
        "$('div#ec1cad03-9fed-4416-ba7b-d64aae9eb0dc').text(' 32%');"
       ],
       "metadata": {},
       "output_type": "display_data",
       "text": [
        "<IPython.core.display.Javascript at 0x1ffa1dd8>"
       ]
      },
      {
       "javascript": [
        "\n",
        "        var $myPB = $(\"div#cced99e4-9493-4925-a6af-e935904ae291\")\n",
        "        if ($myPB.hasClass('ui-progressbar')) {\n",
        "            $myPB.progressbar('value', 320);\n",
        "        } else {\n",
        "            $myPB.progressbar({value: 0, max: 1000});\n",
        "        }\n",
        "        "
       ],
       "metadata": {},
       "output_type": "display_data",
       "text": [
        "<IPython.core.display.Javascript at 0x16b46208>"
       ]
      },
      {
       "javascript": [
        "$('div#7b44511c-11f3-4261-9703-602ef9399934').text('ETA:  0:00:00');"
       ],
       "metadata": {},
       "output_type": "display_data",
       "text": [
        "<IPython.core.display.Javascript at 0x1a09b4e0>"
       ]
      },
      {
       "javascript": [
        "$('div#27a53f44-ad4e-4de7-9e75-fe64fd72d14b').text('330 of 1000');"
       ],
       "metadata": {},
       "output_type": "display_data",
       "text": [
        "<IPython.core.display.Javascript at 0x1ffa1ba8>"
       ]
      },
      {
       "javascript": [
        "$('div#ec1cad03-9fed-4416-ba7b-d64aae9eb0dc').text(' 33%');"
       ],
       "metadata": {},
       "output_type": "display_data",
       "text": [
        "<IPython.core.display.Javascript at 0x1ffa1f60>"
       ]
      },
      {
       "javascript": [
        "\n",
        "        var $myPB = $(\"div#cced99e4-9493-4925-a6af-e935904ae291\")\n",
        "        if ($myPB.hasClass('ui-progressbar')) {\n",
        "            $myPB.progressbar('value', 330);\n",
        "        } else {\n",
        "            $myPB.progressbar({value: 0, max: 1000});\n",
        "        }\n",
        "        "
       ],
       "metadata": {},
       "output_type": "display_data",
       "text": [
        "<IPython.core.display.Javascript at 0x16b46208>"
       ]
      },
      {
       "javascript": [
        "$('div#7b44511c-11f3-4261-9703-602ef9399934').text('ETA:  0:00:00');"
       ],
       "metadata": {},
       "output_type": "display_data",
       "text": [
        "<IPython.core.display.Javascript at 0x1a09b4e0>"
       ]
      },
      {
       "javascript": [
        "$('div#27a53f44-ad4e-4de7-9e75-fe64fd72d14b').text('340 of 1000');"
       ],
       "metadata": {},
       "output_type": "display_data",
       "text": [
        "<IPython.core.display.Javascript at 0x1ffa1da0>"
       ]
      },
      {
       "javascript": [
        "$('div#ec1cad03-9fed-4416-ba7b-d64aae9eb0dc').text(' 34%');"
       ],
       "metadata": {},
       "output_type": "display_data",
       "text": [
        "<IPython.core.display.Javascript at 0x1ffa1b00>"
       ]
      },
      {
       "javascript": [
        "\n",
        "        var $myPB = $(\"div#cced99e4-9493-4925-a6af-e935904ae291\")\n",
        "        if ($myPB.hasClass('ui-progressbar')) {\n",
        "            $myPB.progressbar('value', 340);\n",
        "        } else {\n",
        "            $myPB.progressbar({value: 0, max: 1000});\n",
        "        }\n",
        "        "
       ],
       "metadata": {},
       "output_type": "display_data",
       "text": [
        "<IPython.core.display.Javascript at 0x16b46208>"
       ]
      },
      {
       "javascript": [
        "$('div#7b44511c-11f3-4261-9703-602ef9399934').text('ETA:  0:00:00');"
       ],
       "metadata": {},
       "output_type": "display_data",
       "text": [
        "<IPython.core.display.Javascript at 0x1a09b4e0>"
       ]
      },
      {
       "javascript": [
        "$('div#27a53f44-ad4e-4de7-9e75-fe64fd72d14b').text('350 of 1000');"
       ],
       "metadata": {},
       "output_type": "display_data",
       "text": [
        "<IPython.core.display.Javascript at 0x1ffa1b00>"
       ]
      },
      {
       "javascript": [
        "$('div#ec1cad03-9fed-4416-ba7b-d64aae9eb0dc').text(' 35%');"
       ],
       "metadata": {},
       "output_type": "display_data",
       "text": [
        "<IPython.core.display.Javascript at 0x1ffa1ba8>"
       ]
      },
      {
       "javascript": [
        "\n",
        "        var $myPB = $(\"div#cced99e4-9493-4925-a6af-e935904ae291\")\n",
        "        if ($myPB.hasClass('ui-progressbar')) {\n",
        "            $myPB.progressbar('value', 350);\n",
        "        } else {\n",
        "            $myPB.progressbar({value: 0, max: 1000});\n",
        "        }\n",
        "        "
       ],
       "metadata": {},
       "output_type": "display_data",
       "text": [
        "<IPython.core.display.Javascript at 0x16b46208>"
       ]
      },
      {
       "javascript": [
        "$('div#7b44511c-11f3-4261-9703-602ef9399934').text('ETA:  0:00:00');"
       ],
       "metadata": {},
       "output_type": "display_data",
       "text": [
        "<IPython.core.display.Javascript at 0x1a09b4e0>"
       ]
      },
      {
       "javascript": [
        "$('div#27a53f44-ad4e-4de7-9e75-fe64fd72d14b').text('360 of 1000');"
       ],
       "metadata": {},
       "output_type": "display_data",
       "text": [
        "<IPython.core.display.Javascript at 0x1ffa17b8>"
       ]
      },
      {
       "javascript": [
        "$('div#ec1cad03-9fed-4416-ba7b-d64aae9eb0dc').text(' 36%');"
       ],
       "metadata": {},
       "output_type": "display_data",
       "text": [
        "<IPython.core.display.Javascript at 0x1ffa13c8>"
       ]
      },
      {
       "javascript": [
        "\n",
        "        var $myPB = $(\"div#cced99e4-9493-4925-a6af-e935904ae291\")\n",
        "        if ($myPB.hasClass('ui-progressbar')) {\n",
        "            $myPB.progressbar('value', 360);\n",
        "        } else {\n",
        "            $myPB.progressbar({value: 0, max: 1000});\n",
        "        }\n",
        "        "
       ],
       "metadata": {},
       "output_type": "display_data",
       "text": [
        "<IPython.core.display.Javascript at 0x16b46208>"
       ]
      },
      {
       "javascript": [
        "$('div#7b44511c-11f3-4261-9703-602ef9399934').text('ETA:  0:00:00');"
       ],
       "metadata": {},
       "output_type": "display_data",
       "text": [
        "<IPython.core.display.Javascript at 0x1a09b4e0>"
       ]
      },
      {
       "javascript": [
        "$('div#27a53f44-ad4e-4de7-9e75-fe64fd72d14b').text('370 of 1000');"
       ],
       "metadata": {},
       "output_type": "display_data",
       "text": [
        "<IPython.core.display.Javascript at 0x1ffa13c8>"
       ]
      },
      {
       "javascript": [
        "$('div#ec1cad03-9fed-4416-ba7b-d64aae9eb0dc').text(' 37%');"
       ],
       "metadata": {},
       "output_type": "display_data",
       "text": [
        "<IPython.core.display.Javascript at 0x1ffa1b00>"
       ]
      },
      {
       "javascript": [
        "\n",
        "        var $myPB = $(\"div#cced99e4-9493-4925-a6af-e935904ae291\")\n",
        "        if ($myPB.hasClass('ui-progressbar')) {\n",
        "            $myPB.progressbar('value', 370);\n",
        "        } else {\n",
        "            $myPB.progressbar({value: 0, max: 1000});\n",
        "        }\n",
        "        "
       ],
       "metadata": {},
       "output_type": "display_data",
       "text": [
        "<IPython.core.display.Javascript at 0x16b46208>"
       ]
      },
      {
       "javascript": [
        "$('div#7b44511c-11f3-4261-9703-602ef9399934').text('ETA:  0:00:00');"
       ],
       "metadata": {},
       "output_type": "display_data",
       "text": [
        "<IPython.core.display.Javascript at 0x1a09b4e0>"
       ]
      },
      {
       "javascript": [
        "$('div#27a53f44-ad4e-4de7-9e75-fe64fd72d14b').text('380 of 1000');"
       ],
       "metadata": {},
       "output_type": "display_data",
       "text": [
        "<IPython.core.display.Javascript at 0x1ffa1c88>"
       ]
      },
      {
       "javascript": [
        "$('div#ec1cad03-9fed-4416-ba7b-d64aae9eb0dc').text(' 38%');"
       ],
       "metadata": {},
       "output_type": "display_data",
       "text": [
        "<IPython.core.display.Javascript at 0x1ffa1b00>"
       ]
      },
      {
       "javascript": [
        "\n",
        "        var $myPB = $(\"div#cced99e4-9493-4925-a6af-e935904ae291\")\n",
        "        if ($myPB.hasClass('ui-progressbar')) {\n",
        "            $myPB.progressbar('value', 380);\n",
        "        } else {\n",
        "            $myPB.progressbar({value: 0, max: 1000});\n",
        "        }\n",
        "        "
       ],
       "metadata": {},
       "output_type": "display_data",
       "text": [
        "<IPython.core.display.Javascript at 0x16b46208>"
       ]
      },
      {
       "javascript": [
        "$('div#7b44511c-11f3-4261-9703-602ef9399934').text('ETA:  0:00:00');"
       ],
       "metadata": {},
       "output_type": "display_data",
       "text": [
        "<IPython.core.display.Javascript at 0x1a09b4e0>"
       ]
      },
      {
       "javascript": [
        "$('div#27a53f44-ad4e-4de7-9e75-fe64fd72d14b').text('390 of 1000');"
       ],
       "metadata": {},
       "output_type": "display_data",
       "text": [
        "<IPython.core.display.Javascript at 0x1ffa1f98>"
       ]
      },
      {
       "javascript": [
        "$('div#ec1cad03-9fed-4416-ba7b-d64aae9eb0dc').text(' 39%');"
       ],
       "metadata": {},
       "output_type": "display_data",
       "text": [
        "<IPython.core.display.Javascript at 0x1ffa1b00>"
       ]
      },
      {
       "javascript": [
        "\n",
        "        var $myPB = $(\"div#cced99e4-9493-4925-a6af-e935904ae291\")\n",
        "        if ($myPB.hasClass('ui-progressbar')) {\n",
        "            $myPB.progressbar('value', 390);\n",
        "        } else {\n",
        "            $myPB.progressbar({value: 0, max: 1000});\n",
        "        }\n",
        "        "
       ],
       "metadata": {},
       "output_type": "display_data",
       "text": [
        "<IPython.core.display.Javascript at 0x16b46208>"
       ]
      },
      {
       "javascript": [
        "$('div#7b44511c-11f3-4261-9703-602ef9399934').text('ETA:  0:00:00');"
       ],
       "metadata": {},
       "output_type": "display_data",
       "text": [
        "<IPython.core.display.Javascript at 0x1a09b4e0>"
       ]
      },
      {
       "javascript": [
        "$('div#27a53f44-ad4e-4de7-9e75-fe64fd72d14b').text('400 of 1000');"
       ],
       "metadata": {},
       "output_type": "display_data",
       "text": [
        "<IPython.core.display.Javascript at 0x1ffa17b8>"
       ]
      },
      {
       "javascript": [
        "$('div#ec1cad03-9fed-4416-ba7b-d64aae9eb0dc').text(' 40%');"
       ],
       "metadata": {},
       "output_type": "display_data",
       "text": [
        "<IPython.core.display.Javascript at 0x1ffa10b8>"
       ]
      },
      {
       "javascript": [
        "\n",
        "        var $myPB = $(\"div#cced99e4-9493-4925-a6af-e935904ae291\")\n",
        "        if ($myPB.hasClass('ui-progressbar')) {\n",
        "            $myPB.progressbar('value', 400);\n",
        "        } else {\n",
        "            $myPB.progressbar({value: 0, max: 1000});\n",
        "        }\n",
        "        "
       ],
       "metadata": {},
       "output_type": "display_data",
       "text": [
        "<IPython.core.display.Javascript at 0x16b46208>"
       ]
      },
      {
       "javascript": [
        "$('div#7b44511c-11f3-4261-9703-602ef9399934').text('ETA:  0:00:00');"
       ],
       "metadata": {},
       "output_type": "display_data",
       "text": [
        "<IPython.core.display.Javascript at 0x1a09b4e0>"
       ]
      },
      {
       "javascript": [
        "$('div#27a53f44-ad4e-4de7-9e75-fe64fd72d14b').text('410 of 1000');"
       ],
       "metadata": {},
       "output_type": "display_data",
       "text": [
        "<IPython.core.display.Javascript at 0x1ffa1048>"
       ]
      },
      {
       "javascript": [
        "$('div#ec1cad03-9fed-4416-ba7b-d64aae9eb0dc').text(' 41%');"
       ],
       "metadata": {},
       "output_type": "display_data",
       "text": [
        "<IPython.core.display.Javascript at 0x1ffa13c8>"
       ]
      },
      {
       "javascript": [
        "\n",
        "        var $myPB = $(\"div#cced99e4-9493-4925-a6af-e935904ae291\")\n",
        "        if ($myPB.hasClass('ui-progressbar')) {\n",
        "            $myPB.progressbar('value', 410);\n",
        "        } else {\n",
        "            $myPB.progressbar({value: 0, max: 1000});\n",
        "        }\n",
        "        "
       ],
       "metadata": {},
       "output_type": "display_data",
       "text": [
        "<IPython.core.display.Javascript at 0x1ffa13c8>"
       ]
      },
      {
       "javascript": [
        "$('div#7b44511c-11f3-4261-9703-602ef9399934').text('ETA:  0:00:00');"
       ],
       "metadata": {},
       "output_type": "display_data",
       "text": [
        "<IPython.core.display.Javascript at 0x1ffa1f98>"
       ]
      },
      {
       "javascript": [
        "$('div#27a53f44-ad4e-4de7-9e75-fe64fd72d14b').text('420 of 1000');"
       ],
       "metadata": {},
       "output_type": "display_data",
       "text": [
        "<IPython.core.display.Javascript at 0x1ffa1400>"
       ]
      },
      {
       "javascript": [
        "$('div#ec1cad03-9fed-4416-ba7b-d64aae9eb0dc').text(' 42%');"
       ],
       "metadata": {},
       "output_type": "display_data",
       "text": [
        "<IPython.core.display.Javascript at 0x1ffa1748>"
       ]
      },
      {
       "javascript": [
        "\n",
        "        var $myPB = $(\"div#cced99e4-9493-4925-a6af-e935904ae291\")\n",
        "        if ($myPB.hasClass('ui-progressbar')) {\n",
        "            $myPB.progressbar('value', 420);\n",
        "        } else {\n",
        "            $myPB.progressbar({value: 0, max: 1000});\n",
        "        }\n",
        "        "
       ],
       "metadata": {},
       "output_type": "display_data",
       "text": [
        "<IPython.core.display.Javascript at 0x1a09b4e0>"
       ]
      },
      {
       "javascript": [
        "$('div#7b44511c-11f3-4261-9703-602ef9399934').text('ETA:  0:00:00');"
       ],
       "metadata": {},
       "output_type": "display_data",
       "text": [
        "<IPython.core.display.Javascript at 0x16b46208>"
       ]
      },
      {
       "javascript": [
        "$('div#27a53f44-ad4e-4de7-9e75-fe64fd72d14b').text('430 of 1000');"
       ],
       "metadata": {},
       "output_type": "display_data",
       "text": [
        "<IPython.core.display.Javascript at 0x1ffa1048>"
       ]
      },
      {
       "javascript": [
        "$('div#ec1cad03-9fed-4416-ba7b-d64aae9eb0dc').text(' 43%');"
       ],
       "metadata": {},
       "output_type": "display_data",
       "text": [
        "<IPython.core.display.Javascript at 0x1ffa1470>"
       ]
      },
      {
       "javascript": [
        "\n",
        "        var $myPB = $(\"div#cced99e4-9493-4925-a6af-e935904ae291\")\n",
        "        if ($myPB.hasClass('ui-progressbar')) {\n",
        "            $myPB.progressbar('value', 430);\n",
        "        } else {\n",
        "            $myPB.progressbar({value: 0, max: 1000});\n",
        "        }\n",
        "        "
       ],
       "metadata": {},
       "output_type": "display_data",
       "text": [
        "<IPython.core.display.Javascript at 0x15144d68>"
       ]
      },
      {
       "javascript": [
        "$('div#7b44511c-11f3-4261-9703-602ef9399934').text('ETA:  0:00:00');"
       ],
       "metadata": {},
       "output_type": "display_data",
       "text": [
        "<IPython.core.display.Javascript at 0x15144780>"
       ]
      },
      {
       "javascript": [
        "$('div#27a53f44-ad4e-4de7-9e75-fe64fd72d14b').text('440 of 1000');"
       ],
       "metadata": {},
       "output_type": "display_data",
       "text": [
        "<IPython.core.display.Javascript at 0x1ffa1470>"
       ]
      },
      {
       "javascript": [
        "$('div#ec1cad03-9fed-4416-ba7b-d64aae9eb0dc').text(' 44%');"
       ],
       "metadata": {},
       "output_type": "display_data",
       "text": [
        "<IPython.core.display.Javascript at 0x1ffa1f98>"
       ]
      },
      {
       "javascript": [
        "\n",
        "        var $myPB = $(\"div#cced99e4-9493-4925-a6af-e935904ae291\")\n",
        "        if ($myPB.hasClass('ui-progressbar')) {\n",
        "            $myPB.progressbar('value', 440);\n",
        "        } else {\n",
        "            $myPB.progressbar({value: 0, max: 1000});\n",
        "        }\n",
        "        "
       ],
       "metadata": {},
       "output_type": "display_data",
       "text": [
        "<IPython.core.display.Javascript at 0x1a09b4e0>"
       ]
      },
      {
       "javascript": [
        "$('div#7b44511c-11f3-4261-9703-602ef9399934').text('ETA:  0:00:00');"
       ],
       "metadata": {},
       "output_type": "display_data",
       "text": [
        "<IPython.core.display.Javascript at 0x16b46908>"
       ]
      },
      {
       "javascript": [
        "$('div#27a53f44-ad4e-4de7-9e75-fe64fd72d14b').text('450 of 1000');"
       ],
       "metadata": {},
       "output_type": "display_data",
       "text": [
        "<IPython.core.display.Javascript at 0x1ffa1f98>"
       ]
      },
      {
       "javascript": [
        "$('div#ec1cad03-9fed-4416-ba7b-d64aae9eb0dc').text(' 45%');"
       ],
       "metadata": {},
       "output_type": "display_data",
       "text": [
        "<IPython.core.display.Javascript at 0x1ffa1c18>"
       ]
      },
      {
       "javascript": [
        "\n",
        "        var $myPB = $(\"div#cced99e4-9493-4925-a6af-e935904ae291\")\n",
        "        if ($myPB.hasClass('ui-progressbar')) {\n",
        "            $myPB.progressbar('value', 450);\n",
        "        } else {\n",
        "            $myPB.progressbar({value: 0, max: 1000});\n",
        "        }\n",
        "        "
       ],
       "metadata": {},
       "output_type": "display_data",
       "text": [
        "<IPython.core.display.Javascript at 0x15144780>"
       ]
      },
      {
       "javascript": [
        "$('div#7b44511c-11f3-4261-9703-602ef9399934').text('ETA:  0:00:00');"
       ],
       "metadata": {},
       "output_type": "display_data",
       "text": [
        "<IPython.core.display.Javascript at 0x15144d68>"
       ]
      },
      {
       "javascript": [
        "$('div#27a53f44-ad4e-4de7-9e75-fe64fd72d14b').text('460 of 1000');"
       ],
       "metadata": {},
       "output_type": "display_data",
       "text": [
        "<IPython.core.display.Javascript at 0x1ffa1c18>"
       ]
      },
      {
       "javascript": [
        "$('div#ec1cad03-9fed-4416-ba7b-d64aae9eb0dc').text(' 46%');"
       ],
       "metadata": {},
       "output_type": "display_data",
       "text": [
        "<IPython.core.display.Javascript at 0x1ffa1f98>"
       ]
      },
      {
       "javascript": [
        "\n",
        "        var $myPB = $(\"div#cced99e4-9493-4925-a6af-e935904ae291\")\n",
        "        if ($myPB.hasClass('ui-progressbar')) {\n",
        "            $myPB.progressbar('value', 460);\n",
        "        } else {\n",
        "            $myPB.progressbar({value: 0, max: 1000});\n",
        "        }\n",
        "        "
       ],
       "metadata": {},
       "output_type": "display_data",
       "text": [
        "<IPython.core.display.Javascript at 0x1a09b4e0>"
       ]
      },
      {
       "javascript": [
        "$('div#7b44511c-11f3-4261-9703-602ef9399934').text('ETA:  0:00:00');"
       ],
       "metadata": {},
       "output_type": "display_data",
       "text": [
        "<IPython.core.display.Javascript at 0x16b46208>"
       ]
      },
      {
       "javascript": [
        "$('div#27a53f44-ad4e-4de7-9e75-fe64fd72d14b').text('470 of 1000');"
       ],
       "metadata": {},
       "output_type": "display_data",
       "text": [
        "<IPython.core.display.Javascript at 0x1ffa13c8>"
       ]
      },
      {
       "javascript": [
        "$('div#ec1cad03-9fed-4416-ba7b-d64aae9eb0dc').text(' 47%');"
       ],
       "metadata": {},
       "output_type": "display_data",
       "text": [
        "<IPython.core.display.Javascript at 0x1ffa1f98>"
       ]
      },
      {
       "javascript": [
        "\n",
        "        var $myPB = $(\"div#cced99e4-9493-4925-a6af-e935904ae291\")\n",
        "        if ($myPB.hasClass('ui-progressbar')) {\n",
        "            $myPB.progressbar('value', 470);\n",
        "        } else {\n",
        "            $myPB.progressbar({value: 0, max: 1000});\n",
        "        }\n",
        "        "
       ],
       "metadata": {},
       "output_type": "display_data",
       "text": [
        "<IPython.core.display.Javascript at 0x15144d68>"
       ]
      },
      {
       "javascript": [
        "$('div#7b44511c-11f3-4261-9703-602ef9399934').text('ETA:  0:00:00');"
       ],
       "metadata": {},
       "output_type": "display_data",
       "text": [
        "<IPython.core.display.Javascript at 0x15144780>"
       ]
      },
      {
       "javascript": [
        "$('div#27a53f44-ad4e-4de7-9e75-fe64fd72d14b').text('480 of 1000');"
       ],
       "metadata": {},
       "output_type": "display_data",
       "text": [
        "<IPython.core.display.Javascript at 0x1ffa13c8>"
       ]
      },
      {
       "javascript": [
        "$('div#ec1cad03-9fed-4416-ba7b-d64aae9eb0dc').text(' 48%');"
       ],
       "metadata": {},
       "output_type": "display_data",
       "text": [
        "<IPython.core.display.Javascript at 0x1a09b4e0>"
       ]
      },
      {
       "javascript": [
        "\n",
        "        var $myPB = $(\"div#cced99e4-9493-4925-a6af-e935904ae291\")\n",
        "        if ($myPB.hasClass('ui-progressbar')) {\n",
        "            $myPB.progressbar('value', 480);\n",
        "        } else {\n",
        "            $myPB.progressbar({value: 0, max: 1000});\n",
        "        }\n",
        "        "
       ],
       "metadata": {},
       "output_type": "display_data",
       "text": [
        "<IPython.core.display.Javascript at 0x1a09b4e0>"
       ]
      },
      {
       "javascript": [
        "$('div#7b44511c-11f3-4261-9703-602ef9399934').text('ETA:  0:00:00');"
       ],
       "metadata": {},
       "output_type": "display_data",
       "text": [
        "<IPython.core.display.Javascript at 0x16b46208>"
       ]
      },
      {
       "javascript": [
        "$('div#27a53f44-ad4e-4de7-9e75-fe64fd72d14b').text('490 of 1000');"
       ],
       "metadata": {},
       "output_type": "display_data",
       "text": [
        "<IPython.core.display.Javascript at 0x1ffa1048>"
       ]
      },
      {
       "javascript": [
        "$('div#ec1cad03-9fed-4416-ba7b-d64aae9eb0dc').text(' 49%');"
       ],
       "metadata": {},
       "output_type": "display_data",
       "text": [
        "<IPython.core.display.Javascript at 0x1ffa1c18>"
       ]
      },
      {
       "javascript": [
        "\n",
        "        var $myPB = $(\"div#cced99e4-9493-4925-a6af-e935904ae291\")\n",
        "        if ($myPB.hasClass('ui-progressbar')) {\n",
        "            $myPB.progressbar('value', 490);\n",
        "        } else {\n",
        "            $myPB.progressbar({value: 0, max: 1000});\n",
        "        }\n",
        "        "
       ],
       "metadata": {},
       "output_type": "display_data",
       "text": [
        "<IPython.core.display.Javascript at 0x15144780>"
       ]
      },
      {
       "javascript": [
        "$('div#7b44511c-11f3-4261-9703-602ef9399934').text('ETA:  0:00:00');"
       ],
       "metadata": {},
       "output_type": "display_data",
       "text": [
        "<IPython.core.display.Javascript at 0x15144d68>"
       ]
      },
      {
       "javascript": [
        "$('div#27a53f44-ad4e-4de7-9e75-fe64fd72d14b').text('500 of 1000');"
       ],
       "metadata": {},
       "output_type": "display_data",
       "text": [
        "<IPython.core.display.Javascript at 0x1ffa1c18>"
       ]
      },
      {
       "javascript": [
        "$('div#ec1cad03-9fed-4416-ba7b-d64aae9eb0dc').text(' 50%');"
       ],
       "metadata": {},
       "output_type": "display_data",
       "text": [
        "<IPython.core.display.Javascript at 0x1a09b4e0>"
       ]
      },
      {
       "javascript": [
        "\n",
        "        var $myPB = $(\"div#cced99e4-9493-4925-a6af-e935904ae291\")\n",
        "        if ($myPB.hasClass('ui-progressbar')) {\n",
        "            $myPB.progressbar('value', 500);\n",
        "        } else {\n",
        "            $myPB.progressbar({value: 0, max: 1000});\n",
        "        }\n",
        "        "
       ],
       "metadata": {},
       "output_type": "display_data",
       "text": [
        "<IPython.core.display.Javascript at 0x1a09b4e0>"
       ]
      },
      {
       "javascript": [
        "$('div#7b44511c-11f3-4261-9703-602ef9399934').text('ETA:  0:00:00');"
       ],
       "metadata": {},
       "output_type": "display_data",
       "text": [
        "<IPython.core.display.Javascript at 0x1ffa1048>"
       ]
      },
      {
       "javascript": [
        "$('div#27a53f44-ad4e-4de7-9e75-fe64fd72d14b').text('510 of 1000');"
       ],
       "metadata": {},
       "output_type": "display_data",
       "text": [
        "<IPython.core.display.Javascript at 0x15144780>"
       ]
      },
      {
       "javascript": [
        "$('div#ec1cad03-9fed-4416-ba7b-d64aae9eb0dc').text(' 51%');"
       ],
       "metadata": {},
       "output_type": "display_data",
       "text": [
        "<IPython.core.display.Javascript at 0x16f97f60>"
       ]
      },
      {
       "javascript": [
        "\n",
        "        var $myPB = $(\"div#cced99e4-9493-4925-a6af-e935904ae291\")\n",
        "        if ($myPB.hasClass('ui-progressbar')) {\n",
        "            $myPB.progressbar('value', 510);\n",
        "        } else {\n",
        "            $myPB.progressbar({value: 0, max: 1000});\n",
        "        }\n",
        "        "
       ],
       "metadata": {},
       "output_type": "display_data",
       "text": [
        "<IPython.core.display.Javascript at 0x1ffa1048>"
       ]
      },
      {
       "javascript": [
        "$('div#7b44511c-11f3-4261-9703-602ef9399934').text('ETA:  0:00:00');"
       ],
       "metadata": {},
       "output_type": "display_data",
       "text": [
        "<IPython.core.display.Javascript at 0x1a09b4e0>"
       ]
      },
      {
       "javascript": [
        "$('div#27a53f44-ad4e-4de7-9e75-fe64fd72d14b').text('520 of 1000');"
       ],
       "metadata": {},
       "output_type": "display_data",
       "text": [
        "<IPython.core.display.Javascript at 0x16f97be0>"
       ]
      },
      {
       "javascript": [
        "$('div#ec1cad03-9fed-4416-ba7b-d64aae9eb0dc').text(' 52%');"
       ],
       "metadata": {},
       "output_type": "display_data",
       "text": [
        "<IPython.core.display.Javascript at 0x16f97630>"
       ]
      },
      {
       "javascript": [
        "\n",
        "        var $myPB = $(\"div#cced99e4-9493-4925-a6af-e935904ae291\")\n",
        "        if ($myPB.hasClass('ui-progressbar')) {\n",
        "            $myPB.progressbar('value', 520);\n",
        "        } else {\n",
        "            $myPB.progressbar({value: 0, max: 1000});\n",
        "        }\n",
        "        "
       ],
       "metadata": {},
       "output_type": "display_data",
       "text": [
        "<IPython.core.display.Javascript at 0x1ffa1048>"
       ]
      },
      {
       "javascript": [
        "$('div#7b44511c-11f3-4261-9703-602ef9399934').text('ETA:  0:00:00');"
       ],
       "metadata": {},
       "output_type": "display_data",
       "text": [
        "<IPython.core.display.Javascript at 0x1a09b4e0>"
       ]
      },
      {
       "javascript": [
        "$('div#27a53f44-ad4e-4de7-9e75-fe64fd72d14b').text('530 of 1000');"
       ],
       "metadata": {},
       "output_type": "display_data",
       "text": [
        "<IPython.core.display.Javascript at 0x16f975f8>"
       ]
      },
      {
       "javascript": [
        "$('div#ec1cad03-9fed-4416-ba7b-d64aae9eb0dc').text(' 53%');"
       ],
       "metadata": {},
       "output_type": "display_data",
       "text": [
        "<IPython.core.display.Javascript at 0x16f97320>"
       ]
      },
      {
       "javascript": [
        "\n",
        "        var $myPB = $(\"div#cced99e4-9493-4925-a6af-e935904ae291\")\n",
        "        if ($myPB.hasClass('ui-progressbar')) {\n",
        "            $myPB.progressbar('value', 530);\n",
        "        } else {\n",
        "            $myPB.progressbar({value: 0, max: 1000});\n",
        "        }\n",
        "        "
       ],
       "metadata": {},
       "output_type": "display_data",
       "text": [
        "<IPython.core.display.Javascript at 0x1ffa1048>"
       ]
      },
      {
       "javascript": [
        "$('div#7b44511c-11f3-4261-9703-602ef9399934').text('ETA:  0:00:00');"
       ],
       "metadata": {},
       "output_type": "display_data",
       "text": [
        "<IPython.core.display.Javascript at 0x1a09b4e0>"
       ]
      },
      {
       "javascript": [
        "$('div#27a53f44-ad4e-4de7-9e75-fe64fd72d14b').text('540 of 1000');"
       ],
       "metadata": {},
       "output_type": "display_data",
       "text": [
        "<IPython.core.display.Javascript at 0x16f97e48>"
       ]
      },
      {
       "javascript": [
        "$('div#ec1cad03-9fed-4416-ba7b-d64aae9eb0dc').text(' 54%');"
       ],
       "metadata": {},
       "output_type": "display_data",
       "text": [
        "<IPython.core.display.Javascript at 0x16f97550>"
       ]
      },
      {
       "javascript": [
        "\n",
        "        var $myPB = $(\"div#cced99e4-9493-4925-a6af-e935904ae291\")\n",
        "        if ($myPB.hasClass('ui-progressbar')) {\n",
        "            $myPB.progressbar('value', 540);\n",
        "        } else {\n",
        "            $myPB.progressbar({value: 0, max: 1000});\n",
        "        }\n",
        "        "
       ],
       "metadata": {},
       "output_type": "display_data",
       "text": [
        "<IPython.core.display.Javascript at 0x1ffa1048>"
       ]
      },
      {
       "javascript": [
        "$('div#7b44511c-11f3-4261-9703-602ef9399934').text('ETA:  0:00:00');"
       ],
       "metadata": {},
       "output_type": "display_data",
       "text": [
        "<IPython.core.display.Javascript at 0x1a09b4e0>"
       ]
      },
      {
       "javascript": [
        "$('div#27a53f44-ad4e-4de7-9e75-fe64fd72d14b').text('550 of 1000');"
       ],
       "metadata": {},
       "output_type": "display_data",
       "text": [
        "<IPython.core.display.Javascript at 0x16f97550>"
       ]
      },
      {
       "javascript": [
        "$('div#ec1cad03-9fed-4416-ba7b-d64aae9eb0dc').text(' 55%');"
       ],
       "metadata": {},
       "output_type": "display_data",
       "text": [
        "<IPython.core.display.Javascript at 0x16f97470>"
       ]
      },
      {
       "javascript": [
        "\n",
        "        var $myPB = $(\"div#cced99e4-9493-4925-a6af-e935904ae291\")\n",
        "        if ($myPB.hasClass('ui-progressbar')) {\n",
        "            $myPB.progressbar('value', 550);\n",
        "        } else {\n",
        "            $myPB.progressbar({value: 0, max: 1000});\n",
        "        }\n",
        "        "
       ],
       "metadata": {},
       "output_type": "display_data",
       "text": [
        "<IPython.core.display.Javascript at 0x1ffa1048>"
       ]
      },
      {
       "javascript": [
        "$('div#7b44511c-11f3-4261-9703-602ef9399934').text('ETA:  0:00:00');"
       ],
       "metadata": {},
       "output_type": "display_data",
       "text": [
        "<IPython.core.display.Javascript at 0x1a09b4e0>"
       ]
      },
      {
       "javascript": [
        "$('div#27a53f44-ad4e-4de7-9e75-fe64fd72d14b').text('560 of 1000');"
       ],
       "metadata": {},
       "output_type": "display_data",
       "text": [
        "<IPython.core.display.Javascript at 0x16f97710>"
       ]
      },
      {
       "javascript": [
        "$('div#ec1cad03-9fed-4416-ba7b-d64aae9eb0dc').text(' 56%');"
       ],
       "metadata": {},
       "output_type": "display_data",
       "text": [
        "<IPython.core.display.Javascript at 0x16f976a0>"
       ]
      },
      {
       "javascript": [
        "\n",
        "        var $myPB = $(\"div#cced99e4-9493-4925-a6af-e935904ae291\")\n",
        "        if ($myPB.hasClass('ui-progressbar')) {\n",
        "            $myPB.progressbar('value', 560);\n",
        "        } else {\n",
        "            $myPB.progressbar({value: 0, max: 1000});\n",
        "        }\n",
        "        "
       ],
       "metadata": {},
       "output_type": "display_data",
       "text": [
        "<IPython.core.display.Javascript at 0x1ffa1048>"
       ]
      },
      {
       "javascript": [
        "$('div#7b44511c-11f3-4261-9703-602ef9399934').text('ETA:  0:00:00');"
       ],
       "metadata": {},
       "output_type": "display_data",
       "text": [
        "<IPython.core.display.Javascript at 0x1a09b4e0>"
       ]
      },
      {
       "javascript": [
        "$('div#27a53f44-ad4e-4de7-9e75-fe64fd72d14b').text('570 of 1000');"
       ],
       "metadata": {},
       "output_type": "display_data",
       "text": [
        "<IPython.core.display.Javascript at 0x16f976a0>"
       ]
      },
      {
       "javascript": [
        "$('div#ec1cad03-9fed-4416-ba7b-d64aae9eb0dc').text(' 57%');"
       ],
       "metadata": {},
       "output_type": "display_data",
       "text": [
        "<IPython.core.display.Javascript at 0x16f97ac8>"
       ]
      },
      {
       "javascript": [
        "\n",
        "        var $myPB = $(\"div#cced99e4-9493-4925-a6af-e935904ae291\")\n",
        "        if ($myPB.hasClass('ui-progressbar')) {\n",
        "            $myPB.progressbar('value', 570);\n",
        "        } else {\n",
        "            $myPB.progressbar({value: 0, max: 1000});\n",
        "        }\n",
        "        "
       ],
       "metadata": {},
       "output_type": "display_data",
       "text": [
        "<IPython.core.display.Javascript at 0x1ffa1048>"
       ]
      },
      {
       "javascript": [
        "$('div#7b44511c-11f3-4261-9703-602ef9399934').text('ETA:  0:00:00');"
       ],
       "metadata": {},
       "output_type": "display_data",
       "text": [
        "<IPython.core.display.Javascript at 0x1a09b4e0>"
       ]
      },
      {
       "javascript": [
        "$('div#27a53f44-ad4e-4de7-9e75-fe64fd72d14b').text('580 of 1000');"
       ],
       "metadata": {},
       "output_type": "display_data",
       "text": [
        "<IPython.core.display.Javascript at 0x16f97080>"
       ]
      },
      {
       "javascript": [
        "$('div#ec1cad03-9fed-4416-ba7b-d64aae9eb0dc').text(' 58%');"
       ],
       "metadata": {},
       "output_type": "display_data",
       "text": [
        "<IPython.core.display.Javascript at 0x16f975f8>"
       ]
      },
      {
       "javascript": [
        "\n",
        "        var $myPB = $(\"div#cced99e4-9493-4925-a6af-e935904ae291\")\n",
        "        if ($myPB.hasClass('ui-progressbar')) {\n",
        "            $myPB.progressbar('value', 580);\n",
        "        } else {\n",
        "            $myPB.progressbar({value: 0, max: 1000});\n",
        "        }\n",
        "        "
       ],
       "metadata": {},
       "output_type": "display_data",
       "text": [
        "<IPython.core.display.Javascript at 0x1ffa1048>"
       ]
      },
      {
       "javascript": [
        "$('div#7b44511c-11f3-4261-9703-602ef9399934').text('ETA:  0:00:00');"
       ],
       "metadata": {},
       "output_type": "display_data",
       "text": [
        "<IPython.core.display.Javascript at 0x1a09b4e0>"
       ]
      },
      {
       "javascript": [
        "$('div#27a53f44-ad4e-4de7-9e75-fe64fd72d14b').text('590 of 1000');"
       ],
       "metadata": {},
       "output_type": "display_data",
       "text": [
        "<IPython.core.display.Javascript at 0x16f97668>"
       ]
      },
      {
       "javascript": [
        "$('div#ec1cad03-9fed-4416-ba7b-d64aae9eb0dc').text(' 59%');"
       ],
       "metadata": {},
       "output_type": "display_data",
       "text": [
        "<IPython.core.display.Javascript at 0x16f975f8>"
       ]
      },
      {
       "javascript": [
        "\n",
        "        var $myPB = $(\"div#cced99e4-9493-4925-a6af-e935904ae291\")\n",
        "        if ($myPB.hasClass('ui-progressbar')) {\n",
        "            $myPB.progressbar('value', 590);\n",
        "        } else {\n",
        "            $myPB.progressbar({value: 0, max: 1000});\n",
        "        }\n",
        "        "
       ],
       "metadata": {},
       "output_type": "display_data",
       "text": [
        "<IPython.core.display.Javascript at 0x1ffa1048>"
       ]
      },
      {
       "javascript": [
        "$('div#7b44511c-11f3-4261-9703-602ef9399934').text('ETA:  0:00:00');"
       ],
       "metadata": {},
       "output_type": "display_data",
       "text": [
        "<IPython.core.display.Javascript at 0x1a09b4e0>"
       ]
      },
      {
       "javascript": [
        "$('div#27a53f44-ad4e-4de7-9e75-fe64fd72d14b').text('600 of 1000');"
       ],
       "metadata": {},
       "output_type": "display_data",
       "text": [
        "<IPython.core.display.Javascript at 0x16f97550>"
       ]
      },
      {
       "javascript": [
        "$('div#ec1cad03-9fed-4416-ba7b-d64aae9eb0dc').text(' 60%');"
       ],
       "metadata": {},
       "output_type": "display_data",
       "text": [
        "<IPython.core.display.Javascript at 0x16f975f8>"
       ]
      },
      {
       "javascript": [
        "\n",
        "        var $myPB = $(\"div#cced99e4-9493-4925-a6af-e935904ae291\")\n",
        "        if ($myPB.hasClass('ui-progressbar')) {\n",
        "            $myPB.progressbar('value', 600);\n",
        "        } else {\n",
        "            $myPB.progressbar({value: 0, max: 1000});\n",
        "        }\n",
        "        "
       ],
       "metadata": {},
       "output_type": "display_data",
       "text": [
        "<IPython.core.display.Javascript at 0x1ffa1048>"
       ]
      },
      {
       "javascript": [
        "$('div#7b44511c-11f3-4261-9703-602ef9399934').text('ETA:  0:00:00');"
       ],
       "metadata": {},
       "output_type": "display_data",
       "text": [
        "<IPython.core.display.Javascript at 0x1a09b4e0>"
       ]
      },
      {
       "javascript": [
        "$('div#27a53f44-ad4e-4de7-9e75-fe64fd72d14b').text('610 of 1000');"
       ],
       "metadata": {},
       "output_type": "display_data",
       "text": [
        "<IPython.core.display.Javascript at 0x16f97a58>"
       ]
      },
      {
       "javascript": [
        "$('div#ec1cad03-9fed-4416-ba7b-d64aae9eb0dc').text(' 61%');"
       ],
       "metadata": {},
       "output_type": "display_data",
       "text": [
        "<IPython.core.display.Javascript at 0x16f975f8>"
       ]
      },
      {
       "javascript": [
        "\n",
        "        var $myPB = $(\"div#cced99e4-9493-4925-a6af-e935904ae291\")\n",
        "        if ($myPB.hasClass('ui-progressbar')) {\n",
        "            $myPB.progressbar('value', 610);\n",
        "        } else {\n",
        "            $myPB.progressbar({value: 0, max: 1000});\n",
        "        }\n",
        "        "
       ],
       "metadata": {},
       "output_type": "display_data",
       "text": [
        "<IPython.core.display.Javascript at 0x1ffa1048>"
       ]
      },
      {
       "javascript": [
        "$('div#7b44511c-11f3-4261-9703-602ef9399934').text('ETA:  0:00:00');"
       ],
       "metadata": {},
       "output_type": "display_data",
       "text": [
        "<IPython.core.display.Javascript at 0x1a09b4e0>"
       ]
      },
      {
       "javascript": [
        "$('div#27a53f44-ad4e-4de7-9e75-fe64fd72d14b').text('620 of 1000');"
       ],
       "metadata": {},
       "output_type": "display_data",
       "text": [
        "<IPython.core.display.Javascript at 0x16f976a0>"
       ]
      },
      {
       "javascript": [
        "$('div#ec1cad03-9fed-4416-ba7b-d64aae9eb0dc').text(' 62%');"
       ],
       "metadata": {},
       "output_type": "display_data",
       "text": [
        "<IPython.core.display.Javascript at 0x16f975f8>"
       ]
      },
      {
       "javascript": [
        "\n",
        "        var $myPB = $(\"div#cced99e4-9493-4925-a6af-e935904ae291\")\n",
        "        if ($myPB.hasClass('ui-progressbar')) {\n",
        "            $myPB.progressbar('value', 620);\n",
        "        } else {\n",
        "            $myPB.progressbar({value: 0, max: 1000});\n",
        "        }\n",
        "        "
       ],
       "metadata": {},
       "output_type": "display_data",
       "text": [
        "<IPython.core.display.Javascript at 0x1ffa1048>"
       ]
      },
      {
       "javascript": [
        "$('div#7b44511c-11f3-4261-9703-602ef9399934').text('ETA:  0:00:00');"
       ],
       "metadata": {},
       "output_type": "display_data",
       "text": [
        "<IPython.core.display.Javascript at 0x1a09b4e0>"
       ]
      },
      {
       "javascript": [
        "$('div#27a53f44-ad4e-4de7-9e75-fe64fd72d14b').text('630 of 1000');"
       ],
       "metadata": {},
       "output_type": "display_data",
       "text": [
        "<IPython.core.display.Javascript at 0x16f975f8>"
       ]
      },
      {
       "javascript": [
        "$('div#ec1cad03-9fed-4416-ba7b-d64aae9eb0dc').text(' 63%');"
       ],
       "metadata": {},
       "output_type": "display_data",
       "text": [
        "<IPython.core.display.Javascript at 0x16f97080>"
       ]
      },
      {
       "javascript": [
        "\n",
        "        var $myPB = $(\"div#cced99e4-9493-4925-a6af-e935904ae291\")\n",
        "        if ($myPB.hasClass('ui-progressbar')) {\n",
        "            $myPB.progressbar('value', 630);\n",
        "        } else {\n",
        "            $myPB.progressbar({value: 0, max: 1000});\n",
        "        }\n",
        "        "
       ],
       "metadata": {},
       "output_type": "display_data",
       "text": [
        "<IPython.core.display.Javascript at 0x1ffa1048>"
       ]
      },
      {
       "javascript": [
        "$('div#7b44511c-11f3-4261-9703-602ef9399934').text('ETA:  0:00:00');"
       ],
       "metadata": {},
       "output_type": "display_data",
       "text": [
        "<IPython.core.display.Javascript at 0x1a09b4e0>"
       ]
      },
      {
       "javascript": [
        "$('div#27a53f44-ad4e-4de7-9e75-fe64fd72d14b').text('640 of 1000');"
       ],
       "metadata": {},
       "output_type": "display_data",
       "text": [
        "<IPython.core.display.Javascript at 0x16f97710>"
       ]
      },
      {
       "javascript": [
        "$('div#ec1cad03-9fed-4416-ba7b-d64aae9eb0dc').text(' 64%');"
       ],
       "metadata": {},
       "output_type": "display_data",
       "text": [
        "<IPython.core.display.Javascript at 0x16f97080>"
       ]
      },
      {
       "javascript": [
        "\n",
        "        var $myPB = $(\"div#cced99e4-9493-4925-a6af-e935904ae291\")\n",
        "        if ($myPB.hasClass('ui-progressbar')) {\n",
        "            $myPB.progressbar('value', 640);\n",
        "        } else {\n",
        "            $myPB.progressbar({value: 0, max: 1000});\n",
        "        }\n",
        "        "
       ],
       "metadata": {},
       "output_type": "display_data",
       "text": [
        "<IPython.core.display.Javascript at 0x1ffa1048>"
       ]
      },
      {
       "javascript": [
        "$('div#7b44511c-11f3-4261-9703-602ef9399934').text('ETA:  0:00:00');"
       ],
       "metadata": {},
       "output_type": "display_data",
       "text": [
        "<IPython.core.display.Javascript at 0x1a09b4e0>"
       ]
      },
      {
       "javascript": [
        "$('div#27a53f44-ad4e-4de7-9e75-fe64fd72d14b').text('650 of 1000');"
       ],
       "metadata": {},
       "output_type": "display_data",
       "text": [
        "<IPython.core.display.Javascript at 0x16f97080>"
       ]
      },
      {
       "javascript": [
        "$('div#ec1cad03-9fed-4416-ba7b-d64aae9eb0dc').text(' 65%');"
       ],
       "metadata": {},
       "output_type": "display_data",
       "text": [
        "<IPython.core.display.Javascript at 0x16f97a58>"
       ]
      },
      {
       "javascript": [
        "\n",
        "        var $myPB = $(\"div#cced99e4-9493-4925-a6af-e935904ae291\")\n",
        "        if ($myPB.hasClass('ui-progressbar')) {\n",
        "            $myPB.progressbar('value', 650);\n",
        "        } else {\n",
        "            $myPB.progressbar({value: 0, max: 1000});\n",
        "        }\n",
        "        "
       ],
       "metadata": {},
       "output_type": "display_data",
       "text": [
        "<IPython.core.display.Javascript at 0x1ffa1048>"
       ]
      },
      {
       "javascript": [
        "$('div#7b44511c-11f3-4261-9703-602ef9399934').text('ETA:  0:00:00');"
       ],
       "metadata": {},
       "output_type": "display_data",
       "text": [
        "<IPython.core.display.Javascript at 0x1a09b4e0>"
       ]
      },
      {
       "javascript": [
        "$('div#27a53f44-ad4e-4de7-9e75-fe64fd72d14b').text('660 of 1000');"
       ],
       "metadata": {},
       "output_type": "display_data",
       "text": [
        "<IPython.core.display.Javascript at 0x16f97a58>"
       ]
      },
      {
       "javascript": [
        "$('div#ec1cad03-9fed-4416-ba7b-d64aae9eb0dc').text(' 66%');"
       ],
       "metadata": {},
       "output_type": "display_data",
       "text": [
        "<IPython.core.display.Javascript at 0x16f975c0>"
       ]
      },
      {
       "javascript": [
        "\n",
        "        var $myPB = $(\"div#cced99e4-9493-4925-a6af-e935904ae291\")\n",
        "        if ($myPB.hasClass('ui-progressbar')) {\n",
        "            $myPB.progressbar('value', 660);\n",
        "        } else {\n",
        "            $myPB.progressbar({value: 0, max: 1000});\n",
        "        }\n",
        "        "
       ],
       "metadata": {},
       "output_type": "display_data",
       "text": [
        "<IPython.core.display.Javascript at 0x1ffa1048>"
       ]
      },
      {
       "javascript": [
        "$('div#7b44511c-11f3-4261-9703-602ef9399934').text('ETA:  0:00:00');"
       ],
       "metadata": {},
       "output_type": "display_data",
       "text": [
        "<IPython.core.display.Javascript at 0x1a09b4e0>"
       ]
      },
      {
       "javascript": [
        "$('div#27a53f44-ad4e-4de7-9e75-fe64fd72d14b').text('670 of 1000');"
       ],
       "metadata": {},
       "output_type": "display_data",
       "text": [
        "<IPython.core.display.Javascript at 0x16f975c0>"
       ]
      },
      {
       "javascript": [
        "$('div#ec1cad03-9fed-4416-ba7b-d64aae9eb0dc').text(' 67%');"
       ],
       "metadata": {},
       "output_type": "display_data",
       "text": [
        "<IPython.core.display.Javascript at 0x16f97710>"
       ]
      },
      {
       "javascript": [
        "\n",
        "        var $myPB = $(\"div#cced99e4-9493-4925-a6af-e935904ae291\")\n",
        "        if ($myPB.hasClass('ui-progressbar')) {\n",
        "            $myPB.progressbar('value', 670);\n",
        "        } else {\n",
        "            $myPB.progressbar({value: 0, max: 1000});\n",
        "        }\n",
        "        "
       ],
       "metadata": {},
       "output_type": "display_data",
       "text": [
        "<IPython.core.display.Javascript at 0x1ffa1048>"
       ]
      },
      {
       "javascript": [
        "$('div#7b44511c-11f3-4261-9703-602ef9399934').text('ETA:  0:00:00');"
       ],
       "metadata": {},
       "output_type": "display_data",
       "text": [
        "<IPython.core.display.Javascript at 0x1a09b4e0>"
       ]
      },
      {
       "javascript": [
        "$('div#27a53f44-ad4e-4de7-9e75-fe64fd72d14b').text('680 of 1000');"
       ],
       "metadata": {},
       "output_type": "display_data",
       "text": [
        "<IPython.core.display.Javascript at 0x16f975f8>"
       ]
      },
      {
       "javascript": [
        "$('div#ec1cad03-9fed-4416-ba7b-d64aae9eb0dc').text(' 68%');"
       ],
       "metadata": {},
       "output_type": "display_data",
       "text": [
        "<IPython.core.display.Javascript at 0x16f97710>"
       ]
      },
      {
       "javascript": [
        "\n",
        "        var $myPB = $(\"div#cced99e4-9493-4925-a6af-e935904ae291\")\n",
        "        if ($myPB.hasClass('ui-progressbar')) {\n",
        "            $myPB.progressbar('value', 680);\n",
        "        } else {\n",
        "            $myPB.progressbar({value: 0, max: 1000});\n",
        "        }\n",
        "        "
       ],
       "metadata": {},
       "output_type": "display_data",
       "text": [
        "<IPython.core.display.Javascript at 0x1ffa1048>"
       ]
      },
      {
       "javascript": [
        "$('div#7b44511c-11f3-4261-9703-602ef9399934').text('ETA:  0:00:00');"
       ],
       "metadata": {},
       "output_type": "display_data",
       "text": [
        "<IPython.core.display.Javascript at 0x1a09b4e0>"
       ]
      },
      {
       "javascript": [
        "$('div#27a53f44-ad4e-4de7-9e75-fe64fd72d14b').text('690 of 1000');"
       ],
       "metadata": {},
       "output_type": "display_data",
       "text": [
        "<IPython.core.display.Javascript at 0x16f97550>"
       ]
      },
      {
       "javascript": [
        "$('div#ec1cad03-9fed-4416-ba7b-d64aae9eb0dc').text(' 69%');"
       ],
       "metadata": {},
       "output_type": "display_data",
       "text": [
        "<IPython.core.display.Javascript at 0x16f97710>"
       ]
      },
      {
       "javascript": [
        "\n",
        "        var $myPB = $(\"div#cced99e4-9493-4925-a6af-e935904ae291\")\n",
        "        if ($myPB.hasClass('ui-progressbar')) {\n",
        "            $myPB.progressbar('value', 690);\n",
        "        } else {\n",
        "            $myPB.progressbar({value: 0, max: 1000});\n",
        "        }\n",
        "        "
       ],
       "metadata": {},
       "output_type": "display_data",
       "text": [
        "<IPython.core.display.Javascript at 0x1ffa1048>"
       ]
      },
      {
       "javascript": [
        "$('div#7b44511c-11f3-4261-9703-602ef9399934').text('ETA:  0:00:00');"
       ],
       "metadata": {},
       "output_type": "display_data",
       "text": [
        "<IPython.core.display.Javascript at 0x1a09b4e0>"
       ]
      },
      {
       "javascript": [
        "$('div#27a53f44-ad4e-4de7-9e75-fe64fd72d14b').text('700 of 1000');"
       ],
       "metadata": {},
       "output_type": "display_data",
       "text": [
        "<IPython.core.display.Javascript at 0x16f97080>"
       ]
      },
      {
       "javascript": [
        "$('div#ec1cad03-9fed-4416-ba7b-d64aae9eb0dc').text(' 70%');"
       ],
       "metadata": {},
       "output_type": "display_data",
       "text": [
        "<IPython.core.display.Javascript at 0x16f97710>"
       ]
      },
      {
       "javascript": [
        "\n",
        "        var $myPB = $(\"div#cced99e4-9493-4925-a6af-e935904ae291\")\n",
        "        if ($myPB.hasClass('ui-progressbar')) {\n",
        "            $myPB.progressbar('value', 700);\n",
        "        } else {\n",
        "            $myPB.progressbar({value: 0, max: 1000});\n",
        "        }\n",
        "        "
       ],
       "metadata": {},
       "output_type": "display_data",
       "text": [
        "<IPython.core.display.Javascript at 0x1ffa1048>"
       ]
      },
      {
       "javascript": [
        "$('div#7b44511c-11f3-4261-9703-602ef9399934').text('ETA:  0:00:00');"
       ],
       "metadata": {},
       "output_type": "display_data",
       "text": [
        "<IPython.core.display.Javascript at 0x1a09b4e0>"
       ]
      },
      {
       "javascript": [
        "$('div#27a53f44-ad4e-4de7-9e75-fe64fd72d14b').text('710 of 1000');"
       ],
       "metadata": {},
       "output_type": "display_data",
       "text": [
        "<IPython.core.display.Javascript at 0x16f97c50>"
       ]
      },
      {
       "javascript": [
        "$('div#ec1cad03-9fed-4416-ba7b-d64aae9eb0dc').text(' 71%');"
       ],
       "metadata": {},
       "output_type": "display_data",
       "text": [
        "<IPython.core.display.Javascript at 0x16f97710>"
       ]
      },
      {
       "javascript": [
        "\n",
        "        var $myPB = $(\"div#cced99e4-9493-4925-a6af-e935904ae291\")\n",
        "        if ($myPB.hasClass('ui-progressbar')) {\n",
        "            $myPB.progressbar('value', 710);\n",
        "        } else {\n",
        "            $myPB.progressbar({value: 0, max: 1000});\n",
        "        }\n",
        "        "
       ],
       "metadata": {},
       "output_type": "display_data",
       "text": [
        "<IPython.core.display.Javascript at 0x1ffa1048>"
       ]
      },
      {
       "javascript": [
        "$('div#7b44511c-11f3-4261-9703-602ef9399934').text('ETA:  0:00:00');"
       ],
       "metadata": {},
       "output_type": "display_data",
       "text": [
        "<IPython.core.display.Javascript at 0x1a09b4e0>"
       ]
      },
      {
       "javascript": [
        "$('div#27a53f44-ad4e-4de7-9e75-fe64fd72d14b').text('720 of 1000');"
       ],
       "metadata": {},
       "output_type": "display_data",
       "text": [
        "<IPython.core.display.Javascript at 0x16f97ef0>"
       ]
      },
      {
       "javascript": [
        "$('div#ec1cad03-9fed-4416-ba7b-d64aae9eb0dc').text(' 72%');"
       ],
       "metadata": {},
       "output_type": "display_data",
       "text": [
        "<IPython.core.display.Javascript at 0x16f97668>"
       ]
      },
      {
       "javascript": [
        "\n",
        "        var $myPB = $(\"div#cced99e4-9493-4925-a6af-e935904ae291\")\n",
        "        if ($myPB.hasClass('ui-progressbar')) {\n",
        "            $myPB.progressbar('value', 720);\n",
        "        } else {\n",
        "            $myPB.progressbar({value: 0, max: 1000});\n",
        "        }\n",
        "        "
       ],
       "metadata": {},
       "output_type": "display_data",
       "text": [
        "<IPython.core.display.Javascript at 0x1ffa1048>"
       ]
      },
      {
       "javascript": [
        "$('div#7b44511c-11f3-4261-9703-602ef9399934').text('ETA:  0:00:00');"
       ],
       "metadata": {},
       "output_type": "display_data",
       "text": [
        "<IPython.core.display.Javascript at 0x1a09b4e0>"
       ]
      },
      {
       "javascript": [
        "$('div#27a53f44-ad4e-4de7-9e75-fe64fd72d14b').text('730 of 1000');"
       ],
       "metadata": {},
       "output_type": "display_data",
       "text": [
        "<IPython.core.display.Javascript at 0x16f97668>"
       ]
      },
      {
       "javascript": [
        "$('div#ec1cad03-9fed-4416-ba7b-d64aae9eb0dc').text(' 73%');"
       ],
       "metadata": {},
       "output_type": "display_data",
       "text": [
        "<IPython.core.display.Javascript at 0x16f97e80>"
       ]
      },
      {
       "javascript": [
        "\n",
        "        var $myPB = $(\"div#cced99e4-9493-4925-a6af-e935904ae291\")\n",
        "        if ($myPB.hasClass('ui-progressbar')) {\n",
        "            $myPB.progressbar('value', 730);\n",
        "        } else {\n",
        "            $myPB.progressbar({value: 0, max: 1000});\n",
        "        }\n",
        "        "
       ],
       "metadata": {},
       "output_type": "display_data",
       "text": [
        "<IPython.core.display.Javascript at 0x1ffa1048>"
       ]
      },
      {
       "javascript": [
        "$('div#7b44511c-11f3-4261-9703-602ef9399934').text('ETA:  0:00:00');"
       ],
       "metadata": {},
       "output_type": "display_data",
       "text": [
        "<IPython.core.display.Javascript at 0x1a09b4e0>"
       ]
      },
      {
       "javascript": [
        "$('div#27a53f44-ad4e-4de7-9e75-fe64fd72d14b').text('740 of 1000');"
       ],
       "metadata": {},
       "output_type": "display_data",
       "text": [
        "<IPython.core.display.Javascript at 0x16f97cc0>"
       ]
      },
      {
       "javascript": [
        "$('div#ec1cad03-9fed-4416-ba7b-d64aae9eb0dc').text(' 74%');"
       ],
       "metadata": {},
       "output_type": "display_data",
       "text": [
        "<IPython.core.display.Javascript at 0x16f975f8>"
       ]
      },
      {
       "javascript": [
        "\n",
        "        var $myPB = $(\"div#cced99e4-9493-4925-a6af-e935904ae291\")\n",
        "        if ($myPB.hasClass('ui-progressbar')) {\n",
        "            $myPB.progressbar('value', 740);\n",
        "        } else {\n",
        "            $myPB.progressbar({value: 0, max: 1000});\n",
        "        }\n",
        "        "
       ],
       "metadata": {},
       "output_type": "display_data",
       "text": [
        "<IPython.core.display.Javascript at 0x1ffa1048>"
       ]
      },
      {
       "javascript": [
        "$('div#7b44511c-11f3-4261-9703-602ef9399934').text('ETA:  0:00:00');"
       ],
       "metadata": {},
       "output_type": "display_data",
       "text": [
        "<IPython.core.display.Javascript at 0x1a09b4e0>"
       ]
      },
      {
       "javascript": [
        "$('div#27a53f44-ad4e-4de7-9e75-fe64fd72d14b').text('750 of 1000');"
       ],
       "metadata": {},
       "output_type": "display_data",
       "text": [
        "<IPython.core.display.Javascript at 0x16f97080>"
       ]
      },
      {
       "javascript": [
        "$('div#ec1cad03-9fed-4416-ba7b-d64aae9eb0dc').text(' 75%');"
       ],
       "metadata": {},
       "output_type": "display_data",
       "text": [
        "<IPython.core.display.Javascript at 0x16f975f8>"
       ]
      },
      {
       "javascript": [
        "\n",
        "        var $myPB = $(\"div#cced99e4-9493-4925-a6af-e935904ae291\")\n",
        "        if ($myPB.hasClass('ui-progressbar')) {\n",
        "            $myPB.progressbar('value', 750);\n",
        "        } else {\n",
        "            $myPB.progressbar({value: 0, max: 1000});\n",
        "        }\n",
        "        "
       ],
       "metadata": {},
       "output_type": "display_data",
       "text": [
        "<IPython.core.display.Javascript at 0x1ffa1048>"
       ]
      },
      {
       "javascript": [
        "$('div#7b44511c-11f3-4261-9703-602ef9399934').text('ETA:  0:00:00');"
       ],
       "metadata": {},
       "output_type": "display_data",
       "text": [
        "<IPython.core.display.Javascript at 0x1a09b4e0>"
       ]
      },
      {
       "javascript": [
        "$('div#27a53f44-ad4e-4de7-9e75-fe64fd72d14b').text('760 of 1000');"
       ],
       "metadata": {},
       "output_type": "display_data",
       "text": [
        "<IPython.core.display.Javascript at 0x16f97f98>"
       ]
      },
      {
       "javascript": [
        "$('div#ec1cad03-9fed-4416-ba7b-d64aae9eb0dc').text(' 76%');"
       ],
       "metadata": {},
       "output_type": "display_data",
       "text": [
        "<IPython.core.display.Javascript at 0x16f97240>"
       ]
      },
      {
       "javascript": [
        "\n",
        "        var $myPB = $(\"div#cced99e4-9493-4925-a6af-e935904ae291\")\n",
        "        if ($myPB.hasClass('ui-progressbar')) {\n",
        "            $myPB.progressbar('value', 760);\n",
        "        } else {\n",
        "            $myPB.progressbar({value: 0, max: 1000});\n",
        "        }\n",
        "        "
       ],
       "metadata": {},
       "output_type": "display_data",
       "text": [
        "<IPython.core.display.Javascript at 0x1ffa1048>"
       ]
      },
      {
       "javascript": [
        "$('div#7b44511c-11f3-4261-9703-602ef9399934').text('ETA:  0:00:00');"
       ],
       "metadata": {},
       "output_type": "display_data",
       "text": [
        "<IPython.core.display.Javascript at 0x1a09b4e0>"
       ]
      },
      {
       "javascript": [
        "$('div#27a53f44-ad4e-4de7-9e75-fe64fd72d14b').text('770 of 1000');"
       ],
       "metadata": {},
       "output_type": "display_data",
       "text": [
        "<IPython.core.display.Javascript at 0x16f974e0>"
       ]
      },
      {
       "javascript": [
        "$('div#ec1cad03-9fed-4416-ba7b-d64aae9eb0dc').text(' 77%');"
       ],
       "metadata": {},
       "output_type": "display_data",
       "text": [
        "<IPython.core.display.Javascript at 0x16f97240>"
       ]
      },
      {
       "javascript": [
        "\n",
        "        var $myPB = $(\"div#cced99e4-9493-4925-a6af-e935904ae291\")\n",
        "        if ($myPB.hasClass('ui-progressbar')) {\n",
        "            $myPB.progressbar('value', 770);\n",
        "        } else {\n",
        "            $myPB.progressbar({value: 0, max: 1000});\n",
        "        }\n",
        "        "
       ],
       "metadata": {},
       "output_type": "display_data",
       "text": [
        "<IPython.core.display.Javascript at 0x1ffa1048>"
       ]
      },
      {
       "javascript": [
        "$('div#7b44511c-11f3-4261-9703-602ef9399934').text('ETA:  0:00:00');"
       ],
       "metadata": {},
       "output_type": "display_data",
       "text": [
        "<IPython.core.display.Javascript at 0x1a09b4e0>"
       ]
      },
      {
       "javascript": [
        "$('div#27a53f44-ad4e-4de7-9e75-fe64fd72d14b').text('780 of 1000');"
       ],
       "metadata": {},
       "output_type": "display_data",
       "text": [
        "<IPython.core.display.Javascript at 0x16f97ef0>"
       ]
      },
      {
       "javascript": [
        "$('div#ec1cad03-9fed-4416-ba7b-d64aae9eb0dc').text(' 78%');"
       ],
       "metadata": {},
       "output_type": "display_data",
       "text": [
        "<IPython.core.display.Javascript at 0x16f97240>"
       ]
      },
      {
       "javascript": [
        "\n",
        "        var $myPB = $(\"div#cced99e4-9493-4925-a6af-e935904ae291\")\n",
        "        if ($myPB.hasClass('ui-progressbar')) {\n",
        "            $myPB.progressbar('value', 780);\n",
        "        } else {\n",
        "            $myPB.progressbar({value: 0, max: 1000});\n",
        "        }\n",
        "        "
       ],
       "metadata": {},
       "output_type": "display_data",
       "text": [
        "<IPython.core.display.Javascript at 0x1ffa1048>"
       ]
      },
      {
       "javascript": [
        "$('div#7b44511c-11f3-4261-9703-602ef9399934').text('ETA:  0:00:00');"
       ],
       "metadata": {},
       "output_type": "display_data",
       "text": [
        "<IPython.core.display.Javascript at 0x1a09b4e0>"
       ]
      },
      {
       "javascript": [
        "$('div#27a53f44-ad4e-4de7-9e75-fe64fd72d14b').text('790 of 1000');"
       ],
       "metadata": {},
       "output_type": "display_data",
       "text": [
        "<IPython.core.display.Javascript at 0x16f971d0>"
       ]
      },
      {
       "javascript": [
        "$('div#ec1cad03-9fed-4416-ba7b-d64aae9eb0dc').text(' 79%');"
       ],
       "metadata": {},
       "output_type": "display_data",
       "text": [
        "<IPython.core.display.Javascript at 0x16f979b0>"
       ]
      },
      {
       "javascript": [
        "\n",
        "        var $myPB = $(\"div#cced99e4-9493-4925-a6af-e935904ae291\")\n",
        "        if ($myPB.hasClass('ui-progressbar')) {\n",
        "            $myPB.progressbar('value', 790);\n",
        "        } else {\n",
        "            $myPB.progressbar({value: 0, max: 1000});\n",
        "        }\n",
        "        "
       ],
       "metadata": {},
       "output_type": "display_data",
       "text": [
        "<IPython.core.display.Javascript at 0x1ffa1048>"
       ]
      },
      {
       "javascript": [
        "$('div#7b44511c-11f3-4261-9703-602ef9399934').text('ETA:  0:00:00');"
       ],
       "metadata": {},
       "output_type": "display_data",
       "text": [
        "<IPython.core.display.Javascript at 0x1a09b4e0>"
       ]
      },
      {
       "javascript": [
        "$('div#27a53f44-ad4e-4de7-9e75-fe64fd72d14b').text('800 of 1000');"
       ],
       "metadata": {},
       "output_type": "display_data",
       "text": [
        "<IPython.core.display.Javascript at 0x16f974e0>"
       ]
      },
      {
       "javascript": [
        "$('div#ec1cad03-9fed-4416-ba7b-d64aae9eb0dc').text(' 80%');"
       ],
       "metadata": {},
       "output_type": "display_data",
       "text": [
        "<IPython.core.display.Javascript at 0x16f97cc0>"
       ]
      },
      {
       "javascript": [
        "\n",
        "        var $myPB = $(\"div#cced99e4-9493-4925-a6af-e935904ae291\")\n",
        "        if ($myPB.hasClass('ui-progressbar')) {\n",
        "            $myPB.progressbar('value', 800);\n",
        "        } else {\n",
        "            $myPB.progressbar({value: 0, max: 1000});\n",
        "        }\n",
        "        "
       ],
       "metadata": {},
       "output_type": "display_data",
       "text": [
        "<IPython.core.display.Javascript at 0x1ffa1048>"
       ]
      },
      {
       "javascript": [
        "$('div#7b44511c-11f3-4261-9703-602ef9399934').text('ETA:  0:00:00');"
       ],
       "metadata": {},
       "output_type": "display_data",
       "text": [
        "<IPython.core.display.Javascript at 0x1a09b4e0>"
       ]
      },
      {
       "javascript": [
        "$('div#27a53f44-ad4e-4de7-9e75-fe64fd72d14b').text('810 of 1000');"
       ],
       "metadata": {},
       "output_type": "display_data",
       "text": [
        "<IPython.core.display.Javascript at 0x16f97ef0>"
       ]
      },
      {
       "javascript": [
        "$('div#ec1cad03-9fed-4416-ba7b-d64aae9eb0dc').text(' 81%');"
       ],
       "metadata": {},
       "output_type": "display_data",
       "text": [
        "<IPython.core.display.Javascript at 0x16f971d0>"
       ]
      },
      {
       "javascript": [
        "\n",
        "        var $myPB = $(\"div#cced99e4-9493-4925-a6af-e935904ae291\")\n",
        "        if ($myPB.hasClass('ui-progressbar')) {\n",
        "            $myPB.progressbar('value', 810);\n",
        "        } else {\n",
        "            $myPB.progressbar({value: 0, max: 1000});\n",
        "        }\n",
        "        "
       ],
       "metadata": {},
       "output_type": "display_data",
       "text": [
        "<IPython.core.display.Javascript at 0x18cd1278>"
       ]
      },
      {
       "javascript": [
        "$('div#7b44511c-11f3-4261-9703-602ef9399934').text('ETA:  0:00:00');"
       ],
       "metadata": {},
       "output_type": "display_data",
       "text": [
        "<IPython.core.display.Javascript at 0x18cd1eb8>"
       ]
      },
      {
       "javascript": [
        "$('div#27a53f44-ad4e-4de7-9e75-fe64fd72d14b').text('820 of 1000');"
       ],
       "metadata": {},
       "output_type": "display_data",
       "text": [
        "<IPython.core.display.Javascript at 0x16f97c88>"
       ]
      },
      {
       "javascript": [
        "$('div#ec1cad03-9fed-4416-ba7b-d64aae9eb0dc').text(' 82%');"
       ],
       "metadata": {},
       "output_type": "display_data",
       "text": [
        "<IPython.core.display.Javascript at 0x1a09b4e0>"
       ]
      },
      {
       "javascript": [
        "\n",
        "        var $myPB = $(\"div#cced99e4-9493-4925-a6af-e935904ae291\")\n",
        "        if ($myPB.hasClass('ui-progressbar')) {\n",
        "            $myPB.progressbar('value', 820);\n",
        "        } else {\n",
        "            $myPB.progressbar({value: 0, max: 1000});\n",
        "        }\n",
        "        "
       ],
       "metadata": {},
       "output_type": "display_data",
       "text": [
        "<IPython.core.display.Javascript at 0x1a09b4e0>"
       ]
      },
      {
       "javascript": [
        "$('div#7b44511c-11f3-4261-9703-602ef9399934').text('ETA:  0:00:00');"
       ],
       "metadata": {},
       "output_type": "display_data",
       "text": [
        "<IPython.core.display.Javascript at 0x1ffa1048>"
       ]
      },
      {
       "javascript": [
        "$('div#27a53f44-ad4e-4de7-9e75-fe64fd72d14b').text('830 of 1000');"
       ],
       "metadata": {},
       "output_type": "display_data",
       "text": [
        "<IPython.core.display.Javascript at 0x16f97a20>"
       ]
      },
      {
       "javascript": [
        "$('div#ec1cad03-9fed-4416-ba7b-d64aae9eb0dc').text(' 83%');"
       ],
       "metadata": {},
       "output_type": "display_data",
       "text": [
        "<IPython.core.display.Javascript at 0x16f971d0>"
       ]
      },
      {
       "javascript": [
        "\n",
        "        var $myPB = $(\"div#cced99e4-9493-4925-a6af-e935904ae291\")\n",
        "        if ($myPB.hasClass('ui-progressbar')) {\n",
        "            $myPB.progressbar('value', 830);\n",
        "        } else {\n",
        "            $myPB.progressbar({value: 0, max: 1000});\n",
        "        }\n",
        "        "
       ],
       "metadata": {},
       "output_type": "display_data",
       "text": [
        "<IPython.core.display.Javascript at 0x18cd1eb8>"
       ]
      },
      {
       "javascript": [
        "$('div#7b44511c-11f3-4261-9703-602ef9399934').text('ETA:  0:00:00');"
       ],
       "metadata": {},
       "output_type": "display_data",
       "text": [
        "<IPython.core.display.Javascript at 0x18cd1278>"
       ]
      },
      {
       "javascript": [
        "$('div#27a53f44-ad4e-4de7-9e75-fe64fd72d14b').text('840 of 1000');"
       ],
       "metadata": {},
       "output_type": "display_data",
       "text": [
        "<IPython.core.display.Javascript at 0x16f97ef0>"
       ]
      },
      {
       "javascript": [
        "$('div#ec1cad03-9fed-4416-ba7b-d64aae9eb0dc').text(' 84%');"
       ],
       "metadata": {},
       "output_type": "display_data",
       "text": [
        "<IPython.core.display.Javascript at 0x1ffa1048>"
       ]
      },
      {
       "javascript": [
        "\n",
        "        var $myPB = $(\"div#cced99e4-9493-4925-a6af-e935904ae291\")\n",
        "        if ($myPB.hasClass('ui-progressbar')) {\n",
        "            $myPB.progressbar('value', 840);\n",
        "        } else {\n",
        "            $myPB.progressbar({value: 0, max: 1000});\n",
        "        }\n",
        "        "
       ],
       "metadata": {},
       "output_type": "display_data",
       "text": [
        "<IPython.core.display.Javascript at 0x1ffa1048>"
       ]
      },
      {
       "javascript": [
        "$('div#7b44511c-11f3-4261-9703-602ef9399934').text('ETA:  0:00:00');"
       ],
       "metadata": {},
       "output_type": "display_data",
       "text": [
        "<IPython.core.display.Javascript at 0x1a09b4e0>"
       ]
      },
      {
       "javascript": [
        "$('div#27a53f44-ad4e-4de7-9e75-fe64fd72d14b').text('850 of 1000');"
       ],
       "metadata": {},
       "output_type": "display_data",
       "text": [
        "<IPython.core.display.Javascript at 0x16f971d0>"
       ]
      },
      {
       "javascript": [
        "$('div#ec1cad03-9fed-4416-ba7b-d64aae9eb0dc').text(' 85%');"
       ],
       "metadata": {},
       "output_type": "display_data",
       "text": [
        "<IPython.core.display.Javascript at 0x16f97ef0>"
       ]
      },
      {
       "javascript": [
        "\n",
        "        var $myPB = $(\"div#cced99e4-9493-4925-a6af-e935904ae291\")\n",
        "        if ($myPB.hasClass('ui-progressbar')) {\n",
        "            $myPB.progressbar('value', 850);\n",
        "        } else {\n",
        "            $myPB.progressbar({value: 0, max: 1000});\n",
        "        }\n",
        "        "
       ],
       "metadata": {},
       "output_type": "display_data",
       "text": [
        "<IPython.core.display.Javascript at 0x18cd1278>"
       ]
      },
      {
       "javascript": [
        "$('div#7b44511c-11f3-4261-9703-602ef9399934').text('ETA:  0:00:00');"
       ],
       "metadata": {},
       "output_type": "display_data",
       "text": [
        "<IPython.core.display.Javascript at 0x18cd1eb8>"
       ]
      },
      {
       "javascript": [
        "$('div#27a53f44-ad4e-4de7-9e75-fe64fd72d14b').text('860 of 1000');"
       ],
       "metadata": {},
       "output_type": "display_data",
       "text": [
        "<IPython.core.display.Javascript at 0x16f97c88>"
       ]
      },
      {
       "javascript": [
        "$('div#ec1cad03-9fed-4416-ba7b-d64aae9eb0dc').text(' 86%');"
       ],
       "metadata": {},
       "output_type": "display_data",
       "text": [
        "<IPython.core.display.Javascript at 0x1ffa1048>"
       ]
      },
      {
       "javascript": [
        "\n",
        "        var $myPB = $(\"div#cced99e4-9493-4925-a6af-e935904ae291\")\n",
        "        if ($myPB.hasClass('ui-progressbar')) {\n",
        "            $myPB.progressbar('value', 860);\n",
        "        } else {\n",
        "            $myPB.progressbar({value: 0, max: 1000});\n",
        "        }\n",
        "        "
       ],
       "metadata": {},
       "output_type": "display_data",
       "text": [
        "<IPython.core.display.Javascript at 0x1ffa1048>"
       ]
      },
      {
       "javascript": [
        "$('div#7b44511c-11f3-4261-9703-602ef9399934').text('ETA:  0:00:00');"
       ],
       "metadata": {},
       "output_type": "display_data",
       "text": [
        "<IPython.core.display.Javascript at 0x16f97ef0>"
       ]
      },
      {
       "javascript": [
        "$('div#27a53f44-ad4e-4de7-9e75-fe64fd72d14b').text('870 of 1000');"
       ],
       "metadata": {},
       "output_type": "display_data",
       "text": [
        "<IPython.core.display.Javascript at 0x16f971d0>"
       ]
      },
      {
       "javascript": [
        "$('div#ec1cad03-9fed-4416-ba7b-d64aae9eb0dc').text(' 87%');"
       ],
       "metadata": {},
       "output_type": "display_data",
       "text": [
        "<IPython.core.display.Javascript at 0x16f974e0>"
       ]
      },
      {
       "javascript": [
        "\n",
        "        var $myPB = $(\"div#cced99e4-9493-4925-a6af-e935904ae291\")\n",
        "        if ($myPB.hasClass('ui-progressbar')) {\n",
        "            $myPB.progressbar('value', 870);\n",
        "        } else {\n",
        "            $myPB.progressbar({value: 0, max: 1000});\n",
        "        }\n",
        "        "
       ],
       "metadata": {},
       "output_type": "display_data",
       "text": [
        "<IPython.core.display.Javascript at 0x18cd1eb8>"
       ]
      },
      {
       "javascript": [
        "$('div#7b44511c-11f3-4261-9703-602ef9399934').text('ETA:  0:00:00');"
       ],
       "metadata": {},
       "output_type": "display_data",
       "text": [
        "<IPython.core.display.Javascript at 0x18cd1278>"
       ]
      },
      {
       "javascript": [
        "$('div#27a53f44-ad4e-4de7-9e75-fe64fd72d14b').text('880 of 1000');"
       ],
       "metadata": {},
       "output_type": "display_data",
       "text": [
        "<IPython.core.display.Javascript at 0x16f974e0>"
       ]
      },
      {
       "javascript": [
        "$('div#ec1cad03-9fed-4416-ba7b-d64aae9eb0dc').text(' 88%');"
       ],
       "metadata": {},
       "output_type": "display_data",
       "text": [
        "<IPython.core.display.Javascript at 0x16f971d0>"
       ]
      },
      {
       "javascript": [
        "\n",
        "        var $myPB = $(\"div#cced99e4-9493-4925-a6af-e935904ae291\")\n",
        "        if ($myPB.hasClass('ui-progressbar')) {\n",
        "            $myPB.progressbar('value', 880);\n",
        "        } else {\n",
        "            $myPB.progressbar({value: 0, max: 1000});\n",
        "        }\n",
        "        "
       ],
       "metadata": {},
       "output_type": "display_data",
       "text": [
        "<IPython.core.display.Javascript at 0x16f971d0>"
       ]
      },
      {
       "javascript": [
        "$('div#7b44511c-11f3-4261-9703-602ef9399934').text('ETA:  0:00:00');"
       ],
       "metadata": {},
       "output_type": "display_data",
       "text": [
        "<IPython.core.display.Javascript at 0x16f97ef0>"
       ]
      },
      {
       "javascript": [
        "$('div#27a53f44-ad4e-4de7-9e75-fe64fd72d14b').text('890 of 1000');"
       ],
       "metadata": {},
       "output_type": "display_data",
       "text": [
        "<IPython.core.display.Javascript at 0x16f974e0>"
       ]
      },
      {
       "javascript": [
        "$('div#ec1cad03-9fed-4416-ba7b-d64aae9eb0dc').text(' 89%');"
       ],
       "metadata": {},
       "output_type": "display_data",
       "text": [
        "<IPython.core.display.Javascript at 0x18cd1eb8>"
       ]
      },
      {
       "javascript": [
        "\n",
        "        var $myPB = $(\"div#cced99e4-9493-4925-a6af-e935904ae291\")\n",
        "        if ($myPB.hasClass('ui-progressbar')) {\n",
        "            $myPB.progressbar('value', 890);\n",
        "        } else {\n",
        "            $myPB.progressbar({value: 0, max: 1000});\n",
        "        }\n",
        "        "
       ],
       "metadata": {},
       "output_type": "display_data",
       "text": [
        "<IPython.core.display.Javascript at 0x18cd1eb8>"
       ]
      },
      {
       "javascript": [
        "$('div#7b44511c-11f3-4261-9703-602ef9399934').text('ETA:  0:00:00');"
       ],
       "metadata": {},
       "output_type": "display_data",
       "text": [
        "<IPython.core.display.Javascript at 0x18cd1278>"
       ]
      },
      {
       "javascript": [
        "$('div#27a53f44-ad4e-4de7-9e75-fe64fd72d14b').text('900 of 1000');"
       ],
       "metadata": {},
       "output_type": "display_data",
       "text": [
        "<IPython.core.display.Javascript at 0x16f971d0>"
       ]
      },
      {
       "javascript": [
        "$('div#ec1cad03-9fed-4416-ba7b-d64aae9eb0dc').text(' 90%');"
       ],
       "metadata": {},
       "output_type": "display_data",
       "text": [
        "<IPython.core.display.Javascript at 0x16f97ef0>"
       ]
      },
      {
       "javascript": [
        "\n",
        "        var $myPB = $(\"div#cced99e4-9493-4925-a6af-e935904ae291\")\n",
        "        if ($myPB.hasClass('ui-progressbar')) {\n",
        "            $myPB.progressbar('value', 900);\n",
        "        } else {\n",
        "            $myPB.progressbar({value: 0, max: 1000});\n",
        "        }\n",
        "        "
       ],
       "metadata": {},
       "output_type": "display_data",
       "text": [
        "<IPython.core.display.Javascript at 0x16f97ef0>"
       ]
      },
      {
       "javascript": [
        "$('div#7b44511c-11f3-4261-9703-602ef9399934').text('ETA:  0:00:00');"
       ],
       "metadata": {},
       "output_type": "display_data",
       "text": [
        "<IPython.core.display.Javascript at 0x16f974e0>"
       ]
      },
      {
       "javascript": [
        "$('div#27a53f44-ad4e-4de7-9e75-fe64fd72d14b').text('910 of 1000');"
       ],
       "metadata": {},
       "output_type": "display_data",
       "text": [
        "<IPython.core.display.Javascript at 0x16f971d0>"
       ]
      },
      {
       "javascript": [
        "$('div#ec1cad03-9fed-4416-ba7b-d64aae9eb0dc').text(' 91%');"
       ],
       "metadata": {},
       "output_type": "display_data",
       "text": [
        "<IPython.core.display.Javascript at 0x18cd1eb8>"
       ]
      },
      {
       "javascript": [
        "\n",
        "        var $myPB = $(\"div#cced99e4-9493-4925-a6af-e935904ae291\")\n",
        "        if ($myPB.hasClass('ui-progressbar')) {\n",
        "            $myPB.progressbar('value', 910);\n",
        "        } else {\n",
        "            $myPB.progressbar({value: 0, max: 1000});\n",
        "        }\n",
        "        "
       ],
       "metadata": {},
       "output_type": "display_data",
       "text": [
        "<IPython.core.display.Javascript at 0x18cd1eb8>"
       ]
      },
      {
       "javascript": [
        "$('div#7b44511c-11f3-4261-9703-602ef9399934').text('ETA:  0:00:00');"
       ],
       "metadata": {},
       "output_type": "display_data",
       "text": [
        "<IPython.core.display.Javascript at 0x18cd1278>"
       ]
      },
      {
       "javascript": [
        "$('div#27a53f44-ad4e-4de7-9e75-fe64fd72d14b').text('920 of 1000');"
       ],
       "metadata": {},
       "output_type": "display_data",
       "text": [
        "<IPython.core.display.Javascript at 0x16f97ef0>"
       ]
      },
      {
       "javascript": [
        "$('div#ec1cad03-9fed-4416-ba7b-d64aae9eb0dc').text(' 92%');"
       ],
       "metadata": {},
       "output_type": "display_data",
       "text": [
        "<IPython.core.display.Javascript at 0x16f974e0>"
       ]
      },
      {
       "javascript": [
        "\n",
        "        var $myPB = $(\"div#cced99e4-9493-4925-a6af-e935904ae291\")\n",
        "        if ($myPB.hasClass('ui-progressbar')) {\n",
        "            $myPB.progressbar('value', 920);\n",
        "        } else {\n",
        "            $myPB.progressbar({value: 0, max: 1000});\n",
        "        }\n",
        "        "
       ],
       "metadata": {},
       "output_type": "display_data",
       "text": [
        "<IPython.core.display.Javascript at 0x16f974e0>"
       ]
      },
      {
       "javascript": [
        "$('div#7b44511c-11f3-4261-9703-602ef9399934').text('ETA:  0:00:00');"
       ],
       "metadata": {},
       "output_type": "display_data",
       "text": [
        "<IPython.core.display.Javascript at 0x16f971d0>"
       ]
      },
      {
       "javascript": [
        "$('div#27a53f44-ad4e-4de7-9e75-fe64fd72d14b').text('930 of 1000');"
       ],
       "metadata": {},
       "output_type": "display_data",
       "text": [
        "<IPython.core.display.Javascript at 0x16f97ef0>"
       ]
      },
      {
       "javascript": [
        "$('div#ec1cad03-9fed-4416-ba7b-d64aae9eb0dc').text(' 93%');"
       ],
       "metadata": {},
       "output_type": "display_data",
       "text": [
        "<IPython.core.display.Javascript at 0x18cd1eb8>"
       ]
      },
      {
       "javascript": [
        "\n",
        "        var $myPB = $(\"div#cced99e4-9493-4925-a6af-e935904ae291\")\n",
        "        if ($myPB.hasClass('ui-progressbar')) {\n",
        "            $myPB.progressbar('value', 930);\n",
        "        } else {\n",
        "            $myPB.progressbar({value: 0, max: 1000});\n",
        "        }\n",
        "        "
       ],
       "metadata": {},
       "output_type": "display_data",
       "text": [
        "<IPython.core.display.Javascript at 0x18cd1eb8>"
       ]
      },
      {
       "javascript": [
        "$('div#7b44511c-11f3-4261-9703-602ef9399934').text('ETA:  0:00:00');"
       ],
       "metadata": {},
       "output_type": "display_data",
       "text": [
        "<IPython.core.display.Javascript at 0x18cd1278>"
       ]
      },
      {
       "javascript": [
        "$('div#27a53f44-ad4e-4de7-9e75-fe64fd72d14b').text('940 of 1000');"
       ],
       "metadata": {},
       "output_type": "display_data",
       "text": [
        "<IPython.core.display.Javascript at 0x16f974e0>"
       ]
      },
      {
       "javascript": [
        "$('div#ec1cad03-9fed-4416-ba7b-d64aae9eb0dc').text(' 94%');"
       ],
       "metadata": {},
       "output_type": "display_data",
       "text": [
        "<IPython.core.display.Javascript at 0x16f971d0>"
       ]
      },
      {
       "javascript": [
        "\n",
        "        var $myPB = $(\"div#cced99e4-9493-4925-a6af-e935904ae291\")\n",
        "        if ($myPB.hasClass('ui-progressbar')) {\n",
        "            $myPB.progressbar('value', 940);\n",
        "        } else {\n",
        "            $myPB.progressbar({value: 0, max: 1000});\n",
        "        }\n",
        "        "
       ],
       "metadata": {},
       "output_type": "display_data",
       "text": [
        "<IPython.core.display.Javascript at 0x16f971d0>"
       ]
      },
      {
       "javascript": [
        "$('div#7b44511c-11f3-4261-9703-602ef9399934').text('ETA:  0:00:00');"
       ],
       "metadata": {},
       "output_type": "display_data",
       "text": [
        "<IPython.core.display.Javascript at 0x16f97ef0>"
       ]
      },
      {
       "javascript": [
        "$('div#27a53f44-ad4e-4de7-9e75-fe64fd72d14b').text('950 of 1000');"
       ],
       "metadata": {},
       "output_type": "display_data",
       "text": [
        "<IPython.core.display.Javascript at 0x16f974e0>"
       ]
      },
      {
       "javascript": [
        "$('div#ec1cad03-9fed-4416-ba7b-d64aae9eb0dc').text(' 95%');"
       ],
       "metadata": {},
       "output_type": "display_data",
       "text": [
        "<IPython.core.display.Javascript at 0x18cd1eb8>"
       ]
      },
      {
       "javascript": [
        "\n",
        "        var $myPB = $(\"div#cced99e4-9493-4925-a6af-e935904ae291\")\n",
        "        if ($myPB.hasClass('ui-progressbar')) {\n",
        "            $myPB.progressbar('value', 950);\n",
        "        } else {\n",
        "            $myPB.progressbar({value: 0, max: 1000});\n",
        "        }\n",
        "        "
       ],
       "metadata": {},
       "output_type": "display_data",
       "text": [
        "<IPython.core.display.Javascript at 0x18cd1eb8>"
       ]
      },
      {
       "javascript": [
        "$('div#7b44511c-11f3-4261-9703-602ef9399934').text('ETA:  0:00:00');"
       ],
       "metadata": {},
       "output_type": "display_data",
       "text": [
        "<IPython.core.display.Javascript at 0x18cd1278>"
       ]
      },
      {
       "javascript": [
        "$('div#27a53f44-ad4e-4de7-9e75-fe64fd72d14b').text('960 of 1000');"
       ],
       "metadata": {},
       "output_type": "display_data",
       "text": [
        "<IPython.core.display.Javascript at 0x16f974e0>"
       ]
      },
      {
       "javascript": [
        "$('div#ec1cad03-9fed-4416-ba7b-d64aae9eb0dc').text(' 96%');"
       ],
       "metadata": {},
       "output_type": "display_data",
       "text": [
        "<IPython.core.display.Javascript at 0x1beae748>"
       ]
      },
      {
       "javascript": [
        "\n",
        "        var $myPB = $(\"div#cced99e4-9493-4925-a6af-e935904ae291\")\n",
        "        if ($myPB.hasClass('ui-progressbar')) {\n",
        "            $myPB.progressbar('value', 960);\n",
        "        } else {\n",
        "            $myPB.progressbar({value: 0, max: 1000});\n",
        "        }\n",
        "        "
       ],
       "metadata": {},
       "output_type": "display_data",
       "text": [
        "<IPython.core.display.Javascript at 0x16f974e0>"
       ]
      },
      {
       "javascript": [
        "$('div#7b44511c-11f3-4261-9703-602ef9399934').text('ETA:  0:00:00');"
       ],
       "metadata": {},
       "output_type": "display_data",
       "text": [
        "<IPython.core.display.Javascript at 0x18cd1eb8>"
       ]
      },
      {
       "javascript": [
        "$('div#27a53f44-ad4e-4de7-9e75-fe64fd72d14b').text('970 of 1000');"
       ],
       "metadata": {},
       "output_type": "display_data",
       "text": [
        "<IPython.core.display.Javascript at 0x18cd1278>"
       ]
      },
      {
       "javascript": [
        "$('div#ec1cad03-9fed-4416-ba7b-d64aae9eb0dc').text(' 97%');"
       ],
       "metadata": {},
       "output_type": "display_data",
       "text": [
        "<IPython.core.display.Javascript at 0x1beae748>"
       ]
      },
      {
       "javascript": [
        "\n",
        "        var $myPB = $(\"div#cced99e4-9493-4925-a6af-e935904ae291\")\n",
        "        if ($myPB.hasClass('ui-progressbar')) {\n",
        "            $myPB.progressbar('value', 970);\n",
        "        } else {\n",
        "            $myPB.progressbar({value: 0, max: 1000});\n",
        "        }\n",
        "        "
       ],
       "metadata": {},
       "output_type": "display_data",
       "text": [
        "<IPython.core.display.Javascript at 0x16f974e0>"
       ]
      },
      {
       "javascript": [
        "$('div#7b44511c-11f3-4261-9703-602ef9399934').text('ETA:  0:00:00');"
       ],
       "metadata": {},
       "output_type": "display_data",
       "text": [
        "<IPython.core.display.Javascript at 0x18cd1eb8>"
       ]
      },
      {
       "javascript": [
        "$('div#27a53f44-ad4e-4de7-9e75-fe64fd72d14b').text('980 of 1000');"
       ],
       "metadata": {},
       "output_type": "display_data",
       "text": [
        "<IPython.core.display.Javascript at 0x1beae198>"
       ]
      },
      {
       "javascript": [
        "$('div#ec1cad03-9fed-4416-ba7b-d64aae9eb0dc').text(' 98%');"
       ],
       "metadata": {},
       "output_type": "display_data",
       "text": [
        "<IPython.core.display.Javascript at 0x1beaeeb8>"
       ]
      },
      {
       "javascript": [
        "\n",
        "        var $myPB = $(\"div#cced99e4-9493-4925-a6af-e935904ae291\")\n",
        "        if ($myPB.hasClass('ui-progressbar')) {\n",
        "            $myPB.progressbar('value', 980);\n",
        "        } else {\n",
        "            $myPB.progressbar({value: 0, max: 1000});\n",
        "        }\n",
        "        "
       ],
       "metadata": {},
       "output_type": "display_data",
       "text": [
        "<IPython.core.display.Javascript at 0x16f974e0>"
       ]
      },
      {
       "javascript": [
        "$('div#7b44511c-11f3-4261-9703-602ef9399934').text('ETA:  0:00:00');"
       ],
       "metadata": {},
       "output_type": "display_data",
       "text": [
        "<IPython.core.display.Javascript at 0x18cd1eb8>"
       ]
      },
      {
       "javascript": [
        "$('div#27a53f44-ad4e-4de7-9e75-fe64fd72d14b').text('990 of 1000');"
       ],
       "metadata": {},
       "output_type": "display_data",
       "text": [
        "<IPython.core.display.Javascript at 0x1beaefd0>"
       ]
      },
      {
       "javascript": [
        "$('div#ec1cad03-9fed-4416-ba7b-d64aae9eb0dc').text(' 99%');"
       ],
       "metadata": {},
       "output_type": "display_data",
       "text": [
        "<IPython.core.display.Javascript at 0x1beaeb38>"
       ]
      },
      {
       "javascript": [
        "\n",
        "        var $myPB = $(\"div#cced99e4-9493-4925-a6af-e935904ae291\")\n",
        "        if ($myPB.hasClass('ui-progressbar')) {\n",
        "            $myPB.progressbar('value', 990);\n",
        "        } else {\n",
        "            $myPB.progressbar({value: 0, max: 1000});\n",
        "        }\n",
        "        "
       ],
       "metadata": {},
       "output_type": "display_data",
       "text": [
        "<IPython.core.display.Javascript at 0x16f974e0>"
       ]
      },
      {
       "javascript": [
        "$('div#7b44511c-11f3-4261-9703-602ef9399934').text('ETA:  0:00:00');"
       ],
       "metadata": {},
       "output_type": "display_data",
       "text": [
        "<IPython.core.display.Javascript at 0x18cd1eb8>"
       ]
      },
      {
       "javascript": [
        "$('div#27a53f44-ad4e-4de7-9e75-fe64fd72d14b').text('1000 of 1000');"
       ],
       "metadata": {},
       "output_type": "display_data",
       "text": [
        "<IPython.core.display.Javascript at 0x1beaeb38>"
       ]
      },
      {
       "javascript": [
        "$('div#ec1cad03-9fed-4416-ba7b-d64aae9eb0dc').text('100%');"
       ],
       "metadata": {},
       "output_type": "display_data",
       "text": [
        "<IPython.core.display.Javascript at 0x1beae630>"
       ]
      },
      {
       "javascript": [
        "\n",
        "        var $myPB = $(\"div#cced99e4-9493-4925-a6af-e935904ae291\")\n",
        "        if ($myPB.hasClass('ui-progressbar')) {\n",
        "            $myPB.progressbar('value', 1000);\n",
        "        } else {\n",
        "            $myPB.progressbar({value: 0, max: 1000});\n",
        "        }\n",
        "        "
       ],
       "metadata": {},
       "output_type": "display_data",
       "text": [
        "<IPython.core.display.Javascript at 0x16f974e0>"
       ]
      },
      {
       "javascript": [
        "$('div#7b44511c-11f3-4261-9703-602ef9399934').text('ETA:  0:00:00');"
       ],
       "metadata": {},
       "output_type": "display_data",
       "text": [
        "<IPython.core.display.Javascript at 0x18cd1eb8>"
       ]
      },
      {
       "javascript": [
        "$('div#27a53f44-ad4e-4de7-9e75-fe64fd72d14b').text('1000 of 1000');"
       ],
       "metadata": {},
       "output_type": "display_data",
       "text": [
        "<IPython.core.display.Javascript at 0x16b46908>"
       ]
      },
      {
       "javascript": [
        "$('div#ec1cad03-9fed-4416-ba7b-d64aae9eb0dc').text('100%');"
       ],
       "metadata": {},
       "output_type": "display_data",
       "text": [
        "<IPython.core.display.Javascript at 0x1beaee10>"
       ]
      },
      {
       "javascript": [
        "\n",
        "        var $myPB = $(\"div#cced99e4-9493-4925-a6af-e935904ae291\")\n",
        "        if ($myPB.hasClass('ui-progressbar')) {\n",
        "            $myPB.progressbar('value', 1000);\n",
        "        } else {\n",
        "            $myPB.progressbar({value: 0, max: 1000});\n",
        "        }\n",
        "        "
       ],
       "metadata": {},
       "output_type": "display_data",
       "text": [
        "<IPython.core.display.Javascript at 0x18cd1eb8>"
       ]
      },
      {
       "javascript": [
        "$('div#7b44511c-11f3-4261-9703-602ef9399934').text('Time: 0:00:00');"
       ],
       "metadata": {},
       "output_type": "display_data",
       "text": [
        "<IPython.core.display.Javascript at 0x16b46908>"
       ]
      },
      {
       "javascript": [
        "var element = document.getElementById('0823ffd9-5200-41dd-9bcc-ee0aca698e46');\n",
        "                    var parent = element.parentNode\n",
        "                    parent.removeChild(element);\n",
        "                    parent.parentElement.remove();"
       ],
       "metadata": {},
       "output_type": "display_data",
       "text": [
        "<IPython.core.display.Javascript at 0x16b46828>"
       ]
      },
      {
       "javascript": [
        "this.cleanProgressBar(['0823ffd9-5200-41dd-9bcc-ee0aca698e46', '27a53f44-ad4e-4de7-9e75-fe64fd72d14b', 'ec1cad03-9fed-4416-ba7b-d64aae9eb0dc', 'cced99e4-9493-4925-a6af-e935904ae291', '7b44511c-11f3-4261-9703-602ef9399934'])"
       ],
       "metadata": {},
       "output_type": "display_data",
       "text": [
        "<IPython.core.display.Javascript at 0x16f974e0>"
       ]
      },
      {
       "javascript": [
        "//926a7095-2114-4bff-be69-6aae2ccf54c9\n",
        "$(\"head\").append(\"<style> td.pb_widget {     width: auto; } td.pb_widget_fill {     width: 100%; } table.pb {     font-family: monospace;     border: 0;     margin: 0; } table.pb tr { border: 0; } table.pb td {     white-space: nowrap;     border: 0; } div.pb {     border: 1px solid #ddd;     border-radius: 3px; } div.pb_bar {     height: 1.5em; } </style>\")"
       ],
       "metadata": {},
       "output_type": "display_data",
       "text": [
        "<IPython.core.display.Javascript at 0x16b46908>"
       ]
      },
      {
       "javascript": [
        "\n",
        "                  // 926a7095-2114-4bff-be69-6aae2ccf54c9 -- used to remove this code blob in the end\n",
        "                  IPython.OutputArea.prototype.cleanProgressBar = function(uuids) {\n",
        "                      // filter by uuid-strings \n",
        "                      var myfilter = function(output) { \n",
        "                          var nuids = uuids.length;\n",
        "                          for (var i=0; i<nuids; i++) {\n",
        "                              if (output.hasOwnProperty('html')) {\n",
        "                                  if (output.html.indexOf(uuids[i]) != -1) {\n",
        "                                      return false;\n",
        "                                  }\n",
        "                              }\n",
        "                              if (output.hasOwnProperty('javascript')) {\n",
        "                                  if (output.javascript.indexOf(uuids[i]) != -1) {\n",
        "                                      return false;\n",
        "                                  }\n",
        "                              }\n",
        "                          }\n",
        "                          // keep all others\n",
        "                          return true;\n",
        "                      };\n",
        "\n",
        "                      // Filter the ouputs\n",
        "                      this.outputs = this.outputs.filter(myfilter);\n",
        "                };\n",
        "                "
       ],
       "metadata": {},
       "output_type": "display_data",
       "text": [
        "<IPython.core.display.Javascript at 0x18cd1eb8>"
       ]
      },
      {
       "html": [
        "<div class=\"pb\" id=\"926a7095-2114-4bff-be69-6aae2ccf54c9\"><table class=\"pb ui-widget\"><tr>\n",
        "<td class=\"pb_widget\">tagging sentences</td>\n",
        "<td class=\"pb_widget\"><div id=\"518600a8-7e13-4882-b25c-a2f49ca14836\">0 of 1000</div></td>\n",
        "<td class=\"pb_widget\"><div id=\"882c7c13-5153-4aff-8dfc-1981e7ca3b34\">  0%</div></td>\n",
        "<td class=\"pb_widget_fill\">\n",
        "        <div class=\"pb_bar\" id=\"35139024-0c79-4d24-9e11-10ae8e286083\"></div>\n",
        "        <script type=\"text/javascript\">\n",
        "            $(\"div#35139024-0c79-4d24-9e11-10ae8e286083\").progressbar({value: 0, max: 1000});\n",
        "        </script>\n",
        "        </td>\n",
        "<td class=\"pb_widget\"><div id=\"3885baeb-0d9a-4dc7-84f4-343983f23205\">ETA:  --:--:--</div></td>\n",
        "</tr></table><div>"
       ],
       "metadata": {},
       "output_type": "display_data",
       "text": [
        "<IPython.core.display.HTML at 0x16b46a90>"
       ]
      },
      {
       "javascript": [
        "$('div#518600a8-7e13-4882-b25c-a2f49ca14836').text('10 of 1000');"
       ],
       "metadata": {},
       "output_type": "display_data",
       "text": [
        "<IPython.core.display.Javascript at 0x1beae780>"
       ]
      },
      {
       "javascript": [
        "$('div#882c7c13-5153-4aff-8dfc-1981e7ca3b34').text('  1%');"
       ],
       "metadata": {},
       "output_type": "display_data",
       "text": [
        "<IPython.core.display.Javascript at 0x18cd1eb8>"
       ]
      },
      {
       "javascript": [
        "\n",
        "        var $myPB = $(\"div#35139024-0c79-4d24-9e11-10ae8e286083\")\n",
        "        if ($myPB.hasClass('ui-progressbar')) {\n",
        "            $myPB.progressbar('value', 10);\n",
        "        } else {\n",
        "            $myPB.progressbar({value: 0, max: 1000});\n",
        "        }\n",
        "        "
       ],
       "metadata": {},
       "output_type": "display_data",
       "text": [
        "<IPython.core.display.Javascript at 0x16b46a90>"
       ]
      },
      {
       "javascript": [
        "$('div#3885baeb-0d9a-4dc7-84f4-343983f23205').text('ETA:  0:00:00');"
       ],
       "metadata": {},
       "output_type": "display_data",
       "text": [
        "<IPython.core.display.Javascript at 0x16b46908>"
       ]
      },
      {
       "javascript": [
        "$('div#518600a8-7e13-4882-b25c-a2f49ca14836').text('20 of 1000');"
       ],
       "metadata": {},
       "output_type": "display_data",
       "text": [
        "<IPython.core.display.Javascript at 0x1beae780>"
       ]
      },
      {
       "javascript": [
        "$('div#882c7c13-5153-4aff-8dfc-1981e7ca3b34').text('  2%');"
       ],
       "metadata": {},
       "output_type": "display_data",
       "text": [
        "<IPython.core.display.Javascript at 0x1beae198>"
       ]
      },
      {
       "javascript": [
        "\n",
        "        var $myPB = $(\"div#35139024-0c79-4d24-9e11-10ae8e286083\")\n",
        "        if ($myPB.hasClass('ui-progressbar')) {\n",
        "            $myPB.progressbar('value', 20);\n",
        "        } else {\n",
        "            $myPB.progressbar({value: 0, max: 1000});\n",
        "        }\n",
        "        "
       ],
       "metadata": {},
       "output_type": "display_data",
       "text": [
        "<IPython.core.display.Javascript at 0x18cd1eb8>"
       ]
      },
      {
       "javascript": [
        "$('div#3885baeb-0d9a-4dc7-84f4-343983f23205').text('ETA:  0:00:00');"
       ],
       "metadata": {},
       "output_type": "display_data",
       "text": [
        "<IPython.core.display.Javascript at 0x16b46a90>"
       ]
      },
      {
       "javascript": [
        "$('div#518600a8-7e13-4882-b25c-a2f49ca14836').text('30 of 1000');"
       ],
       "metadata": {},
       "output_type": "display_data",
       "text": [
        "<IPython.core.display.Javascript at 0x16b46908>"
       ]
      },
      {
       "javascript": [
        "$('div#882c7c13-5153-4aff-8dfc-1981e7ca3b34').text('  3%');"
       ],
       "metadata": {},
       "output_type": "display_data",
       "text": [
        "<IPython.core.display.Javascript at 0x1beaecc0>"
       ]
      },
      {
       "javascript": [
        "\n",
        "        var $myPB = $(\"div#35139024-0c79-4d24-9e11-10ae8e286083\")\n",
        "        if ($myPB.hasClass('ui-progressbar')) {\n",
        "            $myPB.progressbar('value', 30);\n",
        "        } else {\n",
        "            $myPB.progressbar({value: 0, max: 1000});\n",
        "        }\n",
        "        "
       ],
       "metadata": {},
       "output_type": "display_data",
       "text": [
        "<IPython.core.display.Javascript at 0x18cd1eb8>"
       ]
      },
      {
       "javascript": [
        "$('div#3885baeb-0d9a-4dc7-84f4-343983f23205').text('ETA:  0:00:00');"
       ],
       "metadata": {},
       "output_type": "display_data",
       "text": [
        "<IPython.core.display.Javascript at 0x16b46a90>"
       ]
      },
      {
       "javascript": [
        "$('div#518600a8-7e13-4882-b25c-a2f49ca14836').text('40 of 1000');"
       ],
       "metadata": {},
       "output_type": "display_data",
       "text": [
        "<IPython.core.display.Javascript at 0x16b46908>"
       ]
      },
      {
       "javascript": [
        "$('div#882c7c13-5153-4aff-8dfc-1981e7ca3b34').text('  4%');"
       ],
       "metadata": {},
       "output_type": "display_data",
       "text": [
        "<IPython.core.display.Javascript at 0x1beaecc0>"
       ]
      },
      {
       "javascript": [
        "\n",
        "        var $myPB = $(\"div#35139024-0c79-4d24-9e11-10ae8e286083\")\n",
        "        if ($myPB.hasClass('ui-progressbar')) {\n",
        "            $myPB.progressbar('value', 40);\n",
        "        } else {\n",
        "            $myPB.progressbar({value: 0, max: 1000});\n",
        "        }\n",
        "        "
       ],
       "metadata": {},
       "output_type": "display_data",
       "text": [
        "<IPython.core.display.Javascript at 0x18cd1eb8>"
       ]
      },
      {
       "javascript": [
        "$('div#3885baeb-0d9a-4dc7-84f4-343983f23205').text('ETA:  0:00:00');"
       ],
       "metadata": {},
       "output_type": "display_data",
       "text": [
        "<IPython.core.display.Javascript at 0x16b46a90>"
       ]
      },
      {
       "javascript": [
        "$('div#518600a8-7e13-4882-b25c-a2f49ca14836').text('50 of 1000');"
       ],
       "metadata": {},
       "output_type": "display_data",
       "text": [
        "<IPython.core.display.Javascript at 0x16b46908>"
       ]
      },
      {
       "javascript": [
        "$('div#882c7c13-5153-4aff-8dfc-1981e7ca3b34').text('  5%');"
       ],
       "metadata": {},
       "output_type": "display_data",
       "text": [
        "<IPython.core.display.Javascript at 0x1beaecc0>"
       ]
      },
      {
       "javascript": [
        "\n",
        "        var $myPB = $(\"div#35139024-0c79-4d24-9e11-10ae8e286083\")\n",
        "        if ($myPB.hasClass('ui-progressbar')) {\n",
        "            $myPB.progressbar('value', 50);\n",
        "        } else {\n",
        "            $myPB.progressbar({value: 0, max: 1000});\n",
        "        }\n",
        "        "
       ],
       "metadata": {},
       "output_type": "display_data",
       "text": [
        "<IPython.core.display.Javascript at 0x18cd1eb8>"
       ]
      },
      {
       "javascript": [
        "$('div#3885baeb-0d9a-4dc7-84f4-343983f23205').text('ETA:  0:00:00');"
       ],
       "metadata": {},
       "output_type": "display_data",
       "text": [
        "<IPython.core.display.Javascript at 0x16b46a90>"
       ]
      },
      {
       "javascript": [
        "$('div#518600a8-7e13-4882-b25c-a2f49ca14836').text('60 of 1000');"
       ],
       "metadata": {},
       "output_type": "display_data",
       "text": [
        "<IPython.core.display.Javascript at 0x16b46908>"
       ]
      },
      {
       "javascript": [
        "$('div#882c7c13-5153-4aff-8dfc-1981e7ca3b34').text('  6%');"
       ],
       "metadata": {},
       "output_type": "display_data",
       "text": [
        "<IPython.core.display.Javascript at 0x1beaecc0>"
       ]
      },
      {
       "javascript": [
        "\n",
        "        var $myPB = $(\"div#35139024-0c79-4d24-9e11-10ae8e286083\")\n",
        "        if ($myPB.hasClass('ui-progressbar')) {\n",
        "            $myPB.progressbar('value', 60);\n",
        "        } else {\n",
        "            $myPB.progressbar({value: 0, max: 1000});\n",
        "        }\n",
        "        "
       ],
       "metadata": {},
       "output_type": "display_data",
       "text": [
        "<IPython.core.display.Javascript at 0x18cd1eb8>"
       ]
      },
      {
       "javascript": [
        "$('div#3885baeb-0d9a-4dc7-84f4-343983f23205').text('ETA:  0:00:00');"
       ],
       "metadata": {},
       "output_type": "display_data",
       "text": [
        "<IPython.core.display.Javascript at 0x16b46a90>"
       ]
      },
      {
       "javascript": [
        "$('div#518600a8-7e13-4882-b25c-a2f49ca14836').text('70 of 1000');"
       ],
       "metadata": {},
       "output_type": "display_data",
       "text": [
        "<IPython.core.display.Javascript at 0x16b46908>"
       ]
      },
      {
       "javascript": [
        "$('div#882c7c13-5153-4aff-8dfc-1981e7ca3b34').text('  7%');"
       ],
       "metadata": {},
       "output_type": "display_data",
       "text": [
        "<IPython.core.display.Javascript at 0x1beaecc0>"
       ]
      },
      {
       "javascript": [
        "\n",
        "        var $myPB = $(\"div#35139024-0c79-4d24-9e11-10ae8e286083\")\n",
        "        if ($myPB.hasClass('ui-progressbar')) {\n",
        "            $myPB.progressbar('value', 70);\n",
        "        } else {\n",
        "            $myPB.progressbar({value: 0, max: 1000});\n",
        "        }\n",
        "        "
       ],
       "metadata": {},
       "output_type": "display_data",
       "text": [
        "<IPython.core.display.Javascript at 0x18cd1eb8>"
       ]
      },
      {
       "javascript": [
        "$('div#3885baeb-0d9a-4dc7-84f4-343983f23205').text('ETA:  0:00:00');"
       ],
       "metadata": {},
       "output_type": "display_data",
       "text": [
        "<IPython.core.display.Javascript at 0x16b46a90>"
       ]
      },
      {
       "javascript": [
        "$('div#518600a8-7e13-4882-b25c-a2f49ca14836').text('80 of 1000');"
       ],
       "metadata": {},
       "output_type": "display_data",
       "text": [
        "<IPython.core.display.Javascript at 0x16b46908>"
       ]
      },
      {
       "javascript": [
        "$('div#882c7c13-5153-4aff-8dfc-1981e7ca3b34').text('  8%');"
       ],
       "metadata": {},
       "output_type": "display_data",
       "text": [
        "<IPython.core.display.Javascript at 0x1beaecc0>"
       ]
      },
      {
       "javascript": [
        "\n",
        "        var $myPB = $(\"div#35139024-0c79-4d24-9e11-10ae8e286083\")\n",
        "        if ($myPB.hasClass('ui-progressbar')) {\n",
        "            $myPB.progressbar('value', 80);\n",
        "        } else {\n",
        "            $myPB.progressbar({value: 0, max: 1000});\n",
        "        }\n",
        "        "
       ],
       "metadata": {},
       "output_type": "display_data",
       "text": [
        "<IPython.core.display.Javascript at 0x18cd1eb8>"
       ]
      },
      {
       "javascript": [
        "$('div#3885baeb-0d9a-4dc7-84f4-343983f23205').text('ETA:  0:00:00');"
       ],
       "metadata": {},
       "output_type": "display_data",
       "text": [
        "<IPython.core.display.Javascript at 0x16b46a90>"
       ]
      },
      {
       "javascript": [
        "$('div#518600a8-7e13-4882-b25c-a2f49ca14836').text('90 of 1000');"
       ],
       "metadata": {},
       "output_type": "display_data",
       "text": [
        "<IPython.core.display.Javascript at 0x16b46908>"
       ]
      },
      {
       "javascript": [
        "$('div#882c7c13-5153-4aff-8dfc-1981e7ca3b34').text('  9%');"
       ],
       "metadata": {},
       "output_type": "display_data",
       "text": [
        "<IPython.core.display.Javascript at 0x1beaecc0>"
       ]
      },
      {
       "javascript": [
        "\n",
        "        var $myPB = $(\"div#35139024-0c79-4d24-9e11-10ae8e286083\")\n",
        "        if ($myPB.hasClass('ui-progressbar')) {\n",
        "            $myPB.progressbar('value', 90);\n",
        "        } else {\n",
        "            $myPB.progressbar({value: 0, max: 1000});\n",
        "        }\n",
        "        "
       ],
       "metadata": {},
       "output_type": "display_data",
       "text": [
        "<IPython.core.display.Javascript at 0x18cd1eb8>"
       ]
      },
      {
       "javascript": [
        "$('div#3885baeb-0d9a-4dc7-84f4-343983f23205').text('ETA:  0:00:00');"
       ],
       "metadata": {},
       "output_type": "display_data",
       "text": [
        "<IPython.core.display.Javascript at 0x16b46a90>"
       ]
      },
      {
       "javascript": [
        "$('div#518600a8-7e13-4882-b25c-a2f49ca14836').text('100 of 1000');"
       ],
       "metadata": {},
       "output_type": "display_data",
       "text": [
        "<IPython.core.display.Javascript at 0x16b46908>"
       ]
      },
      {
       "javascript": [
        "$('div#882c7c13-5153-4aff-8dfc-1981e7ca3b34').text(' 10%');"
       ],
       "metadata": {},
       "output_type": "display_data",
       "text": [
        "<IPython.core.display.Javascript at 0x1beaecc0>"
       ]
      },
      {
       "javascript": [
        "\n",
        "        var $myPB = $(\"div#35139024-0c79-4d24-9e11-10ae8e286083\")\n",
        "        if ($myPB.hasClass('ui-progressbar')) {\n",
        "            $myPB.progressbar('value', 100);\n",
        "        } else {\n",
        "            $myPB.progressbar({value: 0, max: 1000});\n",
        "        }\n",
        "        "
       ],
       "metadata": {},
       "output_type": "display_data",
       "text": [
        "<IPython.core.display.Javascript at 0x18cd1eb8>"
       ]
      },
      {
       "javascript": [
        "$('div#3885baeb-0d9a-4dc7-84f4-343983f23205').text('ETA:  0:00:00');"
       ],
       "metadata": {},
       "output_type": "display_data",
       "text": [
        "<IPython.core.display.Javascript at 0x16b46a90>"
       ]
      },
      {
       "javascript": [
        "$('div#518600a8-7e13-4882-b25c-a2f49ca14836').text('110 of 1000');"
       ],
       "metadata": {},
       "output_type": "display_data",
       "text": [
        "<IPython.core.display.Javascript at 0x16b46908>"
       ]
      },
      {
       "javascript": [
        "$('div#882c7c13-5153-4aff-8dfc-1981e7ca3b34').text(' 11%');"
       ],
       "metadata": {},
       "output_type": "display_data",
       "text": [
        "<IPython.core.display.Javascript at 0x16b46908>"
       ]
      },
      {
       "javascript": [
        "\n",
        "        var $myPB = $(\"div#35139024-0c79-4d24-9e11-10ae8e286083\")\n",
        "        if ($myPB.hasClass('ui-progressbar')) {\n",
        "            $myPB.progressbar('value', 110);\n",
        "        } else {\n",
        "            $myPB.progressbar({value: 0, max: 1000});\n",
        "        }\n",
        "        "
       ],
       "metadata": {},
       "output_type": "display_data",
       "text": [
        "<IPython.core.display.Javascript at 0x16b46a90>"
       ]
      },
      {
       "javascript": [
        "$('div#3885baeb-0d9a-4dc7-84f4-343983f23205').text('ETA:  0:00:00');"
       ],
       "metadata": {},
       "output_type": "display_data",
       "text": [
        "<IPython.core.display.Javascript at 0x18cd1eb8>"
       ]
      },
      {
       "javascript": [
        "$('div#518600a8-7e13-4882-b25c-a2f49ca14836').text('120 of 1000');"
       ],
       "metadata": {},
       "output_type": "display_data",
       "text": [
        "<IPython.core.display.Javascript at 0x18cd1eb8>"
       ]
      },
      {
       "javascript": [
        "$('div#882c7c13-5153-4aff-8dfc-1981e7ca3b34').text(' 12%');"
       ],
       "metadata": {},
       "output_type": "display_data",
       "text": [
        "<IPython.core.display.Javascript at 0x16b46a90>"
       ]
      },
      {
       "javascript": [
        "\n",
        "        var $myPB = $(\"div#35139024-0c79-4d24-9e11-10ae8e286083\")\n",
        "        if ($myPB.hasClass('ui-progressbar')) {\n",
        "            $myPB.progressbar('value', 120);\n",
        "        } else {\n",
        "            $myPB.progressbar({value: 0, max: 1000});\n",
        "        }\n",
        "        "
       ],
       "metadata": {},
       "output_type": "display_data",
       "text": [
        "<IPython.core.display.Javascript at 0x16b46908>"
       ]
      },
      {
       "javascript": [
        "$('div#3885baeb-0d9a-4dc7-84f4-343983f23205').text('ETA:  0:00:00');"
       ],
       "metadata": {},
       "output_type": "display_data",
       "text": [
        "<IPython.core.display.Javascript at 0x16b46908>"
       ]
      },
      {
       "javascript": [
        "$('div#518600a8-7e13-4882-b25c-a2f49ca14836').text('130 of 1000');"
       ],
       "metadata": {},
       "output_type": "display_data",
       "text": [
        "<IPython.core.display.Javascript at 0x16b46a90>"
       ]
      },
      {
       "javascript": [
        "$('div#882c7c13-5153-4aff-8dfc-1981e7ca3b34').text(' 13%');"
       ],
       "metadata": {},
       "output_type": "display_data",
       "text": [
        "<IPython.core.display.Javascript at 0x18cd1eb8>"
       ]
      },
      {
       "javascript": [
        "\n",
        "        var $myPB = $(\"div#35139024-0c79-4d24-9e11-10ae8e286083\")\n",
        "        if ($myPB.hasClass('ui-progressbar')) {\n",
        "            $myPB.progressbar('value', 130);\n",
        "        } else {\n",
        "            $myPB.progressbar({value: 0, max: 1000});\n",
        "        }\n",
        "        "
       ],
       "metadata": {},
       "output_type": "display_data",
       "text": [
        "<IPython.core.display.Javascript at 0x16b46a90>"
       ]
      },
      {
       "javascript": [
        "$('div#3885baeb-0d9a-4dc7-84f4-343983f23205').text('ETA:  0:00:00');"
       ],
       "metadata": {},
       "output_type": "display_data",
       "text": [
        "<IPython.core.display.Javascript at 0x16b46908>"
       ]
      },
      {
       "javascript": [
        "$('div#518600a8-7e13-4882-b25c-a2f49ca14836').text('140 of 1000');"
       ],
       "metadata": {},
       "output_type": "display_data",
       "text": [
        "<IPython.core.display.Javascript at 0x16b46908>"
       ]
      },
      {
       "javascript": [
        "$('div#882c7c13-5153-4aff-8dfc-1981e7ca3b34').text(' 14%');"
       ],
       "metadata": {},
       "output_type": "display_data",
       "text": [
        "<IPython.core.display.Javascript at 0x16b46a90>"
       ]
      },
      {
       "javascript": [
        "\n",
        "        var $myPB = $(\"div#35139024-0c79-4d24-9e11-10ae8e286083\")\n",
        "        if ($myPB.hasClass('ui-progressbar')) {\n",
        "            $myPB.progressbar('value', 140);\n",
        "        } else {\n",
        "            $myPB.progressbar({value: 0, max: 1000});\n",
        "        }\n",
        "        "
       ],
       "metadata": {},
       "output_type": "display_data",
       "text": [
        "<IPython.core.display.Javascript at 0x18cd1eb8>"
       ]
      },
      {
       "javascript": [
        "$('div#3885baeb-0d9a-4dc7-84f4-343983f23205').text('ETA:  0:00:00');"
       ],
       "metadata": {},
       "output_type": "display_data",
       "text": [
        "<IPython.core.display.Javascript at 0x16b46908>"
       ]
      },
      {
       "javascript": [
        "$('div#518600a8-7e13-4882-b25c-a2f49ca14836').text('150 of 1000');"
       ],
       "metadata": {},
       "output_type": "display_data",
       "text": [
        "<IPython.core.display.Javascript at 0x16b46a90>"
       ]
      },
      {
       "javascript": [
        "$('div#882c7c13-5153-4aff-8dfc-1981e7ca3b34').text(' 15%');"
       ],
       "metadata": {},
       "output_type": "display_data",
       "text": [
        "<IPython.core.display.Javascript at 0x16b46a90>"
       ]
      },
      {
       "javascript": [
        "\n",
        "        var $myPB = $(\"div#35139024-0c79-4d24-9e11-10ae8e286083\")\n",
        "        if ($myPB.hasClass('ui-progressbar')) {\n",
        "            $myPB.progressbar('value', 150);\n",
        "        } else {\n",
        "            $myPB.progressbar({value: 0, max: 1000});\n",
        "        }\n",
        "        "
       ],
       "metadata": {},
       "output_type": "display_data",
       "text": [
        "<IPython.core.display.Javascript at 0x16b46908>"
       ]
      },
      {
       "javascript": [
        "$('div#3885baeb-0d9a-4dc7-84f4-343983f23205').text('ETA:  0:00:00');"
       ],
       "metadata": {},
       "output_type": "display_data",
       "text": [
        "<IPython.core.display.Javascript at 0x1beaecc0>"
       ]
      },
      {
       "javascript": [
        "$('div#518600a8-7e13-4882-b25c-a2f49ca14836').text('160 of 1000');"
       ],
       "metadata": {},
       "output_type": "display_data",
       "text": [
        "<IPython.core.display.Javascript at 0x16b46908>"
       ]
      },
      {
       "javascript": [
        "$('div#882c7c13-5153-4aff-8dfc-1981e7ca3b34').text(' 16%');"
       ],
       "metadata": {},
       "output_type": "display_data",
       "text": [
        "<IPython.core.display.Javascript at 0x16b46a90>"
       ]
      },
      {
       "javascript": [
        "\n",
        "        var $myPB = $(\"div#35139024-0c79-4d24-9e11-10ae8e286083\")\n",
        "        if ($myPB.hasClass('ui-progressbar')) {\n",
        "            $myPB.progressbar('value', 160);\n",
        "        } else {\n",
        "            $myPB.progressbar({value: 0, max: 1000});\n",
        "        }\n",
        "        "
       ],
       "metadata": {},
       "output_type": "display_data",
       "text": [
        "<IPython.core.display.Javascript at 0x1beaecc0>"
       ]
      },
      {
       "javascript": [
        "$('div#3885baeb-0d9a-4dc7-84f4-343983f23205').text('ETA:  0:00:00');"
       ],
       "metadata": {},
       "output_type": "display_data",
       "text": [
        "<IPython.core.display.Javascript at 0x16b46a90>"
       ]
      },
      {
       "javascript": [
        "$('div#518600a8-7e13-4882-b25c-a2f49ca14836').text('170 of 1000');"
       ],
       "metadata": {},
       "output_type": "display_data",
       "text": [
        "<IPython.core.display.Javascript at 0x16b46908>"
       ]
      },
      {
       "javascript": [
        "$('div#882c7c13-5153-4aff-8dfc-1981e7ca3b34').text(' 17%');"
       ],
       "metadata": {},
       "output_type": "display_data",
       "text": [
        "<IPython.core.display.Javascript at 0x16b46908>"
       ]
      },
      {
       "javascript": [
        "\n",
        "        var $myPB = $(\"div#35139024-0c79-4d24-9e11-10ae8e286083\")\n",
        "        if ($myPB.hasClass('ui-progressbar')) {\n",
        "            $myPB.progressbar('value', 170);\n",
        "        } else {\n",
        "            $myPB.progressbar({value: 0, max: 1000});\n",
        "        }\n",
        "        "
       ],
       "metadata": {},
       "output_type": "display_data",
       "text": [
        "<IPython.core.display.Javascript at 0x16b46a90>"
       ]
      },
      {
       "javascript": [
        "$('div#3885baeb-0d9a-4dc7-84f4-343983f23205').text('ETA:  0:00:00');"
       ],
       "metadata": {},
       "output_type": "display_data",
       "text": [
        "<IPython.core.display.Javascript at 0x1beaecc0>"
       ]
      },
      {
       "javascript": [
        "$('div#518600a8-7e13-4882-b25c-a2f49ca14836').text('180 of 1000');"
       ],
       "metadata": {},
       "output_type": "display_data",
       "text": [
        "<IPython.core.display.Javascript at 0x16b46a90>"
       ]
      },
      {
       "javascript": [
        "$('div#882c7c13-5153-4aff-8dfc-1981e7ca3b34').text(' 18%');"
       ],
       "metadata": {},
       "output_type": "display_data",
       "text": [
        "<IPython.core.display.Javascript at 0x16b46908>"
       ]
      },
      {
       "javascript": [
        "\n",
        "        var $myPB = $(\"div#35139024-0c79-4d24-9e11-10ae8e286083\")\n",
        "        if ($myPB.hasClass('ui-progressbar')) {\n",
        "            $myPB.progressbar('value', 180);\n",
        "        } else {\n",
        "            $myPB.progressbar({value: 0, max: 1000});\n",
        "        }\n",
        "        "
       ],
       "metadata": {},
       "output_type": "display_data",
       "text": [
        "<IPython.core.display.Javascript at 0x18cd1eb8>"
       ]
      },
      {
       "javascript": [
        "$('div#3885baeb-0d9a-4dc7-84f4-343983f23205').text('ETA:  0:00:00');"
       ],
       "metadata": {},
       "output_type": "display_data",
       "text": [
        "<IPython.core.display.Javascript at 0x1beae630>"
       ]
      },
      {
       "javascript": [
        "$('div#518600a8-7e13-4882-b25c-a2f49ca14836').text('190 of 1000');"
       ],
       "metadata": {},
       "output_type": "display_data",
       "text": [
        "<IPython.core.display.Javascript at 0x18cd1eb8>"
       ]
      },
      {
       "javascript": [
        "$('div#882c7c13-5153-4aff-8dfc-1981e7ca3b34').text(' 19%');"
       ],
       "metadata": {},
       "output_type": "display_data",
       "text": [
        "<IPython.core.display.Javascript at 0x16b46908>"
       ]
      },
      {
       "javascript": [
        "\n",
        "        var $myPB = $(\"div#35139024-0c79-4d24-9e11-10ae8e286083\")\n",
        "        if ($myPB.hasClass('ui-progressbar')) {\n",
        "            $myPB.progressbar('value', 190);\n",
        "        } else {\n",
        "            $myPB.progressbar({value: 0, max: 1000});\n",
        "        }\n",
        "        "
       ],
       "metadata": {},
       "output_type": "display_data",
       "text": [
        "<IPython.core.display.Javascript at 0x16b46908>"
       ]
      },
      {
       "javascript": [
        "$('div#3885baeb-0d9a-4dc7-84f4-343983f23205').text('ETA:  0:00:00');"
       ],
       "metadata": {},
       "output_type": "display_data",
       "text": [
        "<IPython.core.display.Javascript at 0x16b46a90>"
       ]
      },
      {
       "javascript": [
        "$('div#518600a8-7e13-4882-b25c-a2f49ca14836').text('200 of 1000');"
       ],
       "metadata": {},
       "output_type": "display_data",
       "text": [
        "<IPython.core.display.Javascript at 0x18cd1eb8>"
       ]
      },
      {
       "javascript": [
        "$('div#882c7c13-5153-4aff-8dfc-1981e7ca3b34').text(' 20%');"
       ],
       "metadata": {},
       "output_type": "display_data",
       "text": [
        "<IPython.core.display.Javascript at 0x16b46a90>"
       ]
      },
      {
       "javascript": [
        "\n",
        "        var $myPB = $(\"div#35139024-0c79-4d24-9e11-10ae8e286083\")\n",
        "        if ($myPB.hasClass('ui-progressbar')) {\n",
        "            $myPB.progressbar('value', 200);\n",
        "        } else {\n",
        "            $myPB.progressbar({value: 0, max: 1000});\n",
        "        }\n",
        "        "
       ],
       "metadata": {},
       "output_type": "display_data",
       "text": [
        "<IPython.core.display.Javascript at 0x16b46908>"
       ]
      },
      {
       "javascript": [
        "$('div#3885baeb-0d9a-4dc7-84f4-343983f23205').text('ETA:  0:00:00');"
       ],
       "metadata": {},
       "output_type": "display_data",
       "text": [
        "<IPython.core.display.Javascript at 0x1beae630>"
       ]
      },
      {
       "javascript": [
        "$('div#518600a8-7e13-4882-b25c-a2f49ca14836').text('210 of 1000');"
       ],
       "metadata": {},
       "output_type": "display_data",
       "text": [
        "<IPython.core.display.Javascript at 0x16b46908>"
       ]
      },
      {
       "javascript": [
        "$('div#882c7c13-5153-4aff-8dfc-1981e7ca3b34').text(' 21%');"
       ],
       "metadata": {},
       "output_type": "display_data",
       "text": [
        "<IPython.core.display.Javascript at 0x16b46a90>"
       ]
      },
      {
       "javascript": [
        "\n",
        "        var $myPB = $(\"div#35139024-0c79-4d24-9e11-10ae8e286083\")\n",
        "        if ($myPB.hasClass('ui-progressbar')) {\n",
        "            $myPB.progressbar('value', 210);\n",
        "        } else {\n",
        "            $myPB.progressbar({value: 0, max: 1000});\n",
        "        }\n",
        "        "
       ],
       "metadata": {},
       "output_type": "display_data",
       "text": [
        "<IPython.core.display.Javascript at 0x18cd1eb8>"
       ]
      },
      {
       "javascript": [
        "$('div#3885baeb-0d9a-4dc7-84f4-343983f23205').text('ETA:  0:00:00');"
       ],
       "metadata": {},
       "output_type": "display_data",
       "text": [
        "<IPython.core.display.Javascript at 0x16b46a90>"
       ]
      },
      {
       "javascript": [
        "$('div#518600a8-7e13-4882-b25c-a2f49ca14836').text('220 of 1000');"
       ],
       "metadata": {},
       "output_type": "display_data",
       "text": [
        "<IPython.core.display.Javascript at 0x16b46908>"
       ]
      },
      {
       "javascript": [
        "$('div#882c7c13-5153-4aff-8dfc-1981e7ca3b34').text(' 22%');"
       ],
       "metadata": {},
       "output_type": "display_data",
       "text": [
        "<IPython.core.display.Javascript at 0x18cd1eb8>"
       ]
      },
      {
       "javascript": [
        "\n",
        "        var $myPB = $(\"div#35139024-0c79-4d24-9e11-10ae8e286083\")\n",
        "        if ($myPB.hasClass('ui-progressbar')) {\n",
        "            $myPB.progressbar('value', 220);\n",
        "        } else {\n",
        "            $myPB.progressbar({value: 0, max: 1000});\n",
        "        }\n",
        "        "
       ],
       "metadata": {},
       "output_type": "display_data",
       "text": [
        "<IPython.core.display.Javascript at 0x16b46908>"
       ]
      },
      {
       "javascript": [
        "$('div#3885baeb-0d9a-4dc7-84f4-343983f23205').text('ETA:  0:00:00');"
       ],
       "metadata": {},
       "output_type": "display_data",
       "text": [
        "<IPython.core.display.Javascript at 0x16b46a90>"
       ]
      },
      {
       "javascript": [
        "$('div#518600a8-7e13-4882-b25c-a2f49ca14836').text('230 of 1000');"
       ],
       "metadata": {},
       "output_type": "display_data",
       "text": [
        "<IPython.core.display.Javascript at 0x16b46a90>"
       ]
      },
      {
       "javascript": [
        "$('div#882c7c13-5153-4aff-8dfc-1981e7ca3b34').text(' 23%');"
       ],
       "metadata": {},
       "output_type": "display_data",
       "text": [
        "<IPython.core.display.Javascript at 0x16b46908>"
       ]
      },
      {
       "javascript": [
        "\n",
        "        var $myPB = $(\"div#35139024-0c79-4d24-9e11-10ae8e286083\")\n",
        "        if ($myPB.hasClass('ui-progressbar')) {\n",
        "            $myPB.progressbar('value', 230);\n",
        "        } else {\n",
        "            $myPB.progressbar({value: 0, max: 1000});\n",
        "        }\n",
        "        "
       ],
       "metadata": {},
       "output_type": "display_data",
       "text": [
        "<IPython.core.display.Javascript at 0x18cd1eb8>"
       ]
      },
      {
       "javascript": [
        "$('div#3885baeb-0d9a-4dc7-84f4-343983f23205').text('ETA:  0:00:00');"
       ],
       "metadata": {},
       "output_type": "display_data",
       "text": [
        "<IPython.core.display.Javascript at 0x16b46908>"
       ]
      },
      {
       "javascript": [
        "$('div#518600a8-7e13-4882-b25c-a2f49ca14836').text('240 of 1000');"
       ],
       "metadata": {},
       "output_type": "display_data",
       "text": [
        "<IPython.core.display.Javascript at 0x16b46a90>"
       ]
      },
      {
       "javascript": [
        "$('div#882c7c13-5153-4aff-8dfc-1981e7ca3b34').text(' 24%');"
       ],
       "metadata": {},
       "output_type": "display_data",
       "text": [
        "<IPython.core.display.Javascript at 0x16b46908>"
       ]
      },
      {
       "javascript": [
        "\n",
        "        var $myPB = $(\"div#35139024-0c79-4d24-9e11-10ae8e286083\")\n",
        "        if ($myPB.hasClass('ui-progressbar')) {\n",
        "            $myPB.progressbar('value', 240);\n",
        "        } else {\n",
        "            $myPB.progressbar({value: 0, max: 1000});\n",
        "        }\n",
        "        "
       ],
       "metadata": {},
       "output_type": "display_data",
       "text": [
        "<IPython.core.display.Javascript at 0x18cd1eb8>"
       ]
      },
      {
       "javascript": [
        "$('div#3885baeb-0d9a-4dc7-84f4-343983f23205').text('ETA:  0:00:00');"
       ],
       "metadata": {},
       "output_type": "display_data",
       "text": [
        "<IPython.core.display.Javascript at 0x1beae630>"
       ]
      },
      {
       "javascript": [
        "$('div#518600a8-7e13-4882-b25c-a2f49ca14836').text('250 of 1000');"
       ],
       "metadata": {},
       "output_type": "display_data",
       "text": [
        "<IPython.core.display.Javascript at 0x18cd1eb8>"
       ]
      },
      {
       "javascript": [
        "$('div#882c7c13-5153-4aff-8dfc-1981e7ca3b34').text(' 25%');"
       ],
       "metadata": {},
       "output_type": "display_data",
       "text": [
        "<IPython.core.display.Javascript at 0x16b46908>"
       ]
      },
      {
       "javascript": [
        "\n",
        "        var $myPB = $(\"div#35139024-0c79-4d24-9e11-10ae8e286083\")\n",
        "        if ($myPB.hasClass('ui-progressbar')) {\n",
        "            $myPB.progressbar('value', 250);\n",
        "        } else {\n",
        "            $myPB.progressbar({value: 0, max: 1000});\n",
        "        }\n",
        "        "
       ],
       "metadata": {},
       "output_type": "display_data",
       "text": [
        "<IPython.core.display.Javascript at 0x16b46908>"
       ]
      },
      {
       "javascript": [
        "$('div#3885baeb-0d9a-4dc7-84f4-343983f23205').text('ETA:  0:00:00');"
       ],
       "metadata": {},
       "output_type": "display_data",
       "text": [
        "<IPython.core.display.Javascript at 0x16b46a90>"
       ]
      },
      {
       "javascript": [
        "$('div#518600a8-7e13-4882-b25c-a2f49ca14836').text('260 of 1000');"
       ],
       "metadata": {},
       "output_type": "display_data",
       "text": [
        "<IPython.core.display.Javascript at 0x18cd1eb8>"
       ]
      },
      {
       "javascript": [
        "$('div#882c7c13-5153-4aff-8dfc-1981e7ca3b34').text(' 26%');"
       ],
       "metadata": {},
       "output_type": "display_data",
       "text": [
        "<IPython.core.display.Javascript at 0x16b46a90>"
       ]
      },
      {
       "javascript": [
        "\n",
        "        var $myPB = $(\"div#35139024-0c79-4d24-9e11-10ae8e286083\")\n",
        "        if ($myPB.hasClass('ui-progressbar')) {\n",
        "            $myPB.progressbar('value', 260);\n",
        "        } else {\n",
        "            $myPB.progressbar({value: 0, max: 1000});\n",
        "        }\n",
        "        "
       ],
       "metadata": {},
       "output_type": "display_data",
       "text": [
        "<IPython.core.display.Javascript at 0x16b46908>"
       ]
      },
      {
       "javascript": [
        "$('div#3885baeb-0d9a-4dc7-84f4-343983f23205').text('ETA:  0:00:00');"
       ],
       "metadata": {},
       "output_type": "display_data",
       "text": [
        "<IPython.core.display.Javascript at 0x1beae630>"
       ]
      },
      {
       "javascript": [
        "$('div#518600a8-7e13-4882-b25c-a2f49ca14836').text('270 of 1000');"
       ],
       "metadata": {},
       "output_type": "display_data",
       "text": [
        "<IPython.core.display.Javascript at 0x16b46908>"
       ]
      },
      {
       "javascript": [
        "$('div#882c7c13-5153-4aff-8dfc-1981e7ca3b34').text(' 27%');"
       ],
       "metadata": {},
       "output_type": "display_data",
       "text": [
        "<IPython.core.display.Javascript at 0x16b46a90>"
       ]
      },
      {
       "javascript": [
        "\n",
        "        var $myPB = $(\"div#35139024-0c79-4d24-9e11-10ae8e286083\")\n",
        "        if ($myPB.hasClass('ui-progressbar')) {\n",
        "            $myPB.progressbar('value', 270);\n",
        "        } else {\n",
        "            $myPB.progressbar({value: 0, max: 1000});\n",
        "        }\n",
        "        "
       ],
       "metadata": {},
       "output_type": "display_data",
       "text": [
        "<IPython.core.display.Javascript at 0x18cd1eb8>"
       ]
      },
      {
       "javascript": [
        "$('div#3885baeb-0d9a-4dc7-84f4-343983f23205').text('ETA:  0:00:00');"
       ],
       "metadata": {},
       "output_type": "display_data",
       "text": [
        "<IPython.core.display.Javascript at 0x16b46a90>"
       ]
      },
      {
       "javascript": [
        "$('div#518600a8-7e13-4882-b25c-a2f49ca14836').text('280 of 1000');"
       ],
       "metadata": {},
       "output_type": "display_data",
       "text": [
        "<IPython.core.display.Javascript at 0x16b46908>"
       ]
      },
      {
       "javascript": [
        "$('div#882c7c13-5153-4aff-8dfc-1981e7ca3b34').text(' 28%');"
       ],
       "metadata": {},
       "output_type": "display_data",
       "text": [
        "<IPython.core.display.Javascript at 0x16b46a90>"
       ]
      },
      {
       "javascript": [
        "\n",
        "        var $myPB = $(\"div#35139024-0c79-4d24-9e11-10ae8e286083\")\n",
        "        if ($myPB.hasClass('ui-progressbar')) {\n",
        "            $myPB.progressbar('value', 280);\n",
        "        } else {\n",
        "            $myPB.progressbar({value: 0, max: 1000});\n",
        "        }\n",
        "        "
       ],
       "metadata": {},
       "output_type": "display_data",
       "text": [
        "<IPython.core.display.Javascript at 0x18cd1eb8>"
       ]
      },
      {
       "javascript": [
        "$('div#3885baeb-0d9a-4dc7-84f4-343983f23205').text('ETA:  0:00:00');"
       ],
       "metadata": {},
       "output_type": "display_data",
       "text": [
        "<IPython.core.display.Javascript at 0x1beae630>"
       ]
      },
      {
       "javascript": [
        "$('div#518600a8-7e13-4882-b25c-a2f49ca14836').text('290 of 1000');"
       ],
       "metadata": {},
       "output_type": "display_data",
       "text": [
        "<IPython.core.display.Javascript at 0x18cd1eb8>"
       ]
      },
      {
       "javascript": [
        "$('div#882c7c13-5153-4aff-8dfc-1981e7ca3b34').text(' 29%');"
       ],
       "metadata": {},
       "output_type": "display_data",
       "text": [
        "<IPython.core.display.Javascript at 0x16b46a90>"
       ]
      },
      {
       "javascript": [
        "\n",
        "        var $myPB = $(\"div#35139024-0c79-4d24-9e11-10ae8e286083\")\n",
        "        if ($myPB.hasClass('ui-progressbar')) {\n",
        "            $myPB.progressbar('value', 290);\n",
        "        } else {\n",
        "            $myPB.progressbar({value: 0, max: 1000});\n",
        "        }\n",
        "        "
       ],
       "metadata": {},
       "output_type": "display_data",
       "text": [
        "<IPython.core.display.Javascript at 0x16b46a90>"
       ]
      },
      {
       "javascript": [
        "$('div#3885baeb-0d9a-4dc7-84f4-343983f23205').text('ETA:  0:00:00');"
       ],
       "metadata": {},
       "output_type": "display_data",
       "text": [
        "<IPython.core.display.Javascript at 0x16b46908>"
       ]
      },
      {
       "javascript": [
        "$('div#518600a8-7e13-4882-b25c-a2f49ca14836').text('300 of 1000');"
       ],
       "metadata": {},
       "output_type": "display_data",
       "text": [
        "<IPython.core.display.Javascript at 0x18cd1eb8>"
       ]
      },
      {
       "javascript": [
        "$('div#882c7c13-5153-4aff-8dfc-1981e7ca3b34').text(' 30%');"
       ],
       "metadata": {},
       "output_type": "display_data",
       "text": [
        "<IPython.core.display.Javascript at 0x16b46908>"
       ]
      },
      {
       "javascript": [
        "\n",
        "        var $myPB = $(\"div#35139024-0c79-4d24-9e11-10ae8e286083\")\n",
        "        if ($myPB.hasClass('ui-progressbar')) {\n",
        "            $myPB.progressbar('value', 300);\n",
        "        } else {\n",
        "            $myPB.progressbar({value: 0, max: 1000});\n",
        "        }\n",
        "        "
       ],
       "metadata": {},
       "output_type": "display_data",
       "text": [
        "<IPython.core.display.Javascript at 0x16b46a90>"
       ]
      },
      {
       "javascript": [
        "$('div#3885baeb-0d9a-4dc7-84f4-343983f23205').text('ETA:  0:00:00');"
       ],
       "metadata": {},
       "output_type": "display_data",
       "text": [
        "<IPython.core.display.Javascript at 0x1beae630>"
       ]
      },
      {
       "javascript": [
        "$('div#518600a8-7e13-4882-b25c-a2f49ca14836').text('310 of 1000');"
       ],
       "metadata": {},
       "output_type": "display_data",
       "text": [
        "<IPython.core.display.Javascript at 0x16b46a90>"
       ]
      },
      {
       "javascript": [
        "$('div#882c7c13-5153-4aff-8dfc-1981e7ca3b34').text(' 31%');"
       ],
       "metadata": {},
       "output_type": "display_data",
       "text": [
        "<IPython.core.display.Javascript at 0x16b46908>"
       ]
      },
      {
       "javascript": [
        "\n",
        "        var $myPB = $(\"div#35139024-0c79-4d24-9e11-10ae8e286083\")\n",
        "        if ($myPB.hasClass('ui-progressbar')) {\n",
        "            $myPB.progressbar('value', 310);\n",
        "        } else {\n",
        "            $myPB.progressbar({value: 0, max: 1000});\n",
        "        }\n",
        "        "
       ],
       "metadata": {},
       "output_type": "display_data",
       "text": [
        "<IPython.core.display.Javascript at 0x18cd1eb8>"
       ]
      },
      {
       "javascript": [
        "$('div#3885baeb-0d9a-4dc7-84f4-343983f23205').text('ETA:  0:00:00');"
       ],
       "metadata": {},
       "output_type": "display_data",
       "text": [
        "<IPython.core.display.Javascript at 0x16b46908>"
       ]
      },
      {
       "javascript": [
        "$('div#518600a8-7e13-4882-b25c-a2f49ca14836').text('320 of 1000');"
       ],
       "metadata": {},
       "output_type": "display_data",
       "text": [
        "<IPython.core.display.Javascript at 0x16b46a90>"
       ]
      },
      {
       "javascript": [
        "$('div#882c7c13-5153-4aff-8dfc-1981e7ca3b34').text(' 32%');"
       ],
       "metadata": {},
       "output_type": "display_data",
       "text": [
        "<IPython.core.display.Javascript at 0x16b46908>"
       ]
      },
      {
       "javascript": [
        "\n",
        "        var $myPB = $(\"div#35139024-0c79-4d24-9e11-10ae8e286083\")\n",
        "        if ($myPB.hasClass('ui-progressbar')) {\n",
        "            $myPB.progressbar('value', 320);\n",
        "        } else {\n",
        "            $myPB.progressbar({value: 0, max: 1000});\n",
        "        }\n",
        "        "
       ],
       "metadata": {},
       "output_type": "display_data",
       "text": [
        "<IPython.core.display.Javascript at 0x18cd1eb8>"
       ]
      },
      {
       "javascript": [
        "$('div#3885baeb-0d9a-4dc7-84f4-343983f23205').text('ETA:  0:00:00');"
       ],
       "metadata": {},
       "output_type": "display_data",
       "text": [
        "<IPython.core.display.Javascript at 0x1beae630>"
       ]
      },
      {
       "javascript": [
        "$('div#518600a8-7e13-4882-b25c-a2f49ca14836').text('330 of 1000');"
       ],
       "metadata": {},
       "output_type": "display_data",
       "text": [
        "<IPython.core.display.Javascript at 0x18cd1eb8>"
       ]
      },
      {
       "javascript": [
        "$('div#882c7c13-5153-4aff-8dfc-1981e7ca3b34').text(' 33%');"
       ],
       "metadata": {},
       "output_type": "display_data",
       "text": [
        "<IPython.core.display.Javascript at 0x16b46908>"
       ]
      },
      {
       "javascript": [
        "\n",
        "        var $myPB = $(\"div#35139024-0c79-4d24-9e11-10ae8e286083\")\n",
        "        if ($myPB.hasClass('ui-progressbar')) {\n",
        "            $myPB.progressbar('value', 330);\n",
        "        } else {\n",
        "            $myPB.progressbar({value: 0, max: 1000});\n",
        "        }\n",
        "        "
       ],
       "metadata": {},
       "output_type": "display_data",
       "text": [
        "<IPython.core.display.Javascript at 0x16b46a90>"
       ]
      },
      {
       "javascript": [
        "$('div#3885baeb-0d9a-4dc7-84f4-343983f23205').text('ETA:  0:00:00');"
       ],
       "metadata": {},
       "output_type": "display_data",
       "text": [
        "<IPython.core.display.Javascript at 0x18cd1eb8>"
       ]
      },
      {
       "javascript": [
        "$('div#518600a8-7e13-4882-b25c-a2f49ca14836').text('340 of 1000');"
       ],
       "metadata": {},
       "output_type": "display_data",
       "text": [
        "<IPython.core.display.Javascript at 0x18cd1eb8>"
       ]
      },
      {
       "javascript": [
        "$('div#882c7c13-5153-4aff-8dfc-1981e7ca3b34').text(' 34%');"
       ],
       "metadata": {},
       "output_type": "display_data",
       "text": [
        "<IPython.core.display.Javascript at 0x16b46a90>"
       ]
      },
      {
       "javascript": [
        "\n",
        "        var $myPB = $(\"div#35139024-0c79-4d24-9e11-10ae8e286083\")\n",
        "        if ($myPB.hasClass('ui-progressbar')) {\n",
        "            $myPB.progressbar('value', 340);\n",
        "        } else {\n",
        "            $myPB.progressbar({value: 0, max: 1000});\n",
        "        }\n",
        "        "
       ],
       "metadata": {},
       "output_type": "display_data",
       "text": [
        "<IPython.core.display.Javascript at 0x16b46908>"
       ]
      },
      {
       "javascript": [
        "$('div#3885baeb-0d9a-4dc7-84f4-343983f23205').text('ETA:  0:00:00');"
       ],
       "metadata": {},
       "output_type": "display_data",
       "text": [
        "<IPython.core.display.Javascript at 0x1beaee10>"
       ]
      },
      {
       "javascript": [
        "$('div#518600a8-7e13-4882-b25c-a2f49ca14836').text('350 of 1000');"
       ],
       "metadata": {},
       "output_type": "display_data",
       "text": [
        "<IPython.core.display.Javascript at 0x16b46a90>"
       ]
      },
      {
       "javascript": [
        "$('div#882c7c13-5153-4aff-8dfc-1981e7ca3b34').text(' 35%');"
       ],
       "metadata": {},
       "output_type": "display_data",
       "text": [
        "<IPython.core.display.Javascript at 0x16b46908>"
       ]
      },
      {
       "javascript": [
        "\n",
        "        var $myPB = $(\"div#35139024-0c79-4d24-9e11-10ae8e286083\")\n",
        "        if ($myPB.hasClass('ui-progressbar')) {\n",
        "            $myPB.progressbar('value', 350);\n",
        "        } else {\n",
        "            $myPB.progressbar({value: 0, max: 1000});\n",
        "        }\n",
        "        "
       ],
       "metadata": {},
       "output_type": "display_data",
       "text": [
        "<IPython.core.display.Javascript at 0x18cd1eb8>"
       ]
      },
      {
       "javascript": [
        "$('div#3885baeb-0d9a-4dc7-84f4-343983f23205').text('ETA:  0:00:00');"
       ],
       "metadata": {},
       "output_type": "display_data",
       "text": [
        "<IPython.core.display.Javascript at 0x16b46908>"
       ]
      },
      {
       "javascript": [
        "$('div#518600a8-7e13-4882-b25c-a2f49ca14836').text('360 of 1000');"
       ],
       "metadata": {},
       "output_type": "display_data",
       "text": [
        "<IPython.core.display.Javascript at 0x16b46a90>"
       ]
      },
      {
       "javascript": [
        "$('div#882c7c13-5153-4aff-8dfc-1981e7ca3b34').text(' 36%');"
       ],
       "metadata": {},
       "output_type": "display_data",
       "text": [
        "<IPython.core.display.Javascript at 0x16b46908>"
       ]
      },
      {
       "javascript": [
        "\n",
        "        var $myPB = $(\"div#35139024-0c79-4d24-9e11-10ae8e286083\")\n",
        "        if ($myPB.hasClass('ui-progressbar')) {\n",
        "            $myPB.progressbar('value', 360);\n",
        "        } else {\n",
        "            $myPB.progressbar({value: 0, max: 1000});\n",
        "        }\n",
        "        "
       ],
       "metadata": {},
       "output_type": "display_data",
       "text": [
        "<IPython.core.display.Javascript at 0x18cd1eb8>"
       ]
      },
      {
       "javascript": [
        "$('div#3885baeb-0d9a-4dc7-84f4-343983f23205').text('ETA:  0:00:00');"
       ],
       "metadata": {},
       "output_type": "display_data",
       "text": [
        "<IPython.core.display.Javascript at 0x1beaee10>"
       ]
      },
      {
       "javascript": [
        "$('div#518600a8-7e13-4882-b25c-a2f49ca14836').text('370 of 1000');"
       ],
       "metadata": {},
       "output_type": "display_data",
       "text": [
        "<IPython.core.display.Javascript at 0x18cd1eb8>"
       ]
      },
      {
       "javascript": [
        "$('div#882c7c13-5153-4aff-8dfc-1981e7ca3b34').text(' 37%');"
       ],
       "metadata": {},
       "output_type": "display_data",
       "text": [
        "<IPython.core.display.Javascript at 0x16b46908>"
       ]
      },
      {
       "javascript": [
        "\n",
        "        var $myPB = $(\"div#35139024-0c79-4d24-9e11-10ae8e286083\")\n",
        "        if ($myPB.hasClass('ui-progressbar')) {\n",
        "            $myPB.progressbar('value', 370);\n",
        "        } else {\n",
        "            $myPB.progressbar({value: 0, max: 1000});\n",
        "        }\n",
        "        "
       ],
       "metadata": {},
       "output_type": "display_data",
       "text": [
        "<IPython.core.display.Javascript at 0x16b46908>"
       ]
      },
      {
       "javascript": [
        "$('div#3885baeb-0d9a-4dc7-84f4-343983f23205').text('ETA:  0:00:00');"
       ],
       "metadata": {},
       "output_type": "display_data",
       "text": [
        "<IPython.core.display.Javascript at 0x16b46a90>"
       ]
      },
      {
       "javascript": [
        "$('div#518600a8-7e13-4882-b25c-a2f49ca14836').text('380 of 1000');"
       ],
       "metadata": {},
       "output_type": "display_data",
       "text": [
        "<IPython.core.display.Javascript at 0x18cd1eb8>"
       ]
      },
      {
       "javascript": [
        "$('div#882c7c13-5153-4aff-8dfc-1981e7ca3b34').text(' 38%');"
       ],
       "metadata": {},
       "output_type": "display_data",
       "text": [
        "<IPython.core.display.Javascript at 0x16b46908>"
       ]
      },
      {
       "javascript": [
        "\n",
        "        var $myPB = $(\"div#35139024-0c79-4d24-9e11-10ae8e286083\")\n",
        "        if ($myPB.hasClass('ui-progressbar')) {\n",
        "            $myPB.progressbar('value', 380);\n",
        "        } else {\n",
        "            $myPB.progressbar({value: 0, max: 1000});\n",
        "        }\n",
        "        "
       ],
       "metadata": {},
       "output_type": "display_data",
       "text": [
        "<IPython.core.display.Javascript at 0x16b46a90>"
       ]
      },
      {
       "javascript": [
        "$('div#3885baeb-0d9a-4dc7-84f4-343983f23205').text('ETA:  0:00:00');"
       ],
       "metadata": {},
       "output_type": "display_data",
       "text": [
        "<IPython.core.display.Javascript at 0x1beae780>"
       ]
      },
      {
       "javascript": [
        "$('div#518600a8-7e13-4882-b25c-a2f49ca14836').text('390 of 1000');"
       ],
       "metadata": {},
       "output_type": "display_data",
       "text": [
        "<IPython.core.display.Javascript at 0x16b46a90>"
       ]
      },
      {
       "javascript": [
        "$('div#882c7c13-5153-4aff-8dfc-1981e7ca3b34').text(' 39%');"
       ],
       "metadata": {},
       "output_type": "display_data",
       "text": [
        "<IPython.core.display.Javascript at 0x16b46908>"
       ]
      },
      {
       "javascript": [
        "\n",
        "        var $myPB = $(\"div#35139024-0c79-4d24-9e11-10ae8e286083\")\n",
        "        if ($myPB.hasClass('ui-progressbar')) {\n",
        "            $myPB.progressbar('value', 390);\n",
        "        } else {\n",
        "            $myPB.progressbar({value: 0, max: 1000});\n",
        "        }\n",
        "        "
       ],
       "metadata": {},
       "output_type": "display_data",
       "text": [
        "<IPython.core.display.Javascript at 0x18cd1eb8>"
       ]
      },
      {
       "javascript": [
        "$('div#3885baeb-0d9a-4dc7-84f4-343983f23205').text('ETA:  0:00:00');"
       ],
       "metadata": {},
       "output_type": "display_data",
       "text": [
        "<IPython.core.display.Javascript at 0x18cd1eb8>"
       ]
      },
      {
       "javascript": [
        "$('div#518600a8-7e13-4882-b25c-a2f49ca14836').text('400 of 1000');"
       ],
       "metadata": {},
       "output_type": "display_data",
       "text": [
        "<IPython.core.display.Javascript at 0x16b46908>"
       ]
      },
      {
       "javascript": [
        "$('div#882c7c13-5153-4aff-8dfc-1981e7ca3b34').text(' 40%');"
       ],
       "metadata": {},
       "output_type": "display_data",
       "text": [
        "<IPython.core.display.Javascript at 0x16b46908>"
       ]
      },
      {
       "javascript": [
        "\n",
        "        var $myPB = $(\"div#35139024-0c79-4d24-9e11-10ae8e286083\")\n",
        "        if ($myPB.hasClass('ui-progressbar')) {\n",
        "            $myPB.progressbar('value', 400);\n",
        "        } else {\n",
        "            $myPB.progressbar({value: 0, max: 1000});\n",
        "        }\n",
        "        "
       ],
       "metadata": {},
       "output_type": "display_data",
       "text": [
        "<IPython.core.display.Javascript at 0x16b46a90>"
       ]
      },
      {
       "javascript": [
        "$('div#3885baeb-0d9a-4dc7-84f4-343983f23205').text('ETA:  0:00:00');"
       ],
       "metadata": {},
       "output_type": "display_data",
       "text": [
        "<IPython.core.display.Javascript at 0x18cd1eb8>"
       ]
      },
      {
       "javascript": [
        "$('div#518600a8-7e13-4882-b25c-a2f49ca14836').text('410 of 1000');"
       ],
       "metadata": {},
       "output_type": "display_data",
       "text": [
        "<IPython.core.display.Javascript at 0x18cd1eb8>"
       ]
      },
      {
       "javascript": [
        "$('div#882c7c13-5153-4aff-8dfc-1981e7ca3b34').text(' 41%');"
       ],
       "metadata": {},
       "output_type": "display_data",
       "text": [
        "<IPython.core.display.Javascript at 0x16b46a90>"
       ]
      },
      {
       "javascript": [
        "\n",
        "        var $myPB = $(\"div#35139024-0c79-4d24-9e11-10ae8e286083\")\n",
        "        if ($myPB.hasClass('ui-progressbar')) {\n",
        "            $myPB.progressbar('value', 410);\n",
        "        } else {\n",
        "            $myPB.progressbar({value: 0, max: 1000});\n",
        "        }\n",
        "        "
       ],
       "metadata": {},
       "output_type": "display_data",
       "text": [
        "<IPython.core.display.Javascript at 0x16b46908>"
       ]
      },
      {
       "javascript": [
        "$('div#3885baeb-0d9a-4dc7-84f4-343983f23205').text('ETA:  0:00:00');"
       ],
       "metadata": {},
       "output_type": "display_data",
       "text": [
        "<IPython.core.display.Javascript at 0x16b46908>"
       ]
      },
      {
       "javascript": [
        "$('div#518600a8-7e13-4882-b25c-a2f49ca14836').text('420 of 1000');"
       ],
       "metadata": {},
       "output_type": "display_data",
       "text": [
        "<IPython.core.display.Javascript at 0x16b46a90>"
       ]
      },
      {
       "javascript": [
        "$('div#882c7c13-5153-4aff-8dfc-1981e7ca3b34').text(' 42%');"
       ],
       "metadata": {},
       "output_type": "display_data",
       "text": [
        "<IPython.core.display.Javascript at 0x18cd1eb8>"
       ]
      },
      {
       "javascript": [
        "\n",
        "        var $myPB = $(\"div#35139024-0c79-4d24-9e11-10ae8e286083\")\n",
        "        if ($myPB.hasClass('ui-progressbar')) {\n",
        "            $myPB.progressbar('value', 420);\n",
        "        } else {\n",
        "            $myPB.progressbar({value: 0, max: 1000});\n",
        "        }\n",
        "        "
       ],
       "metadata": {},
       "output_type": "display_data",
       "text": [
        "<IPython.core.display.Javascript at 0x16b46a90>"
       ]
      },
      {
       "javascript": [
        "$('div#3885baeb-0d9a-4dc7-84f4-343983f23205').text('ETA:  0:00:00');"
       ],
       "metadata": {},
       "output_type": "display_data",
       "text": [
        "<IPython.core.display.Javascript at 0x16b46908>"
       ]
      },
      {
       "javascript": [
        "$('div#518600a8-7e13-4882-b25c-a2f49ca14836').text('430 of 1000');"
       ],
       "metadata": {},
       "output_type": "display_data",
       "text": [
        "<IPython.core.display.Javascript at 0x16b46908>"
       ]
      },
      {
       "javascript": [
        "$('div#882c7c13-5153-4aff-8dfc-1981e7ca3b34').text(' 43%');"
       ],
       "metadata": {},
       "output_type": "display_data",
       "text": [
        "<IPython.core.display.Javascript at 0x16b46a90>"
       ]
      },
      {
       "javascript": [
        "\n",
        "        var $myPB = $(\"div#35139024-0c79-4d24-9e11-10ae8e286083\")\n",
        "        if ($myPB.hasClass('ui-progressbar')) {\n",
        "            $myPB.progressbar('value', 430);\n",
        "        } else {\n",
        "            $myPB.progressbar({value: 0, max: 1000});\n",
        "        }\n",
        "        "
       ],
       "metadata": {},
       "output_type": "display_data",
       "text": [
        "<IPython.core.display.Javascript at 0x18cd1eb8>"
       ]
      },
      {
       "javascript": [
        "$('div#3885baeb-0d9a-4dc7-84f4-343983f23205').text('ETA:  0:00:00');"
       ],
       "metadata": {},
       "output_type": "display_data",
       "text": [
        "<IPython.core.display.Javascript at 0x18cd1eb8>"
       ]
      },
      {
       "javascript": [
        "$('div#518600a8-7e13-4882-b25c-a2f49ca14836').text('440 of 1000');"
       ],
       "metadata": {},
       "output_type": "display_data",
       "text": [
        "<IPython.core.display.Javascript at 0x16b46a90>"
       ]
      },
      {
       "javascript": [
        "$('div#882c7c13-5153-4aff-8dfc-1981e7ca3b34').text(' 44%');"
       ],
       "metadata": {},
       "output_type": "display_data",
       "text": [
        "<IPython.core.display.Javascript at 0x16b46908>"
       ]
      },
      {
       "javascript": [
        "\n",
        "        var $myPB = $(\"div#35139024-0c79-4d24-9e11-10ae8e286083\")\n",
        "        if ($myPB.hasClass('ui-progressbar')) {\n",
        "            $myPB.progressbar('value', 440);\n",
        "        } else {\n",
        "            $myPB.progressbar({value: 0, max: 1000});\n",
        "        }\n",
        "        "
       ],
       "metadata": {},
       "output_type": "display_data",
       "text": [
        "<IPython.core.display.Javascript at 0x18cd1eb8>"
       ]
      },
      {
       "javascript": [
        "$('div#3885baeb-0d9a-4dc7-84f4-343983f23205').text('ETA:  0:00:00');"
       ],
       "metadata": {},
       "output_type": "display_data",
       "text": [
        "<IPython.core.display.Javascript at 0x16b46908>"
       ]
      },
      {
       "javascript": [
        "$('div#518600a8-7e13-4882-b25c-a2f49ca14836').text('450 of 1000');"
       ],
       "metadata": {},
       "output_type": "display_data",
       "text": [
        "<IPython.core.display.Javascript at 0x16b46a90>"
       ]
      },
      {
       "javascript": [
        "$('div#882c7c13-5153-4aff-8dfc-1981e7ca3b34').text(' 45%');"
       ],
       "metadata": {},
       "output_type": "display_data",
       "text": [
        "<IPython.core.display.Javascript at 0x16b46908>"
       ]
      },
      {
       "javascript": [
        "\n",
        "        var $myPB = $(\"div#35139024-0c79-4d24-9e11-10ae8e286083\")\n",
        "        if ($myPB.hasClass('ui-progressbar')) {\n",
        "            $myPB.progressbar('value', 450);\n",
        "        } else {\n",
        "            $myPB.progressbar({value: 0, max: 1000});\n",
        "        }\n",
        "        "
       ],
       "metadata": {},
       "output_type": "display_data",
       "text": [
        "<IPython.core.display.Javascript at 0x18cd1eb8>"
       ]
      },
      {
       "javascript": [
        "$('div#3885baeb-0d9a-4dc7-84f4-343983f23205').text('ETA:  0:00:00');"
       ],
       "metadata": {},
       "output_type": "display_data",
       "text": [
        "<IPython.core.display.Javascript at 0x1beaee10>"
       ]
      },
      {
       "javascript": [
        "$('div#518600a8-7e13-4882-b25c-a2f49ca14836').text('460 of 1000');"
       ],
       "metadata": {},
       "output_type": "display_data",
       "text": [
        "<IPython.core.display.Javascript at 0x18cd1eb8>"
       ]
      },
      {
       "javascript": [
        "$('div#882c7c13-5153-4aff-8dfc-1981e7ca3b34').text(' 46%');"
       ],
       "metadata": {},
       "output_type": "display_data",
       "text": [
        "<IPython.core.display.Javascript at 0x16b46908>"
       ]
      },
      {
       "javascript": [
        "\n",
        "        var $myPB = $(\"div#35139024-0c79-4d24-9e11-10ae8e286083\")\n",
        "        if ($myPB.hasClass('ui-progressbar')) {\n",
        "            $myPB.progressbar('value', 460);\n",
        "        } else {\n",
        "            $myPB.progressbar({value: 0, max: 1000});\n",
        "        }\n",
        "        "
       ],
       "metadata": {},
       "output_type": "display_data",
       "text": [
        "<IPython.core.display.Javascript at 0x16b46a90>"
       ]
      },
      {
       "javascript": [
        "$('div#3885baeb-0d9a-4dc7-84f4-343983f23205').text('ETA:  0:00:00');"
       ],
       "metadata": {},
       "output_type": "display_data",
       "text": [
        "<IPython.core.display.Javascript at 0x18cd1eb8>"
       ]
      },
      {
       "javascript": [
        "$('div#518600a8-7e13-4882-b25c-a2f49ca14836').text('470 of 1000');"
       ],
       "metadata": {},
       "output_type": "display_data",
       "text": [
        "<IPython.core.display.Javascript at 0x16b46908>"
       ]
      },
      {
       "javascript": [
        "$('div#882c7c13-5153-4aff-8dfc-1981e7ca3b34').text(' 47%');"
       ],
       "metadata": {},
       "output_type": "display_data",
       "text": [
        "<IPython.core.display.Javascript at 0x16b46908>"
       ]
      },
      {
       "javascript": [
        "\n",
        "        var $myPB = $(\"div#35139024-0c79-4d24-9e11-10ae8e286083\")\n",
        "        if ($myPB.hasClass('ui-progressbar')) {\n",
        "            $myPB.progressbar('value', 470);\n",
        "        } else {\n",
        "            $myPB.progressbar({value: 0, max: 1000});\n",
        "        }\n",
        "        "
       ],
       "metadata": {},
       "output_type": "display_data",
       "text": [
        "<IPython.core.display.Javascript at 0x18cd1eb8>"
       ]
      },
      {
       "javascript": [
        "$('div#3885baeb-0d9a-4dc7-84f4-343983f23205').text('ETA:  0:00:00');"
       ],
       "metadata": {},
       "output_type": "display_data",
       "text": [
        "<IPython.core.display.Javascript at 0x1beaee10>"
       ]
      },
      {
       "javascript": [
        "$('div#518600a8-7e13-4882-b25c-a2f49ca14836').text('480 of 1000');"
       ],
       "metadata": {},
       "output_type": "display_data",
       "text": [
        "<IPython.core.display.Javascript at 0x18cd1eb8>"
       ]
      },
      {
       "javascript": [
        "$('div#882c7c13-5153-4aff-8dfc-1981e7ca3b34').text(' 48%');"
       ],
       "metadata": {},
       "output_type": "display_data",
       "text": [
        "<IPython.core.display.Javascript at 0x16b46908>"
       ]
      },
      {
       "javascript": [
        "\n",
        "        var $myPB = $(\"div#35139024-0c79-4d24-9e11-10ae8e286083\")\n",
        "        if ($myPB.hasClass('ui-progressbar')) {\n",
        "            $myPB.progressbar('value', 480);\n",
        "        } else {\n",
        "            $myPB.progressbar({value: 0, max: 1000});\n",
        "        }\n",
        "        "
       ],
       "metadata": {},
       "output_type": "display_data",
       "text": [
        "<IPython.core.display.Javascript at 0x1beaee10>"
       ]
      },
      {
       "javascript": [
        "$('div#3885baeb-0d9a-4dc7-84f4-343983f23205').text('ETA:  0:00:00');"
       ],
       "metadata": {},
       "output_type": "display_data",
       "text": [
        "<IPython.core.display.Javascript at 0x18cd1eb8>"
       ]
      },
      {
       "javascript": [
        "$('div#518600a8-7e13-4882-b25c-a2f49ca14836').text('490 of 1000');"
       ],
       "metadata": {},
       "output_type": "display_data",
       "text": [
        "<IPython.core.display.Javascript at 0x16b46908>"
       ]
      },
      {
       "javascript": [
        "$('div#882c7c13-5153-4aff-8dfc-1981e7ca3b34').text(' 49%');"
       ],
       "metadata": {},
       "output_type": "display_data",
       "text": [
        "<IPython.core.display.Javascript at 0x16b46908>"
       ]
      },
      {
       "javascript": [
        "\n",
        "        var $myPB = $(\"div#35139024-0c79-4d24-9e11-10ae8e286083\")\n",
        "        if ($myPB.hasClass('ui-progressbar')) {\n",
        "            $myPB.progressbar('value', 490);\n",
        "        } else {\n",
        "            $myPB.progressbar({value: 0, max: 1000});\n",
        "        }\n",
        "        "
       ],
       "metadata": {},
       "output_type": "display_data",
       "text": [
        "<IPython.core.display.Javascript at 0x18cd1eb8>"
       ]
      },
      {
       "javascript": [
        "$('div#3885baeb-0d9a-4dc7-84f4-343983f23205').text('ETA:  0:00:00');"
       ],
       "metadata": {},
       "output_type": "display_data",
       "text": [
        "<IPython.core.display.Javascript at 0x1beae438>"
       ]
      },
      {
       "javascript": [
        "$('div#518600a8-7e13-4882-b25c-a2f49ca14836').text('500 of 1000');"
       ],
       "metadata": {},
       "output_type": "display_data",
       "text": [
        "<IPython.core.display.Javascript at 0x18cd1eb8>"
       ]
      },
      {
       "javascript": [
        "$('div#882c7c13-5153-4aff-8dfc-1981e7ca3b34').text(' 50%');"
       ],
       "metadata": {},
       "output_type": "display_data",
       "text": [
        "<IPython.core.display.Javascript at 0x16b46908>"
       ]
      },
      {
       "javascript": [
        "\n",
        "        var $myPB = $(\"div#35139024-0c79-4d24-9e11-10ae8e286083\")\n",
        "        if ($myPB.hasClass('ui-progressbar')) {\n",
        "            $myPB.progressbar('value', 500);\n",
        "        } else {\n",
        "            $myPB.progressbar({value: 0, max: 1000});\n",
        "        }\n",
        "        "
       ],
       "metadata": {},
       "output_type": "display_data",
       "text": [
        "<IPython.core.display.Javascript at 0x1beae438>"
       ]
      },
      {
       "javascript": [
        "$('div#3885baeb-0d9a-4dc7-84f4-343983f23205').text('ETA:  0:00:00');"
       ],
       "metadata": {},
       "output_type": "display_data",
       "text": [
        "<IPython.core.display.Javascript at 0x18cd1eb8>"
       ]
      },
      {
       "javascript": [
        "$('div#518600a8-7e13-4882-b25c-a2f49ca14836').text('510 of 1000');"
       ],
       "metadata": {},
       "output_type": "display_data",
       "text": [
        "<IPython.core.display.Javascript at 0x16b46908>"
       ]
      },
      {
       "javascript": [
        "$('div#882c7c13-5153-4aff-8dfc-1981e7ca3b34').text(' 51%');"
       ],
       "metadata": {},
       "output_type": "display_data",
       "text": [
        "<IPython.core.display.Javascript at 0x16b46908>"
       ]
      },
      {
       "javascript": [
        "\n",
        "        var $myPB = $(\"div#35139024-0c79-4d24-9e11-10ae8e286083\")\n",
        "        if ($myPB.hasClass('ui-progressbar')) {\n",
        "            $myPB.progressbar('value', 510);\n",
        "        } else {\n",
        "            $myPB.progressbar({value: 0, max: 1000});\n",
        "        }\n",
        "        "
       ],
       "metadata": {},
       "output_type": "display_data",
       "text": [
        "<IPython.core.display.Javascript at 0x16b46a90>"
       ]
      },
      {
       "javascript": [
        "$('div#3885baeb-0d9a-4dc7-84f4-343983f23205').text('ETA:  0:00:00');"
       ],
       "metadata": {},
       "output_type": "display_data",
       "text": [
        "<IPython.core.display.Javascript at 0x18cd1eb8>"
       ]
      },
      {
       "javascript": [
        "$('div#518600a8-7e13-4882-b25c-a2f49ca14836').text('520 of 1000');"
       ],
       "metadata": {},
       "output_type": "display_data",
       "text": [
        "<IPython.core.display.Javascript at 0x18cd1eb8>"
       ]
      },
      {
       "javascript": [
        "$('div#882c7c13-5153-4aff-8dfc-1981e7ca3b34').text(' 52%');"
       ],
       "metadata": {},
       "output_type": "display_data",
       "text": [
        "<IPython.core.display.Javascript at 0x16b46a90>"
       ]
      },
      {
       "javascript": [
        "\n",
        "        var $myPB = $(\"div#35139024-0c79-4d24-9e11-10ae8e286083\")\n",
        "        if ($myPB.hasClass('ui-progressbar')) {\n",
        "            $myPB.progressbar('value', 520);\n",
        "        } else {\n",
        "            $myPB.progressbar({value: 0, max: 1000});\n",
        "        }\n",
        "        "
       ],
       "metadata": {},
       "output_type": "display_data",
       "text": [
        "<IPython.core.display.Javascript at 0x16b46a90>"
       ]
      },
      {
       "javascript": [
        "$('div#3885baeb-0d9a-4dc7-84f4-343983f23205').text('ETA:  0:00:00');"
       ],
       "metadata": {},
       "output_type": "display_data",
       "text": [
        "<IPython.core.display.Javascript at 0x16b46908>"
       ]
      },
      {
       "javascript": [
        "$('div#518600a8-7e13-4882-b25c-a2f49ca14836').text('530 of 1000');"
       ],
       "metadata": {},
       "output_type": "display_data",
       "text": [
        "<IPython.core.display.Javascript at 0x18cd1eb8>"
       ]
      },
      {
       "javascript": [
        "$('div#882c7c13-5153-4aff-8dfc-1981e7ca3b34').text(' 53%');"
       ],
       "metadata": {},
       "output_type": "display_data",
       "text": [
        "<IPython.core.display.Javascript at 0x16b46908>"
       ]
      },
      {
       "javascript": [
        "\n",
        "        var $myPB = $(\"div#35139024-0c79-4d24-9e11-10ae8e286083\")\n",
        "        if ($myPB.hasClass('ui-progressbar')) {\n",
        "            $myPB.progressbar('value', 530);\n",
        "        } else {\n",
        "            $myPB.progressbar({value: 0, max: 1000});\n",
        "        }\n",
        "        "
       ],
       "metadata": {},
       "output_type": "display_data",
       "text": [
        "<IPython.core.display.Javascript at 0x16b46a90>"
       ]
      },
      {
       "javascript": [
        "$('div#3885baeb-0d9a-4dc7-84f4-343983f23205').text('ETA:  0:00:00');"
       ],
       "metadata": {},
       "output_type": "display_data",
       "text": [
        "<IPython.core.display.Javascript at 0x1beae438>"
       ]
      },
      {
       "javascript": [
        "$('div#518600a8-7e13-4882-b25c-a2f49ca14836').text('540 of 1000');"
       ],
       "metadata": {},
       "output_type": "display_data",
       "text": [
        "<IPython.core.display.Javascript at 0x16b46a90>"
       ]
      },
      {
       "javascript": [
        "$('div#882c7c13-5153-4aff-8dfc-1981e7ca3b34').text(' 54%');"
       ],
       "metadata": {},
       "output_type": "display_data",
       "text": [
        "<IPython.core.display.Javascript at 0x16b46908>"
       ]
      },
      {
       "javascript": [
        "\n",
        "        var $myPB = $(\"div#35139024-0c79-4d24-9e11-10ae8e286083\")\n",
        "        if ($myPB.hasClass('ui-progressbar')) {\n",
        "            $myPB.progressbar('value', 540);\n",
        "        } else {\n",
        "            $myPB.progressbar({value: 0, max: 1000});\n",
        "        }\n",
        "        "
       ],
       "metadata": {},
       "output_type": "display_data",
       "text": [
        "<IPython.core.display.Javascript at 0x18cd1eb8>"
       ]
      },
      {
       "javascript": [
        "$('div#3885baeb-0d9a-4dc7-84f4-343983f23205').text('ETA:  0:00:00');"
       ],
       "metadata": {},
       "output_type": "display_data",
       "text": [
        "<IPython.core.display.Javascript at 0x16b46908>"
       ]
      },
      {
       "javascript": [
        "$('div#518600a8-7e13-4882-b25c-a2f49ca14836').text('550 of 1000');"
       ],
       "metadata": {},
       "output_type": "display_data",
       "text": [
        "<IPython.core.display.Javascript at 0x16b46a90>"
       ]
      },
      {
       "javascript": [
        "$('div#882c7c13-5153-4aff-8dfc-1981e7ca3b34').text(' 55%');"
       ],
       "metadata": {},
       "output_type": "display_data",
       "text": [
        "<IPython.core.display.Javascript at 0x16b46908>"
       ]
      },
      {
       "javascript": [
        "\n",
        "        var $myPB = $(\"div#35139024-0c79-4d24-9e11-10ae8e286083\")\n",
        "        if ($myPB.hasClass('ui-progressbar')) {\n",
        "            $myPB.progressbar('value', 550);\n",
        "        } else {\n",
        "            $myPB.progressbar({value: 0, max: 1000});\n",
        "        }\n",
        "        "
       ],
       "metadata": {},
       "output_type": "display_data",
       "text": [
        "<IPython.core.display.Javascript at 0x18cd1eb8>"
       ]
      },
      {
       "javascript": [
        "$('div#3885baeb-0d9a-4dc7-84f4-343983f23205').text('ETA:  0:00:00');"
       ],
       "metadata": {},
       "output_type": "display_data",
       "text": [
        "<IPython.core.display.Javascript at 0x1beae438>"
       ]
      },
      {
       "javascript": [
        "$('div#518600a8-7e13-4882-b25c-a2f49ca14836').text('560 of 1000');"
       ],
       "metadata": {},
       "output_type": "display_data",
       "text": [
        "<IPython.core.display.Javascript at 0x18cd1eb8>"
       ]
      },
      {
       "javascript": [
        "$('div#882c7c13-5153-4aff-8dfc-1981e7ca3b34').text(' 56%');"
       ],
       "metadata": {},
       "output_type": "display_data",
       "text": [
        "<IPython.core.display.Javascript at 0x16b46908>"
       ]
      },
      {
       "javascript": [
        "\n",
        "        var $myPB = $(\"div#35139024-0c79-4d24-9e11-10ae8e286083\")\n",
        "        if ($myPB.hasClass('ui-progressbar')) {\n",
        "            $myPB.progressbar('value', 560);\n",
        "        } else {\n",
        "            $myPB.progressbar({value: 0, max: 1000});\n",
        "        }\n",
        "        "
       ],
       "metadata": {},
       "output_type": "display_data",
       "text": [
        "<IPython.core.display.Javascript at 0x16b46908>"
       ]
      },
      {
       "javascript": [
        "$('div#3885baeb-0d9a-4dc7-84f4-343983f23205').text('ETA:  0:00:00');"
       ],
       "metadata": {},
       "output_type": "display_data",
       "text": [
        "<IPython.core.display.Javascript at 0x16b46a90>"
       ]
      },
      {
       "javascript": [
        "$('div#518600a8-7e13-4882-b25c-a2f49ca14836').text('570 of 1000');"
       ],
       "metadata": {},
       "output_type": "display_data",
       "text": [
        "<IPython.core.display.Javascript at 0x18cd1eb8>"
       ]
      },
      {
       "javascript": [
        "$('div#882c7c13-5153-4aff-8dfc-1981e7ca3b34').text(' 57%');"
       ],
       "metadata": {},
       "output_type": "display_data",
       "text": [
        "<IPython.core.display.Javascript at 0x16b46908>"
       ]
      },
      {
       "javascript": [
        "\n",
        "        var $myPB = $(\"div#35139024-0c79-4d24-9e11-10ae8e286083\")\n",
        "        if ($myPB.hasClass('ui-progressbar')) {\n",
        "            $myPB.progressbar('value', 570);\n",
        "        } else {\n",
        "            $myPB.progressbar({value: 0, max: 1000});\n",
        "        }\n",
        "        "
       ],
       "metadata": {},
       "output_type": "display_data",
       "text": [
        "<IPython.core.display.Javascript at 0x16b46a90>"
       ]
      },
      {
       "javascript": [
        "$('div#3885baeb-0d9a-4dc7-84f4-343983f23205').text('ETA:  0:00:00');"
       ],
       "metadata": {},
       "output_type": "display_data",
       "text": [
        "<IPython.core.display.Javascript at 0x1beae630>"
       ]
      },
      {
       "javascript": [
        "$('div#518600a8-7e13-4882-b25c-a2f49ca14836').text('580 of 1000');"
       ],
       "metadata": {},
       "output_type": "display_data",
       "text": [
        "<IPython.core.display.Javascript at 0x16b46a90>"
       ]
      },
      {
       "javascript": [
        "$('div#882c7c13-5153-4aff-8dfc-1981e7ca3b34').text(' 58%');"
       ],
       "metadata": {},
       "output_type": "display_data",
       "text": [
        "<IPython.core.display.Javascript at 0x16b46908>"
       ]
      },
      {
       "javascript": [
        "\n",
        "        var $myPB = $(\"div#35139024-0c79-4d24-9e11-10ae8e286083\")\n",
        "        if ($myPB.hasClass('ui-progressbar')) {\n",
        "            $myPB.progressbar('value', 580);\n",
        "        } else {\n",
        "            $myPB.progressbar({value: 0, max: 1000});\n",
        "        }\n",
        "        "
       ],
       "metadata": {},
       "output_type": "display_data",
       "text": [
        "<IPython.core.display.Javascript at 0x18cd1eb8>"
       ]
      },
      {
       "javascript": [
        "$('div#3885baeb-0d9a-4dc7-84f4-343983f23205').text('ETA:  0:00:00');"
       ],
       "metadata": {},
       "output_type": "display_data",
       "text": [
        "<IPython.core.display.Javascript at 0x16b46908>"
       ]
      },
      {
       "javascript": [
        "$('div#518600a8-7e13-4882-b25c-a2f49ca14836').text('590 of 1000');"
       ],
       "metadata": {},
       "output_type": "display_data",
       "text": [
        "<IPython.core.display.Javascript at 0x16b46a90>"
       ]
      },
      {
       "javascript": [
        "$('div#882c7c13-5153-4aff-8dfc-1981e7ca3b34').text(' 59%');"
       ],
       "metadata": {},
       "output_type": "display_data",
       "text": [
        "<IPython.core.display.Javascript at 0x16b46a90>"
       ]
      },
      {
       "javascript": [
        "\n",
        "        var $myPB = $(\"div#35139024-0c79-4d24-9e11-10ae8e286083\")\n",
        "        if ($myPB.hasClass('ui-progressbar')) {\n",
        "            $myPB.progressbar('value', 590);\n",
        "        } else {\n",
        "            $myPB.progressbar({value: 0, max: 1000});\n",
        "        }\n",
        "        "
       ],
       "metadata": {},
       "output_type": "display_data",
       "text": [
        "<IPython.core.display.Javascript at 0x16b46908>"
       ]
      },
      {
       "javascript": [
        "$('div#3885baeb-0d9a-4dc7-84f4-343983f23205').text('ETA:  0:00:00');"
       ],
       "metadata": {},
       "output_type": "display_data",
       "text": [
        "<IPython.core.display.Javascript at 0x18cd1eb8>"
       ]
      },
      {
       "javascript": [
        "$('div#518600a8-7e13-4882-b25c-a2f49ca14836').text('600 of 1000');"
       ],
       "metadata": {},
       "output_type": "display_data",
       "text": [
        "<IPython.core.display.Javascript at 0x18cd1eb8>"
       ]
      },
      {
       "javascript": [
        "$('div#882c7c13-5153-4aff-8dfc-1981e7ca3b34').text(' 60%');"
       ],
       "metadata": {},
       "output_type": "display_data",
       "text": [
        "<IPython.core.display.Javascript at 0x16b46908>"
       ]
      },
      {
       "javascript": [
        "\n",
        "        var $myPB = $(\"div#35139024-0c79-4d24-9e11-10ae8e286083\")\n",
        "        if ($myPB.hasClass('ui-progressbar')) {\n",
        "            $myPB.progressbar('value', 600);\n",
        "        } else {\n",
        "            $myPB.progressbar({value: 0, max: 1000});\n",
        "        }\n",
        "        "
       ],
       "metadata": {},
       "output_type": "display_data",
       "text": [
        "<IPython.core.display.Javascript at 0x16b46a90>"
       ]
      },
      {
       "javascript": [
        "$('div#3885baeb-0d9a-4dc7-84f4-343983f23205').text('ETA:  0:00:00');"
       ],
       "metadata": {},
       "output_type": "display_data",
       "text": [
        "<IPython.core.display.Javascript at 0x16b46a90>"
       ]
      },
      {
       "javascript": [
        "$('div#518600a8-7e13-4882-b25c-a2f49ca14836').text('610 of 1000');"
       ],
       "metadata": {},
       "output_type": "display_data",
       "text": [
        "<IPython.core.display.Javascript at 0x16b46908>"
       ]
      },
      {
       "javascript": [
        "$('div#882c7c13-5153-4aff-8dfc-1981e7ca3b34').text(' 61%');"
       ],
       "metadata": {},
       "output_type": "display_data",
       "text": [
        "<IPython.core.display.Javascript at 0x18cd1eb8>"
       ]
      },
      {
       "javascript": [
        "\n",
        "        var $myPB = $(\"div#35139024-0c79-4d24-9e11-10ae8e286083\")\n",
        "        if ($myPB.hasClass('ui-progressbar')) {\n",
        "            $myPB.progressbar('value', 610);\n",
        "        } else {\n",
        "            $myPB.progressbar({value: 0, max: 1000});\n",
        "        }\n",
        "        "
       ],
       "metadata": {},
       "output_type": "display_data",
       "text": [
        "<IPython.core.display.Javascript at 0x16b46908>"
       ]
      },
      {
       "javascript": [
        "$('div#3885baeb-0d9a-4dc7-84f4-343983f23205').text('ETA:  0:00:00');"
       ],
       "metadata": {},
       "output_type": "display_data",
       "text": [
        "<IPython.core.display.Javascript at 0x16b46a90>"
       ]
      },
      {
       "javascript": [
        "$('div#518600a8-7e13-4882-b25c-a2f49ca14836').text('620 of 1000');"
       ],
       "metadata": {},
       "output_type": "display_data",
       "text": [
        "<IPython.core.display.Javascript at 0x16b46a90>"
       ]
      },
      {
       "javascript": [
        "$('div#882c7c13-5153-4aff-8dfc-1981e7ca3b34').text(' 62%');"
       ],
       "metadata": {},
       "output_type": "display_data",
       "text": [
        "<IPython.core.display.Javascript at 0x16b46908>"
       ]
      },
      {
       "javascript": [
        "\n",
        "        var $myPB = $(\"div#35139024-0c79-4d24-9e11-10ae8e286083\")\n",
        "        if ($myPB.hasClass('ui-progressbar')) {\n",
        "            $myPB.progressbar('value', 620);\n",
        "        } else {\n",
        "            $myPB.progressbar({value: 0, max: 1000});\n",
        "        }\n",
        "        "
       ],
       "metadata": {},
       "output_type": "display_data",
       "text": [
        "<IPython.core.display.Javascript at 0x18cd1eb8>"
       ]
      },
      {
       "javascript": [
        "$('div#3885baeb-0d9a-4dc7-84f4-343983f23205').text('ETA:  0:00:00');"
       ],
       "metadata": {},
       "output_type": "display_data",
       "text": [
        "<IPython.core.display.Javascript at 0x18cd1eb8>"
       ]
      },
      {
       "javascript": [
        "$('div#518600a8-7e13-4882-b25c-a2f49ca14836').text('630 of 1000');"
       ],
       "metadata": {},
       "output_type": "display_data",
       "text": [
        "<IPython.core.display.Javascript at 0x16b46908>"
       ]
      },
      {
       "javascript": [
        "$('div#882c7c13-5153-4aff-8dfc-1981e7ca3b34').text(' 63%');"
       ],
       "metadata": {},
       "output_type": "display_data",
       "text": [
        "<IPython.core.display.Javascript at 0x16b46908>"
       ]
      },
      {
       "javascript": [
        "\n",
        "        var $myPB = $(\"div#35139024-0c79-4d24-9e11-10ae8e286083\")\n",
        "        if ($myPB.hasClass('ui-progressbar')) {\n",
        "            $myPB.progressbar('value', 630);\n",
        "        } else {\n",
        "            $myPB.progressbar({value: 0, max: 1000});\n",
        "        }\n",
        "        "
       ],
       "metadata": {},
       "output_type": "display_data",
       "text": [
        "<IPython.core.display.Javascript at 0x16b46a90>"
       ]
      },
      {
       "javascript": [
        "$('div#3885baeb-0d9a-4dc7-84f4-343983f23205').text('ETA:  0:00:00');"
       ],
       "metadata": {},
       "output_type": "display_data",
       "text": [
        "<IPython.core.display.Javascript at 0x18cd1eb8>"
       ]
      },
      {
       "javascript": [
        "$('div#518600a8-7e13-4882-b25c-a2f49ca14836').text('640 of 1000');"
       ],
       "metadata": {},
       "output_type": "display_data",
       "text": [
        "<IPython.core.display.Javascript at 0x18cd1eb8>"
       ]
      },
      {
       "javascript": [
        "$('div#882c7c13-5153-4aff-8dfc-1981e7ca3b34').text(' 64%');"
       ],
       "metadata": {},
       "output_type": "display_data",
       "text": [
        "<IPython.core.display.Javascript at 0x16b46a90>"
       ]
      },
      {
       "javascript": [
        "\n",
        "        var $myPB = $(\"div#35139024-0c79-4d24-9e11-10ae8e286083\")\n",
        "        if ($myPB.hasClass('ui-progressbar')) {\n",
        "            $myPB.progressbar('value', 640);\n",
        "        } else {\n",
        "            $myPB.progressbar({value: 0, max: 1000});\n",
        "        }\n",
        "        "
       ],
       "metadata": {},
       "output_type": "display_data",
       "text": [
        "<IPython.core.display.Javascript at 0x16b46908>"
       ]
      },
      {
       "javascript": [
        "$('div#3885baeb-0d9a-4dc7-84f4-343983f23205').text('ETA:  0:00:00');"
       ],
       "metadata": {},
       "output_type": "display_data",
       "text": [
        "<IPython.core.display.Javascript at 0x16b46908>"
       ]
      },
      {
       "javascript": [
        "$('div#518600a8-7e13-4882-b25c-a2f49ca14836').text('650 of 1000');"
       ],
       "metadata": {},
       "output_type": "display_data",
       "text": [
        "<IPython.core.display.Javascript at 0x16b46a90>"
       ]
      },
      {
       "javascript": [
        "$('div#882c7c13-5153-4aff-8dfc-1981e7ca3b34').text(' 65%');"
       ],
       "metadata": {},
       "output_type": "display_data",
       "text": [
        "<IPython.core.display.Javascript at 0x18cd1eb8>"
       ]
      },
      {
       "javascript": [
        "\n",
        "        var $myPB = $(\"div#35139024-0c79-4d24-9e11-10ae8e286083\")\n",
        "        if ($myPB.hasClass('ui-progressbar')) {\n",
        "            $myPB.progressbar('value', 650);\n",
        "        } else {\n",
        "            $myPB.progressbar({value: 0, max: 1000});\n",
        "        }\n",
        "        "
       ],
       "metadata": {},
       "output_type": "display_data",
       "text": [
        "<IPython.core.display.Javascript at 0x18cd1eb8>"
       ]
      },
      {
       "javascript": [
        "$('div#3885baeb-0d9a-4dc7-84f4-343983f23205').text('ETA:  0:00:00');"
       ],
       "metadata": {},
       "output_type": "display_data",
       "text": [
        "<IPython.core.display.Javascript at 0x16b46908>"
       ]
      },
      {
       "javascript": [
        "$('div#518600a8-7e13-4882-b25c-a2f49ca14836').text('660 of 1000');"
       ],
       "metadata": {},
       "output_type": "display_data",
       "text": [
        "<IPython.core.display.Javascript at 0x16b46a90>"
       ]
      },
      {
       "javascript": [
        "$('div#882c7c13-5153-4aff-8dfc-1981e7ca3b34').text(' 66%');"
       ],
       "metadata": {},
       "output_type": "display_data",
       "text": [
        "<IPython.core.display.Javascript at 0x16b46908>"
       ]
      },
      {
       "javascript": [
        "\n",
        "        var $myPB = $(\"div#35139024-0c79-4d24-9e11-10ae8e286083\")\n",
        "        if ($myPB.hasClass('ui-progressbar')) {\n",
        "            $myPB.progressbar('value', 660);\n",
        "        } else {\n",
        "            $myPB.progressbar({value: 0, max: 1000});\n",
        "        }\n",
        "        "
       ],
       "metadata": {},
       "output_type": "display_data",
       "text": [
        "<IPython.core.display.Javascript at 0x18cd1eb8>"
       ]
      },
      {
       "javascript": [
        "$('div#3885baeb-0d9a-4dc7-84f4-343983f23205').text('ETA:  0:00:00');"
       ],
       "metadata": {},
       "output_type": "display_data",
       "text": [
        "<IPython.core.display.Javascript at 0x1beae630>"
       ]
      },
      {
       "javascript": [
        "$('div#518600a8-7e13-4882-b25c-a2f49ca14836').text('670 of 1000');"
       ],
       "metadata": {},
       "output_type": "display_data",
       "text": [
        "<IPython.core.display.Javascript at 0x18cd1eb8>"
       ]
      },
      {
       "javascript": [
        "$('div#882c7c13-5153-4aff-8dfc-1981e7ca3b34').text(' 67%');"
       ],
       "metadata": {},
       "output_type": "display_data",
       "text": [
        "<IPython.core.display.Javascript at 0x16b46908>"
       ]
      },
      {
       "javascript": [
        "\n",
        "        var $myPB = $(\"div#35139024-0c79-4d24-9e11-10ae8e286083\")\n",
        "        if ($myPB.hasClass('ui-progressbar')) {\n",
        "            $myPB.progressbar('value', 670);\n",
        "        } else {\n",
        "            $myPB.progressbar({value: 0, max: 1000});\n",
        "        }\n",
        "        "
       ],
       "metadata": {},
       "output_type": "display_data",
       "text": [
        "<IPython.core.display.Javascript at 0x16b46908>"
       ]
      },
      {
       "javascript": [
        "$('div#3885baeb-0d9a-4dc7-84f4-343983f23205').text('ETA:  0:00:00');"
       ],
       "metadata": {},
       "output_type": "display_data",
       "text": [
        "<IPython.core.display.Javascript at 0x16b46a90>"
       ]
      },
      {
       "javascript": [
        "$('div#518600a8-7e13-4882-b25c-a2f49ca14836').text('680 of 1000');"
       ],
       "metadata": {},
       "output_type": "display_data",
       "text": [
        "<IPython.core.display.Javascript at 0x18cd1eb8>"
       ]
      },
      {
       "javascript": [
        "$('div#882c7c13-5153-4aff-8dfc-1981e7ca3b34').text(' 68%');"
       ],
       "metadata": {},
       "output_type": "display_data",
       "text": [
        "<IPython.core.display.Javascript at 0x18cd1eb8>"
       ]
      },
      {
       "javascript": [
        "\n",
        "        var $myPB = $(\"div#35139024-0c79-4d24-9e11-10ae8e286083\")\n",
        "        if ($myPB.hasClass('ui-progressbar')) {\n",
        "            $myPB.progressbar('value', 680);\n",
        "        } else {\n",
        "            $myPB.progressbar({value: 0, max: 1000});\n",
        "        }\n",
        "        "
       ],
       "metadata": {},
       "output_type": "display_data",
       "text": [
        "<IPython.core.display.Javascript at 0x16b46a90>"
       ]
      },
      {
       "javascript": [
        "$('div#3885baeb-0d9a-4dc7-84f4-343983f23205').text('ETA:  0:00:00');"
       ],
       "metadata": {},
       "output_type": "display_data",
       "text": [
        "<IPython.core.display.Javascript at 0x16b46908>"
       ]
      },
      {
       "javascript": [
        "$('div#518600a8-7e13-4882-b25c-a2f49ca14836').text('690 of 1000');"
       ],
       "metadata": {},
       "output_type": "display_data",
       "text": [
        "<IPython.core.display.Javascript at 0x16b46908>"
       ]
      },
      {
       "javascript": [
        "$('div#882c7c13-5153-4aff-8dfc-1981e7ca3b34').text(' 69%');"
       ],
       "metadata": {},
       "output_type": "display_data",
       "text": [
        "<IPython.core.display.Javascript at 0x16b46a90>"
       ]
      },
      {
       "javascript": [
        "\n",
        "        var $myPB = $(\"div#35139024-0c79-4d24-9e11-10ae8e286083\")\n",
        "        if ($myPB.hasClass('ui-progressbar')) {\n",
        "            $myPB.progressbar('value', 690);\n",
        "        } else {\n",
        "            $myPB.progressbar({value: 0, max: 1000});\n",
        "        }\n",
        "        "
       ],
       "metadata": {},
       "output_type": "display_data",
       "text": [
        "<IPython.core.display.Javascript at 0x18cd1eb8>"
       ]
      },
      {
       "javascript": [
        "$('div#3885baeb-0d9a-4dc7-84f4-343983f23205').text('ETA:  0:00:00');"
       ],
       "metadata": {},
       "output_type": "display_data",
       "text": [
        "<IPython.core.display.Javascript at 0x18cd1eb8>"
       ]
      },
      {
       "javascript": [
        "$('div#518600a8-7e13-4882-b25c-a2f49ca14836').text('700 of 1000');"
       ],
       "metadata": {},
       "output_type": "display_data",
       "text": [
        "<IPython.core.display.Javascript at 0x16b46a90>"
       ]
      },
      {
       "javascript": [
        "$('div#882c7c13-5153-4aff-8dfc-1981e7ca3b34').text(' 70%');"
       ],
       "metadata": {},
       "output_type": "display_data",
       "text": [
        "<IPython.core.display.Javascript at 0x16b46a90>"
       ]
      },
      {
       "javascript": [
        "\n",
        "        var $myPB = $(\"div#35139024-0c79-4d24-9e11-10ae8e286083\")\n",
        "        if ($myPB.hasClass('ui-progressbar')) {\n",
        "            $myPB.progressbar('value', 700);\n",
        "        } else {\n",
        "            $myPB.progressbar({value: 0, max: 1000});\n",
        "        }\n",
        "        "
       ],
       "metadata": {},
       "output_type": "display_data",
       "text": [
        "<IPython.core.display.Javascript at 0x16b46908>"
       ]
      },
      {
       "javascript": [
        "$('div#3885baeb-0d9a-4dc7-84f4-343983f23205').text('ETA:  0:00:00');"
       ],
       "metadata": {},
       "output_type": "display_data",
       "text": [
        "<IPython.core.display.Javascript at 0x18cd1eb8>"
       ]
      },
      {
       "javascript": [
        "$('div#518600a8-7e13-4882-b25c-a2f49ca14836').text('710 of 1000');"
       ],
       "metadata": {},
       "output_type": "display_data",
       "text": [
        "<IPython.core.display.Javascript at 0x18cd1eb8>"
       ]
      },
      {
       "javascript": [
        "$('div#882c7c13-5153-4aff-8dfc-1981e7ca3b34').text(' 71%');"
       ],
       "metadata": {},
       "output_type": "display_data",
       "text": [
        "<IPython.core.display.Javascript at 0x16b46908>"
       ]
      },
      {
       "javascript": [
        "\n",
        "        var $myPB = $(\"div#35139024-0c79-4d24-9e11-10ae8e286083\")\n",
        "        if ($myPB.hasClass('ui-progressbar')) {\n",
        "            $myPB.progressbar('value', 710);\n",
        "        } else {\n",
        "            $myPB.progressbar({value: 0, max: 1000});\n",
        "        }\n",
        "        "
       ],
       "metadata": {},
       "output_type": "display_data",
       "text": [
        "<IPython.core.display.Javascript at 0x16b46a90>"
       ]
      },
      {
       "javascript": [
        "$('div#3885baeb-0d9a-4dc7-84f4-343983f23205').text('ETA:  0:00:00');"
       ],
       "metadata": {},
       "output_type": "display_data",
       "text": [
        "<IPython.core.display.Javascript at 0x16b46a90>"
       ]
      },
      {
       "javascript": [
        "$('div#518600a8-7e13-4882-b25c-a2f49ca14836').text('720 of 1000');"
       ],
       "metadata": {},
       "output_type": "display_data",
       "text": [
        "<IPython.core.display.Javascript at 0x16b46908>"
       ]
      },
      {
       "javascript": [
        "$('div#882c7c13-5153-4aff-8dfc-1981e7ca3b34').text(' 72%');"
       ],
       "metadata": {},
       "output_type": "display_data",
       "text": [
        "<IPython.core.display.Javascript at 0x18cd1eb8>"
       ]
      },
      {
       "javascript": [
        "\n",
        "        var $myPB = $(\"div#35139024-0c79-4d24-9e11-10ae8e286083\")\n",
        "        if ($myPB.hasClass('ui-progressbar')) {\n",
        "            $myPB.progressbar('value', 720);\n",
        "        } else {\n",
        "            $myPB.progressbar({value: 0, max: 1000});\n",
        "        }\n",
        "        "
       ],
       "metadata": {},
       "output_type": "display_data",
       "text": [
        "<IPython.core.display.Javascript at 0x16b46908>"
       ]
      },
      {
       "javascript": [
        "$('div#3885baeb-0d9a-4dc7-84f4-343983f23205').text('ETA:  0:00:00');"
       ],
       "metadata": {},
       "output_type": "display_data",
       "text": [
        "<IPython.core.display.Javascript at 0x16b46a90>"
       ]
      },
      {
       "javascript": [
        "$('div#518600a8-7e13-4882-b25c-a2f49ca14836').text('730 of 1000');"
       ],
       "metadata": {},
       "output_type": "display_data",
       "text": [
        "<IPython.core.display.Javascript at 0x16b46a90>"
       ]
      },
      {
       "javascript": [
        "$('div#882c7c13-5153-4aff-8dfc-1981e7ca3b34').text(' 73%');"
       ],
       "metadata": {},
       "output_type": "display_data",
       "text": [
        "<IPython.core.display.Javascript at 0x16b46908>"
       ]
      },
      {
       "javascript": [
        "\n",
        "        var $myPB = $(\"div#35139024-0c79-4d24-9e11-10ae8e286083\")\n",
        "        if ($myPB.hasClass('ui-progressbar')) {\n",
        "            $myPB.progressbar('value', 730);\n",
        "        } else {\n",
        "            $myPB.progressbar({value: 0, max: 1000});\n",
        "        }\n",
        "        "
       ],
       "metadata": {},
       "output_type": "display_data",
       "text": [
        "<IPython.core.display.Javascript at 0x18cd1eb8>"
       ]
      },
      {
       "javascript": [
        "$('div#3885baeb-0d9a-4dc7-84f4-343983f23205').text('ETA:  0:00:00');"
       ],
       "metadata": {},
       "output_type": "display_data",
       "text": [
        "<IPython.core.display.Javascript at 0x18cd1eb8>"
       ]
      },
      {
       "javascript": [
        "$('div#518600a8-7e13-4882-b25c-a2f49ca14836').text('740 of 1000');"
       ],
       "metadata": {},
       "output_type": "display_data",
       "text": [
        "<IPython.core.display.Javascript at 0x16b46908>"
       ]
      },
      {
       "javascript": [
        "$('div#882c7c13-5153-4aff-8dfc-1981e7ca3b34').text(' 74%');"
       ],
       "metadata": {},
       "output_type": "display_data",
       "text": [
        "<IPython.core.display.Javascript at 0x16b46a90>"
       ]
      },
      {
       "javascript": [
        "\n",
        "        var $myPB = $(\"div#35139024-0c79-4d24-9e11-10ae8e286083\")\n",
        "        if ($myPB.hasClass('ui-progressbar')) {\n",
        "            $myPB.progressbar('value', 740);\n",
        "        } else {\n",
        "            $myPB.progressbar({value: 0, max: 1000});\n",
        "        }\n",
        "        "
       ],
       "metadata": {},
       "output_type": "display_data",
       "text": [
        "<IPython.core.display.Javascript at 0x18cd1eb8>"
       ]
      },
      {
       "javascript": [
        "$('div#3885baeb-0d9a-4dc7-84f4-343983f23205').text('ETA:  0:00:00');"
       ],
       "metadata": {},
       "output_type": "display_data",
       "text": [
        "<IPython.core.display.Javascript at 0x16b46908>"
       ]
      },
      {
       "javascript": [
        "$('div#518600a8-7e13-4882-b25c-a2f49ca14836').text('750 of 1000');"
       ],
       "metadata": {},
       "output_type": "display_data",
       "text": [
        "<IPython.core.display.Javascript at 0x18cd1eb8>"
       ]
      },
      {
       "javascript": [
        "$('div#882c7c13-5153-4aff-8dfc-1981e7ca3b34').text(' 75%');"
       ],
       "metadata": {},
       "output_type": "display_data",
       "text": [
        "<IPython.core.display.Javascript at 0x16b46908>"
       ]
      },
      {
       "javascript": [
        "\n",
        "        var $myPB = $(\"div#35139024-0c79-4d24-9e11-10ae8e286083\")\n",
        "        if ($myPB.hasClass('ui-progressbar')) {\n",
        "            $myPB.progressbar('value', 750);\n",
        "        } else {\n",
        "            $myPB.progressbar({value: 0, max: 1000});\n",
        "        }\n",
        "        "
       ],
       "metadata": {},
       "output_type": "display_data",
       "text": [
        "<IPython.core.display.Javascript at 0x16b46a90>"
       ]
      },
      {
       "javascript": [
        "$('div#3885baeb-0d9a-4dc7-84f4-343983f23205').text('ETA:  0:00:00');"
       ],
       "metadata": {},
       "output_type": "display_data",
       "text": [
        "<IPython.core.display.Javascript at 0x1beaee10>"
       ]
      },
      {
       "javascript": [
        "$('div#518600a8-7e13-4882-b25c-a2f49ca14836').text('760 of 1000');"
       ],
       "metadata": {},
       "output_type": "display_data",
       "text": [
        "<IPython.core.display.Javascript at 0x16b46a90>"
       ]
      },
      {
       "javascript": [
        "$('div#882c7c13-5153-4aff-8dfc-1981e7ca3b34').text(' 76%');"
       ],
       "metadata": {},
       "output_type": "display_data",
       "text": [
        "<IPython.core.display.Javascript at 0x16b46908>"
       ]
      },
      {
       "javascript": [
        "\n",
        "        var $myPB = $(\"div#35139024-0c79-4d24-9e11-10ae8e286083\")\n",
        "        if ($myPB.hasClass('ui-progressbar')) {\n",
        "            $myPB.progressbar('value', 760);\n",
        "        } else {\n",
        "            $myPB.progressbar({value: 0, max: 1000});\n",
        "        }\n",
        "        "
       ],
       "metadata": {},
       "output_type": "display_data",
       "text": [
        "<IPython.core.display.Javascript at 0x18cd1eb8>"
       ]
      },
      {
       "javascript": [
        "$('div#3885baeb-0d9a-4dc7-84f4-343983f23205').text('ETA:  0:00:00');"
       ],
       "metadata": {},
       "output_type": "display_data",
       "text": [
        "<IPython.core.display.Javascript at 0x16b46908>"
       ]
      },
      {
       "javascript": [
        "$('div#518600a8-7e13-4882-b25c-a2f49ca14836').text('770 of 1000');"
       ],
       "metadata": {},
       "output_type": "display_data",
       "text": [
        "<IPython.core.display.Javascript at 0x16b46a90>"
       ]
      },
      {
       "javascript": [
        "$('div#882c7c13-5153-4aff-8dfc-1981e7ca3b34').text(' 77%');"
       ],
       "metadata": {},
       "output_type": "display_data",
       "text": [
        "<IPython.core.display.Javascript at 0x16b46908>"
       ]
      },
      {
       "javascript": [
        "\n",
        "        var $myPB = $(\"div#35139024-0c79-4d24-9e11-10ae8e286083\")\n",
        "        if ($myPB.hasClass('ui-progressbar')) {\n",
        "            $myPB.progressbar('value', 770);\n",
        "        } else {\n",
        "            $myPB.progressbar({value: 0, max: 1000});\n",
        "        }\n",
        "        "
       ],
       "metadata": {},
       "output_type": "display_data",
       "text": [
        "<IPython.core.display.Javascript at 0x18cd1eb8>"
       ]
      },
      {
       "javascript": [
        "$('div#3885baeb-0d9a-4dc7-84f4-343983f23205').text('ETA:  0:00:00');"
       ],
       "metadata": {},
       "output_type": "display_data",
       "text": [
        "<IPython.core.display.Javascript at 0x1beaee10>"
       ]
      },
      {
       "javascript": [
        "$('div#518600a8-7e13-4882-b25c-a2f49ca14836').text('780 of 1000');"
       ],
       "metadata": {},
       "output_type": "display_data",
       "text": [
        "<IPython.core.display.Javascript at 0x18cd1eb8>"
       ]
      },
      {
       "javascript": [
        "$('div#882c7c13-5153-4aff-8dfc-1981e7ca3b34').text(' 78%');"
       ],
       "metadata": {},
       "output_type": "display_data",
       "text": [
        "<IPython.core.display.Javascript at 0x16b46908>"
       ]
      },
      {
       "javascript": [
        "\n",
        "        var $myPB = $(\"div#35139024-0c79-4d24-9e11-10ae8e286083\")\n",
        "        if ($myPB.hasClass('ui-progressbar')) {\n",
        "            $myPB.progressbar('value', 780);\n",
        "        } else {\n",
        "            $myPB.progressbar({value: 0, max: 1000});\n",
        "        }\n",
        "        "
       ],
       "metadata": {},
       "output_type": "display_data",
       "text": [
        "<IPython.core.display.Javascript at 0x16b46a90>"
       ]
      },
      {
       "javascript": [
        "$('div#3885baeb-0d9a-4dc7-84f4-343983f23205').text('ETA:  0:00:00');"
       ],
       "metadata": {},
       "output_type": "display_data",
       "text": [
        "<IPython.core.display.Javascript at 0x18cd1eb8>"
       ]
      },
      {
       "javascript": [
        "$('div#518600a8-7e13-4882-b25c-a2f49ca14836').text('790 of 1000');"
       ],
       "metadata": {},
       "output_type": "display_data",
       "text": [
        "<IPython.core.display.Javascript at 0x16b46908>"
       ]
      },
      {
       "javascript": [
        "$('div#882c7c13-5153-4aff-8dfc-1981e7ca3b34').text(' 79%');"
       ],
       "metadata": {},
       "output_type": "display_data",
       "text": [
        "<IPython.core.display.Javascript at 0x18cd1eb8>"
       ]
      },
      {
       "javascript": [
        "\n",
        "        var $myPB = $(\"div#35139024-0c79-4d24-9e11-10ae8e286083\")\n",
        "        if ($myPB.hasClass('ui-progressbar')) {\n",
        "            $myPB.progressbar('value', 790);\n",
        "        } else {\n",
        "            $myPB.progressbar({value: 0, max: 1000});\n",
        "        }\n",
        "        "
       ],
       "metadata": {},
       "output_type": "display_data",
       "text": [
        "<IPython.core.display.Javascript at 0x1beae780>"
       ]
      },
      {
       "javascript": [
        "$('div#3885baeb-0d9a-4dc7-84f4-343983f23205').text('ETA:  0:00:00');"
       ],
       "metadata": {},
       "output_type": "display_data",
       "text": [
        "<IPython.core.display.Javascript at 0x1beae630>"
       ]
      },
      {
       "javascript": [
        "$('div#518600a8-7e13-4882-b25c-a2f49ca14836').text('800 of 1000');"
       ],
       "metadata": {},
       "output_type": "display_data",
       "text": [
        "<IPython.core.display.Javascript at 0x18cd1eb8>"
       ]
      },
      {
       "javascript": [
        "$('div#882c7c13-5153-4aff-8dfc-1981e7ca3b34').text(' 80%');"
       ],
       "metadata": {},
       "output_type": "display_data",
       "text": [
        "<IPython.core.display.Javascript at 0x16b46908>"
       ]
      },
      {
       "javascript": [
        "\n",
        "        var $myPB = $(\"div#35139024-0c79-4d24-9e11-10ae8e286083\")\n",
        "        if ($myPB.hasClass('ui-progressbar')) {\n",
        "            $myPB.progressbar('value', 800);\n",
        "        } else {\n",
        "            $myPB.progressbar({value: 0, max: 1000});\n",
        "        }\n",
        "        "
       ],
       "metadata": {},
       "output_type": "display_data",
       "text": [
        "<IPython.core.display.Javascript at 0x16b46908>"
       ]
      },
      {
       "javascript": [
        "$('div#3885baeb-0d9a-4dc7-84f4-343983f23205').text('ETA:  0:00:00');"
       ],
       "metadata": {},
       "output_type": "display_data",
       "text": [
        "<IPython.core.display.Javascript at 0x18cd1eb8>"
       ]
      },
      {
       "javascript": [
        "$('div#518600a8-7e13-4882-b25c-a2f49ca14836').text('810 of 1000');"
       ],
       "metadata": {},
       "output_type": "display_data",
       "text": [
        "<IPython.core.display.Javascript at 0x18cd1eb8>"
       ]
      },
      {
       "javascript": [
        "$('div#882c7c13-5153-4aff-8dfc-1981e7ca3b34').text(' 81%');"
       ],
       "metadata": {},
       "output_type": "display_data",
       "text": [
        "<IPython.core.display.Javascript at 0x16b46908>"
       ]
      },
      {
       "javascript": [
        "\n",
        "        var $myPB = $(\"div#35139024-0c79-4d24-9e11-10ae8e286083\")\n",
        "        if ($myPB.hasClass('ui-progressbar')) {\n",
        "            $myPB.progressbar('value', 810);\n",
        "        } else {\n",
        "            $myPB.progressbar({value: 0, max: 1000});\n",
        "        }\n",
        "        "
       ],
       "metadata": {},
       "output_type": "display_data",
       "text": [
        "<IPython.core.display.Javascript at 0x1beae438>"
       ]
      },
      {
       "javascript": [
        "$('div#3885baeb-0d9a-4dc7-84f4-343983f23205').text('ETA:  0:00:00');"
       ],
       "metadata": {},
       "output_type": "display_data",
       "text": [
        "<IPython.core.display.Javascript at 0x1beae630>"
       ]
      },
      {
       "javascript": [
        "$('div#518600a8-7e13-4882-b25c-a2f49ca14836').text('820 of 1000');"
       ],
       "metadata": {},
       "output_type": "display_data",
       "text": [
        "<IPython.core.display.Javascript at 0x16b46908>"
       ]
      },
      {
       "javascript": [
        "$('div#882c7c13-5153-4aff-8dfc-1981e7ca3b34').text(' 82%');"
       ],
       "metadata": {},
       "output_type": "display_data",
       "text": [
        "<IPython.core.display.Javascript at 0x18cd1eb8>"
       ]
      },
      {
       "javascript": [
        "\n",
        "        var $myPB = $(\"div#35139024-0c79-4d24-9e11-10ae8e286083\")\n",
        "        if ($myPB.hasClass('ui-progressbar')) {\n",
        "            $myPB.progressbar('value', 820);\n",
        "        } else {\n",
        "            $myPB.progressbar({value: 0, max: 1000});\n",
        "        }\n",
        "        "
       ],
       "metadata": {},
       "output_type": "display_data",
       "text": [
        "<IPython.core.display.Javascript at 0x18cd1eb8>"
       ]
      },
      {
       "javascript": [
        "$('div#3885baeb-0d9a-4dc7-84f4-343983f23205').text('ETA:  0:00:00');"
       ],
       "metadata": {},
       "output_type": "display_data",
       "text": [
        "<IPython.core.display.Javascript at 0x16b46908>"
       ]
      },
      {
       "javascript": [
        "$('div#518600a8-7e13-4882-b25c-a2f49ca14836').text('830 of 1000');"
       ],
       "metadata": {},
       "output_type": "display_data",
       "text": [
        "<IPython.core.display.Javascript at 0x18cd1eb8>"
       ]
      },
      {
       "javascript": [
        "$('div#882c7c13-5153-4aff-8dfc-1981e7ca3b34').text(' 83%');"
       ],
       "metadata": {},
       "output_type": "display_data",
       "text": [
        "<IPython.core.display.Javascript at 0x16b46908>"
       ]
      },
      {
       "javascript": [
        "\n",
        "        var $myPB = $(\"div#35139024-0c79-4d24-9e11-10ae8e286083\")\n",
        "        if ($myPB.hasClass('ui-progressbar')) {\n",
        "            $myPB.progressbar('value', 830);\n",
        "        } else {\n",
        "            $myPB.progressbar({value: 0, max: 1000});\n",
        "        }\n",
        "        "
       ],
       "metadata": {},
       "output_type": "display_data",
       "text": [
        "<IPython.core.display.Javascript at 0x16b46a90>"
       ]
      },
      {
       "javascript": [
        "$('div#3885baeb-0d9a-4dc7-84f4-343983f23205').text('ETA:  0:00:00');"
       ],
       "metadata": {},
       "output_type": "display_data",
       "text": [
        "<IPython.core.display.Javascript at 0x1beae630>"
       ]
      },
      {
       "javascript": [
        "$('div#518600a8-7e13-4882-b25c-a2f49ca14836').text('840 of 1000');"
       ],
       "metadata": {},
       "output_type": "display_data",
       "text": [
        "<IPython.core.display.Javascript at 0x16b46a90>"
       ]
      },
      {
       "javascript": [
        "$('div#882c7c13-5153-4aff-8dfc-1981e7ca3b34').text(' 84%');"
       ],
       "metadata": {},
       "output_type": "display_data",
       "text": [
        "<IPython.core.display.Javascript at 0x16b46908>"
       ]
      },
      {
       "javascript": [
        "\n",
        "        var $myPB = $(\"div#35139024-0c79-4d24-9e11-10ae8e286083\")\n",
        "        if ($myPB.hasClass('ui-progressbar')) {\n",
        "            $myPB.progressbar('value', 840);\n",
        "        } else {\n",
        "            $myPB.progressbar({value: 0, max: 1000});\n",
        "        }\n",
        "        "
       ],
       "metadata": {},
       "output_type": "display_data",
       "text": [
        "<IPython.core.display.Javascript at 0x18cd1eb8>"
       ]
      },
      {
       "javascript": [
        "$('div#3885baeb-0d9a-4dc7-84f4-343983f23205').text('ETA:  0:00:00');"
       ],
       "metadata": {},
       "output_type": "display_data",
       "text": [
        "<IPython.core.display.Javascript at 0x16b46908>"
       ]
      },
      {
       "javascript": [
        "$('div#518600a8-7e13-4882-b25c-a2f49ca14836').text('850 of 1000');"
       ],
       "metadata": {},
       "output_type": "display_data",
       "text": [
        "<IPython.core.display.Javascript at 0x16b46a90>"
       ]
      },
      {
       "javascript": [
        "$('div#882c7c13-5153-4aff-8dfc-1981e7ca3b34').text(' 85%');"
       ],
       "metadata": {},
       "output_type": "display_data",
       "text": [
        "<IPython.core.display.Javascript at 0x16b46908>"
       ]
      },
      {
       "javascript": [
        "\n",
        "        var $myPB = $(\"div#35139024-0c79-4d24-9e11-10ae8e286083\")\n",
        "        if ($myPB.hasClass('ui-progressbar')) {\n",
        "            $myPB.progressbar('value', 850);\n",
        "        } else {\n",
        "            $myPB.progressbar({value: 0, max: 1000});\n",
        "        }\n",
        "        "
       ],
       "metadata": {},
       "output_type": "display_data",
       "text": [
        "<IPython.core.display.Javascript at 0x18cd1eb8>"
       ]
      },
      {
       "javascript": [
        "$('div#3885baeb-0d9a-4dc7-84f4-343983f23205').text('ETA:  0:00:00');"
       ],
       "metadata": {},
       "output_type": "display_data",
       "text": [
        "<IPython.core.display.Javascript at 0x1beae630>"
       ]
      },
      {
       "javascript": [
        "$('div#518600a8-7e13-4882-b25c-a2f49ca14836').text('860 of 1000');"
       ],
       "metadata": {},
       "output_type": "display_data",
       "text": [
        "<IPython.core.display.Javascript at 0x18cd1eb8>"
       ]
      },
      {
       "javascript": [
        "$('div#882c7c13-5153-4aff-8dfc-1981e7ca3b34').text(' 86%');"
       ],
       "metadata": {},
       "output_type": "display_data",
       "text": [
        "<IPython.core.display.Javascript at 0x16b46a90>"
       ]
      },
      {
       "javascript": [
        "\n",
        "        var $myPB = $(\"div#35139024-0c79-4d24-9e11-10ae8e286083\")\n",
        "        if ($myPB.hasClass('ui-progressbar')) {\n",
        "            $myPB.progressbar('value', 860);\n",
        "        } else {\n",
        "            $myPB.progressbar({value: 0, max: 1000});\n",
        "        }\n",
        "        "
       ],
       "metadata": {},
       "output_type": "display_data",
       "text": [
        "<IPython.core.display.Javascript at 0x16b46908>"
       ]
      },
      {
       "javascript": [
        "$('div#3885baeb-0d9a-4dc7-84f4-343983f23205').text('ETA:  0:00:00');"
       ],
       "metadata": {},
       "output_type": "display_data",
       "text": [
        "<IPython.core.display.Javascript at 0x18cd1eb8>"
       ]
      },
      {
       "javascript": [
        "$('div#518600a8-7e13-4882-b25c-a2f49ca14836').text('870 of 1000');"
       ],
       "metadata": {},
       "output_type": "display_data",
       "text": [
        "<IPython.core.display.Javascript at 0x16b46908>"
       ]
      },
      {
       "javascript": [
        "$('div#882c7c13-5153-4aff-8dfc-1981e7ca3b34').text(' 87%');"
       ],
       "metadata": {},
       "output_type": "display_data",
       "text": [
        "<IPython.core.display.Javascript at 0x16b46908>"
       ]
      },
      {
       "javascript": [
        "\n",
        "        var $myPB = $(\"div#35139024-0c79-4d24-9e11-10ae8e286083\")\n",
        "        if ($myPB.hasClass('ui-progressbar')) {\n",
        "            $myPB.progressbar('value', 870);\n",
        "        } else {\n",
        "            $myPB.progressbar({value: 0, max: 1000});\n",
        "        }\n",
        "        "
       ],
       "metadata": {},
       "output_type": "display_data",
       "text": [
        "<IPython.core.display.Javascript at 0x16b46a90>"
       ]
      },
      {
       "javascript": [
        "$('div#3885baeb-0d9a-4dc7-84f4-343983f23205').text('ETA:  0:00:00');"
       ],
       "metadata": {},
       "output_type": "display_data",
       "text": [
        "<IPython.core.display.Javascript at 0x18cd1eb8>"
       ]
      },
      {
       "javascript": [
        "$('div#518600a8-7e13-4882-b25c-a2f49ca14836').text('880 of 1000');"
       ],
       "metadata": {},
       "output_type": "display_data",
       "text": [
        "<IPython.core.display.Javascript at 0x1beae630>"
       ]
      },
      {
       "javascript": [
        "$('div#882c7c13-5153-4aff-8dfc-1981e7ca3b34').text(' 88%');"
       ],
       "metadata": {},
       "output_type": "display_data",
       "text": [
        "<IPython.core.display.Javascript at 0x18cd1eb8>"
       ]
      },
      {
       "javascript": [
        "\n",
        "        var $myPB = $(\"div#35139024-0c79-4d24-9e11-10ae8e286083\")\n",
        "        if ($myPB.hasClass('ui-progressbar')) {\n",
        "            $myPB.progressbar('value', 880);\n",
        "        } else {\n",
        "            $myPB.progressbar({value: 0, max: 1000});\n",
        "        }\n",
        "        "
       ],
       "metadata": {},
       "output_type": "display_data",
       "text": [
        "<IPython.core.display.Javascript at 0x16b46a90>"
       ]
      },
      {
       "javascript": [
        "$('div#3885baeb-0d9a-4dc7-84f4-343983f23205').text('ETA:  0:00:00');"
       ],
       "metadata": {},
       "output_type": "display_data",
       "text": [
        "<IPython.core.display.Javascript at 0x16b46908>"
       ]
      },
      {
       "javascript": [
        "$('div#518600a8-7e13-4882-b25c-a2f49ca14836').text('890 of 1000');"
       ],
       "metadata": {},
       "output_type": "display_data",
       "text": [
        "<IPython.core.display.Javascript at 0x16b46908>"
       ]
      },
      {
       "javascript": [
        "$('div#882c7c13-5153-4aff-8dfc-1981e7ca3b34').text(' 89%');"
       ],
       "metadata": {},
       "output_type": "display_data",
       "text": [
        "<IPython.core.display.Javascript at 0x16b46a90>"
       ]
      },
      {
       "javascript": [
        "\n",
        "        var $myPB = $(\"div#35139024-0c79-4d24-9e11-10ae8e286083\")\n",
        "        if ($myPB.hasClass('ui-progressbar')) {\n",
        "            $myPB.progressbar('value', 890);\n",
        "        } else {\n",
        "            $myPB.progressbar({value: 0, max: 1000});\n",
        "        }\n",
        "        "
       ],
       "metadata": {},
       "output_type": "display_data",
       "text": [
        "<IPython.core.display.Javascript at 0x18cd1eb8>"
       ]
      },
      {
       "javascript": [
        "$('div#3885baeb-0d9a-4dc7-84f4-343983f23205').text('ETA:  0:00:00');"
       ],
       "metadata": {},
       "output_type": "display_data",
       "text": [
        "<IPython.core.display.Javascript at 0x1beaee10>"
       ]
      },
      {
       "javascript": [
        "$('div#518600a8-7e13-4882-b25c-a2f49ca14836').text('900 of 1000');"
       ],
       "metadata": {},
       "output_type": "display_data",
       "text": [
        "<IPython.core.display.Javascript at 0x18cd1eb8>"
       ]
      },
      {
       "javascript": [
        "$('div#882c7c13-5153-4aff-8dfc-1981e7ca3b34').text(' 90%');"
       ],
       "metadata": {},
       "output_type": "display_data",
       "text": [
        "<IPython.core.display.Javascript at 0x16b46a90>"
       ]
      },
      {
       "javascript": [
        "\n",
        "        var $myPB = $(\"div#35139024-0c79-4d24-9e11-10ae8e286083\")\n",
        "        if ($myPB.hasClass('ui-progressbar')) {\n",
        "            $myPB.progressbar('value', 900);\n",
        "        } else {\n",
        "            $myPB.progressbar({value: 0, max: 1000});\n",
        "        }\n",
        "        "
       ],
       "metadata": {},
       "output_type": "display_data",
       "text": [
        "<IPython.core.display.Javascript at 0x16b46908>"
       ]
      },
      {
       "javascript": [
        "$('div#3885baeb-0d9a-4dc7-84f4-343983f23205').text('ETA:  0:00:00');"
       ],
       "metadata": {},
       "output_type": "display_data",
       "text": [
        "<IPython.core.display.Javascript at 0x16b46908>"
       ]
      },
      {
       "javascript": [
        "$('div#518600a8-7e13-4882-b25c-a2f49ca14836').text('910 of 1000');"
       ],
       "metadata": {},
       "output_type": "display_data",
       "text": [
        "<IPython.core.display.Javascript at 0x16b46a90>"
       ]
      },
      {
       "javascript": [
        "$('div#882c7c13-5153-4aff-8dfc-1981e7ca3b34').text(' 91%');"
       ],
       "metadata": {},
       "output_type": "display_data",
       "text": [
        "<IPython.core.display.Javascript at 0x18cd1eb8>"
       ]
      },
      {
       "javascript": [
        "\n",
        "        var $myPB = $(\"div#35139024-0c79-4d24-9e11-10ae8e286083\")\n",
        "        if ($myPB.hasClass('ui-progressbar')) {\n",
        "            $myPB.progressbar('value', 910);\n",
        "        } else {\n",
        "            $myPB.progressbar({value: 0, max: 1000});\n",
        "        }\n",
        "        "
       ],
       "metadata": {},
       "output_type": "display_data",
       "text": [
        "<IPython.core.display.Javascript at 0x1beaee10>"
       ]
      },
      {
       "javascript": [
        "$('div#3885baeb-0d9a-4dc7-84f4-343983f23205').text('ETA:  0:00:00');"
       ],
       "metadata": {},
       "output_type": "display_data",
       "text": [
        "<IPython.core.display.Javascript at 0x18cd1eb8>"
       ]
      },
      {
       "javascript": [
        "$('div#518600a8-7e13-4882-b25c-a2f49ca14836').text('920 of 1000');"
       ],
       "metadata": {},
       "output_type": "display_data",
       "text": [
        "<IPython.core.display.Javascript at 0x16b46a90>"
       ]
      },
      {
       "javascript": [
        "$('div#882c7c13-5153-4aff-8dfc-1981e7ca3b34').text(' 92%');"
       ],
       "metadata": {},
       "output_type": "display_data",
       "text": [
        "<IPython.core.display.Javascript at 0x16b46908>"
       ]
      },
      {
       "javascript": [
        "\n",
        "        var $myPB = $(\"div#35139024-0c79-4d24-9e11-10ae8e286083\")\n",
        "        if ($myPB.hasClass('ui-progressbar')) {\n",
        "            $myPB.progressbar('value', 920);\n",
        "        } else {\n",
        "            $myPB.progressbar({value: 0, max: 1000});\n",
        "        }\n",
        "        "
       ],
       "metadata": {},
       "output_type": "display_data",
       "text": [
        "<IPython.core.display.Javascript at 0x1beaee10>"
       ]
      },
      {
       "javascript": [
        "$('div#3885baeb-0d9a-4dc7-84f4-343983f23205').text('ETA:  0:00:00');"
       ],
       "metadata": {},
       "output_type": "display_data",
       "text": [
        "<IPython.core.display.Javascript at 0x16b46908>"
       ]
      },
      {
       "javascript": [
        "$('div#518600a8-7e13-4882-b25c-a2f49ca14836').text('930 of 1000');"
       ],
       "metadata": {},
       "output_type": "display_data",
       "text": [
        "<IPython.core.display.Javascript at 0x16b46a90>"
       ]
      },
      {
       "javascript": [
        "$('div#882c7c13-5153-4aff-8dfc-1981e7ca3b34').text(' 93%');"
       ],
       "metadata": {},
       "output_type": "display_data",
       "text": [
        "<IPython.core.display.Javascript at 0x18cd1eb8>"
       ]
      },
      {
       "javascript": [
        "\n",
        "        var $myPB = $(\"div#35139024-0c79-4d24-9e11-10ae8e286083\")\n",
        "        if ($myPB.hasClass('ui-progressbar')) {\n",
        "            $myPB.progressbar('value', 930);\n",
        "        } else {\n",
        "            $myPB.progressbar({value: 0, max: 1000});\n",
        "        }\n",
        "        "
       ],
       "metadata": {},
       "output_type": "display_data",
       "text": [
        "<IPython.core.display.Javascript at 0x1beaee10>"
       ]
      },
      {
       "javascript": [
        "$('div#3885baeb-0d9a-4dc7-84f4-343983f23205').text('ETA:  0:00:00');"
       ],
       "metadata": {},
       "output_type": "display_data",
       "text": [
        "<IPython.core.display.Javascript at 0x18cd1eb8>"
       ]
      },
      {
       "javascript": [
        "$('div#518600a8-7e13-4882-b25c-a2f49ca14836').text('940 of 1000');"
       ],
       "metadata": {},
       "output_type": "display_data",
       "text": [
        "<IPython.core.display.Javascript at 0x16b46a90>"
       ]
      },
      {
       "javascript": [
        "$('div#882c7c13-5153-4aff-8dfc-1981e7ca3b34').text(' 94%');"
       ],
       "metadata": {},
       "output_type": "display_data",
       "text": [
        "<IPython.core.display.Javascript at 0x16b46908>"
       ]
      },
      {
       "javascript": [
        "\n",
        "        var $myPB = $(\"div#35139024-0c79-4d24-9e11-10ae8e286083\")\n",
        "        if ($myPB.hasClass('ui-progressbar')) {\n",
        "            $myPB.progressbar('value', 940);\n",
        "        } else {\n",
        "            $myPB.progressbar({value: 0, max: 1000});\n",
        "        }\n",
        "        "
       ],
       "metadata": {},
       "output_type": "display_data",
       "text": [
        "<IPython.core.display.Javascript at 0x1beaee10>"
       ]
      },
      {
       "javascript": [
        "$('div#3885baeb-0d9a-4dc7-84f4-343983f23205').text('ETA:  0:00:00');"
       ],
       "metadata": {},
       "output_type": "display_data",
       "text": [
        "<IPython.core.display.Javascript at 0x16b46908>"
       ]
      },
      {
       "javascript": [
        "$('div#518600a8-7e13-4882-b25c-a2f49ca14836').text('950 of 1000');"
       ],
       "metadata": {},
       "output_type": "display_data",
       "text": [
        "<IPython.core.display.Javascript at 0x16b46a90>"
       ]
      },
      {
       "javascript": [
        "$('div#882c7c13-5153-4aff-8dfc-1981e7ca3b34').text(' 95%');"
       ],
       "metadata": {},
       "output_type": "display_data",
       "text": [
        "<IPython.core.display.Javascript at 0x18cd1eb8>"
       ]
      },
      {
       "javascript": [
        "\n",
        "        var $myPB = $(\"div#35139024-0c79-4d24-9e11-10ae8e286083\")\n",
        "        if ($myPB.hasClass('ui-progressbar')) {\n",
        "            $myPB.progressbar('value', 950);\n",
        "        } else {\n",
        "            $myPB.progressbar({value: 0, max: 1000});\n",
        "        }\n",
        "        "
       ],
       "metadata": {},
       "output_type": "display_data",
       "text": [
        "<IPython.core.display.Javascript at 0x1beaee10>"
       ]
      },
      {
       "javascript": [
        "$('div#3885baeb-0d9a-4dc7-84f4-343983f23205').text('ETA:  0:00:00');"
       ],
       "metadata": {},
       "output_type": "display_data",
       "text": [
        "<IPython.core.display.Javascript at 0x18cd1eb8>"
       ]
      },
      {
       "javascript": [
        "$('div#518600a8-7e13-4882-b25c-a2f49ca14836').text('960 of 1000');"
       ],
       "metadata": {},
       "output_type": "display_data",
       "text": [
        "<IPython.core.display.Javascript at 0x16b46a90>"
       ]
      },
      {
       "javascript": [
        "$('div#882c7c13-5153-4aff-8dfc-1981e7ca3b34').text(' 96%');"
       ],
       "metadata": {},
       "output_type": "display_data",
       "text": [
        "<IPython.core.display.Javascript at 0x16b46908>"
       ]
      },
      {
       "javascript": [
        "\n",
        "        var $myPB = $(\"div#35139024-0c79-4d24-9e11-10ae8e286083\")\n",
        "        if ($myPB.hasClass('ui-progressbar')) {\n",
        "            $myPB.progressbar('value', 960);\n",
        "        } else {\n",
        "            $myPB.progressbar({value: 0, max: 1000});\n",
        "        }\n",
        "        "
       ],
       "metadata": {},
       "output_type": "display_data",
       "text": [
        "<IPython.core.display.Javascript at 0x16b46908>"
       ]
      },
      {
       "javascript": [
        "$('div#3885baeb-0d9a-4dc7-84f4-343983f23205').text('ETA:  0:00:00');"
       ],
       "metadata": {},
       "output_type": "display_data",
       "text": [
        "<IPython.core.display.Javascript at 0x16b46a90>"
       ]
      },
      {
       "javascript": [
        "$('div#518600a8-7e13-4882-b25c-a2f49ca14836').text('970 of 1000');"
       ],
       "metadata": {},
       "output_type": "display_data",
       "text": [
        "<IPython.core.display.Javascript at 0x18cd1eb8>"
       ]
      },
      {
       "javascript": [
        "$('div#882c7c13-5153-4aff-8dfc-1981e7ca3b34').text(' 97%');"
       ],
       "metadata": {},
       "output_type": "display_data",
       "text": [
        "<IPython.core.display.Javascript at 0x16b46908>"
       ]
      },
      {
       "javascript": [
        "\n",
        "        var $myPB = $(\"div#35139024-0c79-4d24-9e11-10ae8e286083\")\n",
        "        if ($myPB.hasClass('ui-progressbar')) {\n",
        "            $myPB.progressbar('value', 970);\n",
        "        } else {\n",
        "            $myPB.progressbar({value: 0, max: 1000});\n",
        "        }\n",
        "        "
       ],
       "metadata": {},
       "output_type": "display_data",
       "text": [
        "<IPython.core.display.Javascript at 0x16b46a90>"
       ]
      },
      {
       "javascript": [
        "$('div#3885baeb-0d9a-4dc7-84f4-343983f23205').text('ETA:  0:00:00');"
       ],
       "metadata": {},
       "output_type": "display_data",
       "text": [
        "<IPython.core.display.Javascript at 0x1beaefd0>"
       ]
      },
      {
       "javascript": [
        "$('div#518600a8-7e13-4882-b25c-a2f49ca14836').text('980 of 1000');"
       ],
       "metadata": {},
       "output_type": "display_data",
       "text": [
        "<IPython.core.display.Javascript at 0x16b46a90>"
       ]
      },
      {
       "javascript": [
        "$('div#882c7c13-5153-4aff-8dfc-1981e7ca3b34').text(' 98%');"
       ],
       "metadata": {},
       "output_type": "display_data",
       "text": [
        "<IPython.core.display.Javascript at 0x16b46908>"
       ]
      },
      {
       "javascript": [
        "\n",
        "        var $myPB = $(\"div#35139024-0c79-4d24-9e11-10ae8e286083\")\n",
        "        if ($myPB.hasClass('ui-progressbar')) {\n",
        "            $myPB.progressbar('value', 980);\n",
        "        } else {\n",
        "            $myPB.progressbar({value: 0, max: 1000});\n",
        "        }\n",
        "        "
       ],
       "metadata": {},
       "output_type": "display_data",
       "text": [
        "<IPython.core.display.Javascript at 0x18cd1eb8>"
       ]
      },
      {
       "javascript": [
        "$('div#3885baeb-0d9a-4dc7-84f4-343983f23205').text('ETA:  0:00:00');"
       ],
       "metadata": {},
       "output_type": "display_data",
       "text": [
        "<IPython.core.display.Javascript at 0x18cd1eb8>"
       ]
      },
      {
       "javascript": [
        "$('div#518600a8-7e13-4882-b25c-a2f49ca14836').text('990 of 1000');"
       ],
       "metadata": {},
       "output_type": "display_data",
       "text": [
        "<IPython.core.display.Javascript at 0x16b46908>"
       ]
      },
      {
       "javascript": [
        "$('div#882c7c13-5153-4aff-8dfc-1981e7ca3b34').text(' 99%');"
       ],
       "metadata": {},
       "output_type": "display_data",
       "text": [
        "<IPython.core.display.Javascript at 0x16b46a90>"
       ]
      },
      {
       "javascript": [
        "\n",
        "        var $myPB = $(\"div#35139024-0c79-4d24-9e11-10ae8e286083\")\n",
        "        if ($myPB.hasClass('ui-progressbar')) {\n",
        "            $myPB.progressbar('value', 990);\n",
        "        } else {\n",
        "            $myPB.progressbar({value: 0, max: 1000});\n",
        "        }\n",
        "        "
       ],
       "metadata": {},
       "output_type": "display_data",
       "text": [
        "<IPython.core.display.Javascript at 0x16b46a90>"
       ]
      },
      {
       "javascript": [
        "$('div#3885baeb-0d9a-4dc7-84f4-343983f23205').text('ETA:  0:00:00');"
       ],
       "metadata": {},
       "output_type": "display_data",
       "text": [
        "<IPython.core.display.Javascript at 0x16b46908>"
       ]
      },
      {
       "javascript": [
        "$('div#518600a8-7e13-4882-b25c-a2f49ca14836').text('1000 of 1000');"
       ],
       "metadata": {},
       "output_type": "display_data",
       "text": [
        "<IPython.core.display.Javascript at 0x18cd1eb8>"
       ]
      },
      {
       "javascript": [
        "$('div#882c7c13-5153-4aff-8dfc-1981e7ca3b34').text('100%');"
       ],
       "metadata": {},
       "output_type": "display_data",
       "text": [
        "<IPython.core.display.Javascript at 0x16b46908>"
       ]
      },
      {
       "javascript": [
        "\n",
        "        var $myPB = $(\"div#35139024-0c79-4d24-9e11-10ae8e286083\")\n",
        "        if ($myPB.hasClass('ui-progressbar')) {\n",
        "            $myPB.progressbar('value', 1000);\n",
        "        } else {\n",
        "            $myPB.progressbar({value: 0, max: 1000});\n",
        "        }\n",
        "        "
       ],
       "metadata": {},
       "output_type": "display_data",
       "text": [
        "<IPython.core.display.Javascript at 0x16b46a90>"
       ]
      },
      {
       "javascript": [
        "$('div#3885baeb-0d9a-4dc7-84f4-343983f23205').text('ETA:  0:00:00');"
       ],
       "metadata": {},
       "output_type": "display_data",
       "text": [
        "<IPython.core.display.Javascript at 0x1beaee10>"
       ]
      },
      {
       "javascript": [
        "$('div#518600a8-7e13-4882-b25c-a2f49ca14836').text('1000 of 1000');"
       ],
       "metadata": {},
       "output_type": "display_data",
       "text": [
        "<IPython.core.display.Javascript at 0x16b46828>"
       ]
      },
      {
       "javascript": [
        "$('div#882c7c13-5153-4aff-8dfc-1981e7ca3b34').text('100%');"
       ],
       "metadata": {},
       "output_type": "display_data",
       "text": [
        "<IPython.core.display.Javascript at 0x18cd1eb8>"
       ]
      },
      {
       "javascript": [
        "\n",
        "        var $myPB = $(\"div#35139024-0c79-4d24-9e11-10ae8e286083\")\n",
        "        if ($myPB.hasClass('ui-progressbar')) {\n",
        "            $myPB.progressbar('value', 1000);\n",
        "        } else {\n",
        "            $myPB.progressbar({value: 0, max: 1000});\n",
        "        }\n",
        "        "
       ],
       "metadata": {},
       "output_type": "display_data",
       "text": [
        "<IPython.core.display.Javascript at 0x16b46a90>"
       ]
      },
      {
       "javascript": [
        "$('div#3885baeb-0d9a-4dc7-84f4-343983f23205').text('Time: 0:00:00');"
       ],
       "metadata": {},
       "output_type": "display_data",
       "text": [
        "<IPython.core.display.Javascript at 0x16b46908>"
       ]
      },
      {
       "javascript": [
        "var element = document.getElementById('926a7095-2114-4bff-be69-6aae2ccf54c9');\n",
        "                    var parent = element.parentNode\n",
        "                    parent.removeChild(element);\n",
        "                    parent.parentElement.remove();"
       ],
       "metadata": {},
       "output_type": "display_data",
       "text": [
        "<IPython.core.display.Javascript at 0x1b33d9e8>"
       ]
      },
      {
       "javascript": [
        "this.cleanProgressBar(['926a7095-2114-4bff-be69-6aae2ccf54c9', '518600a8-7e13-4882-b25c-a2f49ca14836', '882c7c13-5153-4aff-8dfc-1981e7ca3b34', '35139024-0c79-4d24-9e11-10ae8e286083', '3885baeb-0d9a-4dc7-84f4-343983f23205'])"
       ],
       "metadata": {},
       "output_type": "display_data",
       "text": [
        "<IPython.core.display.Javascript at 0x18cd1eb8>"
       ]
      },
      {
       "javascript": [
        "//0df12213-e960-42d1-a8a8-a80b72657395\n",
        "$(\"head\").append(\"<style> td.pb_widget {     width: auto; } td.pb_widget_fill {     width: 100%; } table.pb {     font-family: monospace;     border: 0;     margin: 0; } table.pb tr { border: 0; } table.pb td {     white-space: nowrap;     border: 0; } div.pb {     border: 1px solid #ddd;     border-radius: 3px; } div.pb_bar {     height: 1.5em; } </style>\")"
       ],
       "metadata": {},
       "output_type": "display_data",
       "text": [
        "<IPython.core.display.Javascript at 0x1beaefd0>"
       ]
      },
      {
       "javascript": [
        "\n",
        "                  // 0df12213-e960-42d1-a8a8-a80b72657395 -- used to remove this code blob in the end\n",
        "                  IPython.OutputArea.prototype.cleanProgressBar = function(uuids) {\n",
        "                      // filter by uuid-strings \n",
        "                      var myfilter = function(output) { \n",
        "                          var nuids = uuids.length;\n",
        "                          for (var i=0; i<nuids; i++) {\n",
        "                              if (output.hasOwnProperty('html')) {\n",
        "                                  if (output.html.indexOf(uuids[i]) != -1) {\n",
        "                                      return false;\n",
        "                                  }\n",
        "                              }\n",
        "                              if (output.hasOwnProperty('javascript')) {\n",
        "                                  if (output.javascript.indexOf(uuids[i]) != -1) {\n",
        "                                      return false;\n",
        "                                  }\n",
        "                              }\n",
        "                          }\n",
        "                          // keep all others\n",
        "                          return true;\n",
        "                      };\n",
        "\n",
        "                      // Filter the ouputs\n",
        "                      this.outputs = this.outputs.filter(myfilter);\n",
        "                };\n",
        "                "
       ],
       "metadata": {},
       "output_type": "display_data",
       "text": [
        "<IPython.core.display.Javascript at 0x1beaecc0>"
       ]
      },
      {
       "html": [
        "<div class=\"pb\" id=\"0df12213-e960-42d1-a8a8-a80b72657395\"><table class=\"pb ui-widget\"><tr>\n",
        "<td class=\"pb_widget\">Chunking </td>\n",
        "<td class=\"pb_widget\"><div id=\"9088ba8a-fbad-4861-82f9-ee122bd51a61\">0 of 1000</div></td>\n",
        "<td class=\"pb_widget\"><div id=\"9bb72750-2495-4adc-a00a-44b54d4e56a4\">  0%</div></td>\n",
        "<td class=\"pb_widget_fill\">\n",
        "        <div class=\"pb_bar\" id=\"e0eda126-035c-4451-86b1-b19144d66ee3\"></div>\n",
        "        <script type=\"text/javascript\">\n",
        "            $(\"div#e0eda126-035c-4451-86b1-b19144d66ee3\").progressbar({value: 0, max: 1000});\n",
        "        </script>\n",
        "        </td>\n",
        "<td class=\"pb_widget\"><div id=\"78e39181-13e1-48f9-9621-f444cd250e38\">ETA:  --:--:--</div></td>\n",
        "</tr></table><div>"
       ],
       "metadata": {},
       "output_type": "display_data",
       "text": [
        "<IPython.core.display.HTML at 0x18cd1eb8>"
       ]
      },
      {
       "javascript": [
        "$('div#9088ba8a-fbad-4861-82f9-ee122bd51a61').text('10 of 1000');"
       ],
       "metadata": {},
       "output_type": "display_data",
       "text": [
        "<IPython.core.display.Javascript at 0x1beaecc0>"
       ]
      },
      {
       "javascript": [
        "$('div#9bb72750-2495-4adc-a00a-44b54d4e56a4').text('  1%');"
       ],
       "metadata": {},
       "output_type": "display_data",
       "text": [
        "<IPython.core.display.Javascript at 0x1beae780>"
       ]
      },
      {
       "javascript": [
        "\n",
        "        var $myPB = $(\"div#e0eda126-035c-4451-86b1-b19144d66ee3\")\n",
        "        if ($myPB.hasClass('ui-progressbar')) {\n",
        "            $myPB.progressbar('value', 10);\n",
        "        } else {\n",
        "            $myPB.progressbar({value: 0, max: 1000});\n",
        "        }\n",
        "        "
       ],
       "metadata": {},
       "output_type": "display_data",
       "text": [
        "<IPython.core.display.Javascript at 0x1beae438>"
       ]
      },
      {
       "javascript": [
        "$('div#78e39181-13e1-48f9-9621-f444cd250e38').text('ETA:  0:00:00');"
       ],
       "metadata": {},
       "output_type": "display_data",
       "text": [
        "<IPython.core.display.Javascript at 0x18cd1eb8>"
       ]
      },
      {
       "javascript": [
        "$('div#9088ba8a-fbad-4861-82f9-ee122bd51a61').text('20 of 1000');"
       ],
       "metadata": {},
       "output_type": "display_data",
       "text": [
        "<IPython.core.display.Javascript at 0x1beae438>"
       ]
      },
      {
       "javascript": [
        "$('div#9bb72750-2495-4adc-a00a-44b54d4e56a4').text('  2%');"
       ],
       "metadata": {},
       "output_type": "display_data",
       "text": [
        "<IPython.core.display.Javascript at 0x1beae630>"
       ]
      },
      {
       "javascript": [
        "\n",
        "        var $myPB = $(\"div#e0eda126-035c-4451-86b1-b19144d66ee3\")\n",
        "        if ($myPB.hasClass('ui-progressbar')) {\n",
        "            $myPB.progressbar('value', 20);\n",
        "        } else {\n",
        "            $myPB.progressbar({value: 0, max: 1000});\n",
        "        }\n",
        "        "
       ],
       "metadata": {},
       "output_type": "display_data",
       "text": [
        "<IPython.core.display.Javascript at 0x1beae780>"
       ]
      },
      {
       "javascript": [
        "$('div#78e39181-13e1-48f9-9621-f444cd250e38').text('ETA:  0:00:00');"
       ],
       "metadata": {},
       "output_type": "display_data",
       "text": [
        "<IPython.core.display.Javascript at 0x18cd1eb8>"
       ]
      },
      {
       "javascript": [
        "$('div#9088ba8a-fbad-4861-82f9-ee122bd51a61').text('30 of 1000');"
       ],
       "metadata": {},
       "output_type": "display_data",
       "text": [
        "<IPython.core.display.Javascript at 0x1beae780>"
       ]
      },
      {
       "javascript": [
        "$('div#9bb72750-2495-4adc-a00a-44b54d4e56a4').text('  3%');"
       ],
       "metadata": {},
       "output_type": "display_data",
       "text": [
        "<IPython.core.display.Javascript at 0x1beae160>"
       ]
      },
      {
       "javascript": [
        "\n",
        "        var $myPB = $(\"div#e0eda126-035c-4451-86b1-b19144d66ee3\")\n",
        "        if ($myPB.hasClass('ui-progressbar')) {\n",
        "            $myPB.progressbar('value', 30);\n",
        "        } else {\n",
        "            $myPB.progressbar({value: 0, max: 1000});\n",
        "        }\n",
        "        "
       ],
       "metadata": {},
       "output_type": "display_data",
       "text": [
        "<IPython.core.display.Javascript at 0x1beaefd0>"
       ]
      },
      {
       "javascript": [
        "$('div#78e39181-13e1-48f9-9621-f444cd250e38').text('ETA:  0:00:00');"
       ],
       "metadata": {},
       "output_type": "display_data",
       "text": [
        "<IPython.core.display.Javascript at 0x18cd1eb8>"
       ]
      },
      {
       "javascript": [
        "$('div#9088ba8a-fbad-4861-82f9-ee122bd51a61').text('40 of 1000');"
       ],
       "metadata": {},
       "output_type": "display_data",
       "text": [
        "<IPython.core.display.Javascript at 0x1beaefd0>"
       ]
      },
      {
       "javascript": [
        "$('div#9bb72750-2495-4adc-a00a-44b54d4e56a4').text('  4%');"
       ],
       "metadata": {},
       "output_type": "display_data",
       "text": [
        "<IPython.core.display.Javascript at 0x1beae7f0>"
       ]
      },
      {
       "javascript": [
        "\n",
        "        var $myPB = $(\"div#e0eda126-035c-4451-86b1-b19144d66ee3\")\n",
        "        if ($myPB.hasClass('ui-progressbar')) {\n",
        "            $myPB.progressbar('value', 40);\n",
        "        } else {\n",
        "            $myPB.progressbar({value: 0, max: 1000});\n",
        "        }\n",
        "        "
       ],
       "metadata": {},
       "output_type": "display_data",
       "text": [
        "<IPython.core.display.Javascript at 0x1beae438>"
       ]
      },
      {
       "javascript": [
        "$('div#78e39181-13e1-48f9-9621-f444cd250e38').text('ETA:  0:00:00');"
       ],
       "metadata": {},
       "output_type": "display_data",
       "text": [
        "<IPython.core.display.Javascript at 0x18cd1eb8>"
       ]
      },
      {
       "javascript": [
        "$('div#9088ba8a-fbad-4861-82f9-ee122bd51a61').text('50 of 1000');"
       ],
       "metadata": {},
       "output_type": "display_data",
       "text": [
        "<IPython.core.display.Javascript at 0x1beae438>"
       ]
      },
      {
       "javascript": [
        "$('div#9bb72750-2495-4adc-a00a-44b54d4e56a4').text('  5%');"
       ],
       "metadata": {},
       "output_type": "display_data",
       "text": [
        "<IPython.core.display.Javascript at 0x1beaecc0>"
       ]
      },
      {
       "javascript": [
        "\n",
        "        var $myPB = $(\"div#e0eda126-035c-4451-86b1-b19144d66ee3\")\n",
        "        if ($myPB.hasClass('ui-progressbar')) {\n",
        "            $myPB.progressbar('value', 50);\n",
        "        } else {\n",
        "            $myPB.progressbar({value: 0, max: 1000});\n",
        "        }\n",
        "        "
       ],
       "metadata": {},
       "output_type": "display_data",
       "text": [
        "<IPython.core.display.Javascript at 0x1beae7f0>"
       ]
      },
      {
       "javascript": [
        "$('div#78e39181-13e1-48f9-9621-f444cd250e38').text('ETA:  0:00:00');"
       ],
       "metadata": {},
       "output_type": "display_data",
       "text": [
        "<IPython.core.display.Javascript at 0x18cd1eb8>"
       ]
      },
      {
       "javascript": [
        "$('div#9088ba8a-fbad-4861-82f9-ee122bd51a61').text('60 of 1000');"
       ],
       "metadata": {},
       "output_type": "display_data",
       "text": [
        "<IPython.core.display.Javascript at 0x1beae7f0>"
       ]
      },
      {
       "javascript": [
        "$('div#9bb72750-2495-4adc-a00a-44b54d4e56a4').text('  6%');"
       ],
       "metadata": {},
       "output_type": "display_data",
       "text": [
        "<IPython.core.display.Javascript at 0x1beae630>"
       ]
      },
      {
       "javascript": [
        "\n",
        "        var $myPB = $(\"div#e0eda126-035c-4451-86b1-b19144d66ee3\")\n",
        "        if ($myPB.hasClass('ui-progressbar')) {\n",
        "            $myPB.progressbar('value', 60);\n",
        "        } else {\n",
        "            $myPB.progressbar({value: 0, max: 1000});\n",
        "        }\n",
        "        "
       ],
       "metadata": {},
       "output_type": "display_data",
       "text": [
        "<IPython.core.display.Javascript at 0x1beae780>"
       ]
      },
      {
       "javascript": [
        "$('div#78e39181-13e1-48f9-9621-f444cd250e38').text('ETA:  0:00:00');"
       ],
       "metadata": {},
       "output_type": "display_data",
       "text": [
        "<IPython.core.display.Javascript at 0x18cd1eb8>"
       ]
      },
      {
       "javascript": [
        "$('div#9088ba8a-fbad-4861-82f9-ee122bd51a61').text('70 of 1000');"
       ],
       "metadata": {},
       "output_type": "display_data",
       "text": [
        "<IPython.core.display.Javascript at 0x1beae780>"
       ]
      },
      {
       "javascript": [
        "$('div#9bb72750-2495-4adc-a00a-44b54d4e56a4').text('  7%');"
       ],
       "metadata": {},
       "output_type": "display_data",
       "text": [
        "<IPython.core.display.Javascript at 0x1beae160>"
       ]
      },
      {
       "javascript": [
        "\n",
        "        var $myPB = $(\"div#e0eda126-035c-4451-86b1-b19144d66ee3\")\n",
        "        if ($myPB.hasClass('ui-progressbar')) {\n",
        "            $myPB.progressbar('value', 70);\n",
        "        } else {\n",
        "            $myPB.progressbar({value: 0, max: 1000});\n",
        "        }\n",
        "        "
       ],
       "metadata": {},
       "output_type": "display_data",
       "text": [
        "<IPython.core.display.Javascript at 0x1beae438>"
       ]
      },
      {
       "javascript": [
        "$('div#78e39181-13e1-48f9-9621-f444cd250e38').text('ETA:  0:00:00');"
       ],
       "metadata": {},
       "output_type": "display_data",
       "text": [
        "<IPython.core.display.Javascript at 0x18cd1eb8>"
       ]
      },
      {
       "javascript": [
        "$('div#9088ba8a-fbad-4861-82f9-ee122bd51a61').text('80 of 1000');"
       ],
       "metadata": {},
       "output_type": "display_data",
       "text": [
        "<IPython.core.display.Javascript at 0x1beae438>"
       ]
      },
      {
       "javascript": [
        "$('div#9bb72750-2495-4adc-a00a-44b54d4e56a4').text('  8%');"
       ],
       "metadata": {},
       "output_type": "display_data",
       "text": [
        "<IPython.core.display.Javascript at 0x1beaefd0>"
       ]
      },
      {
       "javascript": [
        "\n",
        "        var $myPB = $(\"div#e0eda126-035c-4451-86b1-b19144d66ee3\")\n",
        "        if ($myPB.hasClass('ui-progressbar')) {\n",
        "            $myPB.progressbar('value', 80);\n",
        "        } else {\n",
        "            $myPB.progressbar({value: 0, max: 1000});\n",
        "        }\n",
        "        "
       ],
       "metadata": {},
       "output_type": "display_data",
       "text": [
        "<IPython.core.display.Javascript at 0x1beae160>"
       ]
      },
      {
       "javascript": [
        "$('div#78e39181-13e1-48f9-9621-f444cd250e38').text('ETA:  0:00:00');"
       ],
       "metadata": {},
       "output_type": "display_data",
       "text": [
        "<IPython.core.display.Javascript at 0x18cd1eb8>"
       ]
      },
      {
       "javascript": [
        "$('div#9088ba8a-fbad-4861-82f9-ee122bd51a61').text('90 of 1000');"
       ],
       "metadata": {},
       "output_type": "display_data",
       "text": [
        "<IPython.core.display.Javascript at 0x1beae160>"
       ]
      },
      {
       "javascript": [
        "$('div#9bb72750-2495-4adc-a00a-44b54d4e56a4').text('  9%');"
       ],
       "metadata": {},
       "output_type": "display_data",
       "text": [
        "<IPython.core.display.Javascript at 0x1beaecc0>"
       ]
      },
      {
       "javascript": [
        "\n",
        "        var $myPB = $(\"div#e0eda126-035c-4451-86b1-b19144d66ee3\")\n",
        "        if ($myPB.hasClass('ui-progressbar')) {\n",
        "            $myPB.progressbar('value', 90);\n",
        "        } else {\n",
        "            $myPB.progressbar({value: 0, max: 1000});\n",
        "        }\n",
        "        "
       ],
       "metadata": {},
       "output_type": "display_data",
       "text": [
        "<IPython.core.display.Javascript at 0x1beae780>"
       ]
      },
      {
       "javascript": [
        "$('div#78e39181-13e1-48f9-9621-f444cd250e38').text('ETA:  0:00:00');"
       ],
       "metadata": {},
       "output_type": "display_data",
       "text": [
        "<IPython.core.display.Javascript at 0x18cd1eb8>"
       ]
      },
      {
       "javascript": [
        "$('div#9088ba8a-fbad-4861-82f9-ee122bd51a61').text('100 of 1000');"
       ],
       "metadata": {},
       "output_type": "display_data",
       "text": [
        "<IPython.core.display.Javascript at 0x1beae780>"
       ]
      },
      {
       "javascript": [
        "$('div#9bb72750-2495-4adc-a00a-44b54d4e56a4').text(' 10%');"
       ],
       "metadata": {},
       "output_type": "display_data",
       "text": [
        "<IPython.core.display.Javascript at 0x1beaee10>"
       ]
      },
      {
       "javascript": [
        "\n",
        "        var $myPB = $(\"div#e0eda126-035c-4451-86b1-b19144d66ee3\")\n",
        "        if ($myPB.hasClass('ui-progressbar')) {\n",
        "            $myPB.progressbar('value', 100);\n",
        "        } else {\n",
        "            $myPB.progressbar({value: 0, max: 1000});\n",
        "        }\n",
        "        "
       ],
       "metadata": {},
       "output_type": "display_data",
       "text": [
        "<IPython.core.display.Javascript at 0x1beaecc0>"
       ]
      },
      {
       "javascript": [
        "$('div#78e39181-13e1-48f9-9621-f444cd250e38').text('ETA:  0:00:00');"
       ],
       "metadata": {},
       "output_type": "display_data",
       "text": [
        "<IPython.core.display.Javascript at 0x18cd1eb8>"
       ]
      },
      {
       "javascript": [
        "$('div#9088ba8a-fbad-4861-82f9-ee122bd51a61').text('110 of 1000');"
       ],
       "metadata": {},
       "output_type": "display_data",
       "text": [
        "<IPython.core.display.Javascript at 0x1beaecc0>"
       ]
      },
      {
       "javascript": [
        "$('div#9bb72750-2495-4adc-a00a-44b54d4e56a4').text(' 11%');"
       ],
       "metadata": {},
       "output_type": "display_data",
       "text": [
        "<IPython.core.display.Javascript at 0x1beae630>"
       ]
      },
      {
       "javascript": [
        "\n",
        "        var $myPB = $(\"div#e0eda126-035c-4451-86b1-b19144d66ee3\")\n",
        "        if ($myPB.hasClass('ui-progressbar')) {\n",
        "            $myPB.progressbar('value', 110);\n",
        "        } else {\n",
        "            $myPB.progressbar({value: 0, max: 1000});\n",
        "        }\n",
        "        "
       ],
       "metadata": {},
       "output_type": "display_data",
       "text": [
        "<IPython.core.display.Javascript at 0x1beae438>"
       ]
      },
      {
       "javascript": [
        "$('div#78e39181-13e1-48f9-9621-f444cd250e38').text('ETA:  0:00:00');"
       ],
       "metadata": {},
       "output_type": "display_data",
       "text": [
        "<IPython.core.display.Javascript at 0x18cd1eb8>"
       ]
      },
      {
       "javascript": [
        "$('div#9088ba8a-fbad-4861-82f9-ee122bd51a61').text('120 of 1000');"
       ],
       "metadata": {},
       "output_type": "display_data",
       "text": [
        "<IPython.core.display.Javascript at 0x1beae438>"
       ]
      },
      {
       "javascript": [
        "$('div#9bb72750-2495-4adc-a00a-44b54d4e56a4').text(' 12%');"
       ],
       "metadata": {},
       "output_type": "display_data",
       "text": [
        "<IPython.core.display.Javascript at 0x1beae7f0>"
       ]
      },
      {
       "javascript": [
        "\n",
        "        var $myPB = $(\"div#e0eda126-035c-4451-86b1-b19144d66ee3\")\n",
        "        if ($myPB.hasClass('ui-progressbar')) {\n",
        "            $myPB.progressbar('value', 120);\n",
        "        } else {\n",
        "            $myPB.progressbar({value: 0, max: 1000});\n",
        "        }\n",
        "        "
       ],
       "metadata": {},
       "output_type": "display_data",
       "text": [
        "<IPython.core.display.Javascript at 0x18cd1eb8>"
       ]
      },
      {
       "javascript": [
        "$('div#78e39181-13e1-48f9-9621-f444cd250e38').text('ETA:  0:00:00');"
       ],
       "metadata": {},
       "output_type": "display_data",
       "text": [
        "<IPython.core.display.Javascript at 0x1beae7f0>"
       ]
      },
      {
       "javascript": [
        "$('div#9088ba8a-fbad-4861-82f9-ee122bd51a61').text('130 of 1000');"
       ],
       "metadata": {},
       "output_type": "display_data",
       "text": [
        "<IPython.core.display.Javascript at 0x1beae160>"
       ]
      },
      {
       "javascript": [
        "$('div#9bb72750-2495-4adc-a00a-44b54d4e56a4').text(' 13%');"
       ],
       "metadata": {},
       "output_type": "display_data",
       "text": [
        "<IPython.core.display.Javascript at 0x1beae780>"
       ]
      },
      {
       "javascript": [
        "\n",
        "        var $myPB = $(\"div#e0eda126-035c-4451-86b1-b19144d66ee3\")\n",
        "        if ($myPB.hasClass('ui-progressbar')) {\n",
        "            $myPB.progressbar('value', 130);\n",
        "        } else {\n",
        "            $myPB.progressbar({value: 0, max: 1000});\n",
        "        }\n",
        "        "
       ],
       "metadata": {},
       "output_type": "display_data",
       "text": [
        "<IPython.core.display.Javascript at 0x18cd1eb8>"
       ]
      },
      {
       "javascript": [
        "$('div#78e39181-13e1-48f9-9621-f444cd250e38').text('ETA:  0:00:00');"
       ],
       "metadata": {},
       "output_type": "display_data",
       "text": [
        "<IPython.core.display.Javascript at 0x1beae780>"
       ]
      },
      {
       "javascript": [
        "$('div#9088ba8a-fbad-4861-82f9-ee122bd51a61').text('140 of 1000');"
       ],
       "metadata": {},
       "output_type": "display_data",
       "text": [
        "<IPython.core.display.Javascript at 0x1beaee10>"
       ]
      },
      {
       "javascript": [
        "$('div#9bb72750-2495-4adc-a00a-44b54d4e56a4').text(' 14%');"
       ],
       "metadata": {},
       "output_type": "display_data",
       "text": [
        "<IPython.core.display.Javascript at 0x1beaeb38>"
       ]
      },
      {
       "javascript": [
        "\n",
        "        var $myPB = $(\"div#e0eda126-035c-4451-86b1-b19144d66ee3\")\n",
        "        if ($myPB.hasClass('ui-progressbar')) {\n",
        "            $myPB.progressbar('value', 140);\n",
        "        } else {\n",
        "            $myPB.progressbar({value: 0, max: 1000});\n",
        "        }\n",
        "        "
       ],
       "metadata": {},
       "output_type": "display_data",
       "text": [
        "<IPython.core.display.Javascript at 0x18cd1eb8>"
       ]
      },
      {
       "javascript": [
        "$('div#78e39181-13e1-48f9-9621-f444cd250e38').text('ETA:  0:00:00');"
       ],
       "metadata": {},
       "output_type": "display_data",
       "text": [
        "<IPython.core.display.Javascript at 0x1beaeb38>"
       ]
      },
      {
       "javascript": [
        "$('div#9088ba8a-fbad-4861-82f9-ee122bd51a61').text('150 of 1000');"
       ],
       "metadata": {},
       "output_type": "display_data",
       "text": [
        "<IPython.core.display.Javascript at 0x1beae7f0>"
       ]
      },
      {
       "javascript": [
        "$('div#9bb72750-2495-4adc-a00a-44b54d4e56a4').text(' 15%');"
       ],
       "metadata": {},
       "output_type": "display_data",
       "text": [
        "<IPython.core.display.Javascript at 0x1beae198>"
       ]
      },
      {
       "javascript": [
        "\n",
        "        var $myPB = $(\"div#e0eda126-035c-4451-86b1-b19144d66ee3\")\n",
        "        if ($myPB.hasClass('ui-progressbar')) {\n",
        "            $myPB.progressbar('value', 150);\n",
        "        } else {\n",
        "            $myPB.progressbar({value: 0, max: 1000});\n",
        "        }\n",
        "        "
       ],
       "metadata": {},
       "output_type": "display_data",
       "text": [
        "<IPython.core.display.Javascript at 0x18cd1eb8>"
       ]
      },
      {
       "javascript": [
        "$('div#78e39181-13e1-48f9-9621-f444cd250e38').text('ETA:  0:00:00');"
       ],
       "metadata": {},
       "output_type": "display_data",
       "text": [
        "<IPython.core.display.Javascript at 0x1beae198>"
       ]
      },
      {
       "javascript": [
        "$('div#9088ba8a-fbad-4861-82f9-ee122bd51a61').text('160 of 1000');"
       ],
       "metadata": {},
       "output_type": "display_data",
       "text": [
        "<IPython.core.display.Javascript at 0x1beae438>"
       ]
      },
      {
       "javascript": [
        "$('div#9bb72750-2495-4adc-a00a-44b54d4e56a4').text(' 16%');"
       ],
       "metadata": {},
       "output_type": "display_data",
       "text": [
        "<IPython.core.display.Javascript at 0x1beae780>"
       ]
      },
      {
       "javascript": [
        "\n",
        "        var $myPB = $(\"div#e0eda126-035c-4451-86b1-b19144d66ee3\")\n",
        "        if ($myPB.hasClass('ui-progressbar')) {\n",
        "            $myPB.progressbar('value', 160);\n",
        "        } else {\n",
        "            $myPB.progressbar({value: 0, max: 1000});\n",
        "        }\n",
        "        "
       ],
       "metadata": {},
       "output_type": "display_data",
       "text": [
        "<IPython.core.display.Javascript at 0x18cd1eb8>"
       ]
      },
      {
       "javascript": [
        "$('div#78e39181-13e1-48f9-9621-f444cd250e38').text('ETA:  0:00:00');"
       ],
       "metadata": {},
       "output_type": "display_data",
       "text": [
        "<IPython.core.display.Javascript at 0x1beae780>"
       ]
      },
      {
       "javascript": [
        "$('div#9088ba8a-fbad-4861-82f9-ee122bd51a61').text('170 of 1000');"
       ],
       "metadata": {},
       "output_type": "display_data",
       "text": [
        "<IPython.core.display.Javascript at 0x1beae160>"
       ]
      },
      {
       "javascript": [
        "$('div#9bb72750-2495-4adc-a00a-44b54d4e56a4').text(' 17%');"
       ],
       "metadata": {},
       "output_type": "display_data",
       "text": [
        "<IPython.core.display.Javascript at 0x1beaeb38>"
       ]
      },
      {
       "javascript": [
        "\n",
        "        var $myPB = $(\"div#e0eda126-035c-4451-86b1-b19144d66ee3\")\n",
        "        if ($myPB.hasClass('ui-progressbar')) {\n",
        "            $myPB.progressbar('value', 170);\n",
        "        } else {\n",
        "            $myPB.progressbar({value: 0, max: 1000});\n",
        "        }\n",
        "        "
       ],
       "metadata": {},
       "output_type": "display_data",
       "text": [
        "<IPython.core.display.Javascript at 0x18cd1eb8>"
       ]
      },
      {
       "javascript": [
        "$('div#78e39181-13e1-48f9-9621-f444cd250e38').text('ETA:  0:00:00');"
       ],
       "metadata": {},
       "output_type": "display_data",
       "text": [
        "<IPython.core.display.Javascript at 0x1beaeb38>"
       ]
      },
      {
       "javascript": [
        "$('div#9088ba8a-fbad-4861-82f9-ee122bd51a61').text('180 of 1000');"
       ],
       "metadata": {},
       "output_type": "display_data",
       "text": [
        "<IPython.core.display.Javascript at 0x1beaee10>"
       ]
      },
      {
       "javascript": [
        "$('div#9bb72750-2495-4adc-a00a-44b54d4e56a4').text(' 18%');"
       ],
       "metadata": {},
       "output_type": "display_data",
       "text": [
        "<IPython.core.display.Javascript at 0x1beae198>"
       ]
      },
      {
       "javascript": [
        "\n",
        "        var $myPB = $(\"div#e0eda126-035c-4451-86b1-b19144d66ee3\")\n",
        "        if ($myPB.hasClass('ui-progressbar')) {\n",
        "            $myPB.progressbar('value', 180);\n",
        "        } else {\n",
        "            $myPB.progressbar({value: 0, max: 1000});\n",
        "        }\n",
        "        "
       ],
       "metadata": {},
       "output_type": "display_data",
       "text": [
        "<IPython.core.display.Javascript at 0x18cd1eb8>"
       ]
      },
      {
       "javascript": [
        "$('div#78e39181-13e1-48f9-9621-f444cd250e38').text('ETA:  0:00:00');"
       ],
       "metadata": {},
       "output_type": "display_data",
       "text": [
        "<IPython.core.display.Javascript at 0x1beae198>"
       ]
      },
      {
       "javascript": [
        "$('div#9088ba8a-fbad-4861-82f9-ee122bd51a61').text('190 of 1000');"
       ],
       "metadata": {},
       "output_type": "display_data",
       "text": [
        "<IPython.core.display.Javascript at 0x1beae7f0>"
       ]
      },
      {
       "javascript": [
        "$('div#9bb72750-2495-4adc-a00a-44b54d4e56a4').text(' 19%');"
       ],
       "metadata": {},
       "output_type": "display_data",
       "text": [
        "<IPython.core.display.Javascript at 0x1beae780>"
       ]
      },
      {
       "javascript": [
        "\n",
        "        var $myPB = $(\"div#e0eda126-035c-4451-86b1-b19144d66ee3\")\n",
        "        if ($myPB.hasClass('ui-progressbar')) {\n",
        "            $myPB.progressbar('value', 190);\n",
        "        } else {\n",
        "            $myPB.progressbar({value: 0, max: 1000});\n",
        "        }\n",
        "        "
       ],
       "metadata": {},
       "output_type": "display_data",
       "text": [
        "<IPython.core.display.Javascript at 0x18cd1eb8>"
       ]
      },
      {
       "javascript": [
        "$('div#78e39181-13e1-48f9-9621-f444cd250e38').text('ETA:  0:00:00');"
       ],
       "metadata": {},
       "output_type": "display_data",
       "text": [
        "<IPython.core.display.Javascript at 0x1beae780>"
       ]
      },
      {
       "javascript": [
        "$('div#9088ba8a-fbad-4861-82f9-ee122bd51a61').text('200 of 1000');"
       ],
       "metadata": {},
       "output_type": "display_data",
       "text": [
        "<IPython.core.display.Javascript at 0x1beae438>"
       ]
      },
      {
       "javascript": [
        "$('div#9bb72750-2495-4adc-a00a-44b54d4e56a4').text(' 20%');"
       ],
       "metadata": {},
       "output_type": "display_data",
       "text": [
        "<IPython.core.display.Javascript at 0x1beaeb38>"
       ]
      },
      {
       "javascript": [
        "\n",
        "        var $myPB = $(\"div#e0eda126-035c-4451-86b1-b19144d66ee3\")\n",
        "        if ($myPB.hasClass('ui-progressbar')) {\n",
        "            $myPB.progressbar('value', 200);\n",
        "        } else {\n",
        "            $myPB.progressbar({value: 0, max: 1000});\n",
        "        }\n",
        "        "
       ],
       "metadata": {},
       "output_type": "display_data",
       "text": [
        "<IPython.core.display.Javascript at 0x18cd1eb8>"
       ]
      },
      {
       "javascript": [
        "$('div#78e39181-13e1-48f9-9621-f444cd250e38').text('ETA:  0:00:00');"
       ],
       "metadata": {},
       "output_type": "display_data",
       "text": [
        "<IPython.core.display.Javascript at 0x1beaeb38>"
       ]
      },
      {
       "javascript": [
        "$('div#9088ba8a-fbad-4861-82f9-ee122bd51a61').text('210 of 1000');"
       ],
       "metadata": {},
       "output_type": "display_data",
       "text": [
        "<IPython.core.display.Javascript at 0x1beae160>"
       ]
      },
      {
       "javascript": [
        "$('div#9bb72750-2495-4adc-a00a-44b54d4e56a4').text(' 21%');"
       ],
       "metadata": {},
       "output_type": "display_data",
       "text": [
        "<IPython.core.display.Javascript at 0x1beae198>"
       ]
      },
      {
       "javascript": [
        "\n",
        "        var $myPB = $(\"div#e0eda126-035c-4451-86b1-b19144d66ee3\")\n",
        "        if ($myPB.hasClass('ui-progressbar')) {\n",
        "            $myPB.progressbar('value', 210);\n",
        "        } else {\n",
        "            $myPB.progressbar({value: 0, max: 1000});\n",
        "        }\n",
        "        "
       ],
       "metadata": {},
       "output_type": "display_data",
       "text": [
        "<IPython.core.display.Javascript at 0x18cd1eb8>"
       ]
      },
      {
       "javascript": [
        "$('div#78e39181-13e1-48f9-9621-f444cd250e38').text('ETA:  0:00:00');"
       ],
       "metadata": {},
       "output_type": "display_data",
       "text": [
        "<IPython.core.display.Javascript at 0x1beae198>"
       ]
      },
      {
       "javascript": [
        "$('div#9088ba8a-fbad-4861-82f9-ee122bd51a61').text('220 of 1000');"
       ],
       "metadata": {},
       "output_type": "display_data",
       "text": [
        "<IPython.core.display.Javascript at 0x1beae438>"
       ]
      },
      {
       "javascript": [
        "$('div#9bb72750-2495-4adc-a00a-44b54d4e56a4').text(' 22%');"
       ],
       "metadata": {},
       "output_type": "display_data",
       "text": [
        "<IPython.core.display.Javascript at 0x1beae780>"
       ]
      },
      {
       "javascript": [
        "\n",
        "        var $myPB = $(\"div#e0eda126-035c-4451-86b1-b19144d66ee3\")\n",
        "        if ($myPB.hasClass('ui-progressbar')) {\n",
        "            $myPB.progressbar('value', 220);\n",
        "        } else {\n",
        "            $myPB.progressbar({value: 0, max: 1000});\n",
        "        }\n",
        "        "
       ],
       "metadata": {},
       "output_type": "display_data",
       "text": [
        "<IPython.core.display.Javascript at 0x18cd1eb8>"
       ]
      },
      {
       "javascript": [
        "$('div#78e39181-13e1-48f9-9621-f444cd250e38').text('ETA:  0:00:00');"
       ],
       "metadata": {},
       "output_type": "display_data",
       "text": [
        "<IPython.core.display.Javascript at 0x1beae780>"
       ]
      },
      {
       "javascript": [
        "$('div#9088ba8a-fbad-4861-82f9-ee122bd51a61').text('230 of 1000');"
       ],
       "metadata": {},
       "output_type": "display_data",
       "text": [
        "<IPython.core.display.Javascript at 0x1beae7f0>"
       ]
      },
      {
       "javascript": [
        "$('div#9bb72750-2495-4adc-a00a-44b54d4e56a4').text(' 23%');"
       ],
       "metadata": {},
       "output_type": "display_data",
       "text": [
        "<IPython.core.display.Javascript at 0x1beaeb38>"
       ]
      },
      {
       "javascript": [
        "\n",
        "        var $myPB = $(\"div#e0eda126-035c-4451-86b1-b19144d66ee3\")\n",
        "        if ($myPB.hasClass('ui-progressbar')) {\n",
        "            $myPB.progressbar('value', 230);\n",
        "        } else {\n",
        "            $myPB.progressbar({value: 0, max: 1000});\n",
        "        }\n",
        "        "
       ],
       "metadata": {},
       "output_type": "display_data",
       "text": [
        "<IPython.core.display.Javascript at 0x18cd1eb8>"
       ]
      },
      {
       "javascript": [
        "$('div#78e39181-13e1-48f9-9621-f444cd250e38').text('ETA:  0:00:00');"
       ],
       "metadata": {},
       "output_type": "display_data",
       "text": [
        "<IPython.core.display.Javascript at 0x1beaeb38>"
       ]
      },
      {
       "javascript": [
        "$('div#9088ba8a-fbad-4861-82f9-ee122bd51a61').text('240 of 1000');"
       ],
       "metadata": {},
       "output_type": "display_data",
       "text": [
        "<IPython.core.display.Javascript at 0x1beaee10>"
       ]
      },
      {
       "javascript": [
        "$('div#9bb72750-2495-4adc-a00a-44b54d4e56a4').text(' 24%');"
       ],
       "metadata": {},
       "output_type": "display_data",
       "text": [
        "<IPython.core.display.Javascript at 0x1beae198>"
       ]
      },
      {
       "javascript": [
        "\n",
        "        var $myPB = $(\"div#e0eda126-035c-4451-86b1-b19144d66ee3\")\n",
        "        if ($myPB.hasClass('ui-progressbar')) {\n",
        "            $myPB.progressbar('value', 240);\n",
        "        } else {\n",
        "            $myPB.progressbar({value: 0, max: 1000});\n",
        "        }\n",
        "        "
       ],
       "metadata": {},
       "output_type": "display_data",
       "text": [
        "<IPython.core.display.Javascript at 0x18cd1eb8>"
       ]
      },
      {
       "javascript": [
        "$('div#78e39181-13e1-48f9-9621-f444cd250e38').text('ETA:  0:00:00');"
       ],
       "metadata": {},
       "output_type": "display_data",
       "text": [
        "<IPython.core.display.Javascript at 0x1beae198>"
       ]
      },
      {
       "javascript": [
        "$('div#9088ba8a-fbad-4861-82f9-ee122bd51a61').text('250 of 1000');"
       ],
       "metadata": {},
       "output_type": "display_data",
       "text": [
        "<IPython.core.display.Javascript at 0x1beae160>"
       ]
      },
      {
       "javascript": [
        "$('div#9bb72750-2495-4adc-a00a-44b54d4e56a4').text(' 25%');"
       ],
       "metadata": {},
       "output_type": "display_data",
       "text": [
        "<IPython.core.display.Javascript at 0x1beae780>"
       ]
      },
      {
       "javascript": [
        "\n",
        "        var $myPB = $(\"div#e0eda126-035c-4451-86b1-b19144d66ee3\")\n",
        "        if ($myPB.hasClass('ui-progressbar')) {\n",
        "            $myPB.progressbar('value', 250);\n",
        "        } else {\n",
        "            $myPB.progressbar({value: 0, max: 1000});\n",
        "        }\n",
        "        "
       ],
       "metadata": {},
       "output_type": "display_data",
       "text": [
        "<IPython.core.display.Javascript at 0x18cd1eb8>"
       ]
      },
      {
       "javascript": [
        "$('div#78e39181-13e1-48f9-9621-f444cd250e38').text('ETA:  0:00:00');"
       ],
       "metadata": {},
       "output_type": "display_data",
       "text": [
        "<IPython.core.display.Javascript at 0x1beae780>"
       ]
      },
      {
       "javascript": [
        "$('div#9088ba8a-fbad-4861-82f9-ee122bd51a61').text('260 of 1000');"
       ],
       "metadata": {},
       "output_type": "display_data",
       "text": [
        "<IPython.core.display.Javascript at 0x1beae438>"
       ]
      },
      {
       "javascript": [
        "$('div#9bb72750-2495-4adc-a00a-44b54d4e56a4').text(' 26%');"
       ],
       "metadata": {},
       "output_type": "display_data",
       "text": [
        "<IPython.core.display.Javascript at 0x1beaeb38>"
       ]
      },
      {
       "javascript": [
        "\n",
        "        var $myPB = $(\"div#e0eda126-035c-4451-86b1-b19144d66ee3\")\n",
        "        if ($myPB.hasClass('ui-progressbar')) {\n",
        "            $myPB.progressbar('value', 260);\n",
        "        } else {\n",
        "            $myPB.progressbar({value: 0, max: 1000});\n",
        "        }\n",
        "        "
       ],
       "metadata": {},
       "output_type": "display_data",
       "text": [
        "<IPython.core.display.Javascript at 0x18cd1eb8>"
       ]
      },
      {
       "javascript": [
        "$('div#78e39181-13e1-48f9-9621-f444cd250e38').text('ETA:  0:00:00');"
       ],
       "metadata": {},
       "output_type": "display_data",
       "text": [
        "<IPython.core.display.Javascript at 0x1beaeb38>"
       ]
      },
      {
       "javascript": [
        "$('div#9088ba8a-fbad-4861-82f9-ee122bd51a61').text('270 of 1000');"
       ],
       "metadata": {},
       "output_type": "display_data",
       "text": [
        "<IPython.core.display.Javascript at 0x1beae7f0>"
       ]
      },
      {
       "javascript": [
        "$('div#9bb72750-2495-4adc-a00a-44b54d4e56a4').text(' 27%');"
       ],
       "metadata": {},
       "output_type": "display_data",
       "text": [
        "<IPython.core.display.Javascript at 0x1beae198>"
       ]
      },
      {
       "javascript": [
        "\n",
        "        var $myPB = $(\"div#e0eda126-035c-4451-86b1-b19144d66ee3\")\n",
        "        if ($myPB.hasClass('ui-progressbar')) {\n",
        "            $myPB.progressbar('value', 270);\n",
        "        } else {\n",
        "            $myPB.progressbar({value: 0, max: 1000});\n",
        "        }\n",
        "        "
       ],
       "metadata": {},
       "output_type": "display_data",
       "text": [
        "<IPython.core.display.Javascript at 0x18cd1eb8>"
       ]
      },
      {
       "javascript": [
        "$('div#78e39181-13e1-48f9-9621-f444cd250e38').text('ETA:  0:00:00');"
       ],
       "metadata": {},
       "output_type": "display_data",
       "text": [
        "<IPython.core.display.Javascript at 0x1beae198>"
       ]
      },
      {
       "javascript": [
        "$('div#9088ba8a-fbad-4861-82f9-ee122bd51a61').text('280 of 1000');"
       ],
       "metadata": {},
       "output_type": "display_data",
       "text": [
        "<IPython.core.display.Javascript at 0x1beaee10>"
       ]
      },
      {
       "javascript": [
        "$('div#9bb72750-2495-4adc-a00a-44b54d4e56a4').text(' 28%');"
       ],
       "metadata": {},
       "output_type": "display_data",
       "text": [
        "<IPython.core.display.Javascript at 0x1beae780>"
       ]
      },
      {
       "javascript": [
        "\n",
        "        var $myPB = $(\"div#e0eda126-035c-4451-86b1-b19144d66ee3\")\n",
        "        if ($myPB.hasClass('ui-progressbar')) {\n",
        "            $myPB.progressbar('value', 280);\n",
        "        } else {\n",
        "            $myPB.progressbar({value: 0, max: 1000});\n",
        "        }\n",
        "        "
       ],
       "metadata": {},
       "output_type": "display_data",
       "text": [
        "<IPython.core.display.Javascript at 0x18cd1eb8>"
       ]
      },
      {
       "javascript": [
        "$('div#78e39181-13e1-48f9-9621-f444cd250e38').text('ETA:  0:00:00');"
       ],
       "metadata": {},
       "output_type": "display_data",
       "text": [
        "<IPython.core.display.Javascript at 0x1beae780>"
       ]
      },
      {
       "javascript": [
        "$('div#9088ba8a-fbad-4861-82f9-ee122bd51a61').text('290 of 1000');"
       ],
       "metadata": {},
       "output_type": "display_data",
       "text": [
        "<IPython.core.display.Javascript at 0x1beae160>"
       ]
      },
      {
       "javascript": [
        "$('div#9bb72750-2495-4adc-a00a-44b54d4e56a4').text(' 29%');"
       ],
       "metadata": {},
       "output_type": "display_data",
       "text": [
        "<IPython.core.display.Javascript at 0x1beaeb38>"
       ]
      },
      {
       "javascript": [
        "\n",
        "        var $myPB = $(\"div#e0eda126-035c-4451-86b1-b19144d66ee3\")\n",
        "        if ($myPB.hasClass('ui-progressbar')) {\n",
        "            $myPB.progressbar('value', 290);\n",
        "        } else {\n",
        "            $myPB.progressbar({value: 0, max: 1000});\n",
        "        }\n",
        "        "
       ],
       "metadata": {},
       "output_type": "display_data",
       "text": [
        "<IPython.core.display.Javascript at 0x18cd1eb8>"
       ]
      },
      {
       "javascript": [
        "$('div#78e39181-13e1-48f9-9621-f444cd250e38').text('ETA:  0:00:00');"
       ],
       "metadata": {},
       "output_type": "display_data",
       "text": [
        "<IPython.core.display.Javascript at 0x1beaeb38>"
       ]
      },
      {
       "javascript": [
        "$('div#9088ba8a-fbad-4861-82f9-ee122bd51a61').text('300 of 1000');"
       ],
       "metadata": {},
       "output_type": "display_data",
       "text": [
        "<IPython.core.display.Javascript at 0x1beae438>"
       ]
      },
      {
       "javascript": [
        "$('div#9bb72750-2495-4adc-a00a-44b54d4e56a4').text(' 30%');"
       ],
       "metadata": {},
       "output_type": "display_data",
       "text": [
        "<IPython.core.display.Javascript at 0x1beae198>"
       ]
      },
      {
       "javascript": [
        "\n",
        "        var $myPB = $(\"div#e0eda126-035c-4451-86b1-b19144d66ee3\")\n",
        "        if ($myPB.hasClass('ui-progressbar')) {\n",
        "            $myPB.progressbar('value', 300);\n",
        "        } else {\n",
        "            $myPB.progressbar({value: 0, max: 1000});\n",
        "        }\n",
        "        "
       ],
       "metadata": {},
       "output_type": "display_data",
       "text": [
        "<IPython.core.display.Javascript at 0x18cd1eb8>"
       ]
      },
      {
       "javascript": [
        "$('div#78e39181-13e1-48f9-9621-f444cd250e38').text('ETA:  0:00:00');"
       ],
       "metadata": {},
       "output_type": "display_data",
       "text": [
        "<IPython.core.display.Javascript at 0x1beae198>"
       ]
      },
      {
       "javascript": [
        "$('div#9088ba8a-fbad-4861-82f9-ee122bd51a61').text('310 of 1000');"
       ],
       "metadata": {},
       "output_type": "display_data",
       "text": [
        "<IPython.core.display.Javascript at 0x1beae7f0>"
       ]
      },
      {
       "javascript": [
        "$('div#9bb72750-2495-4adc-a00a-44b54d4e56a4').text(' 31%');"
       ],
       "metadata": {},
       "output_type": "display_data",
       "text": [
        "<IPython.core.display.Javascript at 0x1beae780>"
       ]
      },
      {
       "javascript": [
        "\n",
        "        var $myPB = $(\"div#e0eda126-035c-4451-86b1-b19144d66ee3\")\n",
        "        if ($myPB.hasClass('ui-progressbar')) {\n",
        "            $myPB.progressbar('value', 310);\n",
        "        } else {\n",
        "            $myPB.progressbar({value: 0, max: 1000});\n",
        "        }\n",
        "        "
       ],
       "metadata": {},
       "output_type": "display_data",
       "text": [
        "<IPython.core.display.Javascript at 0x18cd1eb8>"
       ]
      },
      {
       "javascript": [
        "$('div#78e39181-13e1-48f9-9621-f444cd250e38').text('ETA:  0:00:00');"
       ],
       "metadata": {},
       "output_type": "display_data",
       "text": [
        "<IPython.core.display.Javascript at 0x1beae780>"
       ]
      },
      {
       "javascript": [
        "$('div#9088ba8a-fbad-4861-82f9-ee122bd51a61').text('320 of 1000');"
       ],
       "metadata": {},
       "output_type": "display_data",
       "text": [
        "<IPython.core.display.Javascript at 0x1beaeb38>"
       ]
      },
      {
       "javascript": [
        "$('div#9bb72750-2495-4adc-a00a-44b54d4e56a4').text(' 32%');"
       ],
       "metadata": {},
       "output_type": "display_data",
       "text": [
        "<IPython.core.display.Javascript at 0x1beaee10>"
       ]
      },
      {
       "javascript": [
        "\n",
        "        var $myPB = $(\"div#e0eda126-035c-4451-86b1-b19144d66ee3\")\n",
        "        if ($myPB.hasClass('ui-progressbar')) {\n",
        "            $myPB.progressbar('value', 320);\n",
        "        } else {\n",
        "            $myPB.progressbar({value: 0, max: 1000});\n",
        "        }\n",
        "        "
       ],
       "metadata": {},
       "output_type": "display_data",
       "text": [
        "<IPython.core.display.Javascript at 0x18cd1eb8>"
       ]
      },
      {
       "javascript": [
        "$('div#78e39181-13e1-48f9-9621-f444cd250e38').text('ETA:  0:00:00');"
       ],
       "metadata": {},
       "output_type": "display_data",
       "text": [
        "<IPython.core.display.Javascript at 0x1beaee10>"
       ]
      },
      {
       "javascript": [
        "$('div#9088ba8a-fbad-4861-82f9-ee122bd51a61').text('330 of 1000');"
       ],
       "metadata": {},
       "output_type": "display_data",
       "text": [
        "<IPython.core.display.Javascript at 0x1beae160>"
       ]
      },
      {
       "javascript": [
        "$('div#9bb72750-2495-4adc-a00a-44b54d4e56a4').text(' 33%');"
       ],
       "metadata": {},
       "output_type": "display_data",
       "text": [
        "<IPython.core.display.Javascript at 0x1beae198>"
       ]
      },
      {
       "javascript": [
        "\n",
        "        var $myPB = $(\"div#e0eda126-035c-4451-86b1-b19144d66ee3\")\n",
        "        if ($myPB.hasClass('ui-progressbar')) {\n",
        "            $myPB.progressbar('value', 330);\n",
        "        } else {\n",
        "            $myPB.progressbar({value: 0, max: 1000});\n",
        "        }\n",
        "        "
       ],
       "metadata": {},
       "output_type": "display_data",
       "text": [
        "<IPython.core.display.Javascript at 0x18cd1eb8>"
       ]
      },
      {
       "javascript": [
        "$('div#78e39181-13e1-48f9-9621-f444cd250e38').text('ETA:  0:00:00');"
       ],
       "metadata": {},
       "output_type": "display_data",
       "text": [
        "<IPython.core.display.Javascript at 0x1beae198>"
       ]
      },
      {
       "javascript": [
        "$('div#9088ba8a-fbad-4861-82f9-ee122bd51a61').text('340 of 1000');"
       ],
       "metadata": {},
       "output_type": "display_data",
       "text": [
        "<IPython.core.display.Javascript at 0x1beae438>"
       ]
      },
      {
       "javascript": [
        "$('div#9bb72750-2495-4adc-a00a-44b54d4e56a4').text(' 34%');"
       ],
       "metadata": {},
       "output_type": "display_data",
       "text": [
        "<IPython.core.display.Javascript at 0x1beae780>"
       ]
      },
      {
       "javascript": [
        "\n",
        "        var $myPB = $(\"div#e0eda126-035c-4451-86b1-b19144d66ee3\")\n",
        "        if ($myPB.hasClass('ui-progressbar')) {\n",
        "            $myPB.progressbar('value', 340);\n",
        "        } else {\n",
        "            $myPB.progressbar({value: 0, max: 1000});\n",
        "        }\n",
        "        "
       ],
       "metadata": {},
       "output_type": "display_data",
       "text": [
        "<IPython.core.display.Javascript at 0x18cd1eb8>"
       ]
      },
      {
       "javascript": [
        "$('div#78e39181-13e1-48f9-9621-f444cd250e38').text('ETA:  0:00:00');"
       ],
       "metadata": {},
       "output_type": "display_data",
       "text": [
        "<IPython.core.display.Javascript at 0x1beae780>"
       ]
      },
      {
       "javascript": [
        "$('div#9088ba8a-fbad-4861-82f9-ee122bd51a61').text('350 of 1000');"
       ],
       "metadata": {},
       "output_type": "display_data",
       "text": [
        "<IPython.core.display.Javascript at 0x1beae7f0>"
       ]
      },
      {
       "javascript": [
        "$('div#9bb72750-2495-4adc-a00a-44b54d4e56a4').text(' 35%');"
       ],
       "metadata": {},
       "output_type": "display_data",
       "text": [
        "<IPython.core.display.Javascript at 0x1beaee10>"
       ]
      },
      {
       "javascript": [
        "\n",
        "        var $myPB = $(\"div#e0eda126-035c-4451-86b1-b19144d66ee3\")\n",
        "        if ($myPB.hasClass('ui-progressbar')) {\n",
        "            $myPB.progressbar('value', 350);\n",
        "        } else {\n",
        "            $myPB.progressbar({value: 0, max: 1000});\n",
        "        }\n",
        "        "
       ],
       "metadata": {},
       "output_type": "display_data",
       "text": [
        "<IPython.core.display.Javascript at 0x18cd1eb8>"
       ]
      },
      {
       "javascript": [
        "$('div#78e39181-13e1-48f9-9621-f444cd250e38').text('ETA:  0:00:00');"
       ],
       "metadata": {},
       "output_type": "display_data",
       "text": [
        "<IPython.core.display.Javascript at 0x1beaee10>"
       ]
      },
      {
       "javascript": [
        "$('div#9088ba8a-fbad-4861-82f9-ee122bd51a61').text('360 of 1000');"
       ],
       "metadata": {},
       "output_type": "display_data",
       "text": [
        "<IPython.core.display.Javascript at 0x1beaeb38>"
       ]
      },
      {
       "javascript": [
        "$('div#9bb72750-2495-4adc-a00a-44b54d4e56a4').text(' 36%');"
       ],
       "metadata": {},
       "output_type": "display_data",
       "text": [
        "<IPython.core.display.Javascript at 0x1beae198>"
       ]
      },
      {
       "javascript": [
        "\n",
        "        var $myPB = $(\"div#e0eda126-035c-4451-86b1-b19144d66ee3\")\n",
        "        if ($myPB.hasClass('ui-progressbar')) {\n",
        "            $myPB.progressbar('value', 360);\n",
        "        } else {\n",
        "            $myPB.progressbar({value: 0, max: 1000});\n",
        "        }\n",
        "        "
       ],
       "metadata": {},
       "output_type": "display_data",
       "text": [
        "<IPython.core.display.Javascript at 0x18cd1eb8>"
       ]
      },
      {
       "javascript": [
        "$('div#78e39181-13e1-48f9-9621-f444cd250e38').text('ETA:  0:00:00');"
       ],
       "metadata": {},
       "output_type": "display_data",
       "text": [
        "<IPython.core.display.Javascript at 0x1beae198>"
       ]
      },
      {
       "javascript": [
        "$('div#9088ba8a-fbad-4861-82f9-ee122bd51a61').text('370 of 1000');"
       ],
       "metadata": {},
       "output_type": "display_data",
       "text": [
        "<IPython.core.display.Javascript at 0x1beae160>"
       ]
      },
      {
       "javascript": [
        "$('div#9bb72750-2495-4adc-a00a-44b54d4e56a4').text(' 37%');"
       ],
       "metadata": {},
       "output_type": "display_data",
       "text": [
        "<IPython.core.display.Javascript at 0x1beae780>"
       ]
      },
      {
       "javascript": [
        "\n",
        "        var $myPB = $(\"div#e0eda126-035c-4451-86b1-b19144d66ee3\")\n",
        "        if ($myPB.hasClass('ui-progressbar')) {\n",
        "            $myPB.progressbar('value', 370);\n",
        "        } else {\n",
        "            $myPB.progressbar({value: 0, max: 1000});\n",
        "        }\n",
        "        "
       ],
       "metadata": {},
       "output_type": "display_data",
       "text": [
        "<IPython.core.display.Javascript at 0x18cd1eb8>"
       ]
      },
      {
       "javascript": [
        "$('div#78e39181-13e1-48f9-9621-f444cd250e38').text('ETA:  0:00:00');"
       ],
       "metadata": {},
       "output_type": "display_data",
       "text": [
        "<IPython.core.display.Javascript at 0x1beae780>"
       ]
      },
      {
       "javascript": [
        "$('div#9088ba8a-fbad-4861-82f9-ee122bd51a61').text('380 of 1000');"
       ],
       "metadata": {},
       "output_type": "display_data",
       "text": [
        "<IPython.core.display.Javascript at 0x1beae438>"
       ]
      },
      {
       "javascript": [
        "$('div#9bb72750-2495-4adc-a00a-44b54d4e56a4').text(' 38%');"
       ],
       "metadata": {},
       "output_type": "display_data",
       "text": [
        "<IPython.core.display.Javascript at 0x1beaee10>"
       ]
      },
      {
       "javascript": [
        "\n",
        "        var $myPB = $(\"div#e0eda126-035c-4451-86b1-b19144d66ee3\")\n",
        "        if ($myPB.hasClass('ui-progressbar')) {\n",
        "            $myPB.progressbar('value', 380);\n",
        "        } else {\n",
        "            $myPB.progressbar({value: 0, max: 1000});\n",
        "        }\n",
        "        "
       ],
       "metadata": {},
       "output_type": "display_data",
       "text": [
        "<IPython.core.display.Javascript at 0x18cd1eb8>"
       ]
      },
      {
       "javascript": [
        "$('div#78e39181-13e1-48f9-9621-f444cd250e38').text('ETA:  0:00:00');"
       ],
       "metadata": {},
       "output_type": "display_data",
       "text": [
        "<IPython.core.display.Javascript at 0x1beaee10>"
       ]
      },
      {
       "javascript": [
        "$('div#9088ba8a-fbad-4861-82f9-ee122bd51a61').text('390 of 1000');"
       ],
       "metadata": {},
       "output_type": "display_data",
       "text": [
        "<IPython.core.display.Javascript at 0x1beae7f0>"
       ]
      },
      {
       "javascript": [
        "$('div#9bb72750-2495-4adc-a00a-44b54d4e56a4').text(' 39%');"
       ],
       "metadata": {},
       "output_type": "display_data",
       "text": [
        "<IPython.core.display.Javascript at 0x1beae198>"
       ]
      },
      {
       "javascript": [
        "\n",
        "        var $myPB = $(\"div#e0eda126-035c-4451-86b1-b19144d66ee3\")\n",
        "        if ($myPB.hasClass('ui-progressbar')) {\n",
        "            $myPB.progressbar('value', 390);\n",
        "        } else {\n",
        "            $myPB.progressbar({value: 0, max: 1000});\n",
        "        }\n",
        "        "
       ],
       "metadata": {},
       "output_type": "display_data",
       "text": [
        "<IPython.core.display.Javascript at 0x18cd1eb8>"
       ]
      },
      {
       "javascript": [
        "$('div#78e39181-13e1-48f9-9621-f444cd250e38').text('ETA:  0:00:00');"
       ],
       "metadata": {},
       "output_type": "display_data",
       "text": [
        "<IPython.core.display.Javascript at 0x1beae198>"
       ]
      },
      {
       "javascript": [
        "$('div#9088ba8a-fbad-4861-82f9-ee122bd51a61').text('400 of 1000');"
       ],
       "metadata": {},
       "output_type": "display_data",
       "text": [
        "<IPython.core.display.Javascript at 0x1beaeb38>"
       ]
      },
      {
       "javascript": [
        "$('div#9bb72750-2495-4adc-a00a-44b54d4e56a4').text(' 40%');"
       ],
       "metadata": {},
       "output_type": "display_data",
       "text": [
        "<IPython.core.display.Javascript at 0x1beae780>"
       ]
      },
      {
       "javascript": [
        "\n",
        "        var $myPB = $(\"div#e0eda126-035c-4451-86b1-b19144d66ee3\")\n",
        "        if ($myPB.hasClass('ui-progressbar')) {\n",
        "            $myPB.progressbar('value', 400);\n",
        "        } else {\n",
        "            $myPB.progressbar({value: 0, max: 1000});\n",
        "        }\n",
        "        "
       ],
       "metadata": {},
       "output_type": "display_data",
       "text": [
        "<IPython.core.display.Javascript at 0x18cd1eb8>"
       ]
      },
      {
       "javascript": [
        "$('div#78e39181-13e1-48f9-9621-f444cd250e38').text('ETA:  0:00:00');"
       ],
       "metadata": {},
       "output_type": "display_data",
       "text": [
        "<IPython.core.display.Javascript at 0x1beae780>"
       ]
      },
      {
       "javascript": [
        "$('div#9088ba8a-fbad-4861-82f9-ee122bd51a61').text('410 of 1000');"
       ],
       "metadata": {},
       "output_type": "display_data",
       "text": [
        "<IPython.core.display.Javascript at 0x1beaefd0>"
       ]
      },
      {
       "javascript": [
        "$('div#9bb72750-2495-4adc-a00a-44b54d4e56a4').text(' 41%');"
       ],
       "metadata": {},
       "output_type": "display_data",
       "text": [
        "<IPython.core.display.Javascript at 0x1beaee10>"
       ]
      },
      {
       "javascript": [
        "\n",
        "        var $myPB = $(\"div#e0eda126-035c-4451-86b1-b19144d66ee3\")\n",
        "        if ($myPB.hasClass('ui-progressbar')) {\n",
        "            $myPB.progressbar('value', 410);\n",
        "        } else {\n",
        "            $myPB.progressbar({value: 0, max: 1000});\n",
        "        }\n",
        "        "
       ],
       "metadata": {},
       "output_type": "display_data",
       "text": [
        "<IPython.core.display.Javascript at 0x18cd1eb8>"
       ]
      },
      {
       "javascript": [
        "$('div#78e39181-13e1-48f9-9621-f444cd250e38').text('ETA:  0:00:00');"
       ],
       "metadata": {},
       "output_type": "display_data",
       "text": [
        "<IPython.core.display.Javascript at 0x1beaee10>"
       ]
      },
      {
       "javascript": [
        "$('div#9088ba8a-fbad-4861-82f9-ee122bd51a61').text('420 of 1000');"
       ],
       "metadata": {},
       "output_type": "display_data",
       "text": [
        "<IPython.core.display.Javascript at 0x1beae160>"
       ]
      },
      {
       "javascript": [
        "$('div#9bb72750-2495-4adc-a00a-44b54d4e56a4').text(' 42%');"
       ],
       "metadata": {},
       "output_type": "display_data",
       "text": [
        "<IPython.core.display.Javascript at 0x1beae198>"
       ]
      },
      {
       "javascript": [
        "\n",
        "        var $myPB = $(\"div#e0eda126-035c-4451-86b1-b19144d66ee3\")\n",
        "        if ($myPB.hasClass('ui-progressbar')) {\n",
        "            $myPB.progressbar('value', 420);\n",
        "        } else {\n",
        "            $myPB.progressbar({value: 0, max: 1000});\n",
        "        }\n",
        "        "
       ],
       "metadata": {},
       "output_type": "display_data",
       "text": [
        "<IPython.core.display.Javascript at 0x18cd1eb8>"
       ]
      },
      {
       "javascript": [
        "$('div#78e39181-13e1-48f9-9621-f444cd250e38').text('ETA:  0:00:00');"
       ],
       "metadata": {},
       "output_type": "display_data",
       "text": [
        "<IPython.core.display.Javascript at 0x1beae198>"
       ]
      },
      {
       "javascript": [
        "$('div#9088ba8a-fbad-4861-82f9-ee122bd51a61').text('430 of 1000');"
       ],
       "metadata": {},
       "output_type": "display_data",
       "text": [
        "<IPython.core.display.Javascript at 0x1beae438>"
       ]
      },
      {
       "javascript": [
        "$('div#9bb72750-2495-4adc-a00a-44b54d4e56a4').text(' 43%');"
       ],
       "metadata": {},
       "output_type": "display_data",
       "text": [
        "<IPython.core.display.Javascript at 0x1beae780>"
       ]
      },
      {
       "javascript": [
        "\n",
        "        var $myPB = $(\"div#e0eda126-035c-4451-86b1-b19144d66ee3\")\n",
        "        if ($myPB.hasClass('ui-progressbar')) {\n",
        "            $myPB.progressbar('value', 430);\n",
        "        } else {\n",
        "            $myPB.progressbar({value: 0, max: 1000});\n",
        "        }\n",
        "        "
       ],
       "metadata": {},
       "output_type": "display_data",
       "text": [
        "<IPython.core.display.Javascript at 0x18cd1eb8>"
       ]
      },
      {
       "javascript": [
        "$('div#78e39181-13e1-48f9-9621-f444cd250e38').text('ETA:  0:00:00');"
       ],
       "metadata": {},
       "output_type": "display_data",
       "text": [
        "<IPython.core.display.Javascript at 0x1beae780>"
       ]
      },
      {
       "javascript": [
        "$('div#9088ba8a-fbad-4861-82f9-ee122bd51a61').text('440 of 1000');"
       ],
       "metadata": {},
       "output_type": "display_data",
       "text": [
        "<IPython.core.display.Javascript at 0x1beae7f0>"
       ]
      },
      {
       "javascript": [
        "$('div#9bb72750-2495-4adc-a00a-44b54d4e56a4').text(' 44%');"
       ],
       "metadata": {},
       "output_type": "display_data",
       "text": [
        "<IPython.core.display.Javascript at 0x1beaee10>"
       ]
      },
      {
       "javascript": [
        "\n",
        "        var $myPB = $(\"div#e0eda126-035c-4451-86b1-b19144d66ee3\")\n",
        "        if ($myPB.hasClass('ui-progressbar')) {\n",
        "            $myPB.progressbar('value', 440);\n",
        "        } else {\n",
        "            $myPB.progressbar({value: 0, max: 1000});\n",
        "        }\n",
        "        "
       ],
       "metadata": {},
       "output_type": "display_data",
       "text": [
        "<IPython.core.display.Javascript at 0x18cd1eb8>"
       ]
      },
      {
       "javascript": [
        "$('div#78e39181-13e1-48f9-9621-f444cd250e38').text('ETA:  0:00:00');"
       ],
       "metadata": {},
       "output_type": "display_data",
       "text": [
        "<IPython.core.display.Javascript at 0x1beaee10>"
       ]
      },
      {
       "javascript": [
        "$('div#9088ba8a-fbad-4861-82f9-ee122bd51a61').text('450 of 1000');"
       ],
       "metadata": {},
       "output_type": "display_data",
       "text": [
        "<IPython.core.display.Javascript at 0x1beaeb38>"
       ]
      },
      {
       "javascript": [
        "$('div#9bb72750-2495-4adc-a00a-44b54d4e56a4').text(' 45%');"
       ],
       "metadata": {},
       "output_type": "display_data",
       "text": [
        "<IPython.core.display.Javascript at 0x1beae198>"
       ]
      },
      {
       "javascript": [
        "\n",
        "        var $myPB = $(\"div#e0eda126-035c-4451-86b1-b19144d66ee3\")\n",
        "        if ($myPB.hasClass('ui-progressbar')) {\n",
        "            $myPB.progressbar('value', 450);\n",
        "        } else {\n",
        "            $myPB.progressbar({value: 0, max: 1000});\n",
        "        }\n",
        "        "
       ],
       "metadata": {},
       "output_type": "display_data",
       "text": [
        "<IPython.core.display.Javascript at 0x18cd1eb8>"
       ]
      },
      {
       "javascript": [
        "$('div#78e39181-13e1-48f9-9621-f444cd250e38').text('ETA:  0:00:00');"
       ],
       "metadata": {},
       "output_type": "display_data",
       "text": [
        "<IPython.core.display.Javascript at 0x1beae198>"
       ]
      },
      {
       "javascript": [
        "$('div#9088ba8a-fbad-4861-82f9-ee122bd51a61').text('460 of 1000');"
       ],
       "metadata": {},
       "output_type": "display_data",
       "text": [
        "<IPython.core.display.Javascript at 0x1beaefd0>"
       ]
      },
      {
       "javascript": [
        "$('div#9bb72750-2495-4adc-a00a-44b54d4e56a4').text(' 46%');"
       ],
       "metadata": {},
       "output_type": "display_data",
       "text": [
        "<IPython.core.display.Javascript at 0x1beae780>"
       ]
      },
      {
       "javascript": [
        "\n",
        "        var $myPB = $(\"div#e0eda126-035c-4451-86b1-b19144d66ee3\")\n",
        "        if ($myPB.hasClass('ui-progressbar')) {\n",
        "            $myPB.progressbar('value', 460);\n",
        "        } else {\n",
        "            $myPB.progressbar({value: 0, max: 1000});\n",
        "        }\n",
        "        "
       ],
       "metadata": {},
       "output_type": "display_data",
       "text": [
        "<IPython.core.display.Javascript at 0x18cd1eb8>"
       ]
      },
      {
       "javascript": [
        "$('div#78e39181-13e1-48f9-9621-f444cd250e38').text('ETA:  0:00:00');"
       ],
       "metadata": {},
       "output_type": "display_data",
       "text": [
        "<IPython.core.display.Javascript at 0x1beae780>"
       ]
      },
      {
       "javascript": [
        "$('div#9088ba8a-fbad-4861-82f9-ee122bd51a61').text('470 of 1000');"
       ],
       "metadata": {},
       "output_type": "display_data",
       "text": [
        "<IPython.core.display.Javascript at 0x1beae160>"
       ]
      },
      {
       "javascript": [
        "$('div#9bb72750-2495-4adc-a00a-44b54d4e56a4').text(' 47%');"
       ],
       "metadata": {},
       "output_type": "display_data",
       "text": [
        "<IPython.core.display.Javascript at 0x1beaee10>"
       ]
      },
      {
       "javascript": [
        "\n",
        "        var $myPB = $(\"div#e0eda126-035c-4451-86b1-b19144d66ee3\")\n",
        "        if ($myPB.hasClass('ui-progressbar')) {\n",
        "            $myPB.progressbar('value', 470);\n",
        "        } else {\n",
        "            $myPB.progressbar({value: 0, max: 1000});\n",
        "        }\n",
        "        "
       ],
       "metadata": {},
       "output_type": "display_data",
       "text": [
        "<IPython.core.display.Javascript at 0x18cd1eb8>"
       ]
      },
      {
       "javascript": [
        "$('div#78e39181-13e1-48f9-9621-f444cd250e38').text('ETA:  0:00:00');"
       ],
       "metadata": {},
       "output_type": "display_data",
       "text": [
        "<IPython.core.display.Javascript at 0x1beaee10>"
       ]
      },
      {
       "javascript": [
        "$('div#9088ba8a-fbad-4861-82f9-ee122bd51a61').text('480 of 1000');"
       ],
       "metadata": {},
       "output_type": "display_data",
       "text": [
        "<IPython.core.display.Javascript at 0x1beae438>"
       ]
      },
      {
       "javascript": [
        "$('div#9bb72750-2495-4adc-a00a-44b54d4e56a4').text(' 48%');"
       ],
       "metadata": {},
       "output_type": "display_data",
       "text": [
        "<IPython.core.display.Javascript at 0x1beae198>"
       ]
      },
      {
       "javascript": [
        "\n",
        "        var $myPB = $(\"div#e0eda126-035c-4451-86b1-b19144d66ee3\")\n",
        "        if ($myPB.hasClass('ui-progressbar')) {\n",
        "            $myPB.progressbar('value', 480);\n",
        "        } else {\n",
        "            $myPB.progressbar({value: 0, max: 1000});\n",
        "        }\n",
        "        "
       ],
       "metadata": {},
       "output_type": "display_data",
       "text": [
        "<IPython.core.display.Javascript at 0x18cd1eb8>"
       ]
      },
      {
       "javascript": [
        "$('div#78e39181-13e1-48f9-9621-f444cd250e38').text('ETA:  0:00:00');"
       ],
       "metadata": {},
       "output_type": "display_data",
       "text": [
        "<IPython.core.display.Javascript at 0x1beae198>"
       ]
      },
      {
       "javascript": [
        "$('div#9088ba8a-fbad-4861-82f9-ee122bd51a61').text('490 of 1000');"
       ],
       "metadata": {},
       "output_type": "display_data",
       "text": [
        "<IPython.core.display.Javascript at 0x1beae7f0>"
       ]
      },
      {
       "javascript": [
        "$('div#9bb72750-2495-4adc-a00a-44b54d4e56a4').text(' 49%');"
       ],
       "metadata": {},
       "output_type": "display_data",
       "text": [
        "<IPython.core.display.Javascript at 0x1beae780>"
       ]
      },
      {
       "javascript": [
        "\n",
        "        var $myPB = $(\"div#e0eda126-035c-4451-86b1-b19144d66ee3\")\n",
        "        if ($myPB.hasClass('ui-progressbar')) {\n",
        "            $myPB.progressbar('value', 490);\n",
        "        } else {\n",
        "            $myPB.progressbar({value: 0, max: 1000});\n",
        "        }\n",
        "        "
       ],
       "metadata": {},
       "output_type": "display_data",
       "text": [
        "<IPython.core.display.Javascript at 0x18cd1eb8>"
       ]
      },
      {
       "javascript": [
        "$('div#78e39181-13e1-48f9-9621-f444cd250e38').text('ETA:  0:00:00');"
       ],
       "metadata": {},
       "output_type": "display_data",
       "text": [
        "<IPython.core.display.Javascript at 0x1beaefd0>"
       ]
      },
      {
       "javascript": [
        "$('div#9088ba8a-fbad-4861-82f9-ee122bd51a61').text('500 of 1000');"
       ],
       "metadata": {},
       "output_type": "display_data",
       "text": [
        "<IPython.core.display.Javascript at 0x1beae630>"
       ]
      },
      {
       "javascript": [
        "$('div#9bb72750-2495-4adc-a00a-44b54d4e56a4').text(' 50%');"
       ],
       "metadata": {},
       "output_type": "display_data",
       "text": [
        "<IPython.core.display.Javascript at 0x18cd1eb8>"
       ]
      },
      {
       "javascript": [
        "\n",
        "        var $myPB = $(\"div#e0eda126-035c-4451-86b1-b19144d66ee3\")\n",
        "        if ($myPB.hasClass('ui-progressbar')) {\n",
        "            $myPB.progressbar('value', 500);\n",
        "        } else {\n",
        "            $myPB.progressbar({value: 0, max: 1000});\n",
        "        }\n",
        "        "
       ],
       "metadata": {},
       "output_type": "display_data",
       "text": [
        "<IPython.core.display.Javascript at 0x1beae630>"
       ]
      },
      {
       "javascript": [
        "$('div#78e39181-13e1-48f9-9621-f444cd250e38').text('ETA:  0:00:00');"
       ],
       "metadata": {},
       "output_type": "display_data",
       "text": [
        "<IPython.core.display.Javascript at 0x1beaeb38>"
       ]
      },
      {
       "javascript": [
        "$('div#9088ba8a-fbad-4861-82f9-ee122bd51a61').text('510 of 1000');"
       ],
       "metadata": {},
       "output_type": "display_data",
       "text": [
        "<IPython.core.display.Javascript at 0x1beae198>"
       ]
      },
      {
       "javascript": [
        "$('div#9bb72750-2495-4adc-a00a-44b54d4e56a4').text(' 51%');"
       ],
       "metadata": {},
       "output_type": "display_data",
       "text": [
        "<IPython.core.display.Javascript at 0x18cd1eb8>"
       ]
      },
      {
       "javascript": [
        "\n",
        "        var $myPB = $(\"div#e0eda126-035c-4451-86b1-b19144d66ee3\")\n",
        "        if ($myPB.hasClass('ui-progressbar')) {\n",
        "            $myPB.progressbar('value', 510);\n",
        "        } else {\n",
        "            $myPB.progressbar({value: 0, max: 1000});\n",
        "        }\n",
        "        "
       ],
       "metadata": {},
       "output_type": "display_data",
       "text": [
        "<IPython.core.display.Javascript at 0x1beae198>"
       ]
      },
      {
       "javascript": [
        "$('div#78e39181-13e1-48f9-9621-f444cd250e38').text('ETA:  0:00:00');"
       ],
       "metadata": {},
       "output_type": "display_data",
       "text": [
        "<IPython.core.display.Javascript at 0x1beae160>"
       ]
      },
      {
       "javascript": [
        "$('div#9088ba8a-fbad-4861-82f9-ee122bd51a61').text('520 of 1000');"
       ],
       "metadata": {},
       "output_type": "display_data",
       "text": [
        "<IPython.core.display.Javascript at 0x1beaecc0>"
       ]
      },
      {
       "javascript": [
        "$('div#9bb72750-2495-4adc-a00a-44b54d4e56a4').text(' 52%');"
       ],
       "metadata": {},
       "output_type": "display_data",
       "text": [
        "<IPython.core.display.Javascript at 0x18cd1eb8>"
       ]
      },
      {
       "javascript": [
        "\n",
        "        var $myPB = $(\"div#e0eda126-035c-4451-86b1-b19144d66ee3\")\n",
        "        if ($myPB.hasClass('ui-progressbar')) {\n",
        "            $myPB.progressbar('value', 520);\n",
        "        } else {\n",
        "            $myPB.progressbar({value: 0, max: 1000});\n",
        "        }\n",
        "        "
       ],
       "metadata": {},
       "output_type": "display_data",
       "text": [
        "<IPython.core.display.Javascript at 0x1beaecc0>"
       ]
      },
      {
       "javascript": [
        "$('div#78e39181-13e1-48f9-9621-f444cd250e38').text('ETA:  0:00:00');"
       ],
       "metadata": {},
       "output_type": "display_data",
       "text": [
        "<IPython.core.display.Javascript at 0x1beae5f8>"
       ]
      },
      {
       "javascript": [
        "$('div#9088ba8a-fbad-4861-82f9-ee122bd51a61').text('530 of 1000');"
       ],
       "metadata": {},
       "output_type": "display_data",
       "text": [
        "<IPython.core.display.Javascript at 0x1beae630>"
       ]
      },
      {
       "javascript": [
        "$('div#9bb72750-2495-4adc-a00a-44b54d4e56a4').text(' 53%');"
       ],
       "metadata": {},
       "output_type": "display_data",
       "text": [
        "<IPython.core.display.Javascript at 0x18cd1eb8>"
       ]
      },
      {
       "javascript": [
        "\n",
        "        var $myPB = $(\"div#e0eda126-035c-4451-86b1-b19144d66ee3\")\n",
        "        if ($myPB.hasClass('ui-progressbar')) {\n",
        "            $myPB.progressbar('value', 530);\n",
        "        } else {\n",
        "            $myPB.progressbar({value: 0, max: 1000});\n",
        "        }\n",
        "        "
       ],
       "metadata": {},
       "output_type": "display_data",
       "text": [
        "<IPython.core.display.Javascript at 0x1beae630>"
       ]
      },
      {
       "javascript": [
        "$('div#78e39181-13e1-48f9-9621-f444cd250e38').text('ETA:  0:00:00');"
       ],
       "metadata": {},
       "output_type": "display_data",
       "text": [
        "<IPython.core.display.Javascript at 0x1beaefd0>"
       ]
      },
      {
       "javascript": [
        "$('div#9088ba8a-fbad-4861-82f9-ee122bd51a61').text('540 of 1000');"
       ],
       "metadata": {},
       "output_type": "display_data",
       "text": [
        "<IPython.core.display.Javascript at 0x1beae198>"
       ]
      },
      {
       "javascript": [
        "$('div#9bb72750-2495-4adc-a00a-44b54d4e56a4').text(' 54%');"
       ],
       "metadata": {},
       "output_type": "display_data",
       "text": [
        "<IPython.core.display.Javascript at 0x18cd1eb8>"
       ]
      },
      {
       "javascript": [
        "\n",
        "        var $myPB = $(\"div#e0eda126-035c-4451-86b1-b19144d66ee3\")\n",
        "        if ($myPB.hasClass('ui-progressbar')) {\n",
        "            $myPB.progressbar('value', 540);\n",
        "        } else {\n",
        "            $myPB.progressbar({value: 0, max: 1000});\n",
        "        }\n",
        "        "
       ],
       "metadata": {},
       "output_type": "display_data",
       "text": [
        "<IPython.core.display.Javascript at 0x1beae198>"
       ]
      },
      {
       "javascript": [
        "$('div#78e39181-13e1-48f9-9621-f444cd250e38').text('ETA:  0:00:00');"
       ],
       "metadata": {},
       "output_type": "display_data",
       "text": [
        "<IPython.core.display.Javascript at 0x1beaeb38>"
       ]
      },
      {
       "javascript": [
        "$('div#9088ba8a-fbad-4861-82f9-ee122bd51a61').text('550 of 1000');"
       ],
       "metadata": {},
       "output_type": "display_data",
       "text": [
        "<IPython.core.display.Javascript at 0x1beaecc0>"
       ]
      },
      {
       "javascript": [
        "$('div#9bb72750-2495-4adc-a00a-44b54d4e56a4').text(' 55%');"
       ],
       "metadata": {},
       "output_type": "display_data",
       "text": [
        "<IPython.core.display.Javascript at 0x18cd1eb8>"
       ]
      },
      {
       "javascript": [
        "\n",
        "        var $myPB = $(\"div#e0eda126-035c-4451-86b1-b19144d66ee3\")\n",
        "        if ($myPB.hasClass('ui-progressbar')) {\n",
        "            $myPB.progressbar('value', 550);\n",
        "        } else {\n",
        "            $myPB.progressbar({value: 0, max: 1000});\n",
        "        }\n",
        "        "
       ],
       "metadata": {},
       "output_type": "display_data",
       "text": [
        "<IPython.core.display.Javascript at 0x1beaecc0>"
       ]
      },
      {
       "javascript": [
        "$('div#78e39181-13e1-48f9-9621-f444cd250e38').text('ETA:  0:00:00');"
       ],
       "metadata": {},
       "output_type": "display_data",
       "text": [
        "<IPython.core.display.Javascript at 0x1beae160>"
       ]
      },
      {
       "javascript": [
        "$('div#9088ba8a-fbad-4861-82f9-ee122bd51a61').text('560 of 1000');"
       ],
       "metadata": {},
       "output_type": "display_data",
       "text": [
        "<IPython.core.display.Javascript at 0x1beae630>"
       ]
      },
      {
       "javascript": [
        "$('div#9bb72750-2495-4adc-a00a-44b54d4e56a4').text(' 56%');"
       ],
       "metadata": {},
       "output_type": "display_data",
       "text": [
        "<IPython.core.display.Javascript at 0x18cd1eb8>"
       ]
      },
      {
       "javascript": [
        "\n",
        "        var $myPB = $(\"div#e0eda126-035c-4451-86b1-b19144d66ee3\")\n",
        "        if ($myPB.hasClass('ui-progressbar')) {\n",
        "            $myPB.progressbar('value', 560);\n",
        "        } else {\n",
        "            $myPB.progressbar({value: 0, max: 1000});\n",
        "        }\n",
        "        "
       ],
       "metadata": {},
       "output_type": "display_data",
       "text": [
        "<IPython.core.display.Javascript at 0x1beae630>"
       ]
      },
      {
       "javascript": [
        "$('div#78e39181-13e1-48f9-9621-f444cd250e38').text('ETA:  0:00:00');"
       ],
       "metadata": {},
       "output_type": "display_data",
       "text": [
        "<IPython.core.display.Javascript at 0x1beae5f8>"
       ]
      },
      {
       "javascript": [
        "$('div#9088ba8a-fbad-4861-82f9-ee122bd51a61').text('570 of 1000');"
       ],
       "metadata": {},
       "output_type": "display_data",
       "text": [
        "<IPython.core.display.Javascript at 0x1beae198>"
       ]
      },
      {
       "javascript": [
        "$('div#9bb72750-2495-4adc-a00a-44b54d4e56a4').text(' 57%');"
       ],
       "metadata": {},
       "output_type": "display_data",
       "text": [
        "<IPython.core.display.Javascript at 0x18cd1eb8>"
       ]
      },
      {
       "javascript": [
        "\n",
        "        var $myPB = $(\"div#e0eda126-035c-4451-86b1-b19144d66ee3\")\n",
        "        if ($myPB.hasClass('ui-progressbar')) {\n",
        "            $myPB.progressbar('value', 570);\n",
        "        } else {\n",
        "            $myPB.progressbar({value: 0, max: 1000});\n",
        "        }\n",
        "        "
       ],
       "metadata": {},
       "output_type": "display_data",
       "text": [
        "<IPython.core.display.Javascript at 0x1beae198>"
       ]
      },
      {
       "javascript": [
        "$('div#78e39181-13e1-48f9-9621-f444cd250e38').text('ETA:  0:00:00');"
       ],
       "metadata": {},
       "output_type": "display_data",
       "text": [
        "<IPython.core.display.Javascript at 0x1beaefd0>"
       ]
      },
      {
       "javascript": [
        "$('div#9088ba8a-fbad-4861-82f9-ee122bd51a61').text('580 of 1000');"
       ],
       "metadata": {},
       "output_type": "display_data",
       "text": [
        "<IPython.core.display.Javascript at 0x1beaecc0>"
       ]
      },
      {
       "javascript": [
        "$('div#9bb72750-2495-4adc-a00a-44b54d4e56a4').text(' 58%');"
       ],
       "metadata": {},
       "output_type": "display_data",
       "text": [
        "<IPython.core.display.Javascript at 0x18cd1eb8>"
       ]
      },
      {
       "javascript": [
        "\n",
        "        var $myPB = $(\"div#e0eda126-035c-4451-86b1-b19144d66ee3\")\n",
        "        if ($myPB.hasClass('ui-progressbar')) {\n",
        "            $myPB.progressbar('value', 580);\n",
        "        } else {\n",
        "            $myPB.progressbar({value: 0, max: 1000});\n",
        "        }\n",
        "        "
       ],
       "metadata": {},
       "output_type": "display_data",
       "text": [
        "<IPython.core.display.Javascript at 0x1beaecc0>"
       ]
      },
      {
       "javascript": [
        "$('div#78e39181-13e1-48f9-9621-f444cd250e38').text('ETA:  0:00:00');"
       ],
       "metadata": {},
       "output_type": "display_data",
       "text": [
        "<IPython.core.display.Javascript at 0x1beae7f0>"
       ]
      },
      {
       "javascript": [
        "$('div#9088ba8a-fbad-4861-82f9-ee122bd51a61').text('590 of 1000');"
       ],
       "metadata": {},
       "output_type": "display_data",
       "text": [
        "<IPython.core.display.Javascript at 0x1beae630>"
       ]
      },
      {
       "javascript": [
        "$('div#9bb72750-2495-4adc-a00a-44b54d4e56a4').text(' 59%');"
       ],
       "metadata": {},
       "output_type": "display_data",
       "text": [
        "<IPython.core.display.Javascript at 0x18cd1eb8>"
       ]
      },
      {
       "javascript": [
        "\n",
        "        var $myPB = $(\"div#e0eda126-035c-4451-86b1-b19144d66ee3\")\n",
        "        if ($myPB.hasClass('ui-progressbar')) {\n",
        "            $myPB.progressbar('value', 590);\n",
        "        } else {\n",
        "            $myPB.progressbar({value: 0, max: 1000});\n",
        "        }\n",
        "        "
       ],
       "metadata": {},
       "output_type": "display_data",
       "text": [
        "<IPython.core.display.Javascript at 0x1beae630>"
       ]
      },
      {
       "javascript": [
        "$('div#78e39181-13e1-48f9-9621-f444cd250e38').text('ETA:  0:00:00');"
       ],
       "metadata": {},
       "output_type": "display_data",
       "text": [
        "<IPython.core.display.Javascript at 0x1beae160>"
       ]
      },
      {
       "javascript": [
        "$('div#9088ba8a-fbad-4861-82f9-ee122bd51a61').text('600 of 1000');"
       ],
       "metadata": {},
       "output_type": "display_data",
       "text": [
        "<IPython.core.display.Javascript at 0x1beae198>"
       ]
      },
      {
       "javascript": [
        "$('div#9bb72750-2495-4adc-a00a-44b54d4e56a4').text(' 60%');"
       ],
       "metadata": {},
       "output_type": "display_data",
       "text": [
        "<IPython.core.display.Javascript at 0x18cd1eb8>"
       ]
      },
      {
       "javascript": [
        "\n",
        "        var $myPB = $(\"div#e0eda126-035c-4451-86b1-b19144d66ee3\")\n",
        "        if ($myPB.hasClass('ui-progressbar')) {\n",
        "            $myPB.progressbar('value', 600);\n",
        "        } else {\n",
        "            $myPB.progressbar({value: 0, max: 1000});\n",
        "        }\n",
        "        "
       ],
       "metadata": {},
       "output_type": "display_data",
       "text": [
        "<IPython.core.display.Javascript at 0x1beae198>"
       ]
      },
      {
       "javascript": [
        "$('div#78e39181-13e1-48f9-9621-f444cd250e38').text('ETA:  0:00:00');"
       ],
       "metadata": {},
       "output_type": "display_data",
       "text": [
        "<IPython.core.display.Javascript at 0x1beaeb38>"
       ]
      },
      {
       "javascript": [
        "$('div#9088ba8a-fbad-4861-82f9-ee122bd51a61').text('610 of 1000');"
       ],
       "metadata": {},
       "output_type": "display_data",
       "text": [
        "<IPython.core.display.Javascript at 0x1beaecc0>"
       ]
      },
      {
       "javascript": [
        "$('div#9bb72750-2495-4adc-a00a-44b54d4e56a4').text(' 61%');"
       ],
       "metadata": {},
       "output_type": "display_data",
       "text": [
        "<IPython.core.display.Javascript at 0x18cd1eb8>"
       ]
      },
      {
       "javascript": [
        "\n",
        "        var $myPB = $(\"div#e0eda126-035c-4451-86b1-b19144d66ee3\")\n",
        "        if ($myPB.hasClass('ui-progressbar')) {\n",
        "            $myPB.progressbar('value', 610);\n",
        "        } else {\n",
        "            $myPB.progressbar({value: 0, max: 1000});\n",
        "        }\n",
        "        "
       ],
       "metadata": {},
       "output_type": "display_data",
       "text": [
        "<IPython.core.display.Javascript at 0x1beaecc0>"
       ]
      },
      {
       "javascript": [
        "$('div#78e39181-13e1-48f9-9621-f444cd250e38').text('ETA:  0:00:00');"
       ],
       "metadata": {},
       "output_type": "display_data",
       "text": [
        "<IPython.core.display.Javascript at 0x1beae780>"
       ]
      },
      {
       "javascript": [
        "$('div#9088ba8a-fbad-4861-82f9-ee122bd51a61').text('620 of 1000');"
       ],
       "metadata": {},
       "output_type": "display_data",
       "text": [
        "<IPython.core.display.Javascript at 0x1beae630>"
       ]
      },
      {
       "javascript": [
        "$('div#9bb72750-2495-4adc-a00a-44b54d4e56a4').text(' 62%');"
       ],
       "metadata": {},
       "output_type": "display_data",
       "text": [
        "<IPython.core.display.Javascript at 0x18cd1eb8>"
       ]
      },
      {
       "javascript": [
        "\n",
        "        var $myPB = $(\"div#e0eda126-035c-4451-86b1-b19144d66ee3\")\n",
        "        if ($myPB.hasClass('ui-progressbar')) {\n",
        "            $myPB.progressbar('value', 620);\n",
        "        } else {\n",
        "            $myPB.progressbar({value: 0, max: 1000});\n",
        "        }\n",
        "        "
       ],
       "metadata": {},
       "output_type": "display_data",
       "text": [
        "<IPython.core.display.Javascript at 0x1beae630>"
       ]
      },
      {
       "javascript": [
        "$('div#78e39181-13e1-48f9-9621-f444cd250e38').text('ETA:  0:00:00');"
       ],
       "metadata": {},
       "output_type": "display_data",
       "text": [
        "<IPython.core.display.Javascript at 0x1beaefd0>"
       ]
      },
      {
       "javascript": [
        "$('div#9088ba8a-fbad-4861-82f9-ee122bd51a61').text('630 of 1000');"
       ],
       "metadata": {},
       "output_type": "display_data",
       "text": [
        "<IPython.core.display.Javascript at 0x1beae198>"
       ]
      },
      {
       "javascript": [
        "$('div#9bb72750-2495-4adc-a00a-44b54d4e56a4').text(' 63%');"
       ],
       "metadata": {},
       "output_type": "display_data",
       "text": [
        "<IPython.core.display.Javascript at 0x18cd1eb8>"
       ]
      },
      {
       "javascript": [
        "\n",
        "        var $myPB = $(\"div#e0eda126-035c-4451-86b1-b19144d66ee3\")\n",
        "        if ($myPB.hasClass('ui-progressbar')) {\n",
        "            $myPB.progressbar('value', 630);\n",
        "        } else {\n",
        "            $myPB.progressbar({value: 0, max: 1000});\n",
        "        }\n",
        "        "
       ],
       "metadata": {},
       "output_type": "display_data",
       "text": [
        "<IPython.core.display.Javascript at 0x1beae198>"
       ]
      },
      {
       "javascript": [
        "$('div#78e39181-13e1-48f9-9621-f444cd250e38').text('ETA:  0:00:00');"
       ],
       "metadata": {},
       "output_type": "display_data",
       "text": [
        "<IPython.core.display.Javascript at 0x1beae160>"
       ]
      },
      {
       "javascript": [
        "$('div#9088ba8a-fbad-4861-82f9-ee122bd51a61').text('640 of 1000');"
       ],
       "metadata": {},
       "output_type": "display_data",
       "text": [
        "<IPython.core.display.Javascript at 0x1beaecc0>"
       ]
      },
      {
       "javascript": [
        "$('div#9bb72750-2495-4adc-a00a-44b54d4e56a4').text(' 64%');"
       ],
       "metadata": {},
       "output_type": "display_data",
       "text": [
        "<IPython.core.display.Javascript at 0x18cd1eb8>"
       ]
      },
      {
       "javascript": [
        "\n",
        "        var $myPB = $(\"div#e0eda126-035c-4451-86b1-b19144d66ee3\")\n",
        "        if ($myPB.hasClass('ui-progressbar')) {\n",
        "            $myPB.progressbar('value', 640);\n",
        "        } else {\n",
        "            $myPB.progressbar({value: 0, max: 1000});\n",
        "        }\n",
        "        "
       ],
       "metadata": {},
       "output_type": "display_data",
       "text": [
        "<IPython.core.display.Javascript at 0x1beaecc0>"
       ]
      },
      {
       "javascript": [
        "$('div#78e39181-13e1-48f9-9621-f444cd250e38').text('ETA:  0:00:00');"
       ],
       "metadata": {},
       "output_type": "display_data",
       "text": [
        "<IPython.core.display.Javascript at 0x1beaeb38>"
       ]
      },
      {
       "javascript": [
        "$('div#9088ba8a-fbad-4861-82f9-ee122bd51a61').text('650 of 1000');"
       ],
       "metadata": {},
       "output_type": "display_data",
       "text": [
        "<IPython.core.display.Javascript at 0x1beae630>"
       ]
      },
      {
       "javascript": [
        "$('div#9bb72750-2495-4adc-a00a-44b54d4e56a4').text(' 65%');"
       ],
       "metadata": {},
       "output_type": "display_data",
       "text": [
        "<IPython.core.display.Javascript at 0x18cd1eb8>"
       ]
      },
      {
       "javascript": [
        "\n",
        "        var $myPB = $(\"div#e0eda126-035c-4451-86b1-b19144d66ee3\")\n",
        "        if ($myPB.hasClass('ui-progressbar')) {\n",
        "            $myPB.progressbar('value', 650);\n",
        "        } else {\n",
        "            $myPB.progressbar({value: 0, max: 1000});\n",
        "        }\n",
        "        "
       ],
       "metadata": {},
       "output_type": "display_data",
       "text": [
        "<IPython.core.display.Javascript at 0x1beae630>"
       ]
      },
      {
       "javascript": [
        "$('div#78e39181-13e1-48f9-9621-f444cd250e38').text('ETA:  0:00:00');"
       ],
       "metadata": {},
       "output_type": "display_data",
       "text": [
        "<IPython.core.display.Javascript at 0x1beae780>"
       ]
      },
      {
       "javascript": [
        "$('div#9088ba8a-fbad-4861-82f9-ee122bd51a61').text('660 of 1000');"
       ],
       "metadata": {},
       "output_type": "display_data",
       "text": [
        "<IPython.core.display.Javascript at 0x1beae198>"
       ]
      },
      {
       "javascript": [
        "$('div#9bb72750-2495-4adc-a00a-44b54d4e56a4').text(' 66%');"
       ],
       "metadata": {},
       "output_type": "display_data",
       "text": [
        "<IPython.core.display.Javascript at 0x18cd1eb8>"
       ]
      },
      {
       "javascript": [
        "\n",
        "        var $myPB = $(\"div#e0eda126-035c-4451-86b1-b19144d66ee3\")\n",
        "        if ($myPB.hasClass('ui-progressbar')) {\n",
        "            $myPB.progressbar('value', 660);\n",
        "        } else {\n",
        "            $myPB.progressbar({value: 0, max: 1000});\n",
        "        }\n",
        "        "
       ],
       "metadata": {},
       "output_type": "display_data",
       "text": [
        "<IPython.core.display.Javascript at 0x1beae198>"
       ]
      },
      {
       "javascript": [
        "$('div#78e39181-13e1-48f9-9621-f444cd250e38').text('ETA:  0:00:00');"
       ],
       "metadata": {},
       "output_type": "display_data",
       "text": [
        "<IPython.core.display.Javascript at 0x1beaefd0>"
       ]
      },
      {
       "javascript": [
        "$('div#9088ba8a-fbad-4861-82f9-ee122bd51a61').text('670 of 1000');"
       ],
       "metadata": {},
       "output_type": "display_data",
       "text": [
        "<IPython.core.display.Javascript at 0x1beaecc0>"
       ]
      },
      {
       "javascript": [
        "$('div#9bb72750-2495-4adc-a00a-44b54d4e56a4').text(' 67%');"
       ],
       "metadata": {},
       "output_type": "display_data",
       "text": [
        "<IPython.core.display.Javascript at 0x18cd1eb8>"
       ]
      },
      {
       "javascript": [
        "\n",
        "        var $myPB = $(\"div#e0eda126-035c-4451-86b1-b19144d66ee3\")\n",
        "        if ($myPB.hasClass('ui-progressbar')) {\n",
        "            $myPB.progressbar('value', 670);\n",
        "        } else {\n",
        "            $myPB.progressbar({value: 0, max: 1000});\n",
        "        }\n",
        "        "
       ],
       "metadata": {},
       "output_type": "display_data",
       "text": [
        "<IPython.core.display.Javascript at 0x1beaecc0>"
       ]
      },
      {
       "javascript": [
        "$('div#78e39181-13e1-48f9-9621-f444cd250e38').text('ETA:  0:00:00');"
       ],
       "metadata": {},
       "output_type": "display_data",
       "text": [
        "<IPython.core.display.Javascript at 0x1beae160>"
       ]
      },
      {
       "javascript": [
        "$('div#9088ba8a-fbad-4861-82f9-ee122bd51a61').text('680 of 1000');"
       ],
       "metadata": {},
       "output_type": "display_data",
       "text": [
        "<IPython.core.display.Javascript at 0x1beae630>"
       ]
      },
      {
       "javascript": [
        "$('div#9bb72750-2495-4adc-a00a-44b54d4e56a4').text(' 68%');"
       ],
       "metadata": {},
       "output_type": "display_data",
       "text": [
        "<IPython.core.display.Javascript at 0x18cd1eb8>"
       ]
      },
      {
       "javascript": [
        "\n",
        "        var $myPB = $(\"div#e0eda126-035c-4451-86b1-b19144d66ee3\")\n",
        "        if ($myPB.hasClass('ui-progressbar')) {\n",
        "            $myPB.progressbar('value', 680);\n",
        "        } else {\n",
        "            $myPB.progressbar({value: 0, max: 1000});\n",
        "        }\n",
        "        "
       ],
       "metadata": {},
       "output_type": "display_data",
       "text": [
        "<IPython.core.display.Javascript at 0x1beae630>"
       ]
      },
      {
       "javascript": [
        "$('div#78e39181-13e1-48f9-9621-f444cd250e38').text('ETA:  0:00:00');"
       ],
       "metadata": {},
       "output_type": "display_data",
       "text": [
        "<IPython.core.display.Javascript at 0x1beaeb38>"
       ]
      },
      {
       "javascript": [
        "$('div#9088ba8a-fbad-4861-82f9-ee122bd51a61').text('690 of 1000');"
       ],
       "metadata": {},
       "output_type": "display_data",
       "text": [
        "<IPython.core.display.Javascript at 0x1beae198>"
       ]
      },
      {
       "javascript": [
        "$('div#9bb72750-2495-4adc-a00a-44b54d4e56a4').text(' 69%');"
       ],
       "metadata": {},
       "output_type": "display_data",
       "text": [
        "<IPython.core.display.Javascript at 0x18cd1eb8>"
       ]
      },
      {
       "javascript": [
        "\n",
        "        var $myPB = $(\"div#e0eda126-035c-4451-86b1-b19144d66ee3\")\n",
        "        if ($myPB.hasClass('ui-progressbar')) {\n",
        "            $myPB.progressbar('value', 690);\n",
        "        } else {\n",
        "            $myPB.progressbar({value: 0, max: 1000});\n",
        "        }\n",
        "        "
       ],
       "metadata": {},
       "output_type": "display_data",
       "text": [
        "<IPython.core.display.Javascript at 0x1beae198>"
       ]
      },
      {
       "javascript": [
        "$('div#78e39181-13e1-48f9-9621-f444cd250e38').text('ETA:  0:00:00');"
       ],
       "metadata": {},
       "output_type": "display_data",
       "text": [
        "<IPython.core.display.Javascript at 0x1beae5f8>"
       ]
      },
      {
       "javascript": [
        "$('div#9088ba8a-fbad-4861-82f9-ee122bd51a61').text('700 of 1000');"
       ],
       "metadata": {},
       "output_type": "display_data",
       "text": [
        "<IPython.core.display.Javascript at 0x1beaecc0>"
       ]
      },
      {
       "javascript": [
        "$('div#9bb72750-2495-4adc-a00a-44b54d4e56a4').text(' 70%');"
       ],
       "metadata": {},
       "output_type": "display_data",
       "text": [
        "<IPython.core.display.Javascript at 0x18cd1eb8>"
       ]
      },
      {
       "javascript": [
        "\n",
        "        var $myPB = $(\"div#e0eda126-035c-4451-86b1-b19144d66ee3\")\n",
        "        if ($myPB.hasClass('ui-progressbar')) {\n",
        "            $myPB.progressbar('value', 700);\n",
        "        } else {\n",
        "            $myPB.progressbar({value: 0, max: 1000});\n",
        "        }\n",
        "        "
       ],
       "metadata": {},
       "output_type": "display_data",
       "text": [
        "<IPython.core.display.Javascript at 0x1beaecc0>"
       ]
      },
      {
       "javascript": [
        "$('div#78e39181-13e1-48f9-9621-f444cd250e38').text('ETA:  0:00:00');"
       ],
       "metadata": {},
       "output_type": "display_data",
       "text": [
        "<IPython.core.display.Javascript at 0x1beaefd0>"
       ]
      },
      {
       "javascript": [
        "$('div#9088ba8a-fbad-4861-82f9-ee122bd51a61').text('710 of 1000');"
       ],
       "metadata": {},
       "output_type": "display_data",
       "text": [
        "<IPython.core.display.Javascript at 0x1beae630>"
       ]
      },
      {
       "javascript": [
        "$('div#9bb72750-2495-4adc-a00a-44b54d4e56a4').text(' 71%');"
       ],
       "metadata": {},
       "output_type": "display_data",
       "text": [
        "<IPython.core.display.Javascript at 0x18cd1eb8>"
       ]
      },
      {
       "javascript": [
        "\n",
        "        var $myPB = $(\"div#e0eda126-035c-4451-86b1-b19144d66ee3\")\n",
        "        if ($myPB.hasClass('ui-progressbar')) {\n",
        "            $myPB.progressbar('value', 710);\n",
        "        } else {\n",
        "            $myPB.progressbar({value: 0, max: 1000});\n",
        "        }\n",
        "        "
       ],
       "metadata": {},
       "output_type": "display_data",
       "text": [
        "<IPython.core.display.Javascript at 0x1beae630>"
       ]
      },
      {
       "javascript": [
        "$('div#78e39181-13e1-48f9-9621-f444cd250e38').text('ETA:  0:00:00');"
       ],
       "metadata": {},
       "output_type": "display_data",
       "text": [
        "<IPython.core.display.Javascript at 0x1beae160>"
       ]
      },
      {
       "javascript": [
        "$('div#9088ba8a-fbad-4861-82f9-ee122bd51a61').text('720 of 1000');"
       ],
       "metadata": {},
       "output_type": "display_data",
       "text": [
        "<IPython.core.display.Javascript at 0x1beae198>"
       ]
      },
      {
       "javascript": [
        "$('div#9bb72750-2495-4adc-a00a-44b54d4e56a4').text(' 72%');"
       ],
       "metadata": {},
       "output_type": "display_data",
       "text": [
        "<IPython.core.display.Javascript at 0x18cd1eb8>"
       ]
      },
      {
       "javascript": [
        "\n",
        "        var $myPB = $(\"div#e0eda126-035c-4451-86b1-b19144d66ee3\")\n",
        "        if ($myPB.hasClass('ui-progressbar')) {\n",
        "            $myPB.progressbar('value', 720);\n",
        "        } else {\n",
        "            $myPB.progressbar({value: 0, max: 1000});\n",
        "        }\n",
        "        "
       ],
       "metadata": {},
       "output_type": "display_data",
       "text": [
        "<IPython.core.display.Javascript at 0x1beae198>"
       ]
      },
      {
       "javascript": [
        "$('div#78e39181-13e1-48f9-9621-f444cd250e38').text('ETA:  0:00:00');"
       ],
       "metadata": {},
       "output_type": "display_data",
       "text": [
        "<IPython.core.display.Javascript at 0x1beaeb38>"
       ]
      },
      {
       "javascript": [
        "$('div#9088ba8a-fbad-4861-82f9-ee122bd51a61').text('730 of 1000');"
       ],
       "metadata": {},
       "output_type": "display_data",
       "text": [
        "<IPython.core.display.Javascript at 0x1beaecc0>"
       ]
      },
      {
       "javascript": [
        "$('div#9bb72750-2495-4adc-a00a-44b54d4e56a4').text(' 73%');"
       ],
       "metadata": {},
       "output_type": "display_data",
       "text": [
        "<IPython.core.display.Javascript at 0x18cd1eb8>"
       ]
      },
      {
       "javascript": [
        "\n",
        "        var $myPB = $(\"div#e0eda126-035c-4451-86b1-b19144d66ee3\")\n",
        "        if ($myPB.hasClass('ui-progressbar')) {\n",
        "            $myPB.progressbar('value', 730);\n",
        "        } else {\n",
        "            $myPB.progressbar({value: 0, max: 1000});\n",
        "        }\n",
        "        "
       ],
       "metadata": {},
       "output_type": "display_data",
       "text": [
        "<IPython.core.display.Javascript at 0x1beaecc0>"
       ]
      },
      {
       "javascript": [
        "$('div#78e39181-13e1-48f9-9621-f444cd250e38').text('ETA:  0:00:00');"
       ],
       "metadata": {},
       "output_type": "display_data",
       "text": [
        "<IPython.core.display.Javascript at 0x1beae780>"
       ]
      },
      {
       "javascript": [
        "$('div#9088ba8a-fbad-4861-82f9-ee122bd51a61').text('740 of 1000');"
       ],
       "metadata": {},
       "output_type": "display_data",
       "text": [
        "<IPython.core.display.Javascript at 0x1beae630>"
       ]
      },
      {
       "javascript": [
        "$('div#9bb72750-2495-4adc-a00a-44b54d4e56a4').text(' 74%');"
       ],
       "metadata": {},
       "output_type": "display_data",
       "text": [
        "<IPython.core.display.Javascript at 0x18cd1eb8>"
       ]
      },
      {
       "javascript": [
        "\n",
        "        var $myPB = $(\"div#e0eda126-035c-4451-86b1-b19144d66ee3\")\n",
        "        if ($myPB.hasClass('ui-progressbar')) {\n",
        "            $myPB.progressbar('value', 740);\n",
        "        } else {\n",
        "            $myPB.progressbar({value: 0, max: 1000});\n",
        "        }\n",
        "        "
       ],
       "metadata": {},
       "output_type": "display_data",
       "text": [
        "<IPython.core.display.Javascript at 0x1beae630>"
       ]
      },
      {
       "javascript": [
        "$('div#78e39181-13e1-48f9-9621-f444cd250e38').text('ETA:  0:00:00');"
       ],
       "metadata": {},
       "output_type": "display_data",
       "text": [
        "<IPython.core.display.Javascript at 0x1beaefd0>"
       ]
      },
      {
       "javascript": [
        "$('div#9088ba8a-fbad-4861-82f9-ee122bd51a61').text('750 of 1000');"
       ],
       "metadata": {},
       "output_type": "display_data",
       "text": [
        "<IPython.core.display.Javascript at 0x1beaecc0>"
       ]
      },
      {
       "javascript": [
        "$('div#9bb72750-2495-4adc-a00a-44b54d4e56a4').text(' 75%');"
       ],
       "metadata": {},
       "output_type": "display_data",
       "text": [
        "<IPython.core.display.Javascript at 0x18cd1eb8>"
       ]
      },
      {
       "javascript": [
        "\n",
        "        var $myPB = $(\"div#e0eda126-035c-4451-86b1-b19144d66ee3\")\n",
        "        if ($myPB.hasClass('ui-progressbar')) {\n",
        "            $myPB.progressbar('value', 750);\n",
        "        } else {\n",
        "            $myPB.progressbar({value: 0, max: 1000});\n",
        "        }\n",
        "        "
       ],
       "metadata": {},
       "output_type": "display_data",
       "text": [
        "<IPython.core.display.Javascript at 0x1beaecc0>"
       ]
      },
      {
       "javascript": [
        "$('div#78e39181-13e1-48f9-9621-f444cd250e38').text('ETA:  0:00:00');"
       ],
       "metadata": {},
       "output_type": "display_data",
       "text": [
        "<IPython.core.display.Javascript at 0x1beae5f8>"
       ]
      },
      {
       "javascript": [
        "$('div#9088ba8a-fbad-4861-82f9-ee122bd51a61').text('760 of 1000');"
       ],
       "metadata": {},
       "output_type": "display_data",
       "text": [
        "<IPython.core.display.Javascript at 0x1beae198>"
       ]
      },
      {
       "javascript": [
        "$('div#9bb72750-2495-4adc-a00a-44b54d4e56a4').text(' 76%');"
       ],
       "metadata": {},
       "output_type": "display_data",
       "text": [
        "<IPython.core.display.Javascript at 0x18cd1eb8>"
       ]
      },
      {
       "javascript": [
        "\n",
        "        var $myPB = $(\"div#e0eda126-035c-4451-86b1-b19144d66ee3\")\n",
        "        if ($myPB.hasClass('ui-progressbar')) {\n",
        "            $myPB.progressbar('value', 760);\n",
        "        } else {\n",
        "            $myPB.progressbar({value: 0, max: 1000});\n",
        "        }\n",
        "        "
       ],
       "metadata": {},
       "output_type": "display_data",
       "text": [
        "<IPython.core.display.Javascript at 0x1beae198>"
       ]
      },
      {
       "javascript": [
        "$('div#78e39181-13e1-48f9-9621-f444cd250e38').text('ETA:  0:00:00');"
       ],
       "metadata": {},
       "output_type": "display_data",
       "text": [
        "<IPython.core.display.Javascript at 0x1beaeb38>"
       ]
      },
      {
       "javascript": [
        "$('div#9088ba8a-fbad-4861-82f9-ee122bd51a61').text('770 of 1000');"
       ],
       "metadata": {},
       "output_type": "display_data",
       "text": [
        "<IPython.core.display.Javascript at 0x1beae630>"
       ]
      },
      {
       "javascript": [
        "$('div#9bb72750-2495-4adc-a00a-44b54d4e56a4').text(' 77%');"
       ],
       "metadata": {},
       "output_type": "display_data",
       "text": [
        "<IPython.core.display.Javascript at 0x18cd1eb8>"
       ]
      },
      {
       "javascript": [
        "\n",
        "        var $myPB = $(\"div#e0eda126-035c-4451-86b1-b19144d66ee3\")\n",
        "        if ($myPB.hasClass('ui-progressbar')) {\n",
        "            $myPB.progressbar('value', 770);\n",
        "        } else {\n",
        "            $myPB.progressbar({value: 0, max: 1000});\n",
        "        }\n",
        "        "
       ],
       "metadata": {},
       "output_type": "display_data",
       "text": [
        "<IPython.core.display.Javascript at 0x1beae630>"
       ]
      },
      {
       "javascript": [
        "$('div#78e39181-13e1-48f9-9621-f444cd250e38').text('ETA:  0:00:00');"
       ],
       "metadata": {},
       "output_type": "display_data",
       "text": [
        "<IPython.core.display.Javascript at 0x1beae5f8>"
       ]
      },
      {
       "javascript": [
        "$('div#9088ba8a-fbad-4861-82f9-ee122bd51a61').text('780 of 1000');"
       ],
       "metadata": {},
       "output_type": "display_data",
       "text": [
        "<IPython.core.display.Javascript at 0x1beaecc0>"
       ]
      },
      {
       "javascript": [
        "$('div#9bb72750-2495-4adc-a00a-44b54d4e56a4').text(' 78%');"
       ],
       "metadata": {},
       "output_type": "display_data",
       "text": [
        "<IPython.core.display.Javascript at 0x18cd1eb8>"
       ]
      },
      {
       "javascript": [
        "\n",
        "        var $myPB = $(\"div#e0eda126-035c-4451-86b1-b19144d66ee3\")\n",
        "        if ($myPB.hasClass('ui-progressbar')) {\n",
        "            $myPB.progressbar('value', 780);\n",
        "        } else {\n",
        "            $myPB.progressbar({value: 0, max: 1000});\n",
        "        }\n",
        "        "
       ],
       "metadata": {},
       "output_type": "display_data",
       "text": [
        "<IPython.core.display.Javascript at 0x1beaefd0>"
       ]
      },
      {
       "javascript": [
        "$('div#78e39181-13e1-48f9-9621-f444cd250e38').text('ETA:  0:00:00');"
       ],
       "metadata": {},
       "output_type": "display_data",
       "text": [
        "<IPython.core.display.Javascript at 0x1beae160>"
       ]
      },
      {
       "javascript": [
        "$('div#9088ba8a-fbad-4861-82f9-ee122bd51a61').text('790 of 1000');"
       ],
       "metadata": {},
       "output_type": "display_data",
       "text": [
        "<IPython.core.display.Javascript at 0x18cd1eb8>"
       ]
      },
      {
       "javascript": [
        "$('div#9bb72750-2495-4adc-a00a-44b54d4e56a4').text(' 79%');"
       ],
       "metadata": {},
       "output_type": "display_data",
       "text": [
        "<IPython.core.display.Javascript at 0x1beae630>"
       ]
      },
      {
       "javascript": [
        "\n",
        "        var $myPB = $(\"div#e0eda126-035c-4451-86b1-b19144d66ee3\")\n",
        "        if ($myPB.hasClass('ui-progressbar')) {\n",
        "            $myPB.progressbar('value', 790);\n",
        "        } else {\n",
        "            $myPB.progressbar({value: 0, max: 1000});\n",
        "        }\n",
        "        "
       ],
       "metadata": {},
       "output_type": "display_data",
       "text": [
        "<IPython.core.display.Javascript at 0x1beae438>"
       ]
      },
      {
       "javascript": [
        "$('div#78e39181-13e1-48f9-9621-f444cd250e38').text('ETA:  0:00:00');"
       ],
       "metadata": {},
       "output_type": "display_data",
       "text": [
        "<IPython.core.display.Javascript at 0x1beae7f0>"
       ]
      },
      {
       "javascript": [
        "$('div#9088ba8a-fbad-4861-82f9-ee122bd51a61').text('800 of 1000');"
       ],
       "metadata": {},
       "output_type": "display_data",
       "text": [
        "<IPython.core.display.Javascript at 0x18cd1eb8>"
       ]
      },
      {
       "javascript": [
        "$('div#9bb72750-2495-4adc-a00a-44b54d4e56a4').text(' 80%');"
       ],
       "metadata": {},
       "output_type": "display_data",
       "text": [
        "<IPython.core.display.Javascript at 0x1beae7f0>"
       ]
      },
      {
       "javascript": [
        "\n",
        "        var $myPB = $(\"div#e0eda126-035c-4451-86b1-b19144d66ee3\")\n",
        "        if ($myPB.hasClass('ui-progressbar')) {\n",
        "            $myPB.progressbar('value', 800);\n",
        "        } else {\n",
        "            $myPB.progressbar({value: 0, max: 1000});\n",
        "        }\n",
        "        "
       ],
       "metadata": {},
       "output_type": "display_data",
       "text": [
        "<IPython.core.display.Javascript at 0x1beaecc0>"
       ]
      },
      {
       "javascript": [
        "$('div#78e39181-13e1-48f9-9621-f444cd250e38').text('ETA:  0:00:00');"
       ],
       "metadata": {},
       "output_type": "display_data",
       "text": [
        "<IPython.core.display.Javascript at 0x1beaefd0>"
       ]
      },
      {
       "javascript": [
        "$('div#9088ba8a-fbad-4861-82f9-ee122bd51a61').text('810 of 1000');"
       ],
       "metadata": {},
       "output_type": "display_data",
       "text": [
        "<IPython.core.display.Javascript at 0x18cd1eb8>"
       ]
      },
      {
       "javascript": [
        "$('div#9bb72750-2495-4adc-a00a-44b54d4e56a4').text(' 81%');"
       ],
       "metadata": {},
       "output_type": "display_data",
       "text": [
        "<IPython.core.display.Javascript at 0x1beaefd0>"
       ]
      },
      {
       "javascript": [
        "\n",
        "        var $myPB = $(\"div#e0eda126-035c-4451-86b1-b19144d66ee3\")\n",
        "        if ($myPB.hasClass('ui-progressbar')) {\n",
        "            $myPB.progressbar('value', 810);\n",
        "        } else {\n",
        "            $myPB.progressbar({value: 0, max: 1000});\n",
        "        }\n",
        "        "
       ],
       "metadata": {},
       "output_type": "display_data",
       "text": [
        "<IPython.core.display.Javascript at 0x1beae5f8>"
       ]
      },
      {
       "javascript": [
        "$('div#78e39181-13e1-48f9-9621-f444cd250e38').text('ETA:  0:00:00');"
       ],
       "metadata": {},
       "output_type": "display_data",
       "text": [
        "<IPython.core.display.Javascript at 0x1beae630>"
       ]
      },
      {
       "javascript": [
        "$('div#9088ba8a-fbad-4861-82f9-ee122bd51a61').text('820 of 1000');"
       ],
       "metadata": {},
       "output_type": "display_data",
       "text": [
        "<IPython.core.display.Javascript at 0x18cd1eb8>"
       ]
      },
      {
       "javascript": [
        "$('div#9bb72750-2495-4adc-a00a-44b54d4e56a4').text(' 82%');"
       ],
       "metadata": {},
       "output_type": "display_data",
       "text": [
        "<IPython.core.display.Javascript at 0x1beae630>"
       ]
      },
      {
       "javascript": [
        "\n",
        "        var $myPB = $(\"div#e0eda126-035c-4451-86b1-b19144d66ee3\")\n",
        "        if ($myPB.hasClass('ui-progressbar')) {\n",
        "            $myPB.progressbar('value', 820);\n",
        "        } else {\n",
        "            $myPB.progressbar({value: 0, max: 1000});\n",
        "        }\n",
        "        "
       ],
       "metadata": {},
       "output_type": "display_data",
       "text": [
        "<IPython.core.display.Javascript at 0x1beae160>"
       ]
      },
      {
       "javascript": [
        "$('div#78e39181-13e1-48f9-9621-f444cd250e38').text('ETA:  0:00:00');"
       ],
       "metadata": {},
       "output_type": "display_data",
       "text": [
        "<IPython.core.display.Javascript at 0x1beae7f0>"
       ]
      },
      {
       "javascript": [
        "$('div#9088ba8a-fbad-4861-82f9-ee122bd51a61').text('830 of 1000');"
       ],
       "metadata": {},
       "output_type": "display_data",
       "text": [
        "<IPython.core.display.Javascript at 0x18cd1eb8>"
       ]
      },
      {
       "javascript": [
        "$('div#9bb72750-2495-4adc-a00a-44b54d4e56a4').text(' 83%');"
       ],
       "metadata": {},
       "output_type": "display_data",
       "text": [
        "<IPython.core.display.Javascript at 0x1beae7f0>"
       ]
      },
      {
       "javascript": [
        "\n",
        "        var $myPB = $(\"div#e0eda126-035c-4451-86b1-b19144d66ee3\")\n",
        "        if ($myPB.hasClass('ui-progressbar')) {\n",
        "            $myPB.progressbar('value', 830);\n",
        "        } else {\n",
        "            $myPB.progressbar({value: 0, max: 1000});\n",
        "        }\n",
        "        "
       ],
       "metadata": {},
       "output_type": "display_data",
       "text": [
        "<IPython.core.display.Javascript at 0x1beae438>"
       ]
      },
      {
       "javascript": [
        "$('div#78e39181-13e1-48f9-9621-f444cd250e38').text('ETA:  0:00:00');"
       ],
       "metadata": {},
       "output_type": "display_data",
       "text": [
        "<IPython.core.display.Javascript at 0x1beaefd0>"
       ]
      },
      {
       "javascript": [
        "$('div#9088ba8a-fbad-4861-82f9-ee122bd51a61').text('840 of 1000');"
       ],
       "metadata": {},
       "output_type": "display_data",
       "text": [
        "<IPython.core.display.Javascript at 0x18cd1eb8>"
       ]
      },
      {
       "javascript": [
        "$('div#9bb72750-2495-4adc-a00a-44b54d4e56a4').text(' 84%');"
       ],
       "metadata": {},
       "output_type": "display_data",
       "text": [
        "<IPython.core.display.Javascript at 0x1beaefd0>"
       ]
      },
      {
       "javascript": [
        "\n",
        "        var $myPB = $(\"div#e0eda126-035c-4451-86b1-b19144d66ee3\")\n",
        "        if ($myPB.hasClass('ui-progressbar')) {\n",
        "            $myPB.progressbar('value', 840);\n",
        "        } else {\n",
        "            $myPB.progressbar({value: 0, max: 1000});\n",
        "        }\n",
        "        "
       ],
       "metadata": {},
       "output_type": "display_data",
       "text": [
        "<IPython.core.display.Javascript at 0x1beaecc0>"
       ]
      },
      {
       "javascript": [
        "$('div#78e39181-13e1-48f9-9621-f444cd250e38').text('ETA:  0:00:00');"
       ],
       "metadata": {},
       "output_type": "display_data",
       "text": [
        "<IPython.core.display.Javascript at 0x1beae630>"
       ]
      },
      {
       "javascript": [
        "$('div#9088ba8a-fbad-4861-82f9-ee122bd51a61').text('850 of 1000');"
       ],
       "metadata": {},
       "output_type": "display_data",
       "text": [
        "<IPython.core.display.Javascript at 0x18cd1eb8>"
       ]
      },
      {
       "javascript": [
        "$('div#9bb72750-2495-4adc-a00a-44b54d4e56a4').text(' 85%');"
       ],
       "metadata": {},
       "output_type": "display_data",
       "text": [
        "<IPython.core.display.Javascript at 0x1beae630>"
       ]
      },
      {
       "javascript": [
        "\n",
        "        var $myPB = $(\"div#e0eda126-035c-4451-86b1-b19144d66ee3\")\n",
        "        if ($myPB.hasClass('ui-progressbar')) {\n",
        "            $myPB.progressbar('value', 850);\n",
        "        } else {\n",
        "            $myPB.progressbar({value: 0, max: 1000});\n",
        "        }\n",
        "        "
       ],
       "metadata": {},
       "output_type": "display_data",
       "text": [
        "<IPython.core.display.Javascript at 0x1beae5f8>"
       ]
      },
      {
       "javascript": [
        "$('div#78e39181-13e1-48f9-9621-f444cd250e38').text('ETA:  0:00:00');"
       ],
       "metadata": {},
       "output_type": "display_data",
       "text": [
        "<IPython.core.display.Javascript at 0x1beaecc0>"
       ]
      },
      {
       "javascript": [
        "$('div#9088ba8a-fbad-4861-82f9-ee122bd51a61').text('860 of 1000');"
       ],
       "metadata": {},
       "output_type": "display_data",
       "text": [
        "<IPython.core.display.Javascript at 0x18cd1eb8>"
       ]
      },
      {
       "javascript": [
        "$('div#9bb72750-2495-4adc-a00a-44b54d4e56a4').text(' 86%');"
       ],
       "metadata": {},
       "output_type": "display_data",
       "text": [
        "<IPython.core.display.Javascript at 0x1beaecc0>"
       ]
      },
      {
       "javascript": [
        "\n",
        "        var $myPB = $(\"div#e0eda126-035c-4451-86b1-b19144d66ee3\")\n",
        "        if ($myPB.hasClass('ui-progressbar')) {\n",
        "            $myPB.progressbar('value', 860);\n",
        "        } else {\n",
        "            $myPB.progressbar({value: 0, max: 1000});\n",
        "        }\n",
        "        "
       ],
       "metadata": {},
       "output_type": "display_data",
       "text": [
        "<IPython.core.display.Javascript at 0x1beae160>"
       ]
      },
      {
       "javascript": [
        "$('div#78e39181-13e1-48f9-9621-f444cd250e38').text('ETA:  0:00:00');"
       ],
       "metadata": {},
       "output_type": "display_data",
       "text": [
        "<IPython.core.display.Javascript at 0x1beae5f8>"
       ]
      },
      {
       "javascript": [
        "$('div#9088ba8a-fbad-4861-82f9-ee122bd51a61').text('870 of 1000');"
       ],
       "metadata": {},
       "output_type": "display_data",
       "text": [
        "<IPython.core.display.Javascript at 0x18cd1eb8>"
       ]
      },
      {
       "javascript": [
        "$('div#9bb72750-2495-4adc-a00a-44b54d4e56a4').text(' 87%');"
       ],
       "metadata": {},
       "output_type": "display_data",
       "text": [
        "<IPython.core.display.Javascript at 0x1beae5f8>"
       ]
      },
      {
       "javascript": [
        "\n",
        "        var $myPB = $(\"div#e0eda126-035c-4451-86b1-b19144d66ee3\")\n",
        "        if ($myPB.hasClass('ui-progressbar')) {\n",
        "            $myPB.progressbar('value', 870);\n",
        "        } else {\n",
        "            $myPB.progressbar({value: 0, max: 1000});\n",
        "        }\n",
        "        "
       ],
       "metadata": {},
       "output_type": "display_data",
       "text": [
        "<IPython.core.display.Javascript at 0x1beae438>"
       ]
      },
      {
       "javascript": [
        "$('div#78e39181-13e1-48f9-9621-f444cd250e38').text('ETA:  0:00:00');"
       ],
       "metadata": {},
       "output_type": "display_data",
       "text": [
        "<IPython.core.display.Javascript at 0x1beae630>"
       ]
      },
      {
       "javascript": [
        "$('div#9088ba8a-fbad-4861-82f9-ee122bd51a61').text('880 of 1000');"
       ],
       "metadata": {},
       "output_type": "display_data",
       "text": [
        "<IPython.core.display.Javascript at 0x18cd1eb8>"
       ]
      },
      {
       "javascript": [
        "$('div#9bb72750-2495-4adc-a00a-44b54d4e56a4').text(' 88%');"
       ],
       "metadata": {},
       "output_type": "display_data",
       "text": [
        "<IPython.core.display.Javascript at 0x1beae630>"
       ]
      },
      {
       "javascript": [
        "\n",
        "        var $myPB = $(\"div#e0eda126-035c-4451-86b1-b19144d66ee3\")\n",
        "        if ($myPB.hasClass('ui-progressbar')) {\n",
        "            $myPB.progressbar('value', 880);\n",
        "        } else {\n",
        "            $myPB.progressbar({value: 0, max: 1000});\n",
        "        }\n",
        "        "
       ],
       "metadata": {},
       "output_type": "display_data",
       "text": [
        "<IPython.core.display.Javascript at 0x1beae7f0>"
       ]
      },
      {
       "javascript": [
        "$('div#78e39181-13e1-48f9-9621-f444cd250e38').text('ETA:  0:00:00');"
       ],
       "metadata": {},
       "output_type": "display_data",
       "text": [
        "<IPython.core.display.Javascript at 0x1beaecc0>"
       ]
      },
      {
       "javascript": [
        "$('div#9088ba8a-fbad-4861-82f9-ee122bd51a61').text('890 of 1000');"
       ],
       "metadata": {},
       "output_type": "display_data",
       "text": [
        "<IPython.core.display.Javascript at 0x18cd1eb8>"
       ]
      },
      {
       "javascript": [
        "$('div#9bb72750-2495-4adc-a00a-44b54d4e56a4').text(' 89%');"
       ],
       "metadata": {},
       "output_type": "display_data",
       "text": [
        "<IPython.core.display.Javascript at 0x1beaecc0>"
       ]
      },
      {
       "javascript": [
        "\n",
        "        var $myPB = $(\"div#e0eda126-035c-4451-86b1-b19144d66ee3\")\n",
        "        if ($myPB.hasClass('ui-progressbar')) {\n",
        "            $myPB.progressbar('value', 890);\n",
        "        } else {\n",
        "            $myPB.progressbar({value: 0, max: 1000});\n",
        "        }\n",
        "        "
       ],
       "metadata": {},
       "output_type": "display_data",
       "text": [
        "<IPython.core.display.Javascript at 0x1beae5f8>"
       ]
      },
      {
       "javascript": [
        "$('div#78e39181-13e1-48f9-9621-f444cd250e38').text('ETA:  0:00:00');"
       ],
       "metadata": {},
       "output_type": "display_data",
       "text": [
        "<IPython.core.display.Javascript at 0x1beae7f0>"
       ]
      },
      {
       "javascript": [
        "$('div#9088ba8a-fbad-4861-82f9-ee122bd51a61').text('900 of 1000');"
       ],
       "metadata": {},
       "output_type": "display_data",
       "text": [
        "<IPython.core.display.Javascript at 0x18cd1eb8>"
       ]
      },
      {
       "javascript": [
        "$('div#9bb72750-2495-4adc-a00a-44b54d4e56a4').text(' 90%');"
       ],
       "metadata": {},
       "output_type": "display_data",
       "text": [
        "<IPython.core.display.Javascript at 0x1beae7f0>"
       ]
      },
      {
       "javascript": [
        "\n",
        "        var $myPB = $(\"div#e0eda126-035c-4451-86b1-b19144d66ee3\")\n",
        "        if ($myPB.hasClass('ui-progressbar')) {\n",
        "            $myPB.progressbar('value', 900);\n",
        "        } else {\n",
        "            $myPB.progressbar({value: 0, max: 1000});\n",
        "        }\n",
        "        "
       ],
       "metadata": {},
       "output_type": "display_data",
       "text": [
        "<IPython.core.display.Javascript at 0x1beae160>"
       ]
      },
      {
       "javascript": [
        "$('div#78e39181-13e1-48f9-9621-f444cd250e38').text('ETA:  0:00:00');"
       ],
       "metadata": {},
       "output_type": "display_data",
       "text": [
        "<IPython.core.display.Javascript at 0x1beae630>"
       ]
      },
      {
       "javascript": [
        "$('div#9088ba8a-fbad-4861-82f9-ee122bd51a61').text('910 of 1000');"
       ],
       "metadata": {},
       "output_type": "display_data",
       "text": [
        "<IPython.core.display.Javascript at 0x18cd1eb8>"
       ]
      },
      {
       "javascript": [
        "$('div#9bb72750-2495-4adc-a00a-44b54d4e56a4').text(' 91%');"
       ],
       "metadata": {},
       "output_type": "display_data",
       "text": [
        "<IPython.core.display.Javascript at 0x1beae630>"
       ]
      },
      {
       "javascript": [
        "\n",
        "        var $myPB = $(\"div#e0eda126-035c-4451-86b1-b19144d66ee3\")\n",
        "        if ($myPB.hasClass('ui-progressbar')) {\n",
        "            $myPB.progressbar('value', 910);\n",
        "        } else {\n",
        "            $myPB.progressbar({value: 0, max: 1000});\n",
        "        }\n",
        "        "
       ],
       "metadata": {},
       "output_type": "display_data",
       "text": [
        "<IPython.core.display.Javascript at 0x1beaecc0>"
       ]
      },
      {
       "javascript": [
        "$('div#78e39181-13e1-48f9-9621-f444cd250e38').text('ETA:  0:00:00');"
       ],
       "metadata": {},
       "output_type": "display_data",
       "text": [
        "<IPython.core.display.Javascript at 0x1beae438>"
       ]
      },
      {
       "javascript": [
        "$('div#9088ba8a-fbad-4861-82f9-ee122bd51a61').text('920 of 1000');"
       ],
       "metadata": {},
       "output_type": "display_data",
       "text": [
        "<IPython.core.display.Javascript at 0x18cd1eb8>"
       ]
      },
      {
       "javascript": [
        "$('div#9bb72750-2495-4adc-a00a-44b54d4e56a4').text(' 92%');"
       ],
       "metadata": {},
       "output_type": "display_data",
       "text": [
        "<IPython.core.display.Javascript at 0x1beae438>"
       ]
      },
      {
       "javascript": [
        "\n",
        "        var $myPB = $(\"div#e0eda126-035c-4451-86b1-b19144d66ee3\")\n",
        "        if ($myPB.hasClass('ui-progressbar')) {\n",
        "            $myPB.progressbar('value', 920);\n",
        "        } else {\n",
        "            $myPB.progressbar({value: 0, max: 1000});\n",
        "        }\n",
        "        "
       ],
       "metadata": {},
       "output_type": "display_data",
       "text": [
        "<IPython.core.display.Javascript at 0x1beaefd0>"
       ]
      },
      {
       "javascript": [
        "$('div#78e39181-13e1-48f9-9621-f444cd250e38').text('ETA:  0:00:00');"
       ],
       "metadata": {},
       "output_type": "display_data",
       "text": [
        "<IPython.core.display.Javascript at 0x1beae7f0>"
       ]
      },
      {
       "javascript": [
        "$('div#9088ba8a-fbad-4861-82f9-ee122bd51a61').text('930 of 1000');"
       ],
       "metadata": {},
       "output_type": "display_data",
       "text": [
        "<IPython.core.display.Javascript at 0x18cd1eb8>"
       ]
      },
      {
       "javascript": [
        "$('div#9bb72750-2495-4adc-a00a-44b54d4e56a4').text(' 93%');"
       ],
       "metadata": {},
       "output_type": "display_data",
       "text": [
        "<IPython.core.display.Javascript at 0x1beae7f0>"
       ]
      },
      {
       "javascript": [
        "\n",
        "        var $myPB = $(\"div#e0eda126-035c-4451-86b1-b19144d66ee3\")\n",
        "        if ($myPB.hasClass('ui-progressbar')) {\n",
        "            $myPB.progressbar('value', 930);\n",
        "        } else {\n",
        "            $myPB.progressbar({value: 0, max: 1000});\n",
        "        }\n",
        "        "
       ],
       "metadata": {},
       "output_type": "display_data",
       "text": [
        "<IPython.core.display.Javascript at 0x1beae5f8>"
       ]
      },
      {
       "javascript": [
        "$('div#78e39181-13e1-48f9-9621-f444cd250e38').text('ETA:  0:00:00');"
       ],
       "metadata": {},
       "output_type": "display_data",
       "text": [
        "<IPython.core.display.Javascript at 0x1beae630>"
       ]
      },
      {
       "javascript": [
        "$('div#9088ba8a-fbad-4861-82f9-ee122bd51a61').text('940 of 1000');"
       ],
       "metadata": {},
       "output_type": "display_data",
       "text": [
        "<IPython.core.display.Javascript at 0x18cd1eb8>"
       ]
      },
      {
       "javascript": [
        "$('div#9bb72750-2495-4adc-a00a-44b54d4e56a4').text(' 94%');"
       ],
       "metadata": {},
       "output_type": "display_data",
       "text": [
        "<IPython.core.display.Javascript at 0x1beae630>"
       ]
      },
      {
       "javascript": [
        "\n",
        "        var $myPB = $(\"div#e0eda126-035c-4451-86b1-b19144d66ee3\")\n",
        "        if ($myPB.hasClass('ui-progressbar')) {\n",
        "            $myPB.progressbar('value', 940);\n",
        "        } else {\n",
        "            $myPB.progressbar({value: 0, max: 1000});\n",
        "        }\n",
        "        "
       ],
       "metadata": {},
       "output_type": "display_data",
       "text": [
        "<IPython.core.display.Javascript at 0x1beae780>"
       ]
      },
      {
       "javascript": [
        "$('div#78e39181-13e1-48f9-9621-f444cd250e38').text('ETA:  0:00:00');"
       ],
       "metadata": {},
       "output_type": "display_data",
       "text": [
        "<IPython.core.display.Javascript at 0x1beae438>"
       ]
      },
      {
       "javascript": [
        "$('div#9088ba8a-fbad-4861-82f9-ee122bd51a61').text('950 of 1000');"
       ],
       "metadata": {},
       "output_type": "display_data",
       "text": [
        "<IPython.core.display.Javascript at 0x18cd1eb8>"
       ]
      },
      {
       "javascript": [
        "$('div#9bb72750-2495-4adc-a00a-44b54d4e56a4').text(' 95%');"
       ],
       "metadata": {},
       "output_type": "display_data",
       "text": [
        "<IPython.core.display.Javascript at 0x1beae438>"
       ]
      },
      {
       "javascript": [
        "\n",
        "        var $myPB = $(\"div#e0eda126-035c-4451-86b1-b19144d66ee3\")\n",
        "        if ($myPB.hasClass('ui-progressbar')) {\n",
        "            $myPB.progressbar('value', 950);\n",
        "        } else {\n",
        "            $myPB.progressbar({value: 0, max: 1000});\n",
        "        }\n",
        "        "
       ],
       "metadata": {},
       "output_type": "display_data",
       "text": [
        "<IPython.core.display.Javascript at 0x1beae160>"
       ]
      },
      {
       "javascript": [
        "$('div#78e39181-13e1-48f9-9621-f444cd250e38').text('ETA:  0:00:00');"
       ],
       "metadata": {},
       "output_type": "display_data",
       "text": [
        "<IPython.core.display.Javascript at 0x1beae7f0>"
       ]
      },
      {
       "javascript": [
        "$('div#9088ba8a-fbad-4861-82f9-ee122bd51a61').text('960 of 1000');"
       ],
       "metadata": {},
       "output_type": "display_data",
       "text": [
        "<IPython.core.display.Javascript at 0x18cd1eb8>"
       ]
      },
      {
       "javascript": [
        "$('div#9bb72750-2495-4adc-a00a-44b54d4e56a4').text(' 96%');"
       ],
       "metadata": {},
       "output_type": "display_data",
       "text": [
        "<IPython.core.display.Javascript at 0x1beae7f0>"
       ]
      },
      {
       "javascript": [
        "\n",
        "        var $myPB = $(\"div#e0eda126-035c-4451-86b1-b19144d66ee3\")\n",
        "        if ($myPB.hasClass('ui-progressbar')) {\n",
        "            $myPB.progressbar('value', 960);\n",
        "        } else {\n",
        "            $myPB.progressbar({value: 0, max: 1000});\n",
        "        }\n",
        "        "
       ],
       "metadata": {},
       "output_type": "display_data",
       "text": [
        "<IPython.core.display.Javascript at 0x1beaecc0>"
       ]
      },
      {
       "javascript": [
        "$('div#78e39181-13e1-48f9-9621-f444cd250e38').text('ETA:  0:00:00');"
       ],
       "metadata": {},
       "output_type": "display_data",
       "text": [
        "<IPython.core.display.Javascript at 0x1beae630>"
       ]
      },
      {
       "javascript": [
        "$('div#9088ba8a-fbad-4861-82f9-ee122bd51a61').text('970 of 1000');"
       ],
       "metadata": {},
       "output_type": "display_data",
       "text": [
        "<IPython.core.display.Javascript at 0x18cd1eb8>"
       ]
      },
      {
       "javascript": [
        "$('div#9bb72750-2495-4adc-a00a-44b54d4e56a4').text(' 97%');"
       ],
       "metadata": {},
       "output_type": "display_data",
       "text": [
        "<IPython.core.display.Javascript at 0x1beae5f8>"
       ]
      },
      {
       "javascript": [
        "\n",
        "        var $myPB = $(\"div#e0eda126-035c-4451-86b1-b19144d66ee3\")\n",
        "        if ($myPB.hasClass('ui-progressbar')) {\n",
        "            $myPB.progressbar('value', 970);\n",
        "        } else {\n",
        "            $myPB.progressbar({value: 0, max: 1000});\n",
        "        }\n",
        "        "
       ],
       "metadata": {},
       "output_type": "display_data",
       "text": [
        "<IPython.core.display.Javascript at 0x1beae7f0>"
       ]
      },
      {
       "javascript": [
        "$('div#78e39181-13e1-48f9-9621-f444cd250e38').text('ETA:  0:00:00');"
       ],
       "metadata": {},
       "output_type": "display_data",
       "text": [
        "<IPython.core.display.Javascript at 0x18cd1eb8>"
       ]
      },
      {
       "javascript": [
        "$('div#9088ba8a-fbad-4861-82f9-ee122bd51a61').text('980 of 1000');"
       ],
       "metadata": {},
       "output_type": "display_data",
       "text": [
        "<IPython.core.display.Javascript at 0x1beae7f0>"
       ]
      },
      {
       "javascript": [
        "$('div#9bb72750-2495-4adc-a00a-44b54d4e56a4').text(' 98%');"
       ],
       "metadata": {},
       "output_type": "display_data",
       "text": [
        "<IPython.core.display.Javascript at 0x1beae780>"
       ]
      },
      {
       "javascript": [
        "\n",
        "        var $myPB = $(\"div#e0eda126-035c-4451-86b1-b19144d66ee3\")\n",
        "        if ($myPB.hasClass('ui-progressbar')) {\n",
        "            $myPB.progressbar('value', 980);\n",
        "        } else {\n",
        "            $myPB.progressbar({value: 0, max: 1000});\n",
        "        }\n",
        "        "
       ],
       "metadata": {},
       "output_type": "display_data",
       "text": [
        "<IPython.core.display.Javascript at 0x1beae160>"
       ]
      },
      {
       "javascript": [
        "$('div#78e39181-13e1-48f9-9621-f444cd250e38').text('ETA:  0:00:00');"
       ],
       "metadata": {},
       "output_type": "display_data",
       "text": [
        "<IPython.core.display.Javascript at 0x18cd1eb8>"
       ]
      },
      {
       "javascript": [
        "$('div#9088ba8a-fbad-4861-82f9-ee122bd51a61').text('990 of 1000');"
       ],
       "metadata": {},
       "output_type": "display_data",
       "text": [
        "<IPython.core.display.Javascript at 0x1beae160>"
       ]
      },
      {
       "javascript": [
        "$('div#9bb72750-2495-4adc-a00a-44b54d4e56a4').text(' 99%');"
       ],
       "metadata": {},
       "output_type": "display_data",
       "text": [
        "<IPython.core.display.Javascript at 0x1beaefd0>"
       ]
      },
      {
       "javascript": [
        "\n",
        "        var $myPB = $(\"div#e0eda126-035c-4451-86b1-b19144d66ee3\")\n",
        "        if ($myPB.hasClass('ui-progressbar')) {\n",
        "            $myPB.progressbar('value', 990);\n",
        "        } else {\n",
        "            $myPB.progressbar({value: 0, max: 1000});\n",
        "        }\n",
        "        "
       ],
       "metadata": {},
       "output_type": "display_data",
       "text": [
        "<IPython.core.display.Javascript at 0x1beaee10>"
       ]
      },
      {
       "javascript": [
        "$('div#78e39181-13e1-48f9-9621-f444cd250e38').text('ETA:  0:00:00');"
       ],
       "metadata": {},
       "output_type": "display_data",
       "text": [
        "<IPython.core.display.Javascript at 0x18cd1eb8>"
       ]
      },
      {
       "javascript": [
        "$('div#9088ba8a-fbad-4861-82f9-ee122bd51a61').text('1000 of 1000');"
       ],
       "metadata": {},
       "output_type": "display_data",
       "text": [
        "<IPython.core.display.Javascript at 0x1beaee10>"
       ]
      },
      {
       "javascript": [
        "$('div#9bb72750-2495-4adc-a00a-44b54d4e56a4').text('100%');"
       ],
       "metadata": {},
       "output_type": "display_data",
       "text": [
        "<IPython.core.display.Javascript at 0x1beae438>"
       ]
      },
      {
       "javascript": [
        "\n",
        "        var $myPB = $(\"div#e0eda126-035c-4451-86b1-b19144d66ee3\")\n",
        "        if ($myPB.hasClass('ui-progressbar')) {\n",
        "            $myPB.progressbar('value', 1000);\n",
        "        } else {\n",
        "            $myPB.progressbar({value: 0, max: 1000});\n",
        "        }\n",
        "        "
       ],
       "metadata": {},
       "output_type": "display_data",
       "text": [
        "<IPython.core.display.Javascript at 0x1beae160>"
       ]
      },
      {
       "javascript": [
        "$('div#78e39181-13e1-48f9-9621-f444cd250e38').text('ETA:  0:00:00');"
       ],
       "metadata": {},
       "output_type": "display_data",
       "text": [
        "<IPython.core.display.Javascript at 0x18cd1eb8>"
       ]
      },
      {
       "javascript": [
        "$('div#9088ba8a-fbad-4861-82f9-ee122bd51a61').text('1000 of 1000');"
       ],
       "metadata": {},
       "output_type": "display_data",
       "text": [
        "<IPython.core.display.Javascript at 0x15144710>"
       ]
      },
      {
       "javascript": [
        "$('div#9bb72750-2495-4adc-a00a-44b54d4e56a4').text('100%');"
       ],
       "metadata": {},
       "output_type": "display_data",
       "text": [
        "<IPython.core.display.Javascript at 0x1beae160>"
       ]
      },
      {
       "javascript": [
        "\n",
        "        var $myPB = $(\"div#e0eda126-035c-4451-86b1-b19144d66ee3\")\n",
        "        if ($myPB.hasClass('ui-progressbar')) {\n",
        "            $myPB.progressbar('value', 1000);\n",
        "        } else {\n",
        "            $myPB.progressbar({value: 0, max: 1000});\n",
        "        }\n",
        "        "
       ],
       "metadata": {},
       "output_type": "display_data",
       "text": [
        "<IPython.core.display.Javascript at 0x1beaee10>"
       ]
      },
      {
       "javascript": [
        "$('div#78e39181-13e1-48f9-9621-f444cd250e38').text('Time: 0:00:00');"
       ],
       "metadata": {},
       "output_type": "display_data",
       "text": [
        "<IPython.core.display.Javascript at 0x15144710>"
       ]
      },
      {
       "javascript": [
        "var element = document.getElementById('0df12213-e960-42d1-a8a8-a80b72657395');\n",
        "                    var parent = element.parentNode\n",
        "                    parent.removeChild(element);\n",
        "                    parent.parentElement.remove();"
       ],
       "metadata": {},
       "output_type": "display_data",
       "text": [
        "<IPython.core.display.Javascript at 0x1b33d9e8>"
       ]
      },
      {
       "javascript": [
        "this.cleanProgressBar(['0df12213-e960-42d1-a8a8-a80b72657395', '9088ba8a-fbad-4861-82f9-ee122bd51a61', '9bb72750-2495-4adc-a00a-44b54d4e56a4', 'e0eda126-035c-4451-86b1-b19144d66ee3', '78e39181-13e1-48f9-9621-f444cd250e38'])"
       ],
       "metadata": {},
       "output_type": "display_data",
       "text": [
        "<IPython.core.display.Javascript at 0x18cd1eb8>"
       ]
      },
      {
       "javascript": [
        "//ff6ce68d-a780-4940-ad64-f6364548c390\n",
        "$(\"head\").append(\"<style> td.pb_widget {     width: auto; } td.pb_widget_fill {     width: 100%; } table.pb {     font-family: monospace;     border: 0;     margin: 0; } table.pb tr { border: 0; } table.pb td {     white-space: nowrap;     border: 0; } div.pb {     border: 1px solid #ddd;     border-radius: 3px; } div.pb_bar {     height: 1.5em; } </style>\")"
       ],
       "metadata": {},
       "output_type": "display_data",
       "text": [
        "<IPython.core.display.Javascript at 0x16f974e0>"
       ]
      },
      {
       "javascript": [
        "\n",
        "                  // ff6ce68d-a780-4940-ad64-f6364548c390 -- used to remove this code blob in the end\n",
        "                  IPython.OutputArea.prototype.cleanProgressBar = function(uuids) {\n",
        "                      // filter by uuid-strings \n",
        "                      var myfilter = function(output) { \n",
        "                          var nuids = uuids.length;\n",
        "                          for (var i=0; i<nuids; i++) {\n",
        "                              if (output.hasOwnProperty('html')) {\n",
        "                                  if (output.html.indexOf(uuids[i]) != -1) {\n",
        "                                      return false;\n",
        "                                  }\n",
        "                              }\n",
        "                              if (output.hasOwnProperty('javascript')) {\n",
        "                                  if (output.javascript.indexOf(uuids[i]) != -1) {\n",
        "                                      return false;\n",
        "                                  }\n",
        "                              }\n",
        "                          }\n",
        "                          // keep all others\n",
        "                          return true;\n",
        "                      };\n",
        "\n",
        "                      // Filter the ouputs\n",
        "                      this.outputs = this.outputs.filter(myfilter);\n",
        "                };\n",
        "                "
       ],
       "metadata": {},
       "output_type": "display_data",
       "text": [
        "<IPython.core.display.Javascript at 0x16b46978>"
       ]
      },
      {
       "html": [
        "<div class=\"pb\" id=\"ff6ce68d-a780-4940-ad64-f6364548c390\"><table class=\"pb ui-widget\"><tr>\n",
        "<td class=\"pb_widget\">Building Dictionary</td>\n",
        "<td class=\"pb_widget\"><div id=\"ed80dfa0-4eab-4a88-aad9-471cbb5567ee\">0 of 1000</div></td>\n",
        "<td class=\"pb_widget\"><div id=\"ab03fbdf-5fe8-4cf1-8235-a244abb06b67\">  0%</div></td>\n",
        "<td class=\"pb_widget_fill\">\n",
        "        <div class=\"pb_bar\" id=\"680e2a08-a315-4b77-9bb2-76261339087c\"></div>\n",
        "        <script type=\"text/javascript\">\n",
        "            $(\"div#680e2a08-a315-4b77-9bb2-76261339087c\").progressbar({value: 0, max: 1000});\n",
        "        </script>\n",
        "        </td>\n",
        "<td class=\"pb_widget\"><div id=\"463450b6-6c1d-42fc-b0a3-af33f3d56193\">ETA:  --:--:--</div></td>\n",
        "</tr></table><div>"
       ],
       "metadata": {},
       "output_type": "display_data",
       "text": [
        "<IPython.core.display.HTML at 0x1beae518>"
       ]
      },
      {
       "output_type": "stream",
       "stream": "stdout",
       "text": [
        "get_ner_dictionary_for_analysis() Started...\n"
       ]
      },
      {
       "javascript": [
        "$('div#ed80dfa0-4eab-4a88-aad9-471cbb5567ee').text('10 of 1000');"
       ],
       "metadata": {},
       "output_type": "display_data",
       "text": [
        "<IPython.core.display.Javascript at 0x18cd1eb8>"
       ]
      },
      {
       "javascript": [
        "$('div#ab03fbdf-5fe8-4cf1-8235-a244abb06b67').text('  1%');"
       ],
       "metadata": {},
       "output_type": "display_data",
       "text": [
        "<IPython.core.display.Javascript at 0x15144710>"
       ]
      },
      {
       "javascript": [
        "\n",
        "        var $myPB = $(\"div#680e2a08-a315-4b77-9bb2-76261339087c\")\n",
        "        if ($myPB.hasClass('ui-progressbar')) {\n",
        "            $myPB.progressbar('value', 10);\n",
        "        } else {\n",
        "            $myPB.progressbar({value: 0, max: 1000});\n",
        "        }\n",
        "        "
       ],
       "metadata": {},
       "output_type": "display_data",
       "text": [
        "<IPython.core.display.Javascript at 0x1b33d9e8>"
       ]
      },
      {
       "javascript": [
        "$('div#463450b6-6c1d-42fc-b0a3-af33f3d56193').text('ETA:  0:00:01');"
       ],
       "metadata": {},
       "output_type": "display_data",
       "text": [
        "<IPython.core.display.Javascript at 0x1b33d9e8>"
       ]
      },
      {
       "javascript": [
        "$('div#ed80dfa0-4eab-4a88-aad9-471cbb5567ee').text('20 of 1000');"
       ],
       "metadata": {},
       "output_type": "display_data",
       "text": [
        "<IPython.core.display.Javascript at 0x15144710>"
       ]
      },
      {
       "javascript": [
        "$('div#ab03fbdf-5fe8-4cf1-8235-a244abb06b67').text('  2%');"
       ],
       "metadata": {},
       "output_type": "display_data",
       "text": [
        "<IPython.core.display.Javascript at 0x18cd1eb8>"
       ]
      },
      {
       "javascript": [
        "\n",
        "        var $myPB = $(\"div#680e2a08-a315-4b77-9bb2-76261339087c\")\n",
        "        if ($myPB.hasClass('ui-progressbar')) {\n",
        "            $myPB.progressbar('value', 20);\n",
        "        } else {\n",
        "            $myPB.progressbar({value: 0, max: 1000});\n",
        "        }\n",
        "        "
       ],
       "metadata": {},
       "output_type": "display_data",
       "text": [
        "<IPython.core.display.Javascript at 0x1beaea58>"
       ]
      },
      {
       "javascript": [
        "$('div#463450b6-6c1d-42fc-b0a3-af33f3d56193').text('ETA:  0:00:01');"
       ],
       "metadata": {},
       "output_type": "display_data",
       "text": [
        "<IPython.core.display.Javascript at 0x18cd1eb8>"
       ]
      },
      {
       "javascript": [
        "$('div#ed80dfa0-4eab-4a88-aad9-471cbb5567ee').text('30 of 1000');"
       ],
       "metadata": {},
       "output_type": "display_data",
       "text": [
        "<IPython.core.display.Javascript at 0x15144710>"
       ]
      },
      {
       "javascript": [
        "$('div#ab03fbdf-5fe8-4cf1-8235-a244abb06b67').text('  3%');"
       ],
       "metadata": {},
       "output_type": "display_data",
       "text": [
        "<IPython.core.display.Javascript at 0x1b33d9e8>"
       ]
      },
      {
       "javascript": [
        "\n",
        "        var $myPB = $(\"div#680e2a08-a315-4b77-9bb2-76261339087c\")\n",
        "        if ($myPB.hasClass('ui-progressbar')) {\n",
        "            $myPB.progressbar('value', 30);\n",
        "        } else {\n",
        "            $myPB.progressbar({value: 0, max: 1000});\n",
        "        }\n",
        "        "
       ],
       "metadata": {},
       "output_type": "display_data",
       "text": [
        "<IPython.core.display.Javascript at 0x1beae048>"
       ]
      },
      {
       "javascript": [
        "$('div#463450b6-6c1d-42fc-b0a3-af33f3d56193').text('ETA:  0:00:03');"
       ],
       "metadata": {},
       "output_type": "display_data",
       "text": [
        "<IPython.core.display.Javascript at 0x1b33d9e8>"
       ]
      },
      {
       "javascript": [
        "$('div#ed80dfa0-4eab-4a88-aad9-471cbb5567ee').text('40 of 1000');"
       ],
       "metadata": {},
       "output_type": "display_data",
       "text": [
        "<IPython.core.display.Javascript at 0x15144710>"
       ]
      },
      {
       "javascript": [
        "$('div#ab03fbdf-5fe8-4cf1-8235-a244abb06b67').text('  4%');"
       ],
       "metadata": {},
       "output_type": "display_data",
       "text": [
        "<IPython.core.display.Javascript at 0x18cd1eb8>"
       ]
      },
      {
       "javascript": [
        "\n",
        "        var $myPB = $(\"div#680e2a08-a315-4b77-9bb2-76261339087c\")\n",
        "        if ($myPB.hasClass('ui-progressbar')) {\n",
        "            $myPB.progressbar('value', 40);\n",
        "        } else {\n",
        "            $myPB.progressbar({value: 0, max: 1000});\n",
        "        }\n",
        "        "
       ],
       "metadata": {},
       "output_type": "display_data",
       "text": [
        "<IPython.core.display.Javascript at 0x1beae048>"
       ]
      },
      {
       "javascript": [
        "$('div#463450b6-6c1d-42fc-b0a3-af33f3d56193').text('ETA:  0:00:03');"
       ],
       "metadata": {},
       "output_type": "display_data",
       "text": [
        "<IPython.core.display.Javascript at 0x18cd1eb8>"
       ]
      },
      {
       "javascript": [
        "$('div#ed80dfa0-4eab-4a88-aad9-471cbb5567ee').text('50 of 1000');"
       ],
       "metadata": {},
       "output_type": "display_data",
       "text": [
        "<IPython.core.display.Javascript at 0x15144710>"
       ]
      },
      {
       "javascript": [
        "$('div#ab03fbdf-5fe8-4cf1-8235-a244abb06b67').text('  5%');"
       ],
       "metadata": {},
       "output_type": "display_data",
       "text": [
        "<IPython.core.display.Javascript at 0x1b33d9e8>"
       ]
      },
      {
       "javascript": [
        "\n",
        "        var $myPB = $(\"div#680e2a08-a315-4b77-9bb2-76261339087c\")\n",
        "        if ($myPB.hasClass('ui-progressbar')) {\n",
        "            $myPB.progressbar('value', 50);\n",
        "        } else {\n",
        "            $myPB.progressbar({value: 0, max: 1000});\n",
        "        }\n",
        "        "
       ],
       "metadata": {},
       "output_type": "display_data",
       "text": [
        "<IPython.core.display.Javascript at 0x1beaecc0>"
       ]
      },
      {
       "javascript": [
        "$('div#463450b6-6c1d-42fc-b0a3-af33f3d56193').text('ETA:  0:00:04');"
       ],
       "metadata": {},
       "output_type": "display_data",
       "text": [
        "<IPython.core.display.Javascript at 0x1b33d9e8>"
       ]
      },
      {
       "javascript": [
        "$('div#ed80dfa0-4eab-4a88-aad9-471cbb5567ee').text('60 of 1000');"
       ],
       "metadata": {},
       "output_type": "display_data",
       "text": [
        "<IPython.core.display.Javascript at 0x15144710>"
       ]
      },
      {
       "javascript": [
        "$('div#ab03fbdf-5fe8-4cf1-8235-a244abb06b67').text('  6%');"
       ],
       "metadata": {},
       "output_type": "display_data",
       "text": [
        "<IPython.core.display.Javascript at 0x18cd1eb8>"
       ]
      },
      {
       "javascript": [
        "\n",
        "        var $myPB = $(\"div#680e2a08-a315-4b77-9bb2-76261339087c\")\n",
        "        if ($myPB.hasClass('ui-progressbar')) {\n",
        "            $myPB.progressbar('value', 60);\n",
        "        } else {\n",
        "            $myPB.progressbar({value: 0, max: 1000});\n",
        "        }\n",
        "        "
       ],
       "metadata": {},
       "output_type": "display_data",
       "text": [
        "<IPython.core.display.Javascript at 0x1beaecc0>"
       ]
      },
      {
       "javascript": [
        "$('div#463450b6-6c1d-42fc-b0a3-af33f3d56193').text('ETA:  0:00:04');"
       ],
       "metadata": {},
       "output_type": "display_data",
       "text": [
        "<IPython.core.display.Javascript at 0x18cd1eb8>"
       ]
      },
      {
       "javascript": [
        "$('div#ed80dfa0-4eab-4a88-aad9-471cbb5567ee').text('70 of 1000');"
       ],
       "metadata": {},
       "output_type": "display_data",
       "text": [
        "<IPython.core.display.Javascript at 0x15144710>"
       ]
      },
      {
       "javascript": [
        "$('div#ab03fbdf-5fe8-4cf1-8235-a244abb06b67').text('  7%');"
       ],
       "metadata": {},
       "output_type": "display_data",
       "text": [
        "<IPython.core.display.Javascript at 0x1b33d9e8>"
       ]
      },
      {
       "javascript": [
        "\n",
        "        var $myPB = $(\"div#680e2a08-a315-4b77-9bb2-76261339087c\")\n",
        "        if ($myPB.hasClass('ui-progressbar')) {\n",
        "            $myPB.progressbar('value', 70);\n",
        "        } else {\n",
        "            $myPB.progressbar({value: 0, max: 1000});\n",
        "        }\n",
        "        "
       ],
       "metadata": {},
       "output_type": "display_data",
       "text": [
        "<IPython.core.display.Javascript at 0x1beae630>"
       ]
      },
      {
       "javascript": [
        "$('div#463450b6-6c1d-42fc-b0a3-af33f3d56193').text('ETA:  0:00:04');"
       ],
       "metadata": {},
       "output_type": "display_data",
       "text": [
        "<IPython.core.display.Javascript at 0x1b33d9e8>"
       ]
      },
      {
       "javascript": [
        "$('div#ed80dfa0-4eab-4a88-aad9-471cbb5567ee').text('80 of 1000');"
       ],
       "metadata": {},
       "output_type": "display_data",
       "text": [
        "<IPython.core.display.Javascript at 0x15144710>"
       ]
      },
      {
       "javascript": [
        "$('div#ab03fbdf-5fe8-4cf1-8235-a244abb06b67').text('  8%');"
       ],
       "metadata": {},
       "output_type": "display_data",
       "text": [
        "<IPython.core.display.Javascript at 0x18cd1eb8>"
       ]
      },
      {
       "javascript": [
        "\n",
        "        var $myPB = $(\"div#680e2a08-a315-4b77-9bb2-76261339087c\")\n",
        "        if ($myPB.hasClass('ui-progressbar')) {\n",
        "            $myPB.progressbar('value', 80);\n",
        "        } else {\n",
        "            $myPB.progressbar({value: 0, max: 1000});\n",
        "        }\n",
        "        "
       ],
       "metadata": {},
       "output_type": "display_data",
       "text": [
        "<IPython.core.display.Javascript at 0x1beae5c0>"
       ]
      },
      {
       "javascript": [
        "$('div#463450b6-6c1d-42fc-b0a3-af33f3d56193').text('ETA:  0:00:04');"
       ],
       "metadata": {},
       "output_type": "display_data",
       "text": [
        "<IPython.core.display.Javascript at 0x18cd1eb8>"
       ]
      },
      {
       "javascript": [
        "$('div#ed80dfa0-4eab-4a88-aad9-471cbb5567ee').text('90 of 1000');"
       ],
       "metadata": {},
       "output_type": "display_data",
       "text": [
        "<IPython.core.display.Javascript at 0x15144710>"
       ]
      },
      {
       "javascript": [
        "$('div#ab03fbdf-5fe8-4cf1-8235-a244abb06b67').text('  9%');"
       ],
       "metadata": {},
       "output_type": "display_data",
       "text": [
        "<IPython.core.display.Javascript at 0x1b33d9e8>"
       ]
      },
      {
       "javascript": [
        "\n",
        "        var $myPB = $(\"div#680e2a08-a315-4b77-9bb2-76261339087c\")\n",
        "        if ($myPB.hasClass('ui-progressbar')) {\n",
        "            $myPB.progressbar('value', 90);\n",
        "        } else {\n",
        "            $myPB.progressbar({value: 0, max: 1000});\n",
        "        }\n",
        "        "
       ],
       "metadata": {},
       "output_type": "display_data",
       "text": [
        "<IPython.core.display.Javascript at 0x1beae5c0>"
       ]
      },
      {
       "javascript": [
        "$('div#463450b6-6c1d-42fc-b0a3-af33f3d56193').text('ETA:  0:00:05');"
       ],
       "metadata": {},
       "output_type": "display_data",
       "text": [
        "<IPython.core.display.Javascript at 0x1b33d9e8>"
       ]
      },
      {
       "javascript": [
        "$('div#ed80dfa0-4eab-4a88-aad9-471cbb5567ee').text('100 of 1000');"
       ],
       "metadata": {},
       "output_type": "display_data",
       "text": [
        "<IPython.core.display.Javascript at 0x15144710>"
       ]
      },
      {
       "javascript": [
        "$('div#ab03fbdf-5fe8-4cf1-8235-a244abb06b67').text(' 10%');"
       ],
       "metadata": {},
       "output_type": "display_data",
       "text": [
        "<IPython.core.display.Javascript at 0x18cd1eb8>"
       ]
      },
      {
       "javascript": [
        "\n",
        "        var $myPB = $(\"div#680e2a08-a315-4b77-9bb2-76261339087c\")\n",
        "        if ($myPB.hasClass('ui-progressbar')) {\n",
        "            $myPB.progressbar('value', 100);\n",
        "        } else {\n",
        "            $myPB.progressbar({value: 0, max: 1000});\n",
        "        }\n",
        "        "
       ],
       "metadata": {},
       "output_type": "display_data",
       "text": [
        "<IPython.core.display.Javascript at 0x1beae5c0>"
       ]
      },
      {
       "javascript": [
        "$('div#463450b6-6c1d-42fc-b0a3-af33f3d56193').text('ETA:  0:00:05');"
       ],
       "metadata": {},
       "output_type": "display_data",
       "text": [
        "<IPython.core.display.Javascript at 0x18cd1eb8>"
       ]
      },
      {
       "javascript": [
        "$('div#ed80dfa0-4eab-4a88-aad9-471cbb5567ee').text('110 of 1000');"
       ],
       "metadata": {},
       "output_type": "display_data",
       "text": [
        "<IPython.core.display.Javascript at 0x15144710>"
       ]
      },
      {
       "javascript": [
        "$('div#ab03fbdf-5fe8-4cf1-8235-a244abb06b67').text(' 11%');"
       ],
       "metadata": {},
       "output_type": "display_data",
       "text": [
        "<IPython.core.display.Javascript at 0x1b33d9e8>"
       ]
      },
      {
       "javascript": [
        "\n",
        "        var $myPB = $(\"div#680e2a08-a315-4b77-9bb2-76261339087c\")\n",
        "        if ($myPB.hasClass('ui-progressbar')) {\n",
        "            $myPB.progressbar('value', 110);\n",
        "        } else {\n",
        "            $myPB.progressbar({value: 0, max: 1000});\n",
        "        }\n",
        "        "
       ],
       "metadata": {},
       "output_type": "display_data",
       "text": [
        "<IPython.core.display.Javascript at 0x1beae5c0>"
       ]
      },
      {
       "javascript": [
        "$('div#463450b6-6c1d-42fc-b0a3-af33f3d56193').text('ETA:  0:00:05');"
       ],
       "metadata": {},
       "output_type": "display_data",
       "text": [
        "<IPython.core.display.Javascript at 0x15144710>"
       ]
      },
      {
       "javascript": [
        "$('div#ed80dfa0-4eab-4a88-aad9-471cbb5567ee').text('120 of 1000');"
       ],
       "metadata": {},
       "output_type": "display_data",
       "text": [
        "<IPython.core.display.Javascript at 0x18cd1eb8>"
       ]
      },
      {
       "javascript": [
        "$('div#ab03fbdf-5fe8-4cf1-8235-a244abb06b67').text(' 12%');"
       ],
       "metadata": {},
       "output_type": "display_data",
       "text": [
        "<IPython.core.display.Javascript at 0x1b33d9e8>"
       ]
      },
      {
       "javascript": [
        "\n",
        "        var $myPB = $(\"div#680e2a08-a315-4b77-9bb2-76261339087c\")\n",
        "        if ($myPB.hasClass('ui-progressbar')) {\n",
        "            $myPB.progressbar('value', 120);\n",
        "        } else {\n",
        "            $myPB.progressbar({value: 0, max: 1000});\n",
        "        }\n",
        "        "
       ],
       "metadata": {},
       "output_type": "display_data",
       "text": [
        "<IPython.core.display.Javascript at 0x1b33d9e8>"
       ]
      },
      {
       "javascript": [
        "$('div#463450b6-6c1d-42fc-b0a3-af33f3d56193').text('ETA:  0:00:05');"
       ],
       "metadata": {},
       "output_type": "display_data",
       "text": [
        "<IPython.core.display.Javascript at 0x18cd1eb8>"
       ]
      },
      {
       "javascript": [
        "$('div#ed80dfa0-4eab-4a88-aad9-471cbb5567ee').text('130 of 1000');"
       ],
       "metadata": {},
       "output_type": "display_data",
       "text": [
        "<IPython.core.display.Javascript at 0x15144710>"
       ]
      },
      {
       "javascript": [
        "$('div#ab03fbdf-5fe8-4cf1-8235-a244abb06b67').text(' 13%');"
       ],
       "metadata": {},
       "output_type": "display_data",
       "text": [
        "<IPython.core.display.Javascript at 0x1beae630>"
       ]
      },
      {
       "javascript": [
        "\n",
        "        var $myPB = $(\"div#680e2a08-a315-4b77-9bb2-76261339087c\")\n",
        "        if ($myPB.hasClass('ui-progressbar')) {\n",
        "            $myPB.progressbar('value', 130);\n",
        "        } else {\n",
        "            $myPB.progressbar({value: 0, max: 1000});\n",
        "        }\n",
        "        "
       ],
       "metadata": {},
       "output_type": "display_data",
       "text": [
        "<IPython.core.display.Javascript at 0x15144710>"
       ]
      },
      {
       "javascript": [
        "$('div#463450b6-6c1d-42fc-b0a3-af33f3d56193').text('ETA:  0:00:06');"
       ],
       "metadata": {},
       "output_type": "display_data",
       "text": [
        "<IPython.core.display.Javascript at 0x18cd1eb8>"
       ]
      },
      {
       "javascript": [
        "$('div#ed80dfa0-4eab-4a88-aad9-471cbb5567ee').text('140 of 1000');"
       ],
       "metadata": {},
       "output_type": "display_data",
       "text": [
        "<IPython.core.display.Javascript at 0x1b33d9e8>"
       ]
      },
      {
       "javascript": [
        "$('div#ab03fbdf-5fe8-4cf1-8235-a244abb06b67').text(' 14%');"
       ],
       "metadata": {},
       "output_type": "display_data",
       "text": [
        "<IPython.core.display.Javascript at 0x1beae518>"
       ]
      },
      {
       "javascript": [
        "\n",
        "        var $myPB = $(\"div#680e2a08-a315-4b77-9bb2-76261339087c\")\n",
        "        if ($myPB.hasClass('ui-progressbar')) {\n",
        "            $myPB.progressbar('value', 140);\n",
        "        } else {\n",
        "            $myPB.progressbar({value: 0, max: 1000});\n",
        "        }\n",
        "        "
       ],
       "metadata": {},
       "output_type": "display_data",
       "text": [
        "<IPython.core.display.Javascript at 0x1b33d9e8>"
       ]
      },
      {
       "javascript": [
        "$('div#463450b6-6c1d-42fc-b0a3-af33f3d56193').text('ETA:  0:00:06');"
       ],
       "metadata": {},
       "output_type": "display_data",
       "text": [
        "<IPython.core.display.Javascript at 0x18cd1eb8>"
       ]
      },
      {
       "javascript": [
        "$('div#ed80dfa0-4eab-4a88-aad9-471cbb5567ee').text('150 of 1000');"
       ],
       "metadata": {},
       "output_type": "display_data",
       "text": [
        "<IPython.core.display.Javascript at 0x15144710>"
       ]
      },
      {
       "javascript": [
        "$('div#ab03fbdf-5fe8-4cf1-8235-a244abb06b67').text(' 15%');"
       ],
       "metadata": {},
       "output_type": "display_data",
       "text": [
        "<IPython.core.display.Javascript at 0x1beae518>"
       ]
      },
      {
       "javascript": [
        "\n",
        "        var $myPB = $(\"div#680e2a08-a315-4b77-9bb2-76261339087c\")\n",
        "        if ($myPB.hasClass('ui-progressbar')) {\n",
        "            $myPB.progressbar('value', 150);\n",
        "        } else {\n",
        "            $myPB.progressbar({value: 0, max: 1000});\n",
        "        }\n",
        "        "
       ],
       "metadata": {},
       "output_type": "display_data",
       "text": [
        "<IPython.core.display.Javascript at 0x15144710>"
       ]
      },
      {
       "javascript": [
        "$('div#463450b6-6c1d-42fc-b0a3-af33f3d56193').text('ETA:  0:00:06');"
       ],
       "metadata": {},
       "output_type": "display_data",
       "text": [
        "<IPython.core.display.Javascript at 0x18cd1eb8>"
       ]
      },
      {
       "javascript": [
        "$('div#ed80dfa0-4eab-4a88-aad9-471cbb5567ee').text('160 of 1000');"
       ],
       "metadata": {},
       "output_type": "display_data",
       "text": [
        "<IPython.core.display.Javascript at 0x1b33d9e8>"
       ]
      },
      {
       "javascript": [
        "$('div#ab03fbdf-5fe8-4cf1-8235-a244abb06b67').text(' 16%');"
       ],
       "metadata": {},
       "output_type": "display_data",
       "text": [
        "<IPython.core.display.Javascript at 0x1beae048>"
       ]
      },
      {
       "javascript": [
        "\n",
        "        var $myPB = $(\"div#680e2a08-a315-4b77-9bb2-76261339087c\")\n",
        "        if ($myPB.hasClass('ui-progressbar')) {\n",
        "            $myPB.progressbar('value', 160);\n",
        "        } else {\n",
        "            $myPB.progressbar({value: 0, max: 1000});\n",
        "        }\n",
        "        "
       ],
       "metadata": {},
       "output_type": "display_data",
       "text": [
        "<IPython.core.display.Javascript at 0x1b33d9e8>"
       ]
      },
      {
       "javascript": [
        "$('div#463450b6-6c1d-42fc-b0a3-af33f3d56193').text('ETA:  0:00:06');"
       ],
       "metadata": {},
       "output_type": "display_data",
       "text": [
        "<IPython.core.display.Javascript at 0x18cd1eb8>"
       ]
      },
      {
       "javascript": [
        "$('div#ed80dfa0-4eab-4a88-aad9-471cbb5567ee').text('170 of 1000');"
       ],
       "metadata": {},
       "output_type": "display_data",
       "text": [
        "<IPython.core.display.Javascript at 0x15144710>"
       ]
      },
      {
       "javascript": [
        "$('div#ab03fbdf-5fe8-4cf1-8235-a244abb06b67').text(' 17%');"
       ],
       "metadata": {},
       "output_type": "display_data",
       "text": [
        "<IPython.core.display.Javascript at 0x1beae048>"
       ]
      },
      {
       "javascript": [
        "\n",
        "        var $myPB = $(\"div#680e2a08-a315-4b77-9bb2-76261339087c\")\n",
        "        if ($myPB.hasClass('ui-progressbar')) {\n",
        "            $myPB.progressbar('value', 170);\n",
        "        } else {\n",
        "            $myPB.progressbar({value: 0, max: 1000});\n",
        "        }\n",
        "        "
       ],
       "metadata": {},
       "output_type": "display_data",
       "text": [
        "<IPython.core.display.Javascript at 0x15144710>"
       ]
      },
      {
       "javascript": [
        "$('div#463450b6-6c1d-42fc-b0a3-af33f3d56193').text('ETA:  0:00:06');"
       ],
       "metadata": {},
       "output_type": "display_data",
       "text": [
        "<IPython.core.display.Javascript at 0x18cd1eb8>"
       ]
      },
      {
       "javascript": [
        "$('div#ed80dfa0-4eab-4a88-aad9-471cbb5567ee').text('180 of 1000');"
       ],
       "metadata": {},
       "output_type": "display_data",
       "text": [
        "<IPython.core.display.Javascript at 0x1b33d9e8>"
       ]
      },
      {
       "javascript": [
        "$('div#ab03fbdf-5fe8-4cf1-8235-a244abb06b67').text(' 18%');"
       ],
       "metadata": {},
       "output_type": "display_data",
       "text": [
        "<IPython.core.display.Javascript at 0x1beae048>"
       ]
      },
      {
       "javascript": [
        "\n",
        "        var $myPB = $(\"div#680e2a08-a315-4b77-9bb2-76261339087c\")\n",
        "        if ($myPB.hasClass('ui-progressbar')) {\n",
        "            $myPB.progressbar('value', 180);\n",
        "        } else {\n",
        "            $myPB.progressbar({value: 0, max: 1000});\n",
        "        }\n",
        "        "
       ],
       "metadata": {},
       "output_type": "display_data",
       "text": [
        "<IPython.core.display.Javascript at 0x18cd1eb8>"
       ]
      },
      {
       "javascript": [
        "$('div#463450b6-6c1d-42fc-b0a3-af33f3d56193').text('ETA:  0:00:06');"
       ],
       "metadata": {},
       "output_type": "display_data",
       "text": [
        "<IPython.core.display.Javascript at 0x1b33d9e8>"
       ]
      },
      {
       "javascript": [
        "$('div#ed80dfa0-4eab-4a88-aad9-471cbb5567ee').text('190 of 1000');"
       ],
       "metadata": {},
       "output_type": "display_data",
       "text": [
        "<IPython.core.display.Javascript at 0x15144710>"
       ]
      },
      {
       "javascript": [
        "$('div#ab03fbdf-5fe8-4cf1-8235-a244abb06b67').text(' 19%');"
       ],
       "metadata": {},
       "output_type": "display_data",
       "text": [
        "<IPython.core.display.Javascript at 0x1beaecc0>"
       ]
      },
      {
       "javascript": [
        "\n",
        "        var $myPB = $(\"div#680e2a08-a315-4b77-9bb2-76261339087c\")\n",
        "        if ($myPB.hasClass('ui-progressbar')) {\n",
        "            $myPB.progressbar('value', 190);\n",
        "        } else {\n",
        "            $myPB.progressbar({value: 0, max: 1000});\n",
        "        }\n",
        "        "
       ],
       "metadata": {},
       "output_type": "display_data",
       "text": [
        "<IPython.core.display.Javascript at 0x1b33d9e8>"
       ]
      },
      {
       "javascript": [
        "$('div#463450b6-6c1d-42fc-b0a3-af33f3d56193').text('ETA:  0:00:06');"
       ],
       "metadata": {},
       "output_type": "display_data",
       "text": [
        "<IPython.core.display.Javascript at 0x15144710>"
       ]
      },
      {
       "javascript": [
        "$('div#ed80dfa0-4eab-4a88-aad9-471cbb5567ee').text('200 of 1000');"
       ],
       "metadata": {},
       "output_type": "display_data",
       "text": [
        "<IPython.core.display.Javascript at 0x18cd1eb8>"
       ]
      },
      {
       "javascript": [
        "$('div#ab03fbdf-5fe8-4cf1-8235-a244abb06b67').text(' 20%');"
       ],
       "metadata": {},
       "output_type": "display_data",
       "text": [
        "<IPython.core.display.Javascript at 0x18cd1eb8>"
       ]
      },
      {
       "javascript": [
        "\n",
        "        var $myPB = $(\"div#680e2a08-a315-4b77-9bb2-76261339087c\")\n",
        "        if ($myPB.hasClass('ui-progressbar')) {\n",
        "            $myPB.progressbar('value', 200);\n",
        "        } else {\n",
        "            $myPB.progressbar({value: 0, max: 1000});\n",
        "        }\n",
        "        "
       ],
       "metadata": {},
       "output_type": "display_data",
       "text": [
        "<IPython.core.display.Javascript at 0x15144710>"
       ]
      },
      {
       "javascript": [
        "$('div#463450b6-6c1d-42fc-b0a3-af33f3d56193').text('ETA:  0:00:06');"
       ],
       "metadata": {},
       "output_type": "display_data",
       "text": [
        "<IPython.core.display.Javascript at 0x1b33d9e8>"
       ]
      },
      {
       "javascript": [
        "$('div#ed80dfa0-4eab-4a88-aad9-471cbb5567ee').text('210 of 1000');"
       ],
       "metadata": {},
       "output_type": "display_data",
       "text": [
        "<IPython.core.display.Javascript at 0x1beae048>"
       ]
      },
      {
       "javascript": [
        "$('div#ab03fbdf-5fe8-4cf1-8235-a244abb06b67').text(' 21%');"
       ],
       "metadata": {},
       "output_type": "display_data",
       "text": [
        "<IPython.core.display.Javascript at 0x1b33d9e8>"
       ]
      },
      {
       "javascript": [
        "\n",
        "        var $myPB = $(\"div#680e2a08-a315-4b77-9bb2-76261339087c\")\n",
        "        if ($myPB.hasClass('ui-progressbar')) {\n",
        "            $myPB.progressbar('value', 210);\n",
        "        } else {\n",
        "            $myPB.progressbar({value: 0, max: 1000});\n",
        "        }\n",
        "        "
       ],
       "metadata": {},
       "output_type": "display_data",
       "text": [
        "<IPython.core.display.Javascript at 0x15144710>"
       ]
      },
      {
       "javascript": [
        "$('div#463450b6-6c1d-42fc-b0a3-af33f3d56193').text('ETA:  0:00:06');"
       ],
       "metadata": {},
       "output_type": "display_data",
       "text": [
        "<IPython.core.display.Javascript at 0x18cd1eb8>"
       ]
      },
      {
       "javascript": [
        "$('div#ed80dfa0-4eab-4a88-aad9-471cbb5567ee').text('220 of 1000');"
       ],
       "metadata": {},
       "output_type": "display_data",
       "text": [
        "<IPython.core.display.Javascript at 0x1beae048>"
       ]
      },
      {
       "javascript": [
        "$('div#ab03fbdf-5fe8-4cf1-8235-a244abb06b67').text(' 22%');"
       ],
       "metadata": {},
       "output_type": "display_data",
       "text": [
        "<IPython.core.display.Javascript at 0x18cd1eb8>"
       ]
      },
      {
       "javascript": [
        "\n",
        "        var $myPB = $(\"div#680e2a08-a315-4b77-9bb2-76261339087c\")\n",
        "        if ($myPB.hasClass('ui-progressbar')) {\n",
        "            $myPB.progressbar('value', 220);\n",
        "        } else {\n",
        "            $myPB.progressbar({value: 0, max: 1000});\n",
        "        }\n",
        "        "
       ],
       "metadata": {},
       "output_type": "display_data",
       "text": [
        "<IPython.core.display.Javascript at 0x15144710>"
       ]
      },
      {
       "javascript": [
        "$('div#463450b6-6c1d-42fc-b0a3-af33f3d56193').text('ETA:  0:00:06');"
       ],
       "metadata": {},
       "output_type": "display_data",
       "text": [
        "<IPython.core.display.Javascript at 0x1b33d9e8>"
       ]
      },
      {
       "javascript": [
        "$('div#ed80dfa0-4eab-4a88-aad9-471cbb5567ee').text('230 of 1000');"
       ],
       "metadata": {},
       "output_type": "display_data",
       "text": [
        "<IPython.core.display.Javascript at 0x1beae048>"
       ]
      },
      {
       "javascript": [
        "$('div#ab03fbdf-5fe8-4cf1-8235-a244abb06b67').text(' 23%');"
       ],
       "metadata": {},
       "output_type": "display_data",
       "text": [
        "<IPython.core.display.Javascript at 0x15144710>"
       ]
      },
      {
       "javascript": [
        "\n",
        "        var $myPB = $(\"div#680e2a08-a315-4b77-9bb2-76261339087c\")\n",
        "        if ($myPB.hasClass('ui-progressbar')) {\n",
        "            $myPB.progressbar('value', 230);\n",
        "        } else {\n",
        "            $myPB.progressbar({value: 0, max: 1000});\n",
        "        }\n",
        "        "
       ],
       "metadata": {},
       "output_type": "display_data",
       "text": [
        "<IPython.core.display.Javascript at 0x1b33d9e8>"
       ]
      },
      {
       "javascript": [
        "$('div#463450b6-6c1d-42fc-b0a3-af33f3d56193').text('ETA:  0:00:06');"
       ],
       "metadata": {},
       "output_type": "display_data",
       "text": [
        "<IPython.core.display.Javascript at 0x18cd1eb8>"
       ]
      },
      {
       "javascript": [
        "$('div#ed80dfa0-4eab-4a88-aad9-471cbb5567ee').text('240 of 1000');"
       ],
       "metadata": {},
       "output_type": "display_data",
       "text": [
        "<IPython.core.display.Javascript at 0x1beae048>"
       ]
      },
      {
       "javascript": [
        "$('div#ab03fbdf-5fe8-4cf1-8235-a244abb06b67').text(' 24%');"
       ],
       "metadata": {},
       "output_type": "display_data",
       "text": [
        "<IPython.core.display.Javascript at 0x1b33d9e8>"
       ]
      },
      {
       "javascript": [
        "\n",
        "        var $myPB = $(\"div#680e2a08-a315-4b77-9bb2-76261339087c\")\n",
        "        if ($myPB.hasClass('ui-progressbar')) {\n",
        "            $myPB.progressbar('value', 240);\n",
        "        } else {\n",
        "            $myPB.progressbar({value: 0, max: 1000});\n",
        "        }\n",
        "        "
       ],
       "metadata": {},
       "output_type": "display_data",
       "text": [
        "<IPython.core.display.Javascript at 0x15144710>"
       ]
      },
      {
       "javascript": [
        "$('div#463450b6-6c1d-42fc-b0a3-af33f3d56193').text('ETA:  0:00:06');"
       ],
       "metadata": {},
       "output_type": "display_data",
       "text": [
        "<IPython.core.display.Javascript at 0x18cd1eb8>"
       ]
      },
      {
       "javascript": [
        "$('div#ed80dfa0-4eab-4a88-aad9-471cbb5567ee').text('250 of 1000');"
       ],
       "metadata": {},
       "output_type": "display_data",
       "text": [
        "<IPython.core.display.Javascript at 0x1beae048>"
       ]
      },
      {
       "javascript": [
        "$('div#ab03fbdf-5fe8-4cf1-8235-a244abb06b67').text(' 25%');"
       ],
       "metadata": {},
       "output_type": "display_data",
       "text": [
        "<IPython.core.display.Javascript at 0x1b33d9e8>"
       ]
      },
      {
       "javascript": [
        "\n",
        "        var $myPB = $(\"div#680e2a08-a315-4b77-9bb2-76261339087c\")\n",
        "        if ($myPB.hasClass('ui-progressbar')) {\n",
        "            $myPB.progressbar('value', 250);\n",
        "        } else {\n",
        "            $myPB.progressbar({value: 0, max: 1000});\n",
        "        }\n",
        "        "
       ],
       "metadata": {},
       "output_type": "display_data",
       "text": [
        "<IPython.core.display.Javascript at 0x15144710>"
       ]
      },
      {
       "javascript": [
        "$('div#463450b6-6c1d-42fc-b0a3-af33f3d56193').text('ETA:  0:00:06');"
       ],
       "metadata": {},
       "output_type": "display_data",
       "text": [
        "<IPython.core.display.Javascript at 0x18cd1eb8>"
       ]
      },
      {
       "javascript": [
        "$('div#ed80dfa0-4eab-4a88-aad9-471cbb5567ee').text('260 of 1000');"
       ],
       "metadata": {},
       "output_type": "display_data",
       "text": [
        "<IPython.core.display.Javascript at 0x18cd1eb8>"
       ]
      },
      {
       "javascript": [
        "$('div#ab03fbdf-5fe8-4cf1-8235-a244abb06b67').text(' 26%');"
       ],
       "metadata": {},
       "output_type": "display_data",
       "text": [
        "<IPython.core.display.Javascript at 0x15144710>"
       ]
      },
      {
       "javascript": [
        "\n",
        "        var $myPB = $(\"div#680e2a08-a315-4b77-9bb2-76261339087c\")\n",
        "        if ($myPB.hasClass('ui-progressbar')) {\n",
        "            $myPB.progressbar('value', 260);\n",
        "        } else {\n",
        "            $myPB.progressbar({value: 0, max: 1000});\n",
        "        }\n",
        "        "
       ],
       "metadata": {},
       "output_type": "display_data",
       "text": [
        "<IPython.core.display.Javascript at 0x1b33d9e8>"
       ]
      },
      {
       "javascript": [
        "$('div#463450b6-6c1d-42fc-b0a3-af33f3d56193').text('ETA:  0:00:06');"
       ],
       "metadata": {},
       "output_type": "display_data",
       "text": [
        "<IPython.core.display.Javascript at 0x1beae630>"
       ]
      },
      {
       "javascript": [
        "$('div#ed80dfa0-4eab-4a88-aad9-471cbb5567ee').text('270 of 1000');"
       ],
       "metadata": {},
       "output_type": "display_data",
       "text": [
        "<IPython.core.display.Javascript at 0x1b33d9e8>"
       ]
      },
      {
       "javascript": [
        "$('div#ab03fbdf-5fe8-4cf1-8235-a244abb06b67').text(' 27%');"
       ],
       "metadata": {},
       "output_type": "display_data",
       "text": [
        "<IPython.core.display.Javascript at 0x15144710>"
       ]
      },
      {
       "javascript": [
        "\n",
        "        var $myPB = $(\"div#680e2a08-a315-4b77-9bb2-76261339087c\")\n",
        "        if ($myPB.hasClass('ui-progressbar')) {\n",
        "            $myPB.progressbar('value', 270);\n",
        "        } else {\n",
        "            $myPB.progressbar({value: 0, max: 1000});\n",
        "        }\n",
        "        "
       ],
       "metadata": {},
       "output_type": "display_data",
       "text": [
        "<IPython.core.display.Javascript at 0x18cd1eb8>"
       ]
      },
      {
       "javascript": [
        "$('div#463450b6-6c1d-42fc-b0a3-af33f3d56193').text('ETA:  0:00:06');"
       ],
       "metadata": {},
       "output_type": "display_data",
       "text": [
        "<IPython.core.display.Javascript at 0x1beae630>"
       ]
      },
      {
       "javascript": [
        "$('div#ed80dfa0-4eab-4a88-aad9-471cbb5567ee').text('280 of 1000');"
       ],
       "metadata": {},
       "output_type": "display_data",
       "text": [
        "<IPython.core.display.Javascript at 0x18cd1eb8>"
       ]
      },
      {
       "javascript": [
        "$('div#ab03fbdf-5fe8-4cf1-8235-a244abb06b67').text(' 28%');"
       ],
       "metadata": {},
       "output_type": "display_data",
       "text": [
        "<IPython.core.display.Javascript at 0x15144710>"
       ]
      },
      {
       "javascript": [
        "\n",
        "        var $myPB = $(\"div#680e2a08-a315-4b77-9bb2-76261339087c\")\n",
        "        if ($myPB.hasClass('ui-progressbar')) {\n",
        "            $myPB.progressbar('value', 280);\n",
        "        } else {\n",
        "            $myPB.progressbar({value: 0, max: 1000});\n",
        "        }\n",
        "        "
       ],
       "metadata": {},
       "output_type": "display_data",
       "text": [
        "<IPython.core.display.Javascript at 0x1b33d9e8>"
       ]
      },
      {
       "javascript": [
        "$('div#463450b6-6c1d-42fc-b0a3-af33f3d56193').text('ETA:  0:00:06');"
       ],
       "metadata": {},
       "output_type": "display_data",
       "text": [
        "<IPython.core.display.Javascript at 0x1beae630>"
       ]
      },
      {
       "javascript": [
        "$('div#ed80dfa0-4eab-4a88-aad9-471cbb5567ee').text('290 of 1000');"
       ],
       "metadata": {},
       "output_type": "display_data",
       "text": [
        "<IPython.core.display.Javascript at 0x1b33d9e8>"
       ]
      },
      {
       "javascript": [
        "$('div#ab03fbdf-5fe8-4cf1-8235-a244abb06b67').text(' 29%');"
       ],
       "metadata": {},
       "output_type": "display_data",
       "text": [
        "<IPython.core.display.Javascript at 0x15144710>"
       ]
      },
      {
       "javascript": [
        "\n",
        "        var $myPB = $(\"div#680e2a08-a315-4b77-9bb2-76261339087c\")\n",
        "        if ($myPB.hasClass('ui-progressbar')) {\n",
        "            $myPB.progressbar('value', 290);\n",
        "        } else {\n",
        "            $myPB.progressbar({value: 0, max: 1000});\n",
        "        }\n",
        "        "
       ],
       "metadata": {},
       "output_type": "display_data",
       "text": [
        "<IPython.core.display.Javascript at 0x18cd1eb8>"
       ]
      },
      {
       "javascript": [
        "$('div#463450b6-6c1d-42fc-b0a3-af33f3d56193').text('ETA:  0:00:06');"
       ],
       "metadata": {},
       "output_type": "display_data",
       "text": [
        "<IPython.core.display.Javascript at 0x1beae630>"
       ]
      },
      {
       "javascript": [
        "$('div#ed80dfa0-4eab-4a88-aad9-471cbb5567ee').text('300 of 1000');"
       ],
       "metadata": {},
       "output_type": "display_data",
       "text": [
        "<IPython.core.display.Javascript at 0x15144710>"
       ]
      },
      {
       "javascript": [
        "$('div#ab03fbdf-5fe8-4cf1-8235-a244abb06b67').text(' 30%');"
       ],
       "metadata": {},
       "output_type": "display_data",
       "text": [
        "<IPython.core.display.Javascript at 0x1b33d9e8>"
       ]
      },
      {
       "javascript": [
        "\n",
        "        var $myPB = $(\"div#680e2a08-a315-4b77-9bb2-76261339087c\")\n",
        "        if ($myPB.hasClass('ui-progressbar')) {\n",
        "            $myPB.progressbar('value', 300);\n",
        "        } else {\n",
        "            $myPB.progressbar({value: 0, max: 1000});\n",
        "        }\n",
        "        "
       ],
       "metadata": {},
       "output_type": "display_data",
       "text": [
        "<IPython.core.display.Javascript at 0x18cd1eb8>"
       ]
      },
      {
       "javascript": [
        "$('div#463450b6-6c1d-42fc-b0a3-af33f3d56193').text('ETA:  0:00:06');"
       ],
       "metadata": {},
       "output_type": "display_data",
       "text": [
        "<IPython.core.display.Javascript at 0x18cd1eb8>"
       ]
      },
      {
       "javascript": [
        "$('div#ed80dfa0-4eab-4a88-aad9-471cbb5567ee').text('310 of 1000');"
       ],
       "metadata": {},
       "output_type": "display_data",
       "text": [
        "<IPython.core.display.Javascript at 0x1b33d9e8>"
       ]
      },
      {
       "javascript": [
        "$('div#ab03fbdf-5fe8-4cf1-8235-a244abb06b67').text(' 31%');"
       ],
       "metadata": {},
       "output_type": "display_data",
       "text": [
        "<IPython.core.display.Javascript at 0x15144710>"
       ]
      },
      {
       "javascript": [
        "\n",
        "        var $myPB = $(\"div#680e2a08-a315-4b77-9bb2-76261339087c\")\n",
        "        if ($myPB.hasClass('ui-progressbar')) {\n",
        "            $myPB.progressbar('value', 310);\n",
        "        } else {\n",
        "            $myPB.progressbar({value: 0, max: 1000});\n",
        "        }\n",
        "        "
       ],
       "metadata": {},
       "output_type": "display_data",
       "text": [
        "<IPython.core.display.Javascript at 0x1beae048>"
       ]
      },
      {
       "javascript": [
        "$('div#463450b6-6c1d-42fc-b0a3-af33f3d56193').text('ETA:  0:00:06');"
       ],
       "metadata": {},
       "output_type": "display_data",
       "text": [
        "<IPython.core.display.Javascript at 0x15144710>"
       ]
      },
      {
       "javascript": [
        "$('div#ed80dfa0-4eab-4a88-aad9-471cbb5567ee').text('320 of 1000');"
       ],
       "metadata": {},
       "output_type": "display_data",
       "text": [
        "<IPython.core.display.Javascript at 0x1b33d9e8>"
       ]
      },
      {
       "javascript": [
        "$('div#ab03fbdf-5fe8-4cf1-8235-a244abb06b67').text(' 32%');"
       ],
       "metadata": {},
       "output_type": "display_data",
       "text": [
        "<IPython.core.display.Javascript at 0x18cd1eb8>"
       ]
      },
      {
       "javascript": [
        "\n",
        "        var $myPB = $(\"div#680e2a08-a315-4b77-9bb2-76261339087c\")\n",
        "        if ($myPB.hasClass('ui-progressbar')) {\n",
        "            $myPB.progressbar('value', 320);\n",
        "        } else {\n",
        "            $myPB.progressbar({value: 0, max: 1000});\n",
        "        }\n",
        "        "
       ],
       "metadata": {},
       "output_type": "display_data",
       "text": [
        "<IPython.core.display.Javascript at 0x1beae048>"
       ]
      },
      {
       "javascript": [
        "$('div#463450b6-6c1d-42fc-b0a3-af33f3d56193').text('ETA:  0:00:06');"
       ],
       "metadata": {},
       "output_type": "display_data",
       "text": [
        "<IPython.core.display.Javascript at 0x1b33d9e8>"
       ]
      },
      {
       "javascript": [
        "$('div#ed80dfa0-4eab-4a88-aad9-471cbb5567ee').text('330 of 1000');"
       ],
       "metadata": {},
       "output_type": "display_data",
       "text": [
        "<IPython.core.display.Javascript at 0x18cd1eb8>"
       ]
      },
      {
       "javascript": [
        "$('div#ab03fbdf-5fe8-4cf1-8235-a244abb06b67').text(' 33%');"
       ],
       "metadata": {},
       "output_type": "display_data",
       "text": [
        "<IPython.core.display.Javascript at 0x15144710>"
       ]
      },
      {
       "javascript": [
        "\n",
        "        var $myPB = $(\"div#680e2a08-a315-4b77-9bb2-76261339087c\")\n",
        "        if ($myPB.hasClass('ui-progressbar')) {\n",
        "            $myPB.progressbar('value', 330);\n",
        "        } else {\n",
        "            $myPB.progressbar({value: 0, max: 1000});\n",
        "        }\n",
        "        "
       ],
       "metadata": {},
       "output_type": "display_data",
       "text": [
        "<IPython.core.display.Javascript at 0x1beae048>"
       ]
      },
      {
       "javascript": [
        "$('div#463450b6-6c1d-42fc-b0a3-af33f3d56193').text('ETA:  0:00:06');"
       ],
       "metadata": {},
       "output_type": "display_data",
       "text": [
        "<IPython.core.display.Javascript at 0x18cd1eb8>"
       ]
      },
      {
       "javascript": [
        "$('div#ed80dfa0-4eab-4a88-aad9-471cbb5567ee').text('340 of 1000');"
       ],
       "metadata": {},
       "output_type": "display_data",
       "text": [
        "<IPython.core.display.Javascript at 0x15144710>"
       ]
      },
      {
       "javascript": [
        "$('div#ab03fbdf-5fe8-4cf1-8235-a244abb06b67').text(' 34%');"
       ],
       "metadata": {},
       "output_type": "display_data",
       "text": [
        "<IPython.core.display.Javascript at 0x1b33d9e8>"
       ]
      },
      {
       "javascript": [
        "\n",
        "        var $myPB = $(\"div#680e2a08-a315-4b77-9bb2-76261339087c\")\n",
        "        if ($myPB.hasClass('ui-progressbar')) {\n",
        "            $myPB.progressbar('value', 340);\n",
        "        } else {\n",
        "            $myPB.progressbar({value: 0, max: 1000});\n",
        "        }\n",
        "        "
       ],
       "metadata": {},
       "output_type": "display_data",
       "text": [
        "<IPython.core.display.Javascript at 0x1b33d9e8>"
       ]
      },
      {
       "javascript": [
        "$('div#463450b6-6c1d-42fc-b0a3-af33f3d56193').text('ETA:  0:00:06');"
       ],
       "metadata": {},
       "output_type": "display_data",
       "text": [
        "<IPython.core.display.Javascript at 0x15144710>"
       ]
      },
      {
       "javascript": [
        "$('div#ed80dfa0-4eab-4a88-aad9-471cbb5567ee').text('350 of 1000');"
       ],
       "metadata": {},
       "output_type": "display_data",
       "text": [
        "<IPython.core.display.Javascript at 0x18cd1eb8>"
       ]
      },
      {
       "javascript": [
        "$('div#ab03fbdf-5fe8-4cf1-8235-a244abb06b67').text(' 35%');"
       ],
       "metadata": {},
       "output_type": "display_data",
       "text": [
        "<IPython.core.display.Javascript at 0x1beae518>"
       ]
      },
      {
       "javascript": [
        "\n",
        "        var $myPB = $(\"div#680e2a08-a315-4b77-9bb2-76261339087c\")\n",
        "        if ($myPB.hasClass('ui-progressbar')) {\n",
        "            $myPB.progressbar('value', 350);\n",
        "        } else {\n",
        "            $myPB.progressbar({value: 0, max: 1000});\n",
        "        }\n",
        "        "
       ],
       "metadata": {},
       "output_type": "display_data",
       "text": [
        "<IPython.core.display.Javascript at 0x18cd1eb8>"
       ]
      },
      {
       "javascript": [
        "$('div#463450b6-6c1d-42fc-b0a3-af33f3d56193').text('ETA:  0:00:06');"
       ],
       "metadata": {},
       "output_type": "display_data",
       "text": [
        "<IPython.core.display.Javascript at 0x15144710>"
       ]
      },
      {
       "javascript": [
        "$('div#ed80dfa0-4eab-4a88-aad9-471cbb5567ee').text('360 of 1000');"
       ],
       "metadata": {},
       "output_type": "display_data",
       "text": [
        "<IPython.core.display.Javascript at 0x1b33d9e8>"
       ]
      },
      {
       "javascript": [
        "$('div#ab03fbdf-5fe8-4cf1-8235-a244abb06b67').text(' 36%');"
       ],
       "metadata": {},
       "output_type": "display_data",
       "text": [
        "<IPython.core.display.Javascript at 0x1beaecc0>"
       ]
      },
      {
       "javascript": [
        "\n",
        "        var $myPB = $(\"div#680e2a08-a315-4b77-9bb2-76261339087c\")\n",
        "        if ($myPB.hasClass('ui-progressbar')) {\n",
        "            $myPB.progressbar('value', 360);\n",
        "        } else {\n",
        "            $myPB.progressbar({value: 0, max: 1000});\n",
        "        }\n",
        "        "
       ],
       "metadata": {},
       "output_type": "display_data",
       "text": [
        "<IPython.core.display.Javascript at 0x1b33d9e8>"
       ]
      },
      {
       "javascript": [
        "$('div#463450b6-6c1d-42fc-b0a3-af33f3d56193').text('ETA:  0:00:06');"
       ],
       "metadata": {},
       "output_type": "display_data",
       "text": [
        "<IPython.core.display.Javascript at 0x15144710>"
       ]
      },
      {
       "javascript": [
        "$('div#ed80dfa0-4eab-4a88-aad9-471cbb5567ee').text('370 of 1000');"
       ],
       "metadata": {},
       "output_type": "display_data",
       "text": [
        "<IPython.core.display.Javascript at 0x18cd1eb8>"
       ]
      },
      {
       "javascript": [
        "$('div#ab03fbdf-5fe8-4cf1-8235-a244abb06b67').text(' 37%');"
       ],
       "metadata": {},
       "output_type": "display_data",
       "text": [
        "<IPython.core.display.Javascript at 0x1beaea58>"
       ]
      },
      {
       "javascript": [
        "\n",
        "        var $myPB = $(\"div#680e2a08-a315-4b77-9bb2-76261339087c\")\n",
        "        if ($myPB.hasClass('ui-progressbar')) {\n",
        "            $myPB.progressbar('value', 370);\n",
        "        } else {\n",
        "            $myPB.progressbar({value: 0, max: 1000});\n",
        "        }\n",
        "        "
       ],
       "metadata": {},
       "output_type": "display_data",
       "text": [
        "<IPython.core.display.Javascript at 0x15144710>"
       ]
      },
      {
       "javascript": [
        "$('div#463450b6-6c1d-42fc-b0a3-af33f3d56193').text('ETA:  0:00:06');"
       ],
       "metadata": {},
       "output_type": "display_data",
       "text": [
        "<IPython.core.display.Javascript at 0x18cd1eb8>"
       ]
      },
      {
       "javascript": [
        "$('div#ed80dfa0-4eab-4a88-aad9-471cbb5567ee').text('380 of 1000');"
       ],
       "metadata": {},
       "output_type": "display_data",
       "text": [
        "<IPython.core.display.Javascript at 0x1b33d9e8>"
       ]
      },
      {
       "javascript": [
        "$('div#ab03fbdf-5fe8-4cf1-8235-a244abb06b67').text(' 38%');"
       ],
       "metadata": {},
       "output_type": "display_data",
       "text": [
        "<IPython.core.display.Javascript at 0x1beae5c0>"
       ]
      },
      {
       "javascript": [
        "\n",
        "        var $myPB = $(\"div#680e2a08-a315-4b77-9bb2-76261339087c\")\n",
        "        if ($myPB.hasClass('ui-progressbar')) {\n",
        "            $myPB.progressbar('value', 380);\n",
        "        } else {\n",
        "            $myPB.progressbar({value: 0, max: 1000});\n",
        "        }\n",
        "        "
       ],
       "metadata": {},
       "output_type": "display_data",
       "text": [
        "<IPython.core.display.Javascript at 0x18cd1eb8>"
       ]
      },
      {
       "javascript": [
        "$('div#463450b6-6c1d-42fc-b0a3-af33f3d56193').text('ETA:  0:00:06');"
       ],
       "metadata": {},
       "output_type": "display_data",
       "text": [
        "<IPython.core.display.Javascript at 0x1b33d9e8>"
       ]
      },
      {
       "javascript": [
        "$('div#ed80dfa0-4eab-4a88-aad9-471cbb5567ee').text('390 of 1000');"
       ],
       "metadata": {},
       "output_type": "display_data",
       "text": [
        "<IPython.core.display.Javascript at 0x15144710>"
       ]
      },
      {
       "javascript": [
        "$('div#ab03fbdf-5fe8-4cf1-8235-a244abb06b67').text(' 39%');"
       ],
       "metadata": {},
       "output_type": "display_data",
       "text": [
        "<IPython.core.display.Javascript at 0x15144710>"
       ]
      },
      {
       "javascript": [
        "\n",
        "        var $myPB = $(\"div#680e2a08-a315-4b77-9bb2-76261339087c\")\n",
        "        if ($myPB.hasClass('ui-progressbar')) {\n",
        "            $myPB.progressbar('value', 390);\n",
        "        } else {\n",
        "            $myPB.progressbar({value: 0, max: 1000});\n",
        "        }\n",
        "        "
       ],
       "metadata": {},
       "output_type": "display_data",
       "text": [
        "<IPython.core.display.Javascript at 0x1b33d9e8>"
       ]
      },
      {
       "javascript": [
        "$('div#463450b6-6c1d-42fc-b0a3-af33f3d56193').text('ETA:  0:00:05');"
       ],
       "metadata": {},
       "output_type": "display_data",
       "text": [
        "<IPython.core.display.Javascript at 0x18cd1eb8>"
       ]
      },
      {
       "javascript": [
        "$('div#ed80dfa0-4eab-4a88-aad9-471cbb5567ee').text('400 of 1000');"
       ],
       "metadata": {},
       "output_type": "display_data",
       "text": [
        "<IPython.core.display.Javascript at 0x1beae5c0>"
       ]
      },
      {
       "javascript": [
        "$('div#ab03fbdf-5fe8-4cf1-8235-a244abb06b67').text(' 40%');"
       ],
       "metadata": {},
       "output_type": "display_data",
       "text": [
        "<IPython.core.display.Javascript at 0x18cd1eb8>"
       ]
      },
      {
       "javascript": [
        "\n",
        "        var $myPB = $(\"div#680e2a08-a315-4b77-9bb2-76261339087c\")\n",
        "        if ($myPB.hasClass('ui-progressbar')) {\n",
        "            $myPB.progressbar('value', 400);\n",
        "        } else {\n",
        "            $myPB.progressbar({value: 0, max: 1000});\n",
        "        }\n",
        "        "
       ],
       "metadata": {},
       "output_type": "display_data",
       "text": [
        "<IPython.core.display.Javascript at 0x1b33d9e8>"
       ]
      },
      {
       "javascript": [
        "$('div#463450b6-6c1d-42fc-b0a3-af33f3d56193').text('ETA:  0:00:05');"
       ],
       "metadata": {},
       "output_type": "display_data",
       "text": [
        "<IPython.core.display.Javascript at 0x15144710>"
       ]
      },
      {
       "javascript": [
        "$('div#ed80dfa0-4eab-4a88-aad9-471cbb5567ee').text('410 of 1000');"
       ],
       "metadata": {},
       "output_type": "display_data",
       "text": [
        "<IPython.core.display.Javascript at 0x1beae5c0>"
       ]
      },
      {
       "javascript": [
        "$('div#ab03fbdf-5fe8-4cf1-8235-a244abb06b67').text(' 41%');"
       ],
       "metadata": {},
       "output_type": "display_data",
       "text": [
        "<IPython.core.display.Javascript at 0x15144710>"
       ]
      },
      {
       "javascript": [
        "\n",
        "        var $myPB = $(\"div#680e2a08-a315-4b77-9bb2-76261339087c\")\n",
        "        if ($myPB.hasClass('ui-progressbar')) {\n",
        "            $myPB.progressbar('value', 410);\n",
        "        } else {\n",
        "            $myPB.progressbar({value: 0, max: 1000});\n",
        "        }\n",
        "        "
       ],
       "metadata": {},
       "output_type": "display_data",
       "text": [
        "<IPython.core.display.Javascript at 0x1b33d9e8>"
       ]
      },
      {
       "javascript": [
        "$('div#463450b6-6c1d-42fc-b0a3-af33f3d56193').text('ETA:  0:00:05');"
       ],
       "metadata": {},
       "output_type": "display_data",
       "text": [
        "<IPython.core.display.Javascript at 0x18cd1eb8>"
       ]
      },
      {
       "javascript": [
        "$('div#ed80dfa0-4eab-4a88-aad9-471cbb5567ee').text('420 of 1000');"
       ],
       "metadata": {},
       "output_type": "display_data",
       "text": [
        "<IPython.core.display.Javascript at 0x1beae5c0>"
       ]
      },
      {
       "javascript": [
        "$('div#ab03fbdf-5fe8-4cf1-8235-a244abb06b67').text(' 42%');"
       ],
       "metadata": {},
       "output_type": "display_data",
       "text": [
        "<IPython.core.display.Javascript at 0x18cd1eb8>"
       ]
      },
      {
       "javascript": [
        "\n",
        "        var $myPB = $(\"div#680e2a08-a315-4b77-9bb2-76261339087c\")\n",
        "        if ($myPB.hasClass('ui-progressbar')) {\n",
        "            $myPB.progressbar('value', 420);\n",
        "        } else {\n",
        "            $myPB.progressbar({value: 0, max: 1000});\n",
        "        }\n",
        "        "
       ],
       "metadata": {},
       "output_type": "display_data",
       "text": [
        "<IPython.core.display.Javascript at 0x1b33d9e8>"
       ]
      },
      {
       "javascript": [
        "$('div#463450b6-6c1d-42fc-b0a3-af33f3d56193').text('ETA:  0:00:05');"
       ],
       "metadata": {},
       "output_type": "display_data",
       "text": [
        "<IPython.core.display.Javascript at 0x15144710>"
       ]
      },
      {
       "javascript": [
        "$('div#ed80dfa0-4eab-4a88-aad9-471cbb5567ee').text('430 of 1000');"
       ],
       "metadata": {},
       "output_type": "display_data",
       "text": [
        "<IPython.core.display.Javascript at 0x1beae5c0>"
       ]
      },
      {
       "javascript": [
        "$('div#ab03fbdf-5fe8-4cf1-8235-a244abb06b67').text(' 43%');"
       ],
       "metadata": {},
       "output_type": "display_data",
       "text": [
        "<IPython.core.display.Javascript at 0x15144710>"
       ]
      },
      {
       "javascript": [
        "\n",
        "        var $myPB = $(\"div#680e2a08-a315-4b77-9bb2-76261339087c\")\n",
        "        if ($myPB.hasClass('ui-progressbar')) {\n",
        "            $myPB.progressbar('value', 430);\n",
        "        } else {\n",
        "            $myPB.progressbar({value: 0, max: 1000});\n",
        "        }\n",
        "        "
       ],
       "metadata": {},
       "output_type": "display_data",
       "text": [
        "<IPython.core.display.Javascript at 0x1b33d9e8>"
       ]
      },
      {
       "javascript": [
        "$('div#463450b6-6c1d-42fc-b0a3-af33f3d56193').text('ETA:  0:00:05');"
       ],
       "metadata": {},
       "output_type": "display_data",
       "text": [
        "<IPython.core.display.Javascript at 0x18cd1eb8>"
       ]
      },
      {
       "javascript": [
        "$('div#ed80dfa0-4eab-4a88-aad9-471cbb5567ee').text('440 of 1000');"
       ],
       "metadata": {},
       "output_type": "display_data",
       "text": [
        "<IPython.core.display.Javascript at 0x1beae5c0>"
       ]
      },
      {
       "javascript": [
        "$('div#ab03fbdf-5fe8-4cf1-8235-a244abb06b67').text(' 44%');"
       ],
       "metadata": {},
       "output_type": "display_data",
       "text": [
        "<IPython.core.display.Javascript at 0x18cd1eb8>"
       ]
      },
      {
       "javascript": [
        "\n",
        "        var $myPB = $(\"div#680e2a08-a315-4b77-9bb2-76261339087c\")\n",
        "        if ($myPB.hasClass('ui-progressbar')) {\n",
        "            $myPB.progressbar('value', 440);\n",
        "        } else {\n",
        "            $myPB.progressbar({value: 0, max: 1000});\n",
        "        }\n",
        "        "
       ],
       "metadata": {},
       "output_type": "display_data",
       "text": [
        "<IPython.core.display.Javascript at 0x1b33d9e8>"
       ]
      },
      {
       "javascript": [
        "$('div#463450b6-6c1d-42fc-b0a3-af33f3d56193').text('ETA:  0:00:05');"
       ],
       "metadata": {},
       "output_type": "display_data",
       "text": [
        "<IPython.core.display.Javascript at 0x15144710>"
       ]
      },
      {
       "javascript": [
        "$('div#ed80dfa0-4eab-4a88-aad9-471cbb5567ee').text('450 of 1000');"
       ],
       "metadata": {},
       "output_type": "display_data",
       "text": [
        "<IPython.core.display.Javascript at 0x1beae5c0>"
       ]
      },
      {
       "javascript": [
        "$('div#ab03fbdf-5fe8-4cf1-8235-a244abb06b67').text(' 45%');"
       ],
       "metadata": {},
       "output_type": "display_data",
       "text": [
        "<IPython.core.display.Javascript at 0x15144710>"
       ]
      },
      {
       "javascript": [
        "\n",
        "        var $myPB = $(\"div#680e2a08-a315-4b77-9bb2-76261339087c\")\n",
        "        if ($myPB.hasClass('ui-progressbar')) {\n",
        "            $myPB.progressbar('value', 450);\n",
        "        } else {\n",
        "            $myPB.progressbar({value: 0, max: 1000});\n",
        "        }\n",
        "        "
       ],
       "metadata": {},
       "output_type": "display_data",
       "text": [
        "<IPython.core.display.Javascript at 0x1b33d9e8>"
       ]
      },
      {
       "javascript": [
        "$('div#463450b6-6c1d-42fc-b0a3-af33f3d56193').text('ETA:  0:00:05');"
       ],
       "metadata": {},
       "output_type": "display_data",
       "text": [
        "<IPython.core.display.Javascript at 0x18cd1eb8>"
       ]
      },
      {
       "javascript": [
        "$('div#ed80dfa0-4eab-4a88-aad9-471cbb5567ee').text('460 of 1000');"
       ],
       "metadata": {},
       "output_type": "display_data",
       "text": [
        "<IPython.core.display.Javascript at 0x1beae5c0>"
       ]
      },
      {
       "javascript": [
        "$('div#ab03fbdf-5fe8-4cf1-8235-a244abb06b67').text(' 46%');"
       ],
       "metadata": {},
       "output_type": "display_data",
       "text": [
        "<IPython.core.display.Javascript at 0x1b33d9e8>"
       ]
      },
      {
       "javascript": [
        "\n",
        "        var $myPB = $(\"div#680e2a08-a315-4b77-9bb2-76261339087c\")\n",
        "        if ($myPB.hasClass('ui-progressbar')) {\n",
        "            $myPB.progressbar('value', 460);\n",
        "        } else {\n",
        "            $myPB.progressbar({value: 0, max: 1000});\n",
        "        }\n",
        "        "
       ],
       "metadata": {},
       "output_type": "display_data",
       "text": [
        "<IPython.core.display.Javascript at 0x18cd1eb8>"
       ]
      },
      {
       "javascript": [
        "$('div#463450b6-6c1d-42fc-b0a3-af33f3d56193').text('ETA:  0:00:05');"
       ],
       "metadata": {},
       "output_type": "display_data",
       "text": [
        "<IPython.core.display.Javascript at 0x15144710>"
       ]
      },
      {
       "javascript": [
        "$('div#ed80dfa0-4eab-4a88-aad9-471cbb5567ee').text('470 of 1000');"
       ],
       "metadata": {},
       "output_type": "display_data",
       "text": [
        "<IPython.core.display.Javascript at 0x1beae5c0>"
       ]
      },
      {
       "javascript": [
        "$('div#ab03fbdf-5fe8-4cf1-8235-a244abb06b67').text(' 47%');"
       ],
       "metadata": {},
       "output_type": "display_data",
       "text": [
        "<IPython.core.display.Javascript at 0x18cd1eb8>"
       ]
      },
      {
       "javascript": [
        "\n",
        "        var $myPB = $(\"div#680e2a08-a315-4b77-9bb2-76261339087c\")\n",
        "        if ($myPB.hasClass('ui-progressbar')) {\n",
        "            $myPB.progressbar('value', 470);\n",
        "        } else {\n",
        "            $myPB.progressbar({value: 0, max: 1000});\n",
        "        }\n",
        "        "
       ],
       "metadata": {},
       "output_type": "display_data",
       "text": [
        "<IPython.core.display.Javascript at 0x15144710>"
       ]
      },
      {
       "javascript": [
        "$('div#463450b6-6c1d-42fc-b0a3-af33f3d56193').text('ETA:  0:00:05');"
       ],
       "metadata": {},
       "output_type": "display_data",
       "text": [
        "<IPython.core.display.Javascript at 0x1b33d9e8>"
       ]
      },
      {
       "javascript": [
        "$('div#ed80dfa0-4eab-4a88-aad9-471cbb5567ee').text('480 of 1000');"
       ],
       "metadata": {},
       "output_type": "display_data",
       "text": [
        "<IPython.core.display.Javascript at 0x1beae5c0>"
       ]
      },
      {
       "javascript": [
        "$('div#ab03fbdf-5fe8-4cf1-8235-a244abb06b67').text(' 48%');"
       ],
       "metadata": {},
       "output_type": "display_data",
       "text": [
        "<IPython.core.display.Javascript at 0x18cd1eb8>"
       ]
      },
      {
       "javascript": [
        "\n",
        "        var $myPB = $(\"div#680e2a08-a315-4b77-9bb2-76261339087c\")\n",
        "        if ($myPB.hasClass('ui-progressbar')) {\n",
        "            $myPB.progressbar('value', 480);\n",
        "        } else {\n",
        "            $myPB.progressbar({value: 0, max: 1000});\n",
        "        }\n",
        "        "
       ],
       "metadata": {},
       "output_type": "display_data",
       "text": [
        "<IPython.core.display.Javascript at 0x15144710>"
       ]
      },
      {
       "javascript": [
        "$('div#463450b6-6c1d-42fc-b0a3-af33f3d56193').text('ETA:  0:00:05');"
       ],
       "metadata": {},
       "output_type": "display_data",
       "text": [
        "<IPython.core.display.Javascript at 0x1b33d9e8>"
       ]
      },
      {
       "javascript": [
        "$('div#ed80dfa0-4eab-4a88-aad9-471cbb5567ee').text('490 of 1000');"
       ],
       "metadata": {},
       "output_type": "display_data",
       "text": [
        "<IPython.core.display.Javascript at 0x1b33d9e8>"
       ]
      },
      {
       "javascript": [
        "$('div#ab03fbdf-5fe8-4cf1-8235-a244abb06b67').text(' 49%');"
       ],
       "metadata": {},
       "output_type": "display_data",
       "text": [
        "<IPython.core.display.Javascript at 0x15144710>"
       ]
      },
      {
       "javascript": [
        "\n",
        "        var $myPB = $(\"div#680e2a08-a315-4b77-9bb2-76261339087c\")\n",
        "        if ($myPB.hasClass('ui-progressbar')) {\n",
        "            $myPB.progressbar('value', 490);\n",
        "        } else {\n",
        "            $myPB.progressbar({value: 0, max: 1000});\n",
        "        }\n",
        "        "
       ],
       "metadata": {},
       "output_type": "display_data",
       "text": [
        "<IPython.core.display.Javascript at 0x18cd1eb8>"
       ]
      },
      {
       "javascript": [
        "$('div#463450b6-6c1d-42fc-b0a3-af33f3d56193').text('ETA:  0:00:04');"
       ],
       "metadata": {},
       "output_type": "display_data",
       "text": [
        "<IPython.core.display.Javascript at 0x1beae518>"
       ]
      },
      {
       "javascript": [
        "$('div#ed80dfa0-4eab-4a88-aad9-471cbb5567ee').text('500 of 1000');"
       ],
       "metadata": {},
       "output_type": "display_data",
       "text": [
        "<IPython.core.display.Javascript at 0x18cd1eb8>"
       ]
      },
      {
       "javascript": [
        "$('div#ab03fbdf-5fe8-4cf1-8235-a244abb06b67').text(' 50%');"
       ],
       "metadata": {},
       "output_type": "display_data",
       "text": [
        "<IPython.core.display.Javascript at 0x15144710>"
       ]
      },
      {
       "javascript": [
        "\n",
        "        var $myPB = $(\"div#680e2a08-a315-4b77-9bb2-76261339087c\")\n",
        "        if ($myPB.hasClass('ui-progressbar')) {\n",
        "            $myPB.progressbar('value', 500);\n",
        "        } else {\n",
        "            $myPB.progressbar({value: 0, max: 1000});\n",
        "        }\n",
        "        "
       ],
       "metadata": {},
       "output_type": "display_data",
       "text": [
        "<IPython.core.display.Javascript at 0x1b33d9e8>"
       ]
      },
      {
       "javascript": [
        "$('div#463450b6-6c1d-42fc-b0a3-af33f3d56193').text('ETA:  0:00:04');"
       ],
       "metadata": {},
       "output_type": "display_data",
       "text": [
        "<IPython.core.display.Javascript at 0x1beae518>"
       ]
      },
      {
       "javascript": [
        "$('div#ed80dfa0-4eab-4a88-aad9-471cbb5567ee').text('510 of 1000');"
       ],
       "metadata": {},
       "output_type": "display_data",
       "text": [
        "<IPython.core.display.Javascript at 0x1b33d9e8>"
       ]
      },
      {
       "javascript": [
        "$('div#ab03fbdf-5fe8-4cf1-8235-a244abb06b67').text(' 51%');"
       ],
       "metadata": {},
       "output_type": "display_data",
       "text": [
        "<IPython.core.display.Javascript at 0x18cd1eb8>"
       ]
      },
      {
       "javascript": [
        "\n",
        "        var $myPB = $(\"div#680e2a08-a315-4b77-9bb2-76261339087c\")\n",
        "        if ($myPB.hasClass('ui-progressbar')) {\n",
        "            $myPB.progressbar('value', 510);\n",
        "        } else {\n",
        "            $myPB.progressbar({value: 0, max: 1000});\n",
        "        }\n",
        "        "
       ],
       "metadata": {},
       "output_type": "display_data",
       "text": [
        "<IPython.core.display.Javascript at 0x15144710>"
       ]
      },
      {
       "javascript": [
        "$('div#463450b6-6c1d-42fc-b0a3-af33f3d56193').text('ETA:  0:00:04');"
       ],
       "metadata": {},
       "output_type": "display_data",
       "text": [
        "<IPython.core.display.Javascript at 0x1beae518>"
       ]
      },
      {
       "javascript": [
        "$('div#ed80dfa0-4eab-4a88-aad9-471cbb5567ee').text('520 of 1000');"
       ],
       "metadata": {},
       "output_type": "display_data",
       "text": [
        "<IPython.core.display.Javascript at 0x15144710>"
       ]
      },
      {
       "javascript": [
        "$('div#ab03fbdf-5fe8-4cf1-8235-a244abb06b67').text(' 52%');"
       ],
       "metadata": {},
       "output_type": "display_data",
       "text": [
        "<IPython.core.display.Javascript at 0x1b33d9e8>"
       ]
      },
      {
       "javascript": [
        "\n",
        "        var $myPB = $(\"div#680e2a08-a315-4b77-9bb2-76261339087c\")\n",
        "        if ($myPB.hasClass('ui-progressbar')) {\n",
        "            $myPB.progressbar('value', 520);\n",
        "        } else {\n",
        "            $myPB.progressbar({value: 0, max: 1000});\n",
        "        }\n",
        "        "
       ],
       "metadata": {},
       "output_type": "display_data",
       "text": [
        "<IPython.core.display.Javascript at 0x18cd1eb8>"
       ]
      },
      {
       "javascript": [
        "$('div#463450b6-6c1d-42fc-b0a3-af33f3d56193').text('ETA:  0:00:04');"
       ],
       "metadata": {},
       "output_type": "display_data",
       "text": [
        "<IPython.core.display.Javascript at 0x1beae518>"
       ]
      },
      {
       "javascript": [
        "$('div#ed80dfa0-4eab-4a88-aad9-471cbb5567ee').text('530 of 1000');"
       ],
       "metadata": {},
       "output_type": "display_data",
       "text": [
        "<IPython.core.display.Javascript at 0x18cd1eb8>"
       ]
      },
      {
       "javascript": [
        "$('div#ab03fbdf-5fe8-4cf1-8235-a244abb06b67').text(' 53%');"
       ],
       "metadata": {},
       "output_type": "display_data",
       "text": [
        "<IPython.core.display.Javascript at 0x1b33d9e8>"
       ]
      },
      {
       "javascript": [
        "\n",
        "        var $myPB = $(\"div#680e2a08-a315-4b77-9bb2-76261339087c\")\n",
        "        if ($myPB.hasClass('ui-progressbar')) {\n",
        "            $myPB.progressbar('value', 530);\n",
        "        } else {\n",
        "            $myPB.progressbar({value: 0, max: 1000});\n",
        "        }\n",
        "        "
       ],
       "metadata": {},
       "output_type": "display_data",
       "text": [
        "<IPython.core.display.Javascript at 0x15144710>"
       ]
      },
      {
       "javascript": [
        "$('div#463450b6-6c1d-42fc-b0a3-af33f3d56193').text('ETA:  0:00:04');"
       ],
       "metadata": {},
       "output_type": "display_data",
       "text": [
        "<IPython.core.display.Javascript at 0x1beae518>"
       ]
      },
      {
       "javascript": [
        "$('div#ed80dfa0-4eab-4a88-aad9-471cbb5567ee').text('540 of 1000');"
       ],
       "metadata": {},
       "output_type": "display_data",
       "text": [
        "<IPython.core.display.Javascript at 0x15144710>"
       ]
      },
      {
       "javascript": [
        "$('div#ab03fbdf-5fe8-4cf1-8235-a244abb06b67').text(' 54%');"
       ],
       "metadata": {},
       "output_type": "display_data",
       "text": [
        "<IPython.core.display.Javascript at 0x18cd1eb8>"
       ]
      },
      {
       "javascript": [
        "\n",
        "        var $myPB = $(\"div#680e2a08-a315-4b77-9bb2-76261339087c\")\n",
        "        if ($myPB.hasClass('ui-progressbar')) {\n",
        "            $myPB.progressbar('value', 540);\n",
        "        } else {\n",
        "            $myPB.progressbar({value: 0, max: 1000});\n",
        "        }\n",
        "        "
       ],
       "metadata": {},
       "output_type": "display_data",
       "text": [
        "<IPython.core.display.Javascript at 0x1b33d9e8>"
       ]
      },
      {
       "javascript": [
        "$('div#463450b6-6c1d-42fc-b0a3-af33f3d56193').text('ETA:  0:00:04');"
       ],
       "metadata": {},
       "output_type": "display_data",
       "text": [
        "<IPython.core.display.Javascript at 0x1beae518>"
       ]
      },
      {
       "javascript": [
        "$('div#ed80dfa0-4eab-4a88-aad9-471cbb5567ee').text('550 of 1000');"
       ],
       "metadata": {},
       "output_type": "display_data",
       "text": [
        "<IPython.core.display.Javascript at 0x18cd1eb8>"
       ]
      },
      {
       "javascript": [
        "$('div#ab03fbdf-5fe8-4cf1-8235-a244abb06b67').text(' 55%');"
       ],
       "metadata": {},
       "output_type": "display_data",
       "text": [
        "<IPython.core.display.Javascript at 0x1b33d9e8>"
       ]
      },
      {
       "javascript": [
        "\n",
        "        var $myPB = $(\"div#680e2a08-a315-4b77-9bb2-76261339087c\")\n",
        "        if ($myPB.hasClass('ui-progressbar')) {\n",
        "            $myPB.progressbar('value', 550);\n",
        "        } else {\n",
        "            $myPB.progressbar({value: 0, max: 1000});\n",
        "        }\n",
        "        "
       ],
       "metadata": {},
       "output_type": "display_data",
       "text": [
        "<IPython.core.display.Javascript at 0x15144710>"
       ]
      },
      {
       "javascript": [
        "$('div#463450b6-6c1d-42fc-b0a3-af33f3d56193').text('ETA:  0:00:04');"
       ],
       "metadata": {},
       "output_type": "display_data",
       "text": [
        "<IPython.core.display.Javascript at 0x1beae518>"
       ]
      },
      {
       "javascript": [
        "$('div#ed80dfa0-4eab-4a88-aad9-471cbb5567ee').text('560 of 1000');"
       ],
       "metadata": {},
       "output_type": "display_data",
       "text": [
        "<IPython.core.display.Javascript at 0x1b33d9e8>"
       ]
      },
      {
       "javascript": [
        "$('div#ab03fbdf-5fe8-4cf1-8235-a244abb06b67').text(' 56%');"
       ],
       "metadata": {},
       "output_type": "display_data",
       "text": [
        "<IPython.core.display.Javascript at 0x15144710>"
       ]
      },
      {
       "javascript": [
        "\n",
        "        var $myPB = $(\"div#680e2a08-a315-4b77-9bb2-76261339087c\")\n",
        "        if ($myPB.hasClass('ui-progressbar')) {\n",
        "            $myPB.progressbar('value', 560);\n",
        "        } else {\n",
        "            $myPB.progressbar({value: 0, max: 1000});\n",
        "        }\n",
        "        "
       ],
       "metadata": {},
       "output_type": "display_data",
       "text": [
        "<IPython.core.display.Javascript at 0x18cd1eb8>"
       ]
      },
      {
       "javascript": [
        "$('div#463450b6-6c1d-42fc-b0a3-af33f3d56193').text('ETA:  0:00:04');"
       ],
       "metadata": {},
       "output_type": "display_data",
       "text": [
        "<IPython.core.display.Javascript at 0x1beae518>"
       ]
      },
      {
       "javascript": [
        "$('div#ed80dfa0-4eab-4a88-aad9-471cbb5567ee').text('570 of 1000');"
       ],
       "metadata": {},
       "output_type": "display_data",
       "text": [
        "<IPython.core.display.Javascript at 0x15144710>"
       ]
      },
      {
       "javascript": [
        "$('div#ab03fbdf-5fe8-4cf1-8235-a244abb06b67').text(' 57%');"
       ],
       "metadata": {},
       "output_type": "display_data",
       "text": [
        "<IPython.core.display.Javascript at 0x18cd1eb8>"
       ]
      },
      {
       "javascript": [
        "\n",
        "        var $myPB = $(\"div#680e2a08-a315-4b77-9bb2-76261339087c\")\n",
        "        if ($myPB.hasClass('ui-progressbar')) {\n",
        "            $myPB.progressbar('value', 570);\n",
        "        } else {\n",
        "            $myPB.progressbar({value: 0, max: 1000});\n",
        "        }\n",
        "        "
       ],
       "metadata": {},
       "output_type": "display_data",
       "text": [
        "<IPython.core.display.Javascript at 0x1b33d9e8>"
       ]
      },
      {
       "javascript": [
        "$('div#463450b6-6c1d-42fc-b0a3-af33f3d56193').text('ETA:  0:00:04');"
       ],
       "metadata": {},
       "output_type": "display_data",
       "text": [
        "<IPython.core.display.Javascript at 0x1beae518>"
       ]
      },
      {
       "javascript": [
        "$('div#ed80dfa0-4eab-4a88-aad9-471cbb5567ee').text('580 of 1000');"
       ],
       "metadata": {},
       "output_type": "display_data",
       "text": [
        "<IPython.core.display.Javascript at 0x18cd1eb8>"
       ]
      },
      {
       "javascript": [
        "$('div#ab03fbdf-5fe8-4cf1-8235-a244abb06b67').text(' 58%');"
       ],
       "metadata": {},
       "output_type": "display_data",
       "text": [
        "<IPython.core.display.Javascript at 0x1b33d9e8>"
       ]
      },
      {
       "javascript": [
        "\n",
        "        var $myPB = $(\"div#680e2a08-a315-4b77-9bb2-76261339087c\")\n",
        "        if ($myPB.hasClass('ui-progressbar')) {\n",
        "            $myPB.progressbar('value', 580);\n",
        "        } else {\n",
        "            $myPB.progressbar({value: 0, max: 1000});\n",
        "        }\n",
        "        "
       ],
       "metadata": {},
       "output_type": "display_data",
       "text": [
        "<IPython.core.display.Javascript at 0x15144710>"
       ]
      },
      {
       "javascript": [
        "$('div#463450b6-6c1d-42fc-b0a3-af33f3d56193').text('ETA:  0:00:04');"
       ],
       "metadata": {},
       "output_type": "display_data",
       "text": [
        "<IPython.core.display.Javascript at 0x15144710>"
       ]
      },
      {
       "javascript": [
        "$('div#ed80dfa0-4eab-4a88-aad9-471cbb5567ee').text('590 of 1000');"
       ],
       "metadata": {},
       "output_type": "display_data",
       "text": [
        "<IPython.core.display.Javascript at 0x1b33d9e8>"
       ]
      },
      {
       "javascript": [
        "$('div#ab03fbdf-5fe8-4cf1-8235-a244abb06b67').text(' 59%');"
       ],
       "metadata": {},
       "output_type": "display_data",
       "text": [
        "<IPython.core.display.Javascript at 0x18cd1eb8>"
       ]
      },
      {
       "javascript": [
        "\n",
        "        var $myPB = $(\"div#680e2a08-a315-4b77-9bb2-76261339087c\")\n",
        "        if ($myPB.hasClass('ui-progressbar')) {\n",
        "            $myPB.progressbar('value', 590);\n",
        "        } else {\n",
        "            $myPB.progressbar({value: 0, max: 1000});\n",
        "        }\n",
        "        "
       ],
       "metadata": {},
       "output_type": "display_data",
       "text": [
        "<IPython.core.display.Javascript at 0x1beae518>"
       ]
      },
      {
       "javascript": [
        "$('div#463450b6-6c1d-42fc-b0a3-af33f3d56193').text('ETA:  0:00:04');"
       ],
       "metadata": {},
       "output_type": "display_data",
       "text": [
        "<IPython.core.display.Javascript at 0x18cd1eb8>"
       ]
      },
      {
       "javascript": [
        "$('div#ed80dfa0-4eab-4a88-aad9-471cbb5567ee').text('600 of 1000');"
       ],
       "metadata": {},
       "output_type": "display_data",
       "text": [
        "<IPython.core.display.Javascript at 0x1b33d9e8>"
       ]
      },
      {
       "javascript": [
        "$('div#ab03fbdf-5fe8-4cf1-8235-a244abb06b67').text(' 60%');"
       ],
       "metadata": {},
       "output_type": "display_data",
       "text": [
        "<IPython.core.display.Javascript at 0x15144710>"
       ]
      },
      {
       "javascript": [
        "\n",
        "        var $myPB = $(\"div#680e2a08-a315-4b77-9bb2-76261339087c\")\n",
        "        if ($myPB.hasClass('ui-progressbar')) {\n",
        "            $myPB.progressbar('value', 600);\n",
        "        } else {\n",
        "            $myPB.progressbar({value: 0, max: 1000});\n",
        "        }\n",
        "        "
       ],
       "metadata": {},
       "output_type": "display_data",
       "text": [
        "<IPython.core.display.Javascript at 0x1beaecc0>"
       ]
      },
      {
       "javascript": [
        "$('div#463450b6-6c1d-42fc-b0a3-af33f3d56193').text('ETA:  0:00:04');"
       ],
       "metadata": {},
       "output_type": "display_data",
       "text": [
        "<IPython.core.display.Javascript at 0x15144710>"
       ]
      },
      {
       "javascript": [
        "$('div#ed80dfa0-4eab-4a88-aad9-471cbb5567ee').text('610 of 1000');"
       ],
       "metadata": {},
       "output_type": "display_data",
       "text": [
        "<IPython.core.display.Javascript at 0x1b33d9e8>"
       ]
      },
      {
       "javascript": [
        "$('div#ab03fbdf-5fe8-4cf1-8235-a244abb06b67').text(' 61%');"
       ],
       "metadata": {},
       "output_type": "display_data",
       "text": [
        "<IPython.core.display.Javascript at 0x18cd1eb8>"
       ]
      },
      {
       "javascript": [
        "\n",
        "        var $myPB = $(\"div#680e2a08-a315-4b77-9bb2-76261339087c\")\n",
        "        if ($myPB.hasClass('ui-progressbar')) {\n",
        "            $myPB.progressbar('value', 610);\n",
        "        } else {\n",
        "            $myPB.progressbar({value: 0, max: 1000});\n",
        "        }\n",
        "        "
       ],
       "metadata": {},
       "output_type": "display_data",
       "text": [
        "<IPython.core.display.Javascript at 0x1beae048>"
       ]
      },
      {
       "javascript": [
        "$('div#463450b6-6c1d-42fc-b0a3-af33f3d56193').text('ETA:  0:00:03');"
       ],
       "metadata": {},
       "output_type": "display_data",
       "text": [
        "<IPython.core.display.Javascript at 0x18cd1eb8>"
       ]
      },
      {
       "javascript": [
        "$('div#ed80dfa0-4eab-4a88-aad9-471cbb5567ee').text('620 of 1000');"
       ],
       "metadata": {},
       "output_type": "display_data",
       "text": [
        "<IPython.core.display.Javascript at 0x1b33d9e8>"
       ]
      },
      {
       "javascript": [
        "$('div#ab03fbdf-5fe8-4cf1-8235-a244abb06b67').text(' 62%');"
       ],
       "metadata": {},
       "output_type": "display_data",
       "text": [
        "<IPython.core.display.Javascript at 0x15144710>"
       ]
      },
      {
       "javascript": [
        "\n",
        "        var $myPB = $(\"div#680e2a08-a315-4b77-9bb2-76261339087c\")\n",
        "        if ($myPB.hasClass('ui-progressbar')) {\n",
        "            $myPB.progressbar('value', 620);\n",
        "        } else {\n",
        "            $myPB.progressbar({value: 0, max: 1000});\n",
        "        }\n",
        "        "
       ],
       "metadata": {},
       "output_type": "display_data",
       "text": [
        "<IPython.core.display.Javascript at 0x1beae5c0>"
       ]
      },
      {
       "javascript": [
        "$('div#463450b6-6c1d-42fc-b0a3-af33f3d56193').text('ETA:  0:00:03');"
       ],
       "metadata": {},
       "output_type": "display_data",
       "text": [
        "<IPython.core.display.Javascript at 0x1b33d9e8>"
       ]
      },
      {
       "javascript": [
        "$('div#ed80dfa0-4eab-4a88-aad9-471cbb5567ee').text('630 of 1000');"
       ],
       "metadata": {},
       "output_type": "display_data",
       "text": [
        "<IPython.core.display.Javascript at 0x15144710>"
       ]
      },
      {
       "javascript": [
        "$('div#ab03fbdf-5fe8-4cf1-8235-a244abb06b67').text(' 63%');"
       ],
       "metadata": {},
       "output_type": "display_data",
       "text": [
        "<IPython.core.display.Javascript at 0x18cd1eb8>"
       ]
      },
      {
       "javascript": [
        "\n",
        "        var $myPB = $(\"div#680e2a08-a315-4b77-9bb2-76261339087c\")\n",
        "        if ($myPB.hasClass('ui-progressbar')) {\n",
        "            $myPB.progressbar('value', 630);\n",
        "        } else {\n",
        "            $myPB.progressbar({value: 0, max: 1000});\n",
        "        }\n",
        "        "
       ],
       "metadata": {},
       "output_type": "display_data",
       "text": [
        "<IPython.core.display.Javascript at 0x1beae5c0>"
       ]
      },
      {
       "javascript": [
        "$('div#463450b6-6c1d-42fc-b0a3-af33f3d56193').text('ETA:  0:00:03');"
       ],
       "metadata": {},
       "output_type": "display_data",
       "text": [
        "<IPython.core.display.Javascript at 0x15144710>"
       ]
      },
      {
       "javascript": [
        "$('div#ed80dfa0-4eab-4a88-aad9-471cbb5567ee').text('640 of 1000');"
       ],
       "metadata": {},
       "output_type": "display_data",
       "text": [
        "<IPython.core.display.Javascript at 0x18cd1eb8>"
       ]
      },
      {
       "javascript": [
        "$('div#ab03fbdf-5fe8-4cf1-8235-a244abb06b67').text(' 64%');"
       ],
       "metadata": {},
       "output_type": "display_data",
       "text": [
        "<IPython.core.display.Javascript at 0x1b33d9e8>"
       ]
      },
      {
       "javascript": [
        "\n",
        "        var $myPB = $(\"div#680e2a08-a315-4b77-9bb2-76261339087c\")\n",
        "        if ($myPB.hasClass('ui-progressbar')) {\n",
        "            $myPB.progressbar('value', 640);\n",
        "        } else {\n",
        "            $myPB.progressbar({value: 0, max: 1000});\n",
        "        }\n",
        "        "
       ],
       "metadata": {},
       "output_type": "display_data",
       "text": [
        "<IPython.core.display.Javascript at 0x1beaea58>"
       ]
      },
      {
       "javascript": [
        "$('div#463450b6-6c1d-42fc-b0a3-af33f3d56193').text('ETA:  0:00:03');"
       ],
       "metadata": {},
       "output_type": "display_data",
       "text": [
        "<IPython.core.display.Javascript at 0x18cd1eb8>"
       ]
      },
      {
       "javascript": [
        "$('div#ed80dfa0-4eab-4a88-aad9-471cbb5567ee').text('650 of 1000');"
       ],
       "metadata": {},
       "output_type": "display_data",
       "text": [
        "<IPython.core.display.Javascript at 0x1b33d9e8>"
       ]
      },
      {
       "javascript": [
        "$('div#ab03fbdf-5fe8-4cf1-8235-a244abb06b67').text(' 65%');"
       ],
       "metadata": {},
       "output_type": "display_data",
       "text": [
        "<IPython.core.display.Javascript at 0x15144710>"
       ]
      },
      {
       "javascript": [
        "\n",
        "        var $myPB = $(\"div#680e2a08-a315-4b77-9bb2-76261339087c\")\n",
        "        if ($myPB.hasClass('ui-progressbar')) {\n",
        "            $myPB.progressbar('value', 650);\n",
        "        } else {\n",
        "            $myPB.progressbar({value: 0, max: 1000});\n",
        "        }\n",
        "        "
       ],
       "metadata": {},
       "output_type": "display_data",
       "text": [
        "<IPython.core.display.Javascript at 0x1beaea58>"
       ]
      },
      {
       "javascript": [
        "$('div#463450b6-6c1d-42fc-b0a3-af33f3d56193').text('ETA:  0:00:03');"
       ],
       "metadata": {},
       "output_type": "display_data",
       "text": [
        "<IPython.core.display.Javascript at 0x1b33d9e8>"
       ]
      },
      {
       "javascript": [
        "$('div#ed80dfa0-4eab-4a88-aad9-471cbb5567ee').text('660 of 1000');"
       ],
       "metadata": {},
       "output_type": "display_data",
       "text": [
        "<IPython.core.display.Javascript at 0x15144710>"
       ]
      },
      {
       "javascript": [
        "$('div#ab03fbdf-5fe8-4cf1-8235-a244abb06b67').text(' 66%');"
       ],
       "metadata": {},
       "output_type": "display_data",
       "text": [
        "<IPython.core.display.Javascript at 0x18cd1eb8>"
       ]
      },
      {
       "javascript": [
        "\n",
        "        var $myPB = $(\"div#680e2a08-a315-4b77-9bb2-76261339087c\")\n",
        "        if ($myPB.hasClass('ui-progressbar')) {\n",
        "            $myPB.progressbar('value', 660);\n",
        "        } else {\n",
        "            $myPB.progressbar({value: 0, max: 1000});\n",
        "        }\n",
        "        "
       ],
       "metadata": {},
       "output_type": "display_data",
       "text": [
        "<IPython.core.display.Javascript at 0x18cd1eb8>"
       ]
      },
      {
       "javascript": [
        "$('div#463450b6-6c1d-42fc-b0a3-af33f3d56193').text('ETA:  0:00:03');"
       ],
       "metadata": {},
       "output_type": "display_data",
       "text": [
        "<IPython.core.display.Javascript at 0x15144710>"
       ]
      },
      {
       "javascript": [
        "$('div#ed80dfa0-4eab-4a88-aad9-471cbb5567ee').text('670 of 1000');"
       ],
       "metadata": {},
       "output_type": "display_data",
       "text": [
        "<IPython.core.display.Javascript at 0x1b33d9e8>"
       ]
      },
      {
       "javascript": [
        "$('div#ab03fbdf-5fe8-4cf1-8235-a244abb06b67').text(' 67%');"
       ],
       "metadata": {},
       "output_type": "display_data",
       "text": [
        "<IPython.core.display.Javascript at 0x1beae048>"
       ]
      },
      {
       "javascript": [
        "\n",
        "        var $myPB = $(\"div#680e2a08-a315-4b77-9bb2-76261339087c\")\n",
        "        if ($myPB.hasClass('ui-progressbar')) {\n",
        "            $myPB.progressbar('value', 670);\n",
        "        } else {\n",
        "            $myPB.progressbar({value: 0, max: 1000});\n",
        "        }\n",
        "        "
       ],
       "metadata": {},
       "output_type": "display_data",
       "text": [
        "<IPython.core.display.Javascript at 0x1b33d9e8>"
       ]
      },
      {
       "javascript": [
        "$('div#463450b6-6c1d-42fc-b0a3-af33f3d56193').text('ETA:  0:00:03');"
       ],
       "metadata": {},
       "output_type": "display_data",
       "text": [
        "<IPython.core.display.Javascript at 0x15144710>"
       ]
      },
      {
       "javascript": [
        "$('div#ed80dfa0-4eab-4a88-aad9-471cbb5567ee').text('680 of 1000');"
       ],
       "metadata": {},
       "output_type": "display_data",
       "text": [
        "<IPython.core.display.Javascript at 0x18cd1eb8>"
       ]
      },
      {
       "javascript": [
        "$('div#ab03fbdf-5fe8-4cf1-8235-a244abb06b67').text(' 68%');"
       ],
       "metadata": {},
       "output_type": "display_data",
       "text": [
        "<IPython.core.display.Javascript at 0x1beae5c0>"
       ]
      },
      {
       "javascript": [
        "\n",
        "        var $myPB = $(\"div#680e2a08-a315-4b77-9bb2-76261339087c\")\n",
        "        if ($myPB.hasClass('ui-progressbar')) {\n",
        "            $myPB.progressbar('value', 680);\n",
        "        } else {\n",
        "            $myPB.progressbar({value: 0, max: 1000});\n",
        "        }\n",
        "        "
       ],
       "metadata": {},
       "output_type": "display_data",
       "text": [
        "<IPython.core.display.Javascript at 0x18cd1eb8>"
       ]
      },
      {
       "javascript": [
        "$('div#463450b6-6c1d-42fc-b0a3-af33f3d56193').text('ETA:  0:00:03');"
       ],
       "metadata": {},
       "output_type": "display_data",
       "text": [
        "<IPython.core.display.Javascript at 0x15144710>"
       ]
      },
      {
       "javascript": [
        "$('div#ed80dfa0-4eab-4a88-aad9-471cbb5567ee').text('690 of 1000');"
       ],
       "metadata": {},
       "output_type": "display_data",
       "text": [
        "<IPython.core.display.Javascript at 0x1b33d9e8>"
       ]
      },
      {
       "javascript": [
        "$('div#ab03fbdf-5fe8-4cf1-8235-a244abb06b67').text(' 69%');"
       ],
       "metadata": {},
       "output_type": "display_data",
       "text": [
        "<IPython.core.display.Javascript at 0x1beae5c0>"
       ]
      },
      {
       "javascript": [
        "\n",
        "        var $myPB = $(\"div#680e2a08-a315-4b77-9bb2-76261339087c\")\n",
        "        if ($myPB.hasClass('ui-progressbar')) {\n",
        "            $myPB.progressbar('value', 690);\n",
        "        } else {\n",
        "            $myPB.progressbar({value: 0, max: 1000});\n",
        "        }\n",
        "        "
       ],
       "metadata": {},
       "output_type": "display_data",
       "text": [
        "<IPython.core.display.Javascript at 0x15144710>"
       ]
      },
      {
       "javascript": [
        "$('div#463450b6-6c1d-42fc-b0a3-af33f3d56193').text('ETA:  0:00:03');"
       ],
       "metadata": {},
       "output_type": "display_data",
       "text": [
        "<IPython.core.display.Javascript at 0x1b33d9e8>"
       ]
      },
      {
       "javascript": [
        "$('div#ed80dfa0-4eab-4a88-aad9-471cbb5567ee').text('700 of 1000');"
       ],
       "metadata": {},
       "output_type": "display_data",
       "text": [
        "<IPython.core.display.Javascript at 0x18cd1eb8>"
       ]
      },
      {
       "javascript": [
        "$('div#ab03fbdf-5fe8-4cf1-8235-a244abb06b67').text(' 70%');"
       ],
       "metadata": {},
       "output_type": "display_data",
       "text": [
        "<IPython.core.display.Javascript at 0x1beaecc0>"
       ]
      },
      {
       "javascript": [
        "\n",
        "        var $myPB = $(\"div#680e2a08-a315-4b77-9bb2-76261339087c\")\n",
        "        if ($myPB.hasClass('ui-progressbar')) {\n",
        "            $myPB.progressbar('value', 700);\n",
        "        } else {\n",
        "            $myPB.progressbar({value: 0, max: 1000});\n",
        "        }\n",
        "        "
       ],
       "metadata": {},
       "output_type": "display_data",
       "text": [
        "<IPython.core.display.Javascript at 0x15144710>"
       ]
      },
      {
       "javascript": [
        "$('div#463450b6-6c1d-42fc-b0a3-af33f3d56193').text('ETA:  0:00:03');"
       ],
       "metadata": {},
       "output_type": "display_data",
       "text": [
        "<IPython.core.display.Javascript at 0x1b33d9e8>"
       ]
      },
      {
       "javascript": [
        "$('div#ed80dfa0-4eab-4a88-aad9-471cbb5567ee').text('710 of 1000');"
       ],
       "metadata": {},
       "output_type": "display_data",
       "text": [
        "<IPython.core.display.Javascript at 0x18cd1eb8>"
       ]
      },
      {
       "javascript": [
        "$('div#ab03fbdf-5fe8-4cf1-8235-a244abb06b67').text(' 71%');"
       ],
       "metadata": {},
       "output_type": "display_data",
       "text": [
        "<IPython.core.display.Javascript at 0x18cd1eb8>"
       ]
      },
      {
       "javascript": [
        "\n",
        "        var $myPB = $(\"div#680e2a08-a315-4b77-9bb2-76261339087c\")\n",
        "        if ($myPB.hasClass('ui-progressbar')) {\n",
        "            $myPB.progressbar('value', 710);\n",
        "        } else {\n",
        "            $myPB.progressbar({value: 0, max: 1000});\n",
        "        }\n",
        "        "
       ],
       "metadata": {},
       "output_type": "display_data",
       "text": [
        "<IPython.core.display.Javascript at 0x1b33d9e8>"
       ]
      },
      {
       "javascript": [
        "$('div#463450b6-6c1d-42fc-b0a3-af33f3d56193').text('ETA:  0:00:02');"
       ],
       "metadata": {},
       "output_type": "display_data",
       "text": [
        "<IPython.core.display.Javascript at 0x15144710>"
       ]
      },
      {
       "javascript": [
        "$('div#ed80dfa0-4eab-4a88-aad9-471cbb5567ee').text('720 of 1000');"
       ],
       "metadata": {},
       "output_type": "display_data",
       "text": [
        "<IPython.core.display.Javascript at 0x1beae518>"
       ]
      },
      {
       "javascript": [
        "$('div#ab03fbdf-5fe8-4cf1-8235-a244abb06b67').text(' 72%');"
       ],
       "metadata": {},
       "output_type": "display_data",
       "text": [
        "<IPython.core.display.Javascript at 0x15144710>"
       ]
      },
      {
       "javascript": [
        "\n",
        "        var $myPB = $(\"div#680e2a08-a315-4b77-9bb2-76261339087c\")\n",
        "        if ($myPB.hasClass('ui-progressbar')) {\n",
        "            $myPB.progressbar('value', 720);\n",
        "        } else {\n",
        "            $myPB.progressbar({value: 0, max: 1000});\n",
        "        }\n",
        "        "
       ],
       "metadata": {},
       "output_type": "display_data",
       "text": [
        "<IPython.core.display.Javascript at 0x1b33d9e8>"
       ]
      },
      {
       "javascript": [
        "$('div#463450b6-6c1d-42fc-b0a3-af33f3d56193').text('ETA:  0:00:02');"
       ],
       "metadata": {},
       "output_type": "display_data",
       "text": [
        "<IPython.core.display.Javascript at 0x18cd1eb8>"
       ]
      },
      {
       "javascript": [
        "$('div#ed80dfa0-4eab-4a88-aad9-471cbb5567ee').text('730 of 1000');"
       ],
       "metadata": {},
       "output_type": "display_data",
       "text": [
        "<IPython.core.display.Javascript at 0x1beae518>"
       ]
      },
      {
       "javascript": [
        "$('div#ab03fbdf-5fe8-4cf1-8235-a244abb06b67').text(' 73%');"
       ],
       "metadata": {},
       "output_type": "display_data",
       "text": [
        "<IPython.core.display.Javascript at 0x18cd1eb8>"
       ]
      },
      {
       "javascript": [
        "\n",
        "        var $myPB = $(\"div#680e2a08-a315-4b77-9bb2-76261339087c\")\n",
        "        if ($myPB.hasClass('ui-progressbar')) {\n",
        "            $myPB.progressbar('value', 730);\n",
        "        } else {\n",
        "            $myPB.progressbar({value: 0, max: 1000});\n",
        "        }\n",
        "        "
       ],
       "metadata": {},
       "output_type": "display_data",
       "text": [
        "<IPython.core.display.Javascript at 0x1b33d9e8>"
       ]
      },
      {
       "javascript": [
        "$('div#463450b6-6c1d-42fc-b0a3-af33f3d56193').text('ETA:  0:00:02');"
       ],
       "metadata": {},
       "output_type": "display_data",
       "text": [
        "<IPython.core.display.Javascript at 0x15144710>"
       ]
      },
      {
       "javascript": [
        "$('div#ed80dfa0-4eab-4a88-aad9-471cbb5567ee').text('740 of 1000');"
       ],
       "metadata": {},
       "output_type": "display_data",
       "text": [
        "<IPython.core.display.Javascript at 0x1beae518>"
       ]
      },
      {
       "javascript": [
        "$('div#ab03fbdf-5fe8-4cf1-8235-a244abb06b67').text(' 74%');"
       ],
       "metadata": {},
       "output_type": "display_data",
       "text": [
        "<IPython.core.display.Javascript at 0x15144710>"
       ]
      },
      {
       "javascript": [
        "\n",
        "        var $myPB = $(\"div#680e2a08-a315-4b77-9bb2-76261339087c\")\n",
        "        if ($myPB.hasClass('ui-progressbar')) {\n",
        "            $myPB.progressbar('value', 740);\n",
        "        } else {\n",
        "            $myPB.progressbar({value: 0, max: 1000});\n",
        "        }\n",
        "        "
       ],
       "metadata": {},
       "output_type": "display_data",
       "text": [
        "<IPython.core.display.Javascript at 0x1b33d9e8>"
       ]
      },
      {
       "javascript": [
        "$('div#463450b6-6c1d-42fc-b0a3-af33f3d56193').text('ETA:  0:00:02');"
       ],
       "metadata": {},
       "output_type": "display_data",
       "text": [
        "<IPython.core.display.Javascript at 0x18cd1eb8>"
       ]
      },
      {
       "javascript": [
        "$('div#ed80dfa0-4eab-4a88-aad9-471cbb5567ee').text('750 of 1000');"
       ],
       "metadata": {},
       "output_type": "display_data",
       "text": [
        "<IPython.core.display.Javascript at 0x1beae518>"
       ]
      },
      {
       "javascript": [
        "$('div#ab03fbdf-5fe8-4cf1-8235-a244abb06b67').text(' 75%');"
       ],
       "metadata": {},
       "output_type": "display_data",
       "text": [
        "<IPython.core.display.Javascript at 0x18cd1eb8>"
       ]
      },
      {
       "javascript": [
        "\n",
        "        var $myPB = $(\"div#680e2a08-a315-4b77-9bb2-76261339087c\")\n",
        "        if ($myPB.hasClass('ui-progressbar')) {\n",
        "            $myPB.progressbar('value', 750);\n",
        "        } else {\n",
        "            $myPB.progressbar({value: 0, max: 1000});\n",
        "        }\n",
        "        "
       ],
       "metadata": {},
       "output_type": "display_data",
       "text": [
        "<IPython.core.display.Javascript at 0x1b33d9e8>"
       ]
      },
      {
       "javascript": [
        "$('div#463450b6-6c1d-42fc-b0a3-af33f3d56193').text('ETA:  0:00:02');"
       ],
       "metadata": {},
       "output_type": "display_data",
       "text": [
        "<IPython.core.display.Javascript at 0x15144710>"
       ]
      },
      {
       "javascript": [
        "$('div#ed80dfa0-4eab-4a88-aad9-471cbb5567ee').text('760 of 1000');"
       ],
       "metadata": {},
       "output_type": "display_data",
       "text": [
        "<IPython.core.display.Javascript at 0x1beae518>"
       ]
      },
      {
       "javascript": [
        "$('div#ab03fbdf-5fe8-4cf1-8235-a244abb06b67').text(' 76%');"
       ],
       "metadata": {},
       "output_type": "display_data",
       "text": [
        "<IPython.core.display.Javascript at 0x1b33d9e8>"
       ]
      },
      {
       "javascript": [
        "\n",
        "        var $myPB = $(\"div#680e2a08-a315-4b77-9bb2-76261339087c\")\n",
        "        if ($myPB.hasClass('ui-progressbar')) {\n",
        "            $myPB.progressbar('value', 760);\n",
        "        } else {\n",
        "            $myPB.progressbar({value: 0, max: 1000});\n",
        "        }\n",
        "        "
       ],
       "metadata": {},
       "output_type": "display_data",
       "text": [
        "<IPython.core.display.Javascript at 0x15144710>"
       ]
      },
      {
       "javascript": [
        "$('div#463450b6-6c1d-42fc-b0a3-af33f3d56193').text('ETA:  0:00:02');"
       ],
       "metadata": {},
       "output_type": "display_data",
       "text": [
        "<IPython.core.display.Javascript at 0x18cd1eb8>"
       ]
      },
      {
       "javascript": [
        "$('div#ed80dfa0-4eab-4a88-aad9-471cbb5567ee').text('770 of 1000');"
       ],
       "metadata": {},
       "output_type": "display_data",
       "text": [
        "<IPython.core.display.Javascript at 0x1beae518>"
       ]
      },
      {
       "javascript": [
        "$('div#ab03fbdf-5fe8-4cf1-8235-a244abb06b67').text(' 77%');"
       ],
       "metadata": {},
       "output_type": "display_data",
       "text": [
        "<IPython.core.display.Javascript at 0x1b33d9e8>"
       ]
      },
      {
       "javascript": [
        "\n",
        "        var $myPB = $(\"div#680e2a08-a315-4b77-9bb2-76261339087c\")\n",
        "        if ($myPB.hasClass('ui-progressbar')) {\n",
        "            $myPB.progressbar('value', 770);\n",
        "        } else {\n",
        "            $myPB.progressbar({value: 0, max: 1000});\n",
        "        }\n",
        "        "
       ],
       "metadata": {},
       "output_type": "display_data",
       "text": [
        "<IPython.core.display.Javascript at 0x15144710>"
       ]
      },
      {
       "javascript": [
        "$('div#463450b6-6c1d-42fc-b0a3-af33f3d56193').text('ETA:  0:00:02');"
       ],
       "metadata": {},
       "output_type": "display_data",
       "text": [
        "<IPython.core.display.Javascript at 0x18cd1eb8>"
       ]
      },
      {
       "javascript": [
        "$('div#ed80dfa0-4eab-4a88-aad9-471cbb5567ee').text('780 of 1000');"
       ],
       "metadata": {},
       "output_type": "display_data",
       "text": [
        "<IPython.core.display.Javascript at 0x18cd1eb8>"
       ]
      },
      {
       "javascript": [
        "$('div#ab03fbdf-5fe8-4cf1-8235-a244abb06b67').text(' 78%');"
       ],
       "metadata": {},
       "output_type": "display_data",
       "text": [
        "<IPython.core.display.Javascript at 0x15144710>"
       ]
      },
      {
       "javascript": [
        "\n",
        "        var $myPB = $(\"div#680e2a08-a315-4b77-9bb2-76261339087c\")\n",
        "        if ($myPB.hasClass('ui-progressbar')) {\n",
        "            $myPB.progressbar('value', 780);\n",
        "        } else {\n",
        "            $myPB.progressbar({value: 0, max: 1000});\n",
        "        }\n",
        "        "
       ],
       "metadata": {},
       "output_type": "display_data",
       "text": [
        "<IPython.core.display.Javascript at 0x1b33d9e8>"
       ]
      },
      {
       "javascript": [
        "$('div#463450b6-6c1d-42fc-b0a3-af33f3d56193').text('ETA:  0:00:02');"
       ],
       "metadata": {},
       "output_type": "display_data",
       "text": [
        "<IPython.core.display.Javascript at 0x1beaecc0>"
       ]
      },
      {
       "javascript": [
        "$('div#ed80dfa0-4eab-4a88-aad9-471cbb5567ee').text('790 of 1000');"
       ],
       "metadata": {},
       "output_type": "display_data",
       "text": [
        "<IPython.core.display.Javascript at 0x1b33d9e8>"
       ]
      },
      {
       "javascript": [
        "$('div#ab03fbdf-5fe8-4cf1-8235-a244abb06b67').text(' 79%');"
       ],
       "metadata": {},
       "output_type": "display_data",
       "text": [
        "<IPython.core.display.Javascript at 0x15144710>"
       ]
      },
      {
       "javascript": [
        "\n",
        "        var $myPB = $(\"div#680e2a08-a315-4b77-9bb2-76261339087c\")\n",
        "        if ($myPB.hasClass('ui-progressbar')) {\n",
        "            $myPB.progressbar('value', 790);\n",
        "        } else {\n",
        "            $myPB.progressbar({value: 0, max: 1000});\n",
        "        }\n",
        "        "
       ],
       "metadata": {},
       "output_type": "display_data",
       "text": [
        "<IPython.core.display.Javascript at 0x18cd1eb8>"
       ]
      },
      {
       "javascript": [
        "$('div#463450b6-6c1d-42fc-b0a3-af33f3d56193').text('ETA:  0:00:02');"
       ],
       "metadata": {},
       "output_type": "display_data",
       "text": [
        "<IPython.core.display.Javascript at 0x1beaecc0>"
       ]
      },
      {
       "javascript": [
        "$('div#ed80dfa0-4eab-4a88-aad9-471cbb5567ee').text('800 of 1000');"
       ],
       "metadata": {},
       "output_type": "display_data",
       "text": [
        "<IPython.core.display.Javascript at 0x18cd1eb8>"
       ]
      },
      {
       "javascript": [
        "$('div#ab03fbdf-5fe8-4cf1-8235-a244abb06b67').text(' 80%');"
       ],
       "metadata": {},
       "output_type": "display_data",
       "text": [
        "<IPython.core.display.Javascript at 0x1b33d9e8>"
       ]
      },
      {
       "javascript": [
        "\n",
        "        var $myPB = $(\"div#680e2a08-a315-4b77-9bb2-76261339087c\")\n",
        "        if ($myPB.hasClass('ui-progressbar')) {\n",
        "            $myPB.progressbar('value', 800);\n",
        "        } else {\n",
        "            $myPB.progressbar({value: 0, max: 1000});\n",
        "        }\n",
        "        "
       ],
       "metadata": {},
       "output_type": "display_data",
       "text": [
        "<IPython.core.display.Javascript at 0x15144710>"
       ]
      },
      {
       "javascript": [
        "$('div#463450b6-6c1d-42fc-b0a3-af33f3d56193').text('ETA:  0:00:02');"
       ],
       "metadata": {},
       "output_type": "display_data",
       "text": [
        "<IPython.core.display.Javascript at 0x1beaecc0>"
       ]
      },
      {
       "javascript": [
        "$('div#ed80dfa0-4eab-4a88-aad9-471cbb5567ee').text('810 of 1000');"
       ],
       "metadata": {},
       "output_type": "display_data",
       "text": [
        "<IPython.core.display.Javascript at 0x1b33d9e8>"
       ]
      },
      {
       "javascript": [
        "$('div#ab03fbdf-5fe8-4cf1-8235-a244abb06b67').text(' 81%');"
       ],
       "metadata": {},
       "output_type": "display_data",
       "text": [
        "<IPython.core.display.Javascript at 0x18cd1eb8>"
       ]
      },
      {
       "javascript": [
        "\n",
        "        var $myPB = $(\"div#680e2a08-a315-4b77-9bb2-76261339087c\")\n",
        "        if ($myPB.hasClass('ui-progressbar')) {\n",
        "            $myPB.progressbar('value', 810);\n",
        "        } else {\n",
        "            $myPB.progressbar({value: 0, max: 1000});\n",
        "        }\n",
        "        "
       ],
       "metadata": {},
       "output_type": "display_data",
       "text": [
        "<IPython.core.display.Javascript at 0x15144710>"
       ]
      },
      {
       "javascript": [
        "$('div#463450b6-6c1d-42fc-b0a3-af33f3d56193').text('ETA:  0:00:01');"
       ],
       "metadata": {},
       "output_type": "display_data",
       "text": [
        "<IPython.core.display.Javascript at 0x1beaecc0>"
       ]
      },
      {
       "javascript": [
        "$('div#ed80dfa0-4eab-4a88-aad9-471cbb5567ee').text('820 of 1000');"
       ],
       "metadata": {},
       "output_type": "display_data",
       "text": [
        "<IPython.core.display.Javascript at 0x18cd1eb8>"
       ]
      },
      {
       "javascript": [
        "$('div#ab03fbdf-5fe8-4cf1-8235-a244abb06b67').text(' 82%');"
       ],
       "metadata": {},
       "output_type": "display_data",
       "text": [
        "<IPython.core.display.Javascript at 0x1b33d9e8>"
       ]
      },
      {
       "javascript": [
        "\n",
        "        var $myPB = $(\"div#680e2a08-a315-4b77-9bb2-76261339087c\")\n",
        "        if ($myPB.hasClass('ui-progressbar')) {\n",
        "            $myPB.progressbar('value', 820);\n",
        "        } else {\n",
        "            $myPB.progressbar({value: 0, max: 1000});\n",
        "        }\n",
        "        "
       ],
       "metadata": {},
       "output_type": "display_data",
       "text": [
        "<IPython.core.display.Javascript at 0x15144710>"
       ]
      },
      {
       "javascript": [
        "$('div#463450b6-6c1d-42fc-b0a3-af33f3d56193').text('ETA:  0:00:01');"
       ],
       "metadata": {},
       "output_type": "display_data",
       "text": [
        "<IPython.core.display.Javascript at 0x15144710>"
       ]
      },
      {
       "javascript": [
        "$('div#ed80dfa0-4eab-4a88-aad9-471cbb5567ee').text('830 of 1000');"
       ],
       "metadata": {},
       "output_type": "display_data",
       "text": [
        "<IPython.core.display.Javascript at 0x1b33d9e8>"
       ]
      },
      {
       "javascript": [
        "$('div#ab03fbdf-5fe8-4cf1-8235-a244abb06b67').text(' 83%');"
       ],
       "metadata": {},
       "output_type": "display_data",
       "text": [
        "<IPython.core.display.Javascript at 0x18cd1eb8>"
       ]
      },
      {
       "javascript": [
        "\n",
        "        var $myPB = $(\"div#680e2a08-a315-4b77-9bb2-76261339087c\")\n",
        "        if ($myPB.hasClass('ui-progressbar')) {\n",
        "            $myPB.progressbar('value', 830);\n",
        "        } else {\n",
        "            $myPB.progressbar({value: 0, max: 1000});\n",
        "        }\n",
        "        "
       ],
       "metadata": {},
       "output_type": "display_data",
       "text": [
        "<IPython.core.display.Javascript at 0x1beaecc0>"
       ]
      },
      {
       "javascript": [
        "$('div#463450b6-6c1d-42fc-b0a3-af33f3d56193').text('ETA:  0:00:01');"
       ],
       "metadata": {},
       "output_type": "display_data",
       "text": [
        "<IPython.core.display.Javascript at 0x18cd1eb8>"
       ]
      },
      {
       "javascript": [
        "$('div#ed80dfa0-4eab-4a88-aad9-471cbb5567ee').text('840 of 1000');"
       ],
       "metadata": {},
       "output_type": "display_data",
       "text": [
        "<IPython.core.display.Javascript at 0x1b33d9e8>"
       ]
      },
      {
       "javascript": [
        "$('div#ab03fbdf-5fe8-4cf1-8235-a244abb06b67').text(' 84%');"
       ],
       "metadata": {},
       "output_type": "display_data",
       "text": [
        "<IPython.core.display.Javascript at 0x15144710>"
       ]
      },
      {
       "javascript": [
        "\n",
        "        var $myPB = $(\"div#680e2a08-a315-4b77-9bb2-76261339087c\")\n",
        "        if ($myPB.hasClass('ui-progressbar')) {\n",
        "            $myPB.progressbar('value', 840);\n",
        "        } else {\n",
        "            $myPB.progressbar({value: 0, max: 1000});\n",
        "        }\n",
        "        "
       ],
       "metadata": {},
       "output_type": "display_data",
       "text": [
        "<IPython.core.display.Javascript at 0x1beaecc0>"
       ]
      },
      {
       "javascript": [
        "$('div#463450b6-6c1d-42fc-b0a3-af33f3d56193').text('ETA:  0:00:01');"
       ],
       "metadata": {},
       "output_type": "display_data",
       "text": [
        "<IPython.core.display.Javascript at 0x15144710>"
       ]
      },
      {
       "javascript": [
        "$('div#ed80dfa0-4eab-4a88-aad9-471cbb5567ee').text('850 of 1000');"
       ],
       "metadata": {},
       "output_type": "display_data",
       "text": [
        "<IPython.core.display.Javascript at 0x1b33d9e8>"
       ]
      },
      {
       "javascript": [
        "$('div#ab03fbdf-5fe8-4cf1-8235-a244abb06b67').text(' 85%');"
       ],
       "metadata": {},
       "output_type": "display_data",
       "text": [
        "<IPython.core.display.Javascript at 0x18cd1eb8>"
       ]
      },
      {
       "javascript": [
        "\n",
        "        var $myPB = $(\"div#680e2a08-a315-4b77-9bb2-76261339087c\")\n",
        "        if ($myPB.hasClass('ui-progressbar')) {\n",
        "            $myPB.progressbar('value', 850);\n",
        "        } else {\n",
        "            $myPB.progressbar({value: 0, max: 1000});\n",
        "        }\n",
        "        "
       ],
       "metadata": {},
       "output_type": "display_data",
       "text": [
        "<IPython.core.display.Javascript at 0x1beae898>"
       ]
      },
      {
       "javascript": [
        "$('div#463450b6-6c1d-42fc-b0a3-af33f3d56193').text('ETA:  0:00:01');"
       ],
       "metadata": {},
       "output_type": "display_data",
       "text": [
        "<IPython.core.display.Javascript at 0x1b33d9e8>"
       ]
      },
      {
       "javascript": [
        "$('div#ed80dfa0-4eab-4a88-aad9-471cbb5567ee').text('860 of 1000');"
       ],
       "metadata": {},
       "output_type": "display_data",
       "text": [
        "<IPython.core.display.Javascript at 0x18cd1eb8>"
       ]
      },
      {
       "javascript": [
        "$('div#ab03fbdf-5fe8-4cf1-8235-a244abb06b67').text(' 86%');"
       ],
       "metadata": {},
       "output_type": "display_data",
       "text": [
        "<IPython.core.display.Javascript at 0x15144710>"
       ]
      },
      {
       "javascript": [
        "\n",
        "        var $myPB = $(\"div#680e2a08-a315-4b77-9bb2-76261339087c\")\n",
        "        if ($myPB.hasClass('ui-progressbar')) {\n",
        "            $myPB.progressbar('value', 860);\n",
        "        } else {\n",
        "            $myPB.progressbar({value: 0, max: 1000});\n",
        "        }\n",
        "        "
       ],
       "metadata": {},
       "output_type": "display_data",
       "text": [
        "<IPython.core.display.Javascript at 0x1beae898>"
       ]
      },
      {
       "javascript": [
        "$('div#463450b6-6c1d-42fc-b0a3-af33f3d56193').text('ETA:  0:00:01');"
       ],
       "metadata": {},
       "output_type": "display_data",
       "text": [
        "<IPython.core.display.Javascript at 0x18cd1eb8>"
       ]
      },
      {
       "javascript": [
        "$('div#ed80dfa0-4eab-4a88-aad9-471cbb5567ee').text('870 of 1000');"
       ],
       "metadata": {},
       "output_type": "display_data",
       "text": [
        "<IPython.core.display.Javascript at 0x1b33d9e8>"
       ]
      },
      {
       "javascript": [
        "$('div#ab03fbdf-5fe8-4cf1-8235-a244abb06b67').text(' 87%');"
       ],
       "metadata": {},
       "output_type": "display_data",
       "text": [
        "<IPython.core.display.Javascript at 0x15144710>"
       ]
      },
      {
       "javascript": [
        "\n",
        "        var $myPB = $(\"div#680e2a08-a315-4b77-9bb2-76261339087c\")\n",
        "        if ($myPB.hasClass('ui-progressbar')) {\n",
        "            $myPB.progressbar('value', 870);\n",
        "        } else {\n",
        "            $myPB.progressbar({value: 0, max: 1000});\n",
        "        }\n",
        "        "
       ],
       "metadata": {},
       "output_type": "display_data",
       "text": [
        "<IPython.core.display.Javascript at 0x15144710>"
       ]
      },
      {
       "javascript": [
        "$('div#463450b6-6c1d-42fc-b0a3-af33f3d56193').text('ETA:  0:00:01');"
       ],
       "metadata": {},
       "output_type": "display_data",
       "text": [
        "<IPython.core.display.Javascript at 0x1b33d9e8>"
       ]
      },
      {
       "javascript": [
        "$('div#ed80dfa0-4eab-4a88-aad9-471cbb5567ee').text('880 of 1000');"
       ],
       "metadata": {},
       "output_type": "display_data",
       "text": [
        "<IPython.core.display.Javascript at 0x18cd1eb8>"
       ]
      },
      {
       "javascript": [
        "$('div#ab03fbdf-5fe8-4cf1-8235-a244abb06b67').text(' 88%');"
       ],
       "metadata": {},
       "output_type": "display_data",
       "text": [
        "<IPython.core.display.Javascript at 0x1beae898>"
       ]
      },
      {
       "javascript": [
        "\n",
        "        var $myPB = $(\"div#680e2a08-a315-4b77-9bb2-76261339087c\")\n",
        "        if ($myPB.hasClass('ui-progressbar')) {\n",
        "            $myPB.progressbar('value', 880);\n",
        "        } else {\n",
        "            $myPB.progressbar({value: 0, max: 1000});\n",
        "        }\n",
        "        "
       ],
       "metadata": {},
       "output_type": "display_data",
       "text": [
        "<IPython.core.display.Javascript at 0x18cd1eb8>"
       ]
      },
      {
       "javascript": [
        "$('div#463450b6-6c1d-42fc-b0a3-af33f3d56193').text('ETA:  0:00:01');"
       ],
       "metadata": {},
       "output_type": "display_data",
       "text": [
        "<IPython.core.display.Javascript at 0x1b33d9e8>"
       ]
      },
      {
       "javascript": [
        "$('div#ed80dfa0-4eab-4a88-aad9-471cbb5567ee').text('890 of 1000');"
       ],
       "metadata": {},
       "output_type": "display_data",
       "text": [
        "<IPython.core.display.Javascript at 0x15144710>"
       ]
      },
      {
       "javascript": [
        "$('div#ab03fbdf-5fe8-4cf1-8235-a244abb06b67').text(' 89%');"
       ],
       "metadata": {},
       "output_type": "display_data",
       "text": [
        "<IPython.core.display.Javascript at 0x1beaecc0>"
       ]
      },
      {
       "javascript": [
        "\n",
        "        var $myPB = $(\"div#680e2a08-a315-4b77-9bb2-76261339087c\")\n",
        "        if ($myPB.hasClass('ui-progressbar')) {\n",
        "            $myPB.progressbar('value', 890);\n",
        "        } else {\n",
        "            $myPB.progressbar({value: 0, max: 1000});\n",
        "        }\n",
        "        "
       ],
       "metadata": {},
       "output_type": "display_data",
       "text": [
        "<IPython.core.display.Javascript at 0x15144710>"
       ]
      },
      {
       "javascript": [
        "$('div#463450b6-6c1d-42fc-b0a3-af33f3d56193').text('ETA:  0:00:01');"
       ],
       "metadata": {},
       "output_type": "display_data",
       "text": [
        "<IPython.core.display.Javascript at 0x1b33d9e8>"
       ]
      },
      {
       "javascript": [
        "$('div#ed80dfa0-4eab-4a88-aad9-471cbb5567ee').text('900 of 1000');"
       ],
       "metadata": {},
       "output_type": "display_data",
       "text": [
        "<IPython.core.display.Javascript at 0x18cd1eb8>"
       ]
      },
      {
       "javascript": [
        "$('div#ab03fbdf-5fe8-4cf1-8235-a244abb06b67').text(' 90%');"
       ],
       "metadata": {},
       "output_type": "display_data",
       "text": [
        "<IPython.core.display.Javascript at 0x1beae5c0>"
       ]
      },
      {
       "javascript": [
        "\n",
        "        var $myPB = $(\"div#680e2a08-a315-4b77-9bb2-76261339087c\")\n",
        "        if ($myPB.hasClass('ui-progressbar')) {\n",
        "            $myPB.progressbar('value', 900);\n",
        "        } else {\n",
        "            $myPB.progressbar({value: 0, max: 1000});\n",
        "        }\n",
        "        "
       ],
       "metadata": {},
       "output_type": "display_data",
       "text": [
        "<IPython.core.display.Javascript at 0x18cd1eb8>"
       ]
      },
      {
       "javascript": [
        "$('div#463450b6-6c1d-42fc-b0a3-af33f3d56193').text('ETA:  0:00:01');"
       ],
       "metadata": {},
       "output_type": "display_data",
       "text": [
        "<IPython.core.display.Javascript at 0x1b33d9e8>"
       ]
      },
      {
       "javascript": [
        "$('div#ed80dfa0-4eab-4a88-aad9-471cbb5567ee').text('910 of 1000');"
       ],
       "metadata": {},
       "output_type": "display_data",
       "text": [
        "<IPython.core.display.Javascript at 0x15144710>"
       ]
      },
      {
       "javascript": [
        "$('div#ab03fbdf-5fe8-4cf1-8235-a244abb06b67').text(' 91%');"
       ],
       "metadata": {},
       "output_type": "display_data",
       "text": [
        "<IPython.core.display.Javascript at 0x1beae048>"
       ]
      },
      {
       "javascript": [
        "\n",
        "        var $myPB = $(\"div#680e2a08-a315-4b77-9bb2-76261339087c\")\n",
        "        if ($myPB.hasClass('ui-progressbar')) {\n",
        "            $myPB.progressbar('value', 910);\n",
        "        } else {\n",
        "            $myPB.progressbar({value: 0, max: 1000});\n",
        "        }\n",
        "        "
       ],
       "metadata": {},
       "output_type": "display_data",
       "text": [
        "<IPython.core.display.Javascript at 0x15144710>"
       ]
      },
      {
       "javascript": [
        "$('div#463450b6-6c1d-42fc-b0a3-af33f3d56193').text('ETA:  0:00:00');"
       ],
       "metadata": {},
       "output_type": "display_data",
       "text": [
        "<IPython.core.display.Javascript at 0x1b33d9e8>"
       ]
      },
      {
       "javascript": [
        "$('div#ed80dfa0-4eab-4a88-aad9-471cbb5567ee').text('920 of 1000');"
       ],
       "metadata": {},
       "output_type": "display_data",
       "text": [
        "<IPython.core.display.Javascript at 0x18cd1eb8>"
       ]
      },
      {
       "javascript": [
        "$('div#ab03fbdf-5fe8-4cf1-8235-a244abb06b67').text(' 92%');"
       ],
       "metadata": {},
       "output_type": "display_data",
       "text": [
        "<IPython.core.display.Javascript at 0x1beaea58>"
       ]
      },
      {
       "javascript": [
        "\n",
        "        var $myPB = $(\"div#680e2a08-a315-4b77-9bb2-76261339087c\")\n",
        "        if ($myPB.hasClass('ui-progressbar')) {\n",
        "            $myPB.progressbar('value', 920);\n",
        "        } else {\n",
        "            $myPB.progressbar({value: 0, max: 1000});\n",
        "        }\n",
        "        "
       ],
       "metadata": {},
       "output_type": "display_data",
       "text": [
        "<IPython.core.display.Javascript at 0x18cd1eb8>"
       ]
      },
      {
       "javascript": [
        "$('div#463450b6-6c1d-42fc-b0a3-af33f3d56193').text('ETA:  0:00:00');"
       ],
       "metadata": {},
       "output_type": "display_data",
       "text": [
        "<IPython.core.display.Javascript at 0x1b33d9e8>"
       ]
      },
      {
       "javascript": [
        "$('div#ed80dfa0-4eab-4a88-aad9-471cbb5567ee').text('930 of 1000');"
       ],
       "metadata": {},
       "output_type": "display_data",
       "text": [
        "<IPython.core.display.Javascript at 0x15144710>"
       ]
      },
      {
       "javascript": [
        "$('div#ab03fbdf-5fe8-4cf1-8235-a244abb06b67').text(' 93%');"
       ],
       "metadata": {},
       "output_type": "display_data",
       "text": [
        "<IPython.core.display.Javascript at 0x1beae898>"
       ]
      },
      {
       "javascript": [
        "\n",
        "        var $myPB = $(\"div#680e2a08-a315-4b77-9bb2-76261339087c\")\n",
        "        if ($myPB.hasClass('ui-progressbar')) {\n",
        "            $myPB.progressbar('value', 930);\n",
        "        } else {\n",
        "            $myPB.progressbar({value: 0, max: 1000});\n",
        "        }\n",
        "        "
       ],
       "metadata": {},
       "output_type": "display_data",
       "text": [
        "<IPython.core.display.Javascript at 0x15144710>"
       ]
      },
      {
       "javascript": [
        "$('div#463450b6-6c1d-42fc-b0a3-af33f3d56193').text('ETA:  0:00:00');"
       ],
       "metadata": {},
       "output_type": "display_data",
       "text": [
        "<IPython.core.display.Javascript at 0x1b33d9e8>"
       ]
      },
      {
       "javascript": [
        "$('div#ed80dfa0-4eab-4a88-aad9-471cbb5567ee').text('940 of 1000');"
       ],
       "metadata": {},
       "output_type": "display_data",
       "text": [
        "<IPython.core.display.Javascript at 0x18cd1eb8>"
       ]
      },
      {
       "javascript": [
        "$('div#ab03fbdf-5fe8-4cf1-8235-a244abb06b67').text(' 94%');"
       ],
       "metadata": {},
       "output_type": "display_data",
       "text": [
        "<IPython.core.display.Javascript at 0x1beae898>"
       ]
      },
      {
       "javascript": [
        "\n",
        "        var $myPB = $(\"div#680e2a08-a315-4b77-9bb2-76261339087c\")\n",
        "        if ($myPB.hasClass('ui-progressbar')) {\n",
        "            $myPB.progressbar('value', 940);\n",
        "        } else {\n",
        "            $myPB.progressbar({value: 0, max: 1000});\n",
        "        }\n",
        "        "
       ],
       "metadata": {},
       "output_type": "display_data",
       "text": [
        "<IPython.core.display.Javascript at 0x18cd1eb8>"
       ]
      },
      {
       "javascript": [
        "$('div#463450b6-6c1d-42fc-b0a3-af33f3d56193').text('ETA:  0:00:00');"
       ],
       "metadata": {},
       "output_type": "display_data",
       "text": [
        "<IPython.core.display.Javascript at 0x1b33d9e8>"
       ]
      },
      {
       "javascript": [
        "$('div#ed80dfa0-4eab-4a88-aad9-471cbb5567ee').text('950 of 1000');"
       ],
       "metadata": {},
       "output_type": "display_data",
       "text": [
        "<IPython.core.display.Javascript at 0x15144710>"
       ]
      },
      {
       "javascript": [
        "$('div#ab03fbdf-5fe8-4cf1-8235-a244abb06b67').text(' 95%');"
       ],
       "metadata": {},
       "output_type": "display_data",
       "text": [
        "<IPython.core.display.Javascript at 0x1beae5c0>"
       ]
      },
      {
       "javascript": [
        "\n",
        "        var $myPB = $(\"div#680e2a08-a315-4b77-9bb2-76261339087c\")\n",
        "        if ($myPB.hasClass('ui-progressbar')) {\n",
        "            $myPB.progressbar('value', 950);\n",
        "        } else {\n",
        "            $myPB.progressbar({value: 0, max: 1000});\n",
        "        }\n",
        "        "
       ],
       "metadata": {},
       "output_type": "display_data",
       "text": [
        "<IPython.core.display.Javascript at 0x15144710>"
       ]
      },
      {
       "javascript": [
        "$('div#463450b6-6c1d-42fc-b0a3-af33f3d56193').text('ETA:  0:00:00');"
       ],
       "metadata": {},
       "output_type": "display_data",
       "text": [
        "<IPython.core.display.Javascript at 0x1b33d9e8>"
       ]
      },
      {
       "javascript": [
        "$('div#ed80dfa0-4eab-4a88-aad9-471cbb5567ee').text('960 of 1000');"
       ],
       "metadata": {},
       "output_type": "display_data",
       "text": [
        "<IPython.core.display.Javascript at 0x18cd1eb8>"
       ]
      },
      {
       "javascript": [
        "$('div#ab03fbdf-5fe8-4cf1-8235-a244abb06b67').text(' 96%');"
       ],
       "metadata": {},
       "output_type": "display_data",
       "text": [
        "<IPython.core.display.Javascript at 0x1beae5c0>"
       ]
      },
      {
       "javascript": [
        "\n",
        "        var $myPB = $(\"div#680e2a08-a315-4b77-9bb2-76261339087c\")\n",
        "        if ($myPB.hasClass('ui-progressbar')) {\n",
        "            $myPB.progressbar('value', 960);\n",
        "        } else {\n",
        "            $myPB.progressbar({value: 0, max: 1000});\n",
        "        }\n",
        "        "
       ],
       "metadata": {},
       "output_type": "display_data",
       "text": [
        "<IPython.core.display.Javascript at 0x18cd1eb8>"
       ]
      },
      {
       "javascript": [
        "$('div#463450b6-6c1d-42fc-b0a3-af33f3d56193').text('ETA:  0:00:00');"
       ],
       "metadata": {},
       "output_type": "display_data",
       "text": [
        "<IPython.core.display.Javascript at 0x1b33d9e8>"
       ]
      },
      {
       "javascript": [
        "$('div#ed80dfa0-4eab-4a88-aad9-471cbb5567ee').text('970 of 1000');"
       ],
       "metadata": {},
       "output_type": "display_data",
       "text": [
        "<IPython.core.display.Javascript at 0x15144710>"
       ]
      },
      {
       "javascript": [
        "$('div#ab03fbdf-5fe8-4cf1-8235-a244abb06b67').text(' 97%');"
       ],
       "metadata": {},
       "output_type": "display_data",
       "text": [
        "<IPython.core.display.Javascript at 0x1beaea58>"
       ]
      },
      {
       "javascript": [
        "\n",
        "        var $myPB = $(\"div#680e2a08-a315-4b77-9bb2-76261339087c\")\n",
        "        if ($myPB.hasClass('ui-progressbar')) {\n",
        "            $myPB.progressbar('value', 970);\n",
        "        } else {\n",
        "            $myPB.progressbar({value: 0, max: 1000});\n",
        "        }\n",
        "        "
       ],
       "metadata": {},
       "output_type": "display_data",
       "text": [
        "<IPython.core.display.Javascript at 0x15144710>"
       ]
      },
      {
       "javascript": [
        "$('div#463450b6-6c1d-42fc-b0a3-af33f3d56193').text('ETA:  0:00:00');"
       ],
       "metadata": {},
       "output_type": "display_data",
       "text": [
        "<IPython.core.display.Javascript at 0x1b33d9e8>"
       ]
      },
      {
       "javascript": [
        "$('div#ed80dfa0-4eab-4a88-aad9-471cbb5567ee').text('980 of 1000');"
       ],
       "metadata": {},
       "output_type": "display_data",
       "text": [
        "<IPython.core.display.Javascript at 0x18cd1eb8>"
       ]
      },
      {
       "javascript": [
        "$('div#ab03fbdf-5fe8-4cf1-8235-a244abb06b67').text(' 98%');"
       ],
       "metadata": {},
       "output_type": "display_data",
       "text": [
        "<IPython.core.display.Javascript at 0x1beaecc0>"
       ]
      },
      {
       "javascript": [
        "\n",
        "        var $myPB = $(\"div#680e2a08-a315-4b77-9bb2-76261339087c\")\n",
        "        if ($myPB.hasClass('ui-progressbar')) {\n",
        "            $myPB.progressbar('value', 980);\n",
        "        } else {\n",
        "            $myPB.progressbar({value: 0, max: 1000});\n",
        "        }\n",
        "        "
       ],
       "metadata": {},
       "output_type": "display_data",
       "text": [
        "<IPython.core.display.Javascript at 0x18cd1eb8>"
       ]
      },
      {
       "javascript": [
        "$('div#463450b6-6c1d-42fc-b0a3-af33f3d56193').text('ETA:  0:00:00');"
       ],
       "metadata": {},
       "output_type": "display_data",
       "text": [
        "<IPython.core.display.Javascript at 0x1b33d9e8>"
       ]
      },
      {
       "javascript": [
        "$('div#ed80dfa0-4eab-4a88-aad9-471cbb5567ee').text('990 of 1000');"
       ],
       "metadata": {},
       "output_type": "display_data",
       "text": [
        "<IPython.core.display.Javascript at 0x15144710>"
       ]
      },
      {
       "javascript": [
        "$('div#ab03fbdf-5fe8-4cf1-8235-a244abb06b67').text(' 99%');"
       ],
       "metadata": {},
       "output_type": "display_data",
       "text": [
        "<IPython.core.display.Javascript at 0x1beaecc0>"
       ]
      },
      {
       "javascript": [
        "\n",
        "        var $myPB = $(\"div#680e2a08-a315-4b77-9bb2-76261339087c\")\n",
        "        if ($myPB.hasClass('ui-progressbar')) {\n",
        "            $myPB.progressbar('value', 990);\n",
        "        } else {\n",
        "            $myPB.progressbar({value: 0, max: 1000});\n",
        "        }\n",
        "        "
       ],
       "metadata": {},
       "output_type": "display_data",
       "text": [
        "<IPython.core.display.Javascript at 0x15144710>"
       ]
      },
      {
       "javascript": [
        "$('div#463450b6-6c1d-42fc-b0a3-af33f3d56193').text('ETA:  0:00:00');"
       ],
       "metadata": {},
       "output_type": "display_data",
       "text": [
        "<IPython.core.display.Javascript at 0x1b33d9e8>"
       ]
      },
      {
       "javascript": [
        "$('div#ed80dfa0-4eab-4a88-aad9-471cbb5567ee').text('1000 of 1000');"
       ],
       "metadata": {},
       "output_type": "display_data",
       "text": [
        "<IPython.core.display.Javascript at 0x18cd1eb8>"
       ]
      },
      {
       "javascript": [
        "$('div#ab03fbdf-5fe8-4cf1-8235-a244abb06b67').text('100%');"
       ],
       "metadata": {},
       "output_type": "display_data",
       "text": [
        "<IPython.core.display.Javascript at 0x1beae898>"
       ]
      },
      {
       "javascript": [
        "\n",
        "        var $myPB = $(\"div#680e2a08-a315-4b77-9bb2-76261339087c\")\n",
        "        if ($myPB.hasClass('ui-progressbar')) {\n",
        "            $myPB.progressbar('value', 1000);\n",
        "        } else {\n",
        "            $myPB.progressbar({value: 0, max: 1000});\n",
        "        }\n",
        "        "
       ],
       "metadata": {},
       "output_type": "display_data",
       "text": [
        "<IPython.core.display.Javascript at 0x1b33d9e8>"
       ]
      },
      {
       "javascript": [
        "$('div#463450b6-6c1d-42fc-b0a3-af33f3d56193').text('ETA:  0:00:00');"
       ],
       "metadata": {},
       "output_type": "display_data",
       "text": [
        "<IPython.core.display.Javascript at 0x18cd1eb8>"
       ]
      },
      {
       "javascript": [
        "$('div#ed80dfa0-4eab-4a88-aad9-471cbb5567ee').text('1000 of 1000');"
       ],
       "metadata": {},
       "output_type": "display_data",
       "text": [
        "<IPython.core.display.Javascript at 0x16f974e0>"
       ]
      },
      {
       "javascript": [
        "$('div#ab03fbdf-5fe8-4cf1-8235-a244abb06b67').text('100%');"
       ],
       "metadata": {},
       "output_type": "display_data",
       "text": [
        "<IPython.core.display.Javascript at 0x15144710>"
       ]
      },
      {
       "javascript": [
        "\n",
        "        var $myPB = $(\"div#680e2a08-a315-4b77-9bb2-76261339087c\")\n",
        "        if ($myPB.hasClass('ui-progressbar')) {\n",
        "            $myPB.progressbar('value', 1000);\n",
        "        } else {\n",
        "            $myPB.progressbar({value: 0, max: 1000});\n",
        "        }\n",
        "        "
       ],
       "metadata": {},
       "output_type": "display_data",
       "text": [
        "<IPython.core.display.Javascript at 0x15144710>"
       ]
      },
      {
       "javascript": [
        "$('div#463450b6-6c1d-42fc-b0a3-af33f3d56193').text('Time: 0:00:09');"
       ],
       "metadata": {},
       "output_type": "display_data",
       "text": [
        "<IPython.core.display.Javascript at 0x16f974e0>"
       ]
      },
      {
       "javascript": [
        "var element = document.getElementById('ff6ce68d-a780-4940-ad64-f6364548c390');\n",
        "                    var parent = element.parentNode\n",
        "                    parent.removeChild(element);\n",
        "                    parent.parentElement.remove();"
       ],
       "metadata": {},
       "output_type": "display_data",
       "text": [
        "<IPython.core.display.Javascript at 0x16b46978>"
       ]
      },
      {
       "javascript": [
        "this.cleanProgressBar(['ff6ce68d-a780-4940-ad64-f6364548c390', 'ed80dfa0-4eab-4a88-aad9-471cbb5567ee', 'ab03fbdf-5fe8-4cf1-8235-a244abb06b67', '680e2a08-a315-4b77-9bb2-76261339087c', '463450b6-6c1d-42fc-b0a3-af33f3d56193'])"
       ],
       "metadata": {},
       "output_type": "display_data",
       "text": [
        "<IPython.core.display.Javascript at 0x1b33d9e8>"
       ]
      },
      {
       "output_type": "stream",
       "stream": "stdout",
       "text": [
        "get_ner_entities_list() Started...\n",
        "get_ner_entities_list() DONE!\n",
        "get_ner_countries() Started...\n",
        "get_filtered_countries() Started...\n",
        "get_filtered_countries() DONE!\n",
        "get_filtered_countries() Started...\n",
        "get_filtered_countries() DONE!"
       ]
      },
      {
       "output_type": "stream",
       "stream": "stdout",
       "text": [
        "\n",
        "get_ner_countries() DONE!\n",
        "get_ner_organizations() Started...\n",
        "get_ner_organizations() DONE!\n"
       ]
      }
     ],
     "prompt_number": 46
    },
    {
     "cell_type": "code",
     "collapsed": false,
     "input": [
      "def filter_fd(fd, l):\n",
      "    result = [(f,i) for (f,i) in fd if not any([li.lower() in f.lower() or f.lower() in li.lower() for li in l])]\n",
      "    return result\n",
      "import calendar\n",
      "def filter_months(fd):\n",
      "    result = [(f,i) for f,i in fd if not any(mn in f.split(' ') for mn in calendar.month_name)]\n",
      "#     for f,i in fd:\n",
      "# #         fs = f.split(' ')\n",
      "#         if any(mn in f.split(' ') for mn in calendar.month_name):\n",
      "#             print f\n",
      "#         else:\n",
      "#             result.append((f,i))\n",
      "    return result\n",
      "# print nchunks\n",
      "nchunks2 = filter_months(nchunks)\n",
      "filter_fd(nchunks2, orgs)\n"
     ],
     "language": "python",
     "metadata": {},
     "outputs": [
      {
       "metadata": {},
       "output_type": "pyout",
       "prompt_number": 81,
       "text": [
        "[('Child', 4),\n",
        " ('Australia', 2),\n",
        " ('Gender Equality Bill', 2),\n",
        " ('Mali', 2),\n",
        " ('Thai women', 2),\n",
        " ('Thailand', 2),\n",
        " ('Venezuela Bolivarian Republic', 2),\n",
        " ('accession in New York', 2),\n",
        " ('informal meeting in Berlin', 2),\n",
        " ('2/2003 Ms T', 1),\n",
        " ('2005 Human Development Report ranked Australia', 1),\n",
        " ('2006 in Berlin', 1),\n",
        " ('702nd meeting Victoria', 1),\n",
        " ('Advancement of Women Carolyn', 1),\n",
        " ('Advancement of Women Rachel', 1),\n",
        " ('Australia Cambodia Mali Thailand', 1),\n",
        " ('Austria', 1),\n",
        " ('Azerbaijan', 1),\n",
        " ('Bolivarian Republic of Venezuela', 1),\n",
        " ('C Adoption', 1),\n",
        " (\"Cambodia's responses\", 1),\n",
        " ('Chile', 1),\n",
        " ('China', 1),\n",
        " ('Colombia', 1),\n",
        " ('Congo', 1),\n",
        " ('Cuba', 1),\n",
        " ('Denmark', 1),\n",
        " ('Deputy Permanent Representative of Israel', 1),\n",
        " ('E Organization', 1),\n",
        " ('Georgia', 1),\n",
        " ('Ghana', 1),\n",
        " ('Glenda Simms', 1),\n",
        " ('Government of Australia', 1),\n",
        " ('Government of Cambodia', 1),\n",
        " ('Government of Germany', 1),\n",
        " ('Government of Thailand', 1),\n",
        " ('Government of Venezuela', 1),\n",
        " ('Greece', 1),\n",
        " ('Guatemala', 1),\n",
        " ('Hungary', 1),\n",
        " ('India', 1),\n",
        " ('Jamaica', 1),\n",
        " ('Maria Regina', 1),\n",
        " ('Mexico', 1),\n",
        " ('Netherlands', 1),\n",
        " ('Nicaragua', 1),\n",
        " ('Niger', 1),\n",
        " ('Pakistan', 1),\n",
        " ('Permanent Mission of Israel', 1),\n",
        " ('Peru', 1),\n",
        " ('Philippines', 1),\n",
        " ('Poland', 1),\n",
        " ('Saint Lucia', 1),\n",
        " ('Signed Rosario G', 1),\n",
        " ('State party in granting Thai', 1),\n",
        " ('Syria', 1),\n",
        " ('T v', 1),\n",
        " ('Thai men may', 1),\n",
        " ('Victoria Popescu Sandru', 1),\n",
        " (\"Women's Rights Section Christine\", 1),\n",
        " ('cultural heritage of Cambodia', 1),\n",
        " (\"examination of Israel's\", 1),\n",
        " ('following States parties Australia Cambodia Eritrea Mali Thailand', 1),\n",
        " ('periodic report of Australia', 1),\n",
        " ('periodic report of Venezuela', 1),\n",
        " ('present concluding comments in Venezuela', 1),\n",
        " ('racism in Australia', 1),\n",
        " ('wide dissemination in Australia', 1),\n",
        " ('wide dissemination in Cambodia', 1),\n",
        " ('wide dissemination in Mali', 1),\n",
        " ('working group Mary Shanthi Dairiam Magalys Arocha Dominguez Francoise Gaspard',\n",
        "  1)]"
       ]
      }
     ],
     "prompt_number": 81
    },
    {
     "cell_type": "code",
     "collapsed": false,
     "input": [
      "cnts = []\n",
      "# for sent in sentences:\n",
      "cnts =[c for c in allcountries for sent in sentences if c in sent]\n",
      "print nltk.FreqDist(cnts).items()\n"
     ],
     "language": "python",
     "metadata": {},
     "outputs": [
      {
       "output_type": "stream",
       "stream": "stdout",
       "text": [
        "[('United', 22), ('Eritrea', 18), ('Cambodia', 13), ('Australia', 10), ('Togo', 10), ('Thai', 9), ('Thailand', 7), ('African', 6), ('Bolivarian', 6), ('New', 4), ('Israel', 2), ('Bosnia', 1), ('Cape', 1), ('China', 1), ('Colombia', 1), ('Cyprus', 1), ('Czech', 1), ('Democratic', 1), ('Denmark', 1), ('Georgia', 1), ('Germany', 1), ('Greece', 1), ('Herzegovina', 1), ('India', 1), ('Kazakhstan', 1), ('Malawi', 1), ('Malaysia', 1), ('Maldives', 1), ('Mauritania', 1), ('Mauritius', 1), ('Mexico', 1), ('Moldova', 1), ('Mozambique', 1), ('Namibia', 1), ('Netherlands', 1), ('Pakistan', 1), ('Poland', 1), ('Romania', 1), ('Singapore', 1), ('Tajikistan', 1), ('Turkmenistan', 1), ('Uzbekistan', 1), ('Vanuatu', 1)]\n"
       ]
      }
     ],
     "prompt_number": 92
    },
    {
     "cell_type": "code",
     "collapsed": false,
     "input": [
      "# nchunks = mun.get_chunks(tagged_sentences, chunker=mun.get_chunker(tag_set='brown', target='PNS'), target = 'PNS')\n",
      "# nchunks = mun.extract_target_from_chunks(nchunks, target='PNS')\n",
      "# nchunks = nltk.FreqDist(nchunks)"
     ],
     "language": "python",
     "metadata": {},
     "outputs": [],
     "prompt_number": 31
    },
    {
     "cell_type": "code",
     "collapsed": false,
     "input": [
      "allcountries"
     ],
     "language": "python",
     "metadata": {},
     "outputs": [
      {
       "metadata": {},
       "output_type": "pyout",
       "prompt_number": 45,
       "text": [
        "['African',\n",
        " 'American',\n",
        " 'Australia',\n",
        " 'Austria',\n",
        " 'Azerbaijan',\n",
        " 'Belize',\n",
        " 'Bolivarian',\n",
        " 'Bolivia',\n",
        " 'Bosnia',\n",
        " 'British',\n",
        " 'C',\n",
        " 'Cambodia',\n",
        " 'Cape',\n",
        " 'Chile',\n",
        " 'China',\n",
        " 'Colombia',\n",
        " 'Congo',\n",
        " 'Cuba',\n",
        " 'Cyprus',\n",
        " 'Czech',\n",
        " 'Democratic',\n",
        " 'Denmark',\n",
        " 'Dutch',\n",
        " 'Eritrea',\n",
        " 'Georgia',\n",
        " 'German',\n",
        " 'Germany',\n",
        " 'Ghana',\n",
        " 'Greece',\n",
        " 'Greenland',\n",
        " 'Guatemala',\n",
        " 'Herzegovina',\n",
        " 'Hong',\n",
        " 'Hong Kong',\n",
        " 'Hungary',\n",
        " 'India',\n",
        " 'Indonesia',\n",
        " 'Islam',\n",
        " 'Israel',\n",
        " 'Italy',\n",
        " 'Jamaica',\n",
        " 'Jordan',\n",
        " 'Kazakhstan',\n",
        " 'Lebanon',\n",
        " 'Malawi',\n",
        " 'Malaysia',\n",
        " 'Maldives',\n",
        " 'Mali',\n",
        " 'Mauritania',\n",
        " 'Mauritius',\n",
        " 'May',\n",
        " 'Mexico',\n",
        " 'Moldova',\n",
        " 'Mozambique',\n",
        " 'Namibia',\n",
        " 'Netherlands',\n",
        " 'New',\n",
        " 'Nicaragua',\n",
        " 'Niger',\n",
        " 'North',\n",
        " 'Northern',\n",
        " 'Pakistan',\n",
        " 'Peru',\n",
        " 'Philippines',\n",
        " 'Poland',\n",
        " 'Roma',\n",
        " 'Romania',\n",
        " 'Russian',\n",
        " 'Saint Lucia',\n",
        " 'San',\n",
        " 'Serbia',\n",
        " 'Singapore',\n",
        " 'Southern',\n",
        " 'Spain',\n",
        " 'State',\n",
        " 'Syria',\n",
        " 'Syrian',\n",
        " 'Syrian Arab',\n",
        " 'Tajikistan',\n",
        " 'Thai',\n",
        " 'Thailand',\n",
        " 'Togo',\n",
        " 'Tokelau',\n",
        " 'Turkey',\n",
        " 'Turkmen',\n",
        " 'Turkmenistan',\n",
        " 'Turks',\n",
        " 'United',\n",
        " 'Uzbek',\n",
        " 'Uzbekistan',\n",
        " 'Vanuatu',\n",
        " 'Viet Nam',\n",
        " 'Yemen']"
       ]
      }
     ],
     "prompt_number": 45
    }
   ],
   "metadata": {}
  }
 ]
}