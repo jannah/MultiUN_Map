{
 "metadata": {
  "name": "",
  "signature": "sha256:a8d4b719b5e750c6c73023aa43fa49b9652677ddb331a00952e05838a7403478"
 },
 "nbformat": 3,
 "nbformat_minor": 0,
 "worksheets": [
  {
   "cells": [
    {
     "cell_type": "code",
     "collapsed": false,
     "input": [
      "MODULES_PATH = '''../modules/multi_un_module.py'''\n",
      "import imp\n",
      "NF = imp.load_source('multi_un_module', MODULES_PATH)\n",
      "import multi_un_module as mun\n",
      "import nltk\n",
      "import string\n",
      "import pycountry as pc"
     ],
     "language": "python",
     "metadata": {},
     "outputs": [],
     "prompt_number": 184
    },
    {
     "cell_type": "code",
     "collapsed": false,
     "input": [
      "docs = mun.load_xml_files_by_year('TOP_100')\n",
      "print docs.keys()\n",
      "# default_doc = docs['A_56_17-en.xml']"
     ],
     "language": "python",
     "metadata": {},
     "outputs": [
      {
       "output_type": "stream",
       "stream": "stderr",
       "text": [
        "TOP_1000 of 98  0%|                                             |ETA:  --:--:--\r",
        "TOP_1001 of 98  1%|                                              |ETA:  0:00:06\r"
       ]
      },
      {
       "output_type": "stream",
       "stream": "stderr",
       "text": [
        "TOP_1002 of 98  2%|                                              |ETA:  0:00:05\r",
        "TOP_1003 of 98  3%|#                                             |ETA:  0:00:16\r"
       ]
      },
      {
       "output_type": "stream",
       "stream": "stderr",
       "text": [
        "TOP_1004 of 98  4%|#                                             |ETA:  0:00:13\r",
        "TOP_1005 of 98  5%|##                                            |ETA:  0:00:12\r"
       ]
      },
      {
       "output_type": "stream",
       "stream": "stderr",
       "text": [
        "TOP_1006 of 98  6%|##                                            |ETA:  0:00:17\r",
        "TOP_1007 of 98  7%|###                                           |ETA:  0:00:15\r"
       ]
      },
      {
       "output_type": "stream",
       "stream": "stderr",
       "text": [
        "TOP_1008 of 98  8%|###                                           |ETA:  0:00:13\r",
        "TOP_1009 of 98  9%|####                                          |ETA:  0:00:11\r",
        "TOP_10010 of 98 10%|####                                         |ETA:  0:00:11\r"
       ]
      },
      {
       "output_type": "stream",
       "stream": "stderr",
       "text": [
        "TOP_10011 of 98 11%|#####                                        |ETA:  0:00:10\r",
        "TOP_10012 of 98 12%|#####                                        |ETA:  0:00:09\r",
        "TOP_10013 of 98 13%|#####                                        |ETA:  0:00:08\r",
        "TOP_10014 of 98 14%|######                                       |ETA:  0:00:09\r"
       ]
      },
      {
       "output_type": "stream",
       "stream": "stderr",
       "text": [
        "TOP_10015 of 98 15%|######                                       |ETA:  0:00:08\r",
        "TOP_10016 of 98 16%|#######                                      |ETA:  0:00:08\r"
       ]
      },
      {
       "output_type": "stream",
       "stream": "stderr",
       "text": [
        "TOP_10017 of 98 17%|#######                                      |ETA:  0:00:08\r",
        "TOP_10018 of 98 18%|########                                     |ETA:  0:00:07\r",
        "TOP_10019 of 98 19%|########                                     |ETA:  0:00:07\r"
       ]
      },
      {
       "output_type": "stream",
       "stream": "stderr",
       "text": [
        "TOP_10020 of 98 20%|#########                                    |ETA:  0:00:07\r",
        "TOP_10021 of 98 21%|#########                                    |ETA:  0:00:07\r"
       ]
      },
      {
       "output_type": "stream",
       "stream": "stderr",
       "text": [
        "TOP_10022 of 98 22%|##########                                   |ETA:  0:00:07\r",
        "TOP_10023 of 98 23%|##########                                   |ETA:  0:00:07\r"
       ]
      },
      {
       "output_type": "stream",
       "stream": "stderr",
       "text": [
        "TOP_10024 of 98 24%|###########                                  |ETA:  0:00:09\r",
        "TOP_10025 of 98 25%|###########                                  |ETA:  0:00:09\r"
       ]
      },
      {
       "output_type": "stream",
       "stream": "stderr",
       "text": [
        "TOP_10026 of 98 26%|###########                                  |ETA:  0:00:09\r",
        "TOP_10027 of 98 27%|############                                 |ETA:  0:00:08\r"
       ]
      },
      {
       "output_type": "stream",
       "stream": "stderr",
       "text": [
        "TOP_10028 of 98 28%|############                                 |ETA:  0:00:08\r",
        "TOP_10029 of 98 29%|#############                                |ETA:  0:00:08\r"
       ]
      },
      {
       "output_type": "stream",
       "stream": "stderr",
       "text": [
        "TOP_10030 of 98 30%|#############                                |ETA:  0:00:08\r",
        "TOP_10031 of 98 31%|##############                               |ETA:  0:00:07\r"
       ]
      },
      {
       "output_type": "stream",
       "stream": "stderr",
       "text": [
        "TOP_10032 of 98 32%|##############                               |ETA:  0:00:07\r",
        "TOP_10033 of 98 33%|###############                              |ETA:  0:00:07\r",
        "TOP_10034 of 98 34%|###############                              |ETA:  0:00:07\r",
        "TOP_10035 of 98 35%|################                             |ETA:  0:00:06\r"
       ]
      },
      {
       "output_type": "stream",
       "stream": "stderr",
       "text": [
        "TOP_10036 of 98 36%|################                             |ETA:  0:00:06\r",
        "TOP_10037 of 98 37%|################                             |ETA:  0:00:06\r",
        "TOP_10038 of 98 38%|#################                            |ETA:  0:00:06\r"
       ]
      },
      {
       "output_type": "stream",
       "stream": "stderr",
       "text": [
        "TOP_10039 of 98 39%|#################                            |ETA:  0:00:05\r",
        "TOP_10040 of 98 40%|##################                           |ETA:  0:00:05\r",
        "TOP_10041 of 98 41%|##################                           |ETA:  0:00:05\r",
        "TOP_10042 of 98 42%|###################                          |ETA:  0:00:05\r"
       ]
      },
      {
       "output_type": "stream",
       "stream": "stderr",
       "text": [
        "TOP_10043 of 98 43%|###################                          |ETA:  0:00:05\r",
        "TOP_10044 of 98 44%|####################                         |ETA:  0:00:04\r",
        "TOP_10045 of 98 45%|####################                         |ETA:  0:00:04\r",
        "TOP_10046 of 98 46%|#####################                        |ETA:  0:00:04\r"
       ]
      },
      {
       "output_type": "stream",
       "stream": "stderr",
       "text": [
        "TOP_10047 of 98 47%|#####################                        |ETA:  0:00:04\r",
        "TOP_10048 of 98 48%|######################                       |ETA:  0:00:04\r",
        "TOP_10049 of 98 50%|######################                       |ETA:  0:00:04\r",
        "TOP_10050 of 98 51%|######################                       |ETA:  0:00:04\r"
       ]
      },
      {
       "output_type": "stream",
       "stream": "stderr",
       "text": [
        "TOP_10051 of 98 52%|#######################                      |ETA:  0:00:03\r",
        "TOP_10052 of 98 53%|#######################                      |ETA:  0:00:03\r",
        "TOP_10053 of 98 54%|########################                     |ETA:  0:00:03\r"
       ]
      },
      {
       "output_type": "stream",
       "stream": "stderr",
       "text": [
        "TOP_10054 of 98 55%|########################                     |ETA:  0:00:03\r",
        "TOP_10055 of 98 56%|#########################                    |ETA:  0:00:03\r"
       ]
      },
      {
       "output_type": "stream",
       "stream": "stderr",
       "text": [
        "TOP_10056 of 98 57%|#########################                    |ETA:  0:00:03\r",
        "TOP_10057 of 98 58%|##########################                   |ETA:  0:00:03\r"
       ]
      },
      {
       "output_type": "stream",
       "stream": "stderr",
       "text": [
        "TOP_10058 of 98 59%|##########################                   |ETA:  0:00:03\r",
        "TOP_10059 of 98 60%|###########################                  |ETA:  0:00:03\r"
       ]
      },
      {
       "output_type": "stream",
       "stream": "stderr",
       "text": [
        "TOP_10060 of 98 61%|###########################                  |ETA:  0:00:03\r",
        "TOP_10061 of 98 62%|############################                 |ETA:  0:00:03\r",
        "TOP_10062 of 98 63%|############################                 |ETA:  0:00:02\r"
       ]
      },
      {
       "output_type": "stream",
       "stream": "stderr",
       "text": [
        "TOP_10063 of 98 64%|############################                 |ETA:  0:00:03\r",
        "TOP_10064 of 98 65%|#############################                |ETA:  0:00:03\r"
       ]
      },
      {
       "output_type": "stream",
       "stream": "stderr",
       "text": [
        "TOP_10065 of 98 66%|#############################                |ETA:  0:00:03\r",
        "TOP_10066 of 98 67%|##############################               |ETA:  0:00:03\r"
       ]
      },
      {
       "output_type": "stream",
       "stream": "stderr",
       "text": [
        "TOP_10067 of 98 68%|##############################               |ETA:  0:00:04\r",
        "TOP_10068 of 98 69%|###############################              |ETA:  0:00:03\r",
        "TOP_10069 of 98 70%|###############################              |ETA:  0:00:03\r",
        "TOP_10070 of 98 71%|################################             |ETA:  0:00:03\r"
       ]
      },
      {
       "output_type": "stream",
       "stream": "stderr",
       "text": [
        "TOP_10071 of 98 72%|################################             |ETA:  0:00:03\r",
        "TOP_10072 of 98 73%|#################################            |ETA:  0:00:03\r",
        "TOP_10073 of 98 74%|#################################            |ETA:  0:00:03\r",
        "TOP_10074 of 98 75%|#################################            |ETA:  0:00:02\r"
       ]
      },
      {
       "output_type": "stream",
       "stream": "stderr",
       "text": [
        "TOP_10075 of 98 76%|##################################           |ETA:  0:00:02\r",
        "TOP_10076 of 98 77%|##################################           |ETA:  0:00:02\r",
        "TOP_10077 of 98 78%|###################################          |ETA:  0:00:02\r"
       ]
      },
      {
       "output_type": "stream",
       "stream": "stderr",
       "text": [
        "TOP_10078 of 98 79%|###################################          |ETA:  0:00:02\r",
        "TOP_10079 of 98 80%|####################################         |ETA:  0:00:02\r",
        "TOP_10080 of 98 81%|####################################         |ETA:  0:00:02\r",
        "TOP_10081 of 98 82%|#####################################        |ETA:  0:00:01\r"
       ]
      },
      {
       "output_type": "stream",
       "stream": "stderr",
       "text": [
        "TOP_10082 of 98 83%|#####################################        |ETA:  0:00:01\r",
        "TOP_10083 of 98 84%|######################################       |ETA:  0:00:01\r",
        "TOP_10084 of 98 85%|######################################       |ETA:  0:00:01\r"
       ]
      },
      {
       "output_type": "stream",
       "stream": "stderr",
       "text": [
        "TOP_10085 of 98 86%|#######################################      |ETA:  0:00:01\r",
        "TOP_10086 of 98 87%|#######################################      |ETA:  0:00:01\r",
        "TOP_10087 of 98 88%|#######################################      |ETA:  0:00:01\r",
        "TOP_10088 of 98 89%|########################################     |ETA:  0:00:01\r"
       ]
      },
      {
       "output_type": "stream",
       "stream": "stderr",
       "text": [
        "TOP_10089 of 98 90%|########################################     |ETA:  0:00:01\r",
        "TOP_10090 of 98 91%|#########################################    |ETA:  0:00:00\r",
        "TOP_10091 of 98 92%|#########################################    |ETA:  0:00:00\r"
       ]
      },
      {
       "output_type": "stream",
       "stream": "stderr",
       "text": [
        "TOP_10092 of 98 93%|##########################################   |ETA:  0:00:00\r",
        "TOP_10093 of 98 94%|##########################################   |ETA:  0:00:00\r",
        "TOP_10094 of 98 95%|###########################################  |ETA:  0:00:00\r",
        "TOP_10095 of 98 96%|###########################################  |ETA:  0:00:00\r"
       ]
      },
      {
       "output_type": "stream",
       "stream": "stdout",
       "text": [
        "['A_61_255-en.xml', 'A_CN9_631-en.xml', 'A_59_736-en.xml', 'A_60_727-en.xml', 'TD_386-en.xml', 'A_60_692-en.xml', 'S_2003_529-en.xml', 'A_CN9_614-en.xml', 'ST_SGB_2003_13-en.xml', 'A_CN9_WGIII_WP32-en.xml', 'A_CN9_619-en.xml', 'A_CN9_WGI_WP65-en.xml', 'A_56_17-en.xml', 'A_61_299-en.xml', 'JOURNALNO2002_227-en.xml', 'A_CN4_610-en.xml', 'A_AC105_848-en.xml', 'ST_IC_2006_1-en.xml', 'JOURNALNO2008_207-en.xml', 'A_55_2SUPP-A_55_2-en.xml', 'JOURNALNO2006_203-en.xml', 'A_59_2SUPP-en.xml', 'E_CN4_2002_200-E_2002_23SUPP-en.xml', 'E_CN4_2005_135-E_2005_23SUPP-en.xml', 'A_57_304-en.xml', 'JOURNALNO2003_202-en.xml', 'A_61_10-en.xml', 'A_CN9_WGI_WP70-en.xml', 'A_62_439_ADD2-en.xml', 'A_CN9_WGIII_WP81-en.xml', 'A_AC261_IPM_14-en.xml', 'APLC_CONF_2004_5-en.xml', 'A_56_326-en.xml', 'JOURNALNO2002_241-en.xml', 'A_CN9_526-en.xml', 'JOURNALNO2006_205-en.xml', 'A_56_887-en.xml', 'A_CN9_575-en.xml', 'A_CN9_WGI_WP67-en.xml', 'A_CN9_595-en.xml', 'JOURNALNO2004_206-en.xml', 'A_ES-10_273-en.xml', 'A_54_2000-en.xml', 'A_CN9_509-en.xml', 'A_CN9_WGIII_WP101-en.xml', 'ST_SGB_2000_8-en.xml', 'JOURNALNO2003_204-en.xml', 'ST_IC_2007_1-en.xml', 'A_CONF206_6-en.xml', 'A_CONF189_12-en.xml', 'TRANS_WP30_AC2_59-en.xml', 'ST_IC_2008_1-en.xml', 'A_58_16-en.xml', 'JOURNALNO2003_240-en.xml', 'A_61_2SUPP-en.xml', 'A_56_61-en.xml', 'A_CN9_485-en.xml', 'JOURNALNO2008_210-en.xml', 'A_57_2SUPP-en.xml', 'A_56_2SUPP-en.xml', 'JOURNALNO2007_208-en.xml', 'E_CN4_2001_167-E_2001_23SUPP-E_2001_23-en.xml', 'JOURNALNO2003_205-en.xml', 'A_55_253-en.xml', 'E_CN4_2004_127-E_2004_23SUPP-en.xml', 'A_60_2SUPP-en.xml', 'A_HRC_8_52-en.xml', 'A_59_303-en.xml', 'A_CN9_668-en.xml', 'A_62_100_ADD1-en.xml', 'A_59_2005-en.xml', 'JOURNALNO2006_202-en.xml', 'A_CN9_468-en.xml', 'JOURNALNO2006_204-en.xml', 'A_59_565-en.xml', 'A_C2_56_7-en.xml', 'JOURNALNO2002_228-en.xml', 'S_INF_63-en.xml', 'E_CN4_2003_135-E_2003_23SUPP-en.xml', 'JOURNALNO2004_209-en.xml', 'A_57_387-en.xml', 'A_60_7_ADD1-42-en.xml', 'JOURNALNO2007_209-en.xml', 'ST_IC_2009_1-en.xml', 'CRC_C_118-en.xml', 'A_CN9_623-en.xml', 'JOURNALNO2004_208-en.xml', 'S_2006_507-en.xml', 'A_57_772-en.xml', 'A_CN9_568-en.xml', 'A_CN9_615-en.xml', 'JOURNALNO2007_204-en.xml', 'A_55_874-en.xml', 'A_CN9_590-en.xml', 'ST_IC_2005_1-en.xml', 'A_62_2SUPP-en.xml', 'A_63_2SUPP-en.xml', 'A_CN9_WGIII_WP56-en.xml']\n"
       ]
      },
      {
       "output_type": "stream",
       "stream": "stderr",
       "text": [
        "TOP_10096 of 98 97%|############################################ |ETA:  0:00:00\r",
        "TOP_10097 of 98 98%|############################################ |ETA:  0:00:00\r",
        "TOP_10098 of 98100%|#############################################|ETA:  0:00:00\r",
        "TOP_10098 of 98100%|#############################################|Time: 0:00:10\r\n"
       ]
      }
     ],
     "prompt_number": 248
    },
    {
     "cell_type": "code",
     "collapsed": false,
     "input": [
      "default_doc = docs['A_60_2SUPP-en.xml']"
     ],
     "language": "python",
     "metadata": {},
     "outputs": [],
     "prompt_number": 289
    },
    {
     "cell_type": "code",
     "collapsed": false,
     "input": [
      "# Creating a master list of countries to compare to and filter from the library pycontry. \n",
      "# Defines a dictionary with two arrays, common names and official names.\n",
      "\n",
      "def load_countries():\n",
      "    countries = {\n",
      "        'common':[],\n",
      "        'official': []\n",
      "    }\n",
      "\n",
      "    for c in pc.countries:\n",
      "        countries['common'].append(c.name)\n",
      "        if hasattr(c,'official_name'):\n",
      "            countries['official'].append(c.official_name)\n",
      "    print \"Load_countries() DONE!\"\n",
      "    return countries\n",
      "\n",
      "countries = load_countries()"
     ],
     "language": "python",
     "metadata": {},
     "outputs": [
      {
       "output_type": "stream",
       "stream": "stdout",
       "text": [
        "Load_countries() DONE!\n"
       ]
      }
     ],
     "prompt_number": 212
    },
    {
     "cell_type": "code",
     "collapsed": false,
     "input": [
      "def is_heading(para):\n",
      "   return len(para)==1 and para[0][-1] not in ['.', ':', '\"'] and para[0][0] not in ['*', '(', '\"']"
     ],
     "language": "python",
     "metadata": {},
     "outputs": [],
     "prompt_number": 202
    },
    {
     "cell_type": "code",
     "collapsed": false,
     "input": [
      "#Processes the content of the file and returns the tagged sentences from it.\n",
      "#Two options, pass the content of file as it is, or... pass an array of untokenized sentences.\n",
      "\n",
      "def process_and_tag_content(content, sentences=False): \n",
      "    print \"process_and_tag_content() Started...\"\n",
      "    if not sentences:\n",
      "        paragraphs = [w for w in content if is_heading(w) is False and len(w)!=1]\n",
      "        untokenized_sent = [s for w in paragraphs for s in w]\n",
      "    else:\n",
      "        untokenized_sent = sentences\n",
      "    sents = [mun.tokenize_text(s) for s in untokenized_sent]\n",
      "    print \"process_and_tag_content() DONE!\"\n",
      "    return mun.tag_pos_sentences(sents)"
     ],
     "language": "python",
     "metadata": {},
     "outputs": [],
     "prompt_number": 280
    },
    {
     "cell_type": "code",
     "collapsed": false,
     "input": [
      "# Processes the tagged sentences to get NER entities for analysis. \n",
      "def get_ner_dictionary_for_analysis(text):\n",
      "    print \"get_ner_dictionary_for_analysis() Started...\"\n",
      "    entities = []\n",
      "    for sentence in text:\n",
      "        chunks = nltk.ne_chunk(sentence)\n",
      "        entities.extend([chunk for chunk in chunks if hasattr(chunk, 'node')])\n",
      "\n",
      "    # Creating NER main dictionary to analyze and join with MUN library results\n",
      "    ner_dictionary = {}\n",
      "#         'GPE':[],\n",
      "#         'PERSON' :[],\n",
      "#         'ORGANIZATION' :[],\n",
      "#         'GSP':[]\n",
      "#     }\n",
      "    \n",
      "    for e in entities:\n",
      "        if not ner_dictionary.has_key(e.node):\n",
      "            ner_dictionary[e.node]=[]\n",
      "        phrase =[]\n",
      "        for item in e:\n",
      "            phrase.append(item[0])\n",
      "        ner_dictionary[e.node].append(' '.join(phrase))\n",
      "    \n",
      "    print \"get_ner_dictionary_for_analysis() DONE!\"\n",
      "    return ner_dictionary,entities"
     ],
     "language": "python",
     "metadata": {},
     "outputs": [],
     "prompt_number": 275
    },
    {
     "cell_type": "code",
     "collapsed": false,
     "input": [
      "#Selects the countries from the noun phrases detected that match the official list of countries from pycountry\n",
      "def get_filtered_countries(chunks):\n",
      "    print \"get_filtered_countries() Started...\"\n",
      "    filtered_countries = []\n",
      "    fd = nltk.FreqDist(chunks)\n",
      "    for f in fd.items():\n",
      "        for country in countries['common']:\n",
      "            if country.find(f[0]) != -1:\n",
      "                filtered_countries.append(f)\n",
      "\n",
      "    filtered_countries = nltk.FreqDist(filtered_countries).items()\n",
      "    filtered_countries = [w[0] for w in filtered_countries]\n",
      "    print \"get_filtered_countries() DONE!\"\n",
      "    return filtered_countries"
     ],
     "language": "python",
     "metadata": {},
     "outputs": [],
     "prompt_number": 227
    },
    {
     "cell_type": "code",
     "collapsed": false,
     "input": [
      "#Overwritten function from MUN Library that process chunks but without pandas for the output\n",
      "def pa_process_chunks(sentences=None, sent_tokens=None, tagged_sentences = None,  remove_months = True, tagger = None):\n",
      "    print \"pa_process_chunks() Started...\"\n",
      "    if not tagged_sentences:\n",
      "        sent_tokens = sent_tokens if sent_tokens else \\\n",
      "            mun.tokenize_sentence_text(sentences, alnum_only=False, remove_stopwords=False, use_pattern = 2)\n",
      "        tagger = mun.get_brown_tagger(include_location_tagger=True)\n",
      "    tagged_sentences = tagged_sentences if tagged_sentences else mun.tag_pos_sentences(sent_tokens, tagger=tagger, show_pbar=mun.show_pbars)\n",
      "    #get the proper noun chunks from teh chunker\n",
      "    nchunks = mun.get_chunks(tagged_sentences, chunker=mun.get_chunker(tag_set='brown', target='PNS'), target = 'PNS', show_pbar=mun.show_pbars)\n",
      "    nchunks = mun.extract_target_from_chunks(nchunks, target='PNS')\n",
      "    # there are many month names mentioned in the FrewDist, I am removing them because I don' think they add much value\n",
      "    if remove_months:\n",
      "        import calendar\n",
      "        nchunks = [chunk for chunk in nchunks if len(mun.remove_punctuation(chunk))>1 and chunk not in calendar.month_name]\n",
      "    \n",
      "#     vchunks = mun.get_chunks(tagged_sentences, chunker=mun.get_chunker(tag_set='brown', target='VNS'), target = 'VNS', show_pbar=mun.show_pbars)\n",
      "#     vchunks = mun.extract_target_from_chunks(vchunks, target='VNS')\n",
      "\n",
      "    nchunks_fd = nltk.FreqDist(nchunks)\n",
      "    #vchunks_fd = nltk.FreqDist(vchunks)\n",
      "    \n",
      "    print \"pa_process_chunks() DONE!\"\n",
      "    return nchunks_fd #,vchunks_fd\n",
      "\n"
     ],
     "language": "python",
     "metadata": {},
     "outputs": [],
     "prompt_number": 228
    },
    {
     "cell_type": "code",
     "collapsed": false,
     "input": [
      "#Creating a Frequency Distribution with the NER entities\n",
      "\n",
      "def get_ner_entities_list(ner_entities):\n",
      "    print \"get_ner_entities_list() Started...\"\n",
      "    entities = []\n",
      "    for node in ner_entities:\n",
      "        phrase = []\n",
      "        for element in node:\n",
      "            phrase.append(element[0])\n",
      "        entities.append((node.node,' '.join(phrase)))\n",
      "    print \"get_ner_entities_list() DONE!\"\n",
      "    return entities"
     ],
     "language": "python",
     "metadata": {},
     "outputs": [],
     "prompt_number": 229
    },
    {
     "cell_type": "code",
     "collapsed": false,
     "input": [
      "# Returns the list of countries/continents joined from the NER GEP list and the MUN Library chunker.\n",
      "\n",
      "def get_ner_countries(nchunks, ner_chunks):\n",
      "    print \"get_ner_countries() Started...\"\n",
      "    all_countries = get_filtered_countries(nchunks) + get_filtered_countries(ner_chunks)\n",
      "    fd = nltk.FreqDist(all_countries)\n",
      "    all_countries = []\n",
      "    for c in fd.keys():\n",
      "        all_countries.append(c[0])\n",
      "    fd = nltk.FreqDist(all_countries).keys()\n",
      "    fd.sort()\n",
      "    print \"get_ner_countries() DONE!\"\n",
      "    return fd"
     ],
     "language": "python",
     "metadata": {},
     "outputs": [],
     "prompt_number": 230
    },
    {
     "cell_type": "code",
     "collapsed": false,
     "input": [
      "def get_ner_organizations(nchunks,ner_chunks):\n",
      "    print \"get_ner_organizations() Started...\"\n",
      "    unorgs = ['Commission','General Assembly','Secretariat','Committee', 'United Nations', 'Assembly','Convention','Organization']\n",
      "    norgs = [(w[0][1],w[1]) for w in ner_chunks if w[0][0] == 'ORGANIZATION']\n",
      "    all_orgs = nchunks + norgs\n",
      "    all_orgs = [w[0] for w in all_orgs]\n",
      "    all_orgs = nltk.FreqDist(all_orgs).keys()\n",
      "    results = []\n",
      "    for w in all_orgs:\n",
      "        for org in unorgs:\n",
      "            if type(w) == tuple:\n",
      "                print w\n",
      "            if w.find(org) !=-1 and analyze_for_monograms(w) and w != org:\n",
      "                results.append(w)\n",
      "    print \"get_ner_organizations() DONE!\"\n",
      "    return nltk.FreqDist(results).keys()\n",
      "\n",
      "# Checks a text to make sure it isn't just a \n",
      "def analyze_for_monograms(text):\n",
      "    tokens = nltk.word_tokenize(text)\n",
      "    if len(tokens[0])>1 and len(tokens[-1])>1:\n",
      "        return True\n",
      "    else: \n",
      "        return False\n",
      "\n"
     ],
     "language": "python",
     "metadata": {},
     "outputs": [],
     "prompt_number": 284
    },
    {
     "cell_type": "code",
     "collapsed": false,
     "input": [
      "import datetime\n",
      "def ner_document_analysis(filename=False, summary=False):\n",
      "    start = datetime.datetime.now()\n",
      "        \n",
      "    # REPLACE  ALL BELOW WITH FUNCTION TO LOAD A SPECIFIC DOCUMENT\n",
      "    if not filename:\n",
      "        print default_doc['id']\n",
      "        text = default_doc\n",
      "    else:\n",
      "         text = mun.get_document(filename)\n",
      "    # ^^^^^^ REPLACE ABOVE WITH FUNCTION TO LOAD A SPECIFIC DOCUMENT  \n",
      "    \n",
      "    if not summary:\n",
      "        tagged_sentences = process_and_tag_content(text['content'])\n",
      "    else:\n",
      "        tagged_sentences = process_and_tag_content(sentences=summary)\n",
      "        \n",
      "    ner_dictionary,ner_entities = get_ner_dictionary_for_analysis(tagged_sentences)\n",
      "    \n",
      "#     print ner_entities\n",
      "    \n",
      "    fd_gpe = nltk.FreqDist(ner_dictionary['GPE'])\n",
      "\n",
      "    nchunks = pa_process_chunks(tagged_sentences=tagged_sentences)\n",
      "    \n",
      "    ner_fd_entities = nltk.FreqDist(get_ner_entities_list(ner_entities))\n",
      "    \n",
      "    allcountries = get_ner_countries(nchunks,ner_dictionary['GPE'])\n",
      "    orgs = get_ner_organizations(nchunks.items(), ner_fd_entities.items())\n",
      "    \n",
      "    print \"Elapsed time: \" + str(datetime.datetime.now()-start)\n",
      "    return orgs,allcountries,ner_dictionary"
     ],
     "language": "python",
     "metadata": {},
     "outputs": [],
     "prompt_number": 281
    },
    {
     "cell_type": "code",
     "collapsed": false,
     "input": [
      "ner_orgs,ner_countries,dictionary = ner_document_analysis()\n",
      "print ner_orgs\n",
      "print ner_countries"
     ],
     "language": "python",
     "metadata": {},
     "outputs": [
      {
       "output_type": "stream",
       "stream": "stdout",
       "text": [
        "A/CN.9/590\n",
        "process_and_tag_content() Started...\n",
        "process_and_tag_content() DONE!"
       ]
      },
      {
       "output_type": "stream",
       "stream": "stderr",
       "text": [
        "tagging sentences0 of 295  0%|                                  |ETA:  --:--:--\r",
        "tagging sentences3 of 295  1%|                                   |ETA:  0:00:24\r"
       ]
      },
      {
       "output_type": "stream",
       "stream": "stderr",
       "text": [
        "tagging sentences6 of 295  2%|                                   |ETA:  0:00:36\r",
        "tagging sentences9 of 295  3%|#                                  |ETA:  0:00:30\r"
       ]
      },
      {
       "output_type": "stream",
       "stream": "stderr",
       "text": [
        "tagging sentences12 of 295  4%|#                                 |ETA:  0:00:25\r",
        "tagging sentences15 of 295  5%|#                                 |ETA:  0:00:30\r"
       ]
      },
      {
       "output_type": "stream",
       "stream": "stderr",
       "text": [
        "tagging sentences18 of 295  6%|##                                |ETA:  0:00:26\r",
        "tagging sentences21 of 295  7%|##                                |ETA:  0:00:24\r"
       ]
      },
      {
       "output_type": "stream",
       "stream": "stderr",
       "text": [
        "tagging sentences24 of 295  8%|##                                |ETA:  0:00:23\r",
        "tagging sentences27 of 295  9%|###                               |ETA:  0:00:23\r"
       ]
      },
      {
       "output_type": "stream",
       "stream": "stderr",
       "text": [
        "tagging sentences30 of 295 10%|###                               |ETA:  0:00:23\r",
        "tagging sentences33 of 295 11%|###                               |ETA:  0:00:25\r"
       ]
      },
      {
       "output_type": "stream",
       "stream": "stderr",
       "text": [
        "tagging sentences36 of 295 12%|####                              |ETA:  0:00:25\r",
        "tagging sentences39 of 295 13%|####                              |ETA:  0:00:25\r"
       ]
      },
      {
       "output_type": "stream",
       "stream": "stderr",
       "text": [
        "tagging sentences42 of 295 14%|####                              |ETA:  0:00:25\r",
        "tagging sentences45 of 295 15%|#####                             |ETA:  0:00:25\r"
       ]
      },
      {
       "output_type": "stream",
       "stream": "stderr",
       "text": [
        "tagging sentences48 of 295 16%|#####                             |ETA:  0:00:24\r",
        "tagging sentences51 of 295 17%|#####                             |ETA:  0:00:24\r"
       ]
      },
      {
       "output_type": "stream",
       "stream": "stderr",
       "text": [
        "tagging sentences54 of 295 18%|######                            |ETA:  0:00:24\r",
        "tagging sentences57 of 295 19%|######                            |ETA:  0:00:23\r"
       ]
      },
      {
       "output_type": "stream",
       "stream": "stderr",
       "text": [
        "tagging sentences60 of 295 20%|######                            |ETA:  0:00:23\r",
        "tagging sentences63 of 295 21%|#######                           |ETA:  0:00:22\r"
       ]
      },
      {
       "output_type": "stream",
       "stream": "stderr",
       "text": [
        "tagging sentences66 of 295 22%|#######                           |ETA:  0:00:22\r",
        "tagging sentences69 of 295 23%|#######                           |ETA:  0:00:21\r"
       ]
      },
      {
       "output_type": "stream",
       "stream": "stderr",
       "text": [
        "tagging sentences72 of 295 24%|########                          |ETA:  0:00:21\r",
        "tagging sentences75 of 295 25%|########                          |ETA:  0:00:20\r"
       ]
      },
      {
       "output_type": "stream",
       "stream": "stderr",
       "text": [
        "tagging sentences78 of 295 26%|########                          |ETA:  0:00:20\r",
        "tagging sentences81 of 295 27%|#########                         |ETA:  0:00:19\r"
       ]
      },
      {
       "output_type": "stream",
       "stream": "stderr",
       "text": [
        "tagging sentences84 of 295 28%|#########                         |ETA:  0:00:19\r",
        "tagging sentences87 of 295 29%|##########                        |ETA:  0:00:18\r"
       ]
      },
      {
       "output_type": "stream",
       "stream": "stderr",
       "text": [
        "tagging sentences90 of 295 30%|##########                        |ETA:  0:00:18\r",
        "tagging sentences93 of 295 31%|##########                        |ETA:  0:00:18\r"
       ]
      },
      {
       "output_type": "stream",
       "stream": "stderr",
       "text": [
        "tagging sentences96 of 295 32%|###########                       |ETA:  0:00:17\r",
        "tagging sentences99 of 295 33%|###########                       |ETA:  0:00:17\r"
       ]
      },
      {
       "output_type": "stream",
       "stream": "stderr",
       "text": [
        "tagging sentences102 of 295 34%|###########                      |ETA:  0:00:16\r",
        "tagging sentences105 of 295 35%|###########                      |ETA:  0:00:16\r"
       ]
      },
      {
       "output_type": "stream",
       "stream": "stderr",
       "text": [
        "tagging sentences108 of 295 36%|############                     |ETA:  0:00:15\r",
        "tagging sentences111 of 295 37%|############                     |ETA:  0:00:15\r"
       ]
      },
      {
       "output_type": "stream",
       "stream": "stderr",
       "text": [
        "tagging sentences114 of 295 38%|############                     |ETA:  0:00:15\r",
        "tagging sentences117 of 295 39%|#############                    |ETA:  0:00:15\r"
       ]
      },
      {
       "output_type": "stream",
       "stream": "stderr",
       "text": [
        "tagging sentences120 of 295 40%|#############                    |ETA:  0:00:14\r",
        "tagging sentences123 of 295 41%|#############                    |ETA:  0:00:14\r"
       ]
      },
      {
       "output_type": "stream",
       "stream": "stderr",
       "text": [
        "tagging sentences126 of 295 42%|##############                   |ETA:  0:00:13\r",
        "tagging sentences129 of 295 43%|##############                   |ETA:  0:00:13\r"
       ]
      },
      {
       "output_type": "stream",
       "stream": "stderr",
       "text": [
        "tagging sentences132 of 295 44%|##############                   |ETA:  0:00:13\r",
        "tagging sentences135 of 295 45%|###############                  |ETA:  0:00:12\r"
       ]
      },
      {
       "output_type": "stream",
       "stream": "stderr",
       "text": [
        "tagging sentences138 of 295 46%|###############                  |ETA:  0:00:12\r",
        "tagging sentences141 of 295 47%|###############                  |ETA:  0:00:12\r"
       ]
      },
      {
       "output_type": "stream",
       "stream": "stderr",
       "text": [
        "tagging sentences144 of 295 48%|################                 |ETA:  0:00:12\r",
        "tagging sentences147 of 295 49%|################                 |ETA:  0:00:11\r"
       ]
      },
      {
       "output_type": "stream",
       "stream": "stderr",
       "text": [
        "tagging sentences150 of 295 50%|################                 |ETA:  0:00:11\r",
        "tagging sentences153 of 295 51%|#################                |ETA:  0:00:11\r"
       ]
      },
      {
       "output_type": "stream",
       "stream": "stderr",
       "text": [
        "tagging sentences156 of 295 52%|#################                |ETA:  0:00:10\r",
        "tagging sentences159 of 295 53%|#################                |ETA:  0:00:10\r"
       ]
      },
      {
       "output_type": "stream",
       "stream": "stderr",
       "text": [
        "tagging sentences162 of 295 54%|##################               |ETA:  0:00:10\r",
        "tagging sentences165 of 295 55%|##################               |ETA:  0:00:10\r"
       ]
      },
      {
       "output_type": "stream",
       "stream": "stderr",
       "text": [
        "tagging sentences168 of 295 56%|##################               |ETA:  0:00:09\r",
        "tagging sentences171 of 295 57%|###################              |ETA:  0:00:09\r"
       ]
      },
      {
       "output_type": "stream",
       "stream": "stderr",
       "text": [
        "tagging sentences174 of 295 58%|###################              |ETA:  0:00:09\r",
        "tagging sentences177 of 295 60%|###################              |ETA:  0:00:09\r"
       ]
      },
      {
       "output_type": "stream",
       "stream": "stderr",
       "text": [
        "tagging sentences180 of 295 61%|####################             |ETA:  0:00:09\r",
        "tagging sentences183 of 295 62%|####################             |ETA:  0:00:08\r"
       ]
      },
      {
       "output_type": "stream",
       "stream": "stderr",
       "text": [
        "tagging sentences186 of 295 63%|####################             |ETA:  0:00:08\r",
        "tagging sentences189 of 295 64%|#####################            |ETA:  0:00:08\r"
       ]
      },
      {
       "output_type": "stream",
       "stream": "stderr",
       "text": [
        "tagging sentences192 of 295 65%|#####################            |ETA:  0:00:08\r",
        "tagging sentences195 of 295 66%|#####################            |ETA:  0:00:07\r"
       ]
      },
      {
       "output_type": "stream",
       "stream": "stderr",
       "text": [
        "tagging sentences198 of 295 67%|######################           |ETA:  0:00:07\r",
        "tagging sentences201 of 295 68%|######################           |ETA:  0:00:07\r"
       ]
      },
      {
       "output_type": "stream",
       "stream": "stderr",
       "text": [
        "tagging sentences204 of 295 69%|######################           |ETA:  0:00:07\r",
        "tagging sentences207 of 295 70%|#######################          |ETA:  0:00:06\r"
       ]
      },
      {
       "output_type": "stream",
       "stream": "stderr",
       "text": [
        "tagging sentences210 of 295 71%|#######################          |ETA:  0:00:06\r",
        "tagging sentences213 of 295 72%|#######################          |ETA:  0:00:06\r"
       ]
      },
      {
       "output_type": "stream",
       "stream": "stderr",
       "text": [
        "tagging sentences216 of 295 73%|########################         |ETA:  0:00:06\r",
        "tagging sentences219 of 295 74%|########################         |ETA:  0:00:05\r"
       ]
      },
      {
       "output_type": "stream",
       "stream": "stderr",
       "text": [
        "tagging sentences222 of 295 75%|########################         |ETA:  0:00:05\r",
        "tagging sentences225 of 295 76%|#########################        |ETA:  0:00:05\r"
       ]
      },
      {
       "output_type": "stream",
       "stream": "stderr",
       "text": [
        "tagging sentences228 of 295 77%|#########################        |ETA:  0:00:05\r",
        "tagging sentences231 of 295 78%|#########################        |ETA:  0:00:05\r"
       ]
      },
      {
       "output_type": "stream",
       "stream": "stderr",
       "text": [
        "tagging sentences234 of 295 79%|##########################       |ETA:  0:00:04\r",
        "tagging sentences237 of 295 80%|##########################       |ETA:  0:00:04\r"
       ]
      },
      {
       "output_type": "stream",
       "stream": "stderr",
       "text": [
        "tagging sentences240 of 295 81%|##########################       |ETA:  0:00:04\r",
        "tagging sentences243 of 295 82%|###########################      |ETA:  0:00:04\r"
       ]
      },
      {
       "output_type": "stream",
       "stream": "stderr",
       "text": [
        "tagging sentences246 of 295 83%|###########################      |ETA:  0:00:03\r",
        "tagging sentences249 of 295 84%|###########################      |ETA:  0:00:03\r"
       ]
      },
      {
       "output_type": "stream",
       "stream": "stderr",
       "text": [
        "tagging sentences252 of 295 85%|############################     |ETA:  0:00:03\r",
        "tagging sentences255 of 295 86%|############################     |ETA:  0:00:03\r"
       ]
      },
      {
       "output_type": "stream",
       "stream": "stderr",
       "text": [
        "tagging sentences258 of 295 87%|############################     |ETA:  0:00:02\r",
        "tagging sentences261 of 295 88%|#############################    |ETA:  0:00:02\r"
       ]
      },
      {
       "output_type": "stream",
       "stream": "stderr",
       "text": [
        "tagging sentences264 of 295 89%|#############################    |ETA:  0:00:02\r",
        "tagging sentences267 of 295 90%|#############################    |ETA:  0:00:02\r"
       ]
      },
      {
       "output_type": "stream",
       "stream": "stderr",
       "text": [
        "tagging sentences270 of 295 91%|##############################   |ETA:  0:00:01\r",
        "tagging sentences273 of 295 92%|##############################   |ETA:  0:00:01\r"
       ]
      },
      {
       "output_type": "stream",
       "stream": "stderr",
       "text": [
        "tagging sentences276 of 295 93%|##############################   |ETA:  0:00:01\r",
        "tagging sentences279 of 295 94%|###############################  |ETA:  0:00:01\r"
       ]
      },
      {
       "output_type": "stream",
       "stream": "stderr",
       "text": [
        "tagging sentences282 of 295 95%|###############################  |ETA:  0:00:01\r",
        "tagging sentences285 of 295 96%|###############################  |ETA:  0:00:00\r"
       ]
      },
      {
       "output_type": "stream",
       "stream": "stderr",
       "text": [
        "tagging sentences288 of 295 97%|################################ |ETA:  0:00:00\r",
        "tagging sentences291 of 295 98%|################################ |ETA:  0:00:00\r"
       ]
      },
      {
       "output_type": "stream",
       "stream": "stdout",
       "text": [
        "\n",
        "get_ner_dictionary_for_analysis() Started..."
       ]
      },
      {
       "output_type": "stream",
       "stream": "stdout",
       "text": [
        "\n",
        "get_ner_dictionary_for_analysis() DONE!"
       ]
      },
      {
       "output_type": "stream",
       "stream": "stderr",
       "text": [
        "tagging sentences294 of 295 99%|################################ |ETA:  0:00:00\r",
        "tagging sentences295 of 295100%|#################################|Time: 0:00:23\r\n",
        "Chunking 0 of 295  0%|                                          |ETA:  --:--:--\r"
       ]
      },
      {
       "output_type": "stream",
       "stream": "stderr",
       "text": [
        "Chunking 3 of 295  1%|                                           |ETA:  0:00:00\r",
        "Chunking 6 of 295  2%|                                           |ETA:  0:00:00\r",
        "Chunking 9 of 295  3%|#                                          |ETA:  0:00:00\r",
        "Chunking 12 of 295  4%|#                                         |ETA:  0:00:00\r",
        "Chunking 15 of 295  5%|##                                        |ETA:  0:00:00\r",
        "Chunking 18 of 295  6%|##                                        |ETA:  0:00:00\r",
        "Chunking 21 of 295  7%|##                                        |ETA:  0:00:00\r",
        "Chunking 24 of 295  8%|###                                       |ETA:  0:00:00\r",
        "Chunking 27 of 295  9%|###                                       |ETA:  0:00:00\r",
        "Chunking 30 of 295 10%|####                                      |ETA:  0:00:00\r",
        "Chunking 33 of 295 11%|####                                      |ETA:  0:00:00\r",
        "Chunking 36 of 295 12%|#####                                     |ETA:  0:00:00\r",
        "Chunking 39 of 295 13%|#####                                     |ETA:  0:00:00\r"
       ]
      },
      {
       "output_type": "stream",
       "stream": "stderr",
       "text": [
        "Chunking 42 of 295 14%|#####                                     |ETA:  0:00:00\r",
        "Chunking 45 of 295 15%|######                                    |ETA:  0:00:00\r",
        "Chunking 48 of 295 16%|######                                    |ETA:  0:00:00\r",
        "Chunking 51 of 295 17%|#######                                   |ETA:  0:00:00\r",
        "Chunking 54 of 295 18%|#######                                   |ETA:  0:00:00\r",
        "Chunking 57 of 295 19%|########                                  |ETA:  0:00:00\r",
        "Chunking 60 of 295 20%|########                                  |ETA:  0:00:00\r",
        "Chunking 63 of 295 21%|########                                  |ETA:  0:00:00\r",
        "Chunking 66 of 295 22%|#########                                 |ETA:  0:00:00\r",
        "Chunking 69 of 295 23%|#########                                 |ETA:  0:00:00\r",
        "Chunking 72 of 295 24%|##########                                |ETA:  0:00:00\r",
        "Chunking 75 of 295 25%|##########                                |ETA:  0:00:00\r",
        "Chunking 78 of 295 26%|###########                               |ETA:  0:00:00\r",
        "Chunking 81 of 295 27%|###########                               |ETA:  0:00:00\r",
        "Chunking 84 of 295 28%|###########                               |ETA:  0:00:00\r",
        "Chunking 87 of 295 29%|############                              |ETA:  0:00:00\r",
        "Chunking 90 of 295 30%|############                              |ETA:  0:00:00\r",
        "Chunking 93 of 295 31%|#############                             |ETA:  0:00:00\r",
        "Chunking 96 of 295 32%|#############                             |ETA:  0:00:00\r",
        "Chunking 99 of 295 33%|##############                            |ETA:  0:00:00\r",
        "Chunking 102 of 295 34%|##############                           |ETA:  0:00:00\r",
        "Chunking 105 of 295 35%|##############                           |ETA:  0:00:00\r",
        "Chunking 108 of 295 36%|###############                          |ETA:  0:00:00\r",
        "Chunking 111 of 295 37%|###############                          |ETA:  0:00:00\r",
        "Chunking 114 of 295 38%|###############                          |ETA:  0:00:00\r",
        "Chunking 117 of 295 39%|################                         |ETA:  0:00:00\r",
        "Chunking 120 of 295 40%|################                         |ETA:  0:00:00\r",
        "Chunking 123 of 295 41%|#################                        |ETA:  0:00:00\r",
        "Chunking 126 of 295 42%|#################                        |ETA:  0:00:00\r",
        "Chunking 129 of 295 43%|#################                        |ETA:  0:00:00\r",
        "Chunking 132 of 295 44%|##################                       |ETA:  0:00:00\r",
        "Chunking 135 of 295 45%|##################                       |ETA:  0:00:00\r",
        "Chunking 138 of 295 46%|###################                      |ETA:  0:00:00\r",
        "Chunking 141 of 295 47%|###################                      |ETA:  0:00:00\r",
        "Chunking 144 of 295 48%|####################                     |ETA:  0:00:00\r",
        "Chunking 147 of 295 49%|####################                     |ETA:  0:00:00\r",
        "Chunking 150 of 295 50%|####################                     |ETA:  0:00:00\r",
        "Chunking 153 of 295 51%|#####################                    |ETA:  0:00:00\r",
        "Chunking 156 of 295 52%|#####################                    |ETA:  0:00:00\r",
        "Chunking 159 of 295 53%|######################                   |ETA:  0:00:00\r",
        "Chunking 162 of 295 54%|######################                   |ETA:  0:00:00\r",
        "Chunking 165 of 295 55%|######################                   |ETA:  0:00:00\r",
        "Chunking 168 of 295 56%|#######################                  |ETA:  0:00:00\r",
        "Chunking 171 of 295 57%|#######################                  |ETA:  0:00:00\r",
        "Chunking 174 of 295 58%|########################                 |ETA:  0:00:00\r",
        "Chunking 177 of 295 60%|########################                 |ETA:  0:00:00\r",
        "Chunking 180 of 295 61%|#########################                |ETA:  0:00:00\r",
        "Chunking 183 of 295 62%|#########################                |ETA:  0:00:00\r"
       ]
      },
      {
       "output_type": "stream",
       "stream": "stderr",
       "text": [
        "Chunking 186 of 295 63%|#########################                |ETA:  0:00:00\r",
        "Chunking 189 of 295 64%|##########################               |ETA:  0:00:00\r",
        "Chunking 192 of 295 65%|##########################               |ETA:  0:00:00\r",
        "Chunking 195 of 295 66%|###########################              |ETA:  0:00:00\r",
        "Chunking 198 of 295 67%|###########################              |ETA:  0:00:00\r",
        "Chunking 201 of 295 68%|###########################              |ETA:  0:00:00\r",
        "Chunking 204 of 295 69%|############################             |ETA:  0:00:00\r",
        "Chunking 207 of 295 70%|############################             |ETA:  0:00:00\r",
        "Chunking 210 of 295 71%|#############################            |ETA:  0:00:00\r",
        "Chunking 213 of 295 72%|#############################            |ETA:  0:00:00\r",
        "Chunking 216 of 295 73%|##############################           |ETA:  0:00:00\r",
        "Chunking 219 of 295 74%|##############################           |ETA:  0:00:00\r",
        "Chunking 222 of 295 75%|##############################           |ETA:  0:00:00\r",
        "Chunking 225 of 295 76%|###############################          |ETA:  0:00:00\r",
        "Chunking 228 of 295 77%|###############################          |ETA:  0:00:00\r",
        "Chunking 231 of 295 78%|################################         |ETA:  0:00:00\r",
        "Chunking 234 of 295 79%|################################         |ETA:  0:00:00\r",
        "Chunking 237 of 295 80%|################################         |ETA:  0:00:00\r",
        "Chunking 240 of 295 81%|#################################        |ETA:  0:00:00\r",
        "Chunking 243 of 295 82%|#################################        |ETA:  0:00:00\r",
        "Chunking 246 of 295 83%|##################################       |ETA:  0:00:00\r",
        "Chunking 249 of 295 84%|##################################       |ETA:  0:00:00\r",
        "Chunking 252 of 295 85%|###################################      |ETA:  0:00:00\r",
        "Chunking 255 of 295 86%|###################################      |ETA:  0:00:00\r",
        "Chunking 258 of 295 87%|###################################      |ETA:  0:00:00\r",
        "Chunking 261 of 295 88%|####################################     |ETA:  0:00:00\r",
        "Chunking 264 of 295 89%|####################################     |ETA:  0:00:00\r",
        "Chunking 267 of 295 90%|#####################################    |ETA:  0:00:00\r",
        "Chunking 270 of 295 91%|#####################################    |ETA:  0:00:00\r",
        "Chunking 273 of 295 92%|#####################################    |ETA:  0:00:00\r",
        "Chunking 276 of 295 93%|######################################   |ETA:  0:00:00\r",
        "Chunking 279 of 295 94%|######################################   |ETA:  0:00:00\r",
        "Chunking 282 of 295 95%|#######################################  |ETA:  0:00:00\r",
        "Chunking 285 of 295 96%|#######################################  |ETA:  0:00:00\r",
        "Chunking 288 of 295 97%|######################################## |ETA:  0:00:00\r",
        "Chunking 291 of 295 98%|######################################## |ETA:  0:00:00\r",
        "Chunking 294 of 295 99%|######################################## |ETA:  0:00:00\r"
       ]
      },
      {
       "output_type": "stream",
       "stream": "stdout",
       "text": [
        "\n",
        "pa_process_chunks() Started...\n",
        "pa_process_chunks() DONE!"
       ]
      },
      {
       "output_type": "stream",
       "stream": "stdout",
       "text": [
        "\n",
        "get_ner_entities_list() Started...\n",
        "get_ner_entities_list() DONE!\n",
        "get_ner_countries() Started...\n",
        "get_filtered_countries() Started...\n",
        "get_filtered_countries() DONE!\n",
        "get_filtered_countries() Started...\n",
        "get_filtered_countries() DONE!\n",
        "get_ner_countries() DONE!\n",
        "get_ner_organizations() Started...\n",
        "get_ner_organizations() DONE!\n",
        "Elapsed time: 0:00:33.192727\n",
        "['United Nations Commission', 'World Trade Organization']\n",
        "['Italy', 'Romania', 'States']\n"
       ]
      },
      {
       "output_type": "stream",
       "stream": "stderr",
       "text": [
        "Chunking 295 of 295100%|#########################################|Time: 0:00:00\r\n"
       ]
      }
     ],
     "prompt_number": 286
    },
    {
     "cell_type": "code",
     "collapsed": false,
     "input": [
      "ner_orgs,ner_countries,dictionary = ner_document_analysis()\n",
      "print ner_orgs\n",
      "print ner_countries"
     ],
     "language": "python",
     "metadata": {},
     "outputs": [
      {
       "output_type": "stream",
       "stream": "stdout",
       "text": [
        "E/CN.4/2005/135-E/2005/23(SUPP)\n",
        "process_and_tag_content() Started...\n",
        "process_and_tag_content() DONE!"
       ]
      },
      {
       "output_type": "stream",
       "stream": "stderr",
       "text": [
        "tagging sentences0 of 2018  0%|                                 |ETA:  --:--:--\r",
        "tagging sentences21 of 2018  1%|                                 |ETA:  0:01:00\r"
       ]
      },
      {
       "output_type": "stream",
       "stream": "stderr",
       "text": [
        "tagging sentences42 of 2018  2%|                                 |ETA:  0:00:34\r",
        "tagging sentences63 of 2018  3%|#                                |ETA:  0:00:26\r"
       ]
      },
      {
       "output_type": "stream",
       "stream": "stderr",
       "text": [
        "tagging sentences84 of 2018  4%|#                                |ETA:  0:00:21\r",
        "tagging sentences105 of 2018  5%|#                               |ETA:  0:00:19\r"
       ]
      },
      {
       "output_type": "stream",
       "stream": "stderr",
       "text": [
        "tagging sentences126 of 2018  6%|#                               |ETA:  0:00:17\r",
        "tagging sentences147 of 2018  7%|##                              |ETA:  0:00:16\r"
       ]
      },
      {
       "output_type": "stream",
       "stream": "stderr",
       "text": [
        "tagging sentences168 of 2018  8%|##                              |ETA:  0:00:15\r",
        "tagging sentences189 of 2018  9%|##                              |ETA:  0:00:14\r"
       ]
      },
      {
       "output_type": "stream",
       "stream": "stderr",
       "text": [
        "tagging sentences210 of 2018 10%|###                             |ETA:  0:00:14\r",
        "tagging sentences231 of 2018 11%|###                             |ETA:  0:00:13\r"
       ]
      },
      {
       "output_type": "stream",
       "stream": "stderr",
       "text": [
        "tagging sentences252 of 2018 12%|###                             |ETA:  0:00:12\r",
        "tagging sentences273 of 2018 13%|####                            |ETA:  0:00:12\r"
       ]
      },
      {
       "output_type": "stream",
       "stream": "stderr",
       "text": [
        "tagging sentences294 of 2018 14%|####                            |ETA:  0:00:12\r",
        "tagging sentences315 of 2018 15%|####                            |ETA:  0:00:14\r"
       ]
      },
      {
       "output_type": "stream",
       "stream": "stderr",
       "text": [
        "tagging sentences336 of 2018 16%|#####                           |ETA:  0:00:14\r",
        "tagging sentences357 of 2018 17%|#####                           |ETA:  0:00:14\r"
       ]
      },
      {
       "output_type": "stream",
       "stream": "stderr",
       "text": [
        "tagging sentences378 of 2018 18%|#####                           |ETA:  0:00:15\r",
        "tagging sentences399 of 2018 19%|######                          |ETA:  0:00:16\r"
       ]
      },
      {
       "output_type": "stream",
       "stream": "stderr",
       "text": [
        "tagging sentences420 of 2018 20%|######                          |ETA:  0:00:17\r",
        "tagging sentences441 of 2018 21%|######                          |ETA:  0:00:16\r"
       ]
      },
      {
       "output_type": "stream",
       "stream": "stderr",
       "text": [
        "tagging sentences462 of 2018 22%|#######                         |ETA:  0:00:15\r",
        "tagging sentences483 of 2018 23%|#######                         |ETA:  0:00:18\r"
       ]
      },
      {
       "output_type": "stream",
       "stream": "stderr",
       "text": [
        "tagging sentences504 of 2018 24%|#######                         |ETA:  0:00:19\r",
        "tagging sentences525 of 2018 26%|########                        |ETA:  0:00:19\r"
       ]
      },
      {
       "output_type": "stream",
       "stream": "stderr",
       "text": [
        "tagging sentences546 of 2018 27%|########                        |ETA:  0:00:20\r",
        "tagging sentences567 of 2018 28%|########                        |ETA:  0:00:19\r"
       ]
      },
      {
       "output_type": "stream",
       "stream": "stderr",
       "text": [
        "tagging sentences588 of 2018 29%|#########                       |ETA:  0:00:19\r",
        "tagging sentences609 of 2018 30%|#########                       |ETA:  0:00:18\r"
       ]
      },
      {
       "output_type": "stream",
       "stream": "stderr",
       "text": [
        "tagging sentences630 of 2018 31%|#########                       |ETA:  0:00:17\r",
        "tagging sentences651 of 2018 32%|##########                      |ETA:  0:00:17\r"
       ]
      },
      {
       "output_type": "stream",
       "stream": "stderr",
       "text": [
        "tagging sentences672 of 2018 33%|##########                      |ETA:  0:00:16\r",
        "tagging sentences693 of 2018 34%|##########                      |ETA:  0:00:16\r"
       ]
      },
      {
       "output_type": "stream",
       "stream": "stderr",
       "text": [
        "tagging sentences714 of 2018 35%|###########                     |ETA:  0:00:16\r",
        "tagging sentences735 of 2018 36%|###########                     |ETA:  0:00:15\r"
       ]
      },
      {
       "output_type": "stream",
       "stream": "stderr",
       "text": [
        "tagging sentences756 of 2018 37%|###########                     |ETA:  0:00:15\r",
        "tagging sentences777 of 2018 38%|############                    |ETA:  0:00:16\r"
       ]
      },
      {
       "output_type": "stream",
       "stream": "stderr",
       "text": [
        "tagging sentences798 of 2018 39%|############                    |ETA:  0:00:16\r",
        "tagging sentences819 of 2018 40%|############                    |ETA:  0:00:16\r"
       ]
      },
      {
       "output_type": "stream",
       "stream": "stderr",
       "text": [
        "tagging sentences840 of 2018 41%|#############                   |ETA:  0:00:15\r",
        "tagging sentences861 of 2018 42%|#############                   |ETA:  0:00:14\r"
       ]
      },
      {
       "output_type": "stream",
       "stream": "stderr",
       "text": [
        "tagging sentences882 of 2018 43%|#############                   |ETA:  0:00:14\r",
        "tagging sentences903 of 2018 44%|##############                  |ETA:  0:00:14\r"
       ]
      },
      {
       "output_type": "stream",
       "stream": "stderr",
       "text": [
        "tagging sentences918 of 2018 45%|##############                  |ETA:  0:00:15\r",
        "tagging sentences934 of 2018 46%|##############                  |ETA:  0:00:16\r"
       ]
      },
      {
       "output_type": "stream",
       "stream": "stderr",
       "text": [
        "tagging sentences951 of 2018 47%|###############                 |ETA:  0:00:16\r",
        "tagging sentences966 of 2018 47%|###############                 |ETA:  0:00:17\r"
       ]
      },
      {
       "output_type": "stream",
       "stream": "stderr",
       "text": [
        "tagging sentences981 of 2018 48%|###############                 |ETA:  0:00:18\r",
        "tagging sentences997 of 2018 49%|###############                 |ETA:  0:00:18\r"
       ]
      },
      {
       "output_type": "stream",
       "stream": "stderr",
       "text": [
        "tagging sentences1016 of 2018 50%|###############                |ETA:  0:00:18\r",
        "tagging sentences1027 of 2018 50%|###############                |ETA:  0:00:19\r"
       ]
      },
      {
       "output_type": "stream",
       "stream": "stderr",
       "text": [
        "tagging sentences1036 of 2018 51%|###############                |ETA:  0:00:20\r",
        "tagging sentences1056 of 2018 52%|################               |ETA:  0:00:20\r"
       ]
      },
      {
       "output_type": "stream",
       "stream": "stderr",
       "text": [
        "tagging sentences1077 of 2018 53%|################               |ETA:  0:00:20\r",
        "tagging sentences1098 of 2018 54%|################               |ETA:  0:00:20\r"
       ]
      },
      {
       "output_type": "stream",
       "stream": "stderr",
       "text": [
        "tagging sentences1112 of 2018 55%|#################              |ETA:  0:00:20\r",
        "tagging sentences1128 of 2018 55%|#################              |ETA:  0:00:20\r"
       ]
      },
      {
       "output_type": "stream",
       "stream": "stderr",
       "text": [
        "tagging sentences1146 of 2018 56%|#################              |ETA:  0:00:20\r",
        "tagging sentences1165 of 2018 57%|#################              |ETA:  0:00:20\r"
       ]
      },
      {
       "output_type": "stream",
       "stream": "stderr",
       "text": [
        "tagging sentences1186 of 2018 58%|##################             |ETA:  0:00:20\r",
        "tagging sentences1205 of 2018 59%|##################             |ETA:  0:00:20\r"
       ]
      },
      {
       "output_type": "stream",
       "stream": "stderr",
       "text": [
        "tagging sentences1221 of 2018 60%|##################             |ETA:  0:00:20\r",
        "tagging sentences1239 of 2018 61%|###################            |ETA:  0:00:20\r"
       ]
      },
      {
       "output_type": "stream",
       "stream": "stderr",
       "text": [
        "tagging sentences1256 of 2018 62%|###################            |ETA:  0:00:20\r",
        "tagging sentences1268 of 2018 62%|###################            |ETA:  0:00:20\r"
       ]
      },
      {
       "output_type": "stream",
       "stream": "stderr",
       "text": [
        "tagging sentences1281 of 2018 63%|###################            |ETA:  0:00:20\r",
        "tagging sentences1302 of 2018 64%|####################           |ETA:  0:00:20\r"
       ]
      },
      {
       "output_type": "stream",
       "stream": "stderr",
       "text": [
        "tagging sentences1317 of 2018 65%|####################           |ETA:  0:00:20\r",
        "tagging sentences1333 of 2018 66%|####################           |ETA:  0:00:20\r"
       ]
      },
      {
       "output_type": "stream",
       "stream": "stderr",
       "text": [
        "tagging sentences1350 of 2018 66%|####################           |ETA:  0:00:19\r",
        "tagging sentences1366 of 2018 67%|####################           |ETA:  0:00:19\r"
       ]
      },
      {
       "output_type": "stream",
       "stream": "stderr",
       "text": [
        "tagging sentences1383 of 2018 68%|#####################          |ETA:  0:00:19\r",
        "tagging sentences1400 of 2018 69%|#####################          |ETA:  0:00:19\r"
       ]
      },
      {
       "output_type": "stream",
       "stream": "stderr",
       "text": [
        "tagging sentences1418 of 2018 70%|#####################          |ETA:  0:00:18\r",
        "tagging sentences1436 of 2018 71%|######################         |ETA:  0:00:18\r"
       ]
      },
      {
       "output_type": "stream",
       "stream": "stderr",
       "text": [
        "tagging sentences1456 of 2018 72%|######################         |ETA:  0:00:17\r",
        "tagging sentences1475 of 2018 73%|######################         |ETA:  0:00:17\r"
       ]
      },
      {
       "output_type": "stream",
       "stream": "stderr",
       "text": [
        "tagging sentences1492 of 2018 73%|######################         |ETA:  0:00:17\r",
        "tagging sentences1510 of 2018 74%|#######################        |ETA:  0:00:16\r"
       ]
      },
      {
       "output_type": "stream",
       "stream": "stderr",
       "text": [
        "tagging sentences1531 of 2018 75%|#######################        |ETA:  0:00:16\r",
        "tagging sentences1552 of 2018 76%|#######################        |ETA:  0:00:15\r"
       ]
      },
      {
       "output_type": "stream",
       "stream": "stderr",
       "text": [
        "tagging sentences1571 of 2018 77%|########################       |ETA:  0:00:14\r",
        "tagging sentences1589 of 2018 78%|########################       |ETA:  0:00:14\r"
       ]
      },
      {
       "output_type": "stream",
       "stream": "stderr",
       "text": [
        "tagging sentences1606 of 2018 79%|########################       |ETA:  0:00:13\r",
        "tagging sentences1624 of 2018 80%|########################       |ETA:  0:00:13\r"
       ]
      },
      {
       "output_type": "stream",
       "stream": "stderr",
       "text": [
        "tagging sentences1642 of 2018 81%|#########################      |ETA:  0:00:12\r",
        "tagging sentences1658 of 2018 82%|#########################      |ETA:  0:00:12\r"
       ]
      },
      {
       "output_type": "stream",
       "stream": "stderr",
       "text": [
        "tagging sentences1679 of 2018 83%|#########################      |ETA:  0:00:11\r",
        "tagging sentences1700 of 2018 84%|##########################     |ETA:  0:00:11\r"
       ]
      },
      {
       "output_type": "stream",
       "stream": "stderr",
       "text": [
        "tagging sentences1721 of 2018 85%|##########################     |ETA:  0:00:10\r",
        "tagging sentences1742 of 2018 86%|##########################     |ETA:  0:00:09\r"
       ]
      },
      {
       "output_type": "stream",
       "stream": "stderr",
       "text": [
        "tagging sentences1763 of 2018 87%|###########################    |ETA:  0:00:08\r",
        "tagging sentences1784 of 2018 88%|###########################    |ETA:  0:00:08\r"
       ]
      },
      {
       "output_type": "stream",
       "stream": "stderr",
       "text": [
        "tagging sentences1805 of 2018 89%|###########################    |ETA:  0:00:07\r",
        "tagging sentences1826 of 2018 90%|############################   |ETA:  0:00:06\r"
       ]
      },
      {
       "output_type": "stream",
       "stream": "stderr",
       "text": [
        "tagging sentences1847 of 2018 91%|############################   |ETA:  0:00:05\r",
        "tagging sentences1868 of 2018 92%|############################   |ETA:  0:00:05\r"
       ]
      },
      {
       "output_type": "stream",
       "stream": "stderr",
       "text": [
        "tagging sentences1889 of 2018 93%|#############################  |ETA:  0:00:04\r",
        "tagging sentences1907 of 2018 94%|#############################  |ETA:  0:00:03\r"
       ]
      },
      {
       "output_type": "stream",
       "stream": "stderr",
       "text": [
        "tagging sentences1928 of 2018 95%|#############################  |ETA:  0:00:03\r",
        "tagging sentences1949 of 2018 96%|#############################  |ETA:  0:00:02\r"
       ]
      },
      {
       "output_type": "stream",
       "stream": "stderr",
       "text": [
        "tagging sentences1970 of 2018 97%|############################## |ETA:  0:00:01\r",
        "tagging sentences1991 of 2018 98%|############################## |ETA:  0:00:00\r"
       ]
      },
      {
       "output_type": "stream",
       "stream": "stdout",
       "text": [
        "\n",
        "get_ner_dictionary_for_analysis() Started..."
       ]
      },
      {
       "output_type": "stream",
       "stream": "stdout",
       "text": [
        "\n",
        "get_ner_dictionary_for_analysis() DONE!"
       ]
      },
      {
       "output_type": "stream",
       "stream": "stderr",
       "text": [
        "tagging sentences2012 of 2018 99%|############################## |ETA:  0:00:00\r",
        "tagging sentences2018 of 2018100%|###############################|Time: 0:01:09\r\n",
        "Chunking 0 of 2018  0%|                                         |ETA:  --:--:--\r"
       ]
      },
      {
       "output_type": "stream",
       "stream": "stderr",
       "text": [
        "Chunking 21 of 2018  1%|                                         |ETA:  0:00:00\r",
        "Chunking 42 of 2018  2%|                                         |ETA:  0:00:00\r",
        "Chunking 63 of 2018  3%|#                                        |ETA:  0:00:00\r",
        "Chunking 84 of 2018  4%|#                                        |ETA:  0:00:00\r",
        "Chunking 105 of 2018  5%|##                                      |ETA:  0:00:00\r",
        "Chunking 126 of 2018  6%|##                                      |ETA:  0:00:00\r",
        "Chunking 147 of 2018  7%|##                                      |ETA:  0:00:00\r",
        "Chunking 168 of 2018  8%|###                                     |ETA:  0:00:00\r",
        "Chunking 189 of 2018  9%|###                                     |ETA:  0:00:00\r",
        "Chunking 210 of 2018 10%|####                                    |ETA:  0:00:00\r",
        "Chunking 231 of 2018 11%|####                                    |ETA:  0:00:00\r",
        "Chunking 252 of 2018 12%|####                                    |ETA:  0:00:00\r",
        "Chunking 273 of 2018 13%|#####                                   |ETA:  0:00:00\r",
        "Chunking 294 of 2018 14%|#####                                   |ETA:  0:00:00\r",
        "Chunking 315 of 2018 15%|######                                  |ETA:  0:00:00\r",
        "Chunking 336 of 2018 16%|######                                  |ETA:  0:00:00\r",
        "Chunking 357 of 2018 17%|#######                                 |ETA:  0:00:00\r",
        "Chunking 378 of 2018 18%|#######                                 |ETA:  0:00:00\r",
        "Chunking 399 of 2018 19%|#######                                 |ETA:  0:00:00\r",
        "Chunking 420 of 2018 20%|########                                |ETA:  0:00:00\r"
       ]
      },
      {
       "output_type": "stream",
       "stream": "stderr",
       "text": [
        "Chunking 441 of 2018 21%|########                                |ETA:  0:00:00\r",
        "Chunking 462 of 2018 22%|#########                               |ETA:  0:00:00\r",
        "Chunking 483 of 2018 23%|#########                               |ETA:  0:00:00\r",
        "Chunking 504 of 2018 24%|#########                               |ETA:  0:00:00\r",
        "Chunking 525 of 2018 26%|##########                              |ETA:  0:00:00\r",
        "Chunking 546 of 2018 27%|##########                              |ETA:  0:00:00\r",
        "Chunking 567 of 2018 28%|###########                             |ETA:  0:00:00\r",
        "Chunking 588 of 2018 29%|###########                             |ETA:  0:00:00\r",
        "Chunking 609 of 2018 30%|############                            |ETA:  0:00:00\r",
        "Chunking 630 of 2018 31%|############                            |ETA:  0:00:00\r",
        "Chunking 651 of 2018 32%|############                            |ETA:  0:00:00\r",
        "Chunking 672 of 2018 33%|#############                           |ETA:  0:00:00\r",
        "Chunking 693 of 2018 34%|#############                           |ETA:  0:00:00\r",
        "Chunking 714 of 2018 35%|##############                          |ETA:  0:00:00\r",
        "Chunking 735 of 2018 36%|##############                          |ETA:  0:00:00\r",
        "Chunking 756 of 2018 37%|##############                          |ETA:  0:00:00\r",
        "Chunking 777 of 2018 38%|###############                         |ETA:  0:00:00\r"
       ]
      },
      {
       "output_type": "stream",
       "stream": "stderr",
       "text": [
        "Chunking 798 of 2018 39%|###############                         |ETA:  0:00:00\r",
        "Chunking 819 of 2018 40%|################                        |ETA:  0:00:00\r",
        "Chunking 840 of 2018 41%|################                        |ETA:  0:00:00\r",
        "Chunking 861 of 2018 42%|#################                       |ETA:  0:00:00\r",
        "Chunking 882 of 2018 43%|#################                       |ETA:  0:00:00\r",
        "Chunking 903 of 2018 44%|#################                       |ETA:  0:00:00\r",
        "Chunking 924 of 2018 45%|##################                      |ETA:  0:00:00\r",
        "Chunking 945 of 2018 46%|##################                      |ETA:  0:00:00\r",
        "Chunking 966 of 2018 47%|###################                     |ETA:  0:00:00\r",
        "Chunking 987 of 2018 48%|###################                     |ETA:  0:00:00\r"
       ]
      },
      {
       "output_type": "stream",
       "stream": "stderr",
       "text": [
        "Chunking 1008 of 2018 49%|###################                    |ETA:  0:00:00\r",
        "Chunking 1029 of 2018 50%|###################                    |ETA:  0:00:00\r",
        "Chunking 1050 of 2018 52%|####################                   |ETA:  0:00:00\r",
        "Chunking 1071 of 2018 53%|####################                   |ETA:  0:00:00\r",
        "Chunking 1092 of 2018 54%|#####################                  |ETA:  0:00:00\r",
        "Chunking 1113 of 2018 55%|#####################                  |ETA:  0:00:00\r",
        "Chunking 1134 of 2018 56%|#####################                  |ETA:  0:00:00\r"
       ]
      },
      {
       "output_type": "stream",
       "stream": "stderr",
       "text": [
        "Chunking 1155 of 2018 57%|######################                 |ETA:  0:00:00\r",
        "Chunking 1176 of 2018 58%|######################                 |ETA:  0:00:00\r",
        "Chunking 1197 of 2018 59%|#######################                |ETA:  0:00:00\r",
        "Chunking 1218 of 2018 60%|#######################                |ETA:  0:00:00\r"
       ]
      },
      {
       "output_type": "stream",
       "stream": "stderr",
       "text": [
        "Chunking 1239 of 2018 61%|#######################                |ETA:  0:00:00\r",
        "Chunking 1260 of 2018 62%|########################               |ETA:  0:00:00\r",
        "Chunking 1281 of 2018 63%|########################               |ETA:  0:00:00\r"
       ]
      },
      {
       "output_type": "stream",
       "stream": "stderr",
       "text": [
        "Chunking 1302 of 2018 64%|#########################              |ETA:  0:00:00\r",
        "Chunking 1323 of 2018 65%|#########################              |ETA:  0:00:00\r",
        "Chunking 1344 of 2018 66%|#########################              |ETA:  0:00:00\r",
        "Chunking 1365 of 2018 67%|##########################             |ETA:  0:00:00\r",
        "Chunking 1386 of 2018 68%|##########################             |ETA:  0:00:00\r"
       ]
      },
      {
       "output_type": "stream",
       "stream": "stderr",
       "text": [
        "Chunking 1407 of 2018 69%|###########################            |ETA:  0:00:00\r",
        "Chunking 1428 of 2018 70%|###########################            |ETA:  0:00:00\r",
        "Chunking 1449 of 2018 71%|############################           |ETA:  0:00:00\r"
       ]
      },
      {
       "output_type": "stream",
       "stream": "stderr",
       "text": [
        "Chunking 1470 of 2018 72%|############################           |ETA:  0:00:00\r",
        "Chunking 1491 of 2018 73%|############################           |ETA:  0:00:00\r",
        "Chunking 1512 of 2018 74%|#############################          |ETA:  0:00:00\r"
       ]
      },
      {
       "output_type": "stream",
       "stream": "stderr",
       "text": [
        "Chunking 1533 of 2018 75%|#############################          |ETA:  0:00:00\r",
        "Chunking 1554 of 2018 77%|##############################         |ETA:  0:00:00\r",
        "Chunking 1575 of 2018 78%|##############################         |ETA:  0:00:00\r",
        "Chunking 1596 of 2018 79%|##############################         |ETA:  0:00:00\r"
       ]
      },
      {
       "output_type": "stream",
       "stream": "stderr",
       "text": [
        "Chunking 1617 of 2018 80%|###############################        |ETA:  0:00:00\r",
        "Chunking 1638 of 2018 81%|###############################        |ETA:  0:00:00\r",
        "Chunking 1659 of 2018 82%|################################       |ETA:  0:00:00\r"
       ]
      },
      {
       "output_type": "stream",
       "stream": "stderr",
       "text": [
        "Chunking 1680 of 2018 83%|################################       |ETA:  0:00:00\r",
        "Chunking 1701 of 2018 84%|################################       |ETA:  0:00:00\r",
        "Chunking 1722 of 2018 85%|#################################      |ETA:  0:00:00\r",
        "Chunking 1743 of 2018 86%|#################################      |ETA:  0:00:00\r"
       ]
      },
      {
       "output_type": "stream",
       "stream": "stderr",
       "text": [
        "Chunking 1764 of 2018 87%|##################################     |ETA:  0:00:00\r",
        "Chunking 1785 of 2018 88%|##################################     |ETA:  0:00:00\r",
        "Chunking 1806 of 2018 89%|##################################     |ETA:  0:00:00\r",
        "Chunking 1827 of 2018 90%|###################################    |ETA:  0:00:00\r",
        "Chunking 1848 of 2018 91%|###################################    |ETA:  0:00:00\r",
        "Chunking 1869 of 2018 92%|####################################   |ETA:  0:00:00\r",
        "Chunking 1890 of 2018 93%|####################################   |ETA:  0:00:00\r",
        "Chunking 1911 of 2018 94%|####################################   |ETA:  0:00:00\r",
        "Chunking 1932 of 2018 95%|#####################################  |ETA:  0:00:00\r",
        "Chunking 1953 of 2018 96%|#####################################  |ETA:  0:00:00\r"
       ]
      },
      {
       "output_type": "stream",
       "stream": "stdout",
       "text": [
        "\n",
        "pa_process_chunks() Started...\n",
        "pa_process_chunks() DONE!"
       ]
      },
      {
       "output_type": "stream",
       "stream": "stdout",
       "text": [
        "\n",
        "get_ner_entities_list() Started...\n",
        "get_ner_entities_list() DONE!\n",
        "get_ner_countries() Started...\n",
        "get_filtered_countries() Started...\n",
        "get_filtered_countries() DONE!\n",
        "get_filtered_countries() Started...\n",
        "get_filtered_countries() DONE!\n",
        "get_ner_countries() DONE!\n",
        "get_ner_organizations() Started...\n",
        "get_ner_organizations() DONE!"
       ]
      },
      {
       "output_type": "stream",
       "stream": "stdout",
       "text": [
        "\n",
        "Elapsed time: 0:01:42.370863\n",
        "['General Assembly Affairs', 'United Nations High Commissioner', 'Africa Commission', 'Commission Finland France Germany Hungary Ireland Italy', 'Commission Romania', 'Development Assistance Committee', 'General Assembly', 'High Commissioner', 'Human Rights Committee', 'International Committee', 'International Convention', 'International Coordinating Committee', 'International Labour Organization', 'International Organization', 'United Nations Assistance Mission']\n",
        "['Afghan', 'Afghanistan', 'Africa', 'African', 'Albania', 'Algeria', 'America', 'Argentina', 'Armenia', 'Australia', 'Belarus', 'Belgium', 'Bhutan', 'Bolivia', 'Bosnia', 'Brazil', 'Burundi', 'Cambodia', 'Canada', 'Chad', 'Chile', 'China', 'Colombia', 'Croatia', 'Cuba', 'Cyprus', 'Egypt', 'Ethiopia', 'Finland', 'France', 'Greece', 'Guatemala', 'Haiti', 'Honduras', 'Hungary', 'Iceland', 'India', 'Indonesia', 'Iran', 'Iraq', 'Ireland', 'Israel', 'Italy', 'Japan', 'Kazakhstan', 'Kenya', 'Korea', 'Kyrgyzstan', 'Latvia', 'Liberia', 'Macedonia', 'Malaysia', 'Mauritania', 'Mexico', 'Myanmar', 'Netherlands', 'Nigeria', 'Norway', 'Pakistan', 'Palestine', 'Peru', 'Poland', 'Portugal', 'Romania', 'Russian', 'Saudi Arabia', 'See', 'Serbia', 'Slovenia', 'Somalia', 'South Africa', 'Spain', 'Sudan', 'Swaziland', 'Switzerland', 'Syrian', 'Tanzania', 'Thailand', 'Tunisia', 'Turkey', 'Ukraine', 'United Republic', 'United States', 'Uzbekistan', 'Yemen', 'Zambia']\n"
       ]
      },
      {
       "output_type": "stream",
       "stream": "stderr",
       "text": [
        "Chunking 1974 of 2018 97%|###################################### |ETA:  0:00:00\r",
        "Chunking 1995 of 2018 98%|###################################### |ETA:  0:00:00\r",
        "Chunking 2016 of 2018 99%|###################################### |ETA:  0:00:00\r",
        "Chunking 2018 of 2018100%|#######################################|Time: 0:00:01\r\n"
       ]
      }
     ],
     "prompt_number": 288
    },
    {
     "cell_type": "code",
     "collapsed": false,
     "input": [
      "ner_orgs,ner_countries,dictionary = ner_document_analysis()\n",
      "print ner_orgs\n",
      "print ner_countries"
     ],
     "language": "python",
     "metadata": {},
     "outputs": [
      {
       "output_type": "stream",
       "stream": "stdout",
       "text": [
        "A/60/2(SUPP)\n",
        "process_and_tag_content() Started...\n",
        "process_and_tag_content() DONE!"
       ]
      },
      {
       "output_type": "stream",
       "stream": "stderr",
       "text": [
        "tagging sentences0 of 823  0%|                                  |ETA:  --:--:--\r",
        "tagging sentences9 of 823  1%|                                   |ETA:  0:00:47\r"
       ]
      },
      {
       "output_type": "stream",
       "stream": "stderr",
       "text": [
        "tagging sentences18 of 823  2%|                                  |ETA:  0:01:00\r",
        "tagging sentences27 of 823  3%|#                                 |ETA:  0:00:56\r"
       ]
      },
      {
       "output_type": "stream",
       "stream": "stderr",
       "text": [
        "tagging sentences36 of 823  4%|#                                 |ETA:  0:00:58\r",
        "tagging sentences45 of 823  5%|#                                 |ETA:  0:00:57\r"
       ]
      },
      {
       "output_type": "stream",
       "stream": "stderr",
       "text": [
        "tagging sentences54 of 823  6%|##                                |ETA:  0:00:57\r",
        "tagging sentences63 of 823  7%|##                                |ETA:  0:00:55\r"
       ]
      },
      {
       "output_type": "stream",
       "stream": "stderr",
       "text": [
        "tagging sentences72 of 823  8%|##                                |ETA:  0:00:53\r",
        "tagging sentences81 of 823  9%|###                               |ETA:  0:00:51\r"
       ]
      },
      {
       "output_type": "stream",
       "stream": "stderr",
       "text": [
        "tagging sentences90 of 823 10%|###                               |ETA:  0:00:51\r",
        "tagging sentences99 of 823 12%|####                              |ETA:  0:00:51\r"
       ]
      },
      {
       "output_type": "stream",
       "stream": "stderr",
       "text": [
        "tagging sentences108 of 823 13%|####                             |ETA:  0:00:50\r",
        "tagging sentences117 of 823 14%|####                             |ETA:  0:00:49\r"
       ]
      },
      {
       "output_type": "stream",
       "stream": "stderr",
       "text": [
        "tagging sentences126 of 823 15%|#####                            |ETA:  0:00:49\r",
        "tagging sentences135 of 823 16%|#####                            |ETA:  0:00:47\r"
       ]
      },
      {
       "output_type": "stream",
       "stream": "stderr",
       "text": [
        "tagging sentences144 of 823 17%|#####                            |ETA:  0:00:46\r",
        "tagging sentences153 of 823 18%|######                           |ETA:  0:00:45\r"
       ]
      },
      {
       "output_type": "stream",
       "stream": "stderr",
       "text": [
        "tagging sentences162 of 823 19%|######                           |ETA:  0:00:45\r",
        "tagging sentences171 of 823 20%|######                           |ETA:  0:00:44\r"
       ]
      },
      {
       "output_type": "stream",
       "stream": "stderr",
       "text": [
        "tagging sentences180 of 823 21%|#######                          |ETA:  0:00:44\r",
        "tagging sentences189 of 823 22%|#######                          |ETA:  0:00:44\r"
       ]
      },
      {
       "output_type": "stream",
       "stream": "stderr",
       "text": [
        "tagging sentences198 of 823 24%|#######                          |ETA:  0:00:43\r",
        "tagging sentences207 of 823 25%|########                         |ETA:  0:00:42\r"
       ]
      },
      {
       "output_type": "stream",
       "stream": "stderr",
       "text": [
        "tagging sentences216 of 823 26%|########                         |ETA:  0:00:42\r",
        "tagging sentences225 of 823 27%|#########                        |ETA:  0:00:41\r"
       ]
      },
      {
       "output_type": "stream",
       "stream": "stderr",
       "text": [
        "tagging sentences234 of 823 28%|#########                        |ETA:  0:00:40\r",
        "tagging sentences243 of 823 29%|#########                        |ETA:  0:00:39\r"
       ]
      },
      {
       "output_type": "stream",
       "stream": "stderr",
       "text": [
        "tagging sentences252 of 823 30%|##########                       |ETA:  0:00:38\r",
        "tagging sentences261 of 823 31%|##########                       |ETA:  0:00:37\r"
       ]
      },
      {
       "output_type": "stream",
       "stream": "stderr",
       "text": [
        "tagging sentences270 of 823 32%|##########                       |ETA:  0:00:37\r",
        "tagging sentences279 of 823 33%|###########                      |ETA:  0:00:37\r"
       ]
      },
      {
       "output_type": "stream",
       "stream": "stderr",
       "text": [
        "tagging sentences288 of 823 34%|###########                      |ETA:  0:00:36\r",
        "tagging sentences297 of 823 36%|###########                      |ETA:  0:00:35\r"
       ]
      },
      {
       "output_type": "stream",
       "stream": "stderr",
       "text": [
        "tagging sentences306 of 823 37%|############                     |ETA:  0:00:35\r",
        "tagging sentences315 of 823 38%|############                     |ETA:  0:00:34\r"
       ]
      },
      {
       "output_type": "stream",
       "stream": "stderr",
       "text": [
        "tagging sentences324 of 823 39%|############                     |ETA:  0:00:34\r",
        "tagging sentences333 of 823 40%|#############                    |ETA:  0:00:33\r"
       ]
      },
      {
       "output_type": "stream",
       "stream": "stderr",
       "text": [
        "tagging sentences342 of 823 41%|#############                    |ETA:  0:00:32\r",
        "tagging sentences351 of 823 42%|##############                   |ETA:  0:00:32\r"
       ]
      },
      {
       "output_type": "stream",
       "stream": "stderr",
       "text": [
        "tagging sentences360 of 823 43%|##############                   |ETA:  0:00:31\r",
        "tagging sentences369 of 823 44%|##############                   |ETA:  0:00:30\r"
       ]
      },
      {
       "output_type": "stream",
       "stream": "stderr",
       "text": [
        "tagging sentences378 of 823 45%|###############                  |ETA:  0:00:29\r",
        "tagging sentences387 of 823 47%|###############                  |ETA:  0:00:28\r"
       ]
      },
      {
       "output_type": "stream",
       "stream": "stderr",
       "text": [
        "tagging sentences396 of 823 48%|###############                  |ETA:  0:00:28\r",
        "tagging sentences405 of 823 49%|################                 |ETA:  0:00:27\r"
       ]
      },
      {
       "output_type": "stream",
       "stream": "stderr",
       "text": [
        "tagging sentences414 of 823 50%|################                 |ETA:  0:00:26\r",
        "tagging sentences423 of 823 51%|################                 |ETA:  0:00:25\r"
       ]
      },
      {
       "output_type": "stream",
       "stream": "stderr",
       "text": [
        "tagging sentences432 of 823 52%|#################                |ETA:  0:00:25\r",
        "tagging sentences441 of 823 53%|#################                |ETA:  0:00:24\r"
       ]
      },
      {
       "output_type": "stream",
       "stream": "stderr",
       "text": [
        "tagging sentences450 of 823 54%|##################               |ETA:  0:00:23\r",
        "tagging sentences459 of 823 55%|##################               |ETA:  0:00:23\r"
       ]
      },
      {
       "output_type": "stream",
       "stream": "stderr",
       "text": [
        "tagging sentences468 of 823 56%|##################               |ETA:  0:00:22\r",
        "tagging sentences477 of 823 57%|###################              |ETA:  0:00:21\r"
       ]
      },
      {
       "output_type": "stream",
       "stream": "stderr",
       "text": [
        "tagging sentences486 of 823 59%|###################              |ETA:  0:00:21\r",
        "tagging sentences495 of 823 60%|###################              |ETA:  0:00:20\r"
       ]
      },
      {
       "output_type": "stream",
       "stream": "stderr",
       "text": [
        "tagging sentences504 of 823 61%|####################             |ETA:  0:00:19\r",
        "tagging sentences513 of 823 62%|####################             |ETA:  0:00:19\r"
       ]
      },
      {
       "output_type": "stream",
       "stream": "stderr",
       "text": [
        "tagging sentences522 of 823 63%|####################             |ETA:  0:00:18\r",
        "tagging sentences531 of 823 64%|#####################            |ETA:  0:00:18\r"
       ]
      },
      {
       "output_type": "stream",
       "stream": "stderr",
       "text": [
        "tagging sentences540 of 823 65%|#####################            |ETA:  0:00:17\r",
        "tagging sentences549 of 823 66%|######################           |ETA:  0:00:17\r"
       ]
      },
      {
       "output_type": "stream",
       "stream": "stderr",
       "text": [
        "tagging sentences558 of 823 67%|######################           |ETA:  0:00:16\r",
        "tagging sentences567 of 823 68%|######################           |ETA:  0:00:15\r"
       ]
      },
      {
       "output_type": "stream",
       "stream": "stderr",
       "text": [
        "tagging sentences576 of 823 69%|#######################          |ETA:  0:00:15\r",
        "tagging sentences585 of 823 71%|#######################          |ETA:  0:00:14\r"
       ]
      },
      {
       "output_type": "stream",
       "stream": "stderr",
       "text": [
        "tagging sentences594 of 823 72%|#######################          |ETA:  0:00:14\r",
        "tagging sentences603 of 823 73%|########################         |ETA:  0:00:13\r"
       ]
      },
      {
       "output_type": "stream",
       "stream": "stderr",
       "text": [
        "tagging sentences612 of 823 74%|########################         |ETA:  0:00:12\r",
        "tagging sentences621 of 823 75%|########################         |ETA:  0:00:12\r"
       ]
      },
      {
       "output_type": "stream",
       "stream": "stderr",
       "text": [
        "tagging sentences630 of 823 76%|#########################        |ETA:  0:00:11\r",
        "tagging sentences639 of 823 77%|#########################        |ETA:  0:00:11\r"
       ]
      },
      {
       "output_type": "stream",
       "stream": "stderr",
       "text": [
        "tagging sentences648 of 823 78%|#########################        |ETA:  0:00:10\r",
        "tagging sentences657 of 823 79%|##########################       |ETA:  0:00:10\r"
       ]
      },
      {
       "output_type": "stream",
       "stream": "stderr",
       "text": [
        "tagging sentences666 of 823 80%|##########################       |ETA:  0:00:09\r",
        "tagging sentences675 of 823 82%|###########################      |ETA:  0:00:08\r"
       ]
      },
      {
       "output_type": "stream",
       "stream": "stderr",
       "text": [
        "tagging sentences684 of 823 83%|###########################      |ETA:  0:00:08\r",
        "tagging sentences693 of 823 84%|###########################      |ETA:  0:00:07\r"
       ]
      },
      {
       "output_type": "stream",
       "stream": "stderr",
       "text": [
        "tagging sentences702 of 823 85%|############################     |ETA:  0:00:07\r",
        "tagging sentences711 of 823 86%|############################     |ETA:  0:00:06\r"
       ]
      },
      {
       "output_type": "stream",
       "stream": "stderr",
       "text": [
        "tagging sentences720 of 823 87%|############################     |ETA:  0:00:06\r",
        "tagging sentences729 of 823 88%|#############################    |ETA:  0:00:05\r"
       ]
      },
      {
       "output_type": "stream",
       "stream": "stderr",
       "text": [
        "tagging sentences738 of 823 89%|#############################    |ETA:  0:00:05\r",
        "tagging sentences747 of 823 90%|#############################    |ETA:  0:00:04\r"
       ]
      },
      {
       "output_type": "stream",
       "stream": "stderr",
       "text": [
        "tagging sentences756 of 823 91%|##############################   |ETA:  0:00:04\r",
        "tagging sentences765 of 823 92%|##############################   |ETA:  0:00:03\r"
       ]
      },
      {
       "output_type": "stream",
       "stream": "stderr",
       "text": [
        "tagging sentences774 of 823 94%|###############################  |ETA:  0:00:02\r",
        "tagging sentences783 of 823 95%|###############################  |ETA:  0:00:02\r"
       ]
      },
      {
       "output_type": "stream",
       "stream": "stderr",
       "text": [
        "tagging sentences792 of 823 96%|###############################  |ETA:  0:00:01\r",
        "tagging sentences801 of 823 97%|################################ |ETA:  0:00:01\r"
       ]
      },
      {
       "output_type": "stream",
       "stream": "stderr",
       "text": [
        "tagging sentences810 of 823 98%|################################ |ETA:  0:00:00\r",
        "tagging sentences819 of 823 99%|################################ |ETA:  0:00:00\r"
       ]
      },
      {
       "output_type": "stream",
       "stream": "stdout",
       "text": [
        "\n",
        "get_ner_dictionary_for_analysis() Started..."
       ]
      }
     ]
    },
    {
     "cell_type": "code",
     "collapsed": false,
     "input": [],
     "language": "python",
     "metadata": {},
     "outputs": []
    }
   ],
   "metadata": {}
  }
 ]
}