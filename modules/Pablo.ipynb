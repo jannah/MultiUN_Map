{
 "metadata": {
  "name": "",
  "signature": "sha256:74d859d2ddb7847008a4933f6931ea3865a7d88307df1268424e1676da099ea0"
 },
 "nbformat": 3,
 "nbformat_minor": 0,
 "worksheets": [
  {
   "cells": [
    {
     "cell_type": "code",
     "collapsed": false,
     "input": [
      "MODULES_PATH = '''../modules/multi_un_module.py'''\n",
      "import imp\n",
      "NF = imp.load_source('multi_un_module', MODULES_PATH)\n",
      "import multi_un_module as mun\n",
      "import nltk\n",
      "import string\n",
      "import pycountry as pc"
     ],
     "language": "python",
     "metadata": {},
     "outputs": [],
     "prompt_number": 1
    },
    {
     "cell_type": "code",
     "collapsed": false,
     "input": [
      "docs = mun.load_xml_files_by_year('TOP_100')\n",
      "default_doc = docs['A_56_17-en.xml']"
     ],
     "language": "python",
     "metadata": {},
     "outputs": [
      {
       "javascript": [
        "//43ab2cb2-c1e0-4635-b37e-bd213fc9bd8a\n",
        "$(\"head\").append(\"<style> td.pb_widget {     width: auto; } td.pb_widget_fill {     width: 100%; } table.pb {     font-family: monospace;     border: 0;     margin: 0; } table.pb tr { border: 0; } table.pb td {     white-space: nowrap;     border: 0; } div.pb {     border: 1px solid #ddd;     border-radius: 3px; } div.pb_bar {     height: 1.5em; } </style>\")"
       ],
       "metadata": {},
       "output_type": "display_data",
       "text": [
        "<IPython.core.display.Javascript at 0x1a646e10>"
       ]
      },
      {
       "javascript": [
        "\n",
        "                  // 43ab2cb2-c1e0-4635-b37e-bd213fc9bd8a -- used to remove this code blob in the end\n",
        "                  IPython.OutputArea.prototype.cleanProgressBar = function(uuids) {\n",
        "                      // filter by uuid-strings \n",
        "                      var myfilter = function(output) { \n",
        "                          var nuids = uuids.length;\n",
        "                          for (var i=0; i<nuids; i++) {\n",
        "                              if (output.hasOwnProperty('html')) {\n",
        "                                  if (output.html.indexOf(uuids[i]) != -1) {\n",
        "                                      return false;\n",
        "                                  }\n",
        "                              }\n",
        "                              if (output.hasOwnProperty('javascript')) {\n",
        "                                  if (output.javascript.indexOf(uuids[i]) != -1) {\n",
        "                                      return false;\n",
        "                                  }\n",
        "                              }\n",
        "                          }\n",
        "                          // keep all others\n",
        "                          return true;\n",
        "                      };\n",
        "\n",
        "                      // Filter the ouputs\n",
        "                      this.outputs = this.outputs.filter(myfilter);\n",
        "                };\n",
        "                "
       ],
       "metadata": {},
       "output_type": "display_data",
       "text": [
        "<IPython.core.display.Javascript at 0x1a646e80>"
       ]
      },
      {
       "html": [
        "<div class=\"pb\" id=\"43ab2cb2-c1e0-4635-b37e-bd213fc9bd8a\"><table class=\"pb ui-widget\"><tr>\n",
        "<td class=\"pb_widget\">TOP_100</td>\n",
        "<td class=\"pb_widget\"><div id=\"5630781f-4064-40fc-88c1-052c5107adcd\">0 of 98</div></td>\n",
        "<td class=\"pb_widget\"><div id=\"5825bc50-3398-496f-85b2-21deb97b1456\">  0%</div></td>\n",
        "<td class=\"pb_widget_fill\">\n",
        "        <div class=\"pb_bar\" id=\"ea132cbe-5bc0-4760-8d30-2c0b2cb810c8\"></div>\n",
        "        <script type=\"text/javascript\">\n",
        "            $(\"div#ea132cbe-5bc0-4760-8d30-2c0b2cb810c8\").progressbar({value: 0, max: 98});\n",
        "        </script>\n",
        "        </td>\n",
        "<td class=\"pb_widget\"><div id=\"598b6361-b00f-4548-bbe4-c7361ed25cf9\">ETA:  --:--:--</div></td>\n",
        "</tr></table><div>"
       ],
       "metadata": {},
       "output_type": "display_data",
       "text": [
        "<IPython.core.display.HTML at 0x1a646eb8>"
       ]
      },
      {
       "javascript": [
        "$('div#5630781f-4064-40fc-88c1-052c5107adcd').text('1 of 98');"
       ],
       "metadata": {},
       "output_type": "display_data",
       "text": [
        "<IPython.core.display.Javascript at 0x1752d898>"
       ]
      },
      {
       "javascript": [
        "$('div#5825bc50-3398-496f-85b2-21deb97b1456').text('  1%');"
       ],
       "metadata": {},
       "output_type": "display_data",
       "text": [
        "<IPython.core.display.Javascript at 0x1752d8d0>"
       ]
      },
      {
       "javascript": [
        "\n",
        "        var $myPB = $(\"div#ea132cbe-5bc0-4760-8d30-2c0b2cb810c8\")\n",
        "        if ($myPB.hasClass('ui-progressbar')) {\n",
        "            $myPB.progressbar('value', 1);\n",
        "        } else {\n",
        "            $myPB.progressbar({value: 0, max: 98});\n",
        "        }\n",
        "        "
       ],
       "metadata": {},
       "output_type": "display_data",
       "text": [
        "<IPython.core.display.Javascript at 0x1752d940>"
       ]
      },
      {
       "javascript": [
        "$('div#598b6361-b00f-4548-bbe4-c7361ed25cf9').text('ETA:  0:00:02');"
       ],
       "metadata": {},
       "output_type": "display_data",
       "text": [
        "<IPython.core.display.Javascript at 0x1752d908>"
       ]
      },
      {
       "javascript": [
        "$('div#5630781f-4064-40fc-88c1-052c5107adcd').text('2 of 98');"
       ],
       "metadata": {},
       "output_type": "display_data",
       "text": [
        "<IPython.core.display.Javascript at 0x1752ddd8>"
       ]
      },
      {
       "javascript": [
        "$('div#5825bc50-3398-496f-85b2-21deb97b1456').text('  2%');"
       ],
       "metadata": {},
       "output_type": "display_data",
       "text": [
        "<IPython.core.display.Javascript at 0x1752de10>"
       ]
      },
      {
       "javascript": [
        "\n",
        "        var $myPB = $(\"div#ea132cbe-5bc0-4760-8d30-2c0b2cb810c8\")\n",
        "        if ($myPB.hasClass('ui-progressbar')) {\n",
        "            $myPB.progressbar('value', 2);\n",
        "        } else {\n",
        "            $myPB.progressbar({value: 0, max: 98});\n",
        "        }\n",
        "        "
       ],
       "metadata": {},
       "output_type": "display_data",
       "text": [
        "<IPython.core.display.Javascript at 0x1752de80>"
       ]
      },
      {
       "javascript": [
        "$('div#598b6361-b00f-4548-bbe4-c7361ed25cf9').text('ETA:  0:00:02');"
       ],
       "metadata": {},
       "output_type": "display_data",
       "text": [
        "<IPython.core.display.Javascript at 0x1752de48>"
       ]
      },
      {
       "javascript": [
        "$('div#5630781f-4064-40fc-88c1-052c5107adcd').text('3 of 98');"
       ],
       "metadata": {},
       "output_type": "display_data",
       "text": [
        "<IPython.core.display.Javascript at 0x16c715c0>"
       ]
      },
      {
       "javascript": [
        "$('div#5825bc50-3398-496f-85b2-21deb97b1456').text('  3%');"
       ],
       "metadata": {},
       "output_type": "display_data",
       "text": [
        "<IPython.core.display.Javascript at 0x16c715f8>"
       ]
      },
      {
       "javascript": [
        "\n",
        "        var $myPB = $(\"div#ea132cbe-5bc0-4760-8d30-2c0b2cb810c8\")\n",
        "        if ($myPB.hasClass('ui-progressbar')) {\n",
        "            $myPB.progressbar('value', 3);\n",
        "        } else {\n",
        "            $myPB.progressbar({value: 0, max: 98});\n",
        "        }\n",
        "        "
       ],
       "metadata": {},
       "output_type": "display_data",
       "text": [
        "<IPython.core.display.Javascript at 0x16c71668>"
       ]
      },
      {
       "javascript": [
        "$('div#598b6361-b00f-4548-bbe4-c7361ed25cf9').text('ETA:  0:00:01');"
       ],
       "metadata": {},
       "output_type": "display_data",
       "text": [
        "<IPython.core.display.Javascript at 0x16c71630>"
       ]
      },
      {
       "javascript": [
        "$('div#5630781f-4064-40fc-88c1-052c5107adcd').text('4 of 98');"
       ],
       "metadata": {},
       "output_type": "display_data",
       "text": [
        "<IPython.core.display.Javascript at 0x1b4609e8>"
       ]
      },
      {
       "javascript": [
        "$('div#5825bc50-3398-496f-85b2-21deb97b1456').text('  4%');"
       ],
       "metadata": {},
       "output_type": "display_data",
       "text": [
        "<IPython.core.display.Javascript at 0x1b460a20>"
       ]
      },
      {
       "javascript": [
        "\n",
        "        var $myPB = $(\"div#ea132cbe-5bc0-4760-8d30-2c0b2cb810c8\")\n",
        "        if ($myPB.hasClass('ui-progressbar')) {\n",
        "            $myPB.progressbar('value', 4);\n",
        "        } else {\n",
        "            $myPB.progressbar({value: 0, max: 98});\n",
        "        }\n",
        "        "
       ],
       "metadata": {},
       "output_type": "display_data",
       "text": [
        "<IPython.core.display.Javascript at 0x1b460a90>"
       ]
      },
      {
       "javascript": [
        "$('div#598b6361-b00f-4548-bbe4-c7361ed25cf9').text('ETA:  0:00:05');"
       ],
       "metadata": {},
       "output_type": "display_data",
       "text": [
        "<IPython.core.display.Javascript at 0x1b460a58>"
       ]
      },
      {
       "javascript": [
        "$('div#5630781f-4064-40fc-88c1-052c5107adcd').text('5 of 98');"
       ],
       "metadata": {},
       "output_type": "display_data",
       "text": [
        "<IPython.core.display.Javascript at 0x1b460c50>"
       ]
      },
      {
       "javascript": [
        "$('div#5825bc50-3398-496f-85b2-21deb97b1456').text('  5%');"
       ],
       "metadata": {},
       "output_type": "display_data",
       "text": [
        "<IPython.core.display.Javascript at 0x1b460c88>"
       ]
      },
      {
       "javascript": [
        "\n",
        "        var $myPB = $(\"div#ea132cbe-5bc0-4760-8d30-2c0b2cb810c8\")\n",
        "        if ($myPB.hasClass('ui-progressbar')) {\n",
        "            $myPB.progressbar('value', 5);\n",
        "        } else {\n",
        "            $myPB.progressbar({value: 0, max: 98});\n",
        "        }\n",
        "        "
       ],
       "metadata": {},
       "output_type": "display_data",
       "text": [
        "<IPython.core.display.Javascript at 0x1b460cf8>"
       ]
      },
      {
       "javascript": [
        "$('div#598b6361-b00f-4548-bbe4-c7361ed25cf9').text('ETA:  0:00:04');"
       ],
       "metadata": {},
       "output_type": "display_data",
       "text": [
        "<IPython.core.display.Javascript at 0x1b460cc0>"
       ]
      },
      {
       "javascript": [
        "$('div#5630781f-4064-40fc-88c1-052c5107adcd').text('6 of 98');"
       ],
       "metadata": {},
       "output_type": "display_data",
       "text": [
        "<IPython.core.display.Javascript at 0x1ae59908>"
       ]
      },
      {
       "javascript": [
        "$('div#5825bc50-3398-496f-85b2-21deb97b1456').text('  6%');"
       ],
       "metadata": {},
       "output_type": "display_data",
       "text": [
        "<IPython.core.display.Javascript at 0x1ae59940>"
       ]
      },
      {
       "javascript": [
        "\n",
        "        var $myPB = $(\"div#ea132cbe-5bc0-4760-8d30-2c0b2cb810c8\")\n",
        "        if ($myPB.hasClass('ui-progressbar')) {\n",
        "            $myPB.progressbar('value', 6);\n",
        "        } else {\n",
        "            $myPB.progressbar({value: 0, max: 98});\n",
        "        }\n",
        "        "
       ],
       "metadata": {},
       "output_type": "display_data",
       "text": [
        "<IPython.core.display.Javascript at 0x1ae599b0>"
       ]
      },
      {
       "javascript": [
        "$('div#598b6361-b00f-4548-bbe4-c7361ed25cf9').text('ETA:  0:00:04');"
       ],
       "metadata": {},
       "output_type": "display_data",
       "text": [
        "<IPython.core.display.Javascript at 0x1ae59978>"
       ]
      },
      {
       "javascript": [
        "$('div#5630781f-4064-40fc-88c1-052c5107adcd').text('7 of 98');"
       ],
       "metadata": {},
       "output_type": "display_data",
       "text": [
        "<IPython.core.display.Javascript at 0x1b8bc2b0>"
       ]
      },
      {
       "javascript": [
        "$('div#5825bc50-3398-496f-85b2-21deb97b1456').text('  7%');"
       ],
       "metadata": {},
       "output_type": "display_data",
       "text": [
        "<IPython.core.display.Javascript at 0x1b8bc2e8>"
       ]
      },
      {
       "javascript": [
        "\n",
        "        var $myPB = $(\"div#ea132cbe-5bc0-4760-8d30-2c0b2cb810c8\")\n",
        "        if ($myPB.hasClass('ui-progressbar')) {\n",
        "            $myPB.progressbar('value', 7);\n",
        "        } else {\n",
        "            $myPB.progressbar({value: 0, max: 98});\n",
        "        }\n",
        "        "
       ],
       "metadata": {},
       "output_type": "display_data",
       "text": [
        "<IPython.core.display.Javascript at 0x1b8bc358>"
       ]
      },
      {
       "javascript": [
        "$('div#598b6361-b00f-4548-bbe4-c7361ed25cf9').text('ETA:  0:00:06');"
       ],
       "metadata": {},
       "output_type": "display_data",
       "text": [
        "<IPython.core.display.Javascript at 0x1b8bc320>"
       ]
      },
      {
       "javascript": [
        "$('div#5630781f-4064-40fc-88c1-052c5107adcd').text('8 of 98');"
       ],
       "metadata": {},
       "output_type": "display_data",
       "text": [
        "<IPython.core.display.Javascript at 0x1b8bc4e0>"
       ]
      },
      {
       "javascript": [
        "$('div#5825bc50-3398-496f-85b2-21deb97b1456').text('  8%');"
       ],
       "metadata": {},
       "output_type": "display_data",
       "text": [
        "<IPython.core.display.Javascript at 0x1b8bc518>"
       ]
      },
      {
       "javascript": [
        "\n",
        "        var $myPB = $(\"div#ea132cbe-5bc0-4760-8d30-2c0b2cb810c8\")\n",
        "        if ($myPB.hasClass('ui-progressbar')) {\n",
        "            $myPB.progressbar('value', 8);\n",
        "        } else {\n",
        "            $myPB.progressbar({value: 0, max: 98});\n",
        "        }\n",
        "        "
       ],
       "metadata": {},
       "output_type": "display_data",
       "text": [
        "<IPython.core.display.Javascript at 0x1b8bc588>"
       ]
      },
      {
       "javascript": [
        "$('div#598b6361-b00f-4548-bbe4-c7361ed25cf9').text('ETA:  0:00:05');"
       ],
       "metadata": {},
       "output_type": "display_data",
       "text": [
        "<IPython.core.display.Javascript at 0x1b8bc550>"
       ]
      },
      {
       "javascript": [
        "$('div#5630781f-4064-40fc-88c1-052c5107adcd').text('9 of 98');"
       ],
       "metadata": {},
       "output_type": "display_data",
       "text": [
        "<IPython.core.display.Javascript at 0x1b8bc4e0>"
       ]
      },
      {
       "javascript": [
        "$('div#5825bc50-3398-496f-85b2-21deb97b1456').text('  9%');"
       ],
       "metadata": {},
       "output_type": "display_data",
       "text": [
        "<IPython.core.display.Javascript at 0x1b8bc6a0>"
       ]
      },
      {
       "javascript": [
        "\n",
        "        var $myPB = $(\"div#ea132cbe-5bc0-4760-8d30-2c0b2cb810c8\")\n",
        "        if ($myPB.hasClass('ui-progressbar')) {\n",
        "            $myPB.progressbar('value', 9);\n",
        "        } else {\n",
        "            $myPB.progressbar({value: 0, max: 98});\n",
        "        }\n",
        "        "
       ],
       "metadata": {},
       "output_type": "display_data",
       "text": [
        "<IPython.core.display.Javascript at 0x1b8bc5c0>"
       ]
      },
      {
       "javascript": [
        "$('div#598b6361-b00f-4548-bbe4-c7361ed25cf9').text('ETA:  0:00:05');"
       ],
       "metadata": {},
       "output_type": "display_data",
       "text": [
        "<IPython.core.display.Javascript at 0x1b8bc668>"
       ]
      },
      {
       "javascript": [
        "$('div#5630781f-4064-40fc-88c1-052c5107adcd').text('10 of 98');"
       ],
       "metadata": {},
       "output_type": "display_data",
       "text": [
        "<IPython.core.display.Javascript at 0x1b8bc940>"
       ]
      },
      {
       "javascript": [
        "$('div#5825bc50-3398-496f-85b2-21deb97b1456').text(' 10%');"
       ],
       "metadata": {},
       "output_type": "display_data",
       "text": [
        "<IPython.core.display.Javascript at 0x1b8bc978>"
       ]
      },
      {
       "javascript": [
        "\n",
        "        var $myPB = $(\"div#ea132cbe-5bc0-4760-8d30-2c0b2cb810c8\")\n",
        "        if ($myPB.hasClass('ui-progressbar')) {\n",
        "            $myPB.progressbar('value', 10);\n",
        "        } else {\n",
        "            $myPB.progressbar({value: 0, max: 98});\n",
        "        }\n",
        "        "
       ],
       "metadata": {},
       "output_type": "display_data",
       "text": [
        "<IPython.core.display.Javascript at 0x1b8bc9e8>"
       ]
      },
      {
       "javascript": [
        "$('div#598b6361-b00f-4548-bbe4-c7361ed25cf9').text('ETA:  0:00:04');"
       ],
       "metadata": {},
       "output_type": "display_data",
       "text": [
        "<IPython.core.display.Javascript at 0x1b8bc9e8>"
       ]
      },
      {
       "javascript": [
        "$('div#5630781f-4064-40fc-88c1-052c5107adcd').text('11 of 98');"
       ],
       "metadata": {},
       "output_type": "display_data",
       "text": [
        "<IPython.core.display.Javascript at 0x1b1d8160>"
       ]
      },
      {
       "javascript": [
        "$('div#5825bc50-3398-496f-85b2-21deb97b1456').text(' 11%');"
       ],
       "metadata": {},
       "output_type": "display_data",
       "text": [
        "<IPython.core.display.Javascript at 0x1b1d8198>"
       ]
      },
      {
       "javascript": [
        "\n",
        "        var $myPB = $(\"div#ea132cbe-5bc0-4760-8d30-2c0b2cb810c8\")\n",
        "        if ($myPB.hasClass('ui-progressbar')) {\n",
        "            $myPB.progressbar('value', 11);\n",
        "        } else {\n",
        "            $myPB.progressbar({value: 0, max: 98});\n",
        "        }\n",
        "        "
       ],
       "metadata": {},
       "output_type": "display_data",
       "text": [
        "<IPython.core.display.Javascript at 0x1b1d8208>"
       ]
      },
      {
       "javascript": [
        "$('div#598b6361-b00f-4548-bbe4-c7361ed25cf9').text('ETA:  0:00:04');"
       ],
       "metadata": {},
       "output_type": "display_data",
       "text": [
        "<IPython.core.display.Javascript at 0x1b1d81d0>"
       ]
      },
      {
       "javascript": [
        "$('div#5630781f-4064-40fc-88c1-052c5107adcd').text('12 of 98');"
       ],
       "metadata": {},
       "output_type": "display_data",
       "text": [
        "<IPython.core.display.Javascript at 0x1b1d86a0>"
       ]
      },
      {
       "javascript": [
        "$('div#5825bc50-3398-496f-85b2-21deb97b1456').text(' 12%');"
       ],
       "metadata": {},
       "output_type": "display_data",
       "text": [
        "<IPython.core.display.Javascript at 0x1b1d86d8>"
       ]
      },
      {
       "javascript": [
        "\n",
        "        var $myPB = $(\"div#ea132cbe-5bc0-4760-8d30-2c0b2cb810c8\")\n",
        "        if ($myPB.hasClass('ui-progressbar')) {\n",
        "            $myPB.progressbar('value', 12);\n",
        "        } else {\n",
        "            $myPB.progressbar({value: 0, max: 98});\n",
        "        }\n",
        "        "
       ],
       "metadata": {},
       "output_type": "display_data",
       "text": [
        "<IPython.core.display.Javascript at 0x1b1d8748>"
       ]
      },
      {
       "javascript": [
        "$('div#598b6361-b00f-4548-bbe4-c7361ed25cf9').text('ETA:  0:00:04');"
       ],
       "metadata": {},
       "output_type": "display_data",
       "text": [
        "<IPython.core.display.Javascript at 0x1b1d8710>"
       ]
      },
      {
       "javascript": [
        "$('div#5630781f-4064-40fc-88c1-052c5107adcd').text('13 of 98');"
       ],
       "metadata": {},
       "output_type": "display_data",
       "text": [
        "<IPython.core.display.Javascript at 0x1b1d8ac8>"
       ]
      },
      {
       "javascript": [
        "$('div#5825bc50-3398-496f-85b2-21deb97b1456').text(' 13%');"
       ],
       "metadata": {},
       "output_type": "display_data",
       "text": [
        "<IPython.core.display.Javascript at 0x1b1d8b00>"
       ]
      },
      {
       "javascript": [
        "\n",
        "        var $myPB = $(\"div#ea132cbe-5bc0-4760-8d30-2c0b2cb810c8\")\n",
        "        if ($myPB.hasClass('ui-progressbar')) {\n",
        "            $myPB.progressbar('value', 13);\n",
        "        } else {\n",
        "            $myPB.progressbar({value: 0, max: 98});\n",
        "        }\n",
        "        "
       ],
       "metadata": {},
       "output_type": "display_data",
       "text": [
        "<IPython.core.display.Javascript at 0x1b1d8b70>"
       ]
      },
      {
       "javascript": [
        "$('div#598b6361-b00f-4548-bbe4-c7361ed25cf9').text('ETA:  0:00:03');"
       ],
       "metadata": {},
       "output_type": "display_data",
       "text": [
        "<IPython.core.display.Javascript at 0x1b1d8b38>"
       ]
      },
      {
       "javascript": [
        "$('div#5630781f-4064-40fc-88c1-052c5107adcd').text('14 of 98');"
       ],
       "metadata": {},
       "output_type": "display_data",
       "text": [
        "<IPython.core.display.Javascript at 0x1b1d8ba8>"
       ]
      },
      {
       "javascript": [
        "$('div#5825bc50-3398-496f-85b2-21deb97b1456').text(' 14%');"
       ],
       "metadata": {},
       "output_type": "display_data",
       "text": [
        "<IPython.core.display.Javascript at 0x1b1d8cc0>"
       ]
      },
      {
       "javascript": [
        "\n",
        "        var $myPB = $(\"div#ea132cbe-5bc0-4760-8d30-2c0b2cb810c8\")\n",
        "        if ($myPB.hasClass('ui-progressbar')) {\n",
        "            $myPB.progressbar('value', 14);\n",
        "        } else {\n",
        "            $myPB.progressbar({value: 0, max: 98});\n",
        "        }\n",
        "        "
       ],
       "metadata": {},
       "output_type": "display_data",
       "text": [
        "<IPython.core.display.Javascript at 0x1b1d8d30>"
       ]
      },
      {
       "javascript": [
        "$('div#598b6361-b00f-4548-bbe4-c7361ed25cf9').text('ETA:  0:00:03');"
       ],
       "metadata": {},
       "output_type": "display_data",
       "text": [
        "<IPython.core.display.Javascript at 0x1b1d8d30>"
       ]
      },
      {
       "javascript": [
        "$('div#5630781f-4064-40fc-88c1-052c5107adcd').text('15 of 98');"
       ],
       "metadata": {},
       "output_type": "display_data",
       "text": [
        "<IPython.core.display.Javascript at 0x1b04ac50>"
       ]
      },
      {
       "javascript": [
        "$('div#5825bc50-3398-496f-85b2-21deb97b1456').text(' 15%');"
       ],
       "metadata": {},
       "output_type": "display_data",
       "text": [
        "<IPython.core.display.Javascript at 0x1b04ac88>"
       ]
      },
      {
       "javascript": [
        "\n",
        "        var $myPB = $(\"div#ea132cbe-5bc0-4760-8d30-2c0b2cb810c8\")\n",
        "        if ($myPB.hasClass('ui-progressbar')) {\n",
        "            $myPB.progressbar('value', 15);\n",
        "        } else {\n",
        "            $myPB.progressbar({value: 0, max: 98});\n",
        "        }\n",
        "        "
       ],
       "metadata": {},
       "output_type": "display_data",
       "text": [
        "<IPython.core.display.Javascript at 0x1b04acf8>"
       ]
      },
      {
       "javascript": [
        "$('div#598b6361-b00f-4548-bbe4-c7361ed25cf9').text('ETA:  0:00:03');"
       ],
       "metadata": {},
       "output_type": "display_data",
       "text": [
        "<IPython.core.display.Javascript at 0x1b04acc0>"
       ]
      },
      {
       "javascript": [
        "$('div#5630781f-4064-40fc-88c1-052c5107adcd').text('16 of 98');"
       ],
       "metadata": {},
       "output_type": "display_data",
       "text": [
        "<IPython.core.display.Javascript at 0x1a7391d0>"
       ]
      },
      {
       "javascript": [
        "$('div#5825bc50-3398-496f-85b2-21deb97b1456').text(' 16%');"
       ],
       "metadata": {},
       "output_type": "display_data",
       "text": [
        "<IPython.core.display.Javascript at 0x1a739208>"
       ]
      },
      {
       "javascript": [
        "\n",
        "        var $myPB = $(\"div#ea132cbe-5bc0-4760-8d30-2c0b2cb810c8\")\n",
        "        if ($myPB.hasClass('ui-progressbar')) {\n",
        "            $myPB.progressbar('value', 16);\n",
        "        } else {\n",
        "            $myPB.progressbar({value: 0, max: 98});\n",
        "        }\n",
        "        "
       ],
       "metadata": {},
       "output_type": "display_data",
       "text": [
        "<IPython.core.display.Javascript at 0x1a739278>"
       ]
      },
      {
       "javascript": [
        "$('div#598b6361-b00f-4548-bbe4-c7361ed25cf9').text('ETA:  0:00:03');"
       ],
       "metadata": {},
       "output_type": "display_data",
       "text": [
        "<IPython.core.display.Javascript at 0x1a739240>"
       ]
      },
      {
       "javascript": [
        "$('div#5630781f-4064-40fc-88c1-052c5107adcd').text('17 of 98');"
       ],
       "metadata": {},
       "output_type": "display_data",
       "text": [
        "<IPython.core.display.Javascript at 0x1af78978>"
       ]
      },
      {
       "javascript": [
        "$('div#5825bc50-3398-496f-85b2-21deb97b1456').text(' 17%');"
       ],
       "metadata": {},
       "output_type": "display_data",
       "text": [
        "<IPython.core.display.Javascript at 0x1af789b0>"
       ]
      },
      {
       "javascript": [
        "\n",
        "        var $myPB = $(\"div#ea132cbe-5bc0-4760-8d30-2c0b2cb810c8\")\n",
        "        if ($myPB.hasClass('ui-progressbar')) {\n",
        "            $myPB.progressbar('value', 17);\n",
        "        } else {\n",
        "            $myPB.progressbar({value: 0, max: 98});\n",
        "        }\n",
        "        "
       ],
       "metadata": {},
       "output_type": "display_data",
       "text": [
        "<IPython.core.display.Javascript at 0x1af78a20>"
       ]
      },
      {
       "javascript": [
        "$('div#598b6361-b00f-4548-bbe4-c7361ed25cf9').text('ETA:  0:00:03');"
       ],
       "metadata": {},
       "output_type": "display_data",
       "text": [
        "<IPython.core.display.Javascript at 0x1af789e8>"
       ]
      },
      {
       "javascript": [
        "$('div#5630781f-4064-40fc-88c1-052c5107adcd').text('18 of 98');"
       ],
       "metadata": {},
       "output_type": "display_data",
       "text": [
        "<IPython.core.display.Javascript at 0x35aa828>"
       ]
      },
      {
       "javascript": [
        "$('div#5825bc50-3398-496f-85b2-21deb97b1456').text(' 18%');"
       ],
       "metadata": {},
       "output_type": "display_data",
       "text": [
        "<IPython.core.display.Javascript at 0x1af78be0>"
       ]
      },
      {
       "javascript": [
        "\n",
        "        var $myPB = $(\"div#ea132cbe-5bc0-4760-8d30-2c0b2cb810c8\")\n",
        "        if ($myPB.hasClass('ui-progressbar')) {\n",
        "            $myPB.progressbar('value', 18);\n",
        "        } else {\n",
        "            $myPB.progressbar({value: 0, max: 98});\n",
        "        }\n",
        "        "
       ],
       "metadata": {},
       "output_type": "display_data",
       "text": [
        "<IPython.core.display.Javascript at 0x1af78d30>"
       ]
      },
      {
       "javascript": [
        "$('div#598b6361-b00f-4548-bbe4-c7361ed25cf9').text('ETA:  0:00:03');"
       ],
       "metadata": {},
       "output_type": "display_data",
       "text": [
        "<IPython.core.display.Javascript at 0x1af78c18>"
       ]
      },
      {
       "javascript": [
        "$('div#5630781f-4064-40fc-88c1-052c5107adcd').text('19 of 98');"
       ],
       "metadata": {},
       "output_type": "display_data",
       "text": [
        "<IPython.core.display.Javascript at 0x1afa0390>"
       ]
      },
      {
       "javascript": [
        "$('div#5825bc50-3398-496f-85b2-21deb97b1456').text(' 19%');"
       ],
       "metadata": {},
       "output_type": "display_data",
       "text": [
        "<IPython.core.display.Javascript at 0x1afa03c8>"
       ]
      },
      {
       "javascript": [
        "\n",
        "        var $myPB = $(\"div#ea132cbe-5bc0-4760-8d30-2c0b2cb810c8\")\n",
        "        if ($myPB.hasClass('ui-progressbar')) {\n",
        "            $myPB.progressbar('value', 19);\n",
        "        } else {\n",
        "            $myPB.progressbar({value: 0, max: 98});\n",
        "        }\n",
        "        "
       ],
       "metadata": {},
       "output_type": "display_data",
       "text": [
        "<IPython.core.display.Javascript at 0x1afa0438>"
       ]
      },
      {
       "javascript": [
        "$('div#598b6361-b00f-4548-bbe4-c7361ed25cf9').text('ETA:  0:00:03');"
       ],
       "metadata": {},
       "output_type": "display_data",
       "text": [
        "<IPython.core.display.Javascript at 0x1afa0400>"
       ]
      },
      {
       "javascript": [
        "$('div#5630781f-4064-40fc-88c1-052c5107adcd').text('20 of 98');"
       ],
       "metadata": {},
       "output_type": "display_data",
       "text": [
        "<IPython.core.display.Javascript at 0x1afa07b8>"
       ]
      },
      {
       "javascript": [
        "$('div#5825bc50-3398-496f-85b2-21deb97b1456').text(' 20%');"
       ],
       "metadata": {},
       "output_type": "display_data",
       "text": [
        "<IPython.core.display.Javascript at 0x1afa07f0>"
       ]
      },
      {
       "javascript": [
        "\n",
        "        var $myPB = $(\"div#ea132cbe-5bc0-4760-8d30-2c0b2cb810c8\")\n",
        "        if ($myPB.hasClass('ui-progressbar')) {\n",
        "            $myPB.progressbar('value', 20);\n",
        "        } else {\n",
        "            $myPB.progressbar({value: 0, max: 98});\n",
        "        }\n",
        "        "
       ],
       "metadata": {},
       "output_type": "display_data",
       "text": [
        "<IPython.core.display.Javascript at 0x1afa0860>"
       ]
      },
      {
       "javascript": [
        "$('div#598b6361-b00f-4548-bbe4-c7361ed25cf9').text('ETA:  0:00:03');"
       ],
       "metadata": {},
       "output_type": "display_data",
       "text": [
        "<IPython.core.display.Javascript at 0x1afa0828>"
       ]
      },
      {
       "javascript": [
        "$('div#5630781f-4064-40fc-88c1-052c5107adcd').text('21 of 98');"
       ],
       "metadata": {},
       "output_type": "display_data",
       "text": [
        "<IPython.core.display.Javascript at 0x1aeefda0>"
       ]
      },
      {
       "javascript": [
        "$('div#5825bc50-3398-496f-85b2-21deb97b1456').text(' 21%');"
       ],
       "metadata": {},
       "output_type": "display_data",
       "text": [
        "<IPython.core.display.Javascript at 0x1aeefdd8>"
       ]
      },
      {
       "javascript": [
        "\n",
        "        var $myPB = $(\"div#ea132cbe-5bc0-4760-8d30-2c0b2cb810c8\")\n",
        "        if ($myPB.hasClass('ui-progressbar')) {\n",
        "            $myPB.progressbar('value', 21);\n",
        "        } else {\n",
        "            $myPB.progressbar({value: 0, max: 98});\n",
        "        }\n",
        "        "
       ],
       "metadata": {},
       "output_type": "display_data",
       "text": [
        "<IPython.core.display.Javascript at 0x1aeefe48>"
       ]
      },
      {
       "javascript": [
        "$('div#598b6361-b00f-4548-bbe4-c7361ed25cf9').text('ETA:  0:00:03');"
       ],
       "metadata": {},
       "output_type": "display_data",
       "text": [
        "<IPython.core.display.Javascript at 0x1aeefe10>"
       ]
      },
      {
       "javascript": [
        "$('div#5630781f-4064-40fc-88c1-052c5107adcd').text('22 of 98');"
       ],
       "metadata": {},
       "output_type": "display_data",
       "text": [
        "<IPython.core.display.Javascript at 0x1aefe2b0>"
       ]
      },
      {
       "javascript": [
        "$('div#5825bc50-3398-496f-85b2-21deb97b1456').text(' 22%');"
       ],
       "metadata": {},
       "output_type": "display_data",
       "text": [
        "<IPython.core.display.Javascript at 0x1aefe2e8>"
       ]
      },
      {
       "javascript": [
        "\n",
        "        var $myPB = $(\"div#ea132cbe-5bc0-4760-8d30-2c0b2cb810c8\")\n",
        "        if ($myPB.hasClass('ui-progressbar')) {\n",
        "            $myPB.progressbar('value', 22);\n",
        "        } else {\n",
        "            $myPB.progressbar({value: 0, max: 98});\n",
        "        }\n",
        "        "
       ],
       "metadata": {},
       "output_type": "display_data",
       "text": [
        "<IPython.core.display.Javascript at 0x1aefe358>"
       ]
      },
      {
       "javascript": [
        "$('div#598b6361-b00f-4548-bbe4-c7361ed25cf9').text('ETA:  0:00:02');"
       ],
       "metadata": {},
       "output_type": "display_data",
       "text": [
        "<IPython.core.display.Javascript at 0x1aefe358>"
       ]
      },
      {
       "javascript": [
        "$('div#5630781f-4064-40fc-88c1-052c5107adcd').text('23 of 98');"
       ],
       "metadata": {},
       "output_type": "display_data",
       "text": [
        "<IPython.core.display.Javascript at 0x1aefe6d8>"
       ]
      },
      {
       "javascript": [
        "$('div#5825bc50-3398-496f-85b2-21deb97b1456').text(' 23%');"
       ],
       "metadata": {},
       "output_type": "display_data",
       "text": [
        "<IPython.core.display.Javascript at 0x1aefe710>"
       ]
      },
      {
       "javascript": [
        "\n",
        "        var $myPB = $(\"div#ea132cbe-5bc0-4760-8d30-2c0b2cb810c8\")\n",
        "        if ($myPB.hasClass('ui-progressbar')) {\n",
        "            $myPB.progressbar('value', 23);\n",
        "        } else {\n",
        "            $myPB.progressbar({value: 0, max: 98});\n",
        "        }\n",
        "        "
       ],
       "metadata": {},
       "output_type": "display_data",
       "text": [
        "<IPython.core.display.Javascript at 0x1aefe780>"
       ]
      },
      {
       "javascript": [
        "$('div#598b6361-b00f-4548-bbe4-c7361ed25cf9').text('ETA:  0:00:02');"
       ],
       "metadata": {},
       "output_type": "display_data",
       "text": [
        "<IPython.core.display.Javascript at 0x1aefe748>"
       ]
      },
      {
       "javascript": [
        "$('div#5630781f-4064-40fc-88c1-052c5107adcd').text('24 of 98');"
       ],
       "metadata": {},
       "output_type": "display_data",
       "text": [
        "<IPython.core.display.Javascript at 0x1abda8d0>"
       ]
      },
      {
       "javascript": [
        "$('div#5825bc50-3398-496f-85b2-21deb97b1456').text(' 24%');"
       ],
       "metadata": {},
       "output_type": "display_data",
       "text": [
        "<IPython.core.display.Javascript at 0x1abda908>"
       ]
      },
      {
       "javascript": [
        "\n",
        "        var $myPB = $(\"div#ea132cbe-5bc0-4760-8d30-2c0b2cb810c8\")\n",
        "        if ($myPB.hasClass('ui-progressbar')) {\n",
        "            $myPB.progressbar('value', 24);\n",
        "        } else {\n",
        "            $myPB.progressbar({value: 0, max: 98});\n",
        "        }\n",
        "        "
       ],
       "metadata": {},
       "output_type": "display_data",
       "text": [
        "<IPython.core.display.Javascript at 0x1abda978>"
       ]
      },
      {
       "javascript": [
        "$('div#598b6361-b00f-4548-bbe4-c7361ed25cf9').text('ETA:  0:00:03');"
       ],
       "metadata": {},
       "output_type": "display_data",
       "text": [
        "<IPython.core.display.Javascript at 0x1abda940>"
       ]
      },
      {
       "javascript": [
        "$('div#5630781f-4064-40fc-88c1-052c5107adcd').text('25 of 98');"
       ],
       "metadata": {},
       "output_type": "display_data",
       "text": [
        "<IPython.core.display.Javascript at 0x1be67ac8>"
       ]
      },
      {
       "javascript": [
        "$('div#5825bc50-3398-496f-85b2-21deb97b1456').text(' 25%');"
       ],
       "metadata": {},
       "output_type": "display_data",
       "text": [
        "<IPython.core.display.Javascript at 0x1be67b00>"
       ]
      },
      {
       "javascript": [
        "\n",
        "        var $myPB = $(\"div#ea132cbe-5bc0-4760-8d30-2c0b2cb810c8\")\n",
        "        if ($myPB.hasClass('ui-progressbar')) {\n",
        "            $myPB.progressbar('value', 25);\n",
        "        } else {\n",
        "            $myPB.progressbar({value: 0, max: 98});\n",
        "        }\n",
        "        "
       ],
       "metadata": {},
       "output_type": "display_data",
       "text": [
        "<IPython.core.display.Javascript at 0x1be67b70>"
       ]
      },
      {
       "javascript": [
        "$('div#598b6361-b00f-4548-bbe4-c7361ed25cf9').text('ETA:  0:00:03');"
       ],
       "metadata": {},
       "output_type": "display_data",
       "text": [
        "<IPython.core.display.Javascript at 0x1be67b38>"
       ]
      },
      {
       "javascript": [
        "$('div#5630781f-4064-40fc-88c1-052c5107adcd').text('26 of 98');"
       ],
       "metadata": {},
       "output_type": "display_data",
       "text": [
        "<IPython.core.display.Javascript at 0x1be67fd0>"
       ]
      },
      {
       "javascript": [
        "$('div#5825bc50-3398-496f-85b2-21deb97b1456').text(' 26%');"
       ],
       "metadata": {},
       "output_type": "display_data",
       "text": [
        "<IPython.core.display.Javascript at 0x1bc0e048>"
       ]
      },
      {
       "javascript": [
        "\n",
        "        var $myPB = $(\"div#ea132cbe-5bc0-4760-8d30-2c0b2cb810c8\")\n",
        "        if ($myPB.hasClass('ui-progressbar')) {\n",
        "            $myPB.progressbar('value', 26);\n",
        "        } else {\n",
        "            $myPB.progressbar({value: 0, max: 98});\n",
        "        }\n",
        "        "
       ],
       "metadata": {},
       "output_type": "display_data",
       "text": [
        "<IPython.core.display.Javascript at 0x1bc0e0b8>"
       ]
      },
      {
       "javascript": [
        "$('div#598b6361-b00f-4548-bbe4-c7361ed25cf9').text('ETA:  0:00:03');"
       ],
       "metadata": {},
       "output_type": "display_data",
       "text": [
        "<IPython.core.display.Javascript at 0x1bc0e080>"
       ]
      },
      {
       "javascript": [
        "$('div#5630781f-4064-40fc-88c1-052c5107adcd').text('27 of 98');"
       ],
       "metadata": {},
       "output_type": "display_data",
       "text": [
        "<IPython.core.display.Javascript at 0x1bc0e550>"
       ]
      },
      {
       "javascript": [
        "$('div#5825bc50-3398-496f-85b2-21deb97b1456').text(' 27%');"
       ],
       "metadata": {},
       "output_type": "display_data",
       "text": [
        "<IPython.core.display.Javascript at 0x1bc0e588>"
       ]
      },
      {
       "javascript": [
        "\n",
        "        var $myPB = $(\"div#ea132cbe-5bc0-4760-8d30-2c0b2cb810c8\")\n",
        "        if ($myPB.hasClass('ui-progressbar')) {\n",
        "            $myPB.progressbar('value', 27);\n",
        "        } else {\n",
        "            $myPB.progressbar({value: 0, max: 98});\n",
        "        }\n",
        "        "
       ],
       "metadata": {},
       "output_type": "display_data",
       "text": [
        "<IPython.core.display.Javascript at 0x1bc0e5f8>"
       ]
      },
      {
       "javascript": [
        "$('div#598b6361-b00f-4548-bbe4-c7361ed25cf9').text('ETA:  0:00:03');"
       ],
       "metadata": {},
       "output_type": "display_data",
       "text": [
        "<IPython.core.display.Javascript at 0x1bc0e5f8>"
       ]
      },
      {
       "javascript": [
        "$('div#5630781f-4064-40fc-88c1-052c5107adcd').text('28 of 98');"
       ],
       "metadata": {},
       "output_type": "display_data",
       "text": [
        "<IPython.core.display.Javascript at 0x1ad00860>"
       ]
      },
      {
       "javascript": [
        "$('div#5825bc50-3398-496f-85b2-21deb97b1456').text(' 28%');"
       ],
       "metadata": {},
       "output_type": "display_data",
       "text": [
        "<IPython.core.display.Javascript at 0x1ad00898>"
       ]
      },
      {
       "javascript": [
        "\n",
        "        var $myPB = $(\"div#ea132cbe-5bc0-4760-8d30-2c0b2cb810c8\")\n",
        "        if ($myPB.hasClass('ui-progressbar')) {\n",
        "            $myPB.progressbar('value', 28);\n",
        "        } else {\n",
        "            $myPB.progressbar({value: 0, max: 98});\n",
        "        }\n",
        "        "
       ],
       "metadata": {},
       "output_type": "display_data",
       "text": [
        "<IPython.core.display.Javascript at 0x1ad00908>"
       ]
      },
      {
       "javascript": [
        "$('div#598b6361-b00f-4548-bbe4-c7361ed25cf9').text('ETA:  0:00:03');"
       ],
       "metadata": {},
       "output_type": "display_data",
       "text": [
        "<IPython.core.display.Javascript at 0x1ad008d0>"
       ]
      },
      {
       "javascript": [
        "$('div#5630781f-4064-40fc-88c1-052c5107adcd').text('29 of 98');"
       ],
       "metadata": {},
       "output_type": "display_data",
       "text": [
        "<IPython.core.display.Javascript at 0x1ad00fd0>"
       ]
      },
      {
       "javascript": [
        "$('div#5825bc50-3398-496f-85b2-21deb97b1456').text(' 29%');"
       ],
       "metadata": {},
       "output_type": "display_data",
       "text": [
        "<IPython.core.display.Javascript at 0x1bec10f0>"
       ]
      },
      {
       "javascript": [
        "\n",
        "        var $myPB = $(\"div#ea132cbe-5bc0-4760-8d30-2c0b2cb810c8\")\n",
        "        if ($myPB.hasClass('ui-progressbar')) {\n",
        "            $myPB.progressbar('value', 29);\n",
        "        } else {\n",
        "            $myPB.progressbar({value: 0, max: 98});\n",
        "        }\n",
        "        "
       ],
       "metadata": {},
       "output_type": "display_data",
       "text": [
        "<IPython.core.display.Javascript at 0x1bec1160>"
       ]
      },
      {
       "javascript": [
        "$('div#598b6361-b00f-4548-bbe4-c7361ed25cf9').text('ETA:  0:00:03');"
       ],
       "metadata": {},
       "output_type": "display_data",
       "text": [
        "<IPython.core.display.Javascript at 0x1bec1128>"
       ]
      },
      {
       "javascript": [
        "$('div#5630781f-4064-40fc-88c1-052c5107adcd').text('30 of 98');"
       ],
       "metadata": {},
       "output_type": "display_data",
       "text": [
        "<IPython.core.display.Javascript at 0x1ac27b38>"
       ]
      },
      {
       "javascript": [
        "$('div#5825bc50-3398-496f-85b2-21deb97b1456').text(' 30%');"
       ],
       "metadata": {},
       "output_type": "display_data",
       "text": [
        "<IPython.core.display.Javascript at 0x1ac27b70>"
       ]
      },
      {
       "javascript": [
        "\n",
        "        var $myPB = $(\"div#ea132cbe-5bc0-4760-8d30-2c0b2cb810c8\")\n",
        "        if ($myPB.hasClass('ui-progressbar')) {\n",
        "            $myPB.progressbar('value', 30);\n",
        "        } else {\n",
        "            $myPB.progressbar({value: 0, max: 98});\n",
        "        }\n",
        "        "
       ],
       "metadata": {},
       "output_type": "display_data",
       "text": [
        "<IPython.core.display.Javascript at 0x1ac27be0>"
       ]
      },
      {
       "javascript": [
        "$('div#598b6361-b00f-4548-bbe4-c7361ed25cf9').text('ETA:  0:00:03');"
       ],
       "metadata": {},
       "output_type": "display_data",
       "text": [
        "<IPython.core.display.Javascript at 0x1ac27ba8>"
       ]
      },
      {
       "javascript": [
        "$('div#5630781f-4064-40fc-88c1-052c5107adcd').text('31 of 98');"
       ],
       "metadata": {},
       "output_type": "display_data",
       "text": [
        "<IPython.core.display.Javascript at 0x1b505f98>"
       ]
      },
      {
       "javascript": [
        "$('div#5825bc50-3398-496f-85b2-21deb97b1456').text(' 31%');"
       ],
       "metadata": {},
       "output_type": "display_data",
       "text": [
        "<IPython.core.display.Javascript at 0x1b505fd0>"
       ]
      },
      {
       "javascript": [
        "\n",
        "        var $myPB = $(\"div#ea132cbe-5bc0-4760-8d30-2c0b2cb810c8\")\n",
        "        if ($myPB.hasClass('ui-progressbar')) {\n",
        "            $myPB.progressbar('value', 31);\n",
        "        } else {\n",
        "            $myPB.progressbar({value: 0, max: 98});\n",
        "        }\n",
        "        "
       ],
       "metadata": {},
       "output_type": "display_data",
       "text": [
        "<IPython.core.display.Javascript at 0x1b52e080>"
       ]
      },
      {
       "javascript": [
        "$('div#598b6361-b00f-4548-bbe4-c7361ed25cf9').text('ETA:  0:00:03');"
       ],
       "metadata": {},
       "output_type": "display_data",
       "text": [
        "<IPython.core.display.Javascript at 0x1b52e048>"
       ]
      },
      {
       "javascript": [
        "$('div#5630781f-4064-40fc-88c1-052c5107adcd').text('32 of 98');"
       ],
       "metadata": {},
       "output_type": "display_data",
       "text": [
        "<IPython.core.display.Javascript at 0x1aa54630>"
       ]
      },
      {
       "javascript": [
        "$('div#5825bc50-3398-496f-85b2-21deb97b1456').text(' 32%');"
       ],
       "metadata": {},
       "output_type": "display_data",
       "text": [
        "<IPython.core.display.Javascript at 0x1aa54668>"
       ]
      },
      {
       "javascript": [
        "\n",
        "        var $myPB = $(\"div#ea132cbe-5bc0-4760-8d30-2c0b2cb810c8\")\n",
        "        if ($myPB.hasClass('ui-progressbar')) {\n",
        "            $myPB.progressbar('value', 32);\n",
        "        } else {\n",
        "            $myPB.progressbar({value: 0, max: 98});\n",
        "        }\n",
        "        "
       ],
       "metadata": {},
       "output_type": "display_data",
       "text": [
        "<IPython.core.display.Javascript at 0x1aa546d8>"
       ]
      },
      {
       "javascript": [
        "$('div#598b6361-b00f-4548-bbe4-c7361ed25cf9').text('ETA:  0:00:03');"
       ],
       "metadata": {},
       "output_type": "display_data",
       "text": [
        "<IPython.core.display.Javascript at 0x1aa546a0>"
       ]
      },
      {
       "javascript": [
        "$('div#5630781f-4064-40fc-88c1-052c5107adcd').text('33 of 98');"
       ],
       "metadata": {},
       "output_type": "display_data",
       "text": [
        "<IPython.core.display.Javascript at 0x1aa54908>"
       ]
      },
      {
       "javascript": [
        "$('div#5825bc50-3398-496f-85b2-21deb97b1456').text(' 33%');"
       ],
       "metadata": {},
       "output_type": "display_data",
       "text": [
        "<IPython.core.display.Javascript at 0x1aa54940>"
       ]
      },
      {
       "javascript": [
        "\n",
        "        var $myPB = $(\"div#ea132cbe-5bc0-4760-8d30-2c0b2cb810c8\")\n",
        "        if ($myPB.hasClass('ui-progressbar')) {\n",
        "            $myPB.progressbar('value', 33);\n",
        "        } else {\n",
        "            $myPB.progressbar({value: 0, max: 98});\n",
        "        }\n",
        "        "
       ],
       "metadata": {},
       "output_type": "display_data",
       "text": [
        "<IPython.core.display.Javascript at 0x1aa549b0>"
       ]
      },
      {
       "javascript": [
        "$('div#598b6361-b00f-4548-bbe4-c7361ed25cf9').text('ETA:  0:00:03');"
       ],
       "metadata": {},
       "output_type": "display_data",
       "text": [
        "<IPython.core.display.Javascript at 0x1aa549b0>"
       ]
      },
      {
       "javascript": [
        "$('div#5630781f-4064-40fc-88c1-052c5107adcd').text('34 of 98');"
       ],
       "metadata": {},
       "output_type": "display_data",
       "text": [
        "<IPython.core.display.Javascript at 0x1aa54ba8>"
       ]
      },
      {
       "javascript": [
        "$('div#5825bc50-3398-496f-85b2-21deb97b1456').text(' 34%');"
       ],
       "metadata": {},
       "output_type": "display_data",
       "text": [
        "<IPython.core.display.Javascript at 0x1aa54be0>"
       ]
      },
      {
       "javascript": [
        "\n",
        "        var $myPB = $(\"div#ea132cbe-5bc0-4760-8d30-2c0b2cb810c8\")\n",
        "        if ($myPB.hasClass('ui-progressbar')) {\n",
        "            $myPB.progressbar('value', 34);\n",
        "        } else {\n",
        "            $myPB.progressbar({value: 0, max: 98});\n",
        "        }\n",
        "        "
       ],
       "metadata": {},
       "output_type": "display_data",
       "text": [
        "<IPython.core.display.Javascript at 0x1aa54c50>"
       ]
      },
      {
       "javascript": [
        "$('div#598b6361-b00f-4548-bbe4-c7361ed25cf9').text('ETA:  0:00:02');"
       ],
       "metadata": {},
       "output_type": "display_data",
       "text": [
        "<IPython.core.display.Javascript at 0x1aa54c18>"
       ]
      },
      {
       "javascript": [
        "$('div#5630781f-4064-40fc-88c1-052c5107adcd').text('35 of 98');"
       ],
       "metadata": {},
       "output_type": "display_data",
       "text": [
        "<IPython.core.display.Javascript at 0x1aa54cf8>"
       ]
      },
      {
       "javascript": [
        "$('div#5825bc50-3398-496f-85b2-21deb97b1456').text(' 35%');"
       ],
       "metadata": {},
       "output_type": "display_data",
       "text": [
        "<IPython.core.display.Javascript at 0x1aa54c50>"
       ]
      },
      {
       "javascript": [
        "\n",
        "        var $myPB = $(\"div#ea132cbe-5bc0-4760-8d30-2c0b2cb810c8\")\n",
        "        if ($myPB.hasClass('ui-progressbar')) {\n",
        "            $myPB.progressbar('value', 35);\n",
        "        } else {\n",
        "            $myPB.progressbar({value: 0, max: 98});\n",
        "        }\n",
        "        "
       ],
       "metadata": {},
       "output_type": "display_data",
       "text": [
        "<IPython.core.display.Javascript at 0x1aa54ba8>"
       ]
      },
      {
       "javascript": [
        "$('div#598b6361-b00f-4548-bbe4-c7361ed25cf9').text('ETA:  0:00:02');"
       ],
       "metadata": {},
       "output_type": "display_data",
       "text": [
        "<IPython.core.display.Javascript at 0x1aa54be0>"
       ]
      },
      {
       "javascript": [
        "$('div#5630781f-4064-40fc-88c1-052c5107adcd').text('36 of 98');"
       ],
       "metadata": {},
       "output_type": "display_data",
       "text": [
        "<IPython.core.display.Javascript at 0x1aa71588>"
       ]
      },
      {
       "javascript": [
        "$('div#5825bc50-3398-496f-85b2-21deb97b1456').text(' 36%');"
       ],
       "metadata": {},
       "output_type": "display_data",
       "text": [
        "<IPython.core.display.Javascript at 0x1aa715c0>"
       ]
      },
      {
       "javascript": [
        "\n",
        "        var $myPB = $(\"div#ea132cbe-5bc0-4760-8d30-2c0b2cb810c8\")\n",
        "        if ($myPB.hasClass('ui-progressbar')) {\n",
        "            $myPB.progressbar('value', 36);\n",
        "        } else {\n",
        "            $myPB.progressbar({value: 0, max: 98});\n",
        "        }\n",
        "        "
       ],
       "metadata": {},
       "output_type": "display_data",
       "text": [
        "<IPython.core.display.Javascript at 0x1aa71630>"
       ]
      },
      {
       "javascript": [
        "$('div#598b6361-b00f-4548-bbe4-c7361ed25cf9').text('ETA:  0:00:02');"
       ],
       "metadata": {},
       "output_type": "display_data",
       "text": [
        "<IPython.core.display.Javascript at 0x1aa715f8>"
       ]
      },
      {
       "javascript": [
        "$('div#5630781f-4064-40fc-88c1-052c5107adcd').text('37 of 98');"
       ],
       "metadata": {},
       "output_type": "display_data",
       "text": [
        "<IPython.core.display.Javascript at 0x1aa71d68>"
       ]
      },
      {
       "javascript": [
        "$('div#5825bc50-3398-496f-85b2-21deb97b1456').text(' 37%');"
       ],
       "metadata": {},
       "output_type": "display_data",
       "text": [
        "<IPython.core.display.Javascript at 0x1aa71da0>"
       ]
      },
      {
       "javascript": [
        "\n",
        "        var $myPB = $(\"div#ea132cbe-5bc0-4760-8d30-2c0b2cb810c8\")\n",
        "        if ($myPB.hasClass('ui-progressbar')) {\n",
        "            $myPB.progressbar('value', 37);\n",
        "        } else {\n",
        "            $myPB.progressbar({value: 0, max: 98});\n",
        "        }\n",
        "        "
       ],
       "metadata": {},
       "output_type": "display_data",
       "text": [
        "<IPython.core.display.Javascript at 0x1aa71e10>"
       ]
      },
      {
       "javascript": [
        "$('div#598b6361-b00f-4548-bbe4-c7361ed25cf9').text('ETA:  0:00:02');"
       ],
       "metadata": {},
       "output_type": "display_data",
       "text": [
        "<IPython.core.display.Javascript at 0x1aa71e10>"
       ]
      },
      {
       "javascript": [
        "$('div#5630781f-4064-40fc-88c1-052c5107adcd').text('38 of 98');"
       ],
       "metadata": {},
       "output_type": "display_data",
       "text": [
        "<IPython.core.display.Javascript at 0x1aa9e2e8>"
       ]
      },
      {
       "javascript": [
        "$('div#5825bc50-3398-496f-85b2-21deb97b1456').text(' 38%');"
       ],
       "metadata": {},
       "output_type": "display_data",
       "text": [
        "<IPython.core.display.Javascript at 0x1aa9e320>"
       ]
      },
      {
       "javascript": [
        "\n",
        "        var $myPB = $(\"div#ea132cbe-5bc0-4760-8d30-2c0b2cb810c8\")\n",
        "        if ($myPB.hasClass('ui-progressbar')) {\n",
        "            $myPB.progressbar('value', 38);\n",
        "        } else {\n",
        "            $myPB.progressbar({value: 0, max: 98});\n",
        "        }\n",
        "        "
       ],
       "metadata": {},
       "output_type": "display_data",
       "text": [
        "<IPython.core.display.Javascript at 0x1aa9e390>"
       ]
      },
      {
       "javascript": [
        "$('div#598b6361-b00f-4548-bbe4-c7361ed25cf9').text('ETA:  0:00:02');"
       ],
       "metadata": {},
       "output_type": "display_data",
       "text": [
        "<IPython.core.display.Javascript at 0x1aa9e358>"
       ]
      },
      {
       "javascript": [
        "$('div#5630781f-4064-40fc-88c1-052c5107adcd').text('39 of 98');"
       ],
       "metadata": {},
       "output_type": "display_data",
       "text": [
        "<IPython.core.display.Javascript at 0x1aa9e668>"
       ]
      },
      {
       "javascript": [
        "$('div#5825bc50-3398-496f-85b2-21deb97b1456').text(' 39%');"
       ],
       "metadata": {},
       "output_type": "display_data",
       "text": [
        "<IPython.core.display.Javascript at 0x1aa9e6a0>"
       ]
      },
      {
       "javascript": [
        "\n",
        "        var $myPB = $(\"div#ea132cbe-5bc0-4760-8d30-2c0b2cb810c8\")\n",
        "        if ($myPB.hasClass('ui-progressbar')) {\n",
        "            $myPB.progressbar('value', 39);\n",
        "        } else {\n",
        "            $myPB.progressbar({value: 0, max: 98});\n",
        "        }\n",
        "        "
       ],
       "metadata": {},
       "output_type": "display_data",
       "text": [
        "<IPython.core.display.Javascript at 0x1aa9e710>"
       ]
      },
      {
       "javascript": [
        "$('div#598b6361-b00f-4548-bbe4-c7361ed25cf9').text('ETA:  0:00:02');"
       ],
       "metadata": {},
       "output_type": "display_data",
       "text": [
        "<IPython.core.display.Javascript at 0x1aa9e6d8>"
       ]
      },
      {
       "javascript": [
        "$('div#5630781f-4064-40fc-88c1-052c5107adcd').text('40 of 98');"
       ],
       "metadata": {},
       "output_type": "display_data",
       "text": [
        "<IPython.core.display.Javascript at 0x1ac45400>"
       ]
      },
      {
       "javascript": [
        "$('div#5825bc50-3398-496f-85b2-21deb97b1456').text(' 40%');"
       ],
       "metadata": {},
       "output_type": "display_data",
       "text": [
        "<IPython.core.display.Javascript at 0x1ac45438>"
       ]
      },
      {
       "javascript": [
        "\n",
        "        var $myPB = $(\"div#ea132cbe-5bc0-4760-8d30-2c0b2cb810c8\")\n",
        "        if ($myPB.hasClass('ui-progressbar')) {\n",
        "            $myPB.progressbar('value', 40);\n",
        "        } else {\n",
        "            $myPB.progressbar({value: 0, max: 98});\n",
        "        }\n",
        "        "
       ],
       "metadata": {},
       "output_type": "display_data",
       "text": [
        "<IPython.core.display.Javascript at 0x1ac454a8>"
       ]
      },
      {
       "javascript": [
        "$('div#598b6361-b00f-4548-bbe4-c7361ed25cf9').text('ETA:  0:00:02');"
       ],
       "metadata": {},
       "output_type": "display_data",
       "text": [
        "<IPython.core.display.Javascript at 0x1ac45470>"
       ]
      },
      {
       "javascript": [
        "$('div#5630781f-4064-40fc-88c1-052c5107adcd').text('41 of 98');"
       ],
       "metadata": {},
       "output_type": "display_data",
       "text": [
        "<IPython.core.display.Javascript at 0x1ac45400>"
       ]
      },
      {
       "javascript": [
        "$('div#5825bc50-3398-496f-85b2-21deb97b1456').text(' 41%');"
       ],
       "metadata": {},
       "output_type": "display_data",
       "text": [
        "<IPython.core.display.Javascript at 0x1ac455c0>"
       ]
      },
      {
       "javascript": [
        "\n",
        "        var $myPB = $(\"div#ea132cbe-5bc0-4760-8d30-2c0b2cb810c8\")\n",
        "        if ($myPB.hasClass('ui-progressbar')) {\n",
        "            $myPB.progressbar('value', 41);\n",
        "        } else {\n",
        "            $myPB.progressbar({value: 0, max: 98});\n",
        "        }\n",
        "        "
       ],
       "metadata": {},
       "output_type": "display_data",
       "text": [
        "<IPython.core.display.Javascript at 0x1ac454e0>"
       ]
      },
      {
       "javascript": [
        "$('div#598b6361-b00f-4548-bbe4-c7361ed25cf9').text('ETA:  0:00:02');"
       ],
       "metadata": {},
       "output_type": "display_data",
       "text": [
        "<IPython.core.display.Javascript at 0x1ac45588>"
       ]
      },
      {
       "javascript": [
        "$('div#5630781f-4064-40fc-88c1-052c5107adcd').text('42 of 98');"
       ],
       "metadata": {},
       "output_type": "display_data",
       "text": [
        "<IPython.core.display.Javascript at 0x1ac45668>"
       ]
      },
      {
       "javascript": [
        "$('div#5825bc50-3398-496f-85b2-21deb97b1456').text(' 42%');"
       ],
       "metadata": {},
       "output_type": "display_data",
       "text": [
        "<IPython.core.display.Javascript at 0x1ac455f8>"
       ]
      },
      {
       "javascript": [
        "\n",
        "        var $myPB = $(\"div#ea132cbe-5bc0-4760-8d30-2c0b2cb810c8\")\n",
        "        if ($myPB.hasClass('ui-progressbar')) {\n",
        "            $myPB.progressbar('value', 42);\n",
        "        } else {\n",
        "            $myPB.progressbar({value: 0, max: 98});\n",
        "        }\n",
        "        "
       ],
       "metadata": {},
       "output_type": "display_data",
       "text": [
        "<IPython.core.display.Javascript at 0x1ac45710>"
       ]
      },
      {
       "javascript": [
        "$('div#598b6361-b00f-4548-bbe4-c7361ed25cf9').text('ETA:  0:00:02');"
       ],
       "metadata": {},
       "output_type": "display_data",
       "text": [
        "<IPython.core.display.Javascript at 0x1ac45710>"
       ]
      },
      {
       "javascript": [
        "$('div#5630781f-4064-40fc-88c1-052c5107adcd').text('43 of 98');"
       ],
       "metadata": {},
       "output_type": "display_data",
       "text": [
        "<IPython.core.display.Javascript at 0x1ac45828>"
       ]
      },
      {
       "javascript": [
        "$('div#5825bc50-3398-496f-85b2-21deb97b1456').text(' 43%');"
       ],
       "metadata": {},
       "output_type": "display_data",
       "text": [
        "<IPython.core.display.Javascript at 0x1ac45860>"
       ]
      },
      {
       "javascript": [
        "\n",
        "        var $myPB = $(\"div#ea132cbe-5bc0-4760-8d30-2c0b2cb810c8\")\n",
        "        if ($myPB.hasClass('ui-progressbar')) {\n",
        "            $myPB.progressbar('value', 43);\n",
        "        } else {\n",
        "            $myPB.progressbar({value: 0, max: 98});\n",
        "        }\n",
        "        "
       ],
       "metadata": {},
       "output_type": "display_data",
       "text": [
        "<IPython.core.display.Javascript at 0x1ac458d0>"
       ]
      },
      {
       "javascript": [
        "$('div#598b6361-b00f-4548-bbe4-c7361ed25cf9').text('ETA:  0:00:02');"
       ],
       "metadata": {},
       "output_type": "display_data",
       "text": [
        "<IPython.core.display.Javascript at 0x1ac458d0>"
       ]
      },
      {
       "javascript": [
        "$('div#5630781f-4064-40fc-88c1-052c5107adcd').text('44 of 98');"
       ],
       "metadata": {},
       "output_type": "display_data",
       "text": [
        "<IPython.core.display.Javascript at 0x1ac45ac8>"
       ]
      },
      {
       "javascript": [
        "$('div#5825bc50-3398-496f-85b2-21deb97b1456').text(' 44%');"
       ],
       "metadata": {},
       "output_type": "display_data",
       "text": [
        "<IPython.core.display.Javascript at 0x1ac45b00>"
       ]
      },
      {
       "javascript": [
        "\n",
        "        var $myPB = $(\"div#ea132cbe-5bc0-4760-8d30-2c0b2cb810c8\")\n",
        "        if ($myPB.hasClass('ui-progressbar')) {\n",
        "            $myPB.progressbar('value', 44);\n",
        "        } else {\n",
        "            $myPB.progressbar({value: 0, max: 98});\n",
        "        }\n",
        "        "
       ],
       "metadata": {},
       "output_type": "display_data",
       "text": [
        "<IPython.core.display.Javascript at 0x1ac45b00>"
       ]
      },
      {
       "javascript": [
        "$('div#598b6361-b00f-4548-bbe4-c7361ed25cf9').text('ETA:  0:00:02');"
       ],
       "metadata": {},
       "output_type": "display_data",
       "text": [
        "<IPython.core.display.Javascript at 0x1ac45b70>"
       ]
      },
      {
       "javascript": [
        "$('div#5630781f-4064-40fc-88c1-052c5107adcd').text('45 of 98');"
       ],
       "metadata": {},
       "output_type": "display_data",
       "text": [
        "<IPython.core.display.Javascript at 0x1ac45dd8>"
       ]
      },
      {
       "javascript": [
        "$('div#5825bc50-3398-496f-85b2-21deb97b1456').text(' 45%');"
       ],
       "metadata": {},
       "output_type": "display_data",
       "text": [
        "<IPython.core.display.Javascript at 0x1ac45e10>"
       ]
      },
      {
       "javascript": [
        "\n",
        "        var $myPB = $(\"div#ea132cbe-5bc0-4760-8d30-2c0b2cb810c8\")\n",
        "        if ($myPB.hasClass('ui-progressbar')) {\n",
        "            $myPB.progressbar('value', 45);\n",
        "        } else {\n",
        "            $myPB.progressbar({value: 0, max: 98});\n",
        "        }\n",
        "        "
       ],
       "metadata": {},
       "output_type": "display_data",
       "text": [
        "<IPython.core.display.Javascript at 0x1ac45e80>"
       ]
      },
      {
       "javascript": [
        "$('div#598b6361-b00f-4548-bbe4-c7361ed25cf9').text('ETA:  0:00:02');"
       ],
       "metadata": {},
       "output_type": "display_data",
       "text": [
        "<IPython.core.display.Javascript at 0x1ac45e48>"
       ]
      },
      {
       "javascript": [
        "$('div#5630781f-4064-40fc-88c1-052c5107adcd').text('46 of 98');"
       ],
       "metadata": {},
       "output_type": "display_data",
       "text": [
        "<IPython.core.display.Javascript at 0x1a7af0f0>"
       ]
      },
      {
       "javascript": [
        "$('div#5825bc50-3398-496f-85b2-21deb97b1456').text(' 46%');"
       ],
       "metadata": {},
       "output_type": "display_data",
       "text": [
        "<IPython.core.display.Javascript at 0x1a7af128>"
       ]
      },
      {
       "javascript": [
        "\n",
        "        var $myPB = $(\"div#ea132cbe-5bc0-4760-8d30-2c0b2cb810c8\")\n",
        "        if ($myPB.hasClass('ui-progressbar')) {\n",
        "            $myPB.progressbar('value', 46);\n",
        "        } else {\n",
        "            $myPB.progressbar({value: 0, max: 98});\n",
        "        }\n",
        "        "
       ],
       "metadata": {},
       "output_type": "display_data",
       "text": [
        "<IPython.core.display.Javascript at 0x1a7af198>"
       ]
      },
      {
       "javascript": [
        "$('div#598b6361-b00f-4548-bbe4-c7361ed25cf9').text('ETA:  0:00:01');"
       ],
       "metadata": {},
       "output_type": "display_data",
       "text": [
        "<IPython.core.display.Javascript at 0x1a7af160>"
       ]
      },
      {
       "javascript": [
        "$('div#5630781f-4064-40fc-88c1-052c5107adcd').text('47 of 98');"
       ],
       "metadata": {},
       "output_type": "display_data",
       "text": [
        "<IPython.core.display.Javascript at 0x1a7af668>"
       ]
      },
      {
       "javascript": [
        "$('div#5825bc50-3398-496f-85b2-21deb97b1456').text(' 47%');"
       ],
       "metadata": {},
       "output_type": "display_data",
       "text": [
        "<IPython.core.display.Javascript at 0x1a7af6a0>"
       ]
      },
      {
       "javascript": [
        "\n",
        "        var $myPB = $(\"div#ea132cbe-5bc0-4760-8d30-2c0b2cb810c8\")\n",
        "        if ($myPB.hasClass('ui-progressbar')) {\n",
        "            $myPB.progressbar('value', 47);\n",
        "        } else {\n",
        "            $myPB.progressbar({value: 0, max: 98});\n",
        "        }\n",
        "        "
       ],
       "metadata": {},
       "output_type": "display_data",
       "text": [
        "<IPython.core.display.Javascript at 0x1a7af710>"
       ]
      },
      {
       "javascript": [
        "$('div#598b6361-b00f-4548-bbe4-c7361ed25cf9').text('ETA:  0:00:01');"
       ],
       "metadata": {},
       "output_type": "display_data",
       "text": [
        "<IPython.core.display.Javascript at 0x1a7af6d8>"
       ]
      },
      {
       "javascript": [
        "$('div#5630781f-4064-40fc-88c1-052c5107adcd').text('48 of 98');"
       ],
       "metadata": {},
       "output_type": "display_data",
       "text": [
        "<IPython.core.display.Javascript at 0x1a7af8d0>"
       ]
      },
      {
       "javascript": [
        "$('div#5825bc50-3398-496f-85b2-21deb97b1456').text(' 48%');"
       ],
       "metadata": {},
       "output_type": "display_data",
       "text": [
        "<IPython.core.display.Javascript at 0x1a7af908>"
       ]
      },
      {
       "javascript": [
        "\n",
        "        var $myPB = $(\"div#ea132cbe-5bc0-4760-8d30-2c0b2cb810c8\")\n",
        "        if ($myPB.hasClass('ui-progressbar')) {\n",
        "            $myPB.progressbar('value', 48);\n",
        "        } else {\n",
        "            $myPB.progressbar({value: 0, max: 98});\n",
        "        }\n",
        "        "
       ],
       "metadata": {},
       "output_type": "display_data",
       "text": [
        "<IPython.core.display.Javascript at 0x1a7af978>"
       ]
      },
      {
       "javascript": [
        "$('div#598b6361-b00f-4548-bbe4-c7361ed25cf9').text('ETA:  0:00:01');"
       ],
       "metadata": {},
       "output_type": "display_data",
       "text": [
        "<IPython.core.display.Javascript at 0x1a7af940>"
       ]
      },
      {
       "javascript": [
        "$('div#5630781f-4064-40fc-88c1-052c5107adcd').text('49 of 98');"
       ],
       "metadata": {},
       "output_type": "display_data",
       "text": [
        "<IPython.core.display.Javascript at 0x1a7afef0>"
       ]
      },
      {
       "javascript": [
        "$('div#5825bc50-3398-496f-85b2-21deb97b1456').text(' 50%');"
       ],
       "metadata": {},
       "output_type": "display_data",
       "text": [
        "<IPython.core.display.Javascript at 0x1a7aff28>"
       ]
      },
      {
       "javascript": [
        "\n",
        "        var $myPB = $(\"div#ea132cbe-5bc0-4760-8d30-2c0b2cb810c8\")\n",
        "        if ($myPB.hasClass('ui-progressbar')) {\n",
        "            $myPB.progressbar('value', 49);\n",
        "        } else {\n",
        "            $myPB.progressbar({value: 0, max: 98});\n",
        "        }\n",
        "        "
       ],
       "metadata": {},
       "output_type": "display_data",
       "text": [
        "<IPython.core.display.Javascript at 0x1a7aff98>"
       ]
      },
      {
       "javascript": [
        "$('div#598b6361-b00f-4548-bbe4-c7361ed25cf9').text('ETA:  0:00:01');"
       ],
       "metadata": {},
       "output_type": "display_data",
       "text": [
        "<IPython.core.display.Javascript at 0x1a7aff60>"
       ]
      },
      {
       "javascript": [
        "$('div#5630781f-4064-40fc-88c1-052c5107adcd').text('50 of 98');"
       ],
       "metadata": {},
       "output_type": "display_data",
       "text": [
        "<IPython.core.display.Javascript at 0x1a8184e0>"
       ]
      },
      {
       "javascript": [
        "$('div#5825bc50-3398-496f-85b2-21deb97b1456').text(' 51%');"
       ],
       "metadata": {},
       "output_type": "display_data",
       "text": [
        "<IPython.core.display.Javascript at 0x1a818518>"
       ]
      },
      {
       "javascript": [
        "\n",
        "        var $myPB = $(\"div#ea132cbe-5bc0-4760-8d30-2c0b2cb810c8\")\n",
        "        if ($myPB.hasClass('ui-progressbar')) {\n",
        "            $myPB.progressbar('value', 50);\n",
        "        } else {\n",
        "            $myPB.progressbar({value: 0, max: 98});\n",
        "        }\n",
        "        "
       ],
       "metadata": {},
       "output_type": "display_data",
       "text": [
        "<IPython.core.display.Javascript at 0x1a818588>"
       ]
      },
      {
       "javascript": [
        "$('div#598b6361-b00f-4548-bbe4-c7361ed25cf9').text('ETA:  0:00:01');"
       ],
       "metadata": {},
       "output_type": "display_data",
       "text": [
        "<IPython.core.display.Javascript at 0x1a818588>"
       ]
      },
      {
       "javascript": [
        "$('div#5630781f-4064-40fc-88c1-052c5107adcd').text('51 of 98');"
       ],
       "metadata": {},
       "output_type": "display_data",
       "text": [
        "<IPython.core.display.Javascript at 0x1aadf080>"
       ]
      },
      {
       "javascript": [
        "$('div#5825bc50-3398-496f-85b2-21deb97b1456').text(' 52%');"
       ],
       "metadata": {},
       "output_type": "display_data",
       "text": [
        "<IPython.core.display.Javascript at 0x1aadf0b8>"
       ]
      },
      {
       "javascript": [
        "\n",
        "        var $myPB = $(\"div#ea132cbe-5bc0-4760-8d30-2c0b2cb810c8\")\n",
        "        if ($myPB.hasClass('ui-progressbar')) {\n",
        "            $myPB.progressbar('value', 51);\n",
        "        } else {\n",
        "            $myPB.progressbar({value: 0, max: 98});\n",
        "        }\n",
        "        "
       ],
       "metadata": {},
       "output_type": "display_data",
       "text": [
        "<IPython.core.display.Javascript at 0x1aadf128>"
       ]
      },
      {
       "javascript": [
        "$('div#598b6361-b00f-4548-bbe4-c7361ed25cf9').text('ETA:  0:00:01');"
       ],
       "metadata": {},
       "output_type": "display_data",
       "text": [
        "<IPython.core.display.Javascript at 0x1aadf0f0>"
       ]
      },
      {
       "javascript": [
        "$('div#5630781f-4064-40fc-88c1-052c5107adcd').text('52 of 98');"
       ],
       "metadata": {},
       "output_type": "display_data",
       "text": [
        "<IPython.core.display.Javascript at 0x1aadf8d0>"
       ]
      },
      {
       "javascript": [
        "$('div#5825bc50-3398-496f-85b2-21deb97b1456').text(' 53%');"
       ],
       "metadata": {},
       "output_type": "display_data",
       "text": [
        "<IPython.core.display.Javascript at 0x1aadf908>"
       ]
      },
      {
       "javascript": [
        "\n",
        "        var $myPB = $(\"div#ea132cbe-5bc0-4760-8d30-2c0b2cb810c8\")\n",
        "        if ($myPB.hasClass('ui-progressbar')) {\n",
        "            $myPB.progressbar('value', 52);\n",
        "        } else {\n",
        "            $myPB.progressbar({value: 0, max: 98});\n",
        "        }\n",
        "        "
       ],
       "metadata": {},
       "output_type": "display_data",
       "text": [
        "<IPython.core.display.Javascript at 0x1aadf978>"
       ]
      },
      {
       "javascript": [
        "$('div#598b6361-b00f-4548-bbe4-c7361ed25cf9').text('ETA:  0:00:01');"
       ],
       "metadata": {},
       "output_type": "display_data",
       "text": [
        "<IPython.core.display.Javascript at 0x1aadf940>"
       ]
      },
      {
       "javascript": [
        "$('div#5630781f-4064-40fc-88c1-052c5107adcd').text('53 of 98');"
       ],
       "metadata": {},
       "output_type": "display_data",
       "text": [
        "<IPython.core.display.Javascript at 0x1bf5bac8>"
       ]
      },
      {
       "javascript": [
        "$('div#5825bc50-3398-496f-85b2-21deb97b1456').text(' 54%');"
       ],
       "metadata": {},
       "output_type": "display_data",
       "text": [
        "<IPython.core.display.Javascript at 0x1bf5bb00>"
       ]
      },
      {
       "javascript": [
        "\n",
        "        var $myPB = $(\"div#ea132cbe-5bc0-4760-8d30-2c0b2cb810c8\")\n",
        "        if ($myPB.hasClass('ui-progressbar')) {\n",
        "            $myPB.progressbar('value', 53);\n",
        "        } else {\n",
        "            $myPB.progressbar({value: 0, max: 98});\n",
        "        }\n",
        "        "
       ],
       "metadata": {},
       "output_type": "display_data",
       "text": [
        "<IPython.core.display.Javascript at 0x1bf5bb70>"
       ]
      },
      {
       "javascript": [
        "$('div#598b6361-b00f-4548-bbe4-c7361ed25cf9').text('ETA:  0:00:01');"
       ],
       "metadata": {},
       "output_type": "display_data",
       "text": [
        "<IPython.core.display.Javascript at 0x1bf5bb38>"
       ]
      },
      {
       "javascript": [
        "$('div#5630781f-4064-40fc-88c1-052c5107adcd').text('54 of 98');"
       ],
       "metadata": {},
       "output_type": "display_data",
       "text": [
        "<IPython.core.display.Javascript at 0x1bf7bdd8>"
       ]
      },
      {
       "javascript": [
        "$('div#5825bc50-3398-496f-85b2-21deb97b1456').text(' 55%');"
       ],
       "metadata": {},
       "output_type": "display_data",
       "text": [
        "<IPython.core.display.Javascript at 0x1bf7be10>"
       ]
      },
      {
       "javascript": [
        "\n",
        "        var $myPB = $(\"div#ea132cbe-5bc0-4760-8d30-2c0b2cb810c8\")\n",
        "        if ($myPB.hasClass('ui-progressbar')) {\n",
        "            $myPB.progressbar('value', 54);\n",
        "        } else {\n",
        "            $myPB.progressbar({value: 0, max: 98});\n",
        "        }\n",
        "        "
       ],
       "metadata": {},
       "output_type": "display_data",
       "text": [
        "<IPython.core.display.Javascript at 0x1bf7be80>"
       ]
      },
      {
       "javascript": [
        "$('div#598b6361-b00f-4548-bbe4-c7361ed25cf9').text('ETA:  0:00:01');"
       ],
       "metadata": {},
       "output_type": "display_data",
       "text": [
        "<IPython.core.display.Javascript at 0x1bf7be48>"
       ]
      },
      {
       "javascript": [
        "$('div#5630781f-4064-40fc-88c1-052c5107adcd').text('55 of 98');"
       ],
       "metadata": {},
       "output_type": "display_data",
       "text": [
        "<IPython.core.display.Javascript at 0x1ab6f400>"
       ]
      },
      {
       "javascript": [
        "$('div#5825bc50-3398-496f-85b2-21deb97b1456').text(' 56%');"
       ],
       "metadata": {},
       "output_type": "display_data",
       "text": [
        "<IPython.core.display.Javascript at 0x1ab6f438>"
       ]
      },
      {
       "javascript": [
        "\n",
        "        var $myPB = $(\"div#ea132cbe-5bc0-4760-8d30-2c0b2cb810c8\")\n",
        "        if ($myPB.hasClass('ui-progressbar')) {\n",
        "            $myPB.progressbar('value', 55);\n",
        "        } else {\n",
        "            $myPB.progressbar({value: 0, max: 98});\n",
        "        }\n",
        "        "
       ],
       "metadata": {},
       "output_type": "display_data",
       "text": [
        "<IPython.core.display.Javascript at 0x1ab6f4a8>"
       ]
      },
      {
       "javascript": [
        "$('div#598b6361-b00f-4548-bbe4-c7361ed25cf9').text('ETA:  0:00:01');"
       ],
       "metadata": {},
       "output_type": "display_data",
       "text": [
        "<IPython.core.display.Javascript at 0x1ab6f470>"
       ]
      },
      {
       "javascript": [
        "$('div#5630781f-4064-40fc-88c1-052c5107adcd').text('56 of 98');"
       ],
       "metadata": {},
       "output_type": "display_data",
       "text": [
        "<IPython.core.display.Javascript at 0x1ab6fa20>"
       ]
      },
      {
       "javascript": [
        "$('div#5825bc50-3398-496f-85b2-21deb97b1456').text(' 57%');"
       ],
       "metadata": {},
       "output_type": "display_data",
       "text": [
        "<IPython.core.display.Javascript at 0x1ab6fa58>"
       ]
      },
      {
       "javascript": [
        "\n",
        "        var $myPB = $(\"div#ea132cbe-5bc0-4760-8d30-2c0b2cb810c8\")\n",
        "        if ($myPB.hasClass('ui-progressbar')) {\n",
        "            $myPB.progressbar('value', 56);\n",
        "        } else {\n",
        "            $myPB.progressbar({value: 0, max: 98});\n",
        "        }\n",
        "        "
       ],
       "metadata": {},
       "output_type": "display_data",
       "text": [
        "<IPython.core.display.Javascript at 0x1ab6fac8>"
       ]
      },
      {
       "javascript": [
        "$('div#598b6361-b00f-4548-bbe4-c7361ed25cf9').text('ETA:  0:00:01');"
       ],
       "metadata": {},
       "output_type": "display_data",
       "text": [
        "<IPython.core.display.Javascript at 0x1ab6fac8>"
       ]
      },
      {
       "javascript": [
        "$('div#5630781f-4064-40fc-88c1-052c5107adcd').text('57 of 98');"
       ],
       "metadata": {},
       "output_type": "display_data",
       "text": [
        "<IPython.core.display.Javascript at 0x1ab920b8>"
       ]
      },
      {
       "javascript": [
        "$('div#5825bc50-3398-496f-85b2-21deb97b1456').text(' 58%');"
       ],
       "metadata": {},
       "output_type": "display_data",
       "text": [
        "<IPython.core.display.Javascript at 0x1ab920f0>"
       ]
      },
      {
       "javascript": [
        "\n",
        "        var $myPB = $(\"div#ea132cbe-5bc0-4760-8d30-2c0b2cb810c8\")\n",
        "        if ($myPB.hasClass('ui-progressbar')) {\n",
        "            $myPB.progressbar('value', 57);\n",
        "        } else {\n",
        "            $myPB.progressbar({value: 0, max: 98});\n",
        "        }\n",
        "        "
       ],
       "metadata": {},
       "output_type": "display_data",
       "text": [
        "<IPython.core.display.Javascript at 0x1ab6fac8>"
       ]
      },
      {
       "javascript": [
        "$('div#598b6361-b00f-4548-bbe4-c7361ed25cf9').text('ETA:  0:00:01');"
       ],
       "metadata": {},
       "output_type": "display_data",
       "text": [
        "<IPython.core.display.Javascript at 0x1ab920f0>"
       ]
      },
      {
       "javascript": [
        "$('div#5630781f-4064-40fc-88c1-052c5107adcd').text('58 of 98');"
       ],
       "metadata": {},
       "output_type": "display_data",
       "text": [
        "<IPython.core.display.Javascript at 0x1ab92eb8>"
       ]
      },
      {
       "javascript": [
        "$('div#5825bc50-3398-496f-85b2-21deb97b1456').text(' 59%');"
       ],
       "metadata": {},
       "output_type": "display_data",
       "text": [
        "<IPython.core.display.Javascript at 0x1ab92ef0>"
       ]
      },
      {
       "javascript": [
        "\n",
        "        var $myPB = $(\"div#ea132cbe-5bc0-4760-8d30-2c0b2cb810c8\")\n",
        "        if ($myPB.hasClass('ui-progressbar')) {\n",
        "            $myPB.progressbar('value', 58);\n",
        "        } else {\n",
        "            $myPB.progressbar({value: 0, max: 98});\n",
        "        }\n",
        "        "
       ],
       "metadata": {},
       "output_type": "display_data",
       "text": [
        "<IPython.core.display.Javascript at 0x1ab92f60>"
       ]
      },
      {
       "javascript": [
        "$('div#598b6361-b00f-4548-bbe4-c7361ed25cf9').text('ETA:  0:00:01');"
       ],
       "metadata": {},
       "output_type": "display_data",
       "text": [
        "<IPython.core.display.Javascript at 0x1ab92f28>"
       ]
      },
      {
       "javascript": [
        "$('div#5630781f-4064-40fc-88c1-052c5107adcd').text('59 of 98');"
       ],
       "metadata": {},
       "output_type": "display_data",
       "text": [
        "<IPython.core.display.Javascript at 0x1b92d1d0>"
       ]
      },
      {
       "javascript": [
        "$('div#5825bc50-3398-496f-85b2-21deb97b1456').text(' 60%');"
       ],
       "metadata": {},
       "output_type": "display_data",
       "text": [
        "<IPython.core.display.Javascript at 0x1b92d208>"
       ]
      },
      {
       "javascript": [
        "\n",
        "        var $myPB = $(\"div#ea132cbe-5bc0-4760-8d30-2c0b2cb810c8\")\n",
        "        if ($myPB.hasClass('ui-progressbar')) {\n",
        "            $myPB.progressbar('value', 59);\n",
        "        } else {\n",
        "            $myPB.progressbar({value: 0, max: 98});\n",
        "        }\n",
        "        "
       ],
       "metadata": {},
       "output_type": "display_data",
       "text": [
        "<IPython.core.display.Javascript at 0x1b92d278>"
       ]
      },
      {
       "javascript": [
        "$('div#598b6361-b00f-4548-bbe4-c7361ed25cf9').text('ETA:  0:00:01');"
       ],
       "metadata": {},
       "output_type": "display_data",
       "text": [
        "<IPython.core.display.Javascript at 0x1b92d240>"
       ]
      },
      {
       "javascript": [
        "$('div#5630781f-4064-40fc-88c1-052c5107adcd').text('60 of 98');"
       ],
       "metadata": {},
       "output_type": "display_data",
       "text": [
        "<IPython.core.display.Javascript at 0x1b92da20>"
       ]
      },
      {
       "javascript": [
        "$('div#5825bc50-3398-496f-85b2-21deb97b1456').text(' 61%');"
       ],
       "metadata": {},
       "output_type": "display_data",
       "text": [
        "<IPython.core.display.Javascript at 0x1b92da58>"
       ]
      },
      {
       "javascript": [
        "\n",
        "        var $myPB = $(\"div#ea132cbe-5bc0-4760-8d30-2c0b2cb810c8\")\n",
        "        if ($myPB.hasClass('ui-progressbar')) {\n",
        "            $myPB.progressbar('value', 60);\n",
        "        } else {\n",
        "            $myPB.progressbar({value: 0, max: 98});\n",
        "        }\n",
        "        "
       ],
       "metadata": {},
       "output_type": "display_data",
       "text": [
        "<IPython.core.display.Javascript at 0x1b92dac8>"
       ]
      },
      {
       "javascript": [
        "$('div#598b6361-b00f-4548-bbe4-c7361ed25cf9').text('ETA:  0:00:01');"
       ],
       "metadata": {},
       "output_type": "display_data",
       "text": [
        "<IPython.core.display.Javascript at 0x1b92da90>"
       ]
      },
      {
       "javascript": [
        "$('div#5630781f-4064-40fc-88c1-052c5107adcd').text('61 of 98');"
       ],
       "metadata": {},
       "output_type": "display_data",
       "text": [
        "<IPython.core.display.Javascript at 0x1edd4da0>"
       ]
      },
      {
       "javascript": [
        "$('div#5825bc50-3398-496f-85b2-21deb97b1456').text(' 62%');"
       ],
       "metadata": {},
       "output_type": "display_data",
       "text": [
        "<IPython.core.display.Javascript at 0x1edd4dd8>"
       ]
      },
      {
       "javascript": [
        "\n",
        "        var $myPB = $(\"div#ea132cbe-5bc0-4760-8d30-2c0b2cb810c8\")\n",
        "        if ($myPB.hasClass('ui-progressbar')) {\n",
        "            $myPB.progressbar('value', 61);\n",
        "        } else {\n",
        "            $myPB.progressbar({value: 0, max: 98});\n",
        "        }\n",
        "        "
       ],
       "metadata": {},
       "output_type": "display_data",
       "text": [
        "<IPython.core.display.Javascript at 0x1edd4e48>"
       ]
      },
      {
       "javascript": [
        "$('div#598b6361-b00f-4548-bbe4-c7361ed25cf9').text('ETA:  0:00:01');"
       ],
       "metadata": {},
       "output_type": "display_data",
       "text": [
        "<IPython.core.display.Javascript at 0x1edd4e10>"
       ]
      },
      {
       "javascript": [
        "$('div#5630781f-4064-40fc-88c1-052c5107adcd').text('62 of 98');"
       ],
       "metadata": {},
       "output_type": "display_data",
       "text": [
        "<IPython.core.display.Javascript at 0x1bff8550>"
       ]
      },
      {
       "javascript": [
        "$('div#5825bc50-3398-496f-85b2-21deb97b1456').text(' 63%');"
       ],
       "metadata": {},
       "output_type": "display_data",
       "text": [
        "<IPython.core.display.Javascript at 0x1bff8588>"
       ]
      },
      {
       "javascript": [
        "\n",
        "        var $myPB = $(\"div#ea132cbe-5bc0-4760-8d30-2c0b2cb810c8\")\n",
        "        if ($myPB.hasClass('ui-progressbar')) {\n",
        "            $myPB.progressbar('value', 62);\n",
        "        } else {\n",
        "            $myPB.progressbar({value: 0, max: 98});\n",
        "        }\n",
        "        "
       ],
       "metadata": {},
       "output_type": "display_data",
       "text": [
        "<IPython.core.display.Javascript at 0x1bff86d8>"
       ]
      },
      {
       "javascript": [
        "$('div#598b6361-b00f-4548-bbe4-c7361ed25cf9').text('ETA:  0:00:01');"
       ],
       "metadata": {},
       "output_type": "display_data",
       "text": [
        "<IPython.core.display.Javascript at 0x1bff85c0>"
       ]
      },
      {
       "javascript": [
        "$('div#5630781f-4064-40fc-88c1-052c5107adcd').text('63 of 98');"
       ],
       "metadata": {},
       "output_type": "display_data",
       "text": [
        "<IPython.core.display.Javascript at 0x1f6704e0>"
       ]
      },
      {
       "javascript": [
        "$('div#5825bc50-3398-496f-85b2-21deb97b1456').text(' 64%');"
       ],
       "metadata": {},
       "output_type": "display_data",
       "text": [
        "<IPython.core.display.Javascript at 0x1f670518>"
       ]
      },
      {
       "javascript": [
        "\n",
        "        var $myPB = $(\"div#ea132cbe-5bc0-4760-8d30-2c0b2cb810c8\")\n",
        "        if ($myPB.hasClass('ui-progressbar')) {\n",
        "            $myPB.progressbar('value', 63);\n",
        "        } else {\n",
        "            $myPB.progressbar({value: 0, max: 98});\n",
        "        }\n",
        "        "
       ],
       "metadata": {},
       "output_type": "display_data",
       "text": [
        "<IPython.core.display.Javascript at 0x1f670588>"
       ]
      },
      {
       "javascript": [
        "$('div#598b6361-b00f-4548-bbe4-c7361ed25cf9').text('ETA:  0:00:01');"
       ],
       "metadata": {},
       "output_type": "display_data",
       "text": [
        "<IPython.core.display.Javascript at 0x1f670550>"
       ]
      },
      {
       "javascript": [
        "$('div#5630781f-4064-40fc-88c1-052c5107adcd').text('64 of 98');"
       ],
       "metadata": {},
       "output_type": "display_data",
       "text": [
        "<IPython.core.display.Javascript at 0x1f9b1ac8>"
       ]
      },
      {
       "javascript": [
        "$('div#5825bc50-3398-496f-85b2-21deb97b1456').text(' 65%');"
       ],
       "metadata": {},
       "output_type": "display_data",
       "text": [
        "<IPython.core.display.Javascript at 0x1f9b1b00>"
       ]
      },
      {
       "javascript": [
        "\n",
        "        var $myPB = $(\"div#ea132cbe-5bc0-4760-8d30-2c0b2cb810c8\")\n",
        "        if ($myPB.hasClass('ui-progressbar')) {\n",
        "            $myPB.progressbar('value', 64);\n",
        "        } else {\n",
        "            $myPB.progressbar({value: 0, max: 98});\n",
        "        }\n",
        "        "
       ],
       "metadata": {},
       "output_type": "display_data",
       "text": [
        "<IPython.core.display.Javascript at 0x1f9b1b70>"
       ]
      },
      {
       "javascript": [
        "$('div#598b6361-b00f-4548-bbe4-c7361ed25cf9').text('ETA:  0:00:01');"
       ],
       "metadata": {},
       "output_type": "display_data",
       "text": [
        "<IPython.core.display.Javascript at 0x1f9b1b38>"
       ]
      },
      {
       "javascript": [
        "$('div#5630781f-4064-40fc-88c1-052c5107adcd').text('65 of 98');"
       ],
       "metadata": {},
       "output_type": "display_data",
       "text": [
        "<IPython.core.display.Javascript at 0x1fa88eb8>"
       ]
      },
      {
       "javascript": [
        "$('div#5825bc50-3398-496f-85b2-21deb97b1456').text(' 66%');"
       ],
       "metadata": {},
       "output_type": "display_data",
       "text": [
        "<IPython.core.display.Javascript at 0x1fa88ef0>"
       ]
      },
      {
       "javascript": [
        "\n",
        "        var $myPB = $(\"div#ea132cbe-5bc0-4760-8d30-2c0b2cb810c8\")\n",
        "        if ($myPB.hasClass('ui-progressbar')) {\n",
        "            $myPB.progressbar('value', 65);\n",
        "        } else {\n",
        "            $myPB.progressbar({value: 0, max: 98});\n",
        "        }\n",
        "        "
       ],
       "metadata": {},
       "output_type": "display_data",
       "text": [
        "<IPython.core.display.Javascript at 0x1fa88f60>"
       ]
      },
      {
       "javascript": [
        "$('div#598b6361-b00f-4548-bbe4-c7361ed25cf9').text('ETA:  0:00:01');"
       ],
       "metadata": {},
       "output_type": "display_data",
       "text": [
        "<IPython.core.display.Javascript at 0x1fa88f28>"
       ]
      },
      {
       "javascript": [
        "$('div#5630781f-4064-40fc-88c1-052c5107adcd').text('66 of 98');"
       ],
       "metadata": {},
       "output_type": "display_data",
       "text": [
        "<IPython.core.display.Javascript at 0x1fd77710>"
       ]
      },
      {
       "javascript": [
        "$('div#5825bc50-3398-496f-85b2-21deb97b1456').text(' 67%');"
       ],
       "metadata": {},
       "output_type": "display_data",
       "text": [
        "<IPython.core.display.Javascript at 0x1fd77748>"
       ]
      },
      {
       "javascript": [
        "\n",
        "        var $myPB = $(\"div#ea132cbe-5bc0-4760-8d30-2c0b2cb810c8\")\n",
        "        if ($myPB.hasClass('ui-progressbar')) {\n",
        "            $myPB.progressbar('value', 66);\n",
        "        } else {\n",
        "            $myPB.progressbar({value: 0, max: 98});\n",
        "        }\n",
        "        "
       ],
       "metadata": {},
       "output_type": "display_data",
       "text": [
        "<IPython.core.display.Javascript at 0x1fd777b8>"
       ]
      },
      {
       "javascript": [
        "$('div#598b6361-b00f-4548-bbe4-c7361ed25cf9').text('ETA:  0:00:01');"
       ],
       "metadata": {},
       "output_type": "display_data",
       "text": [
        "<IPython.core.display.Javascript at 0x1fd77780>"
       ]
      },
      {
       "javascript": [
        "$('div#5630781f-4064-40fc-88c1-052c5107adcd').text('67 of 98');"
       ],
       "metadata": {},
       "output_type": "display_data",
       "text": [
        "<IPython.core.display.Javascript at 0x1ffeb630>"
       ]
      },
      {
       "javascript": [
        "$('div#5825bc50-3398-496f-85b2-21deb97b1456').text(' 68%');"
       ],
       "metadata": {},
       "output_type": "display_data",
       "text": [
        "<IPython.core.display.Javascript at 0x1ffeb668>"
       ]
      },
      {
       "javascript": [
        "\n",
        "        var $myPB = $(\"div#ea132cbe-5bc0-4760-8d30-2c0b2cb810c8\")\n",
        "        if ($myPB.hasClass('ui-progressbar')) {\n",
        "            $myPB.progressbar('value', 67);\n",
        "        } else {\n",
        "            $myPB.progressbar({value: 0, max: 98});\n",
        "        }\n",
        "        "
       ],
       "metadata": {},
       "output_type": "display_data",
       "text": [
        "<IPython.core.display.Javascript at 0x1ffeb6d8>"
       ]
      },
      {
       "javascript": [
        "$('div#598b6361-b00f-4548-bbe4-c7361ed25cf9').text('ETA:  0:00:01');"
       ],
       "metadata": {},
       "output_type": "display_data",
       "text": [
        "<IPython.core.display.Javascript at 0x1ffeb6a0>"
       ]
      },
      {
       "javascript": [
        "$('div#5630781f-4064-40fc-88c1-052c5107adcd').text('68 of 98');"
       ],
       "metadata": {},
       "output_type": "display_data",
       "text": [
        "<IPython.core.display.Javascript at 0x1ffebc50>"
       ]
      },
      {
       "javascript": [
        "$('div#5825bc50-3398-496f-85b2-21deb97b1456').text(' 69%');"
       ],
       "metadata": {},
       "output_type": "display_data",
       "text": [
        "<IPython.core.display.Javascript at 0x1ffebc88>"
       ]
      },
      {
       "javascript": [
        "\n",
        "        var $myPB = $(\"div#ea132cbe-5bc0-4760-8d30-2c0b2cb810c8\")\n",
        "        if ($myPB.hasClass('ui-progressbar')) {\n",
        "            $myPB.progressbar('value', 68);\n",
        "        } else {\n",
        "            $myPB.progressbar({value: 0, max: 98});\n",
        "        }\n",
        "        "
       ],
       "metadata": {},
       "output_type": "display_data",
       "text": [
        "<IPython.core.display.Javascript at 0x1ffebcf8>"
       ]
      },
      {
       "javascript": [
        "$('div#598b6361-b00f-4548-bbe4-c7361ed25cf9').text('ETA:  0:00:01');"
       ],
       "metadata": {},
       "output_type": "display_data",
       "text": [
        "<IPython.core.display.Javascript at 0x1ffebcc0>"
       ]
      },
      {
       "javascript": [
        "$('div#5630781f-4064-40fc-88c1-052c5107adcd').text('69 of 98');"
       ],
       "metadata": {},
       "output_type": "display_data",
       "text": [
        "<IPython.core.display.Javascript at 0x1ffebfd0>"
       ]
      },
      {
       "javascript": [
        "$('div#5825bc50-3398-496f-85b2-21deb97b1456').text(' 70%');"
       ],
       "metadata": {},
       "output_type": "display_data",
       "text": [
        "<IPython.core.display.Javascript at 0x1f46f400>"
       ]
      },
      {
       "javascript": [
        "\n",
        "        var $myPB = $(\"div#ea132cbe-5bc0-4760-8d30-2c0b2cb810c8\")\n",
        "        if ($myPB.hasClass('ui-progressbar')) {\n",
        "            $myPB.progressbar('value', 69);\n",
        "        } else {\n",
        "            $myPB.progressbar({value: 0, max: 98});\n",
        "        }\n",
        "        "
       ],
       "metadata": {},
       "output_type": "display_data",
       "text": [
        "<IPython.core.display.Javascript at 0x1f46f470>"
       ]
      },
      {
       "javascript": [
        "$('div#598b6361-b00f-4548-bbe4-c7361ed25cf9').text('ETA:  0:00:01');"
       ],
       "metadata": {},
       "output_type": "display_data",
       "text": [
        "<IPython.core.display.Javascript at 0x1f46f438>"
       ]
      },
      {
       "javascript": [
        "$('div#5630781f-4064-40fc-88c1-052c5107adcd').text('70 of 98');"
       ],
       "metadata": {},
       "output_type": "display_data",
       "text": [
        "<IPython.core.display.Javascript at 0x1f46fb38>"
       ]
      },
      {
       "javascript": [
        "$('div#5825bc50-3398-496f-85b2-21deb97b1456').text(' 71%');"
       ],
       "metadata": {},
       "output_type": "display_data",
       "text": [
        "<IPython.core.display.Javascript at 0x1f46fb70>"
       ]
      },
      {
       "javascript": [
        "\n",
        "        var $myPB = $(\"div#ea132cbe-5bc0-4760-8d30-2c0b2cb810c8\")\n",
        "        if ($myPB.hasClass('ui-progressbar')) {\n",
        "            $myPB.progressbar('value', 70);\n",
        "        } else {\n",
        "            $myPB.progressbar({value: 0, max: 98});\n",
        "        }\n",
        "        "
       ],
       "metadata": {},
       "output_type": "display_data",
       "text": [
        "<IPython.core.display.Javascript at 0x1f46fbe0>"
       ]
      },
      {
       "javascript": [
        "$('div#598b6361-b00f-4548-bbe4-c7361ed25cf9').text('ETA:  0:00:01');"
       ],
       "metadata": {},
       "output_type": "display_data",
       "text": [
        "<IPython.core.display.Javascript at 0x1f46fba8>"
       ]
      },
      {
       "javascript": [
        "$('div#5630781f-4064-40fc-88c1-052c5107adcd').text('71 of 98');"
       ],
       "metadata": {},
       "output_type": "display_data",
       "text": [
        "<IPython.core.display.Javascript at 0x2000e2b0>"
       ]
      },
      {
       "javascript": [
        "$('div#5825bc50-3398-496f-85b2-21deb97b1456').text(' 72%');"
       ],
       "metadata": {},
       "output_type": "display_data",
       "text": [
        "<IPython.core.display.Javascript at 0x2000e2e8>"
       ]
      },
      {
       "javascript": [
        "\n",
        "        var $myPB = $(\"div#ea132cbe-5bc0-4760-8d30-2c0b2cb810c8\")\n",
        "        if ($myPB.hasClass('ui-progressbar')) {\n",
        "            $myPB.progressbar('value', 71);\n",
        "        } else {\n",
        "            $myPB.progressbar({value: 0, max: 98});\n",
        "        }\n",
        "        "
       ],
       "metadata": {},
       "output_type": "display_data",
       "text": [
        "<IPython.core.display.Javascript at 0x2000e358>"
       ]
      },
      {
       "javascript": [
        "$('div#598b6361-b00f-4548-bbe4-c7361ed25cf9').text('ETA:  0:00:01');"
       ],
       "metadata": {},
       "output_type": "display_data",
       "text": [
        "<IPython.core.display.Javascript at 0x2000e320>"
       ]
      },
      {
       "javascript": [
        "$('div#5630781f-4064-40fc-88c1-052c5107adcd').text('72 of 98');"
       ],
       "metadata": {},
       "output_type": "display_data",
       "text": [
        "<IPython.core.display.Javascript at 0x2000e9b0>"
       ]
      },
      {
       "javascript": [
        "$('div#5825bc50-3398-496f-85b2-21deb97b1456').text(' 73%');"
       ],
       "metadata": {},
       "output_type": "display_data",
       "text": [
        "<IPython.core.display.Javascript at 0x2000e9e8>"
       ]
      },
      {
       "javascript": [
        "\n",
        "        var $myPB = $(\"div#ea132cbe-5bc0-4760-8d30-2c0b2cb810c8\")\n",
        "        if ($myPB.hasClass('ui-progressbar')) {\n",
        "            $myPB.progressbar('value', 72);\n",
        "        } else {\n",
        "            $myPB.progressbar({value: 0, max: 98});\n",
        "        }\n",
        "        "
       ],
       "metadata": {},
       "output_type": "display_data",
       "text": [
        "<IPython.core.display.Javascript at 0x2000ea58>"
       ]
      },
      {
       "javascript": [
        "$('div#598b6361-b00f-4548-bbe4-c7361ed25cf9').text('ETA:  0:00:01');"
       ],
       "metadata": {},
       "output_type": "display_data",
       "text": [
        "<IPython.core.display.Javascript at 0x2000ea20>"
       ]
      },
      {
       "javascript": [
        "$('div#5630781f-4064-40fc-88c1-052c5107adcd').text('73 of 98');"
       ],
       "metadata": {},
       "output_type": "display_data",
       "text": [
        "<IPython.core.display.Javascript at 0x1fc19160>"
       ]
      },
      {
       "javascript": [
        "$('div#5825bc50-3398-496f-85b2-21deb97b1456').text(' 74%');"
       ],
       "metadata": {},
       "output_type": "display_data",
       "text": [
        "<IPython.core.display.Javascript at 0x1fc19198>"
       ]
      },
      {
       "javascript": [
        "\n",
        "        var $myPB = $(\"div#ea132cbe-5bc0-4760-8d30-2c0b2cb810c8\")\n",
        "        if ($myPB.hasClass('ui-progressbar')) {\n",
        "            $myPB.progressbar('value', 73);\n",
        "        } else {\n",
        "            $myPB.progressbar({value: 0, max: 98});\n",
        "        }\n",
        "        "
       ],
       "metadata": {},
       "output_type": "display_data",
       "text": [
        "<IPython.core.display.Javascript at 0x1fc19208>"
       ]
      },
      {
       "javascript": [
        "$('div#598b6361-b00f-4548-bbe4-c7361ed25cf9').text('ETA:  0:00:01');"
       ],
       "metadata": {},
       "output_type": "display_data",
       "text": [
        "<IPython.core.display.Javascript at 0x1fc191d0>"
       ]
      },
      {
       "javascript": [
        "$('div#5630781f-4064-40fc-88c1-052c5107adcd').text('74 of 98');"
       ],
       "metadata": {},
       "output_type": "display_data",
       "text": [
        "<IPython.core.display.Javascript at 0x1fc19c18>"
       ]
      },
      {
       "javascript": [
        "$('div#5825bc50-3398-496f-85b2-21deb97b1456').text(' 75%');"
       ],
       "metadata": {},
       "output_type": "display_data",
       "text": [
        "<IPython.core.display.Javascript at 0x1fc19c50>"
       ]
      },
      {
       "javascript": [
        "\n",
        "        var $myPB = $(\"div#ea132cbe-5bc0-4760-8d30-2c0b2cb810c8\")\n",
        "        if ($myPB.hasClass('ui-progressbar')) {\n",
        "            $myPB.progressbar('value', 74);\n",
        "        } else {\n",
        "            $myPB.progressbar({value: 0, max: 98});\n",
        "        }\n",
        "        "
       ],
       "metadata": {},
       "output_type": "display_data",
       "text": [
        "<IPython.core.display.Javascript at 0x1fc19cc0>"
       ]
      },
      {
       "javascript": [
        "$('div#598b6361-b00f-4548-bbe4-c7361ed25cf9').text('ETA:  0:00:01');"
       ],
       "metadata": {},
       "output_type": "display_data",
       "text": [
        "<IPython.core.display.Javascript at 0x1fc19c88>"
       ]
      },
      {
       "javascript": [
        "$('div#5630781f-4064-40fc-88c1-052c5107adcd').text('75 of 98');"
       ],
       "metadata": {},
       "output_type": "display_data",
       "text": [
        "<IPython.core.display.Javascript at 0x1ed89898>"
       ]
      },
      {
       "javascript": [
        "$('div#5825bc50-3398-496f-85b2-21deb97b1456').text(' 76%');"
       ],
       "metadata": {},
       "output_type": "display_data",
       "text": [
        "<IPython.core.display.Javascript at 0x1ed898d0>"
       ]
      },
      {
       "javascript": [
        "\n",
        "        var $myPB = $(\"div#ea132cbe-5bc0-4760-8d30-2c0b2cb810c8\")\n",
        "        if ($myPB.hasClass('ui-progressbar')) {\n",
        "            $myPB.progressbar('value', 75);\n",
        "        } else {\n",
        "            $myPB.progressbar({value: 0, max: 98});\n",
        "        }\n",
        "        "
       ],
       "metadata": {},
       "output_type": "display_data",
       "text": [
        "<IPython.core.display.Javascript at 0x1ed89940>"
       ]
      },
      {
       "javascript": [
        "$('div#598b6361-b00f-4548-bbe4-c7361ed25cf9').text('ETA:  0:00:01');"
       ],
       "metadata": {},
       "output_type": "display_data",
       "text": [
        "<IPython.core.display.Javascript at 0x1ed89908>"
       ]
      },
      {
       "javascript": [
        "$('div#5630781f-4064-40fc-88c1-052c5107adcd').text('76 of 98');"
       ],
       "metadata": {},
       "output_type": "display_data",
       "text": [
        "<IPython.core.display.Javascript at 0x1ef5c4a8>"
       ]
      },
      {
       "javascript": [
        "$('div#5825bc50-3398-496f-85b2-21deb97b1456').text(' 77%');"
       ],
       "metadata": {},
       "output_type": "display_data",
       "text": [
        "<IPython.core.display.Javascript at 0x1ef5c4e0>"
       ]
      },
      {
       "javascript": [
        "\n",
        "        var $myPB = $(\"div#ea132cbe-5bc0-4760-8d30-2c0b2cb810c8\")\n",
        "        if ($myPB.hasClass('ui-progressbar')) {\n",
        "            $myPB.progressbar('value', 76);\n",
        "        } else {\n",
        "            $myPB.progressbar({value: 0, max: 98});\n",
        "        }\n",
        "        "
       ],
       "metadata": {},
       "output_type": "display_data",
       "text": [
        "<IPython.core.display.Javascript at 0x1ef5c550>"
       ]
      },
      {
       "javascript": [
        "$('div#598b6361-b00f-4548-bbe4-c7361ed25cf9').text('ETA:  0:00:01');"
       ],
       "metadata": {},
       "output_type": "display_data",
       "text": [
        "<IPython.core.display.Javascript at 0x1ef5c518>"
       ]
      },
      {
       "javascript": [
        "$('div#5630781f-4064-40fc-88c1-052c5107adcd').text('77 of 98');"
       ],
       "metadata": {},
       "output_type": "display_data",
       "text": [
        "<IPython.core.display.Javascript at 0x1ef83128>"
       ]
      },
      {
       "javascript": [
        "$('div#5825bc50-3398-496f-85b2-21deb97b1456').text(' 78%');"
       ],
       "metadata": {},
       "output_type": "display_data",
       "text": [
        "<IPython.core.display.Javascript at 0x1ef83160>"
       ]
      },
      {
       "javascript": [
        "\n",
        "        var $myPB = $(\"div#ea132cbe-5bc0-4760-8d30-2c0b2cb810c8\")\n",
        "        if ($myPB.hasClass('ui-progressbar')) {\n",
        "            $myPB.progressbar('value', 77);\n",
        "        } else {\n",
        "            $myPB.progressbar({value: 0, max: 98});\n",
        "        }\n",
        "        "
       ],
       "metadata": {},
       "output_type": "display_data",
       "text": [
        "<IPython.core.display.Javascript at 0x1ef831d0>"
       ]
      },
      {
       "javascript": [
        "$('div#598b6361-b00f-4548-bbe4-c7361ed25cf9').text('ETA:  0:00:01');"
       ],
       "metadata": {},
       "output_type": "display_data",
       "text": [
        "<IPython.core.display.Javascript at 0x1ef83198>"
       ]
      },
      {
       "javascript": [
        "$('div#5630781f-4064-40fc-88c1-052c5107adcd').text('78 of 98');"
       ],
       "metadata": {},
       "output_type": "display_data",
       "text": [
        "<IPython.core.display.Javascript at 0x1ef839e8>"
       ]
      },
      {
       "javascript": [
        "$('div#5825bc50-3398-496f-85b2-21deb97b1456').text(' 79%');"
       ],
       "metadata": {},
       "output_type": "display_data",
       "text": [
        "<IPython.core.display.Javascript at 0x1ef83a20>"
       ]
      },
      {
       "javascript": [
        "\n",
        "        var $myPB = $(\"div#ea132cbe-5bc0-4760-8d30-2c0b2cb810c8\")\n",
        "        if ($myPB.hasClass('ui-progressbar')) {\n",
        "            $myPB.progressbar('value', 78);\n",
        "        } else {\n",
        "            $myPB.progressbar({value: 0, max: 98});\n",
        "        }\n",
        "        "
       ],
       "metadata": {},
       "output_type": "display_data",
       "text": [
        "<IPython.core.display.Javascript at 0x1ef83a90>"
       ]
      },
      {
       "javascript": [
        "$('div#598b6361-b00f-4548-bbe4-c7361ed25cf9').text('ETA:  0:00:00');"
       ],
       "metadata": {},
       "output_type": "display_data",
       "text": [
        "<IPython.core.display.Javascript at 0x1ef83a58>"
       ]
      },
      {
       "javascript": [
        "$('div#5630781f-4064-40fc-88c1-052c5107adcd').text('79 of 98');"
       ],
       "metadata": {},
       "output_type": "display_data",
       "text": [
        "<IPython.core.display.Javascript at 0x1efba358>"
       ]
      },
      {
       "javascript": [
        "$('div#5825bc50-3398-496f-85b2-21deb97b1456').text(' 80%');"
       ],
       "metadata": {},
       "output_type": "display_data",
       "text": [
        "<IPython.core.display.Javascript at 0x1efba390>"
       ]
      },
      {
       "javascript": [
        "\n",
        "        var $myPB = $(\"div#ea132cbe-5bc0-4760-8d30-2c0b2cb810c8\")\n",
        "        if ($myPB.hasClass('ui-progressbar')) {\n",
        "            $myPB.progressbar('value', 79);\n",
        "        } else {\n",
        "            $myPB.progressbar({value: 0, max: 98});\n",
        "        }\n",
        "        "
       ],
       "metadata": {},
       "output_type": "display_data",
       "text": [
        "<IPython.core.display.Javascript at 0x1efba400>"
       ]
      },
      {
       "javascript": [
        "$('div#598b6361-b00f-4548-bbe4-c7361ed25cf9').text('ETA:  0:00:00');"
       ],
       "metadata": {},
       "output_type": "display_data",
       "text": [
        "<IPython.core.display.Javascript at 0x1efba3c8>"
       ]
      },
      {
       "javascript": [
        "$('div#5630781f-4064-40fc-88c1-052c5107adcd').text('80 of 98');"
       ],
       "metadata": {},
       "output_type": "display_data",
       "text": [
        "<IPython.core.display.Javascript at 0x1efbad30>"
       ]
      },
      {
       "javascript": [
        "$('div#5825bc50-3398-496f-85b2-21deb97b1456').text(' 81%');"
       ],
       "metadata": {},
       "output_type": "display_data",
       "text": [
        "<IPython.core.display.Javascript at 0x1efbad68>"
       ]
      },
      {
       "javascript": [
        "\n",
        "        var $myPB = $(\"div#ea132cbe-5bc0-4760-8d30-2c0b2cb810c8\")\n",
        "        if ($myPB.hasClass('ui-progressbar')) {\n",
        "            $myPB.progressbar('value', 80);\n",
        "        } else {\n",
        "            $myPB.progressbar({value: 0, max: 98});\n",
        "        }\n",
        "        "
       ],
       "metadata": {},
       "output_type": "display_data",
       "text": [
        "<IPython.core.display.Javascript at 0x1efbadd8>"
       ]
      },
      {
       "javascript": [
        "$('div#598b6361-b00f-4548-bbe4-c7361ed25cf9').text('ETA:  0:00:00');"
       ],
       "metadata": {},
       "output_type": "display_data",
       "text": [
        "<IPython.core.display.Javascript at 0x1efbada0>"
       ]
      },
      {
       "javascript": [
        "$('div#5630781f-4064-40fc-88c1-052c5107adcd').text('81 of 98');"
       ],
       "metadata": {},
       "output_type": "display_data",
       "text": [
        "<IPython.core.display.Javascript at 0x1f05f6d8>"
       ]
      },
      {
       "javascript": [
        "$('div#5825bc50-3398-496f-85b2-21deb97b1456').text(' 82%');"
       ],
       "metadata": {},
       "output_type": "display_data",
       "text": [
        "<IPython.core.display.Javascript at 0x1f05f710>"
       ]
      },
      {
       "javascript": [
        "\n",
        "        var $myPB = $(\"div#ea132cbe-5bc0-4760-8d30-2c0b2cb810c8\")\n",
        "        if ($myPB.hasClass('ui-progressbar')) {\n",
        "            $myPB.progressbar('value', 81);\n",
        "        } else {\n",
        "            $myPB.progressbar({value: 0, max: 98});\n",
        "        }\n",
        "        "
       ],
       "metadata": {},
       "output_type": "display_data",
       "text": [
        "<IPython.core.display.Javascript at 0x1f05f780>"
       ]
      },
      {
       "javascript": [
        "$('div#598b6361-b00f-4548-bbe4-c7361ed25cf9').text('ETA:  0:00:00');"
       ],
       "metadata": {},
       "output_type": "display_data",
       "text": [
        "<IPython.core.display.Javascript at 0x1f05f748>"
       ]
      },
      {
       "javascript": [
        "$('div#5630781f-4064-40fc-88c1-052c5107adcd').text('82 of 98');"
       ],
       "metadata": {},
       "output_type": "display_data",
       "text": [
        "<IPython.core.display.Javascript at 0x1f086208>"
       ]
      },
      {
       "javascript": [
        "$('div#5825bc50-3398-496f-85b2-21deb97b1456').text(' 83%');"
       ],
       "metadata": {},
       "output_type": "display_data",
       "text": [
        "<IPython.core.display.Javascript at 0x1f086240>"
       ]
      },
      {
       "javascript": [
        "\n",
        "        var $myPB = $(\"div#ea132cbe-5bc0-4760-8d30-2c0b2cb810c8\")\n",
        "        if ($myPB.hasClass('ui-progressbar')) {\n",
        "            $myPB.progressbar('value', 82);\n",
        "        } else {\n",
        "            $myPB.progressbar({value: 0, max: 98});\n",
        "        }\n",
        "        "
       ],
       "metadata": {},
       "output_type": "display_data",
       "text": [
        "<IPython.core.display.Javascript at 0x1f0862b0>"
       ]
      },
      {
       "javascript": [
        "$('div#598b6361-b00f-4548-bbe4-c7361ed25cf9').text('ETA:  0:00:00');"
       ],
       "metadata": {},
       "output_type": "display_data",
       "text": [
        "<IPython.core.display.Javascript at 0x1f086278>"
       ]
      },
      {
       "javascript": [
        "$('div#5630781f-4064-40fc-88c1-052c5107adcd').text('83 of 98');"
       ],
       "metadata": {},
       "output_type": "display_data",
       "text": [
        "<IPython.core.display.Javascript at 0x1f086c88>"
       ]
      },
      {
       "javascript": [
        "$('div#5825bc50-3398-496f-85b2-21deb97b1456').text(' 84%');"
       ],
       "metadata": {},
       "output_type": "display_data",
       "text": [
        "<IPython.core.display.Javascript at 0x1f086cc0>"
       ]
      },
      {
       "javascript": [
        "\n",
        "        var $myPB = $(\"div#ea132cbe-5bc0-4760-8d30-2c0b2cb810c8\")\n",
        "        if ($myPB.hasClass('ui-progressbar')) {\n",
        "            $myPB.progressbar('value', 83);\n",
        "        } else {\n",
        "            $myPB.progressbar({value: 0, max: 98});\n",
        "        }\n",
        "        "
       ],
       "metadata": {},
       "output_type": "display_data",
       "text": [
        "<IPython.core.display.Javascript at 0x1f086d30>"
       ]
      },
      {
       "javascript": [
        "$('div#598b6361-b00f-4548-bbe4-c7361ed25cf9').text('ETA:  0:00:00');"
       ],
       "metadata": {},
       "output_type": "display_data",
       "text": [
        "<IPython.core.display.Javascript at 0x1f086cf8>"
       ]
      },
      {
       "javascript": [
        "$('div#5630781f-4064-40fc-88c1-052c5107adcd').text('84 of 98');"
       ],
       "metadata": {},
       "output_type": "display_data",
       "text": [
        "<IPython.core.display.Javascript at 0x1f0b16d8>"
       ]
      },
      {
       "javascript": [
        "$('div#5825bc50-3398-496f-85b2-21deb97b1456').text(' 85%');"
       ],
       "metadata": {},
       "output_type": "display_data",
       "text": [
        "<IPython.core.display.Javascript at 0x1f0b1710>"
       ]
      },
      {
       "javascript": [
        "\n",
        "        var $myPB = $(\"div#ea132cbe-5bc0-4760-8d30-2c0b2cb810c8\")\n",
        "        if ($myPB.hasClass('ui-progressbar')) {\n",
        "            $myPB.progressbar('value', 84);\n",
        "        } else {\n",
        "            $myPB.progressbar({value: 0, max: 98});\n",
        "        }\n",
        "        "
       ],
       "metadata": {},
       "output_type": "display_data",
       "text": [
        "<IPython.core.display.Javascript at 0x1f0b1780>"
       ]
      },
      {
       "javascript": [
        "$('div#598b6361-b00f-4548-bbe4-c7361ed25cf9').text('ETA:  0:00:00');"
       ],
       "metadata": {},
       "output_type": "display_data",
       "text": [
        "<IPython.core.display.Javascript at 0x1f0b1748>"
       ]
      },
      {
       "javascript": [
        "$('div#5630781f-4064-40fc-88c1-052c5107adcd').text('85 of 98');"
       ],
       "metadata": {},
       "output_type": "display_data",
       "text": [
        "<IPython.core.display.Javascript at 0x1f368240>"
       ]
      },
      {
       "javascript": [
        "$('div#5825bc50-3398-496f-85b2-21deb97b1456').text(' 86%');"
       ],
       "metadata": {},
       "output_type": "display_data",
       "text": [
        "<IPython.core.display.Javascript at 0x1f368278>"
       ]
      },
      {
       "javascript": [
        "\n",
        "        var $myPB = $(\"div#ea132cbe-5bc0-4760-8d30-2c0b2cb810c8\")\n",
        "        if ($myPB.hasClass('ui-progressbar')) {\n",
        "            $myPB.progressbar('value', 85);\n",
        "        } else {\n",
        "            $myPB.progressbar({value: 0, max: 98});\n",
        "        }\n",
        "        "
       ],
       "metadata": {},
       "output_type": "display_data",
       "text": [
        "<IPython.core.display.Javascript at 0x1f3682e8>"
       ]
      },
      {
       "javascript": [
        "$('div#598b6361-b00f-4548-bbe4-c7361ed25cf9').text('ETA:  0:00:00');"
       ],
       "metadata": {},
       "output_type": "display_data",
       "text": [
        "<IPython.core.display.Javascript at 0x1f3682b0>"
       ]
      },
      {
       "javascript": [
        "$('div#5630781f-4064-40fc-88c1-052c5107adcd').text('86 of 98');"
       ],
       "metadata": {},
       "output_type": "display_data",
       "text": [
        "<IPython.core.display.Javascript at 0x1f368f28>"
       ]
      },
      {
       "javascript": [
        "$('div#5825bc50-3398-496f-85b2-21deb97b1456').text(' 87%');"
       ],
       "metadata": {},
       "output_type": "display_data",
       "text": [
        "<IPython.core.display.Javascript at 0x1f368f60>"
       ]
      },
      {
       "javascript": [
        "\n",
        "        var $myPB = $(\"div#ea132cbe-5bc0-4760-8d30-2c0b2cb810c8\")\n",
        "        if ($myPB.hasClass('ui-progressbar')) {\n",
        "            $myPB.progressbar('value', 86);\n",
        "        } else {\n",
        "            $myPB.progressbar({value: 0, max: 98});\n",
        "        }\n",
        "        "
       ],
       "metadata": {},
       "output_type": "display_data",
       "text": [
        "<IPython.core.display.Javascript at 0x1f368fd0>"
       ]
      },
      {
       "javascript": [
        "$('div#598b6361-b00f-4548-bbe4-c7361ed25cf9').text('ETA:  0:00:00');"
       ],
       "metadata": {},
       "output_type": "display_data",
       "text": [
        "<IPython.core.display.Javascript at 0x1f368f98>"
       ]
      },
      {
       "javascript": [
        "$('div#5630781f-4064-40fc-88c1-052c5107adcd').text('87 of 98');"
       ],
       "metadata": {},
       "output_type": "display_data",
       "text": [
        "<IPython.core.display.Javascript at 0x1f397cc0>"
       ]
      },
      {
       "javascript": [
        "$('div#5825bc50-3398-496f-85b2-21deb97b1456').text(' 88%');"
       ],
       "metadata": {},
       "output_type": "display_data",
       "text": [
        "<IPython.core.display.Javascript at 0x1f397cf8>"
       ]
      },
      {
       "javascript": [
        "\n",
        "        var $myPB = $(\"div#ea132cbe-5bc0-4760-8d30-2c0b2cb810c8\")\n",
        "        if ($myPB.hasClass('ui-progressbar')) {\n",
        "            $myPB.progressbar('value', 87);\n",
        "        } else {\n",
        "            $myPB.progressbar({value: 0, max: 98});\n",
        "        }\n",
        "        "
       ],
       "metadata": {},
       "output_type": "display_data",
       "text": [
        "<IPython.core.display.Javascript at 0x1f397dd8>"
       ]
      },
      {
       "javascript": [
        "$('div#598b6361-b00f-4548-bbe4-c7361ed25cf9').text('ETA:  0:00:00');"
       ],
       "metadata": {},
       "output_type": "display_data",
       "text": [
        "<IPython.core.display.Javascript at 0x1f397d30>"
       ]
      },
      {
       "javascript": [
        "$('div#5630781f-4064-40fc-88c1-052c5107adcd').text('88 of 98');"
       ],
       "metadata": {},
       "output_type": "display_data",
       "text": [
        "<IPython.core.display.Javascript at 0x1f3d0b70>"
       ]
      },
      {
       "javascript": [
        "$('div#5825bc50-3398-496f-85b2-21deb97b1456').text(' 89%');"
       ],
       "metadata": {},
       "output_type": "display_data",
       "text": [
        "<IPython.core.display.Javascript at 0x1f3d0ba8>"
       ]
      },
      {
       "javascript": [
        "\n",
        "        var $myPB = $(\"div#ea132cbe-5bc0-4760-8d30-2c0b2cb810c8\")\n",
        "        if ($myPB.hasClass('ui-progressbar')) {\n",
        "            $myPB.progressbar('value', 88);\n",
        "        } else {\n",
        "            $myPB.progressbar({value: 0, max: 98});\n",
        "        }\n",
        "        "
       ],
       "metadata": {},
       "output_type": "display_data",
       "text": [
        "<IPython.core.display.Javascript at 0x1f3d0c18>"
       ]
      },
      {
       "javascript": [
        "$('div#598b6361-b00f-4548-bbe4-c7361ed25cf9').text('ETA:  0:00:00');"
       ],
       "metadata": {},
       "output_type": "display_data",
       "text": [
        "<IPython.core.display.Javascript at 0x1f3d0be0>"
       ]
      },
      {
       "javascript": [
        "$('div#5630781f-4064-40fc-88c1-052c5107adcd').text('89 of 98');"
       ],
       "metadata": {},
       "output_type": "display_data",
       "text": [
        "<IPython.core.display.Javascript at 0x1f1a59b0>"
       ]
      },
      {
       "javascript": [
        "$('div#5825bc50-3398-496f-85b2-21deb97b1456').text(' 90%');"
       ],
       "metadata": {},
       "output_type": "display_data",
       "text": [
        "<IPython.core.display.Javascript at 0x1f1a59e8>"
       ]
      },
      {
       "javascript": [
        "\n",
        "        var $myPB = $(\"div#ea132cbe-5bc0-4760-8d30-2c0b2cb810c8\")\n",
        "        if ($myPB.hasClass('ui-progressbar')) {\n",
        "            $myPB.progressbar('value', 89);\n",
        "        } else {\n",
        "            $myPB.progressbar({value: 0, max: 98});\n",
        "        }\n",
        "        "
       ],
       "metadata": {},
       "output_type": "display_data",
       "text": [
        "<IPython.core.display.Javascript at 0x1f1a5a58>"
       ]
      },
      {
       "javascript": [
        "$('div#598b6361-b00f-4548-bbe4-c7361ed25cf9').text('ETA:  0:00:00');"
       ],
       "metadata": {},
       "output_type": "display_data",
       "text": [
        "<IPython.core.display.Javascript at 0x1f1a5a20>"
       ]
      },
      {
       "javascript": [
        "$('div#5630781f-4064-40fc-88c1-052c5107adcd').text('90 of 98');"
       ],
       "metadata": {},
       "output_type": "display_data",
       "text": [
        "<IPython.core.display.Javascript at 0x1f6d97f0>"
       ]
      },
      {
       "javascript": [
        "$('div#5825bc50-3398-496f-85b2-21deb97b1456').text(' 91%');"
       ],
       "metadata": {},
       "output_type": "display_data",
       "text": [
        "<IPython.core.display.Javascript at 0x1f6d9828>"
       ]
      },
      {
       "javascript": [
        "\n",
        "        var $myPB = $(\"div#ea132cbe-5bc0-4760-8d30-2c0b2cb810c8\")\n",
        "        if ($myPB.hasClass('ui-progressbar')) {\n",
        "            $myPB.progressbar('value', 90);\n",
        "        } else {\n",
        "            $myPB.progressbar({value: 0, max: 98});\n",
        "        }\n",
        "        "
       ],
       "metadata": {},
       "output_type": "display_data",
       "text": [
        "<IPython.core.display.Javascript at 0x1f6d9898>"
       ]
      },
      {
       "javascript": [
        "$('div#598b6361-b00f-4548-bbe4-c7361ed25cf9').text('ETA:  0:00:00');"
       ],
       "metadata": {},
       "output_type": "display_data",
       "text": [
        "<IPython.core.display.Javascript at 0x1f6d9860>"
       ]
      },
      {
       "javascript": [
        "$('div#5630781f-4064-40fc-88c1-052c5107adcd').text('91 of 98');"
       ],
       "metadata": {},
       "output_type": "display_data",
       "text": [
        "<IPython.core.display.Javascript at 0x1fb1b5c0>"
       ]
      },
      {
       "javascript": [
        "$('div#5825bc50-3398-496f-85b2-21deb97b1456').text(' 92%');"
       ],
       "metadata": {},
       "output_type": "display_data",
       "text": [
        "<IPython.core.display.Javascript at 0x1fb1b5f8>"
       ]
      },
      {
       "javascript": [
        "\n",
        "        var $myPB = $(\"div#ea132cbe-5bc0-4760-8d30-2c0b2cb810c8\")\n",
        "        if ($myPB.hasClass('ui-progressbar')) {\n",
        "            $myPB.progressbar('value', 91);\n",
        "        } else {\n",
        "            $myPB.progressbar({value: 0, max: 98});\n",
        "        }\n",
        "        "
       ],
       "metadata": {},
       "output_type": "display_data",
       "text": [
        "<IPython.core.display.Javascript at 0x1fb1b668>"
       ]
      },
      {
       "javascript": [
        "$('div#598b6361-b00f-4548-bbe4-c7361ed25cf9').text('ETA:  0:00:00');"
       ],
       "metadata": {},
       "output_type": "display_data",
       "text": [
        "<IPython.core.display.Javascript at 0x1fb1b630>"
       ]
      },
      {
       "javascript": [
        "$('div#5630781f-4064-40fc-88c1-052c5107adcd').text('92 of 98');"
       ],
       "metadata": {},
       "output_type": "display_data",
       "text": [
        "<IPython.core.display.Javascript at 0x1fb1b940>"
       ]
      },
      {
       "javascript": [
        "$('div#5825bc50-3398-496f-85b2-21deb97b1456').text(' 93%');"
       ],
       "metadata": {},
       "output_type": "display_data",
       "text": [
        "<IPython.core.display.Javascript at 0x1fb1b978>"
       ]
      },
      {
       "javascript": [
        "\n",
        "        var $myPB = $(\"div#ea132cbe-5bc0-4760-8d30-2c0b2cb810c8\")\n",
        "        if ($myPB.hasClass('ui-progressbar')) {\n",
        "            $myPB.progressbar('value', 92);\n",
        "        } else {\n",
        "            $myPB.progressbar({value: 0, max: 98});\n",
        "        }\n",
        "        "
       ],
       "metadata": {},
       "output_type": "display_data",
       "text": [
        "<IPython.core.display.Javascript at 0x1fb1b9e8>"
       ]
      },
      {
       "javascript": [
        "$('div#598b6361-b00f-4548-bbe4-c7361ed25cf9').text('ETA:  0:00:00');"
       ],
       "metadata": {},
       "output_type": "display_data",
       "text": [
        "<IPython.core.display.Javascript at 0x1fb1b9e8>"
       ]
      },
      {
       "javascript": [
        "$('div#5630781f-4064-40fc-88c1-052c5107adcd').text('93 of 98');"
       ],
       "metadata": {},
       "output_type": "display_data",
       "text": [
        "<IPython.core.display.Javascript at 0x1fb1ba58>"
       ]
      },
      {
       "javascript": [
        "$('div#5825bc50-3398-496f-85b2-21deb97b1456').text(' 94%');"
       ],
       "metadata": {},
       "output_type": "display_data",
       "text": [
        "<IPython.core.display.Javascript at 0x1fb1b978>"
       ]
      },
      {
       "javascript": [
        "\n",
        "        var $myPB = $(\"div#ea132cbe-5bc0-4760-8d30-2c0b2cb810c8\")\n",
        "        if ($myPB.hasClass('ui-progressbar')) {\n",
        "            $myPB.progressbar('value', 93);\n",
        "        } else {\n",
        "            $myPB.progressbar({value: 0, max: 98});\n",
        "        }\n",
        "        "
       ],
       "metadata": {},
       "output_type": "display_data",
       "text": [
        "<IPython.core.display.Javascript at 0x1fb1ba20>"
       ]
      },
      {
       "javascript": [
        "$('div#598b6361-b00f-4548-bbe4-c7361ed25cf9').text('ETA:  0:00:00');"
       ],
       "metadata": {},
       "output_type": "display_data",
       "text": [
        "<IPython.core.display.Javascript at 0x1fb1ba20>"
       ]
      },
      {
       "javascript": [
        "$('div#5630781f-4064-40fc-88c1-052c5107adcd').text('94 of 98');"
       ],
       "metadata": {},
       "output_type": "display_data",
       "text": [
        "<IPython.core.display.Javascript at 0x1fb1bba8>"
       ]
      },
      {
       "javascript": [
        "$('div#5825bc50-3398-496f-85b2-21deb97b1456').text(' 95%');"
       ],
       "metadata": {},
       "output_type": "display_data",
       "text": [
        "<IPython.core.display.Javascript at 0x1fb1bb00>"
       ]
      },
      {
       "javascript": [
        "\n",
        "        var $myPB = $(\"div#ea132cbe-5bc0-4760-8d30-2c0b2cb810c8\")\n",
        "        if ($myPB.hasClass('ui-progressbar')) {\n",
        "            $myPB.progressbar('value', 94);\n",
        "        } else {\n",
        "            $myPB.progressbar({value: 0, max: 98});\n",
        "        }\n",
        "        "
       ],
       "metadata": {},
       "output_type": "display_data",
       "text": [
        "<IPython.core.display.Javascript at 0x1fb1bb70>"
       ]
      },
      {
       "javascript": [
        "$('div#598b6361-b00f-4548-bbe4-c7361ed25cf9').text('ETA:  0:00:00');"
       ],
       "metadata": {},
       "output_type": "display_data",
       "text": [
        "<IPython.core.display.Javascript at 0x1fb1bb38>"
       ]
      },
      {
       "javascript": [
        "$('div#5630781f-4064-40fc-88c1-052c5107adcd').text('95 of 98');"
       ],
       "metadata": {},
       "output_type": "display_data",
       "text": [
        "<IPython.core.display.Javascript at 0x1fb1bc88>"
       ]
      },
      {
       "javascript": [
        "$('div#5825bc50-3398-496f-85b2-21deb97b1456').text(' 96%');"
       ],
       "metadata": {},
       "output_type": "display_data",
       "text": [
        "<IPython.core.display.Javascript at 0x1fb1bcc0>"
       ]
      },
      {
       "javascript": [
        "\n",
        "        var $myPB = $(\"div#ea132cbe-5bc0-4760-8d30-2c0b2cb810c8\")\n",
        "        if ($myPB.hasClass('ui-progressbar')) {\n",
        "            $myPB.progressbar('value', 95);\n",
        "        } else {\n",
        "            $myPB.progressbar({value: 0, max: 98});\n",
        "        }\n",
        "        "
       ],
       "metadata": {},
       "output_type": "display_data",
       "text": [
        "<IPython.core.display.Javascript at 0x1fb1bcc0>"
       ]
      },
      {
       "javascript": [
        "$('div#598b6361-b00f-4548-bbe4-c7361ed25cf9').text('ETA:  0:00:00');"
       ],
       "metadata": {},
       "output_type": "display_data",
       "text": [
        "<IPython.core.display.Javascript at 0x1fb1bd30>"
       ]
      },
      {
       "javascript": [
        "$('div#5630781f-4064-40fc-88c1-052c5107adcd').text('96 of 98');"
       ],
       "metadata": {},
       "output_type": "display_data",
       "text": [
        "<IPython.core.display.Javascript at 0x202c1b38>"
       ]
      },
      {
       "javascript": [
        "$('div#5825bc50-3398-496f-85b2-21deb97b1456').text(' 97%');"
       ],
       "metadata": {},
       "output_type": "display_data",
       "text": [
        "<IPython.core.display.Javascript at 0x202c1b70>"
       ]
      },
      {
       "javascript": [
        "\n",
        "        var $myPB = $(\"div#ea132cbe-5bc0-4760-8d30-2c0b2cb810c8\")\n",
        "        if ($myPB.hasClass('ui-progressbar')) {\n",
        "            $myPB.progressbar('value', 96);\n",
        "        } else {\n",
        "            $myPB.progressbar({value: 0, max: 98});\n",
        "        }\n",
        "        "
       ],
       "metadata": {},
       "output_type": "display_data",
       "text": [
        "<IPython.core.display.Javascript at 0x202c1be0>"
       ]
      },
      {
       "javascript": [
        "$('div#598b6361-b00f-4548-bbe4-c7361ed25cf9').text('ETA:  0:00:00');"
       ],
       "metadata": {},
       "output_type": "display_data",
       "text": [
        "<IPython.core.display.Javascript at 0x202c1ba8>"
       ]
      },
      {
       "javascript": [
        "$('div#5630781f-4064-40fc-88c1-052c5107adcd').text('97 of 98');"
       ],
       "metadata": {},
       "output_type": "display_data",
       "text": [
        "<IPython.core.display.Javascript at 0x202d51d0>"
       ]
      },
      {
       "javascript": [
        "$('div#5825bc50-3398-496f-85b2-21deb97b1456').text(' 98%');"
       ],
       "metadata": {},
       "output_type": "display_data",
       "text": [
        "<IPython.core.display.Javascript at 0x202d5208>"
       ]
      },
      {
       "javascript": [
        "\n",
        "        var $myPB = $(\"div#ea132cbe-5bc0-4760-8d30-2c0b2cb810c8\")\n",
        "        if ($myPB.hasClass('ui-progressbar')) {\n",
        "            $myPB.progressbar('value', 97);\n",
        "        } else {\n",
        "            $myPB.progressbar({value: 0, max: 98});\n",
        "        }\n",
        "        "
       ],
       "metadata": {},
       "output_type": "display_data",
       "text": [
        "<IPython.core.display.Javascript at 0x202d5278>"
       ]
      },
      {
       "javascript": [
        "$('div#598b6361-b00f-4548-bbe4-c7361ed25cf9').text('ETA:  0:00:00');"
       ],
       "metadata": {},
       "output_type": "display_data",
       "text": [
        "<IPython.core.display.Javascript at 0x202d5240>"
       ]
      },
      {
       "javascript": [
        "$('div#5630781f-4064-40fc-88c1-052c5107adcd').text('98 of 98');"
       ],
       "metadata": {},
       "output_type": "display_data",
       "text": [
        "<IPython.core.display.Javascript at 0x202d5d30>"
       ]
      },
      {
       "javascript": [
        "$('div#5825bc50-3398-496f-85b2-21deb97b1456').text('100%');"
       ],
       "metadata": {},
       "output_type": "display_data",
       "text": [
        "<IPython.core.display.Javascript at 0x202d5d68>"
       ]
      },
      {
       "javascript": [
        "\n",
        "        var $myPB = $(\"div#ea132cbe-5bc0-4760-8d30-2c0b2cb810c8\")\n",
        "        if ($myPB.hasClass('ui-progressbar')) {\n",
        "            $myPB.progressbar('value', 98);\n",
        "        } else {\n",
        "            $myPB.progressbar({value: 0, max: 98});\n",
        "        }\n",
        "        "
       ],
       "metadata": {},
       "output_type": "display_data",
       "text": [
        "<IPython.core.display.Javascript at 0x202d5dd8>"
       ]
      },
      {
       "javascript": [
        "$('div#598b6361-b00f-4548-bbe4-c7361ed25cf9').text('ETA:  0:00:00');"
       ],
       "metadata": {},
       "output_type": "display_data",
       "text": [
        "<IPython.core.display.Javascript at 0x202d5da0>"
       ]
      },
      {
       "javascript": [
        "$('div#5630781f-4064-40fc-88c1-052c5107adcd').text('98 of 98');"
       ],
       "metadata": {},
       "output_type": "display_data",
       "text": [
        "<IPython.core.display.Javascript at 0x1ab6fac8>"
       ]
      },
      {
       "javascript": [
        "$('div#5825bc50-3398-496f-85b2-21deb97b1456').text('100%');"
       ],
       "metadata": {},
       "output_type": "display_data",
       "text": [
        "<IPython.core.display.Javascript at 0x202d5da0>"
       ]
      },
      {
       "javascript": [
        "\n",
        "        var $myPB = $(\"div#ea132cbe-5bc0-4760-8d30-2c0b2cb810c8\")\n",
        "        if ($myPB.hasClass('ui-progressbar')) {\n",
        "            $myPB.progressbar('value', 98);\n",
        "        } else {\n",
        "            $myPB.progressbar({value: 0, max: 98});\n",
        "        }\n",
        "        "
       ],
       "metadata": {},
       "output_type": "display_data",
       "text": [
        "<IPython.core.display.Javascript at 0x202d5e80>"
       ]
      },
      {
       "javascript": [
        "$('div#598b6361-b00f-4548-bbe4-c7361ed25cf9').text('Time: 0:00:04');"
       ],
       "metadata": {},
       "output_type": "display_data",
       "text": [
        "<IPython.core.display.Javascript at 0x202d5e48>"
       ]
      },
      {
       "javascript": [
        "var element = document.getElementById('43ab2cb2-c1e0-4635-b37e-bd213fc9bd8a');\n",
        "                    var parent = element.parentNode\n",
        "                    parent.removeChild(element);\n",
        "                    parent.parentElement.remove();"
       ],
       "metadata": {},
       "output_type": "display_data",
       "text": [
        "<IPython.core.display.Javascript at 0x35aa518>"
       ]
      },
      {
       "javascript": [
        "this.cleanProgressBar(['43ab2cb2-c1e0-4635-b37e-bd213fc9bd8a', '5630781f-4064-40fc-88c1-052c5107adcd', '5825bc50-3398-496f-85b2-21deb97b1456', 'ea132cbe-5bc0-4760-8d30-2c0b2cb810c8', '598b6361-b00f-4548-bbe4-c7361ed25cf9'])"
       ],
       "metadata": {},
       "output_type": "display_data",
       "text": [
        "<IPython.core.display.Javascript at 0x1ab6fac8>"
       ]
      }
     ],
     "prompt_number": 2
    },
    {
     "cell_type": "code",
     "collapsed": false,
     "input": [
      "# Creating a master list of countries to compare to and filter from the library pycontry. \n",
      "# Defines a dictionary with two arrays, common names and official names.\n",
      "\n",
      "def load_countries():\n",
      "    countries = {\n",
      "        'common':[],\n",
      "        'official': []\n",
      "    }\n",
      "\n",
      "    for c in pc.countries:\n",
      "        countries['common'].append(c.name)\n",
      "        if hasattr(c,'official_name'):\n",
      "            countries['official'].append(c.official_name)\n",
      "    print \"Load_countries() DONE!\"\n",
      "    return countries\n",
      "\n",
      "countries = load_countries()"
     ],
     "language": "python",
     "metadata": {},
     "outputs": [
      {
       "output_type": "stream",
       "stream": "stdout",
       "text": [
        "Load_countries() DONE!\n"
       ]
      }
     ],
     "prompt_number": 3
    },
    {
     "cell_type": "code",
     "collapsed": false,
     "input": [
      "def is_heading(para):\n",
      "   return len(para)==1 and para[0][-1] not in ['.', ':', '\"'] and para[0][0] not in ['*', '(', '\"']"
     ],
     "language": "python",
     "metadata": {},
     "outputs": [],
     "prompt_number": 4
    },
    {
     "cell_type": "code",
     "collapsed": false,
     "input": [
      "#Processes the content of the file and returns the tagged sentences from it.\n",
      "def process_and_tag_content(content, sentences=False): \n",
      "    print \"Load_countries() Started...\"\n",
      "    if not sentences:\n",
      "        paragraphs = [w for w in content if is_heading(w) is False and len(w)!=1]\n",
      "        untokenized_sent = [s for w in paragraphs for s in w]\n",
      "    else:\n",
      "        untokenized_sent = sentences\n",
      "    sents = [mun.tokenize_text(s) for s in untokenized_sent]\n",
      "    print \"process_and_tag_content() DONE!\"\n",
      "    return mun.tag_pos_sentences(sents)"
     ],
     "language": "python",
     "metadata": {},
     "outputs": [],
     "prompt_number": 5
    },
    {
     "cell_type": "code",
     "collapsed": false,
     "input": [
      "# Processes the tagged sentences to get NER entities for analysis. \n",
      "def get_ner_dictionary_for_analysis(text):\n",
      "    print \"get_ner_dictionary_for_analysis() Started...\"\n",
      "    entities = []\n",
      "    for sentence in text:\n",
      "        chunks = nltk.ne_chunk(sentence)\n",
      "        entities.extend([chunk for chunk in chunks if hasattr(chunk, 'node')])\n",
      "\n",
      "    # Creating NER main dictionary to analyze and join with MUN library results\n",
      "    ner_dictionary = {\n",
      "        'GPE':[],\n",
      "        'PERSON' :[],\n",
      "        'ORGANIZATION' :[],\n",
      "        'GSP':[]\n",
      "    }\n",
      "    \n",
      "    for e in entities:\n",
      "        if not ner_dictionary.has_key(e.node):\n",
      "            ner_dictionary[e.node]=[]\n",
      "        phrase =[]\n",
      "        for item in e:\n",
      "            phrase.append(item[0])\n",
      "        ner_dictionary[e.node].append(' '.join(phrase))\n",
      "    \n",
      "    print \"get_ner_dictionary_for_analysis() DONE!\"\n",
      "    return ner_dictionary,entities"
     ],
     "language": "python",
     "metadata": {},
     "outputs": [],
     "prompt_number": 6
    },
    {
     "cell_type": "code",
     "collapsed": false,
     "input": [
      "#Selects the countries from the noun phrases detected that match the official list of countries from pycountry\n",
      "def get_filtered_countries(chunks):\n",
      "    print \"get_filtered_countries() Started...\"\n",
      "    filtered_countries = []\n",
      "    fd = nltk.FreqDist(chunks)\n",
      "    for f in fd.items():\n",
      "        for country in countries['common']:\n",
      "            if country.find(f[0]) != -1:\n",
      "                filtered_countries.append(f)\n",
      "\n",
      "    filtered_countries = nltk.FreqDist(filtered_countries).items()\n",
      "    filtered_countries = [w[0] for w in filtered_countries]\n",
      "    print \"get_filtered_countries() DONE!\"\n",
      "    return filtered_countries"
     ],
     "language": "python",
     "metadata": {},
     "outputs": [],
     "prompt_number": 7
    },
    {
     "cell_type": "code",
     "collapsed": false,
     "input": [
      "#Overwritten function from MUN Library that process chunks but without pandas for the output\n",
      "def pa_process_chunks(sentences=None, sent_tokens=None, tagged_sentences = None,  remove_months = True, tagger = None):\n",
      "    print \"pa_process_chunks() Started...\"\n",
      "    if not tagged_sentences:\n",
      "        sent_tokens = sent_tokens if sent_tokens else \\\n",
      "            mun.tokenize_sentence_text(sentences, alnum_only=False, remove_stopwords=False, use_pattern = 2)\n",
      "        tagger = mun.get_brown_tagger(include_location_tagger=True)\n",
      "    tagged_sentences = tagged_sentences if tagged_sentences else mun.tag_pos_sentences(sent_tokens, tagger=tagger, show_pbar=mun.show_pbars)\n",
      "    #get the proper noun chunks from teh chunker\n",
      "    nchunks = mun.get_chunks(tagged_sentences, chunker=mun.get_chunker(tag_set='brown', target='PNS'), target = 'PNS', show_pbar=mun.show_pbars)\n",
      "    nchunks = mun.extract_target_from_chunks(nchunks, target='PNS')\n",
      "    # there are many month names mentioned in the FrewDist, I am removing them because I don' think they add much value\n",
      "    if remove_months:\n",
      "        import calendar\n",
      "        nchunks = [chunk for chunk in nchunks if len(mun.remove_punctuation(chunk))>1 and chunk not in calendar.month_name]\n",
      "    \n",
      "#     vchunks = mun.get_chunks(tagged_sentences, chunker=mun.get_chunker(tag_set='brown', target='VNS'), target = 'VNS', show_pbar=mun.show_pbars)\n",
      "#     vchunks = mun.extract_target_from_chunks(vchunks, target='VNS')\n",
      "\n",
      "    nchunks_fd = nltk.FreqDist(nchunks)\n",
      "    #vchunks_fd = nltk.FreqDist(vchunks)\n",
      "    \n",
      "    print \"pa_process_chunks() DONE!\"\n",
      "    return nchunks_fd #,vchunks_fd\n",
      "\n"
     ],
     "language": "python",
     "metadata": {},
     "outputs": [],
     "prompt_number": 8
    },
    {
     "cell_type": "code",
     "collapsed": false,
     "input": [
      "#Creating a Frequency Distribution with the NER entities\n",
      "\n",
      "def get_ner_entities_list(ner_entities):\n",
      "    print \"get_ner_entities_list() Started...\"\n",
      "    entities = []\n",
      "    for node in ner_entities:\n",
      "        phrase = []\n",
      "        for element in node:\n",
      "            phrase.append(element[0])\n",
      "        entities.append((node.node,' '.join(phrase)))\n",
      "    print \"get_ner_entities_list() DONE!\"\n",
      "    return entities"
     ],
     "language": "python",
     "metadata": {},
     "outputs": [],
     "prompt_number": 9
    },
    {
     "cell_type": "code",
     "collapsed": false,
     "input": [
      "# Returns the list of countries/continents joined from the NER GEP list and the MUN Library chunker.\n",
      "\n",
      "def get_ner_countries(nchunks, ner_chunks):\n",
      "    print \"get_ner_countries() Started...\"\n",
      "    all_countries = get_filtered_countries(nchunks) + get_filtered_countries(ner_chunks)\n",
      "    fd = nltk.FreqDist(all_countries)\n",
      "    all_countries = []\n",
      "    for c in fd.keys():\n",
      "        all_countries.append(c[0])\n",
      "    fd = nltk.FreqDist(all_countries).keys()\n",
      "    fd.sort()\n",
      "    print \"get_ner_countries() DONE!\"\n",
      "    return fd"
     ],
     "language": "python",
     "metadata": {},
     "outputs": [],
     "prompt_number": 10
    },
    {
     "cell_type": "code",
     "collapsed": false,
     "input": [
      "def get_ner_organizations(nchunks,ner_chunks):\n",
      "    print \"get_ner_organizations() Started...\"\n",
      "    unorgs = ['Commission','General Assembly','Secretariat','Committee', 'United Nations', 'Assembly','Convention ']\n",
      "    norgs = [(w[0][1],w[1]) for w in ner_chunks if w[0][0] == 'ORGANIZATION']\n",
      "    all_orgs = nchunks + norgs\n",
      "    all_orgs = [w[0] for w in all_orgs]\n",
      "    all_orgs = nltk.FreqDist(all_orgs).keys()\n",
      "    results = []\n",
      "    for w in all_orgs:\n",
      "        for org in unorgs:\n",
      "            if type(w) == tuple:\n",
      "                print w\n",
      "            if w.find(org) !=-1 and analyze_for_monograms(w) and w != org:\n",
      "                results.append(w)\n",
      "    print \"get_ner_organizations() DONE!\"\n",
      "    return nltk.FreqDist(results).keys()\n",
      "\n",
      "# Checks a text to make sure it isn't just a \n",
      "def analyze_for_monograms(text):\n",
      "    tokens = nltk.word_tokenize(text)\n",
      "    if len(tokens[0])>1 and len(tokens[-1])>1:\n",
      "        return True\n",
      "    else: \n",
      "        return False\n",
      "\n"
     ],
     "language": "python",
     "metadata": {},
     "outputs": [],
     "prompt_number": 11
    },
    {
     "cell_type": "code",
     "collapsed": false,
     "input": [
      "import datetime\n",
      "def ner_document_analysis(filename=False, summary=False):\n",
      "    start = datetime.datetime.now()\n",
      "        \n",
      "    # REPLACE  ALL BELOW WITH FUNCTION TO LOAD A SPECIFIC DOCUMENT\n",
      "    if not filename:\n",
      "        text = default_doc\n",
      "    else:\n",
      "         text = mun.get_document(filename)\n",
      "    # ^^^^^^ REPLACE ABOVE WITH FUNCTION TO LOAD A SPECIFIC DOCUMENT  \n",
      "    \n",
      "    if not summary:\n",
      "        tagged_sentences = process_and_tag_content(text['content'])\n",
      "    else:\n",
      "        tagged_sentences = process_and_tag_content(sentences=summary)\n",
      "        \n",
      "    ner_dictionary,ner_entities = get_ner_dictionary_for_analysis(tagged_sentences)\n",
      "    \n",
      "    fd_gpe = nltk.FreqDist(ner_dictionary['GPE'])\n",
      "    \n",
      "    nchunks = pa_process_chunks(sentences=untokenized_sent)\n",
      "    \n",
      "    ner_fd_entities = nltk.FreqDist(get_ner_entities_list(ner_entities))\n",
      "    \n",
      "    allcountries = get_ner_countries(nchunks,ner_dictionary['GPE'])\n",
      "    orgs = get_ner_organizations(nchunks.items(), ner_fd_entities.items())\n",
      "    \n",
      "    print \"Elapsed time: \" + str(datetime.datetime.now()-start)\n",
      "    return orgs,allcountries"
     ],
     "language": "python",
     "metadata": {},
     "outputs": [],
     "prompt_number": 14
    },
    {
     "cell_type": "code",
     "collapsed": false,
     "input": [
      "ner_orgs,ner_countries = ner_document_analysis()"
     ],
     "language": "python",
     "metadata": {},
     "outputs": [
      {
       "output_type": "stream",
       "stream": "stdout",
       "text": [
        "Load_countries() Started...\n",
        "process_and_tag_content() DONE!"
       ]
      },
      {
       "output_type": "stream",
       "stream": "stdout",
       "text": [
        "\n"
       ]
      },
      {
       "javascript": [
        "//8ed7cda3-1384-49fc-b519-dc92b22291d8\n",
        "$(\"head\").append(\"<style> td.pb_widget {     width: auto; } td.pb_widget_fill {     width: 100%; } table.pb {     font-family: monospace;     border: 0;     margin: 0; } table.pb tr { border: 0; } table.pb td {     white-space: nowrap;     border: 0; } div.pb {     border: 1px solid #ddd;     border-radius: 3px; } div.pb_bar {     height: 1.5em; } </style>\")"
       ],
       "metadata": {},
       "output_type": "display_data",
       "text": [
        "<IPython.core.display.Javascript at 0x1f6f1d68>"
       ]
      },
      {
       "javascript": [
        "\n",
        "                  // 8ed7cda3-1384-49fc-b519-dc92b22291d8 -- used to remove this code blob in the end\n",
        "                  IPython.OutputArea.prototype.cleanProgressBar = function(uuids) {\n",
        "                      // filter by uuid-strings \n",
        "                      var myfilter = function(output) { \n",
        "                          var nuids = uuids.length;\n",
        "                          for (var i=0; i<nuids; i++) {\n",
        "                              if (output.hasOwnProperty('html')) {\n",
        "                                  if (output.html.indexOf(uuids[i]) != -1) {\n",
        "                                      return false;\n",
        "                                  }\n",
        "                              }\n",
        "                              if (output.hasOwnProperty('javascript')) {\n",
        "                                  if (output.javascript.indexOf(uuids[i]) != -1) {\n",
        "                                      return false;\n",
        "                                  }\n",
        "                              }\n",
        "                          }\n",
        "                          // keep all others\n",
        "                          return true;\n",
        "                      };\n",
        "\n",
        "                      // Filter the ouputs\n",
        "                      this.outputs = this.outputs.filter(myfilter);\n",
        "                };\n",
        "                "
       ],
       "metadata": {},
       "output_type": "display_data",
       "text": [
        "<IPython.core.display.Javascript at 0x207e00f0>"
       ]
      },
      {
       "html": [
        "<div class=\"pb\" id=\"8ed7cda3-1384-49fc-b519-dc92b22291d8\"><table class=\"pb ui-widget\"><tr>\n",
        "<td class=\"pb_widget\">tagging sentences</td>\n",
        "<td class=\"pb_widget\"><div id=\"ec15a385-4492-4751-9f6b-3c45c1e1ea3a\">0 of 1562</div></td>\n",
        "<td class=\"pb_widget\"><div id=\"2667ddec-0f50-44a3-b49b-127d8748d437\">  0%</div></td>\n",
        "<td class=\"pb_widget_fill\">\n",
        "        <div class=\"pb_bar\" id=\"86be5594-6d6d-4a34-a00e-e8577f3fa4c2\"></div>\n",
        "        <script type=\"text/javascript\">\n",
        "            $(\"div#86be5594-6d6d-4a34-a00e-e8577f3fa4c2\").progressbar({value: 0, max: 1562});\n",
        "        </script>\n",
        "        </td>\n",
        "<td class=\"pb_widget\"><div id=\"7407cab6-c6fd-4c69-ac19-32a793526183\">ETA:  --:--:--</div></td>\n",
        "</tr></table><div>"
       ],
       "metadata": {},
       "output_type": "display_data",
       "text": [
        "<IPython.core.display.HTML at 0x1f6f1d68>"
       ]
      },
      {
       "javascript": [
        "$('div#ec15a385-4492-4751-9f6b-3c45c1e1ea3a').text('16 of 1562');"
       ],
       "metadata": {},
       "output_type": "display_data",
       "text": [
        "<IPython.core.display.Javascript at 0x207e0160>"
       ]
      },
      {
       "javascript": [
        "$('div#2667ddec-0f50-44a3-b49b-127d8748d437').text('  1%');"
       ],
       "metadata": {},
       "output_type": "display_data",
       "text": [
        "<IPython.core.display.Javascript at 0x207e0240>"
       ]
      },
      {
       "javascript": [
        "\n",
        "        var $myPB = $(\"div#86be5594-6d6d-4a34-a00e-e8577f3fa4c2\")\n",
        "        if ($myPB.hasClass('ui-progressbar')) {\n",
        "            $myPB.progressbar('value', 16);\n",
        "        } else {\n",
        "            $myPB.progressbar({value: 0, max: 1562});\n",
        "        }\n",
        "        "
       ],
       "metadata": {},
       "output_type": "display_data",
       "text": [
        "<IPython.core.display.Javascript at 0x207e02b0>"
       ]
      },
      {
       "javascript": [
        "$('div#7407cab6-c6fd-4c69-ac19-32a793526183').text('ETA:  0:00:38');"
       ],
       "metadata": {},
       "output_type": "display_data",
       "text": [
        "<IPython.core.display.Javascript at 0x1f6f1d68>"
       ]
      },
      {
       "javascript": [
        "$('div#ec15a385-4492-4751-9f6b-3c45c1e1ea3a').text('32 of 1562');"
       ],
       "metadata": {},
       "output_type": "display_data",
       "text": [
        "<IPython.core.display.Javascript at 0x207e02b0>"
       ]
      },
      {
       "javascript": [
        "$('div#2667ddec-0f50-44a3-b49b-127d8748d437').text('  2%');"
       ],
       "metadata": {},
       "output_type": "display_data",
       "text": [
        "<IPython.core.display.Javascript at 0x207e0320>"
       ]
      },
      {
       "javascript": [
        "\n",
        "        var $myPB = $(\"div#86be5594-6d6d-4a34-a00e-e8577f3fa4c2\")\n",
        "        if ($myPB.hasClass('ui-progressbar')) {\n",
        "            $myPB.progressbar('value', 32);\n",
        "        } else {\n",
        "            $myPB.progressbar({value: 0, max: 1562});\n",
        "        }\n",
        "        "
       ],
       "metadata": {},
       "output_type": "display_data",
       "text": [
        "<IPython.core.display.Javascript at 0x207e0278>"
       ]
      },
      {
       "javascript": [
        "$('div#7407cab6-c6fd-4c69-ac19-32a793526183').text('ETA:  0:00:28');"
       ],
       "metadata": {},
       "output_type": "display_data",
       "text": [
        "<IPython.core.display.Javascript at 0x1f6f1d68>"
       ]
      },
      {
       "javascript": [
        "$('div#ec15a385-4492-4751-9f6b-3c45c1e1ea3a').text('48 of 1562');"
       ],
       "metadata": {},
       "output_type": "display_data",
       "text": [
        "<IPython.core.display.Javascript at 0x207e0278>"
       ]
      },
      {
       "javascript": [
        "$('div#2667ddec-0f50-44a3-b49b-127d8748d437').text('  3%');"
       ],
       "metadata": {},
       "output_type": "display_data",
       "text": [
        "<IPython.core.display.Javascript at 0x207e0390>"
       ]
      },
      {
       "javascript": [
        "\n",
        "        var $myPB = $(\"div#86be5594-6d6d-4a34-a00e-e8577f3fa4c2\")\n",
        "        if ($myPB.hasClass('ui-progressbar')) {\n",
        "            $myPB.progressbar('value', 48);\n",
        "        } else {\n",
        "            $myPB.progressbar({value: 0, max: 1562});\n",
        "        }\n",
        "        "
       ],
       "metadata": {},
       "output_type": "display_data",
       "text": [
        "<IPython.core.display.Javascript at 0x207e0160>"
       ]
      },
      {
       "javascript": [
        "$('div#7407cab6-c6fd-4c69-ac19-32a793526183').text('ETA:  0:00:28');"
       ],
       "metadata": {},
       "output_type": "display_data",
       "text": [
        "<IPython.core.display.Javascript at 0x1f6f1d68>"
       ]
      },
      {
       "javascript": [
        "$('div#ec15a385-4492-4751-9f6b-3c45c1e1ea3a').text('64 of 1562');"
       ],
       "metadata": {},
       "output_type": "display_data",
       "text": [
        "<IPython.core.display.Javascript at 0x207e0160>"
       ]
      },
      {
       "javascript": [
        "$('div#2667ddec-0f50-44a3-b49b-127d8748d437').text('  4%');"
       ],
       "metadata": {},
       "output_type": "display_data",
       "text": [
        "<IPython.core.display.Javascript at 0x207e02e8>"
       ]
      },
      {
       "javascript": [
        "\n",
        "        var $myPB = $(\"div#86be5594-6d6d-4a34-a00e-e8577f3fa4c2\")\n",
        "        if ($myPB.hasClass('ui-progressbar')) {\n",
        "            $myPB.progressbar('value', 64);\n",
        "        } else {\n",
        "            $myPB.progressbar({value: 0, max: 1562});\n",
        "        }\n",
        "        "
       ],
       "metadata": {},
       "output_type": "display_data",
       "text": [
        "<IPython.core.display.Javascript at 0x207e02b0>"
       ]
      },
      {
       "javascript": [
        "$('div#7407cab6-c6fd-4c69-ac19-32a793526183').text('ETA:  0:00:28');"
       ],
       "metadata": {},
       "output_type": "display_data",
       "text": [
        "<IPython.core.display.Javascript at 0x1f6f1d68>"
       ]
      },
      {
       "javascript": [
        "$('div#ec15a385-4492-4751-9f6b-3c45c1e1ea3a').text('80 of 1562');"
       ],
       "metadata": {},
       "output_type": "display_data",
       "text": [
        "<IPython.core.display.Javascript at 0x207e00f0>"
       ]
      },
      {
       "javascript": [
        "$('div#2667ddec-0f50-44a3-b49b-127d8748d437').text('  5%');"
       ],
       "metadata": {},
       "output_type": "display_data",
       "text": [
        "<IPython.core.display.Javascript at 0x207e02b0>"
       ]
      },
      {
       "javascript": [
        "\n",
        "        var $myPB = $(\"div#86be5594-6d6d-4a34-a00e-e8577f3fa4c2\")\n",
        "        if ($myPB.hasClass('ui-progressbar')) {\n",
        "            $myPB.progressbar('value', 80);\n",
        "        } else {\n",
        "            $myPB.progressbar({value: 0, max: 1562});\n",
        "        }\n",
        "        "
       ],
       "metadata": {},
       "output_type": "display_data",
       "text": [
        "<IPython.core.display.Javascript at 0x207e0240>"
       ]
      },
      {
       "javascript": [
        "$('div#7407cab6-c6fd-4c69-ac19-32a793526183').text('ETA:  0:00:28');"
       ],
       "metadata": {},
       "output_type": "display_data",
       "text": [
        "<IPython.core.display.Javascript at 0x207e0320>"
       ]
      },
      {
       "javascript": [
        "$('div#ec15a385-4492-4751-9f6b-3c45c1e1ea3a').text('96 of 1562');"
       ],
       "metadata": {},
       "output_type": "display_data",
       "text": [
        "<IPython.core.display.Javascript at 0x207e0320>"
       ]
      },
      {
       "javascript": [
        "$('div#2667ddec-0f50-44a3-b49b-127d8748d437').text('  6%');"
       ],
       "metadata": {},
       "output_type": "display_data",
       "text": [
        "<IPython.core.display.Javascript at 0x207e0320>"
       ]
      },
      {
       "javascript": [
        "\n",
        "        var $myPB = $(\"div#86be5594-6d6d-4a34-a00e-e8577f3fa4c2\")\n",
        "        if ($myPB.hasClass('ui-progressbar')) {\n",
        "            $myPB.progressbar('value', 96);\n",
        "        } else {\n",
        "            $myPB.progressbar({value: 0, max: 1562});\n",
        "        }\n",
        "        "
       ],
       "metadata": {},
       "output_type": "display_data",
       "text": [
        "<IPython.core.display.Javascript at 0x207e0278>"
       ]
      },
      {
       "javascript": [
        "$('div#7407cab6-c6fd-4c69-ac19-32a793526183').text('ETA:  0:00:29');"
       ],
       "metadata": {},
       "output_type": "display_data",
       "text": [
        "<IPython.core.display.Javascript at 0x207e00f0>"
       ]
      },
      {
       "javascript": [
        "$('div#ec15a385-4492-4751-9f6b-3c45c1e1ea3a').text('112 of 1562');"
       ],
       "metadata": {},
       "output_type": "display_data",
       "text": [
        "<IPython.core.display.Javascript at 0x207e0240>"
       ]
      },
      {
       "javascript": [
        "$('div#2667ddec-0f50-44a3-b49b-127d8748d437').text('  7%');"
       ],
       "metadata": {},
       "output_type": "display_data",
       "text": [
        "<IPython.core.display.Javascript at 0x207e02b0>"
       ]
      },
      {
       "javascript": [
        "\n",
        "        var $myPB = $(\"div#86be5594-6d6d-4a34-a00e-e8577f3fa4c2\")\n",
        "        if ($myPB.hasClass('ui-progressbar')) {\n",
        "            $myPB.progressbar('value', 112);\n",
        "        } else {\n",
        "            $myPB.progressbar({value: 0, max: 1562});\n",
        "        }\n",
        "        "
       ],
       "metadata": {},
       "output_type": "display_data",
       "text": [
        "<IPython.core.display.Javascript at 0x207e00f0>"
       ]
      },
      {
       "javascript": [
        "$('div#7407cab6-c6fd-4c69-ac19-32a793526183').text('ETA:  0:00:26');"
       ],
       "metadata": {},
       "output_type": "display_data",
       "text": [
        "<IPython.core.display.Javascript at 0x207e0358>"
       ]
      },
      {
       "javascript": [
        "$('div#ec15a385-4492-4751-9f6b-3c45c1e1ea3a').text('128 of 1562');"
       ],
       "metadata": {},
       "output_type": "display_data",
       "text": [
        "<IPython.core.display.Javascript at 0x207e0358>"
       ]
      },
      {
       "javascript": [
        "$('div#2667ddec-0f50-44a3-b49b-127d8748d437').text('  8%');"
       ],
       "metadata": {},
       "output_type": "display_data",
       "text": [
        "<IPython.core.display.Javascript at 0x207e0358>"
       ]
      },
      {
       "javascript": [
        "\n",
        "        var $myPB = $(\"div#86be5594-6d6d-4a34-a00e-e8577f3fa4c2\")\n",
        "        if ($myPB.hasClass('ui-progressbar')) {\n",
        "            $myPB.progressbar('value', 128);\n",
        "        } else {\n",
        "            $myPB.progressbar({value: 0, max: 1562});\n",
        "        }\n",
        "        "
       ],
       "metadata": {},
       "output_type": "display_data",
       "text": [
        "<IPython.core.display.Javascript at 0x207e0320>"
       ]
      },
      {
       "javascript": [
        "$('div#7407cab6-c6fd-4c69-ac19-32a793526183').text('ETA:  0:00:27');"
       ],
       "metadata": {},
       "output_type": "display_data",
       "text": [
        "<IPython.core.display.Javascript at 0x207e0240>"
       ]
      },
      {
       "javascript": [
        "$('div#ec15a385-4492-4751-9f6b-3c45c1e1ea3a').text('144 of 1562');"
       ],
       "metadata": {},
       "output_type": "display_data",
       "text": [
        "<IPython.core.display.Javascript at 0x207e00f0>"
       ]
      },
      {
       "javascript": [
        "$('div#2667ddec-0f50-44a3-b49b-127d8748d437').text('  9%');"
       ],
       "metadata": {},
       "output_type": "display_data",
       "text": [
        "<IPython.core.display.Javascript at 0x207e02b0>"
       ]
      },
      {
       "javascript": [
        "\n",
        "        var $myPB = $(\"div#86be5594-6d6d-4a34-a00e-e8577f3fa4c2\")\n",
        "        if ($myPB.hasClass('ui-progressbar')) {\n",
        "            $myPB.progressbar('value', 144);\n",
        "        } else {\n",
        "            $myPB.progressbar({value: 0, max: 1562});\n",
        "        }\n",
        "        "
       ],
       "metadata": {},
       "output_type": "display_data",
       "text": [
        "<IPython.core.display.Javascript at 0x207e02b0>"
       ]
      },
      {
       "javascript": [
        "$('div#7407cab6-c6fd-4c69-ac19-32a793526183').text('ETA:  0:00:28');"
       ],
       "metadata": {},
       "output_type": "display_data",
       "text": [
        "<IPython.core.display.Javascript at 0x207e0240>"
       ]
      },
      {
       "javascript": [
        "$('div#ec15a385-4492-4751-9f6b-3c45c1e1ea3a').text('160 of 1562');"
       ],
       "metadata": {},
       "output_type": "display_data",
       "text": [
        "<IPython.core.display.Javascript at 0x207e00f0>"
       ]
      },
      {
       "javascript": [
        "$('div#2667ddec-0f50-44a3-b49b-127d8748d437').text(' 10%');"
       ],
       "metadata": {},
       "output_type": "display_data",
       "text": [
        "<IPython.core.display.Javascript at 0x207e0160>"
       ]
      },
      {
       "javascript": [
        "\n",
        "        var $myPB = $(\"div#86be5594-6d6d-4a34-a00e-e8577f3fa4c2\")\n",
        "        if ($myPB.hasClass('ui-progressbar')) {\n",
        "            $myPB.progressbar('value', 160);\n",
        "        } else {\n",
        "            $myPB.progressbar({value: 0, max: 1562});\n",
        "        }\n",
        "        "
       ],
       "metadata": {},
       "output_type": "display_data",
       "text": [
        "<IPython.core.display.Javascript at 0x207e0240>"
       ]
      },
      {
       "javascript": [
        "$('div#7407cab6-c6fd-4c69-ac19-32a793526183').text('ETA:  0:00:28');"
       ],
       "metadata": {},
       "output_type": "display_data",
       "text": [
        "<IPython.core.display.Javascript at 0x207e0240>"
       ]
      },
      {
       "javascript": [
        "$('div#ec15a385-4492-4751-9f6b-3c45c1e1ea3a').text('176 of 1562');"
       ],
       "metadata": {},
       "output_type": "display_data",
       "text": [
        "<IPython.core.display.Javascript at 0x207e0320>"
       ]
      },
      {
       "javascript": [
        "$('div#2667ddec-0f50-44a3-b49b-127d8748d437').text(' 11%');"
       ],
       "metadata": {},
       "output_type": "display_data",
       "text": [
        "<IPython.core.display.Javascript at 0x207e0320>"
       ]
      },
      {
       "javascript": [
        "\n",
        "        var $myPB = $(\"div#86be5594-6d6d-4a34-a00e-e8577f3fa4c2\")\n",
        "        if ($myPB.hasClass('ui-progressbar')) {\n",
        "            $myPB.progressbar('value', 176);\n",
        "        } else {\n",
        "            $myPB.progressbar({value: 0, max: 1562});\n",
        "        }\n",
        "        "
       ],
       "metadata": {},
       "output_type": "display_data",
       "text": [
        "<IPython.core.display.Javascript at 0x207e0160>"
       ]
      },
      {
       "javascript": [
        "$('div#7407cab6-c6fd-4c69-ac19-32a793526183').text('ETA:  0:00:27');"
       ],
       "metadata": {},
       "output_type": "display_data",
       "text": [
        "<IPython.core.display.Javascript at 0x207e0240>"
       ]
      },
      {
       "javascript": [
        "$('div#ec15a385-4492-4751-9f6b-3c45c1e1ea3a').text('192 of 1562');"
       ],
       "metadata": {},
       "output_type": "display_data",
       "text": [
        "<IPython.core.display.Javascript at 0x207e0358>"
       ]
      },
      {
       "javascript": [
        "$('div#2667ddec-0f50-44a3-b49b-127d8748d437').text(' 12%');"
       ],
       "metadata": {},
       "output_type": "display_data",
       "text": [
        "<IPython.core.display.Javascript at 0x207e0390>"
       ]
      },
      {
       "javascript": [
        "\n",
        "        var $myPB = $(\"div#86be5594-6d6d-4a34-a00e-e8577f3fa4c2\")\n",
        "        if ($myPB.hasClass('ui-progressbar')) {\n",
        "            $myPB.progressbar('value', 192);\n",
        "        } else {\n",
        "            $myPB.progressbar({value: 0, max: 1562});\n",
        "        }\n",
        "        "
       ],
       "metadata": {},
       "output_type": "display_data",
       "text": [
        "<IPython.core.display.Javascript at 0x207e0160>"
       ]
      },
      {
       "javascript": [
        "$('div#7407cab6-c6fd-4c69-ac19-32a793526183').text('ETA:  0:00:26');"
       ],
       "metadata": {},
       "output_type": "display_data",
       "text": [
        "<IPython.core.display.Javascript at 0x207e0160>"
       ]
      },
      {
       "javascript": [
        "$('div#ec15a385-4492-4751-9f6b-3c45c1e1ea3a').text('208 of 1562');"
       ],
       "metadata": {},
       "output_type": "display_data",
       "text": [
        "<IPython.core.display.Javascript at 0x207e0240>"
       ]
      },
      {
       "javascript": [
        "$('div#2667ddec-0f50-44a3-b49b-127d8748d437').text(' 13%');"
       ],
       "metadata": {},
       "output_type": "display_data",
       "text": [
        "<IPython.core.display.Javascript at 0x207e0240>"
       ]
      },
      {
       "javascript": [
        "\n",
        "        var $myPB = $(\"div#86be5594-6d6d-4a34-a00e-e8577f3fa4c2\")\n",
        "        if ($myPB.hasClass('ui-progressbar')) {\n",
        "            $myPB.progressbar('value', 208);\n",
        "        } else {\n",
        "            $myPB.progressbar({value: 0, max: 1562});\n",
        "        }\n",
        "        "
       ],
       "metadata": {},
       "output_type": "display_data",
       "text": [
        "<IPython.core.display.Javascript at 0x207e02b0>"
       ]
      },
      {
       "javascript": [
        "$('div#7407cab6-c6fd-4c69-ac19-32a793526183').text('ETA:  0:00:25');"
       ],
       "metadata": {},
       "output_type": "display_data",
       "text": [
        "<IPython.core.display.Javascript at 0x207e0160>"
       ]
      },
      {
       "javascript": [
        "$('div#ec15a385-4492-4751-9f6b-3c45c1e1ea3a').text('224 of 1562');"
       ],
       "metadata": {},
       "output_type": "display_data",
       "text": [
        "<IPython.core.display.Javascript at 0x207e0358>"
       ]
      },
      {
       "javascript": [
        "$('div#2667ddec-0f50-44a3-b49b-127d8748d437').text(' 14%');"
       ],
       "metadata": {},
       "output_type": "display_data",
       "text": [
        "<IPython.core.display.Javascript at 0x207e0390>"
       ]
      },
      {
       "javascript": [
        "\n",
        "        var $myPB = $(\"div#86be5594-6d6d-4a34-a00e-e8577f3fa4c2\")\n",
        "        if ($myPB.hasClass('ui-progressbar')) {\n",
        "            $myPB.progressbar('value', 224);\n",
        "        } else {\n",
        "            $myPB.progressbar({value: 0, max: 1562});\n",
        "        }\n",
        "        "
       ],
       "metadata": {},
       "output_type": "display_data",
       "text": [
        "<IPython.core.display.Javascript at 0x207e02b0>"
       ]
      },
      {
       "javascript": [
        "$('div#7407cab6-c6fd-4c69-ac19-32a793526183').text('ETA:  0:00:25');"
       ],
       "metadata": {},
       "output_type": "display_data",
       "text": [
        "<IPython.core.display.Javascript at 0x207e02b0>"
       ]
      },
      {
       "javascript": [
        "$('div#ec15a385-4492-4751-9f6b-3c45c1e1ea3a').text('240 of 1562');"
       ],
       "metadata": {},
       "output_type": "display_data",
       "text": [
        "<IPython.core.display.Javascript at 0x207e0160>"
       ]
      },
      {
       "javascript": [
        "$('div#2667ddec-0f50-44a3-b49b-127d8748d437').text(' 15%');"
       ],
       "metadata": {},
       "output_type": "display_data",
       "text": [
        "<IPython.core.display.Javascript at 0x207e0390>"
       ]
      },
      {
       "javascript": [
        "\n",
        "        var $myPB = $(\"div#86be5594-6d6d-4a34-a00e-e8577f3fa4c2\")\n",
        "        if ($myPB.hasClass('ui-progressbar')) {\n",
        "            $myPB.progressbar('value', 240);\n",
        "        } else {\n",
        "            $myPB.progressbar({value: 0, max: 1562});\n",
        "        }\n",
        "        "
       ],
       "metadata": {},
       "output_type": "display_data",
       "text": [
        "<IPython.core.display.Javascript at 0x207e02e8>"
       ]
      },
      {
       "javascript": [
        "$('div#7407cab6-c6fd-4c69-ac19-32a793526183').text('ETA:  0:00:25');"
       ],
       "metadata": {},
       "output_type": "display_data",
       "text": [
        "<IPython.core.display.Javascript at 0x207e02b0>"
       ]
      },
      {
       "javascript": [
        "$('div#ec15a385-4492-4751-9f6b-3c45c1e1ea3a').text('256 of 1562');"
       ],
       "metadata": {},
       "output_type": "display_data",
       "text": [
        "<IPython.core.display.Javascript at 0x207e02b0>"
       ]
      },
      {
       "javascript": [
        "$('div#2667ddec-0f50-44a3-b49b-127d8748d437').text(' 16%');"
       ],
       "metadata": {},
       "output_type": "display_data",
       "text": [
        "<IPython.core.display.Javascript at 0x207e02b0>"
       ]
      },
      {
       "javascript": [
        "\n",
        "        var $myPB = $(\"div#86be5594-6d6d-4a34-a00e-e8577f3fa4c2\")\n",
        "        if ($myPB.hasClass('ui-progressbar')) {\n",
        "            $myPB.progressbar('value', 256);\n",
        "        } else {\n",
        "            $myPB.progressbar({value: 0, max: 1562});\n",
        "        }\n",
        "        "
       ],
       "metadata": {},
       "output_type": "display_data",
       "text": [
        "<IPython.core.display.Javascript at 0x207e0358>"
       ]
      },
      {
       "javascript": [
        "$('div#7407cab6-c6fd-4c69-ac19-32a793526183').text('ETA:  0:00:25');"
       ],
       "metadata": {},
       "output_type": "display_data",
       "text": [
        "<IPython.core.display.Javascript at 0x207e0160>"
       ]
      },
      {
       "javascript": [
        "$('div#ec15a385-4492-4751-9f6b-3c45c1e1ea3a').text('272 of 1562');"
       ],
       "metadata": {},
       "output_type": "display_data",
       "text": [
        "<IPython.core.display.Javascript at 0x207e02e8>"
       ]
      },
      {
       "javascript": [
        "$('div#2667ddec-0f50-44a3-b49b-127d8748d437').text(' 17%');"
       ],
       "metadata": {},
       "output_type": "display_data",
       "text": [
        "<IPython.core.display.Javascript at 0x207e0390>"
       ]
      },
      {
       "javascript": [
        "\n",
        "        var $myPB = $(\"div#86be5594-6d6d-4a34-a00e-e8577f3fa4c2\")\n",
        "        if ($myPB.hasClass('ui-progressbar')) {\n",
        "            $myPB.progressbar('value', 272);\n",
        "        } else {\n",
        "            $myPB.progressbar({value: 0, max: 1562});\n",
        "        }\n",
        "        "
       ],
       "metadata": {},
       "output_type": "display_data",
       "text": [
        "<IPython.core.display.Javascript at 0x207e0390>"
       ]
      },
      {
       "javascript": [
        "$('div#7407cab6-c6fd-4c69-ac19-32a793526183').text('ETA:  0:00:25');"
       ],
       "metadata": {},
       "output_type": "display_data",
       "text": [
        "<IPython.core.display.Javascript at 0x207e0160>"
       ]
      },
      {
       "javascript": [
        "$('div#ec15a385-4492-4751-9f6b-3c45c1e1ea3a').text('288 of 1562');"
       ],
       "metadata": {},
       "output_type": "display_data",
       "text": [
        "<IPython.core.display.Javascript at 0x207e02e8>"
       ]
      },
      {
       "javascript": [
        "$('div#2667ddec-0f50-44a3-b49b-127d8748d437').text(' 18%');"
       ],
       "metadata": {},
       "output_type": "display_data",
       "text": [
        "<IPython.core.display.Javascript at 0x207e0240>"
       ]
      },
      {
       "javascript": [
        "\n",
        "        var $myPB = $(\"div#86be5594-6d6d-4a34-a00e-e8577f3fa4c2\")\n",
        "        if ($myPB.hasClass('ui-progressbar')) {\n",
        "            $myPB.progressbar('value', 288);\n",
        "        } else {\n",
        "            $myPB.progressbar({value: 0, max: 1562});\n",
        "        }\n",
        "        "
       ],
       "metadata": {},
       "output_type": "display_data",
       "text": [
        "<IPython.core.display.Javascript at 0x207e0390>"
       ]
      },
      {
       "javascript": [
        "$('div#7407cab6-c6fd-4c69-ac19-32a793526183').text('ETA:  0:00:24');"
       ],
       "metadata": {},
       "output_type": "display_data",
       "text": [
        "<IPython.core.display.Javascript at 0x207e0160>"
       ]
      },
      {
       "javascript": [
        "$('div#ec15a385-4492-4751-9f6b-3c45c1e1ea3a').text('304 of 1562');"
       ],
       "metadata": {},
       "output_type": "display_data",
       "text": [
        "<IPython.core.display.Javascript at 0x207e0160>"
       ]
      },
      {
       "javascript": [
        "$('div#2667ddec-0f50-44a3-b49b-127d8748d437').text(' 19%');"
       ],
       "metadata": {},
       "output_type": "display_data",
       "text": [
        "<IPython.core.display.Javascript at 0x207e02b0>"
       ]
      },
      {
       "javascript": [
        "\n",
        "        var $myPB = $(\"div#86be5594-6d6d-4a34-a00e-e8577f3fa4c2\")\n",
        "        if ($myPB.hasClass('ui-progressbar')) {\n",
        "            $myPB.progressbar('value', 304);\n",
        "        } else {\n",
        "            $myPB.progressbar({value: 0, max: 1562});\n",
        "        }\n",
        "        "
       ],
       "metadata": {},
       "output_type": "display_data",
       "text": [
        "<IPython.core.display.Javascript at 0x207e0390>"
       ]
      },
      {
       "javascript": [
        "$('div#7407cab6-c6fd-4c69-ac19-32a793526183').text('ETA:  0:00:24');"
       ],
       "metadata": {},
       "output_type": "display_data",
       "text": [
        "<IPython.core.display.Javascript at 0x207e0278>"
       ]
      },
      {
       "javascript": [
        "$('div#ec15a385-4492-4751-9f6b-3c45c1e1ea3a').text('320 of 1562');"
       ],
       "metadata": {},
       "output_type": "display_data",
       "text": [
        "<IPython.core.display.Javascript at 0x207e02e8>"
       ]
      },
      {
       "javascript": [
        "$('div#2667ddec-0f50-44a3-b49b-127d8748d437').text(' 20%');"
       ],
       "metadata": {},
       "output_type": "display_data",
       "text": [
        "<IPython.core.display.Javascript at 0x207e0320>"
       ]
      },
      {
       "javascript": [
        "\n",
        "        var $myPB = $(\"div#86be5594-6d6d-4a34-a00e-e8577f3fa4c2\")\n",
        "        if ($myPB.hasClass('ui-progressbar')) {\n",
        "            $myPB.progressbar('value', 320);\n",
        "        } else {\n",
        "            $myPB.progressbar({value: 0, max: 1562});\n",
        "        }\n",
        "        "
       ],
       "metadata": {},
       "output_type": "display_data",
       "text": [
        "<IPython.core.display.Javascript at 0x207e0240>"
       ]
      },
      {
       "javascript": [
        "$('div#7407cab6-c6fd-4c69-ac19-32a793526183').text('ETA:  0:00:24');"
       ],
       "metadata": {},
       "output_type": "display_data",
       "text": [
        "<IPython.core.display.Javascript at 0x207e0240>"
       ]
      },
      {
       "javascript": [
        "$('div#ec15a385-4492-4751-9f6b-3c45c1e1ea3a').text('336 of 1562');"
       ],
       "metadata": {},
       "output_type": "display_data",
       "text": [
        "<IPython.core.display.Javascript at 0x207e0278>"
       ]
      },
      {
       "javascript": [
        "$('div#2667ddec-0f50-44a3-b49b-127d8748d437').text(' 21%');"
       ],
       "metadata": {},
       "output_type": "display_data",
       "text": [
        "<IPython.core.display.Javascript at 0x207e0278>"
       ]
      },
      {
       "javascript": [
        "\n",
        "        var $myPB = $(\"div#86be5594-6d6d-4a34-a00e-e8577f3fa4c2\")\n",
        "        if ($myPB.hasClass('ui-progressbar')) {\n",
        "            $myPB.progressbar('value', 336);\n",
        "        } else {\n",
        "            $myPB.progressbar({value: 0, max: 1562});\n",
        "        }\n",
        "        "
       ],
       "metadata": {},
       "output_type": "display_data",
       "text": [
        "<IPython.core.display.Javascript at 0x207e0320>"
       ]
      },
      {
       "javascript": [
        "$('div#7407cab6-c6fd-4c69-ac19-32a793526183').text('ETA:  0:00:24');"
       ],
       "metadata": {},
       "output_type": "display_data",
       "text": [
        "<IPython.core.display.Javascript at 0x207e0390>"
       ]
      },
      {
       "javascript": [
        "$('div#ec15a385-4492-4751-9f6b-3c45c1e1ea3a').text('352 of 1562');"
       ],
       "metadata": {},
       "output_type": "display_data",
       "text": [
        "<IPython.core.display.Javascript at 0x207e02b0>"
       ]
      },
      {
       "javascript": [
        "$('div#2667ddec-0f50-44a3-b49b-127d8748d437').text(' 22%');"
       ],
       "metadata": {},
       "output_type": "display_data",
       "text": [
        "<IPython.core.display.Javascript at 0x207e0390>"
       ]
      },
      {
       "javascript": [
        "\n",
        "        var $myPB = $(\"div#86be5594-6d6d-4a34-a00e-e8577f3fa4c2\")\n",
        "        if ($myPB.hasClass('ui-progressbar')) {\n",
        "            $myPB.progressbar('value', 352);\n",
        "        } else {\n",
        "            $myPB.progressbar({value: 0, max: 1562});\n",
        "        }\n",
        "        "
       ],
       "metadata": {},
       "output_type": "display_data",
       "text": [
        "<IPython.core.display.Javascript at 0x207e0320>"
       ]
      },
      {
       "javascript": [
        "$('div#7407cab6-c6fd-4c69-ac19-32a793526183').text('ETA:  0:00:23');"
       ],
       "metadata": {},
       "output_type": "display_data",
       "text": [
        "<IPython.core.display.Javascript at 0x207e0320>"
       ]
      },
      {
       "javascript": [
        "$('div#ec15a385-4492-4751-9f6b-3c45c1e1ea3a').text('368 of 1562');"
       ],
       "metadata": {},
       "output_type": "display_data",
       "text": [
        "<IPython.core.display.Javascript at 0x207e0358>"
       ]
      },
      {
       "javascript": [
        "$('div#2667ddec-0f50-44a3-b49b-127d8748d437').text(' 23%');"
       ],
       "metadata": {},
       "output_type": "display_data",
       "text": [
        "<IPython.core.display.Javascript at 0x207e0358>"
       ]
      },
      {
       "javascript": [
        "\n",
        "        var $myPB = $(\"div#86be5594-6d6d-4a34-a00e-e8577f3fa4c2\")\n",
        "        if ($myPB.hasClass('ui-progressbar')) {\n",
        "            $myPB.progressbar('value', 368);\n",
        "        } else {\n",
        "            $myPB.progressbar({value: 0, max: 1562});\n",
        "        }\n",
        "        "
       ],
       "metadata": {},
       "output_type": "display_data",
       "text": [
        "<IPython.core.display.Javascript at 0x207e0240>"
       ]
      },
      {
       "javascript": [
        "$('div#7407cab6-c6fd-4c69-ac19-32a793526183').text('ETA:  0:00:23');"
       ],
       "metadata": {},
       "output_type": "display_data",
       "text": [
        "<IPython.core.display.Javascript at 0x207e0320>"
       ]
      },
      {
       "javascript": [
        "$('div#ec15a385-4492-4751-9f6b-3c45c1e1ea3a').text('384 of 1562');"
       ],
       "metadata": {},
       "output_type": "display_data",
       "text": [
        "<IPython.core.display.Javascript at 0x207e0278>"
       ]
      },
      {
       "javascript": [
        "$('div#2667ddec-0f50-44a3-b49b-127d8748d437').text(' 24%');"
       ],
       "metadata": {},
       "output_type": "display_data",
       "text": [
        "<IPython.core.display.Javascript at 0x207e02e8>"
       ]
      },
      {
       "javascript": [
        "\n",
        "        var $myPB = $(\"div#86be5594-6d6d-4a34-a00e-e8577f3fa4c2\")\n",
        "        if ($myPB.hasClass('ui-progressbar')) {\n",
        "            $myPB.progressbar('value', 384);\n",
        "        } else {\n",
        "            $myPB.progressbar({value: 0, max: 1562});\n",
        "        }\n",
        "        "
       ],
       "metadata": {},
       "output_type": "display_data",
       "text": [
        "<IPython.core.display.Javascript at 0x207e00f0>"
       ]
      },
      {
       "javascript": [
        "$('div#7407cab6-c6fd-4c69-ac19-32a793526183').text('ETA:  0:00:22');"
       ],
       "metadata": {},
       "output_type": "display_data",
       "text": [
        "<IPython.core.display.Javascript at 0x207e00f0>"
       ]
      },
      {
       "javascript": [
        "$('div#ec15a385-4492-4751-9f6b-3c45c1e1ea3a').text('400 of 1562');"
       ],
       "metadata": {},
       "output_type": "display_data",
       "text": [
        "<IPython.core.display.Javascript at 0x207e0390>"
       ]
      },
      {
       "javascript": [
        "$('div#2667ddec-0f50-44a3-b49b-127d8748d437').text(' 25%');"
       ],
       "metadata": {},
       "output_type": "display_data",
       "text": [
        "<IPython.core.display.Javascript at 0x207e02e8>"
       ]
      },
      {
       "javascript": [
        "\n",
        "        var $myPB = $(\"div#86be5594-6d6d-4a34-a00e-e8577f3fa4c2\")\n",
        "        if ($myPB.hasClass('ui-progressbar')) {\n",
        "            $myPB.progressbar('value', 400);\n",
        "        } else {\n",
        "            $myPB.progressbar({value: 0, max: 1562});\n",
        "        }\n",
        "        "
       ],
       "metadata": {},
       "output_type": "display_data",
       "text": [
        "<IPython.core.display.Javascript at 0x207e02b0>"
       ]
      },
      {
       "javascript": [
        "$('div#7407cab6-c6fd-4c69-ac19-32a793526183').text('ETA:  0:00:22');"
       ],
       "metadata": {},
       "output_type": "display_data",
       "text": [
        "<IPython.core.display.Javascript at 0x207e0390>"
       ]
      },
      {
       "javascript": [
        "$('div#ec15a385-4492-4751-9f6b-3c45c1e1ea3a').text('416 of 1562');"
       ],
       "metadata": {},
       "output_type": "display_data",
       "text": [
        "<IPython.core.display.Javascript at 0x207e0320>"
       ]
      },
      {
       "javascript": [
        "$('div#2667ddec-0f50-44a3-b49b-127d8748d437').text(' 26%');"
       ],
       "metadata": {},
       "output_type": "display_data",
       "text": [
        "<IPython.core.display.Javascript at 0x207e0240>"
       ]
      },
      {
       "javascript": [
        "\n",
        "        var $myPB = $(\"div#86be5594-6d6d-4a34-a00e-e8577f3fa4c2\")\n",
        "        if ($myPB.hasClass('ui-progressbar')) {\n",
        "            $myPB.progressbar('value', 416);\n",
        "        } else {\n",
        "            $myPB.progressbar({value: 0, max: 1562});\n",
        "        }\n",
        "        "
       ],
       "metadata": {},
       "output_type": "display_data",
       "text": [
        "<IPython.core.display.Javascript at 0x207e02b0>"
       ]
      },
      {
       "javascript": [
        "$('div#7407cab6-c6fd-4c69-ac19-32a793526183').text('ETA:  0:00:21');"
       ],
       "metadata": {},
       "output_type": "display_data",
       "text": [
        "<IPython.core.display.Javascript at 0x207e0390>"
       ]
      },
      {
       "javascript": [
        "$('div#ec15a385-4492-4751-9f6b-3c45c1e1ea3a').text('432 of 1562');"
       ],
       "metadata": {},
       "output_type": "display_data",
       "text": [
        "<IPython.core.display.Javascript at 0x207e0390>"
       ]
      },
      {
       "javascript": [
        "$('div#2667ddec-0f50-44a3-b49b-127d8748d437').text(' 27%');"
       ],
       "metadata": {},
       "output_type": "display_data",
       "text": [
        "<IPython.core.display.Javascript at 0x207e0278>"
       ]
      },
      {
       "javascript": [
        "\n",
        "        var $myPB = $(\"div#86be5594-6d6d-4a34-a00e-e8577f3fa4c2\")\n",
        "        if ($myPB.hasClass('ui-progressbar')) {\n",
        "            $myPB.progressbar('value', 432);\n",
        "        } else {\n",
        "            $myPB.progressbar({value: 0, max: 1562});\n",
        "        }\n",
        "        "
       ],
       "metadata": {},
       "output_type": "display_data",
       "text": [
        "<IPython.core.display.Javascript at 0x207e0278>"
       ]
      },
      {
       "javascript": [
        "$('div#7407cab6-c6fd-4c69-ac19-32a793526183').text('ETA:  0:00:21');"
       ],
       "metadata": {},
       "output_type": "display_data",
       "text": [
        "<IPython.core.display.Javascript at 0x207e02b0>"
       ]
      },
      {
       "javascript": [
        "$('div#ec15a385-4492-4751-9f6b-3c45c1e1ea3a').text('448 of 1562');"
       ],
       "metadata": {},
       "output_type": "display_data",
       "text": [
        "<IPython.core.display.Javascript at 0x207e0390>"
       ]
      },
      {
       "javascript": [
        "$('div#2667ddec-0f50-44a3-b49b-127d8748d437').text(' 28%');"
       ],
       "metadata": {},
       "output_type": "display_data",
       "text": [
        "<IPython.core.display.Javascript at 0x207e00f0>"
       ]
      },
      {
       "javascript": [
        "\n",
        "        var $myPB = $(\"div#86be5594-6d6d-4a34-a00e-e8577f3fa4c2\")\n",
        "        if ($myPB.hasClass('ui-progressbar')) {\n",
        "            $myPB.progressbar('value', 448);\n",
        "        } else {\n",
        "            $myPB.progressbar({value: 0, max: 1562});\n",
        "        }\n",
        "        "
       ],
       "metadata": {},
       "output_type": "display_data",
       "text": [
        "<IPython.core.display.Javascript at 0x207e02b0>"
       ]
      },
      {
       "javascript": [
        "$('div#7407cab6-c6fd-4c69-ac19-32a793526183').text('ETA:  0:00:21');"
       ],
       "metadata": {},
       "output_type": "display_data",
       "text": [
        "<IPython.core.display.Javascript at 0x207e02b0>"
       ]
      },
      {
       "javascript": [
        "$('div#ec15a385-4492-4751-9f6b-3c45c1e1ea3a').text('464 of 1562');"
       ],
       "metadata": {},
       "output_type": "display_data",
       "text": [
        "<IPython.core.display.Javascript at 0x207e0240>"
       ]
      },
      {
       "javascript": [
        "$('div#2667ddec-0f50-44a3-b49b-127d8748d437').text(' 29%');"
       ],
       "metadata": {},
       "output_type": "display_data",
       "text": [
        "<IPython.core.display.Javascript at 0x207e00f0>"
       ]
      },
      {
       "javascript": [
        "\n",
        "        var $myPB = $(\"div#86be5594-6d6d-4a34-a00e-e8577f3fa4c2\")\n",
        "        if ($myPB.hasClass('ui-progressbar')) {\n",
        "            $myPB.progressbar('value', 464);\n",
        "        } else {\n",
        "            $myPB.progressbar({value: 0, max: 1562});\n",
        "        }\n",
        "        "
       ],
       "metadata": {},
       "output_type": "display_data",
       "text": [
        "<IPython.core.display.Javascript at 0x207e02e8>"
       ]
      },
      {
       "javascript": [
        "$('div#7407cab6-c6fd-4c69-ac19-32a793526183').text('ETA:  0:00:20');"
       ],
       "metadata": {},
       "output_type": "display_data",
       "text": [
        "<IPython.core.display.Javascript at 0x207e02b0>"
       ]
      },
      {
       "javascript": [
        "$('div#ec15a385-4492-4751-9f6b-3c45c1e1ea3a').text('480 of 1562');"
       ],
       "metadata": {},
       "output_type": "display_data",
       "text": [
        "<IPython.core.display.Javascript at 0x207e02b0>"
       ]
      },
      {
       "javascript": [
        "$('div#2667ddec-0f50-44a3-b49b-127d8748d437').text(' 30%');"
       ],
       "metadata": {},
       "output_type": "display_data",
       "text": [
        "<IPython.core.display.Javascript at 0x207e0320>"
       ]
      },
      {
       "javascript": [
        "\n",
        "        var $myPB = $(\"div#86be5594-6d6d-4a34-a00e-e8577f3fa4c2\")\n",
        "        if ($myPB.hasClass('ui-progressbar')) {\n",
        "            $myPB.progressbar('value', 480);\n",
        "        } else {\n",
        "            $myPB.progressbar({value: 0, max: 1562});\n",
        "        }\n",
        "        "
       ],
       "metadata": {},
       "output_type": "display_data",
       "text": [
        "<IPython.core.display.Javascript at 0x207e0320>"
       ]
      },
      {
       "javascript": [
        "$('div#7407cab6-c6fd-4c69-ac19-32a793526183').text('ETA:  0:00:20');"
       ],
       "metadata": {},
       "output_type": "display_data",
       "text": [
        "<IPython.core.display.Javascript at 0x207e02e8>"
       ]
      },
      {
       "javascript": [
        "$('div#ec15a385-4492-4751-9f6b-3c45c1e1ea3a').text('496 of 1562');"
       ],
       "metadata": {},
       "output_type": "display_data",
       "text": [
        "<IPython.core.display.Javascript at 0x207e0240>"
       ]
      },
      {
       "javascript": [
        "$('div#2667ddec-0f50-44a3-b49b-127d8748d437').text(' 31%');"
       ],
       "metadata": {},
       "output_type": "display_data",
       "text": [
        "<IPython.core.display.Javascript at 0x207e0390>"
       ]
      },
      {
       "javascript": [
        "\n",
        "        var $myPB = $(\"div#86be5594-6d6d-4a34-a00e-e8577f3fa4c2\")\n",
        "        if ($myPB.hasClass('ui-progressbar')) {\n",
        "            $myPB.progressbar('value', 496);\n",
        "        } else {\n",
        "            $myPB.progressbar({value: 0, max: 1562});\n",
        "        }\n",
        "        "
       ],
       "metadata": {},
       "output_type": "display_data",
       "text": [
        "<IPython.core.display.Javascript at 0x207e0320>"
       ]
      },
      {
       "javascript": [
        "$('div#7407cab6-c6fd-4c69-ac19-32a793526183').text('ETA:  0:00:20');"
       ],
       "metadata": {},
       "output_type": "display_data",
       "text": [
        "<IPython.core.display.Javascript at 0x207e0320>"
       ]
      },
      {
       "javascript": [
        "$('div#ec15a385-4492-4751-9f6b-3c45c1e1ea3a').text('512 of 1562');"
       ],
       "metadata": {},
       "output_type": "display_data",
       "text": [
        "<IPython.core.display.Javascript at 0x207e02e8>"
       ]
      },
      {
       "javascript": [
        "$('div#2667ddec-0f50-44a3-b49b-127d8748d437').text(' 32%');"
       ],
       "metadata": {},
       "output_type": "display_data",
       "text": [
        "<IPython.core.display.Javascript at 0x207e0390>"
       ]
      },
      {
       "javascript": [
        "\n",
        "        var $myPB = $(\"div#86be5594-6d6d-4a34-a00e-e8577f3fa4c2\")\n",
        "        if ($myPB.hasClass('ui-progressbar')) {\n",
        "            $myPB.progressbar('value', 512);\n",
        "        } else {\n",
        "            $myPB.progressbar({value: 0, max: 1562});\n",
        "        }\n",
        "        "
       ],
       "metadata": {},
       "output_type": "display_data",
       "text": [
        "<IPython.core.display.Javascript at 0x207e03c8>"
       ]
      },
      {
       "javascript": [
        "$('div#7407cab6-c6fd-4c69-ac19-32a793526183').text('ETA:  0:00:20');"
       ],
       "metadata": {},
       "output_type": "display_data",
       "text": [
        "<IPython.core.display.Javascript at 0x207e0320>"
       ]
      },
      {
       "javascript": [
        "$('div#ec15a385-4492-4751-9f6b-3c45c1e1ea3a').text('528 of 1562');"
       ],
       "metadata": {},
       "output_type": "display_data",
       "text": [
        "<IPython.core.display.Javascript at 0x207e0320>"
       ]
      },
      {
       "javascript": [
        "$('div#2667ddec-0f50-44a3-b49b-127d8748d437').text(' 33%');"
       ],
       "metadata": {},
       "output_type": "display_data",
       "text": [
        "<IPython.core.display.Javascript at 0x207e0320>"
       ]
      },
      {
       "javascript": [
        "\n",
        "        var $myPB = $(\"div#86be5594-6d6d-4a34-a00e-e8577f3fa4c2\")\n",
        "        if ($myPB.hasClass('ui-progressbar')) {\n",
        "            $myPB.progressbar('value', 528);\n",
        "        } else {\n",
        "            $myPB.progressbar({value: 0, max: 1562});\n",
        "        }\n",
        "        "
       ],
       "metadata": {},
       "output_type": "display_data",
       "text": [
        "<IPython.core.display.Javascript at 0x207e0240>"
       ]
      },
      {
       "javascript": [
        "$('div#7407cab6-c6fd-4c69-ac19-32a793526183').text('ETA:  0:00:20');"
       ],
       "metadata": {},
       "output_type": "display_data",
       "text": [
        "<IPython.core.display.Javascript at 0x207e02e8>"
       ]
      },
      {
       "javascript": [
        "$('div#ec15a385-4492-4751-9f6b-3c45c1e1ea3a').text('544 of 1562');"
       ],
       "metadata": {},
       "output_type": "display_data",
       "text": [
        "<IPython.core.display.Javascript at 0x207e03c8>"
       ]
      },
      {
       "javascript": [
        "$('div#2667ddec-0f50-44a3-b49b-127d8748d437').text(' 34%');"
       ],
       "metadata": {},
       "output_type": "display_data",
       "text": [
        "<IPython.core.display.Javascript at 0x207e0390>"
       ]
      },
      {
       "javascript": [
        "\n",
        "        var $myPB = $(\"div#86be5594-6d6d-4a34-a00e-e8577f3fa4c2\")\n",
        "        if ($myPB.hasClass('ui-progressbar')) {\n",
        "            $myPB.progressbar('value', 544);\n",
        "        } else {\n",
        "            $myPB.progressbar({value: 0, max: 1562});\n",
        "        }\n",
        "        "
       ],
       "metadata": {},
       "output_type": "display_data",
       "text": [
        "<IPython.core.display.Javascript at 0x207e02e8>"
       ]
      },
      {
       "javascript": [
        "$('div#7407cab6-c6fd-4c69-ac19-32a793526183').text('ETA:  0:00:19');"
       ],
       "metadata": {},
       "output_type": "display_data",
       "text": [
        "<IPython.core.display.Javascript at 0x207e02e8>"
       ]
      },
      {
       "javascript": [
        "$('div#ec15a385-4492-4751-9f6b-3c45c1e1ea3a').text('560 of 1562');"
       ],
       "metadata": {},
       "output_type": "display_data",
       "text": [
        "<IPython.core.display.Javascript at 0x207e00f0>"
       ]
      },
      {
       "javascript": [
        "$('div#2667ddec-0f50-44a3-b49b-127d8748d437').text(' 35%');"
       ],
       "metadata": {},
       "output_type": "display_data",
       "text": [
        "<IPython.core.display.Javascript at 0x207e0390>"
       ]
      },
      {
       "javascript": [
        "\n",
        "        var $myPB = $(\"div#86be5594-6d6d-4a34-a00e-e8577f3fa4c2\")\n",
        "        if ($myPB.hasClass('ui-progressbar')) {\n",
        "            $myPB.progressbar('value', 560);\n",
        "        } else {\n",
        "            $myPB.progressbar({value: 0, max: 1562});\n",
        "        }\n",
        "        "
       ],
       "metadata": {},
       "output_type": "display_data",
       "text": [
        "<IPython.core.display.Javascript at 0x207e02e8>"
       ]
      },
      {
       "javascript": [
        "$('div#7407cab6-c6fd-4c69-ac19-32a793526183').text('ETA:  0:00:19');"
       ],
       "metadata": {},
       "output_type": "display_data",
       "text": [
        "<IPython.core.display.Javascript at 0x207e02b0>"
       ]
      },
      {
       "javascript": [
        "$('div#ec15a385-4492-4751-9f6b-3c45c1e1ea3a').text('576 of 1562');"
       ],
       "metadata": {},
       "output_type": "display_data",
       "text": [
        "<IPython.core.display.Javascript at 0x207e02b0>"
       ]
      },
      {
       "javascript": [
        "$('div#2667ddec-0f50-44a3-b49b-127d8748d437').text(' 36%');"
       ],
       "metadata": {},
       "output_type": "display_data",
       "text": [
        "<IPython.core.display.Javascript at 0x207e02b0>"
       ]
      },
      {
       "javascript": [
        "\n",
        "        var $myPB = $(\"div#86be5594-6d6d-4a34-a00e-e8577f3fa4c2\")\n",
        "        if ($myPB.hasClass('ui-progressbar')) {\n",
        "            $myPB.progressbar('value', 576);\n",
        "        } else {\n",
        "            $myPB.progressbar({value: 0, max: 1562});\n",
        "        }\n",
        "        "
       ],
       "metadata": {},
       "output_type": "display_data",
       "text": [
        "<IPython.core.display.Javascript at 0x207e02e8>"
       ]
      },
      {
       "javascript": [
        "$('div#7407cab6-c6fd-4c69-ac19-32a793526183').text('ETA:  0:00:19');"
       ],
       "metadata": {},
       "output_type": "display_data",
       "text": [
        "<IPython.core.display.Javascript at 0x207e0358>"
       ]
      },
      {
       "javascript": [
        "$('div#ec15a385-4492-4751-9f6b-3c45c1e1ea3a').text('592 of 1562');"
       ],
       "metadata": {},
       "output_type": "display_data",
       "text": [
        "<IPython.core.display.Javascript at 0x207e0390>"
       ]
      },
      {
       "javascript": [
        "$('div#2667ddec-0f50-44a3-b49b-127d8748d437').text(' 37%');"
       ],
       "metadata": {},
       "output_type": "display_data",
       "text": [
        "<IPython.core.display.Javascript at 0x207e00f0>"
       ]
      },
      {
       "javascript": [
        "\n",
        "        var $myPB = $(\"div#86be5594-6d6d-4a34-a00e-e8577f3fa4c2\")\n",
        "        if ($myPB.hasClass('ui-progressbar')) {\n",
        "            $myPB.progressbar('value', 592);\n",
        "        } else {\n",
        "            $myPB.progressbar({value: 0, max: 1562});\n",
        "        }\n",
        "        "
       ],
       "metadata": {},
       "output_type": "display_data",
       "text": [
        "<IPython.core.display.Javascript at 0x207e02e8>"
       ]
      },
      {
       "javascript": [
        "$('div#7407cab6-c6fd-4c69-ac19-32a793526183').text('ETA:  0:00:18');"
       ],
       "metadata": {},
       "output_type": "display_data",
       "text": [
        "<IPython.core.display.Javascript at 0x207e02e8>"
       ]
      },
      {
       "javascript": [
        "$('div#ec15a385-4492-4751-9f6b-3c45c1e1ea3a').text('608 of 1562');"
       ],
       "metadata": {},
       "output_type": "display_data",
       "text": [
        "<IPython.core.display.Javascript at 0x207e0358>"
       ]
      },
      {
       "javascript": [
        "$('div#2667ddec-0f50-44a3-b49b-127d8748d437').text(' 38%');"
       ],
       "metadata": {},
       "output_type": "display_data",
       "text": [
        "<IPython.core.display.Javascript at 0x207e0358>"
       ]
      },
      {
       "javascript": [
        "\n",
        "        var $myPB = $(\"div#86be5594-6d6d-4a34-a00e-e8577f3fa4c2\")\n",
        "        if ($myPB.hasClass('ui-progressbar')) {\n",
        "            $myPB.progressbar('value', 608);\n",
        "        } else {\n",
        "            $myPB.progressbar({value: 0, max: 1562});\n",
        "        }\n",
        "        "
       ],
       "metadata": {},
       "output_type": "display_data",
       "text": [
        "<IPython.core.display.Javascript at 0x207e00f0>"
       ]
      },
      {
       "javascript": [
        "$('div#7407cab6-c6fd-4c69-ac19-32a793526183').text('ETA:  0:00:18');"
       ],
       "metadata": {},
       "output_type": "display_data",
       "text": [
        "<IPython.core.display.Javascript at 0x207e02e8>"
       ]
      },
      {
       "javascript": [
        "$('div#ec15a385-4492-4751-9f6b-3c45c1e1ea3a').text('624 of 1562');"
       ],
       "metadata": {},
       "output_type": "display_data",
       "text": [
        "<IPython.core.display.Javascript at 0x207e0240>"
       ]
      },
      {
       "javascript": [
        "$('div#2667ddec-0f50-44a3-b49b-127d8748d437').text(' 39%');"
       ],
       "metadata": {},
       "output_type": "display_data",
       "text": [
        "<IPython.core.display.Javascript at 0x207e03c8>"
       ]
      },
      {
       "javascript": [
        "\n",
        "        var $myPB = $(\"div#86be5594-6d6d-4a34-a00e-e8577f3fa4c2\")\n",
        "        if ($myPB.hasClass('ui-progressbar')) {\n",
        "            $myPB.progressbar('value', 624);\n",
        "        } else {\n",
        "            $myPB.progressbar({value: 0, max: 1562});\n",
        "        }\n",
        "        "
       ],
       "metadata": {},
       "output_type": "display_data",
       "text": [
        "<IPython.core.display.Javascript at 0x207e00f0>"
       ]
      },
      {
       "javascript": [
        "$('div#7407cab6-c6fd-4c69-ac19-32a793526183').text('ETA:  0:00:18');"
       ],
       "metadata": {},
       "output_type": "display_data",
       "text": [
        "<IPython.core.display.Javascript at 0x207e00f0>"
       ]
      },
      {
       "javascript": [
        "$('div#ec15a385-4492-4751-9f6b-3c45c1e1ea3a').text('640 of 1562');"
       ],
       "metadata": {},
       "output_type": "display_data",
       "text": [
        "<IPython.core.display.Javascript at 0x207e02e8>"
       ]
      },
      {
       "javascript": [
        "$('div#2667ddec-0f50-44a3-b49b-127d8748d437').text(' 40%');"
       ],
       "metadata": {},
       "output_type": "display_data",
       "text": [
        "<IPython.core.display.Javascript at 0x207e02e8>"
       ]
      },
      {
       "javascript": [
        "\n",
        "        var $myPB = $(\"div#86be5594-6d6d-4a34-a00e-e8577f3fa4c2\")\n",
        "        if ($myPB.hasClass('ui-progressbar')) {\n",
        "            $myPB.progressbar('value', 640);\n",
        "        } else {\n",
        "            $myPB.progressbar({value: 0, max: 1562});\n",
        "        }\n",
        "        "
       ],
       "metadata": {},
       "output_type": "display_data",
       "text": [
        "<IPython.core.display.Javascript at 0x207e03c8>"
       ]
      },
      {
       "javascript": [
        "$('div#7407cab6-c6fd-4c69-ac19-32a793526183').text('ETA:  0:00:17');"
       ],
       "metadata": {},
       "output_type": "display_data",
       "text": [
        "<IPython.core.display.Javascript at 0x207e00f0>"
       ]
      },
      {
       "javascript": [
        "$('div#ec15a385-4492-4751-9f6b-3c45c1e1ea3a').text('656 of 1562');"
       ],
       "metadata": {},
       "output_type": "display_data",
       "text": [
        "<IPython.core.display.Javascript at 0x207e02b0>"
       ]
      },
      {
       "javascript": [
        "$('div#2667ddec-0f50-44a3-b49b-127d8748d437').text(' 41%');"
       ],
       "metadata": {},
       "output_type": "display_data",
       "text": [
        "<IPython.core.display.Javascript at 0x207e0278>"
       ]
      },
      {
       "javascript": [
        "\n",
        "        var $myPB = $(\"div#86be5594-6d6d-4a34-a00e-e8577f3fa4c2\")\n",
        "        if ($myPB.hasClass('ui-progressbar')) {\n",
        "            $myPB.progressbar('value', 656);\n",
        "        } else {\n",
        "            $myPB.progressbar({value: 0, max: 1562});\n",
        "        }\n",
        "        "
       ],
       "metadata": {},
       "output_type": "display_data",
       "text": [
        "<IPython.core.display.Javascript at 0x207e0278>"
       ]
      },
      {
       "javascript": [
        "$('div#7407cab6-c6fd-4c69-ac19-32a793526183').text('ETA:  0:00:17');"
       ],
       "metadata": {},
       "output_type": "display_data",
       "text": [
        "<IPython.core.display.Javascript at 0x207e00f0>"
       ]
      },
      {
       "javascript": [
        "$('div#ec15a385-4492-4751-9f6b-3c45c1e1ea3a').text('672 of 1562');"
       ],
       "metadata": {},
       "output_type": "display_data",
       "text": [
        "<IPython.core.display.Javascript at 0x207e02b0>"
       ]
      },
      {
       "javascript": [
        "$('div#2667ddec-0f50-44a3-b49b-127d8748d437').text(' 43%');"
       ],
       "metadata": {},
       "output_type": "display_data",
       "text": [
        "<IPython.core.display.Javascript at 0x207e02b0>"
       ]
      },
      {
       "javascript": [
        "\n",
        "        var $myPB = $(\"div#86be5594-6d6d-4a34-a00e-e8577f3fa4c2\")\n",
        "        if ($myPB.hasClass('ui-progressbar')) {\n",
        "            $myPB.progressbar('value', 672);\n",
        "        } else {\n",
        "            $myPB.progressbar({value: 0, max: 1562});\n",
        "        }\n",
        "        "
       ],
       "metadata": {},
       "output_type": "display_data",
       "text": [
        "<IPython.core.display.Javascript at 0x207e0358>"
       ]
      },
      {
       "javascript": [
        "$('div#7407cab6-c6fd-4c69-ac19-32a793526183').text('ETA:  0:00:16');"
       ],
       "metadata": {},
       "output_type": "display_data",
       "text": [
        "<IPython.core.display.Javascript at 0x207e0278>"
       ]
      },
      {
       "javascript": [
        "$('div#ec15a385-4492-4751-9f6b-3c45c1e1ea3a').text('688 of 1562');"
       ],
       "metadata": {},
       "output_type": "display_data",
       "text": [
        "<IPython.core.display.Javascript at 0x207e02e8>"
       ]
      },
      {
       "javascript": [
        "$('div#2667ddec-0f50-44a3-b49b-127d8748d437').text(' 44%');"
       ],
       "metadata": {},
       "output_type": "display_data",
       "text": [
        "<IPython.core.display.Javascript at 0x207e03c8>"
       ]
      },
      {
       "javascript": [
        "\n",
        "        var $myPB = $(\"div#86be5594-6d6d-4a34-a00e-e8577f3fa4c2\")\n",
        "        if ($myPB.hasClass('ui-progressbar')) {\n",
        "            $myPB.progressbar('value', 688);\n",
        "        } else {\n",
        "            $myPB.progressbar({value: 0, max: 1562});\n",
        "        }\n",
        "        "
       ],
       "metadata": {},
       "output_type": "display_data",
       "text": [
        "<IPython.core.display.Javascript at 0x207e0358>"
       ]
      },
      {
       "javascript": [
        "$('div#7407cab6-c6fd-4c69-ac19-32a793526183').text('ETA:  0:00:16');"
       ],
       "metadata": {},
       "output_type": "display_data",
       "text": [
        "<IPython.core.display.Javascript at 0x207e0358>"
       ]
      },
      {
       "javascript": [
        "$('div#ec15a385-4492-4751-9f6b-3c45c1e1ea3a').text('704 of 1562');"
       ],
       "metadata": {},
       "output_type": "display_data",
       "text": [
        "<IPython.core.display.Javascript at 0x207e0278>"
       ]
      },
      {
       "javascript": [
        "$('div#2667ddec-0f50-44a3-b49b-127d8748d437').text(' 45%');"
       ],
       "metadata": {},
       "output_type": "display_data",
       "text": [
        "<IPython.core.display.Javascript at 0x207e03c8>"
       ]
      },
      {
       "javascript": [
        "\n",
        "        var $myPB = $(\"div#86be5594-6d6d-4a34-a00e-e8577f3fa4c2\")\n",
        "        if ($myPB.hasClass('ui-progressbar')) {\n",
        "            $myPB.progressbar('value', 704);\n",
        "        } else {\n",
        "            $myPB.progressbar({value: 0, max: 1562});\n",
        "        }\n",
        "        "
       ],
       "metadata": {},
       "output_type": "display_data",
       "text": [
        "<IPython.core.display.Javascript at 0x207e00f0>"
       ]
      },
      {
       "javascript": [
        "$('div#7407cab6-c6fd-4c69-ac19-32a793526183').text('ETA:  0:00:16');"
       ],
       "metadata": {},
       "output_type": "display_data",
       "text": [
        "<IPython.core.display.Javascript at 0x207e0358>"
       ]
      },
      {
       "javascript": [
        "$('div#ec15a385-4492-4751-9f6b-3c45c1e1ea3a').text('720 of 1562');"
       ],
       "metadata": {},
       "output_type": "display_data",
       "text": [
        "<IPython.core.display.Javascript at 0x207e0358>"
       ]
      },
      {
       "javascript": [
        "$('div#2667ddec-0f50-44a3-b49b-127d8748d437').text(' 46%');"
       ],
       "metadata": {},
       "output_type": "display_data",
       "text": [
        "<IPython.core.display.Javascript at 0x207e0358>"
       ]
      },
      {
       "javascript": [
        "\n",
        "        var $myPB = $(\"div#86be5594-6d6d-4a34-a00e-e8577f3fa4c2\")\n",
        "        if ($myPB.hasClass('ui-progressbar')) {\n",
        "            $myPB.progressbar('value', 720);\n",
        "        } else {\n",
        "            $myPB.progressbar({value: 0, max: 1562});\n",
        "        }\n",
        "        "
       ],
       "metadata": {},
       "output_type": "display_data",
       "text": [
        "<IPython.core.display.Javascript at 0x207e02e8>"
       ]
      },
      {
       "javascript": [
        "$('div#7407cab6-c6fd-4c69-ac19-32a793526183').text('ETA:  0:00:16');"
       ],
       "metadata": {},
       "output_type": "display_data",
       "text": [
        "<IPython.core.display.Javascript at 0x207e0278>"
       ]
      },
      {
       "javascript": [
        "$('div#ec15a385-4492-4751-9f6b-3c45c1e1ea3a').text('736 of 1562');"
       ],
       "metadata": {},
       "output_type": "display_data",
       "text": [
        "<IPython.core.display.Javascript at 0x207e00f0>"
       ]
      },
      {
       "javascript": [
        "$('div#2667ddec-0f50-44a3-b49b-127d8748d437').text(' 47%');"
       ],
       "metadata": {},
       "output_type": "display_data",
       "text": [
        "<IPython.core.display.Javascript at 0x207e0278>"
       ]
      },
      {
       "javascript": [
        "\n",
        "        var $myPB = $(\"div#86be5594-6d6d-4a34-a00e-e8577f3fa4c2\")\n",
        "        if ($myPB.hasClass('ui-progressbar')) {\n",
        "            $myPB.progressbar('value', 736);\n",
        "        } else {\n",
        "            $myPB.progressbar({value: 0, max: 1562});\n",
        "        }\n",
        "        "
       ],
       "metadata": {},
       "output_type": "display_data",
       "text": [
        "<IPython.core.display.Javascript at 0x207e0278>"
       ]
      },
      {
       "javascript": [
        "$('div#7407cab6-c6fd-4c69-ac19-32a793526183').text('ETA:  0:00:15');"
       ],
       "metadata": {},
       "output_type": "display_data",
       "text": [
        "<IPython.core.display.Javascript at 0x207e0358>"
       ]
      },
      {
       "javascript": [
        "$('div#ec15a385-4492-4751-9f6b-3c45c1e1ea3a').text('752 of 1562');"
       ],
       "metadata": {},
       "output_type": "display_data",
       "text": [
        "<IPython.core.display.Javascript at 0x207e00f0>"
       ]
      },
      {
       "javascript": [
        "$('div#2667ddec-0f50-44a3-b49b-127d8748d437').text(' 48%');"
       ],
       "metadata": {},
       "output_type": "display_data",
       "text": [
        "<IPython.core.display.Javascript at 0x207e02b0>"
       ]
      },
      {
       "javascript": [
        "\n",
        "        var $myPB = $(\"div#86be5594-6d6d-4a34-a00e-e8577f3fa4c2\")\n",
        "        if ($myPB.hasClass('ui-progressbar')) {\n",
        "            $myPB.progressbar('value', 752);\n",
        "        } else {\n",
        "            $myPB.progressbar({value: 0, max: 1562});\n",
        "        }\n",
        "        "
       ],
       "metadata": {},
       "output_type": "display_data",
       "text": [
        "<IPython.core.display.Javascript at 0x207e0358>"
       ]
      },
      {
       "javascript": [
        "$('div#7407cab6-c6fd-4c69-ac19-32a793526183').text('ETA:  0:00:15');"
       ],
       "metadata": {},
       "output_type": "display_data",
       "text": [
        "<IPython.core.display.Javascript at 0x207e03c8>"
       ]
      },
      {
       "javascript": [
        "$('div#ec15a385-4492-4751-9f6b-3c45c1e1ea3a').text('768 of 1562');"
       ],
       "metadata": {},
       "output_type": "display_data",
       "text": [
        "<IPython.core.display.Javascript at 0x207e03c8>"
       ]
      },
      {
       "javascript": [
        "$('div#2667ddec-0f50-44a3-b49b-127d8748d437').text(' 49%');"
       ],
       "metadata": {},
       "output_type": "display_data",
       "text": [
        "<IPython.core.display.Javascript at 0x207e03c8>"
       ]
      },
      {
       "javascript": [
        "\n",
        "        var $myPB = $(\"div#86be5594-6d6d-4a34-a00e-e8577f3fa4c2\")\n",
        "        if ($myPB.hasClass('ui-progressbar')) {\n",
        "            $myPB.progressbar('value', 768);\n",
        "        } else {\n",
        "            $myPB.progressbar({value: 0, max: 1562});\n",
        "        }\n",
        "        "
       ],
       "metadata": {},
       "output_type": "display_data",
       "text": [
        "<IPython.core.display.Javascript at 0x207e02e8>"
       ]
      },
      {
       "javascript": [
        "$('div#7407cab6-c6fd-4c69-ac19-32a793526183').text('ETA:  0:00:15');"
       ],
       "metadata": {},
       "output_type": "display_data",
       "text": [
        "<IPython.core.display.Javascript at 0x207e00f0>"
       ]
      },
      {
       "javascript": [
        "$('div#ec15a385-4492-4751-9f6b-3c45c1e1ea3a').text('784 of 1562');"
       ],
       "metadata": {},
       "output_type": "display_data",
       "text": [
        "<IPython.core.display.Javascript at 0x207e02b0>"
       ]
      },
      {
       "javascript": [
        "$('div#2667ddec-0f50-44a3-b49b-127d8748d437').text(' 50%');"
       ],
       "metadata": {},
       "output_type": "display_data",
       "text": [
        "<IPython.core.display.Javascript at 0x207e02b0>"
       ]
      },
      {
       "javascript": [
        "\n",
        "        var $myPB = $(\"div#86be5594-6d6d-4a34-a00e-e8577f3fa4c2\")\n",
        "        if ($myPB.hasClass('ui-progressbar')) {\n",
        "            $myPB.progressbar('value', 784);\n",
        "        } else {\n",
        "            $myPB.progressbar({value: 0, max: 1562});\n",
        "        }\n",
        "        "
       ],
       "metadata": {},
       "output_type": "display_data",
       "text": [
        "<IPython.core.display.Javascript at 0x207e02e8>"
       ]
      },
      {
       "javascript": [
        "$('div#7407cab6-c6fd-4c69-ac19-32a793526183').text('ETA:  0:00:15');"
       ],
       "metadata": {},
       "output_type": "display_data",
       "text": [
        "<IPython.core.display.Javascript at 0x207e00f0>"
       ]
      },
      {
       "javascript": [
        "$('div#ec15a385-4492-4751-9f6b-3c45c1e1ea3a').text('800 of 1562');"
       ],
       "metadata": {},
       "output_type": "display_data",
       "text": [
        "<IPython.core.display.Javascript at 0x207e03c8>"
       ]
      },
      {
       "javascript": [
        "$('div#2667ddec-0f50-44a3-b49b-127d8748d437').text(' 51%');"
       ],
       "metadata": {},
       "output_type": "display_data",
       "text": [
        "<IPython.core.display.Javascript at 0x207e0240>"
       ]
      },
      {
       "javascript": [
        "\n",
        "        var $myPB = $(\"div#86be5594-6d6d-4a34-a00e-e8577f3fa4c2\")\n",
        "        if ($myPB.hasClass('ui-progressbar')) {\n",
        "            $myPB.progressbar('value', 800);\n",
        "        } else {\n",
        "            $myPB.progressbar({value: 0, max: 1562});\n",
        "        }\n",
        "        "
       ],
       "metadata": {},
       "output_type": "display_data",
       "text": [
        "<IPython.core.display.Javascript at 0x207e0240>"
       ]
      },
      {
       "javascript": [
        "$('div#7407cab6-c6fd-4c69-ac19-32a793526183').text('ETA:  0:00:15');"
       ],
       "metadata": {},
       "output_type": "display_data",
       "text": [
        "<IPython.core.display.Javascript at 0x207e02e8>"
       ]
      },
      {
       "javascript": [
        "$('div#ec15a385-4492-4751-9f6b-3c45c1e1ea3a').text('816 of 1562');"
       ],
       "metadata": {},
       "output_type": "display_data",
       "text": [
        "<IPython.core.display.Javascript at 0x207e0390>"
       ]
      },
      {
       "javascript": [
        "$('div#2667ddec-0f50-44a3-b49b-127d8748d437').text(' 52%');"
       ],
       "metadata": {},
       "output_type": "display_data",
       "text": [
        "<IPython.core.display.Javascript at 0x207e0240>"
       ]
      },
      {
       "javascript": [
        "\n",
        "        var $myPB = $(\"div#86be5594-6d6d-4a34-a00e-e8577f3fa4c2\")\n",
        "        if ($myPB.hasClass('ui-progressbar')) {\n",
        "            $myPB.progressbar('value', 816);\n",
        "        } else {\n",
        "            $myPB.progressbar({value: 0, max: 1562});\n",
        "        }\n",
        "        "
       ],
       "metadata": {},
       "output_type": "display_data",
       "text": [
        "<IPython.core.display.Javascript at 0x207e0240>"
       ]
      },
      {
       "javascript": [
        "$('div#7407cab6-c6fd-4c69-ac19-32a793526183').text('ETA:  0:00:14');"
       ],
       "metadata": {},
       "output_type": "display_data",
       "text": [
        "<IPython.core.display.Javascript at 0x207e0358>"
       ]
      },
      {
       "javascript": [
        "$('div#ec15a385-4492-4751-9f6b-3c45c1e1ea3a').text('832 of 1562');"
       ],
       "metadata": {},
       "output_type": "display_data",
       "text": [
        "<IPython.core.display.Javascript at 0x207e02e8>"
       ]
      },
      {
       "javascript": [
        "$('div#2667ddec-0f50-44a3-b49b-127d8748d437').text(' 53%');"
       ],
       "metadata": {},
       "output_type": "display_data",
       "text": [
        "<IPython.core.display.Javascript at 0x207e02e8>"
       ]
      },
      {
       "javascript": [
        "\n",
        "        var $myPB = $(\"div#86be5594-6d6d-4a34-a00e-e8577f3fa4c2\")\n",
        "        if ($myPB.hasClass('ui-progressbar')) {\n",
        "            $myPB.progressbar('value', 832);\n",
        "        } else {\n",
        "            $myPB.progressbar({value: 0, max: 1562});\n",
        "        }\n",
        "        "
       ],
       "metadata": {},
       "output_type": "display_data",
       "text": [
        "<IPython.core.display.Javascript at 0x207e0358>"
       ]
      },
      {
       "javascript": [
        "$('div#7407cab6-c6fd-4c69-ac19-32a793526183').text('ETA:  0:00:14');"
       ],
       "metadata": {},
       "output_type": "display_data",
       "text": [
        "<IPython.core.display.Javascript at 0x207e0320>"
       ]
      },
      {
       "javascript": [
        "$('div#ec15a385-4492-4751-9f6b-3c45c1e1ea3a').text('848 of 1562');"
       ],
       "metadata": {},
       "output_type": "display_data",
       "text": [
        "<IPython.core.display.Javascript at 0x207e00f0>"
       ]
      },
      {
       "javascript": [
        "$('div#2667ddec-0f50-44a3-b49b-127d8748d437').text(' 54%');"
       ],
       "metadata": {},
       "output_type": "display_data",
       "text": [
        "<IPython.core.display.Javascript at 0x207e0320>"
       ]
      },
      {
       "javascript": [
        "\n",
        "        var $myPB = $(\"div#86be5594-6d6d-4a34-a00e-e8577f3fa4c2\")\n",
        "        if ($myPB.hasClass('ui-progressbar')) {\n",
        "            $myPB.progressbar('value', 848);\n",
        "        } else {\n",
        "            $myPB.progressbar({value: 0, max: 1562});\n",
        "        }\n",
        "        "
       ],
       "metadata": {},
       "output_type": "display_data",
       "text": [
        "<IPython.core.display.Javascript at 0x207e02e8>"
       ]
      },
      {
       "javascript": [
        "$('div#7407cab6-c6fd-4c69-ac19-32a793526183').text('ETA:  0:00:14');"
       ],
       "metadata": {},
       "output_type": "display_data",
       "text": [
        "<IPython.core.display.Javascript at 0x207e0358>"
       ]
      },
      {
       "javascript": [
        "$('div#ec15a385-4492-4751-9f6b-3c45c1e1ea3a').text('864 of 1562');"
       ],
       "metadata": {},
       "output_type": "display_data",
       "text": [
        "<IPython.core.display.Javascript at 0x207e0358>"
       ]
      },
      {
       "javascript": [
        "$('div#2667ddec-0f50-44a3-b49b-127d8748d437').text(' 55%');"
       ],
       "metadata": {},
       "output_type": "display_data",
       "text": [
        "<IPython.core.display.Javascript at 0x207e0278>"
       ]
      },
      {
       "javascript": [
        "\n",
        "        var $myPB = $(\"div#86be5594-6d6d-4a34-a00e-e8577f3fa4c2\")\n",
        "        if ($myPB.hasClass('ui-progressbar')) {\n",
        "            $myPB.progressbar('value', 864);\n",
        "        } else {\n",
        "            $myPB.progressbar({value: 0, max: 1562});\n",
        "        }\n",
        "        "
       ],
       "metadata": {},
       "output_type": "display_data",
       "text": [
        "<IPython.core.display.Javascript at 0x207e02e8>"
       ]
      },
      {
       "javascript": [
        "$('div#7407cab6-c6fd-4c69-ac19-32a793526183').text('ETA:  0:00:14');"
       ],
       "metadata": {},
       "output_type": "display_data",
       "text": [
        "<IPython.core.display.Javascript at 0x207e0390>"
       ]
      },
      {
       "javascript": [
        "$('div#ec15a385-4492-4751-9f6b-3c45c1e1ea3a').text('880 of 1562');"
       ],
       "metadata": {},
       "output_type": "display_data",
       "text": [
        "<IPython.core.display.Javascript at 0x207e0390>"
       ]
      },
      {
       "javascript": [
        "$('div#2667ddec-0f50-44a3-b49b-127d8748d437').text(' 56%');"
       ],
       "metadata": {},
       "output_type": "display_data",
       "text": [
        "<IPython.core.display.Javascript at 0x207e00f0>"
       ]
      },
      {
       "javascript": [
        "\n",
        "        var $myPB = $(\"div#86be5594-6d6d-4a34-a00e-e8577f3fa4c2\")\n",
        "        if ($myPB.hasClass('ui-progressbar')) {\n",
        "            $myPB.progressbar('value', 880);\n",
        "        } else {\n",
        "            $myPB.progressbar({value: 0, max: 1562});\n",
        "        }\n",
        "        "
       ],
       "metadata": {},
       "output_type": "display_data",
       "text": [
        "<IPython.core.display.Javascript at 0x207e0278>"
       ]
      },
      {
       "javascript": [
        "$('div#7407cab6-c6fd-4c69-ac19-32a793526183').text('ETA:  0:00:14');"
       ],
       "metadata": {},
       "output_type": "display_data",
       "text": [
        "<IPython.core.display.Javascript at 0x207e0160>"
       ]
      },
      {
       "javascript": [
        "$('div#ec15a385-4492-4751-9f6b-3c45c1e1ea3a').text('896 of 1562');"
       ],
       "metadata": {},
       "output_type": "display_data",
       "text": [
        "<IPython.core.display.Javascript at 0x207e0160>"
       ]
      },
      {
       "javascript": [
        "$('div#2667ddec-0f50-44a3-b49b-127d8748d437').text(' 57%');"
       ],
       "metadata": {},
       "output_type": "display_data",
       "text": [
        "<IPython.core.display.Javascript at 0x207e0160>"
       ]
      },
      {
       "javascript": [
        "\n",
        "        var $myPB = $(\"div#86be5594-6d6d-4a34-a00e-e8577f3fa4c2\")\n",
        "        if ($myPB.hasClass('ui-progressbar')) {\n",
        "            $myPB.progressbar('value', 896);\n",
        "        } else {\n",
        "            $myPB.progressbar({value: 0, max: 1562});\n",
        "        }\n",
        "        "
       ],
       "metadata": {},
       "output_type": "display_data",
       "text": [
        "<IPython.core.display.Javascript at 0x207e0358>"
       ]
      },
      {
       "javascript": [
        "$('div#7407cab6-c6fd-4c69-ac19-32a793526183').text('ETA:  0:00:14');"
       ],
       "metadata": {},
       "output_type": "display_data",
       "text": [
        "<IPython.core.display.Javascript at 0x207e0390>"
       ]
      },
      {
       "javascript": [
        "$('div#ec15a385-4492-4751-9f6b-3c45c1e1ea3a').text('912 of 1562');"
       ],
       "metadata": {},
       "output_type": "display_data",
       "text": [
        "<IPython.core.display.Javascript at 0x207e00f0>"
       ]
      },
      {
       "javascript": [
        "$('div#2667ddec-0f50-44a3-b49b-127d8748d437').text(' 58%');"
       ],
       "metadata": {},
       "output_type": "display_data",
       "text": [
        "<IPython.core.display.Javascript at 0x207e00f0>"
       ]
      },
      {
       "javascript": [
        "\n",
        "        var $myPB = $(\"div#86be5594-6d6d-4a34-a00e-e8577f3fa4c2\")\n",
        "        if ($myPB.hasClass('ui-progressbar')) {\n",
        "            $myPB.progressbar('value', 912);\n",
        "        } else {\n",
        "            $myPB.progressbar({value: 0, max: 1562});\n",
        "        }\n",
        "        "
       ],
       "metadata": {},
       "output_type": "display_data",
       "text": [
        "<IPython.core.display.Javascript at 0x207e0278>"
       ]
      },
      {
       "javascript": [
        "$('div#7407cab6-c6fd-4c69-ac19-32a793526183').text('ETA:  0:00:13');"
       ],
       "metadata": {},
       "output_type": "display_data",
       "text": [
        "<IPython.core.display.Javascript at 0x207e0320>"
       ]
      },
      {
       "javascript": [
        "$('div#ec15a385-4492-4751-9f6b-3c45c1e1ea3a').text('928 of 1562');"
       ],
       "metadata": {},
       "output_type": "display_data",
       "text": [
        "<IPython.core.display.Javascript at 0x207e0358>"
       ]
      },
      {
       "javascript": [
        "$('div#2667ddec-0f50-44a3-b49b-127d8748d437').text(' 59%');"
       ],
       "metadata": {},
       "output_type": "display_data",
       "text": [
        "<IPython.core.display.Javascript at 0x207e0278>"
       ]
      },
      {
       "javascript": [
        "\n",
        "        var $myPB = $(\"div#86be5594-6d6d-4a34-a00e-e8577f3fa4c2\")\n",
        "        if ($myPB.hasClass('ui-progressbar')) {\n",
        "            $myPB.progressbar('value', 928);\n",
        "        } else {\n",
        "            $myPB.progressbar({value: 0, max: 1562});\n",
        "        }\n",
        "        "
       ],
       "metadata": {},
       "output_type": "display_data",
       "text": [
        "<IPython.core.display.Javascript at 0x207e00f0>"
       ]
      },
      {
       "javascript": [
        "$('div#7407cab6-c6fd-4c69-ac19-32a793526183').text('ETA:  0:00:13');"
       ],
       "metadata": {},
       "output_type": "display_data",
       "text": [
        "<IPython.core.display.Javascript at 0x207e00f0>"
       ]
      },
      {
       "javascript": [
        "$('div#ec15a385-4492-4751-9f6b-3c45c1e1ea3a').text('944 of 1562');"
       ],
       "metadata": {},
       "output_type": "display_data",
       "text": [
        "<IPython.core.display.Javascript at 0x207e0160>"
       ]
      },
      {
       "javascript": [
        "$('div#2667ddec-0f50-44a3-b49b-127d8748d437').text(' 60%');"
       ],
       "metadata": {},
       "output_type": "display_data",
       "text": [
        "<IPython.core.display.Javascript at 0x207e0358>"
       ]
      },
      {
       "javascript": [
        "\n",
        "        var $myPB = $(\"div#86be5594-6d6d-4a34-a00e-e8577f3fa4c2\")\n",
        "        if ($myPB.hasClass('ui-progressbar')) {\n",
        "            $myPB.progressbar('value', 944);\n",
        "        } else {\n",
        "            $myPB.progressbar({value: 0, max: 1562});\n",
        "        }\n",
        "        "
       ],
       "metadata": {},
       "output_type": "display_data",
       "text": [
        "<IPython.core.display.Javascript at 0x207e0240>"
       ]
      },
      {
       "javascript": [
        "$('div#7407cab6-c6fd-4c69-ac19-32a793526183').text('ETA:  0:00:13');"
       ],
       "metadata": {},
       "output_type": "display_data",
       "text": [
        "<IPython.core.display.Javascript at 0x207e00f0>"
       ]
      },
      {
       "javascript": [
        "$('div#ec15a385-4492-4751-9f6b-3c45c1e1ea3a').text('960 of 1562');"
       ],
       "metadata": {},
       "output_type": "display_data",
       "text": [
        "<IPython.core.display.Javascript at 0x207e00f0>"
       ]
      },
      {
       "javascript": [
        "$('div#2667ddec-0f50-44a3-b49b-127d8748d437').text(' 61%');"
       ],
       "metadata": {},
       "output_type": "display_data",
       "text": [
        "<IPython.core.display.Javascript at 0x207e0240>"
       ]
      },
      {
       "javascript": [
        "\n",
        "        var $myPB = $(\"div#86be5594-6d6d-4a34-a00e-e8577f3fa4c2\")\n",
        "        if ($myPB.hasClass('ui-progressbar')) {\n",
        "            $myPB.progressbar('value', 960);\n",
        "        } else {\n",
        "            $myPB.progressbar({value: 0, max: 1562});\n",
        "        }\n",
        "        "
       ],
       "metadata": {},
       "output_type": "display_data",
       "text": [
        "<IPython.core.display.Javascript at 0x207e0240>"
       ]
      },
      {
       "javascript": [
        "$('div#7407cab6-c6fd-4c69-ac19-32a793526183').text('ETA:  0:00:12');"
       ],
       "metadata": {},
       "output_type": "display_data",
       "text": [
        "<IPython.core.display.Javascript at 0x207e0358>"
       ]
      },
      {
       "javascript": [
        "$('div#ec15a385-4492-4751-9f6b-3c45c1e1ea3a').text('976 of 1562');"
       ],
       "metadata": {},
       "output_type": "display_data",
       "text": [
        "<IPython.core.display.Javascript at 0x207e0390>"
       ]
      },
      {
       "javascript": [
        "$('div#2667ddec-0f50-44a3-b49b-127d8748d437').text(' 62%');"
       ],
       "metadata": {},
       "output_type": "display_data",
       "text": [
        "<IPython.core.display.Javascript at 0x207e0240>"
       ]
      },
      {
       "javascript": [
        "\n",
        "        var $myPB = $(\"div#86be5594-6d6d-4a34-a00e-e8577f3fa4c2\")\n",
        "        if ($myPB.hasClass('ui-progressbar')) {\n",
        "            $myPB.progressbar('value', 976);\n",
        "        } else {\n",
        "            $myPB.progressbar({value: 0, max: 1562});\n",
        "        }\n",
        "        "
       ],
       "metadata": {},
       "output_type": "display_data",
       "text": [
        "<IPython.core.display.Javascript at 0x207e0240>"
       ]
      },
      {
       "javascript": [
        "$('div#7407cab6-c6fd-4c69-ac19-32a793526183').text('ETA:  0:00:12');"
       ],
       "metadata": {},
       "output_type": "display_data",
       "text": [
        "<IPython.core.display.Javascript at 0x207e0160>"
       ]
      },
      {
       "javascript": [
        "$('div#ec15a385-4492-4751-9f6b-3c45c1e1ea3a').text('992 of 1562');"
       ],
       "metadata": {},
       "output_type": "display_data",
       "text": [
        "<IPython.core.display.Javascript at 0x207e0390>"
       ]
      },
      {
       "javascript": [
        "$('div#2667ddec-0f50-44a3-b49b-127d8748d437').text(' 63%');"
       ],
       "metadata": {},
       "output_type": "display_data",
       "text": [
        "<IPython.core.display.Javascript at 0x207e0358>"
       ]
      },
      {
       "javascript": [
        "\n",
        "        var $myPB = $(\"div#86be5594-6d6d-4a34-a00e-e8577f3fa4c2\")\n",
        "        if ($myPB.hasClass('ui-progressbar')) {\n",
        "            $myPB.progressbar('value', 992);\n",
        "        } else {\n",
        "            $myPB.progressbar({value: 0, max: 1562});\n",
        "        }\n",
        "        "
       ],
       "metadata": {},
       "output_type": "display_data",
       "text": [
        "<IPython.core.display.Javascript at 0x207e0358>"
       ]
      },
      {
       "javascript": [
        "$('div#7407cab6-c6fd-4c69-ac19-32a793526183').text('ETA:  0:00:12');"
       ],
       "metadata": {},
       "output_type": "display_data",
       "text": [
        "<IPython.core.display.Javascript at 0x207e0160>"
       ]
      },
      {
       "javascript": [
        "$('div#ec15a385-4492-4751-9f6b-3c45c1e1ea3a').text('1008 of 1562');"
       ],
       "metadata": {},
       "output_type": "display_data",
       "text": [
        "<IPython.core.display.Javascript at 0x207e0390>"
       ]
      },
      {
       "javascript": [
        "$('div#2667ddec-0f50-44a3-b49b-127d8748d437').text(' 64%');"
       ],
       "metadata": {},
       "output_type": "display_data",
       "text": [
        "<IPython.core.display.Javascript at 0x207e00f0>"
       ]
      },
      {
       "javascript": [
        "\n",
        "        var $myPB = $(\"div#86be5594-6d6d-4a34-a00e-e8577f3fa4c2\")\n",
        "        if ($myPB.hasClass('ui-progressbar')) {\n",
        "            $myPB.progressbar('value', 1008);\n",
        "        } else {\n",
        "            $myPB.progressbar({value: 0, max: 1562});\n",
        "        }\n",
        "        "
       ],
       "metadata": {},
       "output_type": "display_data",
       "text": [
        "<IPython.core.display.Javascript at 0x207e0358>"
       ]
      },
      {
       "javascript": [
        "$('div#7407cab6-c6fd-4c69-ac19-32a793526183').text('ETA:  0:00:11');"
       ],
       "metadata": {},
       "output_type": "display_data",
       "text": [
        "<IPython.core.display.Javascript at 0x207e0358>"
       ]
      },
      {
       "javascript": [
        "$('div#ec15a385-4492-4751-9f6b-3c45c1e1ea3a').text('1024 of 1562');"
       ],
       "metadata": {},
       "output_type": "display_data",
       "text": [
        "<IPython.core.display.Javascript at 0x207e0160>"
       ]
      },
      {
       "javascript": [
        "$('div#2667ddec-0f50-44a3-b49b-127d8748d437').text(' 65%');"
       ],
       "metadata": {},
       "output_type": "display_data",
       "text": [
        "<IPython.core.display.Javascript at 0x207e00f0>"
       ]
      },
      {
       "javascript": [
        "\n",
        "        var $myPB = $(\"div#86be5594-6d6d-4a34-a00e-e8577f3fa4c2\")\n",
        "        if ($myPB.hasClass('ui-progressbar')) {\n",
        "            $myPB.progressbar('value', 1024);\n",
        "        } else {\n",
        "            $myPB.progressbar({value: 0, max: 1562});\n",
        "        }\n",
        "        "
       ],
       "metadata": {},
       "output_type": "display_data",
       "text": [
        "<IPython.core.display.Javascript at 0x207e0240>"
       ]
      },
      {
       "javascript": [
        "$('div#7407cab6-c6fd-4c69-ac19-32a793526183').text('ETA:  0:00:11');"
       ],
       "metadata": {},
       "output_type": "display_data",
       "text": [
        "<IPython.core.display.Javascript at 0x207e0358>"
       ]
      },
      {
       "javascript": [
        "$('div#ec15a385-4492-4751-9f6b-3c45c1e1ea3a').text('1040 of 1562');"
       ],
       "metadata": {},
       "output_type": "display_data",
       "text": [
        "<IPython.core.display.Javascript at 0x207e0390>"
       ]
      },
      {
       "javascript": [
        "$('div#2667ddec-0f50-44a3-b49b-127d8748d437').text(' 66%');"
       ],
       "metadata": {},
       "output_type": "display_data",
       "text": [
        "<IPython.core.display.Javascript at 0x207e02e8>"
       ]
      },
      {
       "javascript": [
        "\n",
        "        var $myPB = $(\"div#86be5594-6d6d-4a34-a00e-e8577f3fa4c2\")\n",
        "        if ($myPB.hasClass('ui-progressbar')) {\n",
        "            $myPB.progressbar('value', 1040);\n",
        "        } else {\n",
        "            $myPB.progressbar({value: 0, max: 1562});\n",
        "        }\n",
        "        "
       ],
       "metadata": {},
       "output_type": "display_data",
       "text": [
        "<IPython.core.display.Javascript at 0x207e0278>"
       ]
      },
      {
       "javascript": [
        "$('div#7407cab6-c6fd-4c69-ac19-32a793526183').text('ETA:  0:00:11');"
       ],
       "metadata": {},
       "output_type": "display_data",
       "text": [
        "<IPython.core.display.Javascript at 0x207e0278>"
       ]
      },
      {
       "javascript": [
        "$('div#ec15a385-4492-4751-9f6b-3c45c1e1ea3a').text('1056 of 1562');"
       ],
       "metadata": {},
       "output_type": "display_data",
       "text": [
        "<IPython.core.display.Javascript at 0x207e00f0>"
       ]
      },
      {
       "javascript": [
        "$('div#2667ddec-0f50-44a3-b49b-127d8748d437').text(' 67%');"
       ],
       "metadata": {},
       "output_type": "display_data",
       "text": [
        "<IPython.core.display.Javascript at 0x207e02e8>"
       ]
      },
      {
       "javascript": [
        "\n",
        "        var $myPB = $(\"div#86be5594-6d6d-4a34-a00e-e8577f3fa4c2\")\n",
        "        if ($myPB.hasClass('ui-progressbar')) {\n",
        "            $myPB.progressbar('value', 1056);\n",
        "        } else {\n",
        "            $myPB.progressbar({value: 0, max: 1562});\n",
        "        }\n",
        "        "
       ],
       "metadata": {},
       "output_type": "display_data",
       "text": [
        "<IPython.core.display.Javascript at 0x207e0278>"
       ]
      },
      {
       "javascript": [
        "$('div#7407cab6-c6fd-4c69-ac19-32a793526183').text('ETA:  0:00:11');"
       ],
       "metadata": {},
       "output_type": "display_data",
       "text": [
        "<IPython.core.display.Javascript at 0x207e02b0>"
       ]
      },
      {
       "javascript": [
        "$('div#ec15a385-4492-4751-9f6b-3c45c1e1ea3a').text('1072 of 1562');"
       ],
       "metadata": {},
       "output_type": "display_data",
       "text": [
        "<IPython.core.display.Javascript at 0x207e02b0>"
       ]
      },
      {
       "javascript": [
        "$('div#2667ddec-0f50-44a3-b49b-127d8748d437').text(' 68%');"
       ],
       "metadata": {},
       "output_type": "display_data",
       "text": [
        "<IPython.core.display.Javascript at 0x207e0390>"
       ]
      },
      {
       "javascript": [
        "\n",
        "        var $myPB = $(\"div#86be5594-6d6d-4a34-a00e-e8577f3fa4c2\")\n",
        "        if ($myPB.hasClass('ui-progressbar')) {\n",
        "            $myPB.progressbar('value', 1072);\n",
        "        } else {\n",
        "            $myPB.progressbar({value: 0, max: 1562});\n",
        "        }\n",
        "        "
       ],
       "metadata": {},
       "output_type": "display_data",
       "text": [
        "<IPython.core.display.Javascript at 0x207e0278>"
       ]
      },
      {
       "javascript": [
        "$('div#7407cab6-c6fd-4c69-ac19-32a793526183').text('ETA:  0:00:10');"
       ],
       "metadata": {},
       "output_type": "display_data",
       "text": [
        "<IPython.core.display.Javascript at 0x207e0320>"
       ]
      },
      {
       "javascript": [
        "$('div#ec15a385-4492-4751-9f6b-3c45c1e1ea3a').text('1088 of 1562');"
       ],
       "metadata": {},
       "output_type": "display_data",
       "text": [
        "<IPython.core.display.Javascript at 0x207e0320>"
       ]
      },
      {
       "javascript": [
        "$('div#2667ddec-0f50-44a3-b49b-127d8748d437').text(' 69%');"
       ],
       "metadata": {},
       "output_type": "display_data",
       "text": [
        "<IPython.core.display.Javascript at 0x207e02b0>"
       ]
      },
      {
       "javascript": [
        "\n",
        "        var $myPB = $(\"div#86be5594-6d6d-4a34-a00e-e8577f3fa4c2\")\n",
        "        if ($myPB.hasClass('ui-progressbar')) {\n",
        "            $myPB.progressbar('value', 1088);\n",
        "        } else {\n",
        "            $myPB.progressbar({value: 0, max: 1562});\n",
        "        }\n",
        "        "
       ],
       "metadata": {},
       "output_type": "display_data",
       "text": [
        "<IPython.core.display.Javascript at 0x207e03c8>"
       ]
      },
      {
       "javascript": [
        "$('div#7407cab6-c6fd-4c69-ac19-32a793526183').text('ETA:  0:00:10');"
       ],
       "metadata": {},
       "output_type": "display_data",
       "text": [
        "<IPython.core.display.Javascript at 0x207e00f0>"
       ]
      },
      {
       "javascript": [
        "$('div#ec15a385-4492-4751-9f6b-3c45c1e1ea3a').text('1104 of 1562');"
       ],
       "metadata": {},
       "output_type": "display_data",
       "text": [
        "<IPython.core.display.Javascript at 0x207e00f0>"
       ]
      },
      {
       "javascript": [
        "$('div#2667ddec-0f50-44a3-b49b-127d8748d437').text(' 70%');"
       ],
       "metadata": {},
       "output_type": "display_data",
       "text": [
        "<IPython.core.display.Javascript at 0x207e0278>"
       ]
      },
      {
       "javascript": [
        "\n",
        "        var $myPB = $(\"div#86be5594-6d6d-4a34-a00e-e8577f3fa4c2\")\n",
        "        if ($myPB.hasClass('ui-progressbar')) {\n",
        "            $myPB.progressbar('value', 1104);\n",
        "        } else {\n",
        "            $myPB.progressbar({value: 0, max: 1562});\n",
        "        }\n",
        "        "
       ],
       "metadata": {},
       "output_type": "display_data",
       "text": [
        "<IPython.core.display.Javascript at 0x207e02e8>"
       ]
      },
      {
       "javascript": [
        "$('div#7407cab6-c6fd-4c69-ac19-32a793526183').text('ETA:  0:00:10');"
       ],
       "metadata": {},
       "output_type": "display_data",
       "text": [
        "<IPython.core.display.Javascript at 0x207e0390>"
       ]
      },
      {
       "javascript": [
        "$('div#ec15a385-4492-4751-9f6b-3c45c1e1ea3a').text('1120 of 1562');"
       ],
       "metadata": {},
       "output_type": "display_data",
       "text": [
        "<IPython.core.display.Javascript at 0x207e0390>"
       ]
      },
      {
       "javascript": [
        "$('div#2667ddec-0f50-44a3-b49b-127d8748d437').text(' 71%');"
       ],
       "metadata": {},
       "output_type": "display_data",
       "text": [
        "<IPython.core.display.Javascript at 0x207e0390>"
       ]
      },
      {
       "javascript": [
        "\n",
        "        var $myPB = $(\"div#86be5594-6d6d-4a34-a00e-e8577f3fa4c2\")\n",
        "        if ($myPB.hasClass('ui-progressbar')) {\n",
        "            $myPB.progressbar('value', 1120);\n",
        "        } else {\n",
        "            $myPB.progressbar({value: 0, max: 1562});\n",
        "        }\n",
        "        "
       ],
       "metadata": {},
       "output_type": "display_data",
       "text": [
        "<IPython.core.display.Javascript at 0x207e02e8>"
       ]
      },
      {
       "javascript": [
        "$('div#7407cab6-c6fd-4c69-ac19-32a793526183').text('ETA:  0:00:09');"
       ],
       "metadata": {},
       "output_type": "display_data",
       "text": [
        "<IPython.core.display.Javascript at 0x207e0400>"
       ]
      },
      {
       "javascript": [
        "$('div#ec15a385-4492-4751-9f6b-3c45c1e1ea3a').text('1136 of 1562');"
       ],
       "metadata": {},
       "output_type": "display_data",
       "text": [
        "<IPython.core.display.Javascript at 0x207e0278>"
       ]
      },
      {
       "javascript": [
        "$('div#2667ddec-0f50-44a3-b49b-127d8748d437').text(' 72%');"
       ],
       "metadata": {},
       "output_type": "display_data",
       "text": [
        "<IPython.core.display.Javascript at 0x207e0278>"
       ]
      },
      {
       "javascript": [
        "\n",
        "        var $myPB = $(\"div#86be5594-6d6d-4a34-a00e-e8577f3fa4c2\")\n",
        "        if ($myPB.hasClass('ui-progressbar')) {\n",
        "            $myPB.progressbar('value', 1136);\n",
        "        } else {\n",
        "            $myPB.progressbar({value: 0, max: 1562});\n",
        "        }\n",
        "        "
       ],
       "metadata": {},
       "output_type": "display_data",
       "text": [
        "<IPython.core.display.Javascript at 0x207e0390>"
       ]
      },
      {
       "javascript": [
        "$('div#7407cab6-c6fd-4c69-ac19-32a793526183').text('ETA:  0:00:09');"
       ],
       "metadata": {},
       "output_type": "display_data",
       "text": [
        "<IPython.core.display.Javascript at 0x207e00f0>"
       ]
      },
      {
       "javascript": [
        "$('div#ec15a385-4492-4751-9f6b-3c45c1e1ea3a').text('1152 of 1562');"
       ],
       "metadata": {},
       "output_type": "display_data",
       "text": [
        "<IPython.core.display.Javascript at 0x207e02e8>"
       ]
      },
      {
       "javascript": [
        "$('div#2667ddec-0f50-44a3-b49b-127d8748d437').text(' 73%');"
       ],
       "metadata": {},
       "output_type": "display_data",
       "text": [
        "<IPython.core.display.Javascript at 0x207e02e8>"
       ]
      },
      {
       "javascript": [
        "\n",
        "        var $myPB = $(\"div#86be5594-6d6d-4a34-a00e-e8577f3fa4c2\")\n",
        "        if ($myPB.hasClass('ui-progressbar')) {\n",
        "            $myPB.progressbar('value', 1152);\n",
        "        } else {\n",
        "            $myPB.progressbar({value: 0, max: 1562});\n",
        "        }\n",
        "        "
       ],
       "metadata": {},
       "output_type": "display_data",
       "text": [
        "<IPython.core.display.Javascript at 0x207e00f0>"
       ]
      },
      {
       "javascript": [
        "$('div#7407cab6-c6fd-4c69-ac19-32a793526183').text('ETA:  0:00:09');"
       ],
       "metadata": {},
       "output_type": "display_data",
       "text": [
        "<IPython.core.display.Javascript at 0x207e0160>"
       ]
      },
      {
       "javascript": [
        "$('div#ec15a385-4492-4751-9f6b-3c45c1e1ea3a').text('1168 of 1562');"
       ],
       "metadata": {},
       "output_type": "display_data",
       "text": [
        "<IPython.core.display.Javascript at 0x207e0390>"
       ]
      },
      {
       "javascript": [
        "$('div#2667ddec-0f50-44a3-b49b-127d8748d437').text(' 74%');"
       ],
       "metadata": {},
       "output_type": "display_data",
       "text": [
        "<IPython.core.display.Javascript at 0x207e0278>"
       ]
      },
      {
       "javascript": [
        "\n",
        "        var $myPB = $(\"div#86be5594-6d6d-4a34-a00e-e8577f3fa4c2\")\n",
        "        if ($myPB.hasClass('ui-progressbar')) {\n",
        "            $myPB.progressbar('value', 1168);\n",
        "        } else {\n",
        "            $myPB.progressbar({value: 0, max: 1562});\n",
        "        }\n",
        "        "
       ],
       "metadata": {},
       "output_type": "display_data",
       "text": [
        "<IPython.core.display.Javascript at 0x207e00f0>"
       ]
      },
      {
       "javascript": [
        "$('div#7407cab6-c6fd-4c69-ac19-32a793526183').text('ETA:  0:00:08');"
       ],
       "metadata": {},
       "output_type": "display_data",
       "text": [
        "<IPython.core.display.Javascript at 0x207e0160>"
       ]
      },
      {
       "javascript": [
        "$('div#ec15a385-4492-4751-9f6b-3c45c1e1ea3a').text('1184 of 1562');"
       ],
       "metadata": {},
       "output_type": "display_data",
       "text": [
        "<IPython.core.display.Javascript at 0x207e0400>"
       ]
      },
      {
       "javascript": [
        "$('div#2667ddec-0f50-44a3-b49b-127d8748d437').text(' 75%');"
       ],
       "metadata": {},
       "output_type": "display_data",
       "text": [
        "<IPython.core.display.Javascript at 0x207e0390>"
       ]
      },
      {
       "javascript": [
        "\n",
        "        var $myPB = $(\"div#86be5594-6d6d-4a34-a00e-e8577f3fa4c2\")\n",
        "        if ($myPB.hasClass('ui-progressbar')) {\n",
        "            $myPB.progressbar('value', 1184);\n",
        "        } else {\n",
        "            $myPB.progressbar({value: 0, max: 1562});\n",
        "        }\n",
        "        "
       ],
       "metadata": {},
       "output_type": "display_data",
       "text": [
        "<IPython.core.display.Javascript at 0x207e0390>"
       ]
      },
      {
       "javascript": [
        "$('div#7407cab6-c6fd-4c69-ac19-32a793526183').text('ETA:  0:00:08');"
       ],
       "metadata": {},
       "output_type": "display_data",
       "text": [
        "<IPython.core.display.Javascript at 0x207e0160>"
       ]
      },
      {
       "javascript": [
        "$('div#ec15a385-4492-4751-9f6b-3c45c1e1ea3a').text('1200 of 1562');"
       ],
       "metadata": {},
       "output_type": "display_data",
       "text": [
        "<IPython.core.display.Javascript at 0x207e0400>"
       ]
      },
      {
       "javascript": [
        "$('div#2667ddec-0f50-44a3-b49b-127d8748d437').text(' 76%');"
       ],
       "metadata": {},
       "output_type": "display_data",
       "text": [
        "<IPython.core.display.Javascript at 0x207e03c8>"
       ]
      },
      {
       "javascript": [
        "\n",
        "        var $myPB = $(\"div#86be5594-6d6d-4a34-a00e-e8577f3fa4c2\")\n",
        "        if ($myPB.hasClass('ui-progressbar')) {\n",
        "            $myPB.progressbar('value', 1200);\n",
        "        } else {\n",
        "            $myPB.progressbar({value: 0, max: 1562});\n",
        "        }\n",
        "        "
       ],
       "metadata": {},
       "output_type": "display_data",
       "text": [
        "<IPython.core.display.Javascript at 0x207e03c8>"
       ]
      },
      {
       "javascript": [
        "$('div#7407cab6-c6fd-4c69-ac19-32a793526183').text('ETA:  0:00:08');"
       ],
       "metadata": {},
       "output_type": "display_data",
       "text": [
        "<IPython.core.display.Javascript at 0x207e0160>"
       ]
      },
      {
       "javascript": [
        "$('div#ec15a385-4492-4751-9f6b-3c45c1e1ea3a').text('1216 of 1562');"
       ],
       "metadata": {},
       "output_type": "display_data",
       "text": [
        "<IPython.core.display.Javascript at 0x207e0400>"
       ]
      },
      {
       "javascript": [
        "$('div#2667ddec-0f50-44a3-b49b-127d8748d437').text(' 77%');"
       ],
       "metadata": {},
       "output_type": "display_data",
       "text": [
        "<IPython.core.display.Javascript at 0x207e00f0>"
       ]
      },
      {
       "javascript": [
        "\n",
        "        var $myPB = $(\"div#86be5594-6d6d-4a34-a00e-e8577f3fa4c2\")\n",
        "        if ($myPB.hasClass('ui-progressbar')) {\n",
        "            $myPB.progressbar('value', 1216);\n",
        "        } else {\n",
        "            $myPB.progressbar({value: 0, max: 1562});\n",
        "        }\n",
        "        "
       ],
       "metadata": {},
       "output_type": "display_data",
       "text": [
        "<IPython.core.display.Javascript at 0x207e03c8>"
       ]
      },
      {
       "javascript": [
        "$('div#7407cab6-c6fd-4c69-ac19-32a793526183').text('ETA:  0:00:07');"
       ],
       "metadata": {},
       "output_type": "display_data",
       "text": [
        "<IPython.core.display.Javascript at 0x207e0160>"
       ]
      },
      {
       "javascript": [
        "$('div#ec15a385-4492-4751-9f6b-3c45c1e1ea3a').text('1232 of 1562');"
       ],
       "metadata": {},
       "output_type": "display_data",
       "text": [
        "<IPython.core.display.Javascript at 0x207e0160>"
       ]
      },
      {
       "javascript": [
        "$('div#2667ddec-0f50-44a3-b49b-127d8748d437').text(' 78%');"
       ],
       "metadata": {},
       "output_type": "display_data",
       "text": [
        "<IPython.core.display.Javascript at 0x207e0160>"
       ]
      },
      {
       "javascript": [
        "\n",
        "        var $myPB = $(\"div#86be5594-6d6d-4a34-a00e-e8577f3fa4c2\")\n",
        "        if ($myPB.hasClass('ui-progressbar')) {\n",
        "            $myPB.progressbar('value', 1232);\n",
        "        } else {\n",
        "            $myPB.progressbar({value: 0, max: 1562});\n",
        "        }\n",
        "        "
       ],
       "metadata": {},
       "output_type": "display_data",
       "text": [
        "<IPython.core.display.Javascript at 0x207e0390>"
       ]
      },
      {
       "javascript": [
        "$('div#7407cab6-c6fd-4c69-ac19-32a793526183').text('ETA:  0:00:07');"
       ],
       "metadata": {},
       "output_type": "display_data",
       "text": [
        "<IPython.core.display.Javascript at 0x207e0400>"
       ]
      },
      {
       "javascript": [
        "$('div#ec15a385-4492-4751-9f6b-3c45c1e1ea3a').text('1248 of 1562');"
       ],
       "metadata": {},
       "output_type": "display_data",
       "text": [
        "<IPython.core.display.Javascript at 0x207e03c8>"
       ]
      },
      {
       "javascript": [
        "$('div#2667ddec-0f50-44a3-b49b-127d8748d437').text(' 79%');"
       ],
       "metadata": {},
       "output_type": "display_data",
       "text": [
        "<IPython.core.display.Javascript at 0x207e00f0>"
       ]
      },
      {
       "javascript": [
        "\n",
        "        var $myPB = $(\"div#86be5594-6d6d-4a34-a00e-e8577f3fa4c2\")\n",
        "        if ($myPB.hasClass('ui-progressbar')) {\n",
        "            $myPB.progressbar('value', 1248);\n",
        "        } else {\n",
        "            $myPB.progressbar({value: 0, max: 1562});\n",
        "        }\n",
        "        "
       ],
       "metadata": {},
       "output_type": "display_data",
       "text": [
        "<IPython.core.display.Javascript at 0x207e00f0>"
       ]
      },
      {
       "javascript": [
        "$('div#7407cab6-c6fd-4c69-ac19-32a793526183').text('ETA:  0:00:07');"
       ],
       "metadata": {},
       "output_type": "display_data",
       "text": [
        "<IPython.core.display.Javascript at 0x207e0400>"
       ]
      },
      {
       "javascript": [
        "$('div#ec15a385-4492-4751-9f6b-3c45c1e1ea3a').text('1264 of 1562');"
       ],
       "metadata": {},
       "output_type": "display_data",
       "text": [
        "<IPython.core.display.Javascript at 0x207e0160>"
       ]
      },
      {
       "javascript": [
        "$('div#2667ddec-0f50-44a3-b49b-127d8748d437').text(' 80%');"
       ],
       "metadata": {},
       "output_type": "display_data",
       "text": [
        "<IPython.core.display.Javascript at 0x207e0400>"
       ]
      },
      {
       "javascript": [
        "\n",
        "        var $myPB = $(\"div#86be5594-6d6d-4a34-a00e-e8577f3fa4c2\")\n",
        "        if ($myPB.hasClass('ui-progressbar')) {\n",
        "            $myPB.progressbar('value', 1264);\n",
        "        } else {\n",
        "            $myPB.progressbar({value: 0, max: 1562});\n",
        "        }\n",
        "        "
       ],
       "metadata": {},
       "output_type": "display_data",
       "text": [
        "<IPython.core.display.Javascript at 0x207e0400>"
       ]
      },
      {
       "javascript": [
        "$('div#7407cab6-c6fd-4c69-ac19-32a793526183').text('ETA:  0:00:06');"
       ],
       "metadata": {},
       "output_type": "display_data",
       "text": [
        "<IPython.core.display.Javascript at 0x207e00f0>"
       ]
      },
      {
       "javascript": [
        "$('div#ec15a385-4492-4751-9f6b-3c45c1e1ea3a').text('1280 of 1562');"
       ],
       "metadata": {},
       "output_type": "display_data",
       "text": [
        "<IPython.core.display.Javascript at 0x207e0358>"
       ]
      },
      {
       "javascript": [
        "$('div#2667ddec-0f50-44a3-b49b-127d8748d437').text(' 81%');"
       ],
       "metadata": {},
       "output_type": "display_data",
       "text": [
        "<IPython.core.display.Javascript at 0x207e00f0>"
       ]
      },
      {
       "javascript": [
        "\n",
        "        var $myPB = $(\"div#86be5594-6d6d-4a34-a00e-e8577f3fa4c2\")\n",
        "        if ($myPB.hasClass('ui-progressbar')) {\n",
        "            $myPB.progressbar('value', 1280);\n",
        "        } else {\n",
        "            $myPB.progressbar({value: 0, max: 1562});\n",
        "        }\n",
        "        "
       ],
       "metadata": {},
       "output_type": "display_data",
       "text": [
        "<IPython.core.display.Javascript at 0x207e0400>"
       ]
      },
      {
       "javascript": [
        "$('div#7407cab6-c6fd-4c69-ac19-32a793526183').text('ETA:  0:00:06');"
       ],
       "metadata": {},
       "output_type": "display_data",
       "text": [
        "<IPython.core.display.Javascript at 0x207e0400>"
       ]
      },
      {
       "javascript": [
        "$('div#ec15a385-4492-4751-9f6b-3c45c1e1ea3a').text('1296 of 1562');"
       ],
       "metadata": {},
       "output_type": "display_data",
       "text": [
        "<IPython.core.display.Javascript at 0x207e02e8>"
       ]
      },
      {
       "javascript": [
        "$('div#2667ddec-0f50-44a3-b49b-127d8748d437').text(' 82%');"
       ],
       "metadata": {},
       "output_type": "display_data",
       "text": [
        "<IPython.core.display.Javascript at 0x207e0278>"
       ]
      },
      {
       "javascript": [
        "\n",
        "        var $myPB = $(\"div#86be5594-6d6d-4a34-a00e-e8577f3fa4c2\")\n",
        "        if ($myPB.hasClass('ui-progressbar')) {\n",
        "            $myPB.progressbar('value', 1296);\n",
        "        } else {\n",
        "            $myPB.progressbar({value: 0, max: 1562});\n",
        "        }\n",
        "        "
       ],
       "metadata": {},
       "output_type": "display_data",
       "text": [
        "<IPython.core.display.Javascript at 0x207e0390>"
       ]
      },
      {
       "javascript": [
        "$('div#7407cab6-c6fd-4c69-ac19-32a793526183').text('ETA:  0:00:06');"
       ],
       "metadata": {},
       "output_type": "display_data",
       "text": [
        "<IPython.core.display.Javascript at 0x207e0400>"
       ]
      },
      {
       "javascript": [
        "$('div#ec15a385-4492-4751-9f6b-3c45c1e1ea3a').text('1312 of 1562');"
       ],
       "metadata": {},
       "output_type": "display_data",
       "text": [
        "<IPython.core.display.Javascript at 0x207e0400>"
       ]
      },
      {
       "javascript": [
        "$('div#2667ddec-0f50-44a3-b49b-127d8748d437').text(' 83%');"
       ],
       "metadata": {},
       "output_type": "display_data",
       "text": [
        "<IPython.core.display.Javascript at 0x207e0160>"
       ]
      },
      {
       "javascript": [
        "\n",
        "        var $myPB = $(\"div#86be5594-6d6d-4a34-a00e-e8577f3fa4c2\")\n",
        "        if ($myPB.hasClass('ui-progressbar')) {\n",
        "            $myPB.progressbar('value', 1312);\n",
        "        } else {\n",
        "            $myPB.progressbar({value: 0, max: 1562});\n",
        "        }\n",
        "        "
       ],
       "metadata": {},
       "output_type": "display_data",
       "text": [
        "<IPython.core.display.Javascript at 0x207e0278>"
       ]
      },
      {
       "javascript": [
        "$('div#7407cab6-c6fd-4c69-ac19-32a793526183').text('ETA:  0:00:05');"
       ],
       "metadata": {},
       "output_type": "display_data",
       "text": [
        "<IPython.core.display.Javascript at 0x207e03c8>"
       ]
      },
      {
       "javascript": [
        "$('div#ec15a385-4492-4751-9f6b-3c45c1e1ea3a').text('1328 of 1562');"
       ],
       "metadata": {},
       "output_type": "display_data",
       "text": [
        "<IPython.core.display.Javascript at 0x207e03c8>"
       ]
      },
      {
       "javascript": [
        "$('div#2667ddec-0f50-44a3-b49b-127d8748d437').text(' 85%');"
       ],
       "metadata": {},
       "output_type": "display_data",
       "text": [
        "<IPython.core.display.Javascript at 0x207e02e8>"
       ]
      },
      {
       "javascript": [
        "\n",
        "        var $myPB = $(\"div#86be5594-6d6d-4a34-a00e-e8577f3fa4c2\")\n",
        "        if ($myPB.hasClass('ui-progressbar')) {\n",
        "            $myPB.progressbar('value', 1328);\n",
        "        } else {\n",
        "            $myPB.progressbar({value: 0, max: 1562});\n",
        "        }\n",
        "        "
       ],
       "metadata": {},
       "output_type": "display_data",
       "text": [
        "<IPython.core.display.Javascript at 0x207e0278>"
       ]
      },
      {
       "javascript": [
        "$('div#7407cab6-c6fd-4c69-ac19-32a793526183').text('ETA:  0:00:05');"
       ],
       "metadata": {},
       "output_type": "display_data",
       "text": [
        "<IPython.core.display.Javascript at 0x207e0240>"
       ]
      },
      {
       "javascript": [
        "$('div#ec15a385-4492-4751-9f6b-3c45c1e1ea3a').text('1344 of 1562');"
       ],
       "metadata": {},
       "output_type": "display_data",
       "text": [
        "<IPython.core.display.Javascript at 0x207e0240>"
       ]
      },
      {
       "javascript": [
        "$('div#2667ddec-0f50-44a3-b49b-127d8748d437').text(' 86%');"
       ],
       "metadata": {},
       "output_type": "display_data",
       "text": [
        "<IPython.core.display.Javascript at 0x207e0400>"
       ]
      },
      {
       "javascript": [
        "\n",
        "        var $myPB = $(\"div#86be5594-6d6d-4a34-a00e-e8577f3fa4c2\")\n",
        "        if ($myPB.hasClass('ui-progressbar')) {\n",
        "            $myPB.progressbar('value', 1344);\n",
        "        } else {\n",
        "            $myPB.progressbar({value: 0, max: 1562});\n",
        "        }\n",
        "        "
       ],
       "metadata": {},
       "output_type": "display_data",
       "text": [
        "<IPython.core.display.Javascript at 0x207e0278>"
       ]
      },
      {
       "javascript": [
        "$('div#7407cab6-c6fd-4c69-ac19-32a793526183').text('ETA:  0:00:05');"
       ],
       "metadata": {},
       "output_type": "display_data",
       "text": [
        "<IPython.core.display.Javascript at 0x207e0438>"
       ]
      },
      {
       "javascript": [
        "$('div#ec15a385-4492-4751-9f6b-3c45c1e1ea3a').text('1360 of 1562');"
       ],
       "metadata": {},
       "output_type": "display_data",
       "text": [
        "<IPython.core.display.Javascript at 0x207e0438>"
       ]
      },
      {
       "javascript": [
        "$('div#2667ddec-0f50-44a3-b49b-127d8748d437').text(' 87%');"
       ],
       "metadata": {},
       "output_type": "display_data",
       "text": [
        "<IPython.core.display.Javascript at 0x207e0438>"
       ]
      },
      {
       "javascript": [
        "\n",
        "        var $myPB = $(\"div#86be5594-6d6d-4a34-a00e-e8577f3fa4c2\")\n",
        "        if ($myPB.hasClass('ui-progressbar')) {\n",
        "            $myPB.progressbar('value', 1360);\n",
        "        } else {\n",
        "            $myPB.progressbar({value: 0, max: 1562});\n",
        "        }\n",
        "        "
       ],
       "metadata": {},
       "output_type": "display_data",
       "text": [
        "<IPython.core.display.Javascript at 0x207e0390>"
       ]
      },
      {
       "javascript": [
        "$('div#7407cab6-c6fd-4c69-ac19-32a793526183').text('ETA:  0:00:04');"
       ],
       "metadata": {},
       "output_type": "display_data",
       "text": [
        "<IPython.core.display.Javascript at 0x207e0240>"
       ]
      },
      {
       "javascript": [
        "$('div#ec15a385-4492-4751-9f6b-3c45c1e1ea3a').text('1376 of 1562');"
       ],
       "metadata": {},
       "output_type": "display_data",
       "text": [
        "<IPython.core.display.Javascript at 0x207e0278>"
       ]
      },
      {
       "javascript": [
        "$('div#2667ddec-0f50-44a3-b49b-127d8748d437').text(' 88%');"
       ],
       "metadata": {},
       "output_type": "display_data",
       "text": [
        "<IPython.core.display.Javascript at 0x207e0278>"
       ]
      },
      {
       "javascript": [
        "\n",
        "        var $myPB = $(\"div#86be5594-6d6d-4a34-a00e-e8577f3fa4c2\")\n",
        "        if ($myPB.hasClass('ui-progressbar')) {\n",
        "            $myPB.progressbar('value', 1376);\n",
        "        } else {\n",
        "            $myPB.progressbar({value: 0, max: 1562});\n",
        "        }\n",
        "        "
       ],
       "metadata": {},
       "output_type": "display_data",
       "text": [
        "<IPython.core.display.Javascript at 0x207e0400>"
       ]
      },
      {
       "javascript": [
        "$('div#7407cab6-c6fd-4c69-ac19-32a793526183').text('ETA:  0:00:04');"
       ],
       "metadata": {},
       "output_type": "display_data",
       "text": [
        "<IPython.core.display.Javascript at 0x207e0438>"
       ]
      },
      {
       "javascript": [
        "$('div#ec15a385-4492-4751-9f6b-3c45c1e1ea3a').text('1392 of 1562');"
       ],
       "metadata": {},
       "output_type": "display_data",
       "text": [
        "<IPython.core.display.Javascript at 0x207e0240>"
       ]
      },
      {
       "javascript": [
        "$('div#2667ddec-0f50-44a3-b49b-127d8748d437').text(' 89%');"
       ],
       "metadata": {},
       "output_type": "display_data",
       "text": [
        "<IPython.core.display.Javascript at 0x207e0400>"
       ]
      },
      {
       "javascript": [
        "\n",
        "        var $myPB = $(\"div#86be5594-6d6d-4a34-a00e-e8577f3fa4c2\")\n",
        "        if ($myPB.hasClass('ui-progressbar')) {\n",
        "            $myPB.progressbar('value', 1392);\n",
        "        } else {\n",
        "            $myPB.progressbar({value: 0, max: 1562});\n",
        "        }\n",
        "        "
       ],
       "metadata": {},
       "output_type": "display_data",
       "text": [
        "<IPython.core.display.Javascript at 0x207e0400>"
       ]
      },
      {
       "javascript": [
        "$('div#7407cab6-c6fd-4c69-ac19-32a793526183').text('ETA:  0:00:03');"
       ],
       "metadata": {},
       "output_type": "display_data",
       "text": [
        "<IPython.core.display.Javascript at 0x207e0278>"
       ]
      },
      {
       "javascript": [
        "$('div#ec15a385-4492-4751-9f6b-3c45c1e1ea3a').text('1408 of 1562');"
       ],
       "metadata": {},
       "output_type": "display_data",
       "text": [
        "<IPython.core.display.Javascript at 0x207e0240>"
       ]
      },
      {
       "javascript": [
        "$('div#2667ddec-0f50-44a3-b49b-127d8748d437').text(' 90%');"
       ],
       "metadata": {},
       "output_type": "display_data",
       "text": [
        "<IPython.core.display.Javascript at 0x207e0390>"
       ]
      },
      {
       "javascript": [
        "\n",
        "        var $myPB = $(\"div#86be5594-6d6d-4a34-a00e-e8577f3fa4c2\")\n",
        "        if ($myPB.hasClass('ui-progressbar')) {\n",
        "            $myPB.progressbar('value', 1408);\n",
        "        } else {\n",
        "            $myPB.progressbar({value: 0, max: 1562});\n",
        "        }\n",
        "        "
       ],
       "metadata": {},
       "output_type": "display_data",
       "text": [
        "<IPython.core.display.Javascript at 0x207e0400>"
       ]
      },
      {
       "javascript": [
        "$('div#7407cab6-c6fd-4c69-ac19-32a793526183').text('ETA:  0:00:03');"
       ],
       "metadata": {},
       "output_type": "display_data",
       "text": [
        "<IPython.core.display.Javascript at 0x207e0278>"
       ]
      },
      {
       "javascript": [
        "$('div#ec15a385-4492-4751-9f6b-3c45c1e1ea3a').text('1424 of 1562');"
       ],
       "metadata": {},
       "output_type": "display_data",
       "text": [
        "<IPython.core.display.Javascript at 0x207e0278>"
       ]
      },
      {
       "javascript": [
        "$('div#2667ddec-0f50-44a3-b49b-127d8748d437').text(' 91%');"
       ],
       "metadata": {},
       "output_type": "display_data",
       "text": [
        "<IPython.core.display.Javascript at 0x207e0390>"
       ]
      },
      {
       "javascript": [
        "\n",
        "        var $myPB = $(\"div#86be5594-6d6d-4a34-a00e-e8577f3fa4c2\")\n",
        "        if ($myPB.hasClass('ui-progressbar')) {\n",
        "            $myPB.progressbar('value', 1424);\n",
        "        } else {\n",
        "            $myPB.progressbar({value: 0, max: 1562});\n",
        "        }\n",
        "        "
       ],
       "metadata": {},
       "output_type": "display_data",
       "text": [
        "<IPython.core.display.Javascript at 0x207e0438>"
       ]
      },
      {
       "javascript": [
        "$('div#7407cab6-c6fd-4c69-ac19-32a793526183').text('ETA:  0:00:03');"
       ],
       "metadata": {},
       "output_type": "display_data",
       "text": [
        "<IPython.core.display.Javascript at 0x207e0438>"
       ]
      },
      {
       "javascript": [
        "$('div#ec15a385-4492-4751-9f6b-3c45c1e1ea3a').text('1440 of 1562');"
       ],
       "metadata": {},
       "output_type": "display_data",
       "text": [
        "<IPython.core.display.Javascript at 0x207e0400>"
       ]
      },
      {
       "javascript": [
        "$('div#2667ddec-0f50-44a3-b49b-127d8748d437').text(' 92%');"
       ],
       "metadata": {},
       "output_type": "display_data",
       "text": [
        "<IPython.core.display.Javascript at 0x207e00f0>"
       ]
      },
      {
       "javascript": [
        "\n",
        "        var $myPB = $(\"div#86be5594-6d6d-4a34-a00e-e8577f3fa4c2\")\n",
        "        if ($myPB.hasClass('ui-progressbar')) {\n",
        "            $myPB.progressbar('value', 1440);\n",
        "        } else {\n",
        "            $myPB.progressbar({value: 0, max: 1562});\n",
        "        }\n",
        "        "
       ],
       "metadata": {},
       "output_type": "display_data",
       "text": [
        "<IPython.core.display.Javascript at 0x207e0240>"
       ]
      },
      {
       "javascript": [
        "$('div#7407cab6-c6fd-4c69-ac19-32a793526183').text('ETA:  0:00:02');"
       ],
       "metadata": {},
       "output_type": "display_data",
       "text": [
        "<IPython.core.display.Javascript at 0x207e0278>"
       ]
      },
      {
       "javascript": [
        "$('div#ec15a385-4492-4751-9f6b-3c45c1e1ea3a').text('1456 of 1562');"
       ],
       "metadata": {},
       "output_type": "display_data",
       "text": [
        "<IPython.core.display.Javascript at 0x207e0278>"
       ]
      },
      {
       "javascript": [
        "$('div#2667ddec-0f50-44a3-b49b-127d8748d437').text(' 93%');"
       ],
       "metadata": {},
       "output_type": "display_data",
       "text": [
        "<IPython.core.display.Javascript at 0x207e0438>"
       ]
      },
      {
       "javascript": [
        "\n",
        "        var $myPB = $(\"div#86be5594-6d6d-4a34-a00e-e8577f3fa4c2\")\n",
        "        if ($myPB.hasClass('ui-progressbar')) {\n",
        "            $myPB.progressbar('value', 1456);\n",
        "        } else {\n",
        "            $myPB.progressbar({value: 0, max: 1562});\n",
        "        }\n",
        "        "
       ],
       "metadata": {},
       "output_type": "display_data",
       "text": [
        "<IPython.core.display.Javascript at 0x207e00f0>"
       ]
      },
      {
       "javascript": [
        "$('div#7407cab6-c6fd-4c69-ac19-32a793526183').text('ETA:  0:00:02');"
       ],
       "metadata": {},
       "output_type": "display_data",
       "text": [
        "<IPython.core.display.Javascript at 0x207e0390>"
       ]
      },
      {
       "javascript": [
        "$('div#ec15a385-4492-4751-9f6b-3c45c1e1ea3a').text('1472 of 1562');"
       ],
       "metadata": {},
       "output_type": "display_data",
       "text": [
        "<IPython.core.display.Javascript at 0x207e0400>"
       ]
      },
      {
       "javascript": [
        "$('div#2667ddec-0f50-44a3-b49b-127d8748d437').text(' 94%');"
       ],
       "metadata": {},
       "output_type": "display_data",
       "text": [
        "<IPython.core.display.Javascript at 0x207e03c8>"
       ]
      },
      {
       "javascript": [
        "\n",
        "        var $myPB = $(\"div#86be5594-6d6d-4a34-a00e-e8577f3fa4c2\")\n",
        "        if ($myPB.hasClass('ui-progressbar')) {\n",
        "            $myPB.progressbar('value', 1472);\n",
        "        } else {\n",
        "            $myPB.progressbar({value: 0, max: 1562});\n",
        "        }\n",
        "        "
       ],
       "metadata": {},
       "output_type": "display_data",
       "text": [
        "<IPython.core.display.Javascript at 0x207e03c8>"
       ]
      },
      {
       "javascript": [
        "$('div#7407cab6-c6fd-4c69-ac19-32a793526183').text('ETA:  0:00:02');"
       ],
       "metadata": {},
       "output_type": "display_data",
       "text": [
        "<IPython.core.display.Javascript at 0x207e0390>"
       ]
      },
      {
       "javascript": [
        "$('div#ec15a385-4492-4751-9f6b-3c45c1e1ea3a').text('1488 of 1562');"
       ],
       "metadata": {},
       "output_type": "display_data",
       "text": [
        "<IPython.core.display.Javascript at 0x207e0400>"
       ]
      },
      {
       "javascript": [
        "$('div#2667ddec-0f50-44a3-b49b-127d8748d437').text(' 95%');"
       ],
       "metadata": {},
       "output_type": "display_data",
       "text": [
        "<IPython.core.display.Javascript at 0x207e02e8>"
       ]
      },
      {
       "javascript": [
        "\n",
        "        var $myPB = $(\"div#86be5594-6d6d-4a34-a00e-e8577f3fa4c2\")\n",
        "        if ($myPB.hasClass('ui-progressbar')) {\n",
        "            $myPB.progressbar('value', 1488);\n",
        "        } else {\n",
        "            $myPB.progressbar({value: 0, max: 1562});\n",
        "        }\n",
        "        "
       ],
       "metadata": {},
       "output_type": "display_data",
       "text": [
        "<IPython.core.display.Javascript at 0x207e03c8>"
       ]
      },
      {
       "javascript": [
        "$('div#7407cab6-c6fd-4c69-ac19-32a793526183').text('ETA:  0:00:01');"
       ],
       "metadata": {},
       "output_type": "display_data",
       "text": [
        "<IPython.core.display.Javascript at 0x207e03c8>"
       ]
      },
      {
       "javascript": [
        "$('div#ec15a385-4492-4751-9f6b-3c45c1e1ea3a').text('1504 of 1562');"
       ],
       "metadata": {},
       "output_type": "display_data",
       "text": [
        "<IPython.core.display.Javascript at 0x207e0390>"
       ]
      },
      {
       "javascript": [
        "$('div#2667ddec-0f50-44a3-b49b-127d8748d437').text(' 96%');"
       ],
       "metadata": {},
       "output_type": "display_data",
       "text": [
        "<IPython.core.display.Javascript at 0x207e02e8>"
       ]
      },
      {
       "javascript": [
        "\n",
        "        var $myPB = $(\"div#86be5594-6d6d-4a34-a00e-e8577f3fa4c2\")\n",
        "        if ($myPB.hasClass('ui-progressbar')) {\n",
        "            $myPB.progressbar('value', 1504);\n",
        "        } else {\n",
        "            $myPB.progressbar({value: 0, max: 1562});\n",
        "        }\n",
        "        "
       ],
       "metadata": {},
       "output_type": "display_data",
       "text": [
        "<IPython.core.display.Javascript at 0x207e0240>"
       ]
      },
      {
       "javascript": [
        "$('div#7407cab6-c6fd-4c69-ac19-32a793526183').text('ETA:  0:00:01');"
       ],
       "metadata": {},
       "output_type": "display_data",
       "text": [
        "<IPython.core.display.Javascript at 0x207e03c8>"
       ]
      },
      {
       "javascript": [
        "$('div#ec15a385-4492-4751-9f6b-3c45c1e1ea3a').text('1520 of 1562');"
       ],
       "metadata": {},
       "output_type": "display_data",
       "text": [
        "<IPython.core.display.Javascript at 0x207e03c8>"
       ]
      },
      {
       "javascript": [
        "$('div#2667ddec-0f50-44a3-b49b-127d8748d437').text(' 97%');"
       ],
       "metadata": {},
       "output_type": "display_data",
       "text": [
        "<IPython.core.display.Javascript at 0x207e03c8>"
       ]
      },
      {
       "javascript": [
        "\n",
        "        var $myPB = $(\"div#86be5594-6d6d-4a34-a00e-e8577f3fa4c2\")\n",
        "        if ($myPB.hasClass('ui-progressbar')) {\n",
        "            $myPB.progressbar('value', 1520);\n",
        "        } else {\n",
        "            $myPB.progressbar({value: 0, max: 1562});\n",
        "        }\n",
        "        "
       ],
       "metadata": {},
       "output_type": "display_data",
       "text": [
        "<IPython.core.display.Javascript at 0x207e0400>"
       ]
      },
      {
       "javascript": [
        "$('div#7407cab6-c6fd-4c69-ac19-32a793526183').text('ETA:  0:00:00');"
       ],
       "metadata": {},
       "output_type": "display_data",
       "text": [
        "<IPython.core.display.Javascript at 0x207e0390>"
       ]
      },
      {
       "javascript": [
        "$('div#ec15a385-4492-4751-9f6b-3c45c1e1ea3a').text('1536 of 1562');"
       ],
       "metadata": {},
       "output_type": "display_data",
       "text": [
        "<IPython.core.display.Javascript at 0x207e0240>"
       ]
      },
      {
       "javascript": [
        "$('div#2667ddec-0f50-44a3-b49b-127d8748d437').text(' 98%');"
       ],
       "metadata": {},
       "output_type": "display_data",
       "text": [
        "<IPython.core.display.Javascript at 0x207e02e8>"
       ]
      },
      {
       "javascript": [
        "\n",
        "        var $myPB = $(\"div#86be5594-6d6d-4a34-a00e-e8577f3fa4c2\")\n",
        "        if ($myPB.hasClass('ui-progressbar')) {\n",
        "            $myPB.progressbar('value', 1536);\n",
        "        } else {\n",
        "            $myPB.progressbar({value: 0, max: 1562});\n",
        "        }\n",
        "        "
       ],
       "metadata": {},
       "output_type": "display_data",
       "text": [
        "<IPython.core.display.Javascript at 0x207e0390>"
       ]
      },
      {
       "javascript": [
        "$('div#7407cab6-c6fd-4c69-ac19-32a793526183').text('ETA:  0:00:00');"
       ],
       "metadata": {},
       "output_type": "display_data",
       "text": [
        "<IPython.core.display.Javascript at 0x207e0390>"
       ]
      },
      {
       "javascript": [
        "$('div#ec15a385-4492-4751-9f6b-3c45c1e1ea3a').text('1552 of 1562');"
       ],
       "metadata": {},
       "output_type": "display_data",
       "text": [
        "<IPython.core.display.Javascript at 0x207e00f0>"
       ]
      },
      {
       "javascript": [
        "$('div#2667ddec-0f50-44a3-b49b-127d8748d437').text(' 99%');"
       ],
       "metadata": {},
       "output_type": "display_data",
       "text": [
        "<IPython.core.display.Javascript at 0x207e02e8>"
       ]
      },
      {
       "javascript": [
        "\n",
        "        var $myPB = $(\"div#86be5594-6d6d-4a34-a00e-e8577f3fa4c2\")\n",
        "        if ($myPB.hasClass('ui-progressbar')) {\n",
        "            $myPB.progressbar('value', 1552);\n",
        "        } else {\n",
        "            $myPB.progressbar({value: 0, max: 1562});\n",
        "        }\n",
        "        "
       ],
       "metadata": {},
       "output_type": "display_data",
       "text": [
        "<IPython.core.display.Javascript at 0x207e02b0>"
       ]
      },
      {
       "javascript": [
        "$('div#7407cab6-c6fd-4c69-ac19-32a793526183').text('ETA:  0:00:00');"
       ],
       "metadata": {},
       "output_type": "display_data",
       "text": [
        "<IPython.core.display.Javascript at 0x207e0390>"
       ]
      },
      {
       "javascript": [
        "$('div#ec15a385-4492-4751-9f6b-3c45c1e1ea3a').text('1562 of 1562');"
       ],
       "metadata": {},
       "output_type": "display_data",
       "text": [
        "<IPython.core.display.Javascript at 0x1f6f1d68>"
       ]
      },
      {
       "javascript": [
        "$('div#2667ddec-0f50-44a3-b49b-127d8748d437').text('100%');"
       ],
       "metadata": {},
       "output_type": "display_data",
       "text": [
        "<IPython.core.display.Javascript at 0x207e0390>"
       ]
      },
      {
       "javascript": [
        "\n",
        "        var $myPB = $(\"div#86be5594-6d6d-4a34-a00e-e8577f3fa4c2\")\n",
        "        if ($myPB.hasClass('ui-progressbar')) {\n",
        "            $myPB.progressbar('value', 1562);\n",
        "        } else {\n",
        "            $myPB.progressbar({value: 0, max: 1562});\n",
        "        }\n",
        "        "
       ],
       "metadata": {},
       "output_type": "display_data",
       "text": [
        "<IPython.core.display.Javascript at 0x207e0278>"
       ]
      },
      {
       "javascript": [
        "$('div#7407cab6-c6fd-4c69-ac19-32a793526183').text('Time: 0:00:36');"
       ],
       "metadata": {},
       "output_type": "display_data",
       "text": [
        "<IPython.core.display.Javascript at 0x1f6f1d68>"
       ]
      },
      {
       "javascript": [
        "var element = document.getElementById('8ed7cda3-1384-49fc-b519-dc92b22291d8');\n",
        "                    var parent = element.parentNode\n",
        "                    parent.removeChild(element);\n",
        "                    parent.parentElement.remove();"
       ],
       "metadata": {},
       "output_type": "display_data",
       "text": [
        "<IPython.core.display.Javascript at 0x35aa160>"
       ]
      },
      {
       "javascript": [
        "this.cleanProgressBar(['8ed7cda3-1384-49fc-b519-dc92b22291d8', 'ec15a385-4492-4751-9f6b-3c45c1e1ea3a', '2667ddec-0f50-44a3-b49b-127d8748d437', '86be5594-6d6d-4a34-a00e-e8577f3fa4c2', '7407cab6-c6fd-4c69-ac19-32a793526183'])"
       ],
       "metadata": {},
       "output_type": "display_data",
       "text": [
        "<IPython.core.display.Javascript at 0x207e0278>"
       ]
      },
      {
       "output_type": "stream",
       "stream": "stdout",
       "text": [
        "get_ner_dictionary_for_analysis() Started...\n",
        "get_ner_dictionary_for_analysis() DONE!"
       ]
      },
      {
       "output_type": "stream",
       "stream": "stdout",
       "text": [
        "\n"
       ]
      },
      {
       "ename": "NameError",
       "evalue": "global name 'untokenized_sent' is not defined",
       "output_type": "pyerr",
       "traceback": [
        "\u001b[1;31m---------------------------------------------------------------------------\u001b[0m\n\u001b[1;31mNameError\u001b[0m                                 Traceback (most recent call last)",
        "\u001b[1;32m<ipython-input-15-f27a5cb0ad7f>\u001b[0m in \u001b[0;36m<module>\u001b[1;34m()\u001b[0m\n\u001b[1;32m----> 1\u001b[1;33m \u001b[0mner_orgs\u001b[0m\u001b[1;33m,\u001b[0m\u001b[0mner_countries\u001b[0m \u001b[1;33m=\u001b[0m \u001b[0mner_document_analysis\u001b[0m\u001b[1;33m(\u001b[0m\u001b[1;33m)\u001b[0m\u001b[1;33m\u001b[0m\u001b[0m\n\u001b[0m",
        "\u001b[1;32m<ipython-input-14-8d23ae3d9014>\u001b[0m in \u001b[0;36mner_document_analysis\u001b[1;34m(filename, summary)\u001b[0m\n\u001b[0;32m     19\u001b[0m     \u001b[0mfd_gpe\u001b[0m \u001b[1;33m=\u001b[0m \u001b[0mnltk\u001b[0m\u001b[1;33m.\u001b[0m\u001b[0mFreqDist\u001b[0m\u001b[1;33m(\u001b[0m\u001b[0mner_dictionary\u001b[0m\u001b[1;33m[\u001b[0m\u001b[1;34m'GPE'\u001b[0m\u001b[1;33m]\u001b[0m\u001b[1;33m)\u001b[0m\u001b[1;33m\u001b[0m\u001b[0m\n\u001b[0;32m     20\u001b[0m \u001b[1;33m\u001b[0m\u001b[0m\n\u001b[1;32m---> 21\u001b[1;33m     \u001b[0mnchunks\u001b[0m \u001b[1;33m=\u001b[0m \u001b[0mpa_process_chunks\u001b[0m\u001b[1;33m(\u001b[0m\u001b[0msentences\u001b[0m\u001b[1;33m=\u001b[0m\u001b[0muntokenized_sent\u001b[0m\u001b[1;33m)\u001b[0m\u001b[1;33m\u001b[0m\u001b[0m\n\u001b[0m\u001b[0;32m     22\u001b[0m \u001b[1;33m\u001b[0m\u001b[0m\n\u001b[0;32m     23\u001b[0m     \u001b[0mner_fd_entities\u001b[0m \u001b[1;33m=\u001b[0m \u001b[0mnltk\u001b[0m\u001b[1;33m.\u001b[0m\u001b[0mFreqDist\u001b[0m\u001b[1;33m(\u001b[0m\u001b[0mget_ner_entities_list\u001b[0m\u001b[1;33m(\u001b[0m\u001b[0mner_entities\u001b[0m\u001b[1;33m)\u001b[0m\u001b[1;33m)\u001b[0m\u001b[1;33m\u001b[0m\u001b[0m\n",
        "\u001b[1;31mNameError\u001b[0m: global name 'untokenized_sent' is not defined"
       ]
      }
     ],
     "prompt_number": 15
    },
    {
     "cell_type": "code",
     "collapsed": false,
     "input": [],
     "language": "python",
     "metadata": {},
     "outputs": []
    }
   ],
   "metadata": {}
  }
 ]
}