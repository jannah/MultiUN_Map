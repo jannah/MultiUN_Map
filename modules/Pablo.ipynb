{
 "metadata": {
  "name": "",
  "signature": "sha256:3c138762d24331edf27eba2ad303ae744d8d16210d92ff11e09a9e3d65e4cc3c"
 },
 "nbformat": 3,
 "nbformat_minor": 0,
 "worksheets": [
  {
   "cells": [
    {
     "cell_type": "code",
     "collapsed": false,
     "input": [
      "MODULES_PATH = '''../modules/multi_un_module.py'''\n",
      "import imp\n",
      "NF = imp.load_source('multi_un_module', MODULES_PATH)\n",
      "import multi_un_module as mun\n",
      "import nltk\n",
      "import string\n",
      "import pycountry as pc"
     ],
     "language": "python",
     "metadata": {},
     "outputs": [],
     "prompt_number": 184
    },
    {
     "cell_type": "code",
     "collapsed": false,
     "input": [
      "docs = mun.load_xml_files_by_year('TOP_100')\n",
      "default_doc = docs['A_56_17-en.xml']"
     ],
     "language": "python",
     "metadata": {},
     "outputs": [
      {
       "output_type": "stream",
       "stream": "stderr",
       "text": [
        "TOP_1000 of 98  0%|                                             |ETA:  --:--:--\r",
        "TOP_1001 of 98  1%|                                              |ETA:  0:00:05\r"
       ]
      },
      {
       "output_type": "stream",
       "stream": "stderr",
       "text": [
        "TOP_1002 of 98  2%|                                              |ETA:  0:00:04\r",
        "TOP_1003 of 98  3%|#                                             |ETA:  0:00:13\r"
       ]
      },
      {
       "output_type": "stream",
       "stream": "stderr",
       "text": [
        "TOP_1004 of 98  4%|#                                             |ETA:  0:00:10\r",
        "TOP_1005 of 98  5%|##                                            |ETA:  0:00:10\r"
       ]
      },
      {
       "output_type": "stream",
       "stream": "stderr",
       "text": [
        "TOP_1006 of 98  6%|##                                            |ETA:  0:00:14\r",
        "TOP_1007 of 98  7%|###                                           |ETA:  0:00:13\r"
       ]
      },
      {
       "output_type": "stream",
       "stream": "stderr",
       "text": [
        "TOP_1008 of 98  8%|###                                           |ETA:  0:00:11\r",
        "TOP_1009 of 98  9%|####                                          |ETA:  0:00:10\r",
        "TOP_10010 of 98 10%|####                                         |ETA:  0:00:12\r"
       ]
      },
      {
       "output_type": "stream",
       "stream": "stderr",
       "text": [
        "TOP_10011 of 98 11%|#####                                        |ETA:  0:00:11\r",
        "TOP_10012 of 98 12%|#####                                        |ETA:  0:00:10\r",
        "TOP_10013 of 98 13%|#####                                        |ETA:  0:00:09\r",
        "TOP_10014 of 98 14%|######                                       |ETA:  0:00:09\r"
       ]
      },
      {
       "output_type": "stream",
       "stream": "stderr",
       "text": [
        "TOP_10015 of 98 15%|######                                       |ETA:  0:00:08\r",
        "TOP_10016 of 98 16%|#######                                      |ETA:  0:00:08\r"
       ]
      },
      {
       "output_type": "stream",
       "stream": "stderr",
       "text": [
        "TOP_10017 of 98 17%|#######                                      |ETA:  0:00:07\r",
        "TOP_10018 of 98 18%|########                                     |ETA:  0:00:07\r",
        "TOP_10019 of 98 19%|########                                     |ETA:  0:00:07\r"
       ]
      },
      {
       "output_type": "stream",
       "stream": "stderr",
       "text": [
        "TOP_10020 of 98 20%|#########                                    |ETA:  0:00:06\r",
        "TOP_10021 of 98 21%|#########                                    |ETA:  0:00:06\r",
        "TOP_10022 of 98 22%|##########                                   |ETA:  0:00:06\r"
       ]
      },
      {
       "output_type": "stream",
       "stream": "stderr",
       "text": [
        "TOP_10023 of 98 23%|##########                                   |ETA:  0:00:07\r",
        "TOP_10024 of 98 24%|###########                                  |ETA:  0:00:08\r"
       ]
      },
      {
       "output_type": "stream",
       "stream": "stderr",
       "text": [
        "TOP_10025 of 98 25%|###########                                  |ETA:  0:00:08\r",
        "TOP_10026 of 98 26%|###########                                  |ETA:  0:00:07\r",
        "TOP_10027 of 98 27%|############                                 |ETA:  0:00:07\r"
       ]
      },
      {
       "output_type": "stream",
       "stream": "stderr",
       "text": [
        "TOP_10028 of 98 28%|############                                 |ETA:  0:00:07\r",
        "TOP_10029 of 98 29%|#############                                |ETA:  0:00:07\r"
       ]
      },
      {
       "output_type": "stream",
       "stream": "stderr",
       "text": [
        "TOP_10030 of 98 30%|#############                                |ETA:  0:00:07\r",
        "TOP_10031 of 98 31%|##############                               |ETA:  0:00:06\r"
       ]
      },
      {
       "output_type": "stream",
       "stream": "stderr",
       "text": [
        "TOP_10032 of 98 32%|##############                               |ETA:  0:00:06\r",
        "TOP_10033 of 98 33%|###############                              |ETA:  0:00:06\r",
        "TOP_10034 of 98 34%|###############                              |ETA:  0:00:06\r",
        "TOP_10035 of 98 35%|################                             |ETA:  0:00:05\r"
       ]
      },
      {
       "output_type": "stream",
       "stream": "stderr",
       "text": [
        "TOP_10036 of 98 36%|################                             |ETA:  0:00:05\r",
        "TOP_10037 of 98 37%|################                             |ETA:  0:00:05\r",
        "TOP_10038 of 98 38%|#################                            |ETA:  0:00:05\r"
       ]
      },
      {
       "output_type": "stream",
       "stream": "stderr",
       "text": [
        "TOP_10039 of 98 39%|#################                            |ETA:  0:00:05\r",
        "TOP_10040 of 98 40%|##################                           |ETA:  0:00:04\r",
        "TOP_10041 of 98 41%|##################                           |ETA:  0:00:04\r",
        "TOP_10042 of 98 42%|###################                          |ETA:  0:00:04\r"
       ]
      },
      {
       "output_type": "stream",
       "stream": "stderr",
       "text": [
        "TOP_10043 of 98 43%|###################                          |ETA:  0:00:04\r",
        "TOP_10044 of 98 44%|####################                         |ETA:  0:00:04\r",
        "TOP_10045 of 98 45%|####################                         |ETA:  0:00:04\r",
        "TOP_10046 of 98 46%|#####################                        |ETA:  0:00:04\r"
       ]
      },
      {
       "output_type": "stream",
       "stream": "stderr",
       "text": [
        "TOP_10047 of 98 47%|#####################                        |ETA:  0:00:03\r",
        "TOP_10048 of 98 48%|######################                       |ETA:  0:00:03\r"
       ]
      },
      {
       "output_type": "stream",
       "stream": "stderr",
       "text": [
        "TOP_10049 of 98 50%|######################                       |ETA:  0:00:03\r",
        "TOP_10050 of 98 51%|######################                       |ETA:  0:00:03\r",
        "TOP_10051 of 98 52%|#######################                      |ETA:  0:00:03\r",
        "TOP_10052 of 98 53%|#######################                      |ETA:  0:00:03\r",
        "TOP_10053 of 98 54%|########################                     |ETA:  0:00:03\r"
       ]
      },
      {
       "output_type": "stream",
       "stream": "stderr",
       "text": [
        "TOP_10054 of 98 55%|########################                     |ETA:  0:00:03\r",
        "TOP_10055 of 98 56%|#########################                    |ETA:  0:00:03\r"
       ]
      },
      {
       "output_type": "stream",
       "stream": "stderr",
       "text": [
        "TOP_10056 of 98 57%|#########################                    |ETA:  0:00:02\r",
        "TOP_10057 of 98 58%|##########################                   |ETA:  0:00:03\r"
       ]
      },
      {
       "output_type": "stream",
       "stream": "stderr",
       "text": [
        "TOP_10058 of 98 59%|##########################                   |ETA:  0:00:02\r",
        "TOP_10059 of 98 60%|###########################                  |ETA:  0:00:02\r"
       ]
      },
      {
       "output_type": "stream",
       "stream": "stderr",
       "text": [
        "TOP_10060 of 98 61%|###########################                  |ETA:  0:00:02\r",
        "TOP_10061 of 98 62%|############################                 |ETA:  0:00:02\r",
        "TOP_10062 of 98 63%|############################                 |ETA:  0:00:02\r"
       ]
      },
      {
       "output_type": "stream",
       "stream": "stderr",
       "text": [
        "TOP_10063 of 98 64%|############################                 |ETA:  0:00:03\r",
        "TOP_10064 of 98 65%|#############################                |ETA:  0:00:03\r"
       ]
      },
      {
       "output_type": "stream",
       "stream": "stderr",
       "text": [
        "TOP_10065 of 98 66%|#############################                |ETA:  0:00:03\r",
        "TOP_10066 of 98 67%|##############################               |ETA:  0:00:03\r"
       ]
      },
      {
       "output_type": "stream",
       "stream": "stderr",
       "text": [
        "TOP_10067 of 98 68%|##############################               |ETA:  0:00:03\r",
        "TOP_10068 of 98 69%|###############################              |ETA:  0:00:03\r",
        "TOP_10069 of 98 70%|###############################              |ETA:  0:00:03\r",
        "TOP_10070 of 98 71%|################################             |ETA:  0:00:03\r"
       ]
      },
      {
       "output_type": "stream",
       "stream": "stderr",
       "text": [
        "TOP_10071 of 98 72%|################################             |ETA:  0:00:03\r",
        "TOP_10072 of 98 73%|#################################            |ETA:  0:00:03\r",
        "TOP_10073 of 98 74%|#################################            |ETA:  0:00:02\r",
        "TOP_10074 of 98 75%|#################################            |ETA:  0:00:02\r",
        "TOP_10075 of 98 76%|##################################           |ETA:  0:00:02\r"
       ]
      },
      {
       "output_type": "stream",
       "stream": "stderr",
       "text": [
        "TOP_10076 of 98 77%|##################################           |ETA:  0:00:02\r",
        "TOP_10077 of 98 78%|###################################          |ETA:  0:00:02\r",
        "TOP_10078 of 98 79%|###################################          |ETA:  0:00:02\r"
       ]
      },
      {
       "output_type": "stream",
       "stream": "stderr",
       "text": [
        "TOP_10079 of 98 80%|####################################         |ETA:  0:00:02\r",
        "TOP_10080 of 98 81%|####################################         |ETA:  0:00:01\r",
        "TOP_10081 of 98 82%|#####################################        |ETA:  0:00:01\r",
        "TOP_10082 of 98 83%|#####################################        |ETA:  0:00:01\r",
        "TOP_10083 of 98 84%|######################################       |ETA:  0:00:01\r"
       ]
      },
      {
       "output_type": "stream",
       "stream": "stderr",
       "text": [
        "TOP_10084 of 98 85%|######################################       |ETA:  0:00:01\r",
        "TOP_10085 of 98 86%|#######################################      |ETA:  0:00:01\r",
        "TOP_10086 of 98 87%|#######################################      |ETA:  0:00:01\r"
       ]
      },
      {
       "output_type": "stream",
       "stream": "stderr",
       "text": [
        "TOP_10087 of 98 88%|#######################################      |ETA:  0:00:01\r",
        "TOP_10088 of 98 89%|########################################     |ETA:  0:00:01\r",
        "TOP_10089 of 98 90%|########################################     |ETA:  0:00:00\r"
       ]
      },
      {
       "output_type": "stream",
       "stream": "stderr",
       "text": [
        "TOP_10090 of 98 91%|#########################################    |ETA:  0:00:00\r",
        "TOP_10091 of 98 92%|#########################################    |ETA:  0:00:00\r",
        "TOP_10092 of 98 93%|##########################################   |ETA:  0:00:00\r",
        "TOP_10093 of 98 94%|##########################################   |ETA:  0:00:00\r"
       ]
      },
      {
       "output_type": "stream",
       "stream": "stderr",
       "text": [
        "TOP_10094 of 98 95%|###########################################  |ETA:  0:00:00\r",
        "TOP_10095 of 98 96%|###########################################  |ETA:  0:00:00\r",
        "TOP_10096 of 98 97%|############################################ |ETA:  0:00:00\r",
        "TOP_10097 of 98 98%|############################################ |ETA:  0:00:00\r",
        "TOP_10098 of 98100%|#############################################|ETA:  0:00:00\r"
       ]
      },
      {
       "output_type": "stream",
       "stream": "stderr",
       "text": [
        "TOP_10098 of 98100%|#############################################|Time: 0:00:09\r\n"
       ]
      }
     ],
     "prompt_number": 200
    },
    {
     "cell_type": "code",
     "collapsed": false,
     "input": [
      "# Creating a master list of countries to compare to and filter from the library pycontry. \n",
      "# Defines a dictionary with two arrays, common names and official names.\n",
      "\n",
      "def load_countries():\n",
      "    countries = {\n",
      "        'common':[],\n",
      "        'official': []\n",
      "    }\n",
      "\n",
      "    for c in pc.countries:\n",
      "        countries['common'].append(c.name)\n",
      "        if hasattr(c,'official_name'):\n",
      "            countries['official'].append(c.official_name)\n",
      "    print \"Load_countries() DONE!\"\n",
      "    return countries\n",
      "\n",
      "countries = load_countries()"
     ],
     "language": "python",
     "metadata": {},
     "outputs": [
      {
       "output_type": "stream",
       "stream": "stdout",
       "text": [
        "Load_countries() DONE!\n"
       ]
      }
     ],
     "prompt_number": 212
    },
    {
     "cell_type": "code",
     "collapsed": false,
     "input": [
      "def is_heading(para):\n",
      "   return len(para)==1 and para[0][-1] not in ['.', ':', '\"'] and para[0][0] not in ['*', '(', '\"']"
     ],
     "language": "python",
     "metadata": {},
     "outputs": [],
     "prompt_number": 202
    },
    {
     "cell_type": "code",
     "collapsed": false,
     "input": [
      "#Processes the content of the file and returns the tagged sentences from it.\n",
      "def process_and_tag_content(content, sentences=False): \n",
      "    print \"Load_countries() Started...\"\n",
      "    if not sentences:\n",
      "        paragraphs = [w for w in content if is_heading(w) is False and len(w)!=1]\n",
      "        untokenized_sent = [s for w in paragraphs for s in w]\n",
      "    else:\n",
      "        untokenized_sent = sentences\n",
      "    sents = [mun.tokenize_text(s) for s in untokenized_sent]\n",
      "    print \"process_and_tag_content() DONE!\"\n",
      "    return mun.tag_pos_sentences(sents)"
     ],
     "language": "python",
     "metadata": {},
     "outputs": [],
     "prompt_number": 246
    },
    {
     "cell_type": "code",
     "collapsed": false,
     "input": [
      "# Processes the tagged sentences to get NER entities for analysis. \n",
      "def get_ner_dictionary_for_analysis(text):\n",
      "    print \"get_ner_dictionary_for_analysis() Started...\"\n",
      "    entities = []\n",
      "    for sentence in text:\n",
      "        chunks = nltk.ne_chunk(sentence)\n",
      "        entities.extend([chunk for chunk in chunks if hasattr(chunk, 'node')])\n",
      "\n",
      "    # Creating NER main dictionary to analyze and join with MUN library results\n",
      "    ner_dictionary = {\n",
      "        'GPE':[],\n",
      "        'PERSON' :[],\n",
      "        'ORGANIZATION' :[],\n",
      "        'GSP':[]\n",
      "    }\n",
      "    \n",
      "    for e in entities:\n",
      "        if not ner_dictionary.has_key(e.node):\n",
      "            ner_dictionary[e.node]=[]\n",
      "        phrase =[]\n",
      "        for item in e:\n",
      "            phrase.append(item[0])\n",
      "        ner_dictionary[e.node].append(' '.join(phrase))\n",
      "    \n",
      "    print \"get_ner_dictionary_for_analysis() DONE!\"\n",
      "    return ner_dictionary,entities"
     ],
     "language": "python",
     "metadata": {},
     "outputs": [],
     "prompt_number": 226
    },
    {
     "cell_type": "code",
     "collapsed": false,
     "input": [
      "#Selects the countries from the noun phrases detected that match the official list of countries from pycountry\n",
      "def get_filtered_countries(chunks):\n",
      "    print \"get_filtered_countries() Started...\"\n",
      "    filtered_countries = []\n",
      "    fd = nltk.FreqDist(chunks)\n",
      "    for f in fd.items():\n",
      "        for country in countries['common']:\n",
      "            if country.find(f[0]) != -1:\n",
      "                filtered_countries.append(f)\n",
      "\n",
      "    filtered_countries = nltk.FreqDist(filtered_countries).items()\n",
      "    filtered_countries = [w[0] for w in filtered_countries]\n",
      "    print \"get_filtered_countries() DONE!\"\n",
      "    return filtered_countries"
     ],
     "language": "python",
     "metadata": {},
     "outputs": [],
     "prompt_number": 227
    },
    {
     "cell_type": "code",
     "collapsed": false,
     "input": [
      "#Overwritten function from MUN Library that process chunks but without pandas for the output\n",
      "def pa_process_chunks(sentences=None, sent_tokens=None, tagged_sentences = None,  remove_months = True, tagger = None):\n",
      "    print \"pa_process_chunks() Started...\"\n",
      "    if not tagged_sentences:\n",
      "        sent_tokens = sent_tokens if sent_tokens else \\\n",
      "            mun.tokenize_sentence_text(sentences, alnum_only=False, remove_stopwords=False, use_pattern = 2)\n",
      "        tagger = mun.get_brown_tagger(include_location_tagger=True)\n",
      "    tagged_sentences = tagged_sentences if tagged_sentences else mun.tag_pos_sentences(sent_tokens, tagger=tagger, show_pbar=mun.show_pbars)\n",
      "    #get the proper noun chunks from teh chunker\n",
      "    nchunks = mun.get_chunks(tagged_sentences, chunker=mun.get_chunker(tag_set='brown', target='PNS'), target = 'PNS', show_pbar=mun.show_pbars)\n",
      "    nchunks = mun.extract_target_from_chunks(nchunks, target='PNS')\n",
      "    # there are many month names mentioned in the FrewDist, I am removing them because I don' think they add much value\n",
      "    if remove_months:\n",
      "        import calendar\n",
      "        nchunks = [chunk for chunk in nchunks if len(mun.remove_punctuation(chunk))>1 and chunk not in calendar.month_name]\n",
      "    \n",
      "#     vchunks = mun.get_chunks(tagged_sentences, chunker=mun.get_chunker(tag_set='brown', target='VNS'), target = 'VNS', show_pbar=mun.show_pbars)\n",
      "#     vchunks = mun.extract_target_from_chunks(vchunks, target='VNS')\n",
      "\n",
      "    nchunks_fd = nltk.FreqDist(nchunks)\n",
      "    #vchunks_fd = nltk.FreqDist(vchunks)\n",
      "    \n",
      "    print \"pa_process_chunks() DONE!\"\n",
      "    return nchunks_fd #,vchunks_fd\n",
      "\n"
     ],
     "language": "python",
     "metadata": {},
     "outputs": [],
     "prompt_number": 228
    },
    {
     "cell_type": "code",
     "collapsed": false,
     "input": [
      "#Creating a Frequency Distribution with the NER entities\n",
      "\n",
      "def get_ner_entities_list(ner_entities):\n",
      "    print \"get_ner_entities_list() Started...\"\n",
      "    entities = []\n",
      "    for node in ner_entities:\n",
      "        phrase = []\n",
      "        for element in node:\n",
      "            phrase.append(element[0])\n",
      "        entities.append((node.node,' '.join(phrase)))\n",
      "    print \"get_ner_entities_list() DONE!\"\n",
      "    return entities"
     ],
     "language": "python",
     "metadata": {},
     "outputs": [],
     "prompt_number": 229
    },
    {
     "cell_type": "code",
     "collapsed": false,
     "input": [
      "# Returns the list of countries/continents joined from the NER GEP list and the MUN Library chunker.\n",
      "\n",
      "def get_ner_countries(nchunks, ner_chunks):\n",
      "    print \"get_ner_countries() Started...\"\n",
      "    all_countries = get_filtered_countries(nchunks) + get_filtered_countries(ner_chunks)\n",
      "    fd = nltk.FreqDist(all_countries)\n",
      "    all_countries = []\n",
      "    for c in fd.keys():\n",
      "        all_countries.append(c[0])\n",
      "    fd = nltk.FreqDist(all_countries).keys()\n",
      "    fd.sort()\n",
      "    print \"get_ner_countries() DONE!\"\n",
      "    return fd"
     ],
     "language": "python",
     "metadata": {},
     "outputs": [],
     "prompt_number": 230
    },
    {
     "cell_type": "code",
     "collapsed": false,
     "input": [
      "def get_ner_organizations(nchunks,ner_chunks):\n",
      "    print \"get_ner_organizations() Started...\"\n",
      "    unorgs = ['Commission','General Assembly','Secretariat','Committee', 'United Nations', 'Assembly','Convention ']\n",
      "    norgs = [(w[0][1],w[1]) for w in ner_chunks if w[0][0] == 'ORGANIZATION']\n",
      "    all_orgs = nchunks + norgs\n",
      "    all_orgs = [w[0] for w in all_orgs]\n",
      "    all_orgs = nltk.FreqDist(all_orgs).keys()\n",
      "    results = []\n",
      "    for w in all_orgs:\n",
      "        for org in unorgs:\n",
      "            if type(w) == tuple:\n",
      "                print w\n",
      "            if w.find(org) !=-1 and analyze_for_monograms(w) and w != org:\n",
      "                results.append(w)\n",
      "    print \"get_ner_organizations() DONE!\"\n",
      "    return nltk.FreqDist(results).keys()\n",
      "\n",
      "# Checks a text to make sure it isn't just a \n",
      "def analyze_for_monograms(text):\n",
      "    tokens = nltk.word_tokenize(text)\n",
      "    if len(tokens[0])>1 and len(tokens[-1])>1:\n",
      "        return True\n",
      "    else: \n",
      "        return False\n",
      "\n"
     ],
     "language": "python",
     "metadata": {},
     "outputs": [],
     "prompt_number": 238
    },
    {
     "cell_type": "code",
     "collapsed": false,
     "input": [
      "import datetime\n",
      "def ner_document_analysis(filename=False, summary=False):\n",
      "    start = datetime.datetime.now()\n",
      "        \n",
      "    # REPLACE  ALL BELOW WITH FUNCTION TO LOAD A SPECIFIC DOCUMENT\n",
      "    if not filename:\n",
      "        text = default_doc\n",
      "    else:\n",
      "         text = mun.get_document(filename)\n",
      "    # ^^^^^^ REPLACE ABOVE WITH FUNCTION TO LOAD A SPECIFIC DOCUMENT  \n",
      "    \n",
      "    if not summary:\n",
      "        tagged_sentences = process_and_tag_content(text['content'])\n",
      "    else:\n",
      "        tagged_sentences = process_and_tag_content(sentences=summary)\n",
      "        \n",
      "    ner_dictionary,ner_entities = get_ner_dictionary_for_analysis(tagged_sents)\n",
      "    \n",
      "    fd_gpe = nltk.FreqDist(ner_dictionary['GPE'])\n",
      "    \n",
      "    nchunks = pa_process_chunks(sentences=untokenized_sent)\n",
      "    \n",
      "    ner_fd_entities = nltk.FreqDist(get_ner_entities_list(ner_entities))\n",
      "    \n",
      "    allcountries = get_ner_countries(nchunks,ner_dictionary['GPE'])\n",
      "    orgs = get_ner_organizations(nchunks.items(), ner_fd_entities.items())\n",
      "    \n",
      "    print \"Elapsed time: \" + str(datetime.datetime.now()-start)\n",
      "    return orgs,allcountries"
     ],
     "language": "python",
     "metadata": {},
     "outputs": [],
     "prompt_number": 245
    },
    {
     "cell_type": "code",
     "collapsed": false,
     "input": [
      "ner_orgs,ner_countries = ner_document_analysis()"
     ],
     "language": "python",
     "metadata": {},
     "outputs": [
      {
       "output_type": "stream",
       "stream": "stdout",
       "text": [
        "Load_countries() Started...\n",
        "process_and_tag_content() DONE!"
       ]
      },
      {
       "output_type": "stream",
       "stream": "stderr",
       "text": [
        "tagging sentences0 of 1562  0%|                                 |ETA:  --:--:--\r",
        "tagging sentences15 of 1562  0%|                                 |ETA:  0:01:49\r"
       ]
      },
      {
       "output_type": "stream",
       "stream": "stderr",
       "text": [
        "tagging sentences31 of 1562  1%|                                 |ETA:  0:01:22\r",
        "tagging sentences47 of 1562  3%|                                 |ETA:  0:01:21\r"
       ]
      },
      {
       "output_type": "stream",
       "stream": "stderr",
       "text": [
        "tagging sentences63 of 1562  4%|#                                |ETA:  0:01:17\r",
        "tagging sentences77 of 1562  4%|#                                |ETA:  0:01:23\r"
       ]
      },
      {
       "output_type": "stream",
       "stream": "stderr",
       "text": [
        "tagging sentences93 of 1562  5%|#                                |ETA:  0:01:22\r",
        "tagging sentences109 of 1562  6%|##                              |ETA:  0:01:16\r"
       ]
      },
      {
       "output_type": "stream",
       "stream": "stderr",
       "text": [
        "tagging sentences125 of 1562  8%|##                              |ETA:  0:01:17\r",
        "tagging sentences141 of 1562  9%|##                              |ETA:  0:01:17\r"
       ]
      },
      {
       "output_type": "stream",
       "stream": "stderr",
       "text": [
        "tagging sentences156 of 1562  9%|###                             |ETA:  0:01:19\r",
        "tagging sentences172 of 1562 11%|###                             |ETA:  0:01:18\r"
       ]
      },
      {
       "output_type": "stream",
       "stream": "stderr",
       "text": [
        "tagging sentences188 of 1562 12%|###                             |ETA:  0:01:15\r",
        "tagging sentences204 of 1562 13%|####                            |ETA:  0:01:12\r"
       ]
      },
      {
       "output_type": "stream",
       "stream": "stderr",
       "text": [
        "tagging sentences220 of 1562 14%|####                            |ETA:  0:01:12\r",
        "tagging sentences235 of 1562 15%|####                            |ETA:  0:01:12\r"
       ]
      },
      {
       "output_type": "stream",
       "stream": "stderr",
       "text": [
        "tagging sentences251 of 1562 16%|#####                           |ETA:  0:01:12\r",
        "tagging sentences266 of 1562 17%|#####                           |ETA:  0:01:12\r"
       ]
      },
      {
       "output_type": "stream",
       "stream": "stderr",
       "text": [
        "tagging sentences282 of 1562 18%|#####                           |ETA:  0:01:11\r",
        "tagging sentences298 of 1562 19%|######                          |ETA:  0:01:09\r"
       ]
      },
      {
       "output_type": "stream",
       "stream": "stderr",
       "text": [
        "tagging sentences314 of 1562 20%|######                          |ETA:  0:01:08\r",
        "tagging sentences330 of 1562 21%|######                          |ETA:  0:01:07\r"
       ]
      },
      {
       "output_type": "stream",
       "stream": "stderr",
       "text": [
        "tagging sentences346 of 1562 22%|#######                         |ETA:  0:01:07\r",
        "tagging sentences362 of 1562 23%|#######                         |ETA:  0:01:05\r"
       ]
      },
      {
       "output_type": "stream",
       "stream": "stderr",
       "text": [
        "tagging sentences378 of 1562 24%|#######                         |ETA:  0:01:03\r",
        "tagging sentences394 of 1562 25%|########                        |ETA:  0:01:02\r"
       ]
      },
      {
       "output_type": "stream",
       "stream": "stderr",
       "text": [
        "tagging sentences410 of 1562 26%|########                        |ETA:  0:01:00\r",
        "tagging sentences426 of 1562 27%|########                        |ETA:  0:00:59\r"
       ]
      },
      {
       "output_type": "stream",
       "stream": "stderr",
       "text": [
        "tagging sentences442 of 1562 28%|#########                       |ETA:  0:00:58\r",
        "tagging sentences457 of 1562 29%|#########                       |ETA:  0:00:58\r"
       ]
      },
      {
       "output_type": "stream",
       "stream": "stderr",
       "text": [
        "tagging sentences473 of 1562 30%|#########                       |ETA:  0:00:57\r",
        "tagging sentences488 of 1562 31%|#########                       |ETA:  0:00:57\r"
       ]
      },
      {
       "output_type": "stream",
       "stream": "stderr",
       "text": [
        "tagging sentences504 of 1562 32%|##########                      |ETA:  0:00:56\r",
        "tagging sentences517 of 1562 33%|##########                      |ETA:  0:00:56\r"
       ]
      },
      {
       "output_type": "stream",
       "stream": "stderr",
       "text": [
        "tagging sentences533 of 1562 34%|##########                      |ETA:  0:00:55\r",
        "tagging sentences549 of 1562 35%|###########                     |ETA:  0:00:55\r"
       ]
      },
      {
       "output_type": "stream",
       "stream": "stderr",
       "text": [
        "tagging sentences565 of 1562 36%|###########                     |ETA:  0:00:54\r",
        "tagging sentences581 of 1562 37%|###########                     |ETA:  0:00:53\r"
       ]
      },
      {
       "output_type": "stream",
       "stream": "stderr",
       "text": [
        "tagging sentences597 of 1562 38%|############                    |ETA:  0:00:52\r",
        "tagging sentences613 of 1562 39%|############                    |ETA:  0:00:51\r"
       ]
      },
      {
       "output_type": "stream",
       "stream": "stderr",
       "text": [
        "tagging sentences629 of 1562 40%|############                    |ETA:  0:00:50\r",
        "tagging sentences645 of 1562 41%|#############                   |ETA:  0:00:49\r"
       ]
      },
      {
       "output_type": "stream",
       "stream": "stderr",
       "text": [
        "tagging sentences661 of 1562 42%|#############                   |ETA:  0:00:48\r",
        "tagging sentences677 of 1562 43%|#############                   |ETA:  0:00:47\r"
       ]
      },
      {
       "output_type": "stream",
       "stream": "stderr",
       "text": [
        "tagging sentences693 of 1562 44%|##############                  |ETA:  0:00:46\r",
        "tagging sentences708 of 1562 45%|##############                  |ETA:  0:00:45\r"
       ]
      },
      {
       "output_type": "stream",
       "stream": "stderr",
       "text": [
        "tagging sentences722 of 1562 46%|##############                  |ETA:  0:00:45\r",
        "tagging sentences738 of 1562 47%|###############                 |ETA:  0:00:44\r"
       ]
      },
      {
       "output_type": "stream",
       "stream": "stderr",
       "text": [
        "tagging sentences754 of 1562 48%|###############                 |ETA:  0:00:43\r",
        "tagging sentences769 of 1562 49%|###############                 |ETA:  0:00:43\r"
       ]
      },
      {
       "output_type": "stream",
       "stream": "stderr",
       "text": [
        "tagging sentences782 of 1562 50%|################                |ETA:  0:00:42\r",
        "tagging sentences794 of 1562 50%|################                |ETA:  0:00:42\r"
       ]
      },
      {
       "output_type": "stream",
       "stream": "stderr",
       "text": [
        "tagging sentences805 of 1562 51%|################                |ETA:  0:00:42\r",
        "tagging sentences817 of 1562 52%|################                |ETA:  0:00:41\r"
       ]
      },
      {
       "output_type": "stream",
       "stream": "stderr",
       "text": [
        "tagging sentences828 of 1562 53%|################                |ETA:  0:00:41\r",
        "tagging sentences837 of 1562 53%|#################               |ETA:  0:00:41\r"
       ]
      },
      {
       "output_type": "stream",
       "stream": "stderr",
       "text": [
        "tagging sentences848 of 1562 54%|#################               |ETA:  0:00:41\r",
        "tagging sentences860 of 1562 55%|#################               |ETA:  0:00:41\r"
       ]
      },
      {
       "output_type": "stream",
       "stream": "stderr",
       "text": [
        "tagging sentences869 of 1562 55%|#################               |ETA:  0:00:40\r",
        "tagging sentences882 of 1562 56%|##################              |ETA:  0:00:40\r"
       ]
      },
      {
       "output_type": "stream",
       "stream": "stderr",
       "text": [
        "tagging sentences897 of 1562 57%|##################              |ETA:  0:00:39\r",
        "tagging sentences909 of 1562 58%|##################              |ETA:  0:00:39\r"
       ]
      },
      {
       "output_type": "stream",
       "stream": "stderr",
       "text": [
        "tagging sentences925 of 1562 59%|##################              |ETA:  0:00:37\r",
        "tagging sentences941 of 1562 60%|###################             |ETA:  0:00:36\r"
       ]
      },
      {
       "output_type": "stream",
       "stream": "stderr",
       "text": [
        "tagging sentences957 of 1562 61%|###################             |ETA:  0:00:36\r",
        "tagging sentences972 of 1562 62%|###################             |ETA:  0:00:35\r"
       ]
      },
      {
       "output_type": "stream",
       "stream": "stderr",
       "text": [
        "tagging sentences983 of 1562 62%|####################            |ETA:  0:00:34\r",
        "tagging sentences998 of 1562 63%|####################            |ETA:  0:00:34\r"
       ]
      },
      {
       "output_type": "stream",
       "stream": "stderr",
       "text": [
        "tagging sentences1013 of 1562 64%|####################           |ETA:  0:00:33\r",
        "tagging sentences1026 of 1562 65%|####################           |ETA:  0:00:32\r"
       ]
      },
      {
       "output_type": "stream",
       "stream": "stderr",
       "text": [
        "tagging sentences1038 of 1562 66%|####################           |ETA:  0:00:32\r",
        "tagging sentences1050 of 1562 67%|####################           |ETA:  0:00:31\r"
       ]
      },
      {
       "output_type": "stream",
       "stream": "stderr",
       "text": [
        "tagging sentences1063 of 1562 68%|#####################          |ETA:  0:00:30\r",
        "tagging sentences1075 of 1562 68%|#####################          |ETA:  0:00:30\r"
       ]
      },
      {
       "output_type": "stream",
       "stream": "stderr",
       "text": [
        "tagging sentences1086 of 1562 69%|#####################          |ETA:  0:00:29\r",
        "tagging sentences1100 of 1562 70%|#####################          |ETA:  0:00:28\r"
       ]
      },
      {
       "output_type": "stream",
       "stream": "stderr",
       "text": [
        "tagging sentences1114 of 1562 71%|######################         |ETA:  0:00:28\r",
        "tagging sentences1126 of 1562 72%|######################         |ETA:  0:00:27\r"
       ]
      },
      {
       "output_type": "stream",
       "stream": "stderr",
       "text": [
        "tagging sentences1135 of 1562 72%|######################         |ETA:  0:00:26\r",
        "tagging sentences1147 of 1562 73%|######################         |ETA:  0:00:26\r"
       ]
      },
      {
       "output_type": "stream",
       "stream": "stderr",
       "text": [
        "tagging sentences1157 of 1562 74%|######################         |ETA:  0:00:25\r",
        "tagging sentences1169 of 1562 74%|#######################        |ETA:  0:00:25\r"
       ]
      },
      {
       "output_type": "stream",
       "stream": "stderr",
       "text": [
        "tagging sentences1181 of 1562 75%|#######################        |ETA:  0:00:24\r",
        "tagging sentences1188 of 1562 76%|#######################        |ETA:  0:00:24\r"
       ]
      },
      {
       "output_type": "stream",
       "stream": "stderr",
       "text": [
        "tagging sentences1204 of 1562 77%|#######################        |ETA:  0:00:23\r",
        "tagging sentences1220 of 1562 78%|########################       |ETA:  0:00:22\r"
       ]
      },
      {
       "output_type": "stream",
       "stream": "stderr",
       "text": [
        "tagging sentences1232 of 1562 78%|########################       |ETA:  0:00:21\r",
        "tagging sentences1247 of 1562 79%|########################       |ETA:  0:00:20\r"
       ]
      },
      {
       "output_type": "stream",
       "stream": "stderr",
       "text": [
        "tagging sentences1260 of 1562 80%|#########################      |ETA:  0:00:19\r",
        "tagging sentences1274 of 1562 81%|#########################      |ETA:  0:00:18\r"
       ]
      },
      {
       "output_type": "stream",
       "stream": "stderr",
       "text": [
        "tagging sentences1289 of 1562 82%|#########################      |ETA:  0:00:17\r",
        "tagging sentences1304 of 1562 83%|#########################      |ETA:  0:00:16\r"
       ]
      },
      {
       "output_type": "stream",
       "stream": "stderr",
       "text": [
        "tagging sentences1316 of 1562 84%|##########################     |ETA:  0:00:16\r",
        "tagging sentences1329 of 1562 85%|##########################     |ETA:  0:00:15\r"
       ]
      },
      {
       "output_type": "stream",
       "stream": "stderr",
       "text": [
        "tagging sentences1341 of 1562 85%|##########################     |ETA:  0:00:14\r",
        "tagging sentences1356 of 1562 86%|##########################     |ETA:  0:00:13\r"
       ]
      },
      {
       "output_type": "stream",
       "stream": "stderr",
       "text": [
        "tagging sentences1369 of 1562 87%|###########################    |ETA:  0:00:12\r",
        "tagging sentences1380 of 1562 88%|###########################    |ETA:  0:00:12\r"
       ]
      },
      {
       "output_type": "stream",
       "stream": "stderr",
       "text": [
        "tagging sentences1396 of 1562 89%|###########################    |ETA:  0:00:10\r",
        "tagging sentences1412 of 1562 90%|############################   |ETA:  0:00:09\r"
       ]
      },
      {
       "output_type": "stream",
       "stream": "stderr",
       "text": [
        "tagging sentences1420 of 1562 90%|############################   |ETA:  0:00:09\r",
        "tagging sentences1428 of 1562 91%|############################   |ETA:  0:00:08\r"
       ]
      },
      {
       "output_type": "stream",
       "stream": "stderr",
       "text": [
        "tagging sentences1443 of 1562 92%|############################   |ETA:  0:00:07\r",
        "tagging sentences1459 of 1562 93%|############################   |ETA:  0:00:06\r"
       ]
      },
      {
       "output_type": "stream",
       "stream": "stderr",
       "text": [
        "tagging sentences1475 of 1562 94%|#############################  |ETA:  0:00:05\r",
        "tagging sentences1491 of 1562 95%|#############################  |ETA:  0:00:04\r"
       ]
      },
      {
       "output_type": "stream",
       "stream": "stderr",
       "text": [
        "tagging sentences1505 of 1562 96%|#############################  |ETA:  0:00:03\r",
        "tagging sentences1520 of 1562 97%|############################## |ETA:  0:00:02\r"
       ]
      },
      {
       "output_type": "stream",
       "stream": "stderr",
       "text": [
        "tagging sentences1536 of 1562 98%|############################## |ETA:  0:00:01\r",
        "tagging sentences1552 of 1562 99%|############################## |ETA:  0:00:00\r"
       ]
      },
      {
       "output_type": "stream",
       "stream": "stdout",
       "text": [
        "\n",
        "get_ner_dictionary_for_analysis() Started..."
       ]
      },
      {
       "output_type": "stream",
       "stream": "stdout",
       "text": [
        "\n",
        "get_ner_dictionary_for_analysis() DONE!"
       ]
      },
      {
       "output_type": "stream",
       "stream": "stderr",
       "text": [
        "tagging sentences1562 of 1562100%|###############################|Time: 0:01:43\r\n",
        "Tokenizing sentences0 of 1562  0%|                              |ETA:  --:--:--\r"
       ]
      },
      {
       "output_type": "stream",
       "stream": "stderr",
       "text": [
        "Tokenizing sentences16 of 1562  1%|                              |ETA:  0:00:00\r",
        "Tokenizing sentences32 of 1562  2%|                              |ETA:  0:00:00\r",
        "Tokenizing sentences48 of 1562  3%|                              |ETA:  0:00:00\r",
        "Tokenizing sentences64 of 1562  4%|#                             |ETA:  0:00:00\r",
        "Tokenizing sentences80 of 1562  5%|#                             |ETA:  0:00:00\r",
        "Tokenizing sentences96 of 1562  6%|#                             |ETA:  0:00:00\r",
        "Tokenizing sentences112 of 1562  7%|##                           |ETA:  0:00:00\r",
        "Tokenizing sentences128 of 1562  8%|##                           |ETA:  0:00:00\r",
        "Tokenizing sentences144 of 1562  9%|##                           |ETA:  0:00:00\r",
        "Tokenizing sentences160 of 1562 10%|##                           |ETA:  0:00:00\r",
        "Tokenizing sentences176 of 1562 11%|###                          |ETA:  0:00:00\r",
        "Tokenizing sentences192 of 1562 12%|###                          |ETA:  0:00:00\r"
       ]
      },
      {
       "output_type": "stream",
       "stream": "stderr",
       "text": [
        "Tokenizing sentences208 of 1562 13%|###                          |ETA:  0:00:00\r",
        "Tokenizing sentences224 of 1562 14%|####                         |ETA:  0:00:00\r",
        "Tokenizing sentences240 of 1562 15%|####                         |ETA:  0:00:00\r",
        "Tokenizing sentences256 of 1562 16%|####                         |ETA:  0:00:00\r",
        "Tokenizing sentences272 of 1562 17%|#####                        |ETA:  0:00:00\r",
        "Tokenizing sentences288 of 1562 18%|#####                        |ETA:  0:00:00\r",
        "Tokenizing sentences304 of 1562 19%|#####                        |ETA:  0:00:00\r",
        "Tokenizing sentences320 of 1562 20%|#####                        |ETA:  0:00:00\r",
        "Tokenizing sentences336 of 1562 21%|######                       |ETA:  0:00:00\r",
        "Tokenizing sentences352 of 1562 22%|######                       |ETA:  0:00:00\r",
        "Tokenizing sentences368 of 1562 23%|######                       |ETA:  0:00:00\r",
        "Tokenizing sentences384 of 1562 24%|#######                      |ETA:  0:00:00\r",
        "Tokenizing sentences400 of 1562 25%|#######                      |ETA:  0:00:00\r",
        "Tokenizing sentences416 of 1562 26%|#######                      |ETA:  0:00:00\r",
        "Tokenizing sentences432 of 1562 27%|########                     |ETA:  0:00:00\r",
        "Tokenizing sentences448 of 1562 28%|########                     |ETA:  0:00:00\r",
        "Tokenizing sentences464 of 1562 29%|########                     |ETA:  0:00:00\r",
        "Tokenizing sentences480 of 1562 30%|########                     |ETA:  0:00:00\r",
        "Tokenizing sentences496 of 1562 31%|#########                    |ETA:  0:00:00\r"
       ]
      },
      {
       "output_type": "stream",
       "stream": "stderr",
       "text": [
        "Tokenizing sentences512 of 1562 32%|#########                    |ETA:  0:00:00\r",
        "Tokenizing sentences528 of 1562 33%|#########                    |ETA:  0:00:00\r",
        "Tokenizing sentences544 of 1562 34%|##########                   |ETA:  0:00:00\r",
        "Tokenizing sentences560 of 1562 35%|##########                   |ETA:  0:00:00\r",
        "Tokenizing sentences576 of 1562 36%|##########                   |ETA:  0:00:00\r",
        "Tokenizing sentences592 of 1562 37%|##########                   |ETA:  0:00:00\r",
        "Tokenizing sentences608 of 1562 38%|###########                  |ETA:  0:00:00\r",
        "Tokenizing sentences624 of 1562 39%|###########                  |ETA:  0:00:00\r",
        "Tokenizing sentences640 of 1562 40%|###########                  |ETA:  0:00:00\r",
        "Tokenizing sentences656 of 1562 41%|############                 |ETA:  0:00:00\r",
        "Tokenizing sentences672 of 1562 43%|############                 |ETA:  0:00:00\r",
        "Tokenizing sentences688 of 1562 44%|############                 |ETA:  0:00:00\r",
        "Tokenizing sentences704 of 1562 45%|#############                |ETA:  0:00:00\r",
        "Tokenizing sentences720 of 1562 46%|#############                |ETA:  0:00:00\r",
        "Tokenizing sentences736 of 1562 47%|#############                |ETA:  0:00:00\r",
        "Tokenizing sentences752 of 1562 48%|#############                |ETA:  0:00:00\r",
        "Tokenizing sentences768 of 1562 49%|##############               |ETA:  0:00:00\r",
        "Tokenizing sentences784 of 1562 50%|##############               |ETA:  0:00:00\r",
        "Tokenizing sentences800 of 1562 51%|##############               |ETA:  0:00:00\r"
       ]
      },
      {
       "output_type": "stream",
       "stream": "stderr",
       "text": [
        "Tokenizing sentences816 of 1562 52%|###############              |ETA:  0:00:00\r",
        "Tokenizing sentences832 of 1562 53%|###############              |ETA:  0:00:00\r",
        "Tokenizing sentences848 of 1562 54%|###############              |ETA:  0:00:00\r",
        "Tokenizing sentences864 of 1562 55%|################             |ETA:  0:00:00\r",
        "Tokenizing sentences880 of 1562 56%|################             |ETA:  0:00:00\r",
        "Tokenizing sentences896 of 1562 57%|################             |ETA:  0:00:00\r",
        "Tokenizing sentences912 of 1562 58%|################             |ETA:  0:00:00\r",
        "Tokenizing sentences928 of 1562 59%|#################            |ETA:  0:00:00\r",
        "Tokenizing sentences944 of 1562 60%|#################            |ETA:  0:00:00\r",
        "Tokenizing sentences960 of 1562 61%|#################            |ETA:  0:00:00\r",
        "Tokenizing sentences976 of 1562 62%|##################           |ETA:  0:00:00\r",
        "Tokenizing sentences992 of 1562 63%|##################           |ETA:  0:00:00\r",
        "Tokenizing sentences1008 of 1562 64%|##################          |ETA:  0:00:00\r",
        "Tokenizing sentences1024 of 1562 65%|##################          |ETA:  0:00:00\r",
        "Tokenizing sentences1040 of 1562 66%|##################          |ETA:  0:00:00\r",
        "Tokenizing sentences1056 of 1562 67%|##################          |ETA:  0:00:00\r",
        "Tokenizing sentences1072 of 1562 68%|###################         |ETA:  0:00:00\r",
        "Tokenizing sentences1088 of 1562 69%|###################         |ETA:  0:00:00\r"
       ]
      },
      {
       "output_type": "stream",
       "stream": "stderr",
       "text": [
        "Tokenizing sentences1104 of 1562 70%|###################         |ETA:  0:00:00\r",
        "Tokenizing sentences1120 of 1562 71%|####################        |ETA:  0:00:00\r",
        "Tokenizing sentences1136 of 1562 72%|####################        |ETA:  0:00:00\r",
        "Tokenizing sentences1152 of 1562 73%|####################        |ETA:  0:00:00\r",
        "Tokenizing sentences1168 of 1562 74%|####################        |ETA:  0:00:00\r",
        "Tokenizing sentences1184 of 1562 75%|#####################       |ETA:  0:00:00\r",
        "Tokenizing sentences1200 of 1562 76%|#####################       |ETA:  0:00:00\r",
        "Tokenizing sentences1216 of 1562 77%|#####################       |ETA:  0:00:00\r",
        "Tokenizing sentences1232 of 1562 78%|######################      |ETA:  0:00:00\r",
        "Tokenizing sentences1248 of 1562 79%|######################      |ETA:  0:00:00\r",
        "Tokenizing sentences1264 of 1562 80%|######################      |ETA:  0:00:00\r",
        "Tokenizing sentences1280 of 1562 81%|######################      |ETA:  0:00:00\r",
        "Tokenizing sentences1296 of 1562 82%|#######################     |ETA:  0:00:00\r",
        "Tokenizing sentences1312 of 1562 83%|#######################     |ETA:  0:00:00\r",
        "Tokenizing sentences1328 of 1562 85%|#######################     |ETA:  0:00:00\r",
        "Tokenizing sentences1344 of 1562 86%|########################    |ETA:  0:00:00\r",
        "Tokenizing sentences1360 of 1562 87%|########################    |ETA:  0:00:00\r",
        "Tokenizing sentences1376 of 1562 88%|########################    |ETA:  0:00:00\r"
       ]
      },
      {
       "output_type": "stream",
       "stream": "stderr",
       "text": [
        "Tokenizing sentences1392 of 1562 89%|########################    |ETA:  0:00:00\r",
        "Tokenizing sentences1408 of 1562 90%|#########################   |ETA:  0:00:00\r",
        "Tokenizing sentences1424 of 1562 91%|#########################   |ETA:  0:00:00\r",
        "Tokenizing sentences1440 of 1562 92%|#########################   |ETA:  0:00:00\r",
        "Tokenizing sentences1456 of 1562 93%|##########################  |ETA:  0:00:00\r",
        "Tokenizing sentences1472 of 1562 94%|##########################  |ETA:  0:00:00\r",
        "Tokenizing sentences1488 of 1562 95%|##########################  |ETA:  0:00:00\r",
        "Tokenizing sentences1504 of 1562 96%|##########################  |ETA:  0:00:00\r",
        "Tokenizing sentences1520 of 1562 97%|########################### |ETA:  0:00:00\r",
        "Tokenizing sentences1536 of 1562 98%|########################### |ETA:  0:00:00\r",
        "Tokenizing sentences1552 of 1562 99%|########################### |ETA:  0:00:00\r",
        "Tokenizing sentences1562 of 1562100%|############################|Time: 0:00:00\r\n",
        "tagging sentences0 of 1562  0%|                                 |ETA:  --:--:--\r"
       ]
      },
      {
       "output_type": "stream",
       "stream": "stderr",
       "text": [
        "tagging sentences16 of 1562  1%|                                 |ETA:  0:00:00\r",
        "tagging sentences32 of 1562  2%|                                 |ETA:  0:00:00\r",
        "tagging sentences48 of 1562  3%|#                                |ETA:  0:00:00\r",
        "tagging sentences64 of 1562  4%|#                                |ETA:  0:00:00\r",
        "tagging sentences80 of 1562  5%|#                                |ETA:  0:00:00\r",
        "tagging sentences96 of 1562  6%|##                               |ETA:  0:00:00\r",
        "tagging sentences112 of 1562  7%|##                              |ETA:  0:00:00\r",
        "tagging sentences128 of 1562  8%|##                              |ETA:  0:00:00\r",
        "tagging sentences144 of 1562  9%|##                              |ETA:  0:00:00\r",
        "tagging sentences160 of 1562 10%|###                             |ETA:  0:00:00\r",
        "tagging sentences176 of 1562 11%|###                             |ETA:  0:00:00\r"
       ]
      },
      {
       "output_type": "stream",
       "stream": "stderr",
       "text": [
        "tagging sentences192 of 1562 12%|###                             |ETA:  0:00:00\r",
        "tagging sentences208 of 1562 13%|####                            |ETA:  0:00:00\r",
        "tagging sentences224 of 1562 14%|####                            |ETA:  0:00:00\r",
        "tagging sentences240 of 1562 15%|####                            |ETA:  0:00:00\r",
        "tagging sentences256 of 1562 16%|#####                           |ETA:  0:00:00\r",
        "tagging sentences272 of 1562 17%|#####                           |ETA:  0:00:00\r",
        "tagging sentences288 of 1562 18%|#####                           |ETA:  0:00:00\r",
        "tagging sentences304 of 1562 19%|######                          |ETA:  0:00:00\r",
        "tagging sentences320 of 1562 20%|######                          |ETA:  0:00:00\r",
        "tagging sentences336 of 1562 21%|######                          |ETA:  0:00:00\r",
        "tagging sentences352 of 1562 22%|#######                         |ETA:  0:00:00\r",
        "tagging sentences368 of 1562 23%|#######                         |ETA:  0:00:00\r",
        "tagging sentences384 of 1562 24%|#######                         |ETA:  0:00:00\r",
        "tagging sentences400 of 1562 25%|########                        |ETA:  0:00:00\r",
        "tagging sentences416 of 1562 26%|########                        |ETA:  0:00:00\r",
        "tagging sentences432 of 1562 27%|########                        |ETA:  0:00:00\r"
       ]
      },
      {
       "output_type": "stream",
       "stream": "stderr",
       "text": [
        "tagging sentences448 of 1562 28%|#########                       |ETA:  0:00:00\r",
        "tagging sentences464 of 1562 29%|#########                       |ETA:  0:00:00\r",
        "tagging sentences480 of 1562 30%|#########                       |ETA:  0:00:00\r",
        "tagging sentences496 of 1562 31%|##########                      |ETA:  0:00:00\r",
        "tagging sentences512 of 1562 32%|##########                      |ETA:  0:00:00\r",
        "tagging sentences528 of 1562 33%|##########                      |ETA:  0:00:00\r",
        "tagging sentences544 of 1562 34%|###########                     |ETA:  0:00:00\r",
        "tagging sentences560 of 1562 35%|###########                     |ETA:  0:00:00\r",
        "tagging sentences576 of 1562 36%|###########                     |ETA:  0:00:00\r",
        "tagging sentences592 of 1562 37%|############                    |ETA:  0:00:00\r",
        "tagging sentences608 of 1562 38%|############                    |ETA:  0:00:00\r",
        "tagging sentences624 of 1562 39%|############                    |ETA:  0:00:00\r"
       ]
      },
      {
       "output_type": "stream",
       "stream": "stderr",
       "text": [
        "tagging sentences640 of 1562 40%|#############                   |ETA:  0:00:00\r",
        "tagging sentences656 of 1562 41%|#############                   |ETA:  0:00:00\r",
        "tagging sentences672 of 1562 43%|#############                   |ETA:  0:00:00\r",
        "tagging sentences688 of 1562 44%|##############                  |ETA:  0:00:00\r",
        "tagging sentences704 of 1562 45%|##############                  |ETA:  0:00:00\r",
        "tagging sentences720 of 1562 46%|##############                  |ETA:  0:00:00\r",
        "tagging sentences736 of 1562 47%|###############                 |ETA:  0:00:00\r",
        "tagging sentences752 of 1562 48%|###############                 |ETA:  0:00:00\r",
        "tagging sentences768 of 1562 49%|###############                 |ETA:  0:00:00\r",
        "tagging sentences784 of 1562 50%|################                |ETA:  0:00:00\r",
        "tagging sentences800 of 1562 51%|################                |ETA:  0:00:00\r",
        "tagging sentences816 of 1562 52%|################                |ETA:  0:00:00\r"
       ]
      },
      {
       "output_type": "stream",
       "stream": "stderr",
       "text": [
        "tagging sentences832 of 1562 53%|#################               |ETA:  0:00:00\r",
        "tagging sentences848 of 1562 54%|#################               |ETA:  0:00:00\r",
        "tagging sentences864 of 1562 55%|#################               |ETA:  0:00:00\r",
        "tagging sentences880 of 1562 56%|##################              |ETA:  0:00:00\r",
        "tagging sentences896 of 1562 57%|##################              |ETA:  0:00:00\r",
        "tagging sentences912 of 1562 58%|##################              |ETA:  0:00:00\r",
        "tagging sentences928 of 1562 59%|###################             |ETA:  0:00:00\r",
        "tagging sentences944 of 1562 60%|###################             |ETA:  0:00:00\r",
        "tagging sentences960 of 1562 61%|###################             |ETA:  0:00:00\r",
        "tagging sentences976 of 1562 62%|###################             |ETA:  0:00:00\r",
        "tagging sentences992 of 1562 63%|####################            |ETA:  0:00:00\r"
       ]
      },
      {
       "output_type": "stream",
       "stream": "stderr",
       "text": [
        "tagging sentences1008 of 1562 64%|####################           |ETA:  0:00:00\r",
        "tagging sentences1024 of 1562 65%|####################           |ETA:  0:00:00\r",
        "tagging sentences1040 of 1562 66%|####################           |ETA:  0:00:00\r",
        "tagging sentences1056 of 1562 67%|####################           |ETA:  0:00:00\r",
        "tagging sentences1072 of 1562 68%|#####################          |ETA:  0:00:00\r",
        "tagging sentences1088 of 1562 69%|#####################          |ETA:  0:00:00\r",
        "tagging sentences1104 of 1562 70%|#####################          |ETA:  0:00:00\r",
        "tagging sentences1120 of 1562 71%|######################         |ETA:  0:00:00\r",
        "tagging sentences1136 of 1562 72%|######################         |ETA:  0:00:00\r",
        "tagging sentences1152 of 1562 73%|######################         |ETA:  0:00:00\r"
       ]
      },
      {
       "output_type": "stream",
       "stream": "stderr",
       "text": [
        "tagging sentences1168 of 1562 74%|#######################        |ETA:  0:00:00\r",
        "tagging sentences1184 of 1562 75%|#######################        |ETA:  0:00:00\r",
        "tagging sentences1200 of 1562 76%|#######################        |ETA:  0:00:00\r",
        "tagging sentences1216 of 1562 77%|########################       |ETA:  0:00:00\r",
        "tagging sentences1232 of 1562 78%|########################       |ETA:  0:00:00\r",
        "tagging sentences1248 of 1562 79%|########################       |ETA:  0:00:00\r",
        "tagging sentences1264 of 1562 80%|#########################      |ETA:  0:00:00\r",
        "tagging sentences1280 of 1562 81%|#########################      |ETA:  0:00:00\r",
        "tagging sentences1296 of 1562 82%|#########################      |ETA:  0:00:00\r",
        "tagging sentences1312 of 1562 83%|##########################     |ETA:  0:00:00\r",
        "tagging sentences1328 of 1562 85%|##########################     |ETA:  0:00:00\r",
        "tagging sentences1344 of 1562 86%|##########################     |ETA:  0:00:00\r"
       ]
      },
      {
       "output_type": "stream",
       "stream": "stderr",
       "text": [
        "tagging sentences1360 of 1562 87%|##########################     |ETA:  0:00:00\r",
        "tagging sentences1376 of 1562 88%|###########################    |ETA:  0:00:00\r",
        "tagging sentences1392 of 1562 89%|###########################    |ETA:  0:00:00\r",
        "tagging sentences1408 of 1562 90%|###########################    |ETA:  0:00:00\r",
        "tagging sentences1424 of 1562 91%|############################   |ETA:  0:00:00\r",
        "tagging sentences1440 of 1562 92%|############################   |ETA:  0:00:00\r",
        "tagging sentences1456 of 1562 93%|############################   |ETA:  0:00:00\r",
        "tagging sentences1472 of 1562 94%|#############################  |ETA:  0:00:00\r",
        "tagging sentences1488 of 1562 95%|#############################  |ETA:  0:00:00\r",
        "tagging sentences1504 of 1562 96%|#############################  |ETA:  0:00:00\r",
        "tagging sentences1520 of 1562 97%|############################## |ETA:  0:00:00\r",
        "tagging sentences1536 of 1562 98%|############################## |ETA:  0:00:00\r"
       ]
      },
      {
       "output_type": "stream",
       "stream": "stderr",
       "text": [
        "tagging sentences1552 of 1562 99%|############################## |ETA:  0:00:00\r",
        "tagging sentences1562 of 1562100%|###############################|Time: 0:00:00\r\n",
        "Chunking 0 of 1562  0%|                                         |ETA:  --:--:--\r",
        "Chunking 16 of 1562  1%|                                         |ETA:  0:00:00\r",
        "Chunking 32 of 1562  2%|                                         |ETA:  0:00:00\r",
        "Chunking 48 of 1562  3%|#                                        |ETA:  0:00:00\r",
        "Chunking 64 of 1562  4%|#                                        |ETA:  0:00:00\r",
        "Chunking 80 of 1562  5%|##                                       |ETA:  0:00:00\r",
        "Chunking 96 of 1562  6%|##                                       |ETA:  0:00:00\r",
        "Chunking 112 of 1562  7%|##                                      |ETA:  0:00:00\r",
        "Chunking 128 of 1562  8%|###                                     |ETA:  0:00:00\r",
        "Chunking 144 of 1562  9%|###                                     |ETA:  0:00:00\r",
        "Chunking 160 of 1562 10%|####                                    |ETA:  0:00:00\r"
       ]
      },
      {
       "output_type": "stream",
       "stream": "stderr",
       "text": [
        "Chunking 176 of 1562 11%|####                                    |ETA:  0:00:00\r",
        "Chunking 192 of 1562 12%|####                                    |ETA:  0:00:00\r",
        "Chunking 208 of 1562 13%|#####                                   |ETA:  0:00:00\r",
        "Chunking 224 of 1562 14%|#####                                   |ETA:  0:00:00\r",
        "Chunking 240 of 1562 15%|######                                  |ETA:  0:00:00\r",
        "Chunking 256 of 1562 16%|######                                  |ETA:  0:00:00\r",
        "Chunking 272 of 1562 17%|######                                  |ETA:  0:00:00\r",
        "Chunking 288 of 1562 18%|#######                                 |ETA:  0:00:00\r",
        "Chunking 304 of 1562 19%|#######                                 |ETA:  0:00:00\r",
        "Chunking 320 of 1562 20%|########                                |ETA:  0:00:00\r",
        "Chunking 336 of 1562 21%|########                                |ETA:  0:00:00\r",
        "Chunking 352 of 1562 22%|#########                               |ETA:  0:00:00\r"
       ]
      },
      {
       "output_type": "stream",
       "stream": "stderr",
       "text": [
        "Chunking 368 of 1562 23%|#########                               |ETA:  0:00:00\r",
        "Chunking 384 of 1562 24%|#########                               |ETA:  0:00:00\r",
        "Chunking 400 of 1562 25%|##########                              |ETA:  0:00:00\r",
        "Chunking 416 of 1562 26%|##########                              |ETA:  0:00:00\r",
        "Chunking 432 of 1562 27%|###########                             |ETA:  0:00:00\r",
        "Chunking 448 of 1562 28%|###########                             |ETA:  0:00:00\r",
        "Chunking 464 of 1562 29%|###########                             |ETA:  0:00:00\r",
        "Chunking 480 of 1562 30%|############                            |ETA:  0:00:00\r",
        "Chunking 496 of 1562 31%|############                            |ETA:  0:00:00\r",
        "Chunking 512 of 1562 32%|#############                           |ETA:  0:00:00\r",
        "Chunking 528 of 1562 33%|#############                           |ETA:  0:00:00\r",
        "Chunking 544 of 1562 34%|#############                           |ETA:  0:00:00\r",
        "Chunking 560 of 1562 35%|##############                          |ETA:  0:00:00\r",
        "Chunking 576 of 1562 36%|##############                          |ETA:  0:00:00\r"
       ]
      },
      {
       "output_type": "stream",
       "stream": "stderr",
       "text": [
        "Chunking 592 of 1562 37%|###############                         |ETA:  0:00:00\r",
        "Chunking 608 of 1562 38%|###############                         |ETA:  0:00:00\r",
        "Chunking 624 of 1562 39%|###############                         |ETA:  0:00:00\r",
        "Chunking 640 of 1562 40%|################                        |ETA:  0:00:00\r",
        "Chunking 656 of 1562 41%|################                        |ETA:  0:00:00\r",
        "Chunking 672 of 1562 43%|#################                       |ETA:  0:00:00\r",
        "Chunking 688 of 1562 44%|#################                       |ETA:  0:00:00\r",
        "Chunking 704 of 1562 45%|##################                      |ETA:  0:00:00\r",
        "Chunking 720 of 1562 46%|##################                      |ETA:  0:00:00\r",
        "Chunking 736 of 1562 47%|##################                      |ETA:  0:00:00\r",
        "Chunking 752 of 1562 48%|###################                     |ETA:  0:00:00\r",
        "Chunking 768 of 1562 49%|###################                     |ETA:  0:00:00\r",
        "Chunking 784 of 1562 50%|####################                    |ETA:  0:00:00\r",
        "Chunking 800 of 1562 51%|####################                    |ETA:  0:00:00\r"
       ]
      },
      {
       "output_type": "stream",
       "stream": "stderr",
       "text": [
        "Chunking 816 of 1562 52%|####################                    |ETA:  0:00:00\r",
        "Chunking 832 of 1562 53%|#####################                   |ETA:  0:00:00\r",
        "Chunking 848 of 1562 54%|#####################                   |ETA:  0:00:00\r",
        "Chunking 864 of 1562 55%|######################                  |ETA:  0:00:00\r",
        "Chunking 880 of 1562 56%|######################                  |ETA:  0:00:00\r",
        "Chunking 896 of 1562 57%|######################                  |ETA:  0:00:00\r",
        "Chunking 912 of 1562 58%|#######################                 |ETA:  0:00:00\r",
        "Chunking 928 of 1562 59%|#######################                 |ETA:  0:00:00\r",
        "Chunking 944 of 1562 60%|########################                |ETA:  0:00:00\r",
        "Chunking 960 of 1562 61%|########################                |ETA:  0:00:00\r",
        "Chunking 976 of 1562 62%|########################                |ETA:  0:00:00\r"
       ]
      },
      {
       "output_type": "stream",
       "stream": "stderr",
       "text": [
        "Chunking 992 of 1562 63%|#########################               |ETA:  0:00:00\r",
        "Chunking 1008 of 1562 64%|#########################              |ETA:  0:00:00\r",
        "Chunking 1024 of 1562 65%|#########################              |ETA:  0:00:00\r",
        "Chunking 1040 of 1562 66%|#########################              |ETA:  0:00:00\r",
        "Chunking 1056 of 1562 67%|##########################             |ETA:  0:00:00\r",
        "Chunking 1072 of 1562 68%|##########################             |ETA:  0:00:00\r",
        "Chunking 1088 of 1562 69%|###########################            |ETA:  0:00:00\r",
        "Chunking 1104 of 1562 70%|###########################            |ETA:  0:00:00\r",
        "Chunking 1120 of 1562 71%|###########################            |ETA:  0:00:00\r",
        "Chunking 1136 of 1562 72%|############################           |ETA:  0:00:00\r",
        "Chunking 1152 of 1562 73%|############################           |ETA:  0:00:00\r"
       ]
      },
      {
       "output_type": "stream",
       "stream": "stderr",
       "text": [
        "Chunking 1168 of 1562 74%|#############################          |ETA:  0:00:00\r",
        "Chunking 1184 of 1562 75%|#############################          |ETA:  0:00:00\r",
        "Chunking 1200 of 1562 76%|#############################          |ETA:  0:00:00\r",
        "Chunking 1216 of 1562 77%|##############################         |ETA:  0:00:00\r",
        "Chunking 1232 of 1562 78%|##############################         |ETA:  0:00:00\r",
        "Chunking 1248 of 1562 79%|###############################        |ETA:  0:00:00\r",
        "Chunking 1264 of 1562 80%|###############################        |ETA:  0:00:00\r",
        "Chunking 1280 of 1562 81%|###############################        |ETA:  0:00:00\r",
        "Chunking 1296 of 1562 82%|################################       |ETA:  0:00:00\r",
        "Chunking 1312 of 1562 83%|################################       |ETA:  0:00:00\r",
        "Chunking 1328 of 1562 85%|#################################      |ETA:  0:00:00\r",
        "Chunking 1344 of 1562 86%|#################################      |ETA:  0:00:00\r"
       ]
      },
      {
       "output_type": "stream",
       "stream": "stderr",
       "text": [
        "Chunking 1360 of 1562 87%|#################################      |ETA:  0:00:00\r",
        "Chunking 1376 of 1562 88%|##################################     |ETA:  0:00:00\r",
        "Chunking 1392 of 1562 89%|##################################     |ETA:  0:00:00\r",
        "Chunking 1408 of 1562 90%|###################################    |ETA:  0:00:00\r",
        "Chunking 1424 of 1562 91%|###################################    |ETA:  0:00:00\r",
        "Chunking 1440 of 1562 92%|###################################    |ETA:  0:00:00\r",
        "Chunking 1456 of 1562 93%|####################################   |ETA:  0:00:00\r",
        "Chunking 1472 of 1562 94%|####################################   |ETA:  0:00:00\r"
       ]
      },
      {
       "output_type": "stream",
       "stream": "stdout",
       "text": [
        "\n",
        "pa_process_chunks() Started...\n",
        "pa_process_chunks() DONE!"
       ]
      },
      {
       "output_type": "stream",
       "stream": "stdout",
       "text": [
        "\n",
        "get_ner_entities_list() Started...\n",
        "get_ner_entities_list() DONE!\n",
        "get_ner_countries() Started...\n",
        "get_filtered_countries() Started...\n",
        "get_filtered_countries() DONE!"
       ]
      },
      {
       "output_type": "stream",
       "stream": "stdout",
       "text": [
        "\n",
        "get_filtered_countries() Started...\n",
        "get_filtered_countries() DONE!\n",
        "get_ner_countries() DONE!\n",
        "get_ner_organizations() Started...\n",
        "get_ner_organizations() DONE!\n",
        "Elapsed time: 0:03:15.297307\n"
       ]
      },
      {
       "output_type": "stream",
       "stream": "stderr",
       "text": [
        "Chunking 1488 of 1562 95%|#####################################  |ETA:  0:00:00\r",
        "Chunking 1504 of 1562 96%|#####################################  |ETA:  0:00:00\r",
        "Chunking 1520 of 1562 97%|#####################################  |ETA:  0:00:00\r",
        "Chunking 1536 of 1562 98%|###################################### |ETA:  0:00:00\r",
        "Chunking 1552 of 1562 99%|###################################### |ETA:  0:00:00\r",
        "Chunking 1562 of 1562100%|#######################################|Time: 0:00:00\r\n"
       ]
      }
     ],
     "prompt_number": 242
    },
    {
     "cell_type": "code",
     "collapsed": false,
     "input": [],
     "language": "python",
     "metadata": {},
     "outputs": []
    }
   ],
   "metadata": {}
  }
 ]
}