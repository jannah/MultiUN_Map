{
 "metadata": {
  "name": "",
  "signature": "sha256:440d9f7f8ba0dd54bb4e2727dbcbb7571975a0528684f0b886948a6fd2086cac"
 },
 "nbformat": 3,
 "nbformat_minor": 0,
 "worksheets": [
  {
   "cells": [
    {
     "cell_type": "heading",
     "level": 1,
     "metadata": {},
     "source": [
      "Search for a Specific Document in the Corpus"
     ]
    },
    {
     "cell_type": "markdown",
     "metadata": {},
     "source": [
      "A simple utility to search for a document using its' attributes"
     ]
    },
    {
     "cell_type": "code",
     "collapsed": false,
     "input": [
      "MODULES_PATH = '''../modules/multi_un_module.py'''\n",
      "import imp\n",
      "NF = imp.load_source('multi_un_module', MODULES_PATH)\n",
      "import multi_un_module as mun\n",
      "from IPython.display import HTML"
     ],
     "language": "python",
     "metadata": {},
     "outputs": [
      {
       "output_type": "stream",
       "stream": "stdout",
       "text": [
        "Load_countries() DONE!\n"
       ]
      }
     ]
    },
    {
     "cell_type": "markdown",
     "metadata": {},
     "source": [
      "serach for documents\n",
      "\n",
      "G0516877"
     ]
    },
    {
     "cell_type": "code",
     "collapsed": false,
     "input": [
      "n = raw_input('Enter a document attribute:\\n')\n",
      "# n = 'G0516877'\n",
      "document = mun.get_documents(term=n, limit = 1, include_content=True)\n",
      "print len(document), ' result%s'%('s' if len(document)>1 else '')\n",
      "h = HTML(mun.json2html(document));h"
     ],
     "language": "python",
     "metadata": {},
     "outputs": []
    },
    {
     "cell_type": "code",
     "collapsed": false,
     "input": [
      "\n",
      "doc_name, doc=document.iteritems().next()\n",
      "paragraphs = mun.extract_paragraphs(document)\n",
      "sentences = mun.extract_sentences(document)\n",
      "tokenized_sentences = mun.tokenize_sentence_text(sentences)\n",
      "tagged_sentences = mun.tag_pos_sentences(tokenized_sentences)"
     ],
     "language": "python",
     "metadata": {},
     "outputs": []
    },
    {
     "cell_type": "code",
     "collapsed": false,
     "input": [
      "mun.print_sentence_statistics(sentences)"
     ],
     "language": "python",
     "metadata": {},
     "outputs": []
    },
    {
     "cell_type": "code",
     "collapsed": false,
     "input": [
      "url = mun.get_document_url(doc_name = doc_name)\n",
      "doc['attributes']['url'] = '<a href=\"%s\" target=\"_blank\">Open original PDF</a>'%url \n",
      "HTML(doc['attributes']['url'])"
     ],
     "language": "python",
     "metadata": {},
     "outputs": []
    },
    {
     "cell_type": "code",
     "collapsed": false,
     "input": [
      "nchunks, vchunks = mun.process_chunks(tagged_sentences=tagged_sentences, return_print=False)\n",
      "mun.print_FreqDists([nchunks,vchunks],titles=['Noun Chunks', 'Noun Verb Chunks'], limit=10)"
     ],
     "language": "python",
     "metadata": {},
     "outputs": []
    },
    {
     "cell_type": "code",
     "collapsed": false,
     "input": [],
     "language": "python",
     "metadata": {},
     "outputs": []
    },
    {
     "cell_type": "code",
     "collapsed": false,
     "input": [
      "orgs, countries, nchunks= mun.ner_document_analysis(sentences, tagged_sentences, nchunks)\n",
      "mun.print_FreqDists([nchunks, orgs,countries],titles=['NChunks (Filtered)', 'Organizations', 'Countries'], limit = 10)"
     ],
     "language": "python",
     "metadata": {},
     "outputs": []
    },
    {
     "cell_type": "code",
     "collapsed": false,
     "input": [
      "colloc = mun.get_collocations(sentences=sentences)\n",
      "HTML(mun.json2html([ [ \"<->\".join(list(r)) for r in c] for c in colloc]))"
     ],
     "language": "python",
     "metadata": {},
     "outputs": []
    },
    {
     "cell_type": "code",
     "collapsed": false,
     "input": [],
     "language": "python",
     "metadata": {},
     "outputs": []
    },
    {
     "cell_type": "code",
     "collapsed": false,
     "input": [
      "# colloc = mun.get_chunked_collocations(tagged_sentences = tagged_sentences)\n"
     ],
     "language": "python",
     "metadata": {},
     "outputs": []
    },
    {
     "cell_type": "code",
     "collapsed": false,
     "input": [
      "# colloc"
     ],
     "language": "python",
     "metadata": {},
     "outputs": []
    },
    {
     "cell_type": "code",
     "collapsed": false,
     "input": [
      "summary = mun.get_document_summary(doc)\n",
      "HTML(mun.json2html(list(summary)))"
     ],
     "language": "python",
     "metadata": {},
     "outputs": []
    },
    {
     "cell_type": "code",
     "collapsed": false,
     "input": [
      "sumy = mun.sumy_paragraphs(paragraphs, sentence_count=5)\n",
      "HTML(mun.json2html(sumy))"
     ],
     "language": "python",
     "metadata": {},
     "outputs": []
    },
    {
     "cell_type": "code",
     "collapsed": false,
     "input": [
      "HTML(mun.get_doc_html(doc))"
     ],
     "language": "python",
     "metadata": {},
     "outputs": []
    }
   ],
   "metadata": {}
  }
 ]
}