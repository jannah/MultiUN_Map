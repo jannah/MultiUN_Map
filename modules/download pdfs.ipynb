{
 "metadata": {
  "name": "",
  "signature": "sha256:9f17e0d8ed55caa1b674ed792e4ca6ec208e625e8135e9329319bb38ceb19c0e"
 },
 "nbformat": 3,
 "nbformat_minor": 0,
 "worksheets": [
  {
   "cells": [
    {
     "cell_type": "code",
     "collapsed": false,
     "input": [
      "MODULES_PATH = '''..\\\\modules\\\\multi_un_module.py'''\n",
      "import imp\n",
      "NF = imp.load_source('multi_un_module', MODULES_PATH)\n",
      "import multi_un_module as mun"
     ],
     "language": "python",
     "metadata": {},
     "outputs": [],
     "prompt_number": 1
    },
    {
     "cell_type": "code",
     "collapsed": false,
     "input": [
      "docs = mun.load_xml_files_by_year(\"TOP_100\")"
     ],
     "language": "python",
     "metadata": {},
     "outputs": [
      {
       "javascript": [
        "//1e6f96fd-649f-46a4-b4a2-af03b5198056\n",
        "$(\"head\").append(\"<style> td.pb_widget {     width: auto; } td.pb_widget_fill {     width: 100%; } table.pb {     font-family: monospace;     border: 0;     margin: 0; } table.pb tr { border: 0; } table.pb td {     white-space: nowrap;     border: 0; } div.pb {     border: 1px solid #ddd;     border-radius: 3px; } div.pb_bar {     height: 1.5em; } </style>\")"
       ],
       "metadata": {},
       "output_type": "display_data",
       "text": [
        "<IPython.core.display.Javascript at 0x22d3f7f0>"
       ]
      },
      {
       "javascript": [
        "\n",
        "                  // 1e6f96fd-649f-46a4-b4a2-af03b5198056 -- used to remove this code blob in the end\n",
        "                  IPython.OutputArea.prototype.cleanProgressBar = function(uuids) {\n",
        "                      // filter by uuid-strings \n",
        "                      var myfilter = function(output) { \n",
        "                          var nuids = uuids.length;\n",
        "                          for (var i=0; i<nuids; i++) {\n",
        "                              if (output.hasOwnProperty('html')) {\n",
        "                                  if (output.html.indexOf(uuids[i]) != -1) {\n",
        "                                      return false;\n",
        "                                  }\n",
        "                              }\n",
        "                              if (output.hasOwnProperty('javascript')) {\n",
        "                                  if (output.javascript.indexOf(uuids[i]) != -1) {\n",
        "                                      return false;\n",
        "                                  }\n",
        "                              }\n",
        "                          }\n",
        "                          // keep all others\n",
        "                          return true;\n",
        "                      };\n",
        "\n",
        "                      // Filter the ouputs\n",
        "                      this.outputs = this.outputs.filter(myfilter);\n",
        "                };\n",
        "                "
       ],
       "metadata": {},
       "output_type": "display_data",
       "text": [
        "<IPython.core.display.Javascript at 0x22d3fe80>"
       ]
      },
      {
       "html": [
        "<div class=\"pb\" id=\"1e6f96fd-649f-46a4-b4a2-af03b5198056\"><table class=\"pb ui-widget\"><tr>\n",
        "<td class=\"pb_widget\">TOP_100</td>\n",
        "<td class=\"pb_widget\"><div id=\"a179895a-533b-4791-a13c-4ed8d049a883\">0 of 98</div></td>\n",
        "<td class=\"pb_widget\"><div id=\"f5e60c64-0612-4f99-8772-26667fabe4fd\">  0%</div></td>\n",
        "<td class=\"pb_widget_fill\">\n",
        "        <div class=\"pb_bar\" id=\"f7f836e4-cc3d-467c-aa0b-f81bbde8156f\"></div>\n",
        "        <script type=\"text/javascript\">\n",
        "            $(\"div#f7f836e4-cc3d-467c-aa0b-f81bbde8156f\").progressbar({value: 0, max: 98});\n",
        "        </script>\n",
        "        </td>\n",
        "<td class=\"pb_widget\"><div id=\"433d07f1-5fac-418b-a17b-e889b5d45e39\">ETA:  --:--:--</div></td>\n",
        "</tr></table><div>"
       ],
       "metadata": {},
       "output_type": "display_data",
       "text": [
        "<IPython.core.display.HTML at 0x22d3fcf8>"
       ]
      },
      {
       "javascript": [
        "$('div#a179895a-533b-4791-a13c-4ed8d049a883').text('1 of 98');"
       ],
       "metadata": {},
       "output_type": "display_data",
       "text": [
        "<IPython.core.display.Javascript at 0x22d3f828>"
       ]
      },
      {
       "javascript": [
        "$('div#f5e60c64-0612-4f99-8772-26667fabe4fd').text('  1%');"
       ],
       "metadata": {},
       "output_type": "display_data",
       "text": [
        "<IPython.core.display.Javascript at 0x22d3f828>"
       ]
      },
      {
       "javascript": [
        "\n",
        "        var $myPB = $(\"div#f7f836e4-cc3d-467c-aa0b-f81bbde8156f\")\n",
        "        if ($myPB.hasClass('ui-progressbar')) {\n",
        "            $myPB.progressbar('value', 1);\n",
        "        } else {\n",
        "            $myPB.progressbar({value: 0, max: 98});\n",
        "        }\n",
        "        "
       ],
       "metadata": {},
       "output_type": "display_data",
       "text": [
        "<IPython.core.display.Javascript at 0x22d3f550>"
       ]
      },
      {
       "javascript": [
        "$('div#433d07f1-5fac-418b-a17b-e889b5d45e39').text('ETA:  0:00:01');"
       ],
       "metadata": {},
       "output_type": "display_data",
       "text": [
        "<IPython.core.display.Javascript at 0x22d3fba8>"
       ]
      },
      {
       "javascript": [
        "$('div#a179895a-533b-4791-a13c-4ed8d049a883').text('2 of 98');"
       ],
       "metadata": {},
       "output_type": "display_data",
       "text": [
        "<IPython.core.display.Javascript at 0x22542438>"
       ]
      },
      {
       "javascript": [
        "$('div#f5e60c64-0612-4f99-8772-26667fabe4fd').text('  2%');"
       ],
       "metadata": {},
       "output_type": "display_data",
       "text": [
        "<IPython.core.display.Javascript at 0x22542cc0>"
       ]
      },
      {
       "javascript": [
        "\n",
        "        var $myPB = $(\"div#f7f836e4-cc3d-467c-aa0b-f81bbde8156f\")\n",
        "        if ($myPB.hasClass('ui-progressbar')) {\n",
        "            $myPB.progressbar('value', 2);\n",
        "        } else {\n",
        "            $myPB.progressbar({value: 0, max: 98});\n",
        "        }\n",
        "        "
       ],
       "metadata": {},
       "output_type": "display_data",
       "text": [
        "<IPython.core.display.Javascript at 0x22542cc0>"
       ]
      },
      {
       "javascript": [
        "$('div#433d07f1-5fac-418b-a17b-e889b5d45e39').text('ETA:  0:00:01');"
       ],
       "metadata": {},
       "output_type": "display_data",
       "text": [
        "<IPython.core.display.Javascript at 0x22542080>"
       ]
      },
      {
       "javascript": [
        "$('div#a179895a-533b-4791-a13c-4ed8d049a883').text('3 of 98');"
       ],
       "metadata": {},
       "output_type": "display_data",
       "text": [
        "<IPython.core.display.Javascript at 0x1bfee5f8>"
       ]
      },
      {
       "javascript": [
        "$('div#f5e60c64-0612-4f99-8772-26667fabe4fd').text('  3%');"
       ],
       "metadata": {},
       "output_type": "display_data",
       "text": [
        "<IPython.core.display.Javascript at 0x1bfeedd8>"
       ]
      },
      {
       "javascript": [
        "\n",
        "        var $myPB = $(\"div#f7f836e4-cc3d-467c-aa0b-f81bbde8156f\")\n",
        "        if ($myPB.hasClass('ui-progressbar')) {\n",
        "            $myPB.progressbar('value', 3);\n",
        "        } else {\n",
        "            $myPB.progressbar({value: 0, max: 98});\n",
        "        }\n",
        "        "
       ],
       "metadata": {},
       "output_type": "display_data",
       "text": [
        "<IPython.core.display.Javascript at 0x1bfeedd8>"
       ]
      },
      {
       "javascript": [
        "$('div#433d07f1-5fac-418b-a17b-e889b5d45e39').text('ETA:  0:00:01');"
       ],
       "metadata": {},
       "output_type": "display_data",
       "text": [
        "<IPython.core.display.Javascript at 0x1bfeeef0>"
       ]
      },
      {
       "javascript": [
        "$('div#a179895a-533b-4791-a13c-4ed8d049a883').text('4 of 98');"
       ],
       "metadata": {},
       "output_type": "display_data",
       "text": [
        "<IPython.core.display.Javascript at 0x1c0a3b70>"
       ]
      },
      {
       "javascript": [
        "$('div#f5e60c64-0612-4f99-8772-26667fabe4fd').text('  4%');"
       ],
       "metadata": {},
       "output_type": "display_data",
       "text": [
        "<IPython.core.display.Javascript at 0x1c0a3240>"
       ]
      },
      {
       "javascript": [
        "\n",
        "        var $myPB = $(\"div#f7f836e4-cc3d-467c-aa0b-f81bbde8156f\")\n",
        "        if ($myPB.hasClass('ui-progressbar')) {\n",
        "            $myPB.progressbar('value', 4);\n",
        "        } else {\n",
        "            $myPB.progressbar({value: 0, max: 98});\n",
        "        }\n",
        "        "
       ],
       "metadata": {},
       "output_type": "display_data",
       "text": [
        "<IPython.core.display.Javascript at 0x1c0a36a0>"
       ]
      },
      {
       "javascript": [
        "$('div#433d07f1-5fac-418b-a17b-e889b5d45e39').text('ETA:  0:00:05');"
       ],
       "metadata": {},
       "output_type": "display_data",
       "text": [
        "<IPython.core.display.Javascript at 0x1c0a37f0>"
       ]
      },
      {
       "javascript": [
        "$('div#a179895a-533b-4791-a13c-4ed8d049a883').text('5 of 98');"
       ],
       "metadata": {},
       "output_type": "display_data",
       "text": [
        "<IPython.core.display.Javascript at 0x1c0a3d68>"
       ]
      },
      {
       "javascript": [
        "$('div#f5e60c64-0612-4f99-8772-26667fabe4fd').text('  5%');"
       ],
       "metadata": {},
       "output_type": "display_data",
       "text": [
        "<IPython.core.display.Javascript at 0x1c0a3da0>"
       ]
      },
      {
       "javascript": [
        "\n",
        "        var $myPB = $(\"div#f7f836e4-cc3d-467c-aa0b-f81bbde8156f\")\n",
        "        if ($myPB.hasClass('ui-progressbar')) {\n",
        "            $myPB.progressbar('value', 5);\n",
        "        } else {\n",
        "            $myPB.progressbar({value: 0, max: 98});\n",
        "        }\n",
        "        "
       ],
       "metadata": {},
       "output_type": "display_data",
       "text": [
        "<IPython.core.display.Javascript at 0x1c0a34e0>"
       ]
      },
      {
       "javascript": [
        "$('div#433d07f1-5fac-418b-a17b-e889b5d45e39').text('ETA:  0:00:04');"
       ],
       "metadata": {},
       "output_type": "display_data",
       "text": [
        "<IPython.core.display.Javascript at 0x1c0a34e0>"
       ]
      },
      {
       "javascript": [
        "$('div#a179895a-533b-4791-a13c-4ed8d049a883').text('6 of 98');"
       ],
       "metadata": {},
       "output_type": "display_data",
       "text": [
        "<IPython.core.display.Javascript at 0x21b6c240>"
       ]
      },
      {
       "javascript": [
        "$('div#f5e60c64-0612-4f99-8772-26667fabe4fd').text('  6%');"
       ],
       "metadata": {},
       "output_type": "display_data",
       "text": [
        "<IPython.core.display.Javascript at 0x21b6cd68>"
       ]
      },
      {
       "javascript": [
        "\n",
        "        var $myPB = $(\"div#f7f836e4-cc3d-467c-aa0b-f81bbde8156f\")\n",
        "        if ($myPB.hasClass('ui-progressbar')) {\n",
        "            $myPB.progressbar('value', 6);\n",
        "        } else {\n",
        "            $myPB.progressbar({value: 0, max: 98});\n",
        "        }\n",
        "        "
       ],
       "metadata": {},
       "output_type": "display_data",
       "text": [
        "<IPython.core.display.Javascript at 0x21b6ccc0>"
       ]
      },
      {
       "javascript": [
        "$('div#433d07f1-5fac-418b-a17b-e889b5d45e39').text('ETA:  0:00:04');"
       ],
       "metadata": {},
       "output_type": "display_data",
       "text": [
        "<IPython.core.display.Javascript at 0x21b6c7f0>"
       ]
      },
      {
       "javascript": [
        "$('div#a179895a-533b-4791-a13c-4ed8d049a883').text('7 of 98');"
       ],
       "metadata": {},
       "output_type": "display_data",
       "text": [
        "<IPython.core.display.Javascript at 0x222e4c50>"
       ]
      },
      {
       "javascript": [
        "$('div#f5e60c64-0612-4f99-8772-26667fabe4fd').text('  7%');"
       ],
       "metadata": {},
       "output_type": "display_data",
       "text": [
        "<IPython.core.display.Javascript at 0x222e4c50>"
       ]
      },
      {
       "javascript": [
        "\n",
        "        var $myPB = $(\"div#f7f836e4-cc3d-467c-aa0b-f81bbde8156f\")\n",
        "        if ($myPB.hasClass('ui-progressbar')) {\n",
        "            $myPB.progressbar('value', 7);\n",
        "        } else {\n",
        "            $myPB.progressbar({value: 0, max: 98});\n",
        "        }\n",
        "        "
       ],
       "metadata": {},
       "output_type": "display_data",
       "text": [
        "<IPython.core.display.Javascript at 0x222e4978>"
       ]
      },
      {
       "javascript": [
        "$('div#433d07f1-5fac-418b-a17b-e889b5d45e39').text('ETA:  0:00:05');"
       ],
       "metadata": {},
       "output_type": "display_data",
       "text": [
        "<IPython.core.display.Javascript at 0x222e4860>"
       ]
      },
      {
       "javascript": [
        "$('div#a179895a-533b-4791-a13c-4ed8d049a883').text('8 of 98');"
       ],
       "metadata": {},
       "output_type": "display_data",
       "text": [
        "<IPython.core.display.Javascript at 0x222e4438>"
       ]
      },
      {
       "javascript": [
        "$('div#f5e60c64-0612-4f99-8772-26667fabe4fd').text('  8%');"
       ],
       "metadata": {},
       "output_type": "display_data",
       "text": [
        "<IPython.core.display.Javascript at 0x222e4438>"
       ]
      },
      {
       "javascript": [
        "\n",
        "        var $myPB = $(\"div#f7f836e4-cc3d-467c-aa0b-f81bbde8156f\")\n",
        "        if ($myPB.hasClass('ui-progressbar')) {\n",
        "            $myPB.progressbar('value', 8);\n",
        "        } else {\n",
        "            $myPB.progressbar({value: 0, max: 98});\n",
        "        }\n",
        "        "
       ],
       "metadata": {},
       "output_type": "display_data",
       "text": [
        "<IPython.core.display.Javascript at 0x222e4160>"
       ]
      },
      {
       "javascript": [
        "$('div#433d07f1-5fac-418b-a17b-e889b5d45e39').text('ETA:  0:00:05');"
       ],
       "metadata": {},
       "output_type": "display_data",
       "text": [
        "<IPython.core.display.Javascript at 0x222e47f0>"
       ]
      },
      {
       "javascript": [
        "$('div#a179895a-533b-4791-a13c-4ed8d049a883').text('9 of 98');"
       ],
       "metadata": {},
       "output_type": "display_data",
       "text": [
        "<IPython.core.display.Javascript at 0x222e4390>"
       ]
      },
      {
       "javascript": [
        "$('div#f5e60c64-0612-4f99-8772-26667fabe4fd').text('  9%');"
       ],
       "metadata": {},
       "output_type": "display_data",
       "text": [
        "<IPython.core.display.Javascript at 0x222e45f8>"
       ]
      },
      {
       "javascript": [
        "\n",
        "        var $myPB = $(\"div#f7f836e4-cc3d-467c-aa0b-f81bbde8156f\")\n",
        "        if ($myPB.hasClass('ui-progressbar')) {\n",
        "            $myPB.progressbar('value', 9);\n",
        "        } else {\n",
        "            $myPB.progressbar({value: 0, max: 98});\n",
        "        }\n",
        "        "
       ],
       "metadata": {},
       "output_type": "display_data",
       "text": [
        "<IPython.core.display.Javascript at 0x222e4a20>"
       ]
      },
      {
       "javascript": [
        "$('div#433d07f1-5fac-418b-a17b-e889b5d45e39').text('ETA:  0:00:04');"
       ],
       "metadata": {},
       "output_type": "display_data",
       "text": [
        "<IPython.core.display.Javascript at 0x222e4630>"
       ]
      },
      {
       "javascript": [
        "$('div#a179895a-533b-4791-a13c-4ed8d049a883').text('10 of 98');"
       ],
       "metadata": {},
       "output_type": "display_data",
       "text": [
        "<IPython.core.display.Javascript at 0x222e4a90>"
       ]
      },
      {
       "javascript": [
        "$('div#f5e60c64-0612-4f99-8772-26667fabe4fd').text(' 10%');"
       ],
       "metadata": {},
       "output_type": "display_data",
       "text": [
        "<IPython.core.display.Javascript at 0x222e4f28>"
       ]
      },
      {
       "javascript": [
        "\n",
        "        var $myPB = $(\"div#f7f836e4-cc3d-467c-aa0b-f81bbde8156f\")\n",
        "        if ($myPB.hasClass('ui-progressbar')) {\n",
        "            $myPB.progressbar('value', 10);\n",
        "        } else {\n",
        "            $myPB.progressbar({value: 0, max: 98});\n",
        "        }\n",
        "        "
       ],
       "metadata": {},
       "output_type": "display_data",
       "text": [
        "<IPython.core.display.Javascript at 0x222e4198>"
       ]
      },
      {
       "javascript": [
        "$('div#433d07f1-5fac-418b-a17b-e889b5d45e39').text('ETA:  0:00:04');"
       ],
       "metadata": {},
       "output_type": "display_data",
       "text": [
        "<IPython.core.display.Javascript at 0x222e4198>"
       ]
      },
      {
       "javascript": [
        "$('div#a179895a-533b-4791-a13c-4ed8d049a883').text('11 of 98');"
       ],
       "metadata": {},
       "output_type": "display_data",
       "text": [
        "<IPython.core.display.Javascript at 0x1fa6f550>"
       ]
      },
      {
       "javascript": [
        "$('div#f5e60c64-0612-4f99-8772-26667fabe4fd').text(' 11%');"
       ],
       "metadata": {},
       "output_type": "display_data",
       "text": [
        "<IPython.core.display.Javascript at 0x1fa6f2b0>"
       ]
      },
      {
       "javascript": [
        "\n",
        "        var $myPB = $(\"div#f7f836e4-cc3d-467c-aa0b-f81bbde8156f\")\n",
        "        if ($myPB.hasClass('ui-progressbar')) {\n",
        "            $myPB.progressbar('value', 11);\n",
        "        } else {\n",
        "            $myPB.progressbar({value: 0, max: 98});\n",
        "        }\n",
        "        "
       ],
       "metadata": {},
       "output_type": "display_data",
       "text": [
        "<IPython.core.display.Javascript at 0x1fa6ff28>"
       ]
      },
      {
       "javascript": [
        "$('div#433d07f1-5fac-418b-a17b-e889b5d45e39').text('ETA:  0:00:04');"
       ],
       "metadata": {},
       "output_type": "display_data",
       "text": [
        "<IPython.core.display.Javascript at 0x1fa6f9b0>"
       ]
      },
      {
       "javascript": [
        "$('div#a179895a-533b-4791-a13c-4ed8d049a883').text('12 of 98');"
       ],
       "metadata": {},
       "output_type": "display_data",
       "text": [
        "<IPython.core.display.Javascript at 0x1f9ba438>"
       ]
      },
      {
       "javascript": [
        "$('div#f5e60c64-0612-4f99-8772-26667fabe4fd').text(' 12%');"
       ],
       "metadata": {},
       "output_type": "display_data",
       "text": [
        "<IPython.core.display.Javascript at 0x1f9ba438>"
       ]
      },
      {
       "javascript": [
        "\n",
        "        var $myPB = $(\"div#f7f836e4-cc3d-467c-aa0b-f81bbde8156f\")\n",
        "        if ($myPB.hasClass('ui-progressbar')) {\n",
        "            $myPB.progressbar('value', 12);\n",
        "        } else {\n",
        "            $myPB.progressbar({value: 0, max: 98});\n",
        "        }\n",
        "        "
       ],
       "metadata": {},
       "output_type": "display_data",
       "text": [
        "<IPython.core.display.Javascript at 0x1f9baf60>"
       ]
      },
      {
       "javascript": [
        "$('div#433d07f1-5fac-418b-a17b-e889b5d45e39').text('ETA:  0:00:04');"
       ],
       "metadata": {},
       "output_type": "display_data",
       "text": [
        "<IPython.core.display.Javascript at 0x1f9ba710>"
       ]
      },
      {
       "javascript": [
        "$('div#a179895a-533b-4791-a13c-4ed8d049a883').text('13 of 98');"
       ],
       "metadata": {},
       "output_type": "display_data",
       "text": [
        "<IPython.core.display.Javascript at 0x1f9ba400>"
       ]
      },
      {
       "javascript": [
        "$('div#f5e60c64-0612-4f99-8772-26667fabe4fd').text(' 13%');"
       ],
       "metadata": {},
       "output_type": "display_data",
       "text": [
        "<IPython.core.display.Javascript at 0x1f9ba588>"
       ]
      },
      {
       "javascript": [
        "\n",
        "        var $myPB = $(\"div#f7f836e4-cc3d-467c-aa0b-f81bbde8156f\")\n",
        "        if ($myPB.hasClass('ui-progressbar')) {\n",
        "            $myPB.progressbar('value', 13);\n",
        "        } else {\n",
        "            $myPB.progressbar({value: 0, max: 98});\n",
        "        }\n",
        "        "
       ],
       "metadata": {},
       "output_type": "display_data",
       "text": [
        "<IPython.core.display.Javascript at 0x1f9ba588>"
       ]
      },
      {
       "javascript": [
        "$('div#433d07f1-5fac-418b-a17b-e889b5d45e39').text('ETA:  0:00:03');"
       ],
       "metadata": {},
       "output_type": "display_data",
       "text": [
        "<IPython.core.display.Javascript at 0x1f9ba860>"
       ]
      },
      {
       "javascript": [
        "$('div#a179895a-533b-4791-a13c-4ed8d049a883').text('14 of 98');"
       ],
       "metadata": {},
       "output_type": "display_data",
       "text": [
        "<IPython.core.display.Javascript at 0x1f9ba978>"
       ]
      },
      {
       "javascript": [
        "$('div#f5e60c64-0612-4f99-8772-26667fabe4fd').text(' 14%');"
       ],
       "metadata": {},
       "output_type": "display_data",
       "text": [
        "<IPython.core.display.Javascript at 0x1f9baf28>"
       ]
      },
      {
       "javascript": [
        "\n",
        "        var $myPB = $(\"div#f7f836e4-cc3d-467c-aa0b-f81bbde8156f\")\n",
        "        if ($myPB.hasClass('ui-progressbar')) {\n",
        "            $myPB.progressbar('value', 14);\n",
        "        } else {\n",
        "            $myPB.progressbar({value: 0, max: 98});\n",
        "        }\n",
        "        "
       ],
       "metadata": {},
       "output_type": "display_data",
       "text": [
        "<IPython.core.display.Javascript at 0x1f9baf28>"
       ]
      },
      {
       "javascript": [
        "$('div#433d07f1-5fac-418b-a17b-e889b5d45e39').text('ETA:  0:00:03');"
       ],
       "metadata": {},
       "output_type": "display_data",
       "text": [
        "<IPython.core.display.Javascript at 0x1f9ba080>"
       ]
      },
      {
       "javascript": [
        "$('div#a179895a-533b-4791-a13c-4ed8d049a883').text('15 of 98');"
       ],
       "metadata": {},
       "output_type": "display_data",
       "text": [
        "<IPython.core.display.Javascript at 0x2338c5c0>"
       ]
      },
      {
       "javascript": [
        "$('div#f5e60c64-0612-4f99-8772-26667fabe4fd').text(' 15%');"
       ],
       "metadata": {},
       "output_type": "display_data",
       "text": [
        "<IPython.core.display.Javascript at 0x2338c9e8>"
       ]
      },
      {
       "javascript": [
        "\n",
        "        var $myPB = $(\"div#f7f836e4-cc3d-467c-aa0b-f81bbde8156f\")\n",
        "        if ($myPB.hasClass('ui-progressbar')) {\n",
        "            $myPB.progressbar('value', 15);\n",
        "        } else {\n",
        "            $myPB.progressbar({value: 0, max: 98});\n",
        "        }\n",
        "        "
       ],
       "metadata": {},
       "output_type": "display_data",
       "text": [
        "<IPython.core.display.Javascript at 0x2338c278>"
       ]
      },
      {
       "javascript": [
        "$('div#433d07f1-5fac-418b-a17b-e889b5d45e39').text('ETA:  0:00:03');"
       ],
       "metadata": {},
       "output_type": "display_data",
       "text": [
        "<IPython.core.display.Javascript at 0x2338c278>"
       ]
      },
      {
       "javascript": [
        "$('div#a179895a-533b-4791-a13c-4ed8d049a883').text('16 of 98');"
       ],
       "metadata": {},
       "output_type": "display_data",
       "text": [
        "<IPython.core.display.Javascript at 0x1f23c550>"
       ]
      },
      {
       "javascript": [
        "$('div#f5e60c64-0612-4f99-8772-26667fabe4fd').text(' 16%');"
       ],
       "metadata": {},
       "output_type": "display_data",
       "text": [
        "<IPython.core.display.Javascript at 0x1f23c438>"
       ]
      },
      {
       "javascript": [
        "\n",
        "        var $myPB = $(\"div#f7f836e4-cc3d-467c-aa0b-f81bbde8156f\")\n",
        "        if ($myPB.hasClass('ui-progressbar')) {\n",
        "            $myPB.progressbar('value', 16);\n",
        "        } else {\n",
        "            $myPB.progressbar({value: 0, max: 98});\n",
        "        }\n",
        "        "
       ],
       "metadata": {},
       "output_type": "display_data",
       "text": [
        "<IPython.core.display.Javascript at 0x1f23c438>"
       ]
      },
      {
       "javascript": [
        "$('div#433d07f1-5fac-418b-a17b-e889b5d45e39').text('ETA:  0:00:03');"
       ],
       "metadata": {},
       "output_type": "display_data",
       "text": [
        "<IPython.core.display.Javascript at 0x1f23c080>"
       ]
      },
      {
       "javascript": [
        "$('div#a179895a-533b-4791-a13c-4ed8d049a883').text('17 of 98');"
       ],
       "metadata": {},
       "output_type": "display_data",
       "text": [
        "<IPython.core.display.Javascript at 0x248d5d30>"
       ]
      },
      {
       "javascript": [
        "$('div#f5e60c64-0612-4f99-8772-26667fabe4fd').text(' 17%');"
       ],
       "metadata": {},
       "output_type": "display_data",
       "text": [
        "<IPython.core.display.Javascript at 0x248d5f28>"
       ]
      },
      {
       "javascript": [
        "\n",
        "        var $myPB = $(\"div#f7f836e4-cc3d-467c-aa0b-f81bbde8156f\")\n",
        "        if ($myPB.hasClass('ui-progressbar')) {\n",
        "            $myPB.progressbar('value', 17);\n",
        "        } else {\n",
        "            $myPB.progressbar({value: 0, max: 98});\n",
        "        }\n",
        "        "
       ],
       "metadata": {},
       "output_type": "display_data",
       "text": [
        "<IPython.core.display.Javascript at 0x248d5f28>"
       ]
      },
      {
       "javascript": [
        "$('div#433d07f1-5fac-418b-a17b-e889b5d45e39').text('ETA:  0:00:03');"
       ],
       "metadata": {},
       "output_type": "display_data",
       "text": [
        "<IPython.core.display.Javascript at 0x248d5278>"
       ]
      },
      {
       "javascript": [
        "$('div#a179895a-533b-4791-a13c-4ed8d049a883').text('18 of 98');"
       ],
       "metadata": {},
       "output_type": "display_data",
       "text": [
        "<IPython.core.display.Javascript at 0x248d57b8>"
       ]
      },
      {
       "javascript": [
        "$('div#f5e60c64-0612-4f99-8772-26667fabe4fd').text(' 18%');"
       ],
       "metadata": {},
       "output_type": "display_data",
       "text": [
        "<IPython.core.display.Javascript at 0x248d5208>"
       ]
      },
      {
       "javascript": [
        "\n",
        "        var $myPB = $(\"div#f7f836e4-cc3d-467c-aa0b-f81bbde8156f\")\n",
        "        if ($myPB.hasClass('ui-progressbar')) {\n",
        "            $myPB.progressbar('value', 18);\n",
        "        } else {\n",
        "            $myPB.progressbar({value: 0, max: 98});\n",
        "        }\n",
        "        "
       ],
       "metadata": {},
       "output_type": "display_data",
       "text": [
        "<IPython.core.display.Javascript at 0x248d5208>"
       ]
      },
      {
       "javascript": [
        "$('div#433d07f1-5fac-418b-a17b-e889b5d45e39').text('ETA:  0:00:03');"
       ],
       "metadata": {},
       "output_type": "display_data",
       "text": [
        "<IPython.core.display.Javascript at 0x248d57f0>"
       ]
      },
      {
       "javascript": [
        "$('div#a179895a-533b-4791-a13c-4ed8d049a883').text('19 of 98');"
       ],
       "metadata": {},
       "output_type": "display_data",
       "text": [
        "<IPython.core.display.Javascript at 0x248d56a0>"
       ]
      },
      {
       "javascript": [
        "$('div#f5e60c64-0612-4f99-8772-26667fabe4fd').text(' 19%');"
       ],
       "metadata": {},
       "output_type": "display_data",
       "text": [
        "<IPython.core.display.Javascript at 0x248d56a0>"
       ]
      },
      {
       "javascript": [
        "\n",
        "        var $myPB = $(\"div#f7f836e4-cc3d-467c-aa0b-f81bbde8156f\")\n",
        "        if ($myPB.hasClass('ui-progressbar')) {\n",
        "            $myPB.progressbar('value', 19);\n",
        "        } else {\n",
        "            $myPB.progressbar({value: 0, max: 98});\n",
        "        }\n",
        "        "
       ],
       "metadata": {},
       "output_type": "display_data",
       "text": [
        "<IPython.core.display.Javascript at 0x2118a3c8>"
       ]
      },
      {
       "javascript": [
        "$('div#433d07f1-5fac-418b-a17b-e889b5d45e39').text('ETA:  0:00:02');"
       ],
       "metadata": {},
       "output_type": "display_data",
       "text": [
        "<IPython.core.display.Javascript at 0x2118ae48>"
       ]
      },
      {
       "javascript": [
        "$('div#a179895a-533b-4791-a13c-4ed8d049a883').text('20 of 98');"
       ],
       "metadata": {},
       "output_type": "display_data",
       "text": [
        "<IPython.core.display.Javascript at 0x2118a080>"
       ]
      },
      {
       "javascript": [
        "$('div#f5e60c64-0612-4f99-8772-26667fabe4fd').text(' 20%');"
       ],
       "metadata": {},
       "output_type": "display_data",
       "text": [
        "<IPython.core.display.Javascript at 0x2118a8d0>"
       ]
      },
      {
       "javascript": [
        "\n",
        "        var $myPB = $(\"div#f7f836e4-cc3d-467c-aa0b-f81bbde8156f\")\n",
        "        if ($myPB.hasClass('ui-progressbar')) {\n",
        "            $myPB.progressbar('value', 20);\n",
        "        } else {\n",
        "            $myPB.progressbar({value: 0, max: 98});\n",
        "        }\n",
        "        "
       ],
       "metadata": {},
       "output_type": "display_data",
       "text": [
        "<IPython.core.display.Javascript at 0x2118a0f0>"
       ]
      },
      {
       "javascript": [
        "$('div#433d07f1-5fac-418b-a17b-e889b5d45e39').text('ETA:  0:00:02');"
       ],
       "metadata": {},
       "output_type": "display_data",
       "text": [
        "<IPython.core.display.Javascript at 0x2118a320>"
       ]
      },
      {
       "javascript": [
        "$('div#a179895a-533b-4791-a13c-4ed8d049a883').text('21 of 98');"
       ],
       "metadata": {},
       "output_type": "display_data",
       "text": [
        "<IPython.core.display.Javascript at 0x22ac0828>"
       ]
      },
      {
       "javascript": [
        "$('div#f5e60c64-0612-4f99-8772-26667fabe4fd').text(' 21%');"
       ],
       "metadata": {},
       "output_type": "display_data",
       "text": [
        "<IPython.core.display.Javascript at 0x22ac0b00>"
       ]
      },
      {
       "javascript": [
        "\n",
        "        var $myPB = $(\"div#f7f836e4-cc3d-467c-aa0b-f81bbde8156f\")\n",
        "        if ($myPB.hasClass('ui-progressbar')) {\n",
        "            $myPB.progressbar('value', 21);\n",
        "        } else {\n",
        "            $myPB.progressbar({value: 0, max: 98});\n",
        "        }\n",
        "        "
       ],
       "metadata": {},
       "output_type": "display_data",
       "text": [
        "<IPython.core.display.Javascript at 0x22ac0b00>"
       ]
      },
      {
       "javascript": [
        "$('div#433d07f1-5fac-418b-a17b-e889b5d45e39').text('ETA:  0:00:02');"
       ],
       "metadata": {},
       "output_type": "display_data",
       "text": [
        "<IPython.core.display.Javascript at 0x22ac0908>"
       ]
      },
      {
       "javascript": [
        "$('div#a179895a-533b-4791-a13c-4ed8d049a883').text('22 of 98');"
       ],
       "metadata": {},
       "output_type": "display_data",
       "text": [
        "<IPython.core.display.Javascript at 0x22ac0a20>"
       ]
      },
      {
       "javascript": [
        "$('div#f5e60c64-0612-4f99-8772-26667fabe4fd').text(' 22%');"
       ],
       "metadata": {},
       "output_type": "display_data",
       "text": [
        "<IPython.core.display.Javascript at 0x22ac0b38>"
       ]
      },
      {
       "javascript": [
        "\n",
        "        var $myPB = $(\"div#f7f836e4-cc3d-467c-aa0b-f81bbde8156f\")\n",
        "        if ($myPB.hasClass('ui-progressbar')) {\n",
        "            $myPB.progressbar('value', 22);\n",
        "        } else {\n",
        "            $myPB.progressbar({value: 0, max: 98});\n",
        "        }\n",
        "        "
       ],
       "metadata": {},
       "output_type": "display_data",
       "text": [
        "<IPython.core.display.Javascript at 0x22ac08d0>"
       ]
      },
      {
       "javascript": [
        "$('div#433d07f1-5fac-418b-a17b-e889b5d45e39').text('ETA:  0:00:02');"
       ],
       "metadata": {},
       "output_type": "display_data",
       "text": [
        "<IPython.core.display.Javascript at 0x22ac08d0>"
       ]
      },
      {
       "javascript": [
        "$('div#a179895a-533b-4791-a13c-4ed8d049a883').text('23 of 98');"
       ],
       "metadata": {},
       "output_type": "display_data",
       "text": [
        "<IPython.core.display.Javascript at 0x22675ba8>"
       ]
      },
      {
       "javascript": [
        "$('div#f5e60c64-0612-4f99-8772-26667fabe4fd').text(' 23%');"
       ],
       "metadata": {},
       "output_type": "display_data",
       "text": [
        "<IPython.core.display.Javascript at 0x22675cc0>"
       ]
      },
      {
       "javascript": [
        "\n",
        "        var $myPB = $(\"div#f7f836e4-cc3d-467c-aa0b-f81bbde8156f\")\n",
        "        if ($myPB.hasClass('ui-progressbar')) {\n",
        "            $myPB.progressbar('value', 23);\n",
        "        } else {\n",
        "            $myPB.progressbar({value: 0, max: 98});\n",
        "        }\n",
        "        "
       ],
       "metadata": {},
       "output_type": "display_data",
       "text": [
        "<IPython.core.display.Javascript at 0x22675cc0>"
       ]
      },
      {
       "javascript": [
        "$('div#433d07f1-5fac-418b-a17b-e889b5d45e39').text('ETA:  0:00:02');"
       ],
       "metadata": {},
       "output_type": "display_data",
       "text": [
        "<IPython.core.display.Javascript at 0x22675fd0>"
       ]
      },
      {
       "javascript": [
        "$('div#a179895a-533b-4791-a13c-4ed8d049a883').text('24 of 98');"
       ],
       "metadata": {},
       "output_type": "display_data",
       "text": [
        "<IPython.core.display.Javascript at 0x1ff05748>"
       ]
      },
      {
       "javascript": [
        "$('div#f5e60c64-0612-4f99-8772-26667fabe4fd').text(' 24%');"
       ],
       "metadata": {},
       "output_type": "display_data",
       "text": [
        "<IPython.core.display.Javascript at 0x1ff05828>"
       ]
      },
      {
       "javascript": [
        "\n",
        "        var $myPB = $(\"div#f7f836e4-cc3d-467c-aa0b-f81bbde8156f\")\n",
        "        if ($myPB.hasClass('ui-progressbar')) {\n",
        "            $myPB.progressbar('value', 24);\n",
        "        } else {\n",
        "            $myPB.progressbar({value: 0, max: 98});\n",
        "        }\n",
        "        "
       ],
       "metadata": {},
       "output_type": "display_data",
       "text": [
        "<IPython.core.display.Javascript at 0x1ff05898>"
       ]
      },
      {
       "javascript": [
        "$('div#433d07f1-5fac-418b-a17b-e889b5d45e39').text('ETA:  0:00:02');"
       ],
       "metadata": {},
       "output_type": "display_data",
       "text": [
        "<IPython.core.display.Javascript at 0x1ff053c8>"
       ]
      },
      {
       "javascript": [
        "$('div#a179895a-533b-4791-a13c-4ed8d049a883').text('25 of 98');"
       ],
       "metadata": {},
       "output_type": "display_data",
       "text": [
        "<IPython.core.display.Javascript at 0x20edf470>"
       ]
      },
      {
       "javascript": [
        "$('div#f5e60c64-0612-4f99-8772-26667fabe4fd').text(' 25%');"
       ],
       "metadata": {},
       "output_type": "display_data",
       "text": [
        "<IPython.core.display.Javascript at 0x20edf400>"
       ]
      },
      {
       "javascript": [
        "\n",
        "        var $myPB = $(\"div#f7f836e4-cc3d-467c-aa0b-f81bbde8156f\")\n",
        "        if ($myPB.hasClass('ui-progressbar')) {\n",
        "            $myPB.progressbar('value', 25);\n",
        "        } else {\n",
        "            $myPB.progressbar({value: 0, max: 98});\n",
        "        }\n",
        "        "
       ],
       "metadata": {},
       "output_type": "display_data",
       "text": [
        "<IPython.core.display.Javascript at 0x20edf588>"
       ]
      },
      {
       "javascript": [
        "$('div#433d07f1-5fac-418b-a17b-e889b5d45e39').text('ETA:  0:00:03');"
       ],
       "metadata": {},
       "output_type": "display_data",
       "text": [
        "<IPython.core.display.Javascript at 0x20edfdd8>"
       ]
      },
      {
       "javascript": [
        "$('div#a179895a-533b-4791-a13c-4ed8d049a883').text('26 of 98');"
       ],
       "metadata": {},
       "output_type": "display_data",
       "text": [
        "<IPython.core.display.Javascript at 0x20edfd68>"
       ]
      },
      {
       "javascript": [
        "$('div#f5e60c64-0612-4f99-8772-26667fabe4fd').text(' 26%');"
       ],
       "metadata": {},
       "output_type": "display_data",
       "text": [
        "<IPython.core.display.Javascript at 0x20edfbe0>"
       ]
      },
      {
       "javascript": [
        "\n",
        "        var $myPB = $(\"div#f7f836e4-cc3d-467c-aa0b-f81bbde8156f\")\n",
        "        if ($myPB.hasClass('ui-progressbar')) {\n",
        "            $myPB.progressbar('value', 26);\n",
        "        } else {\n",
        "            $myPB.progressbar({value: 0, max: 98});\n",
        "        }\n",
        "        "
       ],
       "metadata": {},
       "output_type": "display_data",
       "text": [
        "<IPython.core.display.Javascript at 0x20edf630>"
       ]
      },
      {
       "javascript": [
        "$('div#433d07f1-5fac-418b-a17b-e889b5d45e39').text('ETA:  0:00:03');"
       ],
       "metadata": {},
       "output_type": "display_data",
       "text": [
        "<IPython.core.display.Javascript at 0x20edf438>"
       ]
      },
      {
       "javascript": [
        "$('div#a179895a-533b-4791-a13c-4ed8d049a883').text('27 of 98');"
       ],
       "metadata": {},
       "output_type": "display_data",
       "text": [
        "<IPython.core.display.Javascript at 0x20edfc88>"
       ]
      },
      {
       "javascript": [
        "$('div#f5e60c64-0612-4f99-8772-26667fabe4fd').text(' 27%');"
       ],
       "metadata": {},
       "output_type": "display_data",
       "text": [
        "<IPython.core.display.Javascript at 0x20edf080>"
       ]
      },
      {
       "javascript": [
        "\n",
        "        var $myPB = $(\"div#f7f836e4-cc3d-467c-aa0b-f81bbde8156f\")\n",
        "        if ($myPB.hasClass('ui-progressbar')) {\n",
        "            $myPB.progressbar('value', 27);\n",
        "        } else {\n",
        "            $myPB.progressbar({value: 0, max: 98});\n",
        "        }\n",
        "        "
       ],
       "metadata": {},
       "output_type": "display_data",
       "text": [
        "<IPython.core.display.Javascript at 0x20edf828>"
       ]
      },
      {
       "javascript": [
        "$('div#433d07f1-5fac-418b-a17b-e889b5d45e39').text('ETA:  0:00:03');"
       ],
       "metadata": {},
       "output_type": "display_data",
       "text": [
        "<IPython.core.display.Javascript at 0x20edf828>"
       ]
      },
      {
       "javascript": [
        "$('div#a179895a-533b-4791-a13c-4ed8d049a883').text('28 of 98');"
       ],
       "metadata": {},
       "output_type": "display_data",
       "text": [
        "<IPython.core.display.Javascript at 0x1bf85e80>"
       ]
      },
      {
       "javascript": [
        "$('div#f5e60c64-0612-4f99-8772-26667fabe4fd').text(' 28%');"
       ],
       "metadata": {},
       "output_type": "display_data",
       "text": [
        "<IPython.core.display.Javascript at 0x1bf85dd8>"
       ]
      },
      {
       "javascript": [
        "\n",
        "        var $myPB = $(\"div#f7f836e4-cc3d-467c-aa0b-f81bbde8156f\")\n",
        "        if ($myPB.hasClass('ui-progressbar')) {\n",
        "            $myPB.progressbar('value', 28);\n",
        "        } else {\n",
        "            $myPB.progressbar({value: 0, max: 98});\n",
        "        }\n",
        "        "
       ],
       "metadata": {},
       "output_type": "display_data",
       "text": [
        "<IPython.core.display.Javascript at 0x1bf85438>"
       ]
      },
      {
       "javascript": [
        "$('div#433d07f1-5fac-418b-a17b-e889b5d45e39').text('ETA:  0:00:03');"
       ],
       "metadata": {},
       "output_type": "display_data",
       "text": [
        "<IPython.core.display.Javascript at 0x1bf85860>"
       ]
      },
      {
       "javascript": [
        "$('div#a179895a-533b-4791-a13c-4ed8d049a883').text('29 of 98');"
       ],
       "metadata": {},
       "output_type": "display_data",
       "text": [
        "<IPython.core.display.Javascript at 0x21a0a780>"
       ]
      },
      {
       "javascript": [
        "$('div#f5e60c64-0612-4f99-8772-26667fabe4fd').text(' 29%');"
       ],
       "metadata": {},
       "output_type": "display_data",
       "text": [
        "<IPython.core.display.Javascript at 0x21a0a6d8>"
       ]
      },
      {
       "javascript": [
        "\n",
        "        var $myPB = $(\"div#f7f836e4-cc3d-467c-aa0b-f81bbde8156f\")\n",
        "        if ($myPB.hasClass('ui-progressbar')) {\n",
        "            $myPB.progressbar('value', 29);\n",
        "        } else {\n",
        "            $myPB.progressbar({value: 0, max: 98});\n",
        "        }\n",
        "        "
       ],
       "metadata": {},
       "output_type": "display_data",
       "text": [
        "<IPython.core.display.Javascript at 0x21a0a518>"
       ]
      },
      {
       "javascript": [
        "$('div#433d07f1-5fac-418b-a17b-e889b5d45e39').text('ETA:  0:00:03');"
       ],
       "metadata": {},
       "output_type": "display_data",
       "text": [
        "<IPython.core.display.Javascript at 0x21a0a518>"
       ]
      },
      {
       "javascript": [
        "$('div#a179895a-533b-4791-a13c-4ed8d049a883').text('30 of 98');"
       ],
       "metadata": {},
       "output_type": "display_data",
       "text": [
        "<IPython.core.display.Javascript at 0x229a7898>"
       ]
      },
      {
       "javascript": [
        "$('div#f5e60c64-0612-4f99-8772-26667fabe4fd').text(' 30%');"
       ],
       "metadata": {},
       "output_type": "display_data",
       "text": [
        "<IPython.core.display.Javascript at 0x229a7358>"
       ]
      },
      {
       "javascript": [
        "\n",
        "        var $myPB = $(\"div#f7f836e4-cc3d-467c-aa0b-f81bbde8156f\")\n",
        "        if ($myPB.hasClass('ui-progressbar')) {\n",
        "            $myPB.progressbar('value', 30);\n",
        "        } else {\n",
        "            $myPB.progressbar({value: 0, max: 98});\n",
        "        }\n",
        "        "
       ],
       "metadata": {},
       "output_type": "display_data",
       "text": [
        "<IPython.core.display.Javascript at 0x229a7358>"
       ]
      },
      {
       "javascript": [
        "$('div#433d07f1-5fac-418b-a17b-e889b5d45e39').text('ETA:  0:00:02');"
       ],
       "metadata": {},
       "output_type": "display_data",
       "text": [
        "<IPython.core.display.Javascript at 0x229a7240>"
       ]
      },
      {
       "javascript": [
        "$('div#a179895a-533b-4791-a13c-4ed8d049a883').text('31 of 98');"
       ],
       "metadata": {},
       "output_type": "display_data",
       "text": [
        "<IPython.core.display.Javascript at 0x17505588>"
       ]
      },
      {
       "javascript": [
        "$('div#f5e60c64-0612-4f99-8772-26667fabe4fd').text(' 31%');"
       ],
       "metadata": {},
       "output_type": "display_data",
       "text": [
        "<IPython.core.display.Javascript at 0x17505fd0>"
       ]
      },
      {
       "javascript": [
        "\n",
        "        var $myPB = $(\"div#f7f836e4-cc3d-467c-aa0b-f81bbde8156f\")\n",
        "        if ($myPB.hasClass('ui-progressbar')) {\n",
        "            $myPB.progressbar('value', 31);\n",
        "        } else {\n",
        "            $myPB.progressbar({value: 0, max: 98});\n",
        "        }\n",
        "        "
       ],
       "metadata": {},
       "output_type": "display_data",
       "text": [
        "<IPython.core.display.Javascript at 0x17505048>"
       ]
      },
      {
       "javascript": [
        "$('div#433d07f1-5fac-418b-a17b-e889b5d45e39').text('ETA:  0:00:02');"
       ],
       "metadata": {},
       "output_type": "display_data",
       "text": [
        "<IPython.core.display.Javascript at 0x17505208>"
       ]
      },
      {
       "javascript": [
        "$('div#a179895a-533b-4791-a13c-4ed8d049a883').text('32 of 98');"
       ],
       "metadata": {},
       "output_type": "display_data",
       "text": [
        "<IPython.core.display.Javascript at 0x23539cc0>"
       ]
      },
      {
       "javascript": [
        "$('div#f5e60c64-0612-4f99-8772-26667fabe4fd').text(' 32%');"
       ],
       "metadata": {},
       "output_type": "display_data",
       "text": [
        "<IPython.core.display.Javascript at 0x23539cf8>"
       ]
      },
      {
       "javascript": [
        "\n",
        "        var $myPB = $(\"div#f7f836e4-cc3d-467c-aa0b-f81bbde8156f\")\n",
        "        if ($myPB.hasClass('ui-progressbar')) {\n",
        "            $myPB.progressbar('value', 32);\n",
        "        } else {\n",
        "            $myPB.progressbar({value: 0, max: 98});\n",
        "        }\n",
        "        "
       ],
       "metadata": {},
       "output_type": "display_data",
       "text": [
        "<IPython.core.display.Javascript at 0x23539cf8>"
       ]
      },
      {
       "javascript": [
        "$('div#433d07f1-5fac-418b-a17b-e889b5d45e39').text('ETA:  0:00:02');"
       ],
       "metadata": {},
       "output_type": "display_data",
       "text": [
        "<IPython.core.display.Javascript at 0x23539c50>"
       ]
      },
      {
       "javascript": [
        "$('div#a179895a-533b-4791-a13c-4ed8d049a883').text('33 of 98');"
       ],
       "metadata": {},
       "output_type": "display_data",
       "text": [
        "<IPython.core.display.Javascript at 0x23539240>"
       ]
      },
      {
       "javascript": [
        "$('div#f5e60c64-0612-4f99-8772-26667fabe4fd').text(' 33%');"
       ],
       "metadata": {},
       "output_type": "display_data",
       "text": [
        "<IPython.core.display.Javascript at 0x23539208>"
       ]
      },
      {
       "javascript": [
        "\n",
        "        var $myPB = $(\"div#f7f836e4-cc3d-467c-aa0b-f81bbde8156f\")\n",
        "        if ($myPB.hasClass('ui-progressbar')) {\n",
        "            $myPB.progressbar('value', 33);\n",
        "        } else {\n",
        "            $myPB.progressbar({value: 0, max: 98});\n",
        "        }\n",
        "        "
       ],
       "metadata": {},
       "output_type": "display_data",
       "text": [
        "<IPython.core.display.Javascript at 0x23539048>"
       ]
      },
      {
       "javascript": [
        "$('div#433d07f1-5fac-418b-a17b-e889b5d45e39').text('ETA:  0:00:02');"
       ],
       "metadata": {},
       "output_type": "display_data",
       "text": [
        "<IPython.core.display.Javascript at 0x23539048>"
       ]
      },
      {
       "javascript": [
        "$('div#a179895a-533b-4791-a13c-4ed8d049a883').text('34 of 98');"
       ],
       "metadata": {},
       "output_type": "display_data",
       "text": [
        "<IPython.core.display.Javascript at 0x23539080>"
       ]
      },
      {
       "javascript": [
        "$('div#f5e60c64-0612-4f99-8772-26667fabe4fd').text(' 34%');"
       ],
       "metadata": {},
       "output_type": "display_data",
       "text": [
        "<IPython.core.display.Javascript at 0x23539160>"
       ]
      },
      {
       "javascript": [
        "\n",
        "        var $myPB = $(\"div#f7f836e4-cc3d-467c-aa0b-f81bbde8156f\")\n",
        "        if ($myPB.hasClass('ui-progressbar')) {\n",
        "            $myPB.progressbar('value', 34);\n",
        "        } else {\n",
        "            $myPB.progressbar({value: 0, max: 98});\n",
        "        }\n",
        "        "
       ],
       "metadata": {},
       "output_type": "display_data",
       "text": [
        "<IPython.core.display.Javascript at 0x23539160>"
       ]
      },
      {
       "javascript": [
        "$('div#433d07f1-5fac-418b-a17b-e889b5d45e39').text('ETA:  0:00:02');"
       ],
       "metadata": {},
       "output_type": "display_data",
       "text": [
        "<IPython.core.display.Javascript at 0x23539ef0>"
       ]
      },
      {
       "javascript": [
        "$('div#a179895a-533b-4791-a13c-4ed8d049a883').text('35 of 98');"
       ],
       "metadata": {},
       "output_type": "display_data",
       "text": [
        "<IPython.core.display.Javascript at 0x23539320>"
       ]
      },
      {
       "javascript": [
        "$('div#f5e60c64-0612-4f99-8772-26667fabe4fd').text(' 35%');"
       ],
       "metadata": {},
       "output_type": "display_data",
       "text": [
        "<IPython.core.display.Javascript at 0x23539e48>"
       ]
      },
      {
       "javascript": [
        "\n",
        "        var $myPB = $(\"div#f7f836e4-cc3d-467c-aa0b-f81bbde8156f\")\n",
        "        if ($myPB.hasClass('ui-progressbar')) {\n",
        "            $myPB.progressbar('value', 35);\n",
        "        } else {\n",
        "            $myPB.progressbar({value: 0, max: 98});\n",
        "        }\n",
        "        "
       ],
       "metadata": {},
       "output_type": "display_data",
       "text": [
        "<IPython.core.display.Javascript at 0x235399b0>"
       ]
      },
      {
       "javascript": [
        "$('div#433d07f1-5fac-418b-a17b-e889b5d45e39').text('ETA:  0:00:02');"
       ],
       "metadata": {},
       "output_type": "display_data",
       "text": [
        "<IPython.core.display.Javascript at 0x23539358>"
       ]
      },
      {
       "javascript": [
        "$('div#a179895a-533b-4791-a13c-4ed8d049a883').text('36 of 98');"
       ],
       "metadata": {},
       "output_type": "display_data",
       "text": [
        "<IPython.core.display.Javascript at 0x206c0e48>"
       ]
      },
      {
       "javascript": [
        "$('div#f5e60c64-0612-4f99-8772-26667fabe4fd').text(' 36%');"
       ],
       "metadata": {},
       "output_type": "display_data",
       "text": [
        "<IPython.core.display.Javascript at 0x206c0470>"
       ]
      },
      {
       "javascript": [
        "\n",
        "        var $myPB = $(\"div#f7f836e4-cc3d-467c-aa0b-f81bbde8156f\")\n",
        "        if ($myPB.hasClass('ui-progressbar')) {\n",
        "            $myPB.progressbar('value', 36);\n",
        "        } else {\n",
        "            $myPB.progressbar({value: 0, max: 98});\n",
        "        }\n",
        "        "
       ],
       "metadata": {},
       "output_type": "display_data",
       "text": [
        "<IPython.core.display.Javascript at 0x206c0b38>"
       ]
      },
      {
       "javascript": [
        "$('div#433d07f1-5fac-418b-a17b-e889b5d45e39').text('ETA:  0:00:02');"
       ],
       "metadata": {},
       "output_type": "display_data",
       "text": [
        "<IPython.core.display.Javascript at 0x206c02b0>"
       ]
      },
      {
       "javascript": [
        "$('div#a179895a-533b-4791-a13c-4ed8d049a883').text('37 of 98');"
       ],
       "metadata": {},
       "output_type": "display_data",
       "text": [
        "<IPython.core.display.Javascript at 0x206c0b00>"
       ]
      },
      {
       "javascript": [
        "$('div#f5e60c64-0612-4f99-8772-26667fabe4fd').text(' 37%');"
       ],
       "metadata": {},
       "output_type": "display_data",
       "text": [
        "<IPython.core.display.Javascript at 0x206c0208>"
       ]
      },
      {
       "javascript": [
        "\n",
        "        var $myPB = $(\"div#f7f836e4-cc3d-467c-aa0b-f81bbde8156f\")\n",
        "        if ($myPB.hasClass('ui-progressbar')) {\n",
        "            $myPB.progressbar('value', 37);\n",
        "        } else {\n",
        "            $myPB.progressbar({value: 0, max: 98});\n",
        "        }\n",
        "        "
       ],
       "metadata": {},
       "output_type": "display_data",
       "text": [
        "<IPython.core.display.Javascript at 0x206c0278>"
       ]
      },
      {
       "javascript": [
        "$('div#433d07f1-5fac-418b-a17b-e889b5d45e39').text('ETA:  0:00:02');"
       ],
       "metadata": {},
       "output_type": "display_data",
       "text": [
        "<IPython.core.display.Javascript at 0x206c0278>"
       ]
      },
      {
       "javascript": [
        "$('div#a179895a-533b-4791-a13c-4ed8d049a883').text('38 of 98');"
       ],
       "metadata": {},
       "output_type": "display_data",
       "text": [
        "<IPython.core.display.Javascript at 0x206c0278>"
       ]
      },
      {
       "javascript": [
        "$('div#f5e60c64-0612-4f99-8772-26667fabe4fd').text(' 38%');"
       ],
       "metadata": {},
       "output_type": "display_data",
       "text": [
        "<IPython.core.display.Javascript at 0x23ea0320>"
       ]
      },
      {
       "javascript": [
        "\n",
        "        var $myPB = $(\"div#f7f836e4-cc3d-467c-aa0b-f81bbde8156f\")\n",
        "        if ($myPB.hasClass('ui-progressbar')) {\n",
        "            $myPB.progressbar('value', 38);\n",
        "        } else {\n",
        "            $myPB.progressbar({value: 0, max: 98});\n",
        "        }\n",
        "        "
       ],
       "metadata": {},
       "output_type": "display_data",
       "text": [
        "<IPython.core.display.Javascript at 0x23ea0518>"
       ]
      },
      {
       "javascript": [
        "$('div#433d07f1-5fac-418b-a17b-e889b5d45e39').text('ETA:  0:00:02');"
       ],
       "metadata": {},
       "output_type": "display_data",
       "text": [
        "<IPython.core.display.Javascript at 0x23ea0da0>"
       ]
      },
      {
       "javascript": [
        "$('div#a179895a-533b-4791-a13c-4ed8d049a883').text('39 of 98');"
       ],
       "metadata": {},
       "output_type": "display_data",
       "text": [
        "<IPython.core.display.Javascript at 0x23ea0208>"
       ]
      },
      {
       "javascript": [
        "$('div#f5e60c64-0612-4f99-8772-26667fabe4fd').text(' 39%');"
       ],
       "metadata": {},
       "output_type": "display_data",
       "text": [
        "<IPython.core.display.Javascript at 0x23ea0048>"
       ]
      },
      {
       "javascript": [
        "\n",
        "        var $myPB = $(\"div#f7f836e4-cc3d-467c-aa0b-f81bbde8156f\")\n",
        "        if ($myPB.hasClass('ui-progressbar')) {\n",
        "            $myPB.progressbar('value', 39);\n",
        "        } else {\n",
        "            $myPB.progressbar({value: 0, max: 98});\n",
        "        }\n",
        "        "
       ],
       "metadata": {},
       "output_type": "display_data",
       "text": [
        "<IPython.core.display.Javascript at 0x23ea0b70>"
       ]
      },
      {
       "javascript": [
        "$('div#433d07f1-5fac-418b-a17b-e889b5d45e39').text('ETA:  0:00:02');"
       ],
       "metadata": {},
       "output_type": "display_data",
       "text": [
        "<IPython.core.display.Javascript at 0x23ea0d68>"
       ]
      },
      {
       "javascript": [
        "$('div#a179895a-533b-4791-a13c-4ed8d049a883').text('40 of 98');"
       ],
       "metadata": {},
       "output_type": "display_data",
       "text": [
        "<IPython.core.display.Javascript at 0x2191c208>"
       ]
      },
      {
       "javascript": [
        "$('div#f5e60c64-0612-4f99-8772-26667fabe4fd').text(' 40%');"
       ],
       "metadata": {},
       "output_type": "display_data",
       "text": [
        "<IPython.core.display.Javascript at 0x2191c7f0>"
       ]
      },
      {
       "javascript": [
        "\n",
        "        var $myPB = $(\"div#f7f836e4-cc3d-467c-aa0b-f81bbde8156f\")\n",
        "        if ($myPB.hasClass('ui-progressbar')) {\n",
        "            $myPB.progressbar('value', 40);\n",
        "        } else {\n",
        "            $myPB.progressbar({value: 0, max: 98});\n",
        "        }\n",
        "        "
       ],
       "metadata": {},
       "output_type": "display_data",
       "text": [
        "<IPython.core.display.Javascript at 0x2191c780>"
       ]
      },
      {
       "javascript": [
        "$('div#433d07f1-5fac-418b-a17b-e889b5d45e39').text('ETA:  0:00:02');"
       ],
       "metadata": {},
       "output_type": "display_data",
       "text": [
        "<IPython.core.display.Javascript at 0x2191c978>"
       ]
      },
      {
       "javascript": [
        "$('div#a179895a-533b-4791-a13c-4ed8d049a883').text('41 of 98');"
       ],
       "metadata": {},
       "output_type": "display_data",
       "text": [
        "<IPython.core.display.Javascript at 0x2191c320>"
       ]
      },
      {
       "javascript": [
        "$('div#f5e60c64-0612-4f99-8772-26667fabe4fd').text(' 41%');"
       ],
       "metadata": {},
       "output_type": "display_data",
       "text": [
        "<IPython.core.display.Javascript at 0x2191cb38>"
       ]
      },
      {
       "javascript": [
        "\n",
        "        var $myPB = $(\"div#f7f836e4-cc3d-467c-aa0b-f81bbde8156f\")\n",
        "        if ($myPB.hasClass('ui-progressbar')) {\n",
        "            $myPB.progressbar('value', 41);\n",
        "        } else {\n",
        "            $myPB.progressbar({value: 0, max: 98});\n",
        "        }\n",
        "        "
       ],
       "metadata": {},
       "output_type": "display_data",
       "text": [
        "<IPython.core.display.Javascript at 0x2191ceb8>"
       ]
      },
      {
       "javascript": [
        "$('div#433d07f1-5fac-418b-a17b-e889b5d45e39').text('ETA:  0:00:02');"
       ],
       "metadata": {},
       "output_type": "display_data",
       "text": [
        "<IPython.core.display.Javascript at 0x2191c438>"
       ]
      },
      {
       "javascript": [
        "$('div#a179895a-533b-4791-a13c-4ed8d049a883').text('42 of 98');"
       ],
       "metadata": {},
       "output_type": "display_data",
       "text": [
        "<IPython.core.display.Javascript at 0x2191cc18>"
       ]
      },
      {
       "javascript": [
        "$('div#f5e60c64-0612-4f99-8772-26667fabe4fd').text(' 42%');"
       ],
       "metadata": {},
       "output_type": "display_data",
       "text": [
        "<IPython.core.display.Javascript at 0x2191c2b0>"
       ]
      },
      {
       "javascript": [
        "\n",
        "        var $myPB = $(\"div#f7f836e4-cc3d-467c-aa0b-f81bbde8156f\")\n",
        "        if ($myPB.hasClass('ui-progressbar')) {\n",
        "            $myPB.progressbar('value', 42);\n",
        "        } else {\n",
        "            $myPB.progressbar({value: 0, max: 98});\n",
        "        }\n",
        "        "
       ],
       "metadata": {},
       "output_type": "display_data",
       "text": [
        "<IPython.core.display.Javascript at 0x2191cb38>"
       ]
      },
      {
       "javascript": [
        "$('div#433d07f1-5fac-418b-a17b-e889b5d45e39').text('ETA:  0:00:02');"
       ],
       "metadata": {},
       "output_type": "display_data",
       "text": [
        "<IPython.core.display.Javascript at 0x2191cb38>"
       ]
      },
      {
       "javascript": [
        "$('div#a179895a-533b-4791-a13c-4ed8d049a883').text('43 of 98');"
       ],
       "metadata": {},
       "output_type": "display_data",
       "text": [
        "<IPython.core.display.Javascript at 0x2191c588>"
       ]
      },
      {
       "javascript": [
        "$('div#f5e60c64-0612-4f99-8772-26667fabe4fd').text(' 43%');"
       ],
       "metadata": {},
       "output_type": "display_data",
       "text": [
        "<IPython.core.display.Javascript at 0x2191c2e8>"
       ]
      },
      {
       "javascript": [
        "\n",
        "        var $myPB = $(\"div#f7f836e4-cc3d-467c-aa0b-f81bbde8156f\")\n",
        "        if ($myPB.hasClass('ui-progressbar')) {\n",
        "            $myPB.progressbar('value', 43);\n",
        "        } else {\n",
        "            $myPB.progressbar({value: 0, max: 98});\n",
        "        }\n",
        "        "
       ],
       "metadata": {},
       "output_type": "display_data",
       "text": [
        "<IPython.core.display.Javascript at 0x2191c940>"
       ]
      },
      {
       "javascript": [
        "$('div#433d07f1-5fac-418b-a17b-e889b5d45e39').text('ETA:  0:00:02');"
       ],
       "metadata": {},
       "output_type": "display_data",
       "text": [
        "<IPython.core.display.Javascript at 0x2191c940>"
       ]
      },
      {
       "javascript": [
        "$('div#a179895a-533b-4791-a13c-4ed8d049a883').text('44 of 98');"
       ],
       "metadata": {},
       "output_type": "display_data",
       "text": [
        "<IPython.core.display.Javascript at 0x230f9908>"
       ]
      },
      {
       "javascript": [
        "$('div#f5e60c64-0612-4f99-8772-26667fabe4fd').text(' 44%');"
       ],
       "metadata": {},
       "output_type": "display_data",
       "text": [
        "<IPython.core.display.Javascript at 0x230f9978>"
       ]
      },
      {
       "javascript": [
        "\n",
        "        var $myPB = $(\"div#f7f836e4-cc3d-467c-aa0b-f81bbde8156f\")\n",
        "        if ($myPB.hasClass('ui-progressbar')) {\n",
        "            $myPB.progressbar('value', 44);\n",
        "        } else {\n",
        "            $myPB.progressbar({value: 0, max: 98});\n",
        "        }\n",
        "        "
       ],
       "metadata": {},
       "output_type": "display_data",
       "text": [
        "<IPython.core.display.Javascript at 0x230f9470>"
       ]
      },
      {
       "javascript": [
        "$('div#433d07f1-5fac-418b-a17b-e889b5d45e39').text('ETA:  0:00:01');"
       ],
       "metadata": {},
       "output_type": "display_data",
       "text": [
        "<IPython.core.display.Javascript at 0x2191c940>"
       ]
      },
      {
       "javascript": [
        "$('div#a179895a-533b-4791-a13c-4ed8d049a883').text('45 of 98');"
       ],
       "metadata": {},
       "output_type": "display_data",
       "text": [
        "<IPython.core.display.Javascript at 0x230f9668>"
       ]
      },
      {
       "javascript": [
        "$('div#f5e60c64-0612-4f99-8772-26667fabe4fd').text(' 45%');"
       ],
       "metadata": {},
       "output_type": "display_data",
       "text": [
        "<IPython.core.display.Javascript at 0x2191c940>"
       ]
      },
      {
       "javascript": [
        "\n",
        "        var $myPB = $(\"div#f7f836e4-cc3d-467c-aa0b-f81bbde8156f\")\n",
        "        if ($myPB.hasClass('ui-progressbar')) {\n",
        "            $myPB.progressbar('value', 45);\n",
        "        } else {\n",
        "            $myPB.progressbar({value: 0, max: 98});\n",
        "        }\n",
        "        "
       ],
       "metadata": {},
       "output_type": "display_data",
       "text": [
        "<IPython.core.display.Javascript at 0x230f9668>"
       ]
      },
      {
       "javascript": [
        "$('div#433d07f1-5fac-418b-a17b-e889b5d45e39').text('ETA:  0:00:01');"
       ],
       "metadata": {},
       "output_type": "display_data",
       "text": [
        "<IPython.core.display.Javascript at 0x230f9be0>"
       ]
      },
      {
       "javascript": [
        "$('div#a179895a-533b-4791-a13c-4ed8d049a883').text('46 of 98');"
       ],
       "metadata": {},
       "output_type": "display_data",
       "text": [
        "<IPython.core.display.Javascript at 0x230f9588>"
       ]
      },
      {
       "javascript": [
        "$('div#f5e60c64-0612-4f99-8772-26667fabe4fd').text(' 46%');"
       ],
       "metadata": {},
       "output_type": "display_data",
       "text": [
        "<IPython.core.display.Javascript at 0x230f9c18>"
       ]
      },
      {
       "javascript": [
        "\n",
        "        var $myPB = $(\"div#f7f836e4-cc3d-467c-aa0b-f81bbde8156f\")\n",
        "        if ($myPB.hasClass('ui-progressbar')) {\n",
        "            $myPB.progressbar('value', 46);\n",
        "        } else {\n",
        "            $myPB.progressbar({value: 0, max: 98});\n",
        "        }\n",
        "        "
       ],
       "metadata": {},
       "output_type": "display_data",
       "text": [
        "<IPython.core.display.Javascript at 0x230f9358>"
       ]
      },
      {
       "javascript": [
        "$('div#433d07f1-5fac-418b-a17b-e889b5d45e39').text('ETA:  0:00:01');"
       ],
       "metadata": {},
       "output_type": "display_data",
       "text": [
        "<IPython.core.display.Javascript at 0x230f9b00>"
       ]
      },
      {
       "javascript": [
        "$('div#a179895a-533b-4791-a13c-4ed8d049a883').text('47 of 98');"
       ],
       "metadata": {},
       "output_type": "display_data",
       "text": [
        "<IPython.core.display.Javascript at 0x230f9e80>"
       ]
      },
      {
       "javascript": [
        "$('div#f5e60c64-0612-4f99-8772-26667fabe4fd').text(' 47%');"
       ],
       "metadata": {},
       "output_type": "display_data",
       "text": [
        "<IPython.core.display.Javascript at 0x230f9e80>"
       ]
      },
      {
       "javascript": [
        "\n",
        "        var $myPB = $(\"div#f7f836e4-cc3d-467c-aa0b-f81bbde8156f\")\n",
        "        if ($myPB.hasClass('ui-progressbar')) {\n",
        "            $myPB.progressbar('value', 47);\n",
        "        } else {\n",
        "            $myPB.progressbar({value: 0, max: 98});\n",
        "        }\n",
        "        "
       ],
       "metadata": {},
       "output_type": "display_data",
       "text": [
        "<IPython.core.display.Javascript at 0x230f95c0>"
       ]
      },
      {
       "javascript": [
        "$('div#433d07f1-5fac-418b-a17b-e889b5d45e39').text('ETA:  0:00:01');"
       ],
       "metadata": {},
       "output_type": "display_data",
       "text": [
        "<IPython.core.display.Javascript at 0x230f9780>"
       ]
      },
      {
       "javascript": [
        "$('div#a179895a-533b-4791-a13c-4ed8d049a883').text('48 of 98');"
       ],
       "metadata": {},
       "output_type": "display_data",
       "text": [
        "<IPython.core.display.Javascript at 0x2399da58>"
       ]
      },
      {
       "javascript": [
        "$('div#f5e60c64-0612-4f99-8772-26667fabe4fd').text(' 48%');"
       ],
       "metadata": {},
       "output_type": "display_data",
       "text": [
        "<IPython.core.display.Javascript at 0x2399d8d0>"
       ]
      },
      {
       "javascript": [
        "\n",
        "        var $myPB = $(\"div#f7f836e4-cc3d-467c-aa0b-f81bbde8156f\")\n",
        "        if ($myPB.hasClass('ui-progressbar')) {\n",
        "            $myPB.progressbar('value', 48);\n",
        "        } else {\n",
        "            $myPB.progressbar({value: 0, max: 98});\n",
        "        }\n",
        "        "
       ],
       "metadata": {},
       "output_type": "display_data",
       "text": [
        "<IPython.core.display.Javascript at 0x2399d908>"
       ]
      },
      {
       "javascript": [
        "$('div#433d07f1-5fac-418b-a17b-e889b5d45e39').text('ETA:  0:00:01');"
       ],
       "metadata": {},
       "output_type": "display_data",
       "text": [
        "<IPython.core.display.Javascript at 0x2399db38>"
       ]
      },
      {
       "javascript": [
        "$('div#a179895a-533b-4791-a13c-4ed8d049a883').text('49 of 98');"
       ],
       "metadata": {},
       "output_type": "display_data",
       "text": [
        "<IPython.core.display.Javascript at 0x2399d898>"
       ]
      },
      {
       "javascript": [
        "$('div#f5e60c64-0612-4f99-8772-26667fabe4fd').text(' 50%');"
       ],
       "metadata": {},
       "output_type": "display_data",
       "text": [
        "<IPython.core.display.Javascript at 0x2399d2e8>"
       ]
      },
      {
       "javascript": [
        "\n",
        "        var $myPB = $(\"div#f7f836e4-cc3d-467c-aa0b-f81bbde8156f\")\n",
        "        if ($myPB.hasClass('ui-progressbar')) {\n",
        "            $myPB.progressbar('value', 49);\n",
        "        } else {\n",
        "            $myPB.progressbar({value: 0, max: 98});\n",
        "        }\n",
        "        "
       ],
       "metadata": {},
       "output_type": "display_data",
       "text": [
        "<IPython.core.display.Javascript at 0x2399d2e8>"
       ]
      },
      {
       "javascript": [
        "$('div#433d07f1-5fac-418b-a17b-e889b5d45e39').text('ETA:  0:00:01');"
       ],
       "metadata": {},
       "output_type": "display_data",
       "text": [
        "<IPython.core.display.Javascript at 0x2399def0>"
       ]
      },
      {
       "javascript": [
        "$('div#a179895a-533b-4791-a13c-4ed8d049a883').text('50 of 98');"
       ],
       "metadata": {},
       "output_type": "display_data",
       "text": [
        "<IPython.core.display.Javascript at 0x2399dc50>"
       ]
      },
      {
       "javascript": [
        "$('div#f5e60c64-0612-4f99-8772-26667fabe4fd').text(' 51%');"
       ],
       "metadata": {},
       "output_type": "display_data",
       "text": [
        "<IPython.core.display.Javascript at 0x2399dc88>"
       ]
      },
      {
       "javascript": [
        "\n",
        "        var $myPB = $(\"div#f7f836e4-cc3d-467c-aa0b-f81bbde8156f\")\n",
        "        if ($myPB.hasClass('ui-progressbar')) {\n",
        "            $myPB.progressbar('value', 50);\n",
        "        } else {\n",
        "            $myPB.progressbar({value: 0, max: 98});\n",
        "        }\n",
        "        "
       ],
       "metadata": {},
       "output_type": "display_data",
       "text": [
        "<IPython.core.display.Javascript at 0x2399d978>"
       ]
      },
      {
       "javascript": [
        "$('div#433d07f1-5fac-418b-a17b-e889b5d45e39').text('ETA:  0:00:01');"
       ],
       "metadata": {},
       "output_type": "display_data",
       "text": [
        "<IPython.core.display.Javascript at 0x2399d978>"
       ]
      },
      {
       "javascript": [
        "$('div#a179895a-533b-4791-a13c-4ed8d049a883').text('51 of 98');"
       ],
       "metadata": {},
       "output_type": "display_data",
       "text": [
        "<IPython.core.display.Javascript at 0x211e8128>"
       ]
      },
      {
       "javascript": [
        "$('div#f5e60c64-0612-4f99-8772-26667fabe4fd').text(' 52%');"
       ],
       "metadata": {},
       "output_type": "display_data",
       "text": [
        "<IPython.core.display.Javascript at 0x211e8128>"
       ]
      },
      {
       "javascript": [
        "\n",
        "        var $myPB = $(\"div#f7f836e4-cc3d-467c-aa0b-f81bbde8156f\")\n",
        "        if ($myPB.hasClass('ui-progressbar')) {\n",
        "            $myPB.progressbar('value', 51);\n",
        "        } else {\n",
        "            $myPB.progressbar({value: 0, max: 98});\n",
        "        }\n",
        "        "
       ],
       "metadata": {},
       "output_type": "display_data",
       "text": [
        "<IPython.core.display.Javascript at 0x211e8908>"
       ]
      },
      {
       "javascript": [
        "$('div#433d07f1-5fac-418b-a17b-e889b5d45e39').text('ETA:  0:00:01');"
       ],
       "metadata": {},
       "output_type": "display_data",
       "text": [
        "<IPython.core.display.Javascript at 0x211e84e0>"
       ]
      },
      {
       "javascript": [
        "$('div#a179895a-533b-4791-a13c-4ed8d049a883').text('52 of 98');"
       ],
       "metadata": {},
       "output_type": "display_data",
       "text": [
        "<IPython.core.display.Javascript at 0x19723710>"
       ]
      },
      {
       "javascript": [
        "$('div#f5e60c64-0612-4f99-8772-26667fabe4fd').text(' 53%');"
       ],
       "metadata": {},
       "output_type": "display_data",
       "text": [
        "<IPython.core.display.Javascript at 0x19723860>"
       ]
      },
      {
       "javascript": [
        "\n",
        "        var $myPB = $(\"div#f7f836e4-cc3d-467c-aa0b-f81bbde8156f\")\n",
        "        if ($myPB.hasClass('ui-progressbar')) {\n",
        "            $myPB.progressbar('value', 52);\n",
        "        } else {\n",
        "            $myPB.progressbar({value: 0, max: 98});\n",
        "        }\n",
        "        "
       ],
       "metadata": {},
       "output_type": "display_data",
       "text": [
        "<IPython.core.display.Javascript at 0x16fca6a0>"
       ]
      },
      {
       "javascript": [
        "$('div#433d07f1-5fac-418b-a17b-e889b5d45e39').text('ETA:  0:00:01');"
       ],
       "metadata": {},
       "output_type": "display_data",
       "text": [
        "<IPython.core.display.Javascript at 0x19723860>"
       ]
      },
      {
       "javascript": [
        "$('div#a179895a-533b-4791-a13c-4ed8d049a883').text('53 of 98');"
       ],
       "metadata": {},
       "output_type": "display_data",
       "text": [
        "<IPython.core.display.Javascript at 0x1a9ff668>"
       ]
      },
      {
       "javascript": [
        "$('div#f5e60c64-0612-4f99-8772-26667fabe4fd').text(' 54%');"
       ],
       "metadata": {},
       "output_type": "display_data",
       "text": [
        "<IPython.core.display.Javascript at 0x1a9ff668>"
       ]
      },
      {
       "javascript": [
        "\n",
        "        var $myPB = $(\"div#f7f836e4-cc3d-467c-aa0b-f81bbde8156f\")\n",
        "        if ($myPB.hasClass('ui-progressbar')) {\n",
        "            $myPB.progressbar('value', 53);\n",
        "        } else {\n",
        "            $myPB.progressbar({value: 0, max: 98});\n",
        "        }\n",
        "        "
       ],
       "metadata": {},
       "output_type": "display_data",
       "text": [
        "<IPython.core.display.Javascript at 0x1a9ff828>"
       ]
      },
      {
       "javascript": [
        "$('div#433d07f1-5fac-418b-a17b-e889b5d45e39').text('ETA:  0:00:01');"
       ],
       "metadata": {},
       "output_type": "display_data",
       "text": [
        "<IPython.core.display.Javascript at 0x1a9ffe80>"
       ]
      },
      {
       "javascript": [
        "$('div#a179895a-533b-4791-a13c-4ed8d049a883').text('54 of 98');"
       ],
       "metadata": {},
       "output_type": "display_data",
       "text": [
        "<IPython.core.display.Javascript at 0x173e5128>"
       ]
      },
      {
       "javascript": [
        "$('div#f5e60c64-0612-4f99-8772-26667fabe4fd').text(' 55%');"
       ],
       "metadata": {},
       "output_type": "display_data",
       "text": [
        "<IPython.core.display.Javascript at 0x173e5518>"
       ]
      },
      {
       "javascript": [
        "\n",
        "        var $myPB = $(\"div#f7f836e4-cc3d-467c-aa0b-f81bbde8156f\")\n",
        "        if ($myPB.hasClass('ui-progressbar')) {\n",
        "            $myPB.progressbar('value', 54);\n",
        "        } else {\n",
        "            $myPB.progressbar({value: 0, max: 98});\n",
        "        }\n",
        "        "
       ],
       "metadata": {},
       "output_type": "display_data",
       "text": [
        "<IPython.core.display.Javascript at 0x173e5828>"
       ]
      },
      {
       "javascript": [
        "$('div#433d07f1-5fac-418b-a17b-e889b5d45e39').text('ETA:  0:00:01');"
       ],
       "metadata": {},
       "output_type": "display_data",
       "text": [
        "<IPython.core.display.Javascript at 0x173e5b70>"
       ]
      },
      {
       "javascript": [
        "$('div#a179895a-533b-4791-a13c-4ed8d049a883').text('55 of 98');"
       ],
       "metadata": {},
       "output_type": "display_data",
       "text": [
        "<IPython.core.display.Javascript at 0x173e5f28>"
       ]
      },
      {
       "javascript": [
        "$('div#f5e60c64-0612-4f99-8772-26667fabe4fd').text(' 56%');"
       ],
       "metadata": {},
       "output_type": "display_data",
       "text": [
        "<IPython.core.display.Javascript at 0x173e52b0>"
       ]
      },
      {
       "javascript": [
        "\n",
        "        var $myPB = $(\"div#f7f836e4-cc3d-467c-aa0b-f81bbde8156f\")\n",
        "        if ($myPB.hasClass('ui-progressbar')) {\n",
        "            $myPB.progressbar('value', 55);\n",
        "        } else {\n",
        "            $myPB.progressbar({value: 0, max: 98});\n",
        "        }\n",
        "        "
       ],
       "metadata": {},
       "output_type": "display_data",
       "text": [
        "<IPython.core.display.Javascript at 0x173e5358>"
       ]
      },
      {
       "javascript": [
        "$('div#433d07f1-5fac-418b-a17b-e889b5d45e39').text('ETA:  0:00:01');"
       ],
       "metadata": {},
       "output_type": "display_data",
       "text": [
        "<IPython.core.display.Javascript at 0x173e5320>"
       ]
      },
      {
       "javascript": [
        "$('div#a179895a-533b-4791-a13c-4ed8d049a883').text('56 of 98');"
       ],
       "metadata": {},
       "output_type": "display_data",
       "text": [
        "<IPython.core.display.Javascript at 0x1beafe10>"
       ]
      },
      {
       "javascript": [
        "$('div#f5e60c64-0612-4f99-8772-26667fabe4fd').text(' 57%');"
       ],
       "metadata": {},
       "output_type": "display_data",
       "text": [
        "<IPython.core.display.Javascript at 0x1beaf470>"
       ]
      },
      {
       "javascript": [
        "\n",
        "        var $myPB = $(\"div#f7f836e4-cc3d-467c-aa0b-f81bbde8156f\")\n",
        "        if ($myPB.hasClass('ui-progressbar')) {\n",
        "            $myPB.progressbar('value', 56);\n",
        "        } else {\n",
        "            $myPB.progressbar({value: 0, max: 98});\n",
        "        }\n",
        "        "
       ],
       "metadata": {},
       "output_type": "display_data",
       "text": [
        "<IPython.core.display.Javascript at 0x1beaf5c0>"
       ]
      },
      {
       "javascript": [
        "$('div#433d07f1-5fac-418b-a17b-e889b5d45e39').text('ETA:  0:00:01');"
       ],
       "metadata": {},
       "output_type": "display_data",
       "text": [
        "<IPython.core.display.Javascript at 0x1beaf5c0>"
       ]
      },
      {
       "javascript": [
        "$('div#a179895a-533b-4791-a13c-4ed8d049a883').text('57 of 98');"
       ],
       "metadata": {},
       "output_type": "display_data",
       "text": [
        "<IPython.core.display.Javascript at 0x1beaf668>"
       ]
      },
      {
       "javascript": [
        "$('div#f5e60c64-0612-4f99-8772-26667fabe4fd').text(' 58%');"
       ],
       "metadata": {},
       "output_type": "display_data",
       "text": [
        "<IPython.core.display.Javascript at 0x1beafba8>"
       ]
      },
      {
       "javascript": [
        "\n",
        "        var $myPB = $(\"div#f7f836e4-cc3d-467c-aa0b-f81bbde8156f\")\n",
        "        if ($myPB.hasClass('ui-progressbar')) {\n",
        "            $myPB.progressbar('value', 57);\n",
        "        } else {\n",
        "            $myPB.progressbar({value: 0, max: 98});\n",
        "        }\n",
        "        "
       ],
       "metadata": {},
       "output_type": "display_data",
       "text": [
        "<IPython.core.display.Javascript at 0x1fa6f518>"
       ]
      },
      {
       "javascript": [
        "$('div#433d07f1-5fac-418b-a17b-e889b5d45e39').text('ETA:  0:00:01');"
       ],
       "metadata": {},
       "output_type": "display_data",
       "text": [
        "<IPython.core.display.Javascript at 0x1fa6fb70>"
       ]
      },
      {
       "javascript": [
        "$('div#a179895a-533b-4791-a13c-4ed8d049a883').text('58 of 98');"
       ],
       "metadata": {},
       "output_type": "display_data",
       "text": [
        "<IPython.core.display.Javascript at 0x1736b978>"
       ]
      },
      {
       "javascript": [
        "$('div#f5e60c64-0612-4f99-8772-26667fabe4fd').text(' 59%');"
       ],
       "metadata": {},
       "output_type": "display_data",
       "text": [
        "<IPython.core.display.Javascript at 0x1736b160>"
       ]
      },
      {
       "javascript": [
        "\n",
        "        var $myPB = $(\"div#f7f836e4-cc3d-467c-aa0b-f81bbde8156f\")\n",
        "        if ($myPB.hasClass('ui-progressbar')) {\n",
        "            $myPB.progressbar('value', 58);\n",
        "        } else {\n",
        "            $myPB.progressbar({value: 0, max: 98});\n",
        "        }\n",
        "        "
       ],
       "metadata": {},
       "output_type": "display_data",
       "text": [
        "<IPython.core.display.Javascript at 0x1736bef0>"
       ]
      },
      {
       "javascript": [
        "$('div#433d07f1-5fac-418b-a17b-e889b5d45e39').text('ETA:  0:00:01');"
       ],
       "metadata": {},
       "output_type": "display_data",
       "text": [
        "<IPython.core.display.Javascript at 0x1736bef0>"
       ]
      },
      {
       "javascript": [
        "$('div#a179895a-533b-4791-a13c-4ed8d049a883').text('59 of 98');"
       ],
       "metadata": {},
       "output_type": "display_data",
       "text": [
        "<IPython.core.display.Javascript at 0x1736bf98>"
       ]
      },
      {
       "javascript": [
        "$('div#f5e60c64-0612-4f99-8772-26667fabe4fd').text(' 60%');"
       ],
       "metadata": {},
       "output_type": "display_data",
       "text": [
        "<IPython.core.display.Javascript at 0x1736b6a0>"
       ]
      },
      {
       "javascript": [
        "\n",
        "        var $myPB = $(\"div#f7f836e4-cc3d-467c-aa0b-f81bbde8156f\")\n",
        "        if ($myPB.hasClass('ui-progressbar')) {\n",
        "            $myPB.progressbar('value', 59);\n",
        "        } else {\n",
        "            $myPB.progressbar({value: 0, max: 98});\n",
        "        }\n",
        "        "
       ],
       "metadata": {},
       "output_type": "display_data",
       "text": [
        "<IPython.core.display.Javascript at 0x1736b6a0>"
       ]
      },
      {
       "javascript": [
        "$('div#433d07f1-5fac-418b-a17b-e889b5d45e39').text('ETA:  0:00:01');"
       ],
       "metadata": {},
       "output_type": "display_data",
       "text": [
        "<IPython.core.display.Javascript at 0x1736bd68>"
       ]
      },
      {
       "javascript": [
        "$('div#a179895a-533b-4791-a13c-4ed8d049a883').text('60 of 98');"
       ],
       "metadata": {},
       "output_type": "display_data",
       "text": [
        "<IPython.core.display.Javascript at 0x1ee8e048>"
       ]
      },
      {
       "javascript": [
        "$('div#f5e60c64-0612-4f99-8772-26667fabe4fd').text(' 61%');"
       ],
       "metadata": {},
       "output_type": "display_data",
       "text": [
        "<IPython.core.display.Javascript at 0x1ee8e160>"
       ]
      },
      {
       "javascript": [
        "\n",
        "        var $myPB = $(\"div#f7f836e4-cc3d-467c-aa0b-f81bbde8156f\")\n",
        "        if ($myPB.hasClass('ui-progressbar')) {\n",
        "            $myPB.progressbar('value', 60);\n",
        "        } else {\n",
        "            $myPB.progressbar({value: 0, max: 98});\n",
        "        }\n",
        "        "
       ],
       "metadata": {},
       "output_type": "display_data",
       "text": [
        "<IPython.core.display.Javascript at 0x1ee8e828>"
       ]
      },
      {
       "javascript": [
        "$('div#433d07f1-5fac-418b-a17b-e889b5d45e39').text('ETA:  0:00:01');"
       ],
       "metadata": {},
       "output_type": "display_data",
       "text": [
        "<IPython.core.display.Javascript at 0x1ee8e828>"
       ]
      },
      {
       "javascript": [
        "$('div#a179895a-533b-4791-a13c-4ed8d049a883').text('61 of 98');"
       ],
       "metadata": {},
       "output_type": "display_data",
       "text": [
        "<IPython.core.display.Javascript at 0x1b9a7278>"
       ]
      },
      {
       "javascript": [
        "$('div#f5e60c64-0612-4f99-8772-26667fabe4fd').text(' 62%');"
       ],
       "metadata": {},
       "output_type": "display_data",
       "text": [
        "<IPython.core.display.Javascript at 0x1b9a7278>"
       ]
      },
      {
       "javascript": [
        "\n",
        "        var $myPB = $(\"div#f7f836e4-cc3d-467c-aa0b-f81bbde8156f\")\n",
        "        if ($myPB.hasClass('ui-progressbar')) {\n",
        "            $myPB.progressbar('value', 61);\n",
        "        } else {\n",
        "            $myPB.progressbar({value: 0, max: 98});\n",
        "        }\n",
        "        "
       ],
       "metadata": {},
       "output_type": "display_data",
       "text": [
        "<IPython.core.display.Javascript at 0x1b9a7b38>"
       ]
      },
      {
       "javascript": [
        "$('div#433d07f1-5fac-418b-a17b-e889b5d45e39').text('ETA:  0:00:01');"
       ],
       "metadata": {},
       "output_type": "display_data",
       "text": [
        "<IPython.core.display.Javascript at 0x1b9a7438>"
       ]
      },
      {
       "javascript": [
        "$('div#a179895a-533b-4791-a13c-4ed8d049a883').text('62 of 98');"
       ],
       "metadata": {},
       "output_type": "display_data",
       "text": [
        "<IPython.core.display.Javascript at 0x208a0748>"
       ]
      },
      {
       "javascript": [
        "$('div#f5e60c64-0612-4f99-8772-26667fabe4fd').text(' 63%');"
       ],
       "metadata": {},
       "output_type": "display_data",
       "text": [
        "<IPython.core.display.Javascript at 0x208a0908>"
       ]
      },
      {
       "javascript": [
        "\n",
        "        var $myPB = $(\"div#f7f836e4-cc3d-467c-aa0b-f81bbde8156f\")\n",
        "        if ($myPB.hasClass('ui-progressbar')) {\n",
        "            $myPB.progressbar('value', 62);\n",
        "        } else {\n",
        "            $myPB.progressbar({value: 0, max: 98});\n",
        "        }\n",
        "        "
       ],
       "metadata": {},
       "output_type": "display_data",
       "text": [
        "<IPython.core.display.Javascript at 0x208a0908>"
       ]
      },
      {
       "javascript": [
        "$('div#433d07f1-5fac-418b-a17b-e889b5d45e39').text('ETA:  0:00:01');"
       ],
       "metadata": {},
       "output_type": "display_data",
       "text": [
        "<IPython.core.display.Javascript at 0x208a0198>"
       ]
      },
      {
       "javascript": [
        "$('div#a179895a-533b-4791-a13c-4ed8d049a883').text('63 of 98');"
       ],
       "metadata": {},
       "output_type": "display_data",
       "text": [
        "<IPython.core.display.Javascript at 0x1b7b2b38>"
       ]
      },
      {
       "javascript": [
        "$('div#f5e60c64-0612-4f99-8772-26667fabe4fd').text(' 64%');"
       ],
       "metadata": {},
       "output_type": "display_data",
       "text": [
        "<IPython.core.display.Javascript at 0x1b7b2438>"
       ]
      },
      {
       "javascript": [
        "\n",
        "        var $myPB = $(\"div#f7f836e4-cc3d-467c-aa0b-f81bbde8156f\")\n",
        "        if ($myPB.hasClass('ui-progressbar')) {\n",
        "            $myPB.progressbar('value', 63);\n",
        "        } else {\n",
        "            $myPB.progressbar({value: 0, max: 98});\n",
        "        }\n",
        "        "
       ],
       "metadata": {},
       "output_type": "display_data",
       "text": [
        "<IPython.core.display.Javascript at 0x1b7b2518>"
       ]
      },
      {
       "javascript": [
        "$('div#433d07f1-5fac-418b-a17b-e889b5d45e39').text('ETA:  0:00:01');"
       ],
       "metadata": {},
       "output_type": "display_data",
       "text": [
        "<IPython.core.display.Javascript at 0x1b7b2518>"
       ]
      },
      {
       "javascript": [
        "$('div#a179895a-533b-4791-a13c-4ed8d049a883').text('64 of 98');"
       ],
       "metadata": {},
       "output_type": "display_data",
       "text": [
        "<IPython.core.display.Javascript at 0x1eecbef0>"
       ]
      },
      {
       "javascript": [
        "$('div#f5e60c64-0612-4f99-8772-26667fabe4fd').text(' 65%');"
       ],
       "metadata": {},
       "output_type": "display_data",
       "text": [
        "<IPython.core.display.Javascript at 0x1eecbb38>"
       ]
      },
      {
       "javascript": [
        "\n",
        "        var $myPB = $(\"div#f7f836e4-cc3d-467c-aa0b-f81bbde8156f\")\n",
        "        if ($myPB.hasClass('ui-progressbar')) {\n",
        "            $myPB.progressbar('value', 64);\n",
        "        } else {\n",
        "            $myPB.progressbar({value: 0, max: 98});\n",
        "        }\n",
        "        "
       ],
       "metadata": {},
       "output_type": "display_data",
       "text": [
        "<IPython.core.display.Javascript at 0x1eecb5f8>"
       ]
      },
      {
       "javascript": [
        "$('div#433d07f1-5fac-418b-a17b-e889b5d45e39').text('ETA:  0:00:01');"
       ],
       "metadata": {},
       "output_type": "display_data",
       "text": [
        "<IPython.core.display.Javascript at 0x1eecbf98>"
       ]
      },
      {
       "javascript": [
        "$('div#a179895a-533b-4791-a13c-4ed8d049a883').text('65 of 98');"
       ],
       "metadata": {},
       "output_type": "display_data",
       "text": [
        "<IPython.core.display.Javascript at 0x1ba0c5f8>"
       ]
      },
      {
       "javascript": [
        "$('div#f5e60c64-0612-4f99-8772-26667fabe4fd').text(' 66%');"
       ],
       "metadata": {},
       "output_type": "display_data",
       "text": [
        "<IPython.core.display.Javascript at 0x20a33c88>"
       ]
      },
      {
       "javascript": [
        "\n",
        "        var $myPB = $(\"div#f7f836e4-cc3d-467c-aa0b-f81bbde8156f\")\n",
        "        if ($myPB.hasClass('ui-progressbar')) {\n",
        "            $myPB.progressbar('value', 65);\n",
        "        } else {\n",
        "            $myPB.progressbar({value: 0, max: 98});\n",
        "        }\n",
        "        "
       ],
       "metadata": {},
       "output_type": "display_data",
       "text": [
        "<IPython.core.display.Javascript at 0x20a33f98>"
       ]
      },
      {
       "javascript": [
        "$('div#433d07f1-5fac-418b-a17b-e889b5d45e39').text('ETA:  0:00:01');"
       ],
       "metadata": {},
       "output_type": "display_data",
       "text": [
        "<IPython.core.display.Javascript at 0x20a33fd0>"
       ]
      },
      {
       "javascript": [
        "$('div#a179895a-533b-4791-a13c-4ed8d049a883').text('66 of 98');"
       ],
       "metadata": {},
       "output_type": "display_data",
       "text": [
        "<IPython.core.display.Javascript at 0x23fcaa20>"
       ]
      },
      {
       "javascript": [
        "$('div#f5e60c64-0612-4f99-8772-26667fabe4fd').text(' 67%');"
       ],
       "metadata": {},
       "output_type": "display_data",
       "text": [
        "<IPython.core.display.Javascript at 0x21daca58>"
       ]
      },
      {
       "javascript": [
        "\n",
        "        var $myPB = $(\"div#f7f836e4-cc3d-467c-aa0b-f81bbde8156f\")\n",
        "        if ($myPB.hasClass('ui-progressbar')) {\n",
        "            $myPB.progressbar('value', 66);\n",
        "        } else {\n",
        "            $myPB.progressbar({value: 0, max: 98});\n",
        "        }\n",
        "        "
       ],
       "metadata": {},
       "output_type": "display_data",
       "text": [
        "<IPython.core.display.Javascript at 0x21dac940>"
       ]
      },
      {
       "javascript": [
        "$('div#433d07f1-5fac-418b-a17b-e889b5d45e39').text('ETA:  0:00:01');"
       ],
       "metadata": {},
       "output_type": "display_data",
       "text": [
        "<IPython.core.display.Javascript at 0x21dac8d0>"
       ]
      },
      {
       "javascript": [
        "$('div#a179895a-533b-4791-a13c-4ed8d049a883').text('67 of 98');"
       ],
       "metadata": {},
       "output_type": "display_data",
       "text": [
        "<IPython.core.display.Javascript at 0x1a940160>"
       ]
      },
      {
       "javascript": [
        "$('div#f5e60c64-0612-4f99-8772-26667fabe4fd').text(' 68%');"
       ],
       "metadata": {},
       "output_type": "display_data",
       "text": [
        "<IPython.core.display.Javascript at 0x1a940160>"
       ]
      },
      {
       "javascript": [
        "\n",
        "        var $myPB = $(\"div#f7f836e4-cc3d-467c-aa0b-f81bbde8156f\")\n",
        "        if ($myPB.hasClass('ui-progressbar')) {\n",
        "            $myPB.progressbar('value', 67);\n",
        "        } else {\n",
        "            $myPB.progressbar({value: 0, max: 98});\n",
        "        }\n",
        "        "
       ],
       "metadata": {},
       "output_type": "display_data",
       "text": [
        "<IPython.core.display.Javascript at 0x1a940588>"
       ]
      },
      {
       "javascript": [
        "$('div#433d07f1-5fac-418b-a17b-e889b5d45e39').text('ETA:  0:00:01');"
       ],
       "metadata": {},
       "output_type": "display_data",
       "text": [
        "<IPython.core.display.Javascript at 0x1a940668>"
       ]
      },
      {
       "javascript": [
        "$('div#a179895a-533b-4791-a13c-4ed8d049a883').text('68 of 98');"
       ],
       "metadata": {},
       "output_type": "display_data",
       "text": [
        "<IPython.core.display.Javascript at 0x1a940978>"
       ]
      },
      {
       "javascript": [
        "$('div#f5e60c64-0612-4f99-8772-26667fabe4fd').text(' 69%');"
       ],
       "metadata": {},
       "output_type": "display_data",
       "text": [
        "<IPython.core.display.Javascript at 0x1a940b70>"
       ]
      },
      {
       "javascript": [
        "\n",
        "        var $myPB = $(\"div#f7f836e4-cc3d-467c-aa0b-f81bbde8156f\")\n",
        "        if ($myPB.hasClass('ui-progressbar')) {\n",
        "            $myPB.progressbar('value', 68);\n",
        "        } else {\n",
        "            $myPB.progressbar({value: 0, max: 98});\n",
        "        }\n",
        "        "
       ],
       "metadata": {},
       "output_type": "display_data",
       "text": [
        "<IPython.core.display.Javascript at 0x1a940b70>"
       ]
      },
      {
       "javascript": [
        "$('div#433d07f1-5fac-418b-a17b-e889b5d45e39').text('ETA:  0:00:01');"
       ],
       "metadata": {},
       "output_type": "display_data",
       "text": [
        "<IPython.core.display.Javascript at 0x1a940e48>"
       ]
      },
      {
       "javascript": [
        "$('div#a179895a-533b-4791-a13c-4ed8d049a883').text('69 of 98');"
       ],
       "metadata": {},
       "output_type": "display_data",
       "text": [
        "<IPython.core.display.Javascript at 0x18fe65f8>"
       ]
      },
      {
       "javascript": [
        "$('div#f5e60c64-0612-4f99-8772-26667fabe4fd').text(' 70%');"
       ],
       "metadata": {},
       "output_type": "display_data",
       "text": [
        "<IPython.core.display.Javascript at 0x18fe6128>"
       ]
      },
      {
       "javascript": [
        "\n",
        "        var $myPB = $(\"div#f7f836e4-cc3d-467c-aa0b-f81bbde8156f\")\n",
        "        if ($myPB.hasClass('ui-progressbar')) {\n",
        "            $myPB.progressbar('value', 69);\n",
        "        } else {\n",
        "            $myPB.progressbar({value: 0, max: 98});\n",
        "        }\n",
        "        "
       ],
       "metadata": {},
       "output_type": "display_data",
       "text": [
        "<IPython.core.display.Javascript at 0x18fe6128>"
       ]
      },
      {
       "javascript": [
        "$('div#433d07f1-5fac-418b-a17b-e889b5d45e39').text('ETA:  0:00:01');"
       ],
       "metadata": {},
       "output_type": "display_data",
       "text": [
        "<IPython.core.display.Javascript at 0x18fe62e8>"
       ]
      },
      {
       "javascript": [
        "$('div#a179895a-533b-4791-a13c-4ed8d049a883').text('70 of 98');"
       ],
       "metadata": {},
       "output_type": "display_data",
       "text": [
        "<IPython.core.display.Javascript at 0x18fe6320>"
       ]
      },
      {
       "javascript": [
        "$('div#f5e60c64-0612-4f99-8772-26667fabe4fd').text(' 71%');"
       ],
       "metadata": {},
       "output_type": "display_data",
       "text": [
        "<IPython.core.display.Javascript at 0x18fe6a58>"
       ]
      },
      {
       "javascript": [
        "\n",
        "        var $myPB = $(\"div#f7f836e4-cc3d-467c-aa0b-f81bbde8156f\")\n",
        "        if ($myPB.hasClass('ui-progressbar')) {\n",
        "            $myPB.progressbar('value', 70);\n",
        "        } else {\n",
        "            $myPB.progressbar({value: 0, max: 98});\n",
        "        }\n",
        "        "
       ],
       "metadata": {},
       "output_type": "display_data",
       "text": [
        "<IPython.core.display.Javascript at 0x18fe6a58>"
       ]
      },
      {
       "javascript": [
        "$('div#433d07f1-5fac-418b-a17b-e889b5d45e39').text('ETA:  0:00:01');"
       ],
       "metadata": {},
       "output_type": "display_data",
       "text": [
        "<IPython.core.display.Javascript at 0x18fe6828>"
       ]
      },
      {
       "javascript": [
        "$('div#a179895a-533b-4791-a13c-4ed8d049a883').text('71 of 98');"
       ],
       "metadata": {},
       "output_type": "display_data",
       "text": [
        "<IPython.core.display.Javascript at 0x217c4a90>"
       ]
      },
      {
       "javascript": [
        "$('div#f5e60c64-0612-4f99-8772-26667fabe4fd').text(' 72%');"
       ],
       "metadata": {},
       "output_type": "display_data",
       "text": [
        "<IPython.core.display.Javascript at 0x217c4dd8>"
       ]
      },
      {
       "javascript": [
        "\n",
        "        var $myPB = $(\"div#f7f836e4-cc3d-467c-aa0b-f81bbde8156f\")\n",
        "        if ($myPB.hasClass('ui-progressbar')) {\n",
        "            $myPB.progressbar('value', 71);\n",
        "        } else {\n",
        "            $myPB.progressbar({value: 0, max: 98});\n",
        "        }\n",
        "        "
       ],
       "metadata": {},
       "output_type": "display_data",
       "text": [
        "<IPython.core.display.Javascript at 0x217c4dd8>"
       ]
      },
      {
       "javascript": [
        "$('div#433d07f1-5fac-418b-a17b-e889b5d45e39').text('ETA:  0:00:01');"
       ],
       "metadata": {},
       "output_type": "display_data",
       "text": [
        "<IPython.core.display.Javascript at 0x217c4908>"
       ]
      },
      {
       "javascript": [
        "$('div#a179895a-533b-4791-a13c-4ed8d049a883').text('72 of 98');"
       ],
       "metadata": {},
       "output_type": "display_data",
       "text": [
        "<IPython.core.display.Javascript at 0x217c4a58>"
       ]
      },
      {
       "javascript": [
        "$('div#f5e60c64-0612-4f99-8772-26667fabe4fd').text(' 73%');"
       ],
       "metadata": {},
       "output_type": "display_data",
       "text": [
        "<IPython.core.display.Javascript at 0x217c4358>"
       ]
      },
      {
       "javascript": [
        "\n",
        "        var $myPB = $(\"div#f7f836e4-cc3d-467c-aa0b-f81bbde8156f\")\n",
        "        if ($myPB.hasClass('ui-progressbar')) {\n",
        "            $myPB.progressbar('value', 72);\n",
        "        } else {\n",
        "            $myPB.progressbar({value: 0, max: 98});\n",
        "        }\n",
        "        "
       ],
       "metadata": {},
       "output_type": "display_data",
       "text": [
        "<IPython.core.display.Javascript at 0x217c4358>"
       ]
      },
      {
       "javascript": [
        "$('div#433d07f1-5fac-418b-a17b-e889b5d45e39').text('ETA:  0:00:01');"
       ],
       "metadata": {},
       "output_type": "display_data",
       "text": [
        "<IPython.core.display.Javascript at 0x217c4da0>"
       ]
      },
      {
       "javascript": [
        "$('div#a179895a-533b-4791-a13c-4ed8d049a883').text('73 of 98');"
       ],
       "metadata": {},
       "output_type": "display_data",
       "text": [
        "<IPython.core.display.Javascript at 0x23326da0>"
       ]
      },
      {
       "javascript": [
        "$('div#f5e60c64-0612-4f99-8772-26667fabe4fd').text(' 74%');"
       ],
       "metadata": {},
       "output_type": "display_data",
       "text": [
        "<IPython.core.display.Javascript at 0x23326080>"
       ]
      },
      {
       "javascript": [
        "\n",
        "        var $myPB = $(\"div#f7f836e4-cc3d-467c-aa0b-f81bbde8156f\")\n",
        "        if ($myPB.hasClass('ui-progressbar')) {\n",
        "            $myPB.progressbar('value', 73);\n",
        "        } else {\n",
        "            $myPB.progressbar({value: 0, max: 98});\n",
        "        }\n",
        "        "
       ],
       "metadata": {},
       "output_type": "display_data",
       "text": [
        "<IPython.core.display.Javascript at 0x23326080>"
       ]
      },
      {
       "javascript": [
        "$('div#433d07f1-5fac-418b-a17b-e889b5d45e39').text('ETA:  0:00:01');"
       ],
       "metadata": {},
       "output_type": "display_data",
       "text": [
        "<IPython.core.display.Javascript at 0x23326978>"
       ]
      },
      {
       "javascript": [
        "$('div#a179895a-533b-4791-a13c-4ed8d049a883').text('74 of 98');"
       ],
       "metadata": {},
       "output_type": "display_data",
       "text": [
        "<IPython.core.display.Javascript at 0x1fb42390>"
       ]
      },
      {
       "javascript": [
        "$('div#f5e60c64-0612-4f99-8772-26667fabe4fd').text(' 75%');"
       ],
       "metadata": {},
       "output_type": "display_data",
       "text": [
        "<IPython.core.display.Javascript at 0x1fb42390>"
       ]
      },
      {
       "javascript": [
        "\n",
        "        var $myPB = $(\"div#f7f836e4-cc3d-467c-aa0b-f81bbde8156f\")\n",
        "        if ($myPB.hasClass('ui-progressbar')) {\n",
        "            $myPB.progressbar('value', 74);\n",
        "        } else {\n",
        "            $myPB.progressbar({value: 0, max: 98});\n",
        "        }\n",
        "        "
       ],
       "metadata": {},
       "output_type": "display_data",
       "text": [
        "<IPython.core.display.Javascript at 0x1fb423c8>"
       ]
      },
      {
       "javascript": [
        "$('div#433d07f1-5fac-418b-a17b-e889b5d45e39').text('ETA:  0:00:01');"
       ],
       "metadata": {},
       "output_type": "display_data",
       "text": [
        "<IPython.core.display.Javascript at 0x1fb42c50>"
       ]
      },
      {
       "javascript": [
        "$('div#a179895a-533b-4791-a13c-4ed8d049a883').text('75 of 98');"
       ],
       "metadata": {},
       "output_type": "display_data",
       "text": [
        "<IPython.core.display.Javascript at 0x1bfd2518>"
       ]
      },
      {
       "javascript": [
        "$('div#f5e60c64-0612-4f99-8772-26667fabe4fd').text(' 76%');"
       ],
       "metadata": {},
       "output_type": "display_data",
       "text": [
        "<IPython.core.display.Javascript at 0x1bfd2198>"
       ]
      },
      {
       "javascript": [
        "\n",
        "        var $myPB = $(\"div#f7f836e4-cc3d-467c-aa0b-f81bbde8156f\")\n",
        "        if ($myPB.hasClass('ui-progressbar')) {\n",
        "            $myPB.progressbar('value', 75);\n",
        "        } else {\n",
        "            $myPB.progressbar({value: 0, max: 98});\n",
        "        }\n",
        "        "
       ],
       "metadata": {},
       "output_type": "display_data",
       "text": [
        "<IPython.core.display.Javascript at 0x1bfd2198>"
       ]
      },
      {
       "javascript": [
        "$('div#433d07f1-5fac-418b-a17b-e889b5d45e39').text('ETA:  0:00:01');"
       ],
       "metadata": {},
       "output_type": "display_data",
       "text": [
        "<IPython.core.display.Javascript at 0x1bfd28d0>"
       ]
      },
      {
       "javascript": [
        "$('div#a179895a-533b-4791-a13c-4ed8d049a883').text('76 of 98');"
       ],
       "metadata": {},
       "output_type": "display_data",
       "text": [
        "<IPython.core.display.Javascript at 0x2485f3c8>"
       ]
      },
      {
       "javascript": [
        "$('div#f5e60c64-0612-4f99-8772-26667fabe4fd').text(' 77%');"
       ],
       "metadata": {},
       "output_type": "display_data",
       "text": [
        "<IPython.core.display.Javascript at 0x2485fdd8>"
       ]
      },
      {
       "javascript": [
        "\n",
        "        var $myPB = $(\"div#f7f836e4-cc3d-467c-aa0b-f81bbde8156f\")\n",
        "        if ($myPB.hasClass('ui-progressbar')) {\n",
        "            $myPB.progressbar('value', 76);\n",
        "        } else {\n",
        "            $myPB.progressbar({value: 0, max: 98});\n",
        "        }\n",
        "        "
       ],
       "metadata": {},
       "output_type": "display_data",
       "text": [
        "<IPython.core.display.Javascript at 0x2485fdd8>"
       ]
      },
      {
       "javascript": [
        "$('div#433d07f1-5fac-418b-a17b-e889b5d45e39').text('ETA:  0:00:01');"
       ],
       "metadata": {},
       "output_type": "display_data",
       "text": [
        "<IPython.core.display.Javascript at 0x2485fe48>"
       ]
      },
      {
       "javascript": [
        "$('div#a179895a-533b-4791-a13c-4ed8d049a883').text('77 of 98');"
       ],
       "metadata": {},
       "output_type": "display_data",
       "text": [
        "<IPython.core.display.Javascript at 0x2485f4e0>"
       ]
      },
      {
       "javascript": [
        "$('div#f5e60c64-0612-4f99-8772-26667fabe4fd').text(' 78%');"
       ],
       "metadata": {},
       "output_type": "display_data",
       "text": [
        "<IPython.core.display.Javascript at 0x2485f7b8>"
       ]
      },
      {
       "javascript": [
        "\n",
        "        var $myPB = $(\"div#f7f836e4-cc3d-467c-aa0b-f81bbde8156f\")\n",
        "        if ($myPB.hasClass('ui-progressbar')) {\n",
        "            $myPB.progressbar('value', 77);\n",
        "        } else {\n",
        "            $myPB.progressbar({value: 0, max: 98});\n",
        "        }\n",
        "        "
       ],
       "metadata": {},
       "output_type": "display_data",
       "text": [
        "<IPython.core.display.Javascript at 0x2485f668>"
       ]
      },
      {
       "javascript": [
        "$('div#433d07f1-5fac-418b-a17b-e889b5d45e39').text('ETA:  0:00:00');"
       ],
       "metadata": {},
       "output_type": "display_data",
       "text": [
        "<IPython.core.display.Javascript at 0x2485f4e0>"
       ]
      },
      {
       "javascript": [
        "$('div#a179895a-533b-4791-a13c-4ed8d049a883').text('78 of 98');"
       ],
       "metadata": {},
       "output_type": "display_data",
       "text": [
        "<IPython.core.display.Javascript at 0x1ef08208>"
       ]
      },
      {
       "javascript": [
        "$('div#f5e60c64-0612-4f99-8772-26667fabe4fd').text(' 79%');"
       ],
       "metadata": {},
       "output_type": "display_data",
       "text": [
        "<IPython.core.display.Javascript at 0x1ef08630>"
       ]
      },
      {
       "javascript": [
        "\n",
        "        var $myPB = $(\"div#f7f836e4-cc3d-467c-aa0b-f81bbde8156f\")\n",
        "        if ($myPB.hasClass('ui-progressbar')) {\n",
        "            $myPB.progressbar('value', 78);\n",
        "        } else {\n",
        "            $myPB.progressbar({value: 0, max: 98});\n",
        "        }\n",
        "        "
       ],
       "metadata": {},
       "output_type": "display_data",
       "text": [
        "<IPython.core.display.Javascript at 0x1ef08630>"
       ]
      },
      {
       "javascript": [
        "$('div#433d07f1-5fac-418b-a17b-e889b5d45e39').text('ETA:  0:00:00');"
       ],
       "metadata": {},
       "output_type": "display_data",
       "text": [
        "<IPython.core.display.Javascript at 0x1ef08710>"
       ]
      },
      {
       "javascript": [
        "$('div#a179895a-533b-4791-a13c-4ed8d049a883').text('79 of 98');"
       ],
       "metadata": {},
       "output_type": "display_data",
       "text": [
        "<IPython.core.display.Javascript at 0x239edeb8>"
       ]
      },
      {
       "javascript": [
        "$('div#f5e60c64-0612-4f99-8772-26667fabe4fd').text(' 80%');"
       ],
       "metadata": {},
       "output_type": "display_data",
       "text": [
        "<IPython.core.display.Javascript at 0x239edeb8>"
       ]
      },
      {
       "javascript": [
        "\n",
        "        var $myPB = $(\"div#f7f836e4-cc3d-467c-aa0b-f81bbde8156f\")\n",
        "        if ($myPB.hasClass('ui-progressbar')) {\n",
        "            $myPB.progressbar('value', 79);\n",
        "        } else {\n",
        "            $myPB.progressbar({value: 0, max: 98});\n",
        "        }\n",
        "        "
       ],
       "metadata": {},
       "output_type": "display_data",
       "text": [
        "<IPython.core.display.Javascript at 0x239edfd0>"
       ]
      },
      {
       "javascript": [
        "$('div#433d07f1-5fac-418b-a17b-e889b5d45e39').text('ETA:  0:00:00');"
       ],
       "metadata": {},
       "output_type": "display_data",
       "text": [
        "<IPython.core.display.Javascript at 0x239ed1d0>"
       ]
      },
      {
       "javascript": [
        "$('div#a179895a-533b-4791-a13c-4ed8d049a883').text('80 of 98');"
       ],
       "metadata": {},
       "output_type": "display_data",
       "text": [
        "<IPython.core.display.Javascript at 0x239eda90>"
       ]
      },
      {
       "javascript": [
        "$('div#f5e60c64-0612-4f99-8772-26667fabe4fd').text(' 81%');"
       ],
       "metadata": {},
       "output_type": "display_data",
       "text": [
        "<IPython.core.display.Javascript at 0x239ed9e8>"
       ]
      },
      {
       "javascript": [
        "\n",
        "        var $myPB = $(\"div#f7f836e4-cc3d-467c-aa0b-f81bbde8156f\")\n",
        "        if ($myPB.hasClass('ui-progressbar')) {\n",
        "            $myPB.progressbar('value', 80);\n",
        "        } else {\n",
        "            $myPB.progressbar({value: 0, max: 98});\n",
        "        }\n",
        "        "
       ],
       "metadata": {},
       "output_type": "display_data",
       "text": [
        "<IPython.core.display.Javascript at 0x239ed9e8>"
       ]
      },
      {
       "javascript": [
        "$('div#433d07f1-5fac-418b-a17b-e889b5d45e39').text('ETA:  0:00:00');"
       ],
       "metadata": {},
       "output_type": "display_data",
       "text": [
        "<IPython.core.display.Javascript at 0x239ed5f8>"
       ]
      },
      {
       "javascript": [
        "$('div#a179895a-533b-4791-a13c-4ed8d049a883').text('81 of 98');"
       ],
       "metadata": {},
       "output_type": "display_data",
       "text": [
        "<IPython.core.display.Javascript at 0x17543a90>"
       ]
      },
      {
       "javascript": [
        "$('div#f5e60c64-0612-4f99-8772-26667fabe4fd').text(' 82%');"
       ],
       "metadata": {},
       "output_type": "display_data",
       "text": [
        "<IPython.core.display.Javascript at 0x17543518>"
       ]
      },
      {
       "javascript": [
        "\n",
        "        var $myPB = $(\"div#f7f836e4-cc3d-467c-aa0b-f81bbde8156f\")\n",
        "        if ($myPB.hasClass('ui-progressbar')) {\n",
        "            $myPB.progressbar('value', 81);\n",
        "        } else {\n",
        "            $myPB.progressbar({value: 0, max: 98});\n",
        "        }\n",
        "        "
       ],
       "metadata": {},
       "output_type": "display_data",
       "text": [
        "<IPython.core.display.Javascript at 0x17543518>"
       ]
      },
      {
       "javascript": [
        "$('div#433d07f1-5fac-418b-a17b-e889b5d45e39').text('ETA:  0:00:00');"
       ],
       "metadata": {},
       "output_type": "display_data",
       "text": [
        "<IPython.core.display.Javascript at 0x17543978>"
       ]
      },
      {
       "javascript": [
        "$('div#a179895a-533b-4791-a13c-4ed8d049a883').text('82 of 98');"
       ],
       "metadata": {},
       "output_type": "display_data",
       "text": [
        "<IPython.core.display.Javascript at 0x22d16198>"
       ]
      },
      {
       "javascript": [
        "$('div#f5e60c64-0612-4f99-8772-26667fabe4fd').text(' 83%');"
       ],
       "metadata": {},
       "output_type": "display_data",
       "text": [
        "<IPython.core.display.Javascript at 0x22d16c88>"
       ]
      },
      {
       "javascript": [
        "\n",
        "        var $myPB = $(\"div#f7f836e4-cc3d-467c-aa0b-f81bbde8156f\")\n",
        "        if ($myPB.hasClass('ui-progressbar')) {\n",
        "            $myPB.progressbar('value', 82);\n",
        "        } else {\n",
        "            $myPB.progressbar({value: 0, max: 98});\n",
        "        }\n",
        "        "
       ],
       "metadata": {},
       "output_type": "display_data",
       "text": [
        "<IPython.core.display.Javascript at 0x22d16c88>"
       ]
      },
      {
       "javascript": [
        "$('div#433d07f1-5fac-418b-a17b-e889b5d45e39').text('ETA:  0:00:00');"
       ],
       "metadata": {},
       "output_type": "display_data",
       "text": [
        "<IPython.core.display.Javascript at 0x22d16400>"
       ]
      },
      {
       "javascript": [
        "$('div#a179895a-533b-4791-a13c-4ed8d049a883').text('83 of 98');"
       ],
       "metadata": {},
       "output_type": "display_data",
       "text": [
        "<IPython.core.display.Javascript at 0x222453c8>"
       ]
      },
      {
       "javascript": [
        "$('div#f5e60c64-0612-4f99-8772-26667fabe4fd').text(' 84%');"
       ],
       "metadata": {},
       "output_type": "display_data",
       "text": [
        "<IPython.core.display.Javascript at 0x22245dd8>"
       ]
      },
      {
       "javascript": [
        "\n",
        "        var $myPB = $(\"div#f7f836e4-cc3d-467c-aa0b-f81bbde8156f\")\n",
        "        if ($myPB.hasClass('ui-progressbar')) {\n",
        "            $myPB.progressbar('value', 83);\n",
        "        } else {\n",
        "            $myPB.progressbar({value: 0, max: 98});\n",
        "        }\n",
        "        "
       ],
       "metadata": {},
       "output_type": "display_data",
       "text": [
        "<IPython.core.display.Javascript at 0x22245dd8>"
       ]
      },
      {
       "javascript": [
        "$('div#433d07f1-5fac-418b-a17b-e889b5d45e39').text('ETA:  0:00:00');"
       ],
       "metadata": {},
       "output_type": "display_data",
       "text": [
        "<IPython.core.display.Javascript at 0x22245898>"
       ]
      },
      {
       "javascript": [
        "$('div#a179895a-533b-4791-a13c-4ed8d049a883').text('84 of 98');"
       ],
       "metadata": {},
       "output_type": "display_data",
       "text": [
        "<IPython.core.display.Javascript at 0x22245c18>"
       ]
      },
      {
       "javascript": [
        "$('div#f5e60c64-0612-4f99-8772-26667fabe4fd').text(' 85%');"
       ],
       "metadata": {},
       "output_type": "display_data",
       "text": [
        "<IPython.core.display.Javascript at 0x22245c18>"
       ]
      },
      {
       "javascript": [
        "\n",
        "        var $myPB = $(\"div#f7f836e4-cc3d-467c-aa0b-f81bbde8156f\")\n",
        "        if ($myPB.hasClass('ui-progressbar')) {\n",
        "            $myPB.progressbar('value', 84);\n",
        "        } else {\n",
        "            $myPB.progressbar({value: 0, max: 98});\n",
        "        }\n",
        "        "
       ],
       "metadata": {},
       "output_type": "display_data",
       "text": [
        "<IPython.core.display.Javascript at 0x22245c88>"
       ]
      },
      {
       "javascript": [
        "$('div#433d07f1-5fac-418b-a17b-e889b5d45e39').text('ETA:  0:00:00');"
       ],
       "metadata": {},
       "output_type": "display_data",
       "text": [
        "<IPython.core.display.Javascript at 0x22245a20>"
       ]
      },
      {
       "javascript": [
        "$('div#a179895a-533b-4791-a13c-4ed8d049a883').text('85 of 98');"
       ],
       "metadata": {},
       "output_type": "display_data",
       "text": [
        "<IPython.core.display.Javascript at 0x1b9b4438>"
       ]
      },
      {
       "javascript": [
        "$('div#f5e60c64-0612-4f99-8772-26667fabe4fd').text(' 86%');"
       ],
       "metadata": {},
       "output_type": "display_data",
       "text": [
        "<IPython.core.display.Javascript at 0x1b9b4438>"
       ]
      },
      {
       "javascript": [
        "\n",
        "        var $myPB = $(\"div#f7f836e4-cc3d-467c-aa0b-f81bbde8156f\")\n",
        "        if ($myPB.hasClass('ui-progressbar')) {\n",
        "            $myPB.progressbar('value', 85);\n",
        "        } else {\n",
        "            $myPB.progressbar({value: 0, max: 98});\n",
        "        }\n",
        "        "
       ],
       "metadata": {},
       "output_type": "display_data",
       "text": [
        "<IPython.core.display.Javascript at 0x1b9b4978>"
       ]
      },
      {
       "javascript": [
        "$('div#433d07f1-5fac-418b-a17b-e889b5d45e39').text('ETA:  0:00:00');"
       ],
       "metadata": {},
       "output_type": "display_data",
       "text": [
        "<IPython.core.display.Javascript at 0x1b9b4b38>"
       ]
      },
      {
       "javascript": [
        "$('div#a179895a-533b-4791-a13c-4ed8d049a883').text('86 of 98');"
       ],
       "metadata": {},
       "output_type": "display_data",
       "text": [
        "<IPython.core.display.Javascript at 0x1af9a278>"
       ]
      },
      {
       "javascript": [
        "$('div#f5e60c64-0612-4f99-8772-26667fabe4fd').text(' 87%');"
       ],
       "metadata": {},
       "output_type": "display_data",
       "text": [
        "<IPython.core.display.Javascript at 0x1af9a278>"
       ]
      },
      {
       "javascript": [
        "\n",
        "        var $myPB = $(\"div#f7f836e4-cc3d-467c-aa0b-f81bbde8156f\")\n",
        "        if ($myPB.hasClass('ui-progressbar')) {\n",
        "            $myPB.progressbar('value', 86);\n",
        "        } else {\n",
        "            $myPB.progressbar({value: 0, max: 98});\n",
        "        }\n",
        "        "
       ],
       "metadata": {},
       "output_type": "display_data",
       "text": [
        "<IPython.core.display.Javascript at 0x1af9aa20>"
       ]
      },
      {
       "javascript": [
        "$('div#433d07f1-5fac-418b-a17b-e889b5d45e39').text('ETA:  0:00:00');"
       ],
       "metadata": {},
       "output_type": "display_data",
       "text": [
        "<IPython.core.display.Javascript at 0x1af9a2e8>"
       ]
      },
      {
       "javascript": [
        "$('div#a179895a-533b-4791-a13c-4ed8d049a883').text('87 of 98');"
       ],
       "metadata": {},
       "output_type": "display_data",
       "text": [
        "<IPython.core.display.Javascript at 0x1fba8860>"
       ]
      },
      {
       "javascript": [
        "$('div#f5e60c64-0612-4f99-8772-26667fabe4fd').text(' 88%');"
       ],
       "metadata": {},
       "output_type": "display_data",
       "text": [
        "<IPython.core.display.Javascript at 0x1fba82e8>"
       ]
      },
      {
       "javascript": [
        "\n",
        "        var $myPB = $(\"div#f7f836e4-cc3d-467c-aa0b-f81bbde8156f\")\n",
        "        if ($myPB.hasClass('ui-progressbar')) {\n",
        "            $myPB.progressbar('value', 87);\n",
        "        } else {\n",
        "            $myPB.progressbar({value: 0, max: 98});\n",
        "        }\n",
        "        "
       ],
       "metadata": {},
       "output_type": "display_data",
       "text": [
        "<IPython.core.display.Javascript at 0x1fba82e8>"
       ]
      },
      {
       "javascript": [
        "$('div#433d07f1-5fac-418b-a17b-e889b5d45e39').text('ETA:  0:00:00');"
       ],
       "metadata": {},
       "output_type": "display_data",
       "text": [
        "<IPython.core.display.Javascript at 0x1fba8438>"
       ]
      },
      {
       "javascript": [
        "$('div#a179895a-533b-4791-a13c-4ed8d049a883').text('88 of 98');"
       ],
       "metadata": {},
       "output_type": "display_data",
       "text": [
        "<IPython.core.display.Javascript at 0x1fe82390>"
       ]
      },
      {
       "javascript": [
        "$('div#f5e60c64-0612-4f99-8772-26667fabe4fd').text(' 89%');"
       ],
       "metadata": {},
       "output_type": "display_data",
       "text": [
        "<IPython.core.display.Javascript at 0x1fe82390>"
       ]
      },
      {
       "javascript": [
        "\n",
        "        var $myPB = $(\"div#f7f836e4-cc3d-467c-aa0b-f81bbde8156f\")\n",
        "        if ($myPB.hasClass('ui-progressbar')) {\n",
        "            $myPB.progressbar('value', 88);\n",
        "        } else {\n",
        "            $myPB.progressbar({value: 0, max: 98});\n",
        "        }\n",
        "        "
       ],
       "metadata": {},
       "output_type": "display_data",
       "text": [
        "<IPython.core.display.Javascript at 0x1fe82860>"
       ]
      },
      {
       "javascript": [
        "$('div#433d07f1-5fac-418b-a17b-e889b5d45e39').text('ETA:  0:00:00');"
       ],
       "metadata": {},
       "output_type": "display_data",
       "text": [
        "<IPython.core.display.Javascript at 0x1fe82b00>"
       ]
      },
      {
       "javascript": [
        "$('div#a179895a-533b-4791-a13c-4ed8d049a883').text('89 of 98');"
       ],
       "metadata": {},
       "output_type": "display_data",
       "text": [
        "<IPython.core.display.Javascript at 0x238bee48>"
       ]
      },
      {
       "javascript": [
        "$('div#f5e60c64-0612-4f99-8772-26667fabe4fd').text(' 90%');"
       ],
       "metadata": {},
       "output_type": "display_data",
       "text": [
        "<IPython.core.display.Javascript at 0x238bee48>"
       ]
      },
      {
       "javascript": [
        "\n",
        "        var $myPB = $(\"div#f7f836e4-cc3d-467c-aa0b-f81bbde8156f\")\n",
        "        if ($myPB.hasClass('ui-progressbar')) {\n",
        "            $myPB.progressbar('value', 89);\n",
        "        } else {\n",
        "            $myPB.progressbar({value: 0, max: 98});\n",
        "        }\n",
        "        "
       ],
       "metadata": {},
       "output_type": "display_data",
       "text": [
        "<IPython.core.display.Javascript at 0x238be668>"
       ]
      },
      {
       "javascript": [
        "$('div#433d07f1-5fac-418b-a17b-e889b5d45e39').text('ETA:  0:00:00');"
       ],
       "metadata": {},
       "output_type": "display_data",
       "text": [
        "<IPython.core.display.Javascript at 0x238bee10>"
       ]
      },
      {
       "javascript": [
        "$('div#a179895a-533b-4791-a13c-4ed8d049a883').text('90 of 98');"
       ],
       "metadata": {},
       "output_type": "display_data",
       "text": [
        "<IPython.core.display.Javascript at 0x24216208>"
       ]
      },
      {
       "javascript": [
        "$('div#f5e60c64-0612-4f99-8772-26667fabe4fd').text(' 91%');"
       ],
       "metadata": {},
       "output_type": "display_data",
       "text": [
        "<IPython.core.display.Javascript at 0x24216208>"
       ]
      },
      {
       "javascript": [
        "\n",
        "        var $myPB = $(\"div#f7f836e4-cc3d-467c-aa0b-f81bbde8156f\")\n",
        "        if ($myPB.hasClass('ui-progressbar')) {\n",
        "            $myPB.progressbar('value', 90);\n",
        "        } else {\n",
        "            $myPB.progressbar({value: 0, max: 98});\n",
        "        }\n",
        "        "
       ],
       "metadata": {},
       "output_type": "display_data",
       "text": [
        "<IPython.core.display.Javascript at 0x24216908>"
       ]
      },
      {
       "javascript": [
        "$('div#433d07f1-5fac-418b-a17b-e889b5d45e39').text('ETA:  0:00:00');"
       ],
       "metadata": {},
       "output_type": "display_data",
       "text": [
        "<IPython.core.display.Javascript at 0x24216f28>"
       ]
      },
      {
       "javascript": [
        "$('div#a179895a-533b-4791-a13c-4ed8d049a883').text('91 of 98');"
       ],
       "metadata": {},
       "output_type": "display_data",
       "text": [
        "<IPython.core.display.Javascript at 0x1782c2b0>"
       ]
      },
      {
       "javascript": [
        "$('div#f5e60c64-0612-4f99-8772-26667fabe4fd').text(' 92%');"
       ],
       "metadata": {},
       "output_type": "display_data",
       "text": [
        "<IPython.core.display.Javascript at 0x1782c2b0>"
       ]
      },
      {
       "javascript": [
        "\n",
        "        var $myPB = $(\"div#f7f836e4-cc3d-467c-aa0b-f81bbde8156f\")\n",
        "        if ($myPB.hasClass('ui-progressbar')) {\n",
        "            $myPB.progressbar('value', 91);\n",
        "        } else {\n",
        "            $myPB.progressbar({value: 0, max: 98});\n",
        "        }\n",
        "        "
       ],
       "metadata": {},
       "output_type": "display_data",
       "text": [
        "<IPython.core.display.Javascript at 0x1782cbe0>"
       ]
      },
      {
       "javascript": [
        "$('div#433d07f1-5fac-418b-a17b-e889b5d45e39').text('ETA:  0:00:00');"
       ],
       "metadata": {},
       "output_type": "display_data",
       "text": [
        "<IPython.core.display.Javascript at 0x1782c7b8>"
       ]
      },
      {
       "javascript": [
        "$('div#a179895a-533b-4791-a13c-4ed8d049a883').text('92 of 98');"
       ],
       "metadata": {},
       "output_type": "display_data",
       "text": [
        "<IPython.core.display.Javascript at 0x1782c588>"
       ]
      },
      {
       "javascript": [
        "$('div#f5e60c64-0612-4f99-8772-26667fabe4fd').text(' 93%');"
       ],
       "metadata": {},
       "output_type": "display_data",
       "text": [
        "<IPython.core.display.Javascript at 0x1782c518>"
       ]
      },
      {
       "javascript": [
        "\n",
        "        var $myPB = $(\"div#f7f836e4-cc3d-467c-aa0b-f81bbde8156f\")\n",
        "        if ($myPB.hasClass('ui-progressbar')) {\n",
        "            $myPB.progressbar('value', 92);\n",
        "        } else {\n",
        "            $myPB.progressbar({value: 0, max: 98});\n",
        "        }\n",
        "        "
       ],
       "metadata": {},
       "output_type": "display_data",
       "text": [
        "<IPython.core.display.Javascript at 0x1782cf60>"
       ]
      },
      {
       "javascript": [
        "$('div#433d07f1-5fac-418b-a17b-e889b5d45e39').text('ETA:  0:00:00');"
       ],
       "metadata": {},
       "output_type": "display_data",
       "text": [
        "<IPython.core.display.Javascript at 0x1782cf60>"
       ]
      },
      {
       "javascript": [
        "$('div#a179895a-533b-4791-a13c-4ed8d049a883').text('93 of 98');"
       ],
       "metadata": {},
       "output_type": "display_data",
       "text": [
        "<IPython.core.display.Javascript at 0x1782ca58>"
       ]
      },
      {
       "javascript": [
        "$('div#f5e60c64-0612-4f99-8772-26667fabe4fd').text(' 94%');"
       ],
       "metadata": {},
       "output_type": "display_data",
       "text": [
        "<IPython.core.display.Javascript at 0x1782c518>"
       ]
      },
      {
       "javascript": [
        "\n",
        "        var $myPB = $(\"div#f7f836e4-cc3d-467c-aa0b-f81bbde8156f\")\n",
        "        if ($myPB.hasClass('ui-progressbar')) {\n",
        "            $myPB.progressbar('value', 93);\n",
        "        } else {\n",
        "            $myPB.progressbar({value: 0, max: 98});\n",
        "        }\n",
        "        "
       ],
       "metadata": {},
       "output_type": "display_data",
       "text": [
        "<IPython.core.display.Javascript at 0x1782ce10>"
       ]
      },
      {
       "javascript": [
        "$('div#433d07f1-5fac-418b-a17b-e889b5d45e39').text('ETA:  0:00:00');"
       ],
       "metadata": {},
       "output_type": "display_data",
       "text": [
        "<IPython.core.display.Javascript at 0x1782c080>"
       ]
      },
      {
       "javascript": [
        "$('div#a179895a-533b-4791-a13c-4ed8d049a883').text('94 of 98');"
       ],
       "metadata": {},
       "output_type": "display_data",
       "text": [
        "<IPython.core.display.Javascript at 0x1782c710>"
       ]
      },
      {
       "javascript": [
        "$('div#f5e60c64-0612-4f99-8772-26667fabe4fd').text(' 95%');"
       ],
       "metadata": {},
       "output_type": "display_data",
       "text": [
        "<IPython.core.display.Javascript at 0x1782cc18>"
       ]
      },
      {
       "javascript": [
        "\n",
        "        var $myPB = $(\"div#f7f836e4-cc3d-467c-aa0b-f81bbde8156f\")\n",
        "        if ($myPB.hasClass('ui-progressbar')) {\n",
        "            $myPB.progressbar('value', 94);\n",
        "        } else {\n",
        "            $myPB.progressbar({value: 0, max: 98});\n",
        "        }\n",
        "        "
       ],
       "metadata": {},
       "output_type": "display_data",
       "text": [
        "<IPython.core.display.Javascript at 0x1782c518>"
       ]
      },
      {
       "javascript": [
        "$('div#433d07f1-5fac-418b-a17b-e889b5d45e39').text('ETA:  0:00:00');"
       ],
       "metadata": {},
       "output_type": "display_data",
       "text": [
        "<IPython.core.display.Javascript at 0x1782ce10>"
       ]
      },
      {
       "javascript": [
        "$('div#a179895a-533b-4791-a13c-4ed8d049a883').text('95 of 98');"
       ],
       "metadata": {},
       "output_type": "display_data",
       "text": [
        "<IPython.core.display.Javascript at 0x1782c438>"
       ]
      },
      {
       "javascript": [
        "$('div#f5e60c64-0612-4f99-8772-26667fabe4fd').text(' 96%');"
       ],
       "metadata": {},
       "output_type": "display_data",
       "text": [
        "<IPython.core.display.Javascript at 0x1782c7f0>"
       ]
      },
      {
       "javascript": [
        "\n",
        "        var $myPB = $(\"div#f7f836e4-cc3d-467c-aa0b-f81bbde8156f\")\n",
        "        if ($myPB.hasClass('ui-progressbar')) {\n",
        "            $myPB.progressbar('value', 95);\n",
        "        } else {\n",
        "            $myPB.progressbar({value: 0, max: 98});\n",
        "        }\n",
        "        "
       ],
       "metadata": {},
       "output_type": "display_data",
       "text": [
        "<IPython.core.display.Javascript at 0x1782c240>"
       ]
      },
      {
       "javascript": [
        "$('div#433d07f1-5fac-418b-a17b-e889b5d45e39').text('ETA:  0:00:00');"
       ],
       "metadata": {},
       "output_type": "display_data",
       "text": [
        "<IPython.core.display.Javascript at 0x1782c240>"
       ]
      },
      {
       "javascript": [
        "$('div#a179895a-533b-4791-a13c-4ed8d049a883').text('96 of 98');"
       ],
       "metadata": {},
       "output_type": "display_data",
       "text": [
        "<IPython.core.display.Javascript at 0x22ed5c50>"
       ]
      },
      {
       "javascript": [
        "$('div#f5e60c64-0612-4f99-8772-26667fabe4fd').text(' 97%');"
       ],
       "metadata": {},
       "output_type": "display_data",
       "text": [
        "<IPython.core.display.Javascript at 0x22ed5c50>"
       ]
      },
      {
       "javascript": [
        "\n",
        "        var $myPB = $(\"div#f7f836e4-cc3d-467c-aa0b-f81bbde8156f\")\n",
        "        if ($myPB.hasClass('ui-progressbar')) {\n",
        "            $myPB.progressbar('value', 96);\n",
        "        } else {\n",
        "            $myPB.progressbar({value: 0, max: 98});\n",
        "        }\n",
        "        "
       ],
       "metadata": {},
       "output_type": "display_data",
       "text": [
        "<IPython.core.display.Javascript at 0x22ed5f98>"
       ]
      },
      {
       "javascript": [
        "$('div#433d07f1-5fac-418b-a17b-e889b5d45e39').text('ETA:  0:00:00');"
       ],
       "metadata": {},
       "output_type": "display_data",
       "text": [
        "<IPython.core.display.Javascript at 0x22ed52e8>"
       ]
      },
      {
       "javascript": [
        "$('div#a179895a-533b-4791-a13c-4ed8d049a883').text('97 of 98');"
       ],
       "metadata": {},
       "output_type": "display_data",
       "text": [
        "<IPython.core.display.Javascript at 0x1bdab0b8>"
       ]
      },
      {
       "javascript": [
        "$('div#f5e60c64-0612-4f99-8772-26667fabe4fd').text(' 98%');"
       ],
       "metadata": {},
       "output_type": "display_data",
       "text": [
        "<IPython.core.display.Javascript at 0x1bdab9e8>"
       ]
      },
      {
       "javascript": [
        "\n",
        "        var $myPB = $(\"div#f7f836e4-cc3d-467c-aa0b-f81bbde8156f\")\n",
        "        if ($myPB.hasClass('ui-progressbar')) {\n",
        "            $myPB.progressbar('value', 97);\n",
        "        } else {\n",
        "            $myPB.progressbar({value: 0, max: 98});\n",
        "        }\n",
        "        "
       ],
       "metadata": {},
       "output_type": "display_data",
       "text": [
        "<IPython.core.display.Javascript at 0x1bdab9e8>"
       ]
      },
      {
       "javascript": [
        "$('div#433d07f1-5fac-418b-a17b-e889b5d45e39').text('ETA:  0:00:00');"
       ],
       "metadata": {},
       "output_type": "display_data",
       "text": [
        "<IPython.core.display.Javascript at 0x1bdab898>"
       ]
      },
      {
       "javascript": [
        "$('div#a179895a-533b-4791-a13c-4ed8d049a883').text('98 of 98');"
       ],
       "metadata": {},
       "output_type": "display_data",
       "text": [
        "<IPython.core.display.Javascript at 0x1bdab630>"
       ]
      },
      {
       "javascript": [
        "$('div#f5e60c64-0612-4f99-8772-26667fabe4fd').text('100%');"
       ],
       "metadata": {},
       "output_type": "display_data",
       "text": [
        "<IPython.core.display.Javascript at 0x1bdab630>"
       ]
      },
      {
       "javascript": [
        "\n",
        "        var $myPB = $(\"div#f7f836e4-cc3d-467c-aa0b-f81bbde8156f\")\n",
        "        if ($myPB.hasClass('ui-progressbar')) {\n",
        "            $myPB.progressbar('value', 98);\n",
        "        } else {\n",
        "            $myPB.progressbar({value: 0, max: 98});\n",
        "        }\n",
        "        "
       ],
       "metadata": {},
       "output_type": "display_data",
       "text": [
        "<IPython.core.display.Javascript at 0x1bdab7b8>"
       ]
      },
      {
       "javascript": [
        "$('div#433d07f1-5fac-418b-a17b-e889b5d45e39').text('ETA:  0:00:00');"
       ],
       "metadata": {},
       "output_type": "display_data",
       "text": [
        "<IPython.core.display.Javascript at 0x1bdabbe0>"
       ]
      },
      {
       "javascript": [
        "$('div#a179895a-533b-4791-a13c-4ed8d049a883').text('98 of 98');"
       ],
       "metadata": {},
       "output_type": "display_data",
       "text": [
        "<IPython.core.display.Javascript at 0x2485f7b8>"
       ]
      },
      {
       "javascript": [
        "$('div#f5e60c64-0612-4f99-8772-26667fabe4fd').text('100%');"
       ],
       "metadata": {},
       "output_type": "display_data",
       "text": [
        "<IPython.core.display.Javascript at 0x2485f7b8>"
       ]
      },
      {
       "javascript": [
        "\n",
        "        var $myPB = $(\"div#f7f836e4-cc3d-467c-aa0b-f81bbde8156f\")\n",
        "        if ($myPB.hasClass('ui-progressbar')) {\n",
        "            $myPB.progressbar('value', 98);\n",
        "        } else {\n",
        "            $myPB.progressbar({value: 0, max: 98});\n",
        "        }\n",
        "        "
       ],
       "metadata": {},
       "output_type": "display_data",
       "text": [
        "<IPython.core.display.Javascript at 0x1bdab080>"
       ]
      },
      {
       "javascript": [
        "$('div#433d07f1-5fac-418b-a17b-e889b5d45e39').text('Time: 0:00:04');"
       ],
       "metadata": {},
       "output_type": "display_data",
       "text": [
        "<IPython.core.display.Javascript at 0x1bdab7b8>"
       ]
      },
      {
       "javascript": [
        "var element = document.getElementById('1e6f96fd-649f-46a4-b4a2-af03b5198056');\n",
        "                    var parent = element.parentNode\n",
        "                    parent.removeChild(element);\n",
        "                    parent.parentElement.remove();"
       ],
       "metadata": {},
       "output_type": "display_data",
       "text": [
        "<IPython.core.display.Javascript at 0x22d3fcf8>"
       ]
      },
      {
       "javascript": [
        "this.cleanProgressBar(['1e6f96fd-649f-46a4-b4a2-af03b5198056', 'a179895a-533b-4791-a13c-4ed8d049a883', 'f5e60c64-0612-4f99-8772-26667fabe4fd', 'f7f836e4-cc3d-467c-aa0b-f81bbde8156f', '433d07f1-5fac-418b-a17b-e889b5d45e39'])"
       ],
       "metadata": {},
       "output_type": "display_data",
       "text": [
        "<IPython.core.display.Javascript at 0x2485f7b8>"
       ]
      }
     ],
     "prompt_number": 2
    },
    {
     "cell_type": "code",
     "collapsed": false,
     "input": [
      "# base_url = 'http://daccess-dds-ny.un.org/doc/UNDOC/GEN/N04/475/05/PDF/N0447505.pdf'\n",
      "\n",
      "base_url = 'http://daccess-dds-ny.un.org/doc/UNDOC/'\n",
      "import os\n",
      "from pattern.web import URL\n",
      "\n",
      "def download_file_to(source, destination):\n",
      "    name = source.split('/')[-1]\n",
      "    url = URL(source)\n",
      "    with open(os.path.join(destination, name), 'wb') as f:\n",
      "        d = url.open()\n",
      "        print d.read()\n",
      "        f.write(d.read())\n",
      "        \n",
      "base_url2= 'http://daccess-ods.un.org/access.nsf/Get?Open&DS=%s&Lang=E'\n",
      "# base_url3 = \n",
      "for doc in docs:\n",
      "    n = docs[doc]['n']\n",
      "    id = docs[doc]['id']\n",
      "    url = '%s%s/%s/%s/%s/PDF/%s.pdf'%(base_url,'LTD', n[:3],n[3:6], n[-2:],n)\n",
      "#     url2 = '%s%s/%s/%s/%s/PDF/%s.pdf'%(base_url,'GEN', n[:3],n[3:6], n[-2:],n)\n",
      "#     url = base_url2%id\n",
      "#     print url\n",
      "    if not os.path.exists('../data/pdf/%s.pdf'%n):\n",
      "        print n,docs[doc]['id'], url\n",
      "        \n",
      "#     download_file_to(url, '../data/pdf/')\n",
      "    "
     ],
     "language": "python",
     "metadata": {},
     "outputs": [],
     "prompt_number": 29
    },
    {
     "cell_type": "code",
     "collapsed": false,
     "input": [
      "print len(docs)\n",
      "for doc in docs:\n",
      "    print docs[doc]['n']"
     ],
     "language": "python",
     "metadata": {},
     "outputs": [
      {
       "output_type": "stream",
       "stream": "stdout",
       "text": [
        "98\n",
        "N0646317\n",
        "V0781711\n",
        "N0531927\n",
        "N0628231\n",
        "G0070209\n",
        "N0625177\n",
        "N0334879\n",
        "V0657526\n",
        "N0355040\n",
        "V0387701\n",
        "V0781818\n",
        "V0857955\n",
        "V0186106\n",
        "N0649105\n",
        "N0268852\n",
        "N0928275\n",
        "V0582289\n",
        "N0621304\n",
        "N0856312\n",
        "N0062814\n",
        "N0655993\n",
        "N0452572\n",
        "G0215272\n",
        "G0516105\n",
        "N0252584\n",
        "N0355168\n",
        "G0663620\n",
        "V0986568\n",
        "N0763022\n",
        "V0780735\n",
        "V0188747\n",
        "G0560290\n",
        "N0152607\n",
        "N0271991\n",
        "V0383978\n",
        "N0657522\n",
        "N0231925\n",
        "V0583411\n",
        "V0981479\n",
        "V0653909\n",
        "N0455137\n",
        "N0441986\n",
        "N0038897\n",
        "V0252726\n",
        "V0788107\n",
        "N0040845\n",
        "N0355192\n",
        "N0723572\n",
        "G0561029\n",
        "N0221543\n",
        "G0120042\n",
        "N0824547\n",
        "N0342481\n",
        "N0363884\n",
        "N0663736\n",
        "N0130266\n",
        "V0060407\n",
        "N0857057\n",
        "N0260781\n",
        "N0154435\n",
        "N0753338\n",
        "G0115748\n",
        "N0355936\n",
        "N0059175\n",
        "G0416200\n",
        "N0551747\n",
        "G0815283\n",
        "N0447505\n",
        "V0980883\n",
        "N0754109\n",
        "N0527078\n",
        "N0655981\n",
        "V0053064\n",
        "N0655999\n",
        "N0460231\n",
        "N0166129\n",
        "N0268858\n",
        "N0860709\n",
        "G0316227\n",
        "N0456991\n",
        "N0258326\n",
        "N0740587\n",
        "N0754212\n",
        "N0921438\n",
        "G0244335\n",
        "V0784106\n",
        "N0456985\n",
        "N0643544\n",
        "N0331136\n",
        "V0457812\n",
        "V0657564\n",
        "N0753313\n",
        "N0132461\n",
        "V0590125\n",
        "N0521787\n",
        "N0756517\n",
        "N0857742\n",
        "V0587082\n"
       ]
      }
     ],
     "prompt_number": 31
    }
   ],
   "metadata": {}
  }
 ]
}