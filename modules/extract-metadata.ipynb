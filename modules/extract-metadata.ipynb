{
 "metadata": {
  "name": "",
  "signature": "sha256:3d0222727a66ac0e9a8a9145a88f328b51a98c39eedbdfc8afc3d8f978c4ddcc"
 },
 "nbformat": 3,
 "nbformat_minor": 0,
 "worksheets": [
  {
   "cells": [
    {
     "cell_type": "code",
     "collapsed": false,
     "input": [
      "MODULES_PATH = '''..\\\\modules\\\\multi_un_module.py'''\n",
      "import imp\n",
      "NF = imp.load_source('multi_un_module', MODULES_PATH)\n",
      "import multi_un_module as mun"
     ],
     "language": "python",
     "metadata": {},
     "outputs": [],
     "prompt_number": 1
    },
    {
     "cell_type": "code",
     "collapsed": false,
     "input": [
      "docs = mun.load_xml_files_by_year(\"TOP_100\")"
     ],
     "language": "python",
     "metadata": {},
     "outputs": [
      {
       "javascript": [
        "//e8d69c83-a893-4b53-a6c0-b7d08ac53ade\n",
        "$(\"head\").append(\"<style> td.pb_widget {     width: auto; } td.pb_widget_fill {     width: 100%; } table.pb {     font-family: monospace;     border: 0;     margin: 0; } table.pb tr { border: 0; } table.pb td {     white-space: nowrap;     border: 0; } div.pb {     border: 1px solid #ddd;     border-radius: 3px; } div.pb_bar {     height: 1.5em; } </style>\")"
       ],
       "metadata": {},
       "output_type": "display_data",
       "text": [
        "<IPython.core.display.Javascript at 0x23946048>"
       ]
      },
      {
       "javascript": [
        "\n",
        "                  // e8d69c83-a893-4b53-a6c0-b7d08ac53ade -- used to remove this code blob in the end\n",
        "                  IPython.OutputArea.prototype.cleanProgressBar = function(uuids) {\n",
        "                      // filter by uuid-strings \n",
        "                      var myfilter = function(output) { \n",
        "                          var nuids = uuids.length;\n",
        "                          for (var i=0; i<nuids; i++) {\n",
        "                              if (output.hasOwnProperty('html')) {\n",
        "                                  if (output.html.indexOf(uuids[i]) != -1) {\n",
        "                                      return false;\n",
        "                                  }\n",
        "                              }\n",
        "                              if (output.hasOwnProperty('javascript')) {\n",
        "                                  if (output.javascript.indexOf(uuids[i]) != -1) {\n",
        "                                      return false;\n",
        "                                  }\n",
        "                              }\n",
        "                          }\n",
        "                          // keep all others\n",
        "                          return true;\n",
        "                      };\n",
        "\n",
        "                      // Filter the ouputs\n",
        "                      this.outputs = this.outputs.filter(myfilter);\n",
        "                };\n",
        "                "
       ],
       "metadata": {},
       "output_type": "display_data",
       "text": [
        "<IPython.core.display.Javascript at 0x3389128>"
       ]
      },
      {
       "html": [
        "<div class=\"pb\" id=\"e8d69c83-a893-4b53-a6c0-b7d08ac53ade\"><table class=\"pb ui-widget\"><tr>\n",
        "<td class=\"pb_widget\">TOP_100</td>\n",
        "<td class=\"pb_widget\"><div id=\"a1d25a5e-1b26-4330-8656-8e50e2f63ced\">0 of 98</div></td>\n",
        "<td class=\"pb_widget\"><div id=\"2a1cb8a8-487b-4b60-a4d7-bfd517a0794f\">  0%</div></td>\n",
        "<td class=\"pb_widget_fill\">\n",
        "        <div class=\"pb_bar\" id=\"bb0792ea-63ff-45bb-825a-3a8ec1bfdf5b\"></div>\n",
        "        <script type=\"text/javascript\">\n",
        "            $(\"div#bb0792ea-63ff-45bb-825a-3a8ec1bfdf5b\").progressbar({value: 0, max: 98});\n",
        "        </script>\n",
        "        </td>\n",
        "<td class=\"pb_widget\"><div id=\"1f64a032-a71d-4a68-ba1d-f094c0927e0d\">ETA:  --:--:--</div></td>\n",
        "</tr></table><div>"
       ],
       "metadata": {},
       "output_type": "display_data",
       "text": [
        "<IPython.core.display.HTML at 0x23946240>"
       ]
      },
      {
       "javascript": [
        "$('div#a1d25a5e-1b26-4330-8656-8e50e2f63ced').text('1 of 98');"
       ],
       "metadata": {},
       "output_type": "display_data",
       "text": [
        "<IPython.core.display.Javascript at 0x23946630>"
       ]
      },
      {
       "javascript": [
        "$('div#2a1cb8a8-487b-4b60-a4d7-bfd517a0794f').text('  1%');"
       ],
       "metadata": {},
       "output_type": "display_data",
       "text": [
        "<IPython.core.display.Javascript at 0x239465f8>"
       ]
      },
      {
       "javascript": [
        "\n",
        "        var $myPB = $(\"div#bb0792ea-63ff-45bb-825a-3a8ec1bfdf5b\")\n",
        "        if ($myPB.hasClass('ui-progressbar')) {\n",
        "            $myPB.progressbar('value', 1);\n",
        "        } else {\n",
        "            $myPB.progressbar({value: 0, max: 98});\n",
        "        }\n",
        "        "
       ],
       "metadata": {},
       "output_type": "display_data",
       "text": [
        "<IPython.core.display.Javascript at 0x23946a58>"
       ]
      },
      {
       "javascript": [
        "$('div#1f64a032-a71d-4a68-ba1d-f094c0927e0d').text('ETA:  0:00:01');"
       ],
       "metadata": {},
       "output_type": "display_data",
       "text": [
        "<IPython.core.display.Javascript at 0x23946630>"
       ]
      },
      {
       "javascript": [
        "$('div#a1d25a5e-1b26-4330-8656-8e50e2f63ced').text('2 of 98');"
       ],
       "metadata": {},
       "output_type": "display_data",
       "text": [
        "<IPython.core.display.Javascript at 0x22606550>"
       ]
      },
      {
       "javascript": [
        "$('div#2a1cb8a8-487b-4b60-a4d7-bfd517a0794f').text('  2%');"
       ],
       "metadata": {},
       "output_type": "display_data",
       "text": [
        "<IPython.core.display.Javascript at 0x22606470>"
       ]
      },
      {
       "javascript": [
        "\n",
        "        var $myPB = $(\"div#bb0792ea-63ff-45bb-825a-3a8ec1bfdf5b\")\n",
        "        if ($myPB.hasClass('ui-progressbar')) {\n",
        "            $myPB.progressbar('value', 2);\n",
        "        } else {\n",
        "            $myPB.progressbar({value: 0, max: 98});\n",
        "        }\n",
        "        "
       ],
       "metadata": {},
       "output_type": "display_data",
       "text": [
        "<IPython.core.display.Javascript at 0x22606470>"
       ]
      },
      {
       "javascript": [
        "$('div#1f64a032-a71d-4a68-ba1d-f094c0927e0d').text('ETA:  0:00:02');"
       ],
       "metadata": {},
       "output_type": "display_data",
       "text": [
        "<IPython.core.display.Javascript at 0x226065c0>"
       ]
      },
      {
       "javascript": [
        "$('div#a1d25a5e-1b26-4330-8656-8e50e2f63ced').text('3 of 98');"
       ],
       "metadata": {},
       "output_type": "display_data",
       "text": [
        "<IPython.core.display.Javascript at 0x242977f0>"
       ]
      },
      {
       "javascript": [
        "$('div#2a1cb8a8-487b-4b60-a4d7-bfd517a0794f').text('  3%');"
       ],
       "metadata": {},
       "output_type": "display_data",
       "text": [
        "<IPython.core.display.Javascript at 0x24297588>"
       ]
      },
      {
       "javascript": [
        "\n",
        "        var $myPB = $(\"div#bb0792ea-63ff-45bb-825a-3a8ec1bfdf5b\")\n",
        "        if ($myPB.hasClass('ui-progressbar')) {\n",
        "            $myPB.progressbar('value', 3);\n",
        "        } else {\n",
        "            $myPB.progressbar({value: 0, max: 98});\n",
        "        }\n",
        "        "
       ],
       "metadata": {},
       "output_type": "display_data",
       "text": [
        "<IPython.core.display.Javascript at 0x24297588>"
       ]
      },
      {
       "javascript": [
        "$('div#1f64a032-a71d-4a68-ba1d-f094c0927e0d').text('ETA:  0:00:01');"
       ],
       "metadata": {},
       "output_type": "display_data",
       "text": [
        "<IPython.core.display.Javascript at 0x24297240>"
       ]
      },
      {
       "javascript": [
        "$('div#a1d25a5e-1b26-4330-8656-8e50e2f63ced').text('4 of 98');"
       ],
       "metadata": {},
       "output_type": "display_data",
       "text": [
        "<IPython.core.display.Javascript at 0x22c6d128>"
       ]
      },
      {
       "javascript": [
        "$('div#2a1cb8a8-487b-4b60-a4d7-bfd517a0794f').text('  4%');"
       ],
       "metadata": {},
       "output_type": "display_data",
       "text": [
        "<IPython.core.display.Javascript at 0x22c6d748>"
       ]
      },
      {
       "javascript": [
        "\n",
        "        var $myPB = $(\"div#bb0792ea-63ff-45bb-825a-3a8ec1bfdf5b\")\n",
        "        if ($myPB.hasClass('ui-progressbar')) {\n",
        "            $myPB.progressbar('value', 4);\n",
        "        } else {\n",
        "            $myPB.progressbar({value: 0, max: 98});\n",
        "        }\n",
        "        "
       ],
       "metadata": {},
       "output_type": "display_data",
       "text": [
        "<IPython.core.display.Javascript at 0x22c6d978>"
       ]
      },
      {
       "javascript": [
        "$('div#1f64a032-a71d-4a68-ba1d-f094c0927e0d').text('ETA:  0:00:05');"
       ],
       "metadata": {},
       "output_type": "display_data",
       "text": [
        "<IPython.core.display.Javascript at 0x22c6d438>"
       ]
      },
      {
       "javascript": [
        "$('div#a1d25a5e-1b26-4330-8656-8e50e2f63ced').text('5 of 98');"
       ],
       "metadata": {},
       "output_type": "display_data",
       "text": [
        "<IPython.core.display.Javascript at 0x22c6d7f0>"
       ]
      },
      {
       "javascript": [
        "$('div#2a1cb8a8-487b-4b60-a4d7-bfd517a0794f').text('  5%');"
       ],
       "metadata": {},
       "output_type": "display_data",
       "text": [
        "<IPython.core.display.Javascript at 0x22c6dc18>"
       ]
      },
      {
       "javascript": [
        "\n",
        "        var $myPB = $(\"div#bb0792ea-63ff-45bb-825a-3a8ec1bfdf5b\")\n",
        "        if ($myPB.hasClass('ui-progressbar')) {\n",
        "            $myPB.progressbar('value', 5);\n",
        "        } else {\n",
        "            $myPB.progressbar({value: 0, max: 98});\n",
        "        }\n",
        "        "
       ],
       "metadata": {},
       "output_type": "display_data",
       "text": [
        "<IPython.core.display.Javascript at 0x22c6d630>"
       ]
      },
      {
       "javascript": [
        "$('div#1f64a032-a71d-4a68-ba1d-f094c0927e0d').text('ETA:  0:00:04');"
       ],
       "metadata": {},
       "output_type": "display_data",
       "text": [
        "<IPython.core.display.Javascript at 0x22c6d320>"
       ]
      },
      {
       "javascript": [
        "$('div#a1d25a5e-1b26-4330-8656-8e50e2f63ced').text('6 of 98');"
       ],
       "metadata": {},
       "output_type": "display_data",
       "text": [
        "<IPython.core.display.Javascript at 0x216d5550>"
       ]
      },
      {
       "javascript": [
        "$('div#2a1cb8a8-487b-4b60-a4d7-bfd517a0794f').text('  6%');"
       ],
       "metadata": {},
       "output_type": "display_data",
       "text": [
        "<IPython.core.display.Javascript at 0x216d5860>"
       ]
      },
      {
       "javascript": [
        "\n",
        "        var $myPB = $(\"div#bb0792ea-63ff-45bb-825a-3a8ec1bfdf5b\")\n",
        "        if ($myPB.hasClass('ui-progressbar')) {\n",
        "            $myPB.progressbar('value', 6);\n",
        "        } else {\n",
        "            $myPB.progressbar({value: 0, max: 98});\n",
        "        }\n",
        "        "
       ],
       "metadata": {},
       "output_type": "display_data",
       "text": [
        "<IPython.core.display.Javascript at 0x21385ba8>"
       ]
      },
      {
       "javascript": [
        "$('div#1f64a032-a71d-4a68-ba1d-f094c0927e0d').text('ETA:  0:00:05');"
       ],
       "metadata": {},
       "output_type": "display_data",
       "text": [
        "<IPython.core.display.Javascript at 0x21385ba8>"
       ]
      },
      {
       "javascript": [
        "$('div#a1d25a5e-1b26-4330-8656-8e50e2f63ced').text('7 of 98');"
       ],
       "metadata": {},
       "output_type": "display_data",
       "text": [
        "<IPython.core.display.Javascript at 0x226badd8>"
       ]
      },
      {
       "javascript": [
        "$('div#2a1cb8a8-487b-4b60-a4d7-bfd517a0794f').text('  7%');"
       ],
       "metadata": {},
       "output_type": "display_data",
       "text": [
        "<IPython.core.display.Javascript at 0x226badd8>"
       ]
      },
      {
       "javascript": [
        "\n",
        "        var $myPB = $(\"div#bb0792ea-63ff-45bb-825a-3a8ec1bfdf5b\")\n",
        "        if ($myPB.hasClass('ui-progressbar')) {\n",
        "            $myPB.progressbar('value', 7);\n",
        "        } else {\n",
        "            $myPB.progressbar({value: 0, max: 98});\n",
        "        }\n",
        "        "
       ],
       "metadata": {},
       "output_type": "display_data",
       "text": [
        "<IPython.core.display.Javascript at 0x226ba9e8>"
       ]
      },
      {
       "javascript": [
        "$('div#1f64a032-a71d-4a68-ba1d-f094c0927e0d').text('ETA:  0:00:06');"
       ],
       "metadata": {},
       "output_type": "display_data",
       "text": [
        "<IPython.core.display.Javascript at 0x226babe0>"
       ]
      },
      {
       "javascript": [
        "$('div#a1d25a5e-1b26-4330-8656-8e50e2f63ced').text('8 of 98');"
       ],
       "metadata": {},
       "output_type": "display_data",
       "text": [
        "<IPython.core.display.Javascript at 0x226baa20>"
       ]
      },
      {
       "javascript": [
        "$('div#2a1cb8a8-487b-4b60-a4d7-bfd517a0794f').text('  8%');"
       ],
       "metadata": {},
       "output_type": "display_data",
       "text": [
        "<IPython.core.display.Javascript at 0x226baa20>"
       ]
      },
      {
       "javascript": [
        "\n",
        "        var $myPB = $(\"div#bb0792ea-63ff-45bb-825a-3a8ec1bfdf5b\")\n",
        "        if ($myPB.hasClass('ui-progressbar')) {\n",
        "            $myPB.progressbar('value', 8);\n",
        "        } else {\n",
        "            $myPB.progressbar({value: 0, max: 98});\n",
        "        }\n",
        "        "
       ],
       "metadata": {},
       "output_type": "display_data",
       "text": [
        "<IPython.core.display.Javascript at 0x226baf28>"
       ]
      },
      {
       "javascript": [
        "$('div#1f64a032-a71d-4a68-ba1d-f094c0927e0d').text('ETA:  0:00:06');"
       ],
       "metadata": {},
       "output_type": "display_data",
       "text": [
        "<IPython.core.display.Javascript at 0x226ba240>"
       ]
      },
      {
       "javascript": [
        "$('div#a1d25a5e-1b26-4330-8656-8e50e2f63ced').text('9 of 98');"
       ],
       "metadata": {},
       "output_type": "display_data",
       "text": [
        "<IPython.core.display.Javascript at 0x226bae10>"
       ]
      },
      {
       "javascript": [
        "$('div#2a1cb8a8-487b-4b60-a4d7-bfd517a0794f').text('  9%');"
       ],
       "metadata": {},
       "output_type": "display_data",
       "text": [
        "<IPython.core.display.Javascript at 0x226ba2b0>"
       ]
      },
      {
       "javascript": [
        "\n",
        "        var $myPB = $(\"div#bb0792ea-63ff-45bb-825a-3a8ec1bfdf5b\")\n",
        "        if ($myPB.hasClass('ui-progressbar')) {\n",
        "            $myPB.progressbar('value', 9);\n",
        "        } else {\n",
        "            $myPB.progressbar({value: 0, max: 98});\n",
        "        }\n",
        "        "
       ],
       "metadata": {},
       "output_type": "display_data",
       "text": [
        "<IPython.core.display.Javascript at 0x226ba048>"
       ]
      },
      {
       "javascript": [
        "$('div#1f64a032-a71d-4a68-ba1d-f094c0927e0d').text('ETA:  0:00:05');"
       ],
       "metadata": {},
       "output_type": "display_data",
       "text": [
        "<IPython.core.display.Javascript at 0x226bada0>"
       ]
      },
      {
       "javascript": [
        "$('div#a1d25a5e-1b26-4330-8656-8e50e2f63ced').text('10 of 98');"
       ],
       "metadata": {},
       "output_type": "display_data",
       "text": [
        "<IPython.core.display.Javascript at 0x226ba6a0>"
       ]
      },
      {
       "javascript": [
        "$('div#2a1cb8a8-487b-4b60-a4d7-bfd517a0794f').text(' 10%');"
       ],
       "metadata": {},
       "output_type": "display_data",
       "text": [
        "<IPython.core.display.Javascript at 0x226ba9b0>"
       ]
      },
      {
       "javascript": [
        "\n",
        "        var $myPB = $(\"div#bb0792ea-63ff-45bb-825a-3a8ec1bfdf5b\")\n",
        "        if ($myPB.hasClass('ui-progressbar')) {\n",
        "            $myPB.progressbar('value', 10);\n",
        "        } else {\n",
        "            $myPB.progressbar({value: 0, max: 98});\n",
        "        }\n",
        "        "
       ],
       "metadata": {},
       "output_type": "display_data",
       "text": [
        "<IPython.core.display.Javascript at 0x226bab38>"
       ]
      },
      {
       "javascript": [
        "$('div#1f64a032-a71d-4a68-ba1d-f094c0927e0d').text('ETA:  0:00:05');"
       ],
       "metadata": {},
       "output_type": "display_data",
       "text": [
        "<IPython.core.display.Javascript at 0x226bab38>"
       ]
      },
      {
       "javascript": [
        "$('div#a1d25a5e-1b26-4330-8656-8e50e2f63ced').text('11 of 98');"
       ],
       "metadata": {},
       "output_type": "display_data",
       "text": [
        "<IPython.core.display.Javascript at 0x19602f28>"
       ]
      },
      {
       "javascript": [
        "$('div#2a1cb8a8-487b-4b60-a4d7-bfd517a0794f').text(' 11%');"
       ],
       "metadata": {},
       "output_type": "display_data",
       "text": [
        "<IPython.core.display.Javascript at 0x19602f28>"
       ]
      },
      {
       "javascript": [
        "\n",
        "        var $myPB = $(\"div#bb0792ea-63ff-45bb-825a-3a8ec1bfdf5b\")\n",
        "        if ($myPB.hasClass('ui-progressbar')) {\n",
        "            $myPB.progressbar('value', 11);\n",
        "        } else {\n",
        "            $myPB.progressbar({value: 0, max: 98});\n",
        "        }\n",
        "        "
       ],
       "metadata": {},
       "output_type": "display_data",
       "text": [
        "<IPython.core.display.Javascript at 0x19602ba8>"
       ]
      },
      {
       "javascript": [
        "$('div#1f64a032-a71d-4a68-ba1d-f094c0927e0d').text('ETA:  0:00:04');"
       ],
       "metadata": {},
       "output_type": "display_data",
       "text": [
        "<IPython.core.display.Javascript at 0x196025f8>"
       ]
      },
      {
       "javascript": [
        "$('div#a1d25a5e-1b26-4330-8656-8e50e2f63ced').text('12 of 98');"
       ],
       "metadata": {},
       "output_type": "display_data",
       "text": [
        "<IPython.core.display.Javascript at 0x19602b38>"
       ]
      },
      {
       "javascript": [
        "$('div#2a1cb8a8-487b-4b60-a4d7-bfd517a0794f').text(' 12%');"
       ],
       "metadata": {},
       "output_type": "display_data",
       "text": [
        "<IPython.core.display.Javascript at 0x19602b38>"
       ]
      },
      {
       "javascript": [
        "\n",
        "        var $myPB = $(\"div#bb0792ea-63ff-45bb-825a-3a8ec1bfdf5b\")\n",
        "        if ($myPB.hasClass('ui-progressbar')) {\n",
        "            $myPB.progressbar('value', 12);\n",
        "        } else {\n",
        "            $myPB.progressbar({value: 0, max: 98});\n",
        "        }\n",
        "        "
       ],
       "metadata": {},
       "output_type": "display_data",
       "text": [
        "<IPython.core.display.Javascript at 0x19602160>"
       ]
      },
      {
       "javascript": [
        "$('div#1f64a032-a71d-4a68-ba1d-f094c0927e0d').text('ETA:  0:00:04');"
       ],
       "metadata": {},
       "output_type": "display_data",
       "text": [
        "<IPython.core.display.Javascript at 0x196025c0>"
       ]
      },
      {
       "javascript": [
        "$('div#a1d25a5e-1b26-4330-8656-8e50e2f63ced').text('13 of 98');"
       ],
       "metadata": {},
       "output_type": "display_data",
       "text": [
        "<IPython.core.display.Javascript at 0x19602630>"
       ]
      },
      {
       "javascript": [
        "$('div#2a1cb8a8-487b-4b60-a4d7-bfd517a0794f').text(' 13%');"
       ],
       "metadata": {},
       "output_type": "display_data",
       "text": [
        "<IPython.core.display.Javascript at 0x196020f0>"
       ]
      },
      {
       "javascript": [
        "\n",
        "        var $myPB = $(\"div#bb0792ea-63ff-45bb-825a-3a8ec1bfdf5b\")\n",
        "        if ($myPB.hasClass('ui-progressbar')) {\n",
        "            $myPB.progressbar('value', 13);\n",
        "        } else {\n",
        "            $myPB.progressbar({value: 0, max: 98});\n",
        "        }\n",
        "        "
       ],
       "metadata": {},
       "output_type": "display_data",
       "text": [
        "<IPython.core.display.Javascript at 0x196020f0>"
       ]
      },
      {
       "javascript": [
        "$('div#1f64a032-a71d-4a68-ba1d-f094c0927e0d').text('ETA:  0:00:04');"
       ],
       "metadata": {},
       "output_type": "display_data",
       "text": [
        "<IPython.core.display.Javascript at 0x19602da0>"
       ]
      },
      {
       "javascript": [
        "$('div#a1d25a5e-1b26-4330-8656-8e50e2f63ced').text('14 of 98');"
       ],
       "metadata": {},
       "output_type": "display_data",
       "text": [
        "<IPython.core.display.Javascript at 0x196029e8>"
       ]
      },
      {
       "javascript": [
        "$('div#2a1cb8a8-487b-4b60-a4d7-bfd517a0794f').text(' 14%');"
       ],
       "metadata": {},
       "output_type": "display_data",
       "text": [
        "<IPython.core.display.Javascript at 0x19602978>"
       ]
      },
      {
       "javascript": [
        "\n",
        "        var $myPB = $(\"div#bb0792ea-63ff-45bb-825a-3a8ec1bfdf5b\")\n",
        "        if ($myPB.hasClass('ui-progressbar')) {\n",
        "            $myPB.progressbar('value', 14);\n",
        "        } else {\n",
        "            $myPB.progressbar({value: 0, max: 98});\n",
        "        }\n",
        "        "
       ],
       "metadata": {},
       "output_type": "display_data",
       "text": [
        "<IPython.core.display.Javascript at 0x19602978>"
       ]
      },
      {
       "javascript": [
        "$('div#1f64a032-a71d-4a68-ba1d-f094c0927e0d').text('ETA:  0:00:03');"
       ],
       "metadata": {},
       "output_type": "display_data",
       "text": [
        "<IPython.core.display.Javascript at 0x19602fd0>"
       ]
      },
      {
       "javascript": [
        "$('div#a1d25a5e-1b26-4330-8656-8e50e2f63ced').text('15 of 98');"
       ],
       "metadata": {},
       "output_type": "display_data",
       "text": [
        "<IPython.core.display.Javascript at 0x17476940>"
       ]
      },
      {
       "javascript": [
        "$('div#2a1cb8a8-487b-4b60-a4d7-bfd517a0794f').text(' 15%');"
       ],
       "metadata": {},
       "output_type": "display_data",
       "text": [
        "<IPython.core.display.Javascript at 0x17476e48>"
       ]
      },
      {
       "javascript": [
        "\n",
        "        var $myPB = $(\"div#bb0792ea-63ff-45bb-825a-3a8ec1bfdf5b\")\n",
        "        if ($myPB.hasClass('ui-progressbar')) {\n",
        "            $myPB.progressbar('value', 15);\n",
        "        } else {\n",
        "            $myPB.progressbar({value: 0, max: 98});\n",
        "        }\n",
        "        "
       ],
       "metadata": {},
       "output_type": "display_data",
       "text": [
        "<IPython.core.display.Javascript at 0x174766a0>"
       ]
      },
      {
       "javascript": [
        "$('div#1f64a032-a71d-4a68-ba1d-f094c0927e0d').text('ETA:  0:00:03');"
       ],
       "metadata": {},
       "output_type": "display_data",
       "text": [
        "<IPython.core.display.Javascript at 0x174766a0>"
       ]
      },
      {
       "javascript": [
        "$('div#a1d25a5e-1b26-4330-8656-8e50e2f63ced').text('16 of 98');"
       ],
       "metadata": {},
       "output_type": "display_data",
       "text": [
        "<IPython.core.display.Javascript at 0x204c4978>"
       ]
      },
      {
       "javascript": [
        "$('div#2a1cb8a8-487b-4b60-a4d7-bfd517a0794f').text(' 16%');"
       ],
       "metadata": {},
       "output_type": "display_data",
       "text": [
        "<IPython.core.display.Javascript at 0x204c4da0>"
       ]
      },
      {
       "javascript": [
        "\n",
        "        var $myPB = $(\"div#bb0792ea-63ff-45bb-825a-3a8ec1bfdf5b\")\n",
        "        if ($myPB.hasClass('ui-progressbar')) {\n",
        "            $myPB.progressbar('value', 16);\n",
        "        } else {\n",
        "            $myPB.progressbar({value: 0, max: 98});\n",
        "        }\n",
        "        "
       ],
       "metadata": {},
       "output_type": "display_data",
       "text": [
        "<IPython.core.display.Javascript at 0x204c4da0>"
       ]
      },
      {
       "javascript": [
        "$('div#1f64a032-a71d-4a68-ba1d-f094c0927e0d').text('ETA:  0:00:03');"
       ],
       "metadata": {},
       "output_type": "display_data",
       "text": [
        "<IPython.core.display.Javascript at 0x204c48d0>"
       ]
      },
      {
       "javascript": [
        "$('div#a1d25a5e-1b26-4330-8656-8e50e2f63ced').text('17 of 98');"
       ],
       "metadata": {},
       "output_type": "display_data",
       "text": [
        "<IPython.core.display.Javascript at 0x20f466a0>"
       ]
      },
      {
       "javascript": [
        "$('div#2a1cb8a8-487b-4b60-a4d7-bfd517a0794f').text(' 17%');"
       ],
       "metadata": {},
       "output_type": "display_data",
       "text": [
        "<IPython.core.display.Javascript at 0x20f46320>"
       ]
      },
      {
       "javascript": [
        "\n",
        "        var $myPB = $(\"div#bb0792ea-63ff-45bb-825a-3a8ec1bfdf5b\")\n",
        "        if ($myPB.hasClass('ui-progressbar')) {\n",
        "            $myPB.progressbar('value', 17);\n",
        "        } else {\n",
        "            $myPB.progressbar({value: 0, max: 98});\n",
        "        }\n",
        "        "
       ],
       "metadata": {},
       "output_type": "display_data",
       "text": [
        "<IPython.core.display.Javascript at 0x20f46320>"
       ]
      },
      {
       "javascript": [
        "$('div#1f64a032-a71d-4a68-ba1d-f094c0927e0d').text('ETA:  0:00:03');"
       ],
       "metadata": {},
       "output_type": "display_data",
       "text": [
        "<IPython.core.display.Javascript at 0x20f46400>"
       ]
      },
      {
       "javascript": [
        "$('div#a1d25a5e-1b26-4330-8656-8e50e2f63ced').text('18 of 98');"
       ],
       "metadata": {},
       "output_type": "display_data",
       "text": [
        "<IPython.core.display.Javascript at 0x20f46f60>"
       ]
      },
      {
       "javascript": [
        "$('div#2a1cb8a8-487b-4b60-a4d7-bfd517a0794f').text(' 18%');"
       ],
       "metadata": {},
       "output_type": "display_data",
       "text": [
        "<IPython.core.display.Javascript at 0x20f463c8>"
       ]
      },
      {
       "javascript": [
        "\n",
        "        var $myPB = $(\"div#bb0792ea-63ff-45bb-825a-3a8ec1bfdf5b\")\n",
        "        if ($myPB.hasClass('ui-progressbar')) {\n",
        "            $myPB.progressbar('value', 18);\n",
        "        } else {\n",
        "            $myPB.progressbar({value: 0, max: 98});\n",
        "        }\n",
        "        "
       ],
       "metadata": {},
       "output_type": "display_data",
       "text": [
        "<IPython.core.display.Javascript at 0x20f463c8>"
       ]
      },
      {
       "javascript": [
        "$('div#1f64a032-a71d-4a68-ba1d-f094c0927e0d').text('ETA:  0:00:03');"
       ],
       "metadata": {},
       "output_type": "display_data",
       "text": [
        "<IPython.core.display.Javascript at 0x20f46ac8>"
       ]
      },
      {
       "javascript": [
        "$('div#a1d25a5e-1b26-4330-8656-8e50e2f63ced').text('19 of 98');"
       ],
       "metadata": {},
       "output_type": "display_data",
       "text": [
        "<IPython.core.display.Javascript at 0x20f464a8>"
       ]
      },
      {
       "javascript": [
        "$('div#2a1cb8a8-487b-4b60-a4d7-bfd517a0794f').text(' 19%');"
       ],
       "metadata": {},
       "output_type": "display_data",
       "text": [
        "<IPython.core.display.Javascript at 0x20f464a8>"
       ]
      },
      {
       "javascript": [
        "\n",
        "        var $myPB = $(\"div#bb0792ea-63ff-45bb-825a-3a8ec1bfdf5b\")\n",
        "        if ($myPB.hasClass('ui-progressbar')) {\n",
        "            $myPB.progressbar('value', 19);\n",
        "        } else {\n",
        "            $myPB.progressbar({value: 0, max: 98});\n",
        "        }\n",
        "        "
       ],
       "metadata": {},
       "output_type": "display_data",
       "text": [
        "<IPython.core.display.Javascript at 0x20f46780>"
       ]
      },
      {
       "javascript": [
        "$('div#1f64a032-a71d-4a68-ba1d-f094c0927e0d').text('ETA:  0:00:03');"
       ],
       "metadata": {},
       "output_type": "display_data",
       "text": [
        "<IPython.core.display.Javascript at 0x22a513c8>"
       ]
      },
      {
       "javascript": [
        "$('div#a1d25a5e-1b26-4330-8656-8e50e2f63ced').text('20 of 98');"
       ],
       "metadata": {},
       "output_type": "display_data",
       "text": [
        "<IPython.core.display.Javascript at 0x22a51da0>"
       ]
      },
      {
       "javascript": [
        "$('div#2a1cb8a8-487b-4b60-a4d7-bfd517a0794f').text(' 20%');"
       ],
       "metadata": {},
       "output_type": "display_data",
       "text": [
        "<IPython.core.display.Javascript at 0x22a51f60>"
       ]
      },
      {
       "javascript": [
        "\n",
        "        var $myPB = $(\"div#bb0792ea-63ff-45bb-825a-3a8ec1bfdf5b\")\n",
        "        if ($myPB.hasClass('ui-progressbar')) {\n",
        "            $myPB.progressbar('value', 20);\n",
        "        } else {\n",
        "            $myPB.progressbar({value: 0, max: 98});\n",
        "        }\n",
        "        "
       ],
       "metadata": {},
       "output_type": "display_data",
       "text": [
        "<IPython.core.display.Javascript at 0x22a51b38>"
       ]
      },
      {
       "javascript": [
        "$('div#1f64a032-a71d-4a68-ba1d-f094c0927e0d').text('ETA:  0:00:02');"
       ],
       "metadata": {},
       "output_type": "display_data",
       "text": [
        "<IPython.core.display.Javascript at 0x22a51a90>"
       ]
      },
      {
       "javascript": [
        "$('div#a1d25a5e-1b26-4330-8656-8e50e2f63ced').text('21 of 98');"
       ],
       "metadata": {},
       "output_type": "display_data",
       "text": [
        "<IPython.core.display.Javascript at 0x1c19bb00>"
       ]
      },
      {
       "javascript": [
        "$('div#2a1cb8a8-487b-4b60-a4d7-bfd517a0794f').text(' 21%');"
       ],
       "metadata": {},
       "output_type": "display_data",
       "text": [
        "<IPython.core.display.Javascript at 0x1c19b710>"
       ]
      },
      {
       "javascript": [
        "\n",
        "        var $myPB = $(\"div#bb0792ea-63ff-45bb-825a-3a8ec1bfdf5b\")\n",
        "        if ($myPB.hasClass('ui-progressbar')) {\n",
        "            $myPB.progressbar('value', 21);\n",
        "        } else {\n",
        "            $myPB.progressbar({value: 0, max: 98});\n",
        "        }\n",
        "        "
       ],
       "metadata": {},
       "output_type": "display_data",
       "text": [
        "<IPython.core.display.Javascript at 0x1c19b710>"
       ]
      },
      {
       "javascript": [
        "$('div#1f64a032-a71d-4a68-ba1d-f094c0927e0d').text('ETA:  0:00:02');"
       ],
       "metadata": {},
       "output_type": "display_data",
       "text": [
        "<IPython.core.display.Javascript at 0x1c19b1d0>"
       ]
      },
      {
       "javascript": [
        "$('div#a1d25a5e-1b26-4330-8656-8e50e2f63ced').text('22 of 98');"
       ],
       "metadata": {},
       "output_type": "display_data",
       "text": [
        "<IPython.core.display.Javascript at 0x1c19b160>"
       ]
      },
      {
       "javascript": [
        "$('div#2a1cb8a8-487b-4b60-a4d7-bfd517a0794f').text(' 22%');"
       ],
       "metadata": {},
       "output_type": "display_data",
       "text": [
        "<IPython.core.display.Javascript at 0x1c19b048>"
       ]
      },
      {
       "javascript": [
        "\n",
        "        var $myPB = $(\"div#bb0792ea-63ff-45bb-825a-3a8ec1bfdf5b\")\n",
        "        if ($myPB.hasClass('ui-progressbar')) {\n",
        "            $myPB.progressbar('value', 22);\n",
        "        } else {\n",
        "            $myPB.progressbar({value: 0, max: 98});\n",
        "        }\n",
        "        "
       ],
       "metadata": {},
       "output_type": "display_data",
       "text": [
        "<IPython.core.display.Javascript at 0x1c19b940>"
       ]
      },
      {
       "javascript": [
        "$('div#1f64a032-a71d-4a68-ba1d-f094c0927e0d').text('ETA:  0:00:02');"
       ],
       "metadata": {},
       "output_type": "display_data",
       "text": [
        "<IPython.core.display.Javascript at 0x1c19b940>"
       ]
      },
      {
       "javascript": [
        "$('div#a1d25a5e-1b26-4330-8656-8e50e2f63ced').text('23 of 98');"
       ],
       "metadata": {},
       "output_type": "display_data",
       "text": [
        "<IPython.core.display.Javascript at 0x1c19b6d8>"
       ]
      },
      {
       "javascript": [
        "$('div#2a1cb8a8-487b-4b60-a4d7-bfd517a0794f').text(' 23%');"
       ],
       "metadata": {},
       "output_type": "display_data",
       "text": [
        "<IPython.core.display.Javascript at 0x1c19bc50>"
       ]
      },
      {
       "javascript": [
        "\n",
        "        var $myPB = $(\"div#bb0792ea-63ff-45bb-825a-3a8ec1bfdf5b\")\n",
        "        if ($myPB.hasClass('ui-progressbar')) {\n",
        "            $myPB.progressbar('value', 23);\n",
        "        } else {\n",
        "            $myPB.progressbar({value: 0, max: 98});\n",
        "        }\n",
        "        "
       ],
       "metadata": {},
       "output_type": "display_data",
       "text": [
        "<IPython.core.display.Javascript at 0x1c19bc50>"
       ]
      },
      {
       "javascript": [
        "$('div#1f64a032-a71d-4a68-ba1d-f094c0927e0d').text('ETA:  0:00:02');"
       ],
       "metadata": {},
       "output_type": "display_data",
       "text": [
        "<IPython.core.display.Javascript at 0x1c19b5f8>"
       ]
      },
      {
       "javascript": [
        "$('div#a1d25a5e-1b26-4330-8656-8e50e2f63ced').text('24 of 98');"
       ],
       "metadata": {},
       "output_type": "display_data",
       "text": [
        "<IPython.core.display.Javascript at 0x229b7b38>"
       ]
      },
      {
       "javascript": [
        "$('div#2a1cb8a8-487b-4b60-a4d7-bfd517a0794f').text(' 24%');"
       ],
       "metadata": {},
       "output_type": "display_data",
       "text": [
        "<IPython.core.display.Javascript at 0x229b7e48>"
       ]
      },
      {
       "javascript": [
        "\n",
        "        var $myPB = $(\"div#bb0792ea-63ff-45bb-825a-3a8ec1bfdf5b\")\n",
        "        if ($myPB.hasClass('ui-progressbar')) {\n",
        "            $myPB.progressbar('value', 24);\n",
        "        } else {\n",
        "            $myPB.progressbar({value: 0, max: 98});\n",
        "        }\n",
        "        "
       ],
       "metadata": {},
       "output_type": "display_data",
       "text": [
        "<IPython.core.display.Javascript at 0x229b7ba8>"
       ]
      },
      {
       "javascript": [
        "$('div#1f64a032-a71d-4a68-ba1d-f094c0927e0d').text('ETA:  0:00:02');"
       ],
       "metadata": {},
       "output_type": "display_data",
       "text": [
        "<IPython.core.display.Javascript at 0x229b7e80>"
       ]
      },
      {
       "javascript": [
        "$('div#a1d25a5e-1b26-4330-8656-8e50e2f63ced').text('25 of 98');"
       ],
       "metadata": {},
       "output_type": "display_data",
       "text": [
        "<IPython.core.display.Javascript at 0x1b339780>"
       ]
      },
      {
       "javascript": [
        "$('div#2a1cb8a8-487b-4b60-a4d7-bfd517a0794f').text(' 25%');"
       ],
       "metadata": {},
       "output_type": "display_data",
       "text": [
        "<IPython.core.display.Javascript at 0x1b339a20>"
       ]
      },
      {
       "javascript": [
        "\n",
        "        var $myPB = $(\"div#bb0792ea-63ff-45bb-825a-3a8ec1bfdf5b\")\n",
        "        if ($myPB.hasClass('ui-progressbar')) {\n",
        "            $myPB.progressbar('value', 25);\n",
        "        } else {\n",
        "            $myPB.progressbar({value: 0, max: 98});\n",
        "        }\n",
        "        "
       ],
       "metadata": {},
       "output_type": "display_data",
       "text": [
        "<IPython.core.display.Javascript at 0x1b3392b0>"
       ]
      },
      {
       "javascript": [
        "$('div#1f64a032-a71d-4a68-ba1d-f094c0927e0d').text('ETA:  0:00:03');"
       ],
       "metadata": {},
       "output_type": "display_data",
       "text": [
        "<IPython.core.display.Javascript at 0x1b339358>"
       ]
      },
      {
       "javascript": [
        "$('div#a1d25a5e-1b26-4330-8656-8e50e2f63ced').text('26 of 98');"
       ],
       "metadata": {},
       "output_type": "display_data",
       "text": [
        "<IPython.core.display.Javascript at 0x1b339128>"
       ]
      },
      {
       "javascript": [
        "$('div#2a1cb8a8-487b-4b60-a4d7-bfd517a0794f').text(' 26%');"
       ],
       "metadata": {},
       "output_type": "display_data",
       "text": [
        "<IPython.core.display.Javascript at 0x1b339e80>"
       ]
      },
      {
       "javascript": [
        "\n",
        "        var $myPB = $(\"div#bb0792ea-63ff-45bb-825a-3a8ec1bfdf5b\")\n",
        "        if ($myPB.hasClass('ui-progressbar')) {\n",
        "            $myPB.progressbar('value', 26);\n",
        "        } else {\n",
        "            $myPB.progressbar({value: 0, max: 98});\n",
        "        }\n",
        "        "
       ],
       "metadata": {},
       "output_type": "display_data",
       "text": [
        "<IPython.core.display.Javascript at 0x1b339048>"
       ]
      },
      {
       "javascript": [
        "$('div#1f64a032-a71d-4a68-ba1d-f094c0927e0d').text('ETA:  0:00:03');"
       ],
       "metadata": {},
       "output_type": "display_data",
       "text": [
        "<IPython.core.display.Javascript at 0x1b339080>"
       ]
      },
      {
       "javascript": [
        "$('div#a1d25a5e-1b26-4330-8656-8e50e2f63ced').text('27 of 98');"
       ],
       "metadata": {},
       "output_type": "display_data",
       "text": [
        "<IPython.core.display.Javascript at 0x2207fc50>"
       ]
      },
      {
       "javascript": [
        "$('div#2a1cb8a8-487b-4b60-a4d7-bfd517a0794f').text(' 27%');"
       ],
       "metadata": {},
       "output_type": "display_data",
       "text": [
        "<IPython.core.display.Javascript at 0x2207f1d0>"
       ]
      },
      {
       "javascript": [
        "\n",
        "        var $myPB = $(\"div#bb0792ea-63ff-45bb-825a-3a8ec1bfdf5b\")\n",
        "        if ($myPB.hasClass('ui-progressbar')) {\n",
        "            $myPB.progressbar('value', 27);\n",
        "        } else {\n",
        "            $myPB.progressbar({value: 0, max: 98});\n",
        "        }\n",
        "        "
       ],
       "metadata": {},
       "output_type": "display_data",
       "text": [
        "<IPython.core.display.Javascript at 0x2207f470>"
       ]
      },
      {
       "javascript": [
        "$('div#1f64a032-a71d-4a68-ba1d-f094c0927e0d').text('ETA:  0:00:03');"
       ],
       "metadata": {},
       "output_type": "display_data",
       "text": [
        "<IPython.core.display.Javascript at 0x2207f470>"
       ]
      },
      {
       "javascript": [
        "$('div#a1d25a5e-1b26-4330-8656-8e50e2f63ced').text('28 of 98');"
       ],
       "metadata": {},
       "output_type": "display_data",
       "text": [
        "<IPython.core.display.Javascript at 0x21d67710>"
       ]
      },
      {
       "javascript": [
        "$('div#2a1cb8a8-487b-4b60-a4d7-bfd517a0794f').text(' 28%');"
       ],
       "metadata": {},
       "output_type": "display_data",
       "text": [
        "<IPython.core.display.Javascript at 0x21d673c8>"
       ]
      },
      {
       "javascript": [
        "\n",
        "        var $myPB = $(\"div#bb0792ea-63ff-45bb-825a-3a8ec1bfdf5b\")\n",
        "        if ($myPB.hasClass('ui-progressbar')) {\n",
        "            $myPB.progressbar('value', 28);\n",
        "        } else {\n",
        "            $myPB.progressbar({value: 0, max: 98});\n",
        "        }\n",
        "        "
       ],
       "metadata": {},
       "output_type": "display_data",
       "text": [
        "<IPython.core.display.Javascript at 0x21d67b70>"
       ]
      },
      {
       "javascript": [
        "$('div#1f64a032-a71d-4a68-ba1d-f094c0927e0d').text('ETA:  0:00:03');"
       ],
       "metadata": {},
       "output_type": "display_data",
       "text": [
        "<IPython.core.display.Javascript at 0x21d67588>"
       ]
      },
      {
       "javascript": [
        "$('div#a1d25a5e-1b26-4330-8656-8e50e2f63ced').text('29 of 98');"
       ],
       "metadata": {},
       "output_type": "display_data",
       "text": [
        "<IPython.core.display.Javascript at 0x21d67be0>"
       ]
      },
      {
       "javascript": [
        "$('div#2a1cb8a8-487b-4b60-a4d7-bfd517a0794f').text(' 29%');"
       ],
       "metadata": {},
       "output_type": "display_data",
       "text": [
        "<IPython.core.display.Javascript at 0x21d67940>"
       ]
      },
      {
       "javascript": [
        "\n",
        "        var $myPB = $(\"div#bb0792ea-63ff-45bb-825a-3a8ec1bfdf5b\")\n",
        "        if ($myPB.hasClass('ui-progressbar')) {\n",
        "            $myPB.progressbar('value', 29);\n",
        "        } else {\n",
        "            $myPB.progressbar({value: 0, max: 98});\n",
        "        }\n",
        "        "
       ],
       "metadata": {},
       "output_type": "display_data",
       "text": [
        "<IPython.core.display.Javascript at 0x21d677f0>"
       ]
      },
      {
       "javascript": [
        "$('div#1f64a032-a71d-4a68-ba1d-f094c0927e0d').text('ETA:  0:00:03');"
       ],
       "metadata": {},
       "output_type": "display_data",
       "text": [
        "<IPython.core.display.Javascript at 0x21d677f0>"
       ]
      },
      {
       "javascript": [
        "$('div#a1d25a5e-1b26-4330-8656-8e50e2f63ced').text('30 of 98');"
       ],
       "metadata": {},
       "output_type": "display_data",
       "text": [
        "<IPython.core.display.Javascript at 0x1bea6e10>"
       ]
      },
      {
       "javascript": [
        "$('div#2a1cb8a8-487b-4b60-a4d7-bfd517a0794f').text(' 30%');"
       ],
       "metadata": {},
       "output_type": "display_data",
       "text": [
        "<IPython.core.display.Javascript at 0x1bea60f0>"
       ]
      },
      {
       "javascript": [
        "\n",
        "        var $myPB = $(\"div#bb0792ea-63ff-45bb-825a-3a8ec1bfdf5b\")\n",
        "        if ($myPB.hasClass('ui-progressbar')) {\n",
        "            $myPB.progressbar('value', 30);\n",
        "        } else {\n",
        "            $myPB.progressbar({value: 0, max: 98});\n",
        "        }\n",
        "        "
       ],
       "metadata": {},
       "output_type": "display_data",
       "text": [
        "<IPython.core.display.Javascript at 0x1bea60f0>"
       ]
      },
      {
       "javascript": [
        "$('div#1f64a032-a71d-4a68-ba1d-f094c0927e0d').text('ETA:  0:00:03');"
       ],
       "metadata": {},
       "output_type": "display_data",
       "text": [
        "<IPython.core.display.Javascript at 0x1bea6e10>"
       ]
      },
      {
       "javascript": [
        "$('div#a1d25a5e-1b26-4330-8656-8e50e2f63ced').text('31 of 98');"
       ],
       "metadata": {},
       "output_type": "display_data",
       "text": [
        "<IPython.core.display.Javascript at 0x1a3c36a0>"
       ]
      },
      {
       "javascript": [
        "$('div#2a1cb8a8-487b-4b60-a4d7-bfd517a0794f').text(' 31%');"
       ],
       "metadata": {},
       "output_type": "display_data",
       "text": [
        "<IPython.core.display.Javascript at 0x1a3c3208>"
       ]
      },
      {
       "javascript": [
        "\n",
        "        var $myPB = $(\"div#bb0792ea-63ff-45bb-825a-3a8ec1bfdf5b\")\n",
        "        if ($myPB.hasClass('ui-progressbar')) {\n",
        "            $myPB.progressbar('value', 31);\n",
        "        } else {\n",
        "            $myPB.progressbar({value: 0, max: 98});\n",
        "        }\n",
        "        "
       ],
       "metadata": {},
       "output_type": "display_data",
       "text": [
        "<IPython.core.display.Javascript at 0x1a3c3f60>"
       ]
      },
      {
       "javascript": [
        "$('div#1f64a032-a71d-4a68-ba1d-f094c0927e0d').text('ETA:  0:00:03');"
       ],
       "metadata": {},
       "output_type": "display_data",
       "text": [
        "<IPython.core.display.Javascript at 0x1a3c3080>"
       ]
      },
      {
       "javascript": [
        "$('div#a1d25a5e-1b26-4330-8656-8e50e2f63ced').text('32 of 98');"
       ],
       "metadata": {},
       "output_type": "display_data",
       "text": [
        "<IPython.core.display.Javascript at 0x21408780>"
       ]
      },
      {
       "javascript": [
        "$('div#2a1cb8a8-487b-4b60-a4d7-bfd517a0794f').text(' 32%');"
       ],
       "metadata": {},
       "output_type": "display_data",
       "text": [
        "<IPython.core.display.Javascript at 0x214082e8>"
       ]
      },
      {
       "javascript": [
        "\n",
        "        var $myPB = $(\"div#bb0792ea-63ff-45bb-825a-3a8ec1bfdf5b\")\n",
        "        if ($myPB.hasClass('ui-progressbar')) {\n",
        "            $myPB.progressbar('value', 32);\n",
        "        } else {\n",
        "            $myPB.progressbar({value: 0, max: 98});\n",
        "        }\n",
        "        "
       ],
       "metadata": {},
       "output_type": "display_data",
       "text": [
        "<IPython.core.display.Javascript at 0x214082e8>"
       ]
      },
      {
       "javascript": [
        "$('div#1f64a032-a71d-4a68-ba1d-f094c0927e0d').text('ETA:  0:00:03');"
       ],
       "metadata": {},
       "output_type": "display_data",
       "text": [
        "<IPython.core.display.Javascript at 0x21408080>"
       ]
      },
      {
       "javascript": [
        "$('div#a1d25a5e-1b26-4330-8656-8e50e2f63ced').text('33 of 98');"
       ],
       "metadata": {},
       "output_type": "display_data",
       "text": [
        "<IPython.core.display.Javascript at 0x214088d0>"
       ]
      },
      {
       "javascript": [
        "$('div#2a1cb8a8-487b-4b60-a4d7-bfd517a0794f').text(' 33%');"
       ],
       "metadata": {},
       "output_type": "display_data",
       "text": [
        "<IPython.core.display.Javascript at 0x21408198>"
       ]
      },
      {
       "javascript": [
        "\n",
        "        var $myPB = $(\"div#bb0792ea-63ff-45bb-825a-3a8ec1bfdf5b\")\n",
        "        if ($myPB.hasClass('ui-progressbar')) {\n",
        "            $myPB.progressbar('value', 33);\n",
        "        } else {\n",
        "            $myPB.progressbar({value: 0, max: 98});\n",
        "        }\n",
        "        "
       ],
       "metadata": {},
       "output_type": "display_data",
       "text": [
        "<IPython.core.display.Javascript at 0x21408f98>"
       ]
      },
      {
       "javascript": [
        "$('div#1f64a032-a71d-4a68-ba1d-f094c0927e0d').text('ETA:  0:00:02');"
       ],
       "metadata": {},
       "output_type": "display_data",
       "text": [
        "<IPython.core.display.Javascript at 0x21408f98>"
       ]
      },
      {
       "javascript": [
        "$('div#a1d25a5e-1b26-4330-8656-8e50e2f63ced').text('34 of 98');"
       ],
       "metadata": {},
       "output_type": "display_data",
       "text": [
        "<IPython.core.display.Javascript at 0x21408860>"
       ]
      },
      {
       "javascript": [
        "$('div#2a1cb8a8-487b-4b60-a4d7-bfd517a0794f').text(' 34%');"
       ],
       "metadata": {},
       "output_type": "display_data",
       "text": [
        "<IPython.core.display.Javascript at 0x21408fd0>"
       ]
      },
      {
       "javascript": [
        "\n",
        "        var $myPB = $(\"div#bb0792ea-63ff-45bb-825a-3a8ec1bfdf5b\")\n",
        "        if ($myPB.hasClass('ui-progressbar')) {\n",
        "            $myPB.progressbar('value', 34);\n",
        "        } else {\n",
        "            $myPB.progressbar({value: 0, max: 98});\n",
        "        }\n",
        "        "
       ],
       "metadata": {},
       "output_type": "display_data",
       "text": [
        "<IPython.core.display.Javascript at 0x21408fd0>"
       ]
      },
      {
       "javascript": [
        "$('div#1f64a032-a71d-4a68-ba1d-f094c0927e0d').text('ETA:  0:00:02');"
       ],
       "metadata": {},
       "output_type": "display_data",
       "text": [
        "<IPython.core.display.Javascript at 0x21408ac8>"
       ]
      },
      {
       "javascript": [
        "$('div#a1d25a5e-1b26-4330-8656-8e50e2f63ced').text('35 of 98');"
       ],
       "metadata": {},
       "output_type": "display_data",
       "text": [
        "<IPython.core.display.Javascript at 0x21408b70>"
       ]
      },
      {
       "javascript": [
        "$('div#2a1cb8a8-487b-4b60-a4d7-bfd517a0794f').text(' 35%');"
       ],
       "metadata": {},
       "output_type": "display_data",
       "text": [
        "<IPython.core.display.Javascript at 0x23857780>"
       ]
      },
      {
       "javascript": [
        "\n",
        "        var $myPB = $(\"div#bb0792ea-63ff-45bb-825a-3a8ec1bfdf5b\")\n",
        "        if ($myPB.hasClass('ui-progressbar')) {\n",
        "            $myPB.progressbar('value', 35);\n",
        "        } else {\n",
        "            $myPB.progressbar({value: 0, max: 98});\n",
        "        }\n",
        "        "
       ],
       "metadata": {},
       "output_type": "display_data",
       "text": [
        "<IPython.core.display.Javascript at 0x23857860>"
       ]
      },
      {
       "javascript": [
        "$('div#1f64a032-a71d-4a68-ba1d-f094c0927e0d').text('ETA:  0:00:02');"
       ],
       "metadata": {},
       "output_type": "display_data",
       "text": [
        "<IPython.core.display.Javascript at 0x23857320>"
       ]
      },
      {
       "javascript": [
        "$('div#a1d25a5e-1b26-4330-8656-8e50e2f63ced').text('36 of 98');"
       ],
       "metadata": {},
       "output_type": "display_data",
       "text": [
        "<IPython.core.display.Javascript at 0x238577b8>"
       ]
      },
      {
       "javascript": [
        "$('div#2a1cb8a8-487b-4b60-a4d7-bfd517a0794f').text(' 36%');"
       ],
       "metadata": {},
       "output_type": "display_data",
       "text": [
        "<IPython.core.display.Javascript at 0x238579b0>"
       ]
      },
      {
       "javascript": [
        "\n",
        "        var $myPB = $(\"div#bb0792ea-63ff-45bb-825a-3a8ec1bfdf5b\")\n",
        "        if ($myPB.hasClass('ui-progressbar')) {\n",
        "            $myPB.progressbar('value', 36);\n",
        "        } else {\n",
        "            $myPB.progressbar({value: 0, max: 98});\n",
        "        }\n",
        "        "
       ],
       "metadata": {},
       "output_type": "display_data",
       "text": [
        "<IPython.core.display.Javascript at 0x23857eb8>"
       ]
      },
      {
       "javascript": [
        "$('div#1f64a032-a71d-4a68-ba1d-f094c0927e0d').text('ETA:  0:00:02');"
       ],
       "metadata": {},
       "output_type": "display_data",
       "text": [
        "<IPython.core.display.Javascript at 0x23857da0>"
       ]
      },
      {
       "javascript": [
        "$('div#a1d25a5e-1b26-4330-8656-8e50e2f63ced').text('37 of 98');"
       ],
       "metadata": {},
       "output_type": "display_data",
       "text": [
        "<IPython.core.display.Javascript at 0x21759128>"
       ]
      },
      {
       "javascript": [
        "$('div#2a1cb8a8-487b-4b60-a4d7-bfd517a0794f').text(' 37%');"
       ],
       "metadata": {},
       "output_type": "display_data",
       "text": [
        "<IPython.core.display.Javascript at 0x21759320>"
       ]
      },
      {
       "javascript": [
        "\n",
        "        var $myPB = $(\"div#bb0792ea-63ff-45bb-825a-3a8ec1bfdf5b\")\n",
        "        if ($myPB.hasClass('ui-progressbar')) {\n",
        "            $myPB.progressbar('value', 37);\n",
        "        } else {\n",
        "            $myPB.progressbar({value: 0, max: 98});\n",
        "        }\n",
        "        "
       ],
       "metadata": {},
       "output_type": "display_data",
       "text": [
        "<IPython.core.display.Javascript at 0x217594e0>"
       ]
      },
      {
       "javascript": [
        "$('div#1f64a032-a71d-4a68-ba1d-f094c0927e0d').text('ETA:  0:00:02');"
       ],
       "metadata": {},
       "output_type": "display_data",
       "text": [
        "<IPython.core.display.Javascript at 0x217594e0>"
       ]
      },
      {
       "javascript": [
        "$('div#a1d25a5e-1b26-4330-8656-8e50e2f63ced').text('38 of 98');"
       ],
       "metadata": {},
       "output_type": "display_data",
       "text": [
        "<IPython.core.display.Javascript at 0x217594e0>"
       ]
      },
      {
       "javascript": [
        "$('div#2a1cb8a8-487b-4b60-a4d7-bfd517a0794f').text(' 38%');"
       ],
       "metadata": {},
       "output_type": "display_data",
       "text": [
        "<IPython.core.display.Javascript at 0x21759da0>"
       ]
      },
      {
       "javascript": [
        "\n",
        "        var $myPB = $(\"div#bb0792ea-63ff-45bb-825a-3a8ec1bfdf5b\")\n",
        "        if ($myPB.hasClass('ui-progressbar')) {\n",
        "            $myPB.progressbar('value', 38);\n",
        "        } else {\n",
        "            $myPB.progressbar({value: 0, max: 98});\n",
        "        }\n",
        "        "
       ],
       "metadata": {},
       "output_type": "display_data",
       "text": [
        "<IPython.core.display.Javascript at 0x21759278>"
       ]
      },
      {
       "javascript": [
        "$('div#1f64a032-a71d-4a68-ba1d-f094c0927e0d').text('ETA:  0:00:02');"
       ],
       "metadata": {},
       "output_type": "display_data",
       "text": [
        "<IPython.core.display.Javascript at 0x21759898>"
       ]
      },
      {
       "javascript": [
        "$('div#a1d25a5e-1b26-4330-8656-8e50e2f63ced').text('39 of 98');"
       ],
       "metadata": {},
       "output_type": "display_data",
       "text": [
        "<IPython.core.display.Javascript at 0x217596a0>"
       ]
      },
      {
       "javascript": [
        "$('div#2a1cb8a8-487b-4b60-a4d7-bfd517a0794f').text(' 39%');"
       ],
       "metadata": {},
       "output_type": "display_data",
       "text": [
        "<IPython.core.display.Javascript at 0x21759a58>"
       ]
      },
      {
       "javascript": [
        "\n",
        "        var $myPB = $(\"div#bb0792ea-63ff-45bb-825a-3a8ec1bfdf5b\")\n",
        "        if ($myPB.hasClass('ui-progressbar')) {\n",
        "            $myPB.progressbar('value', 39);\n",
        "        } else {\n",
        "            $myPB.progressbar({value: 0, max: 98});\n",
        "        }\n",
        "        "
       ],
       "metadata": {},
       "output_type": "display_data",
       "text": [
        "<IPython.core.display.Javascript at 0x21759080>"
       ]
      },
      {
       "javascript": [
        "$('div#1f64a032-a71d-4a68-ba1d-f094c0927e0d').text('ETA:  0:00:02');"
       ],
       "metadata": {},
       "output_type": "display_data",
       "text": [
        "<IPython.core.display.Javascript at 0x21759470>"
       ]
      },
      {
       "javascript": [
        "$('div#a1d25a5e-1b26-4330-8656-8e50e2f63ced').text('40 of 98');"
       ],
       "metadata": {},
       "output_type": "display_data",
       "text": [
        "<IPython.core.display.Javascript at 0x20792898>"
       ]
      },
      {
       "javascript": [
        "$('div#2a1cb8a8-487b-4b60-a4d7-bfd517a0794f').text(' 40%');"
       ],
       "metadata": {},
       "output_type": "display_data",
       "text": [
        "<IPython.core.display.Javascript at 0x20792ac8>"
       ]
      },
      {
       "javascript": [
        "\n",
        "        var $myPB = $(\"div#bb0792ea-63ff-45bb-825a-3a8ec1bfdf5b\")\n",
        "        if ($myPB.hasClass('ui-progressbar')) {\n",
        "            $myPB.progressbar('value', 40);\n",
        "        } else {\n",
        "            $myPB.progressbar({value: 0, max: 98});\n",
        "        }\n",
        "        "
       ],
       "metadata": {},
       "output_type": "display_data",
       "text": [
        "<IPython.core.display.Javascript at 0x20792a20>"
       ]
      },
      {
       "javascript": [
        "$('div#1f64a032-a71d-4a68-ba1d-f094c0927e0d').text('ETA:  0:00:02');"
       ],
       "metadata": {},
       "output_type": "display_data",
       "text": [
        "<IPython.core.display.Javascript at 0x20792ba8>"
       ]
      },
      {
       "javascript": [
        "$('div#a1d25a5e-1b26-4330-8656-8e50e2f63ced').text('41 of 98');"
       ],
       "metadata": {},
       "output_type": "display_data",
       "text": [
        "<IPython.core.display.Javascript at 0x20792d30>"
       ]
      },
      {
       "javascript": [
        "$('div#2a1cb8a8-487b-4b60-a4d7-bfd517a0794f').text(' 41%');"
       ],
       "metadata": {},
       "output_type": "display_data",
       "text": [
        "<IPython.core.display.Javascript at 0x20792c18>"
       ]
      },
      {
       "javascript": [
        "\n",
        "        var $myPB = $(\"div#bb0792ea-63ff-45bb-825a-3a8ec1bfdf5b\")\n",
        "        if ($myPB.hasClass('ui-progressbar')) {\n",
        "            $myPB.progressbar('value', 41);\n",
        "        } else {\n",
        "            $myPB.progressbar({value: 0, max: 98});\n",
        "        }\n",
        "        "
       ],
       "metadata": {},
       "output_type": "display_data",
       "text": [
        "<IPython.core.display.Javascript at 0x20792fd0>"
       ]
      },
      {
       "javascript": [
        "$('div#1f64a032-a71d-4a68-ba1d-f094c0927e0d').text('ETA:  0:00:02');"
       ],
       "metadata": {},
       "output_type": "display_data",
       "text": [
        "<IPython.core.display.Javascript at 0x20792198>"
       ]
      },
      {
       "javascript": [
        "$('div#a1d25a5e-1b26-4330-8656-8e50e2f63ced').text('42 of 98');"
       ],
       "metadata": {},
       "output_type": "display_data",
       "text": [
        "<IPython.core.display.Javascript at 0x20792320>"
       ]
      },
      {
       "javascript": [
        "$('div#2a1cb8a8-487b-4b60-a4d7-bfd517a0794f').text(' 42%');"
       ],
       "metadata": {},
       "output_type": "display_data",
       "text": [
        "<IPython.core.display.Javascript at 0x20792588>"
       ]
      },
      {
       "javascript": [
        "\n",
        "        var $myPB = $(\"div#bb0792ea-63ff-45bb-825a-3a8ec1bfdf5b\")\n",
        "        if ($myPB.hasClass('ui-progressbar')) {\n",
        "            $myPB.progressbar('value', 42);\n",
        "        } else {\n",
        "            $myPB.progressbar({value: 0, max: 98});\n",
        "        }\n",
        "        "
       ],
       "metadata": {},
       "output_type": "display_data",
       "text": [
        "<IPython.core.display.Javascript at 0x20792c18>"
       ]
      },
      {
       "javascript": [
        "$('div#1f64a032-a71d-4a68-ba1d-f094c0927e0d').text('ETA:  0:00:02');"
       ],
       "metadata": {},
       "output_type": "display_data",
       "text": [
        "<IPython.core.display.Javascript at 0x20792c18>"
       ]
      },
      {
       "javascript": [
        "$('div#a1d25a5e-1b26-4330-8656-8e50e2f63ced').text('43 of 98');"
       ],
       "metadata": {},
       "output_type": "display_data",
       "text": [
        "<IPython.core.display.Javascript at 0x20792d30>"
       ]
      },
      {
       "javascript": [
        "$('div#2a1cb8a8-487b-4b60-a4d7-bfd517a0794f').text(' 43%');"
       ],
       "metadata": {},
       "output_type": "display_data",
       "text": [
        "<IPython.core.display.Javascript at 0x1f2bc8d0>"
       ]
      },
      {
       "javascript": [
        "\n",
        "        var $myPB = $(\"div#bb0792ea-63ff-45bb-825a-3a8ec1bfdf5b\")\n",
        "        if ($myPB.hasClass('ui-progressbar')) {\n",
        "            $myPB.progressbar('value', 43);\n",
        "        } else {\n",
        "            $myPB.progressbar({value: 0, max: 98});\n",
        "        }\n",
        "        "
       ],
       "metadata": {},
       "output_type": "display_data",
       "text": [
        "<IPython.core.display.Javascript at 0x1f2bcef0>"
       ]
      },
      {
       "javascript": [
        "$('div#1f64a032-a71d-4a68-ba1d-f094c0927e0d').text('ETA:  0:00:02');"
       ],
       "metadata": {},
       "output_type": "display_data",
       "text": [
        "<IPython.core.display.Javascript at 0x20792d30>"
       ]
      },
      {
       "javascript": [
        "$('div#a1d25a5e-1b26-4330-8656-8e50e2f63ced').text('44 of 98');"
       ],
       "metadata": {},
       "output_type": "display_data",
       "text": [
        "<IPython.core.display.Javascript at 0x1f2bce80>"
       ]
      },
      {
       "javascript": [
        "$('div#2a1cb8a8-487b-4b60-a4d7-bfd517a0794f').text(' 44%');"
       ],
       "metadata": {},
       "output_type": "display_data",
       "text": [
        "<IPython.core.display.Javascript at 0x1f2bcc18>"
       ]
      },
      {
       "javascript": [
        "\n",
        "        var $myPB = $(\"div#bb0792ea-63ff-45bb-825a-3a8ec1bfdf5b\")\n",
        "        if ($myPB.hasClass('ui-progressbar')) {\n",
        "            $myPB.progressbar('value', 44);\n",
        "        } else {\n",
        "            $myPB.progressbar({value: 0, max: 98});\n",
        "        }\n",
        "        "
       ],
       "metadata": {},
       "output_type": "display_data",
       "text": [
        "<IPython.core.display.Javascript at 0x1f2bca90>"
       ]
      },
      {
       "javascript": [
        "$('div#1f64a032-a71d-4a68-ba1d-f094c0927e0d').text('ETA:  0:00:02');"
       ],
       "metadata": {},
       "output_type": "display_data",
       "text": [
        "<IPython.core.display.Javascript at 0x20792d30>"
       ]
      },
      {
       "javascript": [
        "$('div#a1d25a5e-1b26-4330-8656-8e50e2f63ced').text('45 of 98');"
       ],
       "metadata": {},
       "output_type": "display_data",
       "text": [
        "<IPython.core.display.Javascript at 0x1f2bcd30>"
       ]
      },
      {
       "javascript": [
        "$('div#2a1cb8a8-487b-4b60-a4d7-bfd517a0794f').text(' 45%');"
       ],
       "metadata": {},
       "output_type": "display_data",
       "text": [
        "<IPython.core.display.Javascript at 0x20792d30>"
       ]
      },
      {
       "javascript": [
        "\n",
        "        var $myPB = $(\"div#bb0792ea-63ff-45bb-825a-3a8ec1bfdf5b\")\n",
        "        if ($myPB.hasClass('ui-progressbar')) {\n",
        "            $myPB.progressbar('value', 45);\n",
        "        } else {\n",
        "            $myPB.progressbar({value: 0, max: 98});\n",
        "        }\n",
        "        "
       ],
       "metadata": {},
       "output_type": "display_data",
       "text": [
        "<IPython.core.display.Javascript at 0x1f2bcd30>"
       ]
      },
      {
       "javascript": [
        "$('div#1f64a032-a71d-4a68-ba1d-f094c0927e0d').text('ETA:  0:00:01');"
       ],
       "metadata": {},
       "output_type": "display_data",
       "text": [
        "<IPython.core.display.Javascript at 0x1f2bceb8>"
       ]
      },
      {
       "javascript": [
        "$('div#a1d25a5e-1b26-4330-8656-8e50e2f63ced').text('46 of 98');"
       ],
       "metadata": {},
       "output_type": "display_data",
       "text": [
        "<IPython.core.display.Javascript at 0x1f2bc940>"
       ]
      },
      {
       "javascript": [
        "$('div#2a1cb8a8-487b-4b60-a4d7-bfd517a0794f').text(' 46%');"
       ],
       "metadata": {},
       "output_type": "display_data",
       "text": [
        "<IPython.core.display.Javascript at 0x1f2bcdd8>"
       ]
      },
      {
       "javascript": [
        "\n",
        "        var $myPB = $(\"div#bb0792ea-63ff-45bb-825a-3a8ec1bfdf5b\")\n",
        "        if ($myPB.hasClass('ui-progressbar')) {\n",
        "            $myPB.progressbar('value', 46);\n",
        "        } else {\n",
        "            $myPB.progressbar({value: 0, max: 98});\n",
        "        }\n",
        "        "
       ],
       "metadata": {},
       "output_type": "display_data",
       "text": [
        "<IPython.core.display.Javascript at 0x1f2bc5f8>"
       ]
      },
      {
       "javascript": [
        "$('div#1f64a032-a71d-4a68-ba1d-f094c0927e0d').text('ETA:  0:00:01');"
       ],
       "metadata": {},
       "output_type": "display_data",
       "text": [
        "<IPython.core.display.Javascript at 0x1f2bcc50>"
       ]
      },
      {
       "javascript": [
        "$('div#a1d25a5e-1b26-4330-8656-8e50e2f63ced').text('47 of 98');"
       ],
       "metadata": {},
       "output_type": "display_data",
       "text": [
        "<IPython.core.display.Javascript at 0x1f2bc0f0>"
       ]
      },
      {
       "javascript": [
        "$('div#2a1cb8a8-487b-4b60-a4d7-bfd517a0794f').text(' 47%');"
       ],
       "metadata": {},
       "output_type": "display_data",
       "text": [
        "<IPython.core.display.Javascript at 0x1f2bc0f0>"
       ]
      },
      {
       "javascript": [
        "\n",
        "        var $myPB = $(\"div#bb0792ea-63ff-45bb-825a-3a8ec1bfdf5b\")\n",
        "        if ($myPB.hasClass('ui-progressbar')) {\n",
        "            $myPB.progressbar('value', 47);\n",
        "        } else {\n",
        "            $myPB.progressbar({value: 0, max: 98});\n",
        "        }\n",
        "        "
       ],
       "metadata": {},
       "output_type": "display_data",
       "text": [
        "<IPython.core.display.Javascript at 0x1f2bc160>"
       ]
      },
      {
       "javascript": [
        "$('div#1f64a032-a71d-4a68-ba1d-f094c0927e0d').text('ETA:  0:00:01');"
       ],
       "metadata": {},
       "output_type": "display_data",
       "text": [
        "<IPython.core.display.Javascript at 0x23013dd8>"
       ]
      },
      {
       "javascript": [
        "$('div#a1d25a5e-1b26-4330-8656-8e50e2f63ced').text('48 of 98');"
       ],
       "metadata": {},
       "output_type": "display_data",
       "text": [
        "<IPython.core.display.Javascript at 0x230134a8>"
       ]
      },
      {
       "javascript": [
        "$('div#2a1cb8a8-487b-4b60-a4d7-bfd517a0794f').text(' 48%');"
       ],
       "metadata": {},
       "output_type": "display_data",
       "text": [
        "<IPython.core.display.Javascript at 0x23013128>"
       ]
      },
      {
       "javascript": [
        "\n",
        "        var $myPB = $(\"div#bb0792ea-63ff-45bb-825a-3a8ec1bfdf5b\")\n",
        "        if ($myPB.hasClass('ui-progressbar')) {\n",
        "            $myPB.progressbar('value', 48);\n",
        "        } else {\n",
        "            $myPB.progressbar({value: 0, max: 98});\n",
        "        }\n",
        "        "
       ],
       "metadata": {},
       "output_type": "display_data",
       "text": [
        "<IPython.core.display.Javascript at 0x230131d0>"
       ]
      },
      {
       "javascript": [
        "$('div#1f64a032-a71d-4a68-ba1d-f094c0927e0d').text('ETA:  0:00:01');"
       ],
       "metadata": {},
       "output_type": "display_data",
       "text": [
        "<IPython.core.display.Javascript at 0x23013898>"
       ]
      },
      {
       "javascript": [
        "$('div#a1d25a5e-1b26-4330-8656-8e50e2f63ced').text('49 of 98');"
       ],
       "metadata": {},
       "output_type": "display_data",
       "text": [
        "<IPython.core.display.Javascript at 0x23013a20>"
       ]
      },
      {
       "javascript": [
        "$('div#2a1cb8a8-487b-4b60-a4d7-bfd517a0794f').text(' 50%');"
       ],
       "metadata": {},
       "output_type": "display_data",
       "text": [
        "<IPython.core.display.Javascript at 0x23013630>"
       ]
      },
      {
       "javascript": [
        "\n",
        "        var $myPB = $(\"div#bb0792ea-63ff-45bb-825a-3a8ec1bfdf5b\")\n",
        "        if ($myPB.hasClass('ui-progressbar')) {\n",
        "            $myPB.progressbar('value', 49);\n",
        "        } else {\n",
        "            $myPB.progressbar({value: 0, max: 98});\n",
        "        }\n",
        "        "
       ],
       "metadata": {},
       "output_type": "display_data",
       "text": [
        "<IPython.core.display.Javascript at 0x23013630>"
       ]
      },
      {
       "javascript": [
        "$('div#1f64a032-a71d-4a68-ba1d-f094c0927e0d').text('ETA:  0:00:01');"
       ],
       "metadata": {},
       "output_type": "display_data",
       "text": [
        "<IPython.core.display.Javascript at 0x23013278>"
       ]
      },
      {
       "javascript": [
        "$('div#a1d25a5e-1b26-4330-8656-8e50e2f63ced').text('50 of 98');"
       ],
       "metadata": {},
       "output_type": "display_data",
       "text": [
        "<IPython.core.display.Javascript at 0x23013fd0>"
       ]
      },
      {
       "javascript": [
        "$('div#2a1cb8a8-487b-4b60-a4d7-bfd517a0794f').text(' 51%');"
       ],
       "metadata": {},
       "output_type": "display_data",
       "text": [
        "<IPython.core.display.Javascript at 0x23013d68>"
       ]
      },
      {
       "javascript": [
        "\n",
        "        var $myPB = $(\"div#bb0792ea-63ff-45bb-825a-3a8ec1bfdf5b\")\n",
        "        if ($myPB.hasClass('ui-progressbar')) {\n",
        "            $myPB.progressbar('value', 50);\n",
        "        } else {\n",
        "            $myPB.progressbar({value: 0, max: 98});\n",
        "        }\n",
        "        "
       ],
       "metadata": {},
       "output_type": "display_data",
       "text": [
        "<IPython.core.display.Javascript at 0x23013748>"
       ]
      },
      {
       "javascript": [
        "$('div#1f64a032-a71d-4a68-ba1d-f094c0927e0d').text('ETA:  0:00:01');"
       ],
       "metadata": {},
       "output_type": "display_data",
       "text": [
        "<IPython.core.display.Javascript at 0x23013748>"
       ]
      },
      {
       "javascript": [
        "$('div#a1d25a5e-1b26-4330-8656-8e50e2f63ced').text('51 of 98');"
       ],
       "metadata": {},
       "output_type": "display_data",
       "text": [
        "<IPython.core.display.Javascript at 0x23891ef0>"
       ]
      },
      {
       "javascript": [
        "$('div#2a1cb8a8-487b-4b60-a4d7-bfd517a0794f').text(' 52%');"
       ],
       "metadata": {},
       "output_type": "display_data",
       "text": [
        "<IPython.core.display.Javascript at 0x23891ef0>"
       ]
      },
      {
       "javascript": [
        "\n",
        "        var $myPB = $(\"div#bb0792ea-63ff-45bb-825a-3a8ec1bfdf5b\")\n",
        "        if ($myPB.hasClass('ui-progressbar')) {\n",
        "            $myPB.progressbar('value', 51);\n",
        "        } else {\n",
        "            $myPB.progressbar({value: 0, max: 98});\n",
        "        }\n",
        "        "
       ],
       "metadata": {},
       "output_type": "display_data",
       "text": [
        "<IPython.core.display.Javascript at 0x23891f60>"
       ]
      },
      {
       "javascript": [
        "$('div#1f64a032-a71d-4a68-ba1d-f094c0927e0d').text('ETA:  0:00:01');"
       ],
       "metadata": {},
       "output_type": "display_data",
       "text": [
        "<IPython.core.display.Javascript at 0x23891e80>"
       ]
      },
      {
       "javascript": [
        "$('div#a1d25a5e-1b26-4330-8656-8e50e2f63ced').text('52 of 98');"
       ],
       "metadata": {},
       "output_type": "display_data",
       "text": [
        "<IPython.core.display.Javascript at 0x20adb8d0>"
       ]
      },
      {
       "javascript": [
        "$('div#2a1cb8a8-487b-4b60-a4d7-bfd517a0794f').text(' 53%');"
       ],
       "metadata": {},
       "output_type": "display_data",
       "text": [
        "<IPython.core.display.Javascript at 0x20adb978>"
       ]
      },
      {
       "javascript": [
        "\n",
        "        var $myPB = $(\"div#bb0792ea-63ff-45bb-825a-3a8ec1bfdf5b\")\n",
        "        if ($myPB.hasClass('ui-progressbar')) {\n",
        "            $myPB.progressbar('value', 52);\n",
        "        } else {\n",
        "            $myPB.progressbar({value: 0, max: 98});\n",
        "        }\n",
        "        "
       ],
       "metadata": {},
       "output_type": "display_data",
       "text": [
        "<IPython.core.display.Javascript at 0x20adbeb8>"
       ]
      },
      {
       "javascript": [
        "$('div#1f64a032-a71d-4a68-ba1d-f094c0927e0d').text('ETA:  0:00:01');"
       ],
       "metadata": {},
       "output_type": "display_data",
       "text": [
        "<IPython.core.display.Javascript at 0x20adbeb8>"
       ]
      },
      {
       "javascript": [
        "$('div#a1d25a5e-1b26-4330-8656-8e50e2f63ced').text('53 of 98');"
       ],
       "metadata": {},
       "output_type": "display_data",
       "text": [
        "<IPython.core.display.Javascript at 0x2035ec50>"
       ]
      },
      {
       "javascript": [
        "$('div#2a1cb8a8-487b-4b60-a4d7-bfd517a0794f').text(' 54%');"
       ],
       "metadata": {},
       "output_type": "display_data",
       "text": [
        "<IPython.core.display.Javascript at 0x2035ec50>"
       ]
      },
      {
       "javascript": [
        "\n",
        "        var $myPB = $(\"div#bb0792ea-63ff-45bb-825a-3a8ec1bfdf5b\")\n",
        "        if ($myPB.hasClass('ui-progressbar')) {\n",
        "            $myPB.progressbar('value', 53);\n",
        "        } else {\n",
        "            $myPB.progressbar({value: 0, max: 98});\n",
        "        }\n",
        "        "
       ],
       "metadata": {},
       "output_type": "display_data",
       "text": [
        "<IPython.core.display.Javascript at 0x2035e6d8>"
       ]
      },
      {
       "javascript": [
        "$('div#1f64a032-a71d-4a68-ba1d-f094c0927e0d').text('ETA:  0:00:01');"
       ],
       "metadata": {},
       "output_type": "display_data",
       "text": [
        "<IPython.core.display.Javascript at 0x2035e630>"
       ]
      },
      {
       "javascript": [
        "$('div#a1d25a5e-1b26-4330-8656-8e50e2f63ced').text('54 of 98');"
       ],
       "metadata": {},
       "output_type": "display_data",
       "text": [
        "<IPython.core.display.Javascript at 0x22581438>"
       ]
      },
      {
       "javascript": [
        "$('div#2a1cb8a8-487b-4b60-a4d7-bfd517a0794f').text(' 55%');"
       ],
       "metadata": {},
       "output_type": "display_data",
       "text": [
        "<IPython.core.display.Javascript at 0x225815c0>"
       ]
      },
      {
       "javascript": [
        "\n",
        "        var $myPB = $(\"div#bb0792ea-63ff-45bb-825a-3a8ec1bfdf5b\")\n",
        "        if ($myPB.hasClass('ui-progressbar')) {\n",
        "            $myPB.progressbar('value', 54);\n",
        "        } else {\n",
        "            $myPB.progressbar({value: 0, max: 98});\n",
        "        }\n",
        "        "
       ],
       "metadata": {},
       "output_type": "display_data",
       "text": [
        "<IPython.core.display.Javascript at 0x22581400>"
       ]
      },
      {
       "javascript": [
        "$('div#1f64a032-a71d-4a68-ba1d-f094c0927e0d').text('ETA:  0:00:01');"
       ],
       "metadata": {},
       "output_type": "display_data",
       "text": [
        "<IPython.core.display.Javascript at 0x22581208>"
       ]
      },
      {
       "javascript": [
        "$('div#a1d25a5e-1b26-4330-8656-8e50e2f63ced').text('55 of 98');"
       ],
       "metadata": {},
       "output_type": "display_data",
       "text": [
        "<IPython.core.display.Javascript at 0x1b0dc0f0>"
       ]
      },
      {
       "javascript": [
        "$('div#2a1cb8a8-487b-4b60-a4d7-bfd517a0794f').text(' 56%');"
       ],
       "metadata": {},
       "output_type": "display_data",
       "text": [
        "<IPython.core.display.Javascript at 0x1b0dc588>"
       ]
      },
      {
       "javascript": [
        "\n",
        "        var $myPB = $(\"div#bb0792ea-63ff-45bb-825a-3a8ec1bfdf5b\")\n",
        "        if ($myPB.hasClass('ui-progressbar')) {\n",
        "            $myPB.progressbar('value', 55);\n",
        "        } else {\n",
        "            $myPB.progressbar({value: 0, max: 98});\n",
        "        }\n",
        "        "
       ],
       "metadata": {},
       "output_type": "display_data",
       "text": [
        "<IPython.core.display.Javascript at 0x1b0dc940>"
       ]
      },
      {
       "javascript": [
        "$('div#1f64a032-a71d-4a68-ba1d-f094c0927e0d').text('ETA:  0:00:01');"
       ],
       "metadata": {},
       "output_type": "display_data",
       "text": [
        "<IPython.core.display.Javascript at 0x1b0dce10>"
       ]
      },
      {
       "javascript": [
        "$('div#a1d25a5e-1b26-4330-8656-8e50e2f63ced').text('56 of 98');"
       ],
       "metadata": {},
       "output_type": "display_data",
       "text": [
        "<IPython.core.display.Javascript at 0x1b0dc550>"
       ]
      },
      {
       "javascript": [
        "$('div#2a1cb8a8-487b-4b60-a4d7-bfd517a0794f').text(' 57%');"
       ],
       "metadata": {},
       "output_type": "display_data",
       "text": [
        "<IPython.core.display.Javascript at 0x1b0dca90>"
       ]
      },
      {
       "javascript": [
        "\n",
        "        var $myPB = $(\"div#bb0792ea-63ff-45bb-825a-3a8ec1bfdf5b\")\n",
        "        if ($myPB.hasClass('ui-progressbar')) {\n",
        "            $myPB.progressbar('value', 56);\n",
        "        } else {\n",
        "            $myPB.progressbar({value: 0, max: 98});\n",
        "        }\n",
        "        "
       ],
       "metadata": {},
       "output_type": "display_data",
       "text": [
        "<IPython.core.display.Javascript at 0x1b0dccf8>"
       ]
      },
      {
       "javascript": [
        "$('div#1f64a032-a71d-4a68-ba1d-f094c0927e0d').text('ETA:  0:00:01');"
       ],
       "metadata": {},
       "output_type": "display_data",
       "text": [
        "<IPython.core.display.Javascript at 0x1b0dccf8>"
       ]
      },
      {
       "javascript": [
        "$('div#a1d25a5e-1b26-4330-8656-8e50e2f63ced').text('57 of 98');"
       ],
       "metadata": {},
       "output_type": "display_data",
       "text": [
        "<IPython.core.display.Javascript at 0x1b0dcdd8>"
       ]
      },
      {
       "javascript": [
        "$('div#2a1cb8a8-487b-4b60-a4d7-bfd517a0794f').text(' 58%');"
       ],
       "metadata": {},
       "output_type": "display_data",
       "text": [
        "<IPython.core.display.Javascript at 0x1b0dcef0>"
       ]
      },
      {
       "javascript": [
        "\n",
        "        var $myPB = $(\"div#bb0792ea-63ff-45bb-825a-3a8ec1bfdf5b\")\n",
        "        if ($myPB.hasClass('ui-progressbar')) {\n",
        "            $myPB.progressbar('value', 57);\n",
        "        } else {\n",
        "            $myPB.progressbar({value: 0, max: 98});\n",
        "        }\n",
        "        "
       ],
       "metadata": {},
       "output_type": "display_data",
       "text": [
        "<IPython.core.display.Javascript at 0x1b0dcef0>"
       ]
      },
      {
       "javascript": [
        "$('div#1f64a032-a71d-4a68-ba1d-f094c0927e0d').text('ETA:  0:00:01');"
       ],
       "metadata": {},
       "output_type": "display_data",
       "text": [
        "<IPython.core.display.Javascript at 0x1b0dc4e0>"
       ]
      },
      {
       "javascript": [
        "$('div#a1d25a5e-1b26-4330-8656-8e50e2f63ced').text('58 of 98');"
       ],
       "metadata": {},
       "output_type": "display_data",
       "text": [
        "<IPython.core.display.Javascript at 0x17908a20>"
       ]
      },
      {
       "javascript": [
        "$('div#2a1cb8a8-487b-4b60-a4d7-bfd517a0794f').text(' 59%');"
       ],
       "metadata": {},
       "output_type": "display_data",
       "text": [
        "<IPython.core.display.Javascript at 0x179083c8>"
       ]
      },
      {
       "javascript": [
        "\n",
        "        var $myPB = $(\"div#bb0792ea-63ff-45bb-825a-3a8ec1bfdf5b\")\n",
        "        if ($myPB.hasClass('ui-progressbar')) {\n",
        "            $myPB.progressbar('value', 58);\n",
        "        } else {\n",
        "            $myPB.progressbar({value: 0, max: 98});\n",
        "        }\n",
        "        "
       ],
       "metadata": {},
       "output_type": "display_data",
       "text": [
        "<IPython.core.display.Javascript at 0x21aaad30>"
       ]
      },
      {
       "javascript": [
        "$('div#1f64a032-a71d-4a68-ba1d-f094c0927e0d').text('ETA:  0:00:01');"
       ],
       "metadata": {},
       "output_type": "display_data",
       "text": [
        "<IPython.core.display.Javascript at 0x17908a20>"
       ]
      },
      {
       "javascript": [
        "$('div#a1d25a5e-1b26-4330-8656-8e50e2f63ced').text('59 of 98');"
       ],
       "metadata": {},
       "output_type": "display_data",
       "text": [
        "<IPython.core.display.Javascript at 0x21aaa160>"
       ]
      },
      {
       "javascript": [
        "$('div#2a1cb8a8-487b-4b60-a4d7-bfd517a0794f').text(' 60%');"
       ],
       "metadata": {},
       "output_type": "display_data",
       "text": [
        "<IPython.core.display.Javascript at 0x21aaad68>"
       ]
      },
      {
       "javascript": [
        "\n",
        "        var $myPB = $(\"div#bb0792ea-63ff-45bb-825a-3a8ec1bfdf5b\")\n",
        "        if ($myPB.hasClass('ui-progressbar')) {\n",
        "            $myPB.progressbar('value', 59);\n",
        "        } else {\n",
        "            $myPB.progressbar({value: 0, max: 98});\n",
        "        }\n",
        "        "
       ],
       "metadata": {},
       "output_type": "display_data",
       "text": [
        "<IPython.core.display.Javascript at 0x21aaad68>"
       ]
      },
      {
       "javascript": [
        "$('div#1f64a032-a71d-4a68-ba1d-f094c0927e0d').text('ETA:  0:00:01');"
       ],
       "metadata": {},
       "output_type": "display_data",
       "text": [
        "<IPython.core.display.Javascript at 0x21aaaf98>"
       ]
      },
      {
       "javascript": [
        "$('div#a1d25a5e-1b26-4330-8656-8e50e2f63ced').text('60 of 98');"
       ],
       "metadata": {},
       "output_type": "display_data",
       "text": [
        "<IPython.core.display.Javascript at 0x21aaa0f0>"
       ]
      },
      {
       "javascript": [
        "$('div#2a1cb8a8-487b-4b60-a4d7-bfd517a0794f').text(' 61%');"
       ],
       "metadata": {},
       "output_type": "display_data",
       "text": [
        "<IPython.core.display.Javascript at 0x21aaa828>"
       ]
      },
      {
       "javascript": [
        "\n",
        "        var $myPB = $(\"div#bb0792ea-63ff-45bb-825a-3a8ec1bfdf5b\")\n",
        "        if ($myPB.hasClass('ui-progressbar')) {\n",
        "            $myPB.progressbar('value', 60);\n",
        "        } else {\n",
        "            $myPB.progressbar({value: 0, max: 98});\n",
        "        }\n",
        "        "
       ],
       "metadata": {},
       "output_type": "display_data",
       "text": [
        "<IPython.core.display.Javascript at 0x21aaa940>"
       ]
      },
      {
       "javascript": [
        "$('div#1f64a032-a71d-4a68-ba1d-f094c0927e0d').text('ETA:  0:00:01');"
       ],
       "metadata": {},
       "output_type": "display_data",
       "text": [
        "<IPython.core.display.Javascript at 0x21aaa940>"
       ]
      },
      {
       "javascript": [
        "$('div#a1d25a5e-1b26-4330-8656-8e50e2f63ced').text('61 of 98');"
       ],
       "metadata": {},
       "output_type": "display_data",
       "text": [
        "<IPython.core.display.Javascript at 0x2043bf98>"
       ]
      },
      {
       "javascript": [
        "$('div#2a1cb8a8-487b-4b60-a4d7-bfd517a0794f').text(' 62%');"
       ],
       "metadata": {},
       "output_type": "display_data",
       "text": [
        "<IPython.core.display.Javascript at 0x2043bf98>"
       ]
      },
      {
       "javascript": [
        "\n",
        "        var $myPB = $(\"div#bb0792ea-63ff-45bb-825a-3a8ec1bfdf5b\")\n",
        "        if ($myPB.hasClass('ui-progressbar')) {\n",
        "            $myPB.progressbar('value', 61);\n",
        "        } else {\n",
        "            $myPB.progressbar({value: 0, max: 98});\n",
        "        }\n",
        "        "
       ],
       "metadata": {},
       "output_type": "display_data",
       "text": [
        "<IPython.core.display.Javascript at 0x2043b7b8>"
       ]
      },
      {
       "javascript": [
        "$('div#1f64a032-a71d-4a68-ba1d-f094c0927e0d').text('ETA:  0:00:01');"
       ],
       "metadata": {},
       "output_type": "display_data",
       "text": [
        "<IPython.core.display.Javascript at 0x2043b438>"
       ]
      },
      {
       "javascript": [
        "$('div#a1d25a5e-1b26-4330-8656-8e50e2f63ced').text('62 of 98');"
       ],
       "metadata": {},
       "output_type": "display_data",
       "text": [
        "<IPython.core.display.Javascript at 0x227c2f60>"
       ]
      },
      {
       "javascript": [
        "$('div#2a1cb8a8-487b-4b60-a4d7-bfd517a0794f').text(' 63%');"
       ],
       "metadata": {},
       "output_type": "display_data",
       "text": [
        "<IPython.core.display.Javascript at 0x227c2358>"
       ]
      },
      {
       "javascript": [
        "\n",
        "        var $myPB = $(\"div#bb0792ea-63ff-45bb-825a-3a8ec1bfdf5b\")\n",
        "        if ($myPB.hasClass('ui-progressbar')) {\n",
        "            $myPB.progressbar('value', 62);\n",
        "        } else {\n",
        "            $myPB.progressbar({value: 0, max: 98});\n",
        "        }\n",
        "        "
       ],
       "metadata": {},
       "output_type": "display_data",
       "text": [
        "<IPython.core.display.Javascript at 0x227c2358>"
       ]
      },
      {
       "javascript": [
        "$('div#1f64a032-a71d-4a68-ba1d-f094c0927e0d').text('ETA:  0:00:01');"
       ],
       "metadata": {},
       "output_type": "display_data",
       "text": [
        "<IPython.core.display.Javascript at 0x227c2f60>"
       ]
      },
      {
       "javascript": [
        "$('div#a1d25a5e-1b26-4330-8656-8e50e2f63ced').text('63 of 98');"
       ],
       "metadata": {},
       "output_type": "display_data",
       "text": [
        "<IPython.core.display.Javascript at 0x204215c0>"
       ]
      },
      {
       "javascript": [
        "$('div#2a1cb8a8-487b-4b60-a4d7-bfd517a0794f').text(' 64%');"
       ],
       "metadata": {},
       "output_type": "display_data",
       "text": [
        "<IPython.core.display.Javascript at 0x204213c8>"
       ]
      },
      {
       "javascript": [
        "\n",
        "        var $myPB = $(\"div#bb0792ea-63ff-45bb-825a-3a8ec1bfdf5b\")\n",
        "        if ($myPB.hasClass('ui-progressbar')) {\n",
        "            $myPB.progressbar('value', 63);\n",
        "        } else {\n",
        "            $myPB.progressbar({value: 0, max: 98});\n",
        "        }\n",
        "        "
       ],
       "metadata": {},
       "output_type": "display_data",
       "text": [
        "<IPython.core.display.Javascript at 0x20421e48>"
       ]
      },
      {
       "javascript": [
        "$('div#1f64a032-a71d-4a68-ba1d-f094c0927e0d').text('ETA:  0:00:01');"
       ],
       "metadata": {},
       "output_type": "display_data",
       "text": [
        "<IPython.core.display.Javascript at 0x20421e48>"
       ]
      },
      {
       "javascript": [
        "$('div#a1d25a5e-1b26-4330-8656-8e50e2f63ced').text('64 of 98');"
       ],
       "metadata": {},
       "output_type": "display_data",
       "text": [
        "<IPython.core.display.Javascript at 0x22712828>"
       ]
      },
      {
       "javascript": [
        "$('div#2a1cb8a8-487b-4b60-a4d7-bfd517a0794f').text(' 65%');"
       ],
       "metadata": {},
       "output_type": "display_data",
       "text": [
        "<IPython.core.display.Javascript at 0x227125f8>"
       ]
      },
      {
       "javascript": [
        "\n",
        "        var $myPB = $(\"div#bb0792ea-63ff-45bb-825a-3a8ec1bfdf5b\")\n",
        "        if ($myPB.hasClass('ui-progressbar')) {\n",
        "            $myPB.progressbar('value', 64);\n",
        "        } else {\n",
        "            $myPB.progressbar({value: 0, max: 98});\n",
        "        }\n",
        "        "
       ],
       "metadata": {},
       "output_type": "display_data",
       "text": [
        "<IPython.core.display.Javascript at 0x22712748>"
       ]
      },
      {
       "javascript": [
        "$('div#1f64a032-a71d-4a68-ba1d-f094c0927e0d').text('ETA:  0:00:01');"
       ],
       "metadata": {},
       "output_type": "display_data",
       "text": [
        "<IPython.core.display.Javascript at 0x22712940>"
       ]
      },
      {
       "javascript": [
        "$('div#a1d25a5e-1b26-4330-8656-8e50e2f63ced').text('65 of 98');"
       ],
       "metadata": {},
       "output_type": "display_data",
       "text": [
        "<IPython.core.display.Javascript at 0x171e1c50>"
       ]
      },
      {
       "javascript": [
        "$('div#2a1cb8a8-487b-4b60-a4d7-bfd517a0794f').text(' 66%');"
       ],
       "metadata": {},
       "output_type": "display_data",
       "text": [
        "<IPython.core.display.Javascript at 0x1fd7d320>"
       ]
      },
      {
       "javascript": [
        "\n",
        "        var $myPB = $(\"div#bb0792ea-63ff-45bb-825a-3a8ec1bfdf5b\")\n",
        "        if ($myPB.hasClass('ui-progressbar')) {\n",
        "            $myPB.progressbar('value', 65);\n",
        "        } else {\n",
        "            $myPB.progressbar({value: 0, max: 98});\n",
        "        }\n",
        "        "
       ],
       "metadata": {},
       "output_type": "display_data",
       "text": [
        "<IPython.core.display.Javascript at 0x1fd7dc88>"
       ]
      },
      {
       "javascript": [
        "$('div#1f64a032-a71d-4a68-ba1d-f094c0927e0d').text('ETA:  0:00:01');"
       ],
       "metadata": {},
       "output_type": "display_data",
       "text": [
        "<IPython.core.display.Javascript at 0x1fd7db38>"
       ]
      },
      {
       "javascript": [
        "$('div#a1d25a5e-1b26-4330-8656-8e50e2f63ced').text('66 of 98');"
       ],
       "metadata": {},
       "output_type": "display_data",
       "text": [
        "<IPython.core.display.Javascript at 0x177ea4e0>"
       ]
      },
      {
       "javascript": [
        "$('div#2a1cb8a8-487b-4b60-a4d7-bfd517a0794f').text(' 67%');"
       ],
       "metadata": {},
       "output_type": "display_data",
       "text": [
        "<IPython.core.display.Javascript at 0x1b356908>"
       ]
      },
      {
       "javascript": [
        "\n",
        "        var $myPB = $(\"div#bb0792ea-63ff-45bb-825a-3a8ec1bfdf5b\")\n",
        "        if ($myPB.hasClass('ui-progressbar')) {\n",
        "            $myPB.progressbar('value', 66);\n",
        "        } else {\n",
        "            $myPB.progressbar({value: 0, max: 98});\n",
        "        }\n",
        "        "
       ],
       "metadata": {},
       "output_type": "display_data",
       "text": [
        "<IPython.core.display.Javascript at 0x1b356a20>"
       ]
      },
      {
       "javascript": [
        "$('div#1f64a032-a71d-4a68-ba1d-f094c0927e0d').text('ETA:  0:00:01');"
       ],
       "metadata": {},
       "output_type": "display_data",
       "text": [
        "<IPython.core.display.Javascript at 0x1b356d68>"
       ]
      },
      {
       "javascript": [
        "$('div#a1d25a5e-1b26-4330-8656-8e50e2f63ced').text('67 of 98');"
       ],
       "metadata": {},
       "output_type": "display_data",
       "text": [
        "<IPython.core.display.Javascript at 0x1f764278>"
       ]
      },
      {
       "javascript": [
        "$('div#2a1cb8a8-487b-4b60-a4d7-bfd517a0794f').text(' 68%');"
       ],
       "metadata": {},
       "output_type": "display_data",
       "text": [
        "<IPython.core.display.Javascript at 0x1f764278>"
       ]
      },
      {
       "javascript": [
        "\n",
        "        var $myPB = $(\"div#bb0792ea-63ff-45bb-825a-3a8ec1bfdf5b\")\n",
        "        if ($myPB.hasClass('ui-progressbar')) {\n",
        "            $myPB.progressbar('value', 67);\n",
        "        } else {\n",
        "            $myPB.progressbar({value: 0, max: 98});\n",
        "        }\n",
        "        "
       ],
       "metadata": {},
       "output_type": "display_data",
       "text": [
        "<IPython.core.display.Javascript at 0x1f764518>"
       ]
      },
      {
       "javascript": [
        "$('div#1f64a032-a71d-4a68-ba1d-f094c0927e0d').text('ETA:  0:00:01');"
       ],
       "metadata": {},
       "output_type": "display_data",
       "text": [
        "<IPython.core.display.Javascript at 0x1f764320>"
       ]
      },
      {
       "javascript": [
        "$('div#a1d25a5e-1b26-4330-8656-8e50e2f63ced').text('68 of 98');"
       ],
       "metadata": {},
       "output_type": "display_data",
       "text": [
        "<IPython.core.display.Javascript at 0x1f7645c0>"
       ]
      },
      {
       "javascript": [
        "$('div#2a1cb8a8-487b-4b60-a4d7-bfd517a0794f').text(' 69%');"
       ],
       "metadata": {},
       "output_type": "display_data",
       "text": [
        "<IPython.core.display.Javascript at 0x22230f98>"
       ]
      },
      {
       "javascript": [
        "\n",
        "        var $myPB = $(\"div#bb0792ea-63ff-45bb-825a-3a8ec1bfdf5b\")\n",
        "        if ($myPB.hasClass('ui-progressbar')) {\n",
        "            $myPB.progressbar('value', 68);\n",
        "        } else {\n",
        "            $myPB.progressbar({value: 0, max: 98});\n",
        "        }\n",
        "        "
       ],
       "metadata": {},
       "output_type": "display_data",
       "text": [
        "<IPython.core.display.Javascript at 0x1f7645c0>"
       ]
      },
      {
       "javascript": [
        "$('div#1f64a032-a71d-4a68-ba1d-f094c0927e0d').text('ETA:  0:00:01');"
       ],
       "metadata": {},
       "output_type": "display_data",
       "text": [
        "<IPython.core.display.Javascript at 0x22230f98>"
       ]
      },
      {
       "javascript": [
        "$('div#a1d25a5e-1b26-4330-8656-8e50e2f63ced').text('69 of 98');"
       ],
       "metadata": {},
       "output_type": "display_data",
       "text": [
        "<IPython.core.display.Javascript at 0x222307b8>"
       ]
      },
      {
       "javascript": [
        "$('div#2a1cb8a8-487b-4b60-a4d7-bfd517a0794f').text(' 70%');"
       ],
       "metadata": {},
       "output_type": "display_data",
       "text": [
        "<IPython.core.display.Javascript at 0x22230048>"
       ]
      },
      {
       "javascript": [
        "\n",
        "        var $myPB = $(\"div#bb0792ea-63ff-45bb-825a-3a8ec1bfdf5b\")\n",
        "        if ($myPB.hasClass('ui-progressbar')) {\n",
        "            $myPB.progressbar('value', 69);\n",
        "        } else {\n",
        "            $myPB.progressbar({value: 0, max: 98});\n",
        "        }\n",
        "        "
       ],
       "metadata": {},
       "output_type": "display_data",
       "text": [
        "<IPython.core.display.Javascript at 0x22230048>"
       ]
      },
      {
       "javascript": [
        "$('div#1f64a032-a71d-4a68-ba1d-f094c0927e0d').text('ETA:  0:00:01');"
       ],
       "metadata": {},
       "output_type": "display_data",
       "text": [
        "<IPython.core.display.Javascript at 0x22230400>"
       ]
      },
      {
       "javascript": [
        "$('div#a1d25a5e-1b26-4330-8656-8e50e2f63ced').text('70 of 98');"
       ],
       "metadata": {},
       "output_type": "display_data",
       "text": [
        "<IPython.core.display.Javascript at 0x222305f8>"
       ]
      },
      {
       "javascript": [
        "$('div#2a1cb8a8-487b-4b60-a4d7-bfd517a0794f').text(' 71%');"
       ],
       "metadata": {},
       "output_type": "display_data",
       "text": [
        "<IPython.core.display.Javascript at 0x209aa198>"
       ]
      },
      {
       "javascript": [
        "\n",
        "        var $myPB = $(\"div#bb0792ea-63ff-45bb-825a-3a8ec1bfdf5b\")\n",
        "        if ($myPB.hasClass('ui-progressbar')) {\n",
        "            $myPB.progressbar('value', 70);\n",
        "        } else {\n",
        "            $myPB.progressbar({value: 0, max: 98});\n",
        "        }\n",
        "        "
       ],
       "metadata": {},
       "output_type": "display_data",
       "text": [
        "<IPython.core.display.Javascript at 0x222305f8>"
       ]
      },
      {
       "javascript": [
        "$('div#1f64a032-a71d-4a68-ba1d-f094c0927e0d').text('ETA:  0:00:01');"
       ],
       "metadata": {},
       "output_type": "display_data",
       "text": [
        "<IPython.core.display.Javascript at 0x209aa198>"
       ]
      },
      {
       "javascript": [
        "$('div#a1d25a5e-1b26-4330-8656-8e50e2f63ced').text('71 of 98');"
       ],
       "metadata": {},
       "output_type": "display_data",
       "text": [
        "<IPython.core.display.Javascript at 0x209aada0>"
       ]
      },
      {
       "javascript": [
        "$('div#2a1cb8a8-487b-4b60-a4d7-bfd517a0794f').text(' 72%');"
       ],
       "metadata": {},
       "output_type": "display_data",
       "text": [
        "<IPython.core.display.Javascript at 0x209aa128>"
       ]
      },
      {
       "javascript": [
        "\n",
        "        var $myPB = $(\"div#bb0792ea-63ff-45bb-825a-3a8ec1bfdf5b\")\n",
        "        if ($myPB.hasClass('ui-progressbar')) {\n",
        "            $myPB.progressbar('value', 71);\n",
        "        } else {\n",
        "            $myPB.progressbar({value: 0, max: 98});\n",
        "        }\n",
        "        "
       ],
       "metadata": {},
       "output_type": "display_data",
       "text": [
        "<IPython.core.display.Javascript at 0x209aa128>"
       ]
      },
      {
       "javascript": [
        "$('div#1f64a032-a71d-4a68-ba1d-f094c0927e0d').text('ETA:  0:00:01');"
       ],
       "metadata": {},
       "output_type": "display_data",
       "text": [
        "<IPython.core.display.Javascript at 0x209aa908>"
       ]
      },
      {
       "javascript": [
        "$('div#a1d25a5e-1b26-4330-8656-8e50e2f63ced').text('72 of 98');"
       ],
       "metadata": {},
       "output_type": "display_data",
       "text": [
        "<IPython.core.display.Javascript at 0x220fc0f0>"
       ]
      },
      {
       "javascript": [
        "$('div#2a1cb8a8-487b-4b60-a4d7-bfd517a0794f').text(' 73%');"
       ],
       "metadata": {},
       "output_type": "display_data",
       "text": [
        "<IPython.core.display.Javascript at 0x220fce10>"
       ]
      },
      {
       "javascript": [
        "\n",
        "        var $myPB = $(\"div#bb0792ea-63ff-45bb-825a-3a8ec1bfdf5b\")\n",
        "        if ($myPB.hasClass('ui-progressbar')) {\n",
        "            $myPB.progressbar('value', 72);\n",
        "        } else {\n",
        "            $myPB.progressbar({value: 0, max: 98});\n",
        "        }\n",
        "        "
       ],
       "metadata": {},
       "output_type": "display_data",
       "text": [
        "<IPython.core.display.Javascript at 0x220fce10>"
       ]
      },
      {
       "javascript": [
        "$('div#1f64a032-a71d-4a68-ba1d-f094c0927e0d').text('ETA:  0:00:01');"
       ],
       "metadata": {},
       "output_type": "display_data",
       "text": [
        "<IPython.core.display.Javascript at 0x220fce48>"
       ]
      },
      {
       "javascript": [
        "$('div#a1d25a5e-1b26-4330-8656-8e50e2f63ced').text('73 of 98');"
       ],
       "metadata": {},
       "output_type": "display_data",
       "text": [
        "<IPython.core.display.Javascript at 0x220fc1d0>"
       ]
      },
      {
       "javascript": [
        "$('div#2a1cb8a8-487b-4b60-a4d7-bfd517a0794f').text(' 74%');"
       ],
       "metadata": {},
       "output_type": "display_data",
       "text": [
        "<IPython.core.display.Javascript at 0x220fc9b0>"
       ]
      },
      {
       "javascript": [
        "\n",
        "        var $myPB = $(\"div#bb0792ea-63ff-45bb-825a-3a8ec1bfdf5b\")\n",
        "        if ($myPB.hasClass('ui-progressbar')) {\n",
        "            $myPB.progressbar('value', 73);\n",
        "        } else {\n",
        "            $myPB.progressbar({value: 0, max: 98});\n",
        "        }\n",
        "        "
       ],
       "metadata": {},
       "output_type": "display_data",
       "text": [
        "<IPython.core.display.Javascript at 0x220fc9b0>"
       ]
      },
      {
       "javascript": [
        "$('div#1f64a032-a71d-4a68-ba1d-f094c0927e0d').text('ETA:  0:00:01');"
       ],
       "metadata": {},
       "output_type": "display_data",
       "text": [
        "<IPython.core.display.Javascript at 0x220fc048>"
       ]
      },
      {
       "javascript": [
        "$('div#a1d25a5e-1b26-4330-8656-8e50e2f63ced').text('74 of 98');"
       ],
       "metadata": {},
       "output_type": "display_data",
       "text": [
        "<IPython.core.display.Javascript at 0x1f5e1e48>"
       ]
      },
      {
       "javascript": [
        "$('div#2a1cb8a8-487b-4b60-a4d7-bfd517a0794f').text(' 75%');"
       ],
       "metadata": {},
       "output_type": "display_data",
       "text": [
        "<IPython.core.display.Javascript at 0x1f5e1e48>"
       ]
      },
      {
       "javascript": [
        "\n",
        "        var $myPB = $(\"div#bb0792ea-63ff-45bb-825a-3a8ec1bfdf5b\")\n",
        "        if ($myPB.hasClass('ui-progressbar')) {\n",
        "            $myPB.progressbar('value', 74);\n",
        "        } else {\n",
        "            $myPB.progressbar({value: 0, max: 98});\n",
        "        }\n",
        "        "
       ],
       "metadata": {},
       "output_type": "display_data",
       "text": [
        "<IPython.core.display.Javascript at 0x1f5e1d30>"
       ]
      },
      {
       "javascript": [
        "$('div#1f64a032-a71d-4a68-ba1d-f094c0927e0d').text('ETA:  0:00:01');"
       ],
       "metadata": {},
       "output_type": "display_data",
       "text": [
        "<IPython.core.display.Javascript at 0x1f5e16a0>"
       ]
      },
      {
       "javascript": [
        "$('div#a1d25a5e-1b26-4330-8656-8e50e2f63ced').text('75 of 98');"
       ],
       "metadata": {},
       "output_type": "display_data",
       "text": [
        "<IPython.core.display.Javascript at 0x2375ea20>"
       ]
      },
      {
       "javascript": [
        "$('div#2a1cb8a8-487b-4b60-a4d7-bfd517a0794f').text(' 76%');"
       ],
       "metadata": {},
       "output_type": "display_data",
       "text": [
        "<IPython.core.display.Javascript at 0x2375e9b0>"
       ]
      },
      {
       "javascript": [
        "\n",
        "        var $myPB = $(\"div#bb0792ea-63ff-45bb-825a-3a8ec1bfdf5b\")\n",
        "        if ($myPB.hasClass('ui-progressbar')) {\n",
        "            $myPB.progressbar('value', 75);\n",
        "        } else {\n",
        "            $myPB.progressbar({value: 0, max: 98});\n",
        "        }\n",
        "        "
       ],
       "metadata": {},
       "output_type": "display_data",
       "text": [
        "<IPython.core.display.Javascript at 0x2375e9b0>"
       ]
      },
      {
       "javascript": [
        "$('div#1f64a032-a71d-4a68-ba1d-f094c0927e0d').text('ETA:  0:00:01');"
       ],
       "metadata": {},
       "output_type": "display_data",
       "text": [
        "<IPython.core.display.Javascript at 0x2375e780>"
       ]
      },
      {
       "javascript": [
        "$('div#a1d25a5e-1b26-4330-8656-8e50e2f63ced').text('76 of 98');"
       ],
       "metadata": {},
       "output_type": "display_data",
       "text": [
        "<IPython.core.display.Javascript at 0x17866400>"
       ]
      },
      {
       "javascript": [
        "$('div#2a1cb8a8-487b-4b60-a4d7-bfd517a0794f').text(' 77%');"
       ],
       "metadata": {},
       "output_type": "display_data",
       "text": [
        "<IPython.core.display.Javascript at 0x17866588>"
       ]
      },
      {
       "javascript": [
        "\n",
        "        var $myPB = $(\"div#bb0792ea-63ff-45bb-825a-3a8ec1bfdf5b\")\n",
        "        if ($myPB.hasClass('ui-progressbar')) {\n",
        "            $myPB.progressbar('value', 76);\n",
        "        } else {\n",
        "            $myPB.progressbar({value: 0, max: 98});\n",
        "        }\n",
        "        "
       ],
       "metadata": {},
       "output_type": "display_data",
       "text": [
        "<IPython.core.display.Javascript at 0x17866588>"
       ]
      },
      {
       "javascript": [
        "$('div#1f64a032-a71d-4a68-ba1d-f094c0927e0d').text('ETA:  0:00:01');"
       ],
       "metadata": {},
       "output_type": "display_data",
       "text": [
        "<IPython.core.display.Javascript at 0x17866860>"
       ]
      },
      {
       "javascript": [
        "$('div#a1d25a5e-1b26-4330-8656-8e50e2f63ced').text('77 of 98');"
       ],
       "metadata": {},
       "output_type": "display_data",
       "text": [
        "<IPython.core.display.Javascript at 0x226d56d8>"
       ]
      },
      {
       "javascript": [
        "$('div#2a1cb8a8-487b-4b60-a4d7-bfd517a0794f').text(' 78%');"
       ],
       "metadata": {},
       "output_type": "display_data",
       "text": [
        "<IPython.core.display.Javascript at 0x226d5898>"
       ]
      },
      {
       "javascript": [
        "\n",
        "        var $myPB = $(\"div#bb0792ea-63ff-45bb-825a-3a8ec1bfdf5b\")\n",
        "        if ($myPB.hasClass('ui-progressbar')) {\n",
        "            $myPB.progressbar('value', 77);\n",
        "        } else {\n",
        "            $myPB.progressbar({value: 0, max: 98});\n",
        "        }\n",
        "        "
       ],
       "metadata": {},
       "output_type": "display_data",
       "text": [
        "<IPython.core.display.Javascript at 0x226d53c8>"
       ]
      },
      {
       "javascript": [
        "$('div#1f64a032-a71d-4a68-ba1d-f094c0927e0d').text('ETA:  0:00:00');"
       ],
       "metadata": {},
       "output_type": "display_data",
       "text": [
        "<IPython.core.display.Javascript at 0x226d56d8>"
       ]
      },
      {
       "javascript": [
        "$('div#a1d25a5e-1b26-4330-8656-8e50e2f63ced').text('78 of 98');"
       ],
       "metadata": {},
       "output_type": "display_data",
       "text": [
        "<IPython.core.display.Javascript at 0x226d5160>"
       ]
      },
      {
       "javascript": [
        "$('div#2a1cb8a8-487b-4b60-a4d7-bfd517a0794f').text(' 79%');"
       ],
       "metadata": {},
       "output_type": "display_data",
       "text": [
        "<IPython.core.display.Javascript at 0x226d50f0>"
       ]
      },
      {
       "javascript": [
        "\n",
        "        var $myPB = $(\"div#bb0792ea-63ff-45bb-825a-3a8ec1bfdf5b\")\n",
        "        if ($myPB.hasClass('ui-progressbar')) {\n",
        "            $myPB.progressbar('value', 78);\n",
        "        } else {\n",
        "            $myPB.progressbar({value: 0, max: 98});\n",
        "        }\n",
        "        "
       ],
       "metadata": {},
       "output_type": "display_data",
       "text": [
        "<IPython.core.display.Javascript at 0x226d50f0>"
       ]
      },
      {
       "javascript": [
        "$('div#1f64a032-a71d-4a68-ba1d-f094c0927e0d').text('ETA:  0:00:00');"
       ],
       "metadata": {},
       "output_type": "display_data",
       "text": [
        "<IPython.core.display.Javascript at 0x226d5dd8>"
       ]
      },
      {
       "javascript": [
        "$('div#a1d25a5e-1b26-4330-8656-8e50e2f63ced').text('79 of 98');"
       ],
       "metadata": {},
       "output_type": "display_data",
       "text": [
        "<IPython.core.display.Javascript at 0x19c89978>"
       ]
      },
      {
       "javascript": [
        "$('div#2a1cb8a8-487b-4b60-a4d7-bfd517a0794f').text(' 80%');"
       ],
       "metadata": {},
       "output_type": "display_data",
       "text": [
        "<IPython.core.display.Javascript at 0x19c89978>"
       ]
      },
      {
       "javascript": [
        "\n",
        "        var $myPB = $(\"div#bb0792ea-63ff-45bb-825a-3a8ec1bfdf5b\")\n",
        "        if ($myPB.hasClass('ui-progressbar')) {\n",
        "            $myPB.progressbar('value', 79);\n",
        "        } else {\n",
        "            $myPB.progressbar({value: 0, max: 98});\n",
        "        }\n",
        "        "
       ],
       "metadata": {},
       "output_type": "display_data",
       "text": [
        "<IPython.core.display.Javascript at 0x19c89198>"
       ]
      },
      {
       "javascript": [
        "$('div#1f64a032-a71d-4a68-ba1d-f094c0927e0d').text('ETA:  0:00:00');"
       ],
       "metadata": {},
       "output_type": "display_data",
       "text": [
        "<IPython.core.display.Javascript at 0x19c89860>"
       ]
      },
      {
       "javascript": [
        "$('div#a1d25a5e-1b26-4330-8656-8e50e2f63ced').text('80 of 98');"
       ],
       "metadata": {},
       "output_type": "display_data",
       "text": [
        "<IPython.core.display.Javascript at 0x204e5f28>"
       ]
      },
      {
       "javascript": [
        "$('div#2a1cb8a8-487b-4b60-a4d7-bfd517a0794f').text(' 81%');"
       ],
       "metadata": {},
       "output_type": "display_data",
       "text": [
        "<IPython.core.display.Javascript at 0x204e5d30>"
       ]
      },
      {
       "javascript": [
        "\n",
        "        var $myPB = $(\"div#bb0792ea-63ff-45bb-825a-3a8ec1bfdf5b\")\n",
        "        if ($myPB.hasClass('ui-progressbar')) {\n",
        "            $myPB.progressbar('value', 80);\n",
        "        } else {\n",
        "            $myPB.progressbar({value: 0, max: 98});\n",
        "        }\n",
        "        "
       ],
       "metadata": {},
       "output_type": "display_data",
       "text": [
        "<IPython.core.display.Javascript at 0x204e5d30>"
       ]
      },
      {
       "javascript": [
        "$('div#1f64a032-a71d-4a68-ba1d-f094c0927e0d').text('ETA:  0:00:00');"
       ],
       "metadata": {},
       "output_type": "display_data",
       "text": [
        "<IPython.core.display.Javascript at 0x204e5630>"
       ]
      },
      {
       "javascript": [
        "$('div#a1d25a5e-1b26-4330-8656-8e50e2f63ced').text('81 of 98');"
       ],
       "metadata": {},
       "output_type": "display_data",
       "text": [
        "<IPython.core.display.Javascript at 0x204e5160>"
       ]
      },
      {
       "javascript": [
        "$('div#2a1cb8a8-487b-4b60-a4d7-bfd517a0794f').text(' 82%');"
       ],
       "metadata": {},
       "output_type": "display_data",
       "text": [
        "<IPython.core.display.Javascript at 0x204e50b8>"
       ]
      },
      {
       "javascript": [
        "\n",
        "        var $myPB = $(\"div#bb0792ea-63ff-45bb-825a-3a8ec1bfdf5b\")\n",
        "        if ($myPB.hasClass('ui-progressbar')) {\n",
        "            $myPB.progressbar('value', 81);\n",
        "        } else {\n",
        "            $myPB.progressbar({value: 0, max: 98});\n",
        "        }\n",
        "        "
       ],
       "metadata": {},
       "output_type": "display_data",
       "text": [
        "<IPython.core.display.Javascript at 0x204e50b8>"
       ]
      },
      {
       "javascript": [
        "$('div#1f64a032-a71d-4a68-ba1d-f094c0927e0d').text('ETA:  0:00:00');"
       ],
       "metadata": {},
       "output_type": "display_data",
       "text": [
        "<IPython.core.display.Javascript at 0x204e55c0>"
       ]
      },
      {
       "javascript": [
        "$('div#a1d25a5e-1b26-4330-8656-8e50e2f63ced').text('82 of 98');"
       ],
       "metadata": {},
       "output_type": "display_data",
       "text": [
        "<IPython.core.display.Javascript at 0x1fc86208>"
       ]
      },
      {
       "javascript": [
        "$('div#2a1cb8a8-487b-4b60-a4d7-bfd517a0794f').text(' 83%');"
       ],
       "metadata": {},
       "output_type": "display_data",
       "text": [
        "<IPython.core.display.Javascript at 0x1fc86668>"
       ]
      },
      {
       "javascript": [
        "\n",
        "        var $myPB = $(\"div#bb0792ea-63ff-45bb-825a-3a8ec1bfdf5b\")\n",
        "        if ($myPB.hasClass('ui-progressbar')) {\n",
        "            $myPB.progressbar('value', 82);\n",
        "        } else {\n",
        "            $myPB.progressbar({value: 0, max: 98});\n",
        "        }\n",
        "        "
       ],
       "metadata": {},
       "output_type": "display_data",
       "text": [
        "<IPython.core.display.Javascript at 0x1fc86668>"
       ]
      },
      {
       "javascript": [
        "$('div#1f64a032-a71d-4a68-ba1d-f094c0927e0d').text('ETA:  0:00:00');"
       ],
       "metadata": {},
       "output_type": "display_data",
       "text": [
        "<IPython.core.display.Javascript at 0x1fc86160>"
       ]
      },
      {
       "javascript": [
        "$('div#a1d25a5e-1b26-4330-8656-8e50e2f63ced').text('83 of 98');"
       ],
       "metadata": {},
       "output_type": "display_data",
       "text": [
        "<IPython.core.display.Javascript at 0x2137aba8>"
       ]
      },
      {
       "javascript": [
        "$('div#2a1cb8a8-487b-4b60-a4d7-bfd517a0794f').text(' 84%');"
       ],
       "metadata": {},
       "output_type": "display_data",
       "text": [
        "<IPython.core.display.Javascript at 0x2137ad68>"
       ]
      },
      {
       "javascript": [
        "\n",
        "        var $myPB = $(\"div#bb0792ea-63ff-45bb-825a-3a8ec1bfdf5b\")\n",
        "        if ($myPB.hasClass('ui-progressbar')) {\n",
        "            $myPB.progressbar('value', 83);\n",
        "        } else {\n",
        "            $myPB.progressbar({value: 0, max: 98});\n",
        "        }\n",
        "        "
       ],
       "metadata": {},
       "output_type": "display_data",
       "text": [
        "<IPython.core.display.Javascript at 0x2137ad68>"
       ]
      },
      {
       "javascript": [
        "$('div#1f64a032-a71d-4a68-ba1d-f094c0927e0d').text('ETA:  0:00:00');"
       ],
       "metadata": {},
       "output_type": "display_data",
       "text": [
        "<IPython.core.display.Javascript at 0x2137abe0>"
       ]
      },
      {
       "javascript": [
        "$('div#a1d25a5e-1b26-4330-8656-8e50e2f63ced').text('84 of 98');"
       ],
       "metadata": {},
       "output_type": "display_data",
       "text": [
        "<IPython.core.display.Javascript at 0x22f975c0>"
       ]
      },
      {
       "javascript": [
        "$('div#2a1cb8a8-487b-4b60-a4d7-bfd517a0794f').text(' 85%');"
       ],
       "metadata": {},
       "output_type": "display_data",
       "text": [
        "<IPython.core.display.Javascript at 0x22f975c0>"
       ]
      },
      {
       "javascript": [
        "\n",
        "        var $myPB = $(\"div#bb0792ea-63ff-45bb-825a-3a8ec1bfdf5b\")\n",
        "        if ($myPB.hasClass('ui-progressbar')) {\n",
        "            $myPB.progressbar('value', 84);\n",
        "        } else {\n",
        "            $myPB.progressbar({value: 0, max: 98});\n",
        "        }\n",
        "        "
       ],
       "metadata": {},
       "output_type": "display_data",
       "text": [
        "<IPython.core.display.Javascript at 0x22f97240>"
       ]
      },
      {
       "javascript": [
        "$('div#1f64a032-a71d-4a68-ba1d-f094c0927e0d').text('ETA:  0:00:00');"
       ],
       "metadata": {},
       "output_type": "display_data",
       "text": [
        "<IPython.core.display.Javascript at 0x22f974a8>"
       ]
      },
      {
       "javascript": [
        "$('div#a1d25a5e-1b26-4330-8656-8e50e2f63ced').text('85 of 98');"
       ],
       "metadata": {},
       "output_type": "display_data",
       "text": [
        "<IPython.core.display.Javascript at 0x231b39e8>"
       ]
      },
      {
       "javascript": [
        "$('div#2a1cb8a8-487b-4b60-a4d7-bfd517a0794f').text(' 86%');"
       ],
       "metadata": {},
       "output_type": "display_data",
       "text": [
        "<IPython.core.display.Javascript at 0x231b39e8>"
       ]
      },
      {
       "javascript": [
        "\n",
        "        var $myPB = $(\"div#bb0792ea-63ff-45bb-825a-3a8ec1bfdf5b\")\n",
        "        if ($myPB.hasClass('ui-progressbar')) {\n",
        "            $myPB.progressbar('value', 85);\n",
        "        } else {\n",
        "            $myPB.progressbar({value: 0, max: 98});\n",
        "        }\n",
        "        "
       ],
       "metadata": {},
       "output_type": "display_data",
       "text": [
        "<IPython.core.display.Javascript at 0x231b3438>"
       ]
      },
      {
       "javascript": [
        "$('div#1f64a032-a71d-4a68-ba1d-f094c0927e0d').text('ETA:  0:00:00');"
       ],
       "metadata": {},
       "output_type": "display_data",
       "text": [
        "<IPython.core.display.Javascript at 0x231b3f28>"
       ]
      },
      {
       "javascript": [
        "$('div#a1d25a5e-1b26-4330-8656-8e50e2f63ced').text('86 of 98');"
       ],
       "metadata": {},
       "output_type": "display_data",
       "text": [
        "<IPython.core.display.Javascript at 0x1ef2cc50>"
       ]
      },
      {
       "javascript": [
        "$('div#2a1cb8a8-487b-4b60-a4d7-bfd517a0794f').text(' 87%');"
       ],
       "metadata": {},
       "output_type": "display_data",
       "text": [
        "<IPython.core.display.Javascript at 0x1ef2cc50>"
       ]
      },
      {
       "javascript": [
        "\n",
        "        var $myPB = $(\"div#bb0792ea-63ff-45bb-825a-3a8ec1bfdf5b\")\n",
        "        if ($myPB.hasClass('ui-progressbar')) {\n",
        "            $myPB.progressbar('value', 86);\n",
        "        } else {\n",
        "            $myPB.progressbar({value: 0, max: 98});\n",
        "        }\n",
        "        "
       ],
       "metadata": {},
       "output_type": "display_data",
       "text": [
        "<IPython.core.display.Javascript at 0x1ef2c780>"
       ]
      },
      {
       "javascript": [
        "$('div#1f64a032-a71d-4a68-ba1d-f094c0927e0d').text('ETA:  0:00:00');"
       ],
       "metadata": {},
       "output_type": "display_data",
       "text": [
        "<IPython.core.display.Javascript at 0x1ef2c2b0>"
       ]
      },
      {
       "javascript": [
        "$('div#a1d25a5e-1b26-4330-8656-8e50e2f63ced').text('87 of 98');"
       ],
       "metadata": {},
       "output_type": "display_data",
       "text": [
        "<IPython.core.display.Javascript at 0x1ef2c5f8>"
       ]
      },
      {
       "javascript": [
        "$('div#2a1cb8a8-487b-4b60-a4d7-bfd517a0794f').text(' 88%');"
       ],
       "metadata": {},
       "output_type": "display_data",
       "text": [
        "<IPython.core.display.Javascript at 0x2055f860>"
       ]
      },
      {
       "javascript": [
        "\n",
        "        var $myPB = $(\"div#bb0792ea-63ff-45bb-825a-3a8ec1bfdf5b\")\n",
        "        if ($myPB.hasClass('ui-progressbar')) {\n",
        "            $myPB.progressbar('value', 87);\n",
        "        } else {\n",
        "            $myPB.progressbar({value: 0, max: 98});\n",
        "        }\n",
        "        "
       ],
       "metadata": {},
       "output_type": "display_data",
       "text": [
        "<IPython.core.display.Javascript at 0x1ef2c5f8>"
       ]
      },
      {
       "javascript": [
        "$('div#1f64a032-a71d-4a68-ba1d-f094c0927e0d').text('ETA:  0:00:00');"
       ],
       "metadata": {},
       "output_type": "display_data",
       "text": [
        "<IPython.core.display.Javascript at 0x2055f860>"
       ]
      },
      {
       "javascript": [
        "$('div#a1d25a5e-1b26-4330-8656-8e50e2f63ced').text('88 of 98');"
       ],
       "metadata": {},
       "output_type": "display_data",
       "text": [
        "<IPython.core.display.Javascript at 0x21c58860>"
       ]
      },
      {
       "javascript": [
        "$('div#2a1cb8a8-487b-4b60-a4d7-bfd517a0794f').text(' 89%');"
       ],
       "metadata": {},
       "output_type": "display_data",
       "text": [
        "<IPython.core.display.Javascript at 0x21aaa588>"
       ]
      },
      {
       "javascript": [
        "\n",
        "        var $myPB = $(\"div#bb0792ea-63ff-45bb-825a-3a8ec1bfdf5b\")\n",
        "        if ($myPB.hasClass('ui-progressbar')) {\n",
        "            $myPB.progressbar('value', 88);\n",
        "        } else {\n",
        "            $myPB.progressbar({value: 0, max: 98});\n",
        "        }\n",
        "        "
       ],
       "metadata": {},
       "output_type": "display_data",
       "text": [
        "<IPython.core.display.Javascript at 0x21aaa9e8>"
       ]
      },
      {
       "javascript": [
        "$('div#1f64a032-a71d-4a68-ba1d-f094c0927e0d').text('ETA:  0:00:00');"
       ],
       "metadata": {},
       "output_type": "display_data",
       "text": [
        "<IPython.core.display.Javascript at 0x21c586a0>"
       ]
      },
      {
       "javascript": [
        "$('div#a1d25a5e-1b26-4330-8656-8e50e2f63ced').text('89 of 98');"
       ],
       "metadata": {},
       "output_type": "display_data",
       "text": [
        "<IPython.core.display.Javascript at 0x21c58ef0>"
       ]
      },
      {
       "javascript": [
        "$('div#2a1cb8a8-487b-4b60-a4d7-bfd517a0794f').text(' 90%');"
       ],
       "metadata": {},
       "output_type": "display_data",
       "text": [
        "<IPython.core.display.Javascript at 0x21c58ef0>"
       ]
      },
      {
       "javascript": [
        "\n",
        "        var $myPB = $(\"div#bb0792ea-63ff-45bb-825a-3a8ec1bfdf5b\")\n",
        "        if ($myPB.hasClass('ui-progressbar')) {\n",
        "            $myPB.progressbar('value', 89);\n",
        "        } else {\n",
        "            $myPB.progressbar({value: 0, max: 98});\n",
        "        }\n",
        "        "
       ],
       "metadata": {},
       "output_type": "display_data",
       "text": [
        "<IPython.core.display.Javascript at 0x23474da0>"
       ]
      },
      {
       "javascript": [
        "$('div#1f64a032-a71d-4a68-ba1d-f094c0927e0d').text('ETA:  0:00:00');"
       ],
       "metadata": {},
       "output_type": "display_data",
       "text": [
        "<IPython.core.display.Javascript at 0x23474e48>"
       ]
      },
      {
       "javascript": [
        "$('div#a1d25a5e-1b26-4330-8656-8e50e2f63ced').text('90 of 98');"
       ],
       "metadata": {},
       "output_type": "display_data",
       "text": [
        "<IPython.core.display.Javascript at 0x1f3ec588>"
       ]
      },
      {
       "javascript": [
        "$('div#2a1cb8a8-487b-4b60-a4d7-bfd517a0794f').text(' 91%');"
       ],
       "metadata": {},
       "output_type": "display_data",
       "text": [
        "<IPython.core.display.Javascript at 0x1f3ec588>"
       ]
      },
      {
       "javascript": [
        "\n",
        "        var $myPB = $(\"div#bb0792ea-63ff-45bb-825a-3a8ec1bfdf5b\")\n",
        "        if ($myPB.hasClass('ui-progressbar')) {\n",
        "            $myPB.progressbar('value', 90);\n",
        "        } else {\n",
        "            $myPB.progressbar({value: 0, max: 98});\n",
        "        }\n",
        "        "
       ],
       "metadata": {},
       "output_type": "display_data",
       "text": [
        "<IPython.core.display.Javascript at 0x1f3ec3c8>"
       ]
      },
      {
       "javascript": [
        "$('div#1f64a032-a71d-4a68-ba1d-f094c0927e0d').text('ETA:  0:00:00');"
       ],
       "metadata": {},
       "output_type": "display_data",
       "text": [
        "<IPython.core.display.Javascript at 0x1f3ec470>"
       ]
      },
      {
       "javascript": [
        "$('div#a1d25a5e-1b26-4330-8656-8e50e2f63ced').text('91 of 98');"
       ],
       "metadata": {},
       "output_type": "display_data",
       "text": [
        "<IPython.core.display.Javascript at 0x24103e10>"
       ]
      },
      {
       "javascript": [
        "$('div#2a1cb8a8-487b-4b60-a4d7-bfd517a0794f').text(' 92%');"
       ],
       "metadata": {},
       "output_type": "display_data",
       "text": [
        "<IPython.core.display.Javascript at 0x24103e10>"
       ]
      },
      {
       "javascript": [
        "\n",
        "        var $myPB = $(\"div#bb0792ea-63ff-45bb-825a-3a8ec1bfdf5b\")\n",
        "        if ($myPB.hasClass('ui-progressbar')) {\n",
        "            $myPB.progressbar('value', 91);\n",
        "        } else {\n",
        "            $myPB.progressbar({value: 0, max: 98});\n",
        "        }\n",
        "        "
       ],
       "metadata": {},
       "output_type": "display_data",
       "text": [
        "<IPython.core.display.Javascript at 0x24103320>"
       ]
      },
      {
       "javascript": [
        "$('div#1f64a032-a71d-4a68-ba1d-f094c0927e0d').text('ETA:  0:00:00');"
       ],
       "metadata": {},
       "output_type": "display_data",
       "text": [
        "<IPython.core.display.Javascript at 0x24103a58>"
       ]
      },
      {
       "javascript": [
        "$('div#a1d25a5e-1b26-4330-8656-8e50e2f63ced').text('92 of 98');"
       ],
       "metadata": {},
       "output_type": "display_data",
       "text": [
        "<IPython.core.display.Javascript at 0x24103860>"
       ]
      },
      {
       "javascript": [
        "$('div#2a1cb8a8-487b-4b60-a4d7-bfd517a0794f').text(' 93%');"
       ],
       "metadata": {},
       "output_type": "display_data",
       "text": [
        "<IPython.core.display.Javascript at 0x24103080>"
       ]
      },
      {
       "javascript": [
        "\n",
        "        var $myPB = $(\"div#bb0792ea-63ff-45bb-825a-3a8ec1bfdf5b\")\n",
        "        if ($myPB.hasClass('ui-progressbar')) {\n",
        "            $myPB.progressbar('value', 92);\n",
        "        } else {\n",
        "            $myPB.progressbar({value: 0, max: 98});\n",
        "        }\n",
        "        "
       ],
       "metadata": {},
       "output_type": "display_data",
       "text": [
        "<IPython.core.display.Javascript at 0x241037f0>"
       ]
      },
      {
       "javascript": [
        "$('div#1f64a032-a71d-4a68-ba1d-f094c0927e0d').text('ETA:  0:00:00');"
       ],
       "metadata": {},
       "output_type": "display_data",
       "text": [
        "<IPython.core.display.Javascript at 0x241037f0>"
       ]
      },
      {
       "javascript": [
        "$('div#a1d25a5e-1b26-4330-8656-8e50e2f63ced').text('93 of 98');"
       ],
       "metadata": {},
       "output_type": "display_data",
       "text": [
        "<IPython.core.display.Javascript at 0x24103828>"
       ]
      },
      {
       "javascript": [
        "$('div#2a1cb8a8-487b-4b60-a4d7-bfd517a0794f').text(' 94%');"
       ],
       "metadata": {},
       "output_type": "display_data",
       "text": [
        "<IPython.core.display.Javascript at 0x24103080>"
       ]
      },
      {
       "javascript": [
        "\n",
        "        var $myPB = $(\"div#bb0792ea-63ff-45bb-825a-3a8ec1bfdf5b\")\n",
        "        if ($myPB.hasClass('ui-progressbar')) {\n",
        "            $myPB.progressbar('value', 93);\n",
        "        } else {\n",
        "            $myPB.progressbar({value: 0, max: 98});\n",
        "        }\n",
        "        "
       ],
       "metadata": {},
       "output_type": "display_data",
       "text": [
        "<IPython.core.display.Javascript at 0x24103a20>"
       ]
      },
      {
       "javascript": [
        "$('div#1f64a032-a71d-4a68-ba1d-f094c0927e0d').text('ETA:  0:00:00');"
       ],
       "metadata": {},
       "output_type": "display_data",
       "text": [
        "<IPython.core.display.Javascript at 0x24103630>"
       ]
      },
      {
       "javascript": [
        "$('div#a1d25a5e-1b26-4330-8656-8e50e2f63ced').text('94 of 98');"
       ],
       "metadata": {},
       "output_type": "display_data",
       "text": [
        "<IPython.core.display.Javascript at 0x24103780>"
       ]
      },
      {
       "javascript": [
        "$('div#2a1cb8a8-487b-4b60-a4d7-bfd517a0794f').text(' 95%');"
       ],
       "metadata": {},
       "output_type": "display_data",
       "text": [
        "<IPython.core.display.Javascript at 0x24103048>"
       ]
      },
      {
       "javascript": [
        "\n",
        "        var $myPB = $(\"div#bb0792ea-63ff-45bb-825a-3a8ec1bfdf5b\")\n",
        "        if ($myPB.hasClass('ui-progressbar')) {\n",
        "            $myPB.progressbar('value', 94);\n",
        "        } else {\n",
        "            $myPB.progressbar({value: 0, max: 98});\n",
        "        }\n",
        "        "
       ],
       "metadata": {},
       "output_type": "display_data",
       "text": [
        "<IPython.core.display.Javascript at 0x24103080>"
       ]
      },
      {
       "javascript": [
        "$('div#1f64a032-a71d-4a68-ba1d-f094c0927e0d').text('ETA:  0:00:00');"
       ],
       "metadata": {},
       "output_type": "display_data",
       "text": [
        "<IPython.core.display.Javascript at 0x24103a20>"
       ]
      },
      {
       "javascript": [
        "$('div#a1d25a5e-1b26-4330-8656-8e50e2f63ced').text('95 of 98');"
       ],
       "metadata": {},
       "output_type": "display_data",
       "text": [
        "<IPython.core.display.Javascript at 0x24103f60>"
       ]
      },
      {
       "javascript": [
        "$('div#2a1cb8a8-487b-4b60-a4d7-bfd517a0794f').text(' 96%');"
       ],
       "metadata": {},
       "output_type": "display_data",
       "text": [
        "<IPython.core.display.Javascript at 0x241036d8>"
       ]
      },
      {
       "javascript": [
        "\n",
        "        var $myPB = $(\"div#bb0792ea-63ff-45bb-825a-3a8ec1bfdf5b\")\n",
        "        if ($myPB.hasClass('ui-progressbar')) {\n",
        "            $myPB.progressbar('value', 95);\n",
        "        } else {\n",
        "            $myPB.progressbar({value: 0, max: 98});\n",
        "        }\n",
        "        "
       ],
       "metadata": {},
       "output_type": "display_data",
       "text": [
        "<IPython.core.display.Javascript at 0x241036a0>"
       ]
      },
      {
       "javascript": [
        "$('div#1f64a032-a71d-4a68-ba1d-f094c0927e0d').text('ETA:  0:00:00');"
       ],
       "metadata": {},
       "output_type": "display_data",
       "text": [
        "<IPython.core.display.Javascript at 0x241036a0>"
       ]
      },
      {
       "javascript": [
        "$('div#a1d25a5e-1b26-4330-8656-8e50e2f63ced').text('96 of 98');"
       ],
       "metadata": {},
       "output_type": "display_data",
       "text": [
        "<IPython.core.display.Javascript at 0x1f9cbbe0>"
       ]
      },
      {
       "javascript": [
        "$('div#2a1cb8a8-487b-4b60-a4d7-bfd517a0794f').text(' 97%');"
       ],
       "metadata": {},
       "output_type": "display_data",
       "text": [
        "<IPython.core.display.Javascript at 0x1f9cbbe0>"
       ]
      },
      {
       "javascript": [
        "\n",
        "        var $myPB = $(\"div#bb0792ea-63ff-45bb-825a-3a8ec1bfdf5b\")\n",
        "        if ($myPB.hasClass('ui-progressbar')) {\n",
        "            $myPB.progressbar('value', 96);\n",
        "        } else {\n",
        "            $myPB.progressbar({value: 0, max: 98});\n",
        "        }\n",
        "        "
       ],
       "metadata": {},
       "output_type": "display_data",
       "text": [
        "<IPython.core.display.Javascript at 0x1f9cb6a0>"
       ]
      },
      {
       "javascript": [
        "$('div#1f64a032-a71d-4a68-ba1d-f094c0927e0d').text('ETA:  0:00:00');"
       ],
       "metadata": {},
       "output_type": "display_data",
       "text": [
        "<IPython.core.display.Javascript at 0x1f9cb780>"
       ]
      },
      {
       "javascript": [
        "$('div#a1d25a5e-1b26-4330-8656-8e50e2f63ced').text('97 of 98');"
       ],
       "metadata": {},
       "output_type": "display_data",
       "text": [
        "<IPython.core.display.Javascript at 0x2292b390>"
       ]
      },
      {
       "javascript": [
        "$('div#2a1cb8a8-487b-4b60-a4d7-bfd517a0794f').text(' 98%');"
       ],
       "metadata": {},
       "output_type": "display_data",
       "text": [
        "<IPython.core.display.Javascript at 0x2292bbe0>"
       ]
      },
      {
       "javascript": [
        "\n",
        "        var $myPB = $(\"div#bb0792ea-63ff-45bb-825a-3a8ec1bfdf5b\")\n",
        "        if ($myPB.hasClass('ui-progressbar')) {\n",
        "            $myPB.progressbar('value', 97);\n",
        "        } else {\n",
        "            $myPB.progressbar({value: 0, max: 98});\n",
        "        }\n",
        "        "
       ],
       "metadata": {},
       "output_type": "display_data",
       "text": [
        "<IPython.core.display.Javascript at 0x2292bbe0>"
       ]
      },
      {
       "javascript": [
        "$('div#1f64a032-a71d-4a68-ba1d-f094c0927e0d').text('ETA:  0:00:00');"
       ],
       "metadata": {},
       "output_type": "display_data",
       "text": [
        "<IPython.core.display.Javascript at 0x2292b550>"
       ]
      },
      {
       "javascript": [
        "$('div#a1d25a5e-1b26-4330-8656-8e50e2f63ced').text('98 of 98');"
       ],
       "metadata": {},
       "output_type": "display_data",
       "text": [
        "<IPython.core.display.Javascript at 0x1ffb8f60>"
       ]
      },
      {
       "javascript": [
        "$('div#2a1cb8a8-487b-4b60-a4d7-bfd517a0794f').text('100%');"
       ],
       "metadata": {},
       "output_type": "display_data",
       "text": [
        "<IPython.core.display.Javascript at 0x1ffb8f60>"
       ]
      },
      {
       "javascript": [
        "\n",
        "        var $myPB = $(\"div#bb0792ea-63ff-45bb-825a-3a8ec1bfdf5b\")\n",
        "        if ($myPB.hasClass('ui-progressbar')) {\n",
        "            $myPB.progressbar('value', 98);\n",
        "        } else {\n",
        "            $myPB.progressbar({value: 0, max: 98});\n",
        "        }\n",
        "        "
       ],
       "metadata": {},
       "output_type": "display_data",
       "text": [
        "<IPython.core.display.Javascript at 0x1ffb8080>"
       ]
      },
      {
       "javascript": [
        "$('div#1f64a032-a71d-4a68-ba1d-f094c0927e0d').text('ETA:  0:00:00');"
       ],
       "metadata": {},
       "output_type": "display_data",
       "text": [
        "<IPython.core.display.Javascript at 0x1ffb86d8>"
       ]
      },
      {
       "javascript": [
        "$('div#a1d25a5e-1b26-4330-8656-8e50e2f63ced').text('98 of 98');"
       ],
       "metadata": {},
       "output_type": "display_data",
       "text": [
        "<IPython.core.display.Javascript at 0x21c58ef0>"
       ]
      },
      {
       "javascript": [
        "$('div#2a1cb8a8-487b-4b60-a4d7-bfd517a0794f').text('100%');"
       ],
       "metadata": {},
       "output_type": "display_data",
       "text": [
        "<IPython.core.display.Javascript at 0x21c58ef0>"
       ]
      },
      {
       "javascript": [
        "\n",
        "        var $myPB = $(\"div#bb0792ea-63ff-45bb-825a-3a8ec1bfdf5b\")\n",
        "        if ($myPB.hasClass('ui-progressbar')) {\n",
        "            $myPB.progressbar('value', 98);\n",
        "        } else {\n",
        "            $myPB.progressbar({value: 0, max: 98});\n",
        "        }\n",
        "        "
       ],
       "metadata": {},
       "output_type": "display_data",
       "text": [
        "<IPython.core.display.Javascript at 0x1ffb8400>"
       ]
      },
      {
       "javascript": [
        "$('div#1f64a032-a71d-4a68-ba1d-f094c0927e0d').text('Time: 0:00:04');"
       ],
       "metadata": {},
       "output_type": "display_data",
       "text": [
        "<IPython.core.display.Javascript at 0x1ffb8080>"
       ]
      },
      {
       "javascript": [
        "var element = document.getElementById('e8d69c83-a893-4b53-a6c0-b7d08ac53ade');\n",
        "                    var parent = element.parentNode\n",
        "                    parent.removeChild(element);\n",
        "                    parent.parentElement.remove();"
       ],
       "metadata": {},
       "output_type": "display_data",
       "text": [
        "<IPython.core.display.Javascript at 0x23946940>"
       ]
      },
      {
       "javascript": [
        "this.cleanProgressBar(['e8d69c83-a893-4b53-a6c0-b7d08ac53ade', 'a1d25a5e-1b26-4330-8656-8e50e2f63ced', '2a1cb8a8-487b-4b60-a4d7-bfd517a0794f', 'bb0792ea-63ff-45bb-825a-3a8ec1bfdf5b', '1f64a032-a71d-4a68-ba1d-f094c0927e0d'])"
       ],
       "metadata": {},
       "output_type": "display_data",
       "text": [
        "<IPython.core.display.Javascript at 0x23946940>"
       ]
      }
     ],
     "prompt_number": 5
    },
    {
     "cell_type": "code",
     "collapsed": false,
     "input": [
      "import urllib\n",
      "for doc in docs:\n",
      "    u = urllib.urlencode({'term':docs[doc]['id']})\n",
      "    print doc, docs[doc]['n'], docs[doc]['id'], u\n",
      "    paragraphs = docs[doc]['content']\n",
      "    if ['Contents'] in paragraphs:\n",
      "        print 'found contents'\n",
      "    for para in paragraphs:\n",
      "        if len(para)==1 and not para[0].endswith('.'):\n",
      "#             print para\n",
      "            pass\n",
      "        else:\n",
      "            break\n",
      "    print '----------------------'\n",
      "#     break"
     ],
     "language": "python",
     "metadata": {},
     "outputs": [
      {
       "output_type": "stream",
       "stream": "stdout",
       "text": [
        " A_61_255-en.xml N0646317 A/61/255 term=A%2F61%2F255\n",
        "found contents\n",
        "----------------------\n",
        "A_CN9_631-en.xml V0781711 A/CN.9/631 term=A%2FCN.9%2F631\n",
        "found contents\n",
        "----------------------\n",
        "A_59_736-en.xml N0531927 A/59/736 term=A%2F59%2F736\n",
        "found contents\n",
        "----------------------\n",
        "A_60_727-en.xml N0628231 A/60/727 term=A%2F60%2F727\n",
        "found contents\n",
        "----------------------\n",
        "TD_386-en.xml G0070209 TD/386 term=TD%2F386\n",
        "----------------------\n",
        "A_60_692-en.xml N0625177 A/60/692 term=A%2F60%2F692\n",
        "found contents\n",
        "----------------------\n",
        "S_2003_529-en.xml N0334879 S/2003/529 term=S%2F2003%2F529\n",
        "----------------------\n",
        "A_CN9_614-en.xml V0657526 A/CN.9/614 term=A%2FCN.9%2F614\n",
        "found contents\n",
        "----------------------\n",
        "ST_SGB_2003_13-en.xml N0355040 ST/SGB/2003/13 term=ST%2FSGB%2F2003%2F13\n",
        "----------------------\n",
        "A_CN9_WGIII_WP32-en.xml V0387701 A/CN.9/WG.III/WP.32 term=A%2FCN.9%2FWG.III%2FWP.32\n",
        "found contents\n",
        "----------------------\n",
        "A_CN9_619-en.xml V0781818 A/CN.9/619 term=A%2FCN.9%2F619\n",
        "found contents\n",
        "----------------------\n",
        "A_CN9_WGI_WP65-en.xml V0857955 A/CN.9/WG.I/WP.65 term=A%2FCN.9%2FWG.I%2FWP.65\n",
        "----------------------\n",
        "A_56_17-en.xml V0186106 A/56/17 term=A%2F56%2F17\n",
        "found contents\n",
        "----------------------\n",
        "A_61_299-en.xml N0649105 A/61/299 term=A%2F61%2F299\n",
        "found contents\n",
        "----------------------\n",
        "JOURNALNO2002_227-en.xml N0268852 JOURNAL NO. 2002/227 term=JOURNAL+NO.+2002%2F227\n",
        "----------------------\n",
        "A_CN4_610-en.xml N0928275 A/CN.4/610 term=A%2FCN.4%2F610\n",
        "found contents\n",
        "----------------------\n",
        "A_AC105_848-en.xml V0582289 A/AC.105/848 term=A%2FAC.105%2F848\n",
        "found contents\n",
        "----------------------\n",
        "ST_IC_2006_1-en.xml N0621304 ST/IC/2006/1 term=ST%2FIC%2F2006%2F1\n",
        "found contents\n",
        "----------------------\n",
        "JOURNALNO2008_207-en.xml N0856312 JOURNAL NO.2008/207 term=JOURNAL+NO.2008%2F207\n",
        "----------------------\n",
        "A_55_2SUPP-A_55_2-en.xml N0062814 A/55/2(SUPP)-A/55/2 term=A%2F55%2F2%28SUPP%29-A%2F55%2F2\n",
        "found contents\n",
        "----------------------\n",
        "JOURNALNO2006_203-en.xml N0655993 JOURNAL NO.2006/203 term=JOURNAL+NO.2006%2F203\n",
        "----------------------\n",
        "A_59_2SUPP-en.xml N0452572 A/59/2(SUPP) term=A%2F59%2F2%28SUPP%29\n",
        "found contents\n",
        "----------------------\n",
        "E_CN4_2002_200-E_2002_23SUPP-en.xml G0215272 E/CN.4/2002/200-E/2002/23(SUPP) term=E%2FCN.4%2F2002%2F200-E%2F2002%2F23%28SUPP%29\n",
        "----------------------\n",
        "E_CN4_2005_135-E_2005_23SUPP-en.xml G0516105 E/CN.4/2005/135-E/2005/23(SUPP) term=E%2FCN.4%2F2005%2F135-E%2F2005%2F23%28SUPP%29\n",
        "found contents\n",
        "----------------------\n",
        "A_57_304-en.xml N0252584 A/57/304 term=A%2F57%2F304\n",
        "----------------------\n",
        "JOURNALNO2003_202-en.xml N0355168 JOURNAL NO. 2003/202 term=JOURNAL+NO.+2003%2F202\n",
        "----------------------\n",
        "A_61_10-en.xml G0663620 A/61/10 term=A%2F61%2F10\n",
        "----------------------\n",
        "A_CN9_WGI_WP70-en.xml V0986568 A/CN.9/WG.I/WP.70 term=A%2FCN.9%2FWG.I%2FWP.70\n",
        "----------------------\n",
        "A_62_439_ADD2-en.xml N0763022 A/62/439/ADD.2 term=A%2F62%2F439%2FADD.2\n",
        "----------------------\n",
        "A_CN9_WGIII_WP81-en.xml V0780735 A/CN.9/WG.III/WP.81 term=A%2FCN.9%2FWG.III%2FWP.81\n",
        "found contents\n",
        "----------------------\n",
        "A_AC261_IPM_14-en.xml V0188747 A/AC.261/IPM/14 term=A%2FAC.261%2FIPM%2F14\n",
        "----------------------\n",
        "APLC_CONF_2004_5-en.xml G0560290 APLC/CONF/2004/5 term=APLC%2FCONF%2F2004%2F5\n",
        "----------------------\n",
        "A_56_326-en.xml N0152607 A/56/326 term=A%2F56%2F326\n",
        "found contents\n",
        "----------------------\n",
        "JOURNALNO2002_241-en.xml N0271991 JOURNAL NO. 2002/241 term=JOURNAL+NO.+2002%2F241\n",
        "----------------------\n",
        "A_CN9_526-en.xml V0383978 A/CN.9/526 term=A%2FCN.9%2F526\n",
        "found contents\n",
        "----------------------\n",
        "JOURNALNO2006_205-en.xml N0657522 JOURNAL NO.2006/205 term=JOURNAL+NO.2006%2F205\n",
        "----------------------\n",
        "A_56_887-en.xml N0231925 A/56/887 term=A%2F56%2F887\n",
        "found contents\n",
        "----------------------\n",
        "A_CN9_575-en.xml V0583411 A/CN.9/575 term=A%2FCN.9%2F575\n",
        "found contents\n",
        "----------------------\n",
        "A_CN9_WGI_WP67-en.xml V0981479 A/CN.9/WG.I/WP.67 term=A%2FCN.9%2FWG.I%2FWP.67\n",
        "----------------------\n",
        "A_CN9_595-en.xml V0653909 A/CN.9/595 term=A%2FCN.9%2F595\n",
        "found contents\n",
        "----------------------\n",
        "JOURNALNO2004_206-en.xml N0455137 JOURNAL NO. 2004/206 term=JOURNAL+NO.+2004%2F206\n",
        "----------------------\n",
        "A_ES-10_273-en.xml N0441986 A/ES-10/273 term=A%2FES-10%2F273\n",
        "----------------------\n",
        "A_54_2000-en.xml N0038897 A/54/2000 term=A%2F54%2F2000\n",
        "found contents\n",
        "----------------------\n",
        "A_CN9_509-en.xml V0252726 A/CN.9/509 term=A%2FCN.9%2F509\n",
        "found contents\n",
        "----------------------\n",
        "A_CN9_WGIII_WP101-en.xml V0788107 A/CN.9/WG.III/WP.101 term=A%2FCN.9%2FWG.III%2FWP.101\n",
        "found contents\n",
        "----------------------\n",
        "ST_SGB_2000_8-en.xml N0040845 ST/SGB/2000/8 term=ST%2FSGB%2F2000%2F8\n",
        "found contents\n",
        "----------------------\n",
        "JOURNALNO2003_204-en.xml N0355192 JOURNAL NO. 2003/204 term=JOURNAL+NO.+2003%2F204\n",
        "----------------------\n",
        "ST_IC_2007_1-en.xml N0723572 ST/IC/2007/1 term=ST%2FIC%2F2007%2F1\n",
        "found contents\n",
        "----------------------\n",
        "A_CONF206_6-en.xml G0561029 A/CONF.206/6 term=A%2FCONF.206%2F6\n",
        "found contents\n",
        "----------------------\n",
        "A_CONF189_12-en.xml N0221543 A/CONF.189/12 term=A%2FCONF.189%2F12\n",
        "----------------------\n",
        "TRANS_WP30_AC2_59-en.xml G0120042 TRANS/WP.30/AC.2/59 term=TRANS%2FWP.30%2FAC.2%2F59\n",
        "----------------------\n",
        "ST_IC_2008_1-en.xml N0824547 ST/IC/2008/1 term=ST%2FIC%2F2008%2F1\n",
        "found contents\n",
        "----------------------\n",
        "A_58_16-en.xml N0342481 A/58/16 term=A%2F58%2F16\n",
        "found contents\n",
        "----------------------\n",
        "JOURNALNO2003_240-en.xml N0363884 JOURNAL NO. 2003/240 term=JOURNAL+NO.+2003%2F240\n",
        "----------------------\n",
        "A_61_2SUPP-en.xml N0663736 A/61/2(SUPP) term=A%2F61%2F2%28SUPP%29\n",
        "found contents\n",
        "----------------------\n",
        "A_56_61-en.xml N0130266 A/56/61 term=A%2F56%2F61\n",
        "found contents\n",
        "----------------------\n",
        "A_CN9_485-en.xml V0060407 A/CN.9/485 term=A%2FCN.9%2F485\n",
        "found contents\n",
        "----------------------\n",
        "JOURNALNO2008_210-en.xml N0857057 JOURNAL NO.2008/210 term=JOURNAL+NO.2008%2F210\n",
        "----------------------\n",
        "A_57_2SUPP-en.xml N0260781 A/57/2(SUPP) term=A%2F57%2F2%28SUPP%29\n",
        "found contents\n",
        "----------------------\n",
        "A_56_2SUPP-en.xml N0154435 A/56/2(SUPP) term=A%2F56%2F2%28SUPP%29\n",
        "found contents\n",
        "----------------------\n",
        "JOURNALNO2007_208-en.xml N0753338 JOURNAL NO.2007/208 term=JOURNAL+NO.2007%2F208\n",
        "----------------------\n",
        "E_CN4_2001_167-E_2001_23SUPP-E_2001_23-en.xml G0115748 E/CN.4/2001/167-E/2001/23(SUPP)-E/2001/23 term=E%2FCN.4%2F2001%2F167-E%2F2001%2F23%28SUPP%29-E%2F2001%2F23\n",
        "----------------------\n",
        "JOURNALNO2003_205-en.xml N0355936 JOURNAL NO. 2003/205 term=JOURNAL+NO.+2003%2F205\n",
        "----------------------\n",
        "A_55_253-en.xml N0059175 A/55/253 term=A%2F55%2F253\n",
        "found contents\n",
        "----------------------\n",
        "E_CN4_2004_127-E_2004_23SUPP-en.xml G0416200 E/CN.4/2004/127-E/2004/23(SUPP) term=E%2FCN.4%2F2004%2F127-E%2F2004%2F23%28SUPP%29\n",
        "----------------------\n",
        "A_60_2SUPP-en.xml N0551747 A/60/2(SUPP) term=A%2F60%2F2%28SUPP%29\n",
        "found contents\n",
        "----------------------\n",
        "A_HRC_8_52-en.xml G0815283 A/HRC/8/52 term=A%2FHRC%2F8%2F52\n",
        "----------------------\n",
        "A_59_303-en.xml N0447505 A/59/303 term=A%2F59%2F303\n",
        "found contents\n",
        "----------------------\n",
        "A_CN9_668-en.xml V0980883 A/CN.9/668 term=A%2FCN.9%2F668\n",
        "found contents\n",
        "----------------------\n",
        "A_62_100_ADD1-en.xml N0754109 A/62/100/ADD.1 term=A%2F62%2F100%2FADD.1\n",
        "found contents\n",
        "----------------------\n",
        "A_59_2005-en.xml N0527078 A/59/2005 term=A%2F59%2F2005\n",
        "found contents\n",
        "----------------------\n",
        "JOURNALNO2006_202-en.xml N0655981 JOURNAL NO.2006/202 term=JOURNAL+NO.2006%2F202\n",
        "----------------------\n",
        "A_CN9_468-en.xml V0053064 A/CN.9/468 term=A%2FCN.9%2F468\n",
        "found contents\n",
        "----------------------\n",
        "JOURNALNO2006_204-en.xml N0655999 JOURNAL NO.2006/204 term=JOURNAL+NO.2006%2F204\n",
        "----------------------\n",
        "A_59_565-en.xml N0460231 A/59/565 term=A%2F59%2F565\n",
        "found contents\n",
        "----------------------\n",
        "A_C2_56_7-en.xml N0166129 A/C.2/56/7 term=A%2FC.2%2F56%2F7\n",
        "----------------------\n",
        "JOURNALNO2002_228-en.xml N0268858 JOURNAL NO. 2002/228 term=JOURNAL+NO.+2002%2F228\n",
        "----------------------\n",
        "S_INF_63-en.xml N0860709 S/INF/63 term=S%2FINF%2F63\n",
        "found contents\n",
        "----------------------\n",
        "E_CN4_2003_135-E_2003_23SUPP-en.xml G0316227 E/CN.4/2003/135-E/2003/23(SUPP) term=E%2FCN.4%2F2003%2F135-E%2F2003%2F23%28SUPP%29\n",
        "----------------------\n",
        "JOURNALNO2004_209-en.xml N0456991 JOURNAL NO. 2004/209 term=JOURNAL+NO.+2004%2F209\n",
        "----------------------\n",
        "A_57_387-en.xml N0258326 A/57/387 term=A%2F57%2F387\n",
        "found contents\n",
        "----------------------\n",
        "A_60_7_ADD1-42-en.xml N0740587 A/60/7/ADD.1-42 term=A%2F60%2F7%2FADD.1-42\n",
        "found contents\n",
        "----------------------\n",
        "JOURNALNO2007_209-en.xml N0754212 JOURNAL NO.2007/209 term=JOURNAL+NO.2007%2F209\n",
        "----------------------\n",
        "ST_IC_2009_1-en.xml N0921438 ST/IC/2009/1 term=ST%2FIC%2F2009%2F1\n",
        "found contents\n",
        "----------------------\n",
        "CRC_C_118-en.xml G0244335 CRC/C/118 term=CRC%2FC%2F118\n",
        "----------------------\n",
        "A_CN9_623-en.xml V0784106 A/CN.9/623 term=A%2FCN.9%2F623\n",
        "found contents\n",
        "----------------------\n",
        "JOURNALNO2004_208-en.xml N0456985 JOURNAL NO. 2004/208 term=JOURNAL+NO.+2004%2F208\n",
        "----------------------\n",
        "S_2006_507-en.xml N0643544 S/2006/507 term=S%2F2006%2F507\n",
        "found contents\n",
        "----------------------\n",
        "A_57_772-en.xml N0331136 A/57/772 term=A%2F57%2F772\n",
        "found contents\n",
        "----------------------\n",
        "A_CN9_568-en.xml V0457812 A/CN.9/568 term=A%2FCN.9%2F568\n",
        "found contents\n",
        "----------------------\n",
        "A_CN9_615-en.xml V0657564 A/CN.9/615 term=A%2FCN.9%2F615\n",
        "found contents\n",
        "----------------------\n",
        "JOURNALNO2007_204-en.xml N0753313 JOURNAL NO.2007/204 term=JOURNAL+NO.2007%2F204\n",
        "----------------------\n",
        "A_55_874-en.xml N0132461 A/55/874 term=A%2F55%2F874\n",
        "----------------------\n",
        "A_CN9_590-en.xml V0590125 A/CN.9/590 term=A%2FCN.9%2F590\n",
        "found contents\n",
        "----------------------\n",
        "ST_IC_2005_1-en.xml N0521787 ST/IC/2005/1 term=ST%2FIC%2F2005%2F1\n",
        "found contents\n",
        "----------------------\n",
        "A_62_2SUPP-en.xml N0756517 A/62/2(SUPP) term=A%2F62%2F2%28SUPP%29\n",
        "found contents\n",
        "----------------------\n",
        "A_63_2SUPP-en.xml N0857742 A/63/2(SUPP) term=A%2F63%2F2%28SUPP%29\n",
        "found contents\n",
        "----------------------\n",
        "A_CN9_WGIII_WP56-en.xml V0587082 A/CN.9/WG.III/WP.56 term=A%2FCN.9%2FWG.III%2FWP.56\n",
        "found contents\n",
        "----------------------\n"
       ]
      }
     ],
     "prompt_number": 24
    },
    {
     "cell_type": "code",
     "collapsed": false,
     "input": [
      "for doc in docs:\n",
      "    print docs[doc]['n']"
     ],
     "language": "python",
     "metadata": {},
     "outputs": [
      {
       "output_type": "stream",
       "stream": "stdout",
       "text": [
        "N0646317\n",
        "V0781711\n",
        "N0531927\n",
        "N0628231\n",
        "G0070209\n",
        "N0625177\n",
        "N0334879\n",
        "V0657526\n",
        "N0355040\n",
        "V0387701\n",
        "V0781818\n",
        "V0857955\n",
        "V0186106\n",
        "N0649105\n",
        "N0268852\n",
        "N0928275\n",
        "V0582289\n",
        "N0621304\n",
        "N0856312\n",
        "N0062814\n",
        "N0655993\n",
        "N0452572\n",
        "G0215272\n",
        "G0516105\n",
        "N0252584\n",
        "N0355168\n",
        "G0663620\n",
        "V0986568\n",
        "N0763022\n",
        "V0780735\n",
        "V0188747\n",
        "G0560290\n",
        "N0152607\n",
        "N0271991\n",
        "V0383978\n",
        "N0657522\n",
        "N0231925\n",
        "V0583411\n",
        "V0981479\n",
        "V0653909\n",
        "N0455137\n",
        "N0441986\n",
        "N0038897\n",
        "V0252726\n",
        "V0788107\n",
        "N0040845\n",
        "N0355192\n",
        "N0723572\n",
        "G0561029\n",
        "N0221543\n",
        "G0120042\n",
        "N0824547\n",
        "N0342481\n",
        "N0363884\n",
        "N0663736\n",
        "N0130266\n",
        "V0060407\n",
        "N0857057\n",
        "N0260781\n",
        "N0154435\n",
        "N0753338\n",
        "G0115748\n",
        "N0355936\n",
        "N0059175\n",
        "G0416200\n",
        "N0551747\n",
        "G0815283\n",
        "N0447505\n",
        "V0980883\n",
        "N0754109\n",
        "N0527078\n",
        "N0655981\n",
        "V0053064\n",
        "N0655999\n",
        "N0460231\n",
        "N0166129\n",
        "N0268858\n",
        "N0860709\n",
        "G0316227\n",
        "N0456991\n",
        "N0258326\n",
        "N0740587\n",
        "N0754212\n",
        "N0921438\n",
        "G0244335\n",
        "V0784106\n",
        "N0456985\n",
        "N0643544\n",
        "N0331136\n",
        "V0457812\n",
        "V0657564\n",
        "N0753313\n",
        "N0132461\n",
        "V0590125\n",
        "N0521787\n",
        "N0756517\n",
        "N0857742\n",
        "V0587082\n"
       ]
      }
     ],
     "prompt_number": 25
    }
   ],
   "metadata": {}
  }
 ]
}