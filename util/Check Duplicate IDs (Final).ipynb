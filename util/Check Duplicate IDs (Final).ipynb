{
 "metadata": {
  "name": "",
  "signature": "sha256:f8afbcee52f5b74bb5197f185b0357057034f35ec3557028c225bb4c2a9ff4e7"
 },
 "nbformat": 3,
 "nbformat_minor": 0,
 "worksheets": [
  {
   "cells": [
    {
     "cell_type": "heading",
     "level": 1,
     "metadata": {},
     "source": [
      "Check if there are ducplicate IDs in the corpus"
     ]
    },
    {
     "cell_type": "code",
     "collapsed": false,
     "input": [
      "MODULES_PATH = '''../modules/multi_un_module.py'''\n",
      "import imp\n",
      "NF = imp.load_source('multi_un_module', MODULES_PATH)\n",
      "import multi_un_module as mun\n",
      "from IPython.display import HTML"
     ],
     "language": "python",
     "metadata": {},
     "outputs": [],
     "prompt_number": 2
    },
    {
     "cell_type": "markdown",
     "metadata": {},
     "source": [
      "Load Map"
     ]
    },
    {
     "cell_type": "code",
     "collapsed": false,
     "input": [
      "mm = mun.load_doc_map()"
     ],
     "language": "python",
     "metadata": {},
     "outputs": [],
     "prompt_number": 3
    },
    {
     "cell_type": "markdown",
     "metadata": {},
     "source": [
      "Create a map of IDs"
     ]
    },
    {
     "cell_type": "code",
     "collapsed": false,
     "input": [
      "id_map = [(doc, mun.MUN_MAP[doc]['attributes']['id'], mun.MUN_MAP[doc]['attributes']['n']) for doc in mun.MUN_MAP]\n",
      "id_map[:10]"
     ],
     "language": "python",
     "metadata": {},
     "outputs": [
      {
       "metadata": {},
       "output_type": "pyout",
       "prompt_number": 7,
       "text": [
        "[(u'multiUN.en\\\\un\\\\xml\\\\en\\\\2006\\\\A_61_408-en.xml', u'A/61/408', u'N0654840'),\n",
        " (u'multiUN.en\\\\un\\\\xml\\\\en\\\\2008\\\\A_62_949-en.xml', u'A/62/949', u'N0849844'),\n",
        " (u'multiUN.en\\\\un\\\\xml\\\\en\\\\2000\\\\E_ESCAP_STAT12_14-en.xml',\n",
        "  u'E/ESCAP/STAT.12/14',\n",
        "  u'B070347'),\n",
        " (u'multiUN.en\\\\un\\\\xml\\\\en\\\\2007\\\\CCPR_C_SR2453-en.xml',\n",
        "  u'CCPR/C/SR.2453',\n",
        "  u'G0742871'),\n",
        " (u'multiUN.en\\\\un\\\\xml\\\\en\\\\2001\\\\E_C12_2001_L1_REV1-en.xml',\n",
        "  u'E/C.12/2001/L.1/REV.1',\n",
        "  u'G0141367'),\n",
        " (u'multiUN.en\\\\un\\\\xml\\\\en\\\\2009\\\\A_C5_63_SR45-en.xml',\n",
        "  u'A/C.5/63/SR.45',\n",
        "  u'N0934073'),\n",
        " (u'multiUN.en\\\\un\\\\xml\\\\en\\\\2005\\\\A_RES_60_194-en.xml',\n",
        "  u'A/RES/60/194',\n",
        "  u'N0549924'),\n",
        " (u'multiUN.en\\\\un\\\\xml\\\\en\\\\2002\\\\JOURNALNO2002_18-en.xml',\n",
        "  u'JOURNAL NO. 2002/18',\n",
        "  u'N0220509'),\n",
        " (u'multiUN.en\\\\un\\\\xml\\\\en\\\\2004\\\\TD_BS-XXI_2-en.xml',\n",
        "  u'TD/B(S-XXI)/2',\n",
        "  u'G0451022'),\n",
        " (u'multiUN.en\\\\un\\\\xml\\\\en\\\\2008\\\\A_HRC_8_10_ADD4-en.xml',\n",
        "  u'A/HRC/8/10/ADD.4',\n",
        "  u'G0813769')]"
       ]
      }
     ],
     "prompt_number": 7
    },
    {
     "cell_type": "heading",
     "level": 2,
     "metadata": {},
     "source": [
      "Frequency Distributions of id"
     ]
    },
    {
     "cell_type": "code",
     "collapsed": false,
     "input": [
      "import nltk\n",
      "fd_id = nltk.FreqDist([d[1] for d in id_map])\n",
      "print fd_id.items()[:40]"
     ],
     "language": "python",
     "metadata": {},
     "outputs": [
      {
       "output_type": "stream",
       "stream": "stdout",
       "text": [
        "[(u'A/C.3/63/SR.46', 2), (u'A/C.5/63/SR.19', 2), (u'A/C.5/63/SR.23', 2), (u'A/RES/60/265', 2), (u'A/RES/62/25', 2), (u'A/RES/62/39', 2), (u'A/RES/63/1', 2), (u'A/RES/63/100A-B', 2), (u'A/RES/63/108A-B', 2), (u'A/RES/63/110', 2), (u'A/RES/63/111', 2), (u'A/RES/63/118', 2), (u'A/RES/63/120', 2), (u'A/RES/63/122', 2), (u'A/RES/63/125', 2), (u'A/RES/63/126', 2), (u'A/RES/63/127', 2), (u'A/RES/63/150', 2), (u'A/RES/63/155', 2), (u'A/RES/63/191', 2), (u'A/RES/63/197', 2), (u'A/RES/63/262', 2), (u'A/RES/63/66', 2), (u'A/RES/63/85', 2), (u'A/RES/63/89', 2), (u'A/RES/63/90', 2), (u'A/RES/63/91', 2), (u'A/RES/63/93', 2), (u'A/RES/63/95', 2), (u'A/RES/63/97', 2), (u'A/RES/63/98', 2), (u'PBC/3/OC/8', 2), (u'PBC/3/SLE/SR.1', 2), (u'S/2008/762-A/63/597', 2), (u'S/INF/63', 2), (u'A/520/REV.16', 1), (u'A/520/REV.16/CORR.1', 1), (u'A/520/REV.17', 1), (u'A/53/647/CORR.1', 1), (u'A/54/101/REV.1/ADD.1', 1)]\n"
       ]
      }
     ],
     "prompt_number": 10
    },
    {
     "cell_type": "heading",
     "level": 2,
     "metadata": {},
     "source": [
      "Frequency Distributions of n"
     ]
    },
    {
     "cell_type": "code",
     "collapsed": false,
     "input": [
      "fd_n = nltk.FreqDist([d[2] for d in id_map])\n",
      "print fd_n.items()[:40]"
     ],
     "language": "python",
     "metadata": {},
     "outputs": [
      {
       "output_type": "stream",
       "stream": "stdout",
       "text": [
        "[(u'N0550350', 2), (u'N0746527', 2), (u'N0746611', 2), (u'N0847085', 2), (u'N0847475', 2), (u'N0847589', 2), (u'N0847613', 2), (u'N0847619', 2), (u'N0847625', 2), (u'N0847637', 2), (u'N0847649', 2), (u'N0847661', 2), (u'N0847667', 2), (u'N0847679', 2), (u'N0847727', 2), (u'N0847739', 2), (u'N0847745', 2), (u'N0847787', 2), (u'N0847799', 2), (u'N0847811', 2), (u'N0847829', 2), (u'N0847835', 2), (u'N0847841', 2), (u'N0847979', 2), (u'N0848009', 2), (u'N0848225', 2), (u'N0848261', 2), (u'N0848651', 2), (u'N0856942', 2), (u'N0856960', 2), (u'N0856999', 2), (u'N0860709', 2), (u'N0861100', 2), (u'N0861625', 2), (u'N0864945', 2), (u'N0864951', 2), (u'N0865430', 2), (u'N0866875', 2), (u'983', 1), (u'A0300001', 1)]\n"
       ]
      }
     ],
     "prompt_number": 11
    },
    {
     "cell_type": "heading",
     "level": 2,
     "metadata": {},
     "source": [
      "Frequency Distributions of Duplicate id, n tuples"
     ]
    },
    {
     "cell_type": "markdown",
     "metadata": {},
     "source": [
      "There are duplicates by year. That's why the file path is used as a key for the map"
     ]
    },
    {
     "cell_type": "code",
     "collapsed": false,
     "input": [
      "fd_nid = nltk.FreqDist([(d[1], d[2]) for d in id_map])\n",
      "dbl = [i[0] for i in fd_nid.items() if i[1]>1]\n",
      "dbl"
     ],
     "language": "python",
     "metadata": {},
     "outputs": [
      {
       "metadata": {},
       "output_type": "pyout",
       "prompt_number": 35,
       "text": [
        "[(u'A/C.3/63/SR.46', u'N0861625'),\n",
        " (u'A/C.5/63/SR.19', u'N0861100'),\n",
        " (u'A/C.5/63/SR.23', u'N0864951'),\n",
        " (u'A/RES/60/265', u'N0550350'),\n",
        " (u'A/RES/62/25', u'N0746527'),\n",
        " (u'A/RES/62/39', u'N0746611'),\n",
        " (u'A/RES/63/1', u'N0847085'),\n",
        " (u'A/RES/63/100A-B', u'N0847679'),\n",
        " (u'A/RES/63/108A-B', u'N0847727'),\n",
        " (u'A/RES/63/110', u'N0847739'),\n",
        " (u'A/RES/63/111', u'N0847745'),\n",
        " (u'A/RES/63/118', u'N0847787'),\n",
        " (u'A/RES/63/120', u'N0847799'),\n",
        " (u'A/RES/63/122', u'N0847811'),\n",
        " (u'A/RES/63/125', u'N0847829'),\n",
        " (u'A/RES/63/126', u'N0847835'),\n",
        " (u'A/RES/63/127', u'N0847841'),\n",
        " (u'A/RES/63/150', u'N0847979'),\n",
        " (u'A/RES/63/155', u'N0848009'),\n",
        " (u'A/RES/63/191', u'N0848225'),\n",
        " (u'A/RES/63/197', u'N0848261'),\n",
        " (u'A/RES/63/262', u'N0848651'),\n",
        " (u'A/RES/63/66', u'N0847475'),\n",
        " (u'A/RES/63/85', u'N0847589'),\n",
        " (u'A/RES/63/89', u'N0847613'),\n",
        " (u'A/RES/63/90', u'N0847619'),\n",
        " (u'A/RES/63/91', u'N0847625'),\n",
        " (u'A/RES/63/93', u'N0847637'),\n",
        " (u'A/RES/63/95', u'N0847649'),\n",
        " (u'A/RES/63/97', u'N0847661'),\n",
        " (u'A/RES/63/98', u'N0847667'),\n",
        " (u'PBC/3/OC/8', u'N0866875'),\n",
        " (u'PBC/3/SLE/SR.1', u'N0864945'),\n",
        " (u'S/2008/762-A/63/597', u'N0865430'),\n",
        " (u'S/INF/63', u'N0860709')]"
       ]
      }
     ],
     "prompt_number": 35
    },
    {
     "cell_type": "heading",
     "level": 2,
     "metadata": {},
     "source": [
      "Duplicate Documents"
     ]
    },
    {
     "cell_type": "code",
     "collapsed": false,
     "input": [
      "dbl_doc = sorted([( mun.MUN_MAP[doc]['attributes']['n'], doc) for doc in mun.MUN_MAP if (mun.MUN_MAP[doc]['attributes']['id'], mun.MUN_MAP[doc]['attributes']['n']) in dbl])\n",
      "dbl_doc"
     ],
     "language": "python",
     "metadata": {},
     "outputs": [
      {
       "metadata": {},
       "output_type": "pyout",
       "prompt_number": 38,
       "text": [
        "[(u'N0550350', u'multiUN.en\\\\un\\\\xml\\\\en\\\\2005\\\\A_RES_60_265-en.xml'),\n",
        " (u'N0550350', u'multiUN.en\\\\un\\\\xml\\\\en\\\\2009\\\\A_RES_60_265-en.xml'),\n",
        " (u'N0746527', u'multiUN.en\\\\un\\\\xml\\\\en\\\\2007\\\\A_RES_62_25-en.xml'),\n",
        " (u'N0746527', u'multiUN.en\\\\un\\\\xml\\\\en\\\\2009\\\\A_RES_62_25-en.xml'),\n",
        " (u'N0746611', u'multiUN.en\\\\un\\\\xml\\\\en\\\\2007\\\\A_RES_62_39-en.xml'),\n",
        " (u'N0746611', u'multiUN.en\\\\un\\\\xml\\\\en\\\\2009\\\\A_RES_62_39-en.xml'),\n",
        " (u'N0847085', u'multiUN.en\\\\un\\\\xml\\\\en\\\\2008\\\\A_RES_63_1-en.xml'),\n",
        " (u'N0847085', u'multiUN.en\\\\un\\\\xml\\\\en\\\\2009\\\\A_RES_63_1-en.xml'),\n",
        " (u'N0847475', u'multiUN.en\\\\un\\\\xml\\\\en\\\\2008\\\\A_RES_63_66-en.xml'),\n",
        " (u'N0847475', u'multiUN.en\\\\un\\\\xml\\\\en\\\\2009\\\\A_RES_63_66-en.xml'),\n",
        " (u'N0847589', u'multiUN.en\\\\un\\\\xml\\\\en\\\\2008\\\\A_RES_63_85-en.xml'),\n",
        " (u'N0847589', u'multiUN.en\\\\un\\\\xml\\\\en\\\\2009\\\\A_RES_63_85-en.xml'),\n",
        " (u'N0847613', u'multiUN.en\\\\un\\\\xml\\\\en\\\\2008\\\\A_RES_63_89-en.xml'),\n",
        " (u'N0847613', u'multiUN.en\\\\un\\\\xml\\\\en\\\\2009\\\\A_RES_63_89-en.xml'),\n",
        " (u'N0847619', u'multiUN.en\\\\un\\\\xml\\\\en\\\\2008\\\\A_RES_63_90-en.xml'),\n",
        " (u'N0847619', u'multiUN.en\\\\un\\\\xml\\\\en\\\\2009\\\\A_RES_63_90-en.xml'),\n",
        " (u'N0847625', u'multiUN.en\\\\un\\\\xml\\\\en\\\\2008\\\\A_RES_63_91-en.xml'),\n",
        " (u'N0847625', u'multiUN.en\\\\un\\\\xml\\\\en\\\\2009\\\\A_RES_63_91-en.xml'),\n",
        " (u'N0847637', u'multiUN.en\\\\un\\\\xml\\\\en\\\\2008\\\\A_RES_63_93-en.xml'),\n",
        " (u'N0847637', u'multiUN.en\\\\un\\\\xml\\\\en\\\\2009\\\\A_RES_63_93-en.xml'),\n",
        " (u'N0847649', u'multiUN.en\\\\un\\\\xml\\\\en\\\\2008\\\\A_RES_63_95-en.xml'),\n",
        " (u'N0847649', u'multiUN.en\\\\un\\\\xml\\\\en\\\\2009\\\\A_RES_63_95-en.xml'),\n",
        " (u'N0847661', u'multiUN.en\\\\un\\\\xml\\\\en\\\\2008\\\\A_RES_63_97-en.xml'),\n",
        " (u'N0847661', u'multiUN.en\\\\un\\\\xml\\\\en\\\\2009\\\\A_RES_63_97-en.xml'),\n",
        " (u'N0847667', u'multiUN.en\\\\un\\\\xml\\\\en\\\\2008\\\\A_RES_63_98-en.xml'),\n",
        " (u'N0847667', u'multiUN.en\\\\un\\\\xml\\\\en\\\\2009\\\\A_RES_63_98-en.xml'),\n",
        " (u'N0847679', u'multiUN.en\\\\un\\\\xml\\\\en\\\\2008\\\\A_RES_63_100A-B-en.xml'),\n",
        " (u'N0847679', u'multiUN.en\\\\un\\\\xml\\\\en\\\\2009\\\\A_RES_63_100A-B-en.xml'),\n",
        " (u'N0847727', u'multiUN.en\\\\un\\\\xml\\\\en\\\\2008\\\\A_RES_63_108A-B-en.xml'),\n",
        " (u'N0847727', u'multiUN.en\\\\un\\\\xml\\\\en\\\\2009\\\\A_RES_63_108A-B-en.xml'),\n",
        " (u'N0847739', u'multiUN.en\\\\un\\\\xml\\\\en\\\\2008\\\\A_RES_63_110-en.xml'),\n",
        " (u'N0847739', u'multiUN.en\\\\un\\\\xml\\\\en\\\\2009\\\\A_RES_63_110-en.xml'),\n",
        " (u'N0847745', u'multiUN.en\\\\un\\\\xml\\\\en\\\\2008\\\\A_RES_63_111-en.xml'),\n",
        " (u'N0847745', u'multiUN.en\\\\un\\\\xml\\\\en\\\\2009\\\\A_RES_63_111-en.xml'),\n",
        " (u'N0847787', u'multiUN.en\\\\un\\\\xml\\\\en\\\\2008\\\\A_RES_63_118-en.xml'),\n",
        " (u'N0847787', u'multiUN.en\\\\un\\\\xml\\\\en\\\\2009\\\\A_RES_63_118-en.xml'),\n",
        " (u'N0847799', u'multiUN.en\\\\un\\\\xml\\\\en\\\\2008\\\\A_RES_63_120-en.xml'),\n",
        " (u'N0847799', u'multiUN.en\\\\un\\\\xml\\\\en\\\\2009\\\\A_RES_63_120-en.xml'),\n",
        " (u'N0847811', u'multiUN.en\\\\un\\\\xml\\\\en\\\\2008\\\\A_RES_63_122-en.xml'),\n",
        " (u'N0847811', u'multiUN.en\\\\un\\\\xml\\\\en\\\\2009\\\\A_RES_63_122-en.xml'),\n",
        " (u'N0847829', u'multiUN.en\\\\un\\\\xml\\\\en\\\\2008\\\\A_RES_63_125-en.xml'),\n",
        " (u'N0847829', u'multiUN.en\\\\un\\\\xml\\\\en\\\\2009\\\\A_RES_63_125-en.xml'),\n",
        " (u'N0847835', u'multiUN.en\\\\un\\\\xml\\\\en\\\\2008\\\\A_RES_63_126-en.xml'),\n",
        " (u'N0847835', u'multiUN.en\\\\un\\\\xml\\\\en\\\\2009\\\\A_RES_63_126-en.xml'),\n",
        " (u'N0847841', u'multiUN.en\\\\un\\\\xml\\\\en\\\\2008\\\\A_RES_63_127-en.xml'),\n",
        " (u'N0847841', u'multiUN.en\\\\un\\\\xml\\\\en\\\\2009\\\\A_RES_63_127-en.xml'),\n",
        " (u'N0847979', u'multiUN.en\\\\un\\\\xml\\\\en\\\\2008\\\\A_RES_63_150-en.xml'),\n",
        " (u'N0847979', u'multiUN.en\\\\un\\\\xml\\\\en\\\\2009\\\\A_RES_63_150-en.xml'),\n",
        " (u'N0848009', u'multiUN.en\\\\un\\\\xml\\\\en\\\\2008\\\\A_RES_63_155-en.xml'),\n",
        " (u'N0848009', u'multiUN.en\\\\un\\\\xml\\\\en\\\\2009\\\\A_RES_63_155-en.xml'),\n",
        " (u'N0848225', u'multiUN.en\\\\un\\\\xml\\\\en\\\\2008\\\\A_RES_63_191-en.xml'),\n",
        " (u'N0848225', u'multiUN.en\\\\un\\\\xml\\\\en\\\\2009\\\\A_RES_63_191-en.xml'),\n",
        " (u'N0848261', u'multiUN.en\\\\un\\\\xml\\\\en\\\\2008\\\\A_RES_63_197-en.xml'),\n",
        " (u'N0848261', u'multiUN.en\\\\un\\\\xml\\\\en\\\\2009\\\\A_RES_63_197-en.xml'),\n",
        " (u'N0848651', u'multiUN.en\\\\un\\\\xml\\\\en\\\\2008\\\\A_RES_63_262-en.xml'),\n",
        " (u'N0848651', u'multiUN.en\\\\un\\\\xml\\\\en\\\\2009\\\\A_RES_63_262-en.xml'),\n",
        " (u'N0860709', u'multiUN.en\\\\un\\\\xml\\\\en\\\\2008\\\\S_INF_63-en.xml'),\n",
        " (u'N0860709', u'multiUN.en\\\\un\\\\xml\\\\en\\\\2009\\\\S_INF_63-en.xml'),\n",
        " (u'N0861100', u'multiUN.en\\\\un\\\\xml\\\\en\\\\2008\\\\A_C5_63_SR19-en.xml'),\n",
        " (u'N0861100', u'multiUN.en\\\\un\\\\xml\\\\en\\\\2009\\\\A_C5_63_SR19-en.xml'),\n",
        " (u'N0861625', u'multiUN.en\\\\un\\\\xml\\\\en\\\\2008\\\\A_C3_63_SR46-en.xml'),\n",
        " (u'N0861625', u'multiUN.en\\\\un\\\\xml\\\\en\\\\2009\\\\A_C3_63_SR46-en.xml'),\n",
        " (u'N0864945', u'multiUN.en\\\\un\\\\xml\\\\en\\\\2008\\\\PBC_3_SLE_SR1-en.xml'),\n",
        " (u'N0864945', u'multiUN.en\\\\un\\\\xml\\\\en\\\\2009\\\\PBC_3_SLE_SR1-en.xml'),\n",
        " (u'N0864951', u'multiUN.en\\\\un\\\\xml\\\\en\\\\2008\\\\A_C5_63_SR23-en.xml'),\n",
        " (u'N0864951', u'multiUN.en\\\\un\\\\xml\\\\en\\\\2009\\\\A_C5_63_SR23-en.xml'),\n",
        " (u'N0865430', u'multiUN.en\\\\un\\\\xml\\\\en\\\\2008\\\\S_2008_762-A_63_597-en.xml'),\n",
        " (u'N0865430', u'multiUN.en\\\\un\\\\xml\\\\en\\\\2009\\\\S_2008_762-A_63_597-en.xml'),\n",
        " (u'N0866875', u'multiUN.en\\\\un\\\\xml\\\\en\\\\2008\\\\PBC_3_OC_8-en.xml'),\n",
        " (u'N0866875', u'multiUN.en\\\\un\\\\xml\\\\en\\\\2009\\\\PBC_3_OC_8-en.xml')]"
       ]
      }
     ],
     "prompt_number": 38
    }
   ],
   "metadata": {}
  }
 ]
}