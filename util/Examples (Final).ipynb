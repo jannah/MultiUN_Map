{
 "metadata": {
  "name": "",
  "signature": "sha256:e0e5f9848f25d4acc817a2c74b8fdb6f4343b91967f548b2fd4712af1b995516"
 },
 "nbformat": 3,
 "nbformat_minor": 0,
 "worksheets": [
  {
   "cells": [
    {
     "cell_type": "heading",
     "level": 1,
     "metadata": {},
     "source": [
      "Examples: A demo of the how to use the MUN library"
     ]
    },
    {
     "cell_type": "code",
     "collapsed": false,
     "input": [
      "MODULES_PATH = '''../modules/multi_un_module.py'''\n",
      "import imp\n",
      "NF = imp.load_source('multi_un_module', MODULES_PATH)\n",
      "import multi_un_module as mun\n"
     ],
     "language": "python",
     "metadata": {},
     "outputs": [],
     "prompt_number": 1
    },
    {
     "cell_type": "code",
     "collapsed": false,
     "input": [
      "docs = mun.load_xml_files_by_year('TOP_100')\n",
      "# docs = mun.load_xml_files()"
     ],
     "language": "python",
     "metadata": {},
     "outputs": [
      {
       "javascript": [
        "//29383ec0-8d2c-4975-a894-7de20d13539b\n",
        "$(\"head\").append(\"<style> td.pb_widget {     width: auto; } td.pb_widget_fill {     width: 100%; } table.pb {     font-family: monospace;     border: 0;     margin: 0; } table.pb tr { border: 0; } table.pb td {     white-space: nowrap;     border: 0; } div.pb {     border: 1px solid #ddd;     border-radius: 3px; } div.pb_bar {     height: 1.5em; } </style>\")"
       ],
       "metadata": {},
       "output_type": "display_data",
       "text": [
        "<IPython.core.display.Javascript at 0x18a96dd8>"
       ]
      },
      {
       "javascript": [
        "\n",
        "                  // 29383ec0-8d2c-4975-a894-7de20d13539b -- used to remove this code blob in the end\n",
        "                  IPython.OutputArea.prototype.cleanProgressBar = function(uuids) {\n",
        "                      // filter by uuid-strings \n",
        "                      var myfilter = function(output) { \n",
        "                          var nuids = uuids.length;\n",
        "                          for (var i=0; i<nuids; i++) {\n",
        "                              if (output.hasOwnProperty('html')) {\n",
        "                                  if (output.html.indexOf(uuids[i]) != -1) {\n",
        "                                      return false;\n",
        "                                  }\n",
        "                              }\n",
        "                              if (output.hasOwnProperty('javascript')) {\n",
        "                                  if (output.javascript.indexOf(uuids[i]) != -1) {\n",
        "                                      return false;\n",
        "                                  }\n",
        "                              }\n",
        "                          }\n",
        "                          // keep all others\n",
        "                          return true;\n",
        "                      };\n",
        "\n",
        "                      // Filter the ouputs\n",
        "                      this.outputs = this.outputs.filter(myfilter);\n",
        "                };\n",
        "                "
       ],
       "metadata": {},
       "output_type": "display_data",
       "text": [
        "<IPython.core.display.Javascript at 0x18a96e48>"
       ]
      },
      {
       "html": [
        "<div class=\"pb\" id=\"29383ec0-8d2c-4975-a894-7de20d13539b\"><table class=\"pb ui-widget\"><tr>\n",
        "<td class=\"pb_widget\">TOP_100</td>\n",
        "<td class=\"pb_widget\"><div id=\"39e846c5-7070-4dde-8352-43e293655754\">0 of 98</div></td>\n",
        "<td class=\"pb_widget\"><div id=\"e9c0b881-c3a5-47f8-8929-4362ced6c67f\">  0%</div></td>\n",
        "<td class=\"pb_widget_fill\">\n",
        "        <div class=\"pb_bar\" id=\"8af15c52-e9cc-425b-8c25-aad0eaa7a5f0\"></div>\n",
        "        <script type=\"text/javascript\">\n",
        "            $(\"div#8af15c52-e9cc-425b-8c25-aad0eaa7a5f0\").progressbar({value: 0, max: 98});\n",
        "        </script>\n",
        "        </td>\n",
        "<td class=\"pb_widget\"><div id=\"563f66a1-86fb-48f1-a3b3-0807d4a7e86b\">ETA:  --:--:--</div></td>\n",
        "</tr></table><div>"
       ],
       "metadata": {},
       "output_type": "display_data",
       "text": [
        "<IPython.core.display.HTML at 0x18a96e80>"
       ]
      },
      {
       "javascript": [
        "$('div#39e846c5-7070-4dde-8352-43e293655754').text('1 of 98');"
       ],
       "metadata": {},
       "output_type": "display_data",
       "text": [
        "<IPython.core.display.Javascript at 0x18ab5908>"
       ]
      },
      {
       "javascript": [
        "$('div#e9c0b881-c3a5-47f8-8929-4362ced6c67f').text('  1%');"
       ],
       "metadata": {},
       "output_type": "display_data",
       "text": [
        "<IPython.core.display.Javascript at 0x18ab5940>"
       ]
      },
      {
       "javascript": [
        "\n",
        "        var $myPB = $(\"div#8af15c52-e9cc-425b-8c25-aad0eaa7a5f0\")\n",
        "        if ($myPB.hasClass('ui-progressbar')) {\n",
        "            $myPB.progressbar('value', 1);\n",
        "        } else {\n",
        "            $myPB.progressbar({value: 0, max: 98});\n",
        "        }\n",
        "        "
       ],
       "metadata": {},
       "output_type": "display_data",
       "text": [
        "<IPython.core.display.Javascript at 0x18ab59b0>"
       ]
      },
      {
       "javascript": [
        "$('div#563f66a1-86fb-48f1-a3b3-0807d4a7e86b').text('ETA:  0:00:07');"
       ],
       "metadata": {},
       "output_type": "display_data",
       "text": [
        "<IPython.core.display.Javascript at 0x18ab5978>"
       ]
      },
      {
       "javascript": [
        "$('div#39e846c5-7070-4dde-8352-43e293655754').text('2 of 98');"
       ],
       "metadata": {},
       "output_type": "display_data",
       "text": [
        "<IPython.core.display.Javascript at 0x18ab5e48>"
       ]
      },
      {
       "javascript": [
        "$('div#e9c0b881-c3a5-47f8-8929-4362ced6c67f').text('  2%');"
       ],
       "metadata": {},
       "output_type": "display_data",
       "text": [
        "<IPython.core.display.Javascript at 0x18ab5e80>"
       ]
      },
      {
       "javascript": [
        "\n",
        "        var $myPB = $(\"div#8af15c52-e9cc-425b-8c25-aad0eaa7a5f0\")\n",
        "        if ($myPB.hasClass('ui-progressbar')) {\n",
        "            $myPB.progressbar('value', 2);\n",
        "        } else {\n",
        "            $myPB.progressbar({value: 0, max: 98});\n",
        "        }\n",
        "        "
       ],
       "metadata": {},
       "output_type": "display_data",
       "text": [
        "<IPython.core.display.Javascript at 0x18ab5ef0>"
       ]
      },
      {
       "javascript": [
        "$('div#563f66a1-86fb-48f1-a3b3-0807d4a7e86b').text('ETA:  0:00:04');"
       ],
       "metadata": {},
       "output_type": "display_data",
       "text": [
        "<IPython.core.display.Javascript at 0x18ab5eb8>"
       ]
      },
      {
       "javascript": [
        "$('div#39e846c5-7070-4dde-8352-43e293655754').text('3 of 98');"
       ],
       "metadata": {},
       "output_type": "display_data",
       "text": [
        "<IPython.core.display.Javascript at 0x18bdd630>"
       ]
      },
      {
       "javascript": [
        "$('div#e9c0b881-c3a5-47f8-8929-4362ced6c67f').text('  3%');"
       ],
       "metadata": {},
       "output_type": "display_data",
       "text": [
        "<IPython.core.display.Javascript at 0x18bdd668>"
       ]
      },
      {
       "javascript": [
        "\n",
        "        var $myPB = $(\"div#8af15c52-e9cc-425b-8c25-aad0eaa7a5f0\")\n",
        "        if ($myPB.hasClass('ui-progressbar')) {\n",
        "            $myPB.progressbar('value', 3);\n",
        "        } else {\n",
        "            $myPB.progressbar({value: 0, max: 98});\n",
        "        }\n",
        "        "
       ],
       "metadata": {},
       "output_type": "display_data",
       "text": [
        "<IPython.core.display.Javascript at 0x18bdd6d8>"
       ]
      },
      {
       "javascript": [
        "$('div#563f66a1-86fb-48f1-a3b3-0807d4a7e86b').text('ETA:  0:00:04');"
       ],
       "metadata": {},
       "output_type": "display_data",
       "text": [
        "<IPython.core.display.Javascript at 0x18bdd6a0>"
       ]
      },
      {
       "javascript": [
        "$('div#39e846c5-7070-4dde-8352-43e293655754').text('4 of 98');"
       ],
       "metadata": {},
       "output_type": "display_data",
       "text": [
        "<IPython.core.display.Javascript at 0x17239a58>"
       ]
      },
      {
       "javascript": [
        "$('div#e9c0b881-c3a5-47f8-8929-4362ced6c67f').text('  4%');"
       ],
       "metadata": {},
       "output_type": "display_data",
       "text": [
        "<IPython.core.display.Javascript at 0x17239a90>"
       ]
      },
      {
       "javascript": [
        "\n",
        "        var $myPB = $(\"div#8af15c52-e9cc-425b-8c25-aad0eaa7a5f0\")\n",
        "        if ($myPB.hasClass('ui-progressbar')) {\n",
        "            $myPB.progressbar('value', 4);\n",
        "        } else {\n",
        "            $myPB.progressbar({value: 0, max: 98});\n",
        "        }\n",
        "        "
       ],
       "metadata": {},
       "output_type": "display_data",
       "text": [
        "<IPython.core.display.Javascript at 0x17239b00>"
       ]
      },
      {
       "javascript": [
        "$('div#563f66a1-86fb-48f1-a3b3-0807d4a7e86b').text('ETA:  0:00:09');"
       ],
       "metadata": {},
       "output_type": "display_data",
       "text": [
        "<IPython.core.display.Javascript at 0x17239ac8>"
       ]
      },
      {
       "javascript": [
        "$('div#39e846c5-7070-4dde-8352-43e293655754').text('5 of 98');"
       ],
       "metadata": {},
       "output_type": "display_data",
       "text": [
        "<IPython.core.display.Javascript at 0x17239cc0>"
       ]
      },
      {
       "javascript": [
        "$('div#e9c0b881-c3a5-47f8-8929-4362ced6c67f').text('  5%');"
       ],
       "metadata": {},
       "output_type": "display_data",
       "text": [
        "<IPython.core.display.Javascript at 0x17239cf8>"
       ]
      },
      {
       "javascript": [
        "\n",
        "        var $myPB = $(\"div#8af15c52-e9cc-425b-8c25-aad0eaa7a5f0\")\n",
        "        if ($myPB.hasClass('ui-progressbar')) {\n",
        "            $myPB.progressbar('value', 5);\n",
        "        } else {\n",
        "            $myPB.progressbar({value: 0, max: 98});\n",
        "        }\n",
        "        "
       ],
       "metadata": {},
       "output_type": "display_data",
       "text": [
        "<IPython.core.display.Javascript at 0x17239d68>"
       ]
      },
      {
       "javascript": [
        "$('div#563f66a1-86fb-48f1-a3b3-0807d4a7e86b').text('ETA:  0:00:07');"
       ],
       "metadata": {},
       "output_type": "display_data",
       "text": [
        "<IPython.core.display.Javascript at 0x17239d30>"
       ]
      },
      {
       "javascript": [
        "$('div#39e846c5-7070-4dde-8352-43e293655754').text('6 of 98');"
       ],
       "metadata": {},
       "output_type": "display_data",
       "text": [
        "<IPython.core.display.Javascript at 0x18c0f978>"
       ]
      },
      {
       "javascript": [
        "$('div#e9c0b881-c3a5-47f8-8929-4362ced6c67f').text('  6%');"
       ],
       "metadata": {},
       "output_type": "display_data",
       "text": [
        "<IPython.core.display.Javascript at 0x18c0f9b0>"
       ]
      },
      {
       "javascript": [
        "\n",
        "        var $myPB = $(\"div#8af15c52-e9cc-425b-8c25-aad0eaa7a5f0\")\n",
        "        if ($myPB.hasClass('ui-progressbar')) {\n",
        "            $myPB.progressbar('value', 6);\n",
        "        } else {\n",
        "            $myPB.progressbar({value: 0, max: 98});\n",
        "        }\n",
        "        "
       ],
       "metadata": {},
       "output_type": "display_data",
       "text": [
        "<IPython.core.display.Javascript at 0x18c0fa20>"
       ]
      },
      {
       "javascript": [
        "$('div#563f66a1-86fb-48f1-a3b3-0807d4a7e86b').text('ETA:  0:00:08');"
       ],
       "metadata": {},
       "output_type": "display_data",
       "text": [
        "<IPython.core.display.Javascript at 0x18c0f9e8>"
       ]
      },
      {
       "javascript": [
        "$('div#39e846c5-7070-4dde-8352-43e293655754').text('7 of 98');"
       ],
       "metadata": {},
       "output_type": "display_data",
       "text": [
        "<IPython.core.display.Javascript at 0x176fd1d0>"
       ]
      },
      {
       "javascript": [
        "$('div#e9c0b881-c3a5-47f8-8929-4362ced6c67f').text('  7%');"
       ],
       "metadata": {},
       "output_type": "display_data",
       "text": [
        "<IPython.core.display.Javascript at 0x176fd208>"
       ]
      },
      {
       "javascript": [
        "\n",
        "        var $myPB = $(\"div#8af15c52-e9cc-425b-8c25-aad0eaa7a5f0\")\n",
        "        if ($myPB.hasClass('ui-progressbar')) {\n",
        "            $myPB.progressbar('value', 7);\n",
        "        } else {\n",
        "            $myPB.progressbar({value: 0, max: 98});\n",
        "        }\n",
        "        "
       ],
       "metadata": {},
       "output_type": "display_data",
       "text": [
        "<IPython.core.display.Javascript at 0x176fd320>"
       ]
      },
      {
       "javascript": [
        "$('div#563f66a1-86fb-48f1-a3b3-0807d4a7e86b').text('ETA:  0:00:10');"
       ],
       "metadata": {},
       "output_type": "display_data",
       "text": [
        "<IPython.core.display.Javascript at 0x176fd240>"
       ]
      },
      {
       "javascript": [
        "$('div#39e846c5-7070-4dde-8352-43e293655754').text('8 of 98');"
       ],
       "metadata": {},
       "output_type": "display_data",
       "text": [
        "<IPython.core.display.Javascript at 0x176fd4a8>"
       ]
      },
      {
       "javascript": [
        "$('div#e9c0b881-c3a5-47f8-8929-4362ced6c67f').text('  8%');"
       ],
       "metadata": {},
       "output_type": "display_data",
       "text": [
        "<IPython.core.display.Javascript at 0x176fd4e0>"
       ]
      },
      {
       "javascript": [
        "\n",
        "        var $myPB = $(\"div#8af15c52-e9cc-425b-8c25-aad0eaa7a5f0\")\n",
        "        if ($myPB.hasClass('ui-progressbar')) {\n",
        "            $myPB.progressbar('value', 8);\n",
        "        } else {\n",
        "            $myPB.progressbar({value: 0, max: 98});\n",
        "        }\n",
        "        "
       ],
       "metadata": {},
       "output_type": "display_data",
       "text": [
        "<IPython.core.display.Javascript at 0x176fd550>"
       ]
      },
      {
       "javascript": [
        "$('div#563f66a1-86fb-48f1-a3b3-0807d4a7e86b').text('ETA:  0:00:09');"
       ],
       "metadata": {},
       "output_type": "display_data",
       "text": [
        "<IPython.core.display.Javascript at 0x176fd518>"
       ]
      },
      {
       "javascript": [
        "$('div#39e846c5-7070-4dde-8352-43e293655754').text('9 of 98');"
       ],
       "metadata": {},
       "output_type": "display_data",
       "text": [
        "<IPython.core.display.Javascript at 0x176fd4a8>"
       ]
      },
      {
       "javascript": [
        "$('div#e9c0b881-c3a5-47f8-8929-4362ced6c67f').text('  9%');"
       ],
       "metadata": {},
       "output_type": "display_data",
       "text": [
        "<IPython.core.display.Javascript at 0x176fd668>"
       ]
      },
      {
       "javascript": [
        "\n",
        "        var $myPB = $(\"div#8af15c52-e9cc-425b-8c25-aad0eaa7a5f0\")\n",
        "        if ($myPB.hasClass('ui-progressbar')) {\n",
        "            $myPB.progressbar('value', 9);\n",
        "        } else {\n",
        "            $myPB.progressbar({value: 0, max: 98});\n",
        "        }\n",
        "        "
       ],
       "metadata": {},
       "output_type": "display_data",
       "text": [
        "<IPython.core.display.Javascript at 0x176fd588>"
       ]
      },
      {
       "javascript": [
        "$('div#563f66a1-86fb-48f1-a3b3-0807d4a7e86b').text('ETA:  0:00:08');"
       ],
       "metadata": {},
       "output_type": "display_data",
       "text": [
        "<IPython.core.display.Javascript at 0x176fd630>"
       ]
      },
      {
       "javascript": [
        "$('div#39e846c5-7070-4dde-8352-43e293655754').text('10 of 98');"
       ],
       "metadata": {},
       "output_type": "display_data",
       "text": [
        "<IPython.core.display.Javascript at 0x176fd908>"
       ]
      },
      {
       "javascript": [
        "$('div#e9c0b881-c3a5-47f8-8929-4362ced6c67f').text(' 10%');"
       ],
       "metadata": {},
       "output_type": "display_data",
       "text": [
        "<IPython.core.display.Javascript at 0x176fd940>"
       ]
      },
      {
       "javascript": [
        "\n",
        "        var $myPB = $(\"div#8af15c52-e9cc-425b-8c25-aad0eaa7a5f0\")\n",
        "        if ($myPB.hasClass('ui-progressbar')) {\n",
        "            $myPB.progressbar('value', 10);\n",
        "        } else {\n",
        "            $myPB.progressbar({value: 0, max: 98});\n",
        "        }\n",
        "        "
       ],
       "metadata": {},
       "output_type": "display_data",
       "text": [
        "<IPython.core.display.Javascript at 0x176fd9b0>"
       ]
      },
      {
       "javascript": [
        "$('div#563f66a1-86fb-48f1-a3b3-0807d4a7e86b').text('ETA:  0:00:07');"
       ],
       "metadata": {},
       "output_type": "display_data",
       "text": [
        "<IPython.core.display.Javascript at 0x176fd9b0>"
       ]
      },
      {
       "javascript": [
        "$('div#39e846c5-7070-4dde-8352-43e293655754').text('11 of 98');"
       ],
       "metadata": {},
       "output_type": "display_data",
       "text": [
        "<IPython.core.display.Javascript at 0x16ab7128>"
       ]
      },
      {
       "javascript": [
        "$('div#e9c0b881-c3a5-47f8-8929-4362ced6c67f').text(' 11%');"
       ],
       "metadata": {},
       "output_type": "display_data",
       "text": [
        "<IPython.core.display.Javascript at 0x16ab7160>"
       ]
      },
      {
       "javascript": [
        "\n",
        "        var $myPB = $(\"div#8af15c52-e9cc-425b-8c25-aad0eaa7a5f0\")\n",
        "        if ($myPB.hasClass('ui-progressbar')) {\n",
        "            $myPB.progressbar('value', 11);\n",
        "        } else {\n",
        "            $myPB.progressbar({value: 0, max: 98});\n",
        "        }\n",
        "        "
       ],
       "metadata": {},
       "output_type": "display_data",
       "text": [
        "<IPython.core.display.Javascript at 0x16ab71d0>"
       ]
      },
      {
       "javascript": [
        "$('div#563f66a1-86fb-48f1-a3b3-0807d4a7e86b').text('ETA:  0:00:07');"
       ],
       "metadata": {},
       "output_type": "display_data",
       "text": [
        "<IPython.core.display.Javascript at 0x16ab7198>"
       ]
      },
      {
       "javascript": [
        "$('div#39e846c5-7070-4dde-8352-43e293655754').text('12 of 98');"
       ],
       "metadata": {},
       "output_type": "display_data",
       "text": [
        "<IPython.core.display.Javascript at 0x16ab7668>"
       ]
      },
      {
       "javascript": [
        "$('div#e9c0b881-c3a5-47f8-8929-4362ced6c67f').text(' 12%');"
       ],
       "metadata": {},
       "output_type": "display_data",
       "text": [
        "<IPython.core.display.Javascript at 0x16ab76a0>"
       ]
      },
      {
       "javascript": [
        "\n",
        "        var $myPB = $(\"div#8af15c52-e9cc-425b-8c25-aad0eaa7a5f0\")\n",
        "        if ($myPB.hasClass('ui-progressbar')) {\n",
        "            $myPB.progressbar('value', 12);\n",
        "        } else {\n",
        "            $myPB.progressbar({value: 0, max: 98});\n",
        "        }\n",
        "        "
       ],
       "metadata": {},
       "output_type": "display_data",
       "text": [
        "<IPython.core.display.Javascript at 0x16ab7710>"
       ]
      },
      {
       "javascript": [
        "$('div#563f66a1-86fb-48f1-a3b3-0807d4a7e86b').text('ETA:  0:00:06');"
       ],
       "metadata": {},
       "output_type": "display_data",
       "text": [
        "<IPython.core.display.Javascript at 0x16ab76d8>"
       ]
      },
      {
       "javascript": [
        "$('div#39e846c5-7070-4dde-8352-43e293655754').text('13 of 98');"
       ],
       "metadata": {},
       "output_type": "display_data",
       "text": [
        "<IPython.core.display.Javascript at 0x16ab7a90>"
       ]
      },
      {
       "javascript": [
        "$('div#e9c0b881-c3a5-47f8-8929-4362ced6c67f').text(' 13%');"
       ],
       "metadata": {},
       "output_type": "display_data",
       "text": [
        "<IPython.core.display.Javascript at 0x16ab7ac8>"
       ]
      },
      {
       "javascript": [
        "\n",
        "        var $myPB = $(\"div#8af15c52-e9cc-425b-8c25-aad0eaa7a5f0\")\n",
        "        if ($myPB.hasClass('ui-progressbar')) {\n",
        "            $myPB.progressbar('value', 13);\n",
        "        } else {\n",
        "            $myPB.progressbar({value: 0, max: 98});\n",
        "        }\n",
        "        "
       ],
       "metadata": {},
       "output_type": "display_data",
       "text": [
        "<IPython.core.display.Javascript at 0x16ab7b38>"
       ]
      },
      {
       "javascript": [
        "$('div#563f66a1-86fb-48f1-a3b3-0807d4a7e86b').text('ETA:  0:00:06');"
       ],
       "metadata": {},
       "output_type": "display_data",
       "text": [
        "<IPython.core.display.Javascript at 0x16ab7b00>"
       ]
      },
      {
       "javascript": [
        "$('div#39e846c5-7070-4dde-8352-43e293655754').text('14 of 98');"
       ],
       "metadata": {},
       "output_type": "display_data",
       "text": [
        "<IPython.core.display.Javascript at 0x16ab7b70>"
       ]
      },
      {
       "javascript": [
        "$('div#e9c0b881-c3a5-47f8-8929-4362ced6c67f').text(' 14%');"
       ],
       "metadata": {},
       "output_type": "display_data",
       "text": [
        "<IPython.core.display.Javascript at 0x16ab7c88>"
       ]
      },
      {
       "javascript": [
        "\n",
        "        var $myPB = $(\"div#8af15c52-e9cc-425b-8c25-aad0eaa7a5f0\")\n",
        "        if ($myPB.hasClass('ui-progressbar')) {\n",
        "            $myPB.progressbar('value', 14);\n",
        "        } else {\n",
        "            $myPB.progressbar({value: 0, max: 98});\n",
        "        }\n",
        "        "
       ],
       "metadata": {},
       "output_type": "display_data",
       "text": [
        "<IPython.core.display.Javascript at 0x16ab7cf8>"
       ]
      },
      {
       "javascript": [
        "$('div#563f66a1-86fb-48f1-a3b3-0807d4a7e86b').text('ETA:  0:00:05');"
       ],
       "metadata": {},
       "output_type": "display_data",
       "text": [
        "<IPython.core.display.Javascript at 0x16ab7cf8>"
       ]
      },
      {
       "javascript": [
        "$('div#39e846c5-7070-4dde-8352-43e293655754').text('15 of 98');"
       ],
       "metadata": {},
       "output_type": "display_data",
       "text": [
        "<IPython.core.display.Javascript at 0x1905dc18>"
       ]
      },
      {
       "javascript": [
        "$('div#e9c0b881-c3a5-47f8-8929-4362ced6c67f').text(' 15%');"
       ],
       "metadata": {},
       "output_type": "display_data",
       "text": [
        "<IPython.core.display.Javascript at 0x1905dc50>"
       ]
      },
      {
       "javascript": [
        "\n",
        "        var $myPB = $(\"div#8af15c52-e9cc-425b-8c25-aad0eaa7a5f0\")\n",
        "        if ($myPB.hasClass('ui-progressbar')) {\n",
        "            $myPB.progressbar('value', 15);\n",
        "        } else {\n",
        "            $myPB.progressbar({value: 0, max: 98});\n",
        "        }\n",
        "        "
       ],
       "metadata": {},
       "output_type": "display_data",
       "text": [
        "<IPython.core.display.Javascript at 0x1905dcc0>"
       ]
      },
      {
       "javascript": [
        "$('div#563f66a1-86fb-48f1-a3b3-0807d4a7e86b').text('ETA:  0:00:05');"
       ],
       "metadata": {},
       "output_type": "display_data",
       "text": [
        "<IPython.core.display.Javascript at 0x1905dc88>"
       ]
      },
      {
       "javascript": [
        "$('div#39e846c5-7070-4dde-8352-43e293655754').text('16 of 98');"
       ],
       "metadata": {},
       "output_type": "display_data",
       "text": [
        "<IPython.core.display.Javascript at 0x16baa198>"
       ]
      },
      {
       "javascript": [
        "$('div#e9c0b881-c3a5-47f8-8929-4362ced6c67f').text(' 16%');"
       ],
       "metadata": {},
       "output_type": "display_data",
       "text": [
        "<IPython.core.display.Javascript at 0x16baa1d0>"
       ]
      },
      {
       "javascript": [
        "\n",
        "        var $myPB = $(\"div#8af15c52-e9cc-425b-8c25-aad0eaa7a5f0\")\n",
        "        if ($myPB.hasClass('ui-progressbar')) {\n",
        "            $myPB.progressbar('value', 16);\n",
        "        } else {\n",
        "            $myPB.progressbar({value: 0, max: 98});\n",
        "        }\n",
        "        "
       ],
       "metadata": {},
       "output_type": "display_data",
       "text": [
        "<IPython.core.display.Javascript at 0x16baa240>"
       ]
      },
      {
       "javascript": [
        "$('div#563f66a1-86fb-48f1-a3b3-0807d4a7e86b').text('ETA:  0:00:05');"
       ],
       "metadata": {},
       "output_type": "display_data",
       "text": [
        "<IPython.core.display.Javascript at 0x16baa208>"
       ]
      },
      {
       "javascript": [
        "$('div#39e846c5-7070-4dde-8352-43e293655754').text('17 of 98');"
       ],
       "metadata": {},
       "output_type": "display_data",
       "text": [
        "<IPython.core.display.Javascript at 0x19169940>"
       ]
      },
      {
       "javascript": [
        "$('div#e9c0b881-c3a5-47f8-8929-4362ced6c67f').text(' 17%');"
       ],
       "metadata": {},
       "output_type": "display_data",
       "text": [
        "<IPython.core.display.Javascript at 0x19169978>"
       ]
      },
      {
       "javascript": [
        "\n",
        "        var $myPB = $(\"div#8af15c52-e9cc-425b-8c25-aad0eaa7a5f0\")\n",
        "        if ($myPB.hasClass('ui-progressbar')) {\n",
        "            $myPB.progressbar('value', 17);\n",
        "        } else {\n",
        "            $myPB.progressbar({value: 0, max: 98});\n",
        "        }\n",
        "        "
       ],
       "metadata": {},
       "output_type": "display_data",
       "text": [
        "<IPython.core.display.Javascript at 0x191699e8>"
       ]
      },
      {
       "javascript": [
        "$('div#563f66a1-86fb-48f1-a3b3-0807d4a7e86b').text('ETA:  0:00:05');"
       ],
       "metadata": {},
       "output_type": "display_data",
       "text": [
        "<IPython.core.display.Javascript at 0x191699b0>"
       ]
      },
      {
       "javascript": [
        "$('div#39e846c5-7070-4dde-8352-43e293655754').text('18 of 98');"
       ],
       "metadata": {},
       "output_type": "display_data",
       "text": [
        "<IPython.core.display.Javascript at 0x19169d68>"
       ]
      },
      {
       "javascript": [
        "$('div#e9c0b881-c3a5-47f8-8929-4362ced6c67f').text(' 18%');"
       ],
       "metadata": {},
       "output_type": "display_data",
       "text": [
        "<IPython.core.display.Javascript at 0x19169da0>"
       ]
      },
      {
       "javascript": [
        "\n",
        "        var $myPB = $(\"div#8af15c52-e9cc-425b-8c25-aad0eaa7a5f0\")\n",
        "        if ($myPB.hasClass('ui-progressbar')) {\n",
        "            $myPB.progressbar('value', 18);\n",
        "        } else {\n",
        "            $myPB.progressbar({value: 0, max: 98});\n",
        "        }\n",
        "        "
       ],
       "metadata": {},
       "output_type": "display_data",
       "text": [
        "<IPython.core.display.Javascript at 0x19169e10>"
       ]
      },
      {
       "javascript": [
        "$('div#563f66a1-86fb-48f1-a3b3-0807d4a7e86b').text('ETA:  0:00:05');"
       ],
       "metadata": {},
       "output_type": "display_data",
       "text": [
        "<IPython.core.display.Javascript at 0x19169dd8>"
       ]
      },
      {
       "javascript": [
        "$('div#39e846c5-7070-4dde-8352-43e293655754').text('19 of 98');"
       ],
       "metadata": {},
       "output_type": "display_data",
       "text": [
        "<IPython.core.display.Javascript at 0x16b17470>"
       ]
      },
      {
       "javascript": [
        "$('div#e9c0b881-c3a5-47f8-8929-4362ced6c67f').text(' 19%');"
       ],
       "metadata": {},
       "output_type": "display_data",
       "text": [
        "<IPython.core.display.Javascript at 0x16b174a8>"
       ]
      },
      {
       "javascript": [
        "\n",
        "        var $myPB = $(\"div#8af15c52-e9cc-425b-8c25-aad0eaa7a5f0\")\n",
        "        if ($myPB.hasClass('ui-progressbar')) {\n",
        "            $myPB.progressbar('value', 19);\n",
        "        } else {\n",
        "            $myPB.progressbar({value: 0, max: 98});\n",
        "        }\n",
        "        "
       ],
       "metadata": {},
       "output_type": "display_data",
       "text": [
        "<IPython.core.display.Javascript at 0x16b17518>"
       ]
      },
      {
       "javascript": [
        "$('div#563f66a1-86fb-48f1-a3b3-0807d4a7e86b').text('ETA:  0:00:04');"
       ],
       "metadata": {},
       "output_type": "display_data",
       "text": [
        "<IPython.core.display.Javascript at 0x16b174e0>"
       ]
      },
      {
       "javascript": [
        "$('div#39e846c5-7070-4dde-8352-43e293655754').text('20 of 98');"
       ],
       "metadata": {},
       "output_type": "display_data",
       "text": [
        "<IPython.core.display.Javascript at 0x16b17898>"
       ]
      },
      {
       "javascript": [
        "$('div#e9c0b881-c3a5-47f8-8929-4362ced6c67f').text(' 20%');"
       ],
       "metadata": {},
       "output_type": "display_data",
       "text": [
        "<IPython.core.display.Javascript at 0x16b178d0>"
       ]
      },
      {
       "javascript": [
        "\n",
        "        var $myPB = $(\"div#8af15c52-e9cc-425b-8c25-aad0eaa7a5f0\")\n",
        "        if ($myPB.hasClass('ui-progressbar')) {\n",
        "            $myPB.progressbar('value', 20);\n",
        "        } else {\n",
        "            $myPB.progressbar({value: 0, max: 98});\n",
        "        }\n",
        "        "
       ],
       "metadata": {},
       "output_type": "display_data",
       "text": [
        "<IPython.core.display.Javascript at 0x16b17940>"
       ]
      },
      {
       "javascript": [
        "$('div#563f66a1-86fb-48f1-a3b3-0807d4a7e86b').text('ETA:  0:00:04');"
       ],
       "metadata": {},
       "output_type": "display_data",
       "text": [
        "<IPython.core.display.Javascript at 0x16b17908>"
       ]
      },
      {
       "javascript": [
        "$('div#39e846c5-7070-4dde-8352-43e293655754').text('21 of 98');"
       ],
       "metadata": {},
       "output_type": "display_data",
       "text": [
        "<IPython.core.display.Javascript at 0x16bfee80>"
       ]
      },
      {
       "javascript": [
        "$('div#e9c0b881-c3a5-47f8-8929-4362ced6c67f').text(' 21%');"
       ],
       "metadata": {},
       "output_type": "display_data",
       "text": [
        "<IPython.core.display.Javascript at 0x16bfeeb8>"
       ]
      },
      {
       "javascript": [
        "\n",
        "        var $myPB = $(\"div#8af15c52-e9cc-425b-8c25-aad0eaa7a5f0\")\n",
        "        if ($myPB.hasClass('ui-progressbar')) {\n",
        "            $myPB.progressbar('value', 21);\n",
        "        } else {\n",
        "            $myPB.progressbar({value: 0, max: 98});\n",
        "        }\n",
        "        "
       ],
       "metadata": {},
       "output_type": "display_data",
       "text": [
        "<IPython.core.display.Javascript at 0x16bfef28>"
       ]
      },
      {
       "javascript": [
        "$('div#563f66a1-86fb-48f1-a3b3-0807d4a7e86b').text('ETA:  0:00:04');"
       ],
       "metadata": {},
       "output_type": "display_data",
       "text": [
        "<IPython.core.display.Javascript at 0x16bfeef0>"
       ]
      },
      {
       "javascript": [
        "$('div#39e846c5-7070-4dde-8352-43e293655754').text('22 of 98');"
       ],
       "metadata": {},
       "output_type": "display_data",
       "text": [
        "<IPython.core.display.Javascript at 0x18b1c390>"
       ]
      },
      {
       "javascript": [
        "$('div#e9c0b881-c3a5-47f8-8929-4362ced6c67f').text(' 22%');"
       ],
       "metadata": {},
       "output_type": "display_data",
       "text": [
        "<IPython.core.display.Javascript at 0x18b1c3c8>"
       ]
      },
      {
       "javascript": [
        "\n",
        "        var $myPB = $(\"div#8af15c52-e9cc-425b-8c25-aad0eaa7a5f0\")\n",
        "        if ($myPB.hasClass('ui-progressbar')) {\n",
        "            $myPB.progressbar('value', 22);\n",
        "        } else {\n",
        "            $myPB.progressbar({value: 0, max: 98});\n",
        "        }\n",
        "        "
       ],
       "metadata": {},
       "output_type": "display_data",
       "text": [
        "<IPython.core.display.Javascript at 0x18b1c438>"
       ]
      },
      {
       "javascript": [
        "$('div#563f66a1-86fb-48f1-a3b3-0807d4a7e86b').text('ETA:  0:00:04');"
       ],
       "metadata": {},
       "output_type": "display_data",
       "text": [
        "<IPython.core.display.Javascript at 0x18b1c438>"
       ]
      },
      {
       "javascript": [
        "$('div#39e846c5-7070-4dde-8352-43e293655754').text('23 of 98');"
       ],
       "metadata": {},
       "output_type": "display_data",
       "text": [
        "<IPython.core.display.Javascript at 0x18b1c7b8>"
       ]
      },
      {
       "javascript": [
        "$('div#e9c0b881-c3a5-47f8-8929-4362ced6c67f').text(' 23%');"
       ],
       "metadata": {},
       "output_type": "display_data",
       "text": [
        "<IPython.core.display.Javascript at 0x18b1c7f0>"
       ]
      },
      {
       "javascript": [
        "\n",
        "        var $myPB = $(\"div#8af15c52-e9cc-425b-8c25-aad0eaa7a5f0\")\n",
        "        if ($myPB.hasClass('ui-progressbar')) {\n",
        "            $myPB.progressbar('value', 23);\n",
        "        } else {\n",
        "            $myPB.progressbar({value: 0, max: 98});\n",
        "        }\n",
        "        "
       ],
       "metadata": {},
       "output_type": "display_data",
       "text": [
        "<IPython.core.display.Javascript at 0x18b1c860>"
       ]
      },
      {
       "javascript": [
        "$('div#563f66a1-86fb-48f1-a3b3-0807d4a7e86b').text('ETA:  0:00:04');"
       ],
       "metadata": {},
       "output_type": "display_data",
       "text": [
        "<IPython.core.display.Javascript at 0x18b1c828>"
       ]
      },
      {
       "javascript": [
        "$('div#39e846c5-7070-4dde-8352-43e293655754').text('24 of 98');"
       ],
       "metadata": {},
       "output_type": "display_data",
       "text": [
        "<IPython.core.display.Javascript at 0x18e749b0>"
       ]
      },
      {
       "javascript": [
        "$('div#e9c0b881-c3a5-47f8-8929-4362ced6c67f').text(' 24%');"
       ],
       "metadata": {},
       "output_type": "display_data",
       "text": [
        "<IPython.core.display.Javascript at 0x18e749e8>"
       ]
      },
      {
       "javascript": [
        "\n",
        "        var $myPB = $(\"div#8af15c52-e9cc-425b-8c25-aad0eaa7a5f0\")\n",
        "        if ($myPB.hasClass('ui-progressbar')) {\n",
        "            $myPB.progressbar('value', 24);\n",
        "        } else {\n",
        "            $myPB.progressbar({value: 0, max: 98});\n",
        "        }\n",
        "        "
       ],
       "metadata": {},
       "output_type": "display_data",
       "text": [
        "<IPython.core.display.Javascript at 0x18e74a58>"
       ]
      },
      {
       "javascript": [
        "$('div#563f66a1-86fb-48f1-a3b3-0807d4a7e86b').text('ETA:  0:00:04');"
       ],
       "metadata": {},
       "output_type": "display_data",
       "text": [
        "<IPython.core.display.Javascript at 0x18e74a20>"
       ]
      },
      {
       "javascript": [
        "$('div#39e846c5-7070-4dde-8352-43e293655754').text('25 of 98');"
       ],
       "metadata": {},
       "output_type": "display_data",
       "text": [
        "<IPython.core.display.Javascript at 0x1962bba8>"
       ]
      },
      {
       "javascript": [
        "$('div#e9c0b881-c3a5-47f8-8929-4362ced6c67f').text(' 25%');"
       ],
       "metadata": {},
       "output_type": "display_data",
       "text": [
        "<IPython.core.display.Javascript at 0x1962bbe0>"
       ]
      },
      {
       "javascript": [
        "\n",
        "        var $myPB = $(\"div#8af15c52-e9cc-425b-8c25-aad0eaa7a5f0\")\n",
        "        if ($myPB.hasClass('ui-progressbar')) {\n",
        "            $myPB.progressbar('value', 25);\n",
        "        } else {\n",
        "            $myPB.progressbar({value: 0, max: 98});\n",
        "        }\n",
        "        "
       ],
       "metadata": {},
       "output_type": "display_data",
       "text": [
        "<IPython.core.display.Javascript at 0x1962bc50>"
       ]
      },
      {
       "javascript": [
        "$('div#563f66a1-86fb-48f1-a3b3-0807d4a7e86b').text('ETA:  0:00:05');"
       ],
       "metadata": {},
       "output_type": "display_data",
       "text": [
        "<IPython.core.display.Javascript at 0x1962bc18>"
       ]
      },
      {
       "javascript": [
        "$('div#39e846c5-7070-4dde-8352-43e293655754').text('26 of 98');"
       ],
       "metadata": {},
       "output_type": "display_data",
       "text": [
        "<IPython.core.display.Javascript at 0x1962bfd0>"
       ]
      },
      {
       "javascript": [
        "$('div#e9c0b881-c3a5-47f8-8929-4362ced6c67f').text(' 26%');"
       ],
       "metadata": {},
       "output_type": "display_data",
       "text": [
        "<IPython.core.display.Javascript at 0x19670128>"
       ]
      },
      {
       "javascript": [
        "\n",
        "        var $myPB = $(\"div#8af15c52-e9cc-425b-8c25-aad0eaa7a5f0\")\n",
        "        if ($myPB.hasClass('ui-progressbar')) {\n",
        "            $myPB.progressbar('value', 26);\n",
        "        } else {\n",
        "            $myPB.progressbar({value: 0, max: 98});\n",
        "        }\n",
        "        "
       ],
       "metadata": {},
       "output_type": "display_data",
       "text": [
        "<IPython.core.display.Javascript at 0x19670198>"
       ]
      },
      {
       "javascript": [
        "$('div#563f66a1-86fb-48f1-a3b3-0807d4a7e86b').text('ETA:  0:00:05');"
       ],
       "metadata": {},
       "output_type": "display_data",
       "text": [
        "<IPython.core.display.Javascript at 0x19670160>"
       ]
      },
      {
       "javascript": [
        "$('div#39e846c5-7070-4dde-8352-43e293655754').text('27 of 98');"
       ],
       "metadata": {},
       "output_type": "display_data",
       "text": [
        "<IPython.core.display.Javascript at 0x19670630>"
       ]
      },
      {
       "javascript": [
        "$('div#e9c0b881-c3a5-47f8-8929-4362ced6c67f').text(' 27%');"
       ],
       "metadata": {},
       "output_type": "display_data",
       "text": [
        "<IPython.core.display.Javascript at 0x19670668>"
       ]
      },
      {
       "javascript": [
        "\n",
        "        var $myPB = $(\"div#8af15c52-e9cc-425b-8c25-aad0eaa7a5f0\")\n",
        "        if ($myPB.hasClass('ui-progressbar')) {\n",
        "            $myPB.progressbar('value', 27);\n",
        "        } else {\n",
        "            $myPB.progressbar({value: 0, max: 98});\n",
        "        }\n",
        "        "
       ],
       "metadata": {},
       "output_type": "display_data",
       "text": [
        "<IPython.core.display.Javascript at 0x196706d8>"
       ]
      },
      {
       "javascript": [
        "$('div#563f66a1-86fb-48f1-a3b3-0807d4a7e86b').text('ETA:  0:00:05');"
       ],
       "metadata": {},
       "output_type": "display_data",
       "text": [
        "<IPython.core.display.Javascript at 0x196706d8>"
       ]
      },
      {
       "javascript": [
        "$('div#39e846c5-7070-4dde-8352-43e293655754').text('28 of 98');"
       ],
       "metadata": {},
       "output_type": "display_data",
       "text": [
        "<IPython.core.display.Javascript at 0x18d61940>"
       ]
      },
      {
       "javascript": [
        "$('div#e9c0b881-c3a5-47f8-8929-4362ced6c67f').text(' 28%');"
       ],
       "metadata": {},
       "output_type": "display_data",
       "text": [
        "<IPython.core.display.Javascript at 0x18d61978>"
       ]
      },
      {
       "javascript": [
        "\n",
        "        var $myPB = $(\"div#8af15c52-e9cc-425b-8c25-aad0eaa7a5f0\")\n",
        "        if ($myPB.hasClass('ui-progressbar')) {\n",
        "            $myPB.progressbar('value', 28);\n",
        "        } else {\n",
        "            $myPB.progressbar({value: 0, max: 98});\n",
        "        }\n",
        "        "
       ],
       "metadata": {},
       "output_type": "display_data",
       "text": [
        "<IPython.core.display.Javascript at 0x18d619e8>"
       ]
      },
      {
       "javascript": [
        "$('div#563f66a1-86fb-48f1-a3b3-0807d4a7e86b').text('ETA:  0:00:05');"
       ],
       "metadata": {},
       "output_type": "display_data",
       "text": [
        "<IPython.core.display.Javascript at 0x18d619b0>"
       ]
      },
      {
       "javascript": [
        "$('div#39e846c5-7070-4dde-8352-43e293655754').text('29 of 98');"
       ],
       "metadata": {},
       "output_type": "display_data",
       "text": [
        "<IPython.core.display.Javascript at 0x18d61fd0>"
       ]
      },
      {
       "javascript": [
        "$('div#e9c0b881-c3a5-47f8-8929-4362ced6c67f').text(' 29%');"
       ],
       "metadata": {},
       "output_type": "display_data",
       "text": [
        "<IPython.core.display.Javascript at 0x18d781d0>"
       ]
      },
      {
       "javascript": [
        "\n",
        "        var $myPB = $(\"div#8af15c52-e9cc-425b-8c25-aad0eaa7a5f0\")\n",
        "        if ($myPB.hasClass('ui-progressbar')) {\n",
        "            $myPB.progressbar('value', 29);\n",
        "        } else {\n",
        "            $myPB.progressbar({value: 0, max: 98});\n",
        "        }\n",
        "        "
       ],
       "metadata": {},
       "output_type": "display_data",
       "text": [
        "<IPython.core.display.Javascript at 0x18d78240>"
       ]
      },
      {
       "javascript": [
        "$('div#563f66a1-86fb-48f1-a3b3-0807d4a7e86b').text('ETA:  0:00:05');"
       ],
       "metadata": {},
       "output_type": "display_data",
       "text": [
        "<IPython.core.display.Javascript at 0x18d78208>"
       ]
      },
      {
       "javascript": [
        "$('div#39e846c5-7070-4dde-8352-43e293655754').text('30 of 98');"
       ],
       "metadata": {},
       "output_type": "display_data",
       "text": [
        "<IPython.core.display.Javascript at 0x18ee6c18>"
       ]
      },
      {
       "javascript": [
        "$('div#e9c0b881-c3a5-47f8-8929-4362ced6c67f').text(' 30%');"
       ],
       "metadata": {},
       "output_type": "display_data",
       "text": [
        "<IPython.core.display.Javascript at 0x18ee6c50>"
       ]
      },
      {
       "javascript": [
        "\n",
        "        var $myPB = $(\"div#8af15c52-e9cc-425b-8c25-aad0eaa7a5f0\")\n",
        "        if ($myPB.hasClass('ui-progressbar')) {\n",
        "            $myPB.progressbar('value', 30);\n",
        "        } else {\n",
        "            $myPB.progressbar({value: 0, max: 98});\n",
        "        }\n",
        "        "
       ],
       "metadata": {},
       "output_type": "display_data",
       "text": [
        "<IPython.core.display.Javascript at 0x18ee6cc0>"
       ]
      },
      {
       "javascript": [
        "$('div#563f66a1-86fb-48f1-a3b3-0807d4a7e86b').text('ETA:  0:00:04');"
       ],
       "metadata": {},
       "output_type": "display_data",
       "text": [
        "<IPython.core.display.Javascript at 0x18ee6c88>"
       ]
      },
      {
       "javascript": [
        "$('div#39e846c5-7070-4dde-8352-43e293655754').text('31 of 98');"
       ],
       "metadata": {},
       "output_type": "display_data",
       "text": [
        "<IPython.core.display.Javascript at 0x16c490b8>"
       ]
      },
      {
       "javascript": [
        "$('div#e9c0b881-c3a5-47f8-8929-4362ced6c67f').text(' 31%');"
       ],
       "metadata": {},
       "output_type": "display_data",
       "text": [
        "<IPython.core.display.Javascript at 0x16c490f0>"
       ]
      },
      {
       "javascript": [
        "\n",
        "        var $myPB = $(\"div#8af15c52-e9cc-425b-8c25-aad0eaa7a5f0\")\n",
        "        if ($myPB.hasClass('ui-progressbar')) {\n",
        "            $myPB.progressbar('value', 31);\n",
        "        } else {\n",
        "            $myPB.progressbar({value: 0, max: 98});\n",
        "        }\n",
        "        "
       ],
       "metadata": {},
       "output_type": "display_data",
       "text": [
        "<IPython.core.display.Javascript at 0x16c49160>"
       ]
      },
      {
       "javascript": [
        "$('div#563f66a1-86fb-48f1-a3b3-0807d4a7e86b').text('ETA:  0:00:05');"
       ],
       "metadata": {},
       "output_type": "display_data",
       "text": [
        "<IPython.core.display.Javascript at 0x16c49128>"
       ]
      },
      {
       "javascript": [
        "$('div#39e846c5-7070-4dde-8352-43e293655754').text('32 of 98');"
       ],
       "metadata": {},
       "output_type": "display_data",
       "text": [
        "<IPython.core.display.Javascript at 0x17901710>"
       ]
      },
      {
       "javascript": [
        "$('div#e9c0b881-c3a5-47f8-8929-4362ced6c67f').text(' 32%');"
       ],
       "metadata": {},
       "output_type": "display_data",
       "text": [
        "<IPython.core.display.Javascript at 0x17901748>"
       ]
      },
      {
       "javascript": [
        "\n",
        "        var $myPB = $(\"div#8af15c52-e9cc-425b-8c25-aad0eaa7a5f0\")\n",
        "        if ($myPB.hasClass('ui-progressbar')) {\n",
        "            $myPB.progressbar('value', 32);\n",
        "        } else {\n",
        "            $myPB.progressbar({value: 0, max: 98});\n",
        "        }\n",
        "        "
       ],
       "metadata": {},
       "output_type": "display_data",
       "text": [
        "<IPython.core.display.Javascript at 0x179017b8>"
       ]
      },
      {
       "javascript": [
        "$('div#563f66a1-86fb-48f1-a3b3-0807d4a7e86b').text('ETA:  0:00:05');"
       ],
       "metadata": {},
       "output_type": "display_data",
       "text": [
        "<IPython.core.display.Javascript at 0x17901780>"
       ]
      },
      {
       "javascript": [
        "$('div#39e846c5-7070-4dde-8352-43e293655754').text('33 of 98');"
       ],
       "metadata": {},
       "output_type": "display_data",
       "text": [
        "<IPython.core.display.Javascript at 0x179019e8>"
       ]
      },
      {
       "javascript": [
        "$('div#e9c0b881-c3a5-47f8-8929-4362ced6c67f').text(' 33%');"
       ],
       "metadata": {},
       "output_type": "display_data",
       "text": [
        "<IPython.core.display.Javascript at 0x17901a20>"
       ]
      },
      {
       "javascript": [
        "\n",
        "        var $myPB = $(\"div#8af15c52-e9cc-425b-8c25-aad0eaa7a5f0\")\n",
        "        if ($myPB.hasClass('ui-progressbar')) {\n",
        "            $myPB.progressbar('value', 33);\n",
        "        } else {\n",
        "            $myPB.progressbar({value: 0, max: 98});\n",
        "        }\n",
        "        "
       ],
       "metadata": {},
       "output_type": "display_data",
       "text": [
        "<IPython.core.display.Javascript at 0x17901a90>"
       ]
      },
      {
       "javascript": [
        "$('div#563f66a1-86fb-48f1-a3b3-0807d4a7e86b').text('ETA:  0:00:05');"
       ],
       "metadata": {},
       "output_type": "display_data",
       "text": [
        "<IPython.core.display.Javascript at 0x17901a90>"
       ]
      },
      {
       "javascript": [
        "$('div#39e846c5-7070-4dde-8352-43e293655754').text('34 of 98');"
       ],
       "metadata": {},
       "output_type": "display_data",
       "text": [
        "<IPython.core.display.Javascript at 0x17901c88>"
       ]
      },
      {
       "javascript": [
        "$('div#e9c0b881-c3a5-47f8-8929-4362ced6c67f').text(' 34%');"
       ],
       "metadata": {},
       "output_type": "display_data",
       "text": [
        "<IPython.core.display.Javascript at 0x17901cc0>"
       ]
      },
      {
       "javascript": [
        "\n",
        "        var $myPB = $(\"div#8af15c52-e9cc-425b-8c25-aad0eaa7a5f0\")\n",
        "        if ($myPB.hasClass('ui-progressbar')) {\n",
        "            $myPB.progressbar('value', 34);\n",
        "        } else {\n",
        "            $myPB.progressbar({value: 0, max: 98});\n",
        "        }\n",
        "        "
       ],
       "metadata": {},
       "output_type": "display_data",
       "text": [
        "<IPython.core.display.Javascript at 0x17901d30>"
       ]
      },
      {
       "javascript": [
        "$('div#563f66a1-86fb-48f1-a3b3-0807d4a7e86b').text('ETA:  0:00:05');"
       ],
       "metadata": {},
       "output_type": "display_data",
       "text": [
        "<IPython.core.display.Javascript at 0x17901cf8>"
       ]
      },
      {
       "javascript": [
        "$('div#39e846c5-7070-4dde-8352-43e293655754').text('35 of 98');"
       ],
       "metadata": {},
       "output_type": "display_data",
       "text": [
        "<IPython.core.display.Javascript at 0x17901dd8>"
       ]
      },
      {
       "javascript": [
        "$('div#e9c0b881-c3a5-47f8-8929-4362ced6c67f').text(' 35%');"
       ],
       "metadata": {},
       "output_type": "display_data",
       "text": [
        "<IPython.core.display.Javascript at 0x17901d30>"
       ]
      },
      {
       "javascript": [
        "\n",
        "        var $myPB = $(\"div#8af15c52-e9cc-425b-8c25-aad0eaa7a5f0\")\n",
        "        if ($myPB.hasClass('ui-progressbar')) {\n",
        "            $myPB.progressbar('value', 35);\n",
        "        } else {\n",
        "            $myPB.progressbar({value: 0, max: 98});\n",
        "        }\n",
        "        "
       ],
       "metadata": {},
       "output_type": "display_data",
       "text": [
        "<IPython.core.display.Javascript at 0x17901c88>"
       ]
      },
      {
       "javascript": [
        "$('div#563f66a1-86fb-48f1-a3b3-0807d4a7e86b').text('ETA:  0:00:04');"
       ],
       "metadata": {},
       "output_type": "display_data",
       "text": [
        "<IPython.core.display.Javascript at 0x17901cc0>"
       ]
      },
      {
       "javascript": [
        "$('div#39e846c5-7070-4dde-8352-43e293655754').text('36 of 98');"
       ],
       "metadata": {},
       "output_type": "display_data",
       "text": [
        "<IPython.core.display.Javascript at 0x1926e668>"
       ]
      },
      {
       "javascript": [
        "$('div#e9c0b881-c3a5-47f8-8929-4362ced6c67f').text(' 36%');"
       ],
       "metadata": {},
       "output_type": "display_data",
       "text": [
        "<IPython.core.display.Javascript at 0x1926e6a0>"
       ]
      },
      {
       "javascript": [
        "\n",
        "        var $myPB = $(\"div#8af15c52-e9cc-425b-8c25-aad0eaa7a5f0\")\n",
        "        if ($myPB.hasClass('ui-progressbar')) {\n",
        "            $myPB.progressbar('value', 36);\n",
        "        } else {\n",
        "            $myPB.progressbar({value: 0, max: 98});\n",
        "        }\n",
        "        "
       ],
       "metadata": {},
       "output_type": "display_data",
       "text": [
        "<IPython.core.display.Javascript at 0x1926e710>"
       ]
      },
      {
       "javascript": [
        "$('div#563f66a1-86fb-48f1-a3b3-0807d4a7e86b').text('ETA:  0:00:04');"
       ],
       "metadata": {},
       "output_type": "display_data",
       "text": [
        "<IPython.core.display.Javascript at 0x1926e6d8>"
       ]
      },
      {
       "javascript": [
        "$('div#39e846c5-7070-4dde-8352-43e293655754').text('37 of 98');"
       ],
       "metadata": {},
       "output_type": "display_data",
       "text": [
        "<IPython.core.display.Javascript at 0x1926ee48>"
       ]
      },
      {
       "javascript": [
        "$('div#e9c0b881-c3a5-47f8-8929-4362ced6c67f').text(' 37%');"
       ],
       "metadata": {},
       "output_type": "display_data",
       "text": [
        "<IPython.core.display.Javascript at 0x1926ee80>"
       ]
      },
      {
       "javascript": [
        "\n",
        "        var $myPB = $(\"div#8af15c52-e9cc-425b-8c25-aad0eaa7a5f0\")\n",
        "        if ($myPB.hasClass('ui-progressbar')) {\n",
        "            $myPB.progressbar('value', 37);\n",
        "        } else {\n",
        "            $myPB.progressbar({value: 0, max: 98});\n",
        "        }\n",
        "        "
       ],
       "metadata": {},
       "output_type": "display_data",
       "text": [
        "<IPython.core.display.Javascript at 0x1926eef0>"
       ]
      },
      {
       "javascript": [
        "$('div#563f66a1-86fb-48f1-a3b3-0807d4a7e86b').text('ETA:  0:00:04');"
       ],
       "metadata": {},
       "output_type": "display_data",
       "text": [
        "<IPython.core.display.Javascript at 0x1926eef0>"
       ]
      },
      {
       "javascript": [
        "$('div#39e846c5-7070-4dde-8352-43e293655754').text('38 of 98');"
       ],
       "metadata": {},
       "output_type": "display_data",
       "text": [
        "<IPython.core.display.Javascript at 0x17a6f3c8>"
       ]
      },
      {
       "javascript": [
        "$('div#e9c0b881-c3a5-47f8-8929-4362ced6c67f').text(' 38%');"
       ],
       "metadata": {},
       "output_type": "display_data",
       "text": [
        "<IPython.core.display.Javascript at 0x17a6f400>"
       ]
      },
      {
       "javascript": [
        "\n",
        "        var $myPB = $(\"div#8af15c52-e9cc-425b-8c25-aad0eaa7a5f0\")\n",
        "        if ($myPB.hasClass('ui-progressbar')) {\n",
        "            $myPB.progressbar('value', 38);\n",
        "        } else {\n",
        "            $myPB.progressbar({value: 0, max: 98});\n",
        "        }\n",
        "        "
       ],
       "metadata": {},
       "output_type": "display_data",
       "text": [
        "<IPython.core.display.Javascript at 0x17a6f470>"
       ]
      },
      {
       "javascript": [
        "$('div#563f66a1-86fb-48f1-a3b3-0807d4a7e86b').text('ETA:  0:00:04');"
       ],
       "metadata": {},
       "output_type": "display_data",
       "text": [
        "<IPython.core.display.Javascript at 0x17a6f438>"
       ]
      },
      {
       "javascript": [
        "$('div#39e846c5-7070-4dde-8352-43e293655754').text('39 of 98');"
       ],
       "metadata": {},
       "output_type": "display_data",
       "text": [
        "<IPython.core.display.Javascript at 0x17a6f748>"
       ]
      },
      {
       "javascript": [
        "$('div#e9c0b881-c3a5-47f8-8929-4362ced6c67f').text(' 39%');"
       ],
       "metadata": {},
       "output_type": "display_data",
       "text": [
        "<IPython.core.display.Javascript at 0x17a6f780>"
       ]
      },
      {
       "javascript": [
        "\n",
        "        var $myPB = $(\"div#8af15c52-e9cc-425b-8c25-aad0eaa7a5f0\")\n",
        "        if ($myPB.hasClass('ui-progressbar')) {\n",
        "            $myPB.progressbar('value', 39);\n",
        "        } else {\n",
        "            $myPB.progressbar({value: 0, max: 98});\n",
        "        }\n",
        "        "
       ],
       "metadata": {},
       "output_type": "display_data",
       "text": [
        "<IPython.core.display.Javascript at 0x17a6f7f0>"
       ]
      },
      {
       "javascript": [
        "$('div#563f66a1-86fb-48f1-a3b3-0807d4a7e86b').text('ETA:  0:00:04');"
       ],
       "metadata": {},
       "output_type": "display_data",
       "text": [
        "<IPython.core.display.Javascript at 0x17a6f7b8>"
       ]
      },
      {
       "javascript": [
        "$('div#39e846c5-7070-4dde-8352-43e293655754').text('40 of 98');"
       ],
       "metadata": {},
       "output_type": "display_data",
       "text": [
        "<IPython.core.display.Javascript at 0x16c614e0>"
       ]
      },
      {
       "javascript": [
        "$('div#e9c0b881-c3a5-47f8-8929-4362ced6c67f').text(' 40%');"
       ],
       "metadata": {},
       "output_type": "display_data",
       "text": [
        "<IPython.core.display.Javascript at 0x16c61518>"
       ]
      },
      {
       "javascript": [
        "\n",
        "        var $myPB = $(\"div#8af15c52-e9cc-425b-8c25-aad0eaa7a5f0\")\n",
        "        if ($myPB.hasClass('ui-progressbar')) {\n",
        "            $myPB.progressbar('value', 40);\n",
        "        } else {\n",
        "            $myPB.progressbar({value: 0, max: 98});\n",
        "        }\n",
        "        "
       ],
       "metadata": {},
       "output_type": "display_data",
       "text": [
        "<IPython.core.display.Javascript at 0x16c61588>"
       ]
      },
      {
       "javascript": [
        "$('div#563f66a1-86fb-48f1-a3b3-0807d4a7e86b').text('ETA:  0:00:04');"
       ],
       "metadata": {},
       "output_type": "display_data",
       "text": [
        "<IPython.core.display.Javascript at 0x16c61550>"
       ]
      },
      {
       "javascript": [
        "$('div#39e846c5-7070-4dde-8352-43e293655754').text('41 of 98');"
       ],
       "metadata": {},
       "output_type": "display_data",
       "text": [
        "<IPython.core.display.Javascript at 0x16c614e0>"
       ]
      },
      {
       "javascript": [
        "$('div#e9c0b881-c3a5-47f8-8929-4362ced6c67f').text(' 41%');"
       ],
       "metadata": {},
       "output_type": "display_data",
       "text": [
        "<IPython.core.display.Javascript at 0x16c616a0>"
       ]
      },
      {
       "javascript": [
        "\n",
        "        var $myPB = $(\"div#8af15c52-e9cc-425b-8c25-aad0eaa7a5f0\")\n",
        "        if ($myPB.hasClass('ui-progressbar')) {\n",
        "            $myPB.progressbar('value', 41);\n",
        "        } else {\n",
        "            $myPB.progressbar({value: 0, max: 98});\n",
        "        }\n",
        "        "
       ],
       "metadata": {},
       "output_type": "display_data",
       "text": [
        "<IPython.core.display.Javascript at 0x16c615c0>"
       ]
      },
      {
       "javascript": [
        "$('div#563f66a1-86fb-48f1-a3b3-0807d4a7e86b').text('ETA:  0:00:04');"
       ],
       "metadata": {},
       "output_type": "display_data",
       "text": [
        "<IPython.core.display.Javascript at 0x16c61668>"
       ]
      },
      {
       "javascript": [
        "$('div#39e846c5-7070-4dde-8352-43e293655754').text('42 of 98');"
       ],
       "metadata": {},
       "output_type": "display_data",
       "text": [
        "<IPython.core.display.Javascript at 0x16c61748>"
       ]
      },
      {
       "javascript": [
        "$('div#e9c0b881-c3a5-47f8-8929-4362ced6c67f').text(' 42%');"
       ],
       "metadata": {},
       "output_type": "display_data",
       "text": [
        "<IPython.core.display.Javascript at 0x16c616d8>"
       ]
      },
      {
       "javascript": [
        "\n",
        "        var $myPB = $(\"div#8af15c52-e9cc-425b-8c25-aad0eaa7a5f0\")\n",
        "        if ($myPB.hasClass('ui-progressbar')) {\n",
        "            $myPB.progressbar('value', 42);\n",
        "        } else {\n",
        "            $myPB.progressbar({value: 0, max: 98});\n",
        "        }\n",
        "        "
       ],
       "metadata": {},
       "output_type": "display_data",
       "text": [
        "<IPython.core.display.Javascript at 0x16c617f0>"
       ]
      },
      {
       "javascript": [
        "$('div#563f66a1-86fb-48f1-a3b3-0807d4a7e86b').text('ETA:  0:00:03');"
       ],
       "metadata": {},
       "output_type": "display_data",
       "text": [
        "<IPython.core.display.Javascript at 0x16c617f0>"
       ]
      },
      {
       "javascript": [
        "$('div#39e846c5-7070-4dde-8352-43e293655754').text('43 of 98');"
       ],
       "metadata": {},
       "output_type": "display_data",
       "text": [
        "<IPython.core.display.Javascript at 0x16c61828>"
       ]
      },
      {
       "javascript": [
        "$('div#e9c0b881-c3a5-47f8-8929-4362ced6c67f').text(' 43%');"
       ],
       "metadata": {},
       "output_type": "display_data",
       "text": [
        "<IPython.core.display.Javascript at 0x16c61908>"
       ]
      },
      {
       "javascript": [
        "\n",
        "        var $myPB = $(\"div#8af15c52-e9cc-425b-8c25-aad0eaa7a5f0\")\n",
        "        if ($myPB.hasClass('ui-progressbar')) {\n",
        "            $myPB.progressbar('value', 43);\n",
        "        } else {\n",
        "            $myPB.progressbar({value: 0, max: 98});\n",
        "        }\n",
        "        "
       ],
       "metadata": {},
       "output_type": "display_data",
       "text": [
        "<IPython.core.display.Javascript at 0x16c61978>"
       ]
      },
      {
       "javascript": [
        "$('div#563f66a1-86fb-48f1-a3b3-0807d4a7e86b').text('ETA:  0:00:03');"
       ],
       "metadata": {},
       "output_type": "display_data",
       "text": [
        "<IPython.core.display.Javascript at 0x16c61978>"
       ]
      },
      {
       "javascript": [
        "$('div#39e846c5-7070-4dde-8352-43e293655754').text('44 of 98');"
       ],
       "metadata": {},
       "output_type": "display_data",
       "text": [
        "<IPython.core.display.Javascript at 0x16c61b70>"
       ]
      },
      {
       "javascript": [
        "$('div#e9c0b881-c3a5-47f8-8929-4362ced6c67f').text(' 44%');"
       ],
       "metadata": {},
       "output_type": "display_data",
       "text": [
        "<IPython.core.display.Javascript at 0x16c61ba8>"
       ]
      },
      {
       "javascript": [
        "\n",
        "        var $myPB = $(\"div#8af15c52-e9cc-425b-8c25-aad0eaa7a5f0\")\n",
        "        if ($myPB.hasClass('ui-progressbar')) {\n",
        "            $myPB.progressbar('value', 44);\n",
        "        } else {\n",
        "            $myPB.progressbar({value: 0, max: 98});\n",
        "        }\n",
        "        "
       ],
       "metadata": {},
       "output_type": "display_data",
       "text": [
        "<IPython.core.display.Javascript at 0x16c61ba8>"
       ]
      },
      {
       "javascript": [
        "$('div#563f66a1-86fb-48f1-a3b3-0807d4a7e86b').text('ETA:  0:00:03');"
       ],
       "metadata": {},
       "output_type": "display_data",
       "text": [
        "<IPython.core.display.Javascript at 0x16c61c18>"
       ]
      },
      {
       "javascript": [
        "$('div#39e846c5-7070-4dde-8352-43e293655754').text('45 of 98');"
       ],
       "metadata": {},
       "output_type": "display_data",
       "text": [
        "<IPython.core.display.Javascript at 0x16c61dd8>"
       ]
      },
      {
       "javascript": [
        "$('div#e9c0b881-c3a5-47f8-8929-4362ced6c67f').text(' 45%');"
       ],
       "metadata": {},
       "output_type": "display_data",
       "text": [
        "<IPython.core.display.Javascript at 0x16c61e10>"
       ]
      },
      {
       "javascript": [
        "\n",
        "        var $myPB = $(\"div#8af15c52-e9cc-425b-8c25-aad0eaa7a5f0\")\n",
        "        if ($myPB.hasClass('ui-progressbar')) {\n",
        "            $myPB.progressbar('value', 45);\n",
        "        } else {\n",
        "            $myPB.progressbar({value: 0, max: 98});\n",
        "        }\n",
        "        "
       ],
       "metadata": {},
       "output_type": "display_data",
       "text": [
        "<IPython.core.display.Javascript at 0x16c61f60>"
       ]
      },
      {
       "javascript": [
        "$('div#563f66a1-86fb-48f1-a3b3-0807d4a7e86b').text('ETA:  0:00:03');"
       ],
       "metadata": {},
       "output_type": "display_data",
       "text": [
        "<IPython.core.display.Javascript at 0x16c61e48>"
       ]
      },
      {
       "javascript": [
        "$('div#39e846c5-7070-4dde-8352-43e293655754').text('46 of 98');"
       ],
       "metadata": {},
       "output_type": "display_data",
       "text": [
        "<IPython.core.display.Javascript at 0x18cb01d0>"
       ]
      },
      {
       "javascript": [
        "$('div#e9c0b881-c3a5-47f8-8929-4362ced6c67f').text(' 46%');"
       ],
       "metadata": {},
       "output_type": "display_data",
       "text": [
        "<IPython.core.display.Javascript at 0x18cb0208>"
       ]
      },
      {
       "javascript": [
        "\n",
        "        var $myPB = $(\"div#8af15c52-e9cc-425b-8c25-aad0eaa7a5f0\")\n",
        "        if ($myPB.hasClass('ui-progressbar')) {\n",
        "            $myPB.progressbar('value', 46);\n",
        "        } else {\n",
        "            $myPB.progressbar({value: 0, max: 98});\n",
        "        }\n",
        "        "
       ],
       "metadata": {},
       "output_type": "display_data",
       "text": [
        "<IPython.core.display.Javascript at 0x18cb0278>"
       ]
      },
      {
       "javascript": [
        "$('div#563f66a1-86fb-48f1-a3b3-0807d4a7e86b').text('ETA:  0:00:03');"
       ],
       "metadata": {},
       "output_type": "display_data",
       "text": [
        "<IPython.core.display.Javascript at 0x18cb0278>"
       ]
      },
      {
       "javascript": [
        "$('div#39e846c5-7070-4dde-8352-43e293655754').text('47 of 98');"
       ],
       "metadata": {},
       "output_type": "display_data",
       "text": [
        "<IPython.core.display.Javascript at 0x18cb0748>"
       ]
      },
      {
       "javascript": [
        "$('div#e9c0b881-c3a5-47f8-8929-4362ced6c67f').text(' 47%');"
       ],
       "metadata": {},
       "output_type": "display_data",
       "text": [
        "<IPython.core.display.Javascript at 0x18cb0780>"
       ]
      },
      {
       "javascript": [
        "\n",
        "        var $myPB = $(\"div#8af15c52-e9cc-425b-8c25-aad0eaa7a5f0\")\n",
        "        if ($myPB.hasClass('ui-progressbar')) {\n",
        "            $myPB.progressbar('value', 47);\n",
        "        } else {\n",
        "            $myPB.progressbar({value: 0, max: 98});\n",
        "        }\n",
        "        "
       ],
       "metadata": {},
       "output_type": "display_data",
       "text": [
        "<IPython.core.display.Javascript at 0x18cb07f0>"
       ]
      },
      {
       "javascript": [
        "$('div#563f66a1-86fb-48f1-a3b3-0807d4a7e86b').text('ETA:  0:00:03');"
       ],
       "metadata": {},
       "output_type": "display_data",
       "text": [
        "<IPython.core.display.Javascript at 0x18cb07b8>"
       ]
      },
      {
       "javascript": [
        "$('div#39e846c5-7070-4dde-8352-43e293655754').text('48 of 98');"
       ],
       "metadata": {},
       "output_type": "display_data",
       "text": [
        "<IPython.core.display.Javascript at 0x18cb09b0>"
       ]
      },
      {
       "javascript": [
        "$('div#e9c0b881-c3a5-47f8-8929-4362ced6c67f').text(' 48%');"
       ],
       "metadata": {},
       "output_type": "display_data",
       "text": [
        "<IPython.core.display.Javascript at 0x18cb09e8>"
       ]
      },
      {
       "javascript": [
        "\n",
        "        var $myPB = $(\"div#8af15c52-e9cc-425b-8c25-aad0eaa7a5f0\")\n",
        "        if ($myPB.hasClass('ui-progressbar')) {\n",
        "            $myPB.progressbar('value', 48);\n",
        "        } else {\n",
        "            $myPB.progressbar({value: 0, max: 98});\n",
        "        }\n",
        "        "
       ],
       "metadata": {},
       "output_type": "display_data",
       "text": [
        "<IPython.core.display.Javascript at 0x18cb0a58>"
       ]
      },
      {
       "javascript": [
        "$('div#563f66a1-86fb-48f1-a3b3-0807d4a7e86b').text('ETA:  0:00:03');"
       ],
       "metadata": {},
       "output_type": "display_data",
       "text": [
        "<IPython.core.display.Javascript at 0x18cb0a20>"
       ]
      },
      {
       "javascript": [
        "$('div#39e846c5-7070-4dde-8352-43e293655754').text('49 of 98');"
       ],
       "metadata": {},
       "output_type": "display_data",
       "text": [
        "<IPython.core.display.Javascript at 0x18cb0fd0>"
       ]
      },
      {
       "javascript": [
        "$('div#e9c0b881-c3a5-47f8-8929-4362ced6c67f').text(' 50%');"
       ],
       "metadata": {},
       "output_type": "display_data",
       "text": [
        "<IPython.core.display.Javascript at 0x18cee048>"
       ]
      },
      {
       "javascript": [
        "\n",
        "        var $myPB = $(\"div#8af15c52-e9cc-425b-8c25-aad0eaa7a5f0\")\n",
        "        if ($myPB.hasClass('ui-progressbar')) {\n",
        "            $myPB.progressbar('value', 49);\n",
        "        } else {\n",
        "            $myPB.progressbar({value: 0, max: 98});\n",
        "        }\n",
        "        "
       ],
       "metadata": {},
       "output_type": "display_data",
       "text": [
        "<IPython.core.display.Javascript at 0x18cee0b8>"
       ]
      },
      {
       "javascript": [
        "$('div#563f66a1-86fb-48f1-a3b3-0807d4a7e86b').text('ETA:  0:00:03');"
       ],
       "metadata": {},
       "output_type": "display_data",
       "text": [
        "<IPython.core.display.Javascript at 0x18cee080>"
       ]
      },
      {
       "javascript": [
        "$('div#39e846c5-7070-4dde-8352-43e293655754').text('50 of 98');"
       ],
       "metadata": {},
       "output_type": "display_data",
       "text": [
        "<IPython.core.display.Javascript at 0x18cf45c0>"
       ]
      },
      {
       "javascript": [
        "$('div#e9c0b881-c3a5-47f8-8929-4362ced6c67f').text(' 51%');"
       ],
       "metadata": {},
       "output_type": "display_data",
       "text": [
        "<IPython.core.display.Javascript at 0x18cf45f8>"
       ]
      },
      {
       "javascript": [
        "\n",
        "        var $myPB = $(\"div#8af15c52-e9cc-425b-8c25-aad0eaa7a5f0\")\n",
        "        if ($myPB.hasClass('ui-progressbar')) {\n",
        "            $myPB.progressbar('value', 50);\n",
        "        } else {\n",
        "            $myPB.progressbar({value: 0, max: 98});\n",
        "        }\n",
        "        "
       ],
       "metadata": {},
       "output_type": "display_data",
       "text": [
        "<IPython.core.display.Javascript at 0x18cf4668>"
       ]
      },
      {
       "javascript": [
        "$('div#563f66a1-86fb-48f1-a3b3-0807d4a7e86b').text('ETA:  0:00:03');"
       ],
       "metadata": {},
       "output_type": "display_data",
       "text": [
        "<IPython.core.display.Javascript at 0x18cf4668>"
       ]
      },
      {
       "javascript": [
        "$('div#39e846c5-7070-4dde-8352-43e293655754').text('51 of 98');"
       ],
       "metadata": {},
       "output_type": "display_data",
       "text": [
        "<IPython.core.display.Javascript at 0x179d8160>"
       ]
      },
      {
       "javascript": [
        "$('div#e9c0b881-c3a5-47f8-8929-4362ced6c67f').text(' 52%');"
       ],
       "metadata": {},
       "output_type": "display_data",
       "text": [
        "<IPython.core.display.Javascript at 0x179d8198>"
       ]
      },
      {
       "javascript": [
        "\n",
        "        var $myPB = $(\"div#8af15c52-e9cc-425b-8c25-aad0eaa7a5f0\")\n",
        "        if ($myPB.hasClass('ui-progressbar')) {\n",
        "            $myPB.progressbar('value', 51);\n",
        "        } else {\n",
        "            $myPB.progressbar({value: 0, max: 98});\n",
        "        }\n",
        "        "
       ],
       "metadata": {},
       "output_type": "display_data",
       "text": [
        "<IPython.core.display.Javascript at 0x179d8208>"
       ]
      },
      {
       "javascript": [
        "$('div#563f66a1-86fb-48f1-a3b3-0807d4a7e86b').text('ETA:  0:00:02');"
       ],
       "metadata": {},
       "output_type": "display_data",
       "text": [
        "<IPython.core.display.Javascript at 0x179d81d0>"
       ]
      },
      {
       "javascript": [
        "$('div#39e846c5-7070-4dde-8352-43e293655754').text('52 of 98');"
       ],
       "metadata": {},
       "output_type": "display_data",
       "text": [
        "<IPython.core.display.Javascript at 0x179d89b0>"
       ]
      },
      {
       "javascript": [
        "$('div#e9c0b881-c3a5-47f8-8929-4362ced6c67f').text(' 53%');"
       ],
       "metadata": {},
       "output_type": "display_data",
       "text": [
        "<IPython.core.display.Javascript at 0x179d89e8>"
       ]
      },
      {
       "javascript": [
        "\n",
        "        var $myPB = $(\"div#8af15c52-e9cc-425b-8c25-aad0eaa7a5f0\")\n",
        "        if ($myPB.hasClass('ui-progressbar')) {\n",
        "            $myPB.progressbar('value', 52);\n",
        "        } else {\n",
        "            $myPB.progressbar({value: 0, max: 98});\n",
        "        }\n",
        "        "
       ],
       "metadata": {},
       "output_type": "display_data",
       "text": [
        "<IPython.core.display.Javascript at 0x179d8a58>"
       ]
      },
      {
       "javascript": [
        "$('div#563f66a1-86fb-48f1-a3b3-0807d4a7e86b').text('ETA:  0:00:02');"
       ],
       "metadata": {},
       "output_type": "display_data",
       "text": [
        "<IPython.core.display.Javascript at 0x179d8a20>"
       ]
      },
      {
       "javascript": [
        "$('div#39e846c5-7070-4dde-8352-43e293655754').text('53 of 98');"
       ],
       "metadata": {},
       "output_type": "display_data",
       "text": [
        "<IPython.core.display.Javascript at 0x19840ba8>"
       ]
      },
      {
       "javascript": [
        "$('div#e9c0b881-c3a5-47f8-8929-4362ced6c67f').text(' 54%');"
       ],
       "metadata": {},
       "output_type": "display_data",
       "text": [
        "<IPython.core.display.Javascript at 0x19840be0>"
       ]
      },
      {
       "javascript": [
        "\n",
        "        var $myPB = $(\"div#8af15c52-e9cc-425b-8c25-aad0eaa7a5f0\")\n",
        "        if ($myPB.hasClass('ui-progressbar')) {\n",
        "            $myPB.progressbar('value', 53);\n",
        "        } else {\n",
        "            $myPB.progressbar({value: 0, max: 98});\n",
        "        }\n",
        "        "
       ],
       "metadata": {},
       "output_type": "display_data",
       "text": [
        "<IPython.core.display.Javascript at 0x19840c50>"
       ]
      },
      {
       "javascript": [
        "$('div#563f66a1-86fb-48f1-a3b3-0807d4a7e86b').text('ETA:  0:00:02');"
       ],
       "metadata": {},
       "output_type": "display_data",
       "text": [
        "<IPython.core.display.Javascript at 0x19840c18>"
       ]
      },
      {
       "javascript": [
        "$('div#39e846c5-7070-4dde-8352-43e293655754').text('54 of 98');"
       ],
       "metadata": {},
       "output_type": "display_data",
       "text": [
        "<IPython.core.display.Javascript at 0x1985deb8>"
       ]
      },
      {
       "javascript": [
        "$('div#e9c0b881-c3a5-47f8-8929-4362ced6c67f').text(' 55%');"
       ],
       "metadata": {},
       "output_type": "display_data",
       "text": [
        "<IPython.core.display.Javascript at 0x1985def0>"
       ]
      },
      {
       "javascript": [
        "\n",
        "        var $myPB = $(\"div#8af15c52-e9cc-425b-8c25-aad0eaa7a5f0\")\n",
        "        if ($myPB.hasClass('ui-progressbar')) {\n",
        "            $myPB.progressbar('value', 54);\n",
        "        } else {\n",
        "            $myPB.progressbar({value: 0, max: 98});\n",
        "        }\n",
        "        "
       ],
       "metadata": {},
       "output_type": "display_data",
       "text": [
        "<IPython.core.display.Javascript at 0x1985df60>"
       ]
      },
      {
       "javascript": [
        "$('div#563f66a1-86fb-48f1-a3b3-0807d4a7e86b').text('ETA:  0:00:02');"
       ],
       "metadata": {},
       "output_type": "display_data",
       "text": [
        "<IPython.core.display.Javascript at 0x1985df28>"
       ]
      },
      {
       "javascript": [
        "$('div#39e846c5-7070-4dde-8352-43e293655754').text('55 of 98');"
       ],
       "metadata": {},
       "output_type": "display_data",
       "text": [
        "<IPython.core.display.Javascript at 0x17a2e4e0>"
       ]
      },
      {
       "javascript": [
        "$('div#e9c0b881-c3a5-47f8-8929-4362ced6c67f').text(' 56%');"
       ],
       "metadata": {},
       "output_type": "display_data",
       "text": [
        "<IPython.core.display.Javascript at 0x17a2e518>"
       ]
      },
      {
       "javascript": [
        "\n",
        "        var $myPB = $(\"div#8af15c52-e9cc-425b-8c25-aad0eaa7a5f0\")\n",
        "        if ($myPB.hasClass('ui-progressbar')) {\n",
        "            $myPB.progressbar('value', 55);\n",
        "        } else {\n",
        "            $myPB.progressbar({value: 0, max: 98});\n",
        "        }\n",
        "        "
       ],
       "metadata": {},
       "output_type": "display_data",
       "text": [
        "<IPython.core.display.Javascript at 0x17a2e588>"
       ]
      },
      {
       "javascript": [
        "$('div#563f66a1-86fb-48f1-a3b3-0807d4a7e86b').text('ETA:  0:00:02');"
       ],
       "metadata": {},
       "output_type": "display_data",
       "text": [
        "<IPython.core.display.Javascript at 0x17a2e550>"
       ]
      },
      {
       "javascript": [
        "$('div#39e846c5-7070-4dde-8352-43e293655754').text('56 of 98');"
       ],
       "metadata": {},
       "output_type": "display_data",
       "text": [
        "<IPython.core.display.Javascript at 0x17a2eb00>"
       ]
      },
      {
       "javascript": [
        "$('div#e9c0b881-c3a5-47f8-8929-4362ced6c67f').text(' 57%');"
       ],
       "metadata": {},
       "output_type": "display_data",
       "text": [
        "<IPython.core.display.Javascript at 0x17a2eb38>"
       ]
      },
      {
       "javascript": [
        "\n",
        "        var $myPB = $(\"div#8af15c52-e9cc-425b-8c25-aad0eaa7a5f0\")\n",
        "        if ($myPB.hasClass('ui-progressbar')) {\n",
        "            $myPB.progressbar('value', 56);\n",
        "        } else {\n",
        "            $myPB.progressbar({value: 0, max: 98});\n",
        "        }\n",
        "        "
       ],
       "metadata": {},
       "output_type": "display_data",
       "text": [
        "<IPython.core.display.Javascript at 0x17a2eba8>"
       ]
      },
      {
       "javascript": [
        "$('div#563f66a1-86fb-48f1-a3b3-0807d4a7e86b').text('ETA:  0:00:02');"
       ],
       "metadata": {},
       "output_type": "display_data",
       "text": [
        "<IPython.core.display.Javascript at 0x17a2eba8>"
       ]
      },
      {
       "javascript": [
        "$('div#39e846c5-7070-4dde-8352-43e293655754').text('57 of 98');"
       ],
       "metadata": {},
       "output_type": "display_data",
       "text": [
        "<IPython.core.display.Javascript at 0x196dd198>"
       ]
      },
      {
       "javascript": [
        "$('div#e9c0b881-c3a5-47f8-8929-4362ced6c67f').text(' 58%');"
       ],
       "metadata": {},
       "output_type": "display_data",
       "text": [
        "<IPython.core.display.Javascript at 0x196dd1d0>"
       ]
      },
      {
       "javascript": [
        "\n",
        "        var $myPB = $(\"div#8af15c52-e9cc-425b-8c25-aad0eaa7a5f0\")\n",
        "        if ($myPB.hasClass('ui-progressbar')) {\n",
        "            $myPB.progressbar('value', 57);\n",
        "        } else {\n",
        "            $myPB.progressbar({value: 0, max: 98});\n",
        "        }\n",
        "        "
       ],
       "metadata": {},
       "output_type": "display_data",
       "text": [
        "<IPython.core.display.Javascript at 0x17a2eba8>"
       ]
      },
      {
       "javascript": [
        "$('div#563f66a1-86fb-48f1-a3b3-0807d4a7e86b').text('ETA:  0:00:02');"
       ],
       "metadata": {},
       "output_type": "display_data",
       "text": [
        "<IPython.core.display.Javascript at 0x196dd1d0>"
       ]
      },
      {
       "javascript": [
        "$('div#39e846c5-7070-4dde-8352-43e293655754').text('58 of 98');"
       ],
       "metadata": {},
       "output_type": "display_data",
       "text": [
        "<IPython.core.display.Javascript at 0x196ddf98>"
       ]
      },
      {
       "javascript": [
        "$('div#e9c0b881-c3a5-47f8-8929-4362ced6c67f').text(' 59%');"
       ],
       "metadata": {},
       "output_type": "display_data",
       "text": [
        "<IPython.core.display.Javascript at 0x196ddfd0>"
       ]
      },
      {
       "javascript": [
        "\n",
        "        var $myPB = $(\"div#8af15c52-e9cc-425b-8c25-aad0eaa7a5f0\")\n",
        "        if ($myPB.hasClass('ui-progressbar')) {\n",
        "            $myPB.progressbar('value', 58);\n",
        "        } else {\n",
        "            $myPB.progressbar({value: 0, max: 98});\n",
        "        }\n",
        "        "
       ],
       "metadata": {},
       "output_type": "display_data",
       "text": [
        "<IPython.core.display.Javascript at 0x196e3080>"
       ]
      },
      {
       "javascript": [
        "$('div#563f66a1-86fb-48f1-a3b3-0807d4a7e86b').text('ETA:  0:00:02');"
       ],
       "metadata": {},
       "output_type": "display_data",
       "text": [
        "<IPython.core.display.Javascript at 0x196e3048>"
       ]
      },
      {
       "javascript": [
        "$('div#39e846c5-7070-4dde-8352-43e293655754').text('59 of 98');"
       ],
       "metadata": {},
       "output_type": "display_data",
       "text": [
        "<IPython.core.display.Javascript at 0x196eb2b0>"
       ]
      },
      {
       "javascript": [
        "$('div#e9c0b881-c3a5-47f8-8929-4362ced6c67f').text(' 60%');"
       ],
       "metadata": {},
       "output_type": "display_data",
       "text": [
        "<IPython.core.display.Javascript at 0x196eb2e8>"
       ]
      },
      {
       "javascript": [
        "\n",
        "        var $myPB = $(\"div#8af15c52-e9cc-425b-8c25-aad0eaa7a5f0\")\n",
        "        if ($myPB.hasClass('ui-progressbar')) {\n",
        "            $myPB.progressbar('value', 59);\n",
        "        } else {\n",
        "            $myPB.progressbar({value: 0, max: 98});\n",
        "        }\n",
        "        "
       ],
       "metadata": {},
       "output_type": "display_data",
       "text": [
        "<IPython.core.display.Javascript at 0x196eb358>"
       ]
      },
      {
       "javascript": [
        "$('div#563f66a1-86fb-48f1-a3b3-0807d4a7e86b').text('ETA:  0:00:02');"
       ],
       "metadata": {},
       "output_type": "display_data",
       "text": [
        "<IPython.core.display.Javascript at 0x196eb320>"
       ]
      },
      {
       "javascript": [
        "$('div#39e846c5-7070-4dde-8352-43e293655754').text('60 of 98');"
       ],
       "metadata": {},
       "output_type": "display_data",
       "text": [
        "<IPython.core.display.Javascript at 0x196ebb00>"
       ]
      },
      {
       "javascript": [
        "$('div#e9c0b881-c3a5-47f8-8929-4362ced6c67f').text(' 61%');"
       ],
       "metadata": {},
       "output_type": "display_data",
       "text": [
        "<IPython.core.display.Javascript at 0x196ebb38>"
       ]
      },
      {
       "javascript": [
        "\n",
        "        var $myPB = $(\"div#8af15c52-e9cc-425b-8c25-aad0eaa7a5f0\")\n",
        "        if ($myPB.hasClass('ui-progressbar')) {\n",
        "            $myPB.progressbar('value', 60);\n",
        "        } else {\n",
        "            $myPB.progressbar({value: 0, max: 98});\n",
        "        }\n",
        "        "
       ],
       "metadata": {},
       "output_type": "display_data",
       "text": [
        "<IPython.core.display.Javascript at 0x196ebba8>"
       ]
      },
      {
       "javascript": [
        "$('div#563f66a1-86fb-48f1-a3b3-0807d4a7e86b').text('ETA:  0:00:02');"
       ],
       "metadata": {},
       "output_type": "display_data",
       "text": [
        "<IPython.core.display.Javascript at 0x196ebb70>"
       ]
      },
      {
       "javascript": [
        "$('div#39e846c5-7070-4dde-8352-43e293655754').text('61 of 98');"
       ],
       "metadata": {},
       "output_type": "display_data",
       "text": [
        "<IPython.core.display.Javascript at 0x19b91e80>"
       ]
      },
      {
       "javascript": [
        "$('div#e9c0b881-c3a5-47f8-8929-4362ced6c67f').text(' 62%');"
       ],
       "metadata": {},
       "output_type": "display_data",
       "text": [
        "<IPython.core.display.Javascript at 0x19b91eb8>"
       ]
      },
      {
       "javascript": [
        "\n",
        "        var $myPB = $(\"div#8af15c52-e9cc-425b-8c25-aad0eaa7a5f0\")\n",
        "        if ($myPB.hasClass('ui-progressbar')) {\n",
        "            $myPB.progressbar('value', 61);\n",
        "        } else {\n",
        "            $myPB.progressbar({value: 0, max: 98});\n",
        "        }\n",
        "        "
       ],
       "metadata": {},
       "output_type": "display_data",
       "text": [
        "<IPython.core.display.Javascript at 0x19b91f28>"
       ]
      },
      {
       "javascript": [
        "$('div#563f66a1-86fb-48f1-a3b3-0807d4a7e86b').text('ETA:  0:00:02');"
       ],
       "metadata": {},
       "output_type": "display_data",
       "text": [
        "<IPython.core.display.Javascript at 0x19b91ef0>"
       ]
      },
      {
       "javascript": [
        "$('div#39e846c5-7070-4dde-8352-43e293655754').text('62 of 98');"
       ],
       "metadata": {},
       "output_type": "display_data",
       "text": [
        "<IPython.core.display.Javascript at 0x17769710>"
       ]
      },
      {
       "javascript": [
        "$('div#e9c0b881-c3a5-47f8-8929-4362ced6c67f').text(' 63%');"
       ],
       "metadata": {},
       "output_type": "display_data",
       "text": [
        "<IPython.core.display.Javascript at 0x17769748>"
       ]
      },
      {
       "javascript": [
        "\n",
        "        var $myPB = $(\"div#8af15c52-e9cc-425b-8c25-aad0eaa7a5f0\")\n",
        "        if ($myPB.hasClass('ui-progressbar')) {\n",
        "            $myPB.progressbar('value', 62);\n",
        "        } else {\n",
        "            $myPB.progressbar({value: 0, max: 98});\n",
        "        }\n",
        "        "
       ],
       "metadata": {},
       "output_type": "display_data",
       "text": [
        "<IPython.core.display.Javascript at 0x177697b8>"
       ]
      },
      {
       "javascript": [
        "$('div#563f66a1-86fb-48f1-a3b3-0807d4a7e86b').text('ETA:  0:00:02');"
       ],
       "metadata": {},
       "output_type": "display_data",
       "text": [
        "<IPython.core.display.Javascript at 0x17769780>"
       ]
      },
      {
       "javascript": [
        "$('div#39e846c5-7070-4dde-8352-43e293655754').text('63 of 98');"
       ],
       "metadata": {},
       "output_type": "display_data",
       "text": [
        "<IPython.core.display.Javascript at 0x1a4585c0>"
       ]
      },
      {
       "javascript": [
        "$('div#e9c0b881-c3a5-47f8-8929-4362ced6c67f').text(' 64%');"
       ],
       "metadata": {},
       "output_type": "display_data",
       "text": [
        "<IPython.core.display.Javascript at 0x1a4585f8>"
       ]
      },
      {
       "javascript": [
        "\n",
        "        var $myPB = $(\"div#8af15c52-e9cc-425b-8c25-aad0eaa7a5f0\")\n",
        "        if ($myPB.hasClass('ui-progressbar')) {\n",
        "            $myPB.progressbar('value', 63);\n",
        "        } else {\n",
        "            $myPB.progressbar({value: 0, max: 98});\n",
        "        }\n",
        "        "
       ],
       "metadata": {},
       "output_type": "display_data",
       "text": [
        "<IPython.core.display.Javascript at 0x1a458668>"
       ]
      },
      {
       "javascript": [
        "$('div#563f66a1-86fb-48f1-a3b3-0807d4a7e86b').text('ETA:  0:00:02');"
       ],
       "metadata": {},
       "output_type": "display_data",
       "text": [
        "<IPython.core.display.Javascript at 0x1a458630>"
       ]
      },
      {
       "javascript": [
        "$('div#39e846c5-7070-4dde-8352-43e293655754').text('64 of 98');"
       ],
       "metadata": {},
       "output_type": "display_data",
       "text": [
        "<IPython.core.display.Javascript at 0x1a750ba8>"
       ]
      },
      {
       "javascript": [
        "$('div#e9c0b881-c3a5-47f8-8929-4362ced6c67f').text(' 65%');"
       ],
       "metadata": {},
       "output_type": "display_data",
       "text": [
        "<IPython.core.display.Javascript at 0x1a750be0>"
       ]
      },
      {
       "javascript": [
        "\n",
        "        var $myPB = $(\"div#8af15c52-e9cc-425b-8c25-aad0eaa7a5f0\")\n",
        "        if ($myPB.hasClass('ui-progressbar')) {\n",
        "            $myPB.progressbar('value', 64);\n",
        "        } else {\n",
        "            $myPB.progressbar({value: 0, max: 98});\n",
        "        }\n",
        "        "
       ],
       "metadata": {},
       "output_type": "display_data",
       "text": [
        "<IPython.core.display.Javascript at 0x1a750c50>"
       ]
      },
      {
       "javascript": [
        "$('div#563f66a1-86fb-48f1-a3b3-0807d4a7e86b').text('ETA:  0:00:02');"
       ],
       "metadata": {},
       "output_type": "display_data",
       "text": [
        "<IPython.core.display.Javascript at 0x1a750c18>"
       ]
      },
      {
       "javascript": [
        "$('div#39e846c5-7070-4dde-8352-43e293655754').text('65 of 98');"
       ],
       "metadata": {},
       "output_type": "display_data",
       "text": [
        "<IPython.core.display.Javascript at 0x1a7b5f98>"
       ]
      },
      {
       "javascript": [
        "$('div#e9c0b881-c3a5-47f8-8929-4362ced6c67f').text(' 66%');"
       ],
       "metadata": {},
       "output_type": "display_data",
       "text": [
        "<IPython.core.display.Javascript at 0x1a7b5fd0>"
       ]
      },
      {
       "javascript": [
        "\n",
        "        var $myPB = $(\"div#8af15c52-e9cc-425b-8c25-aad0eaa7a5f0\")\n",
        "        if ($myPB.hasClass('ui-progressbar')) {\n",
        "            $myPB.progressbar('value', 65);\n",
        "        } else {\n",
        "            $myPB.progressbar({value: 0, max: 98});\n",
        "        }\n",
        "        "
       ],
       "metadata": {},
       "output_type": "display_data",
       "text": [
        "<IPython.core.display.Javascript at 0x198aa048>"
       ]
      },
      {
       "javascript": [
        "$('div#563f66a1-86fb-48f1-a3b3-0807d4a7e86b').text('ETA:  0:00:03');"
       ],
       "metadata": {},
       "output_type": "display_data",
       "text": [
        "<IPython.core.display.Javascript at 0x198aa0b8>"
       ]
      },
      {
       "javascript": [
        "$('div#39e846c5-7070-4dde-8352-43e293655754').text('66 of 98');"
       ],
       "metadata": {},
       "output_type": "display_data",
       "text": [
        "<IPython.core.display.Javascript at 0x1ab407f0>"
       ]
      },
      {
       "javascript": [
        "$('div#e9c0b881-c3a5-47f8-8929-4362ced6c67f').text(' 67%');"
       ],
       "metadata": {},
       "output_type": "display_data",
       "text": [
        "<IPython.core.display.Javascript at 0x1ab40828>"
       ]
      },
      {
       "javascript": [
        "\n",
        "        var $myPB = $(\"div#8af15c52-e9cc-425b-8c25-aad0eaa7a5f0\")\n",
        "        if ($myPB.hasClass('ui-progressbar')) {\n",
        "            $myPB.progressbar('value', 66);\n",
        "        } else {\n",
        "            $myPB.progressbar({value: 0, max: 98});\n",
        "        }\n",
        "        "
       ],
       "metadata": {},
       "output_type": "display_data",
       "text": [
        "<IPython.core.display.Javascript at 0x1ab40898>"
       ]
      },
      {
       "javascript": [
        "$('div#563f66a1-86fb-48f1-a3b3-0807d4a7e86b').text('ETA:  0:00:03');"
       ],
       "metadata": {},
       "output_type": "display_data",
       "text": [
        "<IPython.core.display.Javascript at 0x1ab40860>"
       ]
      },
      {
       "javascript": [
        "$('div#39e846c5-7070-4dde-8352-43e293655754').text('67 of 98');"
       ],
       "metadata": {},
       "output_type": "display_data",
       "text": [
        "<IPython.core.display.Javascript at 0x1addc630>"
       ]
      },
      {
       "javascript": [
        "$('div#e9c0b881-c3a5-47f8-8929-4362ced6c67f').text(' 68%');"
       ],
       "metadata": {},
       "output_type": "display_data",
       "text": [
        "<IPython.core.display.Javascript at 0x1addc668>"
       ]
      },
      {
       "javascript": [
        "\n",
        "        var $myPB = $(\"div#8af15c52-e9cc-425b-8c25-aad0eaa7a5f0\")\n",
        "        if ($myPB.hasClass('ui-progressbar')) {\n",
        "            $myPB.progressbar('value', 67);\n",
        "        } else {\n",
        "            $myPB.progressbar({value: 0, max: 98});\n",
        "        }\n",
        "        "
       ],
       "metadata": {},
       "output_type": "display_data",
       "text": [
        "<IPython.core.display.Javascript at 0x1addc7b8>"
       ]
      },
      {
       "javascript": [
        "$('div#563f66a1-86fb-48f1-a3b3-0807d4a7e86b').text('ETA:  0:00:03');"
       ],
       "metadata": {},
       "output_type": "display_data",
       "text": [
        "<IPython.core.display.Javascript at 0x1addc6a0>"
       ]
      },
      {
       "javascript": [
        "$('div#39e846c5-7070-4dde-8352-43e293655754').text('68 of 98');"
       ],
       "metadata": {},
       "output_type": "display_data",
       "text": [
        "<IPython.core.display.Javascript at 0x1addcd30>"
       ]
      },
      {
       "javascript": [
        "$('div#e9c0b881-c3a5-47f8-8929-4362ced6c67f').text(' 69%');"
       ],
       "metadata": {},
       "output_type": "display_data",
       "text": [
        "<IPython.core.display.Javascript at 0x1addcd68>"
       ]
      },
      {
       "javascript": [
        "\n",
        "        var $myPB = $(\"div#8af15c52-e9cc-425b-8c25-aad0eaa7a5f0\")\n",
        "        if ($myPB.hasClass('ui-progressbar')) {\n",
        "            $myPB.progressbar('value', 68);\n",
        "        } else {\n",
        "            $myPB.progressbar({value: 0, max: 98});\n",
        "        }\n",
        "        "
       ],
       "metadata": {},
       "output_type": "display_data",
       "text": [
        "<IPython.core.display.Javascript at 0x1addcdd8>"
       ]
      },
      {
       "javascript": [
        "$('div#563f66a1-86fb-48f1-a3b3-0807d4a7e86b').text('ETA:  0:00:03');"
       ],
       "metadata": {},
       "output_type": "display_data",
       "text": [
        "<IPython.core.display.Javascript at 0x1addcda0>"
       ]
      },
      {
       "javascript": [
        "$('div#39e846c5-7070-4dde-8352-43e293655754').text('69 of 98');"
       ],
       "metadata": {},
       "output_type": "display_data",
       "text": [
        "<IPython.core.display.Javascript at 0x1addcfd0>"
       ]
      },
      {
       "javascript": [
        "$('div#e9c0b881-c3a5-47f8-8929-4362ced6c67f').text(' 70%');"
       ],
       "metadata": {},
       "output_type": "display_data",
       "text": [
        "<IPython.core.display.Javascript at 0x19ca64e0>"
       ]
      },
      {
       "javascript": [
        "\n",
        "        var $myPB = $(\"div#8af15c52-e9cc-425b-8c25-aad0eaa7a5f0\")\n",
        "        if ($myPB.hasClass('ui-progressbar')) {\n",
        "            $myPB.progressbar('value', 69);\n",
        "        } else {\n",
        "            $myPB.progressbar({value: 0, max: 98});\n",
        "        }\n",
        "        "
       ],
       "metadata": {},
       "output_type": "display_data",
       "text": [
        "<IPython.core.display.Javascript at 0x19ca6550>"
       ]
      },
      {
       "javascript": [
        "$('div#563f66a1-86fb-48f1-a3b3-0807d4a7e86b').text('ETA:  0:00:03');"
       ],
       "metadata": {},
       "output_type": "display_data",
       "text": [
        "<IPython.core.display.Javascript at 0x19ca6518>"
       ]
      },
      {
       "javascript": [
        "$('div#39e846c5-7070-4dde-8352-43e293655754').text('70 of 98');"
       ],
       "metadata": {},
       "output_type": "display_data",
       "text": [
        "<IPython.core.display.Javascript at 0x19ca6c18>"
       ]
      },
      {
       "javascript": [
        "$('div#e9c0b881-c3a5-47f8-8929-4362ced6c67f').text(' 71%');"
       ],
       "metadata": {},
       "output_type": "display_data",
       "text": [
        "<IPython.core.display.Javascript at 0x19ca6c50>"
       ]
      },
      {
       "javascript": [
        "\n",
        "        var $myPB = $(\"div#8af15c52-e9cc-425b-8c25-aad0eaa7a5f0\")\n",
        "        if ($myPB.hasClass('ui-progressbar')) {\n",
        "            $myPB.progressbar('value', 70);\n",
        "        } else {\n",
        "            $myPB.progressbar({value: 0, max: 98});\n",
        "        }\n",
        "        "
       ],
       "metadata": {},
       "output_type": "display_data",
       "text": [
        "<IPython.core.display.Javascript at 0x19ca6cc0>"
       ]
      },
      {
       "javascript": [
        "$('div#563f66a1-86fb-48f1-a3b3-0807d4a7e86b').text('ETA:  0:00:03');"
       ],
       "metadata": {},
       "output_type": "display_data",
       "text": [
        "<IPython.core.display.Javascript at 0x19ca6c88>"
       ]
      },
      {
       "javascript": [
        "$('div#39e846c5-7070-4dde-8352-43e293655754').text('71 of 98');"
       ],
       "metadata": {},
       "output_type": "display_data",
       "text": [
        "<IPython.core.display.Javascript at 0x1adfc390>"
       ]
      },
      {
       "javascript": [
        "$('div#e9c0b881-c3a5-47f8-8929-4362ced6c67f').text(' 72%');"
       ],
       "metadata": {},
       "output_type": "display_data",
       "text": [
        "<IPython.core.display.Javascript at 0x1adfc3c8>"
       ]
      },
      {
       "javascript": [
        "\n",
        "        var $myPB = $(\"div#8af15c52-e9cc-425b-8c25-aad0eaa7a5f0\")\n",
        "        if ($myPB.hasClass('ui-progressbar')) {\n",
        "            $myPB.progressbar('value', 71);\n",
        "        } else {\n",
        "            $myPB.progressbar({value: 0, max: 98});\n",
        "        }\n",
        "        "
       ],
       "metadata": {},
       "output_type": "display_data",
       "text": [
        "<IPython.core.display.Javascript at 0x1adfc438>"
       ]
      },
      {
       "javascript": [
        "$('div#563f66a1-86fb-48f1-a3b3-0807d4a7e86b').text('ETA:  0:00:02');"
       ],
       "metadata": {},
       "output_type": "display_data",
       "text": [
        "<IPython.core.display.Javascript at 0x1adfc400>"
       ]
      },
      {
       "javascript": [
        "$('div#39e846c5-7070-4dde-8352-43e293655754').text('72 of 98');"
       ],
       "metadata": {},
       "output_type": "display_data",
       "text": [
        "<IPython.core.display.Javascript at 0x1adfca90>"
       ]
      },
      {
       "javascript": [
        "$('div#e9c0b881-c3a5-47f8-8929-4362ced6c67f').text(' 73%');"
       ],
       "metadata": {},
       "output_type": "display_data",
       "text": [
        "<IPython.core.display.Javascript at 0x1adfcac8>"
       ]
      },
      {
       "javascript": [
        "\n",
        "        var $myPB = $(\"div#8af15c52-e9cc-425b-8c25-aad0eaa7a5f0\")\n",
        "        if ($myPB.hasClass('ui-progressbar')) {\n",
        "            $myPB.progressbar('value', 72);\n",
        "        } else {\n",
        "            $myPB.progressbar({value: 0, max: 98});\n",
        "        }\n",
        "        "
       ],
       "metadata": {},
       "output_type": "display_data",
       "text": [
        "<IPython.core.display.Javascript at 0x1adfcb38>"
       ]
      },
      {
       "javascript": [
        "$('div#563f66a1-86fb-48f1-a3b3-0807d4a7e86b').text('ETA:  0:00:02');"
       ],
       "metadata": {},
       "output_type": "display_data",
       "text": [
        "<IPython.core.display.Javascript at 0x1adfcb00>"
       ]
      },
      {
       "javascript": [
        "$('div#39e846c5-7070-4dde-8352-43e293655754').text('73 of 98');"
       ],
       "metadata": {},
       "output_type": "display_data",
       "text": [
        "<IPython.core.display.Javascript at 0x1aac4240>"
       ]
      },
      {
       "javascript": [
        "$('div#e9c0b881-c3a5-47f8-8929-4362ced6c67f').text(' 74%');"
       ],
       "metadata": {},
       "output_type": "display_data",
       "text": [
        "<IPython.core.display.Javascript at 0x1aac4278>"
       ]
      },
      {
       "javascript": [
        "\n",
        "        var $myPB = $(\"div#8af15c52-e9cc-425b-8c25-aad0eaa7a5f0\")\n",
        "        if ($myPB.hasClass('ui-progressbar')) {\n",
        "            $myPB.progressbar('value', 73);\n",
        "        } else {\n",
        "            $myPB.progressbar({value: 0, max: 98});\n",
        "        }\n",
        "        "
       ],
       "metadata": {},
       "output_type": "display_data",
       "text": [
        "<IPython.core.display.Javascript at 0x1aac42e8>"
       ]
      },
      {
       "javascript": [
        "$('div#563f66a1-86fb-48f1-a3b3-0807d4a7e86b').text('ETA:  0:00:02');"
       ],
       "metadata": {},
       "output_type": "display_data",
       "text": [
        "<IPython.core.display.Javascript at 0x1aac42b0>"
       ]
      },
      {
       "javascript": [
        "$('div#39e846c5-7070-4dde-8352-43e293655754').text('74 of 98');"
       ],
       "metadata": {},
       "output_type": "display_data",
       "text": [
        "<IPython.core.display.Javascript at 0x1aac4cf8>"
       ]
      },
      {
       "javascript": [
        "$('div#e9c0b881-c3a5-47f8-8929-4362ced6c67f').text(' 75%');"
       ],
       "metadata": {},
       "output_type": "display_data",
       "text": [
        "<IPython.core.display.Javascript at 0x1aac4d30>"
       ]
      },
      {
       "javascript": [
        "\n",
        "        var $myPB = $(\"div#8af15c52-e9cc-425b-8c25-aad0eaa7a5f0\")\n",
        "        if ($myPB.hasClass('ui-progressbar')) {\n",
        "            $myPB.progressbar('value', 74);\n",
        "        } else {\n",
        "            $myPB.progressbar({value: 0, max: 98});\n",
        "        }\n",
        "        "
       ],
       "metadata": {},
       "output_type": "display_data",
       "text": [
        "<IPython.core.display.Javascript at 0x1aac4da0>"
       ]
      },
      {
       "javascript": [
        "$('div#563f66a1-86fb-48f1-a3b3-0807d4a7e86b').text('ETA:  0:00:02');"
       ],
       "metadata": {},
       "output_type": "display_data",
       "text": [
        "<IPython.core.display.Javascript at 0x1aac4d68>"
       ]
      },
      {
       "javascript": [
        "$('div#39e846c5-7070-4dde-8352-43e293655754').text('75 of 98');"
       ],
       "metadata": {},
       "output_type": "display_data",
       "text": [
        "<IPython.core.display.Javascript at 0x1aaf5978>"
       ]
      },
      {
       "javascript": [
        "$('div#e9c0b881-c3a5-47f8-8929-4362ced6c67f').text(' 76%');"
       ],
       "metadata": {},
       "output_type": "display_data",
       "text": [
        "<IPython.core.display.Javascript at 0x1aaf59b0>"
       ]
      },
      {
       "javascript": [
        "\n",
        "        var $myPB = $(\"div#8af15c52-e9cc-425b-8c25-aad0eaa7a5f0\")\n",
        "        if ($myPB.hasClass('ui-progressbar')) {\n",
        "            $myPB.progressbar('value', 75);\n",
        "        } else {\n",
        "            $myPB.progressbar({value: 0, max: 98});\n",
        "        }\n",
        "        "
       ],
       "metadata": {},
       "output_type": "display_data",
       "text": [
        "<IPython.core.display.Javascript at 0x1aaf5a20>"
       ]
      },
      {
       "javascript": [
        "$('div#563f66a1-86fb-48f1-a3b3-0807d4a7e86b').text('ETA:  0:00:02');"
       ],
       "metadata": {},
       "output_type": "display_data",
       "text": [
        "<IPython.core.display.Javascript at 0x1aaf59e8>"
       ]
      },
      {
       "javascript": [
        "$('div#39e846c5-7070-4dde-8352-43e293655754').text('76 of 98');"
       ],
       "metadata": {},
       "output_type": "display_data",
       "text": [
        "<IPython.core.display.Javascript at 0x19f8c588>"
       ]
      },
      {
       "javascript": [
        "$('div#e9c0b881-c3a5-47f8-8929-4362ced6c67f').text(' 77%');"
       ],
       "metadata": {},
       "output_type": "display_data",
       "text": [
        "<IPython.core.display.Javascript at 0x19f8c5c0>"
       ]
      },
      {
       "javascript": [
        "\n",
        "        var $myPB = $(\"div#8af15c52-e9cc-425b-8c25-aad0eaa7a5f0\")\n",
        "        if ($myPB.hasClass('ui-progressbar')) {\n",
        "            $myPB.progressbar('value', 76);\n",
        "        } else {\n",
        "            $myPB.progressbar({value: 0, max: 98});\n",
        "        }\n",
        "        "
       ],
       "metadata": {},
       "output_type": "display_data",
       "text": [
        "<IPython.core.display.Javascript at 0x19f8c630>"
       ]
      },
      {
       "javascript": [
        "$('div#563f66a1-86fb-48f1-a3b3-0807d4a7e86b').text('ETA:  0:00:02');"
       ],
       "metadata": {},
       "output_type": "display_data",
       "text": [
        "<IPython.core.display.Javascript at 0x19f8c5f8>"
       ]
      },
      {
       "javascript": [
        "$('div#39e846c5-7070-4dde-8352-43e293655754').text('77 of 98');"
       ],
       "metadata": {},
       "output_type": "display_data",
       "text": [
        "<IPython.core.display.Javascript at 0x1ab97208>"
       ]
      },
      {
       "javascript": [
        "$('div#e9c0b881-c3a5-47f8-8929-4362ced6c67f').text(' 78%');"
       ],
       "metadata": {},
       "output_type": "display_data",
       "text": [
        "<IPython.core.display.Javascript at 0x1ab97240>"
       ]
      },
      {
       "javascript": [
        "\n",
        "        var $myPB = $(\"div#8af15c52-e9cc-425b-8c25-aad0eaa7a5f0\")\n",
        "        if ($myPB.hasClass('ui-progressbar')) {\n",
        "            $myPB.progressbar('value', 77);\n",
        "        } else {\n",
        "            $myPB.progressbar({value: 0, max: 98});\n",
        "        }\n",
        "        "
       ],
       "metadata": {},
       "output_type": "display_data",
       "text": [
        "<IPython.core.display.Javascript at 0x1ab972b0>"
       ]
      },
      {
       "javascript": [
        "$('div#563f66a1-86fb-48f1-a3b3-0807d4a7e86b').text('ETA:  0:00:02');"
       ],
       "metadata": {},
       "output_type": "display_data",
       "text": [
        "<IPython.core.display.Javascript at 0x1ab97278>"
       ]
      },
      {
       "javascript": [
        "$('div#39e846c5-7070-4dde-8352-43e293655754').text('78 of 98');"
       ],
       "metadata": {},
       "output_type": "display_data",
       "text": [
        "<IPython.core.display.Javascript at 0x1ab97ac8>"
       ]
      },
      {
       "javascript": [
        "$('div#e9c0b881-c3a5-47f8-8929-4362ced6c67f').text(' 79%');"
       ],
       "metadata": {},
       "output_type": "display_data",
       "text": [
        "<IPython.core.display.Javascript at 0x1ab97b00>"
       ]
      },
      {
       "javascript": [
        "\n",
        "        var $myPB = $(\"div#8af15c52-e9cc-425b-8c25-aad0eaa7a5f0\")\n",
        "        if ($myPB.hasClass('ui-progressbar')) {\n",
        "            $myPB.progressbar('value', 78);\n",
        "        } else {\n",
        "            $myPB.progressbar({value: 0, max: 98});\n",
        "        }\n",
        "        "
       ],
       "metadata": {},
       "output_type": "display_data",
       "text": [
        "<IPython.core.display.Javascript at 0x1ab97b70>"
       ]
      },
      {
       "javascript": [
        "$('div#563f66a1-86fb-48f1-a3b3-0807d4a7e86b').text('ETA:  0:00:02');"
       ],
       "metadata": {},
       "output_type": "display_data",
       "text": [
        "<IPython.core.display.Javascript at 0x1ab97b38>"
       ]
      },
      {
       "javascript": [
        "$('div#39e846c5-7070-4dde-8352-43e293655754').text('79 of 98');"
       ],
       "metadata": {},
       "output_type": "display_data",
       "text": [
        "<IPython.core.display.Javascript at 0x1abc9438>"
       ]
      },
      {
       "javascript": [
        "$('div#e9c0b881-c3a5-47f8-8929-4362ced6c67f').text(' 80%');"
       ],
       "metadata": {},
       "output_type": "display_data",
       "text": [
        "<IPython.core.display.Javascript at 0x1abc9470>"
       ]
      },
      {
       "javascript": [
        "\n",
        "        var $myPB = $(\"div#8af15c52-e9cc-425b-8c25-aad0eaa7a5f0\")\n",
        "        if ($myPB.hasClass('ui-progressbar')) {\n",
        "            $myPB.progressbar('value', 79);\n",
        "        } else {\n",
        "            $myPB.progressbar({value: 0, max: 98});\n",
        "        }\n",
        "        "
       ],
       "metadata": {},
       "output_type": "display_data",
       "text": [
        "<IPython.core.display.Javascript at 0x1abc94e0>"
       ]
      },
      {
       "javascript": [
        "$('div#563f66a1-86fb-48f1-a3b3-0807d4a7e86b').text('ETA:  0:00:01');"
       ],
       "metadata": {},
       "output_type": "display_data",
       "text": [
        "<IPython.core.display.Javascript at 0x1abc94a8>"
       ]
      },
      {
       "javascript": [
        "$('div#39e846c5-7070-4dde-8352-43e293655754').text('80 of 98');"
       ],
       "metadata": {},
       "output_type": "display_data",
       "text": [
        "<IPython.core.display.Javascript at 0x1abc9e10>"
       ]
      },
      {
       "javascript": [
        "$('div#e9c0b881-c3a5-47f8-8929-4362ced6c67f').text(' 81%');"
       ],
       "metadata": {},
       "output_type": "display_data",
       "text": [
        "<IPython.core.display.Javascript at 0x1abc9e48>"
       ]
      },
      {
       "javascript": [
        "\n",
        "        var $myPB = $(\"div#8af15c52-e9cc-425b-8c25-aad0eaa7a5f0\")\n",
        "        if ($myPB.hasClass('ui-progressbar')) {\n",
        "            $myPB.progressbar('value', 80);\n",
        "        } else {\n",
        "            $myPB.progressbar({value: 0, max: 98});\n",
        "        }\n",
        "        "
       ],
       "metadata": {},
       "output_type": "display_data",
       "text": [
        "<IPython.core.display.Javascript at 0x1abc9eb8>"
       ]
      },
      {
       "javascript": [
        "$('div#563f66a1-86fb-48f1-a3b3-0807d4a7e86b').text('ETA:  0:00:01');"
       ],
       "metadata": {},
       "output_type": "display_data",
       "text": [
        "<IPython.core.display.Javascript at 0x1abc9e80>"
       ]
      },
      {
       "javascript": [
        "$('div#39e846c5-7070-4dde-8352-43e293655754').text('81 of 98');"
       ],
       "metadata": {},
       "output_type": "display_data",
       "text": [
        "<IPython.core.display.Javascript at 0x19a577b8>"
       ]
      },
      {
       "javascript": [
        "$('div#e9c0b881-c3a5-47f8-8929-4362ced6c67f').text(' 82%');"
       ],
       "metadata": {},
       "output_type": "display_data",
       "text": [
        "<IPython.core.display.Javascript at 0x19a577f0>"
       ]
      },
      {
       "javascript": [
        "\n",
        "        var $myPB = $(\"div#8af15c52-e9cc-425b-8c25-aad0eaa7a5f0\")\n",
        "        if ($myPB.hasClass('ui-progressbar')) {\n",
        "            $myPB.progressbar('value', 81);\n",
        "        } else {\n",
        "            $myPB.progressbar({value: 0, max: 98});\n",
        "        }\n",
        "        "
       ],
       "metadata": {},
       "output_type": "display_data",
       "text": [
        "<IPython.core.display.Javascript at 0x19a57860>"
       ]
      },
      {
       "javascript": [
        "$('div#563f66a1-86fb-48f1-a3b3-0807d4a7e86b').text('ETA:  0:00:01');"
       ],
       "metadata": {},
       "output_type": "display_data",
       "text": [
        "<IPython.core.display.Javascript at 0x19a57828>"
       ]
      },
      {
       "javascript": [
        "$('div#39e846c5-7070-4dde-8352-43e293655754').text('82 of 98');"
       ],
       "metadata": {},
       "output_type": "display_data",
       "text": [
        "<IPython.core.display.Javascript at 0x19a7f2e8>"
       ]
      },
      {
       "javascript": [
        "$('div#e9c0b881-c3a5-47f8-8929-4362ced6c67f').text(' 83%');"
       ],
       "metadata": {},
       "output_type": "display_data",
       "text": [
        "<IPython.core.display.Javascript at 0x19a7f320>"
       ]
      },
      {
       "javascript": [
        "\n",
        "        var $myPB = $(\"div#8af15c52-e9cc-425b-8c25-aad0eaa7a5f0\")\n",
        "        if ($myPB.hasClass('ui-progressbar')) {\n",
        "            $myPB.progressbar('value', 82);\n",
        "        } else {\n",
        "            $myPB.progressbar({value: 0, max: 98});\n",
        "        }\n",
        "        "
       ],
       "metadata": {},
       "output_type": "display_data",
       "text": [
        "<IPython.core.display.Javascript at 0x19a7f390>"
       ]
      },
      {
       "javascript": [
        "$('div#563f66a1-86fb-48f1-a3b3-0807d4a7e86b').text('ETA:  0:00:01');"
       ],
       "metadata": {},
       "output_type": "display_data",
       "text": [
        "<IPython.core.display.Javascript at 0x19a7f358>"
       ]
      },
      {
       "javascript": [
        "$('div#39e846c5-7070-4dde-8352-43e293655754').text('83 of 98');"
       ],
       "metadata": {},
       "output_type": "display_data",
       "text": [
        "<IPython.core.display.Javascript at 0x19a7fd68>"
       ]
      },
      {
       "javascript": [
        "$('div#e9c0b881-c3a5-47f8-8929-4362ced6c67f').text(' 84%');"
       ],
       "metadata": {},
       "output_type": "display_data",
       "text": [
        "<IPython.core.display.Javascript at 0x19a7fda0>"
       ]
      },
      {
       "javascript": [
        "\n",
        "        var $myPB = $(\"div#8af15c52-e9cc-425b-8c25-aad0eaa7a5f0\")\n",
        "        if ($myPB.hasClass('ui-progressbar')) {\n",
        "            $myPB.progressbar('value', 83);\n",
        "        } else {\n",
        "            $myPB.progressbar({value: 0, max: 98});\n",
        "        }\n",
        "        "
       ],
       "metadata": {},
       "output_type": "display_data",
       "text": [
        "<IPython.core.display.Javascript at 0x19a7fe10>"
       ]
      },
      {
       "javascript": [
        "$('div#563f66a1-86fb-48f1-a3b3-0807d4a7e86b').text('ETA:  0:00:01');"
       ],
       "metadata": {},
       "output_type": "display_data",
       "text": [
        "<IPython.core.display.Javascript at 0x19a7fdd8>"
       ]
      },
      {
       "javascript": [
        "$('div#39e846c5-7070-4dde-8352-43e293655754').text('84 of 98');"
       ],
       "metadata": {},
       "output_type": "display_data",
       "text": [
        "<IPython.core.display.Javascript at 0x19aa67b8>"
       ]
      },
      {
       "javascript": [
        "$('div#e9c0b881-c3a5-47f8-8929-4362ced6c67f').text(' 85%');"
       ],
       "metadata": {},
       "output_type": "display_data",
       "text": [
        "<IPython.core.display.Javascript at 0x19aa67f0>"
       ]
      },
      {
       "javascript": [
        "\n",
        "        var $myPB = $(\"div#8af15c52-e9cc-425b-8c25-aad0eaa7a5f0\")\n",
        "        if ($myPB.hasClass('ui-progressbar')) {\n",
        "            $myPB.progressbar('value', 84);\n",
        "        } else {\n",
        "            $myPB.progressbar({value: 0, max: 98});\n",
        "        }\n",
        "        "
       ],
       "metadata": {},
       "output_type": "display_data",
       "text": [
        "<IPython.core.display.Javascript at 0x19aa6860>"
       ]
      },
      {
       "javascript": [
        "$('div#563f66a1-86fb-48f1-a3b3-0807d4a7e86b').text('ETA:  0:00:01');"
       ],
       "metadata": {},
       "output_type": "display_data",
       "text": [
        "<IPython.core.display.Javascript at 0x19aa6828>"
       ]
      },
      {
       "javascript": [
        "$('div#39e846c5-7070-4dde-8352-43e293655754').text('85 of 98');"
       ],
       "metadata": {},
       "output_type": "display_data",
       "text": [
        "<IPython.core.display.Javascript at 0x1a890320>"
       ]
      },
      {
       "javascript": [
        "$('div#e9c0b881-c3a5-47f8-8929-4362ced6c67f').text(' 86%');"
       ],
       "metadata": {},
       "output_type": "display_data",
       "text": [
        "<IPython.core.display.Javascript at 0x1a890358>"
       ]
      },
      {
       "javascript": [
        "\n",
        "        var $myPB = $(\"div#8af15c52-e9cc-425b-8c25-aad0eaa7a5f0\")\n",
        "        if ($myPB.hasClass('ui-progressbar')) {\n",
        "            $myPB.progressbar('value', 85);\n",
        "        } else {\n",
        "            $myPB.progressbar({value: 0, max: 98});\n",
        "        }\n",
        "        "
       ],
       "metadata": {},
       "output_type": "display_data",
       "text": [
        "<IPython.core.display.Javascript at 0x1a8903c8>"
       ]
      },
      {
       "javascript": [
        "$('div#563f66a1-86fb-48f1-a3b3-0807d4a7e86b').text('ETA:  0:00:01');"
       ],
       "metadata": {},
       "output_type": "display_data",
       "text": [
        "<IPython.core.display.Javascript at 0x1a890390>"
       ]
      },
      {
       "javascript": [
        "$('div#39e846c5-7070-4dde-8352-43e293655754').text('86 of 98');"
       ],
       "metadata": {},
       "output_type": "display_data",
       "text": [
        "<IPython.core.display.Javascript at 0x1a8b2048>"
       ]
      },
      {
       "javascript": [
        "$('div#e9c0b881-c3a5-47f8-8929-4362ced6c67f').text(' 87%');"
       ],
       "metadata": {},
       "output_type": "display_data",
       "text": [
        "<IPython.core.display.Javascript at 0x1a8b2080>"
       ]
      },
      {
       "javascript": [
        "\n",
        "        var $myPB = $(\"div#8af15c52-e9cc-425b-8c25-aad0eaa7a5f0\")\n",
        "        if ($myPB.hasClass('ui-progressbar')) {\n",
        "            $myPB.progressbar('value', 86);\n",
        "        } else {\n",
        "            $myPB.progressbar({value: 0, max: 98});\n",
        "        }\n",
        "        "
       ],
       "metadata": {},
       "output_type": "display_data",
       "text": [
        "<IPython.core.display.Javascript at 0x1a8b20f0>"
       ]
      },
      {
       "javascript": [
        "$('div#563f66a1-86fb-48f1-a3b3-0807d4a7e86b').text('ETA:  0:00:01');"
       ],
       "metadata": {},
       "output_type": "display_data",
       "text": [
        "<IPython.core.display.Javascript at 0x1a8b20b8>"
       ]
      },
      {
       "javascript": [
        "$('div#39e846c5-7070-4dde-8352-43e293655754').text('87 of 98');"
       ],
       "metadata": {},
       "output_type": "display_data",
       "text": [
        "<IPython.core.display.Javascript at 0x1a8bee10>"
       ]
      },
      {
       "javascript": [
        "$('div#e9c0b881-c3a5-47f8-8929-4362ced6c67f').text(' 88%');"
       ],
       "metadata": {},
       "output_type": "display_data",
       "text": [
        "<IPython.core.display.Javascript at 0x1a8bee48>"
       ]
      },
      {
       "javascript": [
        "\n",
        "        var $myPB = $(\"div#8af15c52-e9cc-425b-8c25-aad0eaa7a5f0\")\n",
        "        if ($myPB.hasClass('ui-progressbar')) {\n",
        "            $myPB.progressbar('value', 87);\n",
        "        } else {\n",
        "            $myPB.progressbar({value: 0, max: 98});\n",
        "        }\n",
        "        "
       ],
       "metadata": {},
       "output_type": "display_data",
       "text": [
        "<IPython.core.display.Javascript at 0x1a8beeb8>"
       ]
      },
      {
       "javascript": [
        "$('div#563f66a1-86fb-48f1-a3b3-0807d4a7e86b').text('ETA:  0:00:01');"
       ],
       "metadata": {},
       "output_type": "display_data",
       "text": [
        "<IPython.core.display.Javascript at 0x1a8bee80>"
       ]
      },
      {
       "javascript": [
        "$('div#39e846c5-7070-4dde-8352-43e293655754').text('88 of 98');"
       ],
       "metadata": {},
       "output_type": "display_data",
       "text": [
        "<IPython.core.display.Javascript at 0x19db3c50>"
       ]
      },
      {
       "javascript": [
        "$('div#e9c0b881-c3a5-47f8-8929-4362ced6c67f').text(' 89%');"
       ],
       "metadata": {},
       "output_type": "display_data",
       "text": [
        "<IPython.core.display.Javascript at 0x19db3c88>"
       ]
      },
      {
       "javascript": [
        "\n",
        "        var $myPB = $(\"div#8af15c52-e9cc-425b-8c25-aad0eaa7a5f0\")\n",
        "        if ($myPB.hasClass('ui-progressbar')) {\n",
        "            $myPB.progressbar('value', 88);\n",
        "        } else {\n",
        "            $myPB.progressbar({value: 0, max: 98});\n",
        "        }\n",
        "        "
       ],
       "metadata": {},
       "output_type": "display_data",
       "text": [
        "<IPython.core.display.Javascript at 0x19db3cf8>"
       ]
      },
      {
       "javascript": [
        "$('div#563f66a1-86fb-48f1-a3b3-0807d4a7e86b').text('ETA:  0:00:00');"
       ],
       "metadata": {},
       "output_type": "display_data",
       "text": [
        "<IPython.core.display.Javascript at 0x19db3cc0>"
       ]
      },
      {
       "javascript": [
        "$('div#39e846c5-7070-4dde-8352-43e293655754').text('89 of 98');"
       ],
       "metadata": {},
       "output_type": "display_data",
       "text": [
        "<IPython.core.display.Javascript at 0x19e15a90>"
       ]
      },
      {
       "javascript": [
        "$('div#e9c0b881-c3a5-47f8-8929-4362ced6c67f').text(' 90%');"
       ],
       "metadata": {},
       "output_type": "display_data",
       "text": [
        "<IPython.core.display.Javascript at 0x19e15ac8>"
       ]
      },
      {
       "javascript": [
        "\n",
        "        var $myPB = $(\"div#8af15c52-e9cc-425b-8c25-aad0eaa7a5f0\")\n",
        "        if ($myPB.hasClass('ui-progressbar')) {\n",
        "            $myPB.progressbar('value', 89);\n",
        "        } else {\n",
        "            $myPB.progressbar({value: 0, max: 98});\n",
        "        }\n",
        "        "
       ],
       "metadata": {},
       "output_type": "display_data",
       "text": [
        "<IPython.core.display.Javascript at 0x19e15b38>"
       ]
      },
      {
       "javascript": [
        "$('div#563f66a1-86fb-48f1-a3b3-0807d4a7e86b').text('ETA:  0:00:00');"
       ],
       "metadata": {},
       "output_type": "display_data",
       "text": [
        "<IPython.core.display.Javascript at 0x19e15b00>"
       ]
      },
      {
       "javascript": [
        "$('div#39e846c5-7070-4dde-8352-43e293655754').text('90 of 98');"
       ],
       "metadata": {},
       "output_type": "display_data",
       "text": [
        "<IPython.core.display.Javascript at 0x1a07d8d0>"
       ]
      },
      {
       "javascript": [
        "$('div#e9c0b881-c3a5-47f8-8929-4362ced6c67f').text(' 91%');"
       ],
       "metadata": {},
       "output_type": "display_data",
       "text": [
        "<IPython.core.display.Javascript at 0x1a07d908>"
       ]
      },
      {
       "javascript": [
        "\n",
        "        var $myPB = $(\"div#8af15c52-e9cc-425b-8c25-aad0eaa7a5f0\")\n",
        "        if ($myPB.hasClass('ui-progressbar')) {\n",
        "            $myPB.progressbar('value', 90);\n",
        "        } else {\n",
        "            $myPB.progressbar({value: 0, max: 98});\n",
        "        }\n",
        "        "
       ],
       "metadata": {},
       "output_type": "display_data",
       "text": [
        "<IPython.core.display.Javascript at 0x1a07d978>"
       ]
      },
      {
       "javascript": [
        "$('div#563f66a1-86fb-48f1-a3b3-0807d4a7e86b').text('ETA:  0:00:00');"
       ],
       "metadata": {},
       "output_type": "display_data",
       "text": [
        "<IPython.core.display.Javascript at 0x1a07d940>"
       ]
      },
      {
       "javascript": [
        "$('div#39e846c5-7070-4dde-8352-43e293655754').text('91 of 98');"
       ],
       "metadata": {},
       "output_type": "display_data",
       "text": [
        "<IPython.core.display.Javascript at 0x198c26a0>"
       ]
      },
      {
       "javascript": [
        "$('div#e9c0b881-c3a5-47f8-8929-4362ced6c67f').text(' 92%');"
       ],
       "metadata": {},
       "output_type": "display_data",
       "text": [
        "<IPython.core.display.Javascript at 0x198c26d8>"
       ]
      },
      {
       "javascript": [
        "\n",
        "        var $myPB = $(\"div#8af15c52-e9cc-425b-8c25-aad0eaa7a5f0\")\n",
        "        if ($myPB.hasClass('ui-progressbar')) {\n",
        "            $myPB.progressbar('value', 91);\n",
        "        } else {\n",
        "            $myPB.progressbar({value: 0, max: 98});\n",
        "        }\n",
        "        "
       ],
       "metadata": {},
       "output_type": "display_data",
       "text": [
        "<IPython.core.display.Javascript at 0x198c2748>"
       ]
      },
      {
       "javascript": [
        "$('div#563f66a1-86fb-48f1-a3b3-0807d4a7e86b').text('ETA:  0:00:00');"
       ],
       "metadata": {},
       "output_type": "display_data",
       "text": [
        "<IPython.core.display.Javascript at 0x198c2710>"
       ]
      },
      {
       "javascript": [
        "$('div#39e846c5-7070-4dde-8352-43e293655754').text('92 of 98');"
       ],
       "metadata": {},
       "output_type": "display_data",
       "text": [
        "<IPython.core.display.Javascript at 0x198c2a20>"
       ]
      },
      {
       "javascript": [
        "$('div#e9c0b881-c3a5-47f8-8929-4362ced6c67f').text(' 93%');"
       ],
       "metadata": {},
       "output_type": "display_data",
       "text": [
        "<IPython.core.display.Javascript at 0x198c2a58>"
       ]
      },
      {
       "javascript": [
        "\n",
        "        var $myPB = $(\"div#8af15c52-e9cc-425b-8c25-aad0eaa7a5f0\")\n",
        "        if ($myPB.hasClass('ui-progressbar')) {\n",
        "            $myPB.progressbar('value', 92);\n",
        "        } else {\n",
        "            $myPB.progressbar({value: 0, max: 98});\n",
        "        }\n",
        "        "
       ],
       "metadata": {},
       "output_type": "display_data",
       "text": [
        "<IPython.core.display.Javascript at 0x198c2ac8>"
       ]
      },
      {
       "javascript": [
        "$('div#563f66a1-86fb-48f1-a3b3-0807d4a7e86b').text('ETA:  0:00:00');"
       ],
       "metadata": {},
       "output_type": "display_data",
       "text": [
        "<IPython.core.display.Javascript at 0x198c2ac8>"
       ]
      },
      {
       "javascript": [
        "$('div#39e846c5-7070-4dde-8352-43e293655754').text('93 of 98');"
       ],
       "metadata": {},
       "output_type": "display_data",
       "text": [
        "<IPython.core.display.Javascript at 0x198c2b38>"
       ]
      },
      {
       "javascript": [
        "$('div#e9c0b881-c3a5-47f8-8929-4362ced6c67f').text(' 94%');"
       ],
       "metadata": {},
       "output_type": "display_data",
       "text": [
        "<IPython.core.display.Javascript at 0x198c2a58>"
       ]
      },
      {
       "javascript": [
        "\n",
        "        var $myPB = $(\"div#8af15c52-e9cc-425b-8c25-aad0eaa7a5f0\")\n",
        "        if ($myPB.hasClass('ui-progressbar')) {\n",
        "            $myPB.progressbar('value', 93);\n",
        "        } else {\n",
        "            $myPB.progressbar({value: 0, max: 98});\n",
        "        }\n",
        "        "
       ],
       "metadata": {},
       "output_type": "display_data",
       "text": [
        "<IPython.core.display.Javascript at 0x198c2b00>"
       ]
      },
      {
       "javascript": [
        "$('div#563f66a1-86fb-48f1-a3b3-0807d4a7e86b').text('ETA:  0:00:00');"
       ],
       "metadata": {},
       "output_type": "display_data",
       "text": [
        "<IPython.core.display.Javascript at 0x198c2b00>"
       ]
      },
      {
       "javascript": [
        "$('div#39e846c5-7070-4dde-8352-43e293655754').text('94 of 98');"
       ],
       "metadata": {},
       "output_type": "display_data",
       "text": [
        "<IPython.core.display.Javascript at 0x198c2c88>"
       ]
      },
      {
       "javascript": [
        "$('div#e9c0b881-c3a5-47f8-8929-4362ced6c67f').text(' 95%');"
       ],
       "metadata": {},
       "output_type": "display_data",
       "text": [
        "<IPython.core.display.Javascript at 0x198c2be0>"
       ]
      },
      {
       "javascript": [
        "\n",
        "        var $myPB = $(\"div#8af15c52-e9cc-425b-8c25-aad0eaa7a5f0\")\n",
        "        if ($myPB.hasClass('ui-progressbar')) {\n",
        "            $myPB.progressbar('value', 94);\n",
        "        } else {\n",
        "            $myPB.progressbar({value: 0, max: 98});\n",
        "        }\n",
        "        "
       ],
       "metadata": {},
       "output_type": "display_data",
       "text": [
        "<IPython.core.display.Javascript at 0x198c2c50>"
       ]
      },
      {
       "javascript": [
        "$('div#563f66a1-86fb-48f1-a3b3-0807d4a7e86b').text('ETA:  0:00:00');"
       ],
       "metadata": {},
       "output_type": "display_data",
       "text": [
        "<IPython.core.display.Javascript at 0x198c2c18>"
       ]
      },
      {
       "javascript": [
        "$('div#39e846c5-7070-4dde-8352-43e293655754').text('95 of 98');"
       ],
       "metadata": {},
       "output_type": "display_data",
       "text": [
        "<IPython.core.display.Javascript at 0x198c2d68>"
       ]
      },
      {
       "javascript": [
        "$('div#e9c0b881-c3a5-47f8-8929-4362ced6c67f').text(' 96%');"
       ],
       "metadata": {},
       "output_type": "display_data",
       "text": [
        "<IPython.core.display.Javascript at 0x198c2da0>"
       ]
      },
      {
       "javascript": [
        "\n",
        "        var $myPB = $(\"div#8af15c52-e9cc-425b-8c25-aad0eaa7a5f0\")\n",
        "        if ($myPB.hasClass('ui-progressbar')) {\n",
        "            $myPB.progressbar('value', 95);\n",
        "        } else {\n",
        "            $myPB.progressbar({value: 0, max: 98});\n",
        "        }\n",
        "        "
       ],
       "metadata": {},
       "output_type": "display_data",
       "text": [
        "<IPython.core.display.Javascript at 0x198c2da0>"
       ]
      },
      {
       "javascript": [
        "$('div#563f66a1-86fb-48f1-a3b3-0807d4a7e86b').text('ETA:  0:00:00');"
       ],
       "metadata": {},
       "output_type": "display_data",
       "text": [
        "<IPython.core.display.Javascript at 0x198c2e10>"
       ]
      },
      {
       "javascript": [
        "$('div#39e846c5-7070-4dde-8352-43e293655754').text('96 of 98');"
       ],
       "metadata": {},
       "output_type": "display_data",
       "text": [
        "<IPython.core.display.Javascript at 0x1b055c50>"
       ]
      },
      {
       "javascript": [
        "$('div#e9c0b881-c3a5-47f8-8929-4362ced6c67f').text(' 97%');"
       ],
       "metadata": {},
       "output_type": "display_data",
       "text": [
        "<IPython.core.display.Javascript at 0x1b055c88>"
       ]
      },
      {
       "javascript": [
        "\n",
        "        var $myPB = $(\"div#8af15c52-e9cc-425b-8c25-aad0eaa7a5f0\")\n",
        "        if ($myPB.hasClass('ui-progressbar')) {\n",
        "            $myPB.progressbar('value', 96);\n",
        "        } else {\n",
        "            $myPB.progressbar({value: 0, max: 98});\n",
        "        }\n",
        "        "
       ],
       "metadata": {},
       "output_type": "display_data",
       "text": [
        "<IPython.core.display.Javascript at 0x1b055cf8>"
       ]
      },
      {
       "javascript": [
        "$('div#563f66a1-86fb-48f1-a3b3-0807d4a7e86b').text('ETA:  0:00:00');"
       ],
       "metadata": {},
       "output_type": "display_data",
       "text": [
        "<IPython.core.display.Javascript at 0x1b055cc0>"
       ]
      },
      {
       "javascript": [
        "$('div#39e846c5-7070-4dde-8352-43e293655754').text('97 of 98');"
       ],
       "metadata": {},
       "output_type": "display_data",
       "text": [
        "<IPython.core.display.Javascript at 0x198ed2e8>"
       ]
      },
      {
       "javascript": [
        "$('div#e9c0b881-c3a5-47f8-8929-4362ced6c67f').text(' 98%');"
       ],
       "metadata": {},
       "output_type": "display_data",
       "text": [
        "<IPython.core.display.Javascript at 0x198ed320>"
       ]
      },
      {
       "javascript": [
        "\n",
        "        var $myPB = $(\"div#8af15c52-e9cc-425b-8c25-aad0eaa7a5f0\")\n",
        "        if ($myPB.hasClass('ui-progressbar')) {\n",
        "            $myPB.progressbar('value', 97);\n",
        "        } else {\n",
        "            $myPB.progressbar({value: 0, max: 98});\n",
        "        }\n",
        "        "
       ],
       "metadata": {},
       "output_type": "display_data",
       "text": [
        "<IPython.core.display.Javascript at 0x198ed390>"
       ]
      },
      {
       "javascript": [
        "$('div#563f66a1-86fb-48f1-a3b3-0807d4a7e86b').text('ETA:  0:00:00');"
       ],
       "metadata": {},
       "output_type": "display_data",
       "text": [
        "<IPython.core.display.Javascript at 0x198ed358>"
       ]
      },
      {
       "javascript": [
        "$('div#39e846c5-7070-4dde-8352-43e293655754').text('98 of 98');"
       ],
       "metadata": {},
       "output_type": "display_data",
       "text": [
        "<IPython.core.display.Javascript at 0x198ede48>"
       ]
      },
      {
       "javascript": [
        "$('div#e9c0b881-c3a5-47f8-8929-4362ced6c67f').text('100%');"
       ],
       "metadata": {},
       "output_type": "display_data",
       "text": [
        "<IPython.core.display.Javascript at 0x198ede80>"
       ]
      },
      {
       "javascript": [
        "\n",
        "        var $myPB = $(\"div#8af15c52-e9cc-425b-8c25-aad0eaa7a5f0\")\n",
        "        if ($myPB.hasClass('ui-progressbar')) {\n",
        "            $myPB.progressbar('value', 98);\n",
        "        } else {\n",
        "            $myPB.progressbar({value: 0, max: 98});\n",
        "        }\n",
        "        "
       ],
       "metadata": {},
       "output_type": "display_data",
       "text": [
        "<IPython.core.display.Javascript at 0x198edef0>"
       ]
      },
      {
       "javascript": [
        "$('div#563f66a1-86fb-48f1-a3b3-0807d4a7e86b').text('ETA:  0:00:00');"
       ],
       "metadata": {},
       "output_type": "display_data",
       "text": [
        "<IPython.core.display.Javascript at 0x198edeb8>"
       ]
      },
      {
       "javascript": [
        "$('div#39e846c5-7070-4dde-8352-43e293655754').text('98 of 98');"
       ],
       "metadata": {},
       "output_type": "display_data",
       "text": [
        "<IPython.core.display.Javascript at 0x16c61f28>"
       ]
      },
      {
       "javascript": [
        "$('div#e9c0b881-c3a5-47f8-8929-4362ced6c67f').text('100%');"
       ],
       "metadata": {},
       "output_type": "display_data",
       "text": [
        "<IPython.core.display.Javascript at 0x198edeb8>"
       ]
      },
      {
       "javascript": [
        "\n",
        "        var $myPB = $(\"div#8af15c52-e9cc-425b-8c25-aad0eaa7a5f0\")\n",
        "        if ($myPB.hasClass('ui-progressbar')) {\n",
        "            $myPB.progressbar('value', 98);\n",
        "        } else {\n",
        "            $myPB.progressbar({value: 0, max: 98});\n",
        "        }\n",
        "        "
       ],
       "metadata": {},
       "output_type": "display_data",
       "text": [
        "<IPython.core.display.Javascript at 0x198edf98>"
       ]
      },
      {
       "javascript": [
        "$('div#563f66a1-86fb-48f1-a3b3-0807d4a7e86b').text('Time: 0:00:08');"
       ],
       "metadata": {},
       "output_type": "display_data",
       "text": [
        "<IPython.core.display.Javascript at 0x198edf60>"
       ]
      },
      {
       "javascript": [
        "var element = document.getElementById('29383ec0-8d2c-4975-a894-7de20d13539b');\n",
        "                    var parent = element.parentNode\n",
        "                    parent.removeChild(element);\n",
        "                    parent.parentElement.remove();"
       ],
       "metadata": {},
       "output_type": "display_data",
       "text": [
        "<IPython.core.display.Javascript at 0x18a96e80>"
       ]
      },
      {
       "javascript": [
        "this.cleanProgressBar(['29383ec0-8d2c-4975-a894-7de20d13539b', '39e846c5-7070-4dde-8352-43e293655754', 'e9c0b881-c3a5-47f8-8929-4362ced6c67f', '8af15c52-e9cc-425b-8c25-aad0eaa7a5f0', '563f66a1-86fb-48f1-a3b3-0807d4a7e86b'])"
       ],
       "metadata": {},
       "output_type": "display_data",
       "text": [
        "<IPython.core.display.Javascript at 0x16c61f28>"
       ]
      }
     ],
     "prompt_number": 2
    },
    {
     "cell_type": "code",
     "collapsed": false,
     "input": [
      "sentences = [s for doc in docs for para in docs[doc]['content'] for s in para]\n",
      "sentences[:10]"
     ],
     "language": "python",
     "metadata": {},
     "outputs": [
      {
       "metadata": {},
       "output_type": "pyout",
       "prompt_number": 3,
       "text": [
        "['Sixty-first session',\n",
        " 'Items 46, 110, 114, 115, 120, 121,130, 145 and 148 of the provisional agenda*',\n",
        " 'Integrated and coordinated implementation of and follow-up to the outcomes of the major United Nations conferences and summits in the economic, social and related fields',\n",
        " 'Follow-up to the outcome of the Millennium Summit',\n",
        " 'Review of the efficiency of the administrative and financial functioning of the United Nations',\n",
        " 'Programme budget for the biennium 2006-2007',\n",
        " 'Scale of assessments for the apportionment of the expenses of the United Nations',\n",
        " 'Human resources management',\n",
        " 'Administrative and budgetary aspects of the financing of the United Nations peacekeeping operations',\n",
        " 'Financing of the United Nations Mission for the Referendum in Western Sahara']"
       ]
      }
     ],
     "prompt_number": 3
    },
    {
     "cell_type": "code",
     "collapsed": false,
     "input": [
      "mun.print_sentence_statistics(sentences)"
     ],
     "language": "python",
     "metadata": {},
     "outputs": [
      {
       "output_type": "stream",
       "stream": "stdout",
       "text": [
        "Info type                        Value            \n",
        "----------------------------------------\n",
        "number of sentences              161907          \n",
        "average sentence length(words)   "
       ]
      },
      {
       "output_type": "stream",
       "stream": "stdout",
       "text": [
        "24.33           \n",
        "average sentence length(letters) 159.59          \n",
        "longest sentence (words)         "
       ]
      },
      {
       "output_type": "stream",
       "stream": "stdout",
       "text": [
        "1582            \n",
        "longest sentence (letters)       10308           \n"
       ]
      }
     ],
     "prompt_number": 4
    },
    {
     "cell_type": "code",
     "collapsed": false,
     "input": [
      "sentences = mun.extract_sentences(docs)"
     ],
     "language": "python",
     "metadata": {},
     "outputs": [
      {
       "output_type": "stream",
       "stream": "stdout",
       "text": [
        "flattening\n"
       ]
      }
     ]
    },
    {
     "cell_type": "code",
     "collapsed": false,
     "input": [
      "tokens = mun.tokenize_sentence_text(sentences)\n"
     ],
     "language": "python",
     "metadata": {},
     "outputs": [
      {
       "javascript": [
        "//5ce9fc3e-2d5a-47b5-802c-f6133a8e4f80\n",
        "$(\"head\").append(\"<style> td.pb_widget {     width: auto; } td.pb_widget_fill {     width: 100%; } table.pb {     font-family: monospace;     border: 0;     margin: 0; } table.pb tr { border: 0; } table.pb td {     white-space: nowrap;     border: 0; } div.pb {     border: 1px solid #ddd;     border-radius: 3px; } div.pb_bar {     height: 1.5em; } </style>\")"
       ],
       "metadata": {},
       "output_type": "display_data",
       "text": [
        "<IPython.core.display.Javascript at 0x1b4241d0>"
       ]
      },
      {
       "javascript": [
        "\n",
        "                  // 5ce9fc3e-2d5a-47b5-802c-f6133a8e4f80 -- used to remove this code blob in the end\n",
        "                  IPython.OutputArea.prototype.cleanProgressBar = function(uuids) {\n",
        "                      // filter by uuid-strings \n",
        "                      var myfilter = function(output) { \n",
        "                          var nuids = uuids.length;\n",
        "                          for (var i=0; i<nuids; i++) {\n",
        "                              if (output.hasOwnProperty('html')) {\n",
        "                                  if (output.html.indexOf(uuids[i]) != -1) {\n",
        "                                      return false;\n",
        "                                  }\n",
        "                              }\n",
        "                              if (output.hasOwnProperty('javascript')) {\n",
        "                                  if (output.javascript.indexOf(uuids[i]) != -1) {\n",
        "                                      return false;\n",
        "                                  }\n",
        "                              }\n",
        "                          }\n",
        "                          // keep all others\n",
        "                          return true;\n",
        "                      };\n",
        "\n",
        "                      // Filter the ouputs\n",
        "                      this.outputs = this.outputs.filter(myfilter);\n",
        "                };\n",
        "                "
       ],
       "metadata": {},
       "output_type": "display_data",
       "text": [
        "<IPython.core.display.Javascript at 0x198ede48>"
       ]
      },
      {
       "html": [
        "<div class=\"pb\" id=\"5ce9fc3e-2d5a-47b5-802c-f6133a8e4f80\"><table class=\"pb ui-widget\"><tr>\n",
        "<td class=\"pb_widget\">Tokenizing sentences</td>\n",
        "<td class=\"pb_widget\"><div id=\"78e10271-c9e5-4bb5-bc9c-89f2ee40d532\">0 of 161907</div></td>\n",
        "<td class=\"pb_widget\"><div id=\"0d735afb-70e5-410a-8e6d-f27391630208\">  0%</div></td>\n",
        "<td class=\"pb_widget_fill\">\n",
        "        <div class=\"pb_bar\" id=\"d21d46d6-fb4d-4371-a1e0-709c08d19aa2\"></div>\n",
        "        <script type=\"text/javascript\">\n",
        "            $(\"div#d21d46d6-fb4d-4371-a1e0-709c08d19aa2\").progressbar({value: 0, max: 161907});\n",
        "        </script>\n",
        "        </td>\n",
        "<td class=\"pb_widget\"><div id=\"da9654fb-4830-4e68-be36-db8173503fea\">ETA:  --:--:--</div></td>\n",
        "</tr></table><div>"
       ],
       "metadata": {},
       "output_type": "display_data",
       "text": [
        "<IPython.core.display.HTML at 0x198edef0>"
       ]
      },
      {
       "javascript": [
        "$('div#78e10271-c9e5-4bb5-bc9c-89f2ee40d532').text('1620 of 161907');"
       ],
       "metadata": {},
       "output_type": "display_data",
       "text": [
        "<IPython.core.display.Javascript at 0x1b558710>"
       ]
      },
      {
       "javascript": [
        "$('div#0d735afb-70e5-410a-8e6d-f27391630208').text('  1%');"
       ],
       "metadata": {},
       "output_type": "display_data",
       "text": [
        "<IPython.core.display.Javascript at 0x1b558748>"
       ]
      },
      {
       "javascript": [
        "\n",
        "        var $myPB = $(\"div#d21d46d6-fb4d-4371-a1e0-709c08d19aa2\")\n",
        "        if ($myPB.hasClass('ui-progressbar')) {\n",
        "            $myPB.progressbar('value', 1620);\n",
        "        } else {\n",
        "            $myPB.progressbar({value: 0, max: 161907});\n",
        "        }\n",
        "        "
       ],
       "metadata": {},
       "output_type": "display_data",
       "text": [
        "<IPython.core.display.Javascript at 0x1b5587b8>"
       ]
      },
      {
       "javascript": [
        "$('div#da9654fb-4830-4e68-be36-db8173503fea').text('ETA:  0:00:10');"
       ],
       "metadata": {},
       "output_type": "display_data",
       "text": [
        "<IPython.core.display.Javascript at 0x1b5587b8>"
       ]
      },
      {
       "javascript": [
        "$('div#78e10271-c9e5-4bb5-bc9c-89f2ee40d532').text('3240 of 161907');"
       ],
       "metadata": {},
       "output_type": "display_data",
       "text": [
        "<IPython.core.display.Javascript at 0x19956c88>"
       ]
      },
      {
       "javascript": [
        "$('div#0d735afb-70e5-410a-8e6d-f27391630208').text('  2%');"
       ],
       "metadata": {},
       "output_type": "display_data",
       "text": [
        "<IPython.core.display.Javascript at 0x19956cc0>"
       ]
      },
      {
       "javascript": [
        "\n",
        "        var $myPB = $(\"div#d21d46d6-fb4d-4371-a1e0-709c08d19aa2\")\n",
        "        if ($myPB.hasClass('ui-progressbar')) {\n",
        "            $myPB.progressbar('value', 3240);\n",
        "        } else {\n",
        "            $myPB.progressbar({value: 0, max: 161907});\n",
        "        }\n",
        "        "
       ],
       "metadata": {},
       "output_type": "display_data",
       "text": [
        "<IPython.core.display.Javascript at 0x19956cc0>"
       ]
      },
      {
       "javascript": [
        "$('div#da9654fb-4830-4e68-be36-db8173503fea').text('ETA:  0:00:12');"
       ],
       "metadata": {},
       "output_type": "display_data",
       "text": [
        "<IPython.core.display.Javascript at 0x19956e10>"
       ]
      },
      {
       "javascript": [
        "$('div#78e10271-c9e5-4bb5-bc9c-89f2ee40d532').text('4860 of 161907');"
       ],
       "metadata": {},
       "output_type": "display_data",
       "text": [
        "<IPython.core.display.Javascript at 0x1a4c3978>"
       ]
      },
      {
       "javascript": [
        "$('div#0d735afb-70e5-410a-8e6d-f27391630208').text('  3%');"
       ],
       "metadata": {},
       "output_type": "display_data",
       "text": [
        "<IPython.core.display.Javascript at 0x1a4c39b0>"
       ]
      },
      {
       "javascript": [
        "\n",
        "        var $myPB = $(\"div#d21d46d6-fb4d-4371-a1e0-709c08d19aa2\")\n",
        "        if ($myPB.hasClass('ui-progressbar')) {\n",
        "            $myPB.progressbar('value', 4860);\n",
        "        } else {\n",
        "            $myPB.progressbar({value: 0, max: 161907});\n",
        "        }\n",
        "        "
       ],
       "metadata": {},
       "output_type": "display_data",
       "text": [
        "<IPython.core.display.Javascript at 0x1a4c3a20>"
       ]
      },
      {
       "javascript": [
        "$('div#da9654fb-4830-4e68-be36-db8173503fea').text('ETA:  0:00:11');"
       ],
       "metadata": {},
       "output_type": "display_data",
       "text": [
        "<IPython.core.display.Javascript at 0x1a4c39e8>"
       ]
      },
      {
       "javascript": [
        "$('div#78e10271-c9e5-4bb5-bc9c-89f2ee40d532').text('6480 of 161907');"
       ],
       "metadata": {},
       "output_type": "display_data",
       "text": [
        "<IPython.core.display.Javascript at 0x1b2a5780>"
       ]
      },
      {
       "javascript": [
        "$('div#0d735afb-70e5-410a-8e6d-f27391630208').text('  4%');"
       ],
       "metadata": {},
       "output_type": "display_data",
       "text": [
        "<IPython.core.display.Javascript at 0x1b2a57b8>"
       ]
      },
      {
       "javascript": [
        "\n",
        "        var $myPB = $(\"div#d21d46d6-fb4d-4371-a1e0-709c08d19aa2\")\n",
        "        if ($myPB.hasClass('ui-progressbar')) {\n",
        "            $myPB.progressbar('value', 6480);\n",
        "        } else {\n",
        "            $myPB.progressbar({value: 0, max: 161907});\n",
        "        }\n",
        "        "
       ],
       "metadata": {},
       "output_type": "display_data",
       "text": [
        "<IPython.core.display.Javascript at 0x1b2a5828>"
       ]
      },
      {
       "javascript": [
        "$('div#da9654fb-4830-4e68-be36-db8173503fea').text('ETA:  0:00:11');"
       ],
       "metadata": {},
       "output_type": "display_data",
       "text": [
        "<IPython.core.display.Javascript at 0x1b2a5828>"
       ]
      },
      {
       "javascript": [
        "$('div#78e10271-c9e5-4bb5-bc9c-89f2ee40d532').text('8100 of 161907');"
       ],
       "metadata": {},
       "output_type": "display_data",
       "text": [
        "<IPython.core.display.Javascript at 0x1b103400>"
       ]
      },
      {
       "javascript": [
        "$('div#0d735afb-70e5-410a-8e6d-f27391630208').text('  5%');"
       ],
       "metadata": {},
       "output_type": "display_data",
       "text": [
        "<IPython.core.display.Javascript at 0x1b103438>"
       ]
      },
      {
       "javascript": [
        "\n",
        "        var $myPB = $(\"div#d21d46d6-fb4d-4371-a1e0-709c08d19aa2\")\n",
        "        if ($myPB.hasClass('ui-progressbar')) {\n",
        "            $myPB.progressbar('value', 8100);\n",
        "        } else {\n",
        "            $myPB.progressbar({value: 0, max: 161907});\n",
        "        }\n",
        "        "
       ],
       "metadata": {},
       "output_type": "display_data",
       "text": [
        "<IPython.core.display.Javascript at 0x1b103438>"
       ]
      },
      {
       "javascript": [
        "$('div#da9654fb-4830-4e68-be36-db8173503fea').text('ETA:  0:00:10');"
       ],
       "metadata": {},
       "output_type": "display_data",
       "text": [
        "<IPython.core.display.Javascript at 0x1b1034a8>"
       ]
      },
      {
       "javascript": [
        "$('div#78e10271-c9e5-4bb5-bc9c-89f2ee40d532').text('9720 of 161907');"
       ],
       "metadata": {},
       "output_type": "display_data",
       "text": [
        "<IPython.core.display.Javascript at 0x1b103f60>"
       ]
      },
      {
       "javascript": [
        "$('div#0d735afb-70e5-410a-8e6d-f27391630208').text('  6%');"
       ],
       "metadata": {},
       "output_type": "display_data",
       "text": [
        "<IPython.core.display.Javascript at 0x1b103f60>"
       ]
      },
      {
       "javascript": [
        "\n",
        "        var $myPB = $(\"div#d21d46d6-fb4d-4371-a1e0-709c08d19aa2\")\n",
        "        if ($myPB.hasClass('ui-progressbar')) {\n",
        "            $myPB.progressbar('value', 9720);\n",
        "        } else {\n",
        "            $myPB.progressbar({value: 0, max: 161907});\n",
        "        }\n",
        "        "
       ],
       "metadata": {},
       "output_type": "display_data",
       "text": [
        "<IPython.core.display.Javascript at 0x1b103f98>"
       ]
      },
      {
       "javascript": [
        "$('div#da9654fb-4830-4e68-be36-db8173503fea').text('ETA:  0:00:10');"
       ],
       "metadata": {},
       "output_type": "display_data",
       "text": [
        "<IPython.core.display.Javascript at 0x1b103fd0>"
       ]
      },
      {
       "javascript": [
        "$('div#78e10271-c9e5-4bb5-bc9c-89f2ee40d532').text('11340 of 161907');"
       ],
       "metadata": {},
       "output_type": "display_data",
       "text": [
        "<IPython.core.display.Javascript at 0x1b8335f8>"
       ]
      },
      {
       "javascript": [
        "$('div#0d735afb-70e5-410a-8e6d-f27391630208').text('  7%');"
       ],
       "metadata": {},
       "output_type": "display_data",
       "text": [
        "<IPython.core.display.Javascript at 0x1b833630>"
       ]
      },
      {
       "javascript": [
        "\n",
        "        var $myPB = $(\"div#d21d46d6-fb4d-4371-a1e0-709c08d19aa2\")\n",
        "        if ($myPB.hasClass('ui-progressbar')) {\n",
        "            $myPB.progressbar('value', 11340);\n",
        "        } else {\n",
        "            $myPB.progressbar({value: 0, max: 161907});\n",
        "        }\n",
        "        "
       ],
       "metadata": {},
       "output_type": "display_data",
       "text": [
        "<IPython.core.display.Javascript at 0x1b8336a0>"
       ]
      },
      {
       "javascript": [
        "$('div#da9654fb-4830-4e68-be36-db8173503fea').text('ETA:  0:00:10');"
       ],
       "metadata": {},
       "output_type": "display_data",
       "text": [
        "<IPython.core.display.Javascript at 0x1b833668>"
       ]
      },
      {
       "javascript": [
        "$('div#78e10271-c9e5-4bb5-bc9c-89f2ee40d532').text('12960 of 161907');"
       ],
       "metadata": {},
       "output_type": "display_data",
       "text": [
        "<IPython.core.display.Javascript at 0x1bdb2978>"
       ]
      },
      {
       "javascript": [
        "$('div#0d735afb-70e5-410a-8e6d-f27391630208').text('  8%');"
       ],
       "metadata": {},
       "output_type": "display_data",
       "text": [
        "<IPython.core.display.Javascript at 0x1bdb29b0>"
       ]
      },
      {
       "javascript": [
        "\n",
        "        var $myPB = $(\"div#d21d46d6-fb4d-4371-a1e0-709c08d19aa2\")\n",
        "        if ($myPB.hasClass('ui-progressbar')) {\n",
        "            $myPB.progressbar('value', 12960);\n",
        "        } else {\n",
        "            $myPB.progressbar({value: 0, max: 161907});\n",
        "        }\n",
        "        "
       ],
       "metadata": {},
       "output_type": "display_data",
       "text": [
        "<IPython.core.display.Javascript at 0x1bdb2a20>"
       ]
      },
      {
       "javascript": [
        "$('div#da9654fb-4830-4e68-be36-db8173503fea').text('ETA:  0:00:09');"
       ],
       "metadata": {},
       "output_type": "display_data",
       "text": [
        "<IPython.core.display.Javascript at 0x1bdb2a20>"
       ]
      },
      {
       "javascript": [
        "$('div#78e10271-c9e5-4bb5-bc9c-89f2ee40d532').text('14580 of 161907');"
       ],
       "metadata": {},
       "output_type": "display_data",
       "text": [
        "<IPython.core.display.Javascript at 0x1be535f8>"
       ]
      },
      {
       "javascript": [
        "$('div#0d735afb-70e5-410a-8e6d-f27391630208').text('  9%');"
       ],
       "metadata": {},
       "output_type": "display_data",
       "text": [
        "<IPython.core.display.Javascript at 0x1be53630>"
       ]
      },
      {
       "javascript": [
        "\n",
        "        var $myPB = $(\"div#d21d46d6-fb4d-4371-a1e0-709c08d19aa2\")\n",
        "        if ($myPB.hasClass('ui-progressbar')) {\n",
        "            $myPB.progressbar('value', 14580);\n",
        "        } else {\n",
        "            $myPB.progressbar({value: 0, max: 161907});\n",
        "        }\n",
        "        "
       ],
       "metadata": {},
       "output_type": "display_data",
       "text": [
        "<IPython.core.display.Javascript at 0x1be53630>"
       ]
      },
      {
       "javascript": [
        "$('div#da9654fb-4830-4e68-be36-db8173503fea').text('ETA:  0:00:09');"
       ],
       "metadata": {},
       "output_type": "display_data",
       "text": [
        "<IPython.core.display.Javascript at 0x1be536a0>"
       ]
      },
      {
       "javascript": [
        "$('div#78e10271-c9e5-4bb5-bc9c-89f2ee40d532').text('16200 of 161907');"
       ],
       "metadata": {},
       "output_type": "display_data",
       "text": [
        "<IPython.core.display.Javascript at 0x1c09f5c0>"
       ]
      },
      {
       "javascript": [
        "$('div#0d735afb-70e5-410a-8e6d-f27391630208').text(' 10%');"
       ],
       "metadata": {},
       "output_type": "display_data",
       "text": [
        "<IPython.core.display.Javascript at 0x1c09f5c0>"
       ]
      },
      {
       "javascript": [
        "\n",
        "        var $myPB = $(\"div#d21d46d6-fb4d-4371-a1e0-709c08d19aa2\")\n",
        "        if ($myPB.hasClass('ui-progressbar')) {\n",
        "            $myPB.progressbar('value', 16200);\n",
        "        } else {\n",
        "            $myPB.progressbar({value: 0, max: 161907});\n",
        "        }\n",
        "        "
       ],
       "metadata": {},
       "output_type": "display_data",
       "text": [
        "<IPython.core.display.Javascript at 0x1c09f5f8>"
       ]
      },
      {
       "javascript": [
        "$('div#da9654fb-4830-4e68-be36-db8173503fea').text('ETA:  0:00:09');"
       ],
       "metadata": {},
       "output_type": "display_data",
       "text": [
        "<IPython.core.display.Javascript at 0x1c09f6d8>"
       ]
      },
      {
       "javascript": [
        "$('div#78e10271-c9e5-4bb5-bc9c-89f2ee40d532').text('17820 of 161907');"
       ],
       "metadata": {},
       "output_type": "display_data",
       "text": [
        "<IPython.core.display.Javascript at 0x1ed3d6d8>"
       ]
      },
      {
       "javascript": [
        "$('div#0d735afb-70e5-410a-8e6d-f27391630208').text(' 11%');"
       ],
       "metadata": {},
       "output_type": "display_data",
       "text": [
        "<IPython.core.display.Javascript at 0x1ed3d710>"
       ]
      },
      {
       "javascript": [
        "\n",
        "        var $myPB = $(\"div#d21d46d6-fb4d-4371-a1e0-709c08d19aa2\")\n",
        "        if ($myPB.hasClass('ui-progressbar')) {\n",
        "            $myPB.progressbar('value', 17820);\n",
        "        } else {\n",
        "            $myPB.progressbar({value: 0, max: 161907});\n",
        "        }\n",
        "        "
       ],
       "metadata": {},
       "output_type": "display_data",
       "text": [
        "<IPython.core.display.Javascript at 0x1ed3d780>"
       ]
      },
      {
       "javascript": [
        "$('div#da9654fb-4830-4e68-be36-db8173503fea').text('ETA:  0:00:09');"
       ],
       "metadata": {},
       "output_type": "display_data",
       "text": [
        "<IPython.core.display.Javascript at 0x1ed3d780>"
       ]
      },
      {
       "javascript": [
        "$('div#78e10271-c9e5-4bb5-bc9c-89f2ee40d532').text('19440 of 161907');"
       ],
       "metadata": {},
       "output_type": "display_data",
       "text": [
        "<IPython.core.display.Javascript at 0x1f0a5d68>"
       ]
      },
      {
       "javascript": [
        "$('div#0d735afb-70e5-410a-8e6d-f27391630208').text(' 12%');"
       ],
       "metadata": {},
       "output_type": "display_data",
       "text": [
        "<IPython.core.display.Javascript at 0x1f0a5da0>"
       ]
      },
      {
       "javascript": [
        "\n",
        "        var $myPB = $(\"div#d21d46d6-fb4d-4371-a1e0-709c08d19aa2\")\n",
        "        if ($myPB.hasClass('ui-progressbar')) {\n",
        "            $myPB.progressbar('value', 19440);\n",
        "        } else {\n",
        "            $myPB.progressbar({value: 0, max: 161907});\n",
        "        }\n",
        "        "
       ],
       "metadata": {},
       "output_type": "display_data",
       "text": [
        "<IPython.core.display.Javascript at 0x1f0a5da0>"
       ]
      },
      {
       "javascript": [
        "$('div#da9654fb-4830-4e68-be36-db8173503fea').text('ETA:  0:00:09');"
       ],
       "metadata": {},
       "output_type": "display_data",
       "text": [
        "<IPython.core.display.Javascript at 0x1f0a5e10>"
       ]
      },
      {
       "javascript": [
        "$('div#78e10271-c9e5-4bb5-bc9c-89f2ee40d532').text('21060 of 161907');"
       ],
       "metadata": {},
       "output_type": "display_data",
       "text": [
        "<IPython.core.display.Javascript at 0x1f2f9240>"
       ]
      },
      {
       "javascript": [
        "$('div#0d735afb-70e5-410a-8e6d-f27391630208').text(' 13%');"
       ],
       "metadata": {},
       "output_type": "display_data",
       "text": [
        "<IPython.core.display.Javascript at 0x1f2f9240>"
       ]
      },
      {
       "javascript": [
        "\n",
        "        var $myPB = $(\"div#d21d46d6-fb4d-4371-a1e0-709c08d19aa2\")\n",
        "        if ($myPB.hasClass('ui-progressbar')) {\n",
        "            $myPB.progressbar('value', 21060);\n",
        "        } else {\n",
        "            $myPB.progressbar({value: 0, max: 161907});\n",
        "        }\n",
        "        "
       ],
       "metadata": {},
       "output_type": "display_data",
       "text": [
        "<IPython.core.display.Javascript at 0x1f2f9278>"
       ]
      },
      {
       "javascript": [
        "$('div#da9654fb-4830-4e68-be36-db8173503fea').text('ETA:  0:00:09');"
       ],
       "metadata": {},
       "output_type": "display_data",
       "text": [
        "<IPython.core.display.Javascript at 0x1f2f9358>"
       ]
      },
      {
       "javascript": [
        "$('div#78e10271-c9e5-4bb5-bc9c-89f2ee40d532').text('22680 of 161907');"
       ],
       "metadata": {},
       "output_type": "display_data",
       "text": [
        "<IPython.core.display.Javascript at 0x1f5d2b00>"
       ]
      },
      {
       "javascript": [
        "$('div#0d735afb-70e5-410a-8e6d-f27391630208').text(' 14%');"
       ],
       "metadata": {},
       "output_type": "display_data",
       "text": [
        "<IPython.core.display.Javascript at 0x1f5d2b38>"
       ]
      },
      {
       "javascript": [
        "\n",
        "        var $myPB = $(\"div#d21d46d6-fb4d-4371-a1e0-709c08d19aa2\")\n",
        "        if ($myPB.hasClass('ui-progressbar')) {\n",
        "            $myPB.progressbar('value', 22680);\n",
        "        } else {\n",
        "            $myPB.progressbar({value: 0, max: 161907});\n",
        "        }\n",
        "        "
       ],
       "metadata": {},
       "output_type": "display_data",
       "text": [
        "<IPython.core.display.Javascript at 0x1f5d2ba8>"
       ]
      },
      {
       "javascript": [
        "$('div#da9654fb-4830-4e68-be36-db8173503fea').text('ETA:  0:00:09');"
       ],
       "metadata": {},
       "output_type": "display_data",
       "text": [
        "<IPython.core.display.Javascript at 0x1f5d2b70>"
       ]
      },
      {
       "javascript": [
        "$('div#78e10271-c9e5-4bb5-bc9c-89f2ee40d532').text('24300 of 161907');"
       ],
       "metadata": {},
       "output_type": "display_data",
       "text": [
        "<IPython.core.display.Javascript at 0x1f7b6cc0>"
       ]
      },
      {
       "javascript": [
        "$('div#0d735afb-70e5-410a-8e6d-f27391630208').text(' 15%');"
       ],
       "metadata": {},
       "output_type": "display_data",
       "text": [
        "<IPython.core.display.Javascript at 0x1f7b6cf8>"
       ]
      },
      {
       "javascript": [
        "\n",
        "        var $myPB = $(\"div#d21d46d6-fb4d-4371-a1e0-709c08d19aa2\")\n",
        "        if ($myPB.hasClass('ui-progressbar')) {\n",
        "            $myPB.progressbar('value', 24300);\n",
        "        } else {\n",
        "            $myPB.progressbar({value: 0, max: 161907});\n",
        "        }\n",
        "        "
       ],
       "metadata": {},
       "output_type": "display_data",
       "text": [
        "<IPython.core.display.Javascript at 0x1f7b6d68>"
       ]
      },
      {
       "javascript": [
        "$('div#da9654fb-4830-4e68-be36-db8173503fea').text('ETA:  0:00:09');"
       ],
       "metadata": {},
       "output_type": "display_data",
       "text": [
        "<IPython.core.display.Javascript at 0x1f7b6d68>"
       ]
      },
      {
       "javascript": [
        "$('div#78e10271-c9e5-4bb5-bc9c-89f2ee40d532').text('25920 of 161907');"
       ],
       "metadata": {},
       "output_type": "display_data",
       "text": [
        "<IPython.core.display.Javascript at 0x1f9fe400>"
       ]
      },
      {
       "javascript": [
        "$('div#0d735afb-70e5-410a-8e6d-f27391630208').text(' 16%');"
       ],
       "metadata": {},
       "output_type": "display_data",
       "text": [
        "<IPython.core.display.Javascript at 0x1f9fe438>"
       ]
      },
      {
       "javascript": [
        "\n",
        "        var $myPB = $(\"div#d21d46d6-fb4d-4371-a1e0-709c08d19aa2\")\n",
        "        if ($myPB.hasClass('ui-progressbar')) {\n",
        "            $myPB.progressbar('value', 25920);\n",
        "        } else {\n",
        "            $myPB.progressbar({value: 0, max: 161907});\n",
        "        }\n",
        "        "
       ],
       "metadata": {},
       "output_type": "display_data",
       "text": [
        "<IPython.core.display.Javascript at 0x1f9fe438>"
       ]
      },
      {
       "javascript": [
        "$('div#da9654fb-4830-4e68-be36-db8173503fea').text('ETA:  0:00:08');"
       ],
       "metadata": {},
       "output_type": "display_data",
       "text": [
        "<IPython.core.display.Javascript at 0x1f9fe4a8>"
       ]
      },
      {
       "javascript": [
        "$('div#78e10271-c9e5-4bb5-bc9c-89f2ee40d532').text('27540 of 161907');"
       ],
       "metadata": {},
       "output_type": "display_data",
       "text": [
        "<IPython.core.display.Javascript at 0x1fb632b0>"
       ]
      },
      {
       "javascript": [
        "$('div#0d735afb-70e5-410a-8e6d-f27391630208').text(' 17%');"
       ],
       "metadata": {},
       "output_type": "display_data",
       "text": [
        "<IPython.core.display.Javascript at 0x1fb632b0>"
       ]
      },
      {
       "javascript": [
        "\n",
        "        var $myPB = $(\"div#d21d46d6-fb4d-4371-a1e0-709c08d19aa2\")\n",
        "        if ($myPB.hasClass('ui-progressbar')) {\n",
        "            $myPB.progressbar('value', 27540);\n",
        "        } else {\n",
        "            $myPB.progressbar({value: 0, max: 161907});\n",
        "        }\n",
        "        "
       ],
       "metadata": {},
       "output_type": "display_data",
       "text": [
        "<IPython.core.display.Javascript at 0x1fb632e8>"
       ]
      },
      {
       "javascript": [
        "$('div#da9654fb-4830-4e68-be36-db8173503fea').text('ETA:  0:00:08');"
       ],
       "metadata": {},
       "output_type": "display_data",
       "text": [
        "<IPython.core.display.Javascript at 0x1fb633c8>"
       ]
      },
      {
       "javascript": [
        "$('div#78e10271-c9e5-4bb5-bc9c-89f2ee40d532').text('29160 of 161907');"
       ],
       "metadata": {},
       "output_type": "display_data",
       "text": [
        "<IPython.core.display.Javascript at 0x1fd57208>"
       ]
      },
      {
       "javascript": [
        "$('div#0d735afb-70e5-410a-8e6d-f27391630208').text(' 18%');"
       ],
       "metadata": {},
       "output_type": "display_data",
       "text": [
        "<IPython.core.display.Javascript at 0x1fd57240>"
       ]
      },
      {
       "javascript": [
        "\n",
        "        var $myPB = $(\"div#d21d46d6-fb4d-4371-a1e0-709c08d19aa2\")\n",
        "        if ($myPB.hasClass('ui-progressbar')) {\n",
        "            $myPB.progressbar('value', 29160);\n",
        "        } else {\n",
        "            $myPB.progressbar({value: 0, max: 161907});\n",
        "        }\n",
        "        "
       ],
       "metadata": {},
       "output_type": "display_data",
       "text": [
        "<IPython.core.display.Javascript at 0x1fd572b0>"
       ]
      },
      {
       "javascript": [
        "$('div#da9654fb-4830-4e68-be36-db8173503fea').text('ETA:  0:00:08');"
       ],
       "metadata": {},
       "output_type": "display_data",
       "text": [
        "<IPython.core.display.Javascript at 0x1fd57278>"
       ]
      },
      {
       "javascript": [
        "$('div#78e10271-c9e5-4bb5-bc9c-89f2ee40d532').text('30780 of 161907');"
       ],
       "metadata": {},
       "output_type": "display_data",
       "text": [
        "<IPython.core.display.Javascript at 0x1fe51be0>"
       ]
      },
      {
       "javascript": [
        "$('div#0d735afb-70e5-410a-8e6d-f27391630208').text(' 19%');"
       ],
       "metadata": {},
       "output_type": "display_data",
       "text": [
        "<IPython.core.display.Javascript at 0x1fe51c18>"
       ]
      },
      {
       "javascript": [
        "\n",
        "        var $myPB = $(\"div#d21d46d6-fb4d-4371-a1e0-709c08d19aa2\")\n",
        "        if ($myPB.hasClass('ui-progressbar')) {\n",
        "            $myPB.progressbar('value', 30780);\n",
        "        } else {\n",
        "            $myPB.progressbar({value: 0, max: 161907});\n",
        "        }\n",
        "        "
       ],
       "metadata": {},
       "output_type": "display_data",
       "text": [
        "<IPython.core.display.Javascript at 0x1fe51c18>"
       ]
      },
      {
       "javascript": [
        "$('div#da9654fb-4830-4e68-be36-db8173503fea').text('ETA:  0:00:08');"
       ],
       "metadata": {},
       "output_type": "display_data",
       "text": [
        "<IPython.core.display.Javascript at 0x1fe51c88>"
       ]
      },
      {
       "javascript": [
        "$('div#78e10271-c9e5-4bb5-bc9c-89f2ee40d532').text('32400 of 161907');"
       ],
       "metadata": {},
       "output_type": "display_data",
       "text": [
        "<IPython.core.display.Javascript at 0x20211198>"
       ]
      },
      {
       "javascript": [
        "$('div#0d735afb-70e5-410a-8e6d-f27391630208').text(' 20%');"
       ],
       "metadata": {},
       "output_type": "display_data",
       "text": [
        "<IPython.core.display.Javascript at 0x20211198>"
       ]
      },
      {
       "javascript": [
        "\n",
        "        var $myPB = $(\"div#d21d46d6-fb4d-4371-a1e0-709c08d19aa2\")\n",
        "        if ($myPB.hasClass('ui-progressbar')) {\n",
        "            $myPB.progressbar('value', 32400);\n",
        "        } else {\n",
        "            $myPB.progressbar({value: 0, max: 161907});\n",
        "        }\n",
        "        "
       ],
       "metadata": {},
       "output_type": "display_data",
       "text": [
        "<IPython.core.display.Javascript at 0x202111d0>"
       ]
      },
      {
       "javascript": [
        "$('div#da9654fb-4830-4e68-be36-db8173503fea').text('ETA:  0:00:08');"
       ],
       "metadata": {},
       "output_type": "display_data",
       "text": [
        "<IPython.core.display.Javascript at 0x202112b0>"
       ]
      },
      {
       "javascript": [
        "$('div#78e10271-c9e5-4bb5-bc9c-89f2ee40d532').text('34020 of 161907');"
       ],
       "metadata": {},
       "output_type": "display_data",
       "text": [
        "<IPython.core.display.Javascript at 0x204378d0>"
       ]
      },
      {
       "javascript": [
        "$('div#0d735afb-70e5-410a-8e6d-f27391630208').text(' 21%');"
       ],
       "metadata": {},
       "output_type": "display_data",
       "text": [
        "<IPython.core.display.Javascript at 0x20437908>"
       ]
      },
      {
       "javascript": [
        "\n",
        "        var $myPB = $(\"div#d21d46d6-fb4d-4371-a1e0-709c08d19aa2\")\n",
        "        if ($myPB.hasClass('ui-progressbar')) {\n",
        "            $myPB.progressbar('value', 34020);\n",
        "        } else {\n",
        "            $myPB.progressbar({value: 0, max: 161907});\n",
        "        }\n",
        "        "
       ],
       "metadata": {},
       "output_type": "display_data",
       "text": [
        "<IPython.core.display.Javascript at 0x20437978>"
       ]
      },
      {
       "javascript": [
        "$('div#da9654fb-4830-4e68-be36-db8173503fea').text('ETA:  0:00:08');"
       ],
       "metadata": {},
       "output_type": "display_data",
       "text": [
        "<IPython.core.display.Javascript at 0x20437940>"
       ]
      },
      {
       "javascript": [
        "$('div#78e10271-c9e5-4bb5-bc9c-89f2ee40d532').text('35640 of 161907');"
       ],
       "metadata": {},
       "output_type": "display_data",
       "text": [
        "<IPython.core.display.Javascript at 0x20683630>"
       ]
      },
      {
       "javascript": [
        "$('div#0d735afb-70e5-410a-8e6d-f27391630208').text(' 22%');"
       ],
       "metadata": {},
       "output_type": "display_data",
       "text": [
        "<IPython.core.display.Javascript at 0x20683668>"
       ]
      },
      {
       "javascript": [
        "\n",
        "        var $myPB = $(\"div#d21d46d6-fb4d-4371-a1e0-709c08d19aa2\")\n",
        "        if ($myPB.hasClass('ui-progressbar')) {\n",
        "            $myPB.progressbar('value', 35640);\n",
        "        } else {\n",
        "            $myPB.progressbar({value: 0, max: 161907});\n",
        "        }\n",
        "        "
       ],
       "metadata": {},
       "output_type": "display_data",
       "text": [
        "<IPython.core.display.Javascript at 0x206836d8>"
       ]
      },
      {
       "javascript": [
        "$('div#da9654fb-4830-4e68-be36-db8173503fea').text('ETA:  0:00:08');"
       ],
       "metadata": {},
       "output_type": "display_data",
       "text": [
        "<IPython.core.display.Javascript at 0x206836d8>"
       ]
      },
      {
       "javascript": [
        "$('div#78e10271-c9e5-4bb5-bc9c-89f2ee40d532').text('37260 of 161907');"
       ],
       "metadata": {},
       "output_type": "display_data",
       "text": [
        "<IPython.core.display.Javascript at 0x2084a5f8>"
       ]
      },
      {
       "javascript": [
        "$('div#0d735afb-70e5-410a-8e6d-f27391630208').text(' 23%');"
       ],
       "metadata": {},
       "output_type": "display_data",
       "text": [
        "<IPython.core.display.Javascript at 0x2084a630>"
       ]
      },
      {
       "javascript": [
        "\n",
        "        var $myPB = $(\"div#d21d46d6-fb4d-4371-a1e0-709c08d19aa2\")\n",
        "        if ($myPB.hasClass('ui-progressbar')) {\n",
        "            $myPB.progressbar('value', 37260);\n",
        "        } else {\n",
        "            $myPB.progressbar({value: 0, max: 161907});\n",
        "        }\n",
        "        "
       ],
       "metadata": {},
       "output_type": "display_data",
       "text": [
        "<IPython.core.display.Javascript at 0x2084a630>"
       ]
      },
      {
       "javascript": [
        "$('div#da9654fb-4830-4e68-be36-db8173503fea').text('ETA:  0:00:08');"
       ],
       "metadata": {},
       "output_type": "display_data",
       "text": [
        "<IPython.core.display.Javascript at 0x2084a6a0>"
       ]
      },
      {
       "javascript": [
        "$('div#78e10271-c9e5-4bb5-bc9c-89f2ee40d532').text('38880 of 161907');"
       ],
       "metadata": {},
       "output_type": "display_data",
       "text": [
        "<IPython.core.display.Javascript at 0x20a860f0>"
       ]
      },
      {
       "javascript": [
        "$('div#0d735afb-70e5-410a-8e6d-f27391630208').text(' 24%');"
       ],
       "metadata": {},
       "output_type": "display_data",
       "text": [
        "<IPython.core.display.Javascript at 0x20a860f0>"
       ]
      },
      {
       "javascript": [
        "\n",
        "        var $myPB = $(\"div#d21d46d6-fb4d-4371-a1e0-709c08d19aa2\")\n",
        "        if ($myPB.hasClass('ui-progressbar')) {\n",
        "            $myPB.progressbar('value', 38880);\n",
        "        } else {\n",
        "            $myPB.progressbar({value: 0, max: 161907});\n",
        "        }\n",
        "        "
       ],
       "metadata": {},
       "output_type": "display_data",
       "text": [
        "<IPython.core.display.Javascript at 0x20a86128>"
       ]
      },
      {
       "javascript": [
        "$('div#da9654fb-4830-4e68-be36-db8173503fea').text('ETA:  0:00:07');"
       ],
       "metadata": {},
       "output_type": "display_data",
       "text": [
        "<IPython.core.display.Javascript at 0x20a86208>"
       ]
      },
      {
       "javascript": [
        "$('div#78e10271-c9e5-4bb5-bc9c-89f2ee40d532').text('40500 of 161907');"
       ],
       "metadata": {},
       "output_type": "display_data",
       "text": [
        "<IPython.core.display.Javascript at 0x207c8390>"
       ]
      },
      {
       "javascript": [
        "$('div#0d735afb-70e5-410a-8e6d-f27391630208').text(' 25%');"
       ],
       "metadata": {},
       "output_type": "display_data",
       "text": [
        "<IPython.core.display.Javascript at 0x207c83c8>"
       ]
      },
      {
       "javascript": [
        "\n",
        "        var $myPB = $(\"div#d21d46d6-fb4d-4371-a1e0-709c08d19aa2\")\n",
        "        if ($myPB.hasClass('ui-progressbar')) {\n",
        "            $myPB.progressbar('value', 40500);\n",
        "        } else {\n",
        "            $myPB.progressbar({value: 0, max: 161907});\n",
        "        }\n",
        "        "
       ],
       "metadata": {},
       "output_type": "display_data",
       "text": [
        "<IPython.core.display.Javascript at 0x207c8438>"
       ]
      },
      {
       "javascript": [
        "$('div#da9654fb-4830-4e68-be36-db8173503fea').text('ETA:  0:00:07');"
       ],
       "metadata": {},
       "output_type": "display_data",
       "text": [
        "<IPython.core.display.Javascript at 0x207c8400>"
       ]
      },
      {
       "javascript": [
        "$('div#78e10271-c9e5-4bb5-bc9c-89f2ee40d532').text('42120 of 161907');"
       ],
       "metadata": {},
       "output_type": "display_data",
       "text": [
        "<IPython.core.display.Javascript at 0x20fdbe80>"
       ]
      },
      {
       "javascript": [
        "$('div#0d735afb-70e5-410a-8e6d-f27391630208').text(' 26%');"
       ],
       "metadata": {},
       "output_type": "display_data",
       "text": [
        "<IPython.core.display.Javascript at 0x20fdbeb8>"
       ]
      },
      {
       "javascript": [
        "\n",
        "        var $myPB = $(\"div#d21d46d6-fb4d-4371-a1e0-709c08d19aa2\")\n",
        "        if ($myPB.hasClass('ui-progressbar')) {\n",
        "            $myPB.progressbar('value', 42120);\n",
        "        } else {\n",
        "            $myPB.progressbar({value: 0, max: 161907});\n",
        "        }\n",
        "        "
       ],
       "metadata": {},
       "output_type": "display_data",
       "text": [
        "<IPython.core.display.Javascript at 0x20fdbeb8>"
       ]
      },
      {
       "javascript": [
        "$('div#da9654fb-4830-4e68-be36-db8173503fea').text('ETA:  0:00:07');"
       ],
       "metadata": {},
       "output_type": "display_data",
       "text": [
        "<IPython.core.display.Javascript at 0x20fdbf28>"
       ]
      },
      {
       "javascript": [
        "$('div#78e10271-c9e5-4bb5-bc9c-89f2ee40d532').text('43740 of 161907');"
       ],
       "metadata": {},
       "output_type": "display_data",
       "text": [
        "<IPython.core.display.Javascript at 0x2121b550>"
       ]
      },
      {
       "javascript": [
        "$('div#0d735afb-70e5-410a-8e6d-f27391630208').text(' 27%');"
       ],
       "metadata": {},
       "output_type": "display_data",
       "text": [
        "<IPython.core.display.Javascript at 0x2121b550>"
       ]
      },
      {
       "javascript": [
        "\n",
        "        var $myPB = $(\"div#d21d46d6-fb4d-4371-a1e0-709c08d19aa2\")\n",
        "        if ($myPB.hasClass('ui-progressbar')) {\n",
        "            $myPB.progressbar('value', 43740);\n",
        "        } else {\n",
        "            $myPB.progressbar({value: 0, max: 161907});\n",
        "        }\n",
        "        "
       ],
       "metadata": {},
       "output_type": "display_data",
       "text": [
        "<IPython.core.display.Javascript at 0x2121b588>"
       ]
      },
      {
       "javascript": [
        "$('div#da9654fb-4830-4e68-be36-db8173503fea').text('ETA:  0:00:07');"
       ],
       "metadata": {},
       "output_type": "display_data",
       "text": [
        "<IPython.core.display.Javascript at 0x2121b668>"
       ]
      },
      {
       "javascript": [
        "$('div#78e10271-c9e5-4bb5-bc9c-89f2ee40d532').text('45360 of 161907');"
       ],
       "metadata": {},
       "output_type": "display_data",
       "text": [
        "<IPython.core.display.Javascript at 0x2138ab70>"
       ]
      },
      {
       "javascript": [
        "$('div#0d735afb-70e5-410a-8e6d-f27391630208').text(' 28%');"
       ],
       "metadata": {},
       "output_type": "display_data",
       "text": [
        "<IPython.core.display.Javascript at 0x2138aba8>"
       ]
      },
      {
       "javascript": [
        "\n",
        "        var $myPB = $(\"div#d21d46d6-fb4d-4371-a1e0-709c08d19aa2\")\n",
        "        if ($myPB.hasClass('ui-progressbar')) {\n",
        "            $myPB.progressbar('value', 45360);\n",
        "        } else {\n",
        "            $myPB.progressbar({value: 0, max: 161907});\n",
        "        }\n",
        "        "
       ],
       "metadata": {},
       "output_type": "display_data",
       "text": [
        "<IPython.core.display.Javascript at 0x2138ac18>"
       ]
      },
      {
       "javascript": [
        "$('div#da9654fb-4830-4e68-be36-db8173503fea').text('ETA:  0:00:07');"
       ],
       "metadata": {},
       "output_type": "display_data",
       "text": [
        "<IPython.core.display.Javascript at 0x2138abe0>"
       ]
      },
      {
       "javascript": [
        "$('div#78e10271-c9e5-4bb5-bc9c-89f2ee40d532').text('46980 of 161907');"
       ],
       "metadata": {},
       "output_type": "display_data",
       "text": [
        "<IPython.core.display.Javascript at 0x214abd68>"
       ]
      },
      {
       "javascript": [
        "$('div#0d735afb-70e5-410a-8e6d-f27391630208').text(' 29%');"
       ],
       "metadata": {},
       "output_type": "display_data",
       "text": [
        "<IPython.core.display.Javascript at 0x214abda0>"
       ]
      },
      {
       "javascript": [
        "\n",
        "        var $myPB = $(\"div#d21d46d6-fb4d-4371-a1e0-709c08d19aa2\")\n",
        "        if ($myPB.hasClass('ui-progressbar')) {\n",
        "            $myPB.progressbar('value', 46980);\n",
        "        } else {\n",
        "            $myPB.progressbar({value: 0, max: 161907});\n",
        "        }\n",
        "        "
       ],
       "metadata": {},
       "output_type": "display_data",
       "text": [
        "<IPython.core.display.Javascript at 0x214abe10>"
       ]
      },
      {
       "javascript": [
        "$('div#da9654fb-4830-4e68-be36-db8173503fea').text('ETA:  0:00:07');"
       ],
       "metadata": {},
       "output_type": "display_data",
       "text": [
        "<IPython.core.display.Javascript at 0x214abe10>"
       ]
      },
      {
       "javascript": [
        "$('div#78e10271-c9e5-4bb5-bc9c-89f2ee40d532').text('48600 of 161907');"
       ],
       "metadata": {},
       "output_type": "display_data",
       "text": [
        "<IPython.core.display.Javascript at 0x216f35f8>"
       ]
      },
      {
       "javascript": [
        "$('div#0d735afb-70e5-410a-8e6d-f27391630208').text(' 30%');"
       ],
       "metadata": {},
       "output_type": "display_data",
       "text": [
        "<IPython.core.display.Javascript at 0x216f3630>"
       ]
      },
      {
       "javascript": [
        "\n",
        "        var $myPB = $(\"div#d21d46d6-fb4d-4371-a1e0-709c08d19aa2\")\n",
        "        if ($myPB.hasClass('ui-progressbar')) {\n",
        "            $myPB.progressbar('value', 48600);\n",
        "        } else {\n",
        "            $myPB.progressbar({value: 0, max: 161907});\n",
        "        }\n",
        "        "
       ],
       "metadata": {},
       "output_type": "display_data",
       "text": [
        "<IPython.core.display.Javascript at 0x216f3630>"
       ]
      },
      {
       "javascript": [
        "$('div#da9654fb-4830-4e68-be36-db8173503fea').text('ETA:  0:00:07');"
       ],
       "metadata": {},
       "output_type": "display_data",
       "text": [
        "<IPython.core.display.Javascript at 0x216f36a0>"
       ]
      },
      {
       "javascript": [
        "$('div#78e10271-c9e5-4bb5-bc9c-89f2ee40d532').text('50220 of 161907');"
       ],
       "metadata": {},
       "output_type": "display_data",
       "text": [
        "<IPython.core.display.Javascript at 0x216f3ac8>"
       ]
      },
      {
       "javascript": [
        "$('div#0d735afb-70e5-410a-8e6d-f27391630208').text(' 31%');"
       ],
       "metadata": {},
       "output_type": "display_data",
       "text": [
        "<IPython.core.display.Javascript at 0x216f3ac8>"
       ]
      },
      {
       "javascript": [
        "\n",
        "        var $myPB = $(\"div#d21d46d6-fb4d-4371-a1e0-709c08d19aa2\")\n",
        "        if ($myPB.hasClass('ui-progressbar')) {\n",
        "            $myPB.progressbar('value', 50220);\n",
        "        } else {\n",
        "            $myPB.progressbar({value: 0, max: 161907});\n",
        "        }\n",
        "        "
       ],
       "metadata": {},
       "output_type": "display_data",
       "text": [
        "<IPython.core.display.Javascript at 0x216f3b00>"
       ]
      },
      {
       "javascript": [
        "$('div#da9654fb-4830-4e68-be36-db8173503fea').text('ETA:  0:00:07');"
       ],
       "metadata": {},
       "output_type": "display_data",
       "text": [
        "<IPython.core.display.Javascript at 0x216f3be0>"
       ]
      },
      {
       "javascript": [
        "$('div#78e10271-c9e5-4bb5-bc9c-89f2ee40d532').text('51840 of 161907');"
       ],
       "metadata": {},
       "output_type": "display_data",
       "text": [
        "<IPython.core.display.Javascript at 0x21b7e940>"
       ]
      },
      {
       "javascript": [
        "$('div#0d735afb-70e5-410a-8e6d-f27391630208').text(' 32%');"
       ],
       "metadata": {},
       "output_type": "display_data",
       "text": [
        "<IPython.core.display.Javascript at 0x21b7e978>"
       ]
      },
      {
       "javascript": [
        "\n",
        "        var $myPB = $(\"div#d21d46d6-fb4d-4371-a1e0-709c08d19aa2\")\n",
        "        if ($myPB.hasClass('ui-progressbar')) {\n",
        "            $myPB.progressbar('value', 51840);\n",
        "        } else {\n",
        "            $myPB.progressbar({value: 0, max: 161907});\n",
        "        }\n",
        "        "
       ],
       "metadata": {},
       "output_type": "display_data",
       "text": [
        "<IPython.core.display.Javascript at 0x21b7e9e8>"
       ]
      },
      {
       "javascript": [
        "$('div#da9654fb-4830-4e68-be36-db8173503fea').text('ETA:  0:00:07');"
       ],
       "metadata": {},
       "output_type": "display_data",
       "text": [
        "<IPython.core.display.Javascript at 0x21b7ea58>"
       ]
      },
      {
       "javascript": [
        "$('div#78e10271-c9e5-4bb5-bc9c-89f2ee40d532').text('53460 of 161907');"
       ],
       "metadata": {},
       "output_type": "display_data",
       "text": [
        "<IPython.core.display.Javascript at 0x21d10828>"
       ]
      },
      {
       "javascript": [
        "$('div#0d735afb-70e5-410a-8e6d-f27391630208').text(' 33%');"
       ],
       "metadata": {},
       "output_type": "display_data",
       "text": [
        "<IPython.core.display.Javascript at 0x21d10860>"
       ]
      },
      {
       "javascript": [
        "\n",
        "        var $myPB = $(\"div#d21d46d6-fb4d-4371-a1e0-709c08d19aa2\")\n",
        "        if ($myPB.hasClass('ui-progressbar')) {\n",
        "            $myPB.progressbar('value', 53460);\n",
        "        } else {\n",
        "            $myPB.progressbar({value: 0, max: 161907});\n",
        "        }\n",
        "        "
       ],
       "metadata": {},
       "output_type": "display_data",
       "text": [
        "<IPython.core.display.Javascript at 0x21d108d0>"
       ]
      },
      {
       "javascript": [
        "$('div#da9654fb-4830-4e68-be36-db8173503fea').text('ETA:  0:00:06');"
       ],
       "metadata": {},
       "output_type": "display_data",
       "text": [
        "<IPython.core.display.Javascript at 0x21d10898>"
       ]
      },
      {
       "javascript": [
        "$('div#78e10271-c9e5-4bb5-bc9c-89f2ee40d532').text('55080 of 161907');"
       ],
       "metadata": {},
       "output_type": "display_data",
       "text": [
        "<IPython.core.display.Javascript at 0x21f4d0f0>"
       ]
      },
      {
       "javascript": [
        "$('div#0d735afb-70e5-410a-8e6d-f27391630208').text(' 34%');"
       ],
       "metadata": {},
       "output_type": "display_data",
       "text": [
        "<IPython.core.display.Javascript at 0x21f4d0f0>"
       ]
      },
      {
       "javascript": [
        "\n",
        "        var $myPB = $(\"div#d21d46d6-fb4d-4371-a1e0-709c08d19aa2\")\n",
        "        if ($myPB.hasClass('ui-progressbar')) {\n",
        "            $myPB.progressbar('value', 55080);\n",
        "        } else {\n",
        "            $myPB.progressbar({value: 0, max: 161907});\n",
        "        }\n",
        "        "
       ],
       "metadata": {},
       "output_type": "display_data",
       "text": [
        "<IPython.core.display.Javascript at 0x21f4d128>"
       ]
      },
      {
       "javascript": [
        "$('div#da9654fb-4830-4e68-be36-db8173503fea').text('ETA:  0:00:06');"
       ],
       "metadata": {},
       "output_type": "display_data",
       "text": [
        "<IPython.core.display.Javascript at 0x21f4d208>"
       ]
      },
      {
       "javascript": [
        "$('div#78e10271-c9e5-4bb5-bc9c-89f2ee40d532').text('56700 of 161907');"
       ],
       "metadata": {},
       "output_type": "display_data",
       "text": [
        "<IPython.core.display.Javascript at 0x221a02e8>"
       ]
      },
      {
       "javascript": [
        "$('div#0d735afb-70e5-410a-8e6d-f27391630208').text(' 35%');"
       ],
       "metadata": {},
       "output_type": "display_data",
       "text": [
        "<IPython.core.display.Javascript at 0x221a0320>"
       ]
      },
      {
       "javascript": [
        "\n",
        "        var $myPB = $(\"div#d21d46d6-fb4d-4371-a1e0-709c08d19aa2\")\n",
        "        if ($myPB.hasClass('ui-progressbar')) {\n",
        "            $myPB.progressbar('value', 56700);\n",
        "        } else {\n",
        "            $myPB.progressbar({value: 0, max: 161907});\n",
        "        }\n",
        "        "
       ],
       "metadata": {},
       "output_type": "display_data",
       "text": [
        "<IPython.core.display.Javascript at 0x221a0390>"
       ]
      },
      {
       "javascript": [
        "$('div#da9654fb-4830-4e68-be36-db8173503fea').text('ETA:  0:00:06');"
       ],
       "metadata": {},
       "output_type": "display_data",
       "text": [
        "<IPython.core.display.Javascript at 0x221a0358>"
       ]
      },
      {
       "javascript": [
        "$('div#78e10271-c9e5-4bb5-bc9c-89f2ee40d532').text('58320 of 161907');"
       ],
       "metadata": {},
       "output_type": "display_data",
       "text": [
        "<IPython.core.display.Javascript at 0x22395b70>"
       ]
      },
      {
       "javascript": [
        "$('div#0d735afb-70e5-410a-8e6d-f27391630208').text(' 36%');"
       ],
       "metadata": {},
       "output_type": "display_data",
       "text": [
        "<IPython.core.display.Javascript at 0x22395ba8>"
       ]
      },
      {
       "javascript": [
        "\n",
        "        var $myPB = $(\"div#d21d46d6-fb4d-4371-a1e0-709c08d19aa2\")\n",
        "        if ($myPB.hasClass('ui-progressbar')) {\n",
        "            $myPB.progressbar('value', 58320);\n",
        "        } else {\n",
        "            $myPB.progressbar({value: 0, max: 161907});\n",
        "        }\n",
        "        "
       ],
       "metadata": {},
       "output_type": "display_data",
       "text": [
        "<IPython.core.display.Javascript at 0x22395c18>"
       ]
      },
      {
       "javascript": [
        "$('div#da9654fb-4830-4e68-be36-db8173503fea').text('ETA:  0:00:06');"
       ],
       "metadata": {},
       "output_type": "display_data",
       "text": [
        "<IPython.core.display.Javascript at 0x22395c18>"
       ]
      },
      {
       "javascript": [
        "$('div#78e10271-c9e5-4bb5-bc9c-89f2ee40d532').text('59940 of 161907');"
       ],
       "metadata": {},
       "output_type": "display_data",
       "text": [
        "<IPython.core.display.Javascript at 0x225fdef0>"
       ]
      },
      {
       "javascript": [
        "$('div#0d735afb-70e5-410a-8e6d-f27391630208').text(' 37%');"
       ],
       "metadata": {},
       "output_type": "display_data",
       "text": [
        "<IPython.core.display.Javascript at 0x225fdf28>"
       ]
      },
      {
       "javascript": [
        "\n",
        "        var $myPB = $(\"div#d21d46d6-fb4d-4371-a1e0-709c08d19aa2\")\n",
        "        if ($myPB.hasClass('ui-progressbar')) {\n",
        "            $myPB.progressbar('value', 59940);\n",
        "        } else {\n",
        "            $myPB.progressbar({value: 0, max: 161907});\n",
        "        }\n",
        "        "
       ],
       "metadata": {},
       "output_type": "display_data",
       "text": [
        "<IPython.core.display.Javascript at 0x225fdf28>"
       ]
      },
      {
       "javascript": [
        "$('div#da9654fb-4830-4e68-be36-db8173503fea').text('ETA:  0:00:06');"
       ],
       "metadata": {},
       "output_type": "display_data",
       "text": [
        "<IPython.core.display.Javascript at 0x225fdf98>"
       ]
      },
      {
       "javascript": [
        "$('div#78e10271-c9e5-4bb5-bc9c-89f2ee40d532').text('61560 of 161907');"
       ],
       "metadata": {},
       "output_type": "display_data",
       "text": [
        "<IPython.core.display.Javascript at 0x22801a58>"
       ]
      },
      {
       "javascript": [
        "$('div#0d735afb-70e5-410a-8e6d-f27391630208').text(' 38%');"
       ],
       "metadata": {},
       "output_type": "display_data",
       "text": [
        "<IPython.core.display.Javascript at 0x22801a58>"
       ]
      },
      {
       "javascript": [
        "\n",
        "        var $myPB = $(\"div#d21d46d6-fb4d-4371-a1e0-709c08d19aa2\")\n",
        "        if ($myPB.hasClass('ui-progressbar')) {\n",
        "            $myPB.progressbar('value', 61560);\n",
        "        } else {\n",
        "            $myPB.progressbar({value: 0, max: 161907});\n",
        "        }\n",
        "        "
       ],
       "metadata": {},
       "output_type": "display_data",
       "text": [
        "<IPython.core.display.Javascript at 0x22801a90>"
       ]
      },
      {
       "javascript": [
        "$('div#da9654fb-4830-4e68-be36-db8173503fea').text('ETA:  0:00:06');"
       ],
       "metadata": {},
       "output_type": "display_data",
       "text": [
        "<IPython.core.display.Javascript at 0x22801b70>"
       ]
      },
      {
       "javascript": [
        "$('div#78e10271-c9e5-4bb5-bc9c-89f2ee40d532').text('63180 of 161907');"
       ],
       "metadata": {},
       "output_type": "display_data",
       "text": [
        "<IPython.core.display.Javascript at 0x22a1f240>"
       ]
      },
      {
       "javascript": [
        "$('div#0d735afb-70e5-410a-8e6d-f27391630208').text(' 39%');"
       ],
       "metadata": {},
       "output_type": "display_data",
       "text": [
        "<IPython.core.display.Javascript at 0x22a1f278>"
       ]
      },
      {
       "javascript": [
        "\n",
        "        var $myPB = $(\"div#d21d46d6-fb4d-4371-a1e0-709c08d19aa2\")\n",
        "        if ($myPB.hasClass('ui-progressbar')) {\n",
        "            $myPB.progressbar('value', 63180);\n",
        "        } else {\n",
        "            $myPB.progressbar({value: 0, max: 161907});\n",
        "        }\n",
        "        "
       ],
       "metadata": {},
       "output_type": "display_data",
       "text": [
        "<IPython.core.display.Javascript at 0x22a1f2e8>"
       ]
      },
      {
       "javascript": [
        "$('div#da9654fb-4830-4e68-be36-db8173503fea').text('ETA:  0:00:06');"
       ],
       "metadata": {},
       "output_type": "display_data",
       "text": [
        "<IPython.core.display.Javascript at 0x22a1f2b0>"
       ]
      },
      {
       "javascript": [
        "$('div#78e10271-c9e5-4bb5-bc9c-89f2ee40d532').text('64800 of 161907');"
       ],
       "metadata": {},
       "output_type": "display_data",
       "text": [
        "<IPython.core.display.Javascript at 0x22329898>"
       ]
      },
      {
       "javascript": [
        "$('div#0d735afb-70e5-410a-8e6d-f27391630208').text(' 40%');"
       ],
       "metadata": {},
       "output_type": "display_data",
       "text": [
        "<IPython.core.display.Javascript at 0x223298d0>"
       ]
      },
      {
       "javascript": [
        "\n",
        "        var $myPB = $(\"div#d21d46d6-fb4d-4371-a1e0-709c08d19aa2\")\n",
        "        if ($myPB.hasClass('ui-progressbar')) {\n",
        "            $myPB.progressbar('value', 64800);\n",
        "        } else {\n",
        "            $myPB.progressbar({value: 0, max: 161907});\n",
        "        }\n",
        "        "
       ],
       "metadata": {},
       "output_type": "display_data",
       "text": [
        "<IPython.core.display.Javascript at 0x22329940>"
       ]
      },
      {
       "javascript": [
        "$('div#da9654fb-4830-4e68-be36-db8173503fea').text('ETA:  0:00:06');"
       ],
       "metadata": {},
       "output_type": "display_data",
       "text": [
        "<IPython.core.display.Javascript at 0x22329940>"
       ]
      },
      {
       "javascript": [
        "$('div#78e10271-c9e5-4bb5-bc9c-89f2ee40d532').text('66420 of 161907');"
       ],
       "metadata": {},
       "output_type": "display_data",
       "text": [
        "<IPython.core.display.Javascript at 0x22ee7fd0>"
       ]
      },
      {
       "javascript": [
        "$('div#0d735afb-70e5-410a-8e6d-f27391630208').text(' 41%');"
       ],
       "metadata": {},
       "output_type": "display_data",
       "text": [
        "<IPython.core.display.Javascript at 0x22ee7fd0>"
       ]
      },
      {
       "javascript": [
        "\n",
        "        var $myPB = $(\"div#d21d46d6-fb4d-4371-a1e0-709c08d19aa2\")\n",
        "        if ($myPB.hasClass('ui-progressbar')) {\n",
        "            $myPB.progressbar('value', 66420);\n",
        "        } else {\n",
        "            $myPB.progressbar({value: 0, max: 161907});\n",
        "        }\n",
        "        "
       ],
       "metadata": {},
       "output_type": "display_data",
       "text": [
        "<IPython.core.display.Javascript at 0x22f26048>"
       ]
      },
      {
       "javascript": [
        "$('div#da9654fb-4830-4e68-be36-db8173503fea').text('ETA:  0:00:06');"
       ],
       "metadata": {},
       "output_type": "display_data",
       "text": [
        "<IPython.core.display.Javascript at 0x22f26128>"
       ]
      },
      {
       "javascript": [
        "$('div#78e10271-c9e5-4bb5-bc9c-89f2ee40d532').text('68040 of 161907');"
       ],
       "metadata": {},
       "output_type": "display_data",
       "text": [
        "<IPython.core.display.Javascript at 0x230bef60>"
       ]
      },
      {
       "javascript": [
        "$('div#0d735afb-70e5-410a-8e6d-f27391630208').text(' 42%');"
       ],
       "metadata": {},
       "output_type": "display_data",
       "text": [
        "<IPython.core.display.Javascript at 0x230bef98>"
       ]
      },
      {
       "javascript": [
        "\n",
        "        var $myPB = $(\"div#d21d46d6-fb4d-4371-a1e0-709c08d19aa2\")\n",
        "        if ($myPB.hasClass('ui-progressbar')) {\n",
        "            $myPB.progressbar('value', 68040);\n",
        "        } else {\n",
        "            $myPB.progressbar({value: 0, max: 161907});\n",
        "        }\n",
        "        "
       ],
       "metadata": {},
       "output_type": "display_data",
       "text": [
        "<IPython.core.display.Javascript at 0x230befd0>"
       ]
      },
      {
       "javascript": [
        "$('div#da9654fb-4830-4e68-be36-db8173503fea').text('ETA:  0:00:05');"
       ],
       "metadata": {},
       "output_type": "display_data",
       "text": [
        "<IPython.core.display.Javascript at 0x23240080>"
       ]
      },
      {
       "javascript": [
        "$('div#78e10271-c9e5-4bb5-bc9c-89f2ee40d532').text('69660 of 161907');"
       ],
       "metadata": {},
       "output_type": "display_data",
       "text": [
        "<IPython.core.display.Javascript at 0x23270ba8>"
       ]
      },
      {
       "javascript": [
        "$('div#0d735afb-70e5-410a-8e6d-f27391630208').text(' 43%');"
       ],
       "metadata": {},
       "output_type": "display_data",
       "text": [
        "<IPython.core.display.Javascript at 0x23270be0>"
       ]
      },
      {
       "javascript": [
        "\n",
        "        var $myPB = $(\"div#d21d46d6-fb4d-4371-a1e0-709c08d19aa2\")\n",
        "        if ($myPB.hasClass('ui-progressbar')) {\n",
        "            $myPB.progressbar('value', 69660);\n",
        "        } else {\n",
        "            $myPB.progressbar({value: 0, max: 161907});\n",
        "        }\n",
        "        "
       ],
       "metadata": {},
       "output_type": "display_data",
       "text": [
        "<IPython.core.display.Javascript at 0x23270cc0>"
       ]
      },
      {
       "javascript": [
        "$('div#da9654fb-4830-4e68-be36-db8173503fea').text('ETA:  0:00:05');"
       ],
       "metadata": {},
       "output_type": "display_data",
       "text": [
        "<IPython.core.display.Javascript at 0x23270cc0>"
       ]
      },
      {
       "javascript": [
        "$('div#78e10271-c9e5-4bb5-bc9c-89f2ee40d532').text('71280 of 161907');"
       ],
       "metadata": {},
       "output_type": "display_data",
       "text": [
        "<IPython.core.display.Javascript at 0x235e40b8>"
       ]
      },
      {
       "javascript": [
        "$('div#0d735afb-70e5-410a-8e6d-f27391630208').text(' 44%');"
       ],
       "metadata": {},
       "output_type": "display_data",
       "text": [
        "<IPython.core.display.Javascript at 0x235e40f0>"
       ]
      },
      {
       "javascript": [
        "\n",
        "        var $myPB = $(\"div#d21d46d6-fb4d-4371-a1e0-709c08d19aa2\")\n",
        "        if ($myPB.hasClass('ui-progressbar')) {\n",
        "            $myPB.progressbar('value', 71280);\n",
        "        } else {\n",
        "            $myPB.progressbar({value: 0, max: 161907});\n",
        "        }\n",
        "        "
       ],
       "metadata": {},
       "output_type": "display_data",
       "text": [
        "<IPython.core.display.Javascript at 0x235e40f0>"
       ]
      },
      {
       "javascript": [
        "$('div#da9654fb-4830-4e68-be36-db8173503fea').text('ETA:  0:00:05');"
       ],
       "metadata": {},
       "output_type": "display_data",
       "text": [
        "<IPython.core.display.Javascript at 0x235e4160>"
       ]
      },
      {
       "javascript": [
        "$('div#78e10271-c9e5-4bb5-bc9c-89f2ee40d532').text('72900 of 161907');"
       ],
       "metadata": {},
       "output_type": "display_data",
       "text": [
        "<IPython.core.display.Javascript at 0x236dd7f0>"
       ]
      },
      {
       "javascript": [
        "$('div#0d735afb-70e5-410a-8e6d-f27391630208').text(' 45%');"
       ],
       "metadata": {},
       "output_type": "display_data",
       "text": [
        "<IPython.core.display.Javascript at 0x236dd828>"
       ]
      },
      {
       "javascript": [
        "\n",
        "        var $myPB = $(\"div#d21d46d6-fb4d-4371-a1e0-709c08d19aa2\")\n",
        "        if ($myPB.hasClass('ui-progressbar')) {\n",
        "            $myPB.progressbar('value', 72900);\n",
        "        } else {\n",
        "            $myPB.progressbar({value: 0, max: 161907});\n",
        "        }\n",
        "        "
       ],
       "metadata": {},
       "output_type": "display_data",
       "text": [
        "<IPython.core.display.Javascript at 0x236dd898>"
       ]
      },
      {
       "javascript": [
        "$('div#da9654fb-4830-4e68-be36-db8173503fea').text('ETA:  0:00:05');"
       ],
       "metadata": {},
       "output_type": "display_data",
       "text": [
        "<IPython.core.display.Javascript at 0x236dd860>"
       ]
      },
      {
       "javascript": [
        "$('div#78e10271-c9e5-4bb5-bc9c-89f2ee40d532').text('74520 of 161907');"
       ],
       "metadata": {},
       "output_type": "display_data",
       "text": [
        "<IPython.core.display.Javascript at 0x23942860>"
       ]
      },
      {
       "javascript": [
        "$('div#0d735afb-70e5-410a-8e6d-f27391630208').text(' 46%');"
       ],
       "metadata": {},
       "output_type": "display_data",
       "text": [
        "<IPython.core.display.Javascript at 0x23942898>"
       ]
      },
      {
       "javascript": [
        "\n",
        "        var $myPB = $(\"div#d21d46d6-fb4d-4371-a1e0-709c08d19aa2\")\n",
        "        if ($myPB.hasClass('ui-progressbar')) {\n",
        "            $myPB.progressbar('value', 74520);\n",
        "        } else {\n",
        "            $myPB.progressbar({value: 0, max: 161907});\n",
        "        }\n",
        "        "
       ],
       "metadata": {},
       "output_type": "display_data",
       "text": [
        "<IPython.core.display.Javascript at 0x23942908>"
       ]
      },
      {
       "javascript": [
        "$('div#da9654fb-4830-4e68-be36-db8173503fea').text('ETA:  0:00:05');"
       ],
       "metadata": {},
       "output_type": "display_data",
       "text": [
        "<IPython.core.display.Javascript at 0x23942908>"
       ]
      },
      {
       "javascript": [
        "$('div#78e10271-c9e5-4bb5-bc9c-89f2ee40d532').text('76140 of 161907');"
       ],
       "metadata": {},
       "output_type": "display_data",
       "text": [
        "<IPython.core.display.Javascript at 0x23afe780>"
       ]
      },
      {
       "javascript": [
        "$('div#0d735afb-70e5-410a-8e6d-f27391630208').text(' 47%');"
       ],
       "metadata": {},
       "output_type": "display_data",
       "text": [
        "<IPython.core.display.Javascript at 0x23afe7b8>"
       ]
      },
      {
       "javascript": [
        "\n",
        "        var $myPB = $(\"div#d21d46d6-fb4d-4371-a1e0-709c08d19aa2\")\n",
        "        if ($myPB.hasClass('ui-progressbar')) {\n",
        "            $myPB.progressbar('value', 76140);\n",
        "        } else {\n",
        "            $myPB.progressbar({value: 0, max: 161907});\n",
        "        }\n",
        "        "
       ],
       "metadata": {},
       "output_type": "display_data",
       "text": [
        "<IPython.core.display.Javascript at 0x23afe7b8>"
       ]
      },
      {
       "javascript": [
        "$('div#da9654fb-4830-4e68-be36-db8173503fea').text('ETA:  0:00:05');"
       ],
       "metadata": {},
       "output_type": "display_data",
       "text": [
        "<IPython.core.display.Javascript at 0x23afe828>"
       ]
      },
      {
       "javascript": [
        "$('div#78e10271-c9e5-4bb5-bc9c-89f2ee40d532').text('77760 of 161907');"
       ],
       "metadata": {},
       "output_type": "display_data",
       "text": [
        "<IPython.core.display.Javascript at 0x23c9c6d8>"
       ]
      },
      {
       "javascript": [
        "$('div#0d735afb-70e5-410a-8e6d-f27391630208').text(' 48%');"
       ],
       "metadata": {},
       "output_type": "display_data",
       "text": [
        "<IPython.core.display.Javascript at 0x23c9c6d8>"
       ]
      },
      {
       "javascript": [
        "\n",
        "        var $myPB = $(\"div#d21d46d6-fb4d-4371-a1e0-709c08d19aa2\")\n",
        "        if ($myPB.hasClass('ui-progressbar')) {\n",
        "            $myPB.progressbar('value', 77760);\n",
        "        } else {\n",
        "            $myPB.progressbar({value: 0, max: 161907});\n",
        "        }\n",
        "        "
       ],
       "metadata": {},
       "output_type": "display_data",
       "text": [
        "<IPython.core.display.Javascript at 0x23c9c710>"
       ]
      },
      {
       "javascript": [
        "$('div#da9654fb-4830-4e68-be36-db8173503fea').text('ETA:  0:00:05');"
       ],
       "metadata": {},
       "output_type": "display_data",
       "text": [
        "<IPython.core.display.Javascript at 0x23c9c7f0>"
       ]
      },
      {
       "javascript": [
        "$('div#78e10271-c9e5-4bb5-bc9c-89f2ee40d532').text('79380 of 161907');"
       ],
       "metadata": {},
       "output_type": "display_data",
       "text": [
        "<IPython.core.display.Javascript at 0x23e235f8>"
       ]
      },
      {
       "javascript": [
        "$('div#0d735afb-70e5-410a-8e6d-f27391630208').text(' 49%');"
       ],
       "metadata": {},
       "output_type": "display_data",
       "text": [
        "<IPython.core.display.Javascript at 0x23e23630>"
       ]
      },
      {
       "javascript": [
        "\n",
        "        var $myPB = $(\"div#d21d46d6-fb4d-4371-a1e0-709c08d19aa2\")\n",
        "        if ($myPB.hasClass('ui-progressbar')) {\n",
        "            $myPB.progressbar('value', 79380);\n",
        "        } else {\n",
        "            $myPB.progressbar({value: 0, max: 161907});\n",
        "        }\n",
        "        "
       ],
       "metadata": {},
       "output_type": "display_data",
       "text": [
        "<IPython.core.display.Javascript at 0x23e236a0>"
       ]
      },
      {
       "javascript": [
        "$('div#da9654fb-4830-4e68-be36-db8173503fea').text('ETA:  0:00:05');"
       ],
       "metadata": {},
       "output_type": "display_data",
       "text": [
        "<IPython.core.display.Javascript at 0x23e23668>"
       ]
      },
      {
       "javascript": [
        "$('div#78e10271-c9e5-4bb5-bc9c-89f2ee40d532').text('81000 of 161907');"
       ],
       "metadata": {},
       "output_type": "display_data",
       "text": [
        "<IPython.core.display.Javascript at 0x23fc1c18>"
       ]
      },
      {
       "javascript": [
        "$('div#0d735afb-70e5-410a-8e6d-f27391630208').text(' 50%');"
       ],
       "metadata": {},
       "output_type": "display_data",
       "text": [
        "<IPython.core.display.Javascript at 0x23fc1c50>"
       ]
      },
      {
       "javascript": [
        "\n",
        "        var $myPB = $(\"div#d21d46d6-fb4d-4371-a1e0-709c08d19aa2\")\n",
        "        if ($myPB.hasClass('ui-progressbar')) {\n",
        "            $myPB.progressbar('value', 81000);\n",
        "        } else {\n",
        "            $myPB.progressbar({value: 0, max: 161907});\n",
        "        }\n",
        "        "
       ],
       "metadata": {},
       "output_type": "display_data",
       "text": [
        "<IPython.core.display.Javascript at 0x23fc1cc0>"
       ]
      },
      {
       "javascript": [
        "$('div#da9654fb-4830-4e68-be36-db8173503fea').text('ETA:  0:00:05');"
       ],
       "metadata": {},
       "output_type": "display_data",
       "text": [
        "<IPython.core.display.Javascript at 0x23fc1cc0>"
       ]
      },
      {
       "javascript": [
        "$('div#78e10271-c9e5-4bb5-bc9c-89f2ee40d532').text('82620 of 161907');"
       ],
       "metadata": {},
       "output_type": "display_data",
       "text": [
        "<IPython.core.display.Javascript at 0x241aefd0>"
       ]
      },
      {
       "javascript": [
        "$('div#0d735afb-70e5-410a-8e6d-f27391630208').text(' 51%');"
       ],
       "metadata": {},
       "output_type": "display_data",
       "text": [
        "<IPython.core.display.Javascript at 0x241da048>"
       ]
      },
      {
       "javascript": [
        "\n",
        "        var $myPB = $(\"div#d21d46d6-fb4d-4371-a1e0-709c08d19aa2\")\n",
        "        if ($myPB.hasClass('ui-progressbar')) {\n",
        "            $myPB.progressbar('value', 82620);\n",
        "        } else {\n",
        "            $myPB.progressbar({value: 0, max: 161907});\n",
        "        }\n",
        "        "
       ],
       "metadata": {},
       "output_type": "display_data",
       "text": [
        "<IPython.core.display.Javascript at 0x241aefd0>"
       ]
      },
      {
       "javascript": [
        "$('div#da9654fb-4830-4e68-be36-db8173503fea').text('ETA:  0:00:05');"
       ],
       "metadata": {},
       "output_type": "display_data",
       "text": [
        "<IPython.core.display.Javascript at 0x241da048>"
       ]
      },
      {
       "javascript": [
        "$('div#78e10271-c9e5-4bb5-bc9c-89f2ee40d532').text('84240 of 161907');"
       ],
       "metadata": {},
       "output_type": "display_data",
       "text": [
        "<IPython.core.display.Javascript at 0x243c6048>"
       ]
      },
      {
       "javascript": [
        "$('div#0d735afb-70e5-410a-8e6d-f27391630208').text(' 52%');"
       ],
       "metadata": {},
       "output_type": "display_data",
       "text": [
        "<IPython.core.display.Javascript at 0x243c6080>"
       ]
      },
      {
       "javascript": [
        "\n",
        "        var $myPB = $(\"div#d21d46d6-fb4d-4371-a1e0-709c08d19aa2\")\n",
        "        if ($myPB.hasClass('ui-progressbar')) {\n",
        "            $myPB.progressbar('value', 84240);\n",
        "        } else {\n",
        "            $myPB.progressbar({value: 0, max: 161907});\n",
        "        }\n",
        "        "
       ],
       "metadata": {},
       "output_type": "display_data",
       "text": [
        "<IPython.core.display.Javascript at 0x243c60f0>"
       ]
      },
      {
       "javascript": [
        "$('div#da9654fb-4830-4e68-be36-db8173503fea').text('ETA:  0:00:04');"
       ],
       "metadata": {},
       "output_type": "display_data",
       "text": [
        "<IPython.core.display.Javascript at 0x243c60b8>"
       ]
      },
      {
       "javascript": [
        "$('div#78e10271-c9e5-4bb5-bc9c-89f2ee40d532').text('85860 of 161907');"
       ],
       "metadata": {},
       "output_type": "display_data",
       "text": [
        "<IPython.core.display.Javascript at 0x24460e10>"
       ]
      },
      {
       "javascript": [
        "$('div#0d735afb-70e5-410a-8e6d-f27391630208').text(' 53%');"
       ],
       "metadata": {},
       "output_type": "display_data",
       "text": [
        "<IPython.core.display.Javascript at 0x24460e48>"
       ]
      },
      {
       "javascript": [
        "\n",
        "        var $myPB = $(\"div#d21d46d6-fb4d-4371-a1e0-709c08d19aa2\")\n",
        "        if ($myPB.hasClass('ui-progressbar')) {\n",
        "            $myPB.progressbar('value', 85860);\n",
        "        } else {\n",
        "            $myPB.progressbar({value: 0, max: 161907});\n",
        "        }\n",
        "        "
       ],
       "metadata": {},
       "output_type": "display_data",
       "text": [
        "<IPython.core.display.Javascript at 0x24460eb8>"
       ]
      },
      {
       "javascript": [
        "$('div#da9654fb-4830-4e68-be36-db8173503fea').text('ETA:  0:00:04');"
       ],
       "metadata": {},
       "output_type": "display_data",
       "text": [
        "<IPython.core.display.Javascript at 0x24460eb8>"
       ]
      },
      {
       "javascript": [
        "$('div#78e10271-c9e5-4bb5-bc9c-89f2ee40d532').text('87480 of 161907');"
       ],
       "metadata": {},
       "output_type": "display_data",
       "text": [
        "<IPython.core.display.Javascript at 0x24518ef0>"
       ]
      },
      {
       "javascript": [
        "$('div#0d735afb-70e5-410a-8e6d-f27391630208').text(' 54%');"
       ],
       "metadata": {},
       "output_type": "display_data",
       "text": [
        "<IPython.core.display.Javascript at 0x24518f28>"
       ]
      },
      {
       "javascript": [
        "\n",
        "        var $myPB = $(\"div#d21d46d6-fb4d-4371-a1e0-709c08d19aa2\")\n",
        "        if ($myPB.hasClass('ui-progressbar')) {\n",
        "            $myPB.progressbar('value', 87480);\n",
        "        } else {\n",
        "            $myPB.progressbar({value: 0, max: 161907});\n",
        "        }\n",
        "        "
       ],
       "metadata": {},
       "output_type": "display_data",
       "text": [
        "<IPython.core.display.Javascript at 0x24518f28>"
       ]
      },
      {
       "javascript": [
        "$('div#da9654fb-4830-4e68-be36-db8173503fea').text('ETA:  0:00:04');"
       ],
       "metadata": {},
       "output_type": "display_data",
       "text": [
        "<IPython.core.display.Javascript at 0x24518f98>"
       ]
      },
      {
       "javascript": [
        "$('div#78e10271-c9e5-4bb5-bc9c-89f2ee40d532').text('89100 of 161907');"
       ],
       "metadata": {},
       "output_type": "display_data",
       "text": [
        "<IPython.core.display.Javascript at 0x249666a0>"
       ]
      },
      {
       "javascript": [
        "$('div#0d735afb-70e5-410a-8e6d-f27391630208').text(' 55%');"
       ],
       "metadata": {},
       "output_type": "display_data",
       "text": [
        "<IPython.core.display.Javascript at 0x249666a0>"
       ]
      },
      {
       "javascript": [
        "\n",
        "        var $myPB = $(\"div#d21d46d6-fb4d-4371-a1e0-709c08d19aa2\")\n",
        "        if ($myPB.hasClass('ui-progressbar')) {\n",
        "            $myPB.progressbar('value', 89100);\n",
        "        } else {\n",
        "            $myPB.progressbar({value: 0, max: 161907});\n",
        "        }\n",
        "        "
       ],
       "metadata": {},
       "output_type": "display_data",
       "text": [
        "<IPython.core.display.Javascript at 0x249666d8>"
       ]
      },
      {
       "javascript": [
        "$('div#da9654fb-4830-4e68-be36-db8173503fea').text('ETA:  0:00:04');"
       ],
       "metadata": {},
       "output_type": "display_data",
       "text": [
        "<IPython.core.display.Javascript at 0x249667b8>"
       ]
      },
      {
       "javascript": [
        "$('div#78e10271-c9e5-4bb5-bc9c-89f2ee40d532').text('90720 of 161907');"
       ],
       "metadata": {},
       "output_type": "display_data",
       "text": [
        "<IPython.core.display.Javascript at 0x24cb0518>"
       ]
      },
      {
       "javascript": [
        "$('div#0d735afb-70e5-410a-8e6d-f27391630208').text(' 56%');"
       ],
       "metadata": {},
       "output_type": "display_data",
       "text": [
        "<IPython.core.display.Javascript at 0x24cb0550>"
       ]
      },
      {
       "javascript": [
        "\n",
        "        var $myPB = $(\"div#d21d46d6-fb4d-4371-a1e0-709c08d19aa2\")\n",
        "        if ($myPB.hasClass('ui-progressbar')) {\n",
        "            $myPB.progressbar('value', 90720);\n",
        "        } else {\n",
        "            $myPB.progressbar({value: 0, max: 161907});\n",
        "        }\n",
        "        "
       ],
       "metadata": {},
       "output_type": "display_data",
       "text": [
        "<IPython.core.display.Javascript at 0x24cb05c0>"
       ]
      },
      {
       "javascript": [
        "$('div#da9654fb-4830-4e68-be36-db8173503fea').text('ETA:  0:00:04');"
       ],
       "metadata": {},
       "output_type": "display_data",
       "text": [
        "<IPython.core.display.Javascript at 0x24cb0588>"
       ]
      },
      {
       "javascript": [
        "$('div#78e10271-c9e5-4bb5-bc9c-89f2ee40d532').text('92340 of 161907');"
       ],
       "metadata": {},
       "output_type": "display_data",
       "text": [
        "<IPython.core.display.Javascript at 0x24ed16d8>"
       ]
      },
      {
       "javascript": [
        "$('div#0d735afb-70e5-410a-8e6d-f27391630208').text(' 57%');"
       ],
       "metadata": {},
       "output_type": "display_data",
       "text": [
        "<IPython.core.display.Javascript at 0x24ed1710>"
       ]
      },
      {
       "javascript": [
        "\n",
        "        var $myPB = $(\"div#d21d46d6-fb4d-4371-a1e0-709c08d19aa2\")\n",
        "        if ($myPB.hasClass('ui-progressbar')) {\n",
        "            $myPB.progressbar('value', 92340);\n",
        "        } else {\n",
        "            $myPB.progressbar({value: 0, max: 161907});\n",
        "        }\n",
        "        "
       ],
       "metadata": {},
       "output_type": "display_data",
       "text": [
        "<IPython.core.display.Javascript at 0x24ed1780>"
       ]
      },
      {
       "javascript": [
        "$('div#da9654fb-4830-4e68-be36-db8173503fea').text('ETA:  0:00:04');"
       ],
       "metadata": {},
       "output_type": "display_data",
       "text": [
        "<IPython.core.display.Javascript at 0x24ed1780>"
       ]
      },
      {
       "javascript": [
        "$('div#78e10271-c9e5-4bb5-bc9c-89f2ee40d532').text('93960 of 161907');"
       ],
       "metadata": {},
       "output_type": "display_data",
       "text": [
        "<IPython.core.display.Javascript at 0x250e4c50>"
       ]
      },
      {
       "javascript": [
        "$('div#0d735afb-70e5-410a-8e6d-f27391630208').text(' 58%');"
       ],
       "metadata": {},
       "output_type": "display_data",
       "text": [
        "<IPython.core.display.Javascript at 0x250e4c88>"
       ]
      },
      {
       "javascript": [
        "\n",
        "        var $myPB = $(\"div#d21d46d6-fb4d-4371-a1e0-709c08d19aa2\")\n",
        "        if ($myPB.hasClass('ui-progressbar')) {\n",
        "            $myPB.progressbar('value', 93960);\n",
        "        } else {\n",
        "            $myPB.progressbar({value: 0, max: 161907});\n",
        "        }\n",
        "        "
       ],
       "metadata": {},
       "output_type": "display_data",
       "text": [
        "<IPython.core.display.Javascript at 0x250e4c88>"
       ]
      },
      {
       "javascript": [
        "$('div#da9654fb-4830-4e68-be36-db8173503fea').text('ETA:  0:00:04');"
       ],
       "metadata": {},
       "output_type": "display_data",
       "text": [
        "<IPython.core.display.Javascript at 0x250e4cf8>"
       ]
      },
      {
       "javascript": [
        "$('div#78e10271-c9e5-4bb5-bc9c-89f2ee40d532').text('95580 of 161907');"
       ],
       "metadata": {},
       "output_type": "display_data",
       "text": [
        "<IPython.core.display.Javascript at 0x25403a90>"
       ]
      },
      {
       "javascript": [
        "$('div#0d735afb-70e5-410a-8e6d-f27391630208').text(' 59%');"
       ],
       "metadata": {},
       "output_type": "display_data",
       "text": [
        "<IPython.core.display.Javascript at 0x25403ac8>"
       ]
      },
      {
       "javascript": [
        "\n",
        "        var $myPB = $(\"div#d21d46d6-fb4d-4371-a1e0-709c08d19aa2\")\n",
        "        if ($myPB.hasClass('ui-progressbar')) {\n",
        "            $myPB.progressbar('value', 95580);\n",
        "        } else {\n",
        "            $myPB.progressbar({value: 0, max: 161907});\n",
        "        }\n",
        "        "
       ],
       "metadata": {},
       "output_type": "display_data",
       "text": [
        "<IPython.core.display.Javascript at 0x25403b38>"
       ]
      },
      {
       "javascript": [
        "$('div#da9654fb-4830-4e68-be36-db8173503fea').text('ETA:  0:00:04');"
       ],
       "metadata": {},
       "output_type": "display_data",
       "text": [
        "<IPython.core.display.Javascript at 0x25403b00>"
       ]
      },
      {
       "javascript": [
        "$('div#78e10271-c9e5-4bb5-bc9c-89f2ee40d532').text('97200 of 161907');"
       ],
       "metadata": {},
       "output_type": "display_data",
       "text": [
        "<IPython.core.display.Javascript at 0x255984a8>"
       ]
      },
      {
       "javascript": [
        "$('div#0d735afb-70e5-410a-8e6d-f27391630208').text(' 60%');"
       ],
       "metadata": {},
       "output_type": "display_data",
       "text": [
        "<IPython.core.display.Javascript at 0x255984e0>"
       ]
      },
      {
       "javascript": [
        "\n",
        "        var $myPB = $(\"div#d21d46d6-fb4d-4371-a1e0-709c08d19aa2\")\n",
        "        if ($myPB.hasClass('ui-progressbar')) {\n",
        "            $myPB.progressbar('value', 97200);\n",
        "        } else {\n",
        "            $myPB.progressbar({value: 0, max: 161907});\n",
        "        }\n",
        "        "
       ],
       "metadata": {},
       "output_type": "display_data",
       "text": [
        "<IPython.core.display.Javascript at 0x25598550>"
       ]
      },
      {
       "javascript": [
        "$('div#da9654fb-4830-4e68-be36-db8173503fea').text('ETA:  0:00:04');"
       ],
       "metadata": {},
       "output_type": "display_data",
       "text": [
        "<IPython.core.display.Javascript at 0x25598550>"
       ]
      },
      {
       "javascript": [
        "$('div#78e10271-c9e5-4bb5-bc9c-89f2ee40d532').text('98820 of 161907');"
       ],
       "metadata": {},
       "output_type": "display_data",
       "text": [
        "<IPython.core.display.Javascript at 0x256f7cf8>"
       ]
      },
      {
       "javascript": [
        "$('div#0d735afb-70e5-410a-8e6d-f27391630208').text(' 61%');"
       ],
       "metadata": {},
       "output_type": "display_data",
       "text": [
        "<IPython.core.display.Javascript at 0x256f7d30>"
       ]
      },
      {
       "javascript": [
        "\n",
        "        var $myPB = $(\"div#d21d46d6-fb4d-4371-a1e0-709c08d19aa2\")\n",
        "        if ($myPB.hasClass('ui-progressbar')) {\n",
        "            $myPB.progressbar('value', 98820);\n",
        "        } else {\n",
        "            $myPB.progressbar({value: 0, max: 161907});\n",
        "        }\n",
        "        "
       ],
       "metadata": {},
       "output_type": "display_data",
       "text": [
        "<IPython.core.display.Javascript at 0x256f7d30>"
       ]
      },
      {
       "javascript": [
        "$('div#da9654fb-4830-4e68-be36-db8173503fea').text('ETA:  0:00:04');"
       ],
       "metadata": {},
       "output_type": "display_data",
       "text": [
        "<IPython.core.display.Javascript at 0x256f7da0>"
       ]
      },
      {
       "javascript": [
        "$('div#78e10271-c9e5-4bb5-bc9c-89f2ee40d532').text('100440 of 161907');"
       ],
       "metadata": {},
       "output_type": "display_data",
       "text": [
        "<IPython.core.display.Javascript at 0x25a6ca90>"
       ]
      },
      {
       "javascript": [
        "$('div#0d735afb-70e5-410a-8e6d-f27391630208').text(' 62%');"
       ],
       "metadata": {},
       "output_type": "display_data",
       "text": [
        "<IPython.core.display.Javascript at 0x25a6ca90>"
       ]
      },
      {
       "javascript": [
        "\n",
        "        var $myPB = $(\"div#d21d46d6-fb4d-4371-a1e0-709c08d19aa2\")\n",
        "        if ($myPB.hasClass('ui-progressbar')) {\n",
        "            $myPB.progressbar('value', 100440);\n",
        "        } else {\n",
        "            $myPB.progressbar({value: 0, max: 161907});\n",
        "        }\n",
        "        "
       ],
       "metadata": {},
       "output_type": "display_data",
       "text": [
        "<IPython.core.display.Javascript at 0x25a6cac8>"
       ]
      },
      {
       "javascript": [
        "$('div#da9654fb-4830-4e68-be36-db8173503fea').text('ETA:  0:00:03');"
       ],
       "metadata": {},
       "output_type": "display_data",
       "text": [
        "<IPython.core.display.Javascript at 0x25a6cba8>"
       ]
      },
      {
       "javascript": [
        "$('div#78e10271-c9e5-4bb5-bc9c-89f2ee40d532').text('102060 of 161907');"
       ],
       "metadata": {},
       "output_type": "display_data",
       "text": [
        "<IPython.core.display.Javascript at 0x25d24518>"
       ]
      },
      {
       "javascript": [
        "$('div#0d735afb-70e5-410a-8e6d-f27391630208').text(' 63%');"
       ],
       "metadata": {},
       "output_type": "display_data",
       "text": [
        "<IPython.core.display.Javascript at 0x25d24550>"
       ]
      },
      {
       "javascript": [
        "\n",
        "        var $myPB = $(\"div#d21d46d6-fb4d-4371-a1e0-709c08d19aa2\")\n",
        "        if ($myPB.hasClass('ui-progressbar')) {\n",
        "            $myPB.progressbar('value', 102060);\n",
        "        } else {\n",
        "            $myPB.progressbar({value: 0, max: 161907});\n",
        "        }\n",
        "        "
       ],
       "metadata": {},
       "output_type": "display_data",
       "text": [
        "<IPython.core.display.Javascript at 0x25d245c0>"
       ]
      },
      {
       "javascript": [
        "$('div#da9654fb-4830-4e68-be36-db8173503fea').text('ETA:  0:00:03');"
       ],
       "metadata": {},
       "output_type": "display_data",
       "text": [
        "<IPython.core.display.Javascript at 0x25d24588>"
       ]
      },
      {
       "javascript": [
        "$('div#78e10271-c9e5-4bb5-bc9c-89f2ee40d532').text('103680 of 161907');"
       ],
       "metadata": {},
       "output_type": "display_data",
       "text": [
        "<IPython.core.display.Javascript at 0x24e3f5f8>"
       ]
      },
      {
       "javascript": [
        "$('div#0d735afb-70e5-410a-8e6d-f27391630208').text(' 64%');"
       ],
       "metadata": {},
       "output_type": "display_data",
       "text": [
        "<IPython.core.display.Javascript at 0x24e3f630>"
       ]
      },
      {
       "javascript": [
        "\n",
        "        var $myPB = $(\"div#d21d46d6-fb4d-4371-a1e0-709c08d19aa2\")\n",
        "        if ($myPB.hasClass('ui-progressbar')) {\n",
        "            $myPB.progressbar('value', 103680);\n",
        "        } else {\n",
        "            $myPB.progressbar({value: 0, max: 161907});\n",
        "        }\n",
        "        "
       ],
       "metadata": {},
       "output_type": "display_data",
       "text": [
        "<IPython.core.display.Javascript at 0x24e3f6a0>"
       ]
      },
      {
       "javascript": [
        "$('div#da9654fb-4830-4e68-be36-db8173503fea').text('ETA:  0:00:03');"
       ],
       "metadata": {},
       "output_type": "display_data",
       "text": [
        "<IPython.core.display.Javascript at 0x24e3f6a0>"
       ]
      },
      {
       "javascript": [
        "$('div#78e10271-c9e5-4bb5-bc9c-89f2ee40d532').text('105300 of 161907');"
       ],
       "metadata": {},
       "output_type": "display_data",
       "text": [
        "<IPython.core.display.Javascript at 0x26054160>"
       ]
      },
      {
       "javascript": [
        "$('div#0d735afb-70e5-410a-8e6d-f27391630208').text(' 65%');"
       ],
       "metadata": {},
       "output_type": "display_data",
       "text": [
        "<IPython.core.display.Javascript at 0x26054198>"
       ]
      },
      {
       "javascript": [
        "\n",
        "        var $myPB = $(\"div#d21d46d6-fb4d-4371-a1e0-709c08d19aa2\")\n",
        "        if ($myPB.hasClass('ui-progressbar')) {\n",
        "            $myPB.progressbar('value', 105300);\n",
        "        } else {\n",
        "            $myPB.progressbar({value: 0, max: 161907});\n",
        "        }\n",
        "        "
       ],
       "metadata": {},
       "output_type": "display_data",
       "text": [
        "<IPython.core.display.Javascript at 0x26054198>"
       ]
      },
      {
       "javascript": [
        "$('div#da9654fb-4830-4e68-be36-db8173503fea').text('ETA:  0:00:03');"
       ],
       "metadata": {},
       "output_type": "display_data",
       "text": [
        "<IPython.core.display.Javascript at 0x26054208>"
       ]
      },
      {
       "javascript": [
        "$('div#78e10271-c9e5-4bb5-bc9c-89f2ee40d532').text('106920 of 161907');"
       ],
       "metadata": {},
       "output_type": "display_data",
       "text": [
        "<IPython.core.display.Javascript at 0x261958d0>"
       ]
      },
      {
       "javascript": [
        "$('div#0d735afb-70e5-410a-8e6d-f27391630208').text(' 66%');"
       ],
       "metadata": {},
       "output_type": "display_data",
       "text": [
        "<IPython.core.display.Javascript at 0x261958d0>"
       ]
      },
      {
       "javascript": [
        "\n",
        "        var $myPB = $(\"div#d21d46d6-fb4d-4371-a1e0-709c08d19aa2\")\n",
        "        if ($myPB.hasClass('ui-progressbar')) {\n",
        "            $myPB.progressbar('value', 106920);\n",
        "        } else {\n",
        "            $myPB.progressbar({value: 0, max: 161907});\n",
        "        }\n",
        "        "
       ],
       "metadata": {},
       "output_type": "display_data",
       "text": [
        "<IPython.core.display.Javascript at 0x26195908>"
       ]
      },
      {
       "javascript": [
        "$('div#da9654fb-4830-4e68-be36-db8173503fea').text('ETA:  0:00:03');"
       ],
       "metadata": {},
       "output_type": "display_data",
       "text": [
        "<IPython.core.display.Javascript at 0x261959e8>"
       ]
      },
      {
       "javascript": [
        "$('div#78e10271-c9e5-4bb5-bc9c-89f2ee40d532').text('108540 of 161907');"
       ],
       "metadata": {},
       "output_type": "display_data",
       "text": [
        "<IPython.core.display.Javascript at 0x2641eef0>"
       ]
      },
      {
       "javascript": [
        "$('div#0d735afb-70e5-410a-8e6d-f27391630208').text(' 67%');"
       ],
       "metadata": {},
       "output_type": "display_data",
       "text": [
        "<IPython.core.display.Javascript at 0x2641ef28>"
       ]
      },
      {
       "javascript": [
        "\n",
        "        var $myPB = $(\"div#d21d46d6-fb4d-4371-a1e0-709c08d19aa2\")\n",
        "        if ($myPB.hasClass('ui-progressbar')) {\n",
        "            $myPB.progressbar('value', 108540);\n",
        "        } else {\n",
        "            $myPB.progressbar({value: 0, max: 161907});\n",
        "        }\n",
        "        "
       ],
       "metadata": {},
       "output_type": "display_data",
       "text": [
        "<IPython.core.display.Javascript at 0x2641ef98>"
       ]
      },
      {
       "javascript": [
        "$('div#da9654fb-4830-4e68-be36-db8173503fea').text('ETA:  0:00:03');"
       ],
       "metadata": {},
       "output_type": "display_data",
       "text": [
        "<IPython.core.display.Javascript at 0x2641ef98>"
       ]
      },
      {
       "javascript": [
        "$('div#78e10271-c9e5-4bb5-bc9c-89f2ee40d532').text('110160 of 161907');"
       ],
       "metadata": {},
       "output_type": "display_data",
       "text": [
        "<IPython.core.display.Javascript at 0x26748d30>"
       ]
      },
      {
       "javascript": [
        "$('div#0d735afb-70e5-410a-8e6d-f27391630208').text(' 68%');"
       ],
       "metadata": {},
       "output_type": "display_data",
       "text": [
        "<IPython.core.display.Javascript at 0x26748d68>"
       ]
      },
      {
       "javascript": [
        "\n",
        "        var $myPB = $(\"div#d21d46d6-fb4d-4371-a1e0-709c08d19aa2\")\n",
        "        if ($myPB.hasClass('ui-progressbar')) {\n",
        "            $myPB.progressbar('value', 110160);\n",
        "        } else {\n",
        "            $myPB.progressbar({value: 0, max: 161907});\n",
        "        }\n",
        "        "
       ],
       "metadata": {},
       "output_type": "display_data",
       "text": [
        "<IPython.core.display.Javascript at 0x26748d68>"
       ]
      },
      {
       "javascript": [
        "$('div#da9654fb-4830-4e68-be36-db8173503fea').text('ETA:  0:00:03');"
       ],
       "metadata": {},
       "output_type": "display_data",
       "text": [
        "<IPython.core.display.Javascript at 0x26748dd8>"
       ]
      },
      {
       "javascript": [
        "$('div#78e10271-c9e5-4bb5-bc9c-89f2ee40d532').text('111780 of 161907');"
       ],
       "metadata": {},
       "output_type": "display_data",
       "text": [
        "<IPython.core.display.Javascript at 0x26942550>"
       ]
      },
      {
       "javascript": [
        "$('div#0d735afb-70e5-410a-8e6d-f27391630208').text(' 69%');"
       ],
       "metadata": {},
       "output_type": "display_data",
       "text": [
        "<IPython.core.display.Javascript at 0x26942550>"
       ]
      },
      {
       "javascript": [
        "\n",
        "        var $myPB = $(\"div#d21d46d6-fb4d-4371-a1e0-709c08d19aa2\")\n",
        "        if ($myPB.hasClass('ui-progressbar')) {\n",
        "            $myPB.progressbar('value', 111780);\n",
        "        } else {\n",
        "            $myPB.progressbar({value: 0, max: 161907});\n",
        "        }\n",
        "        "
       ],
       "metadata": {},
       "output_type": "display_data",
       "text": [
        "<IPython.core.display.Javascript at 0x26942588>"
       ]
      },
      {
       "javascript": [
        "$('div#da9654fb-4830-4e68-be36-db8173503fea').text('ETA:  0:00:03');"
       ],
       "metadata": {},
       "output_type": "display_data",
       "text": [
        "<IPython.core.display.Javascript at 0x26942668>"
       ]
      },
      {
       "javascript": [
        "$('div#78e10271-c9e5-4bb5-bc9c-89f2ee40d532').text('113400 of 161907');"
       ],
       "metadata": {},
       "output_type": "display_data",
       "text": [
        "<IPython.core.display.Javascript at 0x26b5d710>"
       ]
      },
      {
       "javascript": [
        "$('div#0d735afb-70e5-410a-8e6d-f27391630208').text(' 70%');"
       ],
       "metadata": {},
       "output_type": "display_data",
       "text": [
        "<IPython.core.display.Javascript at 0x26b5d748>"
       ]
      },
      {
       "javascript": [
        "\n",
        "        var $myPB = $(\"div#d21d46d6-fb4d-4371-a1e0-709c08d19aa2\")\n",
        "        if ($myPB.hasClass('ui-progressbar')) {\n",
        "            $myPB.progressbar('value', 113400);\n",
        "        } else {\n",
        "            $myPB.progressbar({value: 0, max: 161907});\n",
        "        }\n",
        "        "
       ],
       "metadata": {},
       "output_type": "display_data",
       "text": [
        "<IPython.core.display.Javascript at 0x26b5d7b8>"
       ]
      },
      {
       "javascript": [
        "$('div#da9654fb-4830-4e68-be36-db8173503fea').text('ETA:  0:00:03');"
       ],
       "metadata": {},
       "output_type": "display_data",
       "text": [
        "<IPython.core.display.Javascript at 0x26b5d780>"
       ]
      },
      {
       "javascript": [
        "$('div#78e10271-c9e5-4bb5-bc9c-89f2ee40d532').text('115020 of 161907');"
       ],
       "metadata": {},
       "output_type": "display_data",
       "text": [
        "<IPython.core.display.Javascript at 0x26d30320>"
       ]
      },
      {
       "javascript": [
        "$('div#0d735afb-70e5-410a-8e6d-f27391630208').text(' 71%');"
       ],
       "metadata": {},
       "output_type": "display_data",
       "text": [
        "<IPython.core.display.Javascript at 0x26d30358>"
       ]
      },
      {
       "javascript": [
        "\n",
        "        var $myPB = $(\"div#d21d46d6-fb4d-4371-a1e0-709c08d19aa2\")\n",
        "        if ($myPB.hasClass('ui-progressbar')) {\n",
        "            $myPB.progressbar('value', 115020);\n",
        "        } else {\n",
        "            $myPB.progressbar({value: 0, max: 161907});\n",
        "        }\n",
        "        "
       ],
       "metadata": {},
       "output_type": "display_data",
       "text": [
        "<IPython.core.display.Javascript at 0x26d303c8>"
       ]
      },
      {
       "javascript": [
        "$('div#da9654fb-4830-4e68-be36-db8173503fea').text('ETA:  0:00:02');"
       ],
       "metadata": {},
       "output_type": "display_data",
       "text": [
        "<IPython.core.display.Javascript at 0x26d303c8>"
       ]
      },
      {
       "javascript": [
        "$('div#78e10271-c9e5-4bb5-bc9c-89f2ee40d532').text('116640 of 161907');"
       ],
       "metadata": {},
       "output_type": "display_data",
       "text": [
        "<IPython.core.display.Javascript at 0x25ec7cc0>"
       ]
      },
      {
       "javascript": [
        "$('div#0d735afb-70e5-410a-8e6d-f27391630208').text(' 72%');"
       ],
       "metadata": {},
       "output_type": "display_data",
       "text": [
        "<IPython.core.display.Javascript at 0x25ec7cf8>"
       ]
      },
      {
       "javascript": [
        "\n",
        "        var $myPB = $(\"div#d21d46d6-fb4d-4371-a1e0-709c08d19aa2\")\n",
        "        if ($myPB.hasClass('ui-progressbar')) {\n",
        "            $myPB.progressbar('value', 116640);\n",
        "        } else {\n",
        "            $myPB.progressbar({value: 0, max: 161907});\n",
        "        }\n",
        "        "
       ],
       "metadata": {},
       "output_type": "display_data",
       "text": [
        "<IPython.core.display.Javascript at 0x25ec7cf8>"
       ]
      },
      {
       "javascript": [
        "$('div#da9654fb-4830-4e68-be36-db8173503fea').text('ETA:  0:00:02');"
       ],
       "metadata": {},
       "output_type": "display_data",
       "text": [
        "<IPython.core.display.Javascript at 0x25ec7d68>"
       ]
      },
      {
       "javascript": [
        "$('div#78e10271-c9e5-4bb5-bc9c-89f2ee40d532').text('118260 of 161907');"
       ],
       "metadata": {},
       "output_type": "display_data",
       "text": [
        "<IPython.core.display.Javascript at 0x2712c908>"
       ]
      },
      {
       "javascript": [
        "$('div#0d735afb-70e5-410a-8e6d-f27391630208').text(' 73%');"
       ],
       "metadata": {},
       "output_type": "display_data",
       "text": [
        "<IPython.core.display.Javascript at 0x2712c908>"
       ]
      },
      {
       "javascript": [
        "\n",
        "        var $myPB = $(\"div#d21d46d6-fb4d-4371-a1e0-709c08d19aa2\")\n",
        "        if ($myPB.hasClass('ui-progressbar')) {\n",
        "            $myPB.progressbar('value', 118260);\n",
        "        } else {\n",
        "            $myPB.progressbar({value: 0, max: 161907});\n",
        "        }\n",
        "        "
       ],
       "metadata": {},
       "output_type": "display_data",
       "text": [
        "<IPython.core.display.Javascript at 0x2712c940>"
       ]
      },
      {
       "javascript": [
        "$('div#da9654fb-4830-4e68-be36-db8173503fea').text('ETA:  0:00:02');"
       ],
       "metadata": {},
       "output_type": "display_data",
       "text": [
        "<IPython.core.display.Javascript at 0x2712ca20>"
       ]
      },
      {
       "javascript": [
        "$('div#78e10271-c9e5-4bb5-bc9c-89f2ee40d532').text('119880 of 161907');"
       ],
       "metadata": {},
       "output_type": "display_data",
       "text": [
        "<IPython.core.display.Javascript at 0x27278e10>"
       ]
      },
      {
       "javascript": [
        "$('div#0d735afb-70e5-410a-8e6d-f27391630208').text(' 74%');"
       ],
       "metadata": {},
       "output_type": "display_data",
       "text": [
        "<IPython.core.display.Javascript at 0x27278e48>"
       ]
      },
      {
       "javascript": [
        "\n",
        "        var $myPB = $(\"div#d21d46d6-fb4d-4371-a1e0-709c08d19aa2\")\n",
        "        if ($myPB.hasClass('ui-progressbar')) {\n",
        "            $myPB.progressbar('value', 119880);\n",
        "        } else {\n",
        "            $myPB.progressbar({value: 0, max: 161907});\n",
        "        }\n",
        "        "
       ],
       "metadata": {},
       "output_type": "display_data",
       "text": [
        "<IPython.core.display.Javascript at 0x27278eb8>"
       ]
      },
      {
       "javascript": [
        "$('div#da9654fb-4830-4e68-be36-db8173503fea').text('ETA:  0:00:02');"
       ],
       "metadata": {},
       "output_type": "display_data",
       "text": [
        "<IPython.core.display.Javascript at 0x27278e80>"
       ]
      },
      {
       "javascript": [
        "$('div#78e10271-c9e5-4bb5-bc9c-89f2ee40d532').text('121500 of 161907');"
       ],
       "metadata": {},
       "output_type": "display_data",
       "text": [
        "<IPython.core.display.Javascript at 0x27643b00>"
       ]
      },
      {
       "javascript": [
        "$('div#0d735afb-70e5-410a-8e6d-f27391630208').text(' 75%');"
       ],
       "metadata": {},
       "output_type": "display_data",
       "text": [
        "<IPython.core.display.Javascript at 0x27643b38>"
       ]
      },
      {
       "javascript": [
        "\n",
        "        var $myPB = $(\"div#d21d46d6-fb4d-4371-a1e0-709c08d19aa2\")\n",
        "        if ($myPB.hasClass('ui-progressbar')) {\n",
        "            $myPB.progressbar('value', 121500);\n",
        "        } else {\n",
        "            $myPB.progressbar({value: 0, max: 161907});\n",
        "        }\n",
        "        "
       ],
       "metadata": {},
       "output_type": "display_data",
       "text": [
        "<IPython.core.display.Javascript at 0x27643b38>"
       ]
      },
      {
       "javascript": [
        "$('div#da9654fb-4830-4e68-be36-db8173503fea').text('ETA:  0:00:02');"
       ],
       "metadata": {},
       "output_type": "display_data",
       "text": [
        "<IPython.core.display.Javascript at 0x27643ba8>"
       ]
      },
      {
       "javascript": [
        "$('div#78e10271-c9e5-4bb5-bc9c-89f2ee40d532').text('123120 of 161907');"
       ],
       "metadata": {},
       "output_type": "display_data",
       "text": [
        "<IPython.core.display.Javascript at 0x2782ba90>"
       ]
      },
      {
       "javascript": [
        "$('div#0d735afb-70e5-410a-8e6d-f27391630208').text(' 76%');"
       ],
       "metadata": {},
       "output_type": "display_data",
       "text": [
        "<IPython.core.display.Javascript at 0x2782ba90>"
       ]
      },
      {
       "javascript": [
        "\n",
        "        var $myPB = $(\"div#d21d46d6-fb4d-4371-a1e0-709c08d19aa2\")\n",
        "        if ($myPB.hasClass('ui-progressbar')) {\n",
        "            $myPB.progressbar('value', 123120);\n",
        "        } else {\n",
        "            $myPB.progressbar({value: 0, max: 161907});\n",
        "        }\n",
        "        "
       ],
       "metadata": {},
       "output_type": "display_data",
       "text": [
        "<IPython.core.display.Javascript at 0x2782bac8>"
       ]
      },
      {
       "javascript": [
        "$('div#da9654fb-4830-4e68-be36-db8173503fea').text('ETA:  0:00:02');"
       ],
       "metadata": {},
       "output_type": "display_data",
       "text": [
        "<IPython.core.display.Javascript at 0x2782bba8>"
       ]
      },
      {
       "javascript": [
        "$('div#78e10271-c9e5-4bb5-bc9c-89f2ee40d532').text('124740 of 161907');"
       ],
       "metadata": {},
       "output_type": "display_data",
       "text": [
        "<IPython.core.display.Javascript at 0x27a44908>"
       ]
      },
      {
       "javascript": [
        "$('div#0d735afb-70e5-410a-8e6d-f27391630208').text(' 77%');"
       ],
       "metadata": {},
       "output_type": "display_data",
       "text": [
        "<IPython.core.display.Javascript at 0x27a44940>"
       ]
      },
      {
       "javascript": [
        "\n",
        "        var $myPB = $(\"div#d21d46d6-fb4d-4371-a1e0-709c08d19aa2\")\n",
        "        if ($myPB.hasClass('ui-progressbar')) {\n",
        "            $myPB.progressbar('value', 124740);\n",
        "        } else {\n",
        "            $myPB.progressbar({value: 0, max: 161907});\n",
        "        }\n",
        "        "
       ],
       "metadata": {},
       "output_type": "display_data",
       "text": [
        "<IPython.core.display.Javascript at 0x27a449b0>"
       ]
      },
      {
       "javascript": [
        "$('div#da9654fb-4830-4e68-be36-db8173503fea').text('ETA:  0:00:02');"
       ],
       "metadata": {},
       "output_type": "display_data",
       "text": [
        "<IPython.core.display.Javascript at 0x27a44978>"
       ]
      },
      {
       "javascript": [
        "$('div#78e10271-c9e5-4bb5-bc9c-89f2ee40d532').text('126360 of 161907');"
       ],
       "metadata": {},
       "output_type": "display_data",
       "text": [
        "<IPython.core.display.Javascript at 0x27cdaac8>"
       ]
      },
      {
       "javascript": [
        "$('div#0d735afb-70e5-410a-8e6d-f27391630208').text(' 78%');"
       ],
       "metadata": {},
       "output_type": "display_data",
       "text": [
        "<IPython.core.display.Javascript at 0x27cdab00>"
       ]
      },
      {
       "javascript": [
        "\n",
        "        var $myPB = $(\"div#d21d46d6-fb4d-4371-a1e0-709c08d19aa2\")\n",
        "        if ($myPB.hasClass('ui-progressbar')) {\n",
        "            $myPB.progressbar('value', 126360);\n",
        "        } else {\n",
        "            $myPB.progressbar({value: 0, max: 161907});\n",
        "        }\n",
        "        "
       ],
       "metadata": {},
       "output_type": "display_data",
       "text": [
        "<IPython.core.display.Javascript at 0x27cdab70>"
       ]
      },
      {
       "javascript": [
        "$('div#da9654fb-4830-4e68-be36-db8173503fea').text('ETA:  0:00:02');"
       ],
       "metadata": {},
       "output_type": "display_data",
       "text": [
        "<IPython.core.display.Javascript at 0x27cdab70>"
       ]
      },
      {
       "javascript": [
        "$('div#78e10271-c9e5-4bb5-bc9c-89f2ee40d532').text('127980 of 161907');"
       ],
       "metadata": {},
       "output_type": "display_data",
       "text": [
        "<IPython.core.display.Javascript at 0x27f1d080>"
       ]
      },
      {
       "javascript": [
        "$('div#0d735afb-70e5-410a-8e6d-f27391630208').text(' 79%');"
       ],
       "metadata": {},
       "output_type": "display_data",
       "text": [
        "<IPython.core.display.Javascript at 0x27f1d0b8>"
       ]
      },
      {
       "javascript": [
        "\n",
        "        var $myPB = $(\"div#d21d46d6-fb4d-4371-a1e0-709c08d19aa2\")\n",
        "        if ($myPB.hasClass('ui-progressbar')) {\n",
        "            $myPB.progressbar('value', 127980);\n",
        "        } else {\n",
        "            $myPB.progressbar({value: 0, max: 161907});\n",
        "        }\n",
        "        "
       ],
       "metadata": {},
       "output_type": "display_data",
       "text": [
        "<IPython.core.display.Javascript at 0x27f1d0b8>"
       ]
      },
      {
       "javascript": [
        "$('div#da9654fb-4830-4e68-be36-db8173503fea').text('ETA:  0:00:02');"
       ],
       "metadata": {},
       "output_type": "display_data",
       "text": [
        "<IPython.core.display.Javascript at 0x27f1d128>"
       ]
      },
      {
       "javascript": [
        "$('div#78e10271-c9e5-4bb5-bc9c-89f2ee40d532').text('129600 of 161907');"
       ],
       "metadata": {},
       "output_type": "display_data",
       "text": [
        "<IPython.core.display.Javascript at 0x28129550>"
       ]
      },
      {
       "javascript": [
        "$('div#0d735afb-70e5-410a-8e6d-f27391630208').text(' 80%');"
       ],
       "metadata": {},
       "output_type": "display_data",
       "text": [
        "<IPython.core.display.Javascript at 0x28129550>"
       ]
      },
      {
       "javascript": [
        "\n",
        "        var $myPB = $(\"div#d21d46d6-fb4d-4371-a1e0-709c08d19aa2\")\n",
        "        if ($myPB.hasClass('ui-progressbar')) {\n",
        "            $myPB.progressbar('value', 129600);\n",
        "        } else {\n",
        "            $myPB.progressbar({value: 0, max: 161907});\n",
        "        }\n",
        "        "
       ],
       "metadata": {},
       "output_type": "display_data",
       "text": [
        "<IPython.core.display.Javascript at 0x28129588>"
       ]
      },
      {
       "javascript": [
        "$('div#da9654fb-4830-4e68-be36-db8173503fea').text('ETA:  0:00:02');"
       ],
       "metadata": {},
       "output_type": "display_data",
       "text": [
        "<IPython.core.display.Javascript at 0x28129668>"
       ]
      },
      {
       "javascript": [
        "$('div#78e10271-c9e5-4bb5-bc9c-89f2ee40d532').text('131220 of 161907');"
       ],
       "metadata": {},
       "output_type": "display_data",
       "text": [
        "<IPython.core.display.Javascript at 0x283a84e0>"
       ]
      },
      {
       "javascript": [
        "$('div#0d735afb-70e5-410a-8e6d-f27391630208').text(' 81%');"
       ],
       "metadata": {},
       "output_type": "display_data",
       "text": [
        "<IPython.core.display.Javascript at 0x283a8518>"
       ]
      },
      {
       "javascript": [
        "\n",
        "        var $myPB = $(\"div#d21d46d6-fb4d-4371-a1e0-709c08d19aa2\")\n",
        "        if ($myPB.hasClass('ui-progressbar')) {\n",
        "            $myPB.progressbar('value', 131220);\n",
        "        } else {\n",
        "            $myPB.progressbar({value: 0, max: 161907});\n",
        "        }\n",
        "        "
       ],
       "metadata": {},
       "output_type": "display_data",
       "text": [
        "<IPython.core.display.Javascript at 0x283a8588>"
       ]
      },
      {
       "javascript": [
        "$('div#da9654fb-4830-4e68-be36-db8173503fea').text('ETA:  0:00:01');"
       ],
       "metadata": {},
       "output_type": "display_data",
       "text": [
        "<IPython.core.display.Javascript at 0x283a8550>"
       ]
      },
      {
       "javascript": [
        "$('div#78e10271-c9e5-4bb5-bc9c-89f2ee40d532').text('132840 of 161907');"
       ],
       "metadata": {},
       "output_type": "display_data",
       "text": [
        "<IPython.core.display.Javascript at 0x284feb38>"
       ]
      },
      {
       "javascript": [
        "$('div#0d735afb-70e5-410a-8e6d-f27391630208').text(' 82%');"
       ],
       "metadata": {},
       "output_type": "display_data",
       "text": [
        "<IPython.core.display.Javascript at 0x284feb70>"
       ]
      },
      {
       "javascript": [
        "\n",
        "        var $myPB = $(\"div#d21d46d6-fb4d-4371-a1e0-709c08d19aa2\")\n",
        "        if ($myPB.hasClass('ui-progressbar')) {\n",
        "            $myPB.progressbar('value', 132840);\n",
        "        } else {\n",
        "            $myPB.progressbar({value: 0, max: 161907});\n",
        "        }\n",
        "        "
       ],
       "metadata": {},
       "output_type": "display_data",
       "text": [
        "<IPython.core.display.Javascript at 0x284feb70>"
       ]
      },
      {
       "javascript": [
        "$('div#da9654fb-4830-4e68-be36-db8173503fea').text('ETA:  0:00:01');"
       ],
       "metadata": {},
       "output_type": "display_data",
       "text": [
        "<IPython.core.display.Javascript at 0x284febe0>"
       ]
      },
      {
       "javascript": [
        "$('div#78e10271-c9e5-4bb5-bc9c-89f2ee40d532').text('134460 of 161907');"
       ],
       "metadata": {},
       "output_type": "display_data",
       "text": [
        "<IPython.core.display.Javascript at 0x288823c8>"
       ]
      },
      {
       "javascript": [
        "$('div#0d735afb-70e5-410a-8e6d-f27391630208').text(' 83%');"
       ],
       "metadata": {},
       "output_type": "display_data",
       "text": [
        "<IPython.core.display.Javascript at 0x288823c8>"
       ]
      },
      {
       "javascript": [
        "\n",
        "        var $myPB = $(\"div#d21d46d6-fb4d-4371-a1e0-709c08d19aa2\")\n",
        "        if ($myPB.hasClass('ui-progressbar')) {\n",
        "            $myPB.progressbar('value', 134460);\n",
        "        } else {\n",
        "            $myPB.progressbar({value: 0, max: 161907});\n",
        "        }\n",
        "        "
       ],
       "metadata": {},
       "output_type": "display_data",
       "text": [
        "<IPython.core.display.Javascript at 0x28882400>"
       ]
      },
      {
       "javascript": [
        "$('div#da9654fb-4830-4e68-be36-db8173503fea').text('ETA:  0:00:01');"
       ],
       "metadata": {},
       "output_type": "display_data",
       "text": [
        "<IPython.core.display.Javascript at 0x288825c0>"
       ]
      },
      {
       "javascript": [
        "$('div#78e10271-c9e5-4bb5-bc9c-89f2ee40d532').text('136080 of 161907');"
       ],
       "metadata": {},
       "output_type": "display_data",
       "text": [
        "<IPython.core.display.Javascript at 0x28c182b0>"
       ]
      },
      {
       "javascript": [
        "$('div#0d735afb-70e5-410a-8e6d-f27391630208').text(' 84%');"
       ],
       "metadata": {},
       "output_type": "display_data",
       "text": [
        "<IPython.core.display.Javascript at 0x28c182e8>"
       ]
      },
      {
       "javascript": [
        "\n",
        "        var $myPB = $(\"div#d21d46d6-fb4d-4371-a1e0-709c08d19aa2\")\n",
        "        if ($myPB.hasClass('ui-progressbar')) {\n",
        "            $myPB.progressbar('value', 136080);\n",
        "        } else {\n",
        "            $myPB.progressbar({value: 0, max: 161907});\n",
        "        }\n",
        "        "
       ],
       "metadata": {},
       "output_type": "display_data",
       "text": [
        "<IPython.core.display.Javascript at 0x28c18358>"
       ]
      },
      {
       "javascript": [
        "$('div#da9654fb-4830-4e68-be36-db8173503fea').text('ETA:  0:00:01');"
       ],
       "metadata": {},
       "output_type": "display_data",
       "text": [
        "<IPython.core.display.Javascript at 0x28c18320>"
       ]
      },
      {
       "javascript": [
        "$('div#78e10271-c9e5-4bb5-bc9c-89f2ee40d532').text('137700 of 161907');"
       ],
       "metadata": {},
       "output_type": "display_data",
       "text": [
        "<IPython.core.display.Javascript at 0x28ce3e80>"
       ]
      },
      {
       "javascript": [
        "$('div#0d735afb-70e5-410a-8e6d-f27391630208').text(' 85%');"
       ],
       "metadata": {},
       "output_type": "display_data",
       "text": [
        "<IPython.core.display.Javascript at 0x28ce3eb8>"
       ]
      },
      {
       "javascript": [
        "\n",
        "        var $myPB = $(\"div#d21d46d6-fb4d-4371-a1e0-709c08d19aa2\")\n",
        "        if ($myPB.hasClass('ui-progressbar')) {\n",
        "            $myPB.progressbar('value', 137700);\n",
        "        } else {\n",
        "            $myPB.progressbar({value: 0, max: 161907});\n",
        "        }\n",
        "        "
       ],
       "metadata": {},
       "output_type": "display_data",
       "text": [
        "<IPython.core.display.Javascript at 0x28ce3f28>"
       ]
      },
      {
       "javascript": [
        "$('div#da9654fb-4830-4e68-be36-db8173503fea').text('ETA:  0:00:01');"
       ],
       "metadata": {},
       "output_type": "display_data",
       "text": [
        "<IPython.core.display.Javascript at 0x28ce3f28>"
       ]
      },
      {
       "javascript": [
        "$('div#78e10271-c9e5-4bb5-bc9c-89f2ee40d532').text('139320 of 161907');"
       ],
       "metadata": {},
       "output_type": "display_data",
       "text": [
        "<IPython.core.display.Javascript at 0x28f6e1d0>"
       ]
      },
      {
       "javascript": [
        "$('div#0d735afb-70e5-410a-8e6d-f27391630208').text(' 86%');"
       ],
       "metadata": {},
       "output_type": "display_data",
       "text": [
        "<IPython.core.display.Javascript at 0x28f6e1d0>"
       ]
      },
      {
       "javascript": [
        "\n",
        "        var $myPB = $(\"div#d21d46d6-fb4d-4371-a1e0-709c08d19aa2\")\n",
        "        if ($myPB.hasClass('ui-progressbar')) {\n",
        "            $myPB.progressbar('value', 139320);\n",
        "        } else {\n",
        "            $myPB.progressbar({value: 0, max: 161907});\n",
        "        }\n",
        "        "
       ],
       "metadata": {},
       "output_type": "display_data",
       "text": [
        "<IPython.core.display.Javascript at 0x28f6e208>"
       ]
      },
      {
       "javascript": [
        "$('div#da9654fb-4830-4e68-be36-db8173503fea').text('ETA:  0:00:01');"
       ],
       "metadata": {},
       "output_type": "display_data",
       "text": [
        "<IPython.core.display.Javascript at 0x28f6e2e8>"
       ]
      },
      {
       "javascript": [
        "$('div#78e10271-c9e5-4bb5-bc9c-89f2ee40d532').text('140940 of 161907');"
       ],
       "metadata": {},
       "output_type": "display_data",
       "text": [
        "<IPython.core.display.Javascript at 0x29124710>"
       ]
      },
      {
       "javascript": [
        "$('div#0d735afb-70e5-410a-8e6d-f27391630208').text(' 87%');"
       ],
       "metadata": {},
       "output_type": "display_data",
       "text": [
        "<IPython.core.display.Javascript at 0x29124748>"
       ]
      },
      {
       "javascript": [
        "\n",
        "        var $myPB = $(\"div#d21d46d6-fb4d-4371-a1e0-709c08d19aa2\")\n",
        "        if ($myPB.hasClass('ui-progressbar')) {\n",
        "            $myPB.progressbar('value', 140940);\n",
        "        } else {\n",
        "            $myPB.progressbar({value: 0, max: 161907});\n",
        "        }\n",
        "        "
       ],
       "metadata": {},
       "output_type": "display_data",
       "text": [
        "<IPython.core.display.Javascript at 0x291247b8>"
       ]
      },
      {
       "javascript": [
        "$('div#da9654fb-4830-4e68-be36-db8173503fea').text('ETA:  0:00:01');"
       ],
       "metadata": {},
       "output_type": "display_data",
       "text": [
        "<IPython.core.display.Javascript at 0x29124780>"
       ]
      },
      {
       "javascript": [
        "$('div#78e10271-c9e5-4bb5-bc9c-89f2ee40d532').text('142560 of 161907');"
       ],
       "metadata": {},
       "output_type": "display_data",
       "text": [
        "<IPython.core.display.Javascript at 0x293aaf60>"
       ]
      },
      {
       "javascript": [
        "$('div#0d735afb-70e5-410a-8e6d-f27391630208').text(' 88%');"
       ],
       "metadata": {},
       "output_type": "display_data",
       "text": [
        "<IPython.core.display.Javascript at 0x293aaf98>"
       ]
      },
      {
       "javascript": [
        "\n",
        "        var $myPB = $(\"div#d21d46d6-fb4d-4371-a1e0-709c08d19aa2\")\n",
        "        if ($myPB.hasClass('ui-progressbar')) {\n",
        "            $myPB.progressbar('value', 142560);\n",
        "        } else {\n",
        "            $myPB.progressbar({value: 0, max: 161907});\n",
        "        }\n",
        "        "
       ],
       "metadata": {},
       "output_type": "display_data",
       "text": [
        "<IPython.core.display.Javascript at 0x293aafd0>"
       ]
      },
      {
       "javascript": [
        "$('div#da9654fb-4830-4e68-be36-db8173503fea').text('ETA:  0:00:01');"
       ],
       "metadata": {},
       "output_type": "display_data",
       "text": [
        "<IPython.core.display.Javascript at 0x293aafd0>"
       ]
      },
      {
       "javascript": [
        "$('div#78e10271-c9e5-4bb5-bc9c-89f2ee40d532').text('144180 of 161907');"
       ],
       "metadata": {},
       "output_type": "display_data",
       "text": [
        "<IPython.core.display.Javascript at 0x29575518>"
       ]
      },
      {
       "javascript": [
        "$('div#0d735afb-70e5-410a-8e6d-f27391630208').text(' 89%');"
       ],
       "metadata": {},
       "output_type": "display_data",
       "text": [
        "<IPython.core.display.Javascript at 0x29575550>"
       ]
      },
      {
       "javascript": [
        "\n",
        "        var $myPB = $(\"div#d21d46d6-fb4d-4371-a1e0-709c08d19aa2\")\n",
        "        if ($myPB.hasClass('ui-progressbar')) {\n",
        "            $myPB.progressbar('value', 144180);\n",
        "        } else {\n",
        "            $myPB.progressbar({value: 0, max: 161907});\n",
        "        }\n",
        "        "
       ],
       "metadata": {},
       "output_type": "display_data",
       "text": [
        "<IPython.core.display.Javascript at 0x29575550>"
       ]
      },
      {
       "javascript": [
        "$('div#da9654fb-4830-4e68-be36-db8173503fea').text('ETA:  0:00:01');"
       ],
       "metadata": {},
       "output_type": "display_data",
       "text": [
        "<IPython.core.display.Javascript at 0x295755c0>"
       ]
      },
      {
       "javascript": [
        "$('div#78e10271-c9e5-4bb5-bc9c-89f2ee40d532').text('145800 of 161907');"
       ],
       "metadata": {},
       "output_type": "display_data",
       "text": [
        "<IPython.core.display.Javascript at 0x296834e0>"
       ]
      },
      {
       "javascript": [
        "$('div#0d735afb-70e5-410a-8e6d-f27391630208').text(' 90%');"
       ],
       "metadata": {},
       "output_type": "display_data",
       "text": [
        "<IPython.core.display.Javascript at 0x296834e0>"
       ]
      },
      {
       "javascript": [
        "\n",
        "        var $myPB = $(\"div#d21d46d6-fb4d-4371-a1e0-709c08d19aa2\")\n",
        "        if ($myPB.hasClass('ui-progressbar')) {\n",
        "            $myPB.progressbar('value', 145800);\n",
        "        } else {\n",
        "            $myPB.progressbar({value: 0, max: 161907});\n",
        "        }\n",
        "        "
       ],
       "metadata": {},
       "output_type": "display_data",
       "text": [
        "<IPython.core.display.Javascript at 0x29683518>"
       ]
      },
      {
       "javascript": [
        "$('div#da9654fb-4830-4e68-be36-db8173503fea').text('ETA:  0:00:01');"
       ],
       "metadata": {},
       "output_type": "display_data",
       "text": [
        "<IPython.core.display.Javascript at 0x296835f8>"
       ]
      },
      {
       "javascript": [
        "$('div#78e10271-c9e5-4bb5-bc9c-89f2ee40d532').text('147420 of 161907');"
       ],
       "metadata": {},
       "output_type": "display_data",
       "text": [
        "<IPython.core.display.Javascript at 0x297d46a0>"
       ]
      },
      {
       "javascript": [
        "$('div#0d735afb-70e5-410a-8e6d-f27391630208').text(' 91%');"
       ],
       "metadata": {},
       "output_type": "display_data",
       "text": [
        "<IPython.core.display.Javascript at 0x297d46d8>"
       ]
      },
      {
       "javascript": [
        "\n",
        "        var $myPB = $(\"div#d21d46d6-fb4d-4371-a1e0-709c08d19aa2\")\n",
        "        if ($myPB.hasClass('ui-progressbar')) {\n",
        "            $myPB.progressbar('value', 147420);\n",
        "        } else {\n",
        "            $myPB.progressbar({value: 0, max: 161907});\n",
        "        }\n",
        "        "
       ],
       "metadata": {},
       "output_type": "display_data",
       "text": [
        "<IPython.core.display.Javascript at 0x297d4748>"
       ]
      },
      {
       "javascript": [
        "$('div#da9654fb-4830-4e68-be36-db8173503fea').text('ETA:  0:00:00');"
       ],
       "metadata": {},
       "output_type": "display_data",
       "text": [
        "<IPython.core.display.Javascript at 0x297d4710>"
       ]
      },
      {
       "javascript": [
        "$('div#78e10271-c9e5-4bb5-bc9c-89f2ee40d532').text('149040 of 161907');"
       ],
       "metadata": {},
       "output_type": "display_data",
       "text": [
        "<IPython.core.display.Javascript at 0x29ab3f28>"
       ]
      },
      {
       "javascript": [
        "$('div#0d735afb-70e5-410a-8e6d-f27391630208').text(' 92%');"
       ],
       "metadata": {},
       "output_type": "display_data",
       "text": [
        "<IPython.core.display.Javascript at 0x29ab3f60>"
       ]
      },
      {
       "javascript": [
        "\n",
        "        var $myPB = $(\"div#d21d46d6-fb4d-4371-a1e0-709c08d19aa2\")\n",
        "        if ($myPB.hasClass('ui-progressbar')) {\n",
        "            $myPB.progressbar('value', 149040);\n",
        "        } else {\n",
        "            $myPB.progressbar({value: 0, max: 161907});\n",
        "        }\n",
        "        "
       ],
       "metadata": {},
       "output_type": "display_data",
       "text": [
        "<IPython.core.display.Javascript at 0x29ab3fd0>"
       ]
      },
      {
       "javascript": [
        "$('div#da9654fb-4830-4e68-be36-db8173503fea').text('ETA:  0:00:00');"
       ],
       "metadata": {},
       "output_type": "display_data",
       "text": [
        "<IPython.core.display.Javascript at 0x29ab3fd0>"
       ]
      },
      {
       "javascript": [
        "$('div#78e10271-c9e5-4bb5-bc9c-89f2ee40d532').text('150660 of 161907');"
       ],
       "metadata": {},
       "output_type": "display_data",
       "text": [
        "<IPython.core.display.Javascript at 0x29d77198>"
       ]
      },
      {
       "javascript": [
        "$('div#0d735afb-70e5-410a-8e6d-f27391630208').text(' 93%');"
       ],
       "metadata": {},
       "output_type": "display_data",
       "text": [
        "<IPython.core.display.Javascript at 0x29d771d0>"
       ]
      },
      {
       "javascript": [
        "\n",
        "        var $myPB = $(\"div#d21d46d6-fb4d-4371-a1e0-709c08d19aa2\")\n",
        "        if ($myPB.hasClass('ui-progressbar')) {\n",
        "            $myPB.progressbar('value', 150660);\n",
        "        } else {\n",
        "            $myPB.progressbar({value: 0, max: 161907});\n",
        "        }\n",
        "        "
       ],
       "metadata": {},
       "output_type": "display_data",
       "text": [
        "<IPython.core.display.Javascript at 0x29d77240>"
       ]
      },
      {
       "javascript": [
        "$('div#da9654fb-4830-4e68-be36-db8173503fea').text('ETA:  0:00:00');"
       ],
       "metadata": {},
       "output_type": "display_data",
       "text": [
        "<IPython.core.display.Javascript at 0x29d77198>"
       ]
      },
      {
       "javascript": [
        "$('div#78e10271-c9e5-4bb5-bc9c-89f2ee40d532').text('152280 of 161907');"
       ],
       "metadata": {},
       "output_type": "display_data",
       "text": [
        "<IPython.core.display.Javascript at 0x29ef0438>"
       ]
      },
      {
       "javascript": [
        "$('div#0d735afb-70e5-410a-8e6d-f27391630208').text(' 94%');"
       ],
       "metadata": {},
       "output_type": "display_data",
       "text": [
        "<IPython.core.display.Javascript at 0x29ef0470>"
       ]
      },
      {
       "javascript": [
        "\n",
        "        var $myPB = $(\"div#d21d46d6-fb4d-4371-a1e0-709c08d19aa2\")\n",
        "        if ($myPB.hasClass('ui-progressbar')) {\n",
        "            $myPB.progressbar('value', 152280);\n",
        "        } else {\n",
        "            $myPB.progressbar({value: 0, max: 161907});\n",
        "        }\n",
        "        "
       ],
       "metadata": {},
       "output_type": "display_data",
       "text": [
        "<IPython.core.display.Javascript at 0x29ef04e0>"
       ]
      },
      {
       "javascript": [
        "$('div#da9654fb-4830-4e68-be36-db8173503fea').text('ETA:  0:00:00');"
       ],
       "metadata": {},
       "output_type": "display_data",
       "text": [
        "<IPython.core.display.Javascript at 0x29ef04a8>"
       ]
      },
      {
       "javascript": [
        "$('div#78e10271-c9e5-4bb5-bc9c-89f2ee40d532').text('153900 of 161907');"
       ],
       "metadata": {},
       "output_type": "display_data",
       "text": [
        "<IPython.core.display.Javascript at 0x2a048b38>"
       ]
      },
      {
       "javascript": [
        "$('div#0d735afb-70e5-410a-8e6d-f27391630208').text(' 95%');"
       ],
       "metadata": {},
       "output_type": "display_data",
       "text": [
        "<IPython.core.display.Javascript at 0x2a048b70>"
       ]
      },
      {
       "javascript": [
        "\n",
        "        var $myPB = $(\"div#d21d46d6-fb4d-4371-a1e0-709c08d19aa2\")\n",
        "        if ($myPB.hasClass('ui-progressbar')) {\n",
        "            $myPB.progressbar('value', 153900);\n",
        "        } else {\n",
        "            $myPB.progressbar({value: 0, max: 161907});\n",
        "        }\n",
        "        "
       ],
       "metadata": {},
       "output_type": "display_data",
       "text": [
        "<IPython.core.display.Javascript at 0x2a048be0>"
       ]
      },
      {
       "javascript": [
        "$('div#da9654fb-4830-4e68-be36-db8173503fea').text('ETA:  0:00:00');"
       ],
       "metadata": {},
       "output_type": "display_data",
       "text": [
        "<IPython.core.display.Javascript at 0x2a048be0>"
       ]
      },
      {
       "javascript": [
        "$('div#78e10271-c9e5-4bb5-bc9c-89f2ee40d532').text('155520 of 161907');"
       ],
       "metadata": {},
       "output_type": "display_data",
       "text": [
        "<IPython.core.display.Javascript at 0x2a13ce80>"
       ]
      },
      {
       "javascript": [
        "$('div#0d735afb-70e5-410a-8e6d-f27391630208').text(' 96%');"
       ],
       "metadata": {},
       "output_type": "display_data",
       "text": [
        "<IPython.core.display.Javascript at 0x2a13ceb8>"
       ]
      },
      {
       "javascript": [
        "\n",
        "        var $myPB = $(\"div#d21d46d6-fb4d-4371-a1e0-709c08d19aa2\")\n",
        "        if ($myPB.hasClass('ui-progressbar')) {\n",
        "            $myPB.progressbar('value', 155520);\n",
        "        } else {\n",
        "            $myPB.progressbar({value: 0, max: 161907});\n",
        "        }\n",
        "        "
       ],
       "metadata": {},
       "output_type": "display_data",
       "text": [
        "<IPython.core.display.Javascript at 0x2a13ceb8>"
       ]
      },
      {
       "javascript": [
        "$('div#da9654fb-4830-4e68-be36-db8173503fea').text('ETA:  0:00:00');"
       ],
       "metadata": {},
       "output_type": "display_data",
       "text": [
        "<IPython.core.display.Javascript at 0x2a13cf28>"
       ]
      },
      {
       "javascript": [
        "$('div#78e10271-c9e5-4bb5-bc9c-89f2ee40d532').text('157140 of 161907');"
       ],
       "metadata": {},
       "output_type": "display_data",
       "text": [
        "<IPython.core.display.Javascript at 0x2a396eb8>"
       ]
      },
      {
       "javascript": [
        "$('div#0d735afb-70e5-410a-8e6d-f27391630208').text(' 97%');"
       ],
       "metadata": {},
       "output_type": "display_data",
       "text": [
        "<IPython.core.display.Javascript at 0x2a396eb8>"
       ]
      },
      {
       "javascript": [
        "\n",
        "        var $myPB = $(\"div#d21d46d6-fb4d-4371-a1e0-709c08d19aa2\")\n",
        "        if ($myPB.hasClass('ui-progressbar')) {\n",
        "            $myPB.progressbar('value', 157140);\n",
        "        } else {\n",
        "            $myPB.progressbar({value: 0, max: 161907});\n",
        "        }\n",
        "        "
       ],
       "metadata": {},
       "output_type": "display_data",
       "text": [
        "<IPython.core.display.Javascript at 0x2a396ef0>"
       ]
      },
      {
       "javascript": [
        "$('div#da9654fb-4830-4e68-be36-db8173503fea').text('ETA:  0:00:00');"
       ],
       "metadata": {},
       "output_type": "display_data",
       "text": [
        "<IPython.core.display.Javascript at 0x2a396fd0>"
       ]
      },
      {
       "javascript": [
        "$('div#78e10271-c9e5-4bb5-bc9c-89f2ee40d532').text('158760 of 161907');"
       ],
       "metadata": {},
       "output_type": "display_data",
       "text": [
        "<IPython.core.display.Javascript at 0x2a49e898>"
       ]
      },
      {
       "javascript": [
        "$('div#0d735afb-70e5-410a-8e6d-f27391630208').text(' 98%');"
       ],
       "metadata": {},
       "output_type": "display_data",
       "text": [
        "<IPython.core.display.Javascript at 0x2a49e8d0>"
       ]
      },
      {
       "javascript": [
        "\n",
        "        var $myPB = $(\"div#d21d46d6-fb4d-4371-a1e0-709c08d19aa2\")\n",
        "        if ($myPB.hasClass('ui-progressbar')) {\n",
        "            $myPB.progressbar('value', 158760);\n",
        "        } else {\n",
        "            $myPB.progressbar({value: 0, max: 161907});\n",
        "        }\n",
        "        "
       ],
       "metadata": {},
       "output_type": "display_data",
       "text": [
        "<IPython.core.display.Javascript at 0x2a49e940>"
       ]
      },
      {
       "javascript": [
        "$('div#da9654fb-4830-4e68-be36-db8173503fea').text('ETA:  0:00:00');"
       ],
       "metadata": {},
       "output_type": "display_data",
       "text": [
        "<IPython.core.display.Javascript at 0x2a49e908>"
       ]
      },
      {
       "javascript": [
        "$('div#78e10271-c9e5-4bb5-bc9c-89f2ee40d532').text('160380 of 161907');"
       ],
       "metadata": {},
       "output_type": "display_data",
       "text": [
        "<IPython.core.display.Javascript at 0x2a70a358>"
       ]
      },
      {
       "javascript": [
        "$('div#0d735afb-70e5-410a-8e6d-f27391630208').text(' 99%');"
       ],
       "metadata": {},
       "output_type": "display_data",
       "text": [
        "<IPython.core.display.Javascript at 0x2a70a390>"
       ]
      },
      {
       "javascript": [
        "\n",
        "        var $myPB = $(\"div#d21d46d6-fb4d-4371-a1e0-709c08d19aa2\")\n",
        "        if ($myPB.hasClass('ui-progressbar')) {\n",
        "            $myPB.progressbar('value', 160380);\n",
        "        } else {\n",
        "            $myPB.progressbar({value: 0, max: 161907});\n",
        "        }\n",
        "        "
       ],
       "metadata": {},
       "output_type": "display_data",
       "text": [
        "<IPython.core.display.Javascript at 0x2a70a400>"
       ]
      },
      {
       "javascript": [
        "$('div#da9654fb-4830-4e68-be36-db8173503fea').text('ETA:  0:00:00');"
       ],
       "metadata": {},
       "output_type": "display_data",
       "text": [
        "<IPython.core.display.Javascript at 0x2a70a400>"
       ]
      }
     ]
    },
    {
     "cell_type": "code",
     "collapsed": false,
     "input": [
      "flat_tokens = [token for s in tokens for token in s]\n",
      "flat_tokens[:10]"
     ],
     "language": "python",
     "metadata": {},
     "outputs": []
    },
    {
     "cell_type": "code",
     "collapsed": false,
     "input": [
      "mun.print_word_stats(flat_tokens)"
     ],
     "language": "python",
     "metadata": {},
     "outputs": []
    },
    {
     "cell_type": "code",
     "collapsed": false,
     "input": [
      "brown_tagger = mun.get_brown_tagger(include_location_tagger=True)\n"
     ],
     "language": "python",
     "metadata": {},
     "outputs": []
    },
    {
     "cell_type": "code",
     "collapsed": false,
     "input": [
      "tagged_sentences = mun.tag_pos_sentences(tokens[:1000], tagger=brown_tagger)\n",
      "tagged_sentences[:10]"
     ],
     "language": "python",
     "metadata": {},
     "outputs": []
    },
    {
     "cell_type": "code",
     "collapsed": false,
     "input": [
      "raw_chunks = mun.get_chunks(tagged_sentences)\n",
      "raw_chunks[:100]"
     ],
     "language": "python",
     "metadata": {},
     "outputs": []
    },
    {
     "cell_type": "code",
     "collapsed": false,
     "input": [
      "n_chunks = mun.extract_target_from_chunks(raw_chunks, target='PNS')\n",
      "n_chunks"
     ],
     "language": "python",
     "metadata": {},
     "outputs": []
    },
    {
     "cell_type": "code",
     "collapsed": false,
     "input": [
      "ngram_output_table = mun.process_ngrams(sentences = sentences[:1000])\n",
      "ngram_output_table"
     ],
     "language": "python",
     "metadata": {},
     "outputs": []
    },
    {
     "cell_type": "code",
     "collapsed": false,
     "input": [
      "chunks_fd_table = mun.process_chunks(sentences=sentences[:1000], tagger = brown_tagger)"
     ],
     "language": "python",
     "metadata": {},
     "outputs": []
    },
    {
     "cell_type": "code",
     "collapsed": false,
     "input": [
      "chunks_fd_table"
     ],
     "language": "python",
     "metadata": {},
     "outputs": []
    },
    {
     "cell_type": "code",
     "collapsed": false,
     "input": [
      "finders = mun.get_collocations(sentences=sentences)\n"
     ],
     "language": "python",
     "metadata": {},
     "outputs": []
    },
    {
     "cell_type": "code",
     "collapsed": false,
     "input": [
      "csv_finders = mun.print_collocations_finders(finders, chunked=False)\n",
      "finders_table = mun.print_csv_table(csv_finders)\n",
      "finders_table"
     ],
     "language": "python",
     "metadata": {},
     "outputs": []
    },
    {
     "cell_type": "code",
     "collapsed": false,
     "input": [],
     "language": "python",
     "metadata": {},
     "outputs": []
    }
   ],
   "metadata": {}
  }
 ]
}