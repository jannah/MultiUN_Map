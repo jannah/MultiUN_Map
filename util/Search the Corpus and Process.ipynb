{
 "metadata": {
  "name": "",
  "signature": "sha256:33e6481ce9a1e568fc7fd63c7f5d67b150a1430cf84f9b2abd8ef2cc838af33f"
 },
 "nbformat": 3,
 "nbformat_minor": 0,
 "worksheets": [
  {
   "cells": [
    {
     "cell_type": "heading",
     "level": 1,
     "metadata": {},
     "source": [
      "Search for a Specific Document in the Corpus"
     ]
    },
    {
     "cell_type": "markdown",
     "metadata": {},
     "source": [
      "A simple utility to search for a document using its' attributes"
     ]
    },
    {
     "cell_type": "code",
     "collapsed": false,
     "input": [
      "MODULES_PATH = '''../modules/multi_un_module.py'''\n",
      "import imp\n",
      "NF = imp.load_source('multi_un_module', MODULES_PATH)\n",
      "import multi_un_module as mun\n",
      "from IPython.display import HTML"
     ],
     "language": "python",
     "metadata": {},
     "outputs": [
      {
       "output_type": "stream",
       "stream": "stdout",
       "text": [
        "Load_countries() DONE!\n"
       ]
      }
     ],
     "prompt_number": 1
    },
    {
     "cell_type": "markdown",
     "metadata": {},
     "source": [
      "serach for documents\n",
      "\n",
      "G0516877"
     ]
    },
    {
     "cell_type": "code",
     "collapsed": false,
     "input": [
      "# n = raw_input('Enter a document attribute:\\n')\n",
      "n = 'G0516877'\n",
      "document = mun.get_documents(term=n, limit = 1, include_content=True)\n",
      "print len(document), ' result%s'%('s' if len(document)>1 else '')\n",
      "h = HTML(mun.json2html(document));h"
     ],
     "language": "python",
     "metadata": {},
     "outputs": [
      {
       "output_type": "stream",
       "stream": "stdout",
       "text": [
        "1  result\n"
       ]
      },
      {
       "html": [
        "<table class=\"table\"><tr><td>multiUN.en\\un\\xml\\en\\2005\\E_CN4_2006_56-en.xml</td><td><table class=\"table\"><tr><td>attributes</td><td><table class=\"table\"><tr><td>lang</td><td>English</td></tr><tr><td>date</td><td>2005/12/27</td></tr><tr><td>path</td><td>C:\\Users\\Hassan\\Documents\\iSchool\\NLP\\United Nations\\multiUN.en\\un\\xml\\en\\2005\\E_CN4_2006_56-en.xml</td></tr><tr><td>id</td><td>E/CN.4/2006/56</td></tr><tr><td>n</td><td>G0516877</td></tr></table></td></tr><tr><td>scrape</td><td><table class=\"table\"><tr><td>Title</td><td>REPORT OF THE WORKING GROUP ON ENFORCED OR INVOLUNTARY DISAPPEARANCES</td></tr><tr><td>ODS</td><td>E/CN.4/2006/56</td></tr><tr><td>Agenda Items</td><td>11 11b</td></tr><tr><td>Subjects</td><td><table class=\"table\"><tr><td>1</td><td>DISAPPEARANCE OF PERSONS</td></tr><tr><td>2</td><td>AFGHANISTAN</td></tr><tr><td>3</td><td>ALGERIA</td></tr><tr><td>4</td><td>ANGOLA</td></tr><tr><td>5</td><td>ARGENTINA</td></tr><tr><td>6</td><td>BANGLADESH</td></tr><tr><td>7</td><td>BELARUS</td></tr><tr><td>8</td><td>BHUTAN</td></tr><tr><td>9</td><td>BOLIVIA (PLURINATIONAL STATE OF)</td></tr><tr><td>10</td><td>BRAZIL</td></tr><tr><td>11</td><td>BURKINA FASO</td></tr><tr><td>12</td><td>BURUNDI</td></tr><tr><td>13</td><td>CAMBODIA</td></tr><tr><td>14</td><td>CAMEROON</td></tr><tr><td>15</td><td>CHAD</td></tr><tr><td>16</td><td>CHILE</td></tr><tr><td>17</td><td>CHINA</td></tr><tr><td>18</td><td>COLOMBIA</td></tr><tr><td>19</td><td>CONGO</td></tr><tr><td>20</td><td>DEMOCRATIC PEOPLE'S REPUBLIC OF KOREA</td></tr><tr><td>21</td><td>DEMOCRATIC REPUBLIC OF THE CONGO</td></tr><tr><td>22</td><td>DOMINICAN REPUBLIC</td></tr><tr><td>23</td><td>ECUADOR</td></tr><tr><td>24</td><td>EGYPT</td></tr><tr><td>25</td><td>EL SALVADOR</td></tr><tr><td>26</td><td>EQUATORIAL GUINEA</td></tr><tr><td>27</td><td>ERITREA</td></tr><tr><td>28</td><td>ETHIOPIA</td></tr><tr><td>29</td><td>FRANCE</td></tr><tr><td>30</td><td>GREECE</td></tr><tr><td>31</td><td>GUATEMALA</td></tr><tr><td>32</td><td>GUINEA</td></tr><tr><td>33</td><td>HAITI</td></tr><tr><td>34</td><td>HONDURAS</td></tr><tr><td>35</td><td>INDIA</td></tr><tr><td>36</td><td>INDONESIA</td></tr><tr><td>37</td><td>IRAN (ISLAMIC REPUBLIC OF)</td></tr><tr><td>38</td><td>IRAQ</td></tr><tr><td>39</td><td>ISRAEL</td></tr><tr><td>40</td><td>JAPAN</td></tr><tr><td>41</td><td>JORDAN</td></tr><tr><td>42</td><td>KUWAIT</td></tr><tr><td>43</td><td>LAO PEOPLE'S DEMOCRATIC REPUBLIC</td></tr><tr><td>44</td><td>LEBANON</td></tr><tr><td>45</td><td>LIBYAN ARAB JAMAHIRIYA</td></tr><tr><td>46</td><td>MALAYSIA</td></tr><tr><td>47</td><td>MAURITANIA</td></tr><tr><td>48</td><td>MEXICO</td></tr><tr><td>49</td><td>MOROCCO</td></tr><tr><td>50</td><td>MOZAMBIQUE</td></tr><tr><td>51</td><td>MYANMAR</td></tr><tr><td>52</td><td>NAMIBIA</td></tr><tr><td>53</td><td>NEPAL</td></tr><tr><td>54</td><td>NICARAGUA</td></tr><tr><td>55</td><td>NIGERIA</td></tr><tr><td>56</td><td>PAKISTAN</td></tr><tr><td>57</td><td>PALESTINE</td></tr><tr><td>58</td><td>PARAGUAY</td></tr><tr><td>59</td><td>PERU</td></tr><tr><td>60</td><td>PHILIPPINES</td></tr><tr><td>61</td><td>RUSSIAN FEDERATION</td></tr><tr><td>62</td><td>RWANDA</td></tr><tr><td>63</td><td>SAUDI ARABIA</td></tr><tr><td>64</td><td>SERBIA AND MONTENEGRO</td></tr><tr><td>65</td><td>SEYCHELLES</td></tr><tr><td>66</td><td>SPAIN</td></tr><tr><td>67</td><td>SRI LANKA</td></tr><tr><td>68</td><td>SUDAN</td></tr><tr><td>69</td><td>SYRIAN ARAB REPUBLIC</td></tr><tr><td>70</td><td>TAJIKISTAN</td></tr><tr><td>71</td><td>THAILAND</td></tr><tr><td>72</td><td>TIMOR-LESTE</td></tr><tr><td>73</td><td>TOGO</td></tr><tr><td>74</td><td>TUNISIA</td></tr><tr><td>75</td><td>TURKEY</td></tr><tr><td>76</td><td>UGANDA</td></tr><tr><td>77</td><td>UKRAINE</td></tr><tr><td>78</td><td>URUGUAY</td></tr><tr><td>79</td><td>UZBEKISTAN</td></tr><tr><td>80</td><td>VENEZUELA (BOLIVARIAN REPUBLIC OF)</td></tr><tr><td>81</td><td>YEMEN</td></tr><tr><td>82</td><td>ZIMBABWE</td></tr><tr><td>83</td><td>STATISTICAL DATA</td></tr></table></td></tr><tr><td>Session/Year</td><td>62</td></tr><tr><td>Distribution</td><td>GEN</td></tr><tr><td>Area</td><td>UNDOC</td></tr><tr><td>Symbol</td><td>E/CN.4/2006/56</td></tr><tr><td>Publication date</td><td>27/12/2005</td></tr></table></td></tr></table></td></tr></table>"
       ],
       "metadata": {},
       "output_type": "pyout",
       "prompt_number": 2,
       "text": [
        "<IPython.core.display.HTML at 0x1aca4d68>"
       ]
      }
     ],
     "prompt_number": 2
    },
    {
     "cell_type": "code",
     "collapsed": false,
     "input": [
      "\n",
      "doc_name, doc=document.iteritems().next()\n",
      "paragraphs = mun.extract_paragraphs(document)\n",
      "sentences = mun.extract_sentences(document)\n",
      "tokenized_sentences = mun.tokenize_sentence_text(sentences)\n",
      "tagged_sentences = mun.tag_pos_sentences(tokenized_sentences)"
     ],
     "language": "python",
     "metadata": {},
     "outputs": [
      {
       "javascript": [
        "//8c3a25fc-fc33-44df-871f-e9d8c3411f78\n",
        "$(\"head\").append(\"<style> td.pb_widget {     width: auto; } td.pb_widget_fill {     width: 100%; } table.pb {     font-family: monospace;     border: 0;     margin: 0; } table.pb tr { border: 0; } table.pb td {     white-space: nowrap;     border: 0; } div.pb {     border: 1px solid #ddd;     border-radius: 3px; } div.pb_bar {     height: 1.5em; } </style>\")"
       ],
       "metadata": {},
       "output_type": "display_data",
       "text": [
        "<IPython.core.display.Javascript at 0x36c0e10>"
       ]
      },
      {
       "javascript": [
        "\n",
        "                  // 8c3a25fc-fc33-44df-871f-e9d8c3411f78 -- used to remove this code blob in the end\n",
        "                  IPython.OutputArea.prototype.cleanProgressBar = function(uuids) {\n",
        "                      // filter by uuid-strings \n",
        "                      var myfilter = function(output) { \n",
        "                          var nuids = uuids.length;\n",
        "                          for (var i=0; i<nuids; i++) {\n",
        "                              if (output.hasOwnProperty('html')) {\n",
        "                                  if (output.html.indexOf(uuids[i]) != -1) {\n",
        "                                      return false;\n",
        "                                  }\n",
        "                              }\n",
        "                              if (output.hasOwnProperty('javascript')) {\n",
        "                                  if (output.javascript.indexOf(uuids[i]) != -1) {\n",
        "                                      return false;\n",
        "                                  }\n",
        "                              }\n",
        "                          }\n",
        "                          // keep all others\n",
        "                          return true;\n",
        "                      };\n",
        "\n",
        "                      // Filter the ouputs\n",
        "                      this.outputs = this.outputs.filter(myfilter);\n",
        "                };\n",
        "                "
       ],
       "metadata": {},
       "output_type": "display_data",
       "text": [
        "<IPython.core.display.Javascript at 0x17275da0>"
       ]
      },
      {
       "html": [
        "<div class=\"pb\" id=\"8c3a25fc-fc33-44df-871f-e9d8c3411f78\"><table class=\"pb ui-widget\"><tr>\n",
        "<td class=\"pb_widget\">Tokenizing sentences</td>\n",
        "<td class=\"pb_widget\"><div id=\"f535958d-22da-449f-90ec-10d01c8d9a94\">0 of 2029</div></td>\n",
        "<td class=\"pb_widget\"><div id=\"d70eb2cd-1edc-47d2-986c-b9492706aa76\">  0%</div></td>\n",
        "<td class=\"pb_widget_fill\">\n",
        "        <div class=\"pb_bar\" id=\"4814c797-c07a-4b7c-b4ba-8b1c874097a2\"></div>\n",
        "        <script type=\"text/javascript\">\n",
        "            $(\"div#4814c797-c07a-4b7c-b4ba-8b1c874097a2\").progressbar({value: 0, max: 2029});\n",
        "        </script>\n",
        "        </td>\n",
        "<td class=\"pb_widget\"><div id=\"7f1f6558-88cf-40fd-917e-f8c16f1eaead\">ETA:  --:--:--</div></td>\n",
        "</tr></table><div>"
       ],
       "metadata": {},
       "output_type": "display_data",
       "text": [
        "<IPython.core.display.HTML at 0x17275668>"
       ]
      },
      {
       "javascript": [
        "$('div#f535958d-22da-449f-90ec-10d01c8d9a94').text('21 of 2029');"
       ],
       "metadata": {},
       "output_type": "display_data",
       "text": [
        "<IPython.core.display.Javascript at 0x17275b70>"
       ]
      },
      {
       "javascript": [
        "$('div#d70eb2cd-1edc-47d2-986c-b9492706aa76').text('  1%');"
       ],
       "metadata": {},
       "output_type": "display_data",
       "text": [
        "<IPython.core.display.Javascript at 0x36c0e10>"
       ]
      },
      {
       "javascript": [
        "\n",
        "        var $myPB = $(\"div#4814c797-c07a-4b7c-b4ba-8b1c874097a2\")\n",
        "        if ($myPB.hasClass('ui-progressbar')) {\n",
        "            $myPB.progressbar('value', 21);\n",
        "        } else {\n",
        "            $myPB.progressbar({value: 0, max: 2029});\n",
        "        }\n",
        "        "
       ],
       "metadata": {},
       "output_type": "display_data",
       "text": [
        "<IPython.core.display.Javascript at 0x17275b70>"
       ]
      },
      {
       "javascript": [
        "$('div#7f1f6558-88cf-40fd-917e-f8c16f1eaead').text('ETA:  0:00:00');"
       ],
       "metadata": {},
       "output_type": "display_data",
       "text": [
        "<IPython.core.display.Javascript at 0x17275208>"
       ]
      },
      {
       "javascript": [
        "$('div#f535958d-22da-449f-90ec-10d01c8d9a94').text('42 of 2029');"
       ],
       "metadata": {},
       "output_type": "display_data",
       "text": [
        "<IPython.core.display.Javascript at 0x17275da0>"
       ]
      },
      {
       "javascript": [
        "$('div#d70eb2cd-1edc-47d2-986c-b9492706aa76').text('  2%');"
       ],
       "metadata": {},
       "output_type": "display_data",
       "text": [
        "<IPython.core.display.Javascript at 0x36c0e10>"
       ]
      },
      {
       "javascript": [
        "\n",
        "        var $myPB = $(\"div#4814c797-c07a-4b7c-b4ba-8b1c874097a2\")\n",
        "        if ($myPB.hasClass('ui-progressbar')) {\n",
        "            $myPB.progressbar('value', 42);\n",
        "        } else {\n",
        "            $myPB.progressbar({value: 0, max: 2029});\n",
        "        }\n",
        "        "
       ],
       "metadata": {},
       "output_type": "display_data",
       "text": [
        "<IPython.core.display.Javascript at 0x17275da0>"
       ]
      },
      {
       "javascript": [
        "$('div#7f1f6558-88cf-40fd-917e-f8c16f1eaead').text('ETA:  0:00:00');"
       ],
       "metadata": {},
       "output_type": "display_data",
       "text": [
        "<IPython.core.display.Javascript at 0x17275668>"
       ]
      },
      {
       "javascript": [
        "$('div#f535958d-22da-449f-90ec-10d01c8d9a94').text('63 of 2029');"
       ],
       "metadata": {},
       "output_type": "display_data",
       "text": [
        "<IPython.core.display.Javascript at 0x17275ac8>"
       ]
      },
      {
       "javascript": [
        "$('div#d70eb2cd-1edc-47d2-986c-b9492706aa76').text('  3%');"
       ],
       "metadata": {},
       "output_type": "display_data",
       "text": [
        "<IPython.core.display.Javascript at 0x36c0e10>"
       ]
      },
      {
       "javascript": [
        "\n",
        "        var $myPB = $(\"div#4814c797-c07a-4b7c-b4ba-8b1c874097a2\")\n",
        "        if ($myPB.hasClass('ui-progressbar')) {\n",
        "            $myPB.progressbar('value', 63);\n",
        "        } else {\n",
        "            $myPB.progressbar({value: 0, max: 2029});\n",
        "        }\n",
        "        "
       ],
       "metadata": {},
       "output_type": "display_data",
       "text": [
        "<IPython.core.display.Javascript at 0x17275ac8>"
       ]
      },
      {
       "javascript": [
        "$('div#7f1f6558-88cf-40fd-917e-f8c16f1eaead').text('ETA:  0:00:00');"
       ],
       "metadata": {},
       "output_type": "display_data",
       "text": [
        "<IPython.core.display.Javascript at 0x172750b8>"
       ]
      },
      {
       "javascript": [
        "$('div#f535958d-22da-449f-90ec-10d01c8d9a94').text('84 of 2029');"
       ],
       "metadata": {},
       "output_type": "display_data",
       "text": [
        "<IPython.core.display.Javascript at 0x17275b70>"
       ]
      },
      {
       "javascript": [
        "$('div#d70eb2cd-1edc-47d2-986c-b9492706aa76').text('  4%');"
       ],
       "metadata": {},
       "output_type": "display_data",
       "text": [
        "<IPython.core.display.Javascript at 0x36c0e10>"
       ]
      },
      {
       "javascript": [
        "\n",
        "        var $myPB = $(\"div#4814c797-c07a-4b7c-b4ba-8b1c874097a2\")\n",
        "        if ($myPB.hasClass('ui-progressbar')) {\n",
        "            $myPB.progressbar('value', 84);\n",
        "        } else {\n",
        "            $myPB.progressbar({value: 0, max: 2029});\n",
        "        }\n",
        "        "
       ],
       "metadata": {},
       "output_type": "display_data",
       "text": [
        "<IPython.core.display.Javascript at 0x17275b70>"
       ]
      },
      {
       "javascript": [
        "$('div#7f1f6558-88cf-40fd-917e-f8c16f1eaead').text('ETA:  0:00:00');"
       ],
       "metadata": {},
       "output_type": "display_data",
       "text": [
        "<IPython.core.display.Javascript at 0x17275208>"
       ]
      },
      {
       "javascript": [
        "$('div#f535958d-22da-449f-90ec-10d01c8d9a94').text('105 of 2029');"
       ],
       "metadata": {},
       "output_type": "display_data",
       "text": [
        "<IPython.core.display.Javascript at 0x17275da0>"
       ]
      },
      {
       "javascript": [
        "$('div#d70eb2cd-1edc-47d2-986c-b9492706aa76').text('  5%');"
       ],
       "metadata": {},
       "output_type": "display_data",
       "text": [
        "<IPython.core.display.Javascript at 0x36c0e10>"
       ]
      },
      {
       "javascript": [
        "\n",
        "        var $myPB = $(\"div#4814c797-c07a-4b7c-b4ba-8b1c874097a2\")\n",
        "        if ($myPB.hasClass('ui-progressbar')) {\n",
        "            $myPB.progressbar('value', 105);\n",
        "        } else {\n",
        "            $myPB.progressbar({value: 0, max: 2029});\n",
        "        }\n",
        "        "
       ],
       "metadata": {},
       "output_type": "display_data",
       "text": [
        "<IPython.core.display.Javascript at 0x17275da0>"
       ]
      },
      {
       "javascript": [
        "$('div#7f1f6558-88cf-40fd-917e-f8c16f1eaead').text('ETA:  0:00:00');"
       ],
       "metadata": {},
       "output_type": "display_data",
       "text": [
        "<IPython.core.display.Javascript at 0x17275668>"
       ]
      },
      {
       "javascript": [
        "$('div#f535958d-22da-449f-90ec-10d01c8d9a94').text('126 of 2029');"
       ],
       "metadata": {},
       "output_type": "display_data",
       "text": [
        "<IPython.core.display.Javascript at 0x17275ac8>"
       ]
      },
      {
       "javascript": [
        "$('div#d70eb2cd-1edc-47d2-986c-b9492706aa76').text('  6%');"
       ],
       "metadata": {},
       "output_type": "display_data",
       "text": [
        "<IPython.core.display.Javascript at 0x36c0e10>"
       ]
      },
      {
       "javascript": [
        "\n",
        "        var $myPB = $(\"div#4814c797-c07a-4b7c-b4ba-8b1c874097a2\")\n",
        "        if ($myPB.hasClass('ui-progressbar')) {\n",
        "            $myPB.progressbar('value', 126);\n",
        "        } else {\n",
        "            $myPB.progressbar({value: 0, max: 2029});\n",
        "        }\n",
        "        "
       ],
       "metadata": {},
       "output_type": "display_data",
       "text": [
        "<IPython.core.display.Javascript at 0x17275ac8>"
       ]
      },
      {
       "javascript": [
        "$('div#7f1f6558-88cf-40fd-917e-f8c16f1eaead').text('ETA:  0:00:00');"
       ],
       "metadata": {},
       "output_type": "display_data",
       "text": [
        "<IPython.core.display.Javascript at 0x172750b8>"
       ]
      },
      {
       "javascript": [
        "$('div#f535958d-22da-449f-90ec-10d01c8d9a94').text('147 of 2029');"
       ],
       "metadata": {},
       "output_type": "display_data",
       "text": [
        "<IPython.core.display.Javascript at 0x17275b70>"
       ]
      },
      {
       "javascript": [
        "$('div#d70eb2cd-1edc-47d2-986c-b9492706aa76').text('  7%');"
       ],
       "metadata": {},
       "output_type": "display_data",
       "text": [
        "<IPython.core.display.Javascript at 0x36c0e10>"
       ]
      },
      {
       "javascript": [
        "\n",
        "        var $myPB = $(\"div#4814c797-c07a-4b7c-b4ba-8b1c874097a2\")\n",
        "        if ($myPB.hasClass('ui-progressbar')) {\n",
        "            $myPB.progressbar('value', 147);\n",
        "        } else {\n",
        "            $myPB.progressbar({value: 0, max: 2029});\n",
        "        }\n",
        "        "
       ],
       "metadata": {},
       "output_type": "display_data",
       "text": [
        "<IPython.core.display.Javascript at 0x17275b70>"
       ]
      },
      {
       "javascript": [
        "$('div#7f1f6558-88cf-40fd-917e-f8c16f1eaead').text('ETA:  0:00:00');"
       ],
       "metadata": {},
       "output_type": "display_data",
       "text": [
        "<IPython.core.display.Javascript at 0x17275208>"
       ]
      },
      {
       "javascript": [
        "$('div#f535958d-22da-449f-90ec-10d01c8d9a94').text('168 of 2029');"
       ],
       "metadata": {},
       "output_type": "display_data",
       "text": [
        "<IPython.core.display.Javascript at 0x17275048>"
       ]
      },
      {
       "javascript": [
        "$('div#d70eb2cd-1edc-47d2-986c-b9492706aa76').text('  8%');"
       ],
       "metadata": {},
       "output_type": "display_data",
       "text": [
        "<IPython.core.display.Javascript at 0x17275048>"
       ]
      },
      {
       "javascript": [
        "\n",
        "        var $myPB = $(\"div#4814c797-c07a-4b7c-b4ba-8b1c874097a2\")\n",
        "        if ($myPB.hasClass('ui-progressbar')) {\n",
        "            $myPB.progressbar('value', 168);\n",
        "        } else {\n",
        "            $myPB.progressbar({value: 0, max: 2029});\n",
        "        }\n",
        "        "
       ],
       "metadata": {},
       "output_type": "display_data",
       "text": [
        "<IPython.core.display.Javascript at 0x36c0e10>"
       ]
      },
      {
       "javascript": [
        "$('div#7f1f6558-88cf-40fd-917e-f8c16f1eaead').text('ETA:  0:00:00');"
       ],
       "metadata": {},
       "output_type": "display_data",
       "text": [
        "<IPython.core.display.Javascript at 0x17275668>"
       ]
      },
      {
       "javascript": [
        "$('div#f535958d-22da-449f-90ec-10d01c8d9a94').text('189 of 2029');"
       ],
       "metadata": {},
       "output_type": "display_data",
       "text": [
        "<IPython.core.display.Javascript at 0x17275208>"
       ]
      },
      {
       "javascript": [
        "$('div#d70eb2cd-1edc-47d2-986c-b9492706aa76').text('  9%');"
       ],
       "metadata": {},
       "output_type": "display_data",
       "text": [
        "<IPython.core.display.Javascript at 0x36c0e10>"
       ]
      },
      {
       "javascript": [
        "\n",
        "        var $myPB = $(\"div#4814c797-c07a-4b7c-b4ba-8b1c874097a2\")\n",
        "        if ($myPB.hasClass('ui-progressbar')) {\n",
        "            $myPB.progressbar('value', 189);\n",
        "        } else {\n",
        "            $myPB.progressbar({value: 0, max: 2029});\n",
        "        }\n",
        "        "
       ],
       "metadata": {},
       "output_type": "display_data",
       "text": [
        "<IPython.core.display.Javascript at 0x17275208>"
       ]
      },
      {
       "javascript": [
        "$('div#7f1f6558-88cf-40fd-917e-f8c16f1eaead').text('ETA:  0:00:00');"
       ],
       "metadata": {},
       "output_type": "display_data",
       "text": [
        "<IPython.core.display.Javascript at 0x17275668>"
       ]
      },
      {
       "javascript": [
        "$('div#f535958d-22da-449f-90ec-10d01c8d9a94').text('210 of 2029');"
       ],
       "metadata": {},
       "output_type": "display_data",
       "text": [
        "<IPython.core.display.Javascript at 0x17275b70>"
       ]
      },
      {
       "javascript": [
        "$('div#d70eb2cd-1edc-47d2-986c-b9492706aa76').text(' 10%');"
       ],
       "metadata": {},
       "output_type": "display_data",
       "text": [
        "<IPython.core.display.Javascript at 0x17275b70>"
       ]
      },
      {
       "javascript": [
        "\n",
        "        var $myPB = $(\"div#4814c797-c07a-4b7c-b4ba-8b1c874097a2\")\n",
        "        if ($myPB.hasClass('ui-progressbar')) {\n",
        "            $myPB.progressbar('value', 210);\n",
        "        } else {\n",
        "            $myPB.progressbar({value: 0, max: 2029});\n",
        "        }\n",
        "        "
       ],
       "metadata": {},
       "output_type": "display_data",
       "text": [
        "<IPython.core.display.Javascript at 0x36c0e10>"
       ]
      },
      {
       "javascript": [
        "$('div#7f1f6558-88cf-40fd-917e-f8c16f1eaead').text('ETA:  0:00:00');"
       ],
       "metadata": {},
       "output_type": "display_data",
       "text": [
        "<IPython.core.display.Javascript at 0x17275048>"
       ]
      },
      {
       "javascript": [
        "$('div#f535958d-22da-449f-90ec-10d01c8d9a94').text('231 of 2029');"
       ],
       "metadata": {},
       "output_type": "display_data",
       "text": [
        "<IPython.core.display.Javascript at 0x17275208>"
       ]
      },
      {
       "javascript": [
        "$('div#d70eb2cd-1edc-47d2-986c-b9492706aa76').text(' 11%');"
       ],
       "metadata": {},
       "output_type": "display_data",
       "text": [
        "<IPython.core.display.Javascript at 0x36c0e10>"
       ]
      },
      {
       "javascript": [
        "\n",
        "        var $myPB = $(\"div#4814c797-c07a-4b7c-b4ba-8b1c874097a2\")\n",
        "        if ($myPB.hasClass('ui-progressbar')) {\n",
        "            $myPB.progressbar('value', 231);\n",
        "        } else {\n",
        "            $myPB.progressbar({value: 0, max: 2029});\n",
        "        }\n",
        "        "
       ],
       "metadata": {},
       "output_type": "display_data",
       "text": [
        "<IPython.core.display.Javascript at 0x17275208>"
       ]
      },
      {
       "javascript": [
        "$('div#7f1f6558-88cf-40fd-917e-f8c16f1eaead').text('ETA:  0:00:00');"
       ],
       "metadata": {},
       "output_type": "display_data",
       "text": [
        "<IPython.core.display.Javascript at 0x17275b70>"
       ]
      },
      {
       "javascript": [
        "$('div#f535958d-22da-449f-90ec-10d01c8d9a94').text('252 of 2029');"
       ],
       "metadata": {},
       "output_type": "display_data",
       "text": [
        "<IPython.core.display.Javascript at 0x1b425208>"
       ]
      },
      {
       "javascript": [
        "$('div#d70eb2cd-1edc-47d2-986c-b9492706aa76').text(' 12%');"
       ],
       "metadata": {},
       "output_type": "display_data",
       "text": [
        "<IPython.core.display.Javascript at 0x17275b70>"
       ]
      },
      {
       "javascript": [
        "\n",
        "        var $myPB = $(\"div#4814c797-c07a-4b7c-b4ba-8b1c874097a2\")\n",
        "        if ($myPB.hasClass('ui-progressbar')) {\n",
        "            $myPB.progressbar('value', 252);\n",
        "        } else {\n",
        "            $myPB.progressbar({value: 0, max: 2029});\n",
        "        }\n",
        "        "
       ],
       "metadata": {},
       "output_type": "display_data",
       "text": [
        "<IPython.core.display.Javascript at 0x17275208>"
       ]
      },
      {
       "javascript": [
        "$('div#7f1f6558-88cf-40fd-917e-f8c16f1eaead').text('ETA:  0:00:00');"
       ],
       "metadata": {},
       "output_type": "display_data",
       "text": [
        "<IPython.core.display.Javascript at 0x36c0e10>"
       ]
      },
      {
       "javascript": [
        "$('div#f535958d-22da-449f-90ec-10d01c8d9a94').text('273 of 2029');"
       ],
       "metadata": {},
       "output_type": "display_data",
       "text": [
        "<IPython.core.display.Javascript at 0x1b425240>"
       ]
      },
      {
       "javascript": [
        "$('div#d70eb2cd-1edc-47d2-986c-b9492706aa76').text(' 13%');"
       ],
       "metadata": {},
       "output_type": "display_data",
       "text": [
        "<IPython.core.display.Javascript at 0x36c0e10>"
       ]
      },
      {
       "javascript": [
        "\n",
        "        var $myPB = $(\"div#4814c797-c07a-4b7c-b4ba-8b1c874097a2\")\n",
        "        if ($myPB.hasClass('ui-progressbar')) {\n",
        "            $myPB.progressbar('value', 273);\n",
        "        } else {\n",
        "            $myPB.progressbar({value: 0, max: 2029});\n",
        "        }\n",
        "        "
       ],
       "metadata": {},
       "output_type": "display_data",
       "text": [
        "<IPython.core.display.Javascript at 0x17275208>"
       ]
      },
      {
       "javascript": [
        "$('div#7f1f6558-88cf-40fd-917e-f8c16f1eaead').text('ETA:  0:00:00');"
       ],
       "metadata": {},
       "output_type": "display_data",
       "text": [
        "<IPython.core.display.Javascript at 0x17275b70>"
       ]
      },
      {
       "javascript": [
        "$('div#f535958d-22da-449f-90ec-10d01c8d9a94').text('294 of 2029');"
       ],
       "metadata": {},
       "output_type": "display_data",
       "text": [
        "<IPython.core.display.Javascript at 0x1b425240>"
       ]
      },
      {
       "javascript": [
        "$('div#d70eb2cd-1edc-47d2-986c-b9492706aa76').text(' 14%');"
       ],
       "metadata": {},
       "output_type": "display_data",
       "text": [
        "<IPython.core.display.Javascript at 0x17275b70>"
       ]
      },
      {
       "javascript": [
        "\n",
        "        var $myPB = $(\"div#4814c797-c07a-4b7c-b4ba-8b1c874097a2\")\n",
        "        if ($myPB.hasClass('ui-progressbar')) {\n",
        "            $myPB.progressbar('value', 294);\n",
        "        } else {\n",
        "            $myPB.progressbar({value: 0, max: 2029});\n",
        "        }\n",
        "        "
       ],
       "metadata": {},
       "output_type": "display_data",
       "text": [
        "<IPython.core.display.Javascript at 0x17275208>"
       ]
      },
      {
       "javascript": [
        "$('div#7f1f6558-88cf-40fd-917e-f8c16f1eaead').text('ETA:  0:00:00');"
       ],
       "metadata": {},
       "output_type": "display_data",
       "text": [
        "<IPython.core.display.Javascript at 0x36c0e10>"
       ]
      },
      {
       "javascript": [
        "$('div#f535958d-22da-449f-90ec-10d01c8d9a94').text('315 of 2029');"
       ],
       "metadata": {},
       "output_type": "display_data",
       "text": [
        "<IPython.core.display.Javascript at 0x1b425630>"
       ]
      },
      {
       "javascript": [
        "$('div#d70eb2cd-1edc-47d2-986c-b9492706aa76').text(' 15%');"
       ],
       "metadata": {},
       "output_type": "display_data",
       "text": [
        "<IPython.core.display.Javascript at 0x36c0e10>"
       ]
      },
      {
       "javascript": [
        "\n",
        "        var $myPB = $(\"div#4814c797-c07a-4b7c-b4ba-8b1c874097a2\")\n",
        "        if ($myPB.hasClass('ui-progressbar')) {\n",
        "            $myPB.progressbar('value', 315);\n",
        "        } else {\n",
        "            $myPB.progressbar({value: 0, max: 2029});\n",
        "        }\n",
        "        "
       ],
       "metadata": {},
       "output_type": "display_data",
       "text": [
        "<IPython.core.display.Javascript at 0x17275208>"
       ]
      },
      {
       "javascript": [
        "$('div#7f1f6558-88cf-40fd-917e-f8c16f1eaead').text('ETA:  0:00:00');"
       ],
       "metadata": {},
       "output_type": "display_data",
       "text": [
        "<IPython.core.display.Javascript at 0x17275b70>"
       ]
      },
      {
       "javascript": [
        "$('div#f535958d-22da-449f-90ec-10d01c8d9a94').text('336 of 2029');"
       ],
       "metadata": {},
       "output_type": "display_data",
       "text": [
        "<IPython.core.display.Javascript at 0x1b425630>"
       ]
      },
      {
       "javascript": [
        "$('div#d70eb2cd-1edc-47d2-986c-b9492706aa76').text(' 16%');"
       ],
       "metadata": {},
       "output_type": "display_data",
       "text": [
        "<IPython.core.display.Javascript at 0x17275b70>"
       ]
      },
      {
       "javascript": [
        "\n",
        "        var $myPB = $(\"div#4814c797-c07a-4b7c-b4ba-8b1c874097a2\")\n",
        "        if ($myPB.hasClass('ui-progressbar')) {\n",
        "            $myPB.progressbar('value', 336);\n",
        "        } else {\n",
        "            $myPB.progressbar({value: 0, max: 2029});\n",
        "        }\n",
        "        "
       ],
       "metadata": {},
       "output_type": "display_data",
       "text": [
        "<IPython.core.display.Javascript at 0x17275208>"
       ]
      },
      {
       "javascript": [
        "$('div#7f1f6558-88cf-40fd-917e-f8c16f1eaead').text('ETA:  0:00:00');"
       ],
       "metadata": {},
       "output_type": "display_data",
       "text": [
        "<IPython.core.display.Javascript at 0x36c0e10>"
       ]
      },
      {
       "javascript": [
        "$('div#f535958d-22da-449f-90ec-10d01c8d9a94').text('357 of 2029');"
       ],
       "metadata": {},
       "output_type": "display_data",
       "text": [
        "<IPython.core.display.Javascript at 0x1b425630>"
       ]
      },
      {
       "javascript": [
        "$('div#d70eb2cd-1edc-47d2-986c-b9492706aa76').text(' 17%');"
       ],
       "metadata": {},
       "output_type": "display_data",
       "text": [
        "<IPython.core.display.Javascript at 0x36c0e10>"
       ]
      },
      {
       "javascript": [
        "\n",
        "        var $myPB = $(\"div#4814c797-c07a-4b7c-b4ba-8b1c874097a2\")\n",
        "        if ($myPB.hasClass('ui-progressbar')) {\n",
        "            $myPB.progressbar('value', 357);\n",
        "        } else {\n",
        "            $myPB.progressbar({value: 0, max: 2029});\n",
        "        }\n",
        "        "
       ],
       "metadata": {},
       "output_type": "display_data",
       "text": [
        "<IPython.core.display.Javascript at 0x17275208>"
       ]
      },
      {
       "javascript": [
        "$('div#7f1f6558-88cf-40fd-917e-f8c16f1eaead').text('ETA:  0:00:00');"
       ],
       "metadata": {},
       "output_type": "display_data",
       "text": [
        "<IPython.core.display.Javascript at 0x17275b70>"
       ]
      },
      {
       "javascript": [
        "$('div#f535958d-22da-449f-90ec-10d01c8d9a94').text('378 of 2029');"
       ],
       "metadata": {},
       "output_type": "display_data",
       "text": [
        "<IPython.core.display.Javascript at 0x1b425e48>"
       ]
      },
      {
       "javascript": [
        "$('div#d70eb2cd-1edc-47d2-986c-b9492706aa76').text(' 18%');"
       ],
       "metadata": {},
       "output_type": "display_data",
       "text": [
        "<IPython.core.display.Javascript at 0x17275b70>"
       ]
      },
      {
       "javascript": [
        "\n",
        "        var $myPB = $(\"div#4814c797-c07a-4b7c-b4ba-8b1c874097a2\")\n",
        "        if ($myPB.hasClass('ui-progressbar')) {\n",
        "            $myPB.progressbar('value', 378);\n",
        "        } else {\n",
        "            $myPB.progressbar({value: 0, max: 2029});\n",
        "        }\n",
        "        "
       ],
       "metadata": {},
       "output_type": "display_data",
       "text": [
        "<IPython.core.display.Javascript at 0x17275208>"
       ]
      },
      {
       "javascript": [
        "$('div#7f1f6558-88cf-40fd-917e-f8c16f1eaead').text('ETA:  0:00:00');"
       ],
       "metadata": {},
       "output_type": "display_data",
       "text": [
        "<IPython.core.display.Javascript at 0x36c0e10>"
       ]
      },
      {
       "javascript": [
        "$('div#f535958d-22da-449f-90ec-10d01c8d9a94').text('399 of 2029');"
       ],
       "metadata": {},
       "output_type": "display_data",
       "text": [
        "<IPython.core.display.Javascript at 0x1b425ef0>"
       ]
      },
      {
       "javascript": [
        "$('div#d70eb2cd-1edc-47d2-986c-b9492706aa76').text(' 19%');"
       ],
       "metadata": {},
       "output_type": "display_data",
       "text": [
        "<IPython.core.display.Javascript at 0x36c0e10>"
       ]
      },
      {
       "javascript": [
        "\n",
        "        var $myPB = $(\"div#4814c797-c07a-4b7c-b4ba-8b1c874097a2\")\n",
        "        if ($myPB.hasClass('ui-progressbar')) {\n",
        "            $myPB.progressbar('value', 399);\n",
        "        } else {\n",
        "            $myPB.progressbar({value: 0, max: 2029});\n",
        "        }\n",
        "        "
       ],
       "metadata": {},
       "output_type": "display_data",
       "text": [
        "<IPython.core.display.Javascript at 0x17275208>"
       ]
      },
      {
       "javascript": [
        "$('div#7f1f6558-88cf-40fd-917e-f8c16f1eaead').text('ETA:  0:00:00');"
       ],
       "metadata": {},
       "output_type": "display_data",
       "text": [
        "<IPython.core.display.Javascript at 0x17275b70>"
       ]
      },
      {
       "javascript": [
        "$('div#f535958d-22da-449f-90ec-10d01c8d9a94').text('420 of 2029');"
       ],
       "metadata": {},
       "output_type": "display_data",
       "text": [
        "<IPython.core.display.Javascript at 0x1b425ef0>"
       ]
      },
      {
       "javascript": [
        "$('div#d70eb2cd-1edc-47d2-986c-b9492706aa76').text(' 20%');"
       ],
       "metadata": {},
       "output_type": "display_data",
       "text": [
        "<IPython.core.display.Javascript at 0x17275b70>"
       ]
      },
      {
       "javascript": [
        "\n",
        "        var $myPB = $(\"div#4814c797-c07a-4b7c-b4ba-8b1c874097a2\")\n",
        "        if ($myPB.hasClass('ui-progressbar')) {\n",
        "            $myPB.progressbar('value', 420);\n",
        "        } else {\n",
        "            $myPB.progressbar({value: 0, max: 2029});\n",
        "        }\n",
        "        "
       ],
       "metadata": {},
       "output_type": "display_data",
       "text": [
        "<IPython.core.display.Javascript at 0x17275208>"
       ]
      },
      {
       "javascript": [
        "$('div#7f1f6558-88cf-40fd-917e-f8c16f1eaead').text('ETA:  0:00:00');"
       ],
       "metadata": {},
       "output_type": "display_data",
       "text": [
        "<IPython.core.display.Javascript at 0x36c0e10>"
       ]
      },
      {
       "javascript": [
        "$('div#f535958d-22da-449f-90ec-10d01c8d9a94').text('441 of 2029');"
       ],
       "metadata": {},
       "output_type": "display_data",
       "text": [
        "<IPython.core.display.Javascript at 0x1b425ef0>"
       ]
      },
      {
       "javascript": [
        "$('div#d70eb2cd-1edc-47d2-986c-b9492706aa76').text(' 21%');"
       ],
       "metadata": {},
       "output_type": "display_data",
       "text": [
        "<IPython.core.display.Javascript at 0x36c0e10>"
       ]
      },
      {
       "javascript": [
        "\n",
        "        var $myPB = $(\"div#4814c797-c07a-4b7c-b4ba-8b1c874097a2\")\n",
        "        if ($myPB.hasClass('ui-progressbar')) {\n",
        "            $myPB.progressbar('value', 441);\n",
        "        } else {\n",
        "            $myPB.progressbar({value: 0, max: 2029});\n",
        "        }\n",
        "        "
       ],
       "metadata": {},
       "output_type": "display_data",
       "text": [
        "<IPython.core.display.Javascript at 0x17275208>"
       ]
      },
      {
       "javascript": [
        "$('div#7f1f6558-88cf-40fd-917e-f8c16f1eaead').text('ETA:  0:00:00');"
       ],
       "metadata": {},
       "output_type": "display_data",
       "text": [
        "<IPython.core.display.Javascript at 0x17275b70>"
       ]
      },
      {
       "javascript": [
        "$('div#f535958d-22da-449f-90ec-10d01c8d9a94').text('462 of 2029');"
       ],
       "metadata": {},
       "output_type": "display_data",
       "text": [
        "<IPython.core.display.Javascript at 0x1b425ef0>"
       ]
      },
      {
       "javascript": [
        "$('div#d70eb2cd-1edc-47d2-986c-b9492706aa76').text(' 22%');"
       ],
       "metadata": {},
       "output_type": "display_data",
       "text": [
        "<IPython.core.display.Javascript at 0x17275b70>"
       ]
      },
      {
       "javascript": [
        "\n",
        "        var $myPB = $(\"div#4814c797-c07a-4b7c-b4ba-8b1c874097a2\")\n",
        "        if ($myPB.hasClass('ui-progressbar')) {\n",
        "            $myPB.progressbar('value', 462);\n",
        "        } else {\n",
        "            $myPB.progressbar({value: 0, max: 2029});\n",
        "        }\n",
        "        "
       ],
       "metadata": {},
       "output_type": "display_data",
       "text": [
        "<IPython.core.display.Javascript at 0x17275208>"
       ]
      },
      {
       "javascript": [
        "$('div#7f1f6558-88cf-40fd-917e-f8c16f1eaead').text('ETA:  0:00:00');"
       ],
       "metadata": {},
       "output_type": "display_data",
       "text": [
        "<IPython.core.display.Javascript at 0x36c0e10>"
       ]
      },
      {
       "javascript": [
        "$('div#f535958d-22da-449f-90ec-10d01c8d9a94').text('483 of 2029');"
       ],
       "metadata": {},
       "output_type": "display_data",
       "text": [
        "<IPython.core.display.Javascript at 0x1b425ef0>"
       ]
      },
      {
       "javascript": [
        "$('div#d70eb2cd-1edc-47d2-986c-b9492706aa76').text(' 23%');"
       ],
       "metadata": {},
       "output_type": "display_data",
       "text": [
        "<IPython.core.display.Javascript at 0x36c0e10>"
       ]
      },
      {
       "javascript": [
        "\n",
        "        var $myPB = $(\"div#4814c797-c07a-4b7c-b4ba-8b1c874097a2\")\n",
        "        if ($myPB.hasClass('ui-progressbar')) {\n",
        "            $myPB.progressbar('value', 483);\n",
        "        } else {\n",
        "            $myPB.progressbar({value: 0, max: 2029});\n",
        "        }\n",
        "        "
       ],
       "metadata": {},
       "output_type": "display_data",
       "text": [
        "<IPython.core.display.Javascript at 0x17275208>"
       ]
      },
      {
       "javascript": [
        "$('div#7f1f6558-88cf-40fd-917e-f8c16f1eaead').text('ETA:  0:00:00');"
       ],
       "metadata": {},
       "output_type": "display_data",
       "text": [
        "<IPython.core.display.Javascript at 0x17275b70>"
       ]
      },
      {
       "javascript": [
        "$('div#f535958d-22da-449f-90ec-10d01c8d9a94').text('504 of 2029');"
       ],
       "metadata": {},
       "output_type": "display_data",
       "text": [
        "<IPython.core.display.Javascript at 0x1b425ef0>"
       ]
      },
      {
       "javascript": [
        "$('div#d70eb2cd-1edc-47d2-986c-b9492706aa76').text(' 24%');"
       ],
       "metadata": {},
       "output_type": "display_data",
       "text": [
        "<IPython.core.display.Javascript at 0x17275b70>"
       ]
      },
      {
       "javascript": [
        "\n",
        "        var $myPB = $(\"div#4814c797-c07a-4b7c-b4ba-8b1c874097a2\")\n",
        "        if ($myPB.hasClass('ui-progressbar')) {\n",
        "            $myPB.progressbar('value', 504);\n",
        "        } else {\n",
        "            $myPB.progressbar({value: 0, max: 2029});\n",
        "        }\n",
        "        "
       ],
       "metadata": {},
       "output_type": "display_data",
       "text": [
        "<IPython.core.display.Javascript at 0x17275208>"
       ]
      },
      {
       "javascript": [
        "$('div#7f1f6558-88cf-40fd-917e-f8c16f1eaead').text('ETA:  0:00:00');"
       ],
       "metadata": {},
       "output_type": "display_data",
       "text": [
        "<IPython.core.display.Javascript at 0x36c0e10>"
       ]
      },
      {
       "javascript": [
        "$('div#f535958d-22da-449f-90ec-10d01c8d9a94').text('525 of 2029');"
       ],
       "metadata": {},
       "output_type": "display_data",
       "text": [
        "<IPython.core.display.Javascript at 0x1b425ef0>"
       ]
      },
      {
       "javascript": [
        "$('div#d70eb2cd-1edc-47d2-986c-b9492706aa76').text(' 25%');"
       ],
       "metadata": {},
       "output_type": "display_data",
       "text": [
        "<IPython.core.display.Javascript at 0x36c0e10>"
       ]
      },
      {
       "javascript": [
        "\n",
        "        var $myPB = $(\"div#4814c797-c07a-4b7c-b4ba-8b1c874097a2\")\n",
        "        if ($myPB.hasClass('ui-progressbar')) {\n",
        "            $myPB.progressbar('value', 525);\n",
        "        } else {\n",
        "            $myPB.progressbar({value: 0, max: 2029});\n",
        "        }\n",
        "        "
       ],
       "metadata": {},
       "output_type": "display_data",
       "text": [
        "<IPython.core.display.Javascript at 0x17275208>"
       ]
      },
      {
       "javascript": [
        "$('div#7f1f6558-88cf-40fd-917e-f8c16f1eaead').text('ETA:  0:00:00');"
       ],
       "metadata": {},
       "output_type": "display_data",
       "text": [
        "<IPython.core.display.Javascript at 0x17275b70>"
       ]
      },
      {
       "javascript": [
        "$('div#f535958d-22da-449f-90ec-10d01c8d9a94').text('546 of 2029');"
       ],
       "metadata": {},
       "output_type": "display_data",
       "text": [
        "<IPython.core.display.Javascript at 0x1b425ef0>"
       ]
      },
      {
       "javascript": [
        "$('div#d70eb2cd-1edc-47d2-986c-b9492706aa76').text(' 26%');"
       ],
       "metadata": {},
       "output_type": "display_data",
       "text": [
        "<IPython.core.display.Javascript at 0x17275b70>"
       ]
      },
      {
       "javascript": [
        "\n",
        "        var $myPB = $(\"div#4814c797-c07a-4b7c-b4ba-8b1c874097a2\")\n",
        "        if ($myPB.hasClass('ui-progressbar')) {\n",
        "            $myPB.progressbar('value', 546);\n",
        "        } else {\n",
        "            $myPB.progressbar({value: 0, max: 2029});\n",
        "        }\n",
        "        "
       ],
       "metadata": {},
       "output_type": "display_data",
       "text": [
        "<IPython.core.display.Javascript at 0x17275208>"
       ]
      },
      {
       "javascript": [
        "$('div#7f1f6558-88cf-40fd-917e-f8c16f1eaead').text('ETA:  0:00:00');"
       ],
       "metadata": {},
       "output_type": "display_data",
       "text": [
        "<IPython.core.display.Javascript at 0x36c0e10>"
       ]
      },
      {
       "javascript": [
        "$('div#f535958d-22da-449f-90ec-10d01c8d9a94').text('567 of 2029');"
       ],
       "metadata": {},
       "output_type": "display_data",
       "text": [
        "<IPython.core.display.Javascript at 0x1b425ef0>"
       ]
      },
      {
       "javascript": [
        "$('div#d70eb2cd-1edc-47d2-986c-b9492706aa76').text(' 27%');"
       ],
       "metadata": {},
       "output_type": "display_data",
       "text": [
        "<IPython.core.display.Javascript at 0x36c0e10>"
       ]
      },
      {
       "javascript": [
        "\n",
        "        var $myPB = $(\"div#4814c797-c07a-4b7c-b4ba-8b1c874097a2\")\n",
        "        if ($myPB.hasClass('ui-progressbar')) {\n",
        "            $myPB.progressbar('value', 567);\n",
        "        } else {\n",
        "            $myPB.progressbar({value: 0, max: 2029});\n",
        "        }\n",
        "        "
       ],
       "metadata": {},
       "output_type": "display_data",
       "text": [
        "<IPython.core.display.Javascript at 0x17275208>"
       ]
      },
      {
       "javascript": [
        "$('div#7f1f6558-88cf-40fd-917e-f8c16f1eaead').text('ETA:  0:00:00');"
       ],
       "metadata": {},
       "output_type": "display_data",
       "text": [
        "<IPython.core.display.Javascript at 0x17275b70>"
       ]
      },
      {
       "javascript": [
        "$('div#f535958d-22da-449f-90ec-10d01c8d9a94').text('588 of 2029');"
       ],
       "metadata": {},
       "output_type": "display_data",
       "text": [
        "<IPython.core.display.Javascript at 0x1b425ef0>"
       ]
      },
      {
       "javascript": [
        "$('div#d70eb2cd-1edc-47d2-986c-b9492706aa76').text(' 28%');"
       ],
       "metadata": {},
       "output_type": "display_data",
       "text": [
        "<IPython.core.display.Javascript at 0x17275b70>"
       ]
      },
      {
       "javascript": [
        "\n",
        "        var $myPB = $(\"div#4814c797-c07a-4b7c-b4ba-8b1c874097a2\")\n",
        "        if ($myPB.hasClass('ui-progressbar')) {\n",
        "            $myPB.progressbar('value', 588);\n",
        "        } else {\n",
        "            $myPB.progressbar({value: 0, max: 2029});\n",
        "        }\n",
        "        "
       ],
       "metadata": {},
       "output_type": "display_data",
       "text": [
        "<IPython.core.display.Javascript at 0x17275208>"
       ]
      },
      {
       "javascript": [
        "$('div#7f1f6558-88cf-40fd-917e-f8c16f1eaead').text('ETA:  0:00:00');"
       ],
       "metadata": {},
       "output_type": "display_data",
       "text": [
        "<IPython.core.display.Javascript at 0x36c0e10>"
       ]
      },
      {
       "javascript": [
        "$('div#f535958d-22da-449f-90ec-10d01c8d9a94').text('609 of 2029');"
       ],
       "metadata": {},
       "output_type": "display_data",
       "text": [
        "<IPython.core.display.Javascript at 0x1b425ef0>"
       ]
      },
      {
       "javascript": [
        "$('div#d70eb2cd-1edc-47d2-986c-b9492706aa76').text(' 30%');"
       ],
       "metadata": {},
       "output_type": "display_data",
       "text": [
        "<IPython.core.display.Javascript at 0x36c0e10>"
       ]
      },
      {
       "javascript": [
        "\n",
        "        var $myPB = $(\"div#4814c797-c07a-4b7c-b4ba-8b1c874097a2\")\n",
        "        if ($myPB.hasClass('ui-progressbar')) {\n",
        "            $myPB.progressbar('value', 609);\n",
        "        } else {\n",
        "            $myPB.progressbar({value: 0, max: 2029});\n",
        "        }\n",
        "        "
       ],
       "metadata": {},
       "output_type": "display_data",
       "text": [
        "<IPython.core.display.Javascript at 0x17275208>"
       ]
      },
      {
       "javascript": [
        "$('div#7f1f6558-88cf-40fd-917e-f8c16f1eaead').text('ETA:  0:00:00');"
       ],
       "metadata": {},
       "output_type": "display_data",
       "text": [
        "<IPython.core.display.Javascript at 0x17275b70>"
       ]
      },
      {
       "javascript": [
        "$('div#f535958d-22da-449f-90ec-10d01c8d9a94').text('630 of 2029');"
       ],
       "metadata": {},
       "output_type": "display_data",
       "text": [
        "<IPython.core.display.Javascript at 0x1b425ef0>"
       ]
      },
      {
       "javascript": [
        "$('div#d70eb2cd-1edc-47d2-986c-b9492706aa76').text(' 31%');"
       ],
       "metadata": {},
       "output_type": "display_data",
       "text": [
        "<IPython.core.display.Javascript at 0x17275b70>"
       ]
      },
      {
       "javascript": [
        "\n",
        "        var $myPB = $(\"div#4814c797-c07a-4b7c-b4ba-8b1c874097a2\")\n",
        "        if ($myPB.hasClass('ui-progressbar')) {\n",
        "            $myPB.progressbar('value', 630);\n",
        "        } else {\n",
        "            $myPB.progressbar({value: 0, max: 2029});\n",
        "        }\n",
        "        "
       ],
       "metadata": {},
       "output_type": "display_data",
       "text": [
        "<IPython.core.display.Javascript at 0x17275208>"
       ]
      },
      {
       "javascript": [
        "$('div#7f1f6558-88cf-40fd-917e-f8c16f1eaead').text('ETA:  0:00:00');"
       ],
       "metadata": {},
       "output_type": "display_data",
       "text": [
        "<IPython.core.display.Javascript at 0x36c0e10>"
       ]
      },
      {
       "javascript": [
        "$('div#f535958d-22da-449f-90ec-10d01c8d9a94').text('651 of 2029');"
       ],
       "metadata": {},
       "output_type": "display_data",
       "text": [
        "<IPython.core.display.Javascript at 0x1b425ef0>"
       ]
      },
      {
       "javascript": [
        "$('div#d70eb2cd-1edc-47d2-986c-b9492706aa76').text(' 32%');"
       ],
       "metadata": {},
       "output_type": "display_data",
       "text": [
        "<IPython.core.display.Javascript at 0x36c0e10>"
       ]
      },
      {
       "javascript": [
        "\n",
        "        var $myPB = $(\"div#4814c797-c07a-4b7c-b4ba-8b1c874097a2\")\n",
        "        if ($myPB.hasClass('ui-progressbar')) {\n",
        "            $myPB.progressbar('value', 651);\n",
        "        } else {\n",
        "            $myPB.progressbar({value: 0, max: 2029});\n",
        "        }\n",
        "        "
       ],
       "metadata": {},
       "output_type": "display_data",
       "text": [
        "<IPython.core.display.Javascript at 0x17275208>"
       ]
      },
      {
       "javascript": [
        "$('div#7f1f6558-88cf-40fd-917e-f8c16f1eaead').text('ETA:  0:00:00');"
       ],
       "metadata": {},
       "output_type": "display_data",
       "text": [
        "<IPython.core.display.Javascript at 0x17275b70>"
       ]
      },
      {
       "javascript": [
        "$('div#f535958d-22da-449f-90ec-10d01c8d9a94').text('672 of 2029');"
       ],
       "metadata": {},
       "output_type": "display_data",
       "text": [
        "<IPython.core.display.Javascript at 0x1b425ef0>"
       ]
      },
      {
       "javascript": [
        "$('div#d70eb2cd-1edc-47d2-986c-b9492706aa76').text(' 33%');"
       ],
       "metadata": {},
       "output_type": "display_data",
       "text": [
        "<IPython.core.display.Javascript at 0x17275b70>"
       ]
      },
      {
       "javascript": [
        "\n",
        "        var $myPB = $(\"div#4814c797-c07a-4b7c-b4ba-8b1c874097a2\")\n",
        "        if ($myPB.hasClass('ui-progressbar')) {\n",
        "            $myPB.progressbar('value', 672);\n",
        "        } else {\n",
        "            $myPB.progressbar({value: 0, max: 2029});\n",
        "        }\n",
        "        "
       ],
       "metadata": {},
       "output_type": "display_data",
       "text": [
        "<IPython.core.display.Javascript at 0x17275208>"
       ]
      },
      {
       "javascript": [
        "$('div#7f1f6558-88cf-40fd-917e-f8c16f1eaead').text('ETA:  0:00:00');"
       ],
       "metadata": {},
       "output_type": "display_data",
       "text": [
        "<IPython.core.display.Javascript at 0x36c0e10>"
       ]
      },
      {
       "javascript": [
        "$('div#f535958d-22da-449f-90ec-10d01c8d9a94').text('693 of 2029');"
       ],
       "metadata": {},
       "output_type": "display_data",
       "text": [
        "<IPython.core.display.Javascript at 0x1b4250b8>"
       ]
      },
      {
       "javascript": [
        "$('div#d70eb2cd-1edc-47d2-986c-b9492706aa76').text(' 34%');"
       ],
       "metadata": {},
       "output_type": "display_data",
       "text": [
        "<IPython.core.display.Javascript at 0x36c0e10>"
       ]
      },
      {
       "javascript": [
        "\n",
        "        var $myPB = $(\"div#4814c797-c07a-4b7c-b4ba-8b1c874097a2\")\n",
        "        if ($myPB.hasClass('ui-progressbar')) {\n",
        "            $myPB.progressbar('value', 693);\n",
        "        } else {\n",
        "            $myPB.progressbar({value: 0, max: 2029});\n",
        "        }\n",
        "        "
       ],
       "metadata": {},
       "output_type": "display_data",
       "text": [
        "<IPython.core.display.Javascript at 0x17275208>"
       ]
      },
      {
       "javascript": [
        "$('div#7f1f6558-88cf-40fd-917e-f8c16f1eaead').text('ETA:  0:00:00');"
       ],
       "metadata": {},
       "output_type": "display_data",
       "text": [
        "<IPython.core.display.Javascript at 0x17275b70>"
       ]
      },
      {
       "javascript": [
        "$('div#f535958d-22da-449f-90ec-10d01c8d9a94').text('714 of 2029');"
       ],
       "metadata": {},
       "output_type": "display_data",
       "text": [
        "<IPython.core.display.Javascript at 0x1b4250b8>"
       ]
      },
      {
       "javascript": [
        "$('div#d70eb2cd-1edc-47d2-986c-b9492706aa76').text(' 35%');"
       ],
       "metadata": {},
       "output_type": "display_data",
       "text": [
        "<IPython.core.display.Javascript at 0x17275b70>"
       ]
      },
      {
       "javascript": [
        "\n",
        "        var $myPB = $(\"div#4814c797-c07a-4b7c-b4ba-8b1c874097a2\")\n",
        "        if ($myPB.hasClass('ui-progressbar')) {\n",
        "            $myPB.progressbar('value', 714);\n",
        "        } else {\n",
        "            $myPB.progressbar({value: 0, max: 2029});\n",
        "        }\n",
        "        "
       ],
       "metadata": {},
       "output_type": "display_data",
       "text": [
        "<IPython.core.display.Javascript at 0x17275208>"
       ]
      },
      {
       "javascript": [
        "$('div#7f1f6558-88cf-40fd-917e-f8c16f1eaead').text('ETA:  0:00:00');"
       ],
       "metadata": {},
       "output_type": "display_data",
       "text": [
        "<IPython.core.display.Javascript at 0x36c0e10>"
       ]
      },
      {
       "javascript": [
        "$('div#f535958d-22da-449f-90ec-10d01c8d9a94').text('735 of 2029');"
       ],
       "metadata": {},
       "output_type": "display_data",
       "text": [
        "<IPython.core.display.Javascript at 0x1b4250b8>"
       ]
      },
      {
       "javascript": [
        "$('div#d70eb2cd-1edc-47d2-986c-b9492706aa76').text(' 36%');"
       ],
       "metadata": {},
       "output_type": "display_data",
       "text": [
        "<IPython.core.display.Javascript at 0x36c0e10>"
       ]
      },
      {
       "javascript": [
        "\n",
        "        var $myPB = $(\"div#4814c797-c07a-4b7c-b4ba-8b1c874097a2\")\n",
        "        if ($myPB.hasClass('ui-progressbar')) {\n",
        "            $myPB.progressbar('value', 735);\n",
        "        } else {\n",
        "            $myPB.progressbar({value: 0, max: 2029});\n",
        "        }\n",
        "        "
       ],
       "metadata": {},
       "output_type": "display_data",
       "text": [
        "<IPython.core.display.Javascript at 0x17275208>"
       ]
      },
      {
       "javascript": [
        "$('div#7f1f6558-88cf-40fd-917e-f8c16f1eaead').text('ETA:  0:00:00');"
       ],
       "metadata": {},
       "output_type": "display_data",
       "text": [
        "<IPython.core.display.Javascript at 0x17275b70>"
       ]
      },
      {
       "javascript": [
        "$('div#f535958d-22da-449f-90ec-10d01c8d9a94').text('756 of 2029');"
       ],
       "metadata": {},
       "output_type": "display_data",
       "text": [
        "<IPython.core.display.Javascript at 0x1b4250b8>"
       ]
      },
      {
       "javascript": [
        "$('div#d70eb2cd-1edc-47d2-986c-b9492706aa76').text(' 37%');"
       ],
       "metadata": {},
       "output_type": "display_data",
       "text": [
        "<IPython.core.display.Javascript at 0x17275b70>"
       ]
      },
      {
       "javascript": [
        "\n",
        "        var $myPB = $(\"div#4814c797-c07a-4b7c-b4ba-8b1c874097a2\")\n",
        "        if ($myPB.hasClass('ui-progressbar')) {\n",
        "            $myPB.progressbar('value', 756);\n",
        "        } else {\n",
        "            $myPB.progressbar({value: 0, max: 2029});\n",
        "        }\n",
        "        "
       ],
       "metadata": {},
       "output_type": "display_data",
       "text": [
        "<IPython.core.display.Javascript at 0x17275208>"
       ]
      },
      {
       "javascript": [
        "$('div#7f1f6558-88cf-40fd-917e-f8c16f1eaead').text('ETA:  0:00:00');"
       ],
       "metadata": {},
       "output_type": "display_data",
       "text": [
        "<IPython.core.display.Javascript at 0x36c0e10>"
       ]
      },
      {
       "javascript": [
        "$('div#f535958d-22da-449f-90ec-10d01c8d9a94').text('777 of 2029');"
       ],
       "metadata": {},
       "output_type": "display_data",
       "text": [
        "<IPython.core.display.Javascript at 0x1b425a90>"
       ]
      },
      {
       "javascript": [
        "$('div#d70eb2cd-1edc-47d2-986c-b9492706aa76').text(' 38%');"
       ],
       "metadata": {},
       "output_type": "display_data",
       "text": [
        "<IPython.core.display.Javascript at 0x36c0e10>"
       ]
      },
      {
       "javascript": [
        "\n",
        "        var $myPB = $(\"div#4814c797-c07a-4b7c-b4ba-8b1c874097a2\")\n",
        "        if ($myPB.hasClass('ui-progressbar')) {\n",
        "            $myPB.progressbar('value', 777);\n",
        "        } else {\n",
        "            $myPB.progressbar({value: 0, max: 2029});\n",
        "        }\n",
        "        "
       ],
       "metadata": {},
       "output_type": "display_data",
       "text": [
        "<IPython.core.display.Javascript at 0x17275208>"
       ]
      },
      {
       "javascript": [
        "$('div#7f1f6558-88cf-40fd-917e-f8c16f1eaead').text('ETA:  0:00:00');"
       ],
       "metadata": {},
       "output_type": "display_data",
       "text": [
        "<IPython.core.display.Javascript at 0x17275b70>"
       ]
      },
      {
       "javascript": [
        "$('div#f535958d-22da-449f-90ec-10d01c8d9a94').text('798 of 2029');"
       ],
       "metadata": {},
       "output_type": "display_data",
       "text": [
        "<IPython.core.display.Javascript at 0x1b425a90>"
       ]
      },
      {
       "javascript": [
        "$('div#d70eb2cd-1edc-47d2-986c-b9492706aa76').text(' 39%');"
       ],
       "metadata": {},
       "output_type": "display_data",
       "text": [
        "<IPython.core.display.Javascript at 0x17275b70>"
       ]
      },
      {
       "javascript": [
        "\n",
        "        var $myPB = $(\"div#4814c797-c07a-4b7c-b4ba-8b1c874097a2\")\n",
        "        if ($myPB.hasClass('ui-progressbar')) {\n",
        "            $myPB.progressbar('value', 798);\n",
        "        } else {\n",
        "            $myPB.progressbar({value: 0, max: 2029});\n",
        "        }\n",
        "        "
       ],
       "metadata": {},
       "output_type": "display_data",
       "text": [
        "<IPython.core.display.Javascript at 0x17275208>"
       ]
      },
      {
       "javascript": [
        "$('div#7f1f6558-88cf-40fd-917e-f8c16f1eaead').text('ETA:  0:00:00');"
       ],
       "metadata": {},
       "output_type": "display_data",
       "text": [
        "<IPython.core.display.Javascript at 0x36c0e10>"
       ]
      },
      {
       "javascript": [
        "$('div#f535958d-22da-449f-90ec-10d01c8d9a94').text('819 of 2029');"
       ],
       "metadata": {},
       "output_type": "display_data",
       "text": [
        "<IPython.core.display.Javascript at 0x1b425a90>"
       ]
      },
      {
       "javascript": [
        "$('div#d70eb2cd-1edc-47d2-986c-b9492706aa76').text(' 40%');"
       ],
       "metadata": {},
       "output_type": "display_data",
       "text": [
        "<IPython.core.display.Javascript at 0x36c0e10>"
       ]
      },
      {
       "javascript": [
        "\n",
        "        var $myPB = $(\"div#4814c797-c07a-4b7c-b4ba-8b1c874097a2\")\n",
        "        if ($myPB.hasClass('ui-progressbar')) {\n",
        "            $myPB.progressbar('value', 819);\n",
        "        } else {\n",
        "            $myPB.progressbar({value: 0, max: 2029});\n",
        "        }\n",
        "        "
       ],
       "metadata": {},
       "output_type": "display_data",
       "text": [
        "<IPython.core.display.Javascript at 0x17275208>"
       ]
      },
      {
       "javascript": [
        "$('div#7f1f6558-88cf-40fd-917e-f8c16f1eaead').text('ETA:  0:00:00');"
       ],
       "metadata": {},
       "output_type": "display_data",
       "text": [
        "<IPython.core.display.Javascript at 0x17275b70>"
       ]
      },
      {
       "javascript": [
        "$('div#f535958d-22da-449f-90ec-10d01c8d9a94').text('840 of 2029');"
       ],
       "metadata": {},
       "output_type": "display_data",
       "text": [
        "<IPython.core.display.Javascript at 0x1b425a90>"
       ]
      },
      {
       "javascript": [
        "$('div#d70eb2cd-1edc-47d2-986c-b9492706aa76').text(' 41%');"
       ],
       "metadata": {},
       "output_type": "display_data",
       "text": [
        "<IPython.core.display.Javascript at 0x17275b70>"
       ]
      },
      {
       "javascript": [
        "\n",
        "        var $myPB = $(\"div#4814c797-c07a-4b7c-b4ba-8b1c874097a2\")\n",
        "        if ($myPB.hasClass('ui-progressbar')) {\n",
        "            $myPB.progressbar('value', 840);\n",
        "        } else {\n",
        "            $myPB.progressbar({value: 0, max: 2029});\n",
        "        }\n",
        "        "
       ],
       "metadata": {},
       "output_type": "display_data",
       "text": [
        "<IPython.core.display.Javascript at 0x17275208>"
       ]
      },
      {
       "javascript": [
        "$('div#7f1f6558-88cf-40fd-917e-f8c16f1eaead').text('ETA:  0:00:00');"
       ],
       "metadata": {},
       "output_type": "display_data",
       "text": [
        "<IPython.core.display.Javascript at 0x36c0e10>"
       ]
      },
      {
       "javascript": [
        "$('div#f535958d-22da-449f-90ec-10d01c8d9a94').text('861 of 2029');"
       ],
       "metadata": {},
       "output_type": "display_data",
       "text": [
        "<IPython.core.display.Javascript at 0x1b425e10>"
       ]
      },
      {
       "javascript": [
        "$('div#d70eb2cd-1edc-47d2-986c-b9492706aa76').text(' 42%');"
       ],
       "metadata": {},
       "output_type": "display_data",
       "text": [
        "<IPython.core.display.Javascript at 0x36c0e10>"
       ]
      },
      {
       "javascript": [
        "\n",
        "        var $myPB = $(\"div#4814c797-c07a-4b7c-b4ba-8b1c874097a2\")\n",
        "        if ($myPB.hasClass('ui-progressbar')) {\n",
        "            $myPB.progressbar('value', 861);\n",
        "        } else {\n",
        "            $myPB.progressbar({value: 0, max: 2029});\n",
        "        }\n",
        "        "
       ],
       "metadata": {},
       "output_type": "display_data",
       "text": [
        "<IPython.core.display.Javascript at 0x17275208>"
       ]
      },
      {
       "javascript": [
        "$('div#7f1f6558-88cf-40fd-917e-f8c16f1eaead').text('ETA:  0:00:00');"
       ],
       "metadata": {},
       "output_type": "display_data",
       "text": [
        "<IPython.core.display.Javascript at 0x17275b70>"
       ]
      },
      {
       "javascript": [
        "$('div#f535958d-22da-449f-90ec-10d01c8d9a94').text('882 of 2029');"
       ],
       "metadata": {},
       "output_type": "display_data",
       "text": [
        "<IPython.core.display.Javascript at 0x1b425e10>"
       ]
      },
      {
       "javascript": [
        "$('div#d70eb2cd-1edc-47d2-986c-b9492706aa76').text(' 43%');"
       ],
       "metadata": {},
       "output_type": "display_data",
       "text": [
        "<IPython.core.display.Javascript at 0x17275b70>"
       ]
      },
      {
       "javascript": [
        "\n",
        "        var $myPB = $(\"div#4814c797-c07a-4b7c-b4ba-8b1c874097a2\")\n",
        "        if ($myPB.hasClass('ui-progressbar')) {\n",
        "            $myPB.progressbar('value', 882);\n",
        "        } else {\n",
        "            $myPB.progressbar({value: 0, max: 2029});\n",
        "        }\n",
        "        "
       ],
       "metadata": {},
       "output_type": "display_data",
       "text": [
        "<IPython.core.display.Javascript at 0x17275208>"
       ]
      },
      {
       "javascript": [
        "$('div#7f1f6558-88cf-40fd-917e-f8c16f1eaead').text('ETA:  0:00:00');"
       ],
       "metadata": {},
       "output_type": "display_data",
       "text": [
        "<IPython.core.display.Javascript at 0x36c0e10>"
       ]
      },
      {
       "javascript": [
        "$('div#f535958d-22da-449f-90ec-10d01c8d9a94').text('903 of 2029');"
       ],
       "metadata": {},
       "output_type": "display_data",
       "text": [
        "<IPython.core.display.Javascript at 0x1b425e10>"
       ]
      },
      {
       "javascript": [
        "$('div#d70eb2cd-1edc-47d2-986c-b9492706aa76').text(' 44%');"
       ],
       "metadata": {},
       "output_type": "display_data",
       "text": [
        "<IPython.core.display.Javascript at 0x36c0e10>"
       ]
      },
      {
       "javascript": [
        "\n",
        "        var $myPB = $(\"div#4814c797-c07a-4b7c-b4ba-8b1c874097a2\")\n",
        "        if ($myPB.hasClass('ui-progressbar')) {\n",
        "            $myPB.progressbar('value', 903);\n",
        "        } else {\n",
        "            $myPB.progressbar({value: 0, max: 2029});\n",
        "        }\n",
        "        "
       ],
       "metadata": {},
       "output_type": "display_data",
       "text": [
        "<IPython.core.display.Javascript at 0x17275208>"
       ]
      },
      {
       "javascript": [
        "$('div#7f1f6558-88cf-40fd-917e-f8c16f1eaead').text('ETA:  0:00:00');"
       ],
       "metadata": {},
       "output_type": "display_data",
       "text": [
        "<IPython.core.display.Javascript at 0x17275b70>"
       ]
      },
      {
       "javascript": [
        "$('div#f535958d-22da-449f-90ec-10d01c8d9a94').text('924 of 2029');"
       ],
       "metadata": {},
       "output_type": "display_data",
       "text": [
        "<IPython.core.display.Javascript at 0x1b425e10>"
       ]
      },
      {
       "javascript": [
        "$('div#d70eb2cd-1edc-47d2-986c-b9492706aa76').text(' 45%');"
       ],
       "metadata": {},
       "output_type": "display_data",
       "text": [
        "<IPython.core.display.Javascript at 0x17275b70>"
       ]
      },
      {
       "javascript": [
        "\n",
        "        var $myPB = $(\"div#4814c797-c07a-4b7c-b4ba-8b1c874097a2\")\n",
        "        if ($myPB.hasClass('ui-progressbar')) {\n",
        "            $myPB.progressbar('value', 924);\n",
        "        } else {\n",
        "            $myPB.progressbar({value: 0, max: 2029});\n",
        "        }\n",
        "        "
       ],
       "metadata": {},
       "output_type": "display_data",
       "text": [
        "<IPython.core.display.Javascript at 0x17275208>"
       ]
      },
      {
       "javascript": [
        "$('div#7f1f6558-88cf-40fd-917e-f8c16f1eaead').text('ETA:  0:00:00');"
       ],
       "metadata": {},
       "output_type": "display_data",
       "text": [
        "<IPython.core.display.Javascript at 0x36c0e10>"
       ]
      },
      {
       "javascript": [
        "$('div#f535958d-22da-449f-90ec-10d01c8d9a94').text('945 of 2029');"
       ],
       "metadata": {},
       "output_type": "display_data",
       "text": [
        "<IPython.core.display.Javascript at 0x1b425eb8>"
       ]
      },
      {
       "javascript": [
        "$('div#d70eb2cd-1edc-47d2-986c-b9492706aa76').text(' 46%');"
       ],
       "metadata": {},
       "output_type": "display_data",
       "text": [
        "<IPython.core.display.Javascript at 0x36c0e10>"
       ]
      },
      {
       "javascript": [
        "\n",
        "        var $myPB = $(\"div#4814c797-c07a-4b7c-b4ba-8b1c874097a2\")\n",
        "        if ($myPB.hasClass('ui-progressbar')) {\n",
        "            $myPB.progressbar('value', 945);\n",
        "        } else {\n",
        "            $myPB.progressbar({value: 0, max: 2029});\n",
        "        }\n",
        "        "
       ],
       "metadata": {},
       "output_type": "display_data",
       "text": [
        "<IPython.core.display.Javascript at 0x17275208>"
       ]
      },
      {
       "javascript": [
        "$('div#7f1f6558-88cf-40fd-917e-f8c16f1eaead').text('ETA:  0:00:00');"
       ],
       "metadata": {},
       "output_type": "display_data",
       "text": [
        "<IPython.core.display.Javascript at 0x17275b70>"
       ]
      },
      {
       "javascript": [
        "$('div#f535958d-22da-449f-90ec-10d01c8d9a94').text('966 of 2029');"
       ],
       "metadata": {},
       "output_type": "display_data",
       "text": [
        "<IPython.core.display.Javascript at 0x1b425eb8>"
       ]
      },
      {
       "javascript": [
        "$('div#d70eb2cd-1edc-47d2-986c-b9492706aa76').text(' 47%');"
       ],
       "metadata": {},
       "output_type": "display_data",
       "text": [
        "<IPython.core.display.Javascript at 0x17275b70>"
       ]
      },
      {
       "javascript": [
        "\n",
        "        var $myPB = $(\"div#4814c797-c07a-4b7c-b4ba-8b1c874097a2\")\n",
        "        if ($myPB.hasClass('ui-progressbar')) {\n",
        "            $myPB.progressbar('value', 966);\n",
        "        } else {\n",
        "            $myPB.progressbar({value: 0, max: 2029});\n",
        "        }\n",
        "        "
       ],
       "metadata": {},
       "output_type": "display_data",
       "text": [
        "<IPython.core.display.Javascript at 0x17275208>"
       ]
      },
      {
       "javascript": [
        "$('div#7f1f6558-88cf-40fd-917e-f8c16f1eaead').text('ETA:  0:00:00');"
       ],
       "metadata": {},
       "output_type": "display_data",
       "text": [
        "<IPython.core.display.Javascript at 0x36c0e10>"
       ]
      },
      {
       "javascript": [
        "$('div#f535958d-22da-449f-90ec-10d01c8d9a94').text('987 of 2029');"
       ],
       "metadata": {},
       "output_type": "display_data",
       "text": [
        "<IPython.core.display.Javascript at 0x1b425eb8>"
       ]
      },
      {
       "javascript": [
        "$('div#d70eb2cd-1edc-47d2-986c-b9492706aa76').text(' 48%');"
       ],
       "metadata": {},
       "output_type": "display_data",
       "text": [
        "<IPython.core.display.Javascript at 0x36c0e10>"
       ]
      },
      {
       "javascript": [
        "\n",
        "        var $myPB = $(\"div#4814c797-c07a-4b7c-b4ba-8b1c874097a2\")\n",
        "        if ($myPB.hasClass('ui-progressbar')) {\n",
        "            $myPB.progressbar('value', 987);\n",
        "        } else {\n",
        "            $myPB.progressbar({value: 0, max: 2029});\n",
        "        }\n",
        "        "
       ],
       "metadata": {},
       "output_type": "display_data",
       "text": [
        "<IPython.core.display.Javascript at 0x17275208>"
       ]
      },
      {
       "javascript": [
        "$('div#7f1f6558-88cf-40fd-917e-f8c16f1eaead').text('ETA:  0:00:00');"
       ],
       "metadata": {},
       "output_type": "display_data",
       "text": [
        "<IPython.core.display.Javascript at 0x17275b70>"
       ]
      },
      {
       "javascript": [
        "$('div#f535958d-22da-449f-90ec-10d01c8d9a94').text('1008 of 2029');"
       ],
       "metadata": {},
       "output_type": "display_data",
       "text": [
        "<IPython.core.display.Javascript at 0x1b425eb8>"
       ]
      },
      {
       "javascript": [
        "$('div#d70eb2cd-1edc-47d2-986c-b9492706aa76').text(' 49%');"
       ],
       "metadata": {},
       "output_type": "display_data",
       "text": [
        "<IPython.core.display.Javascript at 0x17275b70>"
       ]
      },
      {
       "javascript": [
        "\n",
        "        var $myPB = $(\"div#4814c797-c07a-4b7c-b4ba-8b1c874097a2\")\n",
        "        if ($myPB.hasClass('ui-progressbar')) {\n",
        "            $myPB.progressbar('value', 1008);\n",
        "        } else {\n",
        "            $myPB.progressbar({value: 0, max: 2029});\n",
        "        }\n",
        "        "
       ],
       "metadata": {},
       "output_type": "display_data",
       "text": [
        "<IPython.core.display.Javascript at 0x17275208>"
       ]
      },
      {
       "javascript": [
        "$('div#7f1f6558-88cf-40fd-917e-f8c16f1eaead').text('ETA:  0:00:00');"
       ],
       "metadata": {},
       "output_type": "display_data",
       "text": [
        "<IPython.core.display.Javascript at 0x36c0e10>"
       ]
      },
      {
       "javascript": [
        "$('div#f535958d-22da-449f-90ec-10d01c8d9a94').text('1029 of 2029');"
       ],
       "metadata": {},
       "output_type": "display_data",
       "text": [
        "<IPython.core.display.Javascript at 0x1b425ac8>"
       ]
      },
      {
       "javascript": [
        "$('div#d70eb2cd-1edc-47d2-986c-b9492706aa76').text(' 50%');"
       ],
       "metadata": {},
       "output_type": "display_data",
       "text": [
        "<IPython.core.display.Javascript at 0x36c0e10>"
       ]
      },
      {
       "javascript": [
        "\n",
        "        var $myPB = $(\"div#4814c797-c07a-4b7c-b4ba-8b1c874097a2\")\n",
        "        if ($myPB.hasClass('ui-progressbar')) {\n",
        "            $myPB.progressbar('value', 1029);\n",
        "        } else {\n",
        "            $myPB.progressbar({value: 0, max: 2029});\n",
        "        }\n",
        "        "
       ],
       "metadata": {},
       "output_type": "display_data",
       "text": [
        "<IPython.core.display.Javascript at 0x17275208>"
       ]
      },
      {
       "javascript": [
        "$('div#7f1f6558-88cf-40fd-917e-f8c16f1eaead').text('ETA:  0:00:00');"
       ],
       "metadata": {},
       "output_type": "display_data",
       "text": [
        "<IPython.core.display.Javascript at 0x17275b70>"
       ]
      },
      {
       "javascript": [
        "$('div#f535958d-22da-449f-90ec-10d01c8d9a94').text('1050 of 2029');"
       ],
       "metadata": {},
       "output_type": "display_data",
       "text": [
        "<IPython.core.display.Javascript at 0x1b425ac8>"
       ]
      },
      {
       "javascript": [
        "$('div#d70eb2cd-1edc-47d2-986c-b9492706aa76').text(' 51%');"
       ],
       "metadata": {},
       "output_type": "display_data",
       "text": [
        "<IPython.core.display.Javascript at 0x17275b70>"
       ]
      },
      {
       "javascript": [
        "\n",
        "        var $myPB = $(\"div#4814c797-c07a-4b7c-b4ba-8b1c874097a2\")\n",
        "        if ($myPB.hasClass('ui-progressbar')) {\n",
        "            $myPB.progressbar('value', 1050);\n",
        "        } else {\n",
        "            $myPB.progressbar({value: 0, max: 2029});\n",
        "        }\n",
        "        "
       ],
       "metadata": {},
       "output_type": "display_data",
       "text": [
        "<IPython.core.display.Javascript at 0x17275208>"
       ]
      },
      {
       "javascript": [
        "$('div#7f1f6558-88cf-40fd-917e-f8c16f1eaead').text('ETA:  0:00:00');"
       ],
       "metadata": {},
       "output_type": "display_data",
       "text": [
        "<IPython.core.display.Javascript at 0x36c0e10>"
       ]
      },
      {
       "javascript": [
        "$('div#f535958d-22da-449f-90ec-10d01c8d9a94').text('1071 of 2029');"
       ],
       "metadata": {},
       "output_type": "display_data",
       "text": [
        "<IPython.core.display.Javascript at 0x1b425ac8>"
       ]
      },
      {
       "javascript": [
        "$('div#d70eb2cd-1edc-47d2-986c-b9492706aa76').text(' 52%');"
       ],
       "metadata": {},
       "output_type": "display_data",
       "text": [
        "<IPython.core.display.Javascript at 0x36c0e10>"
       ]
      },
      {
       "javascript": [
        "\n",
        "        var $myPB = $(\"div#4814c797-c07a-4b7c-b4ba-8b1c874097a2\")\n",
        "        if ($myPB.hasClass('ui-progressbar')) {\n",
        "            $myPB.progressbar('value', 1071);\n",
        "        } else {\n",
        "            $myPB.progressbar({value: 0, max: 2029});\n",
        "        }\n",
        "        "
       ],
       "metadata": {},
       "output_type": "display_data",
       "text": [
        "<IPython.core.display.Javascript at 0x17275208>"
       ]
      },
      {
       "javascript": [
        "$('div#7f1f6558-88cf-40fd-917e-f8c16f1eaead').text('ETA:  0:00:00');"
       ],
       "metadata": {},
       "output_type": "display_data",
       "text": [
        "<IPython.core.display.Javascript at 0x17275b70>"
       ]
      },
      {
       "javascript": [
        "$('div#f535958d-22da-449f-90ec-10d01c8d9a94').text('1092 of 2029');"
       ],
       "metadata": {},
       "output_type": "display_data",
       "text": [
        "<IPython.core.display.Javascript at 0x1b425ac8>"
       ]
      },
      {
       "javascript": [
        "$('div#d70eb2cd-1edc-47d2-986c-b9492706aa76').text(' 53%');"
       ],
       "metadata": {},
       "output_type": "display_data",
       "text": [
        "<IPython.core.display.Javascript at 0x17275b70>"
       ]
      },
      {
       "javascript": [
        "\n",
        "        var $myPB = $(\"div#4814c797-c07a-4b7c-b4ba-8b1c874097a2\")\n",
        "        if ($myPB.hasClass('ui-progressbar')) {\n",
        "            $myPB.progressbar('value', 1092);\n",
        "        } else {\n",
        "            $myPB.progressbar({value: 0, max: 2029});\n",
        "        }\n",
        "        "
       ],
       "metadata": {},
       "output_type": "display_data",
       "text": [
        "<IPython.core.display.Javascript at 0x17275208>"
       ]
      },
      {
       "javascript": [
        "$('div#7f1f6558-88cf-40fd-917e-f8c16f1eaead').text('ETA:  0:00:00');"
       ],
       "metadata": {},
       "output_type": "display_data",
       "text": [
        "<IPython.core.display.Javascript at 0x36c0e10>"
       ]
      },
      {
       "javascript": [
        "$('div#f535958d-22da-449f-90ec-10d01c8d9a94').text('1113 of 2029');"
       ],
       "metadata": {},
       "output_type": "display_data",
       "text": [
        "<IPython.core.display.Javascript at 0x1b425ac8>"
       ]
      },
      {
       "javascript": [
        "$('div#d70eb2cd-1edc-47d2-986c-b9492706aa76').text(' 54%');"
       ],
       "metadata": {},
       "output_type": "display_data",
       "text": [
        "<IPython.core.display.Javascript at 0x36c0e10>"
       ]
      },
      {
       "javascript": [
        "\n",
        "        var $myPB = $(\"div#4814c797-c07a-4b7c-b4ba-8b1c874097a2\")\n",
        "        if ($myPB.hasClass('ui-progressbar')) {\n",
        "            $myPB.progressbar('value', 1113);\n",
        "        } else {\n",
        "            $myPB.progressbar({value: 0, max: 2029});\n",
        "        }\n",
        "        "
       ],
       "metadata": {},
       "output_type": "display_data",
       "text": [
        "<IPython.core.display.Javascript at 0x17275208>"
       ]
      },
      {
       "javascript": [
        "$('div#7f1f6558-88cf-40fd-917e-f8c16f1eaead').text('ETA:  0:00:00');"
       ],
       "metadata": {},
       "output_type": "display_data",
       "text": [
        "<IPython.core.display.Javascript at 0x17275b70>"
       ]
      },
      {
       "javascript": [
        "$('div#f535958d-22da-449f-90ec-10d01c8d9a94').text('1134 of 2029');"
       ],
       "metadata": {},
       "output_type": "display_data",
       "text": [
        "<IPython.core.display.Javascript at 0x1b425ac8>"
       ]
      },
      {
       "javascript": [
        "$('div#d70eb2cd-1edc-47d2-986c-b9492706aa76').text(' 55%');"
       ],
       "metadata": {},
       "output_type": "display_data",
       "text": [
        "<IPython.core.display.Javascript at 0x17275b70>"
       ]
      },
      {
       "javascript": [
        "\n",
        "        var $myPB = $(\"div#4814c797-c07a-4b7c-b4ba-8b1c874097a2\")\n",
        "        if ($myPB.hasClass('ui-progressbar')) {\n",
        "            $myPB.progressbar('value', 1134);\n",
        "        } else {\n",
        "            $myPB.progressbar({value: 0, max: 2029});\n",
        "        }\n",
        "        "
       ],
       "metadata": {},
       "output_type": "display_data",
       "text": [
        "<IPython.core.display.Javascript at 0x17275208>"
       ]
      },
      {
       "javascript": [
        "$('div#7f1f6558-88cf-40fd-917e-f8c16f1eaead').text('ETA:  0:00:00');"
       ],
       "metadata": {},
       "output_type": "display_data",
       "text": [
        "<IPython.core.display.Javascript at 0x36c0e10>"
       ]
      },
      {
       "javascript": [
        "$('div#f535958d-22da-449f-90ec-10d01c8d9a94').text('1155 of 2029');"
       ],
       "metadata": {},
       "output_type": "display_data",
       "text": [
        "<IPython.core.display.Javascript at 0x1b425ac8>"
       ]
      },
      {
       "javascript": [
        "$('div#d70eb2cd-1edc-47d2-986c-b9492706aa76').text(' 56%');"
       ],
       "metadata": {},
       "output_type": "display_data",
       "text": [
        "<IPython.core.display.Javascript at 0x36c0e10>"
       ]
      },
      {
       "javascript": [
        "\n",
        "        var $myPB = $(\"div#4814c797-c07a-4b7c-b4ba-8b1c874097a2\")\n",
        "        if ($myPB.hasClass('ui-progressbar')) {\n",
        "            $myPB.progressbar('value', 1155);\n",
        "        } else {\n",
        "            $myPB.progressbar({value: 0, max: 2029});\n",
        "        }\n",
        "        "
       ],
       "metadata": {},
       "output_type": "display_data",
       "text": [
        "<IPython.core.display.Javascript at 0x17275208>"
       ]
      },
      {
       "javascript": [
        "$('div#7f1f6558-88cf-40fd-917e-f8c16f1eaead').text('ETA:  0:00:00');"
       ],
       "metadata": {},
       "output_type": "display_data",
       "text": [
        "<IPython.core.display.Javascript at 0x17275b70>"
       ]
      },
      {
       "javascript": [
        "$('div#f535958d-22da-449f-90ec-10d01c8d9a94').text('1176 of 2029');"
       ],
       "metadata": {},
       "output_type": "display_data",
       "text": [
        "<IPython.core.display.Javascript at 0x1b425ac8>"
       ]
      },
      {
       "javascript": [
        "$('div#d70eb2cd-1edc-47d2-986c-b9492706aa76').text(' 57%');"
       ],
       "metadata": {},
       "output_type": "display_data",
       "text": [
        "<IPython.core.display.Javascript at 0x17275b70>"
       ]
      },
      {
       "javascript": [
        "\n",
        "        var $myPB = $(\"div#4814c797-c07a-4b7c-b4ba-8b1c874097a2\")\n",
        "        if ($myPB.hasClass('ui-progressbar')) {\n",
        "            $myPB.progressbar('value', 1176);\n",
        "        } else {\n",
        "            $myPB.progressbar({value: 0, max: 2029});\n",
        "        }\n",
        "        "
       ],
       "metadata": {},
       "output_type": "display_data",
       "text": [
        "<IPython.core.display.Javascript at 0x17275208>"
       ]
      },
      {
       "javascript": [
        "$('div#7f1f6558-88cf-40fd-917e-f8c16f1eaead').text('ETA:  0:00:00');"
       ],
       "metadata": {},
       "output_type": "display_data",
       "text": [
        "<IPython.core.display.Javascript at 0x36c0e10>"
       ]
      },
      {
       "javascript": [
        "$('div#f535958d-22da-449f-90ec-10d01c8d9a94').text('1197 of 2029');"
       ],
       "metadata": {},
       "output_type": "display_data",
       "text": [
        "<IPython.core.display.Javascript at 0x1b425ac8>"
       ]
      },
      {
       "javascript": [
        "$('div#d70eb2cd-1edc-47d2-986c-b9492706aa76').text(' 58%');"
       ],
       "metadata": {},
       "output_type": "display_data",
       "text": [
        "<IPython.core.display.Javascript at 0x36c0e10>"
       ]
      },
      {
       "javascript": [
        "\n",
        "        var $myPB = $(\"div#4814c797-c07a-4b7c-b4ba-8b1c874097a2\")\n",
        "        if ($myPB.hasClass('ui-progressbar')) {\n",
        "            $myPB.progressbar('value', 1197);\n",
        "        } else {\n",
        "            $myPB.progressbar({value: 0, max: 2029});\n",
        "        }\n",
        "        "
       ],
       "metadata": {},
       "output_type": "display_data",
       "text": [
        "<IPython.core.display.Javascript at 0x17275208>"
       ]
      },
      {
       "javascript": [
        "$('div#7f1f6558-88cf-40fd-917e-f8c16f1eaead').text('ETA:  0:00:00');"
       ],
       "metadata": {},
       "output_type": "display_data",
       "text": [
        "<IPython.core.display.Javascript at 0x17275b70>"
       ]
      },
      {
       "javascript": [
        "$('div#f535958d-22da-449f-90ec-10d01c8d9a94').text('1218 of 2029');"
       ],
       "metadata": {},
       "output_type": "display_data",
       "text": [
        "<IPython.core.display.Javascript at 0x1b4259b0>"
       ]
      },
      {
       "javascript": [
        "$('div#d70eb2cd-1edc-47d2-986c-b9492706aa76').text(' 60%');"
       ],
       "metadata": {},
       "output_type": "display_data",
       "text": [
        "<IPython.core.display.Javascript at 0x17275b70>"
       ]
      },
      {
       "javascript": [
        "\n",
        "        var $myPB = $(\"div#4814c797-c07a-4b7c-b4ba-8b1c874097a2\")\n",
        "        if ($myPB.hasClass('ui-progressbar')) {\n",
        "            $myPB.progressbar('value', 1218);\n",
        "        } else {\n",
        "            $myPB.progressbar({value: 0, max: 2029});\n",
        "        }\n",
        "        "
       ],
       "metadata": {},
       "output_type": "display_data",
       "text": [
        "<IPython.core.display.Javascript at 0x17275208>"
       ]
      },
      {
       "javascript": [
        "$('div#7f1f6558-88cf-40fd-917e-f8c16f1eaead').text('ETA:  0:00:00');"
       ],
       "metadata": {},
       "output_type": "display_data",
       "text": [
        "<IPython.core.display.Javascript at 0x36c0e10>"
       ]
      },
      {
       "javascript": [
        "$('div#f535958d-22da-449f-90ec-10d01c8d9a94').text('1239 of 2029');"
       ],
       "metadata": {},
       "output_type": "display_data",
       "text": [
        "<IPython.core.display.Javascript at 0x1b4259b0>"
       ]
      },
      {
       "javascript": [
        "$('div#d70eb2cd-1edc-47d2-986c-b9492706aa76').text(' 61%');"
       ],
       "metadata": {},
       "output_type": "display_data",
       "text": [
        "<IPython.core.display.Javascript at 0x36c0e10>"
       ]
      },
      {
       "javascript": [
        "\n",
        "        var $myPB = $(\"div#4814c797-c07a-4b7c-b4ba-8b1c874097a2\")\n",
        "        if ($myPB.hasClass('ui-progressbar')) {\n",
        "            $myPB.progressbar('value', 1239);\n",
        "        } else {\n",
        "            $myPB.progressbar({value: 0, max: 2029});\n",
        "        }\n",
        "        "
       ],
       "metadata": {},
       "output_type": "display_data",
       "text": [
        "<IPython.core.display.Javascript at 0x17275208>"
       ]
      },
      {
       "javascript": [
        "$('div#7f1f6558-88cf-40fd-917e-f8c16f1eaead').text('ETA:  0:00:00');"
       ],
       "metadata": {},
       "output_type": "display_data",
       "text": [
        "<IPython.core.display.Javascript at 0x17275b70>"
       ]
      },
      {
       "javascript": [
        "$('div#f535958d-22da-449f-90ec-10d01c8d9a94').text('1260 of 2029');"
       ],
       "metadata": {},
       "output_type": "display_data",
       "text": [
        "<IPython.core.display.Javascript at 0x1b4259b0>"
       ]
      },
      {
       "javascript": [
        "$('div#d70eb2cd-1edc-47d2-986c-b9492706aa76').text(' 62%');"
       ],
       "metadata": {},
       "output_type": "display_data",
       "text": [
        "<IPython.core.display.Javascript at 0x17275b70>"
       ]
      },
      {
       "javascript": [
        "\n",
        "        var $myPB = $(\"div#4814c797-c07a-4b7c-b4ba-8b1c874097a2\")\n",
        "        if ($myPB.hasClass('ui-progressbar')) {\n",
        "            $myPB.progressbar('value', 1260);\n",
        "        } else {\n",
        "            $myPB.progressbar({value: 0, max: 2029});\n",
        "        }\n",
        "        "
       ],
       "metadata": {},
       "output_type": "display_data",
       "text": [
        "<IPython.core.display.Javascript at 0x17275208>"
       ]
      },
      {
       "javascript": [
        "$('div#7f1f6558-88cf-40fd-917e-f8c16f1eaead').text('ETA:  0:00:00');"
       ],
       "metadata": {},
       "output_type": "display_data",
       "text": [
        "<IPython.core.display.Javascript at 0x36c0e10>"
       ]
      },
      {
       "javascript": [
        "$('div#f535958d-22da-449f-90ec-10d01c8d9a94').text('1281 of 2029');"
       ],
       "metadata": {},
       "output_type": "display_data",
       "text": [
        "<IPython.core.display.Javascript at 0x1b4259b0>"
       ]
      },
      {
       "javascript": [
        "$('div#d70eb2cd-1edc-47d2-986c-b9492706aa76').text(' 63%');"
       ],
       "metadata": {},
       "output_type": "display_data",
       "text": [
        "<IPython.core.display.Javascript at 0x36c0e10>"
       ]
      },
      {
       "javascript": [
        "\n",
        "        var $myPB = $(\"div#4814c797-c07a-4b7c-b4ba-8b1c874097a2\")\n",
        "        if ($myPB.hasClass('ui-progressbar')) {\n",
        "            $myPB.progressbar('value', 1281);\n",
        "        } else {\n",
        "            $myPB.progressbar({value: 0, max: 2029});\n",
        "        }\n",
        "        "
       ],
       "metadata": {},
       "output_type": "display_data",
       "text": [
        "<IPython.core.display.Javascript at 0x17275208>"
       ]
      },
      {
       "javascript": [
        "$('div#7f1f6558-88cf-40fd-917e-f8c16f1eaead').text('ETA:  0:00:00');"
       ],
       "metadata": {},
       "output_type": "display_data",
       "text": [
        "<IPython.core.display.Javascript at 0x17275b70>"
       ]
      },
      {
       "javascript": [
        "$('div#f535958d-22da-449f-90ec-10d01c8d9a94').text('1302 of 2029');"
       ],
       "metadata": {},
       "output_type": "display_data",
       "text": [
        "<IPython.core.display.Javascript at 0x1b4259b0>"
       ]
      },
      {
       "javascript": [
        "$('div#d70eb2cd-1edc-47d2-986c-b9492706aa76').text(' 64%');"
       ],
       "metadata": {},
       "output_type": "display_data",
       "text": [
        "<IPython.core.display.Javascript at 0x17275b70>"
       ]
      },
      {
       "javascript": [
        "\n",
        "        var $myPB = $(\"div#4814c797-c07a-4b7c-b4ba-8b1c874097a2\")\n",
        "        if ($myPB.hasClass('ui-progressbar')) {\n",
        "            $myPB.progressbar('value', 1302);\n",
        "        } else {\n",
        "            $myPB.progressbar({value: 0, max: 2029});\n",
        "        }\n",
        "        "
       ],
       "metadata": {},
       "output_type": "display_data",
       "text": [
        "<IPython.core.display.Javascript at 0x17275208>"
       ]
      },
      {
       "javascript": [
        "$('div#7f1f6558-88cf-40fd-917e-f8c16f1eaead').text('ETA:  0:00:00');"
       ],
       "metadata": {},
       "output_type": "display_data",
       "text": [
        "<IPython.core.display.Javascript at 0x36c0e10>"
       ]
      },
      {
       "javascript": [
        "$('div#f535958d-22da-449f-90ec-10d01c8d9a94').text('1323 of 2029');"
       ],
       "metadata": {},
       "output_type": "display_data",
       "text": [
        "<IPython.core.display.Javascript at 0x1b425cf8>"
       ]
      },
      {
       "javascript": [
        "$('div#d70eb2cd-1edc-47d2-986c-b9492706aa76').text(' 65%');"
       ],
       "metadata": {},
       "output_type": "display_data",
       "text": [
        "<IPython.core.display.Javascript at 0x36c0e10>"
       ]
      },
      {
       "javascript": [
        "\n",
        "        var $myPB = $(\"div#4814c797-c07a-4b7c-b4ba-8b1c874097a2\")\n",
        "        if ($myPB.hasClass('ui-progressbar')) {\n",
        "            $myPB.progressbar('value', 1323);\n",
        "        } else {\n",
        "            $myPB.progressbar({value: 0, max: 2029});\n",
        "        }\n",
        "        "
       ],
       "metadata": {},
       "output_type": "display_data",
       "text": [
        "<IPython.core.display.Javascript at 0x17275208>"
       ]
      },
      {
       "javascript": [
        "$('div#7f1f6558-88cf-40fd-917e-f8c16f1eaead').text('ETA:  0:00:00');"
       ],
       "metadata": {},
       "output_type": "display_data",
       "text": [
        "<IPython.core.display.Javascript at 0x17275b70>"
       ]
      },
      {
       "javascript": [
        "$('div#f535958d-22da-449f-90ec-10d01c8d9a94').text('1344 of 2029');"
       ],
       "metadata": {},
       "output_type": "display_data",
       "text": [
        "<IPython.core.display.Javascript at 0x1b425cf8>"
       ]
      },
      {
       "javascript": [
        "$('div#d70eb2cd-1edc-47d2-986c-b9492706aa76').text(' 66%');"
       ],
       "metadata": {},
       "output_type": "display_data",
       "text": [
        "<IPython.core.display.Javascript at 0x17275b70>"
       ]
      },
      {
       "javascript": [
        "\n",
        "        var $myPB = $(\"div#4814c797-c07a-4b7c-b4ba-8b1c874097a2\")\n",
        "        if ($myPB.hasClass('ui-progressbar')) {\n",
        "            $myPB.progressbar('value', 1344);\n",
        "        } else {\n",
        "            $myPB.progressbar({value: 0, max: 2029});\n",
        "        }\n",
        "        "
       ],
       "metadata": {},
       "output_type": "display_data",
       "text": [
        "<IPython.core.display.Javascript at 0x17275208>"
       ]
      },
      {
       "javascript": [
        "$('div#7f1f6558-88cf-40fd-917e-f8c16f1eaead').text('ETA:  0:00:00');"
       ],
       "metadata": {},
       "output_type": "display_data",
       "text": [
        "<IPython.core.display.Javascript at 0x36c0e10>"
       ]
      },
      {
       "javascript": [
        "$('div#f535958d-22da-449f-90ec-10d01c8d9a94').text('1365 of 2029');"
       ],
       "metadata": {},
       "output_type": "display_data",
       "text": [
        "<IPython.core.display.Javascript at 0x1b425d68>"
       ]
      },
      {
       "javascript": [
        "$('div#d70eb2cd-1edc-47d2-986c-b9492706aa76').text(' 67%');"
       ],
       "metadata": {},
       "output_type": "display_data",
       "text": [
        "<IPython.core.display.Javascript at 0x36c0e10>"
       ]
      },
      {
       "javascript": [
        "\n",
        "        var $myPB = $(\"div#4814c797-c07a-4b7c-b4ba-8b1c874097a2\")\n",
        "        if ($myPB.hasClass('ui-progressbar')) {\n",
        "            $myPB.progressbar('value', 1365);\n",
        "        } else {\n",
        "            $myPB.progressbar({value: 0, max: 2029});\n",
        "        }\n",
        "        "
       ],
       "metadata": {},
       "output_type": "display_data",
       "text": [
        "<IPython.core.display.Javascript at 0x17275208>"
       ]
      },
      {
       "javascript": [
        "$('div#7f1f6558-88cf-40fd-917e-f8c16f1eaead').text('ETA:  0:00:00');"
       ],
       "metadata": {},
       "output_type": "display_data",
       "text": [
        "<IPython.core.display.Javascript at 0x17275b70>"
       ]
      },
      {
       "javascript": [
        "$('div#f535958d-22da-449f-90ec-10d01c8d9a94').text('1386 of 2029');"
       ],
       "metadata": {},
       "output_type": "display_data",
       "text": [
        "<IPython.core.display.Javascript at 0x1b425d68>"
       ]
      },
      {
       "javascript": [
        "$('div#d70eb2cd-1edc-47d2-986c-b9492706aa76').text(' 68%');"
       ],
       "metadata": {},
       "output_type": "display_data",
       "text": [
        "<IPython.core.display.Javascript at 0x17275b70>"
       ]
      },
      {
       "javascript": [
        "\n",
        "        var $myPB = $(\"div#4814c797-c07a-4b7c-b4ba-8b1c874097a2\")\n",
        "        if ($myPB.hasClass('ui-progressbar')) {\n",
        "            $myPB.progressbar('value', 1386);\n",
        "        } else {\n",
        "            $myPB.progressbar({value: 0, max: 2029});\n",
        "        }\n",
        "        "
       ],
       "metadata": {},
       "output_type": "display_data",
       "text": [
        "<IPython.core.display.Javascript at 0x17275208>"
       ]
      },
      {
       "javascript": [
        "$('div#7f1f6558-88cf-40fd-917e-f8c16f1eaead').text('ETA:  0:00:00');"
       ],
       "metadata": {},
       "output_type": "display_data",
       "text": [
        "<IPython.core.display.Javascript at 0x36c0e10>"
       ]
      },
      {
       "javascript": [
        "$('div#f535958d-22da-449f-90ec-10d01c8d9a94').text('1407 of 2029');"
       ],
       "metadata": {},
       "output_type": "display_data",
       "text": [
        "<IPython.core.display.Javascript at 0x1b425d68>"
       ]
      },
      {
       "javascript": [
        "$('div#d70eb2cd-1edc-47d2-986c-b9492706aa76').text(' 69%');"
       ],
       "metadata": {},
       "output_type": "display_data",
       "text": [
        "<IPython.core.display.Javascript at 0x36c0e10>"
       ]
      },
      {
       "javascript": [
        "\n",
        "        var $myPB = $(\"div#4814c797-c07a-4b7c-b4ba-8b1c874097a2\")\n",
        "        if ($myPB.hasClass('ui-progressbar')) {\n",
        "            $myPB.progressbar('value', 1407);\n",
        "        } else {\n",
        "            $myPB.progressbar({value: 0, max: 2029});\n",
        "        }\n",
        "        "
       ],
       "metadata": {},
       "output_type": "display_data",
       "text": [
        "<IPython.core.display.Javascript at 0x17275208>"
       ]
      },
      {
       "javascript": [
        "$('div#7f1f6558-88cf-40fd-917e-f8c16f1eaead').text('ETA:  0:00:00');"
       ],
       "metadata": {},
       "output_type": "display_data",
       "text": [
        "<IPython.core.display.Javascript at 0x17275b70>"
       ]
      },
      {
       "javascript": [
        "$('div#f535958d-22da-449f-90ec-10d01c8d9a94').text('1428 of 2029');"
       ],
       "metadata": {},
       "output_type": "display_data",
       "text": [
        "<IPython.core.display.Javascript at 0x1b425b00>"
       ]
      },
      {
       "javascript": [
        "$('div#d70eb2cd-1edc-47d2-986c-b9492706aa76').text(' 70%');"
       ],
       "metadata": {},
       "output_type": "display_data",
       "text": [
        "<IPython.core.display.Javascript at 0x17275b70>"
       ]
      },
      {
       "javascript": [
        "\n",
        "        var $myPB = $(\"div#4814c797-c07a-4b7c-b4ba-8b1c874097a2\")\n",
        "        if ($myPB.hasClass('ui-progressbar')) {\n",
        "            $myPB.progressbar('value', 1428);\n",
        "        } else {\n",
        "            $myPB.progressbar({value: 0, max: 2029});\n",
        "        }\n",
        "        "
       ],
       "metadata": {},
       "output_type": "display_data",
       "text": [
        "<IPython.core.display.Javascript at 0x17275208>"
       ]
      },
      {
       "javascript": [
        "$('div#7f1f6558-88cf-40fd-917e-f8c16f1eaead').text('ETA:  0:00:00');"
       ],
       "metadata": {},
       "output_type": "display_data",
       "text": [
        "<IPython.core.display.Javascript at 0x36c0e10>"
       ]
      },
      {
       "javascript": [
        "$('div#f535958d-22da-449f-90ec-10d01c8d9a94').text('1449 of 2029');"
       ],
       "metadata": {},
       "output_type": "display_data",
       "text": [
        "<IPython.core.display.Javascript at 0x1b425b00>"
       ]
      },
      {
       "javascript": [
        "$('div#d70eb2cd-1edc-47d2-986c-b9492706aa76').text(' 71%');"
       ],
       "metadata": {},
       "output_type": "display_data",
       "text": [
        "<IPython.core.display.Javascript at 0x36c0e10>"
       ]
      },
      {
       "javascript": [
        "\n",
        "        var $myPB = $(\"div#4814c797-c07a-4b7c-b4ba-8b1c874097a2\")\n",
        "        if ($myPB.hasClass('ui-progressbar')) {\n",
        "            $myPB.progressbar('value', 1449);\n",
        "        } else {\n",
        "            $myPB.progressbar({value: 0, max: 2029});\n",
        "        }\n",
        "        "
       ],
       "metadata": {},
       "output_type": "display_data",
       "text": [
        "<IPython.core.display.Javascript at 0x17275208>"
       ]
      },
      {
       "javascript": [
        "$('div#7f1f6558-88cf-40fd-917e-f8c16f1eaead').text('ETA:  0:00:00');"
       ],
       "metadata": {},
       "output_type": "display_data",
       "text": [
        "<IPython.core.display.Javascript at 0x17275b70>"
       ]
      },
      {
       "javascript": [
        "$('div#f535958d-22da-449f-90ec-10d01c8d9a94').text('1470 of 2029');"
       ],
       "metadata": {},
       "output_type": "display_data",
       "text": [
        "<IPython.core.display.Javascript at 0x1b425b00>"
       ]
      },
      {
       "javascript": [
        "$('div#d70eb2cd-1edc-47d2-986c-b9492706aa76').text(' 72%');"
       ],
       "metadata": {},
       "output_type": "display_data",
       "text": [
        "<IPython.core.display.Javascript at 0x17275b70>"
       ]
      },
      {
       "javascript": [
        "\n",
        "        var $myPB = $(\"div#4814c797-c07a-4b7c-b4ba-8b1c874097a2\")\n",
        "        if ($myPB.hasClass('ui-progressbar')) {\n",
        "            $myPB.progressbar('value', 1470);\n",
        "        } else {\n",
        "            $myPB.progressbar({value: 0, max: 2029});\n",
        "        }\n",
        "        "
       ],
       "metadata": {},
       "output_type": "display_data",
       "text": [
        "<IPython.core.display.Javascript at 0x17275208>"
       ]
      },
      {
       "javascript": [
        "$('div#7f1f6558-88cf-40fd-917e-f8c16f1eaead').text('ETA:  0:00:00');"
       ],
       "metadata": {},
       "output_type": "display_data",
       "text": [
        "<IPython.core.display.Javascript at 0x36c0e10>"
       ]
      },
      {
       "javascript": [
        "$('div#f535958d-22da-449f-90ec-10d01c8d9a94').text('1491 of 2029');"
       ],
       "metadata": {},
       "output_type": "display_data",
       "text": [
        "<IPython.core.display.Javascript at 0x1b425668>"
       ]
      },
      {
       "javascript": [
        "$('div#d70eb2cd-1edc-47d2-986c-b9492706aa76').text(' 73%');"
       ],
       "metadata": {},
       "output_type": "display_data",
       "text": [
        "<IPython.core.display.Javascript at 0x36c0e10>"
       ]
      },
      {
       "javascript": [
        "\n",
        "        var $myPB = $(\"div#4814c797-c07a-4b7c-b4ba-8b1c874097a2\")\n",
        "        if ($myPB.hasClass('ui-progressbar')) {\n",
        "            $myPB.progressbar('value', 1491);\n",
        "        } else {\n",
        "            $myPB.progressbar({value: 0, max: 2029});\n",
        "        }\n",
        "        "
       ],
       "metadata": {},
       "output_type": "display_data",
       "text": [
        "<IPython.core.display.Javascript at 0x17275208>"
       ]
      },
      {
       "javascript": [
        "$('div#7f1f6558-88cf-40fd-917e-f8c16f1eaead').text('ETA:  0:00:00');"
       ],
       "metadata": {},
       "output_type": "display_data",
       "text": [
        "<IPython.core.display.Javascript at 0x17275b70>"
       ]
      },
      {
       "javascript": [
        "$('div#f535958d-22da-449f-90ec-10d01c8d9a94').text('1512 of 2029');"
       ],
       "metadata": {},
       "output_type": "display_data",
       "text": [
        "<IPython.core.display.Javascript at 0x1b425668>"
       ]
      },
      {
       "javascript": [
        "$('div#d70eb2cd-1edc-47d2-986c-b9492706aa76').text(' 74%');"
       ],
       "metadata": {},
       "output_type": "display_data",
       "text": [
        "<IPython.core.display.Javascript at 0x17275b70>"
       ]
      },
      {
       "javascript": [
        "\n",
        "        var $myPB = $(\"div#4814c797-c07a-4b7c-b4ba-8b1c874097a2\")\n",
        "        if ($myPB.hasClass('ui-progressbar')) {\n",
        "            $myPB.progressbar('value', 1512);\n",
        "        } else {\n",
        "            $myPB.progressbar({value: 0, max: 2029});\n",
        "        }\n",
        "        "
       ],
       "metadata": {},
       "output_type": "display_data",
       "text": [
        "<IPython.core.display.Javascript at 0x17275208>"
       ]
      },
      {
       "javascript": [
        "$('div#7f1f6558-88cf-40fd-917e-f8c16f1eaead').text('ETA:  0:00:00');"
       ],
       "metadata": {},
       "output_type": "display_data",
       "text": [
        "<IPython.core.display.Javascript at 0x36c0e10>"
       ]
      },
      {
       "javascript": [
        "$('div#f535958d-22da-449f-90ec-10d01c8d9a94').text('1533 of 2029');"
       ],
       "metadata": {},
       "output_type": "display_data",
       "text": [
        "<IPython.core.display.Javascript at 0x1b425668>"
       ]
      },
      {
       "javascript": [
        "$('div#d70eb2cd-1edc-47d2-986c-b9492706aa76').text(' 75%');"
       ],
       "metadata": {},
       "output_type": "display_data",
       "text": [
        "<IPython.core.display.Javascript at 0x36c0e10>"
       ]
      },
      {
       "javascript": [
        "\n",
        "        var $myPB = $(\"div#4814c797-c07a-4b7c-b4ba-8b1c874097a2\")\n",
        "        if ($myPB.hasClass('ui-progressbar')) {\n",
        "            $myPB.progressbar('value', 1533);\n",
        "        } else {\n",
        "            $myPB.progressbar({value: 0, max: 2029});\n",
        "        }\n",
        "        "
       ],
       "metadata": {},
       "output_type": "display_data",
       "text": [
        "<IPython.core.display.Javascript at 0x17275208>"
       ]
      },
      {
       "javascript": [
        "$('div#7f1f6558-88cf-40fd-917e-f8c16f1eaead').text('ETA:  0:00:00');"
       ],
       "metadata": {},
       "output_type": "display_data",
       "text": [
        "<IPython.core.display.Javascript at 0x17275b70>"
       ]
      },
      {
       "javascript": [
        "$('div#f535958d-22da-449f-90ec-10d01c8d9a94').text('1554 of 2029');"
       ],
       "metadata": {},
       "output_type": "display_data",
       "text": [
        "<IPython.core.display.Javascript at 0x1b425c18>"
       ]
      },
      {
       "javascript": [
        "$('div#d70eb2cd-1edc-47d2-986c-b9492706aa76').text(' 76%');"
       ],
       "metadata": {},
       "output_type": "display_data",
       "text": [
        "<IPython.core.display.Javascript at 0x17275b70>"
       ]
      },
      {
       "javascript": [
        "\n",
        "        var $myPB = $(\"div#4814c797-c07a-4b7c-b4ba-8b1c874097a2\")\n",
        "        if ($myPB.hasClass('ui-progressbar')) {\n",
        "            $myPB.progressbar('value', 1554);\n",
        "        } else {\n",
        "            $myPB.progressbar({value: 0, max: 2029});\n",
        "        }\n",
        "        "
       ],
       "metadata": {},
       "output_type": "display_data",
       "text": [
        "<IPython.core.display.Javascript at 0x17275208>"
       ]
      },
      {
       "javascript": [
        "$('div#7f1f6558-88cf-40fd-917e-f8c16f1eaead').text('ETA:  0:00:00');"
       ],
       "metadata": {},
       "output_type": "display_data",
       "text": [
        "<IPython.core.display.Javascript at 0x36c0e10>"
       ]
      },
      {
       "javascript": [
        "$('div#f535958d-22da-449f-90ec-10d01c8d9a94').text('1575 of 2029');"
       ],
       "metadata": {},
       "output_type": "display_data",
       "text": [
        "<IPython.core.display.Javascript at 0x1b425c18>"
       ]
      },
      {
       "javascript": [
        "$('div#d70eb2cd-1edc-47d2-986c-b9492706aa76').text(' 77%');"
       ],
       "metadata": {},
       "output_type": "display_data",
       "text": [
        "<IPython.core.display.Javascript at 0x36c0e10>"
       ]
      },
      {
       "javascript": [
        "\n",
        "        var $myPB = $(\"div#4814c797-c07a-4b7c-b4ba-8b1c874097a2\")\n",
        "        if ($myPB.hasClass('ui-progressbar')) {\n",
        "            $myPB.progressbar('value', 1575);\n",
        "        } else {\n",
        "            $myPB.progressbar({value: 0, max: 2029});\n",
        "        }\n",
        "        "
       ],
       "metadata": {},
       "output_type": "display_data",
       "text": [
        "<IPython.core.display.Javascript at 0x17275208>"
       ]
      },
      {
       "javascript": [
        "$('div#7f1f6558-88cf-40fd-917e-f8c16f1eaead').text('ETA:  0:00:00');"
       ],
       "metadata": {},
       "output_type": "display_data",
       "text": [
        "<IPython.core.display.Javascript at 0x17275b70>"
       ]
      },
      {
       "javascript": [
        "$('div#f535958d-22da-449f-90ec-10d01c8d9a94').text('1596 of 2029');"
       ],
       "metadata": {},
       "output_type": "display_data",
       "text": [
        "<IPython.core.display.Javascript at 0x1b425c18>"
       ]
      },
      {
       "javascript": [
        "$('div#d70eb2cd-1edc-47d2-986c-b9492706aa76').text(' 78%');"
       ],
       "metadata": {},
       "output_type": "display_data",
       "text": [
        "<IPython.core.display.Javascript at 0x17275b70>"
       ]
      },
      {
       "javascript": [
        "\n",
        "        var $myPB = $(\"div#4814c797-c07a-4b7c-b4ba-8b1c874097a2\")\n",
        "        if ($myPB.hasClass('ui-progressbar')) {\n",
        "            $myPB.progressbar('value', 1596);\n",
        "        } else {\n",
        "            $myPB.progressbar({value: 0, max: 2029});\n",
        "        }\n",
        "        "
       ],
       "metadata": {},
       "output_type": "display_data",
       "text": [
        "<IPython.core.display.Javascript at 0x17275208>"
       ]
      },
      {
       "javascript": [
        "$('div#7f1f6558-88cf-40fd-917e-f8c16f1eaead').text('ETA:  0:00:00');"
       ],
       "metadata": {},
       "output_type": "display_data",
       "text": [
        "<IPython.core.display.Javascript at 0x36c0e10>"
       ]
      },
      {
       "javascript": [
        "$('div#f535958d-22da-449f-90ec-10d01c8d9a94').text('1617 of 2029');"
       ],
       "metadata": {},
       "output_type": "display_data",
       "text": [
        "<IPython.core.display.Javascript at 0x1b425c18>"
       ]
      },
      {
       "javascript": [
        "$('div#d70eb2cd-1edc-47d2-986c-b9492706aa76').text(' 79%');"
       ],
       "metadata": {},
       "output_type": "display_data",
       "text": [
        "<IPython.core.display.Javascript at 0x36c0e10>"
       ]
      },
      {
       "javascript": [
        "\n",
        "        var $myPB = $(\"div#4814c797-c07a-4b7c-b4ba-8b1c874097a2\")\n",
        "        if ($myPB.hasClass('ui-progressbar')) {\n",
        "            $myPB.progressbar('value', 1617);\n",
        "        } else {\n",
        "            $myPB.progressbar({value: 0, max: 2029});\n",
        "        }\n",
        "        "
       ],
       "metadata": {},
       "output_type": "display_data",
       "text": [
        "<IPython.core.display.Javascript at 0x17275208>"
       ]
      },
      {
       "javascript": [
        "$('div#7f1f6558-88cf-40fd-917e-f8c16f1eaead').text('ETA:  0:00:00');"
       ],
       "metadata": {},
       "output_type": "display_data",
       "text": [
        "<IPython.core.display.Javascript at 0x17275b70>"
       ]
      },
      {
       "javascript": [
        "$('div#f535958d-22da-449f-90ec-10d01c8d9a94').text('1638 of 2029');"
       ],
       "metadata": {},
       "output_type": "display_data",
       "text": [
        "<IPython.core.display.Javascript at 0x1b425160>"
       ]
      },
      {
       "javascript": [
        "$('div#d70eb2cd-1edc-47d2-986c-b9492706aa76').text(' 80%');"
       ],
       "metadata": {},
       "output_type": "display_data",
       "text": [
        "<IPython.core.display.Javascript at 0x17275b70>"
       ]
      },
      {
       "javascript": [
        "\n",
        "        var $myPB = $(\"div#4814c797-c07a-4b7c-b4ba-8b1c874097a2\")\n",
        "        if ($myPB.hasClass('ui-progressbar')) {\n",
        "            $myPB.progressbar('value', 1638);\n",
        "        } else {\n",
        "            $myPB.progressbar({value: 0, max: 2029});\n",
        "        }\n",
        "        "
       ],
       "metadata": {},
       "output_type": "display_data",
       "text": [
        "<IPython.core.display.Javascript at 0x17275208>"
       ]
      },
      {
       "javascript": [
        "$('div#7f1f6558-88cf-40fd-917e-f8c16f1eaead').text('ETA:  0:00:00');"
       ],
       "metadata": {},
       "output_type": "display_data",
       "text": [
        "<IPython.core.display.Javascript at 0x36c0e10>"
       ]
      },
      {
       "javascript": [
        "$('div#f535958d-22da-449f-90ec-10d01c8d9a94').text('1659 of 2029');"
       ],
       "metadata": {},
       "output_type": "display_data",
       "text": [
        "<IPython.core.display.Javascript at 0x1b425e80>"
       ]
      },
      {
       "javascript": [
        "$('div#d70eb2cd-1edc-47d2-986c-b9492706aa76').text(' 81%');"
       ],
       "metadata": {},
       "output_type": "display_data",
       "text": [
        "<IPython.core.display.Javascript at 0x36c0e10>"
       ]
      },
      {
       "javascript": [
        "\n",
        "        var $myPB = $(\"div#4814c797-c07a-4b7c-b4ba-8b1c874097a2\")\n",
        "        if ($myPB.hasClass('ui-progressbar')) {\n",
        "            $myPB.progressbar('value', 1659);\n",
        "        } else {\n",
        "            $myPB.progressbar({value: 0, max: 2029});\n",
        "        }\n",
        "        "
       ],
       "metadata": {},
       "output_type": "display_data",
       "text": [
        "<IPython.core.display.Javascript at 0x17275208>"
       ]
      },
      {
       "javascript": [
        "$('div#7f1f6558-88cf-40fd-917e-f8c16f1eaead').text('ETA:  0:00:00');"
       ],
       "metadata": {},
       "output_type": "display_data",
       "text": [
        "<IPython.core.display.Javascript at 0x17275b70>"
       ]
      },
      {
       "javascript": [
        "$('div#f535958d-22da-449f-90ec-10d01c8d9a94').text('1680 of 2029');"
       ],
       "metadata": {},
       "output_type": "display_data",
       "text": [
        "<IPython.core.display.Javascript at 0x1b425080>"
       ]
      },
      {
       "javascript": [
        "$('div#d70eb2cd-1edc-47d2-986c-b9492706aa76').text(' 82%');"
       ],
       "metadata": {},
       "output_type": "display_data",
       "text": [
        "<IPython.core.display.Javascript at 0x17275b70>"
       ]
      },
      {
       "javascript": [
        "\n",
        "        var $myPB = $(\"div#4814c797-c07a-4b7c-b4ba-8b1c874097a2\")\n",
        "        if ($myPB.hasClass('ui-progressbar')) {\n",
        "            $myPB.progressbar('value', 1680);\n",
        "        } else {\n",
        "            $myPB.progressbar({value: 0, max: 2029});\n",
        "        }\n",
        "        "
       ],
       "metadata": {},
       "output_type": "display_data",
       "text": [
        "<IPython.core.display.Javascript at 0x17275208>"
       ]
      },
      {
       "javascript": [
        "$('div#7f1f6558-88cf-40fd-917e-f8c16f1eaead').text('ETA:  0:00:00');"
       ],
       "metadata": {},
       "output_type": "display_data",
       "text": [
        "<IPython.core.display.Javascript at 0x36c0e10>"
       ]
      },
      {
       "javascript": [
        "$('div#f535958d-22da-449f-90ec-10d01c8d9a94').text('1701 of 2029');"
       ],
       "metadata": {},
       "output_type": "display_data",
       "text": [
        "<IPython.core.display.Javascript at 0x1b425080>"
       ]
      },
      {
       "javascript": [
        "$('div#d70eb2cd-1edc-47d2-986c-b9492706aa76').text(' 83%');"
       ],
       "metadata": {},
       "output_type": "display_data",
       "text": [
        "<IPython.core.display.Javascript at 0x36c0e10>"
       ]
      },
      {
       "javascript": [
        "\n",
        "        var $myPB = $(\"div#4814c797-c07a-4b7c-b4ba-8b1c874097a2\")\n",
        "        if ($myPB.hasClass('ui-progressbar')) {\n",
        "            $myPB.progressbar('value', 1701);\n",
        "        } else {\n",
        "            $myPB.progressbar({value: 0, max: 2029});\n",
        "        }\n",
        "        "
       ],
       "metadata": {},
       "output_type": "display_data",
       "text": [
        "<IPython.core.display.Javascript at 0x17275208>"
       ]
      },
      {
       "javascript": [
        "$('div#7f1f6558-88cf-40fd-917e-f8c16f1eaead').text('ETA:  0:00:00');"
       ],
       "metadata": {},
       "output_type": "display_data",
       "text": [
        "<IPython.core.display.Javascript at 0x17275b70>"
       ]
      },
      {
       "javascript": [
        "$('div#f535958d-22da-449f-90ec-10d01c8d9a94').text('1722 of 2029');"
       ],
       "metadata": {},
       "output_type": "display_data",
       "text": [
        "<IPython.core.display.Javascript at 0x1b425080>"
       ]
      },
      {
       "javascript": [
        "$('div#d70eb2cd-1edc-47d2-986c-b9492706aa76').text(' 84%');"
       ],
       "metadata": {},
       "output_type": "display_data",
       "text": [
        "<IPython.core.display.Javascript at 0x17275b70>"
       ]
      },
      {
       "javascript": [
        "\n",
        "        var $myPB = $(\"div#4814c797-c07a-4b7c-b4ba-8b1c874097a2\")\n",
        "        if ($myPB.hasClass('ui-progressbar')) {\n",
        "            $myPB.progressbar('value', 1722);\n",
        "        } else {\n",
        "            $myPB.progressbar({value: 0, max: 2029});\n",
        "        }\n",
        "        "
       ],
       "metadata": {},
       "output_type": "display_data",
       "text": [
        "<IPython.core.display.Javascript at 0x17275208>"
       ]
      },
      {
       "javascript": [
        "$('div#7f1f6558-88cf-40fd-917e-f8c16f1eaead').text('ETA:  0:00:00');"
       ],
       "metadata": {},
       "output_type": "display_data",
       "text": [
        "<IPython.core.display.Javascript at 0x36c0e10>"
       ]
      },
      {
       "javascript": [
        "$('div#f535958d-22da-449f-90ec-10d01c8d9a94').text('1743 of 2029');"
       ],
       "metadata": {},
       "output_type": "display_data",
       "text": [
        "<IPython.core.display.Javascript at 0x1b425080>"
       ]
      },
      {
       "javascript": [
        "$('div#d70eb2cd-1edc-47d2-986c-b9492706aa76').text(' 85%');"
       ],
       "metadata": {},
       "output_type": "display_data",
       "text": [
        "<IPython.core.display.Javascript at 0x36c0e10>"
       ]
      },
      {
       "javascript": [
        "\n",
        "        var $myPB = $(\"div#4814c797-c07a-4b7c-b4ba-8b1c874097a2\")\n",
        "        if ($myPB.hasClass('ui-progressbar')) {\n",
        "            $myPB.progressbar('value', 1743);\n",
        "        } else {\n",
        "            $myPB.progressbar({value: 0, max: 2029});\n",
        "        }\n",
        "        "
       ],
       "metadata": {},
       "output_type": "display_data",
       "text": [
        "<IPython.core.display.Javascript at 0x17275208>"
       ]
      },
      {
       "javascript": [
        "$('div#7f1f6558-88cf-40fd-917e-f8c16f1eaead').text('ETA:  0:00:00');"
       ],
       "metadata": {},
       "output_type": "display_data",
       "text": [
        "<IPython.core.display.Javascript at 0x17275b70>"
       ]
      },
      {
       "javascript": [
        "$('div#f535958d-22da-449f-90ec-10d01c8d9a94').text('1764 of 2029');"
       ],
       "metadata": {},
       "output_type": "display_data",
       "text": [
        "<IPython.core.display.Javascript at 0x1b425080>"
       ]
      },
      {
       "javascript": [
        "$('div#d70eb2cd-1edc-47d2-986c-b9492706aa76').text(' 86%');"
       ],
       "metadata": {},
       "output_type": "display_data",
       "text": [
        "<IPython.core.display.Javascript at 0x17275b70>"
       ]
      },
      {
       "javascript": [
        "\n",
        "        var $myPB = $(\"div#4814c797-c07a-4b7c-b4ba-8b1c874097a2\")\n",
        "        if ($myPB.hasClass('ui-progressbar')) {\n",
        "            $myPB.progressbar('value', 1764);\n",
        "        } else {\n",
        "            $myPB.progressbar({value: 0, max: 2029});\n",
        "        }\n",
        "        "
       ],
       "metadata": {},
       "output_type": "display_data",
       "text": [
        "<IPython.core.display.Javascript at 0x17275208>"
       ]
      },
      {
       "javascript": [
        "$('div#7f1f6558-88cf-40fd-917e-f8c16f1eaead').text('ETA:  0:00:00');"
       ],
       "metadata": {},
       "output_type": "display_data",
       "text": [
        "<IPython.core.display.Javascript at 0x36c0e10>"
       ]
      },
      {
       "javascript": [
        "$('div#f535958d-22da-449f-90ec-10d01c8d9a94').text('1785 of 2029');"
       ],
       "metadata": {},
       "output_type": "display_data",
       "text": [
        "<IPython.core.display.Javascript at 0x1b425b38>"
       ]
      },
      {
       "javascript": [
        "$('div#d70eb2cd-1edc-47d2-986c-b9492706aa76').text(' 87%');"
       ],
       "metadata": {},
       "output_type": "display_data",
       "text": [
        "<IPython.core.display.Javascript at 0x36c0e10>"
       ]
      },
      {
       "javascript": [
        "\n",
        "        var $myPB = $(\"div#4814c797-c07a-4b7c-b4ba-8b1c874097a2\")\n",
        "        if ($myPB.hasClass('ui-progressbar')) {\n",
        "            $myPB.progressbar('value', 1785);\n",
        "        } else {\n",
        "            $myPB.progressbar({value: 0, max: 2029});\n",
        "        }\n",
        "        "
       ],
       "metadata": {},
       "output_type": "display_data",
       "text": [
        "<IPython.core.display.Javascript at 0x17275208>"
       ]
      },
      {
       "javascript": [
        "$('div#7f1f6558-88cf-40fd-917e-f8c16f1eaead').text('ETA:  0:00:00');"
       ],
       "metadata": {},
       "output_type": "display_data",
       "text": [
        "<IPython.core.display.Javascript at 0x17275b70>"
       ]
      },
      {
       "javascript": [
        "$('div#f535958d-22da-449f-90ec-10d01c8d9a94').text('1806 of 2029');"
       ],
       "metadata": {},
       "output_type": "display_data",
       "text": [
        "<IPython.core.display.Javascript at 0x1b425b38>"
       ]
      },
      {
       "javascript": [
        "$('div#d70eb2cd-1edc-47d2-986c-b9492706aa76').text(' 89%');"
       ],
       "metadata": {},
       "output_type": "display_data",
       "text": [
        "<IPython.core.display.Javascript at 0x17275b70>"
       ]
      },
      {
       "javascript": [
        "\n",
        "        var $myPB = $(\"div#4814c797-c07a-4b7c-b4ba-8b1c874097a2\")\n",
        "        if ($myPB.hasClass('ui-progressbar')) {\n",
        "            $myPB.progressbar('value', 1806);\n",
        "        } else {\n",
        "            $myPB.progressbar({value: 0, max: 2029});\n",
        "        }\n",
        "        "
       ],
       "metadata": {},
       "output_type": "display_data",
       "text": [
        "<IPython.core.display.Javascript at 0x17275208>"
       ]
      },
      {
       "javascript": [
        "$('div#7f1f6558-88cf-40fd-917e-f8c16f1eaead').text('ETA:  0:00:00');"
       ],
       "metadata": {},
       "output_type": "display_data",
       "text": [
        "<IPython.core.display.Javascript at 0x36c0e10>"
       ]
      },
      {
       "javascript": [
        "$('div#f535958d-22da-449f-90ec-10d01c8d9a94').text('1827 of 2029');"
       ],
       "metadata": {},
       "output_type": "display_data",
       "text": [
        "<IPython.core.display.Javascript at 0x1b425b38>"
       ]
      },
      {
       "javascript": [
        "$('div#d70eb2cd-1edc-47d2-986c-b9492706aa76').text(' 90%');"
       ],
       "metadata": {},
       "output_type": "display_data",
       "text": [
        "<IPython.core.display.Javascript at 0x36c0e10>"
       ]
      },
      {
       "javascript": [
        "\n",
        "        var $myPB = $(\"div#4814c797-c07a-4b7c-b4ba-8b1c874097a2\")\n",
        "        if ($myPB.hasClass('ui-progressbar')) {\n",
        "            $myPB.progressbar('value', 1827);\n",
        "        } else {\n",
        "            $myPB.progressbar({value: 0, max: 2029});\n",
        "        }\n",
        "        "
       ],
       "metadata": {},
       "output_type": "display_data",
       "text": [
        "<IPython.core.display.Javascript at 0x17275208>"
       ]
      },
      {
       "javascript": [
        "$('div#7f1f6558-88cf-40fd-917e-f8c16f1eaead').text('ETA:  0:00:00');"
       ],
       "metadata": {},
       "output_type": "display_data",
       "text": [
        "<IPython.core.display.Javascript at 0x17275b70>"
       ]
      },
      {
       "javascript": [
        "$('div#f535958d-22da-449f-90ec-10d01c8d9a94').text('1848 of 2029');"
       ],
       "metadata": {},
       "output_type": "display_data",
       "text": [
        "<IPython.core.display.Javascript at 0x1b4252e8>"
       ]
      },
      {
       "javascript": [
        "$('div#d70eb2cd-1edc-47d2-986c-b9492706aa76').text(' 91%');"
       ],
       "metadata": {},
       "output_type": "display_data",
       "text": [
        "<IPython.core.display.Javascript at 0x17275b70>"
       ]
      },
      {
       "javascript": [
        "\n",
        "        var $myPB = $(\"div#4814c797-c07a-4b7c-b4ba-8b1c874097a2\")\n",
        "        if ($myPB.hasClass('ui-progressbar')) {\n",
        "            $myPB.progressbar('value', 1848);\n",
        "        } else {\n",
        "            $myPB.progressbar({value: 0, max: 2029});\n",
        "        }\n",
        "        "
       ],
       "metadata": {},
       "output_type": "display_data",
       "text": [
        "<IPython.core.display.Javascript at 0x17275208>"
       ]
      },
      {
       "javascript": [
        "$('div#7f1f6558-88cf-40fd-917e-f8c16f1eaead').text('ETA:  0:00:00');"
       ],
       "metadata": {},
       "output_type": "display_data",
       "text": [
        "<IPython.core.display.Javascript at 0x36c0e10>"
       ]
      },
      {
       "javascript": [
        "$('div#f535958d-22da-449f-90ec-10d01c8d9a94').text('1869 of 2029');"
       ],
       "metadata": {},
       "output_type": "display_data",
       "text": [
        "<IPython.core.display.Javascript at 0x1b4252e8>"
       ]
      },
      {
       "javascript": [
        "$('div#d70eb2cd-1edc-47d2-986c-b9492706aa76').text(' 92%');"
       ],
       "metadata": {},
       "output_type": "display_data",
       "text": [
        "<IPython.core.display.Javascript at 0x36c0e10>"
       ]
      },
      {
       "javascript": [
        "\n",
        "        var $myPB = $(\"div#4814c797-c07a-4b7c-b4ba-8b1c874097a2\")\n",
        "        if ($myPB.hasClass('ui-progressbar')) {\n",
        "            $myPB.progressbar('value', 1869);\n",
        "        } else {\n",
        "            $myPB.progressbar({value: 0, max: 2029});\n",
        "        }\n",
        "        "
       ],
       "metadata": {},
       "output_type": "display_data",
       "text": [
        "<IPython.core.display.Javascript at 0x17275208>"
       ]
      },
      {
       "javascript": [
        "$('div#7f1f6558-88cf-40fd-917e-f8c16f1eaead').text('ETA:  0:00:00');"
       ],
       "metadata": {},
       "output_type": "display_data",
       "text": [
        "<IPython.core.display.Javascript at 0x17275b70>"
       ]
      },
      {
       "javascript": [
        "$('div#f535958d-22da-449f-90ec-10d01c8d9a94').text('1890 of 2029');"
       ],
       "metadata": {},
       "output_type": "display_data",
       "text": [
        "<IPython.core.display.Javascript at 0x1b4252e8>"
       ]
      },
      {
       "javascript": [
        "$('div#d70eb2cd-1edc-47d2-986c-b9492706aa76').text(' 93%');"
       ],
       "metadata": {},
       "output_type": "display_data",
       "text": [
        "<IPython.core.display.Javascript at 0x17275b70>"
       ]
      },
      {
       "javascript": [
        "\n",
        "        var $myPB = $(\"div#4814c797-c07a-4b7c-b4ba-8b1c874097a2\")\n",
        "        if ($myPB.hasClass('ui-progressbar')) {\n",
        "            $myPB.progressbar('value', 1890);\n",
        "        } else {\n",
        "            $myPB.progressbar({value: 0, max: 2029});\n",
        "        }\n",
        "        "
       ],
       "metadata": {},
       "output_type": "display_data",
       "text": [
        "<IPython.core.display.Javascript at 0x17275208>"
       ]
      },
      {
       "javascript": [
        "$('div#7f1f6558-88cf-40fd-917e-f8c16f1eaead').text('ETA:  0:00:00');"
       ],
       "metadata": {},
       "output_type": "display_data",
       "text": [
        "<IPython.core.display.Javascript at 0x36c0e10>"
       ]
      },
      {
       "javascript": [
        "$('div#f535958d-22da-449f-90ec-10d01c8d9a94').text('1911 of 2029');"
       ],
       "metadata": {},
       "output_type": "display_data",
       "text": [
        "<IPython.core.display.Javascript at 0x1b4252e8>"
       ]
      },
      {
       "javascript": [
        "$('div#d70eb2cd-1edc-47d2-986c-b9492706aa76').text(' 94%');"
       ],
       "metadata": {},
       "output_type": "display_data",
       "text": [
        "<IPython.core.display.Javascript at 0x36c0e10>"
       ]
      },
      {
       "javascript": [
        "\n",
        "        var $myPB = $(\"div#4814c797-c07a-4b7c-b4ba-8b1c874097a2\")\n",
        "        if ($myPB.hasClass('ui-progressbar')) {\n",
        "            $myPB.progressbar('value', 1911);\n",
        "        } else {\n",
        "            $myPB.progressbar({value: 0, max: 2029});\n",
        "        }\n",
        "        "
       ],
       "metadata": {},
       "output_type": "display_data",
       "text": [
        "<IPython.core.display.Javascript at 0x17275208>"
       ]
      },
      {
       "javascript": [
        "$('div#7f1f6558-88cf-40fd-917e-f8c16f1eaead').text('ETA:  0:00:00');"
       ],
       "metadata": {},
       "output_type": "display_data",
       "text": [
        "<IPython.core.display.Javascript at 0x17275b70>"
       ]
      },
      {
       "javascript": [
        "$('div#f535958d-22da-449f-90ec-10d01c8d9a94').text('1932 of 2029');"
       ],
       "metadata": {},
       "output_type": "display_data",
       "text": [
        "<IPython.core.display.Javascript at 0x1b425fd0>"
       ]
      },
      {
       "javascript": [
        "$('div#d70eb2cd-1edc-47d2-986c-b9492706aa76').text(' 95%');"
       ],
       "metadata": {},
       "output_type": "display_data",
       "text": [
        "<IPython.core.display.Javascript at 0x17275b70>"
       ]
      },
      {
       "javascript": [
        "\n",
        "        var $myPB = $(\"div#4814c797-c07a-4b7c-b4ba-8b1c874097a2\")\n",
        "        if ($myPB.hasClass('ui-progressbar')) {\n",
        "            $myPB.progressbar('value', 1932);\n",
        "        } else {\n",
        "            $myPB.progressbar({value: 0, max: 2029});\n",
        "        }\n",
        "        "
       ],
       "metadata": {},
       "output_type": "display_data",
       "text": [
        "<IPython.core.display.Javascript at 0x17275208>"
       ]
      },
      {
       "javascript": [
        "$('div#7f1f6558-88cf-40fd-917e-f8c16f1eaead').text('ETA:  0:00:00');"
       ],
       "metadata": {},
       "output_type": "display_data",
       "text": [
        "<IPython.core.display.Javascript at 0x36c0e10>"
       ]
      },
      {
       "javascript": [
        "$('div#f535958d-22da-449f-90ec-10d01c8d9a94').text('1953 of 2029');"
       ],
       "metadata": {},
       "output_type": "display_data",
       "text": [
        "<IPython.core.display.Javascript at 0x1b4256d8>"
       ]
      },
      {
       "javascript": [
        "$('div#d70eb2cd-1edc-47d2-986c-b9492706aa76').text(' 96%');"
       ],
       "metadata": {},
       "output_type": "display_data",
       "text": [
        "<IPython.core.display.Javascript at 0x36c0e10>"
       ]
      },
      {
       "javascript": [
        "\n",
        "        var $myPB = $(\"div#4814c797-c07a-4b7c-b4ba-8b1c874097a2\")\n",
        "        if ($myPB.hasClass('ui-progressbar')) {\n",
        "            $myPB.progressbar('value', 1953);\n",
        "        } else {\n",
        "            $myPB.progressbar({value: 0, max: 2029});\n",
        "        }\n",
        "        "
       ],
       "metadata": {},
       "output_type": "display_data",
       "text": [
        "<IPython.core.display.Javascript at 0x17275208>"
       ]
      },
      {
       "javascript": [
        "$('div#7f1f6558-88cf-40fd-917e-f8c16f1eaead').text('ETA:  0:00:00');"
       ],
       "metadata": {},
       "output_type": "display_data",
       "text": [
        "<IPython.core.display.Javascript at 0x17275b70>"
       ]
      },
      {
       "javascript": [
        "$('div#f535958d-22da-449f-90ec-10d01c8d9a94').text('1974 of 2029');"
       ],
       "metadata": {},
       "output_type": "display_data",
       "text": [
        "<IPython.core.display.Javascript at 0x1b4256d8>"
       ]
      },
      {
       "javascript": [
        "$('div#d70eb2cd-1edc-47d2-986c-b9492706aa76').text(' 97%');"
       ],
       "metadata": {},
       "output_type": "display_data",
       "text": [
        "<IPython.core.display.Javascript at 0x17275b70>"
       ]
      },
      {
       "javascript": [
        "\n",
        "        var $myPB = $(\"div#4814c797-c07a-4b7c-b4ba-8b1c874097a2\")\n",
        "        if ($myPB.hasClass('ui-progressbar')) {\n",
        "            $myPB.progressbar('value', 1974);\n",
        "        } else {\n",
        "            $myPB.progressbar({value: 0, max: 2029});\n",
        "        }\n",
        "        "
       ],
       "metadata": {},
       "output_type": "display_data",
       "text": [
        "<IPython.core.display.Javascript at 0x17275208>"
       ]
      },
      {
       "javascript": [
        "$('div#7f1f6558-88cf-40fd-917e-f8c16f1eaead').text('ETA:  0:00:00');"
       ],
       "metadata": {},
       "output_type": "display_data",
       "text": [
        "<IPython.core.display.Javascript at 0x36c0e10>"
       ]
      },
      {
       "javascript": [
        "$('div#f535958d-22da-449f-90ec-10d01c8d9a94').text('1995 of 2029');"
       ],
       "metadata": {},
       "output_type": "display_data",
       "text": [
        "<IPython.core.display.Javascript at 0x1b4255c0>"
       ]
      },
      {
       "javascript": [
        "$('div#d70eb2cd-1edc-47d2-986c-b9492706aa76').text(' 98%');"
       ],
       "metadata": {},
       "output_type": "display_data",
       "text": [
        "<IPython.core.display.Javascript at 0x36c0e10>"
       ]
      },
      {
       "javascript": [
        "\n",
        "        var $myPB = $(\"div#4814c797-c07a-4b7c-b4ba-8b1c874097a2\")\n",
        "        if ($myPB.hasClass('ui-progressbar')) {\n",
        "            $myPB.progressbar('value', 1995);\n",
        "        } else {\n",
        "            $myPB.progressbar({value: 0, max: 2029});\n",
        "        }\n",
        "        "
       ],
       "metadata": {},
       "output_type": "display_data",
       "text": [
        "<IPython.core.display.Javascript at 0x17275208>"
       ]
      },
      {
       "javascript": [
        "$('div#7f1f6558-88cf-40fd-917e-f8c16f1eaead').text('ETA:  0:00:00');"
       ],
       "metadata": {},
       "output_type": "display_data",
       "text": [
        "<IPython.core.display.Javascript at 0x17275b70>"
       ]
      },
      {
       "javascript": [
        "$('div#f535958d-22da-449f-90ec-10d01c8d9a94').text('2016 of 2029');"
       ],
       "metadata": {},
       "output_type": "display_data",
       "text": [
        "<IPython.core.display.Javascript at 0x1b4255c0>"
       ]
      },
      {
       "javascript": [
        "$('div#d70eb2cd-1edc-47d2-986c-b9492706aa76').text(' 99%');"
       ],
       "metadata": {},
       "output_type": "display_data",
       "text": [
        "<IPython.core.display.Javascript at 0x17275b70>"
       ]
      },
      {
       "javascript": [
        "\n",
        "        var $myPB = $(\"div#4814c797-c07a-4b7c-b4ba-8b1c874097a2\")\n",
        "        if ($myPB.hasClass('ui-progressbar')) {\n",
        "            $myPB.progressbar('value', 2016);\n",
        "        } else {\n",
        "            $myPB.progressbar({value: 0, max: 2029});\n",
        "        }\n",
        "        "
       ],
       "metadata": {},
       "output_type": "display_data",
       "text": [
        "<IPython.core.display.Javascript at 0x17275208>"
       ]
      },
      {
       "javascript": [
        "$('div#7f1f6558-88cf-40fd-917e-f8c16f1eaead').text('ETA:  0:00:00');"
       ],
       "metadata": {},
       "output_type": "display_data",
       "text": [
        "<IPython.core.display.Javascript at 0x36c0e10>"
       ]
      },
      {
       "javascript": [
        "$('div#f535958d-22da-449f-90ec-10d01c8d9a94').text('2029 of 2029');"
       ],
       "metadata": {},
       "output_type": "display_data",
       "text": [
        "<IPython.core.display.Javascript at 0x17275080>"
       ]
      },
      {
       "javascript": [
        "$('div#d70eb2cd-1edc-47d2-986c-b9492706aa76').text('100%');"
       ],
       "metadata": {},
       "output_type": "display_data",
       "text": [
        "<IPython.core.display.Javascript at 0x36c0e10>"
       ]
      },
      {
       "javascript": [
        "\n",
        "        var $myPB = $(\"div#4814c797-c07a-4b7c-b4ba-8b1c874097a2\")\n",
        "        if ($myPB.hasClass('ui-progressbar')) {\n",
        "            $myPB.progressbar('value', 2029);\n",
        "        } else {\n",
        "            $myPB.progressbar({value: 0, max: 2029});\n",
        "        }\n",
        "        "
       ],
       "metadata": {},
       "output_type": "display_data",
       "text": [
        "<IPython.core.display.Javascript at 0x17275080>"
       ]
      },
      {
       "javascript": [
        "$('div#7f1f6558-88cf-40fd-917e-f8c16f1eaead').text('Time: 0:00:00');"
       ],
       "metadata": {},
       "output_type": "display_data",
       "text": [
        "<IPython.core.display.Javascript at 0x17275b70>"
       ]
      },
      {
       "javascript": [
        "var element = document.getElementById('8c3a25fc-fc33-44df-871f-e9d8c3411f78');\n",
        "                    var parent = element.parentNode\n",
        "                    parent.removeChild(element);\n",
        "                    parent.parentElement.remove();"
       ],
       "metadata": {},
       "output_type": "display_data",
       "text": [
        "<IPython.core.display.Javascript at 0x17275940>"
       ]
      },
      {
       "javascript": [
        "this.cleanProgressBar(['8c3a25fc-fc33-44df-871f-e9d8c3411f78', 'f535958d-22da-449f-90ec-10d01c8d9a94', 'd70eb2cd-1edc-47d2-986c-b9492706aa76', '4814c797-c07a-4b7c-b4ba-8b1c874097a2', '7f1f6558-88cf-40fd-917e-f8c16f1eaead'])"
       ],
       "metadata": {},
       "output_type": "display_data",
       "text": [
        "<IPython.core.display.Javascript at 0x17275940>"
       ]
      },
      {
       "javascript": [
        "//045cce7f-a1ab-4db1-aefd-26ecac4e0369\n",
        "$(\"head\").append(\"<style> td.pb_widget {     width: auto; } td.pb_widget_fill {     width: 100%; } table.pb {     font-family: monospace;     border: 0;     margin: 0; } table.pb tr { border: 0; } table.pb td {     white-space: nowrap;     border: 0; } div.pb {     border: 1px solid #ddd;     border-radius: 3px; } div.pb_bar {     height: 1.5em; } </style>\")"
       ],
       "metadata": {},
       "output_type": "display_data",
       "text": [
        "<IPython.core.display.Javascript at 0x1a889d30>"
       ]
      },
      {
       "javascript": [
        "\n",
        "                  // 045cce7f-a1ab-4db1-aefd-26ecac4e0369 -- used to remove this code blob in the end\n",
        "                  IPython.OutputArea.prototype.cleanProgressBar = function(uuids) {\n",
        "                      // filter by uuid-strings \n",
        "                      var myfilter = function(output) { \n",
        "                          var nuids = uuids.length;\n",
        "                          for (var i=0; i<nuids; i++) {\n",
        "                              if (output.hasOwnProperty('html')) {\n",
        "                                  if (output.html.indexOf(uuids[i]) != -1) {\n",
        "                                      return false;\n",
        "                                  }\n",
        "                              }\n",
        "                              if (output.hasOwnProperty('javascript')) {\n",
        "                                  if (output.javascript.indexOf(uuids[i]) != -1) {\n",
        "                                      return false;\n",
        "                                  }\n",
        "                              }\n",
        "                          }\n",
        "                          // keep all others\n",
        "                          return true;\n",
        "                      };\n",
        "\n",
        "                      // Filter the ouputs\n",
        "                      this.outputs = this.outputs.filter(myfilter);\n",
        "                };\n",
        "                "
       ],
       "metadata": {},
       "output_type": "display_data",
       "text": [
        "<IPython.core.display.Javascript at 0x17275208>"
       ]
      },
      {
       "html": [
        "<div class=\"pb\" id=\"045cce7f-a1ab-4db1-aefd-26ecac4e0369\"><table class=\"pb ui-widget\"><tr>\n",
        "<td class=\"pb_widget\">tagging sentences</td>\n",
        "<td class=\"pb_widget\"><div id=\"6a478361-07ac-4b6a-a61b-4faa259fd302\">0 of 2029</div></td>\n",
        "<td class=\"pb_widget\"><div id=\"c0bb773b-a2a0-45b9-8671-12ef36aa434a\">  0%</div></td>\n",
        "<td class=\"pb_widget_fill\">\n",
        "        <div class=\"pb_bar\" id=\"6ddb7ba1-2b40-4479-ab11-04389377bcbc\"></div>\n",
        "        <script type=\"text/javascript\">\n",
        "            $(\"div#6ddb7ba1-2b40-4479-ab11-04389377bcbc\").progressbar({value: 0, max: 2029});\n",
        "        </script>\n",
        "        </td>\n",
        "<td class=\"pb_widget\"><div id=\"bba2f9b1-6de6-4247-a772-d752ced97281\">ETA:  --:--:--</div></td>\n",
        "</tr></table><div>"
       ],
       "metadata": {},
       "output_type": "display_data",
       "text": [
        "<IPython.core.display.HTML at 0x17275b70>"
       ]
      },
      {
       "javascript": [
        "$('div#6a478361-07ac-4b6a-a61b-4faa259fd302').text('21 of 2029');"
       ],
       "metadata": {},
       "output_type": "display_data",
       "text": [
        "<IPython.core.display.Javascript at 0x17275080>"
       ]
      },
      {
       "javascript": [
        "$('div#c0bb773b-a2a0-45b9-8671-12ef36aa434a').text('  1%');"
       ],
       "metadata": {},
       "output_type": "display_data",
       "text": [
        "<IPython.core.display.Javascript at 0x172753c8>"
       ]
      },
      {
       "javascript": [
        "\n",
        "        var $myPB = $(\"div#6ddb7ba1-2b40-4479-ab11-04389377bcbc\")\n",
        "        if ($myPB.hasClass('ui-progressbar')) {\n",
        "            $myPB.progressbar('value', 21);\n",
        "        } else {\n",
        "            $myPB.progressbar({value: 0, max: 2029});\n",
        "        }\n",
        "        "
       ],
       "metadata": {},
       "output_type": "display_data",
       "text": [
        "<IPython.core.display.Javascript at 0x17275940>"
       ]
      },
      {
       "javascript": [
        "$('div#bba2f9b1-6de6-4247-a772-d752ced97281').text('ETA:  0:00:00');"
       ],
       "metadata": {},
       "output_type": "display_data",
       "text": [
        "<IPython.core.display.Javascript at 0x17275208>"
       ]
      },
      {
       "javascript": [
        "$('div#6a478361-07ac-4b6a-a61b-4faa259fd302').text('42 of 2029');"
       ],
       "metadata": {},
       "output_type": "display_data",
       "text": [
        "<IPython.core.display.Javascript at 0x17275208>"
       ]
      },
      {
       "javascript": [
        "$('div#c0bb773b-a2a0-45b9-8671-12ef36aa434a').text('  2%');"
       ],
       "metadata": {},
       "output_type": "display_data",
       "text": [
        "<IPython.core.display.Javascript at 0x17275940>"
       ]
      },
      {
       "javascript": [
        "\n",
        "        var $myPB = $(\"div#6ddb7ba1-2b40-4479-ab11-04389377bcbc\")\n",
        "        if ($myPB.hasClass('ui-progressbar')) {\n",
        "            $myPB.progressbar('value', 42);\n",
        "        } else {\n",
        "            $myPB.progressbar({value: 0, max: 2029});\n",
        "        }\n",
        "        "
       ],
       "metadata": {},
       "output_type": "display_data",
       "text": [
        "<IPython.core.display.Javascript at 0x17275080>"
       ]
      },
      {
       "javascript": [
        "$('div#bba2f9b1-6de6-4247-a772-d752ced97281').text('ETA:  0:00:00');"
       ],
       "metadata": {},
       "output_type": "display_data",
       "text": [
        "<IPython.core.display.Javascript at 0x172753c8>"
       ]
      },
      {
       "javascript": [
        "$('div#6a478361-07ac-4b6a-a61b-4faa259fd302').text('63 of 2029');"
       ],
       "metadata": {},
       "output_type": "display_data",
       "text": [
        "<IPython.core.display.Javascript at 0x172753c8>"
       ]
      },
      {
       "javascript": [
        "$('div#c0bb773b-a2a0-45b9-8671-12ef36aa434a').text('  3%');"
       ],
       "metadata": {},
       "output_type": "display_data",
       "text": [
        "<IPython.core.display.Javascript at 0x17275080>"
       ]
      },
      {
       "javascript": [
        "\n",
        "        var $myPB = $(\"div#6ddb7ba1-2b40-4479-ab11-04389377bcbc\")\n",
        "        if ($myPB.hasClass('ui-progressbar')) {\n",
        "            $myPB.progressbar('value', 63);\n",
        "        } else {\n",
        "            $myPB.progressbar({value: 0, max: 2029});\n",
        "        }\n",
        "        "
       ],
       "metadata": {},
       "output_type": "display_data",
       "text": [
        "<IPython.core.display.Javascript at 0x17275208>"
       ]
      },
      {
       "javascript": [
        "$('div#bba2f9b1-6de6-4247-a772-d752ced97281').text('ETA:  0:00:00');"
       ],
       "metadata": {},
       "output_type": "display_data",
       "text": [
        "<IPython.core.display.Javascript at 0x17275940>"
       ]
      },
      {
       "javascript": [
        "$('div#6a478361-07ac-4b6a-a61b-4faa259fd302').text('84 of 2029');"
       ],
       "metadata": {},
       "output_type": "display_data",
       "text": [
        "<IPython.core.display.Javascript at 0x17275940>"
       ]
      },
      {
       "javascript": [
        "$('div#c0bb773b-a2a0-45b9-8671-12ef36aa434a').text('  4%');"
       ],
       "metadata": {},
       "output_type": "display_data",
       "text": [
        "<IPython.core.display.Javascript at 0x17275208>"
       ]
      },
      {
       "javascript": [
        "\n",
        "        var $myPB = $(\"div#6ddb7ba1-2b40-4479-ab11-04389377bcbc\")\n",
        "        if ($myPB.hasClass('ui-progressbar')) {\n",
        "            $myPB.progressbar('value', 84);\n",
        "        } else {\n",
        "            $myPB.progressbar({value: 0, max: 2029});\n",
        "        }\n",
        "        "
       ],
       "metadata": {},
       "output_type": "display_data",
       "text": [
        "<IPython.core.display.Javascript at 0x172753c8>"
       ]
      },
      {
       "javascript": [
        "$('div#bba2f9b1-6de6-4247-a772-d752ced97281').text('ETA:  0:00:00');"
       ],
       "metadata": {},
       "output_type": "display_data",
       "text": [
        "<IPython.core.display.Javascript at 0x17275080>"
       ]
      },
      {
       "javascript": [
        "$('div#6a478361-07ac-4b6a-a61b-4faa259fd302').text('105 of 2029');"
       ],
       "metadata": {},
       "output_type": "display_data",
       "text": [
        "<IPython.core.display.Javascript at 0x17275080>"
       ]
      },
      {
       "javascript": [
        "$('div#c0bb773b-a2a0-45b9-8671-12ef36aa434a').text('  5%');"
       ],
       "metadata": {},
       "output_type": "display_data",
       "text": [
        "<IPython.core.display.Javascript at 0x172753c8>"
       ]
      },
      {
       "javascript": [
        "\n",
        "        var $myPB = $(\"div#6ddb7ba1-2b40-4479-ab11-04389377bcbc\")\n",
        "        if ($myPB.hasClass('ui-progressbar')) {\n",
        "            $myPB.progressbar('value', 105);\n",
        "        } else {\n",
        "            $myPB.progressbar({value: 0, max: 2029});\n",
        "        }\n",
        "        "
       ],
       "metadata": {},
       "output_type": "display_data",
       "text": [
        "<IPython.core.display.Javascript at 0x17275940>"
       ]
      },
      {
       "javascript": [
        "$('div#bba2f9b1-6de6-4247-a772-d752ced97281').text('ETA:  0:00:00');"
       ],
       "metadata": {},
       "output_type": "display_data",
       "text": [
        "<IPython.core.display.Javascript at 0x17275208>"
       ]
      },
      {
       "javascript": [
        "$('div#6a478361-07ac-4b6a-a61b-4faa259fd302').text('126 of 2029');"
       ],
       "metadata": {},
       "output_type": "display_data",
       "text": [
        "<IPython.core.display.Javascript at 0x17275208>"
       ]
      },
      {
       "javascript": [
        "$('div#c0bb773b-a2a0-45b9-8671-12ef36aa434a').text('  6%');"
       ],
       "metadata": {},
       "output_type": "display_data",
       "text": [
        "<IPython.core.display.Javascript at 0x17275940>"
       ]
      },
      {
       "javascript": [
        "\n",
        "        var $myPB = $(\"div#6ddb7ba1-2b40-4479-ab11-04389377bcbc\")\n",
        "        if ($myPB.hasClass('ui-progressbar')) {\n",
        "            $myPB.progressbar('value', 126);\n",
        "        } else {\n",
        "            $myPB.progressbar({value: 0, max: 2029});\n",
        "        }\n",
        "        "
       ],
       "metadata": {},
       "output_type": "display_data",
       "text": [
        "<IPython.core.display.Javascript at 0x17275080>"
       ]
      },
      {
       "javascript": [
        "$('div#bba2f9b1-6de6-4247-a772-d752ced97281').text('ETA:  0:00:00');"
       ],
       "metadata": {},
       "output_type": "display_data",
       "text": [
        "<IPython.core.display.Javascript at 0x172753c8>"
       ]
      },
      {
       "javascript": [
        "$('div#6a478361-07ac-4b6a-a61b-4faa259fd302').text('147 of 2029');"
       ],
       "metadata": {},
       "output_type": "display_data",
       "text": [
        "<IPython.core.display.Javascript at 0x172753c8>"
       ]
      },
      {
       "javascript": [
        "$('div#c0bb773b-a2a0-45b9-8671-12ef36aa434a').text('  7%');"
       ],
       "metadata": {},
       "output_type": "display_data",
       "text": [
        "<IPython.core.display.Javascript at 0x17275080>"
       ]
      },
      {
       "javascript": [
        "\n",
        "        var $myPB = $(\"div#6ddb7ba1-2b40-4479-ab11-04389377bcbc\")\n",
        "        if ($myPB.hasClass('ui-progressbar')) {\n",
        "            $myPB.progressbar('value', 147);\n",
        "        } else {\n",
        "            $myPB.progressbar({value: 0, max: 2029});\n",
        "        }\n",
        "        "
       ],
       "metadata": {},
       "output_type": "display_data",
       "text": [
        "<IPython.core.display.Javascript at 0x17275208>"
       ]
      },
      {
       "javascript": [
        "$('div#bba2f9b1-6de6-4247-a772-d752ced97281').text('ETA:  0:00:00');"
       ],
       "metadata": {},
       "output_type": "display_data",
       "text": [
        "<IPython.core.display.Javascript at 0x17275940>"
       ]
      },
      {
       "javascript": [
        "$('div#6a478361-07ac-4b6a-a61b-4faa259fd302').text('168 of 2029');"
       ],
       "metadata": {},
       "output_type": "display_data",
       "text": [
        "<IPython.core.display.Javascript at 0x17275940>"
       ]
      },
      {
       "javascript": [
        "$('div#c0bb773b-a2a0-45b9-8671-12ef36aa434a').text('  8%');"
       ],
       "metadata": {},
       "output_type": "display_data",
       "text": [
        "<IPython.core.display.Javascript at 0x17275208>"
       ]
      },
      {
       "javascript": [
        "\n",
        "        var $myPB = $(\"div#6ddb7ba1-2b40-4479-ab11-04389377bcbc\")\n",
        "        if ($myPB.hasClass('ui-progressbar')) {\n",
        "            $myPB.progressbar('value', 168);\n",
        "        } else {\n",
        "            $myPB.progressbar({value: 0, max: 2029});\n",
        "        }\n",
        "        "
       ],
       "metadata": {},
       "output_type": "display_data",
       "text": [
        "<IPython.core.display.Javascript at 0x172753c8>"
       ]
      },
      {
       "javascript": [
        "$('div#bba2f9b1-6de6-4247-a772-d752ced97281').text('ETA:  0:00:00');"
       ],
       "metadata": {},
       "output_type": "display_data",
       "text": [
        "<IPython.core.display.Javascript at 0x17275080>"
       ]
      },
      {
       "javascript": [
        "$('div#6a478361-07ac-4b6a-a61b-4faa259fd302').text('189 of 2029');"
       ],
       "metadata": {},
       "output_type": "display_data",
       "text": [
        "<IPython.core.display.Javascript at 0x17275940>"
       ]
      },
      {
       "javascript": [
        "$('div#c0bb773b-a2a0-45b9-8671-12ef36aa434a').text('  9%');"
       ],
       "metadata": {},
       "output_type": "display_data",
       "text": [
        "<IPython.core.display.Javascript at 0x17275940>"
       ]
      },
      {
       "javascript": [
        "\n",
        "        var $myPB = $(\"div#6ddb7ba1-2b40-4479-ab11-04389377bcbc\")\n",
        "        if ($myPB.hasClass('ui-progressbar')) {\n",
        "            $myPB.progressbar('value', 189);\n",
        "        } else {\n",
        "            $myPB.progressbar({value: 0, max: 2029});\n",
        "        }\n",
        "        "
       ],
       "metadata": {},
       "output_type": "display_data",
       "text": [
        "<IPython.core.display.Javascript at 0x17275208>"
       ]
      },
      {
       "javascript": [
        "$('div#bba2f9b1-6de6-4247-a772-d752ced97281').text('ETA:  0:00:00');"
       ],
       "metadata": {},
       "output_type": "display_data",
       "text": [
        "<IPython.core.display.Javascript at 0x172753c8>"
       ]
      },
      {
       "javascript": [
        "$('div#6a478361-07ac-4b6a-a61b-4faa259fd302').text('210 of 2029');"
       ],
       "metadata": {},
       "output_type": "display_data",
       "text": [
        "<IPython.core.display.Javascript at 0x172753c8>"
       ]
      },
      {
       "javascript": [
        "$('div#c0bb773b-a2a0-45b9-8671-12ef36aa434a').text(' 10%');"
       ],
       "metadata": {},
       "output_type": "display_data",
       "text": [
        "<IPython.core.display.Javascript at 0x17275208>"
       ]
      },
      {
       "javascript": [
        "\n",
        "        var $myPB = $(\"div#6ddb7ba1-2b40-4479-ab11-04389377bcbc\")\n",
        "        if ($myPB.hasClass('ui-progressbar')) {\n",
        "            $myPB.progressbar('value', 210);\n",
        "        } else {\n",
        "            $myPB.progressbar({value: 0, max: 2029});\n",
        "        }\n",
        "        "
       ],
       "metadata": {},
       "output_type": "display_data",
       "text": [
        "<IPython.core.display.Javascript at 0x17275208>"
       ]
      },
      {
       "javascript": [
        "$('div#bba2f9b1-6de6-4247-a772-d752ced97281').text('ETA:  0:00:00');"
       ],
       "metadata": {},
       "output_type": "display_data",
       "text": [
        "<IPython.core.display.Javascript at 0x17275940>"
       ]
      },
      {
       "javascript": [
        "$('div#6a478361-07ac-4b6a-a61b-4faa259fd302').text('231 of 2029');"
       ],
       "metadata": {},
       "output_type": "display_data",
       "text": [
        "<IPython.core.display.Javascript at 0x172753c8>"
       ]
      },
      {
       "javascript": [
        "$('div#c0bb773b-a2a0-45b9-8671-12ef36aa434a').text(' 11%');"
       ],
       "metadata": {},
       "output_type": "display_data",
       "text": [
        "<IPython.core.display.Javascript at 0x17275940>"
       ]
      },
      {
       "javascript": [
        "\n",
        "        var $myPB = $(\"div#6ddb7ba1-2b40-4479-ab11-04389377bcbc\")\n",
        "        if ($myPB.hasClass('ui-progressbar')) {\n",
        "            $myPB.progressbar('value', 231);\n",
        "        } else {\n",
        "            $myPB.progressbar({value: 0, max: 2029});\n",
        "        }\n",
        "        "
       ],
       "metadata": {},
       "output_type": "display_data",
       "text": [
        "<IPython.core.display.Javascript at 0x17275208>"
       ]
      },
      {
       "javascript": [
        "$('div#bba2f9b1-6de6-4247-a772-d752ced97281').text('ETA:  0:00:00');"
       ],
       "metadata": {},
       "output_type": "display_data",
       "text": [
        "<IPython.core.display.Javascript at 0x17275208>"
       ]
      },
      {
       "javascript": [
        "$('div#6a478361-07ac-4b6a-a61b-4faa259fd302').text('252 of 2029');"
       ],
       "metadata": {},
       "output_type": "display_data",
       "text": [
        "<IPython.core.display.Javascript at 0x17275940>"
       ]
      },
      {
       "javascript": [
        "$('div#c0bb773b-a2a0-45b9-8671-12ef36aa434a').text(' 12%');"
       ],
       "metadata": {},
       "output_type": "display_data",
       "text": [
        "<IPython.core.display.Javascript at 0x17275208>"
       ]
      },
      {
       "javascript": [
        "\n",
        "        var $myPB = $(\"div#6ddb7ba1-2b40-4479-ab11-04389377bcbc\")\n",
        "        if ($myPB.hasClass('ui-progressbar')) {\n",
        "            $myPB.progressbar('value', 252);\n",
        "        } else {\n",
        "            $myPB.progressbar({value: 0, max: 2029});\n",
        "        }\n",
        "        "
       ],
       "metadata": {},
       "output_type": "display_data",
       "text": [
        "<IPython.core.display.Javascript at 0x172753c8>"
       ]
      },
      {
       "javascript": [
        "$('div#bba2f9b1-6de6-4247-a772-d752ced97281').text('ETA:  0:00:00');"
       ],
       "metadata": {},
       "output_type": "display_data",
       "text": [
        "<IPython.core.display.Javascript at 0x172753c8>"
       ]
      },
      {
       "javascript": [
        "$('div#6a478361-07ac-4b6a-a61b-4faa259fd302').text('273 of 2029');"
       ],
       "metadata": {},
       "output_type": "display_data",
       "text": [
        "<IPython.core.display.Javascript at 0x17275208>"
       ]
      },
      {
       "javascript": [
        "$('div#c0bb773b-a2a0-45b9-8671-12ef36aa434a').text(' 13%');"
       ],
       "metadata": {},
       "output_type": "display_data",
       "text": [
        "<IPython.core.display.Javascript at 0x172753c8>"
       ]
      },
      {
       "javascript": [
        "\n",
        "        var $myPB = $(\"div#6ddb7ba1-2b40-4479-ab11-04389377bcbc\")\n",
        "        if ($myPB.hasClass('ui-progressbar')) {\n",
        "            $myPB.progressbar('value', 273);\n",
        "        } else {\n",
        "            $myPB.progressbar({value: 0, max: 2029});\n",
        "        }\n",
        "        "
       ],
       "metadata": {},
       "output_type": "display_data",
       "text": [
        "<IPython.core.display.Javascript at 0x17275940>"
       ]
      },
      {
       "javascript": [
        "$('div#bba2f9b1-6de6-4247-a772-d752ced97281').text('ETA:  0:00:00');"
       ],
       "metadata": {},
       "output_type": "display_data",
       "text": [
        "<IPython.core.display.Javascript at 0x1b425a20>"
       ]
      },
      {
       "javascript": [
        "$('div#6a478361-07ac-4b6a-a61b-4faa259fd302').text('294 of 2029');"
       ],
       "metadata": {},
       "output_type": "display_data",
       "text": [
        "<IPython.core.display.Javascript at 0x17275940>"
       ]
      },
      {
       "javascript": [
        "$('div#c0bb773b-a2a0-45b9-8671-12ef36aa434a').text(' 14%');"
       ],
       "metadata": {},
       "output_type": "display_data",
       "text": [
        "<IPython.core.display.Javascript at 0x172753c8>"
       ]
      },
      {
       "javascript": [
        "\n",
        "        var $myPB = $(\"div#6ddb7ba1-2b40-4479-ab11-04389377bcbc\")\n",
        "        if ($myPB.hasClass('ui-progressbar')) {\n",
        "            $myPB.progressbar('value', 294);\n",
        "        } else {\n",
        "            $myPB.progressbar({value: 0, max: 2029});\n",
        "        }\n",
        "        "
       ],
       "metadata": {},
       "output_type": "display_data",
       "text": [
        "<IPython.core.display.Javascript at 0x172753c8>"
       ]
      },
      {
       "javascript": [
        "$('div#bba2f9b1-6de6-4247-a772-d752ced97281').text('ETA:  0:00:00');"
       ],
       "metadata": {},
       "output_type": "display_data",
       "text": [
        "<IPython.core.display.Javascript at 0x17275208>"
       ]
      },
      {
       "javascript": [
        "$('div#6a478361-07ac-4b6a-a61b-4faa259fd302').text('315 of 2029');"
       ],
       "metadata": {},
       "output_type": "display_data",
       "text": [
        "<IPython.core.display.Javascript at 0x17275940>"
       ]
      },
      {
       "javascript": [
        "$('div#c0bb773b-a2a0-45b9-8671-12ef36aa434a').text(' 15%');"
       ],
       "metadata": {},
       "output_type": "display_data",
       "text": [
        "<IPython.core.display.Javascript at 0x17275208>"
       ]
      },
      {
       "javascript": [
        "\n",
        "        var $myPB = $(\"div#6ddb7ba1-2b40-4479-ab11-04389377bcbc\")\n",
        "        if ($myPB.hasClass('ui-progressbar')) {\n",
        "            $myPB.progressbar('value', 315);\n",
        "        } else {\n",
        "            $myPB.progressbar({value: 0, max: 2029});\n",
        "        }\n",
        "        "
       ],
       "metadata": {},
       "output_type": "display_data",
       "text": [
        "<IPython.core.display.Javascript at 0x17275208>"
       ]
      },
      {
       "javascript": [
        "$('div#bba2f9b1-6de6-4247-a772-d752ced97281').text('ETA:  0:00:00');"
       ],
       "metadata": {},
       "output_type": "display_data",
       "text": [
        "<IPython.core.display.Javascript at 0x172753c8>"
       ]
      },
      {
       "javascript": [
        "$('div#6a478361-07ac-4b6a-a61b-4faa259fd302').text('336 of 2029');"
       ],
       "metadata": {},
       "output_type": "display_data",
       "text": [
        "<IPython.core.display.Javascript at 0x17275940>"
       ]
      },
      {
       "javascript": [
        "$('div#c0bb773b-a2a0-45b9-8671-12ef36aa434a').text(' 16%');"
       ],
       "metadata": {},
       "output_type": "display_data",
       "text": [
        "<IPython.core.display.Javascript at 0x172753c8>"
       ]
      },
      {
       "javascript": [
        "\n",
        "        var $myPB = $(\"div#6ddb7ba1-2b40-4479-ab11-04389377bcbc\")\n",
        "        if ($myPB.hasClass('ui-progressbar')) {\n",
        "            $myPB.progressbar('value', 336);\n",
        "        } else {\n",
        "            $myPB.progressbar({value: 0, max: 2029});\n",
        "        }\n",
        "        "
       ],
       "metadata": {},
       "output_type": "display_data",
       "text": [
        "<IPython.core.display.Javascript at 0x17275208>"
       ]
      },
      {
       "javascript": [
        "$('div#bba2f9b1-6de6-4247-a772-d752ced97281').text('ETA:  0:00:00');"
       ],
       "metadata": {},
       "output_type": "display_data",
       "text": [
        "<IPython.core.display.Javascript at 0x17275208>"
       ]
      },
      {
       "javascript": [
        "$('div#6a478361-07ac-4b6a-a61b-4faa259fd302').text('357 of 2029');"
       ],
       "metadata": {},
       "output_type": "display_data",
       "text": [
        "<IPython.core.display.Javascript at 0x172753c8>"
       ]
      },
      {
       "javascript": [
        "$('div#c0bb773b-a2a0-45b9-8671-12ef36aa434a').text(' 17%');"
       ],
       "metadata": {},
       "output_type": "display_data",
       "text": [
        "<IPython.core.display.Javascript at 0x172753c8>"
       ]
      },
      {
       "javascript": [
        "\n",
        "        var $myPB = $(\"div#6ddb7ba1-2b40-4479-ab11-04389377bcbc\")\n",
        "        if ($myPB.hasClass('ui-progressbar')) {\n",
        "            $myPB.progressbar('value', 357);\n",
        "        } else {\n",
        "            $myPB.progressbar({value: 0, max: 2029});\n",
        "        }\n",
        "        "
       ],
       "metadata": {},
       "output_type": "display_data",
       "text": [
        "<IPython.core.display.Javascript at 0x17275940>"
       ]
      },
      {
       "javascript": [
        "$('div#bba2f9b1-6de6-4247-a772-d752ced97281').text('ETA:  0:00:00');"
       ],
       "metadata": {},
       "output_type": "display_data",
       "text": [
        "<IPython.core.display.Javascript at 0x17275208>"
       ]
      },
      {
       "javascript": [
        "$('div#6a478361-07ac-4b6a-a61b-4faa259fd302').text('378 of 2029');"
       ],
       "metadata": {},
       "output_type": "display_data",
       "text": [
        "<IPython.core.display.Javascript at 0x17275208>"
       ]
      },
      {
       "javascript": [
        "$('div#c0bb773b-a2a0-45b9-8671-12ef36aa434a').text(' 18%');"
       ],
       "metadata": {},
       "output_type": "display_data",
       "text": [
        "<IPython.core.display.Javascript at 0x17275940>"
       ]
      },
      {
       "javascript": [
        "\n",
        "        var $myPB = $(\"div#6ddb7ba1-2b40-4479-ab11-04389377bcbc\")\n",
        "        if ($myPB.hasClass('ui-progressbar')) {\n",
        "            $myPB.progressbar('value', 378);\n",
        "        } else {\n",
        "            $myPB.progressbar({value: 0, max: 2029});\n",
        "        }\n",
        "        "
       ],
       "metadata": {},
       "output_type": "display_data",
       "text": [
        "<IPython.core.display.Javascript at 0x17275940>"
       ]
      },
      {
       "javascript": [
        "$('div#bba2f9b1-6de6-4247-a772-d752ced97281').text('ETA:  0:00:00');"
       ],
       "metadata": {},
       "output_type": "display_data",
       "text": [
        "<IPython.core.display.Javascript at 0x172753c8>"
       ]
      },
      {
       "javascript": [
        "$('div#6a478361-07ac-4b6a-a61b-4faa259fd302').text('399 of 2029');"
       ],
       "metadata": {},
       "output_type": "display_data",
       "text": [
        "<IPython.core.display.Javascript at 0x17275208>"
       ]
      },
      {
       "javascript": [
        "$('div#c0bb773b-a2a0-45b9-8671-12ef36aa434a').text(' 19%');"
       ],
       "metadata": {},
       "output_type": "display_data",
       "text": [
        "<IPython.core.display.Javascript at 0x172753c8>"
       ]
      },
      {
       "javascript": [
        "\n",
        "        var $myPB = $(\"div#6ddb7ba1-2b40-4479-ab11-04389377bcbc\")\n",
        "        if ($myPB.hasClass('ui-progressbar')) {\n",
        "            $myPB.progressbar('value', 399);\n",
        "        } else {\n",
        "            $myPB.progressbar({value: 0, max: 2029});\n",
        "        }\n",
        "        "
       ],
       "metadata": {},
       "output_type": "display_data",
       "text": [
        "<IPython.core.display.Javascript at 0x17275940>"
       ]
      },
      {
       "javascript": [
        "$('div#bba2f9b1-6de6-4247-a772-d752ced97281').text('ETA:  0:00:00');"
       ],
       "metadata": {},
       "output_type": "display_data",
       "text": [
        "<IPython.core.display.Javascript at 0x17275940>"
       ]
      },
      {
       "javascript": [
        "$('div#6a478361-07ac-4b6a-a61b-4faa259fd302').text('420 of 2029');"
       ],
       "metadata": {},
       "output_type": "display_data",
       "text": [
        "<IPython.core.display.Javascript at 0x172753c8>"
       ]
      },
      {
       "javascript": [
        "$('div#c0bb773b-a2a0-45b9-8671-12ef36aa434a').text(' 20%');"
       ],
       "metadata": {},
       "output_type": "display_data",
       "text": [
        "<IPython.core.display.Javascript at 0x17275940>"
       ]
      },
      {
       "javascript": [
        "\n",
        "        var $myPB = $(\"div#6ddb7ba1-2b40-4479-ab11-04389377bcbc\")\n",
        "        if ($myPB.hasClass('ui-progressbar')) {\n",
        "            $myPB.progressbar('value', 420);\n",
        "        } else {\n",
        "            $myPB.progressbar({value: 0, max: 2029});\n",
        "        }\n",
        "        "
       ],
       "metadata": {},
       "output_type": "display_data",
       "text": [
        "<IPython.core.display.Javascript at 0x17275208>"
       ]
      },
      {
       "javascript": [
        "$('div#bba2f9b1-6de6-4247-a772-d752ced97281').text('ETA:  0:00:00');"
       ],
       "metadata": {},
       "output_type": "display_data",
       "text": [
        "<IPython.core.display.Javascript at 0x1b425f28>"
       ]
      },
      {
       "javascript": [
        "$('div#6a478361-07ac-4b6a-a61b-4faa259fd302').text('441 of 2029');"
       ],
       "metadata": {},
       "output_type": "display_data",
       "text": [
        "<IPython.core.display.Javascript at 0x17275208>"
       ]
      },
      {
       "javascript": [
        "$('div#c0bb773b-a2a0-45b9-8671-12ef36aa434a').text(' 21%');"
       ],
       "metadata": {},
       "output_type": "display_data",
       "text": [
        "<IPython.core.display.Javascript at 0x17275940>"
       ]
      },
      {
       "javascript": [
        "\n",
        "        var $myPB = $(\"div#6ddb7ba1-2b40-4479-ab11-04389377bcbc\")\n",
        "        if ($myPB.hasClass('ui-progressbar')) {\n",
        "            $myPB.progressbar('value', 441);\n",
        "        } else {\n",
        "            $myPB.progressbar({value: 0, max: 2029});\n",
        "        }\n",
        "        "
       ],
       "metadata": {},
       "output_type": "display_data",
       "text": [
        "<IPython.core.display.Javascript at 0x17275940>"
       ]
      },
      {
       "javascript": [
        "$('div#bba2f9b1-6de6-4247-a772-d752ced97281').text('ETA:  0:00:00');"
       ],
       "metadata": {},
       "output_type": "display_data",
       "text": [
        "<IPython.core.display.Javascript at 0x172753c8>"
       ]
      },
      {
       "javascript": [
        "$('div#6a478361-07ac-4b6a-a61b-4faa259fd302').text('462 of 2029');"
       ],
       "metadata": {},
       "output_type": "display_data",
       "text": [
        "<IPython.core.display.Javascript at 0x17275208>"
       ]
      },
      {
       "javascript": [
        "$('div#c0bb773b-a2a0-45b9-8671-12ef36aa434a').text(' 22%');"
       ],
       "metadata": {},
       "output_type": "display_data",
       "text": [
        "<IPython.core.display.Javascript at 0x172753c8>"
       ]
      },
      {
       "javascript": [
        "\n",
        "        var $myPB = $(\"div#6ddb7ba1-2b40-4479-ab11-04389377bcbc\")\n",
        "        if ($myPB.hasClass('ui-progressbar')) {\n",
        "            $myPB.progressbar('value', 462);\n",
        "        } else {\n",
        "            $myPB.progressbar({value: 0, max: 2029});\n",
        "        }\n",
        "        "
       ],
       "metadata": {},
       "output_type": "display_data",
       "text": [
        "<IPython.core.display.Javascript at 0x17275940>"
       ]
      },
      {
       "javascript": [
        "$('div#bba2f9b1-6de6-4247-a772-d752ced97281').text('ETA:  0:00:00');"
       ],
       "metadata": {},
       "output_type": "display_data",
       "text": [
        "<IPython.core.display.Javascript at 0x1b425f28>"
       ]
      },
      {
       "javascript": [
        "$('div#6a478361-07ac-4b6a-a61b-4faa259fd302').text('483 of 2029');"
       ],
       "metadata": {},
       "output_type": "display_data",
       "text": [
        "<IPython.core.display.Javascript at 0x17275940>"
       ]
      },
      {
       "javascript": [
        "$('div#c0bb773b-a2a0-45b9-8671-12ef36aa434a').text(' 23%');"
       ],
       "metadata": {},
       "output_type": "display_data",
       "text": [
        "<IPython.core.display.Javascript at 0x172753c8>"
       ]
      },
      {
       "javascript": [
        "\n",
        "        var $myPB = $(\"div#6ddb7ba1-2b40-4479-ab11-04389377bcbc\")\n",
        "        if ($myPB.hasClass('ui-progressbar')) {\n",
        "            $myPB.progressbar('value', 483);\n",
        "        } else {\n",
        "            $myPB.progressbar({value: 0, max: 2029});\n",
        "        }\n",
        "        "
       ],
       "metadata": {},
       "output_type": "display_data",
       "text": [
        "<IPython.core.display.Javascript at 0x172753c8>"
       ]
      },
      {
       "javascript": [
        "$('div#bba2f9b1-6de6-4247-a772-d752ced97281').text('ETA:  0:00:00');"
       ],
       "metadata": {},
       "output_type": "display_data",
       "text": [
        "<IPython.core.display.Javascript at 0x17275208>"
       ]
      },
      {
       "javascript": [
        "$('div#6a478361-07ac-4b6a-a61b-4faa259fd302').text('504 of 2029');"
       ],
       "metadata": {},
       "output_type": "display_data",
       "text": [
        "<IPython.core.display.Javascript at 0x17275940>"
       ]
      },
      {
       "javascript": [
        "$('div#c0bb773b-a2a0-45b9-8671-12ef36aa434a').text(' 24%');"
       ],
       "metadata": {},
       "output_type": "display_data",
       "text": [
        "<IPython.core.display.Javascript at 0x17275208>"
       ]
      },
      {
       "javascript": [
        "\n",
        "        var $myPB = $(\"div#6ddb7ba1-2b40-4479-ab11-04389377bcbc\")\n",
        "        if ($myPB.hasClass('ui-progressbar')) {\n",
        "            $myPB.progressbar('value', 504);\n",
        "        } else {\n",
        "            $myPB.progressbar({value: 0, max: 2029});\n",
        "        }\n",
        "        "
       ],
       "metadata": {},
       "output_type": "display_data",
       "text": [
        "<IPython.core.display.Javascript at 0x172753c8>"
       ]
      },
      {
       "javascript": [
        "$('div#bba2f9b1-6de6-4247-a772-d752ced97281').text('ETA:  0:00:00');"
       ],
       "metadata": {},
       "output_type": "display_data",
       "text": [
        "<IPython.core.display.Javascript at 0x1b425f28>"
       ]
      },
      {
       "javascript": [
        "$('div#6a478361-07ac-4b6a-a61b-4faa259fd302').text('525 of 2029');"
       ],
       "metadata": {},
       "output_type": "display_data",
       "text": [
        "<IPython.core.display.Javascript at 0x172753c8>"
       ]
      },
      {
       "javascript": [
        "$('div#c0bb773b-a2a0-45b9-8671-12ef36aa434a').text(' 25%');"
       ],
       "metadata": {},
       "output_type": "display_data",
       "text": [
        "<IPython.core.display.Javascript at 0x17275208>"
       ]
      },
      {
       "javascript": [
        "\n",
        "        var $myPB = $(\"div#6ddb7ba1-2b40-4479-ab11-04389377bcbc\")\n",
        "        if ($myPB.hasClass('ui-progressbar')) {\n",
        "            $myPB.progressbar('value', 525);\n",
        "        } else {\n",
        "            $myPB.progressbar({value: 0, max: 2029});\n",
        "        }\n",
        "        "
       ],
       "metadata": {},
       "output_type": "display_data",
       "text": [
        "<IPython.core.display.Javascript at 0x17275208>"
       ]
      },
      {
       "javascript": [
        "$('div#bba2f9b1-6de6-4247-a772-d752ced97281').text('ETA:  0:00:00');"
       ],
       "metadata": {},
       "output_type": "display_data",
       "text": [
        "<IPython.core.display.Javascript at 0x17275940>"
       ]
      },
      {
       "javascript": [
        "$('div#6a478361-07ac-4b6a-a61b-4faa259fd302').text('546 of 2029');"
       ],
       "metadata": {},
       "output_type": "display_data",
       "text": [
        "<IPython.core.display.Javascript at 0x172753c8>"
       ]
      },
      {
       "javascript": [
        "$('div#c0bb773b-a2a0-45b9-8671-12ef36aa434a').text(' 26%');"
       ],
       "metadata": {},
       "output_type": "display_data",
       "text": [
        "<IPython.core.display.Javascript at 0x17275940>"
       ]
      },
      {
       "javascript": [
        "\n",
        "        var $myPB = $(\"div#6ddb7ba1-2b40-4479-ab11-04389377bcbc\")\n",
        "        if ($myPB.hasClass('ui-progressbar')) {\n",
        "            $myPB.progressbar('value', 546);\n",
        "        } else {\n",
        "            $myPB.progressbar({value: 0, max: 2029});\n",
        "        }\n",
        "        "
       ],
       "metadata": {},
       "output_type": "display_data",
       "text": [
        "<IPython.core.display.Javascript at 0x17275208>"
       ]
      },
      {
       "javascript": [
        "$('div#bba2f9b1-6de6-4247-a772-d752ced97281').text('ETA:  0:00:00');"
       ],
       "metadata": {},
       "output_type": "display_data",
       "text": [
        "<IPython.core.display.Javascript at 0x1b425f28>"
       ]
      },
      {
       "javascript": [
        "$('div#6a478361-07ac-4b6a-a61b-4faa259fd302').text('567 of 2029');"
       ],
       "metadata": {},
       "output_type": "display_data",
       "text": [
        "<IPython.core.display.Javascript at 0x17275940>"
       ]
      },
      {
       "javascript": [
        "$('div#c0bb773b-a2a0-45b9-8671-12ef36aa434a').text(' 27%');"
       ],
       "metadata": {},
       "output_type": "display_data",
       "text": [
        "<IPython.core.display.Javascript at 0x17275208>"
       ]
      },
      {
       "javascript": [
        "\n",
        "        var $myPB = $(\"div#6ddb7ba1-2b40-4479-ab11-04389377bcbc\")\n",
        "        if ($myPB.hasClass('ui-progressbar')) {\n",
        "            $myPB.progressbar('value', 567);\n",
        "        } else {\n",
        "            $myPB.progressbar({value: 0, max: 2029});\n",
        "        }\n",
        "        "
       ],
       "metadata": {},
       "output_type": "display_data",
       "text": [
        "<IPython.core.display.Javascript at 0x17275208>"
       ]
      },
      {
       "javascript": [
        "$('div#bba2f9b1-6de6-4247-a772-d752ced97281').text('ETA:  0:00:00');"
       ],
       "metadata": {},
       "output_type": "display_data",
       "text": [
        "<IPython.core.display.Javascript at 0x172753c8>"
       ]
      },
      {
       "javascript": [
        "$('div#6a478361-07ac-4b6a-a61b-4faa259fd302').text('588 of 2029');"
       ],
       "metadata": {},
       "output_type": "display_data",
       "text": [
        "<IPython.core.display.Javascript at 0x17275940>"
       ]
      },
      {
       "javascript": [
        "$('div#c0bb773b-a2a0-45b9-8671-12ef36aa434a').text(' 28%');"
       ],
       "metadata": {},
       "output_type": "display_data",
       "text": [
        "<IPython.core.display.Javascript at 0x172753c8>"
       ]
      },
      {
       "javascript": [
        "\n",
        "        var $myPB = $(\"div#6ddb7ba1-2b40-4479-ab11-04389377bcbc\")\n",
        "        if ($myPB.hasClass('ui-progressbar')) {\n",
        "            $myPB.progressbar('value', 588);\n",
        "        } else {\n",
        "            $myPB.progressbar({value: 0, max: 2029});\n",
        "        }\n",
        "        "
       ],
       "metadata": {},
       "output_type": "display_data",
       "text": [
        "<IPython.core.display.Javascript at 0x17275208>"
       ]
      },
      {
       "javascript": [
        "$('div#bba2f9b1-6de6-4247-a772-d752ced97281').text('ETA:  0:00:00');"
       ],
       "metadata": {},
       "output_type": "display_data",
       "text": [
        "<IPython.core.display.Javascript at 0x1b425f28>"
       ]
      },
      {
       "javascript": [
        "$('div#6a478361-07ac-4b6a-a61b-4faa259fd302').text('609 of 2029');"
       ],
       "metadata": {},
       "output_type": "display_data",
       "text": [
        "<IPython.core.display.Javascript at 0x17275208>"
       ]
      },
      {
       "javascript": [
        "$('div#c0bb773b-a2a0-45b9-8671-12ef36aa434a').text(' 30%');"
       ],
       "metadata": {},
       "output_type": "display_data",
       "text": [
        "<IPython.core.display.Javascript at 0x172753c8>"
       ]
      },
      {
       "javascript": [
        "\n",
        "        var $myPB = $(\"div#6ddb7ba1-2b40-4479-ab11-04389377bcbc\")\n",
        "        if ($myPB.hasClass('ui-progressbar')) {\n",
        "            $myPB.progressbar('value', 609);\n",
        "        } else {\n",
        "            $myPB.progressbar({value: 0, max: 2029});\n",
        "        }\n",
        "        "
       ],
       "metadata": {},
       "output_type": "display_data",
       "text": [
        "<IPython.core.display.Javascript at 0x172753c8>"
       ]
      },
      {
       "javascript": [
        "$('div#bba2f9b1-6de6-4247-a772-d752ced97281').text('ETA:  0:00:00');"
       ],
       "metadata": {},
       "output_type": "display_data",
       "text": [
        "<IPython.core.display.Javascript at 0x17275940>"
       ]
      },
      {
       "javascript": [
        "$('div#6a478361-07ac-4b6a-a61b-4faa259fd302').text('630 of 2029');"
       ],
       "metadata": {},
       "output_type": "display_data",
       "text": [
        "<IPython.core.display.Javascript at 0x17275208>"
       ]
      },
      {
       "javascript": [
        "$('div#c0bb773b-a2a0-45b9-8671-12ef36aa434a').text(' 31%');"
       ],
       "metadata": {},
       "output_type": "display_data",
       "text": [
        "<IPython.core.display.Javascript at 0x17275940>"
       ]
      },
      {
       "javascript": [
        "\n",
        "        var $myPB = $(\"div#6ddb7ba1-2b40-4479-ab11-04389377bcbc\")\n",
        "        if ($myPB.hasClass('ui-progressbar')) {\n",
        "            $myPB.progressbar('value', 630);\n",
        "        } else {\n",
        "            $myPB.progressbar({value: 0, max: 2029});\n",
        "        }\n",
        "        "
       ],
       "metadata": {},
       "output_type": "display_data",
       "text": [
        "<IPython.core.display.Javascript at 0x172753c8>"
       ]
      },
      {
       "javascript": [
        "$('div#bba2f9b1-6de6-4247-a772-d752ced97281').text('ETA:  0:00:00');"
       ],
       "metadata": {},
       "output_type": "display_data",
       "text": [
        "<IPython.core.display.Javascript at 0x1b425f28>"
       ]
      },
      {
       "javascript": [
        "$('div#6a478361-07ac-4b6a-a61b-4faa259fd302').text('651 of 2029');"
       ],
       "metadata": {},
       "output_type": "display_data",
       "text": [
        "<IPython.core.display.Javascript at 0x172753c8>"
       ]
      },
      {
       "javascript": [
        "$('div#c0bb773b-a2a0-45b9-8671-12ef36aa434a').text(' 32%');"
       ],
       "metadata": {},
       "output_type": "display_data",
       "text": [
        "<IPython.core.display.Javascript at 0x17275940>"
       ]
      },
      {
       "javascript": [
        "\n",
        "        var $myPB = $(\"div#6ddb7ba1-2b40-4479-ab11-04389377bcbc\")\n",
        "        if ($myPB.hasClass('ui-progressbar')) {\n",
        "            $myPB.progressbar('value', 651);\n",
        "        } else {\n",
        "            $myPB.progressbar({value: 0, max: 2029});\n",
        "        }\n",
        "        "
       ],
       "metadata": {},
       "output_type": "display_data",
       "text": [
        "<IPython.core.display.Javascript at 0x17275940>"
       ]
      },
      {
       "javascript": [
        "$('div#bba2f9b1-6de6-4247-a772-d752ced97281').text('ETA:  0:00:00');"
       ],
       "metadata": {},
       "output_type": "display_data",
       "text": [
        "<IPython.core.display.Javascript at 0x17275208>"
       ]
      },
      {
       "javascript": [
        "$('div#6a478361-07ac-4b6a-a61b-4faa259fd302').text('672 of 2029');"
       ],
       "metadata": {},
       "output_type": "display_data",
       "text": [
        "<IPython.core.display.Javascript at 0x172753c8>"
       ]
      },
      {
       "javascript": [
        "$('div#c0bb773b-a2a0-45b9-8671-12ef36aa434a').text(' 33%');"
       ],
       "metadata": {},
       "output_type": "display_data",
       "text": [
        "<IPython.core.display.Javascript at 0x17275208>"
       ]
      },
      {
       "javascript": [
        "\n",
        "        var $myPB = $(\"div#6ddb7ba1-2b40-4479-ab11-04389377bcbc\")\n",
        "        if ($myPB.hasClass('ui-progressbar')) {\n",
        "            $myPB.progressbar('value', 672);\n",
        "        } else {\n",
        "            $myPB.progressbar({value: 0, max: 2029});\n",
        "        }\n",
        "        "
       ],
       "metadata": {},
       "output_type": "display_data",
       "text": [
        "<IPython.core.display.Javascript at 0x17275940>"
       ]
      },
      {
       "javascript": [
        "$('div#bba2f9b1-6de6-4247-a772-d752ced97281').text('ETA:  0:00:00');"
       ],
       "metadata": {},
       "output_type": "display_data",
       "text": [
        "<IPython.core.display.Javascript at 0x17275940>"
       ]
      },
      {
       "javascript": [
        "$('div#6a478361-07ac-4b6a-a61b-4faa259fd302').text('693 of 2029');"
       ],
       "metadata": {},
       "output_type": "display_data",
       "text": [
        "<IPython.core.display.Javascript at 0x17275208>"
       ]
      },
      {
       "javascript": [
        "$('div#c0bb773b-a2a0-45b9-8671-12ef36aa434a').text(' 34%');"
       ],
       "metadata": {},
       "output_type": "display_data",
       "text": [
        "<IPython.core.display.Javascript at 0x17275208>"
       ]
      },
      {
       "javascript": [
        "\n",
        "        var $myPB = $(\"div#6ddb7ba1-2b40-4479-ab11-04389377bcbc\")\n",
        "        if ($myPB.hasClass('ui-progressbar')) {\n",
        "            $myPB.progressbar('value', 693);\n",
        "        } else {\n",
        "            $myPB.progressbar({value: 0, max: 2029});\n",
        "        }\n",
        "        "
       ],
       "metadata": {},
       "output_type": "display_data",
       "text": [
        "<IPython.core.display.Javascript at 0x172753c8>"
       ]
      },
      {
       "javascript": [
        "$('div#bba2f9b1-6de6-4247-a772-d752ced97281').text('ETA:  0:00:00');"
       ],
       "metadata": {},
       "output_type": "display_data",
       "text": [
        "<IPython.core.display.Javascript at 0x17275940>"
       ]
      },
      {
       "javascript": [
        "$('div#6a478361-07ac-4b6a-a61b-4faa259fd302').text('714 of 2029');"
       ],
       "metadata": {},
       "output_type": "display_data",
       "text": [
        "<IPython.core.display.Javascript at 0x17275940>"
       ]
      },
      {
       "javascript": [
        "$('div#c0bb773b-a2a0-45b9-8671-12ef36aa434a').text(' 35%');"
       ],
       "metadata": {},
       "output_type": "display_data",
       "text": [
        "<IPython.core.display.Javascript at 0x172753c8>"
       ]
      },
      {
       "javascript": [
        "\n",
        "        var $myPB = $(\"div#6ddb7ba1-2b40-4479-ab11-04389377bcbc\")\n",
        "        if ($myPB.hasClass('ui-progressbar')) {\n",
        "            $myPB.progressbar('value', 714);\n",
        "        } else {\n",
        "            $myPB.progressbar({value: 0, max: 2029});\n",
        "        }\n",
        "        "
       ],
       "metadata": {},
       "output_type": "display_data",
       "text": [
        "<IPython.core.display.Javascript at 0x17275208>"
       ]
      },
      {
       "javascript": [
        "$('div#bba2f9b1-6de6-4247-a772-d752ced97281').text('ETA:  0:00:00');"
       ],
       "metadata": {},
       "output_type": "display_data",
       "text": [
        "<IPython.core.display.Javascript at 0x17275208>"
       ]
      },
      {
       "javascript": [
        "$('div#6a478361-07ac-4b6a-a61b-4faa259fd302').text('735 of 2029');"
       ],
       "metadata": {},
       "output_type": "display_data",
       "text": [
        "<IPython.core.display.Javascript at 0x17275940>"
       ]
      },
      {
       "javascript": [
        "$('div#c0bb773b-a2a0-45b9-8671-12ef36aa434a').text(' 36%');"
       ],
       "metadata": {},
       "output_type": "display_data",
       "text": [
        "<IPython.core.display.Javascript at 0x17275208>"
       ]
      },
      {
       "javascript": [
        "\n",
        "        var $myPB = $(\"div#6ddb7ba1-2b40-4479-ab11-04389377bcbc\")\n",
        "        if ($myPB.hasClass('ui-progressbar')) {\n",
        "            $myPB.progressbar('value', 735);\n",
        "        } else {\n",
        "            $myPB.progressbar({value: 0, max: 2029});\n",
        "        }\n",
        "        "
       ],
       "metadata": {},
       "output_type": "display_data",
       "text": [
        "<IPython.core.display.Javascript at 0x172753c8>"
       ]
      },
      {
       "javascript": [
        "$('div#bba2f9b1-6de6-4247-a772-d752ced97281').text('ETA:  0:00:00');"
       ],
       "metadata": {},
       "output_type": "display_data",
       "text": [
        "<IPython.core.display.Javascript at 0x172753c8>"
       ]
      },
      {
       "javascript": [
        "$('div#6a478361-07ac-4b6a-a61b-4faa259fd302').text('756 of 2029');"
       ],
       "metadata": {},
       "output_type": "display_data",
       "text": [
        "<IPython.core.display.Javascript at 0x17275208>"
       ]
      },
      {
       "javascript": [
        "$('div#c0bb773b-a2a0-45b9-8671-12ef36aa434a').text(' 37%');"
       ],
       "metadata": {},
       "output_type": "display_data",
       "text": [
        "<IPython.core.display.Javascript at 0x17275208>"
       ]
      },
      {
       "javascript": [
        "\n",
        "        var $myPB = $(\"div#6ddb7ba1-2b40-4479-ab11-04389377bcbc\")\n",
        "        if ($myPB.hasClass('ui-progressbar')) {\n",
        "            $myPB.progressbar('value', 756);\n",
        "        } else {\n",
        "            $myPB.progressbar({value: 0, max: 2029});\n",
        "        }\n",
        "        "
       ],
       "metadata": {},
       "output_type": "display_data",
       "text": [
        "<IPython.core.display.Javascript at 0x17275940>"
       ]
      },
      {
       "javascript": [
        "$('div#bba2f9b1-6de6-4247-a772-d752ced97281').text('ETA:  0:00:00');"
       ],
       "metadata": {},
       "output_type": "display_data",
       "text": [
        "<IPython.core.display.Javascript at 0x172753c8>"
       ]
      },
      {
       "javascript": [
        "$('div#6a478361-07ac-4b6a-a61b-4faa259fd302').text('777 of 2029');"
       ],
       "metadata": {},
       "output_type": "display_data",
       "text": [
        "<IPython.core.display.Javascript at 0x172753c8>"
       ]
      },
      {
       "javascript": [
        "$('div#c0bb773b-a2a0-45b9-8671-12ef36aa434a').text(' 38%');"
       ],
       "metadata": {},
       "output_type": "display_data",
       "text": [
        "<IPython.core.display.Javascript at 0x17275940>"
       ]
      },
      {
       "javascript": [
        "\n",
        "        var $myPB = $(\"div#6ddb7ba1-2b40-4479-ab11-04389377bcbc\")\n",
        "        if ($myPB.hasClass('ui-progressbar')) {\n",
        "            $myPB.progressbar('value', 777);\n",
        "        } else {\n",
        "            $myPB.progressbar({value: 0, max: 2029});\n",
        "        }\n",
        "        "
       ],
       "metadata": {},
       "output_type": "display_data",
       "text": [
        "<IPython.core.display.Javascript at 0x17275208>"
       ]
      },
      {
       "javascript": [
        "$('div#bba2f9b1-6de6-4247-a772-d752ced97281').text('ETA:  0:00:00');"
       ],
       "metadata": {},
       "output_type": "display_data",
       "text": [
        "<IPython.core.display.Javascript at 0x17275208>"
       ]
      },
      {
       "javascript": [
        "$('div#6a478361-07ac-4b6a-a61b-4faa259fd302').text('798 of 2029');"
       ],
       "metadata": {},
       "output_type": "display_data",
       "text": [
        "<IPython.core.display.Javascript at 0x17275940>"
       ]
      },
      {
       "javascript": [
        "$('div#c0bb773b-a2a0-45b9-8671-12ef36aa434a').text(' 39%');"
       ],
       "metadata": {},
       "output_type": "display_data",
       "text": [
        "<IPython.core.display.Javascript at 0x17275208>"
       ]
      },
      {
       "javascript": [
        "\n",
        "        var $myPB = $(\"div#6ddb7ba1-2b40-4479-ab11-04389377bcbc\")\n",
        "        if ($myPB.hasClass('ui-progressbar')) {\n",
        "            $myPB.progressbar('value', 798);\n",
        "        } else {\n",
        "            $myPB.progressbar({value: 0, max: 2029});\n",
        "        }\n",
        "        "
       ],
       "metadata": {},
       "output_type": "display_data",
       "text": [
        "<IPython.core.display.Javascript at 0x172753c8>"
       ]
      },
      {
       "javascript": [
        "$('div#bba2f9b1-6de6-4247-a772-d752ced97281').text('ETA:  0:00:00');"
       ],
       "metadata": {},
       "output_type": "display_data",
       "text": [
        "<IPython.core.display.Javascript at 0x1b425278>"
       ]
      },
      {
       "javascript": [
        "$('div#6a478361-07ac-4b6a-a61b-4faa259fd302').text('819 of 2029');"
       ],
       "metadata": {},
       "output_type": "display_data",
       "text": [
        "<IPython.core.display.Javascript at 0x172753c8>"
       ]
      },
      {
       "javascript": [
        "$('div#c0bb773b-a2a0-45b9-8671-12ef36aa434a').text(' 40%');"
       ],
       "metadata": {},
       "output_type": "display_data",
       "text": [
        "<IPython.core.display.Javascript at 0x17275208>"
       ]
      },
      {
       "javascript": [
        "\n",
        "        var $myPB = $(\"div#6ddb7ba1-2b40-4479-ab11-04389377bcbc\")\n",
        "        if ($myPB.hasClass('ui-progressbar')) {\n",
        "            $myPB.progressbar('value', 819);\n",
        "        } else {\n",
        "            $myPB.progressbar({value: 0, max: 2029});\n",
        "        }\n",
        "        "
       ],
       "metadata": {},
       "output_type": "display_data",
       "text": [
        "<IPython.core.display.Javascript at 0x17275208>"
       ]
      },
      {
       "javascript": [
        "$('div#bba2f9b1-6de6-4247-a772-d752ced97281').text('ETA:  0:00:00');"
       ],
       "metadata": {},
       "output_type": "display_data",
       "text": [
        "<IPython.core.display.Javascript at 0x17275940>"
       ]
      },
      {
       "javascript": [
        "$('div#6a478361-07ac-4b6a-a61b-4faa259fd302').text('840 of 2029');"
       ],
       "metadata": {},
       "output_type": "display_data",
       "text": [
        "<IPython.core.display.Javascript at 0x172753c8>"
       ]
      },
      {
       "javascript": [
        "$('div#c0bb773b-a2a0-45b9-8671-12ef36aa434a').text(' 41%');"
       ],
       "metadata": {},
       "output_type": "display_data",
       "text": [
        "<IPython.core.display.Javascript at 0x17275940>"
       ]
      },
      {
       "javascript": [
        "\n",
        "        var $myPB = $(\"div#6ddb7ba1-2b40-4479-ab11-04389377bcbc\")\n",
        "        if ($myPB.hasClass('ui-progressbar')) {\n",
        "            $myPB.progressbar('value', 840);\n",
        "        } else {\n",
        "            $myPB.progressbar({value: 0, max: 2029});\n",
        "        }\n",
        "        "
       ],
       "metadata": {},
       "output_type": "display_data",
       "text": [
        "<IPython.core.display.Javascript at 0x17275208>"
       ]
      },
      {
       "javascript": [
        "$('div#bba2f9b1-6de6-4247-a772-d752ced97281').text('ETA:  0:00:00');"
       ],
       "metadata": {},
       "output_type": "display_data",
       "text": [
        "<IPython.core.display.Javascript at 0x1b425278>"
       ]
      },
      {
       "javascript": [
        "$('div#6a478361-07ac-4b6a-a61b-4faa259fd302').text('861 of 2029');"
       ],
       "metadata": {},
       "output_type": "display_data",
       "text": [
        "<IPython.core.display.Javascript at 0x17275208>"
       ]
      },
      {
       "javascript": [
        "$('div#c0bb773b-a2a0-45b9-8671-12ef36aa434a').text(' 42%');"
       ],
       "metadata": {},
       "output_type": "display_data",
       "text": [
        "<IPython.core.display.Javascript at 0x17275940>"
       ]
      },
      {
       "javascript": [
        "\n",
        "        var $myPB = $(\"div#6ddb7ba1-2b40-4479-ab11-04389377bcbc\")\n",
        "        if ($myPB.hasClass('ui-progressbar')) {\n",
        "            $myPB.progressbar('value', 861);\n",
        "        } else {\n",
        "            $myPB.progressbar({value: 0, max: 2029});\n",
        "        }\n",
        "        "
       ],
       "metadata": {},
       "output_type": "display_data",
       "text": [
        "<IPython.core.display.Javascript at 0x17275940>"
       ]
      },
      {
       "javascript": [
        "$('div#bba2f9b1-6de6-4247-a772-d752ced97281').text('ETA:  0:00:00');"
       ],
       "metadata": {},
       "output_type": "display_data",
       "text": [
        "<IPython.core.display.Javascript at 0x172753c8>"
       ]
      },
      {
       "javascript": [
        "$('div#6a478361-07ac-4b6a-a61b-4faa259fd302').text('882 of 2029');"
       ],
       "metadata": {},
       "output_type": "display_data",
       "text": [
        "<IPython.core.display.Javascript at 0x17275208>"
       ]
      },
      {
       "javascript": [
        "$('div#c0bb773b-a2a0-45b9-8671-12ef36aa434a').text(' 43%');"
       ],
       "metadata": {},
       "output_type": "display_data",
       "text": [
        "<IPython.core.display.Javascript at 0x172753c8>"
       ]
      },
      {
       "javascript": [
        "\n",
        "        var $myPB = $(\"div#6ddb7ba1-2b40-4479-ab11-04389377bcbc\")\n",
        "        if ($myPB.hasClass('ui-progressbar')) {\n",
        "            $myPB.progressbar('value', 882);\n",
        "        } else {\n",
        "            $myPB.progressbar({value: 0, max: 2029});\n",
        "        }\n",
        "        "
       ],
       "metadata": {},
       "output_type": "display_data",
       "text": [
        "<IPython.core.display.Javascript at 0x17275940>"
       ]
      },
      {
       "javascript": [
        "$('div#bba2f9b1-6de6-4247-a772-d752ced97281').text('ETA:  0:00:00');"
       ],
       "metadata": {},
       "output_type": "display_data",
       "text": [
        "<IPython.core.display.Javascript at 0x17275940>"
       ]
      },
      {
       "javascript": [
        "$('div#6a478361-07ac-4b6a-a61b-4faa259fd302').text('903 of 2029');"
       ],
       "metadata": {},
       "output_type": "display_data",
       "text": [
        "<IPython.core.display.Javascript at 0x172753c8>"
       ]
      },
      {
       "javascript": [
        "$('div#c0bb773b-a2a0-45b9-8671-12ef36aa434a').text(' 44%');"
       ],
       "metadata": {},
       "output_type": "display_data",
       "text": [
        "<IPython.core.display.Javascript at 0x172753c8>"
       ]
      },
      {
       "javascript": [
        "\n",
        "        var $myPB = $(\"div#6ddb7ba1-2b40-4479-ab11-04389377bcbc\")\n",
        "        if ($myPB.hasClass('ui-progressbar')) {\n",
        "            $myPB.progressbar('value', 903);\n",
        "        } else {\n",
        "            $myPB.progressbar({value: 0, max: 2029});\n",
        "        }\n",
        "        "
       ],
       "metadata": {},
       "output_type": "display_data",
       "text": [
        "<IPython.core.display.Javascript at 0x17275208>"
       ]
      },
      {
       "javascript": [
        "$('div#bba2f9b1-6de6-4247-a772-d752ced97281').text('ETA:  0:00:00');"
       ],
       "metadata": {},
       "output_type": "display_data",
       "text": [
        "<IPython.core.display.Javascript at 0x17275940>"
       ]
      },
      {
       "javascript": [
        "$('div#6a478361-07ac-4b6a-a61b-4faa259fd302').text('924 of 2029');"
       ],
       "metadata": {},
       "output_type": "display_data",
       "text": [
        "<IPython.core.display.Javascript at 0x17275940>"
       ]
      },
      {
       "javascript": [
        "$('div#c0bb773b-a2a0-45b9-8671-12ef36aa434a').text(' 45%');"
       ],
       "metadata": {},
       "output_type": "display_data",
       "text": [
        "<IPython.core.display.Javascript at 0x17275208>"
       ]
      },
      {
       "javascript": [
        "\n",
        "        var $myPB = $(\"div#6ddb7ba1-2b40-4479-ab11-04389377bcbc\")\n",
        "        if ($myPB.hasClass('ui-progressbar')) {\n",
        "            $myPB.progressbar('value', 924);\n",
        "        } else {\n",
        "            $myPB.progressbar({value: 0, max: 2029});\n",
        "        }\n",
        "        "
       ],
       "metadata": {},
       "output_type": "display_data",
       "text": [
        "<IPython.core.display.Javascript at 0x172753c8>"
       ]
      },
      {
       "javascript": [
        "$('div#bba2f9b1-6de6-4247-a772-d752ced97281').text('ETA:  0:00:00');"
       ],
       "metadata": {},
       "output_type": "display_data",
       "text": [
        "<IPython.core.display.Javascript at 0x172753c8>"
       ]
      },
      {
       "javascript": [
        "$('div#6a478361-07ac-4b6a-a61b-4faa259fd302').text('945 of 2029');"
       ],
       "metadata": {},
       "output_type": "display_data",
       "text": [
        "<IPython.core.display.Javascript at 0x17275208>"
       ]
      },
      {
       "javascript": [
        "$('div#c0bb773b-a2a0-45b9-8671-12ef36aa434a').text(' 46%');"
       ],
       "metadata": {},
       "output_type": "display_data",
       "text": [
        "<IPython.core.display.Javascript at 0x17275208>"
       ]
      },
      {
       "javascript": [
        "\n",
        "        var $myPB = $(\"div#6ddb7ba1-2b40-4479-ab11-04389377bcbc\")\n",
        "        if ($myPB.hasClass('ui-progressbar')) {\n",
        "            $myPB.progressbar('value', 945);\n",
        "        } else {\n",
        "            $myPB.progressbar({value: 0, max: 2029});\n",
        "        }\n",
        "        "
       ],
       "metadata": {},
       "output_type": "display_data",
       "text": [
        "<IPython.core.display.Javascript at 0x17275940>"
       ]
      },
      {
       "javascript": [
        "$('div#bba2f9b1-6de6-4247-a772-d752ced97281').text('ETA:  0:00:00');"
       ],
       "metadata": {},
       "output_type": "display_data",
       "text": [
        "<IPython.core.display.Javascript at 0x172753c8>"
       ]
      },
      {
       "javascript": [
        "$('div#6a478361-07ac-4b6a-a61b-4faa259fd302').text('966 of 2029');"
       ],
       "metadata": {},
       "output_type": "display_data",
       "text": [
        "<IPython.core.display.Javascript at 0x172753c8>"
       ]
      },
      {
       "javascript": [
        "$('div#c0bb773b-a2a0-45b9-8671-12ef36aa434a').text(' 47%');"
       ],
       "metadata": {},
       "output_type": "display_data",
       "text": [
        "<IPython.core.display.Javascript at 0x17275940>"
       ]
      },
      {
       "javascript": [
        "\n",
        "        var $myPB = $(\"div#6ddb7ba1-2b40-4479-ab11-04389377bcbc\")\n",
        "        if ($myPB.hasClass('ui-progressbar')) {\n",
        "            $myPB.progressbar('value', 966);\n",
        "        } else {\n",
        "            $myPB.progressbar({value: 0, max: 2029});\n",
        "        }\n",
        "        "
       ],
       "metadata": {},
       "output_type": "display_data",
       "text": [
        "<IPython.core.display.Javascript at 0x17275940>"
       ]
      },
      {
       "javascript": [
        "$('div#bba2f9b1-6de6-4247-a772-d752ced97281').text('ETA:  0:00:00');"
       ],
       "metadata": {},
       "output_type": "display_data",
       "text": [
        "<IPython.core.display.Javascript at 0x17275208>"
       ]
      },
      {
       "javascript": [
        "$('div#6a478361-07ac-4b6a-a61b-4faa259fd302').text('987 of 2029');"
       ],
       "metadata": {},
       "output_type": "display_data",
       "text": [
        "<IPython.core.display.Javascript at 0x172753c8>"
       ]
      },
      {
       "javascript": [
        "$('div#c0bb773b-a2a0-45b9-8671-12ef36aa434a').text(' 48%');"
       ],
       "metadata": {},
       "output_type": "display_data",
       "text": [
        "<IPython.core.display.Javascript at 0x17275208>"
       ]
      },
      {
       "javascript": [
        "\n",
        "        var $myPB = $(\"div#6ddb7ba1-2b40-4479-ab11-04389377bcbc\")\n",
        "        if ($myPB.hasClass('ui-progressbar')) {\n",
        "            $myPB.progressbar('value', 987);\n",
        "        } else {\n",
        "            $myPB.progressbar({value: 0, max: 2029});\n",
        "        }\n",
        "        "
       ],
       "metadata": {},
       "output_type": "display_data",
       "text": [
        "<IPython.core.display.Javascript at 0x17275940>"
       ]
      },
      {
       "javascript": [
        "$('div#bba2f9b1-6de6-4247-a772-d752ced97281').text('ETA:  0:00:00');"
       ],
       "metadata": {},
       "output_type": "display_data",
       "text": [
        "<IPython.core.display.Javascript at 0x17275940>"
       ]
      },
      {
       "javascript": [
        "$('div#6a478361-07ac-4b6a-a61b-4faa259fd302').text('1008 of 2029');"
       ],
       "metadata": {},
       "output_type": "display_data",
       "text": [
        "<IPython.core.display.Javascript at 0x17275208>"
       ]
      },
      {
       "javascript": [
        "$('div#c0bb773b-a2a0-45b9-8671-12ef36aa434a').text(' 49%');"
       ],
       "metadata": {},
       "output_type": "display_data",
       "text": [
        "<IPython.core.display.Javascript at 0x172753c8>"
       ]
      },
      {
       "javascript": [
        "\n",
        "        var $myPB = $(\"div#6ddb7ba1-2b40-4479-ab11-04389377bcbc\")\n",
        "        if ($myPB.hasClass('ui-progressbar')) {\n",
        "            $myPB.progressbar('value', 1008);\n",
        "        } else {\n",
        "            $myPB.progressbar({value: 0, max: 2029});\n",
        "        }\n",
        "        "
       ],
       "metadata": {},
       "output_type": "display_data",
       "text": [
        "<IPython.core.display.Javascript at 0x17275940>"
       ]
      },
      {
       "javascript": [
        "$('div#bba2f9b1-6de6-4247-a772-d752ced97281').text('ETA:  0:00:00');"
       ],
       "metadata": {},
       "output_type": "display_data",
       "text": [
        "<IPython.core.display.Javascript at 0x1b425a20>"
       ]
      },
      {
       "javascript": [
        "$('div#6a478361-07ac-4b6a-a61b-4faa259fd302').text('1029 of 2029');"
       ],
       "metadata": {},
       "output_type": "display_data",
       "text": [
        "<IPython.core.display.Javascript at 0x17275940>"
       ]
      },
      {
       "javascript": [
        "$('div#c0bb773b-a2a0-45b9-8671-12ef36aa434a').text(' 50%');"
       ],
       "metadata": {},
       "output_type": "display_data",
       "text": [
        "<IPython.core.display.Javascript at 0x172753c8>"
       ]
      },
      {
       "javascript": [
        "\n",
        "        var $myPB = $(\"div#6ddb7ba1-2b40-4479-ab11-04389377bcbc\")\n",
        "        if ($myPB.hasClass('ui-progressbar')) {\n",
        "            $myPB.progressbar('value', 1029);\n",
        "        } else {\n",
        "            $myPB.progressbar({value: 0, max: 2029});\n",
        "        }\n",
        "        "
       ],
       "metadata": {},
       "output_type": "display_data",
       "text": [
        "<IPython.core.display.Javascript at 0x172753c8>"
       ]
      },
      {
       "javascript": [
        "$('div#bba2f9b1-6de6-4247-a772-d752ced97281').text('ETA:  0:00:00');"
       ],
       "metadata": {},
       "output_type": "display_data",
       "text": [
        "<IPython.core.display.Javascript at 0x17275208>"
       ]
      },
      {
       "javascript": [
        "$('div#6a478361-07ac-4b6a-a61b-4faa259fd302').text('1050 of 2029');"
       ],
       "metadata": {},
       "output_type": "display_data",
       "text": [
        "<IPython.core.display.Javascript at 0x17275940>"
       ]
      },
      {
       "javascript": [
        "$('div#c0bb773b-a2a0-45b9-8671-12ef36aa434a').text(' 51%');"
       ],
       "metadata": {},
       "output_type": "display_data",
       "text": [
        "<IPython.core.display.Javascript at 0x17275208>"
       ]
      },
      {
       "javascript": [
        "\n",
        "        var $myPB = $(\"div#6ddb7ba1-2b40-4479-ab11-04389377bcbc\")\n",
        "        if ($myPB.hasClass('ui-progressbar')) {\n",
        "            $myPB.progressbar('value', 1050);\n",
        "        } else {\n",
        "            $myPB.progressbar({value: 0, max: 2029});\n",
        "        }\n",
        "        "
       ],
       "metadata": {},
       "output_type": "display_data",
       "text": [
        "<IPython.core.display.Javascript at 0x172753c8>"
       ]
      },
      {
       "javascript": [
        "$('div#bba2f9b1-6de6-4247-a772-d752ced97281').text('ETA:  0:00:00');"
       ],
       "metadata": {},
       "output_type": "display_data",
       "text": [
        "<IPython.core.display.Javascript at 0x172753c8>"
       ]
      },
      {
       "javascript": [
        "$('div#6a478361-07ac-4b6a-a61b-4faa259fd302').text('1071 of 2029');"
       ],
       "metadata": {},
       "output_type": "display_data",
       "text": [
        "<IPython.core.display.Javascript at 0x17275208>"
       ]
      },
      {
       "javascript": [
        "$('div#c0bb773b-a2a0-45b9-8671-12ef36aa434a').text(' 52%');"
       ],
       "metadata": {},
       "output_type": "display_data",
       "text": [
        "<IPython.core.display.Javascript at 0x17275208>"
       ]
      },
      {
       "javascript": [
        "\n",
        "        var $myPB = $(\"div#6ddb7ba1-2b40-4479-ab11-04389377bcbc\")\n",
        "        if ($myPB.hasClass('ui-progressbar')) {\n",
        "            $myPB.progressbar('value', 1071);\n",
        "        } else {\n",
        "            $myPB.progressbar({value: 0, max: 2029});\n",
        "        }\n",
        "        "
       ],
       "metadata": {},
       "output_type": "display_data",
       "text": [
        "<IPython.core.display.Javascript at 0x17275940>"
       ]
      },
      {
       "javascript": [
        "$('div#bba2f9b1-6de6-4247-a772-d752ced97281').text('ETA:  0:00:00');"
       ],
       "metadata": {},
       "output_type": "display_data",
       "text": [
        "<IPython.core.display.Javascript at 0x172753c8>"
       ]
      },
      {
       "javascript": [
        "$('div#6a478361-07ac-4b6a-a61b-4faa259fd302').text('1092 of 2029');"
       ],
       "metadata": {},
       "output_type": "display_data",
       "text": [
        "<IPython.core.display.Javascript at 0x172753c8>"
       ]
      },
      {
       "javascript": [
        "$('div#c0bb773b-a2a0-45b9-8671-12ef36aa434a').text(' 53%');"
       ],
       "metadata": {},
       "output_type": "display_data",
       "text": [
        "<IPython.core.display.Javascript at 0x17275940>"
       ]
      },
      {
       "javascript": [
        "\n",
        "        var $myPB = $(\"div#6ddb7ba1-2b40-4479-ab11-04389377bcbc\")\n",
        "        if ($myPB.hasClass('ui-progressbar')) {\n",
        "            $myPB.progressbar('value', 1092);\n",
        "        } else {\n",
        "            $myPB.progressbar({value: 0, max: 2029});\n",
        "        }\n",
        "        "
       ],
       "metadata": {},
       "output_type": "display_data",
       "text": [
        "<IPython.core.display.Javascript at 0x17275208>"
       ]
      },
      {
       "javascript": [
        "$('div#bba2f9b1-6de6-4247-a772-d752ced97281').text('ETA:  0:00:00');"
       ],
       "metadata": {},
       "output_type": "display_data",
       "text": [
        "<IPython.core.display.Javascript at 0x17275208>"
       ]
      },
      {
       "javascript": [
        "$('div#6a478361-07ac-4b6a-a61b-4faa259fd302').text('1113 of 2029');"
       ],
       "metadata": {},
       "output_type": "display_data",
       "text": [
        "<IPython.core.display.Javascript at 0x17275940>"
       ]
      },
      {
       "javascript": [
        "$('div#c0bb773b-a2a0-45b9-8671-12ef36aa434a').text(' 54%');"
       ],
       "metadata": {},
       "output_type": "display_data",
       "text": [
        "<IPython.core.display.Javascript at 0x172753c8>"
       ]
      },
      {
       "javascript": [
        "\n",
        "        var $myPB = $(\"div#6ddb7ba1-2b40-4479-ab11-04389377bcbc\")\n",
        "        if ($myPB.hasClass('ui-progressbar')) {\n",
        "            $myPB.progressbar('value', 1113);\n",
        "        } else {\n",
        "            $myPB.progressbar({value: 0, max: 2029});\n",
        "        }\n",
        "        "
       ],
       "metadata": {},
       "output_type": "display_data",
       "text": [
        "<IPython.core.display.Javascript at 0x172753c8>"
       ]
      },
      {
       "javascript": [
        "$('div#bba2f9b1-6de6-4247-a772-d752ced97281').text('ETA:  0:00:00');"
       ],
       "metadata": {},
       "output_type": "display_data",
       "text": [
        "<IPython.core.display.Javascript at 0x17275208>"
       ]
      },
      {
       "javascript": [
        "$('div#6a478361-07ac-4b6a-a61b-4faa259fd302').text('1134 of 2029');"
       ],
       "metadata": {},
       "output_type": "display_data",
       "text": [
        "<IPython.core.display.Javascript at 0x17275940>"
       ]
      },
      {
       "javascript": [
        "$('div#c0bb773b-a2a0-45b9-8671-12ef36aa434a').text(' 55%');"
       ],
       "metadata": {},
       "output_type": "display_data",
       "text": [
        "<IPython.core.display.Javascript at 0x17275208>"
       ]
      },
      {
       "javascript": [
        "\n",
        "        var $myPB = $(\"div#6ddb7ba1-2b40-4479-ab11-04389377bcbc\")\n",
        "        if ($myPB.hasClass('ui-progressbar')) {\n",
        "            $myPB.progressbar('value', 1134);\n",
        "        } else {\n",
        "            $myPB.progressbar({value: 0, max: 2029});\n",
        "        }\n",
        "        "
       ],
       "metadata": {},
       "output_type": "display_data",
       "text": [
        "<IPython.core.display.Javascript at 0x172753c8>"
       ]
      },
      {
       "javascript": [
        "$('div#bba2f9b1-6de6-4247-a772-d752ced97281').text('ETA:  0:00:00');"
       ],
       "metadata": {},
       "output_type": "display_data",
       "text": [
        "<IPython.core.display.Javascript at 0x1b425a20>"
       ]
      },
      {
       "javascript": [
        "$('div#6a478361-07ac-4b6a-a61b-4faa259fd302').text('1155 of 2029');"
       ],
       "metadata": {},
       "output_type": "display_data",
       "text": [
        "<IPython.core.display.Javascript at 0x17275940>"
       ]
      },
      {
       "javascript": [
        "$('div#c0bb773b-a2a0-45b9-8671-12ef36aa434a').text(' 56%');"
       ],
       "metadata": {},
       "output_type": "display_data",
       "text": [
        "<IPython.core.display.Javascript at 0x17275940>"
       ]
      },
      {
       "javascript": [
        "\n",
        "        var $myPB = $(\"div#6ddb7ba1-2b40-4479-ab11-04389377bcbc\")\n",
        "        if ($myPB.hasClass('ui-progressbar')) {\n",
        "            $myPB.progressbar('value', 1155);\n",
        "        } else {\n",
        "            $myPB.progressbar({value: 0, max: 2029});\n",
        "        }\n",
        "        "
       ],
       "metadata": {},
       "output_type": "display_data",
       "text": [
        "<IPython.core.display.Javascript at 0x17275208>"
       ]
      },
      {
       "javascript": [
        "$('div#bba2f9b1-6de6-4247-a772-d752ced97281').text('ETA:  0:00:00');"
       ],
       "metadata": {},
       "output_type": "display_data",
       "text": [
        "<IPython.core.display.Javascript at 0x172753c8>"
       ]
      },
      {
       "javascript": [
        "$('div#6a478361-07ac-4b6a-a61b-4faa259fd302').text('1176 of 2029');"
       ],
       "metadata": {},
       "output_type": "display_data",
       "text": [
        "<IPython.core.display.Javascript at 0x172753c8>"
       ]
      },
      {
       "javascript": [
        "$('div#c0bb773b-a2a0-45b9-8671-12ef36aa434a').text(' 57%');"
       ],
       "metadata": {},
       "output_type": "display_data",
       "text": [
        "<IPython.core.display.Javascript at 0x17275208>"
       ]
      },
      {
       "javascript": [
        "\n",
        "        var $myPB = $(\"div#6ddb7ba1-2b40-4479-ab11-04389377bcbc\")\n",
        "        if ($myPB.hasClass('ui-progressbar')) {\n",
        "            $myPB.progressbar('value', 1176);\n",
        "        } else {\n",
        "            $myPB.progressbar({value: 0, max: 2029});\n",
        "        }\n",
        "        "
       ],
       "metadata": {},
       "output_type": "display_data",
       "text": [
        "<IPython.core.display.Javascript at 0x17275940>"
       ]
      },
      {
       "javascript": [
        "$('div#bba2f9b1-6de6-4247-a772-d752ced97281').text('ETA:  0:00:00');"
       ],
       "metadata": {},
       "output_type": "display_data",
       "text": [
        "<IPython.core.display.Javascript at 0x17275940>"
       ]
      },
      {
       "javascript": [
        "$('div#6a478361-07ac-4b6a-a61b-4faa259fd302').text('1197 of 2029');"
       ],
       "metadata": {},
       "output_type": "display_data",
       "text": [
        "<IPython.core.display.Javascript at 0x17275208>"
       ]
      },
      {
       "javascript": [
        "$('div#c0bb773b-a2a0-45b9-8671-12ef36aa434a').text(' 58%');"
       ],
       "metadata": {},
       "output_type": "display_data",
       "text": [
        "<IPython.core.display.Javascript at 0x17275208>"
       ]
      },
      {
       "javascript": [
        "\n",
        "        var $myPB = $(\"div#6ddb7ba1-2b40-4479-ab11-04389377bcbc\")\n",
        "        if ($myPB.hasClass('ui-progressbar')) {\n",
        "            $myPB.progressbar('value', 1197);\n",
        "        } else {\n",
        "            $myPB.progressbar({value: 0, max: 2029});\n",
        "        }\n",
        "        "
       ],
       "metadata": {},
       "output_type": "display_data",
       "text": [
        "<IPython.core.display.Javascript at 0x172753c8>"
       ]
      },
      {
       "javascript": [
        "$('div#bba2f9b1-6de6-4247-a772-d752ced97281').text('ETA:  0:00:00');"
       ],
       "metadata": {},
       "output_type": "display_data",
       "text": [
        "<IPython.core.display.Javascript at 0x17275940>"
       ]
      },
      {
       "javascript": [
        "$('div#6a478361-07ac-4b6a-a61b-4faa259fd302').text('1218 of 2029');"
       ],
       "metadata": {},
       "output_type": "display_data",
       "text": [
        "<IPython.core.display.Javascript at 0x17275940>"
       ]
      },
      {
       "javascript": [
        "$('div#c0bb773b-a2a0-45b9-8671-12ef36aa434a').text(' 60%');"
       ],
       "metadata": {},
       "output_type": "display_data",
       "text": [
        "<IPython.core.display.Javascript at 0x172753c8>"
       ]
      },
      {
       "javascript": [
        "\n",
        "        var $myPB = $(\"div#6ddb7ba1-2b40-4479-ab11-04389377bcbc\")\n",
        "        if ($myPB.hasClass('ui-progressbar')) {\n",
        "            $myPB.progressbar('value', 1218);\n",
        "        } else {\n",
        "            $myPB.progressbar({value: 0, max: 2029});\n",
        "        }\n",
        "        "
       ],
       "metadata": {},
       "output_type": "display_data",
       "text": [
        "<IPython.core.display.Javascript at 0x17275208>"
       ]
      },
      {
       "javascript": [
        "$('div#bba2f9b1-6de6-4247-a772-d752ced97281').text('ETA:  0:00:00');"
       ],
       "metadata": {},
       "output_type": "display_data",
       "text": [
        "<IPython.core.display.Javascript at 0x17275208>"
       ]
      },
      {
       "javascript": [
        "$('div#6a478361-07ac-4b6a-a61b-4faa259fd302').text('1239 of 2029');"
       ],
       "metadata": {},
       "output_type": "display_data",
       "text": [
        "<IPython.core.display.Javascript at 0x17275940>"
       ]
      },
      {
       "javascript": [
        "$('div#c0bb773b-a2a0-45b9-8671-12ef36aa434a').text(' 61%');"
       ],
       "metadata": {},
       "output_type": "display_data",
       "text": [
        "<IPython.core.display.Javascript at 0x17275940>"
       ]
      },
      {
       "javascript": [
        "\n",
        "        var $myPB = $(\"div#6ddb7ba1-2b40-4479-ab11-04389377bcbc\")\n",
        "        if ($myPB.hasClass('ui-progressbar')) {\n",
        "            $myPB.progressbar('value', 1239);\n",
        "        } else {\n",
        "            $myPB.progressbar({value: 0, max: 2029});\n",
        "        }\n",
        "        "
       ],
       "metadata": {},
       "output_type": "display_data",
       "text": [
        "<IPython.core.display.Javascript at 0x172753c8>"
       ]
      },
      {
       "javascript": [
        "$('div#bba2f9b1-6de6-4247-a772-d752ced97281').text('ETA:  0:00:00');"
       ],
       "metadata": {},
       "output_type": "display_data",
       "text": [
        "<IPython.core.display.Javascript at 0x17275208>"
       ]
      },
      {
       "javascript": [
        "$('div#6a478361-07ac-4b6a-a61b-4faa259fd302').text('1260 of 2029');"
       ],
       "metadata": {},
       "output_type": "display_data",
       "text": [
        "<IPython.core.display.Javascript at 0x17275208>"
       ]
      },
      {
       "javascript": [
        "$('div#c0bb773b-a2a0-45b9-8671-12ef36aa434a').text(' 62%');"
       ],
       "metadata": {},
       "output_type": "display_data",
       "text": [
        "<IPython.core.display.Javascript at 0x172753c8>"
       ]
      },
      {
       "javascript": [
        "\n",
        "        var $myPB = $(\"div#6ddb7ba1-2b40-4479-ab11-04389377bcbc\")\n",
        "        if ($myPB.hasClass('ui-progressbar')) {\n",
        "            $myPB.progressbar('value', 1260);\n",
        "        } else {\n",
        "            $myPB.progressbar({value: 0, max: 2029});\n",
        "        }\n",
        "        "
       ],
       "metadata": {},
       "output_type": "display_data",
       "text": [
        "<IPython.core.display.Javascript at 0x17275940>"
       ]
      },
      {
       "javascript": [
        "$('div#bba2f9b1-6de6-4247-a772-d752ced97281').text('ETA:  0:00:00');"
       ],
       "metadata": {},
       "output_type": "display_data",
       "text": [
        "<IPython.core.display.Javascript at 0x17275940>"
       ]
      },
      {
       "javascript": [
        "$('div#6a478361-07ac-4b6a-a61b-4faa259fd302').text('1281 of 2029');"
       ],
       "metadata": {},
       "output_type": "display_data",
       "text": [
        "<IPython.core.display.Javascript at 0x172753c8>"
       ]
      },
      {
       "javascript": [
        "$('div#c0bb773b-a2a0-45b9-8671-12ef36aa434a').text(' 63%');"
       ],
       "metadata": {},
       "output_type": "display_data",
       "text": [
        "<IPython.core.display.Javascript at 0x172753c8>"
       ]
      },
      {
       "javascript": [
        "\n",
        "        var $myPB = $(\"div#6ddb7ba1-2b40-4479-ab11-04389377bcbc\")\n",
        "        if ($myPB.hasClass('ui-progressbar')) {\n",
        "            $myPB.progressbar('value', 1281);\n",
        "        } else {\n",
        "            $myPB.progressbar({value: 0, max: 2029});\n",
        "        }\n",
        "        "
       ],
       "metadata": {},
       "output_type": "display_data",
       "text": [
        "<IPython.core.display.Javascript at 0x17275208>"
       ]
      },
      {
       "javascript": [
        "$('div#bba2f9b1-6de6-4247-a772-d752ced97281').text('ETA:  0:00:00');"
       ],
       "metadata": {},
       "output_type": "display_data",
       "text": [
        "<IPython.core.display.Javascript at 0x17275940>"
       ]
      },
      {
       "javascript": [
        "$('div#6a478361-07ac-4b6a-a61b-4faa259fd302').text('1302 of 2029');"
       ],
       "metadata": {},
       "output_type": "display_data",
       "text": [
        "<IPython.core.display.Javascript at 0x17275940>"
       ]
      },
      {
       "javascript": [
        "$('div#c0bb773b-a2a0-45b9-8671-12ef36aa434a').text(' 64%');"
       ],
       "metadata": {},
       "output_type": "display_data",
       "text": [
        "<IPython.core.display.Javascript at 0x17275208>"
       ]
      },
      {
       "javascript": [
        "\n",
        "        var $myPB = $(\"div#6ddb7ba1-2b40-4479-ab11-04389377bcbc\")\n",
        "        if ($myPB.hasClass('ui-progressbar')) {\n",
        "            $myPB.progressbar('value', 1302);\n",
        "        } else {\n",
        "            $myPB.progressbar({value: 0, max: 2029});\n",
        "        }\n",
        "        "
       ],
       "metadata": {},
       "output_type": "display_data",
       "text": [
        "<IPython.core.display.Javascript at 0x172753c8>"
       ]
      },
      {
       "javascript": [
        "$('div#bba2f9b1-6de6-4247-a772-d752ced97281').text('ETA:  0:00:00');"
       ],
       "metadata": {},
       "output_type": "display_data",
       "text": [
        "<IPython.core.display.Javascript at 0x172753c8>"
       ]
      },
      {
       "javascript": [
        "$('div#6a478361-07ac-4b6a-a61b-4faa259fd302').text('1323 of 2029');"
       ],
       "metadata": {},
       "output_type": "display_data",
       "text": [
        "<IPython.core.display.Javascript at 0x17275208>"
       ]
      },
      {
       "javascript": [
        "$('div#c0bb773b-a2a0-45b9-8671-12ef36aa434a').text(' 65%');"
       ],
       "metadata": {},
       "output_type": "display_data",
       "text": [
        "<IPython.core.display.Javascript at 0x172753c8>"
       ]
      },
      {
       "javascript": [
        "\n",
        "        var $myPB = $(\"div#6ddb7ba1-2b40-4479-ab11-04389377bcbc\")\n",
        "        if ($myPB.hasClass('ui-progressbar')) {\n",
        "            $myPB.progressbar('value', 1323);\n",
        "        } else {\n",
        "            $myPB.progressbar({value: 0, max: 2029});\n",
        "        }\n",
        "        "
       ],
       "metadata": {},
       "output_type": "display_data",
       "text": [
        "<IPython.core.display.Javascript at 0x17275940>"
       ]
      },
      {
       "javascript": [
        "$('div#bba2f9b1-6de6-4247-a772-d752ced97281').text('ETA:  0:00:00');"
       ],
       "metadata": {},
       "output_type": "display_data",
       "text": [
        "<IPython.core.display.Javascript at 0x1b425f28>"
       ]
      },
      {
       "javascript": [
        "$('div#6a478361-07ac-4b6a-a61b-4faa259fd302').text('1344 of 2029');"
       ],
       "metadata": {},
       "output_type": "display_data",
       "text": [
        "<IPython.core.display.Javascript at 0x17275940>"
       ]
      },
      {
       "javascript": [
        "$('div#c0bb773b-a2a0-45b9-8671-12ef36aa434a').text(' 66%');"
       ],
       "metadata": {},
       "output_type": "display_data",
       "text": [
        "<IPython.core.display.Javascript at 0x17275940>"
       ]
      },
      {
       "javascript": [
        "\n",
        "        var $myPB = $(\"div#6ddb7ba1-2b40-4479-ab11-04389377bcbc\")\n",
        "        if ($myPB.hasClass('ui-progressbar')) {\n",
        "            $myPB.progressbar('value', 1344);\n",
        "        } else {\n",
        "            $myPB.progressbar({value: 0, max: 2029});\n",
        "        }\n",
        "        "
       ],
       "metadata": {},
       "output_type": "display_data",
       "text": [
        "<IPython.core.display.Javascript at 0x172753c8>"
       ]
      },
      {
       "javascript": [
        "$('div#bba2f9b1-6de6-4247-a772-d752ced97281').text('ETA:  0:00:00');"
       ],
       "metadata": {},
       "output_type": "display_data",
       "text": [
        "<IPython.core.display.Javascript at 0x17275208>"
       ]
      },
      {
       "javascript": [
        "$('div#6a478361-07ac-4b6a-a61b-4faa259fd302').text('1365 of 2029');"
       ],
       "metadata": {},
       "output_type": "display_data",
       "text": [
        "<IPython.core.display.Javascript at 0x17275208>"
       ]
      },
      {
       "javascript": [
        "$('div#c0bb773b-a2a0-45b9-8671-12ef36aa434a').text(' 67%');"
       ],
       "metadata": {},
       "output_type": "display_data",
       "text": [
        "<IPython.core.display.Javascript at 0x172753c8>"
       ]
      },
      {
       "javascript": [
        "\n",
        "        var $myPB = $(\"div#6ddb7ba1-2b40-4479-ab11-04389377bcbc\")\n",
        "        if ($myPB.hasClass('ui-progressbar')) {\n",
        "            $myPB.progressbar('value', 1365);\n",
        "        } else {\n",
        "            $myPB.progressbar({value: 0, max: 2029});\n",
        "        }\n",
        "        "
       ],
       "metadata": {},
       "output_type": "display_data",
       "text": [
        "<IPython.core.display.Javascript at 0x17275940>"
       ]
      },
      {
       "javascript": [
        "$('div#bba2f9b1-6de6-4247-a772-d752ced97281').text('ETA:  0:00:00');"
       ],
       "metadata": {},
       "output_type": "display_data",
       "text": [
        "<IPython.core.display.Javascript at 0x17275940>"
       ]
      },
      {
       "javascript": [
        "$('div#6a478361-07ac-4b6a-a61b-4faa259fd302').text('1386 of 2029');"
       ],
       "metadata": {},
       "output_type": "display_data",
       "text": [
        "<IPython.core.display.Javascript at 0x17275208>"
       ]
      },
      {
       "javascript": [
        "$('div#c0bb773b-a2a0-45b9-8671-12ef36aa434a').text(' 68%');"
       ],
       "metadata": {},
       "output_type": "display_data",
       "text": [
        "<IPython.core.display.Javascript at 0x17275208>"
       ]
      },
      {
       "javascript": [
        "\n",
        "        var $myPB = $(\"div#6ddb7ba1-2b40-4479-ab11-04389377bcbc\")\n",
        "        if ($myPB.hasClass('ui-progressbar')) {\n",
        "            $myPB.progressbar('value', 1386);\n",
        "        } else {\n",
        "            $myPB.progressbar({value: 0, max: 2029});\n",
        "        }\n",
        "        "
       ],
       "metadata": {},
       "output_type": "display_data",
       "text": [
        "<IPython.core.display.Javascript at 0x172753c8>"
       ]
      },
      {
       "javascript": [
        "$('div#bba2f9b1-6de6-4247-a772-d752ced97281').text('ETA:  0:00:00');"
       ],
       "metadata": {},
       "output_type": "display_data",
       "text": [
        "<IPython.core.display.Javascript at 0x17275940>"
       ]
      },
      {
       "javascript": [
        "$('div#6a478361-07ac-4b6a-a61b-4faa259fd302').text('1407 of 2029');"
       ],
       "metadata": {},
       "output_type": "display_data",
       "text": [
        "<IPython.core.display.Javascript at 0x17275940>"
       ]
      },
      {
       "javascript": [
        "$('div#c0bb773b-a2a0-45b9-8671-12ef36aa434a').text(' 69%');"
       ],
       "metadata": {},
       "output_type": "display_data",
       "text": [
        "<IPython.core.display.Javascript at 0x172753c8>"
       ]
      },
      {
       "javascript": [
        "\n",
        "        var $myPB = $(\"div#6ddb7ba1-2b40-4479-ab11-04389377bcbc\")\n",
        "        if ($myPB.hasClass('ui-progressbar')) {\n",
        "            $myPB.progressbar('value', 1407);\n",
        "        } else {\n",
        "            $myPB.progressbar({value: 0, max: 2029});\n",
        "        }\n",
        "        "
       ],
       "metadata": {},
       "output_type": "display_data",
       "text": [
        "<IPython.core.display.Javascript at 0x172753c8>"
       ]
      },
      {
       "javascript": [
        "$('div#bba2f9b1-6de6-4247-a772-d752ced97281').text('ETA:  0:00:00');"
       ],
       "metadata": {},
       "output_type": "display_data",
       "text": [
        "<IPython.core.display.Javascript at 0x17275208>"
       ]
      },
      {
       "javascript": [
        "$('div#6a478361-07ac-4b6a-a61b-4faa259fd302').text('1428 of 2029');"
       ],
       "metadata": {},
       "output_type": "display_data",
       "text": [
        "<IPython.core.display.Javascript at 0x17275940>"
       ]
      },
      {
       "javascript": [
        "$('div#c0bb773b-a2a0-45b9-8671-12ef36aa434a').text(' 70%');"
       ],
       "metadata": {},
       "output_type": "display_data",
       "text": [
        "<IPython.core.display.Javascript at 0x17275208>"
       ]
      },
      {
       "javascript": [
        "\n",
        "        var $myPB = $(\"div#6ddb7ba1-2b40-4479-ab11-04389377bcbc\")\n",
        "        if ($myPB.hasClass('ui-progressbar')) {\n",
        "            $myPB.progressbar('value', 1428);\n",
        "        } else {\n",
        "            $myPB.progressbar({value: 0, max: 2029});\n",
        "        }\n",
        "        "
       ],
       "metadata": {},
       "output_type": "display_data",
       "text": [
        "<IPython.core.display.Javascript at 0x172753c8>"
       ]
      },
      {
       "javascript": [
        "$('div#bba2f9b1-6de6-4247-a772-d752ced97281').text('ETA:  0:00:00');"
       ],
       "metadata": {},
       "output_type": "display_data",
       "text": [
        "<IPython.core.display.Javascript at 0x1b4255c0>"
       ]
      },
      {
       "javascript": [
        "$('div#6a478361-07ac-4b6a-a61b-4faa259fd302').text('1449 of 2029');"
       ],
       "metadata": {},
       "output_type": "display_data",
       "text": [
        "<IPython.core.display.Javascript at 0x17275208>"
       ]
      },
      {
       "javascript": [
        "$('div#c0bb773b-a2a0-45b9-8671-12ef36aa434a').text(' 71%');"
       ],
       "metadata": {},
       "output_type": "display_data",
       "text": [
        "<IPython.core.display.Javascript at 0x17275208>"
       ]
      },
      {
       "javascript": [
        "\n",
        "        var $myPB = $(\"div#6ddb7ba1-2b40-4479-ab11-04389377bcbc\")\n",
        "        if ($myPB.hasClass('ui-progressbar')) {\n",
        "            $myPB.progressbar('value', 1449);\n",
        "        } else {\n",
        "            $myPB.progressbar({value: 0, max: 2029});\n",
        "        }\n",
        "        "
       ],
       "metadata": {},
       "output_type": "display_data",
       "text": [
        "<IPython.core.display.Javascript at 0x172753c8>"
       ]
      },
      {
       "javascript": [
        "$('div#bba2f9b1-6de6-4247-a772-d752ced97281').text('ETA:  0:00:00');"
       ],
       "metadata": {},
       "output_type": "display_data",
       "text": [
        "<IPython.core.display.Javascript at 0x17275940>"
       ]
      },
      {
       "javascript": [
        "$('div#6a478361-07ac-4b6a-a61b-4faa259fd302').text('1470 of 2029');"
       ],
       "metadata": {},
       "output_type": "display_data",
       "text": [
        "<IPython.core.display.Javascript at 0x17275940>"
       ]
      },
      {
       "javascript": [
        "$('div#c0bb773b-a2a0-45b9-8671-12ef36aa434a').text(' 72%');"
       ],
       "metadata": {},
       "output_type": "display_data",
       "text": [
        "<IPython.core.display.Javascript at 0x172753c8>"
       ]
      },
      {
       "javascript": [
        "\n",
        "        var $myPB = $(\"div#6ddb7ba1-2b40-4479-ab11-04389377bcbc\")\n",
        "        if ($myPB.hasClass('ui-progressbar')) {\n",
        "            $myPB.progressbar('value', 1470);\n",
        "        } else {\n",
        "            $myPB.progressbar({value: 0, max: 2029});\n",
        "        }\n",
        "        "
       ],
       "metadata": {},
       "output_type": "display_data",
       "text": [
        "<IPython.core.display.Javascript at 0x172753c8>"
       ]
      },
      {
       "javascript": [
        "$('div#bba2f9b1-6de6-4247-a772-d752ced97281').text('ETA:  0:00:00');"
       ],
       "metadata": {},
       "output_type": "display_data",
       "text": [
        "<IPython.core.display.Javascript at 0x17275208>"
       ]
      },
      {
       "javascript": [
        "$('div#6a478361-07ac-4b6a-a61b-4faa259fd302').text('1491 of 2029');"
       ],
       "metadata": {},
       "output_type": "display_data",
       "text": [
        "<IPython.core.display.Javascript at 0x17275940>"
       ]
      },
      {
       "javascript": [
        "$('div#c0bb773b-a2a0-45b9-8671-12ef36aa434a').text(' 73%');"
       ],
       "metadata": {},
       "output_type": "display_data",
       "text": [
        "<IPython.core.display.Javascript at 0x17275208>"
       ]
      },
      {
       "javascript": [
        "\n",
        "        var $myPB = $(\"div#6ddb7ba1-2b40-4479-ab11-04389377bcbc\")\n",
        "        if ($myPB.hasClass('ui-progressbar')) {\n",
        "            $myPB.progressbar('value', 1491);\n",
        "        } else {\n",
        "            $myPB.progressbar({value: 0, max: 2029});\n",
        "        }\n",
        "        "
       ],
       "metadata": {},
       "output_type": "display_data",
       "text": [
        "<IPython.core.display.Javascript at 0x172753c8>"
       ]
      },
      {
       "javascript": [
        "$('div#bba2f9b1-6de6-4247-a772-d752ced97281').text('ETA:  0:00:00');"
       ],
       "metadata": {},
       "output_type": "display_data",
       "text": [
        "<IPython.core.display.Javascript at 0x172753c8>"
       ]
      },
      {
       "javascript": [
        "$('div#6a478361-07ac-4b6a-a61b-4faa259fd302').text('1512 of 2029');"
       ],
       "metadata": {},
       "output_type": "display_data",
       "text": [
        "<IPython.core.display.Javascript at 0x17275208>"
       ]
      },
      {
       "javascript": [
        "$('div#c0bb773b-a2a0-45b9-8671-12ef36aa434a').text(' 74%');"
       ],
       "metadata": {},
       "output_type": "display_data",
       "text": [
        "<IPython.core.display.Javascript at 0x17275208>"
       ]
      },
      {
       "javascript": [
        "\n",
        "        var $myPB = $(\"div#6ddb7ba1-2b40-4479-ab11-04389377bcbc\")\n",
        "        if ($myPB.hasClass('ui-progressbar')) {\n",
        "            $myPB.progressbar('value', 1512);\n",
        "        } else {\n",
        "            $myPB.progressbar({value: 0, max: 2029});\n",
        "        }\n",
        "        "
       ],
       "metadata": {},
       "output_type": "display_data",
       "text": [
        "<IPython.core.display.Javascript at 0x17275940>"
       ]
      },
      {
       "javascript": [
        "$('div#bba2f9b1-6de6-4247-a772-d752ced97281').text('ETA:  0:00:00');"
       ],
       "metadata": {},
       "output_type": "display_data",
       "text": [
        "<IPython.core.display.Javascript at 0x172753c8>"
       ]
      },
      {
       "javascript": [
        "$('div#6a478361-07ac-4b6a-a61b-4faa259fd302').text('1533 of 2029');"
       ],
       "metadata": {},
       "output_type": "display_data",
       "text": [
        "<IPython.core.display.Javascript at 0x172753c8>"
       ]
      },
      {
       "javascript": [
        "$('div#c0bb773b-a2a0-45b9-8671-12ef36aa434a').text(' 75%');"
       ],
       "metadata": {},
       "output_type": "display_data",
       "text": [
        "<IPython.core.display.Javascript at 0x17275940>"
       ]
      },
      {
       "javascript": [
        "\n",
        "        var $myPB = $(\"div#6ddb7ba1-2b40-4479-ab11-04389377bcbc\")\n",
        "        if ($myPB.hasClass('ui-progressbar')) {\n",
        "            $myPB.progressbar('value', 1533);\n",
        "        } else {\n",
        "            $myPB.progressbar({value: 0, max: 2029});\n",
        "        }\n",
        "        "
       ],
       "metadata": {},
       "output_type": "display_data",
       "text": [
        "<IPython.core.display.Javascript at 0x17275940>"
       ]
      },
      {
       "javascript": [
        "$('div#bba2f9b1-6de6-4247-a772-d752ced97281').text('ETA:  0:00:00');"
       ],
       "metadata": {},
       "output_type": "display_data",
       "text": [
        "<IPython.core.display.Javascript at 0x17275208>"
       ]
      },
      {
       "javascript": [
        "$('div#6a478361-07ac-4b6a-a61b-4faa259fd302').text('1554 of 2029');"
       ],
       "metadata": {},
       "output_type": "display_data",
       "text": [
        "<IPython.core.display.Javascript at 0x172753c8>"
       ]
      },
      {
       "javascript": [
        "$('div#c0bb773b-a2a0-45b9-8671-12ef36aa434a').text(' 76%');"
       ],
       "metadata": {},
       "output_type": "display_data",
       "text": [
        "<IPython.core.display.Javascript at 0x17275208>"
       ]
      },
      {
       "javascript": [
        "\n",
        "        var $myPB = $(\"div#6ddb7ba1-2b40-4479-ab11-04389377bcbc\")\n",
        "        if ($myPB.hasClass('ui-progressbar')) {\n",
        "            $myPB.progressbar('value', 1554);\n",
        "        } else {\n",
        "            $myPB.progressbar({value: 0, max: 2029});\n",
        "        }\n",
        "        "
       ],
       "metadata": {},
       "output_type": "display_data",
       "text": [
        "<IPython.core.display.Javascript at 0x17275940>"
       ]
      },
      {
       "javascript": [
        "$('div#bba2f9b1-6de6-4247-a772-d752ced97281').text('ETA:  0:00:00');"
       ],
       "metadata": {},
       "output_type": "display_data",
       "text": [
        "<IPython.core.display.Javascript at 0x17275940>"
       ]
      },
      {
       "javascript": [
        "$('div#6a478361-07ac-4b6a-a61b-4faa259fd302').text('1575 of 2029');"
       ],
       "metadata": {},
       "output_type": "display_data",
       "text": [
        "<IPython.core.display.Javascript at 0x17275208>"
       ]
      },
      {
       "javascript": [
        "$('div#c0bb773b-a2a0-45b9-8671-12ef36aa434a').text(' 77%');"
       ],
       "metadata": {},
       "output_type": "display_data",
       "text": [
        "<IPython.core.display.Javascript at 0x17275208>"
       ]
      },
      {
       "javascript": [
        "\n",
        "        var $myPB = $(\"div#6ddb7ba1-2b40-4479-ab11-04389377bcbc\")\n",
        "        if ($myPB.hasClass('ui-progressbar')) {\n",
        "            $myPB.progressbar('value', 1575);\n",
        "        } else {\n",
        "            $myPB.progressbar({value: 0, max: 2029});\n",
        "        }\n",
        "        "
       ],
       "metadata": {},
       "output_type": "display_data",
       "text": [
        "<IPython.core.display.Javascript at 0x172753c8>"
       ]
      },
      {
       "javascript": [
        "$('div#bba2f9b1-6de6-4247-a772-d752ced97281').text('ETA:  0:00:00');"
       ],
       "metadata": {},
       "output_type": "display_data",
       "text": [
        "<IPython.core.display.Javascript at 0x17275940>"
       ]
      },
      {
       "javascript": [
        "$('div#6a478361-07ac-4b6a-a61b-4faa259fd302').text('1596 of 2029');"
       ],
       "metadata": {},
       "output_type": "display_data",
       "text": [
        "<IPython.core.display.Javascript at 0x17275940>"
       ]
      },
      {
       "javascript": [
        "$('div#c0bb773b-a2a0-45b9-8671-12ef36aa434a').text(' 78%');"
       ],
       "metadata": {},
       "output_type": "display_data",
       "text": [
        "<IPython.core.display.Javascript at 0x172753c8>"
       ]
      },
      {
       "javascript": [
        "\n",
        "        var $myPB = $(\"div#6ddb7ba1-2b40-4479-ab11-04389377bcbc\")\n",
        "        if ($myPB.hasClass('ui-progressbar')) {\n",
        "            $myPB.progressbar('value', 1596);\n",
        "        } else {\n",
        "            $myPB.progressbar({value: 0, max: 2029});\n",
        "        }\n",
        "        "
       ],
       "metadata": {},
       "output_type": "display_data",
       "text": [
        "<IPython.core.display.Javascript at 0x17275208>"
       ]
      },
      {
       "javascript": [
        "$('div#bba2f9b1-6de6-4247-a772-d752ced97281').text('ETA:  0:00:00');"
       ],
       "metadata": {},
       "output_type": "display_data",
       "text": [
        "<IPython.core.display.Javascript at 0x17275208>"
       ]
      },
      {
       "javascript": [
        "$('div#6a478361-07ac-4b6a-a61b-4faa259fd302').text('1617 of 2029');"
       ],
       "metadata": {},
       "output_type": "display_data",
       "text": [
        "<IPython.core.display.Javascript at 0x172753c8>"
       ]
      },
      {
       "javascript": [
        "$('div#c0bb773b-a2a0-45b9-8671-12ef36aa434a').text(' 79%');"
       ],
       "metadata": {},
       "output_type": "display_data",
       "text": [
        "<IPython.core.display.Javascript at 0x172753c8>"
       ]
      },
      {
       "javascript": [
        "\n",
        "        var $myPB = $(\"div#6ddb7ba1-2b40-4479-ab11-04389377bcbc\")\n",
        "        if ($myPB.hasClass('ui-progressbar')) {\n",
        "            $myPB.progressbar('value', 1617);\n",
        "        } else {\n",
        "            $myPB.progressbar({value: 0, max: 2029});\n",
        "        }\n",
        "        "
       ],
       "metadata": {},
       "output_type": "display_data",
       "text": [
        "<IPython.core.display.Javascript at 0x17275940>"
       ]
      },
      {
       "javascript": [
        "$('div#bba2f9b1-6de6-4247-a772-d752ced97281').text('ETA:  0:00:00');"
       ],
       "metadata": {},
       "output_type": "display_data",
       "text": [
        "<IPython.core.display.Javascript at 0x17275208>"
       ]
      },
      {
       "javascript": [
        "$('div#6a478361-07ac-4b6a-a61b-4faa259fd302').text('1638 of 2029');"
       ],
       "metadata": {},
       "output_type": "display_data",
       "text": [
        "<IPython.core.display.Javascript at 0x17275208>"
       ]
      },
      {
       "javascript": [
        "$('div#c0bb773b-a2a0-45b9-8671-12ef36aa434a').text(' 80%');"
       ],
       "metadata": {},
       "output_type": "display_data",
       "text": [
        "<IPython.core.display.Javascript at 0x17275940>"
       ]
      },
      {
       "javascript": [
        "\n",
        "        var $myPB = $(\"div#6ddb7ba1-2b40-4479-ab11-04389377bcbc\")\n",
        "        if ($myPB.hasClass('ui-progressbar')) {\n",
        "            $myPB.progressbar('value', 1638);\n",
        "        } else {\n",
        "            $myPB.progressbar({value: 0, max: 2029});\n",
        "        }\n",
        "        "
       ],
       "metadata": {},
       "output_type": "display_data",
       "text": [
        "<IPython.core.display.Javascript at 0x172753c8>"
       ]
      },
      {
       "javascript": [
        "$('div#bba2f9b1-6de6-4247-a772-d752ced97281').text('ETA:  0:00:00');"
       ],
       "metadata": {},
       "output_type": "display_data",
       "text": [
        "<IPython.core.display.Javascript at 0x172753c8>"
       ]
      },
      {
       "javascript": [
        "$('div#6a478361-07ac-4b6a-a61b-4faa259fd302').text('1659 of 2029');"
       ],
       "metadata": {},
       "output_type": "display_data",
       "text": [
        "<IPython.core.display.Javascript at 0x17275940>"
       ]
      },
      {
       "javascript": [
        "$('div#c0bb773b-a2a0-45b9-8671-12ef36aa434a').text(' 81%');"
       ],
       "metadata": {},
       "output_type": "display_data",
       "text": [
        "<IPython.core.display.Javascript at 0x172753c8>"
       ]
      },
      {
       "javascript": [
        "\n",
        "        var $myPB = $(\"div#6ddb7ba1-2b40-4479-ab11-04389377bcbc\")\n",
        "        if ($myPB.hasClass('ui-progressbar')) {\n",
        "            $myPB.progressbar('value', 1659);\n",
        "        } else {\n",
        "            $myPB.progressbar({value: 0, max: 2029});\n",
        "        }\n",
        "        "
       ],
       "metadata": {},
       "output_type": "display_data",
       "text": [
        "<IPython.core.display.Javascript at 0x17275208>"
       ]
      },
      {
       "javascript": [
        "$('div#bba2f9b1-6de6-4247-a772-d752ced97281').text('ETA:  0:00:00');"
       ],
       "metadata": {},
       "output_type": "display_data",
       "text": [
        "<IPython.core.display.Javascript at 0x1b425a20>"
       ]
      },
      {
       "javascript": [
        "$('div#6a478361-07ac-4b6a-a61b-4faa259fd302').text('1680 of 2029');"
       ],
       "metadata": {},
       "output_type": "display_data",
       "text": [
        "<IPython.core.display.Javascript at 0x172753c8>"
       ]
      },
      {
       "javascript": [
        "$('div#c0bb773b-a2a0-45b9-8671-12ef36aa434a').text(' 82%');"
       ],
       "metadata": {},
       "output_type": "display_data",
       "text": [
        "<IPython.core.display.Javascript at 0x17275208>"
       ]
      },
      {
       "javascript": [
        "\n",
        "        var $myPB = $(\"div#6ddb7ba1-2b40-4479-ab11-04389377bcbc\")\n",
        "        if ($myPB.hasClass('ui-progressbar')) {\n",
        "            $myPB.progressbar('value', 1680);\n",
        "        } else {\n",
        "            $myPB.progressbar({value: 0, max: 2029});\n",
        "        }\n",
        "        "
       ],
       "metadata": {},
       "output_type": "display_data",
       "text": [
        "<IPython.core.display.Javascript at 0x17275940>"
       ]
      },
      {
       "javascript": [
        "$('div#bba2f9b1-6de6-4247-a772-d752ced97281').text('ETA:  0:00:00');"
       ],
       "metadata": {},
       "output_type": "display_data",
       "text": [
        "<IPython.core.display.Javascript at 0x1b425a20>"
       ]
      },
      {
       "javascript": [
        "$('div#6a478361-07ac-4b6a-a61b-4faa259fd302').text('1701 of 2029');"
       ],
       "metadata": {},
       "output_type": "display_data",
       "text": [
        "<IPython.core.display.Javascript at 0x17275940>"
       ]
      },
      {
       "javascript": [
        "$('div#c0bb773b-a2a0-45b9-8671-12ef36aa434a').text(' 83%');"
       ],
       "metadata": {},
       "output_type": "display_data",
       "text": [
        "<IPython.core.display.Javascript at 0x17275208>"
       ]
      },
      {
       "javascript": [
        "\n",
        "        var $myPB = $(\"div#6ddb7ba1-2b40-4479-ab11-04389377bcbc\")\n",
        "        if ($myPB.hasClass('ui-progressbar')) {\n",
        "            $myPB.progressbar('value', 1701);\n",
        "        } else {\n",
        "            $myPB.progressbar({value: 0, max: 2029});\n",
        "        }\n",
        "        "
       ],
       "metadata": {},
       "output_type": "display_data",
       "text": [
        "<IPython.core.display.Javascript at 0x17275208>"
       ]
      },
      {
       "javascript": [
        "$('div#bba2f9b1-6de6-4247-a772-d752ced97281').text('ETA:  0:00:00');"
       ],
       "metadata": {},
       "output_type": "display_data",
       "text": [
        "<IPython.core.display.Javascript at 0x17275940>"
       ]
      },
      {
       "javascript": [
        "$('div#6a478361-07ac-4b6a-a61b-4faa259fd302').text('1722 of 2029');"
       ],
       "metadata": {},
       "output_type": "display_data",
       "text": [
        "<IPython.core.display.Javascript at 0x17275940>"
       ]
      },
      {
       "javascript": [
        "$('div#c0bb773b-a2a0-45b9-8671-12ef36aa434a').text(' 84%');"
       ],
       "metadata": {},
       "output_type": "display_data",
       "text": [
        "<IPython.core.display.Javascript at 0x17275208>"
       ]
      },
      {
       "javascript": [
        "\n",
        "        var $myPB = $(\"div#6ddb7ba1-2b40-4479-ab11-04389377bcbc\")\n",
        "        if ($myPB.hasClass('ui-progressbar')) {\n",
        "            $myPB.progressbar('value', 1722);\n",
        "        } else {\n",
        "            $myPB.progressbar({value: 0, max: 2029});\n",
        "        }\n",
        "        "
       ],
       "metadata": {},
       "output_type": "display_data",
       "text": [
        "<IPython.core.display.Javascript at 0x1b425f28>"
       ]
      },
      {
       "javascript": [
        "$('div#bba2f9b1-6de6-4247-a772-d752ced97281').text('ETA:  0:00:00');"
       ],
       "metadata": {},
       "output_type": "display_data",
       "text": [
        "<IPython.core.display.Javascript at 0x1b425a20>"
       ]
      },
      {
       "javascript": [
        "$('div#6a478361-07ac-4b6a-a61b-4faa259fd302').text('1743 of 2029');"
       ],
       "metadata": {},
       "output_type": "display_data",
       "text": [
        "<IPython.core.display.Javascript at 0x17275940>"
       ]
      },
      {
       "javascript": [
        "$('div#c0bb773b-a2a0-45b9-8671-12ef36aa434a').text(' 85%');"
       ],
       "metadata": {},
       "output_type": "display_data",
       "text": [
        "<IPython.core.display.Javascript at 0x17275208>"
       ]
      },
      {
       "javascript": [
        "\n",
        "        var $myPB = $(\"div#6ddb7ba1-2b40-4479-ab11-04389377bcbc\")\n",
        "        if ($myPB.hasClass('ui-progressbar')) {\n",
        "            $myPB.progressbar('value', 1743);\n",
        "        } else {\n",
        "            $myPB.progressbar({value: 0, max: 2029});\n",
        "        }\n",
        "        "
       ],
       "metadata": {},
       "output_type": "display_data",
       "text": [
        "<IPython.core.display.Javascript at 0x17275208>"
       ]
      },
      {
       "javascript": [
        "$('div#bba2f9b1-6de6-4247-a772-d752ced97281').text('ETA:  0:00:00');"
       ],
       "metadata": {},
       "output_type": "display_data",
       "text": [
        "<IPython.core.display.Javascript at 0x17275940>"
       ]
      },
      {
       "javascript": [
        "$('div#6a478361-07ac-4b6a-a61b-4faa259fd302').text('1764 of 2029');"
       ],
       "metadata": {},
       "output_type": "display_data",
       "text": [
        "<IPython.core.display.Javascript at 0x172753c8>"
       ]
      },
      {
       "javascript": [
        "$('div#c0bb773b-a2a0-45b9-8671-12ef36aa434a').text(' 86%');"
       ],
       "metadata": {},
       "output_type": "display_data",
       "text": [
        "<IPython.core.display.Javascript at 0x17275940>"
       ]
      },
      {
       "javascript": [
        "\n",
        "        var $myPB = $(\"div#6ddb7ba1-2b40-4479-ab11-04389377bcbc\")\n",
        "        if ($myPB.hasClass('ui-progressbar')) {\n",
        "            $myPB.progressbar('value', 1764);\n",
        "        } else {\n",
        "            $myPB.progressbar({value: 0, max: 2029});\n",
        "        }\n",
        "        "
       ],
       "metadata": {},
       "output_type": "display_data",
       "text": [
        "<IPython.core.display.Javascript at 0x17275208>"
       ]
      },
      {
       "javascript": [
        "$('div#bba2f9b1-6de6-4247-a772-d752ced97281').text('ETA:  0:00:00');"
       ],
       "metadata": {},
       "output_type": "display_data",
       "text": [
        "<IPython.core.display.Javascript at 0x1b4255c0>"
       ]
      },
      {
       "javascript": [
        "$('div#6a478361-07ac-4b6a-a61b-4faa259fd302').text('1785 of 2029');"
       ],
       "metadata": {},
       "output_type": "display_data",
       "text": [
        "<IPython.core.display.Javascript at 0x17275940>"
       ]
      },
      {
       "javascript": [
        "$('div#c0bb773b-a2a0-45b9-8671-12ef36aa434a').text(' 87%');"
       ],
       "metadata": {},
       "output_type": "display_data",
       "text": [
        "<IPython.core.display.Javascript at 0x17275208>"
       ]
      },
      {
       "javascript": [
        "\n",
        "        var $myPB = $(\"div#6ddb7ba1-2b40-4479-ab11-04389377bcbc\")\n",
        "        if ($myPB.hasClass('ui-progressbar')) {\n",
        "            $myPB.progressbar('value', 1785);\n",
        "        } else {\n",
        "            $myPB.progressbar({value: 0, max: 2029});\n",
        "        }\n",
        "        "
       ],
       "metadata": {},
       "output_type": "display_data",
       "text": [
        "<IPython.core.display.Javascript at 0x172753c8>"
       ]
      },
      {
       "javascript": [
        "$('div#bba2f9b1-6de6-4247-a772-d752ced97281').text('ETA:  0:00:00');"
       ],
       "metadata": {},
       "output_type": "display_data",
       "text": [
        "<IPython.core.display.Javascript at 0x17275940>"
       ]
      },
      {
       "javascript": [
        "$('div#6a478361-07ac-4b6a-a61b-4faa259fd302').text('1806 of 2029');"
       ],
       "metadata": {},
       "output_type": "display_data",
       "text": [
        "<IPython.core.display.Javascript at 0x17275940>"
       ]
      },
      {
       "javascript": [
        "$('div#c0bb773b-a2a0-45b9-8671-12ef36aa434a').text(' 89%');"
       ],
       "metadata": {},
       "output_type": "display_data",
       "text": [
        "<IPython.core.display.Javascript at 0x172753c8>"
       ]
      },
      {
       "javascript": [
        "\n",
        "        var $myPB = $(\"div#6ddb7ba1-2b40-4479-ab11-04389377bcbc\")\n",
        "        if ($myPB.hasClass('ui-progressbar')) {\n",
        "            $myPB.progressbar('value', 1806);\n",
        "        } else {\n",
        "            $myPB.progressbar({value: 0, max: 2029});\n",
        "        }\n",
        "        "
       ],
       "metadata": {},
       "output_type": "display_data",
       "text": [
        "<IPython.core.display.Javascript at 0x1b425a20>"
       ]
      },
      {
       "javascript": [
        "$('div#bba2f9b1-6de6-4247-a772-d752ced97281').text('ETA:  0:00:00');"
       ],
       "metadata": {},
       "output_type": "display_data",
       "text": [
        "<IPython.core.display.Javascript at 0x1b425cc0>"
       ]
      },
      {
       "javascript": [
        "$('div#6a478361-07ac-4b6a-a61b-4faa259fd302').text('1827 of 2029');"
       ],
       "metadata": {},
       "output_type": "display_data",
       "text": [
        "<IPython.core.display.Javascript at 0x17275940>"
       ]
      },
      {
       "javascript": [
        "$('div#c0bb773b-a2a0-45b9-8671-12ef36aa434a').text(' 90%');"
       ],
       "metadata": {},
       "output_type": "display_data",
       "text": [
        "<IPython.core.display.Javascript at 0x17275940>"
       ]
      },
      {
       "javascript": [
        "\n",
        "        var $myPB = $(\"div#6ddb7ba1-2b40-4479-ab11-04389377bcbc\")\n",
        "        if ($myPB.hasClass('ui-progressbar')) {\n",
        "            $myPB.progressbar('value', 1827);\n",
        "        } else {\n",
        "            $myPB.progressbar({value: 0, max: 2029});\n",
        "        }\n",
        "        "
       ],
       "metadata": {},
       "output_type": "display_data",
       "text": [
        "<IPython.core.display.Javascript at 0x172753c8>"
       ]
      },
      {
       "javascript": [
        "$('div#bba2f9b1-6de6-4247-a772-d752ced97281').text('ETA:  0:00:00');"
       ],
       "metadata": {},
       "output_type": "display_data",
       "text": [
        "<IPython.core.display.Javascript at 0x1b425cc0>"
       ]
      },
      {
       "javascript": [
        "$('div#6a478361-07ac-4b6a-a61b-4faa259fd302').text('1848 of 2029');"
       ],
       "metadata": {},
       "output_type": "display_data",
       "text": [
        "<IPython.core.display.Javascript at 0x172753c8>"
       ]
      },
      {
       "javascript": [
        "$('div#c0bb773b-a2a0-45b9-8671-12ef36aa434a').text(' 91%');"
       ],
       "metadata": {},
       "output_type": "display_data",
       "text": [
        "<IPython.core.display.Javascript at 0x17275940>"
       ]
      },
      {
       "javascript": [
        "\n",
        "        var $myPB = $(\"div#6ddb7ba1-2b40-4479-ab11-04389377bcbc\")\n",
        "        if ($myPB.hasClass('ui-progressbar')) {\n",
        "            $myPB.progressbar('value', 1848);\n",
        "        } else {\n",
        "            $myPB.progressbar({value: 0, max: 2029});\n",
        "        }\n",
        "        "
       ],
       "metadata": {},
       "output_type": "display_data",
       "text": [
        "<IPython.core.display.Javascript at 0x1b425cc0>"
       ]
      },
      {
       "javascript": [
        "$('div#bba2f9b1-6de6-4247-a772-d752ced97281').text('ETA:  0:00:00');"
       ],
       "metadata": {},
       "output_type": "display_data",
       "text": [
        "<IPython.core.display.Javascript at 0x172753c8>"
       ]
      },
      {
       "javascript": [
        "$('div#6a478361-07ac-4b6a-a61b-4faa259fd302').text('1869 of 2029');"
       ],
       "metadata": {},
       "output_type": "display_data",
       "text": [
        "<IPython.core.display.Javascript at 0x17275940>"
       ]
      },
      {
       "javascript": [
        "$('div#c0bb773b-a2a0-45b9-8671-12ef36aa434a').text(' 92%');"
       ],
       "metadata": {},
       "output_type": "display_data",
       "text": [
        "<IPython.core.display.Javascript at 0x172753c8>"
       ]
      },
      {
       "javascript": [
        "\n",
        "        var $myPB = $(\"div#6ddb7ba1-2b40-4479-ab11-04389377bcbc\")\n",
        "        if ($myPB.hasClass('ui-progressbar')) {\n",
        "            $myPB.progressbar('value', 1869);\n",
        "        } else {\n",
        "            $myPB.progressbar({value: 0, max: 2029});\n",
        "        }\n",
        "        "
       ],
       "metadata": {},
       "output_type": "display_data",
       "text": [
        "<IPython.core.display.Javascript at 0x1b425550>"
       ]
      },
      {
       "javascript": [
        "$('div#bba2f9b1-6de6-4247-a772-d752ced97281').text('ETA:  0:00:00');"
       ],
       "metadata": {},
       "output_type": "display_data",
       "text": [
        "<IPython.core.display.Javascript at 0x1b425a20>"
       ]
      },
      {
       "javascript": [
        "$('div#6a478361-07ac-4b6a-a61b-4faa259fd302').text('1890 of 2029');"
       ],
       "metadata": {},
       "output_type": "display_data",
       "text": [
        "<IPython.core.display.Javascript at 0x172753c8>"
       ]
      },
      {
       "javascript": [
        "$('div#c0bb773b-a2a0-45b9-8671-12ef36aa434a').text(' 93%');"
       ],
       "metadata": {},
       "output_type": "display_data",
       "text": [
        "<IPython.core.display.Javascript at 0x17275940>"
       ]
      },
      {
       "javascript": [
        "\n",
        "        var $myPB = $(\"div#6ddb7ba1-2b40-4479-ab11-04389377bcbc\")\n",
        "        if ($myPB.hasClass('ui-progressbar')) {\n",
        "            $myPB.progressbar('value', 1890);\n",
        "        } else {\n",
        "            $myPB.progressbar({value: 0, max: 2029});\n",
        "        }\n",
        "        "
       ],
       "metadata": {},
       "output_type": "display_data",
       "text": [
        "<IPython.core.display.Javascript at 0x17275940>"
       ]
      },
      {
       "javascript": [
        "$('div#bba2f9b1-6de6-4247-a772-d752ced97281').text('ETA:  0:00:00');"
       ],
       "metadata": {},
       "output_type": "display_data",
       "text": [
        "<IPython.core.display.Javascript at 0x172753c8>"
       ]
      },
      {
       "javascript": [
        "$('div#6a478361-07ac-4b6a-a61b-4faa259fd302').text('1911 of 2029');"
       ],
       "metadata": {},
       "output_type": "display_data",
       "text": [
        "<IPython.core.display.Javascript at 0x172753c8>"
       ]
      },
      {
       "javascript": [
        "$('div#c0bb773b-a2a0-45b9-8671-12ef36aa434a').text(' 94%');"
       ],
       "metadata": {},
       "output_type": "display_data",
       "text": [
        "<IPython.core.display.Javascript at 0x17275940>"
       ]
      },
      {
       "javascript": [
        "\n",
        "        var $myPB = $(\"div#6ddb7ba1-2b40-4479-ab11-04389377bcbc\")\n",
        "        if ($myPB.hasClass('ui-progressbar')) {\n",
        "            $myPB.progressbar('value', 1911);\n",
        "        } else {\n",
        "            $myPB.progressbar({value: 0, max: 2029});\n",
        "        }\n",
        "        "
       ],
       "metadata": {},
       "output_type": "display_data",
       "text": [
        "<IPython.core.display.Javascript at 0x17275208>"
       ]
      },
      {
       "javascript": [
        "$('div#bba2f9b1-6de6-4247-a772-d752ced97281').text('ETA:  0:00:00');"
       ],
       "metadata": {},
       "output_type": "display_data",
       "text": [
        "<IPython.core.display.Javascript at 0x1b425a20>"
       ]
      },
      {
       "javascript": [
        "$('div#6a478361-07ac-4b6a-a61b-4faa259fd302').text('1932 of 2029');"
       ],
       "metadata": {},
       "output_type": "display_data",
       "text": [
        "<IPython.core.display.Javascript at 0x17275208>"
       ]
      },
      {
       "javascript": [
        "$('div#c0bb773b-a2a0-45b9-8671-12ef36aa434a').text(' 95%');"
       ],
       "metadata": {},
       "output_type": "display_data",
       "text": [
        "<IPython.core.display.Javascript at 0x17275208>"
       ]
      },
      {
       "javascript": [
        "\n",
        "        var $myPB = $(\"div#6ddb7ba1-2b40-4479-ab11-04389377bcbc\")\n",
        "        if ($myPB.hasClass('ui-progressbar')) {\n",
        "            $myPB.progressbar('value', 1932);\n",
        "        } else {\n",
        "            $myPB.progressbar({value: 0, max: 2029});\n",
        "        }\n",
        "        "
       ],
       "metadata": {},
       "output_type": "display_data",
       "text": [
        "<IPython.core.display.Javascript at 0x17275940>"
       ]
      },
      {
       "javascript": [
        "$('div#bba2f9b1-6de6-4247-a772-d752ced97281').text('ETA:  0:00:00');"
       ],
       "metadata": {},
       "output_type": "display_data",
       "text": [
        "<IPython.core.display.Javascript at 0x172753c8>"
       ]
      },
      {
       "javascript": [
        "$('div#6a478361-07ac-4b6a-a61b-4faa259fd302').text('1953 of 2029');"
       ],
       "metadata": {},
       "output_type": "display_data",
       "text": [
        "<IPython.core.display.Javascript at 0x172753c8>"
       ]
      },
      {
       "javascript": [
        "$('div#c0bb773b-a2a0-45b9-8671-12ef36aa434a').text(' 96%');"
       ],
       "metadata": {},
       "output_type": "display_data",
       "text": [
        "<IPython.core.display.Javascript at 0x17275940>"
       ]
      },
      {
       "javascript": [
        "\n",
        "        var $myPB = $(\"div#6ddb7ba1-2b40-4479-ab11-04389377bcbc\")\n",
        "        if ($myPB.hasClass('ui-progressbar')) {\n",
        "            $myPB.progressbar('value', 1953);\n",
        "        } else {\n",
        "            $myPB.progressbar({value: 0, max: 2029});\n",
        "        }\n",
        "        "
       ],
       "metadata": {},
       "output_type": "display_data",
       "text": [
        "<IPython.core.display.Javascript at 0x17275208>"
       ]
      },
      {
       "javascript": [
        "$('div#bba2f9b1-6de6-4247-a772-d752ced97281').text('ETA:  0:00:00');"
       ],
       "metadata": {},
       "output_type": "display_data",
       "text": [
        "<IPython.core.display.Javascript at 0x17275208>"
       ]
      },
      {
       "javascript": [
        "$('div#6a478361-07ac-4b6a-a61b-4faa259fd302').text('1974 of 2029');"
       ],
       "metadata": {},
       "output_type": "display_data",
       "text": [
        "<IPython.core.display.Javascript at 0x17275940>"
       ]
      },
      {
       "javascript": [
        "$('div#c0bb773b-a2a0-45b9-8671-12ef36aa434a').text(' 97%');"
       ],
       "metadata": {},
       "output_type": "display_data",
       "text": [
        "<IPython.core.display.Javascript at 0x172753c8>"
       ]
      },
      {
       "javascript": [
        "\n",
        "        var $myPB = $(\"div#6ddb7ba1-2b40-4479-ab11-04389377bcbc\")\n",
        "        if ($myPB.hasClass('ui-progressbar')) {\n",
        "            $myPB.progressbar('value', 1974);\n",
        "        } else {\n",
        "            $myPB.progressbar({value: 0, max: 2029});\n",
        "        }\n",
        "        "
       ],
       "metadata": {},
       "output_type": "display_data",
       "text": [
        "<IPython.core.display.Javascript at 0x17275208>"
       ]
      },
      {
       "javascript": [
        "$('div#bba2f9b1-6de6-4247-a772-d752ced97281').text('ETA:  0:00:00');"
       ],
       "metadata": {},
       "output_type": "display_data",
       "text": [
        "<IPython.core.display.Javascript at 0x17275208>"
       ]
      },
      {
       "javascript": [
        "$('div#6a478361-07ac-4b6a-a61b-4faa259fd302').text('1995 of 2029');"
       ],
       "metadata": {},
       "output_type": "display_data",
       "text": [
        "<IPython.core.display.Javascript at 0x172753c8>"
       ]
      },
      {
       "javascript": [
        "$('div#c0bb773b-a2a0-45b9-8671-12ef36aa434a').text(' 98%');"
       ],
       "metadata": {},
       "output_type": "display_data",
       "text": [
        "<IPython.core.display.Javascript at 0x172753c8>"
       ]
      },
      {
       "javascript": [
        "\n",
        "        var $myPB = $(\"div#6ddb7ba1-2b40-4479-ab11-04389377bcbc\")\n",
        "        if ($myPB.hasClass('ui-progressbar')) {\n",
        "            $myPB.progressbar('value', 1995);\n",
        "        } else {\n",
        "            $myPB.progressbar({value: 0, max: 2029});\n",
        "        }\n",
        "        "
       ],
       "metadata": {},
       "output_type": "display_data",
       "text": [
        "<IPython.core.display.Javascript at 0x17275940>"
       ]
      },
      {
       "javascript": [
        "$('div#bba2f9b1-6de6-4247-a772-d752ced97281').text('ETA:  0:00:00');"
       ],
       "metadata": {},
       "output_type": "display_data",
       "text": [
        "<IPython.core.display.Javascript at 0x17275208>"
       ]
      },
      {
       "javascript": [
        "$('div#6a478361-07ac-4b6a-a61b-4faa259fd302').text('2016 of 2029');"
       ],
       "metadata": {},
       "output_type": "display_data",
       "text": [
        "<IPython.core.display.Javascript at 0x17275208>"
       ]
      },
      {
       "javascript": [
        "$('div#c0bb773b-a2a0-45b9-8671-12ef36aa434a').text(' 99%');"
       ],
       "metadata": {},
       "output_type": "display_data",
       "text": [
        "<IPython.core.display.Javascript at 0x17275940>"
       ]
      },
      {
       "javascript": [
        "\n",
        "        var $myPB = $(\"div#6ddb7ba1-2b40-4479-ab11-04389377bcbc\")\n",
        "        if ($myPB.hasClass('ui-progressbar')) {\n",
        "            $myPB.progressbar('value', 2016);\n",
        "        } else {\n",
        "            $myPB.progressbar({value: 0, max: 2029});\n",
        "        }\n",
        "        "
       ],
       "metadata": {},
       "output_type": "display_data",
       "text": [
        "<IPython.core.display.Javascript at 0x172753c8>"
       ]
      },
      {
       "javascript": [
        "$('div#bba2f9b1-6de6-4247-a772-d752ced97281').text('ETA:  0:00:00');"
       ],
       "metadata": {},
       "output_type": "display_data",
       "text": [
        "<IPython.core.display.Javascript at 0x1b425a20>"
       ]
      },
      {
       "javascript": [
        "$('div#6a478361-07ac-4b6a-a61b-4faa259fd302').text('2029 of 2029');"
       ],
       "metadata": {},
       "output_type": "display_data",
       "text": [
        "<IPython.core.display.Javascript at 0x17275b70>"
       ]
      },
      {
       "javascript": [
        "$('div#c0bb773b-a2a0-45b9-8671-12ef36aa434a').text('100%');"
       ],
       "metadata": {},
       "output_type": "display_data",
       "text": [
        "<IPython.core.display.Javascript at 0x172753c8>"
       ]
      },
      {
       "javascript": [
        "\n",
        "        var $myPB = $(\"div#6ddb7ba1-2b40-4479-ab11-04389377bcbc\")\n",
        "        if ($myPB.hasClass('ui-progressbar')) {\n",
        "            $myPB.progressbar('value', 2029);\n",
        "        } else {\n",
        "            $myPB.progressbar({value: 0, max: 2029});\n",
        "        }\n",
        "        "
       ],
       "metadata": {},
       "output_type": "display_data",
       "text": [
        "<IPython.core.display.Javascript at 0x172753c8>"
       ]
      },
      {
       "javascript": [
        "$('div#bba2f9b1-6de6-4247-a772-d752ced97281').text('Time: 0:00:00');"
       ],
       "metadata": {},
       "output_type": "display_data",
       "text": [
        "<IPython.core.display.Javascript at 0x17275208>"
       ]
      },
      {
       "javascript": [
        "var element = document.getElementById('045cce7f-a1ab-4db1-aefd-26ecac4e0369');\n",
        "                    var parent = element.parentNode\n",
        "                    parent.removeChild(element);\n",
        "                    parent.parentElement.remove();"
       ],
       "metadata": {},
       "output_type": "display_data",
       "text": [
        "<IPython.core.display.Javascript at 0x1a889d30>"
       ]
      },
      {
       "javascript": [
        "this.cleanProgressBar(['045cce7f-a1ab-4db1-aefd-26ecac4e0369', '6a478361-07ac-4b6a-a61b-4faa259fd302', 'c0bb773b-a2a0-45b9-8671-12ef36aa434a', '6ddb7ba1-2b40-4479-ab11-04389377bcbc', 'bba2f9b1-6de6-4247-a772-d752ced97281'])"
       ],
       "metadata": {},
       "output_type": "display_data",
       "text": [
        "<IPython.core.display.Javascript at 0x17275b70>"
       ]
      }
     ],
     "prompt_number": 3
    },
    {
     "cell_type": "code",
     "collapsed": false,
     "input": [
      "mun.print_sentence_statistics(sentences)"
     ],
     "language": "python",
     "metadata": {},
     "outputs": [
      {
       "output_type": "stream",
       "stream": "stdout",
       "text": [
        "Info type                        Value            \n",
        "----------------------------------------\n",
        "number of sentences              2029            \n",
        "average sentence length(words)   19.59           \n",
        "average sentence length(letters) 124.93          \n",
        "longest sentence (words)         130             \n",
        "longest sentence (letters)       914             \n"
       ]
      }
     ],
     "prompt_number": 4
    },
    {
     "cell_type": "code",
     "collapsed": false,
     "input": [
      "url = mun.get_document_url(doc_name = doc_name)\n",
      "doc['attributes']['url'] = '<a href=\"%s\" target=\"_blank\">Open original PDF</a>'%url \n",
      "HTML(doc['attributes']['url'])"
     ],
     "language": "python",
     "metadata": {},
     "outputs": [
      {
       "html": [
        "<a href=\"http://documents-dds-ny.un.org/doc/UNDOC/GEN/G05/168/77/pdf/G0516877.pdf?OpenElement\" target=\"_blank\">Open original PDF</a>"
       ],
       "metadata": {},
       "output_type": "pyout",
       "prompt_number": 5,
       "text": [
        "<IPython.core.display.HTML at 0x36cb240>"
       ]
      }
     ],
     "prompt_number": 5
    },
    {
     "cell_type": "code",
     "collapsed": false,
     "input": [
      "nchunks, vchunks = mun.process_chunks(tagged_sentences=tagged_sentences, return_print=False)\n",
      "mun.print_FreqDists([nchunks,vchunks],titles=['Noun Chunks', 'Noun Verb Chunks'], limit=10)"
     ],
     "language": "python",
     "metadata": {},
     "outputs": [
      {
       "javascript": [
        "//0a17a12a-2c7e-4e69-889c-f1aabfb33584\n",
        "$(\"head\").append(\"<style> td.pb_widget {     width: auto; } td.pb_widget_fill {     width: 100%; } table.pb {     font-family: monospace;     border: 0;     margin: 0; } table.pb tr { border: 0; } table.pb td {     white-space: nowrap;     border: 0; } div.pb {     border: 1px solid #ddd;     border-radius: 3px; } div.pb_bar {     height: 1.5em; } </style>\")"
       ],
       "metadata": {},
       "output_type": "display_data",
       "text": [
        "<IPython.core.display.Javascript at 0x1a889160>"
       ]
      },
      {
       "javascript": [
        "\n",
        "                  // 0a17a12a-2c7e-4e69-889c-f1aabfb33584 -- used to remove this code blob in the end\n",
        "                  IPython.OutputArea.prototype.cleanProgressBar = function(uuids) {\n",
        "                      // filter by uuid-strings \n",
        "                      var myfilter = function(output) { \n",
        "                          var nuids = uuids.length;\n",
        "                          for (var i=0; i<nuids; i++) {\n",
        "                              if (output.hasOwnProperty('html')) {\n",
        "                                  if (output.html.indexOf(uuids[i]) != -1) {\n",
        "                                      return false;\n",
        "                                  }\n",
        "                              }\n",
        "                              if (output.hasOwnProperty('javascript')) {\n",
        "                                  if (output.javascript.indexOf(uuids[i]) != -1) {\n",
        "                                      return false;\n",
        "                                  }\n",
        "                              }\n",
        "                          }\n",
        "                          // keep all others\n",
        "                          return true;\n",
        "                      };\n",
        "\n",
        "                      // Filter the ouputs\n",
        "                      this.outputs = this.outputs.filter(myfilter);\n",
        "                };\n",
        "                "
       ],
       "metadata": {},
       "output_type": "display_data",
       "text": [
        "<IPython.core.display.Javascript at 0x1a889b70>"
       ]
      },
      {
       "html": [
        "<div class=\"pb\" id=\"0a17a12a-2c7e-4e69-889c-f1aabfb33584\"><table class=\"pb ui-widget\"><tr>\n",
        "<td class=\"pb_widget\">Chunking </td>\n",
        "<td class=\"pb_widget\"><div id=\"05937b91-e765-4e0e-870f-a875418e5522\">0 of 2029</div></td>\n",
        "<td class=\"pb_widget\"><div id=\"75694a1b-ce5b-42c7-858e-51d1b658f9e1\">  0%</div></td>\n",
        "<td class=\"pb_widget_fill\">\n",
        "        <div class=\"pb_bar\" id=\"7c809e90-c740-4dbb-b29d-d602b4a96152\"></div>\n",
        "        <script type=\"text/javascript\">\n",
        "            $(\"div#7c809e90-c740-4dbb-b29d-d602b4a96152\").progressbar({value: 0, max: 2029});\n",
        "        </script>\n",
        "        </td>\n",
        "<td class=\"pb_widget\"><div id=\"f13a49d9-7b42-4a42-bc68-177f0d24dd2b\">ETA:  --:--:--</div></td>\n",
        "</tr></table><div>"
       ],
       "metadata": {},
       "output_type": "display_data",
       "text": [
        "<IPython.core.display.HTML at 0x1a889cf8>"
       ]
      },
      {
       "javascript": [
        "$('div#05937b91-e765-4e0e-870f-a875418e5522').text('21 of 2029');"
       ],
       "metadata": {},
       "output_type": "display_data",
       "text": [
        "<IPython.core.display.Javascript at 0x208d08d0>"
       ]
      },
      {
       "javascript": [
        "$('div#75694a1b-ce5b-42c7-858e-51d1b658f9e1').text('  1%');"
       ],
       "metadata": {},
       "output_type": "display_data",
       "text": [
        "<IPython.core.display.Javascript at 0x208d08d0>"
       ]
      },
      {
       "javascript": [
        "\n",
        "        var $myPB = $(\"div#7c809e90-c740-4dbb-b29d-d602b4a96152\")\n",
        "        if ($myPB.hasClass('ui-progressbar')) {\n",
        "            $myPB.progressbar('value', 21);\n",
        "        } else {\n",
        "            $myPB.progressbar({value: 0, max: 2029});\n",
        "        }\n",
        "        "
       ],
       "metadata": {},
       "output_type": "display_data",
       "text": [
        "<IPython.core.display.Javascript at 0x1a889cf8>"
       ]
      },
      {
       "javascript": [
        "$('div#f13a49d9-7b42-4a42-bc68-177f0d24dd2b').text('ETA:  0:00:00');"
       ],
       "metadata": {},
       "output_type": "display_data",
       "text": [
        "<IPython.core.display.Javascript at 0x1a889160>"
       ]
      },
      {
       "javascript": [
        "$('div#05937b91-e765-4e0e-870f-a875418e5522').text('42 of 2029');"
       ],
       "metadata": {},
       "output_type": "display_data",
       "text": [
        "<IPython.core.display.Javascript at 0x1a889b70>"
       ]
      },
      {
       "javascript": [
        "$('div#75694a1b-ce5b-42c7-858e-51d1b658f9e1').text('  2%');"
       ],
       "metadata": {},
       "output_type": "display_data",
       "text": [
        "<IPython.core.display.Javascript at 0x1a889b70>"
       ]
      },
      {
       "javascript": [
        "\n",
        "        var $myPB = $(\"div#7c809e90-c740-4dbb-b29d-d602b4a96152\")\n",
        "        if ($myPB.hasClass('ui-progressbar')) {\n",
        "            $myPB.progressbar('value', 42);\n",
        "        } else {\n",
        "            $myPB.progressbar({value: 0, max: 2029});\n",
        "        }\n",
        "        "
       ],
       "metadata": {},
       "output_type": "display_data",
       "text": [
        "<IPython.core.display.Javascript at 0x208d08d0>"
       ]
      },
      {
       "javascript": [
        "$('div#f13a49d9-7b42-4a42-bc68-177f0d24dd2b').text('ETA:  0:00:00');"
       ],
       "metadata": {},
       "output_type": "display_data",
       "text": [
        "<IPython.core.display.Javascript at 0x1a889160>"
       ]
      },
      {
       "javascript": [
        "$('div#05937b91-e765-4e0e-870f-a875418e5522').text('63 of 2029');"
       ],
       "metadata": {},
       "output_type": "display_data",
       "text": [
        "<IPython.core.display.Javascript at 0x1a889cf8>"
       ]
      },
      {
       "javascript": [
        "$('div#75694a1b-ce5b-42c7-858e-51d1b658f9e1').text('  3%');"
       ],
       "metadata": {},
       "output_type": "display_data",
       "text": [
        "<IPython.core.display.Javascript at 0x208d08d0>"
       ]
      },
      {
       "javascript": [
        "\n",
        "        var $myPB = $(\"div#7c809e90-c740-4dbb-b29d-d602b4a96152\")\n",
        "        if ($myPB.hasClass('ui-progressbar')) {\n",
        "            $myPB.progressbar('value', 63);\n",
        "        } else {\n",
        "            $myPB.progressbar({value: 0, max: 2029});\n",
        "        }\n",
        "        "
       ],
       "metadata": {},
       "output_type": "display_data",
       "text": [
        "<IPython.core.display.Javascript at 0x1a889cf8>"
       ]
      },
      {
       "javascript": [
        "$('div#f13a49d9-7b42-4a42-bc68-177f0d24dd2b').text('ETA:  0:00:00');"
       ],
       "metadata": {},
       "output_type": "display_data",
       "text": [
        "<IPython.core.display.Javascript at 0x1a889b70>"
       ]
      },
      {
       "javascript": [
        "$('div#05937b91-e765-4e0e-870f-a875418e5522').text('84 of 2029');"
       ],
       "metadata": {},
       "output_type": "display_data",
       "text": [
        "<IPython.core.display.Javascript at 0x17275b70>"
       ]
      },
      {
       "javascript": [
        "$('div#75694a1b-ce5b-42c7-858e-51d1b658f9e1').text('  4%');"
       ],
       "metadata": {},
       "output_type": "display_data",
       "text": [
        "<IPython.core.display.Javascript at 0x172753c8>"
       ]
      },
      {
       "javascript": [
        "\n",
        "        var $myPB = $(\"div#7c809e90-c740-4dbb-b29d-d602b4a96152\")\n",
        "        if ($myPB.hasClass('ui-progressbar')) {\n",
        "            $myPB.progressbar('value', 84);\n",
        "        } else {\n",
        "            $myPB.progressbar({value: 0, max: 2029});\n",
        "        }\n",
        "        "
       ],
       "metadata": {},
       "output_type": "display_data",
       "text": [
        "<IPython.core.display.Javascript at 0x208d08d0>"
       ]
      },
      {
       "javascript": [
        "$('div#f13a49d9-7b42-4a42-bc68-177f0d24dd2b').text('ETA:  0:00:00');"
       ],
       "metadata": {},
       "output_type": "display_data",
       "text": [
        "<IPython.core.display.Javascript at 0x1a889fd0>"
       ]
      },
      {
       "javascript": [
        "$('div#05937b91-e765-4e0e-870f-a875418e5522').text('105 of 2029');"
       ],
       "metadata": {},
       "output_type": "display_data",
       "text": [
        "<IPython.core.display.Javascript at 0x17275208>"
       ]
      },
      {
       "javascript": [
        "$('div#75694a1b-ce5b-42c7-858e-51d1b658f9e1').text('  5%');"
       ],
       "metadata": {},
       "output_type": "display_data",
       "text": [
        "<IPython.core.display.Javascript at 0x172753c8>"
       ]
      },
      {
       "javascript": [
        "\n",
        "        var $myPB = $(\"div#7c809e90-c740-4dbb-b29d-d602b4a96152\")\n",
        "        if ($myPB.hasClass('ui-progressbar')) {\n",
        "            $myPB.progressbar('value', 105);\n",
        "        } else {\n",
        "            $myPB.progressbar({value: 0, max: 2029});\n",
        "        }\n",
        "        "
       ],
       "metadata": {},
       "output_type": "display_data",
       "text": [
        "<IPython.core.display.Javascript at 0x17275b70>"
       ]
      },
      {
       "javascript": [
        "$('div#f13a49d9-7b42-4a42-bc68-177f0d24dd2b').text('ETA:  0:00:00');"
       ],
       "metadata": {},
       "output_type": "display_data",
       "text": [
        "<IPython.core.display.Javascript at 0x1a889fd0>"
       ]
      },
      {
       "javascript": [
        "$('div#05937b91-e765-4e0e-870f-a875418e5522').text('126 of 2029');"
       ],
       "metadata": {},
       "output_type": "display_data",
       "text": [
        "<IPython.core.display.Javascript at 0x17275b70>"
       ]
      },
      {
       "javascript": [
        "$('div#75694a1b-ce5b-42c7-858e-51d1b658f9e1').text('  6%');"
       ],
       "metadata": {},
       "output_type": "display_data",
       "text": [
        "<IPython.core.display.Javascript at 0x172753c8>"
       ]
      },
      {
       "javascript": [
        "\n",
        "        var $myPB = $(\"div#7c809e90-c740-4dbb-b29d-d602b4a96152\")\n",
        "        if ($myPB.hasClass('ui-progressbar')) {\n",
        "            $myPB.progressbar('value', 126);\n",
        "        } else {\n",
        "            $myPB.progressbar({value: 0, max: 2029});\n",
        "        }\n",
        "        "
       ],
       "metadata": {},
       "output_type": "display_data",
       "text": [
        "<IPython.core.display.Javascript at 0x17275208>"
       ]
      },
      {
       "javascript": [
        "$('div#f13a49d9-7b42-4a42-bc68-177f0d24dd2b').text('ETA:  0:00:00');"
       ],
       "metadata": {},
       "output_type": "display_data",
       "text": [
        "<IPython.core.display.Javascript at 0x1a889fd0>"
       ]
      },
      {
       "javascript": [
        "$('div#05937b91-e765-4e0e-870f-a875418e5522').text('147 of 2029');"
       ],
       "metadata": {},
       "output_type": "display_data",
       "text": [
        "<IPython.core.display.Javascript at 0x17275208>"
       ]
      },
      {
       "javascript": [
        "$('div#75694a1b-ce5b-42c7-858e-51d1b658f9e1').text('  7%');"
       ],
       "metadata": {},
       "output_type": "display_data",
       "text": [
        "<IPython.core.display.Javascript at 0x172753c8>"
       ]
      },
      {
       "javascript": [
        "\n",
        "        var $myPB = $(\"div#7c809e90-c740-4dbb-b29d-d602b4a96152\")\n",
        "        if ($myPB.hasClass('ui-progressbar')) {\n",
        "            $myPB.progressbar('value', 147);\n",
        "        } else {\n",
        "            $myPB.progressbar({value: 0, max: 2029});\n",
        "        }\n",
        "        "
       ],
       "metadata": {},
       "output_type": "display_data",
       "text": [
        "<IPython.core.display.Javascript at 0x17275b70>"
       ]
      },
      {
       "javascript": [
        "$('div#f13a49d9-7b42-4a42-bc68-177f0d24dd2b').text('ETA:  0:00:00');"
       ],
       "metadata": {},
       "output_type": "display_data",
       "text": [
        "<IPython.core.display.Javascript at 0x1a889160>"
       ]
      },
      {
       "javascript": [
        "$('div#05937b91-e765-4e0e-870f-a875418e5522').text('168 of 2029');"
       ],
       "metadata": {},
       "output_type": "display_data",
       "text": [
        "<IPython.core.display.Javascript at 0x172753c8>"
       ]
      },
      {
       "javascript": [
        "$('div#75694a1b-ce5b-42c7-858e-51d1b658f9e1').text('  8%');"
       ],
       "metadata": {},
       "output_type": "display_data",
       "text": [
        "<IPython.core.display.Javascript at 0x17275b70>"
       ]
      },
      {
       "javascript": [
        "\n",
        "        var $myPB = $(\"div#7c809e90-c740-4dbb-b29d-d602b4a96152\")\n",
        "        if ($myPB.hasClass('ui-progressbar')) {\n",
        "            $myPB.progressbar('value', 168);\n",
        "        } else {\n",
        "            $myPB.progressbar({value: 0, max: 2029});\n",
        "        }\n",
        "        "
       ],
       "metadata": {},
       "output_type": "display_data",
       "text": [
        "<IPython.core.display.Javascript at 0x17275208>"
       ]
      },
      {
       "javascript": [
        "$('div#f13a49d9-7b42-4a42-bc68-177f0d24dd2b').text('ETA:  0:00:00');"
       ],
       "metadata": {},
       "output_type": "display_data",
       "text": [
        "<IPython.core.display.Javascript at 0x17275208>"
       ]
      },
      {
       "javascript": [
        "$('div#05937b91-e765-4e0e-870f-a875418e5522').text('189 of 2029');"
       ],
       "metadata": {},
       "output_type": "display_data",
       "text": [
        "<IPython.core.display.Javascript at 0x17275b70>"
       ]
      },
      {
       "javascript": [
        "$('div#75694a1b-ce5b-42c7-858e-51d1b658f9e1').text('  9%');"
       ],
       "metadata": {},
       "output_type": "display_data",
       "text": [
        "<IPython.core.display.Javascript at 0x172753c8>"
       ]
      },
      {
       "javascript": [
        "\n",
        "        var $myPB = $(\"div#7c809e90-c740-4dbb-b29d-d602b4a96152\")\n",
        "        if ($myPB.hasClass('ui-progressbar')) {\n",
        "            $myPB.progressbar('value', 189);\n",
        "        } else {\n",
        "            $myPB.progressbar({value: 0, max: 2029});\n",
        "        }\n",
        "        "
       ],
       "metadata": {},
       "output_type": "display_data",
       "text": [
        "<IPython.core.display.Javascript at 0x1a889cf8>"
       ]
      },
      {
       "javascript": [
        "$('div#f13a49d9-7b42-4a42-bc68-177f0d24dd2b').text('ETA:  0:00:00');"
       ],
       "metadata": {},
       "output_type": "display_data",
       "text": [
        "<IPython.core.display.Javascript at 0x172753c8>"
       ]
      },
      {
       "javascript": [
        "$('div#05937b91-e765-4e0e-870f-a875418e5522').text('210 of 2029');"
       ],
       "metadata": {},
       "output_type": "display_data",
       "text": [
        "<IPython.core.display.Javascript at 0x17275b70>"
       ]
      },
      {
       "javascript": [
        "$('div#75694a1b-ce5b-42c7-858e-51d1b658f9e1').text(' 10%');"
       ],
       "metadata": {},
       "output_type": "display_data",
       "text": [
        "<IPython.core.display.Javascript at 0x17275208>"
       ]
      },
      {
       "javascript": [
        "\n",
        "        var $myPB = $(\"div#7c809e90-c740-4dbb-b29d-d602b4a96152\")\n",
        "        if ($myPB.hasClass('ui-progressbar')) {\n",
        "            $myPB.progressbar('value', 210);\n",
        "        } else {\n",
        "            $myPB.progressbar({value: 0, max: 2029});\n",
        "        }\n",
        "        "
       ],
       "metadata": {},
       "output_type": "display_data",
       "text": [
        "<IPython.core.display.Javascript at 0x1a889cf8>"
       ]
      },
      {
       "javascript": [
        "$('div#f13a49d9-7b42-4a42-bc68-177f0d24dd2b').text('ETA:  0:00:00');"
       ],
       "metadata": {},
       "output_type": "display_data",
       "text": [
        "<IPython.core.display.Javascript at 0x17275208>"
       ]
      },
      {
       "javascript": [
        "$('div#05937b91-e765-4e0e-870f-a875418e5522').text('231 of 2029');"
       ],
       "metadata": {},
       "output_type": "display_data",
       "text": [
        "<IPython.core.display.Javascript at 0x17275b70>"
       ]
      },
      {
       "javascript": [
        "$('div#75694a1b-ce5b-42c7-858e-51d1b658f9e1').text(' 11%');"
       ],
       "metadata": {},
       "output_type": "display_data",
       "text": [
        "<IPython.core.display.Javascript at 0x172753c8>"
       ]
      },
      {
       "javascript": [
        "\n",
        "        var $myPB = $(\"div#7c809e90-c740-4dbb-b29d-d602b4a96152\")\n",
        "        if ($myPB.hasClass('ui-progressbar')) {\n",
        "            $myPB.progressbar('value', 231);\n",
        "        } else {\n",
        "            $myPB.progressbar({value: 0, max: 2029});\n",
        "        }\n",
        "        "
       ],
       "metadata": {},
       "output_type": "display_data",
       "text": [
        "<IPython.core.display.Javascript at 0x1a889b70>"
       ]
      },
      {
       "javascript": [
        "$('div#f13a49d9-7b42-4a42-bc68-177f0d24dd2b').text('ETA:  0:00:00');"
       ],
       "metadata": {},
       "output_type": "display_data",
       "text": [
        "<IPython.core.display.Javascript at 0x172753c8>"
       ]
      },
      {
       "javascript": [
        "$('div#05937b91-e765-4e0e-870f-a875418e5522').text('252 of 2029');"
       ],
       "metadata": {},
       "output_type": "display_data",
       "text": [
        "<IPython.core.display.Javascript at 0x17275b70>"
       ]
      },
      {
       "javascript": [
        "$('div#75694a1b-ce5b-42c7-858e-51d1b658f9e1').text(' 12%');"
       ],
       "metadata": {},
       "output_type": "display_data",
       "text": [
        "<IPython.core.display.Javascript at 0x17275208>"
       ]
      },
      {
       "javascript": [
        "\n",
        "        var $myPB = $(\"div#7c809e90-c740-4dbb-b29d-d602b4a96152\")\n",
        "        if ($myPB.hasClass('ui-progressbar')) {\n",
        "            $myPB.progressbar('value', 252);\n",
        "        } else {\n",
        "            $myPB.progressbar({value: 0, max: 2029});\n",
        "        }\n",
        "        "
       ],
       "metadata": {},
       "output_type": "display_data",
       "text": [
        "<IPython.core.display.Javascript at 0x17275208>"
       ]
      },
      {
       "javascript": [
        "$('div#f13a49d9-7b42-4a42-bc68-177f0d24dd2b').text('ETA:  0:00:00');"
       ],
       "metadata": {},
       "output_type": "display_data",
       "text": [
        "<IPython.core.display.Javascript at 0x17275b70>"
       ]
      },
      {
       "javascript": [
        "$('div#05937b91-e765-4e0e-870f-a875418e5522').text('273 of 2029');"
       ],
       "metadata": {},
       "output_type": "display_data",
       "text": [
        "<IPython.core.display.Javascript at 0x172753c8>"
       ]
      },
      {
       "javascript": [
        "$('div#75694a1b-ce5b-42c7-858e-51d1b658f9e1').text(' 13%');"
       ],
       "metadata": {},
       "output_type": "display_data",
       "text": [
        "<IPython.core.display.Javascript at 0x1a889160>"
       ]
      },
      {
       "javascript": [
        "\n",
        "        var $myPB = $(\"div#7c809e90-c740-4dbb-b29d-d602b4a96152\")\n",
        "        if ($myPB.hasClass('ui-progressbar')) {\n",
        "            $myPB.progressbar('value', 273);\n",
        "        } else {\n",
        "            $myPB.progressbar({value: 0, max: 2029});\n",
        "        }\n",
        "        "
       ],
       "metadata": {},
       "output_type": "display_data",
       "text": [
        "<IPython.core.display.Javascript at 0x172753c8>"
       ]
      },
      {
       "javascript": [
        "$('div#f13a49d9-7b42-4a42-bc68-177f0d24dd2b').text('ETA:  0:00:00');"
       ],
       "metadata": {},
       "output_type": "display_data",
       "text": [
        "<IPython.core.display.Javascript at 0x17275b70>"
       ]
      },
      {
       "javascript": [
        "$('div#05937b91-e765-4e0e-870f-a875418e5522').text('294 of 2029');"
       ],
       "metadata": {},
       "output_type": "display_data",
       "text": [
        "<IPython.core.display.Javascript at 0x17275208>"
       ]
      },
      {
       "javascript": [
        "$('div#75694a1b-ce5b-42c7-858e-51d1b658f9e1').text(' 14%');"
       ],
       "metadata": {},
       "output_type": "display_data",
       "text": [
        "<IPython.core.display.Javascript at 0x1a889160>"
       ]
      },
      {
       "javascript": [
        "\n",
        "        var $myPB = $(\"div#7c809e90-c740-4dbb-b29d-d602b4a96152\")\n",
        "        if ($myPB.hasClass('ui-progressbar')) {\n",
        "            $myPB.progressbar('value', 294);\n",
        "        } else {\n",
        "            $myPB.progressbar({value: 0, max: 2029});\n",
        "        }\n",
        "        "
       ],
       "metadata": {},
       "output_type": "display_data",
       "text": [
        "<IPython.core.display.Javascript at 0x17275b70>"
       ]
      },
      {
       "javascript": [
        "$('div#f13a49d9-7b42-4a42-bc68-177f0d24dd2b').text('ETA:  0:00:00');"
       ],
       "metadata": {},
       "output_type": "display_data",
       "text": [
        "<IPython.core.display.Javascript at 0x17275208>"
       ]
      },
      {
       "javascript": [
        "$('div#05937b91-e765-4e0e-870f-a875418e5522').text('315 of 2029');"
       ],
       "metadata": {},
       "output_type": "display_data",
       "text": [
        "<IPython.core.display.Javascript at 0x172753c8>"
       ]
      },
      {
       "javascript": [
        "$('div#75694a1b-ce5b-42c7-858e-51d1b658f9e1').text(' 15%');"
       ],
       "metadata": {},
       "output_type": "display_data",
       "text": [
        "<IPython.core.display.Javascript at 0x1a889160>"
       ]
      },
      {
       "javascript": [
        "\n",
        "        var $myPB = $(\"div#7c809e90-c740-4dbb-b29d-d602b4a96152\")\n",
        "        if ($myPB.hasClass('ui-progressbar')) {\n",
        "            $myPB.progressbar('value', 315);\n",
        "        } else {\n",
        "            $myPB.progressbar({value: 0, max: 2029});\n",
        "        }\n",
        "        "
       ],
       "metadata": {},
       "output_type": "display_data",
       "text": [
        "<IPython.core.display.Javascript at 0x1a889cf8>"
       ]
      },
      {
       "javascript": [
        "$('div#f13a49d9-7b42-4a42-bc68-177f0d24dd2b').text('ETA:  0:00:00');"
       ],
       "metadata": {},
       "output_type": "display_data",
       "text": [
        "<IPython.core.display.Javascript at 0x1a889b70>"
       ]
      },
      {
       "javascript": [
        "$('div#05937b91-e765-4e0e-870f-a875418e5522').text('336 of 2029');"
       ],
       "metadata": {},
       "output_type": "display_data",
       "text": [
        "<IPython.core.display.Javascript at 0x1a889fd0>"
       ]
      },
      {
       "javascript": [
        "$('div#75694a1b-ce5b-42c7-858e-51d1b658f9e1').text(' 16%');"
       ],
       "metadata": {},
       "output_type": "display_data",
       "text": [
        "<IPython.core.display.Javascript at 0x1a889fd0>"
       ]
      },
      {
       "javascript": [
        "\n",
        "        var $myPB = $(\"div#7c809e90-c740-4dbb-b29d-d602b4a96152\")\n",
        "        if ($myPB.hasClass('ui-progressbar')) {\n",
        "            $myPB.progressbar('value', 336);\n",
        "        } else {\n",
        "            $myPB.progressbar({value: 0, max: 2029});\n",
        "        }\n",
        "        "
       ],
       "metadata": {},
       "output_type": "display_data",
       "text": [
        "<IPython.core.display.Javascript at 0x1a889b70>"
       ]
      },
      {
       "javascript": [
        "$('div#f13a49d9-7b42-4a42-bc68-177f0d24dd2b').text('ETA:  0:00:00');"
       ],
       "metadata": {},
       "output_type": "display_data",
       "text": [
        "<IPython.core.display.Javascript at 0x1a889cf8>"
       ]
      },
      {
       "javascript": [
        "$('div#05937b91-e765-4e0e-870f-a875418e5522').text('357 of 2029');"
       ],
       "metadata": {},
       "output_type": "display_data",
       "text": [
        "<IPython.core.display.Javascript at 0x17275208>"
       ]
      },
      {
       "javascript": [
        "$('div#75694a1b-ce5b-42c7-858e-51d1b658f9e1').text(' 17%');"
       ],
       "metadata": {},
       "output_type": "display_data",
       "text": [
        "<IPython.core.display.Javascript at 0x17275208>"
       ]
      },
      {
       "javascript": [
        "\n",
        "        var $myPB = $(\"div#7c809e90-c740-4dbb-b29d-d602b4a96152\")\n",
        "        if ($myPB.hasClass('ui-progressbar')) {\n",
        "            $myPB.progressbar('value', 357);\n",
        "        } else {\n",
        "            $myPB.progressbar({value: 0, max: 2029});\n",
        "        }\n",
        "        "
       ],
       "metadata": {},
       "output_type": "display_data",
       "text": [
        "<IPython.core.display.Javascript at 0x172753c8>"
       ]
      },
      {
       "javascript": [
        "$('div#f13a49d9-7b42-4a42-bc68-177f0d24dd2b').text('ETA:  0:00:00');"
       ],
       "metadata": {},
       "output_type": "display_data",
       "text": [
        "<IPython.core.display.Javascript at 0x17275b70>"
       ]
      },
      {
       "javascript": [
        "$('div#05937b91-e765-4e0e-870f-a875418e5522').text('378 of 2029');"
       ],
       "metadata": {},
       "output_type": "display_data",
       "text": [
        "<IPython.core.display.Javascript at 0x1a889cf8>"
       ]
      },
      {
       "javascript": [
        "$('div#75694a1b-ce5b-42c7-858e-51d1b658f9e1').text(' 18%');"
       ],
       "metadata": {},
       "output_type": "display_data",
       "text": [
        "<IPython.core.display.Javascript at 0x1a889cf8>"
       ]
      },
      {
       "javascript": [
        "\n",
        "        var $myPB = $(\"div#7c809e90-c740-4dbb-b29d-d602b4a96152\")\n",
        "        if ($myPB.hasClass('ui-progressbar')) {\n",
        "            $myPB.progressbar('value', 378);\n",
        "        } else {\n",
        "            $myPB.progressbar({value: 0, max: 2029});\n",
        "        }\n",
        "        "
       ],
       "metadata": {},
       "output_type": "display_data",
       "text": [
        "<IPython.core.display.Javascript at 0x1a889fd0>"
       ]
      },
      {
       "javascript": [
        "$('div#f13a49d9-7b42-4a42-bc68-177f0d24dd2b').text('ETA:  0:00:00');"
       ],
       "metadata": {},
       "output_type": "display_data",
       "text": [
        "<IPython.core.display.Javascript at 0x1a889b70>"
       ]
      },
      {
       "javascript": [
        "$('div#05937b91-e765-4e0e-870f-a875418e5522').text('399 of 2029');"
       ],
       "metadata": {},
       "output_type": "display_data",
       "text": [
        "<IPython.core.display.Javascript at 0x17275b70>"
       ]
      },
      {
       "javascript": [
        "$('div#75694a1b-ce5b-42c7-858e-51d1b658f9e1').text(' 19%');"
       ],
       "metadata": {},
       "output_type": "display_data",
       "text": [
        "<IPython.core.display.Javascript at 0x17275b70>"
       ]
      },
      {
       "javascript": [
        "\n",
        "        var $myPB = $(\"div#7c809e90-c740-4dbb-b29d-d602b4a96152\")\n",
        "        if ($myPB.hasClass('ui-progressbar')) {\n",
        "            $myPB.progressbar('value', 399);\n",
        "        } else {\n",
        "            $myPB.progressbar({value: 0, max: 2029});\n",
        "        }\n",
        "        "
       ],
       "metadata": {},
       "output_type": "display_data",
       "text": [
        "<IPython.core.display.Javascript at 0x17275208>"
       ]
      },
      {
       "javascript": [
        "$('div#f13a49d9-7b42-4a42-bc68-177f0d24dd2b').text('ETA:  0:00:00');"
       ],
       "metadata": {},
       "output_type": "display_data",
       "text": [
        "<IPython.core.display.Javascript at 0x172753c8>"
       ]
      },
      {
       "javascript": [
        "$('div#05937b91-e765-4e0e-870f-a875418e5522').text('420 of 2029');"
       ],
       "metadata": {},
       "output_type": "display_data",
       "text": [
        "<IPython.core.display.Javascript at 0x172753c8>"
       ]
      },
      {
       "javascript": [
        "$('div#75694a1b-ce5b-42c7-858e-51d1b658f9e1').text(' 20%');"
       ],
       "metadata": {},
       "output_type": "display_data",
       "text": [
        "<IPython.core.display.Javascript at 0x17275208>"
       ]
      },
      {
       "javascript": [
        "\n",
        "        var $myPB = $(\"div#7c809e90-c740-4dbb-b29d-d602b4a96152\")\n",
        "        if ($myPB.hasClass('ui-progressbar')) {\n",
        "            $myPB.progressbar('value', 420);\n",
        "        } else {\n",
        "            $myPB.progressbar({value: 0, max: 2029});\n",
        "        }\n",
        "        "
       ],
       "metadata": {},
       "output_type": "display_data",
       "text": [
        "<IPython.core.display.Javascript at 0x17275b70>"
       ]
      },
      {
       "javascript": [
        "$('div#f13a49d9-7b42-4a42-bc68-177f0d24dd2b').text('ETA:  0:00:00');"
       ],
       "metadata": {},
       "output_type": "display_data",
       "text": [
        "<IPython.core.display.Javascript at 0x1a889fd0>"
       ]
      },
      {
       "javascript": [
        "$('div#05937b91-e765-4e0e-870f-a875418e5522').text('441 of 2029');"
       ],
       "metadata": {},
       "output_type": "display_data",
       "text": [
        "<IPython.core.display.Javascript at 0x17275b70>"
       ]
      },
      {
       "javascript": [
        "$('div#75694a1b-ce5b-42c7-858e-51d1b658f9e1').text(' 21%');"
       ],
       "metadata": {},
       "output_type": "display_data",
       "text": [
        "<IPython.core.display.Javascript at 0x17275208>"
       ]
      },
      {
       "javascript": [
        "\n",
        "        var $myPB = $(\"div#7c809e90-c740-4dbb-b29d-d602b4a96152\")\n",
        "        if ($myPB.hasClass('ui-progressbar')) {\n",
        "            $myPB.progressbar('value', 441);\n",
        "        } else {\n",
        "            $myPB.progressbar({value: 0, max: 2029});\n",
        "        }\n",
        "        "
       ],
       "metadata": {},
       "output_type": "display_data",
       "text": [
        "<IPython.core.display.Javascript at 0x172753c8>"
       ]
      },
      {
       "javascript": [
        "$('div#f13a49d9-7b42-4a42-bc68-177f0d24dd2b').text('ETA:  0:00:00');"
       ],
       "metadata": {},
       "output_type": "display_data",
       "text": [
        "<IPython.core.display.Javascript at 0x1a889fd0>"
       ]
      },
      {
       "javascript": [
        "$('div#05937b91-e765-4e0e-870f-a875418e5522').text('462 of 2029');"
       ],
       "metadata": {},
       "output_type": "display_data",
       "text": [
        "<IPython.core.display.Javascript at 0x172753c8>"
       ]
      },
      {
       "javascript": [
        "$('div#75694a1b-ce5b-42c7-858e-51d1b658f9e1').text(' 22%');"
       ],
       "metadata": {},
       "output_type": "display_data",
       "text": [
        "<IPython.core.display.Javascript at 0x17275208>"
       ]
      },
      {
       "javascript": [
        "\n",
        "        var $myPB = $(\"div#7c809e90-c740-4dbb-b29d-d602b4a96152\")\n",
        "        if ($myPB.hasClass('ui-progressbar')) {\n",
        "            $myPB.progressbar('value', 462);\n",
        "        } else {\n",
        "            $myPB.progressbar({value: 0, max: 2029});\n",
        "        }\n",
        "        "
       ],
       "metadata": {},
       "output_type": "display_data",
       "text": [
        "<IPython.core.display.Javascript at 0x17275b70>"
       ]
      },
      {
       "javascript": [
        "$('div#f13a49d9-7b42-4a42-bc68-177f0d24dd2b').text('ETA:  0:00:00');"
       ],
       "metadata": {},
       "output_type": "display_data",
       "text": [
        "<IPython.core.display.Javascript at 0x1a889fd0>"
       ]
      },
      {
       "javascript": [
        "$('div#05937b91-e765-4e0e-870f-a875418e5522').text('483 of 2029');"
       ],
       "metadata": {},
       "output_type": "display_data",
       "text": [
        "<IPython.core.display.Javascript at 0x17275b70>"
       ]
      },
      {
       "javascript": [
        "$('div#75694a1b-ce5b-42c7-858e-51d1b658f9e1').text(' 23%');"
       ],
       "metadata": {},
       "output_type": "display_data",
       "text": [
        "<IPython.core.display.Javascript at 0x17275208>"
       ]
      },
      {
       "javascript": [
        "\n",
        "        var $myPB = $(\"div#7c809e90-c740-4dbb-b29d-d602b4a96152\")\n",
        "        if ($myPB.hasClass('ui-progressbar')) {\n",
        "            $myPB.progressbar('value', 483);\n",
        "        } else {\n",
        "            $myPB.progressbar({value: 0, max: 2029});\n",
        "        }\n",
        "        "
       ],
       "metadata": {},
       "output_type": "display_data",
       "text": [
        "<IPython.core.display.Javascript at 0x172753c8>"
       ]
      },
      {
       "javascript": [
        "$('div#f13a49d9-7b42-4a42-bc68-177f0d24dd2b').text('ETA:  0:00:00');"
       ],
       "metadata": {},
       "output_type": "display_data",
       "text": [
        "<IPython.core.display.Javascript at 0x1a889fd0>"
       ]
      },
      {
       "javascript": [
        "$('div#05937b91-e765-4e0e-870f-a875418e5522').text('504 of 2029');"
       ],
       "metadata": {},
       "output_type": "display_data",
       "text": [
        "<IPython.core.display.Javascript at 0x17275208>"
       ]
      },
      {
       "javascript": [
        "$('div#75694a1b-ce5b-42c7-858e-51d1b658f9e1').text(' 24%');"
       ],
       "metadata": {},
       "output_type": "display_data",
       "text": [
        "<IPython.core.display.Javascript at 0x172753c8>"
       ]
      },
      {
       "javascript": [
        "\n",
        "        var $myPB = $(\"div#7c809e90-c740-4dbb-b29d-d602b4a96152\")\n",
        "        if ($myPB.hasClass('ui-progressbar')) {\n",
        "            $myPB.progressbar('value', 504);\n",
        "        } else {\n",
        "            $myPB.progressbar({value: 0, max: 2029});\n",
        "        }\n",
        "        "
       ],
       "metadata": {},
       "output_type": "display_data",
       "text": [
        "<IPython.core.display.Javascript at 0x17275b70>"
       ]
      },
      {
       "javascript": [
        "$('div#f13a49d9-7b42-4a42-bc68-177f0d24dd2b').text('ETA:  0:00:00');"
       ],
       "metadata": {},
       "output_type": "display_data",
       "text": [
        "<IPython.core.display.Javascript at 0x1a889fd0>"
       ]
      },
      {
       "javascript": [
        "$('div#05937b91-e765-4e0e-870f-a875418e5522').text('525 of 2029');"
       ],
       "metadata": {},
       "output_type": "display_data",
       "text": [
        "<IPython.core.display.Javascript at 0x1a889b70>"
       ]
      },
      {
       "javascript": [
        "$('div#75694a1b-ce5b-42c7-858e-51d1b658f9e1').text(' 25%');"
       ],
       "metadata": {},
       "output_type": "display_data",
       "text": [
        "<IPython.core.display.Javascript at 0x1a889cf8>"
       ]
      },
      {
       "javascript": [
        "\n",
        "        var $myPB = $(\"div#7c809e90-c740-4dbb-b29d-d602b4a96152\")\n",
        "        if ($myPB.hasClass('ui-progressbar')) {\n",
        "            $myPB.progressbar('value', 525);\n",
        "        } else {\n",
        "            $myPB.progressbar({value: 0, max: 2029});\n",
        "        }\n",
        "        "
       ],
       "metadata": {},
       "output_type": "display_data",
       "text": [
        "<IPython.core.display.Javascript at 0x1a889160>"
       ]
      },
      {
       "javascript": [
        "$('div#f13a49d9-7b42-4a42-bc68-177f0d24dd2b').text('ETA:  0:00:00');"
       ],
       "metadata": {},
       "output_type": "display_data",
       "text": [
        "<IPython.core.display.Javascript at 0x1a889160>"
       ]
      },
      {
       "javascript": [
        "$('div#05937b91-e765-4e0e-870f-a875418e5522').text('546 of 2029');"
       ],
       "metadata": {},
       "output_type": "display_data",
       "text": [
        "<IPython.core.display.Javascript at 0x1a889cf8>"
       ]
      },
      {
       "javascript": [
        "$('div#75694a1b-ce5b-42c7-858e-51d1b658f9e1').text(' 26%');"
       ],
       "metadata": {},
       "output_type": "display_data",
       "text": [
        "<IPython.core.display.Javascript at 0x1a889b70>"
       ]
      },
      {
       "javascript": [
        "\n",
        "        var $myPB = $(\"div#7c809e90-c740-4dbb-b29d-d602b4a96152\")\n",
        "        if ($myPB.hasClass('ui-progressbar')) {\n",
        "            $myPB.progressbar('value', 546);\n",
        "        } else {\n",
        "            $myPB.progressbar({value: 0, max: 2029});\n",
        "        }\n",
        "        "
       ],
       "metadata": {},
       "output_type": "display_data",
       "text": [
        "<IPython.core.display.Javascript at 0x17275b70>"
       ]
      },
      {
       "javascript": [
        "$('div#f13a49d9-7b42-4a42-bc68-177f0d24dd2b').text('ETA:  0:00:00');"
       ],
       "metadata": {},
       "output_type": "display_data",
       "text": [
        "<IPython.core.display.Javascript at 0x17275b70>"
       ]
      },
      {
       "javascript": [
        "$('div#05937b91-e765-4e0e-870f-a875418e5522').text('567 of 2029');"
       ],
       "metadata": {},
       "output_type": "display_data",
       "text": [
        "<IPython.core.display.Javascript at 0x172753c8>"
       ]
      },
      {
       "javascript": [
        "$('div#75694a1b-ce5b-42c7-858e-51d1b658f9e1').text(' 27%');"
       ],
       "metadata": {},
       "output_type": "display_data",
       "text": [
        "<IPython.core.display.Javascript at 0x17275208>"
       ]
      },
      {
       "javascript": [
        "\n",
        "        var $myPB = $(\"div#7c809e90-c740-4dbb-b29d-d602b4a96152\")\n",
        "        if ($myPB.hasClass('ui-progressbar')) {\n",
        "            $myPB.progressbar('value', 567);\n",
        "        } else {\n",
        "            $myPB.progressbar({value: 0, max: 2029});\n",
        "        }\n",
        "        "
       ],
       "metadata": {},
       "output_type": "display_data",
       "text": [
        "<IPython.core.display.Javascript at 0x1a889160>"
       ]
      },
      {
       "javascript": [
        "$('div#f13a49d9-7b42-4a42-bc68-177f0d24dd2b').text('ETA:  0:00:00');"
       ],
       "metadata": {},
       "output_type": "display_data",
       "text": [
        "<IPython.core.display.Javascript at 0x1a889160>"
       ]
      },
      {
       "javascript": [
        "$('div#05937b91-e765-4e0e-870f-a875418e5522').text('588 of 2029');"
       ],
       "metadata": {},
       "output_type": "display_data",
       "text": [
        "<IPython.core.display.Javascript at 0x1a889b70>"
       ]
      },
      {
       "javascript": [
        "$('div#75694a1b-ce5b-42c7-858e-51d1b658f9e1').text(' 28%');"
       ],
       "metadata": {},
       "output_type": "display_data",
       "text": [
        "<IPython.core.display.Javascript at 0x1a889cf8>"
       ]
      },
      {
       "javascript": [
        "\n",
        "        var $myPB = $(\"div#7c809e90-c740-4dbb-b29d-d602b4a96152\")\n",
        "        if ($myPB.hasClass('ui-progressbar')) {\n",
        "            $myPB.progressbar('value', 588);\n",
        "        } else {\n",
        "            $myPB.progressbar({value: 0, max: 2029});\n",
        "        }\n",
        "        "
       ],
       "metadata": {},
       "output_type": "display_data",
       "text": [
        "<IPython.core.display.Javascript at 0x172753c8>"
       ]
      },
      {
       "javascript": [
        "$('div#f13a49d9-7b42-4a42-bc68-177f0d24dd2b').text('ETA:  0:00:00');"
       ],
       "metadata": {},
       "output_type": "display_data",
       "text": [
        "<IPython.core.display.Javascript at 0x172753c8>"
       ]
      },
      {
       "javascript": [
        "$('div#05937b91-e765-4e0e-870f-a875418e5522').text('609 of 2029');"
       ],
       "metadata": {},
       "output_type": "display_data",
       "text": [
        "<IPython.core.display.Javascript at 0x17275b70>"
       ]
      },
      {
       "javascript": [
        "$('div#75694a1b-ce5b-42c7-858e-51d1b658f9e1').text(' 30%');"
       ],
       "metadata": {},
       "output_type": "display_data",
       "text": [
        "<IPython.core.display.Javascript at 0x17275208>"
       ]
      },
      {
       "javascript": [
        "\n",
        "        var $myPB = $(\"div#7c809e90-c740-4dbb-b29d-d602b4a96152\")\n",
        "        if ($myPB.hasClass('ui-progressbar')) {\n",
        "            $myPB.progressbar('value', 609);\n",
        "        } else {\n",
        "            $myPB.progressbar({value: 0, max: 2029});\n",
        "        }\n",
        "        "
       ],
       "metadata": {},
       "output_type": "display_data",
       "text": [
        "<IPython.core.display.Javascript at 0x1a889160>"
       ]
      },
      {
       "javascript": [
        "$('div#f13a49d9-7b42-4a42-bc68-177f0d24dd2b').text('ETA:  0:00:00');"
       ],
       "metadata": {},
       "output_type": "display_data",
       "text": [
        "<IPython.core.display.Javascript at 0x1a889b70>"
       ]
      },
      {
       "javascript": [
        "$('div#05937b91-e765-4e0e-870f-a875418e5522').text('630 of 2029');"
       ],
       "metadata": {},
       "output_type": "display_data",
       "text": [
        "<IPython.core.display.Javascript at 0x1a889cf8>"
       ]
      },
      {
       "javascript": [
        "$('div#75694a1b-ce5b-42c7-858e-51d1b658f9e1').text(' 31%');"
       ],
       "metadata": {},
       "output_type": "display_data",
       "text": [
        "<IPython.core.display.Javascript at 0x17275208>"
       ]
      },
      {
       "javascript": [
        "\n",
        "        var $myPB = $(\"div#7c809e90-c740-4dbb-b29d-d602b4a96152\")\n",
        "        if ($myPB.hasClass('ui-progressbar')) {\n",
        "            $myPB.progressbar('value', 630);\n",
        "        } else {\n",
        "            $myPB.progressbar({value: 0, max: 2029});\n",
        "        }\n",
        "        "
       ],
       "metadata": {},
       "output_type": "display_data",
       "text": [
        "<IPython.core.display.Javascript at 0x17275208>"
       ]
      },
      {
       "javascript": [
        "$('div#f13a49d9-7b42-4a42-bc68-177f0d24dd2b').text('ETA:  0:00:00');"
       ],
       "metadata": {},
       "output_type": "display_data",
       "text": [
        "<IPython.core.display.Javascript at 0x17275b70>"
       ]
      },
      {
       "javascript": [
        "$('div#05937b91-e765-4e0e-870f-a875418e5522').text('651 of 2029');"
       ],
       "metadata": {},
       "output_type": "display_data",
       "text": [
        "<IPython.core.display.Javascript at 0x172753c8>"
       ]
      },
      {
       "javascript": [
        "$('div#75694a1b-ce5b-42c7-858e-51d1b658f9e1').text(' 32%');"
       ],
       "metadata": {},
       "output_type": "display_data",
       "text": [
        "<IPython.core.display.Javascript at 0x1a889cf8>"
       ]
      },
      {
       "javascript": [
        "\n",
        "        var $myPB = $(\"div#7c809e90-c740-4dbb-b29d-d602b4a96152\")\n",
        "        if ($myPB.hasClass('ui-progressbar')) {\n",
        "            $myPB.progressbar('value', 651);\n",
        "        } else {\n",
        "            $myPB.progressbar({value: 0, max: 2029});\n",
        "        }\n",
        "        "
       ],
       "metadata": {},
       "output_type": "display_data",
       "text": [
        "<IPython.core.display.Javascript at 0x172753c8>"
       ]
      },
      {
       "javascript": [
        "$('div#f13a49d9-7b42-4a42-bc68-177f0d24dd2b').text('ETA:  0:00:00');"
       ],
       "metadata": {},
       "output_type": "display_data",
       "text": [
        "<IPython.core.display.Javascript at 0x17275b70>"
       ]
      },
      {
       "javascript": [
        "$('div#05937b91-e765-4e0e-870f-a875418e5522').text('672 of 2029');"
       ],
       "metadata": {},
       "output_type": "display_data",
       "text": [
        "<IPython.core.display.Javascript at 0x17275208>"
       ]
      },
      {
       "javascript": [
        "$('div#75694a1b-ce5b-42c7-858e-51d1b658f9e1').text(' 33%');"
       ],
       "metadata": {},
       "output_type": "display_data",
       "text": [
        "<IPython.core.display.Javascript at 0x1a889cf8>"
       ]
      },
      {
       "javascript": [
        "\n",
        "        var $myPB = $(\"div#7c809e90-c740-4dbb-b29d-d602b4a96152\")\n",
        "        if ($myPB.hasClass('ui-progressbar')) {\n",
        "            $myPB.progressbar('value', 672);\n",
        "        } else {\n",
        "            $myPB.progressbar({value: 0, max: 2029});\n",
        "        }\n",
        "        "
       ],
       "metadata": {},
       "output_type": "display_data",
       "text": [
        "<IPython.core.display.Javascript at 0x17275b70>"
       ]
      },
      {
       "javascript": [
        "$('div#f13a49d9-7b42-4a42-bc68-177f0d24dd2b').text('ETA:  0:00:00');"
       ],
       "metadata": {},
       "output_type": "display_data",
       "text": [
        "<IPython.core.display.Javascript at 0x17275208>"
       ]
      },
      {
       "javascript": [
        "$('div#05937b91-e765-4e0e-870f-a875418e5522').text('693 of 2029');"
       ],
       "metadata": {},
       "output_type": "display_data",
       "text": [
        "<IPython.core.display.Javascript at 0x172753c8>"
       ]
      },
      {
       "javascript": [
        "$('div#75694a1b-ce5b-42c7-858e-51d1b658f9e1').text(' 34%');"
       ],
       "metadata": {},
       "output_type": "display_data",
       "text": [
        "<IPython.core.display.Javascript at 0x172753c8>"
       ]
      },
      {
       "javascript": [
        "\n",
        "        var $myPB = $(\"div#7c809e90-c740-4dbb-b29d-d602b4a96152\")\n",
        "        if ($myPB.hasClass('ui-progressbar')) {\n",
        "            $myPB.progressbar('value', 693);\n",
        "        } else {\n",
        "            $myPB.progressbar({value: 0, max: 2029});\n",
        "        }\n",
        "        "
       ],
       "metadata": {},
       "output_type": "display_data",
       "text": [
        "<IPython.core.display.Javascript at 0x17275208>"
       ]
      },
      {
       "javascript": [
        "$('div#f13a49d9-7b42-4a42-bc68-177f0d24dd2b').text('ETA:  0:00:00');"
       ],
       "metadata": {},
       "output_type": "display_data",
       "text": [
        "<IPython.core.display.Javascript at 0x17275b70>"
       ]
      },
      {
       "javascript": [
        "$('div#05937b91-e765-4e0e-870f-a875418e5522').text('714 of 2029');"
       ],
       "metadata": {},
       "output_type": "display_data",
       "text": [
        "<IPython.core.display.Javascript at 0x1a889cf8>"
       ]
      },
      {
       "javascript": [
        "$('div#75694a1b-ce5b-42c7-858e-51d1b658f9e1').text(' 35%');"
       ],
       "metadata": {},
       "output_type": "display_data",
       "text": [
        "<IPython.core.display.Javascript at 0x17275b70>"
       ]
      },
      {
       "javascript": [
        "\n",
        "        var $myPB = $(\"div#7c809e90-c740-4dbb-b29d-d602b4a96152\")\n",
        "        if ($myPB.hasClass('ui-progressbar')) {\n",
        "            $myPB.progressbar('value', 714);\n",
        "        } else {\n",
        "            $myPB.progressbar({value: 0, max: 2029});\n",
        "        }\n",
        "        "
       ],
       "metadata": {},
       "output_type": "display_data",
       "text": [
        "<IPython.core.display.Javascript at 0x17275208>"
       ]
      },
      {
       "javascript": [
        "$('div#f13a49d9-7b42-4a42-bc68-177f0d24dd2b').text('ETA:  0:00:00');"
       ],
       "metadata": {},
       "output_type": "display_data",
       "text": [
        "<IPython.core.display.Javascript at 0x172753c8>"
       ]
      },
      {
       "javascript": [
        "$('div#05937b91-e765-4e0e-870f-a875418e5522').text('735 of 2029');"
       ],
       "metadata": {},
       "output_type": "display_data",
       "text": [
        "<IPython.core.display.Javascript at 0x1a889cf8>"
       ]
      },
      {
       "javascript": [
        "$('div#75694a1b-ce5b-42c7-858e-51d1b658f9e1').text(' 36%');"
       ],
       "metadata": {},
       "output_type": "display_data",
       "text": [
        "<IPython.core.display.Javascript at 0x1a889cf8>"
       ]
      },
      {
       "javascript": [
        "\n",
        "        var $myPB = $(\"div#7c809e90-c740-4dbb-b29d-d602b4a96152\")\n",
        "        if ($myPB.hasClass('ui-progressbar')) {\n",
        "            $myPB.progressbar('value', 735);\n",
        "        } else {\n",
        "            $myPB.progressbar({value: 0, max: 2029});\n",
        "        }\n",
        "        "
       ],
       "metadata": {},
       "output_type": "display_data",
       "text": [
        "<IPython.core.display.Javascript at 0x1a889b70>"
       ]
      },
      {
       "javascript": [
        "$('div#f13a49d9-7b42-4a42-bc68-177f0d24dd2b').text('ETA:  0:00:00');"
       ],
       "metadata": {},
       "output_type": "display_data",
       "text": [
        "<IPython.core.display.Javascript at 0x1a889fd0>"
       ]
      },
      {
       "javascript": [
        "$('div#05937b91-e765-4e0e-870f-a875418e5522').text('756 of 2029');"
       ],
       "metadata": {},
       "output_type": "display_data",
       "text": [
        "<IPython.core.display.Javascript at 0x1a889160>"
       ]
      },
      {
       "javascript": [
        "$('div#75694a1b-ce5b-42c7-858e-51d1b658f9e1').text(' 37%');"
       ],
       "metadata": {},
       "output_type": "display_data",
       "text": [
        "<IPython.core.display.Javascript at 0x1a889fd0>"
       ]
      },
      {
       "javascript": [
        "\n",
        "        var $myPB = $(\"div#7c809e90-c740-4dbb-b29d-d602b4a96152\")\n",
        "        if ($myPB.hasClass('ui-progressbar')) {\n",
        "            $myPB.progressbar('value', 756);\n",
        "        } else {\n",
        "            $myPB.progressbar({value: 0, max: 2029});\n",
        "        }\n",
        "        "
       ],
       "metadata": {},
       "output_type": "display_data",
       "text": [
        "<IPython.core.display.Javascript at 0x1a889b70>"
       ]
      },
      {
       "javascript": [
        "$('div#f13a49d9-7b42-4a42-bc68-177f0d24dd2b').text('ETA:  0:00:00');"
       ],
       "metadata": {},
       "output_type": "display_data",
       "text": [
        "<IPython.core.display.Javascript at 0x1a889cf8>"
       ]
      },
      {
       "javascript": [
        "$('div#05937b91-e765-4e0e-870f-a875418e5522').text('777 of 2029');"
       ],
       "metadata": {},
       "output_type": "display_data",
       "text": [
        "<IPython.core.display.Javascript at 0x1a889cf8>"
       ]
      },
      {
       "javascript": [
        "$('div#75694a1b-ce5b-42c7-858e-51d1b658f9e1').text(' 38%');"
       ],
       "metadata": {},
       "output_type": "display_data",
       "text": [
        "<IPython.core.display.Javascript at 0x1a889b70>"
       ]
      },
      {
       "javascript": [
        "\n",
        "        var $myPB = $(\"div#7c809e90-c740-4dbb-b29d-d602b4a96152\")\n",
        "        if ($myPB.hasClass('ui-progressbar')) {\n",
        "            $myPB.progressbar('value', 777);\n",
        "        } else {\n",
        "            $myPB.progressbar({value: 0, max: 2029});\n",
        "        }\n",
        "        "
       ],
       "metadata": {},
       "output_type": "display_data",
       "text": [
        "<IPython.core.display.Javascript at 0x1a889160>"
       ]
      },
      {
       "javascript": [
        "$('div#f13a49d9-7b42-4a42-bc68-177f0d24dd2b').text('ETA:  0:00:00');"
       ],
       "metadata": {},
       "output_type": "display_data",
       "text": [
        "<IPython.core.display.Javascript at 0x1a889fd0>"
       ]
      },
      {
       "javascript": [
        "$('div#05937b91-e765-4e0e-870f-a875418e5522').text('798 of 2029');"
       ],
       "metadata": {},
       "output_type": "display_data",
       "text": [
        "<IPython.core.display.Javascript at 0x1a889fd0>"
       ]
      },
      {
       "javascript": [
        "$('div#75694a1b-ce5b-42c7-858e-51d1b658f9e1').text(' 39%');"
       ],
       "metadata": {},
       "output_type": "display_data",
       "text": [
        "<IPython.core.display.Javascript at 0x1a889160>"
       ]
      },
      {
       "javascript": [
        "\n",
        "        var $myPB = $(\"div#7c809e90-c740-4dbb-b29d-d602b4a96152\")\n",
        "        if ($myPB.hasClass('ui-progressbar')) {\n",
        "            $myPB.progressbar('value', 798);\n",
        "        } else {\n",
        "            $myPB.progressbar({value: 0, max: 2029});\n",
        "        }\n",
        "        "
       ],
       "metadata": {},
       "output_type": "display_data",
       "text": [
        "<IPython.core.display.Javascript at 0x1a889cf8>"
       ]
      },
      {
       "javascript": [
        "$('div#f13a49d9-7b42-4a42-bc68-177f0d24dd2b').text('ETA:  0:00:00');"
       ],
       "metadata": {},
       "output_type": "display_data",
       "text": [
        "<IPython.core.display.Javascript at 0x1a889b70>"
       ]
      },
      {
       "javascript": [
        "$('div#05937b91-e765-4e0e-870f-a875418e5522').text('819 of 2029');"
       ],
       "metadata": {},
       "output_type": "display_data",
       "text": [
        "<IPython.core.display.Javascript at 0x1a889b70>"
       ]
      },
      {
       "javascript": [
        "$('div#75694a1b-ce5b-42c7-858e-51d1b658f9e1').text(' 40%');"
       ],
       "metadata": {},
       "output_type": "display_data",
       "text": [
        "<IPython.core.display.Javascript at 0x1a889cf8>"
       ]
      },
      {
       "javascript": [
        "\n",
        "        var $myPB = $(\"div#7c809e90-c740-4dbb-b29d-d602b4a96152\")\n",
        "        if ($myPB.hasClass('ui-progressbar')) {\n",
        "            $myPB.progressbar('value', 819);\n",
        "        } else {\n",
        "            $myPB.progressbar({value: 0, max: 2029});\n",
        "        }\n",
        "        "
       ],
       "metadata": {},
       "output_type": "display_data",
       "text": [
        "<IPython.core.display.Javascript at 0x1a889fd0>"
       ]
      },
      {
       "javascript": [
        "$('div#f13a49d9-7b42-4a42-bc68-177f0d24dd2b').text('ETA:  0:00:00');"
       ],
       "metadata": {},
       "output_type": "display_data",
       "text": [
        "<IPython.core.display.Javascript at 0x1a889160>"
       ]
      },
      {
       "javascript": [
        "$('div#05937b91-e765-4e0e-870f-a875418e5522').text('840 of 2029');"
       ],
       "metadata": {},
       "output_type": "display_data",
       "text": [
        "<IPython.core.display.Javascript at 0x172753c8>"
       ]
      },
      {
       "javascript": [
        "$('div#75694a1b-ce5b-42c7-858e-51d1b658f9e1').text(' 41%');"
       ],
       "metadata": {},
       "output_type": "display_data",
       "text": [
        "<IPython.core.display.Javascript at 0x17275b70>"
       ]
      },
      {
       "javascript": [
        "\n",
        "        var $myPB = $(\"div#7c809e90-c740-4dbb-b29d-d602b4a96152\")\n",
        "        if ($myPB.hasClass('ui-progressbar')) {\n",
        "            $myPB.progressbar('value', 840);\n",
        "        } else {\n",
        "            $myPB.progressbar({value: 0, max: 2029});\n",
        "        }\n",
        "        "
       ],
       "metadata": {},
       "output_type": "display_data",
       "text": [
        "<IPython.core.display.Javascript at 0x17275208>"
       ]
      },
      {
       "javascript": [
        "$('div#f13a49d9-7b42-4a42-bc68-177f0d24dd2b').text('ETA:  0:00:00');"
       ],
       "metadata": {},
       "output_type": "display_data",
       "text": [
        "<IPython.core.display.Javascript at 0x17275208>"
       ]
      },
      {
       "javascript": [
        "$('div#05937b91-e765-4e0e-870f-a875418e5522').text('861 of 2029');"
       ],
       "metadata": {},
       "output_type": "display_data",
       "text": [
        "<IPython.core.display.Javascript at 0x17275b70>"
       ]
      },
      {
       "javascript": [
        "$('div#75694a1b-ce5b-42c7-858e-51d1b658f9e1').text(' 42%');"
       ],
       "metadata": {},
       "output_type": "display_data",
       "text": [
        "<IPython.core.display.Javascript at 0x172753c8>"
       ]
      },
      {
       "javascript": [
        "\n",
        "        var $myPB = $(\"div#7c809e90-c740-4dbb-b29d-d602b4a96152\")\n",
        "        if ($myPB.hasClass('ui-progressbar')) {\n",
        "            $myPB.progressbar('value', 861);\n",
        "        } else {\n",
        "            $myPB.progressbar({value: 0, max: 2029});\n",
        "        }\n",
        "        "
       ],
       "metadata": {},
       "output_type": "display_data",
       "text": [
        "<IPython.core.display.Javascript at 0x1a889fd0>"
       ]
      },
      {
       "javascript": [
        "$('div#f13a49d9-7b42-4a42-bc68-177f0d24dd2b').text('ETA:  0:00:00');"
       ],
       "metadata": {},
       "output_type": "display_data",
       "text": [
        "<IPython.core.display.Javascript at 0x172753c8>"
       ]
      },
      {
       "javascript": [
        "$('div#05937b91-e765-4e0e-870f-a875418e5522').text('882 of 2029');"
       ],
       "metadata": {},
       "output_type": "display_data",
       "text": [
        "<IPython.core.display.Javascript at 0x17275b70>"
       ]
      },
      {
       "javascript": [
        "$('div#75694a1b-ce5b-42c7-858e-51d1b658f9e1').text(' 43%');"
       ],
       "metadata": {},
       "output_type": "display_data",
       "text": [
        "<IPython.core.display.Javascript at 0x17275208>"
       ]
      },
      {
       "javascript": [
        "\n",
        "        var $myPB = $(\"div#7c809e90-c740-4dbb-b29d-d602b4a96152\")\n",
        "        if ($myPB.hasClass('ui-progressbar')) {\n",
        "            $myPB.progressbar('value', 882);\n",
        "        } else {\n",
        "            $myPB.progressbar({value: 0, max: 2029});\n",
        "        }\n",
        "        "
       ],
       "metadata": {},
       "output_type": "display_data",
       "text": [
        "<IPython.core.display.Javascript at 0x1a889fd0>"
       ]
      },
      {
       "javascript": [
        "$('div#f13a49d9-7b42-4a42-bc68-177f0d24dd2b').text('ETA:  0:00:00');"
       ],
       "metadata": {},
       "output_type": "display_data",
       "text": [
        "<IPython.core.display.Javascript at 0x17275208>"
       ]
      },
      {
       "javascript": [
        "$('div#05937b91-e765-4e0e-870f-a875418e5522').text('903 of 2029');"
       ],
       "metadata": {},
       "output_type": "display_data",
       "text": [
        "<IPython.core.display.Javascript at 0x17275b70>"
       ]
      },
      {
       "javascript": [
        "$('div#75694a1b-ce5b-42c7-858e-51d1b658f9e1').text(' 44%');"
       ],
       "metadata": {},
       "output_type": "display_data",
       "text": [
        "<IPython.core.display.Javascript at 0x172753c8>"
       ]
      },
      {
       "javascript": [
        "\n",
        "        var $myPB = $(\"div#7c809e90-c740-4dbb-b29d-d602b4a96152\")\n",
        "        if ($myPB.hasClass('ui-progressbar')) {\n",
        "            $myPB.progressbar('value', 903);\n",
        "        } else {\n",
        "            $myPB.progressbar({value: 0, max: 2029});\n",
        "        }\n",
        "        "
       ],
       "metadata": {},
       "output_type": "display_data",
       "text": [
        "<IPython.core.display.Javascript at 0x1a889160>"
       ]
      },
      {
       "javascript": [
        "$('div#f13a49d9-7b42-4a42-bc68-177f0d24dd2b').text('ETA:  0:00:00');"
       ],
       "metadata": {},
       "output_type": "display_data",
       "text": [
        "<IPython.core.display.Javascript at 0x17275b70>"
       ]
      },
      {
       "javascript": [
        "$('div#05937b91-e765-4e0e-870f-a875418e5522').text('924 of 2029');"
       ],
       "metadata": {},
       "output_type": "display_data",
       "text": [
        "<IPython.core.display.Javascript at 0x172753c8>"
       ]
      },
      {
       "javascript": [
        "$('div#75694a1b-ce5b-42c7-858e-51d1b658f9e1').text(' 45%');"
       ],
       "metadata": {},
       "output_type": "display_data",
       "text": [
        "<IPython.core.display.Javascript at 0x17275208>"
       ]
      },
      {
       "javascript": [
        "\n",
        "        var $myPB = $(\"div#7c809e90-c740-4dbb-b29d-d602b4a96152\")\n",
        "        if ($myPB.hasClass('ui-progressbar')) {\n",
        "            $myPB.progressbar('value', 924);\n",
        "        } else {\n",
        "            $myPB.progressbar({value: 0, max: 2029});\n",
        "        }\n",
        "        "
       ],
       "metadata": {},
       "output_type": "display_data",
       "text": [
        "<IPython.core.display.Javascript at 0x17275208>"
       ]
      },
      {
       "javascript": [
        "$('div#f13a49d9-7b42-4a42-bc68-177f0d24dd2b').text('ETA:  0:00:00');"
       ],
       "metadata": {},
       "output_type": "display_data",
       "text": [
        "<IPython.core.display.Javascript at 0x172753c8>"
       ]
      },
      {
       "javascript": [
        "$('div#05937b91-e765-4e0e-870f-a875418e5522').text('945 of 2029');"
       ],
       "metadata": {},
       "output_type": "display_data",
       "text": [
        "<IPython.core.display.Javascript at 0x17275b70>"
       ]
      },
      {
       "javascript": [
        "$('div#75694a1b-ce5b-42c7-858e-51d1b658f9e1').text(' 46%');"
       ],
       "metadata": {},
       "output_type": "display_data",
       "text": [
        "<IPython.core.display.Javascript at 0x1a889160>"
       ]
      },
      {
       "javascript": [
        "\n",
        "        var $myPB = $(\"div#7c809e90-c740-4dbb-b29d-d602b4a96152\")\n",
        "        if ($myPB.hasClass('ui-progressbar')) {\n",
        "            $myPB.progressbar('value', 945);\n",
        "        } else {\n",
        "            $myPB.progressbar({value: 0, max: 2029});\n",
        "        }\n",
        "        "
       ],
       "metadata": {},
       "output_type": "display_data",
       "text": [
        "<IPython.core.display.Javascript at 0x17275b70>"
       ]
      },
      {
       "javascript": [
        "$('div#f13a49d9-7b42-4a42-bc68-177f0d24dd2b').text('ETA:  0:00:00');"
       ],
       "metadata": {},
       "output_type": "display_data",
       "text": [
        "<IPython.core.display.Javascript at 0x172753c8>"
       ]
      },
      {
       "javascript": [
        "$('div#05937b91-e765-4e0e-870f-a875418e5522').text('966 of 2029');"
       ],
       "metadata": {},
       "output_type": "display_data",
       "text": [
        "<IPython.core.display.Javascript at 0x17275208>"
       ]
      },
      {
       "javascript": [
        "$('div#75694a1b-ce5b-42c7-858e-51d1b658f9e1').text(' 47%');"
       ],
       "metadata": {},
       "output_type": "display_data",
       "text": [
        "<IPython.core.display.Javascript at 0x1a889160>"
       ]
      },
      {
       "javascript": [
        "\n",
        "        var $myPB = $(\"div#7c809e90-c740-4dbb-b29d-d602b4a96152\")\n",
        "        if ($myPB.hasClass('ui-progressbar')) {\n",
        "            $myPB.progressbar('value', 966);\n",
        "        } else {\n",
        "            $myPB.progressbar({value: 0, max: 2029});\n",
        "        }\n",
        "        "
       ],
       "metadata": {},
       "output_type": "display_data",
       "text": [
        "<IPython.core.display.Javascript at 0x17275208>"
       ]
      },
      {
       "javascript": [
        "$('div#f13a49d9-7b42-4a42-bc68-177f0d24dd2b').text('ETA:  0:00:00');"
       ],
       "metadata": {},
       "output_type": "display_data",
       "text": [
        "<IPython.core.display.Javascript at 0x172753c8>"
       ]
      },
      {
       "javascript": [
        "$('div#05937b91-e765-4e0e-870f-a875418e5522').text('987 of 2029');"
       ],
       "metadata": {},
       "output_type": "display_data",
       "text": [
        "<IPython.core.display.Javascript at 0x17275b70>"
       ]
      },
      {
       "javascript": [
        "$('div#75694a1b-ce5b-42c7-858e-51d1b658f9e1').text(' 48%');"
       ],
       "metadata": {},
       "output_type": "display_data",
       "text": [
        "<IPython.core.display.Javascript at 0x1a889160>"
       ]
      },
      {
       "javascript": [
        "\n",
        "        var $myPB = $(\"div#7c809e90-c740-4dbb-b29d-d602b4a96152\")\n",
        "        if ($myPB.hasClass('ui-progressbar')) {\n",
        "            $myPB.progressbar('value', 987);\n",
        "        } else {\n",
        "            $myPB.progressbar({value: 0, max: 2029});\n",
        "        }\n",
        "        "
       ],
       "metadata": {},
       "output_type": "display_data",
       "text": [
        "<IPython.core.display.Javascript at 0x172753c8>"
       ]
      },
      {
       "javascript": [
        "$('div#f13a49d9-7b42-4a42-bc68-177f0d24dd2b').text('ETA:  0:00:00');"
       ],
       "metadata": {},
       "output_type": "display_data",
       "text": [
        "<IPython.core.display.Javascript at 0x17275b70>"
       ]
      },
      {
       "javascript": [
        "$('div#05937b91-e765-4e0e-870f-a875418e5522').text('1008 of 2029');"
       ],
       "metadata": {},
       "output_type": "display_data",
       "text": [
        "<IPython.core.display.Javascript at 0x17275208>"
       ]
      },
      {
       "javascript": [
        "$('div#75694a1b-ce5b-42c7-858e-51d1b658f9e1').text(' 49%');"
       ],
       "metadata": {},
       "output_type": "display_data",
       "text": [
        "<IPython.core.display.Javascript at 0x17275208>"
       ]
      },
      {
       "javascript": [
        "\n",
        "        var $myPB = $(\"div#7c809e90-c740-4dbb-b29d-d602b4a96152\")\n",
        "        if ($myPB.hasClass('ui-progressbar')) {\n",
        "            $myPB.progressbar('value', 1008);\n",
        "        } else {\n",
        "            $myPB.progressbar({value: 0, max: 2029});\n",
        "        }\n",
        "        "
       ],
       "metadata": {},
       "output_type": "display_data",
       "text": [
        "<IPython.core.display.Javascript at 0x17275b70>"
       ]
      },
      {
       "javascript": [
        "$('div#f13a49d9-7b42-4a42-bc68-177f0d24dd2b').text('ETA:  0:00:00');"
       ],
       "metadata": {},
       "output_type": "display_data",
       "text": [
        "<IPython.core.display.Javascript at 0x172753c8>"
       ]
      },
      {
       "javascript": [
        "$('div#05937b91-e765-4e0e-870f-a875418e5522').text('1029 of 2029');"
       ],
       "metadata": {},
       "output_type": "display_data",
       "text": [
        "<IPython.core.display.Javascript at 0x1a889160>"
       ]
      },
      {
       "javascript": [
        "$('div#75694a1b-ce5b-42c7-858e-51d1b658f9e1').text(' 50%');"
       ],
       "metadata": {},
       "output_type": "display_data",
       "text": [
        "<IPython.core.display.Javascript at 0x172753c8>"
       ]
      },
      {
       "javascript": [
        "\n",
        "        var $myPB = $(\"div#7c809e90-c740-4dbb-b29d-d602b4a96152\")\n",
        "        if ($myPB.hasClass('ui-progressbar')) {\n",
        "            $myPB.progressbar('value', 1029);\n",
        "        } else {\n",
        "            $myPB.progressbar({value: 0, max: 2029});\n",
        "        }\n",
        "        "
       ],
       "metadata": {},
       "output_type": "display_data",
       "text": [
        "<IPython.core.display.Javascript at 0x17275b70>"
       ]
      },
      {
       "javascript": [
        "$('div#f13a49d9-7b42-4a42-bc68-177f0d24dd2b').text('ETA:  0:00:00');"
       ],
       "metadata": {},
       "output_type": "display_data",
       "text": [
        "<IPython.core.display.Javascript at 0x17275208>"
       ]
      },
      {
       "javascript": [
        "$('div#05937b91-e765-4e0e-870f-a875418e5522').text('1050 of 2029');"
       ],
       "metadata": {},
       "output_type": "display_data",
       "text": [
        "<IPython.core.display.Javascript at 0x1a889160>"
       ]
      },
      {
       "javascript": [
        "$('div#75694a1b-ce5b-42c7-858e-51d1b658f9e1').text(' 51%');"
       ],
       "metadata": {},
       "output_type": "display_data",
       "text": [
        "<IPython.core.display.Javascript at 0x17275b70>"
       ]
      },
      {
       "javascript": [
        "\n",
        "        var $myPB = $(\"div#7c809e90-c740-4dbb-b29d-d602b4a96152\")\n",
        "        if ($myPB.hasClass('ui-progressbar')) {\n",
        "            $myPB.progressbar('value', 1050);\n",
        "        } else {\n",
        "            $myPB.progressbar({value: 0, max: 2029});\n",
        "        }\n",
        "        "
       ],
       "metadata": {},
       "output_type": "display_data",
       "text": [
        "<IPython.core.display.Javascript at 0x17275208>"
       ]
      },
      {
       "javascript": [
        "$('div#f13a49d9-7b42-4a42-bc68-177f0d24dd2b').text('ETA:  0:00:00');"
       ],
       "metadata": {},
       "output_type": "display_data",
       "text": [
        "<IPython.core.display.Javascript at 0x172753c8>"
       ]
      },
      {
       "javascript": [
        "$('div#05937b91-e765-4e0e-870f-a875418e5522').text('1071 of 2029');"
       ],
       "metadata": {},
       "output_type": "display_data",
       "text": [
        "<IPython.core.display.Javascript at 0x1a889160>"
       ]
      },
      {
       "javascript": [
        "$('div#75694a1b-ce5b-42c7-858e-51d1b658f9e1').text(' 52%');"
       ],
       "metadata": {},
       "output_type": "display_data",
       "text": [
        "<IPython.core.display.Javascript at 0x17275b70>"
       ]
      },
      {
       "javascript": [
        "\n",
        "        var $myPB = $(\"div#7c809e90-c740-4dbb-b29d-d602b4a96152\")\n",
        "        if ($myPB.hasClass('ui-progressbar')) {\n",
        "            $myPB.progressbar('value', 1071);\n",
        "        } else {\n",
        "            $myPB.progressbar({value: 0, max: 2029});\n",
        "        }\n",
        "        "
       ],
       "metadata": {},
       "output_type": "display_data",
       "text": [
        "<IPython.core.display.Javascript at 0x17275208>"
       ]
      },
      {
       "javascript": [
        "$('div#f13a49d9-7b42-4a42-bc68-177f0d24dd2b').text('ETA:  0:00:00');"
       ],
       "metadata": {},
       "output_type": "display_data",
       "text": [
        "<IPython.core.display.Javascript at 0x172753c8>"
       ]
      },
      {
       "javascript": [
        "$('div#05937b91-e765-4e0e-870f-a875418e5522').text('1092 of 2029');"
       ],
       "metadata": {},
       "output_type": "display_data",
       "text": [
        "<IPython.core.display.Javascript at 0x1a889b70>"
       ]
      },
      {
       "javascript": [
        "$('div#75694a1b-ce5b-42c7-858e-51d1b658f9e1').text(' 53%');"
       ],
       "metadata": {},
       "output_type": "display_data",
       "text": [
        "<IPython.core.display.Javascript at 0x1a889cf8>"
       ]
      },
      {
       "javascript": [
        "\n",
        "        var $myPB = $(\"div#7c809e90-c740-4dbb-b29d-d602b4a96152\")\n",
        "        if ($myPB.hasClass('ui-progressbar')) {\n",
        "            $myPB.progressbar('value', 1092);\n",
        "        } else {\n",
        "            $myPB.progressbar({value: 0, max: 2029});\n",
        "        }\n",
        "        "
       ],
       "metadata": {},
       "output_type": "display_data",
       "text": [
        "<IPython.core.display.Javascript at 0x1a889fd0>"
       ]
      },
      {
       "javascript": [
        "$('div#f13a49d9-7b42-4a42-bc68-177f0d24dd2b').text('ETA:  0:00:00');"
       ],
       "metadata": {},
       "output_type": "display_data",
       "text": [
        "<IPython.core.display.Javascript at 0x17275b70>"
       ]
      },
      {
       "javascript": [
        "$('div#05937b91-e765-4e0e-870f-a875418e5522').text('1113 of 2029');"
       ],
       "metadata": {},
       "output_type": "display_data",
       "text": [
        "<IPython.core.display.Javascript at 0x17275b70>"
       ]
      },
      {
       "javascript": [
        "$('div#75694a1b-ce5b-42c7-858e-51d1b658f9e1').text(' 54%');"
       ],
       "metadata": {},
       "output_type": "display_data",
       "text": [
        "<IPython.core.display.Javascript at 0x17275208>"
       ]
      },
      {
       "javascript": [
        "\n",
        "        var $myPB = $(\"div#7c809e90-c740-4dbb-b29d-d602b4a96152\")\n",
        "        if ($myPB.hasClass('ui-progressbar')) {\n",
        "            $myPB.progressbar('value', 1113);\n",
        "        } else {\n",
        "            $myPB.progressbar({value: 0, max: 2029});\n",
        "        }\n",
        "        "
       ],
       "metadata": {},
       "output_type": "display_data",
       "text": [
        "<IPython.core.display.Javascript at 0x172753c8>"
       ]
      },
      {
       "javascript": [
        "$('div#f13a49d9-7b42-4a42-bc68-177f0d24dd2b').text('ETA:  0:00:00');"
       ],
       "metadata": {},
       "output_type": "display_data",
       "text": [
        "<IPython.core.display.Javascript at 0x1a889fd0>"
       ]
      },
      {
       "javascript": [
        "$('div#05937b91-e765-4e0e-870f-a875418e5522').text('1134 of 2029');"
       ],
       "metadata": {},
       "output_type": "display_data",
       "text": [
        "<IPython.core.display.Javascript at 0x172753c8>"
       ]
      },
      {
       "javascript": [
        "$('div#75694a1b-ce5b-42c7-858e-51d1b658f9e1').text(' 55%');"
       ],
       "metadata": {},
       "output_type": "display_data",
       "text": [
        "<IPython.core.display.Javascript at 0x17275208>"
       ]
      },
      {
       "javascript": [
        "\n",
        "        var $myPB = $(\"div#7c809e90-c740-4dbb-b29d-d602b4a96152\")\n",
        "        if ($myPB.hasClass('ui-progressbar')) {\n",
        "            $myPB.progressbar('value', 1134);\n",
        "        } else {\n",
        "            $myPB.progressbar({value: 0, max: 2029});\n",
        "        }\n",
        "        "
       ],
       "metadata": {},
       "output_type": "display_data",
       "text": [
        "<IPython.core.display.Javascript at 0x17275b70>"
       ]
      },
      {
       "javascript": [
        "$('div#f13a49d9-7b42-4a42-bc68-177f0d24dd2b').text('ETA:  0:00:00');"
       ],
       "metadata": {},
       "output_type": "display_data",
       "text": [
        "<IPython.core.display.Javascript at 0x1a889fd0>"
       ]
      },
      {
       "javascript": [
        "$('div#05937b91-e765-4e0e-870f-a875418e5522').text('1155 of 2029');"
       ],
       "metadata": {},
       "output_type": "display_data",
       "text": [
        "<IPython.core.display.Javascript at 0x17275b70>"
       ]
      },
      {
       "javascript": [
        "$('div#75694a1b-ce5b-42c7-858e-51d1b658f9e1').text(' 56%');"
       ],
       "metadata": {},
       "output_type": "display_data",
       "text": [
        "<IPython.core.display.Javascript at 0x17275208>"
       ]
      },
      {
       "javascript": [
        "\n",
        "        var $myPB = $(\"div#7c809e90-c740-4dbb-b29d-d602b4a96152\")\n",
        "        if ($myPB.hasClass('ui-progressbar')) {\n",
        "            $myPB.progressbar('value', 1155);\n",
        "        } else {\n",
        "            $myPB.progressbar({value: 0, max: 2029});\n",
        "        }\n",
        "        "
       ],
       "metadata": {},
       "output_type": "display_data",
       "text": [
        "<IPython.core.display.Javascript at 0x172753c8>"
       ]
      },
      {
       "javascript": [
        "$('div#f13a49d9-7b42-4a42-bc68-177f0d24dd2b').text('ETA:  0:00:00');"
       ],
       "metadata": {},
       "output_type": "display_data",
       "text": [
        "<IPython.core.display.Javascript at 0x1a889fd0>"
       ]
      },
      {
       "javascript": [
        "$('div#05937b91-e765-4e0e-870f-a875418e5522').text('1176 of 2029');"
       ],
       "metadata": {},
       "output_type": "display_data",
       "text": [
        "<IPython.core.display.Javascript at 0x1a889fd0>"
       ]
      },
      {
       "javascript": [
        "$('div#75694a1b-ce5b-42c7-858e-51d1b658f9e1').text(' 57%');"
       ],
       "metadata": {},
       "output_type": "display_data",
       "text": [
        "<IPython.core.display.Javascript at 0x1a889cf8>"
       ]
      },
      {
       "javascript": [
        "\n",
        "        var $myPB = $(\"div#7c809e90-c740-4dbb-b29d-d602b4a96152\")\n",
        "        if ($myPB.hasClass('ui-progressbar')) {\n",
        "            $myPB.progressbar('value', 1176);\n",
        "        } else {\n",
        "            $myPB.progressbar({value: 0, max: 2029});\n",
        "        }\n",
        "        "
       ],
       "metadata": {},
       "output_type": "display_data",
       "text": [
        "<IPython.core.display.Javascript at 0x1a889160>"
       ]
      },
      {
       "javascript": [
        "$('div#f13a49d9-7b42-4a42-bc68-177f0d24dd2b').text('ETA:  0:00:00');"
       ],
       "metadata": {},
       "output_type": "display_data",
       "text": [
        "<IPython.core.display.Javascript at 0x1a889160>"
       ]
      },
      {
       "javascript": [
        "$('div#05937b91-e765-4e0e-870f-a875418e5522').text('1197 of 2029');"
       ],
       "metadata": {},
       "output_type": "display_data",
       "text": [
        "<IPython.core.display.Javascript at 0x1a889b70>"
       ]
      },
      {
       "javascript": [
        "$('div#75694a1b-ce5b-42c7-858e-51d1b658f9e1').text(' 58%');"
       ],
       "metadata": {},
       "output_type": "display_data",
       "text": [
        "<IPython.core.display.Javascript at 0x1a889fd0>"
       ]
      },
      {
       "javascript": [
        "\n",
        "        var $myPB = $(\"div#7c809e90-c740-4dbb-b29d-d602b4a96152\")\n",
        "        if ($myPB.hasClass('ui-progressbar')) {\n",
        "            $myPB.progressbar('value', 1197);\n",
        "        } else {\n",
        "            $myPB.progressbar({value: 0, max: 2029});\n",
        "        }\n",
        "        "
       ],
       "metadata": {},
       "output_type": "display_data",
       "text": [
        "<IPython.core.display.Javascript at 0x1a889cf8>"
       ]
      },
      {
       "javascript": [
        "$('div#f13a49d9-7b42-4a42-bc68-177f0d24dd2b').text('ETA:  0:00:00');"
       ],
       "metadata": {},
       "output_type": "display_data",
       "text": [
        "<IPython.core.display.Javascript at 0x1a889cf8>"
       ]
      },
      {
       "javascript": [
        "$('div#05937b91-e765-4e0e-870f-a875418e5522').text('1218 of 2029');"
       ],
       "metadata": {},
       "output_type": "display_data",
       "text": [
        "<IPython.core.display.Javascript at 0x1a889fd0>"
       ]
      },
      {
       "javascript": [
        "$('div#75694a1b-ce5b-42c7-858e-51d1b658f9e1').text(' 60%');"
       ],
       "metadata": {},
       "output_type": "display_data",
       "text": [
        "<IPython.core.display.Javascript at 0x1a889160>"
       ]
      },
      {
       "javascript": [
        "\n",
        "        var $myPB = $(\"div#7c809e90-c740-4dbb-b29d-d602b4a96152\")\n",
        "        if ($myPB.hasClass('ui-progressbar')) {\n",
        "            $myPB.progressbar('value', 1218);\n",
        "        } else {\n",
        "            $myPB.progressbar({value: 0, max: 2029});\n",
        "        }\n",
        "        "
       ],
       "metadata": {},
       "output_type": "display_data",
       "text": [
        "<IPython.core.display.Javascript at 0x1a889b70>"
       ]
      },
      {
       "javascript": [
        "$('div#f13a49d9-7b42-4a42-bc68-177f0d24dd2b').text('ETA:  0:00:00');"
       ],
       "metadata": {},
       "output_type": "display_data",
       "text": [
        "<IPython.core.display.Javascript at 0x1a889b70>"
       ]
      },
      {
       "javascript": [
        "$('div#05937b91-e765-4e0e-870f-a875418e5522').text('1239 of 2029');"
       ],
       "metadata": {},
       "output_type": "display_data",
       "text": [
        "<IPython.core.display.Javascript at 0x1a889160>"
       ]
      },
      {
       "javascript": [
        "$('div#75694a1b-ce5b-42c7-858e-51d1b658f9e1').text(' 61%');"
       ],
       "metadata": {},
       "output_type": "display_data",
       "text": [
        "<IPython.core.display.Javascript at 0x1a889cf8>"
       ]
      },
      {
       "javascript": [
        "\n",
        "        var $myPB = $(\"div#7c809e90-c740-4dbb-b29d-d602b4a96152\")\n",
        "        if ($myPB.hasClass('ui-progressbar')) {\n",
        "            $myPB.progressbar('value', 1239);\n",
        "        } else {\n",
        "            $myPB.progressbar({value: 0, max: 2029});\n",
        "        }\n",
        "        "
       ],
       "metadata": {},
       "output_type": "display_data",
       "text": [
        "<IPython.core.display.Javascript at 0x1a889fd0>"
       ]
      },
      {
       "javascript": [
        "$('div#f13a49d9-7b42-4a42-bc68-177f0d24dd2b').text('ETA:  0:00:00');"
       ],
       "metadata": {},
       "output_type": "display_data",
       "text": [
        "<IPython.core.display.Javascript at 0x1a889fd0>"
       ]
      },
      {
       "javascript": [
        "$('div#05937b91-e765-4e0e-870f-a875418e5522').text('1260 of 2029');"
       ],
       "metadata": {},
       "output_type": "display_data",
       "text": [
        "<IPython.core.display.Javascript at 0x1a889160>"
       ]
      },
      {
       "javascript": [
        "$('div#75694a1b-ce5b-42c7-858e-51d1b658f9e1').text(' 62%');"
       ],
       "metadata": {},
       "output_type": "display_data",
       "text": [
        "<IPython.core.display.Javascript at 0x1a889b70>"
       ]
      },
      {
       "javascript": [
        "\n",
        "        var $myPB = $(\"div#7c809e90-c740-4dbb-b29d-d602b4a96152\")\n",
        "        if ($myPB.hasClass('ui-progressbar')) {\n",
        "            $myPB.progressbar('value', 1260);\n",
        "        } else {\n",
        "            $myPB.progressbar({value: 0, max: 2029});\n",
        "        }\n",
        "        "
       ],
       "metadata": {},
       "output_type": "display_data",
       "text": [
        "<IPython.core.display.Javascript at 0x1a889cf8>"
       ]
      },
      {
       "javascript": [
        "$('div#f13a49d9-7b42-4a42-bc68-177f0d24dd2b').text('ETA:  0:00:00');"
       ],
       "metadata": {},
       "output_type": "display_data",
       "text": [
        "<IPython.core.display.Javascript at 0x172753c8>"
       ]
      },
      {
       "javascript": [
        "$('div#05937b91-e765-4e0e-870f-a875418e5522').text('1281 of 2029');"
       ],
       "metadata": {},
       "output_type": "display_data",
       "text": [
        "<IPython.core.display.Javascript at 0x17275b70>"
       ]
      },
      {
       "javascript": [
        "$('div#75694a1b-ce5b-42c7-858e-51d1b658f9e1').text(' 63%');"
       ],
       "metadata": {},
       "output_type": "display_data",
       "text": [
        "<IPython.core.display.Javascript at 0x17275208>"
       ]
      },
      {
       "javascript": [
        "\n",
        "        var $myPB = $(\"div#7c809e90-c740-4dbb-b29d-d602b4a96152\")\n",
        "        if ($myPB.hasClass('ui-progressbar')) {\n",
        "            $myPB.progressbar('value', 1281);\n",
        "        } else {\n",
        "            $myPB.progressbar({value: 0, max: 2029});\n",
        "        }\n",
        "        "
       ],
       "metadata": {},
       "output_type": "display_data",
       "text": [
        "<IPython.core.display.Javascript at 0x17275208>"
       ]
      },
      {
       "javascript": [
        "$('div#f13a49d9-7b42-4a42-bc68-177f0d24dd2b').text('ETA:  0:00:00');"
       ],
       "metadata": {},
       "output_type": "display_data",
       "text": [
        "<IPython.core.display.Javascript at 0x17275b70>"
       ]
      },
      {
       "javascript": [
        "$('div#05937b91-e765-4e0e-870f-a875418e5522').text('1302 of 2029');"
       ],
       "metadata": {},
       "output_type": "display_data",
       "text": [
        "<IPython.core.display.Javascript at 0x172753c8>"
       ]
      },
      {
       "javascript": [
        "$('div#75694a1b-ce5b-42c7-858e-51d1b658f9e1').text(' 64%');"
       ],
       "metadata": {},
       "output_type": "display_data",
       "text": [
        "<IPython.core.display.Javascript at 0x1a889cf8>"
       ]
      },
      {
       "javascript": [
        "\n",
        "        var $myPB = $(\"div#7c809e90-c740-4dbb-b29d-d602b4a96152\")\n",
        "        if ($myPB.hasClass('ui-progressbar')) {\n",
        "            $myPB.progressbar('value', 1302);\n",
        "        } else {\n",
        "            $myPB.progressbar({value: 0, max: 2029});\n",
        "        }\n",
        "        "
       ],
       "metadata": {},
       "output_type": "display_data",
       "text": [
        "<IPython.core.display.Javascript at 0x172753c8>"
       ]
      },
      {
       "javascript": [
        "$('div#f13a49d9-7b42-4a42-bc68-177f0d24dd2b').text('ETA:  0:00:00');"
       ],
       "metadata": {},
       "output_type": "display_data",
       "text": [
        "<IPython.core.display.Javascript at 0x17275b70>"
       ]
      },
      {
       "javascript": [
        "$('div#05937b91-e765-4e0e-870f-a875418e5522').text('1323 of 2029');"
       ],
       "metadata": {},
       "output_type": "display_data",
       "text": [
        "<IPython.core.display.Javascript at 0x17275208>"
       ]
      },
      {
       "javascript": [
        "$('div#75694a1b-ce5b-42c7-858e-51d1b658f9e1').text(' 65%');"
       ],
       "metadata": {},
       "output_type": "display_data",
       "text": [
        "<IPython.core.display.Javascript at 0x1a889cf8>"
       ]
      },
      {
       "javascript": [
        "\n",
        "        var $myPB = $(\"div#7c809e90-c740-4dbb-b29d-d602b4a96152\")\n",
        "        if ($myPB.hasClass('ui-progressbar')) {\n",
        "            $myPB.progressbar('value', 1323);\n",
        "        } else {\n",
        "            $myPB.progressbar({value: 0, max: 2029});\n",
        "        }\n",
        "        "
       ],
       "metadata": {},
       "output_type": "display_data",
       "text": [
        "<IPython.core.display.Javascript at 0x17275b70>"
       ]
      },
      {
       "javascript": [
        "$('div#f13a49d9-7b42-4a42-bc68-177f0d24dd2b').text('ETA:  0:00:00');"
       ],
       "metadata": {},
       "output_type": "display_data",
       "text": [
        "<IPython.core.display.Javascript at 0x17275208>"
       ]
      },
      {
       "javascript": [
        "$('div#05937b91-e765-4e0e-870f-a875418e5522').text('1344 of 2029');"
       ],
       "metadata": {},
       "output_type": "display_data",
       "text": [
        "<IPython.core.display.Javascript at 0x172753c8>"
       ]
      },
      {
       "javascript": [
        "$('div#75694a1b-ce5b-42c7-858e-51d1b658f9e1').text(' 66%');"
       ],
       "metadata": {},
       "output_type": "display_data",
       "text": [
        "<IPython.core.display.Javascript at 0x172753c8>"
       ]
      },
      {
       "javascript": [
        "\n",
        "        var $myPB = $(\"div#7c809e90-c740-4dbb-b29d-d602b4a96152\")\n",
        "        if ($myPB.hasClass('ui-progressbar')) {\n",
        "            $myPB.progressbar('value', 1344);\n",
        "        } else {\n",
        "            $myPB.progressbar({value: 0, max: 2029});\n",
        "        }\n",
        "        "
       ],
       "metadata": {},
       "output_type": "display_data",
       "text": [
        "<IPython.core.display.Javascript at 0x17275208>"
       ]
      },
      {
       "javascript": [
        "$('div#f13a49d9-7b42-4a42-bc68-177f0d24dd2b').text('ETA:  0:00:00');"
       ],
       "metadata": {},
       "output_type": "display_data",
       "text": [
        "<IPython.core.display.Javascript at 0x17275b70>"
       ]
      },
      {
       "javascript": [
        "$('div#05937b91-e765-4e0e-870f-a875418e5522').text('1365 of 2029');"
       ],
       "metadata": {},
       "output_type": "display_data",
       "text": [
        "<IPython.core.display.Javascript at 0x1a889cf8>"
       ]
      },
      {
       "javascript": [
        "$('div#75694a1b-ce5b-42c7-858e-51d1b658f9e1').text(' 67%');"
       ],
       "metadata": {},
       "output_type": "display_data",
       "text": [
        "<IPython.core.display.Javascript at 0x17275b70>"
       ]
      },
      {
       "javascript": [
        "\n",
        "        var $myPB = $(\"div#7c809e90-c740-4dbb-b29d-d602b4a96152\")\n",
        "        if ($myPB.hasClass('ui-progressbar')) {\n",
        "            $myPB.progressbar('value', 1365);\n",
        "        } else {\n",
        "            $myPB.progressbar({value: 0, max: 2029});\n",
        "        }\n",
        "        "
       ],
       "metadata": {},
       "output_type": "display_data",
       "text": [
        "<IPython.core.display.Javascript at 0x17275208>"
       ]
      },
      {
       "javascript": [
        "$('div#f13a49d9-7b42-4a42-bc68-177f0d24dd2b').text('ETA:  0:00:00');"
       ],
       "metadata": {},
       "output_type": "display_data",
       "text": [
        "<IPython.core.display.Javascript at 0x172753c8>"
       ]
      },
      {
       "javascript": [
        "$('div#05937b91-e765-4e0e-870f-a875418e5522').text('1386 of 2029');"
       ],
       "metadata": {},
       "output_type": "display_data",
       "text": [
        "<IPython.core.display.Javascript at 0x1a889cf8>"
       ]
      },
      {
       "javascript": [
        "$('div#75694a1b-ce5b-42c7-858e-51d1b658f9e1').text(' 68%');"
       ],
       "metadata": {},
       "output_type": "display_data",
       "text": [
        "<IPython.core.display.Javascript at 0x172753c8>"
       ]
      },
      {
       "javascript": [
        "\n",
        "        var $myPB = $(\"div#7c809e90-c740-4dbb-b29d-d602b4a96152\")\n",
        "        if ($myPB.hasClass('ui-progressbar')) {\n",
        "            $myPB.progressbar('value', 1386);\n",
        "        } else {\n",
        "            $myPB.progressbar({value: 0, max: 2029});\n",
        "        }\n",
        "        "
       ],
       "metadata": {},
       "output_type": "display_data",
       "text": [
        "<IPython.core.display.Javascript at 0x17275208>"
       ]
      },
      {
       "javascript": [
        "$('div#f13a49d9-7b42-4a42-bc68-177f0d24dd2b').text('ETA:  0:00:00');"
       ],
       "metadata": {},
       "output_type": "display_data",
       "text": [
        "<IPython.core.display.Javascript at 0x17275b70>"
       ]
      },
      {
       "javascript": [
        "$('div#05937b91-e765-4e0e-870f-a875418e5522').text('1407 of 2029');"
       ],
       "metadata": {},
       "output_type": "display_data",
       "text": [
        "<IPython.core.display.Javascript at 0x1a889cf8>"
       ]
      },
      {
       "javascript": [
        "$('div#75694a1b-ce5b-42c7-858e-51d1b658f9e1').text(' 69%');"
       ],
       "metadata": {},
       "output_type": "display_data",
       "text": [
        "<IPython.core.display.Javascript at 0x17275b70>"
       ]
      },
      {
       "javascript": [
        "\n",
        "        var $myPB = $(\"div#7c809e90-c740-4dbb-b29d-d602b4a96152\")\n",
        "        if ($myPB.hasClass('ui-progressbar')) {\n",
        "            $myPB.progressbar('value', 1407);\n",
        "        } else {\n",
        "            $myPB.progressbar({value: 0, max: 2029});\n",
        "        }\n",
        "        "
       ],
       "metadata": {},
       "output_type": "display_data",
       "text": [
        "<IPython.core.display.Javascript at 0x17275208>"
       ]
      },
      {
       "javascript": [
        "$('div#f13a49d9-7b42-4a42-bc68-177f0d24dd2b').text('ETA:  0:00:00');"
       ],
       "metadata": {},
       "output_type": "display_data",
       "text": [
        "<IPython.core.display.Javascript at 0x172753c8>"
       ]
      },
      {
       "javascript": [
        "$('div#05937b91-e765-4e0e-870f-a875418e5522').text('1428 of 2029');"
       ],
       "metadata": {},
       "output_type": "display_data",
       "text": [
        "<IPython.core.display.Javascript at 0x1a889cf8>"
       ]
      },
      {
       "javascript": [
        "$('div#75694a1b-ce5b-42c7-858e-51d1b658f9e1').text(' 70%');"
       ],
       "metadata": {},
       "output_type": "display_data",
       "text": [
        "<IPython.core.display.Javascript at 0x17275208>"
       ]
      },
      {
       "javascript": [
        "\n",
        "        var $myPB = $(\"div#7c809e90-c740-4dbb-b29d-d602b4a96152\")\n",
        "        if ($myPB.hasClass('ui-progressbar')) {\n",
        "            $myPB.progressbar('value', 1428);\n",
        "        } else {\n",
        "            $myPB.progressbar({value: 0, max: 2029});\n",
        "        }\n",
        "        "
       ],
       "metadata": {},
       "output_type": "display_data",
       "text": [
        "<IPython.core.display.Javascript at 0x172753c8>"
       ]
      },
      {
       "javascript": [
        "$('div#f13a49d9-7b42-4a42-bc68-177f0d24dd2b').text('ETA:  0:00:00');"
       ],
       "metadata": {},
       "output_type": "display_data",
       "text": [
        "<IPython.core.display.Javascript at 0x17275b70>"
       ]
      },
      {
       "javascript": [
        "$('div#05937b91-e765-4e0e-870f-a875418e5522').text('1449 of 2029');"
       ],
       "metadata": {},
       "output_type": "display_data",
       "text": [
        "<IPython.core.display.Javascript at 0x1a889cf8>"
       ]
      },
      {
       "javascript": [
        "$('div#75694a1b-ce5b-42c7-858e-51d1b658f9e1').text(' 71%');"
       ],
       "metadata": {},
       "output_type": "display_data",
       "text": [
        "<IPython.core.display.Javascript at 0x17275208>"
       ]
      },
      {
       "javascript": [
        "\n",
        "        var $myPB = $(\"div#7c809e90-c740-4dbb-b29d-d602b4a96152\")\n",
        "        if ($myPB.hasClass('ui-progressbar')) {\n",
        "            $myPB.progressbar('value', 1449);\n",
        "        } else {\n",
        "            $myPB.progressbar({value: 0, max: 2029});\n",
        "        }\n",
        "        "
       ],
       "metadata": {},
       "output_type": "display_data",
       "text": [
        "<IPython.core.display.Javascript at 0x172753c8>"
       ]
      },
      {
       "javascript": [
        "$('div#f13a49d9-7b42-4a42-bc68-177f0d24dd2b').text('ETA:  0:00:00');"
       ],
       "metadata": {},
       "output_type": "display_data",
       "text": [
        "<IPython.core.display.Javascript at 0x17275b70>"
       ]
      },
      {
       "javascript": [
        "$('div#05937b91-e765-4e0e-870f-a875418e5522').text('1470 of 2029');"
       ],
       "metadata": {},
       "output_type": "display_data",
       "text": [
        "<IPython.core.display.Javascript at 0x17275b70>"
       ]
      },
      {
       "javascript": [
        "$('div#75694a1b-ce5b-42c7-858e-51d1b658f9e1').text(' 72%');"
       ],
       "metadata": {},
       "output_type": "display_data",
       "text": [
        "<IPython.core.display.Javascript at 0x172753c8>"
       ]
      },
      {
       "javascript": [
        "\n",
        "        var $myPB = $(\"div#7c809e90-c740-4dbb-b29d-d602b4a96152\")\n",
        "        if ($myPB.hasClass('ui-progressbar')) {\n",
        "            $myPB.progressbar('value', 1470);\n",
        "        } else {\n",
        "            $myPB.progressbar({value: 0, max: 2029});\n",
        "        }\n",
        "        "
       ],
       "metadata": {},
       "output_type": "display_data",
       "text": [
        "<IPython.core.display.Javascript at 0x17275208>"
       ]
      },
      {
       "javascript": [
        "$('div#f13a49d9-7b42-4a42-bc68-177f0d24dd2b').text('ETA:  0:00:00');"
       ],
       "metadata": {},
       "output_type": "display_data",
       "text": [
        "<IPython.core.display.Javascript at 0x1a889b70>"
       ]
      },
      {
       "javascript": [
        "$('div#05937b91-e765-4e0e-870f-a875418e5522').text('1491 of 2029');"
       ],
       "metadata": {},
       "output_type": "display_data",
       "text": [
        "<IPython.core.display.Javascript at 0x17275208>"
       ]
      },
      {
       "javascript": [
        "$('div#75694a1b-ce5b-42c7-858e-51d1b658f9e1').text(' 73%');"
       ],
       "metadata": {},
       "output_type": "display_data",
       "text": [
        "<IPython.core.display.Javascript at 0x172753c8>"
       ]
      },
      {
       "javascript": [
        "\n",
        "        var $myPB = $(\"div#7c809e90-c740-4dbb-b29d-d602b4a96152\")\n",
        "        if ($myPB.hasClass('ui-progressbar')) {\n",
        "            $myPB.progressbar('value', 1491);\n",
        "        } else {\n",
        "            $myPB.progressbar({value: 0, max: 2029});\n",
        "        }\n",
        "        "
       ],
       "metadata": {},
       "output_type": "display_data",
       "text": [
        "<IPython.core.display.Javascript at 0x17275b70>"
       ]
      },
      {
       "javascript": [
        "$('div#f13a49d9-7b42-4a42-bc68-177f0d24dd2b').text('ETA:  0:00:00');"
       ],
       "metadata": {},
       "output_type": "display_data",
       "text": [
        "<IPython.core.display.Javascript at 0x1a889b70>"
       ]
      },
      {
       "javascript": [
        "$('div#05937b91-e765-4e0e-870f-a875418e5522').text('1512 of 2029');"
       ],
       "metadata": {},
       "output_type": "display_data",
       "text": [
        "<IPython.core.display.Javascript at 0x17275b70>"
       ]
      },
      {
       "javascript": [
        "$('div#75694a1b-ce5b-42c7-858e-51d1b658f9e1').text(' 74%');"
       ],
       "metadata": {},
       "output_type": "display_data",
       "text": [
        "<IPython.core.display.Javascript at 0x172753c8>"
       ]
      },
      {
       "javascript": [
        "\n",
        "        var $myPB = $(\"div#7c809e90-c740-4dbb-b29d-d602b4a96152\")\n",
        "        if ($myPB.hasClass('ui-progressbar')) {\n",
        "            $myPB.progressbar('value', 1512);\n",
        "        } else {\n",
        "            $myPB.progressbar({value: 0, max: 2029});\n",
        "        }\n",
        "        "
       ],
       "metadata": {},
       "output_type": "display_data",
       "text": [
        "<IPython.core.display.Javascript at 0x17275208>"
       ]
      },
      {
       "javascript": [
        "$('div#f13a49d9-7b42-4a42-bc68-177f0d24dd2b').text('ETA:  0:00:00');"
       ],
       "metadata": {},
       "output_type": "display_data",
       "text": [
        "<IPython.core.display.Javascript at 0x1a889b70>"
       ]
      },
      {
       "javascript": [
        "$('div#05937b91-e765-4e0e-870f-a875418e5522').text('1533 of 2029');"
       ],
       "metadata": {},
       "output_type": "display_data",
       "text": [
        "<IPython.core.display.Javascript at 0x172753c8>"
       ]
      },
      {
       "javascript": [
        "$('div#75694a1b-ce5b-42c7-858e-51d1b658f9e1').text(' 75%');"
       ],
       "metadata": {},
       "output_type": "display_data",
       "text": [
        "<IPython.core.display.Javascript at 0x17275208>"
       ]
      },
      {
       "javascript": [
        "\n",
        "        var $myPB = $(\"div#7c809e90-c740-4dbb-b29d-d602b4a96152\")\n",
        "        if ($myPB.hasClass('ui-progressbar')) {\n",
        "            $myPB.progressbar('value', 1533);\n",
        "        } else {\n",
        "            $myPB.progressbar({value: 0, max: 2029});\n",
        "        }\n",
        "        "
       ],
       "metadata": {},
       "output_type": "display_data",
       "text": [
        "<IPython.core.display.Javascript at 0x17275b70>"
       ]
      },
      {
       "javascript": [
        "$('div#f13a49d9-7b42-4a42-bc68-177f0d24dd2b').text('ETA:  0:00:00');"
       ],
       "metadata": {},
       "output_type": "display_data",
       "text": [
        "<IPython.core.display.Javascript at 0x1a889b70>"
       ]
      },
      {
       "javascript": [
        "$('div#05937b91-e765-4e0e-870f-a875418e5522').text('1554 of 2029');"
       ],
       "metadata": {},
       "output_type": "display_data",
       "text": [
        "<IPython.core.display.Javascript at 0x172753c8>"
       ]
      },
      {
       "javascript": [
        "$('div#75694a1b-ce5b-42c7-858e-51d1b658f9e1').text(' 76%');"
       ],
       "metadata": {},
       "output_type": "display_data",
       "text": [
        "<IPython.core.display.Javascript at 0x17275208>"
       ]
      },
      {
       "javascript": [
        "\n",
        "        var $myPB = $(\"div#7c809e90-c740-4dbb-b29d-d602b4a96152\")\n",
        "        if ($myPB.hasClass('ui-progressbar')) {\n",
        "            $myPB.progressbar('value', 1554);\n",
        "        } else {\n",
        "            $myPB.progressbar({value: 0, max: 2029});\n",
        "        }\n",
        "        "
       ],
       "metadata": {},
       "output_type": "display_data",
       "text": [
        "<IPython.core.display.Javascript at 0x17275b70>"
       ]
      },
      {
       "javascript": [
        "$('div#f13a49d9-7b42-4a42-bc68-177f0d24dd2b').text('ETA:  0:00:00');"
       ],
       "metadata": {},
       "output_type": "display_data",
       "text": [
        "<IPython.core.display.Javascript at 0x17275b70>"
       ]
      },
      {
       "javascript": [
        "$('div#05937b91-e765-4e0e-870f-a875418e5522').text('1575 of 2029');"
       ],
       "metadata": {},
       "output_type": "display_data",
       "text": [
        "<IPython.core.display.Javascript at 0x17275208>"
       ]
      },
      {
       "javascript": [
        "$('div#75694a1b-ce5b-42c7-858e-51d1b658f9e1').text(' 77%');"
       ],
       "metadata": {},
       "output_type": "display_data",
       "text": [
        "<IPython.core.display.Javascript at 0x172753c8>"
       ]
      },
      {
       "javascript": [
        "\n",
        "        var $myPB = $(\"div#7c809e90-c740-4dbb-b29d-d602b4a96152\")\n",
        "        if ($myPB.hasClass('ui-progressbar')) {\n",
        "            $myPB.progressbar('value', 1575);\n",
        "        } else {\n",
        "            $myPB.progressbar({value: 0, max: 2029});\n",
        "        }\n",
        "        "
       ],
       "metadata": {},
       "output_type": "display_data",
       "text": [
        "<IPython.core.display.Javascript at 0x1a889b70>"
       ]
      },
      {
       "javascript": [
        "$('div#f13a49d9-7b42-4a42-bc68-177f0d24dd2b').text('ETA:  0:00:00');"
       ],
       "metadata": {},
       "output_type": "display_data",
       "text": [
        "<IPython.core.display.Javascript at 0x172753c8>"
       ]
      },
      {
       "javascript": [
        "$('div#05937b91-e765-4e0e-870f-a875418e5522').text('1596 of 2029');"
       ],
       "metadata": {},
       "output_type": "display_data",
       "text": [
        "<IPython.core.display.Javascript at 0x17275208>"
       ]
      },
      {
       "javascript": [
        "$('div#75694a1b-ce5b-42c7-858e-51d1b658f9e1').text(' 78%');"
       ],
       "metadata": {},
       "output_type": "display_data",
       "text": [
        "<IPython.core.display.Javascript at 0x17275b70>"
       ]
      },
      {
       "javascript": [
        "\n",
        "        var $myPB = $(\"div#7c809e90-c740-4dbb-b29d-d602b4a96152\")\n",
        "        if ($myPB.hasClass('ui-progressbar')) {\n",
        "            $myPB.progressbar('value', 1596);\n",
        "        } else {\n",
        "            $myPB.progressbar({value: 0, max: 2029});\n",
        "        }\n",
        "        "
       ],
       "metadata": {},
       "output_type": "display_data",
       "text": [
        "<IPython.core.display.Javascript at 0x1a889160>"
       ]
      },
      {
       "javascript": [
        "$('div#f13a49d9-7b42-4a42-bc68-177f0d24dd2b').text('ETA:  0:00:00');"
       ],
       "metadata": {},
       "output_type": "display_data",
       "text": [
        "<IPython.core.display.Javascript at 0x17275208>"
       ]
      },
      {
       "javascript": [
        "$('div#05937b91-e765-4e0e-870f-a875418e5522').text('1617 of 2029');"
       ],
       "metadata": {},
       "output_type": "display_data",
       "text": [
        "<IPython.core.display.Javascript at 0x17275b70>"
       ]
      },
      {
       "javascript": [
        "$('div#75694a1b-ce5b-42c7-858e-51d1b658f9e1').text(' 79%');"
       ],
       "metadata": {},
       "output_type": "display_data",
       "text": [
        "<IPython.core.display.Javascript at 0x172753c8>"
       ]
      },
      {
       "javascript": [
        "\n",
        "        var $myPB = $(\"div#7c809e90-c740-4dbb-b29d-d602b4a96152\")\n",
        "        if ($myPB.hasClass('ui-progressbar')) {\n",
        "            $myPB.progressbar('value', 1617);\n",
        "        } else {\n",
        "            $myPB.progressbar({value: 0, max: 2029});\n",
        "        }\n",
        "        "
       ],
       "metadata": {},
       "output_type": "display_data",
       "text": [
        "<IPython.core.display.Javascript at 0x1a889cf8>"
       ]
      },
      {
       "javascript": [
        "$('div#f13a49d9-7b42-4a42-bc68-177f0d24dd2b').text('ETA:  0:00:00');"
       ],
       "metadata": {},
       "output_type": "display_data",
       "text": [
        "<IPython.core.display.Javascript at 0x17275b70>"
       ]
      },
      {
       "javascript": [
        "$('div#05937b91-e765-4e0e-870f-a875418e5522').text('1638 of 2029');"
       ],
       "metadata": {},
       "output_type": "display_data",
       "text": [
        "<IPython.core.display.Javascript at 0x172753c8>"
       ]
      },
      {
       "javascript": [
        "$('div#75694a1b-ce5b-42c7-858e-51d1b658f9e1').text(' 80%');"
       ],
       "metadata": {},
       "output_type": "display_data",
       "text": [
        "<IPython.core.display.Javascript at 0x17275208>"
       ]
      },
      {
       "javascript": [
        "\n",
        "        var $myPB = $(\"div#7c809e90-c740-4dbb-b29d-d602b4a96152\")\n",
        "        if ($myPB.hasClass('ui-progressbar')) {\n",
        "            $myPB.progressbar('value', 1638);\n",
        "        } else {\n",
        "            $myPB.progressbar({value: 0, max: 2029});\n",
        "        }\n",
        "        "
       ],
       "metadata": {},
       "output_type": "display_data",
       "text": [
        "<IPython.core.display.Javascript at 0x17275208>"
       ]
      },
      {
       "javascript": [
        "$('div#f13a49d9-7b42-4a42-bc68-177f0d24dd2b').text('ETA:  0:00:00');"
       ],
       "metadata": {},
       "output_type": "display_data",
       "text": [
        "<IPython.core.display.Javascript at 0x172753c8>"
       ]
      },
      {
       "javascript": [
        "$('div#05937b91-e765-4e0e-870f-a875418e5522').text('1659 of 2029');"
       ],
       "metadata": {},
       "output_type": "display_data",
       "text": [
        "<IPython.core.display.Javascript at 0x17275b70>"
       ]
      },
      {
       "javascript": [
        "$('div#75694a1b-ce5b-42c7-858e-51d1b658f9e1').text(' 81%');"
       ],
       "metadata": {},
       "output_type": "display_data",
       "text": [
        "<IPython.core.display.Javascript at 0x1a889cf8>"
       ]
      },
      {
       "javascript": [
        "\n",
        "        var $myPB = $(\"div#7c809e90-c740-4dbb-b29d-d602b4a96152\")\n",
        "        if ($myPB.hasClass('ui-progressbar')) {\n",
        "            $myPB.progressbar('value', 1659);\n",
        "        } else {\n",
        "            $myPB.progressbar({value: 0, max: 2029});\n",
        "        }\n",
        "        "
       ],
       "metadata": {},
       "output_type": "display_data",
       "text": [
        "<IPython.core.display.Javascript at 0x17275b70>"
       ]
      },
      {
       "javascript": [
        "$('div#f13a49d9-7b42-4a42-bc68-177f0d24dd2b').text('ETA:  0:00:00');"
       ],
       "metadata": {},
       "output_type": "display_data",
       "text": [
        "<IPython.core.display.Javascript at 0x172753c8>"
       ]
      },
      {
       "javascript": [
        "$('div#05937b91-e765-4e0e-870f-a875418e5522').text('1680 of 2029');"
       ],
       "metadata": {},
       "output_type": "display_data",
       "text": [
        "<IPython.core.display.Javascript at 0x17275208>"
       ]
      },
      {
       "javascript": [
        "$('div#75694a1b-ce5b-42c7-858e-51d1b658f9e1').text(' 82%');"
       ],
       "metadata": {},
       "output_type": "display_data",
       "text": [
        "<IPython.core.display.Javascript at 0x1a889cf8>"
       ]
      },
      {
       "javascript": [
        "\n",
        "        var $myPB = $(\"div#7c809e90-c740-4dbb-b29d-d602b4a96152\")\n",
        "        if ($myPB.hasClass('ui-progressbar')) {\n",
        "            $myPB.progressbar('value', 1680);\n",
        "        } else {\n",
        "            $myPB.progressbar({value: 0, max: 2029});\n",
        "        }\n",
        "        "
       ],
       "metadata": {},
       "output_type": "display_data",
       "text": [
        "<IPython.core.display.Javascript at 0x172753c8>"
       ]
      },
      {
       "javascript": [
        "$('div#f13a49d9-7b42-4a42-bc68-177f0d24dd2b').text('ETA:  0:00:00');"
       ],
       "metadata": {},
       "output_type": "display_data",
       "text": [
        "<IPython.core.display.Javascript at 0x17275208>"
       ]
      },
      {
       "javascript": [
        "$('div#05937b91-e765-4e0e-870f-a875418e5522').text('1701 of 2029');"
       ],
       "metadata": {},
       "output_type": "display_data",
       "text": [
        "<IPython.core.display.Javascript at 0x17275b70>"
       ]
      },
      {
       "javascript": [
        "$('div#75694a1b-ce5b-42c7-858e-51d1b658f9e1').text(' 83%');"
       ],
       "metadata": {},
       "output_type": "display_data",
       "text": [
        "<IPython.core.display.Javascript at 0x1a889cf8>"
       ]
      },
      {
       "javascript": [
        "\n",
        "        var $myPB = $(\"div#7c809e90-c740-4dbb-b29d-d602b4a96152\")\n",
        "        if ($myPB.hasClass('ui-progressbar')) {\n",
        "            $myPB.progressbar('value', 1701);\n",
        "        } else {\n",
        "            $myPB.progressbar({value: 0, max: 2029});\n",
        "        }\n",
        "        "
       ],
       "metadata": {},
       "output_type": "display_data",
       "text": [
        "<IPython.core.display.Javascript at 0x1a889160>"
       ]
      },
      {
       "javascript": [
        "$('div#f13a49d9-7b42-4a42-bc68-177f0d24dd2b').text('ETA:  0:00:00');"
       ],
       "metadata": {},
       "output_type": "display_data",
       "text": [
        "<IPython.core.display.Javascript at 0x1a889b70>"
       ]
      },
      {
       "javascript": [
        "$('div#05937b91-e765-4e0e-870f-a875418e5522').text('1722 of 2029');"
       ],
       "metadata": {},
       "output_type": "display_data",
       "text": [
        "<IPython.core.display.Javascript at 0x1a889fd0>"
       ]
      },
      {
       "javascript": [
        "$('div#75694a1b-ce5b-42c7-858e-51d1b658f9e1').text(' 84%');"
       ],
       "metadata": {},
       "output_type": "display_data",
       "text": [
        "<IPython.core.display.Javascript at 0x1a889fd0>"
       ]
      },
      {
       "javascript": [
        "\n",
        "        var $myPB = $(\"div#7c809e90-c740-4dbb-b29d-d602b4a96152\")\n",
        "        if ($myPB.hasClass('ui-progressbar')) {\n",
        "            $myPB.progressbar('value', 1722);\n",
        "        } else {\n",
        "            $myPB.progressbar({value: 0, max: 2029});\n",
        "        }\n",
        "        "
       ],
       "metadata": {},
       "output_type": "display_data",
       "text": [
        "<IPython.core.display.Javascript at 0x1a889b70>"
       ]
      },
      {
       "javascript": [
        "$('div#f13a49d9-7b42-4a42-bc68-177f0d24dd2b').text('ETA:  0:00:00');"
       ],
       "metadata": {},
       "output_type": "display_data",
       "text": [
        "<IPython.core.display.Javascript at 0x1a889160>"
       ]
      },
      {
       "javascript": [
        "$('div#05937b91-e765-4e0e-870f-a875418e5522').text('1743 of 2029');"
       ],
       "metadata": {},
       "output_type": "display_data",
       "text": [
        "<IPython.core.display.Javascript at 0x17275208>"
       ]
      },
      {
       "javascript": [
        "$('div#75694a1b-ce5b-42c7-858e-51d1b658f9e1').text(' 85%');"
       ],
       "metadata": {},
       "output_type": "display_data",
       "text": [
        "<IPython.core.display.Javascript at 0x17275208>"
       ]
      },
      {
       "javascript": [
        "\n",
        "        var $myPB = $(\"div#7c809e90-c740-4dbb-b29d-d602b4a96152\")\n",
        "        if ($myPB.hasClass('ui-progressbar')) {\n",
        "            $myPB.progressbar('value', 1743);\n",
        "        } else {\n",
        "            $myPB.progressbar({value: 0, max: 2029});\n",
        "        }\n",
        "        "
       ],
       "metadata": {},
       "output_type": "display_data",
       "text": [
        "<IPython.core.display.Javascript at 0x172753c8>"
       ]
      },
      {
       "javascript": [
        "$('div#f13a49d9-7b42-4a42-bc68-177f0d24dd2b').text('ETA:  0:00:00');"
       ],
       "metadata": {},
       "output_type": "display_data",
       "text": [
        "<IPython.core.display.Javascript at 0x17275b70>"
       ]
      },
      {
       "javascript": [
        "$('div#05937b91-e765-4e0e-870f-a875418e5522').text('1764 of 2029');"
       ],
       "metadata": {},
       "output_type": "display_data",
       "text": [
        "<IPython.core.display.Javascript at 0x1a889160>"
       ]
      },
      {
       "javascript": [
        "$('div#75694a1b-ce5b-42c7-858e-51d1b658f9e1').text(' 86%');"
       ],
       "metadata": {},
       "output_type": "display_data",
       "text": [
        "<IPython.core.display.Javascript at 0x1a889160>"
       ]
      },
      {
       "javascript": [
        "\n",
        "        var $myPB = $(\"div#7c809e90-c740-4dbb-b29d-d602b4a96152\")\n",
        "        if ($myPB.hasClass('ui-progressbar')) {\n",
        "            $myPB.progressbar('value', 1764);\n",
        "        } else {\n",
        "            $myPB.progressbar({value: 0, max: 2029});\n",
        "        }\n",
        "        "
       ],
       "metadata": {},
       "output_type": "display_data",
       "text": [
        "<IPython.core.display.Javascript at 0x1a889fd0>"
       ]
      },
      {
       "javascript": [
        "$('div#f13a49d9-7b42-4a42-bc68-177f0d24dd2b').text('ETA:  0:00:00');"
       ],
       "metadata": {},
       "output_type": "display_data",
       "text": [
        "<IPython.core.display.Javascript at 0x1a889b70>"
       ]
      },
      {
       "javascript": [
        "$('div#05937b91-e765-4e0e-870f-a875418e5522').text('1785 of 2029');"
       ],
       "metadata": {},
       "output_type": "display_data",
       "text": [
        "<IPython.core.display.Javascript at 0x172753c8>"
       ]
      },
      {
       "javascript": [
        "$('div#75694a1b-ce5b-42c7-858e-51d1b658f9e1').text(' 87%');"
       ],
       "metadata": {},
       "output_type": "display_data",
       "text": [
        "<IPython.core.display.Javascript at 0x172753c8>"
       ]
      },
      {
       "javascript": [
        "\n",
        "        var $myPB = $(\"div#7c809e90-c740-4dbb-b29d-d602b4a96152\")\n",
        "        if ($myPB.hasClass('ui-progressbar')) {\n",
        "            $myPB.progressbar('value', 1785);\n",
        "        } else {\n",
        "            $myPB.progressbar({value: 0, max: 2029});\n",
        "        }\n",
        "        "
       ],
       "metadata": {},
       "output_type": "display_data",
       "text": [
        "<IPython.core.display.Javascript at 0x17275208>"
       ]
      },
      {
       "javascript": [
        "$('div#f13a49d9-7b42-4a42-bc68-177f0d24dd2b').text('ETA:  0:00:00');"
       ],
       "metadata": {},
       "output_type": "display_data",
       "text": [
        "<IPython.core.display.Javascript at 0x17275b70>"
       ]
      },
      {
       "javascript": [
        "$('div#05937b91-e765-4e0e-870f-a875418e5522').text('1806 of 2029');"
       ],
       "metadata": {},
       "output_type": "display_data",
       "text": [
        "<IPython.core.display.Javascript at 0x1a889fd0>"
       ]
      },
      {
       "javascript": [
        "$('div#75694a1b-ce5b-42c7-858e-51d1b658f9e1').text(' 89%');"
       ],
       "metadata": {},
       "output_type": "display_data",
       "text": [
        "<IPython.core.display.Javascript at 0x1a889160>"
       ]
      },
      {
       "javascript": [
        "\n",
        "        var $myPB = $(\"div#7c809e90-c740-4dbb-b29d-d602b4a96152\")\n",
        "        if ($myPB.hasClass('ui-progressbar')) {\n",
        "            $myPB.progressbar('value', 1806);\n",
        "        } else {\n",
        "            $myPB.progressbar({value: 0, max: 2029});\n",
        "        }\n",
        "        "
       ],
       "metadata": {},
       "output_type": "display_data",
       "text": [
        "<IPython.core.display.Javascript at 0x1a889b70>"
       ]
      },
      {
       "javascript": [
        "$('div#f13a49d9-7b42-4a42-bc68-177f0d24dd2b').text('ETA:  0:00:00');"
       ],
       "metadata": {},
       "output_type": "display_data",
       "text": [
        "<IPython.core.display.Javascript at 0x17275208>"
       ]
      },
      {
       "javascript": [
        "$('div#05937b91-e765-4e0e-870f-a875418e5522').text('1827 of 2029');"
       ],
       "metadata": {},
       "output_type": "display_data",
       "text": [
        "<IPython.core.display.Javascript at 0x17275208>"
       ]
      },
      {
       "javascript": [
        "$('div#75694a1b-ce5b-42c7-858e-51d1b658f9e1').text(' 90%');"
       ],
       "metadata": {},
       "output_type": "display_data",
       "text": [
        "<IPython.core.display.Javascript at 0x172753c8>"
       ]
      },
      {
       "javascript": [
        "\n",
        "        var $myPB = $(\"div#7c809e90-c740-4dbb-b29d-d602b4a96152\")\n",
        "        if ($myPB.hasClass('ui-progressbar')) {\n",
        "            $myPB.progressbar('value', 1827);\n",
        "        } else {\n",
        "            $myPB.progressbar({value: 0, max: 2029});\n",
        "        }\n",
        "        "
       ],
       "metadata": {},
       "output_type": "display_data",
       "text": [
        "<IPython.core.display.Javascript at 0x17275b70>"
       ]
      },
      {
       "javascript": [
        "$('div#f13a49d9-7b42-4a42-bc68-177f0d24dd2b').text('ETA:  0:00:00');"
       ],
       "metadata": {},
       "output_type": "display_data",
       "text": [
        "<IPython.core.display.Javascript at 0x1a889160>"
       ]
      },
      {
       "javascript": [
        "$('div#05937b91-e765-4e0e-870f-a875418e5522').text('1848 of 2029');"
       ],
       "metadata": {},
       "output_type": "display_data",
       "text": [
        "<IPython.core.display.Javascript at 0x17275b70>"
       ]
      },
      {
       "javascript": [
        "$('div#75694a1b-ce5b-42c7-858e-51d1b658f9e1').text(' 91%');"
       ],
       "metadata": {},
       "output_type": "display_data",
       "text": [
        "<IPython.core.display.Javascript at 0x172753c8>"
       ]
      },
      {
       "javascript": [
        "\n",
        "        var $myPB = $(\"div#7c809e90-c740-4dbb-b29d-d602b4a96152\")\n",
        "        if ($myPB.hasClass('ui-progressbar')) {\n",
        "            $myPB.progressbar('value', 1848);\n",
        "        } else {\n",
        "            $myPB.progressbar({value: 0, max: 2029});\n",
        "        }\n",
        "        "
       ],
       "metadata": {},
       "output_type": "display_data",
       "text": [
        "<IPython.core.display.Javascript at 0x17275208>"
       ]
      },
      {
       "javascript": [
        "$('div#f13a49d9-7b42-4a42-bc68-177f0d24dd2b').text('ETA:  0:00:00');"
       ],
       "metadata": {},
       "output_type": "display_data",
       "text": [
        "<IPython.core.display.Javascript at 0x1a889160>"
       ]
      },
      {
       "javascript": [
        "$('div#05937b91-e765-4e0e-870f-a875418e5522').text('1869 of 2029');"
       ],
       "metadata": {},
       "output_type": "display_data",
       "text": [
        "<IPython.core.display.Javascript at 0x17275208>"
       ]
      },
      {
       "javascript": [
        "$('div#75694a1b-ce5b-42c7-858e-51d1b658f9e1').text(' 92%');"
       ],
       "metadata": {},
       "output_type": "display_data",
       "text": [
        "<IPython.core.display.Javascript at 0x172753c8>"
       ]
      },
      {
       "javascript": [
        "\n",
        "        var $myPB = $(\"div#7c809e90-c740-4dbb-b29d-d602b4a96152\")\n",
        "        if ($myPB.hasClass('ui-progressbar')) {\n",
        "            $myPB.progressbar('value', 1869);\n",
        "        } else {\n",
        "            $myPB.progressbar({value: 0, max: 2029});\n",
        "        }\n",
        "        "
       ],
       "metadata": {},
       "output_type": "display_data",
       "text": [
        "<IPython.core.display.Javascript at 0x17275b70>"
       ]
      },
      {
       "javascript": [
        "$('div#f13a49d9-7b42-4a42-bc68-177f0d24dd2b').text('ETA:  0:00:00');"
       ],
       "metadata": {},
       "output_type": "display_data",
       "text": [
        "<IPython.core.display.Javascript at 0x1a889160>"
       ]
      },
      {
       "javascript": [
        "$('div#05937b91-e765-4e0e-870f-a875418e5522').text('1890 of 2029');"
       ],
       "metadata": {},
       "output_type": "display_data",
       "text": [
        "<IPython.core.display.Javascript at 0x172753c8>"
       ]
      },
      {
       "javascript": [
        "$('div#75694a1b-ce5b-42c7-858e-51d1b658f9e1').text(' 93%');"
       ],
       "metadata": {},
       "output_type": "display_data",
       "text": [
        "<IPython.core.display.Javascript at 0x17275b70>"
       ]
      },
      {
       "javascript": [
        "\n",
        "        var $myPB = $(\"div#7c809e90-c740-4dbb-b29d-d602b4a96152\")\n",
        "        if ($myPB.hasClass('ui-progressbar')) {\n",
        "            $myPB.progressbar('value', 1890);\n",
        "        } else {\n",
        "            $myPB.progressbar({value: 0, max: 2029});\n",
        "        }\n",
        "        "
       ],
       "metadata": {},
       "output_type": "display_data",
       "text": [
        "<IPython.core.display.Javascript at 0x17275208>"
       ]
      },
      {
       "javascript": [
        "$('div#f13a49d9-7b42-4a42-bc68-177f0d24dd2b').text('ETA:  0:00:00');"
       ],
       "metadata": {},
       "output_type": "display_data",
       "text": [
        "<IPython.core.display.Javascript at 0x17275208>"
       ]
      },
      {
       "javascript": [
        "$('div#05937b91-e765-4e0e-870f-a875418e5522').text('1911 of 2029');"
       ],
       "metadata": {},
       "output_type": "display_data",
       "text": [
        "<IPython.core.display.Javascript at 0x17275b70>"
       ]
      },
      {
       "javascript": [
        "$('div#75694a1b-ce5b-42c7-858e-51d1b658f9e1').text(' 94%');"
       ],
       "metadata": {},
       "output_type": "display_data",
       "text": [
        "<IPython.core.display.Javascript at 0x172753c8>"
       ]
      },
      {
       "javascript": [
        "\n",
        "        var $myPB = $(\"div#7c809e90-c740-4dbb-b29d-d602b4a96152\")\n",
        "        if ($myPB.hasClass('ui-progressbar')) {\n",
        "            $myPB.progressbar('value', 1911);\n",
        "        } else {\n",
        "            $myPB.progressbar({value: 0, max: 2029});\n",
        "        }\n",
        "        "
       ],
       "metadata": {},
       "output_type": "display_data",
       "text": [
        "<IPython.core.display.Javascript at 0x1a889160>"
       ]
      },
      {
       "javascript": [
        "$('div#f13a49d9-7b42-4a42-bc68-177f0d24dd2b').text('ETA:  0:00:00');"
       ],
       "metadata": {},
       "output_type": "display_data",
       "text": [
        "<IPython.core.display.Javascript at 0x172753c8>"
       ]
      },
      {
       "javascript": [
        "$('div#05937b91-e765-4e0e-870f-a875418e5522').text('1932 of 2029');"
       ],
       "metadata": {},
       "output_type": "display_data",
       "text": [
        "<IPython.core.display.Javascript at 0x17275b70>"
       ]
      },
      {
       "javascript": [
        "$('div#75694a1b-ce5b-42c7-858e-51d1b658f9e1').text(' 95%');"
       ],
       "metadata": {},
       "output_type": "display_data",
       "text": [
        "<IPython.core.display.Javascript at 0x17275208>"
       ]
      },
      {
       "javascript": [
        "\n",
        "        var $myPB = $(\"div#7c809e90-c740-4dbb-b29d-d602b4a96152\")\n",
        "        if ($myPB.hasClass('ui-progressbar')) {\n",
        "            $myPB.progressbar('value', 1932);\n",
        "        } else {\n",
        "            $myPB.progressbar({value: 0, max: 2029});\n",
        "        }\n",
        "        "
       ],
       "metadata": {},
       "output_type": "display_data",
       "text": [
        "<IPython.core.display.Javascript at 0x1a889b70>"
       ]
      },
      {
       "javascript": [
        "$('div#f13a49d9-7b42-4a42-bc68-177f0d24dd2b').text('ETA:  0:00:00');"
       ],
       "metadata": {},
       "output_type": "display_data",
       "text": [
        "<IPython.core.display.Javascript at 0x17275208>"
       ]
      },
      {
       "javascript": [
        "$('div#05937b91-e765-4e0e-870f-a875418e5522').text('1953 of 2029');"
       ],
       "metadata": {},
       "output_type": "display_data",
       "text": [
        "<IPython.core.display.Javascript at 0x17275b70>"
       ]
      },
      {
       "javascript": [
        "$('div#75694a1b-ce5b-42c7-858e-51d1b658f9e1').text(' 96%');"
       ],
       "metadata": {},
       "output_type": "display_data",
       "text": [
        "<IPython.core.display.Javascript at 0x172753c8>"
       ]
      },
      {
       "javascript": [
        "\n",
        "        var $myPB = $(\"div#7c809e90-c740-4dbb-b29d-d602b4a96152\")\n",
        "        if ($myPB.hasClass('ui-progressbar')) {\n",
        "            $myPB.progressbar('value', 1953);\n",
        "        } else {\n",
        "            $myPB.progressbar({value: 0, max: 2029});\n",
        "        }\n",
        "        "
       ],
       "metadata": {},
       "output_type": "display_data",
       "text": [
        "<IPython.core.display.Javascript at 0x1a889fd0>"
       ]
      },
      {
       "javascript": [
        "$('div#f13a49d9-7b42-4a42-bc68-177f0d24dd2b').text('ETA:  0:00:00');"
       ],
       "metadata": {},
       "output_type": "display_data",
       "text": [
        "<IPython.core.display.Javascript at 0x172753c8>"
       ]
      },
      {
       "javascript": [
        "$('div#05937b91-e765-4e0e-870f-a875418e5522').text('1974 of 2029');"
       ],
       "metadata": {},
       "output_type": "display_data",
       "text": [
        "<IPython.core.display.Javascript at 0x17275b70>"
       ]
      },
      {
       "javascript": [
        "$('div#75694a1b-ce5b-42c7-858e-51d1b658f9e1').text(' 97%');"
       ],
       "metadata": {},
       "output_type": "display_data",
       "text": [
        "<IPython.core.display.Javascript at 0x17275208>"
       ]
      },
      {
       "javascript": [
        "\n",
        "        var $myPB = $(\"div#7c809e90-c740-4dbb-b29d-d602b4a96152\")\n",
        "        if ($myPB.hasClass('ui-progressbar')) {\n",
        "            $myPB.progressbar('value', 1974);\n",
        "        } else {\n",
        "            $myPB.progressbar({value: 0, max: 2029});\n",
        "        }\n",
        "        "
       ],
       "metadata": {},
       "output_type": "display_data",
       "text": [
        "<IPython.core.display.Javascript at 0x1a889fd0>"
       ]
      },
      {
       "javascript": [
        "$('div#f13a49d9-7b42-4a42-bc68-177f0d24dd2b').text('ETA:  0:00:00');"
       ],
       "metadata": {},
       "output_type": "display_data",
       "text": [
        "<IPython.core.display.Javascript at 0x17275b70>"
       ]
      },
      {
       "javascript": [
        "$('div#05937b91-e765-4e0e-870f-a875418e5522').text('1995 of 2029');"
       ],
       "metadata": {},
       "output_type": "display_data",
       "text": [
        "<IPython.core.display.Javascript at 0x17275208>"
       ]
      },
      {
       "javascript": [
        "$('div#75694a1b-ce5b-42c7-858e-51d1b658f9e1').text(' 98%');"
       ],
       "metadata": {},
       "output_type": "display_data",
       "text": [
        "<IPython.core.display.Javascript at 0x172753c8>"
       ]
      },
      {
       "javascript": [
        "\n",
        "        var $myPB = $(\"div#7c809e90-c740-4dbb-b29d-d602b4a96152\")\n",
        "        if ($myPB.hasClass('ui-progressbar')) {\n",
        "            $myPB.progressbar('value', 1995);\n",
        "        } else {\n",
        "            $myPB.progressbar({value: 0, max: 2029});\n",
        "        }\n",
        "        "
       ],
       "metadata": {},
       "output_type": "display_data",
       "text": [
        "<IPython.core.display.Javascript at 0x1a889fd0>"
       ]
      },
      {
       "javascript": [
        "$('div#f13a49d9-7b42-4a42-bc68-177f0d24dd2b').text('ETA:  0:00:00');"
       ],
       "metadata": {},
       "output_type": "display_data",
       "text": [
        "<IPython.core.display.Javascript at 0x1a889fd0>"
       ]
      },
      {
       "javascript": [
        "$('div#05937b91-e765-4e0e-870f-a875418e5522').text('2016 of 2029');"
       ],
       "metadata": {},
       "output_type": "display_data",
       "text": [
        "<IPython.core.display.Javascript at 0x1a889cf8>"
       ]
      },
      {
       "javascript": [
        "$('div#75694a1b-ce5b-42c7-858e-51d1b658f9e1').text(' 99%');"
       ],
       "metadata": {},
       "output_type": "display_data",
       "text": [
        "<IPython.core.display.Javascript at 0x1a889160>"
       ]
      },
      {
       "javascript": [
        "\n",
        "        var $myPB = $(\"div#7c809e90-c740-4dbb-b29d-d602b4a96152\")\n",
        "        if ($myPB.hasClass('ui-progressbar')) {\n",
        "            $myPB.progressbar('value', 2016);\n",
        "        } else {\n",
        "            $myPB.progressbar({value: 0, max: 2029});\n",
        "        }\n",
        "        "
       ],
       "metadata": {},
       "output_type": "display_data",
       "text": [
        "<IPython.core.display.Javascript at 0x1a889160>"
       ]
      },
      {
       "javascript": [
        "$('div#f13a49d9-7b42-4a42-bc68-177f0d24dd2b').text('ETA:  0:00:00');"
       ],
       "metadata": {},
       "output_type": "display_data",
       "text": [
        "<IPython.core.display.Javascript at 0x1a889b70>"
       ]
      },
      {
       "javascript": [
        "$('div#05937b91-e765-4e0e-870f-a875418e5522').text('2029 of 2029');"
       ],
       "metadata": {},
       "output_type": "display_data",
       "text": [
        "<IPython.core.display.Javascript at 0x1a889d30>"
       ]
      },
      {
       "javascript": [
        "$('div#75694a1b-ce5b-42c7-858e-51d1b658f9e1').text('100%');"
       ],
       "metadata": {},
       "output_type": "display_data",
       "text": [
        "<IPython.core.display.Javascript at 0x1a889fd0>"
       ]
      },
      {
       "javascript": [
        "\n",
        "        var $myPB = $(\"div#7c809e90-c740-4dbb-b29d-d602b4a96152\")\n",
        "        if ($myPB.hasClass('ui-progressbar')) {\n",
        "            $myPB.progressbar('value', 2029);\n",
        "        } else {\n",
        "            $myPB.progressbar({value: 0, max: 2029});\n",
        "        }\n",
        "        "
       ],
       "metadata": {},
       "output_type": "display_data",
       "text": [
        "<IPython.core.display.Javascript at 0x1a889fd0>"
       ]
      },
      {
       "javascript": [
        "$('div#f13a49d9-7b42-4a42-bc68-177f0d24dd2b').text('Time: 0:00:00');"
       ],
       "metadata": {},
       "output_type": "display_data",
       "text": [
        "<IPython.core.display.Javascript at 0x1a889cf8>"
       ]
      },
      {
       "javascript": [
        "var element = document.getElementById('0a17a12a-2c7e-4e69-889c-f1aabfb33584');\n",
        "                    var parent = element.parentNode\n",
        "                    parent.removeChild(element);\n",
        "                    parent.parentElement.remove();"
       ],
       "metadata": {},
       "output_type": "display_data",
       "text": [
        "<IPython.core.display.Javascript at 0x208d08d0>"
       ]
      },
      {
       "javascript": [
        "this.cleanProgressBar(['0a17a12a-2c7e-4e69-889c-f1aabfb33584', '05937b91-e765-4e0e-870f-a875418e5522', '75694a1b-ce5b-42c7-858e-51d1b658f9e1', '7c809e90-c740-4dbb-b29d-d602b4a96152', 'f13a49d9-7b42-4a42-bc68-177f0d24dd2b'])"
       ],
       "metadata": {},
       "output_type": "display_data",
       "text": [
        "<IPython.core.display.Javascript at 0x1a889b70>"
       ]
      },
      {
       "javascript": [
        "//3434c5df-ed01-4e11-a0fc-ad78666b9935\n",
        "$(\"head\").append(\"<style> td.pb_widget {     width: auto; } td.pb_widget_fill {     width: 100%; } table.pb {     font-family: monospace;     border: 0;     margin: 0; } table.pb tr { border: 0; } table.pb td {     white-space: nowrap;     border: 0; } div.pb {     border: 1px solid #ddd;     border-radius: 3px; } div.pb_bar {     height: 1.5em; } </style>\")"
       ],
       "metadata": {},
       "output_type": "display_data",
       "text": [
        "<IPython.core.display.Javascript at 0x1af2e3c8>"
       ]
      },
      {
       "javascript": [
        "\n",
        "                  // 3434c5df-ed01-4e11-a0fc-ad78666b9935 -- used to remove this code blob in the end\n",
        "                  IPython.OutputArea.prototype.cleanProgressBar = function(uuids) {\n",
        "                      // filter by uuid-strings \n",
        "                      var myfilter = function(output) { \n",
        "                          var nuids = uuids.length;\n",
        "                          for (var i=0; i<nuids; i++) {\n",
        "                              if (output.hasOwnProperty('html')) {\n",
        "                                  if (output.html.indexOf(uuids[i]) != -1) {\n",
        "                                      return false;\n",
        "                                  }\n",
        "                              }\n",
        "                              if (output.hasOwnProperty('javascript')) {\n",
        "                                  if (output.javascript.indexOf(uuids[i]) != -1) {\n",
        "                                      return false;\n",
        "                                  }\n",
        "                              }\n",
        "                          }\n",
        "                          // keep all others\n",
        "                          return true;\n",
        "                      };\n",
        "\n",
        "                      // Filter the ouputs\n",
        "                      this.outputs = this.outputs.filter(myfilter);\n",
        "                };\n",
        "                "
       ],
       "metadata": {},
       "output_type": "display_data",
       "text": [
        "<IPython.core.display.Javascript at 0x1af2e080>"
       ]
      },
      {
       "html": [
        "<div class=\"pb\" id=\"3434c5df-ed01-4e11-a0fc-ad78666b9935\"><table class=\"pb ui-widget\"><tr>\n",
        "<td class=\"pb_widget\">Chunking </td>\n",
        "<td class=\"pb_widget\"><div id=\"ecc6f276-6e08-4755-a53b-0bbb76fd658f\">0 of 2029</div></td>\n",
        "<td class=\"pb_widget\"><div id=\"16d659e2-9d2b-4dd0-a8ff-eb1943b0aa1f\">  0%</div></td>\n",
        "<td class=\"pb_widget_fill\">\n",
        "        <div class=\"pb_bar\" id=\"216260dd-78b5-4879-b42c-227c8bf57c3b\"></div>\n",
        "        <script type=\"text/javascript\">\n",
        "            $(\"div#216260dd-78b5-4879-b42c-227c8bf57c3b\").progressbar({value: 0, max: 2029});\n",
        "        </script>\n",
        "        </td>\n",
        "<td class=\"pb_widget\"><div id=\"9d7f465c-4c57-4eb7-9f4f-4f010f68fefe\">ETA:  --:--:--</div></td>\n",
        "</tr></table><div>"
       ],
       "metadata": {},
       "output_type": "display_data",
       "text": [
        "<IPython.core.display.HTML at 0x150fcb38>"
       ]
      },
      {
       "javascript": [
        "$('div#ecc6f276-6e08-4755-a53b-0bbb76fd658f').text('21 of 2029');"
       ],
       "metadata": {},
       "output_type": "display_data",
       "text": [
        "<IPython.core.display.Javascript at 0x1af2e0f0>"
       ]
      },
      {
       "javascript": [
        "$('div#16d659e2-9d2b-4dd0-a8ff-eb1943b0aa1f').text('  1%');"
       ],
       "metadata": {},
       "output_type": "display_data",
       "text": [
        "<IPython.core.display.Javascript at 0x150fcb38>"
       ]
      },
      {
       "javascript": [
        "\n",
        "        var $myPB = $(\"div#216260dd-78b5-4879-b42c-227c8bf57c3b\")\n",
        "        if ($myPB.hasClass('ui-progressbar')) {\n",
        "            $myPB.progressbar('value', 21);\n",
        "        } else {\n",
        "            $myPB.progressbar({value: 0, max: 2029});\n",
        "        }\n",
        "        "
       ],
       "metadata": {},
       "output_type": "display_data",
       "text": [
        "<IPython.core.display.Javascript at 0x1af2e0f0>"
       ]
      },
      {
       "javascript": [
        "$('div#9d7f465c-4c57-4eb7-9f4f-4f010f68fefe').text('ETA:  0:00:00');"
       ],
       "metadata": {},
       "output_type": "display_data",
       "text": [
        "<IPython.core.display.Javascript at 0x1af2e080>"
       ]
      },
      {
       "javascript": [
        "$('div#ecc6f276-6e08-4755-a53b-0bbb76fd658f').text('42 of 2029');"
       ],
       "metadata": {},
       "output_type": "display_data",
       "text": [
        "<IPython.core.display.Javascript at 0x1af2ea58>"
       ]
      },
      {
       "javascript": [
        "$('div#16d659e2-9d2b-4dd0-a8ff-eb1943b0aa1f').text('  2%');"
       ],
       "metadata": {},
       "output_type": "display_data",
       "text": [
        "<IPython.core.display.Javascript at 0x208d0a58>"
       ]
      },
      {
       "javascript": [
        "\n",
        "        var $myPB = $(\"div#216260dd-78b5-4879-b42c-227c8bf57c3b\")\n",
        "        if ($myPB.hasClass('ui-progressbar')) {\n",
        "            $myPB.progressbar('value', 42);\n",
        "        } else {\n",
        "            $myPB.progressbar({value: 0, max: 2029});\n",
        "        }\n",
        "        "
       ],
       "metadata": {},
       "output_type": "display_data",
       "text": [
        "<IPython.core.display.Javascript at 0x208d0780>"
       ]
      },
      {
       "javascript": [
        "$('div#9d7f465c-4c57-4eb7-9f4f-4f010f68fefe').text('ETA:  0:00:00');"
       ],
       "metadata": {},
       "output_type": "display_data",
       "text": [
        "<IPython.core.display.Javascript at 0x150fcb38>"
       ]
      },
      {
       "javascript": [
        "$('div#ecc6f276-6e08-4755-a53b-0bbb76fd658f').text('63 of 2029');"
       ],
       "metadata": {},
       "output_type": "display_data",
       "text": [
        "<IPython.core.display.Javascript at 0x208d0780>"
       ]
      },
      {
       "javascript": [
        "$('div#16d659e2-9d2b-4dd0-a8ff-eb1943b0aa1f').text('  3%');"
       ],
       "metadata": {},
       "output_type": "display_data",
       "text": [
        "<IPython.core.display.Javascript at 0x208d0a58>"
       ]
      },
      {
       "javascript": [
        "\n",
        "        var $myPB = $(\"div#216260dd-78b5-4879-b42c-227c8bf57c3b\")\n",
        "        if ($myPB.hasClass('ui-progressbar')) {\n",
        "            $myPB.progressbar('value', 63);\n",
        "        } else {\n",
        "            $myPB.progressbar({value: 0, max: 2029});\n",
        "        }\n",
        "        "
       ],
       "metadata": {},
       "output_type": "display_data",
       "text": [
        "<IPython.core.display.Javascript at 0x1af2e3c8>"
       ]
      },
      {
       "javascript": [
        "$('div#9d7f465c-4c57-4eb7-9f4f-4f010f68fefe').text('ETA:  0:00:00');"
       ],
       "metadata": {},
       "output_type": "display_data",
       "text": [
        "<IPython.core.display.Javascript at 0x1af2e128>"
       ]
      },
      {
       "javascript": [
        "$('div#ecc6f276-6e08-4755-a53b-0bbb76fd658f').text('84 of 2029');"
       ],
       "metadata": {},
       "output_type": "display_data",
       "text": [
        "<IPython.core.display.Javascript at 0x208d0a58>"
       ]
      },
      {
       "javascript": [
        "$('div#16d659e2-9d2b-4dd0-a8ff-eb1943b0aa1f').text('  4%');"
       ],
       "metadata": {},
       "output_type": "display_data",
       "text": [
        "<IPython.core.display.Javascript at 0x208d0780>"
       ]
      },
      {
       "javascript": [
        "\n",
        "        var $myPB = $(\"div#216260dd-78b5-4879-b42c-227c8bf57c3b\")\n",
        "        if ($myPB.hasClass('ui-progressbar')) {\n",
        "            $myPB.progressbar('value', 84);\n",
        "        } else {\n",
        "            $myPB.progressbar({value: 0, max: 2029});\n",
        "        }\n",
        "        "
       ],
       "metadata": {},
       "output_type": "display_data",
       "text": [
        "<IPython.core.display.Javascript at 0x1af2e128>"
       ]
      },
      {
       "javascript": [
        "$('div#9d7f465c-4c57-4eb7-9f4f-4f010f68fefe').text('ETA:  0:00:00');"
       ],
       "metadata": {},
       "output_type": "display_data",
       "text": [
        "<IPython.core.display.Javascript at 0x1af2ea58>"
       ]
      },
      {
       "javascript": [
        "$('div#ecc6f276-6e08-4755-a53b-0bbb76fd658f').text('105 of 2029');"
       ],
       "metadata": {},
       "output_type": "display_data",
       "text": [
        "<IPython.core.display.Javascript at 0x208d0780>"
       ]
      },
      {
       "javascript": [
        "$('div#16d659e2-9d2b-4dd0-a8ff-eb1943b0aa1f').text('  5%');"
       ],
       "metadata": {},
       "output_type": "display_data",
       "text": [
        "<IPython.core.display.Javascript at 0x208d0a58>"
       ]
      },
      {
       "javascript": [
        "\n",
        "        var $myPB = $(\"div#216260dd-78b5-4879-b42c-227c8bf57c3b\")\n",
        "        if ($myPB.hasClass('ui-progressbar')) {\n",
        "            $myPB.progressbar('value', 105);\n",
        "        } else {\n",
        "            $myPB.progressbar({value: 0, max: 2029});\n",
        "        }\n",
        "        "
       ],
       "metadata": {},
       "output_type": "display_data",
       "text": [
        "<IPython.core.display.Javascript at 0x1af2e3c8>"
       ]
      },
      {
       "javascript": [
        "$('div#9d7f465c-4c57-4eb7-9f4f-4f010f68fefe').text('ETA:  0:00:00');"
       ],
       "metadata": {},
       "output_type": "display_data",
       "text": [
        "<IPython.core.display.Javascript at 0x1af2ea58>"
       ]
      },
      {
       "javascript": [
        "$('div#ecc6f276-6e08-4755-a53b-0bbb76fd658f').text('126 of 2029');"
       ],
       "metadata": {},
       "output_type": "display_data",
       "text": [
        "<IPython.core.display.Javascript at 0x208d0a58>"
       ]
      },
      {
       "javascript": [
        "$('div#16d659e2-9d2b-4dd0-a8ff-eb1943b0aa1f').text('  6%');"
       ],
       "metadata": {},
       "output_type": "display_data",
       "text": [
        "<IPython.core.display.Javascript at 0x208d0780>"
       ]
      },
      {
       "javascript": [
        "\n",
        "        var $myPB = $(\"div#216260dd-78b5-4879-b42c-227c8bf57c3b\")\n",
        "        if ($myPB.hasClass('ui-progressbar')) {\n",
        "            $myPB.progressbar('value', 126);\n",
        "        } else {\n",
        "            $myPB.progressbar({value: 0, max: 2029});\n",
        "        }\n",
        "        "
       ],
       "metadata": {},
       "output_type": "display_data",
       "text": [
        "<IPython.core.display.Javascript at 0x1af2ea58>"
       ]
      },
      {
       "javascript": [
        "$('div#9d7f465c-4c57-4eb7-9f4f-4f010f68fefe').text('ETA:  0:00:00');"
       ],
       "metadata": {},
       "output_type": "display_data",
       "text": [
        "<IPython.core.display.Javascript at 0x1af2e128>"
       ]
      },
      {
       "javascript": [
        "$('div#ecc6f276-6e08-4755-a53b-0bbb76fd658f').text('147 of 2029');"
       ],
       "metadata": {},
       "output_type": "display_data",
       "text": [
        "<IPython.core.display.Javascript at 0x208d0780>"
       ]
      },
      {
       "javascript": [
        "$('div#16d659e2-9d2b-4dd0-a8ff-eb1943b0aa1f').text('  7%');"
       ],
       "metadata": {},
       "output_type": "display_data",
       "text": [
        "<IPython.core.display.Javascript at 0x208d0a58>"
       ]
      },
      {
       "javascript": [
        "\n",
        "        var $myPB = $(\"div#216260dd-78b5-4879-b42c-227c8bf57c3b\")\n",
        "        if ($myPB.hasClass('ui-progressbar')) {\n",
        "            $myPB.progressbar('value', 147);\n",
        "        } else {\n",
        "            $myPB.progressbar({value: 0, max: 2029});\n",
        "        }\n",
        "        "
       ],
       "metadata": {},
       "output_type": "display_data",
       "text": [
        "<IPython.core.display.Javascript at 0x1af2e128>"
       ]
      },
      {
       "javascript": [
        "$('div#9d7f465c-4c57-4eb7-9f4f-4f010f68fefe').text('ETA:  0:00:00');"
       ],
       "metadata": {},
       "output_type": "display_data",
       "text": [
        "<IPython.core.display.Javascript at 0x208d0a58>"
       ]
      },
      {
       "javascript": [
        "$('div#ecc6f276-6e08-4755-a53b-0bbb76fd658f').text('168 of 2029');"
       ],
       "metadata": {},
       "output_type": "display_data",
       "text": [
        "<IPython.core.display.Javascript at 0x208d0780>"
       ]
      },
      {
       "javascript": [
        "$('div#16d659e2-9d2b-4dd0-a8ff-eb1943b0aa1f').text('  8%');"
       ],
       "metadata": {},
       "output_type": "display_data",
       "text": [
        "<IPython.core.display.Javascript at 0x1af2ea58>"
       ]
      },
      {
       "javascript": [
        "\n",
        "        var $myPB = $(\"div#216260dd-78b5-4879-b42c-227c8bf57c3b\")\n",
        "        if ($myPB.hasClass('ui-progressbar')) {\n",
        "            $myPB.progressbar('value', 168);\n",
        "        } else {\n",
        "            $myPB.progressbar({value: 0, max: 2029});\n",
        "        }\n",
        "        "
       ],
       "metadata": {},
       "output_type": "display_data",
       "text": [
        "<IPython.core.display.Javascript at 0x1af2e080>"
       ]
      },
      {
       "javascript": [
        "$('div#9d7f465c-4c57-4eb7-9f4f-4f010f68fefe').text('ETA:  0:00:00');"
       ],
       "metadata": {},
       "output_type": "display_data",
       "text": [
        "<IPython.core.display.Javascript at 0x208d0a58>"
       ]
      },
      {
       "javascript": [
        "$('div#ecc6f276-6e08-4755-a53b-0bbb76fd658f').text('189 of 2029');"
       ],
       "metadata": {},
       "output_type": "display_data",
       "text": [
        "<IPython.core.display.Javascript at 0x208d0780>"
       ]
      },
      {
       "javascript": [
        "$('div#16d659e2-9d2b-4dd0-a8ff-eb1943b0aa1f').text('  9%');"
       ],
       "metadata": {},
       "output_type": "display_data",
       "text": [
        "<IPython.core.display.Javascript at 0x1af2e128>"
       ]
      },
      {
       "javascript": [
        "\n",
        "        var $myPB = $(\"div#216260dd-78b5-4879-b42c-227c8bf57c3b\")\n",
        "        if ($myPB.hasClass('ui-progressbar')) {\n",
        "            $myPB.progressbar('value', 189);\n",
        "        } else {\n",
        "            $myPB.progressbar({value: 0, max: 2029});\n",
        "        }\n",
        "        "
       ],
       "metadata": {},
       "output_type": "display_data",
       "text": [
        "<IPython.core.display.Javascript at 0x208d0780>"
       ]
      },
      {
       "javascript": [
        "$('div#9d7f465c-4c57-4eb7-9f4f-4f010f68fefe').text('ETA:  0:00:00');"
       ],
       "metadata": {},
       "output_type": "display_data",
       "text": [
        "<IPython.core.display.Javascript at 0x208d0a58>"
       ]
      },
      {
       "javascript": [
        "$('div#ecc6f276-6e08-4755-a53b-0bbb76fd658f').text('210 of 2029');"
       ],
       "metadata": {},
       "output_type": "display_data",
       "text": [
        "<IPython.core.display.Javascript at 0x1af2ea58>"
       ]
      },
      {
       "javascript": [
        "$('div#16d659e2-9d2b-4dd0-a8ff-eb1943b0aa1f').text(' 10%');"
       ],
       "metadata": {},
       "output_type": "display_data",
       "text": [
        "<IPython.core.display.Javascript at 0x208d0a58>"
       ]
      },
      {
       "javascript": [
        "\n",
        "        var $myPB = $(\"div#216260dd-78b5-4879-b42c-227c8bf57c3b\")\n",
        "        if ($myPB.hasClass('ui-progressbar')) {\n",
        "            $myPB.progressbar('value', 210);\n",
        "        } else {\n",
        "            $myPB.progressbar({value: 0, max: 2029});\n",
        "        }\n",
        "        "
       ],
       "metadata": {},
       "output_type": "display_data",
       "text": [
        "<IPython.core.display.Javascript at 0x208d0780>"
       ]
      },
      {
       "javascript": [
        "$('div#9d7f465c-4c57-4eb7-9f4f-4f010f68fefe').text('ETA:  0:00:00');"
       ],
       "metadata": {},
       "output_type": "display_data",
       "text": [
        "<IPython.core.display.Javascript at 0x1af2e128>"
       ]
      },
      {
       "javascript": [
        "$('div#ecc6f276-6e08-4755-a53b-0bbb76fd658f').text('231 of 2029');"
       ],
       "metadata": {},
       "output_type": "display_data",
       "text": [
        "<IPython.core.display.Javascript at 0x1af2ea58>"
       ]
      },
      {
       "javascript": [
        "$('div#16d659e2-9d2b-4dd0-a8ff-eb1943b0aa1f').text(' 11%');"
       ],
       "metadata": {},
       "output_type": "display_data",
       "text": [
        "<IPython.core.display.Javascript at 0x208d0a58>"
       ]
      },
      {
       "javascript": [
        "\n",
        "        var $myPB = $(\"div#216260dd-78b5-4879-b42c-227c8bf57c3b\")\n",
        "        if ($myPB.hasClass('ui-progressbar')) {\n",
        "            $myPB.progressbar('value', 231);\n",
        "        } else {\n",
        "            $myPB.progressbar({value: 0, max: 2029});\n",
        "        }\n",
        "        "
       ],
       "metadata": {},
       "output_type": "display_data",
       "text": [
        "<IPython.core.display.Javascript at 0x208d0780>"
       ]
      },
      {
       "javascript": [
        "$('div#9d7f465c-4c57-4eb7-9f4f-4f010f68fefe').text('ETA:  0:00:00');"
       ],
       "metadata": {},
       "output_type": "display_data",
       "text": [
        "<IPython.core.display.Javascript at 0x1af2e3c8>"
       ]
      },
      {
       "javascript": [
        "$('div#ecc6f276-6e08-4755-a53b-0bbb76fd658f').text('252 of 2029');"
       ],
       "metadata": {},
       "output_type": "display_data",
       "text": [
        "<IPython.core.display.Javascript at 0x208d0780>"
       ]
      },
      {
       "javascript": [
        "$('div#16d659e2-9d2b-4dd0-a8ff-eb1943b0aa1f').text(' 12%');"
       ],
       "metadata": {},
       "output_type": "display_data",
       "text": [
        "<IPython.core.display.Javascript at 0x208d0a58>"
       ]
      },
      {
       "javascript": [
        "\n",
        "        var $myPB = $(\"div#216260dd-78b5-4879-b42c-227c8bf57c3b\")\n",
        "        if ($myPB.hasClass('ui-progressbar')) {\n",
        "            $myPB.progressbar('value', 252);\n",
        "        } else {\n",
        "            $myPB.progressbar({value: 0, max: 2029});\n",
        "        }\n",
        "        "
       ],
       "metadata": {},
       "output_type": "display_data",
       "text": [
        "<IPython.core.display.Javascript at 0x1af2e128>"
       ]
      },
      {
       "javascript": [
        "$('div#9d7f465c-4c57-4eb7-9f4f-4f010f68fefe').text('ETA:  0:00:00');"
       ],
       "metadata": {},
       "output_type": "display_data",
       "text": [
        "<IPython.core.display.Javascript at 0x1af2ea58>"
       ]
      },
      {
       "javascript": [
        "$('div#ecc6f276-6e08-4755-a53b-0bbb76fd658f').text('273 of 2029');"
       ],
       "metadata": {},
       "output_type": "display_data",
       "text": [
        "<IPython.core.display.Javascript at 0x208d0a58>"
       ]
      },
      {
       "javascript": [
        "$('div#16d659e2-9d2b-4dd0-a8ff-eb1943b0aa1f').text(' 13%');"
       ],
       "metadata": {},
       "output_type": "display_data",
       "text": [
        "<IPython.core.display.Javascript at 0x208d0780>"
       ]
      },
      {
       "javascript": [
        "\n",
        "        var $myPB = $(\"div#216260dd-78b5-4879-b42c-227c8bf57c3b\")\n",
        "        if ($myPB.hasClass('ui-progressbar')) {\n",
        "            $myPB.progressbar('value', 273);\n",
        "        } else {\n",
        "            $myPB.progressbar({value: 0, max: 2029});\n",
        "        }\n",
        "        "
       ],
       "metadata": {},
       "output_type": "display_data",
       "text": [
        "<IPython.core.display.Javascript at 0x1af2ea58>"
       ]
      },
      {
       "javascript": [
        "$('div#9d7f465c-4c57-4eb7-9f4f-4f010f68fefe').text('ETA:  0:00:00');"
       ],
       "metadata": {},
       "output_type": "display_data",
       "text": [
        "<IPython.core.display.Javascript at 0x208d0780>"
       ]
      },
      {
       "javascript": [
        "$('div#ecc6f276-6e08-4755-a53b-0bbb76fd658f').text('294 of 2029');"
       ],
       "metadata": {},
       "output_type": "display_data",
       "text": [
        "<IPython.core.display.Javascript at 0x208d0a58>"
       ]
      },
      {
       "javascript": [
        "$('div#16d659e2-9d2b-4dd0-a8ff-eb1943b0aa1f').text(' 14%');"
       ],
       "metadata": {},
       "output_type": "display_data",
       "text": [
        "<IPython.core.display.Javascript at 0x1af2e128>"
       ]
      },
      {
       "javascript": [
        "\n",
        "        var $myPB = $(\"div#216260dd-78b5-4879-b42c-227c8bf57c3b\")\n",
        "        if ($myPB.hasClass('ui-progressbar')) {\n",
        "            $myPB.progressbar('value', 294);\n",
        "        } else {\n",
        "            $myPB.progressbar({value: 0, max: 2029});\n",
        "        }\n",
        "        "
       ],
       "metadata": {},
       "output_type": "display_data",
       "text": [
        "<IPython.core.display.Javascript at 0x1af2e080>"
       ]
      },
      {
       "javascript": [
        "$('div#9d7f465c-4c57-4eb7-9f4f-4f010f68fefe').text('ETA:  0:00:00');"
       ],
       "metadata": {},
       "output_type": "display_data",
       "text": [
        "<IPython.core.display.Javascript at 0x208d0780>"
       ]
      },
      {
       "javascript": [
        "$('div#ecc6f276-6e08-4755-a53b-0bbb76fd658f').text('315 of 2029');"
       ],
       "metadata": {},
       "output_type": "display_data",
       "text": [
        "<IPython.core.display.Javascript at 0x208d0a58>"
       ]
      },
      {
       "javascript": [
        "$('div#16d659e2-9d2b-4dd0-a8ff-eb1943b0aa1f').text(' 15%');"
       ],
       "metadata": {},
       "output_type": "display_data",
       "text": [
        "<IPython.core.display.Javascript at 0x1af2e3c8>"
       ]
      },
      {
       "javascript": [
        "\n",
        "        var $myPB = $(\"div#216260dd-78b5-4879-b42c-227c8bf57c3b\")\n",
        "        if ($myPB.hasClass('ui-progressbar')) {\n",
        "            $myPB.progressbar('value', 315);\n",
        "        } else {\n",
        "            $myPB.progressbar({value: 0, max: 2029});\n",
        "        }\n",
        "        "
       ],
       "metadata": {},
       "output_type": "display_data",
       "text": [
        "<IPython.core.display.Javascript at 0x208d0a58>"
       ]
      },
      {
       "javascript": [
        "$('div#9d7f465c-4c57-4eb7-9f4f-4f010f68fefe').text('ETA:  0:00:00');"
       ],
       "metadata": {},
       "output_type": "display_data",
       "text": [
        "<IPython.core.display.Javascript at 0x208d0780>"
       ]
      },
      {
       "javascript": [
        "$('div#ecc6f276-6e08-4755-a53b-0bbb76fd658f').text('336 of 2029');"
       ],
       "metadata": {},
       "output_type": "display_data",
       "text": [
        "<IPython.core.display.Javascript at 0x1af2e128>"
       ]
      },
      {
       "javascript": [
        "$('div#16d659e2-9d2b-4dd0-a8ff-eb1943b0aa1f').text(' 16%');"
       ],
       "metadata": {},
       "output_type": "display_data",
       "text": [
        "<IPython.core.display.Javascript at 0x208d0780>"
       ]
      },
      {
       "javascript": [
        "\n",
        "        var $myPB = $(\"div#216260dd-78b5-4879-b42c-227c8bf57c3b\")\n",
        "        if ($myPB.hasClass('ui-progressbar')) {\n",
        "            $myPB.progressbar('value', 336);\n",
        "        } else {\n",
        "            $myPB.progressbar({value: 0, max: 2029});\n",
        "        }\n",
        "        "
       ],
       "metadata": {},
       "output_type": "display_data",
       "text": [
        "<IPython.core.display.Javascript at 0x208d0a58>"
       ]
      },
      {
       "javascript": [
        "$('div#9d7f465c-4c57-4eb7-9f4f-4f010f68fefe').text('ETA:  0:00:00');"
       ],
       "metadata": {},
       "output_type": "display_data",
       "text": [
        "<IPython.core.display.Javascript at 0x1af2e3c8>"
       ]
      },
      {
       "javascript": [
        "$('div#ecc6f276-6e08-4755-a53b-0bbb76fd658f').text('357 of 2029');"
       ],
       "metadata": {},
       "output_type": "display_data",
       "text": [
        "<IPython.core.display.Javascript at 0x1af2e128>"
       ]
      },
      {
       "javascript": [
        "$('div#16d659e2-9d2b-4dd0-a8ff-eb1943b0aa1f').text(' 17%');"
       ],
       "metadata": {},
       "output_type": "display_data",
       "text": [
        "<IPython.core.display.Javascript at 0x208d0a58>"
       ]
      },
      {
       "javascript": [
        "\n",
        "        var $myPB = $(\"div#216260dd-78b5-4879-b42c-227c8bf57c3b\")\n",
        "        if ($myPB.hasClass('ui-progressbar')) {\n",
        "            $myPB.progressbar('value', 357);\n",
        "        } else {\n",
        "            $myPB.progressbar({value: 0, max: 2029});\n",
        "        }\n",
        "        "
       ],
       "metadata": {},
       "output_type": "display_data",
       "text": [
        "<IPython.core.display.Javascript at 0x208d0780>"
       ]
      },
      {
       "javascript": [
        "$('div#9d7f465c-4c57-4eb7-9f4f-4f010f68fefe').text('ETA:  0:00:00');"
       ],
       "metadata": {},
       "output_type": "display_data",
       "text": [
        "<IPython.core.display.Javascript at 0x1af2e080>"
       ]
      },
      {
       "javascript": [
        "$('div#ecc6f276-6e08-4755-a53b-0bbb76fd658f').text('378 of 2029');"
       ],
       "metadata": {},
       "output_type": "display_data",
       "text": [
        "<IPython.core.display.Javascript at 0x1af2e128>"
       ]
      },
      {
       "javascript": [
        "$('div#16d659e2-9d2b-4dd0-a8ff-eb1943b0aa1f').text(' 18%');"
       ],
       "metadata": {},
       "output_type": "display_data",
       "text": [
        "<IPython.core.display.Javascript at 0x1af2e3c8>"
       ]
      },
      {
       "javascript": [
        "\n",
        "        var $myPB = $(\"div#216260dd-78b5-4879-b42c-227c8bf57c3b\")\n",
        "        if ($myPB.hasClass('ui-progressbar')) {\n",
        "            $myPB.progressbar('value', 378);\n",
        "        } else {\n",
        "            $myPB.progressbar({value: 0, max: 2029});\n",
        "        }\n",
        "        "
       ],
       "metadata": {},
       "output_type": "display_data",
       "text": [
        "<IPython.core.display.Javascript at 0x1af2ea58>"
       ]
      },
      {
       "javascript": [
        "$('div#9d7f465c-4c57-4eb7-9f4f-4f010f68fefe').text('ETA:  0:00:00');"
       ],
       "metadata": {},
       "output_type": "display_data",
       "text": [
        "<IPython.core.display.Javascript at 0x1af2e0f0>"
       ]
      },
      {
       "javascript": [
        "$('div#ecc6f276-6e08-4755-a53b-0bbb76fd658f').text('399 of 2029');"
       ],
       "metadata": {},
       "output_type": "display_data",
       "text": [
        "<IPython.core.display.Javascript at 0x1af2e0f0>"
       ]
      },
      {
       "javascript": [
        "$('div#16d659e2-9d2b-4dd0-a8ff-eb1943b0aa1f').text(' 19%');"
       ],
       "metadata": {},
       "output_type": "display_data",
       "text": [
        "<IPython.core.display.Javascript at 0x1af2e080>"
       ]
      },
      {
       "javascript": [
        "\n",
        "        var $myPB = $(\"div#216260dd-78b5-4879-b42c-227c8bf57c3b\")\n",
        "        if ($myPB.hasClass('ui-progressbar')) {\n",
        "            $myPB.progressbar('value', 399);\n",
        "        } else {\n",
        "            $myPB.progressbar({value: 0, max: 2029});\n",
        "        }\n",
        "        "
       ],
       "metadata": {},
       "output_type": "display_data",
       "text": [
        "<IPython.core.display.Javascript at 0x1af2ea58>"
       ]
      },
      {
       "javascript": [
        "$('div#9d7f465c-4c57-4eb7-9f4f-4f010f68fefe').text('ETA:  0:00:00');"
       ],
       "metadata": {},
       "output_type": "display_data",
       "text": [
        "<IPython.core.display.Javascript at 0x1af2e128>"
       ]
      },
      {
       "javascript": [
        "$('div#ecc6f276-6e08-4755-a53b-0bbb76fd658f').text('420 of 2029');"
       ],
       "metadata": {},
       "output_type": "display_data",
       "text": [
        "<IPython.core.display.Javascript at 0x1af2e128>"
       ]
      },
      {
       "javascript": [
        "$('div#16d659e2-9d2b-4dd0-a8ff-eb1943b0aa1f').text(' 20%');"
       ],
       "metadata": {},
       "output_type": "display_data",
       "text": [
        "<IPython.core.display.Javascript at 0x1af2e3c8>"
       ]
      },
      {
       "javascript": [
        "\n",
        "        var $myPB = $(\"div#216260dd-78b5-4879-b42c-227c8bf57c3b\")\n",
        "        if ($myPB.hasClass('ui-progressbar')) {\n",
        "            $myPB.progressbar('value', 420);\n",
        "        } else {\n",
        "            $myPB.progressbar({value: 0, max: 2029});\n",
        "        }\n",
        "        "
       ],
       "metadata": {},
       "output_type": "display_data",
       "text": [
        "<IPython.core.display.Javascript at 0x1af2e080>"
       ]
      },
      {
       "javascript": [
        "$('div#9d7f465c-4c57-4eb7-9f4f-4f010f68fefe').text('ETA:  0:00:00');"
       ],
       "metadata": {},
       "output_type": "display_data",
       "text": [
        "<IPython.core.display.Javascript at 0x1af2e080>"
       ]
      },
      {
       "javascript": [
        "$('div#ecc6f276-6e08-4755-a53b-0bbb76fd658f').text('441 of 2029');"
       ],
       "metadata": {},
       "output_type": "display_data",
       "text": [
        "<IPython.core.display.Javascript at 0x1af2e0f0>"
       ]
      },
      {
       "javascript": [
        "$('div#16d659e2-9d2b-4dd0-a8ff-eb1943b0aa1f').text(' 21%');"
       ],
       "metadata": {},
       "output_type": "display_data",
       "text": [
        "<IPython.core.display.Javascript at 0x1af2e3c8>"
       ]
      },
      {
       "javascript": [
        "\n",
        "        var $myPB = $(\"div#216260dd-78b5-4879-b42c-227c8bf57c3b\")\n",
        "        if ($myPB.hasClass('ui-progressbar')) {\n",
        "            $myPB.progressbar('value', 441);\n",
        "        } else {\n",
        "            $myPB.progressbar({value: 0, max: 2029});\n",
        "        }\n",
        "        "
       ],
       "metadata": {},
       "output_type": "display_data",
       "text": [
        "<IPython.core.display.Javascript at 0x1af2ea58>"
       ]
      },
      {
       "javascript": [
        "$('div#9d7f465c-4c57-4eb7-9f4f-4f010f68fefe').text('ETA:  0:00:00');"
       ],
       "metadata": {},
       "output_type": "display_data",
       "text": [
        "<IPython.core.display.Javascript at 0x1af2ea58>"
       ]
      },
      {
       "javascript": [
        "$('div#ecc6f276-6e08-4755-a53b-0bbb76fd658f').text('462 of 2029');"
       ],
       "metadata": {},
       "output_type": "display_data",
       "text": [
        "<IPython.core.display.Javascript at 0x1af2e128>"
       ]
      },
      {
       "javascript": [
        "$('div#16d659e2-9d2b-4dd0-a8ff-eb1943b0aa1f').text(' 22%');"
       ],
       "metadata": {},
       "output_type": "display_data",
       "text": [
        "<IPython.core.display.Javascript at 0x1af2e3c8>"
       ]
      },
      {
       "javascript": [
        "\n",
        "        var $myPB = $(\"div#216260dd-78b5-4879-b42c-227c8bf57c3b\")\n",
        "        if ($myPB.hasClass('ui-progressbar')) {\n",
        "            $myPB.progressbar('value', 462);\n",
        "        } else {\n",
        "            $myPB.progressbar({value: 0, max: 2029});\n",
        "        }\n",
        "        "
       ],
       "metadata": {},
       "output_type": "display_data",
       "text": [
        "<IPython.core.display.Javascript at 0x1af2e3c8>"
       ]
      },
      {
       "javascript": [
        "$('div#9d7f465c-4c57-4eb7-9f4f-4f010f68fefe').text('ETA:  0:00:00');"
       ],
       "metadata": {},
       "output_type": "display_data",
       "text": [
        "<IPython.core.display.Javascript at 0x1af2e0f0>"
       ]
      },
      {
       "javascript": [
        "$('div#ecc6f276-6e08-4755-a53b-0bbb76fd658f').text('483 of 2029');"
       ],
       "metadata": {},
       "output_type": "display_data",
       "text": [
        "<IPython.core.display.Javascript at 0x208d0a58>"
       ]
      },
      {
       "javascript": [
        "$('div#16d659e2-9d2b-4dd0-a8ff-eb1943b0aa1f').text(' 23%');"
       ],
       "metadata": {},
       "output_type": "display_data",
       "text": [
        "<IPython.core.display.Javascript at 0x208d0780>"
       ]
      },
      {
       "javascript": [
        "\n",
        "        var $myPB = $(\"div#216260dd-78b5-4879-b42c-227c8bf57c3b\")\n",
        "        if ($myPB.hasClass('ui-progressbar')) {\n",
        "            $myPB.progressbar('value', 483);\n",
        "        } else {\n",
        "            $myPB.progressbar({value: 0, max: 2029});\n",
        "        }\n",
        "        "
       ],
       "metadata": {},
       "output_type": "display_data",
       "text": [
        "<IPython.core.display.Javascript at 0x208d0780>"
       ]
      },
      {
       "javascript": [
        "$('div#9d7f465c-4c57-4eb7-9f4f-4f010f68fefe').text('ETA:  0:00:00');"
       ],
       "metadata": {},
       "output_type": "display_data",
       "text": [
        "<IPython.core.display.Javascript at 0x208d0a58>"
       ]
      },
      {
       "javascript": [
        "$('div#ecc6f276-6e08-4755-a53b-0bbb76fd658f').text('504 of 2029');"
       ],
       "metadata": {},
       "output_type": "display_data",
       "text": [
        "<IPython.core.display.Javascript at 0x1af2ea58>"
       ]
      },
      {
       "javascript": [
        "$('div#16d659e2-9d2b-4dd0-a8ff-eb1943b0aa1f').text(' 24%');"
       ],
       "metadata": {},
       "output_type": "display_data",
       "text": [
        "<IPython.core.display.Javascript at 0x208d0a58>"
       ]
      },
      {
       "javascript": [
        "\n",
        "        var $myPB = $(\"div#216260dd-78b5-4879-b42c-227c8bf57c3b\")\n",
        "        if ($myPB.hasClass('ui-progressbar')) {\n",
        "            $myPB.progressbar('value', 504);\n",
        "        } else {\n",
        "            $myPB.progressbar({value: 0, max: 2029});\n",
        "        }\n",
        "        "
       ],
       "metadata": {},
       "output_type": "display_data",
       "text": [
        "<IPython.core.display.Javascript at 0x208d0780>"
       ]
      },
      {
       "javascript": [
        "$('div#9d7f465c-4c57-4eb7-9f4f-4f010f68fefe').text('ETA:  0:00:00');"
       ],
       "metadata": {},
       "output_type": "display_data",
       "text": [
        "<IPython.core.display.Javascript at 0x1af2e128>"
       ]
      },
      {
       "javascript": [
        "$('div#ecc6f276-6e08-4755-a53b-0bbb76fd658f').text('525 of 2029');"
       ],
       "metadata": {},
       "output_type": "display_data",
       "text": [
        "<IPython.core.display.Javascript at 0x1af2ea58>"
       ]
      },
      {
       "javascript": [
        "$('div#16d659e2-9d2b-4dd0-a8ff-eb1943b0aa1f').text(' 25%');"
       ],
       "metadata": {},
       "output_type": "display_data",
       "text": [
        "<IPython.core.display.Javascript at 0x208d0780>"
       ]
      },
      {
       "javascript": [
        "\n",
        "        var $myPB = $(\"div#216260dd-78b5-4879-b42c-227c8bf57c3b\")\n",
        "        if ($myPB.hasClass('ui-progressbar')) {\n",
        "            $myPB.progressbar('value', 525);\n",
        "        } else {\n",
        "            $myPB.progressbar({value: 0, max: 2029});\n",
        "        }\n",
        "        "
       ],
       "metadata": {},
       "output_type": "display_data",
       "text": [
        "<IPython.core.display.Javascript at 0x208d0a58>"
       ]
      },
      {
       "javascript": [
        "$('div#9d7f465c-4c57-4eb7-9f4f-4f010f68fefe').text('ETA:  0:00:00');"
       ],
       "metadata": {},
       "output_type": "display_data",
       "text": [
        "<IPython.core.display.Javascript at 0x1af2e080>"
       ]
      },
      {
       "javascript": [
        "$('div#ecc6f276-6e08-4755-a53b-0bbb76fd658f').text('546 of 2029');"
       ],
       "metadata": {},
       "output_type": "display_data",
       "text": [
        "<IPython.core.display.Javascript at 0x1af2ea58>"
       ]
      },
      {
       "javascript": [
        "$('div#16d659e2-9d2b-4dd0-a8ff-eb1943b0aa1f').text(' 26%');"
       ],
       "metadata": {},
       "output_type": "display_data",
       "text": [
        "<IPython.core.display.Javascript at 0x1af2e128>"
       ]
      },
      {
       "javascript": [
        "\n",
        "        var $myPB = $(\"div#216260dd-78b5-4879-b42c-227c8bf57c3b\")\n",
        "        if ($myPB.hasClass('ui-progressbar')) {\n",
        "            $myPB.progressbar('value', 546);\n",
        "        } else {\n",
        "            $myPB.progressbar({value: 0, max: 2029});\n",
        "        }\n",
        "        "
       ],
       "metadata": {},
       "output_type": "display_data",
       "text": [
        "<IPython.core.display.Javascript at 0x1af2e3c8>"
       ]
      },
      {
       "javascript": [
        "$('div#9d7f465c-4c57-4eb7-9f4f-4f010f68fefe').text('ETA:  0:00:00');"
       ],
       "metadata": {},
       "output_type": "display_data",
       "text": [
        "<IPython.core.display.Javascript at 0x1af2e0f0>"
       ]
      },
      {
       "javascript": [
        "$('div#ecc6f276-6e08-4755-a53b-0bbb76fd658f').text('567 of 2029');"
       ],
       "metadata": {},
       "output_type": "display_data",
       "text": [
        "<IPython.core.display.Javascript at 0x208d0780>"
       ]
      },
      {
       "javascript": [
        "$('div#16d659e2-9d2b-4dd0-a8ff-eb1943b0aa1f').text(' 27%');"
       ],
       "metadata": {},
       "output_type": "display_data",
       "text": [
        "<IPython.core.display.Javascript at 0x208d0a58>"
       ]
      },
      {
       "javascript": [
        "\n",
        "        var $myPB = $(\"div#216260dd-78b5-4879-b42c-227c8bf57c3b\")\n",
        "        if ($myPB.hasClass('ui-progressbar')) {\n",
        "            $myPB.progressbar('value', 567);\n",
        "        } else {\n",
        "            $myPB.progressbar({value: 0, max: 2029});\n",
        "        }\n",
        "        "
       ],
       "metadata": {},
       "output_type": "display_data",
       "text": [
        "<IPython.core.display.Javascript at 0x1af2e080>"
       ]
      },
      {
       "javascript": [
        "$('div#9d7f465c-4c57-4eb7-9f4f-4f010f68fefe').text('ETA:  0:00:00');"
       ],
       "metadata": {},
       "output_type": "display_data",
       "text": [
        "<IPython.core.display.Javascript at 0x1af2e3c8>"
       ]
      },
      {
       "javascript": [
        "$('div#ecc6f276-6e08-4755-a53b-0bbb76fd658f').text('588 of 2029');"
       ],
       "metadata": {},
       "output_type": "display_data",
       "text": [
        "<IPython.core.display.Javascript at 0x208d0a58>"
       ]
      },
      {
       "javascript": [
        "$('div#16d659e2-9d2b-4dd0-a8ff-eb1943b0aa1f').text(' 28%');"
       ],
       "metadata": {},
       "output_type": "display_data",
       "text": [
        "<IPython.core.display.Javascript at 0x208d0780>"
       ]
      },
      {
       "javascript": [
        "\n",
        "        var $myPB = $(\"div#216260dd-78b5-4879-b42c-227c8bf57c3b\")\n",
        "        if ($myPB.hasClass('ui-progressbar')) {\n",
        "            $myPB.progressbar('value', 588);\n",
        "        } else {\n",
        "            $myPB.progressbar({value: 0, max: 2029});\n",
        "        }\n",
        "        "
       ],
       "metadata": {},
       "output_type": "display_data",
       "text": [
        "<IPython.core.display.Javascript at 0x1af2e0f0>"
       ]
      },
      {
       "javascript": [
        "$('div#9d7f465c-4c57-4eb7-9f4f-4f010f68fefe').text('ETA:  0:00:00');"
       ],
       "metadata": {},
       "output_type": "display_data",
       "text": [
        "<IPython.core.display.Javascript at 0x208d0780>"
       ]
      },
      {
       "javascript": [
        "$('div#ecc6f276-6e08-4755-a53b-0bbb76fd658f').text('609 of 2029');"
       ],
       "metadata": {},
       "output_type": "display_data",
       "text": [
        "<IPython.core.display.Javascript at 0x208d0a58>"
       ]
      },
      {
       "javascript": [
        "$('div#16d659e2-9d2b-4dd0-a8ff-eb1943b0aa1f').text(' 30%');"
       ],
       "metadata": {},
       "output_type": "display_data",
       "text": [
        "<IPython.core.display.Javascript at 0x1af2ea58>"
       ]
      },
      {
       "javascript": [
        "\n",
        "        var $myPB = $(\"div#216260dd-78b5-4879-b42c-227c8bf57c3b\")\n",
        "        if ($myPB.hasClass('ui-progressbar')) {\n",
        "            $myPB.progressbar('value', 609);\n",
        "        } else {\n",
        "            $myPB.progressbar({value: 0, max: 2029});\n",
        "        }\n",
        "        "
       ],
       "metadata": {},
       "output_type": "display_data",
       "text": [
        "<IPython.core.display.Javascript at 0x1af2e128>"
       ]
      },
      {
       "javascript": [
        "$('div#9d7f465c-4c57-4eb7-9f4f-4f010f68fefe').text('ETA:  0:00:00');"
       ],
       "metadata": {},
       "output_type": "display_data",
       "text": [
        "<IPython.core.display.Javascript at 0x208d0780>"
       ]
      },
      {
       "javascript": [
        "$('div#ecc6f276-6e08-4755-a53b-0bbb76fd658f').text('630 of 2029');"
       ],
       "metadata": {},
       "output_type": "display_data",
       "text": [
        "<IPython.core.display.Javascript at 0x208d0a58>"
       ]
      },
      {
       "javascript": [
        "$('div#16d659e2-9d2b-4dd0-a8ff-eb1943b0aa1f').text(' 31%');"
       ],
       "metadata": {},
       "output_type": "display_data",
       "text": [
        "<IPython.core.display.Javascript at 0x1af2e0f0>"
       ]
      },
      {
       "javascript": [
        "\n",
        "        var $myPB = $(\"div#216260dd-78b5-4879-b42c-227c8bf57c3b\")\n",
        "        if ($myPB.hasClass('ui-progressbar')) {\n",
        "            $myPB.progressbar('value', 630);\n",
        "        } else {\n",
        "            $myPB.progressbar({value: 0, max: 2029});\n",
        "        }\n",
        "        "
       ],
       "metadata": {},
       "output_type": "display_data",
       "text": [
        "<IPython.core.display.Javascript at 0x208d0a58>"
       ]
      },
      {
       "javascript": [
        "$('div#9d7f465c-4c57-4eb7-9f4f-4f010f68fefe').text('ETA:  0:00:00');"
       ],
       "metadata": {},
       "output_type": "display_data",
       "text": [
        "<IPython.core.display.Javascript at 0x208d0780>"
       ]
      },
      {
       "javascript": [
        "$('div#ecc6f276-6e08-4755-a53b-0bbb76fd658f').text('651 of 2029');"
       ],
       "metadata": {},
       "output_type": "display_data",
       "text": [
        "<IPython.core.display.Javascript at 0x1af2ea58>"
       ]
      },
      {
       "javascript": [
        "$('div#16d659e2-9d2b-4dd0-a8ff-eb1943b0aa1f').text(' 32%');"
       ],
       "metadata": {},
       "output_type": "display_data",
       "text": [
        "<IPython.core.display.Javascript at 0x1af2e0f0>"
       ]
      },
      {
       "javascript": [
        "\n",
        "        var $myPB = $(\"div#216260dd-78b5-4879-b42c-227c8bf57c3b\")\n",
        "        if ($myPB.hasClass('ui-progressbar')) {\n",
        "            $myPB.progressbar('value', 651);\n",
        "        } else {\n",
        "            $myPB.progressbar({value: 0, max: 2029});\n",
        "        }\n",
        "        "
       ],
       "metadata": {},
       "output_type": "display_data",
       "text": [
        "<IPython.core.display.Javascript at 0x208d0a58>"
       ]
      },
      {
       "javascript": [
        "$('div#9d7f465c-4c57-4eb7-9f4f-4f010f68fefe').text('ETA:  0:00:00');"
       ],
       "metadata": {},
       "output_type": "display_data",
       "text": [
        "<IPython.core.display.Javascript at 0x208d0780>"
       ]
      },
      {
       "javascript": [
        "$('div#ecc6f276-6e08-4755-a53b-0bbb76fd658f').text('672 of 2029');"
       ],
       "metadata": {},
       "output_type": "display_data",
       "text": [
        "<IPython.core.display.Javascript at 0x1af2e128>"
       ]
      },
      {
       "javascript": [
        "$('div#16d659e2-9d2b-4dd0-a8ff-eb1943b0aa1f').text(' 33%');"
       ],
       "metadata": {},
       "output_type": "display_data",
       "text": [
        "<IPython.core.display.Javascript at 0x208d0780>"
       ]
      },
      {
       "javascript": [
        "\n",
        "        var $myPB = $(\"div#216260dd-78b5-4879-b42c-227c8bf57c3b\")\n",
        "        if ($myPB.hasClass('ui-progressbar')) {\n",
        "            $myPB.progressbar('value', 672);\n",
        "        } else {\n",
        "            $myPB.progressbar({value: 0, max: 2029});\n",
        "        }\n",
        "        "
       ],
       "metadata": {},
       "output_type": "display_data",
       "text": [
        "<IPython.core.display.Javascript at 0x208d0a58>"
       ]
      },
      {
       "javascript": [
        "$('div#9d7f465c-4c57-4eb7-9f4f-4f010f68fefe').text('ETA:  0:00:00');"
       ],
       "metadata": {},
       "output_type": "display_data",
       "text": [
        "<IPython.core.display.Javascript at 0x1af2e0f0>"
       ]
      },
      {
       "javascript": [
        "$('div#ecc6f276-6e08-4755-a53b-0bbb76fd658f').text('693 of 2029');"
       ],
       "metadata": {},
       "output_type": "display_data",
       "text": [
        "<IPython.core.display.Javascript at 0x1af2e128>"
       ]
      },
      {
       "javascript": [
        "$('div#16d659e2-9d2b-4dd0-a8ff-eb1943b0aa1f').text(' 34%');"
       ],
       "metadata": {},
       "output_type": "display_data",
       "text": [
        "<IPython.core.display.Javascript at 0x208d0780>"
       ]
      },
      {
       "javascript": [
        "\n",
        "        var $myPB = $(\"div#216260dd-78b5-4879-b42c-227c8bf57c3b\")\n",
        "        if ($myPB.hasClass('ui-progressbar')) {\n",
        "            $myPB.progressbar('value', 693);\n",
        "        } else {\n",
        "            $myPB.progressbar({value: 0, max: 2029});\n",
        "        }\n",
        "        "
       ],
       "metadata": {},
       "output_type": "display_data",
       "text": [
        "<IPython.core.display.Javascript at 0x208d0a58>"
       ]
      },
      {
       "javascript": [
        "$('div#9d7f465c-4c57-4eb7-9f4f-4f010f68fefe').text('ETA:  0:00:00');"
       ],
       "metadata": {},
       "output_type": "display_data",
       "text": [
        "<IPython.core.display.Javascript at 0x1af2e080>"
       ]
      },
      {
       "javascript": [
        "$('div#ecc6f276-6e08-4755-a53b-0bbb76fd658f').text('714 of 2029');"
       ],
       "metadata": {},
       "output_type": "display_data",
       "text": [
        "<IPython.core.display.Javascript at 0x1af2e128>"
       ]
      },
      {
       "javascript": [
        "$('div#16d659e2-9d2b-4dd0-a8ff-eb1943b0aa1f').text(' 35%');"
       ],
       "metadata": {},
       "output_type": "display_data",
       "text": [
        "<IPython.core.display.Javascript at 0x1af2e0f0>"
       ]
      },
      {
       "javascript": [
        "\n",
        "        var $myPB = $(\"div#216260dd-78b5-4879-b42c-227c8bf57c3b\")\n",
        "        if ($myPB.hasClass('ui-progressbar')) {\n",
        "            $myPB.progressbar('value', 714);\n",
        "        } else {\n",
        "            $myPB.progressbar({value: 0, max: 2029});\n",
        "        }\n",
        "        "
       ],
       "metadata": {},
       "output_type": "display_data",
       "text": [
        "<IPython.core.display.Javascript at 0x1af2e080>"
       ]
      },
      {
       "javascript": [
        "$('div#9d7f465c-4c57-4eb7-9f4f-4f010f68fefe').text('ETA:  0:00:00');"
       ],
       "metadata": {},
       "output_type": "display_data",
       "text": [
        "<IPython.core.display.Javascript at 0x1af2ea58>"
       ]
      },
      {
       "javascript": [
        "$('div#ecc6f276-6e08-4755-a53b-0bbb76fd658f').text('735 of 2029');"
       ],
       "metadata": {},
       "output_type": "display_data",
       "text": [
        "<IPython.core.display.Javascript at 0x1af2ea58>"
       ]
      },
      {
       "javascript": [
        "$('div#16d659e2-9d2b-4dd0-a8ff-eb1943b0aa1f').text(' 36%');"
       ],
       "metadata": {},
       "output_type": "display_data",
       "text": [
        "<IPython.core.display.Javascript at 0x1af2e3c8>"
       ]
      },
      {
       "javascript": [
        "\n",
        "        var $myPB = $(\"div#216260dd-78b5-4879-b42c-227c8bf57c3b\")\n",
        "        if ($myPB.hasClass('ui-progressbar')) {\n",
        "            $myPB.progressbar('value', 735);\n",
        "        } else {\n",
        "            $myPB.progressbar({value: 0, max: 2029});\n",
        "        }\n",
        "        "
       ],
       "metadata": {},
       "output_type": "display_data",
       "text": [
        "<IPython.core.display.Javascript at 0x1af2e128>"
       ]
      },
      {
       "javascript": [
        "$('div#9d7f465c-4c57-4eb7-9f4f-4f010f68fefe').text('ETA:  0:00:00');"
       ],
       "metadata": {},
       "output_type": "display_data",
       "text": [
        "<IPython.core.display.Javascript at 0x1af2e0f0>"
       ]
      },
      {
       "javascript": [
        "$('div#ecc6f276-6e08-4755-a53b-0bbb76fd658f').text('756 of 2029');"
       ],
       "metadata": {},
       "output_type": "display_data",
       "text": [
        "<IPython.core.display.Javascript at 0x208d0a58>"
       ]
      },
      {
       "javascript": [
        "$('div#16d659e2-9d2b-4dd0-a8ff-eb1943b0aa1f').text(' 37%');"
       ],
       "metadata": {},
       "output_type": "display_data",
       "text": [
        "<IPython.core.display.Javascript at 0x208d0780>"
       ]
      },
      {
       "javascript": [
        "\n",
        "        var $myPB = $(\"div#216260dd-78b5-4879-b42c-227c8bf57c3b\")\n",
        "        if ($myPB.hasClass('ui-progressbar')) {\n",
        "            $myPB.progressbar('value', 756);\n",
        "        } else {\n",
        "            $myPB.progressbar({value: 0, max: 2029});\n",
        "        }\n",
        "        "
       ],
       "metadata": {},
       "output_type": "display_data",
       "text": [
        "<IPython.core.display.Javascript at 0x1af2e080>"
       ]
      },
      {
       "javascript": [
        "$('div#9d7f465c-4c57-4eb7-9f4f-4f010f68fefe').text('ETA:  0:00:00');"
       ],
       "metadata": {},
       "output_type": "display_data",
       "text": [
        "<IPython.core.display.Javascript at 0x208d0780>"
       ]
      },
      {
       "javascript": [
        "$('div#ecc6f276-6e08-4755-a53b-0bbb76fd658f').text('777 of 2029');"
       ],
       "metadata": {},
       "output_type": "display_data",
       "text": [
        "<IPython.core.display.Javascript at 0x208d0a58>"
       ]
      },
      {
       "javascript": [
        "$('div#16d659e2-9d2b-4dd0-a8ff-eb1943b0aa1f').text(' 38%');"
       ],
       "metadata": {},
       "output_type": "display_data",
       "text": [
        "<IPython.core.display.Javascript at 0x1af2e0f0>"
       ]
      },
      {
       "javascript": [
        "\n",
        "        var $myPB = $(\"div#216260dd-78b5-4879-b42c-227c8bf57c3b\")\n",
        "        if ($myPB.hasClass('ui-progressbar')) {\n",
        "            $myPB.progressbar('value', 777);\n",
        "        } else {\n",
        "            $myPB.progressbar({value: 0, max: 2029});\n",
        "        }\n",
        "        "
       ],
       "metadata": {},
       "output_type": "display_data",
       "text": [
        "<IPython.core.display.Javascript at 0x1af2e080>"
       ]
      },
      {
       "javascript": [
        "$('div#9d7f465c-4c57-4eb7-9f4f-4f010f68fefe').text('ETA:  0:00:00');"
       ],
       "metadata": {},
       "output_type": "display_data",
       "text": [
        "<IPython.core.display.Javascript at 0x208d0780>"
       ]
      },
      {
       "javascript": [
        "$('div#ecc6f276-6e08-4755-a53b-0bbb76fd658f').text('798 of 2029');"
       ],
       "metadata": {},
       "output_type": "display_data",
       "text": [
        "<IPython.core.display.Javascript at 0x208d0a58>"
       ]
      },
      {
       "javascript": [
        "$('div#16d659e2-9d2b-4dd0-a8ff-eb1943b0aa1f').text(' 39%');"
       ],
       "metadata": {},
       "output_type": "display_data",
       "text": [
        "<IPython.core.display.Javascript at 0x1af2e128>"
       ]
      },
      {
       "javascript": [
        "\n",
        "        var $myPB = $(\"div#216260dd-78b5-4879-b42c-227c8bf57c3b\")\n",
        "        if ($myPB.hasClass('ui-progressbar')) {\n",
        "            $myPB.progressbar('value', 798);\n",
        "        } else {\n",
        "            $myPB.progressbar({value: 0, max: 2029});\n",
        "        }\n",
        "        "
       ],
       "metadata": {},
       "output_type": "display_data",
       "text": [
        "<IPython.core.display.Javascript at 0x208d0a58>"
       ]
      },
      {
       "javascript": [
        "$('div#9d7f465c-4c57-4eb7-9f4f-4f010f68fefe').text('ETA:  0:00:00');"
       ],
       "metadata": {},
       "output_type": "display_data",
       "text": [
        "<IPython.core.display.Javascript at 0x208d0780>"
       ]
      },
      {
       "javascript": [
        "$('div#ecc6f276-6e08-4755-a53b-0bbb76fd658f').text('819 of 2029');"
       ],
       "metadata": {},
       "output_type": "display_data",
       "text": [
        "<IPython.core.display.Javascript at 0x1af2e3c8>"
       ]
      },
      {
       "javascript": [
        "$('div#16d659e2-9d2b-4dd0-a8ff-eb1943b0aa1f').text(' 40%');"
       ],
       "metadata": {},
       "output_type": "display_data",
       "text": [
        "<IPython.core.display.Javascript at 0x208d0780>"
       ]
      },
      {
       "javascript": [
        "\n",
        "        var $myPB = $(\"div#216260dd-78b5-4879-b42c-227c8bf57c3b\")\n",
        "        if ($myPB.hasClass('ui-progressbar')) {\n",
        "            $myPB.progressbar('value', 819);\n",
        "        } else {\n",
        "            $myPB.progressbar({value: 0, max: 2029});\n",
        "        }\n",
        "        "
       ],
       "metadata": {},
       "output_type": "display_data",
       "text": [
        "<IPython.core.display.Javascript at 0x208d0a58>"
       ]
      },
      {
       "javascript": [
        "$('div#9d7f465c-4c57-4eb7-9f4f-4f010f68fefe').text('ETA:  0:00:00');"
       ],
       "metadata": {},
       "output_type": "display_data",
       "text": [
        "<IPython.core.display.Javascript at 0x1af2e128>"
       ]
      },
      {
       "javascript": [
        "$('div#ecc6f276-6e08-4755-a53b-0bbb76fd658f').text('840 of 2029');"
       ],
       "metadata": {},
       "output_type": "display_data",
       "text": [
        "<IPython.core.display.Javascript at 0x1af2e3c8>"
       ]
      },
      {
       "javascript": [
        "$('div#16d659e2-9d2b-4dd0-a8ff-eb1943b0aa1f').text(' 41%');"
       ],
       "metadata": {},
       "output_type": "display_data",
       "text": [
        "<IPython.core.display.Javascript at 0x208d0a58>"
       ]
      },
      {
       "javascript": [
        "\n",
        "        var $myPB = $(\"div#216260dd-78b5-4879-b42c-227c8bf57c3b\")\n",
        "        if ($myPB.hasClass('ui-progressbar')) {\n",
        "            $myPB.progressbar('value', 840);\n",
        "        } else {\n",
        "            $myPB.progressbar({value: 0, max: 2029});\n",
        "        }\n",
        "        "
       ],
       "metadata": {},
       "output_type": "display_data",
       "text": [
        "<IPython.core.display.Javascript at 0x208d0780>"
       ]
      },
      {
       "javascript": [
        "$('div#9d7f465c-4c57-4eb7-9f4f-4f010f68fefe').text('ETA:  0:00:00');"
       ],
       "metadata": {},
       "output_type": "display_data",
       "text": [
        "<IPython.core.display.Javascript at 0x1af2e080>"
       ]
      },
      {
       "javascript": [
        "$('div#ecc6f276-6e08-4755-a53b-0bbb76fd658f').text('861 of 2029');"
       ],
       "metadata": {},
       "output_type": "display_data",
       "text": [
        "<IPython.core.display.Javascript at 0x1af2e3c8>"
       ]
      },
      {
       "javascript": [
        "$('div#16d659e2-9d2b-4dd0-a8ff-eb1943b0aa1f').text(' 42%');"
       ],
       "metadata": {},
       "output_type": "display_data",
       "text": [
        "<IPython.core.display.Javascript at 0x1af2e128>"
       ]
      },
      {
       "javascript": [
        "\n",
        "        var $myPB = $(\"div#216260dd-78b5-4879-b42c-227c8bf57c3b\")\n",
        "        if ($myPB.hasClass('ui-progressbar')) {\n",
        "            $myPB.progressbar('value', 861);\n",
        "        } else {\n",
        "            $myPB.progressbar({value: 0, max: 2029});\n",
        "        }\n",
        "        "
       ],
       "metadata": {},
       "output_type": "display_data",
       "text": [
        "<IPython.core.display.Javascript at 0x1af2e0f0>"
       ]
      },
      {
       "javascript": [
        "$('div#9d7f465c-4c57-4eb7-9f4f-4f010f68fefe').text('ETA:  0:00:00');"
       ],
       "metadata": {},
       "output_type": "display_data",
       "text": [
        "<IPython.core.display.Javascript at 0x1af2ea58>"
       ]
      },
      {
       "javascript": [
        "$('div#ecc6f276-6e08-4755-a53b-0bbb76fd658f').text('882 of 2029');"
       ],
       "metadata": {},
       "output_type": "display_data",
       "text": [
        "<IPython.core.display.Javascript at 0x208d0a58>"
       ]
      },
      {
       "javascript": [
        "$('div#16d659e2-9d2b-4dd0-a8ff-eb1943b0aa1f').text(' 43%');"
       ],
       "metadata": {},
       "output_type": "display_data",
       "text": [
        "<IPython.core.display.Javascript at 0x208d0780>"
       ]
      },
      {
       "javascript": [
        "\n",
        "        var $myPB = $(\"div#216260dd-78b5-4879-b42c-227c8bf57c3b\")\n",
        "        if ($myPB.hasClass('ui-progressbar')) {\n",
        "            $myPB.progressbar('value', 882);\n",
        "        } else {\n",
        "            $myPB.progressbar({value: 0, max: 2029});\n",
        "        }\n",
        "        "
       ],
       "metadata": {},
       "output_type": "display_data",
       "text": [
        "<IPython.core.display.Javascript at 0x1af2ea58>"
       ]
      },
      {
       "javascript": [
        "$('div#9d7f465c-4c57-4eb7-9f4f-4f010f68fefe').text('ETA:  0:00:00');"
       ],
       "metadata": {},
       "output_type": "display_data",
       "text": [
        "<IPython.core.display.Javascript at 0x1af2e0f0>"
       ]
      },
      {
       "javascript": [
        "$('div#ecc6f276-6e08-4755-a53b-0bbb76fd658f').text('903 of 2029');"
       ],
       "metadata": {},
       "output_type": "display_data",
       "text": [
        "<IPython.core.display.Javascript at 0x1af2e0f0>"
       ]
      },
      {
       "javascript": [
        "$('div#16d659e2-9d2b-4dd0-a8ff-eb1943b0aa1f').text(' 44%');"
       ],
       "metadata": {},
       "output_type": "display_data",
       "text": [
        "<IPython.core.display.Javascript at 0x1af2e080>"
       ]
      },
      {
       "javascript": [
        "\n",
        "        var $myPB = $(\"div#216260dd-78b5-4879-b42c-227c8bf57c3b\")\n",
        "        if ($myPB.hasClass('ui-progressbar')) {\n",
        "            $myPB.progressbar('value', 903);\n",
        "        } else {\n",
        "            $myPB.progressbar({value: 0, max: 2029});\n",
        "        }\n",
        "        "
       ],
       "metadata": {},
       "output_type": "display_data",
       "text": [
        "<IPython.core.display.Javascript at 0x1af2ea58>"
       ]
      },
      {
       "javascript": [
        "$('div#9d7f465c-4c57-4eb7-9f4f-4f010f68fefe').text('ETA:  0:00:00');"
       ],
       "metadata": {},
       "output_type": "display_data",
       "text": [
        "<IPython.core.display.Javascript at 0x1af2ea58>"
       ]
      },
      {
       "javascript": [
        "$('div#ecc6f276-6e08-4755-a53b-0bbb76fd658f').text('924 of 2029');"
       ],
       "metadata": {},
       "output_type": "display_data",
       "text": [
        "<IPython.core.display.Javascript at 0x1af2e128>"
       ]
      },
      {
       "javascript": [
        "$('div#16d659e2-9d2b-4dd0-a8ff-eb1943b0aa1f').text(' 45%');"
       ],
       "metadata": {},
       "output_type": "display_data",
       "text": [
        "<IPython.core.display.Javascript at 0x1af2e0f0>"
       ]
      },
      {
       "javascript": [
        "\n",
        "        var $myPB = $(\"div#216260dd-78b5-4879-b42c-227c8bf57c3b\")\n",
        "        if ($myPB.hasClass('ui-progressbar')) {\n",
        "            $myPB.progressbar('value', 924);\n",
        "        } else {\n",
        "            $myPB.progressbar({value: 0, max: 2029});\n",
        "        }\n",
        "        "
       ],
       "metadata": {},
       "output_type": "display_data",
       "text": [
        "<IPython.core.display.Javascript at 0x1af2e3c8>"
       ]
      },
      {
       "javascript": [
        "$('div#9d7f465c-4c57-4eb7-9f4f-4f010f68fefe').text('ETA:  0:00:00');"
       ],
       "metadata": {},
       "output_type": "display_data",
       "text": [
        "<IPython.core.display.Javascript at 0x1af2e3c8>"
       ]
      },
      {
       "javascript": [
        "$('div#ecc6f276-6e08-4755-a53b-0bbb76fd658f').text('945 of 2029');"
       ],
       "metadata": {},
       "output_type": "display_data",
       "text": [
        "<IPython.core.display.Javascript at 0x208d0a58>"
       ]
      },
      {
       "javascript": [
        "$('div#16d659e2-9d2b-4dd0-a8ff-eb1943b0aa1f').text(' 46%');"
       ],
       "metadata": {},
       "output_type": "display_data",
       "text": [
        "<IPython.core.display.Javascript at 0x208d0780>"
       ]
      },
      {
       "javascript": [
        "\n",
        "        var $myPB = $(\"div#216260dd-78b5-4879-b42c-227c8bf57c3b\")\n",
        "        if ($myPB.hasClass('ui-progressbar')) {\n",
        "            $myPB.progressbar('value', 945);\n",
        "        } else {\n",
        "            $myPB.progressbar({value: 0, max: 2029});\n",
        "        }\n",
        "        "
       ],
       "metadata": {},
       "output_type": "display_data",
       "text": [
        "<IPython.core.display.Javascript at 0x208d0780>"
       ]
      },
      {
       "javascript": [
        "$('div#9d7f465c-4c57-4eb7-9f4f-4f010f68fefe').text('ETA:  0:00:00');"
       ],
       "metadata": {},
       "output_type": "display_data",
       "text": [
        "<IPython.core.display.Javascript at 0x208d0a58>"
       ]
      },
      {
       "javascript": [
        "$('div#ecc6f276-6e08-4755-a53b-0bbb76fd658f').text('966 of 2029');"
       ],
       "metadata": {},
       "output_type": "display_data",
       "text": [
        "<IPython.core.display.Javascript at 0x1af2e128>"
       ]
      },
      {
       "javascript": [
        "$('div#16d659e2-9d2b-4dd0-a8ff-eb1943b0aa1f').text(' 47%');"
       ],
       "metadata": {},
       "output_type": "display_data",
       "text": [
        "<IPython.core.display.Javascript at 0x1af2e080>"
       ]
      },
      {
       "javascript": [
        "\n",
        "        var $myPB = $(\"div#216260dd-78b5-4879-b42c-227c8bf57c3b\")\n",
        "        if ($myPB.hasClass('ui-progressbar')) {\n",
        "            $myPB.progressbar('value', 966);\n",
        "        } else {\n",
        "            $myPB.progressbar({value: 0, max: 2029});\n",
        "        }\n",
        "        "
       ],
       "metadata": {},
       "output_type": "display_data",
       "text": [
        "<IPython.core.display.Javascript at 0x208d0a58>"
       ]
      },
      {
       "javascript": [
        "$('div#9d7f465c-4c57-4eb7-9f4f-4f010f68fefe').text('ETA:  0:00:00');"
       ],
       "metadata": {},
       "output_type": "display_data",
       "text": [
        "<IPython.core.display.Javascript at 0x208d0780>"
       ]
      },
      {
       "javascript": [
        "$('div#ecc6f276-6e08-4755-a53b-0bbb76fd658f').text('987 of 2029');"
       ],
       "metadata": {},
       "output_type": "display_data",
       "text": [
        "<IPython.core.display.Javascript at 0x1af2e3c8>"
       ]
      },
      {
       "javascript": [
        "$('div#16d659e2-9d2b-4dd0-a8ff-eb1943b0aa1f').text(' 48%');"
       ],
       "metadata": {},
       "output_type": "display_data",
       "text": [
        "<IPython.core.display.Javascript at 0x208d0780>"
       ]
      },
      {
       "javascript": [
        "\n",
        "        var $myPB = $(\"div#216260dd-78b5-4879-b42c-227c8bf57c3b\")\n",
        "        if ($myPB.hasClass('ui-progressbar')) {\n",
        "            $myPB.progressbar('value', 987);\n",
        "        } else {\n",
        "            $myPB.progressbar({value: 0, max: 2029});\n",
        "        }\n",
        "        "
       ],
       "metadata": {},
       "output_type": "display_data",
       "text": [
        "<IPython.core.display.Javascript at 0x208d0a58>"
       ]
      },
      {
       "javascript": [
        "$('div#9d7f465c-4c57-4eb7-9f4f-4f010f68fefe').text('ETA:  0:00:00');"
       ],
       "metadata": {},
       "output_type": "display_data",
       "text": [
        "<IPython.core.display.Javascript at 0x1af2e080>"
       ]
      },
      {
       "javascript": [
        "$('div#ecc6f276-6e08-4755-a53b-0bbb76fd658f').text('1008 of 2029');"
       ],
       "metadata": {},
       "output_type": "display_data",
       "text": [
        "<IPython.core.display.Javascript at 0x1af2e3c8>"
       ]
      },
      {
       "javascript": [
        "$('div#16d659e2-9d2b-4dd0-a8ff-eb1943b0aa1f').text(' 49%');"
       ],
       "metadata": {},
       "output_type": "display_data",
       "text": [
        "<IPython.core.display.Javascript at 0x208d0a58>"
       ]
      },
      {
       "javascript": [
        "\n",
        "        var $myPB = $(\"div#216260dd-78b5-4879-b42c-227c8bf57c3b\")\n",
        "        if ($myPB.hasClass('ui-progressbar')) {\n",
        "            $myPB.progressbar('value', 1008);\n",
        "        } else {\n",
        "            $myPB.progressbar({value: 0, max: 2029});\n",
        "        }\n",
        "        "
       ],
       "metadata": {},
       "output_type": "display_data",
       "text": [
        "<IPython.core.display.Javascript at 0x208d0780>"
       ]
      },
      {
       "javascript": [
        "$('div#9d7f465c-4c57-4eb7-9f4f-4f010f68fefe').text('ETA:  0:00:00');"
       ],
       "metadata": {},
       "output_type": "display_data",
       "text": [
        "<IPython.core.display.Javascript at 0x1af2e0f0>"
       ]
      },
      {
       "javascript": [
        "$('div#ecc6f276-6e08-4755-a53b-0bbb76fd658f').text('1029 of 2029');"
       ],
       "metadata": {},
       "output_type": "display_data",
       "text": [
        "<IPython.core.display.Javascript at 0x208d0780>"
       ]
      },
      {
       "javascript": [
        "$('div#16d659e2-9d2b-4dd0-a8ff-eb1943b0aa1f').text(' 50%');"
       ],
       "metadata": {},
       "output_type": "display_data",
       "text": [
        "<IPython.core.display.Javascript at 0x208d0a58>"
       ]
      },
      {
       "javascript": [
        "\n",
        "        var $myPB = $(\"div#216260dd-78b5-4879-b42c-227c8bf57c3b\")\n",
        "        if ($myPB.hasClass('ui-progressbar')) {\n",
        "            $myPB.progressbar('value', 1029);\n",
        "        } else {\n",
        "            $myPB.progressbar({value: 0, max: 2029});\n",
        "        }\n",
        "        "
       ],
       "metadata": {},
       "output_type": "display_data",
       "text": [
        "<IPython.core.display.Javascript at 0x1af2e3c8>"
       ]
      },
      {
       "javascript": [
        "$('div#9d7f465c-4c57-4eb7-9f4f-4f010f68fefe').text('ETA:  0:00:00');"
       ],
       "metadata": {},
       "output_type": "display_data",
       "text": [
        "<IPython.core.display.Javascript at 0x1af2e0f0>"
       ]
      },
      {
       "javascript": [
        "$('div#ecc6f276-6e08-4755-a53b-0bbb76fd658f').text('1050 of 2029');"
       ],
       "metadata": {},
       "output_type": "display_data",
       "text": [
        "<IPython.core.display.Javascript at 0x208d0a58>"
       ]
      },
      {
       "javascript": [
        "$('div#16d659e2-9d2b-4dd0-a8ff-eb1943b0aa1f').text(' 51%');"
       ],
       "metadata": {},
       "output_type": "display_data",
       "text": [
        "<IPython.core.display.Javascript at 0x208d0780>"
       ]
      },
      {
       "javascript": [
        "\n",
        "        var $myPB = $(\"div#216260dd-78b5-4879-b42c-227c8bf57c3b\")\n",
        "        if ($myPB.hasClass('ui-progressbar')) {\n",
        "            $myPB.progressbar('value', 1050);\n",
        "        } else {\n",
        "            $myPB.progressbar({value: 0, max: 2029});\n",
        "        }\n",
        "        "
       ],
       "metadata": {},
       "output_type": "display_data",
       "text": [
        "<IPython.core.display.Javascript at 0x1af2e128>"
       ]
      },
      {
       "javascript": [
        "$('div#9d7f465c-4c57-4eb7-9f4f-4f010f68fefe').text('ETA:  0:00:00');"
       ],
       "metadata": {},
       "output_type": "display_data",
       "text": [
        "<IPython.core.display.Javascript at 0x1af2ea58>"
       ]
      },
      {
       "javascript": [
        "$('div#ecc6f276-6e08-4755-a53b-0bbb76fd658f').text('1071 of 2029');"
       ],
       "metadata": {},
       "output_type": "display_data",
       "text": [
        "<IPython.core.display.Javascript at 0x208d0780>"
       ]
      },
      {
       "javascript": [
        "$('div#16d659e2-9d2b-4dd0-a8ff-eb1943b0aa1f').text(' 52%');"
       ],
       "metadata": {},
       "output_type": "display_data",
       "text": [
        "<IPython.core.display.Javascript at 0x208d0a58>"
       ]
      },
      {
       "javascript": [
        "\n",
        "        var $myPB = $(\"div#216260dd-78b5-4879-b42c-227c8bf57c3b\")\n",
        "        if ($myPB.hasClass('ui-progressbar')) {\n",
        "            $myPB.progressbar('value', 1071);\n",
        "        } else {\n",
        "            $myPB.progressbar({value: 0, max: 2029});\n",
        "        }\n",
        "        "
       ],
       "metadata": {},
       "output_type": "display_data",
       "text": [
        "<IPython.core.display.Javascript at 0x1af2e080>"
       ]
      },
      {
       "javascript": [
        "$('div#9d7f465c-4c57-4eb7-9f4f-4f010f68fefe').text('ETA:  0:00:00');"
       ],
       "metadata": {},
       "output_type": "display_data",
       "text": [
        "<IPython.core.display.Javascript at 0x208d0a58>"
       ]
      },
      {
       "javascript": [
        "$('div#ecc6f276-6e08-4755-a53b-0bbb76fd658f').text('1092 of 2029');"
       ],
       "metadata": {},
       "output_type": "display_data",
       "text": [
        "<IPython.core.display.Javascript at 0x208d0780>"
       ]
      },
      {
       "javascript": [
        "$('div#16d659e2-9d2b-4dd0-a8ff-eb1943b0aa1f').text(' 53%');"
       ],
       "metadata": {},
       "output_type": "display_data",
       "text": [
        "<IPython.core.display.Javascript at 0x1af2ea58>"
       ]
      },
      {
       "javascript": [
        "\n",
        "        var $myPB = $(\"div#216260dd-78b5-4879-b42c-227c8bf57c3b\")\n",
        "        if ($myPB.hasClass('ui-progressbar')) {\n",
        "            $myPB.progressbar('value', 1092);\n",
        "        } else {\n",
        "            $myPB.progressbar({value: 0, max: 2029});\n",
        "        }\n",
        "        "
       ],
       "metadata": {},
       "output_type": "display_data",
       "text": [
        "<IPython.core.display.Javascript at 0x1af2e080>"
       ]
      },
      {
       "javascript": [
        "$('div#9d7f465c-4c57-4eb7-9f4f-4f010f68fefe').text('ETA:  0:00:00');"
       ],
       "metadata": {},
       "output_type": "display_data",
       "text": [
        "<IPython.core.display.Javascript at 0x208d0780>"
       ]
      },
      {
       "javascript": [
        "$('div#ecc6f276-6e08-4755-a53b-0bbb76fd658f').text('1113 of 2029');"
       ],
       "metadata": {},
       "output_type": "display_data",
       "text": [
        "<IPython.core.display.Javascript at 0x208d0a58>"
       ]
      },
      {
       "javascript": [
        "$('div#16d659e2-9d2b-4dd0-a8ff-eb1943b0aa1f').text(' 54%');"
       ],
       "metadata": {},
       "output_type": "display_data",
       "text": [
        "<IPython.core.display.Javascript at 0x1af2e128>"
       ]
      },
      {
       "javascript": [
        "\n",
        "        var $myPB = $(\"div#216260dd-78b5-4879-b42c-227c8bf57c3b\")\n",
        "        if ($myPB.hasClass('ui-progressbar')) {\n",
        "            $myPB.progressbar('value', 1113);\n",
        "        } else {\n",
        "            $myPB.progressbar({value: 0, max: 2029});\n",
        "        }\n",
        "        "
       ],
       "metadata": {},
       "output_type": "display_data",
       "text": [
        "<IPython.core.display.Javascript at 0x208d0a58>"
       ]
      },
      {
       "javascript": [
        "$('div#9d7f465c-4c57-4eb7-9f4f-4f010f68fefe').text('ETA:  0:00:00');"
       ],
       "metadata": {},
       "output_type": "display_data",
       "text": [
        "<IPython.core.display.Javascript at 0x208d0780>"
       ]
      },
      {
       "javascript": [
        "$('div#ecc6f276-6e08-4755-a53b-0bbb76fd658f').text('1134 of 2029');"
       ],
       "metadata": {},
       "output_type": "display_data",
       "text": [
        "<IPython.core.display.Javascript at 0x1af2ea58>"
       ]
      },
      {
       "javascript": [
        "$('div#16d659e2-9d2b-4dd0-a8ff-eb1943b0aa1f').text(' 55%');"
       ],
       "metadata": {},
       "output_type": "display_data",
       "text": [
        "<IPython.core.display.Javascript at 0x1af2e128>"
       ]
      },
      {
       "javascript": [
        "\n",
        "        var $myPB = $(\"div#216260dd-78b5-4879-b42c-227c8bf57c3b\")\n",
        "        if ($myPB.hasClass('ui-progressbar')) {\n",
        "            $myPB.progressbar('value', 1134);\n",
        "        } else {\n",
        "            $myPB.progressbar({value: 0, max: 2029});\n",
        "        }\n",
        "        "
       ],
       "metadata": {},
       "output_type": "display_data",
       "text": [
        "<IPython.core.display.Javascript at 0x208d0780>"
       ]
      },
      {
       "javascript": [
        "$('div#9d7f465c-4c57-4eb7-9f4f-4f010f68fefe').text('ETA:  0:00:00');"
       ],
       "metadata": {},
       "output_type": "display_data",
       "text": [
        "<IPython.core.display.Javascript at 0x208d0a58>"
       ]
      },
      {
       "javascript": [
        "$('div#ecc6f276-6e08-4755-a53b-0bbb76fd658f').text('1155 of 2029');"
       ],
       "metadata": {},
       "output_type": "display_data",
       "text": [
        "<IPython.core.display.Javascript at 0x1af2e3c8>"
       ]
      },
      {
       "javascript": [
        "$('div#16d659e2-9d2b-4dd0-a8ff-eb1943b0aa1f').text(' 56%');"
       ],
       "metadata": {},
       "output_type": "display_data",
       "text": [
        "<IPython.core.display.Javascript at 0x208d0a58>"
       ]
      },
      {
       "javascript": [
        "\n",
        "        var $myPB = $(\"div#216260dd-78b5-4879-b42c-227c8bf57c3b\")\n",
        "        if ($myPB.hasClass('ui-progressbar')) {\n",
        "            $myPB.progressbar('value', 1155);\n",
        "        } else {\n",
        "            $myPB.progressbar({value: 0, max: 2029});\n",
        "        }\n",
        "        "
       ],
       "metadata": {},
       "output_type": "display_data",
       "text": [
        "<IPython.core.display.Javascript at 0x208d0780>"
       ]
      },
      {
       "javascript": [
        "$('div#9d7f465c-4c57-4eb7-9f4f-4f010f68fefe').text('ETA:  0:00:00');"
       ],
       "metadata": {},
       "output_type": "display_data",
       "text": [
        "<IPython.core.display.Javascript at 0x1af2e128>"
       ]
      },
      {
       "javascript": [
        "$('div#ecc6f276-6e08-4755-a53b-0bbb76fd658f').text('1176 of 2029');"
       ],
       "metadata": {},
       "output_type": "display_data",
       "text": [
        "<IPython.core.display.Javascript at 0x1af2e3c8>"
       ]
      },
      {
       "javascript": [
        "$('div#16d659e2-9d2b-4dd0-a8ff-eb1943b0aa1f').text(' 57%');"
       ],
       "metadata": {},
       "output_type": "display_data",
       "text": [
        "<IPython.core.display.Javascript at 0x208d0780>"
       ]
      },
      {
       "javascript": [
        "\n",
        "        var $myPB = $(\"div#216260dd-78b5-4879-b42c-227c8bf57c3b\")\n",
        "        if ($myPB.hasClass('ui-progressbar')) {\n",
        "            $myPB.progressbar('value', 1176);\n",
        "        } else {\n",
        "            $myPB.progressbar({value: 0, max: 2029});\n",
        "        }\n",
        "        "
       ],
       "metadata": {},
       "output_type": "display_data",
       "text": [
        "<IPython.core.display.Javascript at 0x208d0a58>"
       ]
      },
      {
       "javascript": [
        "$('div#9d7f465c-4c57-4eb7-9f4f-4f010f68fefe').text('ETA:  0:00:00');"
       ],
       "metadata": {},
       "output_type": "display_data",
       "text": [
        "<IPython.core.display.Javascript at 0x1af2e0f0>"
       ]
      },
      {
       "javascript": [
        "$('div#ecc6f276-6e08-4755-a53b-0bbb76fd658f').text('1197 of 2029');"
       ],
       "metadata": {},
       "output_type": "display_data",
       "text": [
        "<IPython.core.display.Javascript at 0x1af2e3c8>"
       ]
      },
      {
       "javascript": [
        "$('div#16d659e2-9d2b-4dd0-a8ff-eb1943b0aa1f').text(' 58%');"
       ],
       "metadata": {},
       "output_type": "display_data",
       "text": [
        "<IPython.core.display.Javascript at 0x208d0780>"
       ]
      },
      {
       "javascript": [
        "\n",
        "        var $myPB = $(\"div#216260dd-78b5-4879-b42c-227c8bf57c3b\")\n",
        "        if ($myPB.hasClass('ui-progressbar')) {\n",
        "            $myPB.progressbar('value', 1197);\n",
        "        } else {\n",
        "            $myPB.progressbar({value: 0, max: 2029});\n",
        "        }\n",
        "        "
       ],
       "metadata": {},
       "output_type": "display_data",
       "text": [
        "<IPython.core.display.Javascript at 0x208d0a58>"
       ]
      },
      {
       "javascript": [
        "$('div#9d7f465c-4c57-4eb7-9f4f-4f010f68fefe').text('ETA:  0:00:00');"
       ],
       "metadata": {},
       "output_type": "display_data",
       "text": [
        "<IPython.core.display.Javascript at 0x1af2e080>"
       ]
      },
      {
       "javascript": [
        "$('div#ecc6f276-6e08-4755-a53b-0bbb76fd658f').text('1218 of 2029');"
       ],
       "metadata": {},
       "output_type": "display_data",
       "text": [
        "<IPython.core.display.Javascript at 0x208d0a58>"
       ]
      },
      {
       "javascript": [
        "$('div#16d659e2-9d2b-4dd0-a8ff-eb1943b0aa1f').text(' 60%');"
       ],
       "metadata": {},
       "output_type": "display_data",
       "text": [
        "<IPython.core.display.Javascript at 0x208d0780>"
       ]
      },
      {
       "javascript": [
        "\n",
        "        var $myPB = $(\"div#216260dd-78b5-4879-b42c-227c8bf57c3b\")\n",
        "        if ($myPB.hasClass('ui-progressbar')) {\n",
        "            $myPB.progressbar('value', 1218);\n",
        "        } else {\n",
        "            $myPB.progressbar({value: 0, max: 2029});\n",
        "        }\n",
        "        "
       ],
       "metadata": {},
       "output_type": "display_data",
       "text": [
        "<IPython.core.display.Javascript at 0x1af2e3c8>"
       ]
      },
      {
       "javascript": [
        "$('div#9d7f465c-4c57-4eb7-9f4f-4f010f68fefe').text('ETA:  0:00:00');"
       ],
       "metadata": {},
       "output_type": "display_data",
       "text": [
        "<IPython.core.display.Javascript at 0x1af2ea58>"
       ]
      },
      {
       "javascript": [
        "$('div#ecc6f276-6e08-4755-a53b-0bbb76fd658f').text('1239 of 2029');"
       ],
       "metadata": {},
       "output_type": "display_data",
       "text": [
        "<IPython.core.display.Javascript at 0x208d0780>"
       ]
      },
      {
       "javascript": [
        "$('div#16d659e2-9d2b-4dd0-a8ff-eb1943b0aa1f').text(' 61%');"
       ],
       "metadata": {},
       "output_type": "display_data",
       "text": [
        "<IPython.core.display.Javascript at 0x208d0a58>"
       ]
      },
      {
       "javascript": [
        "\n",
        "        var $myPB = $(\"div#216260dd-78b5-4879-b42c-227c8bf57c3b\")\n",
        "        if ($myPB.hasClass('ui-progressbar')) {\n",
        "            $myPB.progressbar('value', 1239);\n",
        "        } else {\n",
        "            $myPB.progressbar({value: 0, max: 2029});\n",
        "        }\n",
        "        "
       ],
       "metadata": {},
       "output_type": "display_data",
       "text": [
        "<IPython.core.display.Javascript at 0x1af2e0f0>"
       ]
      },
      {
       "javascript": [
        "$('div#9d7f465c-4c57-4eb7-9f4f-4f010f68fefe').text('ETA:  0:00:00');"
       ],
       "metadata": {},
       "output_type": "display_data",
       "text": [
        "<IPython.core.display.Javascript at 0x208d0a58>"
       ]
      },
      {
       "javascript": [
        "$('div#ecc6f276-6e08-4755-a53b-0bbb76fd658f').text('1260 of 2029');"
       ],
       "metadata": {},
       "output_type": "display_data",
       "text": [
        "<IPython.core.display.Javascript at 0x208d0780>"
       ]
      },
      {
       "javascript": [
        "$('div#16d659e2-9d2b-4dd0-a8ff-eb1943b0aa1f').text(' 62%');"
       ],
       "metadata": {},
       "output_type": "display_data",
       "text": [
        "<IPython.core.display.Javascript at 0x1af2e3c8>"
       ]
      },
      {
       "javascript": [
        "\n",
        "        var $myPB = $(\"div#216260dd-78b5-4879-b42c-227c8bf57c3b\")\n",
        "        if ($myPB.hasClass('ui-progressbar')) {\n",
        "            $myPB.progressbar('value', 1260);\n",
        "        } else {\n",
        "            $myPB.progressbar({value: 0, max: 2029});\n",
        "        }\n",
        "        "
       ],
       "metadata": {},
       "output_type": "display_data",
       "text": [
        "<IPython.core.display.Javascript at 0x1af2e080>"
       ]
      },
      {
       "javascript": [
        "$('div#9d7f465c-4c57-4eb7-9f4f-4f010f68fefe').text('ETA:  0:00:00');"
       ],
       "metadata": {},
       "output_type": "display_data",
       "text": [
        "<IPython.core.display.Javascript at 0x208d0780>"
       ]
      },
      {
       "javascript": [
        "$('div#ecc6f276-6e08-4755-a53b-0bbb76fd658f').text('1281 of 2029');"
       ],
       "metadata": {},
       "output_type": "display_data",
       "text": [
        "<IPython.core.display.Javascript at 0x208d0a58>"
       ]
      },
      {
       "javascript": [
        "$('div#16d659e2-9d2b-4dd0-a8ff-eb1943b0aa1f').text(' 63%');"
       ],
       "metadata": {},
       "output_type": "display_data",
       "text": [
        "<IPython.core.display.Javascript at 0x1af2e0f0>"
       ]
      },
      {
       "javascript": [
        "\n",
        "        var $myPB = $(\"div#216260dd-78b5-4879-b42c-227c8bf57c3b\")\n",
        "        if ($myPB.hasClass('ui-progressbar')) {\n",
        "            $myPB.progressbar('value', 1281);\n",
        "        } else {\n",
        "            $myPB.progressbar({value: 0, max: 2029});\n",
        "        }\n",
        "        "
       ],
       "metadata": {},
       "output_type": "display_data",
       "text": [
        "<IPython.core.display.Javascript at 0x1af2e128>"
       ]
      },
      {
       "javascript": [
        "$('div#9d7f465c-4c57-4eb7-9f4f-4f010f68fefe').text('ETA:  0:00:00');"
       ],
       "metadata": {},
       "output_type": "display_data",
       "text": [
        "<IPython.core.display.Javascript at 0x1af2e128>"
       ]
      },
      {
       "javascript": [
        "$('div#ecc6f276-6e08-4755-a53b-0bbb76fd658f').text('1302 of 2029');"
       ],
       "metadata": {},
       "output_type": "display_data",
       "text": [
        "<IPython.core.display.Javascript at 0x208d0780>"
       ]
      },
      {
       "javascript": [
        "$('div#16d659e2-9d2b-4dd0-a8ff-eb1943b0aa1f').text(' 64%');"
       ],
       "metadata": {},
       "output_type": "display_data",
       "text": [
        "<IPython.core.display.Javascript at 0x208d0a58>"
       ]
      },
      {
       "javascript": [
        "\n",
        "        var $myPB = $(\"div#216260dd-78b5-4879-b42c-227c8bf57c3b\")\n",
        "        if ($myPB.hasClass('ui-progressbar')) {\n",
        "            $myPB.progressbar('value', 1302);\n",
        "        } else {\n",
        "            $myPB.progressbar({value: 0, max: 2029});\n",
        "        }\n",
        "        "
       ],
       "metadata": {},
       "output_type": "display_data",
       "text": [
        "<IPython.core.display.Javascript at 0x208d0a58>"
       ]
      },
      {
       "javascript": [
        "$('div#9d7f465c-4c57-4eb7-9f4f-4f010f68fefe').text('ETA:  0:00:00');"
       ],
       "metadata": {},
       "output_type": "display_data",
       "text": [
        "<IPython.core.display.Javascript at 0x208d0780>"
       ]
      },
      {
       "javascript": [
        "$('div#ecc6f276-6e08-4755-a53b-0bbb76fd658f').text('1323 of 2029');"
       ],
       "metadata": {},
       "output_type": "display_data",
       "text": [
        "<IPython.core.display.Javascript at 0x1af2ea58>"
       ]
      },
      {
       "javascript": [
        "$('div#16d659e2-9d2b-4dd0-a8ff-eb1943b0aa1f').text(' 65%');"
       ],
       "metadata": {},
       "output_type": "display_data",
       "text": [
        "<IPython.core.display.Javascript at 0x208d0780>"
       ]
      },
      {
       "javascript": [
        "\n",
        "        var $myPB = $(\"div#216260dd-78b5-4879-b42c-227c8bf57c3b\")\n",
        "        if ($myPB.hasClass('ui-progressbar')) {\n",
        "            $myPB.progressbar('value', 1323);\n",
        "        } else {\n",
        "            $myPB.progressbar({value: 0, max: 2029});\n",
        "        }\n",
        "        "
       ],
       "metadata": {},
       "output_type": "display_data",
       "text": [
        "<IPython.core.display.Javascript at 0x208d0a58>"
       ]
      },
      {
       "javascript": [
        "$('div#9d7f465c-4c57-4eb7-9f4f-4f010f68fefe').text('ETA:  0:00:00');"
       ],
       "metadata": {},
       "output_type": "display_data",
       "text": [
        "<IPython.core.display.Javascript at 0x1af2e0f0>"
       ]
      },
      {
       "javascript": [
        "$('div#ecc6f276-6e08-4755-a53b-0bbb76fd658f').text('1344 of 2029');"
       ],
       "metadata": {},
       "output_type": "display_data",
       "text": [
        "<IPython.core.display.Javascript at 0x1af2ea58>"
       ]
      },
      {
       "javascript": [
        "$('div#16d659e2-9d2b-4dd0-a8ff-eb1943b0aa1f').text(' 66%');"
       ],
       "metadata": {},
       "output_type": "display_data",
       "text": [
        "<IPython.core.display.Javascript at 0x1af2ea58>"
       ]
      },
      {
       "javascript": [
        "\n",
        "        var $myPB = $(\"div#216260dd-78b5-4879-b42c-227c8bf57c3b\")\n",
        "        if ($myPB.hasClass('ui-progressbar')) {\n",
        "            $myPB.progressbar('value', 1344);\n",
        "        } else {\n",
        "            $myPB.progressbar({value: 0, max: 2029});\n",
        "        }\n",
        "        "
       ],
       "metadata": {},
       "output_type": "display_data",
       "text": [
        "<IPython.core.display.Javascript at 0x1af2e3c8>"
       ]
      },
      {
       "javascript": [
        "$('div#9d7f465c-4c57-4eb7-9f4f-4f010f68fefe').text('ETA:  0:00:00');"
       ],
       "metadata": {},
       "output_type": "display_data",
       "text": [
        "<IPython.core.display.Javascript at 0x1af2e0f0>"
       ]
      },
      {
       "javascript": [
        "$('div#ecc6f276-6e08-4755-a53b-0bbb76fd658f').text('1365 of 2029');"
       ],
       "metadata": {},
       "output_type": "display_data",
       "text": [
        "<IPython.core.display.Javascript at 0x1af2e080>"
       ]
      },
      {
       "javascript": [
        "$('div#16d659e2-9d2b-4dd0-a8ff-eb1943b0aa1f').text(' 67%');"
       ],
       "metadata": {},
       "output_type": "display_data",
       "text": [
        "<IPython.core.display.Javascript at 0x1af2e128>"
       ]
      },
      {
       "javascript": [
        "\n",
        "        var $myPB = $(\"div#216260dd-78b5-4879-b42c-227c8bf57c3b\")\n",
        "        if ($myPB.hasClass('ui-progressbar')) {\n",
        "            $myPB.progressbar('value', 1365);\n",
        "        } else {\n",
        "            $myPB.progressbar({value: 0, max: 2029});\n",
        "        }\n",
        "        "
       ],
       "metadata": {},
       "output_type": "display_data",
       "text": [
        "<IPython.core.display.Javascript at 0x1af2ea58>"
       ]
      },
      {
       "javascript": [
        "$('div#9d7f465c-4c57-4eb7-9f4f-4f010f68fefe').text('ETA:  0:00:00');"
       ],
       "metadata": {},
       "output_type": "display_data",
       "text": [
        "<IPython.core.display.Javascript at 0x1af2e3c8>"
       ]
      },
      {
       "javascript": [
        "$('div#ecc6f276-6e08-4755-a53b-0bbb76fd658f').text('1386 of 2029');"
       ],
       "metadata": {},
       "output_type": "display_data",
       "text": [
        "<IPython.core.display.Javascript at 0x1af2e3c8>"
       ]
      },
      {
       "javascript": [
        "$('div#16d659e2-9d2b-4dd0-a8ff-eb1943b0aa1f').text(' 68%');"
       ],
       "metadata": {},
       "output_type": "display_data",
       "text": [
        "<IPython.core.display.Javascript at 0x1af2e0f0>"
       ]
      },
      {
       "javascript": [
        "\n",
        "        var $myPB = $(\"div#216260dd-78b5-4879-b42c-227c8bf57c3b\")\n",
        "        if ($myPB.hasClass('ui-progressbar')) {\n",
        "            $myPB.progressbar('value', 1386);\n",
        "        } else {\n",
        "            $myPB.progressbar({value: 0, max: 2029});\n",
        "        }\n",
        "        "
       ],
       "metadata": {},
       "output_type": "display_data",
       "text": [
        "<IPython.core.display.Javascript at 0x1af2e128>"
       ]
      },
      {
       "javascript": [
        "$('div#9d7f465c-4c57-4eb7-9f4f-4f010f68fefe').text('ETA:  0:00:00');"
       ],
       "metadata": {},
       "output_type": "display_data",
       "text": [
        "<IPython.core.display.Javascript at 0x1af2ea58>"
       ]
      },
      {
       "javascript": [
        "$('div#ecc6f276-6e08-4755-a53b-0bbb76fd658f').text('1407 of 2029');"
       ],
       "metadata": {},
       "output_type": "display_data",
       "text": [
        "<IPython.core.display.Javascript at 0x208d0780>"
       ]
      },
      {
       "javascript": [
        "$('div#16d659e2-9d2b-4dd0-a8ff-eb1943b0aa1f').text(' 69%');"
       ],
       "metadata": {},
       "output_type": "display_data",
       "text": [
        "<IPython.core.display.Javascript at 0x208d0a58>"
       ]
      },
      {
       "javascript": [
        "\n",
        "        var $myPB = $(\"div#216260dd-78b5-4879-b42c-227c8bf57c3b\")\n",
        "        if ($myPB.hasClass('ui-progressbar')) {\n",
        "            $myPB.progressbar('value', 1407);\n",
        "        } else {\n",
        "            $myPB.progressbar({value: 0, max: 2029});\n",
        "        }\n",
        "        "
       ],
       "metadata": {},
       "output_type": "display_data",
       "text": [
        "<IPython.core.display.Javascript at 0x1af2e0f0>"
       ]
      },
      {
       "javascript": [
        "$('div#9d7f465c-4c57-4eb7-9f4f-4f010f68fefe').text('ETA:  0:00:00');"
       ],
       "metadata": {},
       "output_type": "display_data",
       "text": [
        "<IPython.core.display.Javascript at 0x208d0a58>"
       ]
      },
      {
       "javascript": [
        "$('div#ecc6f276-6e08-4755-a53b-0bbb76fd658f').text('1428 of 2029');"
       ],
       "metadata": {},
       "output_type": "display_data",
       "text": [
        "<IPython.core.display.Javascript at 0x208d0780>"
       ]
      },
      {
       "javascript": [
        "$('div#16d659e2-9d2b-4dd0-a8ff-eb1943b0aa1f').text(' 70%');"
       ],
       "metadata": {},
       "output_type": "display_data",
       "text": [
        "<IPython.core.display.Javascript at 0x1af2ea58>"
       ]
      },
      {
       "javascript": [
        "\n",
        "        var $myPB = $(\"div#216260dd-78b5-4879-b42c-227c8bf57c3b\")\n",
        "        if ($myPB.hasClass('ui-progressbar')) {\n",
        "            $myPB.progressbar('value', 1428);\n",
        "        } else {\n",
        "            $myPB.progressbar({value: 0, max: 2029});\n",
        "        }\n",
        "        "
       ],
       "metadata": {},
       "output_type": "display_data",
       "text": [
        "<IPython.core.display.Javascript at 0x208d0780>"
       ]
      },
      {
       "javascript": [
        "$('div#9d7f465c-4c57-4eb7-9f4f-4f010f68fefe').text('ETA:  0:00:00');"
       ],
       "metadata": {},
       "output_type": "display_data",
       "text": [
        "<IPython.core.display.Javascript at 0x208d0a58>"
       ]
      },
      {
       "javascript": [
        "$('div#ecc6f276-6e08-4755-a53b-0bbb76fd658f').text('1449 of 2029');"
       ],
       "metadata": {},
       "output_type": "display_data",
       "text": [
        "<IPython.core.display.Javascript at 0x1af2e128>"
       ]
      },
      {
       "javascript": [
        "$('div#16d659e2-9d2b-4dd0-a8ff-eb1943b0aa1f').text(' 71%');"
       ],
       "metadata": {},
       "output_type": "display_data",
       "text": [
        "<IPython.core.display.Javascript at 0x1af2ea58>"
       ]
      },
      {
       "javascript": [
        "\n",
        "        var $myPB = $(\"div#216260dd-78b5-4879-b42c-227c8bf57c3b\")\n",
        "        if ($myPB.hasClass('ui-progressbar')) {\n",
        "            $myPB.progressbar('value', 1449);\n",
        "        } else {\n",
        "            $myPB.progressbar({value: 0, max: 2029});\n",
        "        }\n",
        "        "
       ],
       "metadata": {},
       "output_type": "display_data",
       "text": [
        "<IPython.core.display.Javascript at 0x208d0a58>"
       ]
      },
      {
       "javascript": [
        "$('div#9d7f465c-4c57-4eb7-9f4f-4f010f68fefe').text('ETA:  0:00:00');"
       ],
       "metadata": {},
       "output_type": "display_data",
       "text": [
        "<IPython.core.display.Javascript at 0x208d0780>"
       ]
      },
      {
       "javascript": [
        "$('div#ecc6f276-6e08-4755-a53b-0bbb76fd658f').text('1470 of 2029');"
       ],
       "metadata": {},
       "output_type": "display_data",
       "text": [
        "<IPython.core.display.Javascript at 0x1af2e0f0>"
       ]
      },
      {
       "javascript": [
        "$('div#16d659e2-9d2b-4dd0-a8ff-eb1943b0aa1f').text(' 72%');"
       ],
       "metadata": {},
       "output_type": "display_data",
       "text": [
        "<IPython.core.display.Javascript at 0x208d0780>"
       ]
      },
      {
       "javascript": [
        "\n",
        "        var $myPB = $(\"div#216260dd-78b5-4879-b42c-227c8bf57c3b\")\n",
        "        if ($myPB.hasClass('ui-progressbar')) {\n",
        "            $myPB.progressbar('value', 1470);\n",
        "        } else {\n",
        "            $myPB.progressbar({value: 0, max: 2029});\n",
        "        }\n",
        "        "
       ],
       "metadata": {},
       "output_type": "display_data",
       "text": [
        "<IPython.core.display.Javascript at 0x208d0a58>"
       ]
      },
      {
       "javascript": [
        "$('div#9d7f465c-4c57-4eb7-9f4f-4f010f68fefe').text('ETA:  0:00:00');"
       ],
       "metadata": {},
       "output_type": "display_data",
       "text": [
        "<IPython.core.display.Javascript at 0x1af2ea58>"
       ]
      },
      {
       "javascript": [
        "$('div#ecc6f276-6e08-4755-a53b-0bbb76fd658f').text('1491 of 2029');"
       ],
       "metadata": {},
       "output_type": "display_data",
       "text": [
        "<IPython.core.display.Javascript at 0x1af2e0f0>"
       ]
      },
      {
       "javascript": [
        "$('div#16d659e2-9d2b-4dd0-a8ff-eb1943b0aa1f').text(' 73%');"
       ],
       "metadata": {},
       "output_type": "display_data",
       "text": [
        "<IPython.core.display.Javascript at 0x208d0a58>"
       ]
      },
      {
       "javascript": [
        "\n",
        "        var $myPB = $(\"div#216260dd-78b5-4879-b42c-227c8bf57c3b\")\n",
        "        if ($myPB.hasClass('ui-progressbar')) {\n",
        "            $myPB.progressbar('value', 1491);\n",
        "        } else {\n",
        "            $myPB.progressbar({value: 0, max: 2029});\n",
        "        }\n",
        "        "
       ],
       "metadata": {},
       "output_type": "display_data",
       "text": [
        "<IPython.core.display.Javascript at 0x208d0780>"
       ]
      },
      {
       "javascript": [
        "$('div#9d7f465c-4c57-4eb7-9f4f-4f010f68fefe').text('ETA:  0:00:00');"
       ],
       "metadata": {},
       "output_type": "display_data",
       "text": [
        "<IPython.core.display.Javascript at 0x1af2e080>"
       ]
      },
      {
       "javascript": [
        "$('div#ecc6f276-6e08-4755-a53b-0bbb76fd658f').text('1512 of 2029');"
       ],
       "metadata": {},
       "output_type": "display_data",
       "text": [
        "<IPython.core.display.Javascript at 0x1af2e0f0>"
       ]
      },
      {
       "javascript": [
        "$('div#16d659e2-9d2b-4dd0-a8ff-eb1943b0aa1f').text(' 74%');"
       ],
       "metadata": {},
       "output_type": "display_data",
       "text": [
        "<IPython.core.display.Javascript at 0x1af2ea58>"
       ]
      },
      {
       "javascript": [
        "\n",
        "        var $myPB = $(\"div#216260dd-78b5-4879-b42c-227c8bf57c3b\")\n",
        "        if ($myPB.hasClass('ui-progressbar')) {\n",
        "            $myPB.progressbar('value', 1512);\n",
        "        } else {\n",
        "            $myPB.progressbar({value: 0, max: 2029});\n",
        "        }\n",
        "        "
       ],
       "metadata": {},
       "output_type": "display_data",
       "text": [
        "<IPython.core.display.Javascript at 0x1af2e3c8>"
       ]
      },
      {
       "javascript": [
        "$('div#9d7f465c-4c57-4eb7-9f4f-4f010f68fefe').text('ETA:  0:00:00');"
       ],
       "metadata": {},
       "output_type": "display_data",
       "text": [
        "<IPython.core.display.Javascript at 0x1af2e128>"
       ]
      },
      {
       "javascript": [
        "$('div#ecc6f276-6e08-4755-a53b-0bbb76fd658f').text('1533 of 2029');"
       ],
       "metadata": {},
       "output_type": "display_data",
       "text": [
        "<IPython.core.display.Javascript at 0x208d0a58>"
       ]
      },
      {
       "javascript": [
        "$('div#16d659e2-9d2b-4dd0-a8ff-eb1943b0aa1f').text(' 75%');"
       ],
       "metadata": {},
       "output_type": "display_data",
       "text": [
        "<IPython.core.display.Javascript at 0x208d0780>"
       ]
      },
      {
       "javascript": [
        "\n",
        "        var $myPB = $(\"div#216260dd-78b5-4879-b42c-227c8bf57c3b\")\n",
        "        if ($myPB.hasClass('ui-progressbar')) {\n",
        "            $myPB.progressbar('value', 1533);\n",
        "        } else {\n",
        "            $myPB.progressbar({value: 0, max: 2029});\n",
        "        }\n",
        "        "
       ],
       "metadata": {},
       "output_type": "display_data",
       "text": [
        "<IPython.core.display.Javascript at 0x1af2ea58>"
       ]
      },
      {
       "javascript": [
        "$('div#9d7f465c-4c57-4eb7-9f4f-4f010f68fefe').text('ETA:  0:00:00');"
       ],
       "metadata": {},
       "output_type": "display_data",
       "text": [
        "<IPython.core.display.Javascript at 0x1af2e128>"
       ]
      },
      {
       "javascript": [
        "$('div#ecc6f276-6e08-4755-a53b-0bbb76fd658f').text('1554 of 2029');"
       ],
       "metadata": {},
       "output_type": "display_data",
       "text": [
        "<IPython.core.display.Javascript at 0x208d0780>"
       ]
      },
      {
       "javascript": [
        "$('div#16d659e2-9d2b-4dd0-a8ff-eb1943b0aa1f').text(' 76%');"
       ],
       "metadata": {},
       "output_type": "display_data",
       "text": [
        "<IPython.core.display.Javascript at 0x208d0a58>"
       ]
      },
      {
       "javascript": [
        "\n",
        "        var $myPB = $(\"div#216260dd-78b5-4879-b42c-227c8bf57c3b\")\n",
        "        if ($myPB.hasClass('ui-progressbar')) {\n",
        "            $myPB.progressbar('value', 1554);\n",
        "        } else {\n",
        "            $myPB.progressbar({value: 0, max: 2029});\n",
        "        }\n",
        "        "
       ],
       "metadata": {},
       "output_type": "display_data",
       "text": [
        "<IPython.core.display.Javascript at 0x1af2e080>"
       ]
      },
      {
       "javascript": [
        "$('div#9d7f465c-4c57-4eb7-9f4f-4f010f68fefe').text('ETA:  0:00:00');"
       ],
       "metadata": {},
       "output_type": "display_data",
       "text": [
        "<IPython.core.display.Javascript at 0x208d0a58>"
       ]
      },
      {
       "javascript": [
        "$('div#ecc6f276-6e08-4755-a53b-0bbb76fd658f').text('1575 of 2029');"
       ],
       "metadata": {},
       "output_type": "display_data",
       "text": [
        "<IPython.core.display.Javascript at 0x208d0780>"
       ]
      },
      {
       "javascript": [
        "$('div#16d659e2-9d2b-4dd0-a8ff-eb1943b0aa1f').text(' 77%');"
       ],
       "metadata": {},
       "output_type": "display_data",
       "text": [
        "<IPython.core.display.Javascript at 0x1af2e128>"
       ]
      },
      {
       "javascript": [
        "\n",
        "        var $myPB = $(\"div#216260dd-78b5-4879-b42c-227c8bf57c3b\")\n",
        "        if ($myPB.hasClass('ui-progressbar')) {\n",
        "            $myPB.progressbar('value', 1575);\n",
        "        } else {\n",
        "            $myPB.progressbar({value: 0, max: 2029});\n",
        "        }\n",
        "        "
       ],
       "metadata": {},
       "output_type": "display_data",
       "text": [
        "<IPython.core.display.Javascript at 0x1af2ea58>"
       ]
      },
      {
       "javascript": [
        "$('div#9d7f465c-4c57-4eb7-9f4f-4f010f68fefe').text('ETA:  0:00:00');"
       ],
       "metadata": {},
       "output_type": "display_data",
       "text": [
        "<IPython.core.display.Javascript at 0x208d0a58>"
       ]
      },
      {
       "javascript": [
        "$('div#ecc6f276-6e08-4755-a53b-0bbb76fd658f').text('1596 of 2029');"
       ],
       "metadata": {},
       "output_type": "display_data",
       "text": [
        "<IPython.core.display.Javascript at 0x208d0780>"
       ]
      },
      {
       "javascript": [
        "$('div#16d659e2-9d2b-4dd0-a8ff-eb1943b0aa1f').text(' 78%');"
       ],
       "metadata": {},
       "output_type": "display_data",
       "text": [
        "<IPython.core.display.Javascript at 0x1af2e0f0>"
       ]
      },
      {
       "javascript": [
        "\n",
        "        var $myPB = $(\"div#216260dd-78b5-4879-b42c-227c8bf57c3b\")\n",
        "        if ($myPB.hasClass('ui-progressbar')) {\n",
        "            $myPB.progressbar('value', 1596);\n",
        "        } else {\n",
        "            $myPB.progressbar({value: 0, max: 2029});\n",
        "        }\n",
        "        "
       ],
       "metadata": {},
       "output_type": "display_data",
       "text": [
        "<IPython.core.display.Javascript at 0x208d0780>"
       ]
      },
      {
       "javascript": [
        "$('div#9d7f465c-4c57-4eb7-9f4f-4f010f68fefe').text('ETA:  0:00:00');"
       ],
       "metadata": {},
       "output_type": "display_data",
       "text": [
        "<IPython.core.display.Javascript at 0x208d0a58>"
       ]
      },
      {
       "javascript": [
        "$('div#ecc6f276-6e08-4755-a53b-0bbb76fd658f').text('1617 of 2029');"
       ],
       "metadata": {},
       "output_type": "display_data",
       "text": [
        "<IPython.core.display.Javascript at 0x1af2e128>"
       ]
      },
      {
       "javascript": [
        "$('div#16d659e2-9d2b-4dd0-a8ff-eb1943b0aa1f').text(' 79%');"
       ],
       "metadata": {},
       "output_type": "display_data",
       "text": [
        "<IPython.core.display.Javascript at 0x1af2e0f0>"
       ]
      },
      {
       "javascript": [
        "\n",
        "        var $myPB = $(\"div#216260dd-78b5-4879-b42c-227c8bf57c3b\")\n",
        "        if ($myPB.hasClass('ui-progressbar')) {\n",
        "            $myPB.progressbar('value', 1617);\n",
        "        } else {\n",
        "            $myPB.progressbar({value: 0, max: 2029});\n",
        "        }\n",
        "        "
       ],
       "metadata": {},
       "output_type": "display_data",
       "text": [
        "<IPython.core.display.Javascript at 0x208d0a58>"
       ]
      },
      {
       "javascript": [
        "$('div#9d7f465c-4c57-4eb7-9f4f-4f010f68fefe').text('ETA:  0:00:00');"
       ],
       "metadata": {},
       "output_type": "display_data",
       "text": [
        "<IPython.core.display.Javascript at 0x208d0780>"
       ]
      },
      {
       "javascript": [
        "$('div#ecc6f276-6e08-4755-a53b-0bbb76fd658f').text('1638 of 2029');"
       ],
       "metadata": {},
       "output_type": "display_data",
       "text": [
        "<IPython.core.display.Javascript at 0x1af2e080>"
       ]
      },
      {
       "javascript": [
        "$('div#16d659e2-9d2b-4dd0-a8ff-eb1943b0aa1f').text(' 80%');"
       ],
       "metadata": {},
       "output_type": "display_data",
       "text": [
        "<IPython.core.display.Javascript at 0x208d0780>"
       ]
      },
      {
       "javascript": [
        "\n",
        "        var $myPB = $(\"div#216260dd-78b5-4879-b42c-227c8bf57c3b\")\n",
        "        if ($myPB.hasClass('ui-progressbar')) {\n",
        "            $myPB.progressbar('value', 1638);\n",
        "        } else {\n",
        "            $myPB.progressbar({value: 0, max: 2029});\n",
        "        }\n",
        "        "
       ],
       "metadata": {},
       "output_type": "display_data",
       "text": [
        "<IPython.core.display.Javascript at 0x208d0a58>"
       ]
      },
      {
       "javascript": [
        "$('div#9d7f465c-4c57-4eb7-9f4f-4f010f68fefe').text('ETA:  0:00:00');"
       ],
       "metadata": {},
       "output_type": "display_data",
       "text": [
        "<IPython.core.display.Javascript at 0x1af2e0f0>"
       ]
      },
      {
       "javascript": [
        "$('div#ecc6f276-6e08-4755-a53b-0bbb76fd658f').text('1659 of 2029');"
       ],
       "metadata": {},
       "output_type": "display_data",
       "text": [
        "<IPython.core.display.Javascript at 0x1af2e080>"
       ]
      },
      {
       "javascript": [
        "$('div#16d659e2-9d2b-4dd0-a8ff-eb1943b0aa1f').text(' 81%');"
       ],
       "metadata": {},
       "output_type": "display_data",
       "text": [
        "<IPython.core.display.Javascript at 0x208d0a58>"
       ]
      },
      {
       "javascript": [
        "\n",
        "        var $myPB = $(\"div#216260dd-78b5-4879-b42c-227c8bf57c3b\")\n",
        "        if ($myPB.hasClass('ui-progressbar')) {\n",
        "            $myPB.progressbar('value', 1659);\n",
        "        } else {\n",
        "            $myPB.progressbar({value: 0, max: 2029});\n",
        "        }\n",
        "        "
       ],
       "metadata": {},
       "output_type": "display_data",
       "text": [
        "<IPython.core.display.Javascript at 0x208d0780>"
       ]
      },
      {
       "javascript": [
        "$('div#9d7f465c-4c57-4eb7-9f4f-4f010f68fefe').text('ETA:  0:00:00');"
       ],
       "metadata": {},
       "output_type": "display_data",
       "text": [
        "<IPython.core.display.Javascript at 0x1af2ea58>"
       ]
      },
      {
       "javascript": [
        "$('div#ecc6f276-6e08-4755-a53b-0bbb76fd658f').text('1680 of 2029');"
       ],
       "metadata": {},
       "output_type": "display_data",
       "text": [
        "<IPython.core.display.Javascript at 0x208d0a58>"
       ]
      },
      {
       "javascript": [
        "$('div#16d659e2-9d2b-4dd0-a8ff-eb1943b0aa1f').text(' 82%');"
       ],
       "metadata": {},
       "output_type": "display_data",
       "text": [
        "<IPython.core.display.Javascript at 0x208d0780>"
       ]
      },
      {
       "javascript": [
        "\n",
        "        var $myPB = $(\"div#216260dd-78b5-4879-b42c-227c8bf57c3b\")\n",
        "        if ($myPB.hasClass('ui-progressbar')) {\n",
        "            $myPB.progressbar('value', 1680);\n",
        "        } else {\n",
        "            $myPB.progressbar({value: 0, max: 2029});\n",
        "        }\n",
        "        "
       ],
       "metadata": {},
       "output_type": "display_data",
       "text": [
        "<IPython.core.display.Javascript at 0x1af2e128>"
       ]
      },
      {
       "javascript": [
        "$('div#9d7f465c-4c57-4eb7-9f4f-4f010f68fefe').text('ETA:  0:00:00');"
       ],
       "metadata": {},
       "output_type": "display_data",
       "text": [
        "<IPython.core.display.Javascript at 0x1af2ea58>"
       ]
      },
      {
       "javascript": [
        "$('div#ecc6f276-6e08-4755-a53b-0bbb76fd658f').text('1701 of 2029');"
       ],
       "metadata": {},
       "output_type": "display_data",
       "text": [
        "<IPython.core.display.Javascript at 0x208d0780>"
       ]
      },
      {
       "javascript": [
        "$('div#16d659e2-9d2b-4dd0-a8ff-eb1943b0aa1f').text(' 83%');"
       ],
       "metadata": {},
       "output_type": "display_data",
       "text": [
        "<IPython.core.display.Javascript at 0x208d0a58>"
       ]
      },
      {
       "javascript": [
        "\n",
        "        var $myPB = $(\"div#216260dd-78b5-4879-b42c-227c8bf57c3b\")\n",
        "        if ($myPB.hasClass('ui-progressbar')) {\n",
        "            $myPB.progressbar('value', 1701);\n",
        "        } else {\n",
        "            $myPB.progressbar({value: 0, max: 2029});\n",
        "        }\n",
        "        "
       ],
       "metadata": {},
       "output_type": "display_data",
       "text": [
        "<IPython.core.display.Javascript at 0x1af2e0f0>"
       ]
      },
      {
       "javascript": [
        "$('div#9d7f465c-4c57-4eb7-9f4f-4f010f68fefe').text('ETA:  0:00:00');"
       ],
       "metadata": {},
       "output_type": "display_data",
       "text": [
        "<IPython.core.display.Javascript at 0x1af2e3c8>"
       ]
      },
      {
       "javascript": [
        "$('div#ecc6f276-6e08-4755-a53b-0bbb76fd658f').text('1722 of 2029');"
       ],
       "metadata": {},
       "output_type": "display_data",
       "text": [
        "<IPython.core.display.Javascript at 0x208d0780>"
       ]
      },
      {
       "javascript": [
        "$('div#16d659e2-9d2b-4dd0-a8ff-eb1943b0aa1f').text(' 84%');"
       ],
       "metadata": {},
       "output_type": "display_data",
       "text": [
        "<IPython.core.display.Javascript at 0x208d0a58>"
       ]
      },
      {
       "javascript": [
        "\n",
        "        var $myPB = $(\"div#216260dd-78b5-4879-b42c-227c8bf57c3b\")\n",
        "        if ($myPB.hasClass('ui-progressbar')) {\n",
        "            $myPB.progressbar('value', 1722);\n",
        "        } else {\n",
        "            $myPB.progressbar({value: 0, max: 2029});\n",
        "        }\n",
        "        "
       ],
       "metadata": {},
       "output_type": "display_data",
       "text": [
        "<IPython.core.display.Javascript at 0x1af2e3c8>"
       ]
      },
      {
       "javascript": [
        "$('div#9d7f465c-4c57-4eb7-9f4f-4f010f68fefe').text('ETA:  0:00:00');"
       ],
       "metadata": {},
       "output_type": "display_data",
       "text": [
        "<IPython.core.display.Javascript at 0x208d0a58>"
       ]
      },
      {
       "javascript": [
        "$('div#ecc6f276-6e08-4755-a53b-0bbb76fd658f').text('1743 of 2029');"
       ],
       "metadata": {},
       "output_type": "display_data",
       "text": [
        "<IPython.core.display.Javascript at 0x208d0780>"
       ]
      },
      {
       "javascript": [
        "$('div#16d659e2-9d2b-4dd0-a8ff-eb1943b0aa1f').text(' 85%');"
       ],
       "metadata": {},
       "output_type": "display_data",
       "text": [
        "<IPython.core.display.Javascript at 0x1af2e0f0>"
       ]
      },
      {
       "javascript": [
        "\n",
        "        var $myPB = $(\"div#216260dd-78b5-4879-b42c-227c8bf57c3b\")\n",
        "        if ($myPB.hasClass('ui-progressbar')) {\n",
        "            $myPB.progressbar('value', 1743);\n",
        "        } else {\n",
        "            $myPB.progressbar({value: 0, max: 2029});\n",
        "        }\n",
        "        "
       ],
       "metadata": {},
       "output_type": "display_data",
       "text": [
        "<IPython.core.display.Javascript at 0x1af2e128>"
       ]
      },
      {
       "javascript": [
        "$('div#9d7f465c-4c57-4eb7-9f4f-4f010f68fefe').text('ETA:  0:00:00');"
       ],
       "metadata": {},
       "output_type": "display_data",
       "text": [
        "<IPython.core.display.Javascript at 0x208d0a58>"
       ]
      },
      {
       "javascript": [
        "$('div#ecc6f276-6e08-4755-a53b-0bbb76fd658f').text('1764 of 2029');"
       ],
       "metadata": {},
       "output_type": "display_data",
       "text": [
        "<IPython.core.display.Javascript at 0x208d0780>"
       ]
      },
      {
       "javascript": [
        "$('div#16d659e2-9d2b-4dd0-a8ff-eb1943b0aa1f').text(' 86%');"
       ],
       "metadata": {},
       "output_type": "display_data",
       "text": [
        "<IPython.core.display.Javascript at 0x1af2e3c8>"
       ]
      },
      {
       "javascript": [
        "\n",
        "        var $myPB = $(\"div#216260dd-78b5-4879-b42c-227c8bf57c3b\")\n",
        "        if ($myPB.hasClass('ui-progressbar')) {\n",
        "            $myPB.progressbar('value', 1764);\n",
        "        } else {\n",
        "            $myPB.progressbar({value: 0, max: 2029});\n",
        "        }\n",
        "        "
       ],
       "metadata": {},
       "output_type": "display_data",
       "text": [
        "<IPython.core.display.Javascript at 0x208d0780>"
       ]
      },
      {
       "javascript": [
        "$('div#9d7f465c-4c57-4eb7-9f4f-4f010f68fefe').text('ETA:  0:00:00');"
       ],
       "metadata": {},
       "output_type": "display_data",
       "text": [
        "<IPython.core.display.Javascript at 0x208d0a58>"
       ]
      },
      {
       "javascript": [
        "$('div#ecc6f276-6e08-4755-a53b-0bbb76fd658f').text('1785 of 2029');"
       ],
       "metadata": {},
       "output_type": "display_data",
       "text": [
        "<IPython.core.display.Javascript at 0x1af2e0f0>"
       ]
      },
      {
       "javascript": [
        "$('div#16d659e2-9d2b-4dd0-a8ff-eb1943b0aa1f').text(' 87%');"
       ],
       "metadata": {},
       "output_type": "display_data",
       "text": [
        "<IPython.core.display.Javascript at 0x1af2e3c8>"
       ]
      },
      {
       "javascript": [
        "\n",
        "        var $myPB = $(\"div#216260dd-78b5-4879-b42c-227c8bf57c3b\")\n",
        "        if ($myPB.hasClass('ui-progressbar')) {\n",
        "            $myPB.progressbar('value', 1785);\n",
        "        } else {\n",
        "            $myPB.progressbar({value: 0, max: 2029});\n",
        "        }\n",
        "        "
       ],
       "metadata": {},
       "output_type": "display_data",
       "text": [
        "<IPython.core.display.Javascript at 0x208d0780>"
       ]
      },
      {
       "javascript": [
        "$('div#9d7f465c-4c57-4eb7-9f4f-4f010f68fefe').text('ETA:  0:00:00');"
       ],
       "metadata": {},
       "output_type": "display_data",
       "text": [
        "<IPython.core.display.Javascript at 0x208d0a58>"
       ]
      },
      {
       "javascript": [
        "$('div#ecc6f276-6e08-4755-a53b-0bbb76fd658f').text('1806 of 2029');"
       ],
       "metadata": {},
       "output_type": "display_data",
       "text": [
        "<IPython.core.display.Javascript at 0x1af2ea58>"
       ]
      },
      {
       "javascript": [
        "$('div#16d659e2-9d2b-4dd0-a8ff-eb1943b0aa1f').text(' 89%');"
       ],
       "metadata": {},
       "output_type": "display_data",
       "text": [
        "<IPython.core.display.Javascript at 0x208d0a58>"
       ]
      },
      {
       "javascript": [
        "\n",
        "        var $myPB = $(\"div#216260dd-78b5-4879-b42c-227c8bf57c3b\")\n",
        "        if ($myPB.hasClass('ui-progressbar')) {\n",
        "            $myPB.progressbar('value', 1806);\n",
        "        } else {\n",
        "            $myPB.progressbar({value: 0, max: 2029});\n",
        "        }\n",
        "        "
       ],
       "metadata": {},
       "output_type": "display_data",
       "text": [
        "<IPython.core.display.Javascript at 0x208d0780>"
       ]
      },
      {
       "javascript": [
        "$('div#9d7f465c-4c57-4eb7-9f4f-4f010f68fefe').text('ETA:  0:00:00');"
       ],
       "metadata": {},
       "output_type": "display_data",
       "text": [
        "<IPython.core.display.Javascript at 0x1af2e3c8>"
       ]
      },
      {
       "javascript": [
        "$('div#ecc6f276-6e08-4755-a53b-0bbb76fd658f').text('1827 of 2029');"
       ],
       "metadata": {},
       "output_type": "display_data",
       "text": [
        "<IPython.core.display.Javascript at 0x1af2ea58>"
       ]
      },
      {
       "javascript": [
        "$('div#16d659e2-9d2b-4dd0-a8ff-eb1943b0aa1f').text(' 90%');"
       ],
       "metadata": {},
       "output_type": "display_data",
       "text": [
        "<IPython.core.display.Javascript at 0x208d0a58>"
       ]
      },
      {
       "javascript": [
        "\n",
        "        var $myPB = $(\"div#216260dd-78b5-4879-b42c-227c8bf57c3b\")\n",
        "        if ($myPB.hasClass('ui-progressbar')) {\n",
        "            $myPB.progressbar('value', 1827);\n",
        "        } else {\n",
        "            $myPB.progressbar({value: 0, max: 2029});\n",
        "        }\n",
        "        "
       ],
       "metadata": {},
       "output_type": "display_data",
       "text": [
        "<IPython.core.display.Javascript at 0x208d0780>"
       ]
      },
      {
       "javascript": [
        "$('div#9d7f465c-4c57-4eb7-9f4f-4f010f68fefe').text('ETA:  0:00:00');"
       ],
       "metadata": {},
       "output_type": "display_data",
       "text": [
        "<IPython.core.display.Javascript at 0x1af2e0f0>"
       ]
      },
      {
       "javascript": [
        "$('div#ecc6f276-6e08-4755-a53b-0bbb76fd658f').text('1848 of 2029');"
       ],
       "metadata": {},
       "output_type": "display_data",
       "text": [
        "<IPython.core.display.Javascript at 0x208d0a58>"
       ]
      },
      {
       "javascript": [
        "$('div#16d659e2-9d2b-4dd0-a8ff-eb1943b0aa1f').text(' 91%');"
       ],
       "metadata": {},
       "output_type": "display_data",
       "text": [
        "<IPython.core.display.Javascript at 0x208d0780>"
       ]
      },
      {
       "javascript": [
        "\n",
        "        var $myPB = $(\"div#216260dd-78b5-4879-b42c-227c8bf57c3b\")\n",
        "        if ($myPB.hasClass('ui-progressbar')) {\n",
        "            $myPB.progressbar('value', 1848);\n",
        "        } else {\n",
        "            $myPB.progressbar({value: 0, max: 2029});\n",
        "        }\n",
        "        "
       ],
       "metadata": {},
       "output_type": "display_data",
       "text": [
        "<IPython.core.display.Javascript at 0x1af2ea58>"
       ]
      },
      {
       "javascript": [
        "$('div#9d7f465c-4c57-4eb7-9f4f-4f010f68fefe').text('ETA:  0:00:00');"
       ],
       "metadata": {},
       "output_type": "display_data",
       "text": [
        "<IPython.core.display.Javascript at 0x1af2e080>"
       ]
      },
      {
       "javascript": [
        "$('div#ecc6f276-6e08-4755-a53b-0bbb76fd658f').text('1869 of 2029');"
       ],
       "metadata": {},
       "output_type": "display_data",
       "text": [
        "<IPython.core.display.Javascript at 0x208d0780>"
       ]
      },
      {
       "javascript": [
        "$('div#16d659e2-9d2b-4dd0-a8ff-eb1943b0aa1f').text(' 92%');"
       ],
       "metadata": {},
       "output_type": "display_data",
       "text": [
        "<IPython.core.display.Javascript at 0x208d0a58>"
       ]
      },
      {
       "javascript": [
        "\n",
        "        var $myPB = $(\"div#216260dd-78b5-4879-b42c-227c8bf57c3b\")\n",
        "        if ($myPB.hasClass('ui-progressbar')) {\n",
        "            $myPB.progressbar('value', 1869);\n",
        "        } else {\n",
        "            $myPB.progressbar({value: 0, max: 2029});\n",
        "        }\n",
        "        "
       ],
       "metadata": {},
       "output_type": "display_data",
       "text": [
        "<IPython.core.display.Javascript at 0x1af2e128>"
       ]
      },
      {
       "javascript": [
        "$('div#9d7f465c-4c57-4eb7-9f4f-4f010f68fefe').text('ETA:  0:00:00');"
       ],
       "metadata": {},
       "output_type": "display_data",
       "text": [
        "<IPython.core.display.Javascript at 0x1af2e080>"
       ]
      },
      {
       "javascript": [
        "$('div#ecc6f276-6e08-4755-a53b-0bbb76fd658f').text('1890 of 2029');"
       ],
       "metadata": {},
       "output_type": "display_data",
       "text": [
        "<IPython.core.display.Javascript at 0x208d0780>"
       ]
      },
      {
       "javascript": [
        "$('div#16d659e2-9d2b-4dd0-a8ff-eb1943b0aa1f').text(' 93%');"
       ],
       "metadata": {},
       "output_type": "display_data",
       "text": [
        "<IPython.core.display.Javascript at 0x208d0a58>"
       ]
      },
      {
       "javascript": [
        "\n",
        "        var $myPB = $(\"div#216260dd-78b5-4879-b42c-227c8bf57c3b\")\n",
        "        if ($myPB.hasClass('ui-progressbar')) {\n",
        "            $myPB.progressbar('value', 1890);\n",
        "        } else {\n",
        "            $myPB.progressbar({value: 0, max: 2029});\n",
        "        }\n",
        "        "
       ],
       "metadata": {},
       "output_type": "display_data",
       "text": [
        "<IPython.core.display.Javascript at 0x1af2ea58>"
       ]
      },
      {
       "javascript": [
        "$('div#9d7f465c-4c57-4eb7-9f4f-4f010f68fefe').text('ETA:  0:00:00');"
       ],
       "metadata": {},
       "output_type": "display_data",
       "text": [
        "<IPython.core.display.Javascript at 0x208d0a58>"
       ]
      },
      {
       "javascript": [
        "$('div#ecc6f276-6e08-4755-a53b-0bbb76fd658f').text('1911 of 2029');"
       ],
       "metadata": {},
       "output_type": "display_data",
       "text": [
        "<IPython.core.display.Javascript at 0x208d0780>"
       ]
      },
      {
       "javascript": [
        "$('div#16d659e2-9d2b-4dd0-a8ff-eb1943b0aa1f').text(' 94%');"
       ],
       "metadata": {},
       "output_type": "display_data",
       "text": [
        "<IPython.core.display.Javascript at 0x1af2e080>"
       ]
      },
      {
       "javascript": [
        "\n",
        "        var $myPB = $(\"div#216260dd-78b5-4879-b42c-227c8bf57c3b\")\n",
        "        if ($myPB.hasClass('ui-progressbar')) {\n",
        "            $myPB.progressbar('value', 1911);\n",
        "        } else {\n",
        "            $myPB.progressbar({value: 0, max: 2029});\n",
        "        }\n",
        "        "
       ],
       "metadata": {},
       "output_type": "display_data",
       "text": [
        "<IPython.core.display.Javascript at 0x1af2ea58>"
       ]
      },
      {
       "javascript": [
        "$('div#9d7f465c-4c57-4eb7-9f4f-4f010f68fefe').text('ETA:  0:00:00');"
       ],
       "metadata": {},
       "output_type": "display_data",
       "text": [
        "<IPython.core.display.Javascript at 0x208d0a58>"
       ]
      },
      {
       "javascript": [
        "$('div#ecc6f276-6e08-4755-a53b-0bbb76fd658f').text('1932 of 2029');"
       ],
       "metadata": {},
       "output_type": "display_data",
       "text": [
        "<IPython.core.display.Javascript at 0x208d0780>"
       ]
      },
      {
       "javascript": [
        "$('div#16d659e2-9d2b-4dd0-a8ff-eb1943b0aa1f').text(' 95%');"
       ],
       "metadata": {},
       "output_type": "display_data",
       "text": [
        "<IPython.core.display.Javascript at 0x1af2e0f0>"
       ]
      },
      {
       "javascript": [
        "\n",
        "        var $myPB = $(\"div#216260dd-78b5-4879-b42c-227c8bf57c3b\")\n",
        "        if ($myPB.hasClass('ui-progressbar')) {\n",
        "            $myPB.progressbar('value', 1932);\n",
        "        } else {\n",
        "            $myPB.progressbar({value: 0, max: 2029});\n",
        "        }\n",
        "        "
       ],
       "metadata": {},
       "output_type": "display_data",
       "text": [
        "<IPython.core.display.Javascript at 0x208d0780>"
       ]
      },
      {
       "javascript": [
        "$('div#9d7f465c-4c57-4eb7-9f4f-4f010f68fefe').text('ETA:  0:00:00');"
       ],
       "metadata": {},
       "output_type": "display_data",
       "text": [
        "<IPython.core.display.Javascript at 0x208d0a58>"
       ]
      },
      {
       "javascript": [
        "$('div#ecc6f276-6e08-4755-a53b-0bbb76fd658f').text('1953 of 2029');"
       ],
       "metadata": {},
       "output_type": "display_data",
       "text": [
        "<IPython.core.display.Javascript at 0x1af2e080>"
       ]
      },
      {
       "javascript": [
        "$('div#16d659e2-9d2b-4dd0-a8ff-eb1943b0aa1f').text(' 96%');"
       ],
       "metadata": {},
       "output_type": "display_data",
       "text": [
        "<IPython.core.display.Javascript at 0x1af2e0f0>"
       ]
      },
      {
       "javascript": [
        "\n",
        "        var $myPB = $(\"div#216260dd-78b5-4879-b42c-227c8bf57c3b\")\n",
        "        if ($myPB.hasClass('ui-progressbar')) {\n",
        "            $myPB.progressbar('value', 1953);\n",
        "        } else {\n",
        "            $myPB.progressbar({value: 0, max: 2029});\n",
        "        }\n",
        "        "
       ],
       "metadata": {},
       "output_type": "display_data",
       "text": [
        "<IPython.core.display.Javascript at 0x208d0780>"
       ]
      },
      {
       "javascript": [
        "$('div#9d7f465c-4c57-4eb7-9f4f-4f010f68fefe').text('ETA:  0:00:00');"
       ],
       "metadata": {},
       "output_type": "display_data",
       "text": [
        "<IPython.core.display.Javascript at 0x208d0a58>"
       ]
      },
      {
       "javascript": [
        "$('div#ecc6f276-6e08-4755-a53b-0bbb76fd658f').text('1974 of 2029');"
       ],
       "metadata": {},
       "output_type": "display_data",
       "text": [
        "<IPython.core.display.Javascript at 0x1af2e128>"
       ]
      },
      {
       "javascript": [
        "$('div#16d659e2-9d2b-4dd0-a8ff-eb1943b0aa1f').text(' 97%');"
       ],
       "metadata": {},
       "output_type": "display_data",
       "text": [
        "<IPython.core.display.Javascript at 0x208d0780>"
       ]
      },
      {
       "javascript": [
        "\n",
        "        var $myPB = $(\"div#216260dd-78b5-4879-b42c-227c8bf57c3b\")\n",
        "        if ($myPB.hasClass('ui-progressbar')) {\n",
        "            $myPB.progressbar('value', 1974);\n",
        "        } else {\n",
        "            $myPB.progressbar({value: 0, max: 2029});\n",
        "        }\n",
        "        "
       ],
       "metadata": {},
       "output_type": "display_data",
       "text": [
        "<IPython.core.display.Javascript at 0x208d0a58>"
       ]
      },
      {
       "javascript": [
        "$('div#9d7f465c-4c57-4eb7-9f4f-4f010f68fefe').text('ETA:  0:00:00');"
       ],
       "metadata": {},
       "output_type": "display_data",
       "text": [
        "<IPython.core.display.Javascript at 0x1af2e0f0>"
       ]
      },
      {
       "javascript": [
        "$('div#ecc6f276-6e08-4755-a53b-0bbb76fd658f').text('1995 of 2029');"
       ],
       "metadata": {},
       "output_type": "display_data",
       "text": [
        "<IPython.core.display.Javascript at 0x208d0a58>"
       ]
      },
      {
       "javascript": [
        "$('div#16d659e2-9d2b-4dd0-a8ff-eb1943b0aa1f').text(' 98%');"
       ],
       "metadata": {},
       "output_type": "display_data",
       "text": [
        "<IPython.core.display.Javascript at 0x208d0780>"
       ]
      },
      {
       "javascript": [
        "\n",
        "        var $myPB = $(\"div#216260dd-78b5-4879-b42c-227c8bf57c3b\")\n",
        "        if ($myPB.hasClass('ui-progressbar')) {\n",
        "            $myPB.progressbar('value', 1995);\n",
        "        } else {\n",
        "            $myPB.progressbar({value: 0, max: 2029});\n",
        "        }\n",
        "        "
       ],
       "metadata": {},
       "output_type": "display_data",
       "text": [
        "<IPython.core.display.Javascript at 0x1af2e128>"
       ]
      },
      {
       "javascript": [
        "$('div#9d7f465c-4c57-4eb7-9f4f-4f010f68fefe').text('ETA:  0:00:00');"
       ],
       "metadata": {},
       "output_type": "display_data",
       "text": [
        "<IPython.core.display.Javascript at 0x1af2e080>"
       ]
      },
      {
       "javascript": [
        "$('div#ecc6f276-6e08-4755-a53b-0bbb76fd658f').text('2016 of 2029');"
       ],
       "metadata": {},
       "output_type": "display_data",
       "text": [
        "<IPython.core.display.Javascript at 0x208d0780>"
       ]
      },
      {
       "javascript": [
        "$('div#16d659e2-9d2b-4dd0-a8ff-eb1943b0aa1f').text(' 99%');"
       ],
       "metadata": {},
       "output_type": "display_data",
       "text": [
        "<IPython.core.display.Javascript at 0x208d0a58>"
       ]
      },
      {
       "javascript": [
        "\n",
        "        var $myPB = $(\"div#216260dd-78b5-4879-b42c-227c8bf57c3b\")\n",
        "        if ($myPB.hasClass('ui-progressbar')) {\n",
        "            $myPB.progressbar('value', 2016);\n",
        "        } else {\n",
        "            $myPB.progressbar({value: 0, max: 2029});\n",
        "        }\n",
        "        "
       ],
       "metadata": {},
       "output_type": "display_data",
       "text": [
        "<IPython.core.display.Javascript at 0x1af2e128>"
       ]
      },
      {
       "javascript": [
        "$('div#9d7f465c-4c57-4eb7-9f4f-4f010f68fefe').text('ETA:  0:00:00');"
       ],
       "metadata": {},
       "output_type": "display_data",
       "text": [
        "<IPython.core.display.Javascript at 0x1af2ea58>"
       ]
      },
      {
       "javascript": [
        "$('div#ecc6f276-6e08-4755-a53b-0bbb76fd658f').text('2029 of 2029');"
       ],
       "metadata": {},
       "output_type": "display_data",
       "text": [
        "<IPython.core.display.Javascript at 0x208d0a58>"
       ]
      },
      {
       "javascript": [
        "$('div#16d659e2-9d2b-4dd0-a8ff-eb1943b0aa1f').text('100%');"
       ],
       "metadata": {},
       "output_type": "display_data",
       "text": [
        "<IPython.core.display.Javascript at 0x208d0780>"
       ]
      },
      {
       "javascript": [
        "\n",
        "        var $myPB = $(\"div#216260dd-78b5-4879-b42c-227c8bf57c3b\")\n",
        "        if ($myPB.hasClass('ui-progressbar')) {\n",
        "            $myPB.progressbar('value', 2029);\n",
        "        } else {\n",
        "            $myPB.progressbar({value: 0, max: 2029});\n",
        "        }\n",
        "        "
       ],
       "metadata": {},
       "output_type": "display_data",
       "text": [
        "<IPython.core.display.Javascript at 0x1af2e3c8>"
       ]
      },
      {
       "javascript": [
        "$('div#9d7f465c-4c57-4eb7-9f4f-4f010f68fefe').text('Time: 0:00:00');"
       ],
       "metadata": {},
       "output_type": "display_data",
       "text": [
        "<IPython.core.display.Javascript at 0x208d0780>"
       ]
      },
      {
       "javascript": [
        "var element = document.getElementById('3434c5df-ed01-4e11-a0fc-ad78666b9935');\n",
        "                    var parent = element.parentNode\n",
        "                    parent.removeChild(element);\n",
        "                    parent.parentElement.remove();"
       ],
       "metadata": {},
       "output_type": "display_data",
       "text": [
        "<IPython.core.display.Javascript at 0x150fcb38>"
       ]
      },
      {
       "javascript": [
        "this.cleanProgressBar(['3434c5df-ed01-4e11-a0fc-ad78666b9935', 'ecc6f276-6e08-4755-a53b-0bbb76fd658f', '16d659e2-9d2b-4dd0-a8ff-eb1943b0aa1f', '216260dd-78b5-4879-b42c-227c8bf57c3b', '9d7f465c-4c57-4eb7-9f4f-4f010f68fefe'])"
       ],
       "metadata": {},
       "output_type": "display_data",
       "text": [
        "<IPython.core.display.Javascript at 0x208d0a58>"
       ]
      },
      {
       "html": [
        "<div style=\"max-height:1000px;max-width:1500px;overflow:auto;\">\n",
        "<table border=\"1\" class=\"dataframe\">\n",
        "  <thead>\n",
        "    <tr style=\"text-align: right;\">\n",
        "      <th></th>\n",
        "      <th>Noun Chunks phrase</th>\n",
        "      <th>Noun Chunks frequency</th>\n",
        "      <th>Noun Verb Chunks phrase</th>\n",
        "      <th>Noun Verb Chunks frequency</th>\n",
        "    </tr>\n",
        "  </thead>\n",
        "  <tbody>\n",
        "    <tr>\n",
        "      <th>1 </th>\n",
        "      <td> Democratic People's Republic of Korea</td>\n",
        "      <td> 15</td>\n",
        "      <td>                                     Working Group</td>\n",
        "      <td> 562</td>\n",
        "    </tr>\n",
        "    <tr>\n",
        "      <th>2 </th>\n",
        "      <td>                                 Congo</td>\n",
        "      <td> 14</td>\n",
        "      <td>                     basis of information provided</td>\n",
        "      <td>  93</td>\n",
        "    </tr>\n",
        "    <tr>\n",
        "      <th>3 </th>\n",
        "      <td>              Islamic Republic of Iran</td>\n",
        "      <td> 12</td>\n",
        "      <td> Total cases transmitted clarified and outstanding</td>\n",
        "      <td>  81</td>\n",
        "    </tr>\n",
        "    <tr>\n",
        "      <th>4 </th>\n",
        "      <td>                           Syrian Arab</td>\n",
        "      <td>  9</td>\n",
        "      <td>                              Information received</td>\n",
        "      <td>  79</td>\n",
        "    </tr>\n",
        "    <tr>\n",
        "      <th>5 </th>\n",
        "      <td>                   Government of India</td>\n",
        "      <td>  8</td>\n",
        "      <td>                               disappeared persons</td>\n",
        "      <td>  40</td>\n",
        "    </tr>\n",
        "    <tr>\n",
        "      <th>6 </th>\n",
        "      <td>                           Philippines</td>\n",
        "      <td>  8</td>\n",
        "      <td>                             received from sources</td>\n",
        "      <td>  40</td>\n",
        "    </tr>\n",
        "    <tr>\n",
        "      <th>7 </th>\n",
        "      <td>               Government of Indonesia</td>\n",
        "      <td>  7</td>\n",
        "      <td>                          cases remain outstanding</td>\n",
        "      <td>  38</td>\n",
        "    </tr>\n",
        "    <tr>\n",
        "      <th>8 </th>\n",
        "      <td>                               Algeria</td>\n",
        "      <td>  6</td>\n",
        "      <td>                                    reported cases</td>\n",
        "      <td>  38</td>\n",
        "    </tr>\n",
        "    <tr>\n",
        "      <th>9 </th>\n",
        "      <td>                 Government of Algeria</td>\n",
        "      <td>  6</td>\n",
        "      <td>                            enforced disappearance</td>\n",
        "      <td>  26</td>\n",
        "    </tr>\n",
        "    <tr>\n",
        "      <th>10</th>\n",
        "      <td>                                Geneva</td>\n",
        "      <td>  5</td>\n",
        "      <td>                 Information received from sources</td>\n",
        "      <td>  23</td>\n",
        "    </tr>\n",
        "  </tbody>\n",
        "</table>\n",
        "</div>"
       ],
       "metadata": {},
       "output_type": "pyout",
       "prompt_number": 6,
       "text": [
        "                       Noun Chunks phrase  Noun Chunks frequency  \\\n",
        "1   Democratic People's Republic of Korea                     15   \n",
        "2                                   Congo                     14   \n",
        "3                Islamic Republic of Iran                     12   \n",
        "4                             Syrian Arab                      9   \n",
        "5                     Government of India                      8   \n",
        "6                             Philippines                      8   \n",
        "7                 Government of Indonesia                      7   \n",
        "8                                 Algeria                      6   \n",
        "9                   Government of Algeria                      6   \n",
        "10                                 Geneva                      5   \n",
        "\n",
        "                              Noun Verb Chunks phrase  \\\n",
        "1                                       Working Group   \n",
        "2                       basis of information provided   \n",
        "3   Total cases transmitted clarified and outstanding   \n",
        "4                                Information received   \n",
        "5                                 disappeared persons   \n",
        "6                               received from sources   \n",
        "7                            cases remain outstanding   \n",
        "8                                      reported cases   \n",
        "9                              enforced disappearance   \n",
        "10                  Information received from sources   \n",
        "\n",
        "    Noun Verb Chunks frequency  \n",
        "1                          562  \n",
        "2                           93  \n",
        "3                           81  \n",
        "4                           79  \n",
        "5                           40  \n",
        "6                           40  \n",
        "7                           38  \n",
        "8                           38  \n",
        "9                           26  \n",
        "10                          23  "
       ]
      }
     ],
     "prompt_number": 6
    },
    {
     "cell_type": "code",
     "collapsed": false,
     "input": [],
     "language": "python",
     "metadata": {},
     "outputs": [],
     "prompt_number": 6
    },
    {
     "cell_type": "code",
     "collapsed": false,
     "input": [
      "orgs, countries, nchunks= mun.ner_document_analysis(sentences, tagged_sentences, nchunks)\n",
      "mun.print_FreqDists([nchunks, orgs,countries],titles=['NChunks (Filtered)', 'Organizations', 'Countries'], limit = 10)"
     ],
     "language": "python",
     "metadata": {},
     "outputs": [
      {
       "javascript": [
        "//975d17cc-b5b9-4385-b94a-cf5d8d5ca701\n",
        "$(\"head\").append(\"<style> td.pb_widget {     width: auto; } td.pb_widget_fill {     width: 100%; } table.pb {     font-family: monospace;     border: 0;     margin: 0; } table.pb tr { border: 0; } table.pb td {     white-space: nowrap;     border: 0; } div.pb {     border: 1px solid #ddd;     border-radius: 3px; } div.pb_bar {     height: 1.5em; } </style>\")"
       ],
       "metadata": {},
       "output_type": "display_data",
       "text": [
        "<IPython.core.display.Javascript at 0x1457bf98>"
       ]
      },
      {
       "javascript": [
        "\n",
        "                  // 975d17cc-b5b9-4385-b94a-cf5d8d5ca701 -- used to remove this code blob in the end\n",
        "                  IPython.OutputArea.prototype.cleanProgressBar = function(uuids) {\n",
        "                      // filter by uuid-strings \n",
        "                      var myfilter = function(output) { \n",
        "                          var nuids = uuids.length;\n",
        "                          for (var i=0; i<nuids; i++) {\n",
        "                              if (output.hasOwnProperty('html')) {\n",
        "                                  if (output.html.indexOf(uuids[i]) != -1) {\n",
        "                                      return false;\n",
        "                                  }\n",
        "                              }\n",
        "                              if (output.hasOwnProperty('javascript')) {\n",
        "                                  if (output.javascript.indexOf(uuids[i]) != -1) {\n",
        "                                      return false;\n",
        "                                  }\n",
        "                              }\n",
        "                          }\n",
        "                          // keep all others\n",
        "                          return true;\n",
        "                      };\n",
        "\n",
        "                      // Filter the ouputs\n",
        "                      this.outputs = this.outputs.filter(myfilter);\n",
        "                };\n",
        "                "
       ],
       "metadata": {},
       "output_type": "display_data",
       "text": [
        "<IPython.core.display.Javascript at 0x208d0b70>"
       ]
      },
      {
       "html": [
        "<div class=\"pb\" id=\"975d17cc-b5b9-4385-b94a-cf5d8d5ca701\"><table class=\"pb ui-widget\"><tr>\n",
        "<td class=\"pb_widget\">Building Dictionary</td>\n",
        "<td class=\"pb_widget\"><div id=\"a2977324-bd64-4b9a-ba1e-59d856cca4a2\">0 of 2029</div></td>\n",
        "<td class=\"pb_widget\"><div id=\"ac9b3748-f2b8-4ad2-b9f5-7fcf268e2184\">  0%</div></td>\n",
        "<td class=\"pb_widget_fill\">\n",
        "        <div class=\"pb_bar\" id=\"6c5259f7-e1ed-4ba1-b229-0767f563f499\"></div>\n",
        "        <script type=\"text/javascript\">\n",
        "            $(\"div#6c5259f7-e1ed-4ba1-b229-0767f563f499\").progressbar({value: 0, max: 2029});\n",
        "        </script>\n",
        "        </td>\n",
        "<td class=\"pb_widget\"><div id=\"ce92b8bf-f5a8-4b61-bc65-1bd00a967c02\">ETA:  --:--:--</div></td>\n",
        "</tr></table><div>"
       ],
       "metadata": {},
       "output_type": "display_data",
       "text": [
        "<IPython.core.display.HTML at 0x208d09b0>"
       ]
      },
      {
       "output_type": "stream",
       "stream": "stdout",
       "text": [
        "get_ner_dictionary_for_analysis() Started...\n"
       ]
      },
      {
       "javascript": [
        "$('div#a2977324-bd64-4b9a-ba1e-59d856cca4a2').text('21 of 2029');"
       ],
       "metadata": {},
       "output_type": "display_data",
       "text": [
        "<IPython.core.display.Javascript at 0x1fef1630>"
       ]
      },
      {
       "javascript": [
        "$('div#ac9b3748-f2b8-4ad2-b9f5-7fcf268e2184').text('  1%');"
       ],
       "metadata": {},
       "output_type": "display_data",
       "text": [
        "<IPython.core.display.Javascript at 0x13cb6978>"
       ]
      },
      {
       "javascript": [
        "\n",
        "        var $myPB = $(\"div#6c5259f7-e1ed-4ba1-b229-0767f563f499\")\n",
        "        if ($myPB.hasClass('ui-progressbar')) {\n",
        "            $myPB.progressbar('value', 21);\n",
        "        } else {\n",
        "            $myPB.progressbar({value: 0, max: 2029});\n",
        "        }\n",
        "        "
       ],
       "metadata": {},
       "output_type": "display_data",
       "text": [
        "<IPython.core.display.Javascript at 0x13cb6978>"
       ]
      },
      {
       "javascript": [
        "$('div#ce92b8bf-f5a8-4b61-bc65-1bd00a967c02').text('ETA:  0:00:44');"
       ],
       "metadata": {},
       "output_type": "display_data",
       "text": [
        "<IPython.core.display.Javascript at 0x1fef1b70>"
       ]
      },
      {
       "javascript": [
        "$('div#a2977324-bd64-4b9a-ba1e-59d856cca4a2').text('42 of 2029');"
       ],
       "metadata": {},
       "output_type": "display_data",
       "text": [
        "<IPython.core.display.Javascript at 0x1fef1630>"
       ]
      },
      {
       "javascript": [
        "$('div#ac9b3748-f2b8-4ad2-b9f5-7fcf268e2184').text('  2%');"
       ],
       "metadata": {},
       "output_type": "display_data",
       "text": [
        "<IPython.core.display.Javascript at 0x1fef1160>"
       ]
      },
      {
       "javascript": [
        "\n",
        "        var $myPB = $(\"div#6c5259f7-e1ed-4ba1-b229-0767f563f499\")\n",
        "        if ($myPB.hasClass('ui-progressbar')) {\n",
        "            $myPB.progressbar('value', 42);\n",
        "        } else {\n",
        "            $myPB.progressbar({value: 0, max: 2029});\n",
        "        }\n",
        "        "
       ],
       "metadata": {},
       "output_type": "display_data",
       "text": [
        "<IPython.core.display.Javascript at 0x13cb6978>"
       ]
      },
      {
       "javascript": [
        "$('div#ce92b8bf-f5a8-4b61-bc65-1bd00a967c02').text('ETA:  0:00:27');"
       ],
       "metadata": {},
       "output_type": "display_data",
       "text": [
        "<IPython.core.display.Javascript at 0x1fef1160>"
       ]
      },
      {
       "javascript": [
        "$('div#a2977324-bd64-4b9a-ba1e-59d856cca4a2').text('63 of 2029');"
       ],
       "metadata": {},
       "output_type": "display_data",
       "text": [
        "<IPython.core.display.Javascript at 0x1fef1c88>"
       ]
      },
      {
       "javascript": [
        "$('div#ac9b3748-f2b8-4ad2-b9f5-7fcf268e2184').text('  3%');"
       ],
       "metadata": {},
       "output_type": "display_data",
       "text": [
        "<IPython.core.display.Javascript at 0x1fef13c8>"
       ]
      },
      {
       "javascript": [
        "\n",
        "        var $myPB = $(\"div#6c5259f7-e1ed-4ba1-b229-0767f563f499\")\n",
        "        if ($myPB.hasClass('ui-progressbar')) {\n",
        "            $myPB.progressbar('value', 63);\n",
        "        } else {\n",
        "            $myPB.progressbar({value: 0, max: 2029});\n",
        "        }\n",
        "        "
       ],
       "metadata": {},
       "output_type": "display_data",
       "text": [
        "<IPython.core.display.Javascript at 0x13cb6978>"
       ]
      },
      {
       "javascript": [
        "$('div#ce92b8bf-f5a8-4b61-bc65-1bd00a967c02').text('ETA:  0:00:18');"
       ],
       "metadata": {},
       "output_type": "display_data",
       "text": [
        "<IPython.core.display.Javascript at 0x1fef13c8>"
       ]
      },
      {
       "javascript": [
        "$('div#a2977324-bd64-4b9a-ba1e-59d856cca4a2').text('84 of 2029');"
       ],
       "metadata": {},
       "output_type": "display_data",
       "text": [
        "<IPython.core.display.Javascript at 0x1fef1c18>"
       ]
      },
      {
       "javascript": [
        "$('div#ac9b3748-f2b8-4ad2-b9f5-7fcf268e2184').text('  4%');"
       ],
       "metadata": {},
       "output_type": "display_data",
       "text": [
        "<IPython.core.display.Javascript at 0x1fef1b70>"
       ]
      },
      {
       "javascript": [
        "\n",
        "        var $myPB = $(\"div#6c5259f7-e1ed-4ba1-b229-0767f563f499\")\n",
        "        if ($myPB.hasClass('ui-progressbar')) {\n",
        "            $myPB.progressbar('value', 84);\n",
        "        } else {\n",
        "            $myPB.progressbar({value: 0, max: 2029});\n",
        "        }\n",
        "        "
       ],
       "metadata": {},
       "output_type": "display_data",
       "text": [
        "<IPython.core.display.Javascript at 0x13cb6978>"
       ]
      },
      {
       "javascript": [
        "$('div#ce92b8bf-f5a8-4b61-bc65-1bd00a967c02').text('ETA:  0:00:14');"
       ],
       "metadata": {},
       "output_type": "display_data",
       "text": [
        "<IPython.core.display.Javascript at 0x1fef1b70>"
       ]
      },
      {
       "javascript": [
        "$('div#a2977324-bd64-4b9a-ba1e-59d856cca4a2').text('105 of 2029');"
       ],
       "metadata": {},
       "output_type": "display_data",
       "text": [
        "<IPython.core.display.Javascript at 0x1fef1da0>"
       ]
      },
      {
       "javascript": [
        "$('div#ac9b3748-f2b8-4ad2-b9f5-7fcf268e2184').text('  5%');"
       ],
       "metadata": {},
       "output_type": "display_data",
       "text": [
        "<IPython.core.display.Javascript at 0x1fef18d0>"
       ]
      },
      {
       "javascript": [
        "\n",
        "        var $myPB = $(\"div#6c5259f7-e1ed-4ba1-b229-0767f563f499\")\n",
        "        if ($myPB.hasClass('ui-progressbar')) {\n",
        "            $myPB.progressbar('value', 105);\n",
        "        } else {\n",
        "            $myPB.progressbar({value: 0, max: 2029});\n",
        "        }\n",
        "        "
       ],
       "metadata": {},
       "output_type": "display_data",
       "text": [
        "<IPython.core.display.Javascript at 0x13cb6978>"
       ]
      },
      {
       "javascript": [
        "$('div#ce92b8bf-f5a8-4b61-bc65-1bd00a967c02').text('ETA:  0:00:11');"
       ],
       "metadata": {},
       "output_type": "display_data",
       "text": [
        "<IPython.core.display.Javascript at 0x1fef18d0>"
       ]
      },
      {
       "javascript": [
        "$('div#a2977324-bd64-4b9a-ba1e-59d856cca4a2').text('126 of 2029');"
       ],
       "metadata": {},
       "output_type": "display_data",
       "text": [
        "<IPython.core.display.Javascript at 0x1fef1160>"
       ]
      },
      {
       "javascript": [
        "$('div#ac9b3748-f2b8-4ad2-b9f5-7fcf268e2184').text('  6%');"
       ],
       "metadata": {},
       "output_type": "display_data",
       "text": [
        "<IPython.core.display.Javascript at 0x13cb6978>"
       ]
      },
      {
       "javascript": [
        "\n",
        "        var $myPB = $(\"div#6c5259f7-e1ed-4ba1-b229-0767f563f499\")\n",
        "        if ($myPB.hasClass('ui-progressbar')) {\n",
        "            $myPB.progressbar('value', 126);\n",
        "        } else {\n",
        "            $myPB.progressbar({value: 0, max: 2029});\n",
        "        }\n",
        "        "
       ],
       "metadata": {},
       "output_type": "display_data",
       "text": [
        "<IPython.core.display.Javascript at 0x1fef1160>"
       ]
      },
      {
       "javascript": [
        "$('div#ce92b8bf-f5a8-4b61-bc65-1bd00a967c02').text('ETA:  0:00:10');"
       ],
       "metadata": {},
       "output_type": "display_data",
       "text": [
        "<IPython.core.display.Javascript at 0x1fef1b70>"
       ]
      },
      {
       "javascript": [
        "$('div#a2977324-bd64-4b9a-ba1e-59d856cca4a2').text('147 of 2029');"
       ],
       "metadata": {},
       "output_type": "display_data",
       "text": [
        "<IPython.core.display.Javascript at 0x1fef13c8>"
       ]
      },
      {
       "javascript": [
        "$('div#ac9b3748-f2b8-4ad2-b9f5-7fcf268e2184').text('  7%');"
       ],
       "metadata": {},
       "output_type": "display_data",
       "text": [
        "<IPython.core.display.Javascript at 0x13cb6978>"
       ]
      },
      {
       "javascript": [
        "\n",
        "        var $myPB = $(\"div#6c5259f7-e1ed-4ba1-b229-0767f563f499\")\n",
        "        if ($myPB.hasClass('ui-progressbar')) {\n",
        "            $myPB.progressbar('value', 147);\n",
        "        } else {\n",
        "            $myPB.progressbar({value: 0, max: 2029});\n",
        "        }\n",
        "        "
       ],
       "metadata": {},
       "output_type": "display_data",
       "text": [
        "<IPython.core.display.Javascript at 0x1fef13c8>"
       ]
      },
      {
       "javascript": [
        "$('div#ce92b8bf-f5a8-4b61-bc65-1bd00a967c02').text('ETA:  0:00:10');"
       ],
       "metadata": {},
       "output_type": "display_data",
       "text": [
        "<IPython.core.display.Javascript at 0x1fef1630>"
       ]
      },
      {
       "javascript": [
        "$('div#a2977324-bd64-4b9a-ba1e-59d856cca4a2').text('168 of 2029');"
       ],
       "metadata": {},
       "output_type": "display_data",
       "text": [
        "<IPython.core.display.Javascript at 0x1fef1c88>"
       ]
      },
      {
       "javascript": [
        "$('div#ac9b3748-f2b8-4ad2-b9f5-7fcf268e2184').text('  8%');"
       ],
       "metadata": {},
       "output_type": "display_data",
       "text": [
        "<IPython.core.display.Javascript at 0x13cb6978>"
       ]
      },
      {
       "javascript": [
        "\n",
        "        var $myPB = $(\"div#6c5259f7-e1ed-4ba1-b229-0767f563f499\")\n",
        "        if ($myPB.hasClass('ui-progressbar')) {\n",
        "            $myPB.progressbar('value', 168);\n",
        "        } else {\n",
        "            $myPB.progressbar({value: 0, max: 2029});\n",
        "        }\n",
        "        "
       ],
       "metadata": {},
       "output_type": "display_data",
       "text": [
        "<IPython.core.display.Javascript at 0x1fef1c88>"
       ]
      },
      {
       "javascript": [
        "$('div#ce92b8bf-f5a8-4b61-bc65-1bd00a967c02').text('ETA:  0:00:10');"
       ],
       "metadata": {},
       "output_type": "display_data",
       "text": [
        "<IPython.core.display.Javascript at 0x1fef1c18>"
       ]
      },
      {
       "javascript": [
        "$('div#a2977324-bd64-4b9a-ba1e-59d856cca4a2').text('189 of 2029');"
       ],
       "metadata": {},
       "output_type": "display_data",
       "text": [
        "<IPython.core.display.Javascript at 0x1fef1da0>"
       ]
      },
      {
       "javascript": [
        "$('div#ac9b3748-f2b8-4ad2-b9f5-7fcf268e2184').text('  9%');"
       ],
       "metadata": {},
       "output_type": "display_data",
       "text": [
        "<IPython.core.display.Javascript at 0x13cb6978>"
       ]
      },
      {
       "javascript": [
        "\n",
        "        var $myPB = $(\"div#6c5259f7-e1ed-4ba1-b229-0767f563f499\")\n",
        "        if ($myPB.hasClass('ui-progressbar')) {\n",
        "            $myPB.progressbar('value', 189);\n",
        "        } else {\n",
        "            $myPB.progressbar({value: 0, max: 2029});\n",
        "        }\n",
        "        "
       ],
       "metadata": {},
       "output_type": "display_data",
       "text": [
        "<IPython.core.display.Javascript at 0x1fef1da0>"
       ]
      },
      {
       "javascript": [
        "$('div#ce92b8bf-f5a8-4b61-bc65-1bd00a967c02').text('ETA:  0:00:11');"
       ],
       "metadata": {},
       "output_type": "display_data",
       "text": [
        "<IPython.core.display.Javascript at 0x1fef18d0>"
       ]
      },
      {
       "javascript": [
        "$('div#a2977324-bd64-4b9a-ba1e-59d856cca4a2').text('210 of 2029');"
       ],
       "metadata": {},
       "output_type": "display_data",
       "text": [
        "<IPython.core.display.Javascript at 0x1fef13c8>"
       ]
      },
      {
       "javascript": [
        "$('div#ac9b3748-f2b8-4ad2-b9f5-7fcf268e2184').text(' 10%');"
       ],
       "metadata": {},
       "output_type": "display_data",
       "text": [
        "<IPython.core.display.Javascript at 0x13cb6978>"
       ]
      },
      {
       "javascript": [
        "\n",
        "        var $myPB = $(\"div#6c5259f7-e1ed-4ba1-b229-0767f563f499\")\n",
        "        if ($myPB.hasClass('ui-progressbar')) {\n",
        "            $myPB.progressbar('value', 210);\n",
        "        } else {\n",
        "            $myPB.progressbar({value: 0, max: 2029});\n",
        "        }\n",
        "        "
       ],
       "metadata": {},
       "output_type": "display_data",
       "text": [
        "<IPython.core.display.Javascript at 0x1fef13c8>"
       ]
      },
      {
       "javascript": [
        "$('div#ce92b8bf-f5a8-4b61-bc65-1bd00a967c02').text('ETA:  0:00:11');"
       ],
       "metadata": {},
       "output_type": "display_data",
       "text": [
        "<IPython.core.display.Javascript at 0x1fef1b70>"
       ]
      },
      {
       "javascript": [
        "$('div#a2977324-bd64-4b9a-ba1e-59d856cca4a2').text('231 of 2029');"
       ],
       "metadata": {},
       "output_type": "display_data",
       "text": [
        "<IPython.core.display.Javascript at 0x1fef1c88>"
       ]
      },
      {
       "javascript": [
        "$('div#ac9b3748-f2b8-4ad2-b9f5-7fcf268e2184').text(' 11%');"
       ],
       "metadata": {},
       "output_type": "display_data",
       "text": [
        "<IPython.core.display.Javascript at 0x13cb6978>"
       ]
      },
      {
       "javascript": [
        "\n",
        "        var $myPB = $(\"div#6c5259f7-e1ed-4ba1-b229-0767f563f499\")\n",
        "        if ($myPB.hasClass('ui-progressbar')) {\n",
        "            $myPB.progressbar('value', 231);\n",
        "        } else {\n",
        "            $myPB.progressbar({value: 0, max: 2029});\n",
        "        }\n",
        "        "
       ],
       "metadata": {},
       "output_type": "display_data",
       "text": [
        "<IPython.core.display.Javascript at 0x1fef1c88>"
       ]
      },
      {
       "javascript": [
        "$('div#ce92b8bf-f5a8-4b61-bc65-1bd00a967c02').text('ETA:  0:00:11');"
       ],
       "metadata": {},
       "output_type": "display_data",
       "text": [
        "<IPython.core.display.Javascript at 0x1fef1da0>"
       ]
      },
      {
       "javascript": [
        "$('div#a2977324-bd64-4b9a-ba1e-59d856cca4a2').text('252 of 2029');"
       ],
       "metadata": {},
       "output_type": "display_data",
       "text": [
        "<IPython.core.display.Javascript at 0x13cb6978>"
       ]
      },
      {
       "javascript": [
        "$('div#ac9b3748-f2b8-4ad2-b9f5-7fcf268e2184').text(' 12%');"
       ],
       "metadata": {},
       "output_type": "display_data",
       "text": [
        "<IPython.core.display.Javascript at 0x1fef1630>"
       ]
      },
      {
       "javascript": [
        "\n",
        "        var $myPB = $(\"div#6c5259f7-e1ed-4ba1-b229-0767f563f499\")\n",
        "        if ($myPB.hasClass('ui-progressbar')) {\n",
        "            $myPB.progressbar('value', 252);\n",
        "        } else {\n",
        "            $myPB.progressbar({value: 0, max: 2029});\n",
        "        }\n",
        "        "
       ],
       "metadata": {},
       "output_type": "display_data",
       "text": [
        "<IPython.core.display.Javascript at 0x1fef1da0>"
       ]
      },
      {
       "javascript": [
        "$('div#ce92b8bf-f5a8-4b61-bc65-1bd00a967c02').text('ETA:  0:00:11');"
       ],
       "metadata": {},
       "output_type": "display_data",
       "text": [
        "<IPython.core.display.Javascript at 0x1fef1c18>"
       ]
      },
      {
       "javascript": [
        "$('div#a2977324-bd64-4b9a-ba1e-59d856cca4a2').text('273 of 2029');"
       ],
       "metadata": {},
       "output_type": "display_data",
       "text": [
        "<IPython.core.display.Javascript at 0x13cb6978>"
       ]
      },
      {
       "javascript": [
        "$('div#ac9b3748-f2b8-4ad2-b9f5-7fcf268e2184').text(' 13%');"
       ],
       "metadata": {},
       "output_type": "display_data",
       "text": [
        "<IPython.core.display.Javascript at 0x1fef13c8>"
       ]
      },
      {
       "javascript": [
        "\n",
        "        var $myPB = $(\"div#6c5259f7-e1ed-4ba1-b229-0767f563f499\")\n",
        "        if ($myPB.hasClass('ui-progressbar')) {\n",
        "            $myPB.progressbar('value', 273);\n",
        "        } else {\n",
        "            $myPB.progressbar({value: 0, max: 2029});\n",
        "        }\n",
        "        "
       ],
       "metadata": {},
       "output_type": "display_data",
       "text": [
        "<IPython.core.display.Javascript at 0x1fef1160>"
       ]
      },
      {
       "javascript": [
        "$('div#ce92b8bf-f5a8-4b61-bc65-1bd00a967c02').text('ETA:  0:00:11');"
       ],
       "metadata": {},
       "output_type": "display_data",
       "text": [
        "<IPython.core.display.Javascript at 0x1fef1c18>"
       ]
      },
      {
       "javascript": [
        "$('div#a2977324-bd64-4b9a-ba1e-59d856cca4a2').text('294 of 2029');"
       ],
       "metadata": {},
       "output_type": "display_data",
       "text": [
        "<IPython.core.display.Javascript at 0x13cb6978>"
       ]
      },
      {
       "javascript": [
        "$('div#ac9b3748-f2b8-4ad2-b9f5-7fcf268e2184').text(' 14%');"
       ],
       "metadata": {},
       "output_type": "display_data",
       "text": [
        "<IPython.core.display.Javascript at 0x1fef1c18>"
       ]
      },
      {
       "javascript": [
        "\n",
        "        var $myPB = $(\"div#6c5259f7-e1ed-4ba1-b229-0767f563f499\")\n",
        "        if ($myPB.hasClass('ui-progressbar')) {\n",
        "            $myPB.progressbar('value', 294);\n",
        "        } else {\n",
        "            $myPB.progressbar({value: 0, max: 2029});\n",
        "        }\n",
        "        "
       ],
       "metadata": {},
       "output_type": "display_data",
       "text": [
        "<IPython.core.display.Javascript at 0x1fef1630>"
       ]
      },
      {
       "javascript": [
        "$('div#ce92b8bf-f5a8-4b61-bc65-1bd00a967c02').text('ETA:  0:00:11');"
       ],
       "metadata": {},
       "output_type": "display_data",
       "text": [
        "<IPython.core.display.Javascript at 0x13cb6978>"
       ]
      },
      {
       "javascript": [
        "$('div#a2977324-bd64-4b9a-ba1e-59d856cca4a2').text('315 of 2029');"
       ],
       "metadata": {},
       "output_type": "display_data",
       "text": [
        "<IPython.core.display.Javascript at 0x1fef1630>"
       ]
      },
      {
       "javascript": [
        "$('div#ac9b3748-f2b8-4ad2-b9f5-7fcf268e2184').text(' 15%');"
       ],
       "metadata": {},
       "output_type": "display_data",
       "text": [
        "<IPython.core.display.Javascript at 0x1fef18d0>"
       ]
      },
      {
       "javascript": [
        "\n",
        "        var $myPB = $(\"div#6c5259f7-e1ed-4ba1-b229-0767f563f499\")\n",
        "        if ($myPB.hasClass('ui-progressbar')) {\n",
        "            $myPB.progressbar('value', 315);\n",
        "        } else {\n",
        "            $myPB.progressbar({value: 0, max: 2029});\n",
        "        }\n",
        "        "
       ],
       "metadata": {},
       "output_type": "display_data",
       "text": [
        "<IPython.core.display.Javascript at 0x1fef13c8>"
       ]
      },
      {
       "javascript": [
        "$('div#ce92b8bf-f5a8-4b61-bc65-1bd00a967c02').text('ETA:  0:00:11');"
       ],
       "metadata": {},
       "output_type": "display_data",
       "text": [
        "<IPython.core.display.Javascript at 0x13cb6978>"
       ]
      },
      {
       "javascript": [
        "$('div#a2977324-bd64-4b9a-ba1e-59d856cca4a2').text('336 of 2029');"
       ],
       "metadata": {},
       "output_type": "display_data",
       "text": [
        "<IPython.core.display.Javascript at 0x1fef13c8>"
       ]
      },
      {
       "javascript": [
        "$('div#ac9b3748-f2b8-4ad2-b9f5-7fcf268e2184').text(' 16%');"
       ],
       "metadata": {},
       "output_type": "display_data",
       "text": [
        "<IPython.core.display.Javascript at 0x1fef1630>"
       ]
      },
      {
       "javascript": [
        "\n",
        "        var $myPB = $(\"div#6c5259f7-e1ed-4ba1-b229-0767f563f499\")\n",
        "        if ($myPB.hasClass('ui-progressbar')) {\n",
        "            $myPB.progressbar('value', 336);\n",
        "        } else {\n",
        "            $myPB.progressbar({value: 0, max: 2029});\n",
        "        }\n",
        "        "
       ],
       "metadata": {},
       "output_type": "display_data",
       "text": [
        "<IPython.core.display.Javascript at 0x1fef1c88>"
       ]
      },
      {
       "javascript": [
        "$('div#ce92b8bf-f5a8-4b61-bc65-1bd00a967c02').text('ETA:  0:00:11');"
       ],
       "metadata": {},
       "output_type": "display_data",
       "text": [
        "<IPython.core.display.Javascript at 0x13cb6978>"
       ]
      },
      {
       "javascript": [
        "$('div#a2977324-bd64-4b9a-ba1e-59d856cca4a2').text('357 of 2029');"
       ],
       "metadata": {},
       "output_type": "display_data",
       "text": [
        "<IPython.core.display.Javascript at 0x1fef1c88>"
       ]
      },
      {
       "javascript": [
        "$('div#ac9b3748-f2b8-4ad2-b9f5-7fcf268e2184').text(' 17%');"
       ],
       "metadata": {},
       "output_type": "display_data",
       "text": [
        "<IPython.core.display.Javascript at 0x1fef13c8>"
       ]
      },
      {
       "javascript": [
        "\n",
        "        var $myPB = $(\"div#6c5259f7-e1ed-4ba1-b229-0767f563f499\")\n",
        "        if ($myPB.hasClass('ui-progressbar')) {\n",
        "            $myPB.progressbar('value', 357);\n",
        "        } else {\n",
        "            $myPB.progressbar({value: 0, max: 2029});\n",
        "        }\n",
        "        "
       ],
       "metadata": {},
       "output_type": "display_data",
       "text": [
        "<IPython.core.display.Javascript at 0x1fef1b70>"
       ]
      },
      {
       "javascript": [
        "$('div#ce92b8bf-f5a8-4b61-bc65-1bd00a967c02').text('ETA:  0:00:11');"
       ],
       "metadata": {},
       "output_type": "display_data",
       "text": [
        "<IPython.core.display.Javascript at 0x13cb6978>"
       ]
      },
      {
       "javascript": [
        "$('div#a2977324-bd64-4b9a-ba1e-59d856cca4a2').text('378 of 2029');"
       ],
       "metadata": {},
       "output_type": "display_data",
       "text": [
        "<IPython.core.display.Javascript at 0x1fef1b70>"
       ]
      },
      {
       "javascript": [
        "$('div#ac9b3748-f2b8-4ad2-b9f5-7fcf268e2184').text(' 18%');"
       ],
       "metadata": {},
       "output_type": "display_data",
       "text": [
        "<IPython.core.display.Javascript at 0x1fef1da0>"
       ]
      },
      {
       "javascript": [
        "\n",
        "        var $myPB = $(\"div#6c5259f7-e1ed-4ba1-b229-0767f563f499\")\n",
        "        if ($myPB.hasClass('ui-progressbar')) {\n",
        "            $myPB.progressbar('value', 378);\n",
        "        } else {\n",
        "            $myPB.progressbar({value: 0, max: 2029});\n",
        "        }\n",
        "        "
       ],
       "metadata": {},
       "output_type": "display_data",
       "text": [
        "<IPython.core.display.Javascript at 0x1fef1c18>"
       ]
      },
      {
       "javascript": [
        "$('div#ce92b8bf-f5a8-4b61-bc65-1bd00a967c02').text('ETA:  0:00:11');"
       ],
       "metadata": {},
       "output_type": "display_data",
       "text": [
        "<IPython.core.display.Javascript at 0x13cb6978>"
       ]
      },
      {
       "javascript": [
        "$('div#a2977324-bd64-4b9a-ba1e-59d856cca4a2').text('399 of 2029');"
       ],
       "metadata": {},
       "output_type": "display_data",
       "text": [
        "<IPython.core.display.Javascript at 0x1fef1c18>"
       ]
      },
      {
       "javascript": [
        "$('div#ac9b3748-f2b8-4ad2-b9f5-7fcf268e2184').text(' 19%');"
       ],
       "metadata": {},
       "output_type": "display_data",
       "text": [
        "<IPython.core.display.Javascript at 0x1fef18d0>"
       ]
      },
      {
       "javascript": [
        "\n",
        "        var $myPB = $(\"div#6c5259f7-e1ed-4ba1-b229-0767f563f499\")\n",
        "        if ($myPB.hasClass('ui-progressbar')) {\n",
        "            $myPB.progressbar('value', 399);\n",
        "        } else {\n",
        "            $myPB.progressbar({value: 0, max: 2029});\n",
        "        }\n",
        "        "
       ],
       "metadata": {},
       "output_type": "display_data",
       "text": [
        "<IPython.core.display.Javascript at 0x1fef1b70>"
       ]
      },
      {
       "javascript": [
        "$('div#ce92b8bf-f5a8-4b61-bc65-1bd00a967c02').text('ETA:  0:00:11');"
       ],
       "metadata": {},
       "output_type": "display_data",
       "text": [
        "<IPython.core.display.Javascript at 0x13cb6978>"
       ]
      },
      {
       "javascript": [
        "$('div#a2977324-bd64-4b9a-ba1e-59d856cca4a2').text('420 of 2029');"
       ],
       "metadata": {},
       "output_type": "display_data",
       "text": [
        "<IPython.core.display.Javascript at 0x1fef1b70>"
       ]
      },
      {
       "javascript": [
        "$('div#ac9b3748-f2b8-4ad2-b9f5-7fcf268e2184').text(' 20%');"
       ],
       "metadata": {},
       "output_type": "display_data",
       "text": [
        "<IPython.core.display.Javascript at 0x1fef1c88>"
       ]
      },
      {
       "javascript": [
        "\n",
        "        var $myPB = $(\"div#6c5259f7-e1ed-4ba1-b229-0767f563f499\")\n",
        "        if ($myPB.hasClass('ui-progressbar')) {\n",
        "            $myPB.progressbar('value', 420);\n",
        "        } else {\n",
        "            $myPB.progressbar({value: 0, max: 2029});\n",
        "        }\n",
        "        "
       ],
       "metadata": {},
       "output_type": "display_data",
       "text": [
        "<IPython.core.display.Javascript at 0x1fef1c18>"
       ]
      },
      {
       "javascript": [
        "$('div#ce92b8bf-f5a8-4b61-bc65-1bd00a967c02').text('ETA:  0:00:11');"
       ],
       "metadata": {},
       "output_type": "display_data",
       "text": [
        "<IPython.core.display.Javascript at 0x13cb6978>"
       ]
      },
      {
       "javascript": [
        "$('div#a2977324-bd64-4b9a-ba1e-59d856cca4a2').text('441 of 2029');"
       ],
       "metadata": {},
       "output_type": "display_data",
       "text": [
        "<IPython.core.display.Javascript at 0x1fef1c18>"
       ]
      },
      {
       "javascript": [
        "$('div#ac9b3748-f2b8-4ad2-b9f5-7fcf268e2184').text(' 21%');"
       ],
       "metadata": {},
       "output_type": "display_data",
       "text": [
        "<IPython.core.display.Javascript at 0x1fef1b70>"
       ]
      },
      {
       "javascript": [
        "\n",
        "        var $myPB = $(\"div#6c5259f7-e1ed-4ba1-b229-0767f563f499\")\n",
        "        if ($myPB.hasClass('ui-progressbar')) {\n",
        "            $myPB.progressbar('value', 441);\n",
        "        } else {\n",
        "            $myPB.progressbar({value: 0, max: 2029});\n",
        "        }\n",
        "        "
       ],
       "metadata": {},
       "output_type": "display_data",
       "text": [
        "<IPython.core.display.Javascript at 0x1fef1630>"
       ]
      },
      {
       "javascript": [
        "$('div#ce92b8bf-f5a8-4b61-bc65-1bd00a967c02').text('ETA:  0:00:10');"
       ],
       "metadata": {},
       "output_type": "display_data",
       "text": [
        "<IPython.core.display.Javascript at 0x13cb6978>"
       ]
      },
      {
       "javascript": [
        "$('div#a2977324-bd64-4b9a-ba1e-59d856cca4a2').text('462 of 2029');"
       ],
       "metadata": {},
       "output_type": "display_data",
       "text": [
        "<IPython.core.display.Javascript at 0x1fef13c8>"
       ]
      },
      {
       "javascript": [
        "$('div#ac9b3748-f2b8-4ad2-b9f5-7fcf268e2184').text(' 22%');"
       ],
       "metadata": {},
       "output_type": "display_data",
       "text": [
        "<IPython.core.display.Javascript at 0x1fef1b70>"
       ]
      },
      {
       "javascript": [
        "\n",
        "        var $myPB = $(\"div#6c5259f7-e1ed-4ba1-b229-0767f563f499\")\n",
        "        if ($myPB.hasClass('ui-progressbar')) {\n",
        "            $myPB.progressbar('value', 462);\n",
        "        } else {\n",
        "            $myPB.progressbar({value: 0, max: 2029});\n",
        "        }\n",
        "        "
       ],
       "metadata": {},
       "output_type": "display_data",
       "text": [
        "<IPython.core.display.Javascript at 0x13cb6978>"
       ]
      },
      {
       "javascript": [
        "$('div#ce92b8bf-f5a8-4b61-bc65-1bd00a967c02').text('ETA:  0:00:10');"
       ],
       "metadata": {},
       "output_type": "display_data",
       "text": [
        "<IPython.core.display.Javascript at 0x1fef1b70>"
       ]
      },
      {
       "javascript": [
        "$('div#a2977324-bd64-4b9a-ba1e-59d856cca4a2').text('483 of 2029');"
       ],
       "metadata": {},
       "output_type": "display_data",
       "text": [
        "<IPython.core.display.Javascript at 0x1fef1da0>"
       ]
      },
      {
       "javascript": [
        "$('div#ac9b3748-f2b8-4ad2-b9f5-7fcf268e2184').text(' 23%');"
       ],
       "metadata": {},
       "output_type": "display_data",
       "text": [
        "<IPython.core.display.Javascript at 0x1fef1c88>"
       ]
      },
      {
       "javascript": [
        "\n",
        "        var $myPB = $(\"div#6c5259f7-e1ed-4ba1-b229-0767f563f499\")\n",
        "        if ($myPB.hasClass('ui-progressbar')) {\n",
        "            $myPB.progressbar('value', 483);\n",
        "        } else {\n",
        "            $myPB.progressbar({value: 0, max: 2029});\n",
        "        }\n",
        "        "
       ],
       "metadata": {},
       "output_type": "display_data",
       "text": [
        "<IPython.core.display.Javascript at 0x13cb6978>"
       ]
      },
      {
       "javascript": [
        "$('div#ce92b8bf-f5a8-4b61-bc65-1bd00a967c02').text('ETA:  0:00:10');"
       ],
       "metadata": {},
       "output_type": "display_data",
       "text": [
        "<IPython.core.display.Javascript at 0x1fef1c88>"
       ]
      },
      {
       "javascript": [
        "$('div#a2977324-bd64-4b9a-ba1e-59d856cca4a2').text('504 of 2029');"
       ],
       "metadata": {},
       "output_type": "display_data",
       "text": [
        "<IPython.core.display.Javascript at 0x1fef1c18>"
       ]
      },
      {
       "javascript": [
        "$('div#ac9b3748-f2b8-4ad2-b9f5-7fcf268e2184').text(' 24%');"
       ],
       "metadata": {},
       "output_type": "display_data",
       "text": [
        "<IPython.core.display.Javascript at 0x1fef1a58>"
       ]
      },
      {
       "javascript": [
        "\n",
        "        var $myPB = $(\"div#6c5259f7-e1ed-4ba1-b229-0767f563f499\")\n",
        "        if ($myPB.hasClass('ui-progressbar')) {\n",
        "            $myPB.progressbar('value', 504);\n",
        "        } else {\n",
        "            $myPB.progressbar({value: 0, max: 2029});\n",
        "        }\n",
        "        "
       ],
       "metadata": {},
       "output_type": "display_data",
       "text": [
        "<IPython.core.display.Javascript at 0x13cb6978>"
       ]
      },
      {
       "javascript": [
        "$('div#ce92b8bf-f5a8-4b61-bc65-1bd00a967c02').text('ETA:  0:00:10');"
       ],
       "metadata": {},
       "output_type": "display_data",
       "text": [
        "<IPython.core.display.Javascript at 0x1fef1a58>"
       ]
      },
      {
       "javascript": [
        "$('div#a2977324-bd64-4b9a-ba1e-59d856cca4a2').text('525 of 2029');"
       ],
       "metadata": {},
       "output_type": "display_data",
       "text": [
        "<IPython.core.display.Javascript at 0x1fef1b70>"
       ]
      },
      {
       "javascript": [
        "$('div#ac9b3748-f2b8-4ad2-b9f5-7fcf268e2184').text(' 25%');"
       ],
       "metadata": {},
       "output_type": "display_data",
       "text": [
        "<IPython.core.display.Javascript at 0x1fef13c8>"
       ]
      },
      {
       "javascript": [
        "\n",
        "        var $myPB = $(\"div#6c5259f7-e1ed-4ba1-b229-0767f563f499\")\n",
        "        if ($myPB.hasClass('ui-progressbar')) {\n",
        "            $myPB.progressbar('value', 525);\n",
        "        } else {\n",
        "            $myPB.progressbar({value: 0, max: 2029});\n",
        "        }\n",
        "        "
       ],
       "metadata": {},
       "output_type": "display_data",
       "text": [
        "<IPython.core.display.Javascript at 0x13cb6978>"
       ]
      },
      {
       "javascript": [
        "$('div#ce92b8bf-f5a8-4b61-bc65-1bd00a967c02').text('ETA:  0:00:10');"
       ],
       "metadata": {},
       "output_type": "display_data",
       "text": [
        "<IPython.core.display.Javascript at 0x1fef13c8>"
       ]
      },
      {
       "javascript": [
        "$('div#a2977324-bd64-4b9a-ba1e-59d856cca4a2').text('546 of 2029');"
       ],
       "metadata": {},
       "output_type": "display_data",
       "text": [
        "<IPython.core.display.Javascript at 0x1fef18d0>"
       ]
      },
      {
       "javascript": [
        "$('div#ac9b3748-f2b8-4ad2-b9f5-7fcf268e2184').text(' 26%');"
       ],
       "metadata": {},
       "output_type": "display_data",
       "text": [
        "<IPython.core.display.Javascript at 0x1fef1da0>"
       ]
      },
      {
       "javascript": [
        "\n",
        "        var $myPB = $(\"div#6c5259f7-e1ed-4ba1-b229-0767f563f499\")\n",
        "        if ($myPB.hasClass('ui-progressbar')) {\n",
        "            $myPB.progressbar('value', 546);\n",
        "        } else {\n",
        "            $myPB.progressbar({value: 0, max: 2029});\n",
        "        }\n",
        "        "
       ],
       "metadata": {},
       "output_type": "display_data",
       "text": [
        "<IPython.core.display.Javascript at 0x13cb6978>"
       ]
      },
      {
       "javascript": [
        "$('div#ce92b8bf-f5a8-4b61-bc65-1bd00a967c02').text('ETA:  0:00:09');"
       ],
       "metadata": {},
       "output_type": "display_data",
       "text": [
        "<IPython.core.display.Javascript at 0x1fef1da0>"
       ]
      },
      {
       "javascript": [
        "$('div#a2977324-bd64-4b9a-ba1e-59d856cca4a2').text('567 of 2029');"
       ],
       "metadata": {},
       "output_type": "display_data",
       "text": [
        "<IPython.core.display.Javascript at 0x1fef1c88>"
       ]
      },
      {
       "javascript": [
        "$('div#ac9b3748-f2b8-4ad2-b9f5-7fcf268e2184').text(' 27%');"
       ],
       "metadata": {},
       "output_type": "display_data",
       "text": [
        "<IPython.core.display.Javascript at 0x1fef1160>"
       ]
      },
      {
       "javascript": [
        "\n",
        "        var $myPB = $(\"div#6c5259f7-e1ed-4ba1-b229-0767f563f499\")\n",
        "        if ($myPB.hasClass('ui-progressbar')) {\n",
        "            $myPB.progressbar('value', 567);\n",
        "        } else {\n",
        "            $myPB.progressbar({value: 0, max: 2029});\n",
        "        }\n",
        "        "
       ],
       "metadata": {},
       "output_type": "display_data",
       "text": [
        "<IPython.core.display.Javascript at 0x13cb6978>"
       ]
      },
      {
       "javascript": [
        "$('div#ce92b8bf-f5a8-4b61-bc65-1bd00a967c02').text('ETA:  0:00:09');"
       ],
       "metadata": {},
       "output_type": "display_data",
       "text": [
        "<IPython.core.display.Javascript at 0x1fef1160>"
       ]
      },
      {
       "javascript": [
        "$('div#a2977324-bd64-4b9a-ba1e-59d856cca4a2').text('588 of 2029');"
       ],
       "metadata": {},
       "output_type": "display_data",
       "text": [
        "<IPython.core.display.Javascript at 0x1fef1a58>"
       ]
      },
      {
       "javascript": [
        "$('div#ac9b3748-f2b8-4ad2-b9f5-7fcf268e2184').text(' 28%');"
       ],
       "metadata": {},
       "output_type": "display_data",
       "text": [
        "<IPython.core.display.Javascript at 0x13cb6978>"
       ]
      },
      {
       "javascript": [
        "\n",
        "        var $myPB = $(\"div#6c5259f7-e1ed-4ba1-b229-0767f563f499\")\n",
        "        if ($myPB.hasClass('ui-progressbar')) {\n",
        "            $myPB.progressbar('value', 588);\n",
        "        } else {\n",
        "            $myPB.progressbar({value: 0, max: 2029});\n",
        "        }\n",
        "        "
       ],
       "metadata": {},
       "output_type": "display_data",
       "text": [
        "<IPython.core.display.Javascript at 0x1fef1a58>"
       ]
      },
      {
       "javascript": [
        "$('div#ce92b8bf-f5a8-4b61-bc65-1bd00a967c02').text('ETA:  0:00:09');"
       ],
       "metadata": {},
       "output_type": "display_data",
       "text": [
        "<IPython.core.display.Javascript at 0x1fef1b70>"
       ]
      },
      {
       "javascript": [
        "$('div#a2977324-bd64-4b9a-ba1e-59d856cca4a2').text('609 of 2029');"
       ],
       "metadata": {},
       "output_type": "display_data",
       "text": [
        "<IPython.core.display.Javascript at 0x1fef13c8>"
       ]
      },
      {
       "javascript": [
        "$('div#ac9b3748-f2b8-4ad2-b9f5-7fcf268e2184').text(' 30%');"
       ],
       "metadata": {},
       "output_type": "display_data",
       "text": [
        "<IPython.core.display.Javascript at 0x13cb6978>"
       ]
      },
      {
       "javascript": [
        "\n",
        "        var $myPB = $(\"div#6c5259f7-e1ed-4ba1-b229-0767f563f499\")\n",
        "        if ($myPB.hasClass('ui-progressbar')) {\n",
        "            $myPB.progressbar('value', 609);\n",
        "        } else {\n",
        "            $myPB.progressbar({value: 0, max: 2029});\n",
        "        }\n",
        "        "
       ],
       "metadata": {},
       "output_type": "display_data",
       "text": [
        "<IPython.core.display.Javascript at 0x1fef13c8>"
       ]
      },
      {
       "javascript": [
        "$('div#ce92b8bf-f5a8-4b61-bc65-1bd00a967c02').text('ETA:  0:00:09');"
       ],
       "metadata": {},
       "output_type": "display_data",
       "text": [
        "<IPython.core.display.Javascript at 0x1fef18d0>"
       ]
      },
      {
       "javascript": [
        "$('div#a2977324-bd64-4b9a-ba1e-59d856cca4a2').text('630 of 2029');"
       ],
       "metadata": {},
       "output_type": "display_data",
       "text": [
        "<IPython.core.display.Javascript at 0x1fef1c18>"
       ]
      },
      {
       "javascript": [
        "$('div#ac9b3748-f2b8-4ad2-b9f5-7fcf268e2184').text(' 31%');"
       ],
       "metadata": {},
       "output_type": "display_data",
       "text": [
        "<IPython.core.display.Javascript at 0x13cb6978>"
       ]
      },
      {
       "javascript": [
        "\n",
        "        var $myPB = $(\"div#6c5259f7-e1ed-4ba1-b229-0767f563f499\")\n",
        "        if ($myPB.hasClass('ui-progressbar')) {\n",
        "            $myPB.progressbar('value', 630);\n",
        "        } else {\n",
        "            $myPB.progressbar({value: 0, max: 2029});\n",
        "        }\n",
        "        "
       ],
       "metadata": {},
       "output_type": "display_data",
       "text": [
        "<IPython.core.display.Javascript at 0x1fef1c18>"
       ]
      },
      {
       "javascript": [
        "$('div#ce92b8bf-f5a8-4b61-bc65-1bd00a967c02').text('ETA:  0:00:09');"
       ],
       "metadata": {},
       "output_type": "display_data",
       "text": [
        "<IPython.core.display.Javascript at 0x1fef1c88>"
       ]
      },
      {
       "javascript": [
        "$('div#a2977324-bd64-4b9a-ba1e-59d856cca4a2').text('651 of 2029');"
       ],
       "metadata": {},
       "output_type": "display_data",
       "text": [
        "<IPython.core.display.Javascript at 0x1fef1a58>"
       ]
      },
      {
       "javascript": [
        "$('div#ac9b3748-f2b8-4ad2-b9f5-7fcf268e2184').text(' 32%');"
       ],
       "metadata": {},
       "output_type": "display_data",
       "text": [
        "<IPython.core.display.Javascript at 0x13cb6978>"
       ]
      },
      {
       "javascript": [
        "\n",
        "        var $myPB = $(\"div#6c5259f7-e1ed-4ba1-b229-0767f563f499\")\n",
        "        if ($myPB.hasClass('ui-progressbar')) {\n",
        "            $myPB.progressbar('value', 651);\n",
        "        } else {\n",
        "            $myPB.progressbar({value: 0, max: 2029});\n",
        "        }\n",
        "        "
       ],
       "metadata": {},
       "output_type": "display_data",
       "text": [
        "<IPython.core.display.Javascript at 0x1fef1a58>"
       ]
      },
      {
       "javascript": [
        "$('div#ce92b8bf-f5a8-4b61-bc65-1bd00a967c02').text('ETA:  0:00:08');"
       ],
       "metadata": {},
       "output_type": "display_data",
       "text": [
        "<IPython.core.display.Javascript at 0x1fef1160>"
       ]
      },
      {
       "javascript": [
        "$('div#a2977324-bd64-4b9a-ba1e-59d856cca4a2').text('672 of 2029');"
       ],
       "metadata": {},
       "output_type": "display_data",
       "text": [
        "<IPython.core.display.Javascript at 0x1fef13c8>"
       ]
      },
      {
       "javascript": [
        "$('div#ac9b3748-f2b8-4ad2-b9f5-7fcf268e2184').text(' 33%');"
       ],
       "metadata": {},
       "output_type": "display_data",
       "text": [
        "<IPython.core.display.Javascript at 0x13cb6978>"
       ]
      },
      {
       "javascript": [
        "\n",
        "        var $myPB = $(\"div#6c5259f7-e1ed-4ba1-b229-0767f563f499\")\n",
        "        if ($myPB.hasClass('ui-progressbar')) {\n",
        "            $myPB.progressbar('value', 672);\n",
        "        } else {\n",
        "            $myPB.progressbar({value: 0, max: 2029});\n",
        "        }\n",
        "        "
       ],
       "metadata": {},
       "output_type": "display_data",
       "text": [
        "<IPython.core.display.Javascript at 0x1fef13c8>"
       ]
      },
      {
       "javascript": [
        "$('div#ce92b8bf-f5a8-4b61-bc65-1bd00a967c02').text('ETA:  0:00:08');"
       ],
       "metadata": {},
       "output_type": "display_data",
       "text": [
        "<IPython.core.display.Javascript at 0x1fef1d30>"
       ]
      },
      {
       "javascript": [
        "$('div#a2977324-bd64-4b9a-ba1e-59d856cca4a2').text('693 of 2029');"
       ],
       "metadata": {},
       "output_type": "display_data",
       "text": [
        "<IPython.core.display.Javascript at 0x1fef1b70>"
       ]
      },
      {
       "javascript": [
        "$('div#ac9b3748-f2b8-4ad2-b9f5-7fcf268e2184').text(' 34%');"
       ],
       "metadata": {},
       "output_type": "display_data",
       "text": [
        "<IPython.core.display.Javascript at 0x13cb6978>"
       ]
      },
      {
       "javascript": [
        "\n",
        "        var $myPB = $(\"div#6c5259f7-e1ed-4ba1-b229-0767f563f499\")\n",
        "        if ($myPB.hasClass('ui-progressbar')) {\n",
        "            $myPB.progressbar('value', 693);\n",
        "        } else {\n",
        "            $myPB.progressbar({value: 0, max: 2029});\n",
        "        }\n",
        "        "
       ],
       "metadata": {},
       "output_type": "display_data",
       "text": [
        "<IPython.core.display.Javascript at 0x1fef1a58>"
       ]
      },
      {
       "javascript": [
        "$('div#ce92b8bf-f5a8-4b61-bc65-1bd00a967c02').text('ETA:  0:00:08');"
       ],
       "metadata": {},
       "output_type": "display_data",
       "text": [
        "<IPython.core.display.Javascript at 0x1fef18d0>"
       ]
      },
      {
       "javascript": [
        "$('div#a2977324-bd64-4b9a-ba1e-59d856cca4a2').text('714 of 2029');"
       ],
       "metadata": {},
       "output_type": "display_data",
       "text": [
        "<IPython.core.display.Javascript at 0x13cb6978>"
       ]
      },
      {
       "javascript": [
        "$('div#ac9b3748-f2b8-4ad2-b9f5-7fcf268e2184').text(' 35%');"
       ],
       "metadata": {},
       "output_type": "display_data",
       "text": [
        "<IPython.core.display.Javascript at 0x1fef13c8>"
       ]
      },
      {
       "javascript": [
        "\n",
        "        var $myPB = $(\"div#6c5259f7-e1ed-4ba1-b229-0767f563f499\")\n",
        "        if ($myPB.hasClass('ui-progressbar')) {\n",
        "            $myPB.progressbar('value', 714);\n",
        "        } else {\n",
        "            $myPB.progressbar({value: 0, max: 2029});\n",
        "        }\n",
        "        "
       ],
       "metadata": {},
       "output_type": "display_data",
       "text": [
        "<IPython.core.display.Javascript at 0x1fef1c88>"
       ]
      },
      {
       "javascript": [
        "$('div#ce92b8bf-f5a8-4b61-bc65-1bd00a967c02').text('ETA:  0:00:08');"
       ],
       "metadata": {},
       "output_type": "display_data",
       "text": [
        "<IPython.core.display.Javascript at 0x1fef1c18>"
       ]
      },
      {
       "javascript": [
        "$('div#a2977324-bd64-4b9a-ba1e-59d856cca4a2').text('735 of 2029');"
       ],
       "metadata": {},
       "output_type": "display_data",
       "text": [
        "<IPython.core.display.Javascript at 0x13cb6978>"
       ]
      },
      {
       "javascript": [
        "$('div#ac9b3748-f2b8-4ad2-b9f5-7fcf268e2184').text(' 36%');"
       ],
       "metadata": {},
       "output_type": "display_data",
       "text": [
        "<IPython.core.display.Javascript at 0x1fef1c18>"
       ]
      },
      {
       "javascript": [
        "\n",
        "        var $myPB = $(\"div#6c5259f7-e1ed-4ba1-b229-0767f563f499\")\n",
        "        if ($myPB.hasClass('ui-progressbar')) {\n",
        "            $myPB.progressbar('value', 735);\n",
        "        } else {\n",
        "            $myPB.progressbar({value: 0, max: 2029});\n",
        "        }\n",
        "        "
       ],
       "metadata": {},
       "output_type": "display_data",
       "text": [
        "<IPython.core.display.Javascript at 0x1fef1b70>"
       ]
      },
      {
       "javascript": [
        "$('div#ce92b8bf-f5a8-4b61-bc65-1bd00a967c02').text('ETA:  0:00:08');"
       ],
       "metadata": {},
       "output_type": "display_data",
       "text": [
        "<IPython.core.display.Javascript at 0x1fef1a58>"
       ]
      },
      {
       "javascript": [
        "$('div#a2977324-bd64-4b9a-ba1e-59d856cca4a2').text('756 of 2029');"
       ],
       "metadata": {},
       "output_type": "display_data",
       "text": [
        "<IPython.core.display.Javascript at 0x13cb6978>"
       ]
      },
      {
       "javascript": [
        "$('div#ac9b3748-f2b8-4ad2-b9f5-7fcf268e2184').text(' 37%');"
       ],
       "metadata": {},
       "output_type": "display_data",
       "text": [
        "<IPython.core.display.Javascript at 0x1fef1a58>"
       ]
      },
      {
       "javascript": [
        "\n",
        "        var $myPB = $(\"div#6c5259f7-e1ed-4ba1-b229-0767f563f499\")\n",
        "        if ($myPB.hasClass('ui-progressbar')) {\n",
        "            $myPB.progressbar('value', 756);\n",
        "        } else {\n",
        "            $myPB.progressbar({value: 0, max: 2029});\n",
        "        }\n",
        "        "
       ],
       "metadata": {},
       "output_type": "display_data",
       "text": [
        "<IPython.core.display.Javascript at 0x1fef1d30>"
       ]
      },
      {
       "javascript": [
        "$('div#ce92b8bf-f5a8-4b61-bc65-1bd00a967c02').text('ETA:  0:00:08');"
       ],
       "metadata": {},
       "output_type": "display_data",
       "text": [
        "<IPython.core.display.Javascript at 0x1fef13c8>"
       ]
      },
      {
       "javascript": [
        "$('div#a2977324-bd64-4b9a-ba1e-59d856cca4a2').text('777 of 2029');"
       ],
       "metadata": {},
       "output_type": "display_data",
       "text": [
        "<IPython.core.display.Javascript at 0x13cb6978>"
       ]
      },
      {
       "javascript": [
        "$('div#ac9b3748-f2b8-4ad2-b9f5-7fcf268e2184').text(' 38%');"
       ],
       "metadata": {},
       "output_type": "display_data",
       "text": [
        "<IPython.core.display.Javascript at 0x1fef1c18>"
       ]
      },
      {
       "javascript": [
        "\n",
        "        var $myPB = $(\"div#6c5259f7-e1ed-4ba1-b229-0767f563f499\")\n",
        "        if ($myPB.hasClass('ui-progressbar')) {\n",
        "            $myPB.progressbar('value', 777);\n",
        "        } else {\n",
        "            $myPB.progressbar({value: 0, max: 2029});\n",
        "        }\n",
        "        "
       ],
       "metadata": {},
       "output_type": "display_data",
       "text": [
        "<IPython.core.display.Javascript at 0x1fef13c8>"
       ]
      },
      {
       "javascript": [
        "$('div#ce92b8bf-f5a8-4b61-bc65-1bd00a967c02').text('ETA:  0:00:08');"
       ],
       "metadata": {},
       "output_type": "display_data",
       "text": [
        "<IPython.core.display.Javascript at 0x13cb6978>"
       ]
      },
      {
       "javascript": [
        "$('div#a2977324-bd64-4b9a-ba1e-59d856cca4a2').text('798 of 2029');"
       ],
       "metadata": {},
       "output_type": "display_data",
       "text": [
        "<IPython.core.display.Javascript at 0x1fef13c8>"
       ]
      },
      {
       "javascript": [
        "$('div#ac9b3748-f2b8-4ad2-b9f5-7fcf268e2184').text(' 39%');"
       ],
       "metadata": {},
       "output_type": "display_data",
       "text": [
        "<IPython.core.display.Javascript at 0x1fef18d0>"
       ]
      },
      {
       "javascript": [
        "\n",
        "        var $myPB = $(\"div#6c5259f7-e1ed-4ba1-b229-0767f563f499\")\n",
        "        if ($myPB.hasClass('ui-progressbar')) {\n",
        "            $myPB.progressbar('value', 798);\n",
        "        } else {\n",
        "            $myPB.progressbar({value: 0, max: 2029});\n",
        "        }\n",
        "        "
       ],
       "metadata": {},
       "output_type": "display_data",
       "text": [
        "<IPython.core.display.Javascript at 0x1fef1a58>"
       ]
      },
      {
       "javascript": [
        "$('div#ce92b8bf-f5a8-4b61-bc65-1bd00a967c02').text('ETA:  0:00:07');"
       ],
       "metadata": {},
       "output_type": "display_data",
       "text": [
        "<IPython.core.display.Javascript at 0x13cb6978>"
       ]
      },
      {
       "javascript": [
        "$('div#a2977324-bd64-4b9a-ba1e-59d856cca4a2').text('819 of 2029');"
       ],
       "metadata": {},
       "output_type": "display_data",
       "text": [
        "<IPython.core.display.Javascript at 0x1fef1a58>"
       ]
      },
      {
       "javascript": [
        "$('div#ac9b3748-f2b8-4ad2-b9f5-7fcf268e2184').text(' 40%');"
       ],
       "metadata": {},
       "output_type": "display_data",
       "text": [
        "<IPython.core.display.Javascript at 0x1fef1160>"
       ]
      },
      {
       "javascript": [
        "\n",
        "        var $myPB = $(\"div#6c5259f7-e1ed-4ba1-b229-0767f563f499\")\n",
        "        if ($myPB.hasClass('ui-progressbar')) {\n",
        "            $myPB.progressbar('value', 819);\n",
        "        } else {\n",
        "            $myPB.progressbar({value: 0, max: 2029});\n",
        "        }\n",
        "        "
       ],
       "metadata": {},
       "output_type": "display_data",
       "text": [
        "<IPython.core.display.Javascript at 0x1fef13c8>"
       ]
      },
      {
       "javascript": [
        "$('div#ce92b8bf-f5a8-4b61-bc65-1bd00a967c02').text('ETA:  0:00:07');"
       ],
       "metadata": {},
       "output_type": "display_data",
       "text": [
        "<IPython.core.display.Javascript at 0x13cb6978>"
       ]
      },
      {
       "javascript": [
        "$('div#a2977324-bd64-4b9a-ba1e-59d856cca4a2').text('840 of 2029');"
       ],
       "metadata": {},
       "output_type": "display_data",
       "text": [
        "<IPython.core.display.Javascript at 0x1fef13c8>"
       ]
      },
      {
       "javascript": [
        "$('div#ac9b3748-f2b8-4ad2-b9f5-7fcf268e2184').text(' 41%');"
       ],
       "metadata": {},
       "output_type": "display_data",
       "text": [
        "<IPython.core.display.Javascript at 0x1fef1b70>"
       ]
      },
      {
       "javascript": [
        "\n",
        "        var $myPB = $(\"div#6c5259f7-e1ed-4ba1-b229-0767f563f499\")\n",
        "        if ($myPB.hasClass('ui-progressbar')) {\n",
        "            $myPB.progressbar('value', 840);\n",
        "        } else {\n",
        "            $myPB.progressbar({value: 0, max: 2029});\n",
        "        }\n",
        "        "
       ],
       "metadata": {},
       "output_type": "display_data",
       "text": [
        "<IPython.core.display.Javascript at 0x1fef1c88>"
       ]
      },
      {
       "javascript": [
        "$('div#ce92b8bf-f5a8-4b61-bc65-1bd00a967c02').text('ETA:  0:00:07');"
       ],
       "metadata": {},
       "output_type": "display_data",
       "text": [
        "<IPython.core.display.Javascript at 0x13cb6978>"
       ]
      },
      {
       "javascript": [
        "$('div#a2977324-bd64-4b9a-ba1e-59d856cca4a2').text('861 of 2029');"
       ],
       "metadata": {},
       "output_type": "display_data",
       "text": [
        "<IPython.core.display.Javascript at 0x1fef1c88>"
       ]
      },
      {
       "javascript": [
        "$('div#ac9b3748-f2b8-4ad2-b9f5-7fcf268e2184').text(' 42%');"
       ],
       "metadata": {},
       "output_type": "display_data",
       "text": [
        "<IPython.core.display.Javascript at 0x1fef1c18>"
       ]
      },
      {
       "javascript": [
        "\n",
        "        var $myPB = $(\"div#6c5259f7-e1ed-4ba1-b229-0767f563f499\")\n",
        "        if ($myPB.hasClass('ui-progressbar')) {\n",
        "            $myPB.progressbar('value', 861);\n",
        "        } else {\n",
        "            $myPB.progressbar({value: 0, max: 2029});\n",
        "        }\n",
        "        "
       ],
       "metadata": {},
       "output_type": "display_data",
       "text": [
        "<IPython.core.display.Javascript at 0x1fef1a58>"
       ]
      },
      {
       "javascript": [
        "$('div#ce92b8bf-f5a8-4b61-bc65-1bd00a967c02').text('ETA:  0:00:07');"
       ],
       "metadata": {},
       "output_type": "display_data",
       "text": [
        "<IPython.core.display.Javascript at 0x13cb6978>"
       ]
      },
      {
       "javascript": [
        "$('div#a2977324-bd64-4b9a-ba1e-59d856cca4a2').text('882 of 2029');"
       ],
       "metadata": {},
       "output_type": "display_data",
       "text": [
        "<IPython.core.display.Javascript at 0x1fef1a58>"
       ]
      },
      {
       "javascript": [
        "$('div#ac9b3748-f2b8-4ad2-b9f5-7fcf268e2184').text(' 43%');"
       ],
       "metadata": {},
       "output_type": "display_data",
       "text": [
        "<IPython.core.display.Javascript at 0x1fef1c88>"
       ]
      },
      {
       "javascript": [
        "\n",
        "        var $myPB = $(\"div#6c5259f7-e1ed-4ba1-b229-0767f563f499\")\n",
        "        if ($myPB.hasClass('ui-progressbar')) {\n",
        "            $myPB.progressbar('value', 882);\n",
        "        } else {\n",
        "            $myPB.progressbar({value: 0, max: 2029});\n",
        "        }\n",
        "        "
       ],
       "metadata": {},
       "output_type": "display_data",
       "text": [
        "<IPython.core.display.Javascript at 0x13cb6978>"
       ]
      },
      {
       "javascript": [
        "$('div#ce92b8bf-f5a8-4b61-bc65-1bd00a967c02').text('ETA:  0:00:07');"
       ],
       "metadata": {},
       "output_type": "display_data",
       "text": [
        "<IPython.core.display.Javascript at 0x1fef1c88>"
       ]
      },
      {
       "javascript": [
        "$('div#a2977324-bd64-4b9a-ba1e-59d856cca4a2').text('903 of 2029');"
       ],
       "metadata": {},
       "output_type": "display_data",
       "text": [
        "<IPython.core.display.Javascript at 0x1fef18d0>"
       ]
      },
      {
       "javascript": [
        "$('div#ac9b3748-f2b8-4ad2-b9f5-7fcf268e2184').text(' 44%');"
       ],
       "metadata": {},
       "output_type": "display_data",
       "text": [
        "<IPython.core.display.Javascript at 0x1fef13c8>"
       ]
      },
      {
       "javascript": [
        "\n",
        "        var $myPB = $(\"div#6c5259f7-e1ed-4ba1-b229-0767f563f499\")\n",
        "        if ($myPB.hasClass('ui-progressbar')) {\n",
        "            $myPB.progressbar('value', 903);\n",
        "        } else {\n",
        "            $myPB.progressbar({value: 0, max: 2029});\n",
        "        }\n",
        "        "
       ],
       "metadata": {},
       "output_type": "display_data",
       "text": [
        "<IPython.core.display.Javascript at 0x13cb6978>"
       ]
      },
      {
       "javascript": [
        "$('div#ce92b8bf-f5a8-4b61-bc65-1bd00a967c02').text('ETA:  0:00:07');"
       ],
       "metadata": {},
       "output_type": "display_data",
       "text": [
        "<IPython.core.display.Javascript at 0x1fef13c8>"
       ]
      },
      {
       "javascript": [
        "$('div#a2977324-bd64-4b9a-ba1e-59d856cca4a2').text('924 of 2029');"
       ],
       "metadata": {},
       "output_type": "display_data",
       "text": [
        "<IPython.core.display.Javascript at 0x1fef1d30>"
       ]
      },
      {
       "javascript": [
        "$('div#ac9b3748-f2b8-4ad2-b9f5-7fcf268e2184').text(' 45%');"
       ],
       "metadata": {},
       "output_type": "display_data",
       "text": [
        "<IPython.core.display.Javascript at 0x1fef1160>"
       ]
      },
      {
       "javascript": [
        "\n",
        "        var $myPB = $(\"div#6c5259f7-e1ed-4ba1-b229-0767f563f499\")\n",
        "        if ($myPB.hasClass('ui-progressbar')) {\n",
        "            $myPB.progressbar('value', 924);\n",
        "        } else {\n",
        "            $myPB.progressbar({value: 0, max: 2029});\n",
        "        }\n",
        "        "
       ],
       "metadata": {},
       "output_type": "display_data",
       "text": [
        "<IPython.core.display.Javascript at 0x13cb6978>"
       ]
      },
      {
       "javascript": [
        "$('div#ce92b8bf-f5a8-4b61-bc65-1bd00a967c02').text('ETA:  0:00:07');"
       ],
       "metadata": {},
       "output_type": "display_data",
       "text": [
        "<IPython.core.display.Javascript at 0x1fef1160>"
       ]
      },
      {
       "javascript": [
        "$('div#a2977324-bd64-4b9a-ba1e-59d856cca4a2').text('945 of 2029');"
       ],
       "metadata": {},
       "output_type": "display_data",
       "text": [
        "<IPython.core.display.Javascript at 0x1fef1b70>"
       ]
      },
      {
       "javascript": [
        "$('div#ac9b3748-f2b8-4ad2-b9f5-7fcf268e2184').text(' 46%');"
       ],
       "metadata": {},
       "output_type": "display_data",
       "text": [
        "<IPython.core.display.Javascript at 0x1fef13c8>"
       ]
      },
      {
       "javascript": [
        "\n",
        "        var $myPB = $(\"div#6c5259f7-e1ed-4ba1-b229-0767f563f499\")\n",
        "        if ($myPB.hasClass('ui-progressbar')) {\n",
        "            $myPB.progressbar('value', 945);\n",
        "        } else {\n",
        "            $myPB.progressbar({value: 0, max: 2029});\n",
        "        }\n",
        "        "
       ],
       "metadata": {},
       "output_type": "display_data",
       "text": [
        "<IPython.core.display.Javascript at 0x13cb6978>"
       ]
      },
      {
       "javascript": [
        "$('div#ce92b8bf-f5a8-4b61-bc65-1bd00a967c02').text('ETA:  0:00:06');"
       ],
       "metadata": {},
       "output_type": "display_data",
       "text": [
        "<IPython.core.display.Javascript at 0x1fef13c8>"
       ]
      },
      {
       "javascript": [
        "$('div#a2977324-bd64-4b9a-ba1e-59d856cca4a2').text('966 of 2029');"
       ],
       "metadata": {},
       "output_type": "display_data",
       "text": [
        "<IPython.core.display.Javascript at 0x1fef1c88>"
       ]
      },
      {
       "javascript": [
        "$('div#ac9b3748-f2b8-4ad2-b9f5-7fcf268e2184').text(' 47%');"
       ],
       "metadata": {},
       "output_type": "display_data",
       "text": [
        "<IPython.core.display.Javascript at 0x1fef1a58>"
       ]
      },
      {
       "javascript": [
        "\n",
        "        var $myPB = $(\"div#6c5259f7-e1ed-4ba1-b229-0767f563f499\")\n",
        "        if ($myPB.hasClass('ui-progressbar')) {\n",
        "            $myPB.progressbar('value', 966);\n",
        "        } else {\n",
        "            $myPB.progressbar({value: 0, max: 2029});\n",
        "        }\n",
        "        "
       ],
       "metadata": {},
       "output_type": "display_data",
       "text": [
        "<IPython.core.display.Javascript at 0x13cb6978>"
       ]
      },
      {
       "javascript": [
        "$('div#ce92b8bf-f5a8-4b61-bc65-1bd00a967c02').text('ETA:  0:00:06');"
       ],
       "metadata": {},
       "output_type": "display_data",
       "text": [
        "<IPython.core.display.Javascript at 0x1fef18d0>"
       ]
      },
      {
       "javascript": [
        "$('div#a2977324-bd64-4b9a-ba1e-59d856cca4a2').text('987 of 2029');"
       ],
       "metadata": {},
       "output_type": "display_data",
       "text": [
        "<IPython.core.display.Javascript at 0x1fef1c18>"
       ]
      },
      {
       "javascript": [
        "$('div#ac9b3748-f2b8-4ad2-b9f5-7fcf268e2184').text(' 48%');"
       ],
       "metadata": {},
       "output_type": "display_data",
       "text": [
        "<IPython.core.display.Javascript at 0x13cb6978>"
       ]
      },
      {
       "javascript": [
        "\n",
        "        var $myPB = $(\"div#6c5259f7-e1ed-4ba1-b229-0767f563f499\")\n",
        "        if ($myPB.hasClass('ui-progressbar')) {\n",
        "            $myPB.progressbar('value', 987);\n",
        "        } else {\n",
        "            $myPB.progressbar({value: 0, max: 2029});\n",
        "        }\n",
        "        "
       ],
       "metadata": {},
       "output_type": "display_data",
       "text": [
        "<IPython.core.display.Javascript at 0x1fef1c18>"
       ]
      },
      {
       "javascript": [
        "$('div#ce92b8bf-f5a8-4b61-bc65-1bd00a967c02').text('ETA:  0:00:06');"
       ],
       "metadata": {},
       "output_type": "display_data",
       "text": [
        "<IPython.core.display.Javascript at 0x1fef1b70>"
       ]
      },
      {
       "javascript": [
        "$('div#a2977324-bd64-4b9a-ba1e-59d856cca4a2').text('1008 of 2029');"
       ],
       "metadata": {},
       "output_type": "display_data",
       "text": [
        "<IPython.core.display.Javascript at 0x1fef13c8>"
       ]
      },
      {
       "javascript": [
        "$('div#ac9b3748-f2b8-4ad2-b9f5-7fcf268e2184').text(' 49%');"
       ],
       "metadata": {},
       "output_type": "display_data",
       "text": [
        "<IPython.core.display.Javascript at 0x13cb6978>"
       ]
      },
      {
       "javascript": [
        "\n",
        "        var $myPB = $(\"div#6c5259f7-e1ed-4ba1-b229-0767f563f499\")\n",
        "        if ($myPB.hasClass('ui-progressbar')) {\n",
        "            $myPB.progressbar('value', 1008);\n",
        "        } else {\n",
        "            $myPB.progressbar({value: 0, max: 2029});\n",
        "        }\n",
        "        "
       ],
       "metadata": {},
       "output_type": "display_data",
       "text": [
        "<IPython.core.display.Javascript at 0x1fef13c8>"
       ]
      },
      {
       "javascript": [
        "$('div#ce92b8bf-f5a8-4b61-bc65-1bd00a967c02').text('ETA:  0:00:06');"
       ],
       "metadata": {},
       "output_type": "display_data",
       "text": [
        "<IPython.core.display.Javascript at 0x1fef1c88>"
       ]
      },
      {
       "javascript": [
        "$('div#a2977324-bd64-4b9a-ba1e-59d856cca4a2').text('1029 of 2029');"
       ],
       "metadata": {},
       "output_type": "display_data",
       "text": [
        "<IPython.core.display.Javascript at 0x13cb6978>"
       ]
      },
      {
       "javascript": [
        "$('div#ac9b3748-f2b8-4ad2-b9f5-7fcf268e2184').text(' 50%');"
       ],
       "metadata": {},
       "output_type": "display_data",
       "text": [
        "<IPython.core.display.Javascript at 0x1fef1da0>"
       ]
      },
      {
       "javascript": [
        "\n",
        "        var $myPB = $(\"div#6c5259f7-e1ed-4ba1-b229-0767f563f499\")\n",
        "        if ($myPB.hasClass('ui-progressbar')) {\n",
        "            $myPB.progressbar('value', 1029);\n",
        "        } else {\n",
        "            $myPB.progressbar({value: 0, max: 2029});\n",
        "        }\n",
        "        "
       ],
       "metadata": {},
       "output_type": "display_data",
       "text": [
        "<IPython.core.display.Javascript at 0x1fef1c88>"
       ]
      },
      {
       "javascript": [
        "$('div#ce92b8bf-f5a8-4b61-bc65-1bd00a967c02').text('ETA:  0:00:06');"
       ],
       "metadata": {},
       "output_type": "display_data",
       "text": [
        "<IPython.core.display.Javascript at 0x1fef1d30>"
       ]
      },
      {
       "javascript": [
        "$('div#a2977324-bd64-4b9a-ba1e-59d856cca4a2').text('1050 of 2029');"
       ],
       "metadata": {},
       "output_type": "display_data",
       "text": [
        "<IPython.core.display.Javascript at 0x13cb6978>"
       ]
      },
      {
       "javascript": [
        "$('div#ac9b3748-f2b8-4ad2-b9f5-7fcf268e2184').text(' 51%');"
       ],
       "metadata": {},
       "output_type": "display_data",
       "text": [
        "<IPython.core.display.Javascript at 0x1fef1d30>"
       ]
      },
      {
       "javascript": [
        "\n",
        "        var $myPB = $(\"div#6c5259f7-e1ed-4ba1-b229-0767f563f499\")\n",
        "        if ($myPB.hasClass('ui-progressbar')) {\n",
        "            $myPB.progressbar('value', 1050);\n",
        "        } else {\n",
        "            $myPB.progressbar({value: 0, max: 2029});\n",
        "        }\n",
        "        "
       ],
       "metadata": {},
       "output_type": "display_data",
       "text": [
        "<IPython.core.display.Javascript at 0x1fef1d68>"
       ]
      },
      {
       "javascript": [
        "$('div#ce92b8bf-f5a8-4b61-bc65-1bd00a967c02').text('ETA:  0:00:06');"
       ],
       "metadata": {},
       "output_type": "display_data",
       "text": [
        "<IPython.core.display.Javascript at 0x1fef18d0>"
       ]
      },
      {
       "javascript": [
        "$('div#a2977324-bd64-4b9a-ba1e-59d856cca4a2').text('1071 of 2029');"
       ],
       "metadata": {},
       "output_type": "display_data",
       "text": [
        "<IPython.core.display.Javascript at 0x13cb6978>"
       ]
      },
      {
       "javascript": [
        "$('div#ac9b3748-f2b8-4ad2-b9f5-7fcf268e2184').text(' 52%');"
       ],
       "metadata": {},
       "output_type": "display_data",
       "text": [
        "<IPython.core.display.Javascript at 0x1fef18d0>"
       ]
      },
      {
       "javascript": [
        "\n",
        "        var $myPB = $(\"div#6c5259f7-e1ed-4ba1-b229-0767f563f499\")\n",
        "        if ($myPB.hasClass('ui-progressbar')) {\n",
        "            $myPB.progressbar('value', 1071);\n",
        "        } else {\n",
        "            $myPB.progressbar({value: 0, max: 2029});\n",
        "        }\n",
        "        "
       ],
       "metadata": {},
       "output_type": "display_data",
       "text": [
        "<IPython.core.display.Javascript at 0x1fef1e48>"
       ]
      },
      {
       "javascript": [
        "$('div#ce92b8bf-f5a8-4b61-bc65-1bd00a967c02').text('ETA:  0:00:06');"
       ],
       "metadata": {},
       "output_type": "display_data",
       "text": [
        "<IPython.core.display.Javascript at 0x1fef1da0>"
       ]
      },
      {
       "javascript": [
        "$('div#a2977324-bd64-4b9a-ba1e-59d856cca4a2').text('1092 of 2029');"
       ],
       "metadata": {},
       "output_type": "display_data",
       "text": [
        "<IPython.core.display.Javascript at 0x13cb6978>"
       ]
      },
      {
       "javascript": [
        "$('div#ac9b3748-f2b8-4ad2-b9f5-7fcf268e2184').text(' 53%');"
       ],
       "metadata": {},
       "output_type": "display_data",
       "text": [
        "<IPython.core.display.Javascript at 0x1fef1d30>"
       ]
      },
      {
       "javascript": [
        "\n",
        "        var $myPB = $(\"div#6c5259f7-e1ed-4ba1-b229-0767f563f499\")\n",
        "        if ($myPB.hasClass('ui-progressbar')) {\n",
        "            $myPB.progressbar('value', 1092);\n",
        "        } else {\n",
        "            $myPB.progressbar({value: 0, max: 2029});\n",
        "        }\n",
        "        "
       ],
       "metadata": {},
       "output_type": "display_data",
       "text": [
        "<IPython.core.display.Javascript at 0x1fef13c8>"
       ]
      },
      {
       "javascript": [
        "$('div#ce92b8bf-f5a8-4b61-bc65-1bd00a967c02').text('ETA:  0:00:05');"
       ],
       "metadata": {},
       "output_type": "display_data",
       "text": [
        "<IPython.core.display.Javascript at 0x1fef1da0>"
       ]
      },
      {
       "javascript": [
        "$('div#a2977324-bd64-4b9a-ba1e-59d856cca4a2').text('1113 of 2029');"
       ],
       "metadata": {},
       "output_type": "display_data",
       "text": [
        "<IPython.core.display.Javascript at 0x13cb6978>"
       ]
      },
      {
       "javascript": [
        "$('div#ac9b3748-f2b8-4ad2-b9f5-7fcf268e2184').text(' 54%');"
       ],
       "metadata": {},
       "output_type": "display_data",
       "text": [
        "<IPython.core.display.Javascript at 0x1fef18d0>"
       ]
      },
      {
       "javascript": [
        "\n",
        "        var $myPB = $(\"div#6c5259f7-e1ed-4ba1-b229-0767f563f499\")\n",
        "        if ($myPB.hasClass('ui-progressbar')) {\n",
        "            $myPB.progressbar('value', 1113);\n",
        "        } else {\n",
        "            $myPB.progressbar({value: 0, max: 2029});\n",
        "        }\n",
        "        "
       ],
       "metadata": {},
       "output_type": "display_data",
       "text": [
        "<IPython.core.display.Javascript at 0x1fef1c88>"
       ]
      },
      {
       "javascript": [
        "$('div#ce92b8bf-f5a8-4b61-bc65-1bd00a967c02').text('ETA:  0:00:05');"
       ],
       "metadata": {},
       "output_type": "display_data",
       "text": [
        "<IPython.core.display.Javascript at 0x13cb6978>"
       ]
      },
      {
       "javascript": [
        "$('div#a2977324-bd64-4b9a-ba1e-59d856cca4a2').text('1134 of 2029');"
       ],
       "metadata": {},
       "output_type": "display_data",
       "text": [
        "<IPython.core.display.Javascript at 0x1fef1c88>"
       ]
      },
      {
       "javascript": [
        "$('div#ac9b3748-f2b8-4ad2-b9f5-7fcf268e2184').text(' 55%');"
       ],
       "metadata": {},
       "output_type": "display_data",
       "text": [
        "<IPython.core.display.Javascript at 0x1fef1160>"
       ]
      },
      {
       "javascript": [
        "\n",
        "        var $myPB = $(\"div#6c5259f7-e1ed-4ba1-b229-0767f563f499\")\n",
        "        if ($myPB.hasClass('ui-progressbar')) {\n",
        "            $myPB.progressbar('value', 1134);\n",
        "        } else {\n",
        "            $myPB.progressbar({value: 0, max: 2029});\n",
        "        }\n",
        "        "
       ],
       "metadata": {},
       "output_type": "display_data",
       "text": [
        "<IPython.core.display.Javascript at 0x1fef1d30>"
       ]
      },
      {
       "javascript": [
        "$('div#ce92b8bf-f5a8-4b61-bc65-1bd00a967c02').text('ETA:  0:00:05');"
       ],
       "metadata": {},
       "output_type": "display_data",
       "text": [
        "<IPython.core.display.Javascript at 0x13cb6978>"
       ]
      },
      {
       "javascript": [
        "$('div#a2977324-bd64-4b9a-ba1e-59d856cca4a2').text('1155 of 2029');"
       ],
       "metadata": {},
       "output_type": "display_data",
       "text": [
        "<IPython.core.display.Javascript at 0x1fef1d30>"
       ]
      },
      {
       "javascript": [
        "$('div#ac9b3748-f2b8-4ad2-b9f5-7fcf268e2184').text(' 56%');"
       ],
       "metadata": {},
       "output_type": "display_data",
       "text": [
        "<IPython.core.display.Javascript at 0x1fef1d68>"
       ]
      },
      {
       "javascript": [
        "\n",
        "        var $myPB = $(\"div#6c5259f7-e1ed-4ba1-b229-0767f563f499\")\n",
        "        if ($myPB.hasClass('ui-progressbar')) {\n",
        "            $myPB.progressbar('value', 1155);\n",
        "        } else {\n",
        "            $myPB.progressbar({value: 0, max: 2029});\n",
        "        }\n",
        "        "
       ],
       "metadata": {},
       "output_type": "display_data",
       "text": [
        "<IPython.core.display.Javascript at 0x1fef1c88>"
       ]
      },
      {
       "javascript": [
        "$('div#ce92b8bf-f5a8-4b61-bc65-1bd00a967c02').text('ETA:  0:00:05');"
       ],
       "metadata": {},
       "output_type": "display_data",
       "text": [
        "<IPython.core.display.Javascript at 0x13cb6978>"
       ]
      },
      {
       "javascript": [
        "$('div#a2977324-bd64-4b9a-ba1e-59d856cca4a2').text('1176 of 2029');"
       ],
       "metadata": {},
       "output_type": "display_data",
       "text": [
        "<IPython.core.display.Javascript at 0x1fef1c88>"
       ]
      },
      {
       "javascript": [
        "$('div#ac9b3748-f2b8-4ad2-b9f5-7fcf268e2184').text(' 57%');"
       ],
       "metadata": {},
       "output_type": "display_data",
       "text": [
        "<IPython.core.display.Javascript at 0x1fef1ef0>"
       ]
      },
      {
       "javascript": [
        "\n",
        "        var $myPB = $(\"div#6c5259f7-e1ed-4ba1-b229-0767f563f499\")\n",
        "        if ($myPB.hasClass('ui-progressbar')) {\n",
        "            $myPB.progressbar('value', 1176);\n",
        "        } else {\n",
        "            $myPB.progressbar({value: 0, max: 2029});\n",
        "        }\n",
        "        "
       ],
       "metadata": {},
       "output_type": "display_data",
       "text": [
        "<IPython.core.display.Javascript at 0x1fef1d30>"
       ]
      },
      {
       "javascript": [
        "$('div#ce92b8bf-f5a8-4b61-bc65-1bd00a967c02').text('ETA:  0:00:05');"
       ],
       "metadata": {},
       "output_type": "display_data",
       "text": [
        "<IPython.core.display.Javascript at 0x13cb6978>"
       ]
      },
      {
       "javascript": [
        "$('div#a2977324-bd64-4b9a-ba1e-59d856cca4a2').text('1197 of 2029');"
       ],
       "metadata": {},
       "output_type": "display_data",
       "text": [
        "<IPython.core.display.Javascript at 0x1fef1d30>"
       ]
      },
      {
       "javascript": [
        "$('div#ac9b3748-f2b8-4ad2-b9f5-7fcf268e2184').text(' 58%');"
       ],
       "metadata": {},
       "output_type": "display_data",
       "text": [
        "<IPython.core.display.Javascript at 0x1fef1e48>"
       ]
      },
      {
       "javascript": [
        "\n",
        "        var $myPB = $(\"div#6c5259f7-e1ed-4ba1-b229-0767f563f499\")\n",
        "        if ($myPB.hasClass('ui-progressbar')) {\n",
        "            $myPB.progressbar('value', 1197);\n",
        "        } else {\n",
        "            $myPB.progressbar({value: 0, max: 2029});\n",
        "        }\n",
        "        "
       ],
       "metadata": {},
       "output_type": "display_data",
       "text": [
        "<IPython.core.display.Javascript at 0x13cb6978>"
       ]
      },
      {
       "javascript": [
        "$('div#ce92b8bf-f5a8-4b61-bc65-1bd00a967c02').text('ETA:  0:00:05');"
       ],
       "metadata": {},
       "output_type": "display_data",
       "text": [
        "<IPython.core.display.Javascript at 0x1fef1e48>"
       ]
      },
      {
       "javascript": [
        "$('div#a2977324-bd64-4b9a-ba1e-59d856cca4a2').text('1218 of 2029');"
       ],
       "metadata": {},
       "output_type": "display_data",
       "text": [
        "<IPython.core.display.Javascript at 0x1fef1da0>"
       ]
      },
      {
       "javascript": [
        "$('div#ac9b3748-f2b8-4ad2-b9f5-7fcf268e2184').text(' 60%');"
       ],
       "metadata": {},
       "output_type": "display_data",
       "text": [
        "<IPython.core.display.Javascript at 0x1fef18d0>"
       ]
      },
      {
       "javascript": [
        "\n",
        "        var $myPB = $(\"div#6c5259f7-e1ed-4ba1-b229-0767f563f499\")\n",
        "        if ($myPB.hasClass('ui-progressbar')) {\n",
        "            $myPB.progressbar('value', 1218);\n",
        "        } else {\n",
        "            $myPB.progressbar({value: 0, max: 2029});\n",
        "        }\n",
        "        "
       ],
       "metadata": {},
       "output_type": "display_data",
       "text": [
        "<IPython.core.display.Javascript at 0x13cb6978>"
       ]
      },
      {
       "javascript": [
        "$('div#ce92b8bf-f5a8-4b61-bc65-1bd00a967c02').text('ETA:  0:00:05');"
       ],
       "metadata": {},
       "output_type": "display_data",
       "text": [
        "<IPython.core.display.Javascript at 0x1fef18d0>"
       ]
      },
      {
       "javascript": [
        "$('div#a2977324-bd64-4b9a-ba1e-59d856cca4a2').text('1239 of 2029');"
       ],
       "metadata": {},
       "output_type": "display_data",
       "text": [
        "<IPython.core.display.Javascript at 0x1fef1d68>"
       ]
      },
      {
       "javascript": [
        "$('div#ac9b3748-f2b8-4ad2-b9f5-7fcf268e2184').text(' 61%');"
       ],
       "metadata": {},
       "output_type": "display_data",
       "text": [
        "<IPython.core.display.Javascript at 0x1fef1160>"
       ]
      },
      {
       "javascript": [
        "\n",
        "        var $myPB = $(\"div#6c5259f7-e1ed-4ba1-b229-0767f563f499\")\n",
        "        if ($myPB.hasClass('ui-progressbar')) {\n",
        "            $myPB.progressbar('value', 1239);\n",
        "        } else {\n",
        "            $myPB.progressbar({value: 0, max: 2029});\n",
        "        }\n",
        "        "
       ],
       "metadata": {},
       "output_type": "display_data",
       "text": [
        "<IPython.core.display.Javascript at 0x13cb6978>"
       ]
      },
      {
       "javascript": [
        "$('div#ce92b8bf-f5a8-4b61-bc65-1bd00a967c02').text('ETA:  0:00:04');"
       ],
       "metadata": {},
       "output_type": "display_data",
       "text": [
        "<IPython.core.display.Javascript at 0x1fef1160>"
       ]
      },
      {
       "javascript": [
        "$('div#a2977324-bd64-4b9a-ba1e-59d856cca4a2').text('1260 of 2029');"
       ],
       "metadata": {},
       "output_type": "display_data",
       "text": [
        "<IPython.core.display.Javascript at 0x1fef13c8>"
       ]
      },
      {
       "javascript": [
        "$('div#ac9b3748-f2b8-4ad2-b9f5-7fcf268e2184').text(' 62%');"
       ],
       "metadata": {},
       "output_type": "display_data",
       "text": [
        "<IPython.core.display.Javascript at 0x1fef1e48>"
       ]
      },
      {
       "javascript": [
        "\n",
        "        var $myPB = $(\"div#6c5259f7-e1ed-4ba1-b229-0767f563f499\")\n",
        "        if ($myPB.hasClass('ui-progressbar')) {\n",
        "            $myPB.progressbar('value', 1260);\n",
        "        } else {\n",
        "            $myPB.progressbar({value: 0, max: 2029});\n",
        "        }\n",
        "        "
       ],
       "metadata": {},
       "output_type": "display_data",
       "text": [
        "<IPython.core.display.Javascript at 0x13cb6978>"
       ]
      },
      {
       "javascript": [
        "$('div#ce92b8bf-f5a8-4b61-bc65-1bd00a967c02').text('ETA:  0:00:04');"
       ],
       "metadata": {},
       "output_type": "display_data",
       "text": [
        "<IPython.core.display.Javascript at 0x1fef1e48>"
       ]
      },
      {
       "javascript": [
        "$('div#a2977324-bd64-4b9a-ba1e-59d856cca4a2').text('1281 of 2029');"
       ],
       "metadata": {},
       "output_type": "display_data",
       "text": [
        "<IPython.core.display.Javascript at 0x1fef1d30>"
       ]
      },
      {
       "javascript": [
        "$('div#ac9b3748-f2b8-4ad2-b9f5-7fcf268e2184').text(' 63%');"
       ],
       "metadata": {},
       "output_type": "display_data",
       "text": [
        "<IPython.core.display.Javascript at 0x1fef18d0>"
       ]
      },
      {
       "javascript": [
        "\n",
        "        var $myPB = $(\"div#6c5259f7-e1ed-4ba1-b229-0767f563f499\")\n",
        "        if ($myPB.hasClass('ui-progressbar')) {\n",
        "            $myPB.progressbar('value', 1281);\n",
        "        } else {\n",
        "            $myPB.progressbar({value: 0, max: 2029});\n",
        "        }\n",
        "        "
       ],
       "metadata": {},
       "output_type": "display_data",
       "text": [
        "<IPython.core.display.Javascript at 0x13cb6978>"
       ]
      },
      {
       "javascript": [
        "$('div#ce92b8bf-f5a8-4b61-bc65-1bd00a967c02').text('ETA:  0:00:04');"
       ],
       "metadata": {},
       "output_type": "display_data",
       "text": [
        "<IPython.core.display.Javascript at 0x1fef18d0>"
       ]
      },
      {
       "javascript": [
        "$('div#a2977324-bd64-4b9a-ba1e-59d856cca4a2').text('1302 of 2029');"
       ],
       "metadata": {},
       "output_type": "display_data",
       "text": [
        "<IPython.core.display.Javascript at 0x1fef1a58>"
       ]
      },
      {
       "javascript": [
        "$('div#ac9b3748-f2b8-4ad2-b9f5-7fcf268e2184').text(' 64%');"
       ],
       "metadata": {},
       "output_type": "display_data",
       "text": [
        "<IPython.core.display.Javascript at 0x1fef1160>"
       ]
      },
      {
       "javascript": [
        "\n",
        "        var $myPB = $(\"div#6c5259f7-e1ed-4ba1-b229-0767f563f499\")\n",
        "        if ($myPB.hasClass('ui-progressbar')) {\n",
        "            $myPB.progressbar('value', 1302);\n",
        "        } else {\n",
        "            $myPB.progressbar({value: 0, max: 2029});\n",
        "        }\n",
        "        "
       ],
       "metadata": {},
       "output_type": "display_data",
       "text": [
        "<IPython.core.display.Javascript at 0x13cb6978>"
       ]
      },
      {
       "javascript": [
        "$('div#ce92b8bf-f5a8-4b61-bc65-1bd00a967c02').text('ETA:  0:00:04');"
       ],
       "metadata": {},
       "output_type": "display_data",
       "text": [
        "<IPython.core.display.Javascript at 0x1fef1160>"
       ]
      },
      {
       "javascript": [
        "$('div#a2977324-bd64-4b9a-ba1e-59d856cca4a2').text('1323 of 2029');"
       ],
       "metadata": {},
       "output_type": "display_data",
       "text": [
        "<IPython.core.display.Javascript at 0x1fef1da0>"
       ]
      },
      {
       "javascript": [
        "$('div#ac9b3748-f2b8-4ad2-b9f5-7fcf268e2184').text(' 65%');"
       ],
       "metadata": {},
       "output_type": "display_data",
       "text": [
        "<IPython.core.display.Javascript at 0x13cb6978>"
       ]
      },
      {
       "javascript": [
        "\n",
        "        var $myPB = $(\"div#6c5259f7-e1ed-4ba1-b229-0767f563f499\")\n",
        "        if ($myPB.hasClass('ui-progressbar')) {\n",
        "            $myPB.progressbar('value', 1323);\n",
        "        } else {\n",
        "            $myPB.progressbar({value: 0, max: 2029});\n",
        "        }\n",
        "        "
       ],
       "metadata": {},
       "output_type": "display_data",
       "text": [
        "<IPython.core.display.Javascript at 0x1fef1da0>"
       ]
      },
      {
       "javascript": [
        "$('div#ce92b8bf-f5a8-4b61-bc65-1bd00a967c02').text('ETA:  0:00:04');"
       ],
       "metadata": {},
       "output_type": "display_data",
       "text": [
        "<IPython.core.display.Javascript at 0x1fef1d30>"
       ]
      },
      {
       "javascript": [
        "$('div#a2977324-bd64-4b9a-ba1e-59d856cca4a2').text('1344 of 2029');"
       ],
       "metadata": {},
       "output_type": "display_data",
       "text": [
        "<IPython.core.display.Javascript at 0x1fef13c8>"
       ]
      },
      {
       "javascript": [
        "$('div#ac9b3748-f2b8-4ad2-b9f5-7fcf268e2184').text(' 66%');"
       ],
       "metadata": {},
       "output_type": "display_data",
       "text": [
        "<IPython.core.display.Javascript at 0x13cb6978>"
       ]
      },
      {
       "javascript": [
        "\n",
        "        var $myPB = $(\"div#6c5259f7-e1ed-4ba1-b229-0767f563f499\")\n",
        "        if ($myPB.hasClass('ui-progressbar')) {\n",
        "            $myPB.progressbar('value', 1344);\n",
        "        } else {\n",
        "            $myPB.progressbar({value: 0, max: 2029});\n",
        "        }\n",
        "        "
       ],
       "metadata": {},
       "output_type": "display_data",
       "text": [
        "<IPython.core.display.Javascript at 0x1fef13c8>"
       ]
      },
      {
       "javascript": [
        "$('div#ce92b8bf-f5a8-4b61-bc65-1bd00a967c02').text('ETA:  0:00:04');"
       ],
       "metadata": {},
       "output_type": "display_data",
       "text": [
        "<IPython.core.display.Javascript at 0x1fef1e48>"
       ]
      },
      {
       "javascript": [
        "$('div#a2977324-bd64-4b9a-ba1e-59d856cca4a2').text('1365 of 2029');"
       ],
       "metadata": {},
       "output_type": "display_data",
       "text": [
        "<IPython.core.display.Javascript at 0x1fef1d68>"
       ]
      },
      {
       "javascript": [
        "$('div#ac9b3748-f2b8-4ad2-b9f5-7fcf268e2184').text(' 67%');"
       ],
       "metadata": {},
       "output_type": "display_data",
       "text": [
        "<IPython.core.display.Javascript at 0x13cb6978>"
       ]
      },
      {
       "javascript": [
        "\n",
        "        var $myPB = $(\"div#6c5259f7-e1ed-4ba1-b229-0767f563f499\")\n",
        "        if ($myPB.hasClass('ui-progressbar')) {\n",
        "            $myPB.progressbar('value', 1365);\n",
        "        } else {\n",
        "            $myPB.progressbar({value: 0, max: 2029});\n",
        "        }\n",
        "        "
       ],
       "metadata": {},
       "output_type": "display_data",
       "text": [
        "<IPython.core.display.Javascript at 0x1fef1d68>"
       ]
      },
      {
       "javascript": [
        "$('div#ce92b8bf-f5a8-4b61-bc65-1bd00a967c02').text('ETA:  0:00:04');"
       ],
       "metadata": {},
       "output_type": "display_data",
       "text": [
        "<IPython.core.display.Javascript at 0x1fef1ef0>"
       ]
      },
      {
       "javascript": [
        "$('div#a2977324-bd64-4b9a-ba1e-59d856cca4a2').text('1386 of 2029');"
       ],
       "metadata": {},
       "output_type": "display_data",
       "text": [
        "<IPython.core.display.Javascript at 0x1fef1b70>"
       ]
      },
      {
       "javascript": [
        "$('div#ac9b3748-f2b8-4ad2-b9f5-7fcf268e2184').text(' 68%');"
       ],
       "metadata": {},
       "output_type": "display_data",
       "text": [
        "<IPython.core.display.Javascript at 0x13cb6978>"
       ]
      },
      {
       "javascript": [
        "\n",
        "        var $myPB = $(\"div#6c5259f7-e1ed-4ba1-b229-0767f563f499\")\n",
        "        if ($myPB.hasClass('ui-progressbar')) {\n",
        "            $myPB.progressbar('value', 1386);\n",
        "        } else {\n",
        "            $myPB.progressbar({value: 0, max: 2029});\n",
        "        }\n",
        "        "
       ],
       "metadata": {},
       "output_type": "display_data",
       "text": [
        "<IPython.core.display.Javascript at 0x1fef1b70>"
       ]
      },
      {
       "javascript": [
        "$('div#ce92b8bf-f5a8-4b61-bc65-1bd00a967c02').text('ETA:  0:00:04');"
       ],
       "metadata": {},
       "output_type": "display_data",
       "text": [
        "<IPython.core.display.Javascript at 0x1fef13c8>"
       ]
      },
      {
       "javascript": [
        "$('div#a2977324-bd64-4b9a-ba1e-59d856cca4a2').text('1407 of 2029');"
       ],
       "metadata": {},
       "output_type": "display_data",
       "text": [
        "<IPython.core.display.Javascript at 0x1fef1da0>"
       ]
      },
      {
       "javascript": [
        "$('div#ac9b3748-f2b8-4ad2-b9f5-7fcf268e2184').text(' 69%');"
       ],
       "metadata": {},
       "output_type": "display_data",
       "text": [
        "<IPython.core.display.Javascript at 0x13cb6978>"
       ]
      },
      {
       "javascript": [
        "\n",
        "        var $myPB = $(\"div#6c5259f7-e1ed-4ba1-b229-0767f563f499\")\n",
        "        if ($myPB.hasClass('ui-progressbar')) {\n",
        "            $myPB.progressbar('value', 1407);\n",
        "        } else {\n",
        "            $myPB.progressbar({value: 0, max: 2029});\n",
        "        }\n",
        "        "
       ],
       "metadata": {},
       "output_type": "display_data",
       "text": [
        "<IPython.core.display.Javascript at 0x1fef1da0>"
       ]
      },
      {
       "javascript": [
        "$('div#ce92b8bf-f5a8-4b61-bc65-1bd00a967c02').text('ETA:  0:00:03');"
       ],
       "metadata": {},
       "output_type": "display_data",
       "text": [
        "<IPython.core.display.Javascript at 0x1fef1d30>"
       ]
      },
      {
       "javascript": [
        "$('div#a2977324-bd64-4b9a-ba1e-59d856cca4a2').text('1428 of 2029');"
       ],
       "metadata": {},
       "output_type": "display_data",
       "text": [
        "<IPython.core.display.Javascript at 0x1fef1d68>"
       ]
      },
      {
       "javascript": [
        "$('div#ac9b3748-f2b8-4ad2-b9f5-7fcf268e2184').text(' 70%');"
       ],
       "metadata": {},
       "output_type": "display_data",
       "text": [
        "<IPython.core.display.Javascript at 0x13cb6978>"
       ]
      },
      {
       "javascript": [
        "\n",
        "        var $myPB = $(\"div#6c5259f7-e1ed-4ba1-b229-0767f563f499\")\n",
        "        if ($myPB.hasClass('ui-progressbar')) {\n",
        "            $myPB.progressbar('value', 1428);\n",
        "        } else {\n",
        "            $myPB.progressbar({value: 0, max: 2029});\n",
        "        }\n",
        "        "
       ],
       "metadata": {},
       "output_type": "display_data",
       "text": [
        "<IPython.core.display.Javascript at 0x1fef1d68>"
       ]
      },
      {
       "javascript": [
        "$('div#ce92b8bf-f5a8-4b61-bc65-1bd00a967c02').text('ETA:  0:00:03');"
       ],
       "metadata": {},
       "output_type": "display_data",
       "text": [
        "<IPython.core.display.Javascript at 0x1fef1b70>"
       ]
      },
      {
       "javascript": [
        "$('div#a2977324-bd64-4b9a-ba1e-59d856cca4a2').text('1449 of 2029');"
       ],
       "metadata": {},
       "output_type": "display_data",
       "text": [
        "<IPython.core.display.Javascript at 0x13cb6978>"
       ]
      },
      {
       "javascript": [
        "$('div#ac9b3748-f2b8-4ad2-b9f5-7fcf268e2184').text(' 71%');"
       ],
       "metadata": {},
       "output_type": "display_data",
       "text": [
        "<IPython.core.display.Javascript at 0x1fef1b70>"
       ]
      },
      {
       "javascript": [
        "\n",
        "        var $myPB = $(\"div#6c5259f7-e1ed-4ba1-b229-0767f563f499\")\n",
        "        if ($myPB.hasClass('ui-progressbar')) {\n",
        "            $myPB.progressbar('value', 1449);\n",
        "        } else {\n",
        "            $myPB.progressbar({value: 0, max: 2029});\n",
        "        }\n",
        "        "
       ],
       "metadata": {},
       "output_type": "display_data",
       "text": [
        "<IPython.core.display.Javascript at 0x1fef1d68>"
       ]
      },
      {
       "javascript": [
        "$('div#ce92b8bf-f5a8-4b61-bc65-1bd00a967c02').text('ETA:  0:00:03');"
       ],
       "metadata": {},
       "output_type": "display_data",
       "text": [
        "<IPython.core.display.Javascript at 0x1fef1160>"
       ]
      },
      {
       "javascript": [
        "$('div#a2977324-bd64-4b9a-ba1e-59d856cca4a2').text('1470 of 2029');"
       ],
       "metadata": {},
       "output_type": "display_data",
       "text": [
        "<IPython.core.display.Javascript at 0x13cb6978>"
       ]
      },
      {
       "javascript": [
        "$('div#ac9b3748-f2b8-4ad2-b9f5-7fcf268e2184').text(' 72%');"
       ],
       "metadata": {},
       "output_type": "display_data",
       "text": [
        "<IPython.core.display.Javascript at 0x1fef13c8>"
       ]
      },
      {
       "javascript": [
        "\n",
        "        var $myPB = $(\"div#6c5259f7-e1ed-4ba1-b229-0767f563f499\")\n",
        "        if ($myPB.hasClass('ui-progressbar')) {\n",
        "            $myPB.progressbar('value', 1470);\n",
        "        } else {\n",
        "            $myPB.progressbar({value: 0, max: 2029});\n",
        "        }\n",
        "        "
       ],
       "metadata": {},
       "output_type": "display_data",
       "text": [
        "<IPython.core.display.Javascript at 0x1fef1ef0>"
       ]
      },
      {
       "javascript": [
        "$('div#ce92b8bf-f5a8-4b61-bc65-1bd00a967c02').text('ETA:  0:00:03');"
       ],
       "metadata": {},
       "output_type": "display_data",
       "text": [
        "<IPython.core.display.Javascript at 0x1fef1160>"
       ]
      },
      {
       "javascript": [
        "$('div#a2977324-bd64-4b9a-ba1e-59d856cca4a2').text('1491 of 2029');"
       ],
       "metadata": {},
       "output_type": "display_data",
       "text": [
        "<IPython.core.display.Javascript at 0x13cb6978>"
       ]
      },
      {
       "javascript": [
        "$('div#ac9b3748-f2b8-4ad2-b9f5-7fcf268e2184').text(' 73%');"
       ],
       "metadata": {},
       "output_type": "display_data",
       "text": [
        "<IPython.core.display.Javascript at 0x1fef1160>"
       ]
      },
      {
       "javascript": [
        "\n",
        "        var $myPB = $(\"div#6c5259f7-e1ed-4ba1-b229-0767f563f499\")\n",
        "        if ($myPB.hasClass('ui-progressbar')) {\n",
        "            $myPB.progressbar('value', 1491);\n",
        "        } else {\n",
        "            $myPB.progressbar({value: 0, max: 2029});\n",
        "        }\n",
        "        "
       ],
       "metadata": {},
       "output_type": "display_data",
       "text": [
        "<IPython.core.display.Javascript at 0x1fef18d0>"
       ]
      },
      {
       "javascript": [
        "$('div#ce92b8bf-f5a8-4b61-bc65-1bd00a967c02').text('ETA:  0:00:03');"
       ],
       "metadata": {},
       "output_type": "display_data",
       "text": [
        "<IPython.core.display.Javascript at 0x1fef1b70>"
       ]
      },
      {
       "javascript": [
        "$('div#a2977324-bd64-4b9a-ba1e-59d856cca4a2').text('1512 of 2029');"
       ],
       "metadata": {},
       "output_type": "display_data",
       "text": [
        "<IPython.core.display.Javascript at 0x13cb6978>"
       ]
      },
      {
       "javascript": [
        "$('div#ac9b3748-f2b8-4ad2-b9f5-7fcf268e2184').text(' 74%');"
       ],
       "metadata": {},
       "output_type": "display_data",
       "text": [
        "<IPython.core.display.Javascript at 0x1fef1b70>"
       ]
      },
      {
       "javascript": [
        "\n",
        "        var $myPB = $(\"div#6c5259f7-e1ed-4ba1-b229-0767f563f499\")\n",
        "        if ($myPB.hasClass('ui-progressbar')) {\n",
        "            $myPB.progressbar('value', 1512);\n",
        "        } else {\n",
        "            $myPB.progressbar({value: 0, max: 2029});\n",
        "        }\n",
        "        "
       ],
       "metadata": {},
       "output_type": "display_data",
       "text": [
        "<IPython.core.display.Javascript at 0x1fef1a58>"
       ]
      },
      {
       "javascript": [
        "$('div#ce92b8bf-f5a8-4b61-bc65-1bd00a967c02').text('ETA:  0:00:03');"
       ],
       "metadata": {},
       "output_type": "display_data",
       "text": [
        "<IPython.core.display.Javascript at 0x13cb6978>"
       ]
      },
      {
       "javascript": [
        "$('div#a2977324-bd64-4b9a-ba1e-59d856cca4a2').text('1533 of 2029');"
       ],
       "metadata": {},
       "output_type": "display_data",
       "text": [
        "<IPython.core.display.Javascript at 0x1fef1a58>"
       ]
      },
      {
       "javascript": [
        "$('div#ac9b3748-f2b8-4ad2-b9f5-7fcf268e2184').text(' 75%');"
       ],
       "metadata": {},
       "output_type": "display_data",
       "text": [
        "<IPython.core.display.Javascript at 0x1fef13c8>"
       ]
      },
      {
       "javascript": [
        "\n",
        "        var $myPB = $(\"div#6c5259f7-e1ed-4ba1-b229-0767f563f499\")\n",
        "        if ($myPB.hasClass('ui-progressbar')) {\n",
        "            $myPB.progressbar('value', 1533);\n",
        "        } else {\n",
        "            $myPB.progressbar({value: 0, max: 2029});\n",
        "        }\n",
        "        "
       ],
       "metadata": {},
       "output_type": "display_data",
       "text": [
        "<IPython.core.display.Javascript at 0x1fef1d68>"
       ]
      },
      {
       "javascript": [
        "$('div#ce92b8bf-f5a8-4b61-bc65-1bd00a967c02').text('ETA:  0:00:03');"
       ],
       "metadata": {},
       "output_type": "display_data",
       "text": [
        "<IPython.core.display.Javascript at 0x13cb6978>"
       ]
      },
      {
       "javascript": [
        "$('div#a2977324-bd64-4b9a-ba1e-59d856cca4a2').text('1554 of 2029');"
       ],
       "metadata": {},
       "output_type": "display_data",
       "text": [
        "<IPython.core.display.Javascript at 0x1fef1d68>"
       ]
      },
      {
       "javascript": [
        "$('div#ac9b3748-f2b8-4ad2-b9f5-7fcf268e2184').text(' 76%');"
       ],
       "metadata": {},
       "output_type": "display_data",
       "text": [
        "<IPython.core.display.Javascript at 0x1fef1160>"
       ]
      },
      {
       "javascript": [
        "\n",
        "        var $myPB = $(\"div#6c5259f7-e1ed-4ba1-b229-0767f563f499\")\n",
        "        if ($myPB.hasClass('ui-progressbar')) {\n",
        "            $myPB.progressbar('value', 1554);\n",
        "        } else {\n",
        "            $myPB.progressbar({value: 0, max: 2029});\n",
        "        }\n",
        "        "
       ],
       "metadata": {},
       "output_type": "display_data",
       "text": [
        "<IPython.core.display.Javascript at 0x1fef1e48>"
       ]
      },
      {
       "javascript": [
        "$('div#ce92b8bf-f5a8-4b61-bc65-1bd00a967c02').text('ETA:  0:00:03');"
       ],
       "metadata": {},
       "output_type": "display_data",
       "text": [
        "<IPython.core.display.Javascript at 0x13cb6978>"
       ]
      },
      {
       "javascript": [
        "$('div#a2977324-bd64-4b9a-ba1e-59d856cca4a2').text('1575 of 2029');"
       ],
       "metadata": {},
       "output_type": "display_data",
       "text": [
        "<IPython.core.display.Javascript at 0x1fef1e48>"
       ]
      },
      {
       "javascript": [
        "$('div#ac9b3748-f2b8-4ad2-b9f5-7fcf268e2184').text(' 77%');"
       ],
       "metadata": {},
       "output_type": "display_data",
       "text": [
        "<IPython.core.display.Javascript at 0x1fef1ef0>"
       ]
      },
      {
       "javascript": [
        "\n",
        "        var $myPB = $(\"div#6c5259f7-e1ed-4ba1-b229-0767f563f499\")\n",
        "        if ($myPB.hasClass('ui-progressbar')) {\n",
        "            $myPB.progressbar('value', 1575);\n",
        "        } else {\n",
        "            $myPB.progressbar({value: 0, max: 2029});\n",
        "        }\n",
        "        "
       ],
       "metadata": {},
       "output_type": "display_data",
       "text": [
        "<IPython.core.display.Javascript at 0x1fef1a58>"
       ]
      },
      {
       "javascript": [
        "$('div#ce92b8bf-f5a8-4b61-bc65-1bd00a967c02').text('ETA:  0:00:02');"
       ],
       "metadata": {},
       "output_type": "display_data",
       "text": [
        "<IPython.core.display.Javascript at 0x13cb6978>"
       ]
      },
      {
       "javascript": [
        "$('div#a2977324-bd64-4b9a-ba1e-59d856cca4a2').text('1596 of 2029');"
       ],
       "metadata": {},
       "output_type": "display_data",
       "text": [
        "<IPython.core.display.Javascript at 0x1fef1a58>"
       ]
      },
      {
       "javascript": [
        "$('div#ac9b3748-f2b8-4ad2-b9f5-7fcf268e2184').text(' 78%');"
       ],
       "metadata": {},
       "output_type": "display_data",
       "text": [
        "<IPython.core.display.Javascript at 0x1fef1e48>"
       ]
      },
      {
       "javascript": [
        "\n",
        "        var $myPB = $(\"div#6c5259f7-e1ed-4ba1-b229-0767f563f499\")\n",
        "        if ($myPB.hasClass('ui-progressbar')) {\n",
        "            $myPB.progressbar('value', 1596);\n",
        "        } else {\n",
        "            $myPB.progressbar({value: 0, max: 2029});\n",
        "        }\n",
        "        "
       ],
       "metadata": {},
       "output_type": "display_data",
       "text": [
        "<IPython.core.display.Javascript at 0x13cb6978>"
       ]
      },
      {
       "javascript": [
        "$('div#ce92b8bf-f5a8-4b61-bc65-1bd00a967c02').text('ETA:  0:00:02');"
       ],
       "metadata": {},
       "output_type": "display_data",
       "text": [
        "<IPython.core.display.Javascript at 0x1fef1e48>"
       ]
      },
      {
       "javascript": [
        "$('div#a2977324-bd64-4b9a-ba1e-59d856cca4a2').text('1617 of 2029');"
       ],
       "metadata": {},
       "output_type": "display_data",
       "text": [
        "<IPython.core.display.Javascript at 0x1fef1b70>"
       ]
      },
      {
       "javascript": [
        "$('div#ac9b3748-f2b8-4ad2-b9f5-7fcf268e2184').text(' 79%');"
       ],
       "metadata": {},
       "output_type": "display_data",
       "text": [
        "<IPython.core.display.Javascript at 0x1fef13c8>"
       ]
      },
      {
       "javascript": [
        "\n",
        "        var $myPB = $(\"div#6c5259f7-e1ed-4ba1-b229-0767f563f499\")\n",
        "        if ($myPB.hasClass('ui-progressbar')) {\n",
        "            $myPB.progressbar('value', 1617);\n",
        "        } else {\n",
        "            $myPB.progressbar({value: 0, max: 2029});\n",
        "        }\n",
        "        "
       ],
       "metadata": {},
       "output_type": "display_data",
       "text": [
        "<IPython.core.display.Javascript at 0x13cb6978>"
       ]
      },
      {
       "javascript": [
        "$('div#ce92b8bf-f5a8-4b61-bc65-1bd00a967c02').text('ETA:  0:00:02');"
       ],
       "metadata": {},
       "output_type": "display_data",
       "text": [
        "<IPython.core.display.Javascript at 0x1fef13c8>"
       ]
      },
      {
       "javascript": [
        "$('div#a2977324-bd64-4b9a-ba1e-59d856cca4a2').text('1638 of 2029');"
       ],
       "metadata": {},
       "output_type": "display_data",
       "text": [
        "<IPython.core.display.Javascript at 0x1fef1d68>"
       ]
      },
      {
       "javascript": [
        "$('div#ac9b3748-f2b8-4ad2-b9f5-7fcf268e2184').text(' 80%');"
       ],
       "metadata": {},
       "output_type": "display_data",
       "text": [
        "<IPython.core.display.Javascript at 0x1fef1160>"
       ]
      },
      {
       "javascript": [
        "\n",
        "        var $myPB = $(\"div#6c5259f7-e1ed-4ba1-b229-0767f563f499\")\n",
        "        if ($myPB.hasClass('ui-progressbar')) {\n",
        "            $myPB.progressbar('value', 1638);\n",
        "        } else {\n",
        "            $myPB.progressbar({value: 0, max: 2029});\n",
        "        }\n",
        "        "
       ],
       "metadata": {},
       "output_type": "display_data",
       "text": [
        "<IPython.core.display.Javascript at 0x13cb6978>"
       ]
      },
      {
       "javascript": [
        "$('div#ce92b8bf-f5a8-4b61-bc65-1bd00a967c02').text('ETA:  0:00:02');"
       ],
       "metadata": {},
       "output_type": "display_data",
       "text": [
        "<IPython.core.display.Javascript at 0x1fef1160>"
       ]
      },
      {
       "javascript": [
        "$('div#a2977324-bd64-4b9a-ba1e-59d856cca4a2').text('1659 of 2029');"
       ],
       "metadata": {},
       "output_type": "display_data",
       "text": [
        "<IPython.core.display.Javascript at 0x1fef18d0>"
       ]
      },
      {
       "javascript": [
        "$('div#ac9b3748-f2b8-4ad2-b9f5-7fcf268e2184').text(' 81%');"
       ],
       "metadata": {},
       "output_type": "display_data",
       "text": [
        "<IPython.core.display.Javascript at 0x1fef1e48>"
       ]
      },
      {
       "javascript": [
        "\n",
        "        var $myPB = $(\"div#6c5259f7-e1ed-4ba1-b229-0767f563f499\")\n",
        "        if ($myPB.hasClass('ui-progressbar')) {\n",
        "            $myPB.progressbar('value', 1659);\n",
        "        } else {\n",
        "            $myPB.progressbar({value: 0, max: 2029});\n",
        "        }\n",
        "        "
       ],
       "metadata": {},
       "output_type": "display_data",
       "text": [
        "<IPython.core.display.Javascript at 0x13cb6978>"
       ]
      },
      {
       "javascript": [
        "$('div#ce92b8bf-f5a8-4b61-bc65-1bd00a967c02').text('ETA:  0:00:02');"
       ],
       "metadata": {},
       "output_type": "display_data",
       "text": [
        "<IPython.core.display.Javascript at 0x1fef1e48>"
       ]
      },
      {
       "javascript": [
        "$('div#a2977324-bd64-4b9a-ba1e-59d856cca4a2').text('1680 of 2029');"
       ],
       "metadata": {},
       "output_type": "display_data",
       "text": [
        "<IPython.core.display.Javascript at 0x1fef1a58>"
       ]
      },
      {
       "javascript": [
        "$('div#ac9b3748-f2b8-4ad2-b9f5-7fcf268e2184').text(' 82%');"
       ],
       "metadata": {},
       "output_type": "display_data",
       "text": [
        "<IPython.core.display.Javascript at 0x1fef1160>"
       ]
      },
      {
       "javascript": [
        "\n",
        "        var $myPB = $(\"div#6c5259f7-e1ed-4ba1-b229-0767f563f499\")\n",
        "        if ($myPB.hasClass('ui-progressbar')) {\n",
        "            $myPB.progressbar('value', 1680);\n",
        "        } else {\n",
        "            $myPB.progressbar({value: 0, max: 2029});\n",
        "        }\n",
        "        "
       ],
       "metadata": {},
       "output_type": "display_data",
       "text": [
        "<IPython.core.display.Javascript at 0x13cb6978>"
       ]
      },
      {
       "javascript": [
        "$('div#ce92b8bf-f5a8-4b61-bc65-1bd00a967c02').text('ETA:  0:00:02');"
       ],
       "metadata": {},
       "output_type": "display_data",
       "text": [
        "<IPython.core.display.Javascript at 0x1fef1160>"
       ]
      },
      {
       "javascript": [
        "$('div#a2977324-bd64-4b9a-ba1e-59d856cca4a2').text('1701 of 2029');"
       ],
       "metadata": {},
       "output_type": "display_data",
       "text": [
        "<IPython.core.display.Javascript at 0x1fef13c8>"
       ]
      },
      {
       "javascript": [
        "$('div#ac9b3748-f2b8-4ad2-b9f5-7fcf268e2184').text(' 83%');"
       ],
       "metadata": {},
       "output_type": "display_data",
       "text": [
        "<IPython.core.display.Javascript at 0x13cb6978>"
       ]
      },
      {
       "javascript": [
        "\n",
        "        var $myPB = $(\"div#6c5259f7-e1ed-4ba1-b229-0767f563f499\")\n",
        "        if ($myPB.hasClass('ui-progressbar')) {\n",
        "            $myPB.progressbar('value', 1701);\n",
        "        } else {\n",
        "            $myPB.progressbar({value: 0, max: 2029});\n",
        "        }\n",
        "        "
       ],
       "metadata": {},
       "output_type": "display_data",
       "text": [
        "<IPython.core.display.Javascript at 0x1fef13c8>"
       ]
      },
      {
       "javascript": [
        "$('div#ce92b8bf-f5a8-4b61-bc65-1bd00a967c02').text('ETA:  0:00:02');"
       ],
       "metadata": {},
       "output_type": "display_data",
       "text": [
        "<IPython.core.display.Javascript at 0x1fef18d0>"
       ]
      },
      {
       "javascript": [
        "$('div#a2977324-bd64-4b9a-ba1e-59d856cca4a2').text('1722 of 2029');"
       ],
       "metadata": {},
       "output_type": "display_data",
       "text": [
        "<IPython.core.display.Javascript at 0x1fef1d68>"
       ]
      },
      {
       "javascript": [
        "$('div#ac9b3748-f2b8-4ad2-b9f5-7fcf268e2184').text(' 84%');"
       ],
       "metadata": {},
       "output_type": "display_data",
       "text": [
        "<IPython.core.display.Javascript at 0x13cb6978>"
       ]
      },
      {
       "javascript": [
        "\n",
        "        var $myPB = $(\"div#6c5259f7-e1ed-4ba1-b229-0767f563f499\")\n",
        "        if ($myPB.hasClass('ui-progressbar')) {\n",
        "            $myPB.progressbar('value', 1722);\n",
        "        } else {\n",
        "            $myPB.progressbar({value: 0, max: 2029});\n",
        "        }\n",
        "        "
       ],
       "metadata": {},
       "output_type": "display_data",
       "text": [
        "<IPython.core.display.Javascript at 0x1fef1d68>"
       ]
      },
      {
       "javascript": [
        "$('div#ce92b8bf-f5a8-4b61-bc65-1bd00a967c02').text('ETA:  0:00:01');"
       ],
       "metadata": {},
       "output_type": "display_data",
       "text": [
        "<IPython.core.display.Javascript at 0x1fef1b70>"
       ]
      },
      {
       "javascript": [
        "$('div#a2977324-bd64-4b9a-ba1e-59d856cca4a2').text('1743 of 2029');"
       ],
       "metadata": {},
       "output_type": "display_data",
       "text": [
        "<IPython.core.display.Javascript at 0x1fef1ef0>"
       ]
      },
      {
       "javascript": [
        "$('div#ac9b3748-f2b8-4ad2-b9f5-7fcf268e2184').text(' 85%');"
       ],
       "metadata": {},
       "output_type": "display_data",
       "text": [
        "<IPython.core.display.Javascript at 0x13cb6978>"
       ]
      },
      {
       "javascript": [
        "\n",
        "        var $myPB = $(\"div#6c5259f7-e1ed-4ba1-b229-0767f563f499\")\n",
        "        if ($myPB.hasClass('ui-progressbar')) {\n",
        "            $myPB.progressbar('value', 1743);\n",
        "        } else {\n",
        "            $myPB.progressbar({value: 0, max: 2029});\n",
        "        }\n",
        "        "
       ],
       "metadata": {},
       "output_type": "display_data",
       "text": [
        "<IPython.core.display.Javascript at 0x1fef1ef0>"
       ]
      },
      {
       "javascript": [
        "$('div#ce92b8bf-f5a8-4b61-bc65-1bd00a967c02').text('ETA:  0:00:01');"
       ],
       "metadata": {},
       "output_type": "display_data",
       "text": [
        "<IPython.core.display.Javascript at 0x1fef1d30>"
       ]
      },
      {
       "javascript": [
        "$('div#a2977324-bd64-4b9a-ba1e-59d856cca4a2').text('1764 of 2029');"
       ],
       "metadata": {},
       "output_type": "display_data",
       "text": [
        "<IPython.core.display.Javascript at 0x1fef13c8>"
       ]
      },
      {
       "javascript": [
        "$('div#ac9b3748-f2b8-4ad2-b9f5-7fcf268e2184').text(' 86%');"
       ],
       "metadata": {},
       "output_type": "display_data",
       "text": [
        "<IPython.core.display.Javascript at 0x13cb6978>"
       ]
      },
      {
       "javascript": [
        "\n",
        "        var $myPB = $(\"div#6c5259f7-e1ed-4ba1-b229-0767f563f499\")\n",
        "        if ($myPB.hasClass('ui-progressbar')) {\n",
        "            $myPB.progressbar('value', 1764);\n",
        "        } else {\n",
        "            $myPB.progressbar({value: 0, max: 2029});\n",
        "        }\n",
        "        "
       ],
       "metadata": {},
       "output_type": "display_data",
       "text": [
        "<IPython.core.display.Javascript at 0x1fef13c8>"
       ]
      },
      {
       "javascript": [
        "$('div#ce92b8bf-f5a8-4b61-bc65-1bd00a967c02').text('ETA:  0:00:01');"
       ],
       "metadata": {},
       "output_type": "display_data",
       "text": [
        "<IPython.core.display.Javascript at 0x1fef1160>"
       ]
      },
      {
       "javascript": [
        "$('div#a2977324-bd64-4b9a-ba1e-59d856cca4a2').text('1785 of 2029');"
       ],
       "metadata": {},
       "output_type": "display_data",
       "text": [
        "<IPython.core.display.Javascript at 0x1fef1c88>"
       ]
      },
      {
       "javascript": [
        "$('div#ac9b3748-f2b8-4ad2-b9f5-7fcf268e2184').text(' 87%');"
       ],
       "metadata": {},
       "output_type": "display_data",
       "text": [
        "<IPython.core.display.Javascript at 0x13cb6978>"
       ]
      },
      {
       "javascript": [
        "\n",
        "        var $myPB = $(\"div#6c5259f7-e1ed-4ba1-b229-0767f563f499\")\n",
        "        if ($myPB.hasClass('ui-progressbar')) {\n",
        "            $myPB.progressbar('value', 1785);\n",
        "        } else {\n",
        "            $myPB.progressbar({value: 0, max: 2029});\n",
        "        }\n",
        "        "
       ],
       "metadata": {},
       "output_type": "display_data",
       "text": [
        "<IPython.core.display.Javascript at 0x1fef1ef0>"
       ]
      },
      {
       "javascript": [
        "$('div#ce92b8bf-f5a8-4b61-bc65-1bd00a967c02').text('ETA:  0:00:01');"
       ],
       "metadata": {},
       "output_type": "display_data",
       "text": [
        "<IPython.core.display.Javascript at 0x1fef18d0>"
       ]
      },
      {
       "javascript": [
        "$('div#a2977324-bd64-4b9a-ba1e-59d856cca4a2').text('1806 of 2029');"
       ],
       "metadata": {},
       "output_type": "display_data",
       "text": [
        "<IPython.core.display.Javascript at 0x13cb6978>"
       ]
      },
      {
       "javascript": [
        "$('div#ac9b3748-f2b8-4ad2-b9f5-7fcf268e2184').text(' 89%');"
       ],
       "metadata": {},
       "output_type": "display_data",
       "text": [
        "<IPython.core.display.Javascript at 0x1fef13c8>"
       ]
      },
      {
       "javascript": [
        "\n",
        "        var $myPB = $(\"div#6c5259f7-e1ed-4ba1-b229-0767f563f499\")\n",
        "        if ($myPB.hasClass('ui-progressbar')) {\n",
        "            $myPB.progressbar('value', 1806);\n",
        "        } else {\n",
        "            $myPB.progressbar({value: 0, max: 2029});\n",
        "        }\n",
        "        "
       ],
       "metadata": {},
       "output_type": "display_data",
       "text": [
        "<IPython.core.display.Javascript at 0x1fef1b70>"
       ]
      },
      {
       "javascript": [
        "$('div#ce92b8bf-f5a8-4b61-bc65-1bd00a967c02').text('ETA:  0:00:01');"
       ],
       "metadata": {},
       "output_type": "display_data",
       "text": [
        "<IPython.core.display.Javascript at 0x1fef1d68>"
       ]
      },
      {
       "javascript": [
        "$('div#a2977324-bd64-4b9a-ba1e-59d856cca4a2').text('1827 of 2029');"
       ],
       "metadata": {},
       "output_type": "display_data",
       "text": [
        "<IPython.core.display.Javascript at 0x13cb6978>"
       ]
      },
      {
       "javascript": [
        "$('div#ac9b3748-f2b8-4ad2-b9f5-7fcf268e2184').text(' 90%');"
       ],
       "metadata": {},
       "output_type": "display_data",
       "text": [
        "<IPython.core.display.Javascript at 0x1fef1ef0>"
       ]
      },
      {
       "javascript": [
        "\n",
        "        var $myPB = $(\"div#6c5259f7-e1ed-4ba1-b229-0767f563f499\")\n",
        "        if ($myPB.hasClass('ui-progressbar')) {\n",
        "            $myPB.progressbar('value', 1827);\n",
        "        } else {\n",
        "            $myPB.progressbar({value: 0, max: 2029});\n",
        "        }\n",
        "        "
       ],
       "metadata": {},
       "output_type": "display_data",
       "text": [
        "<IPython.core.display.Javascript at 0x1fef1d30>"
       ]
      },
      {
       "javascript": [
        "$('div#ce92b8bf-f5a8-4b61-bc65-1bd00a967c02').text('ETA:  0:00:01');"
       ],
       "metadata": {},
       "output_type": "display_data",
       "text": [
        "<IPython.core.display.Javascript at 0x1fef1d68>"
       ]
      },
      {
       "javascript": [
        "$('div#a2977324-bd64-4b9a-ba1e-59d856cca4a2').text('1848 of 2029');"
       ],
       "metadata": {},
       "output_type": "display_data",
       "text": [
        "<IPython.core.display.Javascript at 0x13cb6978>"
       ]
      },
      {
       "javascript": [
        "$('div#ac9b3748-f2b8-4ad2-b9f5-7fcf268e2184').text(' 91%');"
       ],
       "metadata": {},
       "output_type": "display_data",
       "text": [
        "<IPython.core.display.Javascript at 0x1fef1d30>"
       ]
      },
      {
       "javascript": [
        "\n",
        "        var $myPB = $(\"div#6c5259f7-e1ed-4ba1-b229-0767f563f499\")\n",
        "        if ($myPB.hasClass('ui-progressbar')) {\n",
        "            $myPB.progressbar('value', 1848);\n",
        "        } else {\n",
        "            $myPB.progressbar({value: 0, max: 2029});\n",
        "        }\n",
        "        "
       ],
       "metadata": {},
       "output_type": "display_data",
       "text": [
        "<IPython.core.display.Javascript at 0x1fef13c8>"
       ]
      },
      {
       "javascript": [
        "$('div#ce92b8bf-f5a8-4b61-bc65-1bd00a967c02').text('ETA:  0:00:01');"
       ],
       "metadata": {},
       "output_type": "display_data",
       "text": [
        "<IPython.core.display.Javascript at 0x1fef1d68>"
       ]
      },
      {
       "javascript": [
        "$('div#a2977324-bd64-4b9a-ba1e-59d856cca4a2').text('1869 of 2029');"
       ],
       "metadata": {},
       "output_type": "display_data",
       "text": [
        "<IPython.core.display.Javascript at 0x13cb6978>"
       ]
      },
      {
       "javascript": [
        "$('div#ac9b3748-f2b8-4ad2-b9f5-7fcf268e2184').text(' 92%');"
       ],
       "metadata": {},
       "output_type": "display_data",
       "text": [
        "<IPython.core.display.Javascript at 0x1fef18d0>"
       ]
      },
      {
       "javascript": [
        "\n",
        "        var $myPB = $(\"div#6c5259f7-e1ed-4ba1-b229-0767f563f499\")\n",
        "        if ($myPB.hasClass('ui-progressbar')) {\n",
        "            $myPB.progressbar('value', 1869);\n",
        "        } else {\n",
        "            $myPB.progressbar({value: 0, max: 2029});\n",
        "        }\n",
        "        "
       ],
       "metadata": {},
       "output_type": "display_data",
       "text": [
        "<IPython.core.display.Javascript at 0x1fef1d68>"
       ]
      },
      {
       "javascript": [
        "$('div#ce92b8bf-f5a8-4b61-bc65-1bd00a967c02').text('ETA:  0:00:01');"
       ],
       "metadata": {},
       "output_type": "display_data",
       "text": [
        "<IPython.core.display.Javascript at 0x1fef1ef0>"
       ]
      },
      {
       "javascript": [
        "$('div#a2977324-bd64-4b9a-ba1e-59d856cca4a2').text('1890 of 2029');"
       ],
       "metadata": {},
       "output_type": "display_data",
       "text": [
        "<IPython.core.display.Javascript at 0x13cb6978>"
       ]
      },
      {
       "javascript": [
        "$('div#ac9b3748-f2b8-4ad2-b9f5-7fcf268e2184').text(' 93%');"
       ],
       "metadata": {},
       "output_type": "display_data",
       "text": [
        "<IPython.core.display.Javascript at 0x1fef1ef0>"
       ]
      },
      {
       "javascript": [
        "\n",
        "        var $myPB = $(\"div#6c5259f7-e1ed-4ba1-b229-0767f563f499\")\n",
        "        if ($myPB.hasClass('ui-progressbar')) {\n",
        "            $myPB.progressbar('value', 1890);\n",
        "        } else {\n",
        "            $myPB.progressbar({value: 0, max: 2029});\n",
        "        }\n",
        "        "
       ],
       "metadata": {},
       "output_type": "display_data",
       "text": [
        "<IPython.core.display.Javascript at 0x1fef1b70>"
       ]
      },
      {
       "javascript": [
        "$('div#ce92b8bf-f5a8-4b61-bc65-1bd00a967c02').text('ETA:  0:00:00');"
       ],
       "metadata": {},
       "output_type": "display_data",
       "text": [
        "<IPython.core.display.Javascript at 0x1fef1d30>"
       ]
      },
      {
       "javascript": [
        "$('div#a2977324-bd64-4b9a-ba1e-59d856cca4a2').text('1911 of 2029');"
       ],
       "metadata": {},
       "output_type": "display_data",
       "text": [
        "<IPython.core.display.Javascript at 0x13cb6978>"
       ]
      },
      {
       "javascript": [
        "$('div#ac9b3748-f2b8-4ad2-b9f5-7fcf268e2184').text(' 94%');"
       ],
       "metadata": {},
       "output_type": "display_data",
       "text": [
        "<IPython.core.display.Javascript at 0x1fef18d0>"
       ]
      },
      {
       "javascript": [
        "\n",
        "        var $myPB = $(\"div#6c5259f7-e1ed-4ba1-b229-0767f563f499\")\n",
        "        if ($myPB.hasClass('ui-progressbar')) {\n",
        "            $myPB.progressbar('value', 1911);\n",
        "        } else {\n",
        "            $myPB.progressbar({value: 0, max: 2029});\n",
        "        }\n",
        "        "
       ],
       "metadata": {},
       "output_type": "display_data",
       "text": [
        "<IPython.core.display.Javascript at 0x1fef1c88>"
       ]
      },
      {
       "javascript": [
        "$('div#ce92b8bf-f5a8-4b61-bc65-1bd00a967c02').text('ETA:  0:00:00');"
       ],
       "metadata": {},
       "output_type": "display_data",
       "text": [
        "<IPython.core.display.Javascript at 0x1fef1d30>"
       ]
      },
      {
       "javascript": [
        "$('div#a2977324-bd64-4b9a-ba1e-59d856cca4a2').text('1932 of 2029');"
       ],
       "metadata": {},
       "output_type": "display_data",
       "text": [
        "<IPython.core.display.Javascript at 0x13cb6978>"
       ]
      },
      {
       "javascript": [
        "$('div#ac9b3748-f2b8-4ad2-b9f5-7fcf268e2184').text(' 95%');"
       ],
       "metadata": {},
       "output_type": "display_data",
       "text": [
        "<IPython.core.display.Javascript at 0x1fef1ef0>"
       ]
      },
      {
       "javascript": [
        "\n",
        "        var $myPB = $(\"div#6c5259f7-e1ed-4ba1-b229-0767f563f499\")\n",
        "        if ($myPB.hasClass('ui-progressbar')) {\n",
        "            $myPB.progressbar('value', 1932);\n",
        "        } else {\n",
        "            $myPB.progressbar({value: 0, max: 2029});\n",
        "        }\n",
        "        "
       ],
       "metadata": {},
       "output_type": "display_data",
       "text": [
        "<IPython.core.display.Javascript at 0x1fef1a58>"
       ]
      },
      {
       "javascript": [
        "$('div#ce92b8bf-f5a8-4b61-bc65-1bd00a967c02').text('ETA:  0:00:00');"
       ],
       "metadata": {},
       "output_type": "display_data",
       "text": [
        "<IPython.core.display.Javascript at 0x13cb6978>"
       ]
      },
      {
       "javascript": [
        "$('div#a2977324-bd64-4b9a-ba1e-59d856cca4a2').text('1953 of 2029');"
       ],
       "metadata": {},
       "output_type": "display_data",
       "text": [
        "<IPython.core.display.Javascript at 0x1fef1a58>"
       ]
      },
      {
       "javascript": [
        "$('div#ac9b3748-f2b8-4ad2-b9f5-7fcf268e2184').text(' 96%');"
       ],
       "metadata": {},
       "output_type": "display_data",
       "text": [
        "<IPython.core.display.Javascript at 0x1fef1d68>"
       ]
      },
      {
       "javascript": [
        "\n",
        "        var $myPB = $(\"div#6c5259f7-e1ed-4ba1-b229-0767f563f499\")\n",
        "        if ($myPB.hasClass('ui-progressbar')) {\n",
        "            $myPB.progressbar('value', 1953);\n",
        "        } else {\n",
        "            $myPB.progressbar({value: 0, max: 2029});\n",
        "        }\n",
        "        "
       ],
       "metadata": {},
       "output_type": "display_data",
       "text": [
        "<IPython.core.display.Javascript at 0x1fef1d30>"
       ]
      },
      {
       "javascript": [
        "$('div#ce92b8bf-f5a8-4b61-bc65-1bd00a967c02').text('ETA:  0:00:00');"
       ],
       "metadata": {},
       "output_type": "display_data",
       "text": [
        "<IPython.core.display.Javascript at 0x13cb6978>"
       ]
      },
      {
       "javascript": [
        "$('div#a2977324-bd64-4b9a-ba1e-59d856cca4a2').text('1974 of 2029');"
       ],
       "metadata": {},
       "output_type": "display_data",
       "text": [
        "<IPython.core.display.Javascript at 0x1fef1d30>"
       ]
      },
      {
       "javascript": [
        "$('div#ac9b3748-f2b8-4ad2-b9f5-7fcf268e2184').text(' 97%');"
       ],
       "metadata": {},
       "output_type": "display_data",
       "text": [
        "<IPython.core.display.Javascript at 0x1fef1160>"
       ]
      },
      {
       "javascript": [
        "\n",
        "        var $myPB = $(\"div#6c5259f7-e1ed-4ba1-b229-0767f563f499\")\n",
        "        if ($myPB.hasClass('ui-progressbar')) {\n",
        "            $myPB.progressbar('value', 1974);\n",
        "        } else {\n",
        "            $myPB.progressbar({value: 0, max: 2029});\n",
        "        }\n",
        "        "
       ],
       "metadata": {},
       "output_type": "display_data",
       "text": [
        "<IPython.core.display.Javascript at 0x1fef18d0>"
       ]
      },
      {
       "javascript": [
        "$('div#ce92b8bf-f5a8-4b61-bc65-1bd00a967c02').text('ETA:  0:00:00');"
       ],
       "metadata": {},
       "output_type": "display_data",
       "text": [
        "<IPython.core.display.Javascript at 0x13cb6978>"
       ]
      },
      {
       "javascript": [
        "$('div#a2977324-bd64-4b9a-ba1e-59d856cca4a2').text('1995 of 2029');"
       ],
       "metadata": {},
       "output_type": "display_data",
       "text": [
        "<IPython.core.display.Javascript at 0x1fef18d0>"
       ]
      },
      {
       "javascript": [
        "$('div#ac9b3748-f2b8-4ad2-b9f5-7fcf268e2184').text(' 98%');"
       ],
       "metadata": {},
       "output_type": "display_data",
       "text": [
        "<IPython.core.display.Javascript at 0x1fef1b70>"
       ]
      },
      {
       "javascript": [
        "\n",
        "        var $myPB = $(\"div#6c5259f7-e1ed-4ba1-b229-0767f563f499\")\n",
        "        if ($myPB.hasClass('ui-progressbar')) {\n",
        "            $myPB.progressbar('value', 1995);\n",
        "        } else {\n",
        "            $myPB.progressbar({value: 0, max: 2029});\n",
        "        }\n",
        "        "
       ],
       "metadata": {},
       "output_type": "display_data",
       "text": [
        "<IPython.core.display.Javascript at 0x1fef1a58>"
       ]
      },
      {
       "javascript": [
        "$('div#ce92b8bf-f5a8-4b61-bc65-1bd00a967c02').text('ETA:  0:00:00');"
       ],
       "metadata": {},
       "output_type": "display_data",
       "text": [
        "<IPython.core.display.Javascript at 0x13cb6978>"
       ]
      },
      {
       "javascript": [
        "$('div#a2977324-bd64-4b9a-ba1e-59d856cca4a2').text('2016 of 2029');"
       ],
       "metadata": {},
       "output_type": "display_data",
       "text": [
        "<IPython.core.display.Javascript at 0x1fef1a58>"
       ]
      },
      {
       "javascript": [
        "$('div#ac9b3748-f2b8-4ad2-b9f5-7fcf268e2184').text(' 99%');"
       ],
       "metadata": {},
       "output_type": "display_data",
       "text": [
        "<IPython.core.display.Javascript at 0x1fef18d0>"
       ]
      },
      {
       "javascript": [
        "\n",
        "        var $myPB = $(\"div#6c5259f7-e1ed-4ba1-b229-0767f563f499\")\n",
        "        if ($myPB.hasClass('ui-progressbar')) {\n",
        "            $myPB.progressbar('value', 2016);\n",
        "        } else {\n",
        "            $myPB.progressbar({value: 0, max: 2029});\n",
        "        }\n",
        "        "
       ],
       "metadata": {},
       "output_type": "display_data",
       "text": [
        "<IPython.core.display.Javascript at 0x1fef1d30>"
       ]
      },
      {
       "javascript": [
        "$('div#ce92b8bf-f5a8-4b61-bc65-1bd00a967c02').text('ETA:  0:00:00');"
       ],
       "metadata": {},
       "output_type": "display_data",
       "text": [
        "<IPython.core.display.Javascript at 0x13cb6978>"
       ]
      },
      {
       "javascript": [
        "$('div#a2977324-bd64-4b9a-ba1e-59d856cca4a2').text('2029 of 2029');"
       ],
       "metadata": {},
       "output_type": "display_data",
       "text": [
        "<IPython.core.display.Javascript at 0x13cb6048>"
       ]
      },
      {
       "javascript": [
        "$('div#ac9b3748-f2b8-4ad2-b9f5-7fcf268e2184').text('100%');"
       ],
       "metadata": {},
       "output_type": "display_data",
       "text": [
        "<IPython.core.display.Javascript at 0x1fef1d30>"
       ]
      },
      {
       "javascript": [
        "\n",
        "        var $myPB = $(\"div#6c5259f7-e1ed-4ba1-b229-0767f563f499\")\n",
        "        if ($myPB.hasClass('ui-progressbar')) {\n",
        "            $myPB.progressbar('value', 2029);\n",
        "        } else {\n",
        "            $myPB.progressbar({value: 0, max: 2029});\n",
        "        }\n",
        "        "
       ],
       "metadata": {},
       "output_type": "display_data",
       "text": [
        "<IPython.core.display.Javascript at 0x13cb6048>"
       ]
      },
      {
       "javascript": [
        "$('div#ce92b8bf-f5a8-4b61-bc65-1bd00a967c02').text('Time: 0:00:12');"
       ],
       "metadata": {},
       "output_type": "display_data",
       "text": [
        "<IPython.core.display.Javascript at 0x13cb6978>"
       ]
      },
      {
       "javascript": [
        "var element = document.getElementById('975d17cc-b5b9-4385-b94a-cf5d8d5ca701');\n",
        "                    var parent = element.parentNode\n",
        "                    parent.removeChild(element);\n",
        "                    parent.parentElement.remove();"
       ],
       "metadata": {},
       "output_type": "display_data",
       "text": [
        "<IPython.core.display.Javascript at 0x124ea080>"
       ]
      },
      {
       "javascript": [
        "this.cleanProgressBar(['975d17cc-b5b9-4385-b94a-cf5d8d5ca701', 'a2977324-bd64-4b9a-ba1e-59d856cca4a2', 'ac9b3748-f2b8-4ad2-b9f5-7fcf268e2184', '6c5259f7-e1ed-4ba1-b229-0767f563f499', 'ce92b8bf-f5a8-4b61-bc65-1bd00a967c02'])"
       ],
       "metadata": {},
       "output_type": "display_data",
       "text": [
        "<IPython.core.display.Javascript at 0x124dce80>"
       ]
      },
      {
       "output_type": "stream",
       "stream": "stdout",
       "text": [
        "get_ner_entities_list() Started...\n",
        "get_ner_entities_list() DONE!\n",
        "get_ner_countries() Started...\n",
        "get_filtered_countries() Started...\n",
        "get_filtered_countries() DONE!"
       ]
      },
      {
       "output_type": "stream",
       "stream": "stdout",
       "text": [
        "\n",
        "get_filtered_countries() Started...\n",
        "get_filtered_countries() DONE!\n",
        "get_ner_countries() DONE!\n",
        "get_ner_organizations() Started...\n",
        "get_ner_organizations() DONE!"
       ]
      },
      {
       "output_type": "stream",
       "stream": "stdout",
       "text": [
        "\n"
       ]
      },
      {
       "html": [
        "<div style=\"max-height:1000px;max-width:1500px;overflow:auto;\">\n",
        "<table border=\"1\" class=\"dataframe\">\n",
        "  <thead>\n",
        "    <tr style=\"text-align: right;\">\n",
        "      <th></th>\n",
        "      <th>NChunks (Filtered) phrase</th>\n",
        "      <th>NChunks (Filtered) frequency</th>\n",
        "      <th>Organizations phrase</th>\n",
        "      <th>Organizations frequency</th>\n",
        "      <th>Countries phrase</th>\n",
        "      <th>Countries frequency</th>\n",
        "    </tr>\n",
        "  </thead>\n",
        "  <tbody>\n",
        "    <tr>\n",
        "      <th>1 </th>\n",
        "      <td>                         Congo</td>\n",
        "      <td> 14</td>\n",
        "      <td>                 General Assembly</td>\n",
        "      <td> 6</td>\n",
        "      <td> Democratic</td>\n",
        "      <td> 37</td>\n",
        "    </tr>\n",
        "    <tr>\n",
        "      <th>2 </th>\n",
        "      <td>           Government of Nepal</td>\n",
        "      <td>  5</td>\n",
        "      <td>                     Commissioner</td>\n",
        "      <td> 4</td>\n",
        "      <td>     Russia</td>\n",
        "      <td> 34</td>\n",
        "    </tr>\n",
        "    <tr>\n",
        "      <th>3 </th>\n",
        "      <td>               Paragraphs Page</td>\n",
        "      <td>  5</td>\n",
        "      <td>                High Commissioner</td>\n",
        "      <td> 4</td>\n",
        "      <td>    Russian</td>\n",
        "      <td> 34</td>\n",
        "    </tr>\n",
        "    <tr>\n",
        "      <th>4 </th>\n",
        "      <td>  Libyan Arab Jamahiriya Nepal</td>\n",
        "      <td>  4</td>\n",
        "      <td>            Commission of Inquiry</td>\n",
        "      <td> 3</td>\n",
        "      <td>    Algeria</td>\n",
        "      <td> 33</td>\n",
        "    </tr>\n",
        "    <tr>\n",
        "      <th>5 </th>\n",
        "      <td>                         Nepal</td>\n",
        "      <td>  4</td>\n",
        "      <td>         International Commission</td>\n",
        "      <td> 3</td>\n",
        "      <td>      India</td>\n",
        "      <td> 31</td>\n",
        "    </tr>\n",
        "    <tr>\n",
        "      <th>6 </th>\n",
        "      <td>                  Lao People's</td>\n",
        "      <td>  3</td>\n",
        "      <td>              National Commission</td>\n",
        "      <td> 2</td>\n",
        "      <td>   Colombia</td>\n",
        "      <td> 28</td>\n",
        "    </tr>\n",
        "    <tr>\n",
        "      <th>7 </th>\n",
        "      <td>                   Libyan Arab</td>\n",
        "      <td>  3</td>\n",
        "      <td> National Consultative Commission</td>\n",
        "      <td> 2</td>\n",
        "      <td>     United</td>\n",
        "      <td> 23</td>\n",
        "    </tr>\n",
        "    <tr>\n",
        "      <th>8 </th>\n",
        "      <td>        Lord's Resistance Army</td>\n",
        "      <td>  3</td>\n",
        "      <td>            United Nations Office</td>\n",
        "      <td> 2</td>\n",
        "      <td>      Sudan</td>\n",
        "      <td> 22</td>\n",
        "    </tr>\n",
        "    <tr>\n",
        "      <th>9 </th>\n",
        "      <td>        disappearance in Nepal</td>\n",
        "      <td>  3</td>\n",
        "      <td>  United Nations Office at Geneva</td>\n",
        "      <td> 2</td>\n",
        "      <td>  Indonesia</td>\n",
        "      <td> 18</td>\n",
        "    </tr>\n",
        "    <tr>\n",
        "      <th>10</th>\n",
        "      <td> Autonomous Republic of Crimea</td>\n",
        "      <td>  2</td>\n",
        "      <td>                  Assembly of God</td>\n",
        "      <td> 1</td>\n",
        "      <td>       Iran</td>\n",
        "      <td> 18</td>\n",
        "    </tr>\n",
        "  </tbody>\n",
        "</table>\n",
        "</div>"
       ],
       "metadata": {},
       "output_type": "pyout",
       "prompt_number": 7,
       "text": [
        "        NChunks (Filtered) phrase  NChunks (Filtered) frequency  \\\n",
        "1                           Congo                            14   \n",
        "2             Government of Nepal                             5   \n",
        "3                 Paragraphs Page                             5   \n",
        "4    Libyan Arab Jamahiriya Nepal                             4   \n",
        "5                           Nepal                             4   \n",
        "6                    Lao People's                             3   \n",
        "7                     Libyan Arab                             3   \n",
        "8          Lord's Resistance Army                             3   \n",
        "9          disappearance in Nepal                             3   \n",
        "10  Autonomous Republic of Crimea                             2   \n",
        "\n",
        "                Organizations phrase  Organizations frequency  \\\n",
        "1                   General Assembly                        6   \n",
        "2                       Commissioner                        4   \n",
        "3                  High Commissioner                        4   \n",
        "4              Commission of Inquiry                        3   \n",
        "5           International Commission                        3   \n",
        "6                National Commission                        2   \n",
        "7   National Consultative Commission                        2   \n",
        "8              United Nations Office                        2   \n",
        "9    United Nations Office at Geneva                        2   \n",
        "10                   Assembly of God                        1   \n",
        "\n",
        "   Countries phrase  Countries frequency  \n",
        "1        Democratic                   37  \n",
        "2            Russia                   34  \n",
        "3           Russian                   34  \n",
        "4           Algeria                   33  \n",
        "5             India                   31  \n",
        "6          Colombia                   28  \n",
        "7            United                   23  \n",
        "8             Sudan                   22  \n",
        "9         Indonesia                   18  \n",
        "10             Iran                   18  "
       ]
      }
     ],
     "prompt_number": 7
    },
    {
     "cell_type": "code",
     "collapsed": false,
     "input": [
      "colloc = mun.get_collocations(sentences=sentences)\n",
      "HTML(mun.json2html([ [ \"<->\".join(list(r)) for r in c] for c in colloc]))"
     ],
     "language": "python",
     "metadata": {},
     "outputs": [
      {
       "javascript": [
        "//0c08ccfc-2357-4df2-b976-c1ad519b6231\n",
        "$(\"head\").append(\"<style> td.pb_widget {     width: auto; } td.pb_widget_fill {     width: 100%; } table.pb {     font-family: monospace;     border: 0;     margin: 0; } table.pb tr { border: 0; } table.pb td {     white-space: nowrap;     border: 0; } div.pb {     border: 1px solid #ddd;     border-radius: 3px; } div.pb_bar {     height: 1.5em; } </style>\")"
       ],
       "metadata": {},
       "output_type": "display_data",
       "text": [
        "<IPython.core.display.Javascript at 0x1788d390>"
       ]
      },
      {
       "javascript": [
        "\n",
        "                  // 0c08ccfc-2357-4df2-b976-c1ad519b6231 -- used to remove this code blob in the end\n",
        "                  IPython.OutputArea.prototype.cleanProgressBar = function(uuids) {\n",
        "                      // filter by uuid-strings \n",
        "                      var myfilter = function(output) { \n",
        "                          var nuids = uuids.length;\n",
        "                          for (var i=0; i<nuids; i++) {\n",
        "                              if (output.hasOwnProperty('html')) {\n",
        "                                  if (output.html.indexOf(uuids[i]) != -1) {\n",
        "                                      return false;\n",
        "                                  }\n",
        "                              }\n",
        "                              if (output.hasOwnProperty('javascript')) {\n",
        "                                  if (output.javascript.indexOf(uuids[i]) != -1) {\n",
        "                                      return false;\n",
        "                                  }\n",
        "                              }\n",
        "                          }\n",
        "                          // keep all others\n",
        "                          return true;\n",
        "                      };\n",
        "\n",
        "                      // Filter the ouputs\n",
        "                      this.outputs = this.outputs.filter(myfilter);\n",
        "                };\n",
        "                "
       ],
       "metadata": {},
       "output_type": "display_data",
       "text": [
        "<IPython.core.display.Javascript at 0x1788d0f0>"
       ]
      },
      {
       "html": [
        "<div class=\"pb\" id=\"0c08ccfc-2357-4df2-b976-c1ad519b6231\"><table class=\"pb ui-widget\"><tr>\n",
        "<td class=\"pb_widget\">Tokenizing sentences</td>\n",
        "<td class=\"pb_widget\"><div id=\"50829c40-22fa-4a22-844d-77ffa5b6139c\">0 of 2029</div></td>\n",
        "<td class=\"pb_widget\"><div id=\"ecc84d8e-69bd-4e14-a205-cb211d700ab0\">  0%</div></td>\n",
        "<td class=\"pb_widget_fill\">\n",
        "        <div class=\"pb_bar\" id=\"69134d0f-b354-44a0-a592-872a7df742d0\"></div>\n",
        "        <script type=\"text/javascript\">\n",
        "            $(\"div#69134d0f-b354-44a0-a592-872a7df742d0\").progressbar({value: 0, max: 2029});\n",
        "        </script>\n",
        "        </td>\n",
        "<td class=\"pb_widget\"><div id=\"47ac486a-12dd-402e-bc3e-4329ed6e8d4e\">ETA:  --:--:--</div></td>\n",
        "</tr></table><div>"
       ],
       "metadata": {},
       "output_type": "display_data",
       "text": [
        "<IPython.core.display.HTML at 0x36c0e10>"
       ]
      },
      {
       "javascript": [
        "$('div#50829c40-22fa-4a22-844d-77ffa5b6139c').text('21 of 2029');"
       ],
       "metadata": {},
       "output_type": "display_data",
       "text": [
        "<IPython.core.display.Javascript at 0x18578668>"
       ]
      },
      {
       "javascript": [
        "$('div#ecc84d8e-69bd-4e14-a205-cb211d700ab0').text('  1%');"
       ],
       "metadata": {},
       "output_type": "display_data",
       "text": [
        "<IPython.core.display.Javascript at 0x18578668>"
       ]
      },
      {
       "javascript": [
        "\n",
        "        var $myPB = $(\"div#69134d0f-b354-44a0-a592-872a7df742d0\")\n",
        "        if ($myPB.hasClass('ui-progressbar')) {\n",
        "            $myPB.progressbar('value', 21);\n",
        "        } else {\n",
        "            $myPB.progressbar({value: 0, max: 2029});\n",
        "        }\n",
        "        "
       ],
       "metadata": {},
       "output_type": "display_data",
       "text": [
        "<IPython.core.display.Javascript at 0x36c0e10>"
       ]
      },
      {
       "javascript": [
        "$('div#47ac486a-12dd-402e-bc3e-4329ed6e8d4e').text('ETA:  0:00:00');"
       ],
       "metadata": {},
       "output_type": "display_data",
       "text": [
        "<IPython.core.display.Javascript at 0x1788d390>"
       ]
      },
      {
       "javascript": [
        "$('div#50829c40-22fa-4a22-844d-77ffa5b6139c').text('42 of 2029');"
       ],
       "metadata": {},
       "output_type": "display_data",
       "text": [
        "<IPython.core.display.Javascript at 0x1788d0f0>"
       ]
      },
      {
       "javascript": [
        "$('div#ecc84d8e-69bd-4e14-a205-cb211d700ab0').text('  2%');"
       ],
       "metadata": {},
       "output_type": "display_data",
       "text": [
        "<IPython.core.display.Javascript at 0x1788d0f0>"
       ]
      },
      {
       "javascript": [
        "\n",
        "        var $myPB = $(\"div#69134d0f-b354-44a0-a592-872a7df742d0\")\n",
        "        if ($myPB.hasClass('ui-progressbar')) {\n",
        "            $myPB.progressbar('value', 42);\n",
        "        } else {\n",
        "            $myPB.progressbar({value: 0, max: 2029});\n",
        "        }\n",
        "        "
       ],
       "metadata": {},
       "output_type": "display_data",
       "text": [
        "<IPython.core.display.Javascript at 0x1788d390>"
       ]
      },
      {
       "javascript": [
        "$('div#47ac486a-12dd-402e-bc3e-4329ed6e8d4e').text('ETA:  0:00:00');"
       ],
       "metadata": {},
       "output_type": "display_data",
       "text": [
        "<IPython.core.display.Javascript at 0x18578668>"
       ]
      },
      {
       "javascript": [
        "$('div#50829c40-22fa-4a22-844d-77ffa5b6139c').text('63 of 2029');"
       ],
       "metadata": {},
       "output_type": "display_data",
       "text": [
        "<IPython.core.display.Javascript at 0x36c0e10>"
       ]
      },
      {
       "javascript": [
        "$('div#ecc84d8e-69bd-4e14-a205-cb211d700ab0').text('  3%');"
       ],
       "metadata": {},
       "output_type": "display_data",
       "text": [
        "<IPython.core.display.Javascript at 0x36c0e10>"
       ]
      },
      {
       "javascript": [
        "\n",
        "        var $myPB = $(\"div#69134d0f-b354-44a0-a592-872a7df742d0\")\n",
        "        if ($myPB.hasClass('ui-progressbar')) {\n",
        "            $myPB.progressbar('value', 63);\n",
        "        } else {\n",
        "            $myPB.progressbar({value: 0, max: 2029});\n",
        "        }\n",
        "        "
       ],
       "metadata": {},
       "output_type": "display_data",
       "text": [
        "<IPython.core.display.Javascript at 0x18578668>"
       ]
      },
      {
       "javascript": [
        "$('div#47ac486a-12dd-402e-bc3e-4329ed6e8d4e').text('ETA:  0:00:00');"
       ],
       "metadata": {},
       "output_type": "display_data",
       "text": [
        "<IPython.core.display.Javascript at 0x1788d0f0>"
       ]
      },
      {
       "javascript": [
        "$('div#50829c40-22fa-4a22-844d-77ffa5b6139c').text('84 of 2029');"
       ],
       "metadata": {},
       "output_type": "display_data",
       "text": [
        "<IPython.core.display.Javascript at 0x1788d390>"
       ]
      },
      {
       "javascript": [
        "$('div#ecc84d8e-69bd-4e14-a205-cb211d700ab0').text('  4%');"
       ],
       "metadata": {},
       "output_type": "display_data",
       "text": [
        "<IPython.core.display.Javascript at 0x1788d390>"
       ]
      },
      {
       "javascript": [
        "\n",
        "        var $myPB = $(\"div#69134d0f-b354-44a0-a592-872a7df742d0\")\n",
        "        if ($myPB.hasClass('ui-progressbar')) {\n",
        "            $myPB.progressbar('value', 84);\n",
        "        } else {\n",
        "            $myPB.progressbar({value: 0, max: 2029});\n",
        "        }\n",
        "        "
       ],
       "metadata": {},
       "output_type": "display_data",
       "text": [
        "<IPython.core.display.Javascript at 0x1788d0f0>"
       ]
      },
      {
       "javascript": [
        "$('div#47ac486a-12dd-402e-bc3e-4329ed6e8d4e').text('ETA:  0:00:00');"
       ],
       "metadata": {},
       "output_type": "display_data",
       "text": [
        "<IPython.core.display.Javascript at 0x36c0e10>"
       ]
      },
      {
       "javascript": [
        "$('div#50829c40-22fa-4a22-844d-77ffa5b6139c').text('105 of 2029');"
       ],
       "metadata": {},
       "output_type": "display_data",
       "text": [
        "<IPython.core.display.Javascript at 0x18578668>"
       ]
      },
      {
       "javascript": [
        "$('div#ecc84d8e-69bd-4e14-a205-cb211d700ab0').text('  5%');"
       ],
       "metadata": {},
       "output_type": "display_data",
       "text": [
        "<IPython.core.display.Javascript at 0x18578668>"
       ]
      },
      {
       "javascript": [
        "\n",
        "        var $myPB = $(\"div#69134d0f-b354-44a0-a592-872a7df742d0\")\n",
        "        if ($myPB.hasClass('ui-progressbar')) {\n",
        "            $myPB.progressbar('value', 105);\n",
        "        } else {\n",
        "            $myPB.progressbar({value: 0, max: 2029});\n",
        "        }\n",
        "        "
       ],
       "metadata": {},
       "output_type": "display_data",
       "text": [
        "<IPython.core.display.Javascript at 0x36c0e10>"
       ]
      },
      {
       "javascript": [
        "$('div#47ac486a-12dd-402e-bc3e-4329ed6e8d4e').text('ETA:  0:00:00');"
       ],
       "metadata": {},
       "output_type": "display_data",
       "text": [
        "<IPython.core.display.Javascript at 0x1788d390>"
       ]
      },
      {
       "javascript": [
        "$('div#50829c40-22fa-4a22-844d-77ffa5b6139c').text('126 of 2029');"
       ],
       "metadata": {},
       "output_type": "display_data",
       "text": [
        "<IPython.core.display.Javascript at 0x1788d0f0>"
       ]
      },
      {
       "javascript": [
        "$('div#ecc84d8e-69bd-4e14-a205-cb211d700ab0').text('  6%');"
       ],
       "metadata": {},
       "output_type": "display_data",
       "text": [
        "<IPython.core.display.Javascript at 0x1788d0f0>"
       ]
      },
      {
       "javascript": [
        "\n",
        "        var $myPB = $(\"div#69134d0f-b354-44a0-a592-872a7df742d0\")\n",
        "        if ($myPB.hasClass('ui-progressbar')) {\n",
        "            $myPB.progressbar('value', 126);\n",
        "        } else {\n",
        "            $myPB.progressbar({value: 0, max: 2029});\n",
        "        }\n",
        "        "
       ],
       "metadata": {},
       "output_type": "display_data",
       "text": [
        "<IPython.core.display.Javascript at 0x1788d390>"
       ]
      },
      {
       "javascript": [
        "$('div#47ac486a-12dd-402e-bc3e-4329ed6e8d4e').text('ETA:  0:00:00');"
       ],
       "metadata": {},
       "output_type": "display_data",
       "text": [
        "<IPython.core.display.Javascript at 0x18578668>"
       ]
      },
      {
       "javascript": [
        "$('div#50829c40-22fa-4a22-844d-77ffa5b6139c').text('147 of 2029');"
       ],
       "metadata": {},
       "output_type": "display_data",
       "text": [
        "<IPython.core.display.Javascript at 0x36c0e10>"
       ]
      },
      {
       "javascript": [
        "$('div#ecc84d8e-69bd-4e14-a205-cb211d700ab0').text('  7%');"
       ],
       "metadata": {},
       "output_type": "display_data",
       "text": [
        "<IPython.core.display.Javascript at 0x36c0e10>"
       ]
      },
      {
       "javascript": [
        "\n",
        "        var $myPB = $(\"div#69134d0f-b354-44a0-a592-872a7df742d0\")\n",
        "        if ($myPB.hasClass('ui-progressbar')) {\n",
        "            $myPB.progressbar('value', 147);\n",
        "        } else {\n",
        "            $myPB.progressbar({value: 0, max: 2029});\n",
        "        }\n",
        "        "
       ],
       "metadata": {},
       "output_type": "display_data",
       "text": [
        "<IPython.core.display.Javascript at 0x18578668>"
       ]
      },
      {
       "javascript": [
        "$('div#47ac486a-12dd-402e-bc3e-4329ed6e8d4e').text('ETA:  0:00:00');"
       ],
       "metadata": {},
       "output_type": "display_data",
       "text": [
        "<IPython.core.display.Javascript at 0x1788d0f0>"
       ]
      },
      {
       "javascript": [
        "$('div#50829c40-22fa-4a22-844d-77ffa5b6139c').text('168 of 2029');"
       ],
       "metadata": {},
       "output_type": "display_data",
       "text": [
        "<IPython.core.display.Javascript at 0x170e9ba8>"
       ]
      },
      {
       "javascript": [
        "$('div#ecc84d8e-69bd-4e14-a205-cb211d700ab0').text('  8%');"
       ],
       "metadata": {},
       "output_type": "display_data",
       "text": [
        "<IPython.core.display.Javascript at 0x1788d0f0>"
       ]
      },
      {
       "javascript": [
        "\n",
        "        var $myPB = $(\"div#69134d0f-b354-44a0-a592-872a7df742d0\")\n",
        "        if ($myPB.hasClass('ui-progressbar')) {\n",
        "            $myPB.progressbar('value', 168);\n",
        "        } else {\n",
        "            $myPB.progressbar({value: 0, max: 2029});\n",
        "        }\n",
        "        "
       ],
       "metadata": {},
       "output_type": "display_data",
       "text": [
        "<IPython.core.display.Javascript at 0x18578668>"
       ]
      },
      {
       "javascript": [
        "$('div#47ac486a-12dd-402e-bc3e-4329ed6e8d4e').text('ETA:  0:00:00');"
       ],
       "metadata": {},
       "output_type": "display_data",
       "text": [
        "<IPython.core.display.Javascript at 0x36c0e10>"
       ]
      },
      {
       "javascript": [
        "$('div#50829c40-22fa-4a22-844d-77ffa5b6139c').text('189 of 2029');"
       ],
       "metadata": {},
       "output_type": "display_data",
       "text": [
        "<IPython.core.display.Javascript at 0x170e9ba8>"
       ]
      },
      {
       "javascript": [
        "$('div#ecc84d8e-69bd-4e14-a205-cb211d700ab0').text('  9%');"
       ],
       "metadata": {},
       "output_type": "display_data",
       "text": [
        "<IPython.core.display.Javascript at 0x36c0e10>"
       ]
      },
      {
       "javascript": [
        "\n",
        "        var $myPB = $(\"div#69134d0f-b354-44a0-a592-872a7df742d0\")\n",
        "        if ($myPB.hasClass('ui-progressbar')) {\n",
        "            $myPB.progressbar('value', 189);\n",
        "        } else {\n",
        "            $myPB.progressbar({value: 0, max: 2029});\n",
        "        }\n",
        "        "
       ],
       "metadata": {},
       "output_type": "display_data",
       "text": [
        "<IPython.core.display.Javascript at 0x18578668>"
       ]
      },
      {
       "javascript": [
        "$('div#47ac486a-12dd-402e-bc3e-4329ed6e8d4e').text('ETA:  0:00:00');"
       ],
       "metadata": {},
       "output_type": "display_data",
       "text": [
        "<IPython.core.display.Javascript at 0x1788d0f0>"
       ]
      },
      {
       "javascript": [
        "$('div#50829c40-22fa-4a22-844d-77ffa5b6139c').text('210 of 2029');"
       ],
       "metadata": {},
       "output_type": "display_data",
       "text": [
        "<IPython.core.display.Javascript at 0x170e9ba8>"
       ]
      },
      {
       "javascript": [
        "$('div#ecc84d8e-69bd-4e14-a205-cb211d700ab0').text(' 10%');"
       ],
       "metadata": {},
       "output_type": "display_data",
       "text": [
        "<IPython.core.display.Javascript at 0x170e94a8>"
       ]
      },
      {
       "javascript": [
        "\n",
        "        var $myPB = $(\"div#69134d0f-b354-44a0-a592-872a7df742d0\")\n",
        "        if ($myPB.hasClass('ui-progressbar')) {\n",
        "            $myPB.progressbar('value', 210);\n",
        "        } else {\n",
        "            $myPB.progressbar({value: 0, max: 2029});\n",
        "        }\n",
        "        "
       ],
       "metadata": {},
       "output_type": "display_data",
       "text": [
        "<IPython.core.display.Javascript at 0x36c0e10>"
       ]
      },
      {
       "javascript": [
        "$('div#47ac486a-12dd-402e-bc3e-4329ed6e8d4e').text('ETA:  0:00:00');"
       ],
       "metadata": {},
       "output_type": "display_data",
       "text": [
        "<IPython.core.display.Javascript at 0x18578668>"
       ]
      },
      {
       "javascript": [
        "$('div#50829c40-22fa-4a22-844d-77ffa5b6139c').text('231 of 2029');"
       ],
       "metadata": {},
       "output_type": "display_data",
       "text": [
        "<IPython.core.display.Javascript at 0x124dce80>"
       ]
      },
      {
       "javascript": [
        "$('div#ecc84d8e-69bd-4e14-a205-cb211d700ab0').text(' 11%');"
       ],
       "metadata": {},
       "output_type": "display_data",
       "text": [
        "<IPython.core.display.Javascript at 0x170e9358>"
       ]
      },
      {
       "javascript": [
        "\n",
        "        var $myPB = $(\"div#69134d0f-b354-44a0-a592-872a7df742d0\")\n",
        "        if ($myPB.hasClass('ui-progressbar')) {\n",
        "            $myPB.progressbar('value', 231);\n",
        "        } else {\n",
        "            $myPB.progressbar({value: 0, max: 2029});\n",
        "        }\n",
        "        "
       ],
       "metadata": {},
       "output_type": "display_data",
       "text": [
        "<IPython.core.display.Javascript at 0x36c0e10>"
       ]
      },
      {
       "javascript": [
        "$('div#47ac486a-12dd-402e-bc3e-4329ed6e8d4e').text('ETA:  0:00:00');"
       ],
       "metadata": {},
       "output_type": "display_data",
       "text": [
        "<IPython.core.display.Javascript at 0x18578668>"
       ]
      },
      {
       "javascript": [
        "$('div#50829c40-22fa-4a22-844d-77ffa5b6139c').text('252 of 2029');"
       ],
       "metadata": {},
       "output_type": "display_data",
       "text": [
        "<IPython.core.display.Javascript at 0x1788d0f0>"
       ]
      },
      {
       "javascript": [
        "$('div#ecc84d8e-69bd-4e14-a205-cb211d700ab0').text(' 12%');"
       ],
       "metadata": {},
       "output_type": "display_data",
       "text": [
        "<IPython.core.display.Javascript at 0x170e9ba8>"
       ]
      },
      {
       "javascript": [
        "\n",
        "        var $myPB = $(\"div#69134d0f-b354-44a0-a592-872a7df742d0\")\n",
        "        if ($myPB.hasClass('ui-progressbar')) {\n",
        "            $myPB.progressbar('value', 252);\n",
        "        } else {\n",
        "            $myPB.progressbar({value: 0, max: 2029});\n",
        "        }\n",
        "        "
       ],
       "metadata": {},
       "output_type": "display_data",
       "text": [
        "<IPython.core.display.Javascript at 0x36c0e10>"
       ]
      },
      {
       "javascript": [
        "$('div#47ac486a-12dd-402e-bc3e-4329ed6e8d4e').text('ETA:  0:00:00');"
       ],
       "metadata": {},
       "output_type": "display_data",
       "text": [
        "<IPython.core.display.Javascript at 0x18578668>"
       ]
      },
      {
       "javascript": [
        "$('div#50829c40-22fa-4a22-844d-77ffa5b6139c').text('273 of 2029');"
       ],
       "metadata": {},
       "output_type": "display_data",
       "text": [
        "<IPython.core.display.Javascript at 0x124dce80>"
       ]
      },
      {
       "javascript": [
        "$('div#ecc84d8e-69bd-4e14-a205-cb211d700ab0').text(' 13%');"
       ],
       "metadata": {},
       "output_type": "display_data",
       "text": [
        "<IPython.core.display.Javascript at 0x170e96a0>"
       ]
      },
      {
       "javascript": [
        "\n",
        "        var $myPB = $(\"div#69134d0f-b354-44a0-a592-872a7df742d0\")\n",
        "        if ($myPB.hasClass('ui-progressbar')) {\n",
        "            $myPB.progressbar('value', 273);\n",
        "        } else {\n",
        "            $myPB.progressbar({value: 0, max: 2029});\n",
        "        }\n",
        "        "
       ],
       "metadata": {},
       "output_type": "display_data",
       "text": [
        "<IPython.core.display.Javascript at 0x18578668>"
       ]
      },
      {
       "javascript": [
        "$('div#47ac486a-12dd-402e-bc3e-4329ed6e8d4e').text('ETA:  0:00:00');"
       ],
       "metadata": {},
       "output_type": "display_data",
       "text": [
        "<IPython.core.display.Javascript at 0x36c0e10>"
       ]
      },
      {
       "javascript": [
        "$('div#50829c40-22fa-4a22-844d-77ffa5b6139c').text('294 of 2029');"
       ],
       "metadata": {},
       "output_type": "display_data",
       "text": [
        "<IPython.core.display.Javascript at 0x124dce80>"
       ]
      },
      {
       "javascript": [
        "$('div#ecc84d8e-69bd-4e14-a205-cb211d700ab0').text(' 14%');"
       ],
       "metadata": {},
       "output_type": "display_data",
       "text": [
        "<IPython.core.display.Javascript at 0x170e94a8>"
       ]
      },
      {
       "javascript": [
        "\n",
        "        var $myPB = $(\"div#69134d0f-b354-44a0-a592-872a7df742d0\")\n",
        "        if ($myPB.hasClass('ui-progressbar')) {\n",
        "            $myPB.progressbar('value', 294);\n",
        "        } else {\n",
        "            $myPB.progressbar({value: 0, max: 2029});\n",
        "        }\n",
        "        "
       ],
       "metadata": {},
       "output_type": "display_data",
       "text": [
        "<IPython.core.display.Javascript at 0x124dce80>"
       ]
      },
      {
       "javascript": [
        "$('div#47ac486a-12dd-402e-bc3e-4329ed6e8d4e').text('ETA:  0:00:00');"
       ],
       "metadata": {},
       "output_type": "display_data",
       "text": [
        "<IPython.core.display.Javascript at 0x18578668>"
       ]
      },
      {
       "javascript": [
        "$('div#50829c40-22fa-4a22-844d-77ffa5b6139c').text('315 of 2029');"
       ],
       "metadata": {},
       "output_type": "display_data",
       "text": [
        "<IPython.core.display.Javascript at 0x1788d0f0>"
       ]
      },
      {
       "javascript": [
        "$('div#ecc84d8e-69bd-4e14-a205-cb211d700ab0').text(' 15%');"
       ],
       "metadata": {},
       "output_type": "display_data",
       "text": [
        "<IPython.core.display.Javascript at 0x170e9668>"
       ]
      },
      {
       "javascript": [
        "\n",
        "        var $myPB = $(\"div#69134d0f-b354-44a0-a592-872a7df742d0\")\n",
        "        if ($myPB.hasClass('ui-progressbar')) {\n",
        "            $myPB.progressbar('value', 315);\n",
        "        } else {\n",
        "            $myPB.progressbar({value: 0, max: 2029});\n",
        "        }\n",
        "        "
       ],
       "metadata": {},
       "output_type": "display_data",
       "text": [
        "<IPython.core.display.Javascript at 0x170e9d68>"
       ]
      },
      {
       "javascript": [
        "$('div#47ac486a-12dd-402e-bc3e-4329ed6e8d4e').text('ETA:  0:00:00');"
       ],
       "metadata": {},
       "output_type": "display_data",
       "text": [
        "<IPython.core.display.Javascript at 0x124dce80>"
       ]
      },
      {
       "javascript": [
        "$('div#50829c40-22fa-4a22-844d-77ffa5b6139c').text('336 of 2029');"
       ],
       "metadata": {},
       "output_type": "display_data",
       "text": [
        "<IPython.core.display.Javascript at 0x1788d0f0>"
       ]
      },
      {
       "javascript": [
        "$('div#ecc84d8e-69bd-4e14-a205-cb211d700ab0').text(' 16%');"
       ],
       "metadata": {},
       "output_type": "display_data",
       "text": [
        "<IPython.core.display.Javascript at 0x18578668>"
       ]
      },
      {
       "javascript": [
        "\n",
        "        var $myPB = $(\"div#69134d0f-b354-44a0-a592-872a7df742d0\")\n",
        "        if ($myPB.hasClass('ui-progressbar')) {\n",
        "            $myPB.progressbar('value', 336);\n",
        "        } else {\n",
        "            $myPB.progressbar({value: 0, max: 2029});\n",
        "        }\n",
        "        "
       ],
       "metadata": {},
       "output_type": "display_data",
       "text": [
        "<IPython.core.display.Javascript at 0x170e9d68>"
       ]
      },
      {
       "javascript": [
        "$('div#47ac486a-12dd-402e-bc3e-4329ed6e8d4e').text('ETA:  0:00:00');"
       ],
       "metadata": {},
       "output_type": "display_data",
       "text": [
        "<IPython.core.display.Javascript at 0x124dce80>"
       ]
      },
      {
       "javascript": [
        "$('div#50829c40-22fa-4a22-844d-77ffa5b6139c').text('357 of 2029');"
       ],
       "metadata": {},
       "output_type": "display_data",
       "text": [
        "<IPython.core.display.Javascript at 0x1788d0f0>"
       ]
      },
      {
       "javascript": [
        "$('div#ecc84d8e-69bd-4e14-a205-cb211d700ab0').text(' 17%');"
       ],
       "metadata": {},
       "output_type": "display_data",
       "text": [
        "<IPython.core.display.Javascript at 0x1af2e208>"
       ]
      },
      {
       "javascript": [
        "\n",
        "        var $myPB = $(\"div#69134d0f-b354-44a0-a592-872a7df742d0\")\n",
        "        if ($myPB.hasClass('ui-progressbar')) {\n",
        "            $myPB.progressbar('value', 357);\n",
        "        } else {\n",
        "            $myPB.progressbar({value: 0, max: 2029});\n",
        "        }\n",
        "        "
       ],
       "metadata": {},
       "output_type": "display_data",
       "text": [
        "<IPython.core.display.Javascript at 0x170e9d68>"
       ]
      },
      {
       "javascript": [
        "$('div#47ac486a-12dd-402e-bc3e-4329ed6e8d4e').text('ETA:  0:00:00');"
       ],
       "metadata": {},
       "output_type": "display_data",
       "text": [
        "<IPython.core.display.Javascript at 0x124dce80>"
       ]
      },
      {
       "javascript": [
        "$('div#50829c40-22fa-4a22-844d-77ffa5b6139c').text('378 of 2029');"
       ],
       "metadata": {},
       "output_type": "display_data",
       "text": [
        "<IPython.core.display.Javascript at 0x18578668>"
       ]
      },
      {
       "javascript": [
        "$('div#ecc84d8e-69bd-4e14-a205-cb211d700ab0').text(' 18%');"
       ],
       "metadata": {},
       "output_type": "display_data",
       "text": [
        "<IPython.core.display.Javascript at 0x1788d0f0>"
       ]
      },
      {
       "javascript": [
        "\n",
        "        var $myPB = $(\"div#69134d0f-b354-44a0-a592-872a7df742d0\")\n",
        "        if ($myPB.hasClass('ui-progressbar')) {\n",
        "            $myPB.progressbar('value', 378);\n",
        "        } else {\n",
        "            $myPB.progressbar({value: 0, max: 2029});\n",
        "        }\n",
        "        "
       ],
       "metadata": {},
       "output_type": "display_data",
       "text": [
        "<IPython.core.display.Javascript at 0x170e9d68>"
       ]
      },
      {
       "javascript": [
        "$('div#47ac486a-12dd-402e-bc3e-4329ed6e8d4e').text('ETA:  0:00:00');"
       ],
       "metadata": {},
       "output_type": "display_data",
       "text": [
        "<IPython.core.display.Javascript at 0x124dce80>"
       ]
      },
      {
       "javascript": [
        "$('div#50829c40-22fa-4a22-844d-77ffa5b6139c').text('399 of 2029');"
       ],
       "metadata": {},
       "output_type": "display_data",
       "text": [
        "<IPython.core.display.Javascript at 0x36c0e10>"
       ]
      },
      {
       "javascript": [
        "$('div#ecc84d8e-69bd-4e14-a205-cb211d700ab0').text(' 19%');"
       ],
       "metadata": {},
       "output_type": "display_data",
       "text": [
        "<IPython.core.display.Javascript at 0x1af2e908>"
       ]
      },
      {
       "javascript": [
        "\n",
        "        var $myPB = $(\"div#69134d0f-b354-44a0-a592-872a7df742d0\")\n",
        "        if ($myPB.hasClass('ui-progressbar')) {\n",
        "            $myPB.progressbar('value', 399);\n",
        "        } else {\n",
        "            $myPB.progressbar({value: 0, max: 2029});\n",
        "        }\n",
        "        "
       ],
       "metadata": {},
       "output_type": "display_data",
       "text": [
        "<IPython.core.display.Javascript at 0x170e9d68>"
       ]
      },
      {
       "javascript": [
        "$('div#47ac486a-12dd-402e-bc3e-4329ed6e8d4e').text('ETA:  0:00:00');"
       ],
       "metadata": {},
       "output_type": "display_data",
       "text": [
        "<IPython.core.display.Javascript at 0x124dce80>"
       ]
      },
      {
       "javascript": [
        "$('div#50829c40-22fa-4a22-844d-77ffa5b6139c').text('420 of 2029');"
       ],
       "metadata": {},
       "output_type": "display_data",
       "text": [
        "<IPython.core.display.Javascript at 0x36c0e10>"
       ]
      },
      {
       "javascript": [
        "$('div#ecc84d8e-69bd-4e14-a205-cb211d700ab0').text(' 20%');"
       ],
       "metadata": {},
       "output_type": "display_data",
       "text": [
        "<IPython.core.display.Javascript at 0x1af2e208>"
       ]
      },
      {
       "javascript": [
        "\n",
        "        var $myPB = $(\"div#69134d0f-b354-44a0-a592-872a7df742d0\")\n",
        "        if ($myPB.hasClass('ui-progressbar')) {\n",
        "            $myPB.progressbar('value', 420);\n",
        "        } else {\n",
        "            $myPB.progressbar({value: 0, max: 2029});\n",
        "        }\n",
        "        "
       ],
       "metadata": {},
       "output_type": "display_data",
       "text": [
        "<IPython.core.display.Javascript at 0x1788d0f0>"
       ]
      },
      {
       "javascript": [
        "$('div#47ac486a-12dd-402e-bc3e-4329ed6e8d4e').text('ETA:  0:00:00');"
       ],
       "metadata": {},
       "output_type": "display_data",
       "text": [
        "<IPython.core.display.Javascript at 0x124dce80>"
       ]
      },
      {
       "javascript": [
        "$('div#50829c40-22fa-4a22-844d-77ffa5b6139c').text('441 of 2029');"
       ],
       "metadata": {},
       "output_type": "display_data",
       "text": [
        "<IPython.core.display.Javascript at 0x36c0e10>"
       ]
      },
      {
       "javascript": [
        "$('div#ecc84d8e-69bd-4e14-a205-cb211d700ab0').text(' 21%');"
       ],
       "metadata": {},
       "output_type": "display_data",
       "text": [
        "<IPython.core.display.Javascript at 0x170e9d68>"
       ]
      },
      {
       "javascript": [
        "\n",
        "        var $myPB = $(\"div#69134d0f-b354-44a0-a592-872a7df742d0\")\n",
        "        if ($myPB.hasClass('ui-progressbar')) {\n",
        "            $myPB.progressbar('value', 441);\n",
        "        } else {\n",
        "            $myPB.progressbar({value: 0, max: 2029});\n",
        "        }\n",
        "        "
       ],
       "metadata": {},
       "output_type": "display_data",
       "text": [
        "<IPython.core.display.Javascript at 0x1788d0f0>"
       ]
      },
      {
       "javascript": [
        "$('div#47ac486a-12dd-402e-bc3e-4329ed6e8d4e').text('ETA:  0:00:00');"
       ],
       "metadata": {},
       "output_type": "display_data",
       "text": [
        "<IPython.core.display.Javascript at 0x124dce80>"
       ]
      },
      {
       "javascript": [
        "$('div#50829c40-22fa-4a22-844d-77ffa5b6139c').text('462 of 2029');"
       ],
       "metadata": {},
       "output_type": "display_data",
       "text": [
        "<IPython.core.display.Javascript at 0x36c0e10>"
       ]
      },
      {
       "javascript": [
        "$('div#ecc84d8e-69bd-4e14-a205-cb211d700ab0').text(' 22%');"
       ],
       "metadata": {},
       "output_type": "display_data",
       "text": [
        "<IPython.core.display.Javascript at 0x170e94a8>"
       ]
      },
      {
       "javascript": [
        "\n",
        "        var $myPB = $(\"div#69134d0f-b354-44a0-a592-872a7df742d0\")\n",
        "        if ($myPB.hasClass('ui-progressbar')) {\n",
        "            $myPB.progressbar('value', 462);\n",
        "        } else {\n",
        "            $myPB.progressbar({value: 0, max: 2029});\n",
        "        }\n",
        "        "
       ],
       "metadata": {},
       "output_type": "display_data",
       "text": [
        "<IPython.core.display.Javascript at 0x1788d0f0>"
       ]
      },
      {
       "javascript": [
        "$('div#47ac486a-12dd-402e-bc3e-4329ed6e8d4e').text('ETA:  0:00:00');"
       ],
       "metadata": {},
       "output_type": "display_data",
       "text": [
        "<IPython.core.display.Javascript at 0x124dce80>"
       ]
      },
      {
       "javascript": [
        "$('div#50829c40-22fa-4a22-844d-77ffa5b6139c').text('483 of 2029');"
       ],
       "metadata": {},
       "output_type": "display_data",
       "text": [
        "<IPython.core.display.Javascript at 0x36c0e10>"
       ]
      },
      {
       "javascript": [
        "$('div#ecc84d8e-69bd-4e14-a205-cb211d700ab0').text(' 23%');"
       ],
       "metadata": {},
       "output_type": "display_data",
       "text": [
        "<IPython.core.display.Javascript at 0x170e96a0>"
       ]
      },
      {
       "javascript": [
        "\n",
        "        var $myPB = $(\"div#69134d0f-b354-44a0-a592-872a7df742d0\")\n",
        "        if ($myPB.hasClass('ui-progressbar')) {\n",
        "            $myPB.progressbar('value', 483);\n",
        "        } else {\n",
        "            $myPB.progressbar({value: 0, max: 2029});\n",
        "        }\n",
        "        "
       ],
       "metadata": {},
       "output_type": "display_data",
       "text": [
        "<IPython.core.display.Javascript at 0x124dce80>"
       ]
      },
      {
       "javascript": [
        "$('div#47ac486a-12dd-402e-bc3e-4329ed6e8d4e').text('ETA:  0:00:00');"
       ],
       "metadata": {},
       "output_type": "display_data",
       "text": [
        "<IPython.core.display.Javascript at 0x1788d0f0>"
       ]
      },
      {
       "javascript": [
        "$('div#50829c40-22fa-4a22-844d-77ffa5b6139c').text('504 of 2029');"
       ],
       "metadata": {},
       "output_type": "display_data",
       "text": [
        "<IPython.core.display.Javascript at 0x36c0e10>"
       ]
      },
      {
       "javascript": [
        "$('div#ecc84d8e-69bd-4e14-a205-cb211d700ab0').text(' 24%');"
       ],
       "metadata": {},
       "output_type": "display_data",
       "text": [
        "<IPython.core.display.Javascript at 0x170e9668>"
       ]
      },
      {
       "javascript": [
        "\n",
        "        var $myPB = $(\"div#69134d0f-b354-44a0-a592-872a7df742d0\")\n",
        "        if ($myPB.hasClass('ui-progressbar')) {\n",
        "            $myPB.progressbar('value', 504);\n",
        "        } else {\n",
        "            $myPB.progressbar({value: 0, max: 2029});\n",
        "        }\n",
        "        "
       ],
       "metadata": {},
       "output_type": "display_data",
       "text": [
        "<IPython.core.display.Javascript at 0x36c0e10>"
       ]
      },
      {
       "javascript": [
        "$('div#47ac486a-12dd-402e-bc3e-4329ed6e8d4e').text('ETA:  0:00:00');"
       ],
       "metadata": {},
       "output_type": "display_data",
       "text": [
        "<IPython.core.display.Javascript at 0x124dce80>"
       ]
      },
      {
       "javascript": [
        "$('div#50829c40-22fa-4a22-844d-77ffa5b6139c').text('525 of 2029');"
       ],
       "metadata": {},
       "output_type": "display_data",
       "text": [
        "<IPython.core.display.Javascript at 0x1788d0f0>"
       ]
      },
      {
       "javascript": [
        "$('div#ecc84d8e-69bd-4e14-a205-cb211d700ab0').text(' 25%');"
       ],
       "metadata": {},
       "output_type": "display_data",
       "text": [
        "<IPython.core.display.Javascript at 0x170e9358>"
       ]
      },
      {
       "javascript": [
        "\n",
        "        var $myPB = $(\"div#69134d0f-b354-44a0-a592-872a7df742d0\")\n",
        "        if ($myPB.hasClass('ui-progressbar')) {\n",
        "            $myPB.progressbar('value', 525);\n",
        "        } else {\n",
        "            $myPB.progressbar({value: 0, max: 2029});\n",
        "        }\n",
        "        "
       ],
       "metadata": {},
       "output_type": "display_data",
       "text": [
        "<IPython.core.display.Javascript at 0x170e9ba8>"
       ]
      },
      {
       "javascript": [
        "$('div#47ac486a-12dd-402e-bc3e-4329ed6e8d4e').text('ETA:  0:00:00');"
       ],
       "metadata": {},
       "output_type": "display_data",
       "text": [
        "<IPython.core.display.Javascript at 0x36c0e10>"
       ]
      },
      {
       "javascript": [
        "$('div#50829c40-22fa-4a22-844d-77ffa5b6139c').text('546 of 2029');"
       ],
       "metadata": {},
       "output_type": "display_data",
       "text": [
        "<IPython.core.display.Javascript at 0x1788d0f0>"
       ]
      },
      {
       "javascript": [
        "$('div#ecc84d8e-69bd-4e14-a205-cb211d700ab0').text(' 26%');"
       ],
       "metadata": {},
       "output_type": "display_data",
       "text": [
        "<IPython.core.display.Javascript at 0x124dce80>"
       ]
      },
      {
       "javascript": [
        "\n",
        "        var $myPB = $(\"div#69134d0f-b354-44a0-a592-872a7df742d0\")\n",
        "        if ($myPB.hasClass('ui-progressbar')) {\n",
        "            $myPB.progressbar('value', 546);\n",
        "        } else {\n",
        "            $myPB.progressbar({value: 0, max: 2029});\n",
        "        }\n",
        "        "
       ],
       "metadata": {},
       "output_type": "display_data",
       "text": [
        "<IPython.core.display.Javascript at 0x170e9ba8>"
       ]
      },
      {
       "javascript": [
        "$('div#47ac486a-12dd-402e-bc3e-4329ed6e8d4e').text('ETA:  0:00:00');"
       ],
       "metadata": {},
       "output_type": "display_data",
       "text": [
        "<IPython.core.display.Javascript at 0x36c0e10>"
       ]
      },
      {
       "javascript": [
        "$('div#50829c40-22fa-4a22-844d-77ffa5b6139c').text('567 of 2029');"
       ],
       "metadata": {},
       "output_type": "display_data",
       "text": [
        "<IPython.core.display.Javascript at 0x1788d0f0>"
       ]
      },
      {
       "javascript": [
        "$('div#ecc84d8e-69bd-4e14-a205-cb211d700ab0').text(' 27%');"
       ],
       "metadata": {},
       "output_type": "display_data",
       "text": [
        "<IPython.core.display.Javascript at 0x1af2e208>"
       ]
      },
      {
       "javascript": [
        "\n",
        "        var $myPB = $(\"div#69134d0f-b354-44a0-a592-872a7df742d0\")\n",
        "        if ($myPB.hasClass('ui-progressbar')) {\n",
        "            $myPB.progressbar('value', 567);\n",
        "        } else {\n",
        "            $myPB.progressbar({value: 0, max: 2029});\n",
        "        }\n",
        "        "
       ],
       "metadata": {},
       "output_type": "display_data",
       "text": [
        "<IPython.core.display.Javascript at 0x170e9ba8>"
       ]
      },
      {
       "javascript": [
        "$('div#47ac486a-12dd-402e-bc3e-4329ed6e8d4e').text('ETA:  0:00:00');"
       ],
       "metadata": {},
       "output_type": "display_data",
       "text": [
        "<IPython.core.display.Javascript at 0x36c0e10>"
       ]
      },
      {
       "javascript": [
        "$('div#50829c40-22fa-4a22-844d-77ffa5b6139c').text('588 of 2029');"
       ],
       "metadata": {},
       "output_type": "display_data",
       "text": [
        "<IPython.core.display.Javascript at 0x1788d0f0>"
       ]
      },
      {
       "javascript": [
        "$('div#ecc84d8e-69bd-4e14-a205-cb211d700ab0').text(' 28%');"
       ],
       "metadata": {},
       "output_type": "display_data",
       "text": [
        "<IPython.core.display.Javascript at 0x1af2e390>"
       ]
      },
      {
       "javascript": [
        "\n",
        "        var $myPB = $(\"div#69134d0f-b354-44a0-a592-872a7df742d0\")\n",
        "        if ($myPB.hasClass('ui-progressbar')) {\n",
        "            $myPB.progressbar('value', 588);\n",
        "        } else {\n",
        "            $myPB.progressbar({value: 0, max: 2029});\n",
        "        }\n",
        "        "
       ],
       "metadata": {},
       "output_type": "display_data",
       "text": [
        "<IPython.core.display.Javascript at 0x170e9ba8>"
       ]
      },
      {
       "javascript": [
        "$('div#47ac486a-12dd-402e-bc3e-4329ed6e8d4e').text('ETA:  0:00:00');"
       ],
       "metadata": {},
       "output_type": "display_data",
       "text": [
        "<IPython.core.display.Javascript at 0x36c0e10>"
       ]
      },
      {
       "javascript": [
        "$('div#50829c40-22fa-4a22-844d-77ffa5b6139c').text('609 of 2029');"
       ],
       "metadata": {},
       "output_type": "display_data",
       "text": [
        "<IPython.core.display.Javascript at 0x1788d0f0>"
       ]
      },
      {
       "javascript": [
        "$('div#ecc84d8e-69bd-4e14-a205-cb211d700ab0').text(' 30%');"
       ],
       "metadata": {},
       "output_type": "display_data",
       "text": [
        "<IPython.core.display.Javascript at 0x1af2e320>"
       ]
      },
      {
       "javascript": [
        "\n",
        "        var $myPB = $(\"div#69134d0f-b354-44a0-a592-872a7df742d0\")\n",
        "        if ($myPB.hasClass('ui-progressbar')) {\n",
        "            $myPB.progressbar('value', 609);\n",
        "        } else {\n",
        "            $myPB.progressbar({value: 0, max: 2029});\n",
        "        }\n",
        "        "
       ],
       "metadata": {},
       "output_type": "display_data",
       "text": [
        "<IPython.core.display.Javascript at 0x170e9ba8>"
       ]
      },
      {
       "javascript": [
        "$('div#47ac486a-12dd-402e-bc3e-4329ed6e8d4e').text('ETA:  0:00:00');"
       ],
       "metadata": {},
       "output_type": "display_data",
       "text": [
        "<IPython.core.display.Javascript at 0x36c0e10>"
       ]
      },
      {
       "javascript": [
        "$('div#50829c40-22fa-4a22-844d-77ffa5b6139c').text('630 of 2029');"
       ],
       "metadata": {},
       "output_type": "display_data",
       "text": [
        "<IPython.core.display.Javascript at 0x1788d0f0>"
       ]
      },
      {
       "javascript": [
        "$('div#ecc84d8e-69bd-4e14-a205-cb211d700ab0').text(' 31%');"
       ],
       "metadata": {},
       "output_type": "display_data",
       "text": [
        "<IPython.core.display.Javascript at 0x1af2e208>"
       ]
      },
      {
       "javascript": [
        "\n",
        "        var $myPB = $(\"div#69134d0f-b354-44a0-a592-872a7df742d0\")\n",
        "        if ($myPB.hasClass('ui-progressbar')) {\n",
        "            $myPB.progressbar('value', 630);\n",
        "        } else {\n",
        "            $myPB.progressbar({value: 0, max: 2029});\n",
        "        }\n",
        "        "
       ],
       "metadata": {},
       "output_type": "display_data",
       "text": [
        "<IPython.core.display.Javascript at 0x170e9ba8>"
       ]
      },
      {
       "javascript": [
        "$('div#47ac486a-12dd-402e-bc3e-4329ed6e8d4e').text('ETA:  0:00:00');"
       ],
       "metadata": {},
       "output_type": "display_data",
       "text": [
        "<IPython.core.display.Javascript at 0x36c0e10>"
       ]
      },
      {
       "javascript": [
        "$('div#50829c40-22fa-4a22-844d-77ffa5b6139c').text('651 of 2029');"
       ],
       "metadata": {},
       "output_type": "display_data",
       "text": [
        "<IPython.core.display.Javascript at 0x1788d0f0>"
       ]
      },
      {
       "javascript": [
        "$('div#ecc84d8e-69bd-4e14-a205-cb211d700ab0').text(' 32%');"
       ],
       "metadata": {},
       "output_type": "display_data",
       "text": [
        "<IPython.core.display.Javascript at 0x1af2e390>"
       ]
      },
      {
       "javascript": [
        "\n",
        "        var $myPB = $(\"div#69134d0f-b354-44a0-a592-872a7df742d0\")\n",
        "        if ($myPB.hasClass('ui-progressbar')) {\n",
        "            $myPB.progressbar('value', 651);\n",
        "        } else {\n",
        "            $myPB.progressbar({value: 0, max: 2029});\n",
        "        }\n",
        "        "
       ],
       "metadata": {},
       "output_type": "display_data",
       "text": [
        "<IPython.core.display.Javascript at 0x170e9ba8>"
       ]
      },
      {
       "javascript": [
        "$('div#47ac486a-12dd-402e-bc3e-4329ed6e8d4e').text('ETA:  0:00:00');"
       ],
       "metadata": {},
       "output_type": "display_data",
       "text": [
        "<IPython.core.display.Javascript at 0x36c0e10>"
       ]
      },
      {
       "javascript": [
        "$('div#50829c40-22fa-4a22-844d-77ffa5b6139c').text('672 of 2029');"
       ],
       "metadata": {},
       "output_type": "display_data",
       "text": [
        "<IPython.core.display.Javascript at 0x1788d0f0>"
       ]
      },
      {
       "javascript": [
        "$('div#ecc84d8e-69bd-4e14-a205-cb211d700ab0').text(' 33%');"
       ],
       "metadata": {},
       "output_type": "display_data",
       "text": [
        "<IPython.core.display.Javascript at 0x1af2e908>"
       ]
      },
      {
       "javascript": [
        "\n",
        "        var $myPB = $(\"div#69134d0f-b354-44a0-a592-872a7df742d0\")\n",
        "        if ($myPB.hasClass('ui-progressbar')) {\n",
        "            $myPB.progressbar('value', 672);\n",
        "        } else {\n",
        "            $myPB.progressbar({value: 0, max: 2029});\n",
        "        }\n",
        "        "
       ],
       "metadata": {},
       "output_type": "display_data",
       "text": [
        "<IPython.core.display.Javascript at 0x124dce80>"
       ]
      },
      {
       "javascript": [
        "$('div#47ac486a-12dd-402e-bc3e-4329ed6e8d4e').text('ETA:  0:00:00');"
       ],
       "metadata": {},
       "output_type": "display_data",
       "text": [
        "<IPython.core.display.Javascript at 0x36c0e10>"
       ]
      },
      {
       "javascript": [
        "$('div#50829c40-22fa-4a22-844d-77ffa5b6139c').text('693 of 2029');"
       ],
       "metadata": {},
       "output_type": "display_data",
       "text": [
        "<IPython.core.display.Javascript at 0x18578668>"
       ]
      },
      {
       "javascript": [
        "$('div#ecc84d8e-69bd-4e14-a205-cb211d700ab0').text(' 34%');"
       ],
       "metadata": {},
       "output_type": "display_data",
       "text": [
        "<IPython.core.display.Javascript at 0x170e9ba8>"
       ]
      },
      {
       "javascript": [
        "\n",
        "        var $myPB = $(\"div#69134d0f-b354-44a0-a592-872a7df742d0\")\n",
        "        if ($myPB.hasClass('ui-progressbar')) {\n",
        "            $myPB.progressbar('value', 693);\n",
        "        } else {\n",
        "            $myPB.progressbar({value: 0, max: 2029});\n",
        "        }\n",
        "        "
       ],
       "metadata": {},
       "output_type": "display_data",
       "text": [
        "<IPython.core.display.Javascript at 0x124dce80>"
       ]
      },
      {
       "javascript": [
        "$('div#47ac486a-12dd-402e-bc3e-4329ed6e8d4e').text('ETA:  0:00:00');"
       ],
       "metadata": {},
       "output_type": "display_data",
       "text": [
        "<IPython.core.display.Javascript at 0x36c0e10>"
       ]
      },
      {
       "javascript": [
        "$('div#50829c40-22fa-4a22-844d-77ffa5b6139c').text('714 of 2029');"
       ],
       "metadata": {},
       "output_type": "display_data",
       "text": [
        "<IPython.core.display.Javascript at 0x18578668>"
       ]
      },
      {
       "javascript": [
        "$('div#ecc84d8e-69bd-4e14-a205-cb211d700ab0').text(' 35%');"
       ],
       "metadata": {},
       "output_type": "display_data",
       "text": [
        "<IPython.core.display.Javascript at 0x170e9668>"
       ]
      },
      {
       "javascript": [
        "\n",
        "        var $myPB = $(\"div#69134d0f-b354-44a0-a592-872a7df742d0\")\n",
        "        if ($myPB.hasClass('ui-progressbar')) {\n",
        "            $myPB.progressbar('value', 714);\n",
        "        } else {\n",
        "            $myPB.progressbar({value: 0, max: 2029});\n",
        "        }\n",
        "        "
       ],
       "metadata": {},
       "output_type": "display_data",
       "text": [
        "<IPython.core.display.Javascript at 0x124dce80>"
       ]
      },
      {
       "javascript": [
        "$('div#47ac486a-12dd-402e-bc3e-4329ed6e8d4e').text('ETA:  0:00:00');"
       ],
       "metadata": {},
       "output_type": "display_data",
       "text": [
        "<IPython.core.display.Javascript at 0x36c0e10>"
       ]
      },
      {
       "javascript": [
        "$('div#50829c40-22fa-4a22-844d-77ffa5b6139c').text('735 of 2029');"
       ],
       "metadata": {},
       "output_type": "display_data",
       "text": [
        "<IPython.core.display.Javascript at 0x18578668>"
       ]
      },
      {
       "javascript": [
        "$('div#ecc84d8e-69bd-4e14-a205-cb211d700ab0').text(' 36%');"
       ],
       "metadata": {},
       "output_type": "display_data",
       "text": [
        "<IPython.core.display.Javascript at 0x170e96a0>"
       ]
      },
      {
       "javascript": [
        "\n",
        "        var $myPB = $(\"div#69134d0f-b354-44a0-a592-872a7df742d0\")\n",
        "        if ($myPB.hasClass('ui-progressbar')) {\n",
        "            $myPB.progressbar('value', 735);\n",
        "        } else {\n",
        "            $myPB.progressbar({value: 0, max: 2029});\n",
        "        }\n",
        "        "
       ],
       "metadata": {},
       "output_type": "display_data",
       "text": [
        "<IPython.core.display.Javascript at 0x36c0e10>"
       ]
      },
      {
       "javascript": [
        "$('div#47ac486a-12dd-402e-bc3e-4329ed6e8d4e').text('ETA:  0:00:00');"
       ],
       "metadata": {},
       "output_type": "display_data",
       "text": [
        "<IPython.core.display.Javascript at 0x124dce80>"
       ]
      },
      {
       "javascript": [
        "$('div#50829c40-22fa-4a22-844d-77ffa5b6139c').text('756 of 2029');"
       ],
       "metadata": {},
       "output_type": "display_data",
       "text": [
        "<IPython.core.display.Javascript at 0x18578668>"
       ]
      },
      {
       "javascript": [
        "$('div#ecc84d8e-69bd-4e14-a205-cb211d700ab0').text(' 37%');"
       ],
       "metadata": {},
       "output_type": "display_data",
       "text": [
        "<IPython.core.display.Javascript at 0x170e9358>"
       ]
      },
      {
       "javascript": [
        "\n",
        "        var $myPB = $(\"div#69134d0f-b354-44a0-a592-872a7df742d0\")\n",
        "        if ($myPB.hasClass('ui-progressbar')) {\n",
        "            $myPB.progressbar('value', 756);\n",
        "        } else {\n",
        "            $myPB.progressbar({value: 0, max: 2029});\n",
        "        }\n",
        "        "
       ],
       "metadata": {},
       "output_type": "display_data",
       "text": [
        "<IPython.core.display.Javascript at 0x18578668>"
       ]
      },
      {
       "javascript": [
        "$('div#47ac486a-12dd-402e-bc3e-4329ed6e8d4e').text('ETA:  0:00:00');"
       ],
       "metadata": {},
       "output_type": "display_data",
       "text": [
        "<IPython.core.display.Javascript at 0x36c0e10>"
       ]
      },
      {
       "javascript": [
        "$('div#50829c40-22fa-4a22-844d-77ffa5b6139c').text('777 of 2029');"
       ],
       "metadata": {},
       "output_type": "display_data",
       "text": [
        "<IPython.core.display.Javascript at 0x1788d0f0>"
       ]
      },
      {
       "javascript": [
        "$('div#ecc84d8e-69bd-4e14-a205-cb211d700ab0').text(' 38%');"
       ],
       "metadata": {},
       "output_type": "display_data",
       "text": [
        "<IPython.core.display.Javascript at 0x170e9d68>"
       ]
      },
      {
       "javascript": [
        "\n",
        "        var $myPB = $(\"div#69134d0f-b354-44a0-a592-872a7df742d0\")\n",
        "        if ($myPB.hasClass('ui-progressbar')) {\n",
        "            $myPB.progressbar('value', 777);\n",
        "        } else {\n",
        "            $myPB.progressbar({value: 0, max: 2029});\n",
        "        }\n",
        "        "
       ],
       "metadata": {},
       "output_type": "display_data",
       "text": [
        "<IPython.core.display.Javascript at 0x170e94a8>"
       ]
      },
      {
       "javascript": [
        "$('div#47ac486a-12dd-402e-bc3e-4329ed6e8d4e').text('ETA:  0:00:00');"
       ],
       "metadata": {},
       "output_type": "display_data",
       "text": [
        "<IPython.core.display.Javascript at 0x18578668>"
       ]
      },
      {
       "javascript": [
        "$('div#50829c40-22fa-4a22-844d-77ffa5b6139c').text('798 of 2029');"
       ],
       "metadata": {},
       "output_type": "display_data",
       "text": [
        "<IPython.core.display.Javascript at 0x1788d0f0>"
       ]
      },
      {
       "javascript": [
        "$('div#ecc84d8e-69bd-4e14-a205-cb211d700ab0').text(' 39%');"
       ],
       "metadata": {},
       "output_type": "display_data",
       "text": [
        "<IPython.core.display.Javascript at 0x36c0e10>"
       ]
      },
      {
       "javascript": [
        "\n",
        "        var $myPB = $(\"div#69134d0f-b354-44a0-a592-872a7df742d0\")\n",
        "        if ($myPB.hasClass('ui-progressbar')) {\n",
        "            $myPB.progressbar('value', 798);\n",
        "        } else {\n",
        "            $myPB.progressbar({value: 0, max: 2029});\n",
        "        }\n",
        "        "
       ],
       "metadata": {},
       "output_type": "display_data",
       "text": [
        "<IPython.core.display.Javascript at 0x170e94a8>"
       ]
      },
      {
       "javascript": [
        "$('div#47ac486a-12dd-402e-bc3e-4329ed6e8d4e').text('ETA:  0:00:00');"
       ],
       "metadata": {},
       "output_type": "display_data",
       "text": [
        "<IPython.core.display.Javascript at 0x18578668>"
       ]
      },
      {
       "javascript": [
        "$('div#50829c40-22fa-4a22-844d-77ffa5b6139c').text('819 of 2029');"
       ],
       "metadata": {},
       "output_type": "display_data",
       "text": [
        "<IPython.core.display.Javascript at 0x1788d0f0>"
       ]
      },
      {
       "javascript": [
        "$('div#ecc84d8e-69bd-4e14-a205-cb211d700ab0').text(' 40%');"
       ],
       "metadata": {},
       "output_type": "display_data",
       "text": [
        "<IPython.core.display.Javascript at 0x1af2e908>"
       ]
      },
      {
       "javascript": [
        "\n",
        "        var $myPB = $(\"div#69134d0f-b354-44a0-a592-872a7df742d0\")\n",
        "        if ($myPB.hasClass('ui-progressbar')) {\n",
        "            $myPB.progressbar('value', 819);\n",
        "        } else {\n",
        "            $myPB.progressbar({value: 0, max: 2029});\n",
        "        }\n",
        "        "
       ],
       "metadata": {},
       "output_type": "display_data",
       "text": [
        "<IPython.core.display.Javascript at 0x170e94a8>"
       ]
      },
      {
       "javascript": [
        "$('div#47ac486a-12dd-402e-bc3e-4329ed6e8d4e').text('ETA:  0:00:00');"
       ],
       "metadata": {},
       "output_type": "display_data",
       "text": [
        "<IPython.core.display.Javascript at 0x18578668>"
       ]
      },
      {
       "javascript": [
        "$('div#50829c40-22fa-4a22-844d-77ffa5b6139c').text('840 of 2029');"
       ],
       "metadata": {},
       "output_type": "display_data",
       "text": [
        "<IPython.core.display.Javascript at 0x1788d0f0>"
       ]
      },
      {
       "javascript": [
        "$('div#ecc84d8e-69bd-4e14-a205-cb211d700ab0').text(' 41%');"
       ],
       "metadata": {},
       "output_type": "display_data",
       "text": [
        "<IPython.core.display.Javascript at 0x1af2e860>"
       ]
      },
      {
       "javascript": [
        "\n",
        "        var $myPB = $(\"div#69134d0f-b354-44a0-a592-872a7df742d0\")\n",
        "        if ($myPB.hasClass('ui-progressbar')) {\n",
        "            $myPB.progressbar('value', 840);\n",
        "        } else {\n",
        "            $myPB.progressbar({value: 0, max: 2029});\n",
        "        }\n",
        "        "
       ],
       "metadata": {},
       "output_type": "display_data",
       "text": [
        "<IPython.core.display.Javascript at 0x170e94a8>"
       ]
      },
      {
       "javascript": [
        "$('div#47ac486a-12dd-402e-bc3e-4329ed6e8d4e').text('ETA:  0:00:00');"
       ],
       "metadata": {},
       "output_type": "display_data",
       "text": [
        "<IPython.core.display.Javascript at 0x18578668>"
       ]
      },
      {
       "javascript": [
        "$('div#50829c40-22fa-4a22-844d-77ffa5b6139c').text('861 of 2029');"
       ],
       "metadata": {},
       "output_type": "display_data",
       "text": [
        "<IPython.core.display.Javascript at 0x124dce80>"
       ]
      },
      {
       "javascript": [
        "$('div#ecc84d8e-69bd-4e14-a205-cb211d700ab0').text(' 42%');"
       ],
       "metadata": {},
       "output_type": "display_data",
       "text": [
        "<IPython.core.display.Javascript at 0x1af2e588>"
       ]
      },
      {
       "javascript": [
        "\n",
        "        var $myPB = $(\"div#69134d0f-b354-44a0-a592-872a7df742d0\")\n",
        "        if ($myPB.hasClass('ui-progressbar')) {\n",
        "            $myPB.progressbar('value', 861);\n",
        "        } else {\n",
        "            $myPB.progressbar({value: 0, max: 2029});\n",
        "        }\n",
        "        "
       ],
       "metadata": {},
       "output_type": "display_data",
       "text": [
        "<IPython.core.display.Javascript at 0x170e94a8>"
       ]
      },
      {
       "javascript": [
        "$('div#47ac486a-12dd-402e-bc3e-4329ed6e8d4e').text('ETA:  0:00:00');"
       ],
       "metadata": {},
       "output_type": "display_data",
       "text": [
        "<IPython.core.display.Javascript at 0x18578668>"
       ]
      },
      {
       "javascript": [
        "$('div#50829c40-22fa-4a22-844d-77ffa5b6139c').text('882 of 2029');"
       ],
       "metadata": {},
       "output_type": "display_data",
       "text": [
        "<IPython.core.display.Javascript at 0x124dce80>"
       ]
      },
      {
       "javascript": [
        "$('div#ecc84d8e-69bd-4e14-a205-cb211d700ab0').text(' 43%');"
       ],
       "metadata": {},
       "output_type": "display_data",
       "text": [
        "<IPython.core.display.Javascript at 0x1af2e390>"
       ]
      },
      {
       "javascript": [
        "\n",
        "        var $myPB = $(\"div#69134d0f-b354-44a0-a592-872a7df742d0\")\n",
        "        if ($myPB.hasClass('ui-progressbar')) {\n",
        "            $myPB.progressbar('value', 882);\n",
        "        } else {\n",
        "            $myPB.progressbar({value: 0, max: 2029});\n",
        "        }\n",
        "        "
       ],
       "metadata": {},
       "output_type": "display_data",
       "text": [
        "<IPython.core.display.Javascript at 0x170e94a8>"
       ]
      },
      {
       "javascript": [
        "$('div#47ac486a-12dd-402e-bc3e-4329ed6e8d4e').text('ETA:  0:00:00');"
       ],
       "metadata": {},
       "output_type": "display_data",
       "text": [
        "<IPython.core.display.Javascript at 0x18578668>"
       ]
      },
      {
       "javascript": [
        "$('div#50829c40-22fa-4a22-844d-77ffa5b6139c').text('903 of 2029');"
       ],
       "metadata": {},
       "output_type": "display_data",
       "text": [
        "<IPython.core.display.Javascript at 0x124dce80>"
       ]
      },
      {
       "javascript": [
        "$('div#ecc84d8e-69bd-4e14-a205-cb211d700ab0').text(' 44%');"
       ],
       "metadata": {},
       "output_type": "display_data",
       "text": [
        "<IPython.core.display.Javascript at 0x1af2e208>"
       ]
      },
      {
       "javascript": [
        "\n",
        "        var $myPB = $(\"div#69134d0f-b354-44a0-a592-872a7df742d0\")\n",
        "        if ($myPB.hasClass('ui-progressbar')) {\n",
        "            $myPB.progressbar('value', 903);\n",
        "        } else {\n",
        "            $myPB.progressbar({value: 0, max: 2029});\n",
        "        }\n",
        "        "
       ],
       "metadata": {},
       "output_type": "display_data",
       "text": [
        "<IPython.core.display.Javascript at 0x170e94a8>"
       ]
      },
      {
       "javascript": [
        "$('div#47ac486a-12dd-402e-bc3e-4329ed6e8d4e').text('ETA:  0:00:00');"
       ],
       "metadata": {},
       "output_type": "display_data",
       "text": [
        "<IPython.core.display.Javascript at 0x18578668>"
       ]
      },
      {
       "javascript": [
        "$('div#50829c40-22fa-4a22-844d-77ffa5b6139c').text('924 of 2029');"
       ],
       "metadata": {},
       "output_type": "display_data",
       "text": [
        "<IPython.core.display.Javascript at 0x124dce80>"
       ]
      },
      {
       "javascript": [
        "$('div#ecc84d8e-69bd-4e14-a205-cb211d700ab0').text(' 45%');"
       ],
       "metadata": {},
       "output_type": "display_data",
       "text": [
        "<IPython.core.display.Javascript at 0x1af2e588>"
       ]
      },
      {
       "javascript": [
        "\n",
        "        var $myPB = $(\"div#69134d0f-b354-44a0-a592-872a7df742d0\")\n",
        "        if ($myPB.hasClass('ui-progressbar')) {\n",
        "            $myPB.progressbar('value', 924);\n",
        "        } else {\n",
        "            $myPB.progressbar({value: 0, max: 2029});\n",
        "        }\n",
        "        "
       ],
       "metadata": {},
       "output_type": "display_data",
       "text": [
        "<IPython.core.display.Javascript at 0x36c0e10>"
       ]
      },
      {
       "javascript": [
        "$('div#47ac486a-12dd-402e-bc3e-4329ed6e8d4e').text('ETA:  0:00:00');"
       ],
       "metadata": {},
       "output_type": "display_data",
       "text": [
        "<IPython.core.display.Javascript at 0x18578668>"
       ]
      },
      {
       "javascript": [
        "$('div#50829c40-22fa-4a22-844d-77ffa5b6139c').text('945 of 2029');"
       ],
       "metadata": {},
       "output_type": "display_data",
       "text": [
        "<IPython.core.display.Javascript at 0x124dce80>"
       ]
      },
      {
       "javascript": [
        "$('div#ecc84d8e-69bd-4e14-a205-cb211d700ab0').text(' 46%');"
       ],
       "metadata": {},
       "output_type": "display_data",
       "text": [
        "<IPython.core.display.Javascript at 0x170e94a8>"
       ]
      },
      {
       "javascript": [
        "\n",
        "        var $myPB = $(\"div#69134d0f-b354-44a0-a592-872a7df742d0\")\n",
        "        if ($myPB.hasClass('ui-progressbar')) {\n",
        "            $myPB.progressbar('value', 945);\n",
        "        } else {\n",
        "            $myPB.progressbar({value: 0, max: 2029});\n",
        "        }\n",
        "        "
       ],
       "metadata": {},
       "output_type": "display_data",
       "text": [
        "<IPython.core.display.Javascript at 0x36c0e10>"
       ]
      },
      {
       "javascript": [
        "$('div#47ac486a-12dd-402e-bc3e-4329ed6e8d4e').text('ETA:  0:00:00');"
       ],
       "metadata": {},
       "output_type": "display_data",
       "text": [
        "<IPython.core.display.Javascript at 0x18578668>"
       ]
      },
      {
       "javascript": [
        "$('div#50829c40-22fa-4a22-844d-77ffa5b6139c').text('966 of 2029');"
       ],
       "metadata": {},
       "output_type": "display_data",
       "text": [
        "<IPython.core.display.Javascript at 0x124dce80>"
       ]
      },
      {
       "javascript": [
        "$('div#ecc84d8e-69bd-4e14-a205-cb211d700ab0').text(' 47%');"
       ],
       "metadata": {},
       "output_type": "display_data",
       "text": [
        "<IPython.core.display.Javascript at 0x170e9358>"
       ]
      },
      {
       "javascript": [
        "\n",
        "        var $myPB = $(\"div#69134d0f-b354-44a0-a592-872a7df742d0\")\n",
        "        if ($myPB.hasClass('ui-progressbar')) {\n",
        "            $myPB.progressbar('value', 966);\n",
        "        } else {\n",
        "            $myPB.progressbar({value: 0, max: 2029});\n",
        "        }\n",
        "        "
       ],
       "metadata": {},
       "output_type": "display_data",
       "text": [
        "<IPython.core.display.Javascript at 0x36c0e10>"
       ]
      },
      {
       "javascript": [
        "$('div#47ac486a-12dd-402e-bc3e-4329ed6e8d4e').text('ETA:  0:00:00');"
       ],
       "metadata": {},
       "output_type": "display_data",
       "text": [
        "<IPython.core.display.Javascript at 0x18578668>"
       ]
      },
      {
       "javascript": [
        "$('div#50829c40-22fa-4a22-844d-77ffa5b6139c').text('987 of 2029');"
       ],
       "metadata": {},
       "output_type": "display_data",
       "text": [
        "<IPython.core.display.Javascript at 0x124dce80>"
       ]
      },
      {
       "javascript": [
        "$('div#ecc84d8e-69bd-4e14-a205-cb211d700ab0').text(' 48%');"
       ],
       "metadata": {},
       "output_type": "display_data",
       "text": [
        "<IPython.core.display.Javascript at 0x170e96a0>"
       ]
      },
      {
       "javascript": [
        "\n",
        "        var $myPB = $(\"div#69134d0f-b354-44a0-a592-872a7df742d0\")\n",
        "        if ($myPB.hasClass('ui-progressbar')) {\n",
        "            $myPB.progressbar('value', 987);\n",
        "        } else {\n",
        "            $myPB.progressbar({value: 0, max: 2029});\n",
        "        }\n",
        "        "
       ],
       "metadata": {},
       "output_type": "display_data",
       "text": [
        "<IPython.core.display.Javascript at 0x18578668>"
       ]
      },
      {
       "javascript": [
        "$('div#47ac486a-12dd-402e-bc3e-4329ed6e8d4e').text('ETA:  0:00:00');"
       ],
       "metadata": {},
       "output_type": "display_data",
       "text": [
        "<IPython.core.display.Javascript at 0x36c0e10>"
       ]
      },
      {
       "javascript": [
        "$('div#50829c40-22fa-4a22-844d-77ffa5b6139c').text('1008 of 2029');"
       ],
       "metadata": {},
       "output_type": "display_data",
       "text": [
        "<IPython.core.display.Javascript at 0x124dce80>"
       ]
      },
      {
       "javascript": [
        "$('div#ecc84d8e-69bd-4e14-a205-cb211d700ab0').text(' 49%');"
       ],
       "metadata": {},
       "output_type": "display_data",
       "text": [
        "<IPython.core.display.Javascript at 0x170e9d68>"
       ]
      },
      {
       "javascript": [
        "\n",
        "        var $myPB = $(\"div#69134d0f-b354-44a0-a592-872a7df742d0\")\n",
        "        if ($myPB.hasClass('ui-progressbar')) {\n",
        "            $myPB.progressbar('value', 1008);\n",
        "        } else {\n",
        "            $myPB.progressbar({value: 0, max: 2029});\n",
        "        }\n",
        "        "
       ],
       "metadata": {},
       "output_type": "display_data",
       "text": [
        "<IPython.core.display.Javascript at 0x124dce80>"
       ]
      },
      {
       "javascript": [
        "$('div#47ac486a-12dd-402e-bc3e-4329ed6e8d4e').text('ETA:  0:00:00');"
       ],
       "metadata": {},
       "output_type": "display_data",
       "text": [
        "<IPython.core.display.Javascript at 0x18578668>"
       ]
      },
      {
       "javascript": [
        "$('div#50829c40-22fa-4a22-844d-77ffa5b6139c').text('1029 of 2029');"
       ],
       "metadata": {},
       "output_type": "display_data",
       "text": [
        "<IPython.core.display.Javascript at 0x1788d0f0>"
       ]
      },
      {
       "javascript": [
        "$('div#ecc84d8e-69bd-4e14-a205-cb211d700ab0').text(' 50%');"
       ],
       "metadata": {},
       "output_type": "display_data",
       "text": [
        "<IPython.core.display.Javascript at 0x170e9ba8>"
       ]
      },
      {
       "javascript": [
        "\n",
        "        var $myPB = $(\"div#69134d0f-b354-44a0-a592-872a7df742d0\")\n",
        "        if ($myPB.hasClass('ui-progressbar')) {\n",
        "            $myPB.progressbar('value', 1029);\n",
        "        } else {\n",
        "            $myPB.progressbar({value: 0, max: 2029});\n",
        "        }\n",
        "        "
       ],
       "metadata": {},
       "output_type": "display_data",
       "text": [
        "<IPython.core.display.Javascript at 0x170e9668>"
       ]
      },
      {
       "javascript": [
        "$('div#47ac486a-12dd-402e-bc3e-4329ed6e8d4e').text('ETA:  0:00:00');"
       ],
       "metadata": {},
       "output_type": "display_data",
       "text": [
        "<IPython.core.display.Javascript at 0x124dce80>"
       ]
      },
      {
       "javascript": [
        "$('div#50829c40-22fa-4a22-844d-77ffa5b6139c').text('1050 of 2029');"
       ],
       "metadata": {},
       "output_type": "display_data",
       "text": [
        "<IPython.core.display.Javascript at 0x1788d0f0>"
       ]
      },
      {
       "javascript": [
        "$('div#ecc84d8e-69bd-4e14-a205-cb211d700ab0').text(' 51%');"
       ],
       "metadata": {},
       "output_type": "display_data",
       "text": [
        "<IPython.core.display.Javascript at 0x18578668>"
       ]
      },
      {
       "javascript": [
        "\n",
        "        var $myPB = $(\"div#69134d0f-b354-44a0-a592-872a7df742d0\")\n",
        "        if ($myPB.hasClass('ui-progressbar')) {\n",
        "            $myPB.progressbar('value', 1050);\n",
        "        } else {\n",
        "            $myPB.progressbar({value: 0, max: 2029});\n",
        "        }\n",
        "        "
       ],
       "metadata": {},
       "output_type": "display_data",
       "text": [
        "<IPython.core.display.Javascript at 0x170e9668>"
       ]
      },
      {
       "javascript": [
        "$('div#47ac486a-12dd-402e-bc3e-4329ed6e8d4e').text('ETA:  0:00:00');"
       ],
       "metadata": {},
       "output_type": "display_data",
       "text": [
        "<IPython.core.display.Javascript at 0x124dce80>"
       ]
      },
      {
       "javascript": [
        "$('div#50829c40-22fa-4a22-844d-77ffa5b6139c').text('1071 of 2029');"
       ],
       "metadata": {},
       "output_type": "display_data",
       "text": [
        "<IPython.core.display.Javascript at 0x1788d0f0>"
       ]
      },
      {
       "javascript": [
        "$('div#ecc84d8e-69bd-4e14-a205-cb211d700ab0').text(' 52%');"
       ],
       "metadata": {},
       "output_type": "display_data",
       "text": [
        "<IPython.core.display.Javascript at 0x1af2e390>"
       ]
      },
      {
       "javascript": [
        "\n",
        "        var $myPB = $(\"div#69134d0f-b354-44a0-a592-872a7df742d0\")\n",
        "        if ($myPB.hasClass('ui-progressbar')) {\n",
        "            $myPB.progressbar('value', 1071);\n",
        "        } else {\n",
        "            $myPB.progressbar({value: 0, max: 2029});\n",
        "        }\n",
        "        "
       ],
       "metadata": {},
       "output_type": "display_data",
       "text": [
        "<IPython.core.display.Javascript at 0x170e9668>"
       ]
      },
      {
       "javascript": [
        "$('div#47ac486a-12dd-402e-bc3e-4329ed6e8d4e').text('ETA:  0:00:00');"
       ],
       "metadata": {},
       "output_type": "display_data",
       "text": [
        "<IPython.core.display.Javascript at 0x124dce80>"
       ]
      },
      {
       "javascript": [
        "$('div#50829c40-22fa-4a22-844d-77ffa5b6139c').text('1092 of 2029');"
       ],
       "metadata": {},
       "output_type": "display_data",
       "text": [
        "<IPython.core.display.Javascript at 0x1788d0f0>"
       ]
      },
      {
       "javascript": [
        "$('div#ecc84d8e-69bd-4e14-a205-cb211d700ab0').text(' 53%');"
       ],
       "metadata": {},
       "output_type": "display_data",
       "text": [
        "<IPython.core.display.Javascript at 0x1af2e7b8>"
       ]
      },
      {
       "javascript": [
        "\n",
        "        var $myPB = $(\"div#69134d0f-b354-44a0-a592-872a7df742d0\")\n",
        "        if ($myPB.hasClass('ui-progressbar')) {\n",
        "            $myPB.progressbar('value', 1092);\n",
        "        } else {\n",
        "            $myPB.progressbar({value: 0, max: 2029});\n",
        "        }\n",
        "        "
       ],
       "metadata": {},
       "output_type": "display_data",
       "text": [
        "<IPython.core.display.Javascript at 0x170e9668>"
       ]
      },
      {
       "javascript": [
        "$('div#47ac486a-12dd-402e-bc3e-4329ed6e8d4e').text('ETA:  0:00:00');"
       ],
       "metadata": {},
       "output_type": "display_data",
       "text": [
        "<IPython.core.display.Javascript at 0x124dce80>"
       ]
      },
      {
       "javascript": [
        "$('div#50829c40-22fa-4a22-844d-77ffa5b6139c').text('1113 of 2029');"
       ],
       "metadata": {},
       "output_type": "display_data",
       "text": [
        "<IPython.core.display.Javascript at 0x1788d0f0>"
       ]
      },
      {
       "javascript": [
        "$('div#ecc84d8e-69bd-4e14-a205-cb211d700ab0').text(' 54%');"
       ],
       "metadata": {},
       "output_type": "display_data",
       "text": [
        "<IPython.core.display.Javascript at 0x1af2e208>"
       ]
      },
      {
       "javascript": [
        "\n",
        "        var $myPB = $(\"div#69134d0f-b354-44a0-a592-872a7df742d0\")\n",
        "        if ($myPB.hasClass('ui-progressbar')) {\n",
        "            $myPB.progressbar('value', 1113);\n",
        "        } else {\n",
        "            $myPB.progressbar({value: 0, max: 2029});\n",
        "        }\n",
        "        "
       ],
       "metadata": {},
       "output_type": "display_data",
       "text": [
        "<IPython.core.display.Javascript at 0x170e9668>"
       ]
      },
      {
       "javascript": [
        "$('div#47ac486a-12dd-402e-bc3e-4329ed6e8d4e').text('ETA:  0:00:00');"
       ],
       "metadata": {},
       "output_type": "display_data",
       "text": [
        "<IPython.core.display.Javascript at 0x124dce80>"
       ]
      },
      {
       "javascript": [
        "$('div#50829c40-22fa-4a22-844d-77ffa5b6139c').text('1134 of 2029');"
       ],
       "metadata": {},
       "output_type": "display_data",
       "text": [
        "<IPython.core.display.Javascript at 0x1788d0f0>"
       ]
      },
      {
       "javascript": [
        "$('div#ecc84d8e-69bd-4e14-a205-cb211d700ab0').text(' 55%');"
       ],
       "metadata": {},
       "output_type": "display_data",
       "text": [
        "<IPython.core.display.Javascript at 0x1af2e860>"
       ]
      },
      {
       "javascript": [
        "\n",
        "        var $myPB = $(\"div#69134d0f-b354-44a0-a592-872a7df742d0\")\n",
        "        if ($myPB.hasClass('ui-progressbar')) {\n",
        "            $myPB.progressbar('value', 1134);\n",
        "        } else {\n",
        "            $myPB.progressbar({value: 0, max: 2029});\n",
        "        }\n",
        "        "
       ],
       "metadata": {},
       "output_type": "display_data",
       "text": [
        "<IPython.core.display.Javascript at 0x170e9668>"
       ]
      },
      {
       "javascript": [
        "$('div#47ac486a-12dd-402e-bc3e-4329ed6e8d4e').text('ETA:  0:00:00');"
       ],
       "metadata": {},
       "output_type": "display_data",
       "text": [
        "<IPython.core.display.Javascript at 0x124dce80>"
       ]
      },
      {
       "javascript": [
        "$('div#50829c40-22fa-4a22-844d-77ffa5b6139c').text('1155 of 2029');"
       ],
       "metadata": {},
       "output_type": "display_data",
       "text": [
        "<IPython.core.display.Javascript at 0x1788d0f0>"
       ]
      },
      {
       "javascript": [
        "$('div#ecc84d8e-69bd-4e14-a205-cb211d700ab0').text(' 56%');"
       ],
       "metadata": {},
       "output_type": "display_data",
       "text": [
        "<IPython.core.display.Javascript at 0x1af2e7b8>"
       ]
      },
      {
       "javascript": [
        "\n",
        "        var $myPB = $(\"div#69134d0f-b354-44a0-a592-872a7df742d0\")\n",
        "        if ($myPB.hasClass('ui-progressbar')) {\n",
        "            $myPB.progressbar('value', 1155);\n",
        "        } else {\n",
        "            $myPB.progressbar({value: 0, max: 2029});\n",
        "        }\n",
        "        "
       ],
       "metadata": {},
       "output_type": "display_data",
       "text": [
        "<IPython.core.display.Javascript at 0x170e9668>"
       ]
      },
      {
       "javascript": [
        "$('div#47ac486a-12dd-402e-bc3e-4329ed6e8d4e').text('ETA:  0:00:00');"
       ],
       "metadata": {},
       "output_type": "display_data",
       "text": [
        "<IPython.core.display.Javascript at 0x124dce80>"
       ]
      },
      {
       "javascript": [
        "$('div#50829c40-22fa-4a22-844d-77ffa5b6139c').text('1176 of 2029');"
       ],
       "metadata": {},
       "output_type": "display_data",
       "text": [
        "<IPython.core.display.Javascript at 0x1788d0f0>"
       ]
      },
      {
       "javascript": [
        "$('div#ecc84d8e-69bd-4e14-a205-cb211d700ab0').text(' 57%');"
       ],
       "metadata": {},
       "output_type": "display_data",
       "text": [
        "<IPython.core.display.Javascript at 0x1af2e208>"
       ]
      },
      {
       "javascript": [
        "\n",
        "        var $myPB = $(\"div#69134d0f-b354-44a0-a592-872a7df742d0\")\n",
        "        if ($myPB.hasClass('ui-progressbar')) {\n",
        "            $myPB.progressbar('value', 1176);\n",
        "        } else {\n",
        "            $myPB.progressbar({value: 0, max: 2029});\n",
        "        }\n",
        "        "
       ],
       "metadata": {},
       "output_type": "display_data",
       "text": [
        "<IPython.core.display.Javascript at 0x18578668>"
       ]
      },
      {
       "javascript": [
        "$('div#47ac486a-12dd-402e-bc3e-4329ed6e8d4e').text('ETA:  0:00:00');"
       ],
       "metadata": {},
       "output_type": "display_data",
       "text": [
        "<IPython.core.display.Javascript at 0x124dce80>"
       ]
      },
      {
       "javascript": [
        "$('div#50829c40-22fa-4a22-844d-77ffa5b6139c').text('1197 of 2029');"
       ],
       "metadata": {},
       "output_type": "display_data",
       "text": [
        "<IPython.core.display.Javascript at 0x1788d0f0>"
       ]
      },
      {
       "javascript": [
        "$('div#ecc84d8e-69bd-4e14-a205-cb211d700ab0').text(' 58%');"
       ],
       "metadata": {},
       "output_type": "display_data",
       "text": [
        "<IPython.core.display.Javascript at 0x170e9668>"
       ]
      },
      {
       "javascript": [
        "\n",
        "        var $myPB = $(\"div#69134d0f-b354-44a0-a592-872a7df742d0\")\n",
        "        if ($myPB.hasClass('ui-progressbar')) {\n",
        "            $myPB.progressbar('value', 1197);\n",
        "        } else {\n",
        "            $myPB.progressbar({value: 0, max: 2029});\n",
        "        }\n",
        "        "
       ],
       "metadata": {},
       "output_type": "display_data",
       "text": [
        "<IPython.core.display.Javascript at 0x18578668>"
       ]
      },
      {
       "javascript": [
        "$('div#47ac486a-12dd-402e-bc3e-4329ed6e8d4e').text('ETA:  0:00:00');"
       ],
       "metadata": {},
       "output_type": "display_data",
       "text": [
        "<IPython.core.display.Javascript at 0x124dce80>"
       ]
      },
      {
       "javascript": [
        "$('div#50829c40-22fa-4a22-844d-77ffa5b6139c').text('1218 of 2029');"
       ],
       "metadata": {},
       "output_type": "display_data",
       "text": [
        "<IPython.core.display.Javascript at 0x36c0e10>"
       ]
      },
      {
       "javascript": [
        "$('div#ecc84d8e-69bd-4e14-a205-cb211d700ab0').text(' 60%');"
       ],
       "metadata": {},
       "output_type": "display_data",
       "text": [
        "<IPython.core.display.Javascript at 0x170e9d68>"
       ]
      },
      {
       "javascript": [
        "\n",
        "        var $myPB = $(\"div#69134d0f-b354-44a0-a592-872a7df742d0\")\n",
        "        if ($myPB.hasClass('ui-progressbar')) {\n",
        "            $myPB.progressbar('value', 1218);\n",
        "        } else {\n",
        "            $myPB.progressbar({value: 0, max: 2029});\n",
        "        }\n",
        "        "
       ],
       "metadata": {},
       "output_type": "display_data",
       "text": [
        "<IPython.core.display.Javascript at 0x18578668>"
       ]
      },
      {
       "javascript": [
        "$('div#47ac486a-12dd-402e-bc3e-4329ed6e8d4e').text('ETA:  0:00:00');"
       ],
       "metadata": {},
       "output_type": "display_data",
       "text": [
        "<IPython.core.display.Javascript at 0x124dce80>"
       ]
      },
      {
       "javascript": [
        "$('div#50829c40-22fa-4a22-844d-77ffa5b6139c').text('1239 of 2029');"
       ],
       "metadata": {},
       "output_type": "display_data",
       "text": [
        "<IPython.core.display.Javascript at 0x36c0e10>"
       ]
      },
      {
       "javascript": [
        "$('div#ecc84d8e-69bd-4e14-a205-cb211d700ab0').text(' 61%');"
       ],
       "metadata": {},
       "output_type": "display_data",
       "text": [
        "<IPython.core.display.Javascript at 0x170e96a0>"
       ]
      },
      {
       "javascript": [
        "\n",
        "        var $myPB = $(\"div#69134d0f-b354-44a0-a592-872a7df742d0\")\n",
        "        if ($myPB.hasClass('ui-progressbar')) {\n",
        "            $myPB.progressbar('value', 1239);\n",
        "        } else {\n",
        "            $myPB.progressbar({value: 0, max: 2029});\n",
        "        }\n",
        "        "
       ],
       "metadata": {},
       "output_type": "display_data",
       "text": [
        "<IPython.core.display.Javascript at 0x124dce80>"
       ]
      },
      {
       "javascript": [
        "$('div#47ac486a-12dd-402e-bc3e-4329ed6e8d4e').text('ETA:  0:00:00');"
       ],
       "metadata": {},
       "output_type": "display_data",
       "text": [
        "<IPython.core.display.Javascript at 0x18578668>"
       ]
      },
      {
       "javascript": [
        "$('div#50829c40-22fa-4a22-844d-77ffa5b6139c').text('1260 of 2029');"
       ],
       "metadata": {},
       "output_type": "display_data",
       "text": [
        "<IPython.core.display.Javascript at 0x36c0e10>"
       ]
      },
      {
       "javascript": [
        "$('div#ecc84d8e-69bd-4e14-a205-cb211d700ab0').text(' 62%');"
       ],
       "metadata": {},
       "output_type": "display_data",
       "text": [
        "<IPython.core.display.Javascript at 0x170e9ba8>"
       ]
      },
      {
       "javascript": [
        "\n",
        "        var $myPB = $(\"div#69134d0f-b354-44a0-a592-872a7df742d0\")\n",
        "        if ($myPB.hasClass('ui-progressbar')) {\n",
        "            $myPB.progressbar('value', 1260);\n",
        "        } else {\n",
        "            $myPB.progressbar({value: 0, max: 2029});\n",
        "        }\n",
        "        "
       ],
       "metadata": {},
       "output_type": "display_data",
       "text": [
        "<IPython.core.display.Javascript at 0x36c0e10>"
       ]
      },
      {
       "javascript": [
        "$('div#47ac486a-12dd-402e-bc3e-4329ed6e8d4e').text('ETA:  0:00:00');"
       ],
       "metadata": {},
       "output_type": "display_data",
       "text": [
        "<IPython.core.display.Javascript at 0x124dce80>"
       ]
      },
      {
       "javascript": [
        "$('div#50829c40-22fa-4a22-844d-77ffa5b6139c').text('1281 of 2029');"
       ],
       "metadata": {},
       "output_type": "display_data",
       "text": [
        "<IPython.core.display.Javascript at 0x18578668>"
       ]
      },
      {
       "javascript": [
        "$('div#ecc84d8e-69bd-4e14-a205-cb211d700ab0').text(' 63%');"
       ],
       "metadata": {},
       "output_type": "display_data",
       "text": [
        "<IPython.core.display.Javascript at 0x170e94a8>"
       ]
      },
      {
       "javascript": [
        "\n",
        "        var $myPB = $(\"div#69134d0f-b354-44a0-a592-872a7df742d0\")\n",
        "        if ($myPB.hasClass('ui-progressbar')) {\n",
        "            $myPB.progressbar('value', 1281);\n",
        "        } else {\n",
        "            $myPB.progressbar({value: 0, max: 2029});\n",
        "        }\n",
        "        "
       ],
       "metadata": {},
       "output_type": "display_data",
       "text": [
        "<IPython.core.display.Javascript at 0x170e9358>"
       ]
      },
      {
       "javascript": [
        "$('div#47ac486a-12dd-402e-bc3e-4329ed6e8d4e').text('ETA:  0:00:00');"
       ],
       "metadata": {},
       "output_type": "display_data",
       "text": [
        "<IPython.core.display.Javascript at 0x36c0e10>"
       ]
      },
      {
       "javascript": [
        "$('div#50829c40-22fa-4a22-844d-77ffa5b6139c').text('1302 of 2029');"
       ],
       "metadata": {},
       "output_type": "display_data",
       "text": [
        "<IPython.core.display.Javascript at 0x18578668>"
       ]
      },
      {
       "javascript": [
        "$('div#ecc84d8e-69bd-4e14-a205-cb211d700ab0').text(' 64%');"
       ],
       "metadata": {},
       "output_type": "display_data",
       "text": [
        "<IPython.core.display.Javascript at 0x124dce80>"
       ]
      },
      {
       "javascript": [
        "\n",
        "        var $myPB = $(\"div#69134d0f-b354-44a0-a592-872a7df742d0\")\n",
        "        if ($myPB.hasClass('ui-progressbar')) {\n",
        "            $myPB.progressbar('value', 1302);\n",
        "        } else {\n",
        "            $myPB.progressbar({value: 0, max: 2029});\n",
        "        }\n",
        "        "
       ],
       "metadata": {},
       "output_type": "display_data",
       "text": [
        "<IPython.core.display.Javascript at 0x170e9358>"
       ]
      },
      {
       "javascript": [
        "$('div#47ac486a-12dd-402e-bc3e-4329ed6e8d4e').text('ETA:  0:00:00');"
       ],
       "metadata": {},
       "output_type": "display_data",
       "text": [
        "<IPython.core.display.Javascript at 0x36c0e10>"
       ]
      },
      {
       "javascript": [
        "$('div#50829c40-22fa-4a22-844d-77ffa5b6139c').text('1323 of 2029');"
       ],
       "metadata": {},
       "output_type": "display_data",
       "text": [
        "<IPython.core.display.Javascript at 0x1788d0f0>"
       ]
      },
      {
       "javascript": [
        "$('div#ecc84d8e-69bd-4e14-a205-cb211d700ab0').text(' 65%');"
       ],
       "metadata": {},
       "output_type": "display_data",
       "text": [
        "<IPython.core.display.Javascript at 0x1af2e208>"
       ]
      },
      {
       "javascript": [
        "\n",
        "        var $myPB = $(\"div#69134d0f-b354-44a0-a592-872a7df742d0\")\n",
        "        if ($myPB.hasClass('ui-progressbar')) {\n",
        "            $myPB.progressbar('value', 1323);\n",
        "        } else {\n",
        "            $myPB.progressbar({value: 0, max: 2029});\n",
        "        }\n",
        "        "
       ],
       "metadata": {},
       "output_type": "display_data",
       "text": [
        "<IPython.core.display.Javascript at 0x170e9358>"
       ]
      },
      {
       "javascript": [
        "$('div#47ac486a-12dd-402e-bc3e-4329ed6e8d4e').text('ETA:  0:00:00');"
       ],
       "metadata": {},
       "output_type": "display_data",
       "text": [
        "<IPython.core.display.Javascript at 0x36c0e10>"
       ]
      },
      {
       "javascript": [
        "$('div#50829c40-22fa-4a22-844d-77ffa5b6139c').text('1344 of 2029');"
       ],
       "metadata": {},
       "output_type": "display_data",
       "text": [
        "<IPython.core.display.Javascript at 0x1788d0f0>"
       ]
      },
      {
       "javascript": [
        "$('div#ecc84d8e-69bd-4e14-a205-cb211d700ab0').text(' 66%');"
       ],
       "metadata": {},
       "output_type": "display_data",
       "text": [
        "<IPython.core.display.Javascript at 0x1af2e908>"
       ]
      },
      {
       "javascript": [
        "\n",
        "        var $myPB = $(\"div#69134d0f-b354-44a0-a592-872a7df742d0\")\n",
        "        if ($myPB.hasClass('ui-progressbar')) {\n",
        "            $myPB.progressbar('value', 1344);\n",
        "        } else {\n",
        "            $myPB.progressbar({value: 0, max: 2029});\n",
        "        }\n",
        "        "
       ],
       "metadata": {},
       "output_type": "display_data",
       "text": [
        "<IPython.core.display.Javascript at 0x170e9358>"
       ]
      },
      {
       "javascript": [
        "$('div#47ac486a-12dd-402e-bc3e-4329ed6e8d4e').text('ETA:  0:00:00');"
       ],
       "metadata": {},
       "output_type": "display_data",
       "text": [
        "<IPython.core.display.Javascript at 0x36c0e10>"
       ]
      },
      {
       "javascript": [
        "$('div#50829c40-22fa-4a22-844d-77ffa5b6139c').text('1365 of 2029');"
       ],
       "metadata": {},
       "output_type": "display_data",
       "text": [
        "<IPython.core.display.Javascript at 0x1af2ea20>"
       ]
      },
      {
       "javascript": [
        "$('div#ecc84d8e-69bd-4e14-a205-cb211d700ab0').text(' 67%');"
       ],
       "metadata": {},
       "output_type": "display_data",
       "text": [
        "<IPython.core.display.Javascript at 0x1af2e860>"
       ]
      },
      {
       "javascript": [
        "\n",
        "        var $myPB = $(\"div#69134d0f-b354-44a0-a592-872a7df742d0\")\n",
        "        if ($myPB.hasClass('ui-progressbar')) {\n",
        "            $myPB.progressbar('value', 1365);\n",
        "        } else {\n",
        "            $myPB.progressbar({value: 0, max: 2029});\n",
        "        }\n",
        "        "
       ],
       "metadata": {},
       "output_type": "display_data",
       "text": [
        "<IPython.core.display.Javascript at 0x170e9358>"
       ]
      },
      {
       "javascript": [
        "$('div#47ac486a-12dd-402e-bc3e-4329ed6e8d4e').text('ETA:  0:00:00');"
       ],
       "metadata": {},
       "output_type": "display_data",
       "text": [
        "<IPython.core.display.Javascript at 0x36c0e10>"
       ]
      },
      {
       "javascript": [
        "$('div#50829c40-22fa-4a22-844d-77ffa5b6139c').text('1386 of 2029');"
       ],
       "metadata": {},
       "output_type": "display_data",
       "text": [
        "<IPython.core.display.Javascript at 0x1af2ed68>"
       ]
      },
      {
       "javascript": [
        "$('div#ecc84d8e-69bd-4e14-a205-cb211d700ab0').text(' 68%');"
       ],
       "metadata": {},
       "output_type": "display_data",
       "text": [
        "<IPython.core.display.Javascript at 0x1af2e390>"
       ]
      },
      {
       "javascript": [
        "\n",
        "        var $myPB = $(\"div#69134d0f-b354-44a0-a592-872a7df742d0\")\n",
        "        if ($myPB.hasClass('ui-progressbar')) {\n",
        "            $myPB.progressbar('value', 1386);\n",
        "        } else {\n",
        "            $myPB.progressbar({value: 0, max: 2029});\n",
        "        }\n",
        "        "
       ],
       "metadata": {},
       "output_type": "display_data",
       "text": [
        "<IPython.core.display.Javascript at 0x170e9358>"
       ]
      },
      {
       "javascript": [
        "$('div#47ac486a-12dd-402e-bc3e-4329ed6e8d4e').text('ETA:  0:00:00');"
       ],
       "metadata": {},
       "output_type": "display_data",
       "text": [
        "<IPython.core.display.Javascript at 0x36c0e10>"
       ]
      },
      {
       "javascript": [
        "$('div#50829c40-22fa-4a22-844d-77ffa5b6139c').text('1407 of 2029');"
       ],
       "metadata": {},
       "output_type": "display_data",
       "text": [
        "<IPython.core.display.Javascript at 0x1af2e240>"
       ]
      },
      {
       "javascript": [
        "$('div#ecc84d8e-69bd-4e14-a205-cb211d700ab0').text(' 69%');"
       ],
       "metadata": {},
       "output_type": "display_data",
       "text": [
        "<IPython.core.display.Javascript at 0x1af2e7b8>"
       ]
      },
      {
       "javascript": [
        "\n",
        "        var $myPB = $(\"div#69134d0f-b354-44a0-a592-872a7df742d0\")\n",
        "        if ($myPB.hasClass('ui-progressbar')) {\n",
        "            $myPB.progressbar('value', 1407);\n",
        "        } else {\n",
        "            $myPB.progressbar({value: 0, max: 2029});\n",
        "        }\n",
        "        "
       ],
       "metadata": {},
       "output_type": "display_data",
       "text": [
        "<IPython.core.display.Javascript at 0x170e9358>"
       ]
      },
      {
       "javascript": [
        "$('div#47ac486a-12dd-402e-bc3e-4329ed6e8d4e').text('ETA:  0:00:00');"
       ],
       "metadata": {},
       "output_type": "display_data",
       "text": [
        "<IPython.core.display.Javascript at 0x36c0e10>"
       ]
      },
      {
       "javascript": [
        "$('div#50829c40-22fa-4a22-844d-77ffa5b6139c').text('1428 of 2029');"
       ],
       "metadata": {},
       "output_type": "display_data",
       "text": [
        "<IPython.core.display.Javascript at 0x1af2ea20>"
       ]
      },
      {
       "javascript": [
        "$('div#ecc84d8e-69bd-4e14-a205-cb211d700ab0').text(' 70%');"
       ],
       "metadata": {},
       "output_type": "display_data",
       "text": [
        "<IPython.core.display.Javascript at 0x1af2e860>"
       ]
      },
      {
       "javascript": [
        "\n",
        "        var $myPB = $(\"div#69134d0f-b354-44a0-a592-872a7df742d0\")\n",
        "        if ($myPB.hasClass('ui-progressbar')) {\n",
        "            $myPB.progressbar('value', 1428);\n",
        "        } else {\n",
        "            $myPB.progressbar({value: 0, max: 2029});\n",
        "        }\n",
        "        "
       ],
       "metadata": {},
       "output_type": "display_data",
       "text": [
        "<IPython.core.display.Javascript at 0x124dce80>"
       ]
      },
      {
       "javascript": [
        "$('div#47ac486a-12dd-402e-bc3e-4329ed6e8d4e').text('ETA:  0:00:00');"
       ],
       "metadata": {},
       "output_type": "display_data",
       "text": [
        "<IPython.core.display.Javascript at 0x36c0e10>"
       ]
      },
      {
       "javascript": [
        "$('div#50829c40-22fa-4a22-844d-77ffa5b6139c').text('1449 of 2029');"
       ],
       "metadata": {},
       "output_type": "display_data",
       "text": [
        "<IPython.core.display.Javascript at 0x170e94a8>"
       ]
      },
      {
       "javascript": [
        "$('div#ecc84d8e-69bd-4e14-a205-cb211d700ab0').text(' 71%');"
       ],
       "metadata": {},
       "output_type": "display_data",
       "text": [
        "<IPython.core.display.Javascript at 0x170e9358>"
       ]
      },
      {
       "javascript": [
        "\n",
        "        var $myPB = $(\"div#69134d0f-b354-44a0-a592-872a7df742d0\")\n",
        "        if ($myPB.hasClass('ui-progressbar')) {\n",
        "            $myPB.progressbar('value', 1449);\n",
        "        } else {\n",
        "            $myPB.progressbar({value: 0, max: 2029});\n",
        "        }\n",
        "        "
       ],
       "metadata": {},
       "output_type": "display_data",
       "text": [
        "<IPython.core.display.Javascript at 0x124dce80>"
       ]
      },
      {
       "javascript": [
        "$('div#47ac486a-12dd-402e-bc3e-4329ed6e8d4e').text('ETA:  0:00:00');"
       ],
       "metadata": {},
       "output_type": "display_data",
       "text": [
        "<IPython.core.display.Javascript at 0x36c0e10>"
       ]
      },
      {
       "javascript": [
        "$('div#50829c40-22fa-4a22-844d-77ffa5b6139c').text('1470 of 2029');"
       ],
       "metadata": {},
       "output_type": "display_data",
       "text": [
        "<IPython.core.display.Javascript at 0x170e9668>"
       ]
      },
      {
       "javascript": [
        "$('div#ecc84d8e-69bd-4e14-a205-cb211d700ab0').text(' 72%');"
       ],
       "metadata": {},
       "output_type": "display_data",
       "text": [
        "<IPython.core.display.Javascript at 0x170e96a0>"
       ]
      },
      {
       "javascript": [
        "\n",
        "        var $myPB = $(\"div#69134d0f-b354-44a0-a592-872a7df742d0\")\n",
        "        if ($myPB.hasClass('ui-progressbar')) {\n",
        "            $myPB.progressbar('value', 1470);\n",
        "        } else {\n",
        "            $myPB.progressbar({value: 0, max: 2029});\n",
        "        }\n",
        "        "
       ],
       "metadata": {},
       "output_type": "display_data",
       "text": [
        "<IPython.core.display.Javascript at 0x36c0e10>"
       ]
      },
      {
       "javascript": [
        "$('div#47ac486a-12dd-402e-bc3e-4329ed6e8d4e').text('ETA:  0:00:00');"
       ],
       "metadata": {},
       "output_type": "display_data",
       "text": [
        "<IPython.core.display.Javascript at 0x124dce80>"
       ]
      },
      {
       "javascript": [
        "$('div#50829c40-22fa-4a22-844d-77ffa5b6139c').text('1491 of 2029');"
       ],
       "metadata": {},
       "output_type": "display_data",
       "text": [
        "<IPython.core.display.Javascript at 0x170e94a8>"
       ]
      },
      {
       "javascript": [
        "$('div#ecc84d8e-69bd-4e14-a205-cb211d700ab0').text(' 73%');"
       ],
       "metadata": {},
       "output_type": "display_data",
       "text": [
        "<IPython.core.display.Javascript at 0x170e9ba8>"
       ]
      },
      {
       "javascript": [
        "\n",
        "        var $myPB = $(\"div#69134d0f-b354-44a0-a592-872a7df742d0\")\n",
        "        if ($myPB.hasClass('ui-progressbar')) {\n",
        "            $myPB.progressbar('value', 1491);\n",
        "        } else {\n",
        "            $myPB.progressbar({value: 0, max: 2029});\n",
        "        }\n",
        "        "
       ],
       "metadata": {},
       "output_type": "display_data",
       "text": [
        "<IPython.core.display.Javascript at 0x36c0e10>"
       ]
      },
      {
       "javascript": [
        "$('div#47ac486a-12dd-402e-bc3e-4329ed6e8d4e').text('ETA:  0:00:00');"
       ],
       "metadata": {},
       "output_type": "display_data",
       "text": [
        "<IPython.core.display.Javascript at 0x124dce80>"
       ]
      },
      {
       "javascript": [
        "$('div#50829c40-22fa-4a22-844d-77ffa5b6139c').text('1512 of 2029');"
       ],
       "metadata": {},
       "output_type": "display_data",
       "text": [
        "<IPython.core.display.Javascript at 0x170e9d68>"
       ]
      },
      {
       "javascript": [
        "$('div#ecc84d8e-69bd-4e14-a205-cb211d700ab0').text(' 74%');"
       ],
       "metadata": {},
       "output_type": "display_data",
       "text": [
        "<IPython.core.display.Javascript at 0x170e94a8>"
       ]
      },
      {
       "javascript": [
        "\n",
        "        var $myPB = $(\"div#69134d0f-b354-44a0-a592-872a7df742d0\")\n",
        "        if ($myPB.hasClass('ui-progressbar')) {\n",
        "            $myPB.progressbar('value', 1512);\n",
        "        } else {\n",
        "            $myPB.progressbar({value: 0, max: 2029});\n",
        "        }\n",
        "        "
       ],
       "metadata": {},
       "output_type": "display_data",
       "text": [
        "<IPython.core.display.Javascript at 0x36c0e10>"
       ]
      },
      {
       "javascript": [
        "$('div#47ac486a-12dd-402e-bc3e-4329ed6e8d4e').text('ETA:  0:00:00');"
       ],
       "metadata": {},
       "output_type": "display_data",
       "text": [
        "<IPython.core.display.Javascript at 0x124dce80>"
       ]
      },
      {
       "javascript": [
        "$('div#50829c40-22fa-4a22-844d-77ffa5b6139c').text('1533 of 2029');"
       ],
       "metadata": {},
       "output_type": "display_data",
       "text": [
        "<IPython.core.display.Javascript at 0x170e9d68>"
       ]
      },
      {
       "javascript": [
        "$('div#ecc84d8e-69bd-4e14-a205-cb211d700ab0').text(' 75%');"
       ],
       "metadata": {},
       "output_type": "display_data",
       "text": [
        "<IPython.core.display.Javascript at 0x170e9668>"
       ]
      },
      {
       "javascript": [
        "\n",
        "        var $myPB = $(\"div#69134d0f-b354-44a0-a592-872a7df742d0\")\n",
        "        if ($myPB.hasClass('ui-progressbar')) {\n",
        "            $myPB.progressbar('value', 1533);\n",
        "        } else {\n",
        "            $myPB.progressbar({value: 0, max: 2029});\n",
        "        }\n",
        "        "
       ],
       "metadata": {},
       "output_type": "display_data",
       "text": [
        "<IPython.core.display.Javascript at 0x36c0e10>"
       ]
      },
      {
       "javascript": [
        "$('div#47ac486a-12dd-402e-bc3e-4329ed6e8d4e').text('ETA:  0:00:00');"
       ],
       "metadata": {},
       "output_type": "display_data",
       "text": [
        "<IPython.core.display.Javascript at 0x124dce80>"
       ]
      },
      {
       "javascript": [
        "$('div#50829c40-22fa-4a22-844d-77ffa5b6139c').text('1554 of 2029');"
       ],
       "metadata": {},
       "output_type": "display_data",
       "text": [
        "<IPython.core.display.Javascript at 0x170e9d68>"
       ]
      },
      {
       "javascript": [
        "$('div#ecc84d8e-69bd-4e14-a205-cb211d700ab0').text(' 76%');"
       ],
       "metadata": {},
       "output_type": "display_data",
       "text": [
        "<IPython.core.display.Javascript at 0x1af2e390>"
       ]
      },
      {
       "javascript": [
        "\n",
        "        var $myPB = $(\"div#69134d0f-b354-44a0-a592-872a7df742d0\")\n",
        "        if ($myPB.hasClass('ui-progressbar')) {\n",
        "            $myPB.progressbar('value', 1554);\n",
        "        } else {\n",
        "            $myPB.progressbar({value: 0, max: 2029});\n",
        "        }\n",
        "        "
       ],
       "metadata": {},
       "output_type": "display_data",
       "text": [
        "<IPython.core.display.Javascript at 0x36c0e10>"
       ]
      },
      {
       "javascript": [
        "$('div#47ac486a-12dd-402e-bc3e-4329ed6e8d4e').text('ETA:  0:00:00');"
       ],
       "metadata": {},
       "output_type": "display_data",
       "text": [
        "<IPython.core.display.Javascript at 0x124dce80>"
       ]
      },
      {
       "javascript": [
        "$('div#50829c40-22fa-4a22-844d-77ffa5b6139c').text('1575 of 2029');"
       ],
       "metadata": {},
       "output_type": "display_data",
       "text": [
        "<IPython.core.display.Javascript at 0x170e9d68>"
       ]
      },
      {
       "javascript": [
        "$('div#ecc84d8e-69bd-4e14-a205-cb211d700ab0').text(' 77%');"
       ],
       "metadata": {},
       "output_type": "display_data",
       "text": [
        "<IPython.core.display.Javascript at 0x1af2ed68>"
       ]
      },
      {
       "javascript": [
        "\n",
        "        var $myPB = $(\"div#69134d0f-b354-44a0-a592-872a7df742d0\")\n",
        "        if ($myPB.hasClass('ui-progressbar')) {\n",
        "            $myPB.progressbar('value', 1575);\n",
        "        } else {\n",
        "            $myPB.progressbar({value: 0, max: 2029});\n",
        "        }\n",
        "        "
       ],
       "metadata": {},
       "output_type": "display_data",
       "text": [
        "<IPython.core.display.Javascript at 0x36c0e10>"
       ]
      },
      {
       "javascript": [
        "$('div#47ac486a-12dd-402e-bc3e-4329ed6e8d4e').text('ETA:  0:00:00');"
       ],
       "metadata": {},
       "output_type": "display_data",
       "text": [
        "<IPython.core.display.Javascript at 0x124dce80>"
       ]
      },
      {
       "javascript": [
        "$('div#50829c40-22fa-4a22-844d-77ffa5b6139c').text('1596 of 2029');"
       ],
       "metadata": {},
       "output_type": "display_data",
       "text": [
        "<IPython.core.display.Javascript at 0x170e9d68>"
       ]
      },
      {
       "javascript": [
        "$('div#ecc84d8e-69bd-4e14-a205-cb211d700ab0').text(' 78%');"
       ],
       "metadata": {},
       "output_type": "display_data",
       "text": [
        "<IPython.core.display.Javascript at 0x1af2ea20>"
       ]
      },
      {
       "javascript": [
        "\n",
        "        var $myPB = $(\"div#69134d0f-b354-44a0-a592-872a7df742d0\")\n",
        "        if ($myPB.hasClass('ui-progressbar')) {\n",
        "            $myPB.progressbar('value', 1596);\n",
        "        } else {\n",
        "            $myPB.progressbar({value: 0, max: 2029});\n",
        "        }\n",
        "        "
       ],
       "metadata": {},
       "output_type": "display_data",
       "text": [
        "<IPython.core.display.Javascript at 0x36c0e10>"
       ]
      },
      {
       "javascript": [
        "$('div#47ac486a-12dd-402e-bc3e-4329ed6e8d4e').text('ETA:  0:00:00');"
       ],
       "metadata": {},
       "output_type": "display_data",
       "text": [
        "<IPython.core.display.Javascript at 0x124dce80>"
       ]
      },
      {
       "javascript": [
        "$('div#50829c40-22fa-4a22-844d-77ffa5b6139c').text('1617 of 2029');"
       ],
       "metadata": {},
       "output_type": "display_data",
       "text": [
        "<IPython.core.display.Javascript at 0x170e9d68>"
       ]
      },
      {
       "javascript": [
        "$('div#ecc84d8e-69bd-4e14-a205-cb211d700ab0').text(' 79%');"
       ],
       "metadata": {},
       "output_type": "display_data",
       "text": [
        "<IPython.core.display.Javascript at 0x1af2e7b8>"
       ]
      },
      {
       "javascript": [
        "\n",
        "        var $myPB = $(\"div#69134d0f-b354-44a0-a592-872a7df742d0\")\n",
        "        if ($myPB.hasClass('ui-progressbar')) {\n",
        "            $myPB.progressbar('value', 1617);\n",
        "        } else {\n",
        "            $myPB.progressbar({value: 0, max: 2029});\n",
        "        }\n",
        "        "
       ],
       "metadata": {},
       "output_type": "display_data",
       "text": [
        "<IPython.core.display.Javascript at 0x36c0e10>"
       ]
      },
      {
       "javascript": [
        "$('div#47ac486a-12dd-402e-bc3e-4329ed6e8d4e').text('ETA:  0:00:00');"
       ],
       "metadata": {},
       "output_type": "display_data",
       "text": [
        "<IPython.core.display.Javascript at 0x124dce80>"
       ]
      },
      {
       "javascript": [
        "$('div#50829c40-22fa-4a22-844d-77ffa5b6139c').text('1638 of 2029');"
       ],
       "metadata": {},
       "output_type": "display_data",
       "text": [
        "<IPython.core.display.Javascript at 0x18578668>"
       ]
      },
      {
       "javascript": [
        "$('div#ecc84d8e-69bd-4e14-a205-cb211d700ab0').text(' 80%');"
       ],
       "metadata": {},
       "output_type": "display_data",
       "text": [
        "<IPython.core.display.Javascript at 0x1af2e908>"
       ]
      },
      {
       "javascript": [
        "\n",
        "        var $myPB = $(\"div#69134d0f-b354-44a0-a592-872a7df742d0\")\n",
        "        if ($myPB.hasClass('ui-progressbar')) {\n",
        "            $myPB.progressbar('value', 1638);\n",
        "        } else {\n",
        "            $myPB.progressbar({value: 0, max: 2029});\n",
        "        }\n",
        "        "
       ],
       "metadata": {},
       "output_type": "display_data",
       "text": [
        "<IPython.core.display.Javascript at 0x36c0e10>"
       ]
      },
      {
       "javascript": [
        "$('div#47ac486a-12dd-402e-bc3e-4329ed6e8d4e').text('ETA:  0:00:00');"
       ],
       "metadata": {},
       "output_type": "display_data",
       "text": [
        "<IPython.core.display.Javascript at 0x124dce80>"
       ]
      },
      {
       "javascript": [
        "$('div#50829c40-22fa-4a22-844d-77ffa5b6139c').text('1659 of 2029');"
       ],
       "metadata": {},
       "output_type": "display_data",
       "text": [
        "<IPython.core.display.Javascript at 0x170e9d68>"
       ]
      },
      {
       "javascript": [
        "$('div#ecc84d8e-69bd-4e14-a205-cb211d700ab0').text(' 81%');"
       ],
       "metadata": {},
       "output_type": "display_data",
       "text": [
        "<IPython.core.display.Javascript at 0x1af2ea20>"
       ]
      },
      {
       "javascript": [
        "\n",
        "        var $myPB = $(\"div#69134d0f-b354-44a0-a592-872a7df742d0\")\n",
        "        if ($myPB.hasClass('ui-progressbar')) {\n",
        "            $myPB.progressbar('value', 1659);\n",
        "        } else {\n",
        "            $myPB.progressbar({value: 0, max: 2029});\n",
        "        }\n",
        "        "
       ],
       "metadata": {},
       "output_type": "display_data",
       "text": [
        "<IPython.core.display.Javascript at 0x36c0e10>"
       ]
      },
      {
       "javascript": [
        "$('div#47ac486a-12dd-402e-bc3e-4329ed6e8d4e').text('ETA:  0:00:00');"
       ],
       "metadata": {},
       "output_type": "display_data",
       "text": [
        "<IPython.core.display.Javascript at 0x124dce80>"
       ]
      },
      {
       "javascript": [
        "$('div#50829c40-22fa-4a22-844d-77ffa5b6139c').text('1680 of 2029');"
       ],
       "metadata": {},
       "output_type": "display_data",
       "text": [
        "<IPython.core.display.Javascript at 0x18578668>"
       ]
      },
      {
       "javascript": [
        "$('div#ecc84d8e-69bd-4e14-a205-cb211d700ab0').text(' 82%');"
       ],
       "metadata": {},
       "output_type": "display_data",
       "text": [
        "<IPython.core.display.Javascript at 0x1af2e7b8>"
       ]
      },
      {
       "javascript": [
        "\n",
        "        var $myPB = $(\"div#69134d0f-b354-44a0-a592-872a7df742d0\")\n",
        "        if ($myPB.hasClass('ui-progressbar')) {\n",
        "            $myPB.progressbar('value', 1680);\n",
        "        } else {\n",
        "            $myPB.progressbar({value: 0, max: 2029});\n",
        "        }\n",
        "        "
       ],
       "metadata": {},
       "output_type": "display_data",
       "text": [
        "<IPython.core.display.Javascript at 0x36c0e10>"
       ]
      },
      {
       "javascript": [
        "$('div#47ac486a-12dd-402e-bc3e-4329ed6e8d4e').text('ETA:  0:00:00');"
       ],
       "metadata": {},
       "output_type": "display_data",
       "text": [
        "<IPython.core.display.Javascript at 0x124dce80>"
       ]
      },
      {
       "javascript": [
        "$('div#50829c40-22fa-4a22-844d-77ffa5b6139c').text('1701 of 2029');"
       ],
       "metadata": {},
       "output_type": "display_data",
       "text": [
        "<IPython.core.display.Javascript at 0x170e9d68>"
       ]
      },
      {
       "javascript": [
        "$('div#ecc84d8e-69bd-4e14-a205-cb211d700ab0').text(' 83%');"
       ],
       "metadata": {},
       "output_type": "display_data",
       "text": [
        "<IPython.core.display.Javascript at 0x170e9668>"
       ]
      },
      {
       "javascript": [
        "\n",
        "        var $myPB = $(\"div#69134d0f-b354-44a0-a592-872a7df742d0\")\n",
        "        if ($myPB.hasClass('ui-progressbar')) {\n",
        "            $myPB.progressbar('value', 1701);\n",
        "        } else {\n",
        "            $myPB.progressbar({value: 0, max: 2029});\n",
        "        }\n",
        "        "
       ],
       "metadata": {},
       "output_type": "display_data",
       "text": [
        "<IPython.core.display.Javascript at 0x36c0e10>"
       ]
      },
      {
       "javascript": [
        "$('div#47ac486a-12dd-402e-bc3e-4329ed6e8d4e').text('ETA:  0:00:00');"
       ],
       "metadata": {},
       "output_type": "display_data",
       "text": [
        "<IPython.core.display.Javascript at 0x124dce80>"
       ]
      },
      {
       "javascript": [
        "$('div#50829c40-22fa-4a22-844d-77ffa5b6139c').text('1722 of 2029');"
       ],
       "metadata": {},
       "output_type": "display_data",
       "text": [
        "<IPython.core.display.Javascript at 0x170e9358>"
       ]
      },
      {
       "javascript": [
        "$('div#ecc84d8e-69bd-4e14-a205-cb211d700ab0').text(' 84%');"
       ],
       "metadata": {},
       "output_type": "display_data",
       "text": [
        "<IPython.core.display.Javascript at 0x170e9ba8>"
       ]
      },
      {
       "javascript": [
        "\n",
        "        var $myPB = $(\"div#69134d0f-b354-44a0-a592-872a7df742d0\")\n",
        "        if ($myPB.hasClass('ui-progressbar')) {\n",
        "            $myPB.progressbar('value', 1722);\n",
        "        } else {\n",
        "            $myPB.progressbar({value: 0, max: 2029});\n",
        "        }\n",
        "        "
       ],
       "metadata": {},
       "output_type": "display_data",
       "text": [
        "<IPython.core.display.Javascript at 0x124dce80>"
       ]
      },
      {
       "javascript": [
        "$('div#47ac486a-12dd-402e-bc3e-4329ed6e8d4e').text('ETA:  0:00:00');"
       ],
       "metadata": {},
       "output_type": "display_data",
       "text": [
        "<IPython.core.display.Javascript at 0x36c0e10>"
       ]
      },
      {
       "javascript": [
        "$('div#50829c40-22fa-4a22-844d-77ffa5b6139c').text('1743 of 2029');"
       ],
       "metadata": {},
       "output_type": "display_data",
       "text": [
        "<IPython.core.display.Javascript at 0x170e9d68>"
       ]
      },
      {
       "javascript": [
        "$('div#ecc84d8e-69bd-4e14-a205-cb211d700ab0').text(' 85%');"
       ],
       "metadata": {},
       "output_type": "display_data",
       "text": [
        "<IPython.core.display.Javascript at 0x170e94a8>"
       ]
      },
      {
       "javascript": [
        "\n",
        "        var $myPB = $(\"div#69134d0f-b354-44a0-a592-872a7df742d0\")\n",
        "        if ($myPB.hasClass('ui-progressbar')) {\n",
        "            $myPB.progressbar('value', 1743);\n",
        "        } else {\n",
        "            $myPB.progressbar({value: 0, max: 2029});\n",
        "        }\n",
        "        "
       ],
       "metadata": {},
       "output_type": "display_data",
       "text": [
        "<IPython.core.display.Javascript at 0x124dce80>"
       ]
      },
      {
       "javascript": [
        "$('div#47ac486a-12dd-402e-bc3e-4329ed6e8d4e').text('ETA:  0:00:00');"
       ],
       "metadata": {},
       "output_type": "display_data",
       "text": [
        "<IPython.core.display.Javascript at 0x36c0e10>"
       ]
      },
      {
       "javascript": [
        "$('div#50829c40-22fa-4a22-844d-77ffa5b6139c').text('1764 of 2029');"
       ],
       "metadata": {},
       "output_type": "display_data",
       "text": [
        "<IPython.core.display.Javascript at 0x170e96a0>"
       ]
      },
      {
       "javascript": [
        "$('div#ecc84d8e-69bd-4e14-a205-cb211d700ab0').text(' 86%');"
       ],
       "metadata": {},
       "output_type": "display_data",
       "text": [
        "<IPython.core.display.Javascript at 0x170e9d68>"
       ]
      },
      {
       "javascript": [
        "\n",
        "        var $myPB = $(\"div#69134d0f-b354-44a0-a592-872a7df742d0\")\n",
        "        if ($myPB.hasClass('ui-progressbar')) {\n",
        "            $myPB.progressbar('value', 1764);\n",
        "        } else {\n",
        "            $myPB.progressbar({value: 0, max: 2029});\n",
        "        }\n",
        "        "
       ],
       "metadata": {},
       "output_type": "display_data",
       "text": [
        "<IPython.core.display.Javascript at 0x124dce80>"
       ]
      },
      {
       "javascript": [
        "$('div#47ac486a-12dd-402e-bc3e-4329ed6e8d4e').text('ETA:  0:00:00');"
       ],
       "metadata": {},
       "output_type": "display_data",
       "text": [
        "<IPython.core.display.Javascript at 0x36c0e10>"
       ]
      },
      {
       "javascript": [
        "$('div#50829c40-22fa-4a22-844d-77ffa5b6139c').text('1785 of 2029');"
       ],
       "metadata": {},
       "output_type": "display_data",
       "text": [
        "<IPython.core.display.Javascript at 0x170e96a0>"
       ]
      },
      {
       "javascript": [
        "$('div#ecc84d8e-69bd-4e14-a205-cb211d700ab0').text(' 87%');"
       ],
       "metadata": {},
       "output_type": "display_data",
       "text": [
        "<IPython.core.display.Javascript at 0x170e9358>"
       ]
      },
      {
       "javascript": [
        "\n",
        "        var $myPB = $(\"div#69134d0f-b354-44a0-a592-872a7df742d0\")\n",
        "        if ($myPB.hasClass('ui-progressbar')) {\n",
        "            $myPB.progressbar('value', 1785);\n",
        "        } else {\n",
        "            $myPB.progressbar({value: 0, max: 2029});\n",
        "        }\n",
        "        "
       ],
       "metadata": {},
       "output_type": "display_data",
       "text": [
        "<IPython.core.display.Javascript at 0x124dce80>"
       ]
      },
      {
       "javascript": [
        "$('div#47ac486a-12dd-402e-bc3e-4329ed6e8d4e').text('ETA:  0:00:00');"
       ],
       "metadata": {},
       "output_type": "display_data",
       "text": [
        "<IPython.core.display.Javascript at 0x36c0e10>"
       ]
      },
      {
       "javascript": [
        "$('div#50829c40-22fa-4a22-844d-77ffa5b6139c').text('1806 of 2029');"
       ],
       "metadata": {},
       "output_type": "display_data",
       "text": [
        "<IPython.core.display.Javascript at 0x170e96a0>"
       ]
      },
      {
       "javascript": [
        "$('div#ecc84d8e-69bd-4e14-a205-cb211d700ab0').text(' 89%');"
       ],
       "metadata": {},
       "output_type": "display_data",
       "text": [
        "<IPython.core.display.Javascript at 0x1af2e7b8>"
       ]
      },
      {
       "javascript": [
        "\n",
        "        var $myPB = $(\"div#69134d0f-b354-44a0-a592-872a7df742d0\")\n",
        "        if ($myPB.hasClass('ui-progressbar')) {\n",
        "            $myPB.progressbar('value', 1806);\n",
        "        } else {\n",
        "            $myPB.progressbar({value: 0, max: 2029});\n",
        "        }\n",
        "        "
       ],
       "metadata": {},
       "output_type": "display_data",
       "text": [
        "<IPython.core.display.Javascript at 0x124dce80>"
       ]
      },
      {
       "javascript": [
        "$('div#47ac486a-12dd-402e-bc3e-4329ed6e8d4e').text('ETA:  0:00:00');"
       ],
       "metadata": {},
       "output_type": "display_data",
       "text": [
        "<IPython.core.display.Javascript at 0x36c0e10>"
       ]
      },
      {
       "javascript": [
        "$('div#50829c40-22fa-4a22-844d-77ffa5b6139c').text('1827 of 2029');"
       ],
       "metadata": {},
       "output_type": "display_data",
       "text": [
        "<IPython.core.display.Javascript at 0x170e96a0>"
       ]
      },
      {
       "javascript": [
        "$('div#ecc84d8e-69bd-4e14-a205-cb211d700ab0').text(' 90%');"
       ],
       "metadata": {},
       "output_type": "display_data",
       "text": [
        "<IPython.core.display.Javascript at 0x1af2e208>"
       ]
      },
      {
       "javascript": [
        "\n",
        "        var $myPB = $(\"div#69134d0f-b354-44a0-a592-872a7df742d0\")\n",
        "        if ($myPB.hasClass('ui-progressbar')) {\n",
        "            $myPB.progressbar('value', 1827);\n",
        "        } else {\n",
        "            $myPB.progressbar({value: 0, max: 2029});\n",
        "        }\n",
        "        "
       ],
       "metadata": {},
       "output_type": "display_data",
       "text": [
        "<IPython.core.display.Javascript at 0x124dce80>"
       ]
      },
      {
       "javascript": [
        "$('div#47ac486a-12dd-402e-bc3e-4329ed6e8d4e').text('ETA:  0:00:00');"
       ],
       "metadata": {},
       "output_type": "display_data",
       "text": [
        "<IPython.core.display.Javascript at 0x36c0e10>"
       ]
      },
      {
       "javascript": [
        "$('div#50829c40-22fa-4a22-844d-77ffa5b6139c').text('1848 of 2029');"
       ],
       "metadata": {},
       "output_type": "display_data",
       "text": [
        "<IPython.core.display.Javascript at 0x1af2e710>"
       ]
      },
      {
       "javascript": [
        "$('div#ecc84d8e-69bd-4e14-a205-cb211d700ab0').text(' 91%');"
       ],
       "metadata": {},
       "output_type": "display_data",
       "text": [
        "<IPython.core.display.Javascript at 0x1af2e908>"
       ]
      },
      {
       "javascript": [
        "\n",
        "        var $myPB = $(\"div#69134d0f-b354-44a0-a592-872a7df742d0\")\n",
        "        if ($myPB.hasClass('ui-progressbar')) {\n",
        "            $myPB.progressbar('value', 1848);\n",
        "        } else {\n",
        "            $myPB.progressbar({value: 0, max: 2029});\n",
        "        }\n",
        "        "
       ],
       "metadata": {},
       "output_type": "display_data",
       "text": [
        "<IPython.core.display.Javascript at 0x124dce80>"
       ]
      },
      {
       "javascript": [
        "$('div#47ac486a-12dd-402e-bc3e-4329ed6e8d4e').text('ETA:  0:00:00');"
       ],
       "metadata": {},
       "output_type": "display_data",
       "text": [
        "<IPython.core.display.Javascript at 0x36c0e10>"
       ]
      },
      {
       "javascript": [
        "$('div#50829c40-22fa-4a22-844d-77ffa5b6139c').text('1869 of 2029');"
       ],
       "metadata": {},
       "output_type": "display_data",
       "text": [
        "<IPython.core.display.Javascript at 0x1af2e320>"
       ]
      },
      {
       "javascript": [
        "$('div#ecc84d8e-69bd-4e14-a205-cb211d700ab0').text(' 92%');"
       ],
       "metadata": {},
       "output_type": "display_data",
       "text": [
        "<IPython.core.display.Javascript at 0x1af2ed68>"
       ]
      },
      {
       "javascript": [
        "\n",
        "        var $myPB = $(\"div#69134d0f-b354-44a0-a592-872a7df742d0\")\n",
        "        if ($myPB.hasClass('ui-progressbar')) {\n",
        "            $myPB.progressbar('value', 1869);\n",
        "        } else {\n",
        "            $myPB.progressbar({value: 0, max: 2029});\n",
        "        }\n",
        "        "
       ],
       "metadata": {},
       "output_type": "display_data",
       "text": [
        "<IPython.core.display.Javascript at 0x124dce80>"
       ]
      },
      {
       "javascript": [
        "$('div#47ac486a-12dd-402e-bc3e-4329ed6e8d4e').text('ETA:  0:00:00');"
       ],
       "metadata": {},
       "output_type": "display_data",
       "text": [
        "<IPython.core.display.Javascript at 0x36c0e10>"
       ]
      },
      {
       "javascript": [
        "$('div#50829c40-22fa-4a22-844d-77ffa5b6139c').text('1890 of 2029');"
       ],
       "metadata": {},
       "output_type": "display_data",
       "text": [
        "<IPython.core.display.Javascript at 0x1af2e240>"
       ]
      },
      {
       "javascript": [
        "$('div#ecc84d8e-69bd-4e14-a205-cb211d700ab0').text(' 93%');"
       ],
       "metadata": {},
       "output_type": "display_data",
       "text": [
        "<IPython.core.display.Javascript at 0x1af2ea20>"
       ]
      },
      {
       "javascript": [
        "\n",
        "        var $myPB = $(\"div#69134d0f-b354-44a0-a592-872a7df742d0\")\n",
        "        if ($myPB.hasClass('ui-progressbar')) {\n",
        "            $myPB.progressbar('value', 1890);\n",
        "        } else {\n",
        "            $myPB.progressbar({value: 0, max: 2029});\n",
        "        }\n",
        "        "
       ],
       "metadata": {},
       "output_type": "display_data",
       "text": [
        "<IPython.core.display.Javascript at 0x124dce80>"
       ]
      },
      {
       "javascript": [
        "$('div#47ac486a-12dd-402e-bc3e-4329ed6e8d4e').text('ETA:  0:00:00');"
       ],
       "metadata": {},
       "output_type": "display_data",
       "text": [
        "<IPython.core.display.Javascript at 0x36c0e10>"
       ]
      },
      {
       "javascript": [
        "$('div#50829c40-22fa-4a22-844d-77ffa5b6139c').text('1911 of 2029');"
       ],
       "metadata": {},
       "output_type": "display_data",
       "text": [
        "<IPython.core.display.Javascript at 0x1af2ebe0>"
       ]
      },
      {
       "javascript": [
        "$('div#ecc84d8e-69bd-4e14-a205-cb211d700ab0').text(' 94%');"
       ],
       "metadata": {},
       "output_type": "display_data",
       "text": [
        "<IPython.core.display.Javascript at 0x1af2e390>"
       ]
      },
      {
       "javascript": [
        "\n",
        "        var $myPB = $(\"div#69134d0f-b354-44a0-a592-872a7df742d0\")\n",
        "        if ($myPB.hasClass('ui-progressbar')) {\n",
        "            $myPB.progressbar('value', 1911);\n",
        "        } else {\n",
        "            $myPB.progressbar({value: 0, max: 2029});\n",
        "        }\n",
        "        "
       ],
       "metadata": {},
       "output_type": "display_data",
       "text": [
        "<IPython.core.display.Javascript at 0x124dce80>"
       ]
      },
      {
       "javascript": [
        "$('div#47ac486a-12dd-402e-bc3e-4329ed6e8d4e').text('ETA:  0:00:00');"
       ],
       "metadata": {},
       "output_type": "display_data",
       "text": [
        "<IPython.core.display.Javascript at 0x36c0e10>"
       ]
      },
      {
       "javascript": [
        "$('div#50829c40-22fa-4a22-844d-77ffa5b6139c').text('1932 of 2029');"
       ],
       "metadata": {},
       "output_type": "display_data",
       "text": [
        "<IPython.core.display.Javascript at 0x1af2e320>"
       ]
      },
      {
       "javascript": [
        "$('div#ecc84d8e-69bd-4e14-a205-cb211d700ab0').text(' 95%');"
       ],
       "metadata": {},
       "output_type": "display_data",
       "text": [
        "<IPython.core.display.Javascript at 0x1af2ed68>"
       ]
      },
      {
       "javascript": [
        "\n",
        "        var $myPB = $(\"div#69134d0f-b354-44a0-a592-872a7df742d0\")\n",
        "        if ($myPB.hasClass('ui-progressbar')) {\n",
        "            $myPB.progressbar('value', 1932);\n",
        "        } else {\n",
        "            $myPB.progressbar({value: 0, max: 2029});\n",
        "        }\n",
        "        "
       ],
       "metadata": {},
       "output_type": "display_data",
       "text": [
        "<IPython.core.display.Javascript at 0x124dce80>"
       ]
      },
      {
       "javascript": [
        "$('div#47ac486a-12dd-402e-bc3e-4329ed6e8d4e').text('ETA:  0:00:00');"
       ],
       "metadata": {},
       "output_type": "display_data",
       "text": [
        "<IPython.core.display.Javascript at 0x36c0e10>"
       ]
      },
      {
       "javascript": [
        "$('div#50829c40-22fa-4a22-844d-77ffa5b6139c').text('1953 of 2029');"
       ],
       "metadata": {},
       "output_type": "display_data",
       "text": [
        "<IPython.core.display.Javascript at 0x170e9d68>"
       ]
      },
      {
       "javascript": [
        "$('div#ecc84d8e-69bd-4e14-a205-cb211d700ab0').text(' 96%');"
       ],
       "metadata": {},
       "output_type": "display_data",
       "text": [
        "<IPython.core.display.Javascript at 0x170e9358>"
       ]
      },
      {
       "javascript": [
        "\n",
        "        var $myPB = $(\"div#69134d0f-b354-44a0-a592-872a7df742d0\")\n",
        "        if ($myPB.hasClass('ui-progressbar')) {\n",
        "            $myPB.progressbar('value', 1953);\n",
        "        } else {\n",
        "            $myPB.progressbar({value: 0, max: 2029});\n",
        "        }\n",
        "        "
       ],
       "metadata": {},
       "output_type": "display_data",
       "text": [
        "<IPython.core.display.Javascript at 0x36c0e10>"
       ]
      },
      {
       "javascript": [
        "$('div#47ac486a-12dd-402e-bc3e-4329ed6e8d4e').text('ETA:  0:00:00');"
       ],
       "metadata": {},
       "output_type": "display_data",
       "text": [
        "<IPython.core.display.Javascript at 0x124dce80>"
       ]
      },
      {
       "javascript": [
        "$('div#50829c40-22fa-4a22-844d-77ffa5b6139c').text('1974 of 2029');"
       ],
       "metadata": {},
       "output_type": "display_data",
       "text": [
        "<IPython.core.display.Javascript at 0x170e9ba8>"
       ]
      },
      {
       "javascript": [
        "$('div#ecc84d8e-69bd-4e14-a205-cb211d700ab0').text(' 97%');"
       ],
       "metadata": {},
       "output_type": "display_data",
       "text": [
        "<IPython.core.display.Javascript at 0x170e9668>"
       ]
      },
      {
       "javascript": [
        "\n",
        "        var $myPB = $(\"div#69134d0f-b354-44a0-a592-872a7df742d0\")\n",
        "        if ($myPB.hasClass('ui-progressbar')) {\n",
        "            $myPB.progressbar('value', 1974);\n",
        "        } else {\n",
        "            $myPB.progressbar({value: 0, max: 2029});\n",
        "        }\n",
        "        "
       ],
       "metadata": {},
       "output_type": "display_data",
       "text": [
        "<IPython.core.display.Javascript at 0x36c0e10>"
       ]
      },
      {
       "javascript": [
        "$('div#47ac486a-12dd-402e-bc3e-4329ed6e8d4e').text('ETA:  0:00:00');"
       ],
       "metadata": {},
       "output_type": "display_data",
       "text": [
        "<IPython.core.display.Javascript at 0x124dce80>"
       ]
      },
      {
       "javascript": [
        "$('div#50829c40-22fa-4a22-844d-77ffa5b6139c').text('1995 of 2029');"
       ],
       "metadata": {},
       "output_type": "display_data",
       "text": [
        "<IPython.core.display.Javascript at 0x170e94a8>"
       ]
      },
      {
       "javascript": [
        "$('div#ecc84d8e-69bd-4e14-a205-cb211d700ab0').text(' 98%');"
       ],
       "metadata": {},
       "output_type": "display_data",
       "text": [
        "<IPython.core.display.Javascript at 0x170e9ba8>"
       ]
      },
      {
       "javascript": [
        "\n",
        "        var $myPB = $(\"div#69134d0f-b354-44a0-a592-872a7df742d0\")\n",
        "        if ($myPB.hasClass('ui-progressbar')) {\n",
        "            $myPB.progressbar('value', 1995);\n",
        "        } else {\n",
        "            $myPB.progressbar({value: 0, max: 2029});\n",
        "        }\n",
        "        "
       ],
       "metadata": {},
       "output_type": "display_data",
       "text": [
        "<IPython.core.display.Javascript at 0x36c0e10>"
       ]
      },
      {
       "javascript": [
        "$('div#47ac486a-12dd-402e-bc3e-4329ed6e8d4e').text('ETA:  0:00:00');"
       ],
       "metadata": {},
       "output_type": "display_data",
       "text": [
        "<IPython.core.display.Javascript at 0x124dce80>"
       ]
      },
      {
       "javascript": [
        "$('div#50829c40-22fa-4a22-844d-77ffa5b6139c').text('2016 of 2029');"
       ],
       "metadata": {},
       "output_type": "display_data",
       "text": [
        "<IPython.core.display.Javascript at 0x170e94a8>"
       ]
      },
      {
       "javascript": [
        "$('div#ecc84d8e-69bd-4e14-a205-cb211d700ab0').text(' 99%');"
       ],
       "metadata": {},
       "output_type": "display_data",
       "text": [
        "<IPython.core.display.Javascript at 0x170e9d68>"
       ]
      },
      {
       "javascript": [
        "\n",
        "        var $myPB = $(\"div#69134d0f-b354-44a0-a592-872a7df742d0\")\n",
        "        if ($myPB.hasClass('ui-progressbar')) {\n",
        "            $myPB.progressbar('value', 2016);\n",
        "        } else {\n",
        "            $myPB.progressbar({value: 0, max: 2029});\n",
        "        }\n",
        "        "
       ],
       "metadata": {},
       "output_type": "display_data",
       "text": [
        "<IPython.core.display.Javascript at 0x36c0e10>"
       ]
      },
      {
       "javascript": [
        "$('div#47ac486a-12dd-402e-bc3e-4329ed6e8d4e').text('ETA:  0:00:00');"
       ],
       "metadata": {},
       "output_type": "display_data",
       "text": [
        "<IPython.core.display.Javascript at 0x124dce80>"
       ]
      },
      {
       "javascript": [
        "$('div#50829c40-22fa-4a22-844d-77ffa5b6139c').text('2029 of 2029');"
       ],
       "metadata": {},
       "output_type": "display_data",
       "text": [
        "<IPython.core.display.Javascript at 0x18578668>"
       ]
      },
      {
       "javascript": [
        "$('div#ecc84d8e-69bd-4e14-a205-cb211d700ab0').text('100%');"
       ],
       "metadata": {},
       "output_type": "display_data",
       "text": [
        "<IPython.core.display.Javascript at 0x170e94a8>"
       ]
      },
      {
       "javascript": [
        "\n",
        "        var $myPB = $(\"div#69134d0f-b354-44a0-a592-872a7df742d0\")\n",
        "        if ($myPB.hasClass('ui-progressbar')) {\n",
        "            $myPB.progressbar('value', 2029);\n",
        "        } else {\n",
        "            $myPB.progressbar({value: 0, max: 2029});\n",
        "        }\n",
        "        "
       ],
       "metadata": {},
       "output_type": "display_data",
       "text": [
        "<IPython.core.display.Javascript at 0x36c0e10>"
       ]
      },
      {
       "javascript": [
        "$('div#47ac486a-12dd-402e-bc3e-4329ed6e8d4e').text('Time: 0:00:00');"
       ],
       "metadata": {},
       "output_type": "display_data",
       "text": [
        "<IPython.core.display.Javascript at 0x124dce80>"
       ]
      },
      {
       "javascript": [
        "var element = document.getElementById('0c08ccfc-2357-4df2-b976-c1ad519b6231');\n",
        "                    var parent = element.parentNode\n",
        "                    parent.removeChild(element);\n",
        "                    parent.parentElement.remove();"
       ],
       "metadata": {},
       "output_type": "display_data",
       "text": [
        "<IPython.core.display.Javascript at 0x124f10f0>"
       ]
      },
      {
       "javascript": [
        "this.cleanProgressBar(['0c08ccfc-2357-4df2-b976-c1ad519b6231', '50829c40-22fa-4a22-844d-77ffa5b6139c', 'ecc84d8e-69bd-4e14-a205-cb211d700ab0', '69134d0f-b354-44a0-a592-872a7df742d0', '47ac486a-12dd-402e-bc3e-4329ed6e8d4e'])"
       ],
       "metadata": {},
       "output_type": "display_data",
       "text": [
        "<IPython.core.display.Javascript at 0x18578668>"
       ]
      },
      {
       "html": [
        "<table class=\"table\"><tr><td>1</td><td><table class=\"table\"><tr><td>1</td><td>Abul<->Futuh</td></tr><tr><td>2</td><td>Rajaie<->Khorasani</td></tr><tr><td>3</td><td>Saied<->Rajaie</td></tr><tr><td>4</td><td>Shia<->Muslims</td></tr><tr><td>5</td><td>extraordinary<->rendition</td></tr><tr><td>6</td><td>mentally<->challenged</td></tr><tr><td>7</td><td>Burkina<->Faso</td></tr><tr><td>8</td><td>Falun<->Gong</td></tr><tr><td>9</td><td>habeas<->corpus</td></tr><tr><td>10</td><td>Foreign<->Affairs</td></tr><tr><td>11</td><td>preceding<->receipt</td></tr><tr><td>12</td><td>Paragraphs<->Page</td></tr><tr><td>13</td><td>High<->Commissioner</td></tr><tr><td>14</td><td>art<->para</td></tr><tr><td>15</td><td>Saudi<->Arabia</td></tr><tr><td>16</td><td>around<->globe</td></tr><tr><td>17</td><td>participate<->decisions</td></tr><tr><td>18</td><td>binding<->instrument</td></tr><tr><td>19</td><td>aggressive<->interrogation</td></tr><tr><td>20</td><td>thorough<->impartial</td></tr></table></td></tr><tr><td>2</td><td><table class=\"table\"><tr><td>1</td><td>thorough<->impartial</td></tr><tr><td>2</td><td>Paragraphs<->Page</td></tr><tr><td>3</td><td>Burkina<->Faso</td></tr><tr><td>4</td><td>Falun<->Gong</td></tr><tr><td>5</td><td>habeas<->corpus</td></tr><tr><td>6</td><td>Abul<->Futuh</td></tr><tr><td>7</td><td>Rajaie<->Khorasani</td></tr><tr><td>8</td><td>Saied<->Rajaie</td></tr><tr><td>9</td><td>Shia<->Muslims</td></tr><tr><td>10</td><td>extraordinary<->rendition</td></tr><tr><td>11</td><td>mentally<->challenged</td></tr><tr><td>12</td><td>Working<->Group</td></tr><tr><td>13</td><td>Human<->Rights</td></tr><tr><td>14</td><td>Sri<->Lanka</td></tr><tr><td>15</td><td>human<->rights</td></tr><tr><td>16</td><td>Summary<->situation</td></tr><tr><td>17</td><td>Bayo<->Adekanye</td></tr><tr><td>18</td><td>East<->Timor</td></tr><tr><td>19</td><td>Permanent<->Mission</td></tr><tr><td>20</td><td>Santiago<->Corcuera</td></tr></table></td></tr><tr><td>3</td><td><table class=\"table\"><tr><td>1</td><td>Saied<->Rajaie<->Khorasani</td></tr><tr><td>2</td><td>legally<->binding<->instrument</td></tr><tr><td>3</td><td>participate<->decisions<->relating</td></tr><tr><td>4</td><td>annex<->IV<->list</td></tr><tr><td>5</td><td>months<->preceding<->receipt</td></tr><tr><td>6</td><td>J<->Bayo<->Adekanye</td></tr><tr><td>7</td><td>summary<->arbitrary<->executions</td></tr><tr><td>8</td><td>binding<->instrument<->protection</td></tr><tr><td>9</td><td>draft<->legally<->binding</td></tr><tr><td>10</td><td>CONTENTS<->continued<->Paragraphs</td></tr><tr><td>11</td><td>extrajudicial<->summary<->arbitrary</td></tr><tr><td>12</td><td>IV<->list<->names</td></tr><tr><td>13</td><td>See<->annex<->IV</td></tr><tr><td>14</td><td>continued<->Paragraphs<->Page</td></tr><tr><td>15</td><td>conduct<->thorough<->impartial</td></tr><tr><td>16</td><td>Office<->High<->Commissioner</td></tr><tr><td>17</td><td>responsibility<->conduct<->thorough</td></tr><tr><td>18</td><td>thorough<->impartial<->investigations</td></tr><tr><td>19</td><td>Libyan<->Arab<->Jamahiriya</td></tr><tr><td>20</td><td>decisions<->relating<->section</td></tr></table></td></tr></table>"
       ],
       "metadata": {},
       "output_type": "pyout",
       "prompt_number": 8,
       "text": [
        "<IPython.core.display.HTML at 0x36c0e10>"
       ]
      }
     ],
     "prompt_number": 8
    },
    {
     "cell_type": "code",
     "collapsed": false,
     "input": [],
     "language": "python",
     "metadata": {},
     "outputs": [
      {
       "output_type": "stream",
       "stream": "stdout",
       "text": [
        "['C', 'o', 'n', 'g', 'o', 'G', 'o', 'v', 'e', 'r', 'n', 'm', 'e', 'n', 't', ' ', 'o', 'f', ' ', 'N', 'e', 'p', 'a', 'l', 'P', 'a', 'r', 'a', 'g', 'r', 'a', 'p', 'h', 's', ' ', 'P', 'a', 'g', 'e', 'L', 'i', 'b', 'y', 'a', 'n', ' ', 'A', 'r', 'a', 'b', ' ', 'J', 'a', 'm', 'a', 'h', 'i', 'r', 'i', 'y', 'a', ' ', 'N', 'e', 'p', 'a', 'l', 'N', 'e', 'p', 'a', 'l', 'L', 'a', 'o', ' ', 'P', 'e', 'o', 'p', 'l', 'e', \"'\", 's', 'L', 'i', 'b', 'y', 'a', 'n', ' ', 'A', 'r', 'a', 'b', 'L', 'o', 'r', 'd', \"'\", 's', ' ', 'R', 'e', 's', 'i', 's', 't', 'a', 'n', 'c', 'e', ' ', 'A', 'r', 'm', 'y', 'd', 'i', 's', 'a', 'p', 'p', 'e', 'a', 'r', 'a', 'n', 'c', 'e', ' ', 'i', 'n', ' ', 'N', 'e', 'p', 'a', 'l', 'A', 'u', 't', 'o', 'n', 'o', 'm', 'o', 'u', 's', ' ', 'R', 'e', 'p', 'u', 'b', 'l', 'i', 'c', ' ', 'o', 'f', ' ', 'C', 'r', 'i', 'm', 'e', 'a', 'C', 'h', 'i', 'l', 'e', 'C', 'o', 'm', 'm', 'u', 'n', 'i', 's', 't', ' ', 'P', 'a', 'r', 't', 'y', ' ', 'o', 'f', ' ', 'N', 'e', 'p', 'a', 'l', 'E', ' ', 'A', 'r', 'e', 'a', 's', 'E', ' ', 'S', 't', 'a', 't', 'e', 'm', 'e', 'n', 't', 's', ' ', 's', 't', 'u', 'd', 'i', 'e', 's', 'E', 'l', ' ', 'S', 'a', 'l', 'v', 'a', 'd', 'o', 'r', 'G', 'o', 'v', 'e', 'r', 'n', 'm', 'e', 'n', 't', ' ', 'o', 'f', ' ', 'E', 'l', ' ', 'S', 'a', 'l', 'v', 'a', 'd', 'o', 'r', 'G', 'o', 'v', 'e', 'r', 'n', 'm', 'e', 'n', 't', ' ', 'o', 'f', ' ', 'G', 'u', 'a', 't', 'e', 'm', 'a', 'l', 'a', 'G', 'o', 'v', 'e', 'r', 'n', 'm', 'e', 'n', 't', ' ', 'o', 'f', ' ', 'M', 'o', 'r', 'o', 'c', 'c', 'o', 'G', 'o', 'v', 'e', 'r', 'n', 'm', 'e', 'n', 't', ' ', 'o', 'f', ' ', 'P', 'e', 'r', 'u', 'G', 'u', 'a', 'r', 'd', 'i', 'a', 'G', 'u', 'a', 't', 'e', 'm', 'a', 'l', 'a', 'L', 'e', 'b', 'a', 'n', 'e', 's', 'e', ' ', 'c', 'i', 't', 'i', 'z', 'e', 'n', 's', 'L', 'i', 'b', 'y', 'a', 'n', ' ', 'S', 'e', 'c', 'u', 'r', 'i', 't', 'y', ' ', 'S', 'e', 'r', 'v', 'i', 'c', 'e', 's', 'M', 'o', 'r', 'o', 'c', 'c', 'o', 'V', 'i', 'c', 'e', '-', 'C', 'h', 'a', 'i', 'r', 'm', 'a', 'n', ' ', 'R', 'a', 'p', 'p', 'o', 'r', 't', 'e', 'u', 'r', ' ', 'J', 's', 'e', 'c', 't', 'i', 'o', 'n', ' ', 'o', 'n', ' ', 'N', 'e', 'p', 'a', 'l', '1', '8', '7', 't', 'h', ' ', 'P', 'C', ' ', 'i', 'n', ' ', 'A', 'u', 'r', 'o', 'r', 'a', '1', '9', '9', '2', ' ', 'i', 'n', ' ', 'J', 'e', 'r', 'u', 's', 'a', 'l', 'e', 'm', '1', '9', '9', '6', ' ', 'a', 't', ' ', 'E', 'l', '3', '8', '5', ' ', 'c', 'a', 's', 'e', 's', 'A', 'b', 'u', ' ', 'S', 'a', 'l', 'i', 'm', ' ', 'p', 'r', 'i', 's', 'o', 'n', ' ', 'i', 'n', ' ', 'T', 'r', 'i', 'p', 'o', 'l', 'i', 'A', 'l', 'l', 'e', 'g', 'e', 'd', 'l', 'y', ' ', 'L', 'e', 'b', 'a', 'n', 'e', 's', 'e', 'A', 'n', 'd', 'a', 'p', ' ', 'V', 'a', 'l', 'l', 'e', 'y', ' ', 'B', 'u', 'h', 'i', 's', 'a', 'n', ' ', 'S', 'a', 'n', 'B', 'a', 's', 'h', 'i', 'r', ' ', 'A', 'h', 'm', 'a', 'd', 'B', 'r', 'a', 'k', ' ', 't', 'o', ' ', 'T', 'r', 'i', 'p', 'o', 'l', 'i', 'C', ' ', 'C', 'o', 'u', 'n', 't', 'r', 'y', ' ', 'v', 'i', 's', 'i', 't', 's', 'C', ' ', 'C', 'o', 'u', 'n', 't', 'r', 'y', ' ', 'v', 'i', 's', 'i', 't', 's', ' ', '3', '7', ' ', '3', '9', ' ', '1', '4', 'C', 'a', 'i', 'r', 'o', ' ', 's', 'u', 'b', 'u', 'r', 'b', 'C', 'h', 'a', 'i', 'r', 'm', 'a', 'n', '-', 'R', 'a', 'p', 'p', 'o', 'r', 't', 'e', 'u', 'r', ' ', 'S', 't', 'e', 'p', 'h', 'e', 'n', 'C', 'h', 'i', 'l', 'e', ' ', '1', '4', '0', ' ', '1', '4', '4', ' ', '3', '8', 'C', 'o', 'm', 'm', 'u', 'n', 'i', 's', 't', ' ', 'P', 'a', 'r', 't', 'y', ' ', 'o', 'f', ' ', 'P', 'e', 'r', 'u', 'C', 'o', 'n', 'g', 'o', ' ', '1', '7', '2', ' ', '1', '7', '9', ' ', '4', '3', 'C', 'o', 'n', 'g', 'o', ' ', '1', '9', '1', ' ', '1', '9', '6', ' ', '4', '6', 'C', 'o', 'u', 'n', 'c', 'i', 'l', ' ', 'o', 'f', ' ', 'E', 'u', 'r', 'o', 'p', 'e', 'D', 'e', 'p', 'a', 'r', 't', 'm', 'e', 'n', 't', 's', ' ', 'o', 'f', ' ', 'A', 'p', 'u', 'r', 'i', 'm', 'a', 'c', ' ', 'A', 'y', 'a', 'c', 'u', 'c', 'h', 'o', ' ', 'H', 'u', 'a', 'n', 'c', 'a', 'v', 'e', 'l', 'i', 'c', 'a', ' ', 'S', 'a', 'n', ' ', 'M', 'a', 'r', 't', 'i', 'n', 'E', 'c', 'u', 'a', 'd', 'o', 'r', 'E', 'c', 'u', 'a', 'd', 'o', 'r', ' ', '2', '0', '2', ' ', '2', '0', '5', ' ', '4', '8', 'E', 'l', ' ', 'P', 'a', 'r', 'a', 'i', 's', 'o', 'G', 'o', 'v', 'e', 'r', 'n', 'm', 'e', 'n', 't', ' ', 'c', 'o', 'n', 'c', 'e', 'r', 'n', 'i', 'n', 'g', ' ', 'H', 'a', 't', 'e', 'm', ' ', 'A', 'l', ' ', 'F', 'a', 't', 'h', 'i', ' ', 'A', 'l', 'G', 'o', 'v', 'e', 'r', 'n', 'm', 'e', 'n', 't', ' ', 'o', 'f', ' ', 'C', 'h', 'i', 'l', 'e', 'G', 'o', 'v', 'e', 'r', 'n', 'm', 'e', 'n', 't', ' ', 'o', 'f', ' ', 'P', 'r', 'e', 's', 'i', 'd', 'e', 'n', 't', ' ', 'A', 'l', 'f', 'r', 'e', 'd', 'o', 'G', 'r', 'e', 'e', 'n', ' ', 'B', 'o', 'o', 'k', ' ', 'i', 'n', ' ', 'T', 'r', 'i', 'p', 'o', 'l', 'i', 'G', 'u', 'a', 't', 'e', 'm', 'a', 'l', 'a', ' ', '2', '4', '3', ' ', '2', '4', '9', ' ', '5', '7', 'G', 'u', 'i', 'n', 'e', 'a', 'G', 'u', 'i', 'n', 'e', 'a', ' ', '2', '5', '0', ' ', '2', '5', '3', ' ', '5', '8', 'G', 'u', 'n', 'u', 'w', 'a', 'n', ' ', 'R', 'I', 'n', 'f', 'a', 'n', 't', 'r', 'y', ' ', 'B', 'a', 't', 't', 'a', 'l', 'i', 'o', 'n', 's', ' ', 'o', 'f', ' ', 'P', 'h', 'i', 'l', 'i', 'p', 'p', 'i', 'n', 'e', 's', 'J', 'a', 'k', 'a', 'r', 't', 'a', 'J', 'a', 'k', 'a', 'r', 't', 'a', ' ', 'A', 'c', 'e', 'h', 'J', 'e', 's', 'u', 'i', 't', ' ', 'p', 'r', 'i', 'e', 's', 't', 'K', 'a', 'r', 'e', 'n', 'K', 'o', 's', 'o', 'v', 'o', ' ', 't', 'o', ' ', 'A', 'l', 'b', 'a', 'n', 'i', 'a', 'L', 'a', 'o', ' ', 'S', 't', 'u', 'd', 'e', 'n', 't', 's', ' ', 'M', 'o', 'v', 'e', 'm', 'e', 'n', 't', 'L', 'a', 'o', ' ', 'a', 'u', 't', 'h', 'o', 'r', 'i', 't', 'i', 'e', 's', 'L', 'a', 's', 't', 'i', 'n', 'g', ' ', 'P', 'e', 'a', 'c', 'e', ' ', 'i', 'n', ' ', 'G', 'u', 'a', 't', 'e', 'm', 'a', 'l', 'a', 'L', 'e', 'b', 'a', 'n', 'e', 's', 'e', 'L', 'i', 'b', 'y', 'a', 'n', ' ', 'A', 'r', 'a', 'b', ' ', 'J', 'a', 'm', 'a', 'h', 'i', 'r', 'i', 'y', 'a', ' ', 'M', 'o', 'r', 'o', 'c', 'c', 'o', ' ', 'N', 'e', 'p', 'a', 'l', 'L', 'o', 'n', 'd', 'o', 'n', 'M', 'a', 'r', 's', 'e', 'i', 'l', 'l', 'e', 's', 'M', 'i', 'n', 'd', 'a', 'n', 'a', 'o', 'M', 'o', 'b', 'i', 'l', 'e', ' ', 'B', 'r', 'i', 'g', 'a', 'd', 'e', ' ', 't', 'r', 'o', 'o', 'p', 's', 'M', 'o', 'r', 'o', 'c', 'c', 'o', ' ', '3', '5', '1', ' ', '3', '5', '7', ' ', '7', '9', 'N', 'e', 'p', 'a', 'l', ' ', '3', '7', '0', ' ', '3', '9', '1', ' ', '8', '3', 'N', 'e', 't', 'h', 'e', 'r', 'l', 'a', 'n', 'd', 's', 'N', 'i', 'c', 'a', 'r', 'a', 'g', 'u', 'a', 'N', 'i', 'c', 'a', 'r', 'a', 'g', 'u', 'a', ' ', '3', '9', '2', ' ', '3', '9', '6', ' ', '8', '7', 'P', 'e', 'r', 'u', 'P', 'e', 'r', 'u', ' ', '4', '1', '6', ' ', '4', '2', '1', ' ', '9', '2', 'P', 'h', 'i', 'l', 'i', 'p', 'p', 'i', 'n', 'e', 's', ' ', '4', 'P', 'h', 'i', 'l', 'i', 'p', 'p', 'i', 'n', 'e', 's', ' ', '4', '2', '2', ' ', '4', '3', '1', ' ', '9', '3', 'P', 'h', 'i', 'l', 'i', 'p', 'p', 'i', 'n', 'e', 's', ' ', 'm', 'a', 'y', 'R', 'a', 'b', 'a', 't', ' ', 's', 'u', 'b', 'u', 'r', 'b', 's', 'R', 'e', 'p', 'u', 'b', 'l', 'i', 'c', ' ', 'o', 'f', ' ', 'C', 'o', 'n', 'g', 'o', 'R', 'e', 'p', 'u', 'b', 'l', 'i', 'c', ' ', 'o', 'f', ' ', 'K', 'o', 'r', 'e', 'a', 'S', 'a', 'n', 't', 'a', ' ', 'R', 'o', 's', 'a', 'S', 'a', 'n', 't', 'o', ' ', 'D', 'o', 'm', 'i', 'n', 'g', 'o', 'S', 't', 'e', 'p', 'h', 'e', 'n', ' ', 'J', ' ', 'T', 'o', 'o', 'p', 'e', ' ', 'C', 'h', 'a', 'i', 'r', 'm', 'a', 'n', '-', 'R', 'a', 'p', 'p', 'o', 'r', 't', 'e', 'u', 'r', ' ', 'C', 'a', 'n', 'a', 'd', 'a', 'S', 'u', 'm', 'a', 't', 'r', 'a', 'U', 'r', 'u', 'g', 'u', 'a', 'y', 'U', 'r', 'u', 'g', 'u', 'a', 'y', ' ', '5', '6', '2', ' ', '5', '6', '5', ' ', '1', '2', '0', 'V', 'e', 'n', 'e', 'z', 'u', 'e', 'l', 'a', 'V', 'e', 'n', 'e', 'z', 'u', 'e', 'l', 'a', ' ', '5', '7', '6', ' ', '5', '7', '8', ' ', '1', '2', '2', 'W', 'o', 'r', 'k', 'i', 'n', 'g', ' ', 'G', 'r', 'o', 'u', 'p', ' ', 'J', 'Y', 'O', 'G', 'Y', 'A', ' ', 'D', 'e', 'p', 'a', 'r', 't', 'm', 'e', 'n', 't', ' ', 'S', 't', 'o', 'r', 'e', ' ', 'i', 'n', ' ', 'J', 'a', 'k', 'a', 'r', 't', 'a', 'a', 'b', 'd', 'u', 'c', 't', 'e', 'd', ' ', 'i', 'n', ' ', 'B', 'e', 'i', 'r', 'u', 't', 'a', 'b', 'd', 'u', 'c', 't', 'e', 'd', ' ', 'i', 'n', ' ', 'T', 'r', 'i', 'p', 'o', 'l', 'i', 'a', 'n', 't', 'i', '-', 'G', 'o', 'v', 'e', 'r', 'n', 'm', 'e', 'n', 't', ' ', 'd', 'e', 'm', 'o', 'n', 's', 't', 'r', 'a', 't', 'i', 'o', 'n', 's', ' ', 'i', 'n', ' ', 'E', 'a', 's', 't', ' ', 'T', 'i', 'm', 'o', 'r', ' ', 'J', 'a', 'k', 'a', 'r', 't', 'a', 'a', 'r', 'r', 'e', 's', 't', 'e', 'd', ' ', 'i', 'n', ' ', 'N', 'e', 'p', 'a', 'l', 'c', 'a', 'm', 'p', 's', ' ', 'a', 'c', 'r', 'o', 's', 's', ' ', 'N', 'e', 'p', 'a', 'l', 'c', 'a', 'r', ' ', 'n', 'e', 'a', 'r', ' ', 'B', 'a', 'n', 'g', 'k', 'o', 'k', 'c', 'a', 's', 'e', ' ', 'c', 'o', 'n', 'c', 'e', 'r', 'n', 'e', 'd', ' ', 'E', 'm', 'i', 'l', 'i', 'o', 'c', 'a', 's', 'e', ' ', 'c', 'o', 'n', 'c', 'e', 'r', 'n', 'e', 'd', ' ', 'J', 'o', 's', 'e', 'c', 'a', 's', 'e', 's', ' ', 'a', 'g', 'a', 'i', 'n', 's', 't', ' ', 'A', 'l', 'f', 'r', 'e', 'd', 'o', 'c', 'a', 's', 'e', 's', ' ', 'c', 'o', 'n', 'c', 'e', 'r', 'n', 'e', 'd', ' ', 'L', 'e', 'b', 'a', 'n', 'e', 's', 'e', 'c', 'a', 's', 'e', 's', ' ', 'c', 'o', 'n', 'c', 'e', 'r', 'n', 'i', 'n', 'g', ' ', 'L', 'e', 'b', 'a', 'n', 'e', 's', 'e', 'c', 'a', 's', 'e', 's', ' ', 'c', 'o', 'n', 'c', 'e', 'r', 'n', 'i', 'n', 'g', ' ', 'M', 'o', 'h', 'a', 'm', 'm', 'a', 'd', ' ', 'F', 'a', 'r', 'o', 'o', 'q', ' ', 'S', 'a', 'i', 'e', 'n', ' ', 'M', 'a', 'n', 'z', 'o', 'o', 'r', ' ', 'A', 'h', 'm', 'a', 'n', ' ', 'M', 'i', 'r', ' ', 'A', 'm', 'i', 'n', ' ', 'W', 'a', 'n', 'i', ' ', 'M', 'o', 'h', 'a', 'm', 'm', 'e', 'd', 'c', 'a', 's', 'e', 's', ' ', 'i', 'n', 'v', 'o', 'l', 'v', 'e', 'd', ' ', 'S', 'h', 'i', 'a', ' ', 'M', 'u', 's', 'l', 'i', 'm', 's', 'c', 'a', 's', 'e', 's', ' ', 'o', 'f', ' ', 'J', 'e', 's', 'u', 's', ' ', 'A', 'n', 't', 'o', 'n', 'i', 'o', 'c', 'h', 'r', 'o', 'n', 'i', 'c', ' ', 'p', 'r', 'o', 'b', 'l', 'e', 'm', ' ', 'i', 'n', ' ', 'N', 'e', 'p', 'a', 'l', 'c', 'i', 't', 'y', ' ', 'o', 'f', ' ', 'M', 'e', 'n', 'd', 'o', 'z', 'a', 'c', 'o', 'n', 'c', 'e', 'r', 'n', ' ', 'a', 'b', 'o', 'u', 't', ' ', 'L', 'e', 'b', 'a', 'n', 'e', 's', 'e', 'c', 'o', 'n', 'f', 'i', 'n', 'e', 'd', ' ', 'i', 'n', ' ', 'L', 'a', 'd', 'e', 'm', 'o', 'n', 's', 't', 'r', 'a', 't', 'i', 'o', 'n', ' ', 'i', 'n', ' ', 'V', 'i', 'e', 'n', 't', 'i', 'a', 'n', 'e', 'd', 'e', 'm', 'o', 'n', 's', 't', 'r', 'a', 't', 'i', 'o', 'n', 's', ' ', 'i', 'n', ' ', 'B', 'a', 'n', 'g', 'k', 'o', 'k', 'd', 'e', 'p', 'a', 'r', 't', 'u', 'r', 'e', ' ', 'l', 'o', 'u', 'n', 'g', 'e', ' ', 'o', 'f', ' ', 'C', 'a', 'i', 'r', 'o', 'd', 'e', 't', 'a', 'i', 'n', 'e', 'e', 's', ' ', 'h', 'e', 'l', 'd', ' ', 'i', 'n', ' ', 'S', 'y', 'r', 'i', 'a', 'd', 'i', 's', 'a', 'p', 'p', 'e', 'a', 'r', 'a', 'n', 'c', 'e', ' ', 'o', 'f', ' ', 'O', 'r', 'l', 'a', 'n', 'd', 'o', 'd', 'i', 's', 'a', 'p', 'p', 'e', 'a', 'r', 'a', 'n', 'c', 'e', 's', ' ', 'i', 'n', ' ', 'N', 'e', 'p', 'a', 'l', 'd', 'i', 's', 't', 'r', 'i', 'c', 't', 's', ' ', 'o', 'f', ' ', 'S', 'a', 'n', ' ', 'J', 'o', 's', 'e', ' ', 'S', 'a', 'n', 't', 'a', ' ', 'H', 'e', 'l', 'e', 'n', 'a', 'e', 'l', 'e', 'c', 't', 'e', 'd', ' ', 'P', 'r', 'e', 's', 'i', 'd', 'e', 'n', 't', ' ', 'A', 'r', 'i', 's', 't', 'i', 'd', 'e', 'e', 'l', 'e', 'm', 'e', 'n', 't', 's', ' ', 'o', 'f', ' ', 'A', 'l', 'p', 'h', 'a', 'g', 'a', 't', 'h', 'e', 'r', 'e', 'd', ' ', 'i', 'n', ' ', 'C', 'o', 'n', 's', 't', 'a', 'n', 't', 'i', 'n', 'e', 'g', 'o', 'v', 'e', 'r', 'n', 'm', 'e', 'n', 't', ' ', 'f', 'o', 'r', 'c', 'e', 's', ' ', 'a', 't', ' ', 'S', 'e', 'r', 'i', 'f', ' ', 'A', 'm', 'r', 'a', 'h', 'a', 'n', 'd', 'e', 'd', ' ', 'o', 'v', 'e', 'r', ' ', 't', 'o', ' ', 'S', 'y', 'r', 'i', 'a', 'h', 'e', 'l', 'd', ' ', 'i', 'n', ' ', 'B', 'a', 'n', 'g', 'k', 'o', 'k', 'h', 'e', 'l', 'd', ' ', 'i', 'n', ' ', 'G', 'e', 'n', 'e', 'v', 'a', 'h', 'u', 'm', 'a', 'n', ' ', 'r', 'i', 'g', 'h', 't', 's', ' ', 'd', 'e', 'f', 'e', 'n', 'd', 'e', 'r', ' ', 'O', 'r', 'l', 'a', 'n', 'd', 'o', 'h', 'u', 'm', 'a', 'n', ' ', 'r', 'i', 'g', 'h', 't', 's', ' ', 'd', 'e', 'f', 'e', 'n', 'd', 'e', 'r', 's', ' ', 'i', 'n', ' ', 'N', 'e', 'p', 'a', 'l', 'h', 'u', 'm', 'a', 'n', ' ', 'r', 'i', 'g', 'h', 't', 's', ' ', 'i', 'n', ' ', 'M', 'o', 'r', 'o', 'c', 'c', 'o', 'i', 'n', 't', 'e', 'r', 'n', 'a', 't', 'i', 'o', 'n', 'a', 'l', ' ', 'c', 'o', 'm', 'm', 'u', 'n', 'i', 't', 'y', ' ', 'i', 'n', ' ', 'N', 'e', 'p', 'a', 'l', 'l', 'e', 'c', 't', 'u', 'r', 'e', 'r', ' ', 'a', 't', ' ', 'K', 'i', 'n', 'g', ' ', 'S', 'a', 'u', 'd', 'l', 'o', 'c', 'a', 'l', 'i', 't', 'y', ' ', 'o', 'f', ' ', 'B', 'u', 'e', 'n', 'a', ' ', 'F', 'e', 'm', 'i', 'd', '-', 'J', 'u', 'n', 'e', ' ', '2', '0', '0', '5', 'n', 'a', 't', 'i', 'o', 'n', 'a', 'l', ' ', 's', 'e', 'c', 'r', 'e', 't', ' ', 'p', 'o', 'l', 'i', 'c', 'e', ' ', 'i', 'n', ' ', 'S', 'a', 'n', 't', 'o', 'p', 'e', 'r', 's', 'o', 'n', 's', ' ', 'i', 'n', ' ', 'S', 'y', 'r', 'i', 'a', 'p', 'r', 'e', 's', 's', 'i', 'n', 'g', ' ', 'h', 'u', 'm', 'a', 'n', ' ', 'r', 'i', 'g', 'h', 't', 's', ' ', 'i', 's', 's', 'u', 'e', 's', ' ', 'i', 'n', ' ', 'N', 'e', 'p', 'a', 'l', 'p', 'r', 'i', 's', 'o', 'n', ' ', 'i', 'n', ' ', 'T', 'e', 'l', ' ', 'A', 'v', 'i', 'v', 'q', 'u', 'e', 's', 't', 'i', 'o', 'n', ' ', 'o', 'f', ' ', 'L', 'e', 'b', 'a', 'n', 'e', 's', 'e', 'r', 'e', 'p', 'o', 'r', 't', 'e', 'd', ' ', 'c', 'a', 's', 'e', 's', ' ', 'i', 'n', ' ', 'G', 'u', 'i', 'n', 'e', 'a', 's', 'e', 'c', 'u', 'r', 'i', 't', 'y', ' ', 'f', 'o', 'r', 'c', 'e', 's', ' ', 'i', 'n', ' ', 'K', 'h', 'a', 'r', 't', 'o', 'u', 'm', 's', 'e', 's', 's', 'i', 'o', 'n', 's', ' ', 'M', 'r', ' ', 'S', 't', 'e', 'p', 'h', 'e', 'n', ' ', 'J', ' ', 'T', 'o', 'o', 'p', 'e', ' ', 'C', 'h', 'a', 'i', 'r', 'm', 'a', 'n', '-', 'R', 'a', 'p', 'p', 'o', 'r', 't', 'e', 'u', 'r', ' ', 'M', 'r', ' ', 'J', 's', 'i', 'g', 'n', 'i', 'f', 'i', 'c', 'a', 'n', 't', ' ', 'n', 'u', 'm', 'b', 'e', 'r', ' ', 'o', 'f', ' ', 'c', 'a', 's', 'e', 's', ' ', 'c', 'o', 'n', 'c', 'e', 'r', 'n', 'e', 'd', ' ', 'S', 'h', 'i', 'a', ' ', 'M', 'u', 's', 'l', 'i', 'm', 's', 'u', 'n', 'i', 'o', 'n', \"'\", 's', ' ', 'o', 'f', 'f', 'i', 'c', 'e', ' ', 'i', 'n', ' ', 'B', 'a', 'n', 'g', 'k', 'o', 'k', ' ', 't', 'h', 'r', 'e', 'e', 'u', 'p', 'r', 'i', 's', 'i', 'n', 'g', ' ', 'b', 'y', ' ', 'A', 'r', 'a', 'b', ' ', 'S', 'h', 'i', 'a', ' ', 'M', 'u', 's', 'l', 'i', 'm', 's']\n"
       ]
      },
      {
       "ename": "ValueError",
       "evalue": "need more than 1 value to unpack",
       "output_type": "pyerr",
       "traceback": [
        "\u001b[1;31m---------------------------------------------------------------------------\u001b[0m\n\u001b[1;31mValueError\u001b[0m                                Traceback (most recent call last)",
        "\u001b[1;32m<ipython-input-9-d5b6a775fbe3>\u001b[0m in \u001b[0;36m<module>\u001b[1;34m()\u001b[0m\n\u001b[1;32m----> 1\u001b[1;33m \u001b[0mcolloc\u001b[0m \u001b[1;33m=\u001b[0m \u001b[0mmun\u001b[0m\u001b[1;33m.\u001b[0m\u001b[0mget_chunked_collocations\u001b[0m\u001b[1;33m(\u001b[0m\u001b[0mchunks\u001b[0m\u001b[1;33m=\u001b[0m\u001b[0mnchunks\u001b[0m\u001b[1;33m)\u001b[0m\u001b[1;33m\u001b[0m\u001b[0m\n\u001b[0m\u001b[0;32m      2\u001b[0m \u001b[0mHTML\u001b[0m\u001b[1;33m(\u001b[0m\u001b[0mmun\u001b[0m\u001b[1;33m.\u001b[0m\u001b[0mjson2html\u001b[0m\u001b[1;33m(\u001b[0m\u001b[1;33m[\u001b[0m \u001b[1;33m[\u001b[0m \u001b[1;34m\"<->\"\u001b[0m\u001b[1;33m.\u001b[0m\u001b[0mjoin\u001b[0m\u001b[1;33m(\u001b[0m\u001b[0mlist\u001b[0m\u001b[1;33m(\u001b[0m\u001b[0mr\u001b[0m\u001b[1;33m)\u001b[0m\u001b[1;33m)\u001b[0m \u001b[1;32mfor\u001b[0m \u001b[0mr\u001b[0m \u001b[1;32min\u001b[0m \u001b[0mc\u001b[0m\u001b[1;33m]\u001b[0m \u001b[1;32mfor\u001b[0m \u001b[0mc\u001b[0m \u001b[1;32min\u001b[0m \u001b[0mcolloc\u001b[0m\u001b[1;33m]\u001b[0m\u001b[1;33m)\u001b[0m\u001b[1;33m)\u001b[0m\u001b[1;33m\u001b[0m\u001b[0m\n",
        "\u001b[1;32mC:\\Users\\Hassan\\Dropbox\\Berkeley\\iSchool\\CURRENT Courses\\INFO 256 - Applied Natural Language Processing\\Projects\\MultiUN_Map\\modules\\multi_un_module.pyc\u001b[0m in \u001b[0;36mget_chunked_collocations\u001b[1;34m(sentences, tagged_sentences, tagger, chunks, target, chunker, filter_limit, finder_limit)\u001b[0m\n\u001b[0;32m    749\u001b[0m     \u001b[1;31m#after some testing, I found that many collocations are numeric so I am filtering out non alpha words\u001b[0m\u001b[1;33m\u001b[0m\u001b[1;33m\u001b[0m\u001b[0m\n\u001b[0;32m    750\u001b[0m     \u001b[1;31m#This filters out any pairs that don't included the target chunk grammer\u001b[0m\u001b[1;33m\u001b[0m\u001b[1;33m\u001b[0m\u001b[0m\n\u001b[1;32m--> 751\u001b[1;33m     \u001b[0mfinder\u001b[0m\u001b[1;33m.\u001b[0m\u001b[0mapply_ngram_filter\u001b[0m\u001b[1;33m(\u001b[0m\u001b[1;32mlambda\u001b[0m \u001b[1;33m(\u001b[0m\u001b[0mw1\u001b[0m\u001b[1;33m,\u001b[0m \u001b[0mt1\u001b[0m\u001b[1;33m)\u001b[0m\u001b[1;33m,\u001b[0m \u001b[1;33m(\u001b[0m\u001b[0mw2\u001b[0m\u001b[1;33m,\u001b[0m\u001b[0mt2\u001b[0m\u001b[1;33m)\u001b[0m\u001b[1;33m:\u001b[0m \u001b[0mtarget\u001b[0m \u001b[1;32mnot\u001b[0m \u001b[1;32min\u001b[0m \u001b[1;33m(\u001b[0m\u001b[0mt1\u001b[0m\u001b[1;33m,\u001b[0m\u001b[0mt2\u001b[0m\u001b[1;33m)\u001b[0m \u001b[1;32mor\u001b[0m \u001b[1;32mnot\u001b[0m \u001b[0mw1\u001b[0m\u001b[1;33m.\u001b[0m\u001b[0misalpha\u001b[0m\u001b[1;33m(\u001b[0m\u001b[1;33m)\u001b[0m \u001b[1;32mor\u001b[0m \u001b[1;32mnot\u001b[0m \u001b[0mw2\u001b[0m\u001b[1;33m.\u001b[0m\u001b[0misalpha\u001b[0m\u001b[1;33m(\u001b[0m\u001b[1;33m)\u001b[0m\u001b[1;33m)\u001b[0m\u001b[1;33m\u001b[0m\u001b[0m\n\u001b[0m\u001b[0;32m    752\u001b[0m     \u001b[0mfinder3\u001b[0m\u001b[1;33m.\u001b[0m\u001b[0mapply_ngram_filter\u001b[0m\u001b[1;33m(\u001b[0m\u001b[1;32mlambda\u001b[0m \u001b[1;33m(\u001b[0m\u001b[0mw1\u001b[0m\u001b[1;33m,\u001b[0m \u001b[0mt1\u001b[0m\u001b[1;33m)\u001b[0m\u001b[1;33m,\u001b[0m \u001b[1;33m(\u001b[0m\u001b[0mw2\u001b[0m\u001b[1;33m,\u001b[0m\u001b[0mt2\u001b[0m\u001b[1;33m)\u001b[0m\u001b[1;33m,\u001b[0m \u001b[1;33m(\u001b[0m\u001b[0mw3\u001b[0m\u001b[1;33m,\u001b[0m \u001b[0mt3\u001b[0m\u001b[1;33m)\u001b[0m\u001b[1;33m:\u001b[0m                                \u001b[0mtarget\u001b[0m \u001b[1;32mnot\u001b[0m \u001b[1;32min\u001b[0m \u001b[1;33m(\u001b[0m\u001b[0mt1\u001b[0m\u001b[1;33m,\u001b[0m\u001b[0mt2\u001b[0m\u001b[1;33m,\u001b[0m\u001b[0mt3\u001b[0m\u001b[1;33m)\u001b[0m \u001b[1;32mor\u001b[0m \u001b[1;32mnot\u001b[0m \u001b[0mw1\u001b[0m\u001b[1;33m.\u001b[0m\u001b[0misalpha\u001b[0m\u001b[1;33m(\u001b[0m\u001b[1;33m)\u001b[0m \u001b[1;32mor\u001b[0m \u001b[1;32mnot\u001b[0m \u001b[0mw2\u001b[0m\u001b[1;33m.\u001b[0m\u001b[0misalpha\u001b[0m\u001b[1;33m(\u001b[0m\u001b[1;33m)\u001b[0m \u001b[1;32mor\u001b[0m \u001b[1;32mnot\u001b[0m \u001b[0mw3\u001b[0m\u001b[1;33m.\u001b[0m\u001b[0misalpha\u001b[0m\u001b[1;33m(\u001b[0m\u001b[1;33m)\u001b[0m\u001b[1;33m)\u001b[0m\u001b[1;33m\u001b[0m\u001b[0m\n\u001b[0;32m    753\u001b[0m     \u001b[0mfinder\u001b[0m\u001b[1;33m.\u001b[0m\u001b[0mapply_freq_filter\u001b[0m\u001b[1;33m(\u001b[0m\u001b[0mfilter_limit\u001b[0m\u001b[1;33m)\u001b[0m\u001b[1;33m\u001b[0m\u001b[0m\n",
        "\u001b[1;32mc:\\Python27\\Scripts\\VENV\\nlp\\lib\\site-packages\\nltk\\collocations.pyc\u001b[0m in \u001b[0;36mapply_ngram_filter\u001b[1;34m(self, fn)\u001b[0m\n\u001b[0;32m     84\u001b[0m         \u001b[0mevaluates\u001b[0m \u001b[0mto\u001b[0m \u001b[0mTrue\u001b[0m\u001b[1;33m.\u001b[0m\u001b[1;33m\u001b[0m\u001b[0m\n\u001b[0;32m     85\u001b[0m         \"\"\"\n\u001b[1;32m---> 86\u001b[1;33m         \u001b[0mself\u001b[0m\u001b[1;33m.\u001b[0m\u001b[0m_apply_filter\u001b[0m\u001b[1;33m(\u001b[0m\u001b[1;32mlambda\u001b[0m \u001b[0mng\u001b[0m\u001b[1;33m,\u001b[0m \u001b[0mf\u001b[0m\u001b[1;33m:\u001b[0m \u001b[0mfn\u001b[0m\u001b[1;33m(\u001b[0m\u001b[1;33m*\u001b[0m\u001b[0mng\u001b[0m\u001b[1;33m)\u001b[0m\u001b[1;33m)\u001b[0m\u001b[1;33m\u001b[0m\u001b[0m\n\u001b[0m\u001b[0;32m     87\u001b[0m \u001b[1;33m\u001b[0m\u001b[0m\n\u001b[0;32m     88\u001b[0m     \u001b[1;32mdef\u001b[0m \u001b[0mapply_word_filter\u001b[0m\u001b[1;33m(\u001b[0m\u001b[0mself\u001b[0m\u001b[1;33m,\u001b[0m \u001b[0mfn\u001b[0m\u001b[1;33m)\u001b[0m\u001b[1;33m:\u001b[0m\u001b[1;33m\u001b[0m\u001b[0m\n",
        "\u001b[1;32mc:\\Python27\\Scripts\\VENV\\nlp\\lib\\site-packages\\nltk\\collocations.pyc\u001b[0m in \u001b[0;36m_apply_filter\u001b[1;34m(self, fn)\u001b[0m\n\u001b[0;32m     70\u001b[0m         \"\"\"\n\u001b[0;32m     71\u001b[0m         \u001b[1;32mfor\u001b[0m \u001b[0mngram\u001b[0m\u001b[1;33m,\u001b[0m \u001b[0mfreq\u001b[0m \u001b[1;32min\u001b[0m \u001b[0mself\u001b[0m\u001b[1;33m.\u001b[0m\u001b[0mngram_fd\u001b[0m\u001b[1;33m.\u001b[0m\u001b[0mitems\u001b[0m\u001b[1;33m(\u001b[0m\u001b[1;33m)\u001b[0m\u001b[1;33m:\u001b[0m\u001b[1;33m\u001b[0m\u001b[0m\n\u001b[1;32m---> 72\u001b[1;33m             \u001b[1;32mif\u001b[0m \u001b[0mfn\u001b[0m\u001b[1;33m(\u001b[0m\u001b[0mngram\u001b[0m\u001b[1;33m,\u001b[0m \u001b[0mfreq\u001b[0m\u001b[1;33m)\u001b[0m\u001b[1;33m:\u001b[0m\u001b[1;33m\u001b[0m\u001b[0m\n\u001b[0m\u001b[0;32m     73\u001b[0m                 \u001b[1;32mtry\u001b[0m\u001b[1;33m:\u001b[0m\u001b[1;33m\u001b[0m\u001b[0m\n\u001b[0;32m     74\u001b[0m                     \u001b[1;32mdel\u001b[0m \u001b[0mself\u001b[0m\u001b[1;33m.\u001b[0m\u001b[0mngram_fd\u001b[0m\u001b[1;33m[\u001b[0m\u001b[0mngram\u001b[0m\u001b[1;33m]\u001b[0m\u001b[1;33m\u001b[0m\u001b[0m\n",
        "\u001b[1;32mc:\\Python27\\Scripts\\VENV\\nlp\\lib\\site-packages\\nltk\\collocations.pyc\u001b[0m in \u001b[0;36m<lambda>\u001b[1;34m(ng, f)\u001b[0m\n\u001b[0;32m     84\u001b[0m         \u001b[0mevaluates\u001b[0m \u001b[0mto\u001b[0m \u001b[0mTrue\u001b[0m\u001b[1;33m.\u001b[0m\u001b[1;33m\u001b[0m\u001b[0m\n\u001b[0;32m     85\u001b[0m         \"\"\"\n\u001b[1;32m---> 86\u001b[1;33m         \u001b[0mself\u001b[0m\u001b[1;33m.\u001b[0m\u001b[0m_apply_filter\u001b[0m\u001b[1;33m(\u001b[0m\u001b[1;32mlambda\u001b[0m \u001b[0mng\u001b[0m\u001b[1;33m,\u001b[0m \u001b[0mf\u001b[0m\u001b[1;33m:\u001b[0m \u001b[0mfn\u001b[0m\u001b[1;33m(\u001b[0m\u001b[1;33m*\u001b[0m\u001b[0mng\u001b[0m\u001b[1;33m)\u001b[0m\u001b[1;33m)\u001b[0m\u001b[1;33m\u001b[0m\u001b[0m\n\u001b[0m\u001b[0;32m     87\u001b[0m \u001b[1;33m\u001b[0m\u001b[0m\n\u001b[0;32m     88\u001b[0m     \u001b[1;32mdef\u001b[0m \u001b[0mapply_word_filter\u001b[0m\u001b[1;33m(\u001b[0m\u001b[0mself\u001b[0m\u001b[1;33m,\u001b[0m \u001b[0mfn\u001b[0m\u001b[1;33m)\u001b[0m\u001b[1;33m:\u001b[0m\u001b[1;33m\u001b[0m\u001b[0m\n",
        "\u001b[1;32mC:\\Users\\Hassan\\Dropbox\\Berkeley\\iSchool\\CURRENT Courses\\INFO 256 - Applied Natural Language Processing\\Projects\\MultiUN_Map\\modules\\multi_un_module.pyc\u001b[0m in \u001b[0;36m<lambda>\u001b[1;34m(***failed resolving arguments***)\u001b[0m\n\u001b[0;32m    749\u001b[0m     \u001b[1;31m#after some testing, I found that many collocations are numeric so I am filtering out non alpha words\u001b[0m\u001b[1;33m\u001b[0m\u001b[1;33m\u001b[0m\u001b[0m\n\u001b[0;32m    750\u001b[0m     \u001b[1;31m#This filters out any pairs that don't included the target chunk grammer\u001b[0m\u001b[1;33m\u001b[0m\u001b[1;33m\u001b[0m\u001b[0m\n\u001b[1;32m--> 751\u001b[1;33m     \u001b[0mfinder\u001b[0m\u001b[1;33m.\u001b[0m\u001b[0mapply_ngram_filter\u001b[0m\u001b[1;33m(\u001b[0m\u001b[1;32mlambda\u001b[0m \u001b[1;33m(\u001b[0m\u001b[0mw1\u001b[0m\u001b[1;33m,\u001b[0m \u001b[0mt1\u001b[0m\u001b[1;33m)\u001b[0m\u001b[1;33m,\u001b[0m \u001b[1;33m(\u001b[0m\u001b[0mw2\u001b[0m\u001b[1;33m,\u001b[0m\u001b[0mt2\u001b[0m\u001b[1;33m)\u001b[0m\u001b[1;33m:\u001b[0m \u001b[0mtarget\u001b[0m \u001b[1;32mnot\u001b[0m \u001b[1;32min\u001b[0m \u001b[1;33m(\u001b[0m\u001b[0mt1\u001b[0m\u001b[1;33m,\u001b[0m\u001b[0mt2\u001b[0m\u001b[1;33m)\u001b[0m \u001b[1;32mor\u001b[0m \u001b[1;32mnot\u001b[0m \u001b[0mw1\u001b[0m\u001b[1;33m.\u001b[0m\u001b[0misalpha\u001b[0m\u001b[1;33m(\u001b[0m\u001b[1;33m)\u001b[0m \u001b[1;32mor\u001b[0m \u001b[1;32mnot\u001b[0m \u001b[0mw2\u001b[0m\u001b[1;33m.\u001b[0m\u001b[0misalpha\u001b[0m\u001b[1;33m(\u001b[0m\u001b[1;33m)\u001b[0m\u001b[1;33m)\u001b[0m\u001b[1;33m\u001b[0m\u001b[0m\n\u001b[0m\u001b[0;32m    752\u001b[0m     \u001b[0mfinder3\u001b[0m\u001b[1;33m.\u001b[0m\u001b[0mapply_ngram_filter\u001b[0m\u001b[1;33m(\u001b[0m\u001b[1;32mlambda\u001b[0m \u001b[1;33m(\u001b[0m\u001b[0mw1\u001b[0m\u001b[1;33m,\u001b[0m \u001b[0mt1\u001b[0m\u001b[1;33m)\u001b[0m\u001b[1;33m,\u001b[0m \u001b[1;33m(\u001b[0m\u001b[0mw2\u001b[0m\u001b[1;33m,\u001b[0m\u001b[0mt2\u001b[0m\u001b[1;33m)\u001b[0m\u001b[1;33m,\u001b[0m \u001b[1;33m(\u001b[0m\u001b[0mw3\u001b[0m\u001b[1;33m,\u001b[0m \u001b[0mt3\u001b[0m\u001b[1;33m)\u001b[0m\u001b[1;33m:\u001b[0m                                \u001b[0mtarget\u001b[0m \u001b[1;32mnot\u001b[0m \u001b[1;32min\u001b[0m \u001b[1;33m(\u001b[0m\u001b[0mt1\u001b[0m\u001b[1;33m,\u001b[0m\u001b[0mt2\u001b[0m\u001b[1;33m,\u001b[0m\u001b[0mt3\u001b[0m\u001b[1;33m)\u001b[0m \u001b[1;32mor\u001b[0m \u001b[1;32mnot\u001b[0m \u001b[0mw1\u001b[0m\u001b[1;33m.\u001b[0m\u001b[0misalpha\u001b[0m\u001b[1;33m(\u001b[0m\u001b[1;33m)\u001b[0m \u001b[1;32mor\u001b[0m \u001b[1;32mnot\u001b[0m \u001b[0mw2\u001b[0m\u001b[1;33m.\u001b[0m\u001b[0misalpha\u001b[0m\u001b[1;33m(\u001b[0m\u001b[1;33m)\u001b[0m \u001b[1;32mor\u001b[0m \u001b[1;32mnot\u001b[0m \u001b[0mw3\u001b[0m\u001b[1;33m.\u001b[0m\u001b[0misalpha\u001b[0m\u001b[1;33m(\u001b[0m\u001b[1;33m)\u001b[0m\u001b[1;33m)\u001b[0m\u001b[1;33m\u001b[0m\u001b[0m\n\u001b[0;32m    753\u001b[0m     \u001b[0mfinder\u001b[0m\u001b[1;33m.\u001b[0m\u001b[0mapply_freq_filter\u001b[0m\u001b[1;33m(\u001b[0m\u001b[0mfilter_limit\u001b[0m\u001b[1;33m)\u001b[0m\u001b[1;33m\u001b[0m\u001b[0m\n",
        "\u001b[1;31mValueError\u001b[0m: need more than 1 value to unpack"
       ]
      }
     ],
     "prompt_number": 9
    },
    {
     "cell_type": "code",
     "collapsed": false,
     "input": [
      "colloc = mun.get_chunked_collocations(chunks=nchunks)\n",
      "HTML(mun.json2html([ [ \"<->\".join(list(r)) for r in c] for c in colloc]))"
     ],
     "language": "python",
     "metadata": {},
     "outputs": []
    },
    {
     "cell_type": "code",
     "collapsed": false,
     "input": [],
     "language": "python",
     "metadata": {},
     "outputs": []
    },
    {
     "cell_type": "code",
     "collapsed": false,
     "input": [
      "summary = mun.get_document_summary(doc)\n",
      "HTML(mun.json2html(list(summary)))"
     ],
     "language": "python",
     "metadata": {},
     "outputs": []
    },
    {
     "cell_type": "code",
     "collapsed": false,
     "input": [
      "sumy = mun.sumy_paragraphs(paragraphs, sentence_count=5)\n",
      "HTML(mun.json2html(sumy))"
     ],
     "language": "python",
     "metadata": {},
     "outputs": []
    },
    {
     "cell_type": "code",
     "collapsed": false,
     "input": [
      "HTML(mun.get_doc_html(doc))"
     ],
     "language": "python",
     "metadata": {},
     "outputs": []
    }
   ],
   "metadata": {}
  }
 ]
}