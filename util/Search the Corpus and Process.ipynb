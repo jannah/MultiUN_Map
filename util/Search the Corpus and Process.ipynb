{
 "metadata": {
  "name": "",
  "signature": "sha256:7607a546163e923537ebaab9bd78a14c47f2299312804d5077f0f4391baf9b5b"
 },
 "nbformat": 3,
 "nbformat_minor": 0,
 "worksheets": [
  {
   "cells": [
    {
     "cell_type": "heading",
     "level": 1,
     "metadata": {},
     "source": [
      "Search for a Specific Document in the Corpus"
     ]
    },
    {
     "cell_type": "markdown",
     "metadata": {},
     "source": [
      "A simple utility to search for a document using its' attributes"
     ]
    },
    {
     "cell_type": "code",
     "collapsed": false,
     "input": [
      "MODULES_PATH = '''../modules/multi_un_module.py'''\n",
      "import imp\n",
      "NF = imp.load_source('multi_un_module', MODULES_PATH)\n",
      "import multi_un_module as mun\n",
      "from IPython.display import HTML"
     ],
     "language": "python",
     "metadata": {},
     "outputs": [
      {
       "output_type": "stream",
       "stream": "stdout",
       "text": [
        "Load_countries() DONE!\n"
       ]
      }
     ],
     "prompt_number": 1
    },
    {
     "cell_type": "markdown",
     "metadata": {},
     "source": [
      "serach for documents\n",
      "\n",
      "G0516877"
     ]
    },
    {
     "cell_type": "code",
     "collapsed": false,
     "input": [
      "# n = raw_input('Enter a document attribute:\\n')\n",
      "n = 'G0516877'\n",
      "document = mun.get_documents(term=n, limit = 1, include_content=True)\n",
      "print len(document), ' result%s'%('s' if len(document)>1 else '')\n",
      "h = HTML(mun.json2html(document));h"
     ],
     "language": "python",
     "metadata": {},
     "outputs": [
      {
       "output_type": "stream",
       "stream": "stdout",
       "text": [
        "1  result\n"
       ]
      },
      {
       "html": [
        "<table class=\"table\"><tr><td>multiUN.en\\un\\xml\\en\\2005\\E_CN4_2006_56-en.xml</td><td><table class=\"table\"><tr><td>attributes</td><td><table class=\"table\"><tr><td>lang</td><td>English</td></tr><tr><td>date</td><td>2005/12/27</td></tr><tr><td>path</td><td>C:\\Users\\Hassan\\Documents\\iSchool\\NLP\\United Nations\\multiUN.en\\un\\xml\\en\\2005\\E_CN4_2006_56-en.xml</td></tr><tr><td>id</td><td>E/CN.4/2006/56</td></tr><tr><td>n</td><td>G0516877</td></tr></table></td></tr><tr><td>scrape</td><td><table class=\"table\"><tr><td>Title</td><td>REPORT OF THE WORKING GROUP ON ENFORCED OR INVOLUNTARY DISAPPEARANCES</td></tr><tr><td>ODS</td><td>E/CN.4/2006/56</td></tr><tr><td>Agenda Items</td><td>11 11b</td></tr><tr><td>Subjects</td><td><table class=\"table\"><tr><td>1</td><td>DISAPPEARANCE OF PERSONS</td></tr><tr><td>2</td><td>AFGHANISTAN</td></tr><tr><td>3</td><td>ALGERIA</td></tr><tr><td>4</td><td>ANGOLA</td></tr><tr><td>5</td><td>ARGENTINA</td></tr><tr><td>6</td><td>BANGLADESH</td></tr><tr><td>7</td><td>BELARUS</td></tr><tr><td>8</td><td>BHUTAN</td></tr><tr><td>9</td><td>BOLIVIA (PLURINATIONAL STATE OF)</td></tr><tr><td>10</td><td>BRAZIL</td></tr><tr><td>11</td><td>BURKINA FASO</td></tr><tr><td>12</td><td>BURUNDI</td></tr><tr><td>13</td><td>CAMBODIA</td></tr><tr><td>14</td><td>CAMEROON</td></tr><tr><td>15</td><td>CHAD</td></tr><tr><td>16</td><td>CHILE</td></tr><tr><td>17</td><td>CHINA</td></tr><tr><td>18</td><td>COLOMBIA</td></tr><tr><td>19</td><td>CONGO</td></tr><tr><td>20</td><td>DEMOCRATIC PEOPLE'S REPUBLIC OF KOREA</td></tr><tr><td>21</td><td>DEMOCRATIC REPUBLIC OF THE CONGO</td></tr><tr><td>22</td><td>DOMINICAN REPUBLIC</td></tr><tr><td>23</td><td>ECUADOR</td></tr><tr><td>24</td><td>EGYPT</td></tr><tr><td>25</td><td>EL SALVADOR</td></tr><tr><td>26</td><td>EQUATORIAL GUINEA</td></tr><tr><td>27</td><td>ERITREA</td></tr><tr><td>28</td><td>ETHIOPIA</td></tr><tr><td>29</td><td>FRANCE</td></tr><tr><td>30</td><td>GREECE</td></tr><tr><td>31</td><td>GUATEMALA</td></tr><tr><td>32</td><td>GUINEA</td></tr><tr><td>33</td><td>HAITI</td></tr><tr><td>34</td><td>HONDURAS</td></tr><tr><td>35</td><td>INDIA</td></tr><tr><td>36</td><td>INDONESIA</td></tr><tr><td>37</td><td>IRAN (ISLAMIC REPUBLIC OF)</td></tr><tr><td>38</td><td>IRAQ</td></tr><tr><td>39</td><td>ISRAEL</td></tr><tr><td>40</td><td>JAPAN</td></tr><tr><td>41</td><td>JORDAN</td></tr><tr><td>42</td><td>KUWAIT</td></tr><tr><td>43</td><td>LAO PEOPLE'S DEMOCRATIC REPUBLIC</td></tr><tr><td>44</td><td>LEBANON</td></tr><tr><td>45</td><td>LIBYAN ARAB JAMAHIRIYA</td></tr><tr><td>46</td><td>MALAYSIA</td></tr><tr><td>47</td><td>MAURITANIA</td></tr><tr><td>48</td><td>MEXICO</td></tr><tr><td>49</td><td>MOROCCO</td></tr><tr><td>50</td><td>MOZAMBIQUE</td></tr><tr><td>51</td><td>MYANMAR</td></tr><tr><td>52</td><td>NAMIBIA</td></tr><tr><td>53</td><td>NEPAL</td></tr><tr><td>54</td><td>NICARAGUA</td></tr><tr><td>55</td><td>NIGERIA</td></tr><tr><td>56</td><td>PAKISTAN</td></tr><tr><td>57</td><td>PALESTINE</td></tr><tr><td>58</td><td>PARAGUAY</td></tr><tr><td>59</td><td>PERU</td></tr><tr><td>60</td><td>PHILIPPINES</td></tr><tr><td>61</td><td>RUSSIAN FEDERATION</td></tr><tr><td>62</td><td>RWANDA</td></tr><tr><td>63</td><td>SAUDI ARABIA</td></tr><tr><td>64</td><td>SERBIA AND MONTENEGRO</td></tr><tr><td>65</td><td>SEYCHELLES</td></tr><tr><td>66</td><td>SPAIN</td></tr><tr><td>67</td><td>SRI LANKA</td></tr><tr><td>68</td><td>SUDAN</td></tr><tr><td>69</td><td>SYRIAN ARAB REPUBLIC</td></tr><tr><td>70</td><td>TAJIKISTAN</td></tr><tr><td>71</td><td>THAILAND</td></tr><tr><td>72</td><td>TIMOR-LESTE</td></tr><tr><td>73</td><td>TOGO</td></tr><tr><td>74</td><td>TUNISIA</td></tr><tr><td>75</td><td>TURKEY</td></tr><tr><td>76</td><td>UGANDA</td></tr><tr><td>77</td><td>UKRAINE</td></tr><tr><td>78</td><td>URUGUAY</td></tr><tr><td>79</td><td>UZBEKISTAN</td></tr><tr><td>80</td><td>VENEZUELA (BOLIVARIAN REPUBLIC OF)</td></tr><tr><td>81</td><td>YEMEN</td></tr><tr><td>82</td><td>ZIMBABWE</td></tr><tr><td>83</td><td>STATISTICAL DATA</td></tr></table></td></tr><tr><td>Session/Year</td><td>62</td></tr><tr><td>Distribution</td><td>GEN</td></tr><tr><td>Area</td><td>UNDOC</td></tr><tr><td>Symbol</td><td>E/CN.4/2006/56</td></tr><tr><td>Publication date</td><td>27/12/2005</td></tr></table></td></tr></table></td></tr></table>"
       ],
       "metadata": {},
       "output_type": "pyout",
       "prompt_number": 2,
       "text": [
        "<IPython.core.display.HTML at 0x1ababd68>"
       ]
      }
     ],
     "prompt_number": 2
    },
    {
     "cell_type": "code",
     "collapsed": false,
     "input": [
      "\n",
      "doc_name, doc=document.iteritems().next()\n",
      "paragraphs = mun.extract_paragraphs(document)\n",
      "sentences = mun.extract_sentences(document)\n",
      "tokenized_sentences = mun.tokenize_sentence_text(sentences)\n",
      "tagged_sentences = mun.tag_pos_sentences(tokenized_sentences)"
     ],
     "language": "python",
     "metadata": {},
     "outputs": [
      {
       "javascript": [
        "//704ab07d-06e7-4836-9222-83e5ec72bdbf\n",
        "$(\"head\").append(\"<style> td.pb_widget {     width: auto; } td.pb_widget_fill {     width: 100%; } table.pb {     font-family: monospace;     border: 0;     margin: 0; } table.pb tr { border: 0; } table.pb td {     white-space: nowrap;     border: 0; } div.pb {     border: 1px solid #ddd;     border-radius: 3px; } div.pb_bar {     height: 1.5em; } </style>\")"
       ],
       "metadata": {},
       "output_type": "display_data",
       "text": [
        "<IPython.core.display.Javascript at 0x3501e10>"
       ]
      },
      {
       "javascript": [
        "\n",
        "                  // 704ab07d-06e7-4836-9222-83e5ec72bdbf -- used to remove this code blob in the end\n",
        "                  IPython.OutputArea.prototype.cleanProgressBar = function(uuids) {\n",
        "                      // filter by uuid-strings \n",
        "                      var myfilter = function(output) { \n",
        "                          var nuids = uuids.length;\n",
        "                          for (var i=0; i<nuids; i++) {\n",
        "                              if (output.hasOwnProperty('html')) {\n",
        "                                  if (output.html.indexOf(uuids[i]) != -1) {\n",
        "                                      return false;\n",
        "                                  }\n",
        "                              }\n",
        "                              if (output.hasOwnProperty('javascript')) {\n",
        "                                  if (output.javascript.indexOf(uuids[i]) != -1) {\n",
        "                                      return false;\n",
        "                                  }\n",
        "                              }\n",
        "                          }\n",
        "                          // keep all others\n",
        "                          return true;\n",
        "                      };\n",
        "\n",
        "                      // Filter the ouputs\n",
        "                      this.outputs = this.outputs.filter(myfilter);\n",
        "                };\n",
        "                "
       ],
       "metadata": {},
       "output_type": "display_data",
       "text": [
        "<IPython.core.display.Javascript at 0x17174da0>"
       ]
      },
      {
       "html": [
        "<div class=\"pb\" id=\"704ab07d-06e7-4836-9222-83e5ec72bdbf\"><table class=\"pb ui-widget\"><tr>\n",
        "<td class=\"pb_widget\">Tokenizing sentences</td>\n",
        "<td class=\"pb_widget\"><div id=\"b4e717fd-4eff-4b96-a4f6-0809fdd6da14\">0 of 2029</div></td>\n",
        "<td class=\"pb_widget\"><div id=\"f1ad154a-1abb-49dc-b7a6-0399b44dc62f\">  0%</div></td>\n",
        "<td class=\"pb_widget_fill\">\n",
        "        <div class=\"pb_bar\" id=\"7afd0cc4-56ec-4da8-91c6-b6e51dbb223b\"></div>\n",
        "        <script type=\"text/javascript\">\n",
        "            $(\"div#7afd0cc4-56ec-4da8-91c6-b6e51dbb223b\").progressbar({value: 0, max: 2029});\n",
        "        </script>\n",
        "        </td>\n",
        "<td class=\"pb_widget\"><div id=\"33278e6f-20c3-453f-b5c4-03888fde3be4\">ETA:  --:--:--</div></td>\n",
        "</tr></table><div>"
       ],
       "metadata": {},
       "output_type": "display_data",
       "text": [
        "<IPython.core.display.HTML at 0x17174668>"
       ]
      },
      {
       "javascript": [
        "$('div#b4e717fd-4eff-4b96-a4f6-0809fdd6da14').text('21 of 2029');"
       ],
       "metadata": {},
       "output_type": "display_data",
       "text": [
        "<IPython.core.display.Javascript at 0x171743c8>"
       ]
      },
      {
       "javascript": [
        "$('div#f1ad154a-1abb-49dc-b7a6-0399b44dc62f').text('  1%');"
       ],
       "metadata": {},
       "output_type": "display_data",
       "text": [
        "<IPython.core.display.Javascript at 0x3501e10>"
       ]
      },
      {
       "javascript": [
        "\n",
        "        var $myPB = $(\"div#7afd0cc4-56ec-4da8-91c6-b6e51dbb223b\")\n",
        "        if ($myPB.hasClass('ui-progressbar')) {\n",
        "            $myPB.progressbar('value', 21);\n",
        "        } else {\n",
        "            $myPB.progressbar({value: 0, max: 2029});\n",
        "        }\n",
        "        "
       ],
       "metadata": {},
       "output_type": "display_data",
       "text": [
        "<IPython.core.display.Javascript at 0x171743c8>"
       ]
      },
      {
       "javascript": [
        "$('div#33278e6f-20c3-453f-b5c4-03888fde3be4').text('ETA:  0:00:00');"
       ],
       "metadata": {},
       "output_type": "display_data",
       "text": [
        "<IPython.core.display.Javascript at 0x171740b8>"
       ]
      },
      {
       "javascript": [
        "$('div#b4e717fd-4eff-4b96-a4f6-0809fdd6da14').text('42 of 2029');"
       ],
       "metadata": {},
       "output_type": "display_data",
       "text": [
        "<IPython.core.display.Javascript at 0x17174ac8>"
       ]
      },
      {
       "javascript": [
        "$('div#f1ad154a-1abb-49dc-b7a6-0399b44dc62f').text('  2%');"
       ],
       "metadata": {},
       "output_type": "display_data",
       "text": [
        "<IPython.core.display.Javascript at 0x3501e10>"
       ]
      },
      {
       "javascript": [
        "\n",
        "        var $myPB = $(\"div#7afd0cc4-56ec-4da8-91c6-b6e51dbb223b\")\n",
        "        if ($myPB.hasClass('ui-progressbar')) {\n",
        "            $myPB.progressbar('value', 42);\n",
        "        } else {\n",
        "            $myPB.progressbar({value: 0, max: 2029});\n",
        "        }\n",
        "        "
       ],
       "metadata": {},
       "output_type": "display_data",
       "text": [
        "<IPython.core.display.Javascript at 0x17174ac8>"
       ]
      },
      {
       "javascript": [
        "$('div#33278e6f-20c3-453f-b5c4-03888fde3be4').text('ETA:  0:00:00');"
       ],
       "metadata": {},
       "output_type": "display_data",
       "text": [
        "<IPython.core.display.Javascript at 0x17174048>"
       ]
      },
      {
       "javascript": [
        "$('div#b4e717fd-4eff-4b96-a4f6-0809fdd6da14').text('63 of 2029');"
       ],
       "metadata": {},
       "output_type": "display_data",
       "text": [
        "<IPython.core.display.Javascript at 0x17174da0>"
       ]
      },
      {
       "javascript": [
        "$('div#f1ad154a-1abb-49dc-b7a6-0399b44dc62f').text('  3%');"
       ],
       "metadata": {},
       "output_type": "display_data",
       "text": [
        "<IPython.core.display.Javascript at 0x3501e10>"
       ]
      },
      {
       "javascript": [
        "\n",
        "        var $myPB = $(\"div#7afd0cc4-56ec-4da8-91c6-b6e51dbb223b\")\n",
        "        if ($myPB.hasClass('ui-progressbar')) {\n",
        "            $myPB.progressbar('value', 63);\n",
        "        } else {\n",
        "            $myPB.progressbar({value: 0, max: 2029});\n",
        "        }\n",
        "        "
       ],
       "metadata": {},
       "output_type": "display_data",
       "text": [
        "<IPython.core.display.Javascript at 0x17174da0>"
       ]
      },
      {
       "javascript": [
        "$('div#33278e6f-20c3-453f-b5c4-03888fde3be4').text('ETA:  0:00:00');"
       ],
       "metadata": {},
       "output_type": "display_data",
       "text": [
        "<IPython.core.display.Javascript at 0x17174668>"
       ]
      },
      {
       "javascript": [
        "$('div#b4e717fd-4eff-4b96-a4f6-0809fdd6da14').text('84 of 2029');"
       ],
       "metadata": {},
       "output_type": "display_data",
       "text": [
        "<IPython.core.display.Javascript at 0x171743c8>"
       ]
      },
      {
       "javascript": [
        "$('div#f1ad154a-1abb-49dc-b7a6-0399b44dc62f').text('  4%');"
       ],
       "metadata": {},
       "output_type": "display_data",
       "text": [
        "<IPython.core.display.Javascript at 0x3501e10>"
       ]
      },
      {
       "javascript": [
        "\n",
        "        var $myPB = $(\"div#7afd0cc4-56ec-4da8-91c6-b6e51dbb223b\")\n",
        "        if ($myPB.hasClass('ui-progressbar')) {\n",
        "            $myPB.progressbar('value', 84);\n",
        "        } else {\n",
        "            $myPB.progressbar({value: 0, max: 2029});\n",
        "        }\n",
        "        "
       ],
       "metadata": {},
       "output_type": "display_data",
       "text": [
        "<IPython.core.display.Javascript at 0x171743c8>"
       ]
      },
      {
       "javascript": [
        "$('div#33278e6f-20c3-453f-b5c4-03888fde3be4').text('ETA:  0:00:00');"
       ],
       "metadata": {},
       "output_type": "display_data",
       "text": [
        "<IPython.core.display.Javascript at 0x171740b8>"
       ]
      },
      {
       "javascript": [
        "$('div#b4e717fd-4eff-4b96-a4f6-0809fdd6da14').text('105 of 2029');"
       ],
       "metadata": {},
       "output_type": "display_data",
       "text": [
        "<IPython.core.display.Javascript at 0x17174ac8>"
       ]
      },
      {
       "javascript": [
        "$('div#f1ad154a-1abb-49dc-b7a6-0399b44dc62f').text('  5%');"
       ],
       "metadata": {},
       "output_type": "display_data",
       "text": [
        "<IPython.core.display.Javascript at 0x3501e10>"
       ]
      },
      {
       "javascript": [
        "\n",
        "        var $myPB = $(\"div#7afd0cc4-56ec-4da8-91c6-b6e51dbb223b\")\n",
        "        if ($myPB.hasClass('ui-progressbar')) {\n",
        "            $myPB.progressbar('value', 105);\n",
        "        } else {\n",
        "            $myPB.progressbar({value: 0, max: 2029});\n",
        "        }\n",
        "        "
       ],
       "metadata": {},
       "output_type": "display_data",
       "text": [
        "<IPython.core.display.Javascript at 0x17174ac8>"
       ]
      },
      {
       "javascript": [
        "$('div#33278e6f-20c3-453f-b5c4-03888fde3be4').text('ETA:  0:00:00');"
       ],
       "metadata": {},
       "output_type": "display_data",
       "text": [
        "<IPython.core.display.Javascript at 0x17174048>"
       ]
      },
      {
       "javascript": [
        "$('div#b4e717fd-4eff-4b96-a4f6-0809fdd6da14').text('126 of 2029');"
       ],
       "metadata": {},
       "output_type": "display_data",
       "text": [
        "<IPython.core.display.Javascript at 0x17174da0>"
       ]
      },
      {
       "javascript": [
        "$('div#f1ad154a-1abb-49dc-b7a6-0399b44dc62f').text('  6%');"
       ],
       "metadata": {},
       "output_type": "display_data",
       "text": [
        "<IPython.core.display.Javascript at 0x3501e10>"
       ]
      },
      {
       "javascript": [
        "\n",
        "        var $myPB = $(\"div#7afd0cc4-56ec-4da8-91c6-b6e51dbb223b\")\n",
        "        if ($myPB.hasClass('ui-progressbar')) {\n",
        "            $myPB.progressbar('value', 126);\n",
        "        } else {\n",
        "            $myPB.progressbar({value: 0, max: 2029});\n",
        "        }\n",
        "        "
       ],
       "metadata": {},
       "output_type": "display_data",
       "text": [
        "<IPython.core.display.Javascript at 0x17174da0>"
       ]
      },
      {
       "javascript": [
        "$('div#33278e6f-20c3-453f-b5c4-03888fde3be4').text('ETA:  0:00:00');"
       ],
       "metadata": {},
       "output_type": "display_data",
       "text": [
        "<IPython.core.display.Javascript at 0x17174668>"
       ]
      },
      {
       "javascript": [
        "$('div#b4e717fd-4eff-4b96-a4f6-0809fdd6da14').text('147 of 2029');"
       ],
       "metadata": {},
       "output_type": "display_data",
       "text": [
        "<IPython.core.display.Javascript at 0x171743c8>"
       ]
      },
      {
       "javascript": [
        "$('div#f1ad154a-1abb-49dc-b7a6-0399b44dc62f').text('  7%');"
       ],
       "metadata": {},
       "output_type": "display_data",
       "text": [
        "<IPython.core.display.Javascript at 0x3501e10>"
       ]
      },
      {
       "javascript": [
        "\n",
        "        var $myPB = $(\"div#7afd0cc4-56ec-4da8-91c6-b6e51dbb223b\")\n",
        "        if ($myPB.hasClass('ui-progressbar')) {\n",
        "            $myPB.progressbar('value', 147);\n",
        "        } else {\n",
        "            $myPB.progressbar({value: 0, max: 2029});\n",
        "        }\n",
        "        "
       ],
       "metadata": {},
       "output_type": "display_data",
       "text": [
        "<IPython.core.display.Javascript at 0x171743c8>"
       ]
      },
      {
       "javascript": [
        "$('div#33278e6f-20c3-453f-b5c4-03888fde3be4').text('ETA:  0:00:00');"
       ],
       "metadata": {},
       "output_type": "display_data",
       "text": [
        "<IPython.core.display.Javascript at 0x171740b8>"
       ]
      },
      {
       "javascript": [
        "$('div#b4e717fd-4eff-4b96-a4f6-0809fdd6da14').text('168 of 2029');"
       ],
       "metadata": {},
       "output_type": "display_data",
       "text": [
        "<IPython.core.display.Javascript at 0x17174208>"
       ]
      },
      {
       "javascript": [
        "$('div#f1ad154a-1abb-49dc-b7a6-0399b44dc62f').text('  8%');"
       ],
       "metadata": {},
       "output_type": "display_data",
       "text": [
        "<IPython.core.display.Javascript at 0x17174208>"
       ]
      },
      {
       "javascript": [
        "\n",
        "        var $myPB = $(\"div#7afd0cc4-56ec-4da8-91c6-b6e51dbb223b\")\n",
        "        if ($myPB.hasClass('ui-progressbar')) {\n",
        "            $myPB.progressbar('value', 168);\n",
        "        } else {\n",
        "            $myPB.progressbar({value: 0, max: 2029});\n",
        "        }\n",
        "        "
       ],
       "metadata": {},
       "output_type": "display_data",
       "text": [
        "<IPython.core.display.Javascript at 0x3501e10>"
       ]
      },
      {
       "javascript": [
        "$('div#33278e6f-20c3-453f-b5c4-03888fde3be4').text('ETA:  0:00:00');"
       ],
       "metadata": {},
       "output_type": "display_data",
       "text": [
        "<IPython.core.display.Javascript at 0x17174048>"
       ]
      },
      {
       "javascript": [
        "$('div#b4e717fd-4eff-4b96-a4f6-0809fdd6da14').text('189 of 2029');"
       ],
       "metadata": {},
       "output_type": "display_data",
       "text": [
        "<IPython.core.display.Javascript at 0x171740b8>"
       ]
      },
      {
       "javascript": [
        "$('div#f1ad154a-1abb-49dc-b7a6-0399b44dc62f').text('  9%');"
       ],
       "metadata": {},
       "output_type": "display_data",
       "text": [
        "<IPython.core.display.Javascript at 0x3501e10>"
       ]
      },
      {
       "javascript": [
        "\n",
        "        var $myPB = $(\"div#7afd0cc4-56ec-4da8-91c6-b6e51dbb223b\")\n",
        "        if ($myPB.hasClass('ui-progressbar')) {\n",
        "            $myPB.progressbar('value', 189);\n",
        "        } else {\n",
        "            $myPB.progressbar({value: 0, max: 2029});\n",
        "        }\n",
        "        "
       ],
       "metadata": {},
       "output_type": "display_data",
       "text": [
        "<IPython.core.display.Javascript at 0x171740b8>"
       ]
      },
      {
       "javascript": [
        "$('div#33278e6f-20c3-453f-b5c4-03888fde3be4').text('ETA:  0:00:00');"
       ],
       "metadata": {},
       "output_type": "display_data",
       "text": [
        "<IPython.core.display.Javascript at 0x17174048>"
       ]
      },
      {
       "javascript": [
        "$('div#b4e717fd-4eff-4b96-a4f6-0809fdd6da14').text('210 of 2029');"
       ],
       "metadata": {},
       "output_type": "display_data",
       "text": [
        "<IPython.core.display.Javascript at 0x171743c8>"
       ]
      },
      {
       "javascript": [
        "$('div#f1ad154a-1abb-49dc-b7a6-0399b44dc62f').text(' 10%');"
       ],
       "metadata": {},
       "output_type": "display_data",
       "text": [
        "<IPython.core.display.Javascript at 0x171743c8>"
       ]
      },
      {
       "javascript": [
        "\n",
        "        var $myPB = $(\"div#7afd0cc4-56ec-4da8-91c6-b6e51dbb223b\")\n",
        "        if ($myPB.hasClass('ui-progressbar')) {\n",
        "            $myPB.progressbar('value', 210);\n",
        "        } else {\n",
        "            $myPB.progressbar({value: 0, max: 2029});\n",
        "        }\n",
        "        "
       ],
       "metadata": {},
       "output_type": "display_data",
       "text": [
        "<IPython.core.display.Javascript at 0x3501e10>"
       ]
      },
      {
       "javascript": [
        "$('div#33278e6f-20c3-453f-b5c4-03888fde3be4').text('ETA:  0:00:00');"
       ],
       "metadata": {},
       "output_type": "display_data",
       "text": [
        "<IPython.core.display.Javascript at 0x17174208>"
       ]
      },
      {
       "javascript": [
        "$('div#b4e717fd-4eff-4b96-a4f6-0809fdd6da14').text('231 of 2029');"
       ],
       "metadata": {},
       "output_type": "display_data",
       "text": [
        "<IPython.core.display.Javascript at 0x171740b8>"
       ]
      },
      {
       "javascript": [
        "$('div#f1ad154a-1abb-49dc-b7a6-0399b44dc62f').text(' 11%');"
       ],
       "metadata": {},
       "output_type": "display_data",
       "text": [
        "<IPython.core.display.Javascript at 0x3501e10>"
       ]
      },
      {
       "javascript": [
        "\n",
        "        var $myPB = $(\"div#7afd0cc4-56ec-4da8-91c6-b6e51dbb223b\")\n",
        "        if ($myPB.hasClass('ui-progressbar')) {\n",
        "            $myPB.progressbar('value', 231);\n",
        "        } else {\n",
        "            $myPB.progressbar({value: 0, max: 2029});\n",
        "        }\n",
        "        "
       ],
       "metadata": {},
       "output_type": "display_data",
       "text": [
        "<IPython.core.display.Javascript at 0x171740b8>"
       ]
      },
      {
       "javascript": [
        "$('div#33278e6f-20c3-453f-b5c4-03888fde3be4').text('ETA:  0:00:00');"
       ],
       "metadata": {},
       "output_type": "display_data",
       "text": [
        "<IPython.core.display.Javascript at 0x171743c8>"
       ]
      },
      {
       "javascript": [
        "$('div#b4e717fd-4eff-4b96-a4f6-0809fdd6da14').text('252 of 2029');"
       ],
       "metadata": {},
       "output_type": "display_data",
       "text": [
        "<IPython.core.display.Javascript at 0x1b324208>"
       ]
      },
      {
       "javascript": [
        "$('div#f1ad154a-1abb-49dc-b7a6-0399b44dc62f').text(' 12%');"
       ],
       "metadata": {},
       "output_type": "display_data",
       "text": [
        "<IPython.core.display.Javascript at 0x171743c8>"
       ]
      },
      {
       "javascript": [
        "\n",
        "        var $myPB = $(\"div#7afd0cc4-56ec-4da8-91c6-b6e51dbb223b\")\n",
        "        if ($myPB.hasClass('ui-progressbar')) {\n",
        "            $myPB.progressbar('value', 252);\n",
        "        } else {\n",
        "            $myPB.progressbar({value: 0, max: 2029});\n",
        "        }\n",
        "        "
       ],
       "metadata": {},
       "output_type": "display_data",
       "text": [
        "<IPython.core.display.Javascript at 0x171740b8>"
       ]
      },
      {
       "javascript": [
        "$('div#33278e6f-20c3-453f-b5c4-03888fde3be4').text('ETA:  0:00:00');"
       ],
       "metadata": {},
       "output_type": "display_data",
       "text": [
        "<IPython.core.display.Javascript at 0x3501e10>"
       ]
      },
      {
       "javascript": [
        "$('div#b4e717fd-4eff-4b96-a4f6-0809fdd6da14').text('273 of 2029');"
       ],
       "metadata": {},
       "output_type": "display_data",
       "text": [
        "<IPython.core.display.Javascript at 0x1b324240>"
       ]
      },
      {
       "javascript": [
        "$('div#f1ad154a-1abb-49dc-b7a6-0399b44dc62f').text(' 13%');"
       ],
       "metadata": {},
       "output_type": "display_data",
       "text": [
        "<IPython.core.display.Javascript at 0x3501e10>"
       ]
      },
      {
       "javascript": [
        "\n",
        "        var $myPB = $(\"div#7afd0cc4-56ec-4da8-91c6-b6e51dbb223b\")\n",
        "        if ($myPB.hasClass('ui-progressbar')) {\n",
        "            $myPB.progressbar('value', 273);\n",
        "        } else {\n",
        "            $myPB.progressbar({value: 0, max: 2029});\n",
        "        }\n",
        "        "
       ],
       "metadata": {},
       "output_type": "display_data",
       "text": [
        "<IPython.core.display.Javascript at 0x171740b8>"
       ]
      },
      {
       "javascript": [
        "$('div#33278e6f-20c3-453f-b5c4-03888fde3be4').text('ETA:  0:00:00');"
       ],
       "metadata": {},
       "output_type": "display_data",
       "text": [
        "<IPython.core.display.Javascript at 0x171743c8>"
       ]
      },
      {
       "javascript": [
        "$('div#b4e717fd-4eff-4b96-a4f6-0809fdd6da14').text('294 of 2029');"
       ],
       "metadata": {},
       "output_type": "display_data",
       "text": [
        "<IPython.core.display.Javascript at 0x1b324240>"
       ]
      },
      {
       "javascript": [
        "$('div#f1ad154a-1abb-49dc-b7a6-0399b44dc62f').text(' 14%');"
       ],
       "metadata": {},
       "output_type": "display_data",
       "text": [
        "<IPython.core.display.Javascript at 0x171743c8>"
       ]
      },
      {
       "javascript": [
        "\n",
        "        var $myPB = $(\"div#7afd0cc4-56ec-4da8-91c6-b6e51dbb223b\")\n",
        "        if ($myPB.hasClass('ui-progressbar')) {\n",
        "            $myPB.progressbar('value', 294);\n",
        "        } else {\n",
        "            $myPB.progressbar({value: 0, max: 2029});\n",
        "        }\n",
        "        "
       ],
       "metadata": {},
       "output_type": "display_data",
       "text": [
        "<IPython.core.display.Javascript at 0x171740b8>"
       ]
      },
      {
       "javascript": [
        "$('div#33278e6f-20c3-453f-b5c4-03888fde3be4').text('ETA:  0:00:00');"
       ],
       "metadata": {},
       "output_type": "display_data",
       "text": [
        "<IPython.core.display.Javascript at 0x3501e10>"
       ]
      },
      {
       "javascript": [
        "$('div#b4e717fd-4eff-4b96-a4f6-0809fdd6da14').text('315 of 2029');"
       ],
       "metadata": {},
       "output_type": "display_data",
       "text": [
        "<IPython.core.display.Javascript at 0x1b324630>"
       ]
      },
      {
       "javascript": [
        "$('div#f1ad154a-1abb-49dc-b7a6-0399b44dc62f').text(' 15%');"
       ],
       "metadata": {},
       "output_type": "display_data",
       "text": [
        "<IPython.core.display.Javascript at 0x3501e10>"
       ]
      },
      {
       "javascript": [
        "\n",
        "        var $myPB = $(\"div#7afd0cc4-56ec-4da8-91c6-b6e51dbb223b\")\n",
        "        if ($myPB.hasClass('ui-progressbar')) {\n",
        "            $myPB.progressbar('value', 315);\n",
        "        } else {\n",
        "            $myPB.progressbar({value: 0, max: 2029});\n",
        "        }\n",
        "        "
       ],
       "metadata": {},
       "output_type": "display_data",
       "text": [
        "<IPython.core.display.Javascript at 0x171740b8>"
       ]
      },
      {
       "javascript": [
        "$('div#33278e6f-20c3-453f-b5c4-03888fde3be4').text('ETA:  0:00:00');"
       ],
       "metadata": {},
       "output_type": "display_data",
       "text": [
        "<IPython.core.display.Javascript at 0x171743c8>"
       ]
      },
      {
       "javascript": [
        "$('div#b4e717fd-4eff-4b96-a4f6-0809fdd6da14').text('336 of 2029');"
       ],
       "metadata": {},
       "output_type": "display_data",
       "text": [
        "<IPython.core.display.Javascript at 0x1b324630>"
       ]
      },
      {
       "javascript": [
        "$('div#f1ad154a-1abb-49dc-b7a6-0399b44dc62f').text(' 16%');"
       ],
       "metadata": {},
       "output_type": "display_data",
       "text": [
        "<IPython.core.display.Javascript at 0x171743c8>"
       ]
      },
      {
       "javascript": [
        "\n",
        "        var $myPB = $(\"div#7afd0cc4-56ec-4da8-91c6-b6e51dbb223b\")\n",
        "        if ($myPB.hasClass('ui-progressbar')) {\n",
        "            $myPB.progressbar('value', 336);\n",
        "        } else {\n",
        "            $myPB.progressbar({value: 0, max: 2029});\n",
        "        }\n",
        "        "
       ],
       "metadata": {},
       "output_type": "display_data",
       "text": [
        "<IPython.core.display.Javascript at 0x171740b8>"
       ]
      },
      {
       "javascript": [
        "$('div#33278e6f-20c3-453f-b5c4-03888fde3be4').text('ETA:  0:00:00');"
       ],
       "metadata": {},
       "output_type": "display_data",
       "text": [
        "<IPython.core.display.Javascript at 0x3501e10>"
       ]
      },
      {
       "javascript": [
        "$('div#b4e717fd-4eff-4b96-a4f6-0809fdd6da14').text('357 of 2029');"
       ],
       "metadata": {},
       "output_type": "display_data",
       "text": [
        "<IPython.core.display.Javascript at 0x1b324630>"
       ]
      },
      {
       "javascript": [
        "$('div#f1ad154a-1abb-49dc-b7a6-0399b44dc62f').text(' 17%');"
       ],
       "metadata": {},
       "output_type": "display_data",
       "text": [
        "<IPython.core.display.Javascript at 0x3501e10>"
       ]
      },
      {
       "javascript": [
        "\n",
        "        var $myPB = $(\"div#7afd0cc4-56ec-4da8-91c6-b6e51dbb223b\")\n",
        "        if ($myPB.hasClass('ui-progressbar')) {\n",
        "            $myPB.progressbar('value', 357);\n",
        "        } else {\n",
        "            $myPB.progressbar({value: 0, max: 2029});\n",
        "        }\n",
        "        "
       ],
       "metadata": {},
       "output_type": "display_data",
       "text": [
        "<IPython.core.display.Javascript at 0x171740b8>"
       ]
      },
      {
       "javascript": [
        "$('div#33278e6f-20c3-453f-b5c4-03888fde3be4').text('ETA:  0:00:00');"
       ],
       "metadata": {},
       "output_type": "display_data",
       "text": [
        "<IPython.core.display.Javascript at 0x171743c8>"
       ]
      },
      {
       "javascript": [
        "$('div#b4e717fd-4eff-4b96-a4f6-0809fdd6da14').text('378 of 2029');"
       ],
       "metadata": {},
       "output_type": "display_data",
       "text": [
        "<IPython.core.display.Javascript at 0x1b324e48>"
       ]
      },
      {
       "javascript": [
        "$('div#f1ad154a-1abb-49dc-b7a6-0399b44dc62f').text(' 18%');"
       ],
       "metadata": {},
       "output_type": "display_data",
       "text": [
        "<IPython.core.display.Javascript at 0x171743c8>"
       ]
      },
      {
       "javascript": [
        "\n",
        "        var $myPB = $(\"div#7afd0cc4-56ec-4da8-91c6-b6e51dbb223b\")\n",
        "        if ($myPB.hasClass('ui-progressbar')) {\n",
        "            $myPB.progressbar('value', 378);\n",
        "        } else {\n",
        "            $myPB.progressbar({value: 0, max: 2029});\n",
        "        }\n",
        "        "
       ],
       "metadata": {},
       "output_type": "display_data",
       "text": [
        "<IPython.core.display.Javascript at 0x171740b8>"
       ]
      },
      {
       "javascript": [
        "$('div#33278e6f-20c3-453f-b5c4-03888fde3be4').text('ETA:  0:00:00');"
       ],
       "metadata": {},
       "output_type": "display_data",
       "text": [
        "<IPython.core.display.Javascript at 0x3501e10>"
       ]
      },
      {
       "javascript": [
        "$('div#b4e717fd-4eff-4b96-a4f6-0809fdd6da14').text('399 of 2029');"
       ],
       "metadata": {},
       "output_type": "display_data",
       "text": [
        "<IPython.core.display.Javascript at 0x1b324ef0>"
       ]
      },
      {
       "javascript": [
        "$('div#f1ad154a-1abb-49dc-b7a6-0399b44dc62f').text(' 19%');"
       ],
       "metadata": {},
       "output_type": "display_data",
       "text": [
        "<IPython.core.display.Javascript at 0x3501e10>"
       ]
      },
      {
       "javascript": [
        "\n",
        "        var $myPB = $(\"div#7afd0cc4-56ec-4da8-91c6-b6e51dbb223b\")\n",
        "        if ($myPB.hasClass('ui-progressbar')) {\n",
        "            $myPB.progressbar('value', 399);\n",
        "        } else {\n",
        "            $myPB.progressbar({value: 0, max: 2029});\n",
        "        }\n",
        "        "
       ],
       "metadata": {},
       "output_type": "display_data",
       "text": [
        "<IPython.core.display.Javascript at 0x171740b8>"
       ]
      },
      {
       "javascript": [
        "$('div#33278e6f-20c3-453f-b5c4-03888fde3be4').text('ETA:  0:00:00');"
       ],
       "metadata": {},
       "output_type": "display_data",
       "text": [
        "<IPython.core.display.Javascript at 0x171743c8>"
       ]
      },
      {
       "javascript": [
        "$('div#b4e717fd-4eff-4b96-a4f6-0809fdd6da14').text('420 of 2029');"
       ],
       "metadata": {},
       "output_type": "display_data",
       "text": [
        "<IPython.core.display.Javascript at 0x1b324ef0>"
       ]
      },
      {
       "javascript": [
        "$('div#f1ad154a-1abb-49dc-b7a6-0399b44dc62f').text(' 20%');"
       ],
       "metadata": {},
       "output_type": "display_data",
       "text": [
        "<IPython.core.display.Javascript at 0x171743c8>"
       ]
      },
      {
       "javascript": [
        "\n",
        "        var $myPB = $(\"div#7afd0cc4-56ec-4da8-91c6-b6e51dbb223b\")\n",
        "        if ($myPB.hasClass('ui-progressbar')) {\n",
        "            $myPB.progressbar('value', 420);\n",
        "        } else {\n",
        "            $myPB.progressbar({value: 0, max: 2029});\n",
        "        }\n",
        "        "
       ],
       "metadata": {},
       "output_type": "display_data",
       "text": [
        "<IPython.core.display.Javascript at 0x171740b8>"
       ]
      },
      {
       "javascript": [
        "$('div#33278e6f-20c3-453f-b5c4-03888fde3be4').text('ETA:  0:00:00');"
       ],
       "metadata": {},
       "output_type": "display_data",
       "text": [
        "<IPython.core.display.Javascript at 0x3501e10>"
       ]
      },
      {
       "javascript": [
        "$('div#b4e717fd-4eff-4b96-a4f6-0809fdd6da14').text('441 of 2029');"
       ],
       "metadata": {},
       "output_type": "display_data",
       "text": [
        "<IPython.core.display.Javascript at 0x1b324ef0>"
       ]
      },
      {
       "javascript": [
        "$('div#f1ad154a-1abb-49dc-b7a6-0399b44dc62f').text(' 21%');"
       ],
       "metadata": {},
       "output_type": "display_data",
       "text": [
        "<IPython.core.display.Javascript at 0x3501e10>"
       ]
      },
      {
       "javascript": [
        "\n",
        "        var $myPB = $(\"div#7afd0cc4-56ec-4da8-91c6-b6e51dbb223b\")\n",
        "        if ($myPB.hasClass('ui-progressbar')) {\n",
        "            $myPB.progressbar('value', 441);\n",
        "        } else {\n",
        "            $myPB.progressbar({value: 0, max: 2029});\n",
        "        }\n",
        "        "
       ],
       "metadata": {},
       "output_type": "display_data",
       "text": [
        "<IPython.core.display.Javascript at 0x171740b8>"
       ]
      },
      {
       "javascript": [
        "$('div#33278e6f-20c3-453f-b5c4-03888fde3be4').text('ETA:  0:00:00');"
       ],
       "metadata": {},
       "output_type": "display_data",
       "text": [
        "<IPython.core.display.Javascript at 0x171743c8>"
       ]
      },
      {
       "javascript": [
        "$('div#b4e717fd-4eff-4b96-a4f6-0809fdd6da14').text('462 of 2029');"
       ],
       "metadata": {},
       "output_type": "display_data",
       "text": [
        "<IPython.core.display.Javascript at 0x1b324ef0>"
       ]
      },
      {
       "javascript": [
        "$('div#f1ad154a-1abb-49dc-b7a6-0399b44dc62f').text(' 22%');"
       ],
       "metadata": {},
       "output_type": "display_data",
       "text": [
        "<IPython.core.display.Javascript at 0x171743c8>"
       ]
      },
      {
       "javascript": [
        "\n",
        "        var $myPB = $(\"div#7afd0cc4-56ec-4da8-91c6-b6e51dbb223b\")\n",
        "        if ($myPB.hasClass('ui-progressbar')) {\n",
        "            $myPB.progressbar('value', 462);\n",
        "        } else {\n",
        "            $myPB.progressbar({value: 0, max: 2029});\n",
        "        }\n",
        "        "
       ],
       "metadata": {},
       "output_type": "display_data",
       "text": [
        "<IPython.core.display.Javascript at 0x171740b8>"
       ]
      },
      {
       "javascript": [
        "$('div#33278e6f-20c3-453f-b5c4-03888fde3be4').text('ETA:  0:00:00');"
       ],
       "metadata": {},
       "output_type": "display_data",
       "text": [
        "<IPython.core.display.Javascript at 0x3501e10>"
       ]
      },
      {
       "javascript": [
        "$('div#b4e717fd-4eff-4b96-a4f6-0809fdd6da14').text('483 of 2029');"
       ],
       "metadata": {},
       "output_type": "display_data",
       "text": [
        "<IPython.core.display.Javascript at 0x1b324ef0>"
       ]
      },
      {
       "javascript": [
        "$('div#f1ad154a-1abb-49dc-b7a6-0399b44dc62f').text(' 23%');"
       ],
       "metadata": {},
       "output_type": "display_data",
       "text": [
        "<IPython.core.display.Javascript at 0x3501e10>"
       ]
      },
      {
       "javascript": [
        "\n",
        "        var $myPB = $(\"div#7afd0cc4-56ec-4da8-91c6-b6e51dbb223b\")\n",
        "        if ($myPB.hasClass('ui-progressbar')) {\n",
        "            $myPB.progressbar('value', 483);\n",
        "        } else {\n",
        "            $myPB.progressbar({value: 0, max: 2029});\n",
        "        }\n",
        "        "
       ],
       "metadata": {},
       "output_type": "display_data",
       "text": [
        "<IPython.core.display.Javascript at 0x171740b8>"
       ]
      },
      {
       "javascript": [
        "$('div#33278e6f-20c3-453f-b5c4-03888fde3be4').text('ETA:  0:00:00');"
       ],
       "metadata": {},
       "output_type": "display_data",
       "text": [
        "<IPython.core.display.Javascript at 0x171743c8>"
       ]
      },
      {
       "javascript": [
        "$('div#b4e717fd-4eff-4b96-a4f6-0809fdd6da14').text('504 of 2029');"
       ],
       "metadata": {},
       "output_type": "display_data",
       "text": [
        "<IPython.core.display.Javascript at 0x1b324ef0>"
       ]
      },
      {
       "javascript": [
        "$('div#f1ad154a-1abb-49dc-b7a6-0399b44dc62f').text(' 24%');"
       ],
       "metadata": {},
       "output_type": "display_data",
       "text": [
        "<IPython.core.display.Javascript at 0x171743c8>"
       ]
      },
      {
       "javascript": [
        "\n",
        "        var $myPB = $(\"div#7afd0cc4-56ec-4da8-91c6-b6e51dbb223b\")\n",
        "        if ($myPB.hasClass('ui-progressbar')) {\n",
        "            $myPB.progressbar('value', 504);\n",
        "        } else {\n",
        "            $myPB.progressbar({value: 0, max: 2029});\n",
        "        }\n",
        "        "
       ],
       "metadata": {},
       "output_type": "display_data",
       "text": [
        "<IPython.core.display.Javascript at 0x171740b8>"
       ]
      },
      {
       "javascript": [
        "$('div#33278e6f-20c3-453f-b5c4-03888fde3be4').text('ETA:  0:00:00');"
       ],
       "metadata": {},
       "output_type": "display_data",
       "text": [
        "<IPython.core.display.Javascript at 0x3501e10>"
       ]
      },
      {
       "javascript": [
        "$('div#b4e717fd-4eff-4b96-a4f6-0809fdd6da14').text('525 of 2029');"
       ],
       "metadata": {},
       "output_type": "display_data",
       "text": [
        "<IPython.core.display.Javascript at 0x1b324ef0>"
       ]
      },
      {
       "javascript": [
        "$('div#f1ad154a-1abb-49dc-b7a6-0399b44dc62f').text(' 25%');"
       ],
       "metadata": {},
       "output_type": "display_data",
       "text": [
        "<IPython.core.display.Javascript at 0x3501e10>"
       ]
      },
      {
       "javascript": [
        "\n",
        "        var $myPB = $(\"div#7afd0cc4-56ec-4da8-91c6-b6e51dbb223b\")\n",
        "        if ($myPB.hasClass('ui-progressbar')) {\n",
        "            $myPB.progressbar('value', 525);\n",
        "        } else {\n",
        "            $myPB.progressbar({value: 0, max: 2029});\n",
        "        }\n",
        "        "
       ],
       "metadata": {},
       "output_type": "display_data",
       "text": [
        "<IPython.core.display.Javascript at 0x171740b8>"
       ]
      },
      {
       "javascript": [
        "$('div#33278e6f-20c3-453f-b5c4-03888fde3be4').text('ETA:  0:00:00');"
       ],
       "metadata": {},
       "output_type": "display_data",
       "text": [
        "<IPython.core.display.Javascript at 0x171743c8>"
       ]
      },
      {
       "javascript": [
        "$('div#b4e717fd-4eff-4b96-a4f6-0809fdd6da14').text('546 of 2029');"
       ],
       "metadata": {},
       "output_type": "display_data",
       "text": [
        "<IPython.core.display.Javascript at 0x1b324ef0>"
       ]
      },
      {
       "javascript": [
        "$('div#f1ad154a-1abb-49dc-b7a6-0399b44dc62f').text(' 26%');"
       ],
       "metadata": {},
       "output_type": "display_data",
       "text": [
        "<IPython.core.display.Javascript at 0x171743c8>"
       ]
      },
      {
       "javascript": [
        "\n",
        "        var $myPB = $(\"div#7afd0cc4-56ec-4da8-91c6-b6e51dbb223b\")\n",
        "        if ($myPB.hasClass('ui-progressbar')) {\n",
        "            $myPB.progressbar('value', 546);\n",
        "        } else {\n",
        "            $myPB.progressbar({value: 0, max: 2029});\n",
        "        }\n",
        "        "
       ],
       "metadata": {},
       "output_type": "display_data",
       "text": [
        "<IPython.core.display.Javascript at 0x171740b8>"
       ]
      },
      {
       "javascript": [
        "$('div#33278e6f-20c3-453f-b5c4-03888fde3be4').text('ETA:  0:00:00');"
       ],
       "metadata": {},
       "output_type": "display_data",
       "text": [
        "<IPython.core.display.Javascript at 0x3501e10>"
       ]
      },
      {
       "javascript": [
        "$('div#b4e717fd-4eff-4b96-a4f6-0809fdd6da14').text('567 of 2029');"
       ],
       "metadata": {},
       "output_type": "display_data",
       "text": [
        "<IPython.core.display.Javascript at 0x1b324ef0>"
       ]
      },
      {
       "javascript": [
        "$('div#f1ad154a-1abb-49dc-b7a6-0399b44dc62f').text(' 27%');"
       ],
       "metadata": {},
       "output_type": "display_data",
       "text": [
        "<IPython.core.display.Javascript at 0x3501e10>"
       ]
      },
      {
       "javascript": [
        "\n",
        "        var $myPB = $(\"div#7afd0cc4-56ec-4da8-91c6-b6e51dbb223b\")\n",
        "        if ($myPB.hasClass('ui-progressbar')) {\n",
        "            $myPB.progressbar('value', 567);\n",
        "        } else {\n",
        "            $myPB.progressbar({value: 0, max: 2029});\n",
        "        }\n",
        "        "
       ],
       "metadata": {},
       "output_type": "display_data",
       "text": [
        "<IPython.core.display.Javascript at 0x171740b8>"
       ]
      },
      {
       "javascript": [
        "$('div#33278e6f-20c3-453f-b5c4-03888fde3be4').text('ETA:  0:00:00');"
       ],
       "metadata": {},
       "output_type": "display_data",
       "text": [
        "<IPython.core.display.Javascript at 0x171743c8>"
       ]
      },
      {
       "javascript": [
        "$('div#b4e717fd-4eff-4b96-a4f6-0809fdd6da14').text('588 of 2029');"
       ],
       "metadata": {},
       "output_type": "display_data",
       "text": [
        "<IPython.core.display.Javascript at 0x1b324ef0>"
       ]
      },
      {
       "javascript": [
        "$('div#f1ad154a-1abb-49dc-b7a6-0399b44dc62f').text(' 28%');"
       ],
       "metadata": {},
       "output_type": "display_data",
       "text": [
        "<IPython.core.display.Javascript at 0x171743c8>"
       ]
      },
      {
       "javascript": [
        "\n",
        "        var $myPB = $(\"div#7afd0cc4-56ec-4da8-91c6-b6e51dbb223b\")\n",
        "        if ($myPB.hasClass('ui-progressbar')) {\n",
        "            $myPB.progressbar('value', 588);\n",
        "        } else {\n",
        "            $myPB.progressbar({value: 0, max: 2029});\n",
        "        }\n",
        "        "
       ],
       "metadata": {},
       "output_type": "display_data",
       "text": [
        "<IPython.core.display.Javascript at 0x171740b8>"
       ]
      },
      {
       "javascript": [
        "$('div#33278e6f-20c3-453f-b5c4-03888fde3be4').text('ETA:  0:00:00');"
       ],
       "metadata": {},
       "output_type": "display_data",
       "text": [
        "<IPython.core.display.Javascript at 0x3501e10>"
       ]
      },
      {
       "javascript": [
        "$('div#b4e717fd-4eff-4b96-a4f6-0809fdd6da14').text('609 of 2029');"
       ],
       "metadata": {},
       "output_type": "display_data",
       "text": [
        "<IPython.core.display.Javascript at 0x1b324ef0>"
       ]
      },
      {
       "javascript": [
        "$('div#f1ad154a-1abb-49dc-b7a6-0399b44dc62f').text(' 30%');"
       ],
       "metadata": {},
       "output_type": "display_data",
       "text": [
        "<IPython.core.display.Javascript at 0x3501e10>"
       ]
      },
      {
       "javascript": [
        "\n",
        "        var $myPB = $(\"div#7afd0cc4-56ec-4da8-91c6-b6e51dbb223b\")\n",
        "        if ($myPB.hasClass('ui-progressbar')) {\n",
        "            $myPB.progressbar('value', 609);\n",
        "        } else {\n",
        "            $myPB.progressbar({value: 0, max: 2029});\n",
        "        }\n",
        "        "
       ],
       "metadata": {},
       "output_type": "display_data",
       "text": [
        "<IPython.core.display.Javascript at 0x171740b8>"
       ]
      },
      {
       "javascript": [
        "$('div#33278e6f-20c3-453f-b5c4-03888fde3be4').text('ETA:  0:00:00');"
       ],
       "metadata": {},
       "output_type": "display_data",
       "text": [
        "<IPython.core.display.Javascript at 0x171743c8>"
       ]
      },
      {
       "javascript": [
        "$('div#b4e717fd-4eff-4b96-a4f6-0809fdd6da14').text('630 of 2029');"
       ],
       "metadata": {},
       "output_type": "display_data",
       "text": [
        "<IPython.core.display.Javascript at 0x1b324ef0>"
       ]
      },
      {
       "javascript": [
        "$('div#f1ad154a-1abb-49dc-b7a6-0399b44dc62f').text(' 31%');"
       ],
       "metadata": {},
       "output_type": "display_data",
       "text": [
        "<IPython.core.display.Javascript at 0x171743c8>"
       ]
      },
      {
       "javascript": [
        "\n",
        "        var $myPB = $(\"div#7afd0cc4-56ec-4da8-91c6-b6e51dbb223b\")\n",
        "        if ($myPB.hasClass('ui-progressbar')) {\n",
        "            $myPB.progressbar('value', 630);\n",
        "        } else {\n",
        "            $myPB.progressbar({value: 0, max: 2029});\n",
        "        }\n",
        "        "
       ],
       "metadata": {},
       "output_type": "display_data",
       "text": [
        "<IPython.core.display.Javascript at 0x171740b8>"
       ]
      },
      {
       "javascript": [
        "$('div#33278e6f-20c3-453f-b5c4-03888fde3be4').text('ETA:  0:00:00');"
       ],
       "metadata": {},
       "output_type": "display_data",
       "text": [
        "<IPython.core.display.Javascript at 0x3501e10>"
       ]
      },
      {
       "javascript": [
        "$('div#b4e717fd-4eff-4b96-a4f6-0809fdd6da14').text('651 of 2029');"
       ],
       "metadata": {},
       "output_type": "display_data",
       "text": [
        "<IPython.core.display.Javascript at 0x1b324ef0>"
       ]
      },
      {
       "javascript": [
        "$('div#f1ad154a-1abb-49dc-b7a6-0399b44dc62f').text(' 32%');"
       ],
       "metadata": {},
       "output_type": "display_data",
       "text": [
        "<IPython.core.display.Javascript at 0x3501e10>"
       ]
      },
      {
       "javascript": [
        "\n",
        "        var $myPB = $(\"div#7afd0cc4-56ec-4da8-91c6-b6e51dbb223b\")\n",
        "        if ($myPB.hasClass('ui-progressbar')) {\n",
        "            $myPB.progressbar('value', 651);\n",
        "        } else {\n",
        "            $myPB.progressbar({value: 0, max: 2029});\n",
        "        }\n",
        "        "
       ],
       "metadata": {},
       "output_type": "display_data",
       "text": [
        "<IPython.core.display.Javascript at 0x171740b8>"
       ]
      },
      {
       "javascript": [
        "$('div#33278e6f-20c3-453f-b5c4-03888fde3be4').text('ETA:  0:00:00');"
       ],
       "metadata": {},
       "output_type": "display_data",
       "text": [
        "<IPython.core.display.Javascript at 0x171743c8>"
       ]
      },
      {
       "javascript": [
        "$('div#b4e717fd-4eff-4b96-a4f6-0809fdd6da14').text('672 of 2029');"
       ],
       "metadata": {},
       "output_type": "display_data",
       "text": [
        "<IPython.core.display.Javascript at 0x1b324ef0>"
       ]
      },
      {
       "javascript": [
        "$('div#f1ad154a-1abb-49dc-b7a6-0399b44dc62f').text(' 33%');"
       ],
       "metadata": {},
       "output_type": "display_data",
       "text": [
        "<IPython.core.display.Javascript at 0x171743c8>"
       ]
      },
      {
       "javascript": [
        "\n",
        "        var $myPB = $(\"div#7afd0cc4-56ec-4da8-91c6-b6e51dbb223b\")\n",
        "        if ($myPB.hasClass('ui-progressbar')) {\n",
        "            $myPB.progressbar('value', 672);\n",
        "        } else {\n",
        "            $myPB.progressbar({value: 0, max: 2029});\n",
        "        }\n",
        "        "
       ],
       "metadata": {},
       "output_type": "display_data",
       "text": [
        "<IPython.core.display.Javascript at 0x171740b8>"
       ]
      },
      {
       "javascript": [
        "$('div#33278e6f-20c3-453f-b5c4-03888fde3be4').text('ETA:  0:00:00');"
       ],
       "metadata": {},
       "output_type": "display_data",
       "text": [
        "<IPython.core.display.Javascript at 0x3501e10>"
       ]
      },
      {
       "javascript": [
        "$('div#b4e717fd-4eff-4b96-a4f6-0809fdd6da14').text('693 of 2029');"
       ],
       "metadata": {},
       "output_type": "display_data",
       "text": [
        "<IPython.core.display.Javascript at 0x1b3240b8>"
       ]
      },
      {
       "javascript": [
        "$('div#f1ad154a-1abb-49dc-b7a6-0399b44dc62f').text(' 34%');"
       ],
       "metadata": {},
       "output_type": "display_data",
       "text": [
        "<IPython.core.display.Javascript at 0x3501e10>"
       ]
      },
      {
       "javascript": [
        "\n",
        "        var $myPB = $(\"div#7afd0cc4-56ec-4da8-91c6-b6e51dbb223b\")\n",
        "        if ($myPB.hasClass('ui-progressbar')) {\n",
        "            $myPB.progressbar('value', 693);\n",
        "        } else {\n",
        "            $myPB.progressbar({value: 0, max: 2029});\n",
        "        }\n",
        "        "
       ],
       "metadata": {},
       "output_type": "display_data",
       "text": [
        "<IPython.core.display.Javascript at 0x171740b8>"
       ]
      },
      {
       "javascript": [
        "$('div#33278e6f-20c3-453f-b5c4-03888fde3be4').text('ETA:  0:00:00');"
       ],
       "metadata": {},
       "output_type": "display_data",
       "text": [
        "<IPython.core.display.Javascript at 0x171743c8>"
       ]
      },
      {
       "javascript": [
        "$('div#b4e717fd-4eff-4b96-a4f6-0809fdd6da14').text('714 of 2029');"
       ],
       "metadata": {},
       "output_type": "display_data",
       "text": [
        "<IPython.core.display.Javascript at 0x1b3240b8>"
       ]
      },
      {
       "javascript": [
        "$('div#f1ad154a-1abb-49dc-b7a6-0399b44dc62f').text(' 35%');"
       ],
       "metadata": {},
       "output_type": "display_data",
       "text": [
        "<IPython.core.display.Javascript at 0x171743c8>"
       ]
      },
      {
       "javascript": [
        "\n",
        "        var $myPB = $(\"div#7afd0cc4-56ec-4da8-91c6-b6e51dbb223b\")\n",
        "        if ($myPB.hasClass('ui-progressbar')) {\n",
        "            $myPB.progressbar('value', 714);\n",
        "        } else {\n",
        "            $myPB.progressbar({value: 0, max: 2029});\n",
        "        }\n",
        "        "
       ],
       "metadata": {},
       "output_type": "display_data",
       "text": [
        "<IPython.core.display.Javascript at 0x171740b8>"
       ]
      },
      {
       "javascript": [
        "$('div#33278e6f-20c3-453f-b5c4-03888fde3be4').text('ETA:  0:00:00');"
       ],
       "metadata": {},
       "output_type": "display_data",
       "text": [
        "<IPython.core.display.Javascript at 0x3501e10>"
       ]
      },
      {
       "javascript": [
        "$('div#b4e717fd-4eff-4b96-a4f6-0809fdd6da14').text('735 of 2029');"
       ],
       "metadata": {},
       "output_type": "display_data",
       "text": [
        "<IPython.core.display.Javascript at 0x1b3240b8>"
       ]
      },
      {
       "javascript": [
        "$('div#f1ad154a-1abb-49dc-b7a6-0399b44dc62f').text(' 36%');"
       ],
       "metadata": {},
       "output_type": "display_data",
       "text": [
        "<IPython.core.display.Javascript at 0x3501e10>"
       ]
      },
      {
       "javascript": [
        "\n",
        "        var $myPB = $(\"div#7afd0cc4-56ec-4da8-91c6-b6e51dbb223b\")\n",
        "        if ($myPB.hasClass('ui-progressbar')) {\n",
        "            $myPB.progressbar('value', 735);\n",
        "        } else {\n",
        "            $myPB.progressbar({value: 0, max: 2029});\n",
        "        }\n",
        "        "
       ],
       "metadata": {},
       "output_type": "display_data",
       "text": [
        "<IPython.core.display.Javascript at 0x171740b8>"
       ]
      },
      {
       "javascript": [
        "$('div#33278e6f-20c3-453f-b5c4-03888fde3be4').text('ETA:  0:00:00');"
       ],
       "metadata": {},
       "output_type": "display_data",
       "text": [
        "<IPython.core.display.Javascript at 0x171743c8>"
       ]
      },
      {
       "javascript": [
        "$('div#b4e717fd-4eff-4b96-a4f6-0809fdd6da14').text('756 of 2029');"
       ],
       "metadata": {},
       "output_type": "display_data",
       "text": [
        "<IPython.core.display.Javascript at 0x1b3240b8>"
       ]
      },
      {
       "javascript": [
        "$('div#f1ad154a-1abb-49dc-b7a6-0399b44dc62f').text(' 37%');"
       ],
       "metadata": {},
       "output_type": "display_data",
       "text": [
        "<IPython.core.display.Javascript at 0x171743c8>"
       ]
      },
      {
       "javascript": [
        "\n",
        "        var $myPB = $(\"div#7afd0cc4-56ec-4da8-91c6-b6e51dbb223b\")\n",
        "        if ($myPB.hasClass('ui-progressbar')) {\n",
        "            $myPB.progressbar('value', 756);\n",
        "        } else {\n",
        "            $myPB.progressbar({value: 0, max: 2029});\n",
        "        }\n",
        "        "
       ],
       "metadata": {},
       "output_type": "display_data",
       "text": [
        "<IPython.core.display.Javascript at 0x171740b8>"
       ]
      },
      {
       "javascript": [
        "$('div#33278e6f-20c3-453f-b5c4-03888fde3be4').text('ETA:  0:00:00');"
       ],
       "metadata": {},
       "output_type": "display_data",
       "text": [
        "<IPython.core.display.Javascript at 0x3501e10>"
       ]
      },
      {
       "javascript": [
        "$('div#b4e717fd-4eff-4b96-a4f6-0809fdd6da14').text('777 of 2029');"
       ],
       "metadata": {},
       "output_type": "display_data",
       "text": [
        "<IPython.core.display.Javascript at 0x1b324a90>"
       ]
      },
      {
       "javascript": [
        "$('div#f1ad154a-1abb-49dc-b7a6-0399b44dc62f').text(' 38%');"
       ],
       "metadata": {},
       "output_type": "display_data",
       "text": [
        "<IPython.core.display.Javascript at 0x3501e10>"
       ]
      },
      {
       "javascript": [
        "\n",
        "        var $myPB = $(\"div#7afd0cc4-56ec-4da8-91c6-b6e51dbb223b\")\n",
        "        if ($myPB.hasClass('ui-progressbar')) {\n",
        "            $myPB.progressbar('value', 777);\n",
        "        } else {\n",
        "            $myPB.progressbar({value: 0, max: 2029});\n",
        "        }\n",
        "        "
       ],
       "metadata": {},
       "output_type": "display_data",
       "text": [
        "<IPython.core.display.Javascript at 0x171740b8>"
       ]
      },
      {
       "javascript": [
        "$('div#33278e6f-20c3-453f-b5c4-03888fde3be4').text('ETA:  0:00:00');"
       ],
       "metadata": {},
       "output_type": "display_data",
       "text": [
        "<IPython.core.display.Javascript at 0x171743c8>"
       ]
      },
      {
       "javascript": [
        "$('div#b4e717fd-4eff-4b96-a4f6-0809fdd6da14').text('798 of 2029');"
       ],
       "metadata": {},
       "output_type": "display_data",
       "text": [
        "<IPython.core.display.Javascript at 0x1b324a90>"
       ]
      },
      {
       "javascript": [
        "$('div#f1ad154a-1abb-49dc-b7a6-0399b44dc62f').text(' 39%');"
       ],
       "metadata": {},
       "output_type": "display_data",
       "text": [
        "<IPython.core.display.Javascript at 0x171743c8>"
       ]
      },
      {
       "javascript": [
        "\n",
        "        var $myPB = $(\"div#7afd0cc4-56ec-4da8-91c6-b6e51dbb223b\")\n",
        "        if ($myPB.hasClass('ui-progressbar')) {\n",
        "            $myPB.progressbar('value', 798);\n",
        "        } else {\n",
        "            $myPB.progressbar({value: 0, max: 2029});\n",
        "        }\n",
        "        "
       ],
       "metadata": {},
       "output_type": "display_data",
       "text": [
        "<IPython.core.display.Javascript at 0x171740b8>"
       ]
      },
      {
       "javascript": [
        "$('div#33278e6f-20c3-453f-b5c4-03888fde3be4').text('ETA:  0:00:00');"
       ],
       "metadata": {},
       "output_type": "display_data",
       "text": [
        "<IPython.core.display.Javascript at 0x3501e10>"
       ]
      },
      {
       "javascript": [
        "$('div#b4e717fd-4eff-4b96-a4f6-0809fdd6da14').text('819 of 2029');"
       ],
       "metadata": {},
       "output_type": "display_data",
       "text": [
        "<IPython.core.display.Javascript at 0x1b324a90>"
       ]
      },
      {
       "javascript": [
        "$('div#f1ad154a-1abb-49dc-b7a6-0399b44dc62f').text(' 40%');"
       ],
       "metadata": {},
       "output_type": "display_data",
       "text": [
        "<IPython.core.display.Javascript at 0x3501e10>"
       ]
      },
      {
       "javascript": [
        "\n",
        "        var $myPB = $(\"div#7afd0cc4-56ec-4da8-91c6-b6e51dbb223b\")\n",
        "        if ($myPB.hasClass('ui-progressbar')) {\n",
        "            $myPB.progressbar('value', 819);\n",
        "        } else {\n",
        "            $myPB.progressbar({value: 0, max: 2029});\n",
        "        }\n",
        "        "
       ],
       "metadata": {},
       "output_type": "display_data",
       "text": [
        "<IPython.core.display.Javascript at 0x171740b8>"
       ]
      },
      {
       "javascript": [
        "$('div#33278e6f-20c3-453f-b5c4-03888fde3be4').text('ETA:  0:00:00');"
       ],
       "metadata": {},
       "output_type": "display_data",
       "text": [
        "<IPython.core.display.Javascript at 0x171743c8>"
       ]
      },
      {
       "javascript": [
        "$('div#b4e717fd-4eff-4b96-a4f6-0809fdd6da14').text('840 of 2029');"
       ],
       "metadata": {},
       "output_type": "display_data",
       "text": [
        "<IPython.core.display.Javascript at 0x1b324a90>"
       ]
      },
      {
       "javascript": [
        "$('div#f1ad154a-1abb-49dc-b7a6-0399b44dc62f').text(' 41%');"
       ],
       "metadata": {},
       "output_type": "display_data",
       "text": [
        "<IPython.core.display.Javascript at 0x171743c8>"
       ]
      },
      {
       "javascript": [
        "\n",
        "        var $myPB = $(\"div#7afd0cc4-56ec-4da8-91c6-b6e51dbb223b\")\n",
        "        if ($myPB.hasClass('ui-progressbar')) {\n",
        "            $myPB.progressbar('value', 840);\n",
        "        } else {\n",
        "            $myPB.progressbar({value: 0, max: 2029});\n",
        "        }\n",
        "        "
       ],
       "metadata": {},
       "output_type": "display_data",
       "text": [
        "<IPython.core.display.Javascript at 0x171740b8>"
       ]
      },
      {
       "javascript": [
        "$('div#33278e6f-20c3-453f-b5c4-03888fde3be4').text('ETA:  0:00:00');"
       ],
       "metadata": {},
       "output_type": "display_data",
       "text": [
        "<IPython.core.display.Javascript at 0x3501e10>"
       ]
      },
      {
       "javascript": [
        "$('div#b4e717fd-4eff-4b96-a4f6-0809fdd6da14').text('861 of 2029');"
       ],
       "metadata": {},
       "output_type": "display_data",
       "text": [
        "<IPython.core.display.Javascript at 0x1b324c88>"
       ]
      },
      {
       "javascript": [
        "$('div#f1ad154a-1abb-49dc-b7a6-0399b44dc62f').text(' 42%');"
       ],
       "metadata": {},
       "output_type": "display_data",
       "text": [
        "<IPython.core.display.Javascript at 0x3501e10>"
       ]
      },
      {
       "javascript": [
        "\n",
        "        var $myPB = $(\"div#7afd0cc4-56ec-4da8-91c6-b6e51dbb223b\")\n",
        "        if ($myPB.hasClass('ui-progressbar')) {\n",
        "            $myPB.progressbar('value', 861);\n",
        "        } else {\n",
        "            $myPB.progressbar({value: 0, max: 2029});\n",
        "        }\n",
        "        "
       ],
       "metadata": {},
       "output_type": "display_data",
       "text": [
        "<IPython.core.display.Javascript at 0x171740b8>"
       ]
      },
      {
       "javascript": [
        "$('div#33278e6f-20c3-453f-b5c4-03888fde3be4').text('ETA:  0:00:00');"
       ],
       "metadata": {},
       "output_type": "display_data",
       "text": [
        "<IPython.core.display.Javascript at 0x171743c8>"
       ]
      },
      {
       "javascript": [
        "$('div#b4e717fd-4eff-4b96-a4f6-0809fdd6da14').text('882 of 2029');"
       ],
       "metadata": {},
       "output_type": "display_data",
       "text": [
        "<IPython.core.display.Javascript at 0x1b324c88>"
       ]
      },
      {
       "javascript": [
        "$('div#f1ad154a-1abb-49dc-b7a6-0399b44dc62f').text(' 43%');"
       ],
       "metadata": {},
       "output_type": "display_data",
       "text": [
        "<IPython.core.display.Javascript at 0x171743c8>"
       ]
      },
      {
       "javascript": [
        "\n",
        "        var $myPB = $(\"div#7afd0cc4-56ec-4da8-91c6-b6e51dbb223b\")\n",
        "        if ($myPB.hasClass('ui-progressbar')) {\n",
        "            $myPB.progressbar('value', 882);\n",
        "        } else {\n",
        "            $myPB.progressbar({value: 0, max: 2029});\n",
        "        }\n",
        "        "
       ],
       "metadata": {},
       "output_type": "display_data",
       "text": [
        "<IPython.core.display.Javascript at 0x171740b8>"
       ]
      },
      {
       "javascript": [
        "$('div#33278e6f-20c3-453f-b5c4-03888fde3be4').text('ETA:  0:00:00');"
       ],
       "metadata": {},
       "output_type": "display_data",
       "text": [
        "<IPython.core.display.Javascript at 0x3501e10>"
       ]
      },
      {
       "javascript": [
        "$('div#b4e717fd-4eff-4b96-a4f6-0809fdd6da14').text('903 of 2029');"
       ],
       "metadata": {},
       "output_type": "display_data",
       "text": [
        "<IPython.core.display.Javascript at 0x1b324c88>"
       ]
      },
      {
       "javascript": [
        "$('div#f1ad154a-1abb-49dc-b7a6-0399b44dc62f').text(' 44%');"
       ],
       "metadata": {},
       "output_type": "display_data",
       "text": [
        "<IPython.core.display.Javascript at 0x3501e10>"
       ]
      },
      {
       "javascript": [
        "\n",
        "        var $myPB = $(\"div#7afd0cc4-56ec-4da8-91c6-b6e51dbb223b\")\n",
        "        if ($myPB.hasClass('ui-progressbar')) {\n",
        "            $myPB.progressbar('value', 903);\n",
        "        } else {\n",
        "            $myPB.progressbar({value: 0, max: 2029});\n",
        "        }\n",
        "        "
       ],
       "metadata": {},
       "output_type": "display_data",
       "text": [
        "<IPython.core.display.Javascript at 0x171740b8>"
       ]
      },
      {
       "javascript": [
        "$('div#33278e6f-20c3-453f-b5c4-03888fde3be4').text('ETA:  0:00:00');"
       ],
       "metadata": {},
       "output_type": "display_data",
       "text": [
        "<IPython.core.display.Javascript at 0x171743c8>"
       ]
      },
      {
       "javascript": [
        "$('div#b4e717fd-4eff-4b96-a4f6-0809fdd6da14').text('924 of 2029');"
       ],
       "metadata": {},
       "output_type": "display_data",
       "text": [
        "<IPython.core.display.Javascript at 0x1b324c88>"
       ]
      },
      {
       "javascript": [
        "$('div#f1ad154a-1abb-49dc-b7a6-0399b44dc62f').text(' 45%');"
       ],
       "metadata": {},
       "output_type": "display_data",
       "text": [
        "<IPython.core.display.Javascript at 0x171743c8>"
       ]
      },
      {
       "javascript": [
        "\n",
        "        var $myPB = $(\"div#7afd0cc4-56ec-4da8-91c6-b6e51dbb223b\")\n",
        "        if ($myPB.hasClass('ui-progressbar')) {\n",
        "            $myPB.progressbar('value', 924);\n",
        "        } else {\n",
        "            $myPB.progressbar({value: 0, max: 2029});\n",
        "        }\n",
        "        "
       ],
       "metadata": {},
       "output_type": "display_data",
       "text": [
        "<IPython.core.display.Javascript at 0x171740b8>"
       ]
      },
      {
       "javascript": [
        "$('div#33278e6f-20c3-453f-b5c4-03888fde3be4').text('ETA:  0:00:00');"
       ],
       "metadata": {},
       "output_type": "display_data",
       "text": [
        "<IPython.core.display.Javascript at 0x3501e10>"
       ]
      },
      {
       "javascript": [
        "$('div#b4e717fd-4eff-4b96-a4f6-0809fdd6da14').text('945 of 2029');"
       ],
       "metadata": {},
       "output_type": "display_data",
       "text": [
        "<IPython.core.display.Javascript at 0x1b324eb8>"
       ]
      },
      {
       "javascript": [
        "$('div#f1ad154a-1abb-49dc-b7a6-0399b44dc62f').text(' 46%');"
       ],
       "metadata": {},
       "output_type": "display_data",
       "text": [
        "<IPython.core.display.Javascript at 0x3501e10>"
       ]
      },
      {
       "javascript": [
        "\n",
        "        var $myPB = $(\"div#7afd0cc4-56ec-4da8-91c6-b6e51dbb223b\")\n",
        "        if ($myPB.hasClass('ui-progressbar')) {\n",
        "            $myPB.progressbar('value', 945);\n",
        "        } else {\n",
        "            $myPB.progressbar({value: 0, max: 2029});\n",
        "        }\n",
        "        "
       ],
       "metadata": {},
       "output_type": "display_data",
       "text": [
        "<IPython.core.display.Javascript at 0x171740b8>"
       ]
      },
      {
       "javascript": [
        "$('div#33278e6f-20c3-453f-b5c4-03888fde3be4').text('ETA:  0:00:00');"
       ],
       "metadata": {},
       "output_type": "display_data",
       "text": [
        "<IPython.core.display.Javascript at 0x171743c8>"
       ]
      },
      {
       "javascript": [
        "$('div#b4e717fd-4eff-4b96-a4f6-0809fdd6da14').text('966 of 2029');"
       ],
       "metadata": {},
       "output_type": "display_data",
       "text": [
        "<IPython.core.display.Javascript at 0x1b324eb8>"
       ]
      },
      {
       "javascript": [
        "$('div#f1ad154a-1abb-49dc-b7a6-0399b44dc62f').text(' 47%');"
       ],
       "metadata": {},
       "output_type": "display_data",
       "text": [
        "<IPython.core.display.Javascript at 0x171743c8>"
       ]
      },
      {
       "javascript": [
        "\n",
        "        var $myPB = $(\"div#7afd0cc4-56ec-4da8-91c6-b6e51dbb223b\")\n",
        "        if ($myPB.hasClass('ui-progressbar')) {\n",
        "            $myPB.progressbar('value', 966);\n",
        "        } else {\n",
        "            $myPB.progressbar({value: 0, max: 2029});\n",
        "        }\n",
        "        "
       ],
       "metadata": {},
       "output_type": "display_data",
       "text": [
        "<IPython.core.display.Javascript at 0x171740b8>"
       ]
      },
      {
       "javascript": [
        "$('div#33278e6f-20c3-453f-b5c4-03888fde3be4').text('ETA:  0:00:00');"
       ],
       "metadata": {},
       "output_type": "display_data",
       "text": [
        "<IPython.core.display.Javascript at 0x3501e10>"
       ]
      },
      {
       "javascript": [
        "$('div#b4e717fd-4eff-4b96-a4f6-0809fdd6da14').text('987 of 2029');"
       ],
       "metadata": {},
       "output_type": "display_data",
       "text": [
        "<IPython.core.display.Javascript at 0x1b324eb8>"
       ]
      },
      {
       "javascript": [
        "$('div#f1ad154a-1abb-49dc-b7a6-0399b44dc62f').text(' 48%');"
       ],
       "metadata": {},
       "output_type": "display_data",
       "text": [
        "<IPython.core.display.Javascript at 0x3501e10>"
       ]
      },
      {
       "javascript": [
        "\n",
        "        var $myPB = $(\"div#7afd0cc4-56ec-4da8-91c6-b6e51dbb223b\")\n",
        "        if ($myPB.hasClass('ui-progressbar')) {\n",
        "            $myPB.progressbar('value', 987);\n",
        "        } else {\n",
        "            $myPB.progressbar({value: 0, max: 2029});\n",
        "        }\n",
        "        "
       ],
       "metadata": {},
       "output_type": "display_data",
       "text": [
        "<IPython.core.display.Javascript at 0x171740b8>"
       ]
      },
      {
       "javascript": [
        "$('div#33278e6f-20c3-453f-b5c4-03888fde3be4').text('ETA:  0:00:00');"
       ],
       "metadata": {},
       "output_type": "display_data",
       "text": [
        "<IPython.core.display.Javascript at 0x171743c8>"
       ]
      },
      {
       "javascript": [
        "$('div#b4e717fd-4eff-4b96-a4f6-0809fdd6da14').text('1008 of 2029');"
       ],
       "metadata": {},
       "output_type": "display_data",
       "text": [
        "<IPython.core.display.Javascript at 0x1b324eb8>"
       ]
      },
      {
       "javascript": [
        "$('div#f1ad154a-1abb-49dc-b7a6-0399b44dc62f').text(' 49%');"
       ],
       "metadata": {},
       "output_type": "display_data",
       "text": [
        "<IPython.core.display.Javascript at 0x171743c8>"
       ]
      },
      {
       "javascript": [
        "\n",
        "        var $myPB = $(\"div#7afd0cc4-56ec-4da8-91c6-b6e51dbb223b\")\n",
        "        if ($myPB.hasClass('ui-progressbar')) {\n",
        "            $myPB.progressbar('value', 1008);\n",
        "        } else {\n",
        "            $myPB.progressbar({value: 0, max: 2029});\n",
        "        }\n",
        "        "
       ],
       "metadata": {},
       "output_type": "display_data",
       "text": [
        "<IPython.core.display.Javascript at 0x171740b8>"
       ]
      },
      {
       "javascript": [
        "$('div#33278e6f-20c3-453f-b5c4-03888fde3be4').text('ETA:  0:00:00');"
       ],
       "metadata": {},
       "output_type": "display_data",
       "text": [
        "<IPython.core.display.Javascript at 0x3501e10>"
       ]
      },
      {
       "javascript": [
        "$('div#b4e717fd-4eff-4b96-a4f6-0809fdd6da14').text('1029 of 2029');"
       ],
       "metadata": {},
       "output_type": "display_data",
       "text": [
        "<IPython.core.display.Javascript at 0x1b324ac8>"
       ]
      },
      {
       "javascript": [
        "$('div#f1ad154a-1abb-49dc-b7a6-0399b44dc62f').text(' 50%');"
       ],
       "metadata": {},
       "output_type": "display_data",
       "text": [
        "<IPython.core.display.Javascript at 0x3501e10>"
       ]
      },
      {
       "javascript": [
        "\n",
        "        var $myPB = $(\"div#7afd0cc4-56ec-4da8-91c6-b6e51dbb223b\")\n",
        "        if ($myPB.hasClass('ui-progressbar')) {\n",
        "            $myPB.progressbar('value', 1029);\n",
        "        } else {\n",
        "            $myPB.progressbar({value: 0, max: 2029});\n",
        "        }\n",
        "        "
       ],
       "metadata": {},
       "output_type": "display_data",
       "text": [
        "<IPython.core.display.Javascript at 0x171740b8>"
       ]
      },
      {
       "javascript": [
        "$('div#33278e6f-20c3-453f-b5c4-03888fde3be4').text('ETA:  0:00:00');"
       ],
       "metadata": {},
       "output_type": "display_data",
       "text": [
        "<IPython.core.display.Javascript at 0x171743c8>"
       ]
      },
      {
       "javascript": [
        "$('div#b4e717fd-4eff-4b96-a4f6-0809fdd6da14').text('1050 of 2029');"
       ],
       "metadata": {},
       "output_type": "display_data",
       "text": [
        "<IPython.core.display.Javascript at 0x1b324ac8>"
       ]
      },
      {
       "javascript": [
        "$('div#f1ad154a-1abb-49dc-b7a6-0399b44dc62f').text(' 51%');"
       ],
       "metadata": {},
       "output_type": "display_data",
       "text": [
        "<IPython.core.display.Javascript at 0x171743c8>"
       ]
      },
      {
       "javascript": [
        "\n",
        "        var $myPB = $(\"div#7afd0cc4-56ec-4da8-91c6-b6e51dbb223b\")\n",
        "        if ($myPB.hasClass('ui-progressbar')) {\n",
        "            $myPB.progressbar('value', 1050);\n",
        "        } else {\n",
        "            $myPB.progressbar({value: 0, max: 2029});\n",
        "        }\n",
        "        "
       ],
       "metadata": {},
       "output_type": "display_data",
       "text": [
        "<IPython.core.display.Javascript at 0x171740b8>"
       ]
      },
      {
       "javascript": [
        "$('div#33278e6f-20c3-453f-b5c4-03888fde3be4').text('ETA:  0:00:00');"
       ],
       "metadata": {},
       "output_type": "display_data",
       "text": [
        "<IPython.core.display.Javascript at 0x3501e10>"
       ]
      },
      {
       "javascript": [
        "$('div#b4e717fd-4eff-4b96-a4f6-0809fdd6da14').text('1071 of 2029');"
       ],
       "metadata": {},
       "output_type": "display_data",
       "text": [
        "<IPython.core.display.Javascript at 0x1b324ac8>"
       ]
      },
      {
       "javascript": [
        "$('div#f1ad154a-1abb-49dc-b7a6-0399b44dc62f').text(' 52%');"
       ],
       "metadata": {},
       "output_type": "display_data",
       "text": [
        "<IPython.core.display.Javascript at 0x3501e10>"
       ]
      },
      {
       "javascript": [
        "\n",
        "        var $myPB = $(\"div#7afd0cc4-56ec-4da8-91c6-b6e51dbb223b\")\n",
        "        if ($myPB.hasClass('ui-progressbar')) {\n",
        "            $myPB.progressbar('value', 1071);\n",
        "        } else {\n",
        "            $myPB.progressbar({value: 0, max: 2029});\n",
        "        }\n",
        "        "
       ],
       "metadata": {},
       "output_type": "display_data",
       "text": [
        "<IPython.core.display.Javascript at 0x171740b8>"
       ]
      },
      {
       "javascript": [
        "$('div#33278e6f-20c3-453f-b5c4-03888fde3be4').text('ETA:  0:00:00');"
       ],
       "metadata": {},
       "output_type": "display_data",
       "text": [
        "<IPython.core.display.Javascript at 0x171743c8>"
       ]
      },
      {
       "javascript": [
        "$('div#b4e717fd-4eff-4b96-a4f6-0809fdd6da14').text('1092 of 2029');"
       ],
       "metadata": {},
       "output_type": "display_data",
       "text": [
        "<IPython.core.display.Javascript at 0x1b324ac8>"
       ]
      },
      {
       "javascript": [
        "$('div#f1ad154a-1abb-49dc-b7a6-0399b44dc62f').text(' 53%');"
       ],
       "metadata": {},
       "output_type": "display_data",
       "text": [
        "<IPython.core.display.Javascript at 0x171743c8>"
       ]
      },
      {
       "javascript": [
        "\n",
        "        var $myPB = $(\"div#7afd0cc4-56ec-4da8-91c6-b6e51dbb223b\")\n",
        "        if ($myPB.hasClass('ui-progressbar')) {\n",
        "            $myPB.progressbar('value', 1092);\n",
        "        } else {\n",
        "            $myPB.progressbar({value: 0, max: 2029});\n",
        "        }\n",
        "        "
       ],
       "metadata": {},
       "output_type": "display_data",
       "text": [
        "<IPython.core.display.Javascript at 0x171740b8>"
       ]
      },
      {
       "javascript": [
        "$('div#33278e6f-20c3-453f-b5c4-03888fde3be4').text('ETA:  0:00:00');"
       ],
       "metadata": {},
       "output_type": "display_data",
       "text": [
        "<IPython.core.display.Javascript at 0x3501e10>"
       ]
      },
      {
       "javascript": [
        "$('div#b4e717fd-4eff-4b96-a4f6-0809fdd6da14').text('1113 of 2029');"
       ],
       "metadata": {},
       "output_type": "display_data",
       "text": [
        "<IPython.core.display.Javascript at 0x1b324ac8>"
       ]
      },
      {
       "javascript": [
        "$('div#f1ad154a-1abb-49dc-b7a6-0399b44dc62f').text(' 54%');"
       ],
       "metadata": {},
       "output_type": "display_data",
       "text": [
        "<IPython.core.display.Javascript at 0x3501e10>"
       ]
      },
      {
       "javascript": [
        "\n",
        "        var $myPB = $(\"div#7afd0cc4-56ec-4da8-91c6-b6e51dbb223b\")\n",
        "        if ($myPB.hasClass('ui-progressbar')) {\n",
        "            $myPB.progressbar('value', 1113);\n",
        "        } else {\n",
        "            $myPB.progressbar({value: 0, max: 2029});\n",
        "        }\n",
        "        "
       ],
       "metadata": {},
       "output_type": "display_data",
       "text": [
        "<IPython.core.display.Javascript at 0x171740b8>"
       ]
      },
      {
       "javascript": [
        "$('div#33278e6f-20c3-453f-b5c4-03888fde3be4').text('ETA:  0:00:00');"
       ],
       "metadata": {},
       "output_type": "display_data",
       "text": [
        "<IPython.core.display.Javascript at 0x171743c8>"
       ]
      },
      {
       "javascript": [
        "$('div#b4e717fd-4eff-4b96-a4f6-0809fdd6da14').text('1134 of 2029');"
       ],
       "metadata": {},
       "output_type": "display_data",
       "text": [
        "<IPython.core.display.Javascript at 0x1b324ac8>"
       ]
      },
      {
       "javascript": [
        "$('div#f1ad154a-1abb-49dc-b7a6-0399b44dc62f').text(' 55%');"
       ],
       "metadata": {},
       "output_type": "display_data",
       "text": [
        "<IPython.core.display.Javascript at 0x171743c8>"
       ]
      },
      {
       "javascript": [
        "\n",
        "        var $myPB = $(\"div#7afd0cc4-56ec-4da8-91c6-b6e51dbb223b\")\n",
        "        if ($myPB.hasClass('ui-progressbar')) {\n",
        "            $myPB.progressbar('value', 1134);\n",
        "        } else {\n",
        "            $myPB.progressbar({value: 0, max: 2029});\n",
        "        }\n",
        "        "
       ],
       "metadata": {},
       "output_type": "display_data",
       "text": [
        "<IPython.core.display.Javascript at 0x171740b8>"
       ]
      },
      {
       "javascript": [
        "$('div#33278e6f-20c3-453f-b5c4-03888fde3be4').text('ETA:  0:00:00');"
       ],
       "metadata": {},
       "output_type": "display_data",
       "text": [
        "<IPython.core.display.Javascript at 0x3501e10>"
       ]
      },
      {
       "javascript": [
        "$('div#b4e717fd-4eff-4b96-a4f6-0809fdd6da14').text('1155 of 2029');"
       ],
       "metadata": {},
       "output_type": "display_data",
       "text": [
        "<IPython.core.display.Javascript at 0x1b324ac8>"
       ]
      },
      {
       "javascript": [
        "$('div#f1ad154a-1abb-49dc-b7a6-0399b44dc62f').text(' 56%');"
       ],
       "metadata": {},
       "output_type": "display_data",
       "text": [
        "<IPython.core.display.Javascript at 0x3501e10>"
       ]
      },
      {
       "javascript": [
        "\n",
        "        var $myPB = $(\"div#7afd0cc4-56ec-4da8-91c6-b6e51dbb223b\")\n",
        "        if ($myPB.hasClass('ui-progressbar')) {\n",
        "            $myPB.progressbar('value', 1155);\n",
        "        } else {\n",
        "            $myPB.progressbar({value: 0, max: 2029});\n",
        "        }\n",
        "        "
       ],
       "metadata": {},
       "output_type": "display_data",
       "text": [
        "<IPython.core.display.Javascript at 0x171740b8>"
       ]
      },
      {
       "javascript": [
        "$('div#33278e6f-20c3-453f-b5c4-03888fde3be4').text('ETA:  0:00:00');"
       ],
       "metadata": {},
       "output_type": "display_data",
       "text": [
        "<IPython.core.display.Javascript at 0x171743c8>"
       ]
      },
      {
       "javascript": [
        "$('div#b4e717fd-4eff-4b96-a4f6-0809fdd6da14').text('1176 of 2029');"
       ],
       "metadata": {},
       "output_type": "display_data",
       "text": [
        "<IPython.core.display.Javascript at 0x1b324ac8>"
       ]
      },
      {
       "javascript": [
        "$('div#f1ad154a-1abb-49dc-b7a6-0399b44dc62f').text(' 57%');"
       ],
       "metadata": {},
       "output_type": "display_data",
       "text": [
        "<IPython.core.display.Javascript at 0x171743c8>"
       ]
      },
      {
       "javascript": [
        "\n",
        "        var $myPB = $(\"div#7afd0cc4-56ec-4da8-91c6-b6e51dbb223b\")\n",
        "        if ($myPB.hasClass('ui-progressbar')) {\n",
        "            $myPB.progressbar('value', 1176);\n",
        "        } else {\n",
        "            $myPB.progressbar({value: 0, max: 2029});\n",
        "        }\n",
        "        "
       ],
       "metadata": {},
       "output_type": "display_data",
       "text": [
        "<IPython.core.display.Javascript at 0x171740b8>"
       ]
      },
      {
       "javascript": [
        "$('div#33278e6f-20c3-453f-b5c4-03888fde3be4').text('ETA:  0:00:00');"
       ],
       "metadata": {},
       "output_type": "display_data",
       "text": [
        "<IPython.core.display.Javascript at 0x3501e10>"
       ]
      },
      {
       "javascript": [
        "$('div#b4e717fd-4eff-4b96-a4f6-0809fdd6da14').text('1197 of 2029');"
       ],
       "metadata": {},
       "output_type": "display_data",
       "text": [
        "<IPython.core.display.Javascript at 0x1b324ac8>"
       ]
      },
      {
       "javascript": [
        "$('div#f1ad154a-1abb-49dc-b7a6-0399b44dc62f').text(' 58%');"
       ],
       "metadata": {},
       "output_type": "display_data",
       "text": [
        "<IPython.core.display.Javascript at 0x3501e10>"
       ]
      },
      {
       "javascript": [
        "\n",
        "        var $myPB = $(\"div#7afd0cc4-56ec-4da8-91c6-b6e51dbb223b\")\n",
        "        if ($myPB.hasClass('ui-progressbar')) {\n",
        "            $myPB.progressbar('value', 1197);\n",
        "        } else {\n",
        "            $myPB.progressbar({value: 0, max: 2029});\n",
        "        }\n",
        "        "
       ],
       "metadata": {},
       "output_type": "display_data",
       "text": [
        "<IPython.core.display.Javascript at 0x171740b8>"
       ]
      },
      {
       "javascript": [
        "$('div#33278e6f-20c3-453f-b5c4-03888fde3be4').text('ETA:  0:00:00');"
       ],
       "metadata": {},
       "output_type": "display_data",
       "text": [
        "<IPython.core.display.Javascript at 0x171743c8>"
       ]
      },
      {
       "javascript": [
        "$('div#b4e717fd-4eff-4b96-a4f6-0809fdd6da14').text('1218 of 2029');"
       ],
       "metadata": {},
       "output_type": "display_data",
       "text": [
        "<IPython.core.display.Javascript at 0x1b3249b0>"
       ]
      },
      {
       "javascript": [
        "$('div#f1ad154a-1abb-49dc-b7a6-0399b44dc62f').text(' 60%');"
       ],
       "metadata": {},
       "output_type": "display_data",
       "text": [
        "<IPython.core.display.Javascript at 0x171743c8>"
       ]
      },
      {
       "javascript": [
        "\n",
        "        var $myPB = $(\"div#7afd0cc4-56ec-4da8-91c6-b6e51dbb223b\")\n",
        "        if ($myPB.hasClass('ui-progressbar')) {\n",
        "            $myPB.progressbar('value', 1218);\n",
        "        } else {\n",
        "            $myPB.progressbar({value: 0, max: 2029});\n",
        "        }\n",
        "        "
       ],
       "metadata": {},
       "output_type": "display_data",
       "text": [
        "<IPython.core.display.Javascript at 0x171740b8>"
       ]
      },
      {
       "javascript": [
        "$('div#33278e6f-20c3-453f-b5c4-03888fde3be4').text('ETA:  0:00:00');"
       ],
       "metadata": {},
       "output_type": "display_data",
       "text": [
        "<IPython.core.display.Javascript at 0x3501e10>"
       ]
      },
      {
       "javascript": [
        "$('div#b4e717fd-4eff-4b96-a4f6-0809fdd6da14').text('1239 of 2029');"
       ],
       "metadata": {},
       "output_type": "display_data",
       "text": [
        "<IPython.core.display.Javascript at 0x1b3249b0>"
       ]
      },
      {
       "javascript": [
        "$('div#f1ad154a-1abb-49dc-b7a6-0399b44dc62f').text(' 61%');"
       ],
       "metadata": {},
       "output_type": "display_data",
       "text": [
        "<IPython.core.display.Javascript at 0x3501e10>"
       ]
      },
      {
       "javascript": [
        "\n",
        "        var $myPB = $(\"div#7afd0cc4-56ec-4da8-91c6-b6e51dbb223b\")\n",
        "        if ($myPB.hasClass('ui-progressbar')) {\n",
        "            $myPB.progressbar('value', 1239);\n",
        "        } else {\n",
        "            $myPB.progressbar({value: 0, max: 2029});\n",
        "        }\n",
        "        "
       ],
       "metadata": {},
       "output_type": "display_data",
       "text": [
        "<IPython.core.display.Javascript at 0x171740b8>"
       ]
      },
      {
       "javascript": [
        "$('div#33278e6f-20c3-453f-b5c4-03888fde3be4').text('ETA:  0:00:00');"
       ],
       "metadata": {},
       "output_type": "display_data",
       "text": [
        "<IPython.core.display.Javascript at 0x171743c8>"
       ]
      },
      {
       "javascript": [
        "$('div#b4e717fd-4eff-4b96-a4f6-0809fdd6da14').text('1260 of 2029');"
       ],
       "metadata": {},
       "output_type": "display_data",
       "text": [
        "<IPython.core.display.Javascript at 0x1b3249b0>"
       ]
      },
      {
       "javascript": [
        "$('div#f1ad154a-1abb-49dc-b7a6-0399b44dc62f').text(' 62%');"
       ],
       "metadata": {},
       "output_type": "display_data",
       "text": [
        "<IPython.core.display.Javascript at 0x171743c8>"
       ]
      },
      {
       "javascript": [
        "\n",
        "        var $myPB = $(\"div#7afd0cc4-56ec-4da8-91c6-b6e51dbb223b\")\n",
        "        if ($myPB.hasClass('ui-progressbar')) {\n",
        "            $myPB.progressbar('value', 1260);\n",
        "        } else {\n",
        "            $myPB.progressbar({value: 0, max: 2029});\n",
        "        }\n",
        "        "
       ],
       "metadata": {},
       "output_type": "display_data",
       "text": [
        "<IPython.core.display.Javascript at 0x171740b8>"
       ]
      },
      {
       "javascript": [
        "$('div#33278e6f-20c3-453f-b5c4-03888fde3be4').text('ETA:  0:00:00');"
       ],
       "metadata": {},
       "output_type": "display_data",
       "text": [
        "<IPython.core.display.Javascript at 0x3501e10>"
       ]
      },
      {
       "javascript": [
        "$('div#b4e717fd-4eff-4b96-a4f6-0809fdd6da14').text('1281 of 2029');"
       ],
       "metadata": {},
       "output_type": "display_data",
       "text": [
        "<IPython.core.display.Javascript at 0x1b3249b0>"
       ]
      },
      {
       "javascript": [
        "$('div#f1ad154a-1abb-49dc-b7a6-0399b44dc62f').text(' 63%');"
       ],
       "metadata": {},
       "output_type": "display_data",
       "text": [
        "<IPython.core.display.Javascript at 0x3501e10>"
       ]
      },
      {
       "javascript": [
        "\n",
        "        var $myPB = $(\"div#7afd0cc4-56ec-4da8-91c6-b6e51dbb223b\")\n",
        "        if ($myPB.hasClass('ui-progressbar')) {\n",
        "            $myPB.progressbar('value', 1281);\n",
        "        } else {\n",
        "            $myPB.progressbar({value: 0, max: 2029});\n",
        "        }\n",
        "        "
       ],
       "metadata": {},
       "output_type": "display_data",
       "text": [
        "<IPython.core.display.Javascript at 0x171740b8>"
       ]
      },
      {
       "javascript": [
        "$('div#33278e6f-20c3-453f-b5c4-03888fde3be4').text('ETA:  0:00:00');"
       ],
       "metadata": {},
       "output_type": "display_data",
       "text": [
        "<IPython.core.display.Javascript at 0x171743c8>"
       ]
      },
      {
       "javascript": [
        "$('div#b4e717fd-4eff-4b96-a4f6-0809fdd6da14').text('1302 of 2029');"
       ],
       "metadata": {},
       "output_type": "display_data",
       "text": [
        "<IPython.core.display.Javascript at 0x1b3249b0>"
       ]
      },
      {
       "javascript": [
        "$('div#f1ad154a-1abb-49dc-b7a6-0399b44dc62f').text(' 64%');"
       ],
       "metadata": {},
       "output_type": "display_data",
       "text": [
        "<IPython.core.display.Javascript at 0x171743c8>"
       ]
      },
      {
       "javascript": [
        "\n",
        "        var $myPB = $(\"div#7afd0cc4-56ec-4da8-91c6-b6e51dbb223b\")\n",
        "        if ($myPB.hasClass('ui-progressbar')) {\n",
        "            $myPB.progressbar('value', 1302);\n",
        "        } else {\n",
        "            $myPB.progressbar({value: 0, max: 2029});\n",
        "        }\n",
        "        "
       ],
       "metadata": {},
       "output_type": "display_data",
       "text": [
        "<IPython.core.display.Javascript at 0x171740b8>"
       ]
      },
      {
       "javascript": [
        "$('div#33278e6f-20c3-453f-b5c4-03888fde3be4').text('ETA:  0:00:00');"
       ],
       "metadata": {},
       "output_type": "display_data",
       "text": [
        "<IPython.core.display.Javascript at 0x3501e10>"
       ]
      },
      {
       "javascript": [
        "$('div#b4e717fd-4eff-4b96-a4f6-0809fdd6da14').text('1323 of 2029');"
       ],
       "metadata": {},
       "output_type": "display_data",
       "text": [
        "<IPython.core.display.Javascript at 0x1b324cf8>"
       ]
      },
      {
       "javascript": [
        "$('div#f1ad154a-1abb-49dc-b7a6-0399b44dc62f').text(' 65%');"
       ],
       "metadata": {},
       "output_type": "display_data",
       "text": [
        "<IPython.core.display.Javascript at 0x3501e10>"
       ]
      },
      {
       "javascript": [
        "\n",
        "        var $myPB = $(\"div#7afd0cc4-56ec-4da8-91c6-b6e51dbb223b\")\n",
        "        if ($myPB.hasClass('ui-progressbar')) {\n",
        "            $myPB.progressbar('value', 1323);\n",
        "        } else {\n",
        "            $myPB.progressbar({value: 0, max: 2029});\n",
        "        }\n",
        "        "
       ],
       "metadata": {},
       "output_type": "display_data",
       "text": [
        "<IPython.core.display.Javascript at 0x171740b8>"
       ]
      },
      {
       "javascript": [
        "$('div#33278e6f-20c3-453f-b5c4-03888fde3be4').text('ETA:  0:00:00');"
       ],
       "metadata": {},
       "output_type": "display_data",
       "text": [
        "<IPython.core.display.Javascript at 0x171743c8>"
       ]
      },
      {
       "javascript": [
        "$('div#b4e717fd-4eff-4b96-a4f6-0809fdd6da14').text('1344 of 2029');"
       ],
       "metadata": {},
       "output_type": "display_data",
       "text": [
        "<IPython.core.display.Javascript at 0x1b324cf8>"
       ]
      },
      {
       "javascript": [
        "$('div#f1ad154a-1abb-49dc-b7a6-0399b44dc62f').text(' 66%');"
       ],
       "metadata": {},
       "output_type": "display_data",
       "text": [
        "<IPython.core.display.Javascript at 0x171743c8>"
       ]
      },
      {
       "javascript": [
        "\n",
        "        var $myPB = $(\"div#7afd0cc4-56ec-4da8-91c6-b6e51dbb223b\")\n",
        "        if ($myPB.hasClass('ui-progressbar')) {\n",
        "            $myPB.progressbar('value', 1344);\n",
        "        } else {\n",
        "            $myPB.progressbar({value: 0, max: 2029});\n",
        "        }\n",
        "        "
       ],
       "metadata": {},
       "output_type": "display_data",
       "text": [
        "<IPython.core.display.Javascript at 0x171740b8>"
       ]
      },
      {
       "javascript": [
        "$('div#33278e6f-20c3-453f-b5c4-03888fde3be4').text('ETA:  0:00:00');"
       ],
       "metadata": {},
       "output_type": "display_data",
       "text": [
        "<IPython.core.display.Javascript at 0x3501e10>"
       ]
      },
      {
       "javascript": [
        "$('div#b4e717fd-4eff-4b96-a4f6-0809fdd6da14').text('1365 of 2029');"
       ],
       "metadata": {},
       "output_type": "display_data",
       "text": [
        "<IPython.core.display.Javascript at 0x1b324d68>"
       ]
      },
      {
       "javascript": [
        "$('div#f1ad154a-1abb-49dc-b7a6-0399b44dc62f').text(' 67%');"
       ],
       "metadata": {},
       "output_type": "display_data",
       "text": [
        "<IPython.core.display.Javascript at 0x3501e10>"
       ]
      },
      {
       "javascript": [
        "\n",
        "        var $myPB = $(\"div#7afd0cc4-56ec-4da8-91c6-b6e51dbb223b\")\n",
        "        if ($myPB.hasClass('ui-progressbar')) {\n",
        "            $myPB.progressbar('value', 1365);\n",
        "        } else {\n",
        "            $myPB.progressbar({value: 0, max: 2029});\n",
        "        }\n",
        "        "
       ],
       "metadata": {},
       "output_type": "display_data",
       "text": [
        "<IPython.core.display.Javascript at 0x171740b8>"
       ]
      },
      {
       "javascript": [
        "$('div#33278e6f-20c3-453f-b5c4-03888fde3be4').text('ETA:  0:00:00');"
       ],
       "metadata": {},
       "output_type": "display_data",
       "text": [
        "<IPython.core.display.Javascript at 0x171743c8>"
       ]
      },
      {
       "javascript": [
        "$('div#b4e717fd-4eff-4b96-a4f6-0809fdd6da14').text('1386 of 2029');"
       ],
       "metadata": {},
       "output_type": "display_data",
       "text": [
        "<IPython.core.display.Javascript at 0x1b324d68>"
       ]
      },
      {
       "javascript": [
        "$('div#f1ad154a-1abb-49dc-b7a6-0399b44dc62f').text(' 68%');"
       ],
       "metadata": {},
       "output_type": "display_data",
       "text": [
        "<IPython.core.display.Javascript at 0x171743c8>"
       ]
      },
      {
       "javascript": [
        "\n",
        "        var $myPB = $(\"div#7afd0cc4-56ec-4da8-91c6-b6e51dbb223b\")\n",
        "        if ($myPB.hasClass('ui-progressbar')) {\n",
        "            $myPB.progressbar('value', 1386);\n",
        "        } else {\n",
        "            $myPB.progressbar({value: 0, max: 2029});\n",
        "        }\n",
        "        "
       ],
       "metadata": {},
       "output_type": "display_data",
       "text": [
        "<IPython.core.display.Javascript at 0x171740b8>"
       ]
      },
      {
       "javascript": [
        "$('div#33278e6f-20c3-453f-b5c4-03888fde3be4').text('ETA:  0:00:00');"
       ],
       "metadata": {},
       "output_type": "display_data",
       "text": [
        "<IPython.core.display.Javascript at 0x3501e10>"
       ]
      },
      {
       "javascript": [
        "$('div#b4e717fd-4eff-4b96-a4f6-0809fdd6da14').text('1407 of 2029');"
       ],
       "metadata": {},
       "output_type": "display_data",
       "text": [
        "<IPython.core.display.Javascript at 0x1b324d68>"
       ]
      },
      {
       "javascript": [
        "$('div#f1ad154a-1abb-49dc-b7a6-0399b44dc62f').text(' 69%');"
       ],
       "metadata": {},
       "output_type": "display_data",
       "text": [
        "<IPython.core.display.Javascript at 0x3501e10>"
       ]
      },
      {
       "javascript": [
        "\n",
        "        var $myPB = $(\"div#7afd0cc4-56ec-4da8-91c6-b6e51dbb223b\")\n",
        "        if ($myPB.hasClass('ui-progressbar')) {\n",
        "            $myPB.progressbar('value', 1407);\n",
        "        } else {\n",
        "            $myPB.progressbar({value: 0, max: 2029});\n",
        "        }\n",
        "        "
       ],
       "metadata": {},
       "output_type": "display_data",
       "text": [
        "<IPython.core.display.Javascript at 0x171740b8>"
       ]
      },
      {
       "javascript": [
        "$('div#33278e6f-20c3-453f-b5c4-03888fde3be4').text('ETA:  0:00:00');"
       ],
       "metadata": {},
       "output_type": "display_data",
       "text": [
        "<IPython.core.display.Javascript at 0x171743c8>"
       ]
      },
      {
       "javascript": [
        "$('div#b4e717fd-4eff-4b96-a4f6-0809fdd6da14').text('1428 of 2029');"
       ],
       "metadata": {},
       "output_type": "display_data",
       "text": [
        "<IPython.core.display.Javascript at 0x1b324b00>"
       ]
      },
      {
       "javascript": [
        "$('div#f1ad154a-1abb-49dc-b7a6-0399b44dc62f').text(' 70%');"
       ],
       "metadata": {},
       "output_type": "display_data",
       "text": [
        "<IPython.core.display.Javascript at 0x171743c8>"
       ]
      },
      {
       "javascript": [
        "\n",
        "        var $myPB = $(\"div#7afd0cc4-56ec-4da8-91c6-b6e51dbb223b\")\n",
        "        if ($myPB.hasClass('ui-progressbar')) {\n",
        "            $myPB.progressbar('value', 1428);\n",
        "        } else {\n",
        "            $myPB.progressbar({value: 0, max: 2029});\n",
        "        }\n",
        "        "
       ],
       "metadata": {},
       "output_type": "display_data",
       "text": [
        "<IPython.core.display.Javascript at 0x171740b8>"
       ]
      },
      {
       "javascript": [
        "$('div#33278e6f-20c3-453f-b5c4-03888fde3be4').text('ETA:  0:00:00');"
       ],
       "metadata": {},
       "output_type": "display_data",
       "text": [
        "<IPython.core.display.Javascript at 0x3501e10>"
       ]
      },
      {
       "javascript": [
        "$('div#b4e717fd-4eff-4b96-a4f6-0809fdd6da14').text('1449 of 2029');"
       ],
       "metadata": {},
       "output_type": "display_data",
       "text": [
        "<IPython.core.display.Javascript at 0x1b324b00>"
       ]
      },
      {
       "javascript": [
        "$('div#f1ad154a-1abb-49dc-b7a6-0399b44dc62f').text(' 71%');"
       ],
       "metadata": {},
       "output_type": "display_data",
       "text": [
        "<IPython.core.display.Javascript at 0x3501e10>"
       ]
      },
      {
       "javascript": [
        "\n",
        "        var $myPB = $(\"div#7afd0cc4-56ec-4da8-91c6-b6e51dbb223b\")\n",
        "        if ($myPB.hasClass('ui-progressbar')) {\n",
        "            $myPB.progressbar('value', 1449);\n",
        "        } else {\n",
        "            $myPB.progressbar({value: 0, max: 2029});\n",
        "        }\n",
        "        "
       ],
       "metadata": {},
       "output_type": "display_data",
       "text": [
        "<IPython.core.display.Javascript at 0x171740b8>"
       ]
      },
      {
       "javascript": [
        "$('div#33278e6f-20c3-453f-b5c4-03888fde3be4').text('ETA:  0:00:00');"
       ],
       "metadata": {},
       "output_type": "display_data",
       "text": [
        "<IPython.core.display.Javascript at 0x171743c8>"
       ]
      },
      {
       "javascript": [
        "$('div#b4e717fd-4eff-4b96-a4f6-0809fdd6da14').text('1470 of 2029');"
       ],
       "metadata": {},
       "output_type": "display_data",
       "text": [
        "<IPython.core.display.Javascript at 0x1b324b00>"
       ]
      },
      {
       "javascript": [
        "$('div#f1ad154a-1abb-49dc-b7a6-0399b44dc62f').text(' 72%');"
       ],
       "metadata": {},
       "output_type": "display_data",
       "text": [
        "<IPython.core.display.Javascript at 0x171743c8>"
       ]
      },
      {
       "javascript": [
        "\n",
        "        var $myPB = $(\"div#7afd0cc4-56ec-4da8-91c6-b6e51dbb223b\")\n",
        "        if ($myPB.hasClass('ui-progressbar')) {\n",
        "            $myPB.progressbar('value', 1470);\n",
        "        } else {\n",
        "            $myPB.progressbar({value: 0, max: 2029});\n",
        "        }\n",
        "        "
       ],
       "metadata": {},
       "output_type": "display_data",
       "text": [
        "<IPython.core.display.Javascript at 0x171740b8>"
       ]
      },
      {
       "javascript": [
        "$('div#33278e6f-20c3-453f-b5c4-03888fde3be4').text('ETA:  0:00:00');"
       ],
       "metadata": {},
       "output_type": "display_data",
       "text": [
        "<IPython.core.display.Javascript at 0x3501e10>"
       ]
      },
      {
       "javascript": [
        "$('div#b4e717fd-4eff-4b96-a4f6-0809fdd6da14').text('1491 of 2029');"
       ],
       "metadata": {},
       "output_type": "display_data",
       "text": [
        "<IPython.core.display.Javascript at 0x1b324668>"
       ]
      },
      {
       "javascript": [
        "$('div#f1ad154a-1abb-49dc-b7a6-0399b44dc62f').text(' 73%');"
       ],
       "metadata": {},
       "output_type": "display_data",
       "text": [
        "<IPython.core.display.Javascript at 0x3501e10>"
       ]
      },
      {
       "javascript": [
        "\n",
        "        var $myPB = $(\"div#7afd0cc4-56ec-4da8-91c6-b6e51dbb223b\")\n",
        "        if ($myPB.hasClass('ui-progressbar')) {\n",
        "            $myPB.progressbar('value', 1491);\n",
        "        } else {\n",
        "            $myPB.progressbar({value: 0, max: 2029});\n",
        "        }\n",
        "        "
       ],
       "metadata": {},
       "output_type": "display_data",
       "text": [
        "<IPython.core.display.Javascript at 0x171740b8>"
       ]
      },
      {
       "javascript": [
        "$('div#33278e6f-20c3-453f-b5c4-03888fde3be4').text('ETA:  0:00:00');"
       ],
       "metadata": {},
       "output_type": "display_data",
       "text": [
        "<IPython.core.display.Javascript at 0x171743c8>"
       ]
      },
      {
       "javascript": [
        "$('div#b4e717fd-4eff-4b96-a4f6-0809fdd6da14').text('1512 of 2029');"
       ],
       "metadata": {},
       "output_type": "display_data",
       "text": [
        "<IPython.core.display.Javascript at 0x1b324668>"
       ]
      },
      {
       "javascript": [
        "$('div#f1ad154a-1abb-49dc-b7a6-0399b44dc62f').text(' 74%');"
       ],
       "metadata": {},
       "output_type": "display_data",
       "text": [
        "<IPython.core.display.Javascript at 0x171743c8>"
       ]
      },
      {
       "javascript": [
        "\n",
        "        var $myPB = $(\"div#7afd0cc4-56ec-4da8-91c6-b6e51dbb223b\")\n",
        "        if ($myPB.hasClass('ui-progressbar')) {\n",
        "            $myPB.progressbar('value', 1512);\n",
        "        } else {\n",
        "            $myPB.progressbar({value: 0, max: 2029});\n",
        "        }\n",
        "        "
       ],
       "metadata": {},
       "output_type": "display_data",
       "text": [
        "<IPython.core.display.Javascript at 0x171740b8>"
       ]
      },
      {
       "javascript": [
        "$('div#33278e6f-20c3-453f-b5c4-03888fde3be4').text('ETA:  0:00:00');"
       ],
       "metadata": {},
       "output_type": "display_data",
       "text": [
        "<IPython.core.display.Javascript at 0x3501e10>"
       ]
      },
      {
       "javascript": [
        "$('div#b4e717fd-4eff-4b96-a4f6-0809fdd6da14').text('1533 of 2029');"
       ],
       "metadata": {},
       "output_type": "display_data",
       "text": [
        "<IPython.core.display.Javascript at 0x1b324668>"
       ]
      },
      {
       "javascript": [
        "$('div#f1ad154a-1abb-49dc-b7a6-0399b44dc62f').text(' 75%');"
       ],
       "metadata": {},
       "output_type": "display_data",
       "text": [
        "<IPython.core.display.Javascript at 0x3501e10>"
       ]
      },
      {
       "javascript": [
        "\n",
        "        var $myPB = $(\"div#7afd0cc4-56ec-4da8-91c6-b6e51dbb223b\")\n",
        "        if ($myPB.hasClass('ui-progressbar')) {\n",
        "            $myPB.progressbar('value', 1533);\n",
        "        } else {\n",
        "            $myPB.progressbar({value: 0, max: 2029});\n",
        "        }\n",
        "        "
       ],
       "metadata": {},
       "output_type": "display_data",
       "text": [
        "<IPython.core.display.Javascript at 0x171740b8>"
       ]
      },
      {
       "javascript": [
        "$('div#33278e6f-20c3-453f-b5c4-03888fde3be4').text('ETA:  0:00:00');"
       ],
       "metadata": {},
       "output_type": "display_data",
       "text": [
        "<IPython.core.display.Javascript at 0x171743c8>"
       ]
      },
      {
       "javascript": [
        "$('div#b4e717fd-4eff-4b96-a4f6-0809fdd6da14').text('1554 of 2029');"
       ],
       "metadata": {},
       "output_type": "display_data",
       "text": [
        "<IPython.core.display.Javascript at 0x1b324c18>"
       ]
      },
      {
       "javascript": [
        "$('div#f1ad154a-1abb-49dc-b7a6-0399b44dc62f').text(' 76%');"
       ],
       "metadata": {},
       "output_type": "display_data",
       "text": [
        "<IPython.core.display.Javascript at 0x171743c8>"
       ]
      },
      {
       "javascript": [
        "\n",
        "        var $myPB = $(\"div#7afd0cc4-56ec-4da8-91c6-b6e51dbb223b\")\n",
        "        if ($myPB.hasClass('ui-progressbar')) {\n",
        "            $myPB.progressbar('value', 1554);\n",
        "        } else {\n",
        "            $myPB.progressbar({value: 0, max: 2029});\n",
        "        }\n",
        "        "
       ],
       "metadata": {},
       "output_type": "display_data",
       "text": [
        "<IPython.core.display.Javascript at 0x171740b8>"
       ]
      },
      {
       "javascript": [
        "$('div#33278e6f-20c3-453f-b5c4-03888fde3be4').text('ETA:  0:00:00');"
       ],
       "metadata": {},
       "output_type": "display_data",
       "text": [
        "<IPython.core.display.Javascript at 0x3501e10>"
       ]
      },
      {
       "javascript": [
        "$('div#b4e717fd-4eff-4b96-a4f6-0809fdd6da14').text('1575 of 2029');"
       ],
       "metadata": {},
       "output_type": "display_data",
       "text": [
        "<IPython.core.display.Javascript at 0x1b324c18>"
       ]
      },
      {
       "javascript": [
        "$('div#f1ad154a-1abb-49dc-b7a6-0399b44dc62f').text(' 77%');"
       ],
       "metadata": {},
       "output_type": "display_data",
       "text": [
        "<IPython.core.display.Javascript at 0x3501e10>"
       ]
      },
      {
       "javascript": [
        "\n",
        "        var $myPB = $(\"div#7afd0cc4-56ec-4da8-91c6-b6e51dbb223b\")\n",
        "        if ($myPB.hasClass('ui-progressbar')) {\n",
        "            $myPB.progressbar('value', 1575);\n",
        "        } else {\n",
        "            $myPB.progressbar({value: 0, max: 2029});\n",
        "        }\n",
        "        "
       ],
       "metadata": {},
       "output_type": "display_data",
       "text": [
        "<IPython.core.display.Javascript at 0x171740b8>"
       ]
      },
      {
       "javascript": [
        "$('div#33278e6f-20c3-453f-b5c4-03888fde3be4').text('ETA:  0:00:00');"
       ],
       "metadata": {},
       "output_type": "display_data",
       "text": [
        "<IPython.core.display.Javascript at 0x171743c8>"
       ]
      },
      {
       "javascript": [
        "$('div#b4e717fd-4eff-4b96-a4f6-0809fdd6da14').text('1596 of 2029');"
       ],
       "metadata": {},
       "output_type": "display_data",
       "text": [
        "<IPython.core.display.Javascript at 0x1b324c18>"
       ]
      },
      {
       "javascript": [
        "$('div#f1ad154a-1abb-49dc-b7a6-0399b44dc62f').text(' 78%');"
       ],
       "metadata": {},
       "output_type": "display_data",
       "text": [
        "<IPython.core.display.Javascript at 0x171743c8>"
       ]
      },
      {
       "javascript": [
        "\n",
        "        var $myPB = $(\"div#7afd0cc4-56ec-4da8-91c6-b6e51dbb223b\")\n",
        "        if ($myPB.hasClass('ui-progressbar')) {\n",
        "            $myPB.progressbar('value', 1596);\n",
        "        } else {\n",
        "            $myPB.progressbar({value: 0, max: 2029});\n",
        "        }\n",
        "        "
       ],
       "metadata": {},
       "output_type": "display_data",
       "text": [
        "<IPython.core.display.Javascript at 0x171740b8>"
       ]
      },
      {
       "javascript": [
        "$('div#33278e6f-20c3-453f-b5c4-03888fde3be4').text('ETA:  0:00:00');"
       ],
       "metadata": {},
       "output_type": "display_data",
       "text": [
        "<IPython.core.display.Javascript at 0x3501e10>"
       ]
      },
      {
       "javascript": [
        "$('div#b4e717fd-4eff-4b96-a4f6-0809fdd6da14').text('1617 of 2029');"
       ],
       "metadata": {},
       "output_type": "display_data",
       "text": [
        "<IPython.core.display.Javascript at 0x1b324c18>"
       ]
      },
      {
       "javascript": [
        "$('div#f1ad154a-1abb-49dc-b7a6-0399b44dc62f').text(' 79%');"
       ],
       "metadata": {},
       "output_type": "display_data",
       "text": [
        "<IPython.core.display.Javascript at 0x3501e10>"
       ]
      },
      {
       "javascript": [
        "\n",
        "        var $myPB = $(\"div#7afd0cc4-56ec-4da8-91c6-b6e51dbb223b\")\n",
        "        if ($myPB.hasClass('ui-progressbar')) {\n",
        "            $myPB.progressbar('value', 1617);\n",
        "        } else {\n",
        "            $myPB.progressbar({value: 0, max: 2029});\n",
        "        }\n",
        "        "
       ],
       "metadata": {},
       "output_type": "display_data",
       "text": [
        "<IPython.core.display.Javascript at 0x171740b8>"
       ]
      },
      {
       "javascript": [
        "$('div#33278e6f-20c3-453f-b5c4-03888fde3be4').text('ETA:  0:00:00');"
       ],
       "metadata": {},
       "output_type": "display_data",
       "text": [
        "<IPython.core.display.Javascript at 0x171743c8>"
       ]
      },
      {
       "javascript": [
        "$('div#b4e717fd-4eff-4b96-a4f6-0809fdd6da14').text('1638 of 2029');"
       ],
       "metadata": {},
       "output_type": "display_data",
       "text": [
        "<IPython.core.display.Javascript at 0x1b324160>"
       ]
      },
      {
       "javascript": [
        "$('div#f1ad154a-1abb-49dc-b7a6-0399b44dc62f').text(' 80%');"
       ],
       "metadata": {},
       "output_type": "display_data",
       "text": [
        "<IPython.core.display.Javascript at 0x171743c8>"
       ]
      },
      {
       "javascript": [
        "\n",
        "        var $myPB = $(\"div#7afd0cc4-56ec-4da8-91c6-b6e51dbb223b\")\n",
        "        if ($myPB.hasClass('ui-progressbar')) {\n",
        "            $myPB.progressbar('value', 1638);\n",
        "        } else {\n",
        "            $myPB.progressbar({value: 0, max: 2029});\n",
        "        }\n",
        "        "
       ],
       "metadata": {},
       "output_type": "display_data",
       "text": [
        "<IPython.core.display.Javascript at 0x171740b8>"
       ]
      },
      {
       "javascript": [
        "$('div#33278e6f-20c3-453f-b5c4-03888fde3be4').text('ETA:  0:00:00');"
       ],
       "metadata": {},
       "output_type": "display_data",
       "text": [
        "<IPython.core.display.Javascript at 0x3501e10>"
       ]
      },
      {
       "javascript": [
        "$('div#b4e717fd-4eff-4b96-a4f6-0809fdd6da14').text('1659 of 2029');"
       ],
       "metadata": {},
       "output_type": "display_data",
       "text": [
        "<IPython.core.display.Javascript at 0x1b324e80>"
       ]
      },
      {
       "javascript": [
        "$('div#f1ad154a-1abb-49dc-b7a6-0399b44dc62f').text(' 81%');"
       ],
       "metadata": {},
       "output_type": "display_data",
       "text": [
        "<IPython.core.display.Javascript at 0x3501e10>"
       ]
      },
      {
       "javascript": [
        "\n",
        "        var $myPB = $(\"div#7afd0cc4-56ec-4da8-91c6-b6e51dbb223b\")\n",
        "        if ($myPB.hasClass('ui-progressbar')) {\n",
        "            $myPB.progressbar('value', 1659);\n",
        "        } else {\n",
        "            $myPB.progressbar({value: 0, max: 2029});\n",
        "        }\n",
        "        "
       ],
       "metadata": {},
       "output_type": "display_data",
       "text": [
        "<IPython.core.display.Javascript at 0x171740b8>"
       ]
      },
      {
       "javascript": [
        "$('div#33278e6f-20c3-453f-b5c4-03888fde3be4').text('ETA:  0:00:00');"
       ],
       "metadata": {},
       "output_type": "display_data",
       "text": [
        "<IPython.core.display.Javascript at 0x171743c8>"
       ]
      },
      {
       "javascript": [
        "$('div#b4e717fd-4eff-4b96-a4f6-0809fdd6da14').text('1680 of 2029');"
       ],
       "metadata": {},
       "output_type": "display_data",
       "text": [
        "<IPython.core.display.Javascript at 0x1b324080>"
       ]
      },
      {
       "javascript": [
        "$('div#f1ad154a-1abb-49dc-b7a6-0399b44dc62f').text(' 82%');"
       ],
       "metadata": {},
       "output_type": "display_data",
       "text": [
        "<IPython.core.display.Javascript at 0x171743c8>"
       ]
      },
      {
       "javascript": [
        "\n",
        "        var $myPB = $(\"div#7afd0cc4-56ec-4da8-91c6-b6e51dbb223b\")\n",
        "        if ($myPB.hasClass('ui-progressbar')) {\n",
        "            $myPB.progressbar('value', 1680);\n",
        "        } else {\n",
        "            $myPB.progressbar({value: 0, max: 2029});\n",
        "        }\n",
        "        "
       ],
       "metadata": {},
       "output_type": "display_data",
       "text": [
        "<IPython.core.display.Javascript at 0x171740b8>"
       ]
      },
      {
       "javascript": [
        "$('div#33278e6f-20c3-453f-b5c4-03888fde3be4').text('ETA:  0:00:00');"
       ],
       "metadata": {},
       "output_type": "display_data",
       "text": [
        "<IPython.core.display.Javascript at 0x3501e10>"
       ]
      },
      {
       "javascript": [
        "$('div#b4e717fd-4eff-4b96-a4f6-0809fdd6da14').text('1701 of 2029');"
       ],
       "metadata": {},
       "output_type": "display_data",
       "text": [
        "<IPython.core.display.Javascript at 0x1b324080>"
       ]
      },
      {
       "javascript": [
        "$('div#f1ad154a-1abb-49dc-b7a6-0399b44dc62f').text(' 83%');"
       ],
       "metadata": {},
       "output_type": "display_data",
       "text": [
        "<IPython.core.display.Javascript at 0x3501e10>"
       ]
      },
      {
       "javascript": [
        "\n",
        "        var $myPB = $(\"div#7afd0cc4-56ec-4da8-91c6-b6e51dbb223b\")\n",
        "        if ($myPB.hasClass('ui-progressbar')) {\n",
        "            $myPB.progressbar('value', 1701);\n",
        "        } else {\n",
        "            $myPB.progressbar({value: 0, max: 2029});\n",
        "        }\n",
        "        "
       ],
       "metadata": {},
       "output_type": "display_data",
       "text": [
        "<IPython.core.display.Javascript at 0x171740b8>"
       ]
      },
      {
       "javascript": [
        "$('div#33278e6f-20c3-453f-b5c4-03888fde3be4').text('ETA:  0:00:00');"
       ],
       "metadata": {},
       "output_type": "display_data",
       "text": [
        "<IPython.core.display.Javascript at 0x171743c8>"
       ]
      },
      {
       "javascript": [
        "$('div#b4e717fd-4eff-4b96-a4f6-0809fdd6da14').text('1722 of 2029');"
       ],
       "metadata": {},
       "output_type": "display_data",
       "text": [
        "<IPython.core.display.Javascript at 0x1b324080>"
       ]
      },
      {
       "javascript": [
        "$('div#f1ad154a-1abb-49dc-b7a6-0399b44dc62f').text(' 84%');"
       ],
       "metadata": {},
       "output_type": "display_data",
       "text": [
        "<IPython.core.display.Javascript at 0x171743c8>"
       ]
      },
      {
       "javascript": [
        "\n",
        "        var $myPB = $(\"div#7afd0cc4-56ec-4da8-91c6-b6e51dbb223b\")\n",
        "        if ($myPB.hasClass('ui-progressbar')) {\n",
        "            $myPB.progressbar('value', 1722);\n",
        "        } else {\n",
        "            $myPB.progressbar({value: 0, max: 2029});\n",
        "        }\n",
        "        "
       ],
       "metadata": {},
       "output_type": "display_data",
       "text": [
        "<IPython.core.display.Javascript at 0x171740b8>"
       ]
      },
      {
       "javascript": [
        "$('div#33278e6f-20c3-453f-b5c4-03888fde3be4').text('ETA:  0:00:00');"
       ],
       "metadata": {},
       "output_type": "display_data",
       "text": [
        "<IPython.core.display.Javascript at 0x3501e10>"
       ]
      },
      {
       "javascript": [
        "$('div#b4e717fd-4eff-4b96-a4f6-0809fdd6da14').text('1743 of 2029');"
       ],
       "metadata": {},
       "output_type": "display_data",
       "text": [
        "<IPython.core.display.Javascript at 0x1b324080>"
       ]
      },
      {
       "javascript": [
        "$('div#f1ad154a-1abb-49dc-b7a6-0399b44dc62f').text(' 85%');"
       ],
       "metadata": {},
       "output_type": "display_data",
       "text": [
        "<IPython.core.display.Javascript at 0x3501e10>"
       ]
      },
      {
       "javascript": [
        "\n",
        "        var $myPB = $(\"div#7afd0cc4-56ec-4da8-91c6-b6e51dbb223b\")\n",
        "        if ($myPB.hasClass('ui-progressbar')) {\n",
        "            $myPB.progressbar('value', 1743);\n",
        "        } else {\n",
        "            $myPB.progressbar({value: 0, max: 2029});\n",
        "        }\n",
        "        "
       ],
       "metadata": {},
       "output_type": "display_data",
       "text": [
        "<IPython.core.display.Javascript at 0x171740b8>"
       ]
      },
      {
       "javascript": [
        "$('div#33278e6f-20c3-453f-b5c4-03888fde3be4').text('ETA:  0:00:00');"
       ],
       "metadata": {},
       "output_type": "display_data",
       "text": [
        "<IPython.core.display.Javascript at 0x171743c8>"
       ]
      },
      {
       "javascript": [
        "$('div#b4e717fd-4eff-4b96-a4f6-0809fdd6da14').text('1764 of 2029');"
       ],
       "metadata": {},
       "output_type": "display_data",
       "text": [
        "<IPython.core.display.Javascript at 0x1b324080>"
       ]
      },
      {
       "javascript": [
        "$('div#f1ad154a-1abb-49dc-b7a6-0399b44dc62f').text(' 86%');"
       ],
       "metadata": {},
       "output_type": "display_data",
       "text": [
        "<IPython.core.display.Javascript at 0x171743c8>"
       ]
      },
      {
       "javascript": [
        "\n",
        "        var $myPB = $(\"div#7afd0cc4-56ec-4da8-91c6-b6e51dbb223b\")\n",
        "        if ($myPB.hasClass('ui-progressbar')) {\n",
        "            $myPB.progressbar('value', 1764);\n",
        "        } else {\n",
        "            $myPB.progressbar({value: 0, max: 2029});\n",
        "        }\n",
        "        "
       ],
       "metadata": {},
       "output_type": "display_data",
       "text": [
        "<IPython.core.display.Javascript at 0x171740b8>"
       ]
      },
      {
       "javascript": [
        "$('div#33278e6f-20c3-453f-b5c4-03888fde3be4').text('ETA:  0:00:00');"
       ],
       "metadata": {},
       "output_type": "display_data",
       "text": [
        "<IPython.core.display.Javascript at 0x3501e10>"
       ]
      },
      {
       "javascript": [
        "$('div#b4e717fd-4eff-4b96-a4f6-0809fdd6da14').text('1785 of 2029');"
       ],
       "metadata": {},
       "output_type": "display_data",
       "text": [
        "<IPython.core.display.Javascript at 0x1b324b38>"
       ]
      },
      {
       "javascript": [
        "$('div#f1ad154a-1abb-49dc-b7a6-0399b44dc62f').text(' 87%');"
       ],
       "metadata": {},
       "output_type": "display_data",
       "text": [
        "<IPython.core.display.Javascript at 0x3501e10>"
       ]
      },
      {
       "javascript": [
        "\n",
        "        var $myPB = $(\"div#7afd0cc4-56ec-4da8-91c6-b6e51dbb223b\")\n",
        "        if ($myPB.hasClass('ui-progressbar')) {\n",
        "            $myPB.progressbar('value', 1785);\n",
        "        } else {\n",
        "            $myPB.progressbar({value: 0, max: 2029});\n",
        "        }\n",
        "        "
       ],
       "metadata": {},
       "output_type": "display_data",
       "text": [
        "<IPython.core.display.Javascript at 0x171740b8>"
       ]
      },
      {
       "javascript": [
        "$('div#33278e6f-20c3-453f-b5c4-03888fde3be4').text('ETA:  0:00:00');"
       ],
       "metadata": {},
       "output_type": "display_data",
       "text": [
        "<IPython.core.display.Javascript at 0x171743c8>"
       ]
      },
      {
       "javascript": [
        "$('div#b4e717fd-4eff-4b96-a4f6-0809fdd6da14').text('1806 of 2029');"
       ],
       "metadata": {},
       "output_type": "display_data",
       "text": [
        "<IPython.core.display.Javascript at 0x1b324b38>"
       ]
      },
      {
       "javascript": [
        "$('div#f1ad154a-1abb-49dc-b7a6-0399b44dc62f').text(' 89%');"
       ],
       "metadata": {},
       "output_type": "display_data",
       "text": [
        "<IPython.core.display.Javascript at 0x171743c8>"
       ]
      },
      {
       "javascript": [
        "\n",
        "        var $myPB = $(\"div#7afd0cc4-56ec-4da8-91c6-b6e51dbb223b\")\n",
        "        if ($myPB.hasClass('ui-progressbar')) {\n",
        "            $myPB.progressbar('value', 1806);\n",
        "        } else {\n",
        "            $myPB.progressbar({value: 0, max: 2029});\n",
        "        }\n",
        "        "
       ],
       "metadata": {},
       "output_type": "display_data",
       "text": [
        "<IPython.core.display.Javascript at 0x171740b8>"
       ]
      },
      {
       "javascript": [
        "$('div#33278e6f-20c3-453f-b5c4-03888fde3be4').text('ETA:  0:00:00');"
       ],
       "metadata": {},
       "output_type": "display_data",
       "text": [
        "<IPython.core.display.Javascript at 0x3501e10>"
       ]
      },
      {
       "javascript": [
        "$('div#b4e717fd-4eff-4b96-a4f6-0809fdd6da14').text('1827 of 2029');"
       ],
       "metadata": {},
       "output_type": "display_data",
       "text": [
        "<IPython.core.display.Javascript at 0x1b324b38>"
       ]
      },
      {
       "javascript": [
        "$('div#f1ad154a-1abb-49dc-b7a6-0399b44dc62f').text(' 90%');"
       ],
       "metadata": {},
       "output_type": "display_data",
       "text": [
        "<IPython.core.display.Javascript at 0x3501e10>"
       ]
      },
      {
       "javascript": [
        "\n",
        "        var $myPB = $(\"div#7afd0cc4-56ec-4da8-91c6-b6e51dbb223b\")\n",
        "        if ($myPB.hasClass('ui-progressbar')) {\n",
        "            $myPB.progressbar('value', 1827);\n",
        "        } else {\n",
        "            $myPB.progressbar({value: 0, max: 2029});\n",
        "        }\n",
        "        "
       ],
       "metadata": {},
       "output_type": "display_data",
       "text": [
        "<IPython.core.display.Javascript at 0x171740b8>"
       ]
      },
      {
       "javascript": [
        "$('div#33278e6f-20c3-453f-b5c4-03888fde3be4').text('ETA:  0:00:00');"
       ],
       "metadata": {},
       "output_type": "display_data",
       "text": [
        "<IPython.core.display.Javascript at 0x171743c8>"
       ]
      },
      {
       "javascript": [
        "$('div#b4e717fd-4eff-4b96-a4f6-0809fdd6da14').text('1848 of 2029');"
       ],
       "metadata": {},
       "output_type": "display_data",
       "text": [
        "<IPython.core.display.Javascript at 0x1b3242e8>"
       ]
      },
      {
       "javascript": [
        "$('div#f1ad154a-1abb-49dc-b7a6-0399b44dc62f').text(' 91%');"
       ],
       "metadata": {},
       "output_type": "display_data",
       "text": [
        "<IPython.core.display.Javascript at 0x171743c8>"
       ]
      },
      {
       "javascript": [
        "\n",
        "        var $myPB = $(\"div#7afd0cc4-56ec-4da8-91c6-b6e51dbb223b\")\n",
        "        if ($myPB.hasClass('ui-progressbar')) {\n",
        "            $myPB.progressbar('value', 1848);\n",
        "        } else {\n",
        "            $myPB.progressbar({value: 0, max: 2029});\n",
        "        }\n",
        "        "
       ],
       "metadata": {},
       "output_type": "display_data",
       "text": [
        "<IPython.core.display.Javascript at 0x171740b8>"
       ]
      },
      {
       "javascript": [
        "$('div#33278e6f-20c3-453f-b5c4-03888fde3be4').text('ETA:  0:00:00');"
       ],
       "metadata": {},
       "output_type": "display_data",
       "text": [
        "<IPython.core.display.Javascript at 0x3501e10>"
       ]
      },
      {
       "javascript": [
        "$('div#b4e717fd-4eff-4b96-a4f6-0809fdd6da14').text('1869 of 2029');"
       ],
       "metadata": {},
       "output_type": "display_data",
       "text": [
        "<IPython.core.display.Javascript at 0x1b3242e8>"
       ]
      },
      {
       "javascript": [
        "$('div#f1ad154a-1abb-49dc-b7a6-0399b44dc62f').text(' 92%');"
       ],
       "metadata": {},
       "output_type": "display_data",
       "text": [
        "<IPython.core.display.Javascript at 0x3501e10>"
       ]
      },
      {
       "javascript": [
        "\n",
        "        var $myPB = $(\"div#7afd0cc4-56ec-4da8-91c6-b6e51dbb223b\")\n",
        "        if ($myPB.hasClass('ui-progressbar')) {\n",
        "            $myPB.progressbar('value', 1869);\n",
        "        } else {\n",
        "            $myPB.progressbar({value: 0, max: 2029});\n",
        "        }\n",
        "        "
       ],
       "metadata": {},
       "output_type": "display_data",
       "text": [
        "<IPython.core.display.Javascript at 0x171740b8>"
       ]
      },
      {
       "javascript": [
        "$('div#33278e6f-20c3-453f-b5c4-03888fde3be4').text('ETA:  0:00:00');"
       ],
       "metadata": {},
       "output_type": "display_data",
       "text": [
        "<IPython.core.display.Javascript at 0x171743c8>"
       ]
      },
      {
       "javascript": [
        "$('div#b4e717fd-4eff-4b96-a4f6-0809fdd6da14').text('1890 of 2029');"
       ],
       "metadata": {},
       "output_type": "display_data",
       "text": [
        "<IPython.core.display.Javascript at 0x1b3242e8>"
       ]
      },
      {
       "javascript": [
        "$('div#f1ad154a-1abb-49dc-b7a6-0399b44dc62f').text(' 93%');"
       ],
       "metadata": {},
       "output_type": "display_data",
       "text": [
        "<IPython.core.display.Javascript at 0x171743c8>"
       ]
      },
      {
       "javascript": [
        "\n",
        "        var $myPB = $(\"div#7afd0cc4-56ec-4da8-91c6-b6e51dbb223b\")\n",
        "        if ($myPB.hasClass('ui-progressbar')) {\n",
        "            $myPB.progressbar('value', 1890);\n",
        "        } else {\n",
        "            $myPB.progressbar({value: 0, max: 2029});\n",
        "        }\n",
        "        "
       ],
       "metadata": {},
       "output_type": "display_data",
       "text": [
        "<IPython.core.display.Javascript at 0x171740b8>"
       ]
      },
      {
       "javascript": [
        "$('div#33278e6f-20c3-453f-b5c4-03888fde3be4').text('ETA:  0:00:00');"
       ],
       "metadata": {},
       "output_type": "display_data",
       "text": [
        "<IPython.core.display.Javascript at 0x3501e10>"
       ]
      },
      {
       "javascript": [
        "$('div#b4e717fd-4eff-4b96-a4f6-0809fdd6da14').text('1911 of 2029');"
       ],
       "metadata": {},
       "output_type": "display_data",
       "text": [
        "<IPython.core.display.Javascript at 0x1b3242e8>"
       ]
      },
      {
       "javascript": [
        "$('div#f1ad154a-1abb-49dc-b7a6-0399b44dc62f').text(' 94%');"
       ],
       "metadata": {},
       "output_type": "display_data",
       "text": [
        "<IPython.core.display.Javascript at 0x3501e10>"
       ]
      },
      {
       "javascript": [
        "\n",
        "        var $myPB = $(\"div#7afd0cc4-56ec-4da8-91c6-b6e51dbb223b\")\n",
        "        if ($myPB.hasClass('ui-progressbar')) {\n",
        "            $myPB.progressbar('value', 1911);\n",
        "        } else {\n",
        "            $myPB.progressbar({value: 0, max: 2029});\n",
        "        }\n",
        "        "
       ],
       "metadata": {},
       "output_type": "display_data",
       "text": [
        "<IPython.core.display.Javascript at 0x171740b8>"
       ]
      },
      {
       "javascript": [
        "$('div#33278e6f-20c3-453f-b5c4-03888fde3be4').text('ETA:  0:00:00');"
       ],
       "metadata": {},
       "output_type": "display_data",
       "text": [
        "<IPython.core.display.Javascript at 0x171743c8>"
       ]
      },
      {
       "javascript": [
        "$('div#b4e717fd-4eff-4b96-a4f6-0809fdd6da14').text('1932 of 2029');"
       ],
       "metadata": {},
       "output_type": "display_data",
       "text": [
        "<IPython.core.display.Javascript at 0x1b324fd0>"
       ]
      },
      {
       "javascript": [
        "$('div#f1ad154a-1abb-49dc-b7a6-0399b44dc62f').text(' 95%');"
       ],
       "metadata": {},
       "output_type": "display_data",
       "text": [
        "<IPython.core.display.Javascript at 0x171743c8>"
       ]
      },
      {
       "javascript": [
        "\n",
        "        var $myPB = $(\"div#7afd0cc4-56ec-4da8-91c6-b6e51dbb223b\")\n",
        "        if ($myPB.hasClass('ui-progressbar')) {\n",
        "            $myPB.progressbar('value', 1932);\n",
        "        } else {\n",
        "            $myPB.progressbar({value: 0, max: 2029});\n",
        "        }\n",
        "        "
       ],
       "metadata": {},
       "output_type": "display_data",
       "text": [
        "<IPython.core.display.Javascript at 0x171740b8>"
       ]
      },
      {
       "javascript": [
        "$('div#33278e6f-20c3-453f-b5c4-03888fde3be4').text('ETA:  0:00:00');"
       ],
       "metadata": {},
       "output_type": "display_data",
       "text": [
        "<IPython.core.display.Javascript at 0x3501e10>"
       ]
      },
      {
       "javascript": [
        "$('div#b4e717fd-4eff-4b96-a4f6-0809fdd6da14').text('1953 of 2029');"
       ],
       "metadata": {},
       "output_type": "display_data",
       "text": [
        "<IPython.core.display.Javascript at 0x1b3246d8>"
       ]
      },
      {
       "javascript": [
        "$('div#f1ad154a-1abb-49dc-b7a6-0399b44dc62f').text(' 96%');"
       ],
       "metadata": {},
       "output_type": "display_data",
       "text": [
        "<IPython.core.display.Javascript at 0x3501e10>"
       ]
      },
      {
       "javascript": [
        "\n",
        "        var $myPB = $(\"div#7afd0cc4-56ec-4da8-91c6-b6e51dbb223b\")\n",
        "        if ($myPB.hasClass('ui-progressbar')) {\n",
        "            $myPB.progressbar('value', 1953);\n",
        "        } else {\n",
        "            $myPB.progressbar({value: 0, max: 2029});\n",
        "        }\n",
        "        "
       ],
       "metadata": {},
       "output_type": "display_data",
       "text": [
        "<IPython.core.display.Javascript at 0x171740b8>"
       ]
      },
      {
       "javascript": [
        "$('div#33278e6f-20c3-453f-b5c4-03888fde3be4').text('ETA:  0:00:00');"
       ],
       "metadata": {},
       "output_type": "display_data",
       "text": [
        "<IPython.core.display.Javascript at 0x171743c8>"
       ]
      },
      {
       "javascript": [
        "$('div#b4e717fd-4eff-4b96-a4f6-0809fdd6da14').text('1974 of 2029');"
       ],
       "metadata": {},
       "output_type": "display_data",
       "text": [
        "<IPython.core.display.Javascript at 0x1b3246d8>"
       ]
      },
      {
       "javascript": [
        "$('div#f1ad154a-1abb-49dc-b7a6-0399b44dc62f').text(' 97%');"
       ],
       "metadata": {},
       "output_type": "display_data",
       "text": [
        "<IPython.core.display.Javascript at 0x171743c8>"
       ]
      },
      {
       "javascript": [
        "\n",
        "        var $myPB = $(\"div#7afd0cc4-56ec-4da8-91c6-b6e51dbb223b\")\n",
        "        if ($myPB.hasClass('ui-progressbar')) {\n",
        "            $myPB.progressbar('value', 1974);\n",
        "        } else {\n",
        "            $myPB.progressbar({value: 0, max: 2029});\n",
        "        }\n",
        "        "
       ],
       "metadata": {},
       "output_type": "display_data",
       "text": [
        "<IPython.core.display.Javascript at 0x171740b8>"
       ]
      },
      {
       "javascript": [
        "$('div#33278e6f-20c3-453f-b5c4-03888fde3be4').text('ETA:  0:00:00');"
       ],
       "metadata": {},
       "output_type": "display_data",
       "text": [
        "<IPython.core.display.Javascript at 0x3501e10>"
       ]
      },
      {
       "javascript": [
        "$('div#b4e717fd-4eff-4b96-a4f6-0809fdd6da14').text('1995 of 2029');"
       ],
       "metadata": {},
       "output_type": "display_data",
       "text": [
        "<IPython.core.display.Javascript at 0x1b3245c0>"
       ]
      },
      {
       "javascript": [
        "$('div#f1ad154a-1abb-49dc-b7a6-0399b44dc62f').text(' 98%');"
       ],
       "metadata": {},
       "output_type": "display_data",
       "text": [
        "<IPython.core.display.Javascript at 0x3501e10>"
       ]
      },
      {
       "javascript": [
        "\n",
        "        var $myPB = $(\"div#7afd0cc4-56ec-4da8-91c6-b6e51dbb223b\")\n",
        "        if ($myPB.hasClass('ui-progressbar')) {\n",
        "            $myPB.progressbar('value', 1995);\n",
        "        } else {\n",
        "            $myPB.progressbar({value: 0, max: 2029});\n",
        "        }\n",
        "        "
       ],
       "metadata": {},
       "output_type": "display_data",
       "text": [
        "<IPython.core.display.Javascript at 0x171740b8>"
       ]
      },
      {
       "javascript": [
        "$('div#33278e6f-20c3-453f-b5c4-03888fde3be4').text('ETA:  0:00:00');"
       ],
       "metadata": {},
       "output_type": "display_data",
       "text": [
        "<IPython.core.display.Javascript at 0x171743c8>"
       ]
      },
      {
       "javascript": [
        "$('div#b4e717fd-4eff-4b96-a4f6-0809fdd6da14').text('2016 of 2029');"
       ],
       "metadata": {},
       "output_type": "display_data",
       "text": [
        "<IPython.core.display.Javascript at 0x1b3245c0>"
       ]
      },
      {
       "javascript": [
        "$('div#f1ad154a-1abb-49dc-b7a6-0399b44dc62f').text(' 99%');"
       ],
       "metadata": {},
       "output_type": "display_data",
       "text": [
        "<IPython.core.display.Javascript at 0x171743c8>"
       ]
      },
      {
       "javascript": [
        "\n",
        "        var $myPB = $(\"div#7afd0cc4-56ec-4da8-91c6-b6e51dbb223b\")\n",
        "        if ($myPB.hasClass('ui-progressbar')) {\n",
        "            $myPB.progressbar('value', 2016);\n",
        "        } else {\n",
        "            $myPB.progressbar({value: 0, max: 2029});\n",
        "        }\n",
        "        "
       ],
       "metadata": {},
       "output_type": "display_data",
       "text": [
        "<IPython.core.display.Javascript at 0x171740b8>"
       ]
      },
      {
       "javascript": [
        "$('div#33278e6f-20c3-453f-b5c4-03888fde3be4').text('ETA:  0:00:00');"
       ],
       "metadata": {},
       "output_type": "display_data",
       "text": [
        "<IPython.core.display.Javascript at 0x3501e10>"
       ]
      },
      {
       "javascript": [
        "$('div#b4e717fd-4eff-4b96-a4f6-0809fdd6da14').text('2029 of 2029');"
       ],
       "metadata": {},
       "output_type": "display_data",
       "text": [
        "<IPython.core.display.Javascript at 0x17174080>"
       ]
      },
      {
       "javascript": [
        "$('div#f1ad154a-1abb-49dc-b7a6-0399b44dc62f').text('100%');"
       ],
       "metadata": {},
       "output_type": "display_data",
       "text": [
        "<IPython.core.display.Javascript at 0x3501e10>"
       ]
      },
      {
       "javascript": [
        "\n",
        "        var $myPB = $(\"div#7afd0cc4-56ec-4da8-91c6-b6e51dbb223b\")\n",
        "        if ($myPB.hasClass('ui-progressbar')) {\n",
        "            $myPB.progressbar('value', 2029);\n",
        "        } else {\n",
        "            $myPB.progressbar({value: 0, max: 2029});\n",
        "        }\n",
        "        "
       ],
       "metadata": {},
       "output_type": "display_data",
       "text": [
        "<IPython.core.display.Javascript at 0x17174080>"
       ]
      },
      {
       "javascript": [
        "$('div#33278e6f-20c3-453f-b5c4-03888fde3be4').text('Time: 0:00:00');"
       ],
       "metadata": {},
       "output_type": "display_data",
       "text": [
        "<IPython.core.display.Javascript at 0x171743c8>"
       ]
      },
      {
       "javascript": [
        "var element = document.getElementById('704ab07d-06e7-4836-9222-83e5ec72bdbf');\n",
        "                    var parent = element.parentNode\n",
        "                    parent.removeChild(element);\n",
        "                    parent.parentElement.remove();"
       ],
       "metadata": {},
       "output_type": "display_data",
       "text": [
        "<IPython.core.display.Javascript at 0x17174940>"
       ]
      },
      {
       "javascript": [
        "this.cleanProgressBar(['704ab07d-06e7-4836-9222-83e5ec72bdbf', 'b4e717fd-4eff-4b96-a4f6-0809fdd6da14', 'f1ad154a-1abb-49dc-b7a6-0399b44dc62f', '7afd0cc4-56ec-4da8-91c6-b6e51dbb223b', '33278e6f-20c3-453f-b5c4-03888fde3be4'])"
       ],
       "metadata": {},
       "output_type": "display_data",
       "text": [
        "<IPython.core.display.Javascript at 0x17174940>"
       ]
      },
      {
       "javascript": [
        "//35918fd6-4d8f-4264-bb0f-c671b88eee8e\n",
        "$(\"head\").append(\"<style> td.pb_widget {     width: auto; } td.pb_widget_fill {     width: 100%; } table.pb {     font-family: monospace;     border: 0;     margin: 0; } table.pb tr { border: 0; } table.pb td {     white-space: nowrap;     border: 0; } div.pb {     border: 1px solid #ddd;     border-radius: 3px; } div.pb_bar {     height: 1.5em; } </style>\")"
       ],
       "metadata": {},
       "output_type": "display_data",
       "text": [
        "<IPython.core.display.Javascript at 0x1a790d30>"
       ]
      },
      {
       "javascript": [
        "\n",
        "                  // 35918fd6-4d8f-4264-bb0f-c671b88eee8e -- used to remove this code blob in the end\n",
        "                  IPython.OutputArea.prototype.cleanProgressBar = function(uuids) {\n",
        "                      // filter by uuid-strings \n",
        "                      var myfilter = function(output) { \n",
        "                          var nuids = uuids.length;\n",
        "                          for (var i=0; i<nuids; i++) {\n",
        "                              if (output.hasOwnProperty('html')) {\n",
        "                                  if (output.html.indexOf(uuids[i]) != -1) {\n",
        "                                      return false;\n",
        "                                  }\n",
        "                              }\n",
        "                              if (output.hasOwnProperty('javascript')) {\n",
        "                                  if (output.javascript.indexOf(uuids[i]) != -1) {\n",
        "                                      return false;\n",
        "                                  }\n",
        "                              }\n",
        "                          }\n",
        "                          // keep all others\n",
        "                          return true;\n",
        "                      };\n",
        "\n",
        "                      // Filter the ouputs\n",
        "                      this.outputs = this.outputs.filter(myfilter);\n",
        "                };\n",
        "                "
       ],
       "metadata": {},
       "output_type": "display_data",
       "text": [
        "<IPython.core.display.Javascript at 0x171740b8>"
       ]
      },
      {
       "html": [
        "<div class=\"pb\" id=\"35918fd6-4d8f-4264-bb0f-c671b88eee8e\"><table class=\"pb ui-widget\"><tr>\n",
        "<td class=\"pb_widget\">tagging sentences</td>\n",
        "<td class=\"pb_widget\"><div id=\"4cbe9b79-9a95-42a3-a3ed-b5095d208c3d\">0 of 2029</div></td>\n",
        "<td class=\"pb_widget\"><div id=\"3062a13d-da10-4e14-b6d5-56d2dea558de\">  0%</div></td>\n",
        "<td class=\"pb_widget_fill\">\n",
        "        <div class=\"pb_bar\" id=\"71187625-7fa2-4bbb-bb48-56c5392d3a4a\"></div>\n",
        "        <script type=\"text/javascript\">\n",
        "            $(\"div#71187625-7fa2-4bbb-bb48-56c5392d3a4a\").progressbar({value: 0, max: 2029});\n",
        "        </script>\n",
        "        </td>\n",
        "<td class=\"pb_widget\"><div id=\"184ef629-7f25-4d6c-a5c4-4f2caa6d242c\">ETA:  --:--:--</div></td>\n",
        "</tr></table><div>"
       ],
       "metadata": {},
       "output_type": "display_data",
       "text": [
        "<IPython.core.display.HTML at 0x171743c8>"
       ]
      },
      {
       "javascript": [
        "$('div#4cbe9b79-9a95-42a3-a3ed-b5095d208c3d').text('21 of 2029');"
       ],
       "metadata": {},
       "output_type": "display_data",
       "text": [
        "<IPython.core.display.Javascript at 0x17174080>"
       ]
      },
      {
       "javascript": [
        "$('div#3062a13d-da10-4e14-b6d5-56d2dea558de').text('  1%');"
       ],
       "metadata": {},
       "output_type": "display_data",
       "text": [
        "<IPython.core.display.Javascript at 0x17174c18>"
       ]
      },
      {
       "javascript": [
        "\n",
        "        var $myPB = $(\"div#71187625-7fa2-4bbb-bb48-56c5392d3a4a\")\n",
        "        if ($myPB.hasClass('ui-progressbar')) {\n",
        "            $myPB.progressbar('value', 21);\n",
        "        } else {\n",
        "            $myPB.progressbar({value: 0, max: 2029});\n",
        "        }\n",
        "        "
       ],
       "metadata": {},
       "output_type": "display_data",
       "text": [
        "<IPython.core.display.Javascript at 0x17174940>"
       ]
      },
      {
       "javascript": [
        "$('div#184ef629-7f25-4d6c-a5c4-4f2caa6d242c').text('ETA:  0:00:00');"
       ],
       "metadata": {},
       "output_type": "display_data",
       "text": [
        "<IPython.core.display.Javascript at 0x171740b8>"
       ]
      },
      {
       "javascript": [
        "$('div#4cbe9b79-9a95-42a3-a3ed-b5095d208c3d').text('42 of 2029');"
       ],
       "metadata": {},
       "output_type": "display_data",
       "text": [
        "<IPython.core.display.Javascript at 0x171740b8>"
       ]
      },
      {
       "javascript": [
        "$('div#3062a13d-da10-4e14-b6d5-56d2dea558de').text('  2%');"
       ],
       "metadata": {},
       "output_type": "display_data",
       "text": [
        "<IPython.core.display.Javascript at 0x17174940>"
       ]
      },
      {
       "javascript": [
        "\n",
        "        var $myPB = $(\"div#71187625-7fa2-4bbb-bb48-56c5392d3a4a\")\n",
        "        if ($myPB.hasClass('ui-progressbar')) {\n",
        "            $myPB.progressbar('value', 42);\n",
        "        } else {\n",
        "            $myPB.progressbar({value: 0, max: 2029});\n",
        "        }\n",
        "        "
       ],
       "metadata": {},
       "output_type": "display_data",
       "text": [
        "<IPython.core.display.Javascript at 0x17174080>"
       ]
      },
      {
       "javascript": [
        "$('div#184ef629-7f25-4d6c-a5c4-4f2caa6d242c').text('ETA:  0:00:00');"
       ],
       "metadata": {},
       "output_type": "display_data",
       "text": [
        "<IPython.core.display.Javascript at 0x17174c18>"
       ]
      },
      {
       "javascript": [
        "$('div#4cbe9b79-9a95-42a3-a3ed-b5095d208c3d').text('63 of 2029');"
       ],
       "metadata": {},
       "output_type": "display_data",
       "text": [
        "<IPython.core.display.Javascript at 0x17174c18>"
       ]
      },
      {
       "javascript": [
        "$('div#3062a13d-da10-4e14-b6d5-56d2dea558de').text('  3%');"
       ],
       "metadata": {},
       "output_type": "display_data",
       "text": [
        "<IPython.core.display.Javascript at 0x17174080>"
       ]
      },
      {
       "javascript": [
        "\n",
        "        var $myPB = $(\"div#71187625-7fa2-4bbb-bb48-56c5392d3a4a\")\n",
        "        if ($myPB.hasClass('ui-progressbar')) {\n",
        "            $myPB.progressbar('value', 63);\n",
        "        } else {\n",
        "            $myPB.progressbar({value: 0, max: 2029});\n",
        "        }\n",
        "        "
       ],
       "metadata": {},
       "output_type": "display_data",
       "text": [
        "<IPython.core.display.Javascript at 0x171740b8>"
       ]
      },
      {
       "javascript": [
        "$('div#184ef629-7f25-4d6c-a5c4-4f2caa6d242c').text('ETA:  0:00:00');"
       ],
       "metadata": {},
       "output_type": "display_data",
       "text": [
        "<IPython.core.display.Javascript at 0x17174940>"
       ]
      },
      {
       "javascript": [
        "$('div#4cbe9b79-9a95-42a3-a3ed-b5095d208c3d').text('84 of 2029');"
       ],
       "metadata": {},
       "output_type": "display_data",
       "text": [
        "<IPython.core.display.Javascript at 0x17174940>"
       ]
      },
      {
       "javascript": [
        "$('div#3062a13d-da10-4e14-b6d5-56d2dea558de').text('  4%');"
       ],
       "metadata": {},
       "output_type": "display_data",
       "text": [
        "<IPython.core.display.Javascript at 0x171740b8>"
       ]
      },
      {
       "javascript": [
        "\n",
        "        var $myPB = $(\"div#71187625-7fa2-4bbb-bb48-56c5392d3a4a\")\n",
        "        if ($myPB.hasClass('ui-progressbar')) {\n",
        "            $myPB.progressbar('value', 84);\n",
        "        } else {\n",
        "            $myPB.progressbar({value: 0, max: 2029});\n",
        "        }\n",
        "        "
       ],
       "metadata": {},
       "output_type": "display_data",
       "text": [
        "<IPython.core.display.Javascript at 0x17174c18>"
       ]
      },
      {
       "javascript": [
        "$('div#184ef629-7f25-4d6c-a5c4-4f2caa6d242c').text('ETA:  0:00:00');"
       ],
       "metadata": {},
       "output_type": "display_data",
       "text": [
        "<IPython.core.display.Javascript at 0x17174080>"
       ]
      },
      {
       "javascript": [
        "$('div#4cbe9b79-9a95-42a3-a3ed-b5095d208c3d').text('105 of 2029');"
       ],
       "metadata": {},
       "output_type": "display_data",
       "text": [
        "<IPython.core.display.Javascript at 0x17174080>"
       ]
      },
      {
       "javascript": [
        "$('div#3062a13d-da10-4e14-b6d5-56d2dea558de').text('  5%');"
       ],
       "metadata": {},
       "output_type": "display_data",
       "text": [
        "<IPython.core.display.Javascript at 0x17174c18>"
       ]
      },
      {
       "javascript": [
        "\n",
        "        var $myPB = $(\"div#71187625-7fa2-4bbb-bb48-56c5392d3a4a\")\n",
        "        if ($myPB.hasClass('ui-progressbar')) {\n",
        "            $myPB.progressbar('value', 105);\n",
        "        } else {\n",
        "            $myPB.progressbar({value: 0, max: 2029});\n",
        "        }\n",
        "        "
       ],
       "metadata": {},
       "output_type": "display_data",
       "text": [
        "<IPython.core.display.Javascript at 0x17174940>"
       ]
      },
      {
       "javascript": [
        "$('div#184ef629-7f25-4d6c-a5c4-4f2caa6d242c').text('ETA:  0:00:00');"
       ],
       "metadata": {},
       "output_type": "display_data",
       "text": [
        "<IPython.core.display.Javascript at 0x171740b8>"
       ]
      },
      {
       "javascript": [
        "$('div#4cbe9b79-9a95-42a3-a3ed-b5095d208c3d').text('126 of 2029');"
       ],
       "metadata": {},
       "output_type": "display_data",
       "text": [
        "<IPython.core.display.Javascript at 0x171740b8>"
       ]
      },
      {
       "javascript": [
        "$('div#3062a13d-da10-4e14-b6d5-56d2dea558de').text('  6%');"
       ],
       "metadata": {},
       "output_type": "display_data",
       "text": [
        "<IPython.core.display.Javascript at 0x17174940>"
       ]
      },
      {
       "javascript": [
        "\n",
        "        var $myPB = $(\"div#71187625-7fa2-4bbb-bb48-56c5392d3a4a\")\n",
        "        if ($myPB.hasClass('ui-progressbar')) {\n",
        "            $myPB.progressbar('value', 126);\n",
        "        } else {\n",
        "            $myPB.progressbar({value: 0, max: 2029});\n",
        "        }\n",
        "        "
       ],
       "metadata": {},
       "output_type": "display_data",
       "text": [
        "<IPython.core.display.Javascript at 0x17174080>"
       ]
      },
      {
       "javascript": [
        "$('div#184ef629-7f25-4d6c-a5c4-4f2caa6d242c').text('ETA:  0:00:00');"
       ],
       "metadata": {},
       "output_type": "display_data",
       "text": [
        "<IPython.core.display.Javascript at 0x17174c18>"
       ]
      },
      {
       "javascript": [
        "$('div#4cbe9b79-9a95-42a3-a3ed-b5095d208c3d').text('147 of 2029');"
       ],
       "metadata": {},
       "output_type": "display_data",
       "text": [
        "<IPython.core.display.Javascript at 0x17174c18>"
       ]
      },
      {
       "javascript": [
        "$('div#3062a13d-da10-4e14-b6d5-56d2dea558de').text('  7%');"
       ],
       "metadata": {},
       "output_type": "display_data",
       "text": [
        "<IPython.core.display.Javascript at 0x17174080>"
       ]
      },
      {
       "javascript": [
        "\n",
        "        var $myPB = $(\"div#71187625-7fa2-4bbb-bb48-56c5392d3a4a\")\n",
        "        if ($myPB.hasClass('ui-progressbar')) {\n",
        "            $myPB.progressbar('value', 147);\n",
        "        } else {\n",
        "            $myPB.progressbar({value: 0, max: 2029});\n",
        "        }\n",
        "        "
       ],
       "metadata": {},
       "output_type": "display_data",
       "text": [
        "<IPython.core.display.Javascript at 0x171740b8>"
       ]
      },
      {
       "javascript": [
        "$('div#184ef629-7f25-4d6c-a5c4-4f2caa6d242c').text('ETA:  0:00:00');"
       ],
       "metadata": {},
       "output_type": "display_data",
       "text": [
        "<IPython.core.display.Javascript at 0x17174940>"
       ]
      },
      {
       "javascript": [
        "$('div#4cbe9b79-9a95-42a3-a3ed-b5095d208c3d').text('168 of 2029');"
       ],
       "metadata": {},
       "output_type": "display_data",
       "text": [
        "<IPython.core.display.Javascript at 0x17174940>"
       ]
      },
      {
       "javascript": [
        "$('div#3062a13d-da10-4e14-b6d5-56d2dea558de').text('  8%');"
       ],
       "metadata": {},
       "output_type": "display_data",
       "text": [
        "<IPython.core.display.Javascript at 0x171740b8>"
       ]
      },
      {
       "javascript": [
        "\n",
        "        var $myPB = $(\"div#71187625-7fa2-4bbb-bb48-56c5392d3a4a\")\n",
        "        if ($myPB.hasClass('ui-progressbar')) {\n",
        "            $myPB.progressbar('value', 168);\n",
        "        } else {\n",
        "            $myPB.progressbar({value: 0, max: 2029});\n",
        "        }\n",
        "        "
       ],
       "metadata": {},
       "output_type": "display_data",
       "text": [
        "<IPython.core.display.Javascript at 0x17174c18>"
       ]
      },
      {
       "javascript": [
        "$('div#184ef629-7f25-4d6c-a5c4-4f2caa6d242c').text('ETA:  0:00:00');"
       ],
       "metadata": {},
       "output_type": "display_data",
       "text": [
        "<IPython.core.display.Javascript at 0x17174080>"
       ]
      },
      {
       "javascript": [
        "$('div#4cbe9b79-9a95-42a3-a3ed-b5095d208c3d').text('189 of 2029');"
       ],
       "metadata": {},
       "output_type": "display_data",
       "text": [
        "<IPython.core.display.Javascript at 0x17174940>"
       ]
      },
      {
       "javascript": [
        "$('div#3062a13d-da10-4e14-b6d5-56d2dea558de').text('  9%');"
       ],
       "metadata": {},
       "output_type": "display_data",
       "text": [
        "<IPython.core.display.Javascript at 0x17174940>"
       ]
      },
      {
       "javascript": [
        "\n",
        "        var $myPB = $(\"div#71187625-7fa2-4bbb-bb48-56c5392d3a4a\")\n",
        "        if ($myPB.hasClass('ui-progressbar')) {\n",
        "            $myPB.progressbar('value', 189);\n",
        "        } else {\n",
        "            $myPB.progressbar({value: 0, max: 2029});\n",
        "        }\n",
        "        "
       ],
       "metadata": {},
       "output_type": "display_data",
       "text": [
        "<IPython.core.display.Javascript at 0x171740b8>"
       ]
      },
      {
       "javascript": [
        "$('div#184ef629-7f25-4d6c-a5c4-4f2caa6d242c').text('ETA:  0:00:00');"
       ],
       "metadata": {},
       "output_type": "display_data",
       "text": [
        "<IPython.core.display.Javascript at 0x17174c18>"
       ]
      },
      {
       "javascript": [
        "$('div#4cbe9b79-9a95-42a3-a3ed-b5095d208c3d').text('210 of 2029');"
       ],
       "metadata": {},
       "output_type": "display_data",
       "text": [
        "<IPython.core.display.Javascript at 0x17174c18>"
       ]
      },
      {
       "javascript": [
        "$('div#3062a13d-da10-4e14-b6d5-56d2dea558de').text(' 10%');"
       ],
       "metadata": {},
       "output_type": "display_data",
       "text": [
        "<IPython.core.display.Javascript at 0x171740b8>"
       ]
      },
      {
       "javascript": [
        "\n",
        "        var $myPB = $(\"div#71187625-7fa2-4bbb-bb48-56c5392d3a4a\")\n",
        "        if ($myPB.hasClass('ui-progressbar')) {\n",
        "            $myPB.progressbar('value', 210);\n",
        "        } else {\n",
        "            $myPB.progressbar({value: 0, max: 2029});\n",
        "        }\n",
        "        "
       ],
       "metadata": {},
       "output_type": "display_data",
       "text": [
        "<IPython.core.display.Javascript at 0x171740b8>"
       ]
      },
      {
       "javascript": [
        "$('div#184ef629-7f25-4d6c-a5c4-4f2caa6d242c').text('ETA:  0:00:00');"
       ],
       "metadata": {},
       "output_type": "display_data",
       "text": [
        "<IPython.core.display.Javascript at 0x17174940>"
       ]
      },
      {
       "javascript": [
        "$('div#4cbe9b79-9a95-42a3-a3ed-b5095d208c3d').text('231 of 2029');"
       ],
       "metadata": {},
       "output_type": "display_data",
       "text": [
        "<IPython.core.display.Javascript at 0x17174c18>"
       ]
      },
      {
       "javascript": [
        "$('div#3062a13d-da10-4e14-b6d5-56d2dea558de').text(' 11%');"
       ],
       "metadata": {},
       "output_type": "display_data",
       "text": [
        "<IPython.core.display.Javascript at 0x17174940>"
       ]
      },
      {
       "javascript": [
        "\n",
        "        var $myPB = $(\"div#71187625-7fa2-4bbb-bb48-56c5392d3a4a\")\n",
        "        if ($myPB.hasClass('ui-progressbar')) {\n",
        "            $myPB.progressbar('value', 231);\n",
        "        } else {\n",
        "            $myPB.progressbar({value: 0, max: 2029});\n",
        "        }\n",
        "        "
       ],
       "metadata": {},
       "output_type": "display_data",
       "text": [
        "<IPython.core.display.Javascript at 0x171740b8>"
       ]
      },
      {
       "javascript": [
        "$('div#184ef629-7f25-4d6c-a5c4-4f2caa6d242c').text('ETA:  0:00:00');"
       ],
       "metadata": {},
       "output_type": "display_data",
       "text": [
        "<IPython.core.display.Javascript at 0x171740b8>"
       ]
      },
      {
       "javascript": [
        "$('div#4cbe9b79-9a95-42a3-a3ed-b5095d208c3d').text('252 of 2029');"
       ],
       "metadata": {},
       "output_type": "display_data",
       "text": [
        "<IPython.core.display.Javascript at 0x17174940>"
       ]
      },
      {
       "javascript": [
        "$('div#3062a13d-da10-4e14-b6d5-56d2dea558de').text(' 12%');"
       ],
       "metadata": {},
       "output_type": "display_data",
       "text": [
        "<IPython.core.display.Javascript at 0x171740b8>"
       ]
      },
      {
       "javascript": [
        "\n",
        "        var $myPB = $(\"div#71187625-7fa2-4bbb-bb48-56c5392d3a4a\")\n",
        "        if ($myPB.hasClass('ui-progressbar')) {\n",
        "            $myPB.progressbar('value', 252);\n",
        "        } else {\n",
        "            $myPB.progressbar({value: 0, max: 2029});\n",
        "        }\n",
        "        "
       ],
       "metadata": {},
       "output_type": "display_data",
       "text": [
        "<IPython.core.display.Javascript at 0x17174c18>"
       ]
      },
      {
       "javascript": [
        "$('div#184ef629-7f25-4d6c-a5c4-4f2caa6d242c').text('ETA:  0:00:00');"
       ],
       "metadata": {},
       "output_type": "display_data",
       "text": [
        "<IPython.core.display.Javascript at 0x17174c18>"
       ]
      },
      {
       "javascript": [
        "$('div#4cbe9b79-9a95-42a3-a3ed-b5095d208c3d').text('273 of 2029');"
       ],
       "metadata": {},
       "output_type": "display_data",
       "text": [
        "<IPython.core.display.Javascript at 0x171740b8>"
       ]
      },
      {
       "javascript": [
        "$('div#3062a13d-da10-4e14-b6d5-56d2dea558de').text(' 13%');"
       ],
       "metadata": {},
       "output_type": "display_data",
       "text": [
        "<IPython.core.display.Javascript at 0x17174c18>"
       ]
      },
      {
       "javascript": [
        "\n",
        "        var $myPB = $(\"div#71187625-7fa2-4bbb-bb48-56c5392d3a4a\")\n",
        "        if ($myPB.hasClass('ui-progressbar')) {\n",
        "            $myPB.progressbar('value', 273);\n",
        "        } else {\n",
        "            $myPB.progressbar({value: 0, max: 2029});\n",
        "        }\n",
        "        "
       ],
       "metadata": {},
       "output_type": "display_data",
       "text": [
        "<IPython.core.display.Javascript at 0x17174940>"
       ]
      },
      {
       "javascript": [
        "$('div#184ef629-7f25-4d6c-a5c4-4f2caa6d242c').text('ETA:  0:00:00');"
       ],
       "metadata": {},
       "output_type": "display_data",
       "text": [
        "<IPython.core.display.Javascript at 0x1b324a20>"
       ]
      },
      {
       "javascript": [
        "$('div#4cbe9b79-9a95-42a3-a3ed-b5095d208c3d').text('294 of 2029');"
       ],
       "metadata": {},
       "output_type": "display_data",
       "text": [
        "<IPython.core.display.Javascript at 0x17174940>"
       ]
      },
      {
       "javascript": [
        "$('div#3062a13d-da10-4e14-b6d5-56d2dea558de').text(' 14%');"
       ],
       "metadata": {},
       "output_type": "display_data",
       "text": [
        "<IPython.core.display.Javascript at 0x17174c18>"
       ]
      },
      {
       "javascript": [
        "\n",
        "        var $myPB = $(\"div#71187625-7fa2-4bbb-bb48-56c5392d3a4a\")\n",
        "        if ($myPB.hasClass('ui-progressbar')) {\n",
        "            $myPB.progressbar('value', 294);\n",
        "        } else {\n",
        "            $myPB.progressbar({value: 0, max: 2029});\n",
        "        }\n",
        "        "
       ],
       "metadata": {},
       "output_type": "display_data",
       "text": [
        "<IPython.core.display.Javascript at 0x17174c18>"
       ]
      },
      {
       "javascript": [
        "$('div#184ef629-7f25-4d6c-a5c4-4f2caa6d242c').text('ETA:  0:00:00');"
       ],
       "metadata": {},
       "output_type": "display_data",
       "text": [
        "<IPython.core.display.Javascript at 0x171740b8>"
       ]
      },
      {
       "javascript": [
        "$('div#4cbe9b79-9a95-42a3-a3ed-b5095d208c3d').text('315 of 2029');"
       ],
       "metadata": {},
       "output_type": "display_data",
       "text": [
        "<IPython.core.display.Javascript at 0x17174940>"
       ]
      },
      {
       "javascript": [
        "$('div#3062a13d-da10-4e14-b6d5-56d2dea558de').text(' 15%');"
       ],
       "metadata": {},
       "output_type": "display_data",
       "text": [
        "<IPython.core.display.Javascript at 0x171740b8>"
       ]
      },
      {
       "javascript": [
        "\n",
        "        var $myPB = $(\"div#71187625-7fa2-4bbb-bb48-56c5392d3a4a\")\n",
        "        if ($myPB.hasClass('ui-progressbar')) {\n",
        "            $myPB.progressbar('value', 315);\n",
        "        } else {\n",
        "            $myPB.progressbar({value: 0, max: 2029});\n",
        "        }\n",
        "        "
       ],
       "metadata": {},
       "output_type": "display_data",
       "text": [
        "<IPython.core.display.Javascript at 0x171740b8>"
       ]
      },
      {
       "javascript": [
        "$('div#184ef629-7f25-4d6c-a5c4-4f2caa6d242c').text('ETA:  0:00:00');"
       ],
       "metadata": {},
       "output_type": "display_data",
       "text": [
        "<IPython.core.display.Javascript at 0x17174c18>"
       ]
      },
      {
       "javascript": [
        "$('div#4cbe9b79-9a95-42a3-a3ed-b5095d208c3d').text('336 of 2029');"
       ],
       "metadata": {},
       "output_type": "display_data",
       "text": [
        "<IPython.core.display.Javascript at 0x17174940>"
       ]
      },
      {
       "javascript": [
        "$('div#3062a13d-da10-4e14-b6d5-56d2dea558de').text(' 16%');"
       ],
       "metadata": {},
       "output_type": "display_data",
       "text": [
        "<IPython.core.display.Javascript at 0x17174c18>"
       ]
      },
      {
       "javascript": [
        "\n",
        "        var $myPB = $(\"div#71187625-7fa2-4bbb-bb48-56c5392d3a4a\")\n",
        "        if ($myPB.hasClass('ui-progressbar')) {\n",
        "            $myPB.progressbar('value', 336);\n",
        "        } else {\n",
        "            $myPB.progressbar({value: 0, max: 2029});\n",
        "        }\n",
        "        "
       ],
       "metadata": {},
       "output_type": "display_data",
       "text": [
        "<IPython.core.display.Javascript at 0x171740b8>"
       ]
      },
      {
       "javascript": [
        "$('div#184ef629-7f25-4d6c-a5c4-4f2caa6d242c').text('ETA:  0:00:00');"
       ],
       "metadata": {},
       "output_type": "display_data",
       "text": [
        "<IPython.core.display.Javascript at 0x171740b8>"
       ]
      },
      {
       "javascript": [
        "$('div#4cbe9b79-9a95-42a3-a3ed-b5095d208c3d').text('357 of 2029');"
       ],
       "metadata": {},
       "output_type": "display_data",
       "text": [
        "<IPython.core.display.Javascript at 0x17174c18>"
       ]
      },
      {
       "javascript": [
        "$('div#3062a13d-da10-4e14-b6d5-56d2dea558de').text(' 17%');"
       ],
       "metadata": {},
       "output_type": "display_data",
       "text": [
        "<IPython.core.display.Javascript at 0x17174c18>"
       ]
      },
      {
       "javascript": [
        "\n",
        "        var $myPB = $(\"div#71187625-7fa2-4bbb-bb48-56c5392d3a4a\")\n",
        "        if ($myPB.hasClass('ui-progressbar')) {\n",
        "            $myPB.progressbar('value', 357);\n",
        "        } else {\n",
        "            $myPB.progressbar({value: 0, max: 2029});\n",
        "        }\n",
        "        "
       ],
       "metadata": {},
       "output_type": "display_data",
       "text": [
        "<IPython.core.display.Javascript at 0x17174940>"
       ]
      },
      {
       "javascript": [
        "$('div#184ef629-7f25-4d6c-a5c4-4f2caa6d242c').text('ETA:  0:00:00');"
       ],
       "metadata": {},
       "output_type": "display_data",
       "text": [
        "<IPython.core.display.Javascript at 0x171740b8>"
       ]
      },
      {
       "javascript": [
        "$('div#4cbe9b79-9a95-42a3-a3ed-b5095d208c3d').text('378 of 2029');"
       ],
       "metadata": {},
       "output_type": "display_data",
       "text": [
        "<IPython.core.display.Javascript at 0x171740b8>"
       ]
      },
      {
       "javascript": [
        "$('div#3062a13d-da10-4e14-b6d5-56d2dea558de').text(' 18%');"
       ],
       "metadata": {},
       "output_type": "display_data",
       "text": [
        "<IPython.core.display.Javascript at 0x17174940>"
       ]
      },
      {
       "javascript": [
        "\n",
        "        var $myPB = $(\"div#71187625-7fa2-4bbb-bb48-56c5392d3a4a\")\n",
        "        if ($myPB.hasClass('ui-progressbar')) {\n",
        "            $myPB.progressbar('value', 378);\n",
        "        } else {\n",
        "            $myPB.progressbar({value: 0, max: 2029});\n",
        "        }\n",
        "        "
       ],
       "metadata": {},
       "output_type": "display_data",
       "text": [
        "<IPython.core.display.Javascript at 0x17174940>"
       ]
      },
      {
       "javascript": [
        "$('div#184ef629-7f25-4d6c-a5c4-4f2caa6d242c').text('ETA:  0:00:00');"
       ],
       "metadata": {},
       "output_type": "display_data",
       "text": [
        "<IPython.core.display.Javascript at 0x17174c18>"
       ]
      },
      {
       "javascript": [
        "$('div#4cbe9b79-9a95-42a3-a3ed-b5095d208c3d').text('399 of 2029');"
       ],
       "metadata": {},
       "output_type": "display_data",
       "text": [
        "<IPython.core.display.Javascript at 0x171740b8>"
       ]
      },
      {
       "javascript": [
        "$('div#3062a13d-da10-4e14-b6d5-56d2dea558de').text(' 19%');"
       ],
       "metadata": {},
       "output_type": "display_data",
       "text": [
        "<IPython.core.display.Javascript at 0x17174c18>"
       ]
      },
      {
       "javascript": [
        "\n",
        "        var $myPB = $(\"div#71187625-7fa2-4bbb-bb48-56c5392d3a4a\")\n",
        "        if ($myPB.hasClass('ui-progressbar')) {\n",
        "            $myPB.progressbar('value', 399);\n",
        "        } else {\n",
        "            $myPB.progressbar({value: 0, max: 2029});\n",
        "        }\n",
        "        "
       ],
       "metadata": {},
       "output_type": "display_data",
       "text": [
        "<IPython.core.display.Javascript at 0x17174940>"
       ]
      },
      {
       "javascript": [
        "$('div#184ef629-7f25-4d6c-a5c4-4f2caa6d242c').text('ETA:  0:00:00');"
       ],
       "metadata": {},
       "output_type": "display_data",
       "text": [
        "<IPython.core.display.Javascript at 0x17174940>"
       ]
      },
      {
       "javascript": [
        "$('div#4cbe9b79-9a95-42a3-a3ed-b5095d208c3d').text('420 of 2029');"
       ],
       "metadata": {},
       "output_type": "display_data",
       "text": [
        "<IPython.core.display.Javascript at 0x17174c18>"
       ]
      },
      {
       "javascript": [
        "$('div#3062a13d-da10-4e14-b6d5-56d2dea558de').text(' 20%');"
       ],
       "metadata": {},
       "output_type": "display_data",
       "text": [
        "<IPython.core.display.Javascript at 0x17174940>"
       ]
      },
      {
       "javascript": [
        "\n",
        "        var $myPB = $(\"div#71187625-7fa2-4bbb-bb48-56c5392d3a4a\")\n",
        "        if ($myPB.hasClass('ui-progressbar')) {\n",
        "            $myPB.progressbar('value', 420);\n",
        "        } else {\n",
        "            $myPB.progressbar({value: 0, max: 2029});\n",
        "        }\n",
        "        "
       ],
       "metadata": {},
       "output_type": "display_data",
       "text": [
        "<IPython.core.display.Javascript at 0x171740b8>"
       ]
      },
      {
       "javascript": [
        "$('div#184ef629-7f25-4d6c-a5c4-4f2caa6d242c').text('ETA:  0:00:00');"
       ],
       "metadata": {},
       "output_type": "display_data",
       "text": [
        "<IPython.core.display.Javascript at 0x1b324f28>"
       ]
      },
      {
       "javascript": [
        "$('div#4cbe9b79-9a95-42a3-a3ed-b5095d208c3d').text('441 of 2029');"
       ],
       "metadata": {},
       "output_type": "display_data",
       "text": [
        "<IPython.core.display.Javascript at 0x171740b8>"
       ]
      },
      {
       "javascript": [
        "$('div#3062a13d-da10-4e14-b6d5-56d2dea558de').text(' 21%');"
       ],
       "metadata": {},
       "output_type": "display_data",
       "text": [
        "<IPython.core.display.Javascript at 0x17174940>"
       ]
      },
      {
       "javascript": [
        "\n",
        "        var $myPB = $(\"div#71187625-7fa2-4bbb-bb48-56c5392d3a4a\")\n",
        "        if ($myPB.hasClass('ui-progressbar')) {\n",
        "            $myPB.progressbar('value', 441);\n",
        "        } else {\n",
        "            $myPB.progressbar({value: 0, max: 2029});\n",
        "        }\n",
        "        "
       ],
       "metadata": {},
       "output_type": "display_data",
       "text": [
        "<IPython.core.display.Javascript at 0x17174940>"
       ]
      },
      {
       "javascript": [
        "$('div#184ef629-7f25-4d6c-a5c4-4f2caa6d242c').text('ETA:  0:00:00');"
       ],
       "metadata": {},
       "output_type": "display_data",
       "text": [
        "<IPython.core.display.Javascript at 0x17174c18>"
       ]
      },
      {
       "javascript": [
        "$('div#4cbe9b79-9a95-42a3-a3ed-b5095d208c3d').text('462 of 2029');"
       ],
       "metadata": {},
       "output_type": "display_data",
       "text": [
        "<IPython.core.display.Javascript at 0x171740b8>"
       ]
      },
      {
       "javascript": [
        "$('div#3062a13d-da10-4e14-b6d5-56d2dea558de').text(' 22%');"
       ],
       "metadata": {},
       "output_type": "display_data",
       "text": [
        "<IPython.core.display.Javascript at 0x17174c18>"
       ]
      },
      {
       "javascript": [
        "\n",
        "        var $myPB = $(\"div#71187625-7fa2-4bbb-bb48-56c5392d3a4a\")\n",
        "        if ($myPB.hasClass('ui-progressbar')) {\n",
        "            $myPB.progressbar('value', 462);\n",
        "        } else {\n",
        "            $myPB.progressbar({value: 0, max: 2029});\n",
        "        }\n",
        "        "
       ],
       "metadata": {},
       "output_type": "display_data",
       "text": [
        "<IPython.core.display.Javascript at 0x17174940>"
       ]
      },
      {
       "javascript": [
        "$('div#184ef629-7f25-4d6c-a5c4-4f2caa6d242c').text('ETA:  0:00:00');"
       ],
       "metadata": {},
       "output_type": "display_data",
       "text": [
        "<IPython.core.display.Javascript at 0x1b324f28>"
       ]
      },
      {
       "javascript": [
        "$('div#4cbe9b79-9a95-42a3-a3ed-b5095d208c3d').text('483 of 2029');"
       ],
       "metadata": {},
       "output_type": "display_data",
       "text": [
        "<IPython.core.display.Javascript at 0x17174940>"
       ]
      },
      {
       "javascript": [
        "$('div#3062a13d-da10-4e14-b6d5-56d2dea558de').text(' 23%');"
       ],
       "metadata": {},
       "output_type": "display_data",
       "text": [
        "<IPython.core.display.Javascript at 0x17174c18>"
       ]
      },
      {
       "javascript": [
        "\n",
        "        var $myPB = $(\"div#71187625-7fa2-4bbb-bb48-56c5392d3a4a\")\n",
        "        if ($myPB.hasClass('ui-progressbar')) {\n",
        "            $myPB.progressbar('value', 483);\n",
        "        } else {\n",
        "            $myPB.progressbar({value: 0, max: 2029});\n",
        "        }\n",
        "        "
       ],
       "metadata": {},
       "output_type": "display_data",
       "text": [
        "<IPython.core.display.Javascript at 0x17174c18>"
       ]
      },
      {
       "javascript": [
        "$('div#184ef629-7f25-4d6c-a5c4-4f2caa6d242c').text('ETA:  0:00:00');"
       ],
       "metadata": {},
       "output_type": "display_data",
       "text": [
        "<IPython.core.display.Javascript at 0x171740b8>"
       ]
      },
      {
       "javascript": [
        "$('div#4cbe9b79-9a95-42a3-a3ed-b5095d208c3d').text('504 of 2029');"
       ],
       "metadata": {},
       "output_type": "display_data",
       "text": [
        "<IPython.core.display.Javascript at 0x17174940>"
       ]
      },
      {
       "javascript": [
        "$('div#3062a13d-da10-4e14-b6d5-56d2dea558de').text(' 24%');"
       ],
       "metadata": {},
       "output_type": "display_data",
       "text": [
        "<IPython.core.display.Javascript at 0x171740b8>"
       ]
      },
      {
       "javascript": [
        "\n",
        "        var $myPB = $(\"div#71187625-7fa2-4bbb-bb48-56c5392d3a4a\")\n",
        "        if ($myPB.hasClass('ui-progressbar')) {\n",
        "            $myPB.progressbar('value', 504);\n",
        "        } else {\n",
        "            $myPB.progressbar({value: 0, max: 2029});\n",
        "        }\n",
        "        "
       ],
       "metadata": {},
       "output_type": "display_data",
       "text": [
        "<IPython.core.display.Javascript at 0x17174c18>"
       ]
      },
      {
       "javascript": [
        "$('div#184ef629-7f25-4d6c-a5c4-4f2caa6d242c').text('ETA:  0:00:00');"
       ],
       "metadata": {},
       "output_type": "display_data",
       "text": [
        "<IPython.core.display.Javascript at 0x1b324a20>"
       ]
      },
      {
       "javascript": [
        "$('div#4cbe9b79-9a95-42a3-a3ed-b5095d208c3d').text('525 of 2029');"
       ],
       "metadata": {},
       "output_type": "display_data",
       "text": [
        "<IPython.core.display.Javascript at 0x17174c18>"
       ]
      },
      {
       "javascript": [
        "$('div#3062a13d-da10-4e14-b6d5-56d2dea558de').text(' 25%');"
       ],
       "metadata": {},
       "output_type": "display_data",
       "text": [
        "<IPython.core.display.Javascript at 0x171740b8>"
       ]
      },
      {
       "javascript": [
        "\n",
        "        var $myPB = $(\"div#71187625-7fa2-4bbb-bb48-56c5392d3a4a\")\n",
        "        if ($myPB.hasClass('ui-progressbar')) {\n",
        "            $myPB.progressbar('value', 525);\n",
        "        } else {\n",
        "            $myPB.progressbar({value: 0, max: 2029});\n",
        "        }\n",
        "        "
       ],
       "metadata": {},
       "output_type": "display_data",
       "text": [
        "<IPython.core.display.Javascript at 0x171740b8>"
       ]
      },
      {
       "javascript": [
        "$('div#184ef629-7f25-4d6c-a5c4-4f2caa6d242c').text('ETA:  0:00:00');"
       ],
       "metadata": {},
       "output_type": "display_data",
       "text": [
        "<IPython.core.display.Javascript at 0x17174940>"
       ]
      },
      {
       "javascript": [
        "$('div#4cbe9b79-9a95-42a3-a3ed-b5095d208c3d').text('546 of 2029');"
       ],
       "metadata": {},
       "output_type": "display_data",
       "text": [
        "<IPython.core.display.Javascript at 0x17174c18>"
       ]
      },
      {
       "javascript": [
        "$('div#3062a13d-da10-4e14-b6d5-56d2dea558de').text(' 26%');"
       ],
       "metadata": {},
       "output_type": "display_data",
       "text": [
        "<IPython.core.display.Javascript at 0x17174940>"
       ]
      },
      {
       "javascript": [
        "\n",
        "        var $myPB = $(\"div#71187625-7fa2-4bbb-bb48-56c5392d3a4a\")\n",
        "        if ($myPB.hasClass('ui-progressbar')) {\n",
        "            $myPB.progressbar('value', 546);\n",
        "        } else {\n",
        "            $myPB.progressbar({value: 0, max: 2029});\n",
        "        }\n",
        "        "
       ],
       "metadata": {},
       "output_type": "display_data",
       "text": [
        "<IPython.core.display.Javascript at 0x171740b8>"
       ]
      },
      {
       "javascript": [
        "$('div#184ef629-7f25-4d6c-a5c4-4f2caa6d242c').text('ETA:  0:00:00');"
       ],
       "metadata": {},
       "output_type": "display_data",
       "text": [
        "<IPython.core.display.Javascript at 0x1b324a20>"
       ]
      },
      {
       "javascript": [
        "$('div#4cbe9b79-9a95-42a3-a3ed-b5095d208c3d').text('567 of 2029');"
       ],
       "metadata": {},
       "output_type": "display_data",
       "text": [
        "<IPython.core.display.Javascript at 0x17174940>"
       ]
      },
      {
       "javascript": [
        "$('div#3062a13d-da10-4e14-b6d5-56d2dea558de').text(' 27%');"
       ],
       "metadata": {},
       "output_type": "display_data",
       "text": [
        "<IPython.core.display.Javascript at 0x171740b8>"
       ]
      },
      {
       "javascript": [
        "\n",
        "        var $myPB = $(\"div#71187625-7fa2-4bbb-bb48-56c5392d3a4a\")\n",
        "        if ($myPB.hasClass('ui-progressbar')) {\n",
        "            $myPB.progressbar('value', 567);\n",
        "        } else {\n",
        "            $myPB.progressbar({value: 0, max: 2029});\n",
        "        }\n",
        "        "
       ],
       "metadata": {},
       "output_type": "display_data",
       "text": [
        "<IPython.core.display.Javascript at 0x171740b8>"
       ]
      },
      {
       "javascript": [
        "$('div#184ef629-7f25-4d6c-a5c4-4f2caa6d242c').text('ETA:  0:00:00');"
       ],
       "metadata": {},
       "output_type": "display_data",
       "text": [
        "<IPython.core.display.Javascript at 0x17174c18>"
       ]
      },
      {
       "javascript": [
        "$('div#4cbe9b79-9a95-42a3-a3ed-b5095d208c3d').text('588 of 2029');"
       ],
       "metadata": {},
       "output_type": "display_data",
       "text": [
        "<IPython.core.display.Javascript at 0x17174940>"
       ]
      },
      {
       "javascript": [
        "$('div#3062a13d-da10-4e14-b6d5-56d2dea558de').text(' 28%');"
       ],
       "metadata": {},
       "output_type": "display_data",
       "text": [
        "<IPython.core.display.Javascript at 0x17174c18>"
       ]
      },
      {
       "javascript": [
        "\n",
        "        var $myPB = $(\"div#71187625-7fa2-4bbb-bb48-56c5392d3a4a\")\n",
        "        if ($myPB.hasClass('ui-progressbar')) {\n",
        "            $myPB.progressbar('value', 588);\n",
        "        } else {\n",
        "            $myPB.progressbar({value: 0, max: 2029});\n",
        "        }\n",
        "        "
       ],
       "metadata": {},
       "output_type": "display_data",
       "text": [
        "<IPython.core.display.Javascript at 0x171740b8>"
       ]
      },
      {
       "javascript": [
        "$('div#184ef629-7f25-4d6c-a5c4-4f2caa6d242c').text('ETA:  0:00:00');"
       ],
       "metadata": {},
       "output_type": "display_data",
       "text": [
        "<IPython.core.display.Javascript at 0x1b324a20>"
       ]
      },
      {
       "javascript": [
        "$('div#4cbe9b79-9a95-42a3-a3ed-b5095d208c3d').text('609 of 2029');"
       ],
       "metadata": {},
       "output_type": "display_data",
       "text": [
        "<IPython.core.display.Javascript at 0x171740b8>"
       ]
      },
      {
       "javascript": [
        "$('div#3062a13d-da10-4e14-b6d5-56d2dea558de').text(' 30%');"
       ],
       "metadata": {},
       "output_type": "display_data",
       "text": [
        "<IPython.core.display.Javascript at 0x17174c18>"
       ]
      },
      {
       "javascript": [
        "\n",
        "        var $myPB = $(\"div#71187625-7fa2-4bbb-bb48-56c5392d3a4a\")\n",
        "        if ($myPB.hasClass('ui-progressbar')) {\n",
        "            $myPB.progressbar('value', 609);\n",
        "        } else {\n",
        "            $myPB.progressbar({value: 0, max: 2029});\n",
        "        }\n",
        "        "
       ],
       "metadata": {},
       "output_type": "display_data",
       "text": [
        "<IPython.core.display.Javascript at 0x17174c18>"
       ]
      },
      {
       "javascript": [
        "$('div#184ef629-7f25-4d6c-a5c4-4f2caa6d242c').text('ETA:  0:00:00');"
       ],
       "metadata": {},
       "output_type": "display_data",
       "text": [
        "<IPython.core.display.Javascript at 0x17174940>"
       ]
      },
      {
       "javascript": [
        "$('div#4cbe9b79-9a95-42a3-a3ed-b5095d208c3d').text('630 of 2029');"
       ],
       "metadata": {},
       "output_type": "display_data",
       "text": [
        "<IPython.core.display.Javascript at 0x171740b8>"
       ]
      },
      {
       "javascript": [
        "$('div#3062a13d-da10-4e14-b6d5-56d2dea558de').text(' 31%');"
       ],
       "metadata": {},
       "output_type": "display_data",
       "text": [
        "<IPython.core.display.Javascript at 0x17174940>"
       ]
      },
      {
       "javascript": [
        "\n",
        "        var $myPB = $(\"div#71187625-7fa2-4bbb-bb48-56c5392d3a4a\")\n",
        "        if ($myPB.hasClass('ui-progressbar')) {\n",
        "            $myPB.progressbar('value', 630);\n",
        "        } else {\n",
        "            $myPB.progressbar({value: 0, max: 2029});\n",
        "        }\n",
        "        "
       ],
       "metadata": {},
       "output_type": "display_data",
       "text": [
        "<IPython.core.display.Javascript at 0x17174c18>"
       ]
      },
      {
       "javascript": [
        "$('div#184ef629-7f25-4d6c-a5c4-4f2caa6d242c').text('ETA:  0:00:00');"
       ],
       "metadata": {},
       "output_type": "display_data",
       "text": [
        "<IPython.core.display.Javascript at 0x1b324a20>"
       ]
      },
      {
       "javascript": [
        "$('div#4cbe9b79-9a95-42a3-a3ed-b5095d208c3d').text('651 of 2029');"
       ],
       "metadata": {},
       "output_type": "display_data",
       "text": [
        "<IPython.core.display.Javascript at 0x17174c18>"
       ]
      },
      {
       "javascript": [
        "$('div#3062a13d-da10-4e14-b6d5-56d2dea558de').text(' 32%');"
       ],
       "metadata": {},
       "output_type": "display_data",
       "text": [
        "<IPython.core.display.Javascript at 0x17174940>"
       ]
      },
      {
       "javascript": [
        "\n",
        "        var $myPB = $(\"div#71187625-7fa2-4bbb-bb48-56c5392d3a4a\")\n",
        "        if ($myPB.hasClass('ui-progressbar')) {\n",
        "            $myPB.progressbar('value', 651);\n",
        "        } else {\n",
        "            $myPB.progressbar({value: 0, max: 2029});\n",
        "        }\n",
        "        "
       ],
       "metadata": {},
       "output_type": "display_data",
       "text": [
        "<IPython.core.display.Javascript at 0x17174940>"
       ]
      },
      {
       "javascript": [
        "$('div#184ef629-7f25-4d6c-a5c4-4f2caa6d242c').text('ETA:  0:00:00');"
       ],
       "metadata": {},
       "output_type": "display_data",
       "text": [
        "<IPython.core.display.Javascript at 0x171740b8>"
       ]
      },
      {
       "javascript": [
        "$('div#4cbe9b79-9a95-42a3-a3ed-b5095d208c3d').text('672 of 2029');"
       ],
       "metadata": {},
       "output_type": "display_data",
       "text": [
        "<IPython.core.display.Javascript at 0x17174c18>"
       ]
      },
      {
       "javascript": [
        "$('div#3062a13d-da10-4e14-b6d5-56d2dea558de').text(' 33%');"
       ],
       "metadata": {},
       "output_type": "display_data",
       "text": [
        "<IPython.core.display.Javascript at 0x171740b8>"
       ]
      },
      {
       "javascript": [
        "\n",
        "        var $myPB = $(\"div#71187625-7fa2-4bbb-bb48-56c5392d3a4a\")\n",
        "        if ($myPB.hasClass('ui-progressbar')) {\n",
        "            $myPB.progressbar('value', 672);\n",
        "        } else {\n",
        "            $myPB.progressbar({value: 0, max: 2029});\n",
        "        }\n",
        "        "
       ],
       "metadata": {},
       "output_type": "display_data",
       "text": [
        "<IPython.core.display.Javascript at 0x17174940>"
       ]
      },
      {
       "javascript": [
        "$('div#184ef629-7f25-4d6c-a5c4-4f2caa6d242c').text('ETA:  0:00:00');"
       ],
       "metadata": {},
       "output_type": "display_data",
       "text": [
        "<IPython.core.display.Javascript at 0x17174940>"
       ]
      },
      {
       "javascript": [
        "$('div#4cbe9b79-9a95-42a3-a3ed-b5095d208c3d').text('693 of 2029');"
       ],
       "metadata": {},
       "output_type": "display_data",
       "text": [
        "<IPython.core.display.Javascript at 0x171740b8>"
       ]
      },
      {
       "javascript": [
        "$('div#3062a13d-da10-4e14-b6d5-56d2dea558de').text(' 34%');"
       ],
       "metadata": {},
       "output_type": "display_data",
       "text": [
        "<IPython.core.display.Javascript at 0x171740b8>"
       ]
      },
      {
       "javascript": [
        "\n",
        "        var $myPB = $(\"div#71187625-7fa2-4bbb-bb48-56c5392d3a4a\")\n",
        "        if ($myPB.hasClass('ui-progressbar')) {\n",
        "            $myPB.progressbar('value', 693);\n",
        "        } else {\n",
        "            $myPB.progressbar({value: 0, max: 2029});\n",
        "        }\n",
        "        "
       ],
       "metadata": {},
       "output_type": "display_data",
       "text": [
        "<IPython.core.display.Javascript at 0x17174c18>"
       ]
      },
      {
       "javascript": [
        "$('div#184ef629-7f25-4d6c-a5c4-4f2caa6d242c').text('ETA:  0:00:00');"
       ],
       "metadata": {},
       "output_type": "display_data",
       "text": [
        "<IPython.core.display.Javascript at 0x17174940>"
       ]
      },
      {
       "javascript": [
        "$('div#4cbe9b79-9a95-42a3-a3ed-b5095d208c3d').text('714 of 2029');"
       ],
       "metadata": {},
       "output_type": "display_data",
       "text": [
        "<IPython.core.display.Javascript at 0x17174940>"
       ]
      },
      {
       "javascript": [
        "$('div#3062a13d-da10-4e14-b6d5-56d2dea558de').text(' 35%');"
       ],
       "metadata": {},
       "output_type": "display_data",
       "text": [
        "<IPython.core.display.Javascript at 0x17174c18>"
       ]
      },
      {
       "javascript": [
        "\n",
        "        var $myPB = $(\"div#71187625-7fa2-4bbb-bb48-56c5392d3a4a\")\n",
        "        if ($myPB.hasClass('ui-progressbar')) {\n",
        "            $myPB.progressbar('value', 714);\n",
        "        } else {\n",
        "            $myPB.progressbar({value: 0, max: 2029});\n",
        "        }\n",
        "        "
       ],
       "metadata": {},
       "output_type": "display_data",
       "text": [
        "<IPython.core.display.Javascript at 0x171740b8>"
       ]
      },
      {
       "javascript": [
        "$('div#184ef629-7f25-4d6c-a5c4-4f2caa6d242c').text('ETA:  0:00:00');"
       ],
       "metadata": {},
       "output_type": "display_data",
       "text": [
        "<IPython.core.display.Javascript at 0x171740b8>"
       ]
      },
      {
       "javascript": [
        "$('div#4cbe9b79-9a95-42a3-a3ed-b5095d208c3d').text('735 of 2029');"
       ],
       "metadata": {},
       "output_type": "display_data",
       "text": [
        "<IPython.core.display.Javascript at 0x17174940>"
       ]
      },
      {
       "javascript": [
        "$('div#3062a13d-da10-4e14-b6d5-56d2dea558de').text(' 36%');"
       ],
       "metadata": {},
       "output_type": "display_data",
       "text": [
        "<IPython.core.display.Javascript at 0x171740b8>"
       ]
      },
      {
       "javascript": [
        "\n",
        "        var $myPB = $(\"div#71187625-7fa2-4bbb-bb48-56c5392d3a4a\")\n",
        "        if ($myPB.hasClass('ui-progressbar')) {\n",
        "            $myPB.progressbar('value', 735);\n",
        "        } else {\n",
        "            $myPB.progressbar({value: 0, max: 2029});\n",
        "        }\n",
        "        "
       ],
       "metadata": {},
       "output_type": "display_data",
       "text": [
        "<IPython.core.display.Javascript at 0x17174c18>"
       ]
      },
      {
       "javascript": [
        "$('div#184ef629-7f25-4d6c-a5c4-4f2caa6d242c').text('ETA:  0:00:00');"
       ],
       "metadata": {},
       "output_type": "display_data",
       "text": [
        "<IPython.core.display.Javascript at 0x17174c18>"
       ]
      },
      {
       "javascript": [
        "$('div#4cbe9b79-9a95-42a3-a3ed-b5095d208c3d').text('756 of 2029');"
       ],
       "metadata": {},
       "output_type": "display_data",
       "text": [
        "<IPython.core.display.Javascript at 0x171740b8>"
       ]
      },
      {
       "javascript": [
        "$('div#3062a13d-da10-4e14-b6d5-56d2dea558de').text(' 37%');"
       ],
       "metadata": {},
       "output_type": "display_data",
       "text": [
        "<IPython.core.display.Javascript at 0x171740b8>"
       ]
      },
      {
       "javascript": [
        "\n",
        "        var $myPB = $(\"div#71187625-7fa2-4bbb-bb48-56c5392d3a4a\")\n",
        "        if ($myPB.hasClass('ui-progressbar')) {\n",
        "            $myPB.progressbar('value', 756);\n",
        "        } else {\n",
        "            $myPB.progressbar({value: 0, max: 2029});\n",
        "        }\n",
        "        "
       ],
       "metadata": {},
       "output_type": "display_data",
       "text": [
        "<IPython.core.display.Javascript at 0x17174940>"
       ]
      },
      {
       "javascript": [
        "$('div#184ef629-7f25-4d6c-a5c4-4f2caa6d242c').text('ETA:  0:00:00');"
       ],
       "metadata": {},
       "output_type": "display_data",
       "text": [
        "<IPython.core.display.Javascript at 0x17174c18>"
       ]
      },
      {
       "javascript": [
        "$('div#4cbe9b79-9a95-42a3-a3ed-b5095d208c3d').text('777 of 2029');"
       ],
       "metadata": {},
       "output_type": "display_data",
       "text": [
        "<IPython.core.display.Javascript at 0x17174c18>"
       ]
      },
      {
       "javascript": [
        "$('div#3062a13d-da10-4e14-b6d5-56d2dea558de').text(' 38%');"
       ],
       "metadata": {},
       "output_type": "display_data",
       "text": [
        "<IPython.core.display.Javascript at 0x17174940>"
       ]
      },
      {
       "javascript": [
        "\n",
        "        var $myPB = $(\"div#71187625-7fa2-4bbb-bb48-56c5392d3a4a\")\n",
        "        if ($myPB.hasClass('ui-progressbar')) {\n",
        "            $myPB.progressbar('value', 777);\n",
        "        } else {\n",
        "            $myPB.progressbar({value: 0, max: 2029});\n",
        "        }\n",
        "        "
       ],
       "metadata": {},
       "output_type": "display_data",
       "text": [
        "<IPython.core.display.Javascript at 0x171740b8>"
       ]
      },
      {
       "javascript": [
        "$('div#184ef629-7f25-4d6c-a5c4-4f2caa6d242c').text('ETA:  0:00:00');"
       ],
       "metadata": {},
       "output_type": "display_data",
       "text": [
        "<IPython.core.display.Javascript at 0x171740b8>"
       ]
      },
      {
       "javascript": [
        "$('div#4cbe9b79-9a95-42a3-a3ed-b5095d208c3d').text('798 of 2029');"
       ],
       "metadata": {},
       "output_type": "display_data",
       "text": [
        "<IPython.core.display.Javascript at 0x17174940>"
       ]
      },
      {
       "javascript": [
        "$('div#3062a13d-da10-4e14-b6d5-56d2dea558de').text(' 39%');"
       ],
       "metadata": {},
       "output_type": "display_data",
       "text": [
        "<IPython.core.display.Javascript at 0x171740b8>"
       ]
      },
      {
       "javascript": [
        "\n",
        "        var $myPB = $(\"div#71187625-7fa2-4bbb-bb48-56c5392d3a4a\")\n",
        "        if ($myPB.hasClass('ui-progressbar')) {\n",
        "            $myPB.progressbar('value', 798);\n",
        "        } else {\n",
        "            $myPB.progressbar({value: 0, max: 2029});\n",
        "        }\n",
        "        "
       ],
       "metadata": {},
       "output_type": "display_data",
       "text": [
        "<IPython.core.display.Javascript at 0x17174c18>"
       ]
      },
      {
       "javascript": [
        "$('div#184ef629-7f25-4d6c-a5c4-4f2caa6d242c').text('ETA:  0:00:00');"
       ],
       "metadata": {},
       "output_type": "display_data",
       "text": [
        "<IPython.core.display.Javascript at 0x1b324278>"
       ]
      },
      {
       "javascript": [
        "$('div#4cbe9b79-9a95-42a3-a3ed-b5095d208c3d').text('819 of 2029');"
       ],
       "metadata": {},
       "output_type": "display_data",
       "text": [
        "<IPython.core.display.Javascript at 0x17174c18>"
       ]
      },
      {
       "javascript": [
        "$('div#3062a13d-da10-4e14-b6d5-56d2dea558de').text(' 40%');"
       ],
       "metadata": {},
       "output_type": "display_data",
       "text": [
        "<IPython.core.display.Javascript at 0x171740b8>"
       ]
      },
      {
       "javascript": [
        "\n",
        "        var $myPB = $(\"div#71187625-7fa2-4bbb-bb48-56c5392d3a4a\")\n",
        "        if ($myPB.hasClass('ui-progressbar')) {\n",
        "            $myPB.progressbar('value', 819);\n",
        "        } else {\n",
        "            $myPB.progressbar({value: 0, max: 2029});\n",
        "        }\n",
        "        "
       ],
       "metadata": {},
       "output_type": "display_data",
       "text": [
        "<IPython.core.display.Javascript at 0x171740b8>"
       ]
      },
      {
       "javascript": [
        "$('div#184ef629-7f25-4d6c-a5c4-4f2caa6d242c').text('ETA:  0:00:00');"
       ],
       "metadata": {},
       "output_type": "display_data",
       "text": [
        "<IPython.core.display.Javascript at 0x17174940>"
       ]
      },
      {
       "javascript": [
        "$('div#4cbe9b79-9a95-42a3-a3ed-b5095d208c3d').text('840 of 2029');"
       ],
       "metadata": {},
       "output_type": "display_data",
       "text": [
        "<IPython.core.display.Javascript at 0x17174c18>"
       ]
      },
      {
       "javascript": [
        "$('div#3062a13d-da10-4e14-b6d5-56d2dea558de').text(' 41%');"
       ],
       "metadata": {},
       "output_type": "display_data",
       "text": [
        "<IPython.core.display.Javascript at 0x17174940>"
       ]
      },
      {
       "javascript": [
        "\n",
        "        var $myPB = $(\"div#71187625-7fa2-4bbb-bb48-56c5392d3a4a\")\n",
        "        if ($myPB.hasClass('ui-progressbar')) {\n",
        "            $myPB.progressbar('value', 840);\n",
        "        } else {\n",
        "            $myPB.progressbar({value: 0, max: 2029});\n",
        "        }\n",
        "        "
       ],
       "metadata": {},
       "output_type": "display_data",
       "text": [
        "<IPython.core.display.Javascript at 0x171740b8>"
       ]
      },
      {
       "javascript": [
        "$('div#184ef629-7f25-4d6c-a5c4-4f2caa6d242c').text('ETA:  0:00:00');"
       ],
       "metadata": {},
       "output_type": "display_data",
       "text": [
        "<IPython.core.display.Javascript at 0x1b324278>"
       ]
      },
      {
       "javascript": [
        "$('div#4cbe9b79-9a95-42a3-a3ed-b5095d208c3d').text('861 of 2029');"
       ],
       "metadata": {},
       "output_type": "display_data",
       "text": [
        "<IPython.core.display.Javascript at 0x171740b8>"
       ]
      },
      {
       "javascript": [
        "$('div#3062a13d-da10-4e14-b6d5-56d2dea558de').text(' 42%');"
       ],
       "metadata": {},
       "output_type": "display_data",
       "text": [
        "<IPython.core.display.Javascript at 0x17174940>"
       ]
      },
      {
       "javascript": [
        "\n",
        "        var $myPB = $(\"div#71187625-7fa2-4bbb-bb48-56c5392d3a4a\")\n",
        "        if ($myPB.hasClass('ui-progressbar')) {\n",
        "            $myPB.progressbar('value', 861);\n",
        "        } else {\n",
        "            $myPB.progressbar({value: 0, max: 2029});\n",
        "        }\n",
        "        "
       ],
       "metadata": {},
       "output_type": "display_data",
       "text": [
        "<IPython.core.display.Javascript at 0x17174940>"
       ]
      },
      {
       "javascript": [
        "$('div#184ef629-7f25-4d6c-a5c4-4f2caa6d242c').text('ETA:  0:00:00');"
       ],
       "metadata": {},
       "output_type": "display_data",
       "text": [
        "<IPython.core.display.Javascript at 0x17174c18>"
       ]
      },
      {
       "javascript": [
        "$('div#4cbe9b79-9a95-42a3-a3ed-b5095d208c3d').text('882 of 2029');"
       ],
       "metadata": {},
       "output_type": "display_data",
       "text": [
        "<IPython.core.display.Javascript at 0x171740b8>"
       ]
      },
      {
       "javascript": [
        "$('div#3062a13d-da10-4e14-b6d5-56d2dea558de').text(' 43%');"
       ],
       "metadata": {},
       "output_type": "display_data",
       "text": [
        "<IPython.core.display.Javascript at 0x17174c18>"
       ]
      },
      {
       "javascript": [
        "\n",
        "        var $myPB = $(\"div#71187625-7fa2-4bbb-bb48-56c5392d3a4a\")\n",
        "        if ($myPB.hasClass('ui-progressbar')) {\n",
        "            $myPB.progressbar('value', 882);\n",
        "        } else {\n",
        "            $myPB.progressbar({value: 0, max: 2029});\n",
        "        }\n",
        "        "
       ],
       "metadata": {},
       "output_type": "display_data",
       "text": [
        "<IPython.core.display.Javascript at 0x17174940>"
       ]
      },
      {
       "javascript": [
        "$('div#184ef629-7f25-4d6c-a5c4-4f2caa6d242c').text('ETA:  0:00:00');"
       ],
       "metadata": {},
       "output_type": "display_data",
       "text": [
        "<IPython.core.display.Javascript at 0x17174940>"
       ]
      },
      {
       "javascript": [
        "$('div#4cbe9b79-9a95-42a3-a3ed-b5095d208c3d').text('903 of 2029');"
       ],
       "metadata": {},
       "output_type": "display_data",
       "text": [
        "<IPython.core.display.Javascript at 0x17174c18>"
       ]
      },
      {
       "javascript": [
        "$('div#3062a13d-da10-4e14-b6d5-56d2dea558de').text(' 44%');"
       ],
       "metadata": {},
       "output_type": "display_data",
       "text": [
        "<IPython.core.display.Javascript at 0x17174c18>"
       ]
      },
      {
       "javascript": [
        "\n",
        "        var $myPB = $(\"div#71187625-7fa2-4bbb-bb48-56c5392d3a4a\")\n",
        "        if ($myPB.hasClass('ui-progressbar')) {\n",
        "            $myPB.progressbar('value', 903);\n",
        "        } else {\n",
        "            $myPB.progressbar({value: 0, max: 2029});\n",
        "        }\n",
        "        "
       ],
       "metadata": {},
       "output_type": "display_data",
       "text": [
        "<IPython.core.display.Javascript at 0x171740b8>"
       ]
      },
      {
       "javascript": [
        "$('div#184ef629-7f25-4d6c-a5c4-4f2caa6d242c').text('ETA:  0:00:00');"
       ],
       "metadata": {},
       "output_type": "display_data",
       "text": [
        "<IPython.core.display.Javascript at 0x17174940>"
       ]
      },
      {
       "javascript": [
        "$('div#4cbe9b79-9a95-42a3-a3ed-b5095d208c3d').text('924 of 2029');"
       ],
       "metadata": {},
       "output_type": "display_data",
       "text": [
        "<IPython.core.display.Javascript at 0x17174940>"
       ]
      },
      {
       "javascript": [
        "$('div#3062a13d-da10-4e14-b6d5-56d2dea558de').text(' 45%');"
       ],
       "metadata": {},
       "output_type": "display_data",
       "text": [
        "<IPython.core.display.Javascript at 0x171740b8>"
       ]
      },
      {
       "javascript": [
        "\n",
        "        var $myPB = $(\"div#71187625-7fa2-4bbb-bb48-56c5392d3a4a\")\n",
        "        if ($myPB.hasClass('ui-progressbar')) {\n",
        "            $myPB.progressbar('value', 924);\n",
        "        } else {\n",
        "            $myPB.progressbar({value: 0, max: 2029});\n",
        "        }\n",
        "        "
       ],
       "metadata": {},
       "output_type": "display_data",
       "text": [
        "<IPython.core.display.Javascript at 0x17174c18>"
       ]
      },
      {
       "javascript": [
        "$('div#184ef629-7f25-4d6c-a5c4-4f2caa6d242c').text('ETA:  0:00:00');"
       ],
       "metadata": {},
       "output_type": "display_data",
       "text": [
        "<IPython.core.display.Javascript at 0x17174c18>"
       ]
      },
      {
       "javascript": [
        "$('div#4cbe9b79-9a95-42a3-a3ed-b5095d208c3d').text('945 of 2029');"
       ],
       "metadata": {},
       "output_type": "display_data",
       "text": [
        "<IPython.core.display.Javascript at 0x171740b8>"
       ]
      },
      {
       "javascript": [
        "$('div#3062a13d-da10-4e14-b6d5-56d2dea558de').text(' 46%');"
       ],
       "metadata": {},
       "output_type": "display_data",
       "text": [
        "<IPython.core.display.Javascript at 0x171740b8>"
       ]
      },
      {
       "javascript": [
        "\n",
        "        var $myPB = $(\"div#71187625-7fa2-4bbb-bb48-56c5392d3a4a\")\n",
        "        if ($myPB.hasClass('ui-progressbar')) {\n",
        "            $myPB.progressbar('value', 945);\n",
        "        } else {\n",
        "            $myPB.progressbar({value: 0, max: 2029});\n",
        "        }\n",
        "        "
       ],
       "metadata": {},
       "output_type": "display_data",
       "text": [
        "<IPython.core.display.Javascript at 0x17174940>"
       ]
      },
      {
       "javascript": [
        "$('div#184ef629-7f25-4d6c-a5c4-4f2caa6d242c').text('ETA:  0:00:00');"
       ],
       "metadata": {},
       "output_type": "display_data",
       "text": [
        "<IPython.core.display.Javascript at 0x17174c18>"
       ]
      },
      {
       "javascript": [
        "$('div#4cbe9b79-9a95-42a3-a3ed-b5095d208c3d').text('966 of 2029');"
       ],
       "metadata": {},
       "output_type": "display_data",
       "text": [
        "<IPython.core.display.Javascript at 0x17174c18>"
       ]
      },
      {
       "javascript": [
        "$('div#3062a13d-da10-4e14-b6d5-56d2dea558de').text(' 47%');"
       ],
       "metadata": {},
       "output_type": "display_data",
       "text": [
        "<IPython.core.display.Javascript at 0x17174940>"
       ]
      },
      {
       "javascript": [
        "\n",
        "        var $myPB = $(\"div#71187625-7fa2-4bbb-bb48-56c5392d3a4a\")\n",
        "        if ($myPB.hasClass('ui-progressbar')) {\n",
        "            $myPB.progressbar('value', 966);\n",
        "        } else {\n",
        "            $myPB.progressbar({value: 0, max: 2029});\n",
        "        }\n",
        "        "
       ],
       "metadata": {},
       "output_type": "display_data",
       "text": [
        "<IPython.core.display.Javascript at 0x17174940>"
       ]
      },
      {
       "javascript": [
        "$('div#184ef629-7f25-4d6c-a5c4-4f2caa6d242c').text('ETA:  0:00:00');"
       ],
       "metadata": {},
       "output_type": "display_data",
       "text": [
        "<IPython.core.display.Javascript at 0x171740b8>"
       ]
      },
      {
       "javascript": [
        "$('div#4cbe9b79-9a95-42a3-a3ed-b5095d208c3d').text('987 of 2029');"
       ],
       "metadata": {},
       "output_type": "display_data",
       "text": [
        "<IPython.core.display.Javascript at 0x17174c18>"
       ]
      },
      {
       "javascript": [
        "$('div#3062a13d-da10-4e14-b6d5-56d2dea558de').text(' 48%');"
       ],
       "metadata": {},
       "output_type": "display_data",
       "text": [
        "<IPython.core.display.Javascript at 0x171740b8>"
       ]
      },
      {
       "javascript": [
        "\n",
        "        var $myPB = $(\"div#71187625-7fa2-4bbb-bb48-56c5392d3a4a\")\n",
        "        if ($myPB.hasClass('ui-progressbar')) {\n",
        "            $myPB.progressbar('value', 987);\n",
        "        } else {\n",
        "            $myPB.progressbar({value: 0, max: 2029});\n",
        "        }\n",
        "        "
       ],
       "metadata": {},
       "output_type": "display_data",
       "text": [
        "<IPython.core.display.Javascript at 0x17174940>"
       ]
      },
      {
       "javascript": [
        "$('div#184ef629-7f25-4d6c-a5c4-4f2caa6d242c').text('ETA:  0:00:00');"
       ],
       "metadata": {},
       "output_type": "display_data",
       "text": [
        "<IPython.core.display.Javascript at 0x17174940>"
       ]
      },
      {
       "javascript": [
        "$('div#4cbe9b79-9a95-42a3-a3ed-b5095d208c3d').text('1008 of 2029');"
       ],
       "metadata": {},
       "output_type": "display_data",
       "text": [
        "<IPython.core.display.Javascript at 0x171740b8>"
       ]
      },
      {
       "javascript": [
        "$('div#3062a13d-da10-4e14-b6d5-56d2dea558de').text(' 49%');"
       ],
       "metadata": {},
       "output_type": "display_data",
       "text": [
        "<IPython.core.display.Javascript at 0x17174c18>"
       ]
      },
      {
       "javascript": [
        "\n",
        "        var $myPB = $(\"div#71187625-7fa2-4bbb-bb48-56c5392d3a4a\")\n",
        "        if ($myPB.hasClass('ui-progressbar')) {\n",
        "            $myPB.progressbar('value', 1008);\n",
        "        } else {\n",
        "            $myPB.progressbar({value: 0, max: 2029});\n",
        "        }\n",
        "        "
       ],
       "metadata": {},
       "output_type": "display_data",
       "text": [
        "<IPython.core.display.Javascript at 0x17174940>"
       ]
      },
      {
       "javascript": [
        "$('div#184ef629-7f25-4d6c-a5c4-4f2caa6d242c').text('ETA:  0:00:00');"
       ],
       "metadata": {},
       "output_type": "display_data",
       "text": [
        "<IPython.core.display.Javascript at 0x1b324f28>"
       ]
      },
      {
       "javascript": [
        "$('div#4cbe9b79-9a95-42a3-a3ed-b5095d208c3d').text('1029 of 2029');"
       ],
       "metadata": {},
       "output_type": "display_data",
       "text": [
        "<IPython.core.display.Javascript at 0x17174940>"
       ]
      },
      {
       "javascript": [
        "$('div#3062a13d-da10-4e14-b6d5-56d2dea558de').text(' 50%');"
       ],
       "metadata": {},
       "output_type": "display_data",
       "text": [
        "<IPython.core.display.Javascript at 0x17174c18>"
       ]
      },
      {
       "javascript": [
        "\n",
        "        var $myPB = $(\"div#71187625-7fa2-4bbb-bb48-56c5392d3a4a\")\n",
        "        if ($myPB.hasClass('ui-progressbar')) {\n",
        "            $myPB.progressbar('value', 1029);\n",
        "        } else {\n",
        "            $myPB.progressbar({value: 0, max: 2029});\n",
        "        }\n",
        "        "
       ],
       "metadata": {},
       "output_type": "display_data",
       "text": [
        "<IPython.core.display.Javascript at 0x17174c18>"
       ]
      },
      {
       "javascript": [
        "$('div#184ef629-7f25-4d6c-a5c4-4f2caa6d242c').text('ETA:  0:00:00');"
       ],
       "metadata": {},
       "output_type": "display_data",
       "text": [
        "<IPython.core.display.Javascript at 0x171740b8>"
       ]
      },
      {
       "javascript": [
        "$('div#4cbe9b79-9a95-42a3-a3ed-b5095d208c3d').text('1050 of 2029');"
       ],
       "metadata": {},
       "output_type": "display_data",
       "text": [
        "<IPython.core.display.Javascript at 0x17174940>"
       ]
      },
      {
       "javascript": [
        "$('div#3062a13d-da10-4e14-b6d5-56d2dea558de').text(' 51%');"
       ],
       "metadata": {},
       "output_type": "display_data",
       "text": [
        "<IPython.core.display.Javascript at 0x171740b8>"
       ]
      },
      {
       "javascript": [
        "\n",
        "        var $myPB = $(\"div#71187625-7fa2-4bbb-bb48-56c5392d3a4a\")\n",
        "        if ($myPB.hasClass('ui-progressbar')) {\n",
        "            $myPB.progressbar('value', 1050);\n",
        "        } else {\n",
        "            $myPB.progressbar({value: 0, max: 2029});\n",
        "        }\n",
        "        "
       ],
       "metadata": {},
       "output_type": "display_data",
       "text": [
        "<IPython.core.display.Javascript at 0x17174c18>"
       ]
      },
      {
       "javascript": [
        "$('div#184ef629-7f25-4d6c-a5c4-4f2caa6d242c').text('ETA:  0:00:00');"
       ],
       "metadata": {},
       "output_type": "display_data",
       "text": [
        "<IPython.core.display.Javascript at 0x17174c18>"
       ]
      },
      {
       "javascript": [
        "$('div#4cbe9b79-9a95-42a3-a3ed-b5095d208c3d').text('1071 of 2029');"
       ],
       "metadata": {},
       "output_type": "display_data",
       "text": [
        "<IPython.core.display.Javascript at 0x171740b8>"
       ]
      },
      {
       "javascript": [
        "$('div#3062a13d-da10-4e14-b6d5-56d2dea558de').text(' 52%');"
       ],
       "metadata": {},
       "output_type": "display_data",
       "text": [
        "<IPython.core.display.Javascript at 0x171740b8>"
       ]
      },
      {
       "javascript": [
        "\n",
        "        var $myPB = $(\"div#71187625-7fa2-4bbb-bb48-56c5392d3a4a\")\n",
        "        if ($myPB.hasClass('ui-progressbar')) {\n",
        "            $myPB.progressbar('value', 1071);\n",
        "        } else {\n",
        "            $myPB.progressbar({value: 0, max: 2029});\n",
        "        }\n",
        "        "
       ],
       "metadata": {},
       "output_type": "display_data",
       "text": [
        "<IPython.core.display.Javascript at 0x17174940>"
       ]
      },
      {
       "javascript": [
        "$('div#184ef629-7f25-4d6c-a5c4-4f2caa6d242c').text('ETA:  0:00:00');"
       ],
       "metadata": {},
       "output_type": "display_data",
       "text": [
        "<IPython.core.display.Javascript at 0x17174c18>"
       ]
      },
      {
       "javascript": [
        "$('div#4cbe9b79-9a95-42a3-a3ed-b5095d208c3d').text('1092 of 2029');"
       ],
       "metadata": {},
       "output_type": "display_data",
       "text": [
        "<IPython.core.display.Javascript at 0x17174c18>"
       ]
      },
      {
       "javascript": [
        "$('div#3062a13d-da10-4e14-b6d5-56d2dea558de').text(' 53%');"
       ],
       "metadata": {},
       "output_type": "display_data",
       "text": [
        "<IPython.core.display.Javascript at 0x17174940>"
       ]
      },
      {
       "javascript": [
        "\n",
        "        var $myPB = $(\"div#71187625-7fa2-4bbb-bb48-56c5392d3a4a\")\n",
        "        if ($myPB.hasClass('ui-progressbar')) {\n",
        "            $myPB.progressbar('value', 1092);\n",
        "        } else {\n",
        "            $myPB.progressbar({value: 0, max: 2029});\n",
        "        }\n",
        "        "
       ],
       "metadata": {},
       "output_type": "display_data",
       "text": [
        "<IPython.core.display.Javascript at 0x171740b8>"
       ]
      },
      {
       "javascript": [
        "$('div#184ef629-7f25-4d6c-a5c4-4f2caa6d242c').text('ETA:  0:00:00');"
       ],
       "metadata": {},
       "output_type": "display_data",
       "text": [
        "<IPython.core.display.Javascript at 0x171740b8>"
       ]
      },
      {
       "javascript": [
        "$('div#4cbe9b79-9a95-42a3-a3ed-b5095d208c3d').text('1113 of 2029');"
       ],
       "metadata": {},
       "output_type": "display_data",
       "text": [
        "<IPython.core.display.Javascript at 0x17174940>"
       ]
      },
      {
       "javascript": [
        "$('div#3062a13d-da10-4e14-b6d5-56d2dea558de').text(' 54%');"
       ],
       "metadata": {},
       "output_type": "display_data",
       "text": [
        "<IPython.core.display.Javascript at 0x17174c18>"
       ]
      },
      {
       "javascript": [
        "\n",
        "        var $myPB = $(\"div#71187625-7fa2-4bbb-bb48-56c5392d3a4a\")\n",
        "        if ($myPB.hasClass('ui-progressbar')) {\n",
        "            $myPB.progressbar('value', 1113);\n",
        "        } else {\n",
        "            $myPB.progressbar({value: 0, max: 2029});\n",
        "        }\n",
        "        "
       ],
       "metadata": {},
       "output_type": "display_data",
       "text": [
        "<IPython.core.display.Javascript at 0x17174c18>"
       ]
      },
      {
       "javascript": [
        "$('div#184ef629-7f25-4d6c-a5c4-4f2caa6d242c').text('ETA:  0:00:00');"
       ],
       "metadata": {},
       "output_type": "display_data",
       "text": [
        "<IPython.core.display.Javascript at 0x171740b8>"
       ]
      },
      {
       "javascript": [
        "$('div#4cbe9b79-9a95-42a3-a3ed-b5095d208c3d').text('1134 of 2029');"
       ],
       "metadata": {},
       "output_type": "display_data",
       "text": [
        "<IPython.core.display.Javascript at 0x17174940>"
       ]
      },
      {
       "javascript": [
        "$('div#3062a13d-da10-4e14-b6d5-56d2dea558de').text(' 55%');"
       ],
       "metadata": {},
       "output_type": "display_data",
       "text": [
        "<IPython.core.display.Javascript at 0x171740b8>"
       ]
      },
      {
       "javascript": [
        "\n",
        "        var $myPB = $(\"div#71187625-7fa2-4bbb-bb48-56c5392d3a4a\")\n",
        "        if ($myPB.hasClass('ui-progressbar')) {\n",
        "            $myPB.progressbar('value', 1134);\n",
        "        } else {\n",
        "            $myPB.progressbar({value: 0, max: 2029});\n",
        "        }\n",
        "        "
       ],
       "metadata": {},
       "output_type": "display_data",
       "text": [
        "<IPython.core.display.Javascript at 0x17174c18>"
       ]
      },
      {
       "javascript": [
        "$('div#184ef629-7f25-4d6c-a5c4-4f2caa6d242c').text('ETA:  0:00:00');"
       ],
       "metadata": {},
       "output_type": "display_data",
       "text": [
        "<IPython.core.display.Javascript at 0x1b324f28>"
       ]
      },
      {
       "javascript": [
        "$('div#4cbe9b79-9a95-42a3-a3ed-b5095d208c3d').text('1155 of 2029');"
       ],
       "metadata": {},
       "output_type": "display_data",
       "text": [
        "<IPython.core.display.Javascript at 0x17174940>"
       ]
      },
      {
       "javascript": [
        "$('div#3062a13d-da10-4e14-b6d5-56d2dea558de').text(' 56%');"
       ],
       "metadata": {},
       "output_type": "display_data",
       "text": [
        "<IPython.core.display.Javascript at 0x17174940>"
       ]
      },
      {
       "javascript": [
        "\n",
        "        var $myPB = $(\"div#71187625-7fa2-4bbb-bb48-56c5392d3a4a\")\n",
        "        if ($myPB.hasClass('ui-progressbar')) {\n",
        "            $myPB.progressbar('value', 1155);\n",
        "        } else {\n",
        "            $myPB.progressbar({value: 0, max: 2029});\n",
        "        }\n",
        "        "
       ],
       "metadata": {},
       "output_type": "display_data",
       "text": [
        "<IPython.core.display.Javascript at 0x171740b8>"
       ]
      },
      {
       "javascript": [
        "$('div#184ef629-7f25-4d6c-a5c4-4f2caa6d242c').text('ETA:  0:00:00');"
       ],
       "metadata": {},
       "output_type": "display_data",
       "text": [
        "<IPython.core.display.Javascript at 0x17174c18>"
       ]
      },
      {
       "javascript": [
        "$('div#4cbe9b79-9a95-42a3-a3ed-b5095d208c3d').text('1176 of 2029');"
       ],
       "metadata": {},
       "output_type": "display_data",
       "text": [
        "<IPython.core.display.Javascript at 0x17174c18>"
       ]
      },
      {
       "javascript": [
        "$('div#3062a13d-da10-4e14-b6d5-56d2dea558de').text(' 57%');"
       ],
       "metadata": {},
       "output_type": "display_data",
       "text": [
        "<IPython.core.display.Javascript at 0x171740b8>"
       ]
      },
      {
       "javascript": [
        "\n",
        "        var $myPB = $(\"div#71187625-7fa2-4bbb-bb48-56c5392d3a4a\")\n",
        "        if ($myPB.hasClass('ui-progressbar')) {\n",
        "            $myPB.progressbar('value', 1176);\n",
        "        } else {\n",
        "            $myPB.progressbar({value: 0, max: 2029});\n",
        "        }\n",
        "        "
       ],
       "metadata": {},
       "output_type": "display_data",
       "text": [
        "<IPython.core.display.Javascript at 0x17174940>"
       ]
      },
      {
       "javascript": [
        "$('div#184ef629-7f25-4d6c-a5c4-4f2caa6d242c').text('ETA:  0:00:00');"
       ],
       "metadata": {},
       "output_type": "display_data",
       "text": [
        "<IPython.core.display.Javascript at 0x17174940>"
       ]
      },
      {
       "javascript": [
        "$('div#4cbe9b79-9a95-42a3-a3ed-b5095d208c3d').text('1197 of 2029');"
       ],
       "metadata": {},
       "output_type": "display_data",
       "text": [
        "<IPython.core.display.Javascript at 0x171740b8>"
       ]
      },
      {
       "javascript": [
        "$('div#3062a13d-da10-4e14-b6d5-56d2dea558de').text(' 58%');"
       ],
       "metadata": {},
       "output_type": "display_data",
       "text": [
        "<IPython.core.display.Javascript at 0x171740b8>"
       ]
      },
      {
       "javascript": [
        "\n",
        "        var $myPB = $(\"div#71187625-7fa2-4bbb-bb48-56c5392d3a4a\")\n",
        "        if ($myPB.hasClass('ui-progressbar')) {\n",
        "            $myPB.progressbar('value', 1197);\n",
        "        } else {\n",
        "            $myPB.progressbar({value: 0, max: 2029});\n",
        "        }\n",
        "        "
       ],
       "metadata": {},
       "output_type": "display_data",
       "text": [
        "<IPython.core.display.Javascript at 0x17174c18>"
       ]
      },
      {
       "javascript": [
        "$('div#184ef629-7f25-4d6c-a5c4-4f2caa6d242c').text('ETA:  0:00:00');"
       ],
       "metadata": {},
       "output_type": "display_data",
       "text": [
        "<IPython.core.display.Javascript at 0x17174940>"
       ]
      },
      {
       "javascript": [
        "$('div#4cbe9b79-9a95-42a3-a3ed-b5095d208c3d').text('1218 of 2029');"
       ],
       "metadata": {},
       "output_type": "display_data",
       "text": [
        "<IPython.core.display.Javascript at 0x17174940>"
       ]
      },
      {
       "javascript": [
        "$('div#3062a13d-da10-4e14-b6d5-56d2dea558de').text(' 60%');"
       ],
       "metadata": {},
       "output_type": "display_data",
       "text": [
        "<IPython.core.display.Javascript at 0x17174c18>"
       ]
      },
      {
       "javascript": [
        "\n",
        "        var $myPB = $(\"div#71187625-7fa2-4bbb-bb48-56c5392d3a4a\")\n",
        "        if ($myPB.hasClass('ui-progressbar')) {\n",
        "            $myPB.progressbar('value', 1218);\n",
        "        } else {\n",
        "            $myPB.progressbar({value: 0, max: 2029});\n",
        "        }\n",
        "        "
       ],
       "metadata": {},
       "output_type": "display_data",
       "text": [
        "<IPython.core.display.Javascript at 0x171740b8>"
       ]
      },
      {
       "javascript": [
        "$('div#184ef629-7f25-4d6c-a5c4-4f2caa6d242c').text('ETA:  0:00:00');"
       ],
       "metadata": {},
       "output_type": "display_data",
       "text": [
        "<IPython.core.display.Javascript at 0x171740b8>"
       ]
      },
      {
       "javascript": [
        "$('div#4cbe9b79-9a95-42a3-a3ed-b5095d208c3d').text('1239 of 2029');"
       ],
       "metadata": {},
       "output_type": "display_data",
       "text": [
        "<IPython.core.display.Javascript at 0x17174940>"
       ]
      },
      {
       "javascript": [
        "$('div#3062a13d-da10-4e14-b6d5-56d2dea558de').text(' 61%');"
       ],
       "metadata": {},
       "output_type": "display_data",
       "text": [
        "<IPython.core.display.Javascript at 0x17174940>"
       ]
      },
      {
       "javascript": [
        "\n",
        "        var $myPB = $(\"div#71187625-7fa2-4bbb-bb48-56c5392d3a4a\")\n",
        "        if ($myPB.hasClass('ui-progressbar')) {\n",
        "            $myPB.progressbar('value', 1239);\n",
        "        } else {\n",
        "            $myPB.progressbar({value: 0, max: 2029});\n",
        "        }\n",
        "        "
       ],
       "metadata": {},
       "output_type": "display_data",
       "text": [
        "<IPython.core.display.Javascript at 0x17174c18>"
       ]
      },
      {
       "javascript": [
        "$('div#184ef629-7f25-4d6c-a5c4-4f2caa6d242c').text('ETA:  0:00:00');"
       ],
       "metadata": {},
       "output_type": "display_data",
       "text": [
        "<IPython.core.display.Javascript at 0x171740b8>"
       ]
      },
      {
       "javascript": [
        "$('div#4cbe9b79-9a95-42a3-a3ed-b5095d208c3d').text('1260 of 2029');"
       ],
       "metadata": {},
       "output_type": "display_data",
       "text": [
        "<IPython.core.display.Javascript at 0x171740b8>"
       ]
      },
      {
       "javascript": [
        "$('div#3062a13d-da10-4e14-b6d5-56d2dea558de').text(' 62%');"
       ],
       "metadata": {},
       "output_type": "display_data",
       "text": [
        "<IPython.core.display.Javascript at 0x17174c18>"
       ]
      },
      {
       "javascript": [
        "\n",
        "        var $myPB = $(\"div#71187625-7fa2-4bbb-bb48-56c5392d3a4a\")\n",
        "        if ($myPB.hasClass('ui-progressbar')) {\n",
        "            $myPB.progressbar('value', 1260);\n",
        "        } else {\n",
        "            $myPB.progressbar({value: 0, max: 2029});\n",
        "        }\n",
        "        "
       ],
       "metadata": {},
       "output_type": "display_data",
       "text": [
        "<IPython.core.display.Javascript at 0x17174940>"
       ]
      },
      {
       "javascript": [
        "$('div#184ef629-7f25-4d6c-a5c4-4f2caa6d242c').text('ETA:  0:00:00');"
       ],
       "metadata": {},
       "output_type": "display_data",
       "text": [
        "<IPython.core.display.Javascript at 0x17174940>"
       ]
      },
      {
       "javascript": [
        "$('div#4cbe9b79-9a95-42a3-a3ed-b5095d208c3d').text('1281 of 2029');"
       ],
       "metadata": {},
       "output_type": "display_data",
       "text": [
        "<IPython.core.display.Javascript at 0x17174c18>"
       ]
      },
      {
       "javascript": [
        "$('div#3062a13d-da10-4e14-b6d5-56d2dea558de').text(' 63%');"
       ],
       "metadata": {},
       "output_type": "display_data",
       "text": [
        "<IPython.core.display.Javascript at 0x17174c18>"
       ]
      },
      {
       "javascript": [
        "\n",
        "        var $myPB = $(\"div#71187625-7fa2-4bbb-bb48-56c5392d3a4a\")\n",
        "        if ($myPB.hasClass('ui-progressbar')) {\n",
        "            $myPB.progressbar('value', 1281);\n",
        "        } else {\n",
        "            $myPB.progressbar({value: 0, max: 2029});\n",
        "        }\n",
        "        "
       ],
       "metadata": {},
       "output_type": "display_data",
       "text": [
        "<IPython.core.display.Javascript at 0x171740b8>"
       ]
      },
      {
       "javascript": [
        "$('div#184ef629-7f25-4d6c-a5c4-4f2caa6d242c').text('ETA:  0:00:00');"
       ],
       "metadata": {},
       "output_type": "display_data",
       "text": [
        "<IPython.core.display.Javascript at 0x17174940>"
       ]
      },
      {
       "javascript": [
        "$('div#4cbe9b79-9a95-42a3-a3ed-b5095d208c3d').text('1302 of 2029');"
       ],
       "metadata": {},
       "output_type": "display_data",
       "text": [
        "<IPython.core.display.Javascript at 0x17174940>"
       ]
      },
      {
       "javascript": [
        "$('div#3062a13d-da10-4e14-b6d5-56d2dea558de').text(' 64%');"
       ],
       "metadata": {},
       "output_type": "display_data",
       "text": [
        "<IPython.core.display.Javascript at 0x171740b8>"
       ]
      },
      {
       "javascript": [
        "\n",
        "        var $myPB = $(\"div#71187625-7fa2-4bbb-bb48-56c5392d3a4a\")\n",
        "        if ($myPB.hasClass('ui-progressbar')) {\n",
        "            $myPB.progressbar('value', 1302);\n",
        "        } else {\n",
        "            $myPB.progressbar({value: 0, max: 2029});\n",
        "        }\n",
        "        "
       ],
       "metadata": {},
       "output_type": "display_data",
       "text": [
        "<IPython.core.display.Javascript at 0x17174c18>"
       ]
      },
      {
       "javascript": [
        "$('div#184ef629-7f25-4d6c-a5c4-4f2caa6d242c').text('ETA:  0:00:00');"
       ],
       "metadata": {},
       "output_type": "display_data",
       "text": [
        "<IPython.core.display.Javascript at 0x17174c18>"
       ]
      },
      {
       "javascript": [
        "$('div#4cbe9b79-9a95-42a3-a3ed-b5095d208c3d').text('1323 of 2029');"
       ],
       "metadata": {},
       "output_type": "display_data",
       "text": [
        "<IPython.core.display.Javascript at 0x171740b8>"
       ]
      },
      {
       "javascript": [
        "$('div#3062a13d-da10-4e14-b6d5-56d2dea558de').text(' 65%');"
       ],
       "metadata": {},
       "output_type": "display_data",
       "text": [
        "<IPython.core.display.Javascript at 0x17174c18>"
       ]
      },
      {
       "javascript": [
        "\n",
        "        var $myPB = $(\"div#71187625-7fa2-4bbb-bb48-56c5392d3a4a\")\n",
        "        if ($myPB.hasClass('ui-progressbar')) {\n",
        "            $myPB.progressbar('value', 1323);\n",
        "        } else {\n",
        "            $myPB.progressbar({value: 0, max: 2029});\n",
        "        }\n",
        "        "
       ],
       "metadata": {},
       "output_type": "display_data",
       "text": [
        "<IPython.core.display.Javascript at 0x17174940>"
       ]
      },
      {
       "javascript": [
        "$('div#184ef629-7f25-4d6c-a5c4-4f2caa6d242c').text('ETA:  0:00:00');"
       ],
       "metadata": {},
       "output_type": "display_data",
       "text": [
        "<IPython.core.display.Javascript at 0x1b324a20>"
       ]
      },
      {
       "javascript": [
        "$('div#4cbe9b79-9a95-42a3-a3ed-b5095d208c3d').text('1344 of 2029');"
       ],
       "metadata": {},
       "output_type": "display_data",
       "text": [
        "<IPython.core.display.Javascript at 0x17174940>"
       ]
      },
      {
       "javascript": [
        "$('div#3062a13d-da10-4e14-b6d5-56d2dea558de').text(' 66%');"
       ],
       "metadata": {},
       "output_type": "display_data",
       "text": [
        "<IPython.core.display.Javascript at 0x17174940>"
       ]
      },
      {
       "javascript": [
        "\n",
        "        var $myPB = $(\"div#71187625-7fa2-4bbb-bb48-56c5392d3a4a\")\n",
        "        if ($myPB.hasClass('ui-progressbar')) {\n",
        "            $myPB.progressbar('value', 1344);\n",
        "        } else {\n",
        "            $myPB.progressbar({value: 0, max: 2029});\n",
        "        }\n",
        "        "
       ],
       "metadata": {},
       "output_type": "display_data",
       "text": [
        "<IPython.core.display.Javascript at 0x17174c18>"
       ]
      },
      {
       "javascript": [
        "$('div#184ef629-7f25-4d6c-a5c4-4f2caa6d242c').text('ETA:  0:00:00');"
       ],
       "metadata": {},
       "output_type": "display_data",
       "text": [
        "<IPython.core.display.Javascript at 0x171740b8>"
       ]
      },
      {
       "javascript": [
        "$('div#4cbe9b79-9a95-42a3-a3ed-b5095d208c3d').text('1365 of 2029');"
       ],
       "metadata": {},
       "output_type": "display_data",
       "text": [
        "<IPython.core.display.Javascript at 0x171740b8>"
       ]
      },
      {
       "javascript": [
        "$('div#3062a13d-da10-4e14-b6d5-56d2dea558de').text(' 67%');"
       ],
       "metadata": {},
       "output_type": "display_data",
       "text": [
        "<IPython.core.display.Javascript at 0x17174c18>"
       ]
      },
      {
       "javascript": [
        "\n",
        "        var $myPB = $(\"div#71187625-7fa2-4bbb-bb48-56c5392d3a4a\")\n",
        "        if ($myPB.hasClass('ui-progressbar')) {\n",
        "            $myPB.progressbar('value', 1365);\n",
        "        } else {\n",
        "            $myPB.progressbar({value: 0, max: 2029});\n",
        "        }\n",
        "        "
       ],
       "metadata": {},
       "output_type": "display_data",
       "text": [
        "<IPython.core.display.Javascript at 0x17174940>"
       ]
      },
      {
       "javascript": [
        "$('div#184ef629-7f25-4d6c-a5c4-4f2caa6d242c').text('ETA:  0:00:00');"
       ],
       "metadata": {},
       "output_type": "display_data",
       "text": [
        "<IPython.core.display.Javascript at 0x17174940>"
       ]
      },
      {
       "javascript": [
        "$('div#4cbe9b79-9a95-42a3-a3ed-b5095d208c3d').text('1386 of 2029');"
       ],
       "metadata": {},
       "output_type": "display_data",
       "text": [
        "<IPython.core.display.Javascript at 0x171740b8>"
       ]
      },
      {
       "javascript": [
        "$('div#3062a13d-da10-4e14-b6d5-56d2dea558de').text(' 68%');"
       ],
       "metadata": {},
       "output_type": "display_data",
       "text": [
        "<IPython.core.display.Javascript at 0x171740b8>"
       ]
      },
      {
       "javascript": [
        "\n",
        "        var $myPB = $(\"div#71187625-7fa2-4bbb-bb48-56c5392d3a4a\")\n",
        "        if ($myPB.hasClass('ui-progressbar')) {\n",
        "            $myPB.progressbar('value', 1386);\n",
        "        } else {\n",
        "            $myPB.progressbar({value: 0, max: 2029});\n",
        "        }\n",
        "        "
       ],
       "metadata": {},
       "output_type": "display_data",
       "text": [
        "<IPython.core.display.Javascript at 0x17174c18>"
       ]
      },
      {
       "javascript": [
        "$('div#184ef629-7f25-4d6c-a5c4-4f2caa6d242c').text('ETA:  0:00:00');"
       ],
       "metadata": {},
       "output_type": "display_data",
       "text": [
        "<IPython.core.display.Javascript at 0x17174940>"
       ]
      },
      {
       "javascript": [
        "$('div#4cbe9b79-9a95-42a3-a3ed-b5095d208c3d').text('1407 of 2029');"
       ],
       "metadata": {},
       "output_type": "display_data",
       "text": [
        "<IPython.core.display.Javascript at 0x17174940>"
       ]
      },
      {
       "javascript": [
        "$('div#3062a13d-da10-4e14-b6d5-56d2dea558de').text(' 69%');"
       ],
       "metadata": {},
       "output_type": "display_data",
       "text": [
        "<IPython.core.display.Javascript at 0x17174c18>"
       ]
      },
      {
       "javascript": [
        "\n",
        "        var $myPB = $(\"div#71187625-7fa2-4bbb-bb48-56c5392d3a4a\")\n",
        "        if ($myPB.hasClass('ui-progressbar')) {\n",
        "            $myPB.progressbar('value', 1407);\n",
        "        } else {\n",
        "            $myPB.progressbar({value: 0, max: 2029});\n",
        "        }\n",
        "        "
       ],
       "metadata": {},
       "output_type": "display_data",
       "text": [
        "<IPython.core.display.Javascript at 0x17174c18>"
       ]
      },
      {
       "javascript": [
        "$('div#184ef629-7f25-4d6c-a5c4-4f2caa6d242c').text('ETA:  0:00:00');"
       ],
       "metadata": {},
       "output_type": "display_data",
       "text": [
        "<IPython.core.display.Javascript at 0x171740b8>"
       ]
      },
      {
       "javascript": [
        "$('div#4cbe9b79-9a95-42a3-a3ed-b5095d208c3d').text('1428 of 2029');"
       ],
       "metadata": {},
       "output_type": "display_data",
       "text": [
        "<IPython.core.display.Javascript at 0x17174940>"
       ]
      },
      {
       "javascript": [
        "$('div#3062a13d-da10-4e14-b6d5-56d2dea558de').text(' 70%');"
       ],
       "metadata": {},
       "output_type": "display_data",
       "text": [
        "<IPython.core.display.Javascript at 0x171740b8>"
       ]
      },
      {
       "javascript": [
        "\n",
        "        var $myPB = $(\"div#71187625-7fa2-4bbb-bb48-56c5392d3a4a\")\n",
        "        if ($myPB.hasClass('ui-progressbar')) {\n",
        "            $myPB.progressbar('value', 1428);\n",
        "        } else {\n",
        "            $myPB.progressbar({value: 0, max: 2029});\n",
        "        }\n",
        "        "
       ],
       "metadata": {},
       "output_type": "display_data",
       "text": [
        "<IPython.core.display.Javascript at 0x17174c18>"
       ]
      },
      {
       "javascript": [
        "$('div#184ef629-7f25-4d6c-a5c4-4f2caa6d242c').text('ETA:  0:00:00');"
       ],
       "metadata": {},
       "output_type": "display_data",
       "text": [
        "<IPython.core.display.Javascript at 0x1b3245c0>"
       ]
      },
      {
       "javascript": [
        "$('div#4cbe9b79-9a95-42a3-a3ed-b5095d208c3d').text('1449 of 2029');"
       ],
       "metadata": {},
       "output_type": "display_data",
       "text": [
        "<IPython.core.display.Javascript at 0x171740b8>"
       ]
      },
      {
       "javascript": [
        "$('div#3062a13d-da10-4e14-b6d5-56d2dea558de').text(' 71%');"
       ],
       "metadata": {},
       "output_type": "display_data",
       "text": [
        "<IPython.core.display.Javascript at 0x171740b8>"
       ]
      },
      {
       "javascript": [
        "\n",
        "        var $myPB = $(\"div#71187625-7fa2-4bbb-bb48-56c5392d3a4a\")\n",
        "        if ($myPB.hasClass('ui-progressbar')) {\n",
        "            $myPB.progressbar('value', 1449);\n",
        "        } else {\n",
        "            $myPB.progressbar({value: 0, max: 2029});\n",
        "        }\n",
        "        "
       ],
       "metadata": {},
       "output_type": "display_data",
       "text": [
        "<IPython.core.display.Javascript at 0x17174c18>"
       ]
      },
      {
       "javascript": [
        "$('div#184ef629-7f25-4d6c-a5c4-4f2caa6d242c').text('ETA:  0:00:00');"
       ],
       "metadata": {},
       "output_type": "display_data",
       "text": [
        "<IPython.core.display.Javascript at 0x17174940>"
       ]
      },
      {
       "javascript": [
        "$('div#4cbe9b79-9a95-42a3-a3ed-b5095d208c3d').text('1470 of 2029');"
       ],
       "metadata": {},
       "output_type": "display_data",
       "text": [
        "<IPython.core.display.Javascript at 0x17174940>"
       ]
      },
      {
       "javascript": [
        "$('div#3062a13d-da10-4e14-b6d5-56d2dea558de').text(' 72%');"
       ],
       "metadata": {},
       "output_type": "display_data",
       "text": [
        "<IPython.core.display.Javascript at 0x17174c18>"
       ]
      },
      {
       "javascript": [
        "\n",
        "        var $myPB = $(\"div#71187625-7fa2-4bbb-bb48-56c5392d3a4a\")\n",
        "        if ($myPB.hasClass('ui-progressbar')) {\n",
        "            $myPB.progressbar('value', 1470);\n",
        "        } else {\n",
        "            $myPB.progressbar({value: 0, max: 2029});\n",
        "        }\n",
        "        "
       ],
       "metadata": {},
       "output_type": "display_data",
       "text": [
        "<IPython.core.display.Javascript at 0x17174c18>"
       ]
      },
      {
       "javascript": [
        "$('div#184ef629-7f25-4d6c-a5c4-4f2caa6d242c').text('ETA:  0:00:00');"
       ],
       "metadata": {},
       "output_type": "display_data",
       "text": [
        "<IPython.core.display.Javascript at 0x171740b8>"
       ]
      },
      {
       "javascript": [
        "$('div#4cbe9b79-9a95-42a3-a3ed-b5095d208c3d').text('1491 of 2029');"
       ],
       "metadata": {},
       "output_type": "display_data",
       "text": [
        "<IPython.core.display.Javascript at 0x17174940>"
       ]
      },
      {
       "javascript": [
        "$('div#3062a13d-da10-4e14-b6d5-56d2dea558de').text(' 73%');"
       ],
       "metadata": {},
       "output_type": "display_data",
       "text": [
        "<IPython.core.display.Javascript at 0x171740b8>"
       ]
      },
      {
       "javascript": [
        "\n",
        "        var $myPB = $(\"div#71187625-7fa2-4bbb-bb48-56c5392d3a4a\")\n",
        "        if ($myPB.hasClass('ui-progressbar')) {\n",
        "            $myPB.progressbar('value', 1491);\n",
        "        } else {\n",
        "            $myPB.progressbar({value: 0, max: 2029});\n",
        "        }\n",
        "        "
       ],
       "metadata": {},
       "output_type": "display_data",
       "text": [
        "<IPython.core.display.Javascript at 0x17174c18>"
       ]
      },
      {
       "javascript": [
        "$('div#184ef629-7f25-4d6c-a5c4-4f2caa6d242c').text('ETA:  0:00:00');"
       ],
       "metadata": {},
       "output_type": "display_data",
       "text": [
        "<IPython.core.display.Javascript at 0x17174c18>"
       ]
      },
      {
       "javascript": [
        "$('div#4cbe9b79-9a95-42a3-a3ed-b5095d208c3d').text('1512 of 2029');"
       ],
       "metadata": {},
       "output_type": "display_data",
       "text": [
        "<IPython.core.display.Javascript at 0x171740b8>"
       ]
      },
      {
       "javascript": [
        "$('div#3062a13d-da10-4e14-b6d5-56d2dea558de').text(' 74%');"
       ],
       "metadata": {},
       "output_type": "display_data",
       "text": [
        "<IPython.core.display.Javascript at 0x171740b8>"
       ]
      },
      {
       "javascript": [
        "\n",
        "        var $myPB = $(\"div#71187625-7fa2-4bbb-bb48-56c5392d3a4a\")\n",
        "        if ($myPB.hasClass('ui-progressbar')) {\n",
        "            $myPB.progressbar('value', 1512);\n",
        "        } else {\n",
        "            $myPB.progressbar({value: 0, max: 2029});\n",
        "        }\n",
        "        "
       ],
       "metadata": {},
       "output_type": "display_data",
       "text": [
        "<IPython.core.display.Javascript at 0x17174940>"
       ]
      },
      {
       "javascript": [
        "$('div#184ef629-7f25-4d6c-a5c4-4f2caa6d242c').text('ETA:  0:00:00');"
       ],
       "metadata": {},
       "output_type": "display_data",
       "text": [
        "<IPython.core.display.Javascript at 0x17174c18>"
       ]
      },
      {
       "javascript": [
        "$('div#4cbe9b79-9a95-42a3-a3ed-b5095d208c3d').text('1533 of 2029');"
       ],
       "metadata": {},
       "output_type": "display_data",
       "text": [
        "<IPython.core.display.Javascript at 0x17174c18>"
       ]
      },
      {
       "javascript": [
        "$('div#3062a13d-da10-4e14-b6d5-56d2dea558de').text(' 75%');"
       ],
       "metadata": {},
       "output_type": "display_data",
       "text": [
        "<IPython.core.display.Javascript at 0x17174940>"
       ]
      },
      {
       "javascript": [
        "\n",
        "        var $myPB = $(\"div#71187625-7fa2-4bbb-bb48-56c5392d3a4a\")\n",
        "        if ($myPB.hasClass('ui-progressbar')) {\n",
        "            $myPB.progressbar('value', 1533);\n",
        "        } else {\n",
        "            $myPB.progressbar({value: 0, max: 2029});\n",
        "        }\n",
        "        "
       ],
       "metadata": {},
       "output_type": "display_data",
       "text": [
        "<IPython.core.display.Javascript at 0x17174940>"
       ]
      },
      {
       "javascript": [
        "$('div#184ef629-7f25-4d6c-a5c4-4f2caa6d242c').text('ETA:  0:00:00');"
       ],
       "metadata": {},
       "output_type": "display_data",
       "text": [
        "<IPython.core.display.Javascript at 0x171740b8>"
       ]
      },
      {
       "javascript": [
        "$('div#4cbe9b79-9a95-42a3-a3ed-b5095d208c3d').text('1554 of 2029');"
       ],
       "metadata": {},
       "output_type": "display_data",
       "text": [
        "<IPython.core.display.Javascript at 0x17174c18>"
       ]
      },
      {
       "javascript": [
        "$('div#3062a13d-da10-4e14-b6d5-56d2dea558de').text(' 76%');"
       ],
       "metadata": {},
       "output_type": "display_data",
       "text": [
        "<IPython.core.display.Javascript at 0x171740b8>"
       ]
      },
      {
       "javascript": [
        "\n",
        "        var $myPB = $(\"div#71187625-7fa2-4bbb-bb48-56c5392d3a4a\")\n",
        "        if ($myPB.hasClass('ui-progressbar')) {\n",
        "            $myPB.progressbar('value', 1554);\n",
        "        } else {\n",
        "            $myPB.progressbar({value: 0, max: 2029});\n",
        "        }\n",
        "        "
       ],
       "metadata": {},
       "output_type": "display_data",
       "text": [
        "<IPython.core.display.Javascript at 0x17174940>"
       ]
      },
      {
       "javascript": [
        "$('div#184ef629-7f25-4d6c-a5c4-4f2caa6d242c').text('ETA:  0:00:00');"
       ],
       "metadata": {},
       "output_type": "display_data",
       "text": [
        "<IPython.core.display.Javascript at 0x17174940>"
       ]
      },
      {
       "javascript": [
        "$('div#4cbe9b79-9a95-42a3-a3ed-b5095d208c3d').text('1575 of 2029');"
       ],
       "metadata": {},
       "output_type": "display_data",
       "text": [
        "<IPython.core.display.Javascript at 0x171740b8>"
       ]
      },
      {
       "javascript": [
        "$('div#3062a13d-da10-4e14-b6d5-56d2dea558de').text(' 77%');"
       ],
       "metadata": {},
       "output_type": "display_data",
       "text": [
        "<IPython.core.display.Javascript at 0x171740b8>"
       ]
      },
      {
       "javascript": [
        "\n",
        "        var $myPB = $(\"div#71187625-7fa2-4bbb-bb48-56c5392d3a4a\")\n",
        "        if ($myPB.hasClass('ui-progressbar')) {\n",
        "            $myPB.progressbar('value', 1575);\n",
        "        } else {\n",
        "            $myPB.progressbar({value: 0, max: 2029});\n",
        "        }\n",
        "        "
       ],
       "metadata": {},
       "output_type": "display_data",
       "text": [
        "<IPython.core.display.Javascript at 0x17174c18>"
       ]
      },
      {
       "javascript": [
        "$('div#184ef629-7f25-4d6c-a5c4-4f2caa6d242c').text('ETA:  0:00:00');"
       ],
       "metadata": {},
       "output_type": "display_data",
       "text": [
        "<IPython.core.display.Javascript at 0x17174940>"
       ]
      },
      {
       "javascript": [
        "$('div#4cbe9b79-9a95-42a3-a3ed-b5095d208c3d').text('1596 of 2029');"
       ],
       "metadata": {},
       "output_type": "display_data",
       "text": [
        "<IPython.core.display.Javascript at 0x17174940>"
       ]
      },
      {
       "javascript": [
        "$('div#3062a13d-da10-4e14-b6d5-56d2dea558de').text(' 78%');"
       ],
       "metadata": {},
       "output_type": "display_data",
       "text": [
        "<IPython.core.display.Javascript at 0x17174c18>"
       ]
      },
      {
       "javascript": [
        "\n",
        "        var $myPB = $(\"div#71187625-7fa2-4bbb-bb48-56c5392d3a4a\")\n",
        "        if ($myPB.hasClass('ui-progressbar')) {\n",
        "            $myPB.progressbar('value', 1596);\n",
        "        } else {\n",
        "            $myPB.progressbar({value: 0, max: 2029});\n",
        "        }\n",
        "        "
       ],
       "metadata": {},
       "output_type": "display_data",
       "text": [
        "<IPython.core.display.Javascript at 0x171740b8>"
       ]
      },
      {
       "javascript": [
        "$('div#184ef629-7f25-4d6c-a5c4-4f2caa6d242c').text('ETA:  0:00:00');"
       ],
       "metadata": {},
       "output_type": "display_data",
       "text": [
        "<IPython.core.display.Javascript at 0x171740b8>"
       ]
      },
      {
       "javascript": [
        "$('div#4cbe9b79-9a95-42a3-a3ed-b5095d208c3d').text('1617 of 2029');"
       ],
       "metadata": {},
       "output_type": "display_data",
       "text": [
        "<IPython.core.display.Javascript at 0x17174c18>"
       ]
      },
      {
       "javascript": [
        "$('div#3062a13d-da10-4e14-b6d5-56d2dea558de').text(' 79%');"
       ],
       "metadata": {},
       "output_type": "display_data",
       "text": [
        "<IPython.core.display.Javascript at 0x17174c18>"
       ]
      },
      {
       "javascript": [
        "\n",
        "        var $myPB = $(\"div#71187625-7fa2-4bbb-bb48-56c5392d3a4a\")\n",
        "        if ($myPB.hasClass('ui-progressbar')) {\n",
        "            $myPB.progressbar('value', 1617);\n",
        "        } else {\n",
        "            $myPB.progressbar({value: 0, max: 2029});\n",
        "        }\n",
        "        "
       ],
       "metadata": {},
       "output_type": "display_data",
       "text": [
        "<IPython.core.display.Javascript at 0x17174940>"
       ]
      },
      {
       "javascript": [
        "$('div#184ef629-7f25-4d6c-a5c4-4f2caa6d242c').text('ETA:  0:00:00');"
       ],
       "metadata": {},
       "output_type": "display_data",
       "text": [
        "<IPython.core.display.Javascript at 0x171740b8>"
       ]
      },
      {
       "javascript": [
        "$('div#4cbe9b79-9a95-42a3-a3ed-b5095d208c3d').text('1638 of 2029');"
       ],
       "metadata": {},
       "output_type": "display_data",
       "text": [
        "<IPython.core.display.Javascript at 0x171740b8>"
       ]
      },
      {
       "javascript": [
        "$('div#3062a13d-da10-4e14-b6d5-56d2dea558de').text(' 80%');"
       ],
       "metadata": {},
       "output_type": "display_data",
       "text": [
        "<IPython.core.display.Javascript at 0x17174940>"
       ]
      },
      {
       "javascript": [
        "\n",
        "        var $myPB = $(\"div#71187625-7fa2-4bbb-bb48-56c5392d3a4a\")\n",
        "        if ($myPB.hasClass('ui-progressbar')) {\n",
        "            $myPB.progressbar('value', 1638);\n",
        "        } else {\n",
        "            $myPB.progressbar({value: 0, max: 2029});\n",
        "        }\n",
        "        "
       ],
       "metadata": {},
       "output_type": "display_data",
       "text": [
        "<IPython.core.display.Javascript at 0x17174c18>"
       ]
      },
      {
       "javascript": [
        "$('div#184ef629-7f25-4d6c-a5c4-4f2caa6d242c').text('ETA:  0:00:00');"
       ],
       "metadata": {},
       "output_type": "display_data",
       "text": [
        "<IPython.core.display.Javascript at 0x17174c18>"
       ]
      },
      {
       "javascript": [
        "$('div#4cbe9b79-9a95-42a3-a3ed-b5095d208c3d').text('1659 of 2029');"
       ],
       "metadata": {},
       "output_type": "display_data",
       "text": [
        "<IPython.core.display.Javascript at 0x17174940>"
       ]
      },
      {
       "javascript": [
        "$('div#3062a13d-da10-4e14-b6d5-56d2dea558de').text(' 81%');"
       ],
       "metadata": {},
       "output_type": "display_data",
       "text": [
        "<IPython.core.display.Javascript at 0x17174c18>"
       ]
      },
      {
       "javascript": [
        "\n",
        "        var $myPB = $(\"div#71187625-7fa2-4bbb-bb48-56c5392d3a4a\")\n",
        "        if ($myPB.hasClass('ui-progressbar')) {\n",
        "            $myPB.progressbar('value', 1659);\n",
        "        } else {\n",
        "            $myPB.progressbar({value: 0, max: 2029});\n",
        "        }\n",
        "        "
       ],
       "metadata": {},
       "output_type": "display_data",
       "text": [
        "<IPython.core.display.Javascript at 0x171740b8>"
       ]
      },
      {
       "javascript": [
        "$('div#184ef629-7f25-4d6c-a5c4-4f2caa6d242c').text('ETA:  0:00:00');"
       ],
       "metadata": {},
       "output_type": "display_data",
       "text": [
        "<IPython.core.display.Javascript at 0x1b324f28>"
       ]
      },
      {
       "javascript": [
        "$('div#4cbe9b79-9a95-42a3-a3ed-b5095d208c3d').text('1680 of 2029');"
       ],
       "metadata": {},
       "output_type": "display_data",
       "text": [
        "<IPython.core.display.Javascript at 0x17174c18>"
       ]
      },
      {
       "javascript": [
        "$('div#3062a13d-da10-4e14-b6d5-56d2dea558de').text(' 82%');"
       ],
       "metadata": {},
       "output_type": "display_data",
       "text": [
        "<IPython.core.display.Javascript at 0x171740b8>"
       ]
      },
      {
       "javascript": [
        "\n",
        "        var $myPB = $(\"div#71187625-7fa2-4bbb-bb48-56c5392d3a4a\")\n",
        "        if ($myPB.hasClass('ui-progressbar')) {\n",
        "            $myPB.progressbar('value', 1680);\n",
        "        } else {\n",
        "            $myPB.progressbar({value: 0, max: 2029});\n",
        "        }\n",
        "        "
       ],
       "metadata": {},
       "output_type": "display_data",
       "text": [
        "<IPython.core.display.Javascript at 0x17174940>"
       ]
      },
      {
       "javascript": [
        "$('div#184ef629-7f25-4d6c-a5c4-4f2caa6d242c').text('ETA:  0:00:00');"
       ],
       "metadata": {},
       "output_type": "display_data",
       "text": [
        "<IPython.core.display.Javascript at 0x1b324f28>"
       ]
      },
      {
       "javascript": [
        "$('div#4cbe9b79-9a95-42a3-a3ed-b5095d208c3d').text('1701 of 2029');"
       ],
       "metadata": {},
       "output_type": "display_data",
       "text": [
        "<IPython.core.display.Javascript at 0x17174940>"
       ]
      },
      {
       "javascript": [
        "$('div#3062a13d-da10-4e14-b6d5-56d2dea558de').text(' 83%');"
       ],
       "metadata": {},
       "output_type": "display_data",
       "text": [
        "<IPython.core.display.Javascript at 0x171740b8>"
       ]
      },
      {
       "javascript": [
        "\n",
        "        var $myPB = $(\"div#71187625-7fa2-4bbb-bb48-56c5392d3a4a\")\n",
        "        if ($myPB.hasClass('ui-progressbar')) {\n",
        "            $myPB.progressbar('value', 1701);\n",
        "        } else {\n",
        "            $myPB.progressbar({value: 0, max: 2029});\n",
        "        }\n",
        "        "
       ],
       "metadata": {},
       "output_type": "display_data",
       "text": [
        "<IPython.core.display.Javascript at 0x171740b8>"
       ]
      },
      {
       "javascript": [
        "$('div#184ef629-7f25-4d6c-a5c4-4f2caa6d242c').text('ETA:  0:00:00');"
       ],
       "metadata": {},
       "output_type": "display_data",
       "text": [
        "<IPython.core.display.Javascript at 0x17174940>"
       ]
      },
      {
       "javascript": [
        "$('div#4cbe9b79-9a95-42a3-a3ed-b5095d208c3d').text('1722 of 2029');"
       ],
       "metadata": {},
       "output_type": "display_data",
       "text": [
        "<IPython.core.display.Javascript at 0x17174940>"
       ]
      },
      {
       "javascript": [
        "$('div#3062a13d-da10-4e14-b6d5-56d2dea558de').text(' 84%');"
       ],
       "metadata": {},
       "output_type": "display_data",
       "text": [
        "<IPython.core.display.Javascript at 0x171740b8>"
       ]
      },
      {
       "javascript": [
        "\n",
        "        var $myPB = $(\"div#71187625-7fa2-4bbb-bb48-56c5392d3a4a\")\n",
        "        if ($myPB.hasClass('ui-progressbar')) {\n",
        "            $myPB.progressbar('value', 1722);\n",
        "        } else {\n",
        "            $myPB.progressbar({value: 0, max: 2029});\n",
        "        }\n",
        "        "
       ],
       "metadata": {},
       "output_type": "display_data",
       "text": [
        "<IPython.core.display.Javascript at 0x1b324a20>"
       ]
      },
      {
       "javascript": [
        "$('div#184ef629-7f25-4d6c-a5c4-4f2caa6d242c').text('ETA:  0:00:00');"
       ],
       "metadata": {},
       "output_type": "display_data",
       "text": [
        "<IPython.core.display.Javascript at 0x1b324f28>"
       ]
      },
      {
       "javascript": [
        "$('div#4cbe9b79-9a95-42a3-a3ed-b5095d208c3d').text('1743 of 2029');"
       ],
       "metadata": {},
       "output_type": "display_data",
       "text": [
        "<IPython.core.display.Javascript at 0x17174940>"
       ]
      },
      {
       "javascript": [
        "$('div#3062a13d-da10-4e14-b6d5-56d2dea558de').text(' 85%');"
       ],
       "metadata": {},
       "output_type": "display_data",
       "text": [
        "<IPython.core.display.Javascript at 0x171740b8>"
       ]
      },
      {
       "javascript": [
        "\n",
        "        var $myPB = $(\"div#71187625-7fa2-4bbb-bb48-56c5392d3a4a\")\n",
        "        if ($myPB.hasClass('ui-progressbar')) {\n",
        "            $myPB.progressbar('value', 1743);\n",
        "        } else {\n",
        "            $myPB.progressbar({value: 0, max: 2029});\n",
        "        }\n",
        "        "
       ],
       "metadata": {},
       "output_type": "display_data",
       "text": [
        "<IPython.core.display.Javascript at 0x171740b8>"
       ]
      },
      {
       "javascript": [
        "$('div#184ef629-7f25-4d6c-a5c4-4f2caa6d242c').text('ETA:  0:00:00');"
       ],
       "metadata": {},
       "output_type": "display_data",
       "text": [
        "<IPython.core.display.Javascript at 0x17174940>"
       ]
      },
      {
       "javascript": [
        "$('div#4cbe9b79-9a95-42a3-a3ed-b5095d208c3d').text('1764 of 2029');"
       ],
       "metadata": {},
       "output_type": "display_data",
       "text": [
        "<IPython.core.display.Javascript at 0x17174c18>"
       ]
      },
      {
       "javascript": [
        "$('div#3062a13d-da10-4e14-b6d5-56d2dea558de').text(' 86%');"
       ],
       "metadata": {},
       "output_type": "display_data",
       "text": [
        "<IPython.core.display.Javascript at 0x17174940>"
       ]
      },
      {
       "javascript": [
        "\n",
        "        var $myPB = $(\"div#71187625-7fa2-4bbb-bb48-56c5392d3a4a\")\n",
        "        if ($myPB.hasClass('ui-progressbar')) {\n",
        "            $myPB.progressbar('value', 1764);\n",
        "        } else {\n",
        "            $myPB.progressbar({value: 0, max: 2029});\n",
        "        }\n",
        "        "
       ],
       "metadata": {},
       "output_type": "display_data",
       "text": [
        "<IPython.core.display.Javascript at 0x171740b8>"
       ]
      },
      {
       "javascript": [
        "$('div#184ef629-7f25-4d6c-a5c4-4f2caa6d242c').text('ETA:  0:00:00');"
       ],
       "metadata": {},
       "output_type": "display_data",
       "text": [
        "<IPython.core.display.Javascript at 0x1b3245c0>"
       ]
      },
      {
       "javascript": [
        "$('div#4cbe9b79-9a95-42a3-a3ed-b5095d208c3d').text('1785 of 2029');"
       ],
       "metadata": {},
       "output_type": "display_data",
       "text": [
        "<IPython.core.display.Javascript at 0x17174940>"
       ]
      },
      {
       "javascript": [
        "$('div#3062a13d-da10-4e14-b6d5-56d2dea558de').text(' 87%');"
       ],
       "metadata": {},
       "output_type": "display_data",
       "text": [
        "<IPython.core.display.Javascript at 0x171740b8>"
       ]
      },
      {
       "javascript": [
        "\n",
        "        var $myPB = $(\"div#71187625-7fa2-4bbb-bb48-56c5392d3a4a\")\n",
        "        if ($myPB.hasClass('ui-progressbar')) {\n",
        "            $myPB.progressbar('value', 1785);\n",
        "        } else {\n",
        "            $myPB.progressbar({value: 0, max: 2029});\n",
        "        }\n",
        "        "
       ],
       "metadata": {},
       "output_type": "display_data",
       "text": [
        "<IPython.core.display.Javascript at 0x17174c18>"
       ]
      },
      {
       "javascript": [
        "$('div#184ef629-7f25-4d6c-a5c4-4f2caa6d242c').text('ETA:  0:00:00');"
       ],
       "metadata": {},
       "output_type": "display_data",
       "text": [
        "<IPython.core.display.Javascript at 0x17174940>"
       ]
      },
      {
       "javascript": [
        "$('div#4cbe9b79-9a95-42a3-a3ed-b5095d208c3d').text('1806 of 2029');"
       ],
       "metadata": {},
       "output_type": "display_data",
       "text": [
        "<IPython.core.display.Javascript at 0x17174940>"
       ]
      },
      {
       "javascript": [
        "$('div#3062a13d-da10-4e14-b6d5-56d2dea558de').text(' 89%');"
       ],
       "metadata": {},
       "output_type": "display_data",
       "text": [
        "<IPython.core.display.Javascript at 0x17174c18>"
       ]
      },
      {
       "javascript": [
        "\n",
        "        var $myPB = $(\"div#71187625-7fa2-4bbb-bb48-56c5392d3a4a\")\n",
        "        if ($myPB.hasClass('ui-progressbar')) {\n",
        "            $myPB.progressbar('value', 1806);\n",
        "        } else {\n",
        "            $myPB.progressbar({value: 0, max: 2029});\n",
        "        }\n",
        "        "
       ],
       "metadata": {},
       "output_type": "display_data",
       "text": [
        "<IPython.core.display.Javascript at 0x1b324f28>"
       ]
      },
      {
       "javascript": [
        "$('div#184ef629-7f25-4d6c-a5c4-4f2caa6d242c').text('ETA:  0:00:00');"
       ],
       "metadata": {},
       "output_type": "display_data",
       "text": [
        "<IPython.core.display.Javascript at 0x1b324cc0>"
       ]
      },
      {
       "javascript": [
        "$('div#4cbe9b79-9a95-42a3-a3ed-b5095d208c3d').text('1827 of 2029');"
       ],
       "metadata": {},
       "output_type": "display_data",
       "text": [
        "<IPython.core.display.Javascript at 0x17174940>"
       ]
      },
      {
       "javascript": [
        "$('div#3062a13d-da10-4e14-b6d5-56d2dea558de').text(' 90%');"
       ],
       "metadata": {},
       "output_type": "display_data",
       "text": [
        "<IPython.core.display.Javascript at 0x17174940>"
       ]
      },
      {
       "javascript": [
        "\n",
        "        var $myPB = $(\"div#71187625-7fa2-4bbb-bb48-56c5392d3a4a\")\n",
        "        if ($myPB.hasClass('ui-progressbar')) {\n",
        "            $myPB.progressbar('value', 1827);\n",
        "        } else {\n",
        "            $myPB.progressbar({value: 0, max: 2029});\n",
        "        }\n",
        "        "
       ],
       "metadata": {},
       "output_type": "display_data",
       "text": [
        "<IPython.core.display.Javascript at 0x17174c18>"
       ]
      },
      {
       "javascript": [
        "$('div#184ef629-7f25-4d6c-a5c4-4f2caa6d242c').text('ETA:  0:00:00');"
       ],
       "metadata": {},
       "output_type": "display_data",
       "text": [
        "<IPython.core.display.Javascript at 0x1b324cc0>"
       ]
      },
      {
       "javascript": [
        "$('div#4cbe9b79-9a95-42a3-a3ed-b5095d208c3d').text('1848 of 2029');"
       ],
       "metadata": {},
       "output_type": "display_data",
       "text": [
        "<IPython.core.display.Javascript at 0x17174c18>"
       ]
      },
      {
       "javascript": [
        "$('div#3062a13d-da10-4e14-b6d5-56d2dea558de').text(' 91%');"
       ],
       "metadata": {},
       "output_type": "display_data",
       "text": [
        "<IPython.core.display.Javascript at 0x17174940>"
       ]
      },
      {
       "javascript": [
        "\n",
        "        var $myPB = $(\"div#71187625-7fa2-4bbb-bb48-56c5392d3a4a\")\n",
        "        if ($myPB.hasClass('ui-progressbar')) {\n",
        "            $myPB.progressbar('value', 1848);\n",
        "        } else {\n",
        "            $myPB.progressbar({value: 0, max: 2029});\n",
        "        }\n",
        "        "
       ],
       "metadata": {},
       "output_type": "display_data",
       "text": [
        "<IPython.core.display.Javascript at 0x1b324cc0>"
       ]
      },
      {
       "javascript": [
        "$('div#184ef629-7f25-4d6c-a5c4-4f2caa6d242c').text('ETA:  0:00:00');"
       ],
       "metadata": {},
       "output_type": "display_data",
       "text": [
        "<IPython.core.display.Javascript at 0x17174c18>"
       ]
      },
      {
       "javascript": [
        "$('div#4cbe9b79-9a95-42a3-a3ed-b5095d208c3d').text('1869 of 2029');"
       ],
       "metadata": {},
       "output_type": "display_data",
       "text": [
        "<IPython.core.display.Javascript at 0x17174940>"
       ]
      },
      {
       "javascript": [
        "$('div#3062a13d-da10-4e14-b6d5-56d2dea558de').text(' 92%');"
       ],
       "metadata": {},
       "output_type": "display_data",
       "text": [
        "<IPython.core.display.Javascript at 0x17174c18>"
       ]
      },
      {
       "javascript": [
        "\n",
        "        var $myPB = $(\"div#71187625-7fa2-4bbb-bb48-56c5392d3a4a\")\n",
        "        if ($myPB.hasClass('ui-progressbar')) {\n",
        "            $myPB.progressbar('value', 1869);\n",
        "        } else {\n",
        "            $myPB.progressbar({value: 0, max: 2029});\n",
        "        }\n",
        "        "
       ],
       "metadata": {},
       "output_type": "display_data",
       "text": [
        "<IPython.core.display.Javascript at 0x1b324550>"
       ]
      },
      {
       "javascript": [
        "$('div#184ef629-7f25-4d6c-a5c4-4f2caa6d242c').text('ETA:  0:00:00');"
       ],
       "metadata": {},
       "output_type": "display_data",
       "text": [
        "<IPython.core.display.Javascript at 0x1b324f28>"
       ]
      },
      {
       "javascript": [
        "$('div#4cbe9b79-9a95-42a3-a3ed-b5095d208c3d').text('1890 of 2029');"
       ],
       "metadata": {},
       "output_type": "display_data",
       "text": [
        "<IPython.core.display.Javascript at 0x17174c18>"
       ]
      },
      {
       "javascript": [
        "$('div#3062a13d-da10-4e14-b6d5-56d2dea558de').text(' 93%');"
       ],
       "metadata": {},
       "output_type": "display_data",
       "text": [
        "<IPython.core.display.Javascript at 0x17174940>"
       ]
      },
      {
       "javascript": [
        "\n",
        "        var $myPB = $(\"div#71187625-7fa2-4bbb-bb48-56c5392d3a4a\")\n",
        "        if ($myPB.hasClass('ui-progressbar')) {\n",
        "            $myPB.progressbar('value', 1890);\n",
        "        } else {\n",
        "            $myPB.progressbar({value: 0, max: 2029});\n",
        "        }\n",
        "        "
       ],
       "metadata": {},
       "output_type": "display_data",
       "text": [
        "<IPython.core.display.Javascript at 0x17174940>"
       ]
      },
      {
       "javascript": [
        "$('div#184ef629-7f25-4d6c-a5c4-4f2caa6d242c').text('ETA:  0:00:00');"
       ],
       "metadata": {},
       "output_type": "display_data",
       "text": [
        "<IPython.core.display.Javascript at 0x17174c18>"
       ]
      },
      {
       "javascript": [
        "$('div#4cbe9b79-9a95-42a3-a3ed-b5095d208c3d').text('1911 of 2029');"
       ],
       "metadata": {},
       "output_type": "display_data",
       "text": [
        "<IPython.core.display.Javascript at 0x17174c18>"
       ]
      },
      {
       "javascript": [
        "$('div#3062a13d-da10-4e14-b6d5-56d2dea558de').text(' 94%');"
       ],
       "metadata": {},
       "output_type": "display_data",
       "text": [
        "<IPython.core.display.Javascript at 0x17174940>"
       ]
      },
      {
       "javascript": [
        "\n",
        "        var $myPB = $(\"div#71187625-7fa2-4bbb-bb48-56c5392d3a4a\")\n",
        "        if ($myPB.hasClass('ui-progressbar')) {\n",
        "            $myPB.progressbar('value', 1911);\n",
        "        } else {\n",
        "            $myPB.progressbar({value: 0, max: 2029});\n",
        "        }\n",
        "        "
       ],
       "metadata": {},
       "output_type": "display_data",
       "text": [
        "<IPython.core.display.Javascript at 0x171740b8>"
       ]
      },
      {
       "javascript": [
        "$('div#184ef629-7f25-4d6c-a5c4-4f2caa6d242c').text('ETA:  0:00:00');"
       ],
       "metadata": {},
       "output_type": "display_data",
       "text": [
        "<IPython.core.display.Javascript at 0x1b324f28>"
       ]
      },
      {
       "javascript": [
        "$('div#4cbe9b79-9a95-42a3-a3ed-b5095d208c3d').text('1932 of 2029');"
       ],
       "metadata": {},
       "output_type": "display_data",
       "text": [
        "<IPython.core.display.Javascript at 0x171740b8>"
       ]
      },
      {
       "javascript": [
        "$('div#3062a13d-da10-4e14-b6d5-56d2dea558de').text(' 95%');"
       ],
       "metadata": {},
       "output_type": "display_data",
       "text": [
        "<IPython.core.display.Javascript at 0x171740b8>"
       ]
      },
      {
       "javascript": [
        "\n",
        "        var $myPB = $(\"div#71187625-7fa2-4bbb-bb48-56c5392d3a4a\")\n",
        "        if ($myPB.hasClass('ui-progressbar')) {\n",
        "            $myPB.progressbar('value', 1932);\n",
        "        } else {\n",
        "            $myPB.progressbar({value: 0, max: 2029});\n",
        "        }\n",
        "        "
       ],
       "metadata": {},
       "output_type": "display_data",
       "text": [
        "<IPython.core.display.Javascript at 0x17174940>"
       ]
      },
      {
       "javascript": [
        "$('div#184ef629-7f25-4d6c-a5c4-4f2caa6d242c').text('ETA:  0:00:00');"
       ],
       "metadata": {},
       "output_type": "display_data",
       "text": [
        "<IPython.core.display.Javascript at 0x17174c18>"
       ]
      },
      {
       "javascript": [
        "$('div#4cbe9b79-9a95-42a3-a3ed-b5095d208c3d').text('1953 of 2029');"
       ],
       "metadata": {},
       "output_type": "display_data",
       "text": [
        "<IPython.core.display.Javascript at 0x17174c18>"
       ]
      },
      {
       "javascript": [
        "$('div#3062a13d-da10-4e14-b6d5-56d2dea558de').text(' 96%');"
       ],
       "metadata": {},
       "output_type": "display_data",
       "text": [
        "<IPython.core.display.Javascript at 0x17174940>"
       ]
      },
      {
       "javascript": [
        "\n",
        "        var $myPB = $(\"div#71187625-7fa2-4bbb-bb48-56c5392d3a4a\")\n",
        "        if ($myPB.hasClass('ui-progressbar')) {\n",
        "            $myPB.progressbar('value', 1953);\n",
        "        } else {\n",
        "            $myPB.progressbar({value: 0, max: 2029});\n",
        "        }\n",
        "        "
       ],
       "metadata": {},
       "output_type": "display_data",
       "text": [
        "<IPython.core.display.Javascript at 0x171740b8>"
       ]
      },
      {
       "javascript": [
        "$('div#184ef629-7f25-4d6c-a5c4-4f2caa6d242c').text('ETA:  0:00:00');"
       ],
       "metadata": {},
       "output_type": "display_data",
       "text": [
        "<IPython.core.display.Javascript at 0x171740b8>"
       ]
      },
      {
       "javascript": [
        "$('div#4cbe9b79-9a95-42a3-a3ed-b5095d208c3d').text('1974 of 2029');"
       ],
       "metadata": {},
       "output_type": "display_data",
       "text": [
        "<IPython.core.display.Javascript at 0x17174940>"
       ]
      },
      {
       "javascript": [
        "$('div#3062a13d-da10-4e14-b6d5-56d2dea558de').text(' 97%');"
       ],
       "metadata": {},
       "output_type": "display_data",
       "text": [
        "<IPython.core.display.Javascript at 0x171740b8>"
       ]
      },
      {
       "javascript": [
        "\n",
        "        var $myPB = $(\"div#71187625-7fa2-4bbb-bb48-56c5392d3a4a\")\n",
        "        if ($myPB.hasClass('ui-progressbar')) {\n",
        "            $myPB.progressbar('value', 1974);\n",
        "        } else {\n",
        "            $myPB.progressbar({value: 0, max: 2029});\n",
        "        }\n",
        "        "
       ],
       "metadata": {},
       "output_type": "display_data",
       "text": [
        "<IPython.core.display.Javascript at 0x17174c18>"
       ]
      },
      {
       "javascript": [
        "$('div#184ef629-7f25-4d6c-a5c4-4f2caa6d242c').text('ETA:  0:00:00');"
       ],
       "metadata": {},
       "output_type": "display_data",
       "text": [
        "<IPython.core.display.Javascript at 0x17174c18>"
       ]
      },
      {
       "javascript": [
        "$('div#4cbe9b79-9a95-42a3-a3ed-b5095d208c3d').text('1995 of 2029');"
       ],
       "metadata": {},
       "output_type": "display_data",
       "text": [
        "<IPython.core.display.Javascript at 0x171740b8>"
       ]
      },
      {
       "javascript": [
        "$('div#3062a13d-da10-4e14-b6d5-56d2dea558de').text(' 98%');"
       ],
       "metadata": {},
       "output_type": "display_data",
       "text": [
        "<IPython.core.display.Javascript at 0x171740b8>"
       ]
      },
      {
       "javascript": [
        "\n",
        "        var $myPB = $(\"div#71187625-7fa2-4bbb-bb48-56c5392d3a4a\")\n",
        "        if ($myPB.hasClass('ui-progressbar')) {\n",
        "            $myPB.progressbar('value', 1995);\n",
        "        } else {\n",
        "            $myPB.progressbar({value: 0, max: 2029});\n",
        "        }\n",
        "        "
       ],
       "metadata": {},
       "output_type": "display_data",
       "text": [
        "<IPython.core.display.Javascript at 0x17174940>"
       ]
      },
      {
       "javascript": [
        "$('div#184ef629-7f25-4d6c-a5c4-4f2caa6d242c').text('ETA:  0:00:00');"
       ],
       "metadata": {},
       "output_type": "display_data",
       "text": [
        "<IPython.core.display.Javascript at 0x17174c18>"
       ]
      },
      {
       "javascript": [
        "$('div#4cbe9b79-9a95-42a3-a3ed-b5095d208c3d').text('2016 of 2029');"
       ],
       "metadata": {},
       "output_type": "display_data",
       "text": [
        "<IPython.core.display.Javascript at 0x17174c18>"
       ]
      },
      {
       "javascript": [
        "$('div#3062a13d-da10-4e14-b6d5-56d2dea558de').text(' 99%');"
       ],
       "metadata": {},
       "output_type": "display_data",
       "text": [
        "<IPython.core.display.Javascript at 0x17174940>"
       ]
      },
      {
       "javascript": [
        "\n",
        "        var $myPB = $(\"div#71187625-7fa2-4bbb-bb48-56c5392d3a4a\")\n",
        "        if ($myPB.hasClass('ui-progressbar')) {\n",
        "            $myPB.progressbar('value', 2016);\n",
        "        } else {\n",
        "            $myPB.progressbar({value: 0, max: 2029});\n",
        "        }\n",
        "        "
       ],
       "metadata": {},
       "output_type": "display_data",
       "text": [
        "<IPython.core.display.Javascript at 0x171740b8>"
       ]
      },
      {
       "javascript": [
        "$('div#184ef629-7f25-4d6c-a5c4-4f2caa6d242c').text('ETA:  0:00:00');"
       ],
       "metadata": {},
       "output_type": "display_data",
       "text": [
        "<IPython.core.display.Javascript at 0x1b324f28>"
       ]
      },
      {
       "javascript": [
        "$('div#4cbe9b79-9a95-42a3-a3ed-b5095d208c3d').text('2029 of 2029');"
       ],
       "metadata": {},
       "output_type": "display_data",
       "text": [
        "<IPython.core.display.Javascript at 0x171743c8>"
       ]
      },
      {
       "javascript": [
        "$('div#3062a13d-da10-4e14-b6d5-56d2dea558de').text('100%');"
       ],
       "metadata": {},
       "output_type": "display_data",
       "text": [
        "<IPython.core.display.Javascript at 0x171740b8>"
       ]
      },
      {
       "javascript": [
        "\n",
        "        var $myPB = $(\"div#71187625-7fa2-4bbb-bb48-56c5392d3a4a\")\n",
        "        if ($myPB.hasClass('ui-progressbar')) {\n",
        "            $myPB.progressbar('value', 2029);\n",
        "        } else {\n",
        "            $myPB.progressbar({value: 0, max: 2029});\n",
        "        }\n",
        "        "
       ],
       "metadata": {},
       "output_type": "display_data",
       "text": [
        "<IPython.core.display.Javascript at 0x171740b8>"
       ]
      },
      {
       "javascript": [
        "$('div#184ef629-7f25-4d6c-a5c4-4f2caa6d242c').text('Time: 0:00:00');"
       ],
       "metadata": {},
       "output_type": "display_data",
       "text": [
        "<IPython.core.display.Javascript at 0x17174c18>"
       ]
      },
      {
       "javascript": [
        "var element = document.getElementById('35918fd6-4d8f-4264-bb0f-c671b88eee8e');\n",
        "                    var parent = element.parentNode\n",
        "                    parent.removeChild(element);\n",
        "                    parent.parentElement.remove();"
       ],
       "metadata": {},
       "output_type": "display_data",
       "text": [
        "<IPython.core.display.Javascript at 0x1a790d30>"
       ]
      },
      {
       "javascript": [
        "this.cleanProgressBar(['35918fd6-4d8f-4264-bb0f-c671b88eee8e', '4cbe9b79-9a95-42a3-a3ed-b5095d208c3d', '3062a13d-da10-4e14-b6d5-56d2dea558de', '71187625-7fa2-4bbb-bb48-56c5392d3a4a', '184ef629-7f25-4d6c-a5c4-4f2caa6d242c'])"
       ],
       "metadata": {},
       "output_type": "display_data",
       "text": [
        "<IPython.core.display.Javascript at 0x171743c8>"
       ]
      }
     ],
     "prompt_number": 3
    },
    {
     "cell_type": "code",
     "collapsed": false,
     "input": [
      "mun.print_sentence_statistics(sentences)"
     ],
     "language": "python",
     "metadata": {},
     "outputs": [
      {
       "output_type": "stream",
       "stream": "stdout",
       "text": [
        "Info type                        Value            \n",
        "----------------------------------------\n",
        "number of sentences              2029            \n",
        "average sentence length(words)   19.59           \n",
        "average sentence length(letters) 124.93          \n",
        "longest sentence (words)         130             \n",
        "longest sentence (letters)       914             \n"
       ]
      }
     ],
     "prompt_number": 4
    },
    {
     "cell_type": "code",
     "collapsed": false,
     "input": [
      "url = mun.get_document_url(doc_name = doc_name)\n",
      "doc['attributes']['url'] = '<a href=\"%s\" target=\"_blank\">Open original PDF</a>'%url \n",
      "HTML(doc['attributes']['url'])"
     ],
     "language": "python",
     "metadata": {},
     "outputs": [
      {
       "html": [
        "<a href=\"http://documents-dds-ny.un.org/doc/UNDOC/GEN/G05/168/77/pdf/G0516877.pdf?OpenElement\" target=\"_blank\">Open original PDF</a>"
       ],
       "metadata": {},
       "output_type": "pyout",
       "prompt_number": 5,
       "text": [
        "<IPython.core.display.HTML at 0x350c240>"
       ]
      }
     ],
     "prompt_number": 5
    },
    {
     "cell_type": "code",
     "collapsed": false,
     "input": [
      "nchunks, vchunks = mun.process_chunks(tagged_sentences=tagged_sentences, return_print=False)\n",
      "mun.print_FreqDists([nchunks,vchunks],titles=['Noun Chunks', 'Noun Verb Chunks'], limit=10)"
     ],
     "language": "python",
     "metadata": {},
     "outputs": [
      {
       "javascript": [
        "//6b52da64-72a6-4417-81fb-76b9e90889ff\n",
        "$(\"head\").append(\"<style> td.pb_widget {     width: auto; } td.pb_widget_fill {     width: 100%; } table.pb {     font-family: monospace;     border: 0;     margin: 0; } table.pb tr { border: 0; } table.pb td {     white-space: nowrap;     border: 0; } div.pb {     border: 1px solid #ddd;     border-radius: 3px; } div.pb_bar {     height: 1.5em; } </style>\")"
       ],
       "metadata": {},
       "output_type": "display_data",
       "text": [
        "<IPython.core.display.Javascript at 0x1a790160>"
       ]
      },
      {
       "javascript": [
        "\n",
        "                  // 6b52da64-72a6-4417-81fb-76b9e90889ff -- used to remove this code blob in the end\n",
        "                  IPython.OutputArea.prototype.cleanProgressBar = function(uuids) {\n",
        "                      // filter by uuid-strings \n",
        "                      var myfilter = function(output) { \n",
        "                          var nuids = uuids.length;\n",
        "                          for (var i=0; i<nuids; i++) {\n",
        "                              if (output.hasOwnProperty('html')) {\n",
        "                                  if (output.html.indexOf(uuids[i]) != -1) {\n",
        "                                      return false;\n",
        "                                  }\n",
        "                              }\n",
        "                              if (output.hasOwnProperty('javascript')) {\n",
        "                                  if (output.javascript.indexOf(uuids[i]) != -1) {\n",
        "                                      return false;\n",
        "                                  }\n",
        "                              }\n",
        "                          }\n",
        "                          // keep all others\n",
        "                          return true;\n",
        "                      };\n",
        "\n",
        "                      // Filter the ouputs\n",
        "                      this.outputs = this.outputs.filter(myfilter);\n",
        "                };\n",
        "                "
       ],
       "metadata": {},
       "output_type": "display_data",
       "text": [
        "<IPython.core.display.Javascript at 0x1a790b70>"
       ]
      },
      {
       "html": [
        "<div class=\"pb\" id=\"6b52da64-72a6-4417-81fb-76b9e90889ff\"><table class=\"pb ui-widget\"><tr>\n",
        "<td class=\"pb_widget\">Chunking </td>\n",
        "<td class=\"pb_widget\"><div id=\"af272421-38e8-451a-a10f-1777c9fb56ea\">0 of 2029</div></td>\n",
        "<td class=\"pb_widget\"><div id=\"bd2129a3-323d-42a6-8e90-cbd57c423182\">  0%</div></td>\n",
        "<td class=\"pb_widget_fill\">\n",
        "        <div class=\"pb_bar\" id=\"eba2005d-1f41-4084-b395-2f61730cca21\"></div>\n",
        "        <script type=\"text/javascript\">\n",
        "            $(\"div#eba2005d-1f41-4084-b395-2f61730cca21\").progressbar({value: 0, max: 2029});\n",
        "        </script>\n",
        "        </td>\n",
        "<td class=\"pb_widget\"><div id=\"e03fb02c-de54-45dd-8d13-28d7c7992db5\">ETA:  --:--:--</div></td>\n",
        "</tr></table><div>"
       ],
       "metadata": {},
       "output_type": "display_data",
       "text": [
        "<IPython.core.display.HTML at 0x1a790cf8>"
       ]
      },
      {
       "javascript": [
        "$('div#af272421-38e8-451a-a10f-1777c9fb56ea').text('21 of 2029');"
       ],
       "metadata": {},
       "output_type": "display_data",
       "text": [
        "<IPython.core.display.Javascript at 0x17174940>"
       ]
      },
      {
       "javascript": [
        "$('div#bd2129a3-323d-42a6-8e90-cbd57c423182').text('  1%');"
       ],
       "metadata": {},
       "output_type": "display_data",
       "text": [
        "<IPython.core.display.Javascript at 0x1a790cf8>"
       ]
      },
      {
       "javascript": [
        "\n",
        "        var $myPB = $(\"div#eba2005d-1f41-4084-b395-2f61730cca21\")\n",
        "        if ($myPB.hasClass('ui-progressbar')) {\n",
        "            $myPB.progressbar('value', 21);\n",
        "        } else {\n",
        "            $myPB.progressbar({value: 0, max: 2029});\n",
        "        }\n",
        "        "
       ],
       "metadata": {},
       "output_type": "display_data",
       "text": [
        "<IPython.core.display.Javascript at 0x1a790b70>"
       ]
      },
      {
       "javascript": [
        "$('div#e03fb02c-de54-45dd-8d13-28d7c7992db5').text('ETA:  0:00:00');"
       ],
       "metadata": {},
       "output_type": "display_data",
       "text": [
        "<IPython.core.display.Javascript at 0x1a790160>"
       ]
      },
      {
       "javascript": [
        "$('div#af272421-38e8-451a-a10f-1777c9fb56ea').text('42 of 2029');"
       ],
       "metadata": {},
       "output_type": "display_data",
       "text": [
        "<IPython.core.display.Javascript at 0x17174940>"
       ]
      },
      {
       "javascript": [
        "$('div#bd2129a3-323d-42a6-8e90-cbd57c423182').text('  2%');"
       ],
       "metadata": {},
       "output_type": "display_data",
       "text": [
        "<IPython.core.display.Javascript at 0x1a790160>"
       ]
      },
      {
       "javascript": [
        "\n",
        "        var $myPB = $(\"div#eba2005d-1f41-4084-b395-2f61730cca21\")\n",
        "        if ($myPB.hasClass('ui-progressbar')) {\n",
        "            $myPB.progressbar('value', 42);\n",
        "        } else {\n",
        "            $myPB.progressbar({value: 0, max: 2029});\n",
        "        }\n",
        "        "
       ],
       "metadata": {},
       "output_type": "display_data",
       "text": [
        "<IPython.core.display.Javascript at 0x1a790b70>"
       ]
      },
      {
       "javascript": [
        "$('div#e03fb02c-de54-45dd-8d13-28d7c7992db5').text('ETA:  0:00:00');"
       ],
       "metadata": {},
       "output_type": "display_data",
       "text": [
        "<IPython.core.display.Javascript at 0x1a790cf8>"
       ]
      },
      {
       "javascript": [
        "$('div#af272421-38e8-451a-a10f-1777c9fb56ea').text('63 of 2029');"
       ],
       "metadata": {},
       "output_type": "display_data",
       "text": [
        "<IPython.core.display.Javascript at 0x17174940>"
       ]
      },
      {
       "javascript": [
        "$('div#bd2129a3-323d-42a6-8e90-cbd57c423182').text('  3%');"
       ],
       "metadata": {},
       "output_type": "display_data",
       "text": [
        "<IPython.core.display.Javascript at 0x1a790b70>"
       ]
      },
      {
       "javascript": [
        "\n",
        "        var $myPB = $(\"div#eba2005d-1f41-4084-b395-2f61730cca21\")\n",
        "        if ($myPB.hasClass('ui-progressbar')) {\n",
        "            $myPB.progressbar('value', 63);\n",
        "        } else {\n",
        "            $myPB.progressbar({value: 0, max: 2029});\n",
        "        }\n",
        "        "
       ],
       "metadata": {},
       "output_type": "display_data",
       "text": [
        "<IPython.core.display.Javascript at 0x1a790cf8>"
       ]
      },
      {
       "javascript": [
        "$('div#e03fb02c-de54-45dd-8d13-28d7c7992db5').text('ETA:  0:00:00');"
       ],
       "metadata": {},
       "output_type": "display_data",
       "text": [
        "<IPython.core.display.Javascript at 0x1a790160>"
       ]
      },
      {
       "javascript": [
        "$('div#af272421-38e8-451a-a10f-1777c9fb56ea').text('84 of 2029');"
       ],
       "metadata": {},
       "output_type": "display_data",
       "text": [
        "<IPython.core.display.Javascript at 0x17174940>"
       ]
      },
      {
       "javascript": [
        "$('div#bd2129a3-323d-42a6-8e90-cbd57c423182').text('  4%');"
       ],
       "metadata": {},
       "output_type": "display_data",
       "text": [
        "<IPython.core.display.Javascript at 0x171740b8>"
       ]
      },
      {
       "javascript": [
        "\n",
        "        var $myPB = $(\"div#eba2005d-1f41-4084-b395-2f61730cca21\")\n",
        "        if ($myPB.hasClass('ui-progressbar')) {\n",
        "            $myPB.progressbar('value', 84);\n",
        "        } else {\n",
        "            $myPB.progressbar({value: 0, max: 2029});\n",
        "        }\n",
        "        "
       ],
       "metadata": {},
       "output_type": "display_data",
       "text": [
        "<IPython.core.display.Javascript at 0x171743c8>"
       ]
      },
      {
       "javascript": [
        "$('div#e03fb02c-de54-45dd-8d13-28d7c7992db5').text('ETA:  0:00:00');"
       ],
       "metadata": {},
       "output_type": "display_data",
       "text": [
        "<IPython.core.display.Javascript at 0x17174c18>"
       ]
      },
      {
       "javascript": [
        "$('div#af272421-38e8-451a-a10f-1777c9fb56ea').text('105 of 2029');"
       ],
       "metadata": {},
       "output_type": "display_data",
       "text": [
        "<IPython.core.display.Javascript at 0x17174c18>"
       ]
      },
      {
       "javascript": [
        "$('div#bd2129a3-323d-42a6-8e90-cbd57c423182').text('  5%');"
       ],
       "metadata": {},
       "output_type": "display_data",
       "text": [
        "<IPython.core.display.Javascript at 0x171743c8>"
       ]
      },
      {
       "javascript": [
        "\n",
        "        var $myPB = $(\"div#eba2005d-1f41-4084-b395-2f61730cca21\")\n",
        "        if ($myPB.hasClass('ui-progressbar')) {\n",
        "            $myPB.progressbar('value', 105);\n",
        "        } else {\n",
        "            $myPB.progressbar({value: 0, max: 2029});\n",
        "        }\n",
        "        "
       ],
       "metadata": {},
       "output_type": "display_data",
       "text": [
        "<IPython.core.display.Javascript at 0x17174940>"
       ]
      },
      {
       "javascript": [
        "$('div#e03fb02c-de54-45dd-8d13-28d7c7992db5').text('ETA:  0:00:00');"
       ],
       "metadata": {},
       "output_type": "display_data",
       "text": [
        "<IPython.core.display.Javascript at 0x171740b8>"
       ]
      },
      {
       "javascript": [
        "$('div#af272421-38e8-451a-a10f-1777c9fb56ea').text('126 of 2029');"
       ],
       "metadata": {},
       "output_type": "display_data",
       "text": [
        "<IPython.core.display.Javascript at 0x171740b8>"
       ]
      },
      {
       "javascript": [
        "$('div#bd2129a3-323d-42a6-8e90-cbd57c423182').text('  6%');"
       ],
       "metadata": {},
       "output_type": "display_data",
       "text": [
        "<IPython.core.display.Javascript at 0x17174940>"
       ]
      },
      {
       "javascript": [
        "\n",
        "        var $myPB = $(\"div#eba2005d-1f41-4084-b395-2f61730cca21\")\n",
        "        if ($myPB.hasClass('ui-progressbar')) {\n",
        "            $myPB.progressbar('value', 126);\n",
        "        } else {\n",
        "            $myPB.progressbar({value: 0, max: 2029});\n",
        "        }\n",
        "        "
       ],
       "metadata": {},
       "output_type": "display_data",
       "text": [
        "<IPython.core.display.Javascript at 0x17174c18>"
       ]
      },
      {
       "javascript": [
        "$('div#e03fb02c-de54-45dd-8d13-28d7c7992db5').text('ETA:  0:00:00');"
       ],
       "metadata": {},
       "output_type": "display_data",
       "text": [
        "<IPython.core.display.Javascript at 0x171743c8>"
       ]
      },
      {
       "javascript": [
        "$('div#af272421-38e8-451a-a10f-1777c9fb56ea').text('147 of 2029');"
       ],
       "metadata": {},
       "output_type": "display_data",
       "text": [
        "<IPython.core.display.Javascript at 0x171743c8>"
       ]
      },
      {
       "javascript": [
        "$('div#bd2129a3-323d-42a6-8e90-cbd57c423182').text('  7%');"
       ],
       "metadata": {},
       "output_type": "display_data",
       "text": [
        "<IPython.core.display.Javascript at 0x17174c18>"
       ]
      },
      {
       "javascript": [
        "\n",
        "        var $myPB = $(\"div#eba2005d-1f41-4084-b395-2f61730cca21\")\n",
        "        if ($myPB.hasClass('ui-progressbar')) {\n",
        "            $myPB.progressbar('value', 147);\n",
        "        } else {\n",
        "            $myPB.progressbar({value: 0, max: 2029});\n",
        "        }\n",
        "        "
       ],
       "metadata": {},
       "output_type": "display_data",
       "text": [
        "<IPython.core.display.Javascript at 0x17174940>"
       ]
      },
      {
       "javascript": [
        "$('div#e03fb02c-de54-45dd-8d13-28d7c7992db5').text('ETA:  0:00:00');"
       ],
       "metadata": {},
       "output_type": "display_data",
       "text": [
        "<IPython.core.display.Javascript at 0x171740b8>"
       ]
      },
      {
       "javascript": [
        "$('div#af272421-38e8-451a-a10f-1777c9fb56ea').text('168 of 2029');"
       ],
       "metadata": {},
       "output_type": "display_data",
       "text": [
        "<IPython.core.display.Javascript at 0x171740b8>"
       ]
      },
      {
       "javascript": [
        "$('div#bd2129a3-323d-42a6-8e90-cbd57c423182').text('  8%');"
       ],
       "metadata": {},
       "output_type": "display_data",
       "text": [
        "<IPython.core.display.Javascript at 0x17174c18>"
       ]
      },
      {
       "javascript": [
        "\n",
        "        var $myPB = $(\"div#eba2005d-1f41-4084-b395-2f61730cca21\")\n",
        "        if ($myPB.hasClass('ui-progressbar')) {\n",
        "            $myPB.progressbar('value', 168);\n",
        "        } else {\n",
        "            $myPB.progressbar({value: 0, max: 2029});\n",
        "        }\n",
        "        "
       ],
       "metadata": {},
       "output_type": "display_data",
       "text": [
        "<IPython.core.display.Javascript at 0x171743c8>"
       ]
      },
      {
       "javascript": [
        "$('div#e03fb02c-de54-45dd-8d13-28d7c7992db5').text('ETA:  0:00:00');"
       ],
       "metadata": {},
       "output_type": "display_data",
       "text": [
        "<IPython.core.display.Javascript at 0x171743c8>"
       ]
      },
      {
       "javascript": [
        "$('div#af272421-38e8-451a-a10f-1777c9fb56ea').text('189 of 2029');"
       ],
       "metadata": {},
       "output_type": "display_data",
       "text": [
        "<IPython.core.display.Javascript at 0x17174940>"
       ]
      },
      {
       "javascript": [
        "$('div#bd2129a3-323d-42a6-8e90-cbd57c423182').text('  9%');"
       ],
       "metadata": {},
       "output_type": "display_data",
       "text": [
        "<IPython.core.display.Javascript at 0x171740b8>"
       ]
      },
      {
       "javascript": [
        "\n",
        "        var $myPB = $(\"div#eba2005d-1f41-4084-b395-2f61730cca21\")\n",
        "        if ($myPB.hasClass('ui-progressbar')) {\n",
        "            $myPB.progressbar('value', 189);\n",
        "        } else {\n",
        "            $myPB.progressbar({value: 0, max: 2029});\n",
        "        }\n",
        "        "
       ],
       "metadata": {},
       "output_type": "display_data",
       "text": [
        "<IPython.core.display.Javascript at 0x17174c18>"
       ]
      },
      {
       "javascript": [
        "$('div#e03fb02c-de54-45dd-8d13-28d7c7992db5').text('ETA:  0:00:00');"
       ],
       "metadata": {},
       "output_type": "display_data",
       "text": [
        "<IPython.core.display.Javascript at 0x17174c18>"
       ]
      },
      {
       "javascript": [
        "$('div#af272421-38e8-451a-a10f-1777c9fb56ea').text('210 of 2029');"
       ],
       "metadata": {},
       "output_type": "display_data",
       "text": [
        "<IPython.core.display.Javascript at 0x171740b8>"
       ]
      },
      {
       "javascript": [
        "$('div#bd2129a3-323d-42a6-8e90-cbd57c423182').text(' 10%');"
       ],
       "metadata": {},
       "output_type": "display_data",
       "text": [
        "<IPython.core.display.Javascript at 0x171743c8>"
       ]
      },
      {
       "javascript": [
        "\n",
        "        var $myPB = $(\"div#eba2005d-1f41-4084-b395-2f61730cca21\")\n",
        "        if ($myPB.hasClass('ui-progressbar')) {\n",
        "            $myPB.progressbar('value', 210);\n",
        "        } else {\n",
        "            $myPB.progressbar({value: 0, max: 2029});\n",
        "        }\n",
        "        "
       ],
       "metadata": {},
       "output_type": "display_data",
       "text": [
        "<IPython.core.display.Javascript at 0x17174940>"
       ]
      },
      {
       "javascript": [
        "$('div#e03fb02c-de54-45dd-8d13-28d7c7992db5').text('ETA:  0:00:00');"
       ],
       "metadata": {},
       "output_type": "display_data",
       "text": [
        "<IPython.core.display.Javascript at 0x17174940>"
       ]
      },
      {
       "javascript": [
        "$('div#af272421-38e8-451a-a10f-1777c9fb56ea').text('231 of 2029');"
       ],
       "metadata": {},
       "output_type": "display_data",
       "text": [
        "<IPython.core.display.Javascript at 0x171743c8>"
       ]
      },
      {
       "javascript": [
        "$('div#bd2129a3-323d-42a6-8e90-cbd57c423182').text(' 11%');"
       ],
       "metadata": {},
       "output_type": "display_data",
       "text": [
        "<IPython.core.display.Javascript at 0x17174c18>"
       ]
      },
      {
       "javascript": [
        "\n",
        "        var $myPB = $(\"div#eba2005d-1f41-4084-b395-2f61730cca21\")\n",
        "        if ($myPB.hasClass('ui-progressbar')) {\n",
        "            $myPB.progressbar('value', 231);\n",
        "        } else {\n",
        "            $myPB.progressbar({value: 0, max: 2029});\n",
        "        }\n",
        "        "
       ],
       "metadata": {},
       "output_type": "display_data",
       "text": [
        "<IPython.core.display.Javascript at 0x171740b8>"
       ]
      },
      {
       "javascript": [
        "$('div#e03fb02c-de54-45dd-8d13-28d7c7992db5').text('ETA:  0:00:00');"
       ],
       "metadata": {},
       "output_type": "display_data",
       "text": [
        "<IPython.core.display.Javascript at 0x171740b8>"
       ]
      },
      {
       "javascript": [
        "$('div#af272421-38e8-451a-a10f-1777c9fb56ea').text('252 of 2029');"
       ],
       "metadata": {},
       "output_type": "display_data",
       "text": [
        "<IPython.core.display.Javascript at 0x17174c18>"
       ]
      },
      {
       "javascript": [
        "$('div#bd2129a3-323d-42a6-8e90-cbd57c423182').text(' 12%');"
       ],
       "metadata": {},
       "output_type": "display_data",
       "text": [
        "<IPython.core.display.Javascript at 0x17174940>"
       ]
      },
      {
       "javascript": [
        "\n",
        "        var $myPB = $(\"div#eba2005d-1f41-4084-b395-2f61730cca21\")\n",
        "        if ($myPB.hasClass('ui-progressbar')) {\n",
        "            $myPB.progressbar('value', 252);\n",
        "        } else {\n",
        "            $myPB.progressbar({value: 0, max: 2029});\n",
        "        }\n",
        "        "
       ],
       "metadata": {},
       "output_type": "display_data",
       "text": [
        "<IPython.core.display.Javascript at 0x17174940>"
       ]
      },
      {
       "javascript": [
        "$('div#e03fb02c-de54-45dd-8d13-28d7c7992db5').text('ETA:  0:00:00');"
       ],
       "metadata": {},
       "output_type": "display_data",
       "text": [
        "<IPython.core.display.Javascript at 0x171743c8>"
       ]
      },
      {
       "javascript": [
        "$('div#af272421-38e8-451a-a10f-1777c9fb56ea').text('273 of 2029');"
       ],
       "metadata": {},
       "output_type": "display_data",
       "text": [
        "<IPython.core.display.Javascript at 0x171740b8>"
       ]
      },
      {
       "javascript": [
        "$('div#bd2129a3-323d-42a6-8e90-cbd57c423182').text(' 13%');"
       ],
       "metadata": {},
       "output_type": "display_data",
       "text": [
        "<IPython.core.display.Javascript at 0x17174c18>"
       ]
      },
      {
       "javascript": [
        "\n",
        "        var $myPB = $(\"div#eba2005d-1f41-4084-b395-2f61730cca21\")\n",
        "        if ($myPB.hasClass('ui-progressbar')) {\n",
        "            $myPB.progressbar('value', 273);\n",
        "        } else {\n",
        "            $myPB.progressbar({value: 0, max: 2029});\n",
        "        }\n",
        "        "
       ],
       "metadata": {},
       "output_type": "display_data",
       "text": [
        "<IPython.core.display.Javascript at 0x17174c18>"
       ]
      },
      {
       "javascript": [
        "$('div#e03fb02c-de54-45dd-8d13-28d7c7992db5').text('ETA:  0:00:00');"
       ],
       "metadata": {},
       "output_type": "display_data",
       "text": [
        "<IPython.core.display.Javascript at 0x171740b8>"
       ]
      },
      {
       "javascript": [
        "$('div#af272421-38e8-451a-a10f-1777c9fb56ea').text('294 of 2029');"
       ],
       "metadata": {},
       "output_type": "display_data",
       "text": [
        "<IPython.core.display.Javascript at 0x17174940>"
       ]
      },
      {
       "javascript": [
        "$('div#bd2129a3-323d-42a6-8e90-cbd57c423182').text(' 14%');"
       ],
       "metadata": {},
       "output_type": "display_data",
       "text": [
        "<IPython.core.display.Javascript at 0x171743c8>"
       ]
      },
      {
       "javascript": [
        "\n",
        "        var $myPB = $(\"div#eba2005d-1f41-4084-b395-2f61730cca21\")\n",
        "        if ($myPB.hasClass('ui-progressbar')) {\n",
        "            $myPB.progressbar('value', 294);\n",
        "        } else {\n",
        "            $myPB.progressbar({value: 0, max: 2029});\n",
        "        }\n",
        "        "
       ],
       "metadata": {},
       "output_type": "display_data",
       "text": [
        "<IPython.core.display.Javascript at 0x171743c8>"
       ]
      },
      {
       "javascript": [
        "$('div#e03fb02c-de54-45dd-8d13-28d7c7992db5').text('ETA:  0:00:00');"
       ],
       "metadata": {},
       "output_type": "display_data",
       "text": [
        "<IPython.core.display.Javascript at 0x171740b8>"
       ]
      },
      {
       "javascript": [
        "$('div#af272421-38e8-451a-a10f-1777c9fb56ea').text('315 of 2029');"
       ],
       "metadata": {},
       "output_type": "display_data",
       "text": [
        "<IPython.core.display.Javascript at 0x17174c18>"
       ]
      },
      {
       "javascript": [
        "$('div#bd2129a3-323d-42a6-8e90-cbd57c423182').text(' 15%');"
       ],
       "metadata": {},
       "output_type": "display_data",
       "text": [
        "<IPython.core.display.Javascript at 0x17174940>"
       ]
      },
      {
       "javascript": [
        "\n",
        "        var $myPB = $(\"div#eba2005d-1f41-4084-b395-2f61730cca21\")\n",
        "        if ($myPB.hasClass('ui-progressbar')) {\n",
        "            $myPB.progressbar('value', 315);\n",
        "        } else {\n",
        "            $myPB.progressbar({value: 0, max: 2029});\n",
        "        }\n",
        "        "
       ],
       "metadata": {},
       "output_type": "display_data",
       "text": [
        "<IPython.core.display.Javascript at 0x1a790b70>"
       ]
      },
      {
       "javascript": [
        "$('div#e03fb02c-de54-45dd-8d13-28d7c7992db5').text('ETA:  0:00:00');"
       ],
       "metadata": {},
       "output_type": "display_data",
       "text": [
        "<IPython.core.display.Javascript at 0x1a790160>"
       ]
      },
      {
       "javascript": [
        "$('div#af272421-38e8-451a-a10f-1777c9fb56ea').text('336 of 2029');"
       ],
       "metadata": {},
       "output_type": "display_data",
       "text": [
        "<IPython.core.display.Javascript at 0x1a790cf8>"
       ]
      },
      {
       "javascript": [
        "$('div#bd2129a3-323d-42a6-8e90-cbd57c423182').text(' 16%');"
       ],
       "metadata": {},
       "output_type": "display_data",
       "text": [
        "<IPython.core.display.Javascript at 0x1a790cf8>"
       ]
      },
      {
       "javascript": [
        "\n",
        "        var $myPB = $(\"div#eba2005d-1f41-4084-b395-2f61730cca21\")\n",
        "        if ($myPB.hasClass('ui-progressbar')) {\n",
        "            $myPB.progressbar('value', 336);\n",
        "        } else {\n",
        "            $myPB.progressbar({value: 0, max: 2029});\n",
        "        }\n",
        "        "
       ],
       "metadata": {},
       "output_type": "display_data",
       "text": [
        "<IPython.core.display.Javascript at 0x1a790160>"
       ]
      },
      {
       "javascript": [
        "$('div#e03fb02c-de54-45dd-8d13-28d7c7992db5').text('ETA:  0:00:00');"
       ],
       "metadata": {},
       "output_type": "display_data",
       "text": [
        "<IPython.core.display.Javascript at 0x1a790b70>"
       ]
      },
      {
       "javascript": [
        "$('div#af272421-38e8-451a-a10f-1777c9fb56ea').text('357 of 2029');"
       ],
       "metadata": {},
       "output_type": "display_data",
       "text": [
        "<IPython.core.display.Javascript at 0x171740b8>"
       ]
      },
      {
       "javascript": [
        "$('div#bd2129a3-323d-42a6-8e90-cbd57c423182').text(' 17%');"
       ],
       "metadata": {},
       "output_type": "display_data",
       "text": [
        "<IPython.core.display.Javascript at 0x171740b8>"
       ]
      },
      {
       "javascript": [
        "\n",
        "        var $myPB = $(\"div#eba2005d-1f41-4084-b395-2f61730cca21\")\n",
        "        if ($myPB.hasClass('ui-progressbar')) {\n",
        "            $myPB.progressbar('value', 357);\n",
        "        } else {\n",
        "            $myPB.progressbar({value: 0, max: 2029});\n",
        "        }\n",
        "        "
       ],
       "metadata": {},
       "output_type": "display_data",
       "text": [
        "<IPython.core.display.Javascript at 0x17174c18>"
       ]
      },
      {
       "javascript": [
        "$('div#e03fb02c-de54-45dd-8d13-28d7c7992db5').text('ETA:  0:00:00');"
       ],
       "metadata": {},
       "output_type": "display_data",
       "text": [
        "<IPython.core.display.Javascript at 0x171743c8>"
       ]
      },
      {
       "javascript": [
        "$('div#af272421-38e8-451a-a10f-1777c9fb56ea').text('378 of 2029');"
       ],
       "metadata": {},
       "output_type": "display_data",
       "text": [
        "<IPython.core.display.Javascript at 0x1a790b70>"
       ]
      },
      {
       "javascript": [
        "$('div#bd2129a3-323d-42a6-8e90-cbd57c423182').text(' 18%');"
       ],
       "metadata": {},
       "output_type": "display_data",
       "text": [
        "<IPython.core.display.Javascript at 0x1a790b70>"
       ]
      },
      {
       "javascript": [
        "\n",
        "        var $myPB = $(\"div#eba2005d-1f41-4084-b395-2f61730cca21\")\n",
        "        if ($myPB.hasClass('ui-progressbar')) {\n",
        "            $myPB.progressbar('value', 378);\n",
        "        } else {\n",
        "            $myPB.progressbar({value: 0, max: 2029});\n",
        "        }\n",
        "        "
       ],
       "metadata": {},
       "output_type": "display_data",
       "text": [
        "<IPython.core.display.Javascript at 0x1a790cf8>"
       ]
      },
      {
       "javascript": [
        "$('div#e03fb02c-de54-45dd-8d13-28d7c7992db5').text('ETA:  0:00:00');"
       ],
       "metadata": {},
       "output_type": "display_data",
       "text": [
        "<IPython.core.display.Javascript at 0x1a790160>"
       ]
      },
      {
       "javascript": [
        "$('div#af272421-38e8-451a-a10f-1777c9fb56ea').text('399 of 2029');"
       ],
       "metadata": {},
       "output_type": "display_data",
       "text": [
        "<IPython.core.display.Javascript at 0x171743c8>"
       ]
      },
      {
       "javascript": [
        "$('div#bd2129a3-323d-42a6-8e90-cbd57c423182').text(' 19%');"
       ],
       "metadata": {},
       "output_type": "display_data",
       "text": [
        "<IPython.core.display.Javascript at 0x171743c8>"
       ]
      },
      {
       "javascript": [
        "\n",
        "        var $myPB = $(\"div#eba2005d-1f41-4084-b395-2f61730cca21\")\n",
        "        if ($myPB.hasClass('ui-progressbar')) {\n",
        "            $myPB.progressbar('value', 399);\n",
        "        } else {\n",
        "            $myPB.progressbar({value: 0, max: 2029});\n",
        "        }\n",
        "        "
       ],
       "metadata": {},
       "output_type": "display_data",
       "text": [
        "<IPython.core.display.Javascript at 0x171740b8>"
       ]
      },
      {
       "javascript": [
        "$('div#e03fb02c-de54-45dd-8d13-28d7c7992db5').text('ETA:  0:00:00');"
       ],
       "metadata": {},
       "output_type": "display_data",
       "text": [
        "<IPython.core.display.Javascript at 0x17174c18>"
       ]
      },
      {
       "javascript": [
        "$('div#af272421-38e8-451a-a10f-1777c9fb56ea').text('420 of 2029');"
       ],
       "metadata": {},
       "output_type": "display_data",
       "text": [
        "<IPython.core.display.Javascript at 0x1a790cf8>"
       ]
      },
      {
       "javascript": [
        "$('div#bd2129a3-323d-42a6-8e90-cbd57c423182').text(' 20%');"
       ],
       "metadata": {},
       "output_type": "display_data",
       "text": [
        "<IPython.core.display.Javascript at 0x1a790b70>"
       ]
      },
      {
       "javascript": [
        "\n",
        "        var $myPB = $(\"div#eba2005d-1f41-4084-b395-2f61730cca21\")\n",
        "        if ($myPB.hasClass('ui-progressbar')) {\n",
        "            $myPB.progressbar('value', 420);\n",
        "        } else {\n",
        "            $myPB.progressbar({value: 0, max: 2029});\n",
        "        }\n",
        "        "
       ],
       "metadata": {},
       "output_type": "display_data",
       "text": [
        "<IPython.core.display.Javascript at 0x1a790160>"
       ]
      },
      {
       "javascript": [
        "$('div#e03fb02c-de54-45dd-8d13-28d7c7992db5').text('ETA:  0:00:00');"
       ],
       "metadata": {},
       "output_type": "display_data",
       "text": [
        "<IPython.core.display.Javascript at 0x17174c18>"
       ]
      },
      {
       "javascript": [
        "$('div#af272421-38e8-451a-a10f-1777c9fb56ea').text('441 of 2029');"
       ],
       "metadata": {},
       "output_type": "display_data",
       "text": [
        "<IPython.core.display.Javascript at 0x1a790160>"
       ]
      },
      {
       "javascript": [
        "$('div#bd2129a3-323d-42a6-8e90-cbd57c423182').text(' 21%');"
       ],
       "metadata": {},
       "output_type": "display_data",
       "text": [
        "<IPython.core.display.Javascript at 0x1a790b70>"
       ]
      },
      {
       "javascript": [
        "\n",
        "        var $myPB = $(\"div#eba2005d-1f41-4084-b395-2f61730cca21\")\n",
        "        if ($myPB.hasClass('ui-progressbar')) {\n",
        "            $myPB.progressbar('value', 441);\n",
        "        } else {\n",
        "            $myPB.progressbar({value: 0, max: 2029});\n",
        "        }\n",
        "        "
       ],
       "metadata": {},
       "output_type": "display_data",
       "text": [
        "<IPython.core.display.Javascript at 0x1a790cf8>"
       ]
      },
      {
       "javascript": [
        "$('div#e03fb02c-de54-45dd-8d13-28d7c7992db5').text('ETA:  0:00:00');"
       ],
       "metadata": {},
       "output_type": "display_data",
       "text": [
        "<IPython.core.display.Javascript at 0x17174c18>"
       ]
      },
      {
       "javascript": [
        "$('div#af272421-38e8-451a-a10f-1777c9fb56ea').text('462 of 2029');"
       ],
       "metadata": {},
       "output_type": "display_data",
       "text": [
        "<IPython.core.display.Javascript at 0x1a790cf8>"
       ]
      },
      {
       "javascript": [
        "$('div#bd2129a3-323d-42a6-8e90-cbd57c423182').text(' 22%');"
       ],
       "metadata": {},
       "output_type": "display_data",
       "text": [
        "<IPython.core.display.Javascript at 0x1a790b70>"
       ]
      },
      {
       "javascript": [
        "\n",
        "        var $myPB = $(\"div#eba2005d-1f41-4084-b395-2f61730cca21\")\n",
        "        if ($myPB.hasClass('ui-progressbar')) {\n",
        "            $myPB.progressbar('value', 462);\n",
        "        } else {\n",
        "            $myPB.progressbar({value: 0, max: 2029});\n",
        "        }\n",
        "        "
       ],
       "metadata": {},
       "output_type": "display_data",
       "text": [
        "<IPython.core.display.Javascript at 0x1a790160>"
       ]
      },
      {
       "javascript": [
        "$('div#e03fb02c-de54-45dd-8d13-28d7c7992db5').text('ETA:  0:00:00');"
       ],
       "metadata": {},
       "output_type": "display_data",
       "text": [
        "<IPython.core.display.Javascript at 0x17174c18>"
       ]
      },
      {
       "javascript": [
        "$('div#af272421-38e8-451a-a10f-1777c9fb56ea').text('483 of 2029');"
       ],
       "metadata": {},
       "output_type": "display_data",
       "text": [
        "<IPython.core.display.Javascript at 0x1a790160>"
       ]
      },
      {
       "javascript": [
        "$('div#bd2129a3-323d-42a6-8e90-cbd57c423182').text(' 23%');"
       ],
       "metadata": {},
       "output_type": "display_data",
       "text": [
        "<IPython.core.display.Javascript at 0x1a790b70>"
       ]
      },
      {
       "javascript": [
        "\n",
        "        var $myPB = $(\"div#eba2005d-1f41-4084-b395-2f61730cca21\")\n",
        "        if ($myPB.hasClass('ui-progressbar')) {\n",
        "            $myPB.progressbar('value', 483);\n",
        "        } else {\n",
        "            $myPB.progressbar({value: 0, max: 2029});\n",
        "        }\n",
        "        "
       ],
       "metadata": {},
       "output_type": "display_data",
       "text": [
        "<IPython.core.display.Javascript at 0x1a790cf8>"
       ]
      },
      {
       "javascript": [
        "$('div#e03fb02c-de54-45dd-8d13-28d7c7992db5').text('ETA:  0:00:00');"
       ],
       "metadata": {},
       "output_type": "display_data",
       "text": [
        "<IPython.core.display.Javascript at 0x17174c18>"
       ]
      },
      {
       "javascript": [
        "$('div#af272421-38e8-451a-a10f-1777c9fb56ea').text('504 of 2029');"
       ],
       "metadata": {},
       "output_type": "display_data",
       "text": [
        "<IPython.core.display.Javascript at 0x1a790b70>"
       ]
      },
      {
       "javascript": [
        "$('div#bd2129a3-323d-42a6-8e90-cbd57c423182').text(' 24%');"
       ],
       "metadata": {},
       "output_type": "display_data",
       "text": [
        "<IPython.core.display.Javascript at 0x1a790cf8>"
       ]
      },
      {
       "javascript": [
        "\n",
        "        var $myPB = $(\"div#eba2005d-1f41-4084-b395-2f61730cca21\")\n",
        "        if ($myPB.hasClass('ui-progressbar')) {\n",
        "            $myPB.progressbar('value', 504);\n",
        "        } else {\n",
        "            $myPB.progressbar({value: 0, max: 2029});\n",
        "        }\n",
        "        "
       ],
       "metadata": {},
       "output_type": "display_data",
       "text": [
        "<IPython.core.display.Javascript at 0x1a790160>"
       ]
      },
      {
       "javascript": [
        "$('div#e03fb02c-de54-45dd-8d13-28d7c7992db5').text('ETA:  0:00:00');"
       ],
       "metadata": {},
       "output_type": "display_data",
       "text": [
        "<IPython.core.display.Javascript at 0x17174c18>"
       ]
      },
      {
       "javascript": [
        "$('div#af272421-38e8-451a-a10f-1777c9fb56ea').text('525 of 2029');"
       ],
       "metadata": {},
       "output_type": "display_data",
       "text": [
        "<IPython.core.display.Javascript at 0x171743c8>"
       ]
      },
      {
       "javascript": [
        "$('div#bd2129a3-323d-42a6-8e90-cbd57c423182').text(' 25%');"
       ],
       "metadata": {},
       "output_type": "display_data",
       "text": [
        "<IPython.core.display.Javascript at 0x171740b8>"
       ]
      },
      {
       "javascript": [
        "\n",
        "        var $myPB = $(\"div#eba2005d-1f41-4084-b395-2f61730cca21\")\n",
        "        if ($myPB.hasClass('ui-progressbar')) {\n",
        "            $myPB.progressbar('value', 525);\n",
        "        } else {\n",
        "            $myPB.progressbar({value: 0, max: 2029});\n",
        "        }\n",
        "        "
       ],
       "metadata": {},
       "output_type": "display_data",
       "text": [
        "<IPython.core.display.Javascript at 0x17174940>"
       ]
      },
      {
       "javascript": [
        "$('div#e03fb02c-de54-45dd-8d13-28d7c7992db5').text('ETA:  0:00:00');"
       ],
       "metadata": {},
       "output_type": "display_data",
       "text": [
        "<IPython.core.display.Javascript at 0x17174940>"
       ]
      },
      {
       "javascript": [
        "$('div#af272421-38e8-451a-a10f-1777c9fb56ea').text('546 of 2029');"
       ],
       "metadata": {},
       "output_type": "display_data",
       "text": [
        "<IPython.core.display.Javascript at 0x171740b8>"
       ]
      },
      {
       "javascript": [
        "$('div#bd2129a3-323d-42a6-8e90-cbd57c423182').text(' 26%');"
       ],
       "metadata": {},
       "output_type": "display_data",
       "text": [
        "<IPython.core.display.Javascript at 0x171743c8>"
       ]
      },
      {
       "javascript": [
        "\n",
        "        var $myPB = $(\"div#eba2005d-1f41-4084-b395-2f61730cca21\")\n",
        "        if ($myPB.hasClass('ui-progressbar')) {\n",
        "            $myPB.progressbar('value', 546);\n",
        "        } else {\n",
        "            $myPB.progressbar({value: 0, max: 2029});\n",
        "        }\n",
        "        "
       ],
       "metadata": {},
       "output_type": "display_data",
       "text": [
        "<IPython.core.display.Javascript at 0x1a790160>"
       ]
      },
      {
       "javascript": [
        "$('div#e03fb02c-de54-45dd-8d13-28d7c7992db5').text('ETA:  0:00:00');"
       ],
       "metadata": {},
       "output_type": "display_data",
       "text": [
        "<IPython.core.display.Javascript at 0x1a790160>"
       ]
      },
      {
       "javascript": [
        "$('div#af272421-38e8-451a-a10f-1777c9fb56ea').text('567 of 2029');"
       ],
       "metadata": {},
       "output_type": "display_data",
       "text": [
        "<IPython.core.display.Javascript at 0x1a790cf8>"
       ]
      },
      {
       "javascript": [
        "$('div#bd2129a3-323d-42a6-8e90-cbd57c423182').text(' 27%');"
       ],
       "metadata": {},
       "output_type": "display_data",
       "text": [
        "<IPython.core.display.Javascript at 0x1a790b70>"
       ]
      },
      {
       "javascript": [
        "\n",
        "        var $myPB = $(\"div#eba2005d-1f41-4084-b395-2f61730cca21\")\n",
        "        if ($myPB.hasClass('ui-progressbar')) {\n",
        "            $myPB.progressbar('value', 567);\n",
        "        } else {\n",
        "            $myPB.progressbar({value: 0, max: 2029});\n",
        "        }\n",
        "        "
       ],
       "metadata": {},
       "output_type": "display_data",
       "text": [
        "<IPython.core.display.Javascript at 0x17174940>"
       ]
      },
      {
       "javascript": [
        "$('div#e03fb02c-de54-45dd-8d13-28d7c7992db5').text('ETA:  0:00:00');"
       ],
       "metadata": {},
       "output_type": "display_data",
       "text": [
        "<IPython.core.display.Javascript at 0x17174940>"
       ]
      },
      {
       "javascript": [
        "$('div#af272421-38e8-451a-a10f-1777c9fb56ea').text('588 of 2029');"
       ],
       "metadata": {},
       "output_type": "display_data",
       "text": [
        "<IPython.core.display.Javascript at 0x171743c8>"
       ]
      },
      {
       "javascript": [
        "$('div#bd2129a3-323d-42a6-8e90-cbd57c423182').text(' 28%');"
       ],
       "metadata": {},
       "output_type": "display_data",
       "text": [
        "<IPython.core.display.Javascript at 0x171740b8>"
       ]
      },
      {
       "javascript": [
        "\n",
        "        var $myPB = $(\"div#eba2005d-1f41-4084-b395-2f61730cca21\")\n",
        "        if ($myPB.hasClass('ui-progressbar')) {\n",
        "            $myPB.progressbar('value', 588);\n",
        "        } else {\n",
        "            $myPB.progressbar({value: 0, max: 2029});\n",
        "        }\n",
        "        "
       ],
       "metadata": {},
       "output_type": "display_data",
       "text": [
        "<IPython.core.display.Javascript at 0x1a790cf8>"
       ]
      },
      {
       "javascript": [
        "$('div#e03fb02c-de54-45dd-8d13-28d7c7992db5').text('ETA:  0:00:00');"
       ],
       "metadata": {},
       "output_type": "display_data",
       "text": [
        "<IPython.core.display.Javascript at 0x1a790cf8>"
       ]
      },
      {
       "javascript": [
        "$('div#af272421-38e8-451a-a10f-1777c9fb56ea').text('609 of 2029');"
       ],
       "metadata": {},
       "output_type": "display_data",
       "text": [
        "<IPython.core.display.Javascript at 0x1a790160>"
       ]
      },
      {
       "javascript": [
        "$('div#bd2129a3-323d-42a6-8e90-cbd57c423182').text(' 30%');"
       ],
       "metadata": {},
       "output_type": "display_data",
       "text": [
        "<IPython.core.display.Javascript at 0x1a790b70>"
       ]
      },
      {
       "javascript": [
        "\n",
        "        var $myPB = $(\"div#eba2005d-1f41-4084-b395-2f61730cca21\")\n",
        "        if ($myPB.hasClass('ui-progressbar')) {\n",
        "            $myPB.progressbar('value', 609);\n",
        "        } else {\n",
        "            $myPB.progressbar({value: 0, max: 2029});\n",
        "        }\n",
        "        "
       ],
       "metadata": {},
       "output_type": "display_data",
       "text": [
        "<IPython.core.display.Javascript at 0x17174940>"
       ]
      },
      {
       "javascript": [
        "$('div#e03fb02c-de54-45dd-8d13-28d7c7992db5').text('ETA:  0:00:00');"
       ],
       "metadata": {},
       "output_type": "display_data",
       "text": [
        "<IPython.core.display.Javascript at 0x171743c8>"
       ]
      },
      {
       "javascript": [
        "$('div#af272421-38e8-451a-a10f-1777c9fb56ea').text('630 of 2029');"
       ],
       "metadata": {},
       "output_type": "display_data",
       "text": [
        "<IPython.core.display.Javascript at 0x171740b8>"
       ]
      },
      {
       "javascript": [
        "$('div#bd2129a3-323d-42a6-8e90-cbd57c423182').text(' 31%');"
       ],
       "metadata": {},
       "output_type": "display_data",
       "text": [
        "<IPython.core.display.Javascript at 0x1a790b70>"
       ]
      },
      {
       "javascript": [
        "\n",
        "        var $myPB = $(\"div#eba2005d-1f41-4084-b395-2f61730cca21\")\n",
        "        if ($myPB.hasClass('ui-progressbar')) {\n",
        "            $myPB.progressbar('value', 630);\n",
        "        } else {\n",
        "            $myPB.progressbar({value: 0, max: 2029});\n",
        "        }\n",
        "        "
       ],
       "metadata": {},
       "output_type": "display_data",
       "text": [
        "<IPython.core.display.Javascript at 0x1a790b70>"
       ]
      },
      {
       "javascript": [
        "$('div#e03fb02c-de54-45dd-8d13-28d7c7992db5').text('ETA:  0:00:00');"
       ],
       "metadata": {},
       "output_type": "display_data",
       "text": [
        "<IPython.core.display.Javascript at 0x1a790160>"
       ]
      },
      {
       "javascript": [
        "$('div#af272421-38e8-451a-a10f-1777c9fb56ea').text('651 of 2029');"
       ],
       "metadata": {},
       "output_type": "display_data",
       "text": [
        "<IPython.core.display.Javascript at 0x1a790cf8>"
       ]
      },
      {
       "javascript": [
        "$('div#bd2129a3-323d-42a6-8e90-cbd57c423182').text(' 32%');"
       ],
       "metadata": {},
       "output_type": "display_data",
       "text": [
        "<IPython.core.display.Javascript at 0x171740b8>"
       ]
      },
      {
       "javascript": [
        "\n",
        "        var $myPB = $(\"div#eba2005d-1f41-4084-b395-2f61730cca21\")\n",
        "        if ($myPB.hasClass('ui-progressbar')) {\n",
        "            $myPB.progressbar('value', 651);\n",
        "        } else {\n",
        "            $myPB.progressbar({value: 0, max: 2029});\n",
        "        }\n",
        "        "
       ],
       "metadata": {},
       "output_type": "display_data",
       "text": [
        "<IPython.core.display.Javascript at 0x1a790cf8>"
       ]
      },
      {
       "javascript": [
        "$('div#e03fb02c-de54-45dd-8d13-28d7c7992db5').text('ETA:  0:00:00');"
       ],
       "metadata": {},
       "output_type": "display_data",
       "text": [
        "<IPython.core.display.Javascript at 0x1a790160>"
       ]
      },
      {
       "javascript": [
        "$('div#af272421-38e8-451a-a10f-1777c9fb56ea').text('672 of 2029');"
       ],
       "metadata": {},
       "output_type": "display_data",
       "text": [
        "<IPython.core.display.Javascript at 0x1a790b70>"
       ]
      },
      {
       "javascript": [
        "$('div#bd2129a3-323d-42a6-8e90-cbd57c423182').text(' 33%');"
       ],
       "metadata": {},
       "output_type": "display_data",
       "text": [
        "<IPython.core.display.Javascript at 0x171740b8>"
       ]
      },
      {
       "javascript": [
        "\n",
        "        var $myPB = $(\"div#eba2005d-1f41-4084-b395-2f61730cca21\")\n",
        "        if ($myPB.hasClass('ui-progressbar')) {\n",
        "            $myPB.progressbar('value', 672);\n",
        "        } else {\n",
        "            $myPB.progressbar({value: 0, max: 2029});\n",
        "        }\n",
        "        "
       ],
       "metadata": {},
       "output_type": "display_data",
       "text": [
        "<IPython.core.display.Javascript at 0x1a790160>"
       ]
      },
      {
       "javascript": [
        "$('div#e03fb02c-de54-45dd-8d13-28d7c7992db5').text('ETA:  0:00:00');"
       ],
       "metadata": {},
       "output_type": "display_data",
       "text": [
        "<IPython.core.display.Javascript at 0x1a790b70>"
       ]
      },
      {
       "javascript": [
        "$('div#af272421-38e8-451a-a10f-1777c9fb56ea').text('693 of 2029');"
       ],
       "metadata": {},
       "output_type": "display_data",
       "text": [
        "<IPython.core.display.Javascript at 0x1a790cf8>"
       ]
      },
      {
       "javascript": [
        "$('div#bd2129a3-323d-42a6-8e90-cbd57c423182').text(' 34%');"
       ],
       "metadata": {},
       "output_type": "display_data",
       "text": [
        "<IPython.core.display.Javascript at 0x1a790cf8>"
       ]
      },
      {
       "javascript": [
        "\n",
        "        var $myPB = $(\"div#eba2005d-1f41-4084-b395-2f61730cca21\")\n",
        "        if ($myPB.hasClass('ui-progressbar')) {\n",
        "            $myPB.progressbar('value', 693);\n",
        "        } else {\n",
        "            $myPB.progressbar({value: 0, max: 2029});\n",
        "        }\n",
        "        "
       ],
       "metadata": {},
       "output_type": "display_data",
       "text": [
        "<IPython.core.display.Javascript at 0x1a790b70>"
       ]
      },
      {
       "javascript": [
        "$('div#e03fb02c-de54-45dd-8d13-28d7c7992db5').text('ETA:  0:00:00');"
       ],
       "metadata": {},
       "output_type": "display_data",
       "text": [
        "<IPython.core.display.Javascript at 0x1a790160>"
       ]
      },
      {
       "javascript": [
        "$('div#af272421-38e8-451a-a10f-1777c9fb56ea').text('714 of 2029');"
       ],
       "metadata": {},
       "output_type": "display_data",
       "text": [
        "<IPython.core.display.Javascript at 0x171740b8>"
       ]
      },
      {
       "javascript": [
        "$('div#bd2129a3-323d-42a6-8e90-cbd57c423182').text(' 35%');"
       ],
       "metadata": {},
       "output_type": "display_data",
       "text": [
        "<IPython.core.display.Javascript at 0x1a790160>"
       ]
      },
      {
       "javascript": [
        "\n",
        "        var $myPB = $(\"div#eba2005d-1f41-4084-b395-2f61730cca21\")\n",
        "        if ($myPB.hasClass('ui-progressbar')) {\n",
        "            $myPB.progressbar('value', 714);\n",
        "        } else {\n",
        "            $myPB.progressbar({value: 0, max: 2029});\n",
        "        }\n",
        "        "
       ],
       "metadata": {},
       "output_type": "display_data",
       "text": [
        "<IPython.core.display.Javascript at 0x1a790b70>"
       ]
      },
      {
       "javascript": [
        "$('div#e03fb02c-de54-45dd-8d13-28d7c7992db5').text('ETA:  0:00:00');"
       ],
       "metadata": {},
       "output_type": "display_data",
       "text": [
        "<IPython.core.display.Javascript at 0x1a790cf8>"
       ]
      },
      {
       "javascript": [
        "$('div#af272421-38e8-451a-a10f-1777c9fb56ea').text('735 of 2029');"
       ],
       "metadata": {},
       "output_type": "display_data",
       "text": [
        "<IPython.core.display.Javascript at 0x171740b8>"
       ]
      },
      {
       "javascript": [
        "$('div#bd2129a3-323d-42a6-8e90-cbd57c423182').text(' 36%');"
       ],
       "metadata": {},
       "output_type": "display_data",
       "text": [
        "<IPython.core.display.Javascript at 0x171740b8>"
       ]
      },
      {
       "javascript": [
        "\n",
        "        var $myPB = $(\"div#eba2005d-1f41-4084-b395-2f61730cca21\")\n",
        "        if ($myPB.hasClass('ui-progressbar')) {\n",
        "            $myPB.progressbar('value', 735);\n",
        "        } else {\n",
        "            $myPB.progressbar({value: 0, max: 2029});\n",
        "        }\n",
        "        "
       ],
       "metadata": {},
       "output_type": "display_data",
       "text": [
        "<IPython.core.display.Javascript at 0x171743c8>"
       ]
      },
      {
       "javascript": [
        "$('div#e03fb02c-de54-45dd-8d13-28d7c7992db5').text('ETA:  0:00:00');"
       ],
       "metadata": {},
       "output_type": "display_data",
       "text": [
        "<IPython.core.display.Javascript at 0x17174c18>"
       ]
      },
      {
       "javascript": [
        "$('div#af272421-38e8-451a-a10f-1777c9fb56ea').text('756 of 2029');"
       ],
       "metadata": {},
       "output_type": "display_data",
       "text": [
        "<IPython.core.display.Javascript at 0x17174940>"
       ]
      },
      {
       "javascript": [
        "$('div#bd2129a3-323d-42a6-8e90-cbd57c423182').text(' 37%');"
       ],
       "metadata": {},
       "output_type": "display_data",
       "text": [
        "<IPython.core.display.Javascript at 0x17174c18>"
       ]
      },
      {
       "javascript": [
        "\n",
        "        var $myPB = $(\"div#eba2005d-1f41-4084-b395-2f61730cca21\")\n",
        "        if ($myPB.hasClass('ui-progressbar')) {\n",
        "            $myPB.progressbar('value', 756);\n",
        "        } else {\n",
        "            $myPB.progressbar({value: 0, max: 2029});\n",
        "        }\n",
        "        "
       ],
       "metadata": {},
       "output_type": "display_data",
       "text": [
        "<IPython.core.display.Javascript at 0x171743c8>"
       ]
      },
      {
       "javascript": [
        "$('div#e03fb02c-de54-45dd-8d13-28d7c7992db5').text('ETA:  0:00:00');"
       ],
       "metadata": {},
       "output_type": "display_data",
       "text": [
        "<IPython.core.display.Javascript at 0x171740b8>"
       ]
      },
      {
       "javascript": [
        "$('div#af272421-38e8-451a-a10f-1777c9fb56ea').text('777 of 2029');"
       ],
       "metadata": {},
       "output_type": "display_data",
       "text": [
        "<IPython.core.display.Javascript at 0x171740b8>"
       ]
      },
      {
       "javascript": [
        "$('div#bd2129a3-323d-42a6-8e90-cbd57c423182').text(' 38%');"
       ],
       "metadata": {},
       "output_type": "display_data",
       "text": [
        "<IPython.core.display.Javascript at 0x171743c8>"
       ]
      },
      {
       "javascript": [
        "\n",
        "        var $myPB = $(\"div#eba2005d-1f41-4084-b395-2f61730cca21\")\n",
        "        if ($myPB.hasClass('ui-progressbar')) {\n",
        "            $myPB.progressbar('value', 777);\n",
        "        } else {\n",
        "            $myPB.progressbar({value: 0, max: 2029});\n",
        "        }\n",
        "        "
       ],
       "metadata": {},
       "output_type": "display_data",
       "text": [
        "<IPython.core.display.Javascript at 0x17174940>"
       ]
      },
      {
       "javascript": [
        "$('div#e03fb02c-de54-45dd-8d13-28d7c7992db5').text('ETA:  0:00:00');"
       ],
       "metadata": {},
       "output_type": "display_data",
       "text": [
        "<IPython.core.display.Javascript at 0x17174c18>"
       ]
      },
      {
       "javascript": [
        "$('div#af272421-38e8-451a-a10f-1777c9fb56ea').text('798 of 2029');"
       ],
       "metadata": {},
       "output_type": "display_data",
       "text": [
        "<IPython.core.display.Javascript at 0x17174c18>"
       ]
      },
      {
       "javascript": [
        "$('div#bd2129a3-323d-42a6-8e90-cbd57c423182').text(' 39%');"
       ],
       "metadata": {},
       "output_type": "display_data",
       "text": [
        "<IPython.core.display.Javascript at 0x17174940>"
       ]
      },
      {
       "javascript": [
        "\n",
        "        var $myPB = $(\"div#eba2005d-1f41-4084-b395-2f61730cca21\")\n",
        "        if ($myPB.hasClass('ui-progressbar')) {\n",
        "            $myPB.progressbar('value', 798);\n",
        "        } else {\n",
        "            $myPB.progressbar({value: 0, max: 2029});\n",
        "        }\n",
        "        "
       ],
       "metadata": {},
       "output_type": "display_data",
       "text": [
        "<IPython.core.display.Javascript at 0x171740b8>"
       ]
      },
      {
       "javascript": [
        "$('div#e03fb02c-de54-45dd-8d13-28d7c7992db5').text('ETA:  0:00:00');"
       ],
       "metadata": {},
       "output_type": "display_data",
       "text": [
        "<IPython.core.display.Javascript at 0x171743c8>"
       ]
      },
      {
       "javascript": [
        "$('div#af272421-38e8-451a-a10f-1777c9fb56ea').text('819 of 2029');"
       ],
       "metadata": {},
       "output_type": "display_data",
       "text": [
        "<IPython.core.display.Javascript at 0x171743c8>"
       ]
      },
      {
       "javascript": [
        "$('div#bd2129a3-323d-42a6-8e90-cbd57c423182').text(' 40%');"
       ],
       "metadata": {},
       "output_type": "display_data",
       "text": [
        "<IPython.core.display.Javascript at 0x171740b8>"
       ]
      },
      {
       "javascript": [
        "\n",
        "        var $myPB = $(\"div#eba2005d-1f41-4084-b395-2f61730cca21\")\n",
        "        if ($myPB.hasClass('ui-progressbar')) {\n",
        "            $myPB.progressbar('value', 819);\n",
        "        } else {\n",
        "            $myPB.progressbar({value: 0, max: 2029});\n",
        "        }\n",
        "        "
       ],
       "metadata": {},
       "output_type": "display_data",
       "text": [
        "<IPython.core.display.Javascript at 0x17174c18>"
       ]
      },
      {
       "javascript": [
        "$('div#e03fb02c-de54-45dd-8d13-28d7c7992db5').text('ETA:  0:00:00');"
       ],
       "metadata": {},
       "output_type": "display_data",
       "text": [
        "<IPython.core.display.Javascript at 0x17174940>"
       ]
      },
      {
       "javascript": [
        "$('div#af272421-38e8-451a-a10f-1777c9fb56ea').text('840 of 2029');"
       ],
       "metadata": {},
       "output_type": "display_data",
       "text": [
        "<IPython.core.display.Javascript at 0x1a790cf8>"
       ]
      },
      {
       "javascript": [
        "$('div#bd2129a3-323d-42a6-8e90-cbd57c423182').text(' 41%');"
       ],
       "metadata": {},
       "output_type": "display_data",
       "text": [
        "<IPython.core.display.Javascript at 0x1a790160>"
       ]
      },
      {
       "javascript": [
        "\n",
        "        var $myPB = $(\"div#eba2005d-1f41-4084-b395-2f61730cca21\")\n",
        "        if ($myPB.hasClass('ui-progressbar')) {\n",
        "            $myPB.progressbar('value', 840);\n",
        "        } else {\n",
        "            $myPB.progressbar({value: 0, max: 2029});\n",
        "        }\n",
        "        "
       ],
       "metadata": {},
       "output_type": "display_data",
       "text": [
        "<IPython.core.display.Javascript at 0x1a790b70>"
       ]
      },
      {
       "javascript": [
        "$('div#e03fb02c-de54-45dd-8d13-28d7c7992db5').text('ETA:  0:00:00');"
       ],
       "metadata": {},
       "output_type": "display_data",
       "text": [
        "<IPython.core.display.Javascript at 0x1a790b70>"
       ]
      },
      {
       "javascript": [
        "$('div#af272421-38e8-451a-a10f-1777c9fb56ea').text('861 of 2029');"
       ],
       "metadata": {},
       "output_type": "display_data",
       "text": [
        "<IPython.core.display.Javascript at 0x1a790160>"
       ]
      },
      {
       "javascript": [
        "$('div#bd2129a3-323d-42a6-8e90-cbd57c423182').text(' 42%');"
       ],
       "metadata": {},
       "output_type": "display_data",
       "text": [
        "<IPython.core.display.Javascript at 0x1a790cf8>"
       ]
      },
      {
       "javascript": [
        "\n",
        "        var $myPB = $(\"div#eba2005d-1f41-4084-b395-2f61730cca21\")\n",
        "        if ($myPB.hasClass('ui-progressbar')) {\n",
        "            $myPB.progressbar('value', 861);\n",
        "        } else {\n",
        "            $myPB.progressbar({value: 0, max: 2029});\n",
        "        }\n",
        "        "
       ],
       "metadata": {},
       "output_type": "display_data",
       "text": [
        "<IPython.core.display.Javascript at 0x17174c18>"
       ]
      },
      {
       "javascript": [
        "$('div#e03fb02c-de54-45dd-8d13-28d7c7992db5').text('ETA:  0:00:00');"
       ],
       "metadata": {},
       "output_type": "display_data",
       "text": [
        "<IPython.core.display.Javascript at 0x1a790cf8>"
       ]
      },
      {
       "javascript": [
        "$('div#af272421-38e8-451a-a10f-1777c9fb56ea').text('882 of 2029');"
       ],
       "metadata": {},
       "output_type": "display_data",
       "text": [
        "<IPython.core.display.Javascript at 0x1a790160>"
       ]
      },
      {
       "javascript": [
        "$('div#bd2129a3-323d-42a6-8e90-cbd57c423182').text(' 43%');"
       ],
       "metadata": {},
       "output_type": "display_data",
       "text": [
        "<IPython.core.display.Javascript at 0x1a790b70>"
       ]
      },
      {
       "javascript": [
        "\n",
        "        var $myPB = $(\"div#eba2005d-1f41-4084-b395-2f61730cca21\")\n",
        "        if ($myPB.hasClass('ui-progressbar')) {\n",
        "            $myPB.progressbar('value', 882);\n",
        "        } else {\n",
        "            $myPB.progressbar({value: 0, max: 2029});\n",
        "        }\n",
        "        "
       ],
       "metadata": {},
       "output_type": "display_data",
       "text": [
        "<IPython.core.display.Javascript at 0x17174c18>"
       ]
      },
      {
       "javascript": [
        "$('div#e03fb02c-de54-45dd-8d13-28d7c7992db5').text('ETA:  0:00:00');"
       ],
       "metadata": {},
       "output_type": "display_data",
       "text": [
        "<IPython.core.display.Javascript at 0x1a790b70>"
       ]
      },
      {
       "javascript": [
        "$('div#af272421-38e8-451a-a10f-1777c9fb56ea').text('903 of 2029');"
       ],
       "metadata": {},
       "output_type": "display_data",
       "text": [
        "<IPython.core.display.Javascript at 0x1a790160>"
       ]
      },
      {
       "javascript": [
        "$('div#bd2129a3-323d-42a6-8e90-cbd57c423182').text(' 44%');"
       ],
       "metadata": {},
       "output_type": "display_data",
       "text": [
        "<IPython.core.display.Javascript at 0x1a790cf8>"
       ]
      },
      {
       "javascript": [
        "\n",
        "        var $myPB = $(\"div#eba2005d-1f41-4084-b395-2f61730cca21\")\n",
        "        if ($myPB.hasClass('ui-progressbar')) {\n",
        "            $myPB.progressbar('value', 903);\n",
        "        } else {\n",
        "            $myPB.progressbar({value: 0, max: 2029});\n",
        "        }\n",
        "        "
       ],
       "metadata": {},
       "output_type": "display_data",
       "text": [
        "<IPython.core.display.Javascript at 0x17174940>"
       ]
      },
      {
       "javascript": [
        "$('div#e03fb02c-de54-45dd-8d13-28d7c7992db5').text('ETA:  0:00:00');"
       ],
       "metadata": {},
       "output_type": "display_data",
       "text": [
        "<IPython.core.display.Javascript at 0x1a790160>"
       ]
      },
      {
       "javascript": [
        "$('div#af272421-38e8-451a-a10f-1777c9fb56ea').text('924 of 2029');"
       ],
       "metadata": {},
       "output_type": "display_data",
       "text": [
        "<IPython.core.display.Javascript at 0x1a790cf8>"
       ]
      },
      {
       "javascript": [
        "$('div#bd2129a3-323d-42a6-8e90-cbd57c423182').text(' 45%');"
       ],
       "metadata": {},
       "output_type": "display_data",
       "text": [
        "<IPython.core.display.Javascript at 0x1a790b70>"
       ]
      },
      {
       "javascript": [
        "\n",
        "        var $myPB = $(\"div#eba2005d-1f41-4084-b395-2f61730cca21\")\n",
        "        if ($myPB.hasClass('ui-progressbar')) {\n",
        "            $myPB.progressbar('value', 924);\n",
        "        } else {\n",
        "            $myPB.progressbar({value: 0, max: 2029});\n",
        "        }\n",
        "        "
       ],
       "metadata": {},
       "output_type": "display_data",
       "text": [
        "<IPython.core.display.Javascript at 0x1a790b70>"
       ]
      },
      {
       "javascript": [
        "$('div#e03fb02c-de54-45dd-8d13-28d7c7992db5').text('ETA:  0:00:00');"
       ],
       "metadata": {},
       "output_type": "display_data",
       "text": [
        "<IPython.core.display.Javascript at 0x1a790cf8>"
       ]
      },
      {
       "javascript": [
        "$('div#af272421-38e8-451a-a10f-1777c9fb56ea').text('945 of 2029');"
       ],
       "metadata": {},
       "output_type": "display_data",
       "text": [
        "<IPython.core.display.Javascript at 0x1a790160>"
       ]
      },
      {
       "javascript": [
        "$('div#bd2129a3-323d-42a6-8e90-cbd57c423182').text(' 46%');"
       ],
       "metadata": {},
       "output_type": "display_data",
       "text": [
        "<IPython.core.display.Javascript at 0x17174940>"
       ]
      },
      {
       "javascript": [
        "\n",
        "        var $myPB = $(\"div#eba2005d-1f41-4084-b395-2f61730cca21\")\n",
        "        if ($myPB.hasClass('ui-progressbar')) {\n",
        "            $myPB.progressbar('value', 945);\n",
        "        } else {\n",
        "            $myPB.progressbar({value: 0, max: 2029});\n",
        "        }\n",
        "        "
       ],
       "metadata": {},
       "output_type": "display_data",
       "text": [
        "<IPython.core.display.Javascript at 0x1a790160>"
       ]
      },
      {
       "javascript": [
        "$('div#e03fb02c-de54-45dd-8d13-28d7c7992db5').text('ETA:  0:00:00');"
       ],
       "metadata": {},
       "output_type": "display_data",
       "text": [
        "<IPython.core.display.Javascript at 0x1a790cf8>"
       ]
      },
      {
       "javascript": [
        "$('div#af272421-38e8-451a-a10f-1777c9fb56ea').text('966 of 2029');"
       ],
       "metadata": {},
       "output_type": "display_data",
       "text": [
        "<IPython.core.display.Javascript at 0x1a790b70>"
       ]
      },
      {
       "javascript": [
        "$('div#bd2129a3-323d-42a6-8e90-cbd57c423182').text(' 47%');"
       ],
       "metadata": {},
       "output_type": "display_data",
       "text": [
        "<IPython.core.display.Javascript at 0x17174940>"
       ]
      },
      {
       "javascript": [
        "\n",
        "        var $myPB = $(\"div#eba2005d-1f41-4084-b395-2f61730cca21\")\n",
        "        if ($myPB.hasClass('ui-progressbar')) {\n",
        "            $myPB.progressbar('value', 966);\n",
        "        } else {\n",
        "            $myPB.progressbar({value: 0, max: 2029});\n",
        "        }\n",
        "        "
       ],
       "metadata": {},
       "output_type": "display_data",
       "text": [
        "<IPython.core.display.Javascript at 0x1a790b70>"
       ]
      },
      {
       "javascript": [
        "$('div#e03fb02c-de54-45dd-8d13-28d7c7992db5').text('ETA:  0:00:00');"
       ],
       "metadata": {},
       "output_type": "display_data",
       "text": [
        "<IPython.core.display.Javascript at 0x1a790cf8>"
       ]
      },
      {
       "javascript": [
        "$('div#af272421-38e8-451a-a10f-1777c9fb56ea').text('987 of 2029');"
       ],
       "metadata": {},
       "output_type": "display_data",
       "text": [
        "<IPython.core.display.Javascript at 0x1a790160>"
       ]
      },
      {
       "javascript": [
        "$('div#bd2129a3-323d-42a6-8e90-cbd57c423182').text(' 48%');"
       ],
       "metadata": {},
       "output_type": "display_data",
       "text": [
        "<IPython.core.display.Javascript at 0x17174940>"
       ]
      },
      {
       "javascript": [
        "\n",
        "        var $myPB = $(\"div#eba2005d-1f41-4084-b395-2f61730cca21\")\n",
        "        if ($myPB.hasClass('ui-progressbar')) {\n",
        "            $myPB.progressbar('value', 987);\n",
        "        } else {\n",
        "            $myPB.progressbar({value: 0, max: 2029});\n",
        "        }\n",
        "        "
       ],
       "metadata": {},
       "output_type": "display_data",
       "text": [
        "<IPython.core.display.Javascript at 0x1a790cf8>"
       ]
      },
      {
       "javascript": [
        "$('div#e03fb02c-de54-45dd-8d13-28d7c7992db5').text('ETA:  0:00:00');"
       ],
       "metadata": {},
       "output_type": "display_data",
       "text": [
        "<IPython.core.display.Javascript at 0x1a790160>"
       ]
      },
      {
       "javascript": [
        "$('div#af272421-38e8-451a-a10f-1777c9fb56ea').text('1008 of 2029');"
       ],
       "metadata": {},
       "output_type": "display_data",
       "text": [
        "<IPython.core.display.Javascript at 0x1a790b70>"
       ]
      },
      {
       "javascript": [
        "$('div#bd2129a3-323d-42a6-8e90-cbd57c423182').text(' 49%');"
       ],
       "metadata": {},
       "output_type": "display_data",
       "text": [
        "<IPython.core.display.Javascript at 0x1a790b70>"
       ]
      },
      {
       "javascript": [
        "\n",
        "        var $myPB = $(\"div#eba2005d-1f41-4084-b395-2f61730cca21\")\n",
        "        if ($myPB.hasClass('ui-progressbar')) {\n",
        "            $myPB.progressbar('value', 1008);\n",
        "        } else {\n",
        "            $myPB.progressbar({value: 0, max: 2029});\n",
        "        }\n",
        "        "
       ],
       "metadata": {},
       "output_type": "display_data",
       "text": [
        "<IPython.core.display.Javascript at 0x1a790160>"
       ]
      },
      {
       "javascript": [
        "$('div#e03fb02c-de54-45dd-8d13-28d7c7992db5').text('ETA:  0:00:00');"
       ],
       "metadata": {},
       "output_type": "display_data",
       "text": [
        "<IPython.core.display.Javascript at 0x1a790cf8>"
       ]
      },
      {
       "javascript": [
        "$('div#af272421-38e8-451a-a10f-1777c9fb56ea').text('1029 of 2029');"
       ],
       "metadata": {},
       "output_type": "display_data",
       "text": [
        "<IPython.core.display.Javascript at 0x17174940>"
       ]
      },
      {
       "javascript": [
        "$('div#bd2129a3-323d-42a6-8e90-cbd57c423182').text(' 50%');"
       ],
       "metadata": {},
       "output_type": "display_data",
       "text": [
        "<IPython.core.display.Javascript at 0x1a790cf8>"
       ]
      },
      {
       "javascript": [
        "\n",
        "        var $myPB = $(\"div#eba2005d-1f41-4084-b395-2f61730cca21\")\n",
        "        if ($myPB.hasClass('ui-progressbar')) {\n",
        "            $myPB.progressbar('value', 1029);\n",
        "        } else {\n",
        "            $myPB.progressbar({value: 0, max: 2029});\n",
        "        }\n",
        "        "
       ],
       "metadata": {},
       "output_type": "display_data",
       "text": [
        "<IPython.core.display.Javascript at 0x1a790160>"
       ]
      },
      {
       "javascript": [
        "$('div#e03fb02c-de54-45dd-8d13-28d7c7992db5').text('ETA:  0:00:00');"
       ],
       "metadata": {},
       "output_type": "display_data",
       "text": [
        "<IPython.core.display.Javascript at 0x1a790b70>"
       ]
      },
      {
       "javascript": [
        "$('div#af272421-38e8-451a-a10f-1777c9fb56ea').text('1050 of 2029');"
       ],
       "metadata": {},
       "output_type": "display_data",
       "text": [
        "<IPython.core.display.Javascript at 0x17174940>"
       ]
      },
      {
       "javascript": [
        "$('div#bd2129a3-323d-42a6-8e90-cbd57c423182').text(' 51%');"
       ],
       "metadata": {},
       "output_type": "display_data",
       "text": [
        "<IPython.core.display.Javascript at 0x1a790160>"
       ]
      },
      {
       "javascript": [
        "\n",
        "        var $myPB = $(\"div#eba2005d-1f41-4084-b395-2f61730cca21\")\n",
        "        if ($myPB.hasClass('ui-progressbar')) {\n",
        "            $myPB.progressbar('value', 1050);\n",
        "        } else {\n",
        "            $myPB.progressbar({value: 0, max: 2029});\n",
        "        }\n",
        "        "
       ],
       "metadata": {},
       "output_type": "display_data",
       "text": [
        "<IPython.core.display.Javascript at 0x1a790b70>"
       ]
      },
      {
       "javascript": [
        "$('div#e03fb02c-de54-45dd-8d13-28d7c7992db5').text('ETA:  0:00:00');"
       ],
       "metadata": {},
       "output_type": "display_data",
       "text": [
        "<IPython.core.display.Javascript at 0x1a790cf8>"
       ]
      },
      {
       "javascript": [
        "$('div#af272421-38e8-451a-a10f-1777c9fb56ea').text('1071 of 2029');"
       ],
       "metadata": {},
       "output_type": "display_data",
       "text": [
        "<IPython.core.display.Javascript at 0x17174940>"
       ]
      },
      {
       "javascript": [
        "$('div#bd2129a3-323d-42a6-8e90-cbd57c423182').text(' 52%');"
       ],
       "metadata": {},
       "output_type": "display_data",
       "text": [
        "<IPython.core.display.Javascript at 0x1a790160>"
       ]
      },
      {
       "javascript": [
        "\n",
        "        var $myPB = $(\"div#eba2005d-1f41-4084-b395-2f61730cca21\")\n",
        "        if ($myPB.hasClass('ui-progressbar')) {\n",
        "            $myPB.progressbar('value', 1071);\n",
        "        } else {\n",
        "            $myPB.progressbar({value: 0, max: 2029});\n",
        "        }\n",
        "        "
       ],
       "metadata": {},
       "output_type": "display_data",
       "text": [
        "<IPython.core.display.Javascript at 0x1a790b70>"
       ]
      },
      {
       "javascript": [
        "$('div#e03fb02c-de54-45dd-8d13-28d7c7992db5').text('ETA:  0:00:00');"
       ],
       "metadata": {},
       "output_type": "display_data",
       "text": [
        "<IPython.core.display.Javascript at 0x1a790cf8>"
       ]
      },
      {
       "javascript": [
        "$('div#af272421-38e8-451a-a10f-1777c9fb56ea').text('1092 of 2029');"
       ],
       "metadata": {},
       "output_type": "display_data",
       "text": [
        "<IPython.core.display.Javascript at 0x171743c8>"
       ]
      },
      {
       "javascript": [
        "$('div#bd2129a3-323d-42a6-8e90-cbd57c423182').text(' 53%');"
       ],
       "metadata": {},
       "output_type": "display_data",
       "text": [
        "<IPython.core.display.Javascript at 0x171740b8>"
       ]
      },
      {
       "javascript": [
        "\n",
        "        var $myPB = $(\"div#eba2005d-1f41-4084-b395-2f61730cca21\")\n",
        "        if ($myPB.hasClass('ui-progressbar')) {\n",
        "            $myPB.progressbar('value', 1092);\n",
        "        } else {\n",
        "            $myPB.progressbar({value: 0, max: 2029});\n",
        "        }\n",
        "        "
       ],
       "metadata": {},
       "output_type": "display_data",
       "text": [
        "<IPython.core.display.Javascript at 0x17174c18>"
       ]
      },
      {
       "javascript": [
        "$('div#e03fb02c-de54-45dd-8d13-28d7c7992db5').text('ETA:  0:00:00');"
       ],
       "metadata": {},
       "output_type": "display_data",
       "text": [
        "<IPython.core.display.Javascript at 0x1a790160>"
       ]
      },
      {
       "javascript": [
        "$('div#af272421-38e8-451a-a10f-1777c9fb56ea').text('1113 of 2029');"
       ],
       "metadata": {},
       "output_type": "display_data",
       "text": [
        "<IPython.core.display.Javascript at 0x1a790160>"
       ]
      },
      {
       "javascript": [
        "$('div#bd2129a3-323d-42a6-8e90-cbd57c423182').text(' 54%');"
       ],
       "metadata": {},
       "output_type": "display_data",
       "text": [
        "<IPython.core.display.Javascript at 0x1a790b70>"
       ]
      },
      {
       "javascript": [
        "\n",
        "        var $myPB = $(\"div#eba2005d-1f41-4084-b395-2f61730cca21\")\n",
        "        if ($myPB.hasClass('ui-progressbar')) {\n",
        "            $myPB.progressbar('value', 1113);\n",
        "        } else {\n",
        "            $myPB.progressbar({value: 0, max: 2029});\n",
        "        }\n",
        "        "
       ],
       "metadata": {},
       "output_type": "display_data",
       "text": [
        "<IPython.core.display.Javascript at 0x1a790cf8>"
       ]
      },
      {
       "javascript": [
        "$('div#e03fb02c-de54-45dd-8d13-28d7c7992db5').text('ETA:  0:00:00');"
       ],
       "metadata": {},
       "output_type": "display_data",
       "text": [
        "<IPython.core.display.Javascript at 0x17174c18>"
       ]
      },
      {
       "javascript": [
        "$('div#af272421-38e8-451a-a10f-1777c9fb56ea').text('1134 of 2029');"
       ],
       "metadata": {},
       "output_type": "display_data",
       "text": [
        "<IPython.core.display.Javascript at 0x1a790cf8>"
       ]
      },
      {
       "javascript": [
        "$('div#bd2129a3-323d-42a6-8e90-cbd57c423182').text(' 55%');"
       ],
       "metadata": {},
       "output_type": "display_data",
       "text": [
        "<IPython.core.display.Javascript at 0x1a790b70>"
       ]
      },
      {
       "javascript": [
        "\n",
        "        var $myPB = $(\"div#eba2005d-1f41-4084-b395-2f61730cca21\")\n",
        "        if ($myPB.hasClass('ui-progressbar')) {\n",
        "            $myPB.progressbar('value', 1134);\n",
        "        } else {\n",
        "            $myPB.progressbar({value: 0, max: 2029});\n",
        "        }\n",
        "        "
       ],
       "metadata": {},
       "output_type": "display_data",
       "text": [
        "<IPython.core.display.Javascript at 0x1a790160>"
       ]
      },
      {
       "javascript": [
        "$('div#e03fb02c-de54-45dd-8d13-28d7c7992db5').text('ETA:  0:00:00');"
       ],
       "metadata": {},
       "output_type": "display_data",
       "text": [
        "<IPython.core.display.Javascript at 0x17174c18>"
       ]
      },
      {
       "javascript": [
        "$('div#af272421-38e8-451a-a10f-1777c9fb56ea').text('1155 of 2029');"
       ],
       "metadata": {},
       "output_type": "display_data",
       "text": [
        "<IPython.core.display.Javascript at 0x1a790160>"
       ]
      },
      {
       "javascript": [
        "$('div#bd2129a3-323d-42a6-8e90-cbd57c423182').text(' 56%');"
       ],
       "metadata": {},
       "output_type": "display_data",
       "text": [
        "<IPython.core.display.Javascript at 0x1a790b70>"
       ]
      },
      {
       "javascript": [
        "\n",
        "        var $myPB = $(\"div#eba2005d-1f41-4084-b395-2f61730cca21\")\n",
        "        if ($myPB.hasClass('ui-progressbar')) {\n",
        "            $myPB.progressbar('value', 1155);\n",
        "        } else {\n",
        "            $myPB.progressbar({value: 0, max: 2029});\n",
        "        }\n",
        "        "
       ],
       "metadata": {},
       "output_type": "display_data",
       "text": [
        "<IPython.core.display.Javascript at 0x1a790cf8>"
       ]
      },
      {
       "javascript": [
        "$('div#e03fb02c-de54-45dd-8d13-28d7c7992db5').text('ETA:  0:00:00');"
       ],
       "metadata": {},
       "output_type": "display_data",
       "text": [
        "<IPython.core.display.Javascript at 0x17174c18>"
       ]
      },
      {
       "javascript": [
        "$('div#af272421-38e8-451a-a10f-1777c9fb56ea').text('1176 of 2029');"
       ],
       "metadata": {},
       "output_type": "display_data",
       "text": [
        "<IPython.core.display.Javascript at 0x17174c18>"
       ]
      },
      {
       "javascript": [
        "$('div#bd2129a3-323d-42a6-8e90-cbd57c423182').text(' 57%');"
       ],
       "metadata": {},
       "output_type": "display_data",
       "text": [
        "<IPython.core.display.Javascript at 0x171740b8>"
       ]
      },
      {
       "javascript": [
        "\n",
        "        var $myPB = $(\"div#eba2005d-1f41-4084-b395-2f61730cca21\")\n",
        "        if ($myPB.hasClass('ui-progressbar')) {\n",
        "            $myPB.progressbar('value', 1176);\n",
        "        } else {\n",
        "            $myPB.progressbar({value: 0, max: 2029});\n",
        "        }\n",
        "        "
       ],
       "metadata": {},
       "output_type": "display_data",
       "text": [
        "<IPython.core.display.Javascript at 0x17174940>"
       ]
      },
      {
       "javascript": [
        "$('div#e03fb02c-de54-45dd-8d13-28d7c7992db5').text('ETA:  0:00:00');"
       ],
       "metadata": {},
       "output_type": "display_data",
       "text": [
        "<IPython.core.display.Javascript at 0x17174940>"
       ]
      },
      {
       "javascript": [
        "$('div#af272421-38e8-451a-a10f-1777c9fb56ea').text('1197 of 2029');"
       ],
       "metadata": {},
       "output_type": "display_data",
       "text": [
        "<IPython.core.display.Javascript at 0x171743c8>"
       ]
      },
      {
       "javascript": [
        "$('div#bd2129a3-323d-42a6-8e90-cbd57c423182').text(' 58%');"
       ],
       "metadata": {},
       "output_type": "display_data",
       "text": [
        "<IPython.core.display.Javascript at 0x17174c18>"
       ]
      },
      {
       "javascript": [
        "\n",
        "        var $myPB = $(\"div#eba2005d-1f41-4084-b395-2f61730cca21\")\n",
        "        if ($myPB.hasClass('ui-progressbar')) {\n",
        "            $myPB.progressbar('value', 1197);\n",
        "        } else {\n",
        "            $myPB.progressbar({value: 0, max: 2029});\n",
        "        }\n",
        "        "
       ],
       "metadata": {},
       "output_type": "display_data",
       "text": [
        "<IPython.core.display.Javascript at 0x171740b8>"
       ]
      },
      {
       "javascript": [
        "$('div#e03fb02c-de54-45dd-8d13-28d7c7992db5').text('ETA:  0:00:00');"
       ],
       "metadata": {},
       "output_type": "display_data",
       "text": [
        "<IPython.core.display.Javascript at 0x171740b8>"
       ]
      },
      {
       "javascript": [
        "$('div#af272421-38e8-451a-a10f-1777c9fb56ea').text('1218 of 2029');"
       ],
       "metadata": {},
       "output_type": "display_data",
       "text": [
        "<IPython.core.display.Javascript at 0x17174c18>"
       ]
      },
      {
       "javascript": [
        "$('div#bd2129a3-323d-42a6-8e90-cbd57c423182').text(' 60%');"
       ],
       "metadata": {},
       "output_type": "display_data",
       "text": [
        "<IPython.core.display.Javascript at 0x17174940>"
       ]
      },
      {
       "javascript": [
        "\n",
        "        var $myPB = $(\"div#eba2005d-1f41-4084-b395-2f61730cca21\")\n",
        "        if ($myPB.hasClass('ui-progressbar')) {\n",
        "            $myPB.progressbar('value', 1218);\n",
        "        } else {\n",
        "            $myPB.progressbar({value: 0, max: 2029});\n",
        "        }\n",
        "        "
       ],
       "metadata": {},
       "output_type": "display_data",
       "text": [
        "<IPython.core.display.Javascript at 0x171743c8>"
       ]
      },
      {
       "javascript": [
        "$('div#e03fb02c-de54-45dd-8d13-28d7c7992db5').text('ETA:  0:00:00');"
       ],
       "metadata": {},
       "output_type": "display_data",
       "text": [
        "<IPython.core.display.Javascript at 0x171743c8>"
       ]
      },
      {
       "javascript": [
        "$('div#af272421-38e8-451a-a10f-1777c9fb56ea').text('1239 of 2029');"
       ],
       "metadata": {},
       "output_type": "display_data",
       "text": [
        "<IPython.core.display.Javascript at 0x17174940>"
       ]
      },
      {
       "javascript": [
        "$('div#bd2129a3-323d-42a6-8e90-cbd57c423182').text(' 61%');"
       ],
       "metadata": {},
       "output_type": "display_data",
       "text": [
        "<IPython.core.display.Javascript at 0x171740b8>"
       ]
      },
      {
       "javascript": [
        "\n",
        "        var $myPB = $(\"div#eba2005d-1f41-4084-b395-2f61730cca21\")\n",
        "        if ($myPB.hasClass('ui-progressbar')) {\n",
        "            $myPB.progressbar('value', 1239);\n",
        "        } else {\n",
        "            $myPB.progressbar({value: 0, max: 2029});\n",
        "        }\n",
        "        "
       ],
       "metadata": {},
       "output_type": "display_data",
       "text": [
        "<IPython.core.display.Javascript at 0x17174c18>"
       ]
      },
      {
       "javascript": [
        "$('div#e03fb02c-de54-45dd-8d13-28d7c7992db5').text('ETA:  0:00:00');"
       ],
       "metadata": {},
       "output_type": "display_data",
       "text": [
        "<IPython.core.display.Javascript at 0x17174c18>"
       ]
      },
      {
       "javascript": [
        "$('div#af272421-38e8-451a-a10f-1777c9fb56ea').text('1260 of 2029');"
       ],
       "metadata": {},
       "output_type": "display_data",
       "text": [
        "<IPython.core.display.Javascript at 0x17174940>"
       ]
      },
      {
       "javascript": [
        "$('div#bd2129a3-323d-42a6-8e90-cbd57c423182').text(' 62%');"
       ],
       "metadata": {},
       "output_type": "display_data",
       "text": [
        "<IPython.core.display.Javascript at 0x171743c8>"
       ]
      },
      {
       "javascript": [
        "\n",
        "        var $myPB = $(\"div#eba2005d-1f41-4084-b395-2f61730cca21\")\n",
        "        if ($myPB.hasClass('ui-progressbar')) {\n",
        "            $myPB.progressbar('value', 1260);\n",
        "        } else {\n",
        "            $myPB.progressbar({value: 0, max: 2029});\n",
        "        }\n",
        "        "
       ],
       "metadata": {},
       "output_type": "display_data",
       "text": [
        "<IPython.core.display.Javascript at 0x171740b8>"
       ]
      },
      {
       "javascript": [
        "$('div#e03fb02c-de54-45dd-8d13-28d7c7992db5').text('ETA:  0:00:00');"
       ],
       "metadata": {},
       "output_type": "display_data",
       "text": [
        "<IPython.core.display.Javascript at 0x1a790cf8>"
       ]
      },
      {
       "javascript": [
        "$('div#af272421-38e8-451a-a10f-1777c9fb56ea').text('1281 of 2029');"
       ],
       "metadata": {},
       "output_type": "display_data",
       "text": [
        "<IPython.core.display.Javascript at 0x1a790160>"
       ]
      },
      {
       "javascript": [
        "$('div#bd2129a3-323d-42a6-8e90-cbd57c423182').text(' 63%');"
       ],
       "metadata": {},
       "output_type": "display_data",
       "text": [
        "<IPython.core.display.Javascript at 0x1a790b70>"
       ]
      },
      {
       "javascript": [
        "\n",
        "        var $myPB = $(\"div#eba2005d-1f41-4084-b395-2f61730cca21\")\n",
        "        if ($myPB.hasClass('ui-progressbar')) {\n",
        "            $myPB.progressbar('value', 1281);\n",
        "        } else {\n",
        "            $myPB.progressbar({value: 0, max: 2029});\n",
        "        }\n",
        "        "
       ],
       "metadata": {},
       "output_type": "display_data",
       "text": [
        "<IPython.core.display.Javascript at 0x1a790b70>"
       ]
      },
      {
       "javascript": [
        "$('div#e03fb02c-de54-45dd-8d13-28d7c7992db5').text('ETA:  0:00:00');"
       ],
       "metadata": {},
       "output_type": "display_data",
       "text": [
        "<IPython.core.display.Javascript at 0x1a790160>"
       ]
      },
      {
       "javascript": [
        "$('div#af272421-38e8-451a-a10f-1777c9fb56ea').text('1302 of 2029');"
       ],
       "metadata": {},
       "output_type": "display_data",
       "text": [
        "<IPython.core.display.Javascript at 0x1a790cf8>"
       ]
      },
      {
       "javascript": [
        "$('div#bd2129a3-323d-42a6-8e90-cbd57c423182').text(' 64%');"
       ],
       "metadata": {},
       "output_type": "display_data",
       "text": [
        "<IPython.core.display.Javascript at 0x171740b8>"
       ]
      },
      {
       "javascript": [
        "\n",
        "        var $myPB = $(\"div#eba2005d-1f41-4084-b395-2f61730cca21\")\n",
        "        if ($myPB.hasClass('ui-progressbar')) {\n",
        "            $myPB.progressbar('value', 1302);\n",
        "        } else {\n",
        "            $myPB.progressbar({value: 0, max: 2029});\n",
        "        }\n",
        "        "
       ],
       "metadata": {},
       "output_type": "display_data",
       "text": [
        "<IPython.core.display.Javascript at 0x1a790cf8>"
       ]
      },
      {
       "javascript": [
        "$('div#e03fb02c-de54-45dd-8d13-28d7c7992db5').text('ETA:  0:00:00');"
       ],
       "metadata": {},
       "output_type": "display_data",
       "text": [
        "<IPython.core.display.Javascript at 0x1a790160>"
       ]
      },
      {
       "javascript": [
        "$('div#af272421-38e8-451a-a10f-1777c9fb56ea').text('1323 of 2029');"
       ],
       "metadata": {},
       "output_type": "display_data",
       "text": [
        "<IPython.core.display.Javascript at 0x1a790b70>"
       ]
      },
      {
       "javascript": [
        "$('div#bd2129a3-323d-42a6-8e90-cbd57c423182').text(' 65%');"
       ],
       "metadata": {},
       "output_type": "display_data",
       "text": [
        "<IPython.core.display.Javascript at 0x171740b8>"
       ]
      },
      {
       "javascript": [
        "\n",
        "        var $myPB = $(\"div#eba2005d-1f41-4084-b395-2f61730cca21\")\n",
        "        if ($myPB.hasClass('ui-progressbar')) {\n",
        "            $myPB.progressbar('value', 1323);\n",
        "        } else {\n",
        "            $myPB.progressbar({value: 0, max: 2029});\n",
        "        }\n",
        "        "
       ],
       "metadata": {},
       "output_type": "display_data",
       "text": [
        "<IPython.core.display.Javascript at 0x1a790160>"
       ]
      },
      {
       "javascript": [
        "$('div#e03fb02c-de54-45dd-8d13-28d7c7992db5').text('ETA:  0:00:00');"
       ],
       "metadata": {},
       "output_type": "display_data",
       "text": [
        "<IPython.core.display.Javascript at 0x1a790b70>"
       ]
      },
      {
       "javascript": [
        "$('div#af272421-38e8-451a-a10f-1777c9fb56ea').text('1344 of 2029');"
       ],
       "metadata": {},
       "output_type": "display_data",
       "text": [
        "<IPython.core.display.Javascript at 0x1a790cf8>"
       ]
      },
      {
       "javascript": [
        "$('div#bd2129a3-323d-42a6-8e90-cbd57c423182').text(' 66%');"
       ],
       "metadata": {},
       "output_type": "display_data",
       "text": [
        "<IPython.core.display.Javascript at 0x1a790cf8>"
       ]
      },
      {
       "javascript": [
        "\n",
        "        var $myPB = $(\"div#eba2005d-1f41-4084-b395-2f61730cca21\")\n",
        "        if ($myPB.hasClass('ui-progressbar')) {\n",
        "            $myPB.progressbar('value', 1344);\n",
        "        } else {\n",
        "            $myPB.progressbar({value: 0, max: 2029});\n",
        "        }\n",
        "        "
       ],
       "metadata": {},
       "output_type": "display_data",
       "text": [
        "<IPython.core.display.Javascript at 0x1a790b70>"
       ]
      },
      {
       "javascript": [
        "$('div#e03fb02c-de54-45dd-8d13-28d7c7992db5').text('ETA:  0:00:00');"
       ],
       "metadata": {},
       "output_type": "display_data",
       "text": [
        "<IPython.core.display.Javascript at 0x1a790160>"
       ]
      },
      {
       "javascript": [
        "$('div#af272421-38e8-451a-a10f-1777c9fb56ea').text('1365 of 2029');"
       ],
       "metadata": {},
       "output_type": "display_data",
       "text": [
        "<IPython.core.display.Javascript at 0x171740b8>"
       ]
      },
      {
       "javascript": [
        "$('div#bd2129a3-323d-42a6-8e90-cbd57c423182').text(' 67%');"
       ],
       "metadata": {},
       "output_type": "display_data",
       "text": [
        "<IPython.core.display.Javascript at 0x1a790160>"
       ]
      },
      {
       "javascript": [
        "\n",
        "        var $myPB = $(\"div#eba2005d-1f41-4084-b395-2f61730cca21\")\n",
        "        if ($myPB.hasClass('ui-progressbar')) {\n",
        "            $myPB.progressbar('value', 1365);\n",
        "        } else {\n",
        "            $myPB.progressbar({value: 0, max: 2029});\n",
        "        }\n",
        "        "
       ],
       "metadata": {},
       "output_type": "display_data",
       "text": [
        "<IPython.core.display.Javascript at 0x1a790b70>"
       ]
      },
      {
       "javascript": [
        "$('div#e03fb02c-de54-45dd-8d13-28d7c7992db5').text('ETA:  0:00:00');"
       ],
       "metadata": {},
       "output_type": "display_data",
       "text": [
        "<IPython.core.display.Javascript at 0x1a790cf8>"
       ]
      },
      {
       "javascript": [
        "$('div#af272421-38e8-451a-a10f-1777c9fb56ea').text('1386 of 2029');"
       ],
       "metadata": {},
       "output_type": "display_data",
       "text": [
        "<IPython.core.display.Javascript at 0x171740b8>"
       ]
      },
      {
       "javascript": [
        "$('div#bd2129a3-323d-42a6-8e90-cbd57c423182').text(' 68%');"
       ],
       "metadata": {},
       "output_type": "display_data",
       "text": [
        "<IPython.core.display.Javascript at 0x1a790cf8>"
       ]
      },
      {
       "javascript": [
        "\n",
        "        var $myPB = $(\"div#eba2005d-1f41-4084-b395-2f61730cca21\")\n",
        "        if ($myPB.hasClass('ui-progressbar')) {\n",
        "            $myPB.progressbar('value', 1386);\n",
        "        } else {\n",
        "            $myPB.progressbar({value: 0, max: 2029});\n",
        "        }\n",
        "        "
       ],
       "metadata": {},
       "output_type": "display_data",
       "text": [
        "<IPython.core.display.Javascript at 0x1a790b70>"
       ]
      },
      {
       "javascript": [
        "$('div#e03fb02c-de54-45dd-8d13-28d7c7992db5').text('ETA:  0:00:00');"
       ],
       "metadata": {},
       "output_type": "display_data",
       "text": [
        "<IPython.core.display.Javascript at 0x1a790160>"
       ]
      },
      {
       "javascript": [
        "$('div#af272421-38e8-451a-a10f-1777c9fb56ea').text('1407 of 2029');"
       ],
       "metadata": {},
       "output_type": "display_data",
       "text": [
        "<IPython.core.display.Javascript at 0x171740b8>"
       ]
      },
      {
       "javascript": [
        "$('div#bd2129a3-323d-42a6-8e90-cbd57c423182').text(' 69%');"
       ],
       "metadata": {},
       "output_type": "display_data",
       "text": [
        "<IPython.core.display.Javascript at 0x1a790160>"
       ]
      },
      {
       "javascript": [
        "\n",
        "        var $myPB = $(\"div#eba2005d-1f41-4084-b395-2f61730cca21\")\n",
        "        if ($myPB.hasClass('ui-progressbar')) {\n",
        "            $myPB.progressbar('value', 1407);\n",
        "        } else {\n",
        "            $myPB.progressbar({value: 0, max: 2029});\n",
        "        }\n",
        "        "
       ],
       "metadata": {},
       "output_type": "display_data",
       "text": [
        "<IPython.core.display.Javascript at 0x1a790b70>"
       ]
      },
      {
       "javascript": [
        "$('div#e03fb02c-de54-45dd-8d13-28d7c7992db5').text('ETA:  0:00:00');"
       ],
       "metadata": {},
       "output_type": "display_data",
       "text": [
        "<IPython.core.display.Javascript at 0x1a790cf8>"
       ]
      },
      {
       "javascript": [
        "$('div#af272421-38e8-451a-a10f-1777c9fb56ea').text('1428 of 2029');"
       ],
       "metadata": {},
       "output_type": "display_data",
       "text": [
        "<IPython.core.display.Javascript at 0x171740b8>"
       ]
      },
      {
       "javascript": [
        "$('div#bd2129a3-323d-42a6-8e90-cbd57c423182').text(' 70%');"
       ],
       "metadata": {},
       "output_type": "display_data",
       "text": [
        "<IPython.core.display.Javascript at 0x1a790b70>"
       ]
      },
      {
       "javascript": [
        "\n",
        "        var $myPB = $(\"div#eba2005d-1f41-4084-b395-2f61730cca21\")\n",
        "        if ($myPB.hasClass('ui-progressbar')) {\n",
        "            $myPB.progressbar('value', 1428);\n",
        "        } else {\n",
        "            $myPB.progressbar({value: 0, max: 2029});\n",
        "        }\n",
        "        "
       ],
       "metadata": {},
       "output_type": "display_data",
       "text": [
        "<IPython.core.display.Javascript at 0x1a790cf8>"
       ]
      },
      {
       "javascript": [
        "$('div#e03fb02c-de54-45dd-8d13-28d7c7992db5').text('ETA:  0:00:00');"
       ],
       "metadata": {},
       "output_type": "display_data",
       "text": [
        "<IPython.core.display.Javascript at 0x1a790160>"
       ]
      },
      {
       "javascript": [
        "$('div#af272421-38e8-451a-a10f-1777c9fb56ea').text('1449 of 2029');"
       ],
       "metadata": {},
       "output_type": "display_data",
       "text": [
        "<IPython.core.display.Javascript at 0x171740b8>"
       ]
      },
      {
       "javascript": [
        "$('div#bd2129a3-323d-42a6-8e90-cbd57c423182').text(' 71%');"
       ],
       "metadata": {},
       "output_type": "display_data",
       "text": [
        "<IPython.core.display.Javascript at 0x1a790b70>"
       ]
      },
      {
       "javascript": [
        "\n",
        "        var $myPB = $(\"div#eba2005d-1f41-4084-b395-2f61730cca21\")\n",
        "        if ($myPB.hasClass('ui-progressbar')) {\n",
        "            $myPB.progressbar('value', 1449);\n",
        "        } else {\n",
        "            $myPB.progressbar({value: 0, max: 2029});\n",
        "        }\n",
        "        "
       ],
       "metadata": {},
       "output_type": "display_data",
       "text": [
        "<IPython.core.display.Javascript at 0x1a790cf8>"
       ]
      },
      {
       "javascript": [
        "$('div#e03fb02c-de54-45dd-8d13-28d7c7992db5').text('ETA:  0:00:00');"
       ],
       "metadata": {},
       "output_type": "display_data",
       "text": [
        "<IPython.core.display.Javascript at 0x1a790160>"
       ]
      },
      {
       "javascript": [
        "$('div#af272421-38e8-451a-a10f-1777c9fb56ea').text('1470 of 2029');"
       ],
       "metadata": {},
       "output_type": "display_data",
       "text": [
        "<IPython.core.display.Javascript at 0x1a790160>"
       ]
      },
      {
       "javascript": [
        "$('div#bd2129a3-323d-42a6-8e90-cbd57c423182').text(' 72%');"
       ],
       "metadata": {},
       "output_type": "display_data",
       "text": [
        "<IPython.core.display.Javascript at 0x1a790cf8>"
       ]
      },
      {
       "javascript": [
        "\n",
        "        var $myPB = $(\"div#eba2005d-1f41-4084-b395-2f61730cca21\")\n",
        "        if ($myPB.hasClass('ui-progressbar')) {\n",
        "            $myPB.progressbar('value', 1470);\n",
        "        } else {\n",
        "            $myPB.progressbar({value: 0, max: 2029});\n",
        "        }\n",
        "        "
       ],
       "metadata": {},
       "output_type": "display_data",
       "text": [
        "<IPython.core.display.Javascript at 0x1a790b70>"
       ]
      },
      {
       "javascript": [
        "$('div#e03fb02c-de54-45dd-8d13-28d7c7992db5').text('ETA:  0:00:00');"
       ],
       "metadata": {},
       "output_type": "display_data",
       "text": [
        "<IPython.core.display.Javascript at 0x171743c8>"
       ]
      },
      {
       "javascript": [
        "$('div#af272421-38e8-451a-a10f-1777c9fb56ea').text('1491 of 2029');"
       ],
       "metadata": {},
       "output_type": "display_data",
       "text": [
        "<IPython.core.display.Javascript at 0x1a790b70>"
       ]
      },
      {
       "javascript": [
        "$('div#bd2129a3-323d-42a6-8e90-cbd57c423182').text(' 73%');"
       ],
       "metadata": {},
       "output_type": "display_data",
       "text": [
        "<IPython.core.display.Javascript at 0x1a790cf8>"
       ]
      },
      {
       "javascript": [
        "\n",
        "        var $myPB = $(\"div#eba2005d-1f41-4084-b395-2f61730cca21\")\n",
        "        if ($myPB.hasClass('ui-progressbar')) {\n",
        "            $myPB.progressbar('value', 1491);\n",
        "        } else {\n",
        "            $myPB.progressbar({value: 0, max: 2029});\n",
        "        }\n",
        "        "
       ],
       "metadata": {},
       "output_type": "display_data",
       "text": [
        "<IPython.core.display.Javascript at 0x1a790160>"
       ]
      },
      {
       "javascript": [
        "$('div#e03fb02c-de54-45dd-8d13-28d7c7992db5').text('ETA:  0:00:00');"
       ],
       "metadata": {},
       "output_type": "display_data",
       "text": [
        "<IPython.core.display.Javascript at 0x171743c8>"
       ]
      },
      {
       "javascript": [
        "$('div#af272421-38e8-451a-a10f-1777c9fb56ea').text('1512 of 2029');"
       ],
       "metadata": {},
       "output_type": "display_data",
       "text": [
        "<IPython.core.display.Javascript at 0x1a790160>"
       ]
      },
      {
       "javascript": [
        "$('div#bd2129a3-323d-42a6-8e90-cbd57c423182').text(' 74%');"
       ],
       "metadata": {},
       "output_type": "display_data",
       "text": [
        "<IPython.core.display.Javascript at 0x1a790cf8>"
       ]
      },
      {
       "javascript": [
        "\n",
        "        var $myPB = $(\"div#eba2005d-1f41-4084-b395-2f61730cca21\")\n",
        "        if ($myPB.hasClass('ui-progressbar')) {\n",
        "            $myPB.progressbar('value', 1512);\n",
        "        } else {\n",
        "            $myPB.progressbar({value: 0, max: 2029});\n",
        "        }\n",
        "        "
       ],
       "metadata": {},
       "output_type": "display_data",
       "text": [
        "<IPython.core.display.Javascript at 0x1a790b70>"
       ]
      },
      {
       "javascript": [
        "$('div#e03fb02c-de54-45dd-8d13-28d7c7992db5').text('ETA:  0:00:00');"
       ],
       "metadata": {},
       "output_type": "display_data",
       "text": [
        "<IPython.core.display.Javascript at 0x171743c8>"
       ]
      },
      {
       "javascript": [
        "$('div#af272421-38e8-451a-a10f-1777c9fb56ea').text('1533 of 2029');"
       ],
       "metadata": {},
       "output_type": "display_data",
       "text": [
        "<IPython.core.display.Javascript at 0x1a790cf8>"
       ]
      },
      {
       "javascript": [
        "$('div#bd2129a3-323d-42a6-8e90-cbd57c423182').text(' 75%');"
       ],
       "metadata": {},
       "output_type": "display_data",
       "text": [
        "<IPython.core.display.Javascript at 0x1a790b70>"
       ]
      },
      {
       "javascript": [
        "\n",
        "        var $myPB = $(\"div#eba2005d-1f41-4084-b395-2f61730cca21\")\n",
        "        if ($myPB.hasClass('ui-progressbar')) {\n",
        "            $myPB.progressbar('value', 1533);\n",
        "        } else {\n",
        "            $myPB.progressbar({value: 0, max: 2029});\n",
        "        }\n",
        "        "
       ],
       "metadata": {},
       "output_type": "display_data",
       "text": [
        "<IPython.core.display.Javascript at 0x1a790160>"
       ]
      },
      {
       "javascript": [
        "$('div#e03fb02c-de54-45dd-8d13-28d7c7992db5').text('ETA:  0:00:00');"
       ],
       "metadata": {},
       "output_type": "display_data",
       "text": [
        "<IPython.core.display.Javascript at 0x171743c8>"
       ]
      },
      {
       "javascript": [
        "$('div#af272421-38e8-451a-a10f-1777c9fb56ea').text('1554 of 2029');"
       ],
       "metadata": {},
       "output_type": "display_data",
       "text": [
        "<IPython.core.display.Javascript at 0x1a790cf8>"
       ]
      },
      {
       "javascript": [
        "$('div#bd2129a3-323d-42a6-8e90-cbd57c423182').text(' 76%');"
       ],
       "metadata": {},
       "output_type": "display_data",
       "text": [
        "<IPython.core.display.Javascript at 0x1a790b70>"
       ]
      },
      {
       "javascript": [
        "\n",
        "        var $myPB = $(\"div#eba2005d-1f41-4084-b395-2f61730cca21\")\n",
        "        if ($myPB.hasClass('ui-progressbar')) {\n",
        "            $myPB.progressbar('value', 1554);\n",
        "        } else {\n",
        "            $myPB.progressbar({value: 0, max: 2029});\n",
        "        }\n",
        "        "
       ],
       "metadata": {},
       "output_type": "display_data",
       "text": [
        "<IPython.core.display.Javascript at 0x1a790160>"
       ]
      },
      {
       "javascript": [
        "$('div#e03fb02c-de54-45dd-8d13-28d7c7992db5').text('ETA:  0:00:00');"
       ],
       "metadata": {},
       "output_type": "display_data",
       "text": [
        "<IPython.core.display.Javascript at 0x1a790160>"
       ]
      },
      {
       "javascript": [
        "$('div#af272421-38e8-451a-a10f-1777c9fb56ea').text('1575 of 2029');"
       ],
       "metadata": {},
       "output_type": "display_data",
       "text": [
        "<IPython.core.display.Javascript at 0x1a790b70>"
       ]
      },
      {
       "javascript": [
        "$('div#bd2129a3-323d-42a6-8e90-cbd57c423182').text(' 77%');"
       ],
       "metadata": {},
       "output_type": "display_data",
       "text": [
        "<IPython.core.display.Javascript at 0x1a790cf8>"
       ]
      },
      {
       "javascript": [
        "\n",
        "        var $myPB = $(\"div#eba2005d-1f41-4084-b395-2f61730cca21\")\n",
        "        if ($myPB.hasClass('ui-progressbar')) {\n",
        "            $myPB.progressbar('value', 1575);\n",
        "        } else {\n",
        "            $myPB.progressbar({value: 0, max: 2029});\n",
        "        }\n",
        "        "
       ],
       "metadata": {},
       "output_type": "display_data",
       "text": [
        "<IPython.core.display.Javascript at 0x171743c8>"
       ]
      },
      {
       "javascript": [
        "$('div#e03fb02c-de54-45dd-8d13-28d7c7992db5').text('ETA:  0:00:00');"
       ],
       "metadata": {},
       "output_type": "display_data",
       "text": [
        "<IPython.core.display.Javascript at 0x1a790cf8>"
       ]
      },
      {
       "javascript": [
        "$('div#af272421-38e8-451a-a10f-1777c9fb56ea').text('1596 of 2029');"
       ],
       "metadata": {},
       "output_type": "display_data",
       "text": [
        "<IPython.core.display.Javascript at 0x1a790b70>"
       ]
      },
      {
       "javascript": [
        "$('div#bd2129a3-323d-42a6-8e90-cbd57c423182').text(' 78%');"
       ],
       "metadata": {},
       "output_type": "display_data",
       "text": [
        "<IPython.core.display.Javascript at 0x1a790160>"
       ]
      },
      {
       "javascript": [
        "\n",
        "        var $myPB = $(\"div#eba2005d-1f41-4084-b395-2f61730cca21\")\n",
        "        if ($myPB.hasClass('ui-progressbar')) {\n",
        "            $myPB.progressbar('value', 1596);\n",
        "        } else {\n",
        "            $myPB.progressbar({value: 0, max: 2029});\n",
        "        }\n",
        "        "
       ],
       "metadata": {},
       "output_type": "display_data",
       "text": [
        "<IPython.core.display.Javascript at 0x17174940>"
       ]
      },
      {
       "javascript": [
        "$('div#e03fb02c-de54-45dd-8d13-28d7c7992db5').text('ETA:  0:00:00');"
       ],
       "metadata": {},
       "output_type": "display_data",
       "text": [
        "<IPython.core.display.Javascript at 0x1a790b70>"
       ]
      },
      {
       "javascript": [
        "$('div#af272421-38e8-451a-a10f-1777c9fb56ea').text('1617 of 2029');"
       ],
       "metadata": {},
       "output_type": "display_data",
       "text": [
        "<IPython.core.display.Javascript at 0x1a790160>"
       ]
      },
      {
       "javascript": [
        "$('div#bd2129a3-323d-42a6-8e90-cbd57c423182').text(' 79%');"
       ],
       "metadata": {},
       "output_type": "display_data",
       "text": [
        "<IPython.core.display.Javascript at 0x1a790cf8>"
       ]
      },
      {
       "javascript": [
        "\n",
        "        var $myPB = $(\"div#eba2005d-1f41-4084-b395-2f61730cca21\")\n",
        "        if ($myPB.hasClass('ui-progressbar')) {\n",
        "            $myPB.progressbar('value', 1617);\n",
        "        } else {\n",
        "            $myPB.progressbar({value: 0, max: 2029});\n",
        "        }\n",
        "        "
       ],
       "metadata": {},
       "output_type": "display_data",
       "text": [
        "<IPython.core.display.Javascript at 0x171740b8>"
       ]
      },
      {
       "javascript": [
        "$('div#e03fb02c-de54-45dd-8d13-28d7c7992db5').text('ETA:  0:00:00');"
       ],
       "metadata": {},
       "output_type": "display_data",
       "text": [
        "<IPython.core.display.Javascript at 0x1a790160>"
       ]
      },
      {
       "javascript": [
        "$('div#af272421-38e8-451a-a10f-1777c9fb56ea').text('1638 of 2029');"
       ],
       "metadata": {},
       "output_type": "display_data",
       "text": [
        "<IPython.core.display.Javascript at 0x1a790cf8>"
       ]
      },
      {
       "javascript": [
        "$('div#bd2129a3-323d-42a6-8e90-cbd57c423182').text(' 80%');"
       ],
       "metadata": {},
       "output_type": "display_data",
       "text": [
        "<IPython.core.display.Javascript at 0x1a790b70>"
       ]
      },
      {
       "javascript": [
        "\n",
        "        var $myPB = $(\"div#eba2005d-1f41-4084-b395-2f61730cca21\")\n",
        "        if ($myPB.hasClass('ui-progressbar')) {\n",
        "            $myPB.progressbar('value', 1638);\n",
        "        } else {\n",
        "            $myPB.progressbar({value: 0, max: 2029});\n",
        "        }\n",
        "        "
       ],
       "metadata": {},
       "output_type": "display_data",
       "text": [
        "<IPython.core.display.Javascript at 0x1a790b70>"
       ]
      },
      {
       "javascript": [
        "$('div#e03fb02c-de54-45dd-8d13-28d7c7992db5').text('ETA:  0:00:00');"
       ],
       "metadata": {},
       "output_type": "display_data",
       "text": [
        "<IPython.core.display.Javascript at 0x1a790cf8>"
       ]
      },
      {
       "javascript": [
        "$('div#af272421-38e8-451a-a10f-1777c9fb56ea').text('1659 of 2029');"
       ],
       "metadata": {},
       "output_type": "display_data",
       "text": [
        "<IPython.core.display.Javascript at 0x1a790160>"
       ]
      },
      {
       "javascript": [
        "$('div#bd2129a3-323d-42a6-8e90-cbd57c423182').text(' 81%');"
       ],
       "metadata": {},
       "output_type": "display_data",
       "text": [
        "<IPython.core.display.Javascript at 0x171740b8>"
       ]
      },
      {
       "javascript": [
        "\n",
        "        var $myPB = $(\"div#eba2005d-1f41-4084-b395-2f61730cca21\")\n",
        "        if ($myPB.hasClass('ui-progressbar')) {\n",
        "            $myPB.progressbar('value', 1659);\n",
        "        } else {\n",
        "            $myPB.progressbar({value: 0, max: 2029});\n",
        "        }\n",
        "        "
       ],
       "metadata": {},
       "output_type": "display_data",
       "text": [
        "<IPython.core.display.Javascript at 0x1a790160>"
       ]
      },
      {
       "javascript": [
        "$('div#e03fb02c-de54-45dd-8d13-28d7c7992db5').text('ETA:  0:00:00');"
       ],
       "metadata": {},
       "output_type": "display_data",
       "text": [
        "<IPython.core.display.Javascript at 0x1a790cf8>"
       ]
      },
      {
       "javascript": [
        "$('div#af272421-38e8-451a-a10f-1777c9fb56ea').text('1680 of 2029');"
       ],
       "metadata": {},
       "output_type": "display_data",
       "text": [
        "<IPython.core.display.Javascript at 0x1a790b70>"
       ]
      },
      {
       "javascript": [
        "$('div#bd2129a3-323d-42a6-8e90-cbd57c423182').text(' 82%');"
       ],
       "metadata": {},
       "output_type": "display_data",
       "text": [
        "<IPython.core.display.Javascript at 0x171740b8>"
       ]
      },
      {
       "javascript": [
        "\n",
        "        var $myPB = $(\"div#eba2005d-1f41-4084-b395-2f61730cca21\")\n",
        "        if ($myPB.hasClass('ui-progressbar')) {\n",
        "            $myPB.progressbar('value', 1680);\n",
        "        } else {\n",
        "            $myPB.progressbar({value: 0, max: 2029});\n",
        "        }\n",
        "        "
       ],
       "metadata": {},
       "output_type": "display_data",
       "text": [
        "<IPython.core.display.Javascript at 0x1a790cf8>"
       ]
      },
      {
       "javascript": [
        "$('div#e03fb02c-de54-45dd-8d13-28d7c7992db5').text('ETA:  0:00:00');"
       ],
       "metadata": {},
       "output_type": "display_data",
       "text": [
        "<IPython.core.display.Javascript at 0x1a790b70>"
       ]
      },
      {
       "javascript": [
        "$('div#af272421-38e8-451a-a10f-1777c9fb56ea').text('1701 of 2029');"
       ],
       "metadata": {},
       "output_type": "display_data",
       "text": [
        "<IPython.core.display.Javascript at 0x1a790160>"
       ]
      },
      {
       "javascript": [
        "$('div#bd2129a3-323d-42a6-8e90-cbd57c423182').text(' 83%');"
       ],
       "metadata": {},
       "output_type": "display_data",
       "text": [
        "<IPython.core.display.Javascript at 0x171740b8>"
       ]
      },
      {
       "javascript": [
        "\n",
        "        var $myPB = $(\"div#eba2005d-1f41-4084-b395-2f61730cca21\")\n",
        "        if ($myPB.hasClass('ui-progressbar')) {\n",
        "            $myPB.progressbar('value', 1701);\n",
        "        } else {\n",
        "            $myPB.progressbar({value: 0, max: 2029});\n",
        "        }\n",
        "        "
       ],
       "metadata": {},
       "output_type": "display_data",
       "text": [
        "<IPython.core.display.Javascript at 0x17174940>"
       ]
      },
      {
       "javascript": [
        "$('div#e03fb02c-de54-45dd-8d13-28d7c7992db5').text('ETA:  0:00:00');"
       ],
       "metadata": {},
       "output_type": "display_data",
       "text": [
        "<IPython.core.display.Javascript at 0x171743c8>"
       ]
      },
      {
       "javascript": [
        "$('div#af272421-38e8-451a-a10f-1777c9fb56ea').text('1722 of 2029');"
       ],
       "metadata": {},
       "output_type": "display_data",
       "text": [
        "<IPython.core.display.Javascript at 0x17174c18>"
       ]
      },
      {
       "javascript": [
        "$('div#bd2129a3-323d-42a6-8e90-cbd57c423182').text(' 84%');"
       ],
       "metadata": {},
       "output_type": "display_data",
       "text": [
        "<IPython.core.display.Javascript at 0x17174c18>"
       ]
      },
      {
       "javascript": [
        "\n",
        "        var $myPB = $(\"div#eba2005d-1f41-4084-b395-2f61730cca21\")\n",
        "        if ($myPB.hasClass('ui-progressbar')) {\n",
        "            $myPB.progressbar('value', 1722);\n",
        "        } else {\n",
        "            $myPB.progressbar({value: 0, max: 2029});\n",
        "        }\n",
        "        "
       ],
       "metadata": {},
       "output_type": "display_data",
       "text": [
        "<IPython.core.display.Javascript at 0x171743c8>"
       ]
      },
      {
       "javascript": [
        "$('div#e03fb02c-de54-45dd-8d13-28d7c7992db5').text('ETA:  0:00:00');"
       ],
       "metadata": {},
       "output_type": "display_data",
       "text": [
        "<IPython.core.display.Javascript at 0x17174940>"
       ]
      },
      {
       "javascript": [
        "$('div#af272421-38e8-451a-a10f-1777c9fb56ea').text('1743 of 2029');"
       ],
       "metadata": {},
       "output_type": "display_data",
       "text": [
        "<IPython.core.display.Javascript at 0x1a790b70>"
       ]
      },
      {
       "javascript": [
        "$('div#bd2129a3-323d-42a6-8e90-cbd57c423182').text(' 85%');"
       ],
       "metadata": {},
       "output_type": "display_data",
       "text": [
        "<IPython.core.display.Javascript at 0x1a790b70>"
       ]
      },
      {
       "javascript": [
        "\n",
        "        var $myPB = $(\"div#eba2005d-1f41-4084-b395-2f61730cca21\")\n",
        "        if ($myPB.hasClass('ui-progressbar')) {\n",
        "            $myPB.progressbar('value', 1743);\n",
        "        } else {\n",
        "            $myPB.progressbar({value: 0, max: 2029});\n",
        "        }\n",
        "        "
       ],
       "metadata": {},
       "output_type": "display_data",
       "text": [
        "<IPython.core.display.Javascript at 0x1a790cf8>"
       ]
      },
      {
       "javascript": [
        "$('div#e03fb02c-de54-45dd-8d13-28d7c7992db5').text('ETA:  0:00:00');"
       ],
       "metadata": {},
       "output_type": "display_data",
       "text": [
        "<IPython.core.display.Javascript at 0x1a790160>"
       ]
      },
      {
       "javascript": [
        "$('div#af272421-38e8-451a-a10f-1777c9fb56ea').text('1764 of 2029');"
       ],
       "metadata": {},
       "output_type": "display_data",
       "text": [
        "<IPython.core.display.Javascript at 0x17174940>"
       ]
      },
      {
       "javascript": [
        "$('div#bd2129a3-323d-42a6-8e90-cbd57c423182').text(' 86%');"
       ],
       "metadata": {},
       "output_type": "display_data",
       "text": [
        "<IPython.core.display.Javascript at 0x17174940>"
       ]
      },
      {
       "javascript": [
        "\n",
        "        var $myPB = $(\"div#eba2005d-1f41-4084-b395-2f61730cca21\")\n",
        "        if ($myPB.hasClass('ui-progressbar')) {\n",
        "            $myPB.progressbar('value', 1764);\n",
        "        } else {\n",
        "            $myPB.progressbar({value: 0, max: 2029});\n",
        "        }\n",
        "        "
       ],
       "metadata": {},
       "output_type": "display_data",
       "text": [
        "<IPython.core.display.Javascript at 0x17174c18>"
       ]
      },
      {
       "javascript": [
        "$('div#e03fb02c-de54-45dd-8d13-28d7c7992db5').text('ETA:  0:00:00');"
       ],
       "metadata": {},
       "output_type": "display_data",
       "text": [
        "<IPython.core.display.Javascript at 0x171743c8>"
       ]
      },
      {
       "javascript": [
        "$('div#af272421-38e8-451a-a10f-1777c9fb56ea').text('1785 of 2029');"
       ],
       "metadata": {},
       "output_type": "display_data",
       "text": [
        "<IPython.core.display.Javascript at 0x1a790cf8>"
       ]
      },
      {
       "javascript": [
        "$('div#bd2129a3-323d-42a6-8e90-cbd57c423182').text(' 87%');"
       ],
       "metadata": {},
       "output_type": "display_data",
       "text": [
        "<IPython.core.display.Javascript at 0x1a790cf8>"
       ]
      },
      {
       "javascript": [
        "\n",
        "        var $myPB = $(\"div#eba2005d-1f41-4084-b395-2f61730cca21\")\n",
        "        if ($myPB.hasClass('ui-progressbar')) {\n",
        "            $myPB.progressbar('value', 1785);\n",
        "        } else {\n",
        "            $myPB.progressbar({value: 0, max: 2029});\n",
        "        }\n",
        "        "
       ],
       "metadata": {},
       "output_type": "display_data",
       "text": [
        "<IPython.core.display.Javascript at 0x1a790b70>"
       ]
      },
      {
       "javascript": [
        "$('div#e03fb02c-de54-45dd-8d13-28d7c7992db5').text('ETA:  0:00:00');"
       ],
       "metadata": {},
       "output_type": "display_data",
       "text": [
        "<IPython.core.display.Javascript at 0x1a790160>"
       ]
      },
      {
       "javascript": [
        "$('div#af272421-38e8-451a-a10f-1777c9fb56ea').text('1806 of 2029');"
       ],
       "metadata": {},
       "output_type": "display_data",
       "text": [
        "<IPython.core.display.Javascript at 0x17174c18>"
       ]
      },
      {
       "javascript": [
        "$('div#bd2129a3-323d-42a6-8e90-cbd57c423182').text(' 89%');"
       ],
       "metadata": {},
       "output_type": "display_data",
       "text": [
        "<IPython.core.display.Javascript at 0x17174940>"
       ]
      },
      {
       "javascript": [
        "\n",
        "        var $myPB = $(\"div#eba2005d-1f41-4084-b395-2f61730cca21\")\n",
        "        if ($myPB.hasClass('ui-progressbar')) {\n",
        "            $myPB.progressbar('value', 1806);\n",
        "        } else {\n",
        "            $myPB.progressbar({value: 0, max: 2029});\n",
        "        }\n",
        "        "
       ],
       "metadata": {},
       "output_type": "display_data",
       "text": [
        "<IPython.core.display.Javascript at 0x171743c8>"
       ]
      },
      {
       "javascript": [
        "$('div#e03fb02c-de54-45dd-8d13-28d7c7992db5').text('ETA:  0:00:00');"
       ],
       "metadata": {},
       "output_type": "display_data",
       "text": [
        "<IPython.core.display.Javascript at 0x1a790b70>"
       ]
      },
      {
       "javascript": [
        "$('div#af272421-38e8-451a-a10f-1777c9fb56ea').text('1827 of 2029');"
       ],
       "metadata": {},
       "output_type": "display_data",
       "text": [
        "<IPython.core.display.Javascript at 0x1a790b70>"
       ]
      },
      {
       "javascript": [
        "$('div#bd2129a3-323d-42a6-8e90-cbd57c423182').text(' 90%');"
       ],
       "metadata": {},
       "output_type": "display_data",
       "text": [
        "<IPython.core.display.Javascript at 0x1a790cf8>"
       ]
      },
      {
       "javascript": [
        "\n",
        "        var $myPB = $(\"div#eba2005d-1f41-4084-b395-2f61730cca21\")\n",
        "        if ($myPB.hasClass('ui-progressbar')) {\n",
        "            $myPB.progressbar('value', 1827);\n",
        "        } else {\n",
        "            $myPB.progressbar({value: 0, max: 2029});\n",
        "        }\n",
        "        "
       ],
       "metadata": {},
       "output_type": "display_data",
       "text": [
        "<IPython.core.display.Javascript at 0x1a790160>"
       ]
      },
      {
       "javascript": [
        "$('div#e03fb02c-de54-45dd-8d13-28d7c7992db5').text('ETA:  0:00:00');"
       ],
       "metadata": {},
       "output_type": "display_data",
       "text": [
        "<IPython.core.display.Javascript at 0x17174940>"
       ]
      },
      {
       "javascript": [
        "$('div#af272421-38e8-451a-a10f-1777c9fb56ea').text('1848 of 2029');"
       ],
       "metadata": {},
       "output_type": "display_data",
       "text": [
        "<IPython.core.display.Javascript at 0x1a790160>"
       ]
      },
      {
       "javascript": [
        "$('div#bd2129a3-323d-42a6-8e90-cbd57c423182').text(' 91%');"
       ],
       "metadata": {},
       "output_type": "display_data",
       "text": [
        "<IPython.core.display.Javascript at 0x1a790cf8>"
       ]
      },
      {
       "javascript": [
        "\n",
        "        var $myPB = $(\"div#eba2005d-1f41-4084-b395-2f61730cca21\")\n",
        "        if ($myPB.hasClass('ui-progressbar')) {\n",
        "            $myPB.progressbar('value', 1848);\n",
        "        } else {\n",
        "            $myPB.progressbar({value: 0, max: 2029});\n",
        "        }\n",
        "        "
       ],
       "metadata": {},
       "output_type": "display_data",
       "text": [
        "<IPython.core.display.Javascript at 0x1a790b70>"
       ]
      },
      {
       "javascript": [
        "$('div#e03fb02c-de54-45dd-8d13-28d7c7992db5').text('ETA:  0:00:00');"
       ],
       "metadata": {},
       "output_type": "display_data",
       "text": [
        "<IPython.core.display.Javascript at 0x17174940>"
       ]
      },
      {
       "javascript": [
        "$('div#af272421-38e8-451a-a10f-1777c9fb56ea').text('1869 of 2029');"
       ],
       "metadata": {},
       "output_type": "display_data",
       "text": [
        "<IPython.core.display.Javascript at 0x1a790b70>"
       ]
      },
      {
       "javascript": [
        "$('div#bd2129a3-323d-42a6-8e90-cbd57c423182').text(' 92%');"
       ],
       "metadata": {},
       "output_type": "display_data",
       "text": [
        "<IPython.core.display.Javascript at 0x1a790cf8>"
       ]
      },
      {
       "javascript": [
        "\n",
        "        var $myPB = $(\"div#eba2005d-1f41-4084-b395-2f61730cca21\")\n",
        "        if ($myPB.hasClass('ui-progressbar')) {\n",
        "            $myPB.progressbar('value', 1869);\n",
        "        } else {\n",
        "            $myPB.progressbar({value: 0, max: 2029});\n",
        "        }\n",
        "        "
       ],
       "metadata": {},
       "output_type": "display_data",
       "text": [
        "<IPython.core.display.Javascript at 0x1a790160>"
       ]
      },
      {
       "javascript": [
        "$('div#e03fb02c-de54-45dd-8d13-28d7c7992db5').text('ETA:  0:00:00');"
       ],
       "metadata": {},
       "output_type": "display_data",
       "text": [
        "<IPython.core.display.Javascript at 0x17174940>"
       ]
      },
      {
       "javascript": [
        "$('div#af272421-38e8-451a-a10f-1777c9fb56ea').text('1890 of 2029');"
       ],
       "metadata": {},
       "output_type": "display_data",
       "text": [
        "<IPython.core.display.Javascript at 0x1a790cf8>"
       ]
      },
      {
       "javascript": [
        "$('div#bd2129a3-323d-42a6-8e90-cbd57c423182').text(' 93%');"
       ],
       "metadata": {},
       "output_type": "display_data",
       "text": [
        "<IPython.core.display.Javascript at 0x1a790160>"
       ]
      },
      {
       "javascript": [
        "\n",
        "        var $myPB = $(\"div#eba2005d-1f41-4084-b395-2f61730cca21\")\n",
        "        if ($myPB.hasClass('ui-progressbar')) {\n",
        "            $myPB.progressbar('value', 1890);\n",
        "        } else {\n",
        "            $myPB.progressbar({value: 0, max: 2029});\n",
        "        }\n",
        "        "
       ],
       "metadata": {},
       "output_type": "display_data",
       "text": [
        "<IPython.core.display.Javascript at 0x1a790b70>"
       ]
      },
      {
       "javascript": [
        "$('div#e03fb02c-de54-45dd-8d13-28d7c7992db5').text('ETA:  0:00:00');"
       ],
       "metadata": {},
       "output_type": "display_data",
       "text": [
        "<IPython.core.display.Javascript at 0x1a790b70>"
       ]
      },
      {
       "javascript": [
        "$('div#af272421-38e8-451a-a10f-1777c9fb56ea').text('1911 of 2029');"
       ],
       "metadata": {},
       "output_type": "display_data",
       "text": [
        "<IPython.core.display.Javascript at 0x1a790160>"
       ]
      },
      {
       "javascript": [
        "$('div#bd2129a3-323d-42a6-8e90-cbd57c423182').text(' 94%');"
       ],
       "metadata": {},
       "output_type": "display_data",
       "text": [
        "<IPython.core.display.Javascript at 0x1a790cf8>"
       ]
      },
      {
       "javascript": [
        "\n",
        "        var $myPB = $(\"div#eba2005d-1f41-4084-b395-2f61730cca21\")\n",
        "        if ($myPB.hasClass('ui-progressbar')) {\n",
        "            $myPB.progressbar('value', 1911);\n",
        "        } else {\n",
        "            $myPB.progressbar({value: 0, max: 2029});\n",
        "        }\n",
        "        "
       ],
       "metadata": {},
       "output_type": "display_data",
       "text": [
        "<IPython.core.display.Javascript at 0x17174940>"
       ]
      },
      {
       "javascript": [
        "$('div#e03fb02c-de54-45dd-8d13-28d7c7992db5').text('ETA:  0:00:00');"
       ],
       "metadata": {},
       "output_type": "display_data",
       "text": [
        "<IPython.core.display.Javascript at 0x1a790cf8>"
       ]
      },
      {
       "javascript": [
        "$('div#af272421-38e8-451a-a10f-1777c9fb56ea').text('1932 of 2029');"
       ],
       "metadata": {},
       "output_type": "display_data",
       "text": [
        "<IPython.core.display.Javascript at 0x1a790160>"
       ]
      },
      {
       "javascript": [
        "$('div#bd2129a3-323d-42a6-8e90-cbd57c423182').text(' 95%');"
       ],
       "metadata": {},
       "output_type": "display_data",
       "text": [
        "<IPython.core.display.Javascript at 0x1a790b70>"
       ]
      },
      {
       "javascript": [
        "\n",
        "        var $myPB = $(\"div#eba2005d-1f41-4084-b395-2f61730cca21\")\n",
        "        if ($myPB.hasClass('ui-progressbar')) {\n",
        "            $myPB.progressbar('value', 1932);\n",
        "        } else {\n",
        "            $myPB.progressbar({value: 0, max: 2029});\n",
        "        }\n",
        "        "
       ],
       "metadata": {},
       "output_type": "display_data",
       "text": [
        "<IPython.core.display.Javascript at 0x171743c8>"
       ]
      },
      {
       "javascript": [
        "$('div#e03fb02c-de54-45dd-8d13-28d7c7992db5').text('ETA:  0:00:00');"
       ],
       "metadata": {},
       "output_type": "display_data",
       "text": [
        "<IPython.core.display.Javascript at 0x1a790b70>"
       ]
      },
      {
       "javascript": [
        "$('div#af272421-38e8-451a-a10f-1777c9fb56ea').text('1953 of 2029');"
       ],
       "metadata": {},
       "output_type": "display_data",
       "text": [
        "<IPython.core.display.Javascript at 0x1a790160>"
       ]
      },
      {
       "javascript": [
        "$('div#bd2129a3-323d-42a6-8e90-cbd57c423182').text(' 96%');"
       ],
       "metadata": {},
       "output_type": "display_data",
       "text": [
        "<IPython.core.display.Javascript at 0x1a790cf8>"
       ]
      },
      {
       "javascript": [
        "\n",
        "        var $myPB = $(\"div#eba2005d-1f41-4084-b395-2f61730cca21\")\n",
        "        if ($myPB.hasClass('ui-progressbar')) {\n",
        "            $myPB.progressbar('value', 1953);\n",
        "        } else {\n",
        "            $myPB.progressbar({value: 0, max: 2029});\n",
        "        }\n",
        "        "
       ],
       "metadata": {},
       "output_type": "display_data",
       "text": [
        "<IPython.core.display.Javascript at 0x17174c18>"
       ]
      },
      {
       "javascript": [
        "$('div#e03fb02c-de54-45dd-8d13-28d7c7992db5').text('ETA:  0:00:00');"
       ],
       "metadata": {},
       "output_type": "display_data",
       "text": [
        "<IPython.core.display.Javascript at 0x1a790cf8>"
       ]
      },
      {
       "javascript": [
        "$('div#af272421-38e8-451a-a10f-1777c9fb56ea').text('1974 of 2029');"
       ],
       "metadata": {},
       "output_type": "display_data",
       "text": [
        "<IPython.core.display.Javascript at 0x1a790160>"
       ]
      },
      {
       "javascript": [
        "$('div#bd2129a3-323d-42a6-8e90-cbd57c423182').text(' 97%');"
       ],
       "metadata": {},
       "output_type": "display_data",
       "text": [
        "<IPython.core.display.Javascript at 0x1a790b70>"
       ]
      },
      {
       "javascript": [
        "\n",
        "        var $myPB = $(\"div#eba2005d-1f41-4084-b395-2f61730cca21\")\n",
        "        if ($myPB.hasClass('ui-progressbar')) {\n",
        "            $myPB.progressbar('value', 1974);\n",
        "        } else {\n",
        "            $myPB.progressbar({value: 0, max: 2029});\n",
        "        }\n",
        "        "
       ],
       "metadata": {},
       "output_type": "display_data",
       "text": [
        "<IPython.core.display.Javascript at 0x17174c18>"
       ]
      },
      {
       "javascript": [
        "$('div#e03fb02c-de54-45dd-8d13-28d7c7992db5').text('ETA:  0:00:00');"
       ],
       "metadata": {},
       "output_type": "display_data",
       "text": [
        "<IPython.core.display.Javascript at 0x1a790160>"
       ]
      },
      {
       "javascript": [
        "$('div#af272421-38e8-451a-a10f-1777c9fb56ea').text('1995 of 2029');"
       ],
       "metadata": {},
       "output_type": "display_data",
       "text": [
        "<IPython.core.display.Javascript at 0x1a790b70>"
       ]
      },
      {
       "javascript": [
        "$('div#bd2129a3-323d-42a6-8e90-cbd57c423182').text(' 98%');"
       ],
       "metadata": {},
       "output_type": "display_data",
       "text": [
        "<IPython.core.display.Javascript at 0x1a790cf8>"
       ]
      },
      {
       "javascript": [
        "\n",
        "        var $myPB = $(\"div#eba2005d-1f41-4084-b395-2f61730cca21\")\n",
        "        if ($myPB.hasClass('ui-progressbar')) {\n",
        "            $myPB.progressbar('value', 1995);\n",
        "        } else {\n",
        "            $myPB.progressbar({value: 0, max: 2029});\n",
        "        }\n",
        "        "
       ],
       "metadata": {},
       "output_type": "display_data",
       "text": [
        "<IPython.core.display.Javascript at 0x17174c18>"
       ]
      },
      {
       "javascript": [
        "$('div#e03fb02c-de54-45dd-8d13-28d7c7992db5').text('ETA:  0:00:00');"
       ],
       "metadata": {},
       "output_type": "display_data",
       "text": [
        "<IPython.core.display.Javascript at 0x17174c18>"
       ]
      },
      {
       "javascript": [
        "$('div#af272421-38e8-451a-a10f-1777c9fb56ea').text('2016 of 2029');"
       ],
       "metadata": {},
       "output_type": "display_data",
       "text": [
        "<IPython.core.display.Javascript at 0x171740b8>"
       ]
      },
      {
       "javascript": [
        "$('div#bd2129a3-323d-42a6-8e90-cbd57c423182').text(' 99%');"
       ],
       "metadata": {},
       "output_type": "display_data",
       "text": [
        "<IPython.core.display.Javascript at 0x17174940>"
       ]
      },
      {
       "javascript": [
        "\n",
        "        var $myPB = $(\"div#eba2005d-1f41-4084-b395-2f61730cca21\")\n",
        "        if ($myPB.hasClass('ui-progressbar')) {\n",
        "            $myPB.progressbar('value', 2016);\n",
        "        } else {\n",
        "            $myPB.progressbar({value: 0, max: 2029});\n",
        "        }\n",
        "        "
       ],
       "metadata": {},
       "output_type": "display_data",
       "text": [
        "<IPython.core.display.Javascript at 0x17174940>"
       ]
      },
      {
       "javascript": [
        "$('div#e03fb02c-de54-45dd-8d13-28d7c7992db5').text('ETA:  0:00:00');"
       ],
       "metadata": {},
       "output_type": "display_data",
       "text": [
        "<IPython.core.display.Javascript at 0x171743c8>"
       ]
      },
      {
       "javascript": [
        "$('div#af272421-38e8-451a-a10f-1777c9fb56ea').text('2029 of 2029');"
       ],
       "metadata": {},
       "output_type": "display_data",
       "text": [
        "<IPython.core.display.Javascript at 0x17174c18>"
       ]
      },
      {
       "javascript": [
        "$('div#bd2129a3-323d-42a6-8e90-cbd57c423182').text('100%');"
       ],
       "metadata": {},
       "output_type": "display_data",
       "text": [
        "<IPython.core.display.Javascript at 0x171740b8>"
       ]
      },
      {
       "javascript": [
        "\n",
        "        var $myPB = $(\"div#eba2005d-1f41-4084-b395-2f61730cca21\")\n",
        "        if ($myPB.hasClass('ui-progressbar')) {\n",
        "            $myPB.progressbar('value', 2029);\n",
        "        } else {\n",
        "            $myPB.progressbar({value: 0, max: 2029});\n",
        "        }\n",
        "        "
       ],
       "metadata": {},
       "output_type": "display_data",
       "text": [
        "<IPython.core.display.Javascript at 0x171740b8>"
       ]
      },
      {
       "javascript": [
        "$('div#e03fb02c-de54-45dd-8d13-28d7c7992db5').text('Time: 0:00:00');"
       ],
       "metadata": {},
       "output_type": "display_data",
       "text": [
        "<IPython.core.display.Javascript at 0x17174c18>"
       ]
      },
      {
       "javascript": [
        "var element = document.getElementById('6b52da64-72a6-4417-81fb-76b9e90889ff');\n",
        "                    var parent = element.parentNode\n",
        "                    parent.removeChild(element);\n",
        "                    parent.parentElement.remove();"
       ],
       "metadata": {},
       "output_type": "display_data",
       "text": [
        "<IPython.core.display.Javascript at 0x1f93f8d0>"
       ]
      },
      {
       "javascript": [
        "this.cleanProgressBar(['6b52da64-72a6-4417-81fb-76b9e90889ff', 'af272421-38e8-451a-a10f-1777c9fb56ea', 'bd2129a3-323d-42a6-8e90-cbd57c423182', 'eba2005d-1f41-4084-b395-2f61730cca21', 'e03fb02c-de54-45dd-8d13-28d7c7992db5'])"
       ],
       "metadata": {},
       "output_type": "display_data",
       "text": [
        "<IPython.core.display.Javascript at 0x17174940>"
       ]
      },
      {
       "javascript": [
        "//e2ebaa5b-5797-4f76-a587-a59ea2d00e46\n",
        "$(\"head\").append(\"<style> td.pb_widget {     width: auto; } td.pb_widget_fill {     width: 100%; } table.pb {     font-family: monospace;     border: 0;     margin: 0; } table.pb tr { border: 0; } table.pb td {     white-space: nowrap;     border: 0; } div.pb {     border: 1px solid #ddd;     border-radius: 3px; } div.pb_bar {     height: 1.5em; } </style>\")"
       ],
       "metadata": {},
       "output_type": "display_data",
       "text": [
        "<IPython.core.display.Javascript at 0x1ae353c8>"
       ]
      },
      {
       "javascript": [
        "\n",
        "                  // e2ebaa5b-5797-4f76-a587-a59ea2d00e46 -- used to remove this code blob in the end\n",
        "                  IPython.OutputArea.prototype.cleanProgressBar = function(uuids) {\n",
        "                      // filter by uuid-strings \n",
        "                      var myfilter = function(output) { \n",
        "                          var nuids = uuids.length;\n",
        "                          for (var i=0; i<nuids; i++) {\n",
        "                              if (output.hasOwnProperty('html')) {\n",
        "                                  if (output.html.indexOf(uuids[i]) != -1) {\n",
        "                                      return false;\n",
        "                                  }\n",
        "                              }\n",
        "                              if (output.hasOwnProperty('javascript')) {\n",
        "                                  if (output.javascript.indexOf(uuids[i]) != -1) {\n",
        "                                      return false;\n",
        "                                  }\n",
        "                              }\n",
        "                          }\n",
        "                          // keep all others\n",
        "                          return true;\n",
        "                      };\n",
        "\n",
        "                      // Filter the ouputs\n",
        "                      this.outputs = this.outputs.filter(myfilter);\n",
        "                };\n",
        "                "
       ],
       "metadata": {},
       "output_type": "display_data",
       "text": [
        "<IPython.core.display.Javascript at 0x1ae35080>"
       ]
      },
      {
       "html": [
        "<div class=\"pb\" id=\"e2ebaa5b-5797-4f76-a587-a59ea2d00e46\"><table class=\"pb ui-widget\"><tr>\n",
        "<td class=\"pb_widget\">Chunking </td>\n",
        "<td class=\"pb_widget\"><div id=\"d2780b3d-c244-46cc-8691-4d109a739e44\">0 of 2029</div></td>\n",
        "<td class=\"pb_widget\"><div id=\"85cb4a61-cb5d-450d-9fa1-ced438c2c79f\">  0%</div></td>\n",
        "<td class=\"pb_widget_fill\">\n",
        "        <div class=\"pb_bar\" id=\"2b5f16b0-603c-4114-8dbb-b10a6873281d\"></div>\n",
        "        <script type=\"text/javascript\">\n",
        "            $(\"div#2b5f16b0-603c-4114-8dbb-b10a6873281d\").progressbar({value: 0, max: 2029});\n",
        "        </script>\n",
        "        </td>\n",
        "<td class=\"pb_widget\"><div id=\"f1a3f1f1-0f96-4c96-aab1-c5bab8936b6b\">ETA:  --:--:--</div></td>\n",
        "</tr></table><div>"
       ],
       "metadata": {},
       "output_type": "display_data",
       "text": [
        "<IPython.core.display.HTML at 0x14fbab38>"
       ]
      },
      {
       "javascript": [
        "$('div#d2780b3d-c244-46cc-8691-4d109a739e44').text('21 of 2029');"
       ],
       "metadata": {},
       "output_type": "display_data",
       "text": [
        "<IPython.core.display.Javascript at 0x1ae350f0>"
       ]
      },
      {
       "javascript": [
        "$('div#85cb4a61-cb5d-450d-9fa1-ced438c2c79f').text('  1%');"
       ],
       "metadata": {},
       "output_type": "display_data",
       "text": [
        "<IPython.core.display.Javascript at 0x14fbab38>"
       ]
      },
      {
       "javascript": [
        "\n",
        "        var $myPB = $(\"div#2b5f16b0-603c-4114-8dbb-b10a6873281d\")\n",
        "        if ($myPB.hasClass('ui-progressbar')) {\n",
        "            $myPB.progressbar('value', 21);\n",
        "        } else {\n",
        "            $myPB.progressbar({value: 0, max: 2029});\n",
        "        }\n",
        "        "
       ],
       "metadata": {},
       "output_type": "display_data",
       "text": [
        "<IPython.core.display.Javascript at 0x1ae350f0>"
       ]
      },
      {
       "javascript": [
        "$('div#f1a3f1f1-0f96-4c96-aab1-c5bab8936b6b').text('ETA:  0:00:00');"
       ],
       "metadata": {},
       "output_type": "display_data",
       "text": [
        "<IPython.core.display.Javascript at 0x1ae35080>"
       ]
      },
      {
       "javascript": [
        "$('div#d2780b3d-c244-46cc-8691-4d109a739e44').text('42 of 2029');"
       ],
       "metadata": {},
       "output_type": "display_data",
       "text": [
        "<IPython.core.display.Javascript at 0x1ae35a58>"
       ]
      },
      {
       "javascript": [
        "$('div#85cb4a61-cb5d-450d-9fa1-ced438c2c79f').text('  2%');"
       ],
       "metadata": {},
       "output_type": "display_data",
       "text": [
        "<IPython.core.display.Javascript at 0x1f93f780>"
       ]
      },
      {
       "javascript": [
        "\n",
        "        var $myPB = $(\"div#2b5f16b0-603c-4114-8dbb-b10a6873281d\")\n",
        "        if ($myPB.hasClass('ui-progressbar')) {\n",
        "            $myPB.progressbar('value', 42);\n",
        "        } else {\n",
        "            $myPB.progressbar({value: 0, max: 2029});\n",
        "        }\n",
        "        "
       ],
       "metadata": {},
       "output_type": "display_data",
       "text": [
        "<IPython.core.display.Javascript at 0x1f93fa58>"
       ]
      },
      {
       "javascript": [
        "$('div#f1a3f1f1-0f96-4c96-aab1-c5bab8936b6b').text('ETA:  0:00:00');"
       ],
       "metadata": {},
       "output_type": "display_data",
       "text": [
        "<IPython.core.display.Javascript at 0x14fbab38>"
       ]
      },
      {
       "javascript": [
        "$('div#d2780b3d-c244-46cc-8691-4d109a739e44').text('63 of 2029');"
       ],
       "metadata": {},
       "output_type": "display_data",
       "text": [
        "<IPython.core.display.Javascript at 0x1f93fa58>"
       ]
      },
      {
       "javascript": [
        "$('div#85cb4a61-cb5d-450d-9fa1-ced438c2c79f').text('  3%');"
       ],
       "metadata": {},
       "output_type": "display_data",
       "text": [
        "<IPython.core.display.Javascript at 0x1f93f780>"
       ]
      },
      {
       "javascript": [
        "\n",
        "        var $myPB = $(\"div#2b5f16b0-603c-4114-8dbb-b10a6873281d\")\n",
        "        if ($myPB.hasClass('ui-progressbar')) {\n",
        "            $myPB.progressbar('value', 63);\n",
        "        } else {\n",
        "            $myPB.progressbar({value: 0, max: 2029});\n",
        "        }\n",
        "        "
       ],
       "metadata": {},
       "output_type": "display_data",
       "text": [
        "<IPython.core.display.Javascript at 0x1ae353c8>"
       ]
      },
      {
       "javascript": [
        "$('div#f1a3f1f1-0f96-4c96-aab1-c5bab8936b6b').text('ETA:  0:00:00');"
       ],
       "metadata": {},
       "output_type": "display_data",
       "text": [
        "<IPython.core.display.Javascript at 0x1ae35128>"
       ]
      },
      {
       "javascript": [
        "$('div#d2780b3d-c244-46cc-8691-4d109a739e44').text('84 of 2029');"
       ],
       "metadata": {},
       "output_type": "display_data",
       "text": [
        "<IPython.core.display.Javascript at 0x1f93f780>"
       ]
      },
      {
       "javascript": [
        "$('div#85cb4a61-cb5d-450d-9fa1-ced438c2c79f').text('  4%');"
       ],
       "metadata": {},
       "output_type": "display_data",
       "text": [
        "<IPython.core.display.Javascript at 0x1f93fa58>"
       ]
      },
      {
       "javascript": [
        "\n",
        "        var $myPB = $(\"div#2b5f16b0-603c-4114-8dbb-b10a6873281d\")\n",
        "        if ($myPB.hasClass('ui-progressbar')) {\n",
        "            $myPB.progressbar('value', 84);\n",
        "        } else {\n",
        "            $myPB.progressbar({value: 0, max: 2029});\n",
        "        }\n",
        "        "
       ],
       "metadata": {},
       "output_type": "display_data",
       "text": [
        "<IPython.core.display.Javascript at 0x1ae35128>"
       ]
      },
      {
       "javascript": [
        "$('div#f1a3f1f1-0f96-4c96-aab1-c5bab8936b6b').text('ETA:  0:00:00');"
       ],
       "metadata": {},
       "output_type": "display_data",
       "text": [
        "<IPython.core.display.Javascript at 0x1ae35a58>"
       ]
      },
      {
       "javascript": [
        "$('div#d2780b3d-c244-46cc-8691-4d109a739e44').text('105 of 2029');"
       ],
       "metadata": {},
       "output_type": "display_data",
       "text": [
        "<IPython.core.display.Javascript at 0x1f93fa58>"
       ]
      },
      {
       "javascript": [
        "$('div#85cb4a61-cb5d-450d-9fa1-ced438c2c79f').text('  5%');"
       ],
       "metadata": {},
       "output_type": "display_data",
       "text": [
        "<IPython.core.display.Javascript at 0x1f93f780>"
       ]
      },
      {
       "javascript": [
        "\n",
        "        var $myPB = $(\"div#2b5f16b0-603c-4114-8dbb-b10a6873281d\")\n",
        "        if ($myPB.hasClass('ui-progressbar')) {\n",
        "            $myPB.progressbar('value', 105);\n",
        "        } else {\n",
        "            $myPB.progressbar({value: 0, max: 2029});\n",
        "        }\n",
        "        "
       ],
       "metadata": {},
       "output_type": "display_data",
       "text": [
        "<IPython.core.display.Javascript at 0x1ae353c8>"
       ]
      },
      {
       "javascript": [
        "$('div#f1a3f1f1-0f96-4c96-aab1-c5bab8936b6b').text('ETA:  0:00:00');"
       ],
       "metadata": {},
       "output_type": "display_data",
       "text": [
        "<IPython.core.display.Javascript at 0x1ae35a58>"
       ]
      },
      {
       "javascript": [
        "$('div#d2780b3d-c244-46cc-8691-4d109a739e44').text('126 of 2029');"
       ],
       "metadata": {},
       "output_type": "display_data",
       "text": [
        "<IPython.core.display.Javascript at 0x1f93f780>"
       ]
      },
      {
       "javascript": [
        "$('div#85cb4a61-cb5d-450d-9fa1-ced438c2c79f').text('  6%');"
       ],
       "metadata": {},
       "output_type": "display_data",
       "text": [
        "<IPython.core.display.Javascript at 0x1f93fa58>"
       ]
      },
      {
       "javascript": [
        "\n",
        "        var $myPB = $(\"div#2b5f16b0-603c-4114-8dbb-b10a6873281d\")\n",
        "        if ($myPB.hasClass('ui-progressbar')) {\n",
        "            $myPB.progressbar('value', 126);\n",
        "        } else {\n",
        "            $myPB.progressbar({value: 0, max: 2029});\n",
        "        }\n",
        "        "
       ],
       "metadata": {},
       "output_type": "display_data",
       "text": [
        "<IPython.core.display.Javascript at 0x1ae35a58>"
       ]
      },
      {
       "javascript": [
        "$('div#f1a3f1f1-0f96-4c96-aab1-c5bab8936b6b').text('ETA:  0:00:00');"
       ],
       "metadata": {},
       "output_type": "display_data",
       "text": [
        "<IPython.core.display.Javascript at 0x1ae35128>"
       ]
      },
      {
       "javascript": [
        "$('div#d2780b3d-c244-46cc-8691-4d109a739e44').text('147 of 2029');"
       ],
       "metadata": {},
       "output_type": "display_data",
       "text": [
        "<IPython.core.display.Javascript at 0x1f93fa58>"
       ]
      },
      {
       "javascript": [
        "$('div#85cb4a61-cb5d-450d-9fa1-ced438c2c79f').text('  7%');"
       ],
       "metadata": {},
       "output_type": "display_data",
       "text": [
        "<IPython.core.display.Javascript at 0x1f93f780>"
       ]
      },
      {
       "javascript": [
        "\n",
        "        var $myPB = $(\"div#2b5f16b0-603c-4114-8dbb-b10a6873281d\")\n",
        "        if ($myPB.hasClass('ui-progressbar')) {\n",
        "            $myPB.progressbar('value', 147);\n",
        "        } else {\n",
        "            $myPB.progressbar({value: 0, max: 2029});\n",
        "        }\n",
        "        "
       ],
       "metadata": {},
       "output_type": "display_data",
       "text": [
        "<IPython.core.display.Javascript at 0x1ae35128>"
       ]
      },
      {
       "javascript": [
        "$('div#f1a3f1f1-0f96-4c96-aab1-c5bab8936b6b').text('ETA:  0:00:00');"
       ],
       "metadata": {},
       "output_type": "display_data",
       "text": [
        "<IPython.core.display.Javascript at 0x1f93f780>"
       ]
      },
      {
       "javascript": [
        "$('div#d2780b3d-c244-46cc-8691-4d109a739e44').text('168 of 2029');"
       ],
       "metadata": {},
       "output_type": "display_data",
       "text": [
        "<IPython.core.display.Javascript at 0x1f93fa58>"
       ]
      },
      {
       "javascript": [
        "$('div#85cb4a61-cb5d-450d-9fa1-ced438c2c79f').text('  8%');"
       ],
       "metadata": {},
       "output_type": "display_data",
       "text": [
        "<IPython.core.display.Javascript at 0x1ae35a58>"
       ]
      },
      {
       "javascript": [
        "\n",
        "        var $myPB = $(\"div#2b5f16b0-603c-4114-8dbb-b10a6873281d\")\n",
        "        if ($myPB.hasClass('ui-progressbar')) {\n",
        "            $myPB.progressbar('value', 168);\n",
        "        } else {\n",
        "            $myPB.progressbar({value: 0, max: 2029});\n",
        "        }\n",
        "        "
       ],
       "metadata": {},
       "output_type": "display_data",
       "text": [
        "<IPython.core.display.Javascript at 0x1ae35080>"
       ]
      },
      {
       "javascript": [
        "$('div#f1a3f1f1-0f96-4c96-aab1-c5bab8936b6b').text('ETA:  0:00:00');"
       ],
       "metadata": {},
       "output_type": "display_data",
       "text": [
        "<IPython.core.display.Javascript at 0x1f93f780>"
       ]
      },
      {
       "javascript": [
        "$('div#d2780b3d-c244-46cc-8691-4d109a739e44').text('189 of 2029');"
       ],
       "metadata": {},
       "output_type": "display_data",
       "text": [
        "<IPython.core.display.Javascript at 0x1f93fa58>"
       ]
      },
      {
       "javascript": [
        "$('div#85cb4a61-cb5d-450d-9fa1-ced438c2c79f').text('  9%');"
       ],
       "metadata": {},
       "output_type": "display_data",
       "text": [
        "<IPython.core.display.Javascript at 0x1ae35128>"
       ]
      },
      {
       "javascript": [
        "\n",
        "        var $myPB = $(\"div#2b5f16b0-603c-4114-8dbb-b10a6873281d\")\n",
        "        if ($myPB.hasClass('ui-progressbar')) {\n",
        "            $myPB.progressbar('value', 189);\n",
        "        } else {\n",
        "            $myPB.progressbar({value: 0, max: 2029});\n",
        "        }\n",
        "        "
       ],
       "metadata": {},
       "output_type": "display_data",
       "text": [
        "<IPython.core.display.Javascript at 0x1f93fa58>"
       ]
      },
      {
       "javascript": [
        "$('div#f1a3f1f1-0f96-4c96-aab1-c5bab8936b6b').text('ETA:  0:00:00');"
       ],
       "metadata": {},
       "output_type": "display_data",
       "text": [
        "<IPython.core.display.Javascript at 0x1f93f780>"
       ]
      },
      {
       "javascript": [
        "$('div#d2780b3d-c244-46cc-8691-4d109a739e44').text('210 of 2029');"
       ],
       "metadata": {},
       "output_type": "display_data",
       "text": [
        "<IPython.core.display.Javascript at 0x1ae35a58>"
       ]
      },
      {
       "javascript": [
        "$('div#85cb4a61-cb5d-450d-9fa1-ced438c2c79f').text(' 10%');"
       ],
       "metadata": {},
       "output_type": "display_data",
       "text": [
        "<IPython.core.display.Javascript at 0x1f93f780>"
       ]
      },
      {
       "javascript": [
        "\n",
        "        var $myPB = $(\"div#2b5f16b0-603c-4114-8dbb-b10a6873281d\")\n",
        "        if ($myPB.hasClass('ui-progressbar')) {\n",
        "            $myPB.progressbar('value', 210);\n",
        "        } else {\n",
        "            $myPB.progressbar({value: 0, max: 2029});\n",
        "        }\n",
        "        "
       ],
       "metadata": {},
       "output_type": "display_data",
       "text": [
        "<IPython.core.display.Javascript at 0x1f93fa58>"
       ]
      },
      {
       "javascript": [
        "$('div#f1a3f1f1-0f96-4c96-aab1-c5bab8936b6b').text('ETA:  0:00:00');"
       ],
       "metadata": {},
       "output_type": "display_data",
       "text": [
        "<IPython.core.display.Javascript at 0x1ae35128>"
       ]
      },
      {
       "javascript": [
        "$('div#d2780b3d-c244-46cc-8691-4d109a739e44').text('231 of 2029');"
       ],
       "metadata": {},
       "output_type": "display_data",
       "text": [
        "<IPython.core.display.Javascript at 0x1ae35a58>"
       ]
      },
      {
       "javascript": [
        "$('div#85cb4a61-cb5d-450d-9fa1-ced438c2c79f').text(' 11%');"
       ],
       "metadata": {},
       "output_type": "display_data",
       "text": [
        "<IPython.core.display.Javascript at 0x1f93f780>"
       ]
      },
      {
       "javascript": [
        "\n",
        "        var $myPB = $(\"div#2b5f16b0-603c-4114-8dbb-b10a6873281d\")\n",
        "        if ($myPB.hasClass('ui-progressbar')) {\n",
        "            $myPB.progressbar('value', 231);\n",
        "        } else {\n",
        "            $myPB.progressbar({value: 0, max: 2029});\n",
        "        }\n",
        "        "
       ],
       "metadata": {},
       "output_type": "display_data",
       "text": [
        "<IPython.core.display.Javascript at 0x1f93fa58>"
       ]
      },
      {
       "javascript": [
        "$('div#f1a3f1f1-0f96-4c96-aab1-c5bab8936b6b').text('ETA:  0:00:00');"
       ],
       "metadata": {},
       "output_type": "display_data",
       "text": [
        "<IPython.core.display.Javascript at 0x1ae353c8>"
       ]
      },
      {
       "javascript": [
        "$('div#d2780b3d-c244-46cc-8691-4d109a739e44').text('252 of 2029');"
       ],
       "metadata": {},
       "output_type": "display_data",
       "text": [
        "<IPython.core.display.Javascript at 0x1f93fa58>"
       ]
      },
      {
       "javascript": [
        "$('div#85cb4a61-cb5d-450d-9fa1-ced438c2c79f').text(' 12%');"
       ],
       "metadata": {},
       "output_type": "display_data",
       "text": [
        "<IPython.core.display.Javascript at 0x1f93f780>"
       ]
      },
      {
       "javascript": [
        "\n",
        "        var $myPB = $(\"div#2b5f16b0-603c-4114-8dbb-b10a6873281d\")\n",
        "        if ($myPB.hasClass('ui-progressbar')) {\n",
        "            $myPB.progressbar('value', 252);\n",
        "        } else {\n",
        "            $myPB.progressbar({value: 0, max: 2029});\n",
        "        }\n",
        "        "
       ],
       "metadata": {},
       "output_type": "display_data",
       "text": [
        "<IPython.core.display.Javascript at 0x1ae35128>"
       ]
      },
      {
       "javascript": [
        "$('div#f1a3f1f1-0f96-4c96-aab1-c5bab8936b6b').text('ETA:  0:00:00');"
       ],
       "metadata": {},
       "output_type": "display_data",
       "text": [
        "<IPython.core.display.Javascript at 0x1ae35a58>"
       ]
      },
      {
       "javascript": [
        "$('div#d2780b3d-c244-46cc-8691-4d109a739e44').text('273 of 2029');"
       ],
       "metadata": {},
       "output_type": "display_data",
       "text": [
        "<IPython.core.display.Javascript at 0x1f93f780>"
       ]
      },
      {
       "javascript": [
        "$('div#85cb4a61-cb5d-450d-9fa1-ced438c2c79f').text(' 13%');"
       ],
       "metadata": {},
       "output_type": "display_data",
       "text": [
        "<IPython.core.display.Javascript at 0x1f93fa58>"
       ]
      },
      {
       "javascript": [
        "\n",
        "        var $myPB = $(\"div#2b5f16b0-603c-4114-8dbb-b10a6873281d\")\n",
        "        if ($myPB.hasClass('ui-progressbar')) {\n",
        "            $myPB.progressbar('value', 273);\n",
        "        } else {\n",
        "            $myPB.progressbar({value: 0, max: 2029});\n",
        "        }\n",
        "        "
       ],
       "metadata": {},
       "output_type": "display_data",
       "text": [
        "<IPython.core.display.Javascript at 0x1ae35a58>"
       ]
      },
      {
       "javascript": [
        "$('div#f1a3f1f1-0f96-4c96-aab1-c5bab8936b6b').text('ETA:  0:00:00');"
       ],
       "metadata": {},
       "output_type": "display_data",
       "text": [
        "<IPython.core.display.Javascript at 0x1f93fa58>"
       ]
      },
      {
       "javascript": [
        "$('div#d2780b3d-c244-46cc-8691-4d109a739e44').text('294 of 2029');"
       ],
       "metadata": {},
       "output_type": "display_data",
       "text": [
        "<IPython.core.display.Javascript at 0x1f93f780>"
       ]
      },
      {
       "javascript": [
        "$('div#85cb4a61-cb5d-450d-9fa1-ced438c2c79f').text(' 14%');"
       ],
       "metadata": {},
       "output_type": "display_data",
       "text": [
        "<IPython.core.display.Javascript at 0x1ae35128>"
       ]
      },
      {
       "javascript": [
        "\n",
        "        var $myPB = $(\"div#2b5f16b0-603c-4114-8dbb-b10a6873281d\")\n",
        "        if ($myPB.hasClass('ui-progressbar')) {\n",
        "            $myPB.progressbar('value', 294);\n",
        "        } else {\n",
        "            $myPB.progressbar({value: 0, max: 2029});\n",
        "        }\n",
        "        "
       ],
       "metadata": {},
       "output_type": "display_data",
       "text": [
        "<IPython.core.display.Javascript at 0x1ae35080>"
       ]
      },
      {
       "javascript": [
        "$('div#f1a3f1f1-0f96-4c96-aab1-c5bab8936b6b').text('ETA:  0:00:00');"
       ],
       "metadata": {},
       "output_type": "display_data",
       "text": [
        "<IPython.core.display.Javascript at 0x1f93fa58>"
       ]
      },
      {
       "javascript": [
        "$('div#d2780b3d-c244-46cc-8691-4d109a739e44').text('315 of 2029');"
       ],
       "metadata": {},
       "output_type": "display_data",
       "text": [
        "<IPython.core.display.Javascript at 0x1f93f780>"
       ]
      },
      {
       "javascript": [
        "$('div#85cb4a61-cb5d-450d-9fa1-ced438c2c79f').text(' 15%');"
       ],
       "metadata": {},
       "output_type": "display_data",
       "text": [
        "<IPython.core.display.Javascript at 0x1ae353c8>"
       ]
      },
      {
       "javascript": [
        "\n",
        "        var $myPB = $(\"div#2b5f16b0-603c-4114-8dbb-b10a6873281d\")\n",
        "        if ($myPB.hasClass('ui-progressbar')) {\n",
        "            $myPB.progressbar('value', 315);\n",
        "        } else {\n",
        "            $myPB.progressbar({value: 0, max: 2029});\n",
        "        }\n",
        "        "
       ],
       "metadata": {},
       "output_type": "display_data",
       "text": [
        "<IPython.core.display.Javascript at 0x1f93f780>"
       ]
      },
      {
       "javascript": [
        "$('div#f1a3f1f1-0f96-4c96-aab1-c5bab8936b6b').text('ETA:  0:00:00');"
       ],
       "metadata": {},
       "output_type": "display_data",
       "text": [
        "<IPython.core.display.Javascript at 0x1f93fa58>"
       ]
      },
      {
       "javascript": [
        "$('div#d2780b3d-c244-46cc-8691-4d109a739e44').text('336 of 2029');"
       ],
       "metadata": {},
       "output_type": "display_data",
       "text": [
        "<IPython.core.display.Javascript at 0x1ae35128>"
       ]
      },
      {
       "javascript": [
        "$('div#85cb4a61-cb5d-450d-9fa1-ced438c2c79f').text(' 16%');"
       ],
       "metadata": {},
       "output_type": "display_data",
       "text": [
        "<IPython.core.display.Javascript at 0x1f93fa58>"
       ]
      },
      {
       "javascript": [
        "\n",
        "        var $myPB = $(\"div#2b5f16b0-603c-4114-8dbb-b10a6873281d\")\n",
        "        if ($myPB.hasClass('ui-progressbar')) {\n",
        "            $myPB.progressbar('value', 336);\n",
        "        } else {\n",
        "            $myPB.progressbar({value: 0, max: 2029});\n",
        "        }\n",
        "        "
       ],
       "metadata": {},
       "output_type": "display_data",
       "text": [
        "<IPython.core.display.Javascript at 0x1f93f780>"
       ]
      },
      {
       "javascript": [
        "$('div#f1a3f1f1-0f96-4c96-aab1-c5bab8936b6b').text('ETA:  0:00:00');"
       ],
       "metadata": {},
       "output_type": "display_data",
       "text": [
        "<IPython.core.display.Javascript at 0x1ae353c8>"
       ]
      },
      {
       "javascript": [
        "$('div#d2780b3d-c244-46cc-8691-4d109a739e44').text('357 of 2029');"
       ],
       "metadata": {},
       "output_type": "display_data",
       "text": [
        "<IPython.core.display.Javascript at 0x1ae35128>"
       ]
      },
      {
       "javascript": [
        "$('div#85cb4a61-cb5d-450d-9fa1-ced438c2c79f').text(' 17%');"
       ],
       "metadata": {},
       "output_type": "display_data",
       "text": [
        "<IPython.core.display.Javascript at 0x1f93f780>"
       ]
      },
      {
       "javascript": [
        "\n",
        "        var $myPB = $(\"div#2b5f16b0-603c-4114-8dbb-b10a6873281d\")\n",
        "        if ($myPB.hasClass('ui-progressbar')) {\n",
        "            $myPB.progressbar('value', 357);\n",
        "        } else {\n",
        "            $myPB.progressbar({value: 0, max: 2029});\n",
        "        }\n",
        "        "
       ],
       "metadata": {},
       "output_type": "display_data",
       "text": [
        "<IPython.core.display.Javascript at 0x1f93fa58>"
       ]
      },
      {
       "javascript": [
        "$('div#f1a3f1f1-0f96-4c96-aab1-c5bab8936b6b').text('ETA:  0:00:00');"
       ],
       "metadata": {},
       "output_type": "display_data",
       "text": [
        "<IPython.core.display.Javascript at 0x1ae35080>"
       ]
      },
      {
       "javascript": [
        "$('div#d2780b3d-c244-46cc-8691-4d109a739e44').text('378 of 2029');"
       ],
       "metadata": {},
       "output_type": "display_data",
       "text": [
        "<IPython.core.display.Javascript at 0x1ae35128>"
       ]
      },
      {
       "javascript": [
        "$('div#85cb4a61-cb5d-450d-9fa1-ced438c2c79f').text(' 18%');"
       ],
       "metadata": {},
       "output_type": "display_data",
       "text": [
        "<IPython.core.display.Javascript at 0x1ae353c8>"
       ]
      },
      {
       "javascript": [
        "\n",
        "        var $myPB = $(\"div#2b5f16b0-603c-4114-8dbb-b10a6873281d\")\n",
        "        if ($myPB.hasClass('ui-progressbar')) {\n",
        "            $myPB.progressbar('value', 378);\n",
        "        } else {\n",
        "            $myPB.progressbar({value: 0, max: 2029});\n",
        "        }\n",
        "        "
       ],
       "metadata": {},
       "output_type": "display_data",
       "text": [
        "<IPython.core.display.Javascript at 0x1ae35a58>"
       ]
      },
      {
       "javascript": [
        "$('div#f1a3f1f1-0f96-4c96-aab1-c5bab8936b6b').text('ETA:  0:00:00');"
       ],
       "metadata": {},
       "output_type": "display_data",
       "text": [
        "<IPython.core.display.Javascript at 0x1ae350f0>"
       ]
      },
      {
       "javascript": [
        "$('div#d2780b3d-c244-46cc-8691-4d109a739e44').text('399 of 2029');"
       ],
       "metadata": {},
       "output_type": "display_data",
       "text": [
        "<IPython.core.display.Javascript at 0x1ae350f0>"
       ]
      },
      {
       "javascript": [
        "$('div#85cb4a61-cb5d-450d-9fa1-ced438c2c79f').text(' 19%');"
       ],
       "metadata": {},
       "output_type": "display_data",
       "text": [
        "<IPython.core.display.Javascript at 0x1ae35080>"
       ]
      },
      {
       "javascript": [
        "\n",
        "        var $myPB = $(\"div#2b5f16b0-603c-4114-8dbb-b10a6873281d\")\n",
        "        if ($myPB.hasClass('ui-progressbar')) {\n",
        "            $myPB.progressbar('value', 399);\n",
        "        } else {\n",
        "            $myPB.progressbar({value: 0, max: 2029});\n",
        "        }\n",
        "        "
       ],
       "metadata": {},
       "output_type": "display_data",
       "text": [
        "<IPython.core.display.Javascript at 0x1ae35a58>"
       ]
      },
      {
       "javascript": [
        "$('div#f1a3f1f1-0f96-4c96-aab1-c5bab8936b6b').text('ETA:  0:00:00');"
       ],
       "metadata": {},
       "output_type": "display_data",
       "text": [
        "<IPython.core.display.Javascript at 0x1ae35128>"
       ]
      },
      {
       "javascript": [
        "$('div#d2780b3d-c244-46cc-8691-4d109a739e44').text('420 of 2029');"
       ],
       "metadata": {},
       "output_type": "display_data",
       "text": [
        "<IPython.core.display.Javascript at 0x1ae35128>"
       ]
      },
      {
       "javascript": [
        "$('div#85cb4a61-cb5d-450d-9fa1-ced438c2c79f').text(' 20%');"
       ],
       "metadata": {},
       "output_type": "display_data",
       "text": [
        "<IPython.core.display.Javascript at 0x1ae353c8>"
       ]
      },
      {
       "javascript": [
        "\n",
        "        var $myPB = $(\"div#2b5f16b0-603c-4114-8dbb-b10a6873281d\")\n",
        "        if ($myPB.hasClass('ui-progressbar')) {\n",
        "            $myPB.progressbar('value', 420);\n",
        "        } else {\n",
        "            $myPB.progressbar({value: 0, max: 2029});\n",
        "        }\n",
        "        "
       ],
       "metadata": {},
       "output_type": "display_data",
       "text": [
        "<IPython.core.display.Javascript at 0x1ae35080>"
       ]
      },
      {
       "javascript": [
        "$('div#f1a3f1f1-0f96-4c96-aab1-c5bab8936b6b').text('ETA:  0:00:00');"
       ],
       "metadata": {},
       "output_type": "display_data",
       "text": [
        "<IPython.core.display.Javascript at 0x1ae35080>"
       ]
      },
      {
       "javascript": [
        "$('div#d2780b3d-c244-46cc-8691-4d109a739e44').text('441 of 2029');"
       ],
       "metadata": {},
       "output_type": "display_data",
       "text": [
        "<IPython.core.display.Javascript at 0x1ae350f0>"
       ]
      },
      {
       "javascript": [
        "$('div#85cb4a61-cb5d-450d-9fa1-ced438c2c79f').text(' 21%');"
       ],
       "metadata": {},
       "output_type": "display_data",
       "text": [
        "<IPython.core.display.Javascript at 0x1ae353c8>"
       ]
      },
      {
       "javascript": [
        "\n",
        "        var $myPB = $(\"div#2b5f16b0-603c-4114-8dbb-b10a6873281d\")\n",
        "        if ($myPB.hasClass('ui-progressbar')) {\n",
        "            $myPB.progressbar('value', 441);\n",
        "        } else {\n",
        "            $myPB.progressbar({value: 0, max: 2029});\n",
        "        }\n",
        "        "
       ],
       "metadata": {},
       "output_type": "display_data",
       "text": [
        "<IPython.core.display.Javascript at 0x1ae35a58>"
       ]
      },
      {
       "javascript": [
        "$('div#f1a3f1f1-0f96-4c96-aab1-c5bab8936b6b').text('ETA:  0:00:00');"
       ],
       "metadata": {},
       "output_type": "display_data",
       "text": [
        "<IPython.core.display.Javascript at 0x1ae35a58>"
       ]
      },
      {
       "javascript": [
        "$('div#d2780b3d-c244-46cc-8691-4d109a739e44').text('462 of 2029');"
       ],
       "metadata": {},
       "output_type": "display_data",
       "text": [
        "<IPython.core.display.Javascript at 0x1ae35128>"
       ]
      },
      {
       "javascript": [
        "$('div#85cb4a61-cb5d-450d-9fa1-ced438c2c79f').text(' 22%');"
       ],
       "metadata": {},
       "output_type": "display_data",
       "text": [
        "<IPython.core.display.Javascript at 0x1ae353c8>"
       ]
      },
      {
       "javascript": [
        "\n",
        "        var $myPB = $(\"div#2b5f16b0-603c-4114-8dbb-b10a6873281d\")\n",
        "        if ($myPB.hasClass('ui-progressbar')) {\n",
        "            $myPB.progressbar('value', 462);\n",
        "        } else {\n",
        "            $myPB.progressbar({value: 0, max: 2029});\n",
        "        }\n",
        "        "
       ],
       "metadata": {},
       "output_type": "display_data",
       "text": [
        "<IPython.core.display.Javascript at 0x1ae353c8>"
       ]
      },
      {
       "javascript": [
        "$('div#f1a3f1f1-0f96-4c96-aab1-c5bab8936b6b').text('ETA:  0:00:00');"
       ],
       "metadata": {},
       "output_type": "display_data",
       "text": [
        "<IPython.core.display.Javascript at 0x1ae350f0>"
       ]
      },
      {
       "javascript": [
        "$('div#d2780b3d-c244-46cc-8691-4d109a739e44').text('483 of 2029');"
       ],
       "metadata": {},
       "output_type": "display_data",
       "text": [
        "<IPython.core.display.Javascript at 0x1f93f780>"
       ]
      },
      {
       "javascript": [
        "$('div#85cb4a61-cb5d-450d-9fa1-ced438c2c79f').text(' 23%');"
       ],
       "metadata": {},
       "output_type": "display_data",
       "text": [
        "<IPython.core.display.Javascript at 0x1f93fa58>"
       ]
      },
      {
       "javascript": [
        "\n",
        "        var $myPB = $(\"div#2b5f16b0-603c-4114-8dbb-b10a6873281d\")\n",
        "        if ($myPB.hasClass('ui-progressbar')) {\n",
        "            $myPB.progressbar('value', 483);\n",
        "        } else {\n",
        "            $myPB.progressbar({value: 0, max: 2029});\n",
        "        }\n",
        "        "
       ],
       "metadata": {},
       "output_type": "display_data",
       "text": [
        "<IPython.core.display.Javascript at 0x1f93fa58>"
       ]
      },
      {
       "javascript": [
        "$('div#f1a3f1f1-0f96-4c96-aab1-c5bab8936b6b').text('ETA:  0:00:00');"
       ],
       "metadata": {},
       "output_type": "display_data",
       "text": [
        "<IPython.core.display.Javascript at 0x1f93f780>"
       ]
      },
      {
       "javascript": [
        "$('div#d2780b3d-c244-46cc-8691-4d109a739e44').text('504 of 2029');"
       ],
       "metadata": {},
       "output_type": "display_data",
       "text": [
        "<IPython.core.display.Javascript at 0x1ae35a58>"
       ]
      },
      {
       "javascript": [
        "$('div#85cb4a61-cb5d-450d-9fa1-ced438c2c79f').text(' 24%');"
       ],
       "metadata": {},
       "output_type": "display_data",
       "text": [
        "<IPython.core.display.Javascript at 0x1f93f780>"
       ]
      },
      {
       "javascript": [
        "\n",
        "        var $myPB = $(\"div#2b5f16b0-603c-4114-8dbb-b10a6873281d\")\n",
        "        if ($myPB.hasClass('ui-progressbar')) {\n",
        "            $myPB.progressbar('value', 504);\n",
        "        } else {\n",
        "            $myPB.progressbar({value: 0, max: 2029});\n",
        "        }\n",
        "        "
       ],
       "metadata": {},
       "output_type": "display_data",
       "text": [
        "<IPython.core.display.Javascript at 0x1f93fa58>"
       ]
      },
      {
       "javascript": [
        "$('div#f1a3f1f1-0f96-4c96-aab1-c5bab8936b6b').text('ETA:  0:00:00');"
       ],
       "metadata": {},
       "output_type": "display_data",
       "text": [
        "<IPython.core.display.Javascript at 0x1ae35128>"
       ]
      },
      {
       "javascript": [
        "$('div#d2780b3d-c244-46cc-8691-4d109a739e44').text('525 of 2029');"
       ],
       "metadata": {},
       "output_type": "display_data",
       "text": [
        "<IPython.core.display.Javascript at 0x1ae35a58>"
       ]
      },
      {
       "javascript": [
        "$('div#85cb4a61-cb5d-450d-9fa1-ced438c2c79f').text(' 25%');"
       ],
       "metadata": {},
       "output_type": "display_data",
       "text": [
        "<IPython.core.display.Javascript at 0x1f93fa58>"
       ]
      },
      {
       "javascript": [
        "\n",
        "        var $myPB = $(\"div#2b5f16b0-603c-4114-8dbb-b10a6873281d\")\n",
        "        if ($myPB.hasClass('ui-progressbar')) {\n",
        "            $myPB.progressbar('value', 525);\n",
        "        } else {\n",
        "            $myPB.progressbar({value: 0, max: 2029});\n",
        "        }\n",
        "        "
       ],
       "metadata": {},
       "output_type": "display_data",
       "text": [
        "<IPython.core.display.Javascript at 0x1f93f780>"
       ]
      },
      {
       "javascript": [
        "$('div#f1a3f1f1-0f96-4c96-aab1-c5bab8936b6b').text('ETA:  0:00:00');"
       ],
       "metadata": {},
       "output_type": "display_data",
       "text": [
        "<IPython.core.display.Javascript at 0x1ae35080>"
       ]
      },
      {
       "javascript": [
        "$('div#d2780b3d-c244-46cc-8691-4d109a739e44').text('546 of 2029');"
       ],
       "metadata": {},
       "output_type": "display_data",
       "text": [
        "<IPython.core.display.Javascript at 0x1ae35a58>"
       ]
      },
      {
       "javascript": [
        "$('div#85cb4a61-cb5d-450d-9fa1-ced438c2c79f').text(' 26%');"
       ],
       "metadata": {},
       "output_type": "display_data",
       "text": [
        "<IPython.core.display.Javascript at 0x1ae35128>"
       ]
      },
      {
       "javascript": [
        "\n",
        "        var $myPB = $(\"div#2b5f16b0-603c-4114-8dbb-b10a6873281d\")\n",
        "        if ($myPB.hasClass('ui-progressbar')) {\n",
        "            $myPB.progressbar('value', 546);\n",
        "        } else {\n",
        "            $myPB.progressbar({value: 0, max: 2029});\n",
        "        }\n",
        "        "
       ],
       "metadata": {},
       "output_type": "display_data",
       "text": [
        "<IPython.core.display.Javascript at 0x1ae353c8>"
       ]
      },
      {
       "javascript": [
        "$('div#f1a3f1f1-0f96-4c96-aab1-c5bab8936b6b').text('ETA:  0:00:00');"
       ],
       "metadata": {},
       "output_type": "display_data",
       "text": [
        "<IPython.core.display.Javascript at 0x1ae350f0>"
       ]
      },
      {
       "javascript": [
        "$('div#d2780b3d-c244-46cc-8691-4d109a739e44').text('567 of 2029');"
       ],
       "metadata": {},
       "output_type": "display_data",
       "text": [
        "<IPython.core.display.Javascript at 0x1f93fa58>"
       ]
      },
      {
       "javascript": [
        "$('div#85cb4a61-cb5d-450d-9fa1-ced438c2c79f').text(' 27%');"
       ],
       "metadata": {},
       "output_type": "display_data",
       "text": [
        "<IPython.core.display.Javascript at 0x1f93f780>"
       ]
      },
      {
       "javascript": [
        "\n",
        "        var $myPB = $(\"div#2b5f16b0-603c-4114-8dbb-b10a6873281d\")\n",
        "        if ($myPB.hasClass('ui-progressbar')) {\n",
        "            $myPB.progressbar('value', 567);\n",
        "        } else {\n",
        "            $myPB.progressbar({value: 0, max: 2029});\n",
        "        }\n",
        "        "
       ],
       "metadata": {},
       "output_type": "display_data",
       "text": [
        "<IPython.core.display.Javascript at 0x1ae35080>"
       ]
      },
      {
       "javascript": [
        "$('div#f1a3f1f1-0f96-4c96-aab1-c5bab8936b6b').text('ETA:  0:00:00');"
       ],
       "metadata": {},
       "output_type": "display_data",
       "text": [
        "<IPython.core.display.Javascript at 0x1ae353c8>"
       ]
      },
      {
       "javascript": [
        "$('div#d2780b3d-c244-46cc-8691-4d109a739e44').text('588 of 2029');"
       ],
       "metadata": {},
       "output_type": "display_data",
       "text": [
        "<IPython.core.display.Javascript at 0x1f93f780>"
       ]
      },
      {
       "javascript": [
        "$('div#85cb4a61-cb5d-450d-9fa1-ced438c2c79f').text(' 28%');"
       ],
       "metadata": {},
       "output_type": "display_data",
       "text": [
        "<IPython.core.display.Javascript at 0x1f93fa58>"
       ]
      },
      {
       "javascript": [
        "\n",
        "        var $myPB = $(\"div#2b5f16b0-603c-4114-8dbb-b10a6873281d\")\n",
        "        if ($myPB.hasClass('ui-progressbar')) {\n",
        "            $myPB.progressbar('value', 588);\n",
        "        } else {\n",
        "            $myPB.progressbar({value: 0, max: 2029});\n",
        "        }\n",
        "        "
       ],
       "metadata": {},
       "output_type": "display_data",
       "text": [
        "<IPython.core.display.Javascript at 0x1ae350f0>"
       ]
      },
      {
       "javascript": [
        "$('div#f1a3f1f1-0f96-4c96-aab1-c5bab8936b6b').text('ETA:  0:00:00');"
       ],
       "metadata": {},
       "output_type": "display_data",
       "text": [
        "<IPython.core.display.Javascript at 0x1f93fa58>"
       ]
      },
      {
       "javascript": [
        "$('div#d2780b3d-c244-46cc-8691-4d109a739e44').text('609 of 2029');"
       ],
       "metadata": {},
       "output_type": "display_data",
       "text": [
        "<IPython.core.display.Javascript at 0x1f93f780>"
       ]
      },
      {
       "javascript": [
        "$('div#85cb4a61-cb5d-450d-9fa1-ced438c2c79f').text(' 30%');"
       ],
       "metadata": {},
       "output_type": "display_data",
       "text": [
        "<IPython.core.display.Javascript at 0x1ae35a58>"
       ]
      },
      {
       "javascript": [
        "\n",
        "        var $myPB = $(\"div#2b5f16b0-603c-4114-8dbb-b10a6873281d\")\n",
        "        if ($myPB.hasClass('ui-progressbar')) {\n",
        "            $myPB.progressbar('value', 609);\n",
        "        } else {\n",
        "            $myPB.progressbar({value: 0, max: 2029});\n",
        "        }\n",
        "        "
       ],
       "metadata": {},
       "output_type": "display_data",
       "text": [
        "<IPython.core.display.Javascript at 0x1ae35128>"
       ]
      },
      {
       "javascript": [
        "$('div#f1a3f1f1-0f96-4c96-aab1-c5bab8936b6b').text('ETA:  0:00:00');"
       ],
       "metadata": {},
       "output_type": "display_data",
       "text": [
        "<IPython.core.display.Javascript at 0x1f93fa58>"
       ]
      },
      {
       "javascript": [
        "$('div#d2780b3d-c244-46cc-8691-4d109a739e44').text('630 of 2029');"
       ],
       "metadata": {},
       "output_type": "display_data",
       "text": [
        "<IPython.core.display.Javascript at 0x1f93f780>"
       ]
      },
      {
       "javascript": [
        "$('div#85cb4a61-cb5d-450d-9fa1-ced438c2c79f').text(' 31%');"
       ],
       "metadata": {},
       "output_type": "display_data",
       "text": [
        "<IPython.core.display.Javascript at 0x1ae350f0>"
       ]
      },
      {
       "javascript": [
        "\n",
        "        var $myPB = $(\"div#2b5f16b0-603c-4114-8dbb-b10a6873281d\")\n",
        "        if ($myPB.hasClass('ui-progressbar')) {\n",
        "            $myPB.progressbar('value', 630);\n",
        "        } else {\n",
        "            $myPB.progressbar({value: 0, max: 2029});\n",
        "        }\n",
        "        "
       ],
       "metadata": {},
       "output_type": "display_data",
       "text": [
        "<IPython.core.display.Javascript at 0x1f93f780>"
       ]
      },
      {
       "javascript": [
        "$('div#f1a3f1f1-0f96-4c96-aab1-c5bab8936b6b').text('ETA:  0:00:00');"
       ],
       "metadata": {},
       "output_type": "display_data",
       "text": [
        "<IPython.core.display.Javascript at 0x1f93fa58>"
       ]
      },
      {
       "javascript": [
        "$('div#d2780b3d-c244-46cc-8691-4d109a739e44').text('651 of 2029');"
       ],
       "metadata": {},
       "output_type": "display_data",
       "text": [
        "<IPython.core.display.Javascript at 0x1ae35a58>"
       ]
      },
      {
       "javascript": [
        "$('div#85cb4a61-cb5d-450d-9fa1-ced438c2c79f').text(' 32%');"
       ],
       "metadata": {},
       "output_type": "display_data",
       "text": [
        "<IPython.core.display.Javascript at 0x1ae350f0>"
       ]
      },
      {
       "javascript": [
        "\n",
        "        var $myPB = $(\"div#2b5f16b0-603c-4114-8dbb-b10a6873281d\")\n",
        "        if ($myPB.hasClass('ui-progressbar')) {\n",
        "            $myPB.progressbar('value', 651);\n",
        "        } else {\n",
        "            $myPB.progressbar({value: 0, max: 2029});\n",
        "        }\n",
        "        "
       ],
       "metadata": {},
       "output_type": "display_data",
       "text": [
        "<IPython.core.display.Javascript at 0x1f93f780>"
       ]
      },
      {
       "javascript": [
        "$('div#f1a3f1f1-0f96-4c96-aab1-c5bab8936b6b').text('ETA:  0:00:00');"
       ],
       "metadata": {},
       "output_type": "display_data",
       "text": [
        "<IPython.core.display.Javascript at 0x1f93fa58>"
       ]
      },
      {
       "javascript": [
        "$('div#d2780b3d-c244-46cc-8691-4d109a739e44').text('672 of 2029');"
       ],
       "metadata": {},
       "output_type": "display_data",
       "text": [
        "<IPython.core.display.Javascript at 0x1ae35128>"
       ]
      },
      {
       "javascript": [
        "$('div#85cb4a61-cb5d-450d-9fa1-ced438c2c79f').text(' 33%');"
       ],
       "metadata": {},
       "output_type": "display_data",
       "text": [
        "<IPython.core.display.Javascript at 0x1f93fa58>"
       ]
      },
      {
       "javascript": [
        "\n",
        "        var $myPB = $(\"div#2b5f16b0-603c-4114-8dbb-b10a6873281d\")\n",
        "        if ($myPB.hasClass('ui-progressbar')) {\n",
        "            $myPB.progressbar('value', 672);\n",
        "        } else {\n",
        "            $myPB.progressbar({value: 0, max: 2029});\n",
        "        }\n",
        "        "
       ],
       "metadata": {},
       "output_type": "display_data",
       "text": [
        "<IPython.core.display.Javascript at 0x1f93f780>"
       ]
      },
      {
       "javascript": [
        "$('div#f1a3f1f1-0f96-4c96-aab1-c5bab8936b6b').text('ETA:  0:00:00');"
       ],
       "metadata": {},
       "output_type": "display_data",
       "text": [
        "<IPython.core.display.Javascript at 0x1ae350f0>"
       ]
      },
      {
       "javascript": [
        "$('div#d2780b3d-c244-46cc-8691-4d109a739e44').text('693 of 2029');"
       ],
       "metadata": {},
       "output_type": "display_data",
       "text": [
        "<IPython.core.display.Javascript at 0x1ae35128>"
       ]
      },
      {
       "javascript": [
        "$('div#85cb4a61-cb5d-450d-9fa1-ced438c2c79f').text(' 34%');"
       ],
       "metadata": {},
       "output_type": "display_data",
       "text": [
        "<IPython.core.display.Javascript at 0x1f93fa58>"
       ]
      },
      {
       "javascript": [
        "\n",
        "        var $myPB = $(\"div#2b5f16b0-603c-4114-8dbb-b10a6873281d\")\n",
        "        if ($myPB.hasClass('ui-progressbar')) {\n",
        "            $myPB.progressbar('value', 693);\n",
        "        } else {\n",
        "            $myPB.progressbar({value: 0, max: 2029});\n",
        "        }\n",
        "        "
       ],
       "metadata": {},
       "output_type": "display_data",
       "text": [
        "<IPython.core.display.Javascript at 0x1f93f780>"
       ]
      },
      {
       "javascript": [
        "$('div#f1a3f1f1-0f96-4c96-aab1-c5bab8936b6b').text('ETA:  0:00:00');"
       ],
       "metadata": {},
       "output_type": "display_data",
       "text": [
        "<IPython.core.display.Javascript at 0x1ae35080>"
       ]
      },
      {
       "javascript": [
        "$('div#d2780b3d-c244-46cc-8691-4d109a739e44').text('714 of 2029');"
       ],
       "metadata": {},
       "output_type": "display_data",
       "text": [
        "<IPython.core.display.Javascript at 0x1ae35128>"
       ]
      },
      {
       "javascript": [
        "$('div#85cb4a61-cb5d-450d-9fa1-ced438c2c79f').text(' 35%');"
       ],
       "metadata": {},
       "output_type": "display_data",
       "text": [
        "<IPython.core.display.Javascript at 0x1ae350f0>"
       ]
      },
      {
       "javascript": [
        "\n",
        "        var $myPB = $(\"div#2b5f16b0-603c-4114-8dbb-b10a6873281d\")\n",
        "        if ($myPB.hasClass('ui-progressbar')) {\n",
        "            $myPB.progressbar('value', 714);\n",
        "        } else {\n",
        "            $myPB.progressbar({value: 0, max: 2029});\n",
        "        }\n",
        "        "
       ],
       "metadata": {},
       "output_type": "display_data",
       "text": [
        "<IPython.core.display.Javascript at 0x1ae35080>"
       ]
      },
      {
       "javascript": [
        "$('div#f1a3f1f1-0f96-4c96-aab1-c5bab8936b6b').text('ETA:  0:00:00');"
       ],
       "metadata": {},
       "output_type": "display_data",
       "text": [
        "<IPython.core.display.Javascript at 0x1ae35a58>"
       ]
      },
      {
       "javascript": [
        "$('div#d2780b3d-c244-46cc-8691-4d109a739e44').text('735 of 2029');"
       ],
       "metadata": {},
       "output_type": "display_data",
       "text": [
        "<IPython.core.display.Javascript at 0x1ae35a58>"
       ]
      },
      {
       "javascript": [
        "$('div#85cb4a61-cb5d-450d-9fa1-ced438c2c79f').text(' 36%');"
       ],
       "metadata": {},
       "output_type": "display_data",
       "text": [
        "<IPython.core.display.Javascript at 0x1ae353c8>"
       ]
      },
      {
       "javascript": [
        "\n",
        "        var $myPB = $(\"div#2b5f16b0-603c-4114-8dbb-b10a6873281d\")\n",
        "        if ($myPB.hasClass('ui-progressbar')) {\n",
        "            $myPB.progressbar('value', 735);\n",
        "        } else {\n",
        "            $myPB.progressbar({value: 0, max: 2029});\n",
        "        }\n",
        "        "
       ],
       "metadata": {},
       "output_type": "display_data",
       "text": [
        "<IPython.core.display.Javascript at 0x1ae35128>"
       ]
      },
      {
       "javascript": [
        "$('div#f1a3f1f1-0f96-4c96-aab1-c5bab8936b6b').text('ETA:  0:00:00');"
       ],
       "metadata": {},
       "output_type": "display_data",
       "text": [
        "<IPython.core.display.Javascript at 0x1ae350f0>"
       ]
      },
      {
       "javascript": [
        "$('div#d2780b3d-c244-46cc-8691-4d109a739e44').text('756 of 2029');"
       ],
       "metadata": {},
       "output_type": "display_data",
       "text": [
        "<IPython.core.display.Javascript at 0x1f93f780>"
       ]
      },
      {
       "javascript": [
        "$('div#85cb4a61-cb5d-450d-9fa1-ced438c2c79f').text(' 37%');"
       ],
       "metadata": {},
       "output_type": "display_data",
       "text": [
        "<IPython.core.display.Javascript at 0x1f93fa58>"
       ]
      },
      {
       "javascript": [
        "\n",
        "        var $myPB = $(\"div#2b5f16b0-603c-4114-8dbb-b10a6873281d\")\n",
        "        if ($myPB.hasClass('ui-progressbar')) {\n",
        "            $myPB.progressbar('value', 756);\n",
        "        } else {\n",
        "            $myPB.progressbar({value: 0, max: 2029});\n",
        "        }\n",
        "        "
       ],
       "metadata": {},
       "output_type": "display_data",
       "text": [
        "<IPython.core.display.Javascript at 0x1ae35080>"
       ]
      },
      {
       "javascript": [
        "$('div#f1a3f1f1-0f96-4c96-aab1-c5bab8936b6b').text('ETA:  0:00:00');"
       ],
       "metadata": {},
       "output_type": "display_data",
       "text": [
        "<IPython.core.display.Javascript at 0x1f93fa58>"
       ]
      },
      {
       "javascript": [
        "$('div#d2780b3d-c244-46cc-8691-4d109a739e44').text('777 of 2029');"
       ],
       "metadata": {},
       "output_type": "display_data",
       "text": [
        "<IPython.core.display.Javascript at 0x1f93f780>"
       ]
      },
      {
       "javascript": [
        "$('div#85cb4a61-cb5d-450d-9fa1-ced438c2c79f').text(' 38%');"
       ],
       "metadata": {},
       "output_type": "display_data",
       "text": [
        "<IPython.core.display.Javascript at 0x1ae350f0>"
       ]
      },
      {
       "javascript": [
        "\n",
        "        var $myPB = $(\"div#2b5f16b0-603c-4114-8dbb-b10a6873281d\")\n",
        "        if ($myPB.hasClass('ui-progressbar')) {\n",
        "            $myPB.progressbar('value', 777);\n",
        "        } else {\n",
        "            $myPB.progressbar({value: 0, max: 2029});\n",
        "        }\n",
        "        "
       ],
       "metadata": {},
       "output_type": "display_data",
       "text": [
        "<IPython.core.display.Javascript at 0x1ae35080>"
       ]
      },
      {
       "javascript": [
        "$('div#f1a3f1f1-0f96-4c96-aab1-c5bab8936b6b').text('ETA:  0:00:00');"
       ],
       "metadata": {},
       "output_type": "display_data",
       "text": [
        "<IPython.core.display.Javascript at 0x1f93fa58>"
       ]
      },
      {
       "javascript": [
        "$('div#d2780b3d-c244-46cc-8691-4d109a739e44').text('798 of 2029');"
       ],
       "metadata": {},
       "output_type": "display_data",
       "text": [
        "<IPython.core.display.Javascript at 0x1f93f780>"
       ]
      },
      {
       "javascript": [
        "$('div#85cb4a61-cb5d-450d-9fa1-ced438c2c79f').text(' 39%');"
       ],
       "metadata": {},
       "output_type": "display_data",
       "text": [
        "<IPython.core.display.Javascript at 0x1ae35128>"
       ]
      },
      {
       "javascript": [
        "\n",
        "        var $myPB = $(\"div#2b5f16b0-603c-4114-8dbb-b10a6873281d\")\n",
        "        if ($myPB.hasClass('ui-progressbar')) {\n",
        "            $myPB.progressbar('value', 798);\n",
        "        } else {\n",
        "            $myPB.progressbar({value: 0, max: 2029});\n",
        "        }\n",
        "        "
       ],
       "metadata": {},
       "output_type": "display_data",
       "text": [
        "<IPython.core.display.Javascript at 0x1f93f780>"
       ]
      },
      {
       "javascript": [
        "$('div#f1a3f1f1-0f96-4c96-aab1-c5bab8936b6b').text('ETA:  0:00:00');"
       ],
       "metadata": {},
       "output_type": "display_data",
       "text": [
        "<IPython.core.display.Javascript at 0x1f93fa58>"
       ]
      },
      {
       "javascript": [
        "$('div#d2780b3d-c244-46cc-8691-4d109a739e44').text('819 of 2029');"
       ],
       "metadata": {},
       "output_type": "display_data",
       "text": [
        "<IPython.core.display.Javascript at 0x1ae353c8>"
       ]
      },
      {
       "javascript": [
        "$('div#85cb4a61-cb5d-450d-9fa1-ced438c2c79f').text(' 40%');"
       ],
       "metadata": {},
       "output_type": "display_data",
       "text": [
        "<IPython.core.display.Javascript at 0x1f93fa58>"
       ]
      },
      {
       "javascript": [
        "\n",
        "        var $myPB = $(\"div#2b5f16b0-603c-4114-8dbb-b10a6873281d\")\n",
        "        if ($myPB.hasClass('ui-progressbar')) {\n",
        "            $myPB.progressbar('value', 819);\n",
        "        } else {\n",
        "            $myPB.progressbar({value: 0, max: 2029});\n",
        "        }\n",
        "        "
       ],
       "metadata": {},
       "output_type": "display_data",
       "text": [
        "<IPython.core.display.Javascript at 0x1f93f780>"
       ]
      },
      {
       "javascript": [
        "$('div#f1a3f1f1-0f96-4c96-aab1-c5bab8936b6b').text('ETA:  0:00:00');"
       ],
       "metadata": {},
       "output_type": "display_data",
       "text": [
        "<IPython.core.display.Javascript at 0x1ae35128>"
       ]
      },
      {
       "javascript": [
        "$('div#d2780b3d-c244-46cc-8691-4d109a739e44').text('840 of 2029');"
       ],
       "metadata": {},
       "output_type": "display_data",
       "text": [
        "<IPython.core.display.Javascript at 0x1ae353c8>"
       ]
      },
      {
       "javascript": [
        "$('div#85cb4a61-cb5d-450d-9fa1-ced438c2c79f').text(' 41%');"
       ],
       "metadata": {},
       "output_type": "display_data",
       "text": [
        "<IPython.core.display.Javascript at 0x1f93f780>"
       ]
      },
      {
       "javascript": [
        "\n",
        "        var $myPB = $(\"div#2b5f16b0-603c-4114-8dbb-b10a6873281d\")\n",
        "        if ($myPB.hasClass('ui-progressbar')) {\n",
        "            $myPB.progressbar('value', 840);\n",
        "        } else {\n",
        "            $myPB.progressbar({value: 0, max: 2029});\n",
        "        }\n",
        "        "
       ],
       "metadata": {},
       "output_type": "display_data",
       "text": [
        "<IPython.core.display.Javascript at 0x1f93fa58>"
       ]
      },
      {
       "javascript": [
        "$('div#f1a3f1f1-0f96-4c96-aab1-c5bab8936b6b').text('ETA:  0:00:00');"
       ],
       "metadata": {},
       "output_type": "display_data",
       "text": [
        "<IPython.core.display.Javascript at 0x1ae35080>"
       ]
      },
      {
       "javascript": [
        "$('div#d2780b3d-c244-46cc-8691-4d109a739e44').text('861 of 2029');"
       ],
       "metadata": {},
       "output_type": "display_data",
       "text": [
        "<IPython.core.display.Javascript at 0x1ae353c8>"
       ]
      },
      {
       "javascript": [
        "$('div#85cb4a61-cb5d-450d-9fa1-ced438c2c79f').text(' 42%');"
       ],
       "metadata": {},
       "output_type": "display_data",
       "text": [
        "<IPython.core.display.Javascript at 0x1ae35128>"
       ]
      },
      {
       "javascript": [
        "\n",
        "        var $myPB = $(\"div#2b5f16b0-603c-4114-8dbb-b10a6873281d\")\n",
        "        if ($myPB.hasClass('ui-progressbar')) {\n",
        "            $myPB.progressbar('value', 861);\n",
        "        } else {\n",
        "            $myPB.progressbar({value: 0, max: 2029});\n",
        "        }\n",
        "        "
       ],
       "metadata": {},
       "output_type": "display_data",
       "text": [
        "<IPython.core.display.Javascript at 0x1ae350f0>"
       ]
      },
      {
       "javascript": [
        "$('div#f1a3f1f1-0f96-4c96-aab1-c5bab8936b6b').text('ETA:  0:00:00');"
       ],
       "metadata": {},
       "output_type": "display_data",
       "text": [
        "<IPython.core.display.Javascript at 0x1ae35a58>"
       ]
      },
      {
       "javascript": [
        "$('div#d2780b3d-c244-46cc-8691-4d109a739e44').text('882 of 2029');"
       ],
       "metadata": {},
       "output_type": "display_data",
       "text": [
        "<IPython.core.display.Javascript at 0x1f93f780>"
       ]
      },
      {
       "javascript": [
        "$('div#85cb4a61-cb5d-450d-9fa1-ced438c2c79f').text(' 43%');"
       ],
       "metadata": {},
       "output_type": "display_data",
       "text": [
        "<IPython.core.display.Javascript at 0x1f93fa58>"
       ]
      },
      {
       "javascript": [
        "\n",
        "        var $myPB = $(\"div#2b5f16b0-603c-4114-8dbb-b10a6873281d\")\n",
        "        if ($myPB.hasClass('ui-progressbar')) {\n",
        "            $myPB.progressbar('value', 882);\n",
        "        } else {\n",
        "            $myPB.progressbar({value: 0, max: 2029});\n",
        "        }\n",
        "        "
       ],
       "metadata": {},
       "output_type": "display_data",
       "text": [
        "<IPython.core.display.Javascript at 0x1ae35a58>"
       ]
      },
      {
       "javascript": [
        "$('div#f1a3f1f1-0f96-4c96-aab1-c5bab8936b6b').text('ETA:  0:00:00');"
       ],
       "metadata": {},
       "output_type": "display_data",
       "text": [
        "<IPython.core.display.Javascript at 0x1ae350f0>"
       ]
      },
      {
       "javascript": [
        "$('div#d2780b3d-c244-46cc-8691-4d109a739e44').text('903 of 2029');"
       ],
       "metadata": {},
       "output_type": "display_data",
       "text": [
        "<IPython.core.display.Javascript at 0x1ae350f0>"
       ]
      },
      {
       "javascript": [
        "$('div#85cb4a61-cb5d-450d-9fa1-ced438c2c79f').text(' 44%');"
       ],
       "metadata": {},
       "output_type": "display_data",
       "text": [
        "<IPython.core.display.Javascript at 0x1ae35080>"
       ]
      },
      {
       "javascript": [
        "\n",
        "        var $myPB = $(\"div#2b5f16b0-603c-4114-8dbb-b10a6873281d\")\n",
        "        if ($myPB.hasClass('ui-progressbar')) {\n",
        "            $myPB.progressbar('value', 903);\n",
        "        } else {\n",
        "            $myPB.progressbar({value: 0, max: 2029});\n",
        "        }\n",
        "        "
       ],
       "metadata": {},
       "output_type": "display_data",
       "text": [
        "<IPython.core.display.Javascript at 0x1ae35a58>"
       ]
      },
      {
       "javascript": [
        "$('div#f1a3f1f1-0f96-4c96-aab1-c5bab8936b6b').text('ETA:  0:00:00');"
       ],
       "metadata": {},
       "output_type": "display_data",
       "text": [
        "<IPython.core.display.Javascript at 0x1ae35a58>"
       ]
      },
      {
       "javascript": [
        "$('div#d2780b3d-c244-46cc-8691-4d109a739e44').text('924 of 2029');"
       ],
       "metadata": {},
       "output_type": "display_data",
       "text": [
        "<IPython.core.display.Javascript at 0x1ae35128>"
       ]
      },
      {
       "javascript": [
        "$('div#85cb4a61-cb5d-450d-9fa1-ced438c2c79f').text(' 45%');"
       ],
       "metadata": {},
       "output_type": "display_data",
       "text": [
        "<IPython.core.display.Javascript at 0x1ae350f0>"
       ]
      },
      {
       "javascript": [
        "\n",
        "        var $myPB = $(\"div#2b5f16b0-603c-4114-8dbb-b10a6873281d\")\n",
        "        if ($myPB.hasClass('ui-progressbar')) {\n",
        "            $myPB.progressbar('value', 924);\n",
        "        } else {\n",
        "            $myPB.progressbar({value: 0, max: 2029});\n",
        "        }\n",
        "        "
       ],
       "metadata": {},
       "output_type": "display_data",
       "text": [
        "<IPython.core.display.Javascript at 0x1ae353c8>"
       ]
      },
      {
       "javascript": [
        "$('div#f1a3f1f1-0f96-4c96-aab1-c5bab8936b6b').text('ETA:  0:00:00');"
       ],
       "metadata": {},
       "output_type": "display_data",
       "text": [
        "<IPython.core.display.Javascript at 0x1ae353c8>"
       ]
      },
      {
       "javascript": [
        "$('div#d2780b3d-c244-46cc-8691-4d109a739e44').text('945 of 2029');"
       ],
       "metadata": {},
       "output_type": "display_data",
       "text": [
        "<IPython.core.display.Javascript at 0x1f93f780>"
       ]
      },
      {
       "javascript": [
        "$('div#85cb4a61-cb5d-450d-9fa1-ced438c2c79f').text(' 46%');"
       ],
       "metadata": {},
       "output_type": "display_data",
       "text": [
        "<IPython.core.display.Javascript at 0x1f93fa58>"
       ]
      },
      {
       "javascript": [
        "\n",
        "        var $myPB = $(\"div#2b5f16b0-603c-4114-8dbb-b10a6873281d\")\n",
        "        if ($myPB.hasClass('ui-progressbar')) {\n",
        "            $myPB.progressbar('value', 945);\n",
        "        } else {\n",
        "            $myPB.progressbar({value: 0, max: 2029});\n",
        "        }\n",
        "        "
       ],
       "metadata": {},
       "output_type": "display_data",
       "text": [
        "<IPython.core.display.Javascript at 0x1f93fa58>"
       ]
      },
      {
       "javascript": [
        "$('div#f1a3f1f1-0f96-4c96-aab1-c5bab8936b6b').text('ETA:  0:00:00');"
       ],
       "metadata": {},
       "output_type": "display_data",
       "text": [
        "<IPython.core.display.Javascript at 0x1f93f780>"
       ]
      },
      {
       "javascript": [
        "$('div#d2780b3d-c244-46cc-8691-4d109a739e44').text('966 of 2029');"
       ],
       "metadata": {},
       "output_type": "display_data",
       "text": [
        "<IPython.core.display.Javascript at 0x1ae35128>"
       ]
      },
      {
       "javascript": [
        "$('div#85cb4a61-cb5d-450d-9fa1-ced438c2c79f').text(' 47%');"
       ],
       "metadata": {},
       "output_type": "display_data",
       "text": [
        "<IPython.core.display.Javascript at 0x1ae35080>"
       ]
      },
      {
       "javascript": [
        "\n",
        "        var $myPB = $(\"div#2b5f16b0-603c-4114-8dbb-b10a6873281d\")\n",
        "        if ($myPB.hasClass('ui-progressbar')) {\n",
        "            $myPB.progressbar('value', 966);\n",
        "        } else {\n",
        "            $myPB.progressbar({value: 0, max: 2029});\n",
        "        }\n",
        "        "
       ],
       "metadata": {},
       "output_type": "display_data",
       "text": [
        "<IPython.core.display.Javascript at 0x1f93f780>"
       ]
      },
      {
       "javascript": [
        "$('div#f1a3f1f1-0f96-4c96-aab1-c5bab8936b6b').text('ETA:  0:00:00');"
       ],
       "metadata": {},
       "output_type": "display_data",
       "text": [
        "<IPython.core.display.Javascript at 0x1f93fa58>"
       ]
      },
      {
       "javascript": [
        "$('div#d2780b3d-c244-46cc-8691-4d109a739e44').text('987 of 2029');"
       ],
       "metadata": {},
       "output_type": "display_data",
       "text": [
        "<IPython.core.display.Javascript at 0x1ae353c8>"
       ]
      },
      {
       "javascript": [
        "$('div#85cb4a61-cb5d-450d-9fa1-ced438c2c79f').text(' 48%');"
       ],
       "metadata": {},
       "output_type": "display_data",
       "text": [
        "<IPython.core.display.Javascript at 0x1f93fa58>"
       ]
      },
      {
       "javascript": [
        "\n",
        "        var $myPB = $(\"div#2b5f16b0-603c-4114-8dbb-b10a6873281d\")\n",
        "        if ($myPB.hasClass('ui-progressbar')) {\n",
        "            $myPB.progressbar('value', 987);\n",
        "        } else {\n",
        "            $myPB.progressbar({value: 0, max: 2029});\n",
        "        }\n",
        "        "
       ],
       "metadata": {},
       "output_type": "display_data",
       "text": [
        "<IPython.core.display.Javascript at 0x1f93f780>"
       ]
      },
      {
       "javascript": [
        "$('div#f1a3f1f1-0f96-4c96-aab1-c5bab8936b6b').text('ETA:  0:00:00');"
       ],
       "metadata": {},
       "output_type": "display_data",
       "text": [
        "<IPython.core.display.Javascript at 0x1ae35080>"
       ]
      },
      {
       "javascript": [
        "$('div#d2780b3d-c244-46cc-8691-4d109a739e44').text('1008 of 2029');"
       ],
       "metadata": {},
       "output_type": "display_data",
       "text": [
        "<IPython.core.display.Javascript at 0x1ae353c8>"
       ]
      },
      {
       "javascript": [
        "$('div#85cb4a61-cb5d-450d-9fa1-ced438c2c79f').text(' 49%');"
       ],
       "metadata": {},
       "output_type": "display_data",
       "text": [
        "<IPython.core.display.Javascript at 0x1f93f780>"
       ]
      },
      {
       "javascript": [
        "\n",
        "        var $myPB = $(\"div#2b5f16b0-603c-4114-8dbb-b10a6873281d\")\n",
        "        if ($myPB.hasClass('ui-progressbar')) {\n",
        "            $myPB.progressbar('value', 1008);\n",
        "        } else {\n",
        "            $myPB.progressbar({value: 0, max: 2029});\n",
        "        }\n",
        "        "
       ],
       "metadata": {},
       "output_type": "display_data",
       "text": [
        "<IPython.core.display.Javascript at 0x1f93fa58>"
       ]
      },
      {
       "javascript": [
        "$('div#f1a3f1f1-0f96-4c96-aab1-c5bab8936b6b').text('ETA:  0:00:00');"
       ],
       "metadata": {},
       "output_type": "display_data",
       "text": [
        "<IPython.core.display.Javascript at 0x1ae350f0>"
       ]
      },
      {
       "javascript": [
        "$('div#d2780b3d-c244-46cc-8691-4d109a739e44').text('1029 of 2029');"
       ],
       "metadata": {},
       "output_type": "display_data",
       "text": [
        "<IPython.core.display.Javascript at 0x1f93fa58>"
       ]
      },
      {
       "javascript": [
        "$('div#85cb4a61-cb5d-450d-9fa1-ced438c2c79f').text(' 50%');"
       ],
       "metadata": {},
       "output_type": "display_data",
       "text": [
        "<IPython.core.display.Javascript at 0x1f93f780>"
       ]
      },
      {
       "javascript": [
        "\n",
        "        var $myPB = $(\"div#2b5f16b0-603c-4114-8dbb-b10a6873281d\")\n",
        "        if ($myPB.hasClass('ui-progressbar')) {\n",
        "            $myPB.progressbar('value', 1029);\n",
        "        } else {\n",
        "            $myPB.progressbar({value: 0, max: 2029});\n",
        "        }\n",
        "        "
       ],
       "metadata": {},
       "output_type": "display_data",
       "text": [
        "<IPython.core.display.Javascript at 0x1ae353c8>"
       ]
      },
      {
       "javascript": [
        "$('div#f1a3f1f1-0f96-4c96-aab1-c5bab8936b6b').text('ETA:  0:00:00');"
       ],
       "metadata": {},
       "output_type": "display_data",
       "text": [
        "<IPython.core.display.Javascript at 0x1ae350f0>"
       ]
      },
      {
       "javascript": [
        "$('div#d2780b3d-c244-46cc-8691-4d109a739e44').text('1050 of 2029');"
       ],
       "metadata": {},
       "output_type": "display_data",
       "text": [
        "<IPython.core.display.Javascript at 0x1f93f780>"
       ]
      },
      {
       "javascript": [
        "$('div#85cb4a61-cb5d-450d-9fa1-ced438c2c79f').text(' 51%');"
       ],
       "metadata": {},
       "output_type": "display_data",
       "text": [
        "<IPython.core.display.Javascript at 0x1f93fa58>"
       ]
      },
      {
       "javascript": [
        "\n",
        "        var $myPB = $(\"div#2b5f16b0-603c-4114-8dbb-b10a6873281d\")\n",
        "        if ($myPB.hasClass('ui-progressbar')) {\n",
        "            $myPB.progressbar('value', 1050);\n",
        "        } else {\n",
        "            $myPB.progressbar({value: 0, max: 2029});\n",
        "        }\n",
        "        "
       ],
       "metadata": {},
       "output_type": "display_data",
       "text": [
        "<IPython.core.display.Javascript at 0x1ae35128>"
       ]
      },
      {
       "javascript": [
        "$('div#f1a3f1f1-0f96-4c96-aab1-c5bab8936b6b').text('ETA:  0:00:00');"
       ],
       "metadata": {},
       "output_type": "display_data",
       "text": [
        "<IPython.core.display.Javascript at 0x1ae35a58>"
       ]
      },
      {
       "javascript": [
        "$('div#d2780b3d-c244-46cc-8691-4d109a739e44').text('1071 of 2029');"
       ],
       "metadata": {},
       "output_type": "display_data",
       "text": [
        "<IPython.core.display.Javascript at 0x1f93fa58>"
       ]
      },
      {
       "javascript": [
        "$('div#85cb4a61-cb5d-450d-9fa1-ced438c2c79f').text(' 52%');"
       ],
       "metadata": {},
       "output_type": "display_data",
       "text": [
        "<IPython.core.display.Javascript at 0x1f93f780>"
       ]
      },
      {
       "javascript": [
        "\n",
        "        var $myPB = $(\"div#2b5f16b0-603c-4114-8dbb-b10a6873281d\")\n",
        "        if ($myPB.hasClass('ui-progressbar')) {\n",
        "            $myPB.progressbar('value', 1071);\n",
        "        } else {\n",
        "            $myPB.progressbar({value: 0, max: 2029});\n",
        "        }\n",
        "        "
       ],
       "metadata": {},
       "output_type": "display_data",
       "text": [
        "<IPython.core.display.Javascript at 0x1ae35080>"
       ]
      },
      {
       "javascript": [
        "$('div#f1a3f1f1-0f96-4c96-aab1-c5bab8936b6b').text('ETA:  0:00:00');"
       ],
       "metadata": {},
       "output_type": "display_data",
       "text": [
        "<IPython.core.display.Javascript at 0x1f93f780>"
       ]
      },
      {
       "javascript": [
        "$('div#d2780b3d-c244-46cc-8691-4d109a739e44').text('1092 of 2029');"
       ],
       "metadata": {},
       "output_type": "display_data",
       "text": [
        "<IPython.core.display.Javascript at 0x1f93fa58>"
       ]
      },
      {
       "javascript": [
        "$('div#85cb4a61-cb5d-450d-9fa1-ced438c2c79f').text(' 53%');"
       ],
       "metadata": {},
       "output_type": "display_data",
       "text": [
        "<IPython.core.display.Javascript at 0x1ae35a58>"
       ]
      },
      {
       "javascript": [
        "\n",
        "        var $myPB = $(\"div#2b5f16b0-603c-4114-8dbb-b10a6873281d\")\n",
        "        if ($myPB.hasClass('ui-progressbar')) {\n",
        "            $myPB.progressbar('value', 1092);\n",
        "        } else {\n",
        "            $myPB.progressbar({value: 0, max: 2029});\n",
        "        }\n",
        "        "
       ],
       "metadata": {},
       "output_type": "display_data",
       "text": [
        "<IPython.core.display.Javascript at 0x1ae35080>"
       ]
      },
      {
       "javascript": [
        "$('div#f1a3f1f1-0f96-4c96-aab1-c5bab8936b6b').text('ETA:  0:00:00');"
       ],
       "metadata": {},
       "output_type": "display_data",
       "text": [
        "<IPython.core.display.Javascript at 0x1f93fa58>"
       ]
      },
      {
       "javascript": [
        "$('div#d2780b3d-c244-46cc-8691-4d109a739e44').text('1113 of 2029');"
       ],
       "metadata": {},
       "output_type": "display_data",
       "text": [
        "<IPython.core.display.Javascript at 0x1f93f780>"
       ]
      },
      {
       "javascript": [
        "$('div#85cb4a61-cb5d-450d-9fa1-ced438c2c79f').text(' 54%');"
       ],
       "metadata": {},
       "output_type": "display_data",
       "text": [
        "<IPython.core.display.Javascript at 0x1ae35128>"
       ]
      },
      {
       "javascript": [
        "\n",
        "        var $myPB = $(\"div#2b5f16b0-603c-4114-8dbb-b10a6873281d\")\n",
        "        if ($myPB.hasClass('ui-progressbar')) {\n",
        "            $myPB.progressbar('value', 1113);\n",
        "        } else {\n",
        "            $myPB.progressbar({value: 0, max: 2029});\n",
        "        }\n",
        "        "
       ],
       "metadata": {},
       "output_type": "display_data",
       "text": [
        "<IPython.core.display.Javascript at 0x1f93f780>"
       ]
      },
      {
       "javascript": [
        "$('div#f1a3f1f1-0f96-4c96-aab1-c5bab8936b6b').text('ETA:  0:00:00');"
       ],
       "metadata": {},
       "output_type": "display_data",
       "text": [
        "<IPython.core.display.Javascript at 0x1f93fa58>"
       ]
      },
      {
       "javascript": [
        "$('div#d2780b3d-c244-46cc-8691-4d109a739e44').text('1134 of 2029');"
       ],
       "metadata": {},
       "output_type": "display_data",
       "text": [
        "<IPython.core.display.Javascript at 0x1ae35a58>"
       ]
      },
      {
       "javascript": [
        "$('div#85cb4a61-cb5d-450d-9fa1-ced438c2c79f').text(' 55%');"
       ],
       "metadata": {},
       "output_type": "display_data",
       "text": [
        "<IPython.core.display.Javascript at 0x1ae35128>"
       ]
      },
      {
       "javascript": [
        "\n",
        "        var $myPB = $(\"div#2b5f16b0-603c-4114-8dbb-b10a6873281d\")\n",
        "        if ($myPB.hasClass('ui-progressbar')) {\n",
        "            $myPB.progressbar('value', 1134);\n",
        "        } else {\n",
        "            $myPB.progressbar({value: 0, max: 2029});\n",
        "        }\n",
        "        "
       ],
       "metadata": {},
       "output_type": "display_data",
       "text": [
        "<IPython.core.display.Javascript at 0x1f93fa58>"
       ]
      },
      {
       "javascript": [
        "$('div#f1a3f1f1-0f96-4c96-aab1-c5bab8936b6b').text('ETA:  0:00:00');"
       ],
       "metadata": {},
       "output_type": "display_data",
       "text": [
        "<IPython.core.display.Javascript at 0x1f93f780>"
       ]
      },
      {
       "javascript": [
        "$('div#d2780b3d-c244-46cc-8691-4d109a739e44').text('1155 of 2029');"
       ],
       "metadata": {},
       "output_type": "display_data",
       "text": [
        "<IPython.core.display.Javascript at 0x1ae353c8>"
       ]
      },
      {
       "javascript": [
        "$('div#85cb4a61-cb5d-450d-9fa1-ced438c2c79f').text(' 56%');"
       ],
       "metadata": {},
       "output_type": "display_data",
       "text": [
        "<IPython.core.display.Javascript at 0x1f93f780>"
       ]
      },
      {
       "javascript": [
        "\n",
        "        var $myPB = $(\"div#2b5f16b0-603c-4114-8dbb-b10a6873281d\")\n",
        "        if ($myPB.hasClass('ui-progressbar')) {\n",
        "            $myPB.progressbar('value', 1155);\n",
        "        } else {\n",
        "            $myPB.progressbar({value: 0, max: 2029});\n",
        "        }\n",
        "        "
       ],
       "metadata": {},
       "output_type": "display_data",
       "text": [
        "<IPython.core.display.Javascript at 0x1f93fa58>"
       ]
      },
      {
       "javascript": [
        "$('div#f1a3f1f1-0f96-4c96-aab1-c5bab8936b6b').text('ETA:  0:00:00');"
       ],
       "metadata": {},
       "output_type": "display_data",
       "text": [
        "<IPython.core.display.Javascript at 0x1ae35128>"
       ]
      },
      {
       "javascript": [
        "$('div#d2780b3d-c244-46cc-8691-4d109a739e44').text('1176 of 2029');"
       ],
       "metadata": {},
       "output_type": "display_data",
       "text": [
        "<IPython.core.display.Javascript at 0x1ae353c8>"
       ]
      },
      {
       "javascript": [
        "$('div#85cb4a61-cb5d-450d-9fa1-ced438c2c79f').text(' 57%');"
       ],
       "metadata": {},
       "output_type": "display_data",
       "text": [
        "<IPython.core.display.Javascript at 0x1f93fa58>"
       ]
      },
      {
       "javascript": [
        "\n",
        "        var $myPB = $(\"div#2b5f16b0-603c-4114-8dbb-b10a6873281d\")\n",
        "        if ($myPB.hasClass('ui-progressbar')) {\n",
        "            $myPB.progressbar('value', 1176);\n",
        "        } else {\n",
        "            $myPB.progressbar({value: 0, max: 2029});\n",
        "        }\n",
        "        "
       ],
       "metadata": {},
       "output_type": "display_data",
       "text": [
        "<IPython.core.display.Javascript at 0x1f93f780>"
       ]
      },
      {
       "javascript": [
        "$('div#f1a3f1f1-0f96-4c96-aab1-c5bab8936b6b').text('ETA:  0:00:00');"
       ],
       "metadata": {},
       "output_type": "display_data",
       "text": [
        "<IPython.core.display.Javascript at 0x1ae350f0>"
       ]
      },
      {
       "javascript": [
        "$('div#d2780b3d-c244-46cc-8691-4d109a739e44').text('1197 of 2029');"
       ],
       "metadata": {},
       "output_type": "display_data",
       "text": [
        "<IPython.core.display.Javascript at 0x1ae353c8>"
       ]
      },
      {
       "javascript": [
        "$('div#85cb4a61-cb5d-450d-9fa1-ced438c2c79f').text(' 58%');"
       ],
       "metadata": {},
       "output_type": "display_data",
       "text": [
        "<IPython.core.display.Javascript at 0x1f93fa58>"
       ]
      },
      {
       "javascript": [
        "\n",
        "        var $myPB = $(\"div#2b5f16b0-603c-4114-8dbb-b10a6873281d\")\n",
        "        if ($myPB.hasClass('ui-progressbar')) {\n",
        "            $myPB.progressbar('value', 1197);\n",
        "        } else {\n",
        "            $myPB.progressbar({value: 0, max: 2029});\n",
        "        }\n",
        "        "
       ],
       "metadata": {},
       "output_type": "display_data",
       "text": [
        "<IPython.core.display.Javascript at 0x1f93f780>"
       ]
      },
      {
       "javascript": [
        "$('div#f1a3f1f1-0f96-4c96-aab1-c5bab8936b6b').text('ETA:  0:00:00');"
       ],
       "metadata": {},
       "output_type": "display_data",
       "text": [
        "<IPython.core.display.Javascript at 0x1ae35080>"
       ]
      },
      {
       "javascript": [
        "$('div#d2780b3d-c244-46cc-8691-4d109a739e44').text('1218 of 2029');"
       ],
       "metadata": {},
       "output_type": "display_data",
       "text": [
        "<IPython.core.display.Javascript at 0x1f93f780>"
       ]
      },
      {
       "javascript": [
        "$('div#85cb4a61-cb5d-450d-9fa1-ced438c2c79f').text(' 60%');"
       ],
       "metadata": {},
       "output_type": "display_data",
       "text": [
        "<IPython.core.display.Javascript at 0x1f93fa58>"
       ]
      },
      {
       "javascript": [
        "\n",
        "        var $myPB = $(\"div#2b5f16b0-603c-4114-8dbb-b10a6873281d\")\n",
        "        if ($myPB.hasClass('ui-progressbar')) {\n",
        "            $myPB.progressbar('value', 1218);\n",
        "        } else {\n",
        "            $myPB.progressbar({value: 0, max: 2029});\n",
        "        }\n",
        "        "
       ],
       "metadata": {},
       "output_type": "display_data",
       "text": [
        "<IPython.core.display.Javascript at 0x1ae353c8>"
       ]
      },
      {
       "javascript": [
        "$('div#f1a3f1f1-0f96-4c96-aab1-c5bab8936b6b').text('ETA:  0:00:00');"
       ],
       "metadata": {},
       "output_type": "display_data",
       "text": [
        "<IPython.core.display.Javascript at 0x1ae35a58>"
       ]
      },
      {
       "javascript": [
        "$('div#d2780b3d-c244-46cc-8691-4d109a739e44').text('1239 of 2029');"
       ],
       "metadata": {},
       "output_type": "display_data",
       "text": [
        "<IPython.core.display.Javascript at 0x1f93fa58>"
       ]
      },
      {
       "javascript": [
        "$('div#85cb4a61-cb5d-450d-9fa1-ced438c2c79f').text(' 61%');"
       ],
       "metadata": {},
       "output_type": "display_data",
       "text": [
        "<IPython.core.display.Javascript at 0x1f93f780>"
       ]
      },
      {
       "javascript": [
        "\n",
        "        var $myPB = $(\"div#2b5f16b0-603c-4114-8dbb-b10a6873281d\")\n",
        "        if ($myPB.hasClass('ui-progressbar')) {\n",
        "            $myPB.progressbar('value', 1239);\n",
        "        } else {\n",
        "            $myPB.progressbar({value: 0, max: 2029});\n",
        "        }\n",
        "        "
       ],
       "metadata": {},
       "output_type": "display_data",
       "text": [
        "<IPython.core.display.Javascript at 0x1ae350f0>"
       ]
      },
      {
       "javascript": [
        "$('div#f1a3f1f1-0f96-4c96-aab1-c5bab8936b6b').text('ETA:  0:00:00');"
       ],
       "metadata": {},
       "output_type": "display_data",
       "text": [
        "<IPython.core.display.Javascript at 0x1f93f780>"
       ]
      },
      {
       "javascript": [
        "$('div#d2780b3d-c244-46cc-8691-4d109a739e44').text('1260 of 2029');"
       ],
       "metadata": {},
       "output_type": "display_data",
       "text": [
        "<IPython.core.display.Javascript at 0x1f93fa58>"
       ]
      },
      {
       "javascript": [
        "$('div#85cb4a61-cb5d-450d-9fa1-ced438c2c79f').text(' 62%');"
       ],
       "metadata": {},
       "output_type": "display_data",
       "text": [
        "<IPython.core.display.Javascript at 0x1ae353c8>"
       ]
      },
      {
       "javascript": [
        "\n",
        "        var $myPB = $(\"div#2b5f16b0-603c-4114-8dbb-b10a6873281d\")\n",
        "        if ($myPB.hasClass('ui-progressbar')) {\n",
        "            $myPB.progressbar('value', 1260);\n",
        "        } else {\n",
        "            $myPB.progressbar({value: 0, max: 2029});\n",
        "        }\n",
        "        "
       ],
       "metadata": {},
       "output_type": "display_data",
       "text": [
        "<IPython.core.display.Javascript at 0x1ae35080>"
       ]
      },
      {
       "javascript": [
        "$('div#f1a3f1f1-0f96-4c96-aab1-c5bab8936b6b').text('ETA:  0:00:00');"
       ],
       "metadata": {},
       "output_type": "display_data",
       "text": [
        "<IPython.core.display.Javascript at 0x1f93fa58>"
       ]
      },
      {
       "javascript": [
        "$('div#d2780b3d-c244-46cc-8691-4d109a739e44').text('1281 of 2029');"
       ],
       "metadata": {},
       "output_type": "display_data",
       "text": [
        "<IPython.core.display.Javascript at 0x1f93f780>"
       ]
      },
      {
       "javascript": [
        "$('div#85cb4a61-cb5d-450d-9fa1-ced438c2c79f').text(' 63%');"
       ],
       "metadata": {},
       "output_type": "display_data",
       "text": [
        "<IPython.core.display.Javascript at 0x1ae350f0>"
       ]
      },
      {
       "javascript": [
        "\n",
        "        var $myPB = $(\"div#2b5f16b0-603c-4114-8dbb-b10a6873281d\")\n",
        "        if ($myPB.hasClass('ui-progressbar')) {\n",
        "            $myPB.progressbar('value', 1281);\n",
        "        } else {\n",
        "            $myPB.progressbar({value: 0, max: 2029});\n",
        "        }\n",
        "        "
       ],
       "metadata": {},
       "output_type": "display_data",
       "text": [
        "<IPython.core.display.Javascript at 0x1ae35128>"
       ]
      },
      {
       "javascript": [
        "$('div#f1a3f1f1-0f96-4c96-aab1-c5bab8936b6b').text('ETA:  0:00:00');"
       ],
       "metadata": {},
       "output_type": "display_data",
       "text": [
        "<IPython.core.display.Javascript at 0x1ae35128>"
       ]
      },
      {
       "javascript": [
        "$('div#d2780b3d-c244-46cc-8691-4d109a739e44').text('1302 of 2029');"
       ],
       "metadata": {},
       "output_type": "display_data",
       "text": [
        "<IPython.core.display.Javascript at 0x1f93fa58>"
       ]
      },
      {
       "javascript": [
        "$('div#85cb4a61-cb5d-450d-9fa1-ced438c2c79f').text(' 64%');"
       ],
       "metadata": {},
       "output_type": "display_data",
       "text": [
        "<IPython.core.display.Javascript at 0x1f93f780>"
       ]
      },
      {
       "javascript": [
        "\n",
        "        var $myPB = $(\"div#2b5f16b0-603c-4114-8dbb-b10a6873281d\")\n",
        "        if ($myPB.hasClass('ui-progressbar')) {\n",
        "            $myPB.progressbar('value', 1302);\n",
        "        } else {\n",
        "            $myPB.progressbar({value: 0, max: 2029});\n",
        "        }\n",
        "        "
       ],
       "metadata": {},
       "output_type": "display_data",
       "text": [
        "<IPython.core.display.Javascript at 0x1f93f780>"
       ]
      },
      {
       "javascript": [
        "$('div#f1a3f1f1-0f96-4c96-aab1-c5bab8936b6b').text('ETA:  0:00:00');"
       ],
       "metadata": {},
       "output_type": "display_data",
       "text": [
        "<IPython.core.display.Javascript at 0x1f93fa58>"
       ]
      },
      {
       "javascript": [
        "$('div#d2780b3d-c244-46cc-8691-4d109a739e44').text('1323 of 2029');"
       ],
       "metadata": {},
       "output_type": "display_data",
       "text": [
        "<IPython.core.display.Javascript at 0x1ae35a58>"
       ]
      },
      {
       "javascript": [
        "$('div#85cb4a61-cb5d-450d-9fa1-ced438c2c79f').text(' 65%');"
       ],
       "metadata": {},
       "output_type": "display_data",
       "text": [
        "<IPython.core.display.Javascript at 0x1f93fa58>"
       ]
      },
      {
       "javascript": [
        "\n",
        "        var $myPB = $(\"div#2b5f16b0-603c-4114-8dbb-b10a6873281d\")\n",
        "        if ($myPB.hasClass('ui-progressbar')) {\n",
        "            $myPB.progressbar('value', 1323);\n",
        "        } else {\n",
        "            $myPB.progressbar({value: 0, max: 2029});\n",
        "        }\n",
        "        "
       ],
       "metadata": {},
       "output_type": "display_data",
       "text": [
        "<IPython.core.display.Javascript at 0x1f93f780>"
       ]
      },
      {
       "javascript": [
        "$('div#f1a3f1f1-0f96-4c96-aab1-c5bab8936b6b').text('ETA:  0:00:00');"
       ],
       "metadata": {},
       "output_type": "display_data",
       "text": [
        "<IPython.core.display.Javascript at 0x1ae350f0>"
       ]
      },
      {
       "javascript": [
        "$('div#d2780b3d-c244-46cc-8691-4d109a739e44').text('1344 of 2029');"
       ],
       "metadata": {},
       "output_type": "display_data",
       "text": [
        "<IPython.core.display.Javascript at 0x1ae35a58>"
       ]
      },
      {
       "javascript": [
        "$('div#85cb4a61-cb5d-450d-9fa1-ced438c2c79f').text(' 66%');"
       ],
       "metadata": {},
       "output_type": "display_data",
       "text": [
        "<IPython.core.display.Javascript at 0x1ae35a58>"
       ]
      },
      {
       "javascript": [
        "\n",
        "        var $myPB = $(\"div#2b5f16b0-603c-4114-8dbb-b10a6873281d\")\n",
        "        if ($myPB.hasClass('ui-progressbar')) {\n",
        "            $myPB.progressbar('value', 1344);\n",
        "        } else {\n",
        "            $myPB.progressbar({value: 0, max: 2029});\n",
        "        }\n",
        "        "
       ],
       "metadata": {},
       "output_type": "display_data",
       "text": [
        "<IPython.core.display.Javascript at 0x1ae353c8>"
       ]
      },
      {
       "javascript": [
        "$('div#f1a3f1f1-0f96-4c96-aab1-c5bab8936b6b').text('ETA:  0:00:00');"
       ],
       "metadata": {},
       "output_type": "display_data",
       "text": [
        "<IPython.core.display.Javascript at 0x1ae350f0>"
       ]
      },
      {
       "javascript": [
        "$('div#d2780b3d-c244-46cc-8691-4d109a739e44').text('1365 of 2029');"
       ],
       "metadata": {},
       "output_type": "display_data",
       "text": [
        "<IPython.core.display.Javascript at 0x1ae35080>"
       ]
      },
      {
       "javascript": [
        "$('div#85cb4a61-cb5d-450d-9fa1-ced438c2c79f').text(' 67%');"
       ],
       "metadata": {},
       "output_type": "display_data",
       "text": [
        "<IPython.core.display.Javascript at 0x1ae35128>"
       ]
      },
      {
       "javascript": [
        "\n",
        "        var $myPB = $(\"div#2b5f16b0-603c-4114-8dbb-b10a6873281d\")\n",
        "        if ($myPB.hasClass('ui-progressbar')) {\n",
        "            $myPB.progressbar('value', 1365);\n",
        "        } else {\n",
        "            $myPB.progressbar({value: 0, max: 2029});\n",
        "        }\n",
        "        "
       ],
       "metadata": {},
       "output_type": "display_data",
       "text": [
        "<IPython.core.display.Javascript at 0x1ae35a58>"
       ]
      },
      {
       "javascript": [
        "$('div#f1a3f1f1-0f96-4c96-aab1-c5bab8936b6b').text('ETA:  0:00:00');"
       ],
       "metadata": {},
       "output_type": "display_data",
       "text": [
        "<IPython.core.display.Javascript at 0x1ae353c8>"
       ]
      },
      {
       "javascript": [
        "$('div#d2780b3d-c244-46cc-8691-4d109a739e44').text('1386 of 2029');"
       ],
       "metadata": {},
       "output_type": "display_data",
       "text": [
        "<IPython.core.display.Javascript at 0x1ae353c8>"
       ]
      },
      {
       "javascript": [
        "$('div#85cb4a61-cb5d-450d-9fa1-ced438c2c79f').text(' 68%');"
       ],
       "metadata": {},
       "output_type": "display_data",
       "text": [
        "<IPython.core.display.Javascript at 0x1ae350f0>"
       ]
      },
      {
       "javascript": [
        "\n",
        "        var $myPB = $(\"div#2b5f16b0-603c-4114-8dbb-b10a6873281d\")\n",
        "        if ($myPB.hasClass('ui-progressbar')) {\n",
        "            $myPB.progressbar('value', 1386);\n",
        "        } else {\n",
        "            $myPB.progressbar({value: 0, max: 2029});\n",
        "        }\n",
        "        "
       ],
       "metadata": {},
       "output_type": "display_data",
       "text": [
        "<IPython.core.display.Javascript at 0x1ae35128>"
       ]
      },
      {
       "javascript": [
        "$('div#f1a3f1f1-0f96-4c96-aab1-c5bab8936b6b').text('ETA:  0:00:00');"
       ],
       "metadata": {},
       "output_type": "display_data",
       "text": [
        "<IPython.core.display.Javascript at 0x1ae35a58>"
       ]
      },
      {
       "javascript": [
        "$('div#d2780b3d-c244-46cc-8691-4d109a739e44').text('1407 of 2029');"
       ],
       "metadata": {},
       "output_type": "display_data",
       "text": [
        "<IPython.core.display.Javascript at 0x1f93fa58>"
       ]
      },
      {
       "javascript": [
        "$('div#85cb4a61-cb5d-450d-9fa1-ced438c2c79f').text(' 69%');"
       ],
       "metadata": {},
       "output_type": "display_data",
       "text": [
        "<IPython.core.display.Javascript at 0x1f93f780>"
       ]
      },
      {
       "javascript": [
        "\n",
        "        var $myPB = $(\"div#2b5f16b0-603c-4114-8dbb-b10a6873281d\")\n",
        "        if ($myPB.hasClass('ui-progressbar')) {\n",
        "            $myPB.progressbar('value', 1407);\n",
        "        } else {\n",
        "            $myPB.progressbar({value: 0, max: 2029});\n",
        "        }\n",
        "        "
       ],
       "metadata": {},
       "output_type": "display_data",
       "text": [
        "<IPython.core.display.Javascript at 0x1ae350f0>"
       ]
      },
      {
       "javascript": [
        "$('div#f1a3f1f1-0f96-4c96-aab1-c5bab8936b6b').text('ETA:  0:00:00');"
       ],
       "metadata": {},
       "output_type": "display_data",
       "text": [
        "<IPython.core.display.Javascript at 0x1f93f780>"
       ]
      },
      {
       "javascript": [
        "$('div#d2780b3d-c244-46cc-8691-4d109a739e44').text('1428 of 2029');"
       ],
       "metadata": {},
       "output_type": "display_data",
       "text": [
        "<IPython.core.display.Javascript at 0x1f93fa58>"
       ]
      },
      {
       "javascript": [
        "$('div#85cb4a61-cb5d-450d-9fa1-ced438c2c79f').text(' 70%');"
       ],
       "metadata": {},
       "output_type": "display_data",
       "text": [
        "<IPython.core.display.Javascript at 0x1ae35a58>"
       ]
      },
      {
       "javascript": [
        "\n",
        "        var $myPB = $(\"div#2b5f16b0-603c-4114-8dbb-b10a6873281d\")\n",
        "        if ($myPB.hasClass('ui-progressbar')) {\n",
        "            $myPB.progressbar('value', 1428);\n",
        "        } else {\n",
        "            $myPB.progressbar({value: 0, max: 2029});\n",
        "        }\n",
        "        "
       ],
       "metadata": {},
       "output_type": "display_data",
       "text": [
        "<IPython.core.display.Javascript at 0x1f93fa58>"
       ]
      },
      {
       "javascript": [
        "$('div#f1a3f1f1-0f96-4c96-aab1-c5bab8936b6b').text('ETA:  0:00:00');"
       ],
       "metadata": {},
       "output_type": "display_data",
       "text": [
        "<IPython.core.display.Javascript at 0x1f93f780>"
       ]
      },
      {
       "javascript": [
        "$('div#d2780b3d-c244-46cc-8691-4d109a739e44').text('1449 of 2029');"
       ],
       "metadata": {},
       "output_type": "display_data",
       "text": [
        "<IPython.core.display.Javascript at 0x1ae35128>"
       ]
      },
      {
       "javascript": [
        "$('div#85cb4a61-cb5d-450d-9fa1-ced438c2c79f').text(' 71%');"
       ],
       "metadata": {},
       "output_type": "display_data",
       "text": [
        "<IPython.core.display.Javascript at 0x1ae35a58>"
       ]
      },
      {
       "javascript": [
        "\n",
        "        var $myPB = $(\"div#2b5f16b0-603c-4114-8dbb-b10a6873281d\")\n",
        "        if ($myPB.hasClass('ui-progressbar')) {\n",
        "            $myPB.progressbar('value', 1449);\n",
        "        } else {\n",
        "            $myPB.progressbar({value: 0, max: 2029});\n",
        "        }\n",
        "        "
       ],
       "metadata": {},
       "output_type": "display_data",
       "text": [
        "<IPython.core.display.Javascript at 0x1f93f780>"
       ]
      },
      {
       "javascript": [
        "$('div#f1a3f1f1-0f96-4c96-aab1-c5bab8936b6b').text('ETA:  0:00:00');"
       ],
       "metadata": {},
       "output_type": "display_data",
       "text": [
        "<IPython.core.display.Javascript at 0x1f93fa58>"
       ]
      },
      {
       "javascript": [
        "$('div#d2780b3d-c244-46cc-8691-4d109a739e44').text('1470 of 2029');"
       ],
       "metadata": {},
       "output_type": "display_data",
       "text": [
        "<IPython.core.display.Javascript at 0x1ae350f0>"
       ]
      },
      {
       "javascript": [
        "$('div#85cb4a61-cb5d-450d-9fa1-ced438c2c79f').text(' 72%');"
       ],
       "metadata": {},
       "output_type": "display_data",
       "text": [
        "<IPython.core.display.Javascript at 0x1f93fa58>"
       ]
      },
      {
       "javascript": [
        "\n",
        "        var $myPB = $(\"div#2b5f16b0-603c-4114-8dbb-b10a6873281d\")\n",
        "        if ($myPB.hasClass('ui-progressbar')) {\n",
        "            $myPB.progressbar('value', 1470);\n",
        "        } else {\n",
        "            $myPB.progressbar({value: 0, max: 2029});\n",
        "        }\n",
        "        "
       ],
       "metadata": {},
       "output_type": "display_data",
       "text": [
        "<IPython.core.display.Javascript at 0x1f93f780>"
       ]
      },
      {
       "javascript": [
        "$('div#f1a3f1f1-0f96-4c96-aab1-c5bab8936b6b').text('ETA:  0:00:00');"
       ],
       "metadata": {},
       "output_type": "display_data",
       "text": [
        "<IPython.core.display.Javascript at 0x1ae35a58>"
       ]
      },
      {
       "javascript": [
        "$('div#d2780b3d-c244-46cc-8691-4d109a739e44').text('1491 of 2029');"
       ],
       "metadata": {},
       "output_type": "display_data",
       "text": [
        "<IPython.core.display.Javascript at 0x1ae350f0>"
       ]
      },
      {
       "javascript": [
        "$('div#85cb4a61-cb5d-450d-9fa1-ced438c2c79f').text(' 73%');"
       ],
       "metadata": {},
       "output_type": "display_data",
       "text": [
        "<IPython.core.display.Javascript at 0x1f93f780>"
       ]
      },
      {
       "javascript": [
        "\n",
        "        var $myPB = $(\"div#2b5f16b0-603c-4114-8dbb-b10a6873281d\")\n",
        "        if ($myPB.hasClass('ui-progressbar')) {\n",
        "            $myPB.progressbar('value', 1491);\n",
        "        } else {\n",
        "            $myPB.progressbar({value: 0, max: 2029});\n",
        "        }\n",
        "        "
       ],
       "metadata": {},
       "output_type": "display_data",
       "text": [
        "<IPython.core.display.Javascript at 0x1f93fa58>"
       ]
      },
      {
       "javascript": [
        "$('div#f1a3f1f1-0f96-4c96-aab1-c5bab8936b6b').text('ETA:  0:00:00');"
       ],
       "metadata": {},
       "output_type": "display_data",
       "text": [
        "<IPython.core.display.Javascript at 0x1ae35080>"
       ]
      },
      {
       "javascript": [
        "$('div#d2780b3d-c244-46cc-8691-4d109a739e44').text('1512 of 2029');"
       ],
       "metadata": {},
       "output_type": "display_data",
       "text": [
        "<IPython.core.display.Javascript at 0x1ae350f0>"
       ]
      },
      {
       "javascript": [
        "$('div#85cb4a61-cb5d-450d-9fa1-ced438c2c79f').text(' 74%');"
       ],
       "metadata": {},
       "output_type": "display_data",
       "text": [
        "<IPython.core.display.Javascript at 0x1ae35a58>"
       ]
      },
      {
       "javascript": [
        "\n",
        "        var $myPB = $(\"div#2b5f16b0-603c-4114-8dbb-b10a6873281d\")\n",
        "        if ($myPB.hasClass('ui-progressbar')) {\n",
        "            $myPB.progressbar('value', 1512);\n",
        "        } else {\n",
        "            $myPB.progressbar({value: 0, max: 2029});\n",
        "        }\n",
        "        "
       ],
       "metadata": {},
       "output_type": "display_data",
       "text": [
        "<IPython.core.display.Javascript at 0x1ae353c8>"
       ]
      },
      {
       "javascript": [
        "$('div#f1a3f1f1-0f96-4c96-aab1-c5bab8936b6b').text('ETA:  0:00:00');"
       ],
       "metadata": {},
       "output_type": "display_data",
       "text": [
        "<IPython.core.display.Javascript at 0x1ae35128>"
       ]
      },
      {
       "javascript": [
        "$('div#d2780b3d-c244-46cc-8691-4d109a739e44').text('1533 of 2029');"
       ],
       "metadata": {},
       "output_type": "display_data",
       "text": [
        "<IPython.core.display.Javascript at 0x1f93f780>"
       ]
      },
      {
       "javascript": [
        "$('div#85cb4a61-cb5d-450d-9fa1-ced438c2c79f').text(' 75%');"
       ],
       "metadata": {},
       "output_type": "display_data",
       "text": [
        "<IPython.core.display.Javascript at 0x1f93fa58>"
       ]
      },
      {
       "javascript": [
        "\n",
        "        var $myPB = $(\"div#2b5f16b0-603c-4114-8dbb-b10a6873281d\")\n",
        "        if ($myPB.hasClass('ui-progressbar')) {\n",
        "            $myPB.progressbar('value', 1533);\n",
        "        } else {\n",
        "            $myPB.progressbar({value: 0, max: 2029});\n",
        "        }\n",
        "        "
       ],
       "metadata": {},
       "output_type": "display_data",
       "text": [
        "<IPython.core.display.Javascript at 0x1ae35a58>"
       ]
      },
      {
       "javascript": [
        "$('div#f1a3f1f1-0f96-4c96-aab1-c5bab8936b6b').text('ETA:  0:00:00');"
       ],
       "metadata": {},
       "output_type": "display_data",
       "text": [
        "<IPython.core.display.Javascript at 0x1ae35128>"
       ]
      },
      {
       "javascript": [
        "$('div#d2780b3d-c244-46cc-8691-4d109a739e44').text('1554 of 2029');"
       ],
       "metadata": {},
       "output_type": "display_data",
       "text": [
        "<IPython.core.display.Javascript at 0x1f93fa58>"
       ]
      },
      {
       "javascript": [
        "$('div#85cb4a61-cb5d-450d-9fa1-ced438c2c79f').text(' 76%');"
       ],
       "metadata": {},
       "output_type": "display_data",
       "text": [
        "<IPython.core.display.Javascript at 0x1f93f780>"
       ]
      },
      {
       "javascript": [
        "\n",
        "        var $myPB = $(\"div#2b5f16b0-603c-4114-8dbb-b10a6873281d\")\n",
        "        if ($myPB.hasClass('ui-progressbar')) {\n",
        "            $myPB.progressbar('value', 1554);\n",
        "        } else {\n",
        "            $myPB.progressbar({value: 0, max: 2029});\n",
        "        }\n",
        "        "
       ],
       "metadata": {},
       "output_type": "display_data",
       "text": [
        "<IPython.core.display.Javascript at 0x1ae35080>"
       ]
      },
      {
       "javascript": [
        "$('div#f1a3f1f1-0f96-4c96-aab1-c5bab8936b6b').text('ETA:  0:00:00');"
       ],
       "metadata": {},
       "output_type": "display_data",
       "text": [
        "<IPython.core.display.Javascript at 0x1f93f780>"
       ]
      },
      {
       "javascript": [
        "$('div#d2780b3d-c244-46cc-8691-4d109a739e44').text('1575 of 2029');"
       ],
       "metadata": {},
       "output_type": "display_data",
       "text": [
        "<IPython.core.display.Javascript at 0x1f93fa58>"
       ]
      },
      {
       "javascript": [
        "$('div#85cb4a61-cb5d-450d-9fa1-ced438c2c79f').text(' 77%');"
       ],
       "metadata": {},
       "output_type": "display_data",
       "text": [
        "<IPython.core.display.Javascript at 0x1ae35128>"
       ]
      },
      {
       "javascript": [
        "\n",
        "        var $myPB = $(\"div#2b5f16b0-603c-4114-8dbb-b10a6873281d\")\n",
        "        if ($myPB.hasClass('ui-progressbar')) {\n",
        "            $myPB.progressbar('value', 1575);\n",
        "        } else {\n",
        "            $myPB.progressbar({value: 0, max: 2029});\n",
        "        }\n",
        "        "
       ],
       "metadata": {},
       "output_type": "display_data",
       "text": [
        "<IPython.core.display.Javascript at 0x1ae35a58>"
       ]
      },
      {
       "javascript": [
        "$('div#f1a3f1f1-0f96-4c96-aab1-c5bab8936b6b').text('ETA:  0:00:00');"
       ],
       "metadata": {},
       "output_type": "display_data",
       "text": [
        "<IPython.core.display.Javascript at 0x1f93f780>"
       ]
      },
      {
       "javascript": [
        "$('div#d2780b3d-c244-46cc-8691-4d109a739e44').text('1596 of 2029');"
       ],
       "metadata": {},
       "output_type": "display_data",
       "text": [
        "<IPython.core.display.Javascript at 0x1f93fa58>"
       ]
      },
      {
       "javascript": [
        "$('div#85cb4a61-cb5d-450d-9fa1-ced438c2c79f').text(' 78%');"
       ],
       "metadata": {},
       "output_type": "display_data",
       "text": [
        "<IPython.core.display.Javascript at 0x1ae350f0>"
       ]
      },
      {
       "javascript": [
        "\n",
        "        var $myPB = $(\"div#2b5f16b0-603c-4114-8dbb-b10a6873281d\")\n",
        "        if ($myPB.hasClass('ui-progressbar')) {\n",
        "            $myPB.progressbar('value', 1596);\n",
        "        } else {\n",
        "            $myPB.progressbar({value: 0, max: 2029});\n",
        "        }\n",
        "        "
       ],
       "metadata": {},
       "output_type": "display_data",
       "text": [
        "<IPython.core.display.Javascript at 0x1f93fa58>"
       ]
      },
      {
       "javascript": [
        "$('div#f1a3f1f1-0f96-4c96-aab1-c5bab8936b6b').text('ETA:  0:00:00');"
       ],
       "metadata": {},
       "output_type": "display_data",
       "text": [
        "<IPython.core.display.Javascript at 0x1f93f780>"
       ]
      },
      {
       "javascript": [
        "$('div#d2780b3d-c244-46cc-8691-4d109a739e44').text('1617 of 2029');"
       ],
       "metadata": {},
       "output_type": "display_data",
       "text": [
        "<IPython.core.display.Javascript at 0x1ae35128>"
       ]
      },
      {
       "javascript": [
        "$('div#85cb4a61-cb5d-450d-9fa1-ced438c2c79f').text(' 79%');"
       ],
       "metadata": {},
       "output_type": "display_data",
       "text": [
        "<IPython.core.display.Javascript at 0x1ae350f0>"
       ]
      },
      {
       "javascript": [
        "\n",
        "        var $myPB = $(\"div#2b5f16b0-603c-4114-8dbb-b10a6873281d\")\n",
        "        if ($myPB.hasClass('ui-progressbar')) {\n",
        "            $myPB.progressbar('value', 1617);\n",
        "        } else {\n",
        "            $myPB.progressbar({value: 0, max: 2029});\n",
        "        }\n",
        "        "
       ],
       "metadata": {},
       "output_type": "display_data",
       "text": [
        "<IPython.core.display.Javascript at 0x1f93f780>"
       ]
      },
      {
       "javascript": [
        "$('div#f1a3f1f1-0f96-4c96-aab1-c5bab8936b6b').text('ETA:  0:00:00');"
       ],
       "metadata": {},
       "output_type": "display_data",
       "text": [
        "<IPython.core.display.Javascript at 0x1f93fa58>"
       ]
      },
      {
       "javascript": [
        "$('div#d2780b3d-c244-46cc-8691-4d109a739e44').text('1638 of 2029');"
       ],
       "metadata": {},
       "output_type": "display_data",
       "text": [
        "<IPython.core.display.Javascript at 0x1ae35080>"
       ]
      },
      {
       "javascript": [
        "$('div#85cb4a61-cb5d-450d-9fa1-ced438c2c79f').text(' 80%');"
       ],
       "metadata": {},
       "output_type": "display_data",
       "text": [
        "<IPython.core.display.Javascript at 0x1f93fa58>"
       ]
      },
      {
       "javascript": [
        "\n",
        "        var $myPB = $(\"div#2b5f16b0-603c-4114-8dbb-b10a6873281d\")\n",
        "        if ($myPB.hasClass('ui-progressbar')) {\n",
        "            $myPB.progressbar('value', 1638);\n",
        "        } else {\n",
        "            $myPB.progressbar({value: 0, max: 2029});\n",
        "        }\n",
        "        "
       ],
       "metadata": {},
       "output_type": "display_data",
       "text": [
        "<IPython.core.display.Javascript at 0x1f93f780>"
       ]
      },
      {
       "javascript": [
        "$('div#f1a3f1f1-0f96-4c96-aab1-c5bab8936b6b').text('ETA:  0:00:00');"
       ],
       "metadata": {},
       "output_type": "display_data",
       "text": [
        "<IPython.core.display.Javascript at 0x1ae350f0>"
       ]
      },
      {
       "javascript": [
        "$('div#d2780b3d-c244-46cc-8691-4d109a739e44').text('1659 of 2029');"
       ],
       "metadata": {},
       "output_type": "display_data",
       "text": [
        "<IPython.core.display.Javascript at 0x1ae35080>"
       ]
      },
      {
       "javascript": [
        "$('div#85cb4a61-cb5d-450d-9fa1-ced438c2c79f').text(' 81%');"
       ],
       "metadata": {},
       "output_type": "display_data",
       "text": [
        "<IPython.core.display.Javascript at 0x1f93f780>"
       ]
      },
      {
       "javascript": [
        "\n",
        "        var $myPB = $(\"div#2b5f16b0-603c-4114-8dbb-b10a6873281d\")\n",
        "        if ($myPB.hasClass('ui-progressbar')) {\n",
        "            $myPB.progressbar('value', 1659);\n",
        "        } else {\n",
        "            $myPB.progressbar({value: 0, max: 2029});\n",
        "        }\n",
        "        "
       ],
       "metadata": {},
       "output_type": "display_data",
       "text": [
        "<IPython.core.display.Javascript at 0x1f93fa58>"
       ]
      },
      {
       "javascript": [
        "$('div#f1a3f1f1-0f96-4c96-aab1-c5bab8936b6b').text('ETA:  0:00:00');"
       ],
       "metadata": {},
       "output_type": "display_data",
       "text": [
        "<IPython.core.display.Javascript at 0x1ae35a58>"
       ]
      },
      {
       "javascript": [
        "$('div#d2780b3d-c244-46cc-8691-4d109a739e44').text('1680 of 2029');"
       ],
       "metadata": {},
       "output_type": "display_data",
       "text": [
        "<IPython.core.display.Javascript at 0x1f93f780>"
       ]
      },
      {
       "javascript": [
        "$('div#85cb4a61-cb5d-450d-9fa1-ced438c2c79f').text(' 82%');"
       ],
       "metadata": {},
       "output_type": "display_data",
       "text": [
        "<IPython.core.display.Javascript at 0x1f93fa58>"
       ]
      },
      {
       "javascript": [
        "\n",
        "        var $myPB = $(\"div#2b5f16b0-603c-4114-8dbb-b10a6873281d\")\n",
        "        if ($myPB.hasClass('ui-progressbar')) {\n",
        "            $myPB.progressbar('value', 1680);\n",
        "        } else {\n",
        "            $myPB.progressbar({value: 0, max: 2029});\n",
        "        }\n",
        "        "
       ],
       "metadata": {},
       "output_type": "display_data",
       "text": [
        "<IPython.core.display.Javascript at 0x1ae35128>"
       ]
      },
      {
       "javascript": [
        "$('div#f1a3f1f1-0f96-4c96-aab1-c5bab8936b6b').text('ETA:  0:00:00');"
       ],
       "metadata": {},
       "output_type": "display_data",
       "text": [
        "<IPython.core.display.Javascript at 0x1ae35a58>"
       ]
      },
      {
       "javascript": [
        "$('div#d2780b3d-c244-46cc-8691-4d109a739e44').text('1701 of 2029');"
       ],
       "metadata": {},
       "output_type": "display_data",
       "text": [
        "<IPython.core.display.Javascript at 0x1f93fa58>"
       ]
      },
      {
       "javascript": [
        "$('div#85cb4a61-cb5d-450d-9fa1-ced438c2c79f').text(' 83%');"
       ],
       "metadata": {},
       "output_type": "display_data",
       "text": [
        "<IPython.core.display.Javascript at 0x1f93f780>"
       ]
      },
      {
       "javascript": [
        "\n",
        "        var $myPB = $(\"div#2b5f16b0-603c-4114-8dbb-b10a6873281d\")\n",
        "        if ($myPB.hasClass('ui-progressbar')) {\n",
        "            $myPB.progressbar('value', 1701);\n",
        "        } else {\n",
        "            $myPB.progressbar({value: 0, max: 2029});\n",
        "        }\n",
        "        "
       ],
       "metadata": {},
       "output_type": "display_data",
       "text": [
        "<IPython.core.display.Javascript at 0x1ae350f0>"
       ]
      },
      {
       "javascript": [
        "$('div#f1a3f1f1-0f96-4c96-aab1-c5bab8936b6b').text('ETA:  0:00:00');"
       ],
       "metadata": {},
       "output_type": "display_data",
       "text": [
        "<IPython.core.display.Javascript at 0x1ae353c8>"
       ]
      },
      {
       "javascript": [
        "$('div#d2780b3d-c244-46cc-8691-4d109a739e44').text('1722 of 2029');"
       ],
       "metadata": {},
       "output_type": "display_data",
       "text": [
        "<IPython.core.display.Javascript at 0x1f93fa58>"
       ]
      },
      {
       "javascript": [
        "$('div#85cb4a61-cb5d-450d-9fa1-ced438c2c79f').text(' 84%');"
       ],
       "metadata": {},
       "output_type": "display_data",
       "text": [
        "<IPython.core.display.Javascript at 0x1f93f780>"
       ]
      },
      {
       "javascript": [
        "\n",
        "        var $myPB = $(\"div#2b5f16b0-603c-4114-8dbb-b10a6873281d\")\n",
        "        if ($myPB.hasClass('ui-progressbar')) {\n",
        "            $myPB.progressbar('value', 1722);\n",
        "        } else {\n",
        "            $myPB.progressbar({value: 0, max: 2029});\n",
        "        }\n",
        "        "
       ],
       "metadata": {},
       "output_type": "display_data",
       "text": [
        "<IPython.core.display.Javascript at 0x1ae353c8>"
       ]
      },
      {
       "javascript": [
        "$('div#f1a3f1f1-0f96-4c96-aab1-c5bab8936b6b').text('ETA:  0:00:00');"
       ],
       "metadata": {},
       "output_type": "display_data",
       "text": [
        "<IPython.core.display.Javascript at 0x1f93f780>"
       ]
      },
      {
       "javascript": [
        "$('div#d2780b3d-c244-46cc-8691-4d109a739e44').text('1743 of 2029');"
       ],
       "metadata": {},
       "output_type": "display_data",
       "text": [
        "<IPython.core.display.Javascript at 0x1f93fa58>"
       ]
      },
      {
       "javascript": [
        "$('div#85cb4a61-cb5d-450d-9fa1-ced438c2c79f').text(' 85%');"
       ],
       "metadata": {},
       "output_type": "display_data",
       "text": [
        "<IPython.core.display.Javascript at 0x1ae350f0>"
       ]
      },
      {
       "javascript": [
        "\n",
        "        var $myPB = $(\"div#2b5f16b0-603c-4114-8dbb-b10a6873281d\")\n",
        "        if ($myPB.hasClass('ui-progressbar')) {\n",
        "            $myPB.progressbar('value', 1743);\n",
        "        } else {\n",
        "            $myPB.progressbar({value: 0, max: 2029});\n",
        "        }\n",
        "        "
       ],
       "metadata": {},
       "output_type": "display_data",
       "text": [
        "<IPython.core.display.Javascript at 0x1ae35128>"
       ]
      },
      {
       "javascript": [
        "$('div#f1a3f1f1-0f96-4c96-aab1-c5bab8936b6b').text('ETA:  0:00:00');"
       ],
       "metadata": {},
       "output_type": "display_data",
       "text": [
        "<IPython.core.display.Javascript at 0x1f93f780>"
       ]
      },
      {
       "javascript": [
        "$('div#d2780b3d-c244-46cc-8691-4d109a739e44').text('1764 of 2029');"
       ],
       "metadata": {},
       "output_type": "display_data",
       "text": [
        "<IPython.core.display.Javascript at 0x1f93fa58>"
       ]
      },
      {
       "javascript": [
        "$('div#85cb4a61-cb5d-450d-9fa1-ced438c2c79f').text(' 86%');"
       ],
       "metadata": {},
       "output_type": "display_data",
       "text": [
        "<IPython.core.display.Javascript at 0x1ae353c8>"
       ]
      },
      {
       "javascript": [
        "\n",
        "        var $myPB = $(\"div#2b5f16b0-603c-4114-8dbb-b10a6873281d\")\n",
        "        if ($myPB.hasClass('ui-progressbar')) {\n",
        "            $myPB.progressbar('value', 1764);\n",
        "        } else {\n",
        "            $myPB.progressbar({value: 0, max: 2029});\n",
        "        }\n",
        "        "
       ],
       "metadata": {},
       "output_type": "display_data",
       "text": [
        "<IPython.core.display.Javascript at 0x1f93fa58>"
       ]
      },
      {
       "javascript": [
        "$('div#f1a3f1f1-0f96-4c96-aab1-c5bab8936b6b').text('ETA:  0:00:00');"
       ],
       "metadata": {},
       "output_type": "display_data",
       "text": [
        "<IPython.core.display.Javascript at 0x1f93f780>"
       ]
      },
      {
       "javascript": [
        "$('div#d2780b3d-c244-46cc-8691-4d109a739e44').text('1785 of 2029');"
       ],
       "metadata": {},
       "output_type": "display_data",
       "text": [
        "<IPython.core.display.Javascript at 0x1ae350f0>"
       ]
      },
      {
       "javascript": [
        "$('div#85cb4a61-cb5d-450d-9fa1-ced438c2c79f').text(' 87%');"
       ],
       "metadata": {},
       "output_type": "display_data",
       "text": [
        "<IPython.core.display.Javascript at 0x1ae353c8>"
       ]
      },
      {
       "javascript": [
        "\n",
        "        var $myPB = $(\"div#2b5f16b0-603c-4114-8dbb-b10a6873281d\")\n",
        "        if ($myPB.hasClass('ui-progressbar')) {\n",
        "            $myPB.progressbar('value', 1785);\n",
        "        } else {\n",
        "            $myPB.progressbar({value: 0, max: 2029});\n",
        "        }\n",
        "        "
       ],
       "metadata": {},
       "output_type": "display_data",
       "text": [
        "<IPython.core.display.Javascript at 0x1f93fa58>"
       ]
      },
      {
       "javascript": [
        "$('div#f1a3f1f1-0f96-4c96-aab1-c5bab8936b6b').text('ETA:  0:00:00');"
       ],
       "metadata": {},
       "output_type": "display_data",
       "text": [
        "<IPython.core.display.Javascript at 0x1f93f780>"
       ]
      },
      {
       "javascript": [
        "$('div#d2780b3d-c244-46cc-8691-4d109a739e44').text('1806 of 2029');"
       ],
       "metadata": {},
       "output_type": "display_data",
       "text": [
        "<IPython.core.display.Javascript at 0x1ae35a58>"
       ]
      },
      {
       "javascript": [
        "$('div#85cb4a61-cb5d-450d-9fa1-ced438c2c79f').text(' 89%');"
       ],
       "metadata": {},
       "output_type": "display_data",
       "text": [
        "<IPython.core.display.Javascript at 0x1f93f780>"
       ]
      },
      {
       "javascript": [
        "\n",
        "        var $myPB = $(\"div#2b5f16b0-603c-4114-8dbb-b10a6873281d\")\n",
        "        if ($myPB.hasClass('ui-progressbar')) {\n",
        "            $myPB.progressbar('value', 1806);\n",
        "        } else {\n",
        "            $myPB.progressbar({value: 0, max: 2029});\n",
        "        }\n",
        "        "
       ],
       "metadata": {},
       "output_type": "display_data",
       "text": [
        "<IPython.core.display.Javascript at 0x1f93fa58>"
       ]
      },
      {
       "javascript": [
        "$('div#f1a3f1f1-0f96-4c96-aab1-c5bab8936b6b').text('ETA:  0:00:00');"
       ],
       "metadata": {},
       "output_type": "display_data",
       "text": [
        "<IPython.core.display.Javascript at 0x1ae353c8>"
       ]
      },
      {
       "javascript": [
        "$('div#d2780b3d-c244-46cc-8691-4d109a739e44').text('1827 of 2029');"
       ],
       "metadata": {},
       "output_type": "display_data",
       "text": [
        "<IPython.core.display.Javascript at 0x1ae35a58>"
       ]
      },
      {
       "javascript": [
        "$('div#85cb4a61-cb5d-450d-9fa1-ced438c2c79f').text(' 90%');"
       ],
       "metadata": {},
       "output_type": "display_data",
       "text": [
        "<IPython.core.display.Javascript at 0x1f93f780>"
       ]
      },
      {
       "javascript": [
        "\n",
        "        var $myPB = $(\"div#2b5f16b0-603c-4114-8dbb-b10a6873281d\")\n",
        "        if ($myPB.hasClass('ui-progressbar')) {\n",
        "            $myPB.progressbar('value', 1827);\n",
        "        } else {\n",
        "            $myPB.progressbar({value: 0, max: 2029});\n",
        "        }\n",
        "        "
       ],
       "metadata": {},
       "output_type": "display_data",
       "text": [
        "<IPython.core.display.Javascript at 0x1f93fa58>"
       ]
      },
      {
       "javascript": [
        "$('div#f1a3f1f1-0f96-4c96-aab1-c5bab8936b6b').text('ETA:  0:00:00');"
       ],
       "metadata": {},
       "output_type": "display_data",
       "text": [
        "<IPython.core.display.Javascript at 0x1ae350f0>"
       ]
      },
      {
       "javascript": [
        "$('div#d2780b3d-c244-46cc-8691-4d109a739e44').text('1848 of 2029');"
       ],
       "metadata": {},
       "output_type": "display_data",
       "text": [
        "<IPython.core.display.Javascript at 0x1f93f780>"
       ]
      },
      {
       "javascript": [
        "$('div#85cb4a61-cb5d-450d-9fa1-ced438c2c79f').text(' 91%');"
       ],
       "metadata": {},
       "output_type": "display_data",
       "text": [
        "<IPython.core.display.Javascript at 0x1f93fa58>"
       ]
      },
      {
       "javascript": [
        "\n",
        "        var $myPB = $(\"div#2b5f16b0-603c-4114-8dbb-b10a6873281d\")\n",
        "        if ($myPB.hasClass('ui-progressbar')) {\n",
        "            $myPB.progressbar('value', 1848);\n",
        "        } else {\n",
        "            $myPB.progressbar({value: 0, max: 2029});\n",
        "        }\n",
        "        "
       ],
       "metadata": {},
       "output_type": "display_data",
       "text": [
        "<IPython.core.display.Javascript at 0x1ae35a58>"
       ]
      },
      {
       "javascript": [
        "$('div#f1a3f1f1-0f96-4c96-aab1-c5bab8936b6b').text('ETA:  0:00:00');"
       ],
       "metadata": {},
       "output_type": "display_data",
       "text": [
        "<IPython.core.display.Javascript at 0x1ae35080>"
       ]
      },
      {
       "javascript": [
        "$('div#d2780b3d-c244-46cc-8691-4d109a739e44').text('1869 of 2029');"
       ],
       "metadata": {},
       "output_type": "display_data",
       "text": [
        "<IPython.core.display.Javascript at 0x1f93fa58>"
       ]
      },
      {
       "javascript": [
        "$('div#85cb4a61-cb5d-450d-9fa1-ced438c2c79f').text(' 92%');"
       ],
       "metadata": {},
       "output_type": "display_data",
       "text": [
        "<IPython.core.display.Javascript at 0x1f93f780>"
       ]
      },
      {
       "javascript": [
        "\n",
        "        var $myPB = $(\"div#2b5f16b0-603c-4114-8dbb-b10a6873281d\")\n",
        "        if ($myPB.hasClass('ui-progressbar')) {\n",
        "            $myPB.progressbar('value', 1869);\n",
        "        } else {\n",
        "            $myPB.progressbar({value: 0, max: 2029});\n",
        "        }\n",
        "        "
       ],
       "metadata": {},
       "output_type": "display_data",
       "text": [
        "<IPython.core.display.Javascript at 0x1ae35128>"
       ]
      },
      {
       "javascript": [
        "$('div#f1a3f1f1-0f96-4c96-aab1-c5bab8936b6b').text('ETA:  0:00:00');"
       ],
       "metadata": {},
       "output_type": "display_data",
       "text": [
        "<IPython.core.display.Javascript at 0x1ae35080>"
       ]
      },
      {
       "javascript": [
        "$('div#d2780b3d-c244-46cc-8691-4d109a739e44').text('1890 of 2029');"
       ],
       "metadata": {},
       "output_type": "display_data",
       "text": [
        "<IPython.core.display.Javascript at 0x1f93fa58>"
       ]
      },
      {
       "javascript": [
        "$('div#85cb4a61-cb5d-450d-9fa1-ced438c2c79f').text(' 93%');"
       ],
       "metadata": {},
       "output_type": "display_data",
       "text": [
        "<IPython.core.display.Javascript at 0x1f93f780>"
       ]
      },
      {
       "javascript": [
        "\n",
        "        var $myPB = $(\"div#2b5f16b0-603c-4114-8dbb-b10a6873281d\")\n",
        "        if ($myPB.hasClass('ui-progressbar')) {\n",
        "            $myPB.progressbar('value', 1890);\n",
        "        } else {\n",
        "            $myPB.progressbar({value: 0, max: 2029});\n",
        "        }\n",
        "        "
       ],
       "metadata": {},
       "output_type": "display_data",
       "text": [
        "<IPython.core.display.Javascript at 0x1ae35a58>"
       ]
      },
      {
       "javascript": [
        "$('div#f1a3f1f1-0f96-4c96-aab1-c5bab8936b6b').text('ETA:  0:00:00');"
       ],
       "metadata": {},
       "output_type": "display_data",
       "text": [
        "<IPython.core.display.Javascript at 0x1f93f780>"
       ]
      },
      {
       "javascript": [
        "$('div#d2780b3d-c244-46cc-8691-4d109a739e44').text('1911 of 2029');"
       ],
       "metadata": {},
       "output_type": "display_data",
       "text": [
        "<IPython.core.display.Javascript at 0x1f93fa58>"
       ]
      },
      {
       "javascript": [
        "$('div#85cb4a61-cb5d-450d-9fa1-ced438c2c79f').text(' 94%');"
       ],
       "metadata": {},
       "output_type": "display_data",
       "text": [
        "<IPython.core.display.Javascript at 0x1ae35080>"
       ]
      },
      {
       "javascript": [
        "\n",
        "        var $myPB = $(\"div#2b5f16b0-603c-4114-8dbb-b10a6873281d\")\n",
        "        if ($myPB.hasClass('ui-progressbar')) {\n",
        "            $myPB.progressbar('value', 1911);\n",
        "        } else {\n",
        "            $myPB.progressbar({value: 0, max: 2029});\n",
        "        }\n",
        "        "
       ],
       "metadata": {},
       "output_type": "display_data",
       "text": [
        "<IPython.core.display.Javascript at 0x1ae35a58>"
       ]
      },
      {
       "javascript": [
        "$('div#f1a3f1f1-0f96-4c96-aab1-c5bab8936b6b').text('ETA:  0:00:00');"
       ],
       "metadata": {},
       "output_type": "display_data",
       "text": [
        "<IPython.core.display.Javascript at 0x1f93f780>"
       ]
      },
      {
       "javascript": [
        "$('div#d2780b3d-c244-46cc-8691-4d109a739e44').text('1932 of 2029');"
       ],
       "metadata": {},
       "output_type": "display_data",
       "text": [
        "<IPython.core.display.Javascript at 0x1f93fa58>"
       ]
      },
      {
       "javascript": [
        "$('div#85cb4a61-cb5d-450d-9fa1-ced438c2c79f').text(' 95%');"
       ],
       "metadata": {},
       "output_type": "display_data",
       "text": [
        "<IPython.core.display.Javascript at 0x1ae350f0>"
       ]
      },
      {
       "javascript": [
        "\n",
        "        var $myPB = $(\"div#2b5f16b0-603c-4114-8dbb-b10a6873281d\")\n",
        "        if ($myPB.hasClass('ui-progressbar')) {\n",
        "            $myPB.progressbar('value', 1932);\n",
        "        } else {\n",
        "            $myPB.progressbar({value: 0, max: 2029});\n",
        "        }\n",
        "        "
       ],
       "metadata": {},
       "output_type": "display_data",
       "text": [
        "<IPython.core.display.Javascript at 0x1f93fa58>"
       ]
      },
      {
       "javascript": [
        "$('div#f1a3f1f1-0f96-4c96-aab1-c5bab8936b6b').text('ETA:  0:00:00');"
       ],
       "metadata": {},
       "output_type": "display_data",
       "text": [
        "<IPython.core.display.Javascript at 0x1f93f780>"
       ]
      },
      {
       "javascript": [
        "$('div#d2780b3d-c244-46cc-8691-4d109a739e44').text('1953 of 2029');"
       ],
       "metadata": {},
       "output_type": "display_data",
       "text": [
        "<IPython.core.display.Javascript at 0x1ae35080>"
       ]
      },
      {
       "javascript": [
        "$('div#85cb4a61-cb5d-450d-9fa1-ced438c2c79f').text(' 96%');"
       ],
       "metadata": {},
       "output_type": "display_data",
       "text": [
        "<IPython.core.display.Javascript at 0x1ae350f0>"
       ]
      },
      {
       "javascript": [
        "\n",
        "        var $myPB = $(\"div#2b5f16b0-603c-4114-8dbb-b10a6873281d\")\n",
        "        if ($myPB.hasClass('ui-progressbar')) {\n",
        "            $myPB.progressbar('value', 1953);\n",
        "        } else {\n",
        "            $myPB.progressbar({value: 0, max: 2029});\n",
        "        }\n",
        "        "
       ],
       "metadata": {},
       "output_type": "display_data",
       "text": [
        "<IPython.core.display.Javascript at 0x1f93fa58>"
       ]
      },
      {
       "javascript": [
        "$('div#f1a3f1f1-0f96-4c96-aab1-c5bab8936b6b').text('ETA:  0:00:00');"
       ],
       "metadata": {},
       "output_type": "display_data",
       "text": [
        "<IPython.core.display.Javascript at 0x1f93f780>"
       ]
      },
      {
       "javascript": [
        "$('div#d2780b3d-c244-46cc-8691-4d109a739e44').text('1974 of 2029');"
       ],
       "metadata": {},
       "output_type": "display_data",
       "text": [
        "<IPython.core.display.Javascript at 0x1ae35128>"
       ]
      },
      {
       "javascript": [
        "$('div#85cb4a61-cb5d-450d-9fa1-ced438c2c79f').text(' 97%');"
       ],
       "metadata": {},
       "output_type": "display_data",
       "text": [
        "<IPython.core.display.Javascript at 0x1f93fa58>"
       ]
      },
      {
       "javascript": [
        "\n",
        "        var $myPB = $(\"div#2b5f16b0-603c-4114-8dbb-b10a6873281d\")\n",
        "        if ($myPB.hasClass('ui-progressbar')) {\n",
        "            $myPB.progressbar('value', 1974);\n",
        "        } else {\n",
        "            $myPB.progressbar({value: 0, max: 2029});\n",
        "        }\n",
        "        "
       ],
       "metadata": {},
       "output_type": "display_data",
       "text": [
        "<IPython.core.display.Javascript at 0x1f93f780>"
       ]
      },
      {
       "javascript": [
        "$('div#f1a3f1f1-0f96-4c96-aab1-c5bab8936b6b').text('ETA:  0:00:00');"
       ],
       "metadata": {},
       "output_type": "display_data",
       "text": [
        "<IPython.core.display.Javascript at 0x1ae350f0>"
       ]
      },
      {
       "javascript": [
        "$('div#d2780b3d-c244-46cc-8691-4d109a739e44').text('1995 of 2029');"
       ],
       "metadata": {},
       "output_type": "display_data",
       "text": [
        "<IPython.core.display.Javascript at 0x1f93f780>"
       ]
      },
      {
       "javascript": [
        "$('div#85cb4a61-cb5d-450d-9fa1-ced438c2c79f').text(' 98%');"
       ],
       "metadata": {},
       "output_type": "display_data",
       "text": [
        "<IPython.core.display.Javascript at 0x1f93fa58>"
       ]
      },
      {
       "javascript": [
        "\n",
        "        var $myPB = $(\"div#2b5f16b0-603c-4114-8dbb-b10a6873281d\")\n",
        "        if ($myPB.hasClass('ui-progressbar')) {\n",
        "            $myPB.progressbar('value', 1995);\n",
        "        } else {\n",
        "            $myPB.progressbar({value: 0, max: 2029});\n",
        "        }\n",
        "        "
       ],
       "metadata": {},
       "output_type": "display_data",
       "text": [
        "<IPython.core.display.Javascript at 0x1ae35128>"
       ]
      },
      {
       "javascript": [
        "$('div#f1a3f1f1-0f96-4c96-aab1-c5bab8936b6b').text('ETA:  0:00:00');"
       ],
       "metadata": {},
       "output_type": "display_data",
       "text": [
        "<IPython.core.display.Javascript at 0x1ae35080>"
       ]
      },
      {
       "javascript": [
        "$('div#d2780b3d-c244-46cc-8691-4d109a739e44').text('2016 of 2029');"
       ],
       "metadata": {},
       "output_type": "display_data",
       "text": [
        "<IPython.core.display.Javascript at 0x1f93fa58>"
       ]
      },
      {
       "javascript": [
        "$('div#85cb4a61-cb5d-450d-9fa1-ced438c2c79f').text(' 99%');"
       ],
       "metadata": {},
       "output_type": "display_data",
       "text": [
        "<IPython.core.display.Javascript at 0x1f93f780>"
       ]
      },
      {
       "javascript": [
        "\n",
        "        var $myPB = $(\"div#2b5f16b0-603c-4114-8dbb-b10a6873281d\")\n",
        "        if ($myPB.hasClass('ui-progressbar')) {\n",
        "            $myPB.progressbar('value', 2016);\n",
        "        } else {\n",
        "            $myPB.progressbar({value: 0, max: 2029});\n",
        "        }\n",
        "        "
       ],
       "metadata": {},
       "output_type": "display_data",
       "text": [
        "<IPython.core.display.Javascript at 0x1ae35128>"
       ]
      },
      {
       "javascript": [
        "$('div#f1a3f1f1-0f96-4c96-aab1-c5bab8936b6b').text('ETA:  0:00:00');"
       ],
       "metadata": {},
       "output_type": "display_data",
       "text": [
        "<IPython.core.display.Javascript at 0x1ae35a58>"
       ]
      },
      {
       "javascript": [
        "$('div#d2780b3d-c244-46cc-8691-4d109a739e44').text('2029 of 2029');"
       ],
       "metadata": {},
       "output_type": "display_data",
       "text": [
        "<IPython.core.display.Javascript at 0x1f93f780>"
       ]
      },
      {
       "javascript": [
        "$('div#85cb4a61-cb5d-450d-9fa1-ced438c2c79f').text('100%');"
       ],
       "metadata": {},
       "output_type": "display_data",
       "text": [
        "<IPython.core.display.Javascript at 0x1f93fa58>"
       ]
      },
      {
       "javascript": [
        "\n",
        "        var $myPB = $(\"div#2b5f16b0-603c-4114-8dbb-b10a6873281d\")\n",
        "        if ($myPB.hasClass('ui-progressbar')) {\n",
        "            $myPB.progressbar('value', 2029);\n",
        "        } else {\n",
        "            $myPB.progressbar({value: 0, max: 2029});\n",
        "        }\n",
        "        "
       ],
       "metadata": {},
       "output_type": "display_data",
       "text": [
        "<IPython.core.display.Javascript at 0x1ae353c8>"
       ]
      },
      {
       "javascript": [
        "$('div#f1a3f1f1-0f96-4c96-aab1-c5bab8936b6b').text('Time: 0:00:00');"
       ],
       "metadata": {},
       "output_type": "display_data",
       "text": [
        "<IPython.core.display.Javascript at 0x1f93fa58>"
       ]
      },
      {
       "javascript": [
        "var element = document.getElementById('e2ebaa5b-5797-4f76-a587-a59ea2d00e46');\n",
        "                    var parent = element.parentNode\n",
        "                    parent.removeChild(element);\n",
        "                    parent.parentElement.remove();"
       ],
       "metadata": {},
       "output_type": "display_data",
       "text": [
        "<IPython.core.display.Javascript at 0x14fbab38>"
       ]
      },
      {
       "javascript": [
        "this.cleanProgressBar(['e2ebaa5b-5797-4f76-a587-a59ea2d00e46', 'd2780b3d-c244-46cc-8691-4d109a739e44', '85cb4a61-cb5d-450d-9fa1-ced438c2c79f', '2b5f16b0-603c-4114-8dbb-b10a6873281d', 'f1a3f1f1-0f96-4c96-aab1-c5bab8936b6b'])"
       ],
       "metadata": {},
       "output_type": "display_data",
       "text": [
        "<IPython.core.display.Javascript at 0x1f93f780>"
       ]
      },
      {
       "html": [
        "<div style=\"max-height:1000px;max-width:1500px;overflow:auto;\">\n",
        "<table border=\"1\" class=\"dataframe\">\n",
        "  <thead>\n",
        "    <tr style=\"text-align: right;\">\n",
        "      <th></th>\n",
        "      <th>Noun Chunks phrase</th>\n",
        "      <th>Noun Chunks frequency</th>\n",
        "      <th>Noun Verb Chunks phrase</th>\n",
        "      <th>Noun Verb Chunks frequency</th>\n",
        "    </tr>\n",
        "  </thead>\n",
        "  <tbody>\n",
        "    <tr>\n",
        "      <th>1 </th>\n",
        "      <td> Democratic People's Republic of Korea</td>\n",
        "      <td> 15</td>\n",
        "      <td>                                     Working Group</td>\n",
        "      <td> 562</td>\n",
        "    </tr>\n",
        "    <tr>\n",
        "      <th>2 </th>\n",
        "      <td>                                 Congo</td>\n",
        "      <td> 14</td>\n",
        "      <td>                     basis of information provided</td>\n",
        "      <td>  93</td>\n",
        "    </tr>\n",
        "    <tr>\n",
        "      <th>3 </th>\n",
        "      <td>              Islamic Republic of Iran</td>\n",
        "      <td> 12</td>\n",
        "      <td> Total cases transmitted clarified and outstanding</td>\n",
        "      <td>  81</td>\n",
        "    </tr>\n",
        "    <tr>\n",
        "      <th>4 </th>\n",
        "      <td>                           Syrian Arab</td>\n",
        "      <td>  9</td>\n",
        "      <td>                              Information received</td>\n",
        "      <td>  79</td>\n",
        "    </tr>\n",
        "    <tr>\n",
        "      <th>5 </th>\n",
        "      <td>                   Government of India</td>\n",
        "      <td>  8</td>\n",
        "      <td>                               disappeared persons</td>\n",
        "      <td>  40</td>\n",
        "    </tr>\n",
        "    <tr>\n",
        "      <th>6 </th>\n",
        "      <td>                           Philippines</td>\n",
        "      <td>  8</td>\n",
        "      <td>                             received from sources</td>\n",
        "      <td>  40</td>\n",
        "    </tr>\n",
        "    <tr>\n",
        "      <th>7 </th>\n",
        "      <td>               Government of Indonesia</td>\n",
        "      <td>  7</td>\n",
        "      <td>                          cases remain outstanding</td>\n",
        "      <td>  38</td>\n",
        "    </tr>\n",
        "    <tr>\n",
        "      <th>8 </th>\n",
        "      <td>                               Algeria</td>\n",
        "      <td>  6</td>\n",
        "      <td>                                    reported cases</td>\n",
        "      <td>  38</td>\n",
        "    </tr>\n",
        "    <tr>\n",
        "      <th>9 </th>\n",
        "      <td>                 Government of Algeria</td>\n",
        "      <td>  6</td>\n",
        "      <td>                            enforced disappearance</td>\n",
        "      <td>  26</td>\n",
        "    </tr>\n",
        "    <tr>\n",
        "      <th>10</th>\n",
        "      <td>                                Geneva</td>\n",
        "      <td>  5</td>\n",
        "      <td>                 Information received from sources</td>\n",
        "      <td>  23</td>\n",
        "    </tr>\n",
        "  </tbody>\n",
        "</table>\n",
        "</div>"
       ],
       "metadata": {},
       "output_type": "pyout",
       "prompt_number": 6,
       "text": [
        "                       Noun Chunks phrase  Noun Chunks frequency  \\\n",
        "1   Democratic People's Republic of Korea                     15   \n",
        "2                                   Congo                     14   \n",
        "3                Islamic Republic of Iran                     12   \n",
        "4                             Syrian Arab                      9   \n",
        "5                     Government of India                      8   \n",
        "6                             Philippines                      8   \n",
        "7                 Government of Indonesia                      7   \n",
        "8                                 Algeria                      6   \n",
        "9                   Government of Algeria                      6   \n",
        "10                                 Geneva                      5   \n",
        "\n",
        "                              Noun Verb Chunks phrase  \\\n",
        "1                                       Working Group   \n",
        "2                       basis of information provided   \n",
        "3   Total cases transmitted clarified and outstanding   \n",
        "4                                Information received   \n",
        "5                                 disappeared persons   \n",
        "6                               received from sources   \n",
        "7                            cases remain outstanding   \n",
        "8                                      reported cases   \n",
        "9                              enforced disappearance   \n",
        "10                  Information received from sources   \n",
        "\n",
        "    Noun Verb Chunks frequency  \n",
        "1                          562  \n",
        "2                           93  \n",
        "3                           81  \n",
        "4                           79  \n",
        "5                           40  \n",
        "6                           40  \n",
        "7                           38  \n",
        "8                           38  \n",
        "9                           26  \n",
        "10                          23  "
       ]
      }
     ],
     "prompt_number": 6
    },
    {
     "cell_type": "code",
     "collapsed": false,
     "input": [],
     "language": "python",
     "metadata": {},
     "outputs": [],
     "prompt_number": 6
    },
    {
     "cell_type": "code",
     "collapsed": false,
     "input": [
      "orgs, countries, nchunks= mun.ner_document_analysis(sentences, tagged_sentences, nchunks)\n",
      "mun.print_FreqDists([nchunks, orgs,countries],titles=['NChunks (Filtered)', 'Organizations', 'Countries'], limit = 10)"
     ],
     "language": "python",
     "metadata": {},
     "outputs": [
      {
       "javascript": [
        "//45469a74-530d-4194-9f77-af38daf17f97\n",
        "$(\"head\").append(\"<style> td.pb_widget {     width: auto; } td.pb_widget_fill {     width: 100%; } table.pb {     font-family: monospace;     border: 0;     margin: 0; } table.pb tr { border: 0; } table.pb td {     white-space: nowrap;     border: 0; } div.pb {     border: 1px solid #ddd;     border-radius: 3px; } div.pb_bar {     height: 1.5em; } </style>\")"
       ],
       "metadata": {},
       "output_type": "display_data",
       "text": [
        "<IPython.core.display.Javascript at 0x13a88f98>"
       ]
      },
      {
       "javascript": [
        "\n",
        "                  // 45469a74-530d-4194-9f77-af38daf17f97 -- used to remove this code blob in the end\n",
        "                  IPython.OutputArea.prototype.cleanProgressBar = function(uuids) {\n",
        "                      // filter by uuid-strings \n",
        "                      var myfilter = function(output) { \n",
        "                          var nuids = uuids.length;\n",
        "                          for (var i=0; i<nuids; i++) {\n",
        "                              if (output.hasOwnProperty('html')) {\n",
        "                                  if (output.html.indexOf(uuids[i]) != -1) {\n",
        "                                      return false;\n",
        "                                  }\n",
        "                              }\n",
        "                              if (output.hasOwnProperty('javascript')) {\n",
        "                                  if (output.javascript.indexOf(uuids[i]) != -1) {\n",
        "                                      return false;\n",
        "                                  }\n",
        "                              }\n",
        "                          }\n",
        "                          // keep all others\n",
        "                          return true;\n",
        "                      };\n",
        "\n",
        "                      // Filter the ouputs\n",
        "                      this.outputs = this.outputs.filter(myfilter);\n",
        "                };\n",
        "                "
       ],
       "metadata": {},
       "output_type": "display_data",
       "text": [
        "<IPython.core.display.Javascript at 0x1f93f9b0>"
       ]
      },
      {
       "html": [
        "<div class=\"pb\" id=\"45469a74-530d-4194-9f77-af38daf17f97\"><table class=\"pb ui-widget\"><tr>\n",
        "<td class=\"pb_widget\">Building Dictionary</td>\n",
        "<td class=\"pb_widget\"><div id=\"ceff84f9-4627-4d97-992f-0736e67d698e\">0 of 2029</div></td>\n",
        "<td class=\"pb_widget\"><div id=\"bb0bb37f-39f6-4682-9a5c-997af288b001\">  0%</div></td>\n",
        "<td class=\"pb_widget_fill\">\n",
        "        <div class=\"pb_bar\" id=\"3c433c17-a122-4e8d-b3f7-59f63a27ff56\"></div>\n",
        "        <script type=\"text/javascript\">\n",
        "            $(\"div#3c433c17-a122-4e8d-b3f7-59f63a27ff56\").progressbar({value: 0, max: 2029});\n",
        "        </script>\n",
        "        </td>\n",
        "<td class=\"pb_widget\"><div id=\"d3051e00-7ef5-45e6-9b85-d75ad1fd7b81\">ETA:  --:--:--</div></td>\n",
        "</tr></table><div>"
       ],
       "metadata": {},
       "output_type": "display_data",
       "text": [
        "<IPython.core.display.HTML at 0x1f93fb70>"
       ]
      },
      {
       "output_type": "stream",
       "stream": "stdout",
       "text": [
        "get_ner_dictionary_for_analysis() Started...\n"
       ]
      },
      {
       "javascript": [
        "$('div#ceff84f9-4627-4d97-992f-0736e67d698e').text('21 of 2029');"
       ],
       "metadata": {},
       "output_type": "display_data",
       "text": [
        "<IPython.core.display.Javascript at 0x1ef60630>"
       ]
      },
      {
       "javascript": [
        "$('div#bb0bb37f-39f6-4682-9a5c-997af288b001').text('  1%');"
       ],
       "metadata": {},
       "output_type": "display_data",
       "text": [
        "<IPython.core.display.Javascript at 0x13b57978>"
       ]
      },
      {
       "javascript": [
        "\n",
        "        var $myPB = $(\"div#3c433c17-a122-4e8d-b3f7-59f63a27ff56\")\n",
        "        if ($myPB.hasClass('ui-progressbar')) {\n",
        "            $myPB.progressbar('value', 21);\n",
        "        } else {\n",
        "            $myPB.progressbar({value: 0, max: 2029});\n",
        "        }\n",
        "        "
       ],
       "metadata": {},
       "output_type": "display_data",
       "text": [
        "<IPython.core.display.Javascript at 0x13b57978>"
       ]
      },
      {
       "javascript": [
        "$('div#d3051e00-7ef5-45e6-9b85-d75ad1fd7b81').text('ETA:  0:00:47');"
       ],
       "metadata": {},
       "output_type": "display_data",
       "text": [
        "<IPython.core.display.Javascript at 0x1ef60b70>"
       ]
      },
      {
       "javascript": [
        "$('div#ceff84f9-4627-4d97-992f-0736e67d698e').text('42 of 2029');"
       ],
       "metadata": {},
       "output_type": "display_data",
       "text": [
        "<IPython.core.display.Javascript at 0x1ef60630>"
       ]
      },
      {
       "javascript": [
        "$('div#bb0bb37f-39f6-4682-9a5c-997af288b001').text('  2%');"
       ],
       "metadata": {},
       "output_type": "display_data",
       "text": [
        "<IPython.core.display.Javascript at 0x1ef60160>"
       ]
      },
      {
       "javascript": [
        "\n",
        "        var $myPB = $(\"div#3c433c17-a122-4e8d-b3f7-59f63a27ff56\")\n",
        "        if ($myPB.hasClass('ui-progressbar')) {\n",
        "            $myPB.progressbar('value', 42);\n",
        "        } else {\n",
        "            $myPB.progressbar({value: 0, max: 2029});\n",
        "        }\n",
        "        "
       ],
       "metadata": {},
       "output_type": "display_data",
       "text": [
        "<IPython.core.display.Javascript at 0x13b57978>"
       ]
      },
      {
       "javascript": [
        "$('div#d3051e00-7ef5-45e6-9b85-d75ad1fd7b81').text('ETA:  0:00:28');"
       ],
       "metadata": {},
       "output_type": "display_data",
       "text": [
        "<IPython.core.display.Javascript at 0x1ef60160>"
       ]
      },
      {
       "javascript": [
        "$('div#ceff84f9-4627-4d97-992f-0736e67d698e').text('63 of 2029');"
       ],
       "metadata": {},
       "output_type": "display_data",
       "text": [
        "<IPython.core.display.Javascript at 0x1ef60c88>"
       ]
      },
      {
       "javascript": [
        "$('div#bb0bb37f-39f6-4682-9a5c-997af288b001').text('  3%');"
       ],
       "metadata": {},
       "output_type": "display_data",
       "text": [
        "<IPython.core.display.Javascript at 0x1ef603c8>"
       ]
      },
      {
       "javascript": [
        "\n",
        "        var $myPB = $(\"div#3c433c17-a122-4e8d-b3f7-59f63a27ff56\")\n",
        "        if ($myPB.hasClass('ui-progressbar')) {\n",
        "            $myPB.progressbar('value', 63);\n",
        "        } else {\n",
        "            $myPB.progressbar({value: 0, max: 2029});\n",
        "        }\n",
        "        "
       ],
       "metadata": {},
       "output_type": "display_data",
       "text": [
        "<IPython.core.display.Javascript at 0x13b57978>"
       ]
      },
      {
       "javascript": [
        "$('div#d3051e00-7ef5-45e6-9b85-d75ad1fd7b81').text('ETA:  0:00:19');"
       ],
       "metadata": {},
       "output_type": "display_data",
       "text": [
        "<IPython.core.display.Javascript at 0x1ef603c8>"
       ]
      },
      {
       "javascript": [
        "$('div#ceff84f9-4627-4d97-992f-0736e67d698e').text('84 of 2029');"
       ],
       "metadata": {},
       "output_type": "display_data",
       "text": [
        "<IPython.core.display.Javascript at 0x1ef60c18>"
       ]
      },
      {
       "javascript": [
        "$('div#bb0bb37f-39f6-4682-9a5c-997af288b001').text('  4%');"
       ],
       "metadata": {},
       "output_type": "display_data",
       "text": [
        "<IPython.core.display.Javascript at 0x1ef60b70>"
       ]
      },
      {
       "javascript": [
        "\n",
        "        var $myPB = $(\"div#3c433c17-a122-4e8d-b3f7-59f63a27ff56\")\n",
        "        if ($myPB.hasClass('ui-progressbar')) {\n",
        "            $myPB.progressbar('value', 84);\n",
        "        } else {\n",
        "            $myPB.progressbar({value: 0, max: 2029});\n",
        "        }\n",
        "        "
       ],
       "metadata": {},
       "output_type": "display_data",
       "text": [
        "<IPython.core.display.Javascript at 0x13b57978>"
       ]
      },
      {
       "javascript": [
        "$('div#d3051e00-7ef5-45e6-9b85-d75ad1fd7b81').text('ETA:  0:00:15');"
       ],
       "metadata": {},
       "output_type": "display_data",
       "text": [
        "<IPython.core.display.Javascript at 0x1ef60b70>"
       ]
      },
      {
       "javascript": [
        "$('div#ceff84f9-4627-4d97-992f-0736e67d698e').text('105 of 2029');"
       ],
       "metadata": {},
       "output_type": "display_data",
       "text": [
        "<IPython.core.display.Javascript at 0x1ef60da0>"
       ]
      },
      {
       "javascript": [
        "$('div#bb0bb37f-39f6-4682-9a5c-997af288b001').text('  5%');"
       ],
       "metadata": {},
       "output_type": "display_data",
       "text": [
        "<IPython.core.display.Javascript at 0x1ef608d0>"
       ]
      },
      {
       "javascript": [
        "\n",
        "        var $myPB = $(\"div#3c433c17-a122-4e8d-b3f7-59f63a27ff56\")\n",
        "        if ($myPB.hasClass('ui-progressbar')) {\n",
        "            $myPB.progressbar('value', 105);\n",
        "        } else {\n",
        "            $myPB.progressbar({value: 0, max: 2029});\n",
        "        }\n",
        "        "
       ],
       "metadata": {},
       "output_type": "display_data",
       "text": [
        "<IPython.core.display.Javascript at 0x13b57978>"
       ]
      },
      {
       "javascript": [
        "$('div#d3051e00-7ef5-45e6-9b85-d75ad1fd7b81').text('ETA:  0:00:12');"
       ],
       "metadata": {},
       "output_type": "display_data",
       "text": [
        "<IPython.core.display.Javascript at 0x1ef608d0>"
       ]
      },
      {
       "javascript": [
        "$('div#ceff84f9-4627-4d97-992f-0736e67d698e').text('126 of 2029');"
       ],
       "metadata": {},
       "output_type": "display_data",
       "text": [
        "<IPython.core.display.Javascript at 0x1ef60160>"
       ]
      },
      {
       "javascript": [
        "$('div#bb0bb37f-39f6-4682-9a5c-997af288b001').text('  6%');"
       ],
       "metadata": {},
       "output_type": "display_data",
       "text": [
        "<IPython.core.display.Javascript at 0x13b57978>"
       ]
      },
      {
       "javascript": [
        "\n",
        "        var $myPB = $(\"div#3c433c17-a122-4e8d-b3f7-59f63a27ff56\")\n",
        "        if ($myPB.hasClass('ui-progressbar')) {\n",
        "            $myPB.progressbar('value', 126);\n",
        "        } else {\n",
        "            $myPB.progressbar({value: 0, max: 2029});\n",
        "        }\n",
        "        "
       ],
       "metadata": {},
       "output_type": "display_data",
       "text": [
        "<IPython.core.display.Javascript at 0x1ef60160>"
       ]
      },
      {
       "javascript": [
        "$('div#d3051e00-7ef5-45e6-9b85-d75ad1fd7b81').text('ETA:  0:00:10');"
       ],
       "metadata": {},
       "output_type": "display_data",
       "text": [
        "<IPython.core.display.Javascript at 0x1ef60b70>"
       ]
      },
      {
       "javascript": [
        "$('div#ceff84f9-4627-4d97-992f-0736e67d698e').text('147 of 2029');"
       ],
       "metadata": {},
       "output_type": "display_data",
       "text": [
        "<IPython.core.display.Javascript at 0x1ef603c8>"
       ]
      },
      {
       "javascript": [
        "$('div#bb0bb37f-39f6-4682-9a5c-997af288b001').text('  7%');"
       ],
       "metadata": {},
       "output_type": "display_data",
       "text": [
        "<IPython.core.display.Javascript at 0x13b57978>"
       ]
      },
      {
       "javascript": [
        "\n",
        "        var $myPB = $(\"div#3c433c17-a122-4e8d-b3f7-59f63a27ff56\")\n",
        "        if ($myPB.hasClass('ui-progressbar')) {\n",
        "            $myPB.progressbar('value', 147);\n",
        "        } else {\n",
        "            $myPB.progressbar({value: 0, max: 2029});\n",
        "        }\n",
        "        "
       ],
       "metadata": {},
       "output_type": "display_data",
       "text": [
        "<IPython.core.display.Javascript at 0x1ef603c8>"
       ]
      },
      {
       "javascript": [
        "$('div#d3051e00-7ef5-45e6-9b85-d75ad1fd7b81').text('ETA:  0:00:10');"
       ],
       "metadata": {},
       "output_type": "display_data",
       "text": [
        "<IPython.core.display.Javascript at 0x1ef60630>"
       ]
      },
      {
       "javascript": [
        "$('div#ceff84f9-4627-4d97-992f-0736e67d698e').text('168 of 2029');"
       ],
       "metadata": {},
       "output_type": "display_data",
       "text": [
        "<IPython.core.display.Javascript at 0x1ef60c88>"
       ]
      },
      {
       "javascript": [
        "$('div#bb0bb37f-39f6-4682-9a5c-997af288b001').text('  8%');"
       ],
       "metadata": {},
       "output_type": "display_data",
       "text": [
        "<IPython.core.display.Javascript at 0x13b57978>"
       ]
      },
      {
       "javascript": [
        "\n",
        "        var $myPB = $(\"div#3c433c17-a122-4e8d-b3f7-59f63a27ff56\")\n",
        "        if ($myPB.hasClass('ui-progressbar')) {\n",
        "            $myPB.progressbar('value', 168);\n",
        "        } else {\n",
        "            $myPB.progressbar({value: 0, max: 2029});\n",
        "        }\n",
        "        "
       ],
       "metadata": {},
       "output_type": "display_data",
       "text": [
        "<IPython.core.display.Javascript at 0x1ef60c88>"
       ]
      },
      {
       "javascript": [
        "$('div#d3051e00-7ef5-45e6-9b85-d75ad1fd7b81').text('ETA:  0:00:11');"
       ],
       "metadata": {},
       "output_type": "display_data",
       "text": [
        "<IPython.core.display.Javascript at 0x1ef60c18>"
       ]
      },
      {
       "javascript": [
        "$('div#ceff84f9-4627-4d97-992f-0736e67d698e').text('189 of 2029');"
       ],
       "metadata": {},
       "output_type": "display_data",
       "text": [
        "<IPython.core.display.Javascript at 0x1ef60da0>"
       ]
      },
      {
       "javascript": [
        "$('div#bb0bb37f-39f6-4682-9a5c-997af288b001').text('  9%');"
       ],
       "metadata": {},
       "output_type": "display_data",
       "text": [
        "<IPython.core.display.Javascript at 0x13b57978>"
       ]
      },
      {
       "javascript": [
        "\n",
        "        var $myPB = $(\"div#3c433c17-a122-4e8d-b3f7-59f63a27ff56\")\n",
        "        if ($myPB.hasClass('ui-progressbar')) {\n",
        "            $myPB.progressbar('value', 189);\n",
        "        } else {\n",
        "            $myPB.progressbar({value: 0, max: 2029});\n",
        "        }\n",
        "        "
       ],
       "metadata": {},
       "output_type": "display_data",
       "text": [
        "<IPython.core.display.Javascript at 0x1ef60da0>"
       ]
      },
      {
       "javascript": [
        "$('div#d3051e00-7ef5-45e6-9b85-d75ad1fd7b81').text('ETA:  0:00:11');"
       ],
       "metadata": {},
       "output_type": "display_data",
       "text": [
        "<IPython.core.display.Javascript at 0x1ef608d0>"
       ]
      },
      {
       "javascript": [
        "$('div#ceff84f9-4627-4d97-992f-0736e67d698e').text('210 of 2029');"
       ],
       "metadata": {},
       "output_type": "display_data",
       "text": [
        "<IPython.core.display.Javascript at 0x1ef603c8>"
       ]
      },
      {
       "javascript": [
        "$('div#bb0bb37f-39f6-4682-9a5c-997af288b001').text(' 10%');"
       ],
       "metadata": {},
       "output_type": "display_data",
       "text": [
        "<IPython.core.display.Javascript at 0x13b57978>"
       ]
      },
      {
       "javascript": [
        "\n",
        "        var $myPB = $(\"div#3c433c17-a122-4e8d-b3f7-59f63a27ff56\")\n",
        "        if ($myPB.hasClass('ui-progressbar')) {\n",
        "            $myPB.progressbar('value', 210);\n",
        "        } else {\n",
        "            $myPB.progressbar({value: 0, max: 2029});\n",
        "        }\n",
        "        "
       ],
       "metadata": {},
       "output_type": "display_data",
       "text": [
        "<IPython.core.display.Javascript at 0x1ef603c8>"
       ]
      },
      {
       "javascript": [
        "$('div#d3051e00-7ef5-45e6-9b85-d75ad1fd7b81').text('ETA:  0:00:11');"
       ],
       "metadata": {},
       "output_type": "display_data",
       "text": [
        "<IPython.core.display.Javascript at 0x1ef60b70>"
       ]
      },
      {
       "javascript": [
        "$('div#ceff84f9-4627-4d97-992f-0736e67d698e').text('231 of 2029');"
       ],
       "metadata": {},
       "output_type": "display_data",
       "text": [
        "<IPython.core.display.Javascript at 0x1ef60c88>"
       ]
      },
      {
       "javascript": [
        "$('div#bb0bb37f-39f6-4682-9a5c-997af288b001').text(' 11%');"
       ],
       "metadata": {},
       "output_type": "display_data",
       "text": [
        "<IPython.core.display.Javascript at 0x13b57978>"
       ]
      },
      {
       "javascript": [
        "\n",
        "        var $myPB = $(\"div#3c433c17-a122-4e8d-b3f7-59f63a27ff56\")\n",
        "        if ($myPB.hasClass('ui-progressbar')) {\n",
        "            $myPB.progressbar('value', 231);\n",
        "        } else {\n",
        "            $myPB.progressbar({value: 0, max: 2029});\n",
        "        }\n",
        "        "
       ],
       "metadata": {},
       "output_type": "display_data",
       "text": [
        "<IPython.core.display.Javascript at 0x1ef60c88>"
       ]
      },
      {
       "javascript": [
        "$('div#d3051e00-7ef5-45e6-9b85-d75ad1fd7b81').text('ETA:  0:00:11');"
       ],
       "metadata": {},
       "output_type": "display_data",
       "text": [
        "<IPython.core.display.Javascript at 0x1ef60da0>"
       ]
      },
      {
       "javascript": [
        "$('div#ceff84f9-4627-4d97-992f-0736e67d698e').text('252 of 2029');"
       ],
       "metadata": {},
       "output_type": "display_data",
       "text": [
        "<IPython.core.display.Javascript at 0x13b57978>"
       ]
      },
      {
       "javascript": [
        "$('div#bb0bb37f-39f6-4682-9a5c-997af288b001').text(' 12%');"
       ],
       "metadata": {},
       "output_type": "display_data",
       "text": [
        "<IPython.core.display.Javascript at 0x1ef60630>"
       ]
      },
      {
       "javascript": [
        "\n",
        "        var $myPB = $(\"div#3c433c17-a122-4e8d-b3f7-59f63a27ff56\")\n",
        "        if ($myPB.hasClass('ui-progressbar')) {\n",
        "            $myPB.progressbar('value', 252);\n",
        "        } else {\n",
        "            $myPB.progressbar({value: 0, max: 2029});\n",
        "        }\n",
        "        "
       ],
       "metadata": {},
       "output_type": "display_data",
       "text": [
        "<IPython.core.display.Javascript at 0x1ef60da0>"
       ]
      },
      {
       "javascript": [
        "$('div#d3051e00-7ef5-45e6-9b85-d75ad1fd7b81').text('ETA:  0:00:12');"
       ],
       "metadata": {},
       "output_type": "display_data",
       "text": [
        "<IPython.core.display.Javascript at 0x1ef60c18>"
       ]
      },
      {
       "javascript": [
        "$('div#ceff84f9-4627-4d97-992f-0736e67d698e').text('273 of 2029');"
       ],
       "metadata": {},
       "output_type": "display_data",
       "text": [
        "<IPython.core.display.Javascript at 0x13b57978>"
       ]
      },
      {
       "javascript": [
        "$('div#bb0bb37f-39f6-4682-9a5c-997af288b001').text(' 13%');"
       ],
       "metadata": {},
       "output_type": "display_data",
       "text": [
        "<IPython.core.display.Javascript at 0x1ef603c8>"
       ]
      },
      {
       "javascript": [
        "\n",
        "        var $myPB = $(\"div#3c433c17-a122-4e8d-b3f7-59f63a27ff56\")\n",
        "        if ($myPB.hasClass('ui-progressbar')) {\n",
        "            $myPB.progressbar('value', 273);\n",
        "        } else {\n",
        "            $myPB.progressbar({value: 0, max: 2029});\n",
        "        }\n",
        "        "
       ],
       "metadata": {},
       "output_type": "display_data",
       "text": [
        "<IPython.core.display.Javascript at 0x1ef60160>"
       ]
      },
      {
       "javascript": [
        "$('div#d3051e00-7ef5-45e6-9b85-d75ad1fd7b81').text('ETA:  0:00:12');"
       ],
       "metadata": {},
       "output_type": "display_data",
       "text": [
        "<IPython.core.display.Javascript at 0x1ef60c18>"
       ]
      },
      {
       "javascript": [
        "$('div#ceff84f9-4627-4d97-992f-0736e67d698e').text('294 of 2029');"
       ],
       "metadata": {},
       "output_type": "display_data",
       "text": [
        "<IPython.core.display.Javascript at 0x13b57978>"
       ]
      },
      {
       "javascript": [
        "$('div#bb0bb37f-39f6-4682-9a5c-997af288b001').text(' 14%');"
       ],
       "metadata": {},
       "output_type": "display_data",
       "text": [
        "<IPython.core.display.Javascript at 0x1ef60c18>"
       ]
      },
      {
       "javascript": [
        "\n",
        "        var $myPB = $(\"div#3c433c17-a122-4e8d-b3f7-59f63a27ff56\")\n",
        "        if ($myPB.hasClass('ui-progressbar')) {\n",
        "            $myPB.progressbar('value', 294);\n",
        "        } else {\n",
        "            $myPB.progressbar({value: 0, max: 2029});\n",
        "        }\n",
        "        "
       ],
       "metadata": {},
       "output_type": "display_data",
       "text": [
        "<IPython.core.display.Javascript at 0x1ef60630>"
       ]
      },
      {
       "javascript": [
        "$('div#d3051e00-7ef5-45e6-9b85-d75ad1fd7b81').text('ETA:  0:00:12');"
       ],
       "metadata": {},
       "output_type": "display_data",
       "text": [
        "<IPython.core.display.Javascript at 0x13b57978>"
       ]
      },
      {
       "javascript": [
        "$('div#ceff84f9-4627-4d97-992f-0736e67d698e').text('315 of 2029');"
       ],
       "metadata": {},
       "output_type": "display_data",
       "text": [
        "<IPython.core.display.Javascript at 0x1ef60630>"
       ]
      },
      {
       "javascript": [
        "$('div#bb0bb37f-39f6-4682-9a5c-997af288b001').text(' 15%');"
       ],
       "metadata": {},
       "output_type": "display_data",
       "text": [
        "<IPython.core.display.Javascript at 0x1ef608d0>"
       ]
      },
      {
       "javascript": [
        "\n",
        "        var $myPB = $(\"div#3c433c17-a122-4e8d-b3f7-59f63a27ff56\")\n",
        "        if ($myPB.hasClass('ui-progressbar')) {\n",
        "            $myPB.progressbar('value', 315);\n",
        "        } else {\n",
        "            $myPB.progressbar({value: 0, max: 2029});\n",
        "        }\n",
        "        "
       ],
       "metadata": {},
       "output_type": "display_data",
       "text": [
        "<IPython.core.display.Javascript at 0x1ef603c8>"
       ]
      },
      {
       "javascript": [
        "$('div#d3051e00-7ef5-45e6-9b85-d75ad1fd7b81').text('ETA:  0:00:12');"
       ],
       "metadata": {},
       "output_type": "display_data",
       "text": [
        "<IPython.core.display.Javascript at 0x13b57978>"
       ]
      },
      {
       "javascript": [
        "$('div#ceff84f9-4627-4d97-992f-0736e67d698e').text('336 of 2029');"
       ],
       "metadata": {},
       "output_type": "display_data",
       "text": [
        "<IPython.core.display.Javascript at 0x1ef603c8>"
       ]
      },
      {
       "javascript": [
        "$('div#bb0bb37f-39f6-4682-9a5c-997af288b001').text(' 16%');"
       ],
       "metadata": {},
       "output_type": "display_data",
       "text": [
        "<IPython.core.display.Javascript at 0x1ef60630>"
       ]
      },
      {
       "javascript": [
        "\n",
        "        var $myPB = $(\"div#3c433c17-a122-4e8d-b3f7-59f63a27ff56\")\n",
        "        if ($myPB.hasClass('ui-progressbar')) {\n",
        "            $myPB.progressbar('value', 336);\n",
        "        } else {\n",
        "            $myPB.progressbar({value: 0, max: 2029});\n",
        "        }\n",
        "        "
       ],
       "metadata": {},
       "output_type": "display_data",
       "text": [
        "<IPython.core.display.Javascript at 0x1ef60c88>"
       ]
      },
      {
       "javascript": [
        "$('div#d3051e00-7ef5-45e6-9b85-d75ad1fd7b81').text('ETA:  0:00:12');"
       ],
       "metadata": {},
       "output_type": "display_data",
       "text": [
        "<IPython.core.display.Javascript at 0x13b57978>"
       ]
      },
      {
       "javascript": [
        "$('div#ceff84f9-4627-4d97-992f-0736e67d698e').text('357 of 2029');"
       ],
       "metadata": {},
       "output_type": "display_data",
       "text": [
        "<IPython.core.display.Javascript at 0x1ef60c88>"
       ]
      },
      {
       "javascript": [
        "$('div#bb0bb37f-39f6-4682-9a5c-997af288b001').text(' 17%');"
       ],
       "metadata": {},
       "output_type": "display_data",
       "text": [
        "<IPython.core.display.Javascript at 0x1ef603c8>"
       ]
      },
      {
       "javascript": [
        "\n",
        "        var $myPB = $(\"div#3c433c17-a122-4e8d-b3f7-59f63a27ff56\")\n",
        "        if ($myPB.hasClass('ui-progressbar')) {\n",
        "            $myPB.progressbar('value', 357);\n",
        "        } else {\n",
        "            $myPB.progressbar({value: 0, max: 2029});\n",
        "        }\n",
        "        "
       ],
       "metadata": {},
       "output_type": "display_data",
       "text": [
        "<IPython.core.display.Javascript at 0x1ef60b70>"
       ]
      },
      {
       "javascript": [
        "$('div#d3051e00-7ef5-45e6-9b85-d75ad1fd7b81').text('ETA:  0:00:11');"
       ],
       "metadata": {},
       "output_type": "display_data",
       "text": [
        "<IPython.core.display.Javascript at 0x13b57978>"
       ]
      },
      {
       "javascript": [
        "$('div#ceff84f9-4627-4d97-992f-0736e67d698e').text('378 of 2029');"
       ],
       "metadata": {},
       "output_type": "display_data",
       "text": [
        "<IPython.core.display.Javascript at 0x1ef60b70>"
       ]
      },
      {
       "javascript": [
        "$('div#bb0bb37f-39f6-4682-9a5c-997af288b001').text(' 18%');"
       ],
       "metadata": {},
       "output_type": "display_data",
       "text": [
        "<IPython.core.display.Javascript at 0x1ef60da0>"
       ]
      },
      {
       "javascript": [
        "\n",
        "        var $myPB = $(\"div#3c433c17-a122-4e8d-b3f7-59f63a27ff56\")\n",
        "        if ($myPB.hasClass('ui-progressbar')) {\n",
        "            $myPB.progressbar('value', 378);\n",
        "        } else {\n",
        "            $myPB.progressbar({value: 0, max: 2029});\n",
        "        }\n",
        "        "
       ],
       "metadata": {},
       "output_type": "display_data",
       "text": [
        "<IPython.core.display.Javascript at 0x1ef60c18>"
       ]
      },
      {
       "javascript": [
        "$('div#d3051e00-7ef5-45e6-9b85-d75ad1fd7b81').text('ETA:  0:00:11');"
       ],
       "metadata": {},
       "output_type": "display_data",
       "text": [
        "<IPython.core.display.Javascript at 0x13b57978>"
       ]
      },
      {
       "javascript": [
        "$('div#ceff84f9-4627-4d97-992f-0736e67d698e').text('399 of 2029');"
       ],
       "metadata": {},
       "output_type": "display_data",
       "text": [
        "<IPython.core.display.Javascript at 0x1ef60c18>"
       ]
      },
      {
       "javascript": [
        "$('div#bb0bb37f-39f6-4682-9a5c-997af288b001').text(' 19%');"
       ],
       "metadata": {},
       "output_type": "display_data",
       "text": [
        "<IPython.core.display.Javascript at 0x1ef608d0>"
       ]
      },
      {
       "javascript": [
        "\n",
        "        var $myPB = $(\"div#3c433c17-a122-4e8d-b3f7-59f63a27ff56\")\n",
        "        if ($myPB.hasClass('ui-progressbar')) {\n",
        "            $myPB.progressbar('value', 399);\n",
        "        } else {\n",
        "            $myPB.progressbar({value: 0, max: 2029});\n",
        "        }\n",
        "        "
       ],
       "metadata": {},
       "output_type": "display_data",
       "text": [
        "<IPython.core.display.Javascript at 0x1ef60b70>"
       ]
      },
      {
       "javascript": [
        "$('div#d3051e00-7ef5-45e6-9b85-d75ad1fd7b81').text('ETA:  0:00:11');"
       ],
       "metadata": {},
       "output_type": "display_data",
       "text": [
        "<IPython.core.display.Javascript at 0x13b57978>"
       ]
      },
      {
       "javascript": [
        "$('div#ceff84f9-4627-4d97-992f-0736e67d698e').text('420 of 2029');"
       ],
       "metadata": {},
       "output_type": "display_data",
       "text": [
        "<IPython.core.display.Javascript at 0x1ef60b70>"
       ]
      },
      {
       "javascript": [
        "$('div#bb0bb37f-39f6-4682-9a5c-997af288b001').text(' 20%');"
       ],
       "metadata": {},
       "output_type": "display_data",
       "text": [
        "<IPython.core.display.Javascript at 0x1ef60c88>"
       ]
      },
      {
       "javascript": [
        "\n",
        "        var $myPB = $(\"div#3c433c17-a122-4e8d-b3f7-59f63a27ff56\")\n",
        "        if ($myPB.hasClass('ui-progressbar')) {\n",
        "            $myPB.progressbar('value', 420);\n",
        "        } else {\n",
        "            $myPB.progressbar({value: 0, max: 2029});\n",
        "        }\n",
        "        "
       ],
       "metadata": {},
       "output_type": "display_data",
       "text": [
        "<IPython.core.display.Javascript at 0x1ef60c18>"
       ]
      },
      {
       "javascript": [
        "$('div#d3051e00-7ef5-45e6-9b85-d75ad1fd7b81').text('ETA:  0:00:11');"
       ],
       "metadata": {},
       "output_type": "display_data",
       "text": [
        "<IPython.core.display.Javascript at 0x13b57978>"
       ]
      },
      {
       "javascript": [
        "$('div#ceff84f9-4627-4d97-992f-0736e67d698e').text('441 of 2029');"
       ],
       "metadata": {},
       "output_type": "display_data",
       "text": [
        "<IPython.core.display.Javascript at 0x1ef60c18>"
       ]
      },
      {
       "javascript": [
        "$('div#bb0bb37f-39f6-4682-9a5c-997af288b001').text(' 21%');"
       ],
       "metadata": {},
       "output_type": "display_data",
       "text": [
        "<IPython.core.display.Javascript at 0x1ef60b70>"
       ]
      },
      {
       "javascript": [
        "\n",
        "        var $myPB = $(\"div#3c433c17-a122-4e8d-b3f7-59f63a27ff56\")\n",
        "        if ($myPB.hasClass('ui-progressbar')) {\n",
        "            $myPB.progressbar('value', 441);\n",
        "        } else {\n",
        "            $myPB.progressbar({value: 0, max: 2029});\n",
        "        }\n",
        "        "
       ],
       "metadata": {},
       "output_type": "display_data",
       "text": [
        "<IPython.core.display.Javascript at 0x1ef60630>"
       ]
      },
      {
       "javascript": [
        "$('div#d3051e00-7ef5-45e6-9b85-d75ad1fd7b81').text('ETA:  0:00:11');"
       ],
       "metadata": {},
       "output_type": "display_data",
       "text": [
        "<IPython.core.display.Javascript at 0x13b57978>"
       ]
      },
      {
       "javascript": [
        "$('div#ceff84f9-4627-4d97-992f-0736e67d698e').text('462 of 2029');"
       ],
       "metadata": {},
       "output_type": "display_data",
       "text": [
        "<IPython.core.display.Javascript at 0x1ef603c8>"
       ]
      },
      {
       "javascript": [
        "$('div#bb0bb37f-39f6-4682-9a5c-997af288b001').text(' 22%');"
       ],
       "metadata": {},
       "output_type": "display_data",
       "text": [
        "<IPython.core.display.Javascript at 0x1ef60c88>"
       ]
      },
      {
       "javascript": [
        "\n",
        "        var $myPB = $(\"div#3c433c17-a122-4e8d-b3f7-59f63a27ff56\")\n",
        "        if ($myPB.hasClass('ui-progressbar')) {\n",
        "            $myPB.progressbar('value', 462);\n",
        "        } else {\n",
        "            $myPB.progressbar({value: 0, max: 2029});\n",
        "        }\n",
        "        "
       ],
       "metadata": {},
       "output_type": "display_data",
       "text": [
        "<IPython.core.display.Javascript at 0x13b57978>"
       ]
      },
      {
       "javascript": [
        "$('div#d3051e00-7ef5-45e6-9b85-d75ad1fd7b81').text('ETA:  0:00:11');"
       ],
       "metadata": {},
       "output_type": "display_data",
       "text": [
        "<IPython.core.display.Javascript at 0x1ef60c88>"
       ]
      },
      {
       "javascript": [
        "$('div#ceff84f9-4627-4d97-992f-0736e67d698e').text('483 of 2029');"
       ],
       "metadata": {},
       "output_type": "display_data",
       "text": [
        "<IPython.core.display.Javascript at 0x1ef60da0>"
       ]
      },
      {
       "javascript": [
        "$('div#bb0bb37f-39f6-4682-9a5c-997af288b001').text(' 23%');"
       ],
       "metadata": {},
       "output_type": "display_data",
       "text": [
        "<IPython.core.display.Javascript at 0x1ef60b70>"
       ]
      },
      {
       "javascript": [
        "\n",
        "        var $myPB = $(\"div#3c433c17-a122-4e8d-b3f7-59f63a27ff56\")\n",
        "        if ($myPB.hasClass('ui-progressbar')) {\n",
        "            $myPB.progressbar('value', 483);\n",
        "        } else {\n",
        "            $myPB.progressbar({value: 0, max: 2029});\n",
        "        }\n",
        "        "
       ],
       "metadata": {},
       "output_type": "display_data",
       "text": [
        "<IPython.core.display.Javascript at 0x13b57978>"
       ]
      },
      {
       "javascript": [
        "$('div#d3051e00-7ef5-45e6-9b85-d75ad1fd7b81').text('ETA:  0:00:11');"
       ],
       "metadata": {},
       "output_type": "display_data",
       "text": [
        "<IPython.core.display.Javascript at 0x1ef60b70>"
       ]
      },
      {
       "javascript": [
        "$('div#ceff84f9-4627-4d97-992f-0736e67d698e').text('504 of 2029');"
       ],
       "metadata": {},
       "output_type": "display_data",
       "text": [
        "<IPython.core.display.Javascript at 0x1ef60c18>"
       ]
      },
      {
       "javascript": [
        "$('div#bb0bb37f-39f6-4682-9a5c-997af288b001').text(' 24%');"
       ],
       "metadata": {},
       "output_type": "display_data",
       "text": [
        "<IPython.core.display.Javascript at 0x1ef60a58>"
       ]
      },
      {
       "javascript": [
        "\n",
        "        var $myPB = $(\"div#3c433c17-a122-4e8d-b3f7-59f63a27ff56\")\n",
        "        if ($myPB.hasClass('ui-progressbar')) {\n",
        "            $myPB.progressbar('value', 504);\n",
        "        } else {\n",
        "            $myPB.progressbar({value: 0, max: 2029});\n",
        "        }\n",
        "        "
       ],
       "metadata": {},
       "output_type": "display_data",
       "text": [
        "<IPython.core.display.Javascript at 0x13b57978>"
       ]
      },
      {
       "javascript": [
        "$('div#d3051e00-7ef5-45e6-9b85-d75ad1fd7b81').text('ETA:  0:00:10');"
       ],
       "metadata": {},
       "output_type": "display_data",
       "text": [
        "<IPython.core.display.Javascript at 0x1ef60a58>"
       ]
      },
      {
       "javascript": [
        "$('div#ceff84f9-4627-4d97-992f-0736e67d698e').text('525 of 2029');"
       ],
       "metadata": {},
       "output_type": "display_data",
       "text": [
        "<IPython.core.display.Javascript at 0x1ef60c88>"
       ]
      },
      {
       "javascript": [
        "$('div#bb0bb37f-39f6-4682-9a5c-997af288b001').text(' 25%');"
       ],
       "metadata": {},
       "output_type": "display_data",
       "text": [
        "<IPython.core.display.Javascript at 0x1ef603c8>"
       ]
      },
      {
       "javascript": [
        "\n",
        "        var $myPB = $(\"div#3c433c17-a122-4e8d-b3f7-59f63a27ff56\")\n",
        "        if ($myPB.hasClass('ui-progressbar')) {\n",
        "            $myPB.progressbar('value', 525);\n",
        "        } else {\n",
        "            $myPB.progressbar({value: 0, max: 2029});\n",
        "        }\n",
        "        "
       ],
       "metadata": {},
       "output_type": "display_data",
       "text": [
        "<IPython.core.display.Javascript at 0x13b57978>"
       ]
      },
      {
       "javascript": [
        "$('div#d3051e00-7ef5-45e6-9b85-d75ad1fd7b81').text('ETA:  0:00:10');"
       ],
       "metadata": {},
       "output_type": "display_data",
       "text": [
        "<IPython.core.display.Javascript at 0x1ef603c8>"
       ]
      },
      {
       "javascript": [
        "$('div#ceff84f9-4627-4d97-992f-0736e67d698e').text('546 of 2029');"
       ],
       "metadata": {},
       "output_type": "display_data",
       "text": [
        "<IPython.core.display.Javascript at 0x1ef608d0>"
       ]
      },
      {
       "javascript": [
        "$('div#bb0bb37f-39f6-4682-9a5c-997af288b001').text(' 26%');"
       ],
       "metadata": {},
       "output_type": "display_data",
       "text": [
        "<IPython.core.display.Javascript at 0x1ef60da0>"
       ]
      },
      {
       "javascript": [
        "\n",
        "        var $myPB = $(\"div#3c433c17-a122-4e8d-b3f7-59f63a27ff56\")\n",
        "        if ($myPB.hasClass('ui-progressbar')) {\n",
        "            $myPB.progressbar('value', 546);\n",
        "        } else {\n",
        "            $myPB.progressbar({value: 0, max: 2029});\n",
        "        }\n",
        "        "
       ],
       "metadata": {},
       "output_type": "display_data",
       "text": [
        "<IPython.core.display.Javascript at 0x13b57978>"
       ]
      },
      {
       "javascript": [
        "$('div#d3051e00-7ef5-45e6-9b85-d75ad1fd7b81').text('ETA:  0:00:10');"
       ],
       "metadata": {},
       "output_type": "display_data",
       "text": [
        "<IPython.core.display.Javascript at 0x1ef60da0>"
       ]
      },
      {
       "javascript": [
        "$('div#ceff84f9-4627-4d97-992f-0736e67d698e').text('567 of 2029');"
       ],
       "metadata": {},
       "output_type": "display_data",
       "text": [
        "<IPython.core.display.Javascript at 0x1ef60b70>"
       ]
      },
      {
       "javascript": [
        "$('div#bb0bb37f-39f6-4682-9a5c-997af288b001').text(' 27%');"
       ],
       "metadata": {},
       "output_type": "display_data",
       "text": [
        "<IPython.core.display.Javascript at 0x1ef60160>"
       ]
      },
      {
       "javascript": [
        "\n",
        "        var $myPB = $(\"div#3c433c17-a122-4e8d-b3f7-59f63a27ff56\")\n",
        "        if ($myPB.hasClass('ui-progressbar')) {\n",
        "            $myPB.progressbar('value', 567);\n",
        "        } else {\n",
        "            $myPB.progressbar({value: 0, max: 2029});\n",
        "        }\n",
        "        "
       ],
       "metadata": {},
       "output_type": "display_data",
       "text": [
        "<IPython.core.display.Javascript at 0x13b57978>"
       ]
      },
      {
       "javascript": [
        "$('div#d3051e00-7ef5-45e6-9b85-d75ad1fd7b81').text('ETA:  0:00:10');"
       ],
       "metadata": {},
       "output_type": "display_data",
       "text": [
        "<IPython.core.display.Javascript at 0x1ef60160>"
       ]
      },
      {
       "javascript": [
        "$('div#ceff84f9-4627-4d97-992f-0736e67d698e').text('588 of 2029');"
       ],
       "metadata": {},
       "output_type": "display_data",
       "text": [
        "<IPython.core.display.Javascript at 0x1ef60a58>"
       ]
      },
      {
       "javascript": [
        "$('div#bb0bb37f-39f6-4682-9a5c-997af288b001').text(' 28%');"
       ],
       "metadata": {},
       "output_type": "display_data",
       "text": [
        "<IPython.core.display.Javascript at 0x13b57978>"
       ]
      },
      {
       "javascript": [
        "\n",
        "        var $myPB = $(\"div#3c433c17-a122-4e8d-b3f7-59f63a27ff56\")\n",
        "        if ($myPB.hasClass('ui-progressbar')) {\n",
        "            $myPB.progressbar('value', 588);\n",
        "        } else {\n",
        "            $myPB.progressbar({value: 0, max: 2029});\n",
        "        }\n",
        "        "
       ],
       "metadata": {},
       "output_type": "display_data",
       "text": [
        "<IPython.core.display.Javascript at 0x1ef60a58>"
       ]
      },
      {
       "javascript": [
        "$('div#d3051e00-7ef5-45e6-9b85-d75ad1fd7b81').text('ETA:  0:00:09');"
       ],
       "metadata": {},
       "output_type": "display_data",
       "text": [
        "<IPython.core.display.Javascript at 0x1ef60c88>"
       ]
      },
      {
       "javascript": [
        "$('div#ceff84f9-4627-4d97-992f-0736e67d698e').text('609 of 2029');"
       ],
       "metadata": {},
       "output_type": "display_data",
       "text": [
        "<IPython.core.display.Javascript at 0x1ef603c8>"
       ]
      },
      {
       "javascript": [
        "$('div#bb0bb37f-39f6-4682-9a5c-997af288b001').text(' 30%');"
       ],
       "metadata": {},
       "output_type": "display_data",
       "text": [
        "<IPython.core.display.Javascript at 0x13b57978>"
       ]
      },
      {
       "javascript": [
        "\n",
        "        var $myPB = $(\"div#3c433c17-a122-4e8d-b3f7-59f63a27ff56\")\n",
        "        if ($myPB.hasClass('ui-progressbar')) {\n",
        "            $myPB.progressbar('value', 609);\n",
        "        } else {\n",
        "            $myPB.progressbar({value: 0, max: 2029});\n",
        "        }\n",
        "        "
       ],
       "metadata": {},
       "output_type": "display_data",
       "text": [
        "<IPython.core.display.Javascript at 0x1ef603c8>"
       ]
      },
      {
       "javascript": [
        "$('div#d3051e00-7ef5-45e6-9b85-d75ad1fd7b81').text('ETA:  0:00:09');"
       ],
       "metadata": {},
       "output_type": "display_data",
       "text": [
        "<IPython.core.display.Javascript at 0x1ef608d0>"
       ]
      },
      {
       "javascript": [
        "$('div#ceff84f9-4627-4d97-992f-0736e67d698e').text('630 of 2029');"
       ],
       "metadata": {},
       "output_type": "display_data",
       "text": [
        "<IPython.core.display.Javascript at 0x1ef60c18>"
       ]
      },
      {
       "javascript": [
        "$('div#bb0bb37f-39f6-4682-9a5c-997af288b001').text(' 31%');"
       ],
       "metadata": {},
       "output_type": "display_data",
       "text": [
        "<IPython.core.display.Javascript at 0x13b57978>"
       ]
      },
      {
       "javascript": [
        "\n",
        "        var $myPB = $(\"div#3c433c17-a122-4e8d-b3f7-59f63a27ff56\")\n",
        "        if ($myPB.hasClass('ui-progressbar')) {\n",
        "            $myPB.progressbar('value', 630);\n",
        "        } else {\n",
        "            $myPB.progressbar({value: 0, max: 2029});\n",
        "        }\n",
        "        "
       ],
       "metadata": {},
       "output_type": "display_data",
       "text": [
        "<IPython.core.display.Javascript at 0x1ef60c18>"
       ]
      },
      {
       "javascript": [
        "$('div#d3051e00-7ef5-45e6-9b85-d75ad1fd7b81').text('ETA:  0:00:09');"
       ],
       "metadata": {},
       "output_type": "display_data",
       "text": [
        "<IPython.core.display.Javascript at 0x1ef60b70>"
       ]
      },
      {
       "javascript": [
        "$('div#ceff84f9-4627-4d97-992f-0736e67d698e').text('651 of 2029');"
       ],
       "metadata": {},
       "output_type": "display_data",
       "text": [
        "<IPython.core.display.Javascript at 0x1ef60a58>"
       ]
      },
      {
       "javascript": [
        "$('div#bb0bb37f-39f6-4682-9a5c-997af288b001').text(' 32%');"
       ],
       "metadata": {},
       "output_type": "display_data",
       "text": [
        "<IPython.core.display.Javascript at 0x13b57978>"
       ]
      },
      {
       "javascript": [
        "\n",
        "        var $myPB = $(\"div#3c433c17-a122-4e8d-b3f7-59f63a27ff56\")\n",
        "        if ($myPB.hasClass('ui-progressbar')) {\n",
        "            $myPB.progressbar('value', 651);\n",
        "        } else {\n",
        "            $myPB.progressbar({value: 0, max: 2029});\n",
        "        }\n",
        "        "
       ],
       "metadata": {},
       "output_type": "display_data",
       "text": [
        "<IPython.core.display.Javascript at 0x1ef60a58>"
       ]
      },
      {
       "javascript": [
        "$('div#d3051e00-7ef5-45e6-9b85-d75ad1fd7b81').text('ETA:  0:00:09');"
       ],
       "metadata": {},
       "output_type": "display_data",
       "text": [
        "<IPython.core.display.Javascript at 0x1ef60160>"
       ]
      },
      {
       "javascript": [
        "$('div#ceff84f9-4627-4d97-992f-0736e67d698e').text('672 of 2029');"
       ],
       "metadata": {},
       "output_type": "display_data",
       "text": [
        "<IPython.core.display.Javascript at 0x1ef603c8>"
       ]
      },
      {
       "javascript": [
        "$('div#bb0bb37f-39f6-4682-9a5c-997af288b001').text(' 33%');"
       ],
       "metadata": {},
       "output_type": "display_data",
       "text": [
        "<IPython.core.display.Javascript at 0x13b57978>"
       ]
      },
      {
       "javascript": [
        "\n",
        "        var $myPB = $(\"div#3c433c17-a122-4e8d-b3f7-59f63a27ff56\")\n",
        "        if ($myPB.hasClass('ui-progressbar')) {\n",
        "            $myPB.progressbar('value', 672);\n",
        "        } else {\n",
        "            $myPB.progressbar({value: 0, max: 2029});\n",
        "        }\n",
        "        "
       ],
       "metadata": {},
       "output_type": "display_data",
       "text": [
        "<IPython.core.display.Javascript at 0x1ef603c8>"
       ]
      },
      {
       "javascript": [
        "$('div#d3051e00-7ef5-45e6-9b85-d75ad1fd7b81').text('ETA:  0:00:09');"
       ],
       "metadata": {},
       "output_type": "display_data",
       "text": [
        "<IPython.core.display.Javascript at 0x1ef60d30>"
       ]
      },
      {
       "javascript": [
        "$('div#ceff84f9-4627-4d97-992f-0736e67d698e').text('693 of 2029');"
       ],
       "metadata": {},
       "output_type": "display_data",
       "text": [
        "<IPython.core.display.Javascript at 0x1ef60c88>"
       ]
      },
      {
       "javascript": [
        "$('div#bb0bb37f-39f6-4682-9a5c-997af288b001').text(' 34%');"
       ],
       "metadata": {},
       "output_type": "display_data",
       "text": [
        "<IPython.core.display.Javascript at 0x13b57978>"
       ]
      },
      {
       "javascript": [
        "\n",
        "        var $myPB = $(\"div#3c433c17-a122-4e8d-b3f7-59f63a27ff56\")\n",
        "        if ($myPB.hasClass('ui-progressbar')) {\n",
        "            $myPB.progressbar('value', 693);\n",
        "        } else {\n",
        "            $myPB.progressbar({value: 0, max: 2029});\n",
        "        }\n",
        "        "
       ],
       "metadata": {},
       "output_type": "display_data",
       "text": [
        "<IPython.core.display.Javascript at 0x1ef60a58>"
       ]
      },
      {
       "javascript": [
        "$('div#d3051e00-7ef5-45e6-9b85-d75ad1fd7b81').text('ETA:  0:00:09');"
       ],
       "metadata": {},
       "output_type": "display_data",
       "text": [
        "<IPython.core.display.Javascript at 0x1ef608d0>"
       ]
      },
      {
       "javascript": [
        "$('div#ceff84f9-4627-4d97-992f-0736e67d698e').text('714 of 2029');"
       ],
       "metadata": {},
       "output_type": "display_data",
       "text": [
        "<IPython.core.display.Javascript at 0x13b57978>"
       ]
      },
      {
       "javascript": [
        "$('div#bb0bb37f-39f6-4682-9a5c-997af288b001').text(' 35%');"
       ],
       "metadata": {},
       "output_type": "display_data",
       "text": [
        "<IPython.core.display.Javascript at 0x1ef603c8>"
       ]
      },
      {
       "javascript": [
        "\n",
        "        var $myPB = $(\"div#3c433c17-a122-4e8d-b3f7-59f63a27ff56\")\n",
        "        if ($myPB.hasClass('ui-progressbar')) {\n",
        "            $myPB.progressbar('value', 714);\n",
        "        } else {\n",
        "            $myPB.progressbar({value: 0, max: 2029});\n",
        "        }\n",
        "        "
       ],
       "metadata": {},
       "output_type": "display_data",
       "text": [
        "<IPython.core.display.Javascript at 0x1ef60b70>"
       ]
      },
      {
       "javascript": [
        "$('div#d3051e00-7ef5-45e6-9b85-d75ad1fd7b81').text('ETA:  0:00:08');"
       ],
       "metadata": {},
       "output_type": "display_data",
       "text": [
        "<IPython.core.display.Javascript at 0x1ef60c18>"
       ]
      },
      {
       "javascript": [
        "$('div#ceff84f9-4627-4d97-992f-0736e67d698e').text('735 of 2029');"
       ],
       "metadata": {},
       "output_type": "display_data",
       "text": [
        "<IPython.core.display.Javascript at 0x13b57978>"
       ]
      },
      {
       "javascript": [
        "$('div#bb0bb37f-39f6-4682-9a5c-997af288b001').text(' 36%');"
       ],
       "metadata": {},
       "output_type": "display_data",
       "text": [
        "<IPython.core.display.Javascript at 0x1ef60c18>"
       ]
      },
      {
       "javascript": [
        "\n",
        "        var $myPB = $(\"div#3c433c17-a122-4e8d-b3f7-59f63a27ff56\")\n",
        "        if ($myPB.hasClass('ui-progressbar')) {\n",
        "            $myPB.progressbar('value', 735);\n",
        "        } else {\n",
        "            $myPB.progressbar({value: 0, max: 2029});\n",
        "        }\n",
        "        "
       ],
       "metadata": {},
       "output_type": "display_data",
       "text": [
        "<IPython.core.display.Javascript at 0x1ef60c88>"
       ]
      },
      {
       "javascript": [
        "$('div#d3051e00-7ef5-45e6-9b85-d75ad1fd7b81').text('ETA:  0:00:08');"
       ],
       "metadata": {},
       "output_type": "display_data",
       "text": [
        "<IPython.core.display.Javascript at 0x1ef60a58>"
       ]
      },
      {
       "javascript": [
        "$('div#ceff84f9-4627-4d97-992f-0736e67d698e').text('756 of 2029');"
       ],
       "metadata": {},
       "output_type": "display_data",
       "text": [
        "<IPython.core.display.Javascript at 0x13b57978>"
       ]
      },
      {
       "javascript": [
        "$('div#bb0bb37f-39f6-4682-9a5c-997af288b001').text(' 37%');"
       ],
       "metadata": {},
       "output_type": "display_data",
       "text": [
        "<IPython.core.display.Javascript at 0x1ef60a58>"
       ]
      },
      {
       "javascript": [
        "\n",
        "        var $myPB = $(\"div#3c433c17-a122-4e8d-b3f7-59f63a27ff56\")\n",
        "        if ($myPB.hasClass('ui-progressbar')) {\n",
        "            $myPB.progressbar('value', 756);\n",
        "        } else {\n",
        "            $myPB.progressbar({value: 0, max: 2029});\n",
        "        }\n",
        "        "
       ],
       "metadata": {},
       "output_type": "display_data",
       "text": [
        "<IPython.core.display.Javascript at 0x1ef60d30>"
       ]
      },
      {
       "javascript": [
        "$('div#d3051e00-7ef5-45e6-9b85-d75ad1fd7b81').text('ETA:  0:00:08');"
       ],
       "metadata": {},
       "output_type": "display_data",
       "text": [
        "<IPython.core.display.Javascript at 0x1ef603c8>"
       ]
      },
      {
       "javascript": [
        "$('div#ceff84f9-4627-4d97-992f-0736e67d698e').text('777 of 2029');"
       ],
       "metadata": {},
       "output_type": "display_data",
       "text": [
        "<IPython.core.display.Javascript at 0x13b57978>"
       ]
      },
      {
       "javascript": [
        "$('div#bb0bb37f-39f6-4682-9a5c-997af288b001').text(' 38%');"
       ],
       "metadata": {},
       "output_type": "display_data",
       "text": [
        "<IPython.core.display.Javascript at 0x1ef60c18>"
       ]
      },
      {
       "javascript": [
        "\n",
        "        var $myPB = $(\"div#3c433c17-a122-4e8d-b3f7-59f63a27ff56\")\n",
        "        if ($myPB.hasClass('ui-progressbar')) {\n",
        "            $myPB.progressbar('value', 777);\n",
        "        } else {\n",
        "            $myPB.progressbar({value: 0, max: 2029});\n",
        "        }\n",
        "        "
       ],
       "metadata": {},
       "output_type": "display_data",
       "text": [
        "<IPython.core.display.Javascript at 0x1ef603c8>"
       ]
      },
      {
       "javascript": [
        "$('div#d3051e00-7ef5-45e6-9b85-d75ad1fd7b81').text('ETA:  0:00:08');"
       ],
       "metadata": {},
       "output_type": "display_data",
       "text": [
        "<IPython.core.display.Javascript at 0x13b57978>"
       ]
      },
      {
       "javascript": [
        "$('div#ceff84f9-4627-4d97-992f-0736e67d698e').text('798 of 2029');"
       ],
       "metadata": {},
       "output_type": "display_data",
       "text": [
        "<IPython.core.display.Javascript at 0x1ef603c8>"
       ]
      },
      {
       "javascript": [
        "$('div#bb0bb37f-39f6-4682-9a5c-997af288b001').text(' 39%');"
       ],
       "metadata": {},
       "output_type": "display_data",
       "text": [
        "<IPython.core.display.Javascript at 0x1ef608d0>"
       ]
      },
      {
       "javascript": [
        "\n",
        "        var $myPB = $(\"div#3c433c17-a122-4e8d-b3f7-59f63a27ff56\")\n",
        "        if ($myPB.hasClass('ui-progressbar')) {\n",
        "            $myPB.progressbar('value', 798);\n",
        "        } else {\n",
        "            $myPB.progressbar({value: 0, max: 2029});\n",
        "        }\n",
        "        "
       ],
       "metadata": {},
       "output_type": "display_data",
       "text": [
        "<IPython.core.display.Javascript at 0x1ef60a58>"
       ]
      },
      {
       "javascript": [
        "$('div#d3051e00-7ef5-45e6-9b85-d75ad1fd7b81').text('ETA:  0:00:08');"
       ],
       "metadata": {},
       "output_type": "display_data",
       "text": [
        "<IPython.core.display.Javascript at 0x13b57978>"
       ]
      },
      {
       "javascript": [
        "$('div#ceff84f9-4627-4d97-992f-0736e67d698e').text('819 of 2029');"
       ],
       "metadata": {},
       "output_type": "display_data",
       "text": [
        "<IPython.core.display.Javascript at 0x1ef60a58>"
       ]
      },
      {
       "javascript": [
        "$('div#bb0bb37f-39f6-4682-9a5c-997af288b001').text(' 40%');"
       ],
       "metadata": {},
       "output_type": "display_data",
       "text": [
        "<IPython.core.display.Javascript at 0x1ef60160>"
       ]
      },
      {
       "javascript": [
        "\n",
        "        var $myPB = $(\"div#3c433c17-a122-4e8d-b3f7-59f63a27ff56\")\n",
        "        if ($myPB.hasClass('ui-progressbar')) {\n",
        "            $myPB.progressbar('value', 819);\n",
        "        } else {\n",
        "            $myPB.progressbar({value: 0, max: 2029});\n",
        "        }\n",
        "        "
       ],
       "metadata": {},
       "output_type": "display_data",
       "text": [
        "<IPython.core.display.Javascript at 0x1ef603c8>"
       ]
      },
      {
       "javascript": [
        "$('div#d3051e00-7ef5-45e6-9b85-d75ad1fd7b81').text('ETA:  0:00:08');"
       ],
       "metadata": {},
       "output_type": "display_data",
       "text": [
        "<IPython.core.display.Javascript at 0x13b57978>"
       ]
      },
      {
       "javascript": [
        "$('div#ceff84f9-4627-4d97-992f-0736e67d698e').text('840 of 2029');"
       ],
       "metadata": {},
       "output_type": "display_data",
       "text": [
        "<IPython.core.display.Javascript at 0x1ef603c8>"
       ]
      },
      {
       "javascript": [
        "$('div#bb0bb37f-39f6-4682-9a5c-997af288b001').text(' 41%');"
       ],
       "metadata": {},
       "output_type": "display_data",
       "text": [
        "<IPython.core.display.Javascript at 0x1ef60c88>"
       ]
      },
      {
       "javascript": [
        "\n",
        "        var $myPB = $(\"div#3c433c17-a122-4e8d-b3f7-59f63a27ff56\")\n",
        "        if ($myPB.hasClass('ui-progressbar')) {\n",
        "            $myPB.progressbar('value', 840);\n",
        "        } else {\n",
        "            $myPB.progressbar({value: 0, max: 2029});\n",
        "        }\n",
        "        "
       ],
       "metadata": {},
       "output_type": "display_data",
       "text": [
        "<IPython.core.display.Javascript at 0x1ef60b70>"
       ]
      },
      {
       "javascript": [
        "$('div#d3051e00-7ef5-45e6-9b85-d75ad1fd7b81').text('ETA:  0:00:08');"
       ],
       "metadata": {},
       "output_type": "display_data",
       "text": [
        "<IPython.core.display.Javascript at 0x13b57978>"
       ]
      },
      {
       "javascript": [
        "$('div#ceff84f9-4627-4d97-992f-0736e67d698e').text('861 of 2029');"
       ],
       "metadata": {},
       "output_type": "display_data",
       "text": [
        "<IPython.core.display.Javascript at 0x1ef60b70>"
       ]
      },
      {
       "javascript": [
        "$('div#bb0bb37f-39f6-4682-9a5c-997af288b001').text(' 42%');"
       ],
       "metadata": {},
       "output_type": "display_data",
       "text": [
        "<IPython.core.display.Javascript at 0x1ef60c18>"
       ]
      },
      {
       "javascript": [
        "\n",
        "        var $myPB = $(\"div#3c433c17-a122-4e8d-b3f7-59f63a27ff56\")\n",
        "        if ($myPB.hasClass('ui-progressbar')) {\n",
        "            $myPB.progressbar('value', 861);\n",
        "        } else {\n",
        "            $myPB.progressbar({value: 0, max: 2029});\n",
        "        }\n",
        "        "
       ],
       "metadata": {},
       "output_type": "display_data",
       "text": [
        "<IPython.core.display.Javascript at 0x1ef60a58>"
       ]
      },
      {
       "javascript": [
        "$('div#d3051e00-7ef5-45e6-9b85-d75ad1fd7b81').text('ETA:  0:00:07');"
       ],
       "metadata": {},
       "output_type": "display_data",
       "text": [
        "<IPython.core.display.Javascript at 0x13b57978>"
       ]
      },
      {
       "javascript": [
        "$('div#ceff84f9-4627-4d97-992f-0736e67d698e').text('882 of 2029');"
       ],
       "metadata": {},
       "output_type": "display_data",
       "text": [
        "<IPython.core.display.Javascript at 0x1ef60a58>"
       ]
      },
      {
       "javascript": [
        "$('div#bb0bb37f-39f6-4682-9a5c-997af288b001').text(' 43%');"
       ],
       "metadata": {},
       "output_type": "display_data",
       "text": [
        "<IPython.core.display.Javascript at 0x1ef60b70>"
       ]
      },
      {
       "javascript": [
        "\n",
        "        var $myPB = $(\"div#3c433c17-a122-4e8d-b3f7-59f63a27ff56\")\n",
        "        if ($myPB.hasClass('ui-progressbar')) {\n",
        "            $myPB.progressbar('value', 882);\n",
        "        } else {\n",
        "            $myPB.progressbar({value: 0, max: 2029});\n",
        "        }\n",
        "        "
       ],
       "metadata": {},
       "output_type": "display_data",
       "text": [
        "<IPython.core.display.Javascript at 0x13b57978>"
       ]
      },
      {
       "javascript": [
        "$('div#d3051e00-7ef5-45e6-9b85-d75ad1fd7b81').text('ETA:  0:00:07');"
       ],
       "metadata": {},
       "output_type": "display_data",
       "text": [
        "<IPython.core.display.Javascript at 0x1ef60b70>"
       ]
      },
      {
       "javascript": [
        "$('div#ceff84f9-4627-4d97-992f-0736e67d698e').text('903 of 2029');"
       ],
       "metadata": {},
       "output_type": "display_data",
       "text": [
        "<IPython.core.display.Javascript at 0x1ef608d0>"
       ]
      },
      {
       "javascript": [
        "$('div#bb0bb37f-39f6-4682-9a5c-997af288b001').text(' 44%');"
       ],
       "metadata": {},
       "output_type": "display_data",
       "text": [
        "<IPython.core.display.Javascript at 0x1ef603c8>"
       ]
      },
      {
       "javascript": [
        "\n",
        "        var $myPB = $(\"div#3c433c17-a122-4e8d-b3f7-59f63a27ff56\")\n",
        "        if ($myPB.hasClass('ui-progressbar')) {\n",
        "            $myPB.progressbar('value', 903);\n",
        "        } else {\n",
        "            $myPB.progressbar({value: 0, max: 2029});\n",
        "        }\n",
        "        "
       ],
       "metadata": {},
       "output_type": "display_data",
       "text": [
        "<IPython.core.display.Javascript at 0x13b57978>"
       ]
      },
      {
       "javascript": [
        "$('div#d3051e00-7ef5-45e6-9b85-d75ad1fd7b81').text('ETA:  0:00:07');"
       ],
       "metadata": {},
       "output_type": "display_data",
       "text": [
        "<IPython.core.display.Javascript at 0x1ef603c8>"
       ]
      },
      {
       "javascript": [
        "$('div#ceff84f9-4627-4d97-992f-0736e67d698e').text('924 of 2029');"
       ],
       "metadata": {},
       "output_type": "display_data",
       "text": [
        "<IPython.core.display.Javascript at 0x1ef60d30>"
       ]
      },
      {
       "javascript": [
        "$('div#bb0bb37f-39f6-4682-9a5c-997af288b001').text(' 45%');"
       ],
       "metadata": {},
       "output_type": "display_data",
       "text": [
        "<IPython.core.display.Javascript at 0x1ef60160>"
       ]
      },
      {
       "javascript": [
        "\n",
        "        var $myPB = $(\"div#3c433c17-a122-4e8d-b3f7-59f63a27ff56\")\n",
        "        if ($myPB.hasClass('ui-progressbar')) {\n",
        "            $myPB.progressbar('value', 924);\n",
        "        } else {\n",
        "            $myPB.progressbar({value: 0, max: 2029});\n",
        "        }\n",
        "        "
       ],
       "metadata": {},
       "output_type": "display_data",
       "text": [
        "<IPython.core.display.Javascript at 0x13b57978>"
       ]
      },
      {
       "javascript": [
        "$('div#d3051e00-7ef5-45e6-9b85-d75ad1fd7b81').text('ETA:  0:00:07');"
       ],
       "metadata": {},
       "output_type": "display_data",
       "text": [
        "<IPython.core.display.Javascript at 0x1ef60160>"
       ]
      },
      {
       "javascript": [
        "$('div#ceff84f9-4627-4d97-992f-0736e67d698e').text('945 of 2029');"
       ],
       "metadata": {},
       "output_type": "display_data",
       "text": [
        "<IPython.core.display.Javascript at 0x1ef60c88>"
       ]
      },
      {
       "javascript": [
        "$('div#bb0bb37f-39f6-4682-9a5c-997af288b001').text(' 46%');"
       ],
       "metadata": {},
       "output_type": "display_data",
       "text": [
        "<IPython.core.display.Javascript at 0x1ef603c8>"
       ]
      },
      {
       "javascript": [
        "\n",
        "        var $myPB = $(\"div#3c433c17-a122-4e8d-b3f7-59f63a27ff56\")\n",
        "        if ($myPB.hasClass('ui-progressbar')) {\n",
        "            $myPB.progressbar('value', 945);\n",
        "        } else {\n",
        "            $myPB.progressbar({value: 0, max: 2029});\n",
        "        }\n",
        "        "
       ],
       "metadata": {},
       "output_type": "display_data",
       "text": [
        "<IPython.core.display.Javascript at 0x13b57978>"
       ]
      },
      {
       "javascript": [
        "$('div#d3051e00-7ef5-45e6-9b85-d75ad1fd7b81').text('ETA:  0:00:07');"
       ],
       "metadata": {},
       "output_type": "display_data",
       "text": [
        "<IPython.core.display.Javascript at 0x1ef603c8>"
       ]
      },
      {
       "javascript": [
        "$('div#ceff84f9-4627-4d97-992f-0736e67d698e').text('966 of 2029');"
       ],
       "metadata": {},
       "output_type": "display_data",
       "text": [
        "<IPython.core.display.Javascript at 0x1ef60b70>"
       ]
      },
      {
       "javascript": [
        "$('div#bb0bb37f-39f6-4682-9a5c-997af288b001').text(' 47%');"
       ],
       "metadata": {},
       "output_type": "display_data",
       "text": [
        "<IPython.core.display.Javascript at 0x1ef60a58>"
       ]
      },
      {
       "javascript": [
        "\n",
        "        var $myPB = $(\"div#3c433c17-a122-4e8d-b3f7-59f63a27ff56\")\n",
        "        if ($myPB.hasClass('ui-progressbar')) {\n",
        "            $myPB.progressbar('value', 966);\n",
        "        } else {\n",
        "            $myPB.progressbar({value: 0, max: 2029});\n",
        "        }\n",
        "        "
       ],
       "metadata": {},
       "output_type": "display_data",
       "text": [
        "<IPython.core.display.Javascript at 0x13b57978>"
       ]
      },
      {
       "javascript": [
        "$('div#d3051e00-7ef5-45e6-9b85-d75ad1fd7b81').text('ETA:  0:00:07');"
       ],
       "metadata": {},
       "output_type": "display_data",
       "text": [
        "<IPython.core.display.Javascript at 0x1ef608d0>"
       ]
      },
      {
       "javascript": [
        "$('div#ceff84f9-4627-4d97-992f-0736e67d698e').text('987 of 2029');"
       ],
       "metadata": {},
       "output_type": "display_data",
       "text": [
        "<IPython.core.display.Javascript at 0x1ef60c18>"
       ]
      },
      {
       "javascript": [
        "$('div#bb0bb37f-39f6-4682-9a5c-997af288b001').text(' 48%');"
       ],
       "metadata": {},
       "output_type": "display_data",
       "text": [
        "<IPython.core.display.Javascript at 0x13b57978>"
       ]
      },
      {
       "javascript": [
        "\n",
        "        var $myPB = $(\"div#3c433c17-a122-4e8d-b3f7-59f63a27ff56\")\n",
        "        if ($myPB.hasClass('ui-progressbar')) {\n",
        "            $myPB.progressbar('value', 987);\n",
        "        } else {\n",
        "            $myPB.progressbar({value: 0, max: 2029});\n",
        "        }\n",
        "        "
       ],
       "metadata": {},
       "output_type": "display_data",
       "text": [
        "<IPython.core.display.Javascript at 0x1ef60c18>"
       ]
      },
      {
       "javascript": [
        "$('div#d3051e00-7ef5-45e6-9b85-d75ad1fd7b81').text('ETA:  0:00:07');"
       ],
       "metadata": {},
       "output_type": "display_data",
       "text": [
        "<IPython.core.display.Javascript at 0x1ef60c88>"
       ]
      },
      {
       "javascript": [
        "$('div#ceff84f9-4627-4d97-992f-0736e67d698e').text('1008 of 2029');"
       ],
       "metadata": {},
       "output_type": "display_data",
       "text": [
        "<IPython.core.display.Javascript at 0x1ef603c8>"
       ]
      },
      {
       "javascript": [
        "$('div#bb0bb37f-39f6-4682-9a5c-997af288b001').text(' 49%');"
       ],
       "metadata": {},
       "output_type": "display_data",
       "text": [
        "<IPython.core.display.Javascript at 0x13b57978>"
       ]
      },
      {
       "javascript": [
        "\n",
        "        var $myPB = $(\"div#3c433c17-a122-4e8d-b3f7-59f63a27ff56\")\n",
        "        if ($myPB.hasClass('ui-progressbar')) {\n",
        "            $myPB.progressbar('value', 1008);\n",
        "        } else {\n",
        "            $myPB.progressbar({value: 0, max: 2029});\n",
        "        }\n",
        "        "
       ],
       "metadata": {},
       "output_type": "display_data",
       "text": [
        "<IPython.core.display.Javascript at 0x1ef603c8>"
       ]
      },
      {
       "javascript": [
        "$('div#d3051e00-7ef5-45e6-9b85-d75ad1fd7b81').text('ETA:  0:00:07');"
       ],
       "metadata": {},
       "output_type": "display_data",
       "text": [
        "<IPython.core.display.Javascript at 0x1ef60b70>"
       ]
      },
      {
       "javascript": [
        "$('div#ceff84f9-4627-4d97-992f-0736e67d698e').text('1029 of 2029');"
       ],
       "metadata": {},
       "output_type": "display_data",
       "text": [
        "<IPython.core.display.Javascript at 0x13b57978>"
       ]
      },
      {
       "javascript": [
        "$('div#bb0bb37f-39f6-4682-9a5c-997af288b001').text(' 50%');"
       ],
       "metadata": {},
       "output_type": "display_data",
       "text": [
        "<IPython.core.display.Javascript at 0x1ef60da0>"
       ]
      },
      {
       "javascript": [
        "\n",
        "        var $myPB = $(\"div#3c433c17-a122-4e8d-b3f7-59f63a27ff56\")\n",
        "        if ($myPB.hasClass('ui-progressbar')) {\n",
        "            $myPB.progressbar('value', 1029);\n",
        "        } else {\n",
        "            $myPB.progressbar({value: 0, max: 2029});\n",
        "        }\n",
        "        "
       ],
       "metadata": {},
       "output_type": "display_data",
       "text": [
        "<IPython.core.display.Javascript at 0x1ef60b70>"
       ]
      },
      {
       "javascript": [
        "$('div#d3051e00-7ef5-45e6-9b85-d75ad1fd7b81').text('ETA:  0:00:06');"
       ],
       "metadata": {},
       "output_type": "display_data",
       "text": [
        "<IPython.core.display.Javascript at 0x1ef60d30>"
       ]
      },
      {
       "javascript": [
        "$('div#ceff84f9-4627-4d97-992f-0736e67d698e').text('1050 of 2029');"
       ],
       "metadata": {},
       "output_type": "display_data",
       "text": [
        "<IPython.core.display.Javascript at 0x13b57978>"
       ]
      },
      {
       "javascript": [
        "$('div#bb0bb37f-39f6-4682-9a5c-997af288b001').text(' 51%');"
       ],
       "metadata": {},
       "output_type": "display_data",
       "text": [
        "<IPython.core.display.Javascript at 0x1ef60d30>"
       ]
      },
      {
       "javascript": [
        "\n",
        "        var $myPB = $(\"div#3c433c17-a122-4e8d-b3f7-59f63a27ff56\")\n",
        "        if ($myPB.hasClass('ui-progressbar')) {\n",
        "            $myPB.progressbar('value', 1050);\n",
        "        } else {\n",
        "            $myPB.progressbar({value: 0, max: 2029});\n",
        "        }\n",
        "        "
       ],
       "metadata": {},
       "output_type": "display_data",
       "text": [
        "<IPython.core.display.Javascript at 0x1ef60d68>"
       ]
      },
      {
       "javascript": [
        "$('div#d3051e00-7ef5-45e6-9b85-d75ad1fd7b81').text('ETA:  0:00:06');"
       ],
       "metadata": {},
       "output_type": "display_data",
       "text": [
        "<IPython.core.display.Javascript at 0x1ef608d0>"
       ]
      },
      {
       "javascript": [
        "$('div#ceff84f9-4627-4d97-992f-0736e67d698e').text('1071 of 2029');"
       ],
       "metadata": {},
       "output_type": "display_data",
       "text": [
        "<IPython.core.display.Javascript at 0x13b57978>"
       ]
      },
      {
       "javascript": [
        "$('div#bb0bb37f-39f6-4682-9a5c-997af288b001').text(' 52%');"
       ],
       "metadata": {},
       "output_type": "display_data",
       "text": [
        "<IPython.core.display.Javascript at 0x1ef608d0>"
       ]
      },
      {
       "javascript": [
        "\n",
        "        var $myPB = $(\"div#3c433c17-a122-4e8d-b3f7-59f63a27ff56\")\n",
        "        if ($myPB.hasClass('ui-progressbar')) {\n",
        "            $myPB.progressbar('value', 1071);\n",
        "        } else {\n",
        "            $myPB.progressbar({value: 0, max: 2029});\n",
        "        }\n",
        "        "
       ],
       "metadata": {},
       "output_type": "display_data",
       "text": [
        "<IPython.core.display.Javascript at 0x1ef60e48>"
       ]
      },
      {
       "javascript": [
        "$('div#d3051e00-7ef5-45e6-9b85-d75ad1fd7b81').text('ETA:  0:00:06');"
       ],
       "metadata": {},
       "output_type": "display_data",
       "text": [
        "<IPython.core.display.Javascript at 0x1ef60da0>"
       ]
      },
      {
       "javascript": [
        "$('div#ceff84f9-4627-4d97-992f-0736e67d698e').text('1092 of 2029');"
       ],
       "metadata": {},
       "output_type": "display_data",
       "text": [
        "<IPython.core.display.Javascript at 0x13b57978>"
       ]
      },
      {
       "javascript": [
        "$('div#bb0bb37f-39f6-4682-9a5c-997af288b001').text(' 53%');"
       ],
       "metadata": {},
       "output_type": "display_data",
       "text": [
        "<IPython.core.display.Javascript at 0x1ef60d30>"
       ]
      },
      {
       "javascript": [
        "\n",
        "        var $myPB = $(\"div#3c433c17-a122-4e8d-b3f7-59f63a27ff56\")\n",
        "        if ($myPB.hasClass('ui-progressbar')) {\n",
        "            $myPB.progressbar('value', 1092);\n",
        "        } else {\n",
        "            $myPB.progressbar({value: 0, max: 2029});\n",
        "        }\n",
        "        "
       ],
       "metadata": {},
       "output_type": "display_data",
       "text": [
        "<IPython.core.display.Javascript at 0x1ef603c8>"
       ]
      },
      {
       "javascript": [
        "$('div#d3051e00-7ef5-45e6-9b85-d75ad1fd7b81').text('ETA:  0:00:06');"
       ],
       "metadata": {},
       "output_type": "display_data",
       "text": [
        "<IPython.core.display.Javascript at 0x1ef60da0>"
       ]
      },
      {
       "javascript": [
        "$('div#ceff84f9-4627-4d97-992f-0736e67d698e').text('1113 of 2029');"
       ],
       "metadata": {},
       "output_type": "display_data",
       "text": [
        "<IPython.core.display.Javascript at 0x13b57978>"
       ]
      },
      {
       "javascript": [
        "$('div#bb0bb37f-39f6-4682-9a5c-997af288b001').text(' 54%');"
       ],
       "metadata": {},
       "output_type": "display_data",
       "text": [
        "<IPython.core.display.Javascript at 0x1ef608d0>"
       ]
      },
      {
       "javascript": [
        "\n",
        "        var $myPB = $(\"div#3c433c17-a122-4e8d-b3f7-59f63a27ff56\")\n",
        "        if ($myPB.hasClass('ui-progressbar')) {\n",
        "            $myPB.progressbar('value', 1113);\n",
        "        } else {\n",
        "            $myPB.progressbar({value: 0, max: 2029});\n",
        "        }\n",
        "        "
       ],
       "metadata": {},
       "output_type": "display_data",
       "text": [
        "<IPython.core.display.Javascript at 0x1ef60b70>"
       ]
      },
      {
       "javascript": [
        "$('div#d3051e00-7ef5-45e6-9b85-d75ad1fd7b81').text('ETA:  0:00:06');"
       ],
       "metadata": {},
       "output_type": "display_data",
       "text": [
        "<IPython.core.display.Javascript at 0x13b57978>"
       ]
      },
      {
       "javascript": [
        "$('div#ceff84f9-4627-4d97-992f-0736e67d698e').text('1134 of 2029');"
       ],
       "metadata": {},
       "output_type": "display_data",
       "text": [
        "<IPython.core.display.Javascript at 0x1ef60b70>"
       ]
      },
      {
       "javascript": [
        "$('div#bb0bb37f-39f6-4682-9a5c-997af288b001').text(' 55%');"
       ],
       "metadata": {},
       "output_type": "display_data",
       "text": [
        "<IPython.core.display.Javascript at 0x1ef60160>"
       ]
      },
      {
       "javascript": [
        "\n",
        "        var $myPB = $(\"div#3c433c17-a122-4e8d-b3f7-59f63a27ff56\")\n",
        "        if ($myPB.hasClass('ui-progressbar')) {\n",
        "            $myPB.progressbar('value', 1134);\n",
        "        } else {\n",
        "            $myPB.progressbar({value: 0, max: 2029});\n",
        "        }\n",
        "        "
       ],
       "metadata": {},
       "output_type": "display_data",
       "text": [
        "<IPython.core.display.Javascript at 0x1ef60d30>"
       ]
      },
      {
       "javascript": [
        "$('div#d3051e00-7ef5-45e6-9b85-d75ad1fd7b81').text('ETA:  0:00:06');"
       ],
       "metadata": {},
       "output_type": "display_data",
       "text": [
        "<IPython.core.display.Javascript at 0x13b57978>"
       ]
      },
      {
       "javascript": [
        "$('div#ceff84f9-4627-4d97-992f-0736e67d698e').text('1155 of 2029');"
       ],
       "metadata": {},
       "output_type": "display_data",
       "text": [
        "<IPython.core.display.Javascript at 0x1ef60d30>"
       ]
      },
      {
       "javascript": [
        "$('div#bb0bb37f-39f6-4682-9a5c-997af288b001').text(' 56%');"
       ],
       "metadata": {},
       "output_type": "display_data",
       "text": [
        "<IPython.core.display.Javascript at 0x1ef60d68>"
       ]
      },
      {
       "javascript": [
        "\n",
        "        var $myPB = $(\"div#3c433c17-a122-4e8d-b3f7-59f63a27ff56\")\n",
        "        if ($myPB.hasClass('ui-progressbar')) {\n",
        "            $myPB.progressbar('value', 1155);\n",
        "        } else {\n",
        "            $myPB.progressbar({value: 0, max: 2029});\n",
        "        }\n",
        "        "
       ],
       "metadata": {},
       "output_type": "display_data",
       "text": [
        "<IPython.core.display.Javascript at 0x1ef60b70>"
       ]
      },
      {
       "javascript": [
        "$('div#d3051e00-7ef5-45e6-9b85-d75ad1fd7b81').text('ETA:  0:00:06');"
       ],
       "metadata": {},
       "output_type": "display_data",
       "text": [
        "<IPython.core.display.Javascript at 0x13b57978>"
       ]
      },
      {
       "javascript": [
        "$('div#ceff84f9-4627-4d97-992f-0736e67d698e').text('1176 of 2029');"
       ],
       "metadata": {},
       "output_type": "display_data",
       "text": [
        "<IPython.core.display.Javascript at 0x1ef60b70>"
       ]
      },
      {
       "javascript": [
        "$('div#bb0bb37f-39f6-4682-9a5c-997af288b001').text(' 57%');"
       ],
       "metadata": {},
       "output_type": "display_data",
       "text": [
        "<IPython.core.display.Javascript at 0x1ef60ef0>"
       ]
      },
      {
       "javascript": [
        "\n",
        "        var $myPB = $(\"div#3c433c17-a122-4e8d-b3f7-59f63a27ff56\")\n",
        "        if ($myPB.hasClass('ui-progressbar')) {\n",
        "            $myPB.progressbar('value', 1176);\n",
        "        } else {\n",
        "            $myPB.progressbar({value: 0, max: 2029});\n",
        "        }\n",
        "        "
       ],
       "metadata": {},
       "output_type": "display_data",
       "text": [
        "<IPython.core.display.Javascript at 0x1ef60d30>"
       ]
      },
      {
       "javascript": [
        "$('div#d3051e00-7ef5-45e6-9b85-d75ad1fd7b81').text('ETA:  0:00:05');"
       ],
       "metadata": {},
       "output_type": "display_data",
       "text": [
        "<IPython.core.display.Javascript at 0x13b57978>"
       ]
      },
      {
       "javascript": [
        "$('div#ceff84f9-4627-4d97-992f-0736e67d698e').text('1197 of 2029');"
       ],
       "metadata": {},
       "output_type": "display_data",
       "text": [
        "<IPython.core.display.Javascript at 0x1ef60d30>"
       ]
      },
      {
       "javascript": [
        "$('div#bb0bb37f-39f6-4682-9a5c-997af288b001').text(' 58%');"
       ],
       "metadata": {},
       "output_type": "display_data",
       "text": [
        "<IPython.core.display.Javascript at 0x1ef60e48>"
       ]
      },
      {
       "javascript": [
        "\n",
        "        var $myPB = $(\"div#3c433c17-a122-4e8d-b3f7-59f63a27ff56\")\n",
        "        if ($myPB.hasClass('ui-progressbar')) {\n",
        "            $myPB.progressbar('value', 1197);\n",
        "        } else {\n",
        "            $myPB.progressbar({value: 0, max: 2029});\n",
        "        }\n",
        "        "
       ],
       "metadata": {},
       "output_type": "display_data",
       "text": [
        "<IPython.core.display.Javascript at 0x13b57978>"
       ]
      },
      {
       "javascript": [
        "$('div#d3051e00-7ef5-45e6-9b85-d75ad1fd7b81').text('ETA:  0:00:05');"
       ],
       "metadata": {},
       "output_type": "display_data",
       "text": [
        "<IPython.core.display.Javascript at 0x1ef60e48>"
       ]
      },
      {
       "javascript": [
        "$('div#ceff84f9-4627-4d97-992f-0736e67d698e').text('1218 of 2029');"
       ],
       "metadata": {},
       "output_type": "display_data",
       "text": [
        "<IPython.core.display.Javascript at 0x1ef60da0>"
       ]
      },
      {
       "javascript": [
        "$('div#bb0bb37f-39f6-4682-9a5c-997af288b001').text(' 60%');"
       ],
       "metadata": {},
       "output_type": "display_data",
       "text": [
        "<IPython.core.display.Javascript at 0x1ef608d0>"
       ]
      },
      {
       "javascript": [
        "\n",
        "        var $myPB = $(\"div#3c433c17-a122-4e8d-b3f7-59f63a27ff56\")\n",
        "        if ($myPB.hasClass('ui-progressbar')) {\n",
        "            $myPB.progressbar('value', 1218);\n",
        "        } else {\n",
        "            $myPB.progressbar({value: 0, max: 2029});\n",
        "        }\n",
        "        "
       ],
       "metadata": {},
       "output_type": "display_data",
       "text": [
        "<IPython.core.display.Javascript at 0x13b57978>"
       ]
      },
      {
       "javascript": [
        "$('div#d3051e00-7ef5-45e6-9b85-d75ad1fd7b81').text('ETA:  0:00:05');"
       ],
       "metadata": {},
       "output_type": "display_data",
       "text": [
        "<IPython.core.display.Javascript at 0x1ef608d0>"
       ]
      },
      {
       "javascript": [
        "$('div#ceff84f9-4627-4d97-992f-0736e67d698e').text('1239 of 2029');"
       ],
       "metadata": {},
       "output_type": "display_data",
       "text": [
        "<IPython.core.display.Javascript at 0x1ef60d68>"
       ]
      },
      {
       "javascript": [
        "$('div#bb0bb37f-39f6-4682-9a5c-997af288b001').text(' 61%');"
       ],
       "metadata": {},
       "output_type": "display_data",
       "text": [
        "<IPython.core.display.Javascript at 0x1ef60160>"
       ]
      },
      {
       "javascript": [
        "\n",
        "        var $myPB = $(\"div#3c433c17-a122-4e8d-b3f7-59f63a27ff56\")\n",
        "        if ($myPB.hasClass('ui-progressbar')) {\n",
        "            $myPB.progressbar('value', 1239);\n",
        "        } else {\n",
        "            $myPB.progressbar({value: 0, max: 2029});\n",
        "        }\n",
        "        "
       ],
       "metadata": {},
       "output_type": "display_data",
       "text": [
        "<IPython.core.display.Javascript at 0x13b57978>"
       ]
      },
      {
       "javascript": [
        "$('div#d3051e00-7ef5-45e6-9b85-d75ad1fd7b81').text('ETA:  0:00:05');"
       ],
       "metadata": {},
       "output_type": "display_data",
       "text": [
        "<IPython.core.display.Javascript at 0x1ef60160>"
       ]
      },
      {
       "javascript": [
        "$('div#ceff84f9-4627-4d97-992f-0736e67d698e').text('1260 of 2029');"
       ],
       "metadata": {},
       "output_type": "display_data",
       "text": [
        "<IPython.core.display.Javascript at 0x1ef603c8>"
       ]
      },
      {
       "javascript": [
        "$('div#bb0bb37f-39f6-4682-9a5c-997af288b001').text(' 62%');"
       ],
       "metadata": {},
       "output_type": "display_data",
       "text": [
        "<IPython.core.display.Javascript at 0x1ef60e48>"
       ]
      },
      {
       "javascript": [
        "\n",
        "        var $myPB = $(\"div#3c433c17-a122-4e8d-b3f7-59f63a27ff56\")\n",
        "        if ($myPB.hasClass('ui-progressbar')) {\n",
        "            $myPB.progressbar('value', 1260);\n",
        "        } else {\n",
        "            $myPB.progressbar({value: 0, max: 2029});\n",
        "        }\n",
        "        "
       ],
       "metadata": {},
       "output_type": "display_data",
       "text": [
        "<IPython.core.display.Javascript at 0x13b57978>"
       ]
      },
      {
       "javascript": [
        "$('div#d3051e00-7ef5-45e6-9b85-d75ad1fd7b81').text('ETA:  0:00:05');"
       ],
       "metadata": {},
       "output_type": "display_data",
       "text": [
        "<IPython.core.display.Javascript at 0x1ef60e48>"
       ]
      },
      {
       "javascript": [
        "$('div#ceff84f9-4627-4d97-992f-0736e67d698e').text('1281 of 2029');"
       ],
       "metadata": {},
       "output_type": "display_data",
       "text": [
        "<IPython.core.display.Javascript at 0x1ef60d30>"
       ]
      },
      {
       "javascript": [
        "$('div#bb0bb37f-39f6-4682-9a5c-997af288b001').text(' 63%');"
       ],
       "metadata": {},
       "output_type": "display_data",
       "text": [
        "<IPython.core.display.Javascript at 0x1ef608d0>"
       ]
      },
      {
       "javascript": [
        "\n",
        "        var $myPB = $(\"div#3c433c17-a122-4e8d-b3f7-59f63a27ff56\")\n",
        "        if ($myPB.hasClass('ui-progressbar')) {\n",
        "            $myPB.progressbar('value', 1281);\n",
        "        } else {\n",
        "            $myPB.progressbar({value: 0, max: 2029});\n",
        "        }\n",
        "        "
       ],
       "metadata": {},
       "output_type": "display_data",
       "text": [
        "<IPython.core.display.Javascript at 0x13b57978>"
       ]
      },
      {
       "javascript": [
        "$('div#d3051e00-7ef5-45e6-9b85-d75ad1fd7b81').text('ETA:  0:00:05');"
       ],
       "metadata": {},
       "output_type": "display_data",
       "text": [
        "<IPython.core.display.Javascript at 0x1ef608d0>"
       ]
      },
      {
       "javascript": [
        "$('div#ceff84f9-4627-4d97-992f-0736e67d698e').text('1302 of 2029');"
       ],
       "metadata": {},
       "output_type": "display_data",
       "text": [
        "<IPython.core.display.Javascript at 0x1ef60a58>"
       ]
      },
      {
       "javascript": [
        "$('div#bb0bb37f-39f6-4682-9a5c-997af288b001').text(' 64%');"
       ],
       "metadata": {},
       "output_type": "display_data",
       "text": [
        "<IPython.core.display.Javascript at 0x1ef60160>"
       ]
      },
      {
       "javascript": [
        "\n",
        "        var $myPB = $(\"div#3c433c17-a122-4e8d-b3f7-59f63a27ff56\")\n",
        "        if ($myPB.hasClass('ui-progressbar')) {\n",
        "            $myPB.progressbar('value', 1302);\n",
        "        } else {\n",
        "            $myPB.progressbar({value: 0, max: 2029});\n",
        "        }\n",
        "        "
       ],
       "metadata": {},
       "output_type": "display_data",
       "text": [
        "<IPython.core.display.Javascript at 0x13b57978>"
       ]
      },
      {
       "javascript": [
        "$('div#d3051e00-7ef5-45e6-9b85-d75ad1fd7b81').text('ETA:  0:00:04');"
       ],
       "metadata": {},
       "output_type": "display_data",
       "text": [
        "<IPython.core.display.Javascript at 0x1ef60160>"
       ]
      },
      {
       "javascript": [
        "$('div#ceff84f9-4627-4d97-992f-0736e67d698e').text('1323 of 2029');"
       ],
       "metadata": {},
       "output_type": "display_data",
       "text": [
        "<IPython.core.display.Javascript at 0x1ef60da0>"
       ]
      },
      {
       "javascript": [
        "$('div#bb0bb37f-39f6-4682-9a5c-997af288b001').text(' 65%');"
       ],
       "metadata": {},
       "output_type": "display_data",
       "text": [
        "<IPython.core.display.Javascript at 0x13b57978>"
       ]
      },
      {
       "javascript": [
        "\n",
        "        var $myPB = $(\"div#3c433c17-a122-4e8d-b3f7-59f63a27ff56\")\n",
        "        if ($myPB.hasClass('ui-progressbar')) {\n",
        "            $myPB.progressbar('value', 1323);\n",
        "        } else {\n",
        "            $myPB.progressbar({value: 0, max: 2029});\n",
        "        }\n",
        "        "
       ],
       "metadata": {},
       "output_type": "display_data",
       "text": [
        "<IPython.core.display.Javascript at 0x1ef60da0>"
       ]
      },
      {
       "javascript": [
        "$('div#d3051e00-7ef5-45e6-9b85-d75ad1fd7b81').text('ETA:  0:00:04');"
       ],
       "metadata": {},
       "output_type": "display_data",
       "text": [
        "<IPython.core.display.Javascript at 0x1ef60d30>"
       ]
      },
      {
       "javascript": [
        "$('div#ceff84f9-4627-4d97-992f-0736e67d698e').text('1344 of 2029');"
       ],
       "metadata": {},
       "output_type": "display_data",
       "text": [
        "<IPython.core.display.Javascript at 0x1ef603c8>"
       ]
      },
      {
       "javascript": [
        "$('div#bb0bb37f-39f6-4682-9a5c-997af288b001').text(' 66%');"
       ],
       "metadata": {},
       "output_type": "display_data",
       "text": [
        "<IPython.core.display.Javascript at 0x13b57978>"
       ]
      },
      {
       "javascript": [
        "\n",
        "        var $myPB = $(\"div#3c433c17-a122-4e8d-b3f7-59f63a27ff56\")\n",
        "        if ($myPB.hasClass('ui-progressbar')) {\n",
        "            $myPB.progressbar('value', 1344);\n",
        "        } else {\n",
        "            $myPB.progressbar({value: 0, max: 2029});\n",
        "        }\n",
        "        "
       ],
       "metadata": {},
       "output_type": "display_data",
       "text": [
        "<IPython.core.display.Javascript at 0x1ef603c8>"
       ]
      },
      {
       "javascript": [
        "$('div#d3051e00-7ef5-45e6-9b85-d75ad1fd7b81').text('ETA:  0:00:04');"
       ],
       "metadata": {},
       "output_type": "display_data",
       "text": [
        "<IPython.core.display.Javascript at 0x1ef60e48>"
       ]
      },
      {
       "javascript": [
        "$('div#ceff84f9-4627-4d97-992f-0736e67d698e').text('1365 of 2029');"
       ],
       "metadata": {},
       "output_type": "display_data",
       "text": [
        "<IPython.core.display.Javascript at 0x1ef60d68>"
       ]
      },
      {
       "javascript": [
        "$('div#bb0bb37f-39f6-4682-9a5c-997af288b001').text(' 67%');"
       ],
       "metadata": {},
       "output_type": "display_data",
       "text": [
        "<IPython.core.display.Javascript at 0x13b57978>"
       ]
      },
      {
       "javascript": [
        "\n",
        "        var $myPB = $(\"div#3c433c17-a122-4e8d-b3f7-59f63a27ff56\")\n",
        "        if ($myPB.hasClass('ui-progressbar')) {\n",
        "            $myPB.progressbar('value', 1365);\n",
        "        } else {\n",
        "            $myPB.progressbar({value: 0, max: 2029});\n",
        "        }\n",
        "        "
       ],
       "metadata": {},
       "output_type": "display_data",
       "text": [
        "<IPython.core.display.Javascript at 0x1ef60d68>"
       ]
      },
      {
       "javascript": [
        "$('div#d3051e00-7ef5-45e6-9b85-d75ad1fd7b81').text('ETA:  0:00:04');"
       ],
       "metadata": {},
       "output_type": "display_data",
       "text": [
        "<IPython.core.display.Javascript at 0x1ef60ef0>"
       ]
      },
      {
       "javascript": [
        "$('div#ceff84f9-4627-4d97-992f-0736e67d698e').text('1386 of 2029');"
       ],
       "metadata": {},
       "output_type": "display_data",
       "text": [
        "<IPython.core.display.Javascript at 0x1ef60c88>"
       ]
      },
      {
       "javascript": [
        "$('div#bb0bb37f-39f6-4682-9a5c-997af288b001').text(' 68%');"
       ],
       "metadata": {},
       "output_type": "display_data",
       "text": [
        "<IPython.core.display.Javascript at 0x13b57978>"
       ]
      },
      {
       "javascript": [
        "\n",
        "        var $myPB = $(\"div#3c433c17-a122-4e8d-b3f7-59f63a27ff56\")\n",
        "        if ($myPB.hasClass('ui-progressbar')) {\n",
        "            $myPB.progressbar('value', 1386);\n",
        "        } else {\n",
        "            $myPB.progressbar({value: 0, max: 2029});\n",
        "        }\n",
        "        "
       ],
       "metadata": {},
       "output_type": "display_data",
       "text": [
        "<IPython.core.display.Javascript at 0x1ef60c88>"
       ]
      },
      {
       "javascript": [
        "$('div#d3051e00-7ef5-45e6-9b85-d75ad1fd7b81').text('ETA:  0:00:04');"
       ],
       "metadata": {},
       "output_type": "display_data",
       "text": [
        "<IPython.core.display.Javascript at 0x1ef603c8>"
       ]
      },
      {
       "javascript": [
        "$('div#ceff84f9-4627-4d97-992f-0736e67d698e').text('1407 of 2029');"
       ],
       "metadata": {},
       "output_type": "display_data",
       "text": [
        "<IPython.core.display.Javascript at 0x1ef60da0>"
       ]
      },
      {
       "javascript": [
        "$('div#bb0bb37f-39f6-4682-9a5c-997af288b001').text(' 69%');"
       ],
       "metadata": {},
       "output_type": "display_data",
       "text": [
        "<IPython.core.display.Javascript at 0x13b57978>"
       ]
      },
      {
       "javascript": [
        "\n",
        "        var $myPB = $(\"div#3c433c17-a122-4e8d-b3f7-59f63a27ff56\")\n",
        "        if ($myPB.hasClass('ui-progressbar')) {\n",
        "            $myPB.progressbar('value', 1407);\n",
        "        } else {\n",
        "            $myPB.progressbar({value: 0, max: 2029});\n",
        "        }\n",
        "        "
       ],
       "metadata": {},
       "output_type": "display_data",
       "text": [
        "<IPython.core.display.Javascript at 0x1ef60da0>"
       ]
      },
      {
       "javascript": [
        "$('div#d3051e00-7ef5-45e6-9b85-d75ad1fd7b81').text('ETA:  0:00:04');"
       ],
       "metadata": {},
       "output_type": "display_data",
       "text": [
        "<IPython.core.display.Javascript at 0x1ef60d30>"
       ]
      },
      {
       "javascript": [
        "$('div#ceff84f9-4627-4d97-992f-0736e67d698e').text('1428 of 2029');"
       ],
       "metadata": {},
       "output_type": "display_data",
       "text": [
        "<IPython.core.display.Javascript at 0x1ef60d68>"
       ]
      },
      {
       "javascript": [
        "$('div#bb0bb37f-39f6-4682-9a5c-997af288b001').text(' 70%');"
       ],
       "metadata": {},
       "output_type": "display_data",
       "text": [
        "<IPython.core.display.Javascript at 0x13b57978>"
       ]
      },
      {
       "javascript": [
        "\n",
        "        var $myPB = $(\"div#3c433c17-a122-4e8d-b3f7-59f63a27ff56\")\n",
        "        if ($myPB.hasClass('ui-progressbar')) {\n",
        "            $myPB.progressbar('value', 1428);\n",
        "        } else {\n",
        "            $myPB.progressbar({value: 0, max: 2029});\n",
        "        }\n",
        "        "
       ],
       "metadata": {},
       "output_type": "display_data",
       "text": [
        "<IPython.core.display.Javascript at 0x1ef60d68>"
       ]
      },
      {
       "javascript": [
        "$('div#d3051e00-7ef5-45e6-9b85-d75ad1fd7b81').text('ETA:  0:00:04');"
       ],
       "metadata": {},
       "output_type": "display_data",
       "text": [
        "<IPython.core.display.Javascript at 0x1ef60c88>"
       ]
      },
      {
       "javascript": [
        "$('div#ceff84f9-4627-4d97-992f-0736e67d698e').text('1449 of 2029');"
       ],
       "metadata": {},
       "output_type": "display_data",
       "text": [
        "<IPython.core.display.Javascript at 0x13b57978>"
       ]
      },
      {
       "javascript": [
        "$('div#bb0bb37f-39f6-4682-9a5c-997af288b001').text(' 71%');"
       ],
       "metadata": {},
       "output_type": "display_data",
       "text": [
        "<IPython.core.display.Javascript at 0x1ef60c88>"
       ]
      },
      {
       "javascript": [
        "\n",
        "        var $myPB = $(\"div#3c433c17-a122-4e8d-b3f7-59f63a27ff56\")\n",
        "        if ($myPB.hasClass('ui-progressbar')) {\n",
        "            $myPB.progressbar('value', 1449);\n",
        "        } else {\n",
        "            $myPB.progressbar({value: 0, max: 2029});\n",
        "        }\n",
        "        "
       ],
       "metadata": {},
       "output_type": "display_data",
       "text": [
        "<IPython.core.display.Javascript at 0x1ef60d68>"
       ]
      },
      {
       "javascript": [
        "$('div#d3051e00-7ef5-45e6-9b85-d75ad1fd7b81').text('ETA:  0:00:03');"
       ],
       "metadata": {},
       "output_type": "display_data",
       "text": [
        "<IPython.core.display.Javascript at 0x1ef60160>"
       ]
      },
      {
       "javascript": [
        "$('div#ceff84f9-4627-4d97-992f-0736e67d698e').text('1470 of 2029');"
       ],
       "metadata": {},
       "output_type": "display_data",
       "text": [
        "<IPython.core.display.Javascript at 0x13b57978>"
       ]
      },
      {
       "javascript": [
        "$('div#bb0bb37f-39f6-4682-9a5c-997af288b001').text(' 72%');"
       ],
       "metadata": {},
       "output_type": "display_data",
       "text": [
        "<IPython.core.display.Javascript at 0x1ef603c8>"
       ]
      },
      {
       "javascript": [
        "\n",
        "        var $myPB = $(\"div#3c433c17-a122-4e8d-b3f7-59f63a27ff56\")\n",
        "        if ($myPB.hasClass('ui-progressbar')) {\n",
        "            $myPB.progressbar('value', 1470);\n",
        "        } else {\n",
        "            $myPB.progressbar({value: 0, max: 2029});\n",
        "        }\n",
        "        "
       ],
       "metadata": {},
       "output_type": "display_data",
       "text": [
        "<IPython.core.display.Javascript at 0x1ef60ef0>"
       ]
      },
      {
       "javascript": [
        "$('div#d3051e00-7ef5-45e6-9b85-d75ad1fd7b81').text('ETA:  0:00:03');"
       ],
       "metadata": {},
       "output_type": "display_data",
       "text": [
        "<IPython.core.display.Javascript at 0x1ef60160>"
       ]
      },
      {
       "javascript": [
        "$('div#ceff84f9-4627-4d97-992f-0736e67d698e').text('1491 of 2029');"
       ],
       "metadata": {},
       "output_type": "display_data",
       "text": [
        "<IPython.core.display.Javascript at 0x13b57978>"
       ]
      },
      {
       "javascript": [
        "$('div#bb0bb37f-39f6-4682-9a5c-997af288b001').text(' 73%');"
       ],
       "metadata": {},
       "output_type": "display_data",
       "text": [
        "<IPython.core.display.Javascript at 0x1ef60160>"
       ]
      },
      {
       "javascript": [
        "\n",
        "        var $myPB = $(\"div#3c433c17-a122-4e8d-b3f7-59f63a27ff56\")\n",
        "        if ($myPB.hasClass('ui-progressbar')) {\n",
        "            $myPB.progressbar('value', 1491);\n",
        "        } else {\n",
        "            $myPB.progressbar({value: 0, max: 2029});\n",
        "        }\n",
        "        "
       ],
       "metadata": {},
       "output_type": "display_data",
       "text": [
        "<IPython.core.display.Javascript at 0x1ef608d0>"
       ]
      },
      {
       "javascript": [
        "$('div#d3051e00-7ef5-45e6-9b85-d75ad1fd7b81').text('ETA:  0:00:03');"
       ],
       "metadata": {},
       "output_type": "display_data",
       "text": [
        "<IPython.core.display.Javascript at 0x1ef60c88>"
       ]
      },
      {
       "javascript": [
        "$('div#ceff84f9-4627-4d97-992f-0736e67d698e').text('1512 of 2029');"
       ],
       "metadata": {},
       "output_type": "display_data",
       "text": [
        "<IPython.core.display.Javascript at 0x13b57978>"
       ]
      },
      {
       "javascript": [
        "$('div#bb0bb37f-39f6-4682-9a5c-997af288b001').text(' 74%');"
       ],
       "metadata": {},
       "output_type": "display_data",
       "text": [
        "<IPython.core.display.Javascript at 0x1ef60c88>"
       ]
      },
      {
       "javascript": [
        "\n",
        "        var $myPB = $(\"div#3c433c17-a122-4e8d-b3f7-59f63a27ff56\")\n",
        "        if ($myPB.hasClass('ui-progressbar')) {\n",
        "            $myPB.progressbar('value', 1512);\n",
        "        } else {\n",
        "            $myPB.progressbar({value: 0, max: 2029});\n",
        "        }\n",
        "        "
       ],
       "metadata": {},
       "output_type": "display_data",
       "text": [
        "<IPython.core.display.Javascript at 0x1ef60a58>"
       ]
      },
      {
       "javascript": [
        "$('div#d3051e00-7ef5-45e6-9b85-d75ad1fd7b81').text('ETA:  0:00:03');"
       ],
       "metadata": {},
       "output_type": "display_data",
       "text": [
        "<IPython.core.display.Javascript at 0x13b57978>"
       ]
      },
      {
       "javascript": [
        "$('div#ceff84f9-4627-4d97-992f-0736e67d698e').text('1533 of 2029');"
       ],
       "metadata": {},
       "output_type": "display_data",
       "text": [
        "<IPython.core.display.Javascript at 0x1ef60a58>"
       ]
      },
      {
       "javascript": [
        "$('div#bb0bb37f-39f6-4682-9a5c-997af288b001').text(' 75%');"
       ],
       "metadata": {},
       "output_type": "display_data",
       "text": [
        "<IPython.core.display.Javascript at 0x1ef603c8>"
       ]
      },
      {
       "javascript": [
        "\n",
        "        var $myPB = $(\"div#3c433c17-a122-4e8d-b3f7-59f63a27ff56\")\n",
        "        if ($myPB.hasClass('ui-progressbar')) {\n",
        "            $myPB.progressbar('value', 1533);\n",
        "        } else {\n",
        "            $myPB.progressbar({value: 0, max: 2029});\n",
        "        }\n",
        "        "
       ],
       "metadata": {},
       "output_type": "display_data",
       "text": [
        "<IPython.core.display.Javascript at 0x1ef60d68>"
       ]
      },
      {
       "javascript": [
        "$('div#d3051e00-7ef5-45e6-9b85-d75ad1fd7b81').text('ETA:  0:00:03');"
       ],
       "metadata": {},
       "output_type": "display_data",
       "text": [
        "<IPython.core.display.Javascript at 0x13b57978>"
       ]
      },
      {
       "javascript": [
        "$('div#ceff84f9-4627-4d97-992f-0736e67d698e').text('1554 of 2029');"
       ],
       "metadata": {},
       "output_type": "display_data",
       "text": [
        "<IPython.core.display.Javascript at 0x1ef60d68>"
       ]
      },
      {
       "javascript": [
        "$('div#bb0bb37f-39f6-4682-9a5c-997af288b001').text(' 76%');"
       ],
       "metadata": {},
       "output_type": "display_data",
       "text": [
        "<IPython.core.display.Javascript at 0x1ef60160>"
       ]
      },
      {
       "javascript": [
        "\n",
        "        var $myPB = $(\"div#3c433c17-a122-4e8d-b3f7-59f63a27ff56\")\n",
        "        if ($myPB.hasClass('ui-progressbar')) {\n",
        "            $myPB.progressbar('value', 1554);\n",
        "        } else {\n",
        "            $myPB.progressbar({value: 0, max: 2029});\n",
        "        }\n",
        "        "
       ],
       "metadata": {},
       "output_type": "display_data",
       "text": [
        "<IPython.core.display.Javascript at 0x1ef60e48>"
       ]
      },
      {
       "javascript": [
        "$('div#d3051e00-7ef5-45e6-9b85-d75ad1fd7b81').text('ETA:  0:00:03');"
       ],
       "metadata": {},
       "output_type": "display_data",
       "text": [
        "<IPython.core.display.Javascript at 0x13b57978>"
       ]
      },
      {
       "javascript": [
        "$('div#ceff84f9-4627-4d97-992f-0736e67d698e').text('1575 of 2029');"
       ],
       "metadata": {},
       "output_type": "display_data",
       "text": [
        "<IPython.core.display.Javascript at 0x1ef60e48>"
       ]
      },
      {
       "javascript": [
        "$('div#bb0bb37f-39f6-4682-9a5c-997af288b001').text(' 77%');"
       ],
       "metadata": {},
       "output_type": "display_data",
       "text": [
        "<IPython.core.display.Javascript at 0x1ef60ef0>"
       ]
      },
      {
       "javascript": [
        "\n",
        "        var $myPB = $(\"div#3c433c17-a122-4e8d-b3f7-59f63a27ff56\")\n",
        "        if ($myPB.hasClass('ui-progressbar')) {\n",
        "            $myPB.progressbar('value', 1575);\n",
        "        } else {\n",
        "            $myPB.progressbar({value: 0, max: 2029});\n",
        "        }\n",
        "        "
       ],
       "metadata": {},
       "output_type": "display_data",
       "text": [
        "<IPython.core.display.Javascript at 0x1ef60a58>"
       ]
      },
      {
       "javascript": [
        "$('div#d3051e00-7ef5-45e6-9b85-d75ad1fd7b81').text('ETA:  0:00:03');"
       ],
       "metadata": {},
       "output_type": "display_data",
       "text": [
        "<IPython.core.display.Javascript at 0x13b57978>"
       ]
      },
      {
       "javascript": [
        "$('div#ceff84f9-4627-4d97-992f-0736e67d698e').text('1596 of 2029');"
       ],
       "metadata": {},
       "output_type": "display_data",
       "text": [
        "<IPython.core.display.Javascript at 0x1ef60a58>"
       ]
      },
      {
       "javascript": [
        "$('div#bb0bb37f-39f6-4682-9a5c-997af288b001').text(' 78%');"
       ],
       "metadata": {},
       "output_type": "display_data",
       "text": [
        "<IPython.core.display.Javascript at 0x1ef60e48>"
       ]
      },
      {
       "javascript": [
        "\n",
        "        var $myPB = $(\"div#3c433c17-a122-4e8d-b3f7-59f63a27ff56\")\n",
        "        if ($myPB.hasClass('ui-progressbar')) {\n",
        "            $myPB.progressbar('value', 1596);\n",
        "        } else {\n",
        "            $myPB.progressbar({value: 0, max: 2029});\n",
        "        }\n",
        "        "
       ],
       "metadata": {},
       "output_type": "display_data",
       "text": [
        "<IPython.core.display.Javascript at 0x13b57978>"
       ]
      },
      {
       "javascript": [
        "$('div#d3051e00-7ef5-45e6-9b85-d75ad1fd7b81').text('ETA:  0:00:02');"
       ],
       "metadata": {},
       "output_type": "display_data",
       "text": [
        "<IPython.core.display.Javascript at 0x1ef60e48>"
       ]
      },
      {
       "javascript": [
        "$('div#ceff84f9-4627-4d97-992f-0736e67d698e').text('1617 of 2029');"
       ],
       "metadata": {},
       "output_type": "display_data",
       "text": [
        "<IPython.core.display.Javascript at 0x1ef60c88>"
       ]
      },
      {
       "javascript": [
        "$('div#bb0bb37f-39f6-4682-9a5c-997af288b001').text(' 79%');"
       ],
       "metadata": {},
       "output_type": "display_data",
       "text": [
        "<IPython.core.display.Javascript at 0x1ef603c8>"
       ]
      },
      {
       "javascript": [
        "\n",
        "        var $myPB = $(\"div#3c433c17-a122-4e8d-b3f7-59f63a27ff56\")\n",
        "        if ($myPB.hasClass('ui-progressbar')) {\n",
        "            $myPB.progressbar('value', 1617);\n",
        "        } else {\n",
        "            $myPB.progressbar({value: 0, max: 2029});\n",
        "        }\n",
        "        "
       ],
       "metadata": {},
       "output_type": "display_data",
       "text": [
        "<IPython.core.display.Javascript at 0x13b57978>"
       ]
      },
      {
       "javascript": [
        "$('div#d3051e00-7ef5-45e6-9b85-d75ad1fd7b81').text('ETA:  0:00:02');"
       ],
       "metadata": {},
       "output_type": "display_data",
       "text": [
        "<IPython.core.display.Javascript at 0x1ef603c8>"
       ]
      },
      {
       "javascript": [
        "$('div#ceff84f9-4627-4d97-992f-0736e67d698e').text('1638 of 2029');"
       ],
       "metadata": {},
       "output_type": "display_data",
       "text": [
        "<IPython.core.display.Javascript at 0x1ef60d68>"
       ]
      },
      {
       "javascript": [
        "$('div#bb0bb37f-39f6-4682-9a5c-997af288b001').text(' 80%');"
       ],
       "metadata": {},
       "output_type": "display_data",
       "text": [
        "<IPython.core.display.Javascript at 0x1ef60160>"
       ]
      },
      {
       "javascript": [
        "\n",
        "        var $myPB = $(\"div#3c433c17-a122-4e8d-b3f7-59f63a27ff56\")\n",
        "        if ($myPB.hasClass('ui-progressbar')) {\n",
        "            $myPB.progressbar('value', 1638);\n",
        "        } else {\n",
        "            $myPB.progressbar({value: 0, max: 2029});\n",
        "        }\n",
        "        "
       ],
       "metadata": {},
       "output_type": "display_data",
       "text": [
        "<IPython.core.display.Javascript at 0x13b57978>"
       ]
      },
      {
       "javascript": [
        "$('div#d3051e00-7ef5-45e6-9b85-d75ad1fd7b81').text('ETA:  0:00:02');"
       ],
       "metadata": {},
       "output_type": "display_data",
       "text": [
        "<IPython.core.display.Javascript at 0x1ef60160>"
       ]
      },
      {
       "javascript": [
        "$('div#ceff84f9-4627-4d97-992f-0736e67d698e').text('1659 of 2029');"
       ],
       "metadata": {},
       "output_type": "display_data",
       "text": [
        "<IPython.core.display.Javascript at 0x1ef608d0>"
       ]
      },
      {
       "javascript": [
        "$('div#bb0bb37f-39f6-4682-9a5c-997af288b001').text(' 81%');"
       ],
       "metadata": {},
       "output_type": "display_data",
       "text": [
        "<IPython.core.display.Javascript at 0x1ef60e48>"
       ]
      },
      {
       "javascript": [
        "\n",
        "        var $myPB = $(\"div#3c433c17-a122-4e8d-b3f7-59f63a27ff56\")\n",
        "        if ($myPB.hasClass('ui-progressbar')) {\n",
        "            $myPB.progressbar('value', 1659);\n",
        "        } else {\n",
        "            $myPB.progressbar({value: 0, max: 2029});\n",
        "        }\n",
        "        "
       ],
       "metadata": {},
       "output_type": "display_data",
       "text": [
        "<IPython.core.display.Javascript at 0x13b57978>"
       ]
      },
      {
       "javascript": [
        "$('div#d3051e00-7ef5-45e6-9b85-d75ad1fd7b81').text('ETA:  0:00:02');"
       ],
       "metadata": {},
       "output_type": "display_data",
       "text": [
        "<IPython.core.display.Javascript at 0x1ef60e48>"
       ]
      },
      {
       "javascript": [
        "$('div#ceff84f9-4627-4d97-992f-0736e67d698e').text('1680 of 2029');"
       ],
       "metadata": {},
       "output_type": "display_data",
       "text": [
        "<IPython.core.display.Javascript at 0x1ef60a58>"
       ]
      },
      {
       "javascript": [
        "$('div#bb0bb37f-39f6-4682-9a5c-997af288b001').text(' 82%');"
       ],
       "metadata": {},
       "output_type": "display_data",
       "text": [
        "<IPython.core.display.Javascript at 0x1ef60160>"
       ]
      },
      {
       "javascript": [
        "\n",
        "        var $myPB = $(\"div#3c433c17-a122-4e8d-b3f7-59f63a27ff56\")\n",
        "        if ($myPB.hasClass('ui-progressbar')) {\n",
        "            $myPB.progressbar('value', 1680);\n",
        "        } else {\n",
        "            $myPB.progressbar({value: 0, max: 2029});\n",
        "        }\n",
        "        "
       ],
       "metadata": {},
       "output_type": "display_data",
       "text": [
        "<IPython.core.display.Javascript at 0x13b57978>"
       ]
      },
      {
       "javascript": [
        "$('div#d3051e00-7ef5-45e6-9b85-d75ad1fd7b81').text('ETA:  0:00:02');"
       ],
       "metadata": {},
       "output_type": "display_data",
       "text": [
        "<IPython.core.display.Javascript at 0x1ef60160>"
       ]
      },
      {
       "javascript": [
        "$('div#ceff84f9-4627-4d97-992f-0736e67d698e').text('1701 of 2029');"
       ],
       "metadata": {},
       "output_type": "display_data",
       "text": [
        "<IPython.core.display.Javascript at 0x1ef603c8>"
       ]
      },
      {
       "javascript": [
        "$('div#bb0bb37f-39f6-4682-9a5c-997af288b001').text(' 83%');"
       ],
       "metadata": {},
       "output_type": "display_data",
       "text": [
        "<IPython.core.display.Javascript at 0x13b57978>"
       ]
      },
      {
       "javascript": [
        "\n",
        "        var $myPB = $(\"div#3c433c17-a122-4e8d-b3f7-59f63a27ff56\")\n",
        "        if ($myPB.hasClass('ui-progressbar')) {\n",
        "            $myPB.progressbar('value', 1701);\n",
        "        } else {\n",
        "            $myPB.progressbar({value: 0, max: 2029});\n",
        "        }\n",
        "        "
       ],
       "metadata": {},
       "output_type": "display_data",
       "text": [
        "<IPython.core.display.Javascript at 0x1ef603c8>"
       ]
      },
      {
       "javascript": [
        "$('div#d3051e00-7ef5-45e6-9b85-d75ad1fd7b81').text('ETA:  0:00:02');"
       ],
       "metadata": {},
       "output_type": "display_data",
       "text": [
        "<IPython.core.display.Javascript at 0x1ef608d0>"
       ]
      },
      {
       "javascript": [
        "$('div#ceff84f9-4627-4d97-992f-0736e67d698e').text('1722 of 2029');"
       ],
       "metadata": {},
       "output_type": "display_data",
       "text": [
        "<IPython.core.display.Javascript at 0x1ef60d68>"
       ]
      },
      {
       "javascript": [
        "$('div#bb0bb37f-39f6-4682-9a5c-997af288b001').text(' 84%');"
       ],
       "metadata": {},
       "output_type": "display_data",
       "text": [
        "<IPython.core.display.Javascript at 0x13b57978>"
       ]
      },
      {
       "javascript": [
        "\n",
        "        var $myPB = $(\"div#3c433c17-a122-4e8d-b3f7-59f63a27ff56\")\n",
        "        if ($myPB.hasClass('ui-progressbar')) {\n",
        "            $myPB.progressbar('value', 1722);\n",
        "        } else {\n",
        "            $myPB.progressbar({value: 0, max: 2029});\n",
        "        }\n",
        "        "
       ],
       "metadata": {},
       "output_type": "display_data",
       "text": [
        "<IPython.core.display.Javascript at 0x1ef60d68>"
       ]
      },
      {
       "javascript": [
        "$('div#d3051e00-7ef5-45e6-9b85-d75ad1fd7b81').text('ETA:  0:00:02');"
       ],
       "metadata": {},
       "output_type": "display_data",
       "text": [
        "<IPython.core.display.Javascript at 0x1ef60c88>"
       ]
      },
      {
       "javascript": [
        "$('div#ceff84f9-4627-4d97-992f-0736e67d698e').text('1743 of 2029');"
       ],
       "metadata": {},
       "output_type": "display_data",
       "text": [
        "<IPython.core.display.Javascript at 0x1ef60ef0>"
       ]
      },
      {
       "javascript": [
        "$('div#bb0bb37f-39f6-4682-9a5c-997af288b001').text(' 85%');"
       ],
       "metadata": {},
       "output_type": "display_data",
       "text": [
        "<IPython.core.display.Javascript at 0x13b57978>"
       ]
      },
      {
       "javascript": [
        "\n",
        "        var $myPB = $(\"div#3c433c17-a122-4e8d-b3f7-59f63a27ff56\")\n",
        "        if ($myPB.hasClass('ui-progressbar')) {\n",
        "            $myPB.progressbar('value', 1743);\n",
        "        } else {\n",
        "            $myPB.progressbar({value: 0, max: 2029});\n",
        "        }\n",
        "        "
       ],
       "metadata": {},
       "output_type": "display_data",
       "text": [
        "<IPython.core.display.Javascript at 0x1ef60ef0>"
       ]
      },
      {
       "javascript": [
        "$('div#d3051e00-7ef5-45e6-9b85-d75ad1fd7b81').text('ETA:  0:00:01');"
       ],
       "metadata": {},
       "output_type": "display_data",
       "text": [
        "<IPython.core.display.Javascript at 0x1ef60d30>"
       ]
      },
      {
       "javascript": [
        "$('div#ceff84f9-4627-4d97-992f-0736e67d698e').text('1764 of 2029');"
       ],
       "metadata": {},
       "output_type": "display_data",
       "text": [
        "<IPython.core.display.Javascript at 0x1ef603c8>"
       ]
      },
      {
       "javascript": [
        "$('div#bb0bb37f-39f6-4682-9a5c-997af288b001').text(' 86%');"
       ],
       "metadata": {},
       "output_type": "display_data",
       "text": [
        "<IPython.core.display.Javascript at 0x13b57978>"
       ]
      },
      {
       "javascript": [
        "\n",
        "        var $myPB = $(\"div#3c433c17-a122-4e8d-b3f7-59f63a27ff56\")\n",
        "        if ($myPB.hasClass('ui-progressbar')) {\n",
        "            $myPB.progressbar('value', 1764);\n",
        "        } else {\n",
        "            $myPB.progressbar({value: 0, max: 2029});\n",
        "        }\n",
        "        "
       ],
       "metadata": {},
       "output_type": "display_data",
       "text": [
        "<IPython.core.display.Javascript at 0x1ef603c8>"
       ]
      },
      {
       "javascript": [
        "$('div#d3051e00-7ef5-45e6-9b85-d75ad1fd7b81').text('ETA:  0:00:01');"
       ],
       "metadata": {},
       "output_type": "display_data",
       "text": [
        "<IPython.core.display.Javascript at 0x1ef60160>"
       ]
      },
      {
       "javascript": [
        "$('div#ceff84f9-4627-4d97-992f-0736e67d698e').text('1785 of 2029');"
       ],
       "metadata": {},
       "output_type": "display_data",
       "text": [
        "<IPython.core.display.Javascript at 0x1ef60b70>"
       ]
      },
      {
       "javascript": [
        "$('div#bb0bb37f-39f6-4682-9a5c-997af288b001').text(' 87%');"
       ],
       "metadata": {},
       "output_type": "display_data",
       "text": [
        "<IPython.core.display.Javascript at 0x13b57978>"
       ]
      },
      {
       "javascript": [
        "\n",
        "        var $myPB = $(\"div#3c433c17-a122-4e8d-b3f7-59f63a27ff56\")\n",
        "        if ($myPB.hasClass('ui-progressbar')) {\n",
        "            $myPB.progressbar('value', 1785);\n",
        "        } else {\n",
        "            $myPB.progressbar({value: 0, max: 2029});\n",
        "        }\n",
        "        "
       ],
       "metadata": {},
       "output_type": "display_data",
       "text": [
        "<IPython.core.display.Javascript at 0x1ef60ef0>"
       ]
      },
      {
       "javascript": [
        "$('div#d3051e00-7ef5-45e6-9b85-d75ad1fd7b81').text('ETA:  0:00:01');"
       ],
       "metadata": {},
       "output_type": "display_data",
       "text": [
        "<IPython.core.display.Javascript at 0x1ef608d0>"
       ]
      },
      {
       "javascript": [
        "$('div#ceff84f9-4627-4d97-992f-0736e67d698e').text('1806 of 2029');"
       ],
       "metadata": {},
       "output_type": "display_data",
       "text": [
        "<IPython.core.display.Javascript at 0x13b57978>"
       ]
      },
      {
       "javascript": [
        "$('div#bb0bb37f-39f6-4682-9a5c-997af288b001').text(' 89%');"
       ],
       "metadata": {},
       "output_type": "display_data",
       "text": [
        "<IPython.core.display.Javascript at 0x1ef603c8>"
       ]
      },
      {
       "javascript": [
        "\n",
        "        var $myPB = $(\"div#3c433c17-a122-4e8d-b3f7-59f63a27ff56\")\n",
        "        if ($myPB.hasClass('ui-progressbar')) {\n",
        "            $myPB.progressbar('value', 1806);\n",
        "        } else {\n",
        "            $myPB.progressbar({value: 0, max: 2029});\n",
        "        }\n",
        "        "
       ],
       "metadata": {},
       "output_type": "display_data",
       "text": [
        "<IPython.core.display.Javascript at 0x1ef60c88>"
       ]
      },
      {
       "javascript": [
        "$('div#d3051e00-7ef5-45e6-9b85-d75ad1fd7b81').text('ETA:  0:00:01');"
       ],
       "metadata": {},
       "output_type": "display_data",
       "text": [
        "<IPython.core.display.Javascript at 0x1ef60d68>"
       ]
      },
      {
       "javascript": [
        "$('div#ceff84f9-4627-4d97-992f-0736e67d698e').text('1827 of 2029');"
       ],
       "metadata": {},
       "output_type": "display_data",
       "text": [
        "<IPython.core.display.Javascript at 0x13b57978>"
       ]
      },
      {
       "javascript": [
        "$('div#bb0bb37f-39f6-4682-9a5c-997af288b001').text(' 90%');"
       ],
       "metadata": {},
       "output_type": "display_data",
       "text": [
        "<IPython.core.display.Javascript at 0x1ef60ef0>"
       ]
      },
      {
       "javascript": [
        "\n",
        "        var $myPB = $(\"div#3c433c17-a122-4e8d-b3f7-59f63a27ff56\")\n",
        "        if ($myPB.hasClass('ui-progressbar')) {\n",
        "            $myPB.progressbar('value', 1827);\n",
        "        } else {\n",
        "            $myPB.progressbar({value: 0, max: 2029});\n",
        "        }\n",
        "        "
       ],
       "metadata": {},
       "output_type": "display_data",
       "text": [
        "<IPython.core.display.Javascript at 0x1ef60d30>"
       ]
      },
      {
       "javascript": [
        "$('div#d3051e00-7ef5-45e6-9b85-d75ad1fd7b81').text('ETA:  0:00:01');"
       ],
       "metadata": {},
       "output_type": "display_data",
       "text": [
        "<IPython.core.display.Javascript at 0x1ef60d68>"
       ]
      },
      {
       "javascript": [
        "$('div#ceff84f9-4627-4d97-992f-0736e67d698e').text('1848 of 2029');"
       ],
       "metadata": {},
       "output_type": "display_data",
       "text": [
        "<IPython.core.display.Javascript at 0x13b57978>"
       ]
      },
      {
       "javascript": [
        "$('div#bb0bb37f-39f6-4682-9a5c-997af288b001').text(' 91%');"
       ],
       "metadata": {},
       "output_type": "display_data",
       "text": [
        "<IPython.core.display.Javascript at 0x1ef60d30>"
       ]
      },
      {
       "javascript": [
        "\n",
        "        var $myPB = $(\"div#3c433c17-a122-4e8d-b3f7-59f63a27ff56\")\n",
        "        if ($myPB.hasClass('ui-progressbar')) {\n",
        "            $myPB.progressbar('value', 1848);\n",
        "        } else {\n",
        "            $myPB.progressbar({value: 0, max: 2029});\n",
        "        }\n",
        "        "
       ],
       "metadata": {},
       "output_type": "display_data",
       "text": [
        "<IPython.core.display.Javascript at 0x1ef603c8>"
       ]
      },
      {
       "javascript": [
        "$('div#d3051e00-7ef5-45e6-9b85-d75ad1fd7b81').text('ETA:  0:00:01');"
       ],
       "metadata": {},
       "output_type": "display_data",
       "text": [
        "<IPython.core.display.Javascript at 0x1ef60d68>"
       ]
      },
      {
       "javascript": [
        "$('div#ceff84f9-4627-4d97-992f-0736e67d698e').text('1869 of 2029');"
       ],
       "metadata": {},
       "output_type": "display_data",
       "text": [
        "<IPython.core.display.Javascript at 0x13b57978>"
       ]
      },
      {
       "javascript": [
        "$('div#bb0bb37f-39f6-4682-9a5c-997af288b001').text(' 92%');"
       ],
       "metadata": {},
       "output_type": "display_data",
       "text": [
        "<IPython.core.display.Javascript at 0x1ef608d0>"
       ]
      },
      {
       "javascript": [
        "\n",
        "        var $myPB = $(\"div#3c433c17-a122-4e8d-b3f7-59f63a27ff56\")\n",
        "        if ($myPB.hasClass('ui-progressbar')) {\n",
        "            $myPB.progressbar('value', 1869);\n",
        "        } else {\n",
        "            $myPB.progressbar({value: 0, max: 2029});\n",
        "        }\n",
        "        "
       ],
       "metadata": {},
       "output_type": "display_data",
       "text": [
        "<IPython.core.display.Javascript at 0x1ef60d68>"
       ]
      },
      {
       "javascript": [
        "$('div#d3051e00-7ef5-45e6-9b85-d75ad1fd7b81').text('ETA:  0:00:01');"
       ],
       "metadata": {},
       "output_type": "display_data",
       "text": [
        "<IPython.core.display.Javascript at 0x1ef60ef0>"
       ]
      },
      {
       "javascript": [
        "$('div#ceff84f9-4627-4d97-992f-0736e67d698e').text('1890 of 2029');"
       ],
       "metadata": {},
       "output_type": "display_data",
       "text": [
        "<IPython.core.display.Javascript at 0x13b57978>"
       ]
      },
      {
       "javascript": [
        "$('div#bb0bb37f-39f6-4682-9a5c-997af288b001').text(' 93%');"
       ],
       "metadata": {},
       "output_type": "display_data",
       "text": [
        "<IPython.core.display.Javascript at 0x1ef60ef0>"
       ]
      },
      {
       "javascript": [
        "\n",
        "        var $myPB = $(\"div#3c433c17-a122-4e8d-b3f7-59f63a27ff56\")\n",
        "        if ($myPB.hasClass('ui-progressbar')) {\n",
        "            $myPB.progressbar('value', 1890);\n",
        "        } else {\n",
        "            $myPB.progressbar({value: 0, max: 2029});\n",
        "        }\n",
        "        "
       ],
       "metadata": {},
       "output_type": "display_data",
       "text": [
        "<IPython.core.display.Javascript at 0x1ef60c88>"
       ]
      },
      {
       "javascript": [
        "$('div#d3051e00-7ef5-45e6-9b85-d75ad1fd7b81').text('ETA:  0:00:00');"
       ],
       "metadata": {},
       "output_type": "display_data",
       "text": [
        "<IPython.core.display.Javascript at 0x1ef60d30>"
       ]
      },
      {
       "javascript": [
        "$('div#ceff84f9-4627-4d97-992f-0736e67d698e').text('1911 of 2029');"
       ],
       "metadata": {},
       "output_type": "display_data",
       "text": [
        "<IPython.core.display.Javascript at 0x13b57978>"
       ]
      },
      {
       "javascript": [
        "$('div#bb0bb37f-39f6-4682-9a5c-997af288b001').text(' 94%');"
       ],
       "metadata": {},
       "output_type": "display_data",
       "text": [
        "<IPython.core.display.Javascript at 0x1ef608d0>"
       ]
      },
      {
       "javascript": [
        "\n",
        "        var $myPB = $(\"div#3c433c17-a122-4e8d-b3f7-59f63a27ff56\")\n",
        "        if ($myPB.hasClass('ui-progressbar')) {\n",
        "            $myPB.progressbar('value', 1911);\n",
        "        } else {\n",
        "            $myPB.progressbar({value: 0, max: 2029});\n",
        "        }\n",
        "        "
       ],
       "metadata": {},
       "output_type": "display_data",
       "text": [
        "<IPython.core.display.Javascript at 0x1ef60b70>"
       ]
      },
      {
       "javascript": [
        "$('div#d3051e00-7ef5-45e6-9b85-d75ad1fd7b81').text('ETA:  0:00:00');"
       ],
       "metadata": {},
       "output_type": "display_data",
       "text": [
        "<IPython.core.display.Javascript at 0x1ef60d30>"
       ]
      },
      {
       "javascript": [
        "$('div#ceff84f9-4627-4d97-992f-0736e67d698e').text('1932 of 2029');"
       ],
       "metadata": {},
       "output_type": "display_data",
       "text": [
        "<IPython.core.display.Javascript at 0x13b57978>"
       ]
      },
      {
       "javascript": [
        "$('div#bb0bb37f-39f6-4682-9a5c-997af288b001').text(' 95%');"
       ],
       "metadata": {},
       "output_type": "display_data",
       "text": [
        "<IPython.core.display.Javascript at 0x1ef60ef0>"
       ]
      },
      {
       "javascript": [
        "\n",
        "        var $myPB = $(\"div#3c433c17-a122-4e8d-b3f7-59f63a27ff56\")\n",
        "        if ($myPB.hasClass('ui-progressbar')) {\n",
        "            $myPB.progressbar('value', 1932);\n",
        "        } else {\n",
        "            $myPB.progressbar({value: 0, max: 2029});\n",
        "        }\n",
        "        "
       ],
       "metadata": {},
       "output_type": "display_data",
       "text": [
        "<IPython.core.display.Javascript at 0x1ef60a58>"
       ]
      },
      {
       "javascript": [
        "$('div#d3051e00-7ef5-45e6-9b85-d75ad1fd7b81').text('ETA:  0:00:00');"
       ],
       "metadata": {},
       "output_type": "display_data",
       "text": [
        "<IPython.core.display.Javascript at 0x13b57978>"
       ]
      },
      {
       "javascript": [
        "$('div#ceff84f9-4627-4d97-992f-0736e67d698e').text('1953 of 2029');"
       ],
       "metadata": {},
       "output_type": "display_data",
       "text": [
        "<IPython.core.display.Javascript at 0x1ef60a58>"
       ]
      },
      {
       "javascript": [
        "$('div#bb0bb37f-39f6-4682-9a5c-997af288b001').text(' 96%');"
       ],
       "metadata": {},
       "output_type": "display_data",
       "text": [
        "<IPython.core.display.Javascript at 0x1ef60d68>"
       ]
      },
      {
       "javascript": [
        "\n",
        "        var $myPB = $(\"div#3c433c17-a122-4e8d-b3f7-59f63a27ff56\")\n",
        "        if ($myPB.hasClass('ui-progressbar')) {\n",
        "            $myPB.progressbar('value', 1953);\n",
        "        } else {\n",
        "            $myPB.progressbar({value: 0, max: 2029});\n",
        "        }\n",
        "        "
       ],
       "metadata": {},
       "output_type": "display_data",
       "text": [
        "<IPython.core.display.Javascript at 0x1ef60d30>"
       ]
      },
      {
       "javascript": [
        "$('div#d3051e00-7ef5-45e6-9b85-d75ad1fd7b81').text('ETA:  0:00:00');"
       ],
       "metadata": {},
       "output_type": "display_data",
       "text": [
        "<IPython.core.display.Javascript at 0x13b57978>"
       ]
      },
      {
       "javascript": [
        "$('div#ceff84f9-4627-4d97-992f-0736e67d698e').text('1974 of 2029');"
       ],
       "metadata": {},
       "output_type": "display_data",
       "text": [
        "<IPython.core.display.Javascript at 0x1ef60d30>"
       ]
      },
      {
       "javascript": [
        "$('div#bb0bb37f-39f6-4682-9a5c-997af288b001').text(' 97%');"
       ],
       "metadata": {},
       "output_type": "display_data",
       "text": [
        "<IPython.core.display.Javascript at 0x1ef60160>"
       ]
      },
      {
       "javascript": [
        "\n",
        "        var $myPB = $(\"div#3c433c17-a122-4e8d-b3f7-59f63a27ff56\")\n",
        "        if ($myPB.hasClass('ui-progressbar')) {\n",
        "            $myPB.progressbar('value', 1974);\n",
        "        } else {\n",
        "            $myPB.progressbar({value: 0, max: 2029});\n",
        "        }\n",
        "        "
       ],
       "metadata": {},
       "output_type": "display_data",
       "text": [
        "<IPython.core.display.Javascript at 0x1ef608d0>"
       ]
      },
      {
       "javascript": [
        "$('div#d3051e00-7ef5-45e6-9b85-d75ad1fd7b81').text('ETA:  0:00:00');"
       ],
       "metadata": {},
       "output_type": "display_data",
       "text": [
        "<IPython.core.display.Javascript at 0x13b57978>"
       ]
      },
      {
       "javascript": [
        "$('div#ceff84f9-4627-4d97-992f-0736e67d698e').text('1995 of 2029');"
       ],
       "metadata": {},
       "output_type": "display_data",
       "text": [
        "<IPython.core.display.Javascript at 0x1ef608d0>"
       ]
      },
      {
       "javascript": [
        "$('div#bb0bb37f-39f6-4682-9a5c-997af288b001').text(' 98%');"
       ],
       "metadata": {},
       "output_type": "display_data",
       "text": [
        "<IPython.core.display.Javascript at 0x1ef60c88>"
       ]
      },
      {
       "javascript": [
        "\n",
        "        var $myPB = $(\"div#3c433c17-a122-4e8d-b3f7-59f63a27ff56\")\n",
        "        if ($myPB.hasClass('ui-progressbar')) {\n",
        "            $myPB.progressbar('value', 1995);\n",
        "        } else {\n",
        "            $myPB.progressbar({value: 0, max: 2029});\n",
        "        }\n",
        "        "
       ],
       "metadata": {},
       "output_type": "display_data",
       "text": [
        "<IPython.core.display.Javascript at 0x1ef60a58>"
       ]
      },
      {
       "javascript": [
        "$('div#d3051e00-7ef5-45e6-9b85-d75ad1fd7b81').text('ETA:  0:00:00');"
       ],
       "metadata": {},
       "output_type": "display_data",
       "text": [
        "<IPython.core.display.Javascript at 0x13b57978>"
       ]
      },
      {
       "javascript": [
        "$('div#ceff84f9-4627-4d97-992f-0736e67d698e').text('2016 of 2029');"
       ],
       "metadata": {},
       "output_type": "display_data",
       "text": [
        "<IPython.core.display.Javascript at 0x1ef60a58>"
       ]
      },
      {
       "javascript": [
        "$('div#bb0bb37f-39f6-4682-9a5c-997af288b001').text(' 99%');"
       ],
       "metadata": {},
       "output_type": "display_data",
       "text": [
        "<IPython.core.display.Javascript at 0x1ef608d0>"
       ]
      },
      {
       "javascript": [
        "\n",
        "        var $myPB = $(\"div#3c433c17-a122-4e8d-b3f7-59f63a27ff56\")\n",
        "        if ($myPB.hasClass('ui-progressbar')) {\n",
        "            $myPB.progressbar('value', 2016);\n",
        "        } else {\n",
        "            $myPB.progressbar({value: 0, max: 2029});\n",
        "        }\n",
        "        "
       ],
       "metadata": {},
       "output_type": "display_data",
       "text": [
        "<IPython.core.display.Javascript at 0x1ef60d30>"
       ]
      },
      {
       "javascript": [
        "$('div#d3051e00-7ef5-45e6-9b85-d75ad1fd7b81').text('ETA:  0:00:00');"
       ],
       "metadata": {},
       "output_type": "display_data",
       "text": [
        "<IPython.core.display.Javascript at 0x13b57978>"
       ]
      },
      {
       "javascript": [
        "$('div#ceff84f9-4627-4d97-992f-0736e67d698e').text('2029 of 2029');"
       ],
       "metadata": {},
       "output_type": "display_data",
       "text": [
        "<IPython.core.display.Javascript at 0x13b57048>"
       ]
      },
      {
       "javascript": [
        "$('div#bb0bb37f-39f6-4682-9a5c-997af288b001').text('100%');"
       ],
       "metadata": {},
       "output_type": "display_data",
       "text": [
        "<IPython.core.display.Javascript at 0x1ef60d30>"
       ]
      },
      {
       "javascript": [
        "\n",
        "        var $myPB = $(\"div#3c433c17-a122-4e8d-b3f7-59f63a27ff56\")\n",
        "        if ($myPB.hasClass('ui-progressbar')) {\n",
        "            $myPB.progressbar('value', 2029);\n",
        "        } else {\n",
        "            $myPB.progressbar({value: 0, max: 2029});\n",
        "        }\n",
        "        "
       ],
       "metadata": {},
       "output_type": "display_data",
       "text": [
        "<IPython.core.display.Javascript at 0x13b57048>"
       ]
      },
      {
       "javascript": [
        "$('div#d3051e00-7ef5-45e6-9b85-d75ad1fd7b81').text('Time: 0:00:13');"
       ],
       "metadata": {},
       "output_type": "display_data",
       "text": [
        "<IPython.core.display.Javascript at 0x13b57978>"
       ]
      },
      {
       "javascript": [
        "var element = document.getElementById('45469a74-530d-4194-9f77-af38daf17f97');\n",
        "                    var parent = element.parentNode\n",
        "                    parent.removeChild(element);\n",
        "                    parent.parentElement.remove();"
       ],
       "metadata": {},
       "output_type": "display_data",
       "text": [
        "<IPython.core.display.Javascript at 0x124b6080>"
       ]
      },
      {
       "javascript": [
        "this.cleanProgressBar(['45469a74-530d-4194-9f77-af38daf17f97', 'ceff84f9-4627-4d97-992f-0736e67d698e', 'bb0bb37f-39f6-4682-9a5c-997af288b001', '3c433c17-a122-4e8d-b3f7-59f63a27ff56', 'd3051e00-7ef5-45e6-9b85-d75ad1fd7b81'])"
       ],
       "metadata": {},
       "output_type": "display_data",
       "text": [
        "<IPython.core.display.Javascript at 0x124a0e80>"
       ]
      },
      {
       "output_type": "stream",
       "stream": "stdout",
       "text": [
        "get_ner_entities_list() Started...\n",
        "get_ner_entities_list() DONE!\n",
        "get_ner_countries() Started...\n",
        "get_filtered_countries() Started...\n",
        "get_filtered_countries() DONE!"
       ]
      },
      {
       "output_type": "stream",
       "stream": "stdout",
       "text": [
        "\n",
        "get_filtered_countries() Started...\n",
        "get_filtered_countries() DONE!\n",
        "get_ner_countries() DONE!\n",
        "get_ner_organizations() Started...\n",
        "get_ner_organizations() DONE!"
       ]
      },
      {
       "output_type": "stream",
       "stream": "stdout",
       "text": [
        "\n"
       ]
      },
      {
       "html": [
        "<div style=\"max-height:1000px;max-width:1500px;overflow:auto;\">\n",
        "<table border=\"1\" class=\"dataframe\">\n",
        "  <thead>\n",
        "    <tr style=\"text-align: right;\">\n",
        "      <th></th>\n",
        "      <th>NChunks (Filtered) phrase</th>\n",
        "      <th>NChunks (Filtered) frequency</th>\n",
        "      <th>Organizations phrase</th>\n",
        "      <th>Organizations frequency</th>\n",
        "      <th>Countries phrase</th>\n",
        "      <th>Countries frequency</th>\n",
        "    </tr>\n",
        "  </thead>\n",
        "  <tbody>\n",
        "    <tr>\n",
        "      <th>1 </th>\n",
        "      <td>                         Congo</td>\n",
        "      <td> 14</td>\n",
        "      <td>                 General Assembly</td>\n",
        "      <td> 6</td>\n",
        "      <td> Democratic</td>\n",
        "      <td> 37</td>\n",
        "    </tr>\n",
        "    <tr>\n",
        "      <th>2 </th>\n",
        "      <td>           Government of Nepal</td>\n",
        "      <td>  5</td>\n",
        "      <td>                     Commissioner</td>\n",
        "      <td> 4</td>\n",
        "      <td>     Russia</td>\n",
        "      <td> 34</td>\n",
        "    </tr>\n",
        "    <tr>\n",
        "      <th>3 </th>\n",
        "      <td>               Paragraphs Page</td>\n",
        "      <td>  5</td>\n",
        "      <td>                High Commissioner</td>\n",
        "      <td> 4</td>\n",
        "      <td>    Russian</td>\n",
        "      <td> 34</td>\n",
        "    </tr>\n",
        "    <tr>\n",
        "      <th>4 </th>\n",
        "      <td>  Libyan Arab Jamahiriya Nepal</td>\n",
        "      <td>  4</td>\n",
        "      <td>            Commission of Inquiry</td>\n",
        "      <td> 3</td>\n",
        "      <td>    Algeria</td>\n",
        "      <td> 33</td>\n",
        "    </tr>\n",
        "    <tr>\n",
        "      <th>5 </th>\n",
        "      <td>                         Nepal</td>\n",
        "      <td>  4</td>\n",
        "      <td>         International Commission</td>\n",
        "      <td> 3</td>\n",
        "      <td>      India</td>\n",
        "      <td> 31</td>\n",
        "    </tr>\n",
        "    <tr>\n",
        "      <th>6 </th>\n",
        "      <td>                  Lao People's</td>\n",
        "      <td>  3</td>\n",
        "      <td>              National Commission</td>\n",
        "      <td> 2</td>\n",
        "      <td>   Colombia</td>\n",
        "      <td> 28</td>\n",
        "    </tr>\n",
        "    <tr>\n",
        "      <th>7 </th>\n",
        "      <td>                   Libyan Arab</td>\n",
        "      <td>  3</td>\n",
        "      <td> National Consultative Commission</td>\n",
        "      <td> 2</td>\n",
        "      <td>     United</td>\n",
        "      <td> 23</td>\n",
        "    </tr>\n",
        "    <tr>\n",
        "      <th>8 </th>\n",
        "      <td>        Lord's Resistance Army</td>\n",
        "      <td>  3</td>\n",
        "      <td>            United Nations Office</td>\n",
        "      <td> 2</td>\n",
        "      <td>      Sudan</td>\n",
        "      <td> 22</td>\n",
        "    </tr>\n",
        "    <tr>\n",
        "      <th>9 </th>\n",
        "      <td>        disappearance in Nepal</td>\n",
        "      <td>  3</td>\n",
        "      <td>  United Nations Office at Geneva</td>\n",
        "      <td> 2</td>\n",
        "      <td>  Indonesia</td>\n",
        "      <td> 18</td>\n",
        "    </tr>\n",
        "    <tr>\n",
        "      <th>10</th>\n",
        "      <td> Autonomous Republic of Crimea</td>\n",
        "      <td>  2</td>\n",
        "      <td>                  Assembly of God</td>\n",
        "      <td> 1</td>\n",
        "      <td>       Iran</td>\n",
        "      <td> 18</td>\n",
        "    </tr>\n",
        "  </tbody>\n",
        "</table>\n",
        "</div>"
       ],
       "metadata": {},
       "output_type": "pyout",
       "prompt_number": 7,
       "text": [
        "        NChunks (Filtered) phrase  NChunks (Filtered) frequency  \\\n",
        "1                           Congo                            14   \n",
        "2             Government of Nepal                             5   \n",
        "3                 Paragraphs Page                             5   \n",
        "4    Libyan Arab Jamahiriya Nepal                             4   \n",
        "5                           Nepal                             4   \n",
        "6                    Lao People's                             3   \n",
        "7                     Libyan Arab                             3   \n",
        "8          Lord's Resistance Army                             3   \n",
        "9          disappearance in Nepal                             3   \n",
        "10  Autonomous Republic of Crimea                             2   \n",
        "\n",
        "                Organizations phrase  Organizations frequency  \\\n",
        "1                   General Assembly                        6   \n",
        "2                       Commissioner                        4   \n",
        "3                  High Commissioner                        4   \n",
        "4              Commission of Inquiry                        3   \n",
        "5           International Commission                        3   \n",
        "6                National Commission                        2   \n",
        "7   National Consultative Commission                        2   \n",
        "8              United Nations Office                        2   \n",
        "9    United Nations Office at Geneva                        2   \n",
        "10                   Assembly of God                        1   \n",
        "\n",
        "   Countries phrase  Countries frequency  \n",
        "1        Democratic                   37  \n",
        "2            Russia                   34  \n",
        "3           Russian                   34  \n",
        "4           Algeria                   33  \n",
        "5             India                   31  \n",
        "6          Colombia                   28  \n",
        "7            United                   23  \n",
        "8             Sudan                   22  \n",
        "9         Indonesia                   18  \n",
        "10             Iran                   18  "
       ]
      }
     ],
     "prompt_number": 7
    },
    {
     "cell_type": "code",
     "collapsed": false,
     "input": [
      "colloc = mun.get_collocations(sentences=sentences)\n",
      "HTML(mun.json2html([ [ \"<->\".join(list(r)) for r in c] for c in colloc]))"
     ],
     "language": "python",
     "metadata": {},
     "outputs": [
      {
       "javascript": [
        "//05f9e26b-ae9e-4905-86f5-96ede667184e\n",
        "$(\"head\").append(\"<style> td.pb_widget {     width: auto; } td.pb_widget_fill {     width: 100%; } table.pb {     font-family: monospace;     border: 0;     margin: 0; } table.pb tr { border: 0; } table.pb td {     white-space: nowrap;     border: 0; } div.pb {     border: 1px solid #ddd;     border-radius: 3px; } div.pb_bar {     height: 1.5em; } </style>\")"
       ],
       "metadata": {},
       "output_type": "display_data",
       "text": [
        "<IPython.core.display.Javascript at 0x1778c390>"
       ]
      },
      {
       "javascript": [
        "\n",
        "                  // 05f9e26b-ae9e-4905-86f5-96ede667184e -- used to remove this code blob in the end\n",
        "                  IPython.OutputArea.prototype.cleanProgressBar = function(uuids) {\n",
        "                      // filter by uuid-strings \n",
        "                      var myfilter = function(output) { \n",
        "                          var nuids = uuids.length;\n",
        "                          for (var i=0; i<nuids; i++) {\n",
        "                              if (output.hasOwnProperty('html')) {\n",
        "                                  if (output.html.indexOf(uuids[i]) != -1) {\n",
        "                                      return false;\n",
        "                                  }\n",
        "                              }\n",
        "                              if (output.hasOwnProperty('javascript')) {\n",
        "                                  if (output.javascript.indexOf(uuids[i]) != -1) {\n",
        "                                      return false;\n",
        "                                  }\n",
        "                              }\n",
        "                          }\n",
        "                          // keep all others\n",
        "                          return true;\n",
        "                      };\n",
        "\n",
        "                      // Filter the ouputs\n",
        "                      this.outputs = this.outputs.filter(myfilter);\n",
        "                };\n",
        "                "
       ],
       "metadata": {},
       "output_type": "display_data",
       "text": [
        "<IPython.core.display.Javascript at 0x1778c0f0>"
       ]
      },
      {
       "html": [
        "<div class=\"pb\" id=\"05f9e26b-ae9e-4905-86f5-96ede667184e\"><table class=\"pb ui-widget\"><tr>\n",
        "<td class=\"pb_widget\">Tokenizing sentences</td>\n",
        "<td class=\"pb_widget\"><div id=\"1b562af1-bb80-4652-899c-f1e43f084d0d\">0 of 2029</div></td>\n",
        "<td class=\"pb_widget\"><div id=\"fcacfc69-14e6-4075-9d69-383a7ac1188c\">  0%</div></td>\n",
        "<td class=\"pb_widget_fill\">\n",
        "        <div class=\"pb_bar\" id=\"e406e35c-1244-4166-bf8a-493478997f49\"></div>\n",
        "        <script type=\"text/javascript\">\n",
        "            $(\"div#e406e35c-1244-4166-bf8a-493478997f49\").progressbar({value: 0, max: 2029});\n",
        "        </script>\n",
        "        </td>\n",
        "<td class=\"pb_widget\"><div id=\"9ccddfd4-3c0c-48d2-904f-c02e55cf6dd9\">ETA:  --:--:--</div></td>\n",
        "</tr></table><div>"
       ],
       "metadata": {},
       "output_type": "display_data",
       "text": [
        "<IPython.core.display.HTML at 0x124bd0f0>"
       ]
      },
      {
       "javascript": [
        "$('div#1b562af1-bb80-4652-899c-f1e43f084d0d').text('21 of 2029');"
       ],
       "metadata": {},
       "output_type": "display_data",
       "text": [
        "<IPython.core.display.Javascript at 0x18477668>"
       ]
      },
      {
       "javascript": [
        "$('div#fcacfc69-14e6-4075-9d69-383a7ac1188c').text('  1%');"
       ],
       "metadata": {},
       "output_type": "display_data",
       "text": [
        "<IPython.core.display.Javascript at 0x18477668>"
       ]
      },
      {
       "javascript": [
        "\n",
        "        var $myPB = $(\"div#e406e35c-1244-4166-bf8a-493478997f49\")\n",
        "        if ($myPB.hasClass('ui-progressbar')) {\n",
        "            $myPB.progressbar('value', 21);\n",
        "        } else {\n",
        "            $myPB.progressbar({value: 0, max: 2029});\n",
        "        }\n",
        "        "
       ],
       "metadata": {},
       "output_type": "display_data",
       "text": [
        "<IPython.core.display.Javascript at 0x124bd0f0>"
       ]
      },
      {
       "javascript": [
        "$('div#9ccddfd4-3c0c-48d2-904f-c02e55cf6dd9').text('ETA:  0:00:00');"
       ],
       "metadata": {},
       "output_type": "display_data",
       "text": [
        "<IPython.core.display.Javascript at 0x1778c390>"
       ]
      },
      {
       "javascript": [
        "$('div#1b562af1-bb80-4652-899c-f1e43f084d0d').text('42 of 2029');"
       ],
       "metadata": {},
       "output_type": "display_data",
       "text": [
        "<IPython.core.display.Javascript at 0x1778c0f0>"
       ]
      },
      {
       "javascript": [
        "$('div#fcacfc69-14e6-4075-9d69-383a7ac1188c').text('  2%');"
       ],
       "metadata": {},
       "output_type": "display_data",
       "text": [
        "<IPython.core.display.Javascript at 0x1778c0f0>"
       ]
      },
      {
       "javascript": [
        "\n",
        "        var $myPB = $(\"div#e406e35c-1244-4166-bf8a-493478997f49\")\n",
        "        if ($myPB.hasClass('ui-progressbar')) {\n",
        "            $myPB.progressbar('value', 42);\n",
        "        } else {\n",
        "            $myPB.progressbar({value: 0, max: 2029});\n",
        "        }\n",
        "        "
       ],
       "metadata": {},
       "output_type": "display_data",
       "text": [
        "<IPython.core.display.Javascript at 0x1778c390>"
       ]
      },
      {
       "javascript": [
        "$('div#9ccddfd4-3c0c-48d2-904f-c02e55cf6dd9').text('ETA:  0:00:00');"
       ],
       "metadata": {},
       "output_type": "display_data",
       "text": [
        "<IPython.core.display.Javascript at 0x18477668>"
       ]
      },
      {
       "javascript": [
        "$('div#1b562af1-bb80-4652-899c-f1e43f084d0d').text('63 of 2029');"
       ],
       "metadata": {},
       "output_type": "display_data",
       "text": [
        "<IPython.core.display.Javascript at 0x16fe8358>"
       ]
      },
      {
       "javascript": [
        "$('div#fcacfc69-14e6-4075-9d69-383a7ac1188c').text('  3%');"
       ],
       "metadata": {},
       "output_type": "display_data",
       "text": [
        "<IPython.core.display.Javascript at 0x18477668>"
       ]
      },
      {
       "javascript": [
        "\n",
        "        var $myPB = $(\"div#e406e35c-1244-4166-bf8a-493478997f49\")\n",
        "        if ($myPB.hasClass('ui-progressbar')) {\n",
        "            $myPB.progressbar('value', 63);\n",
        "        } else {\n",
        "            $myPB.progressbar({value: 0, max: 2029});\n",
        "        }\n",
        "        "
       ],
       "metadata": {},
       "output_type": "display_data",
       "text": [
        "<IPython.core.display.Javascript at 0x1778c390>"
       ]
      },
      {
       "javascript": [
        "$('div#9ccddfd4-3c0c-48d2-904f-c02e55cf6dd9').text('ETA:  0:00:00');"
       ],
       "metadata": {},
       "output_type": "display_data",
       "text": [
        "<IPython.core.display.Javascript at 0x1778c0f0>"
       ]
      },
      {
       "javascript": [
        "$('div#1b562af1-bb80-4652-899c-f1e43f084d0d').text('84 of 2029');"
       ],
       "metadata": {},
       "output_type": "display_data",
       "text": [
        "<IPython.core.display.Javascript at 0x16fe8358>"
       ]
      },
      {
       "javascript": [
        "$('div#fcacfc69-14e6-4075-9d69-383a7ac1188c').text('  4%');"
       ],
       "metadata": {},
       "output_type": "display_data",
       "text": [
        "<IPython.core.display.Javascript at 0x1778c0f0>"
       ]
      },
      {
       "javascript": [
        "\n",
        "        var $myPB = $(\"div#e406e35c-1244-4166-bf8a-493478997f49\")\n",
        "        if ($myPB.hasClass('ui-progressbar')) {\n",
        "            $myPB.progressbar('value', 84);\n",
        "        } else {\n",
        "            $myPB.progressbar({value: 0, max: 2029});\n",
        "        }\n",
        "        "
       ],
       "metadata": {},
       "output_type": "display_data",
       "text": [
        "<IPython.core.display.Javascript at 0x1778c390>"
       ]
      },
      {
       "javascript": [
        "$('div#9ccddfd4-3c0c-48d2-904f-c02e55cf6dd9').text('ETA:  0:00:00');"
       ],
       "metadata": {},
       "output_type": "display_data",
       "text": [
        "<IPython.core.display.Javascript at 0x18477668>"
       ]
      },
      {
       "javascript": [
        "$('div#1b562af1-bb80-4652-899c-f1e43f084d0d').text('105 of 2029');"
       ],
       "metadata": {},
       "output_type": "display_data",
       "text": [
        "<IPython.core.display.Javascript at 0x16fe8358>"
       ]
      },
      {
       "javascript": [
        "$('div#fcacfc69-14e6-4075-9d69-383a7ac1188c').text('  5%');"
       ],
       "metadata": {},
       "output_type": "display_data",
       "text": [
        "<IPython.core.display.Javascript at 0x18477668>"
       ]
      },
      {
       "javascript": [
        "\n",
        "        var $myPB = $(\"div#e406e35c-1244-4166-bf8a-493478997f49\")\n",
        "        if ($myPB.hasClass('ui-progressbar')) {\n",
        "            $myPB.progressbar('value', 105);\n",
        "        } else {\n",
        "            $myPB.progressbar({value: 0, max: 2029});\n",
        "        }\n",
        "        "
       ],
       "metadata": {},
       "output_type": "display_data",
       "text": [
        "<IPython.core.display.Javascript at 0x1778c390>"
       ]
      },
      {
       "javascript": [
        "$('div#9ccddfd4-3c0c-48d2-904f-c02e55cf6dd9').text('ETA:  0:00:00');"
       ],
       "metadata": {},
       "output_type": "display_data",
       "text": [
        "<IPython.core.display.Javascript at 0x1778c0f0>"
       ]
      },
      {
       "javascript": [
        "$('div#1b562af1-bb80-4652-899c-f1e43f084d0d').text('126 of 2029');"
       ],
       "metadata": {},
       "output_type": "display_data",
       "text": [
        "<IPython.core.display.Javascript at 0x16fe8358>"
       ]
      },
      {
       "javascript": [
        "$('div#fcacfc69-14e6-4075-9d69-383a7ac1188c').text('  6%');"
       ],
       "metadata": {},
       "output_type": "display_data",
       "text": [
        "<IPython.core.display.Javascript at 0x1778c0f0>"
       ]
      },
      {
       "javascript": [
        "\n",
        "        var $myPB = $(\"div#e406e35c-1244-4166-bf8a-493478997f49\")\n",
        "        if ($myPB.hasClass('ui-progressbar')) {\n",
        "            $myPB.progressbar('value', 126);\n",
        "        } else {\n",
        "            $myPB.progressbar({value: 0, max: 2029});\n",
        "        }\n",
        "        "
       ],
       "metadata": {},
       "output_type": "display_data",
       "text": [
        "<IPython.core.display.Javascript at 0x1778c390>"
       ]
      },
      {
       "javascript": [
        "$('div#9ccddfd4-3c0c-48d2-904f-c02e55cf6dd9').text('ETA:  0:00:00');"
       ],
       "metadata": {},
       "output_type": "display_data",
       "text": [
        "<IPython.core.display.Javascript at 0x18477668>"
       ]
      },
      {
       "javascript": [
        "$('div#1b562af1-bb80-4652-899c-f1e43f084d0d').text('147 of 2029');"
       ],
       "metadata": {},
       "output_type": "display_data",
       "text": [
        "<IPython.core.display.Javascript at 0x16fe8358>"
       ]
      },
      {
       "javascript": [
        "$('div#fcacfc69-14e6-4075-9d69-383a7ac1188c').text('  7%');"
       ],
       "metadata": {},
       "output_type": "display_data",
       "text": [
        "<IPython.core.display.Javascript at 0x18477668>"
       ]
      },
      {
       "javascript": [
        "\n",
        "        var $myPB = $(\"div#e406e35c-1244-4166-bf8a-493478997f49\")\n",
        "        if ($myPB.hasClass('ui-progressbar')) {\n",
        "            $myPB.progressbar('value', 147);\n",
        "        } else {\n",
        "            $myPB.progressbar({value: 0, max: 2029});\n",
        "        }\n",
        "        "
       ],
       "metadata": {},
       "output_type": "display_data",
       "text": [
        "<IPython.core.display.Javascript at 0x1778c390>"
       ]
      },
      {
       "javascript": [
        "$('div#9ccddfd4-3c0c-48d2-904f-c02e55cf6dd9').text('ETA:  0:00:00');"
       ],
       "metadata": {},
       "output_type": "display_data",
       "text": [
        "<IPython.core.display.Javascript at 0x1778c0f0>"
       ]
      },
      {
       "javascript": [
        "$('div#1b562af1-bb80-4652-899c-f1e43f084d0d').text('168 of 2029');"
       ],
       "metadata": {},
       "output_type": "display_data",
       "text": [
        "<IPython.core.display.Javascript at 0x16fe85c0>"
       ]
      },
      {
       "javascript": [
        "$('div#fcacfc69-14e6-4075-9d69-383a7ac1188c').text('  8%');"
       ],
       "metadata": {},
       "output_type": "display_data",
       "text": [
        "<IPython.core.display.Javascript at 0x1778c0f0>"
       ]
      },
      {
       "javascript": [
        "\n",
        "        var $myPB = $(\"div#e406e35c-1244-4166-bf8a-493478997f49\")\n",
        "        if ($myPB.hasClass('ui-progressbar')) {\n",
        "            $myPB.progressbar('value', 168);\n",
        "        } else {\n",
        "            $myPB.progressbar({value: 0, max: 2029});\n",
        "        }\n",
        "        "
       ],
       "metadata": {},
       "output_type": "display_data",
       "text": [
        "<IPython.core.display.Javascript at 0x1778c390>"
       ]
      },
      {
       "javascript": [
        "$('div#9ccddfd4-3c0c-48d2-904f-c02e55cf6dd9').text('ETA:  0:00:00');"
       ],
       "metadata": {},
       "output_type": "display_data",
       "text": [
        "<IPython.core.display.Javascript at 0x18477668>"
       ]
      },
      {
       "javascript": [
        "$('div#1b562af1-bb80-4652-899c-f1e43f084d0d').text('189 of 2029');"
       ],
       "metadata": {},
       "output_type": "display_data",
       "text": [
        "<IPython.core.display.Javascript at 0x16fe85c0>"
       ]
      },
      {
       "javascript": [
        "$('div#fcacfc69-14e6-4075-9d69-383a7ac1188c').text('  9%');"
       ],
       "metadata": {},
       "output_type": "display_data",
       "text": [
        "<IPython.core.display.Javascript at 0x18477668>"
       ]
      },
      {
       "javascript": [
        "\n",
        "        var $myPB = $(\"div#e406e35c-1244-4166-bf8a-493478997f49\")\n",
        "        if ($myPB.hasClass('ui-progressbar')) {\n",
        "            $myPB.progressbar('value', 189);\n",
        "        } else {\n",
        "            $myPB.progressbar({value: 0, max: 2029});\n",
        "        }\n",
        "        "
       ],
       "metadata": {},
       "output_type": "display_data",
       "text": [
        "<IPython.core.display.Javascript at 0x1778c390>"
       ]
      },
      {
       "javascript": [
        "$('div#9ccddfd4-3c0c-48d2-904f-c02e55cf6dd9').text('ETA:  0:00:00');"
       ],
       "metadata": {},
       "output_type": "display_data",
       "text": [
        "<IPython.core.display.Javascript at 0x1778c0f0>"
       ]
      },
      {
       "javascript": [
        "$('div#1b562af1-bb80-4652-899c-f1e43f084d0d').text('210 of 2029');"
       ],
       "metadata": {},
       "output_type": "display_data",
       "text": [
        "<IPython.core.display.Javascript at 0x16fe85c0>"
       ]
      },
      {
       "javascript": [
        "$('div#fcacfc69-14e6-4075-9d69-383a7ac1188c').text(' 10%');"
       ],
       "metadata": {},
       "output_type": "display_data",
       "text": [
        "<IPython.core.display.Javascript at 0x16fe84a8>"
       ]
      },
      {
       "javascript": [
        "\n",
        "        var $myPB = $(\"div#e406e35c-1244-4166-bf8a-493478997f49\")\n",
        "        if ($myPB.hasClass('ui-progressbar')) {\n",
        "            $myPB.progressbar('value', 210);\n",
        "        } else {\n",
        "            $myPB.progressbar({value: 0, max: 2029});\n",
        "        }\n",
        "        "
       ],
       "metadata": {},
       "output_type": "display_data",
       "text": [
        "<IPython.core.display.Javascript at 0x18477668>"
       ]
      },
      {
       "javascript": [
        "$('div#9ccddfd4-3c0c-48d2-904f-c02e55cf6dd9').text('ETA:  0:00:00');"
       ],
       "metadata": {},
       "output_type": "display_data",
       "text": [
        "<IPython.core.display.Javascript at 0x1778c390>"
       ]
      },
      {
       "javascript": [
        "$('div#1b562af1-bb80-4652-899c-f1e43f084d0d').text('231 of 2029');"
       ],
       "metadata": {},
       "output_type": "display_data",
       "text": [
        "<IPython.core.display.Javascript at 0x3501e10>"
       ]
      },
      {
       "javascript": [
        "$('div#fcacfc69-14e6-4075-9d69-383a7ac1188c').text(' 11%');"
       ],
       "metadata": {},
       "output_type": "display_data",
       "text": [
        "<IPython.core.display.Javascript at 0x16fe8668>"
       ]
      },
      {
       "javascript": [
        "\n",
        "        var $myPB = $(\"div#e406e35c-1244-4166-bf8a-493478997f49\")\n",
        "        if ($myPB.hasClass('ui-progressbar')) {\n",
        "            $myPB.progressbar('value', 231);\n",
        "        } else {\n",
        "            $myPB.progressbar({value: 0, max: 2029});\n",
        "        }\n",
        "        "
       ],
       "metadata": {},
       "output_type": "display_data",
       "text": [
        "<IPython.core.display.Javascript at 0x18477668>"
       ]
      },
      {
       "javascript": [
        "$('div#9ccddfd4-3c0c-48d2-904f-c02e55cf6dd9').text('ETA:  0:00:00');"
       ],
       "metadata": {},
       "output_type": "display_data",
       "text": [
        "<IPython.core.display.Javascript at 0x1778c390>"
       ]
      },
      {
       "javascript": [
        "$('div#1b562af1-bb80-4652-899c-f1e43f084d0d').text('252 of 2029');"
       ],
       "metadata": {},
       "output_type": "display_data",
       "text": [
        "<IPython.core.display.Javascript at 0x1778c0f0>"
       ]
      },
      {
       "javascript": [
        "$('div#fcacfc69-14e6-4075-9d69-383a7ac1188c').text(' 12%');"
       ],
       "metadata": {},
       "output_type": "display_data",
       "text": [
        "<IPython.core.display.Javascript at 0x16fe85c0>"
       ]
      },
      {
       "javascript": [
        "\n",
        "        var $myPB = $(\"div#e406e35c-1244-4166-bf8a-493478997f49\")\n",
        "        if ($myPB.hasClass('ui-progressbar')) {\n",
        "            $myPB.progressbar('value', 252);\n",
        "        } else {\n",
        "            $myPB.progressbar({value: 0, max: 2029});\n",
        "        }\n",
        "        "
       ],
       "metadata": {},
       "output_type": "display_data",
       "text": [
        "<IPython.core.display.Javascript at 0x18477668>"
       ]
      },
      {
       "javascript": [
        "$('div#9ccddfd4-3c0c-48d2-904f-c02e55cf6dd9').text('ETA:  0:00:00');"
       ],
       "metadata": {},
       "output_type": "display_data",
       "text": [
        "<IPython.core.display.Javascript at 0x1778c390>"
       ]
      },
      {
       "javascript": [
        "$('div#1b562af1-bb80-4652-899c-f1e43f084d0d').text('273 of 2029');"
       ],
       "metadata": {},
       "output_type": "display_data",
       "text": [
        "<IPython.core.display.Javascript at 0x3501e10>"
       ]
      },
      {
       "javascript": [
        "$('div#fcacfc69-14e6-4075-9d69-383a7ac1188c').text(' 13%');"
       ],
       "metadata": {},
       "output_type": "display_data",
       "text": [
        "<IPython.core.display.Javascript at 0x16fe8ba8>"
       ]
      },
      {
       "javascript": [
        "\n",
        "        var $myPB = $(\"div#e406e35c-1244-4166-bf8a-493478997f49\")\n",
        "        if ($myPB.hasClass('ui-progressbar')) {\n",
        "            $myPB.progressbar('value', 273);\n",
        "        } else {\n",
        "            $myPB.progressbar({value: 0, max: 2029});\n",
        "        }\n",
        "        "
       ],
       "metadata": {},
       "output_type": "display_data",
       "text": [
        "<IPython.core.display.Javascript at 0x1778c390>"
       ]
      },
      {
       "javascript": [
        "$('div#9ccddfd4-3c0c-48d2-904f-c02e55cf6dd9').text('ETA:  0:00:00');"
       ],
       "metadata": {},
       "output_type": "display_data",
       "text": [
        "<IPython.core.display.Javascript at 0x18477668>"
       ]
      },
      {
       "javascript": [
        "$('div#1b562af1-bb80-4652-899c-f1e43f084d0d').text('294 of 2029');"
       ],
       "metadata": {},
       "output_type": "display_data",
       "text": [
        "<IPython.core.display.Javascript at 0x3501e10>"
       ]
      },
      {
       "javascript": [
        "$('div#fcacfc69-14e6-4075-9d69-383a7ac1188c').text(' 14%');"
       ],
       "metadata": {},
       "output_type": "display_data",
       "text": [
        "<IPython.core.display.Javascript at 0x16fe84a8>"
       ]
      },
      {
       "javascript": [
        "\n",
        "        var $myPB = $(\"div#e406e35c-1244-4166-bf8a-493478997f49\")\n",
        "        if ($myPB.hasClass('ui-progressbar')) {\n",
        "            $myPB.progressbar('value', 294);\n",
        "        } else {\n",
        "            $myPB.progressbar({value: 0, max: 2029});\n",
        "        }\n",
        "        "
       ],
       "metadata": {},
       "output_type": "display_data",
       "text": [
        "<IPython.core.display.Javascript at 0x3501e10>"
       ]
      },
      {
       "javascript": [
        "$('div#9ccddfd4-3c0c-48d2-904f-c02e55cf6dd9').text('ETA:  0:00:00');"
       ],
       "metadata": {},
       "output_type": "display_data",
       "text": [
        "<IPython.core.display.Javascript at 0x1778c390>"
       ]
      },
      {
       "javascript": [
        "$('div#1b562af1-bb80-4652-899c-f1e43f084d0d').text('315 of 2029');"
       ],
       "metadata": {},
       "output_type": "display_data",
       "text": [
        "<IPython.core.display.Javascript at 0x1778c0f0>"
       ]
      },
      {
       "javascript": [
        "$('div#fcacfc69-14e6-4075-9d69-383a7ac1188c').text(' 15%');"
       ],
       "metadata": {},
       "output_type": "display_data",
       "text": [
        "<IPython.core.display.Javascript at 0x16fe8d68>"
       ]
      },
      {
       "javascript": [
        "\n",
        "        var $myPB = $(\"div#e406e35c-1244-4166-bf8a-493478997f49\")\n",
        "        if ($myPB.hasClass('ui-progressbar')) {\n",
        "            $myPB.progressbar('value', 315);\n",
        "        } else {\n",
        "            $myPB.progressbar({value: 0, max: 2029});\n",
        "        }\n",
        "        "
       ],
       "metadata": {},
       "output_type": "display_data",
       "text": [
        "<IPython.core.display.Javascript at 0x16fe86a0>"
       ]
      },
      {
       "javascript": [
        "$('div#9ccddfd4-3c0c-48d2-904f-c02e55cf6dd9').text('ETA:  0:00:00');"
       ],
       "metadata": {},
       "output_type": "display_data",
       "text": [
        "<IPython.core.display.Javascript at 0x3501e10>"
       ]
      },
      {
       "javascript": [
        "$('div#1b562af1-bb80-4652-899c-f1e43f084d0d').text('336 of 2029');"
       ],
       "metadata": {},
       "output_type": "display_data",
       "text": [
        "<IPython.core.display.Javascript at 0x1778c0f0>"
       ]
      },
      {
       "javascript": [
        "$('div#fcacfc69-14e6-4075-9d69-383a7ac1188c').text(' 16%');"
       ],
       "metadata": {},
       "output_type": "display_data",
       "text": [
        "<IPython.core.display.Javascript at 0x1778c390>"
       ]
      },
      {
       "javascript": [
        "\n",
        "        var $myPB = $(\"div#e406e35c-1244-4166-bf8a-493478997f49\")\n",
        "        if ($myPB.hasClass('ui-progressbar')) {\n",
        "            $myPB.progressbar('value', 336);\n",
        "        } else {\n",
        "            $myPB.progressbar({value: 0, max: 2029});\n",
        "        }\n",
        "        "
       ],
       "metadata": {},
       "output_type": "display_data",
       "text": [
        "<IPython.core.display.Javascript at 0x16fe86a0>"
       ]
      },
      {
       "javascript": [
        "$('div#9ccddfd4-3c0c-48d2-904f-c02e55cf6dd9').text('ETA:  0:00:00');"
       ],
       "metadata": {},
       "output_type": "display_data",
       "text": [
        "<IPython.core.display.Javascript at 0x3501e10>"
       ]
      },
      {
       "javascript": [
        "$('div#1b562af1-bb80-4652-899c-f1e43f084d0d').text('357 of 2029');"
       ],
       "metadata": {},
       "output_type": "display_data",
       "text": [
        "<IPython.core.display.Javascript at 0x1778c0f0>"
       ]
      },
      {
       "javascript": [
        "$('div#fcacfc69-14e6-4075-9d69-383a7ac1188c').text(' 17%');"
       ],
       "metadata": {},
       "output_type": "display_data",
       "text": [
        "<IPython.core.display.Javascript at 0x1ae35208>"
       ]
      },
      {
       "javascript": [
        "\n",
        "        var $myPB = $(\"div#e406e35c-1244-4166-bf8a-493478997f49\")\n",
        "        if ($myPB.hasClass('ui-progressbar')) {\n",
        "            $myPB.progressbar('value', 357);\n",
        "        } else {\n",
        "            $myPB.progressbar({value: 0, max: 2029});\n",
        "        }\n",
        "        "
       ],
       "metadata": {},
       "output_type": "display_data",
       "text": [
        "<IPython.core.display.Javascript at 0x16fe86a0>"
       ]
      },
      {
       "javascript": [
        "$('div#9ccddfd4-3c0c-48d2-904f-c02e55cf6dd9').text('ETA:  0:00:00');"
       ],
       "metadata": {},
       "output_type": "display_data",
       "text": [
        "<IPython.core.display.Javascript at 0x3501e10>"
       ]
      },
      {
       "javascript": [
        "$('div#1b562af1-bb80-4652-899c-f1e43f084d0d').text('378 of 2029');"
       ],
       "metadata": {},
       "output_type": "display_data",
       "text": [
        "<IPython.core.display.Javascript at 0x1778c390>"
       ]
      },
      {
       "javascript": [
        "$('div#fcacfc69-14e6-4075-9d69-383a7ac1188c').text(' 18%');"
       ],
       "metadata": {},
       "output_type": "display_data",
       "text": [
        "<IPython.core.display.Javascript at 0x1778c0f0>"
       ]
      },
      {
       "javascript": [
        "\n",
        "        var $myPB = $(\"div#e406e35c-1244-4166-bf8a-493478997f49\")\n",
        "        if ($myPB.hasClass('ui-progressbar')) {\n",
        "            $myPB.progressbar('value', 378);\n",
        "        } else {\n",
        "            $myPB.progressbar({value: 0, max: 2029});\n",
        "        }\n",
        "        "
       ],
       "metadata": {},
       "output_type": "display_data",
       "text": [
        "<IPython.core.display.Javascript at 0x16fe86a0>"
       ]
      },
      {
       "javascript": [
        "$('div#9ccddfd4-3c0c-48d2-904f-c02e55cf6dd9').text('ETA:  0:00:00');"
       ],
       "metadata": {},
       "output_type": "display_data",
       "text": [
        "<IPython.core.display.Javascript at 0x3501e10>"
       ]
      },
      {
       "javascript": [
        "$('div#1b562af1-bb80-4652-899c-f1e43f084d0d').text('399 of 2029');"
       ],
       "metadata": {},
       "output_type": "display_data",
       "text": [
        "<IPython.core.display.Javascript at 0x18477668>"
       ]
      },
      {
       "javascript": [
        "$('div#fcacfc69-14e6-4075-9d69-383a7ac1188c').text(' 19%');"
       ],
       "metadata": {},
       "output_type": "display_data",
       "text": [
        "<IPython.core.display.Javascript at 0x1ae35908>"
       ]
      },
      {
       "javascript": [
        "\n",
        "        var $myPB = $(\"div#e406e35c-1244-4166-bf8a-493478997f49\")\n",
        "        if ($myPB.hasClass('ui-progressbar')) {\n",
        "            $myPB.progressbar('value', 399);\n",
        "        } else {\n",
        "            $myPB.progressbar({value: 0, max: 2029});\n",
        "        }\n",
        "        "
       ],
       "metadata": {},
       "output_type": "display_data",
       "text": [
        "<IPython.core.display.Javascript at 0x16fe86a0>"
       ]
      },
      {
       "javascript": [
        "$('div#9ccddfd4-3c0c-48d2-904f-c02e55cf6dd9').text('ETA:  0:00:00');"
       ],
       "metadata": {},
       "output_type": "display_data",
       "text": [
        "<IPython.core.display.Javascript at 0x3501e10>"
       ]
      },
      {
       "javascript": [
        "$('div#1b562af1-bb80-4652-899c-f1e43f084d0d').text('420 of 2029');"
       ],
       "metadata": {},
       "output_type": "display_data",
       "text": [
        "<IPython.core.display.Javascript at 0x18477668>"
       ]
      },
      {
       "javascript": [
        "$('div#fcacfc69-14e6-4075-9d69-383a7ac1188c').text(' 20%');"
       ],
       "metadata": {},
       "output_type": "display_data",
       "text": [
        "<IPython.core.display.Javascript at 0x1ae35208>"
       ]
      },
      {
       "javascript": [
        "\n",
        "        var $myPB = $(\"div#e406e35c-1244-4166-bf8a-493478997f49\")\n",
        "        if ($myPB.hasClass('ui-progressbar')) {\n",
        "            $myPB.progressbar('value', 420);\n",
        "        } else {\n",
        "            $myPB.progressbar({value: 0, max: 2029});\n",
        "        }\n",
        "        "
       ],
       "metadata": {},
       "output_type": "display_data",
       "text": [
        "<IPython.core.display.Javascript at 0x1778c0f0>"
       ]
      },
      {
       "javascript": [
        "$('div#9ccddfd4-3c0c-48d2-904f-c02e55cf6dd9').text('ETA:  0:00:00');"
       ],
       "metadata": {},
       "output_type": "display_data",
       "text": [
        "<IPython.core.display.Javascript at 0x3501e10>"
       ]
      },
      {
       "javascript": [
        "$('div#1b562af1-bb80-4652-899c-f1e43f084d0d').text('441 of 2029');"
       ],
       "metadata": {},
       "output_type": "display_data",
       "text": [
        "<IPython.core.display.Javascript at 0x18477668>"
       ]
      },
      {
       "javascript": [
        "$('div#fcacfc69-14e6-4075-9d69-383a7ac1188c').text(' 21%');"
       ],
       "metadata": {},
       "output_type": "display_data",
       "text": [
        "<IPython.core.display.Javascript at 0x16fe86a0>"
       ]
      },
      {
       "javascript": [
        "\n",
        "        var $myPB = $(\"div#e406e35c-1244-4166-bf8a-493478997f49\")\n",
        "        if ($myPB.hasClass('ui-progressbar')) {\n",
        "            $myPB.progressbar('value', 441);\n",
        "        } else {\n",
        "            $myPB.progressbar({value: 0, max: 2029});\n",
        "        }\n",
        "        "
       ],
       "metadata": {},
       "output_type": "display_data",
       "text": [
        "<IPython.core.display.Javascript at 0x1778c0f0>"
       ]
      },
      {
       "javascript": [
        "$('div#9ccddfd4-3c0c-48d2-904f-c02e55cf6dd9').text('ETA:  0:00:00');"
       ],
       "metadata": {},
       "output_type": "display_data",
       "text": [
        "<IPython.core.display.Javascript at 0x3501e10>"
       ]
      },
      {
       "javascript": [
        "$('div#1b562af1-bb80-4652-899c-f1e43f084d0d').text('462 of 2029');"
       ],
       "metadata": {},
       "output_type": "display_data",
       "text": [
        "<IPython.core.display.Javascript at 0x18477668>"
       ]
      },
      {
       "javascript": [
        "$('div#fcacfc69-14e6-4075-9d69-383a7ac1188c').text(' 22%');"
       ],
       "metadata": {},
       "output_type": "display_data",
       "text": [
        "<IPython.core.display.Javascript at 0x16fe84a8>"
       ]
      },
      {
       "javascript": [
        "\n",
        "        var $myPB = $(\"div#e406e35c-1244-4166-bf8a-493478997f49\")\n",
        "        if ($myPB.hasClass('ui-progressbar')) {\n",
        "            $myPB.progressbar('value', 462);\n",
        "        } else {\n",
        "            $myPB.progressbar({value: 0, max: 2029});\n",
        "        }\n",
        "        "
       ],
       "metadata": {},
       "output_type": "display_data",
       "text": [
        "<IPython.core.display.Javascript at 0x1778c0f0>"
       ]
      },
      {
       "javascript": [
        "$('div#9ccddfd4-3c0c-48d2-904f-c02e55cf6dd9').text('ETA:  0:00:00');"
       ],
       "metadata": {},
       "output_type": "display_data",
       "text": [
        "<IPython.core.display.Javascript at 0x3501e10>"
       ]
      },
      {
       "javascript": [
        "$('div#1b562af1-bb80-4652-899c-f1e43f084d0d').text('483 of 2029');"
       ],
       "metadata": {},
       "output_type": "display_data",
       "text": [
        "<IPython.core.display.Javascript at 0x18477668>"
       ]
      },
      {
       "javascript": [
        "$('div#fcacfc69-14e6-4075-9d69-383a7ac1188c').text(' 23%');"
       ],
       "metadata": {},
       "output_type": "display_data",
       "text": [
        "<IPython.core.display.Javascript at 0x16fe8ba8>"
       ]
      },
      {
       "javascript": [
        "\n",
        "        var $myPB = $(\"div#e406e35c-1244-4166-bf8a-493478997f49\")\n",
        "        if ($myPB.hasClass('ui-progressbar')) {\n",
        "            $myPB.progressbar('value', 483);\n",
        "        } else {\n",
        "            $myPB.progressbar({value: 0, max: 2029});\n",
        "        }\n",
        "        "
       ],
       "metadata": {},
       "output_type": "display_data",
       "text": [
        "<IPython.core.display.Javascript at 0x3501e10>"
       ]
      },
      {
       "javascript": [
        "$('div#9ccddfd4-3c0c-48d2-904f-c02e55cf6dd9').text('ETA:  0:00:00');"
       ],
       "metadata": {},
       "output_type": "display_data",
       "text": [
        "<IPython.core.display.Javascript at 0x1778c0f0>"
       ]
      },
      {
       "javascript": [
        "$('div#1b562af1-bb80-4652-899c-f1e43f084d0d').text('504 of 2029');"
       ],
       "metadata": {},
       "output_type": "display_data",
       "text": [
        "<IPython.core.display.Javascript at 0x18477668>"
       ]
      },
      {
       "javascript": [
        "$('div#fcacfc69-14e6-4075-9d69-383a7ac1188c').text(' 24%');"
       ],
       "metadata": {},
       "output_type": "display_data",
       "text": [
        "<IPython.core.display.Javascript at 0x16fe8d68>"
       ]
      },
      {
       "javascript": [
        "\n",
        "        var $myPB = $(\"div#e406e35c-1244-4166-bf8a-493478997f49\")\n",
        "        if ($myPB.hasClass('ui-progressbar')) {\n",
        "            $myPB.progressbar('value', 504);\n",
        "        } else {\n",
        "            $myPB.progressbar({value: 0, max: 2029});\n",
        "        }\n",
        "        "
       ],
       "metadata": {},
       "output_type": "display_data",
       "text": [
        "<IPython.core.display.Javascript at 0x18477668>"
       ]
      },
      {
       "javascript": [
        "$('div#9ccddfd4-3c0c-48d2-904f-c02e55cf6dd9').text('ETA:  0:00:00');"
       ],
       "metadata": {},
       "output_type": "display_data",
       "text": [
        "<IPython.core.display.Javascript at 0x3501e10>"
       ]
      },
      {
       "javascript": [
        "$('div#1b562af1-bb80-4652-899c-f1e43f084d0d').text('525 of 2029');"
       ],
       "metadata": {},
       "output_type": "display_data",
       "text": [
        "<IPython.core.display.Javascript at 0x1778c0f0>"
       ]
      },
      {
       "javascript": [
        "$('div#fcacfc69-14e6-4075-9d69-383a7ac1188c').text(' 25%');"
       ],
       "metadata": {},
       "output_type": "display_data",
       "text": [
        "<IPython.core.display.Javascript at 0x16fe8668>"
       ]
      },
      {
       "javascript": [
        "\n",
        "        var $myPB = $(\"div#e406e35c-1244-4166-bf8a-493478997f49\")\n",
        "        if ($myPB.hasClass('ui-progressbar')) {\n",
        "            $myPB.progressbar('value', 525);\n",
        "        } else {\n",
        "            $myPB.progressbar({value: 0, max: 2029});\n",
        "        }\n",
        "        "
       ],
       "metadata": {},
       "output_type": "display_data",
       "text": [
        "<IPython.core.display.Javascript at 0x16fe85c0>"
       ]
      },
      {
       "javascript": [
        "$('div#9ccddfd4-3c0c-48d2-904f-c02e55cf6dd9').text('ETA:  0:00:00');"
       ],
       "metadata": {},
       "output_type": "display_data",
       "text": [
        "<IPython.core.display.Javascript at 0x18477668>"
       ]
      },
      {
       "javascript": [
        "$('div#1b562af1-bb80-4652-899c-f1e43f084d0d').text('546 of 2029');"
       ],
       "metadata": {},
       "output_type": "display_data",
       "text": [
        "<IPython.core.display.Javascript at 0x1778c0f0>"
       ]
      },
      {
       "javascript": [
        "$('div#fcacfc69-14e6-4075-9d69-383a7ac1188c').text(' 26%');"
       ],
       "metadata": {},
       "output_type": "display_data",
       "text": [
        "<IPython.core.display.Javascript at 0x3501e10>"
       ]
      },
      {
       "javascript": [
        "\n",
        "        var $myPB = $(\"div#e406e35c-1244-4166-bf8a-493478997f49\")\n",
        "        if ($myPB.hasClass('ui-progressbar')) {\n",
        "            $myPB.progressbar('value', 546);\n",
        "        } else {\n",
        "            $myPB.progressbar({value: 0, max: 2029});\n",
        "        }\n",
        "        "
       ],
       "metadata": {},
       "output_type": "display_data",
       "text": [
        "<IPython.core.display.Javascript at 0x16fe85c0>"
       ]
      },
      {
       "javascript": [
        "$('div#9ccddfd4-3c0c-48d2-904f-c02e55cf6dd9').text('ETA:  0:00:00');"
       ],
       "metadata": {},
       "output_type": "display_data",
       "text": [
        "<IPython.core.display.Javascript at 0x18477668>"
       ]
      },
      {
       "javascript": [
        "$('div#1b562af1-bb80-4652-899c-f1e43f084d0d').text('567 of 2029');"
       ],
       "metadata": {},
       "output_type": "display_data",
       "text": [
        "<IPython.core.display.Javascript at 0x1778c0f0>"
       ]
      },
      {
       "javascript": [
        "$('div#fcacfc69-14e6-4075-9d69-383a7ac1188c').text(' 27%');"
       ],
       "metadata": {},
       "output_type": "display_data",
       "text": [
        "<IPython.core.display.Javascript at 0x1ae35208>"
       ]
      },
      {
       "javascript": [
        "\n",
        "        var $myPB = $(\"div#e406e35c-1244-4166-bf8a-493478997f49\")\n",
        "        if ($myPB.hasClass('ui-progressbar')) {\n",
        "            $myPB.progressbar('value', 567);\n",
        "        } else {\n",
        "            $myPB.progressbar({value: 0, max: 2029});\n",
        "        }\n",
        "        "
       ],
       "metadata": {},
       "output_type": "display_data",
       "text": [
        "<IPython.core.display.Javascript at 0x16fe85c0>"
       ]
      },
      {
       "javascript": [
        "$('div#9ccddfd4-3c0c-48d2-904f-c02e55cf6dd9').text('ETA:  0:00:00');"
       ],
       "metadata": {},
       "output_type": "display_data",
       "text": [
        "<IPython.core.display.Javascript at 0x18477668>"
       ]
      },
      {
       "javascript": [
        "$('div#1b562af1-bb80-4652-899c-f1e43f084d0d').text('588 of 2029');"
       ],
       "metadata": {},
       "output_type": "display_data",
       "text": [
        "<IPython.core.display.Javascript at 0x1778c0f0>"
       ]
      },
      {
       "javascript": [
        "$('div#fcacfc69-14e6-4075-9d69-383a7ac1188c').text(' 28%');"
       ],
       "metadata": {},
       "output_type": "display_data",
       "text": [
        "<IPython.core.display.Javascript at 0x1ae35390>"
       ]
      },
      {
       "javascript": [
        "\n",
        "        var $myPB = $(\"div#e406e35c-1244-4166-bf8a-493478997f49\")\n",
        "        if ($myPB.hasClass('ui-progressbar')) {\n",
        "            $myPB.progressbar('value', 588);\n",
        "        } else {\n",
        "            $myPB.progressbar({value: 0, max: 2029});\n",
        "        }\n",
        "        "
       ],
       "metadata": {},
       "output_type": "display_data",
       "text": [
        "<IPython.core.display.Javascript at 0x16fe85c0>"
       ]
      },
      {
       "javascript": [
        "$('div#9ccddfd4-3c0c-48d2-904f-c02e55cf6dd9').text('ETA:  0:00:00');"
       ],
       "metadata": {},
       "output_type": "display_data",
       "text": [
        "<IPython.core.display.Javascript at 0x18477668>"
       ]
      },
      {
       "javascript": [
        "$('div#1b562af1-bb80-4652-899c-f1e43f084d0d').text('609 of 2029');"
       ],
       "metadata": {},
       "output_type": "display_data",
       "text": [
        "<IPython.core.display.Javascript at 0x1778c0f0>"
       ]
      },
      {
       "javascript": [
        "$('div#fcacfc69-14e6-4075-9d69-383a7ac1188c').text(' 30%');"
       ],
       "metadata": {},
       "output_type": "display_data",
       "text": [
        "<IPython.core.display.Javascript at 0x1ae35320>"
       ]
      },
      {
       "javascript": [
        "\n",
        "        var $myPB = $(\"div#e406e35c-1244-4166-bf8a-493478997f49\")\n",
        "        if ($myPB.hasClass('ui-progressbar')) {\n",
        "            $myPB.progressbar('value', 609);\n",
        "        } else {\n",
        "            $myPB.progressbar({value: 0, max: 2029});\n",
        "        }\n",
        "        "
       ],
       "metadata": {},
       "output_type": "display_data",
       "text": [
        "<IPython.core.display.Javascript at 0x16fe85c0>"
       ]
      },
      {
       "javascript": [
        "$('div#9ccddfd4-3c0c-48d2-904f-c02e55cf6dd9').text('ETA:  0:00:00');"
       ],
       "metadata": {},
       "output_type": "display_data",
       "text": [
        "<IPython.core.display.Javascript at 0x18477668>"
       ]
      },
      {
       "javascript": [
        "$('div#1b562af1-bb80-4652-899c-f1e43f084d0d').text('630 of 2029');"
       ],
       "metadata": {},
       "output_type": "display_data",
       "text": [
        "<IPython.core.display.Javascript at 0x1778c0f0>"
       ]
      },
      {
       "javascript": [
        "$('div#fcacfc69-14e6-4075-9d69-383a7ac1188c').text(' 31%');"
       ],
       "metadata": {},
       "output_type": "display_data",
       "text": [
        "<IPython.core.display.Javascript at 0x1ae35208>"
       ]
      },
      {
       "javascript": [
        "\n",
        "        var $myPB = $(\"div#e406e35c-1244-4166-bf8a-493478997f49\")\n",
        "        if ($myPB.hasClass('ui-progressbar')) {\n",
        "            $myPB.progressbar('value', 630);\n",
        "        } else {\n",
        "            $myPB.progressbar({value: 0, max: 2029});\n",
        "        }\n",
        "        "
       ],
       "metadata": {},
       "output_type": "display_data",
       "text": [
        "<IPython.core.display.Javascript at 0x16fe85c0>"
       ]
      },
      {
       "javascript": [
        "$('div#9ccddfd4-3c0c-48d2-904f-c02e55cf6dd9').text('ETA:  0:00:00');"
       ],
       "metadata": {},
       "output_type": "display_data",
       "text": [
        "<IPython.core.display.Javascript at 0x18477668>"
       ]
      },
      {
       "javascript": [
        "$('div#1b562af1-bb80-4652-899c-f1e43f084d0d').text('651 of 2029');"
       ],
       "metadata": {},
       "output_type": "display_data",
       "text": [
        "<IPython.core.display.Javascript at 0x1778c0f0>"
       ]
      },
      {
       "javascript": [
        "$('div#fcacfc69-14e6-4075-9d69-383a7ac1188c').text(' 32%');"
       ],
       "metadata": {},
       "output_type": "display_data",
       "text": [
        "<IPython.core.display.Javascript at 0x1ae35390>"
       ]
      },
      {
       "javascript": [
        "\n",
        "        var $myPB = $(\"div#e406e35c-1244-4166-bf8a-493478997f49\")\n",
        "        if ($myPB.hasClass('ui-progressbar')) {\n",
        "            $myPB.progressbar('value', 651);\n",
        "        } else {\n",
        "            $myPB.progressbar({value: 0, max: 2029});\n",
        "        }\n",
        "        "
       ],
       "metadata": {},
       "output_type": "display_data",
       "text": [
        "<IPython.core.display.Javascript at 0x16fe85c0>"
       ]
      },
      {
       "javascript": [
        "$('div#9ccddfd4-3c0c-48d2-904f-c02e55cf6dd9').text('ETA:  0:00:00');"
       ],
       "metadata": {},
       "output_type": "display_data",
       "text": [
        "<IPython.core.display.Javascript at 0x18477668>"
       ]
      },
      {
       "javascript": [
        "$('div#1b562af1-bb80-4652-899c-f1e43f084d0d').text('672 of 2029');"
       ],
       "metadata": {},
       "output_type": "display_data",
       "text": [
        "<IPython.core.display.Javascript at 0x1778c0f0>"
       ]
      },
      {
       "javascript": [
        "$('div#fcacfc69-14e6-4075-9d69-383a7ac1188c').text(' 33%');"
       ],
       "metadata": {},
       "output_type": "display_data",
       "text": [
        "<IPython.core.display.Javascript at 0x1ae35908>"
       ]
      },
      {
       "javascript": [
        "\n",
        "        var $myPB = $(\"div#e406e35c-1244-4166-bf8a-493478997f49\")\n",
        "        if ($myPB.hasClass('ui-progressbar')) {\n",
        "            $myPB.progressbar('value', 672);\n",
        "        } else {\n",
        "            $myPB.progressbar({value: 0, max: 2029});\n",
        "        }\n",
        "        "
       ],
       "metadata": {},
       "output_type": "display_data",
       "text": [
        "<IPython.core.display.Javascript at 0x3501e10>"
       ]
      },
      {
       "javascript": [
        "$('div#9ccddfd4-3c0c-48d2-904f-c02e55cf6dd9').text('ETA:  0:00:00');"
       ],
       "metadata": {},
       "output_type": "display_data",
       "text": [
        "<IPython.core.display.Javascript at 0x18477668>"
       ]
      },
      {
       "javascript": [
        "$('div#1b562af1-bb80-4652-899c-f1e43f084d0d').text('693 of 2029');"
       ],
       "metadata": {},
       "output_type": "display_data",
       "text": [
        "<IPython.core.display.Javascript at 0x1778c390>"
       ]
      },
      {
       "javascript": [
        "$('div#fcacfc69-14e6-4075-9d69-383a7ac1188c').text(' 34%');"
       ],
       "metadata": {},
       "output_type": "display_data",
       "text": [
        "<IPython.core.display.Javascript at 0x16fe85c0>"
       ]
      },
      {
       "javascript": [
        "\n",
        "        var $myPB = $(\"div#e406e35c-1244-4166-bf8a-493478997f49\")\n",
        "        if ($myPB.hasClass('ui-progressbar')) {\n",
        "            $myPB.progressbar('value', 693);\n",
        "        } else {\n",
        "            $myPB.progressbar({value: 0, max: 2029});\n",
        "        }\n",
        "        "
       ],
       "metadata": {},
       "output_type": "display_data",
       "text": [
        "<IPython.core.display.Javascript at 0x3501e10>"
       ]
      },
      {
       "javascript": [
        "$('div#9ccddfd4-3c0c-48d2-904f-c02e55cf6dd9').text('ETA:  0:00:00');"
       ],
       "metadata": {},
       "output_type": "display_data",
       "text": [
        "<IPython.core.display.Javascript at 0x18477668>"
       ]
      },
      {
       "javascript": [
        "$('div#1b562af1-bb80-4652-899c-f1e43f084d0d').text('714 of 2029');"
       ],
       "metadata": {},
       "output_type": "display_data",
       "text": [
        "<IPython.core.display.Javascript at 0x1778c390>"
       ]
      },
      {
       "javascript": [
        "$('div#fcacfc69-14e6-4075-9d69-383a7ac1188c').text(' 35%');"
       ],
       "metadata": {},
       "output_type": "display_data",
       "text": [
        "<IPython.core.display.Javascript at 0x16fe8d68>"
       ]
      },
      {
       "javascript": [
        "\n",
        "        var $myPB = $(\"div#e406e35c-1244-4166-bf8a-493478997f49\")\n",
        "        if ($myPB.hasClass('ui-progressbar')) {\n",
        "            $myPB.progressbar('value', 714);\n",
        "        } else {\n",
        "            $myPB.progressbar({value: 0, max: 2029});\n",
        "        }\n",
        "        "
       ],
       "metadata": {},
       "output_type": "display_data",
       "text": [
        "<IPython.core.display.Javascript at 0x3501e10>"
       ]
      },
      {
       "javascript": [
        "$('div#9ccddfd4-3c0c-48d2-904f-c02e55cf6dd9').text('ETA:  0:00:00');"
       ],
       "metadata": {},
       "output_type": "display_data",
       "text": [
        "<IPython.core.display.Javascript at 0x18477668>"
       ]
      },
      {
       "javascript": [
        "$('div#1b562af1-bb80-4652-899c-f1e43f084d0d').text('735 of 2029');"
       ],
       "metadata": {},
       "output_type": "display_data",
       "text": [
        "<IPython.core.display.Javascript at 0x1778c390>"
       ]
      },
      {
       "javascript": [
        "$('div#fcacfc69-14e6-4075-9d69-383a7ac1188c').text(' 36%');"
       ],
       "metadata": {},
       "output_type": "display_data",
       "text": [
        "<IPython.core.display.Javascript at 0x16fe8ba8>"
       ]
      },
      {
       "javascript": [
        "\n",
        "        var $myPB = $(\"div#e406e35c-1244-4166-bf8a-493478997f49\")\n",
        "        if ($myPB.hasClass('ui-progressbar')) {\n",
        "            $myPB.progressbar('value', 735);\n",
        "        } else {\n",
        "            $myPB.progressbar({value: 0, max: 2029});\n",
        "        }\n",
        "        "
       ],
       "metadata": {},
       "output_type": "display_data",
       "text": [
        "<IPython.core.display.Javascript at 0x18477668>"
       ]
      },
      {
       "javascript": [
        "$('div#9ccddfd4-3c0c-48d2-904f-c02e55cf6dd9').text('ETA:  0:00:00');"
       ],
       "metadata": {},
       "output_type": "display_data",
       "text": [
        "<IPython.core.display.Javascript at 0x3501e10>"
       ]
      },
      {
       "javascript": [
        "$('div#1b562af1-bb80-4652-899c-f1e43f084d0d').text('756 of 2029');"
       ],
       "metadata": {},
       "output_type": "display_data",
       "text": [
        "<IPython.core.display.Javascript at 0x1778c390>"
       ]
      },
      {
       "javascript": [
        "$('div#fcacfc69-14e6-4075-9d69-383a7ac1188c').text(' 37%');"
       ],
       "metadata": {},
       "output_type": "display_data",
       "text": [
        "<IPython.core.display.Javascript at 0x16fe8668>"
       ]
      },
      {
       "javascript": [
        "\n",
        "        var $myPB = $(\"div#e406e35c-1244-4166-bf8a-493478997f49\")\n",
        "        if ($myPB.hasClass('ui-progressbar')) {\n",
        "            $myPB.progressbar('value', 756);\n",
        "        } else {\n",
        "            $myPB.progressbar({value: 0, max: 2029});\n",
        "        }\n",
        "        "
       ],
       "metadata": {},
       "output_type": "display_data",
       "text": [
        "<IPython.core.display.Javascript at 0x1778c390>"
       ]
      },
      {
       "javascript": [
        "$('div#9ccddfd4-3c0c-48d2-904f-c02e55cf6dd9').text('ETA:  0:00:00');"
       ],
       "metadata": {},
       "output_type": "display_data",
       "text": [
        "<IPython.core.display.Javascript at 0x18477668>"
       ]
      },
      {
       "javascript": [
        "$('div#1b562af1-bb80-4652-899c-f1e43f084d0d').text('777 of 2029');"
       ],
       "metadata": {},
       "output_type": "display_data",
       "text": [
        "<IPython.core.display.Javascript at 0x1778c0f0>"
       ]
      },
      {
       "javascript": [
        "$('div#fcacfc69-14e6-4075-9d69-383a7ac1188c').text(' 38%');"
       ],
       "metadata": {},
       "output_type": "display_data",
       "text": [
        "<IPython.core.display.Javascript at 0x16fe84a8>"
       ]
      },
      {
       "javascript": [
        "\n",
        "        var $myPB = $(\"div#e406e35c-1244-4166-bf8a-493478997f49\")\n",
        "        if ($myPB.hasClass('ui-progressbar')) {\n",
        "            $myPB.progressbar('value', 777);\n",
        "        } else {\n",
        "            $myPB.progressbar({value: 0, max: 2029});\n",
        "        }\n",
        "        "
       ],
       "metadata": {},
       "output_type": "display_data",
       "text": [
        "<IPython.core.display.Javascript at 0x16fe86a0>"
       ]
      },
      {
       "javascript": [
        "$('div#9ccddfd4-3c0c-48d2-904f-c02e55cf6dd9').text('ETA:  0:00:00');"
       ],
       "metadata": {},
       "output_type": "display_data",
       "text": [
        "<IPython.core.display.Javascript at 0x18477668>"
       ]
      },
      {
       "javascript": [
        "$('div#1b562af1-bb80-4652-899c-f1e43f084d0d').text('798 of 2029');"
       ],
       "metadata": {},
       "output_type": "display_data",
       "text": [
        "<IPython.core.display.Javascript at 0x1778c390>"
       ]
      },
      {
       "javascript": [
        "$('div#fcacfc69-14e6-4075-9d69-383a7ac1188c').text(' 39%');"
       ],
       "metadata": {},
       "output_type": "display_data",
       "text": [
        "<IPython.core.display.Javascript at 0x1778c0f0>"
       ]
      },
      {
       "javascript": [
        "\n",
        "        var $myPB = $(\"div#e406e35c-1244-4166-bf8a-493478997f49\")\n",
        "        if ($myPB.hasClass('ui-progressbar')) {\n",
        "            $myPB.progressbar('value', 798);\n",
        "        } else {\n",
        "            $myPB.progressbar({value: 0, max: 2029});\n",
        "        }\n",
        "        "
       ],
       "metadata": {},
       "output_type": "display_data",
       "text": [
        "<IPython.core.display.Javascript at 0x16fe86a0>"
       ]
      },
      {
       "javascript": [
        "$('div#9ccddfd4-3c0c-48d2-904f-c02e55cf6dd9').text('ETA:  0:00:00');"
       ],
       "metadata": {},
       "output_type": "display_data",
       "text": [
        "<IPython.core.display.Javascript at 0x18477668>"
       ]
      },
      {
       "javascript": [
        "$('div#1b562af1-bb80-4652-899c-f1e43f084d0d').text('819 of 2029');"
       ],
       "metadata": {},
       "output_type": "display_data",
       "text": [
        "<IPython.core.display.Javascript at 0x1778c390>"
       ]
      },
      {
       "javascript": [
        "$('div#fcacfc69-14e6-4075-9d69-383a7ac1188c').text(' 40%');"
       ],
       "metadata": {},
       "output_type": "display_data",
       "text": [
        "<IPython.core.display.Javascript at 0x1ae35908>"
       ]
      },
      {
       "javascript": [
        "\n",
        "        var $myPB = $(\"div#e406e35c-1244-4166-bf8a-493478997f49\")\n",
        "        if ($myPB.hasClass('ui-progressbar')) {\n",
        "            $myPB.progressbar('value', 819);\n",
        "        } else {\n",
        "            $myPB.progressbar({value: 0, max: 2029});\n",
        "        }\n",
        "        "
       ],
       "metadata": {},
       "output_type": "display_data",
       "text": [
        "<IPython.core.display.Javascript at 0x16fe86a0>"
       ]
      },
      {
       "javascript": [
        "$('div#9ccddfd4-3c0c-48d2-904f-c02e55cf6dd9').text('ETA:  0:00:00');"
       ],
       "metadata": {},
       "output_type": "display_data",
       "text": [
        "<IPython.core.display.Javascript at 0x18477668>"
       ]
      },
      {
       "javascript": [
        "$('div#1b562af1-bb80-4652-899c-f1e43f084d0d').text('840 of 2029');"
       ],
       "metadata": {},
       "output_type": "display_data",
       "text": [
        "<IPython.core.display.Javascript at 0x1778c390>"
       ]
      },
      {
       "javascript": [
        "$('div#fcacfc69-14e6-4075-9d69-383a7ac1188c').text(' 41%');"
       ],
       "metadata": {},
       "output_type": "display_data",
       "text": [
        "<IPython.core.display.Javascript at 0x1ae35860>"
       ]
      },
      {
       "javascript": [
        "\n",
        "        var $myPB = $(\"div#e406e35c-1244-4166-bf8a-493478997f49\")\n",
        "        if ($myPB.hasClass('ui-progressbar')) {\n",
        "            $myPB.progressbar('value', 840);\n",
        "        } else {\n",
        "            $myPB.progressbar({value: 0, max: 2029});\n",
        "        }\n",
        "        "
       ],
       "metadata": {},
       "output_type": "display_data",
       "text": [
        "<IPython.core.display.Javascript at 0x16fe86a0>"
       ]
      },
      {
       "javascript": [
        "$('div#9ccddfd4-3c0c-48d2-904f-c02e55cf6dd9').text('ETA:  0:00:00');"
       ],
       "metadata": {},
       "output_type": "display_data",
       "text": [
        "<IPython.core.display.Javascript at 0x18477668>"
       ]
      },
      {
       "javascript": [
        "$('div#1b562af1-bb80-4652-899c-f1e43f084d0d').text('861 of 2029');"
       ],
       "metadata": {},
       "output_type": "display_data",
       "text": [
        "<IPython.core.display.Javascript at 0x3501e10>"
       ]
      },
      {
       "javascript": [
        "$('div#fcacfc69-14e6-4075-9d69-383a7ac1188c').text(' 42%');"
       ],
       "metadata": {},
       "output_type": "display_data",
       "text": [
        "<IPython.core.display.Javascript at 0x1ae35588>"
       ]
      },
      {
       "javascript": [
        "\n",
        "        var $myPB = $(\"div#e406e35c-1244-4166-bf8a-493478997f49\")\n",
        "        if ($myPB.hasClass('ui-progressbar')) {\n",
        "            $myPB.progressbar('value', 861);\n",
        "        } else {\n",
        "            $myPB.progressbar({value: 0, max: 2029});\n",
        "        }\n",
        "        "
       ],
       "metadata": {},
       "output_type": "display_data",
       "text": [
        "<IPython.core.display.Javascript at 0x16fe86a0>"
       ]
      },
      {
       "javascript": [
        "$('div#9ccddfd4-3c0c-48d2-904f-c02e55cf6dd9').text('ETA:  0:00:00');"
       ],
       "metadata": {},
       "output_type": "display_data",
       "text": [
        "<IPython.core.display.Javascript at 0x18477668>"
       ]
      },
      {
       "javascript": [
        "$('div#1b562af1-bb80-4652-899c-f1e43f084d0d').text('882 of 2029');"
       ],
       "metadata": {},
       "output_type": "display_data",
       "text": [
        "<IPython.core.display.Javascript at 0x3501e10>"
       ]
      },
      {
       "javascript": [
        "$('div#fcacfc69-14e6-4075-9d69-383a7ac1188c').text(' 43%');"
       ],
       "metadata": {},
       "output_type": "display_data",
       "text": [
        "<IPython.core.display.Javascript at 0x1ae35390>"
       ]
      },
      {
       "javascript": [
        "\n",
        "        var $myPB = $(\"div#e406e35c-1244-4166-bf8a-493478997f49\")\n",
        "        if ($myPB.hasClass('ui-progressbar')) {\n",
        "            $myPB.progressbar('value', 882);\n",
        "        } else {\n",
        "            $myPB.progressbar({value: 0, max: 2029});\n",
        "        }\n",
        "        "
       ],
       "metadata": {},
       "output_type": "display_data",
       "text": [
        "<IPython.core.display.Javascript at 0x16fe86a0>"
       ]
      },
      {
       "javascript": [
        "$('div#9ccddfd4-3c0c-48d2-904f-c02e55cf6dd9').text('ETA:  0:00:00');"
       ],
       "metadata": {},
       "output_type": "display_data",
       "text": [
        "<IPython.core.display.Javascript at 0x18477668>"
       ]
      },
      {
       "javascript": [
        "$('div#1b562af1-bb80-4652-899c-f1e43f084d0d').text('903 of 2029');"
       ],
       "metadata": {},
       "output_type": "display_data",
       "text": [
        "<IPython.core.display.Javascript at 0x3501e10>"
       ]
      },
      {
       "javascript": [
        "$('div#fcacfc69-14e6-4075-9d69-383a7ac1188c').text(' 44%');"
       ],
       "metadata": {},
       "output_type": "display_data",
       "text": [
        "<IPython.core.display.Javascript at 0x1ae35208>"
       ]
      },
      {
       "javascript": [
        "\n",
        "        var $myPB = $(\"div#e406e35c-1244-4166-bf8a-493478997f49\")\n",
        "        if ($myPB.hasClass('ui-progressbar')) {\n",
        "            $myPB.progressbar('value', 903);\n",
        "        } else {\n",
        "            $myPB.progressbar({value: 0, max: 2029});\n",
        "        }\n",
        "        "
       ],
       "metadata": {},
       "output_type": "display_data",
       "text": [
        "<IPython.core.display.Javascript at 0x16fe86a0>"
       ]
      },
      {
       "javascript": [
        "$('div#9ccddfd4-3c0c-48d2-904f-c02e55cf6dd9').text('ETA:  0:00:00');"
       ],
       "metadata": {},
       "output_type": "display_data",
       "text": [
        "<IPython.core.display.Javascript at 0x18477668>"
       ]
      },
      {
       "javascript": [
        "$('div#1b562af1-bb80-4652-899c-f1e43f084d0d').text('924 of 2029');"
       ],
       "metadata": {},
       "output_type": "display_data",
       "text": [
        "<IPython.core.display.Javascript at 0x3501e10>"
       ]
      },
      {
       "javascript": [
        "$('div#fcacfc69-14e6-4075-9d69-383a7ac1188c').text(' 45%');"
       ],
       "metadata": {},
       "output_type": "display_data",
       "text": [
        "<IPython.core.display.Javascript at 0x1ae35588>"
       ]
      },
      {
       "javascript": [
        "\n",
        "        var $myPB = $(\"div#e406e35c-1244-4166-bf8a-493478997f49\")\n",
        "        if ($myPB.hasClass('ui-progressbar')) {\n",
        "            $myPB.progressbar('value', 924);\n",
        "        } else {\n",
        "            $myPB.progressbar({value: 0, max: 2029});\n",
        "        }\n",
        "        "
       ],
       "metadata": {},
       "output_type": "display_data",
       "text": [
        "<IPython.core.display.Javascript at 0x1778c0f0>"
       ]
      },
      {
       "javascript": [
        "$('div#9ccddfd4-3c0c-48d2-904f-c02e55cf6dd9').text('ETA:  0:00:00');"
       ],
       "metadata": {},
       "output_type": "display_data",
       "text": [
        "<IPython.core.display.Javascript at 0x18477668>"
       ]
      },
      {
       "javascript": [
        "$('div#1b562af1-bb80-4652-899c-f1e43f084d0d').text('945 of 2029');"
       ],
       "metadata": {},
       "output_type": "display_data",
       "text": [
        "<IPython.core.display.Javascript at 0x3501e10>"
       ]
      },
      {
       "javascript": [
        "$('div#fcacfc69-14e6-4075-9d69-383a7ac1188c').text(' 46%');"
       ],
       "metadata": {},
       "output_type": "display_data",
       "text": [
        "<IPython.core.display.Javascript at 0x16fe86a0>"
       ]
      },
      {
       "javascript": [
        "\n",
        "        var $myPB = $(\"div#e406e35c-1244-4166-bf8a-493478997f49\")\n",
        "        if ($myPB.hasClass('ui-progressbar')) {\n",
        "            $myPB.progressbar('value', 945);\n",
        "        } else {\n",
        "            $myPB.progressbar({value: 0, max: 2029});\n",
        "        }\n",
        "        "
       ],
       "metadata": {},
       "output_type": "display_data",
       "text": [
        "<IPython.core.display.Javascript at 0x1778c0f0>"
       ]
      },
      {
       "javascript": [
        "$('div#9ccddfd4-3c0c-48d2-904f-c02e55cf6dd9').text('ETA:  0:00:00');"
       ],
       "metadata": {},
       "output_type": "display_data",
       "text": [
        "<IPython.core.display.Javascript at 0x18477668>"
       ]
      },
      {
       "javascript": [
        "$('div#1b562af1-bb80-4652-899c-f1e43f084d0d').text('966 of 2029');"
       ],
       "metadata": {},
       "output_type": "display_data",
       "text": [
        "<IPython.core.display.Javascript at 0x3501e10>"
       ]
      },
      {
       "javascript": [
        "$('div#fcacfc69-14e6-4075-9d69-383a7ac1188c').text(' 47%');"
       ],
       "metadata": {},
       "output_type": "display_data",
       "text": [
        "<IPython.core.display.Javascript at 0x16fe8668>"
       ]
      },
      {
       "javascript": [
        "\n",
        "        var $myPB = $(\"div#e406e35c-1244-4166-bf8a-493478997f49\")\n",
        "        if ($myPB.hasClass('ui-progressbar')) {\n",
        "            $myPB.progressbar('value', 966);\n",
        "        } else {\n",
        "            $myPB.progressbar({value: 0, max: 2029});\n",
        "        }\n",
        "        "
       ],
       "metadata": {},
       "output_type": "display_data",
       "text": [
        "<IPython.core.display.Javascript at 0x1778c0f0>"
       ]
      },
      {
       "javascript": [
        "$('div#9ccddfd4-3c0c-48d2-904f-c02e55cf6dd9').text('ETA:  0:00:00');"
       ],
       "metadata": {},
       "output_type": "display_data",
       "text": [
        "<IPython.core.display.Javascript at 0x18477668>"
       ]
      },
      {
       "javascript": [
        "$('div#1b562af1-bb80-4652-899c-f1e43f084d0d').text('987 of 2029');"
       ],
       "metadata": {},
       "output_type": "display_data",
       "text": [
        "<IPython.core.display.Javascript at 0x3501e10>"
       ]
      },
      {
       "javascript": [
        "$('div#fcacfc69-14e6-4075-9d69-383a7ac1188c').text(' 48%');"
       ],
       "metadata": {},
       "output_type": "display_data",
       "text": [
        "<IPython.core.display.Javascript at 0x16fe8ba8>"
       ]
      },
      {
       "javascript": [
        "\n",
        "        var $myPB = $(\"div#e406e35c-1244-4166-bf8a-493478997f49\")\n",
        "        if ($myPB.hasClass('ui-progressbar')) {\n",
        "            $myPB.progressbar('value', 987);\n",
        "        } else {\n",
        "            $myPB.progressbar({value: 0, max: 2029});\n",
        "        }\n",
        "        "
       ],
       "metadata": {},
       "output_type": "display_data",
       "text": [
        "<IPython.core.display.Javascript at 0x18477668>"
       ]
      },
      {
       "javascript": [
        "$('div#9ccddfd4-3c0c-48d2-904f-c02e55cf6dd9').text('ETA:  0:00:00');"
       ],
       "metadata": {},
       "output_type": "display_data",
       "text": [
        "<IPython.core.display.Javascript at 0x1778c0f0>"
       ]
      },
      {
       "javascript": [
        "$('div#1b562af1-bb80-4652-899c-f1e43f084d0d').text('1008 of 2029');"
       ],
       "metadata": {},
       "output_type": "display_data",
       "text": [
        "<IPython.core.display.Javascript at 0x3501e10>"
       ]
      },
      {
       "javascript": [
        "$('div#fcacfc69-14e6-4075-9d69-383a7ac1188c').text(' 49%');"
       ],
       "metadata": {},
       "output_type": "display_data",
       "text": [
        "<IPython.core.display.Javascript at 0x16fe84a8>"
       ]
      },
      {
       "javascript": [
        "\n",
        "        var $myPB = $(\"div#e406e35c-1244-4166-bf8a-493478997f49\")\n",
        "        if ($myPB.hasClass('ui-progressbar')) {\n",
        "            $myPB.progressbar('value', 1008);\n",
        "        } else {\n",
        "            $myPB.progressbar({value: 0, max: 2029});\n",
        "        }\n",
        "        "
       ],
       "metadata": {},
       "output_type": "display_data",
       "text": [
        "<IPython.core.display.Javascript at 0x3501e10>"
       ]
      },
      {
       "javascript": [
        "$('div#9ccddfd4-3c0c-48d2-904f-c02e55cf6dd9').text('ETA:  0:00:00');"
       ],
       "metadata": {},
       "output_type": "display_data",
       "text": [
        "<IPython.core.display.Javascript at 0x18477668>"
       ]
      },
      {
       "javascript": [
        "$('div#1b562af1-bb80-4652-899c-f1e43f084d0d').text('1029 of 2029');"
       ],
       "metadata": {},
       "output_type": "display_data",
       "text": [
        "<IPython.core.display.Javascript at 0x1778c390>"
       ]
      },
      {
       "javascript": [
        "$('div#fcacfc69-14e6-4075-9d69-383a7ac1188c').text(' 50%');"
       ],
       "metadata": {},
       "output_type": "display_data",
       "text": [
        "<IPython.core.display.Javascript at 0x16fe85c0>"
       ]
      },
      {
       "javascript": [
        "\n",
        "        var $myPB = $(\"div#e406e35c-1244-4166-bf8a-493478997f49\")\n",
        "        if ($myPB.hasClass('ui-progressbar')) {\n",
        "            $myPB.progressbar('value', 1029);\n",
        "        } else {\n",
        "            $myPB.progressbar({value: 0, max: 2029});\n",
        "        }\n",
        "        "
       ],
       "metadata": {},
       "output_type": "display_data",
       "text": [
        "<IPython.core.display.Javascript at 0x16fe8d68>"
       ]
      },
      {
       "javascript": [
        "$('div#9ccddfd4-3c0c-48d2-904f-c02e55cf6dd9').text('ETA:  0:00:00');"
       ],
       "metadata": {},
       "output_type": "display_data",
       "text": [
        "<IPython.core.display.Javascript at 0x3501e10>"
       ]
      },
      {
       "javascript": [
        "$('div#1b562af1-bb80-4652-899c-f1e43f084d0d').text('1050 of 2029');"
       ],
       "metadata": {},
       "output_type": "display_data",
       "text": [
        "<IPython.core.display.Javascript at 0x1778c390>"
       ]
      },
      {
       "javascript": [
        "$('div#fcacfc69-14e6-4075-9d69-383a7ac1188c').text(' 51%');"
       ],
       "metadata": {},
       "output_type": "display_data",
       "text": [
        "<IPython.core.display.Javascript at 0x18477668>"
       ]
      },
      {
       "javascript": [
        "\n",
        "        var $myPB = $(\"div#e406e35c-1244-4166-bf8a-493478997f49\")\n",
        "        if ($myPB.hasClass('ui-progressbar')) {\n",
        "            $myPB.progressbar('value', 1050);\n",
        "        } else {\n",
        "            $myPB.progressbar({value: 0, max: 2029});\n",
        "        }\n",
        "        "
       ],
       "metadata": {},
       "output_type": "display_data",
       "text": [
        "<IPython.core.display.Javascript at 0x16fe8d68>"
       ]
      },
      {
       "javascript": [
        "$('div#9ccddfd4-3c0c-48d2-904f-c02e55cf6dd9').text('ETA:  0:00:00');"
       ],
       "metadata": {},
       "output_type": "display_data",
       "text": [
        "<IPython.core.display.Javascript at 0x3501e10>"
       ]
      },
      {
       "javascript": [
        "$('div#1b562af1-bb80-4652-899c-f1e43f084d0d').text('1071 of 2029');"
       ],
       "metadata": {},
       "output_type": "display_data",
       "text": [
        "<IPython.core.display.Javascript at 0x1778c390>"
       ]
      },
      {
       "javascript": [
        "$('div#fcacfc69-14e6-4075-9d69-383a7ac1188c').text(' 52%');"
       ],
       "metadata": {},
       "output_type": "display_data",
       "text": [
        "<IPython.core.display.Javascript at 0x1ae35390>"
       ]
      },
      {
       "javascript": [
        "\n",
        "        var $myPB = $(\"div#e406e35c-1244-4166-bf8a-493478997f49\")\n",
        "        if ($myPB.hasClass('ui-progressbar')) {\n",
        "            $myPB.progressbar('value', 1071);\n",
        "        } else {\n",
        "            $myPB.progressbar({value: 0, max: 2029});\n",
        "        }\n",
        "        "
       ],
       "metadata": {},
       "output_type": "display_data",
       "text": [
        "<IPython.core.display.Javascript at 0x16fe8d68>"
       ]
      },
      {
       "javascript": [
        "$('div#9ccddfd4-3c0c-48d2-904f-c02e55cf6dd9').text('ETA:  0:00:00');"
       ],
       "metadata": {},
       "output_type": "display_data",
       "text": [
        "<IPython.core.display.Javascript at 0x3501e10>"
       ]
      },
      {
       "javascript": [
        "$('div#1b562af1-bb80-4652-899c-f1e43f084d0d').text('1092 of 2029');"
       ],
       "metadata": {},
       "output_type": "display_data",
       "text": [
        "<IPython.core.display.Javascript at 0x1778c390>"
       ]
      },
      {
       "javascript": [
        "$('div#fcacfc69-14e6-4075-9d69-383a7ac1188c').text(' 53%');"
       ],
       "metadata": {},
       "output_type": "display_data",
       "text": [
        "<IPython.core.display.Javascript at 0x1ae357b8>"
       ]
      },
      {
       "javascript": [
        "\n",
        "        var $myPB = $(\"div#e406e35c-1244-4166-bf8a-493478997f49\")\n",
        "        if ($myPB.hasClass('ui-progressbar')) {\n",
        "            $myPB.progressbar('value', 1092);\n",
        "        } else {\n",
        "            $myPB.progressbar({value: 0, max: 2029});\n",
        "        }\n",
        "        "
       ],
       "metadata": {},
       "output_type": "display_data",
       "text": [
        "<IPython.core.display.Javascript at 0x16fe8d68>"
       ]
      },
      {
       "javascript": [
        "$('div#9ccddfd4-3c0c-48d2-904f-c02e55cf6dd9').text('ETA:  0:00:00');"
       ],
       "metadata": {},
       "output_type": "display_data",
       "text": [
        "<IPython.core.display.Javascript at 0x3501e10>"
       ]
      },
      {
       "javascript": [
        "$('div#1b562af1-bb80-4652-899c-f1e43f084d0d').text('1113 of 2029');"
       ],
       "metadata": {},
       "output_type": "display_data",
       "text": [
        "<IPython.core.display.Javascript at 0x1778c390>"
       ]
      },
      {
       "javascript": [
        "$('div#fcacfc69-14e6-4075-9d69-383a7ac1188c').text(' 54%');"
       ],
       "metadata": {},
       "output_type": "display_data",
       "text": [
        "<IPython.core.display.Javascript at 0x1ae35208>"
       ]
      },
      {
       "javascript": [
        "\n",
        "        var $myPB = $(\"div#e406e35c-1244-4166-bf8a-493478997f49\")\n",
        "        if ($myPB.hasClass('ui-progressbar')) {\n",
        "            $myPB.progressbar('value', 1113);\n",
        "        } else {\n",
        "            $myPB.progressbar({value: 0, max: 2029});\n",
        "        }\n",
        "        "
       ],
       "metadata": {},
       "output_type": "display_data",
       "text": [
        "<IPython.core.display.Javascript at 0x16fe8d68>"
       ]
      },
      {
       "javascript": [
        "$('div#9ccddfd4-3c0c-48d2-904f-c02e55cf6dd9').text('ETA:  0:00:00');"
       ],
       "metadata": {},
       "output_type": "display_data",
       "text": [
        "<IPython.core.display.Javascript at 0x3501e10>"
       ]
      },
      {
       "javascript": [
        "$('div#1b562af1-bb80-4652-899c-f1e43f084d0d').text('1134 of 2029');"
       ],
       "metadata": {},
       "output_type": "display_data",
       "text": [
        "<IPython.core.display.Javascript at 0x1778c390>"
       ]
      },
      {
       "javascript": [
        "$('div#fcacfc69-14e6-4075-9d69-383a7ac1188c').text(' 55%');"
       ],
       "metadata": {},
       "output_type": "display_data",
       "text": [
        "<IPython.core.display.Javascript at 0x1ae35860>"
       ]
      },
      {
       "javascript": [
        "\n",
        "        var $myPB = $(\"div#e406e35c-1244-4166-bf8a-493478997f49\")\n",
        "        if ($myPB.hasClass('ui-progressbar')) {\n",
        "            $myPB.progressbar('value', 1134);\n",
        "        } else {\n",
        "            $myPB.progressbar({value: 0, max: 2029});\n",
        "        }\n",
        "        "
       ],
       "metadata": {},
       "output_type": "display_data",
       "text": [
        "<IPython.core.display.Javascript at 0x16fe8d68>"
       ]
      },
      {
       "javascript": [
        "$('div#9ccddfd4-3c0c-48d2-904f-c02e55cf6dd9').text('ETA:  0:00:00');"
       ],
       "metadata": {},
       "output_type": "display_data",
       "text": [
        "<IPython.core.display.Javascript at 0x3501e10>"
       ]
      },
      {
       "javascript": [
        "$('div#1b562af1-bb80-4652-899c-f1e43f084d0d').text('1155 of 2029');"
       ],
       "metadata": {},
       "output_type": "display_data",
       "text": [
        "<IPython.core.display.Javascript at 0x1778c390>"
       ]
      },
      {
       "javascript": [
        "$('div#fcacfc69-14e6-4075-9d69-383a7ac1188c').text(' 56%');"
       ],
       "metadata": {},
       "output_type": "display_data",
       "text": [
        "<IPython.core.display.Javascript at 0x1ae357b8>"
       ]
      },
      {
       "javascript": [
        "\n",
        "        var $myPB = $(\"div#e406e35c-1244-4166-bf8a-493478997f49\")\n",
        "        if ($myPB.hasClass('ui-progressbar')) {\n",
        "            $myPB.progressbar('value', 1155);\n",
        "        } else {\n",
        "            $myPB.progressbar({value: 0, max: 2029});\n",
        "        }\n",
        "        "
       ],
       "metadata": {},
       "output_type": "display_data",
       "text": [
        "<IPython.core.display.Javascript at 0x16fe8d68>"
       ]
      },
      {
       "javascript": [
        "$('div#9ccddfd4-3c0c-48d2-904f-c02e55cf6dd9').text('ETA:  0:00:00');"
       ],
       "metadata": {},
       "output_type": "display_data",
       "text": [
        "<IPython.core.display.Javascript at 0x3501e10>"
       ]
      },
      {
       "javascript": [
        "$('div#1b562af1-bb80-4652-899c-f1e43f084d0d').text('1176 of 2029');"
       ],
       "metadata": {},
       "output_type": "display_data",
       "text": [
        "<IPython.core.display.Javascript at 0x1778c390>"
       ]
      },
      {
       "javascript": [
        "$('div#fcacfc69-14e6-4075-9d69-383a7ac1188c').text(' 57%');"
       ],
       "metadata": {},
       "output_type": "display_data",
       "text": [
        "<IPython.core.display.Javascript at 0x1ae35208>"
       ]
      },
      {
       "javascript": [
        "\n",
        "        var $myPB = $(\"div#e406e35c-1244-4166-bf8a-493478997f49\")\n",
        "        if ($myPB.hasClass('ui-progressbar')) {\n",
        "            $myPB.progressbar('value', 1176);\n",
        "        } else {\n",
        "            $myPB.progressbar({value: 0, max: 2029});\n",
        "        }\n",
        "        "
       ],
       "metadata": {},
       "output_type": "display_data",
       "text": [
        "<IPython.core.display.Javascript at 0x18477668>"
       ]
      },
      {
       "javascript": [
        "$('div#9ccddfd4-3c0c-48d2-904f-c02e55cf6dd9').text('ETA:  0:00:00');"
       ],
       "metadata": {},
       "output_type": "display_data",
       "text": [
        "<IPython.core.display.Javascript at 0x3501e10>"
       ]
      },
      {
       "javascript": [
        "$('div#1b562af1-bb80-4652-899c-f1e43f084d0d').text('1197 of 2029');"
       ],
       "metadata": {},
       "output_type": "display_data",
       "text": [
        "<IPython.core.display.Javascript at 0x1778c390>"
       ]
      },
      {
       "javascript": [
        "$('div#fcacfc69-14e6-4075-9d69-383a7ac1188c').text(' 58%');"
       ],
       "metadata": {},
       "output_type": "display_data",
       "text": [
        "<IPython.core.display.Javascript at 0x16fe8d68>"
       ]
      },
      {
       "javascript": [
        "\n",
        "        var $myPB = $(\"div#e406e35c-1244-4166-bf8a-493478997f49\")\n",
        "        if ($myPB.hasClass('ui-progressbar')) {\n",
        "            $myPB.progressbar('value', 1197);\n",
        "        } else {\n",
        "            $myPB.progressbar({value: 0, max: 2029});\n",
        "        }\n",
        "        "
       ],
       "metadata": {},
       "output_type": "display_data",
       "text": [
        "<IPython.core.display.Javascript at 0x18477668>"
       ]
      },
      {
       "javascript": [
        "$('div#9ccddfd4-3c0c-48d2-904f-c02e55cf6dd9').text('ETA:  0:00:00');"
       ],
       "metadata": {},
       "output_type": "display_data",
       "text": [
        "<IPython.core.display.Javascript at 0x3501e10>"
       ]
      },
      {
       "javascript": [
        "$('div#1b562af1-bb80-4652-899c-f1e43f084d0d').text('1218 of 2029');"
       ],
       "metadata": {},
       "output_type": "display_data",
       "text": [
        "<IPython.core.display.Javascript at 0x1778c0f0>"
       ]
      },
      {
       "javascript": [
        "$('div#fcacfc69-14e6-4075-9d69-383a7ac1188c').text(' 60%');"
       ],
       "metadata": {},
       "output_type": "display_data",
       "text": [
        "<IPython.core.display.Javascript at 0x16fe84a8>"
       ]
      },
      {
       "javascript": [
        "\n",
        "        var $myPB = $(\"div#e406e35c-1244-4166-bf8a-493478997f49\")\n",
        "        if ($myPB.hasClass('ui-progressbar')) {\n",
        "            $myPB.progressbar('value', 1218);\n",
        "        } else {\n",
        "            $myPB.progressbar({value: 0, max: 2029});\n",
        "        }\n",
        "        "
       ],
       "metadata": {},
       "output_type": "display_data",
       "text": [
        "<IPython.core.display.Javascript at 0x18477668>"
       ]
      },
      {
       "javascript": [
        "$('div#9ccddfd4-3c0c-48d2-904f-c02e55cf6dd9').text('ETA:  0:00:00');"
       ],
       "metadata": {},
       "output_type": "display_data",
       "text": [
        "<IPython.core.display.Javascript at 0x3501e10>"
       ]
      },
      {
       "javascript": [
        "$('div#1b562af1-bb80-4652-899c-f1e43f084d0d').text('1239 of 2029');"
       ],
       "metadata": {},
       "output_type": "display_data",
       "text": [
        "<IPython.core.display.Javascript at 0x1778c0f0>"
       ]
      },
      {
       "javascript": [
        "$('div#fcacfc69-14e6-4075-9d69-383a7ac1188c').text(' 61%');"
       ],
       "metadata": {},
       "output_type": "display_data",
       "text": [
        "<IPython.core.display.Javascript at 0x16fe8ba8>"
       ]
      },
      {
       "javascript": [
        "\n",
        "        var $myPB = $(\"div#e406e35c-1244-4166-bf8a-493478997f49\")\n",
        "        if ($myPB.hasClass('ui-progressbar')) {\n",
        "            $myPB.progressbar('value', 1239);\n",
        "        } else {\n",
        "            $myPB.progressbar({value: 0, max: 2029});\n",
        "        }\n",
        "        "
       ],
       "metadata": {},
       "output_type": "display_data",
       "text": [
        "<IPython.core.display.Javascript at 0x3501e10>"
       ]
      },
      {
       "javascript": [
        "$('div#9ccddfd4-3c0c-48d2-904f-c02e55cf6dd9').text('ETA:  0:00:00');"
       ],
       "metadata": {},
       "output_type": "display_data",
       "text": [
        "<IPython.core.display.Javascript at 0x18477668>"
       ]
      },
      {
       "javascript": [
        "$('div#1b562af1-bb80-4652-899c-f1e43f084d0d').text('1260 of 2029');"
       ],
       "metadata": {},
       "output_type": "display_data",
       "text": [
        "<IPython.core.display.Javascript at 0x1778c0f0>"
       ]
      },
      {
       "javascript": [
        "$('div#fcacfc69-14e6-4075-9d69-383a7ac1188c').text(' 62%');"
       ],
       "metadata": {},
       "output_type": "display_data",
       "text": [
        "<IPython.core.display.Javascript at 0x16fe85c0>"
       ]
      },
      {
       "javascript": [
        "\n",
        "        var $myPB = $(\"div#e406e35c-1244-4166-bf8a-493478997f49\")\n",
        "        if ($myPB.hasClass('ui-progressbar')) {\n",
        "            $myPB.progressbar('value', 1260);\n",
        "        } else {\n",
        "            $myPB.progressbar({value: 0, max: 2029});\n",
        "        }\n",
        "        "
       ],
       "metadata": {},
       "output_type": "display_data",
       "text": [
        "<IPython.core.display.Javascript at 0x1778c0f0>"
       ]
      },
      {
       "javascript": [
        "$('div#9ccddfd4-3c0c-48d2-904f-c02e55cf6dd9').text('ETA:  0:00:00');"
       ],
       "metadata": {},
       "output_type": "display_data",
       "text": [
        "<IPython.core.display.Javascript at 0x3501e10>"
       ]
      },
      {
       "javascript": [
        "$('div#1b562af1-bb80-4652-899c-f1e43f084d0d').text('1281 of 2029');"
       ],
       "metadata": {},
       "output_type": "display_data",
       "text": [
        "<IPython.core.display.Javascript at 0x18477668>"
       ]
      },
      {
       "javascript": [
        "$('div#fcacfc69-14e6-4075-9d69-383a7ac1188c').text(' 63%');"
       ],
       "metadata": {},
       "output_type": "display_data",
       "text": [
        "<IPython.core.display.Javascript at 0x16fe86a0>"
       ]
      },
      {
       "javascript": [
        "\n",
        "        var $myPB = $(\"div#e406e35c-1244-4166-bf8a-493478997f49\")\n",
        "        if ($myPB.hasClass('ui-progressbar')) {\n",
        "            $myPB.progressbar('value', 1281);\n",
        "        } else {\n",
        "            $myPB.progressbar({value: 0, max: 2029});\n",
        "        }\n",
        "        "
       ],
       "metadata": {},
       "output_type": "display_data",
       "text": [
        "<IPython.core.display.Javascript at 0x16fe8668>"
       ]
      },
      {
       "javascript": [
        "$('div#9ccddfd4-3c0c-48d2-904f-c02e55cf6dd9').text('ETA:  0:00:00');"
       ],
       "metadata": {},
       "output_type": "display_data",
       "text": [
        "<IPython.core.display.Javascript at 0x1778c0f0>"
       ]
      },
      {
       "javascript": [
        "$('div#1b562af1-bb80-4652-899c-f1e43f084d0d').text('1302 of 2029');"
       ],
       "metadata": {},
       "output_type": "display_data",
       "text": [
        "<IPython.core.display.Javascript at 0x18477668>"
       ]
      },
      {
       "javascript": [
        "$('div#fcacfc69-14e6-4075-9d69-383a7ac1188c').text(' 64%');"
       ],
       "metadata": {},
       "output_type": "display_data",
       "text": [
        "<IPython.core.display.Javascript at 0x3501e10>"
       ]
      },
      {
       "javascript": [
        "\n",
        "        var $myPB = $(\"div#e406e35c-1244-4166-bf8a-493478997f49\")\n",
        "        if ($myPB.hasClass('ui-progressbar')) {\n",
        "            $myPB.progressbar('value', 1302);\n",
        "        } else {\n",
        "            $myPB.progressbar({value: 0, max: 2029});\n",
        "        }\n",
        "        "
       ],
       "metadata": {},
       "output_type": "display_data",
       "text": [
        "<IPython.core.display.Javascript at 0x16fe8668>"
       ]
      },
      {
       "javascript": [
        "$('div#9ccddfd4-3c0c-48d2-904f-c02e55cf6dd9').text('ETA:  0:00:00');"
       ],
       "metadata": {},
       "output_type": "display_data",
       "text": [
        "<IPython.core.display.Javascript at 0x1778c0f0>"
       ]
      },
      {
       "javascript": [
        "$('div#1b562af1-bb80-4652-899c-f1e43f084d0d').text('1323 of 2029');"
       ],
       "metadata": {},
       "output_type": "display_data",
       "text": [
        "<IPython.core.display.Javascript at 0x1778c390>"
       ]
      },
      {
       "javascript": [
        "$('div#fcacfc69-14e6-4075-9d69-383a7ac1188c').text(' 65%');"
       ],
       "metadata": {},
       "output_type": "display_data",
       "text": [
        "<IPython.core.display.Javascript at 0x1ae35208>"
       ]
      },
      {
       "javascript": [
        "\n",
        "        var $myPB = $(\"div#e406e35c-1244-4166-bf8a-493478997f49\")\n",
        "        if ($myPB.hasClass('ui-progressbar')) {\n",
        "            $myPB.progressbar('value', 1323);\n",
        "        } else {\n",
        "            $myPB.progressbar({value: 0, max: 2029});\n",
        "        }\n",
        "        "
       ],
       "metadata": {},
       "output_type": "display_data",
       "text": [
        "<IPython.core.display.Javascript at 0x16fe8668>"
       ]
      },
      {
       "javascript": [
        "$('div#9ccddfd4-3c0c-48d2-904f-c02e55cf6dd9').text('ETA:  0:00:00');"
       ],
       "metadata": {},
       "output_type": "display_data",
       "text": [
        "<IPython.core.display.Javascript at 0x1778c0f0>"
       ]
      },
      {
       "javascript": [
        "$('div#1b562af1-bb80-4652-899c-f1e43f084d0d').text('1344 of 2029');"
       ],
       "metadata": {},
       "output_type": "display_data",
       "text": [
        "<IPython.core.display.Javascript at 0x1778c390>"
       ]
      },
      {
       "javascript": [
        "$('div#fcacfc69-14e6-4075-9d69-383a7ac1188c').text(' 66%');"
       ],
       "metadata": {},
       "output_type": "display_data",
       "text": [
        "<IPython.core.display.Javascript at 0x1ae35908>"
       ]
      },
      {
       "javascript": [
        "\n",
        "        var $myPB = $(\"div#e406e35c-1244-4166-bf8a-493478997f49\")\n",
        "        if ($myPB.hasClass('ui-progressbar')) {\n",
        "            $myPB.progressbar('value', 1344);\n",
        "        } else {\n",
        "            $myPB.progressbar({value: 0, max: 2029});\n",
        "        }\n",
        "        "
       ],
       "metadata": {},
       "output_type": "display_data",
       "text": [
        "<IPython.core.display.Javascript at 0x16fe8668>"
       ]
      },
      {
       "javascript": [
        "$('div#9ccddfd4-3c0c-48d2-904f-c02e55cf6dd9').text('ETA:  0:00:00');"
       ],
       "metadata": {},
       "output_type": "display_data",
       "text": [
        "<IPython.core.display.Javascript at 0x1778c0f0>"
       ]
      },
      {
       "javascript": [
        "$('div#1b562af1-bb80-4652-899c-f1e43f084d0d').text('1365 of 2029');"
       ],
       "metadata": {},
       "output_type": "display_data",
       "text": [
        "<IPython.core.display.Javascript at 0x1ae35a20>"
       ]
      },
      {
       "javascript": [
        "$('div#fcacfc69-14e6-4075-9d69-383a7ac1188c').text(' 67%');"
       ],
       "metadata": {},
       "output_type": "display_data",
       "text": [
        "<IPython.core.display.Javascript at 0x1ae35860>"
       ]
      },
      {
       "javascript": [
        "\n",
        "        var $myPB = $(\"div#e406e35c-1244-4166-bf8a-493478997f49\")\n",
        "        if ($myPB.hasClass('ui-progressbar')) {\n",
        "            $myPB.progressbar('value', 1365);\n",
        "        } else {\n",
        "            $myPB.progressbar({value: 0, max: 2029});\n",
        "        }\n",
        "        "
       ],
       "metadata": {},
       "output_type": "display_data",
       "text": [
        "<IPython.core.display.Javascript at 0x16fe8668>"
       ]
      },
      {
       "javascript": [
        "$('div#9ccddfd4-3c0c-48d2-904f-c02e55cf6dd9').text('ETA:  0:00:00');"
       ],
       "metadata": {},
       "output_type": "display_data",
       "text": [
        "<IPython.core.display.Javascript at 0x1778c0f0>"
       ]
      },
      {
       "javascript": [
        "$('div#1b562af1-bb80-4652-899c-f1e43f084d0d').text('1386 of 2029');"
       ],
       "metadata": {},
       "output_type": "display_data",
       "text": [
        "<IPython.core.display.Javascript at 0x1ae35d68>"
       ]
      },
      {
       "javascript": [
        "$('div#fcacfc69-14e6-4075-9d69-383a7ac1188c').text(' 68%');"
       ],
       "metadata": {},
       "output_type": "display_data",
       "text": [
        "<IPython.core.display.Javascript at 0x1ae35390>"
       ]
      },
      {
       "javascript": [
        "\n",
        "        var $myPB = $(\"div#e406e35c-1244-4166-bf8a-493478997f49\")\n",
        "        if ($myPB.hasClass('ui-progressbar')) {\n",
        "            $myPB.progressbar('value', 1386);\n",
        "        } else {\n",
        "            $myPB.progressbar({value: 0, max: 2029});\n",
        "        }\n",
        "        "
       ],
       "metadata": {},
       "output_type": "display_data",
       "text": [
        "<IPython.core.display.Javascript at 0x16fe8668>"
       ]
      },
      {
       "javascript": [
        "$('div#9ccddfd4-3c0c-48d2-904f-c02e55cf6dd9').text('ETA:  0:00:00');"
       ],
       "metadata": {},
       "output_type": "display_data",
       "text": [
        "<IPython.core.display.Javascript at 0x1778c0f0>"
       ]
      },
      {
       "javascript": [
        "$('div#1b562af1-bb80-4652-899c-f1e43f084d0d').text('1407 of 2029');"
       ],
       "metadata": {},
       "output_type": "display_data",
       "text": [
        "<IPython.core.display.Javascript at 0x1ae35240>"
       ]
      },
      {
       "javascript": [
        "$('div#fcacfc69-14e6-4075-9d69-383a7ac1188c').text(' 69%');"
       ],
       "metadata": {},
       "output_type": "display_data",
       "text": [
        "<IPython.core.display.Javascript at 0x1ae357b8>"
       ]
      },
      {
       "javascript": [
        "\n",
        "        var $myPB = $(\"div#e406e35c-1244-4166-bf8a-493478997f49\")\n",
        "        if ($myPB.hasClass('ui-progressbar')) {\n",
        "            $myPB.progressbar('value', 1407);\n",
        "        } else {\n",
        "            $myPB.progressbar({value: 0, max: 2029});\n",
        "        }\n",
        "        "
       ],
       "metadata": {},
       "output_type": "display_data",
       "text": [
        "<IPython.core.display.Javascript at 0x16fe8668>"
       ]
      },
      {
       "javascript": [
        "$('div#9ccddfd4-3c0c-48d2-904f-c02e55cf6dd9').text('ETA:  0:00:00');"
       ],
       "metadata": {},
       "output_type": "display_data",
       "text": [
        "<IPython.core.display.Javascript at 0x1778c0f0>"
       ]
      },
      {
       "javascript": [
        "$('div#1b562af1-bb80-4652-899c-f1e43f084d0d').text('1428 of 2029');"
       ],
       "metadata": {},
       "output_type": "display_data",
       "text": [
        "<IPython.core.display.Javascript at 0x1ae35a20>"
       ]
      },
      {
       "javascript": [
        "$('div#fcacfc69-14e6-4075-9d69-383a7ac1188c').text(' 70%');"
       ],
       "metadata": {},
       "output_type": "display_data",
       "text": [
        "<IPython.core.display.Javascript at 0x1ae35860>"
       ]
      },
      {
       "javascript": [
        "\n",
        "        var $myPB = $(\"div#e406e35c-1244-4166-bf8a-493478997f49\")\n",
        "        if ($myPB.hasClass('ui-progressbar')) {\n",
        "            $myPB.progressbar('value', 1428);\n",
        "        } else {\n",
        "            $myPB.progressbar({value: 0, max: 2029});\n",
        "        }\n",
        "        "
       ],
       "metadata": {},
       "output_type": "display_data",
       "text": [
        "<IPython.core.display.Javascript at 0x3501e10>"
       ]
      },
      {
       "javascript": [
        "$('div#9ccddfd4-3c0c-48d2-904f-c02e55cf6dd9').text('ETA:  0:00:00');"
       ],
       "metadata": {},
       "output_type": "display_data",
       "text": [
        "<IPython.core.display.Javascript at 0x1778c0f0>"
       ]
      },
      {
       "javascript": [
        "$('div#1b562af1-bb80-4652-899c-f1e43f084d0d').text('1449 of 2029');"
       ],
       "metadata": {},
       "output_type": "display_data",
       "text": [
        "<IPython.core.display.Javascript at 0x16fe86a0>"
       ]
      },
      {
       "javascript": [
        "$('div#fcacfc69-14e6-4075-9d69-383a7ac1188c').text(' 71%');"
       ],
       "metadata": {},
       "output_type": "display_data",
       "text": [
        "<IPython.core.display.Javascript at 0x16fe8668>"
       ]
      },
      {
       "javascript": [
        "\n",
        "        var $myPB = $(\"div#e406e35c-1244-4166-bf8a-493478997f49\")\n",
        "        if ($myPB.hasClass('ui-progressbar')) {\n",
        "            $myPB.progressbar('value', 1449);\n",
        "        } else {\n",
        "            $myPB.progressbar({value: 0, max: 2029});\n",
        "        }\n",
        "        "
       ],
       "metadata": {},
       "output_type": "display_data",
       "text": [
        "<IPython.core.display.Javascript at 0x3501e10>"
       ]
      },
      {
       "javascript": [
        "$('div#9ccddfd4-3c0c-48d2-904f-c02e55cf6dd9').text('ETA:  0:00:00');"
       ],
       "metadata": {},
       "output_type": "display_data",
       "text": [
        "<IPython.core.display.Javascript at 0x1778c0f0>"
       ]
      },
      {
       "javascript": [
        "$('div#1b562af1-bb80-4652-899c-f1e43f084d0d').text('1470 of 2029');"
       ],
       "metadata": {},
       "output_type": "display_data",
       "text": [
        "<IPython.core.display.Javascript at 0x16fe8d68>"
       ]
      },
      {
       "javascript": [
        "$('div#fcacfc69-14e6-4075-9d69-383a7ac1188c').text(' 72%');"
       ],
       "metadata": {},
       "output_type": "display_data",
       "text": [
        "<IPython.core.display.Javascript at 0x16fe8ba8>"
       ]
      },
      {
       "javascript": [
        "\n",
        "        var $myPB = $(\"div#e406e35c-1244-4166-bf8a-493478997f49\")\n",
        "        if ($myPB.hasClass('ui-progressbar')) {\n",
        "            $myPB.progressbar('value', 1470);\n",
        "        } else {\n",
        "            $myPB.progressbar({value: 0, max: 2029});\n",
        "        }\n",
        "        "
       ],
       "metadata": {},
       "output_type": "display_data",
       "text": [
        "<IPython.core.display.Javascript at 0x1778c0f0>"
       ]
      },
      {
       "javascript": [
        "$('div#9ccddfd4-3c0c-48d2-904f-c02e55cf6dd9').text('ETA:  0:00:00');"
       ],
       "metadata": {},
       "output_type": "display_data",
       "text": [
        "<IPython.core.display.Javascript at 0x3501e10>"
       ]
      },
      {
       "javascript": [
        "$('div#1b562af1-bb80-4652-899c-f1e43f084d0d').text('1491 of 2029');"
       ],
       "metadata": {},
       "output_type": "display_data",
       "text": [
        "<IPython.core.display.Javascript at 0x16fe86a0>"
       ]
      },
      {
       "javascript": [
        "$('div#fcacfc69-14e6-4075-9d69-383a7ac1188c').text(' 73%');"
       ],
       "metadata": {},
       "output_type": "display_data",
       "text": [
        "<IPython.core.display.Javascript at 0x16fe85c0>"
       ]
      },
      {
       "javascript": [
        "\n",
        "        var $myPB = $(\"div#e406e35c-1244-4166-bf8a-493478997f49\")\n",
        "        if ($myPB.hasClass('ui-progressbar')) {\n",
        "            $myPB.progressbar('value', 1491);\n",
        "        } else {\n",
        "            $myPB.progressbar({value: 0, max: 2029});\n",
        "        }\n",
        "        "
       ],
       "metadata": {},
       "output_type": "display_data",
       "text": [
        "<IPython.core.display.Javascript at 0x1778c0f0>"
       ]
      },
      {
       "javascript": [
        "$('div#9ccddfd4-3c0c-48d2-904f-c02e55cf6dd9').text('ETA:  0:00:00');"
       ],
       "metadata": {},
       "output_type": "display_data",
       "text": [
        "<IPython.core.display.Javascript at 0x3501e10>"
       ]
      },
      {
       "javascript": [
        "$('div#1b562af1-bb80-4652-899c-f1e43f084d0d').text('1512 of 2029');"
       ],
       "metadata": {},
       "output_type": "display_data",
       "text": [
        "<IPython.core.display.Javascript at 0x16fe84a8>"
       ]
      },
      {
       "javascript": [
        "$('div#fcacfc69-14e6-4075-9d69-383a7ac1188c').text(' 74%');"
       ],
       "metadata": {},
       "output_type": "display_data",
       "text": [
        "<IPython.core.display.Javascript at 0x16fe86a0>"
       ]
      },
      {
       "javascript": [
        "\n",
        "        var $myPB = $(\"div#e406e35c-1244-4166-bf8a-493478997f49\")\n",
        "        if ($myPB.hasClass('ui-progressbar')) {\n",
        "            $myPB.progressbar('value', 1512);\n",
        "        } else {\n",
        "            $myPB.progressbar({value: 0, max: 2029});\n",
        "        }\n",
        "        "
       ],
       "metadata": {},
       "output_type": "display_data",
       "text": [
        "<IPython.core.display.Javascript at 0x1778c0f0>"
       ]
      },
      {
       "javascript": [
        "$('div#9ccddfd4-3c0c-48d2-904f-c02e55cf6dd9').text('ETA:  0:00:00');"
       ],
       "metadata": {},
       "output_type": "display_data",
       "text": [
        "<IPython.core.display.Javascript at 0x3501e10>"
       ]
      },
      {
       "javascript": [
        "$('div#1b562af1-bb80-4652-899c-f1e43f084d0d').text('1533 of 2029');"
       ],
       "metadata": {},
       "output_type": "display_data",
       "text": [
        "<IPython.core.display.Javascript at 0x16fe84a8>"
       ]
      },
      {
       "javascript": [
        "$('div#fcacfc69-14e6-4075-9d69-383a7ac1188c').text(' 75%');"
       ],
       "metadata": {},
       "output_type": "display_data",
       "text": [
        "<IPython.core.display.Javascript at 0x16fe8d68>"
       ]
      },
      {
       "javascript": [
        "\n",
        "        var $myPB = $(\"div#e406e35c-1244-4166-bf8a-493478997f49\")\n",
        "        if ($myPB.hasClass('ui-progressbar')) {\n",
        "            $myPB.progressbar('value', 1533);\n",
        "        } else {\n",
        "            $myPB.progressbar({value: 0, max: 2029});\n",
        "        }\n",
        "        "
       ],
       "metadata": {},
       "output_type": "display_data",
       "text": [
        "<IPython.core.display.Javascript at 0x1778c0f0>"
       ]
      },
      {
       "javascript": [
        "$('div#9ccddfd4-3c0c-48d2-904f-c02e55cf6dd9').text('ETA:  0:00:00');"
       ],
       "metadata": {},
       "output_type": "display_data",
       "text": [
        "<IPython.core.display.Javascript at 0x3501e10>"
       ]
      },
      {
       "javascript": [
        "$('div#1b562af1-bb80-4652-899c-f1e43f084d0d').text('1554 of 2029');"
       ],
       "metadata": {},
       "output_type": "display_data",
       "text": [
        "<IPython.core.display.Javascript at 0x16fe84a8>"
       ]
      },
      {
       "javascript": [
        "$('div#fcacfc69-14e6-4075-9d69-383a7ac1188c').text(' 76%');"
       ],
       "metadata": {},
       "output_type": "display_data",
       "text": [
        "<IPython.core.display.Javascript at 0x1ae35390>"
       ]
      },
      {
       "javascript": [
        "\n",
        "        var $myPB = $(\"div#e406e35c-1244-4166-bf8a-493478997f49\")\n",
        "        if ($myPB.hasClass('ui-progressbar')) {\n",
        "            $myPB.progressbar('value', 1554);\n",
        "        } else {\n",
        "            $myPB.progressbar({value: 0, max: 2029});\n",
        "        }\n",
        "        "
       ],
       "metadata": {},
       "output_type": "display_data",
       "text": [
        "<IPython.core.display.Javascript at 0x1778c0f0>"
       ]
      },
      {
       "javascript": [
        "$('div#9ccddfd4-3c0c-48d2-904f-c02e55cf6dd9').text('ETA:  0:00:00');"
       ],
       "metadata": {},
       "output_type": "display_data",
       "text": [
        "<IPython.core.display.Javascript at 0x3501e10>"
       ]
      },
      {
       "javascript": [
        "$('div#1b562af1-bb80-4652-899c-f1e43f084d0d').text('1575 of 2029');"
       ],
       "metadata": {},
       "output_type": "display_data",
       "text": [
        "<IPython.core.display.Javascript at 0x16fe84a8>"
       ]
      },
      {
       "javascript": [
        "$('div#fcacfc69-14e6-4075-9d69-383a7ac1188c').text(' 77%');"
       ],
       "metadata": {},
       "output_type": "display_data",
       "text": [
        "<IPython.core.display.Javascript at 0x1ae35d68>"
       ]
      },
      {
       "javascript": [
        "\n",
        "        var $myPB = $(\"div#e406e35c-1244-4166-bf8a-493478997f49\")\n",
        "        if ($myPB.hasClass('ui-progressbar')) {\n",
        "            $myPB.progressbar('value', 1575);\n",
        "        } else {\n",
        "            $myPB.progressbar({value: 0, max: 2029});\n",
        "        }\n",
        "        "
       ],
       "metadata": {},
       "output_type": "display_data",
       "text": [
        "<IPython.core.display.Javascript at 0x1778c0f0>"
       ]
      },
      {
       "javascript": [
        "$('div#9ccddfd4-3c0c-48d2-904f-c02e55cf6dd9').text('ETA:  0:00:00');"
       ],
       "metadata": {},
       "output_type": "display_data",
       "text": [
        "<IPython.core.display.Javascript at 0x3501e10>"
       ]
      },
      {
       "javascript": [
        "$('div#1b562af1-bb80-4652-899c-f1e43f084d0d').text('1596 of 2029');"
       ],
       "metadata": {},
       "output_type": "display_data",
       "text": [
        "<IPython.core.display.Javascript at 0x16fe84a8>"
       ]
      },
      {
       "javascript": [
        "$('div#fcacfc69-14e6-4075-9d69-383a7ac1188c').text(' 78%');"
       ],
       "metadata": {},
       "output_type": "display_data",
       "text": [
        "<IPython.core.display.Javascript at 0x1ae35a20>"
       ]
      },
      {
       "javascript": [
        "\n",
        "        var $myPB = $(\"div#e406e35c-1244-4166-bf8a-493478997f49\")\n",
        "        if ($myPB.hasClass('ui-progressbar')) {\n",
        "            $myPB.progressbar('value', 1596);\n",
        "        } else {\n",
        "            $myPB.progressbar({value: 0, max: 2029});\n",
        "        }\n",
        "        "
       ],
       "metadata": {},
       "output_type": "display_data",
       "text": [
        "<IPython.core.display.Javascript at 0x1778c0f0>"
       ]
      },
      {
       "javascript": [
        "$('div#9ccddfd4-3c0c-48d2-904f-c02e55cf6dd9').text('ETA:  0:00:00');"
       ],
       "metadata": {},
       "output_type": "display_data",
       "text": [
        "<IPython.core.display.Javascript at 0x3501e10>"
       ]
      },
      {
       "javascript": [
        "$('div#1b562af1-bb80-4652-899c-f1e43f084d0d').text('1617 of 2029');"
       ],
       "metadata": {},
       "output_type": "display_data",
       "text": [
        "<IPython.core.display.Javascript at 0x16fe84a8>"
       ]
      },
      {
       "javascript": [
        "$('div#fcacfc69-14e6-4075-9d69-383a7ac1188c').text(' 79%');"
       ],
       "metadata": {},
       "output_type": "display_data",
       "text": [
        "<IPython.core.display.Javascript at 0x1ae357b8>"
       ]
      },
      {
       "javascript": [
        "\n",
        "        var $myPB = $(\"div#e406e35c-1244-4166-bf8a-493478997f49\")\n",
        "        if ($myPB.hasClass('ui-progressbar')) {\n",
        "            $myPB.progressbar('value', 1617);\n",
        "        } else {\n",
        "            $myPB.progressbar({value: 0, max: 2029});\n",
        "        }\n",
        "        "
       ],
       "metadata": {},
       "output_type": "display_data",
       "text": [
        "<IPython.core.display.Javascript at 0x1778c0f0>"
       ]
      },
      {
       "javascript": [
        "$('div#9ccddfd4-3c0c-48d2-904f-c02e55cf6dd9').text('ETA:  0:00:00');"
       ],
       "metadata": {},
       "output_type": "display_data",
       "text": [
        "<IPython.core.display.Javascript at 0x3501e10>"
       ]
      },
      {
       "javascript": [
        "$('div#1b562af1-bb80-4652-899c-f1e43f084d0d').text('1638 of 2029');"
       ],
       "metadata": {},
       "output_type": "display_data",
       "text": [
        "<IPython.core.display.Javascript at 0x18477668>"
       ]
      },
      {
       "javascript": [
        "$('div#fcacfc69-14e6-4075-9d69-383a7ac1188c').text(' 80%');"
       ],
       "metadata": {},
       "output_type": "display_data",
       "text": [
        "<IPython.core.display.Javascript at 0x1ae35908>"
       ]
      },
      {
       "javascript": [
        "\n",
        "        var $myPB = $(\"div#e406e35c-1244-4166-bf8a-493478997f49\")\n",
        "        if ($myPB.hasClass('ui-progressbar')) {\n",
        "            $myPB.progressbar('value', 1638);\n",
        "        } else {\n",
        "            $myPB.progressbar({value: 0, max: 2029});\n",
        "        }\n",
        "        "
       ],
       "metadata": {},
       "output_type": "display_data",
       "text": [
        "<IPython.core.display.Javascript at 0x1778c0f0>"
       ]
      },
      {
       "javascript": [
        "$('div#9ccddfd4-3c0c-48d2-904f-c02e55cf6dd9').text('ETA:  0:00:00');"
       ],
       "metadata": {},
       "output_type": "display_data",
       "text": [
        "<IPython.core.display.Javascript at 0x3501e10>"
       ]
      },
      {
       "javascript": [
        "$('div#1b562af1-bb80-4652-899c-f1e43f084d0d').text('1659 of 2029');"
       ],
       "metadata": {},
       "output_type": "display_data",
       "text": [
        "<IPython.core.display.Javascript at 0x16fe84a8>"
       ]
      },
      {
       "javascript": [
        "$('div#fcacfc69-14e6-4075-9d69-383a7ac1188c').text(' 81%');"
       ],
       "metadata": {},
       "output_type": "display_data",
       "text": [
        "<IPython.core.display.Javascript at 0x1ae35a20>"
       ]
      },
      {
       "javascript": [
        "\n",
        "        var $myPB = $(\"div#e406e35c-1244-4166-bf8a-493478997f49\")\n",
        "        if ($myPB.hasClass('ui-progressbar')) {\n",
        "            $myPB.progressbar('value', 1659);\n",
        "        } else {\n",
        "            $myPB.progressbar({value: 0, max: 2029});\n",
        "        }\n",
        "        "
       ],
       "metadata": {},
       "output_type": "display_data",
       "text": [
        "<IPython.core.display.Javascript at 0x1778c0f0>"
       ]
      },
      {
       "javascript": [
        "$('div#9ccddfd4-3c0c-48d2-904f-c02e55cf6dd9').text('ETA:  0:00:00');"
       ],
       "metadata": {},
       "output_type": "display_data",
       "text": [
        "<IPython.core.display.Javascript at 0x3501e10>"
       ]
      },
      {
       "javascript": [
        "$('div#1b562af1-bb80-4652-899c-f1e43f084d0d').text('1680 of 2029');"
       ],
       "metadata": {},
       "output_type": "display_data",
       "text": [
        "<IPython.core.display.Javascript at 0x18477668>"
       ]
      },
      {
       "javascript": [
        "$('div#fcacfc69-14e6-4075-9d69-383a7ac1188c').text(' 82%');"
       ],
       "metadata": {},
       "output_type": "display_data",
       "text": [
        "<IPython.core.display.Javascript at 0x1ae357b8>"
       ]
      },
      {
       "javascript": [
        "\n",
        "        var $myPB = $(\"div#e406e35c-1244-4166-bf8a-493478997f49\")\n",
        "        if ($myPB.hasClass('ui-progressbar')) {\n",
        "            $myPB.progressbar('value', 1680);\n",
        "        } else {\n",
        "            $myPB.progressbar({value: 0, max: 2029});\n",
        "        }\n",
        "        "
       ],
       "metadata": {},
       "output_type": "display_data",
       "text": [
        "<IPython.core.display.Javascript at 0x1778c0f0>"
       ]
      },
      {
       "javascript": [
        "$('div#9ccddfd4-3c0c-48d2-904f-c02e55cf6dd9').text('ETA:  0:00:00');"
       ],
       "metadata": {},
       "output_type": "display_data",
       "text": [
        "<IPython.core.display.Javascript at 0x3501e10>"
       ]
      },
      {
       "javascript": [
        "$('div#1b562af1-bb80-4652-899c-f1e43f084d0d').text('1701 of 2029');"
       ],
       "metadata": {},
       "output_type": "display_data",
       "text": [
        "<IPython.core.display.Javascript at 0x16fe84a8>"
       ]
      },
      {
       "javascript": [
        "$('div#fcacfc69-14e6-4075-9d69-383a7ac1188c').text(' 83%');"
       ],
       "metadata": {},
       "output_type": "display_data",
       "text": [
        "<IPython.core.display.Javascript at 0x16fe8d68>"
       ]
      },
      {
       "javascript": [
        "\n",
        "        var $myPB = $(\"div#e406e35c-1244-4166-bf8a-493478997f49\")\n",
        "        if ($myPB.hasClass('ui-progressbar')) {\n",
        "            $myPB.progressbar('value', 1701);\n",
        "        } else {\n",
        "            $myPB.progressbar({value: 0, max: 2029});\n",
        "        }\n",
        "        "
       ],
       "metadata": {},
       "output_type": "display_data",
       "text": [
        "<IPython.core.display.Javascript at 0x1778c0f0>"
       ]
      },
      {
       "javascript": [
        "$('div#9ccddfd4-3c0c-48d2-904f-c02e55cf6dd9').text('ETA:  0:00:00');"
       ],
       "metadata": {},
       "output_type": "display_data",
       "text": [
        "<IPython.core.display.Javascript at 0x3501e10>"
       ]
      },
      {
       "javascript": [
        "$('div#1b562af1-bb80-4652-899c-f1e43f084d0d').text('1722 of 2029');"
       ],
       "metadata": {},
       "output_type": "display_data",
       "text": [
        "<IPython.core.display.Javascript at 0x16fe8668>"
       ]
      },
      {
       "javascript": [
        "$('div#fcacfc69-14e6-4075-9d69-383a7ac1188c').text(' 84%');"
       ],
       "metadata": {},
       "output_type": "display_data",
       "text": [
        "<IPython.core.display.Javascript at 0x16fe85c0>"
       ]
      },
      {
       "javascript": [
        "\n",
        "        var $myPB = $(\"div#e406e35c-1244-4166-bf8a-493478997f49\")\n",
        "        if ($myPB.hasClass('ui-progressbar')) {\n",
        "            $myPB.progressbar('value', 1722);\n",
        "        } else {\n",
        "            $myPB.progressbar({value: 0, max: 2029});\n",
        "        }\n",
        "        "
       ],
       "metadata": {},
       "output_type": "display_data",
       "text": [
        "<IPython.core.display.Javascript at 0x3501e10>"
       ]
      },
      {
       "javascript": [
        "$('div#9ccddfd4-3c0c-48d2-904f-c02e55cf6dd9').text('ETA:  0:00:00');"
       ],
       "metadata": {},
       "output_type": "display_data",
       "text": [
        "<IPython.core.display.Javascript at 0x1778c0f0>"
       ]
      },
      {
       "javascript": [
        "$('div#1b562af1-bb80-4652-899c-f1e43f084d0d').text('1743 of 2029');"
       ],
       "metadata": {},
       "output_type": "display_data",
       "text": [
        "<IPython.core.display.Javascript at 0x16fe84a8>"
       ]
      },
      {
       "javascript": [
        "$('div#fcacfc69-14e6-4075-9d69-383a7ac1188c').text(' 85%');"
       ],
       "metadata": {},
       "output_type": "display_data",
       "text": [
        "<IPython.core.display.Javascript at 0x16fe86a0>"
       ]
      },
      {
       "javascript": [
        "\n",
        "        var $myPB = $(\"div#e406e35c-1244-4166-bf8a-493478997f49\")\n",
        "        if ($myPB.hasClass('ui-progressbar')) {\n",
        "            $myPB.progressbar('value', 1743);\n",
        "        } else {\n",
        "            $myPB.progressbar({value: 0, max: 2029});\n",
        "        }\n",
        "        "
       ],
       "metadata": {},
       "output_type": "display_data",
       "text": [
        "<IPython.core.display.Javascript at 0x3501e10>"
       ]
      },
      {
       "javascript": [
        "$('div#9ccddfd4-3c0c-48d2-904f-c02e55cf6dd9').text('ETA:  0:00:00');"
       ],
       "metadata": {},
       "output_type": "display_data",
       "text": [
        "<IPython.core.display.Javascript at 0x1778c0f0>"
       ]
      },
      {
       "javascript": [
        "$('div#1b562af1-bb80-4652-899c-f1e43f084d0d').text('1764 of 2029');"
       ],
       "metadata": {},
       "output_type": "display_data",
       "text": [
        "<IPython.core.display.Javascript at 0x16fe8ba8>"
       ]
      },
      {
       "javascript": [
        "$('div#fcacfc69-14e6-4075-9d69-383a7ac1188c').text(' 86%');"
       ],
       "metadata": {},
       "output_type": "display_data",
       "text": [
        "<IPython.core.display.Javascript at 0x16fe84a8>"
       ]
      },
      {
       "javascript": [
        "\n",
        "        var $myPB = $(\"div#e406e35c-1244-4166-bf8a-493478997f49\")\n",
        "        if ($myPB.hasClass('ui-progressbar')) {\n",
        "            $myPB.progressbar('value', 1764);\n",
        "        } else {\n",
        "            $myPB.progressbar({value: 0, max: 2029});\n",
        "        }\n",
        "        "
       ],
       "metadata": {},
       "output_type": "display_data",
       "text": [
        "<IPython.core.display.Javascript at 0x3501e10>"
       ]
      },
      {
       "javascript": [
        "$('div#9ccddfd4-3c0c-48d2-904f-c02e55cf6dd9').text('ETA:  0:00:00');"
       ],
       "metadata": {},
       "output_type": "display_data",
       "text": [
        "<IPython.core.display.Javascript at 0x1778c0f0>"
       ]
      },
      {
       "javascript": [
        "$('div#1b562af1-bb80-4652-899c-f1e43f084d0d').text('1785 of 2029');"
       ],
       "metadata": {},
       "output_type": "display_data",
       "text": [
        "<IPython.core.display.Javascript at 0x16fe8ba8>"
       ]
      },
      {
       "javascript": [
        "$('div#fcacfc69-14e6-4075-9d69-383a7ac1188c').text(' 87%');"
       ],
       "metadata": {},
       "output_type": "display_data",
       "text": [
        "<IPython.core.display.Javascript at 0x16fe8668>"
       ]
      },
      {
       "javascript": [
        "\n",
        "        var $myPB = $(\"div#e406e35c-1244-4166-bf8a-493478997f49\")\n",
        "        if ($myPB.hasClass('ui-progressbar')) {\n",
        "            $myPB.progressbar('value', 1785);\n",
        "        } else {\n",
        "            $myPB.progressbar({value: 0, max: 2029});\n",
        "        }\n",
        "        "
       ],
       "metadata": {},
       "output_type": "display_data",
       "text": [
        "<IPython.core.display.Javascript at 0x3501e10>"
       ]
      },
      {
       "javascript": [
        "$('div#9ccddfd4-3c0c-48d2-904f-c02e55cf6dd9').text('ETA:  0:00:00');"
       ],
       "metadata": {},
       "output_type": "display_data",
       "text": [
        "<IPython.core.display.Javascript at 0x1778c0f0>"
       ]
      },
      {
       "javascript": [
        "$('div#1b562af1-bb80-4652-899c-f1e43f084d0d').text('1806 of 2029');"
       ],
       "metadata": {},
       "output_type": "display_data",
       "text": [
        "<IPython.core.display.Javascript at 0x16fe8ba8>"
       ]
      },
      {
       "javascript": [
        "$('div#fcacfc69-14e6-4075-9d69-383a7ac1188c').text(' 89%');"
       ],
       "metadata": {},
       "output_type": "display_data",
       "text": [
        "<IPython.core.display.Javascript at 0x1ae357b8>"
       ]
      },
      {
       "javascript": [
        "\n",
        "        var $myPB = $(\"div#e406e35c-1244-4166-bf8a-493478997f49\")\n",
        "        if ($myPB.hasClass('ui-progressbar')) {\n",
        "            $myPB.progressbar('value', 1806);\n",
        "        } else {\n",
        "            $myPB.progressbar({value: 0, max: 2029});\n",
        "        }\n",
        "        "
       ],
       "metadata": {},
       "output_type": "display_data",
       "text": [
        "<IPython.core.display.Javascript at 0x3501e10>"
       ]
      },
      {
       "javascript": [
        "$('div#9ccddfd4-3c0c-48d2-904f-c02e55cf6dd9').text('ETA:  0:00:00');"
       ],
       "metadata": {},
       "output_type": "display_data",
       "text": [
        "<IPython.core.display.Javascript at 0x1778c0f0>"
       ]
      },
      {
       "javascript": [
        "$('div#1b562af1-bb80-4652-899c-f1e43f084d0d').text('1827 of 2029');"
       ],
       "metadata": {},
       "output_type": "display_data",
       "text": [
        "<IPython.core.display.Javascript at 0x16fe8ba8>"
       ]
      },
      {
       "javascript": [
        "$('div#fcacfc69-14e6-4075-9d69-383a7ac1188c').text(' 90%');"
       ],
       "metadata": {},
       "output_type": "display_data",
       "text": [
        "<IPython.core.display.Javascript at 0x1ae35208>"
       ]
      },
      {
       "javascript": [
        "\n",
        "        var $myPB = $(\"div#e406e35c-1244-4166-bf8a-493478997f49\")\n",
        "        if ($myPB.hasClass('ui-progressbar')) {\n",
        "            $myPB.progressbar('value', 1827);\n",
        "        } else {\n",
        "            $myPB.progressbar({value: 0, max: 2029});\n",
        "        }\n",
        "        "
       ],
       "metadata": {},
       "output_type": "display_data",
       "text": [
        "<IPython.core.display.Javascript at 0x3501e10>"
       ]
      },
      {
       "javascript": [
        "$('div#9ccddfd4-3c0c-48d2-904f-c02e55cf6dd9').text('ETA:  0:00:00');"
       ],
       "metadata": {},
       "output_type": "display_data",
       "text": [
        "<IPython.core.display.Javascript at 0x1778c0f0>"
       ]
      },
      {
       "javascript": [
        "$('div#1b562af1-bb80-4652-899c-f1e43f084d0d').text('1848 of 2029');"
       ],
       "metadata": {},
       "output_type": "display_data",
       "text": [
        "<IPython.core.display.Javascript at 0x1ae35710>"
       ]
      },
      {
       "javascript": [
        "$('div#fcacfc69-14e6-4075-9d69-383a7ac1188c').text(' 91%');"
       ],
       "metadata": {},
       "output_type": "display_data",
       "text": [
        "<IPython.core.display.Javascript at 0x1ae35908>"
       ]
      },
      {
       "javascript": [
        "\n",
        "        var $myPB = $(\"div#e406e35c-1244-4166-bf8a-493478997f49\")\n",
        "        if ($myPB.hasClass('ui-progressbar')) {\n",
        "            $myPB.progressbar('value', 1848);\n",
        "        } else {\n",
        "            $myPB.progressbar({value: 0, max: 2029});\n",
        "        }\n",
        "        "
       ],
       "metadata": {},
       "output_type": "display_data",
       "text": [
        "<IPython.core.display.Javascript at 0x3501e10>"
       ]
      },
      {
       "javascript": [
        "$('div#9ccddfd4-3c0c-48d2-904f-c02e55cf6dd9').text('ETA:  0:00:00');"
       ],
       "metadata": {},
       "output_type": "display_data",
       "text": [
        "<IPython.core.display.Javascript at 0x1778c0f0>"
       ]
      },
      {
       "javascript": [
        "$('div#1b562af1-bb80-4652-899c-f1e43f084d0d').text('1869 of 2029');"
       ],
       "metadata": {},
       "output_type": "display_data",
       "text": [
        "<IPython.core.display.Javascript at 0x1ae35320>"
       ]
      },
      {
       "javascript": [
        "$('div#fcacfc69-14e6-4075-9d69-383a7ac1188c').text(' 92%');"
       ],
       "metadata": {},
       "output_type": "display_data",
       "text": [
        "<IPython.core.display.Javascript at 0x1ae35d68>"
       ]
      },
      {
       "javascript": [
        "\n",
        "        var $myPB = $(\"div#e406e35c-1244-4166-bf8a-493478997f49\")\n",
        "        if ($myPB.hasClass('ui-progressbar')) {\n",
        "            $myPB.progressbar('value', 1869);\n",
        "        } else {\n",
        "            $myPB.progressbar({value: 0, max: 2029});\n",
        "        }\n",
        "        "
       ],
       "metadata": {},
       "output_type": "display_data",
       "text": [
        "<IPython.core.display.Javascript at 0x3501e10>"
       ]
      },
      {
       "javascript": [
        "$('div#9ccddfd4-3c0c-48d2-904f-c02e55cf6dd9').text('ETA:  0:00:00');"
       ],
       "metadata": {},
       "output_type": "display_data",
       "text": [
        "<IPython.core.display.Javascript at 0x1778c0f0>"
       ]
      },
      {
       "javascript": [
        "$('div#1b562af1-bb80-4652-899c-f1e43f084d0d').text('1890 of 2029');"
       ],
       "metadata": {},
       "output_type": "display_data",
       "text": [
        "<IPython.core.display.Javascript at 0x1ae35240>"
       ]
      },
      {
       "javascript": [
        "$('div#fcacfc69-14e6-4075-9d69-383a7ac1188c').text(' 93%');"
       ],
       "metadata": {},
       "output_type": "display_data",
       "text": [
        "<IPython.core.display.Javascript at 0x1ae35a20>"
       ]
      },
      {
       "javascript": [
        "\n",
        "        var $myPB = $(\"div#e406e35c-1244-4166-bf8a-493478997f49\")\n",
        "        if ($myPB.hasClass('ui-progressbar')) {\n",
        "            $myPB.progressbar('value', 1890);\n",
        "        } else {\n",
        "            $myPB.progressbar({value: 0, max: 2029});\n",
        "        }\n",
        "        "
       ],
       "metadata": {},
       "output_type": "display_data",
       "text": [
        "<IPython.core.display.Javascript at 0x3501e10>"
       ]
      },
      {
       "javascript": [
        "$('div#9ccddfd4-3c0c-48d2-904f-c02e55cf6dd9').text('ETA:  0:00:00');"
       ],
       "metadata": {},
       "output_type": "display_data",
       "text": [
        "<IPython.core.display.Javascript at 0x1778c0f0>"
       ]
      },
      {
       "javascript": [
        "$('div#1b562af1-bb80-4652-899c-f1e43f084d0d').text('1911 of 2029');"
       ],
       "metadata": {},
       "output_type": "display_data",
       "text": [
        "<IPython.core.display.Javascript at 0x1ae35be0>"
       ]
      },
      {
       "javascript": [
        "$('div#fcacfc69-14e6-4075-9d69-383a7ac1188c').text(' 94%');"
       ],
       "metadata": {},
       "output_type": "display_data",
       "text": [
        "<IPython.core.display.Javascript at 0x1ae35390>"
       ]
      },
      {
       "javascript": [
        "\n",
        "        var $myPB = $(\"div#e406e35c-1244-4166-bf8a-493478997f49\")\n",
        "        if ($myPB.hasClass('ui-progressbar')) {\n",
        "            $myPB.progressbar('value', 1911);\n",
        "        } else {\n",
        "            $myPB.progressbar({value: 0, max: 2029});\n",
        "        }\n",
        "        "
       ],
       "metadata": {},
       "output_type": "display_data",
       "text": [
        "<IPython.core.display.Javascript at 0x3501e10>"
       ]
      },
      {
       "javascript": [
        "$('div#9ccddfd4-3c0c-48d2-904f-c02e55cf6dd9').text('ETA:  0:00:00');"
       ],
       "metadata": {},
       "output_type": "display_data",
       "text": [
        "<IPython.core.display.Javascript at 0x1778c0f0>"
       ]
      },
      {
       "javascript": [
        "$('div#1b562af1-bb80-4652-899c-f1e43f084d0d').text('1932 of 2029');"
       ],
       "metadata": {},
       "output_type": "display_data",
       "text": [
        "<IPython.core.display.Javascript at 0x1ae35320>"
       ]
      },
      {
       "javascript": [
        "$('div#fcacfc69-14e6-4075-9d69-383a7ac1188c').text(' 95%');"
       ],
       "metadata": {},
       "output_type": "display_data",
       "text": [
        "<IPython.core.display.Javascript at 0x1ae35d68>"
       ]
      },
      {
       "javascript": [
        "\n",
        "        var $myPB = $(\"div#e406e35c-1244-4166-bf8a-493478997f49\")\n",
        "        if ($myPB.hasClass('ui-progressbar')) {\n",
        "            $myPB.progressbar('value', 1932);\n",
        "        } else {\n",
        "            $myPB.progressbar({value: 0, max: 2029});\n",
        "        }\n",
        "        "
       ],
       "metadata": {},
       "output_type": "display_data",
       "text": [
        "<IPython.core.display.Javascript at 0x3501e10>"
       ]
      },
      {
       "javascript": [
        "$('div#9ccddfd4-3c0c-48d2-904f-c02e55cf6dd9').text('ETA:  0:00:00');"
       ],
       "metadata": {},
       "output_type": "display_data",
       "text": [
        "<IPython.core.display.Javascript at 0x1778c0f0>"
       ]
      },
      {
       "javascript": [
        "$('div#1b562af1-bb80-4652-899c-f1e43f084d0d').text('1953 of 2029');"
       ],
       "metadata": {},
       "output_type": "display_data",
       "text": [
        "<IPython.core.display.Javascript at 0x16fe84a8>"
       ]
      },
      {
       "javascript": [
        "$('div#fcacfc69-14e6-4075-9d69-383a7ac1188c').text(' 96%');"
       ],
       "metadata": {},
       "output_type": "display_data",
       "text": [
        "<IPython.core.display.Javascript at 0x16fe8668>"
       ]
      },
      {
       "javascript": [
        "\n",
        "        var $myPB = $(\"div#e406e35c-1244-4166-bf8a-493478997f49\")\n",
        "        if ($myPB.hasClass('ui-progressbar')) {\n",
        "            $myPB.progressbar('value', 1953);\n",
        "        } else {\n",
        "            $myPB.progressbar({value: 0, max: 2029});\n",
        "        }\n",
        "        "
       ],
       "metadata": {},
       "output_type": "display_data",
       "text": [
        "<IPython.core.display.Javascript at 0x1778c0f0>"
       ]
      },
      {
       "javascript": [
        "$('div#9ccddfd4-3c0c-48d2-904f-c02e55cf6dd9').text('ETA:  0:00:00');"
       ],
       "metadata": {},
       "output_type": "display_data",
       "text": [
        "<IPython.core.display.Javascript at 0x3501e10>"
       ]
      },
      {
       "javascript": [
        "$('div#1b562af1-bb80-4652-899c-f1e43f084d0d').text('1974 of 2029');"
       ],
       "metadata": {},
       "output_type": "display_data",
       "text": [
        "<IPython.core.display.Javascript at 0x16fe85c0>"
       ]
      },
      {
       "javascript": [
        "$('div#fcacfc69-14e6-4075-9d69-383a7ac1188c').text(' 97%');"
       ],
       "metadata": {},
       "output_type": "display_data",
       "text": [
        "<IPython.core.display.Javascript at 0x16fe8d68>"
       ]
      },
      {
       "javascript": [
        "\n",
        "        var $myPB = $(\"div#e406e35c-1244-4166-bf8a-493478997f49\")\n",
        "        if ($myPB.hasClass('ui-progressbar')) {\n",
        "            $myPB.progressbar('value', 1974);\n",
        "        } else {\n",
        "            $myPB.progressbar({value: 0, max: 2029});\n",
        "        }\n",
        "        "
       ],
       "metadata": {},
       "output_type": "display_data",
       "text": [
        "<IPython.core.display.Javascript at 0x1778c0f0>"
       ]
      },
      {
       "javascript": [
        "$('div#9ccddfd4-3c0c-48d2-904f-c02e55cf6dd9').text('ETA:  0:00:00');"
       ],
       "metadata": {},
       "output_type": "display_data",
       "text": [
        "<IPython.core.display.Javascript at 0x3501e10>"
       ]
      },
      {
       "javascript": [
        "$('div#1b562af1-bb80-4652-899c-f1e43f084d0d').text('1995 of 2029');"
       ],
       "metadata": {},
       "output_type": "display_data",
       "text": [
        "<IPython.core.display.Javascript at 0x16fe86a0>"
       ]
      },
      {
       "javascript": [
        "$('div#fcacfc69-14e6-4075-9d69-383a7ac1188c').text(' 98%');"
       ],
       "metadata": {},
       "output_type": "display_data",
       "text": [
        "<IPython.core.display.Javascript at 0x16fe85c0>"
       ]
      },
      {
       "javascript": [
        "\n",
        "        var $myPB = $(\"div#e406e35c-1244-4166-bf8a-493478997f49\")\n",
        "        if ($myPB.hasClass('ui-progressbar')) {\n",
        "            $myPB.progressbar('value', 1995);\n",
        "        } else {\n",
        "            $myPB.progressbar({value: 0, max: 2029});\n",
        "        }\n",
        "        "
       ],
       "metadata": {},
       "output_type": "display_data",
       "text": [
        "<IPython.core.display.Javascript at 0x1778c0f0>"
       ]
      },
      {
       "javascript": [
        "$('div#9ccddfd4-3c0c-48d2-904f-c02e55cf6dd9').text('ETA:  0:00:00');"
       ],
       "metadata": {},
       "output_type": "display_data",
       "text": [
        "<IPython.core.display.Javascript at 0x3501e10>"
       ]
      },
      {
       "javascript": [
        "$('div#1b562af1-bb80-4652-899c-f1e43f084d0d').text('2016 of 2029');"
       ],
       "metadata": {},
       "output_type": "display_data",
       "text": [
        "<IPython.core.display.Javascript at 0x16fe86a0>"
       ]
      },
      {
       "javascript": [
        "$('div#fcacfc69-14e6-4075-9d69-383a7ac1188c').text(' 99%');"
       ],
       "metadata": {},
       "output_type": "display_data",
       "text": [
        "<IPython.core.display.Javascript at 0x16fe84a8>"
       ]
      },
      {
       "javascript": [
        "\n",
        "        var $myPB = $(\"div#e406e35c-1244-4166-bf8a-493478997f49\")\n",
        "        if ($myPB.hasClass('ui-progressbar')) {\n",
        "            $myPB.progressbar('value', 2016);\n",
        "        } else {\n",
        "            $myPB.progressbar({value: 0, max: 2029});\n",
        "        }\n",
        "        "
       ],
       "metadata": {},
       "output_type": "display_data",
       "text": [
        "<IPython.core.display.Javascript at 0x1778c0f0>"
       ]
      },
      {
       "javascript": [
        "$('div#9ccddfd4-3c0c-48d2-904f-c02e55cf6dd9').text('ETA:  0:00:00');"
       ],
       "metadata": {},
       "output_type": "display_data",
       "text": [
        "<IPython.core.display.Javascript at 0x3501e10>"
       ]
      },
      {
       "javascript": [
        "$('div#1b562af1-bb80-4652-899c-f1e43f084d0d').text('2029 of 2029');"
       ],
       "metadata": {},
       "output_type": "display_data",
       "text": [
        "<IPython.core.display.Javascript at 0x18477668>"
       ]
      },
      {
       "javascript": [
        "$('div#fcacfc69-14e6-4075-9d69-383a7ac1188c').text('100%');"
       ],
       "metadata": {},
       "output_type": "display_data",
       "text": [
        "<IPython.core.display.Javascript at 0x16fe86a0>"
       ]
      },
      {
       "javascript": [
        "\n",
        "        var $myPB = $(\"div#e406e35c-1244-4166-bf8a-493478997f49\")\n",
        "        if ($myPB.hasClass('ui-progressbar')) {\n",
        "            $myPB.progressbar('value', 2029);\n",
        "        } else {\n",
        "            $myPB.progressbar({value: 0, max: 2029});\n",
        "        }\n",
        "        "
       ],
       "metadata": {},
       "output_type": "display_data",
       "text": [
        "<IPython.core.display.Javascript at 0x1778c0f0>"
       ]
      },
      {
       "javascript": [
        "$('div#9ccddfd4-3c0c-48d2-904f-c02e55cf6dd9').text('Time: 0:00:00');"
       ],
       "metadata": {},
       "output_type": "display_data",
       "text": [
        "<IPython.core.display.Javascript at 0x3501e10>"
       ]
      },
      {
       "javascript": [
        "var element = document.getElementById('05f9e26b-ae9e-4905-86f5-96ede667184e');\n",
        "                    var parent = element.parentNode\n",
        "                    parent.removeChild(element);\n",
        "                    parent.parentElement.remove();"
       ],
       "metadata": {},
       "output_type": "display_data",
       "text": [
        "<IPython.core.display.Javascript at 0x124a0e80>"
       ]
      },
      {
       "javascript": [
        "this.cleanProgressBar(['05f9e26b-ae9e-4905-86f5-96ede667184e', '1b562af1-bb80-4652-899c-f1e43f084d0d', 'fcacfc69-14e6-4075-9d69-383a7ac1188c', 'e406e35c-1244-4166-bf8a-493478997f49', '9ccddfd4-3c0c-48d2-904f-c02e55cf6dd9'])"
       ],
       "metadata": {},
       "output_type": "display_data",
       "text": [
        "<IPython.core.display.Javascript at 0x18477668>"
       ]
      },
      {
       "html": [
        "<table class=\"table\"><tr><td>1</td><td><table class=\"table\"><tr><td>1</td><td>Abul<->Futuh</td></tr><tr><td>2</td><td>Rajaie<->Khorasani</td></tr><tr><td>3</td><td>Saied<->Rajaie</td></tr><tr><td>4</td><td>Shia<->Muslims</td></tr><tr><td>5</td><td>extraordinary<->rendition</td></tr><tr><td>6</td><td>mentally<->challenged</td></tr><tr><td>7</td><td>Burkina<->Faso</td></tr><tr><td>8</td><td>Falun<->Gong</td></tr><tr><td>9</td><td>habeas<->corpus</td></tr><tr><td>10</td><td>Foreign<->Affairs</td></tr><tr><td>11</td><td>preceding<->receipt</td></tr><tr><td>12</td><td>Paragraphs<->Page</td></tr><tr><td>13</td><td>High<->Commissioner</td></tr><tr><td>14</td><td>art<->para</td></tr><tr><td>15</td><td>Saudi<->Arabia</td></tr><tr><td>16</td><td>around<->globe</td></tr><tr><td>17</td><td>participate<->decisions</td></tr><tr><td>18</td><td>binding<->instrument</td></tr><tr><td>19</td><td>aggressive<->interrogation</td></tr><tr><td>20</td><td>thorough<->impartial</td></tr></table></td></tr><tr><td>2</td><td><table class=\"table\"><tr><td>1</td><td>thorough<->impartial</td></tr><tr><td>2</td><td>Paragraphs<->Page</td></tr><tr><td>3</td><td>Burkina<->Faso</td></tr><tr><td>4</td><td>Falun<->Gong</td></tr><tr><td>5</td><td>habeas<->corpus</td></tr><tr><td>6</td><td>Abul<->Futuh</td></tr><tr><td>7</td><td>Rajaie<->Khorasani</td></tr><tr><td>8</td><td>Saied<->Rajaie</td></tr><tr><td>9</td><td>Shia<->Muslims</td></tr><tr><td>10</td><td>extraordinary<->rendition</td></tr><tr><td>11</td><td>mentally<->challenged</td></tr><tr><td>12</td><td>Working<->Group</td></tr><tr><td>13</td><td>Human<->Rights</td></tr><tr><td>14</td><td>Sri<->Lanka</td></tr><tr><td>15</td><td>human<->rights</td></tr><tr><td>16</td><td>Summary<->situation</td></tr><tr><td>17</td><td>Bayo<->Adekanye</td></tr><tr><td>18</td><td>East<->Timor</td></tr><tr><td>19</td><td>Permanent<->Mission</td></tr><tr><td>20</td><td>Santiago<->Corcuera</td></tr></table></td></tr><tr><td>3</td><td><table class=\"table\"><tr><td>1</td><td>Saied<->Rajaie<->Khorasani</td></tr><tr><td>2</td><td>legally<->binding<->instrument</td></tr><tr><td>3</td><td>participate<->decisions<->relating</td></tr><tr><td>4</td><td>annex<->IV<->list</td></tr><tr><td>5</td><td>months<->preceding<->receipt</td></tr><tr><td>6</td><td>J<->Bayo<->Adekanye</td></tr><tr><td>7</td><td>summary<->arbitrary<->executions</td></tr><tr><td>8</td><td>binding<->instrument<->protection</td></tr><tr><td>9</td><td>draft<->legally<->binding</td></tr><tr><td>10</td><td>CONTENTS<->continued<->Paragraphs</td></tr><tr><td>11</td><td>extrajudicial<->summary<->arbitrary</td></tr><tr><td>12</td><td>IV<->list<->names</td></tr><tr><td>13</td><td>See<->annex<->IV</td></tr><tr><td>14</td><td>continued<->Paragraphs<->Page</td></tr><tr><td>15</td><td>conduct<->thorough<->impartial</td></tr><tr><td>16</td><td>Office<->High<->Commissioner</td></tr><tr><td>17</td><td>responsibility<->conduct<->thorough</td></tr><tr><td>18</td><td>thorough<->impartial<->investigations</td></tr><tr><td>19</td><td>Libyan<->Arab<->Jamahiriya</td></tr><tr><td>20</td><td>decisions<->relating<->section</td></tr></table></td></tr></table>"
       ],
       "metadata": {},
       "output_type": "pyout",
       "prompt_number": 8,
       "text": [
        "<IPython.core.display.HTML at 0x1b324400>"
       ]
      }
     ],
     "prompt_number": 8
    },
    {
     "cell_type": "code",
     "collapsed": false,
     "input": [],
     "language": "python",
     "metadata": {},
     "outputs": [],
     "prompt_number": 8
    },
    {
     "cell_type": "code",
     "collapsed": false,
     "input": [
      "colloc = mun.get_chunked_collocations(tagged_sentences = tagged_sentences)\n",
      "HTML(mun.json2html([ [ \"<->\".join(list(r)) for r in c] for c in colloc]))"
     ],
     "language": "python",
     "metadata": {},
     "outputs": [
      {
       "output_type": "stream",
       "stream": "stdout",
       "text": [
        "['Congo', 'Government', 'of', 'Nepal', 'Paragraphs', 'Page', 'Libyan', 'Arab', 'Jamahiriya', 'Nepal', 'Nepal', 'Lao', \"People's\", 'Libyan', 'Arab', \"Lord's\", 'Resistance', 'Army', 'disappearance', 'in', 'Nepal', 'Autonomous', 'Republic', 'of', 'Crimea', 'Chile', 'Communist', 'Party', 'of', 'Nepal', 'E', 'Areas', 'E', 'Statements', 'studies', 'El', 'Salvador', 'Government', 'of', 'El', 'Salvador', 'Government', 'of', 'Guatemala', 'Government', 'of', 'Morocco', 'Government', 'of', 'Peru', 'Guardia', 'Guatemala', 'Lebanese', 'citizens', 'Libyan', 'Security', 'Services', 'Morocco', 'Vice-Chairman', 'Rapporteur', 'J', 'section', 'on', 'Nepal', '187th', 'PC', 'in', 'Aurora', '1992', 'in', 'Jerusalem', '1996', 'at', 'El', '385', 'cases', 'Abu', 'Salim', 'prison', 'in', 'Tripoli', 'Allegedly', 'Lebanese', 'Andap', 'Valley', 'Buhisan', 'San', 'Bashir', 'Ahmad', 'Brak', 'to', 'Tripoli', 'C', 'Country', 'visits', 'C', 'Country', 'visits', '37', '39', '14', 'Cairo', 'suburb', 'Chairman-Rapporteur', 'Stephen', 'Chile', '140', '144', '38', 'Communist', 'Party', 'of', 'Peru', 'Congo', '172', '179', '43', 'Congo', '191', '196', '46', 'Council', 'of', 'Europe', 'Departments', 'of', 'Apurimac', 'Ayacucho', 'Huancavelica', 'San', 'Martin', 'Ecuador', 'Ecuador', '202', '205', '48', 'El', 'Paraiso', 'Government', 'concerning', 'Hatem', 'Al', 'Fathi', 'Al', 'Government', 'of', 'Chile', 'Government', 'of', 'President', 'Alfredo', 'Green', 'Book', 'in', 'Tripoli', 'Guatemala', '243', '249', '57', 'Guinea', 'Guinea', '250', '253', '58', 'Gunuwan', 'R', 'Infantry', 'Battalions', 'of', 'Philippines', 'Jakarta', 'Jakarta', 'Aceh', 'Jesuit', 'priest', 'Karen', 'Kosovo', 'to', 'Albania', 'Lao', 'Students', 'Movement', 'Lao', 'authorities', 'Lasting', 'Peace', 'in', 'Guatemala', 'Lebanese', 'Libyan', 'Arab', 'Jamahiriya', 'Morocco', 'Nepal', 'London', 'Marseilles', 'Mindanao', 'Mobile', 'Brigade', 'troops', 'Morocco', '351', '357', '79', 'Nepal', '370', '391', '83', 'Netherlands', 'Nicaragua', 'Nicaragua', '392', '396', '87', 'Peru', 'Peru', '416', '421', '92', 'Philippines', '4', 'Philippines', '422', '431', '93', 'Philippines', 'may', 'Rabat', 'suburbs', 'Republic', 'of', 'Congo', 'Republic', 'of', 'Korea', 'Santa', 'Rosa', 'Santo', 'Domingo', 'Stephen', 'J', 'Toope', 'Chairman-Rapporteur', 'Canada', 'Sumatra', 'Uruguay', 'Uruguay', '562', '565', '120', 'Venezuela', 'Venezuela', '576', '578', '122', 'Working', 'Group', 'J', 'YOGYA', 'Department', 'Store', 'in', 'Jakarta', 'abducted', 'in', 'Beirut', 'abducted', 'in', 'Tripoli', 'anti-Government', 'demonstrations', 'in', 'East', 'Timor', 'Jakarta', 'arrested', 'in', 'Nepal', 'camps', 'across', 'Nepal', 'car', 'near', 'Bangkok', 'case', 'concerned', 'Emilio', 'case', 'concerned', 'Jose', 'cases', 'against', 'Alfredo', 'cases', 'concerned', 'Lebanese', 'cases', 'concerning', 'Lebanese', 'cases', 'concerning', 'Mohammad', 'Farooq', 'Saien', 'Manzoor', 'Ahman', 'Mir', 'Amin', 'Wani', 'Mohammed', 'cases', 'involved', 'Shia', 'Muslims', 'cases', 'of', 'Jesus', 'Antonio', 'chronic', 'problem', 'in', 'Nepal', 'city', 'of', 'Mendoza', 'concern', 'about', 'Lebanese', 'confined', 'in', 'La', 'demonstration', 'in', 'Vientiane', 'demonstrations', 'in', 'Bangkok', 'departure', 'lounge', 'of', 'Cairo', 'detainees', 'held', 'in', 'Syria', 'disappearance', 'of', 'Orlando', 'disappearances', 'in', 'Nepal', 'districts', 'of', 'San', 'Jose', 'Santa', 'Helena', 'elected', 'President', 'Aristide', 'elements', 'of', 'Alpha', 'gathered', 'in', 'Constantine', 'government', 'forces', 'at', 'Serif', 'Amra', 'handed', 'over', 'to', 'Syria', 'held', 'in', 'Bangkok', 'held', 'in', 'Geneva', 'human', 'rights', 'defender', 'Orlando', 'human', 'rights', 'defenders', 'in', 'Nepal', 'human', 'rights', 'in', 'Morocco', 'international', 'community', 'in', 'Nepal', 'lecturer', 'at', 'King', 'Saud', 'locality', 'of', 'Buena', 'Fe', 'mid-June', '2005', 'national', 'secret', 'police', 'in', 'Santo', 'persons', 'in', 'Syria', 'pressing', 'human', 'rights', 'issues', 'in', 'Nepal', 'prison', 'in', 'Tel', 'Aviv', 'question', 'of', 'Lebanese', 'reported', 'cases', 'in', 'Guinea', 'security', 'forces', 'in', 'Khartoum', 'sessions', 'Mr', 'Stephen', 'J', 'Toope', 'Chairman-Rapporteur', 'Mr', 'J', 'significant', 'number', 'of', 'cases', 'concerned', 'Shia', 'Muslims', \"union's\", 'office', 'in', 'Bangkok', 'three', 'uprising', 'by', 'Arab', 'Shia', 'Muslims']\n"
       ]
      },
      {
       "ename": "ValueError",
       "evalue": "too many values to unpack",
       "output_type": "pyerr",
       "traceback": [
        "\u001b[1;31m---------------------------------------------------------------------------\u001b[0m\n\u001b[1;31mValueError\u001b[0m                                Traceback (most recent call last)",
        "\u001b[1;32m<ipython-input-9-d5b6a775fbe3>\u001b[0m in \u001b[0;36m<module>\u001b[1;34m()\u001b[0m\n\u001b[1;32m----> 1\u001b[1;33m \u001b[0mcolloc\u001b[0m \u001b[1;33m=\u001b[0m \u001b[0mmun\u001b[0m\u001b[1;33m.\u001b[0m\u001b[0mget_chunked_collocations\u001b[0m\u001b[1;33m(\u001b[0m\u001b[0mchunks\u001b[0m\u001b[1;33m=\u001b[0m\u001b[0mnchunks\u001b[0m\u001b[1;33m)\u001b[0m\u001b[1;33m\u001b[0m\u001b[0m\n\u001b[0m\u001b[0;32m      2\u001b[0m \u001b[0mHTML\u001b[0m\u001b[1;33m(\u001b[0m\u001b[0mmun\u001b[0m\u001b[1;33m.\u001b[0m\u001b[0mjson2html\u001b[0m\u001b[1;33m(\u001b[0m\u001b[1;33m[\u001b[0m \u001b[1;33m[\u001b[0m \u001b[1;34m\"<->\"\u001b[0m\u001b[1;33m.\u001b[0m\u001b[0mjoin\u001b[0m\u001b[1;33m(\u001b[0m\u001b[0mlist\u001b[0m\u001b[1;33m(\u001b[0m\u001b[0mr\u001b[0m\u001b[1;33m)\u001b[0m\u001b[1;33m)\u001b[0m \u001b[1;32mfor\u001b[0m \u001b[0mr\u001b[0m \u001b[1;32min\u001b[0m \u001b[0mc\u001b[0m\u001b[1;33m]\u001b[0m \u001b[1;32mfor\u001b[0m \u001b[0mc\u001b[0m \u001b[1;32min\u001b[0m \u001b[0mcolloc\u001b[0m\u001b[1;33m]\u001b[0m\u001b[1;33m)\u001b[0m\u001b[1;33m)\u001b[0m\u001b[1;33m\u001b[0m\u001b[0m\n",
        "\u001b[1;32mC:\\Users\\Hassan\\Dropbox\\Berkeley\\iSchool\\CURRENT Courses\\INFO 256 - Applied Natural Language Processing\\Projects\\MultiUN_Map\\modules\\multi_un_module.pyc\u001b[0m in \u001b[0;36mget_chunked_collocations\u001b[1;34m(sentences, tagged_sentences, tagger, chunks, target, chunker, filter_limit, finder_limit)\u001b[0m\n\u001b[0;32m    749\u001b[0m     \u001b[1;31m#after some testing, I found that many collocations are numeric so I am filtering out non alpha words\u001b[0m\u001b[1;33m\u001b[0m\u001b[1;33m\u001b[0m\u001b[0m\n\u001b[0;32m    750\u001b[0m     \u001b[1;31m#This filters out any pairs that don't included the target chunk grammer\u001b[0m\u001b[1;33m\u001b[0m\u001b[1;33m\u001b[0m\u001b[0m\n\u001b[1;32m--> 751\u001b[1;33m     \u001b[0mfinder\u001b[0m\u001b[1;33m.\u001b[0m\u001b[0mapply_ngram_filter\u001b[0m\u001b[1;33m(\u001b[0m\u001b[1;32mlambda\u001b[0m \u001b[1;33m(\u001b[0m\u001b[0mw1\u001b[0m\u001b[1;33m,\u001b[0m \u001b[0mt1\u001b[0m\u001b[1;33m)\u001b[0m\u001b[1;33m,\u001b[0m \u001b[1;33m(\u001b[0m\u001b[0mw2\u001b[0m\u001b[1;33m,\u001b[0m\u001b[0mt2\u001b[0m\u001b[1;33m)\u001b[0m\u001b[1;33m:\u001b[0m \u001b[0mtarget\u001b[0m \u001b[1;32mnot\u001b[0m \u001b[1;32min\u001b[0m \u001b[1;33m(\u001b[0m\u001b[0mt1\u001b[0m\u001b[1;33m,\u001b[0m\u001b[0mt2\u001b[0m\u001b[1;33m)\u001b[0m \u001b[1;32mor\u001b[0m \u001b[1;32mnot\u001b[0m \u001b[0mw1\u001b[0m\u001b[1;33m.\u001b[0m\u001b[0misalpha\u001b[0m\u001b[1;33m(\u001b[0m\u001b[1;33m)\u001b[0m \u001b[1;32mor\u001b[0m \u001b[1;32mnot\u001b[0m \u001b[0mw2\u001b[0m\u001b[1;33m.\u001b[0m\u001b[0misalpha\u001b[0m\u001b[1;33m(\u001b[0m\u001b[1;33m)\u001b[0m\u001b[1;33m)\u001b[0m\u001b[1;33m\u001b[0m\u001b[0m\n\u001b[0m\u001b[0;32m    752\u001b[0m     \u001b[0mfinder3\u001b[0m\u001b[1;33m.\u001b[0m\u001b[0mapply_ngram_filter\u001b[0m\u001b[1;33m(\u001b[0m\u001b[1;32mlambda\u001b[0m \u001b[1;33m(\u001b[0m\u001b[0mw1\u001b[0m\u001b[1;33m,\u001b[0m \u001b[0mt1\u001b[0m\u001b[1;33m)\u001b[0m\u001b[1;33m,\u001b[0m \u001b[1;33m(\u001b[0m\u001b[0mw2\u001b[0m\u001b[1;33m,\u001b[0m\u001b[0mt2\u001b[0m\u001b[1;33m)\u001b[0m\u001b[1;33m,\u001b[0m \u001b[1;33m(\u001b[0m\u001b[0mw3\u001b[0m\u001b[1;33m,\u001b[0m \u001b[0mt3\u001b[0m\u001b[1;33m)\u001b[0m\u001b[1;33m:\u001b[0m                                \u001b[0mtarget\u001b[0m \u001b[1;32mnot\u001b[0m \u001b[1;32min\u001b[0m \u001b[1;33m(\u001b[0m\u001b[0mt1\u001b[0m\u001b[1;33m,\u001b[0m\u001b[0mt2\u001b[0m\u001b[1;33m,\u001b[0m\u001b[0mt3\u001b[0m\u001b[1;33m)\u001b[0m \u001b[1;32mor\u001b[0m \u001b[1;32mnot\u001b[0m \u001b[0mw1\u001b[0m\u001b[1;33m.\u001b[0m\u001b[0misalpha\u001b[0m\u001b[1;33m(\u001b[0m\u001b[1;33m)\u001b[0m \u001b[1;32mor\u001b[0m \u001b[1;32mnot\u001b[0m \u001b[0mw2\u001b[0m\u001b[1;33m.\u001b[0m\u001b[0misalpha\u001b[0m\u001b[1;33m(\u001b[0m\u001b[1;33m)\u001b[0m \u001b[1;32mor\u001b[0m \u001b[1;32mnot\u001b[0m \u001b[0mw3\u001b[0m\u001b[1;33m.\u001b[0m\u001b[0misalpha\u001b[0m\u001b[1;33m(\u001b[0m\u001b[1;33m)\u001b[0m\u001b[1;33m)\u001b[0m\u001b[1;33m\u001b[0m\u001b[0m\n\u001b[0;32m    753\u001b[0m     \u001b[0mfinder\u001b[0m\u001b[1;33m.\u001b[0m\u001b[0mapply_freq_filter\u001b[0m\u001b[1;33m(\u001b[0m\u001b[0mfilter_limit\u001b[0m\u001b[1;33m)\u001b[0m\u001b[1;33m\u001b[0m\u001b[0m\n",
        "\u001b[1;32mc:\\Python27\\Scripts\\VENV\\nlp\\lib\\site-packages\\nltk\\collocations.pyc\u001b[0m in \u001b[0;36mapply_ngram_filter\u001b[1;34m(self, fn)\u001b[0m\n\u001b[0;32m     84\u001b[0m         \u001b[0mevaluates\u001b[0m \u001b[0mto\u001b[0m \u001b[0mTrue\u001b[0m\u001b[1;33m.\u001b[0m\u001b[1;33m\u001b[0m\u001b[0m\n\u001b[0;32m     85\u001b[0m         \"\"\"\n\u001b[1;32m---> 86\u001b[1;33m         \u001b[0mself\u001b[0m\u001b[1;33m.\u001b[0m\u001b[0m_apply_filter\u001b[0m\u001b[1;33m(\u001b[0m\u001b[1;32mlambda\u001b[0m \u001b[0mng\u001b[0m\u001b[1;33m,\u001b[0m \u001b[0mf\u001b[0m\u001b[1;33m:\u001b[0m \u001b[0mfn\u001b[0m\u001b[1;33m(\u001b[0m\u001b[1;33m*\u001b[0m\u001b[0mng\u001b[0m\u001b[1;33m)\u001b[0m\u001b[1;33m)\u001b[0m\u001b[1;33m\u001b[0m\u001b[0m\n\u001b[0m\u001b[0;32m     87\u001b[0m \u001b[1;33m\u001b[0m\u001b[0m\n\u001b[0;32m     88\u001b[0m     \u001b[1;32mdef\u001b[0m \u001b[0mapply_word_filter\u001b[0m\u001b[1;33m(\u001b[0m\u001b[0mself\u001b[0m\u001b[1;33m,\u001b[0m \u001b[0mfn\u001b[0m\u001b[1;33m)\u001b[0m\u001b[1;33m:\u001b[0m\u001b[1;33m\u001b[0m\u001b[0m\n",
        "\u001b[1;32mc:\\Python27\\Scripts\\VENV\\nlp\\lib\\site-packages\\nltk\\collocations.pyc\u001b[0m in \u001b[0;36m_apply_filter\u001b[1;34m(self, fn)\u001b[0m\n\u001b[0;32m     70\u001b[0m         \"\"\"\n\u001b[0;32m     71\u001b[0m         \u001b[1;32mfor\u001b[0m \u001b[0mngram\u001b[0m\u001b[1;33m,\u001b[0m \u001b[0mfreq\u001b[0m \u001b[1;32min\u001b[0m \u001b[0mself\u001b[0m\u001b[1;33m.\u001b[0m\u001b[0mngram_fd\u001b[0m\u001b[1;33m.\u001b[0m\u001b[0mitems\u001b[0m\u001b[1;33m(\u001b[0m\u001b[1;33m)\u001b[0m\u001b[1;33m:\u001b[0m\u001b[1;33m\u001b[0m\u001b[0m\n\u001b[1;32m---> 72\u001b[1;33m             \u001b[1;32mif\u001b[0m \u001b[0mfn\u001b[0m\u001b[1;33m(\u001b[0m\u001b[0mngram\u001b[0m\u001b[1;33m,\u001b[0m \u001b[0mfreq\u001b[0m\u001b[1;33m)\u001b[0m\u001b[1;33m:\u001b[0m\u001b[1;33m\u001b[0m\u001b[0m\n\u001b[0m\u001b[0;32m     73\u001b[0m                 \u001b[1;32mtry\u001b[0m\u001b[1;33m:\u001b[0m\u001b[1;33m\u001b[0m\u001b[0m\n\u001b[0;32m     74\u001b[0m                     \u001b[1;32mdel\u001b[0m \u001b[0mself\u001b[0m\u001b[1;33m.\u001b[0m\u001b[0mngram_fd\u001b[0m\u001b[1;33m[\u001b[0m\u001b[0mngram\u001b[0m\u001b[1;33m]\u001b[0m\u001b[1;33m\u001b[0m\u001b[0m\n",
        "\u001b[1;32mc:\\Python27\\Scripts\\VENV\\nlp\\lib\\site-packages\\nltk\\collocations.pyc\u001b[0m in \u001b[0;36m<lambda>\u001b[1;34m(ng, f)\u001b[0m\n\u001b[0;32m     84\u001b[0m         \u001b[0mevaluates\u001b[0m \u001b[0mto\u001b[0m \u001b[0mTrue\u001b[0m\u001b[1;33m.\u001b[0m\u001b[1;33m\u001b[0m\u001b[0m\n\u001b[0;32m     85\u001b[0m         \"\"\"\n\u001b[1;32m---> 86\u001b[1;33m         \u001b[0mself\u001b[0m\u001b[1;33m.\u001b[0m\u001b[0m_apply_filter\u001b[0m\u001b[1;33m(\u001b[0m\u001b[1;32mlambda\u001b[0m \u001b[0mng\u001b[0m\u001b[1;33m,\u001b[0m \u001b[0mf\u001b[0m\u001b[1;33m:\u001b[0m \u001b[0mfn\u001b[0m\u001b[1;33m(\u001b[0m\u001b[1;33m*\u001b[0m\u001b[0mng\u001b[0m\u001b[1;33m)\u001b[0m\u001b[1;33m)\u001b[0m\u001b[1;33m\u001b[0m\u001b[0m\n\u001b[0m\u001b[0;32m     87\u001b[0m \u001b[1;33m\u001b[0m\u001b[0m\n\u001b[0;32m     88\u001b[0m     \u001b[1;32mdef\u001b[0m \u001b[0mapply_word_filter\u001b[0m\u001b[1;33m(\u001b[0m\u001b[0mself\u001b[0m\u001b[1;33m,\u001b[0m \u001b[0mfn\u001b[0m\u001b[1;33m)\u001b[0m\u001b[1;33m:\u001b[0m\u001b[1;33m\u001b[0m\u001b[0m\n",
        "\u001b[1;32mC:\\Users\\Hassan\\Dropbox\\Berkeley\\iSchool\\CURRENT Courses\\INFO 256 - Applied Natural Language Processing\\Projects\\MultiUN_Map\\modules\\multi_un_module.pyc\u001b[0m in \u001b[0;36m<lambda>\u001b[1;34m(***failed resolving arguments***)\u001b[0m\n\u001b[0;32m    749\u001b[0m     \u001b[1;31m#after some testing, I found that many collocations are numeric so I am filtering out non alpha words\u001b[0m\u001b[1;33m\u001b[0m\u001b[1;33m\u001b[0m\u001b[0m\n\u001b[0;32m    750\u001b[0m     \u001b[1;31m#This filters out any pairs that don't included the target chunk grammer\u001b[0m\u001b[1;33m\u001b[0m\u001b[1;33m\u001b[0m\u001b[0m\n\u001b[1;32m--> 751\u001b[1;33m     \u001b[0mfinder\u001b[0m\u001b[1;33m.\u001b[0m\u001b[0mapply_ngram_filter\u001b[0m\u001b[1;33m(\u001b[0m\u001b[1;32mlambda\u001b[0m \u001b[1;33m(\u001b[0m\u001b[0mw1\u001b[0m\u001b[1;33m,\u001b[0m \u001b[0mt1\u001b[0m\u001b[1;33m)\u001b[0m\u001b[1;33m,\u001b[0m \u001b[1;33m(\u001b[0m\u001b[0mw2\u001b[0m\u001b[1;33m,\u001b[0m\u001b[0mt2\u001b[0m\u001b[1;33m)\u001b[0m\u001b[1;33m:\u001b[0m \u001b[0mtarget\u001b[0m \u001b[1;32mnot\u001b[0m \u001b[1;32min\u001b[0m \u001b[1;33m(\u001b[0m\u001b[0mt1\u001b[0m\u001b[1;33m,\u001b[0m\u001b[0mt2\u001b[0m\u001b[1;33m)\u001b[0m \u001b[1;32mor\u001b[0m \u001b[1;32mnot\u001b[0m \u001b[0mw1\u001b[0m\u001b[1;33m.\u001b[0m\u001b[0misalpha\u001b[0m\u001b[1;33m(\u001b[0m\u001b[1;33m)\u001b[0m \u001b[1;32mor\u001b[0m \u001b[1;32mnot\u001b[0m \u001b[0mw2\u001b[0m\u001b[1;33m.\u001b[0m\u001b[0misalpha\u001b[0m\u001b[1;33m(\u001b[0m\u001b[1;33m)\u001b[0m\u001b[1;33m)\u001b[0m\u001b[1;33m\u001b[0m\u001b[0m\n\u001b[0m\u001b[0;32m    752\u001b[0m     \u001b[0mfinder3\u001b[0m\u001b[1;33m.\u001b[0m\u001b[0mapply_ngram_filter\u001b[0m\u001b[1;33m(\u001b[0m\u001b[1;32mlambda\u001b[0m \u001b[1;33m(\u001b[0m\u001b[0mw1\u001b[0m\u001b[1;33m,\u001b[0m \u001b[0mt1\u001b[0m\u001b[1;33m)\u001b[0m\u001b[1;33m,\u001b[0m \u001b[1;33m(\u001b[0m\u001b[0mw2\u001b[0m\u001b[1;33m,\u001b[0m\u001b[0mt2\u001b[0m\u001b[1;33m)\u001b[0m\u001b[1;33m,\u001b[0m \u001b[1;33m(\u001b[0m\u001b[0mw3\u001b[0m\u001b[1;33m,\u001b[0m \u001b[0mt3\u001b[0m\u001b[1;33m)\u001b[0m\u001b[1;33m:\u001b[0m                                \u001b[0mtarget\u001b[0m \u001b[1;32mnot\u001b[0m \u001b[1;32min\u001b[0m \u001b[1;33m(\u001b[0m\u001b[0mt1\u001b[0m\u001b[1;33m,\u001b[0m\u001b[0mt2\u001b[0m\u001b[1;33m,\u001b[0m\u001b[0mt3\u001b[0m\u001b[1;33m)\u001b[0m \u001b[1;32mor\u001b[0m \u001b[1;32mnot\u001b[0m \u001b[0mw1\u001b[0m\u001b[1;33m.\u001b[0m\u001b[0misalpha\u001b[0m\u001b[1;33m(\u001b[0m\u001b[1;33m)\u001b[0m \u001b[1;32mor\u001b[0m \u001b[1;32mnot\u001b[0m \u001b[0mw2\u001b[0m\u001b[1;33m.\u001b[0m\u001b[0misalpha\u001b[0m\u001b[1;33m(\u001b[0m\u001b[1;33m)\u001b[0m \u001b[1;32mor\u001b[0m \u001b[1;32mnot\u001b[0m \u001b[0mw3\u001b[0m\u001b[1;33m.\u001b[0m\u001b[0misalpha\u001b[0m\u001b[1;33m(\u001b[0m\u001b[1;33m)\u001b[0m\u001b[1;33m)\u001b[0m\u001b[1;33m\u001b[0m\u001b[0m\n\u001b[0;32m    753\u001b[0m     \u001b[0mfinder\u001b[0m\u001b[1;33m.\u001b[0m\u001b[0mapply_freq_filter\u001b[0m\u001b[1;33m(\u001b[0m\u001b[0mfilter_limit\u001b[0m\u001b[1;33m)\u001b[0m\u001b[1;33m\u001b[0m\u001b[0m\n",
        "\u001b[1;31mValueError\u001b[0m: too many values to unpack"
       ]
      }
     ],
     "prompt_number": 9
    },
    {
     "cell_type": "code",
     "collapsed": false,
     "input": [],
     "language": "python",
     "metadata": {},
     "outputs": []
    },
    {
     "cell_type": "code",
     "collapsed": false,
     "input": [
      "summary = mun.get_document_summary(doc)\n",
      "HTML(mun.json2html(list(summary)))"
     ],
     "language": "python",
     "metadata": {},
     "outputs": []
    },
    {
     "cell_type": "code",
     "collapsed": false,
     "input": [
      "sumy = mun.sumy_paragraphs(paragraphs, sentence_count=5)\n",
      "HTML(mun.json2html(sumy))"
     ],
     "language": "python",
     "metadata": {},
     "outputs": []
    },
    {
     "cell_type": "code",
     "collapsed": false,
     "input": [
      "HTML(mun.get_doc_html(doc))"
     ],
     "language": "python",
     "metadata": {},
     "outputs": []
    }
   ],
   "metadata": {}
  }
 ]
}