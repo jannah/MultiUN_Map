{
 "metadata": {
  "name": "",
  "signature": "sha256:7037f5f9cab52174f66456365c517687197e84c5f90110567d4178bcddf4f17b"
 },
 "nbformat": 3,
 "nbformat_minor": 0,
 "worksheets": [
  {
   "cells": [
    {
     "cell_type": "heading",
     "level": 1,
     "metadata": {},
     "source": [
      "Search for a Specific Document in the Corpus"
     ]
    },
    {
     "cell_type": "markdown",
     "metadata": {},
     "source": [
      "A simple utility to search for a document using its' attributes"
     ]
    },
    {
     "cell_type": "code",
     "collapsed": false,
     "input": [
      "MODULES_PATH = '''../modules/multi_un_module.py'''\n",
      "import imp\n",
      "NF = imp.load_source('multi_un_module', MODULES_PATH)\n",
      "import multi_un_module as mun\n",
      "from IPython.display import HTML\n",
      "tagger = mun.get_brown_tagger(include_location_tagger=True)\n",
      "chunker = mun.get_chunker(tag_set='brown', target='PNS')"
     ],
     "language": "python",
     "metadata": {},
     "outputs": [],
     "prompt_number": 1
    },
    {
     "cell_type": "markdown",
     "metadata": {},
     "source": [
      "serach for documents"
     ]
    },
    {
     "cell_type": "code",
     "collapsed": false,
     "input": [
      "n = raw_input('Enter a document attribute:\\n')\n",
      "items = mun.get_documents(n, limit = 5, include_content=True)\n",
      "print len(items), ' result%s'%('s' if len(items)>1 else '')\n",
      "h = HTML(mun.json2html(items));h"
     ],
     "language": "python",
     "metadata": {},
     "outputs": []
    },
    {
     "cell_type": "code",
     "collapsed": false,
     "input": [
      "# print items"
     ],
     "language": "python",
     "metadata": {},
     "outputs": [],
     "prompt_number": 3
    },
    {
     "cell_type": "code",
     "collapsed": false,
     "input": [],
     "language": "python",
     "metadata": {},
     "outputs": [],
     "prompt_number": 3
    },
    {
     "cell_type": "code",
     "collapsed": false,
     "input": [
      "sentences = mun.extract_sentences(items)\n",
      "mun.print_sentence_statistics(sentences)\n",
      "sent_tokens = mun.tokenize_sentence_text(sentences, use_pattern=2)\n",
      "flat_tokens = [token for s in sent_tokens for token in s]\n",
      "tagged_sentences = mun.tag_pos_sentences(sent_tokens, tagger=tagger)"
     ],
     "language": "python",
     "metadata": {},
     "outputs": [
      {
       "output_type": "stream",
       "stream": "stdout",
       "text": [
        "flattening\n",
        "Info type                        Value            \n",
        "----------------------------------------\n",
        "number of sentences              21              \n",
        "average sentence length(words)   25.43           \n",
        "average sentence length(letters) 169.81          \n",
        "longest sentence (words)         59              \n",
        "longest sentence (letters)       404             \n"
       ]
      },
      {
       "javascript": [
        "//53800964-8c99-474f-a5a2-3c881cbd52f4\n",
        "$(\"head\").append(\"<style> td.pb_widget {     width: auto; } td.pb_widget_fill {     width: 100%; } table.pb {     font-family: monospace;     border: 0;     margin: 0; } table.pb tr { border: 0; } table.pb td {     white-space: nowrap;     border: 0; } div.pb {     border: 1px solid #ddd;     border-radius: 3px; } div.pb_bar {     height: 1.5em; } </style>\")"
       ],
       "metadata": {},
       "output_type": "display_data",
       "text": [
        "<IPython.core.display.Javascript at 0x34feda0>"
       ]
      },
      {
       "javascript": [
        "\n",
        "                  // 53800964-8c99-474f-a5a2-3c881cbd52f4 -- used to remove this code blob in the end\n",
        "                  IPython.OutputArea.prototype.cleanProgressBar = function(uuids) {\n",
        "                      // filter by uuid-strings \n",
        "                      var myfilter = function(output) { \n",
        "                          var nuids = uuids.length;\n",
        "                          for (var i=0; i<nuids; i++) {\n",
        "                              if (output.hasOwnProperty('html')) {\n",
        "                                  if (output.html.indexOf(uuids[i]) != -1) {\n",
        "                                      return false;\n",
        "                                  }\n",
        "                              }\n",
        "                              if (output.hasOwnProperty('javascript')) {\n",
        "                                  if (output.javascript.indexOf(uuids[i]) != -1) {\n",
        "                                      return false;\n",
        "                                  }\n",
        "                              }\n",
        "                          }\n",
        "                          // keep all others\n",
        "                          return true;\n",
        "                      };\n",
        "\n",
        "                      // Filter the ouputs\n",
        "                      this.outputs = this.outputs.filter(myfilter);\n",
        "                };\n",
        "                "
       ],
       "metadata": {},
       "output_type": "display_data",
       "text": [
        "<IPython.core.display.Javascript at 0x1f6f1d68>"
       ]
      },
      {
       "html": [
        "<div class=\"pb\" id=\"53800964-8c99-474f-a5a2-3c881cbd52f4\"><table class=\"pb ui-widget\"><tr>\n",
        "<td class=\"pb_widget\">Tokenizing sentences</td>\n",
        "<td class=\"pb_widget\"><div id=\"7a97bf54-50bb-4a19-8d05-775a6161a465\">0 of 21</div></td>\n",
        "<td class=\"pb_widget\"><div id=\"08648725-45f7-4543-a6a5-c7508f9dae1c\">  0%</div></td>\n",
        "<td class=\"pb_widget_fill\">\n",
        "        <div class=\"pb_bar\" id=\"4d73b5e2-fe18-4617-a108-595745d196cd\"></div>\n",
        "        <script type=\"text/javascript\">\n",
        "            $(\"div#4d73b5e2-fe18-4617-a108-595745d196cd\").progressbar({value: 0, max: 21});\n",
        "        </script>\n",
        "        </td>\n",
        "<td class=\"pb_widget\"><div id=\"e7049874-76c0-4b7b-a7ba-579c007da8b8\">ETA:  --:--:--</div></td>\n",
        "</tr></table><div>"
       ],
       "metadata": {},
       "output_type": "display_data",
       "text": [
        "<IPython.core.display.HTML at 0x1f6f1550>"
       ]
      },
      {
       "javascript": [
        "$('div#7a97bf54-50bb-4a19-8d05-775a6161a465').text('1 of 21');"
       ],
       "metadata": {},
       "output_type": "display_data",
       "text": [
        "<IPython.core.display.Javascript at 0x34fe4e0>"
       ]
      },
      {
       "javascript": [
        "$('div#08648725-45f7-4543-a6a5-c7508f9dae1c').text('  4%');"
       ],
       "metadata": {},
       "output_type": "display_data",
       "text": [
        "<IPython.core.display.Javascript at 0x34fea20>"
       ]
      },
      {
       "javascript": [
        "\n",
        "        var $myPB = $(\"div#4d73b5e2-fe18-4617-a108-595745d196cd\")\n",
        "        if ($myPB.hasClass('ui-progressbar')) {\n",
        "            $myPB.progressbar('value', 1);\n",
        "        } else {\n",
        "            $myPB.progressbar({value: 0, max: 21});\n",
        "        }\n",
        "        "
       ],
       "metadata": {},
       "output_type": "display_data",
       "text": [
        "<IPython.core.display.Javascript at 0x34fe668>"
       ]
      },
      {
       "javascript": [
        "$('div#e7049874-76c0-4b7b-a7ba-579c007da8b8').text('ETA:  0:00:00');"
       ],
       "metadata": {},
       "output_type": "display_data",
       "text": [
        "<IPython.core.display.Javascript at 0x34feda0>"
       ]
      },
      {
       "javascript": [
        "$('div#7a97bf54-50bb-4a19-8d05-775a6161a465').text('2 of 21');"
       ],
       "metadata": {},
       "output_type": "display_data",
       "text": [
        "<IPython.core.display.Javascript at 0x34feda0>"
       ]
      },
      {
       "javascript": [
        "$('div#08648725-45f7-4543-a6a5-c7508f9dae1c').text('  9%');"
       ],
       "metadata": {},
       "output_type": "display_data",
       "text": [
        "<IPython.core.display.Javascript at 0x34fe320>"
       ]
      },
      {
       "javascript": [
        "\n",
        "        var $myPB = $(\"div#4d73b5e2-fe18-4617-a108-595745d196cd\")\n",
        "        if ($myPB.hasClass('ui-progressbar')) {\n",
        "            $myPB.progressbar('value', 2);\n",
        "        } else {\n",
        "            $myPB.progressbar({value: 0, max: 21});\n",
        "        }\n",
        "        "
       ],
       "metadata": {},
       "output_type": "display_data",
       "text": [
        "<IPython.core.display.Javascript at 0x34fe668>"
       ]
      },
      {
       "javascript": [
        "$('div#e7049874-76c0-4b7b-a7ba-579c007da8b8').text('ETA:  0:00:00');"
       ],
       "metadata": {},
       "output_type": "display_data",
       "text": [
        "<IPython.core.display.Javascript at 0x34fe630>"
       ]
      },
      {
       "javascript": [
        "$('div#7a97bf54-50bb-4a19-8d05-775a6161a465').text('3 of 21');"
       ],
       "metadata": {},
       "output_type": "display_data",
       "text": [
        "<IPython.core.display.Javascript at 0x34fe630>"
       ]
      },
      {
       "javascript": [
        "$('div#08648725-45f7-4543-a6a5-c7508f9dae1c').text(' 14%');"
       ],
       "metadata": {},
       "output_type": "display_data",
       "text": [
        "<IPython.core.display.Javascript at 0x34fe4e0>"
       ]
      },
      {
       "javascript": [
        "\n",
        "        var $myPB = $(\"div#4d73b5e2-fe18-4617-a108-595745d196cd\")\n",
        "        if ($myPB.hasClass('ui-progressbar')) {\n",
        "            $myPB.progressbar('value', 3);\n",
        "        } else {\n",
        "            $myPB.progressbar({value: 0, max: 21});\n",
        "        }\n",
        "        "
       ],
       "metadata": {},
       "output_type": "display_data",
       "text": [
        "<IPython.core.display.Javascript at 0x34fe320>"
       ]
      },
      {
       "javascript": [
        "$('div#e7049874-76c0-4b7b-a7ba-579c007da8b8').text('ETA:  0:00:00');"
       ],
       "metadata": {},
       "output_type": "display_data",
       "text": [
        "<IPython.core.display.Javascript at 0x34fef28>"
       ]
      },
      {
       "javascript": [
        "$('div#7a97bf54-50bb-4a19-8d05-775a6161a465').text('4 of 21');"
       ],
       "metadata": {},
       "output_type": "display_data",
       "text": [
        "<IPython.core.display.Javascript at 0x34fef28>"
       ]
      },
      {
       "javascript": [
        "$('div#08648725-45f7-4543-a6a5-c7508f9dae1c').text(' 19%');"
       ],
       "metadata": {},
       "output_type": "display_data",
       "text": [
        "<IPython.core.display.Javascript at 0x34fea20>"
       ]
      },
      {
       "javascript": [
        "\n",
        "        var $myPB = $(\"div#4d73b5e2-fe18-4617-a108-595745d196cd\")\n",
        "        if ($myPB.hasClass('ui-progressbar')) {\n",
        "            $myPB.progressbar('value', 4);\n",
        "        } else {\n",
        "            $myPB.progressbar({value: 0, max: 21});\n",
        "        }\n",
        "        "
       ],
       "metadata": {},
       "output_type": "display_data",
       "text": [
        "<IPython.core.display.Javascript at 0x34fe320>"
       ]
      },
      {
       "javascript": [
        "$('div#e7049874-76c0-4b7b-a7ba-579c007da8b8').text('ETA:  0:00:00');"
       ],
       "metadata": {},
       "output_type": "display_data",
       "text": [
        "<IPython.core.display.Javascript at 0x34feda0>"
       ]
      },
      {
       "javascript": [
        "$('div#7a97bf54-50bb-4a19-8d05-775a6161a465').text('5 of 21');"
       ],
       "metadata": {},
       "output_type": "display_data",
       "text": [
        "<IPython.core.display.Javascript at 0x34feda0>"
       ]
      },
      {
       "javascript": [
        "$('div#08648725-45f7-4543-a6a5-c7508f9dae1c').text(' 23%');"
       ],
       "metadata": {},
       "output_type": "display_data",
       "text": [
        "<IPython.core.display.Javascript at 0x34fe630>"
       ]
      },
      {
       "javascript": [
        "\n",
        "        var $myPB = $(\"div#4d73b5e2-fe18-4617-a108-595745d196cd\")\n",
        "        if ($myPB.hasClass('ui-progressbar')) {\n",
        "            $myPB.progressbar('value', 5);\n",
        "        } else {\n",
        "            $myPB.progressbar({value: 0, max: 21});\n",
        "        }\n",
        "        "
       ],
       "metadata": {},
       "output_type": "display_data",
       "text": [
        "<IPython.core.display.Javascript at 0x34fe320>"
       ]
      },
      {
       "javascript": [
        "$('div#e7049874-76c0-4b7b-a7ba-579c007da8b8').text('ETA:  0:00:00');"
       ],
       "metadata": {},
       "output_type": "display_data",
       "text": [
        "<IPython.core.display.Javascript at 0x34fe4e0>"
       ]
      },
      {
       "javascript": [
        "$('div#7a97bf54-50bb-4a19-8d05-775a6161a465').text('6 of 21');"
       ],
       "metadata": {},
       "output_type": "display_data",
       "text": [
        "<IPython.core.display.Javascript at 0x34fef28>"
       ]
      },
      {
       "javascript": [
        "$('div#08648725-45f7-4543-a6a5-c7508f9dae1c').text(' 28%');"
       ],
       "metadata": {},
       "output_type": "display_data",
       "text": [
        "<IPython.core.display.Javascript at 0x34fea20>"
       ]
      },
      {
       "javascript": [
        "\n",
        "        var $myPB = $(\"div#4d73b5e2-fe18-4617-a108-595745d196cd\")\n",
        "        if ($myPB.hasClass('ui-progressbar')) {\n",
        "            $myPB.progressbar('value', 6);\n",
        "        } else {\n",
        "            $myPB.progressbar({value: 0, max: 21});\n",
        "        }\n",
        "        "
       ],
       "metadata": {},
       "output_type": "display_data",
       "text": [
        "<IPython.core.display.Javascript at 0x34fe630>"
       ]
      },
      {
       "javascript": [
        "$('div#e7049874-76c0-4b7b-a7ba-579c007da8b8').text('ETA:  0:00:00');"
       ],
       "metadata": {},
       "output_type": "display_data",
       "text": [
        "<IPython.core.display.Javascript at 0x34fe4e0>"
       ]
      },
      {
       "javascript": [
        "$('div#7a97bf54-50bb-4a19-8d05-775a6161a465').text('7 of 21');"
       ],
       "metadata": {},
       "output_type": "display_data",
       "text": [
        "<IPython.core.display.Javascript at 0x34fe320>"
       ]
      },
      {
       "javascript": [
        "$('div#08648725-45f7-4543-a6a5-c7508f9dae1c').text(' 33%');"
       ],
       "metadata": {},
       "output_type": "display_data",
       "text": [
        "<IPython.core.display.Javascript at 0x34fe320>"
       ]
      },
      {
       "javascript": [
        "\n",
        "        var $myPB = $(\"div#4d73b5e2-fe18-4617-a108-595745d196cd\")\n",
        "        if ($myPB.hasClass('ui-progressbar')) {\n",
        "            $myPB.progressbar('value', 7);\n",
        "        } else {\n",
        "            $myPB.progressbar({value: 0, max: 21});\n",
        "        }\n",
        "        "
       ],
       "metadata": {},
       "output_type": "display_data",
       "text": [
        "<IPython.core.display.Javascript at 0x34feda0>"
       ]
      },
      {
       "javascript": [
        "$('div#e7049874-76c0-4b7b-a7ba-579c007da8b8').text('ETA:  0:00:00');"
       ],
       "metadata": {},
       "output_type": "display_data",
       "text": [
        "<IPython.core.display.Javascript at 0x34fea20>"
       ]
      },
      {
       "javascript": [
        "$('div#7a97bf54-50bb-4a19-8d05-775a6161a465').text('8 of 21');"
       ],
       "metadata": {},
       "output_type": "display_data",
       "text": [
        "<IPython.core.display.Javascript at 0x34fe630>"
       ]
      },
      {
       "javascript": [
        "$('div#08648725-45f7-4543-a6a5-c7508f9dae1c').text(' 38%');"
       ],
       "metadata": {},
       "output_type": "display_data",
       "text": [
        "<IPython.core.display.Javascript at 0x34fe630>"
       ]
      },
      {
       "javascript": [
        "\n",
        "        var $myPB = $(\"div#4d73b5e2-fe18-4617-a108-595745d196cd\")\n",
        "        if ($myPB.hasClass('ui-progressbar')) {\n",
        "            $myPB.progressbar('value', 8);\n",
        "        } else {\n",
        "            $myPB.progressbar({value: 0, max: 21});\n",
        "        }\n",
        "        "
       ],
       "metadata": {},
       "output_type": "display_data",
       "text": [
        "<IPython.core.display.Javascript at 0x34fe4e0>"
       ]
      },
      {
       "javascript": [
        "$('div#e7049874-76c0-4b7b-a7ba-579c007da8b8').text('ETA:  0:00:00');"
       ],
       "metadata": {},
       "output_type": "display_data",
       "text": [
        "<IPython.core.display.Javascript at 0x34fe320>"
       ]
      },
      {
       "javascript": [
        "$('div#7a97bf54-50bb-4a19-8d05-775a6161a465').text('9 of 21');"
       ],
       "metadata": {},
       "output_type": "display_data",
       "text": [
        "<IPython.core.display.Javascript at 0x34feda0>"
       ]
      },
      {
       "javascript": [
        "$('div#08648725-45f7-4543-a6a5-c7508f9dae1c').text(' 42%');"
       ],
       "metadata": {},
       "output_type": "display_data",
       "text": [
        "<IPython.core.display.Javascript at 0x34feda0>"
       ]
      },
      {
       "javascript": [
        "\n",
        "        var $myPB = $(\"div#4d73b5e2-fe18-4617-a108-595745d196cd\")\n",
        "        if ($myPB.hasClass('ui-progressbar')) {\n",
        "            $myPB.progressbar('value', 9);\n",
        "        } else {\n",
        "            $myPB.progressbar({value: 0, max: 21});\n",
        "        }\n",
        "        "
       ],
       "metadata": {},
       "output_type": "display_data",
       "text": [
        "<IPython.core.display.Javascript at 0x34fea20>"
       ]
      },
      {
       "javascript": [
        "$('div#e7049874-76c0-4b7b-a7ba-579c007da8b8').text('ETA:  0:00:00');"
       ],
       "metadata": {},
       "output_type": "display_data",
       "text": [
        "<IPython.core.display.Javascript at 0x34fe630>"
       ]
      },
      {
       "javascript": [
        "$('div#7a97bf54-50bb-4a19-8d05-775a6161a465').text('10 of 21');"
       ],
       "metadata": {},
       "output_type": "display_data",
       "text": [
        "<IPython.core.display.Javascript at 0x34fe4e0>"
       ]
      },
      {
       "javascript": [
        "$('div#08648725-45f7-4543-a6a5-c7508f9dae1c').text(' 47%');"
       ],
       "metadata": {},
       "output_type": "display_data",
       "text": [
        "<IPython.core.display.Javascript at 0x34fe4e0>"
       ]
      },
      {
       "javascript": [
        "\n",
        "        var $myPB = $(\"div#4d73b5e2-fe18-4617-a108-595745d196cd\")\n",
        "        if ($myPB.hasClass('ui-progressbar')) {\n",
        "            $myPB.progressbar('value', 10);\n",
        "        } else {\n",
        "            $myPB.progressbar({value: 0, max: 21});\n",
        "        }\n",
        "        "
       ],
       "metadata": {},
       "output_type": "display_data",
       "text": [
        "<IPython.core.display.Javascript at 0x34fe320>"
       ]
      },
      {
       "javascript": [
        "$('div#e7049874-76c0-4b7b-a7ba-579c007da8b8').text('ETA:  0:00:00');"
       ],
       "metadata": {},
       "output_type": "display_data",
       "text": [
        "<IPython.core.display.Javascript at 0x34feda0>"
       ]
      },
      {
       "javascript": [
        "$('div#7a97bf54-50bb-4a19-8d05-775a6161a465').text('11 of 21');"
       ],
       "metadata": {},
       "output_type": "display_data",
       "text": [
        "<IPython.core.display.Javascript at 0x34fea20>"
       ]
      },
      {
       "javascript": [
        "$('div#08648725-45f7-4543-a6a5-c7508f9dae1c').text(' 52%');"
       ],
       "metadata": {},
       "output_type": "display_data",
       "text": [
        "<IPython.core.display.Javascript at 0x34fea20>"
       ]
      },
      {
       "javascript": [
        "\n",
        "        var $myPB = $(\"div#4d73b5e2-fe18-4617-a108-595745d196cd\")\n",
        "        if ($myPB.hasClass('ui-progressbar')) {\n",
        "            $myPB.progressbar('value', 11);\n",
        "        } else {\n",
        "            $myPB.progressbar({value: 0, max: 21});\n",
        "        }\n",
        "        "
       ],
       "metadata": {},
       "output_type": "display_data",
       "text": [
        "<IPython.core.display.Javascript at 0x34fe630>"
       ]
      },
      {
       "javascript": [
        "$('div#e7049874-76c0-4b7b-a7ba-579c007da8b8').text('ETA:  0:00:00');"
       ],
       "metadata": {},
       "output_type": "display_data",
       "text": [
        "<IPython.core.display.Javascript at 0x34fe4e0>"
       ]
      },
      {
       "javascript": [
        "$('div#7a97bf54-50bb-4a19-8d05-775a6161a465').text('12 of 21');"
       ],
       "metadata": {},
       "output_type": "display_data",
       "text": [
        "<IPython.core.display.Javascript at 0x34fe320>"
       ]
      },
      {
       "javascript": [
        "$('div#08648725-45f7-4543-a6a5-c7508f9dae1c').text(' 57%');"
       ],
       "metadata": {},
       "output_type": "display_data",
       "text": [
        "<IPython.core.display.Javascript at 0x34fe320>"
       ]
      },
      {
       "javascript": [
        "\n",
        "        var $myPB = $(\"div#4d73b5e2-fe18-4617-a108-595745d196cd\")\n",
        "        if ($myPB.hasClass('ui-progressbar')) {\n",
        "            $myPB.progressbar('value', 12);\n",
        "        } else {\n",
        "            $myPB.progressbar({value: 0, max: 21});\n",
        "        }\n",
        "        "
       ],
       "metadata": {},
       "output_type": "display_data",
       "text": [
        "<IPython.core.display.Javascript at 0x34feda0>"
       ]
      },
      {
       "javascript": [
        "$('div#e7049874-76c0-4b7b-a7ba-579c007da8b8').text('ETA:  0:00:00');"
       ],
       "metadata": {},
       "output_type": "display_data",
       "text": [
        "<IPython.core.display.Javascript at 0x34fea20>"
       ]
      },
      {
       "javascript": [
        "$('div#7a97bf54-50bb-4a19-8d05-775a6161a465').text('13 of 21');"
       ],
       "metadata": {},
       "output_type": "display_data",
       "text": [
        "<IPython.core.display.Javascript at 0x34fe630>"
       ]
      },
      {
       "javascript": [
        "$('div#08648725-45f7-4543-a6a5-c7508f9dae1c').text(' 61%');"
       ],
       "metadata": {},
       "output_type": "display_data",
       "text": [
        "<IPython.core.display.Javascript at 0x34fe630>"
       ]
      },
      {
       "javascript": [
        "\n",
        "        var $myPB = $(\"div#4d73b5e2-fe18-4617-a108-595745d196cd\")\n",
        "        if ($myPB.hasClass('ui-progressbar')) {\n",
        "            $myPB.progressbar('value', 13);\n",
        "        } else {\n",
        "            $myPB.progressbar({value: 0, max: 21});\n",
        "        }\n",
        "        "
       ],
       "metadata": {},
       "output_type": "display_data",
       "text": [
        "<IPython.core.display.Javascript at 0x34fe4e0>"
       ]
      },
      {
       "javascript": [
        "$('div#e7049874-76c0-4b7b-a7ba-579c007da8b8').text('ETA:  0:00:00');"
       ],
       "metadata": {},
       "output_type": "display_data",
       "text": [
        "<IPython.core.display.Javascript at 0x34fe320>"
       ]
      },
      {
       "javascript": [
        "$('div#7a97bf54-50bb-4a19-8d05-775a6161a465').text('14 of 21');"
       ],
       "metadata": {},
       "output_type": "display_data",
       "text": [
        "<IPython.core.display.Javascript at 0x34feda0>"
       ]
      },
      {
       "javascript": [
        "$('div#08648725-45f7-4543-a6a5-c7508f9dae1c').text(' 66%');"
       ],
       "metadata": {},
       "output_type": "display_data",
       "text": [
        "<IPython.core.display.Javascript at 0x34feda0>"
       ]
      },
      {
       "javascript": [
        "\n",
        "        var $myPB = $(\"div#4d73b5e2-fe18-4617-a108-595745d196cd\")\n",
        "        if ($myPB.hasClass('ui-progressbar')) {\n",
        "            $myPB.progressbar('value', 14);\n",
        "        } else {\n",
        "            $myPB.progressbar({value: 0, max: 21});\n",
        "        }\n",
        "        "
       ],
       "metadata": {},
       "output_type": "display_data",
       "text": [
        "<IPython.core.display.Javascript at 0x34fea20>"
       ]
      },
      {
       "javascript": [
        "$('div#e7049874-76c0-4b7b-a7ba-579c007da8b8').text('ETA:  0:00:00');"
       ],
       "metadata": {},
       "output_type": "display_data",
       "text": [
        "<IPython.core.display.Javascript at 0x34fe630>"
       ]
      },
      {
       "javascript": [
        "$('div#7a97bf54-50bb-4a19-8d05-775a6161a465').text('15 of 21');"
       ],
       "metadata": {},
       "output_type": "display_data",
       "text": [
        "<IPython.core.display.Javascript at 0x34fef28>"
       ]
      },
      {
       "javascript": [
        "$('div#08648725-45f7-4543-a6a5-c7508f9dae1c').text(' 71%');"
       ],
       "metadata": {},
       "output_type": "display_data",
       "text": [
        "<IPython.core.display.Javascript at 0x34fef28>"
       ]
      },
      {
       "javascript": [
        "\n",
        "        var $myPB = $(\"div#4d73b5e2-fe18-4617-a108-595745d196cd\")\n",
        "        if ($myPB.hasClass('ui-progressbar')) {\n",
        "            $myPB.progressbar('value', 15);\n",
        "        } else {\n",
        "            $myPB.progressbar({value: 0, max: 21});\n",
        "        }\n",
        "        "
       ],
       "metadata": {},
       "output_type": "display_data",
       "text": [
        "<IPython.core.display.Javascript at 0x34fe320>"
       ]
      },
      {
       "javascript": [
        "$('div#e7049874-76c0-4b7b-a7ba-579c007da8b8').text('ETA:  0:00:00');"
       ],
       "metadata": {},
       "output_type": "display_data",
       "text": [
        "<IPython.core.display.Javascript at 0x34feda0>"
       ]
      },
      {
       "javascript": [
        "$('div#7a97bf54-50bb-4a19-8d05-775a6161a465').text('16 of 21');"
       ],
       "metadata": {},
       "output_type": "display_data",
       "text": [
        "<IPython.core.display.Javascript at 0x34fea20>"
       ]
      },
      {
       "javascript": [
        "$('div#08648725-45f7-4543-a6a5-c7508f9dae1c').text(' 76%');"
       ],
       "metadata": {},
       "output_type": "display_data",
       "text": [
        "<IPython.core.display.Javascript at 0x34fea20>"
       ]
      },
      {
       "javascript": [
        "\n",
        "        var $myPB = $(\"div#4d73b5e2-fe18-4617-a108-595745d196cd\")\n",
        "        if ($myPB.hasClass('ui-progressbar')) {\n",
        "            $myPB.progressbar('value', 16);\n",
        "        } else {\n",
        "            $myPB.progressbar({value: 0, max: 21});\n",
        "        }\n",
        "        "
       ],
       "metadata": {},
       "output_type": "display_data",
       "text": [
        "<IPython.core.display.Javascript at 0x34fe630>"
       ]
      },
      {
       "javascript": [
        "$('div#e7049874-76c0-4b7b-a7ba-579c007da8b8').text('ETA:  0:00:00');"
       ],
       "metadata": {},
       "output_type": "display_data",
       "text": [
        "<IPython.core.display.Javascript at 0x34fef28>"
       ]
      },
      {
       "javascript": [
        "$('div#7a97bf54-50bb-4a19-8d05-775a6161a465').text('17 of 21');"
       ],
       "metadata": {},
       "output_type": "display_data",
       "text": [
        "<IPython.core.display.Javascript at 0x34fe320>"
       ]
      },
      {
       "javascript": [
        "$('div#08648725-45f7-4543-a6a5-c7508f9dae1c').text(' 80%');"
       ],
       "metadata": {},
       "output_type": "display_data",
       "text": [
        "<IPython.core.display.Javascript at 0x34fe320>"
       ]
      },
      {
       "javascript": [
        "\n",
        "        var $myPB = $(\"div#4d73b5e2-fe18-4617-a108-595745d196cd\")\n",
        "        if ($myPB.hasClass('ui-progressbar')) {\n",
        "            $myPB.progressbar('value', 17);\n",
        "        } else {\n",
        "            $myPB.progressbar({value: 0, max: 21});\n",
        "        }\n",
        "        "
       ],
       "metadata": {},
       "output_type": "display_data",
       "text": [
        "<IPython.core.display.Javascript at 0x34feda0>"
       ]
      },
      {
       "javascript": [
        "$('div#e7049874-76c0-4b7b-a7ba-579c007da8b8').text('ETA:  0:00:00');"
       ],
       "metadata": {},
       "output_type": "display_data",
       "text": [
        "<IPython.core.display.Javascript at 0x34fea20>"
       ]
      },
      {
       "javascript": [
        "$('div#7a97bf54-50bb-4a19-8d05-775a6161a465').text('18 of 21');"
       ],
       "metadata": {},
       "output_type": "display_data",
       "text": [
        "<IPython.core.display.Javascript at 0x34fe630>"
       ]
      },
      {
       "javascript": [
        "$('div#08648725-45f7-4543-a6a5-c7508f9dae1c').text(' 85%');"
       ],
       "metadata": {},
       "output_type": "display_data",
       "text": [
        "<IPython.core.display.Javascript at 0x34fe630>"
       ]
      },
      {
       "javascript": [
        "\n",
        "        var $myPB = $(\"div#4d73b5e2-fe18-4617-a108-595745d196cd\")\n",
        "        if ($myPB.hasClass('ui-progressbar')) {\n",
        "            $myPB.progressbar('value', 18);\n",
        "        } else {\n",
        "            $myPB.progressbar({value: 0, max: 21});\n",
        "        }\n",
        "        "
       ],
       "metadata": {},
       "output_type": "display_data",
       "text": [
        "<IPython.core.display.Javascript at 0x34fef28>"
       ]
      },
      {
       "javascript": [
        "$('div#e7049874-76c0-4b7b-a7ba-579c007da8b8').text('ETA:  0:00:00');"
       ],
       "metadata": {},
       "output_type": "display_data",
       "text": [
        "<IPython.core.display.Javascript at 0x34fe320>"
       ]
      },
      {
       "javascript": [
        "$('div#7a97bf54-50bb-4a19-8d05-775a6161a465').text('19 of 21');"
       ],
       "metadata": {},
       "output_type": "display_data",
       "text": [
        "<IPython.core.display.Javascript at 0x34fea20>"
       ]
      },
      {
       "javascript": [
        "$('div#08648725-45f7-4543-a6a5-c7508f9dae1c').text(' 90%');"
       ],
       "metadata": {},
       "output_type": "display_data",
       "text": [
        "<IPython.core.display.Javascript at 0x34fea20>"
       ]
      },
      {
       "javascript": [
        "\n",
        "        var $myPB = $(\"div#4d73b5e2-fe18-4617-a108-595745d196cd\")\n",
        "        if ($myPB.hasClass('ui-progressbar')) {\n",
        "            $myPB.progressbar('value', 19);\n",
        "        } else {\n",
        "            $myPB.progressbar({value: 0, max: 21});\n",
        "        }\n",
        "        "
       ],
       "metadata": {},
       "output_type": "display_data",
       "text": [
        "<IPython.core.display.Javascript at 0x34fef28>"
       ]
      },
      {
       "javascript": [
        "$('div#e7049874-76c0-4b7b-a7ba-579c007da8b8').text('ETA:  0:00:00');"
       ],
       "metadata": {},
       "output_type": "display_data",
       "text": [
        "<IPython.core.display.Javascript at 0x34fe320>"
       ]
      },
      {
       "javascript": [
        "$('div#7a97bf54-50bb-4a19-8d05-775a6161a465').text('20 of 21');"
       ],
       "metadata": {},
       "output_type": "display_data",
       "text": [
        "<IPython.core.display.Javascript at 0x34fe630>"
       ]
      },
      {
       "javascript": [
        "$('div#08648725-45f7-4543-a6a5-c7508f9dae1c').text(' 95%');"
       ],
       "metadata": {},
       "output_type": "display_data",
       "text": [
        "<IPython.core.display.Javascript at 0x34fe630>"
       ]
      },
      {
       "javascript": [
        "\n",
        "        var $myPB = $(\"div#4d73b5e2-fe18-4617-a108-595745d196cd\")\n",
        "        if ($myPB.hasClass('ui-progressbar')) {\n",
        "            $myPB.progressbar('value', 20);\n",
        "        } else {\n",
        "            $myPB.progressbar({value: 0, max: 21});\n",
        "        }\n",
        "        "
       ],
       "metadata": {},
       "output_type": "display_data",
       "text": [
        "<IPython.core.display.Javascript at 0x34fef28>"
       ]
      },
      {
       "javascript": [
        "$('div#e7049874-76c0-4b7b-a7ba-579c007da8b8').text('ETA:  0:00:00');"
       ],
       "metadata": {},
       "output_type": "display_data",
       "text": [
        "<IPython.core.display.Javascript at 0x34fe320>"
       ]
      },
      {
       "javascript": [
        "$('div#7a97bf54-50bb-4a19-8d05-775a6161a465').text('21 of 21');"
       ],
       "metadata": {},
       "output_type": "display_data",
       "text": [
        "<IPython.core.display.Javascript at 0x34fea20>"
       ]
      },
      {
       "javascript": [
        "$('div#08648725-45f7-4543-a6a5-c7508f9dae1c').text('100%');"
       ],
       "metadata": {},
       "output_type": "display_data",
       "text": [
        "<IPython.core.display.Javascript at 0x34fea20>"
       ]
      },
      {
       "javascript": [
        "\n",
        "        var $myPB = $(\"div#4d73b5e2-fe18-4617-a108-595745d196cd\")\n",
        "        if ($myPB.hasClass('ui-progressbar')) {\n",
        "            $myPB.progressbar('value', 21);\n",
        "        } else {\n",
        "            $myPB.progressbar({value: 0, max: 21});\n",
        "        }\n",
        "        "
       ],
       "metadata": {},
       "output_type": "display_data",
       "text": [
        "<IPython.core.display.Javascript at 0x34fef28>"
       ]
      },
      {
       "javascript": [
        "$('div#e7049874-76c0-4b7b-a7ba-579c007da8b8').text('ETA:  0:00:00');"
       ],
       "metadata": {},
       "output_type": "display_data",
       "text": [
        "<IPython.core.display.Javascript at 0x34fe320>"
       ]
      },
      {
       "javascript": [
        "$('div#7a97bf54-50bb-4a19-8d05-775a6161a465').text('21 of 21');"
       ],
       "metadata": {},
       "output_type": "display_data",
       "text": [
        "<IPython.core.display.Javascript at 0x1f6f1d68>"
       ]
      },
      {
       "javascript": [
        "$('div#08648725-45f7-4543-a6a5-c7508f9dae1c').text('100%');"
       ],
       "metadata": {},
       "output_type": "display_data",
       "text": [
        "<IPython.core.display.Javascript at 0x1f6f1d68>"
       ]
      },
      {
       "javascript": [
        "\n",
        "        var $myPB = $(\"div#4d73b5e2-fe18-4617-a108-595745d196cd\")\n",
        "        if ($myPB.hasClass('ui-progressbar')) {\n",
        "            $myPB.progressbar('value', 21);\n",
        "        } else {\n",
        "            $myPB.progressbar({value: 0, max: 21});\n",
        "        }\n",
        "        "
       ],
       "metadata": {},
       "output_type": "display_data",
       "text": [
        "<IPython.core.display.Javascript at 0x34fe630>"
       ]
      },
      {
       "javascript": [
        "$('div#e7049874-76c0-4b7b-a7ba-579c007da8b8').text('Time: 0:00:00');"
       ],
       "metadata": {},
       "output_type": "display_data",
       "text": [
        "<IPython.core.display.Javascript at 0x34fe320>"
       ]
      },
      {
       "javascript": [
        "var element = document.getElementById('53800964-8c99-474f-a5a2-3c881cbd52f4');\n",
        "                    var parent = element.parentNode\n",
        "                    parent.removeChild(element);\n",
        "                    parent.parentElement.remove();"
       ],
       "metadata": {},
       "output_type": "display_data",
       "text": [
        "<IPython.core.display.Javascript at 0x1f6f1550>"
       ]
      },
      {
       "javascript": [
        "this.cleanProgressBar(['53800964-8c99-474f-a5a2-3c881cbd52f4', '7a97bf54-50bb-4a19-8d05-775a6161a465', '08648725-45f7-4543-a6a5-c7508f9dae1c', '4d73b5e2-fe18-4617-a108-595745d196cd', 'e7049874-76c0-4b7b-a7ba-579c007da8b8'])"
       ],
       "metadata": {},
       "output_type": "display_data",
       "text": [
        "<IPython.core.display.Javascript at 0x34fef28>"
       ]
      },
      {
       "javascript": [
        "//d9cdd386-8ce7-4839-9e37-873292653101\n",
        "$(\"head\").append(\"<style> td.pb_widget {     width: auto; } td.pb_widget_fill {     width: 100%; } table.pb {     font-family: monospace;     border: 0;     margin: 0; } table.pb tr { border: 0; } table.pb td {     white-space: nowrap;     border: 0; } div.pb {     border: 1px solid #ddd;     border-radius: 3px; } div.pb_bar {     height: 1.5em; } </style>\")"
       ],
       "metadata": {},
       "output_type": "display_data",
       "text": [
        "<IPython.core.display.Javascript at 0x34fe320>"
       ]
      },
      {
       "javascript": [
        "\n",
        "                  // d9cdd386-8ce7-4839-9e37-873292653101 -- used to remove this code blob in the end\n",
        "                  IPython.OutputArea.prototype.cleanProgressBar = function(uuids) {\n",
        "                      // filter by uuid-strings \n",
        "                      var myfilter = function(output) { \n",
        "                          var nuids = uuids.length;\n",
        "                          for (var i=0; i<nuids; i++) {\n",
        "                              if (output.hasOwnProperty('html')) {\n",
        "                                  if (output.html.indexOf(uuids[i]) != -1) {\n",
        "                                      return false;\n",
        "                                  }\n",
        "                              }\n",
        "                              if (output.hasOwnProperty('javascript')) {\n",
        "                                  if (output.javascript.indexOf(uuids[i]) != -1) {\n",
        "                                      return false;\n",
        "                                  }\n",
        "                              }\n",
        "                          }\n",
        "                          // keep all others\n",
        "                          return true;\n",
        "                      };\n",
        "\n",
        "                      // Filter the ouputs\n",
        "                      this.outputs = this.outputs.filter(myfilter);\n",
        "                };\n",
        "                "
       ],
       "metadata": {},
       "output_type": "display_data",
       "text": [
        "<IPython.core.display.Javascript at 0x34fea20>"
       ]
      },
      {
       "html": [
        "<div class=\"pb\" id=\"d9cdd386-8ce7-4839-9e37-873292653101\"><table class=\"pb ui-widget\"><tr>\n",
        "<td class=\"pb_widget\">tagging sentences</td>\n",
        "<td class=\"pb_widget\"><div id=\"87dc0e98-5b46-42a0-9052-5748774c22c5\">0 of 21</div></td>\n",
        "<td class=\"pb_widget\"><div id=\"36ab31fb-022b-4cd1-b23a-ac1b230e3438\">  0%</div></td>\n",
        "<td class=\"pb_widget_fill\">\n",
        "        <div class=\"pb_bar\" id=\"4e0b4d30-d10a-4a71-b41d-215ede913e5e\"></div>\n",
        "        <script type=\"text/javascript\">\n",
        "            $(\"div#4e0b4d30-d10a-4a71-b41d-215ede913e5e\").progressbar({value: 0, max: 21});\n",
        "        </script>\n",
        "        </td>\n",
        "<td class=\"pb_widget\"><div id=\"f7c05097-f34c-4d72-b172-8575cf336910\">ETA:  --:--:--</div></td>\n",
        "</tr></table><div>"
       ],
       "metadata": {},
       "output_type": "display_data",
       "text": [
        "<IPython.core.display.HTML at 0x34fe630>"
       ]
      },
      {
       "javascript": [
        "$('div#87dc0e98-5b46-42a0-9052-5748774c22c5').text('1 of 21');"
       ],
       "metadata": {},
       "output_type": "display_data",
       "text": [
        "<IPython.core.display.Javascript at 0x34fe630>"
       ]
      },
      {
       "javascript": [
        "$('div#36ab31fb-022b-4cd1-b23a-ac1b230e3438').text('  4%');"
       ],
       "metadata": {},
       "output_type": "display_data",
       "text": [
        "<IPython.core.display.Javascript at 0x34fe668>"
       ]
      },
      {
       "javascript": [
        "\n",
        "        var $myPB = $(\"div#4e0b4d30-d10a-4a71-b41d-215ede913e5e\")\n",
        "        if ($myPB.hasClass('ui-progressbar')) {\n",
        "            $myPB.progressbar('value', 1);\n",
        "        } else {\n",
        "            $myPB.progressbar({value: 0, max: 21});\n",
        "        }\n",
        "        "
       ],
       "metadata": {},
       "output_type": "display_data",
       "text": [
        "<IPython.core.display.Javascript at 0x34fe320>"
       ]
      },
      {
       "javascript": [
        "$('div#f7c05097-f34c-4d72-b172-8575cf336910').text('ETA:  0:00:00');"
       ],
       "metadata": {},
       "output_type": "display_data",
       "text": [
        "<IPython.core.display.Javascript at 0x34fea20>"
       ]
      },
      {
       "javascript": [
        "$('div#87dc0e98-5b46-42a0-9052-5748774c22c5').text('2 of 21');"
       ],
       "metadata": {},
       "output_type": "display_data",
       "text": [
        "<IPython.core.display.Javascript at 0x34fea20>"
       ]
      },
      {
       "javascript": [
        "$('div#36ab31fb-022b-4cd1-b23a-ac1b230e3438').text('  9%');"
       ],
       "metadata": {},
       "output_type": "display_data",
       "text": [
        "<IPython.core.display.Javascript at 0x34fef28>"
       ]
      },
      {
       "javascript": [
        "\n",
        "        var $myPB = $(\"div#4e0b4d30-d10a-4a71-b41d-215ede913e5e\")\n",
        "        if ($myPB.hasClass('ui-progressbar')) {\n",
        "            $myPB.progressbar('value', 2);\n",
        "        } else {\n",
        "            $myPB.progressbar({value: 0, max: 21});\n",
        "        }\n",
        "        "
       ],
       "metadata": {},
       "output_type": "display_data",
       "text": [
        "<IPython.core.display.Javascript at 0x34fe668>"
       ]
      },
      {
       "javascript": [
        "$('div#f7c05097-f34c-4d72-b172-8575cf336910').text('ETA:  0:00:00');"
       ],
       "metadata": {},
       "output_type": "display_data",
       "text": [
        "<IPython.core.display.Javascript at 0x34fe320>"
       ]
      },
      {
       "javascript": [
        "$('div#87dc0e98-5b46-42a0-9052-5748774c22c5').text('3 of 21');"
       ],
       "metadata": {},
       "output_type": "display_data",
       "text": [
        "<IPython.core.display.Javascript at 0x34fe320>"
       ]
      },
      {
       "javascript": [
        "$('div#36ab31fb-022b-4cd1-b23a-ac1b230e3438').text(' 14%');"
       ],
       "metadata": {},
       "output_type": "display_data",
       "text": [
        "<IPython.core.display.Javascript at 0x34fe630>"
       ]
      },
      {
       "javascript": [
        "\n",
        "        var $myPB = $(\"div#4e0b4d30-d10a-4a71-b41d-215ede913e5e\")\n",
        "        if ($myPB.hasClass('ui-progressbar')) {\n",
        "            $myPB.progressbar('value', 3);\n",
        "        } else {\n",
        "            $myPB.progressbar({value: 0, max: 21});\n",
        "        }\n",
        "        "
       ],
       "metadata": {},
       "output_type": "display_data",
       "text": [
        "<IPython.core.display.Javascript at 0x34fef28>"
       ]
      },
      {
       "javascript": [
        "$('div#f7c05097-f34c-4d72-b172-8575cf336910').text('ETA:  0:00:00');"
       ],
       "metadata": {},
       "output_type": "display_data",
       "text": [
        "<IPython.core.display.Javascript at 0x34fe668>"
       ]
      },
      {
       "javascript": [
        "$('div#87dc0e98-5b46-42a0-9052-5748774c22c5').text('4 of 21');"
       ],
       "metadata": {},
       "output_type": "display_data",
       "text": [
        "<IPython.core.display.Javascript at 0x34fe668>"
       ]
      },
      {
       "javascript": [
        "$('div#36ab31fb-022b-4cd1-b23a-ac1b230e3438').text(' 19%');"
       ],
       "metadata": {},
       "output_type": "display_data",
       "text": [
        "<IPython.core.display.Javascript at 0x34fea20>"
       ]
      },
      {
       "javascript": [
        "\n",
        "        var $myPB = $(\"div#4e0b4d30-d10a-4a71-b41d-215ede913e5e\")\n",
        "        if ($myPB.hasClass('ui-progressbar')) {\n",
        "            $myPB.progressbar('value', 4);\n",
        "        } else {\n",
        "            $myPB.progressbar({value: 0, max: 21});\n",
        "        }\n",
        "        "
       ],
       "metadata": {},
       "output_type": "display_data",
       "text": [
        "<IPython.core.display.Javascript at 0x34fe630>"
       ]
      },
      {
       "javascript": [
        "$('div#f7c05097-f34c-4d72-b172-8575cf336910').text('ETA:  0:00:00');"
       ],
       "metadata": {},
       "output_type": "display_data",
       "text": [
        "<IPython.core.display.Javascript at 0x34fef28>"
       ]
      },
      {
       "javascript": [
        "$('div#87dc0e98-5b46-42a0-9052-5748774c22c5').text('5 of 21');"
       ],
       "metadata": {},
       "output_type": "display_data",
       "text": [
        "<IPython.core.display.Javascript at 0x34fef28>"
       ]
      },
      {
       "javascript": [
        "$('div#36ab31fb-022b-4cd1-b23a-ac1b230e3438').text(' 23%');"
       ],
       "metadata": {},
       "output_type": "display_data",
       "text": [
        "<IPython.core.display.Javascript at 0x34fe320>"
       ]
      },
      {
       "javascript": [
        "\n",
        "        var $myPB = $(\"div#4e0b4d30-d10a-4a71-b41d-215ede913e5e\")\n",
        "        if ($myPB.hasClass('ui-progressbar')) {\n",
        "            $myPB.progressbar('value', 5);\n",
        "        } else {\n",
        "            $myPB.progressbar({value: 0, max: 21});\n",
        "        }\n",
        "        "
       ],
       "metadata": {},
       "output_type": "display_data",
       "text": [
        "<IPython.core.display.Javascript at 0x34fea20>"
       ]
      },
      {
       "javascript": [
        "$('div#f7c05097-f34c-4d72-b172-8575cf336910').text('ETA:  0:00:00');"
       ],
       "metadata": {},
       "output_type": "display_data",
       "text": [
        "<IPython.core.display.Javascript at 0x34fe630>"
       ]
      },
      {
       "javascript": [
        "$('div#87dc0e98-5b46-42a0-9052-5748774c22c5').text('6 of 21');"
       ],
       "metadata": {},
       "output_type": "display_data",
       "text": [
        "<IPython.core.display.Javascript at 0x34fe630>"
       ]
      },
      {
       "javascript": [
        "$('div#36ab31fb-022b-4cd1-b23a-ac1b230e3438').text(' 28%');"
       ],
       "metadata": {},
       "output_type": "display_data",
       "text": [
        "<IPython.core.display.Javascript at 0x34fe668>"
       ]
      },
      {
       "javascript": [
        "\n",
        "        var $myPB = $(\"div#4e0b4d30-d10a-4a71-b41d-215ede913e5e\")\n",
        "        if ($myPB.hasClass('ui-progressbar')) {\n",
        "            $myPB.progressbar('value', 6);\n",
        "        } else {\n",
        "            $myPB.progressbar({value: 0, max: 21});\n",
        "        }\n",
        "        "
       ],
       "metadata": {},
       "output_type": "display_data",
       "text": [
        "<IPython.core.display.Javascript at 0x34fe320>"
       ]
      },
      {
       "javascript": [
        "$('div#f7c05097-f34c-4d72-b172-8575cf336910').text('ETA:  0:00:00');"
       ],
       "metadata": {},
       "output_type": "display_data",
       "text": [
        "<IPython.core.display.Javascript at 0x34fea20>"
       ]
      },
      {
       "javascript": [
        "$('div#87dc0e98-5b46-42a0-9052-5748774c22c5').text('7 of 21');"
       ],
       "metadata": {},
       "output_type": "display_data",
       "text": [
        "<IPython.core.display.Javascript at 0x34fea20>"
       ]
      },
      {
       "javascript": [
        "$('div#36ab31fb-022b-4cd1-b23a-ac1b230e3438').text(' 33%');"
       ],
       "metadata": {},
       "output_type": "display_data",
       "text": [
        "<IPython.core.display.Javascript at 0x34fef28>"
       ]
      },
      {
       "javascript": [
        "\n",
        "        var $myPB = $(\"div#4e0b4d30-d10a-4a71-b41d-215ede913e5e\")\n",
        "        if ($myPB.hasClass('ui-progressbar')) {\n",
        "            $myPB.progressbar('value', 7);\n",
        "        } else {\n",
        "            $myPB.progressbar({value: 0, max: 21});\n",
        "        }\n",
        "        "
       ],
       "metadata": {},
       "output_type": "display_data",
       "text": [
        "<IPython.core.display.Javascript at 0x34fe668>"
       ]
      },
      {
       "javascript": [
        "$('div#f7c05097-f34c-4d72-b172-8575cf336910').text('ETA:  0:00:00');"
       ],
       "metadata": {},
       "output_type": "display_data",
       "text": [
        "<IPython.core.display.Javascript at 0x34fe320>"
       ]
      },
      {
       "javascript": [
        "$('div#87dc0e98-5b46-42a0-9052-5748774c22c5').text('8 of 21');"
       ],
       "metadata": {},
       "output_type": "display_data",
       "text": [
        "<IPython.core.display.Javascript at 0x34fe320>"
       ]
      },
      {
       "javascript": [
        "$('div#36ab31fb-022b-4cd1-b23a-ac1b230e3438').text(' 38%');"
       ],
       "metadata": {},
       "output_type": "display_data",
       "text": [
        "<IPython.core.display.Javascript at 0x34fe630>"
       ]
      },
      {
       "javascript": [
        "\n",
        "        var $myPB = $(\"div#4e0b4d30-d10a-4a71-b41d-215ede913e5e\")\n",
        "        if ($myPB.hasClass('ui-progressbar')) {\n",
        "            $myPB.progressbar('value', 8);\n",
        "        } else {\n",
        "            $myPB.progressbar({value: 0, max: 21});\n",
        "        }\n",
        "        "
       ],
       "metadata": {},
       "output_type": "display_data",
       "text": [
        "<IPython.core.display.Javascript at 0x34fef28>"
       ]
      },
      {
       "javascript": [
        "$('div#f7c05097-f34c-4d72-b172-8575cf336910').text('ETA:  0:00:00');"
       ],
       "metadata": {},
       "output_type": "display_data",
       "text": [
        "<IPython.core.display.Javascript at 0x34fe668>"
       ]
      },
      {
       "javascript": [
        "$('div#87dc0e98-5b46-42a0-9052-5748774c22c5').text('9 of 21');"
       ],
       "metadata": {},
       "output_type": "display_data",
       "text": [
        "<IPython.core.display.Javascript at 0x34fea20>"
       ]
      },
      {
       "javascript": [
        "$('div#36ab31fb-022b-4cd1-b23a-ac1b230e3438').text(' 42%');"
       ],
       "metadata": {},
       "output_type": "display_data",
       "text": [
        "<IPython.core.display.Javascript at 0x34fe630>"
       ]
      },
      {
       "javascript": [
        "\n",
        "        var $myPB = $(\"div#4e0b4d30-d10a-4a71-b41d-215ede913e5e\")\n",
        "        if ($myPB.hasClass('ui-progressbar')) {\n",
        "            $myPB.progressbar('value', 9);\n",
        "        } else {\n",
        "            $myPB.progressbar({value: 0, max: 21});\n",
        "        }\n",
        "        "
       ],
       "metadata": {},
       "output_type": "display_data",
       "text": [
        "<IPython.core.display.Javascript at 0x34fef28>"
       ]
      },
      {
       "javascript": [
        "$('div#f7c05097-f34c-4d72-b172-8575cf336910').text('ETA:  0:00:00');"
       ],
       "metadata": {},
       "output_type": "display_data",
       "text": [
        "<IPython.core.display.Javascript at 0x34fe320>"
       ]
      },
      {
       "javascript": [
        "$('div#87dc0e98-5b46-42a0-9052-5748774c22c5').text('10 of 21');"
       ],
       "metadata": {},
       "output_type": "display_data",
       "text": [
        "<IPython.core.display.Javascript at 0x34fe668>"
       ]
      },
      {
       "javascript": [
        "$('div#36ab31fb-022b-4cd1-b23a-ac1b230e3438').text(' 47%');"
       ],
       "metadata": {},
       "output_type": "display_data",
       "text": [
        "<IPython.core.display.Javascript at 0x34fe668>"
       ]
      },
      {
       "javascript": [
        "\n",
        "        var $myPB = $(\"div#4e0b4d30-d10a-4a71-b41d-215ede913e5e\")\n",
        "        if ($myPB.hasClass('ui-progressbar')) {\n",
        "            $myPB.progressbar('value', 10);\n",
        "        } else {\n",
        "            $myPB.progressbar({value: 0, max: 21});\n",
        "        }\n",
        "        "
       ],
       "metadata": {},
       "output_type": "display_data",
       "text": [
        "<IPython.core.display.Javascript at 0x34fef28>"
       ]
      },
      {
       "javascript": [
        "$('div#f7c05097-f34c-4d72-b172-8575cf336910').text('ETA:  0:00:00');"
       ],
       "metadata": {},
       "output_type": "display_data",
       "text": [
        "<IPython.core.display.Javascript at 0x34fe320>"
       ]
      },
      {
       "javascript": [
        "$('div#87dc0e98-5b46-42a0-9052-5748774c22c5').text('11 of 21');"
       ],
       "metadata": {},
       "output_type": "display_data",
       "text": [
        "<IPython.core.display.Javascript at 0x34fe630>"
       ]
      },
      {
       "javascript": [
        "$('div#36ab31fb-022b-4cd1-b23a-ac1b230e3438').text(' 52%');"
       ],
       "metadata": {},
       "output_type": "display_data",
       "text": [
        "<IPython.core.display.Javascript at 0x34fe630>"
       ]
      },
      {
       "javascript": [
        "\n",
        "        var $myPB = $(\"div#4e0b4d30-d10a-4a71-b41d-215ede913e5e\")\n",
        "        if ($myPB.hasClass('ui-progressbar')) {\n",
        "            $myPB.progressbar('value', 11);\n",
        "        } else {\n",
        "            $myPB.progressbar({value: 0, max: 21});\n",
        "        }\n",
        "        "
       ],
       "metadata": {},
       "output_type": "display_data",
       "text": [
        "<IPython.core.display.Javascript at 0x34fef28>"
       ]
      },
      {
       "javascript": [
        "$('div#f7c05097-f34c-4d72-b172-8575cf336910').text('ETA:  0:00:00');"
       ],
       "metadata": {},
       "output_type": "display_data",
       "text": [
        "<IPython.core.display.Javascript at 0x34fe320>"
       ]
      },
      {
       "javascript": [
        "$('div#87dc0e98-5b46-42a0-9052-5748774c22c5').text('12 of 21');"
       ],
       "metadata": {},
       "output_type": "display_data",
       "text": [
        "<IPython.core.display.Javascript at 0x34fe668>"
       ]
      },
      {
       "javascript": [
        "$('div#36ab31fb-022b-4cd1-b23a-ac1b230e3438').text(' 57%');"
       ],
       "metadata": {},
       "output_type": "display_data",
       "text": [
        "<IPython.core.display.Javascript at 0x34fe668>"
       ]
      },
      {
       "javascript": [
        "\n",
        "        var $myPB = $(\"div#4e0b4d30-d10a-4a71-b41d-215ede913e5e\")\n",
        "        if ($myPB.hasClass('ui-progressbar')) {\n",
        "            $myPB.progressbar('value', 12);\n",
        "        } else {\n",
        "            $myPB.progressbar({value: 0, max: 21});\n",
        "        }\n",
        "        "
       ],
       "metadata": {},
       "output_type": "display_data",
       "text": [
        "<IPython.core.display.Javascript at 0x34fef28>"
       ]
      },
      {
       "javascript": [
        "$('div#f7c05097-f34c-4d72-b172-8575cf336910').text('ETA:  0:00:00');"
       ],
       "metadata": {},
       "output_type": "display_data",
       "text": [
        "<IPython.core.display.Javascript at 0x34fe320>"
       ]
      },
      {
       "javascript": [
        "$('div#87dc0e98-5b46-42a0-9052-5748774c22c5').text('13 of 21');"
       ],
       "metadata": {},
       "output_type": "display_data",
       "text": [
        "<IPython.core.display.Javascript at 0x34fe630>"
       ]
      },
      {
       "javascript": [
        "$('div#36ab31fb-022b-4cd1-b23a-ac1b230e3438').text(' 61%');"
       ],
       "metadata": {},
       "output_type": "display_data",
       "text": [
        "<IPython.core.display.Javascript at 0x34fe630>"
       ]
      },
      {
       "javascript": [
        "\n",
        "        var $myPB = $(\"div#4e0b4d30-d10a-4a71-b41d-215ede913e5e\")\n",
        "        if ($myPB.hasClass('ui-progressbar')) {\n",
        "            $myPB.progressbar('value', 13);\n",
        "        } else {\n",
        "            $myPB.progressbar({value: 0, max: 21});\n",
        "        }\n",
        "        "
       ],
       "metadata": {},
       "output_type": "display_data",
       "text": [
        "<IPython.core.display.Javascript at 0x34fef28>"
       ]
      },
      {
       "javascript": [
        "$('div#f7c05097-f34c-4d72-b172-8575cf336910').text('ETA:  0:00:00');"
       ],
       "metadata": {},
       "output_type": "display_data",
       "text": [
        "<IPython.core.display.Javascript at 0x34fe320>"
       ]
      },
      {
       "javascript": [
        "$('div#87dc0e98-5b46-42a0-9052-5748774c22c5').text('14 of 21');"
       ],
       "metadata": {},
       "output_type": "display_data",
       "text": [
        "<IPython.core.display.Javascript at 0x34fe668>"
       ]
      },
      {
       "javascript": [
        "$('div#36ab31fb-022b-4cd1-b23a-ac1b230e3438').text(' 66%');"
       ],
       "metadata": {},
       "output_type": "display_data",
       "text": [
        "<IPython.core.display.Javascript at 0x34fe668>"
       ]
      },
      {
       "javascript": [
        "\n",
        "        var $myPB = $(\"div#4e0b4d30-d10a-4a71-b41d-215ede913e5e\")\n",
        "        if ($myPB.hasClass('ui-progressbar')) {\n",
        "            $myPB.progressbar('value', 14);\n",
        "        } else {\n",
        "            $myPB.progressbar({value: 0, max: 21});\n",
        "        }\n",
        "        "
       ],
       "metadata": {},
       "output_type": "display_data",
       "text": [
        "<IPython.core.display.Javascript at 0x34fef28>"
       ]
      },
      {
       "javascript": [
        "$('div#f7c05097-f34c-4d72-b172-8575cf336910').text('ETA:  0:00:00');"
       ],
       "metadata": {},
       "output_type": "display_data",
       "text": [
        "<IPython.core.display.Javascript at 0x34fe320>"
       ]
      },
      {
       "javascript": [
        "$('div#87dc0e98-5b46-42a0-9052-5748774c22c5').text('15 of 21');"
       ],
       "metadata": {},
       "output_type": "display_data",
       "text": [
        "<IPython.core.display.Javascript at 0x34fe630>"
       ]
      },
      {
       "javascript": [
        "$('div#36ab31fb-022b-4cd1-b23a-ac1b230e3438').text(' 71%');"
       ],
       "metadata": {},
       "output_type": "display_data",
       "text": [
        "<IPython.core.display.Javascript at 0x34fe630>"
       ]
      },
      {
       "javascript": [
        "\n",
        "        var $myPB = $(\"div#4e0b4d30-d10a-4a71-b41d-215ede913e5e\")\n",
        "        if ($myPB.hasClass('ui-progressbar')) {\n",
        "            $myPB.progressbar('value', 15);\n",
        "        } else {\n",
        "            $myPB.progressbar({value: 0, max: 21});\n",
        "        }\n",
        "        "
       ],
       "metadata": {},
       "output_type": "display_data",
       "text": [
        "<IPython.core.display.Javascript at 0x34fef28>"
       ]
      },
      {
       "javascript": [
        "$('div#f7c05097-f34c-4d72-b172-8575cf336910').text('ETA:  0:00:00');"
       ],
       "metadata": {},
       "output_type": "display_data",
       "text": [
        "<IPython.core.display.Javascript at 0x34fe320>"
       ]
      },
      {
       "javascript": [
        "$('div#87dc0e98-5b46-42a0-9052-5748774c22c5').text('16 of 21');"
       ],
       "metadata": {},
       "output_type": "display_data",
       "text": [
        "<IPython.core.display.Javascript at 0x34fe668>"
       ]
      },
      {
       "javascript": [
        "$('div#36ab31fb-022b-4cd1-b23a-ac1b230e3438').text(' 76%');"
       ],
       "metadata": {},
       "output_type": "display_data",
       "text": [
        "<IPython.core.display.Javascript at 0x34fe668>"
       ]
      },
      {
       "javascript": [
        "\n",
        "        var $myPB = $(\"div#4e0b4d30-d10a-4a71-b41d-215ede913e5e\")\n",
        "        if ($myPB.hasClass('ui-progressbar')) {\n",
        "            $myPB.progressbar('value', 16);\n",
        "        } else {\n",
        "            $myPB.progressbar({value: 0, max: 21});\n",
        "        }\n",
        "        "
       ],
       "metadata": {},
       "output_type": "display_data",
       "text": [
        "<IPython.core.display.Javascript at 0x34fea20>"
       ]
      },
      {
       "javascript": [
        "$('div#f7c05097-f34c-4d72-b172-8575cf336910').text('ETA:  0:00:00');"
       ],
       "metadata": {},
       "output_type": "display_data",
       "text": [
        "<IPython.core.display.Javascript at 0x34fe630>"
       ]
      },
      {
       "javascript": [
        "$('div#87dc0e98-5b46-42a0-9052-5748774c22c5').text('17 of 21');"
       ],
       "metadata": {},
       "output_type": "display_data",
       "text": [
        "<IPython.core.display.Javascript at 0x34fef28>"
       ]
      },
      {
       "javascript": [
        "$('div#36ab31fb-022b-4cd1-b23a-ac1b230e3438').text(' 80%');"
       ],
       "metadata": {},
       "output_type": "display_data",
       "text": [
        "<IPython.core.display.Javascript at 0x34fef28>"
       ]
      },
      {
       "javascript": [
        "\n",
        "        var $myPB = $(\"div#4e0b4d30-d10a-4a71-b41d-215ede913e5e\")\n",
        "        if ($myPB.hasClass('ui-progressbar')) {\n",
        "            $myPB.progressbar('value', 17);\n",
        "        } else {\n",
        "            $myPB.progressbar({value: 0, max: 21});\n",
        "        }\n",
        "        "
       ],
       "metadata": {},
       "output_type": "display_data",
       "text": [
        "<IPython.core.display.Javascript at 0x34fe320>"
       ]
      },
      {
       "javascript": [
        "$('div#f7c05097-f34c-4d72-b172-8575cf336910').text('ETA:  0:00:00');"
       ],
       "metadata": {},
       "output_type": "display_data",
       "text": [
        "<IPython.core.display.Javascript at 0x34fe668>"
       ]
      },
      {
       "javascript": [
        "$('div#87dc0e98-5b46-42a0-9052-5748774c22c5').text('18 of 21');"
       ],
       "metadata": {},
       "output_type": "display_data",
       "text": [
        "<IPython.core.display.Javascript at 0x34fea20>"
       ]
      },
      {
       "javascript": [
        "$('div#36ab31fb-022b-4cd1-b23a-ac1b230e3438').text(' 85%');"
       ],
       "metadata": {},
       "output_type": "display_data",
       "text": [
        "<IPython.core.display.Javascript at 0x34fea20>"
       ]
      },
      {
       "javascript": [
        "\n",
        "        var $myPB = $(\"div#4e0b4d30-d10a-4a71-b41d-215ede913e5e\")\n",
        "        if ($myPB.hasClass('ui-progressbar')) {\n",
        "            $myPB.progressbar('value', 18);\n",
        "        } else {\n",
        "            $myPB.progressbar({value: 0, max: 21});\n",
        "        }\n",
        "        "
       ],
       "metadata": {},
       "output_type": "display_data",
       "text": [
        "<IPython.core.display.Javascript at 0x34fe630>"
       ]
      },
      {
       "javascript": [
        "$('div#f7c05097-f34c-4d72-b172-8575cf336910').text('ETA:  0:00:00');"
       ],
       "metadata": {},
       "output_type": "display_data",
       "text": [
        "<IPython.core.display.Javascript at 0x34fef28>"
       ]
      },
      {
       "javascript": [
        "$('div#87dc0e98-5b46-42a0-9052-5748774c22c5').text('19 of 21');"
       ],
       "metadata": {},
       "output_type": "display_data",
       "text": [
        "<IPython.core.display.Javascript at 0x34fe320>"
       ]
      },
      {
       "javascript": [
        "$('div#36ab31fb-022b-4cd1-b23a-ac1b230e3438').text(' 90%');"
       ],
       "metadata": {},
       "output_type": "display_data",
       "text": [
        "<IPython.core.display.Javascript at 0x34fe320>"
       ]
      },
      {
       "javascript": [
        "\n",
        "        var $myPB = $(\"div#4e0b4d30-d10a-4a71-b41d-215ede913e5e\")\n",
        "        if ($myPB.hasClass('ui-progressbar')) {\n",
        "            $myPB.progressbar('value', 19);\n",
        "        } else {\n",
        "            $myPB.progressbar({value: 0, max: 21});\n",
        "        }\n",
        "        "
       ],
       "metadata": {},
       "output_type": "display_data",
       "text": [
        "<IPython.core.display.Javascript at 0x34fe668>"
       ]
      },
      {
       "javascript": [
        "$('div#f7c05097-f34c-4d72-b172-8575cf336910').text('ETA:  0:00:00');"
       ],
       "metadata": {},
       "output_type": "display_data",
       "text": [
        "<IPython.core.display.Javascript at 0x34fea20>"
       ]
      },
      {
       "javascript": [
        "$('div#87dc0e98-5b46-42a0-9052-5748774c22c5').text('20 of 21');"
       ],
       "metadata": {},
       "output_type": "display_data",
       "text": [
        "<IPython.core.display.Javascript at 0x34fe630>"
       ]
      },
      {
       "javascript": [
        "$('div#36ab31fb-022b-4cd1-b23a-ac1b230e3438').text(' 95%');"
       ],
       "metadata": {},
       "output_type": "display_data",
       "text": [
        "<IPython.core.display.Javascript at 0x34fe630>"
       ]
      },
      {
       "javascript": [
        "\n",
        "        var $myPB = $(\"div#4e0b4d30-d10a-4a71-b41d-215ede913e5e\")\n",
        "        if ($myPB.hasClass('ui-progressbar')) {\n",
        "            $myPB.progressbar('value', 20);\n",
        "        } else {\n",
        "            $myPB.progressbar({value: 0, max: 21});\n",
        "        }\n",
        "        "
       ],
       "metadata": {},
       "output_type": "display_data",
       "text": [
        "<IPython.core.display.Javascript at 0x34fef28>"
       ]
      },
      {
       "javascript": [
        "$('div#f7c05097-f34c-4d72-b172-8575cf336910').text('ETA:  0:00:00');"
       ],
       "metadata": {},
       "output_type": "display_data",
       "text": [
        "<IPython.core.display.Javascript at 0x34fe320>"
       ]
      },
      {
       "javascript": [
        "$('div#87dc0e98-5b46-42a0-9052-5748774c22c5').text('21 of 21');"
       ],
       "metadata": {},
       "output_type": "display_data",
       "text": [
        "<IPython.core.display.Javascript at 0x34fe668>"
       ]
      },
      {
       "javascript": [
        "$('div#36ab31fb-022b-4cd1-b23a-ac1b230e3438').text('100%');"
       ],
       "metadata": {},
       "output_type": "display_data",
       "text": [
        "<IPython.core.display.Javascript at 0x34fe668>"
       ]
      },
      {
       "javascript": [
        "\n",
        "        var $myPB = $(\"div#4e0b4d30-d10a-4a71-b41d-215ede913e5e\")\n",
        "        if ($myPB.hasClass('ui-progressbar')) {\n",
        "            $myPB.progressbar('value', 21);\n",
        "        } else {\n",
        "            $myPB.progressbar({value: 0, max: 21});\n",
        "        }\n",
        "        "
       ],
       "metadata": {},
       "output_type": "display_data",
       "text": [
        "<IPython.core.display.Javascript at 0x34fea20>"
       ]
      },
      {
       "javascript": [
        "$('div#f7c05097-f34c-4d72-b172-8575cf336910').text('ETA:  0:00:00');"
       ],
       "metadata": {},
       "output_type": "display_data",
       "text": [
        "<IPython.core.display.Javascript at 0x34fe630>"
       ]
      },
      {
       "javascript": [
        "$('div#87dc0e98-5b46-42a0-9052-5748774c22c5').text('21 of 21');"
       ],
       "metadata": {},
       "output_type": "display_data",
       "text": [
        "<IPython.core.display.Javascript at 0x1f6f1d68>"
       ]
      },
      {
       "javascript": [
        "$('div#36ab31fb-022b-4cd1-b23a-ac1b230e3438').text('100%');"
       ],
       "metadata": {},
       "output_type": "display_data",
       "text": [
        "<IPython.core.display.Javascript at 0x1f6f1d68>"
       ]
      },
      {
       "javascript": [
        "\n",
        "        var $myPB = $(\"div#4e0b4d30-d10a-4a71-b41d-215ede913e5e\")\n",
        "        if ($myPB.hasClass('ui-progressbar')) {\n",
        "            $myPB.progressbar('value', 21);\n",
        "        } else {\n",
        "            $myPB.progressbar({value: 0, max: 21});\n",
        "        }\n",
        "        "
       ],
       "metadata": {},
       "output_type": "display_data",
       "text": [
        "<IPython.core.display.Javascript at 0x34fef28>"
       ]
      },
      {
       "javascript": [
        "$('div#f7c05097-f34c-4d72-b172-8575cf336910').text('Time: 0:00:00');"
       ],
       "metadata": {},
       "output_type": "display_data",
       "text": [
        "<IPython.core.display.Javascript at 0x34fea20>"
       ]
      },
      {
       "javascript": [
        "var element = document.getElementById('d9cdd386-8ce7-4839-9e37-873292653101');\n",
        "                    var parent = element.parentNode\n",
        "                    parent.removeChild(element);\n",
        "                    parent.parentElement.remove();"
       ],
       "metadata": {},
       "output_type": "display_data",
       "text": [
        "<IPython.core.display.Javascript at 0x1f6f1550>"
       ]
      },
      {
       "javascript": [
        "this.cleanProgressBar(['d9cdd386-8ce7-4839-9e37-873292653101', '87dc0e98-5b46-42a0-9052-5748774c22c5', '36ab31fb-022b-4cd1-b23a-ac1b230e3438', '4e0b4d30-d10a-4a71-b41d-215ede913e5e', 'f7c05097-f34c-4d72-b172-8575cf336910'])"
       ],
       "metadata": {},
       "output_type": "display_data",
       "text": [
        "<IPython.core.display.Javascript at 0x1f6f1550>"
       ]
      }
     ],
     "prompt_number": 16
    },
    {
     "cell_type": "code",
     "collapsed": false,
     "input": [
      "print tagged_sentences[4]"
     ],
     "language": "python",
     "metadata": {},
     "outputs": [
      {
       "output_type": "stream",
       "stream": "stdout",
       "text": [
        "[('Afghanistan', 'NPLOC'), (',', ','), ('Algeria', 'NPLOC'), (',', ','), ('Bahrain', 'NPLOC'), (',', ','), ('Bangladesh', 'NPLOC'), (',', ','), ('Brunei', 'NPLOC'), ('Darussalam', 'NPLOC'), (',', ','), ('Comoros', 'NPLOC'), (',', ','), ('Cuba', 'NPLOC'), (',', ','), ('Denmark', 'NPLOC'), (',', ','), ('Egypt', 'NPLOC'), (',', ','), ('Indonesia', 'NPLOC'), (',', ','), ('Jordan', 'NPLOC'), (',', ','), ('Kuwait', 'NPLOC'), (',', ','), ('Lebanon', 'NPLOC'), (',', ','), ('Malaysia', 'NPLOC'), (',', ','), ('Malta', 'NPLOC'), (',', ','), ('Mauritania', 'NPLOC'), (',', ','), ('Morocco', 'NPLOC'), (',', ','), ('Oman', 'NPLOC'), (',', ','), ('Qatar', 'NPLOC'), (',', ','), ('Saudi', 'NPLOC'), ('Arabia', 'NPLOC'), (',', ','), ('Somalia', 'NPLOC'), (',', ','), ('South', 'NPLOC'), ('Africa', 'NPLOC'), (',', ','), ('Sudan', 'NPLOC'), (',', ','), ('Tunisia', 'NPLOC'), (',', ','), ('United', 'NPLOC'), ('Arab', 'NPLOC'), ('Emirates', 'NPLOC'), (',', ','), ('Yemen', 'NPLOC'), ('and', 'CC'), ('Palestine', 'NPLOC'), ('draft', 'NN'), ('resolution', 'NN')]\n"
       ]
      }
     ],
     "prompt_number": 17
    },
    {
     "cell_type": "code",
     "collapsed": false,
     "input": [
      "\n",
      "for ts in tagged_sentences:\n",
      "    print ts\n",
      "    chunks = chunker.parse(ts)\n",
      "    print chunks"
     ],
     "language": "python",
     "metadata": {},
     "outputs": [
      {
       "output_type": "stream",
       "stream": "stdout",
       "text": [
        "[('Fifty-sixth', 'NN'), ('session', 'NN')]\n",
        "(S Fifty-sixth/NN session/NN)\n",
        "[('Second', 'OD'), ('Committee', 'NN-TL')]\n",
        "(S Second/OD Committee/NN-TL)\n",
        "[('Agenda', 'NN'), ('item', 'NN'), ('101', 'CD')]\n",
        "(S Agenda/NN item/NN 101/CD)\n",
        "[('Permanent', 'NN'), ('sovereignty', 'NN'), ('of', 'IN'), ('the', 'AT'), ('Palestinian', 'NPLOC'), ('people', 'NNS'), ('in', 'IN'), ('the', 'AT'), ('Occupied', 'NPLOC'), ('Palestinian', 'NPLOC'), ('Territory', 'NPLOC'), (',', ','), ('including', 'IN'), ('Jerusalem', 'NP'), (',', ','), ('and', 'CC'), ('of', 'IN'), ('the', 'AT'), ('Arab', 'NPLOC'), ('population', 'NN'), ('in', 'IN'), ('the', 'AT'), ('occupied', 'VBN'), ('Syrian', 'NPLOC'), ('Golan', 'NN'), ('over', 'IN'), ('their', 'PP$'), ('natural', 'JJ'), ('resources', 'NNS')]\n",
        "(S\n",
        "  Permanent/NN\n",
        "  sovereignty/NN\n",
        "  of/IN\n",
        "  the/AT\n",
        "  (PNS Palestinian/NPLOC people/NNS)\n",
        "  in/IN\n",
        "  the/AT\n",
        "  (PNS Occupied/NPLOC Palestinian/NPLOC Territory/NPLOC)\n",
        "  ,/,\n",
        "  including/IN\n",
        "  (PNS Jerusalem/NP)\n",
        "  ,/,\n",
        "  and/CC\n",
        "  of/IN\n",
        "  the/AT\n",
        "  (PNS Arab/NPLOC population/NN)\n",
        "  in/IN\n",
        "  the/AT\n",
        "  (PNS occupied/VBN Syrian/NPLOC)\n",
        "  Golan/NN\n",
        "  over/IN\n",
        "  their/PP$\n",
        "  natural/JJ\n",
        "  resources/NNS)\n",
        "[('Afghanistan', 'NPLOC'), (',', ','), ('Algeria', 'NPLOC'), (',', ','), ('Bahrain', 'NPLOC'), (',', ','), ('Bangladesh', 'NPLOC'), (',', ','), ('Brunei', 'NPLOC'), ('Darussalam', 'NPLOC'), (',', ','), ('Comoros', 'NPLOC'), (',', ','), ('Cuba', 'NPLOC'), (',', ','), ('Denmark', 'NPLOC'), (',', ','), ('Egypt', 'NPLOC'), (',', ','), ('Indonesia', 'NPLOC'), (',', ','), ('Jordan', 'NPLOC'), (',', ','), ('Kuwait', 'NPLOC'), (',', ','), ('Lebanon', 'NPLOC'), (',', ','), ('Malaysia', 'NPLOC'), (',', ','), ('Malta', 'NPLOC'), (',', ','), ('Mauritania', 'NPLOC'), (',', ','), ('Morocco', 'NPLOC'), (',', ','), ('Oman', 'NPLOC'), (',', ','), ('Qatar', 'NPLOC'), (',', ','), ('Saudi', 'NPLOC'), ('Arabia', 'NPLOC'), (',', ','), ('Somalia', 'NPLOC'), (',', ','), ('South', 'NPLOC'), ('Africa', 'NPLOC'), (',', ','), ('Sudan', 'NPLOC'), (',', ','), ('Tunisia', 'NPLOC'), (',', ','), ('United', 'NPLOC'), ('Arab', 'NPLOC'), ('Emirates', 'NPLOC'), (',', ','), ('Yemen', 'NPLOC'), ('and', 'CC'), ('Palestine', 'NPLOC'), ('draft', 'NN'), ('resolution', 'NN')]\n",
        "(S\n",
        "  (PNS Afghanistan/NPLOC)\n",
        "  ,/,\n",
        "  (PNS Algeria/NPLOC)\n",
        "  ,/,\n",
        "  (PNS Bahrain/NPLOC)\n",
        "  ,/,\n",
        "  (PNS Bangladesh/NPLOC)\n",
        "  ,/,\n",
        "  (PNS Brunei/NPLOC Darussalam/NPLOC)\n",
        "  ,/,\n",
        "  (PNS Comoros/NPLOC)\n",
        "  ,/,\n",
        "  (PNS Cuba/NPLOC)\n",
        "  ,/,\n",
        "  (PNS Denmark/NPLOC)\n",
        "  ,/,\n",
        "  (PNS Egypt/NPLOC)\n",
        "  ,/,\n",
        "  (PNS Indonesia/NPLOC)\n",
        "  ,/,\n",
        "  (PNS Jordan/NPLOC)\n",
        "  ,/,\n",
        "  (PNS Kuwait/NPLOC)\n",
        "  ,/,\n",
        "  (PNS Lebanon/NPLOC)\n",
        "  ,/,\n",
        "  (PNS Malaysia/NPLOC)\n",
        "  ,/,\n",
        "  (PNS Malta/NPLOC)\n",
        "  ,/,\n",
        "  (PNS Mauritania/NPLOC)\n",
        "  ,/,\n",
        "  (PNS Morocco/NPLOC)\n",
        "  ,/,\n",
        "  (PNS Oman/NPLOC)\n",
        "  ,/,\n",
        "  (PNS Qatar/NPLOC)\n",
        "  ,/,\n",
        "  (PNS Saudi/NPLOC Arabia/NPLOC)\n",
        "  ,/,\n",
        "  (PNS Somalia/NPLOC)\n",
        "  ,/,\n",
        "  (PNS South/NPLOC Africa/NPLOC)\n",
        "  ,/,\n",
        "  (PNS Sudan/NPLOC)\n",
        "  ,/,\n",
        "  (PNS Tunisia/NPLOC)\n",
        "  ,/,\n",
        "  (PNS United/NPLOC Arab/NPLOC Emirates/NPLOC)\n",
        "  ,/,\n",
        "  (PNS Yemen/NPLOC)\n",
        "  and/CC\n",
        "  (PNS Palestine/NPLOC draft/NN resolution/NN))\n",
        "[('Permanent', 'NN'), ('sovereignty', 'NN'), ('of', 'IN'), ('the', 'AT'), ('Palestinian', 'NPLOC'), ('people', 'NNS'), ('in', 'IN'), ('the', 'AT'), ('Occupied', 'NPLOC'), ('Palestinian', 'NPLOC'), ('Territory', 'NPLOC'), (',', ','), ('including', 'IN'), ('Jerusalem', 'NP'), (',', ','), ('and', 'CC'), ('of', 'IN'), ('the', 'AT'), ('Arab', 'NPLOC'), ('population', 'NN'), ('in', 'IN'), ('the', 'AT'), ('occupied', 'VBN'), ('Syrian', 'NPLOC'), ('Golan', 'NN'), ('over', 'IN'), ('their', 'PP$'), ('natural', 'JJ'), ('resources', 'NNS')]\n",
        "(S\n",
        "  Permanent/NN\n",
        "  sovereignty/NN\n",
        "  of/IN\n",
        "  the/AT\n",
        "  (PNS Palestinian/NPLOC people/NNS)\n",
        "  in/IN\n",
        "  the/AT\n",
        "  (PNS Occupied/NPLOC Palestinian/NPLOC Territory/NPLOC)\n",
        "  ,/,\n",
        "  including/IN\n",
        "  (PNS Jerusalem/NP)\n",
        "  ,/,\n",
        "  and/CC\n",
        "  of/IN\n",
        "  the/AT\n",
        "  (PNS Arab/NPLOC population/NN)\n",
        "  in/IN\n",
        "  the/AT\n",
        "  (PNS occupied/VBN Syrian/NPLOC)\n",
        "  Golan/NN\n",
        "  over/IN\n",
        "  their/PP$\n",
        "  natural/JJ\n",
        "  resources/NNS)\n",
        "[('The', 'AT'), ('General', 'JJ-TL'), ('Assembly', 'NN-TL'), (',', ',')]\n",
        "(S The/AT General/JJ-TL Assembly/NN-TL ,/,)\n",
        "[('Recalling', 'NN'), ('its', 'PP$'), ('resolution', 'NN'), ('55', 'CD'), ('209', 'NN'), ('of', 'IN'), ('20', 'CD'), ('December', 'NP'), ('2000', 'CD'), ('and', 'CC'), ('Economic', 'JJ-TL'), ('and', 'CC'), ('Social', 'JJ-TL'), ('Council', 'NN-TL'), ('resolution', 'NN'), ('2001', 'NN'), ('19', 'CD'), ('of', 'IN'), ('25', 'CD'), ('July', 'NP'), ('2001', 'NN'), (',', ',')]\n",
        "(S\n",
        "  Recalling/NN\n",
        "  its/PP$\n",
        "  resolution/NN\n",
        "  55/CD\n",
        "  209/NN\n",
        "  of/IN\n",
        "  20/CD\n",
        "  (PNS December/NP 2000/CD)\n",
        "  and/CC\n",
        "  Economic/JJ-TL\n",
        "  and/CC\n",
        "  Social/JJ-TL\n",
        "  Council/NN-TL\n",
        "  resolution/NN\n",
        "  2001/NN\n",
        "  19/CD\n",
        "  of/IN\n",
        "  25/CD\n",
        "  (PNS July/NP 2001/NN)\n",
        "  ,/,)\n",
        "[('Reaffirming', 'NN'), ('the', 'AT'), ('principle', 'NN'), ('of', 'IN'), ('the', 'AT'), ('permanent', 'JJ'), ('sovereignty', 'NN'), ('of', 'IN'), ('peoples', 'NNS'), ('under', 'IN'), ('foreign', 'JJ'), ('occupation', 'NN'), ('over', 'IN'), ('their', 'PP$'), ('natural', 'JJ'), ('resources', 'NNS'), (',', ',')]\n",
        "(S\n",
        "  Reaffirming/NN\n",
        "  the/AT\n",
        "  principle/NN\n",
        "  of/IN\n",
        "  the/AT\n",
        "  permanent/JJ\n",
        "  sovereignty/NN\n",
        "  of/IN\n",
        "  peoples/NNS\n",
        "  under/IN\n",
        "  foreign/JJ\n",
        "  occupation/NN\n",
        "  over/IN\n",
        "  their/PP$\n",
        "  natural/JJ\n",
        "  resources/NNS\n",
        "  ,/,)\n",
        "[('Guided', 'NN'), ('by', 'IN'), ('the', 'AT'), ('principles', 'NNS'), ('of', 'IN'), ('the', 'AT'), ('Charter', 'NN-TL'), ('of', 'IN-TL'), ('the', 'AT-TL'), ('United', 'NPLOC'), ('Nations', 'NPORG'), (',', ','), ('affirming', 'VBG'), ('the', 'AT'), ('inadmissibility', 'NN'), ('of', 'IN'), ('the', 'AT'), ('acquisition', 'NN'), ('of', 'IN'), ('territory', 'NN'), ('by', 'IN'), ('force', 'NN'), (',', ','), ('and', 'CC'), ('recalling', 'VBG'), ('Security', 'NN-TL'), ('Council', 'NN-TL'), ('resolutions', 'NNS'), (',', ','), ('including', 'IN'), ('resolutions', 'NNS'), ('242', 'NN'), ('1967', 'CD'), ('of', 'IN'), ('22', 'CD'), ('November', 'NP'), ('1967', 'CD'), (',', ','), ('465', 'NN'), ('1980', 'CD'), ('of', 'IN'), ('1', 'CD'), ('March', 'NP'), ('1980', 'CD'), ('and', 'CC'), ('497', 'NN'), ('1981', 'CD'), ('of', 'IN'), ('17', 'CD'), ('December', 'NP'), ('1981', 'CD'), (',', ',')]\n",
        "(S\n",
        "  Guided/NN\n",
        "  by/IN\n",
        "  the/AT\n",
        "  principles/NNS\n",
        "  of/IN\n",
        "  the/AT\n",
        "  Charter/NN-TL\n",
        "  of/IN-TL\n",
        "  the/AT-TL\n",
        "  (PNS United/NPLOC Nations/NPORG)\n",
        "  ,/,\n",
        "  affirming/VBG\n",
        "  the/AT\n",
        "  inadmissibility/NN\n",
        "  of/IN\n",
        "  the/AT\n",
        "  acquisition/NN\n",
        "  of/IN\n",
        "  territory/NN\n",
        "  by/IN\n",
        "  force/NN\n",
        "  ,/,\n",
        "  and/CC\n",
        "  recalling/VBG\n",
        "  Security/NN-TL\n",
        "  Council/NN-TL\n",
        "  resolutions/NNS\n",
        "  ,/,\n",
        "  including/IN\n",
        "  resolutions/NNS\n",
        "  242/NN\n",
        "  1967/CD\n",
        "  of/IN\n",
        "  22/CD\n",
        "  (PNS November/NP 1967/CD)\n",
        "  ,/,\n",
        "  465/NN\n",
        "  1980/CD\n",
        "  of/IN\n",
        "  1/CD\n",
        "  (PNS March/NP 1980/CD)\n",
        "  and/CC\n",
        "  497/NN\n",
        "  1981/CD\n",
        "  of/IN\n",
        "  17/CD\n",
        "  (PNS December/NP 1981/CD)\n",
        "  ,/,)\n",
        "[('Reaffirming', 'NN'), ('the', 'AT'), ('applicability', 'NN'), ('of', 'IN'), ('the', 'AT'), ('fourth', 'OD'), ('Geneva', 'NP'), ('Convention', 'NN-TL'), ('relative', 'JJ'), ('to', 'TO'), ('the', 'AT'), ('Protection', 'NN-HL'), ('of', 'IN-HL'), ('Civilian', 'JJ-TL'), ('Persons', 'NNS'), ('in', 'IN'), ('Time', 'NN-TL'), ('of', 'IN-TL'), ('War', 'NN-TL'), (',', ','), ('of', 'IN'), ('12', 'CD'), ('August', 'NP'), ('1949', 'CD'), (',', ','), ('to', 'TO'), ('the', 'AT'), ('Occupied', 'NPLOC'), ('Palestinian', 'NPLOC'), ('Territory', 'NPLOC'), (',', ','), ('including', 'IN'), ('Jerusalem', 'NP'), (',', ','), ('and', 'CC'), ('other', 'AP'), ('Arab', 'NPLOC'), ('territories', 'NNS'), ('occupied', 'VBD'), ('by', 'IN'), ('Israel', 'NPLOC'), ('since', 'CS'), ('1967', 'CD'), (',', ',')]\n",
        "(S\n",
        "  Reaffirming/NN\n",
        "  the/AT\n",
        "  applicability/NN\n",
        "  of/IN\n",
        "  the/AT\n",
        "  fourth/OD\n",
        "  (PNS Geneva/NP Convention/NN-TL)\n",
        "  relative/JJ\n",
        "  to/TO\n",
        "  the/AT\n",
        "  Protection/NN-HL\n",
        "  of/IN-HL\n",
        "  Civilian/JJ-TL\n",
        "  Persons/NNS\n",
        "  in/IN\n",
        "  Time/NN-TL\n",
        "  of/IN-TL\n",
        "  War/NN-TL\n",
        "  ,/,\n",
        "  of/IN\n",
        "  12/CD\n",
        "  (PNS August/NP 1949/CD)\n",
        "  ,/,\n",
        "  to/TO\n",
        "  the/AT\n",
        "  (PNS Occupied/NPLOC Palestinian/NPLOC Territory/NPLOC)\n",
        "  ,/,\n",
        "  including/IN\n",
        "  (PNS Jerusalem/NP)\n",
        "  ,/,\n",
        "  and/CC\n",
        "  other/AP\n",
        "  (PNS Arab/NPLOC territories/NNS)\n",
        "  occupied/VBD\n",
        "  by/IN\n",
        "  (PNS Israel/NPLOC)\n",
        "  since/CS\n",
        "  1967/CD\n",
        "  ,/,)\n",
        "[('Expressing', 'NN'), ('its', 'PP$'), ('concern', 'NN'), ('at', 'IN'), ('the', 'AT'), ('exploitation', 'NN'), ('by', 'IN'), ('Israel', 'NPLOC'), (',', ','), ('the', 'AT'), ('occupying', 'VBG'), ('Power', 'NN-TL'), (',', ','), ('of', 'IN'), ('the', 'AT'), ('natural', 'JJ'), ('resources', 'NNS'), ('of', 'IN'), ('the', 'AT'), ('Occupied', 'NPLOC'), ('Palestinian', 'NPLOC'), ('Territory', 'NPLOC'), (',', ','), ('including', 'IN'), ('Jerusalem', 'NP'), (',', ','), ('and', 'CC'), ('other', 'AP'), ('Arab', 'NPLOC'), ('territories', 'NNS'), ('occupied', 'VBD'), ('by', 'IN'), ('Israel', 'NPLOC'), ('since', 'CS'), ('1967', 'CD'), (',', ',')]\n",
        "(S\n",
        "  Expressing/NN\n",
        "  its/PP$\n",
        "  concern/NN\n",
        "  at/IN\n",
        "  the/AT\n",
        "  (PNS exploitation/NN by/IN Israel/NPLOC)\n",
        "  ,/,\n",
        "  the/AT\n",
        "  occupying/VBG\n",
        "  Power/NN-TL\n",
        "  ,/,\n",
        "  of/IN\n",
        "  the/AT\n",
        "  natural/JJ\n",
        "  resources/NNS\n",
        "  of/IN\n",
        "  the/AT\n",
        "  (PNS Occupied/NPLOC Palestinian/NPLOC Territory/NPLOC)\n",
        "  ,/,\n",
        "  including/IN\n",
        "  (PNS Jerusalem/NP)\n",
        "  ,/,\n",
        "  and/CC\n",
        "  other/AP\n",
        "  (PNS Arab/NPLOC territories/NNS)\n",
        "  occupied/VBD\n",
        "  by/IN\n",
        "  (PNS Israel/NPLOC)\n",
        "  since/CS\n",
        "  1967/CD\n",
        "  ,/,)\n",
        "[('Aware', 'NN'), ('of', 'IN'), ('the', 'AT'), ('additional', 'JJ'), ('detrimental', 'JJ'), ('economic', 'JJ'), ('and', 'CC'), ('social', 'JJ'), ('impact', 'NN'), ('of', 'IN'), ('the', 'AT'), ('Israeli', 'NPLOC'), ('settlements', 'NNS'), ('on', 'IN'), ('Palestinian', 'NPLOC'), ('and', 'CC'), ('other', 'AP'), ('Arab', 'NPLOC'), ('natural', 'JJ'), ('resources', 'NNS'), (',', ','), ('especially', 'RB'), ('the', 'AT'), ('confiscation', 'NN'), ('of', 'IN'), ('land', 'NN'), ('and', 'CC'), ('the', 'AT'), ('forced', 'VBN'), ('diversion', 'NN'), ('of', 'IN'), ('water', 'NN'), ('resources', 'NNS'), (',', ',')]\n",
        "(S\n",
        "  Aware/NN\n",
        "  of/IN\n",
        "  the/AT\n",
        "  additional/JJ\n",
        "  detrimental/JJ\n",
        "  economic/JJ\n",
        "  and/CC\n",
        "  social/JJ\n",
        "  impact/NN\n",
        "  of/IN\n",
        "  the/AT\n",
        "  (PNS Israeli/NPLOC settlements/NNS on/IN Palestinian/NPLOC)\n",
        "  and/CC\n",
        "  other/AP\n",
        "  (PNS Arab/NPLOC)\n",
        "  natural/JJ\n",
        "  resources/NNS\n",
        "  ,/,\n",
        "  especially/RB\n",
        "  the/AT\n",
        "  confiscation/NN\n",
        "  of/IN\n",
        "  land/NN\n",
        "  and/CC\n",
        "  the/AT\n",
        "  forced/VBN\n",
        "  diversion/NN\n",
        "  of/IN\n",
        "  water/NN\n",
        "  resources/NNS\n",
        "  ,/,)\n",
        "[('Reaffirming', 'NN'), ('the', 'AT'), ('need', 'NN'), ('for', 'IN'), ('an', 'AT'), ('immediate', 'JJ'), ('resumption', 'NN'), ('of', 'IN'), ('negotiations', 'NNS'), ('within', 'IN'), ('the', 'AT'), ('Middle', 'JJ-TL'), ('East', 'NPLOC'), ('peace', 'NN'), ('process', 'NN'), (',', ','), ('on', 'IN'), ('the', 'AT'), ('basis', 'NN'), ('of', 'IN'), ('Security', 'NN-TL'), ('Council', 'NN-TL'), ('resolutions', 'NNS'), ('242', 'NN'), ('1967', 'CD'), ('of', 'IN'), ('22', 'CD'), ('November', 'NP'), ('1967', 'CD'), (',', ','), ('338', 'NN'), ('1973', 'NN'), ('of', 'IN'), ('22', 'CD'), ('October', 'NP'), ('1973', 'NN'), ('and', 'CC'), ('425', 'NN'), ('1978', 'NN'), ('of', 'IN'), ('19', 'CD-TL'), ('March', 'NP'), ('1978', 'NN'), ('and', 'CC'), ('the', 'AT'), ('principle', 'NN'), ('of', 'IN'), ('land', 'NN'), ('for', 'IN'), ('peace', 'NN'), (',', ','), ('and', 'CC'), ('for', 'IN'), ('the', 'AT'), ('achievement', 'NN'), ('of', 'IN'), ('a', 'AT'), ('final', 'JJ'), ('settlement', 'NN'), ('on', 'IN'), ('all', 'ABN'), ('tracks', 'NNS'), (',', ',')]\n",
        "(S\n",
        "  Reaffirming/NN\n",
        "  the/AT\n",
        "  need/NN\n",
        "  for/IN\n",
        "  an/AT\n",
        "  immediate/JJ\n",
        "  resumption/NN\n",
        "  of/IN\n",
        "  negotiations/NNS\n",
        "  within/IN\n",
        "  the/AT\n",
        "  (PNS Middle/JJ-TL East/NPLOC)\n",
        "  peace/NN\n",
        "  process/NN\n",
        "  ,/,\n",
        "  on/IN\n",
        "  the/AT\n",
        "  basis/NN\n",
        "  of/IN\n",
        "  Security/NN-TL\n",
        "  Council/NN-TL\n",
        "  resolutions/NNS\n",
        "  242/NN\n",
        "  1967/CD\n",
        "  of/IN\n",
        "  22/CD\n",
        "  (PNS November/NP 1967/CD)\n",
        "  ,/,\n",
        "  338/NN\n",
        "  1973/NN\n",
        "  of/IN\n",
        "  22/CD\n",
        "  (PNS October/NP 1973/NN)\n",
        "  and/CC\n",
        "  425/NN\n",
        "  1978/NN\n",
        "  of/IN\n",
        "  19/CD-TL\n",
        "  (PNS March/NP 1978/NN)\n",
        "  and/CC\n",
        "  the/AT\n",
        "  principle/NN\n",
        "  of/IN\n",
        "  land/NN\n",
        "  for/IN\n",
        "  peace/NN\n",
        "  ,/,\n",
        "  and/CC\n",
        "  for/IN\n",
        "  the/AT\n",
        "  achievement/NN\n",
        "  of/IN\n",
        "  a/AT\n",
        "  final/JJ\n",
        "  settlement/NN\n",
        "  on/IN\n",
        "  all/ABN\n",
        "  tracks/NNS\n",
        "  ,/,)\n",
        "[('Takes', 'NN'), ('note', 'NN'), ('of', 'IN'), ('the', 'AT'), ('report', 'NN'), ('of', 'IN'), ('the', 'AT'), ('Secretary-General', 'NN-TL'), (';', '.')]\n",
        "(S\n",
        "  Takes/NN\n",
        "  note/NN\n",
        "  of/IN\n",
        "  the/AT\n",
        "  report/NN\n",
        "  of/IN\n",
        "  the/AT\n",
        "  Secretary-General/NN-TL\n",
        "  ;/.)\n",
        "[('Reaffirms', 'NN'), ('the', 'AT'), ('inalienable', 'JJ'), ('rights', 'NNS'), ('of', 'IN'), ('the', 'AT'), ('Palestinian', 'NPLOC'), ('people', 'NNS'), ('and', 'CC'), ('the', 'AT'), ('population', 'NN'), ('of', 'IN'), ('the', 'AT'), ('occupied', 'VBN'), ('Syrian', 'NPLOC'), ('Golan', 'NN'), ('over', 'IN'), ('their', 'PP$'), ('natural', 'JJ'), ('resources', 'NNS'), (',', ','), ('including', 'IN'), ('land', 'NN'), ('and', 'CC'), ('water', 'NN'), (';', '.')]\n",
        "(S\n",
        "  Reaffirms/NN\n",
        "  the/AT\n",
        "  inalienable/JJ\n",
        "  rights/NNS\n",
        "  of/IN\n",
        "  the/AT\n",
        "  (PNS Palestinian/NPLOC people/NNS)\n",
        "  and/CC\n",
        "  the/AT\n",
        "  population/NN\n",
        "  of/IN\n",
        "  the/AT\n",
        "  (PNS occupied/VBN Syrian/NPLOC)\n",
        "  Golan/NN\n",
        "  over/IN\n",
        "  their/PP$\n",
        "  natural/JJ\n",
        "  resources/NNS\n",
        "  ,/,\n",
        "  including/IN\n",
        "  land/NN\n",
        "  and/CC\n",
        "  water/NN\n",
        "  ;/.)\n",
        "[('Calls', 'VBZ-HL'), ('upon', 'IN'), ('Israel', 'NPLOC'), (',', ','), ('the', 'AT'), ('occupying', 'VBG'), ('Power', 'NN-TL'), (',', ','), ('not', '*'), ('to', 'TO'), ('exploit', 'VB'), (',', ','), ('to', 'TO'), ('cause', 'VB'), ('loss', 'NN'), ('or', 'CC'), ('depletion', 'NN'), ('of', 'IN'), ('or', 'CC'), ('to', 'TO'), ('endanger', 'VB'), ('the', 'AT'), ('natural', 'JJ'), ('resources', 'NNS'), ('in', 'IN'), ('the', 'AT'), ('Occupied', 'NPLOC'), ('Palestinian', 'NPLOC'), ('Territory', 'NPLOC'), (',', ','), ('including', 'IN'), ('Jerusalem', 'NP'), (',', ','), ('and', 'CC'), ('in', 'IN'), ('the', 'AT'), ('occupied', 'VBN'), ('Syrian', 'NPLOC'), ('Golan', 'NN'), (';', '.')]\n",
        "(S\n",
        "  Calls/VBZ-HL\n",
        "  upon/IN\n",
        "  (PNS Israel/NPLOC)\n",
        "  ,/,\n",
        "  the/AT\n",
        "  occupying/VBG\n",
        "  Power/NN-TL\n",
        "  ,/,\n",
        "  not/*\n",
        "  to/TO\n",
        "  exploit/VB\n",
        "  ,/,\n",
        "  to/TO\n",
        "  cause/VB\n",
        "  loss/NN\n",
        "  or/CC\n",
        "  depletion/NN\n",
        "  of/IN\n",
        "  or/CC\n",
        "  to/TO\n",
        "  endanger/VB\n",
        "  the/AT\n",
        "  natural/JJ\n",
        "  resources/NNS\n",
        "  in/IN\n",
        "  the/AT\n",
        "  (PNS Occupied/NPLOC Palestinian/NPLOC Territory/NPLOC)\n",
        "  ,/,\n",
        "  including/IN\n",
        "  (PNS Jerusalem/NP)\n",
        "  ,/,\n",
        "  and/CC\n",
        "  in/IN\n",
        "  the/AT\n",
        "  (PNS occupied/VBN Syrian/NPLOC)\n",
        "  Golan/NN\n",
        "  ;/.)\n",
        "[('Recognizes', 'NN'), ('the', 'AT'), ('right', 'JJ'), ('of', 'IN'), ('the', 'AT'), ('Palestinian', 'NPLOC'), ('people', 'NNS'), ('to', 'TO'), ('claim', 'VB'), ('restitution', 'NN'), ('as', 'CS'), ('a', 'AT'), ('result', 'NN'), ('of', 'IN'), ('any', 'DTI'), ('exploitation', 'NN'), (',', ','), ('loss', 'NN'), ('or', 'CC'), ('depletion', 'NN'), ('of', 'IN'), (',', ','), ('or', 'CC'), ('danger', 'NN'), ('to', 'IN'), (',', ','), ('their', 'PP$'), ('natural', 'JJ'), ('resources', 'NNS'), (',', ','), ('and', 'CC'), ('expresses', 'VBZ'), ('the', 'AT'), ('hope', 'NN'), ('that', 'CS'), ('this', 'DT'), ('issue', 'NN'), ('will', 'MD'), ('be', 'BE'), ('dealt', 'VBN'), ('with', 'IN'), ('in', 'IN'), ('the', 'AT'), ('framework', 'NN'), ('of', 'IN'), ('the', 'AT'), ('final', 'JJ'), ('status', 'NN'), ('negotiations', 'NNS'), ('between', 'IN'), ('the', 'AT'), ('Palestinian', 'NPLOC'), ('and', 'CC'), ('Israeli', 'NPLOC'), ('sides', 'NNS'), (';', '.')]\n",
        "(S\n",
        "  Recognizes/NN\n",
        "  the/AT\n",
        "  right/JJ\n",
        "  of/IN\n",
        "  the/AT\n",
        "  (PNS Palestinian/NPLOC people/NNS)\n",
        "  to/TO\n",
        "  claim/VB\n",
        "  restitution/NN\n",
        "  as/CS\n",
        "  a/AT\n",
        "  result/NN\n",
        "  of/IN\n",
        "  any/DTI\n",
        "  exploitation/NN\n",
        "  ,/,\n",
        "  loss/NN\n",
        "  or/CC\n",
        "  depletion/NN\n",
        "  of/IN\n",
        "  ,/,\n",
        "  or/CC\n",
        "  danger/NN\n",
        "  to/IN\n",
        "  ,/,\n",
        "  their/PP$\n",
        "  natural/JJ\n",
        "  resources/NNS\n",
        "  ,/,\n",
        "  and/CC\n",
        "  expresses/VBZ\n",
        "  the/AT\n",
        "  hope/NN\n",
        "  that/CS\n",
        "  this/DT\n",
        "  issue/NN\n",
        "  will/MD\n",
        "  be/BE\n",
        "  dealt/VBN\n",
        "  with/IN\n",
        "  in/IN\n",
        "  the/AT\n",
        "  framework/NN\n",
        "  of/IN\n",
        "  the/AT\n",
        "  final/JJ\n",
        "  status/NN\n",
        "  negotiations/NNS\n",
        "  between/IN\n",
        "  the/AT\n",
        "  (PNS Palestinian/NPLOC)\n",
        "  and/CC\n",
        "  (PNS Israeli/NPLOC sides/NNS)\n",
        "  ;/.)\n",
        "[('Requests', 'NNS'), ('the', 'AT'), ('Secretary-General', 'NN-TL'), ('to', 'TO'), ('report', 'VB'), ('to', 'TO'), ('it', 'PPO'), ('at', 'IN'), ('its', 'PP$'), ('fifty-seventh', 'NN'), ('session', 'NN'), ('on', 'IN'), ('the', 'AT'), ('implementation', 'NN'), ('of', 'IN'), ('the', 'AT'), ('present', 'JJ'), ('resolution', 'NN'), (',', ','), ('and', 'CC'), ('decides', 'VBZ'), ('to', 'TO'), ('include', 'VB'), ('in', 'IN'), ('the', 'AT'), ('agenda', 'NN'), ('of', 'IN'), ('its', 'PP$'), ('fifty-seventh', 'NN'), ('session', 'NN'), ('the', 'AT'), ('item', 'NN'), ('entitled', 'VBN'), ('Permanent', 'NN'), ('sovereignty', 'NN'), ('of', 'IN'), ('the', 'AT'), ('Palestinian', 'NPLOC'), ('people', 'NNS'), ('in', 'IN'), ('the', 'AT'), ('Occupied', 'NPLOC'), ('Palestinian', 'NPLOC'), ('Territory', 'NPLOC'), (',', ','), ('including', 'IN'), ('Jerusalem', 'NP'), (',', ','), ('and', 'CC'), ('of', 'IN'), ('the', 'AT'), ('Arab', 'NPLOC'), ('population', 'NN'), ('in', 'IN'), ('the', 'AT'), ('occupied', 'VBN'), ('Syrian', 'NPLOC'), ('Golan', 'NN'), ('over', 'IN'), ('their', 'PP$'), ('natural', 'JJ'), ('resources', 'NNS'), ('.', '.')]\n",
        "(S\n",
        "  Requests/NNS\n",
        "  the/AT\n",
        "  Secretary-General/NN-TL\n",
        "  to/TO\n",
        "  report/VB\n",
        "  to/TO\n",
        "  it/PPO\n",
        "  at/IN\n",
        "  its/PP$\n",
        "  fifty-seventh/NN\n",
        "  session/NN\n",
        "  on/IN\n",
        "  the/AT\n",
        "  implementation/NN\n",
        "  of/IN\n",
        "  the/AT\n",
        "  present/JJ\n",
        "  resolution/NN\n",
        "  ,/,\n",
        "  and/CC\n",
        "  decides/VBZ\n",
        "  to/TO\n",
        "  include/VB\n",
        "  in/IN\n",
        "  the/AT\n",
        "  agenda/NN\n",
        "  of/IN\n",
        "  its/PP$\n",
        "  fifty-seventh/NN\n",
        "  session/NN\n",
        "  the/AT\n",
        "  item/NN\n",
        "  entitled/VBN\n",
        "  Permanent/NN\n",
        "  sovereignty/NN\n",
        "  of/IN\n",
        "  the/AT\n",
        "  (PNS Palestinian/NPLOC people/NNS)\n",
        "  in/IN\n",
        "  the/AT\n",
        "  (PNS Occupied/NPLOC Palestinian/NPLOC Territory/NPLOC)\n",
        "  ,/,\n",
        "  including/IN\n",
        "  (PNS Jerusalem/NP)\n",
        "  ,/,\n",
        "  and/CC\n",
        "  of/IN\n",
        "  the/AT\n",
        "  (PNS Arab/NPLOC population/NN)\n",
        "  in/IN\n",
        "  the/AT\n",
        "  (PNS occupied/VBN Syrian/NPLOC)\n",
        "  Golan/NN\n",
        "  over/IN\n",
        "  their/PP$\n",
        "  natural/JJ\n",
        "  resources/NNS\n",
        "  ./.)\n",
        "[('In', 'IN'), ('accordance', 'NN'), ('with', 'IN'), ('General', 'NN-TL'), ('Assembly', 'NN-TL'), ('resolution', 'NN'), ('52', 'CD'), ('250', 'CD'), ('.', '.')]\n",
        "(S\n",
        "  In/IN\n",
        "  accordance/NN\n",
        "  with/IN\n",
        "  General/NN-TL\n",
        "  Assembly/NN-TL\n",
        "  resolution/NN\n",
        "  52/CD\n",
        "  250/CD\n",
        "  ./.)\n",
        "[('United', 'NPLOC'), ('Nations', 'NPORG'), (',', ','), ('Treaty', 'NN-TL'), ('Series', 'NN-TL'), (',', ','), ('vol', 'NN'), ('.', '.'), ('75', 'CD'), (',', ','), ('No', 'AT'), ('.', '.'), ('973', 'NN'), ('.', '.')]\n",
        "(S\n",
        "  (PNS United/NPLOC Nations/NPORG)\n",
        "  ,/,\n",
        "  Treaty/NN-TL\n",
        "  Series/NN-TL\n",
        "  ,/,\n",
        "  vol/NN\n",
        "  ./.\n",
        "  75/CD\n",
        "  ,/,\n",
        "  No/AT\n",
        "  ./.\n",
        "  973/NN\n",
        "  ./.)\n"
       ]
      }
     ],
     "prompt_number": 19
    },
    {
     "cell_type": "code",
     "collapsed": false,
     "input": [
      "nchunks = mun.get_chunks(tagged_sentences, chunker=chunker, target = 'PNS')\n",
      "nchunks = mun.extract_target_from_chunks(nchunks, target='PNS')\n",
      "nchunks"
     ],
     "language": "python",
     "metadata": {},
     "outputs": [
      {
       "javascript": [
        "//5f8148f3-1371-4ce5-bf9b-62c4c8e9cd1e\n",
        "$(\"head\").append(\"<style> td.pb_widget {     width: auto; } td.pb_widget_fill {     width: 100%; } table.pb {     font-family: monospace;     border: 0;     margin: 0; } table.pb tr { border: 0; } table.pb td {     white-space: nowrap;     border: 0; } div.pb {     border: 1px solid #ddd;     border-radius: 3px; } div.pb_bar {     height: 1.5em; } </style>\")"
       ],
       "metadata": {},
       "output_type": "display_data",
       "text": [
        "<IPython.core.display.Javascript at 0x1f6f1470>"
       ]
      },
      {
       "javascript": [
        "\n",
        "                  // 5f8148f3-1371-4ce5-bf9b-62c4c8e9cd1e -- used to remove this code blob in the end\n",
        "                  IPython.OutputArea.prototype.cleanProgressBar = function(uuids) {\n",
        "                      // filter by uuid-strings \n",
        "                      var myfilter = function(output) { \n",
        "                          var nuids = uuids.length;\n",
        "                          for (var i=0; i<nuids; i++) {\n",
        "                              if (output.hasOwnProperty('html')) {\n",
        "                                  if (output.html.indexOf(uuids[i]) != -1) {\n",
        "                                      return false;\n",
        "                                  }\n",
        "                              }\n",
        "                              if (output.hasOwnProperty('javascript')) {\n",
        "                                  if (output.javascript.indexOf(uuids[i]) != -1) {\n",
        "                                      return false;\n",
        "                                  }\n",
        "                              }\n",
        "                          }\n",
        "                          // keep all others\n",
        "                          return true;\n",
        "                      };\n",
        "\n",
        "                      // Filter the ouputs\n",
        "                      this.outputs = this.outputs.filter(myfilter);\n",
        "                };\n",
        "                "
       ],
       "metadata": {},
       "output_type": "display_data",
       "text": [
        "<IPython.core.display.Javascript at 0x1f6f1470>"
       ]
      },
      {
       "html": [
        "<div class=\"pb\" id=\"5f8148f3-1371-4ce5-bf9b-62c4c8e9cd1e\"><table class=\"pb ui-widget\"><tr>\n",
        "<td class=\"pb_widget\">Chunking </td>\n",
        "<td class=\"pb_widget\"><div id=\"1b02977a-440f-4efa-bf90-2e9a40dfd3d3\">0 of 21</div></td>\n",
        "<td class=\"pb_widget\"><div id=\"071d608d-c2cd-4da9-a2d1-20e445d0b1b3\">  0%</div></td>\n",
        "<td class=\"pb_widget_fill\">\n",
        "        <div class=\"pb_bar\" id=\"49301db3-75bc-4527-8dd8-3a4d135af37a\"></div>\n",
        "        <script type=\"text/javascript\">\n",
        "            $(\"div#49301db3-75bc-4527-8dd8-3a4d135af37a\").progressbar({value: 0, max: 21});\n",
        "        </script>\n",
        "        </td>\n",
        "<td class=\"pb_widget\"><div id=\"19a06954-b722-43d0-884e-613efc7166d6\">ETA:  --:--:--</div></td>\n",
        "</tr></table><div>"
       ],
       "metadata": {},
       "output_type": "display_data",
       "text": [
        "<IPython.core.display.HTML at 0x1f6f1080>"
       ]
      },
      {
       "javascript": [
        "$('div#1b02977a-440f-4efa-bf90-2e9a40dfd3d3').text('1 of 21');"
       ],
       "metadata": {},
       "output_type": "display_data",
       "text": [
        "<IPython.core.display.Javascript at 0x1f6f1780>"
       ]
      },
      {
       "javascript": [
        "$('div#071d608d-c2cd-4da9-a2d1-20e445d0b1b3').text('  4%');"
       ],
       "metadata": {},
       "output_type": "display_data",
       "text": [
        "<IPython.core.display.Javascript at 0x1f6f1198>"
       ]
      },
      {
       "javascript": [
        "\n",
        "        var $myPB = $(\"div#49301db3-75bc-4527-8dd8-3a4d135af37a\")\n",
        "        if ($myPB.hasClass('ui-progressbar')) {\n",
        "            $myPB.progressbar('value', 1);\n",
        "        } else {\n",
        "            $myPB.progressbar({value: 0, max: 21});\n",
        "        }\n",
        "        "
       ],
       "metadata": {},
       "output_type": "display_data",
       "text": [
        "<IPython.core.display.Javascript at 0x1f6f1198>"
       ]
      },
      {
       "javascript": [
        "$('div#19a06954-b722-43d0-884e-613efc7166d6').text('ETA:  0:00:00');"
       ],
       "metadata": {},
       "output_type": "display_data",
       "text": [
        "<IPython.core.display.Javascript at 0x1f6f17f0>"
       ]
      },
      {
       "javascript": [
        "$('div#1b02977a-440f-4efa-bf90-2e9a40dfd3d3').text('2 of 21');"
       ],
       "metadata": {},
       "output_type": "display_data",
       "text": [
        "<IPython.core.display.Javascript at 0x1f6f1780>"
       ]
      },
      {
       "javascript": [
        "$('div#071d608d-c2cd-4da9-a2d1-20e445d0b1b3').text('  9%');"
       ],
       "metadata": {},
       "output_type": "display_data",
       "text": [
        "<IPython.core.display.Javascript at 0x1f6f10f0>"
       ]
      },
      {
       "javascript": [
        "\n",
        "        var $myPB = $(\"div#49301db3-75bc-4527-8dd8-3a4d135af37a\")\n",
        "        if ($myPB.hasClass('ui-progressbar')) {\n",
        "            $myPB.progressbar('value', 2);\n",
        "        } else {\n",
        "            $myPB.progressbar({value: 0, max: 21});\n",
        "        }\n",
        "        "
       ],
       "metadata": {},
       "output_type": "display_data",
       "text": [
        "<IPython.core.display.Javascript at 0x1f6f10f0>"
       ]
      },
      {
       "javascript": [
        "$('div#19a06954-b722-43d0-884e-613efc7166d6').text('ETA:  0:00:00');"
       ],
       "metadata": {},
       "output_type": "display_data",
       "text": [
        "<IPython.core.display.Javascript at 0x1f6f1470>"
       ]
      },
      {
       "javascript": [
        "$('div#1b02977a-440f-4efa-bf90-2e9a40dfd3d3').text('3 of 21');"
       ],
       "metadata": {},
       "output_type": "display_data",
       "text": [
        "<IPython.core.display.Javascript at 0x1f6f1780>"
       ]
      },
      {
       "javascript": [
        "$('div#071d608d-c2cd-4da9-a2d1-20e445d0b1b3').text(' 14%');"
       ],
       "metadata": {},
       "output_type": "display_data",
       "text": [
        "<IPython.core.display.Javascript at 0x1f6f13c8>"
       ]
      },
      {
       "javascript": [
        "\n",
        "        var $myPB = $(\"div#49301db3-75bc-4527-8dd8-3a4d135af37a\")\n",
        "        if ($myPB.hasClass('ui-progressbar')) {\n",
        "            $myPB.progressbar('value', 3);\n",
        "        } else {\n",
        "            $myPB.progressbar({value: 0, max: 21});\n",
        "        }\n",
        "        "
       ],
       "metadata": {},
       "output_type": "display_data",
       "text": [
        "<IPython.core.display.Javascript at 0x1f6f1198>"
       ]
      },
      {
       "javascript": [
        "$('div#19a06954-b722-43d0-884e-613efc7166d6').text('ETA:  0:00:00');"
       ],
       "metadata": {},
       "output_type": "display_data",
       "text": [
        "<IPython.core.display.Javascript at 0x1f6f1eb8>"
       ]
      },
      {
       "javascript": [
        "$('div#1b02977a-440f-4efa-bf90-2e9a40dfd3d3').text('4 of 21');"
       ],
       "metadata": {},
       "output_type": "display_data",
       "text": [
        "<IPython.core.display.Javascript at 0x1f6f19b0>"
       ]
      },
      {
       "javascript": [
        "$('div#071d608d-c2cd-4da9-a2d1-20e445d0b1b3').text(' 19%');"
       ],
       "metadata": {},
       "output_type": "display_data",
       "text": [
        "<IPython.core.display.Javascript at 0x1f6f1080>"
       ]
      },
      {
       "javascript": [
        "\n",
        "        var $myPB = $(\"div#49301db3-75bc-4527-8dd8-3a4d135af37a\")\n",
        "        if ($myPB.hasClass('ui-progressbar')) {\n",
        "            $myPB.progressbar('value', 4);\n",
        "        } else {\n",
        "            $myPB.progressbar({value: 0, max: 21});\n",
        "        }\n",
        "        "
       ],
       "metadata": {},
       "output_type": "display_data",
       "text": [
        "<IPython.core.display.Javascript at 0x1f6f10f0>"
       ]
      },
      {
       "javascript": [
        "$('div#19a06954-b722-43d0-884e-613efc7166d6').text('ETA:  0:00:00');"
       ],
       "metadata": {},
       "output_type": "display_data",
       "text": [
        "<IPython.core.display.Javascript at 0x1f6f10f0>"
       ]
      },
      {
       "javascript": [
        "$('div#1b02977a-440f-4efa-bf90-2e9a40dfd3d3').text('5 of 21');"
       ],
       "metadata": {},
       "output_type": "display_data",
       "text": [
        "<IPython.core.display.Javascript at 0x1f6f13c8>"
       ]
      },
      {
       "javascript": [
        "$('div#071d608d-c2cd-4da9-a2d1-20e445d0b1b3').text(' 23%');"
       ],
       "metadata": {},
       "output_type": "display_data",
       "text": [
        "<IPython.core.display.Javascript at 0x1f6f1d68>"
       ]
      },
      {
       "javascript": [
        "\n",
        "        var $myPB = $(\"div#49301db3-75bc-4527-8dd8-3a4d135af37a\")\n",
        "        if ($myPB.hasClass('ui-progressbar')) {\n",
        "            $myPB.progressbar('value', 5);\n",
        "        } else {\n",
        "            $myPB.progressbar({value: 0, max: 21});\n",
        "        }\n",
        "        "
       ],
       "metadata": {},
       "output_type": "display_data",
       "text": [
        "<IPython.core.display.Javascript at 0x1f6f1d68>"
       ]
      },
      {
       "javascript": [
        "$('div#19a06954-b722-43d0-884e-613efc7166d6').text('ETA:  0:00:00');"
       ],
       "metadata": {},
       "output_type": "display_data",
       "text": [
        "<IPython.core.display.Javascript at 0x1f6f1470>"
       ]
      },
      {
       "javascript": [
        "$('div#1b02977a-440f-4efa-bf90-2e9a40dfd3d3').text('6 of 21');"
       ],
       "metadata": {},
       "output_type": "display_data",
       "text": [
        "<IPython.core.display.Javascript at 0x1f6f13c8>"
       ]
      },
      {
       "javascript": [
        "$('div#071d608d-c2cd-4da9-a2d1-20e445d0b1b3').text(' 28%');"
       ],
       "metadata": {},
       "output_type": "display_data",
       "text": [
        "<IPython.core.display.Javascript at 0x1f6f1780>"
       ]
      },
      {
       "javascript": [
        "\n",
        "        var $myPB = $(\"div#49301db3-75bc-4527-8dd8-3a4d135af37a\")\n",
        "        if ($myPB.hasClass('ui-progressbar')) {\n",
        "            $myPB.progressbar('value', 6);\n",
        "        } else {\n",
        "            $myPB.progressbar({value: 0, max: 21});\n",
        "        }\n",
        "        "
       ],
       "metadata": {},
       "output_type": "display_data",
       "text": [
        "<IPython.core.display.Javascript at 0x1f6f1780>"
       ]
      },
      {
       "javascript": [
        "$('div#19a06954-b722-43d0-884e-613efc7166d6').text('ETA:  0:00:00');"
       ],
       "metadata": {},
       "output_type": "display_data",
       "text": [
        "<IPython.core.display.Javascript at 0x1f6f17f0>"
       ]
      },
      {
       "javascript": [
        "$('div#1b02977a-440f-4efa-bf90-2e9a40dfd3d3').text('7 of 21');"
       ],
       "metadata": {},
       "output_type": "display_data",
       "text": [
        "<IPython.core.display.Javascript at 0x1f6f13c8>"
       ]
      },
      {
       "javascript": [
        "$('div#071d608d-c2cd-4da9-a2d1-20e445d0b1b3').text(' 33%');"
       ],
       "metadata": {},
       "output_type": "display_data",
       "text": [
        "<IPython.core.display.Javascript at 0x1f6f10f0>"
       ]
      },
      {
       "javascript": [
        "\n",
        "        var $myPB = $(\"div#49301db3-75bc-4527-8dd8-3a4d135af37a\")\n",
        "        if ($myPB.hasClass('ui-progressbar')) {\n",
        "            $myPB.progressbar('value', 7);\n",
        "        } else {\n",
        "            $myPB.progressbar({value: 0, max: 21});\n",
        "        }\n",
        "        "
       ],
       "metadata": {},
       "output_type": "display_data",
       "text": [
        "<IPython.core.display.Javascript at 0x1f6f10f0>"
       ]
      },
      {
       "javascript": [
        "$('div#19a06954-b722-43d0-884e-613efc7166d6').text('ETA:  0:00:00');"
       ],
       "metadata": {},
       "output_type": "display_data",
       "text": [
        "<IPython.core.display.Javascript at 0x1f6f19b0>"
       ]
      },
      {
       "javascript": [
        "$('div#1b02977a-440f-4efa-bf90-2e9a40dfd3d3').text('8 of 21');"
       ],
       "metadata": {},
       "output_type": "display_data",
       "text": [
        "<IPython.core.display.Javascript at 0x1f6f13c8>"
       ]
      },
      {
       "javascript": [
        "$('div#071d608d-c2cd-4da9-a2d1-20e445d0b1b3').text(' 38%');"
       ],
       "metadata": {},
       "output_type": "display_data",
       "text": [
        "<IPython.core.display.Javascript at 0x1f6f1d68>"
       ]
      },
      {
       "javascript": [
        "\n",
        "        var $myPB = $(\"div#49301db3-75bc-4527-8dd8-3a4d135af37a\")\n",
        "        if ($myPB.hasClass('ui-progressbar')) {\n",
        "            $myPB.progressbar('value', 8);\n",
        "        } else {\n",
        "            $myPB.progressbar({value: 0, max: 21});\n",
        "        }\n",
        "        "
       ],
       "metadata": {},
       "output_type": "display_data",
       "text": [
        "<IPython.core.display.Javascript at 0x1f6f1d68>"
       ]
      },
      {
       "javascript": [
        "$('div#19a06954-b722-43d0-884e-613efc7166d6').text('ETA:  0:00:00');"
       ],
       "metadata": {},
       "output_type": "display_data",
       "text": [
        "<IPython.core.display.Javascript at 0x1f6f1a90>"
       ]
      },
      {
       "javascript": [
        "$('div#1b02977a-440f-4efa-bf90-2e9a40dfd3d3').text('9 of 21');"
       ],
       "metadata": {},
       "output_type": "display_data",
       "text": [
        "<IPython.core.display.Javascript at 0x1f6f13c8>"
       ]
      },
      {
       "javascript": [
        "$('div#071d608d-c2cd-4da9-a2d1-20e445d0b1b3').text(' 42%');"
       ],
       "metadata": {},
       "output_type": "display_data",
       "text": [
        "<IPython.core.display.Javascript at 0x1f6f1080>"
       ]
      },
      {
       "javascript": [
        "\n",
        "        var $myPB = $(\"div#49301db3-75bc-4527-8dd8-3a4d135af37a\")\n",
        "        if ($myPB.hasClass('ui-progressbar')) {\n",
        "            $myPB.progressbar('value', 9);\n",
        "        } else {\n",
        "            $myPB.progressbar({value: 0, max: 21});\n",
        "        }\n",
        "        "
       ],
       "metadata": {},
       "output_type": "display_data",
       "text": [
        "<IPython.core.display.Javascript at 0x1f6f10f0>"
       ]
      },
      {
       "javascript": [
        "$('div#19a06954-b722-43d0-884e-613efc7166d6').text('ETA:  0:00:00');"
       ],
       "metadata": {},
       "output_type": "display_data",
       "text": [
        "<IPython.core.display.Javascript at 0x1f6f1eb8>"
       ]
      },
      {
       "javascript": [
        "$('div#1b02977a-440f-4efa-bf90-2e9a40dfd3d3').text('10 of 21');"
       ],
       "metadata": {},
       "output_type": "display_data",
       "text": [
        "<IPython.core.display.Javascript at 0x1f6f1080>"
       ]
      },
      {
       "javascript": [
        "$('div#071d608d-c2cd-4da9-a2d1-20e445d0b1b3').text(' 47%');"
       ],
       "metadata": {},
       "output_type": "display_data",
       "text": [
        "<IPython.core.display.Javascript at 0x1f6f1780>"
       ]
      },
      {
       "javascript": [
        "\n",
        "        var $myPB = $(\"div#49301db3-75bc-4527-8dd8-3a4d135af37a\")\n",
        "        if ($myPB.hasClass('ui-progressbar')) {\n",
        "            $myPB.progressbar('value', 10);\n",
        "        } else {\n",
        "            $myPB.progressbar({value: 0, max: 21});\n",
        "        }\n",
        "        "
       ],
       "metadata": {},
       "output_type": "display_data",
       "text": [
        "<IPython.core.display.Javascript at 0x1f6f1d68>"
       ]
      },
      {
       "javascript": [
        "$('div#19a06954-b722-43d0-884e-613efc7166d6').text('ETA:  0:00:00');"
       ],
       "metadata": {},
       "output_type": "display_data",
       "text": [
        "<IPython.core.display.Javascript at 0x1f6f13c8>"
       ]
      },
      {
       "javascript": [
        "$('div#1b02977a-440f-4efa-bf90-2e9a40dfd3d3').text('11 of 21');"
       ],
       "metadata": {},
       "output_type": "display_data",
       "text": [
        "<IPython.core.display.Javascript at 0x1f6f1470>"
       ]
      },
      {
       "javascript": [
        "$('div#071d608d-c2cd-4da9-a2d1-20e445d0b1b3').text(' 52%');"
       ],
       "metadata": {},
       "output_type": "display_data",
       "text": [
        "<IPython.core.display.Javascript at 0x1f6f19b0>"
       ]
      },
      {
       "javascript": [
        "\n",
        "        var $myPB = $(\"div#49301db3-75bc-4527-8dd8-3a4d135af37a\")\n",
        "        if ($myPB.hasClass('ui-progressbar')) {\n",
        "            $myPB.progressbar('value', 11);\n",
        "        } else {\n",
        "            $myPB.progressbar({value: 0, max: 21});\n",
        "        }\n",
        "        "
       ],
       "metadata": {},
       "output_type": "display_data",
       "text": [
        "<IPython.core.display.Javascript at 0x1f6f19b0>"
       ]
      },
      {
       "javascript": [
        "$('div#19a06954-b722-43d0-884e-613efc7166d6').text('ETA:  0:00:00');"
       ],
       "metadata": {},
       "output_type": "display_data",
       "text": [
        "<IPython.core.display.Javascript at 0x1f6f1eb8>"
       ]
      },
      {
       "javascript": [
        "$('div#1b02977a-440f-4efa-bf90-2e9a40dfd3d3').text('12 of 21');"
       ],
       "metadata": {},
       "output_type": "display_data",
       "text": [
        "<IPython.core.display.Javascript at 0x1f6f1470>"
       ]
      },
      {
       "javascript": [
        "$('div#071d608d-c2cd-4da9-a2d1-20e445d0b1b3').text(' 57%');"
       ],
       "metadata": {},
       "output_type": "display_data",
       "text": [
        "<IPython.core.display.Javascript at 0x1f6f1080>"
       ]
      },
      {
       "javascript": [
        "\n",
        "        var $myPB = $(\"div#49301db3-75bc-4527-8dd8-3a4d135af37a\")\n",
        "        if ($myPB.hasClass('ui-progressbar')) {\n",
        "            $myPB.progressbar('value', 12);\n",
        "        } else {\n",
        "            $myPB.progressbar({value: 0, max: 21});\n",
        "        }\n",
        "        "
       ],
       "metadata": {},
       "output_type": "display_data",
       "text": [
        "<IPython.core.display.Javascript at 0x1f6f10f0>"
       ]
      },
      {
       "javascript": [
        "$('div#19a06954-b722-43d0-884e-613efc7166d6').text('ETA:  0:00:00');"
       ],
       "metadata": {},
       "output_type": "display_data",
       "text": [
        "<IPython.core.display.Javascript at 0x1f6f13c8>"
       ]
      },
      {
       "javascript": [
        "$('div#1b02977a-440f-4efa-bf90-2e9a40dfd3d3').text('13 of 21');"
       ],
       "metadata": {},
       "output_type": "display_data",
       "text": [
        "<IPython.core.display.Javascript at 0x1f6f1080>"
       ]
      },
      {
       "javascript": [
        "$('div#071d608d-c2cd-4da9-a2d1-20e445d0b1b3').text(' 61%');"
       ],
       "metadata": {},
       "output_type": "display_data",
       "text": [
        "<IPython.core.display.Javascript at 0x1f6f1e48>"
       ]
      },
      {
       "javascript": [
        "\n",
        "        var $myPB = $(\"div#49301db3-75bc-4527-8dd8-3a4d135af37a\")\n",
        "        if ($myPB.hasClass('ui-progressbar')) {\n",
        "            $myPB.progressbar('value', 13);\n",
        "        } else {\n",
        "            $myPB.progressbar({value: 0, max: 21});\n",
        "        }\n",
        "        "
       ],
       "metadata": {},
       "output_type": "display_data",
       "text": [
        "<IPython.core.display.Javascript at 0x1f6f19b0>"
       ]
      },
      {
       "javascript": [
        "$('div#19a06954-b722-43d0-884e-613efc7166d6').text('ETA:  0:00:00');"
       ],
       "metadata": {},
       "output_type": "display_data",
       "text": [
        "<IPython.core.display.Javascript at 0x1f6f19b0>"
       ]
      },
      {
       "javascript": [
        "$('div#1b02977a-440f-4efa-bf90-2e9a40dfd3d3').text('14 of 21');"
       ],
       "metadata": {},
       "output_type": "display_data",
       "text": [
        "<IPython.core.display.Javascript at 0x1f6f1470>"
       ]
      },
      {
       "javascript": [
        "$('div#071d608d-c2cd-4da9-a2d1-20e445d0b1b3').text(' 66%');"
       ],
       "metadata": {},
       "output_type": "display_data",
       "text": [
        "<IPython.core.display.Javascript at 0x1f6f1a90>"
       ]
      },
      {
       "javascript": [
        "\n",
        "        var $myPB = $(\"div#49301db3-75bc-4527-8dd8-3a4d135af37a\")\n",
        "        if ($myPB.hasClass('ui-progressbar')) {\n",
        "            $myPB.progressbar('value', 14);\n",
        "        } else {\n",
        "            $myPB.progressbar({value: 0, max: 21});\n",
        "        }\n",
        "        "
       ],
       "metadata": {},
       "output_type": "display_data",
       "text": [
        "<IPython.core.display.Javascript at 0x1f6f1eb8>"
       ]
      },
      {
       "javascript": [
        "$('div#19a06954-b722-43d0-884e-613efc7166d6').text('ETA:  0:00:00');"
       ],
       "metadata": {},
       "output_type": "display_data",
       "text": [
        "<IPython.core.display.Javascript at 0x1f6f1eb8>"
       ]
      },
      {
       "javascript": [
        "$('div#1b02977a-440f-4efa-bf90-2e9a40dfd3d3').text('15 of 21');"
       ],
       "metadata": {},
       "output_type": "display_data",
       "text": [
        "<IPython.core.display.Javascript at 0x1f6f1d68>"
       ]
      },
      {
       "javascript": [
        "$('div#071d608d-c2cd-4da9-a2d1-20e445d0b1b3').text(' 71%');"
       ],
       "metadata": {},
       "output_type": "display_data",
       "text": [
        "<IPython.core.display.Javascript at 0x1f6f1080>"
       ]
      },
      {
       "javascript": [
        "\n",
        "        var $myPB = $(\"div#49301db3-75bc-4527-8dd8-3a4d135af37a\")\n",
        "        if ($myPB.hasClass('ui-progressbar')) {\n",
        "            $myPB.progressbar('value', 15);\n",
        "        } else {\n",
        "            $myPB.progressbar({value: 0, max: 21});\n",
        "        }\n",
        "        "
       ],
       "metadata": {},
       "output_type": "display_data",
       "text": [
        "<IPython.core.display.Javascript at 0x1f6f1780>"
       ]
      },
      {
       "javascript": [
        "$('div#19a06954-b722-43d0-884e-613efc7166d6').text('ETA:  0:00:00');"
       ],
       "metadata": {},
       "output_type": "display_data",
       "text": [
        "<IPython.core.display.Javascript at 0x1f6f1780>"
       ]
      },
      {
       "javascript": [
        "$('div#1b02977a-440f-4efa-bf90-2e9a40dfd3d3').text('16 of 21');"
       ],
       "metadata": {},
       "output_type": "display_data",
       "text": [
        "<IPython.core.display.Javascript at 0x1f6f1198>"
       ]
      },
      {
       "javascript": [
        "$('div#071d608d-c2cd-4da9-a2d1-20e445d0b1b3').text(' 76%');"
       ],
       "metadata": {},
       "output_type": "display_data",
       "text": [
        "<IPython.core.display.Javascript at 0x1f6f1470>"
       ]
      },
      {
       "javascript": [
        "\n",
        "        var $myPB = $(\"div#49301db3-75bc-4527-8dd8-3a4d135af37a\")\n",
        "        if ($myPB.hasClass('ui-progressbar')) {\n",
        "            $myPB.progressbar('value', 16);\n",
        "        } else {\n",
        "            $myPB.progressbar({value: 0, max: 21});\n",
        "        }\n",
        "        "
       ],
       "metadata": {},
       "output_type": "display_data",
       "text": [
        "<IPython.core.display.Javascript at 0x1f6f1e48>"
       ]
      },
      {
       "javascript": [
        "$('div#19a06954-b722-43d0-884e-613efc7166d6').text('ETA:  0:00:00');"
       ],
       "metadata": {},
       "output_type": "display_data",
       "text": [
        "<IPython.core.display.Javascript at 0x1f6f1e48>"
       ]
      },
      {
       "javascript": [
        "$('div#1b02977a-440f-4efa-bf90-2e9a40dfd3d3').text('17 of 21');"
       ],
       "metadata": {},
       "output_type": "display_data",
       "text": [
        "<IPython.core.display.Javascript at 0x1f6f13c8>"
       ]
      },
      {
       "javascript": [
        "$('div#071d608d-c2cd-4da9-a2d1-20e445d0b1b3').text(' 80%');"
       ],
       "metadata": {},
       "output_type": "display_data",
       "text": [
        "<IPython.core.display.Javascript at 0x1f6f1080>"
       ]
      },
      {
       "javascript": [
        "\n",
        "        var $myPB = $(\"div#49301db3-75bc-4527-8dd8-3a4d135af37a\")\n",
        "        if ($myPB.hasClass('ui-progressbar')) {\n",
        "            $myPB.progressbar('value', 17);\n",
        "        } else {\n",
        "            $myPB.progressbar({value: 0, max: 21});\n",
        "        }\n",
        "        "
       ],
       "metadata": {},
       "output_type": "display_data",
       "text": [
        "<IPython.core.display.Javascript at 0x1f6f1a90>"
       ]
      },
      {
       "javascript": [
        "$('div#19a06954-b722-43d0-884e-613efc7166d6').text('ETA:  0:00:00');"
       ],
       "metadata": {},
       "output_type": "display_data",
       "text": [
        "<IPython.core.display.Javascript at 0x1f6f19b0>"
       ]
      },
      {
       "javascript": [
        "$('div#1b02977a-440f-4efa-bf90-2e9a40dfd3d3').text('18 of 21');"
       ],
       "metadata": {},
       "output_type": "display_data",
       "text": [
        "<IPython.core.display.Javascript at 0x1f6f1d68>"
       ]
      },
      {
       "javascript": [
        "$('div#071d608d-c2cd-4da9-a2d1-20e445d0b1b3').text(' 85%');"
       ],
       "metadata": {},
       "output_type": "display_data",
       "text": [
        "<IPython.core.display.Javascript at 0x1f6f1eb8>"
       ]
      },
      {
       "javascript": [
        "\n",
        "        var $myPB = $(\"div#49301db3-75bc-4527-8dd8-3a4d135af37a\")\n",
        "        if ($myPB.hasClass('ui-progressbar')) {\n",
        "            $myPB.progressbar('value', 18);\n",
        "        } else {\n",
        "            $myPB.progressbar({value: 0, max: 21});\n",
        "        }\n",
        "        "
       ],
       "metadata": {},
       "output_type": "display_data",
       "text": [
        "<IPython.core.display.Javascript at 0x1f6f13c8>"
       ]
      },
      {
       "javascript": [
        "$('div#19a06954-b722-43d0-884e-613efc7166d6').text('ETA:  0:00:00');"
       ],
       "metadata": {},
       "output_type": "display_data",
       "text": [
        "<IPython.core.display.Javascript at 0x1f6f1080>"
       ]
      },
      {
       "javascript": [
        "$('div#1b02977a-440f-4efa-bf90-2e9a40dfd3d3').text('19 of 21');"
       ],
       "metadata": {},
       "output_type": "display_data",
       "text": [
        "<IPython.core.display.Javascript at 0x1f6f1e48>"
       ]
      },
      {
       "javascript": [
        "$('div#071d608d-c2cd-4da9-a2d1-20e445d0b1b3').text(' 90%');"
       ],
       "metadata": {},
       "output_type": "display_data",
       "text": [
        "<IPython.core.display.Javascript at 0x1f6f1470>"
       ]
      },
      {
       "javascript": [
        "\n",
        "        var $myPB = $(\"div#49301db3-75bc-4527-8dd8-3a4d135af37a\")\n",
        "        if ($myPB.hasClass('ui-progressbar')) {\n",
        "            $myPB.progressbar('value', 19);\n",
        "        } else {\n",
        "            $myPB.progressbar({value: 0, max: 21});\n",
        "        }\n",
        "        "
       ],
       "metadata": {},
       "output_type": "display_data",
       "text": [
        "<IPython.core.display.Javascript at 0x1f6f19b0>"
       ]
      },
      {
       "javascript": [
        "$('div#19a06954-b722-43d0-884e-613efc7166d6').text('ETA:  0:00:00');"
       ],
       "metadata": {},
       "output_type": "display_data",
       "text": [
        "<IPython.core.display.Javascript at 0x1f6f1d68>"
       ]
      },
      {
       "javascript": [
        "$('div#1b02977a-440f-4efa-bf90-2e9a40dfd3d3').text('20 of 21');"
       ],
       "metadata": {},
       "output_type": "display_data",
       "text": [
        "<IPython.core.display.Javascript at 0x1f6f1470>"
       ]
      },
      {
       "javascript": [
        "$('div#071d608d-c2cd-4da9-a2d1-20e445d0b1b3').text(' 95%');"
       ],
       "metadata": {},
       "output_type": "display_data",
       "text": [
        "<IPython.core.display.Javascript at 0x1f6f1198>"
       ]
      },
      {
       "javascript": [
        "\n",
        "        var $myPB = $(\"div#49301db3-75bc-4527-8dd8-3a4d135af37a\")\n",
        "        if ($myPB.hasClass('ui-progressbar')) {\n",
        "            $myPB.progressbar('value', 20);\n",
        "        } else {\n",
        "            $myPB.progressbar({value: 0, max: 21});\n",
        "        }\n",
        "        "
       ],
       "metadata": {},
       "output_type": "display_data",
       "text": [
        "<IPython.core.display.Javascript at 0x1f6f1080>"
       ]
      },
      {
       "javascript": [
        "$('div#19a06954-b722-43d0-884e-613efc7166d6').text('ETA:  0:00:00');"
       ],
       "metadata": {},
       "output_type": "display_data",
       "text": [
        "<IPython.core.display.Javascript at 0x1f6f1080>"
       ]
      },
      {
       "javascript": [
        "$('div#1b02977a-440f-4efa-bf90-2e9a40dfd3d3').text('21 of 21');"
       ],
       "metadata": {},
       "output_type": "display_data",
       "text": [
        "<IPython.core.display.Javascript at 0x1f6f10f0>"
       ]
      },
      {
       "javascript": [
        "$('div#071d608d-c2cd-4da9-a2d1-20e445d0b1b3').text('100%');"
       ],
       "metadata": {},
       "output_type": "display_data",
       "text": [
        "<IPython.core.display.Javascript at 0x1f6f1e48>"
       ]
      },
      {
       "javascript": [
        "\n",
        "        var $myPB = $(\"div#49301db3-75bc-4527-8dd8-3a4d135af37a\")\n",
        "        if ($myPB.hasClass('ui-progressbar')) {\n",
        "            $myPB.progressbar('value', 21);\n",
        "        } else {\n",
        "            $myPB.progressbar({value: 0, max: 21});\n",
        "        }\n",
        "        "
       ],
       "metadata": {},
       "output_type": "display_data",
       "text": [
        "<IPython.core.display.Javascript at 0x1f6f1eb8>"
       ]
      },
      {
       "javascript": [
        "$('div#19a06954-b722-43d0-884e-613efc7166d6').text('ETA:  0:00:00');"
       ],
       "metadata": {},
       "output_type": "display_data",
       "text": [
        "<IPython.core.display.Javascript at 0x1f6f1eb8>"
       ]
      },
      {
       "javascript": [
        "$('div#1b02977a-440f-4efa-bf90-2e9a40dfd3d3').text('21 of 21');"
       ],
       "metadata": {},
       "output_type": "display_data",
       "text": [
        "<IPython.core.display.Javascript at 0x1f6f1f28>"
       ]
      },
      {
       "javascript": [
        "$('div#071d608d-c2cd-4da9-a2d1-20e445d0b1b3').text('100%');"
       ],
       "metadata": {},
       "output_type": "display_data",
       "text": [
        "<IPython.core.display.Javascript at 0x1f6f1198>"
       ]
      },
      {
       "javascript": [
        "\n",
        "        var $myPB = $(\"div#49301db3-75bc-4527-8dd8-3a4d135af37a\")\n",
        "        if ($myPB.hasClass('ui-progressbar')) {\n",
        "            $myPB.progressbar('value', 21);\n",
        "        } else {\n",
        "            $myPB.progressbar({value: 0, max: 21});\n",
        "        }\n",
        "        "
       ],
       "metadata": {},
       "output_type": "display_data",
       "text": [
        "<IPython.core.display.Javascript at 0x1f6f1780>"
       ]
      },
      {
       "javascript": [
        "$('div#19a06954-b722-43d0-884e-613efc7166d6').text('Time: 0:00:00');"
       ],
       "metadata": {},
       "output_type": "display_data",
       "text": [
        "<IPython.core.display.Javascript at 0x1f6f1780>"
       ]
      },
      {
       "javascript": [
        "var element = document.getElementById('5f8148f3-1371-4ce5-bf9b-62c4c8e9cd1e');\n",
        "                    var parent = element.parentNode\n",
        "                    parent.removeChild(element);\n",
        "                    parent.parentElement.remove();"
       ],
       "metadata": {},
       "output_type": "display_data",
       "text": [
        "<IPython.core.display.Javascript at 0x1f6f1898>"
       ]
      },
      {
       "javascript": [
        "this.cleanProgressBar(['5f8148f3-1371-4ce5-bf9b-62c4c8e9cd1e', '1b02977a-440f-4efa-bf90-2e9a40dfd3d3', '071d608d-c2cd-4da9-a2d1-20e445d0b1b3', '49301db3-75bc-4527-8dd8-3a4d135af37a', '19a06954-b722-43d0-884e-613efc7166d6'])"
       ],
       "metadata": {},
       "output_type": "display_data",
       "text": [
        "<IPython.core.display.Javascript at 0x1f6f19b0>"
       ]
      },
      {
       "metadata": {},
       "output_type": "pyout",
       "prompt_number": 20,
       "text": [
        "['Palestinian people',\n",
        " 'Occupied Palestinian Territory',\n",
        " 'Jerusalem',\n",
        " 'Arab population',\n",
        " 'occupied Syrian',\n",
        " 'Afghanistan',\n",
        " 'Algeria',\n",
        " 'Bahrain',\n",
        " 'Bangladesh',\n",
        " 'Brunei Darussalam',\n",
        " 'Comoros',\n",
        " 'Cuba',\n",
        " 'Denmark',\n",
        " 'Egypt',\n",
        " 'Indonesia',\n",
        " 'Jordan',\n",
        " 'Kuwait',\n",
        " 'Lebanon',\n",
        " 'Malaysia',\n",
        " 'Malta',\n",
        " 'Mauritania',\n",
        " 'Morocco',\n",
        " 'Oman',\n",
        " 'Qatar',\n",
        " 'Saudi Arabia',\n",
        " 'Somalia',\n",
        " 'South Africa',\n",
        " 'Sudan',\n",
        " 'Tunisia',\n",
        " 'United Arab Emirates',\n",
        " 'Yemen',\n",
        " 'Palestine draft resolution',\n",
        " 'Palestinian people',\n",
        " 'Occupied Palestinian Territory',\n",
        " 'Jerusalem',\n",
        " 'Arab population',\n",
        " 'occupied Syrian',\n",
        " 'December 2000',\n",
        " 'July 2001',\n",
        " 'United Nations',\n",
        " 'November 1967',\n",
        " 'March 1980',\n",
        " 'December 1981',\n",
        " 'Geneva Convention',\n",
        " 'August 1949',\n",
        " 'Occupied Palestinian Territory',\n",
        " 'Jerusalem',\n",
        " 'Arab territories',\n",
        " 'Israel',\n",
        " 'exploitation by Israel',\n",
        " 'Occupied Palestinian Territory',\n",
        " 'Jerusalem',\n",
        " 'Arab territories',\n",
        " 'Israel',\n",
        " 'Israeli settlements on Palestinian',\n",
        " 'Arab',\n",
        " 'Middle East',\n",
        " 'November 1967',\n",
        " 'October 1973',\n",
        " 'March 1978',\n",
        " 'Palestinian people',\n",
        " 'occupied Syrian',\n",
        " 'Israel',\n",
        " 'Occupied Palestinian Territory',\n",
        " 'Jerusalem',\n",
        " 'occupied Syrian',\n",
        " 'Palestinian people',\n",
        " 'Palestinian',\n",
        " 'Israeli sides',\n",
        " 'Palestinian people',\n",
        " 'Occupied Palestinian Territory',\n",
        " 'Jerusalem',\n",
        " 'Arab population',\n",
        " 'occupied Syrian',\n",
        " 'United Nations']"
       ]
      }
     ],
     "prompt_number": 20
    },
    {
     "cell_type": "code",
     "collapsed": false,
     "input": [
      "vchunks = mun.get_chunks(tagged_sentences, chunker=chunker, target = 'VNS')\n",
      "vchunks = mun.extract_target_from_chunks(vchunks, target='VNS')\n",
      "vchunks"
     ],
     "language": "python",
     "metadata": {},
     "outputs": [
      {
       "javascript": [
        "//daa5c44d-50a8-4b1f-90c4-dab6d16f2afa\n",
        "$(\"head\").append(\"<style> td.pb_widget {     width: auto; } td.pb_widget_fill {     width: 100%; } table.pb {     font-family: monospace;     border: 0;     margin: 0; } table.pb tr { border: 0; } table.pb td {     white-space: nowrap;     border: 0; } div.pb {     border: 1px solid #ddd;     border-radius: 3px; } div.pb_bar {     height: 1.5em; } </style>\")"
       ],
       "metadata": {},
       "output_type": "display_data",
       "text": [
        "<IPython.core.display.Javascript at 0x21af16a0>"
       ]
      },
      {
       "javascript": [
        "\n",
        "                  // daa5c44d-50a8-4b1f-90c4-dab6d16f2afa -- used to remove this code blob in the end\n",
        "                  IPython.OutputArea.prototype.cleanProgressBar = function(uuids) {\n",
        "                      // filter by uuid-strings \n",
        "                      var myfilter = function(output) { \n",
        "                          var nuids = uuids.length;\n",
        "                          for (var i=0; i<nuids; i++) {\n",
        "                              if (output.hasOwnProperty('html')) {\n",
        "                                  if (output.html.indexOf(uuids[i]) != -1) {\n",
        "                                      return false;\n",
        "                                  }\n",
        "                              }\n",
        "                              if (output.hasOwnProperty('javascript')) {\n",
        "                                  if (output.javascript.indexOf(uuids[i]) != -1) {\n",
        "                                      return false;\n",
        "                                  }\n",
        "                              }\n",
        "                          }\n",
        "                          // keep all others\n",
        "                          return true;\n",
        "                      };\n",
        "\n",
        "                      // Filter the ouputs\n",
        "                      this.outputs = this.outputs.filter(myfilter);\n",
        "                };\n",
        "                "
       ],
       "metadata": {},
       "output_type": "display_data",
       "text": [
        "<IPython.core.display.Javascript at 0x21af10b8>"
       ]
      },
      {
       "html": [
        "<div class=\"pb\" id=\"daa5c44d-50a8-4b1f-90c4-dab6d16f2afa\"><table class=\"pb ui-widget\"><tr>\n",
        "<td class=\"pb_widget\">Chunking </td>\n",
        "<td class=\"pb_widget\"><div id=\"fd3a2da5-ed8c-4959-9ab9-e1aa665abfb8\">0 of 21</div></td>\n",
        "<td class=\"pb_widget\"><div id=\"a83ef0ef-db47-4f5e-84d0-bc6e8a8ca5c9\">  0%</div></td>\n",
        "<td class=\"pb_widget_fill\">\n",
        "        <div class=\"pb_bar\" id=\"f17a2ed0-5f64-4ad3-a686-8052fe32a4c0\"></div>\n",
        "        <script type=\"text/javascript\">\n",
        "            $(\"div#f17a2ed0-5f64-4ad3-a686-8052fe32a4c0\").progressbar({value: 0, max: 21});\n",
        "        </script>\n",
        "        </td>\n",
        "<td class=\"pb_widget\"><div id=\"87f25278-72f1-4c81-9eab-bdfd25fe4640\">ETA:  --:--:--</div></td>\n",
        "</tr></table><div>"
       ],
       "metadata": {},
       "output_type": "display_data",
       "text": [
        "<IPython.core.display.HTML at 0x21af10b8>"
       ]
      },
      {
       "javascript": [
        "$('div#fd3a2da5-ed8c-4959-9ab9-e1aa665abfb8').text('1 of 21');"
       ],
       "metadata": {},
       "output_type": "display_data",
       "text": [
        "<IPython.core.display.Javascript at 0x21af16a0>"
       ]
      },
      {
       "javascript": [
        "$('div#a83ef0ef-db47-4f5e-84d0-bc6e8a8ca5c9').text('  4%');"
       ],
       "metadata": {},
       "output_type": "display_data",
       "text": [
        "<IPython.core.display.Javascript at 0x1ef9a1d0>"
       ]
      },
      {
       "javascript": [
        "\n",
        "        var $myPB = $(\"div#f17a2ed0-5f64-4ad3-a686-8052fe32a4c0\")\n",
        "        if ($myPB.hasClass('ui-progressbar')) {\n",
        "            $myPB.progressbar('value', 1);\n",
        "        } else {\n",
        "            $myPB.progressbar({value: 0, max: 21});\n",
        "        }\n",
        "        "
       ],
       "metadata": {},
       "output_type": "display_data",
       "text": [
        "<IPython.core.display.Javascript at 0x1f6f10b8>"
       ]
      },
      {
       "javascript": [
        "$('div#87f25278-72f1-4c81-9eab-bdfd25fe4640').text('ETA:  0:00:00');"
       ],
       "metadata": {},
       "output_type": "display_data",
       "text": [
        "<IPython.core.display.Javascript at 0x1ef9a1d0>"
       ]
      },
      {
       "javascript": [
        "$('div#fd3a2da5-ed8c-4959-9ab9-e1aa665abfb8').text('2 of 21');"
       ],
       "metadata": {},
       "output_type": "display_data",
       "text": [
        "<IPython.core.display.Javascript at 0x21af16a0>"
       ]
      },
      {
       "javascript": [
        "$('div#a83ef0ef-db47-4f5e-84d0-bc6e8a8ca5c9').text('  9%');"
       ],
       "metadata": {},
       "output_type": "display_data",
       "text": [
        "<IPython.core.display.Javascript at 0x21af10b8>"
       ]
      },
      {
       "javascript": [
        "\n",
        "        var $myPB = $(\"div#f17a2ed0-5f64-4ad3-a686-8052fe32a4c0\")\n",
        "        if ($myPB.hasClass('ui-progressbar')) {\n",
        "            $myPB.progressbar('value', 2);\n",
        "        } else {\n",
        "            $myPB.progressbar({value: 0, max: 21});\n",
        "        }\n",
        "        "
       ],
       "metadata": {},
       "output_type": "display_data",
       "text": [
        "<IPython.core.display.Javascript at 0x1f6f10b8>"
       ]
      },
      {
       "javascript": [
        "$('div#87f25278-72f1-4c81-9eab-bdfd25fe4640').text('ETA:  0:00:00');"
       ],
       "metadata": {},
       "output_type": "display_data",
       "text": [
        "<IPython.core.display.Javascript at 0x21af10b8>"
       ]
      },
      {
       "javascript": [
        "$('div#fd3a2da5-ed8c-4959-9ab9-e1aa665abfb8').text('3 of 21');"
       ],
       "metadata": {},
       "output_type": "display_data",
       "text": [
        "<IPython.core.display.Javascript at 0x21af16a0>"
       ]
      },
      {
       "javascript": [
        "$('div#a83ef0ef-db47-4f5e-84d0-bc6e8a8ca5c9').text(' 14%');"
       ],
       "metadata": {},
       "output_type": "display_data",
       "text": [
        "<IPython.core.display.Javascript at 0x1ef9a1d0>"
       ]
      },
      {
       "javascript": [
        "\n",
        "        var $myPB = $(\"div#f17a2ed0-5f64-4ad3-a686-8052fe32a4c0\")\n",
        "        if ($myPB.hasClass('ui-progressbar')) {\n",
        "            $myPB.progressbar('value', 3);\n",
        "        } else {\n",
        "            $myPB.progressbar({value: 0, max: 21});\n",
        "        }\n",
        "        "
       ],
       "metadata": {},
       "output_type": "display_data",
       "text": [
        "<IPython.core.display.Javascript at 0x1f6f10b8>"
       ]
      },
      {
       "javascript": [
        "$('div#87f25278-72f1-4c81-9eab-bdfd25fe4640').text('ETA:  0:00:00');"
       ],
       "metadata": {},
       "output_type": "display_data",
       "text": [
        "<IPython.core.display.Javascript at 0x1ef9a1d0>"
       ]
      },
      {
       "javascript": [
        "$('div#fd3a2da5-ed8c-4959-9ab9-e1aa665abfb8').text('4 of 21');"
       ],
       "metadata": {},
       "output_type": "display_data",
       "text": [
        "<IPython.core.display.Javascript at 0x21af16a0>"
       ]
      },
      {
       "javascript": [
        "$('div#a83ef0ef-db47-4f5e-84d0-bc6e8a8ca5c9').text(' 19%');"
       ],
       "metadata": {},
       "output_type": "display_data",
       "text": [
        "<IPython.core.display.Javascript at 0x21af10b8>"
       ]
      },
      {
       "javascript": [
        "\n",
        "        var $myPB = $(\"div#f17a2ed0-5f64-4ad3-a686-8052fe32a4c0\")\n",
        "        if ($myPB.hasClass('ui-progressbar')) {\n",
        "            $myPB.progressbar('value', 4);\n",
        "        } else {\n",
        "            $myPB.progressbar({value: 0, max: 21});\n",
        "        }\n",
        "        "
       ],
       "metadata": {},
       "output_type": "display_data",
       "text": [
        "<IPython.core.display.Javascript at 0x1f6f1550>"
       ]
      },
      {
       "javascript": [
        "$('div#87f25278-72f1-4c81-9eab-bdfd25fe4640').text('ETA:  0:00:00');"
       ],
       "metadata": {},
       "output_type": "display_data",
       "text": [
        "<IPython.core.display.Javascript at 0x21af10b8>"
       ]
      },
      {
       "javascript": [
        "$('div#fd3a2da5-ed8c-4959-9ab9-e1aa665abfb8').text('5 of 21');"
       ],
       "metadata": {},
       "output_type": "display_data",
       "text": [
        "<IPython.core.display.Javascript at 0x21af16a0>"
       ]
      },
      {
       "javascript": [
        "$('div#a83ef0ef-db47-4f5e-84d0-bc6e8a8ca5c9').text(' 23%');"
       ],
       "metadata": {},
       "output_type": "display_data",
       "text": [
        "<IPython.core.display.Javascript at 0x1ef9a1d0>"
       ]
      },
      {
       "javascript": [
        "\n",
        "        var $myPB = $(\"div#f17a2ed0-5f64-4ad3-a686-8052fe32a4c0\")\n",
        "        if ($myPB.hasClass('ui-progressbar')) {\n",
        "            $myPB.progressbar('value', 5);\n",
        "        } else {\n",
        "            $myPB.progressbar({value: 0, max: 21});\n",
        "        }\n",
        "        "
       ],
       "metadata": {},
       "output_type": "display_data",
       "text": [
        "<IPython.core.display.Javascript at 0x1f6f10b8>"
       ]
      },
      {
       "javascript": [
        "$('div#87f25278-72f1-4c81-9eab-bdfd25fe4640').text('ETA:  0:00:00');"
       ],
       "metadata": {},
       "output_type": "display_data",
       "text": [
        "<IPython.core.display.Javascript at 0x1ef9a1d0>"
       ]
      },
      {
       "javascript": [
        "$('div#fd3a2da5-ed8c-4959-9ab9-e1aa665abfb8').text('6 of 21');"
       ],
       "metadata": {},
       "output_type": "display_data",
       "text": [
        "<IPython.core.display.Javascript at 0x21af16a0>"
       ]
      },
      {
       "javascript": [
        "$('div#a83ef0ef-db47-4f5e-84d0-bc6e8a8ca5c9').text(' 28%');"
       ],
       "metadata": {},
       "output_type": "display_data",
       "text": [
        "<IPython.core.display.Javascript at 0x21af10b8>"
       ]
      },
      {
       "javascript": [
        "\n",
        "        var $myPB = $(\"div#f17a2ed0-5f64-4ad3-a686-8052fe32a4c0\")\n",
        "        if ($myPB.hasClass('ui-progressbar')) {\n",
        "            $myPB.progressbar('value', 6);\n",
        "        } else {\n",
        "            $myPB.progressbar({value: 0, max: 21});\n",
        "        }\n",
        "        "
       ],
       "metadata": {},
       "output_type": "display_data",
       "text": [
        "<IPython.core.display.Javascript at 0x1f6f16d8>"
       ]
      },
      {
       "javascript": [
        "$('div#87f25278-72f1-4c81-9eab-bdfd25fe4640').text('ETA:  0:00:00');"
       ],
       "metadata": {},
       "output_type": "display_data",
       "text": [
        "<IPython.core.display.Javascript at 0x21af10b8>"
       ]
      },
      {
       "javascript": [
        "$('div#fd3a2da5-ed8c-4959-9ab9-e1aa665abfb8').text('7 of 21');"
       ],
       "metadata": {},
       "output_type": "display_data",
       "text": [
        "<IPython.core.display.Javascript at 0x21af16a0>"
       ]
      },
      {
       "javascript": [
        "$('div#a83ef0ef-db47-4f5e-84d0-bc6e8a8ca5c9').text(' 33%');"
       ],
       "metadata": {},
       "output_type": "display_data",
       "text": [
        "<IPython.core.display.Javascript at 0x1ef9a1d0>"
       ]
      },
      {
       "javascript": [
        "\n",
        "        var $myPB = $(\"div#f17a2ed0-5f64-4ad3-a686-8052fe32a4c0\")\n",
        "        if ($myPB.hasClass('ui-progressbar')) {\n",
        "            $myPB.progressbar('value', 7);\n",
        "        } else {\n",
        "            $myPB.progressbar({value: 0, max: 21});\n",
        "        }\n",
        "        "
       ],
       "metadata": {},
       "output_type": "display_data",
       "text": [
        "<IPython.core.display.Javascript at 0x1f6f10b8>"
       ]
      },
      {
       "javascript": [
        "$('div#87f25278-72f1-4c81-9eab-bdfd25fe4640').text('ETA:  0:00:00');"
       ],
       "metadata": {},
       "output_type": "display_data",
       "text": [
        "<IPython.core.display.Javascript at 0x1ef9a1d0>"
       ]
      },
      {
       "javascript": [
        "$('div#fd3a2da5-ed8c-4959-9ab9-e1aa665abfb8').text('8 of 21');"
       ],
       "metadata": {},
       "output_type": "display_data",
       "text": [
        "<IPython.core.display.Javascript at 0x21af16a0>"
       ]
      },
      {
       "javascript": [
        "$('div#a83ef0ef-db47-4f5e-84d0-bc6e8a8ca5c9').text(' 38%');"
       ],
       "metadata": {},
       "output_type": "display_data",
       "text": [
        "<IPython.core.display.Javascript at 0x21af10b8>"
       ]
      },
      {
       "javascript": [
        "\n",
        "        var $myPB = $(\"div#f17a2ed0-5f64-4ad3-a686-8052fe32a4c0\")\n",
        "        if ($myPB.hasClass('ui-progressbar')) {\n",
        "            $myPB.progressbar('value', 8);\n",
        "        } else {\n",
        "            $myPB.progressbar({value: 0, max: 21});\n",
        "        }\n",
        "        "
       ],
       "metadata": {},
       "output_type": "display_data",
       "text": [
        "<IPython.core.display.Javascript at 0x1f6f10b8>"
       ]
      },
      {
       "javascript": [
        "$('div#87f25278-72f1-4c81-9eab-bdfd25fe4640').text('ETA:  0:00:00');"
       ],
       "metadata": {},
       "output_type": "display_data",
       "text": [
        "<IPython.core.display.Javascript at 0x21af10b8>"
       ]
      },
      {
       "javascript": [
        "$('div#fd3a2da5-ed8c-4959-9ab9-e1aa665abfb8').text('9 of 21');"
       ],
       "metadata": {},
       "output_type": "display_data",
       "text": [
        "<IPython.core.display.Javascript at 0x21af16a0>"
       ]
      },
      {
       "javascript": [
        "$('div#a83ef0ef-db47-4f5e-84d0-bc6e8a8ca5c9').text(' 42%');"
       ],
       "metadata": {},
       "output_type": "display_data",
       "text": [
        "<IPython.core.display.Javascript at 0x1ef9a1d0>"
       ]
      },
      {
       "javascript": [
        "\n",
        "        var $myPB = $(\"div#f17a2ed0-5f64-4ad3-a686-8052fe32a4c0\")\n",
        "        if ($myPB.hasClass('ui-progressbar')) {\n",
        "            $myPB.progressbar('value', 9);\n",
        "        } else {\n",
        "            $myPB.progressbar({value: 0, max: 21});\n",
        "        }\n",
        "        "
       ],
       "metadata": {},
       "output_type": "display_data",
       "text": [
        "<IPython.core.display.Javascript at 0x1f6f10b8>"
       ]
      },
      {
       "javascript": [
        "$('div#87f25278-72f1-4c81-9eab-bdfd25fe4640').text('ETA:  0:00:00');"
       ],
       "metadata": {},
       "output_type": "display_data",
       "text": [
        "<IPython.core.display.Javascript at 0x1ef9a1d0>"
       ]
      },
      {
       "javascript": [
        "$('div#fd3a2da5-ed8c-4959-9ab9-e1aa665abfb8').text('10 of 21');"
       ],
       "metadata": {},
       "output_type": "display_data",
       "text": [
        "<IPython.core.display.Javascript at 0x21af16a0>"
       ]
      },
      {
       "javascript": [
        "$('div#a83ef0ef-db47-4f5e-84d0-bc6e8a8ca5c9').text(' 47%');"
       ],
       "metadata": {},
       "output_type": "display_data",
       "text": [
        "<IPython.core.display.Javascript at 0x21af10b8>"
       ]
      },
      {
       "javascript": [
        "\n",
        "        var $myPB = $(\"div#f17a2ed0-5f64-4ad3-a686-8052fe32a4c0\")\n",
        "        if ($myPB.hasClass('ui-progressbar')) {\n",
        "            $myPB.progressbar('value', 10);\n",
        "        } else {\n",
        "            $myPB.progressbar({value: 0, max: 21});\n",
        "        }\n",
        "        "
       ],
       "metadata": {},
       "output_type": "display_data",
       "text": [
        "<IPython.core.display.Javascript at 0x1f6f16d8>"
       ]
      },
      {
       "javascript": [
        "$('div#87f25278-72f1-4c81-9eab-bdfd25fe4640').text('ETA:  0:00:00');"
       ],
       "metadata": {},
       "output_type": "display_data",
       "text": [
        "<IPython.core.display.Javascript at 0x21af10b8>"
       ]
      },
      {
       "javascript": [
        "$('div#fd3a2da5-ed8c-4959-9ab9-e1aa665abfb8').text('11 of 21');"
       ],
       "metadata": {},
       "output_type": "display_data",
       "text": [
        "<IPython.core.display.Javascript at 0x21af16a0>"
       ]
      },
      {
       "javascript": [
        "$('div#a83ef0ef-db47-4f5e-84d0-bc6e8a8ca5c9').text(' 52%');"
       ],
       "metadata": {},
       "output_type": "display_data",
       "text": [
        "<IPython.core.display.Javascript at 0x1ef9a1d0>"
       ]
      },
      {
       "javascript": [
        "\n",
        "        var $myPB = $(\"div#f17a2ed0-5f64-4ad3-a686-8052fe32a4c0\")\n",
        "        if ($myPB.hasClass('ui-progressbar')) {\n",
        "            $myPB.progressbar('value', 11);\n",
        "        } else {\n",
        "            $myPB.progressbar({value: 0, max: 21});\n",
        "        }\n",
        "        "
       ],
       "metadata": {},
       "output_type": "display_data",
       "text": [
        "<IPython.core.display.Javascript at 0x1f6f1b70>"
       ]
      },
      {
       "javascript": [
        "$('div#87f25278-72f1-4c81-9eab-bdfd25fe4640').text('ETA:  0:00:00');"
       ],
       "metadata": {},
       "output_type": "display_data",
       "text": [
        "<IPython.core.display.Javascript at 0x1ef9a1d0>"
       ]
      },
      {
       "javascript": [
        "$('div#fd3a2da5-ed8c-4959-9ab9-e1aa665abfb8').text('12 of 21');"
       ],
       "metadata": {},
       "output_type": "display_data",
       "text": [
        "<IPython.core.display.Javascript at 0x21af16a0>"
       ]
      },
      {
       "javascript": [
        "$('div#a83ef0ef-db47-4f5e-84d0-bc6e8a8ca5c9').text(' 57%');"
       ],
       "metadata": {},
       "output_type": "display_data",
       "text": [
        "<IPython.core.display.Javascript at 0x21af10b8>"
       ]
      },
      {
       "javascript": [
        "\n",
        "        var $myPB = $(\"div#f17a2ed0-5f64-4ad3-a686-8052fe32a4c0\")\n",
        "        if ($myPB.hasClass('ui-progressbar')) {\n",
        "            $myPB.progressbar('value', 12);\n",
        "        } else {\n",
        "            $myPB.progressbar({value: 0, max: 21});\n",
        "        }\n",
        "        "
       ],
       "metadata": {},
       "output_type": "display_data",
       "text": [
        "<IPython.core.display.Javascript at 0x1f6f10b8>"
       ]
      },
      {
       "javascript": [
        "$('div#87f25278-72f1-4c81-9eab-bdfd25fe4640').text('ETA:  0:00:00');"
       ],
       "metadata": {},
       "output_type": "display_data",
       "text": [
        "<IPython.core.display.Javascript at 0x21af10b8>"
       ]
      },
      {
       "javascript": [
        "$('div#fd3a2da5-ed8c-4959-9ab9-e1aa665abfb8').text('13 of 21');"
       ],
       "metadata": {},
       "output_type": "display_data",
       "text": [
        "<IPython.core.display.Javascript at 0x21af16a0>"
       ]
      },
      {
       "javascript": [
        "$('div#a83ef0ef-db47-4f5e-84d0-bc6e8a8ca5c9').text(' 61%');"
       ],
       "metadata": {},
       "output_type": "display_data",
       "text": [
        "<IPython.core.display.Javascript at 0x1ef9a1d0>"
       ]
      },
      {
       "javascript": [
        "\n",
        "        var $myPB = $(\"div#f17a2ed0-5f64-4ad3-a686-8052fe32a4c0\")\n",
        "        if ($myPB.hasClass('ui-progressbar')) {\n",
        "            $myPB.progressbar('value', 13);\n",
        "        } else {\n",
        "            $myPB.progressbar({value: 0, max: 21});\n",
        "        }\n",
        "        "
       ],
       "metadata": {},
       "output_type": "display_data",
       "text": [
        "<IPython.core.display.Javascript at 0x1f6f1550>"
       ]
      },
      {
       "javascript": [
        "$('div#87f25278-72f1-4c81-9eab-bdfd25fe4640').text('ETA:  0:00:00');"
       ],
       "metadata": {},
       "output_type": "display_data",
       "text": [
        "<IPython.core.display.Javascript at 0x1ef9a1d0>"
       ]
      },
      {
       "javascript": [
        "$('div#fd3a2da5-ed8c-4959-9ab9-e1aa665abfb8').text('14 of 21');"
       ],
       "metadata": {},
       "output_type": "display_data",
       "text": [
        "<IPython.core.display.Javascript at 0x21af16a0>"
       ]
      },
      {
       "javascript": [
        "$('div#a83ef0ef-db47-4f5e-84d0-bc6e8a8ca5c9').text(' 66%');"
       ],
       "metadata": {},
       "output_type": "display_data",
       "text": [
        "<IPython.core.display.Javascript at 0x21af10b8>"
       ]
      },
      {
       "javascript": [
        "\n",
        "        var $myPB = $(\"div#f17a2ed0-5f64-4ad3-a686-8052fe32a4c0\")\n",
        "        if ($myPB.hasClass('ui-progressbar')) {\n",
        "            $myPB.progressbar('value', 14);\n",
        "        } else {\n",
        "            $myPB.progressbar({value: 0, max: 21});\n",
        "        }\n",
        "        "
       ],
       "metadata": {},
       "output_type": "display_data",
       "text": [
        "<IPython.core.display.Javascript at 0x1f6f1b70>"
       ]
      },
      {
       "javascript": [
        "$('div#87f25278-72f1-4c81-9eab-bdfd25fe4640').text('ETA:  0:00:00');"
       ],
       "metadata": {},
       "output_type": "display_data",
       "text": [
        "<IPython.core.display.Javascript at 0x21af10b8>"
       ]
      },
      {
       "javascript": [
        "$('div#fd3a2da5-ed8c-4959-9ab9-e1aa665abfb8').text('15 of 21');"
       ],
       "metadata": {},
       "output_type": "display_data",
       "text": [
        "<IPython.core.display.Javascript at 0x21af16a0>"
       ]
      },
      {
       "javascript": [
        "$('div#a83ef0ef-db47-4f5e-84d0-bc6e8a8ca5c9').text(' 71%');"
       ],
       "metadata": {},
       "output_type": "display_data",
       "text": [
        "<IPython.core.display.Javascript at 0x1ef9a1d0>"
       ]
      },
      {
       "javascript": [
        "\n",
        "        var $myPB = $(\"div#f17a2ed0-5f64-4ad3-a686-8052fe32a4c0\")\n",
        "        if ($myPB.hasClass('ui-progressbar')) {\n",
        "            $myPB.progressbar('value', 15);\n",
        "        } else {\n",
        "            $myPB.progressbar({value: 0, max: 21});\n",
        "        }\n",
        "        "
       ],
       "metadata": {},
       "output_type": "display_data",
       "text": [
        "<IPython.core.display.Javascript at 0x1f6f1b70>"
       ]
      },
      {
       "javascript": [
        "$('div#87f25278-72f1-4c81-9eab-bdfd25fe4640').text('ETA:  0:00:00');"
       ],
       "metadata": {},
       "output_type": "display_data",
       "text": [
        "<IPython.core.display.Javascript at 0x1f6f10b8>"
       ]
      },
      {
       "javascript": [
        "$('div#fd3a2da5-ed8c-4959-9ab9-e1aa665abfb8').text('16 of 21');"
       ],
       "metadata": {},
       "output_type": "display_data",
       "text": [
        "<IPython.core.display.Javascript at 0x1f6f1550>"
       ]
      },
      {
       "javascript": [
        "$('div#a83ef0ef-db47-4f5e-84d0-bc6e8a8ca5c9').text(' 76%');"
       ],
       "metadata": {},
       "output_type": "display_data",
       "text": [
        "<IPython.core.display.Javascript at 0x1f6f1208>"
       ]
      },
      {
       "javascript": [
        "\n",
        "        var $myPB = $(\"div#f17a2ed0-5f64-4ad3-a686-8052fe32a4c0\")\n",
        "        if ($myPB.hasClass('ui-progressbar')) {\n",
        "            $myPB.progressbar('value', 16);\n",
        "        } else {\n",
        "            $myPB.progressbar({value: 0, max: 21});\n",
        "        }\n",
        "        "
       ],
       "metadata": {},
       "output_type": "display_data",
       "text": [
        "<IPython.core.display.Javascript at 0x1f6f16d8>"
       ]
      },
      {
       "javascript": [
        "$('div#87f25278-72f1-4c81-9eab-bdfd25fe4640').text('ETA:  0:00:00');"
       ],
       "metadata": {},
       "output_type": "display_data",
       "text": [
        "<IPython.core.display.Javascript at 0x1f6f1b70>"
       ]
      },
      {
       "javascript": [
        "$('div#fd3a2da5-ed8c-4959-9ab9-e1aa665abfb8').text('17 of 21');"
       ],
       "metadata": {},
       "output_type": "display_data",
       "text": [
        "<IPython.core.display.Javascript at 0x21af16a0>"
       ]
      },
      {
       "javascript": [
        "$('div#a83ef0ef-db47-4f5e-84d0-bc6e8a8ca5c9').text(' 80%');"
       ],
       "metadata": {},
       "output_type": "display_data",
       "text": [
        "<IPython.core.display.Javascript at 0x21af10b8>"
       ]
      },
      {
       "javascript": [
        "\n",
        "        var $myPB = $(\"div#f17a2ed0-5f64-4ad3-a686-8052fe32a4c0\")\n",
        "        if ($myPB.hasClass('ui-progressbar')) {\n",
        "            $myPB.progressbar('value', 17);\n",
        "        } else {\n",
        "            $myPB.progressbar({value: 0, max: 21});\n",
        "        }\n",
        "        "
       ],
       "metadata": {},
       "output_type": "display_data",
       "text": [
        "<IPython.core.display.Javascript at 0x21af1b70>"
       ]
      },
      {
       "javascript": [
        "$('div#87f25278-72f1-4c81-9eab-bdfd25fe4640').text('ETA:  0:00:00');"
       ],
       "metadata": {},
       "output_type": "display_data",
       "text": [
        "<IPython.core.display.Javascript at 0x1f6f1b70>"
       ]
      },
      {
       "javascript": [
        "$('div#fd3a2da5-ed8c-4959-9ab9-e1aa665abfb8').text('18 of 21');"
       ],
       "metadata": {},
       "output_type": "display_data",
       "text": [
        "<IPython.core.display.Javascript at 0x1f6f1b70>"
       ]
      },
      {
       "javascript": [
        "$('div#a83ef0ef-db47-4f5e-84d0-bc6e8a8ca5c9').text(' 85%');"
       ],
       "metadata": {},
       "output_type": "display_data",
       "text": [
        "<IPython.core.display.Javascript at 0x1f6f1208>"
       ]
      },
      {
       "javascript": [
        "\n",
        "        var $myPB = $(\"div#f17a2ed0-5f64-4ad3-a686-8052fe32a4c0\")\n",
        "        if ($myPB.hasClass('ui-progressbar')) {\n",
        "            $myPB.progressbar('value', 18);\n",
        "        } else {\n",
        "            $myPB.progressbar({value: 0, max: 21});\n",
        "        }\n",
        "        "
       ],
       "metadata": {},
       "output_type": "display_data",
       "text": [
        "<IPython.core.display.Javascript at 0x1f6f1550>"
       ]
      },
      {
       "javascript": [
        "$('div#87f25278-72f1-4c81-9eab-bdfd25fe4640').text('ETA:  0:00:00');"
       ],
       "metadata": {},
       "output_type": "display_data",
       "text": [
        "<IPython.core.display.Javascript at 0x1f6f16d8>"
       ]
      },
      {
       "javascript": [
        "$('div#fd3a2da5-ed8c-4959-9ab9-e1aa665abfb8').text('19 of 21');"
       ],
       "metadata": {},
       "output_type": "display_data",
       "text": [
        "<IPython.core.display.Javascript at 0x21af10b8>"
       ]
      },
      {
       "javascript": [
        "$('div#a83ef0ef-db47-4f5e-84d0-bc6e8a8ca5c9').text(' 90%');"
       ],
       "metadata": {},
       "output_type": "display_data",
       "text": [
        "<IPython.core.display.Javascript at 0x21af16a0>"
       ]
      },
      {
       "javascript": [
        "\n",
        "        var $myPB = $(\"div#f17a2ed0-5f64-4ad3-a686-8052fe32a4c0\")\n",
        "        if ($myPB.hasClass('ui-progressbar')) {\n",
        "            $myPB.progressbar('value', 19);\n",
        "        } else {\n",
        "            $myPB.progressbar({value: 0, max: 21});\n",
        "        }\n",
        "        "
       ],
       "metadata": {},
       "output_type": "display_data",
       "text": [
        "<IPython.core.display.Javascript at 0x21af1b70>"
       ]
      },
      {
       "javascript": [
        "$('div#87f25278-72f1-4c81-9eab-bdfd25fe4640').text('ETA:  0:00:00');"
       ],
       "metadata": {},
       "output_type": "display_data",
       "text": [
        "<IPython.core.display.Javascript at 0x1f6f16d8>"
       ]
      },
      {
       "javascript": [
        "$('div#fd3a2da5-ed8c-4959-9ab9-e1aa665abfb8').text('20 of 21');"
       ],
       "metadata": {},
       "output_type": "display_data",
       "text": [
        "<IPython.core.display.Javascript at 0x1f6f1208>"
       ]
      },
      {
       "javascript": [
        "$('div#a83ef0ef-db47-4f5e-84d0-bc6e8a8ca5c9').text(' 95%');"
       ],
       "metadata": {},
       "output_type": "display_data",
       "text": [
        "<IPython.core.display.Javascript at 0x1f6f1b70>"
       ]
      },
      {
       "javascript": [
        "\n",
        "        var $myPB = $(\"div#f17a2ed0-5f64-4ad3-a686-8052fe32a4c0\")\n",
        "        if ($myPB.hasClass('ui-progressbar')) {\n",
        "            $myPB.progressbar('value', 20);\n",
        "        } else {\n",
        "            $myPB.progressbar({value: 0, max: 21});\n",
        "        }\n",
        "        "
       ],
       "metadata": {},
       "output_type": "display_data",
       "text": [
        "<IPython.core.display.Javascript at 0x1f6f1550>"
       ]
      },
      {
       "javascript": [
        "$('div#87f25278-72f1-4c81-9eab-bdfd25fe4640').text('ETA:  0:00:00');"
       ],
       "metadata": {},
       "output_type": "display_data",
       "text": [
        "<IPython.core.display.Javascript at 0x21af16a0>"
       ]
      },
      {
       "javascript": [
        "$('div#fd3a2da5-ed8c-4959-9ab9-e1aa665abfb8').text('21 of 21');"
       ],
       "metadata": {},
       "output_type": "display_data",
       "text": [
        "<IPython.core.display.Javascript at 0x21af16a0>"
       ]
      },
      {
       "javascript": [
        "$('div#a83ef0ef-db47-4f5e-84d0-bc6e8a8ca5c9').text('100%');"
       ],
       "metadata": {},
       "output_type": "display_data",
       "text": [
        "<IPython.core.display.Javascript at 0x21af10b8>"
       ]
      },
      {
       "javascript": [
        "\n",
        "        var $myPB = $(\"div#f17a2ed0-5f64-4ad3-a686-8052fe32a4c0\")\n",
        "        if ($myPB.hasClass('ui-progressbar')) {\n",
        "            $myPB.progressbar('value', 21);\n",
        "        } else {\n",
        "            $myPB.progressbar({value: 0, max: 21});\n",
        "        }\n",
        "        "
       ],
       "metadata": {},
       "output_type": "display_data",
       "text": [
        "<IPython.core.display.Javascript at 0x21af1b70>"
       ]
      },
      {
       "javascript": [
        "$('div#87f25278-72f1-4c81-9eab-bdfd25fe4640').text('ETA:  0:00:00');"
       ],
       "metadata": {},
       "output_type": "display_data",
       "text": [
        "<IPython.core.display.Javascript at 0x1f6f1b70>"
       ]
      },
      {
       "javascript": [
        "$('div#fd3a2da5-ed8c-4959-9ab9-e1aa665abfb8').text('21 of 21');"
       ],
       "metadata": {},
       "output_type": "display_data",
       "text": [
        "<IPython.core.display.Javascript at 0x1f6f1b70>"
       ]
      },
      {
       "javascript": [
        "$('div#a83ef0ef-db47-4f5e-84d0-bc6e8a8ca5c9').text('100%');"
       ],
       "metadata": {},
       "output_type": "display_data",
       "text": [
        "<IPython.core.display.Javascript at 0x1f6f1208>"
       ]
      },
      {
       "javascript": [
        "\n",
        "        var $myPB = $(\"div#f17a2ed0-5f64-4ad3-a686-8052fe32a4c0\")\n",
        "        if ($myPB.hasClass('ui-progressbar')) {\n",
        "            $myPB.progressbar('value', 21);\n",
        "        } else {\n",
        "            $myPB.progressbar({value: 0, max: 21});\n",
        "        }\n",
        "        "
       ],
       "metadata": {},
       "output_type": "display_data",
       "text": [
        "<IPython.core.display.Javascript at 0x1f6f1550>"
       ]
      },
      {
       "javascript": [
        "$('div#87f25278-72f1-4c81-9eab-bdfd25fe4640').text('Time: 0:00:00');"
       ],
       "metadata": {},
       "output_type": "display_data",
       "text": [
        "<IPython.core.display.Javascript at 0x21af1470>"
       ]
      },
      {
       "javascript": [
        "var element = document.getElementById('daa5c44d-50a8-4b1f-90c4-dab6d16f2afa');\n",
        "                    var parent = element.parentNode\n",
        "                    parent.removeChild(element);\n",
        "                    parent.parentElement.remove();"
       ],
       "metadata": {},
       "output_type": "display_data",
       "text": [
        "<IPython.core.display.Javascript at 0x1ef9a1d0>"
       ]
      },
      {
       "javascript": [
        "this.cleanProgressBar(['daa5c44d-50a8-4b1f-90c4-dab6d16f2afa', 'fd3a2da5-ed8c-4959-9ab9-e1aa665abfb8', 'a83ef0ef-db47-4f5e-84d0-bc6e8a8ca5c9', 'f17a2ed0-5f64-4ad3-a686-8052fe32a4c0', '87f25278-72f1-4c81-9eab-bdfd25fe4640'])"
       ],
       "metadata": {},
       "output_type": "display_data",
       "text": [
        "<IPython.core.display.Javascript at 0x1f6f1208>"
       ]
      },
      {
       "metadata": {},
       "output_type": "pyout",
       "prompt_number": 39,
       "text": [
        "[]"
       ]
      }
     ],
     "prompt_number": 39
    }
   ],
   "metadata": {}
  }
 ]
}