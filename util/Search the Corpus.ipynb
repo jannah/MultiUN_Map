{
 "metadata": {
  "name": "",
  "signature": "sha256:e4ef0ef5de2d4c207b53efb34d1de527b965fcdcd88e6e76731829cb8d196a34"
 },
 "nbformat": 3,
 "nbformat_minor": 0,
 "worksheets": [
  {
   "cells": [
    {
     "cell_type": "heading",
     "level": 1,
     "metadata": {},
     "source": [
      "Search for a Specific Document in the Corpus"
     ]
    },
    {
     "cell_type": "markdown",
     "metadata": {},
     "source": [
      "A simple utility to search for a document using its' attributes"
     ]
    },
    {
     "cell_type": "code",
     "collapsed": false,
     "input": [
      "MODULES_PATH = '''../modules/multi_un_module.py'''\n",
      "import imp\n",
      "NF = imp.load_source('multi_un_module', MODULES_PATH)\n",
      "import multi_un_module as mun\n",
      "from IPython.display import HTML"
     ],
     "language": "python",
     "metadata": {},
     "outputs": [],
     "prompt_number": 1
    },
    {
     "cell_type": "markdown",
     "metadata": {},
     "source": [
      "serach for documents"
     ]
    },
    {
     "cell_type": "code",
     "collapsed": false,
     "input": [
      "n = raw_input('Enter a document attribute:\\n')\n",
      "items = mun.get_documents(term=n.strip(), include_content=True, limit = 10)\n",
      "print len(items), ' result%s'%('s' if len(items)>1 else '')\n",
      "h = HTML(mun.json2html(items));h"
     ],
     "language": "python",
     "metadata": {},
     "outputs": [
      {
       "name": "stdout",
       "output_type": "stream",
       "stream": "stdout",
       "text": [
        "Enter a document attribute:\n",
        "A_61_133_ADD3-en.xml\n"
       ]
      },
      {
       "output_type": "stream",
       "stream": "stdout",
       "text": [
        "1  result\n"
       ]
      },
      {
       "html": [
        "<table><tr><td>multiUN.en\\un\\xml\\en\\2007\\A_61_133_ADD3-en.xml</td><td><table><tr><td>attributes</td><td><table><tr><td>lang</td><td>English</td></tr><tr><td>date</td><td>2007/02/15</td></tr><tr><td>path</td><td>C:\\Users\\Hassan\\Documents\\iSchool\\NLP\\United Nations\\multiUN.en\\un\\xml\\en\\2007\\A_61_133_ADD3-en.xml</td></tr><tr><td>id</td><td>A/61/133/ADD.3</td></tr><tr><td>n</td><td>N0724260</td></tr></table></td></tr><tr><td>scrape</td><td><table><tr><td>Title</td><td>OBJECTIVE INFORMATION ON MILITARY MATTERS, INCLUDING TRANSPARENCY OF MILITARY EXPENDITURES : REPORT OF THE SECRETARY-GENERAL : ADDENDUM</td></tr><tr><td>ODS</td><td>A/61/133/ADD.3</td></tr><tr><td>Agenda Items</td><td>82</td></tr><tr><td>Subjects</td><td><table><tr><td>1</td><td>MILITARY EXPENDITURES</td></tr><tr><td>2</td><td>MILITARY BUDGETS</td></tr><tr><td>3</td><td>PHILIPPINES</td></tr><tr><td>4</td><td>TRANSPARENCY IN ARMAMENTS</td></tr><tr><td>5</td><td>STANDARDIZATION</td></tr><tr><td>6</td><td>INFORMATION EXCHANGE</td></tr></table></td></tr><tr><td>Session/Year</td><td>61</td></tr><tr><td>Distribution</td><td>GEN</td></tr><tr><td>Area</td><td>UNDOC</td></tr><tr><td>Symbol</td><td>A/61/133/ADD.3</td></tr><tr><td>Publication date</td><td>15/2/2007</td></tr></table></td></tr></table></td></tr></table>"
       ],
       "metadata": {},
       "output_type": "pyout",
       "prompt_number": 6,
       "text": [
        "<IPython.core.display.HTML at 0x99e066a0>"
       ]
      }
     ],
     "prompt_number": 6
    },
    {
     "cell_type": "code",
     "collapsed": false,
     "input": [
      "doc_name = raw_input('Enter a document attribute:\\n')\n",
      "items = mun.get_documents(doc_n=doc_name, limit = 10, include_content=True)\n",
      "print len(items), ' result%s'%('s' if len(items)>1 else '')\n",
      "\n",
      "h = HTML(mun.json2html(items));h"
     ],
     "language": "python",
     "metadata": {},
     "outputs": []
    },
    {
     "cell_type": "code",
     "collapsed": false,
     "input": [
      "fn  = r'multiUN.en\\un\\xml\\en\\2002\\A_56_1015-en.xml'\n",
      "fn.split('\\\\')[-2:-1][0]\n"
     ],
     "language": "python",
     "metadata": {},
     "outputs": []
    }
   ],
   "metadata": {}
  }
 ]
}