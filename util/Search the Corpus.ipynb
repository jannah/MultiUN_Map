{
 "metadata": {
  "name": "",
  "signature": "sha256:561520b6609d2cdd029d0877c4b29a2180e87e0654b32d43369268be86a0d37a"
 },
 "nbformat": 3,
 "nbformat_minor": 0,
 "worksheets": [
  {
   "cells": [
    {
     "cell_type": "heading",
     "level": 1,
     "metadata": {},
     "source": [
      "Search for a Specific Document in the Corpus"
     ]
    },
    {
     "cell_type": "markdown",
     "metadata": {},
     "source": [
      "A simple utility to search for a document using its' attributes"
     ]
    },
    {
     "cell_type": "code",
     "collapsed": false,
     "input": [
      "MODULES_PATH = '''../modules/multi_un_module.py'''\n",
      "import imp\n",
      "NF = imp.load_source('multi_un_module', MODULES_PATH)\n",
      "import multi_un_module as mun\n",
      "from IPython.display import HTML"
     ],
     "language": "python",
     "metadata": {},
     "outputs": [],
     "prompt_number": 1
    },
    {
     "cell_type": "markdown",
     "metadata": {},
     "source": [
      "serach for documents"
     ]
    },
    {
     "cell_type": "code",
     "collapsed": false,
     "input": [
      "n = raw_input('Enter a document attribute:\\n')\n",
      "items = mun.get_documents(doc_id=n.strip(), limit = 10)\n",
      "print len(items), ' result%s'%('s' if len(items)>1 else '')\n",
      "h = HTML(mun.json2html(items));h"
     ],
     "language": "python",
     "metadata": {},
     "outputs": [
      {
       "name": "stdout",
       "output_type": "stream",
       "stream": "stdout",
       "text": [
        "Enter a document attribute:\n",
        "A/C.4/61/L.13\n"
       ]
      },
      {
       "output_type": "stream",
       "stream": "stdout",
       "text": [
        "10  results\n"
       ]
      },
      {
       "html": [
        "<table><tr><td>multiUN.en\\un\\xml\\en\\2006\\A_61_408-en.xml</td><td><table><tr><td>attributes</td><td><table><tr><td>lang</td><td>English</td></tr><tr><td>date</td><td>2006/10/03</td></tr><tr><td>path</td><td>C:\\Users\\Hassan\\Documents\\iSchool\\NLP\\United Nations\\multiUN.en\\un\\xml\\en\\2006\\A_61_408-en.xml</td></tr><tr><td>id</td><td>A/61/408</td></tr><tr><td>n</td><td>N0654840</td></tr></table></td></tr><tr><td>scrape</td><td><table><tr><td>Title</td><td>REPORT OF THE SPECIAL COMMITTEE TO INVESTIGATE ISRAELI PRACTICES AFFECTING THE HUMAN RIGHTS OF THE PALESTINIAN PEOPLE AND OTHER ARABS OF THE OCCUPIED TERRITORIES : REPORT OF THE SPECIAL POLITICAL AND DECOLONIZATION COMMITTEE (4TH COMMITTEE) : GENERAL ASSEMBLY, 61ST SESSION</td></tr><tr><td>ODS</td><td>A/61/408</td></tr><tr><td>Agenda Items</td><td>32</td></tr><tr><td>Subjects</td><td><table><tr><td>1</td><td>SETTLEMENT POLICY</td></tr><tr><td>2</td><td>GOLAN HEIGHTS</td></tr><tr><td>3</td><td>JERUSALEM</td></tr><tr><td>4</td><td>ISRAEL</td></tr><tr><td>5</td><td>SEPARATION BARRIERS</td></tr><tr><td>6</td><td>TROOP WITHDRAWAL</td></tr><tr><td>7</td><td>DESTRUCTION OF PROPERTY</td></tr><tr><td>8</td><td></td></tr><tr><td>9</td><td>WEST BANK</td></tr><tr><td>10</td><td>HUMAN RIGHTS</td></tr><tr><td>11</td><td>TERRITORIES OCCUPIED BY ISRAEL</td></tr><tr><td>12</td><td>PALESTINIANS</td></tr><tr><td>13</td><td>INTERNATIONAL OBLIGATIONS</td></tr><tr><td>14</td><td>HUMAN RIGHTS VIOLATIONS</td></tr><tr><td>15</td><td>ARABS</td></tr><tr><td>16</td><td>CIVILIAN PERSONS</td></tr><tr><td>17</td><td>HUMAN RIGHTS IN ARMED CONFLICTS</td></tr><tr><td>18</td><td>EXTRALEGAL EXECUTIONS</td></tr><tr><td>19</td><td>ADVISORY OPINIONS</td></tr><tr><td>20</td><td>REPORT PREPARATION</td></tr><tr><td>21</td><td>PERIODIC REPORTS</td></tr><tr><td>22</td><td>PRISONER TREATMENT</td></tr><tr><td>23</td><td>DETAINED PERSONS</td></tr><tr><td>24</td><td>INFORMATION EXCHANGE</td></tr><tr><td>25</td><td>TREATY COMPLIANCE</td></tr><tr><td>26</td><td>WEAPONS SURRENDER</td></tr><tr><td>27</td><td>VIOLENCE</td></tr><tr><td>28</td><td>PROPERTY</td></tr><tr><td>29</td><td>DISPLACED PERSONS</td></tr><tr><td>30</td><td>SUICIDE BOMBINGS</td></tr><tr><td>31</td><td>ELECTIONS</td></tr><tr><td>32</td><td>HUMANITARIAN EMERGENCIES</td></tr><tr><td>33</td><td>FINANCIAL CRISIS</td></tr><tr><td>34</td><td>PUBLIC SERVICES</td></tr><tr><td>35</td><td>CIVIL AND POLITICAL RIGHTS</td></tr><tr><td>36</td><td>ECONOMIC, SOCIAL AND CULTURAL RIGHTS</td></tr><tr><td>37</td><td>WAR DAMAGE COMPENSATION</td></tr><tr><td>38</td><td>FREEDOM OF MOVEMENT</td></tr><tr><td>39</td><td>DEPORTATION</td></tr><tr><td>40</td><td>REPATRIATION</td></tr><tr><td>41</td><td>LEGAL STATUS</td></tr><tr><td>42</td><td>NATIONALITY</td></tr><tr><td>43</td><td>POPULATION COMPOSITION</td></tr><tr><td>44</td><td>IDENTIFICATION CARDS</td></tr><tr><td>45</td><td>MILITARY ACTIVITY</td></tr><tr><td>46</td><td>AGGRESSION</td></tr><tr><td>47</td><td>CONFIDENCE-BUILDING MEASURES</td></tr></table></td></tr><tr><td>Session/Year</td><td>61</td></tr><tr><td>Distribution</td><td>GEN</td></tr><tr><td>Area</td><td>UNDOC</td></tr><tr><td>Symbol</td><td>A/61/408</td></tr><tr><td>Publication date</td><td>4/12/2006</td></tr></table></td></tr></table></td></tr><tr><td>multiUN.en\\un\\xml\\en\\2008\\A_62_949-en.xml</td><td><table><tr><td>attributes</td><td><table><tr><td>lang</td><td>English</td></tr><tr><td>date</td><td>2008/09/04</td></tr><tr><td>path</td><td>C:\\Users\\Hassan\\Documents\\iSchool\\NLP\\United Nations\\multiUN.en\\un\\xml\\en\\2008\\A_62_949-en.xml</td></tr><tr><td>id</td><td>A/62/949</td></tr><tr><td>n</td><td>N0849844</td></tr></table></td></tr><tr><td>scrape</td><td><table><tr><td>Title</td><td>LETTER DATED 2008/08/26 FROM THE PERMANENT REPRESENTATIVE OF CAMBODIA TO THE UNITED NATIONS ADDRESSED TO THE SECRETARY-GENERAL</td></tr><tr><td>ODS</td><td>A/62/949</td></tr><tr><td>Agenda Items</td><td>49</td></tr><tr><td>Subjects</td><td><table><tr><td>1</td><td>PEACE</td></tr><tr><td>2</td><td>INTERCULTURAL COMMUNICATION</td></tr><tr><td>3</td><td>CULTURAL PLURALISM</td></tr><tr><td>4</td><td>TOLERANCE</td></tr><tr><td>5</td><td>RELIGIOUS EDUCATION</td></tr></table></td></tr><tr><td>Session/Year</td><td>62</td></tr><tr><td>Distribution</td><td>GEN</td></tr><tr><td>Area</td><td>UNDOC</td></tr><tr><td>Symbol</td><td>A/62/949</td></tr><tr><td>Publication date</td><td>4/9/2008</td></tr></table></td></tr></table></td></tr><tr><td>multiUN.en\\un\\xml\\en\\2000\\E_ESCAP_STAT12_14-en.xml</td><td><table><tr><td>attributes</td><td><table><tr><td>lang</td><td>English</td></tr><tr><td>date</td><td>2000/11/03</td></tr><tr><td>path</td><td>C:\\Users\\Hassan\\Documents\\iSchool\\NLP\\United Nations\\multiUN.en\\un\\xml\\en\\2000\\E_ESCAP_STAT12_14-en.xml</td></tr><tr><td>id</td><td>E/ESCAP/STAT.12/14</td></tr><tr><td>n</td><td>B070347</td></tr></table></td></tr><tr><td>scrape</td><td><table><tr><td>Title</td><td>SECRETARIAL ACTIVITIES SINCE THE ELEVENTH SESSION OF THE COMMITTEE ON STATISTICS ; COMMITTEE ON STATISTICS (12TH SESS.: 29 NOVEMBER - 1 DECEMBER 2000 : BANGKOK) ; NOTE BY THE SECRETARIAT</td></tr><tr><td>ODS</td><td>E/ESCAP/STAT.12/14</td></tr><tr><td>Agenda Items</td><td>9(c)</td></tr><tr><td>Subjects</td><td><table><tr><td>1</td><td>STATISTICS</td></tr><tr><td>2</td><td>STATISTICAL SERVICES</td></tr><tr><td>3</td><td>REGIONAL PLANNING</td></tr><tr><td>4</td><td>ASIA AND THE PACIFIC</td></tr></table></td></tr><tr><td>Session/Year</td><td>12</td></tr><tr><td>Distribution</td><td>GEN</td></tr><tr><td>Area</td><td>UNDOC</td></tr><tr><td>Symbol</td><td>E/ESCAP/STAT.12/14</td></tr><tr><td>Publication date</td><td>2/11/2000</td></tr></table></td></tr></table></td></tr><tr><td>multiUN.en\\un\\xml\\en\\2007\\CCPR_C_SR2453-en.xml</td><td><table><tr><td>attributes</td><td><table><tr><td>lang</td><td>English</td></tr><tr><td>date</td><td>2007/07/12</td></tr><tr><td>path</td><td>C:\\Users\\Hassan\\Documents\\iSchool\\NLP\\United Nations\\multiUN.en\\un\\xml\\en\\2007\\CCPR_C_SR2453-en.xml</td></tr><tr><td>id</td><td>CCPR/C/SR.2453</td></tr><tr><td>n</td><td>G0742871</td></tr></table></td></tr><tr><td>scrape</td><td><table><tr><td>Title</td><td>SUMMARY RECORD (PARTIAL) OF THE 2453RD MEETING, HELD AT THE PALAIS WILSON, GENEVA, ON MONDAY, 9 JULY 2007 : HUMAN RIGHTS COMMITTEE, 90TH SESSION</td></tr><tr><td>ODS</td><td>CCPR/C/SR.2453</td></tr><tr><td>Subjects</td><td><table><tr><td>1</td><td>HUMAN RIGHTS</td></tr><tr><td>2</td><td>TREATY-MONITORING BODIES</td></tr><tr><td>3</td><td>COORDINATION WITHIN UN SYSTEM</td></tr></table></td></tr><tr><td>Session/Year</td><td>90</td></tr><tr><td>Distribution</td><td>GEN</td></tr><tr><td>Area</td><td>UNDOC</td></tr><tr><td>Symbol</td><td>CCPR/C/SR.2453</td></tr><tr><td>Publication date</td><td>12/7/2007</td></tr></table></td></tr></table></td></tr><tr><td>multiUN.en\\un\\xml\\en\\2009\\A_C5_63_SR45-en.xml</td><td><table><tr><td>attributes</td><td><table><tr><td>lang</td><td>English</td></tr><tr><td>date</td><td>2009/05/18</td></tr><tr><td>path</td><td>C:\\Users\\Hassan\\Documents\\iSchool\\NLP\\United Nations\\multiUN.en\\un\\xml\\en\\2009\\A_C5_63_SR45-en.xml</td></tr><tr><td>id</td><td>A/C.5/63/SR.45</td></tr><tr><td>n</td><td>N0934073</td></tr></table></td></tr><tr><td>scrape</td><td><table><tr><td>Title</td><td>SUMMARY RECORD OF THE 45TH MEETING : 5TH COMMITTEE, HELD AT HEADQUARTERS, NEW YORK, ON MONDAY, 18 MAY 2009, GENERAL ASSEMBLY, 63RD SESSION</td></tr><tr><td>ODS</td><td>A/C.5/63/SR.45</td></tr><tr><td>Agenda Items</td><td>132</td></tr><tr><td>Subjects</td><td><table><tr><td>1</td><td>PEACEKEEPING OPERATIONS</td></tr><tr><td>2</td><td>FINANCIAL RESOURCES</td></tr><tr><td>3</td><td>SUPPORT ACCOUNTS</td></tr></table></td></tr><tr><td>Session/Year</td><td>63</td></tr><tr><td>Distribution</td><td>GEN</td></tr><tr><td>Area</td><td>UNDOC</td></tr><tr><td>Symbol</td><td>A/C.5/63/SR.45</td></tr><tr><td>Publication date</td><td>25/6/2009</td></tr></table></td></tr></table></td></tr><tr><td>multiUN.en\\un\\xml\\en\\2001\\E_C12_2001_L1_REV1-en.xml</td><td><table><tr><td>attributes</td><td><table><tr><td>lang</td><td>English</td></tr><tr><td>date</td><td>2001/04/23</td></tr><tr><td>path</td><td>C:\\Users\\Hassan\\Documents\\iSchool\\NLP\\United Nations\\multiUN.en\\un\\xml\\en\\2001\\E_C12_2001_L1_REV1-en.xml</td></tr><tr><td>id</td><td>E/C.12/2001/L.1/REV.1</td></tr><tr><td>n</td><td>G0141367</td></tr></table></td></tr><tr><td>scrape</td><td><table><tr><td>Title</td><td>PROGRAMME OF WORK : COMMITTEE ON ECONOMIC, SOCIAL AND CULTURALRIGHTS, 25TH SESSION, GENEVA, 23 APRIL-11 MAY 2001 : NOTE / BYTHE SECRETARY-GENERAL</td></tr><tr><td>ODS</td><td>E/C.12/2001/L.1/REV.1</td></tr><tr><td>Agenda Items</td><td>4</td></tr><tr><td>Session/Year</td><td>25</td></tr><tr><td>Distribution</td><td>LTD</td></tr><tr><td>Area</td><td>UNDOC</td></tr><tr><td>Symbol</td><td>E/C.12/2001/L.1/REV.1</td></tr><tr><td>Publication date</td><td>23/4/2001</td></tr></table></td></tr></table></td></tr><tr><td>multiUN.en\\un\\xml\\en\\2005\\A_RES_60_194-en.xml</td><td><table><tr><td>attributes</td><td><table><tr><td>lang</td><td>English</td></tr><tr><td>date</td><td>2005/09/12</td></tr><tr><td>path</td><td>C:\\Users\\Hassan\\Documents\\iSchool\\NLP\\United Nations\\multiUN.en\\un\\xml\\en\\2005\\A_RES_60_194-en.xml</td></tr><tr><td>id</td><td>A/RES/60/194</td></tr><tr><td>n</td><td>N0549924</td></tr></table></td></tr><tr><td>scrape</td><td><table><tr><td>Title</td><td>FOLLOW-UP TO AND IMPLEMENTATION OF THE MAURITIUS STRATEGY FOR THE FURTHER IMPLEMENTATION OF THE PROGRAMME OF ACTION FOR THE SUSTAINABLE DEVELOPMENT OF SMALL ISLAND DEVELOPING STATES : RESOLUTION / ADOPTED BY THE GENERAL ASSEMBLY</td></tr><tr><td>ODS</td><td>A/RES/60/194</td></tr><tr><td>Agenda Items</td><td>52b</td></tr><tr><td>Subjects</td><td><table><tr><td>1</td><td>SUSTAINABLE DEVELOPMENT</td></tr><tr><td>2</td><td>DEVELOPING ISLAND COUNTRIES</td></tr><tr><td>3</td><td>DEVELOPMENT STRATEGIES</td></tr><tr><td>4</td><td>PROGRAMMES OF ACTION</td></tr><tr><td>5</td><td>PROGRAMME IMPLEMENTATION</td></tr><tr><td>6</td><td>REPORT PREPARATION</td></tr><tr><td>7</td><td>DECLARATIONS</td></tr><tr><td>8</td><td>PARTNERSHIP</td></tr><tr><td>9</td><td>CONFERENCES</td></tr><tr><td>10</td><td>RESOURCES ALLOCATION</td></tr><tr><td>11</td><td>FOCAL POINTS</td></tr><tr><td>12</td><td>COOPERATION BETWEEN ORGANIZATIONS</td></tr></table></td></tr><tr><td>Session/Year</td><td>60</td></tr><tr><td>Distribution</td><td>GEN</td></tr><tr><td>Area</td><td>UNDOC</td></tr><tr><td>Symbol</td><td>A/RES/60/194</td></tr><tr><td>Publication date</td><td>12/9/2005</td></tr></table></td></tr></table></td></tr><tr><td>multiUN.en\\un\\xml\\en\\2002\\JOURNALNO2002_18-en.xml</td><td><table><tr><td>attributes</td><td><table><tr><td>lang</td><td>English</td></tr><tr><td>date</td><td>2002/01/25</td></tr><tr><td>path</td><td>C:\\Users\\Hassan\\Documents\\iSchool\\NLP\\United Nations\\multiUN.en\\un\\xml\\en\\2002\\JOURNALNO2002_18-en.xml</td></tr><tr><td>id</td><td>JOURNAL NO. 2002/18</td></tr><tr><td>n</td><td>N0220509</td></tr></table></td></tr><tr><td>scrape</td><td><table><tr><td>Title</td><td>PROGRAMME OF MEETINGS AND AGENDA</td></tr><tr><td>ODS</td><td>JOURNAL NO. 2002/18</td></tr><tr><td>Distribution</td><td>GEN</td></tr><tr><td>Area</td><td>UNDOC</td></tr><tr><td>Symbol</td><td>JOURNAL NO. 2002/18</td></tr><tr><td>Publication date</td><td>25/1/2002</td></tr></table></td></tr></table></td></tr><tr><td>multiUN.en\\un\\xml\\en\\2004\\TD_BS-XXI_2-en.xml</td><td><table><tr><td>attributes</td><td><table><tr><td>lang</td><td>English</td></tr><tr><td>date</td><td>2004/04/29</td></tr><tr><td>path</td><td>C:\\Users\\Hassan\\Documents\\iSchool\\NLP\\United Nations\\multiUN.en\\un\\xml\\en\\2004\\TD_BS-XXI_2-en.xml</td></tr><tr><td>id</td><td>TD/B(S-XXI)/2</td></tr><tr><td>n</td><td>G0451022</td></tr></table></td></tr><tr><td>scrape</td><td><table><tr><td>Title</td><td>PROPOSED AMENDMENTS TO CERTIFICATE OF ORIGIN GSP FORM A : NOTE / BY THE UNCTAD SECRETARIAT</td></tr><tr><td>ODS</td><td>TD/B(S-XXI)/2</td></tr><tr><td>Agenda Items</td><td>5</td></tr><tr><td>Subjects</td><td><table><tr><td>1</td><td>CERTIFICATES OF ORIGIN</td></tr><tr><td>2</td><td>EUROPE</td></tr><tr><td>3</td><td>GENERALIZED SYSTEM OF PREFERENCES</td></tr></table></td></tr><tr><td>Session/Year</td><td>21sp</td></tr><tr><td>Distribution</td><td>GEN</td></tr><tr><td>Area</td><td>UNDOC</td></tr><tr><td>Symbol</td><td>TD/B(S-XXI)/2</td></tr><tr><td>Publication date</td><td>29/4/2004</td></tr></table></td></tr></table></td></tr><tr><td>multiUN.en\\un\\xml\\en\\2008\\A_HRC_8_10_ADD4-en.xml</td><td><table><tr><td>attributes</td><td><table><tr><td>lang</td><td>English</td></tr><tr><td>date</td><td>2008/05/27</td></tr><tr><td>path</td><td>C:\\Users\\Hassan\\Documents\\iSchool\\NLP\\United Nations\\multiUN.en\\un\\xml\\en\\2008\\A_HRC_8_10_ADD4-en.xml</td></tr><tr><td>id</td><td>A/HRC/8/10/ADD.4</td></tr><tr><td>n</td><td>G0813769</td></tr></table></td></tr><tr><td>scrape</td><td><table><tr><td>Title</td><td>REPORT OF THE SPECIAL RAPPORTEUR [ON THE RIGHT TO EDUCATION], VERNOR MU\u00ceNOZ : ADDENDUM</td></tr><tr><td>ODS</td><td>A/HRC/8/10/ADD.4</td></tr><tr><td>Agenda Items</td><td>3</td></tr><tr><td>Subjects</td><td><table><tr><td>1</td><td>RIGHT TO EDUCATION</td></tr><tr><td>2</td><td>EDUCATIONAL POLICY</td></tr><tr><td>3</td><td>EDUCATIONAL SYSTEMS</td></tr><tr><td>4</td><td>ADMINISTRATIVE AND POLITICAL DIVISIONS</td></tr><tr><td>5</td><td>FACT-FINDING MISSIONS</td></tr><tr><td>6</td><td>BOSNIA AND HERZEGOVINA</td></tr><tr><td>7</td><td>EDUCATIONAL LEGISLATION</td></tr><tr><td>8</td><td>HIGHER EDUCATION</td></tr><tr><td>9</td><td>SCHOOL ATTENDANCE</td></tr><tr><td>10</td><td>TEACHER TRAINING</td></tr><tr><td>11</td><td>EDUCATIONAL MANAGEMENT</td></tr><tr><td>12</td><td>ETHNIC AND RACIAL GROUPS</td></tr><tr><td>13</td><td>SEGREGATION</td></tr><tr><td>14</td><td>MINORITIES</td></tr></table></td></tr><tr><td>Session/Year</td><td>8</td></tr><tr><td>Distribution</td><td>GEN</td></tr><tr><td>Area</td><td>UNDOC</td></tr><tr><td>Symbol</td><td>A/HRC/8/10/ADD.4</td></tr><tr><td>Publication date</td><td>27/5/2008</td></tr></table></td></tr></table></td></tr></table>"
       ],
       "metadata": {},
       "output_type": "pyout",
       "prompt_number": 2,
       "text": [
        "<IPython.core.display.HTML at 0x999724a8>"
       ]
      }
     ]
    },
    {
     "cell_type": "code",
     "collapsed": false,
     "input": [
      "doc_name = raw_input('Enter a document attribute:\\n')\n",
      "items = mun.get_documents(doc_n=doc_name, limit = 10, include_content=True)\n",
      "print len(items), ' result%s'%('s' if len(items)>1 else '')\n",
      "\n",
      "h = HTML(mun.json2html(items));h"
     ],
     "language": "python",
     "metadata": {},
     "outputs": []
    },
    {
     "cell_type": "code",
     "collapsed": false,
     "input": [
      "fn  = r'multiUN.en\\un\\xml\\en\\2002\\A_56_1015-en.xml'\n",
      "fn.split('\\\\')[-2:-1][0]\n"
     ],
     "language": "python",
     "metadata": {},
     "outputs": []
    }
   ],
   "metadata": {}
  }
 ]
}