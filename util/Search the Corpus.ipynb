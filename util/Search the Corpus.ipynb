{
 "metadata": {
  "name": "",
  "signature": "sha256:78d5eed0ad324f09f1b4a1ef2f9ccc8f36745f39a6661219207235399ecbe573"
 },
 "nbformat": 3,
 "nbformat_minor": 0,
 "worksheets": [
  {
   "cells": [
    {
     "cell_type": "heading",
     "level": 1,
     "metadata": {},
     "source": [
      "Search for a Specific Document in the Corpus"
     ]
    },
    {
     "cell_type": "markdown",
     "metadata": {},
     "source": [
      "A simple utility to search for a document using its' attributes"
     ]
    },
    {
     "cell_type": "code",
     "collapsed": false,
     "input": [
      "MODULES_PATH = '''../modules/multi_un_module.py'''\n",
      "import imp\n",
      "NF = imp.load_source('multi_un_module', MODULES_PATH)\n",
      "import multi_un_module as mun\n",
      "from IPython.display import HTML"
     ],
     "language": "python",
     "metadata": {},
     "outputs": [],
     "prompt_number": 1
    },
    {
     "cell_type": "markdown",
     "metadata": {},
     "source": [
      "serach for documents"
     ]
    },
    {
     "cell_type": "code",
     "collapsed": false,
     "input": [
      "n = raw_input('Enter a document attribute:\\n')\n",
      "items = mun.get_documents(n, limit = 10)\n",
      "print len(items), ' result%s'%('s' if len(items)>1 else '')\n",
      "h = HTML(mun.json2html(items));h"
     ],
     "language": "python",
     "metadata": {},
     "outputs": [
      {
       "name": "stdout",
       "output_type": "stream",
       "stream": "stdout",
       "text": [
        "Enter a document attribute:\n",
        "multiUN.en\\un\\xml\\en\\2002\\A_56_1015-en.xml\n"
       ]
      },
      {
       "output_type": "stream",
       "stream": "stdout",
       "text": [
        "1  result\n"
       ]
      },
      {
       "html": [
        "<table><tr><td>multiUN.en\\un\\xml\\en\\2002\\A_56_1015-en.xml</td><td><table><tr><td>attributes</td><td><table><tr><td>lang</td><td>English</td></tr><tr><td>date</td><td>2002/07/31</td></tr><tr><td>path</td><td>C:\\Users\\Hassan\\Documents\\iSchool\\NLP\\United Nations\\multiUN.en\\un\\xml\\en\\2002\\A_56_1015-en.xml</td></tr><tr><td>id</td><td>A/56/1015</td></tr><tr><td>n</td><td>N0250355</td></tr></table></td></tr><tr><td>scrape</td><td><table><tr><td>Title</td><td>LETTER DATED 2002/07/26 FROM THE PERMANENT REPRESENTATIVE OF FIJI TO THE UNITED NATIONS ADDRESSED TO THE SECRETARY-GENERAL</td></tr><tr><td>ODS</td><td>A/56/1015</td></tr><tr><td>Agenda Items</td><td>97</td></tr><tr><td>Subjects</td><td><table><tr><td>1</td><td>GLOBALIZATION</td></tr><tr><td>2</td><td>POLITICAL VIOLENCE</td></tr><tr><td>3</td><td>ECONOMIC DEVELOPMENT</td></tr><tr><td>4</td><td>SUSTAINABLE DEVELOPMENT</td></tr><tr><td>5</td><td>DECLARATIONS (TEXT)</td></tr><tr><td>6</td><td>TRANSNATIONAL CRIME</td></tr><tr><td>7</td><td>INTERNATIONAL TRADE</td></tr><tr><td>8</td><td>TRADE LIBERALIZATION</td></tr><tr><td>9</td><td>DEBT RELIEF</td></tr><tr><td>10</td><td>INVESTMENTS</td></tr><tr><td>11</td><td>ENVIRONMENTAL PROTECTION</td></tr><tr><td>12</td><td>NEW TECHNOLOGIES</td></tr><tr><td>13</td><td>TELECOMMUNICATIONS</td></tr><tr><td>14</td><td>ECONOMIC, SOCIAL AND CULTURAL RIGHTS</td></tr><tr><td>15</td><td>COOPERATION BETWEEN ORGANIZATIONS</td></tr><tr><td>16</td><td>ECONOMIC COOPERATION</td></tr><tr><td>17</td><td>DEVELOPMENT FINANCE</td></tr></table></td></tr><tr><td>Session/Year</td><td>56</td></tr><tr><td>Distribution</td><td>GEN</td></tr><tr><td>Area</td><td>UNDOC</td></tr><tr><td>Symbol</td><td>A/56/1015</td></tr><tr><td>Publication date</td><td>31/7/2002</td></tr></table></td></tr></table></td></tr></table>"
       ],
       "metadata": {},
       "output_type": "pyout",
       "prompt_number": 2,
       "text": [
        "<IPython.core.display.HTML at 0x999920f0>"
       ]
      }
     ],
     "prompt_number": 2
    },
    {
     "cell_type": "code",
     "collapsed": false,
     "input": [
      "doc_name = raw_input('Enter a document attribute:\\n')\n",
      "items = mun.get_documents(doc_name=doc_name, limit = 10, include_content=True)\n",
      "print len(items), ' result%s'%('s' if len(items)>1 else '')\n",
      "\n",
      "h = HTML(mun.json2html(items));h"
     ],
     "language": "python",
     "metadata": {},
     "outputs": [
      {
       "name": "stdout",
       "output_type": "stream",
       "stream": "stdout",
       "text": [
        "Enter a document attribute:\n",
        "multiUN.en\\un\\xml\\en\\2002\\A_56_1015-en.xml\n"
       ]
      },
      {
       "output_type": "stream",
       "stream": "stdout",
       "text": [
        "1  result\n"
       ]
      },
      {
       "html": [
        "<table><tr><td>multiUN.en\\un\\xml\\en\\2002\\A_56_1015-en.xml</td><td><table><tr><td>content</td><td><table></table></td></tr><tr><td>attributes</td><td><table><tr><td>lang</td><td>English</td></tr><tr><td>date</td><td>2002/07/31</td></tr><tr><td>path</td><td>C:\\Users\\Hassan\\Documents\\iSchool\\NLP\\United Nations\\multiUN.en\\un\\xml\\en\\2002\\A_56_1015-en.xml</td></tr><tr><td>id</td><td>A/56/1015</td></tr><tr><td>n</td><td>N0250355</td></tr></table></td></tr><tr><td>scrape</td><td><table><tr><td>Title</td><td>LETTER DATED 2002/07/26 FROM THE PERMANENT REPRESENTATIVE OF FIJI TO THE UNITED NATIONS ADDRESSED TO THE SECRETARY-GENERAL</td></tr><tr><td>ODS</td><td>A/56/1015</td></tr><tr><td>Agenda Items</td><td>97</td></tr><tr><td>Subjects</td><td><table><tr><td>1</td><td>GLOBALIZATION</td></tr><tr><td>2</td><td>POLITICAL VIOLENCE</td></tr><tr><td>3</td><td>ECONOMIC DEVELOPMENT</td></tr><tr><td>4</td><td>SUSTAINABLE DEVELOPMENT</td></tr><tr><td>5</td><td>DECLARATIONS (TEXT)</td></tr><tr><td>6</td><td>TRANSNATIONAL CRIME</td></tr><tr><td>7</td><td>INTERNATIONAL TRADE</td></tr><tr><td>8</td><td>TRADE LIBERALIZATION</td></tr><tr><td>9</td><td>DEBT RELIEF</td></tr><tr><td>10</td><td>INVESTMENTS</td></tr><tr><td>11</td><td>ENVIRONMENTAL PROTECTION</td></tr><tr><td>12</td><td>NEW TECHNOLOGIES</td></tr><tr><td>13</td><td>TELECOMMUNICATIONS</td></tr><tr><td>14</td><td>ECONOMIC, SOCIAL AND CULTURAL RIGHTS</td></tr><tr><td>15</td><td>COOPERATION BETWEEN ORGANIZATIONS</td></tr><tr><td>16</td><td>ECONOMIC COOPERATION</td></tr><tr><td>17</td><td>DEVELOPMENT FINANCE</td></tr></table></td></tr><tr><td>Session/Year</td><td>56</td></tr><tr><td>Distribution</td><td>GEN</td></tr><tr><td>Area</td><td>UNDOC</td></tr><tr><td>Symbol</td><td>A/56/1015</td></tr><tr><td>Publication date</td><td>31/7/2002</td></tr></table></td></tr></table></td></tr></table>"
       ],
       "metadata": {},
       "output_type": "pyout",
       "prompt_number": 3,
       "text": [
        "<IPython.core.display.HTML at 0x9994b3c8>"
       ]
      }
     ],
     "prompt_number": 3
    },
    {
     "cell_type": "code",
     "collapsed": false,
     "input": [
      "fn  = r'multiUN.en\\un\\xml\\en\\2002\\A_56_1015-en.xml'\n",
      "fn.split('\\\\')[-2:-1][0]\n"
     ],
     "language": "python",
     "metadata": {},
     "outputs": [
      {
       "metadata": {},
       "output_type": "pyout",
       "prompt_number": 6,
       "text": [
        "'2002'"
       ]
      }
     ],
     "prompt_number": 6
    }
   ],
   "metadata": {}
  }
 ]
}