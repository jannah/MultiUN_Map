{
 "metadata": {
  "name": "",
  "signature": "sha256:254502f23340cab98e673c7e2d6fea51f4af7bf6f5921ce5990ef39a7d004970"
 },
 "nbformat": 3,
 "nbformat_minor": 0,
 "worksheets": [
  {
   "cells": [
    {
     "cell_type": "heading",
     "level": 1,
     "metadata": {},
     "source": [
      "Search for a Specific Document in the Corpus"
     ]
    },
    {
     "cell_type": "markdown",
     "metadata": {},
     "source": [
      "A simple utility to search for a document using its' attributes"
     ]
    },
    {
     "cell_type": "code",
     "collapsed": false,
     "input": [
      "MODULES_PATH = '''../modules/multi_un_module.py'''\n",
      "import imp\n",
      "NF = imp.load_source('multi_un_module', MODULES_PATH)\n",
      "import multi_un_module as mun\n",
      "from IPython.display import HTML"
     ],
     "language": "python",
     "metadata": {},
     "outputs": [],
     "prompt_number": 1
    },
    {
     "cell_type": "markdown",
     "metadata": {},
     "source": [
      "serach for documents"
     ]
    },
    {
     "cell_type": "code",
     "collapsed": false,
     "input": [
      "n = raw_input('Enter a document attribute:\\n')\n",
      "items = mun.get_documents(n, limit = 10)\n",
      "print len(items), ' result%s'%('s' if len(items)>1 else '')\n",
      "h = HTML(mun.json2html(items));h"
     ],
     "language": "python",
     "metadata": {},
     "outputs": [
      {
       "name": "stdout",
       "output_type": "stream",
       "stream": "stdout",
       "text": [
        "Enter a document attribute:\n",
        "G0923182\n"
       ]
      },
      {
       "output_type": "stream",
       "stream": "stdout",
       "text": [
        "1  result\n"
       ]
      },
      {
       "html": [
        "<table><tr><td>multiUN.en\\un\\xml\\en\\2009\\ECE_ENERGY_GE4_2009_1-en.xml</td><td><table><tr><td>content</td><td><table></table></td></tr><tr><td>attributes</td><td><table><tr><td>lang</td><td>English</td></tr><tr><td>date</td><td>2009/07/22</td></tr><tr><td>path</td><td>C:\\Users\\Hassan\\Documents\\iSchool\\NLP\\United Nations\\multiUN.en\\un\\xml\\en\\2009\\ECE_ENERGY_GE4_2009_1-en.xml</td></tr><tr><td>id</td><td>ECE/ENERGY/GE.4/2009/1</td></tr><tr><td>n</td><td>G0923182</td></tr></table></td></tr><tr><td>scrape</td><td><table><tr><td>Title</td><td>ANNOTATED PROVISIONAL AGENDA FOR THE 5TH SESSION, TO BE HELD AT THE PALAIS DES NATIONS, GENEVA, STARTING ON MONDAY, 12 OCTOBER 2008 : ECONOMIC COMMISSION FOR EUROPE, COMMITTEE ON SUSTAINABLE ENERGY, AD HOC GROUP OF EXPERTS ON COAL MINE METHANE</td></tr><tr><td>ODS</td><td>ECE/ENERGY/GE.4/2009/1</td></tr><tr><td>Agenda Items</td><td>1</td></tr><tr><td>Session/Year</td><td>5</td></tr><tr><td>Distribution</td><td>GEN</td></tr><tr><td>Area</td><td>UNDOC</td></tr><tr><td>Symbol</td><td>ECE/ENERGY/GE.4/2009/1</td></tr><tr><td>Publication date</td><td>22/7/2009</td></tr></table></td></tr></table></td></tr></table>"
       ],
       "metadata": {},
       "output_type": "pyout",
       "prompt_number": 2,
       "text": [
        "<IPython.core.display.HTML at 0x9998d128>"
       ]
      }
     ],
     "prompt_number": 2
    },
    {
     "cell_type": "code",
     "collapsed": false,
     "input": [
      "doc_name = raw_input('Enter a document attribute:\\n')\n",
      "items = mun.get_documents(doc_name=doc_name, limit = 10)\n",
      "print len(items), ' result%s'%('s' if len(items)>1 else '')\n",
      "h = HTML(mun.json2html(items));h"
     ],
     "language": "python",
     "metadata": {},
     "outputs": [
      {
       "name": "stdout",
       "output_type": "stream",
       "stream": "stdout",
       "text": [
        "Enter a document attribute:\n",
        "G0923182\n"
       ]
      },
      {
       "output_type": "stream",
       "stream": "stdout",
       "text": [
        "1  result\n"
       ]
      },
      {
       "html": [
        "<table><tr><td>multiUN.en\\un\\xml\\en\\2009\\ECE_ENERGY_GE4_2009_1-en.xml</td><td><table><tr><td>content</td><td><table></table></td></tr><tr><td>attributes</td><td><table><tr><td>lang</td><td>English</td></tr><tr><td>date</td><td>2009/07/22</td></tr><tr><td>path</td><td>C:\\Users\\Hassan\\Documents\\iSchool\\NLP\\United Nations\\multiUN.en\\un\\xml\\en\\2009\\ECE_ENERGY_GE4_2009_1-en.xml</td></tr><tr><td>id</td><td>ECE/ENERGY/GE.4/2009/1</td></tr><tr><td>n</td><td>G0923182</td></tr></table></td></tr><tr><td>scrape</td><td><table><tr><td>Title</td><td>ANNOTATED PROVISIONAL AGENDA FOR THE 5TH SESSION, TO BE HELD AT THE PALAIS DES NATIONS, GENEVA, STARTING ON MONDAY, 12 OCTOBER 2008 : ECONOMIC COMMISSION FOR EUROPE, COMMITTEE ON SUSTAINABLE ENERGY, AD HOC GROUP OF EXPERTS ON COAL MINE METHANE</td></tr><tr><td>ODS</td><td>ECE/ENERGY/GE.4/2009/1</td></tr><tr><td>Agenda Items</td><td>1</td></tr><tr><td>Session/Year</td><td>5</td></tr><tr><td>Distribution</td><td>GEN</td></tr><tr><td>Area</td><td>UNDOC</td></tr><tr><td>Symbol</td><td>ECE/ENERGY/GE.4/2009/1</td></tr><tr><td>Publication date</td><td>22/7/2009</td></tr></table></td></tr></table></td></tr></table>"
       ],
       "metadata": {},
       "output_type": "pyout",
       "prompt_number": 2,
       "text": [
        "<IPython.core.display.HTML at 0x999ae1d0>"
       ]
      }
     ],
     "prompt_number": 2
    }
   ],
   "metadata": {}
  }
 ]
}