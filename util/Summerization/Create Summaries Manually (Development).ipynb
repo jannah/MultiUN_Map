{
 "metadata": {
  "name": "",
  "signature": "sha256:9c213a0c4903bcc6ddeb81ce42ce0c71d2dc4c29db4830ae1a57fe64152cd01f"
 },
 "nbformat": 3,
 "nbformat_minor": 0,
 "worksheets": [
  {
   "cells": [
    {
     "cell_type": "heading",
     "level": 1,
     "metadata": {},
     "source": [
      "Create Summaries Manually"
     ]
    },
    {
     "cell_type": "code",
     "collapsed": false,
     "input": [
      "MODULES_PATH = '''../../modules/multi_un_module.py'''\n",
      "import imp\n",
      "NF = imp.load_source('multi_un_module', MODULES_PATH)\n",
      "import multi_un_module as mun"
     ],
     "language": "python",
     "metadata": {},
     "outputs": [],
     "prompt_number": 1
    },
    {
     "cell_type": "code",
     "collapsed": false,
     "input": [
      "docs = mun.get_document(term='A_61_255-en.xml', include_content=True)\n"
     ],
     "language": "python",
     "metadata": {},
     "outputs": [],
     "prompt_number": 58
    },
    {
     "cell_type": "code",
     "collapsed": false,
     "input": [
      "doc = docs.itervalues().next()"
     ],
     "language": "python",
     "metadata": {},
     "outputs": [],
     "prompt_number": 59
    },
    {
     "cell_type": "code",
     "collapsed": false,
     "input": [
      "SUMMARY_KEYWORDS_START=['in order to', 'thus', 'to sum up', 'finally', 'in conclusion', 'to conclude', 'to summerize', 'in summary', 'therefore'\n",
      "                'goal', 'the ultimate goal', 'finally']\n",
      "SUMMARY_KEYWORDS_BODY = ['goal', 'summar', 'conclu', 'goal',' aim','objective', 'decide', 'decision', 'focus', 'recommen', 'request']\n",
      "\n",
      "def get_document_summary(doc):\n",
      "    if 'content' not in doc:\n",
      "        doc = doc.itervalues().next()\n",
      "    # got the document title\n",
      "    \n",
      "    paragraphs = mun.extract_paragraphs(docs)\n",
      "    sentences = mun.extract_sentences(docs)\n",
      "    \n",
      "    #get first sentence if each paragraph that is not a heading\n",
      "    sent_first = [p[0] for p in paragraphs if not mun.is_heading(p) and not p[0].startswith('(')]\n",
      "    sent_first_tokenized = mun.tokenize_sentence_text(sent_first, remove_stopwords=True)\n",
      "    \n",
      "    #get title bigrams and trigrams\n",
      "    title = doc['scrape']['Title']\n",
      "    title_bigrams = mun.get_frequent_ngrams(sentences=[title], ngram_length=2, remove_stopwords=True)\n",
      "    title_trigrams = mun.get_frequent_ngrams(sentences=[title], ngram_length=3, remove_stopwords=True)\n",
      "    \n",
      "    # get bigrams and trigrams from document\n",
      "    bigrams = mun.get_frequent_ngrams(sentences=sentences, ngram_length=2, remove_stopwords=True)\n",
      "    trigrams = mun.get_frequent_ngrams(sentences=sentences, ngram_length=3, remove_stopwords=True)\n",
      "    \n",
      "    # get the first paragraph after specific headings\n",
      "    intro = get_after_heading('introduction', paragraphs)\n",
      "    summary = get_after_heading('summary', paragraphs)\n",
      "    conclusion = get_after_heading('conclusion', paragraphs)\n",
      "    \n",
      "    #extract features from the document\n",
      "    features = [(i,check_summary_features(sent_first[i], bigrams, trigrams, title_bigrams,title_trigrams)) \n",
      "                for i in range(len(sent_first))]\n",
      "    \n",
      "    #sort the features by total\n",
      "    sorted_features = sorted(features, key=lambda (i,f): f['total'], reverse=True)\n",
      "    \n",
      "    #get top 10 sentences\n",
      "    top_features =sorted_features[:10]\n",
      "    top_sents = [ (i, r['sent']) for i, r in top_features\n",
      "                     if (len(intro)>0 and r['sent'] != intro[0][1][0])\n",
      "                     or (len(summary)>0 and r['sent'] != summary[0][1][0])\n",
      "                     or (len(summary)>0 and r['sent'] != summary[0][1][0])]\n",
      "    \n",
      "    #flattent the paragraphs\n",
      "    intro = [(i, \" \".join(f)) for i,f in intro]\n",
      "    summary = [(i, \" \".join(f)) for i,f in summary]\n",
      "    conclusion = [(i, \" \".join(f)) for i,f in conclusion]\n",
      "    \n",
      "    \n",
      "    #combine\n",
      "    summary = intro  + top_sents + summary + conclusion\n",
      "    summary = sorted(summary)\n",
      "    return summary\n",
      "    \n",
      "    \n",
      "def check_summary_features(sent, bigrams, trigrams, title_bigrams, title_trigrams):\n",
      "    result={}\n",
      "#     result = {'in_title':0, 'tri':0, 'keyword':0, 'keyword_s':0} \n",
      "    result['in_title_bigrams'] =sum([1 for bi, freq in title_bigrams.items()[:20] if bi.lower() in sent.lower()])\n",
      "    result['in_title_trigrams'] =sum([1 for tri, freq in title_trigrams.items()[:20] if tri.lower() in sent.lower()])*1.5\n",
      "    result['trigrams'] = sum([1 for tri, freq in trigrams.items()[:20] if tri.lower() in sent.lower()])*1.5\n",
      "    result['bigrams'] = sum([1 for bi, freq in bigrams.items()[:20] if tri.lower() in sent.lower()])\n",
      "    result['keyword_s'] = sum([1 for k in SUMMARY_KEYWORDS_START if k in sent.lower()])*3\n",
      "    result['keyword'] = sum([1 for k in SUMMARY_KEYWORDS_BODY if k in sent.lower()])\n",
      "    total = sum([v for v in result.itervalues()])\n",
      "#     print total\n",
      "    result['total'] = total\n",
      "    result['sent'] = sent\n",
      "    return result\n",
      "\n",
      "\n",
      "def get_after_heading(heading,paras):\n",
      "    for i in range(len(paras)):\n",
      "        p = paras[i]\n",
      "        if mun.is_heading(p) and \" \".join(p).lower()==heading.lower() and  i<len(paras):\n",
      "            return [(i+1, paras[i+1])] \n",
      "    return []"
     ],
     "language": "python",
     "metadata": {},
     "outputs": [],
     "prompt_number": 51
    },
    {
     "cell_type": "code",
     "collapsed": false,
     "input": [
      "summary = get_document_summary(doc)\n",
      "summary"
     ],
     "language": "python",
     "metadata": {},
     "outputs": [
      {
       "output_type": "stream",
       "stream": "stdout",
       "text": [
        "flattening\n"
       ]
      },
      {
       "javascript": [
        "//19544161-60f0-4f5f-8d86-3a221c17314b\n",
        "$(\"head\").append(\"<style> td.pb_widget {     width: auto; } td.pb_widget_fill {     width: 100%; } table.pb {     font-family: monospace;     border: 0;     margin: 0; } table.pb tr { border: 0; } table.pb td {     white-space: nowrap;     border: 0; } div.pb {     border: 1px solid #ddd;     border-radius: 3px; } div.pb_bar {     height: 1.5em; } </style>\")"
       ],
       "metadata": {},
       "output_type": "display_data",
       "text": [
        "<IPython.core.display.Javascript at 0x9a0a1c88>"
       ]
      },
      {
       "javascript": [
        "\n",
        "                  // 19544161-60f0-4f5f-8d86-3a221c17314b -- used to remove this code blob in the end\n",
        "                  IPython.OutputArea.prototype.cleanProgressBar = function(uuids) {\n",
        "                      // filter by uuid-strings \n",
        "                      var myfilter = function(output) { \n",
        "                          var nuids = uuids.length;\n",
        "                          for (var i=0; i<nuids; i++) {\n",
        "                              if (output.hasOwnProperty('html')) {\n",
        "                                  if (output.html.indexOf(uuids[i]) != -1) {\n",
        "                                      return false;\n",
        "                                  }\n",
        "                              }\n",
        "                              if (output.hasOwnProperty('javascript')) {\n",
        "                                  if (output.javascript.indexOf(uuids[i]) != -1) {\n",
        "                                      return false;\n",
        "                                  }\n",
        "                              }\n",
        "                          }\n",
        "                          // keep all others\n",
        "                          return true;\n",
        "                      };\n",
        "\n",
        "                      // Filter the ouputs\n",
        "                      this.outputs = this.outputs.filter(myfilter);\n",
        "                };\n",
        "                "
       ],
       "metadata": {},
       "output_type": "display_data",
       "text": [
        "<IPython.core.display.Javascript at 0x9a0a1a90>"
       ]
      },
      {
       "html": [
        "<div class=\"pb\" id=\"19544161-60f0-4f5f-8d86-3a221c17314b\"><table class=\"pb ui-widget\"><tr>\n",
        "<td class=\"pb_widget\">Tokenizing sentences</td>\n",
        "<td class=\"pb_widget\"><div id=\"136b9001-5144-427c-abb6-83cd7cd86d2b\">0 of 436</div></td>\n",
        "<td class=\"pb_widget\"><div id=\"a6a319db-310a-4005-a804-d505df38b386\">  0%</div></td>\n",
        "<td class=\"pb_widget_fill\">\n",
        "        <div class=\"pb_bar\" id=\"aeb400dd-9292-4c25-8bd1-6c1f4e139221\"></div>\n",
        "        <script type=\"text/javascript\">\n",
        "            $(\"div#aeb400dd-9292-4c25-8bd1-6c1f4e139221\").progressbar({value: 0, max: 436});\n",
        "        </script>\n",
        "        </td>\n",
        "<td class=\"pb_widget\"><div id=\"9dbee237-2553-45ce-9970-82a24f66f277\">ETA:  --:--:--</div></td>\n",
        "</tr></table><div>"
       ],
       "metadata": {},
       "output_type": "display_data",
       "text": [
        "<IPython.core.display.HTML at 0x99da7eb8>"
       ]
      },
      {
       "javascript": [
        "$('div#136b9001-5144-427c-abb6-83cd7cd86d2b').text('5 of 436');"
       ],
       "metadata": {},
       "output_type": "display_data",
       "text": [
        "<IPython.core.display.Javascript at 0x9a0a15c0>"
       ]
      },
      {
       "javascript": [
        "$('div#a6a319db-310a-4005-a804-d505df38b386').text('  1%');"
       ],
       "metadata": {},
       "output_type": "display_data",
       "text": [
        "<IPython.core.display.Javascript at 0x9a0a1518>"
       ]
      },
      {
       "javascript": [
        "\n",
        "        var $myPB = $(\"div#aeb400dd-9292-4c25-8bd1-6c1f4e139221\")\n",
        "        if ($myPB.hasClass('ui-progressbar')) {\n",
        "            $myPB.progressbar('value', 5);\n",
        "        } else {\n",
        "            $myPB.progressbar({value: 0, max: 436});\n",
        "        }\n",
        "        "
       ],
       "metadata": {},
       "output_type": "display_data",
       "text": [
        "<IPython.core.display.Javascript at 0x9a0a1f60>"
       ]
      },
      {
       "javascript": [
        "$('div#9dbee237-2553-45ce-9970-82a24f66f277').text('ETA:  0:00:00');"
       ],
       "metadata": {},
       "output_type": "display_data",
       "text": [
        "<IPython.core.display.Javascript at 0x9a0a1358>"
       ]
      },
      {
       "javascript": [
        "$('div#136b9001-5144-427c-abb6-83cd7cd86d2b').text('10 of 436');"
       ],
       "metadata": {},
       "output_type": "display_data",
       "text": [
        "<IPython.core.display.Javascript at 0x9a0a1f60>"
       ]
      },
      {
       "javascript": [
        "$('div#a6a319db-310a-4005-a804-d505df38b386').text('  2%');"
       ],
       "metadata": {},
       "output_type": "display_data",
       "text": [
        "<IPython.core.display.Javascript at 0x9a0a1518>"
       ]
      },
      {
       "javascript": [
        "\n",
        "        var $myPB = $(\"div#aeb400dd-9292-4c25-8bd1-6c1f4e139221\")\n",
        "        if ($myPB.hasClass('ui-progressbar')) {\n",
        "            $myPB.progressbar('value', 10);\n",
        "        } else {\n",
        "            $myPB.progressbar({value: 0, max: 436});\n",
        "        }\n",
        "        "
       ],
       "metadata": {},
       "output_type": "display_data",
       "text": [
        "<IPython.core.display.Javascript at 0x9a0a1940>"
       ]
      },
      {
       "javascript": [
        "$('div#9dbee237-2553-45ce-9970-82a24f66f277').text('ETA:  0:00:00');"
       ],
       "metadata": {},
       "output_type": "display_data",
       "text": [
        "<IPython.core.display.Javascript at 0x9a0a15c0>"
       ]
      },
      {
       "javascript": [
        "$('div#136b9001-5144-427c-abb6-83cd7cd86d2b').text('15 of 436');"
       ],
       "metadata": {},
       "output_type": "display_data",
       "text": [
        "<IPython.core.display.Javascript at 0x9a0a1940>"
       ]
      },
      {
       "javascript": [
        "$('div#a6a319db-310a-4005-a804-d505df38b386').text('  3%');"
       ],
       "metadata": {},
       "output_type": "display_data",
       "text": [
        "<IPython.core.display.Javascript at 0x9a0a1518>"
       ]
      },
      {
       "javascript": [
        "\n",
        "        var $myPB = $(\"div#aeb400dd-9292-4c25-8bd1-6c1f4e139221\")\n",
        "        if ($myPB.hasClass('ui-progressbar')) {\n",
        "            $myPB.progressbar('value', 15);\n",
        "        } else {\n",
        "            $myPB.progressbar({value: 0, max: 436});\n",
        "        }\n",
        "        "
       ],
       "metadata": {},
       "output_type": "display_data",
       "text": [
        "<IPython.core.display.Javascript at 0x9a0a1a58>"
       ]
      },
      {
       "javascript": [
        "$('div#9dbee237-2553-45ce-9970-82a24f66f277').text('ETA:  0:00:00');"
       ],
       "metadata": {},
       "output_type": "display_data",
       "text": [
        "<IPython.core.display.Javascript at 0x9a0a1f60>"
       ]
      },
      {
       "javascript": [
        "$('div#136b9001-5144-427c-abb6-83cd7cd86d2b').text('20 of 436');"
       ],
       "metadata": {},
       "output_type": "display_data",
       "text": [
        "<IPython.core.display.Javascript at 0x9a0a1780>"
       ]
      },
      {
       "javascript": [
        "$('div#a6a319db-310a-4005-a804-d505df38b386').text('  4%');"
       ],
       "metadata": {},
       "output_type": "display_data",
       "text": [
        "<IPython.core.display.Javascript at 0x9a0a1b38>"
       ]
      },
      {
       "javascript": [
        "\n",
        "        var $myPB = $(\"div#aeb400dd-9292-4c25-8bd1-6c1f4e139221\")\n",
        "        if ($myPB.hasClass('ui-progressbar')) {\n",
        "            $myPB.progressbar('value', 20);\n",
        "        } else {\n",
        "            $myPB.progressbar({value: 0, max: 436});\n",
        "        }\n",
        "        "
       ],
       "metadata": {},
       "output_type": "display_data",
       "text": [
        "<IPython.core.display.Javascript at 0x9a0a1518>"
       ]
      },
      {
       "javascript": [
        "$('div#9dbee237-2553-45ce-9970-82a24f66f277').text('ETA:  0:00:00');"
       ],
       "metadata": {},
       "output_type": "display_data",
       "text": [
        "<IPython.core.display.Javascript at 0x9a0a1a58>"
       ]
      },
      {
       "javascript": [
        "$('div#136b9001-5144-427c-abb6-83cd7cd86d2b').text('25 of 436');"
       ],
       "metadata": {},
       "output_type": "display_data",
       "text": [
        "<IPython.core.display.Javascript at 0x9a0a1a58>"
       ]
      },
      {
       "javascript": [
        "$('div#a6a319db-310a-4005-a804-d505df38b386').text('  5%');"
       ],
       "metadata": {},
       "output_type": "display_data",
       "text": [
        "<IPython.core.display.Javascript at 0x9a0a1240>"
       ]
      },
      {
       "javascript": [
        "\n",
        "        var $myPB = $(\"div#aeb400dd-9292-4c25-8bd1-6c1f4e139221\")\n",
        "        if ($myPB.hasClass('ui-progressbar')) {\n",
        "            $myPB.progressbar('value', 25);\n",
        "        } else {\n",
        "            $myPB.progressbar({value: 0, max: 436});\n",
        "        }\n",
        "        "
       ],
       "metadata": {},
       "output_type": "display_data",
       "text": [
        "<IPython.core.display.Javascript at 0x9a0a1518>"
       ]
      },
      {
       "javascript": [
        "$('div#9dbee237-2553-45ce-9970-82a24f66f277').text('ETA:  0:00:00');"
       ],
       "metadata": {},
       "output_type": "display_data",
       "text": [
        "<IPython.core.display.Javascript at 0x9a0a1860>"
       ]
      },
      {
       "javascript": [
        "$('div#136b9001-5144-427c-abb6-83cd7cd86d2b').text('30 of 436');"
       ],
       "metadata": {},
       "output_type": "display_data",
       "text": [
        "<IPython.core.display.Javascript at 0x9a0a1860>"
       ]
      },
      {
       "javascript": [
        "$('div#a6a319db-310a-4005-a804-d505df38b386').text('  6%');"
       ],
       "metadata": {},
       "output_type": "display_data",
       "text": [
        "<IPython.core.display.Javascript at 0x9a0a1780>"
       ]
      },
      {
       "javascript": [
        "\n",
        "        var $myPB = $(\"div#aeb400dd-9292-4c25-8bd1-6c1f4e139221\")\n",
        "        if ($myPB.hasClass('ui-progressbar')) {\n",
        "            $myPB.progressbar('value', 30);\n",
        "        } else {\n",
        "            $myPB.progressbar({value: 0, max: 436});\n",
        "        }\n",
        "        "
       ],
       "metadata": {},
       "output_type": "display_data",
       "text": [
        "<IPython.core.display.Javascript at 0x9a0a1240>"
       ]
      },
      {
       "javascript": [
        "$('div#9dbee237-2553-45ce-9970-82a24f66f277').text('ETA:  0:00:00');"
       ],
       "metadata": {},
       "output_type": "display_data",
       "text": [
        "<IPython.core.display.Javascript at 0x9a0a1518>"
       ]
      },
      {
       "javascript": [
        "$('div#136b9001-5144-427c-abb6-83cd7cd86d2b').text('35 of 436');"
       ],
       "metadata": {},
       "output_type": "display_data",
       "text": [
        "<IPython.core.display.Javascript at 0x9a0a1940>"
       ]
      },
      {
       "javascript": [
        "$('div#a6a319db-310a-4005-a804-d505df38b386').text('  8%');"
       ],
       "metadata": {},
       "output_type": "display_data",
       "text": [
        "<IPython.core.display.Javascript at 0x9a0a1f28>"
       ]
      },
      {
       "javascript": [
        "\n",
        "        var $myPB = $(\"div#aeb400dd-9292-4c25-8bd1-6c1f4e139221\")\n",
        "        if ($myPB.hasClass('ui-progressbar')) {\n",
        "            $myPB.progressbar('value', 35);\n",
        "        } else {\n",
        "            $myPB.progressbar({value: 0, max: 436});\n",
        "        }\n",
        "        "
       ],
       "metadata": {},
       "output_type": "display_data",
       "text": [
        "<IPython.core.display.Javascript at 0x9a0a1780>"
       ]
      },
      {
       "javascript": [
        "$('div#9dbee237-2553-45ce-9970-82a24f66f277').text('ETA:  0:00:00');"
       ],
       "metadata": {},
       "output_type": "display_data",
       "text": [
        "<IPython.core.display.Javascript at 0x9a0a1240>"
       ]
      },
      {
       "javascript": [
        "$('div#136b9001-5144-427c-abb6-83cd7cd86d2b').text('40 of 436');"
       ],
       "metadata": {},
       "output_type": "display_data",
       "text": [
        "<IPython.core.display.Javascript at 0x9a0a1780>"
       ]
      },
      {
       "javascript": [
        "$('div#a6a319db-310a-4005-a804-d505df38b386').text('  9%');"
       ],
       "metadata": {},
       "output_type": "display_data",
       "text": [
        "<IPython.core.display.Javascript at 0x9a0a1f28>"
       ]
      },
      {
       "javascript": [
        "\n",
        "        var $myPB = $(\"div#aeb400dd-9292-4c25-8bd1-6c1f4e139221\")\n",
        "        if ($myPB.hasClass('ui-progressbar')) {\n",
        "            $myPB.progressbar('value', 40);\n",
        "        } else {\n",
        "            $myPB.progressbar({value: 0, max: 436});\n",
        "        }\n",
        "        "
       ],
       "metadata": {},
       "output_type": "display_data",
       "text": [
        "<IPython.core.display.Javascript at 0x9a0a1898>"
       ]
      },
      {
       "javascript": [
        "$('div#9dbee237-2553-45ce-9970-82a24f66f277').text('ETA:  0:00:00');"
       ],
       "metadata": {},
       "output_type": "display_data",
       "text": [
        "<IPython.core.display.Javascript at 0x9a0a1940>"
       ]
      },
      {
       "javascript": [
        "$('div#136b9001-5144-427c-abb6-83cd7cd86d2b').text('45 of 436');"
       ],
       "metadata": {},
       "output_type": "display_data",
       "text": [
        "<IPython.core.display.Javascript at 0x9a0a1198>"
       ]
      },
      {
       "javascript": [
        "$('div#a6a319db-310a-4005-a804-d505df38b386').text(' 10%');"
       ],
       "metadata": {},
       "output_type": "display_data",
       "text": [
        "<IPython.core.display.Javascript at 0x9a0a16a0>"
       ]
      },
      {
       "javascript": [
        "\n",
        "        var $myPB = $(\"div#aeb400dd-9292-4c25-8bd1-6c1f4e139221\")\n",
        "        if ($myPB.hasClass('ui-progressbar')) {\n",
        "            $myPB.progressbar('value', 45);\n",
        "        } else {\n",
        "            $myPB.progressbar({value: 0, max: 436});\n",
        "        }\n",
        "        "
       ],
       "metadata": {},
       "output_type": "display_data",
       "text": [
        "<IPython.core.display.Javascript at 0x9a0a1940>"
       ]
      },
      {
       "javascript": [
        "$('div#9dbee237-2553-45ce-9970-82a24f66f277').text('ETA:  0:00:00');"
       ],
       "metadata": {},
       "output_type": "display_data",
       "text": [
        "<IPython.core.display.Javascript at 0x9a0a1a58>"
       ]
      },
      {
       "javascript": [
        "$('div#136b9001-5144-427c-abb6-83cd7cd86d2b').text('50 of 436');"
       ],
       "metadata": {},
       "output_type": "display_data",
       "text": [
        "<IPython.core.display.Javascript at 0x9a0a1f28>"
       ]
      },
      {
       "javascript": [
        "$('div#a6a319db-310a-4005-a804-d505df38b386').text(' 11%');"
       ],
       "metadata": {},
       "output_type": "display_data",
       "text": [
        "<IPython.core.display.Javascript at 0x9a0a1f28>"
       ]
      },
      {
       "javascript": [
        "\n",
        "        var $myPB = $(\"div#aeb400dd-9292-4c25-8bd1-6c1f4e139221\")\n",
        "        if ($myPB.hasClass('ui-progressbar')) {\n",
        "            $myPB.progressbar('value', 50);\n",
        "        } else {\n",
        "            $myPB.progressbar({value: 0, max: 436});\n",
        "        }\n",
        "        "
       ],
       "metadata": {},
       "output_type": "display_data",
       "text": [
        "<IPython.core.display.Javascript at 0x9a0a1780>"
       ]
      },
      {
       "javascript": [
        "$('div#9dbee237-2553-45ce-9970-82a24f66f277').text('ETA:  0:00:00');"
       ],
       "metadata": {},
       "output_type": "display_data",
       "text": [
        "<IPython.core.display.Javascript at 0x9a0a10f0>"
       ]
      },
      {
       "javascript": [
        "$('div#136b9001-5144-427c-abb6-83cd7cd86d2b').text('55 of 436');"
       ],
       "metadata": {},
       "output_type": "display_data",
       "text": [
        "<IPython.core.display.Javascript at 0x9a0a1710>"
       ]
      },
      {
       "javascript": [
        "$('div#a6a319db-310a-4005-a804-d505df38b386').text(' 12%');"
       ],
       "metadata": {},
       "output_type": "display_data",
       "text": [
        "<IPython.core.display.Javascript at 0x9a0a1710>"
       ]
      },
      {
       "javascript": [
        "\n",
        "        var $myPB = $(\"div#aeb400dd-9292-4c25-8bd1-6c1f4e139221\")\n",
        "        if ($myPB.hasClass('ui-progressbar')) {\n",
        "            $myPB.progressbar('value', 55);\n",
        "        } else {\n",
        "            $myPB.progressbar({value: 0, max: 436});\n",
        "        }\n",
        "        "
       ],
       "metadata": {},
       "output_type": "display_data",
       "text": [
        "<IPython.core.display.Javascript at 0x9a0a1160>"
       ]
      },
      {
       "javascript": [
        "$('div#9dbee237-2553-45ce-9970-82a24f66f277').text('ETA:  0:00:00');"
       ],
       "metadata": {},
       "output_type": "display_data",
       "text": [
        "<IPython.core.display.Javascript at 0x9a0a1940>"
       ]
      },
      {
       "javascript": [
        "$('div#136b9001-5144-427c-abb6-83cd7cd86d2b').text('60 of 436');"
       ],
       "metadata": {},
       "output_type": "display_data",
       "text": [
        "<IPython.core.display.Javascript at 0x9a0a16a0>"
       ]
      },
      {
       "javascript": [
        "$('div#a6a319db-310a-4005-a804-d505df38b386').text(' 13%');"
       ],
       "metadata": {},
       "output_type": "display_data",
       "text": [
        "<IPython.core.display.Javascript at 0x9a0a16a0>"
       ]
      },
      {
       "javascript": [
        "\n",
        "        var $myPB = $(\"div#aeb400dd-9292-4c25-8bd1-6c1f4e139221\")\n",
        "        if ($myPB.hasClass('ui-progressbar')) {\n",
        "            $myPB.progressbar('value', 60);\n",
        "        } else {\n",
        "            $myPB.progressbar({value: 0, max: 436});\n",
        "        }\n",
        "        "
       ],
       "metadata": {},
       "output_type": "display_data",
       "text": [
        "<IPython.core.display.Javascript at 0x9a0a1550>"
       ]
      },
      {
       "javascript": [
        "$('div#9dbee237-2553-45ce-9970-82a24f66f277').text('ETA:  0:00:00');"
       ],
       "metadata": {},
       "output_type": "display_data",
       "text": [
        "<IPython.core.display.Javascript at 0x9a0a1780>"
       ]
      },
      {
       "javascript": [
        "$('div#136b9001-5144-427c-abb6-83cd7cd86d2b').text('65 of 436');"
       ],
       "metadata": {},
       "output_type": "display_data",
       "text": [
        "<IPython.core.display.Javascript at 0x9a0a11d0>"
       ]
      },
      {
       "javascript": [
        "$('div#a6a319db-310a-4005-a804-d505df38b386').text(' 14%');"
       ],
       "metadata": {},
       "output_type": "display_data",
       "text": [
        "<IPython.core.display.Javascript at 0x9a0a11d0>"
       ]
      },
      {
       "javascript": [
        "\n",
        "        var $myPB = $(\"div#aeb400dd-9292-4c25-8bd1-6c1f4e139221\")\n",
        "        if ($myPB.hasClass('ui-progressbar')) {\n",
        "            $myPB.progressbar('value', 65);\n",
        "        } else {\n",
        "            $myPB.progressbar({value: 0, max: 436});\n",
        "        }\n",
        "        "
       ],
       "metadata": {},
       "output_type": "display_data",
       "text": [
        "<IPython.core.display.Javascript at 0x9a0a10f0>"
       ]
      },
      {
       "javascript": [
        "$('div#9dbee237-2553-45ce-9970-82a24f66f277').text('ETA:  0:00:00');"
       ],
       "metadata": {},
       "output_type": "display_data",
       "text": [
        "<IPython.core.display.Javascript at 0x9a0a1da0>"
       ]
      },
      {
       "javascript": [
        "$('div#136b9001-5144-427c-abb6-83cd7cd86d2b').text('70 of 436');"
       ],
       "metadata": {},
       "output_type": "display_data",
       "text": [
        "<IPython.core.display.Javascript at 0x9a0a1f28>"
       ]
      },
      {
       "javascript": [
        "$('div#a6a319db-310a-4005-a804-d505df38b386').text(' 16%');"
       ],
       "metadata": {},
       "output_type": "display_data",
       "text": [
        "<IPython.core.display.Javascript at 0x9a0a1f28>"
       ]
      },
      {
       "javascript": [
        "\n",
        "        var $myPB = $(\"div#aeb400dd-9292-4c25-8bd1-6c1f4e139221\")\n",
        "        if ($myPB.hasClass('ui-progressbar')) {\n",
        "            $myPB.progressbar('value', 70);\n",
        "        } else {\n",
        "            $myPB.progressbar({value: 0, max: 436});\n",
        "        }\n",
        "        "
       ],
       "metadata": {},
       "output_type": "display_data",
       "text": [
        "<IPython.core.display.Javascript at 0x9a0a1b70>"
       ]
      },
      {
       "javascript": [
        "$('div#9dbee237-2553-45ce-9970-82a24f66f277').text('ETA:  0:00:00');"
       ],
       "metadata": {},
       "output_type": "display_data",
       "text": [
        "<IPython.core.display.Javascript at 0x9a0a1160>"
       ]
      },
      {
       "javascript": [
        "$('div#136b9001-5144-427c-abb6-83cd7cd86d2b').text('75 of 436');"
       ],
       "metadata": {},
       "output_type": "display_data",
       "text": [
        "<IPython.core.display.Javascript at 0x9a0a1cc0>"
       ]
      },
      {
       "javascript": [
        "$('div#a6a319db-310a-4005-a804-d505df38b386').text(' 17%');"
       ],
       "metadata": {},
       "output_type": "display_data",
       "text": [
        "<IPython.core.display.Javascript at 0x9a0a1cc0>"
       ]
      },
      {
       "javascript": [
        "\n",
        "        var $myPB = $(\"div#aeb400dd-9292-4c25-8bd1-6c1f4e139221\")\n",
        "        if ($myPB.hasClass('ui-progressbar')) {\n",
        "            $myPB.progressbar('value', 75);\n",
        "        } else {\n",
        "            $myPB.progressbar({value: 0, max: 436});\n",
        "        }\n",
        "        "
       ],
       "metadata": {},
       "output_type": "display_data",
       "text": [
        "<IPython.core.display.Javascript at 0x9a0a17f0>"
       ]
      },
      {
       "javascript": [
        "$('div#9dbee237-2553-45ce-9970-82a24f66f277').text('ETA:  0:00:00');"
       ],
       "metadata": {},
       "output_type": "display_data",
       "text": [
        "<IPython.core.display.Javascript at 0x9a0a1550>"
       ]
      },
      {
       "javascript": [
        "$('div#136b9001-5144-427c-abb6-83cd7cd86d2b').text('80 of 436');"
       ],
       "metadata": {},
       "output_type": "display_data",
       "text": [
        "<IPython.core.display.Javascript at 0x9a0a1710>"
       ]
      },
      {
       "javascript": [
        "$('div#a6a319db-310a-4005-a804-d505df38b386').text(' 18%');"
       ],
       "metadata": {},
       "output_type": "display_data",
       "text": [
        "<IPython.core.display.Javascript at 0x9a0a1710>"
       ]
      },
      {
       "javascript": [
        "\n",
        "        var $myPB = $(\"div#aeb400dd-9292-4c25-8bd1-6c1f4e139221\")\n",
        "        if ($myPB.hasClass('ui-progressbar')) {\n",
        "            $myPB.progressbar('value', 80);\n",
        "        } else {\n",
        "            $myPB.progressbar({value: 0, max: 436});\n",
        "        }\n",
        "        "
       ],
       "metadata": {},
       "output_type": "display_data",
       "text": [
        "<IPython.core.display.Javascript at 0x9a0a1940>"
       ]
      },
      {
       "javascript": [
        "$('div#9dbee237-2553-45ce-9970-82a24f66f277').text('ETA:  0:00:00');"
       ],
       "metadata": {},
       "output_type": "display_data",
       "text": [
        "<IPython.core.display.Javascript at 0x9a0a10f0>"
       ]
      },
      {
       "javascript": [
        "$('div#136b9001-5144-427c-abb6-83cd7cd86d2b').text('85 of 436');"
       ],
       "metadata": {},
       "output_type": "display_data",
       "text": [
        "<IPython.core.display.Javascript at 0x9a0a1160>"
       ]
      },
      {
       "javascript": [
        "$('div#a6a319db-310a-4005-a804-d505df38b386').text(' 19%');"
       ],
       "metadata": {},
       "output_type": "display_data",
       "text": [
        "<IPython.core.display.Javascript at 0x9a0a1160>"
       ]
      },
      {
       "javascript": [
        "\n",
        "        var $myPB = $(\"div#aeb400dd-9292-4c25-8bd1-6c1f4e139221\")\n",
        "        if ($myPB.hasClass('ui-progressbar')) {\n",
        "            $myPB.progressbar('value', 85);\n",
        "        } else {\n",
        "            $myPB.progressbar({value: 0, max: 436});\n",
        "        }\n",
        "        "
       ],
       "metadata": {},
       "output_type": "display_data",
       "text": [
        "<IPython.core.display.Javascript at 0x9a0a11d0>"
       ]
      },
      {
       "javascript": [
        "$('div#9dbee237-2553-45ce-9970-82a24f66f277').text('ETA:  0:00:00');"
       ],
       "metadata": {},
       "output_type": "display_data",
       "text": [
        "<IPython.core.display.Javascript at 0x9a0a1550>"
       ]
      },
      {
       "javascript": [
        "$('div#136b9001-5144-427c-abb6-83cd7cd86d2b').text('90 of 436');"
       ],
       "metadata": {},
       "output_type": "display_data",
       "text": [
        "<IPython.core.display.Javascript at 0x9a0a1b70>"
       ]
      },
      {
       "javascript": [
        "$('div#a6a319db-310a-4005-a804-d505df38b386').text(' 20%');"
       ],
       "metadata": {},
       "output_type": "display_data",
       "text": [
        "<IPython.core.display.Javascript at 0x9a0a1b70>"
       ]
      },
      {
       "javascript": [
        "\n",
        "        var $myPB = $(\"div#aeb400dd-9292-4c25-8bd1-6c1f4e139221\")\n",
        "        if ($myPB.hasClass('ui-progressbar')) {\n",
        "            $myPB.progressbar('value', 90);\n",
        "        } else {\n",
        "            $myPB.progressbar({value: 0, max: 436});\n",
        "        }\n",
        "        "
       ],
       "metadata": {},
       "output_type": "display_data",
       "text": [
        "<IPython.core.display.Javascript at 0x9a0a1f28>"
       ]
      },
      {
       "javascript": [
        "$('div#9dbee237-2553-45ce-9970-82a24f66f277').text('ETA:  0:00:00');"
       ],
       "metadata": {},
       "output_type": "display_data",
       "text": [
        "<IPython.core.display.Javascript at 0x9a0a1ac8>"
       ]
      },
      {
       "javascript": [
        "$('div#136b9001-5144-427c-abb6-83cd7cd86d2b').text('95 of 436');"
       ],
       "metadata": {},
       "output_type": "display_data",
       "text": [
        "<IPython.core.display.Javascript at 0x9a0a17f0>"
       ]
      },
      {
       "javascript": [
        "$('div#a6a319db-310a-4005-a804-d505df38b386').text(' 21%');"
       ],
       "metadata": {},
       "output_type": "display_data",
       "text": [
        "<IPython.core.display.Javascript at 0x9a0a17f0>"
       ]
      },
      {
       "javascript": [
        "\n",
        "        var $myPB = $(\"div#aeb400dd-9292-4c25-8bd1-6c1f4e139221\")\n",
        "        if ($myPB.hasClass('ui-progressbar')) {\n",
        "            $myPB.progressbar('value', 95);\n",
        "        } else {\n",
        "            $myPB.progressbar({value: 0, max: 436});\n",
        "        }\n",
        "        "
       ],
       "metadata": {},
       "output_type": "display_data",
       "text": [
        "<IPython.core.display.Javascript at 0x9a0a1da0>"
       ]
      },
      {
       "javascript": [
        "$('div#9dbee237-2553-45ce-9970-82a24f66f277').text('ETA:  0:00:00');"
       ],
       "metadata": {},
       "output_type": "display_data",
       "text": [
        "<IPython.core.display.Javascript at 0x9a0a1940>"
       ]
      },
      {
       "javascript": [
        "$('div#136b9001-5144-427c-abb6-83cd7cd86d2b').text('100 of 436');"
       ],
       "metadata": {},
       "output_type": "display_data",
       "text": [
        "<IPython.core.display.Javascript at 0x9a0a1cc0>"
       ]
      },
      {
       "javascript": [
        "$('div#a6a319db-310a-4005-a804-d505df38b386').text(' 22%');"
       ],
       "metadata": {},
       "output_type": "display_data",
       "text": [
        "<IPython.core.display.Javascript at 0x9a0a1cc0>"
       ]
      },
      {
       "javascript": [
        "\n",
        "        var $myPB = $(\"div#aeb400dd-9292-4c25-8bd1-6c1f4e139221\")\n",
        "        if ($myPB.hasClass('ui-progressbar')) {\n",
        "            $myPB.progressbar('value', 100);\n",
        "        } else {\n",
        "            $myPB.progressbar({value: 0, max: 436});\n",
        "        }\n",
        "        "
       ],
       "metadata": {},
       "output_type": "display_data",
       "text": [
        "<IPython.core.display.Javascript at 0x9a0a1550>"
       ]
      },
      {
       "javascript": [
        "$('div#9dbee237-2553-45ce-9970-82a24f66f277').text('ETA:  0:00:00');"
       ],
       "metadata": {},
       "output_type": "display_data",
       "text": [
        "<IPython.core.display.Javascript at 0x9a0a1160>"
       ]
      },
      {
       "javascript": [
        "$('div#136b9001-5144-427c-abb6-83cd7cd86d2b').text('105 of 436');"
       ],
       "metadata": {},
       "output_type": "display_data",
       "text": [
        "<IPython.core.display.Javascript at 0x9a0a10f0>"
       ]
      },
      {
       "javascript": [
        "$('div#a6a319db-310a-4005-a804-d505df38b386').text(' 24%');"
       ],
       "metadata": {},
       "output_type": "display_data",
       "text": [
        "<IPython.core.display.Javascript at 0x9a0a10f0>"
       ]
      },
      {
       "javascript": [
        "\n",
        "        var $myPB = $(\"div#aeb400dd-9292-4c25-8bd1-6c1f4e139221\")\n",
        "        if ($myPB.hasClass('ui-progressbar')) {\n",
        "            $myPB.progressbar('value', 105);\n",
        "        } else {\n",
        "            $myPB.progressbar({value: 0, max: 436});\n",
        "        }\n",
        "        "
       ],
       "metadata": {},
       "output_type": "display_data",
       "text": [
        "<IPython.core.display.Javascript at 0x9a0a11d0>"
       ]
      },
      {
       "javascript": [
        "$('div#9dbee237-2553-45ce-9970-82a24f66f277').text('ETA:  0:00:00');"
       ],
       "metadata": {},
       "output_type": "display_data",
       "text": [
        "<IPython.core.display.Javascript at 0x9a0a1b70>"
       ]
      },
      {
       "javascript": [
        "$('div#136b9001-5144-427c-abb6-83cd7cd86d2b').text('110 of 436');"
       ],
       "metadata": {},
       "output_type": "display_data",
       "text": [
        "<IPython.core.display.Javascript at 0x9a0a1940>"
       ]
      },
      {
       "javascript": [
        "$('div#a6a319db-310a-4005-a804-d505df38b386').text(' 25%');"
       ],
       "metadata": {},
       "output_type": "display_data",
       "text": [
        "<IPython.core.display.Javascript at 0x9a0a1940>"
       ]
      },
      {
       "javascript": [
        "\n",
        "        var $myPB = $(\"div#aeb400dd-9292-4c25-8bd1-6c1f4e139221\")\n",
        "        if ($myPB.hasClass('ui-progressbar')) {\n",
        "            $myPB.progressbar('value', 110);\n",
        "        } else {\n",
        "            $myPB.progressbar({value: 0, max: 436});\n",
        "        }\n",
        "        "
       ],
       "metadata": {},
       "output_type": "display_data",
       "text": [
        "<IPython.core.display.Javascript at 0x9a0a15f8>"
       ]
      },
      {
       "javascript": [
        "$('div#9dbee237-2553-45ce-9970-82a24f66f277').text('ETA:  0:00:00');"
       ],
       "metadata": {},
       "output_type": "display_data",
       "text": [
        "<IPython.core.display.Javascript at 0x9a0a1160>"
       ]
      },
      {
       "javascript": [
        "$('div#136b9001-5144-427c-abb6-83cd7cd86d2b').text('115 of 436');"
       ],
       "metadata": {},
       "output_type": "display_data",
       "text": [
        "<IPython.core.display.Javascript at 0x9a0a1550>"
       ]
      },
      {
       "javascript": [
        "$('div#a6a319db-310a-4005-a804-d505df38b386').text(' 26%');"
       ],
       "metadata": {},
       "output_type": "display_data",
       "text": [
        "<IPython.core.display.Javascript at 0x9a0a1550>"
       ]
      },
      {
       "javascript": [
        "\n",
        "        var $myPB = $(\"div#aeb400dd-9292-4c25-8bd1-6c1f4e139221\")\n",
        "        if ($myPB.hasClass('ui-progressbar')) {\n",
        "            $myPB.progressbar('value', 115);\n",
        "        } else {\n",
        "            $myPB.progressbar({value: 0, max: 436});\n",
        "        }\n",
        "        "
       ],
       "metadata": {},
       "output_type": "display_data",
       "text": [
        "<IPython.core.display.Javascript at 0x9a0a1f28>"
       ]
      },
      {
       "javascript": [
        "$('div#9dbee237-2553-45ce-9970-82a24f66f277').text('ETA:  0:00:00');"
       ],
       "metadata": {},
       "output_type": "display_data",
       "text": [
        "<IPython.core.display.Javascript at 0x9a0a11d0>"
       ]
      },
      {
       "javascript": [
        "$('div#136b9001-5144-427c-abb6-83cd7cd86d2b').text('120 of 436');"
       ],
       "metadata": {},
       "output_type": "display_data",
       "text": [
        "<IPython.core.display.Javascript at 0x9a0a1b70>"
       ]
      },
      {
       "javascript": [
        "$('div#a6a319db-310a-4005-a804-d505df38b386').text(' 27%');"
       ],
       "metadata": {},
       "output_type": "display_data",
       "text": [
        "<IPython.core.display.Javascript at 0x9a0a1b70>"
       ]
      },
      {
       "javascript": [
        "\n",
        "        var $myPB = $(\"div#aeb400dd-9292-4c25-8bd1-6c1f4e139221\")\n",
        "        if ($myPB.hasClass('ui-progressbar')) {\n",
        "            $myPB.progressbar('value', 120);\n",
        "        } else {\n",
        "            $myPB.progressbar({value: 0, max: 436});\n",
        "        }\n",
        "        "
       ],
       "metadata": {},
       "output_type": "display_data",
       "text": [
        "<IPython.core.display.Javascript at 0x9a0a19b0>"
       ]
      },
      {
       "javascript": [
        "$('div#9dbee237-2553-45ce-9970-82a24f66f277').text('ETA:  0:00:00');"
       ],
       "metadata": {},
       "output_type": "display_data",
       "text": [
        "<IPython.core.display.Javascript at 0x9a0a1b00>"
       ]
      },
      {
       "javascript": [
        "$('div#136b9001-5144-427c-abb6-83cd7cd86d2b').text('125 of 436');"
       ],
       "metadata": {},
       "output_type": "display_data",
       "text": [
        "<IPython.core.display.Javascript at 0x9a0a1c50>"
       ]
      },
      {
       "javascript": [
        "$('div#a6a319db-310a-4005-a804-d505df38b386').text(' 28%');"
       ],
       "metadata": {},
       "output_type": "display_data",
       "text": [
        "<IPython.core.display.Javascript at 0x9a0a1c50>"
       ]
      },
      {
       "javascript": [
        "\n",
        "        var $myPB = $(\"div#aeb400dd-9292-4c25-8bd1-6c1f4e139221\")\n",
        "        if ($myPB.hasClass('ui-progressbar')) {\n",
        "            $myPB.progressbar('value', 125);\n",
        "        } else {\n",
        "            $myPB.progressbar({value: 0, max: 436});\n",
        "        }\n",
        "        "
       ],
       "metadata": {},
       "output_type": "display_data",
       "text": [
        "<IPython.core.display.Javascript at 0x9a0a1dd8>"
       ]
      },
      {
       "javascript": [
        "$('div#9dbee237-2553-45ce-9970-82a24f66f277').text('ETA:  0:00:00');"
       ],
       "metadata": {},
       "output_type": "display_data",
       "text": [
        "<IPython.core.display.Javascript at 0x9a0a1940>"
       ]
      },
      {
       "javascript": [
        "$('div#136b9001-5144-427c-abb6-83cd7cd86d2b').text('130 of 436');"
       ],
       "metadata": {},
       "output_type": "display_data",
       "text": [
        "<IPython.core.display.Javascript at 0x9a0a1160>"
       ]
      },
      {
       "javascript": [
        "$('div#a6a319db-310a-4005-a804-d505df38b386').text(' 29%');"
       ],
       "metadata": {},
       "output_type": "display_data",
       "text": [
        "<IPython.core.display.Javascript at 0x9a0a1160>"
       ]
      },
      {
       "javascript": [
        "\n",
        "        var $myPB = $(\"div#aeb400dd-9292-4c25-8bd1-6c1f4e139221\")\n",
        "        if ($myPB.hasClass('ui-progressbar')) {\n",
        "            $myPB.progressbar('value', 130);\n",
        "        } else {\n",
        "            $myPB.progressbar({value: 0, max: 436});\n",
        "        }\n",
        "        "
       ],
       "metadata": {},
       "output_type": "display_data",
       "text": [
        "<IPython.core.display.Javascript at 0x9a0a10f0>"
       ]
      },
      {
       "javascript": [
        "$('div#9dbee237-2553-45ce-9970-82a24f66f277').text('ETA:  0:00:00');"
       ],
       "metadata": {},
       "output_type": "display_data",
       "text": [
        "<IPython.core.display.Javascript at 0x9a0a1f28>"
       ]
      },
      {
       "javascript": [
        "$('div#136b9001-5144-427c-abb6-83cd7cd86d2b').text('135 of 436');"
       ],
       "metadata": {},
       "output_type": "display_data",
       "text": [
        "<IPython.core.display.Javascript at 0x9a0a1f98>"
       ]
      },
      {
       "javascript": [
        "$('div#a6a319db-310a-4005-a804-d505df38b386').text(' 30%');"
       ],
       "metadata": {},
       "output_type": "display_data",
       "text": [
        "<IPython.core.display.Javascript at 0x9a0a1f98>"
       ]
      },
      {
       "javascript": [
        "\n",
        "        var $myPB = $(\"div#aeb400dd-9292-4c25-8bd1-6c1f4e139221\")\n",
        "        if ($myPB.hasClass('ui-progressbar')) {\n",
        "            $myPB.progressbar('value', 135);\n",
        "        } else {\n",
        "            $myPB.progressbar({value: 0, max: 436});\n",
        "        }\n",
        "        "
       ],
       "metadata": {},
       "output_type": "display_data",
       "text": [
        "<IPython.core.display.Javascript at 0x9a0a15f8>"
       ]
      },
      {
       "javascript": [
        "$('div#9dbee237-2553-45ce-9970-82a24f66f277').text('ETA:  0:00:00');"
       ],
       "metadata": {},
       "output_type": "display_data",
       "text": [
        "<IPython.core.display.Javascript at 0x9a0a19b0>"
       ]
      },
      {
       "javascript": [
        "$('div#136b9001-5144-427c-abb6-83cd7cd86d2b').text('140 of 436');"
       ],
       "metadata": {},
       "output_type": "display_data",
       "text": [
        "<IPython.core.display.Javascript at 0x9a0a1550>"
       ]
      },
      {
       "javascript": [
        "$('div#a6a319db-310a-4005-a804-d505df38b386').text(' 32%');"
       ],
       "metadata": {},
       "output_type": "display_data",
       "text": [
        "<IPython.core.display.Javascript at 0x9a0a1550>"
       ]
      },
      {
       "javascript": [
        "\n",
        "        var $myPB = $(\"div#aeb400dd-9292-4c25-8bd1-6c1f4e139221\")\n",
        "        if ($myPB.hasClass('ui-progressbar')) {\n",
        "            $myPB.progressbar('value', 140);\n",
        "        } else {\n",
        "            $myPB.progressbar({value: 0, max: 436});\n",
        "        }\n",
        "        "
       ],
       "metadata": {},
       "output_type": "display_data",
       "text": [
        "<IPython.core.display.Javascript at 0x9a0a11d0>"
       ]
      },
      {
       "javascript": [
        "$('div#9dbee237-2553-45ce-9970-82a24f66f277').text('ETA:  0:00:00');"
       ],
       "metadata": {},
       "output_type": "display_data",
       "text": [
        "<IPython.core.display.Javascript at 0x9a0a1dd8>"
       ]
      },
      {
       "javascript": [
        "$('div#136b9001-5144-427c-abb6-83cd7cd86d2b').text('145 of 436');"
       ],
       "metadata": {},
       "output_type": "display_data",
       "text": [
        "<IPython.core.display.Javascript at 0x9a0a1b70>"
       ]
      },
      {
       "javascript": [
        "$('div#a6a319db-310a-4005-a804-d505df38b386').text(' 33%');"
       ],
       "metadata": {},
       "output_type": "display_data",
       "text": [
        "<IPython.core.display.Javascript at 0x9a0a1b70>"
       ]
      },
      {
       "javascript": [
        "\n",
        "        var $myPB = $(\"div#aeb400dd-9292-4c25-8bd1-6c1f4e139221\")\n",
        "        if ($myPB.hasClass('ui-progressbar')) {\n",
        "            $myPB.progressbar('value', 145);\n",
        "        } else {\n",
        "            $myPB.progressbar({value: 0, max: 436});\n",
        "        }\n",
        "        "
       ],
       "metadata": {},
       "output_type": "display_data",
       "text": [
        "<IPython.core.display.Javascript at 0x9a0a1b00>"
       ]
      },
      {
       "javascript": [
        "$('div#9dbee237-2553-45ce-9970-82a24f66f277').text('ETA:  0:00:00');"
       ],
       "metadata": {},
       "output_type": "display_data",
       "text": [
        "<IPython.core.display.Javascript at 0x9a0a10f0>"
       ]
      },
      {
       "javascript": [
        "$('div#136b9001-5144-427c-abb6-83cd7cd86d2b').text('150 of 436');"
       ],
       "metadata": {},
       "output_type": "display_data",
       "text": [
        "<IPython.core.display.Javascript at 0x9a0a1c50>"
       ]
      },
      {
       "javascript": [
        "$('div#a6a319db-310a-4005-a804-d505df38b386').text(' 34%');"
       ],
       "metadata": {},
       "output_type": "display_data",
       "text": [
        "<IPython.core.display.Javascript at 0x9a0a1c50>"
       ]
      },
      {
       "javascript": [
        "\n",
        "        var $myPB = $(\"div#aeb400dd-9292-4c25-8bd1-6c1f4e139221\")\n",
        "        if ($myPB.hasClass('ui-progressbar')) {\n",
        "            $myPB.progressbar('value', 150);\n",
        "        } else {\n",
        "            $myPB.progressbar({value: 0, max: 436});\n",
        "        }\n",
        "        "
       ],
       "metadata": {},
       "output_type": "display_data",
       "text": [
        "<IPython.core.display.Javascript at 0x9a0a1940>"
       ]
      },
      {
       "javascript": [
        "$('div#9dbee237-2553-45ce-9970-82a24f66f277').text('ETA:  0:00:00');"
       ],
       "metadata": {},
       "output_type": "display_data",
       "text": [
        "<IPython.core.display.Javascript at 0x9a0a15f8>"
       ]
      },
      {
       "javascript": [
        "$('div#136b9001-5144-427c-abb6-83cd7cd86d2b').text('155 of 436');"
       ],
       "metadata": {},
       "output_type": "display_data",
       "text": [
        "<IPython.core.display.Javascript at 0x9a0a1f28>"
       ]
      },
      {
       "javascript": [
        "$('div#a6a319db-310a-4005-a804-d505df38b386').text(' 35%');"
       ],
       "metadata": {},
       "output_type": "display_data",
       "text": [
        "<IPython.core.display.Javascript at 0x9a0a1f28>"
       ]
      },
      {
       "javascript": [
        "\n",
        "        var $myPB = $(\"div#aeb400dd-9292-4c25-8bd1-6c1f4e139221\")\n",
        "        if ($myPB.hasClass('ui-progressbar')) {\n",
        "            $myPB.progressbar('value', 155);\n",
        "        } else {\n",
        "            $myPB.progressbar({value: 0, max: 436});\n",
        "        }\n",
        "        "
       ],
       "metadata": {},
       "output_type": "display_data",
       "text": [
        "<IPython.core.display.Javascript at 0x9a0a1dd8>"
       ]
      },
      {
       "javascript": [
        "$('div#9dbee237-2553-45ce-9970-82a24f66f277').text('ETA:  0:00:00');"
       ],
       "metadata": {},
       "output_type": "display_data",
       "text": [
        "<IPython.core.display.Javascript at 0x9a0a1550>"
       ]
      },
      {
       "javascript": [
        "$('div#136b9001-5144-427c-abb6-83cd7cd86d2b').text('160 of 436');"
       ],
       "metadata": {},
       "output_type": "display_data",
       "text": [
        "<IPython.core.display.Javascript at 0x9a0a19b0>"
       ]
      },
      {
       "javascript": [
        "$('div#a6a319db-310a-4005-a804-d505df38b386').text(' 36%');"
       ],
       "metadata": {},
       "output_type": "display_data",
       "text": [
        "<IPython.core.display.Javascript at 0x9a0a19b0>"
       ]
      },
      {
       "javascript": [
        "\n",
        "        var $myPB = $(\"div#aeb400dd-9292-4c25-8bd1-6c1f4e139221\")\n",
        "        if ($myPB.hasClass('ui-progressbar')) {\n",
        "            $myPB.progressbar('value', 160);\n",
        "        } else {\n",
        "            $myPB.progressbar({value: 0, max: 436});\n",
        "        }\n",
        "        "
       ],
       "metadata": {},
       "output_type": "display_data",
       "text": [
        "<IPython.core.display.Javascript at 0x9a0a11d0>"
       ]
      },
      {
       "javascript": [
        "$('div#9dbee237-2553-45ce-9970-82a24f66f277').text('ETA:  0:00:00');"
       ],
       "metadata": {},
       "output_type": "display_data",
       "text": [
        "<IPython.core.display.Javascript at 0x9a0a1b70>"
       ]
      },
      {
       "javascript": [
        "$('div#136b9001-5144-427c-abb6-83cd7cd86d2b').text('165 of 436');"
       ],
       "metadata": {},
       "output_type": "display_data",
       "text": [
        "<IPython.core.display.Javascript at 0x9a0a15f8>"
       ]
      },
      {
       "javascript": [
        "$('div#a6a319db-310a-4005-a804-d505df38b386').text(' 37%');"
       ],
       "metadata": {},
       "output_type": "display_data",
       "text": [
        "<IPython.core.display.Javascript at 0x9a0a15f8>"
       ]
      },
      {
       "javascript": [
        "\n",
        "        var $myPB = $(\"div#aeb400dd-9292-4c25-8bd1-6c1f4e139221\")\n",
        "        if ($myPB.hasClass('ui-progressbar')) {\n",
        "            $myPB.progressbar('value', 165);\n",
        "        } else {\n",
        "            $myPB.progressbar({value: 0, max: 436});\n",
        "        }\n",
        "        "
       ],
       "metadata": {},
       "output_type": "display_data",
       "text": [
        "<IPython.core.display.Javascript at 0x9a0a1320>"
       ]
      },
      {
       "javascript": [
        "$('div#9dbee237-2553-45ce-9970-82a24f66f277').text('ETA:  0:00:00');"
       ],
       "metadata": {},
       "output_type": "display_data",
       "text": [
        "<IPython.core.display.Javascript at 0x9a0a1550>"
       ]
      },
      {
       "javascript": [
        "$('div#136b9001-5144-427c-abb6-83cd7cd86d2b').text('170 of 436');"
       ],
       "metadata": {},
       "output_type": "display_data",
       "text": [
        "<IPython.core.display.Javascript at 0x9a0a1940>"
       ]
      },
      {
       "javascript": [
        "$('div#a6a319db-310a-4005-a804-d505df38b386').text(' 38%');"
       ],
       "metadata": {},
       "output_type": "display_data",
       "text": [
        "<IPython.core.display.Javascript at 0x9a0a1940>"
       ]
      },
      {
       "javascript": [
        "\n",
        "        var $myPB = $(\"div#aeb400dd-9292-4c25-8bd1-6c1f4e139221\")\n",
        "        if ($myPB.hasClass('ui-progressbar')) {\n",
        "            $myPB.progressbar('value', 170);\n",
        "        } else {\n",
        "            $myPB.progressbar({value: 0, max: 436});\n",
        "        }\n",
        "        "
       ],
       "metadata": {},
       "output_type": "display_data",
       "text": [
        "<IPython.core.display.Javascript at 0x9a0a1c50>"
       ]
      },
      {
       "javascript": [
        "$('div#9dbee237-2553-45ce-9970-82a24f66f277').text('ETA:  0:00:00');"
       ],
       "metadata": {},
       "output_type": "display_data",
       "text": [
        "<IPython.core.display.Javascript at 0x9a0a10b8>"
       ]
      },
      {
       "javascript": [
        "$('div#136b9001-5144-427c-abb6-83cd7cd86d2b').text('175 of 436');"
       ],
       "metadata": {},
       "output_type": "display_data",
       "text": [
        "<IPython.core.display.Javascript at 0x9a0a1b00>"
       ]
      },
      {
       "javascript": [
        "$('div#a6a319db-310a-4005-a804-d505df38b386').text(' 40%');"
       ],
       "metadata": {},
       "output_type": "display_data",
       "text": [
        "<IPython.core.display.Javascript at 0x9a0a1b00>"
       ]
      },
      {
       "javascript": [
        "\n",
        "        var $myPB = $(\"div#aeb400dd-9292-4c25-8bd1-6c1f4e139221\")\n",
        "        if ($myPB.hasClass('ui-progressbar')) {\n",
        "            $myPB.progressbar('value', 175);\n",
        "        } else {\n",
        "            $myPB.progressbar({value: 0, max: 436});\n",
        "        }\n",
        "        "
       ],
       "metadata": {},
       "output_type": "display_data",
       "text": [
        "<IPython.core.display.Javascript at 0x9a0a1b70>"
       ]
      },
      {
       "javascript": [
        "$('div#9dbee237-2553-45ce-9970-82a24f66f277').text('ETA:  0:00:00');"
       ],
       "metadata": {},
       "output_type": "display_data",
       "text": [
        "<IPython.core.display.Javascript at 0x9a0a19b0>"
       ]
      },
      {
       "javascript": [
        "$('div#136b9001-5144-427c-abb6-83cd7cd86d2b').text('180 of 436');"
       ],
       "metadata": {},
       "output_type": "display_data",
       "text": [
        "<IPython.core.display.Javascript at 0x9a0a1f28>"
       ]
      },
      {
       "javascript": [
        "$('div#a6a319db-310a-4005-a804-d505df38b386').text(' 41%');"
       ],
       "metadata": {},
       "output_type": "display_data",
       "text": [
        "<IPython.core.display.Javascript at 0x9a0a1f28>"
       ]
      },
      {
       "javascript": [
        "\n",
        "        var $myPB = $(\"div#aeb400dd-9292-4c25-8bd1-6c1f4e139221\")\n",
        "        if ($myPB.hasClass('ui-progressbar')) {\n",
        "            $myPB.progressbar('value', 180);\n",
        "        } else {\n",
        "            $myPB.progressbar({value: 0, max: 436});\n",
        "        }\n",
        "        "
       ],
       "metadata": {},
       "output_type": "display_data",
       "text": [
        "<IPython.core.display.Javascript at 0x9a0a11d0>"
       ]
      },
      {
       "javascript": [
        "$('div#9dbee237-2553-45ce-9970-82a24f66f277').text('ETA:  0:00:00');"
       ],
       "metadata": {},
       "output_type": "display_data",
       "text": [
        "<IPython.core.display.Javascript at 0x9a0a15f8>"
       ]
      },
      {
       "javascript": [
        "$('div#136b9001-5144-427c-abb6-83cd7cd86d2b').text('185 of 436');"
       ],
       "metadata": {},
       "output_type": "display_data",
       "text": [
        "<IPython.core.display.Javascript at 0x9a0a1550>"
       ]
      },
      {
       "javascript": [
        "$('div#a6a319db-310a-4005-a804-d505df38b386').text(' 42%');"
       ],
       "metadata": {},
       "output_type": "display_data",
       "text": [
        "<IPython.core.display.Javascript at 0x9a0a1550>"
       ]
      },
      {
       "javascript": [
        "\n",
        "        var $myPB = $(\"div#aeb400dd-9292-4c25-8bd1-6c1f4e139221\")\n",
        "        if ($myPB.hasClass('ui-progressbar')) {\n",
        "            $myPB.progressbar('value', 185);\n",
        "        } else {\n",
        "            $myPB.progressbar({value: 0, max: 436});\n",
        "        }\n",
        "        "
       ],
       "metadata": {},
       "output_type": "display_data",
       "text": [
        "<IPython.core.display.Javascript at 0x9a0a12b0>"
       ]
      },
      {
       "javascript": [
        "$('div#9dbee237-2553-45ce-9970-82a24f66f277').text('ETA:  0:00:00');"
       ],
       "metadata": {},
       "output_type": "display_data",
       "text": [
        "<IPython.core.display.Javascript at 0x9a0a1c50>"
       ]
      },
      {
       "javascript": [
        "$('div#136b9001-5144-427c-abb6-83cd7cd86d2b').text('190 of 436');"
       ],
       "metadata": {},
       "output_type": "display_data",
       "text": [
        "<IPython.core.display.Javascript at 0x9a0a12e8>"
       ]
      },
      {
       "javascript": [
        "$('div#a6a319db-310a-4005-a804-d505df38b386').text(' 43%');"
       ],
       "metadata": {},
       "output_type": "display_data",
       "text": [
        "<IPython.core.display.Javascript at 0x9a0a12e8>"
       ]
      },
      {
       "javascript": [
        "\n",
        "        var $myPB = $(\"div#aeb400dd-9292-4c25-8bd1-6c1f4e139221\")\n",
        "        if ($myPB.hasClass('ui-progressbar')) {\n",
        "            $myPB.progressbar('value', 190);\n",
        "        } else {\n",
        "            $myPB.progressbar({value: 0, max: 436});\n",
        "        }\n",
        "        "
       ],
       "metadata": {},
       "output_type": "display_data",
       "text": [
        "<IPython.core.display.Javascript at 0x9a0a1320>"
       ]
      },
      {
       "javascript": [
        "$('div#9dbee237-2553-45ce-9970-82a24f66f277').text('ETA:  0:00:00');"
       ],
       "metadata": {},
       "output_type": "display_data",
       "text": [
        "<IPython.core.display.Javascript at 0x9a0a1b70>"
       ]
      },
      {
       "javascript": [
        "$('div#136b9001-5144-427c-abb6-83cd7cd86d2b').text('195 of 436');"
       ],
       "metadata": {},
       "output_type": "display_data",
       "text": [
        "<IPython.core.display.Javascript at 0x9a0a10b8>"
       ]
      },
      {
       "javascript": [
        "$('div#a6a319db-310a-4005-a804-d505df38b386').text(' 44%');"
       ],
       "metadata": {},
       "output_type": "display_data",
       "text": [
        "<IPython.core.display.Javascript at 0x9a0a10b8>"
       ]
      },
      {
       "javascript": [
        "\n",
        "        var $myPB = $(\"div#aeb400dd-9292-4c25-8bd1-6c1f4e139221\")\n",
        "        if ($myPB.hasClass('ui-progressbar')) {\n",
        "            $myPB.progressbar('value', 195);\n",
        "        } else {\n",
        "            $myPB.progressbar({value: 0, max: 436});\n",
        "        }\n",
        "        "
       ],
       "metadata": {},
       "output_type": "display_data",
       "text": [
        "<IPython.core.display.Javascript at 0x9a0a15f8>"
       ]
      },
      {
       "javascript": [
        "$('div#9dbee237-2553-45ce-9970-82a24f66f277').text('ETA:  0:00:00');"
       ],
       "metadata": {},
       "output_type": "display_data",
       "text": [
        "<IPython.core.display.Javascript at 0x9a0a1f28>"
       ]
      },
      {
       "javascript": [
        "$('div#136b9001-5144-427c-abb6-83cd7cd86d2b').text('200 of 436');"
       ],
       "metadata": {},
       "output_type": "display_data",
       "text": [
        "<IPython.core.display.Javascript at 0x9a0a19b0>"
       ]
      },
      {
       "javascript": [
        "$('div#a6a319db-310a-4005-a804-d505df38b386').text(' 45%');"
       ],
       "metadata": {},
       "output_type": "display_data",
       "text": [
        "<IPython.core.display.Javascript at 0x9a0a19b0>"
       ]
      },
      {
       "javascript": [
        "\n",
        "        var $myPB = $(\"div#aeb400dd-9292-4c25-8bd1-6c1f4e139221\")\n",
        "        if ($myPB.hasClass('ui-progressbar')) {\n",
        "            $myPB.progressbar('value', 200);\n",
        "        } else {\n",
        "            $myPB.progressbar({value: 0, max: 436});\n",
        "        }\n",
        "        "
       ],
       "metadata": {},
       "output_type": "display_data",
       "text": [
        "<IPython.core.display.Javascript at 0x9a0a11d0>"
       ]
      },
      {
       "javascript": [
        "$('div#9dbee237-2553-45ce-9970-82a24f66f277').text('ETA:  0:00:00');"
       ],
       "metadata": {},
       "output_type": "display_data",
       "text": [
        "<IPython.core.display.Javascript at 0x9a0a1550>"
       ]
      },
      {
       "javascript": [
        "$('div#136b9001-5144-427c-abb6-83cd7cd86d2b').text('205 of 436');"
       ],
       "metadata": {},
       "output_type": "display_data",
       "text": [
        "<IPython.core.display.Javascript at 0x9a0a1b70>"
       ]
      },
      {
       "javascript": [
        "$('div#a6a319db-310a-4005-a804-d505df38b386').text(' 47%');"
       ],
       "metadata": {},
       "output_type": "display_data",
       "text": [
        "<IPython.core.display.Javascript at 0x9a0a1b70>"
       ]
      },
      {
       "javascript": [
        "\n",
        "        var $myPB = $(\"div#aeb400dd-9292-4c25-8bd1-6c1f4e139221\")\n",
        "        if ($myPB.hasClass('ui-progressbar')) {\n",
        "            $myPB.progressbar('value', 205);\n",
        "        } else {\n",
        "            $myPB.progressbar({value: 0, max: 436});\n",
        "        }\n",
        "        "
       ],
       "metadata": {},
       "output_type": "display_data",
       "text": [
        "<IPython.core.display.Javascript at 0x9a0a1588>"
       ]
      },
      {
       "javascript": [
        "$('div#9dbee237-2553-45ce-9970-82a24f66f277').text('ETA:  0:00:00');"
       ],
       "metadata": {},
       "output_type": "display_data",
       "text": [
        "<IPython.core.display.Javascript at 0x9a0a1f28>"
       ]
      },
      {
       "javascript": [
        "$('div#136b9001-5144-427c-abb6-83cd7cd86d2b').text('210 of 436');"
       ],
       "metadata": {},
       "output_type": "display_data",
       "text": [
        "<IPython.core.display.Javascript at 0x9a0a1320>"
       ]
      },
      {
       "javascript": [
        "$('div#a6a319db-310a-4005-a804-d505df38b386').text(' 48%');"
       ],
       "metadata": {},
       "output_type": "display_data",
       "text": [
        "<IPython.core.display.Javascript at 0x9a0a1320>"
       ]
      },
      {
       "javascript": [
        "\n",
        "        var $myPB = $(\"div#aeb400dd-9292-4c25-8bd1-6c1f4e139221\")\n",
        "        if ($myPB.hasClass('ui-progressbar')) {\n",
        "            $myPB.progressbar('value', 210);\n",
        "        } else {\n",
        "            $myPB.progressbar({value: 0, max: 436});\n",
        "        }\n",
        "        "
       ],
       "metadata": {},
       "output_type": "display_data",
       "text": [
        "<IPython.core.display.Javascript at 0x9a0a12e8>"
       ]
      },
      {
       "javascript": [
        "$('div#9dbee237-2553-45ce-9970-82a24f66f277').text('ETA:  0:00:00');"
       ],
       "metadata": {},
       "output_type": "display_data",
       "text": [
        "<IPython.core.display.Javascript at 0x9a0a18d0>"
       ]
      },
      {
       "javascript": [
        "$('div#136b9001-5144-427c-abb6-83cd7cd86d2b').text('215 of 436');"
       ],
       "metadata": {},
       "output_type": "display_data",
       "text": [
        "<IPython.core.display.Javascript at 0x9a0a15f8>"
       ]
      },
      {
       "javascript": [
        "$('div#a6a319db-310a-4005-a804-d505df38b386').text(' 49%');"
       ],
       "metadata": {},
       "output_type": "display_data",
       "text": [
        "<IPython.core.display.Javascript at 0x9a0a15f8>"
       ]
      },
      {
       "javascript": [
        "\n",
        "        var $myPB = $(\"div#aeb400dd-9292-4c25-8bd1-6c1f4e139221\")\n",
        "        if ($myPB.hasClass('ui-progressbar')) {\n",
        "            $myPB.progressbar('value', 215);\n",
        "        } else {\n",
        "            $myPB.progressbar({value: 0, max: 436});\n",
        "        }\n",
        "        "
       ],
       "metadata": {},
       "output_type": "display_data",
       "text": [
        "<IPython.core.display.Javascript at 0x9a0a12b0>"
       ]
      },
      {
       "javascript": [
        "$('div#9dbee237-2553-45ce-9970-82a24f66f277').text('ETA:  0:00:00');"
       ],
       "metadata": {},
       "output_type": "display_data",
       "text": [
        "<IPython.core.display.Javascript at 0x9a0a11d0>"
       ]
      },
      {
       "javascript": [
        "$('div#136b9001-5144-427c-abb6-83cd7cd86d2b').text('220 of 436');"
       ],
       "metadata": {},
       "output_type": "display_data",
       "text": [
        "<IPython.core.display.Javascript at 0x9a0a1748>"
       ]
      },
      {
       "javascript": [
        "$('div#a6a319db-310a-4005-a804-d505df38b386').text(' 50%');"
       ],
       "metadata": {},
       "output_type": "display_data",
       "text": [
        "<IPython.core.display.Javascript at 0x9a0a1748>"
       ]
      },
      {
       "javascript": [
        "\n",
        "        var $myPB = $(\"div#aeb400dd-9292-4c25-8bd1-6c1f4e139221\")\n",
        "        if ($myPB.hasClass('ui-progressbar')) {\n",
        "            $myPB.progressbar('value', 220);\n",
        "        } else {\n",
        "            $myPB.progressbar({value: 0, max: 436});\n",
        "        }\n",
        "        "
       ],
       "metadata": {},
       "output_type": "display_data",
       "text": [
        "<IPython.core.display.Javascript at 0x9a0a10b8>"
       ]
      },
      {
       "javascript": [
        "$('div#9dbee237-2553-45ce-9970-82a24f66f277').text('ETA:  0:00:00');"
       ],
       "metadata": {},
       "output_type": "display_data",
       "text": [
        "<IPython.core.display.Javascript at 0x9a0a1588>"
       ]
      },
      {
       "javascript": [
        "$('div#136b9001-5144-427c-abb6-83cd7cd86d2b').text('225 of 436');"
       ],
       "metadata": {},
       "output_type": "display_data",
       "text": [
        "<IPython.core.display.Javascript at 0x9a0a19b0>"
       ]
      },
      {
       "javascript": [
        "$('div#a6a319db-310a-4005-a804-d505df38b386').text(' 51%');"
       ],
       "metadata": {},
       "output_type": "display_data",
       "text": [
        "<IPython.core.display.Javascript at 0x9a0a19b0>"
       ]
      },
      {
       "javascript": [
        "\n",
        "        var $myPB = $(\"div#aeb400dd-9292-4c25-8bd1-6c1f4e139221\")\n",
        "        if ($myPB.hasClass('ui-progressbar')) {\n",
        "            $myPB.progressbar('value', 225);\n",
        "        } else {\n",
        "            $myPB.progressbar({value: 0, max: 436});\n",
        "        }\n",
        "        "
       ],
       "metadata": {},
       "output_type": "display_data",
       "text": [
        "<IPython.core.display.Javascript at 0x9a0a1550>"
       ]
      },
      {
       "javascript": [
        "$('div#9dbee237-2553-45ce-9970-82a24f66f277').text('ETA:  0:00:00');"
       ],
       "metadata": {},
       "output_type": "display_data",
       "text": [
        "<IPython.core.display.Javascript at 0x9a0a12e8>"
       ]
      },
      {
       "javascript": [
        "$('div#136b9001-5144-427c-abb6-83cd7cd86d2b').text('230 of 436');"
       ],
       "metadata": {},
       "output_type": "display_data",
       "text": [
        "<IPython.core.display.Javascript at 0x9a0a1f28>"
       ]
      },
      {
       "javascript": [
        "$('div#a6a319db-310a-4005-a804-d505df38b386').text(' 52%');"
       ],
       "metadata": {},
       "output_type": "display_data",
       "text": [
        "<IPython.core.display.Javascript at 0x9a0a1f28>"
       ]
      },
      {
       "javascript": [
        "\n",
        "        var $myPB = $(\"div#aeb400dd-9292-4c25-8bd1-6c1f4e139221\")\n",
        "        if ($myPB.hasClass('ui-progressbar')) {\n",
        "            $myPB.progressbar('value', 230);\n",
        "        } else {\n",
        "            $myPB.progressbar({value: 0, max: 436});\n",
        "        }\n",
        "        "
       ],
       "metadata": {},
       "output_type": "display_data",
       "text": [
        "<IPython.core.display.Javascript at 0x9a0a11d0>"
       ]
      },
      {
       "javascript": [
        "$('div#9dbee237-2553-45ce-9970-82a24f66f277').text('ETA:  0:00:00');"
       ],
       "metadata": {},
       "output_type": "display_data",
       "text": [
        "<IPython.core.display.Javascript at 0x9a0a15f8>"
       ]
      },
      {
       "javascript": [
        "$('div#136b9001-5144-427c-abb6-83cd7cd86d2b').text('235 of 436');"
       ],
       "metadata": {},
       "output_type": "display_data",
       "text": [
        "<IPython.core.display.Javascript at 0x9a0a12b0>"
       ]
      },
      {
       "javascript": [
        "$('div#a6a319db-310a-4005-a804-d505df38b386').text(' 53%');"
       ],
       "metadata": {},
       "output_type": "display_data",
       "text": [
        "<IPython.core.display.Javascript at 0x9a0a12b0>"
       ]
      },
      {
       "javascript": [
        "\n",
        "        var $myPB = $(\"div#aeb400dd-9292-4c25-8bd1-6c1f4e139221\")\n",
        "        if ($myPB.hasClass('ui-progressbar')) {\n",
        "            $myPB.progressbar('value', 235);\n",
        "        } else {\n",
        "            $myPB.progressbar({value: 0, max: 436});\n",
        "        }\n",
        "        "
       ],
       "metadata": {},
       "output_type": "display_data",
       "text": [
        "<IPython.core.display.Javascript at 0x9a0a10b8>"
       ]
      },
      {
       "javascript": [
        "$('div#9dbee237-2553-45ce-9970-82a24f66f277').text('ETA:  0:00:00');"
       ],
       "metadata": {},
       "output_type": "display_data",
       "text": [
        "<IPython.core.display.Javascript at 0x9a0a12e8>"
       ]
      },
      {
       "javascript": [
        "$('div#136b9001-5144-427c-abb6-83cd7cd86d2b').text('240 of 436');"
       ],
       "metadata": {},
       "output_type": "display_data",
       "text": [
        "<IPython.core.display.Javascript at 0x9a0a1320>"
       ]
      },
      {
       "javascript": [
        "$('div#a6a319db-310a-4005-a804-d505df38b386').text(' 55%');"
       ],
       "metadata": {},
       "output_type": "display_data",
       "text": [
        "<IPython.core.display.Javascript at 0x9a0a1320>"
       ]
      },
      {
       "javascript": [
        "\n",
        "        var $myPB = $(\"div#aeb400dd-9292-4c25-8bd1-6c1f4e139221\")\n",
        "        if ($myPB.hasClass('ui-progressbar')) {\n",
        "            $myPB.progressbar('value', 240);\n",
        "        } else {\n",
        "            $myPB.progressbar({value: 0, max: 436});\n",
        "        }\n",
        "        "
       ],
       "metadata": {},
       "output_type": "display_data",
       "text": [
        "<IPython.core.display.Javascript at 0x9a0a1748>"
       ]
      },
      {
       "javascript": [
        "$('div#9dbee237-2553-45ce-9970-82a24f66f277').text('ETA:  0:00:00');"
       ],
       "metadata": {},
       "output_type": "display_data",
       "text": [
        "<IPython.core.display.Javascript at 0x9a0a15f8>"
       ]
      },
      {
       "javascript": [
        "$('div#136b9001-5144-427c-abb6-83cd7cd86d2b').text('245 of 436');"
       ],
       "metadata": {},
       "output_type": "display_data",
       "text": [
        "<IPython.core.display.Javascript at 0x9a0a11d0>"
       ]
      },
      {
       "javascript": [
        "$('div#a6a319db-310a-4005-a804-d505df38b386').text(' 56%');"
       ],
       "metadata": {},
       "output_type": "display_data",
       "text": [
        "<IPython.core.display.Javascript at 0x9a0a11d0>"
       ]
      },
      {
       "javascript": [
        "\n",
        "        var $myPB = $(\"div#aeb400dd-9292-4c25-8bd1-6c1f4e139221\")\n",
        "        if ($myPB.hasClass('ui-progressbar')) {\n",
        "            $myPB.progressbar('value', 245);\n",
        "        } else {\n",
        "            $myPB.progressbar({value: 0, max: 436});\n",
        "        }\n",
        "        "
       ],
       "metadata": {},
       "output_type": "display_data",
       "text": [
        "<IPython.core.display.Javascript at 0x9a0a19b0>"
       ]
      },
      {
       "javascript": [
        "$('div#9dbee237-2553-45ce-9970-82a24f66f277').text('ETA:  0:00:00');"
       ],
       "metadata": {},
       "output_type": "display_data",
       "text": [
        "<IPython.core.display.Javascript at 0x9a0a12b0>"
       ]
      },
      {
       "javascript": [
        "$('div#136b9001-5144-427c-abb6-83cd7cd86d2b').text('250 of 436');"
       ],
       "metadata": {},
       "output_type": "display_data",
       "text": [
        "<IPython.core.display.Javascript at 0x9a0a12e8>"
       ]
      },
      {
       "javascript": [
        "$('div#a6a319db-310a-4005-a804-d505df38b386').text(' 57%');"
       ],
       "metadata": {},
       "output_type": "display_data",
       "text": [
        "<IPython.core.display.Javascript at 0x9a0a12e8>"
       ]
      },
      {
       "javascript": [
        "\n",
        "        var $myPB = $(\"div#aeb400dd-9292-4c25-8bd1-6c1f4e139221\")\n",
        "        if ($myPB.hasClass('ui-progressbar')) {\n",
        "            $myPB.progressbar('value', 250);\n",
        "        } else {\n",
        "            $myPB.progressbar({value: 0, max: 436});\n",
        "        }\n",
        "        "
       ],
       "metadata": {},
       "output_type": "display_data",
       "text": [
        "<IPython.core.display.Javascript at 0x9a0a19b0>"
       ]
      },
      {
       "javascript": [
        "$('div#9dbee237-2553-45ce-9970-82a24f66f277').text('ETA:  0:00:00');"
       ],
       "metadata": {},
       "output_type": "display_data",
       "text": [
        "<IPython.core.display.Javascript at 0x9a0a12b0>"
       ]
      },
      {
       "javascript": [
        "$('div#136b9001-5144-427c-abb6-83cd7cd86d2b').text('255 of 436');"
       ],
       "metadata": {},
       "output_type": "display_data",
       "text": [
        "<IPython.core.display.Javascript at 0x3529080>"
       ]
      },
      {
       "javascript": [
        "$('div#a6a319db-310a-4005-a804-d505df38b386').text(' 58%');"
       ],
       "metadata": {},
       "output_type": "display_data",
       "text": [
        "<IPython.core.display.Javascript at 0x9a0a19b0>"
       ]
      },
      {
       "javascript": [
        "\n",
        "        var $myPB = $(\"div#aeb400dd-9292-4c25-8bd1-6c1f4e139221\")\n",
        "        if ($myPB.hasClass('ui-progressbar')) {\n",
        "            $myPB.progressbar('value', 255);\n",
        "        } else {\n",
        "            $myPB.progressbar({value: 0, max: 436});\n",
        "        }\n",
        "        "
       ],
       "metadata": {},
       "output_type": "display_data",
       "text": [
        "<IPython.core.display.Javascript at 0x9a0a12e8>"
       ]
      },
      {
       "javascript": [
        "$('div#9dbee237-2553-45ce-9970-82a24f66f277').text('ETA:  0:00:00');"
       ],
       "metadata": {},
       "output_type": "display_data",
       "text": [
        "<IPython.core.display.Javascript at 0x9a0a12b0>"
       ]
      },
      {
       "javascript": [
        "$('div#136b9001-5144-427c-abb6-83cd7cd86d2b').text('260 of 436');"
       ],
       "metadata": {},
       "output_type": "display_data",
       "text": [
        "<IPython.core.display.Javascript at 0x3529518>"
       ]
      },
      {
       "javascript": [
        "$('div#a6a319db-310a-4005-a804-d505df38b386').text(' 59%');"
       ],
       "metadata": {},
       "output_type": "display_data",
       "text": [
        "<IPython.core.display.Javascript at 0x3529518>"
       ]
      },
      {
       "javascript": [
        "\n",
        "        var $myPB = $(\"div#aeb400dd-9292-4c25-8bd1-6c1f4e139221\")\n",
        "        if ($myPB.hasClass('ui-progressbar')) {\n",
        "            $myPB.progressbar('value', 260);\n",
        "        } else {\n",
        "            $myPB.progressbar({value: 0, max: 436});\n",
        "        }\n",
        "        "
       ],
       "metadata": {},
       "output_type": "display_data",
       "text": [
        "<IPython.core.display.Javascript at 0x3529240>"
       ]
      },
      {
       "javascript": [
        "$('div#9dbee237-2553-45ce-9970-82a24f66f277').text('ETA:  0:00:00');"
       ],
       "metadata": {},
       "output_type": "display_data",
       "text": [
        "<IPython.core.display.Javascript at 0x3529208>"
       ]
      },
      {
       "javascript": [
        "$('div#136b9001-5144-427c-abb6-83cd7cd86d2b').text('265 of 436');"
       ],
       "metadata": {},
       "output_type": "display_data",
       "text": [
        "<IPython.core.display.Javascript at 0x35290b8>"
       ]
      },
      {
       "javascript": [
        "$('div#a6a319db-310a-4005-a804-d505df38b386').text(' 60%');"
       ],
       "metadata": {},
       "output_type": "display_data",
       "text": [
        "<IPython.core.display.Javascript at 0x9a0a12b0>"
       ]
      },
      {
       "javascript": [
        "\n",
        "        var $myPB = $(\"div#aeb400dd-9292-4c25-8bd1-6c1f4e139221\")\n",
        "        if ($myPB.hasClass('ui-progressbar')) {\n",
        "            $myPB.progressbar('value', 265);\n",
        "        } else {\n",
        "            $myPB.progressbar({value: 0, max: 436});\n",
        "        }\n",
        "        "
       ],
       "metadata": {},
       "output_type": "display_data",
       "text": [
        "<IPython.core.display.Javascript at 0x9a0a12e8>"
       ]
      },
      {
       "javascript": [
        "$('div#9dbee237-2553-45ce-9970-82a24f66f277').text('ETA:  0:00:00');"
       ],
       "metadata": {},
       "output_type": "display_data",
       "text": [
        "<IPython.core.display.Javascript at 0x9a0a19b0>"
       ]
      },
      {
       "javascript": [
        "$('div#136b9001-5144-427c-abb6-83cd7cd86d2b').text('270 of 436');"
       ],
       "metadata": {},
       "output_type": "display_data",
       "text": [
        "<IPython.core.display.Javascript at 0x3529a20>"
       ]
      },
      {
       "javascript": [
        "$('div#a6a319db-310a-4005-a804-d505df38b386').text(' 61%');"
       ],
       "metadata": {},
       "output_type": "display_data",
       "text": [
        "<IPython.core.display.Javascript at 0x3529a20>"
       ]
      },
      {
       "javascript": [
        "\n",
        "        var $myPB = $(\"div#aeb400dd-9292-4c25-8bd1-6c1f4e139221\")\n",
        "        if ($myPB.hasClass('ui-progressbar')) {\n",
        "            $myPB.progressbar('value', 270);\n",
        "        } else {\n",
        "            $myPB.progressbar({value: 0, max: 436});\n",
        "        }\n",
        "        "
       ],
       "metadata": {},
       "output_type": "display_data",
       "text": [
        "<IPython.core.display.Javascript at 0x3529ba8>"
       ]
      },
      {
       "javascript": [
        "$('div#9dbee237-2553-45ce-9970-82a24f66f277').text('ETA:  0:00:00');"
       ],
       "metadata": {},
       "output_type": "display_data",
       "text": [
        "<IPython.core.display.Javascript at 0x3529208>"
       ]
      },
      {
       "javascript": [
        "$('div#136b9001-5144-427c-abb6-83cd7cd86d2b').text('275 of 436');"
       ],
       "metadata": {},
       "output_type": "display_data",
       "text": [
        "<IPython.core.display.Javascript at 0x3529240>"
       ]
      },
      {
       "javascript": [
        "$('div#a6a319db-310a-4005-a804-d505df38b386').text(' 63%');"
       ],
       "metadata": {},
       "output_type": "display_data",
       "text": [
        "<IPython.core.display.Javascript at 0x9a0a19b0>"
       ]
      },
      {
       "javascript": [
        "\n",
        "        var $myPB = $(\"div#aeb400dd-9292-4c25-8bd1-6c1f4e139221\")\n",
        "        if ($myPB.hasClass('ui-progressbar')) {\n",
        "            $myPB.progressbar('value', 275);\n",
        "        } else {\n",
        "            $myPB.progressbar({value: 0, max: 436});\n",
        "        }\n",
        "        "
       ],
       "metadata": {},
       "output_type": "display_data",
       "text": [
        "<IPython.core.display.Javascript at 0x9a0a12b0>"
       ]
      },
      {
       "javascript": [
        "$('div#9dbee237-2553-45ce-9970-82a24f66f277').text('ETA:  0:00:00');"
       ],
       "metadata": {},
       "output_type": "display_data",
       "text": [
        "<IPython.core.display.Javascript at 0x9a0a12e8>"
       ]
      },
      {
       "javascript": [
        "$('div#136b9001-5144-427c-abb6-83cd7cd86d2b').text('280 of 436');"
       ],
       "metadata": {},
       "output_type": "display_data",
       "text": [
        "<IPython.core.display.Javascript at 0x35290b8>"
       ]
      },
      {
       "javascript": [
        "$('div#a6a319db-310a-4005-a804-d505df38b386').text(' 64%');"
       ],
       "metadata": {},
       "output_type": "display_data",
       "text": [
        "<IPython.core.display.Javascript at 0x35290b8>"
       ]
      },
      {
       "javascript": [
        "\n",
        "        var $myPB = $(\"div#aeb400dd-9292-4c25-8bd1-6c1f4e139221\")\n",
        "        if ($myPB.hasClass('ui-progressbar')) {\n",
        "            $myPB.progressbar('value', 280);\n",
        "        } else {\n",
        "            $myPB.progressbar({value: 0, max: 436});\n",
        "        }\n",
        "        "
       ],
       "metadata": {},
       "output_type": "display_data",
       "text": [
        "<IPython.core.display.Javascript at 0x35295f8>"
       ]
      },
      {
       "javascript": [
        "$('div#9dbee237-2553-45ce-9970-82a24f66f277').text('ETA:  0:00:00');"
       ],
       "metadata": {},
       "output_type": "display_data",
       "text": [
        "<IPython.core.display.Javascript at 0x3529a20>"
       ]
      },
      {
       "javascript": [
        "$('div#136b9001-5144-427c-abb6-83cd7cd86d2b').text('285 of 436');"
       ],
       "metadata": {},
       "output_type": "display_data",
       "text": [
        "<IPython.core.display.Javascript at 0x3529ba8>"
       ]
      },
      {
       "javascript": [
        "$('div#a6a319db-310a-4005-a804-d505df38b386').text(' 65%');"
       ],
       "metadata": {},
       "output_type": "display_data",
       "text": [
        "<IPython.core.display.Javascript at 0x9a0a1c18>"
       ]
      },
      {
       "javascript": [
        "\n",
        "        var $myPB = $(\"div#aeb400dd-9292-4c25-8bd1-6c1f4e139221\")\n",
        "        if ($myPB.hasClass('ui-progressbar')) {\n",
        "            $myPB.progressbar('value', 285);\n",
        "        } else {\n",
        "            $myPB.progressbar({value: 0, max: 436});\n",
        "        }\n",
        "        "
       ],
       "metadata": {},
       "output_type": "display_data",
       "text": [
        "<IPython.core.display.Javascript at 0x9a0a12e8>"
       ]
      },
      {
       "javascript": [
        "$('div#9dbee237-2553-45ce-9970-82a24f66f277').text('ETA:  0:00:00');"
       ],
       "metadata": {},
       "output_type": "display_data",
       "text": [
        "<IPython.core.display.Javascript at 0x9a0a12b0>"
       ]
      },
      {
       "javascript": [
        "$('div#136b9001-5144-427c-abb6-83cd7cd86d2b').text('290 of 436');"
       ],
       "metadata": {},
       "output_type": "display_data",
       "text": [
        "<IPython.core.display.Javascript at 0x3529a20>"
       ]
      },
      {
       "javascript": [
        "$('div#a6a319db-310a-4005-a804-d505df38b386').text(' 66%');"
       ],
       "metadata": {},
       "output_type": "display_data",
       "text": [
        "<IPython.core.display.Javascript at 0x3529a20>"
       ]
      },
      {
       "javascript": [
        "\n",
        "        var $myPB = $(\"div#aeb400dd-9292-4c25-8bd1-6c1f4e139221\")\n",
        "        if ($myPB.hasClass('ui-progressbar')) {\n",
        "            $myPB.progressbar('value', 290);\n",
        "        } else {\n",
        "            $myPB.progressbar({value: 0, max: 436});\n",
        "        }\n",
        "        "
       ],
       "metadata": {},
       "output_type": "display_data",
       "text": [
        "<IPython.core.display.Javascript at 0x35290b8>"
       ]
      },
      {
       "javascript": [
        "$('div#9dbee237-2553-45ce-9970-82a24f66f277').text('ETA:  0:00:00');"
       ],
       "metadata": {},
       "output_type": "display_data",
       "text": [
        "<IPython.core.display.Javascript at 0x35295f8>"
       ]
      },
      {
       "javascript": [
        "$('div#136b9001-5144-427c-abb6-83cd7cd86d2b').text('295 of 436');"
       ],
       "metadata": {},
       "output_type": "display_data",
       "text": [
        "<IPython.core.display.Javascript at 0x9a0a19b0>"
       ]
      },
      {
       "javascript": [
        "$('div#a6a319db-310a-4005-a804-d505df38b386').text(' 67%');"
       ],
       "metadata": {},
       "output_type": "display_data",
       "text": [
        "<IPython.core.display.Javascript at 0x9a0a19b0>"
       ]
      },
      {
       "javascript": [
        "\n",
        "        var $myPB = $(\"div#aeb400dd-9292-4c25-8bd1-6c1f4e139221\")\n",
        "        if ($myPB.hasClass('ui-progressbar')) {\n",
        "            $myPB.progressbar('value', 295);\n",
        "        } else {\n",
        "            $myPB.progressbar({value: 0, max: 436});\n",
        "        }\n",
        "        "
       ],
       "metadata": {},
       "output_type": "display_data",
       "text": [
        "<IPython.core.display.Javascript at 0x9a0a12e8>"
       ]
      },
      {
       "javascript": [
        "$('div#9dbee237-2553-45ce-9970-82a24f66f277').text('ETA:  0:00:00');"
       ],
       "metadata": {},
       "output_type": "display_data",
       "text": [
        "<IPython.core.display.Javascript at 0x9a0a12b0>"
       ]
      },
      {
       "javascript": [
        "$('div#136b9001-5144-427c-abb6-83cd7cd86d2b').text('300 of 436');"
       ],
       "metadata": {},
       "output_type": "display_data",
       "text": [
        "<IPython.core.display.Javascript at 0x3529ba8>"
       ]
      },
      {
       "javascript": [
        "$('div#a6a319db-310a-4005-a804-d505df38b386').text(' 68%');"
       ],
       "metadata": {},
       "output_type": "display_data",
       "text": [
        "<IPython.core.display.Javascript at 0x3529ba8>"
       ]
      },
      {
       "javascript": [
        "\n",
        "        var $myPB = $(\"div#aeb400dd-9292-4c25-8bd1-6c1f4e139221\")\n",
        "        if ($myPB.hasClass('ui-progressbar')) {\n",
        "            $myPB.progressbar('value', 300);\n",
        "        } else {\n",
        "            $myPB.progressbar({value: 0, max: 436});\n",
        "        }\n",
        "        "
       ],
       "metadata": {},
       "output_type": "display_data",
       "text": [
        "<IPython.core.display.Javascript at 0x35290b8>"
       ]
      },
      {
       "javascript": [
        "$('div#9dbee237-2553-45ce-9970-82a24f66f277').text('ETA:  0:00:00');"
       ],
       "metadata": {},
       "output_type": "display_data",
       "text": [
        "<IPython.core.display.Javascript at 0x35295f8>"
       ]
      },
      {
       "javascript": [
        "$('div#136b9001-5144-427c-abb6-83cd7cd86d2b').text('305 of 436');"
       ],
       "metadata": {},
       "output_type": "display_data",
       "text": [
        "<IPython.core.display.Javascript at 0x9a0a1c18>"
       ]
      },
      {
       "javascript": [
        "$('div#a6a319db-310a-4005-a804-d505df38b386').text(' 69%');"
       ],
       "metadata": {},
       "output_type": "display_data",
       "text": [
        "<IPython.core.display.Javascript at 0x9a0a1c18>"
       ]
      },
      {
       "javascript": [
        "\n",
        "        var $myPB = $(\"div#aeb400dd-9292-4c25-8bd1-6c1f4e139221\")\n",
        "        if ($myPB.hasClass('ui-progressbar')) {\n",
        "            $myPB.progressbar('value', 305);\n",
        "        } else {\n",
        "            $myPB.progressbar({value: 0, max: 436});\n",
        "        }\n",
        "        "
       ],
       "metadata": {},
       "output_type": "display_data",
       "text": [
        "<IPython.core.display.Javascript at 0x9a0a12e8>"
       ]
      },
      {
       "javascript": [
        "$('div#9dbee237-2553-45ce-9970-82a24f66f277').text('ETA:  0:00:00');"
       ],
       "metadata": {},
       "output_type": "display_data",
       "text": [
        "<IPython.core.display.Javascript at 0x9a0a12b0>"
       ]
      },
      {
       "javascript": [
        "$('div#136b9001-5144-427c-abb6-83cd7cd86d2b').text('310 of 436');"
       ],
       "metadata": {},
       "output_type": "display_data",
       "text": [
        "<IPython.core.display.Javascript at 0x35290b8>"
       ]
      },
      {
       "javascript": [
        "$('div#a6a319db-310a-4005-a804-d505df38b386').text(' 71%');"
       ],
       "metadata": {},
       "output_type": "display_data",
       "text": [
        "<IPython.core.display.Javascript at 0x35290b8>"
       ]
      },
      {
       "javascript": [
        "\n",
        "        var $myPB = $(\"div#aeb400dd-9292-4c25-8bd1-6c1f4e139221\")\n",
        "        if ($myPB.hasClass('ui-progressbar')) {\n",
        "            $myPB.progressbar('value', 310);\n",
        "        } else {\n",
        "            $myPB.progressbar({value: 0, max: 436});\n",
        "        }\n",
        "        "
       ],
       "metadata": {},
       "output_type": "display_data",
       "text": [
        "<IPython.core.display.Javascript at 0x35295f8>"
       ]
      },
      {
       "javascript": [
        "$('div#9dbee237-2553-45ce-9970-82a24f66f277').text('ETA:  0:00:00');"
       ],
       "metadata": {},
       "output_type": "display_data",
       "text": [
        "<IPython.core.display.Javascript at 0x3529ba8>"
       ]
      },
      {
       "javascript": [
        "$('div#136b9001-5144-427c-abb6-83cd7cd86d2b').text('315 of 436');"
       ],
       "metadata": {},
       "output_type": "display_data",
       "text": [
        "<IPython.core.display.Javascript at 0x9a0a12e8>"
       ]
      },
      {
       "javascript": [
        "$('div#a6a319db-310a-4005-a804-d505df38b386').text(' 72%');"
       ],
       "metadata": {},
       "output_type": "display_data",
       "text": [
        "<IPython.core.display.Javascript at 0x9a0a12e8>"
       ]
      },
      {
       "javascript": [
        "\n",
        "        var $myPB = $(\"div#aeb400dd-9292-4c25-8bd1-6c1f4e139221\")\n",
        "        if ($myPB.hasClass('ui-progressbar')) {\n",
        "            $myPB.progressbar('value', 315);\n",
        "        } else {\n",
        "            $myPB.progressbar({value: 0, max: 436});\n",
        "        }\n",
        "        "
       ],
       "metadata": {},
       "output_type": "display_data",
       "text": [
        "<IPython.core.display.Javascript at 0x9a0a1c18>"
       ]
      },
      {
       "javascript": [
        "$('div#9dbee237-2553-45ce-9970-82a24f66f277').text('ETA:  0:00:00');"
       ],
       "metadata": {},
       "output_type": "display_data",
       "text": [
        "<IPython.core.display.Javascript at 0x9a0a12b0>"
       ]
      },
      {
       "javascript": [
        "$('div#136b9001-5144-427c-abb6-83cd7cd86d2b').text('320 of 436');"
       ],
       "metadata": {},
       "output_type": "display_data",
       "text": [
        "<IPython.core.display.Javascript at 0x35295f8>"
       ]
      },
      {
       "javascript": [
        "$('div#a6a319db-310a-4005-a804-d505df38b386').text(' 73%');"
       ],
       "metadata": {},
       "output_type": "display_data",
       "text": [
        "<IPython.core.display.Javascript at 0x35295f8>"
       ]
      },
      {
       "javascript": [
        "\n",
        "        var $myPB = $(\"div#aeb400dd-9292-4c25-8bd1-6c1f4e139221\")\n",
        "        if ($myPB.hasClass('ui-progressbar')) {\n",
        "            $myPB.progressbar('value', 320);\n",
        "        } else {\n",
        "            $myPB.progressbar({value: 0, max: 436});\n",
        "        }\n",
        "        "
       ],
       "metadata": {},
       "output_type": "display_data",
       "text": [
        "<IPython.core.display.Javascript at 0x35290b8>"
       ]
      },
      {
       "javascript": [
        "$('div#9dbee237-2553-45ce-9970-82a24f66f277').text('ETA:  0:00:00');"
       ],
       "metadata": {},
       "output_type": "display_data",
       "text": [
        "<IPython.core.display.Javascript at 0x3529ba8>"
       ]
      },
      {
       "javascript": [
        "$('div#136b9001-5144-427c-abb6-83cd7cd86d2b').text('325 of 436');"
       ],
       "metadata": {},
       "output_type": "display_data",
       "text": [
        "<IPython.core.display.Javascript at 0x9a0a12e8>"
       ]
      },
      {
       "javascript": [
        "$('div#a6a319db-310a-4005-a804-d505df38b386').text(' 74%');"
       ],
       "metadata": {},
       "output_type": "display_data",
       "text": [
        "<IPython.core.display.Javascript at 0x9a0a12e8>"
       ]
      },
      {
       "javascript": [
        "\n",
        "        var $myPB = $(\"div#aeb400dd-9292-4c25-8bd1-6c1f4e139221\")\n",
        "        if ($myPB.hasClass('ui-progressbar')) {\n",
        "            $myPB.progressbar('value', 325);\n",
        "        } else {\n",
        "            $myPB.progressbar({value: 0, max: 436});\n",
        "        }\n",
        "        "
       ],
       "metadata": {},
       "output_type": "display_data",
       "text": [
        "<IPython.core.display.Javascript at 0x9a0a12b0>"
       ]
      },
      {
       "javascript": [
        "$('div#9dbee237-2553-45ce-9970-82a24f66f277').text('ETA:  0:00:00');"
       ],
       "metadata": {},
       "output_type": "display_data",
       "text": [
        "<IPython.core.display.Javascript at 0x35295f8>"
       ]
      },
      {
       "javascript": [
        "$('div#136b9001-5144-427c-abb6-83cd7cd86d2b').text('330 of 436');"
       ],
       "metadata": {},
       "output_type": "display_data",
       "text": [
        "<IPython.core.display.Javascript at 0x9a0d1e80>"
       ]
      },
      {
       "javascript": [
        "$('div#a6a319db-310a-4005-a804-d505df38b386').text(' 75%');"
       ],
       "metadata": {},
       "output_type": "display_data",
       "text": [
        "<IPython.core.display.Javascript at 0x35295f8>"
       ]
      },
      {
       "javascript": [
        "\n",
        "        var $myPB = $(\"div#aeb400dd-9292-4c25-8bd1-6c1f4e139221\")\n",
        "        if ($myPB.hasClass('ui-progressbar')) {\n",
        "            $myPB.progressbar('value', 330);\n",
        "        } else {\n",
        "            $myPB.progressbar({value: 0, max: 436});\n",
        "        }\n",
        "        "
       ],
       "metadata": {},
       "output_type": "display_data",
       "text": [
        "<IPython.core.display.Javascript at 0x9a0a12e8>"
       ]
      },
      {
       "javascript": [
        "$('div#9dbee237-2553-45ce-9970-82a24f66f277').text('ETA:  0:00:00');"
       ],
       "metadata": {},
       "output_type": "display_data",
       "text": [
        "<IPython.core.display.Javascript at 0x9a0a12b0>"
       ]
      },
      {
       "javascript": [
        "$('div#136b9001-5144-427c-abb6-83cd7cd86d2b').text('335 of 436');"
       ],
       "metadata": {},
       "output_type": "display_data",
       "text": [
        "<IPython.core.display.Javascript at 0x9a0d11d0>"
       ]
      },
      {
       "javascript": [
        "$('div#a6a319db-310a-4005-a804-d505df38b386').text(' 76%');"
       ],
       "metadata": {},
       "output_type": "display_data",
       "text": [
        "<IPython.core.display.Javascript at 0x35295f8>"
       ]
      },
      {
       "javascript": [
        "\n",
        "        var $myPB = $(\"div#aeb400dd-9292-4c25-8bd1-6c1f4e139221\")\n",
        "        if ($myPB.hasClass('ui-progressbar')) {\n",
        "            $myPB.progressbar('value', 335);\n",
        "        } else {\n",
        "            $myPB.progressbar({value: 0, max: 436});\n",
        "        }\n",
        "        "
       ],
       "metadata": {},
       "output_type": "display_data",
       "text": [
        "<IPython.core.display.Javascript at 0x9a0a12e8>"
       ]
      },
      {
       "javascript": [
        "$('div#9dbee237-2553-45ce-9970-82a24f66f277').text('ETA:  0:00:00');"
       ],
       "metadata": {},
       "output_type": "display_data",
       "text": [
        "<IPython.core.display.Javascript at 0x9a0a12b0>"
       ]
      },
      {
       "javascript": [
        "$('div#136b9001-5144-427c-abb6-83cd7cd86d2b').text('340 of 436');"
       ],
       "metadata": {},
       "output_type": "display_data",
       "text": [
        "<IPython.core.display.Javascript at 0x9a0d1c18>"
       ]
      },
      {
       "javascript": [
        "$('div#a6a319db-310a-4005-a804-d505df38b386').text(' 77%');"
       ],
       "metadata": {},
       "output_type": "display_data",
       "text": [
        "<IPython.core.display.Javascript at 0x35295f8>"
       ]
      },
      {
       "javascript": [
        "\n",
        "        var $myPB = $(\"div#aeb400dd-9292-4c25-8bd1-6c1f4e139221\")\n",
        "        if ($myPB.hasClass('ui-progressbar')) {\n",
        "            $myPB.progressbar('value', 340);\n",
        "        } else {\n",
        "            $myPB.progressbar({value: 0, max: 436});\n",
        "        }\n",
        "        "
       ],
       "metadata": {},
       "output_type": "display_data",
       "text": [
        "<IPython.core.display.Javascript at 0x9a0a12e8>"
       ]
      },
      {
       "javascript": [
        "$('div#9dbee237-2553-45ce-9970-82a24f66f277').text('ETA:  0:00:00');"
       ],
       "metadata": {},
       "output_type": "display_data",
       "text": [
        "<IPython.core.display.Javascript at 0x9a0a12b0>"
       ]
      },
      {
       "javascript": [
        "$('div#136b9001-5144-427c-abb6-83cd7cd86d2b').text('345 of 436');"
       ],
       "metadata": {},
       "output_type": "display_data",
       "text": [
        "<IPython.core.display.Javascript at 0x9a0d19e8>"
       ]
      },
      {
       "javascript": [
        "$('div#a6a319db-310a-4005-a804-d505df38b386').text(' 79%');"
       ],
       "metadata": {},
       "output_type": "display_data",
       "text": [
        "<IPython.core.display.Javascript at 0x35295f8>"
       ]
      },
      {
       "javascript": [
        "\n",
        "        var $myPB = $(\"div#aeb400dd-9292-4c25-8bd1-6c1f4e139221\")\n",
        "        if ($myPB.hasClass('ui-progressbar')) {\n",
        "            $myPB.progressbar('value', 345);\n",
        "        } else {\n",
        "            $myPB.progressbar({value: 0, max: 436});\n",
        "        }\n",
        "        "
       ],
       "metadata": {},
       "output_type": "display_data",
       "text": [
        "<IPython.core.display.Javascript at 0x9a0a12e8>"
       ]
      },
      {
       "javascript": [
        "$('div#9dbee237-2553-45ce-9970-82a24f66f277').text('ETA:  0:00:00');"
       ],
       "metadata": {},
       "output_type": "display_data",
       "text": [
        "<IPython.core.display.Javascript at 0x9a0a12b0>"
       ]
      },
      {
       "javascript": [
        "$('div#136b9001-5144-427c-abb6-83cd7cd86d2b').text('350 of 436');"
       ],
       "metadata": {},
       "output_type": "display_data",
       "text": [
        "<IPython.core.display.Javascript at 0x9a0d1b00>"
       ]
      },
      {
       "javascript": [
        "$('div#a6a319db-310a-4005-a804-d505df38b386').text(' 80%');"
       ],
       "metadata": {},
       "output_type": "display_data",
       "text": [
        "<IPython.core.display.Javascript at 0x35295f8>"
       ]
      },
      {
       "javascript": [
        "\n",
        "        var $myPB = $(\"div#aeb400dd-9292-4c25-8bd1-6c1f4e139221\")\n",
        "        if ($myPB.hasClass('ui-progressbar')) {\n",
        "            $myPB.progressbar('value', 350);\n",
        "        } else {\n",
        "            $myPB.progressbar({value: 0, max: 436});\n",
        "        }\n",
        "        "
       ],
       "metadata": {},
       "output_type": "display_data",
       "text": [
        "<IPython.core.display.Javascript at 0x9a0a12e8>"
       ]
      },
      {
       "javascript": [
        "$('div#9dbee237-2553-45ce-9970-82a24f66f277').text('ETA:  0:00:00');"
       ],
       "metadata": {},
       "output_type": "display_data",
       "text": [
        "<IPython.core.display.Javascript at 0x9a0a12b0>"
       ]
      },
      {
       "javascript": [
        "$('div#136b9001-5144-427c-abb6-83cd7cd86d2b').text('355 of 436');"
       ],
       "metadata": {},
       "output_type": "display_data",
       "text": [
        "<IPython.core.display.Javascript at 0x9a0d1b00>"
       ]
      },
      {
       "javascript": [
        "$('div#a6a319db-310a-4005-a804-d505df38b386').text(' 81%');"
       ],
       "metadata": {},
       "output_type": "display_data",
       "text": [
        "<IPython.core.display.Javascript at 0x35295f8>"
       ]
      },
      {
       "javascript": [
        "\n",
        "        var $myPB = $(\"div#aeb400dd-9292-4c25-8bd1-6c1f4e139221\")\n",
        "        if ($myPB.hasClass('ui-progressbar')) {\n",
        "            $myPB.progressbar('value', 355);\n",
        "        } else {\n",
        "            $myPB.progressbar({value: 0, max: 436});\n",
        "        }\n",
        "        "
       ],
       "metadata": {},
       "output_type": "display_data",
       "text": [
        "<IPython.core.display.Javascript at 0x9a0a12e8>"
       ]
      },
      {
       "javascript": [
        "$('div#9dbee237-2553-45ce-9970-82a24f66f277').text('ETA:  0:00:00');"
       ],
       "metadata": {},
       "output_type": "display_data",
       "text": [
        "<IPython.core.display.Javascript at 0x9a0a12b0>"
       ]
      },
      {
       "javascript": [
        "$('div#136b9001-5144-427c-abb6-83cd7cd86d2b').text('360 of 436');"
       ],
       "metadata": {},
       "output_type": "display_data",
       "text": [
        "<IPython.core.display.Javascript at 0x9a0d1b00>"
       ]
      },
      {
       "javascript": [
        "$('div#a6a319db-310a-4005-a804-d505df38b386').text(' 82%');"
       ],
       "metadata": {},
       "output_type": "display_data",
       "text": [
        "<IPython.core.display.Javascript at 0x35295f8>"
       ]
      },
      {
       "javascript": [
        "\n",
        "        var $myPB = $(\"div#aeb400dd-9292-4c25-8bd1-6c1f4e139221\")\n",
        "        if ($myPB.hasClass('ui-progressbar')) {\n",
        "            $myPB.progressbar('value', 360);\n",
        "        } else {\n",
        "            $myPB.progressbar({value: 0, max: 436});\n",
        "        }\n",
        "        "
       ],
       "metadata": {},
       "output_type": "display_data",
       "text": [
        "<IPython.core.display.Javascript at 0x9a0a12e8>"
       ]
      },
      {
       "javascript": [
        "$('div#9dbee237-2553-45ce-9970-82a24f66f277').text('ETA:  0:00:00');"
       ],
       "metadata": {},
       "output_type": "display_data",
       "text": [
        "<IPython.core.display.Javascript at 0x9a0a12b0>"
       ]
      },
      {
       "javascript": [
        "$('div#136b9001-5144-427c-abb6-83cd7cd86d2b').text('365 of 436');"
       ],
       "metadata": {},
       "output_type": "display_data",
       "text": [
        "<IPython.core.display.Javascript at 0x9a0d1748>"
       ]
      },
      {
       "javascript": [
        "$('div#a6a319db-310a-4005-a804-d505df38b386').text(' 83%');"
       ],
       "metadata": {},
       "output_type": "display_data",
       "text": [
        "<IPython.core.display.Javascript at 0x35295f8>"
       ]
      },
      {
       "javascript": [
        "\n",
        "        var $myPB = $(\"div#aeb400dd-9292-4c25-8bd1-6c1f4e139221\")\n",
        "        if ($myPB.hasClass('ui-progressbar')) {\n",
        "            $myPB.progressbar('value', 365);\n",
        "        } else {\n",
        "            $myPB.progressbar({value: 0, max: 436});\n",
        "        }\n",
        "        "
       ],
       "metadata": {},
       "output_type": "display_data",
       "text": [
        "<IPython.core.display.Javascript at 0x9a0a12e8>"
       ]
      },
      {
       "javascript": [
        "$('div#9dbee237-2553-45ce-9970-82a24f66f277').text('ETA:  0:00:00');"
       ],
       "metadata": {},
       "output_type": "display_data",
       "text": [
        "<IPython.core.display.Javascript at 0x9a0a12b0>"
       ]
      },
      {
       "javascript": [
        "$('div#136b9001-5144-427c-abb6-83cd7cd86d2b').text('370 of 436');"
       ],
       "metadata": {},
       "output_type": "display_data",
       "text": [
        "<IPython.core.display.Javascript at 0x9a0d1550>"
       ]
      },
      {
       "javascript": [
        "$('div#a6a319db-310a-4005-a804-d505df38b386').text(' 84%');"
       ],
       "metadata": {},
       "output_type": "display_data",
       "text": [
        "<IPython.core.display.Javascript at 0x35295f8>"
       ]
      },
      {
       "javascript": [
        "\n",
        "        var $myPB = $(\"div#aeb400dd-9292-4c25-8bd1-6c1f4e139221\")\n",
        "        if ($myPB.hasClass('ui-progressbar')) {\n",
        "            $myPB.progressbar('value', 370);\n",
        "        } else {\n",
        "            $myPB.progressbar({value: 0, max: 436});\n",
        "        }\n",
        "        "
       ],
       "metadata": {},
       "output_type": "display_data",
       "text": [
        "<IPython.core.display.Javascript at 0x9a0a12e8>"
       ]
      },
      {
       "javascript": [
        "$('div#9dbee237-2553-45ce-9970-82a24f66f277').text('ETA:  0:00:00');"
       ],
       "metadata": {},
       "output_type": "display_data",
       "text": [
        "<IPython.core.display.Javascript at 0x9a0a12b0>"
       ]
      },
      {
       "javascript": [
        "$('div#136b9001-5144-427c-abb6-83cd7cd86d2b').text('375 of 436');"
       ],
       "metadata": {},
       "output_type": "display_data",
       "text": [
        "<IPython.core.display.Javascript at 0x9a0d1160>"
       ]
      },
      {
       "javascript": [
        "$('div#a6a319db-310a-4005-a804-d505df38b386').text(' 86%');"
       ],
       "metadata": {},
       "output_type": "display_data",
       "text": [
        "<IPython.core.display.Javascript at 0x35295f8>"
       ]
      },
      {
       "javascript": [
        "\n",
        "        var $myPB = $(\"div#aeb400dd-9292-4c25-8bd1-6c1f4e139221\")\n",
        "        if ($myPB.hasClass('ui-progressbar')) {\n",
        "            $myPB.progressbar('value', 375);\n",
        "        } else {\n",
        "            $myPB.progressbar({value: 0, max: 436});\n",
        "        }\n",
        "        "
       ],
       "metadata": {},
       "output_type": "display_data",
       "text": [
        "<IPython.core.display.Javascript at 0x9a0a12e8>"
       ]
      },
      {
       "javascript": [
        "$('div#9dbee237-2553-45ce-9970-82a24f66f277').text('ETA:  0:00:00');"
       ],
       "metadata": {},
       "output_type": "display_data",
       "text": [
        "<IPython.core.display.Javascript at 0x9a0a12b0>"
       ]
      },
      {
       "javascript": [
        "$('div#136b9001-5144-427c-abb6-83cd7cd86d2b').text('380 of 436');"
       ],
       "metadata": {},
       "output_type": "display_data",
       "text": [
        "<IPython.core.display.Javascript at 0x9a0d1160>"
       ]
      },
      {
       "javascript": [
        "$('div#a6a319db-310a-4005-a804-d505df38b386').text(' 87%');"
       ],
       "metadata": {},
       "output_type": "display_data",
       "text": [
        "<IPython.core.display.Javascript at 0x35295f8>"
       ]
      },
      {
       "javascript": [
        "\n",
        "        var $myPB = $(\"div#aeb400dd-9292-4c25-8bd1-6c1f4e139221\")\n",
        "        if ($myPB.hasClass('ui-progressbar')) {\n",
        "            $myPB.progressbar('value', 380);\n",
        "        } else {\n",
        "            $myPB.progressbar({value: 0, max: 436});\n",
        "        }\n",
        "        "
       ],
       "metadata": {},
       "output_type": "display_data",
       "text": [
        "<IPython.core.display.Javascript at 0x9a0a12e8>"
       ]
      },
      {
       "javascript": [
        "$('div#9dbee237-2553-45ce-9970-82a24f66f277').text('ETA:  0:00:00');"
       ],
       "metadata": {},
       "output_type": "display_data",
       "text": [
        "<IPython.core.display.Javascript at 0x9a0a12b0>"
       ]
      },
      {
       "javascript": [
        "$('div#136b9001-5144-427c-abb6-83cd7cd86d2b').text('385 of 436');"
       ],
       "metadata": {},
       "output_type": "display_data",
       "text": [
        "<IPython.core.display.Javascript at 0x9a0d1390>"
       ]
      },
      {
       "javascript": [
        "$('div#a6a319db-310a-4005-a804-d505df38b386').text(' 88%');"
       ],
       "metadata": {},
       "output_type": "display_data",
       "text": [
        "<IPython.core.display.Javascript at 0x35295f8>"
       ]
      },
      {
       "javascript": [
        "\n",
        "        var $myPB = $(\"div#aeb400dd-9292-4c25-8bd1-6c1f4e139221\")\n",
        "        if ($myPB.hasClass('ui-progressbar')) {\n",
        "            $myPB.progressbar('value', 385);\n",
        "        } else {\n",
        "            $myPB.progressbar({value: 0, max: 436});\n",
        "        }\n",
        "        "
       ],
       "metadata": {},
       "output_type": "display_data",
       "text": [
        "<IPython.core.display.Javascript at 0x9a0a12e8>"
       ]
      },
      {
       "javascript": [
        "$('div#9dbee237-2553-45ce-9970-82a24f66f277').text('ETA:  0:00:00');"
       ],
       "metadata": {},
       "output_type": "display_data",
       "text": [
        "<IPython.core.display.Javascript at 0x9a0a12b0>"
       ]
      },
      {
       "javascript": [
        "$('div#136b9001-5144-427c-abb6-83cd7cd86d2b').text('390 of 436');"
       ],
       "metadata": {},
       "output_type": "display_data",
       "text": [
        "<IPython.core.display.Javascript at 0x9a0d1390>"
       ]
      },
      {
       "javascript": [
        "$('div#a6a319db-310a-4005-a804-d505df38b386').text(' 89%');"
       ],
       "metadata": {},
       "output_type": "display_data",
       "text": [
        "<IPython.core.display.Javascript at 0x35295f8>"
       ]
      },
      {
       "javascript": [
        "\n",
        "        var $myPB = $(\"div#aeb400dd-9292-4c25-8bd1-6c1f4e139221\")\n",
        "        if ($myPB.hasClass('ui-progressbar')) {\n",
        "            $myPB.progressbar('value', 390);\n",
        "        } else {\n",
        "            $myPB.progressbar({value: 0, max: 436});\n",
        "        }\n",
        "        "
       ],
       "metadata": {},
       "output_type": "display_data",
       "text": [
        "<IPython.core.display.Javascript at 0x9a0a12e8>"
       ]
      },
      {
       "javascript": [
        "$('div#9dbee237-2553-45ce-9970-82a24f66f277').text('ETA:  0:00:00');"
       ],
       "metadata": {},
       "output_type": "display_data",
       "text": [
        "<IPython.core.display.Javascript at 0x9a0a12b0>"
       ]
      },
      {
       "javascript": [
        "$('div#136b9001-5144-427c-abb6-83cd7cd86d2b').text('395 of 436');"
       ],
       "metadata": {},
       "output_type": "display_data",
       "text": [
        "<IPython.core.display.Javascript at 0x9a0d1390>"
       ]
      },
      {
       "javascript": [
        "$('div#a6a319db-310a-4005-a804-d505df38b386').text(' 90%');"
       ],
       "metadata": {},
       "output_type": "display_data",
       "text": [
        "<IPython.core.display.Javascript at 0x35295f8>"
       ]
      },
      {
       "javascript": [
        "\n",
        "        var $myPB = $(\"div#aeb400dd-9292-4c25-8bd1-6c1f4e139221\")\n",
        "        if ($myPB.hasClass('ui-progressbar')) {\n",
        "            $myPB.progressbar('value', 395);\n",
        "        } else {\n",
        "            $myPB.progressbar({value: 0, max: 436});\n",
        "        }\n",
        "        "
       ],
       "metadata": {},
       "output_type": "display_data",
       "text": [
        "<IPython.core.display.Javascript at 0x9a0a12e8>"
       ]
      },
      {
       "javascript": [
        "$('div#9dbee237-2553-45ce-9970-82a24f66f277').text('ETA:  0:00:00');"
       ],
       "metadata": {},
       "output_type": "display_data",
       "text": [
        "<IPython.core.display.Javascript at 0x9a0a12b0>"
       ]
      },
      {
       "javascript": [
        "$('div#136b9001-5144-427c-abb6-83cd7cd86d2b').text('400 of 436');"
       ],
       "metadata": {},
       "output_type": "display_data",
       "text": [
        "<IPython.core.display.Javascript at 0x9a0d1390>"
       ]
      },
      {
       "javascript": [
        "$('div#a6a319db-310a-4005-a804-d505df38b386').text(' 91%');"
       ],
       "metadata": {},
       "output_type": "display_data",
       "text": [
        "<IPython.core.display.Javascript at 0x35295f8>"
       ]
      },
      {
       "javascript": [
        "\n",
        "        var $myPB = $(\"div#aeb400dd-9292-4c25-8bd1-6c1f4e139221\")\n",
        "        if ($myPB.hasClass('ui-progressbar')) {\n",
        "            $myPB.progressbar('value', 400);\n",
        "        } else {\n",
        "            $myPB.progressbar({value: 0, max: 436});\n",
        "        }\n",
        "        "
       ],
       "metadata": {},
       "output_type": "display_data",
       "text": [
        "<IPython.core.display.Javascript at 0x9a0a12e8>"
       ]
      },
      {
       "javascript": [
        "$('div#9dbee237-2553-45ce-9970-82a24f66f277').text('ETA:  0:00:00');"
       ],
       "metadata": {},
       "output_type": "display_data",
       "text": [
        "<IPython.core.display.Javascript at 0x9a0a12b0>"
       ]
      },
      {
       "javascript": [
        "$('div#136b9001-5144-427c-abb6-83cd7cd86d2b').text('405 of 436');"
       ],
       "metadata": {},
       "output_type": "display_data",
       "text": [
        "<IPython.core.display.Javascript at 0x9a0d1390>"
       ]
      },
      {
       "javascript": [
        "$('div#a6a319db-310a-4005-a804-d505df38b386').text(' 92%');"
       ],
       "metadata": {},
       "output_type": "display_data",
       "text": [
        "<IPython.core.display.Javascript at 0x35295f8>"
       ]
      },
      {
       "javascript": [
        "\n",
        "        var $myPB = $(\"div#aeb400dd-9292-4c25-8bd1-6c1f4e139221\")\n",
        "        if ($myPB.hasClass('ui-progressbar')) {\n",
        "            $myPB.progressbar('value', 405);\n",
        "        } else {\n",
        "            $myPB.progressbar({value: 0, max: 436});\n",
        "        }\n",
        "        "
       ],
       "metadata": {},
       "output_type": "display_data",
       "text": [
        "<IPython.core.display.Javascript at 0x9a0a12e8>"
       ]
      },
      {
       "javascript": [
        "$('div#9dbee237-2553-45ce-9970-82a24f66f277').text('ETA:  0:00:00');"
       ],
       "metadata": {},
       "output_type": "display_data",
       "text": [
        "<IPython.core.display.Javascript at 0x9a0a12b0>"
       ]
      },
      {
       "javascript": [
        "$('div#136b9001-5144-427c-abb6-83cd7cd86d2b').text('410 of 436');"
       ],
       "metadata": {},
       "output_type": "display_data",
       "text": [
        "<IPython.core.display.Javascript at 0x9a0d1f98>"
       ]
      },
      {
       "javascript": [
        "$('div#a6a319db-310a-4005-a804-d505df38b386').text(' 94%');"
       ],
       "metadata": {},
       "output_type": "display_data",
       "text": [
        "<IPython.core.display.Javascript at 0x35295f8>"
       ]
      },
      {
       "javascript": [
        "\n",
        "        var $myPB = $(\"div#aeb400dd-9292-4c25-8bd1-6c1f4e139221\")\n",
        "        if ($myPB.hasClass('ui-progressbar')) {\n",
        "            $myPB.progressbar('value', 410);\n",
        "        } else {\n",
        "            $myPB.progressbar({value: 0, max: 436});\n",
        "        }\n",
        "        "
       ],
       "metadata": {},
       "output_type": "display_data",
       "text": [
        "<IPython.core.display.Javascript at 0x9a0a12e8>"
       ]
      },
      {
       "javascript": [
        "$('div#9dbee237-2553-45ce-9970-82a24f66f277').text('ETA:  0:00:00');"
       ],
       "metadata": {},
       "output_type": "display_data",
       "text": [
        "<IPython.core.display.Javascript at 0x9a0a12b0>"
       ]
      },
      {
       "javascript": [
        "$('div#136b9001-5144-427c-abb6-83cd7cd86d2b').text('415 of 436');"
       ],
       "metadata": {},
       "output_type": "display_data",
       "text": [
        "<IPython.core.display.Javascript at 0x9a0d1c50>"
       ]
      },
      {
       "javascript": [
        "$('div#a6a319db-310a-4005-a804-d505df38b386').text(' 95%');"
       ],
       "metadata": {},
       "output_type": "display_data",
       "text": [
        "<IPython.core.display.Javascript at 0x35295f8>"
       ]
      },
      {
       "javascript": [
        "\n",
        "        var $myPB = $(\"div#aeb400dd-9292-4c25-8bd1-6c1f4e139221\")\n",
        "        if ($myPB.hasClass('ui-progressbar')) {\n",
        "            $myPB.progressbar('value', 415);\n",
        "        } else {\n",
        "            $myPB.progressbar({value: 0, max: 436});\n",
        "        }\n",
        "        "
       ],
       "metadata": {},
       "output_type": "display_data",
       "text": [
        "<IPython.core.display.Javascript at 0x9a0a12e8>"
       ]
      },
      {
       "javascript": [
        "$('div#9dbee237-2553-45ce-9970-82a24f66f277').text('ETA:  0:00:00');"
       ],
       "metadata": {},
       "output_type": "display_data",
       "text": [
        "<IPython.core.display.Javascript at 0x9a0a12b0>"
       ]
      },
      {
       "javascript": [
        "$('div#136b9001-5144-427c-abb6-83cd7cd86d2b').text('420 of 436');"
       ],
       "metadata": {},
       "output_type": "display_data",
       "text": [
        "<IPython.core.display.Javascript at 0x9a0d1c50>"
       ]
      },
      {
       "javascript": [
        "$('div#a6a319db-310a-4005-a804-d505df38b386').text(' 96%');"
       ],
       "metadata": {},
       "output_type": "display_data",
       "text": [
        "<IPython.core.display.Javascript at 0x35295f8>"
       ]
      },
      {
       "javascript": [
        "\n",
        "        var $myPB = $(\"div#aeb400dd-9292-4c25-8bd1-6c1f4e139221\")\n",
        "        if ($myPB.hasClass('ui-progressbar')) {\n",
        "            $myPB.progressbar('value', 420);\n",
        "        } else {\n",
        "            $myPB.progressbar({value: 0, max: 436});\n",
        "        }\n",
        "        "
       ],
       "metadata": {},
       "output_type": "display_data",
       "text": [
        "<IPython.core.display.Javascript at 0x9a0a12e8>"
       ]
      },
      {
       "javascript": [
        "$('div#9dbee237-2553-45ce-9970-82a24f66f277').text('ETA:  0:00:00');"
       ],
       "metadata": {},
       "output_type": "display_data",
       "text": [
        "<IPython.core.display.Javascript at 0x9a0a12b0>"
       ]
      },
      {
       "javascript": [
        "$('div#136b9001-5144-427c-abb6-83cd7cd86d2b').text('425 of 436');"
       ],
       "metadata": {},
       "output_type": "display_data",
       "text": [
        "<IPython.core.display.Javascript at 0x9a0d1c50>"
       ]
      },
      {
       "javascript": [
        "$('div#a6a319db-310a-4005-a804-d505df38b386').text(' 97%');"
       ],
       "metadata": {},
       "output_type": "display_data",
       "text": [
        "<IPython.core.display.Javascript at 0x35295f8>"
       ]
      },
      {
       "javascript": [
        "\n",
        "        var $myPB = $(\"div#aeb400dd-9292-4c25-8bd1-6c1f4e139221\")\n",
        "        if ($myPB.hasClass('ui-progressbar')) {\n",
        "            $myPB.progressbar('value', 425);\n",
        "        } else {\n",
        "            $myPB.progressbar({value: 0, max: 436});\n",
        "        }\n",
        "        "
       ],
       "metadata": {},
       "output_type": "display_data",
       "text": [
        "<IPython.core.display.Javascript at 0x9a0a12e8>"
       ]
      },
      {
       "javascript": [
        "$('div#9dbee237-2553-45ce-9970-82a24f66f277').text('ETA:  0:00:00');"
       ],
       "metadata": {},
       "output_type": "display_data",
       "text": [
        "<IPython.core.display.Javascript at 0x9a0a12b0>"
       ]
      },
      {
       "javascript": [
        "$('div#136b9001-5144-427c-abb6-83cd7cd86d2b').text('430 of 436');"
       ],
       "metadata": {},
       "output_type": "display_data",
       "text": [
        "<IPython.core.display.Javascript at 0x9a0d1ba8>"
       ]
      },
      {
       "javascript": [
        "$('div#a6a319db-310a-4005-a804-d505df38b386').text(' 98%');"
       ],
       "metadata": {},
       "output_type": "display_data",
       "text": [
        "<IPython.core.display.Javascript at 0x35295f8>"
       ]
      },
      {
       "javascript": [
        "\n",
        "        var $myPB = $(\"div#aeb400dd-9292-4c25-8bd1-6c1f4e139221\")\n",
        "        if ($myPB.hasClass('ui-progressbar')) {\n",
        "            $myPB.progressbar('value', 430);\n",
        "        } else {\n",
        "            $myPB.progressbar({value: 0, max: 436});\n",
        "        }\n",
        "        "
       ],
       "metadata": {},
       "output_type": "display_data",
       "text": [
        "<IPython.core.display.Javascript at 0x9a0a12e8>"
       ]
      },
      {
       "javascript": [
        "$('div#9dbee237-2553-45ce-9970-82a24f66f277').text('ETA:  0:00:00');"
       ],
       "metadata": {},
       "output_type": "display_data",
       "text": [
        "<IPython.core.display.Javascript at 0x9a0a12b0>"
       ]
      },
      {
       "javascript": [
        "$('div#136b9001-5144-427c-abb6-83cd7cd86d2b').text('435 of 436');"
       ],
       "metadata": {},
       "output_type": "display_data",
       "text": [
        "<IPython.core.display.Javascript at 0x9a0d1f60>"
       ]
      },
      {
       "javascript": [
        "$('div#a6a319db-310a-4005-a804-d505df38b386').text(' 99%');"
       ],
       "metadata": {},
       "output_type": "display_data",
       "text": [
        "<IPython.core.display.Javascript at 0x35295f8>"
       ]
      },
      {
       "javascript": [
        "\n",
        "        var $myPB = $(\"div#aeb400dd-9292-4c25-8bd1-6c1f4e139221\")\n",
        "        if ($myPB.hasClass('ui-progressbar')) {\n",
        "            $myPB.progressbar('value', 435);\n",
        "        } else {\n",
        "            $myPB.progressbar({value: 0, max: 436});\n",
        "        }\n",
        "        "
       ],
       "metadata": {},
       "output_type": "display_data",
       "text": [
        "<IPython.core.display.Javascript at 0x9a0a12e8>"
       ]
      },
      {
       "javascript": [
        "$('div#9dbee237-2553-45ce-9970-82a24f66f277').text('ETA:  0:00:00');"
       ],
       "metadata": {},
       "output_type": "display_data",
       "text": [
        "<IPython.core.display.Javascript at 0x9a0a12b0>"
       ]
      },
      {
       "javascript": [
        "$('div#136b9001-5144-427c-abb6-83cd7cd86d2b').text('436 of 436');"
       ],
       "metadata": {},
       "output_type": "display_data",
       "text": [
        "<IPython.core.display.Javascript at 0x9a0a19b0>"
       ]
      },
      {
       "javascript": [
        "$('div#a6a319db-310a-4005-a804-d505df38b386').text('100%');"
       ],
       "metadata": {},
       "output_type": "display_data",
       "text": [
        "<IPython.core.display.Javascript at 0x9a0a19b0>"
       ]
      },
      {
       "javascript": [
        "\n",
        "        var $myPB = $(\"div#aeb400dd-9292-4c25-8bd1-6c1f4e139221\")\n",
        "        if ($myPB.hasClass('ui-progressbar')) {\n",
        "            $myPB.progressbar('value', 436);\n",
        "        } else {\n",
        "            $myPB.progressbar({value: 0, max: 436});\n",
        "        }\n",
        "        "
       ],
       "metadata": {},
       "output_type": "display_data",
       "text": [
        "<IPython.core.display.Javascript at 0x35295f8>"
       ]
      },
      {
       "javascript": [
        "$('div#9dbee237-2553-45ce-9970-82a24f66f277').text('Time: 0:00:00');"
       ],
       "metadata": {},
       "output_type": "display_data",
       "text": [
        "<IPython.core.display.Javascript at 0x9a0a12e8>"
       ]
      },
      {
       "javascript": [
        "var element = document.getElementById('19544161-60f0-4f5f-8d86-3a221c17314b');\n",
        "                    var parent = element.parentNode\n",
        "                    parent.removeChild(element);\n",
        "                    parent.parentElement.remove();"
       ],
       "metadata": {},
       "output_type": "display_data",
       "text": [
        "<IPython.core.display.Javascript at 0x99da7eb8>"
       ]
      },
      {
       "javascript": [
        "this.cleanProgressBar(['19544161-60f0-4f5f-8d86-3a221c17314b', '136b9001-5144-427c-abb6-83cd7cd86d2b', 'a6a319db-310a-4005-a804-d505df38b386', 'aeb400dd-9292-4c25-8bd1-6c1f4e139221', '9dbee237-2553-45ce-9970-82a24f66f277'])"
       ],
       "metadata": {},
       "output_type": "display_data",
       "text": [
        "<IPython.core.display.Javascript at 0x99da7eb8>"
       ]
      },
      {
       "javascript": [
        "//98343a39-6bf5-47c1-9d79-d76ec95d44ae\n",
        "$(\"head\").append(\"<style> td.pb_widget {     width: auto; } td.pb_widget_fill {     width: 100%; } table.pb {     font-family: monospace;     border: 0;     margin: 0; } table.pb tr { border: 0; } table.pb td {     white-space: nowrap;     border: 0; } div.pb {     border: 1px solid #ddd;     border-radius: 3px; } div.pb_bar {     height: 1.5em; } </style>\")"
       ],
       "metadata": {},
       "output_type": "display_data",
       "text": [
        "<IPython.core.display.Javascript at 0x9a0a12e8>"
       ]
      },
      {
       "javascript": [
        "\n",
        "                  // 98343a39-6bf5-47c1-9d79-d76ec95d44ae -- used to remove this code blob in the end\n",
        "                  IPython.OutputArea.prototype.cleanProgressBar = function(uuids) {\n",
        "                      // filter by uuid-strings \n",
        "                      var myfilter = function(output) { \n",
        "                          var nuids = uuids.length;\n",
        "                          for (var i=0; i<nuids; i++) {\n",
        "                              if (output.hasOwnProperty('html')) {\n",
        "                                  if (output.html.indexOf(uuids[i]) != -1) {\n",
        "                                      return false;\n",
        "                                  }\n",
        "                              }\n",
        "                              if (output.hasOwnProperty('javascript')) {\n",
        "                                  if (output.javascript.indexOf(uuids[i]) != -1) {\n",
        "                                      return false;\n",
        "                                  }\n",
        "                              }\n",
        "                          }\n",
        "                          // keep all others\n",
        "                          return true;\n",
        "                      };\n",
        "\n",
        "                      // Filter the ouputs\n",
        "                      this.outputs = this.outputs.filter(myfilter);\n",
        "                };\n",
        "                "
       ],
       "metadata": {},
       "output_type": "display_data",
       "text": [
        "<IPython.core.display.Javascript at 0x9a0a1828>"
       ]
      },
      {
       "html": [
        "<div class=\"pb\" id=\"98343a39-6bf5-47c1-9d79-d76ec95d44ae\"><table class=\"pb ui-widget\"><tr>\n",
        "<td class=\"pb_widget\">Tokenizing sentences</td>\n",
        "<td class=\"pb_widget\"><div id=\"2aa428d3-cd4b-4451-acc3-39f73ccbb547\">0 of 1</div></td>\n",
        "<td class=\"pb_widget\"><div id=\"0d53727a-6b16-4725-b78a-c663cc122317\">  0%</div></td>\n",
        "<td class=\"pb_widget_fill\">\n",
        "        <div class=\"pb_bar\" id=\"609c55cb-d4a9-4947-826d-90cbc05f55fc\"></div>\n",
        "        <script type=\"text/javascript\">\n",
        "            $(\"div#609c55cb-d4a9-4947-826d-90cbc05f55fc\").progressbar({value: 0, max: 1});\n",
        "        </script>\n",
        "        </td>\n",
        "<td class=\"pb_widget\"><div id=\"d999d454-558d-43dc-af4b-ba839ea5aa11\">ETA:  --:--:--</div></td>\n",
        "</tr></table><div>"
       ],
       "metadata": {},
       "output_type": "display_data",
       "text": [
        "<IPython.core.display.HTML at 0x9a0a12b0>"
       ]
      },
      {
       "javascript": [
        "$('div#2aa428d3-cd4b-4451-acc3-39f73ccbb547').text('1 of 1');"
       ],
       "metadata": {},
       "output_type": "display_data",
       "text": [
        "<IPython.core.display.Javascript at 0x9a0a1828>"
       ]
      },
      {
       "javascript": [
        "$('div#0d53727a-6b16-4725-b78a-c663cc122317').text('100%');"
       ],
       "metadata": {},
       "output_type": "display_data",
       "text": [
        "<IPython.core.display.Javascript at 0x9a0a12e8>"
       ]
      },
      {
       "javascript": [
        "\n",
        "        var $myPB = $(\"div#609c55cb-d4a9-4947-826d-90cbc05f55fc\")\n",
        "        if ($myPB.hasClass('ui-progressbar')) {\n",
        "            $myPB.progressbar('value', 1);\n",
        "        } else {\n",
        "            $myPB.progressbar({value: 0, max: 1});\n",
        "        }\n",
        "        "
       ],
       "metadata": {},
       "output_type": "display_data",
       "text": [
        "<IPython.core.display.Javascript at 0x99da7eb8>"
       ]
      },
      {
       "javascript": [
        "$('div#d999d454-558d-43dc-af4b-ba839ea5aa11').text('ETA:  0:00:00');"
       ],
       "metadata": {},
       "output_type": "display_data",
       "text": [
        "<IPython.core.display.Javascript at 0x9a0d1f60>"
       ]
      },
      {
       "javascript": [
        "$('div#2aa428d3-cd4b-4451-acc3-39f73ccbb547').text('1 of 1');"
       ],
       "metadata": {},
       "output_type": "display_data",
       "text": [
        "<IPython.core.display.Javascript at 0x9a0a12b0>"
       ]
      },
      {
       "javascript": [
        "$('div#0d53727a-6b16-4725-b78a-c663cc122317').text('100%');"
       ],
       "metadata": {},
       "output_type": "display_data",
       "text": [
        "<IPython.core.display.Javascript at 0x9a0a19b0>"
       ]
      },
      {
       "javascript": [
        "\n",
        "        var $myPB = $(\"div#609c55cb-d4a9-4947-826d-90cbc05f55fc\")\n",
        "        if ($myPB.hasClass('ui-progressbar')) {\n",
        "            $myPB.progressbar('value', 1);\n",
        "        } else {\n",
        "            $myPB.progressbar({value: 0, max: 1});\n",
        "        }\n",
        "        "
       ],
       "metadata": {},
       "output_type": "display_data",
       "text": [
        "<IPython.core.display.Javascript at 0x9a0a1828>"
       ]
      },
      {
       "javascript": [
        "$('div#d999d454-558d-43dc-af4b-ba839ea5aa11').text('Time: 0:00:00');"
       ],
       "metadata": {},
       "output_type": "display_data",
       "text": [
        "<IPython.core.display.Javascript at 0x9a0a12e8>"
       ]
      },
      {
       "javascript": [
        "var element = document.getElementById('98343a39-6bf5-47c1-9d79-d76ec95d44ae');\n",
        "                    var parent = element.parentNode\n",
        "                    parent.removeChild(element);\n",
        "                    parent.parentElement.remove();"
       ],
       "metadata": {},
       "output_type": "display_data",
       "text": [
        "<IPython.core.display.Javascript at 0x99da7eb8>"
       ]
      },
      {
       "javascript": [
        "this.cleanProgressBar(['98343a39-6bf5-47c1-9d79-d76ec95d44ae', '2aa428d3-cd4b-4451-acc3-39f73ccbb547', '0d53727a-6b16-4725-b78a-c663cc122317', '609c55cb-d4a9-4947-826d-90cbc05f55fc', 'd999d454-558d-43dc-af4b-ba839ea5aa11'])"
       ],
       "metadata": {},
       "output_type": "display_data",
       "text": [
        "<IPython.core.display.Javascript at 0x9a0a12e8>"
       ]
      },
      {
       "javascript": [
        "//033431c1-1c17-4c76-9f00-2535a593da23\n",
        "$(\"head\").append(\"<style> td.pb_widget {     width: auto; } td.pb_widget_fill {     width: 100%; } table.pb {     font-family: monospace;     border: 0;     margin: 0; } table.pb tr { border: 0; } table.pb td {     white-space: nowrap;     border: 0; } div.pb {     border: 1px solid #ddd;     border-radius: 3px; } div.pb_bar {     height: 1.5em; } </style>\")"
       ],
       "metadata": {},
       "output_type": "display_data",
       "text": [
        "<IPython.core.display.Javascript at 0x9a0a12b0>"
       ]
      },
      {
       "javascript": [
        "\n",
        "                  // 033431c1-1c17-4c76-9f00-2535a593da23 -- used to remove this code blob in the end\n",
        "                  IPython.OutputArea.prototype.cleanProgressBar = function(uuids) {\n",
        "                      // filter by uuid-strings \n",
        "                      var myfilter = function(output) { \n",
        "                          var nuids = uuids.length;\n",
        "                          for (var i=0; i<nuids; i++) {\n",
        "                              if (output.hasOwnProperty('html')) {\n",
        "                                  if (output.html.indexOf(uuids[i]) != -1) {\n",
        "                                      return false;\n",
        "                                  }\n",
        "                              }\n",
        "                              if (output.hasOwnProperty('javascript')) {\n",
        "                                  if (output.javascript.indexOf(uuids[i]) != -1) {\n",
        "                                      return false;\n",
        "                                  }\n",
        "                              }\n",
        "                          }\n",
        "                          // keep all others\n",
        "                          return true;\n",
        "                      };\n",
        "\n",
        "                      // Filter the ouputs\n",
        "                      this.outputs = this.outputs.filter(myfilter);\n",
        "                };\n",
        "                "
       ],
       "metadata": {},
       "output_type": "display_data",
       "text": [
        "<IPython.core.display.Javascript at 0x9a0a19b0>"
       ]
      },
      {
       "html": [
        "<div class=\"pb\" id=\"033431c1-1c17-4c76-9f00-2535a593da23\"><table class=\"pb ui-widget\"><tr>\n",
        "<td class=\"pb_widget\">Tokenizing sentences</td>\n",
        "<td class=\"pb_widget\"><div id=\"19891707-5af2-4a42-9387-eda9cb170814\">0 of 1</div></td>\n",
        "<td class=\"pb_widget\"><div id=\"e28a14ce-0b28-4b6b-ac6f-7c3795f262f3\">  0%</div></td>\n",
        "<td class=\"pb_widget_fill\">\n",
        "        <div class=\"pb_bar\" id=\"dc46f02c-57d5-4bec-9646-e72d7c197aaa\"></div>\n",
        "        <script type=\"text/javascript\">\n",
        "            $(\"div#dc46f02c-57d5-4bec-9646-e72d7c197aaa\").progressbar({value: 0, max: 1});\n",
        "        </script>\n",
        "        </td>\n",
        "<td class=\"pb_widget\"><div id=\"e38426b0-ca57-443a-abcb-15ce13520c19\">ETA:  --:--:--</div></td>\n",
        "</tr></table><div>"
       ],
       "metadata": {},
       "output_type": "display_data",
       "text": [
        "<IPython.core.display.HTML at 0x99da7eb8>"
       ]
      },
      {
       "javascript": [
        "$('div#19891707-5af2-4a42-9387-eda9cb170814').text('1 of 1');"
       ],
       "metadata": {},
       "output_type": "display_data",
       "text": [
        "<IPython.core.display.Javascript at 0x9a0a12b0>"
       ]
      },
      {
       "javascript": [
        "$('div#e28a14ce-0b28-4b6b-ac6f-7c3795f262f3').text('100%');"
       ],
       "metadata": {},
       "output_type": "display_data",
       "text": [
        "<IPython.core.display.Javascript at 0x9a0d1a90>"
       ]
      },
      {
       "javascript": [
        "\n",
        "        var $myPB = $(\"div#dc46f02c-57d5-4bec-9646-e72d7c197aaa\")\n",
        "        if ($myPB.hasClass('ui-progressbar')) {\n",
        "            $myPB.progressbar('value', 1);\n",
        "        } else {\n",
        "            $myPB.progressbar({value: 0, max: 1});\n",
        "        }\n",
        "        "
       ],
       "metadata": {},
       "output_type": "display_data",
       "text": [
        "<IPython.core.display.Javascript at 0x9a0d1f60>"
       ]
      },
      {
       "javascript": [
        "$('div#e38426b0-ca57-443a-abcb-15ce13520c19').text('ETA:  0:00:00');"
       ],
       "metadata": {},
       "output_type": "display_data",
       "text": [
        "<IPython.core.display.Javascript at 0x9a0a12b0>"
       ]
      },
      {
       "javascript": [
        "$('div#19891707-5af2-4a42-9387-eda9cb170814').text('1 of 1');"
       ],
       "metadata": {},
       "output_type": "display_data",
       "text": [
        "<IPython.core.display.Javascript at 0x9a0a12e8>"
       ]
      },
      {
       "javascript": [
        "$('div#e28a14ce-0b28-4b6b-ac6f-7c3795f262f3').text('100%');"
       ],
       "metadata": {},
       "output_type": "display_data",
       "text": [
        "<IPython.core.display.Javascript at 0x99da7eb8>"
       ]
      },
      {
       "javascript": [
        "\n",
        "        var $myPB = $(\"div#dc46f02c-57d5-4bec-9646-e72d7c197aaa\")\n",
        "        if ($myPB.hasClass('ui-progressbar')) {\n",
        "            $myPB.progressbar('value', 1);\n",
        "        } else {\n",
        "            $myPB.progressbar({value: 0, max: 1});\n",
        "        }\n",
        "        "
       ],
       "metadata": {},
       "output_type": "display_data",
       "text": [
        "<IPython.core.display.Javascript at 0x9a0d1a90>"
       ]
      },
      {
       "javascript": [
        "$('div#e38426b0-ca57-443a-abcb-15ce13520c19').text('Time: 0:00:00');"
       ],
       "metadata": {},
       "output_type": "display_data",
       "text": [
        "<IPython.core.display.Javascript at 0x99da7eb8>"
       ]
      },
      {
       "javascript": [
        "var element = document.getElementById('033431c1-1c17-4c76-9f00-2535a593da23');\n",
        "                    var parent = element.parentNode\n",
        "                    parent.removeChild(element);\n",
        "                    parent.parentElement.remove();"
       ],
       "metadata": {},
       "output_type": "display_data",
       "text": [
        "<IPython.core.display.Javascript at 0x9a0a19b0>"
       ]
      },
      {
       "javascript": [
        "this.cleanProgressBar(['033431c1-1c17-4c76-9f00-2535a593da23', '19891707-5af2-4a42-9387-eda9cb170814', 'e28a14ce-0b28-4b6b-ac6f-7c3795f262f3', 'dc46f02c-57d5-4bec-9646-e72d7c197aaa', 'e38426b0-ca57-443a-abcb-15ce13520c19'])"
       ],
       "metadata": {},
       "output_type": "display_data",
       "text": [
        "<IPython.core.display.Javascript at 0x9a0a12e8>"
       ]
      },
      {
       "javascript": [
        "//d6863c03-be8b-40d3-b231-afca6264f030\n",
        "$(\"head\").append(\"<style> td.pb_widget {     width: auto; } td.pb_widget_fill {     width: 100%; } table.pb {     font-family: monospace;     border: 0;     margin: 0; } table.pb tr { border: 0; } table.pb td {     white-space: nowrap;     border: 0; } div.pb {     border: 1px solid #ddd;     border-radius: 3px; } div.pb_bar {     height: 1.5em; } </style>\")"
       ],
       "metadata": {},
       "output_type": "display_data",
       "text": [
        "<IPython.core.display.Javascript at 0x35295f8>"
       ]
      },
      {
       "javascript": [
        "\n",
        "                  // d6863c03-be8b-40d3-b231-afca6264f030 -- used to remove this code blob in the end\n",
        "                  IPython.OutputArea.prototype.cleanProgressBar = function(uuids) {\n",
        "                      // filter by uuid-strings \n",
        "                      var myfilter = function(output) { \n",
        "                          var nuids = uuids.length;\n",
        "                          for (var i=0; i<nuids; i++) {\n",
        "                              if (output.hasOwnProperty('html')) {\n",
        "                                  if (output.html.indexOf(uuids[i]) != -1) {\n",
        "                                      return false;\n",
        "                                  }\n",
        "                              }\n",
        "                              if (output.hasOwnProperty('javascript')) {\n",
        "                                  if (output.javascript.indexOf(uuids[i]) != -1) {\n",
        "                                      return false;\n",
        "                                  }\n",
        "                              }\n",
        "                          }\n",
        "                          // keep all others\n",
        "                          return true;\n",
        "                      };\n",
        "\n",
        "                      // Filter the ouputs\n",
        "                      this.outputs = this.outputs.filter(myfilter);\n",
        "                };\n",
        "                "
       ],
       "metadata": {},
       "output_type": "display_data",
       "text": [
        "<IPython.core.display.Javascript at 0x35295f8>"
       ]
      },
      {
       "html": [
        "<div class=\"pb\" id=\"d6863c03-be8b-40d3-b231-afca6264f030\"><table class=\"pb ui-widget\"><tr>\n",
        "<td class=\"pb_widget\">Tokenizing sentences</td>\n",
        "<td class=\"pb_widget\"><div id=\"d8a74e46-0d29-4bdf-a5d9-e4589439560c\">0 of 1498</div></td>\n",
        "<td class=\"pb_widget\"><div id=\"364f6b22-8ae2-46db-bbf1-898a95a7a347\">  0%</div></td>\n",
        "<td class=\"pb_widget_fill\">\n",
        "        <div class=\"pb_bar\" id=\"0736e303-32d4-474d-be4b-312b314a13c9\"></div>\n",
        "        <script type=\"text/javascript\">\n",
        "            $(\"div#0736e303-32d4-474d-be4b-312b314a13c9\").progressbar({value: 0, max: 1498});\n",
        "        </script>\n",
        "        </td>\n",
        "<td class=\"pb_widget\"><div id=\"e62acc24-bc35-4bc8-b5f9-0f93256ec7f5\">ETA:  --:--:--</div></td>\n",
        "</tr></table><div>"
       ],
       "metadata": {},
       "output_type": "display_data",
       "text": [
        "<IPython.core.display.HTML at 0x99da7eb8>"
       ]
      },
      {
       "javascript": [
        "$('div#d8a74e46-0d29-4bdf-a5d9-e4589439560c').text('15 of 1498');"
       ],
       "metadata": {},
       "output_type": "display_data",
       "text": [
        "<IPython.core.display.Javascript at 0x9a0d1470>"
       ]
      },
      {
       "javascript": [
        "$('div#364f6b22-8ae2-46db-bbf1-898a95a7a347').text('  1%');"
       ],
       "metadata": {},
       "output_type": "display_data",
       "text": [
        "<IPython.core.display.Javascript at 0x9a0d1e10>"
       ]
      },
      {
       "javascript": [
        "\n",
        "        var $myPB = $(\"div#0736e303-32d4-474d-be4b-312b314a13c9\")\n",
        "        if ($myPB.hasClass('ui-progressbar')) {\n",
        "            $myPB.progressbar('value', 15);\n",
        "        } else {\n",
        "            $myPB.progressbar({value: 0, max: 1498});\n",
        "        }\n",
        "        "
       ],
       "metadata": {},
       "output_type": "display_data",
       "text": [
        "<IPython.core.display.Javascript at 0x99da7eb8>"
       ]
      },
      {
       "javascript": [
        "$('div#e62acc24-bc35-4bc8-b5f9-0f93256ec7f5').text('ETA:  0:00:00');"
       ],
       "metadata": {},
       "output_type": "display_data",
       "text": [
        "<IPython.core.display.Javascript at 0x35295f8>"
       ]
      },
      {
       "javascript": [
        "$('div#d8a74e46-0d29-4bdf-a5d9-e4589439560c').text('30 of 1498');"
       ],
       "metadata": {},
       "output_type": "display_data",
       "text": [
        "<IPython.core.display.Javascript at 0x9a0d1f60>"
       ]
      },
      {
       "javascript": [
        "$('div#364f6b22-8ae2-46db-bbf1-898a95a7a347').text('  2%');"
       ],
       "metadata": {},
       "output_type": "display_data",
       "text": [
        "<IPython.core.display.Javascript at 0x9a0d1940>"
       ]
      },
      {
       "javascript": [
        "\n",
        "        var $myPB = $(\"div#0736e303-32d4-474d-be4b-312b314a13c9\")\n",
        "        if ($myPB.hasClass('ui-progressbar')) {\n",
        "            $myPB.progressbar('value', 30);\n",
        "        } else {\n",
        "            $myPB.progressbar({value: 0, max: 1498});\n",
        "        }\n",
        "        "
       ],
       "metadata": {},
       "output_type": "display_data",
       "text": [
        "<IPython.core.display.Javascript at 0x9a0d16d8>"
       ]
      },
      {
       "javascript": [
        "$('div#e62acc24-bc35-4bc8-b5f9-0f93256ec7f5').text('ETA:  0:00:00');"
       ],
       "metadata": {},
       "output_type": "display_data",
       "text": [
        "<IPython.core.display.Javascript at 0x99da7eb8>"
       ]
      },
      {
       "javascript": [
        "$('div#d8a74e46-0d29-4bdf-a5d9-e4589439560c').text('45 of 1498');"
       ],
       "metadata": {},
       "output_type": "display_data",
       "text": [
        "<IPython.core.display.Javascript at 0x9a0d1128>"
       ]
      },
      {
       "javascript": [
        "$('div#364f6b22-8ae2-46db-bbf1-898a95a7a347').text('  3%');"
       ],
       "metadata": {},
       "output_type": "display_data",
       "text": [
        "<IPython.core.display.Javascript at 0x9a0d1048>"
       ]
      },
      {
       "javascript": [
        "\n",
        "        var $myPB = $(\"div#0736e303-32d4-474d-be4b-312b314a13c9\")\n",
        "        if ($myPB.hasClass('ui-progressbar')) {\n",
        "            $myPB.progressbar('value', 45);\n",
        "        } else {\n",
        "            $myPB.progressbar({value: 0, max: 1498});\n",
        "        }\n",
        "        "
       ],
       "metadata": {},
       "output_type": "display_data",
       "text": [
        "<IPython.core.display.Javascript at 0x9a0d17b8>"
       ]
      },
      {
       "javascript": [
        "$('div#e62acc24-bc35-4bc8-b5f9-0f93256ec7f5').text('ETA:  0:00:00');"
       ],
       "metadata": {},
       "output_type": "display_data",
       "text": [
        "<IPython.core.display.Javascript at 0x99da7eb8>"
       ]
      },
      {
       "javascript": [
        "$('div#d8a74e46-0d29-4bdf-a5d9-e4589439560c').text('60 of 1498');"
       ],
       "metadata": {},
       "output_type": "display_data",
       "text": [
        "<IPython.core.display.Javascript at 0x9a0d19b0>"
       ]
      },
      {
       "javascript": [
        "$('div#364f6b22-8ae2-46db-bbf1-898a95a7a347').text('  4%');"
       ],
       "metadata": {},
       "output_type": "display_data",
       "text": [
        "<IPython.core.display.Javascript at 0x9a0d1b38>"
       ]
      },
      {
       "javascript": [
        "\n",
        "        var $myPB = $(\"div#0736e303-32d4-474d-be4b-312b314a13c9\")\n",
        "        if ($myPB.hasClass('ui-progressbar')) {\n",
        "            $myPB.progressbar('value', 60);\n",
        "        } else {\n",
        "            $myPB.progressbar({value: 0, max: 1498});\n",
        "        }\n",
        "        "
       ],
       "metadata": {},
       "output_type": "display_data",
       "text": [
        "<IPython.core.display.Javascript at 0x9a0d1128>"
       ]
      },
      {
       "javascript": [
        "$('div#e62acc24-bc35-4bc8-b5f9-0f93256ec7f5').text('ETA:  0:00:00');"
       ],
       "metadata": {},
       "output_type": "display_data",
       "text": [
        "<IPython.core.display.Javascript at 0x99da7eb8>"
       ]
      },
      {
       "javascript": [
        "$('div#d8a74e46-0d29-4bdf-a5d9-e4589439560c').text('75 of 1498');"
       ],
       "metadata": {},
       "output_type": "display_data",
       "text": [
        "<IPython.core.display.Javascript at 0x9a0d1ef0>"
       ]
      },
      {
       "javascript": [
        "$('div#364f6b22-8ae2-46db-bbf1-898a95a7a347').text('  5%');"
       ],
       "metadata": {},
       "output_type": "display_data",
       "text": [
        "<IPython.core.display.Javascript at 0x9a0d1048>"
       ]
      },
      {
       "javascript": [
        "\n",
        "        var $myPB = $(\"div#0736e303-32d4-474d-be4b-312b314a13c9\")\n",
        "        if ($myPB.hasClass('ui-progressbar')) {\n",
        "            $myPB.progressbar('value', 75);\n",
        "        } else {\n",
        "            $myPB.progressbar({value: 0, max: 1498});\n",
        "        }\n",
        "        "
       ],
       "metadata": {},
       "output_type": "display_data",
       "text": [
        "<IPython.core.display.Javascript at 0x9a0d16d8>"
       ]
      },
      {
       "javascript": [
        "$('div#e62acc24-bc35-4bc8-b5f9-0f93256ec7f5').text('ETA:  0:00:00');"
       ],
       "metadata": {},
       "output_type": "display_data",
       "text": [
        "<IPython.core.display.Javascript at 0x99da7eb8>"
       ]
      },
      {
       "javascript": [
        "$('div#d8a74e46-0d29-4bdf-a5d9-e4589439560c').text('90 of 1498');"
       ],
       "metadata": {},
       "output_type": "display_data",
       "text": [
        "<IPython.core.display.Javascript at 0x9a0d1ac8>"
       ]
      },
      {
       "javascript": [
        "$('div#364f6b22-8ae2-46db-bbf1-898a95a7a347').text('  6%');"
       ],
       "metadata": {},
       "output_type": "display_data",
       "text": [
        "<IPython.core.display.Javascript at 0x9a0d1b38>"
       ]
      },
      {
       "javascript": [
        "\n",
        "        var $myPB = $(\"div#0736e303-32d4-474d-be4b-312b314a13c9\")\n",
        "        if ($myPB.hasClass('ui-progressbar')) {\n",
        "            $myPB.progressbar('value', 90);\n",
        "        } else {\n",
        "            $myPB.progressbar({value: 0, max: 1498});\n",
        "        }\n",
        "        "
       ],
       "metadata": {},
       "output_type": "display_data",
       "text": [
        "<IPython.core.display.Javascript at 0x9a0d1240>"
       ]
      },
      {
       "javascript": [
        "$('div#e62acc24-bc35-4bc8-b5f9-0f93256ec7f5').text('ETA:  0:00:00');"
       ],
       "metadata": {},
       "output_type": "display_data",
       "text": [
        "<IPython.core.display.Javascript at 0x99da7eb8>"
       ]
      },
      {
       "javascript": [
        "$('div#d8a74e46-0d29-4bdf-a5d9-e4589439560c').text('105 of 1498');"
       ],
       "metadata": {},
       "output_type": "display_data",
       "text": [
        "<IPython.core.display.Javascript at 0x9a0d1240>"
       ]
      },
      {
       "javascript": [
        "$('div#364f6b22-8ae2-46db-bbf1-898a95a7a347').text('  7%');"
       ],
       "metadata": {},
       "output_type": "display_data",
       "text": [
        "<IPython.core.display.Javascript at 0x9a0d19b0>"
       ]
      },
      {
       "javascript": [
        "\n",
        "        var $myPB = $(\"div#0736e303-32d4-474d-be4b-312b314a13c9\")\n",
        "        if ($myPB.hasClass('ui-progressbar')) {\n",
        "            $myPB.progressbar('value', 105);\n",
        "        } else {\n",
        "            $myPB.progressbar({value: 0, max: 1498});\n",
        "        }\n",
        "        "
       ],
       "metadata": {},
       "output_type": "display_data",
       "text": [
        "<IPython.core.display.Javascript at 0x9a0d16a0>"
       ]
      },
      {
       "javascript": [
        "$('div#e62acc24-bc35-4bc8-b5f9-0f93256ec7f5').text('ETA:  0:00:00');"
       ],
       "metadata": {},
       "output_type": "display_data",
       "text": [
        "<IPython.core.display.Javascript at 0x99da7eb8>"
       ]
      },
      {
       "javascript": [
        "$('div#d8a74e46-0d29-4bdf-a5d9-e4589439560c').text('120 of 1498');"
       ],
       "metadata": {},
       "output_type": "display_data",
       "text": [
        "<IPython.core.display.Javascript at 0x9a0d1ef0>"
       ]
      },
      {
       "javascript": [
        "$('div#364f6b22-8ae2-46db-bbf1-898a95a7a347').text('  8%');"
       ],
       "metadata": {},
       "output_type": "display_data",
       "text": [
        "<IPython.core.display.Javascript at 0x9a0d15f8>"
       ]
      },
      {
       "javascript": [
        "\n",
        "        var $myPB = $(\"div#0736e303-32d4-474d-be4b-312b314a13c9\")\n",
        "        if ($myPB.hasClass('ui-progressbar')) {\n",
        "            $myPB.progressbar('value', 120);\n",
        "        } else {\n",
        "            $myPB.progressbar({value: 0, max: 1498});\n",
        "        }\n",
        "        "
       ],
       "metadata": {},
       "output_type": "display_data",
       "text": [
        "<IPython.core.display.Javascript at 0x9a0d1ac8>"
       ]
      },
      {
       "javascript": [
        "$('div#e62acc24-bc35-4bc8-b5f9-0f93256ec7f5').text('ETA:  0:00:00');"
       ],
       "metadata": {},
       "output_type": "display_data",
       "text": [
        "<IPython.core.display.Javascript at 0x99da7eb8>"
       ]
      },
      {
       "javascript": [
        "$('div#d8a74e46-0d29-4bdf-a5d9-e4589439560c').text('135 of 1498');"
       ],
       "metadata": {},
       "output_type": "display_data",
       "text": [
        "<IPython.core.display.Javascript at 0x9a0d15f8>"
       ]
      },
      {
       "javascript": [
        "$('div#364f6b22-8ae2-46db-bbf1-898a95a7a347').text('  9%');"
       ],
       "metadata": {},
       "output_type": "display_data",
       "text": [
        "<IPython.core.display.Javascript at 0x9a0d1ef0>"
       ]
      },
      {
       "javascript": [
        "\n",
        "        var $myPB = $(\"div#0736e303-32d4-474d-be4b-312b314a13c9\")\n",
        "        if ($myPB.hasClass('ui-progressbar')) {\n",
        "            $myPB.progressbar('value', 135);\n",
        "        } else {\n",
        "            $myPB.progressbar({value: 0, max: 1498});\n",
        "        }\n",
        "        "
       ],
       "metadata": {},
       "output_type": "display_data",
       "text": [
        "<IPython.core.display.Javascript at 0x9a0d12e8>"
       ]
      },
      {
       "javascript": [
        "$('div#e62acc24-bc35-4bc8-b5f9-0f93256ec7f5').text('ETA:  0:00:00');"
       ],
       "metadata": {},
       "output_type": "display_data",
       "text": [
        "<IPython.core.display.Javascript at 0x99da7eb8>"
       ]
      },
      {
       "javascript": [
        "$('div#d8a74e46-0d29-4bdf-a5d9-e4589439560c').text('150 of 1498');"
       ],
       "metadata": {},
       "output_type": "display_data",
       "text": [
        "<IPython.core.display.Javascript at 0x9a0d1a58>"
       ]
      },
      {
       "javascript": [
        "$('div#364f6b22-8ae2-46db-bbf1-898a95a7a347').text(' 10%');"
       ],
       "metadata": {},
       "output_type": "display_data",
       "text": [
        "<IPython.core.display.Javascript at 0x9a0d1978>"
       ]
      },
      {
       "javascript": [
        "\n",
        "        var $myPB = $(\"div#0736e303-32d4-474d-be4b-312b314a13c9\")\n",
        "        if ($myPB.hasClass('ui-progressbar')) {\n",
        "            $myPB.progressbar('value', 150);\n",
        "        } else {\n",
        "            $myPB.progressbar({value: 0, max: 1498});\n",
        "        }\n",
        "        "
       ],
       "metadata": {},
       "output_type": "display_data",
       "text": [
        "<IPython.core.display.Javascript at 0x9a0d1588>"
       ]
      },
      {
       "javascript": [
        "$('div#e62acc24-bc35-4bc8-b5f9-0f93256ec7f5').text('ETA:  0:00:00');"
       ],
       "metadata": {},
       "output_type": "display_data",
       "text": [
        "<IPython.core.display.Javascript at 0x99da7eb8>"
       ]
      },
      {
       "javascript": [
        "$('div#d8a74e46-0d29-4bdf-a5d9-e4589439560c').text('165 of 1498');"
       ],
       "metadata": {},
       "output_type": "display_data",
       "text": [
        "<IPython.core.display.Javascript at 0x9a0d1b70>"
       ]
      },
      {
       "javascript": [
        "$('div#364f6b22-8ae2-46db-bbf1-898a95a7a347').text(' 11%');"
       ],
       "metadata": {},
       "output_type": "display_data",
       "text": [
        "<IPython.core.display.Javascript at 0x9a0d1860>"
       ]
      },
      {
       "javascript": [
        "\n",
        "        var $myPB = $(\"div#0736e303-32d4-474d-be4b-312b314a13c9\")\n",
        "        if ($myPB.hasClass('ui-progressbar')) {\n",
        "            $myPB.progressbar('value', 165);\n",
        "        } else {\n",
        "            $myPB.progressbar({value: 0, max: 1498});\n",
        "        }\n",
        "        "
       ],
       "metadata": {},
       "output_type": "display_data",
       "text": [
        "<IPython.core.display.Javascript at 0x9a0d1780>"
       ]
      },
      {
       "javascript": [
        "$('div#e62acc24-bc35-4bc8-b5f9-0f93256ec7f5').text('ETA:  0:00:00');"
       ],
       "metadata": {},
       "output_type": "display_data",
       "text": [
        "<IPython.core.display.Javascript at 0x99da7eb8>"
       ]
      },
      {
       "javascript": [
        "$('div#d8a74e46-0d29-4bdf-a5d9-e4589439560c').text('180 of 1498');"
       ],
       "metadata": {},
       "output_type": "display_data",
       "text": [
        "<IPython.core.display.Javascript at 0x9a0d1cf8>"
       ]
      },
      {
       "javascript": [
        "$('div#364f6b22-8ae2-46db-bbf1-898a95a7a347').text(' 12%');"
       ],
       "metadata": {},
       "output_type": "display_data",
       "text": [
        "<IPython.core.display.Javascript at 0x99d523c8>"
       ]
      },
      {
       "javascript": [
        "\n",
        "        var $myPB = $(\"div#0736e303-32d4-474d-be4b-312b314a13c9\")\n",
        "        if ($myPB.hasClass('ui-progressbar')) {\n",
        "            $myPB.progressbar('value', 180);\n",
        "        } else {\n",
        "            $myPB.progressbar({value: 0, max: 1498});\n",
        "        }\n",
        "        "
       ],
       "metadata": {},
       "output_type": "display_data",
       "text": [
        "<IPython.core.display.Javascript at 0x99d52dd8>"
       ]
      },
      {
       "javascript": [
        "$('div#e62acc24-bc35-4bc8-b5f9-0f93256ec7f5').text('ETA:  0:00:00');"
       ],
       "metadata": {},
       "output_type": "display_data",
       "text": [
        "<IPython.core.display.Javascript at 0x99da7eb8>"
       ]
      },
      {
       "javascript": [
        "$('div#d8a74e46-0d29-4bdf-a5d9-e4589439560c').text('195 of 1498');"
       ],
       "metadata": {},
       "output_type": "display_data",
       "text": [
        "<IPython.core.display.Javascript at 0x99d52860>"
       ]
      },
      {
       "javascript": [
        "$('div#364f6b22-8ae2-46db-bbf1-898a95a7a347').text(' 13%');"
       ],
       "metadata": {},
       "output_type": "display_data",
       "text": [
        "<IPython.core.display.Javascript at 0x99d52518>"
       ]
      },
      {
       "javascript": [
        "\n",
        "        var $myPB = $(\"div#0736e303-32d4-474d-be4b-312b314a13c9\")\n",
        "        if ($myPB.hasClass('ui-progressbar')) {\n",
        "            $myPB.progressbar('value', 195);\n",
        "        } else {\n",
        "            $myPB.progressbar({value: 0, max: 1498});\n",
        "        }\n",
        "        "
       ],
       "metadata": {},
       "output_type": "display_data",
       "text": [
        "<IPython.core.display.Javascript at 0x99d52c88>"
       ]
      },
      {
       "javascript": [
        "$('div#e62acc24-bc35-4bc8-b5f9-0f93256ec7f5').text('ETA:  0:00:00');"
       ],
       "metadata": {},
       "output_type": "display_data",
       "text": [
        "<IPython.core.display.Javascript at 0x99da7eb8>"
       ]
      },
      {
       "javascript": [
        "$('div#d8a74e46-0d29-4bdf-a5d9-e4589439560c').text('210 of 1498');"
       ],
       "metadata": {},
       "output_type": "display_data",
       "text": [
        "<IPython.core.display.Javascript at 0x99d52c50>"
       ]
      },
      {
       "javascript": [
        "$('div#364f6b22-8ae2-46db-bbf1-898a95a7a347').text(' 14%');"
       ],
       "metadata": {},
       "output_type": "display_data",
       "text": [
        "<IPython.core.display.Javascript at 0x99d523c8>"
       ]
      },
      {
       "javascript": [
        "\n",
        "        var $myPB = $(\"div#0736e303-32d4-474d-be4b-312b314a13c9\")\n",
        "        if ($myPB.hasClass('ui-progressbar')) {\n",
        "            $myPB.progressbar('value', 210);\n",
        "        } else {\n",
        "            $myPB.progressbar({value: 0, max: 1498});\n",
        "        }\n",
        "        "
       ],
       "metadata": {},
       "output_type": "display_data",
       "text": [
        "<IPython.core.display.Javascript at 0x99d52518>"
       ]
      },
      {
       "javascript": [
        "$('div#e62acc24-bc35-4bc8-b5f9-0f93256ec7f5').text('ETA:  0:00:00');"
       ],
       "metadata": {},
       "output_type": "display_data",
       "text": [
        "<IPython.core.display.Javascript at 0x99da7eb8>"
       ]
      },
      {
       "javascript": [
        "$('div#d8a74e46-0d29-4bdf-a5d9-e4589439560c').text('225 of 1498');"
       ],
       "metadata": {},
       "output_type": "display_data",
       "text": [
        "<IPython.core.display.Javascript at 0x99d52f28>"
       ]
      },
      {
       "javascript": [
        "$('div#364f6b22-8ae2-46db-bbf1-898a95a7a347').text(' 15%');"
       ],
       "metadata": {},
       "output_type": "display_data",
       "text": [
        "<IPython.core.display.Javascript at 0x99d52828>"
       ]
      },
      {
       "javascript": [
        "\n",
        "        var $myPB = $(\"div#0736e303-32d4-474d-be4b-312b314a13c9\")\n",
        "        if ($myPB.hasClass('ui-progressbar')) {\n",
        "            $myPB.progressbar('value', 225);\n",
        "        } else {\n",
        "            $myPB.progressbar({value: 0, max: 1498});\n",
        "        }\n",
        "        "
       ],
       "metadata": {},
       "output_type": "display_data",
       "text": [
        "<IPython.core.display.Javascript at 0x99d52be0>"
       ]
      },
      {
       "javascript": [
        "$('div#e62acc24-bc35-4bc8-b5f9-0f93256ec7f5').text('ETA:  0:00:00');"
       ],
       "metadata": {},
       "output_type": "display_data",
       "text": [
        "<IPython.core.display.Javascript at 0x99da7eb8>"
       ]
      },
      {
       "javascript": [
        "$('div#d8a74e46-0d29-4bdf-a5d9-e4589439560c').text('240 of 1498');"
       ],
       "metadata": {},
       "output_type": "display_data",
       "text": [
        "<IPython.core.display.Javascript at 0x99d52d68>"
       ]
      },
      {
       "javascript": [
        "$('div#364f6b22-8ae2-46db-bbf1-898a95a7a347').text(' 16%');"
       ],
       "metadata": {},
       "output_type": "display_data",
       "text": [
        "<IPython.core.display.Javascript at 0x99d52860>"
       ]
      },
      {
       "javascript": [
        "\n",
        "        var $myPB = $(\"div#0736e303-32d4-474d-be4b-312b314a13c9\")\n",
        "        if ($myPB.hasClass('ui-progressbar')) {\n",
        "            $myPB.progressbar('value', 240);\n",
        "        } else {\n",
        "            $myPB.progressbar({value: 0, max: 1498});\n",
        "        }\n",
        "        "
       ],
       "metadata": {},
       "output_type": "display_data",
       "text": [
        "<IPython.core.display.Javascript at 0x99d523c8>"
       ]
      },
      {
       "javascript": [
        "$('div#e62acc24-bc35-4bc8-b5f9-0f93256ec7f5').text('ETA:  0:00:00');"
       ],
       "metadata": {},
       "output_type": "display_data",
       "text": [
        "<IPython.core.display.Javascript at 0x99da7eb8>"
       ]
      },
      {
       "javascript": [
        "$('div#d8a74e46-0d29-4bdf-a5d9-e4589439560c').text('255 of 1498');"
       ],
       "metadata": {},
       "output_type": "display_data",
       "text": [
        "<IPython.core.display.Javascript at 0x99d52748>"
       ]
      },
      {
       "javascript": [
        "$('div#364f6b22-8ae2-46db-bbf1-898a95a7a347').text(' 17%');"
       ],
       "metadata": {},
       "output_type": "display_data",
       "text": [
        "<IPython.core.display.Javascript at 0x99d52f28>"
       ]
      },
      {
       "javascript": [
        "\n",
        "        var $myPB = $(\"div#0736e303-32d4-474d-be4b-312b314a13c9\")\n",
        "        if ($myPB.hasClass('ui-progressbar')) {\n",
        "            $myPB.progressbar('value', 255);\n",
        "        } else {\n",
        "            $myPB.progressbar({value: 0, max: 1498});\n",
        "        }\n",
        "        "
       ],
       "metadata": {},
       "output_type": "display_data",
       "text": [
        "<IPython.core.display.Javascript at 0x99d52668>"
       ]
      },
      {
       "javascript": [
        "$('div#e62acc24-bc35-4bc8-b5f9-0f93256ec7f5').text('ETA:  0:00:00');"
       ],
       "metadata": {},
       "output_type": "display_data",
       "text": [
        "<IPython.core.display.Javascript at 0x99da7eb8>"
       ]
      },
      {
       "javascript": [
        "$('div#d8a74e46-0d29-4bdf-a5d9-e4589439560c').text('270 of 1498');"
       ],
       "metadata": {},
       "output_type": "display_data",
       "text": [
        "<IPython.core.display.Javascript at 0x99d52438>"
       ]
      },
      {
       "javascript": [
        "$('div#364f6b22-8ae2-46db-bbf1-898a95a7a347').text(' 18%');"
       ],
       "metadata": {},
       "output_type": "display_data",
       "text": [
        "<IPython.core.display.Javascript at 0x99d52860>"
       ]
      },
      {
       "javascript": [
        "\n",
        "        var $myPB = $(\"div#0736e303-32d4-474d-be4b-312b314a13c9\")\n",
        "        if ($myPB.hasClass('ui-progressbar')) {\n",
        "            $myPB.progressbar('value', 270);\n",
        "        } else {\n",
        "            $myPB.progressbar({value: 0, max: 1498});\n",
        "        }\n",
        "        "
       ],
       "metadata": {},
       "output_type": "display_data",
       "text": [
        "<IPython.core.display.Javascript at 0x99d52f28>"
       ]
      },
      {
       "javascript": [
        "$('div#e62acc24-bc35-4bc8-b5f9-0f93256ec7f5').text('ETA:  0:00:00');"
       ],
       "metadata": {},
       "output_type": "display_data",
       "text": [
        "<IPython.core.display.Javascript at 0x99da7eb8>"
       ]
      },
      {
       "javascript": [
        "$('div#d8a74e46-0d29-4bdf-a5d9-e4589439560c').text('285 of 1498');"
       ],
       "metadata": {},
       "output_type": "display_data",
       "text": [
        "<IPython.core.display.Javascript at 0x99d52780>"
       ]
      },
      {
       "javascript": [
        "$('div#364f6b22-8ae2-46db-bbf1-898a95a7a347').text(' 19%');"
       ],
       "metadata": {},
       "output_type": "display_data",
       "text": [
        "<IPython.core.display.Javascript at 0x99d52908>"
       ]
      },
      {
       "javascript": [
        "\n",
        "        var $myPB = $(\"div#0736e303-32d4-474d-be4b-312b314a13c9\")\n",
        "        if ($myPB.hasClass('ui-progressbar')) {\n",
        "            $myPB.progressbar('value', 285);\n",
        "        } else {\n",
        "            $myPB.progressbar({value: 0, max: 1498});\n",
        "        }\n",
        "        "
       ],
       "metadata": {},
       "output_type": "display_data",
       "text": [
        "<IPython.core.display.Javascript at 0x99d52d30>"
       ]
      },
      {
       "javascript": [
        "$('div#e62acc24-bc35-4bc8-b5f9-0f93256ec7f5').text('ETA:  0:00:00');"
       ],
       "metadata": {},
       "output_type": "display_data",
       "text": [
        "<IPython.core.display.Javascript at 0x99da7eb8>"
       ]
      },
      {
       "javascript": [
        "$('div#d8a74e46-0d29-4bdf-a5d9-e4589439560c').text('300 of 1498');"
       ],
       "metadata": {},
       "output_type": "display_data",
       "text": [
        "<IPython.core.display.Javascript at 0x99d52d30>"
       ]
      },
      {
       "javascript": [
        "$('div#364f6b22-8ae2-46db-bbf1-898a95a7a347').text(' 20%');"
       ],
       "metadata": {},
       "output_type": "display_data",
       "text": [
        "<IPython.core.display.Javascript at 0x99d529b0>"
       ]
      },
      {
       "javascript": [
        "\n",
        "        var $myPB = $(\"div#0736e303-32d4-474d-be4b-312b314a13c9\")\n",
        "        if ($myPB.hasClass('ui-progressbar')) {\n",
        "            $myPB.progressbar('value', 300);\n",
        "        } else {\n",
        "            $myPB.progressbar({value: 0, max: 1498});\n",
        "        }\n",
        "        "
       ],
       "metadata": {},
       "output_type": "display_data",
       "text": [
        "<IPython.core.display.Javascript at 0x99d52ac8>"
       ]
      },
      {
       "javascript": [
        "$('div#e62acc24-bc35-4bc8-b5f9-0f93256ec7f5').text('ETA:  0:00:00');"
       ],
       "metadata": {},
       "output_type": "display_data",
       "text": [
        "<IPython.core.display.Javascript at 0x99da7eb8>"
       ]
      },
      {
       "javascript": [
        "$('div#d8a74e46-0d29-4bdf-a5d9-e4589439560c').text('315 of 1498');"
       ],
       "metadata": {},
       "output_type": "display_data",
       "text": [
        "<IPython.core.display.Javascript at 0x99d52ac8>"
       ]
      },
      {
       "javascript": [
        "$('div#364f6b22-8ae2-46db-bbf1-898a95a7a347').text(' 21%');"
       ],
       "metadata": {},
       "output_type": "display_data",
       "text": [
        "<IPython.core.display.Javascript at 0x99d52748>"
       ]
      },
      {
       "javascript": [
        "\n",
        "        var $myPB = $(\"div#0736e303-32d4-474d-be4b-312b314a13c9\")\n",
        "        if ($myPB.hasClass('ui-progressbar')) {\n",
        "            $myPB.progressbar('value', 315);\n",
        "        } else {\n",
        "            $myPB.progressbar({value: 0, max: 1498});\n",
        "        }\n",
        "        "
       ],
       "metadata": {},
       "output_type": "display_data",
       "text": [
        "<IPython.core.display.Javascript at 0x99d52438>"
       ]
      },
      {
       "javascript": [
        "$('div#e62acc24-bc35-4bc8-b5f9-0f93256ec7f5').text('ETA:  0:00:00');"
       ],
       "metadata": {},
       "output_type": "display_data",
       "text": [
        "<IPython.core.display.Javascript at 0x99da7eb8>"
       ]
      },
      {
       "javascript": [
        "$('div#d8a74e46-0d29-4bdf-a5d9-e4589439560c').text('330 of 1498');"
       ],
       "metadata": {},
       "output_type": "display_data",
       "text": [
        "<IPython.core.display.Javascript at 0x99d52860>"
       ]
      },
      {
       "javascript": [
        "$('div#364f6b22-8ae2-46db-bbf1-898a95a7a347').text(' 22%');"
       ],
       "metadata": {},
       "output_type": "display_data",
       "text": [
        "<IPython.core.display.Javascript at 0x99d529b0>"
       ]
      },
      {
       "javascript": [
        "\n",
        "        var $myPB = $(\"div#0736e303-32d4-474d-be4b-312b314a13c9\")\n",
        "        if ($myPB.hasClass('ui-progressbar')) {\n",
        "            $myPB.progressbar('value', 330);\n",
        "        } else {\n",
        "            $myPB.progressbar({value: 0, max: 1498});\n",
        "        }\n",
        "        "
       ],
       "metadata": {},
       "output_type": "display_data",
       "text": [
        "<IPython.core.display.Javascript at 0x99d52780>"
       ]
      },
      {
       "javascript": [
        "$('div#e62acc24-bc35-4bc8-b5f9-0f93256ec7f5').text('ETA:  0:00:00');"
       ],
       "metadata": {},
       "output_type": "display_data",
       "text": [
        "<IPython.core.display.Javascript at 0x99da7eb8>"
       ]
      },
      {
       "javascript": [
        "$('div#d8a74e46-0d29-4bdf-a5d9-e4589439560c').text('345 of 1498');"
       ],
       "metadata": {},
       "output_type": "display_data",
       "text": [
        "<IPython.core.display.Javascript at 0x99d52d30>"
       ]
      },
      {
       "javascript": [
        "$('div#364f6b22-8ae2-46db-bbf1-898a95a7a347').text(' 23%');"
       ],
       "metadata": {},
       "output_type": "display_data",
       "text": [
        "<IPython.core.display.Javascript at 0x99d52ac8>"
       ]
      },
      {
       "javascript": [
        "\n",
        "        var $myPB = $(\"div#0736e303-32d4-474d-be4b-312b314a13c9\")\n",
        "        if ($myPB.hasClass('ui-progressbar')) {\n",
        "            $myPB.progressbar('value', 345);\n",
        "        } else {\n",
        "            $myPB.progressbar({value: 0, max: 1498});\n",
        "        }\n",
        "        "
       ],
       "metadata": {},
       "output_type": "display_data",
       "text": [
        "<IPython.core.display.Javascript at 0x99d52748>"
       ]
      },
      {
       "javascript": [
        "$('div#e62acc24-bc35-4bc8-b5f9-0f93256ec7f5').text('ETA:  0:00:00');"
       ],
       "metadata": {},
       "output_type": "display_data",
       "text": [
        "<IPython.core.display.Javascript at 0x99da7eb8>"
       ]
      },
      {
       "javascript": [
        "$('div#d8a74e46-0d29-4bdf-a5d9-e4589439560c').text('360 of 1498');"
       ],
       "metadata": {},
       "output_type": "display_data",
       "text": [
        "<IPython.core.display.Javascript at 0x99d52b00>"
       ]
      },
      {
       "javascript": [
        "$('div#364f6b22-8ae2-46db-bbf1-898a95a7a347').text(' 24%');"
       ],
       "metadata": {},
       "output_type": "display_data",
       "text": [
        "<IPython.core.display.Javascript at 0x99d52860>"
       ]
      },
      {
       "javascript": [
        "\n",
        "        var $myPB = $(\"div#0736e303-32d4-474d-be4b-312b314a13c9\")\n",
        "        if ($myPB.hasClass('ui-progressbar')) {\n",
        "            $myPB.progressbar('value', 360);\n",
        "        } else {\n",
        "            $myPB.progressbar({value: 0, max: 1498});\n",
        "        }\n",
        "        "
       ],
       "metadata": {},
       "output_type": "display_data",
       "text": [
        "<IPython.core.display.Javascript at 0x99d529b0>"
       ]
      },
      {
       "javascript": [
        "$('div#e62acc24-bc35-4bc8-b5f9-0f93256ec7f5').text('ETA:  0:00:00');"
       ],
       "metadata": {},
       "output_type": "display_data",
       "text": [
        "<IPython.core.display.Javascript at 0x99da7eb8>"
       ]
      },
      {
       "javascript": [
        "$('div#d8a74e46-0d29-4bdf-a5d9-e4589439560c').text('375 of 1498');"
       ],
       "metadata": {},
       "output_type": "display_data",
       "text": [
        "<IPython.core.display.Javascript at 0x99d52a58>"
       ]
      },
      {
       "javascript": [
        "$('div#364f6b22-8ae2-46db-bbf1-898a95a7a347').text(' 25%');"
       ],
       "metadata": {},
       "output_type": "display_data",
       "text": [
        "<IPython.core.display.Javascript at 0x99d52a90>"
       ]
      },
      {
       "javascript": [
        "\n",
        "        var $myPB = $(\"div#0736e303-32d4-474d-be4b-312b314a13c9\")\n",
        "        if ($myPB.hasClass('ui-progressbar')) {\n",
        "            $myPB.progressbar('value', 375);\n",
        "        } else {\n",
        "            $myPB.progressbar({value: 0, max: 1498});\n",
        "        }\n",
        "        "
       ],
       "metadata": {},
       "output_type": "display_data",
       "text": [
        "<IPython.core.display.Javascript at 0x99d52b00>"
       ]
      },
      {
       "javascript": [
        "$('div#e62acc24-bc35-4bc8-b5f9-0f93256ec7f5').text('ETA:  0:00:00');"
       ],
       "metadata": {},
       "output_type": "display_data",
       "text": [
        "<IPython.core.display.Javascript at 0x99da7eb8>"
       ]
      },
      {
       "javascript": [
        "$('div#d8a74e46-0d29-4bdf-a5d9-e4589439560c').text('390 of 1498');"
       ],
       "metadata": {},
       "output_type": "display_data",
       "text": [
        "<IPython.core.display.Javascript at 0x99d52898>"
       ]
      },
      {
       "javascript": [
        "$('div#364f6b22-8ae2-46db-bbf1-898a95a7a347').text(' 26%');"
       ],
       "metadata": {},
       "output_type": "display_data",
       "text": [
        "<IPython.core.display.Javascript at 0x99d52ef0>"
       ]
      },
      {
       "javascript": [
        "\n",
        "        var $myPB = $(\"div#0736e303-32d4-474d-be4b-312b314a13c9\")\n",
        "        if ($myPB.hasClass('ui-progressbar')) {\n",
        "            $myPB.progressbar('value', 390);\n",
        "        } else {\n",
        "            $myPB.progressbar({value: 0, max: 1498});\n",
        "        }\n",
        "        "
       ],
       "metadata": {},
       "output_type": "display_data",
       "text": [
        "<IPython.core.display.Javascript at 0x99d52a58>"
       ]
      },
      {
       "javascript": [
        "$('div#e62acc24-bc35-4bc8-b5f9-0f93256ec7f5').text('ETA:  0:00:00');"
       ],
       "metadata": {},
       "output_type": "display_data",
       "text": [
        "<IPython.core.display.Javascript at 0x99da7eb8>"
       ]
      },
      {
       "javascript": [
        "$('div#d8a74e46-0d29-4bdf-a5d9-e4589439560c').text('405 of 1498');"
       ],
       "metadata": {},
       "output_type": "display_data",
       "text": [
        "<IPython.core.display.Javascript at 0x99d52a58>"
       ]
      },
      {
       "javascript": [
        "$('div#364f6b22-8ae2-46db-bbf1-898a95a7a347').text(' 27%');"
       ],
       "metadata": {},
       "output_type": "display_data",
       "text": [
        "<IPython.core.display.Javascript at 0x99d52e48>"
       ]
      },
      {
       "javascript": [
        "\n",
        "        var $myPB = $(\"div#0736e303-32d4-474d-be4b-312b314a13c9\")\n",
        "        if ($myPB.hasClass('ui-progressbar')) {\n",
        "            $myPB.progressbar('value', 405);\n",
        "        } else {\n",
        "            $myPB.progressbar({value: 0, max: 1498});\n",
        "        }\n",
        "        "
       ],
       "metadata": {},
       "output_type": "display_data",
       "text": [
        "<IPython.core.display.Javascript at 0x99d52a90>"
       ]
      },
      {
       "javascript": [
        "$('div#e62acc24-bc35-4bc8-b5f9-0f93256ec7f5').text('ETA:  0:00:00');"
       ],
       "metadata": {},
       "output_type": "display_data",
       "text": [
        "<IPython.core.display.Javascript at 0x99da7eb8>"
       ]
      },
      {
       "javascript": [
        "$('div#d8a74e46-0d29-4bdf-a5d9-e4589439560c').text('420 of 1498');"
       ],
       "metadata": {},
       "output_type": "display_data",
       "text": [
        "<IPython.core.display.Javascript at 0x99d52a90>"
       ]
      },
      {
       "javascript": [
        "$('div#364f6b22-8ae2-46db-bbf1-898a95a7a347').text(' 28%');"
       ],
       "metadata": {},
       "output_type": "display_data",
       "text": [
        "<IPython.core.display.Javascript at 0x99d52940>"
       ]
      },
      {
       "javascript": [
        "\n",
        "        var $myPB = $(\"div#0736e303-32d4-474d-be4b-312b314a13c9\")\n",
        "        if ($myPB.hasClass('ui-progressbar')) {\n",
        "            $myPB.progressbar('value', 420);\n",
        "        } else {\n",
        "            $myPB.progressbar({value: 0, max: 1498});\n",
        "        }\n",
        "        "
       ],
       "metadata": {},
       "output_type": "display_data",
       "text": [
        "<IPython.core.display.Javascript at 0x99d525c0>"
       ]
      },
      {
       "javascript": [
        "$('div#e62acc24-bc35-4bc8-b5f9-0f93256ec7f5').text('ETA:  0:00:00');"
       ],
       "metadata": {},
       "output_type": "display_data",
       "text": [
        "<IPython.core.display.Javascript at 0x99da7eb8>"
       ]
      },
      {
       "javascript": [
        "$('div#d8a74e46-0d29-4bdf-a5d9-e4589439560c').text('435 of 1498');"
       ],
       "metadata": {},
       "output_type": "display_data",
       "text": [
        "<IPython.core.display.Javascript at 0x99d52898>"
       ]
      },
      {
       "javascript": [
        "$('div#364f6b22-8ae2-46db-bbf1-898a95a7a347').text(' 29%');"
       ],
       "metadata": {},
       "output_type": "display_data",
       "text": [
        "<IPython.core.display.Javascript at 0x99d526d8>"
       ]
      },
      {
       "javascript": [
        "\n",
        "        var $myPB = $(\"div#0736e303-32d4-474d-be4b-312b314a13c9\")\n",
        "        if ($myPB.hasClass('ui-progressbar')) {\n",
        "            $myPB.progressbar('value', 435);\n",
        "        } else {\n",
        "            $myPB.progressbar({value: 0, max: 1498});\n",
        "        }\n",
        "        "
       ],
       "metadata": {},
       "output_type": "display_data",
       "text": [
        "<IPython.core.display.Javascript at 0x99d52940>"
       ]
      },
      {
       "javascript": [
        "$('div#e62acc24-bc35-4bc8-b5f9-0f93256ec7f5').text('ETA:  0:00:00');"
       ],
       "metadata": {},
       "output_type": "display_data",
       "text": [
        "<IPython.core.display.Javascript at 0x99da7eb8>"
       ]
      },
      {
       "javascript": [
        "$('div#d8a74e46-0d29-4bdf-a5d9-e4589439560c').text('450 of 1498');"
       ],
       "metadata": {},
       "output_type": "display_data",
       "text": [
        "<IPython.core.display.Javascript at 0x99d52e80>"
       ]
      },
      {
       "javascript": [
        "$('div#364f6b22-8ae2-46db-bbf1-898a95a7a347').text(' 30%');"
       ],
       "metadata": {},
       "output_type": "display_data",
       "text": [
        "<IPython.core.display.Javascript at 0x99d52f60>"
       ]
      },
      {
       "javascript": [
        "\n",
        "        var $myPB = $(\"div#0736e303-32d4-474d-be4b-312b314a13c9\")\n",
        "        if ($myPB.hasClass('ui-progressbar')) {\n",
        "            $myPB.progressbar('value', 450);\n",
        "        } else {\n",
        "            $myPB.progressbar({value: 0, max: 1498});\n",
        "        }\n",
        "        "
       ],
       "metadata": {},
       "output_type": "display_data",
       "text": [
        "<IPython.core.display.Javascript at 0x99d522b0>"
       ]
      },
      {
       "javascript": [
        "$('div#e62acc24-bc35-4bc8-b5f9-0f93256ec7f5').text('ETA:  0:00:00');"
       ],
       "metadata": {},
       "output_type": "display_data",
       "text": [
        "<IPython.core.display.Javascript at 0x99da7eb8>"
       ]
      },
      {
       "javascript": [
        "$('div#d8a74e46-0d29-4bdf-a5d9-e4589439560c').text('465 of 1498');"
       ],
       "metadata": {},
       "output_type": "display_data",
       "text": [
        "<IPython.core.display.Javascript at 0x99d52da0>"
       ]
      },
      {
       "javascript": [
        "$('div#364f6b22-8ae2-46db-bbf1-898a95a7a347').text(' 31%');"
       ],
       "metadata": {},
       "output_type": "display_data",
       "text": [
        "<IPython.core.display.Javascript at 0x99d52898>"
       ]
      },
      {
       "javascript": [
        "\n",
        "        var $myPB = $(\"div#0736e303-32d4-474d-be4b-312b314a13c9\")\n",
        "        if ($myPB.hasClass('ui-progressbar')) {\n",
        "            $myPB.progressbar('value', 465);\n",
        "        } else {\n",
        "            $myPB.progressbar({value: 0, max: 1498});\n",
        "        }\n",
        "        "
       ],
       "metadata": {},
       "output_type": "display_data",
       "text": [
        "<IPython.core.display.Javascript at 0x99d526d8>"
       ]
      },
      {
       "javascript": [
        "$('div#e62acc24-bc35-4bc8-b5f9-0f93256ec7f5').text('ETA:  0:00:00');"
       ],
       "metadata": {},
       "output_type": "display_data",
       "text": [
        "<IPython.core.display.Javascript at 0x99da7eb8>"
       ]
      },
      {
       "javascript": [
        "$('div#d8a74e46-0d29-4bdf-a5d9-e4589439560c').text('480 of 1498');"
       ],
       "metadata": {},
       "output_type": "display_data",
       "text": [
        "<IPython.core.display.Javascript at 0x99d526a0>"
       ]
      },
      {
       "javascript": [
        "$('div#364f6b22-8ae2-46db-bbf1-898a95a7a347').text(' 32%');"
       ],
       "metadata": {},
       "output_type": "display_data",
       "text": [
        "<IPython.core.display.Javascript at 0x99d52e80>"
       ]
      },
      {
       "javascript": [
        "\n",
        "        var $myPB = $(\"div#0736e303-32d4-474d-be4b-312b314a13c9\")\n",
        "        if ($myPB.hasClass('ui-progressbar')) {\n",
        "            $myPB.progressbar('value', 480);\n",
        "        } else {\n",
        "            $myPB.progressbar({value: 0, max: 1498});\n",
        "        }\n",
        "        "
       ],
       "metadata": {},
       "output_type": "display_data",
       "text": [
        "<IPython.core.display.Javascript at 0x99d52f60>"
       ]
      },
      {
       "javascript": [
        "$('div#e62acc24-bc35-4bc8-b5f9-0f93256ec7f5').text('ETA:  0:00:00');"
       ],
       "metadata": {},
       "output_type": "display_data",
       "text": [
        "<IPython.core.display.Javascript at 0x99da7eb8>"
       ]
      },
      {
       "javascript": [
        "$('div#d8a74e46-0d29-4bdf-a5d9-e4589439560c').text('495 of 1498');"
       ],
       "metadata": {},
       "output_type": "display_data",
       "text": [
        "<IPython.core.display.Javascript at 0x99d52f60>"
       ]
      },
      {
       "javascript": [
        "$('div#364f6b22-8ae2-46db-bbf1-898a95a7a347').text(' 33%');"
       ],
       "metadata": {},
       "output_type": "display_data",
       "text": [
        "<IPython.core.display.Javascript at 0x99d529e8>"
       ]
      },
      {
       "javascript": [
        "\n",
        "        var $myPB = $(\"div#0736e303-32d4-474d-be4b-312b314a13c9\")\n",
        "        if ($myPB.hasClass('ui-progressbar')) {\n",
        "            $myPB.progressbar('value', 495);\n",
        "        } else {\n",
        "            $myPB.progressbar({value: 0, max: 1498});\n",
        "        }\n",
        "        "
       ],
       "metadata": {},
       "output_type": "display_data",
       "text": [
        "<IPython.core.display.Javascript at 0x99d52a58>"
       ]
      },
      {
       "javascript": [
        "$('div#e62acc24-bc35-4bc8-b5f9-0f93256ec7f5').text('ETA:  0:00:00');"
       ],
       "metadata": {},
       "output_type": "display_data",
       "text": [
        "<IPython.core.display.Javascript at 0x99da7eb8>"
       ]
      },
      {
       "javascript": [
        "$('div#d8a74e46-0d29-4bdf-a5d9-e4589439560c').text('510 of 1498');"
       ],
       "metadata": {},
       "output_type": "display_data",
       "text": [
        "<IPython.core.display.Javascript at 0x99d52f60>"
       ]
      },
      {
       "javascript": [
        "$('div#364f6b22-8ae2-46db-bbf1-898a95a7a347').text(' 34%');"
       ],
       "metadata": {},
       "output_type": "display_data",
       "text": [
        "<IPython.core.display.Javascript at 0x99d52c18>"
       ]
      },
      {
       "javascript": [
        "\n",
        "        var $myPB = $(\"div#0736e303-32d4-474d-be4b-312b314a13c9\")\n",
        "        if ($myPB.hasClass('ui-progressbar')) {\n",
        "            $myPB.progressbar('value', 510);\n",
        "        } else {\n",
        "            $myPB.progressbar({value: 0, max: 1498});\n",
        "        }\n",
        "        "
       ],
       "metadata": {},
       "output_type": "display_data",
       "text": [
        "<IPython.core.display.Javascript at 0x99d52e10>"
       ]
      },
      {
       "javascript": [
        "$('div#e62acc24-bc35-4bc8-b5f9-0f93256ec7f5').text('ETA:  0:00:00');"
       ],
       "metadata": {},
       "output_type": "display_data",
       "text": [
        "<IPython.core.display.Javascript at 0x99d52e10>"
       ]
      },
      {
       "javascript": [
        "$('div#d8a74e46-0d29-4bdf-a5d9-e4589439560c').text('525 of 1498');"
       ],
       "metadata": {},
       "output_type": "display_data",
       "text": [
        "<IPython.core.display.Javascript at 0x99d52588>"
       ]
      },
      {
       "javascript": [
        "$('div#364f6b22-8ae2-46db-bbf1-898a95a7a347').text(' 35%');"
       ],
       "metadata": {},
       "output_type": "display_data",
       "text": [
        "<IPython.core.display.Javascript at 0x99da7eb8>"
       ]
      },
      {
       "javascript": [
        "\n",
        "        var $myPB = $(\"div#0736e303-32d4-474d-be4b-312b314a13c9\")\n",
        "        if ($myPB.hasClass('ui-progressbar')) {\n",
        "            $myPB.progressbar('value', 525);\n",
        "        } else {\n",
        "            $myPB.progressbar({value: 0, max: 1498});\n",
        "        }\n",
        "        "
       ],
       "metadata": {},
       "output_type": "display_data",
       "text": [
        "<IPython.core.display.Javascript at 0x99d525f8>"
       ]
      },
      {
       "javascript": [
        "$('div#e62acc24-bc35-4bc8-b5f9-0f93256ec7f5').text('ETA:  0:00:00');"
       ],
       "metadata": {},
       "output_type": "display_data",
       "text": [
        "<IPython.core.display.Javascript at 0x99da7eb8>"
       ]
      },
      {
       "javascript": [
        "$('div#d8a74e46-0d29-4bdf-a5d9-e4589439560c').text('540 of 1498');"
       ],
       "metadata": {},
       "output_type": "display_data",
       "text": [
        "<IPython.core.display.Javascript at 0x99d525f8>"
       ]
      },
      {
       "javascript": [
        "$('div#364f6b22-8ae2-46db-bbf1-898a95a7a347').text(' 36%');"
       ],
       "metadata": {},
       "output_type": "display_data",
       "text": [
        "<IPython.core.display.Javascript at 0x99d52e10>"
       ]
      },
      {
       "javascript": [
        "\n",
        "        var $myPB = $(\"div#0736e303-32d4-474d-be4b-312b314a13c9\")\n",
        "        if ($myPB.hasClass('ui-progressbar')) {\n",
        "            $myPB.progressbar('value', 540);\n",
        "        } else {\n",
        "            $myPB.progressbar({value: 0, max: 1498});\n",
        "        }\n",
        "        "
       ],
       "metadata": {},
       "output_type": "display_data",
       "text": [
        "<IPython.core.display.Javascript at 0x99d52f60>"
       ]
      },
      {
       "javascript": [
        "$('div#e62acc24-bc35-4bc8-b5f9-0f93256ec7f5').text('ETA:  0:00:00');"
       ],
       "metadata": {},
       "output_type": "display_data",
       "text": [
        "<IPython.core.display.Javascript at 0x99da7eb8>"
       ]
      },
      {
       "javascript": [
        "$('div#d8a74e46-0d29-4bdf-a5d9-e4589439560c').text('555 of 1498');"
       ],
       "metadata": {},
       "output_type": "display_data",
       "text": [
        "<IPython.core.display.Javascript at 0x99d52e10>"
       ]
      },
      {
       "javascript": [
        "$('div#364f6b22-8ae2-46db-bbf1-898a95a7a347').text(' 37%');"
       ],
       "metadata": {},
       "output_type": "display_data",
       "text": [
        "<IPython.core.display.Javascript at 0x99d52588>"
       ]
      },
      {
       "javascript": [
        "\n",
        "        var $myPB = $(\"div#0736e303-32d4-474d-be4b-312b314a13c9\")\n",
        "        if ($myPB.hasClass('ui-progressbar')) {\n",
        "            $myPB.progressbar('value', 555);\n",
        "        } else {\n",
        "            $myPB.progressbar({value: 0, max: 1498});\n",
        "        }\n",
        "        "
       ],
       "metadata": {},
       "output_type": "display_data",
       "text": [
        "<IPython.core.display.Javascript at 0x9a0b0908>"
       ]
      },
      {
       "javascript": [
        "$('div#e62acc24-bc35-4bc8-b5f9-0f93256ec7f5').text('ETA:  0:00:00');"
       ],
       "metadata": {},
       "output_type": "display_data",
       "text": [
        "<IPython.core.display.Javascript at 0x99da7eb8>"
       ]
      },
      {
       "javascript": [
        "$('div#d8a74e46-0d29-4bdf-a5d9-e4589439560c').text('570 of 1498');"
       ],
       "metadata": {},
       "output_type": "display_data",
       "text": [
        "<IPython.core.display.Javascript at 0x9a0b0908>"
       ]
      },
      {
       "javascript": [
        "$('div#364f6b22-8ae2-46db-bbf1-898a95a7a347').text(' 38%');"
       ],
       "metadata": {},
       "output_type": "display_data",
       "text": [
        "<IPython.core.display.Javascript at 0x9a0b02e8>"
       ]
      },
      {
       "javascript": [
        "\n",
        "        var $myPB = $(\"div#0736e303-32d4-474d-be4b-312b314a13c9\")\n",
        "        if ($myPB.hasClass('ui-progressbar')) {\n",
        "            $myPB.progressbar('value', 570);\n",
        "        } else {\n",
        "            $myPB.progressbar({value: 0, max: 1498});\n",
        "        }\n",
        "        "
       ],
       "metadata": {},
       "output_type": "display_data",
       "text": [
        "<IPython.core.display.Javascript at 0x9a0b09e8>"
       ]
      },
      {
       "javascript": [
        "$('div#e62acc24-bc35-4bc8-b5f9-0f93256ec7f5').text('ETA:  0:00:00');"
       ],
       "metadata": {},
       "output_type": "display_data",
       "text": [
        "<IPython.core.display.Javascript at 0x99da7eb8>"
       ]
      },
      {
       "javascript": [
        "$('div#d8a74e46-0d29-4bdf-a5d9-e4589439560c').text('585 of 1498');"
       ],
       "metadata": {},
       "output_type": "display_data",
       "text": [
        "<IPython.core.display.Javascript at 0x9a0b0c18>"
       ]
      },
      {
       "javascript": [
        "$('div#364f6b22-8ae2-46db-bbf1-898a95a7a347').text(' 39%');"
       ],
       "metadata": {},
       "output_type": "display_data",
       "text": [
        "<IPython.core.display.Javascript at 0x9a0b0278>"
       ]
      },
      {
       "javascript": [
        "\n",
        "        var $myPB = $(\"div#0736e303-32d4-474d-be4b-312b314a13c9\")\n",
        "        if ($myPB.hasClass('ui-progressbar')) {\n",
        "            $myPB.progressbar('value', 585);\n",
        "        } else {\n",
        "            $myPB.progressbar({value: 0, max: 1498});\n",
        "        }\n",
        "        "
       ],
       "metadata": {},
       "output_type": "display_data",
       "text": [
        "<IPython.core.display.Javascript at 0x9a0b0be0>"
       ]
      },
      {
       "javascript": [
        "$('div#e62acc24-bc35-4bc8-b5f9-0f93256ec7f5').text('ETA:  0:00:00');"
       ],
       "metadata": {},
       "output_type": "display_data",
       "text": [
        "<IPython.core.display.Javascript at 0x99da7eb8>"
       ]
      },
      {
       "javascript": [
        "$('div#d8a74e46-0d29-4bdf-a5d9-e4589439560c').text('600 of 1498');"
       ],
       "metadata": {},
       "output_type": "display_data",
       "text": [
        "<IPython.core.display.Javascript at 0x9a0b0be0>"
       ]
      },
      {
       "javascript": [
        "$('div#364f6b22-8ae2-46db-bbf1-898a95a7a347').text(' 40%');"
       ],
       "metadata": {},
       "output_type": "display_data",
       "text": [
        "<IPython.core.display.Javascript at 0x9a0b07f0>"
       ]
      },
      {
       "javascript": [
        "\n",
        "        var $myPB = $(\"div#0736e303-32d4-474d-be4b-312b314a13c9\")\n",
        "        if ($myPB.hasClass('ui-progressbar')) {\n",
        "            $myPB.progressbar('value', 600);\n",
        "        } else {\n",
        "            $myPB.progressbar({value: 0, max: 1498});\n",
        "        }\n",
        "        "
       ],
       "metadata": {},
       "output_type": "display_data",
       "text": [
        "<IPython.core.display.Javascript at 0x9a0b0240>"
       ]
      },
      {
       "javascript": [
        "$('div#e62acc24-bc35-4bc8-b5f9-0f93256ec7f5').text('ETA:  0:00:00');"
       ],
       "metadata": {},
       "output_type": "display_data",
       "text": [
        "<IPython.core.display.Javascript at 0x99da7eb8>"
       ]
      },
      {
       "javascript": [
        "$('div#d8a74e46-0d29-4bdf-a5d9-e4589439560c').text('615 of 1498');"
       ],
       "metadata": {},
       "output_type": "display_data",
       "text": [
        "<IPython.core.display.Javascript at 0x9a0b0240>"
       ]
      },
      {
       "javascript": [
        "$('div#364f6b22-8ae2-46db-bbf1-898a95a7a347').text(' 41%');"
       ],
       "metadata": {},
       "output_type": "display_data",
       "text": [
        "<IPython.core.display.Javascript at 0x9a0b0dd8>"
       ]
      },
      {
       "javascript": [
        "\n",
        "        var $myPB = $(\"div#0736e303-32d4-474d-be4b-312b314a13c9\")\n",
        "        if ($myPB.hasClass('ui-progressbar')) {\n",
        "            $myPB.progressbar('value', 615);\n",
        "        } else {\n",
        "            $myPB.progressbar({value: 0, max: 1498});\n",
        "        }\n",
        "        "
       ],
       "metadata": {},
       "output_type": "display_data",
       "text": [
        "<IPython.core.display.Javascript at 0x9a0b0908>"
       ]
      },
      {
       "javascript": [
        "$('div#e62acc24-bc35-4bc8-b5f9-0f93256ec7f5').text('ETA:  0:00:00');"
       ],
       "metadata": {},
       "output_type": "display_data",
       "text": [
        "<IPython.core.display.Javascript at 0x99da7eb8>"
       ]
      },
      {
       "javascript": [
        "$('div#d8a74e46-0d29-4bdf-a5d9-e4589439560c').text('630 of 1498');"
       ],
       "metadata": {},
       "output_type": "display_data",
       "text": [
        "<IPython.core.display.Javascript at 0x9a0b02e8>"
       ]
      },
      {
       "javascript": [
        "$('div#364f6b22-8ae2-46db-bbf1-898a95a7a347').text(' 42%');"
       ],
       "metadata": {},
       "output_type": "display_data",
       "text": [
        "<IPython.core.display.Javascript at 0x9a0b07f0>"
       ]
      },
      {
       "javascript": [
        "\n",
        "        var $myPB = $(\"div#0736e303-32d4-474d-be4b-312b314a13c9\")\n",
        "        if ($myPB.hasClass('ui-progressbar')) {\n",
        "            $myPB.progressbar('value', 630);\n",
        "        } else {\n",
        "            $myPB.progressbar({value: 0, max: 1498});\n",
        "        }\n",
        "        "
       ],
       "metadata": {},
       "output_type": "display_data",
       "text": [
        "<IPython.core.display.Javascript at 0x9a0b0c18>"
       ]
      },
      {
       "javascript": [
        "$('div#e62acc24-bc35-4bc8-b5f9-0f93256ec7f5').text('ETA:  0:00:00');"
       ],
       "metadata": {},
       "output_type": "display_data",
       "text": [
        "<IPython.core.display.Javascript at 0x99da7eb8>"
       ]
      },
      {
       "javascript": [
        "$('div#d8a74e46-0d29-4bdf-a5d9-e4589439560c').text('645 of 1498');"
       ],
       "metadata": {},
       "output_type": "display_data",
       "text": [
        "<IPython.core.display.Javascript at 0x9a0b0240>"
       ]
      },
      {
       "javascript": [
        "$('div#364f6b22-8ae2-46db-bbf1-898a95a7a347').text(' 43%');"
       ],
       "metadata": {},
       "output_type": "display_data",
       "text": [
        "<IPython.core.display.Javascript at 0x9a0b0278>"
       ]
      },
      {
       "javascript": [
        "\n",
        "        var $myPB = $(\"div#0736e303-32d4-474d-be4b-312b314a13c9\")\n",
        "        if ($myPB.hasClass('ui-progressbar')) {\n",
        "            $myPB.progressbar('value', 645);\n",
        "        } else {\n",
        "            $myPB.progressbar({value: 0, max: 1498});\n",
        "        }\n",
        "        "
       ],
       "metadata": {},
       "output_type": "display_data",
       "text": [
        "<IPython.core.display.Javascript at 0x9a0b06a0>"
       ]
      },
      {
       "javascript": [
        "$('div#e62acc24-bc35-4bc8-b5f9-0f93256ec7f5').text('ETA:  0:00:00');"
       ],
       "metadata": {},
       "output_type": "display_data",
       "text": [
        "<IPython.core.display.Javascript at 0x99da7eb8>"
       ]
      },
      {
       "javascript": [
        "$('div#d8a74e46-0d29-4bdf-a5d9-e4589439560c').text('660 of 1498');"
       ],
       "metadata": {},
       "output_type": "display_data",
       "text": [
        "<IPython.core.display.Javascript at 0x9a0b06a0>"
       ]
      },
      {
       "javascript": [
        "$('div#364f6b22-8ae2-46db-bbf1-898a95a7a347').text(' 44%');"
       ],
       "metadata": {},
       "output_type": "display_data",
       "text": [
        "<IPython.core.display.Javascript at 0x9a0b07f0>"
       ]
      },
      {
       "javascript": [
        "\n",
        "        var $myPB = $(\"div#0736e303-32d4-474d-be4b-312b314a13c9\")\n",
        "        if ($myPB.hasClass('ui-progressbar')) {\n",
        "            $myPB.progressbar('value', 660);\n",
        "        } else {\n",
        "            $myPB.progressbar({value: 0, max: 1498});\n",
        "        }\n",
        "        "
       ],
       "metadata": {},
       "output_type": "display_data",
       "text": [
        "<IPython.core.display.Javascript at 0x9a0b0dd8>"
       ]
      },
      {
       "javascript": [
        "$('div#e62acc24-bc35-4bc8-b5f9-0f93256ec7f5').text('ETA:  0:00:00');"
       ],
       "metadata": {},
       "output_type": "display_data",
       "text": [
        "<IPython.core.display.Javascript at 0x99da7eb8>"
       ]
      },
      {
       "javascript": [
        "$('div#d8a74e46-0d29-4bdf-a5d9-e4589439560c').text('675 of 1498');"
       ],
       "metadata": {},
       "output_type": "display_data",
       "text": [
        "<IPython.core.display.Javascript at 0x9a0b0f60>"
       ]
      },
      {
       "javascript": [
        "$('div#364f6b22-8ae2-46db-bbf1-898a95a7a347').text(' 45%');"
       ],
       "metadata": {},
       "output_type": "display_data",
       "text": [
        "<IPython.core.display.Javascript at 0x9a0b04e0>"
       ]
      },
      {
       "javascript": [
        "\n",
        "        var $myPB = $(\"div#0736e303-32d4-474d-be4b-312b314a13c9\")\n",
        "        if ($myPB.hasClass('ui-progressbar')) {\n",
        "            $myPB.progressbar('value', 675);\n",
        "        } else {\n",
        "            $myPB.progressbar({value: 0, max: 1498});\n",
        "        }\n",
        "        "
       ],
       "metadata": {},
       "output_type": "display_data",
       "text": [
        "<IPython.core.display.Javascript at 0x9a0b0240>"
       ]
      },
      {
       "javascript": [
        "$('div#e62acc24-bc35-4bc8-b5f9-0f93256ec7f5').text('ETA:  0:00:00');"
       ],
       "metadata": {},
       "output_type": "display_data",
       "text": [
        "<IPython.core.display.Javascript at 0x99da7eb8>"
       ]
      },
      {
       "javascript": [
        "$('div#d8a74e46-0d29-4bdf-a5d9-e4589439560c').text('690 of 1498');"
       ],
       "metadata": {},
       "output_type": "display_data",
       "text": [
        "<IPython.core.display.Javascript at 0x9a0b00b8>"
       ]
      },
      {
       "javascript": [
        "$('div#364f6b22-8ae2-46db-bbf1-898a95a7a347').text(' 46%');"
       ],
       "metadata": {},
       "output_type": "display_data",
       "text": [
        "<IPython.core.display.Javascript at 0x9a0b07f0>"
       ]
      },
      {
       "javascript": [
        "\n",
        "        var $myPB = $(\"div#0736e303-32d4-474d-be4b-312b314a13c9\")\n",
        "        if ($myPB.hasClass('ui-progressbar')) {\n",
        "            $myPB.progressbar('value', 690);\n",
        "        } else {\n",
        "            $myPB.progressbar({value: 0, max: 1498});\n",
        "        }\n",
        "        "
       ],
       "metadata": {},
       "output_type": "display_data",
       "text": [
        "<IPython.core.display.Javascript at 0x9a0b04e0>"
       ]
      },
      {
       "javascript": [
        "$('div#e62acc24-bc35-4bc8-b5f9-0f93256ec7f5').text('ETA:  0:00:00');"
       ],
       "metadata": {},
       "output_type": "display_data",
       "text": [
        "<IPython.core.display.Javascript at 0x99da7eb8>"
       ]
      },
      {
       "javascript": [
        "$('div#d8a74e46-0d29-4bdf-a5d9-e4589439560c').text('705 of 1498');"
       ],
       "metadata": {},
       "output_type": "display_data",
       "text": [
        "<IPython.core.display.Javascript at 0x9a0b04e0>"
       ]
      },
      {
       "javascript": [
        "$('div#364f6b22-8ae2-46db-bbf1-898a95a7a347').text(' 47%');"
       ],
       "metadata": {},
       "output_type": "display_data",
       "text": [
        "<IPython.core.display.Javascript at 0x9a0b0748>"
       ]
      },
      {
       "javascript": [
        "\n",
        "        var $myPB = $(\"div#0736e303-32d4-474d-be4b-312b314a13c9\")\n",
        "        if ($myPB.hasClass('ui-progressbar')) {\n",
        "            $myPB.progressbar('value', 705);\n",
        "        } else {\n",
        "            $myPB.progressbar({value: 0, max: 1498});\n",
        "        }\n",
        "        "
       ],
       "metadata": {},
       "output_type": "display_data",
       "text": [
        "<IPython.core.display.Javascript at 0x9a0b0da0>"
       ]
      },
      {
       "javascript": [
        "$('div#e62acc24-bc35-4bc8-b5f9-0f93256ec7f5').text('ETA:  0:00:00');"
       ],
       "metadata": {},
       "output_type": "display_data",
       "text": [
        "<IPython.core.display.Javascript at 0x99da7eb8>"
       ]
      },
      {
       "javascript": [
        "$('div#d8a74e46-0d29-4bdf-a5d9-e4589439560c').text('720 of 1498');"
       ],
       "metadata": {},
       "output_type": "display_data",
       "text": [
        "<IPython.core.display.Javascript at 0x9a0b07f0>"
       ]
      },
      {
       "javascript": [
        "$('div#364f6b22-8ae2-46db-bbf1-898a95a7a347').text(' 48%');"
       ],
       "metadata": {},
       "output_type": "display_data",
       "text": [
        "<IPython.core.display.Javascript at 0x9a0b0390>"
       ]
      },
      {
       "javascript": [
        "\n",
        "        var $myPB = $(\"div#0736e303-32d4-474d-be4b-312b314a13c9\")\n",
        "        if ($myPB.hasClass('ui-progressbar')) {\n",
        "            $myPB.progressbar('value', 720);\n",
        "        } else {\n",
        "            $myPB.progressbar({value: 0, max: 1498});\n",
        "        }\n",
        "        "
       ],
       "metadata": {},
       "output_type": "display_data",
       "text": [
        "<IPython.core.display.Javascript at 0x9a0b05c0>"
       ]
      },
      {
       "javascript": [
        "$('div#e62acc24-bc35-4bc8-b5f9-0f93256ec7f5').text('ETA:  0:00:00');"
       ],
       "metadata": {},
       "output_type": "display_data",
       "text": [
        "<IPython.core.display.Javascript at 0x99da7eb8>"
       ]
      },
      {
       "javascript": [
        "$('div#d8a74e46-0d29-4bdf-a5d9-e4589439560c').text('735 of 1498');"
       ],
       "metadata": {},
       "output_type": "display_data",
       "text": [
        "<IPython.core.display.Javascript at 0x9a0b05c0>"
       ]
      },
      {
       "javascript": [
        "$('div#364f6b22-8ae2-46db-bbf1-898a95a7a347').text(' 49%');"
       ],
       "metadata": {},
       "output_type": "display_data",
       "text": [
        "<IPython.core.display.Javascript at 0x9a0b0748>"
       ]
      },
      {
       "javascript": [
        "\n",
        "        var $myPB = $(\"div#0736e303-32d4-474d-be4b-312b314a13c9\")\n",
        "        if ($myPB.hasClass('ui-progressbar')) {\n",
        "            $myPB.progressbar('value', 735);\n",
        "        } else {\n",
        "            $myPB.progressbar({value: 0, max: 1498});\n",
        "        }\n",
        "        "
       ],
       "metadata": {},
       "output_type": "display_data",
       "text": [
        "<IPython.core.display.Javascript at 0x9a0b0f98>"
       ]
      },
      {
       "javascript": [
        "$('div#e62acc24-bc35-4bc8-b5f9-0f93256ec7f5').text('ETA:  0:00:00');"
       ],
       "metadata": {},
       "output_type": "display_data",
       "text": [
        "<IPython.core.display.Javascript at 0x99da7eb8>"
       ]
      },
      {
       "javascript": [
        "$('div#d8a74e46-0d29-4bdf-a5d9-e4589439560c').text('750 of 1498');"
       ],
       "metadata": {},
       "output_type": "display_data",
       "text": [
        "<IPython.core.display.Javascript at 0x9a0b00b8>"
       ]
      },
      {
       "javascript": [
        "$('div#364f6b22-8ae2-46db-bbf1-898a95a7a347').text(' 50%');"
       ],
       "metadata": {},
       "output_type": "display_data",
       "text": [
        "<IPython.core.display.Javascript at 0x9a0b0390>"
       ]
      },
      {
       "javascript": [
        "\n",
        "        var $myPB = $(\"div#0736e303-32d4-474d-be4b-312b314a13c9\")\n",
        "        if ($myPB.hasClass('ui-progressbar')) {\n",
        "            $myPB.progressbar('value', 750);\n",
        "        } else {\n",
        "            $myPB.progressbar({value: 0, max: 1498});\n",
        "        }\n",
        "        "
       ],
       "metadata": {},
       "output_type": "display_data",
       "text": [
        "<IPython.core.display.Javascript at 0x9a0b0fd0>"
       ]
      },
      {
       "javascript": [
        "$('div#e62acc24-bc35-4bc8-b5f9-0f93256ec7f5').text('ETA:  0:00:00');"
       ],
       "metadata": {},
       "output_type": "display_data",
       "text": [
        "<IPython.core.display.Javascript at 0x99da7eb8>"
       ]
      },
      {
       "javascript": [
        "$('div#d8a74e46-0d29-4bdf-a5d9-e4589439560c').text('765 of 1498');"
       ],
       "metadata": {},
       "output_type": "display_data",
       "text": [
        "<IPython.core.display.Javascript at 0x9a0b05c0>"
       ]
      },
      {
       "javascript": [
        "$('div#364f6b22-8ae2-46db-bbf1-898a95a7a347').text(' 51%');"
       ],
       "metadata": {},
       "output_type": "display_data",
       "text": [
        "<IPython.core.display.Javascript at 0x9a0b00f0>"
       ]
      },
      {
       "javascript": [
        "\n",
        "        var $myPB = $(\"div#0736e303-32d4-474d-be4b-312b314a13c9\")\n",
        "        if ($myPB.hasClass('ui-progressbar')) {\n",
        "            $myPB.progressbar('value', 765);\n",
        "        } else {\n",
        "            $myPB.progressbar({value: 0, max: 1498});\n",
        "        }\n",
        "        "
       ],
       "metadata": {},
       "output_type": "display_data",
       "text": [
        "<IPython.core.display.Javascript at 0x9a0b04e0>"
       ]
      },
      {
       "javascript": [
        "$('div#e62acc24-bc35-4bc8-b5f9-0f93256ec7f5').text('ETA:  0:00:00');"
       ],
       "metadata": {},
       "output_type": "display_data",
       "text": [
        "<IPython.core.display.Javascript at 0x99da7eb8>"
       ]
      },
      {
       "javascript": [
        "$('div#d8a74e46-0d29-4bdf-a5d9-e4589439560c').text('780 of 1498');"
       ],
       "metadata": {},
       "output_type": "display_data",
       "text": [
        "<IPython.core.display.Javascript at 0x9a0b0390>"
       ]
      },
      {
       "javascript": [
        "$('div#364f6b22-8ae2-46db-bbf1-898a95a7a347').text(' 52%');"
       ],
       "metadata": {},
       "output_type": "display_data",
       "text": [
        "<IPython.core.display.Javascript at 0x9a0b08d0>"
       ]
      },
      {
       "javascript": [
        "\n",
        "        var $myPB = $(\"div#0736e303-32d4-474d-be4b-312b314a13c9\")\n",
        "        if ($myPB.hasClass('ui-progressbar')) {\n",
        "            $myPB.progressbar('value', 780);\n",
        "        } else {\n",
        "            $myPB.progressbar({value: 0, max: 1498});\n",
        "        }\n",
        "        "
       ],
       "metadata": {},
       "output_type": "display_data",
       "text": [
        "<IPython.core.display.Javascript at 0x9a0b00b8>"
       ]
      },
      {
       "javascript": [
        "$('div#e62acc24-bc35-4bc8-b5f9-0f93256ec7f5').text('ETA:  0:00:00');"
       ],
       "metadata": {},
       "output_type": "display_data",
       "text": [
        "<IPython.core.display.Javascript at 0x99da7eb8>"
       ]
      },
      {
       "javascript": [
        "$('div#d8a74e46-0d29-4bdf-a5d9-e4589439560c').text('795 of 1498');"
       ],
       "metadata": {},
       "output_type": "display_data",
       "text": [
        "<IPython.core.display.Javascript at 0x9a0b0ac8>"
       ]
      },
      {
       "javascript": [
        "$('div#364f6b22-8ae2-46db-bbf1-898a95a7a347').text(' 53%');"
       ],
       "metadata": {},
       "output_type": "display_data",
       "text": [
        "<IPython.core.display.Javascript at 0x9a0b08d0>"
       ]
      },
      {
       "javascript": [
        "\n",
        "        var $myPB = $(\"div#0736e303-32d4-474d-be4b-312b314a13c9\")\n",
        "        if ($myPB.hasClass('ui-progressbar')) {\n",
        "            $myPB.progressbar('value', 795);\n",
        "        } else {\n",
        "            $myPB.progressbar({value: 0, max: 1498});\n",
        "        }\n",
        "        "
       ],
       "metadata": {},
       "output_type": "display_data",
       "text": [
        "<IPython.core.display.Javascript at 0x9a0b0b70>"
       ]
      },
      {
       "javascript": [
        "$('div#e62acc24-bc35-4bc8-b5f9-0f93256ec7f5').text('ETA:  0:00:00');"
       ],
       "metadata": {},
       "output_type": "display_data",
       "text": [
        "<IPython.core.display.Javascript at 0x99da7eb8>"
       ]
      },
      {
       "javascript": [
        "$('div#d8a74e46-0d29-4bdf-a5d9-e4589439560c').text('810 of 1498');"
       ],
       "metadata": {},
       "output_type": "display_data",
       "text": [
        "<IPython.core.display.Javascript at 0x9a0b0128>"
       ]
      },
      {
       "javascript": [
        "$('div#364f6b22-8ae2-46db-bbf1-898a95a7a347').text(' 54%');"
       ],
       "metadata": {},
       "output_type": "display_data",
       "text": [
        "<IPython.core.display.Javascript at 0x9a0b0b00>"
       ]
      },
      {
       "javascript": [
        "\n",
        "        var $myPB = $(\"div#0736e303-32d4-474d-be4b-312b314a13c9\")\n",
        "        if ($myPB.hasClass('ui-progressbar')) {\n",
        "            $myPB.progressbar('value', 810);\n",
        "        } else {\n",
        "            $myPB.progressbar({value: 0, max: 1498});\n",
        "        }\n",
        "        "
       ],
       "metadata": {},
       "output_type": "display_data",
       "text": [
        "<IPython.core.display.Javascript at 0x9a0b06d8>"
       ]
      },
      {
       "javascript": [
        "$('div#e62acc24-bc35-4bc8-b5f9-0f93256ec7f5').text('ETA:  0:00:00');"
       ],
       "metadata": {},
       "output_type": "display_data",
       "text": [
        "<IPython.core.display.Javascript at 0x99da7eb8>"
       ]
      },
      {
       "javascript": [
        "$('div#d8a74e46-0d29-4bdf-a5d9-e4589439560c').text('825 of 1498');"
       ],
       "metadata": {},
       "output_type": "display_data",
       "text": [
        "<IPython.core.display.Javascript at 0x9a0b0e10>"
       ]
      },
      {
       "javascript": [
        "$('div#364f6b22-8ae2-46db-bbf1-898a95a7a347').text(' 55%');"
       ],
       "metadata": {},
       "output_type": "display_data",
       "text": [
        "<IPython.core.display.Javascript at 0x9a0b0cf8>"
       ]
      },
      {
       "javascript": [
        "\n",
        "        var $myPB = $(\"div#0736e303-32d4-474d-be4b-312b314a13c9\")\n",
        "        if ($myPB.hasClass('ui-progressbar')) {\n",
        "            $myPB.progressbar('value', 825);\n",
        "        } else {\n",
        "            $myPB.progressbar({value: 0, max: 1498});\n",
        "        }\n",
        "        "
       ],
       "metadata": {},
       "output_type": "display_data",
       "text": [
        "<IPython.core.display.Javascript at 0x9a0b0b00>"
       ]
      },
      {
       "javascript": [
        "$('div#e62acc24-bc35-4bc8-b5f9-0f93256ec7f5').text('ETA:  0:00:00');"
       ],
       "metadata": {},
       "output_type": "display_data",
       "text": [
        "<IPython.core.display.Javascript at 0x99da7eb8>"
       ]
      },
      {
       "javascript": [
        "$('div#d8a74e46-0d29-4bdf-a5d9-e4589439560c').text('840 of 1498');"
       ],
       "metadata": {},
       "output_type": "display_data",
       "text": [
        "<IPython.core.display.Javascript at 0x9a0b0588>"
       ]
      },
      {
       "javascript": [
        "$('div#364f6b22-8ae2-46db-bbf1-898a95a7a347').text(' 56%');"
       ],
       "metadata": {},
       "output_type": "display_data",
       "text": [
        "<IPython.core.display.Javascript at 0x9a0b0940>"
       ]
      },
      {
       "javascript": [
        "\n",
        "        var $myPB = $(\"div#0736e303-32d4-474d-be4b-312b314a13c9\")\n",
        "        if ($myPB.hasClass('ui-progressbar')) {\n",
        "            $myPB.progressbar('value', 840);\n",
        "        } else {\n",
        "            $myPB.progressbar({value: 0, max: 1498});\n",
        "        }\n",
        "        "
       ],
       "metadata": {},
       "output_type": "display_data",
       "text": [
        "<IPython.core.display.Javascript at 0x9a0b0c50>"
       ]
      },
      {
       "javascript": [
        "$('div#e62acc24-bc35-4bc8-b5f9-0f93256ec7f5').text('ETA:  0:00:00');"
       ],
       "metadata": {},
       "output_type": "display_data",
       "text": [
        "<IPython.core.display.Javascript at 0x99da7eb8>"
       ]
      },
      {
       "javascript": [
        "$('div#d8a74e46-0d29-4bdf-a5d9-e4589439560c').text('855 of 1498');"
       ],
       "metadata": {},
       "output_type": "display_data",
       "text": [
        "<IPython.core.display.Javascript at 0x9a0b0668>"
       ]
      },
      {
       "javascript": [
        "$('div#364f6b22-8ae2-46db-bbf1-898a95a7a347').text(' 57%');"
       ],
       "metadata": {},
       "output_type": "display_data",
       "text": [
        "<IPython.core.display.Javascript at 0x9a0b0e10>"
       ]
      },
      {
       "javascript": [
        "\n",
        "        var $myPB = $(\"div#0736e303-32d4-474d-be4b-312b314a13c9\")\n",
        "        if ($myPB.hasClass('ui-progressbar')) {\n",
        "            $myPB.progressbar('value', 855);\n",
        "        } else {\n",
        "            $myPB.progressbar({value: 0, max: 1498});\n",
        "        }\n",
        "        "
       ],
       "metadata": {},
       "output_type": "display_data",
       "text": [
        "<IPython.core.display.Javascript at 0x9a0b0cf8>"
       ]
      },
      {
       "javascript": [
        "$('div#e62acc24-bc35-4bc8-b5f9-0f93256ec7f5').text('ETA:  0:00:00');"
       ],
       "metadata": {},
       "output_type": "display_data",
       "text": [
        "<IPython.core.display.Javascript at 0x99da7eb8>"
       ]
      },
      {
       "javascript": [
        "$('div#d8a74e46-0d29-4bdf-a5d9-e4589439560c').text('870 of 1498');"
       ],
       "metadata": {},
       "output_type": "display_data",
       "text": [
        "<IPython.core.display.Javascript at 0x9a0b0ba8>"
       ]
      },
      {
       "javascript": [
        "$('div#364f6b22-8ae2-46db-bbf1-898a95a7a347').text(' 58%');"
       ],
       "metadata": {},
       "output_type": "display_data",
       "text": [
        "<IPython.core.display.Javascript at 0x9a0b0940>"
       ]
      },
      {
       "javascript": [
        "\n",
        "        var $myPB = $(\"div#0736e303-32d4-474d-be4b-312b314a13c9\")\n",
        "        if ($myPB.hasClass('ui-progressbar')) {\n",
        "            $myPB.progressbar('value', 870);\n",
        "        } else {\n",
        "            $myPB.progressbar({value: 0, max: 1498});\n",
        "        }\n",
        "        "
       ],
       "metadata": {},
       "output_type": "display_data",
       "text": [
        "<IPython.core.display.Javascript at 0x9a0b0198>"
       ]
      },
      {
       "javascript": [
        "$('div#e62acc24-bc35-4bc8-b5f9-0f93256ec7f5').text('ETA:  0:00:00');"
       ],
       "metadata": {},
       "output_type": "display_data",
       "text": [
        "<IPython.core.display.Javascript at 0x99da7eb8>"
       ]
      },
      {
       "javascript": [
        "$('div#d8a74e46-0d29-4bdf-a5d9-e4589439560c').text('885 of 1498');"
       ],
       "metadata": {},
       "output_type": "display_data",
       "text": [
        "<IPython.core.display.Javascript at 0x9a0b0128>"
       ]
      },
      {
       "javascript": [
        "$('div#364f6b22-8ae2-46db-bbf1-898a95a7a347').text(' 59%');"
       ],
       "metadata": {},
       "output_type": "display_data",
       "text": [
        "<IPython.core.display.Javascript at 0x9a0b0978>"
       ]
      },
      {
       "javascript": [
        "\n",
        "        var $myPB = $(\"div#0736e303-32d4-474d-be4b-312b314a13c9\")\n",
        "        if ($myPB.hasClass('ui-progressbar')) {\n",
        "            $myPB.progressbar('value', 885);\n",
        "        } else {\n",
        "            $myPB.progressbar({value: 0, max: 1498});\n",
        "        }\n",
        "        "
       ],
       "metadata": {},
       "output_type": "display_data",
       "text": [
        "<IPython.core.display.Javascript at 0x9a0b0d68>"
       ]
      },
      {
       "javascript": [
        "$('div#e62acc24-bc35-4bc8-b5f9-0f93256ec7f5').text('ETA:  0:00:00');"
       ],
       "metadata": {},
       "output_type": "display_data",
       "text": [
        "<IPython.core.display.Javascript at 0x99da7eb8>"
       ]
      },
      {
       "javascript": [
        "$('div#d8a74e46-0d29-4bdf-a5d9-e4589439560c').text('900 of 1498');"
       ],
       "metadata": {},
       "output_type": "display_data",
       "text": [
        "<IPython.core.display.Javascript at 0x9a0b0438>"
       ]
      },
      {
       "javascript": [
        "$('div#364f6b22-8ae2-46db-bbf1-898a95a7a347').text(' 60%');"
       ],
       "metadata": {},
       "output_type": "display_data",
       "text": [
        "<IPython.core.display.Javascript at 0x9a0b0940>"
       ]
      },
      {
       "javascript": [
        "\n",
        "        var $myPB = $(\"div#0736e303-32d4-474d-be4b-312b314a13c9\")\n",
        "        if ($myPB.hasClass('ui-progressbar')) {\n",
        "            $myPB.progressbar('value', 900);\n",
        "        } else {\n",
        "            $myPB.progressbar({value: 0, max: 1498});\n",
        "        }\n",
        "        "
       ],
       "metadata": {},
       "output_type": "display_data",
       "text": [
        "<IPython.core.display.Javascript at 0x9a0b0978>"
       ]
      },
      {
       "javascript": [
        "$('div#e62acc24-bc35-4bc8-b5f9-0f93256ec7f5').text('ETA:  0:00:00');"
       ],
       "metadata": {},
       "output_type": "display_data",
       "text": [
        "<IPython.core.display.Javascript at 0x99da7eb8>"
       ]
      },
      {
       "javascript": [
        "$('div#d8a74e46-0d29-4bdf-a5d9-e4589439560c').text('915 of 1498');"
       ],
       "metadata": {},
       "output_type": "display_data",
       "text": [
        "<IPython.core.display.Javascript at 0x9a0b0978>"
       ]
      },
      {
       "javascript": [
        "$('div#364f6b22-8ae2-46db-bbf1-898a95a7a347').text(' 61%');"
       ],
       "metadata": {},
       "output_type": "display_data",
       "text": [
        "<IPython.core.display.Javascript at 0x9a0b0d30>"
       ]
      },
      {
       "javascript": [
        "\n",
        "        var $myPB = $(\"div#0736e303-32d4-474d-be4b-312b314a13c9\")\n",
        "        if ($myPB.hasClass('ui-progressbar')) {\n",
        "            $myPB.progressbar('value', 915);\n",
        "        } else {\n",
        "            $myPB.progressbar({value: 0, max: 1498});\n",
        "        }\n",
        "        "
       ],
       "metadata": {},
       "output_type": "display_data",
       "text": [
        "<IPython.core.display.Javascript at 0x9a0b0048>"
       ]
      },
      {
       "javascript": [
        "$('div#e62acc24-bc35-4bc8-b5f9-0f93256ec7f5').text('ETA:  0:00:00');"
       ],
       "metadata": {},
       "output_type": "display_data",
       "text": [
        "<IPython.core.display.Javascript at 0x99da7eb8>"
       ]
      },
      {
       "javascript": [
        "$('div#d8a74e46-0d29-4bdf-a5d9-e4589439560c').text('930 of 1498');"
       ],
       "metadata": {},
       "output_type": "display_data",
       "text": [
        "<IPython.core.display.Javascript at 0x9a0b0128>"
       ]
      },
      {
       "javascript": [
        "$('div#364f6b22-8ae2-46db-bbf1-898a95a7a347').text(' 62%');"
       ],
       "metadata": {},
       "output_type": "display_data",
       "text": [
        "<IPython.core.display.Javascript at 0x9a0b0940>"
       ]
      },
      {
       "javascript": [
        "\n",
        "        var $myPB = $(\"div#0736e303-32d4-474d-be4b-312b314a13c9\")\n",
        "        if ($myPB.hasClass('ui-progressbar')) {\n",
        "            $myPB.progressbar('value', 930);\n",
        "        } else {\n",
        "            $myPB.progressbar({value: 0, max: 1498});\n",
        "        }\n",
        "        "
       ],
       "metadata": {},
       "output_type": "display_data",
       "text": [
        "<IPython.core.display.Javascript at 0x9a0b0860>"
       ]
      },
      {
       "javascript": [
        "$('div#e62acc24-bc35-4bc8-b5f9-0f93256ec7f5').text('ETA:  0:00:00');"
       ],
       "metadata": {},
       "output_type": "display_data",
       "text": [
        "<IPython.core.display.Javascript at 0x99da7eb8>"
       ]
      },
      {
       "javascript": [
        "$('div#d8a74e46-0d29-4bdf-a5d9-e4589439560c').text('945 of 1498');"
       ],
       "metadata": {},
       "output_type": "display_data",
       "text": [
        "<IPython.core.display.Javascript at 0x9a0b0860>"
       ]
      },
      {
       "javascript": [
        "$('div#364f6b22-8ae2-46db-bbf1-898a95a7a347').text(' 63%');"
       ],
       "metadata": {},
       "output_type": "display_data",
       "text": [
        "<IPython.core.display.Javascript at 0x9a0b0438>"
       ]
      },
      {
       "javascript": [
        "\n",
        "        var $myPB = $(\"div#0736e303-32d4-474d-be4b-312b314a13c9\")\n",
        "        if ($myPB.hasClass('ui-progressbar')) {\n",
        "            $myPB.progressbar('value', 945);\n",
        "        } else {\n",
        "            $myPB.progressbar({value: 0, max: 1498});\n",
        "        }\n",
        "        "
       ],
       "metadata": {},
       "output_type": "display_data",
       "text": [
        "<IPython.core.display.Javascript at 0x9a0b0898>"
       ]
      },
      {
       "javascript": [
        "$('div#e62acc24-bc35-4bc8-b5f9-0f93256ec7f5').text('ETA:  0:00:00');"
       ],
       "metadata": {},
       "output_type": "display_data",
       "text": [
        "<IPython.core.display.Javascript at 0x99da7eb8>"
       ]
      },
      {
       "javascript": [
        "$('div#d8a74e46-0d29-4bdf-a5d9-e4589439560c').text('960 of 1498');"
       ],
       "metadata": {},
       "output_type": "display_data",
       "text": [
        "<IPython.core.display.Javascript at 0x9a0b0978>"
       ]
      },
      {
       "javascript": [
        "$('div#364f6b22-8ae2-46db-bbf1-898a95a7a347').text(' 64%');"
       ],
       "metadata": {},
       "output_type": "display_data",
       "text": [
        "<IPython.core.display.Javascript at 0x9a0b0630>"
       ]
      },
      {
       "javascript": [
        "\n",
        "        var $myPB = $(\"div#0736e303-32d4-474d-be4b-312b314a13c9\")\n",
        "        if ($myPB.hasClass('ui-progressbar')) {\n",
        "            $myPB.progressbar('value', 960);\n",
        "        } else {\n",
        "            $myPB.progressbar({value: 0, max: 1498});\n",
        "        }\n",
        "        "
       ],
       "metadata": {},
       "output_type": "display_data",
       "text": [
        "<IPython.core.display.Javascript at 0x9a0b0128>"
       ]
      },
      {
       "javascript": [
        "$('div#e62acc24-bc35-4bc8-b5f9-0f93256ec7f5').text('ETA:  0:00:00');"
       ],
       "metadata": {},
       "output_type": "display_data",
       "text": [
        "<IPython.core.display.Javascript at 0x99da7eb8>"
       ]
      },
      {
       "javascript": [
        "$('div#d8a74e46-0d29-4bdf-a5d9-e4589439560c').text('975 of 1498');"
       ],
       "metadata": {},
       "output_type": "display_data",
       "text": [
        "<IPython.core.display.Javascript at 0x9a0b0128>"
       ]
      },
      {
       "javascript": [
        "$('div#364f6b22-8ae2-46db-bbf1-898a95a7a347').text(' 65%');"
       ],
       "metadata": {},
       "output_type": "display_data",
       "text": [
        "<IPython.core.display.Javascript at 0x9a0b0860>"
       ]
      },
      {
       "javascript": [
        "\n",
        "        var $myPB = $(\"div#0736e303-32d4-474d-be4b-312b314a13c9\")\n",
        "        if ($myPB.hasClass('ui-progressbar')) {\n",
        "            $myPB.progressbar('value', 975);\n",
        "        } else {\n",
        "            $myPB.progressbar({value: 0, max: 1498});\n",
        "        }\n",
        "        "
       ],
       "metadata": {},
       "output_type": "display_data",
       "text": [
        "<IPython.core.display.Javascript at 0x9a0b0d30>"
       ]
      },
      {
       "javascript": [
        "$('div#e62acc24-bc35-4bc8-b5f9-0f93256ec7f5').text('ETA:  0:00:00');"
       ],
       "metadata": {},
       "output_type": "display_data",
       "text": [
        "<IPython.core.display.Javascript at 0x99da7eb8>"
       ]
      },
      {
       "javascript": [
        "$('div#d8a74e46-0d29-4bdf-a5d9-e4589439560c').text('990 of 1498');"
       ],
       "metadata": {},
       "output_type": "display_data",
       "text": [
        "<IPython.core.display.Javascript at 0x9a0b0d30>"
       ]
      },
      {
       "javascript": [
        "$('div#364f6b22-8ae2-46db-bbf1-898a95a7a347').text(' 66%');"
       ],
       "metadata": {},
       "output_type": "display_data",
       "text": [
        "<IPython.core.display.Javascript at 0x9a0b0438>"
       ]
      },
      {
       "javascript": [
        "\n",
        "        var $myPB = $(\"div#0736e303-32d4-474d-be4b-312b314a13c9\")\n",
        "        if ($myPB.hasClass('ui-progressbar')) {\n",
        "            $myPB.progressbar('value', 990);\n",
        "        } else {\n",
        "            $myPB.progressbar({value: 0, max: 1498});\n",
        "        }\n",
        "        "
       ],
       "metadata": {},
       "output_type": "display_data",
       "text": [
        "<IPython.core.display.Javascript at 0x9a0b0828>"
       ]
      },
      {
       "javascript": [
        "$('div#e62acc24-bc35-4bc8-b5f9-0f93256ec7f5').text('ETA:  0:00:00');"
       ],
       "metadata": {},
       "output_type": "display_data",
       "text": [
        "<IPython.core.display.Javascript at 0x99da7eb8>"
       ]
      },
      {
       "javascript": [
        "$('div#d8a74e46-0d29-4bdf-a5d9-e4589439560c').text('1005 of 1498');"
       ],
       "metadata": {},
       "output_type": "display_data",
       "text": [
        "<IPython.core.display.Javascript at 0x9a0b0828>"
       ]
      },
      {
       "javascript": [
        "$('div#364f6b22-8ae2-46db-bbf1-898a95a7a347').text(' 67%');"
       ],
       "metadata": {},
       "output_type": "display_data",
       "text": [
        "<IPython.core.display.Javascript at 0x9a0b0780>"
       ]
      },
      {
       "javascript": [
        "\n",
        "        var $myPB = $(\"div#0736e303-32d4-474d-be4b-312b314a13c9\")\n",
        "        if ($myPB.hasClass('ui-progressbar')) {\n",
        "            $myPB.progressbar('value', 1005);\n",
        "        } else {\n",
        "            $myPB.progressbar({value: 0, max: 1498});\n",
        "        }\n",
        "        "
       ],
       "metadata": {},
       "output_type": "display_data",
       "text": [
        "<IPython.core.display.Javascript at 0x9a0b0630>"
       ]
      },
      {
       "javascript": [
        "$('div#e62acc24-bc35-4bc8-b5f9-0f93256ec7f5').text('ETA:  0:00:00');"
       ],
       "metadata": {},
       "output_type": "display_data",
       "text": [
        "<IPython.core.display.Javascript at 0x99da7eb8>"
       ]
      },
      {
       "javascript": [
        "$('div#d8a74e46-0d29-4bdf-a5d9-e4589439560c').text('1020 of 1498');"
       ],
       "metadata": {},
       "output_type": "display_data",
       "text": [
        "<IPython.core.display.Javascript at 0x9a0b0e80>"
       ]
      },
      {
       "javascript": [
        "$('div#364f6b22-8ae2-46db-bbf1-898a95a7a347').text(' 68%');"
       ],
       "metadata": {},
       "output_type": "display_data",
       "text": [
        "<IPython.core.display.Javascript at 0x9a0b0438>"
       ]
      },
      {
       "javascript": [
        "\n",
        "        var $myPB = $(\"div#0736e303-32d4-474d-be4b-312b314a13c9\")\n",
        "        if ($myPB.hasClass('ui-progressbar')) {\n",
        "            $myPB.progressbar('value', 1020);\n",
        "        } else {\n",
        "            $myPB.progressbar({value: 0, max: 1498});\n",
        "        }\n",
        "        "
       ],
       "metadata": {},
       "output_type": "display_data",
       "text": [
        "<IPython.core.display.Javascript at 0x9a0b0128>"
       ]
      },
      {
       "javascript": [
        "$('div#e62acc24-bc35-4bc8-b5f9-0f93256ec7f5').text('ETA:  0:00:00');"
       ],
       "metadata": {},
       "output_type": "display_data",
       "text": [
        "<IPython.core.display.Javascript at 0x99da7eb8>"
       ]
      },
      {
       "javascript": [
        "$('div#d8a74e46-0d29-4bdf-a5d9-e4589439560c').text('1035 of 1498');"
       ],
       "metadata": {},
       "output_type": "display_data",
       "text": [
        "<IPython.core.display.Javascript at 0x9a0b0128>"
       ]
      },
      {
       "javascript": [
        "$('div#364f6b22-8ae2-46db-bbf1-898a95a7a347').text(' 69%');"
       ],
       "metadata": {},
       "output_type": "display_data",
       "text": [
        "<IPython.core.display.Javascript at 0x9a0b0d30>"
       ]
      },
      {
       "javascript": [
        "\n",
        "        var $myPB = $(\"div#0736e303-32d4-474d-be4b-312b314a13c9\")\n",
        "        if ($myPB.hasClass('ui-progressbar')) {\n",
        "            $myPB.progressbar('value', 1035);\n",
        "        } else {\n",
        "            $myPB.progressbar({value: 0, max: 1498});\n",
        "        }\n",
        "        "
       ],
       "metadata": {},
       "output_type": "display_data",
       "text": [
        "<IPython.core.display.Javascript at 0x9a0b0860>"
       ]
      },
      {
       "javascript": [
        "$('div#e62acc24-bc35-4bc8-b5f9-0f93256ec7f5').text('ETA:  0:00:00');"
       ],
       "metadata": {},
       "output_type": "display_data",
       "text": [
        "<IPython.core.display.Javascript at 0x99da7eb8>"
       ]
      },
      {
       "javascript": [
        "$('div#d8a74e46-0d29-4bdf-a5d9-e4589439560c').text('1050 of 1498');"
       ],
       "metadata": {},
       "output_type": "display_data",
       "text": [
        "<IPython.core.display.Javascript at 0x9a0b0438>"
       ]
      },
      {
       "javascript": [
        "$('div#364f6b22-8ae2-46db-bbf1-898a95a7a347').text(' 70%');"
       ],
       "metadata": {},
       "output_type": "display_data",
       "text": [
        "<IPython.core.display.Javascript at 0x9a0b0828>"
       ]
      },
      {
       "javascript": [
        "\n",
        "        var $myPB = $(\"div#0736e303-32d4-474d-be4b-312b314a13c9\")\n",
        "        if ($myPB.hasClass('ui-progressbar')) {\n",
        "            $myPB.progressbar('value', 1050);\n",
        "        } else {\n",
        "            $myPB.progressbar({value: 0, max: 1498});\n",
        "        }\n",
        "        "
       ],
       "metadata": {},
       "output_type": "display_data",
       "text": [
        "<IPython.core.display.Javascript at 0x9a0b0780>"
       ]
      },
      {
       "javascript": [
        "$('div#e62acc24-bc35-4bc8-b5f9-0f93256ec7f5').text('ETA:  0:00:00');"
       ],
       "metadata": {},
       "output_type": "display_data",
       "text": [
        "<IPython.core.display.Javascript at 0x99da7eb8>"
       ]
      },
      {
       "javascript": [
        "$('div#d8a74e46-0d29-4bdf-a5d9-e4589439560c').text('1065 of 1498');"
       ],
       "metadata": {},
       "output_type": "display_data",
       "text": [
        "<IPython.core.display.Javascript at 0x9a0b0d30>"
       ]
      },
      {
       "javascript": [
        "$('div#364f6b22-8ae2-46db-bbf1-898a95a7a347').text(' 71%');"
       ],
       "metadata": {},
       "output_type": "display_data",
       "text": [
        "<IPython.core.display.Javascript at 0x9a0b0eb8>"
       ]
      },
      {
       "javascript": [
        "\n",
        "        var $myPB = $(\"div#0736e303-32d4-474d-be4b-312b314a13c9\")\n",
        "        if ($myPB.hasClass('ui-progressbar')) {\n",
        "            $myPB.progressbar('value', 1065);\n",
        "        } else {\n",
        "            $myPB.progressbar({value: 0, max: 1498});\n",
        "        }\n",
        "        "
       ],
       "metadata": {},
       "output_type": "display_data",
       "text": [
        "<IPython.core.display.Javascript at 0x9a0b0128>"
       ]
      },
      {
       "javascript": [
        "$('div#e62acc24-bc35-4bc8-b5f9-0f93256ec7f5').text('ETA:  0:00:00');"
       ],
       "metadata": {},
       "output_type": "display_data",
       "text": [
        "<IPython.core.display.Javascript at 0x99da7eb8>"
       ]
      },
      {
       "javascript": [
        "$('div#d8a74e46-0d29-4bdf-a5d9-e4589439560c').text('1080 of 1498');"
       ],
       "metadata": {},
       "output_type": "display_data",
       "text": [
        "<IPython.core.display.Javascript at 0x9a0b0e80>"
       ]
      },
      {
       "javascript": [
        "$('div#364f6b22-8ae2-46db-bbf1-898a95a7a347').text(' 72%');"
       ],
       "metadata": {},
       "output_type": "display_data",
       "text": [
        "<IPython.core.display.Javascript at 0x9a0b0080>"
       ]
      },
      {
       "javascript": [
        "\n",
        "        var $myPB = $(\"div#0736e303-32d4-474d-be4b-312b314a13c9\")\n",
        "        if ($myPB.hasClass('ui-progressbar')) {\n",
        "            $myPB.progressbar('value', 1080);\n",
        "        } else {\n",
        "            $myPB.progressbar({value: 0, max: 1498});\n",
        "        }\n",
        "        "
       ],
       "metadata": {},
       "output_type": "display_data",
       "text": [
        "<IPython.core.display.Javascript at 0x9a0b0d30>"
       ]
      },
      {
       "javascript": [
        "$('div#e62acc24-bc35-4bc8-b5f9-0f93256ec7f5').text('ETA:  0:00:00');"
       ],
       "metadata": {},
       "output_type": "display_data",
       "text": [
        "<IPython.core.display.Javascript at 0x9a0b0d30>"
       ]
      },
      {
       "javascript": [
        "$('div#d8a74e46-0d29-4bdf-a5d9-e4589439560c').text('1095 of 1498');"
       ],
       "metadata": {},
       "output_type": "display_data",
       "text": [
        "<IPython.core.display.Javascript at 0x9a0b05f8>"
       ]
      },
      {
       "javascript": [
        "$('div#364f6b22-8ae2-46db-bbf1-898a95a7a347').text(' 73%');"
       ],
       "metadata": {},
       "output_type": "display_data",
       "text": [
        "<IPython.core.display.Javascript at 0x99da7eb8>"
       ]
      },
      {
       "javascript": [
        "\n",
        "        var $myPB = $(\"div#0736e303-32d4-474d-be4b-312b314a13c9\")\n",
        "        if ($myPB.hasClass('ui-progressbar')) {\n",
        "            $myPB.progressbar('value', 1095);\n",
        "        } else {\n",
        "            $myPB.progressbar({value: 0, max: 1498});\n",
        "        }\n",
        "        "
       ],
       "metadata": {},
       "output_type": "display_data",
       "text": [
        "<IPython.core.display.Javascript at 0x9a0b0ef0>"
       ]
      },
      {
       "javascript": [
        "$('div#e62acc24-bc35-4bc8-b5f9-0f93256ec7f5').text('ETA:  0:00:00');"
       ],
       "metadata": {},
       "output_type": "display_data",
       "text": [
        "<IPython.core.display.Javascript at 0x99da7eb8>"
       ]
      },
      {
       "javascript": [
        "$('div#d8a74e46-0d29-4bdf-a5d9-e4589439560c').text('1110 of 1498');"
       ],
       "metadata": {},
       "output_type": "display_data",
       "text": [
        "<IPython.core.display.Javascript at 0x9a0f91d0>"
       ]
      },
      {
       "javascript": [
        "$('div#364f6b22-8ae2-46db-bbf1-898a95a7a347').text(' 74%');"
       ],
       "metadata": {},
       "output_type": "display_data",
       "text": [
        "<IPython.core.display.Javascript at 0x9a0f9f98>"
       ]
      },
      {
       "javascript": [
        "\n",
        "        var $myPB = $(\"div#0736e303-32d4-474d-be4b-312b314a13c9\")\n",
        "        if ($myPB.hasClass('ui-progressbar')) {\n",
        "            $myPB.progressbar('value', 1110);\n",
        "        } else {\n",
        "            $myPB.progressbar({value: 0, max: 1498});\n",
        "        }\n",
        "        "
       ],
       "metadata": {},
       "output_type": "display_data",
       "text": [
        "<IPython.core.display.Javascript at 0x9a0f9320>"
       ]
      },
      {
       "javascript": [
        "$('div#e62acc24-bc35-4bc8-b5f9-0f93256ec7f5').text('ETA:  0:00:00');"
       ],
       "metadata": {},
       "output_type": "display_data",
       "text": [
        "<IPython.core.display.Javascript at 0x99da7eb8>"
       ]
      },
      {
       "javascript": [
        "$('div#d8a74e46-0d29-4bdf-a5d9-e4589439560c').text('1125 of 1498');"
       ],
       "metadata": {},
       "output_type": "display_data",
       "text": [
        "<IPython.core.display.Javascript at 0x9a0f9908>"
       ]
      },
      {
       "javascript": [
        "$('div#364f6b22-8ae2-46db-bbf1-898a95a7a347').text(' 75%');"
       ],
       "metadata": {},
       "output_type": "display_data",
       "text": [
        "<IPython.core.display.Javascript at 0x9a0f9d68>"
       ]
      },
      {
       "javascript": [
        "\n",
        "        var $myPB = $(\"div#0736e303-32d4-474d-be4b-312b314a13c9\")\n",
        "        if ($myPB.hasClass('ui-progressbar')) {\n",
        "            $myPB.progressbar('value', 1125);\n",
        "        } else {\n",
        "            $myPB.progressbar({value: 0, max: 1498});\n",
        "        }\n",
        "        "
       ],
       "metadata": {},
       "output_type": "display_data",
       "text": [
        "<IPython.core.display.Javascript at 0x9a0f9b70>"
       ]
      },
      {
       "javascript": [
        "$('div#e62acc24-bc35-4bc8-b5f9-0f93256ec7f5').text('ETA:  0:00:00');"
       ],
       "metadata": {},
       "output_type": "display_data",
       "text": [
        "<IPython.core.display.Javascript at 0x99da7eb8>"
       ]
      },
      {
       "javascript": [
        "$('div#d8a74e46-0d29-4bdf-a5d9-e4589439560c').text('1140 of 1498');"
       ],
       "metadata": {},
       "output_type": "display_data",
       "text": [
        "<IPython.core.display.Javascript at 0x9a0f9f98>"
       ]
      },
      {
       "javascript": [
        "$('div#364f6b22-8ae2-46db-bbf1-898a95a7a347').text(' 76%');"
       ],
       "metadata": {},
       "output_type": "display_data",
       "text": [
        "<IPython.core.display.Javascript at 0x9a0f9e48>"
       ]
      },
      {
       "javascript": [
        "\n",
        "        var $myPB = $(\"div#0736e303-32d4-474d-be4b-312b314a13c9\")\n",
        "        if ($myPB.hasClass('ui-progressbar')) {\n",
        "            $myPB.progressbar('value', 1140);\n",
        "        } else {\n",
        "            $myPB.progressbar({value: 0, max: 1498});\n",
        "        }\n",
        "        "
       ],
       "metadata": {},
       "output_type": "display_data",
       "text": [
        "<IPython.core.display.Javascript at 0x9a0f9908>"
       ]
      },
      {
       "javascript": [
        "$('div#e62acc24-bc35-4bc8-b5f9-0f93256ec7f5').text('ETA:  0:00:00');"
       ],
       "metadata": {},
       "output_type": "display_data",
       "text": [
        "<IPython.core.display.Javascript at 0x99da7eb8>"
       ]
      },
      {
       "javascript": [
        "$('div#d8a74e46-0d29-4bdf-a5d9-e4589439560c').text('1155 of 1498');"
       ],
       "metadata": {},
       "output_type": "display_data",
       "text": [
        "<IPython.core.display.Javascript at 0x9a0f9908>"
       ]
      },
      {
       "javascript": [
        "$('div#364f6b22-8ae2-46db-bbf1-898a95a7a347').text(' 77%');"
       ],
       "metadata": {},
       "output_type": "display_data",
       "text": [
        "<IPython.core.display.Javascript at 0x9a0f9b00>"
       ]
      },
      {
       "javascript": [
        "\n",
        "        var $myPB = $(\"div#0736e303-32d4-474d-be4b-312b314a13c9\")\n",
        "        if ($myPB.hasClass('ui-progressbar')) {\n",
        "            $myPB.progressbar('value', 1155);\n",
        "        } else {\n",
        "            $myPB.progressbar({value: 0, max: 1498});\n",
        "        }\n",
        "        "
       ],
       "metadata": {},
       "output_type": "display_data",
       "text": [
        "<IPython.core.display.Javascript at 0x9a0f9d68>"
       ]
      },
      {
       "javascript": [
        "$('div#e62acc24-bc35-4bc8-b5f9-0f93256ec7f5').text('ETA:  0:00:00');"
       ],
       "metadata": {},
       "output_type": "display_data",
       "text": [
        "<IPython.core.display.Javascript at 0x99da7eb8>"
       ]
      },
      {
       "javascript": [
        "$('div#d8a74e46-0d29-4bdf-a5d9-e4589439560c').text('1170 of 1498');"
       ],
       "metadata": {},
       "output_type": "display_data",
       "text": [
        "<IPython.core.display.Javascript at 0x9a0f92b0>"
       ]
      },
      {
       "javascript": [
        "$('div#364f6b22-8ae2-46db-bbf1-898a95a7a347').text(' 78%');"
       ],
       "metadata": {},
       "output_type": "display_data",
       "text": [
        "<IPython.core.display.Javascript at 0x9a0f9e48>"
       ]
      },
      {
       "javascript": [
        "\n",
        "        var $myPB = $(\"div#0736e303-32d4-474d-be4b-312b314a13c9\")\n",
        "        if ($myPB.hasClass('ui-progressbar')) {\n",
        "            $myPB.progressbar('value', 1170);\n",
        "        } else {\n",
        "            $myPB.progressbar({value: 0, max: 1498});\n",
        "        }\n",
        "        "
       ],
       "metadata": {},
       "output_type": "display_data",
       "text": [
        "<IPython.core.display.Javascript at 0x9a0f9550>"
       ]
      },
      {
       "javascript": [
        "$('div#e62acc24-bc35-4bc8-b5f9-0f93256ec7f5').text('ETA:  0:00:00');"
       ],
       "metadata": {},
       "output_type": "display_data",
       "text": [
        "<IPython.core.display.Javascript at 0x99da7eb8>"
       ]
      },
      {
       "javascript": [
        "$('div#d8a74e46-0d29-4bdf-a5d9-e4589439560c').text('1185 of 1498');"
       ],
       "metadata": {},
       "output_type": "display_data",
       "text": [
        "<IPython.core.display.Javascript at 0x9a0f9e48>"
       ]
      },
      {
       "javascript": [
        "$('div#364f6b22-8ae2-46db-bbf1-898a95a7a347').text(' 79%');"
       ],
       "metadata": {},
       "output_type": "display_data",
       "text": [
        "<IPython.core.display.Javascript at 0x9a0f92b0>"
       ]
      },
      {
       "javascript": [
        "\n",
        "        var $myPB = $(\"div#0736e303-32d4-474d-be4b-312b314a13c9\")\n",
        "        if ($myPB.hasClass('ui-progressbar')) {\n",
        "            $myPB.progressbar('value', 1185);\n",
        "        } else {\n",
        "            $myPB.progressbar({value: 0, max: 1498});\n",
        "        }\n",
        "        "
       ],
       "metadata": {},
       "output_type": "display_data",
       "text": [
        "<IPython.core.display.Javascript at 0x9a0f92e8>"
       ]
      },
      {
       "javascript": [
        "$('div#e62acc24-bc35-4bc8-b5f9-0f93256ec7f5').text('ETA:  0:00:00');"
       ],
       "metadata": {},
       "output_type": "display_data",
       "text": [
        "<IPython.core.display.Javascript at 0x99da7eb8>"
       ]
      },
      {
       "javascript": [
        "$('div#d8a74e46-0d29-4bdf-a5d9-e4589439560c').text('1200 of 1498');"
       ],
       "metadata": {},
       "output_type": "display_data",
       "text": [
        "<IPython.core.display.Javascript at 0x9a0f9f28>"
       ]
      },
      {
       "javascript": [
        "$('div#364f6b22-8ae2-46db-bbf1-898a95a7a347').text(' 80%');"
       ],
       "metadata": {},
       "output_type": "display_data",
       "text": [
        "<IPython.core.display.Javascript at 0x9a0f9dd8>"
       ]
      },
      {
       "javascript": [
        "\n",
        "        var $myPB = $(\"div#0736e303-32d4-474d-be4b-312b314a13c9\")\n",
        "        if ($myPB.hasClass('ui-progressbar')) {\n",
        "            $myPB.progressbar('value', 1200);\n",
        "        } else {\n",
        "            $myPB.progressbar({value: 0, max: 1498});\n",
        "        }\n",
        "        "
       ],
       "metadata": {},
       "output_type": "display_data",
       "text": [
        "<IPython.core.display.Javascript at 0x9a0f9c18>"
       ]
      },
      {
       "javascript": [
        "$('div#e62acc24-bc35-4bc8-b5f9-0f93256ec7f5').text('ETA:  0:00:00');"
       ],
       "metadata": {},
       "output_type": "display_data",
       "text": [
        "<IPython.core.display.Javascript at 0x99da7eb8>"
       ]
      },
      {
       "javascript": [
        "$('div#d8a74e46-0d29-4bdf-a5d9-e4589439560c').text('1215 of 1498');"
       ],
       "metadata": {},
       "output_type": "display_data",
       "text": [
        "<IPython.core.display.Javascript at 0x9a0f9208>"
       ]
      },
      {
       "javascript": [
        "$('div#364f6b22-8ae2-46db-bbf1-898a95a7a347').text(' 81%');"
       ],
       "metadata": {},
       "output_type": "display_data",
       "text": [
        "<IPython.core.display.Javascript at 0x9a0f9d30>"
       ]
      },
      {
       "javascript": [
        "\n",
        "        var $myPB = $(\"div#0736e303-32d4-474d-be4b-312b314a13c9\")\n",
        "        if ($myPB.hasClass('ui-progressbar')) {\n",
        "            $myPB.progressbar('value', 1215);\n",
        "        } else {\n",
        "            $myPB.progressbar({value: 0, max: 1498});\n",
        "        }\n",
        "        "
       ],
       "metadata": {},
       "output_type": "display_data",
       "text": [
        "<IPython.core.display.Javascript at 0x9a0f9048>"
       ]
      },
      {
       "javascript": [
        "$('div#e62acc24-bc35-4bc8-b5f9-0f93256ec7f5').text('ETA:  0:00:00');"
       ],
       "metadata": {},
       "output_type": "display_data",
       "text": [
        "<IPython.core.display.Javascript at 0x99da7eb8>"
       ]
      },
      {
       "javascript": [
        "$('div#d8a74e46-0d29-4bdf-a5d9-e4589439560c').text('1230 of 1498');"
       ],
       "metadata": {},
       "output_type": "display_data",
       "text": [
        "<IPython.core.display.Javascript at 0x9a0f9240>"
       ]
      },
      {
       "javascript": [
        "$('div#364f6b22-8ae2-46db-bbf1-898a95a7a347').text(' 82%');"
       ],
       "metadata": {},
       "output_type": "display_data",
       "text": [
        "<IPython.core.display.Javascript at 0x9a0f9400>"
       ]
      },
      {
       "javascript": [
        "\n",
        "        var $myPB = $(\"div#0736e303-32d4-474d-be4b-312b314a13c9\")\n",
        "        if ($myPB.hasClass('ui-progressbar')) {\n",
        "            $myPB.progressbar('value', 1230);\n",
        "        } else {\n",
        "            $myPB.progressbar({value: 0, max: 1498});\n",
        "        }\n",
        "        "
       ],
       "metadata": {},
       "output_type": "display_data",
       "text": [
        "<IPython.core.display.Javascript at 0x9a0f9208>"
       ]
      },
      {
       "javascript": [
        "$('div#e62acc24-bc35-4bc8-b5f9-0f93256ec7f5').text('ETA:  0:00:00');"
       ],
       "metadata": {},
       "output_type": "display_data",
       "text": [
        "<IPython.core.display.Javascript at 0x99da7eb8>"
       ]
      },
      {
       "javascript": [
        "$('div#d8a74e46-0d29-4bdf-a5d9-e4589439560c').text('1245 of 1498');"
       ],
       "metadata": {},
       "output_type": "display_data",
       "text": [
        "<IPython.core.display.Javascript at 0x9a0f9208>"
       ]
      },
      {
       "javascript": [
        "$('div#364f6b22-8ae2-46db-bbf1-898a95a7a347').text(' 83%');"
       ],
       "metadata": {},
       "output_type": "display_data",
       "text": [
        "<IPython.core.display.Javascript at 0x9a0f94a8>"
       ]
      },
      {
       "javascript": [
        "\n",
        "        var $myPB = $(\"div#0736e303-32d4-474d-be4b-312b314a13c9\")\n",
        "        if ($myPB.hasClass('ui-progressbar')) {\n",
        "            $myPB.progressbar('value', 1245);\n",
        "        } else {\n",
        "            $myPB.progressbar({value: 0, max: 1498});\n",
        "        }\n",
        "        "
       ],
       "metadata": {},
       "output_type": "display_data",
       "text": [
        "<IPython.core.display.Javascript at 0x9a0f9d30>"
       ]
      },
      {
       "javascript": [
        "$('div#e62acc24-bc35-4bc8-b5f9-0f93256ec7f5').text('ETA:  0:00:00');"
       ],
       "metadata": {},
       "output_type": "display_data",
       "text": [
        "<IPython.core.display.Javascript at 0x99da7eb8>"
       ]
      },
      {
       "javascript": [
        "$('div#d8a74e46-0d29-4bdf-a5d9-e4589439560c').text('1260 of 1498');"
       ],
       "metadata": {},
       "output_type": "display_data",
       "text": [
        "<IPython.core.display.Javascript at 0x9a0f9f60>"
       ]
      },
      {
       "javascript": [
        "$('div#364f6b22-8ae2-46db-bbf1-898a95a7a347').text(' 84%');"
       ],
       "metadata": {},
       "output_type": "display_data",
       "text": [
        "<IPython.core.display.Javascript at 0x9a0f98d0>"
       ]
      },
      {
       "javascript": [
        "\n",
        "        var $myPB = $(\"div#0736e303-32d4-474d-be4b-312b314a13c9\")\n",
        "        if ($myPB.hasClass('ui-progressbar')) {\n",
        "            $myPB.progressbar('value', 1260);\n",
        "        } else {\n",
        "            $myPB.progressbar({value: 0, max: 1498});\n",
        "        }\n",
        "        "
       ],
       "metadata": {},
       "output_type": "display_data",
       "text": [
        "<IPython.core.display.Javascript at 0x9a0f9240>"
       ]
      },
      {
       "javascript": [
        "$('div#e62acc24-bc35-4bc8-b5f9-0f93256ec7f5').text('ETA:  0:00:00');"
       ],
       "metadata": {},
       "output_type": "display_data",
       "text": [
        "<IPython.core.display.Javascript at 0x99da7eb8>"
       ]
      },
      {
       "javascript": [
        "$('div#d8a74e46-0d29-4bdf-a5d9-e4589439560c').text('1275 of 1498');"
       ],
       "metadata": {},
       "output_type": "display_data",
       "text": [
        "<IPython.core.display.Javascript at 0x9a0f93c8>"
       ]
      },
      {
       "javascript": [
        "$('div#364f6b22-8ae2-46db-bbf1-898a95a7a347').text(' 85%');"
       ],
       "metadata": {},
       "output_type": "display_data",
       "text": [
        "<IPython.core.display.Javascript at 0x9a0f95f8>"
       ]
      },
      {
       "javascript": [
        "\n",
        "        var $myPB = $(\"div#0736e303-32d4-474d-be4b-312b314a13c9\")\n",
        "        if ($myPB.hasClass('ui-progressbar')) {\n",
        "            $myPB.progressbar('value', 1275);\n",
        "        } else {\n",
        "            $myPB.progressbar({value: 0, max: 1498});\n",
        "        }\n",
        "        "
       ],
       "metadata": {},
       "output_type": "display_data",
       "text": [
        "<IPython.core.display.Javascript at 0x9a0f99e8>"
       ]
      },
      {
       "javascript": [
        "$('div#e62acc24-bc35-4bc8-b5f9-0f93256ec7f5').text('ETA:  0:00:00');"
       ],
       "metadata": {},
       "output_type": "display_data",
       "text": [
        "<IPython.core.display.Javascript at 0x99da7eb8>"
       ]
      },
      {
       "javascript": [
        "$('div#d8a74e46-0d29-4bdf-a5d9-e4589439560c').text('1290 of 1498');"
       ],
       "metadata": {},
       "output_type": "display_data",
       "text": [
        "<IPython.core.display.Javascript at 0x9a0f9f60>"
       ]
      },
      {
       "javascript": [
        "$('div#364f6b22-8ae2-46db-bbf1-898a95a7a347').text(' 86%');"
       ],
       "metadata": {},
       "output_type": "display_data",
       "text": [
        "<IPython.core.display.Javascript at 0x9a0f9c88>"
       ]
      },
      {
       "javascript": [
        "\n",
        "        var $myPB = $(\"div#0736e303-32d4-474d-be4b-312b314a13c9\")\n",
        "        if ($myPB.hasClass('ui-progressbar')) {\n",
        "            $myPB.progressbar('value', 1290);\n",
        "        } else {\n",
        "            $myPB.progressbar({value: 0, max: 1498});\n",
        "        }\n",
        "        "
       ],
       "metadata": {},
       "output_type": "display_data",
       "text": [
        "<IPython.core.display.Javascript at 0x9a0f97b8>"
       ]
      },
      {
       "javascript": [
        "$('div#e62acc24-bc35-4bc8-b5f9-0f93256ec7f5').text('ETA:  0:00:00');"
       ],
       "metadata": {},
       "output_type": "display_data",
       "text": [
        "<IPython.core.display.Javascript at 0x99da7eb8>"
       ]
      },
      {
       "javascript": [
        "$('div#d8a74e46-0d29-4bdf-a5d9-e4589439560c').text('1305 of 1498');"
       ],
       "metadata": {},
       "output_type": "display_data",
       "text": [
        "<IPython.core.display.Javascript at 0x9a0f97b8>"
       ]
      },
      {
       "javascript": [
        "$('div#364f6b22-8ae2-46db-bbf1-898a95a7a347').text(' 87%');"
       ],
       "metadata": {},
       "output_type": "display_data",
       "text": [
        "<IPython.core.display.Javascript at 0x9a0f9cf8>"
       ]
      },
      {
       "javascript": [
        "\n",
        "        var $myPB = $(\"div#0736e303-32d4-474d-be4b-312b314a13c9\")\n",
        "        if ($myPB.hasClass('ui-progressbar')) {\n",
        "            $myPB.progressbar('value', 1305);\n",
        "        } else {\n",
        "            $myPB.progressbar({value: 0, max: 1498});\n",
        "        }\n",
        "        "
       ],
       "metadata": {},
       "output_type": "display_data",
       "text": [
        "<IPython.core.display.Javascript at 0x9a0f94a8>"
       ]
      },
      {
       "javascript": [
        "$('div#e62acc24-bc35-4bc8-b5f9-0f93256ec7f5').text('ETA:  0:00:00');"
       ],
       "metadata": {},
       "output_type": "display_data",
       "text": [
        "<IPython.core.display.Javascript at 0x99da7eb8>"
       ]
      },
      {
       "javascript": [
        "$('div#d8a74e46-0d29-4bdf-a5d9-e4589439560c').text('1320 of 1498');"
       ],
       "metadata": {},
       "output_type": "display_data",
       "text": [
        "<IPython.core.display.Javascript at 0x9a0f98d0>"
       ]
      },
      {
       "javascript": [
        "$('div#364f6b22-8ae2-46db-bbf1-898a95a7a347').text(' 88%');"
       ],
       "metadata": {},
       "output_type": "display_data",
       "text": [
        "<IPython.core.display.Javascript at 0x9a0f9c88>"
       ]
      },
      {
       "javascript": [
        "\n",
        "        var $myPB = $(\"div#0736e303-32d4-474d-be4b-312b314a13c9\")\n",
        "        if ($myPB.hasClass('ui-progressbar')) {\n",
        "            $myPB.progressbar('value', 1320);\n",
        "        } else {\n",
        "            $myPB.progressbar({value: 0, max: 1498});\n",
        "        }\n",
        "        "
       ],
       "metadata": {},
       "output_type": "display_data",
       "text": [
        "<IPython.core.display.Javascript at 0x9a0f9a58>"
       ]
      },
      {
       "javascript": [
        "$('div#e62acc24-bc35-4bc8-b5f9-0f93256ec7f5').text('ETA:  0:00:00');"
       ],
       "metadata": {},
       "output_type": "display_data",
       "text": [
        "<IPython.core.display.Javascript at 0x99da7eb8>"
       ]
      },
      {
       "javascript": [
        "$('div#d8a74e46-0d29-4bdf-a5d9-e4589439560c').text('1335 of 1498');"
       ],
       "metadata": {},
       "output_type": "display_data",
       "text": [
        "<IPython.core.display.Javascript at 0x9a0f9a58>"
       ]
      },
      {
       "javascript": [
        "$('div#364f6b22-8ae2-46db-bbf1-898a95a7a347').text(' 89%');"
       ],
       "metadata": {},
       "output_type": "display_data",
       "text": [
        "<IPython.core.display.Javascript at 0x9a0f9f60>"
       ]
      },
      {
       "javascript": [
        "\n",
        "        var $myPB = $(\"div#0736e303-32d4-474d-be4b-312b314a13c9\")\n",
        "        if ($myPB.hasClass('ui-progressbar')) {\n",
        "            $myPB.progressbar('value', 1335);\n",
        "        } else {\n",
        "            $myPB.progressbar({value: 0, max: 1498});\n",
        "        }\n",
        "        "
       ],
       "metadata": {},
       "output_type": "display_data",
       "text": [
        "<IPython.core.display.Javascript at 0x9a0f93c8>"
       ]
      },
      {
       "javascript": [
        "$('div#e62acc24-bc35-4bc8-b5f9-0f93256ec7f5').text('ETA:  0:00:00');"
       ],
       "metadata": {},
       "output_type": "display_data",
       "text": [
        "<IPython.core.display.Javascript at 0x99da7eb8>"
       ]
      },
      {
       "javascript": [
        "$('div#d8a74e46-0d29-4bdf-a5d9-e4589439560c').text('1350 of 1498');"
       ],
       "metadata": {},
       "output_type": "display_data",
       "text": [
        "<IPython.core.display.Javascript at 0x9a0f98d0>"
       ]
      },
      {
       "javascript": [
        "$('div#364f6b22-8ae2-46db-bbf1-898a95a7a347').text(' 90%');"
       ],
       "metadata": {},
       "output_type": "display_data",
       "text": [
        "<IPython.core.display.Javascript at 0x9a0f9f60>"
       ]
      },
      {
       "javascript": [
        "\n",
        "        var $myPB = $(\"div#0736e303-32d4-474d-be4b-312b314a13c9\")\n",
        "        if ($myPB.hasClass('ui-progressbar')) {\n",
        "            $myPB.progressbar('value', 1350);\n",
        "        } else {\n",
        "            $myPB.progressbar({value: 0, max: 1498});\n",
        "        }\n",
        "        "
       ],
       "metadata": {},
       "output_type": "display_data",
       "text": [
        "<IPython.core.display.Javascript at 0x9a0f9438>"
       ]
      },
      {
       "javascript": [
        "$('div#e62acc24-bc35-4bc8-b5f9-0f93256ec7f5').text('ETA:  0:00:00');"
       ],
       "metadata": {},
       "output_type": "display_data",
       "text": [
        "<IPython.core.display.Javascript at 0x99da7eb8>"
       ]
      },
      {
       "javascript": [
        "$('div#d8a74e46-0d29-4bdf-a5d9-e4589439560c').text('1365 of 1498');"
       ],
       "metadata": {},
       "output_type": "display_data",
       "text": [
        "<IPython.core.display.Javascript at 0x9a0f90b8>"
       ]
      },
      {
       "javascript": [
        "$('div#364f6b22-8ae2-46db-bbf1-898a95a7a347').text(' 91%');"
       ],
       "metadata": {},
       "output_type": "display_data",
       "text": [
        "<IPython.core.display.Javascript at 0x9a0f9a58>"
       ]
      },
      {
       "javascript": [
        "\n",
        "        var $myPB = $(\"div#0736e303-32d4-474d-be4b-312b314a13c9\")\n",
        "        if ($myPB.hasClass('ui-progressbar')) {\n",
        "            $myPB.progressbar('value', 1365);\n",
        "        } else {\n",
        "            $myPB.progressbar({value: 0, max: 1498});\n",
        "        }\n",
        "        "
       ],
       "metadata": {},
       "output_type": "display_data",
       "text": [
        "<IPython.core.display.Javascript at 0x9a0f9a20>"
       ]
      },
      {
       "javascript": [
        "$('div#e62acc24-bc35-4bc8-b5f9-0f93256ec7f5').text('ETA:  0:00:00');"
       ],
       "metadata": {},
       "output_type": "display_data",
       "text": [
        "<IPython.core.display.Javascript at 0x99da7eb8>"
       ]
      },
      {
       "javascript": [
        "$('div#d8a74e46-0d29-4bdf-a5d9-e4589439560c').text('1380 of 1498');"
       ],
       "metadata": {},
       "output_type": "display_data",
       "text": [
        "<IPython.core.display.Javascript at 0x9a0f9a20>"
       ]
      },
      {
       "javascript": [
        "$('div#364f6b22-8ae2-46db-bbf1-898a95a7a347').text(' 92%');"
       ],
       "metadata": {},
       "output_type": "display_data",
       "text": [
        "<IPython.core.display.Javascript at 0x9a0f9f60>"
       ]
      },
      {
       "javascript": [
        "\n",
        "        var $myPB = $(\"div#0736e303-32d4-474d-be4b-312b314a13c9\")\n",
        "        if ($myPB.hasClass('ui-progressbar')) {\n",
        "            $myPB.progressbar('value', 1380);\n",
        "        } else {\n",
        "            $myPB.progressbar({value: 0, max: 1498});\n",
        "        }\n",
        "        "
       ],
       "metadata": {},
       "output_type": "display_data",
       "text": [
        "<IPython.core.display.Javascript at 0x9a0f9fd0>"
       ]
      },
      {
       "javascript": [
        "$('div#e62acc24-bc35-4bc8-b5f9-0f93256ec7f5').text('ETA:  0:00:00');"
       ],
       "metadata": {},
       "output_type": "display_data",
       "text": [
        "<IPython.core.display.Javascript at 0x99da7eb8>"
       ]
      },
      {
       "javascript": [
        "$('div#d8a74e46-0d29-4bdf-a5d9-e4589439560c').text('1395 of 1498');"
       ],
       "metadata": {},
       "output_type": "display_data",
       "text": [
        "<IPython.core.display.Javascript at 0x9a0f9eb8>"
       ]
      },
      {
       "javascript": [
        "$('div#364f6b22-8ae2-46db-bbf1-898a95a7a347').text(' 93%');"
       ],
       "metadata": {},
       "output_type": "display_data",
       "text": [
        "<IPython.core.display.Javascript at 0x9a0f9a58>"
       ]
      },
      {
       "javascript": [
        "\n",
        "        var $myPB = $(\"div#0736e303-32d4-474d-be4b-312b314a13c9\")\n",
        "        if ($myPB.hasClass('ui-progressbar')) {\n",
        "            $myPB.progressbar('value', 1395);\n",
        "        } else {\n",
        "            $myPB.progressbar({value: 0, max: 1498});\n",
        "        }\n",
        "        "
       ],
       "metadata": {},
       "output_type": "display_data",
       "text": [
        "<IPython.core.display.Javascript at 0x9a0f9828>"
       ]
      },
      {
       "javascript": [
        "$('div#e62acc24-bc35-4bc8-b5f9-0f93256ec7f5').text('ETA:  0:00:00');"
       ],
       "metadata": {},
       "output_type": "display_data",
       "text": [
        "<IPython.core.display.Javascript at 0x99da7eb8>"
       ]
      },
      {
       "javascript": [
        "$('div#d8a74e46-0d29-4bdf-a5d9-e4589439560c').text('1410 of 1498');"
       ],
       "metadata": {},
       "output_type": "display_data",
       "text": [
        "<IPython.core.display.Javascript at 0x9a0f9f60>"
       ]
      },
      {
       "javascript": [
        "$('div#364f6b22-8ae2-46db-bbf1-898a95a7a347').text(' 94%');"
       ],
       "metadata": {},
       "output_type": "display_data",
       "text": [
        "<IPython.core.display.Javascript at 0x9a0f98d0>"
       ]
      },
      {
       "javascript": [
        "\n",
        "        var $myPB = $(\"div#0736e303-32d4-474d-be4b-312b314a13c9\")\n",
        "        if ($myPB.hasClass('ui-progressbar')) {\n",
        "            $myPB.progressbar('value', 1410);\n",
        "        } else {\n",
        "            $myPB.progressbar({value: 0, max: 1498});\n",
        "        }\n",
        "        "
       ],
       "metadata": {},
       "output_type": "display_data",
       "text": [
        "<IPython.core.display.Javascript at 0x9a0f9a58>"
       ]
      },
      {
       "javascript": [
        "$('div#e62acc24-bc35-4bc8-b5f9-0f93256ec7f5').text('ETA:  0:00:00');"
       ],
       "metadata": {},
       "output_type": "display_data",
       "text": [
        "<IPython.core.display.Javascript at 0x99da7eb8>"
       ]
      },
      {
       "javascript": [
        "$('div#d8a74e46-0d29-4bdf-a5d9-e4589439560c').text('1425 of 1498');"
       ],
       "metadata": {},
       "output_type": "display_data",
       "text": [
        "<IPython.core.display.Javascript at 0x9a0f90f0>"
       ]
      },
      {
       "javascript": [
        "$('div#364f6b22-8ae2-46db-bbf1-898a95a7a347').text(' 95%');"
       ],
       "metadata": {},
       "output_type": "display_data",
       "text": [
        "<IPython.core.display.Javascript at 0x9a0f9668>"
       ]
      },
      {
       "javascript": [
        "\n",
        "        var $myPB = $(\"div#0736e303-32d4-474d-be4b-312b314a13c9\")\n",
        "        if ($myPB.hasClass('ui-progressbar')) {\n",
        "            $myPB.progressbar('value', 1425);\n",
        "        } else {\n",
        "            $myPB.progressbar({value: 0, max: 1498});\n",
        "        }\n",
        "        "
       ],
       "metadata": {},
       "output_type": "display_data",
       "text": [
        "<IPython.core.display.Javascript at 0x9a0f9eb8>"
       ]
      },
      {
       "javascript": [
        "$('div#e62acc24-bc35-4bc8-b5f9-0f93256ec7f5').text('ETA:  0:00:00');"
       ],
       "metadata": {},
       "output_type": "display_data",
       "text": [
        "<IPython.core.display.Javascript at 0x99da7eb8>"
       ]
      },
      {
       "javascript": [
        "$('div#d8a74e46-0d29-4bdf-a5d9-e4589439560c').text('1440 of 1498');"
       ],
       "metadata": {},
       "output_type": "display_data",
       "text": [
        "<IPython.core.display.Javascript at 0x9a0f9eb8>"
       ]
      },
      {
       "javascript": [
        "$('div#364f6b22-8ae2-46db-bbf1-898a95a7a347').text(' 96%');"
       ],
       "metadata": {},
       "output_type": "display_data",
       "text": [
        "<IPython.core.display.Javascript at 0x9a0f98d0>"
       ]
      },
      {
       "javascript": [
        "\n",
        "        var $myPB = $(\"div#0736e303-32d4-474d-be4b-312b314a13c9\")\n",
        "        if ($myPB.hasClass('ui-progressbar')) {\n",
        "            $myPB.progressbar('value', 1440);\n",
        "        } else {\n",
        "            $myPB.progressbar({value: 0, max: 1498});\n",
        "        }\n",
        "        "
       ],
       "metadata": {},
       "output_type": "display_data",
       "text": [
        "<IPython.core.display.Javascript at 0x9a0f9e10>"
       ]
      },
      {
       "javascript": [
        "$('div#e62acc24-bc35-4bc8-b5f9-0f93256ec7f5').text('ETA:  0:00:00');"
       ],
       "metadata": {},
       "output_type": "display_data",
       "text": [
        "<IPython.core.display.Javascript at 0x99da7eb8>"
       ]
      },
      {
       "javascript": [
        "$('div#d8a74e46-0d29-4bdf-a5d9-e4589439560c').text('1455 of 1498');"
       ],
       "metadata": {},
       "output_type": "display_data",
       "text": [
        "<IPython.core.display.Javascript at 0x9a0f9978>"
       ]
      },
      {
       "javascript": [
        "$('div#364f6b22-8ae2-46db-bbf1-898a95a7a347').text(' 97%');"
       ],
       "metadata": {},
       "output_type": "display_data",
       "text": [
        "<IPython.core.display.Javascript at 0x9a0f9f60>"
       ]
      },
      {
       "javascript": [
        "\n",
        "        var $myPB = $(\"div#0736e303-32d4-474d-be4b-312b314a13c9\")\n",
        "        if ($myPB.hasClass('ui-progressbar')) {\n",
        "            $myPB.progressbar('value', 1455);\n",
        "        } else {\n",
        "            $myPB.progressbar({value: 0, max: 1498});\n",
        "        }\n",
        "        "
       ],
       "metadata": {},
       "output_type": "display_data",
       "text": [
        "<IPython.core.display.Javascript at 0x9a0f98d0>"
       ]
      },
      {
       "javascript": [
        "$('div#e62acc24-bc35-4bc8-b5f9-0f93256ec7f5').text('ETA:  0:00:00');"
       ],
       "metadata": {},
       "output_type": "display_data",
       "text": [
        "<IPython.core.display.Javascript at 0x99da7eb8>"
       ]
      },
      {
       "javascript": [
        "$('div#d8a74e46-0d29-4bdf-a5d9-e4589439560c').text('1470 of 1498');"
       ],
       "metadata": {},
       "output_type": "display_data",
       "text": [
        "<IPython.core.display.Javascript at 0x9a0f9da0>"
       ]
      },
      {
       "javascript": [
        "$('div#364f6b22-8ae2-46db-bbf1-898a95a7a347').text(' 98%');"
       ],
       "metadata": {},
       "output_type": "display_data",
       "text": [
        "<IPython.core.display.Javascript at 0x9a0f9128>"
       ]
      },
      {
       "javascript": [
        "\n",
        "        var $myPB = $(\"div#0736e303-32d4-474d-be4b-312b314a13c9\")\n",
        "        if ($myPB.hasClass('ui-progressbar')) {\n",
        "            $myPB.progressbar('value', 1470);\n",
        "        } else {\n",
        "            $myPB.progressbar({value: 0, max: 1498});\n",
        "        }\n",
        "        "
       ],
       "metadata": {},
       "output_type": "display_data",
       "text": [
        "<IPython.core.display.Javascript at 0x9a0f9710>"
       ]
      },
      {
       "javascript": [
        "$('div#e62acc24-bc35-4bc8-b5f9-0f93256ec7f5').text('ETA:  0:00:00');"
       ],
       "metadata": {},
       "output_type": "display_data",
       "text": [
        "<IPython.core.display.Javascript at 0x9a0f9710>"
       ]
      },
      {
       "javascript": [
        "$('div#d8a74e46-0d29-4bdf-a5d9-e4589439560c').text('1485 of 1498');"
       ],
       "metadata": {},
       "output_type": "display_data",
       "text": [
        "<IPython.core.display.Javascript at 0x9a0f9da0>"
       ]
      },
      {
       "javascript": [
        "$('div#364f6b22-8ae2-46db-bbf1-898a95a7a347').text(' 99%');"
       ],
       "metadata": {},
       "output_type": "display_data",
       "text": [
        "<IPython.core.display.Javascript at 0x99da7eb8>"
       ]
      },
      {
       "javascript": [
        "\n",
        "        var $myPB = $(\"div#0736e303-32d4-474d-be4b-312b314a13c9\")\n",
        "        if ($myPB.hasClass('ui-progressbar')) {\n",
        "            $myPB.progressbar('value', 1485);\n",
        "        } else {\n",
        "            $myPB.progressbar({value: 0, max: 1498});\n",
        "        }\n",
        "        "
       ],
       "metadata": {},
       "output_type": "display_data",
       "text": [
        "<IPython.core.display.Javascript at 0x9a0f94e0>"
       ]
      },
      {
       "javascript": [
        "$('div#e62acc24-bc35-4bc8-b5f9-0f93256ec7f5').text('ETA:  0:00:00');"
       ],
       "metadata": {},
       "output_type": "display_data",
       "text": [
        "<IPython.core.display.Javascript at 0x99da7eb8>"
       ]
      },
      {
       "javascript": [
        "$('div#d8a74e46-0d29-4bdf-a5d9-e4589439560c').text('1498 of 1498');"
       ],
       "metadata": {},
       "output_type": "display_data",
       "text": [
        "<IPython.core.display.Javascript at 0x9a0a12e8>"
       ]
      },
      {
       "javascript": [
        "$('div#364f6b22-8ae2-46db-bbf1-898a95a7a347').text('100%');"
       ],
       "metadata": {},
       "output_type": "display_data",
       "text": [
        "<IPython.core.display.Javascript at 0x9a0f9da0>"
       ]
      },
      {
       "javascript": [
        "\n",
        "        var $myPB = $(\"div#0736e303-32d4-474d-be4b-312b314a13c9\")\n",
        "        if ($myPB.hasClass('ui-progressbar')) {\n",
        "            $myPB.progressbar('value', 1498);\n",
        "        } else {\n",
        "            $myPB.progressbar({value: 0, max: 1498});\n",
        "        }\n",
        "        "
       ],
       "metadata": {},
       "output_type": "display_data",
       "text": [
        "<IPython.core.display.Javascript at 0x9a0f9080>"
       ]
      },
      {
       "javascript": [
        "$('div#e62acc24-bc35-4bc8-b5f9-0f93256ec7f5').text('Time: 0:00:00');"
       ],
       "metadata": {},
       "output_type": "display_data",
       "text": [
        "<IPython.core.display.Javascript at 0x9a0a12e8>"
       ]
      },
      {
       "javascript": [
        "var element = document.getElementById('d6863c03-be8b-40d3-b231-afca6264f030');\n",
        "                    var parent = element.parentNode\n",
        "                    parent.removeChild(element);\n",
        "                    parent.parentElement.remove();"
       ],
       "metadata": {},
       "output_type": "display_data",
       "text": [
        "<IPython.core.display.Javascript at 0x9a0a19b0>"
       ]
      },
      {
       "javascript": [
        "this.cleanProgressBar(['d6863c03-be8b-40d3-b231-afca6264f030', 'd8a74e46-0d29-4bdf-a5d9-e4589439560c', '364f6b22-8ae2-46db-bbf1-898a95a7a347', '0736e303-32d4-474d-be4b-312b314a13c9', 'e62acc24-bc35-4bc8-b5f9-0f93256ec7f5'])"
       ],
       "metadata": {},
       "output_type": "display_data",
       "text": [
        "<IPython.core.display.Javascript at 0x99da7eb8>"
       ]
      },
      {
       "javascript": [
        "//ccaa121c-bd35-472c-a9b9-039cf2d8a743\n",
        "$(\"head\").append(\"<style> td.pb_widget {     width: auto; } td.pb_widget_fill {     width: 100%; } table.pb {     font-family: monospace;     border: 0;     margin: 0; } table.pb tr { border: 0; } table.pb td {     white-space: nowrap;     border: 0; } div.pb {     border: 1px solid #ddd;     border-radius: 3px; } div.pb_bar {     height: 1.5em; } </style>\")"
       ],
       "metadata": {},
       "output_type": "display_data",
       "text": [
        "<IPython.core.display.Javascript at 0x99fb3908>"
       ]
      },
      {
       "javascript": [
        "\n",
        "                  // ccaa121c-bd35-472c-a9b9-039cf2d8a743 -- used to remove this code blob in the end\n",
        "                  IPython.OutputArea.prototype.cleanProgressBar = function(uuids) {\n",
        "                      // filter by uuid-strings \n",
        "                      var myfilter = function(output) { \n",
        "                          var nuids = uuids.length;\n",
        "                          for (var i=0; i<nuids; i++) {\n",
        "                              if (output.hasOwnProperty('html')) {\n",
        "                                  if (output.html.indexOf(uuids[i]) != -1) {\n",
        "                                      return false;\n",
        "                                  }\n",
        "                              }\n",
        "                              if (output.hasOwnProperty('javascript')) {\n",
        "                                  if (output.javascript.indexOf(uuids[i]) != -1) {\n",
        "                                      return false;\n",
        "                                  }\n",
        "                              }\n",
        "                          }\n",
        "                          // keep all others\n",
        "                          return true;\n",
        "                      };\n",
        "\n",
        "                      // Filter the ouputs\n",
        "                      this.outputs = this.outputs.filter(myfilter);\n",
        "                };\n",
        "                "
       ],
       "metadata": {},
       "output_type": "display_data",
       "text": [
        "<IPython.core.display.Javascript at 0x99fb3358>"
       ]
      },
      {
       "html": [
        "<div class=\"pb\" id=\"ccaa121c-bd35-472c-a9b9-039cf2d8a743\"><table class=\"pb ui-widget\"><tr>\n",
        "<td class=\"pb_widget\">Tokenizing sentences</td>\n",
        "<td class=\"pb_widget\"><div id=\"67006c9b-bf19-49ba-87b1-8f809873e8de\">0 of 1498</div></td>\n",
        "<td class=\"pb_widget\"><div id=\"ccc8b474-cad9-4d0f-bee5-7c1073961646\">  0%</div></td>\n",
        "<td class=\"pb_widget_fill\">\n",
        "        <div class=\"pb_bar\" id=\"05e60f80-71e0-4bdd-9a72-19109bad7ffb\"></div>\n",
        "        <script type=\"text/javascript\">\n",
        "            $(\"div#05e60f80-71e0-4bdd-9a72-19109bad7ffb\").progressbar({value: 0, max: 1498});\n",
        "        </script>\n",
        "        </td>\n",
        "<td class=\"pb_widget\"><div id=\"6a57f302-c169-4047-b5e0-4b7933658dea\">ETA:  --:--:--</div></td>\n",
        "</tr></table><div>"
       ],
       "metadata": {},
       "output_type": "display_data",
       "text": [
        "<IPython.core.display.HTML at 0x99fb31d0>"
       ]
      },
      {
       "javascript": [
        "$('div#67006c9b-bf19-49ba-87b1-8f809873e8de').text('15 of 1498');"
       ],
       "metadata": {},
       "output_type": "display_data",
       "text": [
        "<IPython.core.display.Javascript at 0x9a05d080>"
       ]
      },
      {
       "javascript": [
        "$('div#ccc8b474-cad9-4d0f-bee5-7c1073961646').text('  1%');"
       ],
       "metadata": {},
       "output_type": "display_data",
       "text": [
        "<IPython.core.display.Javascript at 0x99fb31d0>"
       ]
      },
      {
       "javascript": [
        "\n",
        "        var $myPB = $(\"div#05e60f80-71e0-4bdd-9a72-19109bad7ffb\")\n",
        "        if ($myPB.hasClass('ui-progressbar')) {\n",
        "            $myPB.progressbar('value', 15);\n",
        "        } else {\n",
        "            $myPB.progressbar({value: 0, max: 1498});\n",
        "        }\n",
        "        "
       ],
       "metadata": {},
       "output_type": "display_data",
       "text": [
        "<IPython.core.display.Javascript at 0x99da7eb8>"
       ]
      },
      {
       "javascript": [
        "$('div#6a57f302-c169-4047-b5e0-4b7933658dea').text('ETA:  0:00:00');"
       ],
       "metadata": {},
       "output_type": "display_data",
       "text": [
        "<IPython.core.display.Javascript at 0x99fb3358>"
       ]
      },
      {
       "javascript": [
        "$('div#67006c9b-bf19-49ba-87b1-8f809873e8de').text('30 of 1498');"
       ],
       "metadata": {},
       "output_type": "display_data",
       "text": [
        "<IPython.core.display.Javascript at 0x9a09c0f0>"
       ]
      },
      {
       "javascript": [
        "$('div#ccc8b474-cad9-4d0f-bee5-7c1073961646').text('  2%');"
       ],
       "metadata": {},
       "output_type": "display_data",
       "text": [
        "<IPython.core.display.Javascript at 0x99da7eb8>"
       ]
      },
      {
       "javascript": [
        "\n",
        "        var $myPB = $(\"div#05e60f80-71e0-4bdd-9a72-19109bad7ffb\")\n",
        "        if ($myPB.hasClass('ui-progressbar')) {\n",
        "            $myPB.progressbar('value', 30);\n",
        "        } else {\n",
        "            $myPB.progressbar({value: 0, max: 1498});\n",
        "        }\n",
        "        "
       ],
       "metadata": {},
       "output_type": "display_data",
       "text": [
        "<IPython.core.display.Javascript at 0x99fb3358>"
       ]
      },
      {
       "javascript": [
        "$('div#6a57f302-c169-4047-b5e0-4b7933658dea').text('ETA:  0:00:00');"
       ],
       "metadata": {},
       "output_type": "display_data",
       "text": [
        "<IPython.core.display.Javascript at 0x99fb31d0>"
       ]
      },
      {
       "javascript": [
        "$('div#67006c9b-bf19-49ba-87b1-8f809873e8de').text('45 of 1498');"
       ],
       "metadata": {},
       "output_type": "display_data",
       "text": [
        "<IPython.core.display.Javascript at 0x9a09cf28>"
       ]
      },
      {
       "javascript": [
        "$('div#ccc8b474-cad9-4d0f-bee5-7c1073961646').text('  3%');"
       ],
       "metadata": {},
       "output_type": "display_data",
       "text": [
        "<IPython.core.display.Javascript at 0x9a09c4e0>"
       ]
      },
      {
       "javascript": [
        "\n",
        "        var $myPB = $(\"div#05e60f80-71e0-4bdd-9a72-19109bad7ffb\")\n",
        "        if ($myPB.hasClass('ui-progressbar')) {\n",
        "            $myPB.progressbar('value', 45);\n",
        "        } else {\n",
        "            $myPB.progressbar({value: 0, max: 1498});\n",
        "        }\n",
        "        "
       ],
       "metadata": {},
       "output_type": "display_data",
       "text": [
        "<IPython.core.display.Javascript at 0x99da7eb8>"
       ]
      },
      {
       "javascript": [
        "$('div#6a57f302-c169-4047-b5e0-4b7933658dea').text('ETA:  0:00:00');"
       ],
       "metadata": {},
       "output_type": "display_data",
       "text": [
        "<IPython.core.display.Javascript at 0x99fb3358>"
       ]
      },
      {
       "javascript": [
        "$('div#67006c9b-bf19-49ba-87b1-8f809873e8de').text('60 of 1498');"
       ],
       "metadata": {},
       "output_type": "display_data",
       "text": [
        "<IPython.core.display.Javascript at 0x9a0b97b8>"
       ]
      },
      {
       "javascript": [
        "$('div#ccc8b474-cad9-4d0f-bee5-7c1073961646').text('  4%');"
       ],
       "metadata": {},
       "output_type": "display_data",
       "text": [
        "<IPython.core.display.Javascript at 0x9a0b9c18>"
       ]
      },
      {
       "javascript": [
        "\n",
        "        var $myPB = $(\"div#05e60f80-71e0-4bdd-9a72-19109bad7ffb\")\n",
        "        if ($myPB.hasClass('ui-progressbar')) {\n",
        "            $myPB.progressbar('value', 60);\n",
        "        } else {\n",
        "            $myPB.progressbar({value: 0, max: 1498});\n",
        "        }\n",
        "        "
       ],
       "metadata": {},
       "output_type": "display_data",
       "text": [
        "<IPython.core.display.Javascript at 0x99da7eb8>"
       ]
      },
      {
       "javascript": [
        "$('div#6a57f302-c169-4047-b5e0-4b7933658dea').text('ETA:  0:00:00');"
       ],
       "metadata": {},
       "output_type": "display_data",
       "text": [
        "<IPython.core.display.Javascript at 0x9a09c4e0>"
       ]
      },
      {
       "javascript": [
        "$('div#67006c9b-bf19-49ba-87b1-8f809873e8de').text('75 of 1498');"
       ],
       "metadata": {},
       "output_type": "display_data",
       "text": [
        "<IPython.core.display.Javascript at 0x9a0b9320>"
       ]
      },
      {
       "javascript": [
        "$('div#ccc8b474-cad9-4d0f-bee5-7c1073961646').text('  5%');"
       ],
       "metadata": {},
       "output_type": "display_data",
       "text": [
        "<IPython.core.display.Javascript at 0x9a0b9b38>"
       ]
      },
      {
       "javascript": [
        "\n",
        "        var $myPB = $(\"div#05e60f80-71e0-4bdd-9a72-19109bad7ffb\")\n",
        "        if ($myPB.hasClass('ui-progressbar')) {\n",
        "            $myPB.progressbar('value', 75);\n",
        "        } else {\n",
        "            $myPB.progressbar({value: 0, max: 1498});\n",
        "        }\n",
        "        "
       ],
       "metadata": {},
       "output_type": "display_data",
       "text": [
        "<IPython.core.display.Javascript at 0x9a0b9b38>"
       ]
      },
      {
       "javascript": [
        "$('div#6a57f302-c169-4047-b5e0-4b7933658dea').text('ETA:  0:00:00');"
       ],
       "metadata": {},
       "output_type": "display_data",
       "text": [
        "<IPython.core.display.Javascript at 0x9a0b9b00>"
       ]
      },
      {
       "javascript": [
        "$('div#67006c9b-bf19-49ba-87b1-8f809873e8de').text('90 of 1498');"
       ],
       "metadata": {},
       "output_type": "display_data",
       "text": [
        "<IPython.core.display.Javascript at 0x9a0b9e80>"
       ]
      },
      {
       "javascript": [
        "$('div#ccc8b474-cad9-4d0f-bee5-7c1073961646').text('  6%');"
       ],
       "metadata": {},
       "output_type": "display_data",
       "text": [
        "<IPython.core.display.Javascript at 0x9a0b9a20>"
       ]
      },
      {
       "javascript": [
        "\n",
        "        var $myPB = $(\"div#05e60f80-71e0-4bdd-9a72-19109bad7ffb\")\n",
        "        if ($myPB.hasClass('ui-progressbar')) {\n",
        "            $myPB.progressbar('value', 90);\n",
        "        } else {\n",
        "            $myPB.progressbar({value: 0, max: 1498});\n",
        "        }\n",
        "        "
       ],
       "metadata": {},
       "output_type": "display_data",
       "text": [
        "<IPython.core.display.Javascript at 0x9a09c4e0>"
       ]
      },
      {
       "javascript": [
        "$('div#6a57f302-c169-4047-b5e0-4b7933658dea').text('ETA:  0:00:00');"
       ],
       "metadata": {},
       "output_type": "display_data",
       "text": [
        "<IPython.core.display.Javascript at 0x9a0b9a20>"
       ]
      },
      {
       "javascript": [
        "$('div#67006c9b-bf19-49ba-87b1-8f809873e8de').text('105 of 1498');"
       ],
       "metadata": {},
       "output_type": "display_data",
       "text": [
        "<IPython.core.display.Javascript at 0x9a0b9390>"
       ]
      },
      {
       "javascript": [
        "$('div#ccc8b474-cad9-4d0f-bee5-7c1073961646').text('  7%');"
       ],
       "metadata": {},
       "output_type": "display_data",
       "text": [
        "<IPython.core.display.Javascript at 0x9a0b90f0>"
       ]
      },
      {
       "javascript": [
        "\n",
        "        var $myPB = $(\"div#05e60f80-71e0-4bdd-9a72-19109bad7ffb\")\n",
        "        if ($myPB.hasClass('ui-progressbar')) {\n",
        "            $myPB.progressbar('value', 105);\n",
        "        } else {\n",
        "            $myPB.progressbar({value: 0, max: 1498});\n",
        "        }\n",
        "        "
       ],
       "metadata": {},
       "output_type": "display_data",
       "text": [
        "<IPython.core.display.Javascript at 0x9a0b90f0>"
       ]
      },
      {
       "javascript": [
        "$('div#6a57f302-c169-4047-b5e0-4b7933658dea').text('ETA:  0:00:00');"
       ],
       "metadata": {},
       "output_type": "display_data",
       "text": [
        "<IPython.core.display.Javascript at 0x9a0b9320>"
       ]
      },
      {
       "javascript": [
        "$('div#67006c9b-bf19-49ba-87b1-8f809873e8de').text('120 of 1498');"
       ],
       "metadata": {},
       "output_type": "display_data",
       "text": [
        "<IPython.core.display.Javascript at 0x9a0b9080>"
       ]
      },
      {
       "javascript": [
        "$('div#ccc8b474-cad9-4d0f-bee5-7c1073961646').text('  8%');"
       ],
       "metadata": {},
       "output_type": "display_data",
       "text": [
        "<IPython.core.display.Javascript at 0x99da7eb8>"
       ]
      },
      {
       "javascript": [
        "\n",
        "        var $myPB = $(\"div#05e60f80-71e0-4bdd-9a72-19109bad7ffb\")\n",
        "        if ($myPB.hasClass('ui-progressbar')) {\n",
        "            $myPB.progressbar('value', 120);\n",
        "        } else {\n",
        "            $myPB.progressbar({value: 0, max: 1498});\n",
        "        }\n",
        "        "
       ],
       "metadata": {},
       "output_type": "display_data",
       "text": [
        "<IPython.core.display.Javascript at 0x99da7eb8>"
       ]
      },
      {
       "javascript": [
        "$('div#6a57f302-c169-4047-b5e0-4b7933658dea').text('ETA:  0:00:00');"
       ],
       "metadata": {},
       "output_type": "display_data",
       "text": [
        "<IPython.core.display.Javascript at 0x9a09c4e0>"
       ]
      },
      {
       "javascript": [
        "$('div#67006c9b-bf19-49ba-87b1-8f809873e8de').text('135 of 1498');"
       ],
       "metadata": {},
       "output_type": "display_data",
       "text": [
        "<IPython.core.display.Javascript at 0x9a0ec630>"
       ]
      },
      {
       "javascript": [
        "$('div#ccc8b474-cad9-4d0f-bee5-7c1073961646').text('  9%');"
       ],
       "metadata": {},
       "output_type": "display_data",
       "text": [
        "<IPython.core.display.Javascript at 0x9a0ec940>"
       ]
      },
      {
       "javascript": [
        "\n",
        "        var $myPB = $(\"div#05e60f80-71e0-4bdd-9a72-19109bad7ffb\")\n",
        "        if ($myPB.hasClass('ui-progressbar')) {\n",
        "            $myPB.progressbar('value', 135);\n",
        "        } else {\n",
        "            $myPB.progressbar({value: 0, max: 1498});\n",
        "        }\n",
        "        "
       ],
       "metadata": {},
       "output_type": "display_data",
       "text": [
        "<IPython.core.display.Javascript at 0x99da7eb8>"
       ]
      },
      {
       "javascript": [
        "$('div#6a57f302-c169-4047-b5e0-4b7933658dea').text('ETA:  0:00:00');"
       ],
       "metadata": {},
       "output_type": "display_data",
       "text": [
        "<IPython.core.display.Javascript at 0x9a09c4e0>"
       ]
      },
      {
       "javascript": [
        "$('div#67006c9b-bf19-49ba-87b1-8f809873e8de').text('150 of 1498');"
       ],
       "metadata": {},
       "output_type": "display_data",
       "text": [
        "<IPython.core.display.Javascript at 0x9a0ec898>"
       ]
      },
      {
       "javascript": [
        "$('div#ccc8b474-cad9-4d0f-bee5-7c1073961646').text(' 10%');"
       ],
       "metadata": {},
       "output_type": "display_data",
       "text": [
        "<IPython.core.display.Javascript at 0x9a0ec7f0>"
       ]
      },
      {
       "javascript": [
        "\n",
        "        var $myPB = $(\"div#05e60f80-71e0-4bdd-9a72-19109bad7ffb\")\n",
        "        if ($myPB.hasClass('ui-progressbar')) {\n",
        "            $myPB.progressbar('value', 150);\n",
        "        } else {\n",
        "            $myPB.progressbar({value: 0, max: 1498});\n",
        "        }\n",
        "        "
       ],
       "metadata": {},
       "output_type": "display_data",
       "text": [
        "<IPython.core.display.Javascript at 0x99da7eb8>"
       ]
      },
      {
       "javascript": [
        "$('div#6a57f302-c169-4047-b5e0-4b7933658dea').text('ETA:  0:00:00');"
       ],
       "metadata": {},
       "output_type": "display_data",
       "text": [
        "<IPython.core.display.Javascript at 0x9a09c4e0>"
       ]
      },
      {
       "javascript": [
        "$('div#67006c9b-bf19-49ba-87b1-8f809873e8de').text('165 of 1498');"
       ],
       "metadata": {},
       "output_type": "display_data",
       "text": [
        "<IPython.core.display.Javascript at 0x9a0ec908>"
       ]
      },
      {
       "javascript": [
        "$('div#ccc8b474-cad9-4d0f-bee5-7c1073961646').text(' 11%');"
       ],
       "metadata": {},
       "output_type": "display_data",
       "text": [
        "<IPython.core.display.Javascript at 0x9a0ec828>"
       ]
      },
      {
       "javascript": [
        "\n",
        "        var $myPB = $(\"div#05e60f80-71e0-4bdd-9a72-19109bad7ffb\")\n",
        "        if ($myPB.hasClass('ui-progressbar')) {\n",
        "            $myPB.progressbar('value', 165);\n",
        "        } else {\n",
        "            $myPB.progressbar({value: 0, max: 1498});\n",
        "        }\n",
        "        "
       ],
       "metadata": {},
       "output_type": "display_data",
       "text": [
        "<IPython.core.display.Javascript at 0x99da7eb8>"
       ]
      },
      {
       "javascript": [
        "$('div#6a57f302-c169-4047-b5e0-4b7933658dea').text('ETA:  0:00:00');"
       ],
       "metadata": {},
       "output_type": "display_data",
       "text": [
        "<IPython.core.display.Javascript at 0x9a09c4e0>"
       ]
      },
      {
       "javascript": [
        "$('div#67006c9b-bf19-49ba-87b1-8f809873e8de').text('180 of 1498');"
       ],
       "metadata": {},
       "output_type": "display_data",
       "text": [
        "<IPython.core.display.Javascript at 0x9a0ec438>"
       ]
      },
      {
       "javascript": [
        "$('div#ccc8b474-cad9-4d0f-bee5-7c1073961646').text(' 12%');"
       ],
       "metadata": {},
       "output_type": "display_data",
       "text": [
        "<IPython.core.display.Javascript at 0x99fc3ba8>"
       ]
      },
      {
       "javascript": [
        "\n",
        "        var $myPB = $(\"div#05e60f80-71e0-4bdd-9a72-19109bad7ffb\")\n",
        "        if ($myPB.hasClass('ui-progressbar')) {\n",
        "            $myPB.progressbar('value', 180);\n",
        "        } else {\n",
        "            $myPB.progressbar({value: 0, max: 1498});\n",
        "        }\n",
        "        "
       ],
       "metadata": {},
       "output_type": "display_data",
       "text": [
        "<IPython.core.display.Javascript at 0x9a09c4e0>"
       ]
      },
      {
       "javascript": [
        "$('div#6a57f302-c169-4047-b5e0-4b7933658dea').text('ETA:  0:00:00');"
       ],
       "metadata": {},
       "output_type": "display_data",
       "text": [
        "<IPython.core.display.Javascript at 0x99da7eb8>"
       ]
      },
      {
       "javascript": [
        "$('div#67006c9b-bf19-49ba-87b1-8f809873e8de').text('195 of 1498');"
       ],
       "metadata": {},
       "output_type": "display_data",
       "text": [
        "<IPython.core.display.Javascript at 0x99fc3da0>"
       ]
      },
      {
       "javascript": [
        "$('div#ccc8b474-cad9-4d0f-bee5-7c1073961646').text(' 13%');"
       ],
       "metadata": {},
       "output_type": "display_data",
       "text": [
        "<IPython.core.display.Javascript at 0x99fc3588>"
       ]
      },
      {
       "javascript": [
        "\n",
        "        var $myPB = $(\"div#05e60f80-71e0-4bdd-9a72-19109bad7ffb\")\n",
        "        if ($myPB.hasClass('ui-progressbar')) {\n",
        "            $myPB.progressbar('value', 195);\n",
        "        } else {\n",
        "            $myPB.progressbar({value: 0, max: 1498});\n",
        "        }\n",
        "        "
       ],
       "metadata": {},
       "output_type": "display_data",
       "text": [
        "<IPython.core.display.Javascript at 0x99fc3588>"
       ]
      },
      {
       "javascript": [
        "$('div#6a57f302-c169-4047-b5e0-4b7933658dea').text('ETA:  0:00:00');"
       ],
       "metadata": {},
       "output_type": "display_data",
       "text": [
        "<IPython.core.display.Javascript at 0x99fc3208>"
       ]
      },
      {
       "javascript": [
        "$('div#67006c9b-bf19-49ba-87b1-8f809873e8de').text('210 of 1498');"
       ],
       "metadata": {},
       "output_type": "display_data",
       "text": [
        "<IPython.core.display.Javascript at 0x99fc3a58>"
       ]
      },
      {
       "javascript": [
        "$('div#ccc8b474-cad9-4d0f-bee5-7c1073961646').text(' 14%');"
       ],
       "metadata": {},
       "output_type": "display_data",
       "text": [
        "<IPython.core.display.Javascript at 0x99da7eb8>"
       ]
      },
      {
       "javascript": [
        "\n",
        "        var $myPB = $(\"div#05e60f80-71e0-4bdd-9a72-19109bad7ffb\")\n",
        "        if ($myPB.hasClass('ui-progressbar')) {\n",
        "            $myPB.progressbar('value', 210);\n",
        "        } else {\n",
        "            $myPB.progressbar({value: 0, max: 1498});\n",
        "        }\n",
        "        "
       ],
       "metadata": {},
       "output_type": "display_data",
       "text": [
        "<IPython.core.display.Javascript at 0x99da7eb8>"
       ]
      },
      {
       "javascript": [
        "$('div#6a57f302-c169-4047-b5e0-4b7933658dea').text('ETA:  0:00:00');"
       ],
       "metadata": {},
       "output_type": "display_data",
       "text": [
        "<IPython.core.display.Javascript at 0x9a09c4e0>"
       ]
      },
      {
       "javascript": [
        "$('div#67006c9b-bf19-49ba-87b1-8f809873e8de').text('225 of 1498');"
       ],
       "metadata": {},
       "output_type": "display_data",
       "text": [
        "<IPython.core.display.Javascript at 0x9a1305f8>"
       ]
      },
      {
       "javascript": [
        "$('div#ccc8b474-cad9-4d0f-bee5-7c1073961646').text(' 15%');"
       ],
       "metadata": {},
       "output_type": "display_data",
       "text": [
        "<IPython.core.display.Javascript at 0x99fc3a58>"
       ]
      },
      {
       "javascript": [
        "\n",
        "        var $myPB = $(\"div#05e60f80-71e0-4bdd-9a72-19109bad7ffb\")\n",
        "        if ($myPB.hasClass('ui-progressbar')) {\n",
        "            $myPB.progressbar('value', 225);\n",
        "        } else {\n",
        "            $myPB.progressbar({value: 0, max: 1498});\n",
        "        }\n",
        "        "
       ],
       "metadata": {},
       "output_type": "display_data",
       "text": [
        "<IPython.core.display.Javascript at 0x9a1305f8>"
       ]
      },
      {
       "javascript": [
        "$('div#6a57f302-c169-4047-b5e0-4b7933658dea').text('ETA:  0:00:00');"
       ],
       "metadata": {},
       "output_type": "display_data",
       "text": [
        "<IPython.core.display.Javascript at 0x9a09c4e0>"
       ]
      },
      {
       "javascript": [
        "$('div#67006c9b-bf19-49ba-87b1-8f809873e8de').text('240 of 1498');"
       ],
       "metadata": {},
       "output_type": "display_data",
       "text": [
        "<IPython.core.display.Javascript at 0x99fc3208>"
       ]
      },
      {
       "javascript": [
        "$('div#ccc8b474-cad9-4d0f-bee5-7c1073961646').text(' 16%');"
       ],
       "metadata": {},
       "output_type": "display_data",
       "text": [
        "<IPython.core.display.Javascript at 0x99fc3588>"
       ]
      },
      {
       "javascript": [
        "\n",
        "        var $myPB = $(\"div#05e60f80-71e0-4bdd-9a72-19109bad7ffb\")\n",
        "        if ($myPB.hasClass('ui-progressbar')) {\n",
        "            $myPB.progressbar('value', 240);\n",
        "        } else {\n",
        "            $myPB.progressbar({value: 0, max: 1498});\n",
        "        }\n",
        "        "
       ],
       "metadata": {},
       "output_type": "display_data",
       "text": [
        "<IPython.core.display.Javascript at 0x99de7128>"
       ]
      },
      {
       "javascript": [
        "$('div#6a57f302-c169-4047-b5e0-4b7933658dea').text('ETA:  0:00:00');"
       ],
       "metadata": {},
       "output_type": "display_data",
       "text": [
        "<IPython.core.display.Javascript at 0x99de7908>"
       ]
      },
      {
       "javascript": [
        "$('div#67006c9b-bf19-49ba-87b1-8f809873e8de').text('255 of 1498');"
       ],
       "metadata": {},
       "output_type": "display_data",
       "text": [
        "<IPython.core.display.Javascript at 0x99fc3208>"
       ]
      },
      {
       "javascript": [
        "$('div#ccc8b474-cad9-4d0f-bee5-7c1073961646').text(' 17%');"
       ],
       "metadata": {},
       "output_type": "display_data",
       "text": [
        "<IPython.core.display.Javascript at 0x99fc3588>"
       ]
      },
      {
       "javascript": [
        "\n",
        "        var $myPB = $(\"div#05e60f80-71e0-4bdd-9a72-19109bad7ffb\")\n",
        "        if ($myPB.hasClass('ui-progressbar')) {\n",
        "            $myPB.progressbar('value', 255);\n",
        "        } else {\n",
        "            $myPB.progressbar({value: 0, max: 1498});\n",
        "        }\n",
        "        "
       ],
       "metadata": {},
       "output_type": "display_data",
       "text": [
        "<IPython.core.display.Javascript at 0x9a1305f8>"
       ]
      },
      {
       "javascript": [
        "$('div#6a57f302-c169-4047-b5e0-4b7933658dea').text('ETA:  0:00:00');"
       ],
       "metadata": {},
       "output_type": "display_data",
       "text": [
        "<IPython.core.display.Javascript at 0x9a09c4e0>"
       ]
      },
      {
       "javascript": [
        "$('div#67006c9b-bf19-49ba-87b1-8f809873e8de').text('270 of 1498');"
       ],
       "metadata": {},
       "output_type": "display_data",
       "text": [
        "<IPython.core.display.Javascript at 0x9a0e37f0>"
       ]
      },
      {
       "javascript": [
        "$('div#ccc8b474-cad9-4d0f-bee5-7c1073961646').text(' 18%');"
       ],
       "metadata": {},
       "output_type": "display_data",
       "text": [
        "<IPython.core.display.Javascript at 0x9a0e3550>"
       ]
      },
      {
       "javascript": [
        "\n",
        "        var $myPB = $(\"div#05e60f80-71e0-4bdd-9a72-19109bad7ffb\")\n",
        "        if ($myPB.hasClass('ui-progressbar')) {\n",
        "            $myPB.progressbar('value', 270);\n",
        "        } else {\n",
        "            $myPB.progressbar({value: 0, max: 1498});\n",
        "        }\n",
        "        "
       ],
       "metadata": {},
       "output_type": "display_data",
       "text": [
        "<IPython.core.display.Javascript at 0x9a1305f8>"
       ]
      },
      {
       "javascript": [
        "$('div#6a57f302-c169-4047-b5e0-4b7933658dea').text('ETA:  0:00:00');"
       ],
       "metadata": {},
       "output_type": "display_data",
       "text": [
        "<IPython.core.display.Javascript at 0x9a09c4e0>"
       ]
      },
      {
       "javascript": [
        "$('div#67006c9b-bf19-49ba-87b1-8f809873e8de').text('285 of 1498');"
       ],
       "metadata": {},
       "output_type": "display_data",
       "text": [
        "<IPython.core.display.Javascript at 0x9a0e3550>"
       ]
      },
      {
       "javascript": [
        "$('div#ccc8b474-cad9-4d0f-bee5-7c1073961646').text(' 19%');"
       ],
       "metadata": {},
       "output_type": "display_data",
       "text": [
        "<IPython.core.display.Javascript at 0x9a0e3828>"
       ]
      },
      {
       "javascript": [
        "\n",
        "        var $myPB = $(\"div#05e60f80-71e0-4bdd-9a72-19109bad7ffb\")\n",
        "        if ($myPB.hasClass('ui-progressbar')) {\n",
        "            $myPB.progressbar('value', 285);\n",
        "        } else {\n",
        "            $myPB.progressbar({value: 0, max: 1498});\n",
        "        }\n",
        "        "
       ],
       "metadata": {},
       "output_type": "display_data",
       "text": [
        "<IPython.core.display.Javascript at 0x9a1305f8>"
       ]
      },
      {
       "javascript": [
        "$('div#6a57f302-c169-4047-b5e0-4b7933658dea').text('ETA:  0:00:00');"
       ],
       "metadata": {},
       "output_type": "display_data",
       "text": [
        "<IPython.core.display.Javascript at 0x9a09c4e0>"
       ]
      },
      {
       "javascript": [
        "$('div#67006c9b-bf19-49ba-87b1-8f809873e8de').text('300 of 1498');"
       ],
       "metadata": {},
       "output_type": "display_data",
       "text": [
        "<IPython.core.display.Javascript at 0x9a0e3cc0>"
       ]
      },
      {
       "javascript": [
        "$('div#ccc8b474-cad9-4d0f-bee5-7c1073961646').text(' 20%');"
       ],
       "metadata": {},
       "output_type": "display_data",
       "text": [
        "<IPython.core.display.Javascript at 0x9a0e3828>"
       ]
      },
      {
       "javascript": [
        "\n",
        "        var $myPB = $(\"div#05e60f80-71e0-4bdd-9a72-19109bad7ffb\")\n",
        "        if ($myPB.hasClass('ui-progressbar')) {\n",
        "            $myPB.progressbar('value', 300);\n",
        "        } else {\n",
        "            $myPB.progressbar({value: 0, max: 1498});\n",
        "        }\n",
        "        "
       ],
       "metadata": {},
       "output_type": "display_data",
       "text": [
        "<IPython.core.display.Javascript at 0x9a1305f8>"
       ]
      },
      {
       "javascript": [
        "$('div#6a57f302-c169-4047-b5e0-4b7933658dea').text('ETA:  0:00:00');"
       ],
       "metadata": {},
       "output_type": "display_data",
       "text": [
        "<IPython.core.display.Javascript at 0x9a09c4e0>"
       ]
      },
      {
       "javascript": [
        "$('div#67006c9b-bf19-49ba-87b1-8f809873e8de').text('315 of 1498');"
       ],
       "metadata": {},
       "output_type": "display_data",
       "text": [
        "<IPython.core.display.Javascript at 0x9a0e3278>"
       ]
      },
      {
       "javascript": [
        "$('div#ccc8b474-cad9-4d0f-bee5-7c1073961646').text(' 21%');"
       ],
       "metadata": {},
       "output_type": "display_data",
       "text": [
        "<IPython.core.display.Javascript at 0x9a0e3828>"
       ]
      },
      {
       "javascript": [
        "\n",
        "        var $myPB = $(\"div#05e60f80-71e0-4bdd-9a72-19109bad7ffb\")\n",
        "        if ($myPB.hasClass('ui-progressbar')) {\n",
        "            $myPB.progressbar('value', 315);\n",
        "        } else {\n",
        "            $myPB.progressbar({value: 0, max: 1498});\n",
        "        }\n",
        "        "
       ],
       "metadata": {},
       "output_type": "display_data",
       "text": [
        "<IPython.core.display.Javascript at 0x9a1305f8>"
       ]
      },
      {
       "javascript": [
        "$('div#6a57f302-c169-4047-b5e0-4b7933658dea').text('ETA:  0:00:00');"
       ],
       "metadata": {},
       "output_type": "display_data",
       "text": [
        "<IPython.core.display.Javascript at 0x9a09c4e0>"
       ]
      },
      {
       "javascript": [
        "$('div#67006c9b-bf19-49ba-87b1-8f809873e8de').text('330 of 1498');"
       ],
       "metadata": {},
       "output_type": "display_data",
       "text": [
        "<IPython.core.display.Javascript at 0x9a0e3828>"
       ]
      },
      {
       "javascript": [
        "$('div#ccc8b474-cad9-4d0f-bee5-7c1073961646').text(' 22%');"
       ],
       "metadata": {},
       "output_type": "display_data",
       "text": [
        "<IPython.core.display.Javascript at 0x9a0e3550>"
       ]
      },
      {
       "javascript": [
        "\n",
        "        var $myPB = $(\"div#05e60f80-71e0-4bdd-9a72-19109bad7ffb\")\n",
        "        if ($myPB.hasClass('ui-progressbar')) {\n",
        "            $myPB.progressbar('value', 330);\n",
        "        } else {\n",
        "            $myPB.progressbar({value: 0, max: 1498});\n",
        "        }\n",
        "        "
       ],
       "metadata": {},
       "output_type": "display_data",
       "text": [
        "<IPython.core.display.Javascript at 0x9a1305f8>"
       ]
      },
      {
       "javascript": [
        "$('div#6a57f302-c169-4047-b5e0-4b7933658dea').text('ETA:  0:00:00');"
       ],
       "metadata": {},
       "output_type": "display_data",
       "text": [
        "<IPython.core.display.Javascript at 0x9a09c4e0>"
       ]
      },
      {
       "javascript": [
        "$('div#67006c9b-bf19-49ba-87b1-8f809873e8de').text('345 of 1498');"
       ],
       "metadata": {},
       "output_type": "display_data",
       "text": [
        "<IPython.core.display.Javascript at 0x9a0e3550>"
       ]
      },
      {
       "javascript": [
        "$('div#ccc8b474-cad9-4d0f-bee5-7c1073961646').text(' 23%');"
       ],
       "metadata": {},
       "output_type": "display_data",
       "text": [
        "<IPython.core.display.Javascript at 0x9a0e3278>"
       ]
      },
      {
       "javascript": [
        "\n",
        "        var $myPB = $(\"div#05e60f80-71e0-4bdd-9a72-19109bad7ffb\")\n",
        "        if ($myPB.hasClass('ui-progressbar')) {\n",
        "            $myPB.progressbar('value', 345);\n",
        "        } else {\n",
        "            $myPB.progressbar({value: 0, max: 1498});\n",
        "        }\n",
        "        "
       ],
       "metadata": {},
       "output_type": "display_data",
       "text": [
        "<IPython.core.display.Javascript at 0x9a1305f8>"
       ]
      },
      {
       "javascript": [
        "$('div#6a57f302-c169-4047-b5e0-4b7933658dea').text('ETA:  0:00:00');"
       ],
       "metadata": {},
       "output_type": "display_data",
       "text": [
        "<IPython.core.display.Javascript at 0x9a09c4e0>"
       ]
      },
      {
       "javascript": [
        "$('div#67006c9b-bf19-49ba-87b1-8f809873e8de').text('360 of 1498');"
       ],
       "metadata": {},
       "output_type": "display_data",
       "text": [
        "<IPython.core.display.Javascript at 0x9a0e3278>"
       ]
      },
      {
       "javascript": [
        "$('div#ccc8b474-cad9-4d0f-bee5-7c1073961646').text(' 24%');"
       ],
       "metadata": {},
       "output_type": "display_data",
       "text": [
        "<IPython.core.display.Javascript at 0x9a0e3828>"
       ]
      },
      {
       "javascript": [
        "\n",
        "        var $myPB = $(\"div#05e60f80-71e0-4bdd-9a72-19109bad7ffb\")\n",
        "        if ($myPB.hasClass('ui-progressbar')) {\n",
        "            $myPB.progressbar('value', 360);\n",
        "        } else {\n",
        "            $myPB.progressbar({value: 0, max: 1498});\n",
        "        }\n",
        "        "
       ],
       "metadata": {},
       "output_type": "display_data",
       "text": [
        "<IPython.core.display.Javascript at 0x9a1305f8>"
       ]
      },
      {
       "javascript": [
        "$('div#6a57f302-c169-4047-b5e0-4b7933658dea').text('ETA:  0:00:00');"
       ],
       "metadata": {},
       "output_type": "display_data",
       "text": [
        "<IPython.core.display.Javascript at 0x9a09c4e0>"
       ]
      },
      {
       "javascript": [
        "$('div#67006c9b-bf19-49ba-87b1-8f809873e8de').text('375 of 1498');"
       ],
       "metadata": {},
       "output_type": "display_data",
       "text": [
        "<IPython.core.display.Javascript at 0x9a0e33c8>"
       ]
      },
      {
       "javascript": [
        "$('div#ccc8b474-cad9-4d0f-bee5-7c1073961646').text(' 25%');"
       ],
       "metadata": {},
       "output_type": "display_data",
       "text": [
        "<IPython.core.display.Javascript at 0x9a0e32e8>"
       ]
      },
      {
       "javascript": [
        "\n",
        "        var $myPB = $(\"div#05e60f80-71e0-4bdd-9a72-19109bad7ffb\")\n",
        "        if ($myPB.hasClass('ui-progressbar')) {\n",
        "            $myPB.progressbar('value', 375);\n",
        "        } else {\n",
        "            $myPB.progressbar({value: 0, max: 1498});\n",
        "        }\n",
        "        "
       ],
       "metadata": {},
       "output_type": "display_data",
       "text": [
        "<IPython.core.display.Javascript at 0x9a0e32e8>"
       ]
      },
      {
       "javascript": [
        "$('div#6a57f302-c169-4047-b5e0-4b7933658dea').text('ETA:  0:00:00');"
       ],
       "metadata": {},
       "output_type": "display_data",
       "text": [
        "<IPython.core.display.Javascript at 0x9a0e36d8>"
       ]
      },
      {
       "javascript": [
        "$('div#67006c9b-bf19-49ba-87b1-8f809873e8de').text('390 of 1498');"
       ],
       "metadata": {},
       "output_type": "display_data",
       "text": [
        "<IPython.core.display.Javascript at 0x9a1305f8>"
       ]
      },
      {
       "javascript": [
        "$('div#ccc8b474-cad9-4d0f-bee5-7c1073961646').text(' 26%');"
       ],
       "metadata": {},
       "output_type": "display_data",
       "text": [
        "<IPython.core.display.Javascript at 0x9a1876a0>"
       ]
      },
      {
       "javascript": [
        "\n",
        "        var $myPB = $(\"div#05e60f80-71e0-4bdd-9a72-19109bad7ffb\")\n",
        "        if ($myPB.hasClass('ui-progressbar')) {\n",
        "            $myPB.progressbar('value', 390);\n",
        "        } else {\n",
        "            $myPB.progressbar({value: 0, max: 1498});\n",
        "        }\n",
        "        "
       ],
       "metadata": {},
       "output_type": "display_data",
       "text": [
        "<IPython.core.display.Javascript at 0x9a1305f8>"
       ]
      },
      {
       "javascript": [
        "$('div#6a57f302-c169-4047-b5e0-4b7933658dea').text('ETA:  0:00:00');"
       ],
       "metadata": {},
       "output_type": "display_data",
       "text": [
        "<IPython.core.display.Javascript at 0x9a0e32e8>"
       ]
      },
      {
       "javascript": [
        "$('div#67006c9b-bf19-49ba-87b1-8f809873e8de').text('405 of 1498');"
       ],
       "metadata": {},
       "output_type": "display_data",
       "text": [
        "<IPython.core.display.Javascript at 0x9a0e36d8>"
       ]
      },
      {
       "javascript": [
        "$('div#ccc8b474-cad9-4d0f-bee5-7c1073961646').text(' 27%');"
       ],
       "metadata": {},
       "output_type": "display_data",
       "text": [
        "<IPython.core.display.Javascript at 0x9a1876a0>"
       ]
      },
      {
       "javascript": [
        "\n",
        "        var $myPB = $(\"div#05e60f80-71e0-4bdd-9a72-19109bad7ffb\")\n",
        "        if ($myPB.hasClass('ui-progressbar')) {\n",
        "            $myPB.progressbar('value', 405);\n",
        "        } else {\n",
        "            $myPB.progressbar({value: 0, max: 1498});\n",
        "        }\n",
        "        "
       ],
       "metadata": {},
       "output_type": "display_data",
       "text": [
        "<IPython.core.display.Javascript at 0x9a1305f8>"
       ]
      },
      {
       "javascript": [
        "$('div#6a57f302-c169-4047-b5e0-4b7933658dea').text('ETA:  0:00:00');"
       ],
       "metadata": {},
       "output_type": "display_data",
       "text": [
        "<IPython.core.display.Javascript at 0x9a0e32e8>"
       ]
      },
      {
       "javascript": [
        "$('div#67006c9b-bf19-49ba-87b1-8f809873e8de').text('420 of 1498');"
       ],
       "metadata": {},
       "output_type": "display_data",
       "text": [
        "<IPython.core.display.Javascript at 0x9a0e36d8>"
       ]
      },
      {
       "javascript": [
        "$('div#ccc8b474-cad9-4d0f-bee5-7c1073961646').text(' 28%');"
       ],
       "metadata": {},
       "output_type": "display_data",
       "text": [
        "<IPython.core.display.Javascript at 0x9a1876a0>"
       ]
      },
      {
       "javascript": [
        "\n",
        "        var $myPB = $(\"div#05e60f80-71e0-4bdd-9a72-19109bad7ffb\")\n",
        "        if ($myPB.hasClass('ui-progressbar')) {\n",
        "            $myPB.progressbar('value', 420);\n",
        "        } else {\n",
        "            $myPB.progressbar({value: 0, max: 1498});\n",
        "        }\n",
        "        "
       ],
       "metadata": {},
       "output_type": "display_data",
       "text": [
        "<IPython.core.display.Javascript at 0x9a1305f8>"
       ]
      },
      {
       "javascript": [
        "$('div#6a57f302-c169-4047-b5e0-4b7933658dea').text('ETA:  0:00:00');"
       ],
       "metadata": {},
       "output_type": "display_data",
       "text": [
        "<IPython.core.display.Javascript at 0x9a0e32e8>"
       ]
      },
      {
       "javascript": [
        "$('div#67006c9b-bf19-49ba-87b1-8f809873e8de').text('435 of 1498');"
       ],
       "metadata": {},
       "output_type": "display_data",
       "text": [
        "<IPython.core.display.Javascript at 0x9a1873c8>"
       ]
      },
      {
       "javascript": [
        "$('div#ccc8b474-cad9-4d0f-bee5-7c1073961646').text(' 29%');"
       ],
       "metadata": {},
       "output_type": "display_data",
       "text": [
        "<IPython.core.display.Javascript at 0x9a187be0>"
       ]
      },
      {
       "javascript": [
        "\n",
        "        var $myPB = $(\"div#05e60f80-71e0-4bdd-9a72-19109bad7ffb\")\n",
        "        if ($myPB.hasClass('ui-progressbar')) {\n",
        "            $myPB.progressbar('value', 435);\n",
        "        } else {\n",
        "            $myPB.progressbar({value: 0, max: 1498});\n",
        "        }\n",
        "        "
       ],
       "metadata": {},
       "output_type": "display_data",
       "text": [
        "<IPython.core.display.Javascript at 0x9a1305f8>"
       ]
      },
      {
       "javascript": [
        "$('div#6a57f302-c169-4047-b5e0-4b7933658dea').text('ETA:  0:00:00');"
       ],
       "metadata": {},
       "output_type": "display_data",
       "text": [
        "<IPython.core.display.Javascript at 0x9a0e32e8>"
       ]
      },
      {
       "javascript": [
        "$('div#67006c9b-bf19-49ba-87b1-8f809873e8de').text('450 of 1498');"
       ],
       "metadata": {},
       "output_type": "display_data",
       "text": [
        "<IPython.core.display.Javascript at 0x9a187be0>"
       ]
      },
      {
       "javascript": [
        "$('div#ccc8b474-cad9-4d0f-bee5-7c1073961646').text(' 30%');"
       ],
       "metadata": {},
       "output_type": "display_data",
       "text": [
        "<IPython.core.display.Javascript at 0x9a187080>"
       ]
      },
      {
       "javascript": [
        "\n",
        "        var $myPB = $(\"div#05e60f80-71e0-4bdd-9a72-19109bad7ffb\")\n",
        "        if ($myPB.hasClass('ui-progressbar')) {\n",
        "            $myPB.progressbar('value', 450);\n",
        "        } else {\n",
        "            $myPB.progressbar({value: 0, max: 1498});\n",
        "        }\n",
        "        "
       ],
       "metadata": {},
       "output_type": "display_data",
       "text": [
        "<IPython.core.display.Javascript at 0x9a1305f8>"
       ]
      },
      {
       "javascript": [
        "$('div#6a57f302-c169-4047-b5e0-4b7933658dea').text('ETA:  0:00:00');"
       ],
       "metadata": {},
       "output_type": "display_data",
       "text": [
        "<IPython.core.display.Javascript at 0x9a0e32e8>"
       ]
      },
      {
       "javascript": [
        "$('div#67006c9b-bf19-49ba-87b1-8f809873e8de').text('465 of 1498');"
       ],
       "metadata": {},
       "output_type": "display_data",
       "text": [
        "<IPython.core.display.Javascript at 0x9a187080>"
       ]
      },
      {
       "javascript": [
        "$('div#ccc8b474-cad9-4d0f-bee5-7c1073961646').text(' 31%');"
       ],
       "metadata": {},
       "output_type": "display_data",
       "text": [
        "<IPython.core.display.Javascript at 0x9a1873c8>"
       ]
      },
      {
       "javascript": [
        "\n",
        "        var $myPB = $(\"div#05e60f80-71e0-4bdd-9a72-19109bad7ffb\")\n",
        "        if ($myPB.hasClass('ui-progressbar')) {\n",
        "            $myPB.progressbar('value', 465);\n",
        "        } else {\n",
        "            $myPB.progressbar({value: 0, max: 1498});\n",
        "        }\n",
        "        "
       ],
       "metadata": {},
       "output_type": "display_data",
       "text": [
        "<IPython.core.display.Javascript at 0x9a1305f8>"
       ]
      },
      {
       "javascript": [
        "$('div#6a57f302-c169-4047-b5e0-4b7933658dea').text('ETA:  0:00:00');"
       ],
       "metadata": {},
       "output_type": "display_data",
       "text": [
        "<IPython.core.display.Javascript at 0x9a0e32e8>"
       ]
      },
      {
       "javascript": [
        "$('div#67006c9b-bf19-49ba-87b1-8f809873e8de').text('480 of 1498');"
       ],
       "metadata": {},
       "output_type": "display_data",
       "text": [
        "<IPython.core.display.Javascript at 0x9a1873c8>"
       ]
      },
      {
       "javascript": [
        "$('div#ccc8b474-cad9-4d0f-bee5-7c1073961646').text(' 32%');"
       ],
       "metadata": {},
       "output_type": "display_data",
       "text": [
        "<IPython.core.display.Javascript at 0x9a187be0>"
       ]
      },
      {
       "javascript": [
        "\n",
        "        var $myPB = $(\"div#05e60f80-71e0-4bdd-9a72-19109bad7ffb\")\n",
        "        if ($myPB.hasClass('ui-progressbar')) {\n",
        "            $myPB.progressbar('value', 480);\n",
        "        } else {\n",
        "            $myPB.progressbar({value: 0, max: 1498});\n",
        "        }\n",
        "        "
       ],
       "metadata": {},
       "output_type": "display_data",
       "text": [
        "<IPython.core.display.Javascript at 0x9a1305f8>"
       ]
      },
      {
       "javascript": [
        "$('div#6a57f302-c169-4047-b5e0-4b7933658dea').text('ETA:  0:00:00');"
       ],
       "metadata": {},
       "output_type": "display_data",
       "text": [
        "<IPython.core.display.Javascript at 0x9a0e32e8>"
       ]
      },
      {
       "javascript": [
        "$('div#67006c9b-bf19-49ba-87b1-8f809873e8de').text('495 of 1498');"
       ],
       "metadata": {},
       "output_type": "display_data",
       "text": [
        "<IPython.core.display.Javascript at 0x9a187390>"
       ]
      },
      {
       "javascript": [
        "$('div#ccc8b474-cad9-4d0f-bee5-7c1073961646').text(' 33%');"
       ],
       "metadata": {},
       "output_type": "display_data",
       "text": [
        "<IPython.core.display.Javascript at 0x9a187be0>"
       ]
      },
      {
       "javascript": [
        "\n",
        "        var $myPB = $(\"div#05e60f80-71e0-4bdd-9a72-19109bad7ffb\")\n",
        "        if ($myPB.hasClass('ui-progressbar')) {\n",
        "            $myPB.progressbar('value', 495);\n",
        "        } else {\n",
        "            $myPB.progressbar({value: 0, max: 1498});\n",
        "        }\n",
        "        "
       ],
       "metadata": {},
       "output_type": "display_data",
       "text": [
        "<IPython.core.display.Javascript at 0x9a1305f8>"
       ]
      },
      {
       "javascript": [
        "$('div#6a57f302-c169-4047-b5e0-4b7933658dea').text('ETA:  0:00:00');"
       ],
       "metadata": {},
       "output_type": "display_data",
       "text": [
        "<IPython.core.display.Javascript at 0x9a0e32e8>"
       ]
      },
      {
       "javascript": [
        "$('div#67006c9b-bf19-49ba-87b1-8f809873e8de').text('510 of 1498');"
       ],
       "metadata": {},
       "output_type": "display_data",
       "text": [
        "<IPython.core.display.Javascript at 0x9a187ef0>"
       ]
      },
      {
       "javascript": [
        "$('div#ccc8b474-cad9-4d0f-bee5-7c1073961646').text(' 34%');"
       ],
       "metadata": {},
       "output_type": "display_data",
       "text": [
        "<IPython.core.display.Javascript at 0x9a0b6b00>"
       ]
      },
      {
       "javascript": [
        "\n",
        "        var $myPB = $(\"div#05e60f80-71e0-4bdd-9a72-19109bad7ffb\")\n",
        "        if ($myPB.hasClass('ui-progressbar')) {\n",
        "            $myPB.progressbar('value', 510);\n",
        "        } else {\n",
        "            $myPB.progressbar({value: 0, max: 1498});\n",
        "        }\n",
        "        "
       ],
       "metadata": {},
       "output_type": "display_data",
       "text": [
        "<IPython.core.display.Javascript at 0x9a0e32e8>"
       ]
      },
      {
       "javascript": [
        "$('div#6a57f302-c169-4047-b5e0-4b7933658dea').text('ETA:  0:00:00');"
       ],
       "metadata": {},
       "output_type": "display_data",
       "text": [
        "<IPython.core.display.Javascript at 0x9a1305f8>"
       ]
      },
      {
       "javascript": [
        "$('div#67006c9b-bf19-49ba-87b1-8f809873e8de').text('525 of 1498');"
       ],
       "metadata": {},
       "output_type": "display_data",
       "text": [
        "<IPython.core.display.Javascript at 0x9a0b61d0>"
       ]
      },
      {
       "javascript": [
        "$('div#ccc8b474-cad9-4d0f-bee5-7c1073961646').text(' 35%');"
       ],
       "metadata": {},
       "output_type": "display_data",
       "text": [
        "<IPython.core.display.Javascript at 0x9a0b68d0>"
       ]
      },
      {
       "javascript": [
        "\n",
        "        var $myPB = $(\"div#05e60f80-71e0-4bdd-9a72-19109bad7ffb\")\n",
        "        if ($myPB.hasClass('ui-progressbar')) {\n",
        "            $myPB.progressbar('value', 525);\n",
        "        } else {\n",
        "            $myPB.progressbar({value: 0, max: 1498});\n",
        "        }\n",
        "        "
       ],
       "metadata": {},
       "output_type": "display_data",
       "text": [
        "<IPython.core.display.Javascript at 0x9a0e32e8>"
       ]
      },
      {
       "javascript": [
        "$('div#6a57f302-c169-4047-b5e0-4b7933658dea').text('ETA:  0:00:00');"
       ],
       "metadata": {},
       "output_type": "display_data",
       "text": [
        "<IPython.core.display.Javascript at 0x9a1305f8>"
       ]
      },
      {
       "javascript": [
        "$('div#67006c9b-bf19-49ba-87b1-8f809873e8de').text('540 of 1498');"
       ],
       "metadata": {},
       "output_type": "display_data",
       "text": [
        "<IPython.core.display.Javascript at 0x9a0b6780>"
       ]
      },
      {
       "javascript": [
        "$('div#ccc8b474-cad9-4d0f-bee5-7c1073961646').text(' 36%');"
       ],
       "metadata": {},
       "output_type": "display_data",
       "text": [
        "<IPython.core.display.Javascript at 0x9a0b68d0>"
       ]
      },
      {
       "javascript": [
        "\n",
        "        var $myPB = $(\"div#05e60f80-71e0-4bdd-9a72-19109bad7ffb\")\n",
        "        if ($myPB.hasClass('ui-progressbar')) {\n",
        "            $myPB.progressbar('value', 540);\n",
        "        } else {\n",
        "            $myPB.progressbar({value: 0, max: 1498});\n",
        "        }\n",
        "        "
       ],
       "metadata": {},
       "output_type": "display_data",
       "text": [
        "<IPython.core.display.Javascript at 0x9a0e32e8>"
       ]
      },
      {
       "javascript": [
        "$('div#6a57f302-c169-4047-b5e0-4b7933658dea').text('ETA:  0:00:00');"
       ],
       "metadata": {},
       "output_type": "display_data",
       "text": [
        "<IPython.core.display.Javascript at 0x9a1305f8>"
       ]
      },
      {
       "javascript": [
        "$('div#67006c9b-bf19-49ba-87b1-8f809873e8de').text('555 of 1498');"
       ],
       "metadata": {},
       "output_type": "display_data",
       "text": [
        "<IPython.core.display.Javascript at 0x9a0b64a8>"
       ]
      },
      {
       "javascript": [
        "$('div#ccc8b474-cad9-4d0f-bee5-7c1073961646').text(' 37%');"
       ],
       "metadata": {},
       "output_type": "display_data",
       "text": [
        "<IPython.core.display.Javascript at 0x9a0b6c50>"
       ]
      },
      {
       "javascript": [
        "\n",
        "        var $myPB = $(\"div#05e60f80-71e0-4bdd-9a72-19109bad7ffb\")\n",
        "        if ($myPB.hasClass('ui-progressbar')) {\n",
        "            $myPB.progressbar('value', 555);\n",
        "        } else {\n",
        "            $myPB.progressbar({value: 0, max: 1498});\n",
        "        }\n",
        "        "
       ],
       "metadata": {},
       "output_type": "display_data",
       "text": [
        "<IPython.core.display.Javascript at 0x9a0b6c50>"
       ]
      },
      {
       "javascript": [
        "$('div#6a57f302-c169-4047-b5e0-4b7933658dea').text('ETA:  0:00:00');"
       ],
       "metadata": {},
       "output_type": "display_data",
       "text": [
        "<IPython.core.display.Javascript at 0x9a0b6048>"
       ]
      },
      {
       "javascript": [
        "$('div#67006c9b-bf19-49ba-87b1-8f809873e8de').text('570 of 1498');"
       ],
       "metadata": {},
       "output_type": "display_data",
       "text": [
        "<IPython.core.display.Javascript at 0x9a0b61d0>"
       ]
      },
      {
       "javascript": [
        "$('div#ccc8b474-cad9-4d0f-bee5-7c1073961646').text(' 38%');"
       ],
       "metadata": {},
       "output_type": "display_data",
       "text": [
        "<IPython.core.display.Javascript at 0x9a1305f8>"
       ]
      },
      {
       "javascript": [
        "\n",
        "        var $myPB = $(\"div#05e60f80-71e0-4bdd-9a72-19109bad7ffb\")\n",
        "        if ($myPB.hasClass('ui-progressbar')) {\n",
        "            $myPB.progressbar('value', 570);\n",
        "        } else {\n",
        "            $myPB.progressbar({value: 0, max: 1498});\n",
        "        }\n",
        "        "
       ],
       "metadata": {},
       "output_type": "display_data",
       "text": [
        "<IPython.core.display.Javascript at 0x9a1305f8>"
       ]
      },
      {
       "javascript": [
        "$('div#6a57f302-c169-4047-b5e0-4b7933658dea').text('ETA:  0:00:00');"
       ],
       "metadata": {},
       "output_type": "display_data",
       "text": [
        "<IPython.core.display.Javascript at 0x9a0e32e8>"
       ]
      },
      {
       "javascript": [
        "$('div#67006c9b-bf19-49ba-87b1-8f809873e8de').text('585 of 1498');"
       ],
       "metadata": {},
       "output_type": "display_data",
       "text": [
        "<IPython.core.display.Javascript at 0x9a0b64a8>"
       ]
      },
      {
       "javascript": [
        "$('div#ccc8b474-cad9-4d0f-bee5-7c1073961646').text(' 39%');"
       ],
       "metadata": {},
       "output_type": "display_data",
       "text": [
        "<IPython.core.display.Javascript at 0x9a0b6c50>"
       ]
      },
      {
       "javascript": [
        "\n",
        "        var $myPB = $(\"div#05e60f80-71e0-4bdd-9a72-19109bad7ffb\")\n",
        "        if ($myPB.hasClass('ui-progressbar')) {\n",
        "            $myPB.progressbar('value', 585);\n",
        "        } else {\n",
        "            $myPB.progressbar({value: 0, max: 1498});\n",
        "        }\n",
        "        "
       ],
       "metadata": {},
       "output_type": "display_data",
       "text": [
        "<IPython.core.display.Javascript at 0x9a0e32e8>"
       ]
      },
      {
       "javascript": [
        "$('div#6a57f302-c169-4047-b5e0-4b7933658dea').text('ETA:  0:00:00');"
       ],
       "metadata": {},
       "output_type": "display_data",
       "text": [
        "<IPython.core.display.Javascript at 0x9a1305f8>"
       ]
      },
      {
       "javascript": [
        "$('div#67006c9b-bf19-49ba-87b1-8f809873e8de').text('600 of 1498');"
       ],
       "metadata": {},
       "output_type": "display_data",
       "text": [
        "<IPython.core.display.Javascript at 0x9a0b6c50>"
       ]
      },
      {
       "javascript": [
        "$('div#ccc8b474-cad9-4d0f-bee5-7c1073961646').text(' 40%');"
       ],
       "metadata": {},
       "output_type": "display_data",
       "text": [
        "<IPython.core.display.Javascript at 0x9a0b6780>"
       ]
      },
      {
       "javascript": [
        "\n",
        "        var $myPB = $(\"div#05e60f80-71e0-4bdd-9a72-19109bad7ffb\")\n",
        "        if ($myPB.hasClass('ui-progressbar')) {\n",
        "            $myPB.progressbar('value', 600);\n",
        "        } else {\n",
        "            $myPB.progressbar({value: 0, max: 1498});\n",
        "        }\n",
        "        "
       ],
       "metadata": {},
       "output_type": "display_data",
       "text": [
        "<IPython.core.display.Javascript at 0x9a1305f8>"
       ]
      },
      {
       "javascript": [
        "$('div#6a57f302-c169-4047-b5e0-4b7933658dea').text('ETA:  0:00:00');"
       ],
       "metadata": {},
       "output_type": "display_data",
       "text": [
        "<IPython.core.display.Javascript at 0x9a0e32e8>"
       ]
      },
      {
       "javascript": [
        "$('div#67006c9b-bf19-49ba-87b1-8f809873e8de').text('615 of 1498');"
       ],
       "metadata": {},
       "output_type": "display_data",
       "text": [
        "<IPython.core.display.Javascript at 0x9a0b6780>"
       ]
      },
      {
       "javascript": [
        "$('div#ccc8b474-cad9-4d0f-bee5-7c1073961646').text(' 41%');"
       ],
       "metadata": {},
       "output_type": "display_data",
       "text": [
        "<IPython.core.display.Javascript at 0x9a0b64a8>"
       ]
      },
      {
       "javascript": [
        "\n",
        "        var $myPB = $(\"div#05e60f80-71e0-4bdd-9a72-19109bad7ffb\")\n",
        "        if ($myPB.hasClass('ui-progressbar')) {\n",
        "            $myPB.progressbar('value', 615);\n",
        "        } else {\n",
        "            $myPB.progressbar({value: 0, max: 1498});\n",
        "        }\n",
        "        "
       ],
       "metadata": {},
       "output_type": "display_data",
       "text": [
        "<IPython.core.display.Javascript at 0x9a0e32e8>"
       ]
      },
      {
       "javascript": [
        "$('div#6a57f302-c169-4047-b5e0-4b7933658dea').text('ETA:  0:00:00');"
       ],
       "metadata": {},
       "output_type": "display_data",
       "text": [
        "<IPython.core.display.Javascript at 0x9a1305f8>"
       ]
      },
      {
       "javascript": [
        "$('div#67006c9b-bf19-49ba-87b1-8f809873e8de').text('630 of 1498');"
       ],
       "metadata": {},
       "output_type": "display_data",
       "text": [
        "<IPython.core.display.Javascript at 0x9a0b6c50>"
       ]
      },
      {
       "javascript": [
        "$('div#ccc8b474-cad9-4d0f-bee5-7c1073961646').text(' 42%');"
       ],
       "metadata": {},
       "output_type": "display_data",
       "text": [
        "<IPython.core.display.Javascript at 0x9a0b6048>"
       ]
      },
      {
       "javascript": [
        "\n",
        "        var $myPB = $(\"div#05e60f80-71e0-4bdd-9a72-19109bad7ffb\")\n",
        "        if ($myPB.hasClass('ui-progressbar')) {\n",
        "            $myPB.progressbar('value', 630);\n",
        "        } else {\n",
        "            $myPB.progressbar({value: 0, max: 1498});\n",
        "        }\n",
        "        "
       ],
       "metadata": {},
       "output_type": "display_data",
       "text": [
        "<IPython.core.display.Javascript at 0x9a1305f8>"
       ]
      },
      {
       "javascript": [
        "$('div#6a57f302-c169-4047-b5e0-4b7933658dea').text('ETA:  0:00:00');"
       ],
       "metadata": {},
       "output_type": "display_data",
       "text": [
        "<IPython.core.display.Javascript at 0x9a0e32e8>"
       ]
      },
      {
       "javascript": [
        "$('div#67006c9b-bf19-49ba-87b1-8f809873e8de').text('645 of 1498');"
       ],
       "metadata": {},
       "output_type": "display_data",
       "text": [
        "<IPython.core.display.Javascript at 0x9a0b6c50>"
       ]
      },
      {
       "javascript": [
        "$('div#ccc8b474-cad9-4d0f-bee5-7c1073961646').text(' 43%');"
       ],
       "metadata": {},
       "output_type": "display_data",
       "text": [
        "<IPython.core.display.Javascript at 0x9a0a9eb8>"
       ]
      },
      {
       "javascript": [
        "\n",
        "        var $myPB = $(\"div#05e60f80-71e0-4bdd-9a72-19109bad7ffb\")\n",
        "        if ($myPB.hasClass('ui-progressbar')) {\n",
        "            $myPB.progressbar('value', 645);\n",
        "        } else {\n",
        "            $myPB.progressbar({value: 0, max: 1498});\n",
        "        }\n",
        "        "
       ],
       "metadata": {},
       "output_type": "display_data",
       "text": [
        "<IPython.core.display.Javascript at 0x9a0e32e8>"
       ]
      },
      {
       "javascript": [
        "$('div#6a57f302-c169-4047-b5e0-4b7933658dea').text('ETA:  0:00:00');"
       ],
       "metadata": {},
       "output_type": "display_data",
       "text": [
        "<IPython.core.display.Javascript at 0x9a0b6c50>"
       ]
      },
      {
       "javascript": [
        "$('div#67006c9b-bf19-49ba-87b1-8f809873e8de').text('660 of 1498');"
       ],
       "metadata": {},
       "output_type": "display_data",
       "text": [
        "<IPython.core.display.Javascript at 0x9a1305f8>"
       ]
      },
      {
       "javascript": [
        "$('div#ccc8b474-cad9-4d0f-bee5-7c1073961646').text(' 44%');"
       ],
       "metadata": {},
       "output_type": "display_data",
       "text": [
        "<IPython.core.display.Javascript at 0x9a0a9eb8>"
       ]
      },
      {
       "javascript": [
        "\n",
        "        var $myPB = $(\"div#05e60f80-71e0-4bdd-9a72-19109bad7ffb\")\n",
        "        if ($myPB.hasClass('ui-progressbar')) {\n",
        "            $myPB.progressbar('value', 660);\n",
        "        } else {\n",
        "            $myPB.progressbar({value: 0, max: 1498});\n",
        "        }\n",
        "        "
       ],
       "metadata": {},
       "output_type": "display_data",
       "text": [
        "<IPython.core.display.Javascript at 0x9a0b6c50>"
       ]
      },
      {
       "javascript": [
        "$('div#6a57f302-c169-4047-b5e0-4b7933658dea').text('ETA:  0:00:00');"
       ],
       "metadata": {},
       "output_type": "display_data",
       "text": [
        "<IPython.core.display.Javascript at 0x9a0e32e8>"
       ]
      },
      {
       "javascript": [
        "$('div#67006c9b-bf19-49ba-87b1-8f809873e8de').text('675 of 1498');"
       ],
       "metadata": {},
       "output_type": "display_data",
       "text": [
        "<IPython.core.display.Javascript at 0x9a0a98d0>"
       ]
      },
      {
       "javascript": [
        "$('div#ccc8b474-cad9-4d0f-bee5-7c1073961646').text(' 45%');"
       ],
       "metadata": {},
       "output_type": "display_data",
       "text": [
        "<IPython.core.display.Javascript at 0x9a0a96a0>"
       ]
      },
      {
       "javascript": [
        "\n",
        "        var $myPB = $(\"div#05e60f80-71e0-4bdd-9a72-19109bad7ffb\")\n",
        "        if ($myPB.hasClass('ui-progressbar')) {\n",
        "            $myPB.progressbar('value', 675);\n",
        "        } else {\n",
        "            $myPB.progressbar({value: 0, max: 1498});\n",
        "        }\n",
        "        "
       ],
       "metadata": {},
       "output_type": "display_data",
       "text": [
        "<IPython.core.display.Javascript at 0x9a0b6c50>"
       ]
      },
      {
       "javascript": [
        "$('div#6a57f302-c169-4047-b5e0-4b7933658dea').text('ETA:  0:00:00');"
       ],
       "metadata": {},
       "output_type": "display_data",
       "text": [
        "<IPython.core.display.Javascript at 0x9a0e32e8>"
       ]
      },
      {
       "javascript": [
        "$('div#67006c9b-bf19-49ba-87b1-8f809873e8de').text('690 of 1498');"
       ],
       "metadata": {},
       "output_type": "display_data",
       "text": [
        "<IPython.core.display.Javascript at 0x9a0a9780>"
       ]
      },
      {
       "javascript": [
        "$('div#ccc8b474-cad9-4d0f-bee5-7c1073961646').text(' 46%');"
       ],
       "metadata": {},
       "output_type": "display_data",
       "text": [
        "<IPython.core.display.Javascript at 0x9a0a9b00>"
       ]
      },
      {
       "javascript": [
        "\n",
        "        var $myPB = $(\"div#05e60f80-71e0-4bdd-9a72-19109bad7ffb\")\n",
        "        if ($myPB.hasClass('ui-progressbar')) {\n",
        "            $myPB.progressbar('value', 690);\n",
        "        } else {\n",
        "            $myPB.progressbar({value: 0, max: 1498});\n",
        "        }\n",
        "        "
       ],
       "metadata": {},
       "output_type": "display_data",
       "text": [
        "<IPython.core.display.Javascript at 0x9a0a9b00>"
       ]
      },
      {
       "javascript": [
        "$('div#6a57f302-c169-4047-b5e0-4b7933658dea').text('ETA:  0:00:00');"
       ],
       "metadata": {},
       "output_type": "display_data",
       "text": [
        "<IPython.core.display.Javascript at 0x9a0a98d0>"
       ]
      },
      {
       "javascript": [
        "$('div#67006c9b-bf19-49ba-87b1-8f809873e8de').text('705 of 1498');"
       ],
       "metadata": {},
       "output_type": "display_data",
       "text": [
        "<IPython.core.display.Javascript at 0x9a0a9cc0>"
       ]
      },
      {
       "javascript": [
        "$('div#ccc8b474-cad9-4d0f-bee5-7c1073961646').text(' 47%');"
       ],
       "metadata": {},
       "output_type": "display_data",
       "text": [
        "<IPython.core.display.Javascript at 0x9a0e32e8>"
       ]
      },
      {
       "javascript": [
        "\n",
        "        var $myPB = $(\"div#05e60f80-71e0-4bdd-9a72-19109bad7ffb\")\n",
        "        if ($myPB.hasClass('ui-progressbar')) {\n",
        "            $myPB.progressbar('value', 705);\n",
        "        } else {\n",
        "            $myPB.progressbar({value: 0, max: 1498});\n",
        "        }\n",
        "        "
       ],
       "metadata": {},
       "output_type": "display_data",
       "text": [
        "<IPython.core.display.Javascript at 0x9a0e32e8>"
       ]
      },
      {
       "javascript": [
        "$('div#6a57f302-c169-4047-b5e0-4b7933658dea').text('ETA:  0:00:00');"
       ],
       "metadata": {},
       "output_type": "display_data",
       "text": [
        "<IPython.core.display.Javascript at 0x9a0b6c50>"
       ]
      },
      {
       "javascript": [
        "$('div#67006c9b-bf19-49ba-87b1-8f809873e8de').text('720 of 1498');"
       ],
       "metadata": {},
       "output_type": "display_data",
       "text": [
        "<IPython.core.display.Javascript at 0x9a0a9cc0>"
       ]
      },
      {
       "javascript": [
        "$('div#ccc8b474-cad9-4d0f-bee5-7c1073961646').text(' 48%');"
       ],
       "metadata": {},
       "output_type": "display_data",
       "text": [
        "<IPython.core.display.Javascript at 0x9a0a9940>"
       ]
      },
      {
       "javascript": [
        "\n",
        "        var $myPB = $(\"div#05e60f80-71e0-4bdd-9a72-19109bad7ffb\")\n",
        "        if ($myPB.hasClass('ui-progressbar')) {\n",
        "            $myPB.progressbar('value', 720);\n",
        "        } else {\n",
        "            $myPB.progressbar({value: 0, max: 1498});\n",
        "        }\n",
        "        "
       ],
       "metadata": {},
       "output_type": "display_data",
       "text": [
        "<IPython.core.display.Javascript at 0x9a0a9940>"
       ]
      },
      {
       "javascript": [
        "$('div#6a57f302-c169-4047-b5e0-4b7933658dea').text('ETA:  0:00:00');"
       ],
       "metadata": {},
       "output_type": "display_data",
       "text": [
        "<IPython.core.display.Javascript at 0x9a0b6c50>"
       ]
      },
      {
       "javascript": [
        "$('div#67006c9b-bf19-49ba-87b1-8f809873e8de').text('735 of 1498');"
       ],
       "metadata": {},
       "output_type": "display_data",
       "text": [
        "<IPython.core.display.Javascript at 0x9a0e32e8>"
       ]
      },
      {
       "javascript": [
        "$('div#ccc8b474-cad9-4d0f-bee5-7c1073961646').text(' 49%');"
       ],
       "metadata": {},
       "output_type": "display_data",
       "text": [
        "<IPython.core.display.Javascript at 0x9a0a98d0>"
       ]
      },
      {
       "javascript": [
        "\n",
        "        var $myPB = $(\"div#05e60f80-71e0-4bdd-9a72-19109bad7ffb\")\n",
        "        if ($myPB.hasClass('ui-progressbar')) {\n",
        "            $myPB.progressbar('value', 735);\n",
        "        } else {\n",
        "            $myPB.progressbar({value: 0, max: 1498});\n",
        "        }\n",
        "        "
       ],
       "metadata": {},
       "output_type": "display_data",
       "text": [
        "<IPython.core.display.Javascript at 0x9a0b6c50>"
       ]
      },
      {
       "javascript": [
        "$('div#6a57f302-c169-4047-b5e0-4b7933658dea').text('ETA:  0:00:00');"
       ],
       "metadata": {},
       "output_type": "display_data",
       "text": [
        "<IPython.core.display.Javascript at 0x9a0e32e8>"
       ]
      },
      {
       "javascript": [
        "$('div#67006c9b-bf19-49ba-87b1-8f809873e8de').text('750 of 1498');"
       ],
       "metadata": {},
       "output_type": "display_data",
       "text": [
        "<IPython.core.display.Javascript at 0x9a0a98d0>"
       ]
      },
      {
       "javascript": [
        "$('div#ccc8b474-cad9-4d0f-bee5-7c1073961646').text(' 50%');"
       ],
       "metadata": {},
       "output_type": "display_data",
       "text": [
        "<IPython.core.display.Javascript at 0x9a0a9940>"
       ]
      },
      {
       "javascript": [
        "\n",
        "        var $myPB = $(\"div#05e60f80-71e0-4bdd-9a72-19109bad7ffb\")\n",
        "        if ($myPB.hasClass('ui-progressbar')) {\n",
        "            $myPB.progressbar('value', 750);\n",
        "        } else {\n",
        "            $myPB.progressbar({value: 0, max: 1498});\n",
        "        }\n",
        "        "
       ],
       "metadata": {},
       "output_type": "display_data",
       "text": [
        "<IPython.core.display.Javascript at 0x9a0e32e8>"
       ]
      },
      {
       "javascript": [
        "$('div#6a57f302-c169-4047-b5e0-4b7933658dea').text('ETA:  0:00:00');"
       ],
       "metadata": {},
       "output_type": "display_data",
       "text": [
        "<IPython.core.display.Javascript at 0x9a0b6c50>"
       ]
      },
      {
       "javascript": [
        "$('div#67006c9b-bf19-49ba-87b1-8f809873e8de').text('765 of 1498');"
       ],
       "metadata": {},
       "output_type": "display_data",
       "text": [
        "<IPython.core.display.Javascript at 0x9a0a9fd0>"
       ]
      },
      {
       "javascript": [
        "$('div#ccc8b474-cad9-4d0f-bee5-7c1073961646').text(' 51%');"
       ],
       "metadata": {},
       "output_type": "display_data",
       "text": [
        "<IPython.core.display.Javascript at 0x9a0a98d0>"
       ]
      },
      {
       "javascript": [
        "\n",
        "        var $myPB = $(\"div#05e60f80-71e0-4bdd-9a72-19109bad7ffb\")\n",
        "        if ($myPB.hasClass('ui-progressbar')) {\n",
        "            $myPB.progressbar('value', 765);\n",
        "        } else {\n",
        "            $myPB.progressbar({value: 0, max: 1498});\n",
        "        }\n",
        "        "
       ],
       "metadata": {},
       "output_type": "display_data",
       "text": [
        "<IPython.core.display.Javascript at 0x9a0b6c50>"
       ]
      },
      {
       "javascript": [
        "$('div#6a57f302-c169-4047-b5e0-4b7933658dea').text('ETA:  0:00:00');"
       ],
       "metadata": {},
       "output_type": "display_data",
       "text": [
        "<IPython.core.display.Javascript at 0x9a0e32e8>"
       ]
      },
      {
       "javascript": [
        "$('div#67006c9b-bf19-49ba-87b1-8f809873e8de').text('780 of 1498');"
       ],
       "metadata": {},
       "output_type": "display_data",
       "text": [
        "<IPython.core.display.Javascript at 0x9a0a98d0>"
       ]
      },
      {
       "javascript": [
        "$('div#ccc8b474-cad9-4d0f-bee5-7c1073961646').text(' 52%');"
       ],
       "metadata": {},
       "output_type": "display_data",
       "text": [
        "<IPython.core.display.Javascript at 0x9a0755c0>"
       ]
      },
      {
       "javascript": [
        "\n",
        "        var $myPB = $(\"div#05e60f80-71e0-4bdd-9a72-19109bad7ffb\")\n",
        "        if ($myPB.hasClass('ui-progressbar')) {\n",
        "            $myPB.progressbar('value', 780);\n",
        "        } else {\n",
        "            $myPB.progressbar({value: 0, max: 1498});\n",
        "        }\n",
        "        "
       ],
       "metadata": {},
       "output_type": "display_data",
       "text": [
        "<IPython.core.display.Javascript at 0x9a0e32e8>"
       ]
      },
      {
       "javascript": [
        "$('div#6a57f302-c169-4047-b5e0-4b7933658dea').text('ETA:  0:00:00');"
       ],
       "metadata": {},
       "output_type": "display_data",
       "text": [
        "<IPython.core.display.Javascript at 0x9a0b6c50>"
       ]
      },
      {
       "javascript": [
        "$('div#67006c9b-bf19-49ba-87b1-8f809873e8de').text('795 of 1498');"
       ],
       "metadata": {},
       "output_type": "display_data",
       "text": [
        "<IPython.core.display.Javascript at 0x9a075d30>"
       ]
      },
      {
       "javascript": [
        "$('div#ccc8b474-cad9-4d0f-bee5-7c1073961646').text(' 53%');"
       ],
       "metadata": {},
       "output_type": "display_data",
       "text": [
        "<IPython.core.display.Javascript at 0x9a075390>"
       ]
      },
      {
       "javascript": [
        "\n",
        "        var $myPB = $(\"div#05e60f80-71e0-4bdd-9a72-19109bad7ffb\")\n",
        "        if ($myPB.hasClass('ui-progressbar')) {\n",
        "            $myPB.progressbar('value', 795);\n",
        "        } else {\n",
        "            $myPB.progressbar({value: 0, max: 1498});\n",
        "        }\n",
        "        "
       ],
       "metadata": {},
       "output_type": "display_data",
       "text": [
        "<IPython.core.display.Javascript at 0x9a0e32e8>"
       ]
      },
      {
       "javascript": [
        "$('div#6a57f302-c169-4047-b5e0-4b7933658dea').text('ETA:  0:00:00');"
       ],
       "metadata": {},
       "output_type": "display_data",
       "text": [
        "<IPython.core.display.Javascript at 0x9a0b6c50>"
       ]
      },
      {
       "javascript": [
        "$('div#67006c9b-bf19-49ba-87b1-8f809873e8de').text('810 of 1498');"
       ],
       "metadata": {},
       "output_type": "display_data",
       "text": [
        "<IPython.core.display.Javascript at 0x9a89fe48>"
       ]
      },
      {
       "javascript": [
        "$('div#ccc8b474-cad9-4d0f-bee5-7c1073961646').text(' 54%');"
       ],
       "metadata": {},
       "output_type": "display_data",
       "text": [
        "<IPython.core.display.Javascript at 0x9a89ffd0>"
       ]
      },
      {
       "javascript": [
        "\n",
        "        var $myPB = $(\"div#05e60f80-71e0-4bdd-9a72-19109bad7ffb\")\n",
        "        if ($myPB.hasClass('ui-progressbar')) {\n",
        "            $myPB.progressbar('value', 810);\n",
        "        } else {\n",
        "            $myPB.progressbar({value: 0, max: 1498});\n",
        "        }\n",
        "        "
       ],
       "metadata": {},
       "output_type": "display_data",
       "text": [
        "<IPython.core.display.Javascript at 0x9a0e32e8>"
       ]
      },
      {
       "javascript": [
        "$('div#6a57f302-c169-4047-b5e0-4b7933658dea').text('ETA:  0:00:00');"
       ],
       "metadata": {},
       "output_type": "display_data",
       "text": [
        "<IPython.core.display.Javascript at 0x9a0b6c50>"
       ]
      },
      {
       "javascript": [
        "$('div#67006c9b-bf19-49ba-87b1-8f809873e8de').text('825 of 1498');"
       ],
       "metadata": {},
       "output_type": "display_data",
       "text": [
        "<IPython.core.display.Javascript at 0x9a89f080>"
       ]
      },
      {
       "javascript": [
        "$('div#ccc8b474-cad9-4d0f-bee5-7c1073961646').text(' 55%');"
       ],
       "metadata": {},
       "output_type": "display_data",
       "text": [
        "<IPython.core.display.Javascript at 0x9a89f160>"
       ]
      },
      {
       "javascript": [
        "\n",
        "        var $myPB = $(\"div#05e60f80-71e0-4bdd-9a72-19109bad7ffb\")\n",
        "        if ($myPB.hasClass('ui-progressbar')) {\n",
        "            $myPB.progressbar('value', 825);\n",
        "        } else {\n",
        "            $myPB.progressbar({value: 0, max: 1498});\n",
        "        }\n",
        "        "
       ],
       "metadata": {},
       "output_type": "display_data",
       "text": [
        "<IPython.core.display.Javascript at 0x9a0e32e8>"
       ]
      },
      {
       "javascript": [
        "$('div#6a57f302-c169-4047-b5e0-4b7933658dea').text('ETA:  0:00:00');"
       ],
       "metadata": {},
       "output_type": "display_data",
       "text": [
        "<IPython.core.display.Javascript at 0x9a0b6c50>"
       ]
      },
      {
       "javascript": [
        "$('div#67006c9b-bf19-49ba-87b1-8f809873e8de').text('840 of 1498');"
       ],
       "metadata": {},
       "output_type": "display_data",
       "text": [
        "<IPython.core.display.Javascript at 0x9a89f160>"
       ]
      },
      {
       "javascript": [
        "$('div#ccc8b474-cad9-4d0f-bee5-7c1073961646').text(' 56%');"
       ],
       "metadata": {},
       "output_type": "display_data",
       "text": [
        "<IPython.core.display.Javascript at 0x9a89fd68>"
       ]
      },
      {
       "javascript": [
        "\n",
        "        var $myPB = $(\"div#05e60f80-71e0-4bdd-9a72-19109bad7ffb\")\n",
        "        if ($myPB.hasClass('ui-progressbar')) {\n",
        "            $myPB.progressbar('value', 840);\n",
        "        } else {\n",
        "            $myPB.progressbar({value: 0, max: 1498});\n",
        "        }\n",
        "        "
       ],
       "metadata": {},
       "output_type": "display_data",
       "text": [
        "<IPython.core.display.Javascript at 0x9a0e32e8>"
       ]
      },
      {
       "javascript": [
        "$('div#6a57f302-c169-4047-b5e0-4b7933658dea').text('ETA:  0:00:00');"
       ],
       "metadata": {},
       "output_type": "display_data",
       "text": [
        "<IPython.core.display.Javascript at 0x9a0b6c50>"
       ]
      },
      {
       "javascript": [
        "$('div#67006c9b-bf19-49ba-87b1-8f809873e8de').text('855 of 1498');"
       ],
       "metadata": {},
       "output_type": "display_data",
       "text": [
        "<IPython.core.display.Javascript at 0x9a89fd68>"
       ]
      },
      {
       "javascript": [
        "$('div#ccc8b474-cad9-4d0f-bee5-7c1073961646').text(' 57%');"
       ],
       "metadata": {},
       "output_type": "display_data",
       "text": [
        "<IPython.core.display.Javascript at 0x9a89f080>"
       ]
      },
      {
       "javascript": [
        "\n",
        "        var $myPB = $(\"div#05e60f80-71e0-4bdd-9a72-19109bad7ffb\")\n",
        "        if ($myPB.hasClass('ui-progressbar')) {\n",
        "            $myPB.progressbar('value', 855);\n",
        "        } else {\n",
        "            $myPB.progressbar({value: 0, max: 1498});\n",
        "        }\n",
        "        "
       ],
       "metadata": {},
       "output_type": "display_data",
       "text": [
        "<IPython.core.display.Javascript at 0x9a0e32e8>"
       ]
      },
      {
       "javascript": [
        "$('div#6a57f302-c169-4047-b5e0-4b7933658dea').text('ETA:  0:00:00');"
       ],
       "metadata": {},
       "output_type": "display_data",
       "text": [
        "<IPython.core.display.Javascript at 0x9a0b6c50>"
       ]
      },
      {
       "javascript": [
        "$('div#67006c9b-bf19-49ba-87b1-8f809873e8de').text('870 of 1498');"
       ],
       "metadata": {},
       "output_type": "display_data",
       "text": [
        "<IPython.core.display.Javascript at 0x9a89f978>"
       ]
      },
      {
       "javascript": [
        "$('div#ccc8b474-cad9-4d0f-bee5-7c1073961646').text(' 58%');"
       ],
       "metadata": {},
       "output_type": "display_data",
       "text": [
        "<IPython.core.display.Javascript at 0x9a89f0f0>"
       ]
      },
      {
       "javascript": [
        "\n",
        "        var $myPB = $(\"div#05e60f80-71e0-4bdd-9a72-19109bad7ffb\")\n",
        "        if ($myPB.hasClass('ui-progressbar')) {\n",
        "            $myPB.progressbar('value', 870);\n",
        "        } else {\n",
        "            $myPB.progressbar({value: 0, max: 1498});\n",
        "        }\n",
        "        "
       ],
       "metadata": {},
       "output_type": "display_data",
       "text": [
        "<IPython.core.display.Javascript at 0x9a89f0f0>"
       ]
      },
      {
       "javascript": [
        "$('div#6a57f302-c169-4047-b5e0-4b7933658dea').text('ETA:  0:00:00');"
       ],
       "metadata": {},
       "output_type": "display_data",
       "text": [
        "<IPython.core.display.Javascript at 0x9a89fa58>"
       ]
      },
      {
       "javascript": [
        "$('div#67006c9b-bf19-49ba-87b1-8f809873e8de').text('885 of 1498');"
       ],
       "metadata": {},
       "output_type": "display_data",
       "text": [
        "<IPython.core.display.Javascript at 0x9a89fd68>"
       ]
      },
      {
       "javascript": [
        "$('div#ccc8b474-cad9-4d0f-bee5-7c1073961646').text(' 59%');"
       ],
       "metadata": {},
       "output_type": "display_data",
       "text": [
        "<IPython.core.display.Javascript at 0x9a89fd30>"
       ]
      },
      {
       "javascript": [
        "\n",
        "        var $myPB = $(\"div#05e60f80-71e0-4bdd-9a72-19109bad7ffb\")\n",
        "        if ($myPB.hasClass('ui-progressbar')) {\n",
        "            $myPB.progressbar('value', 885);\n",
        "        } else {\n",
        "            $myPB.progressbar({value: 0, max: 1498});\n",
        "        }\n",
        "        "
       ],
       "metadata": {},
       "output_type": "display_data",
       "text": [
        "<IPython.core.display.Javascript at 0x9a0e32e8>"
       ]
      },
      {
       "javascript": [
        "$('div#6a57f302-c169-4047-b5e0-4b7933658dea').text('ETA:  0:00:00');"
       ],
       "metadata": {},
       "output_type": "display_data",
       "text": [
        "<IPython.core.display.Javascript at 0x9a0b6c50>"
       ]
      },
      {
       "javascript": [
        "$('div#67006c9b-bf19-49ba-87b1-8f809873e8de').text('900 of 1498');"
       ],
       "metadata": {},
       "output_type": "display_data",
       "text": [
        "<IPython.core.display.Javascript at 0x9a0fbeb8>"
       ]
      },
      {
       "javascript": [
        "$('div#ccc8b474-cad9-4d0f-bee5-7c1073961646').text(' 60%');"
       ],
       "metadata": {},
       "output_type": "display_data",
       "text": [
        "<IPython.core.display.Javascript at 0x9a0fb8d0>"
       ]
      },
      {
       "javascript": [
        "\n",
        "        var $myPB = $(\"div#05e60f80-71e0-4bdd-9a72-19109bad7ffb\")\n",
        "        if ($myPB.hasClass('ui-progressbar')) {\n",
        "            $myPB.progressbar('value', 900);\n",
        "        } else {\n",
        "            $myPB.progressbar({value: 0, max: 1498});\n",
        "        }\n",
        "        "
       ],
       "metadata": {},
       "output_type": "display_data",
       "text": [
        "<IPython.core.display.Javascript at 0x9a0e32e8>"
       ]
      },
      {
       "javascript": [
        "$('div#6a57f302-c169-4047-b5e0-4b7933658dea').text('ETA:  0:00:00');"
       ],
       "metadata": {},
       "output_type": "display_data",
       "text": [
        "<IPython.core.display.Javascript at 0x9a0b6c50>"
       ]
      },
      {
       "javascript": [
        "$('div#67006c9b-bf19-49ba-87b1-8f809873e8de').text('915 of 1498');"
       ],
       "metadata": {},
       "output_type": "display_data",
       "text": [
        "<IPython.core.display.Javascript at 0x9a0fb4e0>"
       ]
      },
      {
       "javascript": [
        "$('div#ccc8b474-cad9-4d0f-bee5-7c1073961646').text(' 61%');"
       ],
       "metadata": {},
       "output_type": "display_data",
       "text": [
        "<IPython.core.display.Javascript at 0x9a0fb8d0>"
       ]
      },
      {
       "javascript": [
        "\n",
        "        var $myPB = $(\"div#05e60f80-71e0-4bdd-9a72-19109bad7ffb\")\n",
        "        if ($myPB.hasClass('ui-progressbar')) {\n",
        "            $myPB.progressbar('value', 915);\n",
        "        } else {\n",
        "            $myPB.progressbar({value: 0, max: 1498});\n",
        "        }\n",
        "        "
       ],
       "metadata": {},
       "output_type": "display_data",
       "text": [
        "<IPython.core.display.Javascript at 0x9a0e32e8>"
       ]
      },
      {
       "javascript": [
        "$('div#6a57f302-c169-4047-b5e0-4b7933658dea').text('ETA:  0:00:00');"
       ],
       "metadata": {},
       "output_type": "display_data",
       "text": [
        "<IPython.core.display.Javascript at 0x9a0b6c50>"
       ]
      },
      {
       "javascript": [
        "$('div#67006c9b-bf19-49ba-87b1-8f809873e8de').text('930 of 1498');"
       ],
       "metadata": {},
       "output_type": "display_data",
       "text": [
        "<IPython.core.display.Javascript at 0x9a0fb8d0>"
       ]
      },
      {
       "javascript": [
        "$('div#ccc8b474-cad9-4d0f-bee5-7c1073961646').text(' 62%');"
       ],
       "metadata": {},
       "output_type": "display_data",
       "text": [
        "<IPython.core.display.Javascript at 0x9a0fbb38>"
       ]
      },
      {
       "javascript": [
        "\n",
        "        var $myPB = $(\"div#05e60f80-71e0-4bdd-9a72-19109bad7ffb\")\n",
        "        if ($myPB.hasClass('ui-progressbar')) {\n",
        "            $myPB.progressbar('value', 930);\n",
        "        } else {\n",
        "            $myPB.progressbar({value: 0, max: 1498});\n",
        "        }\n",
        "        "
       ],
       "metadata": {},
       "output_type": "display_data",
       "text": [
        "<IPython.core.display.Javascript at 0x9a0e32e8>"
       ]
      },
      {
       "javascript": [
        "$('div#6a57f302-c169-4047-b5e0-4b7933658dea').text('ETA:  0:00:00');"
       ],
       "metadata": {},
       "output_type": "display_data",
       "text": [
        "<IPython.core.display.Javascript at 0x9a0b6c50>"
       ]
      },
      {
       "javascript": [
        "$('div#67006c9b-bf19-49ba-87b1-8f809873e8de').text('945 of 1498');"
       ],
       "metadata": {},
       "output_type": "display_data",
       "text": [
        "<IPython.core.display.Javascript at 0x9a0fbc88>"
       ]
      },
      {
       "javascript": [
        "$('div#ccc8b474-cad9-4d0f-bee5-7c1073961646').text(' 63%');"
       ],
       "metadata": {},
       "output_type": "display_data",
       "text": [
        "<IPython.core.display.Javascript at 0x9a0fbb38>"
       ]
      },
      {
       "javascript": [
        "\n",
        "        var $myPB = $(\"div#05e60f80-71e0-4bdd-9a72-19109bad7ffb\")\n",
        "        if ($myPB.hasClass('ui-progressbar')) {\n",
        "            $myPB.progressbar('value', 945);\n",
        "        } else {\n",
        "            $myPB.progressbar({value: 0, max: 1498});\n",
        "        }\n",
        "        "
       ],
       "metadata": {},
       "output_type": "display_data",
       "text": [
        "<IPython.core.display.Javascript at 0x9a0e32e8>"
       ]
      },
      {
       "javascript": [
        "$('div#6a57f302-c169-4047-b5e0-4b7933658dea').text('ETA:  0:00:00');"
       ],
       "metadata": {},
       "output_type": "display_data",
       "text": [
        "<IPython.core.display.Javascript at 0x9a0b6c50>"
       ]
      },
      {
       "javascript": [
        "$('div#67006c9b-bf19-49ba-87b1-8f809873e8de').text('960 of 1498');"
       ],
       "metadata": {},
       "output_type": "display_data",
       "text": [
        "<IPython.core.display.Javascript at 0x9a0fb4e0>"
       ]
      },
      {
       "javascript": [
        "$('div#ccc8b474-cad9-4d0f-bee5-7c1073961646').text(' 64%');"
       ],
       "metadata": {},
       "output_type": "display_data",
       "text": [
        "<IPython.core.display.Javascript at 0x9a0fb748>"
       ]
      },
      {
       "javascript": [
        "\n",
        "        var $myPB = $(\"div#05e60f80-71e0-4bdd-9a72-19109bad7ffb\")\n",
        "        if ($myPB.hasClass('ui-progressbar')) {\n",
        "            $myPB.progressbar('value', 960);\n",
        "        } else {\n",
        "            $myPB.progressbar({value: 0, max: 1498});\n",
        "        }\n",
        "        "
       ],
       "metadata": {},
       "output_type": "display_data",
       "text": [
        "<IPython.core.display.Javascript at 0x9a0e32e8>"
       ]
      },
      {
       "javascript": [
        "$('div#6a57f302-c169-4047-b5e0-4b7933658dea').text('ETA:  0:00:00');"
       ],
       "metadata": {},
       "output_type": "display_data",
       "text": [
        "<IPython.core.display.Javascript at 0x9a0b6c50>"
       ]
      },
      {
       "javascript": [
        "$('div#67006c9b-bf19-49ba-87b1-8f809873e8de').text('975 of 1498');"
       ],
       "metadata": {},
       "output_type": "display_data",
       "text": [
        "<IPython.core.display.Javascript at 0x9a0fb8d0>"
       ]
      },
      {
       "javascript": [
        "$('div#ccc8b474-cad9-4d0f-bee5-7c1073961646').text(' 65%');"
       ],
       "metadata": {},
       "output_type": "display_data",
       "text": [
        "<IPython.core.display.Javascript at 0x9a0fb748>"
       ]
      },
      {
       "javascript": [
        "\n",
        "        var $myPB = $(\"div#05e60f80-71e0-4bdd-9a72-19109bad7ffb\")\n",
        "        if ($myPB.hasClass('ui-progressbar')) {\n",
        "            $myPB.progressbar('value', 975);\n",
        "        } else {\n",
        "            $myPB.progressbar({value: 0, max: 1498});\n",
        "        }\n",
        "        "
       ],
       "metadata": {},
       "output_type": "display_data",
       "text": [
        "<IPython.core.display.Javascript at 0x9a0e32e8>"
       ]
      },
      {
       "javascript": [
        "$('div#6a57f302-c169-4047-b5e0-4b7933658dea').text('ETA:  0:00:00');"
       ],
       "metadata": {},
       "output_type": "display_data",
       "text": [
        "<IPython.core.display.Javascript at 0x9a0b6c50>"
       ]
      },
      {
       "javascript": [
        "$('div#67006c9b-bf19-49ba-87b1-8f809873e8de').text('990 of 1498');"
       ],
       "metadata": {},
       "output_type": "display_data",
       "text": [
        "<IPython.core.display.Javascript at 0x9a0fbeb8>"
       ]
      },
      {
       "javascript": [
        "$('div#ccc8b474-cad9-4d0f-bee5-7c1073961646').text(' 66%');"
       ],
       "metadata": {},
       "output_type": "display_data",
       "text": [
        "<IPython.core.display.Javascript at 0x9a0fb748>"
       ]
      },
      {
       "javascript": [
        "\n",
        "        var $myPB = $(\"div#05e60f80-71e0-4bdd-9a72-19109bad7ffb\")\n",
        "        if ($myPB.hasClass('ui-progressbar')) {\n",
        "            $myPB.progressbar('value', 990);\n",
        "        } else {\n",
        "            $myPB.progressbar({value: 0, max: 1498});\n",
        "        }\n",
        "        "
       ],
       "metadata": {},
       "output_type": "display_data",
       "text": [
        "<IPython.core.display.Javascript at 0x9a0e32e8>"
       ]
      },
      {
       "javascript": [
        "$('div#6a57f302-c169-4047-b5e0-4b7933658dea').text('ETA:  0:00:00');"
       ],
       "metadata": {},
       "output_type": "display_data",
       "text": [
        "<IPython.core.display.Javascript at 0x9a0b6c50>"
       ]
      },
      {
       "javascript": [
        "$('div#67006c9b-bf19-49ba-87b1-8f809873e8de').text('1005 of 1498');"
       ],
       "metadata": {},
       "output_type": "display_data",
       "text": [
        "<IPython.core.display.Javascript at 0x9a0fbcc0>"
       ]
      },
      {
       "javascript": [
        "$('div#ccc8b474-cad9-4d0f-bee5-7c1073961646').text(' 67%');"
       ],
       "metadata": {},
       "output_type": "display_data",
       "text": [
        "<IPython.core.display.Javascript at 0x9a0fb748>"
       ]
      },
      {
       "javascript": [
        "\n",
        "        var $myPB = $(\"div#05e60f80-71e0-4bdd-9a72-19109bad7ffb\")\n",
        "        if ($myPB.hasClass('ui-progressbar')) {\n",
        "            $myPB.progressbar('value', 1005);\n",
        "        } else {\n",
        "            $myPB.progressbar({value: 0, max: 1498});\n",
        "        }\n",
        "        "
       ],
       "metadata": {},
       "output_type": "display_data",
       "text": [
        "<IPython.core.display.Javascript at 0x9a0e32e8>"
       ]
      },
      {
       "javascript": [
        "$('div#6a57f302-c169-4047-b5e0-4b7933658dea').text('ETA:  0:00:00');"
       ],
       "metadata": {},
       "output_type": "display_data",
       "text": [
        "<IPython.core.display.Javascript at 0x9a0b6c50>"
       ]
      },
      {
       "javascript": [
        "$('div#67006c9b-bf19-49ba-87b1-8f809873e8de').text('1020 of 1498');"
       ],
       "metadata": {},
       "output_type": "display_data",
       "text": [
        "<IPython.core.display.Javascript at 0x9a0fb748>"
       ]
      },
      {
       "javascript": [
        "$('div#ccc8b474-cad9-4d0f-bee5-7c1073961646').text(' 68%');"
       ],
       "metadata": {},
       "output_type": "display_data",
       "text": [
        "<IPython.core.display.Javascript at 0x9a0fb8d0>"
       ]
      },
      {
       "javascript": [
        "\n",
        "        var $myPB = $(\"div#05e60f80-71e0-4bdd-9a72-19109bad7ffb\")\n",
        "        if ($myPB.hasClass('ui-progressbar')) {\n",
        "            $myPB.progressbar('value', 1020);\n",
        "        } else {\n",
        "            $myPB.progressbar({value: 0, max: 1498});\n",
        "        }\n",
        "        "
       ],
       "metadata": {},
       "output_type": "display_data",
       "text": [
        "<IPython.core.display.Javascript at 0x9a0e32e8>"
       ]
      },
      {
       "javascript": [
        "$('div#6a57f302-c169-4047-b5e0-4b7933658dea').text('ETA:  0:00:00');"
       ],
       "metadata": {},
       "output_type": "display_data",
       "text": [
        "<IPython.core.display.Javascript at 0x9a0b6c50>"
       ]
      },
      {
       "javascript": [
        "$('div#67006c9b-bf19-49ba-87b1-8f809873e8de').text('1035 of 1498');"
       ],
       "metadata": {},
       "output_type": "display_data",
       "text": [
        "<IPython.core.display.Javascript at 0x9a0fbc88>"
       ]
      },
      {
       "javascript": [
        "$('div#ccc8b474-cad9-4d0f-bee5-7c1073961646').text(' 69%');"
       ],
       "metadata": {},
       "output_type": "display_data",
       "text": [
        "<IPython.core.display.Javascript at 0x9a0fb8d0>"
       ]
      },
      {
       "javascript": [
        "\n",
        "        var $myPB = $(\"div#05e60f80-71e0-4bdd-9a72-19109bad7ffb\")\n",
        "        if ($myPB.hasClass('ui-progressbar')) {\n",
        "            $myPB.progressbar('value', 1035);\n",
        "        } else {\n",
        "            $myPB.progressbar({value: 0, max: 1498});\n",
        "        }\n",
        "        "
       ],
       "metadata": {},
       "output_type": "display_data",
       "text": [
        "<IPython.core.display.Javascript at 0x9a0e32e8>"
       ]
      },
      {
       "javascript": [
        "$('div#6a57f302-c169-4047-b5e0-4b7933658dea').text('ETA:  0:00:00');"
       ],
       "metadata": {},
       "output_type": "display_data",
       "text": [
        "<IPython.core.display.Javascript at 0x9a0b6c50>"
       ]
      },
      {
       "javascript": [
        "$('div#67006c9b-bf19-49ba-87b1-8f809873e8de').text('1050 of 1498');"
       ],
       "metadata": {},
       "output_type": "display_data",
       "text": [
        "<IPython.core.display.Javascript at 0x9a0fba58>"
       ]
      },
      {
       "javascript": [
        "$('div#ccc8b474-cad9-4d0f-bee5-7c1073961646').text(' 70%');"
       ],
       "metadata": {},
       "output_type": "display_data",
       "text": [
        "<IPython.core.display.Javascript at 0x9a0fbcc0>"
       ]
      },
      {
       "javascript": [
        "\n",
        "        var $myPB = $(\"div#05e60f80-71e0-4bdd-9a72-19109bad7ffb\")\n",
        "        if ($myPB.hasClass('ui-progressbar')) {\n",
        "            $myPB.progressbar('value', 1050);\n",
        "        } else {\n",
        "            $myPB.progressbar({value: 0, max: 1498});\n",
        "        }\n",
        "        "
       ],
       "metadata": {},
       "output_type": "display_data",
       "text": [
        "<IPython.core.display.Javascript at 0x9a0e32e8>"
       ]
      },
      {
       "javascript": [
        "$('div#6a57f302-c169-4047-b5e0-4b7933658dea').text('ETA:  0:00:00');"
       ],
       "metadata": {},
       "output_type": "display_data",
       "text": [
        "<IPython.core.display.Javascript at 0x9a0b6c50>"
       ]
      },
      {
       "javascript": [
        "$('div#67006c9b-bf19-49ba-87b1-8f809873e8de').text('1065 of 1498');"
       ],
       "metadata": {},
       "output_type": "display_data",
       "text": [
        "<IPython.core.display.Javascript at 0x9a0fbcc0>"
       ]
      },
      {
       "javascript": [
        "$('div#ccc8b474-cad9-4d0f-bee5-7c1073961646').text(' 71%');"
       ],
       "metadata": {},
       "output_type": "display_data",
       "text": [
        "<IPython.core.display.Javascript at 0x9a0fb5c0>"
       ]
      },
      {
       "javascript": [
        "\n",
        "        var $myPB = $(\"div#05e60f80-71e0-4bdd-9a72-19109bad7ffb\")\n",
        "        if ($myPB.hasClass('ui-progressbar')) {\n",
        "            $myPB.progressbar('value', 1065);\n",
        "        } else {\n",
        "            $myPB.progressbar({value: 0, max: 1498});\n",
        "        }\n",
        "        "
       ],
       "metadata": {},
       "output_type": "display_data",
       "text": [
        "<IPython.core.display.Javascript at 0x9a0fb5c0>"
       ]
      },
      {
       "javascript": [
        "$('div#6a57f302-c169-4047-b5e0-4b7933658dea').text('ETA:  0:00:00');"
       ],
       "metadata": {},
       "output_type": "display_data",
       "text": [
        "<IPython.core.display.Javascript at 0x9a0fbc88>"
       ]
      },
      {
       "javascript": [
        "$('div#67006c9b-bf19-49ba-87b1-8f809873e8de').text('1080 of 1498');"
       ],
       "metadata": {},
       "output_type": "display_data",
       "text": [
        "<IPython.core.display.Javascript at 0x9a0fbcc0>"
       ]
      },
      {
       "javascript": [
        "$('div#ccc8b474-cad9-4d0f-bee5-7c1073961646').text(' 72%');"
       ],
       "metadata": {},
       "output_type": "display_data",
       "text": [
        "<IPython.core.display.Javascript at 0x9a0b6c50>"
       ]
      },
      {
       "javascript": [
        "\n",
        "        var $myPB = $(\"div#05e60f80-71e0-4bdd-9a72-19109bad7ffb\")\n",
        "        if ($myPB.hasClass('ui-progressbar')) {\n",
        "            $myPB.progressbar('value', 1080);\n",
        "        } else {\n",
        "            $myPB.progressbar({value: 0, max: 1498});\n",
        "        }\n",
        "        "
       ],
       "metadata": {},
       "output_type": "display_data",
       "text": [
        "<IPython.core.display.Javascript at 0x9a0b6c50>"
       ]
      },
      {
       "javascript": [
        "$('div#6a57f302-c169-4047-b5e0-4b7933658dea').text('ETA:  0:00:00');"
       ],
       "metadata": {},
       "output_type": "display_data",
       "text": [
        "<IPython.core.display.Javascript at 0x9a0e32e8>"
       ]
      },
      {
       "javascript": [
        "$('div#67006c9b-bf19-49ba-87b1-8f809873e8de').text('1095 of 1498');"
       ],
       "metadata": {},
       "output_type": "display_data",
       "text": [
        "<IPython.core.display.Javascript at 0x9a18b048>"
       ]
      },
      {
       "javascript": [
        "$('div#ccc8b474-cad9-4d0f-bee5-7c1073961646').text(' 73%');"
       ],
       "metadata": {},
       "output_type": "display_data",
       "text": [
        "<IPython.core.display.Javascript at 0x9a18bfd0>"
       ]
      },
      {
       "javascript": [
        "\n",
        "        var $myPB = $(\"div#05e60f80-71e0-4bdd-9a72-19109bad7ffb\")\n",
        "        if ($myPB.hasClass('ui-progressbar')) {\n",
        "            $myPB.progressbar('value', 1095);\n",
        "        } else {\n",
        "            $myPB.progressbar({value: 0, max: 1498});\n",
        "        }\n",
        "        "
       ],
       "metadata": {},
       "output_type": "display_data",
       "text": [
        "<IPython.core.display.Javascript at 0x9a0b6c50>"
       ]
      },
      {
       "javascript": [
        "$('div#6a57f302-c169-4047-b5e0-4b7933658dea').text('ETA:  0:00:00');"
       ],
       "metadata": {},
       "output_type": "display_data",
       "text": [
        "<IPython.core.display.Javascript at 0x9a0e32e8>"
       ]
      },
      {
       "javascript": [
        "$('div#67006c9b-bf19-49ba-87b1-8f809873e8de').text('1110 of 1498');"
       ],
       "metadata": {},
       "output_type": "display_data",
       "text": [
        "<IPython.core.display.Javascript at 0x9a18b710>"
       ]
      },
      {
       "javascript": [
        "$('div#ccc8b474-cad9-4d0f-bee5-7c1073961646').text(' 74%');"
       ],
       "metadata": {},
       "output_type": "display_data",
       "text": [
        "<IPython.core.display.Javascript at 0x9a18b048>"
       ]
      },
      {
       "javascript": [
        "\n",
        "        var $myPB = $(\"div#05e60f80-71e0-4bdd-9a72-19109bad7ffb\")\n",
        "        if ($myPB.hasClass('ui-progressbar')) {\n",
        "            $myPB.progressbar('value', 1110);\n",
        "        } else {\n",
        "            $myPB.progressbar({value: 0, max: 1498});\n",
        "        }\n",
        "        "
       ],
       "metadata": {},
       "output_type": "display_data",
       "text": [
        "<IPython.core.display.Javascript at 0x9a0b6c50>"
       ]
      },
      {
       "javascript": [
        "$('div#6a57f302-c169-4047-b5e0-4b7933658dea').text('ETA:  0:00:00');"
       ],
       "metadata": {},
       "output_type": "display_data",
       "text": [
        "<IPython.core.display.Javascript at 0x9a0e32e8>"
       ]
      },
      {
       "javascript": [
        "$('div#67006c9b-bf19-49ba-87b1-8f809873e8de').text('1125 of 1498');"
       ],
       "metadata": {},
       "output_type": "display_data",
       "text": [
        "<IPython.core.display.Javascript at 0x9a18b6d8>"
       ]
      },
      {
       "javascript": [
        "$('div#ccc8b474-cad9-4d0f-bee5-7c1073961646').text(' 75%');"
       ],
       "metadata": {},
       "output_type": "display_data",
       "text": [
        "<IPython.core.display.Javascript at 0x9a18b5f8>"
       ]
      },
      {
       "javascript": [
        "\n",
        "        var $myPB = $(\"div#05e60f80-71e0-4bdd-9a72-19109bad7ffb\")\n",
        "        if ($myPB.hasClass('ui-progressbar')) {\n",
        "            $myPB.progressbar('value', 1125);\n",
        "        } else {\n",
        "            $myPB.progressbar({value: 0, max: 1498});\n",
        "        }\n",
        "        "
       ],
       "metadata": {},
       "output_type": "display_data",
       "text": [
        "<IPython.core.display.Javascript at 0x9a18b5f8>"
       ]
      },
      {
       "javascript": [
        "$('div#6a57f302-c169-4047-b5e0-4b7933658dea').text('ETA:  0:00:00');"
       ],
       "metadata": {},
       "output_type": "display_data",
       "text": [
        "<IPython.core.display.Javascript at 0x9a18bda0>"
       ]
      },
      {
       "javascript": [
        "$('div#67006c9b-bf19-49ba-87b1-8f809873e8de').text('1140 of 1498');"
       ],
       "metadata": {},
       "output_type": "display_data",
       "text": [
        "<IPython.core.display.Javascript at 0x9a0b6c50>"
       ]
      },
      {
       "javascript": [
        "$('div#ccc8b474-cad9-4d0f-bee5-7c1073961646').text(' 76%');"
       ],
       "metadata": {},
       "output_type": "display_data",
       "text": [
        "<IPython.core.display.Javascript at 0x9a0f3198>"
       ]
      },
      {
       "javascript": [
        "\n",
        "        var $myPB = $(\"div#05e60f80-71e0-4bdd-9a72-19109bad7ffb\")\n",
        "        if ($myPB.hasClass('ui-progressbar')) {\n",
        "            $myPB.progressbar('value', 1140);\n",
        "        } else {\n",
        "            $myPB.progressbar({value: 0, max: 1498});\n",
        "        }\n",
        "        "
       ],
       "metadata": {},
       "output_type": "display_data",
       "text": [
        "<IPython.core.display.Javascript at 0x9a0b6c50>"
       ]
      },
      {
       "javascript": [
        "$('div#6a57f302-c169-4047-b5e0-4b7933658dea').text('ETA:  0:00:00');"
       ],
       "metadata": {},
       "output_type": "display_data",
       "text": [
        "<IPython.core.display.Javascript at 0x9a18b5f8>"
       ]
      },
      {
       "javascript": [
        "$('div#67006c9b-bf19-49ba-87b1-8f809873e8de').text('1155 of 1498');"
       ],
       "metadata": {},
       "output_type": "display_data",
       "text": [
        "<IPython.core.display.Javascript at 0x9a18bda0>"
       ]
      },
      {
       "javascript": [
        "$('div#ccc8b474-cad9-4d0f-bee5-7c1073961646').text(' 77%');"
       ],
       "metadata": {},
       "output_type": "display_data",
       "text": [
        "<IPython.core.display.Javascript at 0x9a0f3198>"
       ]
      },
      {
       "javascript": [
        "\n",
        "        var $myPB = $(\"div#05e60f80-71e0-4bdd-9a72-19109bad7ffb\")\n",
        "        if ($myPB.hasClass('ui-progressbar')) {\n",
        "            $myPB.progressbar('value', 1155);\n",
        "        } else {\n",
        "            $myPB.progressbar({value: 0, max: 1498});\n",
        "        }\n",
        "        "
       ],
       "metadata": {},
       "output_type": "display_data",
       "text": [
        "<IPython.core.display.Javascript at 0x9a0b6c50>"
       ]
      },
      {
       "javascript": [
        "$('div#6a57f302-c169-4047-b5e0-4b7933658dea').text('ETA:  0:00:00');"
       ],
       "metadata": {},
       "output_type": "display_data",
       "text": [
        "<IPython.core.display.Javascript at 0x9a18b5f8>"
       ]
      },
      {
       "javascript": [
        "$('div#67006c9b-bf19-49ba-87b1-8f809873e8de').text('1170 of 1498');"
       ],
       "metadata": {},
       "output_type": "display_data",
       "text": [
        "<IPython.core.display.Javascript at 0x9a0f3198>"
       ]
      },
      {
       "javascript": [
        "$('div#ccc8b474-cad9-4d0f-bee5-7c1073961646').text(' 78%');"
       ],
       "metadata": {},
       "output_type": "display_data",
       "text": [
        "<IPython.core.display.Javascript at 0x9a0f3860>"
       ]
      },
      {
       "javascript": [
        "\n",
        "        var $myPB = $(\"div#05e60f80-71e0-4bdd-9a72-19109bad7ffb\")\n",
        "        if ($myPB.hasClass('ui-progressbar')) {\n",
        "            $myPB.progressbar('value', 1170);\n",
        "        } else {\n",
        "            $myPB.progressbar({value: 0, max: 1498});\n",
        "        }\n",
        "        "
       ],
       "metadata": {},
       "output_type": "display_data",
       "text": [
        "<IPython.core.display.Javascript at 0x9a0b6c50>"
       ]
      },
      {
       "javascript": [
        "$('div#6a57f302-c169-4047-b5e0-4b7933658dea').text('ETA:  0:00:00');"
       ],
       "metadata": {},
       "output_type": "display_data",
       "text": [
        "<IPython.core.display.Javascript at 0x9a18b5f8>"
       ]
      },
      {
       "javascript": [
        "$('div#67006c9b-bf19-49ba-87b1-8f809873e8de').text('1185 of 1498');"
       ],
       "metadata": {},
       "output_type": "display_data",
       "text": [
        "<IPython.core.display.Javascript at 0x9a0f3198>"
       ]
      },
      {
       "javascript": [
        "$('div#ccc8b474-cad9-4d0f-bee5-7c1073961646').text(' 79%');"
       ],
       "metadata": {},
       "output_type": "display_data",
       "text": [
        "<IPython.core.display.Javascript at 0x9a0f3710>"
       ]
      },
      {
       "javascript": [
        "\n",
        "        var $myPB = $(\"div#05e60f80-71e0-4bdd-9a72-19109bad7ffb\")\n",
        "        if ($myPB.hasClass('ui-progressbar')) {\n",
        "            $myPB.progressbar('value', 1185);\n",
        "        } else {\n",
        "            $myPB.progressbar({value: 0, max: 1498});\n",
        "        }\n",
        "        "
       ],
       "metadata": {},
       "output_type": "display_data",
       "text": [
        "<IPython.core.display.Javascript at 0x9a0b6c50>"
       ]
      },
      {
       "javascript": [
        "$('div#6a57f302-c169-4047-b5e0-4b7933658dea').text('ETA:  0:00:00');"
       ],
       "metadata": {},
       "output_type": "display_data",
       "text": [
        "<IPython.core.display.Javascript at 0x9a18b5f8>"
       ]
      },
      {
       "javascript": [
        "$('div#67006c9b-bf19-49ba-87b1-8f809873e8de').text('1200 of 1498');"
       ],
       "metadata": {},
       "output_type": "display_data",
       "text": [
        "<IPython.core.display.Javascript at 0x9a0f36d8>"
       ]
      },
      {
       "javascript": [
        "$('div#ccc8b474-cad9-4d0f-bee5-7c1073961646').text(' 80%');"
       ],
       "metadata": {},
       "output_type": "display_data",
       "text": [
        "<IPython.core.display.Javascript at 0x9a0f3fd0>"
       ]
      },
      {
       "javascript": [
        "\n",
        "        var $myPB = $(\"div#05e60f80-71e0-4bdd-9a72-19109bad7ffb\")\n",
        "        if ($myPB.hasClass('ui-progressbar')) {\n",
        "            $myPB.progressbar('value', 1200);\n",
        "        } else {\n",
        "            $myPB.progressbar({value: 0, max: 1498});\n",
        "        }\n",
        "        "
       ],
       "metadata": {},
       "output_type": "display_data",
       "text": [
        "<IPython.core.display.Javascript at 0x9a0f3fd0>"
       ]
      },
      {
       "javascript": [
        "$('div#6a57f302-c169-4047-b5e0-4b7933658dea').text('ETA:  0:00:00');"
       ],
       "metadata": {},
       "output_type": "display_data",
       "text": [
        "<IPython.core.display.Javascript at 0x9a0f31d0>"
       ]
      },
      {
       "javascript": [
        "$('div#67006c9b-bf19-49ba-87b1-8f809873e8de').text('1215 of 1498');"
       ],
       "metadata": {},
       "output_type": "display_data",
       "text": [
        "<IPython.core.display.Javascript at 0x9a0f3780>"
       ]
      },
      {
       "javascript": [
        "$('div#ccc8b474-cad9-4d0f-bee5-7c1073961646').text(' 81%');"
       ],
       "metadata": {},
       "output_type": "display_data",
       "text": [
        "<IPython.core.display.Javascript at 0x9a0b6c50>"
       ]
      },
      {
       "javascript": [
        "\n",
        "        var $myPB = $(\"div#05e60f80-71e0-4bdd-9a72-19109bad7ffb\")\n",
        "        if ($myPB.hasClass('ui-progressbar')) {\n",
        "            $myPB.progressbar('value', 1215);\n",
        "        } else {\n",
        "            $myPB.progressbar({value: 0, max: 1498});\n",
        "        }\n",
        "        "
       ],
       "metadata": {},
       "output_type": "display_data",
       "text": [
        "<IPython.core.display.Javascript at 0x9a0b6c50>"
       ]
      },
      {
       "javascript": [
        "$('div#6a57f302-c169-4047-b5e0-4b7933658dea').text('ETA:  0:00:00');"
       ],
       "metadata": {},
       "output_type": "display_data",
       "text": [
        "<IPython.core.display.Javascript at 0x9a18b5f8>"
       ]
      },
      {
       "javascript": [
        "$('div#67006c9b-bf19-49ba-87b1-8f809873e8de').text('1230 of 1498');"
       ],
       "metadata": {},
       "output_type": "display_data",
       "text": [
        "<IPython.core.display.Javascript at 0x9a0f3fd0>"
       ]
      },
      {
       "javascript": [
        "$('div#ccc8b474-cad9-4d0f-bee5-7c1073961646').text(' 82%');"
       ],
       "metadata": {},
       "output_type": "display_data",
       "text": [
        "<IPython.core.display.Javascript at 0x99bd5b00>"
       ]
      },
      {
       "javascript": [
        "\n",
        "        var $myPB = $(\"div#05e60f80-71e0-4bdd-9a72-19109bad7ffb\")\n",
        "        if ($myPB.hasClass('ui-progressbar')) {\n",
        "            $myPB.progressbar('value', 1230);\n",
        "        } else {\n",
        "            $myPB.progressbar({value: 0, max: 1498});\n",
        "        }\n",
        "        "
       ],
       "metadata": {},
       "output_type": "display_data",
       "text": [
        "<IPython.core.display.Javascript at 0x9a0f3fd0>"
       ]
      },
      {
       "javascript": [
        "$('div#6a57f302-c169-4047-b5e0-4b7933658dea').text('ETA:  0:00:00');"
       ],
       "metadata": {},
       "output_type": "display_data",
       "text": [
        "<IPython.core.display.Javascript at 0x9a18b5f8>"
       ]
      },
      {
       "javascript": [
        "$('div#67006c9b-bf19-49ba-87b1-8f809873e8de').text('1245 of 1498');"
       ],
       "metadata": {},
       "output_type": "display_data",
       "text": [
        "<IPython.core.display.Javascript at 0x9a0b6c50>"
       ]
      },
      {
       "javascript": [
        "$('div#ccc8b474-cad9-4d0f-bee5-7c1073961646').text(' 83%');"
       ],
       "metadata": {},
       "output_type": "display_data",
       "text": [
        "<IPython.core.display.Javascript at 0x99bd5b00>"
       ]
      },
      {
       "javascript": [
        "\n",
        "        var $myPB = $(\"div#05e60f80-71e0-4bdd-9a72-19109bad7ffb\")\n",
        "        if ($myPB.hasClass('ui-progressbar')) {\n",
        "            $myPB.progressbar('value', 1245);\n",
        "        } else {\n",
        "            $myPB.progressbar({value: 0, max: 1498});\n",
        "        }\n",
        "        "
       ],
       "metadata": {},
       "output_type": "display_data",
       "text": [
        "<IPython.core.display.Javascript at 0x9a0b6c50>"
       ]
      },
      {
       "javascript": [
        "$('div#6a57f302-c169-4047-b5e0-4b7933658dea').text('ETA:  0:00:00');"
       ],
       "metadata": {},
       "output_type": "display_data",
       "text": [
        "<IPython.core.display.Javascript at 0x9a18b5f8>"
       ]
      },
      {
       "javascript": [
        "$('div#67006c9b-bf19-49ba-87b1-8f809873e8de').text('1260 of 1498');"
       ],
       "metadata": {},
       "output_type": "display_data",
       "text": [
        "<IPython.core.display.Javascript at 0x99bd5c18>"
       ]
      },
      {
       "javascript": [
        "$('div#ccc8b474-cad9-4d0f-bee5-7c1073961646').text(' 84%');"
       ],
       "metadata": {},
       "output_type": "display_data",
       "text": [
        "<IPython.core.display.Javascript at 0x99bd5e80>"
       ]
      },
      {
       "javascript": [
        "\n",
        "        var $myPB = $(\"div#05e60f80-71e0-4bdd-9a72-19109bad7ffb\")\n",
        "        if ($myPB.hasClass('ui-progressbar')) {\n",
        "            $myPB.progressbar('value', 1260);\n",
        "        } else {\n",
        "            $myPB.progressbar({value: 0, max: 1498});\n",
        "        }\n",
        "        "
       ],
       "metadata": {},
       "output_type": "display_data",
       "text": [
        "<IPython.core.display.Javascript at 0x9a18b5f8>"
       ]
      },
      {
       "javascript": [
        "$('div#6a57f302-c169-4047-b5e0-4b7933658dea').text('ETA:  0:00:00');"
       ],
       "metadata": {},
       "output_type": "display_data",
       "text": [
        "<IPython.core.display.Javascript at 0x9a0b6c50>"
       ]
      },
      {
       "javascript": [
        "$('div#67006c9b-bf19-49ba-87b1-8f809873e8de').text('1275 of 1498');"
       ],
       "metadata": {},
       "output_type": "display_data",
       "text": [
        "<IPython.core.display.Javascript at 0x9a714e80>"
       ]
      },
      {
       "javascript": [
        "$('div#ccc8b474-cad9-4d0f-bee5-7c1073961646').text(' 85%');"
       ],
       "metadata": {},
       "output_type": "display_data",
       "text": [
        "<IPython.core.display.Javascript at 0x9a714470>"
       ]
      },
      {
       "javascript": [
        "\n",
        "        var $myPB = $(\"div#05e60f80-71e0-4bdd-9a72-19109bad7ffb\")\n",
        "        if ($myPB.hasClass('ui-progressbar')) {\n",
        "            $myPB.progressbar('value', 1275);\n",
        "        } else {\n",
        "            $myPB.progressbar({value: 0, max: 1498});\n",
        "        }\n",
        "        "
       ],
       "metadata": {},
       "output_type": "display_data",
       "text": [
        "<IPython.core.display.Javascript at 0x9a18b5f8>"
       ]
      },
      {
       "javascript": [
        "$('div#6a57f302-c169-4047-b5e0-4b7933658dea').text('ETA:  0:00:00');"
       ],
       "metadata": {},
       "output_type": "display_data",
       "text": [
        "<IPython.core.display.Javascript at 0x9a0b6c50>"
       ]
      },
      {
       "javascript": [
        "$('div#67006c9b-bf19-49ba-87b1-8f809873e8de').text('1290 of 1498');"
       ],
       "metadata": {},
       "output_type": "display_data",
       "text": [
        "<IPython.core.display.Javascript at 0x9a714470>"
       ]
      },
      {
       "javascript": [
        "$('div#ccc8b474-cad9-4d0f-bee5-7c1073961646').text(' 86%');"
       ],
       "metadata": {},
       "output_type": "display_data",
       "text": [
        "<IPython.core.display.Javascript at 0x9a714828>"
       ]
      },
      {
       "javascript": [
        "\n",
        "        var $myPB = $(\"div#05e60f80-71e0-4bdd-9a72-19109bad7ffb\")\n",
        "        if ($myPB.hasClass('ui-progressbar')) {\n",
        "            $myPB.progressbar('value', 1290);\n",
        "        } else {\n",
        "            $myPB.progressbar({value: 0, max: 1498});\n",
        "        }\n",
        "        "
       ],
       "metadata": {},
       "output_type": "display_data",
       "text": [
        "<IPython.core.display.Javascript at 0x9a18b5f8>"
       ]
      },
      {
       "javascript": [
        "$('div#6a57f302-c169-4047-b5e0-4b7933658dea').text('ETA:  0:00:00');"
       ],
       "metadata": {},
       "output_type": "display_data",
       "text": [
        "<IPython.core.display.Javascript at 0x9a0b6c50>"
       ]
      },
      {
       "javascript": [
        "$('div#67006c9b-bf19-49ba-87b1-8f809873e8de').text('1305 of 1498');"
       ],
       "metadata": {},
       "output_type": "display_data",
       "text": [
        "<IPython.core.display.Javascript at 0x9a714588>"
       ]
      },
      {
       "javascript": [
        "$('div#ccc8b474-cad9-4d0f-bee5-7c1073961646').text(' 87%');"
       ],
       "metadata": {},
       "output_type": "display_data",
       "text": [
        "<IPython.core.display.Javascript at 0x9a714828>"
       ]
      },
      {
       "javascript": [
        "\n",
        "        var $myPB = $(\"div#05e60f80-71e0-4bdd-9a72-19109bad7ffb\")\n",
        "        if ($myPB.hasClass('ui-progressbar')) {\n",
        "            $myPB.progressbar('value', 1305);\n",
        "        } else {\n",
        "            $myPB.progressbar({value: 0, max: 1498});\n",
        "        }\n",
        "        "
       ],
       "metadata": {},
       "output_type": "display_data",
       "text": [
        "<IPython.core.display.Javascript at 0x9a18b5f8>"
       ]
      },
      {
       "javascript": [
        "$('div#6a57f302-c169-4047-b5e0-4b7933658dea').text('ETA:  0:00:00');"
       ],
       "metadata": {},
       "output_type": "display_data",
       "text": [
        "<IPython.core.display.Javascript at 0x9a0b6c50>"
       ]
      },
      {
       "javascript": [
        "$('div#67006c9b-bf19-49ba-87b1-8f809873e8de').text('1320 of 1498');"
       ],
       "metadata": {},
       "output_type": "display_data",
       "text": [
        "<IPython.core.display.Javascript at 0x9a714828>"
       ]
      },
      {
       "javascript": [
        "$('div#ccc8b474-cad9-4d0f-bee5-7c1073961646').text(' 88%');"
       ],
       "metadata": {},
       "output_type": "display_data",
       "text": [
        "<IPython.core.display.Javascript at 0x9a7142e8>"
       ]
      },
      {
       "javascript": [
        "\n",
        "        var $myPB = $(\"div#05e60f80-71e0-4bdd-9a72-19109bad7ffb\")\n",
        "        if ($myPB.hasClass('ui-progressbar')) {\n",
        "            $myPB.progressbar('value', 1320);\n",
        "        } else {\n",
        "            $myPB.progressbar({value: 0, max: 1498});\n",
        "        }\n",
        "        "
       ],
       "metadata": {},
       "output_type": "display_data",
       "text": [
        "<IPython.core.display.Javascript at 0x9a18b5f8>"
       ]
      },
      {
       "javascript": [
        "$('div#6a57f302-c169-4047-b5e0-4b7933658dea').text('ETA:  0:00:00');"
       ],
       "metadata": {},
       "output_type": "display_data",
       "text": [
        "<IPython.core.display.Javascript at 0x9a0b6c50>"
       ]
      },
      {
       "javascript": [
        "$('div#67006c9b-bf19-49ba-87b1-8f809873e8de').text('1335 of 1498');"
       ],
       "metadata": {},
       "output_type": "display_data",
       "text": [
        "<IPython.core.display.Javascript at 0x9a714da0>"
       ]
      },
      {
       "javascript": [
        "$('div#ccc8b474-cad9-4d0f-bee5-7c1073961646').text(' 89%');"
       ],
       "metadata": {},
       "output_type": "display_data",
       "text": [
        "<IPython.core.display.Javascript at 0x9a7142e8>"
       ]
      },
      {
       "javascript": [
        "\n",
        "        var $myPB = $(\"div#05e60f80-71e0-4bdd-9a72-19109bad7ffb\")\n",
        "        if ($myPB.hasClass('ui-progressbar')) {\n",
        "            $myPB.progressbar('value', 1335);\n",
        "        } else {\n",
        "            $myPB.progressbar({value: 0, max: 1498});\n",
        "        }\n",
        "        "
       ],
       "metadata": {},
       "output_type": "display_data",
       "text": [
        "<IPython.core.display.Javascript at 0x9a18b5f8>"
       ]
      },
      {
       "javascript": [
        "$('div#6a57f302-c169-4047-b5e0-4b7933658dea').text('ETA:  0:00:00');"
       ],
       "metadata": {},
       "output_type": "display_data",
       "text": [
        "<IPython.core.display.Javascript at 0x9a0b6c50>"
       ]
      },
      {
       "javascript": [
        "$('div#67006c9b-bf19-49ba-87b1-8f809873e8de').text('1350 of 1498');"
       ],
       "metadata": {},
       "output_type": "display_data",
       "text": [
        "<IPython.core.display.Javascript at 0x9a714828>"
       ]
      },
      {
       "javascript": [
        "$('div#ccc8b474-cad9-4d0f-bee5-7c1073961646').text(' 90%');"
       ],
       "metadata": {},
       "output_type": "display_data",
       "text": [
        "<IPython.core.display.Javascript at 0x9a714da0>"
       ]
      },
      {
       "javascript": [
        "\n",
        "        var $myPB = $(\"div#05e60f80-71e0-4bdd-9a72-19109bad7ffb\")\n",
        "        if ($myPB.hasClass('ui-progressbar')) {\n",
        "            $myPB.progressbar('value', 1350);\n",
        "        } else {\n",
        "            $myPB.progressbar({value: 0, max: 1498});\n",
        "        }\n",
        "        "
       ],
       "metadata": {},
       "output_type": "display_data",
       "text": [
        "<IPython.core.display.Javascript at 0x9a18b5f8>"
       ]
      },
      {
       "javascript": [
        "$('div#6a57f302-c169-4047-b5e0-4b7933658dea').text('ETA:  0:00:00');"
       ],
       "metadata": {},
       "output_type": "display_data",
       "text": [
        "<IPython.core.display.Javascript at 0x9a0b6c50>"
       ]
      },
      {
       "javascript": [
        "$('div#67006c9b-bf19-49ba-87b1-8f809873e8de').text('1365 of 1498');"
       ],
       "metadata": {},
       "output_type": "display_data",
       "text": [
        "<IPython.core.display.Javascript at 0x9a714128>"
       ]
      },
      {
       "javascript": [
        "$('div#ccc8b474-cad9-4d0f-bee5-7c1073961646').text(' 91%');"
       ],
       "metadata": {},
       "output_type": "display_data",
       "text": [
        "<IPython.core.display.Javascript at 0x9a7144e0>"
       ]
      },
      {
       "javascript": [
        "\n",
        "        var $myPB = $(\"div#05e60f80-71e0-4bdd-9a72-19109bad7ffb\")\n",
        "        if ($myPB.hasClass('ui-progressbar')) {\n",
        "            $myPB.progressbar('value', 1365);\n",
        "        } else {\n",
        "            $myPB.progressbar({value: 0, max: 1498});\n",
        "        }\n",
        "        "
       ],
       "metadata": {},
       "output_type": "display_data",
       "text": [
        "<IPython.core.display.Javascript at 0x9a18b5f8>"
       ]
      },
      {
       "javascript": [
        "$('div#6a57f302-c169-4047-b5e0-4b7933658dea').text('ETA:  0:00:00');"
       ],
       "metadata": {},
       "output_type": "display_data",
       "text": [
        "<IPython.core.display.Javascript at 0x9a0b6c50>"
       ]
      },
      {
       "javascript": [
        "$('div#67006c9b-bf19-49ba-87b1-8f809873e8de').text('1380 of 1498');"
       ],
       "metadata": {},
       "output_type": "display_data",
       "text": [
        "<IPython.core.display.Javascript at 0x9a7146d8>"
       ]
      },
      {
       "javascript": [
        "$('div#ccc8b474-cad9-4d0f-bee5-7c1073961646').text(' 92%');"
       ],
       "metadata": {},
       "output_type": "display_data",
       "text": [
        "<IPython.core.display.Javascript at 0x9a7144e0>"
       ]
      },
      {
       "javascript": [
        "\n",
        "        var $myPB = $(\"div#05e60f80-71e0-4bdd-9a72-19109bad7ffb\")\n",
        "        if ($myPB.hasClass('ui-progressbar')) {\n",
        "            $myPB.progressbar('value', 1380);\n",
        "        } else {\n",
        "            $myPB.progressbar({value: 0, max: 1498});\n",
        "        }\n",
        "        "
       ],
       "metadata": {},
       "output_type": "display_data",
       "text": [
        "<IPython.core.display.Javascript at 0x9a18b5f8>"
       ]
      },
      {
       "javascript": [
        "$('div#6a57f302-c169-4047-b5e0-4b7933658dea').text('ETA:  0:00:00');"
       ],
       "metadata": {},
       "output_type": "display_data",
       "text": [
        "<IPython.core.display.Javascript at 0x9a0b6c50>"
       ]
      },
      {
       "javascript": [
        "$('div#67006c9b-bf19-49ba-87b1-8f809873e8de').text('1395 of 1498');"
       ],
       "metadata": {},
       "output_type": "display_data",
       "text": [
        "<IPython.core.display.Javascript at 0x9a7144e0>"
       ]
      },
      {
       "javascript": [
        "$('div#ccc8b474-cad9-4d0f-bee5-7c1073961646').text(' 93%');"
       ],
       "metadata": {},
       "output_type": "display_data",
       "text": [
        "<IPython.core.display.Javascript at 0x9a714f28>"
       ]
      },
      {
       "javascript": [
        "\n",
        "        var $myPB = $(\"div#05e60f80-71e0-4bdd-9a72-19109bad7ffb\")\n",
        "        if ($myPB.hasClass('ui-progressbar')) {\n",
        "            $myPB.progressbar('value', 1395);\n",
        "        } else {\n",
        "            $myPB.progressbar({value: 0, max: 1498});\n",
        "        }\n",
        "        "
       ],
       "metadata": {},
       "output_type": "display_data",
       "text": [
        "<IPython.core.display.Javascript at 0x9a18b5f8>"
       ]
      },
      {
       "javascript": [
        "$('div#6a57f302-c169-4047-b5e0-4b7933658dea').text('ETA:  0:00:00');"
       ],
       "metadata": {},
       "output_type": "display_data",
       "text": [
        "<IPython.core.display.Javascript at 0x9a0b6c50>"
       ]
      },
      {
       "javascript": [
        "$('div#67006c9b-bf19-49ba-87b1-8f809873e8de').text('1410 of 1498');"
       ],
       "metadata": {},
       "output_type": "display_data",
       "text": [
        "<IPython.core.display.Javascript at 0x9a714128>"
       ]
      },
      {
       "javascript": [
        "$('div#ccc8b474-cad9-4d0f-bee5-7c1073961646').text(' 94%');"
       ],
       "metadata": {},
       "output_type": "display_data",
       "text": [
        "<IPython.core.display.Javascript at 0x9a714828>"
       ]
      },
      {
       "javascript": [
        "\n",
        "        var $myPB = $(\"div#05e60f80-71e0-4bdd-9a72-19109bad7ffb\")\n",
        "        if ($myPB.hasClass('ui-progressbar')) {\n",
        "            $myPB.progressbar('value', 1410);\n",
        "        } else {\n",
        "            $myPB.progressbar({value: 0, max: 1498});\n",
        "        }\n",
        "        "
       ],
       "metadata": {},
       "output_type": "display_data",
       "text": [
        "<IPython.core.display.Javascript at 0x9a18b5f8>"
       ]
      },
      {
       "javascript": [
        "$('div#6a57f302-c169-4047-b5e0-4b7933658dea').text('ETA:  0:00:00');"
       ],
       "metadata": {},
       "output_type": "display_data",
       "text": [
        "<IPython.core.display.Javascript at 0x9a0b6c50>"
       ]
      },
      {
       "javascript": [
        "$('div#67006c9b-bf19-49ba-87b1-8f809873e8de').text('1425 of 1498');"
       ],
       "metadata": {},
       "output_type": "display_data",
       "text": [
        "<IPython.core.display.Javascript at 0x9a7147f0>"
       ]
      },
      {
       "javascript": [
        "$('div#ccc8b474-cad9-4d0f-bee5-7c1073961646').text(' 95%');"
       ],
       "metadata": {},
       "output_type": "display_data",
       "text": [
        "<IPython.core.display.Javascript at 0x9a714748>"
       ]
      },
      {
       "javascript": [
        "\n",
        "        var $myPB = $(\"div#05e60f80-71e0-4bdd-9a72-19109bad7ffb\")\n",
        "        if ($myPB.hasClass('ui-progressbar')) {\n",
        "            $myPB.progressbar('value', 1425);\n",
        "        } else {\n",
        "            $myPB.progressbar({value: 0, max: 1498});\n",
        "        }\n",
        "        "
       ],
       "metadata": {},
       "output_type": "display_data",
       "text": [
        "<IPython.core.display.Javascript at 0x9a714748>"
       ]
      },
      {
       "javascript": [
        "$('div#6a57f302-c169-4047-b5e0-4b7933658dea').text('ETA:  0:00:00');"
       ],
       "metadata": {},
       "output_type": "display_data",
       "text": [
        "<IPython.core.display.Javascript at 0x9a714ba8>"
       ]
      },
      {
       "javascript": [
        "$('div#67006c9b-bf19-49ba-87b1-8f809873e8de').text('1440 of 1498');"
       ],
       "metadata": {},
       "output_type": "display_data",
       "text": [
        "<IPython.core.display.Javascript at 0x9a714160>"
       ]
      },
      {
       "javascript": [
        "$('div#ccc8b474-cad9-4d0f-bee5-7c1073961646').text(' 96%');"
       ],
       "metadata": {},
       "output_type": "display_data",
       "text": [
        "<IPython.core.display.Javascript at 0x9a0b6c50>"
       ]
      },
      {
       "javascript": [
        "\n",
        "        var $myPB = $(\"div#05e60f80-71e0-4bdd-9a72-19109bad7ffb\")\n",
        "        if ($myPB.hasClass('ui-progressbar')) {\n",
        "            $myPB.progressbar('value', 1440);\n",
        "        } else {\n",
        "            $myPB.progressbar({value: 0, max: 1498});\n",
        "        }\n",
        "        "
       ],
       "metadata": {},
       "output_type": "display_data",
       "text": [
        "<IPython.core.display.Javascript at 0x9a0b6c50>"
       ]
      },
      {
       "javascript": [
        "$('div#6a57f302-c169-4047-b5e0-4b7933658dea').text('ETA:  0:00:00');"
       ],
       "metadata": {},
       "output_type": "display_data",
       "text": [
        "<IPython.core.display.Javascript at 0x9a18b5f8>"
       ]
      },
      {
       "javascript": [
        "$('div#67006c9b-bf19-49ba-87b1-8f809873e8de').text('1455 of 1498');"
       ],
       "metadata": {},
       "output_type": "display_data",
       "text": [
        "<IPython.core.display.Javascript at 0x9a714978>"
       ]
      },
      {
       "javascript": [
        "$('div#ccc8b474-cad9-4d0f-bee5-7c1073961646').text(' 97%');"
       ],
       "metadata": {},
       "output_type": "display_data",
       "text": [
        "<IPython.core.display.Javascript at 0x9a714ba8>"
       ]
      },
      {
       "javascript": [
        "\n",
        "        var $myPB = $(\"div#05e60f80-71e0-4bdd-9a72-19109bad7ffb\")\n",
        "        if ($myPB.hasClass('ui-progressbar')) {\n",
        "            $myPB.progressbar('value', 1455);\n",
        "        } else {\n",
        "            $myPB.progressbar({value: 0, max: 1498});\n",
        "        }\n",
        "        "
       ],
       "metadata": {},
       "output_type": "display_data",
       "text": [
        "<IPython.core.display.Javascript at 0x9a18b5f8>"
       ]
      },
      {
       "javascript": [
        "$('div#6a57f302-c169-4047-b5e0-4b7933658dea').text('ETA:  0:00:00');"
       ],
       "metadata": {},
       "output_type": "display_data",
       "text": [
        "<IPython.core.display.Javascript at 0x9a0b6c50>"
       ]
      },
      {
       "javascript": [
        "$('div#67006c9b-bf19-49ba-87b1-8f809873e8de').text('1470 of 1498');"
       ],
       "metadata": {},
       "output_type": "display_data",
       "text": [
        "<IPython.core.display.Javascript at 0x9a0c8c18>"
       ]
      },
      {
       "javascript": [
        "$('div#ccc8b474-cad9-4d0f-bee5-7c1073961646').text(' 98%');"
       ],
       "metadata": {},
       "output_type": "display_data",
       "text": [
        "<IPython.core.display.Javascript at 0x9a0c8780>"
       ]
      },
      {
       "javascript": [
        "\n",
        "        var $myPB = $(\"div#05e60f80-71e0-4bdd-9a72-19109bad7ffb\")\n",
        "        if ($myPB.hasClass('ui-progressbar')) {\n",
        "            $myPB.progressbar('value', 1470);\n",
        "        } else {\n",
        "            $myPB.progressbar({value: 0, max: 1498});\n",
        "        }\n",
        "        "
       ],
       "metadata": {},
       "output_type": "display_data",
       "text": [
        "<IPython.core.display.Javascript at 0x9a18b5f8>"
       ]
      },
      {
       "javascript": [
        "$('div#6a57f302-c169-4047-b5e0-4b7933658dea').text('ETA:  0:00:00');"
       ],
       "metadata": {},
       "output_type": "display_data",
       "text": [
        "<IPython.core.display.Javascript at 0x9a0b6c50>"
       ]
      },
      {
       "javascript": [
        "$('div#67006c9b-bf19-49ba-87b1-8f809873e8de').text('1485 of 1498');"
       ],
       "metadata": {},
       "output_type": "display_data",
       "text": [
        "<IPython.core.display.Javascript at 0x9a0c8e10>"
       ]
      },
      {
       "javascript": [
        "$('div#ccc8b474-cad9-4d0f-bee5-7c1073961646').text(' 99%');"
       ],
       "metadata": {},
       "output_type": "display_data",
       "text": [
        "<IPython.core.display.Javascript at 0x9a0c8978>"
       ]
      },
      {
       "javascript": [
        "\n",
        "        var $myPB = $(\"div#05e60f80-71e0-4bdd-9a72-19109bad7ffb\")\n",
        "        if ($myPB.hasClass('ui-progressbar')) {\n",
        "            $myPB.progressbar('value', 1485);\n",
        "        } else {\n",
        "            $myPB.progressbar({value: 0, max: 1498});\n",
        "        }\n",
        "        "
       ],
       "metadata": {},
       "output_type": "display_data",
       "text": [
        "<IPython.core.display.Javascript at 0x9a18b5f8>"
       ]
      },
      {
       "javascript": [
        "$('div#6a57f302-c169-4047-b5e0-4b7933658dea').text('ETA:  0:00:00');"
       ],
       "metadata": {},
       "output_type": "display_data",
       "text": [
        "<IPython.core.display.Javascript at 0x9a0b6c50>"
       ]
      },
      {
       "javascript": [
        "$('div#67006c9b-bf19-49ba-87b1-8f809873e8de').text('1498 of 1498');"
       ],
       "metadata": {},
       "output_type": "display_data",
       "text": [
        "<IPython.core.display.Javascript at 0x99fb3908>"
       ]
      },
      {
       "javascript": [
        "$('div#ccc8b474-cad9-4d0f-bee5-7c1073961646').text('100%');"
       ],
       "metadata": {},
       "output_type": "display_data",
       "text": [
        "<IPython.core.display.Javascript at 0x9a0c8710>"
       ]
      },
      {
       "javascript": [
        "\n",
        "        var $myPB = $(\"div#05e60f80-71e0-4bdd-9a72-19109bad7ffb\")\n",
        "        if ($myPB.hasClass('ui-progressbar')) {\n",
        "            $myPB.progressbar('value', 1498);\n",
        "        } else {\n",
        "            $myPB.progressbar({value: 0, max: 1498});\n",
        "        }\n",
        "        "
       ],
       "metadata": {},
       "output_type": "display_data",
       "text": [
        "<IPython.core.display.Javascript at 0x9a0c8710>"
       ]
      },
      {
       "javascript": [
        "$('div#6a57f302-c169-4047-b5e0-4b7933658dea').text('Time: 0:00:00');"
       ],
       "metadata": {},
       "output_type": "display_data",
       "text": [
        "<IPython.core.display.Javascript at 0x9a0c8c18>"
       ]
      },
      {
       "javascript": [
        "var element = document.getElementById('ccaa121c-bd35-472c-a9b9-039cf2d8a743');\n",
        "                    var parent = element.parentNode\n",
        "                    parent.removeChild(element);\n",
        "                    parent.parentElement.remove();"
       ],
       "metadata": {},
       "output_type": "display_data",
       "text": [
        "<IPython.core.display.Javascript at 0x9a05d9e8>"
       ]
      },
      {
       "javascript": [
        "this.cleanProgressBar(['ccaa121c-bd35-472c-a9b9-039cf2d8a743', '67006c9b-bf19-49ba-87b1-8f809873e8de', 'ccc8b474-cad9-4d0f-bee5-7c1073961646', '05e60f80-71e0-4bdd-9a72-19109bad7ffb', '6a57f302-c169-4047-b5e0-4b7933658dea'])"
       ],
       "metadata": {},
       "output_type": "display_data",
       "text": [
        "<IPython.core.display.Javascript at 0x9a0c8e10>"
       ]
      },
      {
       "metadata": {},
       "output_type": "pyout",
       "prompt_number": 62,
       "text": [
        "[(15,\n",
        "  \"The 2005 World Summit, in paragraphs 162 and 163 of General Assembly resolution 60/1, reaffirmed the role of the Secretary-General as the chief administrative officer of the Organization and requested him to make proposals to the Assembly on the conditions and measures necessary for him to carry out his managerial responsibilities effectively. In commending the Secretary-General's previous and ongoing efforts to ensure the effective management of the United Nations and his commitment to updating the Organization, the Assembly also emphasized the need to decide on additional reforms to make more efficient use of the financial and human resources available to the Organization and thus better comply with its principles, objectives and mandates.\"),\n",
        " (36,\n",
        "  \"The Staff Management Coordination Committee, the highest level of formal consultation between the staff and the management of the United Nations, convened its twenty-seventh session in June 2006 to discuss the Secretary-General's human resources management reform proposals.\"),\n",
        " (50,\n",
        "  'In order to hold managers more accountable for meeting human resources mandates and to reinforce human resources management as a key managerial responsibility, a system of human resources action planning was introduced in 1999.'),\n",
        " (88,\n",
        "  'As agreed at the twenty-seventh session of the Staff Management Coordination Committee, generic vacancy announcements would be posted for 60 days, while it is proposed that the duration of advertising for specific vacancies would be 30 days.'),\n",
        " (95,\n",
        "  'In order to speed up the placement of candidates successful in national competitive examinations, the placement will be managed centrally by the Office of Human Resources Management.'),\n",
        " (111,\n",
        "  'As agreed at the twenty-seventh session of the Staff Management Coordination Committee, when recommending the selection of a candidate to a head of department, programme managers will be required to substantiate the recommendation in writing.'),\n",
        " (133,\n",
        "  'Building on the experience with P-2 mobility, a more comprehensive mobility policy was introduced in 2002, following extensive discussions in the Staff Management Coordination Committee.'),\n",
        " (174,\n",
        "  'The monitoring function of the Office of Human Resources Management will be strengthened in order to assist with the early identification of potential problems, so that they can be addressed in a timely fashion and recorded for further action.'),\n",
        " (366,\n",
        "  'As agreed at the twenty-seventh session of the Staff Management Coordination Committee, the voluntary phase would be limited and would be available to staff at all levels, including those in the Professional and General Service and related categories, who hold contracts under the 100 series of the Staff Rules, have a minimum of 25 years of continuous service and are at least 55 years of age.'),\n",
        " (370,\n",
        "  \"In view of the fact that the targeted phase of the buyout programme would take place upon completion of the review of organizational mandates and the implementation of the Secretary-General's management reforms, the twenty-seventh session of the Staff Management Coordination Committee agreed that further consultations on the implementation criteria would be held once details of the scope and size were available.\"),\n",
        " (379,\n",
        "  'The targeted phase would be implemented following consideration by the General Assembly of the management reform proposals and the results of the mandate reviews, and after details of the programme were discussed with staff, as agreed at the twenty-seventh session of the Staff Management Coordination Committee.')]"
       ]
      }
     ],
     "prompt_number": 62
    },
    {
     "cell_type": "code",
     "collapsed": false,
     "input": [],
     "language": "python",
     "metadata": {},
     "outputs": []
    }
   ],
   "metadata": {}
  }
 ]
}