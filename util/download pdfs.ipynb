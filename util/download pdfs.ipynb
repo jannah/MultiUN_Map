{
 "metadata": {
  "name": "",
  "signature": "sha256:3d373da44f84eb0a61577a6b1ff98b8a05913d8a8380144044bfd7782e664fa8"
 },
 "nbformat": 3,
 "nbformat_minor": 0,
 "worksheets": [
  {
   "cells": [
    {
     "cell_type": "code",
     "collapsed": false,
     "input": [
      "MODULES_PATH = '''..\\\\modules\\\\multi_un_module.py'''\n",
      "import imp\n",
      "NF = imp.load_source('multi_un_module', MODULES_PATH)\n",
      "import multi_un_module as mun"
     ],
     "language": "python",
     "metadata": {},
     "outputs": [],
     "prompt_number": 10
    },
    {
     "cell_type": "code",
     "collapsed": false,
     "input": [
      "docs = mun.load_xml_files_by_year(\"TOP_100\", content = False)\n",
      "docs"
     ],
     "language": "python",
     "metadata": {},
     "outputs": [
      {
       "javascript": [
        "//aec6712a-2457-4b3b-aed0-313a77aa74a8\n",
        "$(\"head\").append(\"<style> td.pb_widget {     width: auto; } td.pb_widget_fill {     width: 100%; } table.pb {     font-family: monospace;     border: 0;     margin: 0; } table.pb tr { border: 0; } table.pb td {     white-space: nowrap;     border: 0; } div.pb {     border: 1px solid #ddd;     border-radius: 3px; } div.pb_bar {     height: 1.5em; } </style>\")"
       ],
       "metadata": {},
       "output_type": "display_data",
       "text": [
        "<IPython.core.display.Javascript at 0x3764668>"
       ]
      },
      {
       "javascript": [
        "\n",
        "                  // aec6712a-2457-4b3b-aed0-313a77aa74a8 -- used to remove this code blob in the end\n",
        "                  IPython.OutputArea.prototype.cleanProgressBar = function(uuids) {\n",
        "                      // filter by uuid-strings \n",
        "                      var myfilter = function(output) { \n",
        "                          var nuids = uuids.length;\n",
        "                          for (var i=0; i<nuids; i++) {\n",
        "                              if (output.hasOwnProperty('html')) {\n",
        "                                  if (output.html.indexOf(uuids[i]) != -1) {\n",
        "                                      return false;\n",
        "                                  }\n",
        "                              }\n",
        "                              if (output.hasOwnProperty('javascript')) {\n",
        "                                  if (output.javascript.indexOf(uuids[i]) != -1) {\n",
        "                                      return false;\n",
        "                                  }\n",
        "                              }\n",
        "                          }\n",
        "                          // keep all others\n",
        "                          return true;\n",
        "                      };\n",
        "\n",
        "                      // Filter the ouputs\n",
        "                      this.outputs = this.outputs.filter(myfilter);\n",
        "                };\n",
        "                "
       ],
       "metadata": {},
       "output_type": "display_data",
       "text": [
        "<IPython.core.display.Javascript at 0x3764630>"
       ]
      },
      {
       "html": [
        "<div class=\"pb\" id=\"aec6712a-2457-4b3b-aed0-313a77aa74a8\"><table class=\"pb ui-widget\"><tr>\n",
        "<td class=\"pb_widget\">TOP_100</td>\n",
        "<td class=\"pb_widget\"><div id=\"23f5cf9c-42d1-4c56-b871-dcddd93b5193\">0 of 98</div></td>\n",
        "<td class=\"pb_widget\"><div id=\"20480eb6-bad6-45a1-bd69-d8ec0d9358a6\">  0%</div></td>\n",
        "<td class=\"pb_widget_fill\">\n",
        "        <div class=\"pb_bar\" id=\"d91a68e3-1487-43c5-b7bb-7bcdaa31e62f\"></div>\n",
        "        <script type=\"text/javascript\">\n",
        "            $(\"div#d91a68e3-1487-43c5-b7bb-7bcdaa31e62f\").progressbar({value: 0, max: 98});\n",
        "        </script>\n",
        "        </td>\n",
        "<td class=\"pb_widget\"><div id=\"c692f6e4-caae-40ce-9833-3bce0f4216ca\">ETA:  --:--:--</div></td>\n",
        "</tr></table><div>"
       ],
       "metadata": {},
       "output_type": "display_data",
       "text": [
        "<IPython.core.display.HTML at 0x37646d8>"
       ]
      },
      {
       "javascript": [
        "$('div#23f5cf9c-42d1-4c56-b871-dcddd93b5193').text('1 of 98');"
       ],
       "metadata": {},
       "output_type": "display_data",
       "text": [
        "<IPython.core.display.Javascript at 0x37647f0>"
       ]
      },
      {
       "javascript": [
        "$('div#20480eb6-bad6-45a1-bd69-d8ec0d9358a6').text('  1%');"
       ],
       "metadata": {},
       "output_type": "display_data",
       "text": [
        "<IPython.core.display.Javascript at 0x3764710>"
       ]
      },
      {
       "javascript": [
        "\n",
        "        var $myPB = $(\"div#d91a68e3-1487-43c5-b7bb-7bcdaa31e62f\")\n",
        "        if ($myPB.hasClass('ui-progressbar')) {\n",
        "            $myPB.progressbar('value', 1);\n",
        "        } else {\n",
        "            $myPB.progressbar({value: 0, max: 98});\n",
        "        }\n",
        "        "
       ],
       "metadata": {},
       "output_type": "display_data",
       "text": [
        "<IPython.core.display.Javascript at 0x37646d8>"
       ]
      },
      {
       "javascript": [
        "$('div#c692f6e4-caae-40ce-9833-3bce0f4216ca').text('ETA:  0:00:00');"
       ],
       "metadata": {},
       "output_type": "display_data",
       "text": [
        "<IPython.core.display.Javascript at 0x3764a90>"
       ]
      },
      {
       "javascript": [
        "$('div#23f5cf9c-42d1-4c56-b871-dcddd93b5193').text('2 of 98');"
       ],
       "metadata": {},
       "output_type": "display_data",
       "text": [
        "<IPython.core.display.Javascript at 0x3764ac8>"
       ]
      },
      {
       "javascript": [
        "$('div#20480eb6-bad6-45a1-bd69-d8ec0d9358a6').text('  2%');"
       ],
       "metadata": {},
       "output_type": "display_data",
       "text": [
        "<IPython.core.display.Javascript at 0x3764ac8>"
       ]
      },
      {
       "javascript": [
        "\n",
        "        var $myPB = $(\"div#d91a68e3-1487-43c5-b7bb-7bcdaa31e62f\")\n",
        "        if ($myPB.hasClass('ui-progressbar')) {\n",
        "            $myPB.progressbar('value', 2);\n",
        "        } else {\n",
        "            $myPB.progressbar({value: 0, max: 98});\n",
        "        }\n",
        "        "
       ],
       "metadata": {},
       "output_type": "display_data",
       "text": [
        "<IPython.core.display.Javascript at 0x37647b8>"
       ]
      },
      {
       "javascript": [
        "$('div#c692f6e4-caae-40ce-9833-3bce0f4216ca').text('ETA:  0:00:00');"
       ],
       "metadata": {},
       "output_type": "display_data",
       "text": [
        "<IPython.core.display.Javascript at 0x3764b70>"
       ]
      },
      {
       "javascript": [
        "$('div#23f5cf9c-42d1-4c56-b871-dcddd93b5193').text('3 of 98');"
       ],
       "metadata": {},
       "output_type": "display_data",
       "text": [
        "<IPython.core.display.Javascript at 0x3764630>"
       ]
      },
      {
       "javascript": [
        "$('div#20480eb6-bad6-45a1-bd69-d8ec0d9358a6').text('  3%');"
       ],
       "metadata": {},
       "output_type": "display_data",
       "text": [
        "<IPython.core.display.Javascript at 0x3764630>"
       ]
      },
      {
       "javascript": [
        "\n",
        "        var $myPB = $(\"div#d91a68e3-1487-43c5-b7bb-7bcdaa31e62f\")\n",
        "        if ($myPB.hasClass('ui-progressbar')) {\n",
        "            $myPB.progressbar('value', 3);\n",
        "        } else {\n",
        "            $myPB.progressbar({value: 0, max: 98});\n",
        "        }\n",
        "        "
       ],
       "metadata": {},
       "output_type": "display_data",
       "text": [
        "<IPython.core.display.Javascript at 0x3764b00>"
       ]
      },
      {
       "javascript": [
        "$('div#c692f6e4-caae-40ce-9833-3bce0f4216ca').text('ETA:  0:00:00');"
       ],
       "metadata": {},
       "output_type": "display_data",
       "text": [
        "<IPython.core.display.Javascript at 0x3764c88>"
       ]
      },
      {
       "javascript": [
        "$('div#23f5cf9c-42d1-4c56-b871-dcddd93b5193').text('4 of 98');"
       ],
       "metadata": {},
       "output_type": "display_data",
       "text": [
        "<IPython.core.display.Javascript at 0x3764d30>"
       ]
      },
      {
       "javascript": [
        "$('div#20480eb6-bad6-45a1-bd69-d8ec0d9358a6').text('  4%');"
       ],
       "metadata": {},
       "output_type": "display_data",
       "text": [
        "<IPython.core.display.Javascript at 0x3764d30>"
       ]
      },
      {
       "javascript": [
        "\n",
        "        var $myPB = $(\"div#d91a68e3-1487-43c5-b7bb-7bcdaa31e62f\")\n",
        "        if ($myPB.hasClass('ui-progressbar')) {\n",
        "            $myPB.progressbar('value', 4);\n",
        "        } else {\n",
        "            $myPB.progressbar({value: 0, max: 98});\n",
        "        }\n",
        "        "
       ],
       "metadata": {},
       "output_type": "display_data",
       "text": [
        "<IPython.core.display.Javascript at 0x37646d8>"
       ]
      },
      {
       "javascript": [
        "$('div#c692f6e4-caae-40ce-9833-3bce0f4216ca').text('ETA:  0:00:01');"
       ],
       "metadata": {},
       "output_type": "display_data",
       "text": [
        "<IPython.core.display.Javascript at 0x3764b70>"
       ]
      },
      {
       "javascript": [
        "$('div#23f5cf9c-42d1-4c56-b871-dcddd93b5193').text('5 of 98');"
       ],
       "metadata": {},
       "output_type": "display_data",
       "text": [
        "<IPython.core.display.Javascript at 0x3764da0>"
       ]
      },
      {
       "javascript": [
        "$('div#20480eb6-bad6-45a1-bd69-d8ec0d9358a6').text('  5%');"
       ],
       "metadata": {},
       "output_type": "display_data",
       "text": [
        "<IPython.core.display.Javascript at 0x3764da0>"
       ]
      },
      {
       "javascript": [
        "\n",
        "        var $myPB = $(\"div#d91a68e3-1487-43c5-b7bb-7bcdaa31e62f\")\n",
        "        if ($myPB.hasClass('ui-progressbar')) {\n",
        "            $myPB.progressbar('value', 5);\n",
        "        } else {\n",
        "            $myPB.progressbar({value: 0, max: 98});\n",
        "        }\n",
        "        "
       ],
       "metadata": {},
       "output_type": "display_data",
       "text": [
        "<IPython.core.display.Javascript at 0x3764710>"
       ]
      },
      {
       "javascript": [
        "$('div#c692f6e4-caae-40ce-9833-3bce0f4216ca').text('ETA:  0:00:01');"
       ],
       "metadata": {},
       "output_type": "display_data",
       "text": [
        "<IPython.core.display.Javascript at 0x37647f0>"
       ]
      },
      {
       "javascript": [
        "$('div#23f5cf9c-42d1-4c56-b871-dcddd93b5193').text('6 of 98');"
       ],
       "metadata": {},
       "output_type": "display_data",
       "text": [
        "<IPython.core.display.Javascript at 0x37647b8>"
       ]
      },
      {
       "javascript": [
        "$('div#20480eb6-bad6-45a1-bd69-d8ec0d9358a6').text('  6%');"
       ],
       "metadata": {},
       "output_type": "display_data",
       "text": [
        "<IPython.core.display.Javascript at 0x37647b8>"
       ]
      },
      {
       "javascript": [
        "\n",
        "        var $myPB = $(\"div#d91a68e3-1487-43c5-b7bb-7bcdaa31e62f\")\n",
        "        if ($myPB.hasClass('ui-progressbar')) {\n",
        "            $myPB.progressbar('value', 6);\n",
        "        } else {\n",
        "            $myPB.progressbar({value: 0, max: 98});\n",
        "        }\n",
        "        "
       ],
       "metadata": {},
       "output_type": "display_data",
       "text": [
        "<IPython.core.display.Javascript at 0x3764a90>"
       ]
      },
      {
       "javascript": [
        "$('div#c692f6e4-caae-40ce-9833-3bce0f4216ca').text('ETA:  0:00:00');"
       ],
       "metadata": {},
       "output_type": "display_data",
       "text": [
        "<IPython.core.display.Javascript at 0x3764630>"
       ]
      },
      {
       "javascript": [
        "$('div#23f5cf9c-42d1-4c56-b871-dcddd93b5193').text('7 of 98');"
       ],
       "metadata": {},
       "output_type": "display_data",
       "text": [
        "<IPython.core.display.Javascript at 0x3764c88>"
       ]
      },
      {
       "javascript": [
        "$('div#20480eb6-bad6-45a1-bd69-d8ec0d9358a6').text('  7%');"
       ],
       "metadata": {},
       "output_type": "display_data",
       "text": [
        "<IPython.core.display.Javascript at 0x3764c88>"
       ]
      },
      {
       "javascript": [
        "\n",
        "        var $myPB = $(\"div#d91a68e3-1487-43c5-b7bb-7bcdaa31e62f\")\n",
        "        if ($myPB.hasClass('ui-progressbar')) {\n",
        "            $myPB.progressbar('value', 7);\n",
        "        } else {\n",
        "            $myPB.progressbar({value: 0, max: 98});\n",
        "        }\n",
        "        "
       ],
       "metadata": {},
       "output_type": "display_data",
       "text": [
        "<IPython.core.display.Javascript at 0x3764ac8>"
       ]
      },
      {
       "javascript": [
        "$('div#c692f6e4-caae-40ce-9833-3bce0f4216ca').text('ETA:  0:00:01');"
       ],
       "metadata": {},
       "output_type": "display_data",
       "text": [
        "<IPython.core.display.Javascript at 0x3764d30>"
       ]
      },
      {
       "javascript": [
        "$('div#23f5cf9c-42d1-4c56-b871-dcddd93b5193').text('8 of 98');"
       ],
       "metadata": {},
       "output_type": "display_data",
       "text": [
        "<IPython.core.display.Javascript at 0x3764b70>"
       ]
      },
      {
       "javascript": [
        "$('div#20480eb6-bad6-45a1-bd69-d8ec0d9358a6').text('  8%');"
       ],
       "metadata": {},
       "output_type": "display_data",
       "text": [
        "<IPython.core.display.Javascript at 0x3764b70>"
       ]
      },
      {
       "javascript": [
        "\n",
        "        var $myPB = $(\"div#d91a68e3-1487-43c5-b7bb-7bcdaa31e62f\")\n",
        "        if ($myPB.hasClass('ui-progressbar')) {\n",
        "            $myPB.progressbar('value', 8);\n",
        "        } else {\n",
        "            $myPB.progressbar({value: 0, max: 98});\n",
        "        }\n",
        "        "
       ],
       "metadata": {},
       "output_type": "display_data",
       "text": [
        "<IPython.core.display.Javascript at 0x3764b00>"
       ]
      },
      {
       "javascript": [
        "$('div#c692f6e4-caae-40ce-9833-3bce0f4216ca').text('ETA:  0:00:01');"
       ],
       "metadata": {},
       "output_type": "display_data",
       "text": [
        "<IPython.core.display.Javascript at 0x3764da0>"
       ]
      },
      {
       "javascript": [
        "$('div#23f5cf9c-42d1-4c56-b871-dcddd93b5193').text('9 of 98');"
       ],
       "metadata": {},
       "output_type": "display_data",
       "text": [
        "<IPython.core.display.Javascript at 0x37647f0>"
       ]
      },
      {
       "javascript": [
        "$('div#20480eb6-bad6-45a1-bd69-d8ec0d9358a6').text('  9%');"
       ],
       "metadata": {},
       "output_type": "display_data",
       "text": [
        "<IPython.core.display.Javascript at 0x37647f0>"
       ]
      },
      {
       "javascript": [
        "\n",
        "        var $myPB = $(\"div#d91a68e3-1487-43c5-b7bb-7bcdaa31e62f\")\n",
        "        if ($myPB.hasClass('ui-progressbar')) {\n",
        "            $myPB.progressbar('value', 9);\n",
        "        } else {\n",
        "            $myPB.progressbar({value: 0, max: 98});\n",
        "        }\n",
        "        "
       ],
       "metadata": {},
       "output_type": "display_data",
       "text": [
        "<IPython.core.display.Javascript at 0x37646d8>"
       ]
      },
      {
       "javascript": [
        "$('div#c692f6e4-caae-40ce-9833-3bce0f4216ca').text('ETA:  0:00:00');"
       ],
       "metadata": {},
       "output_type": "display_data",
       "text": [
        "<IPython.core.display.Javascript at 0x37647b8>"
       ]
      },
      {
       "javascript": [
        "$('div#23f5cf9c-42d1-4c56-b871-dcddd93b5193').text('10 of 98');"
       ],
       "metadata": {},
       "output_type": "display_data",
       "text": [
        "<IPython.core.display.Javascript at 0x3764630>"
       ]
      },
      {
       "javascript": [
        "$('div#20480eb6-bad6-45a1-bd69-d8ec0d9358a6').text(' 10%');"
       ],
       "metadata": {},
       "output_type": "display_data",
       "text": [
        "<IPython.core.display.Javascript at 0x3764630>"
       ]
      },
      {
       "javascript": [
        "\n",
        "        var $myPB = $(\"div#d91a68e3-1487-43c5-b7bb-7bcdaa31e62f\")\n",
        "        if ($myPB.hasClass('ui-progressbar')) {\n",
        "            $myPB.progressbar('value', 10);\n",
        "        } else {\n",
        "            $myPB.progressbar({value: 0, max: 98});\n",
        "        }\n",
        "        "
       ],
       "metadata": {},
       "output_type": "display_data",
       "text": [
        "<IPython.core.display.Javascript at 0x3764710>"
       ]
      },
      {
       "javascript": [
        "$('div#c692f6e4-caae-40ce-9833-3bce0f4216ca').text('ETA:  0:00:00');"
       ],
       "metadata": {},
       "output_type": "display_data",
       "text": [
        "<IPython.core.display.Javascript at 0x3764c88>"
       ]
      },
      {
       "javascript": [
        "$('div#23f5cf9c-42d1-4c56-b871-dcddd93b5193').text('11 of 98');"
       ],
       "metadata": {},
       "output_type": "display_data",
       "text": [
        "<IPython.core.display.Javascript at 0x3764d30>"
       ]
      },
      {
       "javascript": [
        "$('div#20480eb6-bad6-45a1-bd69-d8ec0d9358a6').text(' 11%');"
       ],
       "metadata": {},
       "output_type": "display_data",
       "text": [
        "<IPython.core.display.Javascript at 0x3764d30>"
       ]
      },
      {
       "javascript": [
        "\n",
        "        var $myPB = $(\"div#d91a68e3-1487-43c5-b7bb-7bcdaa31e62f\")\n",
        "        if ($myPB.hasClass('ui-progressbar')) {\n",
        "            $myPB.progressbar('value', 11);\n",
        "        } else {\n",
        "            $myPB.progressbar({value: 0, max: 98});\n",
        "        }\n",
        "        "
       ],
       "metadata": {},
       "output_type": "display_data",
       "text": [
        "<IPython.core.display.Javascript at 0x3764a90>"
       ]
      },
      {
       "javascript": [
        "$('div#c692f6e4-caae-40ce-9833-3bce0f4216ca').text('ETA:  0:00:00');"
       ],
       "metadata": {},
       "output_type": "display_data",
       "text": [
        "<IPython.core.display.Javascript at 0x3764b70>"
       ]
      },
      {
       "javascript": [
        "$('div#23f5cf9c-42d1-4c56-b871-dcddd93b5193').text('12 of 98');"
       ],
       "metadata": {},
       "output_type": "display_data",
       "text": [
        "<IPython.core.display.Javascript at 0x3764da0>"
       ]
      },
      {
       "javascript": [
        "$('div#20480eb6-bad6-45a1-bd69-d8ec0d9358a6').text(' 12%');"
       ],
       "metadata": {},
       "output_type": "display_data",
       "text": [
        "<IPython.core.display.Javascript at 0x3764da0>"
       ]
      },
      {
       "javascript": [
        "\n",
        "        var $myPB = $(\"div#d91a68e3-1487-43c5-b7bb-7bcdaa31e62f\")\n",
        "        if ($myPB.hasClass('ui-progressbar')) {\n",
        "            $myPB.progressbar('value', 12);\n",
        "        } else {\n",
        "            $myPB.progressbar({value: 0, max: 98});\n",
        "        }\n",
        "        "
       ],
       "metadata": {},
       "output_type": "display_data",
       "text": [
        "<IPython.core.display.Javascript at 0x3764ac8>"
       ]
      },
      {
       "javascript": [
        "$('div#c692f6e4-caae-40ce-9833-3bce0f4216ca').text('ETA:  0:00:00');"
       ],
       "metadata": {},
       "output_type": "display_data",
       "text": [
        "<IPython.core.display.Javascript at 0x37647f0>"
       ]
      },
      {
       "javascript": [
        "$('div#23f5cf9c-42d1-4c56-b871-dcddd93b5193').text('13 of 98');"
       ],
       "metadata": {},
       "output_type": "display_data",
       "text": [
        "<IPython.core.display.Javascript at 0x37647b8>"
       ]
      },
      {
       "javascript": [
        "$('div#20480eb6-bad6-45a1-bd69-d8ec0d9358a6').text(' 13%');"
       ],
       "metadata": {},
       "output_type": "display_data",
       "text": [
        "<IPython.core.display.Javascript at 0x37647b8>"
       ]
      },
      {
       "javascript": [
        "\n",
        "        var $myPB = $(\"div#d91a68e3-1487-43c5-b7bb-7bcdaa31e62f\")\n",
        "        if ($myPB.hasClass('ui-progressbar')) {\n",
        "            $myPB.progressbar('value', 13);\n",
        "        } else {\n",
        "            $myPB.progressbar({value: 0, max: 98});\n",
        "        }\n",
        "        "
       ],
       "metadata": {},
       "output_type": "display_data",
       "text": [
        "<IPython.core.display.Javascript at 0x3764b00>"
       ]
      },
      {
       "javascript": [
        "$('div#c692f6e4-caae-40ce-9833-3bce0f4216ca').text('ETA:  0:00:00');"
       ],
       "metadata": {},
       "output_type": "display_data",
       "text": [
        "<IPython.core.display.Javascript at 0x3764630>"
       ]
      },
      {
       "javascript": [
        "$('div#23f5cf9c-42d1-4c56-b871-dcddd93b5193').text('14 of 98');"
       ],
       "metadata": {},
       "output_type": "display_data",
       "text": [
        "<IPython.core.display.Javascript at 0x3764c88>"
       ]
      },
      {
       "javascript": [
        "$('div#20480eb6-bad6-45a1-bd69-d8ec0d9358a6').text(' 14%');"
       ],
       "metadata": {},
       "output_type": "display_data",
       "text": [
        "<IPython.core.display.Javascript at 0x3764c88>"
       ]
      },
      {
       "javascript": [
        "\n",
        "        var $myPB = $(\"div#d91a68e3-1487-43c5-b7bb-7bcdaa31e62f\")\n",
        "        if ($myPB.hasClass('ui-progressbar')) {\n",
        "            $myPB.progressbar('value', 14);\n",
        "        } else {\n",
        "            $myPB.progressbar({value: 0, max: 98});\n",
        "        }\n",
        "        "
       ],
       "metadata": {},
       "output_type": "display_data",
       "text": [
        "<IPython.core.display.Javascript at 0x37646d8>"
       ]
      },
      {
       "javascript": [
        "$('div#c692f6e4-caae-40ce-9833-3bce0f4216ca').text('ETA:  0:00:00');"
       ],
       "metadata": {},
       "output_type": "display_data",
       "text": [
        "<IPython.core.display.Javascript at 0x3764d30>"
       ]
      },
      {
       "javascript": [
        "$('div#23f5cf9c-42d1-4c56-b871-dcddd93b5193').text('15 of 98');"
       ],
       "metadata": {},
       "output_type": "display_data",
       "text": [
        "<IPython.core.display.Javascript at 0x3764b70>"
       ]
      },
      {
       "javascript": [
        "$('div#20480eb6-bad6-45a1-bd69-d8ec0d9358a6').text(' 15%');"
       ],
       "metadata": {},
       "output_type": "display_data",
       "text": [
        "<IPython.core.display.Javascript at 0x3764b70>"
       ]
      },
      {
       "javascript": [
        "\n",
        "        var $myPB = $(\"div#d91a68e3-1487-43c5-b7bb-7bcdaa31e62f\")\n",
        "        if ($myPB.hasClass('ui-progressbar')) {\n",
        "            $myPB.progressbar('value', 15);\n",
        "        } else {\n",
        "            $myPB.progressbar({value: 0, max: 98});\n",
        "        }\n",
        "        "
       ],
       "metadata": {},
       "output_type": "display_data",
       "text": [
        "<IPython.core.display.Javascript at 0x3764710>"
       ]
      },
      {
       "javascript": [
        "$('div#c692f6e4-caae-40ce-9833-3bce0f4216ca').text('ETA:  0:00:00');"
       ],
       "metadata": {},
       "output_type": "display_data",
       "text": [
        "<IPython.core.display.Javascript at 0x3764da0>"
       ]
      },
      {
       "javascript": [
        "$('div#23f5cf9c-42d1-4c56-b871-dcddd93b5193').text('16 of 98');"
       ],
       "metadata": {},
       "output_type": "display_data",
       "text": [
        "<IPython.core.display.Javascript at 0x37647f0>"
       ]
      },
      {
       "javascript": [
        "$('div#20480eb6-bad6-45a1-bd69-d8ec0d9358a6').text(' 16%');"
       ],
       "metadata": {},
       "output_type": "display_data",
       "text": [
        "<IPython.core.display.Javascript at 0x37647f0>"
       ]
      },
      {
       "javascript": [
        "\n",
        "        var $myPB = $(\"div#d91a68e3-1487-43c5-b7bb-7bcdaa31e62f\")\n",
        "        if ($myPB.hasClass('ui-progressbar')) {\n",
        "            $myPB.progressbar('value', 16);\n",
        "        } else {\n",
        "            $myPB.progressbar({value: 0, max: 98});\n",
        "        }\n",
        "        "
       ],
       "metadata": {},
       "output_type": "display_data",
       "text": [
        "<IPython.core.display.Javascript at 0x3764a90>"
       ]
      },
      {
       "javascript": [
        "$('div#c692f6e4-caae-40ce-9833-3bce0f4216ca').text('ETA:  0:00:00');"
       ],
       "metadata": {},
       "output_type": "display_data",
       "text": [
        "<IPython.core.display.Javascript at 0x37647b8>"
       ]
      },
      {
       "javascript": [
        "$('div#23f5cf9c-42d1-4c56-b871-dcddd93b5193').text('17 of 98');"
       ],
       "metadata": {},
       "output_type": "display_data",
       "text": [
        "<IPython.core.display.Javascript at 0x3764630>"
       ]
      },
      {
       "javascript": [
        "$('div#20480eb6-bad6-45a1-bd69-d8ec0d9358a6').text(' 17%');"
       ],
       "metadata": {},
       "output_type": "display_data",
       "text": [
        "<IPython.core.display.Javascript at 0x3764630>"
       ]
      },
      {
       "javascript": [
        "\n",
        "        var $myPB = $(\"div#d91a68e3-1487-43c5-b7bb-7bcdaa31e62f\")\n",
        "        if ($myPB.hasClass('ui-progressbar')) {\n",
        "            $myPB.progressbar('value', 17);\n",
        "        } else {\n",
        "            $myPB.progressbar({value: 0, max: 98});\n",
        "        }\n",
        "        "
       ],
       "metadata": {},
       "output_type": "display_data",
       "text": [
        "<IPython.core.display.Javascript at 0x3764ac8>"
       ]
      },
      {
       "javascript": [
        "$('div#c692f6e4-caae-40ce-9833-3bce0f4216ca').text('ETA:  0:00:00');"
       ],
       "metadata": {},
       "output_type": "display_data",
       "text": [
        "<IPython.core.display.Javascript at 0x3764c88>"
       ]
      },
      {
       "javascript": [
        "$('div#23f5cf9c-42d1-4c56-b871-dcddd93b5193').text('18 of 98');"
       ],
       "metadata": {},
       "output_type": "display_data",
       "text": [
        "<IPython.core.display.Javascript at 0x3764d30>"
       ]
      },
      {
       "javascript": [
        "$('div#20480eb6-bad6-45a1-bd69-d8ec0d9358a6').text(' 18%');"
       ],
       "metadata": {},
       "output_type": "display_data",
       "text": [
        "<IPython.core.display.Javascript at 0x3764d30>"
       ]
      },
      {
       "javascript": [
        "\n",
        "        var $myPB = $(\"div#d91a68e3-1487-43c5-b7bb-7bcdaa31e62f\")\n",
        "        if ($myPB.hasClass('ui-progressbar')) {\n",
        "            $myPB.progressbar('value', 18);\n",
        "        } else {\n",
        "            $myPB.progressbar({value: 0, max: 98});\n",
        "        }\n",
        "        "
       ],
       "metadata": {},
       "output_type": "display_data",
       "text": [
        "<IPython.core.display.Javascript at 0x3764b00>"
       ]
      },
      {
       "javascript": [
        "$('div#c692f6e4-caae-40ce-9833-3bce0f4216ca').text('ETA:  0:00:00');"
       ],
       "metadata": {},
       "output_type": "display_data",
       "text": [
        "<IPython.core.display.Javascript at 0x3764b70>"
       ]
      },
      {
       "javascript": [
        "$('div#23f5cf9c-42d1-4c56-b871-dcddd93b5193').text('19 of 98');"
       ],
       "metadata": {},
       "output_type": "display_data",
       "text": [
        "<IPython.core.display.Javascript at 0x3764da0>"
       ]
      },
      {
       "javascript": [
        "$('div#20480eb6-bad6-45a1-bd69-d8ec0d9358a6').text(' 19%');"
       ],
       "metadata": {},
       "output_type": "display_data",
       "text": [
        "<IPython.core.display.Javascript at 0x3764da0>"
       ]
      },
      {
       "javascript": [
        "\n",
        "        var $myPB = $(\"div#d91a68e3-1487-43c5-b7bb-7bcdaa31e62f\")\n",
        "        if ($myPB.hasClass('ui-progressbar')) {\n",
        "            $myPB.progressbar('value', 19);\n",
        "        } else {\n",
        "            $myPB.progressbar({value: 0, max: 98});\n",
        "        }\n",
        "        "
       ],
       "metadata": {},
       "output_type": "display_data",
       "text": [
        "<IPython.core.display.Javascript at 0x37646d8>"
       ]
      },
      {
       "javascript": [
        "$('div#c692f6e4-caae-40ce-9833-3bce0f4216ca').text('ETA:  0:00:00');"
       ],
       "metadata": {},
       "output_type": "display_data",
       "text": [
        "<IPython.core.display.Javascript at 0x37647f0>"
       ]
      },
      {
       "javascript": [
        "$('div#23f5cf9c-42d1-4c56-b871-dcddd93b5193').text('20 of 98');"
       ],
       "metadata": {},
       "output_type": "display_data",
       "text": [
        "<IPython.core.display.Javascript at 0x37647b8>"
       ]
      },
      {
       "javascript": [
        "$('div#20480eb6-bad6-45a1-bd69-d8ec0d9358a6').text(' 20%');"
       ],
       "metadata": {},
       "output_type": "display_data",
       "text": [
        "<IPython.core.display.Javascript at 0x37647b8>"
       ]
      },
      {
       "javascript": [
        "\n",
        "        var $myPB = $(\"div#d91a68e3-1487-43c5-b7bb-7bcdaa31e62f\")\n",
        "        if ($myPB.hasClass('ui-progressbar')) {\n",
        "            $myPB.progressbar('value', 20);\n",
        "        } else {\n",
        "            $myPB.progressbar({value: 0, max: 98});\n",
        "        }\n",
        "        "
       ],
       "metadata": {},
       "output_type": "display_data",
       "text": [
        "<IPython.core.display.Javascript at 0x3764710>"
       ]
      },
      {
       "javascript": [
        "$('div#c692f6e4-caae-40ce-9833-3bce0f4216ca').text('ETA:  0:00:00');"
       ],
       "metadata": {},
       "output_type": "display_data",
       "text": [
        "<IPython.core.display.Javascript at 0x3764630>"
       ]
      },
      {
       "javascript": [
        "$('div#23f5cf9c-42d1-4c56-b871-dcddd93b5193').text('21 of 98');"
       ],
       "metadata": {},
       "output_type": "display_data",
       "text": [
        "<IPython.core.display.Javascript at 0x3764c88>"
       ]
      },
      {
       "javascript": [
        "$('div#20480eb6-bad6-45a1-bd69-d8ec0d9358a6').text(' 21%');"
       ],
       "metadata": {},
       "output_type": "display_data",
       "text": [
        "<IPython.core.display.Javascript at 0x3764c88>"
       ]
      },
      {
       "javascript": [
        "\n",
        "        var $myPB = $(\"div#d91a68e3-1487-43c5-b7bb-7bcdaa31e62f\")\n",
        "        if ($myPB.hasClass('ui-progressbar')) {\n",
        "            $myPB.progressbar('value', 21);\n",
        "        } else {\n",
        "            $myPB.progressbar({value: 0, max: 98});\n",
        "        }\n",
        "        "
       ],
       "metadata": {},
       "output_type": "display_data",
       "text": [
        "<IPython.core.display.Javascript at 0x3764a90>"
       ]
      },
      {
       "javascript": [
        "$('div#c692f6e4-caae-40ce-9833-3bce0f4216ca').text('ETA:  0:00:00');"
       ],
       "metadata": {},
       "output_type": "display_data",
       "text": [
        "<IPython.core.display.Javascript at 0x3764d30>"
       ]
      },
      {
       "javascript": [
        "$('div#23f5cf9c-42d1-4c56-b871-dcddd93b5193').text('22 of 98');"
       ],
       "metadata": {},
       "output_type": "display_data",
       "text": [
        "<IPython.core.display.Javascript at 0x3764b70>"
       ]
      },
      {
       "javascript": [
        "$('div#20480eb6-bad6-45a1-bd69-d8ec0d9358a6').text(' 22%');"
       ],
       "metadata": {},
       "output_type": "display_data",
       "text": [
        "<IPython.core.display.Javascript at 0x3764b70>"
       ]
      },
      {
       "javascript": [
        "\n",
        "        var $myPB = $(\"div#d91a68e3-1487-43c5-b7bb-7bcdaa31e62f\")\n",
        "        if ($myPB.hasClass('ui-progressbar')) {\n",
        "            $myPB.progressbar('value', 22);\n",
        "        } else {\n",
        "            $myPB.progressbar({value: 0, max: 98});\n",
        "        }\n",
        "        "
       ],
       "metadata": {},
       "output_type": "display_data",
       "text": [
        "<IPython.core.display.Javascript at 0x3764ac8>"
       ]
      },
      {
       "javascript": [
        "$('div#c692f6e4-caae-40ce-9833-3bce0f4216ca').text('ETA:  0:00:00');"
       ],
       "metadata": {},
       "output_type": "display_data",
       "text": [
        "<IPython.core.display.Javascript at 0x3764da0>"
       ]
      },
      {
       "javascript": [
        "$('div#23f5cf9c-42d1-4c56-b871-dcddd93b5193').text('23 of 98');"
       ],
       "metadata": {},
       "output_type": "display_data",
       "text": [
        "<IPython.core.display.Javascript at 0x37647f0>"
       ]
      },
      {
       "javascript": [
        "$('div#20480eb6-bad6-45a1-bd69-d8ec0d9358a6').text(' 23%');"
       ],
       "metadata": {},
       "output_type": "display_data",
       "text": [
        "<IPython.core.display.Javascript at 0x37647f0>"
       ]
      },
      {
       "javascript": [
        "\n",
        "        var $myPB = $(\"div#d91a68e3-1487-43c5-b7bb-7bcdaa31e62f\")\n",
        "        if ($myPB.hasClass('ui-progressbar')) {\n",
        "            $myPB.progressbar('value', 23);\n",
        "        } else {\n",
        "            $myPB.progressbar({value: 0, max: 98});\n",
        "        }\n",
        "        "
       ],
       "metadata": {},
       "output_type": "display_data",
       "text": [
        "<IPython.core.display.Javascript at 0x3764b00>"
       ]
      },
      {
       "javascript": [
        "$('div#c692f6e4-caae-40ce-9833-3bce0f4216ca').text('ETA:  0:00:00');"
       ],
       "metadata": {},
       "output_type": "display_data",
       "text": [
        "<IPython.core.display.Javascript at 0x37647b8>"
       ]
      },
      {
       "javascript": [
        "$('div#23f5cf9c-42d1-4c56-b871-dcddd93b5193').text('24 of 98');"
       ],
       "metadata": {},
       "output_type": "display_data",
       "text": [
        "<IPython.core.display.Javascript at 0x3764630>"
       ]
      },
      {
       "javascript": [
        "$('div#20480eb6-bad6-45a1-bd69-d8ec0d9358a6').text(' 24%');"
       ],
       "metadata": {},
       "output_type": "display_data",
       "text": [
        "<IPython.core.display.Javascript at 0x3764630>"
       ]
      },
      {
       "javascript": [
        "\n",
        "        var $myPB = $(\"div#d91a68e3-1487-43c5-b7bb-7bcdaa31e62f\")\n",
        "        if ($myPB.hasClass('ui-progressbar')) {\n",
        "            $myPB.progressbar('value', 24);\n",
        "        } else {\n",
        "            $myPB.progressbar({value: 0, max: 98});\n",
        "        }\n",
        "        "
       ],
       "metadata": {},
       "output_type": "display_data",
       "text": [
        "<IPython.core.display.Javascript at 0x37646d8>"
       ]
      },
      {
       "javascript": [
        "$('div#c692f6e4-caae-40ce-9833-3bce0f4216ca').text('ETA:  0:00:00');"
       ],
       "metadata": {},
       "output_type": "display_data",
       "text": [
        "<IPython.core.display.Javascript at 0x3764c88>"
       ]
      },
      {
       "javascript": [
        "$('div#23f5cf9c-42d1-4c56-b871-dcddd93b5193').text('25 of 98');"
       ],
       "metadata": {},
       "output_type": "display_data",
       "text": [
        "<IPython.core.display.Javascript at 0x3764d30>"
       ]
      },
      {
       "javascript": [
        "$('div#20480eb6-bad6-45a1-bd69-d8ec0d9358a6').text(' 25%');"
       ],
       "metadata": {},
       "output_type": "display_data",
       "text": [
        "<IPython.core.display.Javascript at 0x3764d30>"
       ]
      },
      {
       "javascript": [
        "\n",
        "        var $myPB = $(\"div#d91a68e3-1487-43c5-b7bb-7bcdaa31e62f\")\n",
        "        if ($myPB.hasClass('ui-progressbar')) {\n",
        "            $myPB.progressbar('value', 25);\n",
        "        } else {\n",
        "            $myPB.progressbar({value: 0, max: 98});\n",
        "        }\n",
        "        "
       ],
       "metadata": {},
       "output_type": "display_data",
       "text": [
        "<IPython.core.display.Javascript at 0x3764710>"
       ]
      },
      {
       "javascript": [
        "$('div#c692f6e4-caae-40ce-9833-3bce0f4216ca').text('ETA:  0:00:00');"
       ],
       "metadata": {},
       "output_type": "display_data",
       "text": [
        "<IPython.core.display.Javascript at 0x3764b70>"
       ]
      },
      {
       "javascript": [
        "$('div#23f5cf9c-42d1-4c56-b871-dcddd93b5193').text('26 of 98');"
       ],
       "metadata": {},
       "output_type": "display_data",
       "text": [
        "<IPython.core.display.Javascript at 0x3764da0>"
       ]
      },
      {
       "javascript": [
        "$('div#20480eb6-bad6-45a1-bd69-d8ec0d9358a6').text(' 26%');"
       ],
       "metadata": {},
       "output_type": "display_data",
       "text": [
        "<IPython.core.display.Javascript at 0x3764da0>"
       ]
      },
      {
       "javascript": [
        "\n",
        "        var $myPB = $(\"div#d91a68e3-1487-43c5-b7bb-7bcdaa31e62f\")\n",
        "        if ($myPB.hasClass('ui-progressbar')) {\n",
        "            $myPB.progressbar('value', 26);\n",
        "        } else {\n",
        "            $myPB.progressbar({value: 0, max: 98});\n",
        "        }\n",
        "        "
       ],
       "metadata": {},
       "output_type": "display_data",
       "text": [
        "<IPython.core.display.Javascript at 0x3764a90>"
       ]
      },
      {
       "javascript": [
        "$('div#c692f6e4-caae-40ce-9833-3bce0f4216ca').text('ETA:  0:00:00');"
       ],
       "metadata": {},
       "output_type": "display_data",
       "text": [
        "<IPython.core.display.Javascript at 0x37647f0>"
       ]
      },
      {
       "javascript": [
        "$('div#23f5cf9c-42d1-4c56-b871-dcddd93b5193').text('27 of 98');"
       ],
       "metadata": {},
       "output_type": "display_data",
       "text": [
        "<IPython.core.display.Javascript at 0x37647b8>"
       ]
      },
      {
       "javascript": [
        "$('div#20480eb6-bad6-45a1-bd69-d8ec0d9358a6').text(' 27%');"
       ],
       "metadata": {},
       "output_type": "display_data",
       "text": [
        "<IPython.core.display.Javascript at 0x37647b8>"
       ]
      },
      {
       "javascript": [
        "\n",
        "        var $myPB = $(\"div#d91a68e3-1487-43c5-b7bb-7bcdaa31e62f\")\n",
        "        if ($myPB.hasClass('ui-progressbar')) {\n",
        "            $myPB.progressbar('value', 27);\n",
        "        } else {\n",
        "            $myPB.progressbar({value: 0, max: 98});\n",
        "        }\n",
        "        "
       ],
       "metadata": {},
       "output_type": "display_data",
       "text": [
        "<IPython.core.display.Javascript at 0x3764ac8>"
       ]
      },
      {
       "javascript": [
        "$('div#c692f6e4-caae-40ce-9833-3bce0f4216ca').text('ETA:  0:00:00');"
       ],
       "metadata": {},
       "output_type": "display_data",
       "text": [
        "<IPython.core.display.Javascript at 0x3764630>"
       ]
      },
      {
       "javascript": [
        "$('div#23f5cf9c-42d1-4c56-b871-dcddd93b5193').text('28 of 98');"
       ],
       "metadata": {},
       "output_type": "display_data",
       "text": [
        "<IPython.core.display.Javascript at 0x3764c88>"
       ]
      },
      {
       "javascript": [
        "$('div#20480eb6-bad6-45a1-bd69-d8ec0d9358a6').text(' 28%');"
       ],
       "metadata": {},
       "output_type": "display_data",
       "text": [
        "<IPython.core.display.Javascript at 0x3764c88>"
       ]
      },
      {
       "javascript": [
        "\n",
        "        var $myPB = $(\"div#d91a68e3-1487-43c5-b7bb-7bcdaa31e62f\")\n",
        "        if ($myPB.hasClass('ui-progressbar')) {\n",
        "            $myPB.progressbar('value', 28);\n",
        "        } else {\n",
        "            $myPB.progressbar({value: 0, max: 98});\n",
        "        }\n",
        "        "
       ],
       "metadata": {},
       "output_type": "display_data",
       "text": [
        "<IPython.core.display.Javascript at 0x3764b00>"
       ]
      },
      {
       "javascript": [
        "$('div#c692f6e4-caae-40ce-9833-3bce0f4216ca').text('ETA:  0:00:00');"
       ],
       "metadata": {},
       "output_type": "display_data",
       "text": [
        "<IPython.core.display.Javascript at 0x3764d30>"
       ]
      },
      {
       "javascript": [
        "$('div#23f5cf9c-42d1-4c56-b871-dcddd93b5193').text('29 of 98');"
       ],
       "metadata": {},
       "output_type": "display_data",
       "text": [
        "<IPython.core.display.Javascript at 0x3764b70>"
       ]
      },
      {
       "javascript": [
        "$('div#20480eb6-bad6-45a1-bd69-d8ec0d9358a6').text(' 29%');"
       ],
       "metadata": {},
       "output_type": "display_data",
       "text": [
        "<IPython.core.display.Javascript at 0x3764b70>"
       ]
      },
      {
       "javascript": [
        "\n",
        "        var $myPB = $(\"div#d91a68e3-1487-43c5-b7bb-7bcdaa31e62f\")\n",
        "        if ($myPB.hasClass('ui-progressbar')) {\n",
        "            $myPB.progressbar('value', 29);\n",
        "        } else {\n",
        "            $myPB.progressbar({value: 0, max: 98});\n",
        "        }\n",
        "        "
       ],
       "metadata": {},
       "output_type": "display_data",
       "text": [
        "<IPython.core.display.Javascript at 0x37646d8>"
       ]
      },
      {
       "javascript": [
        "$('div#c692f6e4-caae-40ce-9833-3bce0f4216ca').text('ETA:  0:00:00');"
       ],
       "metadata": {},
       "output_type": "display_data",
       "text": [
        "<IPython.core.display.Javascript at 0x3764da0>"
       ]
      },
      {
       "javascript": [
        "$('div#23f5cf9c-42d1-4c56-b871-dcddd93b5193').text('30 of 98');"
       ],
       "metadata": {},
       "output_type": "display_data",
       "text": [
        "<IPython.core.display.Javascript at 0x37647f0>"
       ]
      },
      {
       "javascript": [
        "$('div#20480eb6-bad6-45a1-bd69-d8ec0d9358a6').text(' 30%');"
       ],
       "metadata": {},
       "output_type": "display_data",
       "text": [
        "<IPython.core.display.Javascript at 0x37647f0>"
       ]
      },
      {
       "javascript": [
        "\n",
        "        var $myPB = $(\"div#d91a68e3-1487-43c5-b7bb-7bcdaa31e62f\")\n",
        "        if ($myPB.hasClass('ui-progressbar')) {\n",
        "            $myPB.progressbar('value', 30);\n",
        "        } else {\n",
        "            $myPB.progressbar({value: 0, max: 98});\n",
        "        }\n",
        "        "
       ],
       "metadata": {},
       "output_type": "display_data",
       "text": [
        "<IPython.core.display.Javascript at 0x3764710>"
       ]
      },
      {
       "javascript": [
        "$('div#c692f6e4-caae-40ce-9833-3bce0f4216ca').text('ETA:  0:00:00');"
       ],
       "metadata": {},
       "output_type": "display_data",
       "text": [
        "<IPython.core.display.Javascript at 0x37647b8>"
       ]
      },
      {
       "javascript": [
        "$('div#23f5cf9c-42d1-4c56-b871-dcddd93b5193').text('31 of 98');"
       ],
       "metadata": {},
       "output_type": "display_data",
       "text": [
        "<IPython.core.display.Javascript at 0x3764630>"
       ]
      },
      {
       "javascript": [
        "$('div#20480eb6-bad6-45a1-bd69-d8ec0d9358a6').text(' 31%');"
       ],
       "metadata": {},
       "output_type": "display_data",
       "text": [
        "<IPython.core.display.Javascript at 0x3764630>"
       ]
      },
      {
       "javascript": [
        "\n",
        "        var $myPB = $(\"div#d91a68e3-1487-43c5-b7bb-7bcdaa31e62f\")\n",
        "        if ($myPB.hasClass('ui-progressbar')) {\n",
        "            $myPB.progressbar('value', 31);\n",
        "        } else {\n",
        "            $myPB.progressbar({value: 0, max: 98});\n",
        "        }\n",
        "        "
       ],
       "metadata": {},
       "output_type": "display_data",
       "text": [
        "<IPython.core.display.Javascript at 0x3764a90>"
       ]
      },
      {
       "javascript": [
        "$('div#c692f6e4-caae-40ce-9833-3bce0f4216ca').text('ETA:  0:00:00');"
       ],
       "metadata": {},
       "output_type": "display_data",
       "text": [
        "<IPython.core.display.Javascript at 0x3764c88>"
       ]
      },
      {
       "javascript": [
        "$('div#23f5cf9c-42d1-4c56-b871-dcddd93b5193').text('32 of 98');"
       ],
       "metadata": {},
       "output_type": "display_data",
       "text": [
        "<IPython.core.display.Javascript at 0x3764d30>"
       ]
      },
      {
       "javascript": [
        "$('div#20480eb6-bad6-45a1-bd69-d8ec0d9358a6').text(' 32%');"
       ],
       "metadata": {},
       "output_type": "display_data",
       "text": [
        "<IPython.core.display.Javascript at 0x3764d30>"
       ]
      },
      {
       "javascript": [
        "\n",
        "        var $myPB = $(\"div#d91a68e3-1487-43c5-b7bb-7bcdaa31e62f\")\n",
        "        if ($myPB.hasClass('ui-progressbar')) {\n",
        "            $myPB.progressbar('value', 32);\n",
        "        } else {\n",
        "            $myPB.progressbar({value: 0, max: 98});\n",
        "        }\n",
        "        "
       ],
       "metadata": {},
       "output_type": "display_data",
       "text": [
        "<IPython.core.display.Javascript at 0x3764ac8>"
       ]
      },
      {
       "javascript": [
        "$('div#c692f6e4-caae-40ce-9833-3bce0f4216ca').text('ETA:  0:00:00');"
       ],
       "metadata": {},
       "output_type": "display_data",
       "text": [
        "<IPython.core.display.Javascript at 0x3764b70>"
       ]
      },
      {
       "javascript": [
        "$('div#23f5cf9c-42d1-4c56-b871-dcddd93b5193').text('33 of 98');"
       ],
       "metadata": {},
       "output_type": "display_data",
       "text": [
        "<IPython.core.display.Javascript at 0x3764da0>"
       ]
      },
      {
       "javascript": [
        "$('div#20480eb6-bad6-45a1-bd69-d8ec0d9358a6').text(' 33%');"
       ],
       "metadata": {},
       "output_type": "display_data",
       "text": [
        "<IPython.core.display.Javascript at 0x3764da0>"
       ]
      },
      {
       "javascript": [
        "\n",
        "        var $myPB = $(\"div#d91a68e3-1487-43c5-b7bb-7bcdaa31e62f\")\n",
        "        if ($myPB.hasClass('ui-progressbar')) {\n",
        "            $myPB.progressbar('value', 33);\n",
        "        } else {\n",
        "            $myPB.progressbar({value: 0, max: 98});\n",
        "        }\n",
        "        "
       ],
       "metadata": {},
       "output_type": "display_data",
       "text": [
        "<IPython.core.display.Javascript at 0x3764b00>"
       ]
      },
      {
       "javascript": [
        "$('div#c692f6e4-caae-40ce-9833-3bce0f4216ca').text('ETA:  0:00:00');"
       ],
       "metadata": {},
       "output_type": "display_data",
       "text": [
        "<IPython.core.display.Javascript at 0x37647f0>"
       ]
      },
      {
       "javascript": [
        "$('div#23f5cf9c-42d1-4c56-b871-dcddd93b5193').text('34 of 98');"
       ],
       "metadata": {},
       "output_type": "display_data",
       "text": [
        "<IPython.core.display.Javascript at 0x37647b8>"
       ]
      },
      {
       "javascript": [
        "$('div#20480eb6-bad6-45a1-bd69-d8ec0d9358a6').text(' 34%');"
       ],
       "metadata": {},
       "output_type": "display_data",
       "text": [
        "<IPython.core.display.Javascript at 0x37647b8>"
       ]
      },
      {
       "javascript": [
        "\n",
        "        var $myPB = $(\"div#d91a68e3-1487-43c5-b7bb-7bcdaa31e62f\")\n",
        "        if ($myPB.hasClass('ui-progressbar')) {\n",
        "            $myPB.progressbar('value', 34);\n",
        "        } else {\n",
        "            $myPB.progressbar({value: 0, max: 98});\n",
        "        }\n",
        "        "
       ],
       "metadata": {},
       "output_type": "display_data",
       "text": [
        "<IPython.core.display.Javascript at 0x37646d8>"
       ]
      },
      {
       "javascript": [
        "$('div#c692f6e4-caae-40ce-9833-3bce0f4216ca').text('ETA:  0:00:00');"
       ],
       "metadata": {},
       "output_type": "display_data",
       "text": [
        "<IPython.core.display.Javascript at 0x3764630>"
       ]
      },
      {
       "javascript": [
        "$('div#23f5cf9c-42d1-4c56-b871-dcddd93b5193').text('35 of 98');"
       ],
       "metadata": {},
       "output_type": "display_data",
       "text": [
        "<IPython.core.display.Javascript at 0x3764c88>"
       ]
      },
      {
       "javascript": [
        "$('div#20480eb6-bad6-45a1-bd69-d8ec0d9358a6').text(' 35%');"
       ],
       "metadata": {},
       "output_type": "display_data",
       "text": [
        "<IPython.core.display.Javascript at 0x3764c88>"
       ]
      },
      {
       "javascript": [
        "\n",
        "        var $myPB = $(\"div#d91a68e3-1487-43c5-b7bb-7bcdaa31e62f\")\n",
        "        if ($myPB.hasClass('ui-progressbar')) {\n",
        "            $myPB.progressbar('value', 35);\n",
        "        } else {\n",
        "            $myPB.progressbar({value: 0, max: 98});\n",
        "        }\n",
        "        "
       ],
       "metadata": {},
       "output_type": "display_data",
       "text": [
        "<IPython.core.display.Javascript at 0x3764710>"
       ]
      },
      {
       "javascript": [
        "$('div#c692f6e4-caae-40ce-9833-3bce0f4216ca').text('ETA:  0:00:00');"
       ],
       "metadata": {},
       "output_type": "display_data",
       "text": [
        "<IPython.core.display.Javascript at 0x3764d30>"
       ]
      },
      {
       "javascript": [
        "$('div#23f5cf9c-42d1-4c56-b871-dcddd93b5193').text('36 of 98');"
       ],
       "metadata": {},
       "output_type": "display_data",
       "text": [
        "<IPython.core.display.Javascript at 0x3764b70>"
       ]
      },
      {
       "javascript": [
        "$('div#20480eb6-bad6-45a1-bd69-d8ec0d9358a6').text(' 36%');"
       ],
       "metadata": {},
       "output_type": "display_data",
       "text": [
        "<IPython.core.display.Javascript at 0x3764b70>"
       ]
      },
      {
       "javascript": [
        "\n",
        "        var $myPB = $(\"div#d91a68e3-1487-43c5-b7bb-7bcdaa31e62f\")\n",
        "        if ($myPB.hasClass('ui-progressbar')) {\n",
        "            $myPB.progressbar('value', 36);\n",
        "        } else {\n",
        "            $myPB.progressbar({value: 0, max: 98});\n",
        "        }\n",
        "        "
       ],
       "metadata": {},
       "output_type": "display_data",
       "text": [
        "<IPython.core.display.Javascript at 0x3764a90>"
       ]
      },
      {
       "javascript": [
        "$('div#c692f6e4-caae-40ce-9833-3bce0f4216ca').text('ETA:  0:00:00');"
       ],
       "metadata": {},
       "output_type": "display_data",
       "text": [
        "<IPython.core.display.Javascript at 0x3764da0>"
       ]
      },
      {
       "javascript": [
        "$('div#23f5cf9c-42d1-4c56-b871-dcddd93b5193').text('37 of 98');"
       ],
       "metadata": {},
       "output_type": "display_data",
       "text": [
        "<IPython.core.display.Javascript at 0x37647f0>"
       ]
      },
      {
       "javascript": [
        "$('div#20480eb6-bad6-45a1-bd69-d8ec0d9358a6').text(' 37%');"
       ],
       "metadata": {},
       "output_type": "display_data",
       "text": [
        "<IPython.core.display.Javascript at 0x37647f0>"
       ]
      },
      {
       "javascript": [
        "\n",
        "        var $myPB = $(\"div#d91a68e3-1487-43c5-b7bb-7bcdaa31e62f\")\n",
        "        if ($myPB.hasClass('ui-progressbar')) {\n",
        "            $myPB.progressbar('value', 37);\n",
        "        } else {\n",
        "            $myPB.progressbar({value: 0, max: 98});\n",
        "        }\n",
        "        "
       ],
       "metadata": {},
       "output_type": "display_data",
       "text": [
        "<IPython.core.display.Javascript at 0x3764ac8>"
       ]
      },
      {
       "javascript": [
        "$('div#c692f6e4-caae-40ce-9833-3bce0f4216ca').text('ETA:  0:00:00');"
       ],
       "metadata": {},
       "output_type": "display_data",
       "text": [
        "<IPython.core.display.Javascript at 0x37647b8>"
       ]
      },
      {
       "javascript": [
        "$('div#23f5cf9c-42d1-4c56-b871-dcddd93b5193').text('38 of 98');"
       ],
       "metadata": {},
       "output_type": "display_data",
       "text": [
        "<IPython.core.display.Javascript at 0x3764630>"
       ]
      },
      {
       "javascript": [
        "$('div#20480eb6-bad6-45a1-bd69-d8ec0d9358a6').text(' 38%');"
       ],
       "metadata": {},
       "output_type": "display_data",
       "text": [
        "<IPython.core.display.Javascript at 0x3764630>"
       ]
      },
      {
       "javascript": [
        "\n",
        "        var $myPB = $(\"div#d91a68e3-1487-43c5-b7bb-7bcdaa31e62f\")\n",
        "        if ($myPB.hasClass('ui-progressbar')) {\n",
        "            $myPB.progressbar('value', 38);\n",
        "        } else {\n",
        "            $myPB.progressbar({value: 0, max: 98});\n",
        "        }\n",
        "        "
       ],
       "metadata": {},
       "output_type": "display_data",
       "text": [
        "<IPython.core.display.Javascript at 0x3764b00>"
       ]
      },
      {
       "javascript": [
        "$('div#c692f6e4-caae-40ce-9833-3bce0f4216ca').text('ETA:  0:00:00');"
       ],
       "metadata": {},
       "output_type": "display_data",
       "text": [
        "<IPython.core.display.Javascript at 0x3764c88>"
       ]
      },
      {
       "javascript": [
        "$('div#23f5cf9c-42d1-4c56-b871-dcddd93b5193').text('39 of 98');"
       ],
       "metadata": {},
       "output_type": "display_data",
       "text": [
        "<IPython.core.display.Javascript at 0x3764d30>"
       ]
      },
      {
       "javascript": [
        "$('div#20480eb6-bad6-45a1-bd69-d8ec0d9358a6').text(' 39%');"
       ],
       "metadata": {},
       "output_type": "display_data",
       "text": [
        "<IPython.core.display.Javascript at 0x3764d30>"
       ]
      },
      {
       "javascript": [
        "\n",
        "        var $myPB = $(\"div#d91a68e3-1487-43c5-b7bb-7bcdaa31e62f\")\n",
        "        if ($myPB.hasClass('ui-progressbar')) {\n",
        "            $myPB.progressbar('value', 39);\n",
        "        } else {\n",
        "            $myPB.progressbar({value: 0, max: 98});\n",
        "        }\n",
        "        "
       ],
       "metadata": {},
       "output_type": "display_data",
       "text": [
        "<IPython.core.display.Javascript at 0x37646d8>"
       ]
      },
      {
       "javascript": [
        "$('div#c692f6e4-caae-40ce-9833-3bce0f4216ca').text('ETA:  0:00:00');"
       ],
       "metadata": {},
       "output_type": "display_data",
       "text": [
        "<IPython.core.display.Javascript at 0x3764b70>"
       ]
      },
      {
       "javascript": [
        "$('div#23f5cf9c-42d1-4c56-b871-dcddd93b5193').text('40 of 98');"
       ],
       "metadata": {},
       "output_type": "display_data",
       "text": [
        "<IPython.core.display.Javascript at 0x3764da0>"
       ]
      },
      {
       "javascript": [
        "$('div#20480eb6-bad6-45a1-bd69-d8ec0d9358a6').text(' 40%');"
       ],
       "metadata": {},
       "output_type": "display_data",
       "text": [
        "<IPython.core.display.Javascript at 0x3764da0>"
       ]
      },
      {
       "javascript": [
        "\n",
        "        var $myPB = $(\"div#d91a68e3-1487-43c5-b7bb-7bcdaa31e62f\")\n",
        "        if ($myPB.hasClass('ui-progressbar')) {\n",
        "            $myPB.progressbar('value', 40);\n",
        "        } else {\n",
        "            $myPB.progressbar({value: 0, max: 98});\n",
        "        }\n",
        "        "
       ],
       "metadata": {},
       "output_type": "display_data",
       "text": [
        "<IPython.core.display.Javascript at 0x3764710>"
       ]
      },
      {
       "javascript": [
        "$('div#c692f6e4-caae-40ce-9833-3bce0f4216ca').text('ETA:  0:00:00');"
       ],
       "metadata": {},
       "output_type": "display_data",
       "text": [
        "<IPython.core.display.Javascript at 0x37647f0>"
       ]
      },
      {
       "javascript": [
        "$('div#23f5cf9c-42d1-4c56-b871-dcddd93b5193').text('41 of 98');"
       ],
       "metadata": {},
       "output_type": "display_data",
       "text": [
        "<IPython.core.display.Javascript at 0x37647b8>"
       ]
      },
      {
       "javascript": [
        "$('div#20480eb6-bad6-45a1-bd69-d8ec0d9358a6').text(' 41%');"
       ],
       "metadata": {},
       "output_type": "display_data",
       "text": [
        "<IPython.core.display.Javascript at 0x37647b8>"
       ]
      },
      {
       "javascript": [
        "\n",
        "        var $myPB = $(\"div#d91a68e3-1487-43c5-b7bb-7bcdaa31e62f\")\n",
        "        if ($myPB.hasClass('ui-progressbar')) {\n",
        "            $myPB.progressbar('value', 41);\n",
        "        } else {\n",
        "            $myPB.progressbar({value: 0, max: 98});\n",
        "        }\n",
        "        "
       ],
       "metadata": {},
       "output_type": "display_data",
       "text": [
        "<IPython.core.display.Javascript at 0x3764a90>"
       ]
      },
      {
       "javascript": [
        "$('div#c692f6e4-caae-40ce-9833-3bce0f4216ca').text('ETA:  0:00:00');"
       ],
       "metadata": {},
       "output_type": "display_data",
       "text": [
        "<IPython.core.display.Javascript at 0x3764630>"
       ]
      },
      {
       "javascript": [
        "$('div#23f5cf9c-42d1-4c56-b871-dcddd93b5193').text('42 of 98');"
       ],
       "metadata": {},
       "output_type": "display_data",
       "text": [
        "<IPython.core.display.Javascript at 0x3764c88>"
       ]
      },
      {
       "javascript": [
        "$('div#20480eb6-bad6-45a1-bd69-d8ec0d9358a6').text(' 42%');"
       ],
       "metadata": {},
       "output_type": "display_data",
       "text": [
        "<IPython.core.display.Javascript at 0x3764c88>"
       ]
      },
      {
       "javascript": [
        "\n",
        "        var $myPB = $(\"div#d91a68e3-1487-43c5-b7bb-7bcdaa31e62f\")\n",
        "        if ($myPB.hasClass('ui-progressbar')) {\n",
        "            $myPB.progressbar('value', 42);\n",
        "        } else {\n",
        "            $myPB.progressbar({value: 0, max: 98});\n",
        "        }\n",
        "        "
       ],
       "metadata": {},
       "output_type": "display_data",
       "text": [
        "<IPython.core.display.Javascript at 0x3764ac8>"
       ]
      },
      {
       "javascript": [
        "$('div#c692f6e4-caae-40ce-9833-3bce0f4216ca').text('ETA:  0:00:00');"
       ],
       "metadata": {},
       "output_type": "display_data",
       "text": [
        "<IPython.core.display.Javascript at 0x3764d30>"
       ]
      },
      {
       "javascript": [
        "$('div#23f5cf9c-42d1-4c56-b871-dcddd93b5193').text('43 of 98');"
       ],
       "metadata": {},
       "output_type": "display_data",
       "text": [
        "<IPython.core.display.Javascript at 0x3764b70>"
       ]
      },
      {
       "javascript": [
        "$('div#20480eb6-bad6-45a1-bd69-d8ec0d9358a6').text(' 43%');"
       ],
       "metadata": {},
       "output_type": "display_data",
       "text": [
        "<IPython.core.display.Javascript at 0x3764b70>"
       ]
      },
      {
       "javascript": [
        "\n",
        "        var $myPB = $(\"div#d91a68e3-1487-43c5-b7bb-7bcdaa31e62f\")\n",
        "        if ($myPB.hasClass('ui-progressbar')) {\n",
        "            $myPB.progressbar('value', 43);\n",
        "        } else {\n",
        "            $myPB.progressbar({value: 0, max: 98});\n",
        "        }\n",
        "        "
       ],
       "metadata": {},
       "output_type": "display_data",
       "text": [
        "<IPython.core.display.Javascript at 0x3764b00>"
       ]
      },
      {
       "javascript": [
        "$('div#c692f6e4-caae-40ce-9833-3bce0f4216ca').text('ETA:  0:00:00');"
       ],
       "metadata": {},
       "output_type": "display_data",
       "text": [
        "<IPython.core.display.Javascript at 0x3764da0>"
       ]
      },
      {
       "javascript": [
        "$('div#23f5cf9c-42d1-4c56-b871-dcddd93b5193').text('44 of 98');"
       ],
       "metadata": {},
       "output_type": "display_data",
       "text": [
        "<IPython.core.display.Javascript at 0x37647f0>"
       ]
      },
      {
       "javascript": [
        "$('div#20480eb6-bad6-45a1-bd69-d8ec0d9358a6').text(' 44%');"
       ],
       "metadata": {},
       "output_type": "display_data",
       "text": [
        "<IPython.core.display.Javascript at 0x37647f0>"
       ]
      },
      {
       "javascript": [
        "\n",
        "        var $myPB = $(\"div#d91a68e3-1487-43c5-b7bb-7bcdaa31e62f\")\n",
        "        if ($myPB.hasClass('ui-progressbar')) {\n",
        "            $myPB.progressbar('value', 44);\n",
        "        } else {\n",
        "            $myPB.progressbar({value: 0, max: 98});\n",
        "        }\n",
        "        "
       ],
       "metadata": {},
       "output_type": "display_data",
       "text": [
        "<IPython.core.display.Javascript at 0x37646d8>"
       ]
      },
      {
       "javascript": [
        "$('div#c692f6e4-caae-40ce-9833-3bce0f4216ca').text('ETA:  0:00:00');"
       ],
       "metadata": {},
       "output_type": "display_data",
       "text": [
        "<IPython.core.display.Javascript at 0x37647b8>"
       ]
      },
      {
       "javascript": [
        "$('div#23f5cf9c-42d1-4c56-b871-dcddd93b5193').text('45 of 98');"
       ],
       "metadata": {},
       "output_type": "display_data",
       "text": [
        "<IPython.core.display.Javascript at 0x3764630>"
       ]
      },
      {
       "javascript": [
        "$('div#20480eb6-bad6-45a1-bd69-d8ec0d9358a6').text(' 45%');"
       ],
       "metadata": {},
       "output_type": "display_data",
       "text": [
        "<IPython.core.display.Javascript at 0x3764630>"
       ]
      },
      {
       "javascript": [
        "\n",
        "        var $myPB = $(\"div#d91a68e3-1487-43c5-b7bb-7bcdaa31e62f\")\n",
        "        if ($myPB.hasClass('ui-progressbar')) {\n",
        "            $myPB.progressbar('value', 45);\n",
        "        } else {\n",
        "            $myPB.progressbar({value: 0, max: 98});\n",
        "        }\n",
        "        "
       ],
       "metadata": {},
       "output_type": "display_data",
       "text": [
        "<IPython.core.display.Javascript at 0x3764710>"
       ]
      },
      {
       "javascript": [
        "$('div#c692f6e4-caae-40ce-9833-3bce0f4216ca').text('ETA:  0:00:00');"
       ],
       "metadata": {},
       "output_type": "display_data",
       "text": [
        "<IPython.core.display.Javascript at 0x3764c88>"
       ]
      },
      {
       "javascript": [
        "$('div#23f5cf9c-42d1-4c56-b871-dcddd93b5193').text('46 of 98');"
       ],
       "metadata": {},
       "output_type": "display_data",
       "text": [
        "<IPython.core.display.Javascript at 0x3764d30>"
       ]
      },
      {
       "javascript": [
        "$('div#20480eb6-bad6-45a1-bd69-d8ec0d9358a6').text(' 46%');"
       ],
       "metadata": {},
       "output_type": "display_data",
       "text": [
        "<IPython.core.display.Javascript at 0x3764d30>"
       ]
      },
      {
       "javascript": [
        "\n",
        "        var $myPB = $(\"div#d91a68e3-1487-43c5-b7bb-7bcdaa31e62f\")\n",
        "        if ($myPB.hasClass('ui-progressbar')) {\n",
        "            $myPB.progressbar('value', 46);\n",
        "        } else {\n",
        "            $myPB.progressbar({value: 0, max: 98});\n",
        "        }\n",
        "        "
       ],
       "metadata": {},
       "output_type": "display_data",
       "text": [
        "<IPython.core.display.Javascript at 0x3764a90>"
       ]
      },
      {
       "javascript": [
        "$('div#c692f6e4-caae-40ce-9833-3bce0f4216ca').text('ETA:  0:00:00');"
       ],
       "metadata": {},
       "output_type": "display_data",
       "text": [
        "<IPython.core.display.Javascript at 0x3764b70>"
       ]
      },
      {
       "javascript": [
        "$('div#23f5cf9c-42d1-4c56-b871-dcddd93b5193').text('47 of 98');"
       ],
       "metadata": {},
       "output_type": "display_data",
       "text": [
        "<IPython.core.display.Javascript at 0x3764da0>"
       ]
      },
      {
       "javascript": [
        "$('div#20480eb6-bad6-45a1-bd69-d8ec0d9358a6').text(' 47%');"
       ],
       "metadata": {},
       "output_type": "display_data",
       "text": [
        "<IPython.core.display.Javascript at 0x3764da0>"
       ]
      },
      {
       "javascript": [
        "\n",
        "        var $myPB = $(\"div#d91a68e3-1487-43c5-b7bb-7bcdaa31e62f\")\n",
        "        if ($myPB.hasClass('ui-progressbar')) {\n",
        "            $myPB.progressbar('value', 47);\n",
        "        } else {\n",
        "            $myPB.progressbar({value: 0, max: 98});\n",
        "        }\n",
        "        "
       ],
       "metadata": {},
       "output_type": "display_data",
       "text": [
        "<IPython.core.display.Javascript at 0x3764ac8>"
       ]
      },
      {
       "javascript": [
        "$('div#c692f6e4-caae-40ce-9833-3bce0f4216ca').text('ETA:  0:00:00');"
       ],
       "metadata": {},
       "output_type": "display_data",
       "text": [
        "<IPython.core.display.Javascript at 0x37647f0>"
       ]
      },
      {
       "javascript": [
        "$('div#23f5cf9c-42d1-4c56-b871-dcddd93b5193').text('48 of 98');"
       ],
       "metadata": {},
       "output_type": "display_data",
       "text": [
        "<IPython.core.display.Javascript at 0x37647b8>"
       ]
      },
      {
       "javascript": [
        "$('div#20480eb6-bad6-45a1-bd69-d8ec0d9358a6').text(' 48%');"
       ],
       "metadata": {},
       "output_type": "display_data",
       "text": [
        "<IPython.core.display.Javascript at 0x37647b8>"
       ]
      },
      {
       "javascript": [
        "\n",
        "        var $myPB = $(\"div#d91a68e3-1487-43c5-b7bb-7bcdaa31e62f\")\n",
        "        if ($myPB.hasClass('ui-progressbar')) {\n",
        "            $myPB.progressbar('value', 48);\n",
        "        } else {\n",
        "            $myPB.progressbar({value: 0, max: 98});\n",
        "        }\n",
        "        "
       ],
       "metadata": {},
       "output_type": "display_data",
       "text": [
        "<IPython.core.display.Javascript at 0x3764b00>"
       ]
      },
      {
       "javascript": [
        "$('div#c692f6e4-caae-40ce-9833-3bce0f4216ca').text('ETA:  0:00:00');"
       ],
       "metadata": {},
       "output_type": "display_data",
       "text": [
        "<IPython.core.display.Javascript at 0x3764630>"
       ]
      },
      {
       "javascript": [
        "$('div#23f5cf9c-42d1-4c56-b871-dcddd93b5193').text('49 of 98');"
       ],
       "metadata": {},
       "output_type": "display_data",
       "text": [
        "<IPython.core.display.Javascript at 0x3764c88>"
       ]
      },
      {
       "javascript": [
        "$('div#20480eb6-bad6-45a1-bd69-d8ec0d9358a6').text(' 50%');"
       ],
       "metadata": {},
       "output_type": "display_data",
       "text": [
        "<IPython.core.display.Javascript at 0x3764c88>"
       ]
      },
      {
       "javascript": [
        "\n",
        "        var $myPB = $(\"div#d91a68e3-1487-43c5-b7bb-7bcdaa31e62f\")\n",
        "        if ($myPB.hasClass('ui-progressbar')) {\n",
        "            $myPB.progressbar('value', 49);\n",
        "        } else {\n",
        "            $myPB.progressbar({value: 0, max: 98});\n",
        "        }\n",
        "        "
       ],
       "metadata": {},
       "output_type": "display_data",
       "text": [
        "<IPython.core.display.Javascript at 0x37646d8>"
       ]
      },
      {
       "javascript": [
        "$('div#c692f6e4-caae-40ce-9833-3bce0f4216ca').text('ETA:  0:00:00');"
       ],
       "metadata": {},
       "output_type": "display_data",
       "text": [
        "<IPython.core.display.Javascript at 0x3764d30>"
       ]
      },
      {
       "javascript": [
        "$('div#23f5cf9c-42d1-4c56-b871-dcddd93b5193').text('50 of 98');"
       ],
       "metadata": {},
       "output_type": "display_data",
       "text": [
        "<IPython.core.display.Javascript at 0x3764b70>"
       ]
      },
      {
       "javascript": [
        "$('div#20480eb6-bad6-45a1-bd69-d8ec0d9358a6').text(' 51%');"
       ],
       "metadata": {},
       "output_type": "display_data",
       "text": [
        "<IPython.core.display.Javascript at 0x3764b70>"
       ]
      },
      {
       "javascript": [
        "\n",
        "        var $myPB = $(\"div#d91a68e3-1487-43c5-b7bb-7bcdaa31e62f\")\n",
        "        if ($myPB.hasClass('ui-progressbar')) {\n",
        "            $myPB.progressbar('value', 50);\n",
        "        } else {\n",
        "            $myPB.progressbar({value: 0, max: 98});\n",
        "        }\n",
        "        "
       ],
       "metadata": {},
       "output_type": "display_data",
       "text": [
        "<IPython.core.display.Javascript at 0x3764710>"
       ]
      },
      {
       "javascript": [
        "$('div#c692f6e4-caae-40ce-9833-3bce0f4216ca').text('ETA:  0:00:00');"
       ],
       "metadata": {},
       "output_type": "display_data",
       "text": [
        "<IPython.core.display.Javascript at 0x3764da0>"
       ]
      },
      {
       "javascript": [
        "$('div#23f5cf9c-42d1-4c56-b871-dcddd93b5193').text('51 of 98');"
       ],
       "metadata": {},
       "output_type": "display_data",
       "text": [
        "<IPython.core.display.Javascript at 0x3764a90>"
       ]
      },
      {
       "javascript": [
        "$('div#20480eb6-bad6-45a1-bd69-d8ec0d9358a6').text(' 52%');"
       ],
       "metadata": {},
       "output_type": "display_data",
       "text": [
        "<IPython.core.display.Javascript at 0x3764a90>"
       ]
      },
      {
       "javascript": [
        "\n",
        "        var $myPB = $(\"div#d91a68e3-1487-43c5-b7bb-7bcdaa31e62f\")\n",
        "        if ($myPB.hasClass('ui-progressbar')) {\n",
        "            $myPB.progressbar('value', 51);\n",
        "        } else {\n",
        "            $myPB.progressbar({value: 0, max: 98});\n",
        "        }\n",
        "        "
       ],
       "metadata": {},
       "output_type": "display_data",
       "text": [
        "<IPython.core.display.Javascript at 0x3764b00>"
       ]
      },
      {
       "javascript": [
        "$('div#c692f6e4-caae-40ce-9833-3bce0f4216ca').text('ETA:  0:00:00');"
       ],
       "metadata": {},
       "output_type": "display_data",
       "text": [
        "<IPython.core.display.Javascript at 0x3764d30>"
       ]
      },
      {
       "javascript": [
        "$('div#23f5cf9c-42d1-4c56-b871-dcddd93b5193').text('52 of 98');"
       ],
       "metadata": {},
       "output_type": "display_data",
       "text": [
        "<IPython.core.display.Javascript at 0x37647b8>"
       ]
      },
      {
       "javascript": [
        "$('div#20480eb6-bad6-45a1-bd69-d8ec0d9358a6').text(' 53%');"
       ],
       "metadata": {},
       "output_type": "display_data",
       "text": [
        "<IPython.core.display.Javascript at 0x37647b8>"
       ]
      },
      {
       "javascript": [
        "\n",
        "        var $myPB = $(\"div#d91a68e3-1487-43c5-b7bb-7bcdaa31e62f\")\n",
        "        if ($myPB.hasClass('ui-progressbar')) {\n",
        "            $myPB.progressbar('value', 52);\n",
        "        } else {\n",
        "            $myPB.progressbar({value: 0, max: 98});\n",
        "        }\n",
        "        "
       ],
       "metadata": {},
       "output_type": "display_data",
       "text": [
        "<IPython.core.display.Javascript at 0x3764c88>"
       ]
      },
      {
       "javascript": [
        "$('div#c692f6e4-caae-40ce-9833-3bce0f4216ca').text('ETA:  0:00:00');"
       ],
       "metadata": {},
       "output_type": "display_data",
       "text": [
        "<IPython.core.display.Javascript at 0x3764da0>"
       ]
      },
      {
       "javascript": [
        "$('div#23f5cf9c-42d1-4c56-b871-dcddd93b5193').text('53 of 98');"
       ],
       "metadata": {},
       "output_type": "display_data",
       "text": [
        "<IPython.core.display.Javascript at 0x3764cf8>"
       ]
      },
      {
       "javascript": [
        "$('div#20480eb6-bad6-45a1-bd69-d8ec0d9358a6').text(' 54%');"
       ],
       "metadata": {},
       "output_type": "display_data",
       "text": [
        "<IPython.core.display.Javascript at 0x3764cf8>"
       ]
      },
      {
       "javascript": [
        "\n",
        "        var $myPB = $(\"div#d91a68e3-1487-43c5-b7bb-7bcdaa31e62f\")\n",
        "        if ($myPB.hasClass('ui-progressbar')) {\n",
        "            $myPB.progressbar('value', 53);\n",
        "        } else {\n",
        "            $myPB.progressbar({value: 0, max: 98});\n",
        "        }\n",
        "        "
       ],
       "metadata": {},
       "output_type": "display_data",
       "text": [
        "<IPython.core.display.Javascript at 0x3764b70>"
       ]
      },
      {
       "javascript": [
        "$('div#c692f6e4-caae-40ce-9833-3bce0f4216ca').text('ETA:  0:00:00');"
       ],
       "metadata": {},
       "output_type": "display_data",
       "text": [
        "<IPython.core.display.Javascript at 0x3764d30>"
       ]
      },
      {
       "javascript": [
        "$('div#23f5cf9c-42d1-4c56-b871-dcddd93b5193').text('54 of 98');"
       ],
       "metadata": {},
       "output_type": "display_data",
       "text": [
        "<IPython.core.display.Javascript at 0x3764908>"
       ]
      },
      {
       "javascript": [
        "$('div#20480eb6-bad6-45a1-bd69-d8ec0d9358a6').text(' 55%');"
       ],
       "metadata": {},
       "output_type": "display_data",
       "text": [
        "<IPython.core.display.Javascript at 0x3764908>"
       ]
      },
      {
       "javascript": [
        "\n",
        "        var $myPB = $(\"div#d91a68e3-1487-43c5-b7bb-7bcdaa31e62f\")\n",
        "        if ($myPB.hasClass('ui-progressbar')) {\n",
        "            $myPB.progressbar('value', 54);\n",
        "        } else {\n",
        "            $myPB.progressbar({value: 0, max: 98});\n",
        "        }\n",
        "        "
       ],
       "metadata": {},
       "output_type": "display_data",
       "text": [
        "<IPython.core.display.Javascript at 0x3764a90>"
       ]
      },
      {
       "javascript": [
        "$('div#c692f6e4-caae-40ce-9833-3bce0f4216ca').text('ETA:  0:00:00');"
       ],
       "metadata": {},
       "output_type": "display_data",
       "text": [
        "<IPython.core.display.Javascript at 0x3764da0>"
       ]
      },
      {
       "javascript": [
        "$('div#23f5cf9c-42d1-4c56-b871-dcddd93b5193').text('55 of 98');"
       ],
       "metadata": {},
       "output_type": "display_data",
       "text": [
        "<IPython.core.display.Javascript at 0x3764f28>"
       ]
      },
      {
       "javascript": [
        "$('div#20480eb6-bad6-45a1-bd69-d8ec0d9358a6').text(' 56%');"
       ],
       "metadata": {},
       "output_type": "display_data",
       "text": [
        "<IPython.core.display.Javascript at 0x3764f28>"
       ]
      },
      {
       "javascript": [
        "\n",
        "        var $myPB = $(\"div#d91a68e3-1487-43c5-b7bb-7bcdaa31e62f\")\n",
        "        if ($myPB.hasClass('ui-progressbar')) {\n",
        "            $myPB.progressbar('value', 55);\n",
        "        } else {\n",
        "            $myPB.progressbar({value: 0, max: 98});\n",
        "        }\n",
        "        "
       ],
       "metadata": {},
       "output_type": "display_data",
       "text": [
        "<IPython.core.display.Javascript at 0x37647b8>"
       ]
      },
      {
       "javascript": [
        "$('div#c692f6e4-caae-40ce-9833-3bce0f4216ca').text('ETA:  0:00:00');"
       ],
       "metadata": {},
       "output_type": "display_data",
       "text": [
        "<IPython.core.display.Javascript at 0x3764d30>"
       ]
      },
      {
       "javascript": [
        "$('div#23f5cf9c-42d1-4c56-b871-dcddd93b5193').text('56 of 98');"
       ],
       "metadata": {},
       "output_type": "display_data",
       "text": [
        "<IPython.core.display.Javascript at 0x3764f98>"
       ]
      },
      {
       "javascript": [
        "$('div#20480eb6-bad6-45a1-bd69-d8ec0d9358a6').text(' 57%');"
       ],
       "metadata": {},
       "output_type": "display_data",
       "text": [
        "<IPython.core.display.Javascript at 0x3764f98>"
       ]
      },
      {
       "javascript": [
        "\n",
        "        var $myPB = $(\"div#d91a68e3-1487-43c5-b7bb-7bcdaa31e62f\")\n",
        "        if ($myPB.hasClass('ui-progressbar')) {\n",
        "            $myPB.progressbar('value', 56);\n",
        "        } else {\n",
        "            $myPB.progressbar({value: 0, max: 98});\n",
        "        }\n",
        "        "
       ],
       "metadata": {},
       "output_type": "display_data",
       "text": [
        "<IPython.core.display.Javascript at 0x3764cf8>"
       ]
      },
      {
       "javascript": [
        "$('div#c692f6e4-caae-40ce-9833-3bce0f4216ca').text('ETA:  0:00:00');"
       ],
       "metadata": {},
       "output_type": "display_data",
       "text": [
        "<IPython.core.display.Javascript at 0x3764da0>"
       ]
      },
      {
       "javascript": [
        "$('div#23f5cf9c-42d1-4c56-b871-dcddd93b5193').text('57 of 98');"
       ],
       "metadata": {},
       "output_type": "display_data",
       "text": [
        "<IPython.core.display.Javascript at 0x3764860>"
       ]
      },
      {
       "javascript": [
        "$('div#20480eb6-bad6-45a1-bd69-d8ec0d9358a6').text(' 58%');"
       ],
       "metadata": {},
       "output_type": "display_data",
       "text": [
        "<IPython.core.display.Javascript at 0x3764860>"
       ]
      },
      {
       "javascript": [
        "\n",
        "        var $myPB = $(\"div#d91a68e3-1487-43c5-b7bb-7bcdaa31e62f\")\n",
        "        if ($myPB.hasClass('ui-progressbar')) {\n",
        "            $myPB.progressbar('value', 57);\n",
        "        } else {\n",
        "            $myPB.progressbar({value: 0, max: 98});\n",
        "        }\n",
        "        "
       ],
       "metadata": {},
       "output_type": "display_data",
       "text": [
        "<IPython.core.display.Javascript at 0x3764908>"
       ]
      },
      {
       "javascript": [
        "$('div#c692f6e4-caae-40ce-9833-3bce0f4216ca').text('ETA:  0:00:00');"
       ],
       "metadata": {},
       "output_type": "display_data",
       "text": [
        "<IPython.core.display.Javascript at 0x3764d30>"
       ]
      },
      {
       "javascript": [
        "$('div#23f5cf9c-42d1-4c56-b871-dcddd93b5193').text('58 of 98');"
       ],
       "metadata": {},
       "output_type": "display_data",
       "text": [
        "<IPython.core.display.Javascript at 0x3764b70>"
       ]
      },
      {
       "javascript": [
        "$('div#20480eb6-bad6-45a1-bd69-d8ec0d9358a6').text(' 59%');"
       ],
       "metadata": {},
       "output_type": "display_data",
       "text": [
        "<IPython.core.display.Javascript at 0x3764b70>"
       ]
      },
      {
       "javascript": [
        "\n",
        "        var $myPB = $(\"div#d91a68e3-1487-43c5-b7bb-7bcdaa31e62f\")\n",
        "        if ($myPB.hasClass('ui-progressbar')) {\n",
        "            $myPB.progressbar('value', 58);\n",
        "        } else {\n",
        "            $myPB.progressbar({value: 0, max: 98});\n",
        "        }\n",
        "        "
       ],
       "metadata": {},
       "output_type": "display_data",
       "text": [
        "<IPython.core.display.Javascript at 0x3764ba8>"
       ]
      },
      {
       "javascript": [
        "$('div#c692f6e4-caae-40ce-9833-3bce0f4216ca').text('ETA:  0:00:00');"
       ],
       "metadata": {},
       "output_type": "display_data",
       "text": [
        "<IPython.core.display.Javascript at 0x3764cc0>"
       ]
      },
      {
       "javascript": [
        "$('div#23f5cf9c-42d1-4c56-b871-dcddd93b5193').text('59 of 98');"
       ],
       "metadata": {},
       "output_type": "display_data",
       "text": [
        "<IPython.core.display.Javascript at 0x37647b8>"
       ]
      },
      {
       "javascript": [
        "$('div#20480eb6-bad6-45a1-bd69-d8ec0d9358a6').text(' 60%');"
       ],
       "metadata": {},
       "output_type": "display_data",
       "text": [
        "<IPython.core.display.Javascript at 0x37647b8>"
       ]
      },
      {
       "javascript": [
        "\n",
        "        var $myPB = $(\"div#d91a68e3-1487-43c5-b7bb-7bcdaa31e62f\")\n",
        "        if ($myPB.hasClass('ui-progressbar')) {\n",
        "            $myPB.progressbar('value', 59);\n",
        "        } else {\n",
        "            $myPB.progressbar({value: 0, max: 98});\n",
        "        }\n",
        "        "
       ],
       "metadata": {},
       "output_type": "display_data",
       "text": [
        "<IPython.core.display.Javascript at 0x3764a90>"
       ]
      },
      {
       "javascript": [
        "$('div#c692f6e4-caae-40ce-9833-3bce0f4216ca').text('ETA:  0:00:00');"
       ],
       "metadata": {},
       "output_type": "display_data",
       "text": [
        "<IPython.core.display.Javascript at 0x3764f98>"
       ]
      },
      {
       "javascript": [
        "$('div#23f5cf9c-42d1-4c56-b871-dcddd93b5193').text('60 of 98');"
       ],
       "metadata": {},
       "output_type": "display_data",
       "text": [
        "<IPython.core.display.Javascript at 0x3764da0>"
       ]
      },
      {
       "javascript": [
        "$('div#20480eb6-bad6-45a1-bd69-d8ec0d9358a6').text(' 61%');"
       ],
       "metadata": {},
       "output_type": "display_data",
       "text": [
        "<IPython.core.display.Javascript at 0x3764da0>"
       ]
      },
      {
       "javascript": [
        "\n",
        "        var $myPB = $(\"div#d91a68e3-1487-43c5-b7bb-7bcdaa31e62f\")\n",
        "        if ($myPB.hasClass('ui-progressbar')) {\n",
        "            $myPB.progressbar('value', 60);\n",
        "        } else {\n",
        "            $myPB.progressbar({value: 0, max: 98});\n",
        "        }\n",
        "        "
       ],
       "metadata": {},
       "output_type": "display_data",
       "text": [
        "<IPython.core.display.Javascript at 0x3764f28>"
       ]
      },
      {
       "javascript": [
        "$('div#c692f6e4-caae-40ce-9833-3bce0f4216ca').text('ETA:  0:00:00');"
       ],
       "metadata": {},
       "output_type": "display_data",
       "text": [
        "<IPython.core.display.Javascript at 0x3764860>"
       ]
      },
      {
       "javascript": [
        "$('div#23f5cf9c-42d1-4c56-b871-dcddd93b5193').text('61 of 98');"
       ],
       "metadata": {},
       "output_type": "display_data",
       "text": [
        "<IPython.core.display.Javascript at 0x3764d30>"
       ]
      },
      {
       "javascript": [
        "$('div#20480eb6-bad6-45a1-bd69-d8ec0d9358a6').text(' 62%');"
       ],
       "metadata": {},
       "output_type": "display_data",
       "text": [
        "<IPython.core.display.Javascript at 0x3764d30>"
       ]
      },
      {
       "javascript": [
        "\n",
        "        var $myPB = $(\"div#d91a68e3-1487-43c5-b7bb-7bcdaa31e62f\")\n",
        "        if ($myPB.hasClass('ui-progressbar')) {\n",
        "            $myPB.progressbar('value', 61);\n",
        "        } else {\n",
        "            $myPB.progressbar({value: 0, max: 98});\n",
        "        }\n",
        "        "
       ],
       "metadata": {},
       "output_type": "display_data",
       "text": [
        "<IPython.core.display.Javascript at 0x3764cf8>"
       ]
      },
      {
       "javascript": [
        "$('div#c692f6e4-caae-40ce-9833-3bce0f4216ca').text('ETA:  0:00:00');"
       ],
       "metadata": {},
       "output_type": "display_data",
       "text": [
        "<IPython.core.display.Javascript at 0x3764b70>"
       ]
      },
      {
       "javascript": [
        "$('div#23f5cf9c-42d1-4c56-b871-dcddd93b5193').text('62 of 98');"
       ],
       "metadata": {},
       "output_type": "display_data",
       "text": [
        "<IPython.core.display.Javascript at 0x3764cc0>"
       ]
      },
      {
       "javascript": [
        "$('div#20480eb6-bad6-45a1-bd69-d8ec0d9358a6').text(' 63%');"
       ],
       "metadata": {},
       "output_type": "display_data",
       "text": [
        "<IPython.core.display.Javascript at 0x3764cc0>"
       ]
      },
      {
       "javascript": [
        "\n",
        "        var $myPB = $(\"div#d91a68e3-1487-43c5-b7bb-7bcdaa31e62f\")\n",
        "        if ($myPB.hasClass('ui-progressbar')) {\n",
        "            $myPB.progressbar('value', 62);\n",
        "        } else {\n",
        "            $myPB.progressbar({value: 0, max: 98});\n",
        "        }\n",
        "        "
       ],
       "metadata": {},
       "output_type": "display_data",
       "text": [
        "<IPython.core.display.Javascript at 0x3764908>"
       ]
      },
      {
       "javascript": [
        "$('div#c692f6e4-caae-40ce-9833-3bce0f4216ca').text('ETA:  0:00:00');"
       ],
       "metadata": {},
       "output_type": "display_data",
       "text": [
        "<IPython.core.display.Javascript at 0x37647b8>"
       ]
      },
      {
       "javascript": [
        "$('div#23f5cf9c-42d1-4c56-b871-dcddd93b5193').text('63 of 98');"
       ],
       "metadata": {},
       "output_type": "display_data",
       "text": [
        "<IPython.core.display.Javascript at 0x3764f98>"
       ]
      },
      {
       "javascript": [
        "$('div#20480eb6-bad6-45a1-bd69-d8ec0d9358a6').text(' 64%');"
       ],
       "metadata": {},
       "output_type": "display_data",
       "text": [
        "<IPython.core.display.Javascript at 0x3764f98>"
       ]
      },
      {
       "javascript": [
        "\n",
        "        var $myPB = $(\"div#d91a68e3-1487-43c5-b7bb-7bcdaa31e62f\")\n",
        "        if ($myPB.hasClass('ui-progressbar')) {\n",
        "            $myPB.progressbar('value', 63);\n",
        "        } else {\n",
        "            $myPB.progressbar({value: 0, max: 98});\n",
        "        }\n",
        "        "
       ],
       "metadata": {},
       "output_type": "display_data",
       "text": [
        "<IPython.core.display.Javascript at 0x3764ba8>"
       ]
      },
      {
       "javascript": [
        "$('div#c692f6e4-caae-40ce-9833-3bce0f4216ca').text('ETA:  0:00:00');"
       ],
       "metadata": {},
       "output_type": "display_data",
       "text": [
        "<IPython.core.display.Javascript at 0x3764da0>"
       ]
      },
      {
       "javascript": [
        "$('div#23f5cf9c-42d1-4c56-b871-dcddd93b5193').text('64 of 98');"
       ],
       "metadata": {},
       "output_type": "display_data",
       "text": [
        "<IPython.core.display.Javascript at 0x3764860>"
       ]
      },
      {
       "javascript": [
        "$('div#20480eb6-bad6-45a1-bd69-d8ec0d9358a6').text(' 65%');"
       ],
       "metadata": {},
       "output_type": "display_data",
       "text": [
        "<IPython.core.display.Javascript at 0x3764860>"
       ]
      },
      {
       "javascript": [
        "\n",
        "        var $myPB = $(\"div#d91a68e3-1487-43c5-b7bb-7bcdaa31e62f\")\n",
        "        if ($myPB.hasClass('ui-progressbar')) {\n",
        "            $myPB.progressbar('value', 64);\n",
        "        } else {\n",
        "            $myPB.progressbar({value: 0, max: 98});\n",
        "        }\n",
        "        "
       ],
       "metadata": {},
       "output_type": "display_data",
       "text": [
        "<IPython.core.display.Javascript at 0x3764a90>"
       ]
      },
      {
       "javascript": [
        "$('div#c692f6e4-caae-40ce-9833-3bce0f4216ca').text('ETA:  0:00:00');"
       ],
       "metadata": {},
       "output_type": "display_data",
       "text": [
        "<IPython.core.display.Javascript at 0x3764d30>"
       ]
      },
      {
       "javascript": [
        "$('div#23f5cf9c-42d1-4c56-b871-dcddd93b5193').text('65 of 98');"
       ],
       "metadata": {},
       "output_type": "display_data",
       "text": [
        "<IPython.core.display.Javascript at 0x3764b70>"
       ]
      },
      {
       "javascript": [
        "$('div#20480eb6-bad6-45a1-bd69-d8ec0d9358a6').text(' 66%');"
       ],
       "metadata": {},
       "output_type": "display_data",
       "text": [
        "<IPython.core.display.Javascript at 0x3764b70>"
       ]
      },
      {
       "javascript": [
        "\n",
        "        var $myPB = $(\"div#d91a68e3-1487-43c5-b7bb-7bcdaa31e62f\")\n",
        "        if ($myPB.hasClass('ui-progressbar')) {\n",
        "            $myPB.progressbar('value', 65);\n",
        "        } else {\n",
        "            $myPB.progressbar({value: 0, max: 98});\n",
        "        }\n",
        "        "
       ],
       "metadata": {},
       "output_type": "display_data",
       "text": [
        "<IPython.core.display.Javascript at 0x3764f28>"
       ]
      },
      {
       "javascript": [
        "$('div#c692f6e4-caae-40ce-9833-3bce0f4216ca').text('ETA:  0:00:00');"
       ],
       "metadata": {},
       "output_type": "display_data",
       "text": [
        "<IPython.core.display.Javascript at 0x3764cc0>"
       ]
      },
      {
       "javascript": [
        "$('div#23f5cf9c-42d1-4c56-b871-dcddd93b5193').text('66 of 98');"
       ],
       "metadata": {},
       "output_type": "display_data",
       "text": [
        "<IPython.core.display.Javascript at 0x37647b8>"
       ]
      },
      {
       "javascript": [
        "$('div#20480eb6-bad6-45a1-bd69-d8ec0d9358a6').text(' 67%');"
       ],
       "metadata": {},
       "output_type": "display_data",
       "text": [
        "<IPython.core.display.Javascript at 0x37647b8>"
       ]
      },
      {
       "javascript": [
        "\n",
        "        var $myPB = $(\"div#d91a68e3-1487-43c5-b7bb-7bcdaa31e62f\")\n",
        "        if ($myPB.hasClass('ui-progressbar')) {\n",
        "            $myPB.progressbar('value', 66);\n",
        "        } else {\n",
        "            $myPB.progressbar({value: 0, max: 98});\n",
        "        }\n",
        "        "
       ],
       "metadata": {},
       "output_type": "display_data",
       "text": [
        "<IPython.core.display.Javascript at 0x3764cf8>"
       ]
      },
      {
       "javascript": [
        "$('div#c692f6e4-caae-40ce-9833-3bce0f4216ca').text('ETA:  0:00:00');"
       ],
       "metadata": {},
       "output_type": "display_data",
       "text": [
        "<IPython.core.display.Javascript at 0x3764f98>"
       ]
      },
      {
       "javascript": [
        "$('div#23f5cf9c-42d1-4c56-b871-dcddd93b5193').text('67 of 98');"
       ],
       "metadata": {},
       "output_type": "display_data",
       "text": [
        "<IPython.core.display.Javascript at 0x3764da0>"
       ]
      },
      {
       "javascript": [
        "$('div#20480eb6-bad6-45a1-bd69-d8ec0d9358a6').text(' 68%');"
       ],
       "metadata": {},
       "output_type": "display_data",
       "text": [
        "<IPython.core.display.Javascript at 0x3764da0>"
       ]
      },
      {
       "javascript": [
        "\n",
        "        var $myPB = $(\"div#d91a68e3-1487-43c5-b7bb-7bcdaa31e62f\")\n",
        "        if ($myPB.hasClass('ui-progressbar')) {\n",
        "            $myPB.progressbar('value', 67);\n",
        "        } else {\n",
        "            $myPB.progressbar({value: 0, max: 98});\n",
        "        }\n",
        "        "
       ],
       "metadata": {},
       "output_type": "display_data",
       "text": [
        "<IPython.core.display.Javascript at 0x3764908>"
       ]
      },
      {
       "javascript": [
        "$('div#c692f6e4-caae-40ce-9833-3bce0f4216ca').text('ETA:  0:00:00');"
       ],
       "metadata": {},
       "output_type": "display_data",
       "text": [
        "<IPython.core.display.Javascript at 0x3764860>"
       ]
      },
      {
       "javascript": [
        "$('div#23f5cf9c-42d1-4c56-b871-dcddd93b5193').text('68 of 98');"
       ],
       "metadata": {},
       "output_type": "display_data",
       "text": [
        "<IPython.core.display.Javascript at 0x3764ba8>"
       ]
      },
      {
       "javascript": [
        "$('div#20480eb6-bad6-45a1-bd69-d8ec0d9358a6').text(' 69%');"
       ],
       "metadata": {},
       "output_type": "display_data",
       "text": [
        "<IPython.core.display.Javascript at 0x3764ba8>"
       ]
      },
      {
       "javascript": [
        "\n",
        "        var $myPB = $(\"div#d91a68e3-1487-43c5-b7bb-7bcdaa31e62f\")\n",
        "        if ($myPB.hasClass('ui-progressbar')) {\n",
        "            $myPB.progressbar('value', 68);\n",
        "        } else {\n",
        "            $myPB.progressbar({value: 0, max: 98});\n",
        "        }\n",
        "        "
       ],
       "metadata": {},
       "output_type": "display_data",
       "text": [
        "<IPython.core.display.Javascript at 0x3764f28>"
       ]
      },
      {
       "javascript": [
        "$('div#c692f6e4-caae-40ce-9833-3bce0f4216ca').text('ETA:  0:00:00');"
       ],
       "metadata": {},
       "output_type": "display_data",
       "text": [
        "<IPython.core.display.Javascript at 0x3764f98>"
       ]
      },
      {
       "javascript": [
        "$('div#23f5cf9c-42d1-4c56-b871-dcddd93b5193').text('69 of 98');"
       ],
       "metadata": {},
       "output_type": "display_data",
       "text": [
        "<IPython.core.display.Javascript at 0x3764b70>"
       ]
      },
      {
       "javascript": [
        "$('div#20480eb6-bad6-45a1-bd69-d8ec0d9358a6').text(' 70%');"
       ],
       "metadata": {},
       "output_type": "display_data",
       "text": [
        "<IPython.core.display.Javascript at 0x3764b70>"
       ]
      },
      {
       "javascript": [
        "\n",
        "        var $myPB = $(\"div#d91a68e3-1487-43c5-b7bb-7bcdaa31e62f\")\n",
        "        if ($myPB.hasClass('ui-progressbar')) {\n",
        "            $myPB.progressbar('value', 69);\n",
        "        } else {\n",
        "            $myPB.progressbar({value: 0, max: 98});\n",
        "        }\n",
        "        "
       ],
       "metadata": {},
       "output_type": "display_data",
       "text": [
        "<IPython.core.display.Javascript at 0x37647b8>"
       ]
      },
      {
       "javascript": [
        "$('div#c692f6e4-caae-40ce-9833-3bce0f4216ca').text('ETA:  0:00:00');"
       ],
       "metadata": {},
       "output_type": "display_data",
       "text": [
        "<IPython.core.display.Javascript at 0x3764908>"
       ]
      },
      {
       "javascript": [
        "$('div#23f5cf9c-42d1-4c56-b871-dcddd93b5193').text('70 of 98');"
       ],
       "metadata": {},
       "output_type": "display_data",
       "text": [
        "<IPython.core.display.Javascript at 0x3764860>"
       ]
      },
      {
       "javascript": [
        "$('div#20480eb6-bad6-45a1-bd69-d8ec0d9358a6').text(' 71%');"
       ],
       "metadata": {},
       "output_type": "display_data",
       "text": [
        "<IPython.core.display.Javascript at 0x3764860>"
       ]
      },
      {
       "javascript": [
        "\n",
        "        var $myPB = $(\"div#d91a68e3-1487-43c5-b7bb-7bcdaa31e62f\")\n",
        "        if ($myPB.hasClass('ui-progressbar')) {\n",
        "            $myPB.progressbar('value', 70);\n",
        "        } else {\n",
        "            $myPB.progressbar({value: 0, max: 98});\n",
        "        }\n",
        "        "
       ],
       "metadata": {},
       "output_type": "display_data",
       "text": [
        "<IPython.core.display.Javascript at 0x3764f98>"
       ]
      },
      {
       "javascript": [
        "$('div#c692f6e4-caae-40ce-9833-3bce0f4216ca').text('ETA:  0:00:00');"
       ],
       "metadata": {},
       "output_type": "display_data",
       "text": [
        "<IPython.core.display.Javascript at 0x3764ba8>"
       ]
      },
      {
       "javascript": [
        "$('div#23f5cf9c-42d1-4c56-b871-dcddd93b5193').text('71 of 98');"
       ],
       "metadata": {},
       "output_type": "display_data",
       "text": [
        "<IPython.core.display.Javascript at 0x3764f28>"
       ]
      },
      {
       "javascript": [
        "$('div#20480eb6-bad6-45a1-bd69-d8ec0d9358a6').text(' 72%');"
       ],
       "metadata": {},
       "output_type": "display_data",
       "text": [
        "<IPython.core.display.Javascript at 0x3764f28>"
       ]
      },
      {
       "javascript": [
        "\n",
        "        var $myPB = $(\"div#d91a68e3-1487-43c5-b7bb-7bcdaa31e62f\")\n",
        "        if ($myPB.hasClass('ui-progressbar')) {\n",
        "            $myPB.progressbar('value', 71);\n",
        "        } else {\n",
        "            $myPB.progressbar({value: 0, max: 98});\n",
        "        }\n",
        "        "
       ],
       "metadata": {},
       "output_type": "display_data",
       "text": [
        "<IPython.core.display.Javascript at 0x37647b8>"
       ]
      },
      {
       "javascript": [
        "$('div#c692f6e4-caae-40ce-9833-3bce0f4216ca').text('ETA:  0:00:00');"
       ],
       "metadata": {},
       "output_type": "display_data",
       "text": [
        "<IPython.core.display.Javascript at 0x3764b70>"
       ]
      },
      {
       "javascript": [
        "$('div#23f5cf9c-42d1-4c56-b871-dcddd93b5193').text('72 of 98');"
       ],
       "metadata": {},
       "output_type": "display_data",
       "text": [
        "<IPython.core.display.Javascript at 0x3764ba8>"
       ]
      },
      {
       "javascript": [
        "$('div#20480eb6-bad6-45a1-bd69-d8ec0d9358a6').text(' 73%');"
       ],
       "metadata": {},
       "output_type": "display_data",
       "text": [
        "<IPython.core.display.Javascript at 0x3764ba8>"
       ]
      },
      {
       "javascript": [
        "\n",
        "        var $myPB = $(\"div#d91a68e3-1487-43c5-b7bb-7bcdaa31e62f\")\n",
        "        if ($myPB.hasClass('ui-progressbar')) {\n",
        "            $myPB.progressbar('value', 72);\n",
        "        } else {\n",
        "            $myPB.progressbar({value: 0, max: 98});\n",
        "        }\n",
        "        "
       ],
       "metadata": {},
       "output_type": "display_data",
       "text": [
        "<IPython.core.display.Javascript at 0x3764860>"
       ]
      },
      {
       "javascript": [
        "$('div#c692f6e4-caae-40ce-9833-3bce0f4216ca').text('ETA:  0:00:00');"
       ],
       "metadata": {},
       "output_type": "display_data",
       "text": [
        "<IPython.core.display.Javascript at 0x3764b70>"
       ]
      },
      {
       "javascript": [
        "$('div#23f5cf9c-42d1-4c56-b871-dcddd93b5193').text('73 of 98');"
       ],
       "metadata": {},
       "output_type": "display_data",
       "text": [
        "<IPython.core.display.Javascript at 0x37647b8>"
       ]
      },
      {
       "javascript": [
        "$('div#20480eb6-bad6-45a1-bd69-d8ec0d9358a6').text(' 74%');"
       ],
       "metadata": {},
       "output_type": "display_data",
       "text": [
        "<IPython.core.display.Javascript at 0x371e518>"
       ]
      },
      {
       "javascript": [
        "\n",
        "        var $myPB = $(\"div#d91a68e3-1487-43c5-b7bb-7bcdaa31e62f\")\n",
        "        if ($myPB.hasClass('ui-progressbar')) {\n",
        "            $myPB.progressbar('value', 73);\n",
        "        } else {\n",
        "            $myPB.progressbar({value: 0, max: 98});\n",
        "        }\n",
        "        "
       ],
       "metadata": {},
       "output_type": "display_data",
       "text": [
        "<IPython.core.display.Javascript at 0x371ea20>"
       ]
      },
      {
       "javascript": [
        "$('div#c692f6e4-caae-40ce-9833-3bce0f4216ca').text('ETA:  0:00:00');"
       ],
       "metadata": {},
       "output_type": "display_data",
       "text": [
        "<IPython.core.display.Javascript at 0x371e630>"
       ]
      },
      {
       "javascript": [
        "$('div#23f5cf9c-42d1-4c56-b871-dcddd93b5193').text('74 of 98');"
       ],
       "metadata": {},
       "output_type": "display_data",
       "text": [
        "<IPython.core.display.Javascript at 0x371e668>"
       ]
      },
      {
       "javascript": [
        "$('div#20480eb6-bad6-45a1-bd69-d8ec0d9358a6').text(' 75%');"
       ],
       "metadata": {},
       "output_type": "display_data",
       "text": [
        "<IPython.core.display.Javascript at 0x37646a0>"
       ]
      },
      {
       "javascript": [
        "\n",
        "        var $myPB = $(\"div#d91a68e3-1487-43c5-b7bb-7bcdaa31e62f\")\n",
        "        if ($myPB.hasClass('ui-progressbar')) {\n",
        "            $myPB.progressbar('value', 74);\n",
        "        } else {\n",
        "            $myPB.progressbar({value: 0, max: 98});\n",
        "        }\n",
        "        "
       ],
       "metadata": {},
       "output_type": "display_data",
       "text": [
        "<IPython.core.display.Javascript at 0x37647b8>"
       ]
      },
      {
       "javascript": [
        "$('div#c692f6e4-caae-40ce-9833-3bce0f4216ca').text('ETA:  0:00:00');"
       ],
       "metadata": {},
       "output_type": "display_data",
       "text": [
        "<IPython.core.display.Javascript at 0x3764f98>"
       ]
      },
      {
       "javascript": [
        "$('div#23f5cf9c-42d1-4c56-b871-dcddd93b5193').text('75 of 98');"
       ],
       "metadata": {},
       "output_type": "display_data",
       "text": [
        "<IPython.core.display.Javascript at 0x3764f28>"
       ]
      },
      {
       "javascript": [
        "$('div#20480eb6-bad6-45a1-bd69-d8ec0d9358a6').text(' 76%');"
       ],
       "metadata": {},
       "output_type": "display_data",
       "text": [
        "<IPython.core.display.Javascript at 0x371e668>"
       ]
      },
      {
       "javascript": [
        "\n",
        "        var $myPB = $(\"div#d91a68e3-1487-43c5-b7bb-7bcdaa31e62f\")\n",
        "        if ($myPB.hasClass('ui-progressbar')) {\n",
        "            $myPB.progressbar('value', 75);\n",
        "        } else {\n",
        "            $myPB.progressbar({value: 0, max: 98});\n",
        "        }\n",
        "        "
       ],
       "metadata": {},
       "output_type": "display_data",
       "text": [
        "<IPython.core.display.Javascript at 0x371ea20>"
       ]
      },
      {
       "javascript": [
        "$('div#c692f6e4-caae-40ce-9833-3bce0f4216ca').text('ETA:  0:00:00');"
       ],
       "metadata": {},
       "output_type": "display_data",
       "text": [
        "<IPython.core.display.Javascript at 0x371e630>"
       ]
      },
      {
       "javascript": [
        "$('div#23f5cf9c-42d1-4c56-b871-dcddd93b5193').text('76 of 98');"
       ],
       "metadata": {},
       "output_type": "display_data",
       "text": [
        "<IPython.core.display.Javascript at 0x3764b70>"
       ]
      },
      {
       "javascript": [
        "$('div#20480eb6-bad6-45a1-bd69-d8ec0d9358a6').text(' 77%');"
       ],
       "metadata": {},
       "output_type": "display_data",
       "text": [
        "<IPython.core.display.Javascript at 0x3764b70>"
       ]
      },
      {
       "javascript": [
        "\n",
        "        var $myPB = $(\"div#d91a68e3-1487-43c5-b7bb-7bcdaa31e62f\")\n",
        "        if ($myPB.hasClass('ui-progressbar')) {\n",
        "            $myPB.progressbar('value', 76);\n",
        "        } else {\n",
        "            $myPB.progressbar({value: 0, max: 98});\n",
        "        }\n",
        "        "
       ],
       "metadata": {},
       "output_type": "display_data",
       "text": [
        "<IPython.core.display.Javascript at 0x3764f98>"
       ]
      },
      {
       "javascript": [
        "$('div#c692f6e4-caae-40ce-9833-3bce0f4216ca').text('ETA:  0:00:00');"
       ],
       "metadata": {},
       "output_type": "display_data",
       "text": [
        "<IPython.core.display.Javascript at 0x37646a0>"
       ]
      },
      {
       "javascript": [
        "$('div#23f5cf9c-42d1-4c56-b871-dcddd93b5193').text('77 of 98');"
       ],
       "metadata": {},
       "output_type": "display_data",
       "text": [
        "<IPython.core.display.Javascript at 0x3764ba8>"
       ]
      },
      {
       "javascript": [
        "$('div#20480eb6-bad6-45a1-bd69-d8ec0d9358a6').text(' 78%');"
       ],
       "metadata": {},
       "output_type": "display_data",
       "text": [
        "<IPython.core.display.Javascript at 0x371e4e0>"
       ]
      },
      {
       "javascript": [
        "\n",
        "        var $myPB = $(\"div#d91a68e3-1487-43c5-b7bb-7bcdaa31e62f\")\n",
        "        if ($myPB.hasClass('ui-progressbar')) {\n",
        "            $myPB.progressbar('value', 77);\n",
        "        } else {\n",
        "            $myPB.progressbar({value: 0, max: 98});\n",
        "        }\n",
        "        "
       ],
       "metadata": {},
       "output_type": "display_data",
       "text": [
        "<IPython.core.display.Javascript at 0x371e630>"
       ]
      },
      {
       "javascript": [
        "$('div#c692f6e4-caae-40ce-9833-3bce0f4216ca').text('ETA:  0:00:00');"
       ],
       "metadata": {},
       "output_type": "display_data",
       "text": [
        "<IPython.core.display.Javascript at 0x371ea20>"
       ]
      },
      {
       "javascript": [
        "$('div#23f5cf9c-42d1-4c56-b871-dcddd93b5193').text('78 of 98');"
       ],
       "metadata": {},
       "output_type": "display_data",
       "text": [
        "<IPython.core.display.Javascript at 0x37646a0>"
       ]
      },
      {
       "javascript": [
        "$('div#20480eb6-bad6-45a1-bd69-d8ec0d9358a6').text(' 79%');"
       ],
       "metadata": {},
       "output_type": "display_data",
       "text": [
        "<IPython.core.display.Javascript at 0x37646a0>"
       ]
      },
      {
       "javascript": [
        "\n",
        "        var $myPB = $(\"div#d91a68e3-1487-43c5-b7bb-7bcdaa31e62f\")\n",
        "        if ($myPB.hasClass('ui-progressbar')) {\n",
        "            $myPB.progressbar('value', 78);\n",
        "        } else {\n",
        "            $myPB.progressbar({value: 0, max: 98});\n",
        "        }\n",
        "        "
       ],
       "metadata": {},
       "output_type": "display_data",
       "text": [
        "<IPython.core.display.Javascript at 0x3764b70>"
       ]
      },
      {
       "javascript": [
        "$('div#c692f6e4-caae-40ce-9833-3bce0f4216ca').text('ETA:  0:00:00');"
       ],
       "metadata": {},
       "output_type": "display_data",
       "text": [
        "<IPython.core.display.Javascript at 0x3764f98>"
       ]
      },
      {
       "javascript": [
        "$('div#23f5cf9c-42d1-4c56-b871-dcddd93b5193').text('79 of 98');"
       ],
       "metadata": {},
       "output_type": "display_data",
       "text": [
        "<IPython.core.display.Javascript at 0x371e630>"
       ]
      },
      {
       "javascript": [
        "$('div#20480eb6-bad6-45a1-bd69-d8ec0d9358a6').text(' 80%');"
       ],
       "metadata": {},
       "output_type": "display_data",
       "text": [
        "<IPython.core.display.Javascript at 0x371e630>"
       ]
      },
      {
       "javascript": [
        "\n",
        "        var $myPB = $(\"div#d91a68e3-1487-43c5-b7bb-7bcdaa31e62f\")\n",
        "        if ($myPB.hasClass('ui-progressbar')) {\n",
        "            $myPB.progressbar('value', 79);\n",
        "        } else {\n",
        "            $myPB.progressbar({value: 0, max: 98});\n",
        "        }\n",
        "        "
       ],
       "metadata": {},
       "output_type": "display_data",
       "text": [
        "<IPython.core.display.Javascript at 0x371ea20>"
       ]
      },
      {
       "javascript": [
        "$('div#c692f6e4-caae-40ce-9833-3bce0f4216ca').text('ETA:  0:00:00');"
       ],
       "metadata": {},
       "output_type": "display_data",
       "text": [
        "<IPython.core.display.Javascript at 0x371e4e0>"
       ]
      },
      {
       "javascript": [
        "$('div#23f5cf9c-42d1-4c56-b871-dcddd93b5193').text('80 of 98');"
       ],
       "metadata": {},
       "output_type": "display_data",
       "text": [
        "<IPython.core.display.Javascript at 0x37646a0>"
       ]
      },
      {
       "javascript": [
        "$('div#20480eb6-bad6-45a1-bd69-d8ec0d9358a6').text(' 81%');"
       ],
       "metadata": {},
       "output_type": "display_data",
       "text": [
        "<IPython.core.display.Javascript at 0x37646a0>"
       ]
      },
      {
       "javascript": [
        "\n",
        "        var $myPB = $(\"div#d91a68e3-1487-43c5-b7bb-7bcdaa31e62f\")\n",
        "        if ($myPB.hasClass('ui-progressbar')) {\n",
        "            $myPB.progressbar('value', 80);\n",
        "        } else {\n",
        "            $myPB.progressbar({value: 0, max: 98});\n",
        "        }\n",
        "        "
       ],
       "metadata": {},
       "output_type": "display_data",
       "text": [
        "<IPython.core.display.Javascript at 0x3764f98>"
       ]
      },
      {
       "javascript": [
        "$('div#c692f6e4-caae-40ce-9833-3bce0f4216ca').text('ETA:  0:00:00');"
       ],
       "metadata": {},
       "output_type": "display_data",
       "text": [
        "<IPython.core.display.Javascript at 0x371e630>"
       ]
      },
      {
       "javascript": [
        "$('div#23f5cf9c-42d1-4c56-b871-dcddd93b5193').text('81 of 98');"
       ],
       "metadata": {},
       "output_type": "display_data",
       "text": [
        "<IPython.core.display.Javascript at 0x371e4e0>"
       ]
      },
      {
       "javascript": [
        "$('div#20480eb6-bad6-45a1-bd69-d8ec0d9358a6').text(' 82%');"
       ],
       "metadata": {},
       "output_type": "display_data",
       "text": [
        "<IPython.core.display.Javascript at 0x371e4e0>"
       ]
      },
      {
       "javascript": [
        "\n",
        "        var $myPB = $(\"div#d91a68e3-1487-43c5-b7bb-7bcdaa31e62f\")\n",
        "        if ($myPB.hasClass('ui-progressbar')) {\n",
        "            $myPB.progressbar('value', 81);\n",
        "        } else {\n",
        "            $myPB.progressbar({value: 0, max: 98});\n",
        "        }\n",
        "        "
       ],
       "metadata": {},
       "output_type": "display_data",
       "text": [
        "<IPython.core.display.Javascript at 0x371e630>"
       ]
      },
      {
       "javascript": [
        "$('div#c692f6e4-caae-40ce-9833-3bce0f4216ca').text('ETA:  0:00:00');"
       ],
       "metadata": {},
       "output_type": "display_data",
       "text": [
        "<IPython.core.display.Javascript at 0x3764f98>"
       ]
      },
      {
       "javascript": [
        "$('div#23f5cf9c-42d1-4c56-b871-dcddd93b5193').text('82 of 98');"
       ],
       "metadata": {},
       "output_type": "display_data",
       "text": [
        "<IPython.core.display.Javascript at 0x1af87080>"
       ]
      },
      {
       "javascript": [
        "$('div#20480eb6-bad6-45a1-bd69-d8ec0d9358a6').text(' 83%');"
       ],
       "metadata": {},
       "output_type": "display_data",
       "text": [
        "<IPython.core.display.Javascript at 0x3764f98>"
       ]
      },
      {
       "javascript": [
        "\n",
        "        var $myPB = $(\"div#d91a68e3-1487-43c5-b7bb-7bcdaa31e62f\")\n",
        "        if ($myPB.hasClass('ui-progressbar')) {\n",
        "            $myPB.progressbar('value', 82);\n",
        "        } else {\n",
        "            $myPB.progressbar({value: 0, max: 98});\n",
        "        }\n",
        "        "
       ],
       "metadata": {},
       "output_type": "display_data",
       "text": [
        "<IPython.core.display.Javascript at 0x371e4e0>"
       ]
      },
      {
       "javascript": [
        "$('div#c692f6e4-caae-40ce-9833-3bce0f4216ca').text('ETA:  0:00:00');"
       ],
       "metadata": {},
       "output_type": "display_data",
       "text": [
        "<IPython.core.display.Javascript at 0x371e630>"
       ]
      },
      {
       "javascript": [
        "$('div#23f5cf9c-42d1-4c56-b871-dcddd93b5193').text('83 of 98');"
       ],
       "metadata": {},
       "output_type": "display_data",
       "text": [
        "<IPython.core.display.Javascript at 0x1af876a0>"
       ]
      },
      {
       "javascript": [
        "$('div#20480eb6-bad6-45a1-bd69-d8ec0d9358a6').text(' 84%');"
       ],
       "metadata": {},
       "output_type": "display_data",
       "text": [
        "<IPython.core.display.Javascript at 0x3764f98>"
       ]
      },
      {
       "javascript": [
        "\n",
        "        var $myPB = $(\"div#d91a68e3-1487-43c5-b7bb-7bcdaa31e62f\")\n",
        "        if ($myPB.hasClass('ui-progressbar')) {\n",
        "            $myPB.progressbar('value', 83);\n",
        "        } else {\n",
        "            $myPB.progressbar({value: 0, max: 98});\n",
        "        }\n",
        "        "
       ],
       "metadata": {},
       "output_type": "display_data",
       "text": [
        "<IPython.core.display.Javascript at 0x371e4e0>"
       ]
      },
      {
       "javascript": [
        "$('div#c692f6e4-caae-40ce-9833-3bce0f4216ca').text('ETA:  0:00:00');"
       ],
       "metadata": {},
       "output_type": "display_data",
       "text": [
        "<IPython.core.display.Javascript at 0x371e630>"
       ]
      },
      {
       "javascript": [
        "$('div#23f5cf9c-42d1-4c56-b871-dcddd93b5193').text('84 of 98');"
       ],
       "metadata": {},
       "output_type": "display_data",
       "text": [
        "<IPython.core.display.Javascript at 0x1af874a8>"
       ]
      },
      {
       "javascript": [
        "$('div#20480eb6-bad6-45a1-bd69-d8ec0d9358a6').text(' 85%');"
       ],
       "metadata": {},
       "output_type": "display_data",
       "text": [
        "<IPython.core.display.Javascript at 0x3764f98>"
       ]
      },
      {
       "javascript": [
        "\n",
        "        var $myPB = $(\"div#d91a68e3-1487-43c5-b7bb-7bcdaa31e62f\")\n",
        "        if ($myPB.hasClass('ui-progressbar')) {\n",
        "            $myPB.progressbar('value', 84);\n",
        "        } else {\n",
        "            $myPB.progressbar({value: 0, max: 98});\n",
        "        }\n",
        "        "
       ],
       "metadata": {},
       "output_type": "display_data",
       "text": [
        "<IPython.core.display.Javascript at 0x371e4e0>"
       ]
      },
      {
       "javascript": [
        "$('div#c692f6e4-caae-40ce-9833-3bce0f4216ca').text('ETA:  0:00:00');"
       ],
       "metadata": {},
       "output_type": "display_data",
       "text": [
        "<IPython.core.display.Javascript at 0x371e630>"
       ]
      },
      {
       "javascript": [
        "$('div#23f5cf9c-42d1-4c56-b871-dcddd93b5193').text('85 of 98');"
       ],
       "metadata": {},
       "output_type": "display_data",
       "text": [
        "<IPython.core.display.Javascript at 0x1af87550>"
       ]
      },
      {
       "javascript": [
        "$('div#20480eb6-bad6-45a1-bd69-d8ec0d9358a6').text(' 86%');"
       ],
       "metadata": {},
       "output_type": "display_data",
       "text": [
        "<IPython.core.display.Javascript at 0x3764f98>"
       ]
      },
      {
       "javascript": [
        "\n",
        "        var $myPB = $(\"div#d91a68e3-1487-43c5-b7bb-7bcdaa31e62f\")\n",
        "        if ($myPB.hasClass('ui-progressbar')) {\n",
        "            $myPB.progressbar('value', 85);\n",
        "        } else {\n",
        "            $myPB.progressbar({value: 0, max: 98});\n",
        "        }\n",
        "        "
       ],
       "metadata": {},
       "output_type": "display_data",
       "text": [
        "<IPython.core.display.Javascript at 0x371e4e0>"
       ]
      },
      {
       "javascript": [
        "$('div#c692f6e4-caae-40ce-9833-3bce0f4216ca').text('ETA:  0:00:00');"
       ],
       "metadata": {},
       "output_type": "display_data",
       "text": [
        "<IPython.core.display.Javascript at 0x371e630>"
       ]
      },
      {
       "javascript": [
        "$('div#23f5cf9c-42d1-4c56-b871-dcddd93b5193').text('86 of 98');"
       ],
       "metadata": {},
       "output_type": "display_data",
       "text": [
        "<IPython.core.display.Javascript at 0x1af87710>"
       ]
      },
      {
       "javascript": [
        "$('div#20480eb6-bad6-45a1-bd69-d8ec0d9358a6').text(' 87%');"
       ],
       "metadata": {},
       "output_type": "display_data",
       "text": [
        "<IPython.core.display.Javascript at 0x3764f98>"
       ]
      },
      {
       "javascript": [
        "\n",
        "        var $myPB = $(\"div#d91a68e3-1487-43c5-b7bb-7bcdaa31e62f\")\n",
        "        if ($myPB.hasClass('ui-progressbar')) {\n",
        "            $myPB.progressbar('value', 86);\n",
        "        } else {\n",
        "            $myPB.progressbar({value: 0, max: 98});\n",
        "        }\n",
        "        "
       ],
       "metadata": {},
       "output_type": "display_data",
       "text": [
        "<IPython.core.display.Javascript at 0x371e4e0>"
       ]
      },
      {
       "javascript": [
        "$('div#c692f6e4-caae-40ce-9833-3bce0f4216ca').text('ETA:  0:00:00');"
       ],
       "metadata": {},
       "output_type": "display_data",
       "text": [
        "<IPython.core.display.Javascript at 0x371e630>"
       ]
      },
      {
       "javascript": [
        "$('div#23f5cf9c-42d1-4c56-b871-dcddd93b5193').text('87 of 98');"
       ],
       "metadata": {},
       "output_type": "display_data",
       "text": [
        "<IPython.core.display.Javascript at 0x1af87710>"
       ]
      },
      {
       "javascript": [
        "$('div#20480eb6-bad6-45a1-bd69-d8ec0d9358a6').text(' 88%');"
       ],
       "metadata": {},
       "output_type": "display_data",
       "text": [
        "<IPython.core.display.Javascript at 0x3764f98>"
       ]
      },
      {
       "javascript": [
        "\n",
        "        var $myPB = $(\"div#d91a68e3-1487-43c5-b7bb-7bcdaa31e62f\")\n",
        "        if ($myPB.hasClass('ui-progressbar')) {\n",
        "            $myPB.progressbar('value', 87);\n",
        "        } else {\n",
        "            $myPB.progressbar({value: 0, max: 98});\n",
        "        }\n",
        "        "
       ],
       "metadata": {},
       "output_type": "display_data",
       "text": [
        "<IPython.core.display.Javascript at 0x371e4e0>"
       ]
      },
      {
       "javascript": [
        "$('div#c692f6e4-caae-40ce-9833-3bce0f4216ca').text('ETA:  0:00:00');"
       ],
       "metadata": {},
       "output_type": "display_data",
       "text": [
        "<IPython.core.display.Javascript at 0x371e630>"
       ]
      },
      {
       "javascript": [
        "$('div#23f5cf9c-42d1-4c56-b871-dcddd93b5193').text('88 of 98');"
       ],
       "metadata": {},
       "output_type": "display_data",
       "text": [
        "<IPython.core.display.Javascript at 0x1af87710>"
       ]
      },
      {
       "javascript": [
        "$('div#20480eb6-bad6-45a1-bd69-d8ec0d9358a6').text(' 89%');"
       ],
       "metadata": {},
       "output_type": "display_data",
       "text": [
        "<IPython.core.display.Javascript at 0x3764f98>"
       ]
      },
      {
       "javascript": [
        "\n",
        "        var $myPB = $(\"div#d91a68e3-1487-43c5-b7bb-7bcdaa31e62f\")\n",
        "        if ($myPB.hasClass('ui-progressbar')) {\n",
        "            $myPB.progressbar('value', 88);\n",
        "        } else {\n",
        "            $myPB.progressbar({value: 0, max: 98});\n",
        "        }\n",
        "        "
       ],
       "metadata": {},
       "output_type": "display_data",
       "text": [
        "<IPython.core.display.Javascript at 0x371e4e0>"
       ]
      },
      {
       "javascript": [
        "$('div#c692f6e4-caae-40ce-9833-3bce0f4216ca').text('ETA:  0:00:00');"
       ],
       "metadata": {},
       "output_type": "display_data",
       "text": [
        "<IPython.core.display.Javascript at 0x371e630>"
       ]
      },
      {
       "javascript": [
        "$('div#23f5cf9c-42d1-4c56-b871-dcddd93b5193').text('89 of 98');"
       ],
       "metadata": {},
       "output_type": "display_data",
       "text": [
        "<IPython.core.display.Javascript at 0x1af87710>"
       ]
      },
      {
       "javascript": [
        "$('div#20480eb6-bad6-45a1-bd69-d8ec0d9358a6').text(' 90%');"
       ],
       "metadata": {},
       "output_type": "display_data",
       "text": [
        "<IPython.core.display.Javascript at 0x3764f98>"
       ]
      },
      {
       "javascript": [
        "\n",
        "        var $myPB = $(\"div#d91a68e3-1487-43c5-b7bb-7bcdaa31e62f\")\n",
        "        if ($myPB.hasClass('ui-progressbar')) {\n",
        "            $myPB.progressbar('value', 89);\n",
        "        } else {\n",
        "            $myPB.progressbar({value: 0, max: 98});\n",
        "        }\n",
        "        "
       ],
       "metadata": {},
       "output_type": "display_data",
       "text": [
        "<IPython.core.display.Javascript at 0x371e4e0>"
       ]
      },
      {
       "javascript": [
        "$('div#c692f6e4-caae-40ce-9833-3bce0f4216ca').text('ETA:  0:00:00');"
       ],
       "metadata": {},
       "output_type": "display_data",
       "text": [
        "<IPython.core.display.Javascript at 0x371e630>"
       ]
      },
      {
       "javascript": [
        "$('div#23f5cf9c-42d1-4c56-b871-dcddd93b5193').text('90 of 98');"
       ],
       "metadata": {},
       "output_type": "display_data",
       "text": [
        "<IPython.core.display.Javascript at 0x1af87710>"
       ]
      },
      {
       "javascript": [
        "$('div#20480eb6-bad6-45a1-bd69-d8ec0d9358a6').text(' 91%');"
       ],
       "metadata": {},
       "output_type": "display_data",
       "text": [
        "<IPython.core.display.Javascript at 0x3764f98>"
       ]
      },
      {
       "javascript": [
        "\n",
        "        var $myPB = $(\"div#d91a68e3-1487-43c5-b7bb-7bcdaa31e62f\")\n",
        "        if ($myPB.hasClass('ui-progressbar')) {\n",
        "            $myPB.progressbar('value', 90);\n",
        "        } else {\n",
        "            $myPB.progressbar({value: 0, max: 98});\n",
        "        }\n",
        "        "
       ],
       "metadata": {},
       "output_type": "display_data",
       "text": [
        "<IPython.core.display.Javascript at 0x371e4e0>"
       ]
      },
      {
       "javascript": [
        "$('div#c692f6e4-caae-40ce-9833-3bce0f4216ca').text('ETA:  0:00:00');"
       ],
       "metadata": {},
       "output_type": "display_data",
       "text": [
        "<IPython.core.display.Javascript at 0x371e630>"
       ]
      },
      {
       "javascript": [
        "$('div#23f5cf9c-42d1-4c56-b871-dcddd93b5193').text('91 of 98');"
       ],
       "metadata": {},
       "output_type": "display_data",
       "text": [
        "<IPython.core.display.Javascript at 0x1af87710>"
       ]
      },
      {
       "javascript": [
        "$('div#20480eb6-bad6-45a1-bd69-d8ec0d9358a6').text(' 92%');"
       ],
       "metadata": {},
       "output_type": "display_data",
       "text": [
        "<IPython.core.display.Javascript at 0x3764f98>"
       ]
      },
      {
       "javascript": [
        "\n",
        "        var $myPB = $(\"div#d91a68e3-1487-43c5-b7bb-7bcdaa31e62f\")\n",
        "        if ($myPB.hasClass('ui-progressbar')) {\n",
        "            $myPB.progressbar('value', 91);\n",
        "        } else {\n",
        "            $myPB.progressbar({value: 0, max: 98});\n",
        "        }\n",
        "        "
       ],
       "metadata": {},
       "output_type": "display_data",
       "text": [
        "<IPython.core.display.Javascript at 0x371e4e0>"
       ]
      },
      {
       "javascript": [
        "$('div#c692f6e4-caae-40ce-9833-3bce0f4216ca').text('ETA:  0:00:00');"
       ],
       "metadata": {},
       "output_type": "display_data",
       "text": [
        "<IPython.core.display.Javascript at 0x371e630>"
       ]
      },
      {
       "javascript": [
        "$('div#23f5cf9c-42d1-4c56-b871-dcddd93b5193').text('92 of 98');"
       ],
       "metadata": {},
       "output_type": "display_data",
       "text": [
        "<IPython.core.display.Javascript at 0x1af87710>"
       ]
      },
      {
       "javascript": [
        "$('div#20480eb6-bad6-45a1-bd69-d8ec0d9358a6').text(' 93%');"
       ],
       "metadata": {},
       "output_type": "display_data",
       "text": [
        "<IPython.core.display.Javascript at 0x3764f98>"
       ]
      },
      {
       "javascript": [
        "\n",
        "        var $myPB = $(\"div#d91a68e3-1487-43c5-b7bb-7bcdaa31e62f\")\n",
        "        if ($myPB.hasClass('ui-progressbar')) {\n",
        "            $myPB.progressbar('value', 92);\n",
        "        } else {\n",
        "            $myPB.progressbar({value: 0, max: 98});\n",
        "        }\n",
        "        "
       ],
       "metadata": {},
       "output_type": "display_data",
       "text": [
        "<IPython.core.display.Javascript at 0x371e4e0>"
       ]
      },
      {
       "javascript": [
        "$('div#c692f6e4-caae-40ce-9833-3bce0f4216ca').text('ETA:  0:00:00');"
       ],
       "metadata": {},
       "output_type": "display_data",
       "text": [
        "<IPython.core.display.Javascript at 0x371e630>"
       ]
      },
      {
       "javascript": [
        "$('div#23f5cf9c-42d1-4c56-b871-dcddd93b5193').text('93 of 98');"
       ],
       "metadata": {},
       "output_type": "display_data",
       "text": [
        "<IPython.core.display.Javascript at 0x1af87710>"
       ]
      },
      {
       "javascript": [
        "$('div#20480eb6-bad6-45a1-bd69-d8ec0d9358a6').text(' 94%');"
       ],
       "metadata": {},
       "output_type": "display_data",
       "text": [
        "<IPython.core.display.Javascript at 0x3764f98>"
       ]
      },
      {
       "javascript": [
        "\n",
        "        var $myPB = $(\"div#d91a68e3-1487-43c5-b7bb-7bcdaa31e62f\")\n",
        "        if ($myPB.hasClass('ui-progressbar')) {\n",
        "            $myPB.progressbar('value', 93);\n",
        "        } else {\n",
        "            $myPB.progressbar({value: 0, max: 98});\n",
        "        }\n",
        "        "
       ],
       "metadata": {},
       "output_type": "display_data",
       "text": [
        "<IPython.core.display.Javascript at 0x371e4e0>"
       ]
      },
      {
       "javascript": [
        "$('div#c692f6e4-caae-40ce-9833-3bce0f4216ca').text('ETA:  0:00:00');"
       ],
       "metadata": {},
       "output_type": "display_data",
       "text": [
        "<IPython.core.display.Javascript at 0x371e630>"
       ]
      },
      {
       "javascript": [
        "$('div#23f5cf9c-42d1-4c56-b871-dcddd93b5193').text('94 of 98');"
       ],
       "metadata": {},
       "output_type": "display_data",
       "text": [
        "<IPython.core.display.Javascript at 0x1af87710>"
       ]
      },
      {
       "javascript": [
        "$('div#20480eb6-bad6-45a1-bd69-d8ec0d9358a6').text(' 95%');"
       ],
       "metadata": {},
       "output_type": "display_data",
       "text": [
        "<IPython.core.display.Javascript at 0x3764f98>"
       ]
      },
      {
       "javascript": [
        "\n",
        "        var $myPB = $(\"div#d91a68e3-1487-43c5-b7bb-7bcdaa31e62f\")\n",
        "        if ($myPB.hasClass('ui-progressbar')) {\n",
        "            $myPB.progressbar('value', 94);\n",
        "        } else {\n",
        "            $myPB.progressbar({value: 0, max: 98});\n",
        "        }\n",
        "        "
       ],
       "metadata": {},
       "output_type": "display_data",
       "text": [
        "<IPython.core.display.Javascript at 0x371e4e0>"
       ]
      },
      {
       "javascript": [
        "$('div#c692f6e4-caae-40ce-9833-3bce0f4216ca').text('ETA:  0:00:00');"
       ],
       "metadata": {},
       "output_type": "display_data",
       "text": [
        "<IPython.core.display.Javascript at 0x371e630>"
       ]
      },
      {
       "javascript": [
        "$('div#23f5cf9c-42d1-4c56-b871-dcddd93b5193').text('95 of 98');"
       ],
       "metadata": {},
       "output_type": "display_data",
       "text": [
        "<IPython.core.display.Javascript at 0x1af87710>"
       ]
      },
      {
       "javascript": [
        "$('div#20480eb6-bad6-45a1-bd69-d8ec0d9358a6').text(' 96%');"
       ],
       "metadata": {},
       "output_type": "display_data",
       "text": [
        "<IPython.core.display.Javascript at 0x3764f98>"
       ]
      },
      {
       "javascript": [
        "\n",
        "        var $myPB = $(\"div#d91a68e3-1487-43c5-b7bb-7bcdaa31e62f\")\n",
        "        if ($myPB.hasClass('ui-progressbar')) {\n",
        "            $myPB.progressbar('value', 95);\n",
        "        } else {\n",
        "            $myPB.progressbar({value: 0, max: 98});\n",
        "        }\n",
        "        "
       ],
       "metadata": {},
       "output_type": "display_data",
       "text": [
        "<IPython.core.display.Javascript at 0x371e4e0>"
       ]
      },
      {
       "javascript": [
        "$('div#c692f6e4-caae-40ce-9833-3bce0f4216ca').text('ETA:  0:00:00');"
       ],
       "metadata": {},
       "output_type": "display_data",
       "text": [
        "<IPython.core.display.Javascript at 0x371e630>"
       ]
      },
      {
       "javascript": [
        "$('div#23f5cf9c-42d1-4c56-b871-dcddd93b5193').text('96 of 98');"
       ],
       "metadata": {},
       "output_type": "display_data",
       "text": [
        "<IPython.core.display.Javascript at 0x1af87710>"
       ]
      },
      {
       "javascript": [
        "$('div#20480eb6-bad6-45a1-bd69-d8ec0d9358a6').text(' 97%');"
       ],
       "metadata": {},
       "output_type": "display_data",
       "text": [
        "<IPython.core.display.Javascript at 0x3764f98>"
       ]
      },
      {
       "javascript": [
        "\n",
        "        var $myPB = $(\"div#d91a68e3-1487-43c5-b7bb-7bcdaa31e62f\")\n",
        "        if ($myPB.hasClass('ui-progressbar')) {\n",
        "            $myPB.progressbar('value', 96);\n",
        "        } else {\n",
        "            $myPB.progressbar({value: 0, max: 98});\n",
        "        }\n",
        "        "
       ],
       "metadata": {},
       "output_type": "display_data",
       "text": [
        "<IPython.core.display.Javascript at 0x371e4e0>"
       ]
      },
      {
       "javascript": [
        "$('div#c692f6e4-caae-40ce-9833-3bce0f4216ca').text('ETA:  0:00:00');"
       ],
       "metadata": {},
       "output_type": "display_data",
       "text": [
        "<IPython.core.display.Javascript at 0x371e630>"
       ]
      },
      {
       "javascript": [
        "$('div#23f5cf9c-42d1-4c56-b871-dcddd93b5193').text('97 of 98');"
       ],
       "metadata": {},
       "output_type": "display_data",
       "text": [
        "<IPython.core.display.Javascript at 0x1af87710>"
       ]
      },
      {
       "javascript": [
        "$('div#20480eb6-bad6-45a1-bd69-d8ec0d9358a6').text(' 98%');"
       ],
       "metadata": {},
       "output_type": "display_data",
       "text": [
        "<IPython.core.display.Javascript at 0x3764f98>"
       ]
      },
      {
       "javascript": [
        "\n",
        "        var $myPB = $(\"div#d91a68e3-1487-43c5-b7bb-7bcdaa31e62f\")\n",
        "        if ($myPB.hasClass('ui-progressbar')) {\n",
        "            $myPB.progressbar('value', 97);\n",
        "        } else {\n",
        "            $myPB.progressbar({value: 0, max: 98});\n",
        "        }\n",
        "        "
       ],
       "metadata": {},
       "output_type": "display_data",
       "text": [
        "<IPython.core.display.Javascript at 0x371e4e0>"
       ]
      },
      {
       "javascript": [
        "$('div#c692f6e4-caae-40ce-9833-3bce0f4216ca').text('ETA:  0:00:00');"
       ],
       "metadata": {},
       "output_type": "display_data",
       "text": [
        "<IPython.core.display.Javascript at 0x371e630>"
       ]
      },
      {
       "javascript": [
        "$('div#23f5cf9c-42d1-4c56-b871-dcddd93b5193').text('98 of 98');"
       ],
       "metadata": {},
       "output_type": "display_data",
       "text": [
        "<IPython.core.display.Javascript at 0x1af87668>"
       ]
      },
      {
       "javascript": [
        "$('div#20480eb6-bad6-45a1-bd69-d8ec0d9358a6').text('100%');"
       ],
       "metadata": {},
       "output_type": "display_data",
       "text": [
        "<IPython.core.display.Javascript at 0x3764f98>"
       ]
      },
      {
       "javascript": [
        "\n",
        "        var $myPB = $(\"div#d91a68e3-1487-43c5-b7bb-7bcdaa31e62f\")\n",
        "        if ($myPB.hasClass('ui-progressbar')) {\n",
        "            $myPB.progressbar('value', 98);\n",
        "        } else {\n",
        "            $myPB.progressbar({value: 0, max: 98});\n",
        "        }\n",
        "        "
       ],
       "metadata": {},
       "output_type": "display_data",
       "text": [
        "<IPython.core.display.Javascript at 0x371e4e0>"
       ]
      },
      {
       "javascript": [
        "$('div#c692f6e4-caae-40ce-9833-3bce0f4216ca').text('ETA:  0:00:00');"
       ],
       "metadata": {},
       "output_type": "display_data",
       "text": [
        "<IPython.core.display.Javascript at 0x371e630>"
       ]
      },
      {
       "javascript": [
        "$('div#23f5cf9c-42d1-4c56-b871-dcddd93b5193').text('98 of 98');"
       ],
       "metadata": {},
       "output_type": "display_data",
       "text": [
        "<IPython.core.display.Javascript at 0x3764ba8>"
       ]
      },
      {
       "javascript": [
        "$('div#20480eb6-bad6-45a1-bd69-d8ec0d9358a6').text('100%');"
       ],
       "metadata": {},
       "output_type": "display_data",
       "text": [
        "<IPython.core.display.Javascript at 0x371e4e0>"
       ]
      },
      {
       "javascript": [
        "\n",
        "        var $myPB = $(\"div#d91a68e3-1487-43c5-b7bb-7bcdaa31e62f\")\n",
        "        if ($myPB.hasClass('ui-progressbar')) {\n",
        "            $myPB.progressbar('value', 98);\n",
        "        } else {\n",
        "            $myPB.progressbar({value: 0, max: 98});\n",
        "        }\n",
        "        "
       ],
       "metadata": {},
       "output_type": "display_data",
       "text": [
        "<IPython.core.display.Javascript at 0x371e630>"
       ]
      },
      {
       "javascript": [
        "$('div#c692f6e4-caae-40ce-9833-3bce0f4216ca').text('Time: 0:00:00');"
       ],
       "metadata": {},
       "output_type": "display_data",
       "text": [
        "<IPython.core.display.Javascript at 0x3764f98>"
       ]
      },
      {
       "javascript": [
        "var element = document.getElementById('aec6712a-2457-4b3b-aed0-313a77aa74a8');\n",
        "                    var parent = element.parentNode\n",
        "                    parent.removeChild(element);\n",
        "                    parent.parentElement.remove();"
       ],
       "metadata": {},
       "output_type": "display_data",
       "text": [
        "<IPython.core.display.Javascript at 0x3764828>"
       ]
      },
      {
       "javascript": [
        "this.cleanProgressBar(['aec6712a-2457-4b3b-aed0-313a77aa74a8', '23f5cf9c-42d1-4c56-b871-dcddd93b5193', '20480eb6-bad6-45a1-bd69-d8ec0d9358a6', 'd91a68e3-1487-43c5-b7bb-7bcdaa31e62f', 'c692f6e4-caae-40ce-9833-3bce0f4216ca'])"
       ],
       "metadata": {},
       "output_type": "display_data",
       "text": [
        "<IPython.core.display.Javascript at 0x3764828>"
       ]
      },
      {
       "metadata": {},
       "output_type": "pyout",
       "prompt_number": 22,
       "text": [
        "{'APLC_CONF_2004_5-en.xml': {'date': '2005/02/09',\n",
        "  'id': 'APLC/CONF/2004/5',\n",
        "  'lang': 'English',\n",
        "  'n': 'G0560290',\n",
        "  'year': 'TOP_100'},\n",
        " 'A_54_2000-en.xml': {'date': '2000/04/13',\n",
        "  'id': 'A/54/2000',\n",
        "  'lang': 'English',\n",
        "  'n': 'N0038897',\n",
        "  'year': 'TOP_100'},\n",
        " 'A_55_253-en.xml': {'date': '2000/08/01',\n",
        "  'id': 'A/55/253',\n",
        "  'lang': 'English',\n",
        "  'n': 'N0059175',\n",
        "  'year': 'TOP_100'},\n",
        " 'A_55_2SUPP-A_55_2-en.xml': {'date': '2000/01/01',\n",
        "  'id': 'A/55/2(SUPP)-A/55/2',\n",
        "  'lang': 'English',\n",
        "  'n': 'N0062814',\n",
        "  'year': 'TOP_100'},\n",
        " 'A_55_874-en.xml': {'date': '2001/04/06',\n",
        "  'id': 'A/55/874',\n",
        "  'lang': 'English',\n",
        "  'n': 'N0132461',\n",
        "  'year': 'TOP_100'},\n",
        " 'A_56_17-en.xml': {'date': '2001/01/01',\n",
        "  'id': 'A/56/17',\n",
        "  'lang': 'English',\n",
        "  'n': 'V0186106',\n",
        "  'year': 'TOP_100'},\n",
        " 'A_56_2SUPP-en.xml': {'date': '2001/09/20',\n",
        "  'id': 'A/56/2(SUPP)',\n",
        "  'lang': 'English',\n",
        "  'n': 'N0154435',\n",
        "  'year': 'TOP_100'},\n",
        " 'A_56_326-en.xml': {'date': '2001/09/06',\n",
        "  'id': 'A/56/326',\n",
        "  'lang': 'English',\n",
        "  'n': 'N0152607',\n",
        "  'year': 'TOP_100'},\n",
        " 'A_56_61-en.xml': {'date': '2001/03/22',\n",
        "  'id': 'A/56/61',\n",
        "  'lang': 'English',\n",
        "  'n': 'N0130266',\n",
        "  'year': 'TOP_100'},\n",
        " 'A_56_887-en.xml': {'date': '2002/04/05',\n",
        "  'id': 'A/56/887',\n",
        "  'lang': 'English',\n",
        "  'n': 'N0231925',\n",
        "  'year': 'TOP_100'},\n",
        " 'A_57_2SUPP-en.xml': {'date': '2002/01/01',\n",
        "  'id': 'A/57/2(SUPP)',\n",
        "  'lang': 'English',\n",
        "  'n': 'N0260781',\n",
        "  'year': 'TOP_100'},\n",
        " 'A_57_304-en.xml': {'date': '2002/08/15',\n",
        "  'id': 'A/57/304',\n",
        "  'lang': 'English',\n",
        "  'n': 'N0252584',\n",
        "  'year': 'TOP_100'},\n",
        " 'A_57_387-en.xml': {'date': '2002/09/11',\n",
        "  'id': 'A/57/387',\n",
        "  'lang': 'English',\n",
        "  'n': 'N0258326',\n",
        "  'year': 'TOP_100'},\n",
        " 'A_57_772-en.xml': {'date': '2003/04/04',\n",
        "  'id': 'A/57/772',\n",
        "  'lang': 'English',\n",
        "  'n': 'N0331136',\n",
        "  'year': 'TOP_100'},\n",
        " 'A_58_16-en.xml': {'date': '2003/07/11',\n",
        "  'id': 'A/58/16',\n",
        "  'lang': 'English',\n",
        "  'n': 'N0342481',\n",
        "  'year': 'TOP_100'},\n",
        " 'A_59_2005-en.xml': {'date': '2005/03/15',\n",
        "  'id': 'A/59/2005',\n",
        "  'lang': 'English',\n",
        "  'n': 'N0527078',\n",
        "  'year': 'TOP_100'},\n",
        " 'A_59_2SUPP-en.xml': {'date': '2004/01/01',\n",
        "  'id': 'A/59/2(SUPP)',\n",
        "  'lang': 'English',\n",
        "  'n': 'N0452572',\n",
        "  'year': 'TOP_100'},\n",
        " 'A_59_303-en.xml': {'date': '2004/08/30',\n",
        "  'id': 'A/59/303',\n",
        "  'lang': 'English',\n",
        "  'n': 'N0447505',\n",
        "  'year': 'TOP_100'},\n",
        " 'A_59_565-en.xml': {'date': '2004/11/17',\n",
        "  'id': 'A/59/565',\n",
        "  'lang': 'English',\n",
        "  'n': 'N0460231',\n",
        "  'year': 'TOP_100'},\n",
        " 'A_59_736-en.xml': {'date': '2005/04/22',\n",
        "  'id': 'A/59/736',\n",
        "  'lang': 'English',\n",
        "  'n': 'N0531927',\n",
        "  'year': 'TOP_100'},\n",
        " 'A_60_2SUPP-en.xml': {'date': '2005/09/21',\n",
        "  'id': 'A/60/2(SUPP)',\n",
        "  'lang': 'English',\n",
        "  'n': 'N0551747',\n",
        "  'year': 'TOP_100'},\n",
        " 'A_60_692-en.xml': {'date': '2006/02/23',\n",
        "  'id': 'A/60/692',\n",
        "  'lang': 'English',\n",
        "  'n': 'N0625177',\n",
        "  'year': 'TOP_100'},\n",
        " 'A_60_727-en.xml': {'date': '2006/03/23',\n",
        "  'id': 'A/60/727',\n",
        "  'lang': 'English',\n",
        "  'n': 'N0628231',\n",
        "  'year': 'TOP_100'},\n",
        " 'A_60_7_ADD1-42-en.xml': {'date': '2007/06/29',\n",
        "  'id': 'A/60/7/ADD.1-42',\n",
        "  'lang': 'English',\n",
        "  'n': 'N0740587',\n",
        "  'year': 'TOP_100'},\n",
        " 'A_61_10-en.xml': {'date': '2006/10/01',\n",
        "  'id': 'A/61/10',\n",
        "  'lang': 'English',\n",
        "  'n': 'G0663620',\n",
        "  'year': 'TOP_100'},\n",
        " 'A_61_255-en.xml': {'date': '2006/08/09',\n",
        "  'id': 'A/61/255',\n",
        "  'lang': 'English',\n",
        "  'n': 'N0646317',\n",
        "  'year': 'TOP_100'},\n",
        " 'A_61_299-en.xml': {'date': '2006/08/29',\n",
        "  'id': 'A/61/299',\n",
        "  'lang': 'English',\n",
        "  'n': 'N0649105',\n",
        "  'year': 'TOP_100'},\n",
        " 'A_61_2SUPP-en.xml': {'date': '2006/01/01',\n",
        "  'id': 'A/61/2(SUPP)',\n",
        "  'lang': 'English',\n",
        "  'n': 'N0663736',\n",
        "  'year': 'TOP_100'},\n",
        " 'A_62_100_ADD1-en.xml': {'date': '2007/09/19',\n",
        "  'id': 'A/62/100/ADD.1',\n",
        "  'lang': 'English',\n",
        "  'n': 'N0754109',\n",
        "  'year': 'TOP_100'},\n",
        " 'A_62_2SUPP-en.xml': {'date': '2007/01/01',\n",
        "  'id': 'A/62/2(SUPP)',\n",
        "  'lang': 'English',\n",
        "  'n': 'N0756517',\n",
        "  'year': 'TOP_100'},\n",
        " 'A_62_439_ADD2-en.xml': {'date': '2007/12/06',\n",
        "  'id': 'A/62/439/ADD.2',\n",
        "  'lang': 'English',\n",
        "  'n': 'N0763022',\n",
        "  'year': 'TOP_100'},\n",
        " 'A_63_2SUPP-en.xml': {'date': '2008/01/01',\n",
        "  'id': 'A/63/2(SUPP)',\n",
        "  'lang': 'English',\n",
        "  'n': 'N0857742',\n",
        "  'year': 'TOP_100'},\n",
        " 'A_AC105_848-en.xml': {'date': '2005/02/25',\n",
        "  'id': 'A/AC.105/848',\n",
        "  'lang': 'English',\n",
        "  'n': 'V0582289',\n",
        "  'year': 'TOP_100'},\n",
        " 'A_AC261_IPM_14-en.xml': {'date': '2001/11/20',\n",
        "  'id': 'A/AC.261/IPM/14',\n",
        "  'lang': 'English',\n",
        "  'n': 'V0188747',\n",
        "  'year': 'TOP_100'},\n",
        " 'A_C2_56_7-en.xml': {'date': '2001/11/27',\n",
        "  'id': 'A/C.2/56/7',\n",
        "  'lang': 'English',\n",
        "  'n': 'N0166129',\n",
        "  'year': 'TOP_100'},\n",
        " 'A_CN4_610-en.xml': {'date': '2009/03/27',\n",
        "  'id': 'A/CN.4/610',\n",
        "  'lang': 'English',\n",
        "  'n': 'N0928275',\n",
        "  'year': 'TOP_100'},\n",
        " 'A_CN9_468-en.xml': {'date': '2000/04/10',\n",
        "  'id': 'A/CN.9/468',\n",
        "  'lang': 'English',\n",
        "  'n': 'V0053064',\n",
        "  'year': 'TOP_100'},\n",
        " 'A_CN9_485-en.xml': {'date': '2000/12/20',\n",
        "  'id': 'A/CN.9/485',\n",
        "  'lang': 'English',\n",
        "  'n': 'V0060407',\n",
        "  'year': 'TOP_100'},\n",
        " 'A_CN9_509-en.xml': {'date': '2002/03/21',\n",
        "  'id': 'A/CN.9/509',\n",
        "  'lang': 'English',\n",
        "  'n': 'V0252726',\n",
        "  'year': 'TOP_100'},\n",
        " 'A_CN9_526-en.xml': {'date': '2003/05/09',\n",
        "  'id': 'A/CN.9/526',\n",
        "  'lang': 'English',\n",
        "  'n': 'V0383978',\n",
        "  'year': 'TOP_100'},\n",
        " 'A_CN9_568-en.xml': {'date': '2004/09/17',\n",
        "  'id': 'A/CN.9/568',\n",
        "  'lang': 'English',\n",
        "  'n': 'V0457812',\n",
        "  'year': 'TOP_100'},\n",
        " 'A_CN9_575-en.xml': {'date': '2005/04/12',\n",
        "  'id': 'A/CN.9/575',\n",
        "  'lang': 'English',\n",
        "  'n': 'V0583411',\n",
        "  'year': 'TOP_100'},\n",
        " 'A_CN9_590-en.xml': {'date': '2005/11/18',\n",
        "  'id': 'A/CN.9/590',\n",
        "  'lang': 'English',\n",
        "  'n': 'V0590125',\n",
        "  'year': 'TOP_100'},\n",
        " 'A_CN9_595-en.xml': {'date': '2006/05/08',\n",
        "  'id': 'A/CN.9/595',\n",
        "  'lang': 'English',\n",
        "  'n': 'V0653909',\n",
        "  'year': 'TOP_100'},\n",
        " 'A_CN9_614-en.xml': {'date': '2006/10/05',\n",
        "  'id': 'A/CN.9/614',\n",
        "  'lang': 'English',\n",
        "  'n': 'V0657526',\n",
        "  'year': 'TOP_100'},\n",
        " 'A_CN9_615-en.xml': {'date': '2006/10/06',\n",
        "  'id': 'A/CN.9/615',\n",
        "  'lang': 'English',\n",
        "  'n': 'V0657564',\n",
        "  'year': 'TOP_100'},\n",
        " 'A_CN9_619-en.xml': {'date': '2007/03/20',\n",
        "  'id': 'A/CN.9/619',\n",
        "  'lang': 'English',\n",
        "  'n': 'V0781818',\n",
        "  'year': 'TOP_100'},\n",
        " 'A_CN9_623-en.xml': {'date': '2007/06/01',\n",
        "  'id': 'A/CN.9/623',\n",
        "  'lang': 'English',\n",
        "  'n': 'V0784106',\n",
        "  'year': 'TOP_100'},\n",
        " 'A_CN9_631-en.xml': {'date': '2007/03/16',\n",
        "  'id': 'A/CN.9/631',\n",
        "  'lang': 'English',\n",
        "  'n': 'V0781711',\n",
        "  'year': 'TOP_100'},\n",
        " 'A_CN9_668-en.xml': {'date': '2009/02/16',\n",
        "  'id': 'A/CN.9/668',\n",
        "  'lang': 'English',\n",
        "  'n': 'V0980883',\n",
        "  'year': 'TOP_100'},\n",
        " 'A_CN9_WGIII_WP101-en.xml': {'date': '2007/11/14',\n",
        "  'id': 'A/CN.9/WG.III/WP.101',\n",
        "  'lang': 'English',\n",
        "  'n': 'V0788107',\n",
        "  'year': 'TOP_100'},\n",
        " 'A_CN9_WGIII_WP32-en.xml': {'date': '2003/09/04',\n",
        "  'id': 'A/CN.9/WG.III/WP.32',\n",
        "  'lang': 'English',\n",
        "  'n': 'V0387701',\n",
        "  'year': 'TOP_100'},\n",
        " 'A_CN9_WGIII_WP56-en.xml': {'date': '2005/09/08',\n",
        "  'id': 'A/CN.9/WG.III/WP.56',\n",
        "  'lang': 'English',\n",
        "  'n': 'V0587082',\n",
        "  'year': 'TOP_100'},\n",
        " 'A_CN9_WGIII_WP81-en.xml': {'date': '2007/02/13',\n",
        "  'id': 'A/CN.9/WG.III/WP.81',\n",
        "  'lang': 'English',\n",
        "  'n': 'V0780735',\n",
        "  'year': 'TOP_100'},\n",
        " 'A_CN9_WGI_WP65-en.xml': {'date': '2008/11/10',\n",
        "  'id': 'A/CN.9/WG.I/WP.65',\n",
        "  'lang': 'English',\n",
        "  'n': 'V0857955',\n",
        "  'year': 'TOP_100'},\n",
        " 'A_CN9_WGI_WP67-en.xml': {'date': '2009/03/10',\n",
        "  'id': 'A/CN.9/WG.I/WP.67',\n",
        "  'lang': 'English',\n",
        "  'n': 'V0981479',\n",
        "  'year': 'TOP_100'},\n",
        " 'A_CN9_WGI_WP70-en.xml': {'date': '2009/09/22',\n",
        "  'id': 'A/CN.9/WG.I/WP.70',\n",
        "  'lang': 'English',\n",
        "  'n': 'V0986568',\n",
        "  'year': 'TOP_100'},\n",
        " 'A_CONF189_12-en.xml': {'date': '2002/01/01',\n",
        "  'id': 'A/CONF.189/12',\n",
        "  'lang': 'English',\n",
        "  'n': 'N0221543',\n",
        "  'year': 'TOP_100'},\n",
        " 'A_CONF206_6-en.xml': {'date': '2005/03/16',\n",
        "  'id': 'A/CONF.206/6',\n",
        "  'lang': 'English',\n",
        "  'n': 'G0561029',\n",
        "  'year': 'TOP_100'},\n",
        " 'A_ES-10_273-en.xml': {'date': '2004/07/09',\n",
        "  'id': 'A/ES-10/273',\n",
        "  'lang': 'English',\n",
        "  'n': 'N0441986',\n",
        "  'year': 'TOP_100'},\n",
        " 'A_HRC_8_52-en.xml': {'date': '2008/09/01',\n",
        "  'id': 'A/HRC/8/52',\n",
        "  'lang': 'English',\n",
        "  'n': 'G0815283',\n",
        "  'year': 'TOP_100'},\n",
        " 'CRC_C_118-en.xml': {'date': '2002/09/03',\n",
        "  'id': 'CRC/C/118',\n",
        "  'lang': 'English',\n",
        "  'n': 'G0244335',\n",
        "  'year': 'TOP_100'},\n",
        " 'E_CN4_2001_167-E_2001_23SUPP-E_2001_23-en.xml': {'date': '2001/10/01',\n",
        "  'id': 'E/CN.4/2001/167-E/2001/23(SUPP)-E/2001/23',\n",
        "  'lang': 'English',\n",
        "  'n': 'G0115748',\n",
        "  'year': 'TOP_100'},\n",
        " 'E_CN4_2002_200-E_2002_23SUPP-en.xml': {'date': '2002/09/25',\n",
        "  'id': 'E/CN.4/2002/200-E/2002/23(SUPP)',\n",
        "  'lang': 'English',\n",
        "  'n': 'G0215272',\n",
        "  'year': 'TOP_100'},\n",
        " 'E_CN4_2003_135-E_2003_23SUPP-en.xml': {'date': '2003/09/30',\n",
        "  'id': 'E/CN.4/2003/135-E/2003/23(SUPP)',\n",
        "  'lang': 'English',\n",
        "  'n': 'G0316227',\n",
        "  'year': 'TOP_100'},\n",
        " 'E_CN4_2004_127-E_2004_23SUPP-en.xml': {'date': '2004/10/15',\n",
        "  'id': 'E/CN.4/2004/127-E/2004/23(SUPP)',\n",
        "  'lang': 'English',\n",
        "  'n': 'G0416200',\n",
        "  'year': 'TOP_100'},\n",
        " 'E_CN4_2005_135-E_2005_23SUPP-en.xml': {'date': '2005/11/01',\n",
        "  'id': 'E/CN.4/2005/135-E/2005/23(SUPP)',\n",
        "  'lang': 'English',\n",
        "  'n': 'G0516105',\n",
        "  'year': 'TOP_100'},\n",
        " 'JOURNALNO2002_227-en.xml': {'date': '2002/11/20',\n",
        "  'id': 'JOURNAL NO. 2002/227',\n",
        "  'lang': 'English',\n",
        "  'n': 'N0268852',\n",
        "  'year': 'TOP_100'},\n",
        " 'JOURNALNO2002_228-en.xml': {'date': '2002/11/21',\n",
        "  'id': 'JOURNAL NO. 2002/228',\n",
        "  'lang': 'English',\n",
        "  'n': 'N0268858',\n",
        "  'year': 'TOP_100'},\n",
        " 'JOURNALNO2002_241-en.xml': {'date': '2002/12/12',\n",
        "  'id': 'JOURNAL NO. 2002/241',\n",
        "  'lang': 'English',\n",
        "  'n': 'N0271991',\n",
        "  'year': 'TOP_100'},\n",
        " 'JOURNALNO2003_202-en.xml': {'date': '2003/10/21',\n",
        "  'id': 'JOURNAL NO. 2003/202',\n",
        "  'lang': 'English',\n",
        "  'n': 'N0355168',\n",
        "  'year': 'TOP_100'},\n",
        " 'JOURNALNO2003_204-en.xml': {'date': '2003/10/23',\n",
        "  'id': 'JOURNAL NO. 2003/204',\n",
        "  'lang': 'English',\n",
        "  'n': 'N0355192',\n",
        "  'year': 'TOP_100'},\n",
        " 'JOURNALNO2003_205-en.xml': {'date': '2003/10/24',\n",
        "  'id': 'JOURNAL NO. 2003/205',\n",
        "  'lang': 'English',\n",
        "  'n': 'N0355936',\n",
        "  'year': 'TOP_100'},\n",
        " 'JOURNALNO2003_240-en.xml': {'date': '2003/12/16',\n",
        "  'id': 'JOURNAL NO. 2003/240',\n",
        "  'lang': 'English',\n",
        "  'n': 'N0363884',\n",
        "  'year': 'TOP_100'},\n",
        " 'JOURNALNO2004_206-en.xml': {'date': '2004/10/25',\n",
        "  'id': 'JOURNAL NO. 2004/206',\n",
        "  'lang': 'English',\n",
        "  'n': 'N0455137',\n",
        "  'year': 'TOP_100'},\n",
        " 'JOURNALNO2004_208-en.xml': {'date': '2004/10/27',\n",
        "  'id': 'JOURNAL NO. 2004/208',\n",
        "  'lang': 'English',\n",
        "  'n': 'N0456985',\n",
        "  'year': 'TOP_100'},\n",
        " 'JOURNALNO2004_209-en.xml': {'date': '2004/10/28',\n",
        "  'id': 'JOURNAL NO. 2004/209',\n",
        "  'lang': 'English',\n",
        "  'n': 'N0456991',\n",
        "  'year': 'TOP_100'},\n",
        " 'JOURNALNO2006_202-en.xml': {'date': '2006/10/19',\n",
        "  'id': 'JOURNAL NO.2006/202',\n",
        "  'lang': 'English',\n",
        "  'n': 'N0655981',\n",
        "  'year': 'TOP_100'},\n",
        " 'JOURNALNO2006_203-en.xml': {'date': '2006/10/20',\n",
        "  'id': 'JOURNAL NO.2006/203',\n",
        "  'lang': 'English',\n",
        "  'n': 'N0655993',\n",
        "  'year': 'TOP_100'},\n",
        " 'JOURNALNO2006_204-en.xml': {'date': '2006/10/23',\n",
        "  'id': 'JOURNAL NO.2006/204',\n",
        "  'lang': 'English',\n",
        "  'n': 'N0655999',\n",
        "  'year': 'TOP_100'},\n",
        " 'JOURNALNO2006_205-en.xml': {'date': '2006/10/25',\n",
        "  'id': 'JOURNAL NO.2006/205',\n",
        "  'lang': 'English',\n",
        "  'n': 'N0657522',\n",
        "  'year': 'TOP_100'},\n",
        " 'JOURNALNO2007_204-en.xml': {'date': '2007/10/23',\n",
        "  'id': 'JOURNAL NO.2007/204',\n",
        "  'lang': 'English',\n",
        "  'n': 'N0753313',\n",
        "  'year': 'TOP_100'},\n",
        " 'JOURNALNO2007_208-en.xml': {'date': '2007/10/29',\n",
        "  'id': 'JOURNAL NO.2007/208',\n",
        "  'lang': 'English',\n",
        "  'n': 'N0753338',\n",
        "  'year': 'TOP_100'},\n",
        " 'JOURNALNO2007_209-en.xml': {'date': '2007/10/30',\n",
        "  'id': 'JOURNAL NO.2007/209',\n",
        "  'lang': 'English',\n",
        "  'n': 'N0754212',\n",
        "  'year': 'TOP_100'},\n",
        " 'JOURNALNO2008_207-en.xml': {'date': '2008/10/23',\n",
        "  'id': 'JOURNAL NO.2008/207',\n",
        "  'lang': 'English',\n",
        "  'n': 'N0856312',\n",
        "  'year': 'TOP_100'},\n",
        " 'JOURNALNO2008_210-en.xml': {'date': '2008/10/28',\n",
        "  'id': 'JOURNAL NO.2008/210',\n",
        "  'lang': 'English',\n",
        "  'n': 'N0857057',\n",
        "  'year': 'TOP_100'},\n",
        " 'ST_IC_2005_1-en.xml': {'date': '2005/01/01',\n",
        "  'id': 'ST/IC/2005/1',\n",
        "  'lang': 'English',\n",
        "  'n': 'N0521787',\n",
        "  'year': 'TOP_100'},\n",
        " 'ST_IC_2006_1-en.xml': {'date': '2006/01/01',\n",
        "  'id': 'ST/IC/2006/1',\n",
        "  'lang': 'English',\n",
        "  'n': 'N0621304',\n",
        "  'year': 'TOP_100'},\n",
        " 'ST_IC_2007_1-en.xml': {'date': '2007/01/01',\n",
        "  'id': 'ST/IC/2007/1',\n",
        "  'lang': 'English',\n",
        "  'n': 'N0723572',\n",
        "  'year': 'TOP_100'},\n",
        " 'ST_IC_2008_1-en.xml': {'date': '2008/01/01',\n",
        "  'id': 'ST/IC/2008/1',\n",
        "  'lang': 'English',\n",
        "  'n': 'N0824547',\n",
        "  'year': 'TOP_100'},\n",
        " 'ST_IC_2009_1-en.xml': {'date': '2009/02/05',\n",
        "  'id': 'ST/IC/2009/1',\n",
        "  'lang': 'English',\n",
        "  'n': 'N0921438',\n",
        "  'year': 'TOP_100'},\n",
        " 'ST_SGB_2000_8-en.xml': {'date': '2000/04/19',\n",
        "  'id': 'ST/SGB/2000/8',\n",
        "  'lang': 'English',\n",
        "  'n': 'N0040845',\n",
        "  'year': 'TOP_100'},\n",
        " 'ST_SGB_2003_13-en.xml': {'date': '2003/10/09',\n",
        "  'id': 'ST/SGB/2003/13',\n",
        "  'lang': 'English',\n",
        "  'n': 'N0355040',\n",
        "  'year': 'TOP_100'},\n",
        " 'S_2003_529-en.xml': {'date': '2003/05/07',\n",
        "  'id': 'S/2003/529',\n",
        "  'lang': 'English',\n",
        "  'n': 'N0334879',\n",
        "  'year': 'TOP_100'},\n",
        " 'S_2006_507-en.xml': {'date': '2006/07/19',\n",
        "  'id': 'S/2006/507',\n",
        "  'lang': 'English',\n",
        "  'n': 'N0643544',\n",
        "  'year': 'TOP_100'},\n",
        " 'S_INF_63-en.xml': {'date': '2008/11/18',\n",
        "  'id': 'S/INF/63',\n",
        "  'lang': 'English',\n",
        "  'n': 'N0860709',\n",
        "  'year': 'TOP_100'},\n",
        " 'TD_386-en.xml': {'date': '2000/01/18',\n",
        "  'id': 'TD/386',\n",
        "  'lang': 'English',\n",
        "  'n': 'G0070209',\n",
        "  'year': 'TOP_100'},\n",
        " 'TRANS_WP30_AC2_59-en.xml': {'date': '2001/01/04',\n",
        "  'id': 'TRANS/WP.30/AC.2/59',\n",
        "  'lang': 'English',\n",
        "  'n': 'G0120042',\n",
        "  'year': 'TOP_100'}}"
       ]
      }
     ],
     "prompt_number": 22
    },
    {
     "cell_type": "code",
     "collapsed": false,
     "input": [
      "# base_url = 'http://daccess-dds-ny.un.org/doc/UNDOC/GEN/N04/475/05/PDF/N0447505.pdf'\n",
      "\n",
      "\n",
      "\n",
      "# BASE_URL = 'http://daccess-dds-ny.un.org/doc/'\n",
      "\n",
      "import os\n",
      "from pattern.web import URL\n",
      "BASE_URL = 'http://documents-dds-ny.un.org/doc/'\n",
      "def get_document_url(doc_id):\n",
      "    doc = mun.get_document(doc_id=doc_id).itervalues().next()\n",
      "#     print doc['scrape']\n",
      "    n = doc['attributes']['n']\n",
      "    area = doc['scrape']['Area']\n",
      "    dist = doc['scrape']['Distribution']\n",
      "    url = '%s%s/%s/%s/%s/%s/pdf/%s.pdf?OpenElement'%(BASE_URL,area,dist,  n[:3],n[3:6], n[-2:],n)\n",
      "    print url\n",
      "    return url\n",
      "\n",
      "\n",
      "def download_file_to(source, destination):\n",
      "    name = source.split('/')[-1]\n",
      "    url = URL(source)\n",
      "    with open(os.path.join(destination, name), 'wb') as f:\n",
      "        d = url.open()\n",
      "        print d.read()\n",
      "        f.write(d.read())\n",
      "        \n",
      "base_url2= 'http://daccess-ods.un.org/access.nsf/Get?Open&DS=%s&Lang=E'\n",
      "# base_url3 = \n",
      "for doc in docs:\n",
      "    print doc\n",
      "    id = docs[doc]['id']\n",
      "    n = docs[doc]['n']\n",
      "    url = get_document_url(id)\n",
      "    if not os.path.exists('../data/pdf/%s.pdf'%n):\n",
      "        print n,docs[doc]['id'], url\n",
      "        \n",
      "#     download_file_to(url, '../data/pdf/')\n",
      "# http://documents-dds-ny.un.org/doc/UNDOC/GEN/N06/548/40/pdf/N0654840.pdf?OpenElement"
     ],
     "language": "python",
     "metadata": {},
     "outputs": [
      {
       "output_type": "stream",
       "stream": "stdout",
       "text": [
        "A_61_255-en.xml\n",
        "http://documents-dds-ny.un.org/doc/UNDOC/GEN/N06/548/40/pdf/N0654840.pdf?OpenElement\n",
        "A_CN9_631-en.xml\n",
        "http://documents-dds-ny.un.org/doc/UNDOC/GEN/N06/548/40/pdf/N0654840.pdf?OpenElement\n",
        "A_59_736-en.xml\n",
        "http://documents-dds-ny.un.org/doc/UNDOC/GEN/N06/548/40/pdf/N0654840.pdf?OpenElement\n",
        "A_60_727-en.xml\n",
        "http://documents-dds-ny.un.org/doc/UNDOC/GEN/N06/548/40/pdf/N0654840.pdf?OpenElement\n",
        "TD_386-en.xml\n",
        "http://documents-dds-ny.un.org/doc/UNDOC/GEN/N06/548/40/pdf/N0654840.pdf?OpenElement\n",
        "A_60_692-en.xml\n",
        "http://documents-dds-ny.un.org/doc/UNDOC/GEN/N06/548/40/pdf/N0654840.pdf?OpenElement\n",
        "S_2003_529-en.xml\n",
        "http://documents-dds-ny.un.org/doc/UNDOC/GEN/N06/548/40/pdf/N0654840.pdf?OpenElement\n",
        "A_CN9_614-en.xml\n",
        "http://documents-dds-ny.un.org/doc/UNDOC/GEN/N06/548/40/pdf/N0654840.pdf?OpenElement\n",
        "ST_SGB_2003_13-en.xml\n",
        "http://documents-dds-ny.un.org/doc/UNDOC/GEN/N06/548/40/pdf/N0654840.pdf?OpenElement\n",
        "A_CN9_WGIII_WP32-en.xml\n",
        "http://documents-dds-ny.un.org/doc/UNDOC/GEN/N06/548/40/pdf/N0654840.pdf?OpenElement\n",
        "A_CN9_619-en.xml\n",
        "http://documents-dds-ny.un.org/doc/UNDOC/GEN/N06/548/40/pdf/N0654840.pdf?OpenElement\n",
        "A_CN9_WGI_WP65-en.xml\n",
        "http://documents-dds-ny.un.org/doc/UNDOC/GEN/N06/548/40/pdf/N0654840.pdf?OpenElement\n",
        "A_56_17-en.xml\n",
        "http://documents-dds-ny.un.org/doc/UNDOC/GEN/N06/548/40/pdf/N0654840.pdf?OpenElement\n",
        "A_61_299-en.xml\n",
        "http://documents-dds-ny.un.org/doc/UNDOC/GEN/N06/548/40/pdf/N0654840.pdf?OpenElement\n",
        "JOURNALNO2002_227-en.xml\n",
        "http://documents-dds-ny.un.org/doc/UNDOC/GEN/N06/548/40/pdf/N0654840.pdf?OpenElement\n",
        "A_CN4_610-en.xml\n",
        "http://documents-dds-ny.un.org/doc/UNDOC/GEN/N06/548/40/pdf/N0654840.pdf?OpenElement\n",
        "A_AC105_848-en.xml\n",
        "http://documents-dds-ny.un.org/doc/UNDOC/GEN/N06/548/40/pdf/N0654840.pdf?OpenElement\n",
        "ST_IC_2006_1-en.xml\n",
        "http://documents-dds-ny.un.org/doc/UNDOC/GEN/N06/548/40/pdf/N0654840.pdf?OpenElement\n",
        "JOURNALNO2008_207-en.xml\n",
        "http://documents-dds-ny.un.org/doc/UNDOC/GEN/N06/548/40/pdf/N0654840.pdf?OpenElement\n",
        "A_55_2SUPP-A_55_2-en.xml\n",
        "http://documents-dds-ny.un.org/doc/UNDOC/GEN/N06/548/40/pdf/N0654840.pdf?OpenElement\n",
        "JOURNALNO2006_203-en.xml\n",
        "http://documents-dds-ny.un.org/doc/UNDOC/GEN/N06/548/40/pdf/N0654840.pdf?OpenElement\n",
        "A_59_2SUPP-en.xml\n",
        "http://documents-dds-ny.un.org/doc/UNDOC/GEN/N06/548/40/pdf/N0654840.pdf?OpenElement\n",
        "E_CN4_2002_200-E_2002_23SUPP-en.xml\n",
        "http://documents-dds-ny.un.org/doc/UNDOC/GEN/N06/548/40/pdf/N0654840.pdf?OpenElement\n",
        "E_CN4_2005_135-E_2005_23SUPP-en.xml\n",
        "http://documents-dds-ny.un.org/doc/UNDOC/GEN/N06/548/40/pdf/N0654840.pdf?OpenElement\n",
        "A_57_304-en.xml\n",
        "http://documents-dds-ny.un.org/doc/UNDOC/GEN/N06/548/40/pdf/N0654840.pdf?OpenElement\n",
        "JOURNALNO2003_202-en.xml\n",
        "http://documents-dds-ny.un.org/doc/UNDOC/GEN/N06/548/40/pdf/N0654840.pdf?OpenElement\n",
        "A_61_10-en.xml\n",
        "http://documents-dds-ny.un.org/doc/UNDOC/GEN/N06/548/40/pdf/N0654840.pdf?OpenElement\n",
        "A_CN9_WGI_WP70-en.xml\n",
        "http://documents-dds-ny.un.org/doc/UNDOC/GEN/N06/548/40/pdf/N0654840.pdf?OpenElement\n",
        "A_62_439_ADD2-en.xml\n",
        "http://documents-dds-ny.un.org/doc/UNDOC/GEN/N06/548/40/pdf/N0654840.pdf?OpenElement\n",
        "A_CN9_WGIII_WP81-en.xml\n",
        "http://documents-dds-ny.un.org/doc/UNDOC/GEN/N06/548/40/pdf/N0654840.pdf?OpenElement\n",
        "A_AC261_IPM_14-en.xml\n",
        "http://documents-dds-ny.un.org/doc/UNDOC/GEN/N06/548/40/pdf/N0654840.pdf?OpenElement\n",
        "APLC_CONF_2004_5-en.xml\n",
        "http://documents-dds-ny.un.org/doc/UNDOC/GEN/N06/548/40/pdf/N0654840.pdf?OpenElement\n",
        "A_56_326-en.xml\n",
        "http://documents-dds-ny.un.org/doc/UNDOC/GEN/N06/548/40/pdf/N0654840.pdf?OpenElement\n",
        "JOURNALNO2002_241-en.xml\n",
        "http://documents-dds-ny.un.org/doc/UNDOC/GEN/N06/548/40/pdf/N0654840.pdf?OpenElement\n",
        "A_CN9_526-en.xml\n",
        "http://documents-dds-ny.un.org/doc/UNDOC/GEN/N06/548/40/pdf/N0654840.pdf?OpenElement\n",
        "JOURNALNO2006_205-en.xml\n",
        "http://documents-dds-ny.un.org/doc/UNDOC/GEN/N06/548/40/pdf/N0654840.pdf?OpenElement\n",
        "A_56_887-en.xml\n",
        "http://documents-dds-ny.un.org/doc/UNDOC/GEN/N06/548/40/pdf/N0654840.pdf?OpenElement\n",
        "A_CN9_575-en.xml\n",
        "http://documents-dds-ny.un.org/doc/UNDOC/GEN/N06/548/40/pdf/N0654840.pdf?OpenElement\n",
        "A_CN9_WGI_WP67-en.xml\n",
        "http://documents-dds-ny.un.org/doc/UNDOC/GEN/N06/548/40/pdf/N0654840.pdf?OpenElement\n",
        "A_CN9_595-en.xml\n",
        "http://documents-dds-ny.un.org/doc/UNDOC/GEN/N06/548/40/pdf/N0654840.pdf?OpenElement\n",
        "JOURNALNO2004_206-en.xml\n",
        "http://documents-dds-ny.un.org/doc/UNDOC/GEN/N06/548/40/pdf/N0654840.pdf?OpenElement\n",
        "A_ES-10_273-en.xml\n",
        "http://documents-dds-ny.un.org/doc/UNDOC/GEN/N06/548/40/pdf/N0654840.pdf?OpenElement\n",
        "A_54_2000-en.xml\n",
        "http://documents-dds-ny.un.org/doc/UNDOC/GEN/N06/548/40/pdf/N0654840.pdf?OpenElement\n",
        "A_CN9_509-en.xml\n",
        "http://documents-dds-ny.un.org/doc/UNDOC/GEN/N06/548/40/pdf/N0654840.pdf?OpenElement\n",
        "A_CN9_WGIII_WP101-en.xml\n",
        "http://documents-dds-ny.un.org/doc/UNDOC/GEN/N06/548/40/pdf/N0654840.pdf?OpenElement\n",
        "ST_SGB_2000_8-en.xml\n",
        "http://documents-dds-ny.un.org/doc/UNDOC/GEN/N06/548/40/pdf/N0654840.pdf?OpenElement\n",
        "JOURNALNO2003_204-en.xml\n",
        "http://documents-dds-ny.un.org/doc/UNDOC/GEN/N06/548/40/pdf/N0654840.pdf?OpenElement\n",
        "ST_IC_2007_1-en.xml\n",
        "http://documents-dds-ny.un.org/doc/UNDOC/GEN/N06/548/40/pdf/N0654840.pdf?OpenElement\n",
        "A_CONF206_6-en.xml\n",
        "http://documents-dds-ny.un.org/doc/UNDOC/GEN/N06/548/40/pdf/N0654840.pdf?OpenElement\n",
        "A_CONF189_12-en.xml\n",
        "http://documents-dds-ny.un.org/doc/UNDOC/GEN/N06/548/40/pdf/N0654840.pdf?OpenElement\n",
        "TRANS_WP30_AC2_59-en.xml\n",
        "http://documents-dds-ny.un.org/doc/UNDOC/GEN/N06/548/40/pdf/N0654840.pdf?OpenElement\n",
        "ST_IC_2008_1-en.xml\n",
        "http://documents-dds-ny.un.org/doc/UNDOC/GEN/N06/548/40/pdf/N0654840.pdf?OpenElement\n",
        "A_58_16-en.xml\n",
        "http://documents-dds-ny.un.org/doc/UNDOC/GEN/N06/548/40/pdf/N0654840.pdf?OpenElement\n",
        "JOURNALNO2003_240-en.xml\n",
        "http://documents-dds-ny.un.org/doc/UNDOC/GEN/N06/548/40/pdf/N0654840.pdf?OpenElement\n",
        "A_61_2SUPP-en.xml\n",
        "http://documents-dds-ny.un.org/doc/UNDOC/GEN/N06/548/40/pdf/N0654840.pdf?OpenElement\n",
        "A_56_61-en.xml\n",
        "http://documents-dds-ny.un.org/doc/UNDOC/GEN/N06/548/40/pdf/N0654840.pdf?OpenElement\n",
        "A_CN9_485-en.xml\n",
        "http://documents-dds-ny.un.org/doc/UNDOC/GEN/N06/548/40/pdf/N0654840.pdf?OpenElement\n",
        "JOURNALNO2008_210-en.xml\n",
        "http://documents-dds-ny.un.org/doc/UNDOC/GEN/N06/548/40/pdf/N0654840.pdf?OpenElement\n",
        "A_57_2SUPP-en.xml\n",
        "http://documents-dds-ny.un.org/doc/UNDOC/GEN/N06/548/40/pdf/N0654840.pdf?OpenElement\n",
        "A_56_2SUPP-en.xml\n",
        "http://documents-dds-ny.un.org/doc/UNDOC/GEN/N06/548/40/pdf/N0654840.pdf?OpenElement\n",
        "JOURNALNO2007_208-en.xml\n",
        "http://documents-dds-ny.un.org/doc/UNDOC/GEN/N06/548/40/pdf/N0654840.pdf?OpenElement\n",
        "E_CN4_2001_167-E_2001_23SUPP-E_2001_23-en.xml\n",
        "http://documents-dds-ny.un.org/doc/UNDOC/GEN/N06/548/40/pdf/N0654840.pdf?OpenElement\n",
        "JOURNALNO2003_205-en.xml\n",
        "http://documents-dds-ny.un.org/doc/UNDOC/GEN/N06/548/40/pdf/N0654840.pdf?OpenElement\n",
        "A_55_253-en.xml\n",
        "http://documents-dds-ny.un.org/doc/UNDOC/GEN/N06/548/40/pdf/N0654840.pdf?OpenElement\n",
        "E_CN4_2004_127-E_2004_23SUPP-en.xml\n",
        "http://documents-dds-ny.un.org/doc/UNDOC/GEN/N06/548/40/pdf/N0654840.pdf?OpenElement\n",
        "A_60_2SUPP-en.xml\n",
        "http://documents-dds-ny.un.org/doc/UNDOC/GEN/N06/548/40/pdf/N0654840.pdf?OpenElement\n",
        "A_HRC_8_52-en.xml\n",
        "http://documents-dds-ny.un.org/doc/UNDOC/GEN/N06/548/40/pdf/N0654840.pdf?OpenElement\n",
        "A_59_303-en.xml\n",
        "http://documents-dds-ny.un.org/doc/UNDOC/GEN/N06/548/40/pdf/N0654840.pdf?OpenElement\n",
        "A_CN9_668-en.xml\n",
        "http://documents-dds-ny.un.org/doc/UNDOC/GEN/N06/548/40/pdf/N0654840.pdf?OpenElement\n",
        "A_62_100_ADD1-en.xml\n",
        "http://documents-dds-ny.un.org/doc/UNDOC/GEN/N06/548/40/pdf/N0654840.pdf?OpenElement\n",
        "A_59_2005-en.xml\n",
        "http://documents-dds-ny.un.org/doc/UNDOC/GEN/N06/548/40/pdf/N0654840.pdf?OpenElement\n",
        "JOURNALNO2006_202-en.xml\n",
        "http://documents-dds-ny.un.org/doc/UNDOC/GEN/N06/548/40/pdf/N0654840.pdf?OpenElement\n",
        "A_CN9_468-en.xml\n",
        "http://documents-dds-ny.un.org/doc/UNDOC/GEN/N06/548/40/pdf/N0654840.pdf?OpenElement\n",
        "JOURNALNO2006_204-en.xml\n",
        "http://documents-dds-ny.un.org/doc/UNDOC/GEN/N06/548/40/pdf/N0654840.pdf?OpenElement\n",
        "A_59_565-en.xml\n",
        "http://documents-dds-ny.un.org/doc/UNDOC/GEN/N06/548/40/pdf/N0654840.pdf?OpenElement\n",
        "A_C2_56_7-en.xml\n",
        "http://documents-dds-ny.un.org/doc/UNDOC/GEN/N06/548/40/pdf/N0654840.pdf?OpenElement\n",
        "JOURNALNO2002_228-en.xml\n",
        "http://documents-dds-ny.un.org/doc/UNDOC/GEN/N06/548/40/pdf/N0654840.pdf?OpenElement\n",
        "S_INF_63-en.xml\n",
        "http://documents-dds-ny.un.org/doc/UNDOC/GEN/N06/548/40/pdf/N0654840.pdf?OpenElement\n",
        "E_CN4_2003_135-E_2003_23SUPP-en.xml\n",
        "http://documents-dds-ny.un.org/doc/UNDOC/GEN/N06/548/40/pdf/N0654840.pdf?OpenElement\n",
        "JOURNALNO2004_209-en.xml\n",
        "http://documents-dds-ny.un.org/doc/UNDOC/GEN/N06/548/40/pdf/N0654840.pdf?OpenElement\n",
        "A_57_387-en.xml\n",
        "http://documents-dds-ny.un.org/doc/UNDOC/GEN/N06/548/40/pdf/N0654840.pdf?OpenElement\n",
        "A_60_7_ADD1-42-en.xml\n",
        "http://documents-dds-ny.un.org/doc/UNDOC/GEN/N06/548/40/pdf/N0654840.pdf?OpenElement\n",
        "JOURNALNO2007_209-en.xml\n",
        "http://documents-dds-ny.un.org/doc/UNDOC/GEN/N06/548/40/pdf/N0654840.pdf?OpenElement\n",
        "ST_IC_2009_1-en.xml\n",
        "http://documents-dds-ny.un.org/doc/UNDOC/GEN/N06/548/40/pdf/N0654840.pdf?OpenElement\n",
        "CRC_C_118-en.xml\n",
        "http://documents-dds-ny.un.org/doc/UNDOC/GEN/N06/548/40/pdf/N0654840.pdf?OpenElement\n",
        "A_CN9_623-en.xml\n",
        "http://documents-dds-ny.un.org/doc/UNDOC/GEN/N06/548/40/pdf/N0654840.pdf?OpenElement\n",
        "JOURNALNO2004_208-en.xml\n",
        "http://documents-dds-ny.un.org/doc/UNDOC/GEN/N06/548/40/pdf/N0654840.pdf?OpenElement\n",
        "S_2006_507-en.xml\n",
        "http://documents-dds-ny.un.org/doc/UNDOC/GEN/N06/548/40/pdf/N0654840.pdf?OpenElement\n",
        "A_57_772-en.xml\n",
        "http://documents-dds-ny.un.org/doc/UNDOC/GEN/N06/548/40/pdf/N0654840.pdf?OpenElement\n",
        "A_CN9_568-en.xml\n",
        "http://documents-dds-ny.un.org/doc/UNDOC/GEN/N06/548/40/pdf/N0654840.pdf?OpenElement\n",
        "A_CN9_615-en.xml\n",
        "http://documents-dds-ny.un.org/doc/UNDOC/GEN/N06/548/40/pdf/N0654840.pdf?OpenElement\n",
        "JOURNALNO2007_204-en.xml\n",
        "http://documents-dds-ny.un.org/doc/UNDOC/GEN/N06/548/40/pdf/N0654840.pdf?OpenElement\n",
        "A_55_874-en.xml\n",
        "http://documents-dds-ny.un.org/doc/UNDOC/GEN/N06/548/40/pdf/N0654840.pdf?OpenElement\n",
        "A_CN9_590-en.xml\n",
        "http://documents-dds-ny.un.org/doc/UNDOC/GEN/N06/548/40/pdf/N0654840.pdf?OpenElement\n",
        "ST_IC_2005_1-en.xml\n",
        "http://documents-dds-ny.un.org/doc/UNDOC/GEN/N06/548/40/pdf/N0654840.pdf?OpenElement\n",
        "A_62_2SUPP-en.xml\n",
        "http://documents-dds-ny.un.org/doc/UNDOC/GEN/N06/548/40/pdf/N0654840.pdf?OpenElement\n",
        "A_63_2SUPP-en.xml\n",
        "http://documents-dds-ny.un.org/doc/UNDOC/GEN/N06/548/40/pdf/N0654840.pdf?OpenElement\n",
        "A_CN9_WGIII_WP56-en.xml\n",
        "http://documents-dds-ny.un.org/doc/UNDOC/GEN/N06/548/40/pdf/N0654840.pdf?OpenElement\n"
       ]
      }
     ],
     "prompt_number": 27
    },
    {
     "cell_type": "code",
     "collapsed": false,
     "input": [
      "print len(docs)\n",
      "for doc in docs:\n",
      "    print docs[doc]['n']"
     ],
     "language": "python",
     "metadata": {},
     "outputs": []
    }
   ],
   "metadata": {}
  }
 ]
}