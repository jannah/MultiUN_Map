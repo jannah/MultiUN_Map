{
 "metadata": {
  "gist_id": "ada92933c5fe3fea4eee",
  "name": "",
  "signature": "sha256:50f44f1d0f9598cb4efa6002c0eb7f060c1eea80eafac79432845d39a0877ec7"
 },
 "nbformat": 3,
 "nbformat_minor": 0,
 "worksheets": [
  {
   "cells": [
    {
     "cell_type": "heading",
     "level": 1,
     "metadata": {},
     "source": [
      "Extract Document links from text"
     ]
    },
    {
     "cell_type": "markdown",
     "metadata": {},
     "source": [
      "This module extracts all the document references inside the text"
     ]
    },
    {
     "cell_type": "code",
     "collapsed": false,
     "input": [
      "MODULES_PATH = '''../../modules/multi_un_module.py'''\n",
      "import imp\n",
      "NF = imp.load_source('multi_un_module', MODULES_PATH)\n",
      "import multi_un_module as mun\n",
      "import nltk\n",
      "doc_path = 'C:/Users/Hassan/Documents/iSchool/NLP/United Nations/multiUN.en/un/xml/en'"
     ],
     "language": "python",
     "metadata": {},
     "outputs": [
      {
       "output_type": "stream",
       "stream": "stdout",
       "text": [
        "Load_countries() DONE!\n"
       ]
      }
     ],
     "prompt_number": 1
    },
    {
     "cell_type": "code",
     "collapsed": false,
     "input": [
      "folder = ''\n",
      "folder = 'TOP_1000'\n",
      "docs = {}\n",
      "if len(folder)>0:\n",
      "    docs = mun.load_xml_files_by_year(year=folder)\n",
      "else:\n",
      "    docs = mun.load_xml_files(path=doc_path)"
     ],
     "language": "python",
     "metadata": {},
     "outputs": [
      {
       "javascript": [
        "//8871952c-d7fb-439b-9aac-8569ec9a779b\n",
        "$(\"head\").append(\"<style> td.pb_widget {     width: auto; } td.pb_widget_fill {     width: 100%; } table.pb {     font-family: monospace;     border: 0;     margin: 0; } table.pb tr { border: 0; } table.pb td {     white-space: nowrap;     border: 0; } div.pb {     border: 1px solid #ddd;     border-radius: 3px; } div.pb_bar {     height: 1.5em; } </style>\")"
       ],
       "metadata": {},
       "output_type": "display_data",
       "text": [
        "<IPython.core.display.Javascript at 0x170c3ba8>"
       ]
      },
      {
       "javascript": [
        "\n",
        "                  // 8871952c-d7fb-439b-9aac-8569ec9a779b -- used to remove this code blob in the end\n",
        "                  IPython.OutputArea.prototype.cleanProgressBar = function(uuids) {\n",
        "                      // filter by uuid-strings \n",
        "                      var myfilter = function(output) { \n",
        "                          var nuids = uuids.length;\n",
        "                          for (var i=0; i<nuids; i++) {\n",
        "                              if (output.hasOwnProperty('html')) {\n",
        "                                  if (output.html.indexOf(uuids[i]) != -1) {\n",
        "                                      return false;\n",
        "                                  }\n",
        "                              }\n",
        "                              if (output.hasOwnProperty('javascript')) {\n",
        "                                  if (output.javascript.indexOf(uuids[i]) != -1) {\n",
        "                                      return false;\n",
        "                                  }\n",
        "                              }\n",
        "                          }\n",
        "                          // keep all others\n",
        "                          return true;\n",
        "                      };\n",
        "\n",
        "                      // Filter the ouputs\n",
        "                      this.outputs = this.outputs.filter(myfilter);\n",
        "                };\n",
        "                "
       ],
       "metadata": {},
       "output_type": "display_data",
       "text": [
        "<IPython.core.display.Javascript at 0x170c3e48>"
       ]
      },
      {
       "html": [
        "<div class=\"pb\" id=\"8871952c-d7fb-439b-9aac-8569ec9a779b\"><table class=\"pb ui-widget\"><tr>\n",
        "<td class=\"pb_widget\">TOP_1000</td>\n",
        "<td class=\"pb_widget\"><div id=\"f432a049-1a38-405a-bd3a-267cc5e27dde\">0 of 971</div></td>\n",
        "<td class=\"pb_widget\"><div id=\"9b698331-1d7e-4083-ad53-749bfe7c5b2e\">  0%</div></td>\n",
        "<td class=\"pb_widget_fill\">\n",
        "        <div class=\"pb_bar\" id=\"b1592b65-aa1d-4500-a708-93b1fda4c24a\"></div>\n",
        "        <script type=\"text/javascript\">\n",
        "            $(\"div#b1592b65-aa1d-4500-a708-93b1fda4c24a\").progressbar({value: 0, max: 971});\n",
        "        </script>\n",
        "        </td>\n",
        "<td class=\"pb_widget\"><div id=\"f1c5d705-f487-4301-90fd-7755fa0a02c8\">ETA:  --:--:--</div></td>\n",
        "</tr></table><div>"
       ],
       "metadata": {},
       "output_type": "display_data",
       "text": [
        "<IPython.core.display.HTML at 0x17de5710>"
       ]
      },
      {
       "javascript": [
        "$('div#f432a049-1a38-405a-bd3a-267cc5e27dde').text('10 of 971');"
       ],
       "metadata": {},
       "output_type": "display_data",
       "text": [
        "<IPython.core.display.Javascript at 0x13721e48>"
       ]
      },
      {
       "javascript": [
        "$('div#9b698331-1d7e-4083-ad53-749bfe7c5b2e').text('  1%');"
       ],
       "metadata": {},
       "output_type": "display_data",
       "text": [
        "<IPython.core.display.Javascript at 0x13721978>"
       ]
      },
      {
       "javascript": [
        "\n",
        "        var $myPB = $(\"div#b1592b65-aa1d-4500-a708-93b1fda4c24a\")\n",
        "        if ($myPB.hasClass('ui-progressbar')) {\n",
        "            $myPB.progressbar('value', 10);\n",
        "        } else {\n",
        "            $myPB.progressbar({value: 0, max: 971});\n",
        "        }\n",
        "        "
       ],
       "metadata": {},
       "output_type": "display_data",
       "text": [
        "<IPython.core.display.Javascript at 0x137213c8>"
       ]
      },
      {
       "javascript": [
        "$('div#f1c5d705-f487-4301-90fd-7755fa0a02c8').text('ETA:  0:00:26');"
       ],
       "metadata": {},
       "output_type": "display_data",
       "text": [
        "<IPython.core.display.Javascript at 0x13721630>"
       ]
      },
      {
       "javascript": [
        "$('div#f432a049-1a38-405a-bd3a-267cc5e27dde').text('20 of 971');"
       ],
       "metadata": {},
       "output_type": "display_data",
       "text": [
        "<IPython.core.display.Javascript at 0x18613ac8>"
       ]
      },
      {
       "javascript": [
        "$('div#9b698331-1d7e-4083-ad53-749bfe7c5b2e').text('  2%');"
       ],
       "metadata": {},
       "output_type": "display_data",
       "text": [
        "<IPython.core.display.Javascript at 0x18613c50>"
       ]
      },
      {
       "javascript": [
        "\n",
        "        var $myPB = $(\"div#b1592b65-aa1d-4500-a708-93b1fda4c24a\")\n",
        "        if ($myPB.hasClass('ui-progressbar')) {\n",
        "            $myPB.progressbar('value', 20);\n",
        "        } else {\n",
        "            $myPB.progressbar({value: 0, max: 971});\n",
        "        }\n",
        "        "
       ],
       "metadata": {},
       "output_type": "display_data",
       "text": [
        "<IPython.core.display.Javascript at 0x18613c50>"
       ]
      },
      {
       "javascript": [
        "$('div#f1c5d705-f487-4301-90fd-7755fa0a02c8').text('ETA:  0:00:34');"
       ],
       "metadata": {},
       "output_type": "display_data",
       "text": [
        "<IPython.core.display.Javascript at 0x18613a90>"
       ]
      },
      {
       "javascript": [
        "$('div#f432a049-1a38-405a-bd3a-267cc5e27dde').text('30 of 971');"
       ],
       "metadata": {},
       "output_type": "display_data",
       "text": [
        "<IPython.core.display.Javascript at 0x1a9cab38>"
       ]
      },
      {
       "javascript": [
        "$('div#9b698331-1d7e-4083-ad53-749bfe7c5b2e').text('  3%');"
       ],
       "metadata": {},
       "output_type": "display_data",
       "text": [
        "<IPython.core.display.Javascript at 0x1a9ca240>"
       ]
      },
      {
       "javascript": [
        "\n",
        "        var $myPB = $(\"div#b1592b65-aa1d-4500-a708-93b1fda4c24a\")\n",
        "        if ($myPB.hasClass('ui-progressbar')) {\n",
        "            $myPB.progressbar('value', 30);\n",
        "        } else {\n",
        "            $myPB.progressbar({value: 0, max: 971});\n",
        "        }\n",
        "        "
       ],
       "metadata": {},
       "output_type": "display_data",
       "text": [
        "<IPython.core.display.Javascript at 0x1a9ca358>"
       ]
      },
      {
       "javascript": [
        "$('div#f1c5d705-f487-4301-90fd-7755fa0a02c8').text('ETA:  0:00:34');"
       ],
       "metadata": {},
       "output_type": "display_data",
       "text": [
        "<IPython.core.display.Javascript at 0x1a9ca358>"
       ]
      },
      {
       "javascript": [
        "$('div#f432a049-1a38-405a-bd3a-267cc5e27dde').text('40 of 971');"
       ],
       "metadata": {},
       "output_type": "display_data",
       "text": [
        "<IPython.core.display.Javascript at 0x1f9a8d68>"
       ]
      },
      {
       "javascript": [
        "$('div#9b698331-1d7e-4083-ad53-749bfe7c5b2e').text('  4%');"
       ],
       "metadata": {},
       "output_type": "display_data",
       "text": [
        "<IPython.core.display.Javascript at 0x1f9a8e80>"
       ]
      },
      {
       "javascript": [
        "\n",
        "        var $myPB = $(\"div#b1592b65-aa1d-4500-a708-93b1fda4c24a\")\n",
        "        if ($myPB.hasClass('ui-progressbar')) {\n",
        "            $myPB.progressbar('value', 40);\n",
        "        } else {\n",
        "            $myPB.progressbar({value: 0, max: 971});\n",
        "        }\n",
        "        "
       ],
       "metadata": {},
       "output_type": "display_data",
       "text": [
        "<IPython.core.display.Javascript at 0x1f9a8128>"
       ]
      },
      {
       "javascript": [
        "$('div#f1c5d705-f487-4301-90fd-7755fa0a02c8').text('ETA:  0:00:40');"
       ],
       "metadata": {},
       "output_type": "display_data",
       "text": [
        "<IPython.core.display.Javascript at 0x1f9a8f28>"
       ]
      },
      {
       "javascript": [
        "$('div#f432a049-1a38-405a-bd3a-267cc5e27dde').text('50 of 971');"
       ],
       "metadata": {},
       "output_type": "display_data",
       "text": [
        "<IPython.core.display.Javascript at 0x1968b358>"
       ]
      },
      {
       "javascript": [
        "$('div#9b698331-1d7e-4083-ad53-749bfe7c5b2e').text('  5%');"
       ],
       "metadata": {},
       "output_type": "display_data",
       "text": [
        "<IPython.core.display.Javascript at 0x1968b898>"
       ]
      },
      {
       "javascript": [
        "\n",
        "        var $myPB = $(\"div#b1592b65-aa1d-4500-a708-93b1fda4c24a\")\n",
        "        if ($myPB.hasClass('ui-progressbar')) {\n",
        "            $myPB.progressbar('value', 50);\n",
        "        } else {\n",
        "            $myPB.progressbar({value: 0, max: 971});\n",
        "        }\n",
        "        "
       ],
       "metadata": {},
       "output_type": "display_data",
       "text": [
        "<IPython.core.display.Javascript at 0x1968bcc0>"
       ]
      },
      {
       "javascript": [
        "$('div#f1c5d705-f487-4301-90fd-7755fa0a02c8').text('ETA:  0:00:35');"
       ],
       "metadata": {},
       "output_type": "display_data",
       "text": [
        "<IPython.core.display.Javascript at 0x1968b6d8>"
       ]
      },
      {
       "javascript": [
        "$('div#f432a049-1a38-405a-bd3a-267cc5e27dde').text('60 of 971');"
       ],
       "metadata": {},
       "output_type": "display_data",
       "text": [
        "<IPython.core.display.Javascript at 0x183cc748>"
       ]
      },
      {
       "javascript": [
        "$('div#9b698331-1d7e-4083-ad53-749bfe7c5b2e').text('  6%');"
       ],
       "metadata": {},
       "output_type": "display_data",
       "text": [
        "<IPython.core.display.Javascript at 0x183cc5f8>"
       ]
      },
      {
       "javascript": [
        "\n",
        "        var $myPB = $(\"div#b1592b65-aa1d-4500-a708-93b1fda4c24a\")\n",
        "        if ($myPB.hasClass('ui-progressbar')) {\n",
        "            $myPB.progressbar('value', 60);\n",
        "        } else {\n",
        "            $myPB.progressbar({value: 0, max: 971});\n",
        "        }\n",
        "        "
       ],
       "metadata": {},
       "output_type": "display_data",
       "text": [
        "<IPython.core.display.Javascript at 0x183ccda0>"
       ]
      },
      {
       "javascript": [
        "$('div#f1c5d705-f487-4301-90fd-7755fa0a02c8').text('ETA:  0:00:31');"
       ],
       "metadata": {},
       "output_type": "display_data",
       "text": [
        "<IPython.core.display.Javascript at 0x183ccda0>"
       ]
      },
      {
       "javascript": [
        "$('div#f432a049-1a38-405a-bd3a-267cc5e27dde').text('70 of 971');"
       ],
       "metadata": {},
       "output_type": "display_data",
       "text": [
        "<IPython.core.display.Javascript at 0x1f0ab0f0>"
       ]
      },
      {
       "javascript": [
        "$('div#9b698331-1d7e-4083-ad53-749bfe7c5b2e').text('  7%');"
       ],
       "metadata": {},
       "output_type": "display_data",
       "text": [
        "<IPython.core.display.Javascript at 0x1f0ab908>"
       ]
      },
      {
       "javascript": [
        "\n",
        "        var $myPB = $(\"div#b1592b65-aa1d-4500-a708-93b1fda4c24a\")\n",
        "        if ($myPB.hasClass('ui-progressbar')) {\n",
        "            $myPB.progressbar('value', 70);\n",
        "        } else {\n",
        "            $myPB.progressbar({value: 0, max: 971});\n",
        "        }\n",
        "        "
       ],
       "metadata": {},
       "output_type": "display_data",
       "text": [
        "<IPython.core.display.Javascript at 0x1f0abef0>"
       ]
      },
      {
       "javascript": [
        "$('div#f1c5d705-f487-4301-90fd-7755fa0a02c8').text('ETA:  0:00:30');"
       ],
       "metadata": {},
       "output_type": "display_data",
       "text": [
        "<IPython.core.display.Javascript at 0x1f0abef0>"
       ]
      },
      {
       "javascript": [
        "$('div#f432a049-1a38-405a-bd3a-267cc5e27dde').text('80 of 971');"
       ],
       "metadata": {},
       "output_type": "display_data",
       "text": [
        "<IPython.core.display.Javascript at 0x188f8400>"
       ]
      },
      {
       "javascript": [
        "$('div#9b698331-1d7e-4083-ad53-749bfe7c5b2e').text('  8%');"
       ],
       "metadata": {},
       "output_type": "display_data",
       "text": [
        "<IPython.core.display.Javascript at 0x188f8ef0>"
       ]
      },
      {
       "javascript": [
        "\n",
        "        var $myPB = $(\"div#b1592b65-aa1d-4500-a708-93b1fda4c24a\")\n",
        "        if ($myPB.hasClass('ui-progressbar')) {\n",
        "            $myPB.progressbar('value', 80);\n",
        "        } else {\n",
        "            $myPB.progressbar({value: 0, max: 971});\n",
        "        }\n",
        "        "
       ],
       "metadata": {},
       "output_type": "display_data",
       "text": [
        "<IPython.core.display.Javascript at 0x188f8320>"
       ]
      },
      {
       "javascript": [
        "$('div#f1c5d705-f487-4301-90fd-7755fa0a02c8').text('ETA:  0:00:30');"
       ],
       "metadata": {},
       "output_type": "display_data",
       "text": [
        "<IPython.core.display.Javascript at 0x188f8320>"
       ]
      },
      {
       "javascript": [
        "$('div#f432a049-1a38-405a-bd3a-267cc5e27dde').text('90 of 971');"
       ],
       "metadata": {},
       "output_type": "display_data",
       "text": [
        "<IPython.core.display.Javascript at 0x1feea320>"
       ]
      },
      {
       "javascript": [
        "$('div#9b698331-1d7e-4083-ad53-749bfe7c5b2e').text('  9%');"
       ],
       "metadata": {},
       "output_type": "display_data",
       "text": [
        "<IPython.core.display.Javascript at 0x1feeacc0>"
       ]
      },
      {
       "javascript": [
        "\n",
        "        var $myPB = $(\"div#b1592b65-aa1d-4500-a708-93b1fda4c24a\")\n",
        "        if ($myPB.hasClass('ui-progressbar')) {\n",
        "            $myPB.progressbar('value', 90);\n",
        "        } else {\n",
        "            $myPB.progressbar({value: 0, max: 971});\n",
        "        }\n",
        "        "
       ],
       "metadata": {},
       "output_type": "display_data",
       "text": [
        "<IPython.core.display.Javascript at 0x1feea710>"
       ]
      },
      {
       "javascript": [
        "$('div#f1c5d705-f487-4301-90fd-7755fa0a02c8').text('ETA:  0:00:32');"
       ],
       "metadata": {},
       "output_type": "display_data",
       "text": [
        "<IPython.core.display.Javascript at 0x1feeaa58>"
       ]
      },
      {
       "javascript": [
        "$('div#f432a049-1a38-405a-bd3a-267cc5e27dde').text('100 of 971');"
       ],
       "metadata": {},
       "output_type": "display_data",
       "text": [
        "<IPython.core.display.Javascript at 0x18153d68>"
       ]
      },
      {
       "javascript": [
        "$('div#9b698331-1d7e-4083-ad53-749bfe7c5b2e').text(' 10%');"
       ],
       "metadata": {},
       "output_type": "display_data",
       "text": [
        "<IPython.core.display.Javascript at 0x18153128>"
       ]
      },
      {
       "javascript": [
        "\n",
        "        var $myPB = $(\"div#b1592b65-aa1d-4500-a708-93b1fda4c24a\")\n",
        "        if ($myPB.hasClass('ui-progressbar')) {\n",
        "            $myPB.progressbar('value', 100);\n",
        "        } else {\n",
        "            $myPB.progressbar({value: 0, max: 971});\n",
        "        }\n",
        "        "
       ],
       "metadata": {},
       "output_type": "display_data",
       "text": [
        "<IPython.core.display.Javascript at 0x181537f0>"
       ]
      },
      {
       "javascript": [
        "$('div#f1c5d705-f487-4301-90fd-7755fa0a02c8').text('ETA:  0:00:31');"
       ],
       "metadata": {},
       "output_type": "display_data",
       "text": [
        "<IPython.core.display.Javascript at 0x18153a58>"
       ]
      },
      {
       "javascript": [
        "$('div#f432a049-1a38-405a-bd3a-267cc5e27dde').text('110 of 971');"
       ],
       "metadata": {},
       "output_type": "display_data",
       "text": [
        "<IPython.core.display.Javascript at 0x1b545438>"
       ]
      },
      {
       "javascript": [
        "$('div#9b698331-1d7e-4083-ad53-749bfe7c5b2e').text(' 11%');"
       ],
       "metadata": {},
       "output_type": "display_data",
       "text": [
        "<IPython.core.display.Javascript at 0x1b545ba8>"
       ]
      },
      {
       "javascript": [
        "\n",
        "        var $myPB = $(\"div#b1592b65-aa1d-4500-a708-93b1fda4c24a\")\n",
        "        if ($myPB.hasClass('ui-progressbar')) {\n",
        "            $myPB.progressbar('value', 110);\n",
        "        } else {\n",
        "            $myPB.progressbar({value: 0, max: 971});\n",
        "        }\n",
        "        "
       ],
       "metadata": {},
       "output_type": "display_data",
       "text": [
        "<IPython.core.display.Javascript at 0x1b5457f0>"
       ]
      },
      {
       "javascript": [
        "$('div#f1c5d705-f487-4301-90fd-7755fa0a02c8').text('ETA:  0:00:31');"
       ],
       "metadata": {},
       "output_type": "display_data",
       "text": [
        "<IPython.core.display.Javascript at 0x1b5452e8>"
       ]
      },
      {
       "javascript": [
        "$('div#f432a049-1a38-405a-bd3a-267cc5e27dde').text('120 of 971');"
       ],
       "metadata": {},
       "output_type": "display_data",
       "text": [
        "<IPython.core.display.Javascript at 0x1fed1438>"
       ]
      },
      {
       "javascript": [
        "$('div#9b698331-1d7e-4083-ad53-749bfe7c5b2e').text(' 12%');"
       ],
       "metadata": {},
       "output_type": "display_data",
       "text": [
        "<IPython.core.display.Javascript at 0x1fed1240>"
       ]
      },
      {
       "javascript": [
        "\n",
        "        var $myPB = $(\"div#b1592b65-aa1d-4500-a708-93b1fda4c24a\")\n",
        "        if ($myPB.hasClass('ui-progressbar')) {\n",
        "            $myPB.progressbar('value', 120);\n",
        "        } else {\n",
        "            $myPB.progressbar({value: 0, max: 971});\n",
        "        }\n",
        "        "
       ],
       "metadata": {},
       "output_type": "display_data",
       "text": [
        "<IPython.core.display.Javascript at 0x1fed1518>"
       ]
      },
      {
       "javascript": [
        "$('div#f1c5d705-f487-4301-90fd-7755fa0a02c8').text('ETA:  0:00:30');"
       ],
       "metadata": {},
       "output_type": "display_data",
       "text": [
        "<IPython.core.display.Javascript at 0x1fed1518>"
       ]
      },
      {
       "javascript": [
        "$('div#f432a049-1a38-405a-bd3a-267cc5e27dde').text('130 of 971');"
       ],
       "metadata": {},
       "output_type": "display_data",
       "text": [
        "<IPython.core.display.Javascript at 0x185da908>"
       ]
      },
      {
       "javascript": [
        "$('div#9b698331-1d7e-4083-ad53-749bfe7c5b2e').text(' 13%');"
       ],
       "metadata": {},
       "output_type": "display_data",
       "text": [
        "<IPython.core.display.Javascript at 0x1b7eed30>"
       ]
      },
      {
       "javascript": [
        "\n",
        "        var $myPB = $(\"div#b1592b65-aa1d-4500-a708-93b1fda4c24a\")\n",
        "        if ($myPB.hasClass('ui-progressbar')) {\n",
        "            $myPB.progressbar('value', 130);\n",
        "        } else {\n",
        "            $myPB.progressbar({value: 0, max: 971});\n",
        "        }\n",
        "        "
       ],
       "metadata": {},
       "output_type": "display_data",
       "text": [
        "<IPython.core.display.Javascript at 0x1b7ee9b0>"
       ]
      },
      {
       "javascript": [
        "$('div#f1c5d705-f487-4301-90fd-7755fa0a02c8').text('ETA:  0:00:29');"
       ],
       "metadata": {},
       "output_type": "display_data",
       "text": [
        "<IPython.core.display.Javascript at 0x185da908>"
       ]
      },
      {
       "javascript": [
        "$('div#f432a049-1a38-405a-bd3a-267cc5e27dde').text('140 of 971');"
       ],
       "metadata": {},
       "output_type": "display_data",
       "text": [
        "<IPython.core.display.Javascript at 0x3517f98>"
       ]
      },
      {
       "javascript": [
        "$('div#9b698331-1d7e-4083-ad53-749bfe7c5b2e').text(' 14%');"
       ],
       "metadata": {},
       "output_type": "display_data",
       "text": [
        "<IPython.core.display.Javascript at 0x14f985f8>"
       ]
      },
      {
       "javascript": [
        "\n",
        "        var $myPB = $(\"div#b1592b65-aa1d-4500-a708-93b1fda4c24a\")\n",
        "        if ($myPB.hasClass('ui-progressbar')) {\n",
        "            $myPB.progressbar('value', 140);\n",
        "        } else {\n",
        "            $myPB.progressbar({value: 0, max: 971});\n",
        "        }\n",
        "        "
       ],
       "metadata": {},
       "output_type": "display_data",
       "text": [
        "<IPython.core.display.Javascript at 0x14f987b8>"
       ]
      },
      {
       "javascript": [
        "$('div#f1c5d705-f487-4301-90fd-7755fa0a02c8').text('ETA:  0:00:29');"
       ],
       "metadata": {},
       "output_type": "display_data",
       "text": [
        "<IPython.core.display.Javascript at 0x14f98710>"
       ]
      },
      {
       "javascript": [
        "$('div#f432a049-1a38-405a-bd3a-267cc5e27dde').text('150 of 971');"
       ],
       "metadata": {},
       "output_type": "display_data",
       "text": [
        "<IPython.core.display.Javascript at 0x174bbb38>"
       ]
      },
      {
       "javascript": [
        "$('div#9b698331-1d7e-4083-ad53-749bfe7c5b2e').text(' 15%');"
       ],
       "metadata": {},
       "output_type": "display_data",
       "text": [
        "<IPython.core.display.Javascript at 0x174bb710>"
       ]
      },
      {
       "javascript": [
        "\n",
        "        var $myPB = $(\"div#b1592b65-aa1d-4500-a708-93b1fda4c24a\")\n",
        "        if ($myPB.hasClass('ui-progressbar')) {\n",
        "            $myPB.progressbar('value', 150);\n",
        "        } else {\n",
        "            $myPB.progressbar({value: 0, max: 971});\n",
        "        }\n",
        "        "
       ],
       "metadata": {},
       "output_type": "display_data",
       "text": [
        "<IPython.core.display.Javascript at 0x174bb5c0>"
       ]
      },
      {
       "javascript": [
        "$('div#f1c5d705-f487-4301-90fd-7755fa0a02c8').text('ETA:  0:00:28');"
       ],
       "metadata": {},
       "output_type": "display_data",
       "text": [
        "<IPython.core.display.Javascript at 0x174bb470>"
       ]
      },
      {
       "javascript": [
        "$('div#f432a049-1a38-405a-bd3a-267cc5e27dde').text('160 of 971');"
       ],
       "metadata": {},
       "output_type": "display_data",
       "text": [
        "<IPython.core.display.Javascript at 0x194af198>"
       ]
      },
      {
       "javascript": [
        "$('div#9b698331-1d7e-4083-ad53-749bfe7c5b2e').text(' 16%');"
       ],
       "metadata": {},
       "output_type": "display_data",
       "text": [
        "<IPython.core.display.Javascript at 0x194afbe0>"
       ]
      },
      {
       "javascript": [
        "\n",
        "        var $myPB = $(\"div#b1592b65-aa1d-4500-a708-93b1fda4c24a\")\n",
        "        if ($myPB.hasClass('ui-progressbar')) {\n",
        "            $myPB.progressbar('value', 160);\n",
        "        } else {\n",
        "            $myPB.progressbar({value: 0, max: 971});\n",
        "        }\n",
        "        "
       ],
       "metadata": {},
       "output_type": "display_data",
       "text": [
        "<IPython.core.display.Javascript at 0x194af5f8>"
       ]
      },
      {
       "javascript": [
        "$('div#f1c5d705-f487-4301-90fd-7755fa0a02c8').text('ETA:  0:00:28');"
       ],
       "metadata": {},
       "output_type": "display_data",
       "text": [
        "<IPython.core.display.Javascript at 0x194afac8>"
       ]
      },
      {
       "javascript": [
        "$('div#f432a049-1a38-405a-bd3a-267cc5e27dde').text('170 of 971');"
       ],
       "metadata": {},
       "output_type": "display_data",
       "text": [
        "<IPython.core.display.Javascript at 0x1c1d3320>"
       ]
      },
      {
       "javascript": [
        "$('div#9b698331-1d7e-4083-ad53-749bfe7c5b2e').text(' 17%');"
       ],
       "metadata": {},
       "output_type": "display_data",
       "text": [
        "<IPython.core.display.Javascript at 0x1c1d3d30>"
       ]
      },
      {
       "javascript": [
        "\n",
        "        var $myPB = $(\"div#b1592b65-aa1d-4500-a708-93b1fda4c24a\")\n",
        "        if ($myPB.hasClass('ui-progressbar')) {\n",
        "            $myPB.progressbar('value', 170);\n",
        "        } else {\n",
        "            $myPB.progressbar({value: 0, max: 971});\n",
        "        }\n",
        "        "
       ],
       "metadata": {},
       "output_type": "display_data",
       "text": [
        "<IPython.core.display.Javascript at 0x1c1d3ef0>"
       ]
      },
      {
       "javascript": [
        "$('div#f1c5d705-f487-4301-90fd-7755fa0a02c8').text('ETA:  0:00:28');"
       ],
       "metadata": {},
       "output_type": "display_data",
       "text": [
        "<IPython.core.display.Javascript at 0x1c1d3828>"
       ]
      },
      {
       "javascript": [
        "$('div#f432a049-1a38-405a-bd3a-267cc5e27dde').text('180 of 971');"
       ],
       "metadata": {},
       "output_type": "display_data",
       "text": [
        "<IPython.core.display.Javascript at 0x1b432710>"
       ]
      },
      {
       "javascript": [
        "$('div#9b698331-1d7e-4083-ad53-749bfe7c5b2e').text(' 18%');"
       ],
       "metadata": {},
       "output_type": "display_data",
       "text": [
        "<IPython.core.display.Javascript at 0x1b432dd8>"
       ]
      },
      {
       "javascript": [
        "\n",
        "        var $myPB = $(\"div#b1592b65-aa1d-4500-a708-93b1fda4c24a\")\n",
        "        if ($myPB.hasClass('ui-progressbar')) {\n",
        "            $myPB.progressbar('value', 180);\n",
        "        } else {\n",
        "            $myPB.progressbar({value: 0, max: 971});\n",
        "        }\n",
        "        "
       ],
       "metadata": {},
       "output_type": "display_data",
       "text": [
        "<IPython.core.display.Javascript at 0x1b4324e0>"
       ]
      },
      {
       "javascript": [
        "$('div#f1c5d705-f487-4301-90fd-7755fa0a02c8').text('ETA:  0:00:28');"
       ],
       "metadata": {},
       "output_type": "display_data",
       "text": [
        "<IPython.core.display.Javascript at 0x1b4324e0>"
       ]
      },
      {
       "javascript": [
        "$('div#f432a049-1a38-405a-bd3a-267cc5e27dde').text('190 of 971');"
       ],
       "metadata": {},
       "output_type": "display_data",
       "text": [
        "<IPython.core.display.Javascript at 0x1ca0a4a8>"
       ]
      },
      {
       "javascript": [
        "$('div#9b698331-1d7e-4083-ad53-749bfe7c5b2e').text(' 19%');"
       ],
       "metadata": {},
       "output_type": "display_data",
       "text": [
        "<IPython.core.display.Javascript at 0x1ca0ac88>"
       ]
      },
      {
       "javascript": [
        "\n",
        "        var $myPB = $(\"div#b1592b65-aa1d-4500-a708-93b1fda4c24a\")\n",
        "        if ($myPB.hasClass('ui-progressbar')) {\n",
        "            $myPB.progressbar('value', 190);\n",
        "        } else {\n",
        "            $myPB.progressbar({value: 0, max: 971});\n",
        "        }\n",
        "        "
       ],
       "metadata": {},
       "output_type": "display_data",
       "text": [
        "<IPython.core.display.Javascript at 0x1ca0add8>"
       ]
      },
      {
       "javascript": [
        "$('div#f1c5d705-f487-4301-90fd-7755fa0a02c8').text('ETA:  0:00:27');"
       ],
       "metadata": {},
       "output_type": "display_data",
       "text": [
        "<IPython.core.display.Javascript at 0x1ca0a2b0>"
       ]
      },
      {
       "javascript": [
        "$('div#f432a049-1a38-405a-bd3a-267cc5e27dde').text('200 of 971');"
       ],
       "metadata": {},
       "output_type": "display_data",
       "text": [
        "<IPython.core.display.Javascript at 0x1c527358>"
       ]
      },
      {
       "javascript": [
        "$('div#9b698331-1d7e-4083-ad53-749bfe7c5b2e').text(' 20%');"
       ],
       "metadata": {},
       "output_type": "display_data",
       "text": [
        "<IPython.core.display.Javascript at 0x1c527e48>"
       ]
      },
      {
       "javascript": [
        "\n",
        "        var $myPB = $(\"div#b1592b65-aa1d-4500-a708-93b1fda4c24a\")\n",
        "        if ($myPB.hasClass('ui-progressbar')) {\n",
        "            $myPB.progressbar('value', 200);\n",
        "        } else {\n",
        "            $myPB.progressbar({value: 0, max: 971});\n",
        "        }\n",
        "        "
       ],
       "metadata": {},
       "output_type": "display_data",
       "text": [
        "<IPython.core.display.Javascript at 0x1c527e80>"
       ]
      },
      {
       "javascript": [
        "$('div#f1c5d705-f487-4301-90fd-7755fa0a02c8').text('ETA:  0:00:29');"
       ],
       "metadata": {},
       "output_type": "display_data",
       "text": [
        "<IPython.core.display.Javascript at 0x1c527668>"
       ]
      },
      {
       "javascript": [
        "$('div#f432a049-1a38-405a-bd3a-267cc5e27dde').text('210 of 971');"
       ],
       "metadata": {},
       "output_type": "display_data",
       "text": [
        "<IPython.core.display.Javascript at 0x197024a8>"
       ]
      },
      {
       "javascript": [
        "$('div#9b698331-1d7e-4083-ad53-749bfe7c5b2e').text(' 21%');"
       ],
       "metadata": {},
       "output_type": "display_data",
       "text": [
        "<IPython.core.display.Javascript at 0x19702160>"
       ]
      },
      {
       "javascript": [
        "\n",
        "        var $myPB = $(\"div#b1592b65-aa1d-4500-a708-93b1fda4c24a\")\n",
        "        if ($myPB.hasClass('ui-progressbar')) {\n",
        "            $myPB.progressbar('value', 210);\n",
        "        } else {\n",
        "            $myPB.progressbar({value: 0, max: 971});\n",
        "        }\n",
        "        "
       ],
       "metadata": {},
       "output_type": "display_data",
       "text": [
        "<IPython.core.display.Javascript at 0x19702c50>"
       ]
      },
      {
       "javascript": [
        "$('div#f1c5d705-f487-4301-90fd-7755fa0a02c8').text('ETA:  0:00:29');"
       ],
       "metadata": {},
       "output_type": "display_data",
       "text": [
        "<IPython.core.display.Javascript at 0x19702c50>"
       ]
      },
      {
       "javascript": [
        "$('div#f432a049-1a38-405a-bd3a-267cc5e27dde').text('220 of 971');"
       ],
       "metadata": {},
       "output_type": "display_data",
       "text": [
        "<IPython.core.display.Javascript at 0x136eb5f8>"
       ]
      },
      {
       "javascript": [
        "$('div#9b698331-1d7e-4083-ad53-749bfe7c5b2e').text(' 22%');"
       ],
       "metadata": {},
       "output_type": "display_data",
       "text": [
        "<IPython.core.display.Javascript at 0x136eb208>"
       ]
      },
      {
       "javascript": [
        "\n",
        "        var $myPB = $(\"div#b1592b65-aa1d-4500-a708-93b1fda4c24a\")\n",
        "        if ($myPB.hasClass('ui-progressbar')) {\n",
        "            $myPB.progressbar('value', 220);\n",
        "        } else {\n",
        "            $myPB.progressbar({value: 0, max: 971});\n",
        "        }\n",
        "        "
       ],
       "metadata": {},
       "output_type": "display_data",
       "text": [
        "<IPython.core.display.Javascript at 0x136eb080>"
       ]
      },
      {
       "javascript": [
        "$('div#f1c5d705-f487-4301-90fd-7755fa0a02c8').text('ETA:  0:00:29');"
       ],
       "metadata": {},
       "output_type": "display_data",
       "text": [
        "<IPython.core.display.Javascript at 0x136eb588>"
       ]
      },
      {
       "javascript": [
        "$('div#f432a049-1a38-405a-bd3a-267cc5e27dde').text('230 of 971');"
       ],
       "metadata": {},
       "output_type": "display_data",
       "text": [
        "<IPython.core.display.Javascript at 0x143cde80>"
       ]
      },
      {
       "javascript": [
        "$('div#9b698331-1d7e-4083-ad53-749bfe7c5b2e').text(' 23%');"
       ],
       "metadata": {},
       "output_type": "display_data",
       "text": [
        "<IPython.core.display.Javascript at 0x143cddd8>"
       ]
      },
      {
       "javascript": [
        "\n",
        "        var $myPB = $(\"div#b1592b65-aa1d-4500-a708-93b1fda4c24a\")\n",
        "        if ($myPB.hasClass('ui-progressbar')) {\n",
        "            $myPB.progressbar('value', 230);\n",
        "        } else {\n",
        "            $myPB.progressbar({value: 0, max: 971});\n",
        "        }\n",
        "        "
       ],
       "metadata": {},
       "output_type": "display_data",
       "text": [
        "<IPython.core.display.Javascript at 0x143cdd30>"
       ]
      },
      {
       "javascript": [
        "$('div#f1c5d705-f487-4301-90fd-7755fa0a02c8').text('ETA:  0:00:31');"
       ],
       "metadata": {},
       "output_type": "display_data",
       "text": [
        "<IPython.core.display.Javascript at 0x143cd048>"
       ]
      },
      {
       "javascript": [
        "$('div#f432a049-1a38-405a-bd3a-267cc5e27dde').text('240 of 971');"
       ],
       "metadata": {},
       "output_type": "display_data",
       "text": [
        "<IPython.core.display.Javascript at 0x14ac47b8>"
       ]
      },
      {
       "javascript": [
        "$('div#9b698331-1d7e-4083-ad53-749bfe7c5b2e').text(' 24%');"
       ],
       "metadata": {},
       "output_type": "display_data",
       "text": [
        "<IPython.core.display.Javascript at 0x14ac4198>"
       ]
      },
      {
       "javascript": [
        "\n",
        "        var $myPB = $(\"div#b1592b65-aa1d-4500-a708-93b1fda4c24a\")\n",
        "        if ($myPB.hasClass('ui-progressbar')) {\n",
        "            $myPB.progressbar('value', 240);\n",
        "        } else {\n",
        "            $myPB.progressbar({value: 0, max: 971});\n",
        "        }\n",
        "        "
       ],
       "metadata": {},
       "output_type": "display_data",
       "text": [
        "<IPython.core.display.Javascript at 0x14ac4be0>"
       ]
      },
      {
       "javascript": [
        "$('div#f1c5d705-f487-4301-90fd-7755fa0a02c8').text('ETA:  0:00:30');"
       ],
       "metadata": {},
       "output_type": "display_data",
       "text": [
        "<IPython.core.display.Javascript at 0x14ac4be0>"
       ]
      },
      {
       "javascript": [
        "$('div#f432a049-1a38-405a-bd3a-267cc5e27dde').text('250 of 971');"
       ],
       "metadata": {},
       "output_type": "display_data",
       "text": [
        "<IPython.core.display.Javascript at 0x15c62198>"
       ]
      },
      {
       "javascript": [
        "$('div#9b698331-1d7e-4083-ad53-749bfe7c5b2e').text(' 25%');"
       ],
       "metadata": {},
       "output_type": "display_data",
       "text": [
        "<IPython.core.display.Javascript at 0x15c62e10>"
       ]
      },
      {
       "javascript": [
        "\n",
        "        var $myPB = $(\"div#b1592b65-aa1d-4500-a708-93b1fda4c24a\")\n",
        "        if ($myPB.hasClass('ui-progressbar')) {\n",
        "            $myPB.progressbar('value', 250);\n",
        "        } else {\n",
        "            $myPB.progressbar({value: 0, max: 971});\n",
        "        }\n",
        "        "
       ],
       "metadata": {},
       "output_type": "display_data",
       "text": [
        "<IPython.core.display.Javascript at 0x15c622e8>"
       ]
      },
      {
       "javascript": [
        "$('div#f1c5d705-f487-4301-90fd-7755fa0a02c8').text('ETA:  0:00:30');"
       ],
       "metadata": {},
       "output_type": "display_data",
       "text": [
        "<IPython.core.display.Javascript at 0x15c62400>"
       ]
      },
      {
       "javascript": [
        "$('div#f432a049-1a38-405a-bd3a-267cc5e27dde').text('260 of 971');"
       ],
       "metadata": {},
       "output_type": "display_data",
       "text": [
        "<IPython.core.display.Javascript at 0x17e01d30>"
       ]
      },
      {
       "javascript": [
        "$('div#9b698331-1d7e-4083-ad53-749bfe7c5b2e').text(' 26%');"
       ],
       "metadata": {},
       "output_type": "display_data",
       "text": [
        "<IPython.core.display.Javascript at 0x17e014e0>"
       ]
      },
      {
       "javascript": [
        "\n",
        "        var $myPB = $(\"div#b1592b65-aa1d-4500-a708-93b1fda4c24a\")\n",
        "        if ($myPB.hasClass('ui-progressbar')) {\n",
        "            $myPB.progressbar('value', 260);\n",
        "        } else {\n",
        "            $myPB.progressbar({value: 0, max: 971});\n",
        "        }\n",
        "        "
       ],
       "metadata": {},
       "output_type": "display_data",
       "text": [
        "<IPython.core.display.Javascript at 0x17e01fd0>"
       ]
      },
      {
       "javascript": [
        "$('div#f1c5d705-f487-4301-90fd-7755fa0a02c8').text('ETA:  0:00:30');"
       ],
       "metadata": {},
       "output_type": "display_data",
       "text": [
        "<IPython.core.display.Javascript at 0x17e01588>"
       ]
      },
      {
       "javascript": [
        "$('div#f432a049-1a38-405a-bd3a-267cc5e27dde').text('270 of 971');"
       ],
       "metadata": {},
       "output_type": "display_data",
       "text": [
        "<IPython.core.display.Javascript at 0x19287eb8>"
       ]
      },
      {
       "javascript": [
        "$('div#9b698331-1d7e-4083-ad53-749bfe7c5b2e').text(' 27%');"
       ],
       "metadata": {},
       "output_type": "display_data",
       "text": [
        "<IPython.core.display.Javascript at 0x19287c18>"
       ]
      },
      {
       "javascript": [
        "\n",
        "        var $myPB = $(\"div#b1592b65-aa1d-4500-a708-93b1fda4c24a\")\n",
        "        if ($myPB.hasClass('ui-progressbar')) {\n",
        "            $myPB.progressbar('value', 270);\n",
        "        } else {\n",
        "            $myPB.progressbar({value: 0, max: 971});\n",
        "        }\n",
        "        "
       ],
       "metadata": {},
       "output_type": "display_data",
       "text": [
        "<IPython.core.display.Javascript at 0x192877b8>"
       ]
      },
      {
       "javascript": [
        "$('div#f1c5d705-f487-4301-90fd-7755fa0a02c8').text('ETA:  0:00:30');"
       ],
       "metadata": {},
       "output_type": "display_data",
       "text": [
        "<IPython.core.display.Javascript at 0x192872e8>"
       ]
      },
      {
       "javascript": [
        "$('div#f432a049-1a38-405a-bd3a-267cc5e27dde').text('280 of 971');"
       ],
       "metadata": {},
       "output_type": "display_data",
       "text": [
        "<IPython.core.display.Javascript at 0x1c03fcf8>"
       ]
      },
      {
       "javascript": [
        "$('div#9b698331-1d7e-4083-ad53-749bfe7c5b2e').text(' 28%');"
       ],
       "metadata": {},
       "output_type": "display_data",
       "text": [
        "<IPython.core.display.Javascript at 0x1c03f908>"
       ]
      },
      {
       "javascript": [
        "\n",
        "        var $myPB = $(\"div#b1592b65-aa1d-4500-a708-93b1fda4c24a\")\n",
        "        if ($myPB.hasClass('ui-progressbar')) {\n",
        "            $myPB.progressbar('value', 280);\n",
        "        } else {\n",
        "            $myPB.progressbar({value: 0, max: 971});\n",
        "        }\n",
        "        "
       ],
       "metadata": {},
       "output_type": "display_data",
       "text": [
        "<IPython.core.display.Javascript at 0x1c03f278>"
       ]
      },
      {
       "javascript": [
        "$('div#f1c5d705-f487-4301-90fd-7755fa0a02c8').text('ETA:  0:00:29');"
       ],
       "metadata": {},
       "output_type": "display_data",
       "text": [
        "<IPython.core.display.Javascript at 0x1c03f278>"
       ]
      },
      {
       "javascript": [
        "$('div#f432a049-1a38-405a-bd3a-267cc5e27dde').text('290 of 971');"
       ],
       "metadata": {},
       "output_type": "display_data",
       "text": [
        "<IPython.core.display.Javascript at 0x1bd1c7b8>"
       ]
      },
      {
       "javascript": [
        "$('div#9b698331-1d7e-4083-ad53-749bfe7c5b2e').text(' 29%');"
       ],
       "metadata": {},
       "output_type": "display_data",
       "text": [
        "<IPython.core.display.Javascript at 0x1c44f5f8>"
       ]
      },
      {
       "javascript": [
        "\n",
        "        var $myPB = $(\"div#b1592b65-aa1d-4500-a708-93b1fda4c24a\")\n",
        "        if ($myPB.hasClass('ui-progressbar')) {\n",
        "            $myPB.progressbar('value', 290);\n",
        "        } else {\n",
        "            $myPB.progressbar({value: 0, max: 971});\n",
        "        }\n",
        "        "
       ],
       "metadata": {},
       "output_type": "display_data",
       "text": [
        "<IPython.core.display.Javascript at 0x1c44f358>"
       ]
      },
      {
       "javascript": [
        "$('div#f1c5d705-f487-4301-90fd-7755fa0a02c8').text('ETA:  0:00:28');"
       ],
       "metadata": {},
       "output_type": "display_data",
       "text": [
        "<IPython.core.display.Javascript at 0x1bd1c7b8>"
       ]
      },
      {
       "javascript": [
        "$('div#f432a049-1a38-405a-bd3a-267cc5e27dde').text('300 of 971');"
       ],
       "metadata": {},
       "output_type": "display_data",
       "text": [
        "<IPython.core.display.Javascript at 0x13cd9940>"
       ]
      },
      {
       "javascript": [
        "$('div#9b698331-1d7e-4083-ad53-749bfe7c5b2e').text(' 30%');"
       ],
       "metadata": {},
       "output_type": "display_data",
       "text": [
        "<IPython.core.display.Javascript at 0x13cd9c18>"
       ]
      },
      {
       "javascript": [
        "\n",
        "        var $myPB = $(\"div#b1592b65-aa1d-4500-a708-93b1fda4c24a\")\n",
        "        if ($myPB.hasClass('ui-progressbar')) {\n",
        "            $myPB.progressbar('value', 300);\n",
        "        } else {\n",
        "            $myPB.progressbar({value: 0, max: 971});\n",
        "        }\n",
        "        "
       ],
       "metadata": {},
       "output_type": "display_data",
       "text": [
        "<IPython.core.display.Javascript at 0x13cd9d68>"
       ]
      },
      {
       "javascript": [
        "$('div#f1c5d705-f487-4301-90fd-7755fa0a02c8').text('ETA:  0:00:28');"
       ],
       "metadata": {},
       "output_type": "display_data",
       "text": [
        "<IPython.core.display.Javascript at 0x13cd9d68>"
       ]
      },
      {
       "javascript": [
        "$('div#f432a049-1a38-405a-bd3a-267cc5e27dde').text('310 of 971');"
       ],
       "metadata": {},
       "output_type": "display_data",
       "text": [
        "<IPython.core.display.Javascript at 0x1b5b97f0>"
       ]
      },
      {
       "javascript": [
        "$('div#9b698331-1d7e-4083-ad53-749bfe7c5b2e').text(' 31%');"
       ],
       "metadata": {},
       "output_type": "display_data",
       "text": [
        "<IPython.core.display.Javascript at 0x1b5b9828>"
       ]
      },
      {
       "javascript": [
        "\n",
        "        var $myPB = $(\"div#b1592b65-aa1d-4500-a708-93b1fda4c24a\")\n",
        "        if ($myPB.hasClass('ui-progressbar')) {\n",
        "            $myPB.progressbar('value', 310);\n",
        "        } else {\n",
        "            $myPB.progressbar({value: 0, max: 971});\n",
        "        }\n",
        "        "
       ],
       "metadata": {},
       "output_type": "display_data",
       "text": [
        "<IPython.core.display.Javascript at 0x1b5b9828>"
       ]
      },
      {
       "javascript": [
        "$('div#f1c5d705-f487-4301-90fd-7755fa0a02c8').text('ETA:  0:00:27');"
       ],
       "metadata": {},
       "output_type": "display_data",
       "text": [
        "<IPython.core.display.Javascript at 0x1b5b9748>"
       ]
      },
      {
       "javascript": [
        "$('div#f432a049-1a38-405a-bd3a-267cc5e27dde').text('320 of 971');"
       ],
       "metadata": {},
       "output_type": "display_data",
       "text": [
        "<IPython.core.display.Javascript at 0x1b63ae48>"
       ]
      },
      {
       "javascript": [
        "$('div#9b698331-1d7e-4083-ad53-749bfe7c5b2e').text(' 32%');"
       ],
       "metadata": {},
       "output_type": "display_data",
       "text": [
        "<IPython.core.display.Javascript at 0x1b63a588>"
       ]
      },
      {
       "javascript": [
        "\n",
        "        var $myPB = $(\"div#b1592b65-aa1d-4500-a708-93b1fda4c24a\")\n",
        "        if ($myPB.hasClass('ui-progressbar')) {\n",
        "            $myPB.progressbar('value', 320);\n",
        "        } else {\n",
        "            $myPB.progressbar({value: 0, max: 971});\n",
        "        }\n",
        "        "
       ],
       "metadata": {},
       "output_type": "display_data",
       "text": [
        "<IPython.core.display.Javascript at 0x1b63a518>"
       ]
      },
      {
       "javascript": [
        "$('div#f1c5d705-f487-4301-90fd-7755fa0a02c8').text('ETA:  0:00:27');"
       ],
       "metadata": {},
       "output_type": "display_data",
       "text": [
        "<IPython.core.display.Javascript at 0x1b63ae48>"
       ]
      },
      {
       "javascript": [
        "$('div#f432a049-1a38-405a-bd3a-267cc5e27dde').text('330 of 971');"
       ],
       "metadata": {},
       "output_type": "display_data",
       "text": [
        "<IPython.core.display.Javascript at 0x1b63add8>"
       ]
      },
      {
       "javascript": [
        "$('div#9b698331-1d7e-4083-ad53-749bfe7c5b2e').text(' 33%');"
       ],
       "metadata": {},
       "output_type": "display_data",
       "text": [
        "<IPython.core.display.Javascript at 0x1b63a630>"
       ]
      },
      {
       "javascript": [
        "\n",
        "        var $myPB = $(\"div#b1592b65-aa1d-4500-a708-93b1fda4c24a\")\n",
        "        if ($myPB.hasClass('ui-progressbar')) {\n",
        "            $myPB.progressbar('value', 330);\n",
        "        } else {\n",
        "            $myPB.progressbar({value: 0, max: 971});\n",
        "        }\n",
        "        "
       ],
       "metadata": {},
       "output_type": "display_data",
       "text": [
        "<IPython.core.display.Javascript at 0x1b63a898>"
       ]
      },
      {
       "javascript": [
        "$('div#f1c5d705-f487-4301-90fd-7755fa0a02c8').text('ETA:  0:00:26');"
       ],
       "metadata": {},
       "output_type": "display_data",
       "text": [
        "<IPython.core.display.Javascript at 0x1b63a128>"
       ]
      },
      {
       "javascript": [
        "$('div#f432a049-1a38-405a-bd3a-267cc5e27dde').text('340 of 971');"
       ],
       "metadata": {},
       "output_type": "display_data",
       "text": [
        "<IPython.core.display.Javascript at 0x1574d908>"
       ]
      },
      {
       "javascript": [
        "$('div#9b698331-1d7e-4083-ad53-749bfe7c5b2e').text(' 35%');"
       ],
       "metadata": {},
       "output_type": "display_data",
       "text": [
        "<IPython.core.display.Javascript at 0x1574d7f0>"
       ]
      },
      {
       "javascript": [
        "\n",
        "        var $myPB = $(\"div#b1592b65-aa1d-4500-a708-93b1fda4c24a\")\n",
        "        if ($myPB.hasClass('ui-progressbar')) {\n",
        "            $myPB.progressbar('value', 340);\n",
        "        } else {\n",
        "            $myPB.progressbar({value: 0, max: 971});\n",
        "        }\n",
        "        "
       ],
       "metadata": {},
       "output_type": "display_data",
       "text": [
        "<IPython.core.display.Javascript at 0x1574d978>"
       ]
      },
      {
       "javascript": [
        "$('div#f1c5d705-f487-4301-90fd-7755fa0a02c8').text('ETA:  0:00:25');"
       ],
       "metadata": {},
       "output_type": "display_data",
       "text": [
        "<IPython.core.display.Javascript at 0x1574d358>"
       ]
      },
      {
       "javascript": [
        "$('div#f432a049-1a38-405a-bd3a-267cc5e27dde').text('350 of 971');"
       ],
       "metadata": {},
       "output_type": "display_data",
       "text": [
        "<IPython.core.display.Javascript at 0x157ede80>"
       ]
      },
      {
       "javascript": [
        "$('div#9b698331-1d7e-4083-ad53-749bfe7c5b2e').text(' 36%');"
       ],
       "metadata": {},
       "output_type": "display_data",
       "text": [
        "<IPython.core.display.Javascript at 0x1c6e7898>"
       ]
      },
      {
       "javascript": [
        "\n",
        "        var $myPB = $(\"div#b1592b65-aa1d-4500-a708-93b1fda4c24a\")\n",
        "        if ($myPB.hasClass('ui-progressbar')) {\n",
        "            $myPB.progressbar('value', 350);\n",
        "        } else {\n",
        "            $myPB.progressbar({value: 0, max: 971});\n",
        "        }\n",
        "        "
       ],
       "metadata": {},
       "output_type": "display_data",
       "text": [
        "<IPython.core.display.Javascript at 0x1c6e7208>"
       ]
      },
      {
       "javascript": [
        "$('div#f1c5d705-f487-4301-90fd-7755fa0a02c8').text('ETA:  0:00:24');"
       ],
       "metadata": {},
       "output_type": "display_data",
       "text": [
        "<IPython.core.display.Javascript at 0x1c6e7550>"
       ]
      },
      {
       "javascript": [
        "$('div#f432a049-1a38-405a-bd3a-267cc5e27dde').text('360 of 971');"
       ],
       "metadata": {},
       "output_type": "display_data",
       "text": [
        "<IPython.core.display.Javascript at 0x14d14a58>"
       ]
      },
      {
       "javascript": [
        "$('div#9b698331-1d7e-4083-ad53-749bfe7c5b2e').text(' 37%');"
       ],
       "metadata": {},
       "output_type": "display_data",
       "text": [
        "<IPython.core.display.Javascript at 0x14d14dd8>"
       ]
      },
      {
       "javascript": [
        "\n",
        "        var $myPB = $(\"div#b1592b65-aa1d-4500-a708-93b1fda4c24a\")\n",
        "        if ($myPB.hasClass('ui-progressbar')) {\n",
        "            $myPB.progressbar('value', 360);\n",
        "        } else {\n",
        "            $myPB.progressbar({value: 0, max: 971});\n",
        "        }\n",
        "        "
       ],
       "metadata": {},
       "output_type": "display_data",
       "text": [
        "<IPython.core.display.Javascript at 0x14d14b38>"
       ]
      },
      {
       "javascript": [
        "$('div#f1c5d705-f487-4301-90fd-7755fa0a02c8').text('ETA:  0:00:24');"
       ],
       "metadata": {},
       "output_type": "display_data",
       "text": [
        "<IPython.core.display.Javascript at 0x14d14b38>"
       ]
      },
      {
       "javascript": [
        "$('div#f432a049-1a38-405a-bd3a-267cc5e27dde').text('370 of 971');"
       ],
       "metadata": {},
       "output_type": "display_data",
       "text": [
        "<IPython.core.display.Javascript at 0x18c76e10>"
       ]
      },
      {
       "javascript": [
        "$('div#9b698331-1d7e-4083-ad53-749bfe7c5b2e').text(' 38%');"
       ],
       "metadata": {},
       "output_type": "display_data",
       "text": [
        "<IPython.core.display.Javascript at 0x18c765f8>"
       ]
      },
      {
       "javascript": [
        "\n",
        "        var $myPB = $(\"div#b1592b65-aa1d-4500-a708-93b1fda4c24a\")\n",
        "        if ($myPB.hasClass('ui-progressbar')) {\n",
        "            $myPB.progressbar('value', 370);\n",
        "        } else {\n",
        "            $myPB.progressbar({value: 0, max: 971});\n",
        "        }\n",
        "        "
       ],
       "metadata": {},
       "output_type": "display_data",
       "text": [
        "<IPython.core.display.Javascript at 0x18c766a0>"
       ]
      },
      {
       "javascript": [
        "$('div#f1c5d705-f487-4301-90fd-7755fa0a02c8').text('ETA:  0:00:24');"
       ],
       "metadata": {},
       "output_type": "display_data",
       "text": [
        "<IPython.core.display.Javascript at 0x18c76630>"
       ]
      },
      {
       "javascript": [
        "$('div#f432a049-1a38-405a-bd3a-267cc5e27dde').text('380 of 971');"
       ],
       "metadata": {},
       "output_type": "display_data",
       "text": [
        "<IPython.core.display.Javascript at 0x1ed637b8>"
       ]
      },
      {
       "javascript": [
        "$('div#9b698331-1d7e-4083-ad53-749bfe7c5b2e').text(' 39%');"
       ],
       "metadata": {},
       "output_type": "display_data",
       "text": [
        "<IPython.core.display.Javascript at 0x1ed63cf8>"
       ]
      },
      {
       "javascript": [
        "\n",
        "        var $myPB = $(\"div#b1592b65-aa1d-4500-a708-93b1fda4c24a\")\n",
        "        if ($myPB.hasClass('ui-progressbar')) {\n",
        "            $myPB.progressbar('value', 380);\n",
        "        } else {\n",
        "            $myPB.progressbar({value: 0, max: 971});\n",
        "        }\n",
        "        "
       ],
       "metadata": {},
       "output_type": "display_data",
       "text": [
        "<IPython.core.display.Javascript at 0x1ed63128>"
       ]
      },
      {
       "javascript": [
        "$('div#f1c5d705-f487-4301-90fd-7755fa0a02c8').text('ETA:  0:00:23');"
       ],
       "metadata": {},
       "output_type": "display_data",
       "text": [
        "<IPython.core.display.Javascript at 0x1ed63cc0>"
       ]
      },
      {
       "javascript": [
        "$('div#f432a049-1a38-405a-bd3a-267cc5e27dde').text('390 of 971');"
       ],
       "metadata": {},
       "output_type": "display_data",
       "text": [
        "<IPython.core.display.Javascript at 0x18b62c18>"
       ]
      },
      {
       "javascript": [
        "$('div#9b698331-1d7e-4083-ad53-749bfe7c5b2e').text(' 40%');"
       ],
       "metadata": {},
       "output_type": "display_data",
       "text": [
        "<IPython.core.display.Javascript at 0x18b629e8>"
       ]
      },
      {
       "javascript": [
        "\n",
        "        var $myPB = $(\"div#b1592b65-aa1d-4500-a708-93b1fda4c24a\")\n",
        "        if ($myPB.hasClass('ui-progressbar')) {\n",
        "            $myPB.progressbar('value', 390);\n",
        "        } else {\n",
        "            $myPB.progressbar({value: 0, max: 971});\n",
        "        }\n",
        "        "
       ],
       "metadata": {},
       "output_type": "display_data",
       "text": [
        "<IPython.core.display.Javascript at 0x18b62dd8>"
       ]
      },
      {
       "javascript": [
        "$('div#f1c5d705-f487-4301-90fd-7755fa0a02c8').text('ETA:  0:00:22');"
       ],
       "metadata": {},
       "output_type": "display_data",
       "text": [
        "<IPython.core.display.Javascript at 0x18b62a20>"
       ]
      },
      {
       "javascript": [
        "$('div#f432a049-1a38-405a-bd3a-267cc5e27dde').text('400 of 971');"
       ],
       "metadata": {},
       "output_type": "display_data",
       "text": [
        "<IPython.core.display.Javascript at 0x17d3eba8>"
       ]
      },
      {
       "javascript": [
        "$('div#9b698331-1d7e-4083-ad53-749bfe7c5b2e').text(' 41%');"
       ],
       "metadata": {},
       "output_type": "display_data",
       "text": [
        "<IPython.core.display.Javascript at 0x17d3eb38>"
       ]
      },
      {
       "javascript": [
        "\n",
        "        var $myPB = $(\"div#b1592b65-aa1d-4500-a708-93b1fda4c24a\")\n",
        "        if ($myPB.hasClass('ui-progressbar')) {\n",
        "            $myPB.progressbar('value', 400);\n",
        "        } else {\n",
        "            $myPB.progressbar({value: 0, max: 971});\n",
        "        }\n",
        "        "
       ],
       "metadata": {},
       "output_type": "display_data",
       "text": [
        "<IPython.core.display.Javascript at 0x17d3ec50>"
       ]
      },
      {
       "javascript": [
        "$('div#f1c5d705-f487-4301-90fd-7755fa0a02c8').text('ETA:  0:00:22');"
       ],
       "metadata": {},
       "output_type": "display_data",
       "text": [
        "<IPython.core.display.Javascript at 0x17d3ec50>"
       ]
      },
      {
       "javascript": [
        "$('div#f432a049-1a38-405a-bd3a-267cc5e27dde').text('410 of 971');"
       ],
       "metadata": {},
       "output_type": "display_data",
       "text": [
        "<IPython.core.display.Javascript at 0x1afa5b00>"
       ]
      },
      {
       "javascript": [
        "$('div#9b698331-1d7e-4083-ad53-749bfe7c5b2e').text(' 42%');"
       ],
       "metadata": {},
       "output_type": "display_data",
       "text": [
        "<IPython.core.display.Javascript at 0x1afa5710>"
       ]
      },
      {
       "javascript": [
        "\n",
        "        var $myPB = $(\"div#b1592b65-aa1d-4500-a708-93b1fda4c24a\")\n",
        "        if ($myPB.hasClass('ui-progressbar')) {\n",
        "            $myPB.progressbar('value', 410);\n",
        "        } else {\n",
        "            $myPB.progressbar({value: 0, max: 971});\n",
        "        }\n",
        "        "
       ],
       "metadata": {},
       "output_type": "display_data",
       "text": [
        "<IPython.core.display.Javascript at 0x1afa5710>"
       ]
      },
      {
       "javascript": [
        "$('div#f1c5d705-f487-4301-90fd-7755fa0a02c8').text('ETA:  0:00:21');"
       ],
       "metadata": {},
       "output_type": "display_data",
       "text": [
        "<IPython.core.display.Javascript at 0x1afa5908>"
       ]
      },
      {
       "javascript": [
        "$('div#f432a049-1a38-405a-bd3a-267cc5e27dde').text('420 of 971');"
       ],
       "metadata": {},
       "output_type": "display_data",
       "text": [
        "<IPython.core.display.Javascript at 0x165e9f60>"
       ]
      },
      {
       "javascript": [
        "$('div#9b698331-1d7e-4083-ad53-749bfe7c5b2e').text(' 43%');"
       ],
       "metadata": {},
       "output_type": "display_data",
       "text": [
        "<IPython.core.display.Javascript at 0x165e9748>"
       ]
      },
      {
       "javascript": [
        "\n",
        "        var $myPB = $(\"div#b1592b65-aa1d-4500-a708-93b1fda4c24a\")\n",
        "        if ($myPB.hasClass('ui-progressbar')) {\n",
        "            $myPB.progressbar('value', 420);\n",
        "        } else {\n",
        "            $myPB.progressbar({value: 0, max: 971});\n",
        "        }\n",
        "        "
       ],
       "metadata": {},
       "output_type": "display_data",
       "text": [
        "<IPython.core.display.Javascript at 0x165e9748>"
       ]
      },
      {
       "javascript": [
        "$('div#f1c5d705-f487-4301-90fd-7755fa0a02c8').text('ETA:  0:00:21');"
       ],
       "metadata": {},
       "output_type": "display_data",
       "text": [
        "<IPython.core.display.Javascript at 0x165e96d8>"
       ]
      },
      {
       "javascript": [
        "$('div#f432a049-1a38-405a-bd3a-267cc5e27dde').text('430 of 971');"
       ],
       "metadata": {},
       "output_type": "display_data",
       "text": [
        "<IPython.core.display.Javascript at 0x18369470>"
       ]
      },
      {
       "javascript": [
        "$('div#9b698331-1d7e-4083-ad53-749bfe7c5b2e').text(' 44%');"
       ],
       "metadata": {},
       "output_type": "display_data",
       "text": [
        "<IPython.core.display.Javascript at 0x18369518>"
       ]
      },
      {
       "javascript": [
        "\n",
        "        var $myPB = $(\"div#b1592b65-aa1d-4500-a708-93b1fda4c24a\")\n",
        "        if ($myPB.hasClass('ui-progressbar')) {\n",
        "            $myPB.progressbar('value', 430);\n",
        "        } else {\n",
        "            $myPB.progressbar({value: 0, max: 971});\n",
        "        }\n",
        "        "
       ],
       "metadata": {},
       "output_type": "display_data",
       "text": [
        "<IPython.core.display.Javascript at 0x183694e0>"
       ]
      },
      {
       "javascript": [
        "$('div#f1c5d705-f487-4301-90fd-7755fa0a02c8').text('ETA:  0:00:20');"
       ],
       "metadata": {},
       "output_type": "display_data",
       "text": [
        "<IPython.core.display.Javascript at 0x18369240>"
       ]
      },
      {
       "javascript": [
        "$('div#f432a049-1a38-405a-bd3a-267cc5e27dde').text('440 of 971');"
       ],
       "metadata": {},
       "output_type": "display_data",
       "text": [
        "<IPython.core.display.Javascript at 0x157b5da0>"
       ]
      },
      {
       "javascript": [
        "$('div#9b698331-1d7e-4083-ad53-749bfe7c5b2e').text(' 45%');"
       ],
       "metadata": {},
       "output_type": "display_data",
       "text": [
        "<IPython.core.display.Javascript at 0x157b5358>"
       ]
      },
      {
       "javascript": [
        "\n",
        "        var $myPB = $(\"div#b1592b65-aa1d-4500-a708-93b1fda4c24a\")\n",
        "        if ($myPB.hasClass('ui-progressbar')) {\n",
        "            $myPB.progressbar('value', 440);\n",
        "        } else {\n",
        "            $myPB.progressbar({value: 0, max: 971});\n",
        "        }\n",
        "        "
       ],
       "metadata": {},
       "output_type": "display_data",
       "text": [
        "<IPython.core.display.Javascript at 0x157b5358>"
       ]
      },
      {
       "javascript": [
        "$('div#f1c5d705-f487-4301-90fd-7755fa0a02c8').text('ETA:  0:00:20');"
       ],
       "metadata": {},
       "output_type": "display_data",
       "text": [
        "<IPython.core.display.Javascript at 0x157b5780>"
       ]
      },
      {
       "javascript": [
        "$('div#f432a049-1a38-405a-bd3a-267cc5e27dde').text('450 of 971');"
       ],
       "metadata": {},
       "output_type": "display_data",
       "text": [
        "<IPython.core.display.Javascript at 0x1f387470>"
       ]
      },
      {
       "javascript": [
        "$('div#9b698331-1d7e-4083-ad53-749bfe7c5b2e').text(' 46%');"
       ],
       "metadata": {},
       "output_type": "display_data",
       "text": [
        "<IPython.core.display.Javascript at 0x1c056ef0>"
       ]
      },
      {
       "javascript": [
        "\n",
        "        var $myPB = $(\"div#b1592b65-aa1d-4500-a708-93b1fda4c24a\")\n",
        "        if ($myPB.hasClass('ui-progressbar')) {\n",
        "            $myPB.progressbar('value', 450);\n",
        "        } else {\n",
        "            $myPB.progressbar({value: 0, max: 971});\n",
        "        }\n",
        "        "
       ],
       "metadata": {},
       "output_type": "display_data",
       "text": [
        "<IPython.core.display.Javascript at 0x1c0569e8>"
       ]
      },
      {
       "javascript": [
        "$('div#f1c5d705-f487-4301-90fd-7755fa0a02c8').text('ETA:  0:00:20');"
       ],
       "metadata": {},
       "output_type": "display_data",
       "text": [
        "<IPython.core.display.Javascript at 0x1c056940>"
       ]
      },
      {
       "javascript": [
        "$('div#f432a049-1a38-405a-bd3a-267cc5e27dde').text('460 of 971');"
       ],
       "metadata": {},
       "output_type": "display_data",
       "text": [
        "<IPython.core.display.Javascript at 0x1c959f28>"
       ]
      },
      {
       "javascript": [
        "$('div#9b698331-1d7e-4083-ad53-749bfe7c5b2e').text(' 47%');"
       ],
       "metadata": {},
       "output_type": "display_data",
       "text": [
        "<IPython.core.display.Javascript at 0x1c959b00>"
       ]
      },
      {
       "javascript": [
        "\n",
        "        var $myPB = $(\"div#b1592b65-aa1d-4500-a708-93b1fda4c24a\")\n",
        "        if ($myPB.hasClass('ui-progressbar')) {\n",
        "            $myPB.progressbar('value', 460);\n",
        "        } else {\n",
        "            $myPB.progressbar({value: 0, max: 971});\n",
        "        }\n",
        "        "
       ],
       "metadata": {},
       "output_type": "display_data",
       "text": [
        "<IPython.core.display.Javascript at 0x1c9594a8>"
       ]
      },
      {
       "javascript": [
        "$('div#f1c5d705-f487-4301-90fd-7755fa0a02c8').text('ETA:  0:00:20');"
       ],
       "metadata": {},
       "output_type": "display_data",
       "text": [
        "<IPython.core.display.Javascript at 0x1c9594a8>"
       ]
      },
      {
       "javascript": [
        "$('div#f432a049-1a38-405a-bd3a-267cc5e27dde').text('470 of 971');"
       ],
       "metadata": {},
       "output_type": "display_data",
       "text": [
        "<IPython.core.display.Javascript at 0x1b461ac8>"
       ]
      },
      {
       "javascript": [
        "$('div#9b698331-1d7e-4083-ad53-749bfe7c5b2e').text(' 48%');"
       ],
       "metadata": {},
       "output_type": "display_data",
       "text": [
        "<IPython.core.display.Javascript at 0x1b461160>"
       ]
      },
      {
       "javascript": [
        "\n",
        "        var $myPB = $(\"div#b1592b65-aa1d-4500-a708-93b1fda4c24a\")\n",
        "        if ($myPB.hasClass('ui-progressbar')) {\n",
        "            $myPB.progressbar('value', 470);\n",
        "        } else {\n",
        "            $myPB.progressbar({value: 0, max: 971});\n",
        "        }\n",
        "        "
       ],
       "metadata": {},
       "output_type": "display_data",
       "text": [
        "<IPython.core.display.Javascript at 0x1b461748>"
       ]
      },
      {
       "javascript": [
        "$('div#f1c5d705-f487-4301-90fd-7755fa0a02c8').text('ETA:  0:00:21');"
       ],
       "metadata": {},
       "output_type": "display_data",
       "text": [
        "<IPython.core.display.Javascript at 0x1b461748>"
       ]
      },
      {
       "javascript": [
        "$('div#f432a049-1a38-405a-bd3a-267cc5e27dde').text('478 of 971');"
       ],
       "metadata": {},
       "output_type": "display_data",
       "text": [
        "<IPython.core.display.Javascript at 0x13baea58>"
       ]
      },
      {
       "javascript": [
        "$('div#9b698331-1d7e-4083-ad53-749bfe7c5b2e').text(' 49%');"
       ],
       "metadata": {},
       "output_type": "display_data",
       "text": [
        "<IPython.core.display.Javascript at 0x13baecf8>"
       ]
      },
      {
       "javascript": [
        "\n",
        "        var $myPB = $(\"div#b1592b65-aa1d-4500-a708-93b1fda4c24a\")\n",
        "        if ($myPB.hasClass('ui-progressbar')) {\n",
        "            $myPB.progressbar('value', 478);\n",
        "        } else {\n",
        "            $myPB.progressbar({value: 0, max: 971});\n",
        "        }\n",
        "        "
       ],
       "metadata": {},
       "output_type": "display_data",
       "text": [
        "<IPython.core.display.Javascript at 0x13bae6a0>"
       ]
      },
      {
       "javascript": [
        "$('div#f1c5d705-f487-4301-90fd-7755fa0a02c8').text('ETA:  0:00:21');"
       ],
       "metadata": {},
       "output_type": "display_data",
       "text": [
        "<IPython.core.display.Javascript at 0x13bae4a8>"
       ]
      },
      {
       "javascript": [
        "$('div#f432a049-1a38-405a-bd3a-267cc5e27dde').text('481 of 971');"
       ],
       "metadata": {},
       "output_type": "display_data",
       "text": [
        "<IPython.core.display.Javascript at 0x1b934c18>"
       ]
      },
      {
       "javascript": [
        "$('div#9b698331-1d7e-4083-ad53-749bfe7c5b2e').text(' 49%');"
       ],
       "metadata": {},
       "output_type": "display_data",
       "text": [
        "<IPython.core.display.Javascript at 0x1b9345c0>"
       ]
      },
      {
       "javascript": [
        "\n",
        "        var $myPB = $(\"div#b1592b65-aa1d-4500-a708-93b1fda4c24a\")\n",
        "        if ($myPB.hasClass('ui-progressbar')) {\n",
        "            $myPB.progressbar('value', 481);\n",
        "        } else {\n",
        "            $myPB.progressbar({value: 0, max: 971});\n",
        "        }\n",
        "        "
       ],
       "metadata": {},
       "output_type": "display_data",
       "text": [
        "<IPython.core.display.Javascript at 0x1b934d68>"
       ]
      },
      {
       "javascript": [
        "$('div#f1c5d705-f487-4301-90fd-7755fa0a02c8').text('ETA:  0:00:23');"
       ],
       "metadata": {},
       "output_type": "display_data",
       "text": [
        "<IPython.core.display.Javascript at 0x1b934898>"
       ]
      },
      {
       "javascript": [
        "$('div#f432a049-1a38-405a-bd3a-267cc5e27dde').text('483 of 971');"
       ],
       "metadata": {},
       "output_type": "display_data",
       "text": [
        "<IPython.core.display.Javascript at 0x1b8365c0>"
       ]
      },
      {
       "javascript": [
        "$('div#9b698331-1d7e-4083-ad53-749bfe7c5b2e').text(' 49%');"
       ],
       "metadata": {},
       "output_type": "display_data",
       "text": [
        "<IPython.core.display.Javascript at 0x1b836630>"
       ]
      },
      {
       "javascript": [
        "\n",
        "        var $myPB = $(\"div#b1592b65-aa1d-4500-a708-93b1fda4c24a\")\n",
        "        if ($myPB.hasClass('ui-progressbar')) {\n",
        "            $myPB.progressbar('value', 483);\n",
        "        } else {\n",
        "            $myPB.progressbar({value: 0, max: 971});\n",
        "        }\n",
        "        "
       ],
       "metadata": {},
       "output_type": "display_data",
       "text": [
        "<IPython.core.display.Javascript at 0x1b836470>"
       ]
      },
      {
       "javascript": [
        "$('div#f1c5d705-f487-4301-90fd-7755fa0a02c8').text('ETA:  0:00:25');"
       ],
       "metadata": {},
       "output_type": "display_data",
       "text": [
        "<IPython.core.display.Javascript at 0x1b836f60>"
       ]
      },
      {
       "javascript": [
        "$('div#f432a049-1a38-405a-bd3a-267cc5e27dde').text('485 of 971');"
       ],
       "metadata": {},
       "output_type": "display_data",
       "text": [
        "<IPython.core.display.Javascript at 0x1c6dc828>"
       ]
      },
      {
       "javascript": [
        "$('div#9b698331-1d7e-4083-ad53-749bfe7c5b2e').text(' 49%');"
       ],
       "metadata": {},
       "output_type": "display_data",
       "text": [
        "<IPython.core.display.Javascript at 0x1c6dc898>"
       ]
      },
      {
       "javascript": [
        "\n",
        "        var $myPB = $(\"div#b1592b65-aa1d-4500-a708-93b1fda4c24a\")\n",
        "        if ($myPB.hasClass('ui-progressbar')) {\n",
        "            $myPB.progressbar('value', 485);\n",
        "        } else {\n",
        "            $myPB.progressbar({value: 0, max: 971});\n",
        "        }\n",
        "        "
       ],
       "metadata": {},
       "output_type": "display_data",
       "text": [
        "<IPython.core.display.Javascript at 0x1c6dc780>"
       ]
      },
      {
       "javascript": [
        "$('div#f1c5d705-f487-4301-90fd-7755fa0a02c8').text('ETA:  0:00:26');"
       ],
       "metadata": {},
       "output_type": "display_data",
       "text": [
        "<IPython.core.display.Javascript at 0x1c6dc160>"
       ]
      },
      {
       "javascript": [
        "$('div#f432a049-1a38-405a-bd3a-267cc5e27dde').text('490 of 971');"
       ],
       "metadata": {},
       "output_type": "display_data",
       "text": [
        "<IPython.core.display.Javascript at 0x143acbe0>"
       ]
      },
      {
       "javascript": [
        "$('div#9b698331-1d7e-4083-ad53-749bfe7c5b2e').text(' 50%');"
       ],
       "metadata": {},
       "output_type": "display_data",
       "text": [
        "<IPython.core.display.Javascript at 0x143ac940>"
       ]
      },
      {
       "javascript": [
        "\n",
        "        var $myPB = $(\"div#b1592b65-aa1d-4500-a708-93b1fda4c24a\")\n",
        "        if ($myPB.hasClass('ui-progressbar')) {\n",
        "            $myPB.progressbar('value', 490);\n",
        "        } else {\n",
        "            $myPB.progressbar({value: 0, max: 971});\n",
        "        }\n",
        "        "
       ],
       "metadata": {},
       "output_type": "display_data",
       "text": [
        "<IPython.core.display.Javascript at 0x143ac978>"
       ]
      },
      {
       "javascript": [
        "$('div#f1c5d705-f487-4301-90fd-7755fa0a02c8').text('ETA:  0:00:26');"
       ],
       "metadata": {},
       "output_type": "display_data",
       "text": [
        "<IPython.core.display.Javascript at 0x143ac358>"
       ]
      },
      {
       "javascript": [
        "$('div#f432a049-1a38-405a-bd3a-267cc5e27dde').text('495 of 971');"
       ],
       "metadata": {},
       "output_type": "display_data",
       "text": [
        "<IPython.core.display.Javascript at 0x1f603a90>"
       ]
      },
      {
       "javascript": [
        "$('div#9b698331-1d7e-4083-ad53-749bfe7c5b2e').text(' 50%');"
       ],
       "metadata": {},
       "output_type": "display_data",
       "text": [
        "<IPython.core.display.Javascript at 0x1f603198>"
       ]
      },
      {
       "javascript": [
        "\n",
        "        var $myPB = $(\"div#b1592b65-aa1d-4500-a708-93b1fda4c24a\")\n",
        "        if ($myPB.hasClass('ui-progressbar')) {\n",
        "            $myPB.progressbar('value', 495);\n",
        "        } else {\n",
        "            $myPB.progressbar({value: 0, max: 971});\n",
        "        }\n",
        "        "
       ],
       "metadata": {},
       "output_type": "display_data",
       "text": [
        "<IPython.core.display.Javascript at 0x1f603198>"
       ]
      },
      {
       "javascript": [
        "$('div#f1c5d705-f487-4301-90fd-7755fa0a02c8').text('ETA:  0:00:27');"
       ],
       "metadata": {},
       "output_type": "display_data",
       "text": [
        "<IPython.core.display.Javascript at 0x1f603c88>"
       ]
      },
      {
       "javascript": [
        "$('div#f432a049-1a38-405a-bd3a-267cc5e27dde').text('505 of 971');"
       ],
       "metadata": {},
       "output_type": "display_data",
       "text": [
        "<IPython.core.display.Javascript at 0x1af99cf8>"
       ]
      },
      {
       "javascript": [
        "$('div#9b698331-1d7e-4083-ad53-749bfe7c5b2e').text(' 52%');"
       ],
       "metadata": {},
       "output_type": "display_data",
       "text": [
        "<IPython.core.display.Javascript at 0x1af99748>"
       ]
      },
      {
       "javascript": [
        "\n",
        "        var $myPB = $(\"div#b1592b65-aa1d-4500-a708-93b1fda4c24a\")\n",
        "        if ($myPB.hasClass('ui-progressbar')) {\n",
        "            $myPB.progressbar('value', 505);\n",
        "        } else {\n",
        "            $myPB.progressbar({value: 0, max: 971});\n",
        "        }\n",
        "        "
       ],
       "metadata": {},
       "output_type": "display_data",
       "text": [
        "<IPython.core.display.Javascript at 0x1af993c8>"
       ]
      },
      {
       "javascript": [
        "$('div#f1c5d705-f487-4301-90fd-7755fa0a02c8').text('ETA:  0:00:26');"
       ],
       "metadata": {},
       "output_type": "display_data",
       "text": [
        "<IPython.core.display.Javascript at 0x1af99780>"
       ]
      },
      {
       "javascript": [
        "$('div#f432a049-1a38-405a-bd3a-267cc5e27dde').text('515 of 971');"
       ],
       "metadata": {},
       "output_type": "display_data",
       "text": [
        "<IPython.core.display.Javascript at 0x1948ffd0>"
       ]
      },
      {
       "javascript": [
        "$('div#9b698331-1d7e-4083-ad53-749bfe7c5b2e').text(' 53%');"
       ],
       "metadata": {},
       "output_type": "display_data",
       "text": [
        "<IPython.core.display.Javascript at 0x1bd49f28>"
       ]
      },
      {
       "javascript": [
        "\n",
        "        var $myPB = $(\"div#b1592b65-aa1d-4500-a708-93b1fda4c24a\")\n",
        "        if ($myPB.hasClass('ui-progressbar')) {\n",
        "            $myPB.progressbar('value', 515);\n",
        "        } else {\n",
        "            $myPB.progressbar({value: 0, max: 971});\n",
        "        }\n",
        "        "
       ],
       "metadata": {},
       "output_type": "display_data",
       "text": [
        "<IPython.core.display.Javascript at 0x1bd491d0>"
       ]
      },
      {
       "javascript": [
        "$('div#f1c5d705-f487-4301-90fd-7755fa0a02c8').text('ETA:  0:00:26');"
       ],
       "metadata": {},
       "output_type": "display_data",
       "text": [
        "<IPython.core.display.Javascript at 0x1bd495f8>"
       ]
      },
      {
       "javascript": [
        "$('div#f432a049-1a38-405a-bd3a-267cc5e27dde').text('520 of 971');"
       ],
       "metadata": {},
       "output_type": "display_data",
       "text": [
        "<IPython.core.display.Javascript at 0x195c5d68>"
       ]
      },
      {
       "javascript": [
        "$('div#9b698331-1d7e-4083-ad53-749bfe7c5b2e').text(' 53%');"
       ],
       "metadata": {},
       "output_type": "display_data",
       "text": [
        "<IPython.core.display.Javascript at 0x195c5400>"
       ]
      },
      {
       "javascript": [
        "\n",
        "        var $myPB = $(\"div#b1592b65-aa1d-4500-a708-93b1fda4c24a\")\n",
        "        if ($myPB.hasClass('ui-progressbar')) {\n",
        "            $myPB.progressbar('value', 520);\n",
        "        } else {\n",
        "            $myPB.progressbar({value: 0, max: 971});\n",
        "        }\n",
        "        "
       ],
       "metadata": {},
       "output_type": "display_data",
       "text": [
        "<IPython.core.display.Javascript at 0x195c5b70>"
       ]
      },
      {
       "javascript": [
        "$('div#f1c5d705-f487-4301-90fd-7755fa0a02c8').text('ETA:  0:00:26');"
       ],
       "metadata": {},
       "output_type": "display_data",
       "text": [
        "<IPython.core.display.Javascript at 0x195c5160>"
       ]
      },
      {
       "javascript": [
        "$('div#f432a049-1a38-405a-bd3a-267cc5e27dde').text('522 of 971');"
       ],
       "metadata": {},
       "output_type": "display_data",
       "text": [
        "<IPython.core.display.Javascript at 0x1b6032b0>"
       ]
      },
      {
       "javascript": [
        "$('div#9b698331-1d7e-4083-ad53-749bfe7c5b2e').text(' 53%');"
       ],
       "metadata": {},
       "output_type": "display_data",
       "text": [
        "<IPython.core.display.Javascript at 0x1b6035c0>"
       ]
      },
      {
       "javascript": [
        "\n",
        "        var $myPB = $(\"div#b1592b65-aa1d-4500-a708-93b1fda4c24a\")\n",
        "        if ($myPB.hasClass('ui-progressbar')) {\n",
        "            $myPB.progressbar('value', 522);\n",
        "        } else {\n",
        "            $myPB.progressbar({value: 0, max: 971});\n",
        "        }\n",
        "        "
       ],
       "metadata": {},
       "output_type": "display_data",
       "text": [
        "<IPython.core.display.Javascript at 0x1b603f28>"
       ]
      },
      {
       "javascript": [
        "$('div#f1c5d705-f487-4301-90fd-7755fa0a02c8').text('ETA:  0:00:27');"
       ],
       "metadata": {},
       "output_type": "display_data",
       "text": [
        "<IPython.core.display.Javascript at 0x1b603518>"
       ]
      },
      {
       "javascript": [
        "$('div#f432a049-1a38-405a-bd3a-267cc5e27dde').text('527 of 971');"
       ],
       "metadata": {},
       "output_type": "display_data",
       "text": [
        "<IPython.core.display.Javascript at 0x16cd40b8>"
       ]
      },
      {
       "javascript": [
        "$('div#9b698331-1d7e-4083-ad53-749bfe7c5b2e').text(' 54%');"
       ],
       "metadata": {},
       "output_type": "display_data",
       "text": [
        "<IPython.core.display.Javascript at 0x16cd4f28>"
       ]
      },
      {
       "javascript": [
        "\n",
        "        var $myPB = $(\"div#b1592b65-aa1d-4500-a708-93b1fda4c24a\")\n",
        "        if ($myPB.hasClass('ui-progressbar')) {\n",
        "            $myPB.progressbar('value', 527);\n",
        "        } else {\n",
        "            $myPB.progressbar({value: 0, max: 971});\n",
        "        }\n",
        "        "
       ],
       "metadata": {},
       "output_type": "display_data",
       "text": [
        "<IPython.core.display.Javascript at 0x16cd4b38>"
       ]
      },
      {
       "javascript": [
        "$('div#f1c5d705-f487-4301-90fd-7755fa0a02c8').text('ETA:  0:00:27');"
       ],
       "metadata": {},
       "output_type": "display_data",
       "text": [
        "<IPython.core.display.Javascript at 0x16cd4400>"
       ]
      },
      {
       "javascript": [
        "$('div#f432a049-1a38-405a-bd3a-267cc5e27dde').text('531 of 971');"
       ],
       "metadata": {},
       "output_type": "display_data",
       "text": [
        "<IPython.core.display.Javascript at 0x170fce48>"
       ]
      },
      {
       "javascript": [
        "$('div#9b698331-1d7e-4083-ad53-749bfe7c5b2e').text(' 54%');"
       ],
       "metadata": {},
       "output_type": "display_data",
       "text": [
        "<IPython.core.display.Javascript at 0x170fcef0>"
       ]
      },
      {
       "javascript": [
        "\n",
        "        var $myPB = $(\"div#b1592b65-aa1d-4500-a708-93b1fda4c24a\")\n",
        "        if ($myPB.hasClass('ui-progressbar')) {\n",
        "            $myPB.progressbar('value', 531);\n",
        "        } else {\n",
        "            $myPB.progressbar({value: 0, max: 971});\n",
        "        }\n",
        "        "
       ],
       "metadata": {},
       "output_type": "display_data",
       "text": [
        "<IPython.core.display.Javascript at 0x170fcf28>"
       ]
      },
      {
       "javascript": [
        "$('div#f1c5d705-f487-4301-90fd-7755fa0a02c8').text('ETA:  0:00:28');"
       ],
       "metadata": {},
       "output_type": "display_data",
       "text": [
        "<IPython.core.display.Javascript at 0x170fcf98>"
       ]
      },
      {
       "javascript": [
        "$('div#f432a049-1a38-405a-bd3a-267cc5e27dde').text('538 of 971');"
       ],
       "metadata": {},
       "output_type": "display_data",
       "text": [
        "<IPython.core.display.Javascript at 0x1704db38>"
       ]
      },
      {
       "javascript": [
        "$('div#9b698331-1d7e-4083-ad53-749bfe7c5b2e').text(' 55%');"
       ],
       "metadata": {},
       "output_type": "display_data",
       "text": [
        "<IPython.core.display.Javascript at 0x1704deb8>"
       ]
      },
      {
       "javascript": [
        "\n",
        "        var $myPB = $(\"div#b1592b65-aa1d-4500-a708-93b1fda4c24a\")\n",
        "        if ($myPB.hasClass('ui-progressbar')) {\n",
        "            $myPB.progressbar('value', 538);\n",
        "        } else {\n",
        "            $myPB.progressbar({value: 0, max: 971});\n",
        "        }\n",
        "        "
       ],
       "metadata": {},
       "output_type": "display_data",
       "text": [
        "<IPython.core.display.Javascript at 0x1704da90>"
       ]
      },
      {
       "javascript": [
        "$('div#f1c5d705-f487-4301-90fd-7755fa0a02c8').text('ETA:  0:00:28');"
       ],
       "metadata": {},
       "output_type": "display_data",
       "text": [
        "<IPython.core.display.Javascript at 0x1704d6a0>"
       ]
      },
      {
       "javascript": [
        "$('div#f432a049-1a38-405a-bd3a-267cc5e27dde').text('541 of 971');"
       ],
       "metadata": {},
       "output_type": "display_data",
       "text": [
        "<IPython.core.display.Javascript at 0x1c920400>"
       ]
      },
      {
       "javascript": [
        "$('div#9b698331-1d7e-4083-ad53-749bfe7c5b2e').text(' 55%');"
       ],
       "metadata": {},
       "output_type": "display_data",
       "text": [
        "<IPython.core.display.Javascript at 0x1c920518>"
       ]
      },
      {
       "javascript": [
        "\n",
        "        var $myPB = $(\"div#b1592b65-aa1d-4500-a708-93b1fda4c24a\")\n",
        "        if ($myPB.hasClass('ui-progressbar')) {\n",
        "            $myPB.progressbar('value', 541);\n",
        "        } else {\n",
        "            $myPB.progressbar({value: 0, max: 971});\n",
        "        }\n",
        "        "
       ],
       "metadata": {},
       "output_type": "display_data",
       "text": [
        "<IPython.core.display.Javascript at 0x1c920710>"
       ]
      },
      {
       "javascript": [
        "$('div#f1c5d705-f487-4301-90fd-7755fa0a02c8').text('ETA:  0:00:28');"
       ],
       "metadata": {},
       "output_type": "display_data",
       "text": [
        "<IPython.core.display.Javascript at 0x1c920b00>"
       ]
      },
      {
       "javascript": [
        "$('div#f432a049-1a38-405a-bd3a-267cc5e27dde').text('545 of 971');"
       ],
       "metadata": {},
       "output_type": "display_data",
       "text": [
        "<IPython.core.display.Javascript at 0x18efe710>"
       ]
      },
      {
       "javascript": [
        "$('div#9b698331-1d7e-4083-ad53-749bfe7c5b2e').text(' 56%');"
       ],
       "metadata": {},
       "output_type": "display_data",
       "text": [
        "<IPython.core.display.Javascript at 0x18efec88>"
       ]
      },
      {
       "javascript": [
        "\n",
        "        var $myPB = $(\"div#b1592b65-aa1d-4500-a708-93b1fda4c24a\")\n",
        "        if ($myPB.hasClass('ui-progressbar')) {\n",
        "            $myPB.progressbar('value', 545);\n",
        "        } else {\n",
        "            $myPB.progressbar({value: 0, max: 971});\n",
        "        }\n",
        "        "
       ],
       "metadata": {},
       "output_type": "display_data",
       "text": [
        "<IPython.core.display.Javascript at 0x18efe4e0>"
       ]
      },
      {
       "javascript": [
        "$('div#f1c5d705-f487-4301-90fd-7755fa0a02c8').text('ETA:  0:00:29');"
       ],
       "metadata": {},
       "output_type": "display_data",
       "text": [
        "<IPython.core.display.Javascript at 0x18efea58>"
       ]
      },
      {
       "javascript": [
        "$('div#f432a049-1a38-405a-bd3a-267cc5e27dde').text('547 of 971');"
       ],
       "metadata": {},
       "output_type": "display_data",
       "text": [
        "<IPython.core.display.Javascript at 0x1867c5c0>"
       ]
      },
      {
       "javascript": [
        "$('div#9b698331-1d7e-4083-ad53-749bfe7c5b2e').text(' 56%');"
       ],
       "metadata": {},
       "output_type": "display_data",
       "text": [
        "<IPython.core.display.Javascript at 0x1867cd68>"
       ]
      },
      {
       "javascript": [
        "\n",
        "        var $myPB = $(\"div#b1592b65-aa1d-4500-a708-93b1fda4c24a\")\n",
        "        if ($myPB.hasClass('ui-progressbar')) {\n",
        "            $myPB.progressbar('value', 547);\n",
        "        } else {\n",
        "            $myPB.progressbar({value: 0, max: 971});\n",
        "        }\n",
        "        "
       ],
       "metadata": {},
       "output_type": "display_data",
       "text": [
        "<IPython.core.display.Javascript at 0x1867ccc0>"
       ]
      },
      {
       "javascript": [
        "$('div#f1c5d705-f487-4301-90fd-7755fa0a02c8').text('ETA:  0:00:29');"
       ],
       "metadata": {},
       "output_type": "display_data",
       "text": [
        "<IPython.core.display.Javascript at 0x1867c470>"
       ]
      },
      {
       "javascript": [
        "$('div#f432a049-1a38-405a-bd3a-267cc5e27dde').text('554 of 971');"
       ],
       "metadata": {},
       "output_type": "display_data",
       "text": [
        "<IPython.core.display.Javascript at 0x1772b208>"
       ]
      },
      {
       "javascript": [
        "$('div#9b698331-1d7e-4083-ad53-749bfe7c5b2e').text(' 57%');"
       ],
       "metadata": {},
       "output_type": "display_data",
       "text": [
        "<IPython.core.display.Javascript at 0x1772b908>"
       ]
      },
      {
       "javascript": [
        "\n",
        "        var $myPB = $(\"div#b1592b65-aa1d-4500-a708-93b1fda4c24a\")\n",
        "        if ($myPB.hasClass('ui-progressbar')) {\n",
        "            $myPB.progressbar('value', 554);\n",
        "        } else {\n",
        "            $myPB.progressbar({value: 0, max: 971});\n",
        "        }\n",
        "        "
       ],
       "metadata": {},
       "output_type": "display_data",
       "text": [
        "<IPython.core.display.Javascript at 0x1772b470>"
       ]
      },
      {
       "javascript": [
        "$('div#f1c5d705-f487-4301-90fd-7755fa0a02c8').text('ETA:  0:00:29');"
       ],
       "metadata": {},
       "output_type": "display_data",
       "text": [
        "<IPython.core.display.Javascript at 0x1772bc50>"
       ]
      },
      {
       "javascript": [
        "$('div#f432a049-1a38-405a-bd3a-267cc5e27dde').text('561 of 971');"
       ],
       "metadata": {},
       "output_type": "display_data",
       "text": [
        "<IPython.core.display.Javascript at 0x1c4fa5c0>"
       ]
      },
      {
       "javascript": [
        "$('div#9b698331-1d7e-4083-ad53-749bfe7c5b2e').text(' 57%');"
       ],
       "metadata": {},
       "output_type": "display_data",
       "text": [
        "<IPython.core.display.Javascript at 0x1c4fa208>"
       ]
      },
      {
       "javascript": [
        "\n",
        "        var $myPB = $(\"div#b1592b65-aa1d-4500-a708-93b1fda4c24a\")\n",
        "        if ($myPB.hasClass('ui-progressbar')) {\n",
        "            $myPB.progressbar('value', 561);\n",
        "        } else {\n",
        "            $myPB.progressbar({value: 0, max: 971});\n",
        "        }\n",
        "        "
       ],
       "metadata": {},
       "output_type": "display_data",
       "text": [
        "<IPython.core.display.Javascript at 0x1c4fab00>"
       ]
      },
      {
       "javascript": [
        "$('div#f1c5d705-f487-4301-90fd-7755fa0a02c8').text('ETA:  0:00:29');"
       ],
       "metadata": {},
       "output_type": "display_data",
       "text": [
        "<IPython.core.display.Javascript at 0x1c4fa908>"
       ]
      },
      {
       "javascript": [
        "$('div#f432a049-1a38-405a-bd3a-267cc5e27dde').text('571 of 971');"
       ],
       "metadata": {},
       "output_type": "display_data",
       "text": [
        "<IPython.core.display.Javascript at 0x182fbba8>"
       ]
      },
      {
       "javascript": [
        "$('div#9b698331-1d7e-4083-ad53-749bfe7c5b2e').text(' 58%');"
       ],
       "metadata": {},
       "output_type": "display_data",
       "text": [
        "<IPython.core.display.Javascript at 0x182fbbe0>"
       ]
      },
      {
       "javascript": [
        "\n",
        "        var $myPB = $(\"div#b1592b65-aa1d-4500-a708-93b1fda4c24a\")\n",
        "        if ($myPB.hasClass('ui-progressbar')) {\n",
        "            $myPB.progressbar('value', 571);\n",
        "        } else {\n",
        "            $myPB.progressbar({value: 0, max: 971});\n",
        "        }\n",
        "        "
       ],
       "metadata": {},
       "output_type": "display_data",
       "text": [
        "<IPython.core.display.Javascript at 0x182fb5f8>"
       ]
      },
      {
       "javascript": [
        "$('div#f1c5d705-f487-4301-90fd-7755fa0a02c8').text('ETA:  0:00:28');"
       ],
       "metadata": {},
       "output_type": "display_data",
       "text": [
        "<IPython.core.display.Javascript at 0x182fb5f8>"
       ]
      },
      {
       "javascript": [
        "$('div#f432a049-1a38-405a-bd3a-267cc5e27dde').text('581 of 971');"
       ],
       "metadata": {},
       "output_type": "display_data",
       "text": [
        "<IPython.core.display.Javascript at 0x175d13c8>"
       ]
      },
      {
       "javascript": [
        "$('div#9b698331-1d7e-4083-ad53-749bfe7c5b2e').text(' 59%');"
       ],
       "metadata": {},
       "output_type": "display_data",
       "text": [
        "<IPython.core.display.Javascript at 0x175d18d0>"
       ]
      },
      {
       "javascript": [
        "\n",
        "        var $myPB = $(\"div#b1592b65-aa1d-4500-a708-93b1fda4c24a\")\n",
        "        if ($myPB.hasClass('ui-progressbar')) {\n",
        "            $myPB.progressbar('value', 581);\n",
        "        } else {\n",
        "            $myPB.progressbar({value: 0, max: 971});\n",
        "        }\n",
        "        "
       ],
       "metadata": {},
       "output_type": "display_data",
       "text": [
        "<IPython.core.display.Javascript at 0x175d1320>"
       ]
      },
      {
       "javascript": [
        "$('div#f1c5d705-f487-4301-90fd-7755fa0a02c8').text('ETA:  0:00:27');"
       ],
       "metadata": {},
       "output_type": "display_data",
       "text": [
        "<IPython.core.display.Javascript at 0x175d1320>"
       ]
      },
      {
       "javascript": [
        "$('div#f432a049-1a38-405a-bd3a-267cc5e27dde').text('591 of 971');"
       ],
       "metadata": {},
       "output_type": "display_data",
       "text": [
        "<IPython.core.display.Javascript at 0x18852a20>"
       ]
      },
      {
       "javascript": [
        "$('div#9b698331-1d7e-4083-ad53-749bfe7c5b2e').text(' 60%');"
       ],
       "metadata": {},
       "output_type": "display_data",
       "text": [
        "<IPython.core.display.Javascript at 0x188522b0>"
       ]
      },
      {
       "javascript": [
        "\n",
        "        var $myPB = $(\"div#b1592b65-aa1d-4500-a708-93b1fda4c24a\")\n",
        "        if ($myPB.hasClass('ui-progressbar')) {\n",
        "            $myPB.progressbar('value', 591);\n",
        "        } else {\n",
        "            $myPB.progressbar({value: 0, max: 971});\n",
        "        }\n",
        "        "
       ],
       "metadata": {},
       "output_type": "display_data",
       "text": [
        "<IPython.core.display.Javascript at 0x18852898>"
       ]
      },
      {
       "javascript": [
        "$('div#f1c5d705-f487-4301-90fd-7755fa0a02c8').text('ETA:  0:00:26');"
       ],
       "metadata": {},
       "output_type": "display_data",
       "text": [
        "<IPython.core.display.Javascript at 0x18852898>"
       ]
      },
      {
       "javascript": [
        "$('div#f432a049-1a38-405a-bd3a-267cc5e27dde').text('601 of 971');"
       ],
       "metadata": {},
       "output_type": "display_data",
       "text": [
        "<IPython.core.display.Javascript at 0x15116d68>"
       ]
      },
      {
       "javascript": [
        "$('div#9b698331-1d7e-4083-ad53-749bfe7c5b2e').text(' 61%');"
       ],
       "metadata": {},
       "output_type": "display_data",
       "text": [
        "<IPython.core.display.Javascript at 0x15116cc0>"
       ]
      },
      {
       "javascript": [
        "\n",
        "        var $myPB = $(\"div#b1592b65-aa1d-4500-a708-93b1fda4c24a\")\n",
        "        if ($myPB.hasClass('ui-progressbar')) {\n",
        "            $myPB.progressbar('value', 601);\n",
        "        } else {\n",
        "            $myPB.progressbar({value: 0, max: 971});\n",
        "        }\n",
        "        "
       ],
       "metadata": {},
       "output_type": "display_data",
       "text": [
        "<IPython.core.display.Javascript at 0x15116748>"
       ]
      },
      {
       "javascript": [
        "$('div#f1c5d705-f487-4301-90fd-7755fa0a02c8').text('ETA:  0:00:25');"
       ],
       "metadata": {},
       "output_type": "display_data",
       "text": [
        "<IPython.core.display.Javascript at 0x15116748>"
       ]
      },
      {
       "javascript": [
        "$('div#f432a049-1a38-405a-bd3a-267cc5e27dde').text('611 of 971');"
       ],
       "metadata": {},
       "output_type": "display_data",
       "text": [
        "<IPython.core.display.Javascript at 0x13722400>"
       ]
      },
      {
       "javascript": [
        "$('div#9b698331-1d7e-4083-ad53-749bfe7c5b2e').text(' 62%');"
       ],
       "metadata": {},
       "output_type": "display_data",
       "text": [
        "<IPython.core.display.Javascript at 0x13722588>"
       ]
      },
      {
       "javascript": [
        "\n",
        "        var $myPB = $(\"div#b1592b65-aa1d-4500-a708-93b1fda4c24a\")\n",
        "        if ($myPB.hasClass('ui-progressbar')) {\n",
        "            $myPB.progressbar('value', 611);\n",
        "        } else {\n",
        "            $myPB.progressbar({value: 0, max: 971});\n",
        "        }\n",
        "        "
       ],
       "metadata": {},
       "output_type": "display_data",
       "text": [
        "<IPython.core.display.Javascript at 0x13722588>"
       ]
      },
      {
       "javascript": [
        "$('div#f1c5d705-f487-4301-90fd-7755fa0a02c8').text('ETA:  0:00:24');"
       ],
       "metadata": {},
       "output_type": "display_data",
       "text": [
        "<IPython.core.display.Javascript at 0x137225c0>"
       ]
      },
      {
       "javascript": [
        "$('div#f432a049-1a38-405a-bd3a-267cc5e27dde').text('621 of 971');"
       ],
       "metadata": {},
       "output_type": "display_data",
       "text": [
        "<IPython.core.display.Javascript at 0x17642e80>"
       ]
      },
      {
       "javascript": [
        "$('div#9b698331-1d7e-4083-ad53-749bfe7c5b2e').text(' 63%');"
       ],
       "metadata": {},
       "output_type": "display_data",
       "text": [
        "<IPython.core.display.Javascript at 0x17642f60>"
       ]
      },
      {
       "javascript": [
        "\n",
        "        var $myPB = $(\"div#b1592b65-aa1d-4500-a708-93b1fda4c24a\")\n",
        "        if ($myPB.hasClass('ui-progressbar')) {\n",
        "            $myPB.progressbar('value', 621);\n",
        "        } else {\n",
        "            $myPB.progressbar({value: 0, max: 971});\n",
        "        }\n",
        "        "
       ],
       "metadata": {},
       "output_type": "display_data",
       "text": [
        "<IPython.core.display.Javascript at 0x17642978>"
       ]
      },
      {
       "javascript": [
        "$('div#f1c5d705-f487-4301-90fd-7755fa0a02c8').text('ETA:  0:00:23');"
       ],
       "metadata": {},
       "output_type": "display_data",
       "text": [
        "<IPython.core.display.Javascript at 0x17642978>"
       ]
      },
      {
       "javascript": [
        "$('div#f432a049-1a38-405a-bd3a-267cc5e27dde').text('631 of 971');"
       ],
       "metadata": {},
       "output_type": "display_data",
       "text": [
        "<IPython.core.display.Javascript at 0x1ecdb128>"
       ]
      },
      {
       "javascript": [
        "$('div#9b698331-1d7e-4083-ad53-749bfe7c5b2e').text(' 64%');"
       ],
       "metadata": {},
       "output_type": "display_data",
       "text": [
        "<IPython.core.display.Javascript at 0x1b652400>"
       ]
      },
      {
       "javascript": [
        "\n",
        "        var $myPB = $(\"div#b1592b65-aa1d-4500-a708-93b1fda4c24a\")\n",
        "        if ($myPB.hasClass('ui-progressbar')) {\n",
        "            $myPB.progressbar('value', 631);\n",
        "        } else {\n",
        "            $myPB.progressbar({value: 0, max: 971});\n",
        "        }\n",
        "        "
       ],
       "metadata": {},
       "output_type": "display_data",
       "text": [
        "<IPython.core.display.Javascript at 0x1b6524e0>"
       ]
      },
      {
       "javascript": [
        "$('div#f1c5d705-f487-4301-90fd-7755fa0a02c8').text('ETA:  0:00:23');"
       ],
       "metadata": {},
       "output_type": "display_data",
       "text": [
        "<IPython.core.display.Javascript at 0x1b652240>"
       ]
      },
      {
       "javascript": [
        "$('div#f432a049-1a38-405a-bd3a-267cc5e27dde').text('641 of 971');"
       ],
       "metadata": {},
       "output_type": "display_data",
       "text": [
        "<IPython.core.display.Javascript at 0x1a772908>"
       ]
      },
      {
       "javascript": [
        "$('div#9b698331-1d7e-4083-ad53-749bfe7c5b2e').text(' 66%');"
       ],
       "metadata": {},
       "output_type": "display_data",
       "text": [
        "<IPython.core.display.Javascript at 0x1a772400>"
       ]
      },
      {
       "javascript": [
        "\n",
        "        var $myPB = $(\"div#b1592b65-aa1d-4500-a708-93b1fda4c24a\")\n",
        "        if ($myPB.hasClass('ui-progressbar')) {\n",
        "            $myPB.progressbar('value', 641);\n",
        "        } else {\n",
        "            $myPB.progressbar({value: 0, max: 971});\n",
        "        }\n",
        "        "
       ],
       "metadata": {},
       "output_type": "display_data",
       "text": [
        "<IPython.core.display.Javascript at 0x1a772860>"
       ]
      },
      {
       "javascript": [
        "$('div#f1c5d705-f487-4301-90fd-7755fa0a02c8').text('ETA:  0:00:22');"
       ],
       "metadata": {},
       "output_type": "display_data",
       "text": [
        "<IPython.core.display.Javascript at 0x1a7720b8>"
       ]
      },
      {
       "javascript": [
        "$('div#f432a049-1a38-405a-bd3a-267cc5e27dde').text('651 of 971');"
       ],
       "metadata": {},
       "output_type": "display_data",
       "text": [
        "<IPython.core.display.Javascript at 0x176100b8>"
       ]
      },
      {
       "javascript": [
        "$('div#9b698331-1d7e-4083-ad53-749bfe7c5b2e').text(' 67%');"
       ],
       "metadata": {},
       "output_type": "display_data",
       "text": [
        "<IPython.core.display.Javascript at 0x176100f0>"
       ]
      },
      {
       "javascript": [
        "\n",
        "        var $myPB = $(\"div#b1592b65-aa1d-4500-a708-93b1fda4c24a\")\n",
        "        if ($myPB.hasClass('ui-progressbar')) {\n",
        "            $myPB.progressbar('value', 651);\n",
        "        } else {\n",
        "            $myPB.progressbar({value: 0, max: 971});\n",
        "        }\n",
        "        "
       ],
       "metadata": {},
       "output_type": "display_data",
       "text": [
        "<IPython.core.display.Javascript at 0x17610390>"
       ]
      },
      {
       "javascript": [
        "$('div#f1c5d705-f487-4301-90fd-7755fa0a02c8').text('ETA:  0:00:21');"
       ],
       "metadata": {},
       "output_type": "display_data",
       "text": [
        "<IPython.core.display.Javascript at 0x17610828>"
       ]
      },
      {
       "javascript": [
        "$('div#f432a049-1a38-405a-bd3a-267cc5e27dde').text('661 of 971');"
       ],
       "metadata": {},
       "output_type": "display_data",
       "text": [
        "<IPython.core.display.Javascript at 0x176f6f28>"
       ]
      },
      {
       "javascript": [
        "$('div#9b698331-1d7e-4083-ad53-749bfe7c5b2e').text(' 68%');"
       ],
       "metadata": {},
       "output_type": "display_data",
       "text": [
        "<IPython.core.display.Javascript at 0x176f6390>"
       ]
      },
      {
       "javascript": [
        "\n",
        "        var $myPB = $(\"div#b1592b65-aa1d-4500-a708-93b1fda4c24a\")\n",
        "        if ($myPB.hasClass('ui-progressbar')) {\n",
        "            $myPB.progressbar('value', 661);\n",
        "        } else {\n",
        "            $myPB.progressbar({value: 0, max: 971});\n",
        "        }\n",
        "        "
       ],
       "metadata": {},
       "output_type": "display_data",
       "text": [
        "<IPython.core.display.Javascript at 0x176f6748>"
       ]
      },
      {
       "javascript": [
        "$('div#f1c5d705-f487-4301-90fd-7755fa0a02c8').text('ETA:  0:00:20');"
       ],
       "metadata": {},
       "output_type": "display_data",
       "text": [
        "<IPython.core.display.Javascript at 0x176f6ba8>"
       ]
      },
      {
       "javascript": [
        "$('div#f432a049-1a38-405a-bd3a-267cc5e27dde').text('671 of 971');"
       ],
       "metadata": {},
       "output_type": "display_data",
       "text": [
        "<IPython.core.display.Javascript at 0x184dd7f0>"
       ]
      },
      {
       "javascript": [
        "$('div#9b698331-1d7e-4083-ad53-749bfe7c5b2e').text(' 69%');"
       ],
       "metadata": {},
       "output_type": "display_data",
       "text": [
        "<IPython.core.display.Javascript at 0x184dd048>"
       ]
      },
      {
       "javascript": [
        "\n",
        "        var $myPB = $(\"div#b1592b65-aa1d-4500-a708-93b1fda4c24a\")\n",
        "        if ($myPB.hasClass('ui-progressbar')) {\n",
        "            $myPB.progressbar('value', 671);\n",
        "        } else {\n",
        "            $myPB.progressbar({value: 0, max: 971});\n",
        "        }\n",
        "        "
       ],
       "metadata": {},
       "output_type": "display_data",
       "text": [
        "<IPython.core.display.Javascript at 0x184dd780>"
       ]
      },
      {
       "javascript": [
        "$('div#f1c5d705-f487-4301-90fd-7755fa0a02c8').text('ETA:  0:00:19');"
       ],
       "metadata": {},
       "output_type": "display_data",
       "text": [
        "<IPython.core.display.Javascript at 0x18161940>"
       ]
      },
      {
       "javascript": [
        "$('div#f432a049-1a38-405a-bd3a-267cc5e27dde').text('681 of 971');"
       ],
       "metadata": {},
       "output_type": "display_data",
       "text": [
        "<IPython.core.display.Javascript at 0x1f7d1d68>"
       ]
      },
      {
       "javascript": [
        "$('div#9b698331-1d7e-4083-ad53-749bfe7c5b2e').text(' 70%');"
       ],
       "metadata": {},
       "output_type": "display_data",
       "text": [
        "<IPython.core.display.Javascript at 0x1f7d1940>"
       ]
      },
      {
       "javascript": [
        "\n",
        "        var $myPB = $(\"div#b1592b65-aa1d-4500-a708-93b1fda4c24a\")\n",
        "        if ($myPB.hasClass('ui-progressbar')) {\n",
        "            $myPB.progressbar('value', 681);\n",
        "        } else {\n",
        "            $myPB.progressbar({value: 0, max: 971});\n",
        "        }\n",
        "        "
       ],
       "metadata": {},
       "output_type": "display_data",
       "text": [
        "<IPython.core.display.Javascript at 0x1f7d1c50>"
       ]
      },
      {
       "javascript": [
        "$('div#f1c5d705-f487-4301-90fd-7755fa0a02c8').text('ETA:  0:00:18');"
       ],
       "metadata": {},
       "output_type": "display_data",
       "text": [
        "<IPython.core.display.Javascript at 0x1f7d12b0>"
       ]
      },
      {
       "javascript": [
        "$('div#f432a049-1a38-405a-bd3a-267cc5e27dde').text('691 of 971');"
       ],
       "metadata": {},
       "output_type": "display_data",
       "text": [
        "<IPython.core.display.Javascript at 0x19444278>"
       ]
      },
      {
       "javascript": [
        "$('div#9b698331-1d7e-4083-ad53-749bfe7c5b2e').text(' 71%');"
       ],
       "metadata": {},
       "output_type": "display_data",
       "text": [
        "<IPython.core.display.Javascript at 0x19444828>"
       ]
      },
      {
       "javascript": [
        "\n",
        "        var $myPB = $(\"div#b1592b65-aa1d-4500-a708-93b1fda4c24a\")\n",
        "        if ($myPB.hasClass('ui-progressbar')) {\n",
        "            $myPB.progressbar('value', 691);\n",
        "        } else {\n",
        "            $myPB.progressbar({value: 0, max: 971});\n",
        "        }\n",
        "        "
       ],
       "metadata": {},
       "output_type": "display_data",
       "text": [
        "<IPython.core.display.Javascript at 0x19444cc0>"
       ]
      },
      {
       "javascript": [
        "$('div#f1c5d705-f487-4301-90fd-7755fa0a02c8').text('ETA:  0:00:17');"
       ],
       "metadata": {},
       "output_type": "display_data",
       "text": [
        "<IPython.core.display.Javascript at 0x19444e10>"
       ]
      },
      {
       "javascript": [
        "$('div#f432a049-1a38-405a-bd3a-267cc5e27dde').text('701 of 971');"
       ],
       "metadata": {},
       "output_type": "display_data",
       "text": [
        "<IPython.core.display.Javascript at 0x1cb8eda0>"
       ]
      },
      {
       "javascript": [
        "$('div#9b698331-1d7e-4083-ad53-749bfe7c5b2e').text(' 72%');"
       ],
       "metadata": {},
       "output_type": "display_data",
       "text": [
        "<IPython.core.display.Javascript at 0x1cb8e048>"
       ]
      },
      {
       "javascript": [
        "\n",
        "        var $myPB = $(\"div#b1592b65-aa1d-4500-a708-93b1fda4c24a\")\n",
        "        if ($myPB.hasClass('ui-progressbar')) {\n",
        "            $myPB.progressbar('value', 701);\n",
        "        } else {\n",
        "            $myPB.progressbar({value: 0, max: 971});\n",
        "        }\n",
        "        "
       ],
       "metadata": {},
       "output_type": "display_data",
       "text": [
        "<IPython.core.display.Javascript at 0x1cb8e2b0>"
       ]
      },
      {
       "javascript": [
        "$('div#f1c5d705-f487-4301-90fd-7755fa0a02c8').text('ETA:  0:00:16');"
       ],
       "metadata": {},
       "output_type": "display_data",
       "text": [
        "<IPython.core.display.Javascript at 0x1cb8ea20>"
       ]
      },
      {
       "javascript": [
        "$('div#f432a049-1a38-405a-bd3a-267cc5e27dde').text('711 of 971');"
       ],
       "metadata": {},
       "output_type": "display_data",
       "text": [
        "<IPython.core.display.Javascript at 0x1b206470>"
       ]
      },
      {
       "javascript": [
        "$('div#9b698331-1d7e-4083-ad53-749bfe7c5b2e').text(' 73%');"
       ],
       "metadata": {},
       "output_type": "display_data",
       "text": [
        "<IPython.core.display.Javascript at 0x1b206a90>"
       ]
      },
      {
       "javascript": [
        "\n",
        "        var $myPB = $(\"div#b1592b65-aa1d-4500-a708-93b1fda4c24a\")\n",
        "        if ($myPB.hasClass('ui-progressbar')) {\n",
        "            $myPB.progressbar('value', 711);\n",
        "        } else {\n",
        "            $myPB.progressbar({value: 0, max: 971});\n",
        "        }\n",
        "        "
       ],
       "metadata": {},
       "output_type": "display_data",
       "text": [
        "<IPython.core.display.Javascript at 0x1b206518>"
       ]
      },
      {
       "javascript": [
        "$('div#f1c5d705-f487-4301-90fd-7755fa0a02c8').text('ETA:  0:00:16');"
       ],
       "metadata": {},
       "output_type": "display_data",
       "text": [
        "<IPython.core.display.Javascript at 0x1b2065f8>"
       ]
      },
      {
       "javascript": [
        "$('div#f432a049-1a38-405a-bd3a-267cc5e27dde').text('721 of 971');"
       ],
       "metadata": {},
       "output_type": "display_data",
       "text": [
        "<IPython.core.display.Javascript at 0x15a6ee10>"
       ]
      },
      {
       "javascript": [
        "$('div#9b698331-1d7e-4083-ad53-749bfe7c5b2e').text(' 74%');"
       ],
       "metadata": {},
       "output_type": "display_data",
       "text": [
        "<IPython.core.display.Javascript at 0x15a6e7b8>"
       ]
      },
      {
       "javascript": [
        "\n",
        "        var $myPB = $(\"div#b1592b65-aa1d-4500-a708-93b1fda4c24a\")\n",
        "        if ($myPB.hasClass('ui-progressbar')) {\n",
        "            $myPB.progressbar('value', 721);\n",
        "        } else {\n",
        "            $myPB.progressbar({value: 0, max: 971});\n",
        "        }\n",
        "        "
       ],
       "metadata": {},
       "output_type": "display_data",
       "text": [
        "<IPython.core.display.Javascript at 0x15a6e978>"
       ]
      },
      {
       "javascript": [
        "$('div#f1c5d705-f487-4301-90fd-7755fa0a02c8').text('ETA:  0:00:15');"
       ],
       "metadata": {},
       "output_type": "display_data",
       "text": [
        "<IPython.core.display.Javascript at 0x15a6e048>"
       ]
      },
      {
       "javascript": [
        "$('div#f432a049-1a38-405a-bd3a-267cc5e27dde').text('731 of 971');"
       ],
       "metadata": {},
       "output_type": "display_data",
       "text": [
        "<IPython.core.display.Javascript at 0x14db2128>"
       ]
      },
      {
       "javascript": [
        "$('div#9b698331-1d7e-4083-ad53-749bfe7c5b2e').text(' 75%');"
       ],
       "metadata": {},
       "output_type": "display_data",
       "text": [
        "<IPython.core.display.Javascript at 0x14db2a20>"
       ]
      },
      {
       "javascript": [
        "\n",
        "        var $myPB = $(\"div#b1592b65-aa1d-4500-a708-93b1fda4c24a\")\n",
        "        if ($myPB.hasClass('ui-progressbar')) {\n",
        "            $myPB.progressbar('value', 731);\n",
        "        } else {\n",
        "            $myPB.progressbar({value: 0, max: 971});\n",
        "        }\n",
        "        "
       ],
       "metadata": {},
       "output_type": "display_data",
       "text": [
        "<IPython.core.display.Javascript at 0x14db26d8>"
       ]
      },
      {
       "javascript": [
        "$('div#f1c5d705-f487-4301-90fd-7755fa0a02c8').text('ETA:  0:00:14');"
       ],
       "metadata": {},
       "output_type": "display_data",
       "text": [
        "<IPython.core.display.Javascript at 0x14db29e8>"
       ]
      },
      {
       "javascript": [
        "$('div#f432a049-1a38-405a-bd3a-267cc5e27dde').text('741 of 971');"
       ],
       "metadata": {},
       "output_type": "display_data",
       "text": [
        "<IPython.core.display.Javascript at 0x1cb9f710>"
       ]
      },
      {
       "javascript": [
        "$('div#9b698331-1d7e-4083-ad53-749bfe7c5b2e').text(' 76%');"
       ],
       "metadata": {},
       "output_type": "display_data",
       "text": [
        "<IPython.core.display.Javascript at 0x1cb9fe10>"
       ]
      },
      {
       "javascript": [
        "\n",
        "        var $myPB = $(\"div#b1592b65-aa1d-4500-a708-93b1fda4c24a\")\n",
        "        if ($myPB.hasClass('ui-progressbar')) {\n",
        "            $myPB.progressbar('value', 741);\n",
        "        } else {\n",
        "            $myPB.progressbar({value: 0, max: 971});\n",
        "        }\n",
        "        "
       ],
       "metadata": {},
       "output_type": "display_data",
       "text": [
        "<IPython.core.display.Javascript at 0x1cb9fdd8>"
       ]
      },
      {
       "javascript": [
        "$('div#f1c5d705-f487-4301-90fd-7755fa0a02c8').text('ETA:  0:00:13');"
       ],
       "metadata": {},
       "output_type": "display_data",
       "text": [
        "<IPython.core.display.Javascript at 0x1cb9fa20>"
       ]
      },
      {
       "javascript": [
        "$('div#f432a049-1a38-405a-bd3a-267cc5e27dde').text('751 of 971');"
       ],
       "metadata": {},
       "output_type": "display_data",
       "text": [
        "<IPython.core.display.Javascript at 0x17ea77b8>"
       ]
      },
      {
       "javascript": [
        "$('div#9b698331-1d7e-4083-ad53-749bfe7c5b2e').text(' 77%');"
       ],
       "metadata": {},
       "output_type": "display_data",
       "text": [
        "<IPython.core.display.Javascript at 0x17ea77f0>"
       ]
      },
      {
       "javascript": [
        "\n",
        "        var $myPB = $(\"div#b1592b65-aa1d-4500-a708-93b1fda4c24a\")\n",
        "        if ($myPB.hasClass('ui-progressbar')) {\n",
        "            $myPB.progressbar('value', 751);\n",
        "        } else {\n",
        "            $myPB.progressbar({value: 0, max: 971});\n",
        "        }\n",
        "        "
       ],
       "metadata": {},
       "output_type": "display_data",
       "text": [
        "<IPython.core.display.Javascript at 0x17ea73c8>"
       ]
      },
      {
       "javascript": [
        "$('div#f1c5d705-f487-4301-90fd-7755fa0a02c8').text('ETA:  0:00:13');"
       ],
       "metadata": {},
       "output_type": "display_data",
       "text": [
        "<IPython.core.display.Javascript at 0x17ea7e48>"
       ]
      },
      {
       "javascript": [
        "$('div#f432a049-1a38-405a-bd3a-267cc5e27dde').text('761 of 971');"
       ],
       "metadata": {},
       "output_type": "display_data",
       "text": [
        "<IPython.core.display.Javascript at 0x1a8087f0>"
       ]
      },
      {
       "javascript": [
        "$('div#9b698331-1d7e-4083-ad53-749bfe7c5b2e').text(' 78%');"
       ],
       "metadata": {},
       "output_type": "display_data",
       "text": [
        "<IPython.core.display.Javascript at 0x1a808f98>"
       ]
      },
      {
       "javascript": [
        "\n",
        "        var $myPB = $(\"div#b1592b65-aa1d-4500-a708-93b1fda4c24a\")\n",
        "        if ($myPB.hasClass('ui-progressbar')) {\n",
        "            $myPB.progressbar('value', 761);\n",
        "        } else {\n",
        "            $myPB.progressbar({value: 0, max: 971});\n",
        "        }\n",
        "        "
       ],
       "metadata": {},
       "output_type": "display_data",
       "text": [
        "<IPython.core.display.Javascript at 0x1a808550>"
       ]
      },
      {
       "javascript": [
        "$('div#f1c5d705-f487-4301-90fd-7755fa0a02c8').text('ETA:  0:00:12');"
       ],
       "metadata": {},
       "output_type": "display_data",
       "text": [
        "<IPython.core.display.Javascript at 0x1a808908>"
       ]
      },
      {
       "javascript": [
        "$('div#f432a049-1a38-405a-bd3a-267cc5e27dde').text('771 of 971');"
       ],
       "metadata": {},
       "output_type": "display_data",
       "text": [
        "<IPython.core.display.Javascript at 0x1f2c9ac8>"
       ]
      },
      {
       "javascript": [
        "$('div#9b698331-1d7e-4083-ad53-749bfe7c5b2e').text(' 79%');"
       ],
       "metadata": {},
       "output_type": "display_data",
       "text": [
        "<IPython.core.display.Javascript at 0x1f2c9f60>"
       ]
      },
      {
       "javascript": [
        "\n",
        "        var $myPB = $(\"div#b1592b65-aa1d-4500-a708-93b1fda4c24a\")\n",
        "        if ($myPB.hasClass('ui-progressbar')) {\n",
        "            $myPB.progressbar('value', 771);\n",
        "        } else {\n",
        "            $myPB.progressbar({value: 0, max: 971});\n",
        "        }\n",
        "        "
       ],
       "metadata": {},
       "output_type": "display_data",
       "text": [
        "<IPython.core.display.Javascript at 0x1f2c9668>"
       ]
      },
      {
       "javascript": [
        "$('div#f1c5d705-f487-4301-90fd-7755fa0a02c8').text('ETA:  0:00:11');"
       ],
       "metadata": {},
       "output_type": "display_data",
       "text": [
        "<IPython.core.display.Javascript at 0x1f2c9470>"
       ]
      },
      {
       "javascript": [
        "$('div#f432a049-1a38-405a-bd3a-267cc5e27dde').text('781 of 971');"
       ],
       "metadata": {},
       "output_type": "display_data",
       "text": [
        "<IPython.core.display.Javascript at 0x1b4ce898>"
       ]
      },
      {
       "javascript": [
        "$('div#9b698331-1d7e-4083-ad53-749bfe7c5b2e').text(' 80%');"
       ],
       "metadata": {},
       "output_type": "display_data",
       "text": [
        "<IPython.core.display.Javascript at 0x1b4ce630>"
       ]
      },
      {
       "javascript": [
        "\n",
        "        var $myPB = $(\"div#b1592b65-aa1d-4500-a708-93b1fda4c24a\")\n",
        "        if ($myPB.hasClass('ui-progressbar')) {\n",
        "            $myPB.progressbar('value', 781);\n",
        "        } else {\n",
        "            $myPB.progressbar({value: 0, max: 971});\n",
        "        }\n",
        "        "
       ],
       "metadata": {},
       "output_type": "display_data",
       "text": [
        "<IPython.core.display.Javascript at 0x1b4ce4a8>"
       ]
      },
      {
       "javascript": [
        "$('div#f1c5d705-f487-4301-90fd-7755fa0a02c8').text('ETA:  0:00:11');"
       ],
       "metadata": {},
       "output_type": "display_data",
       "text": [
        "<IPython.core.display.Javascript at 0x1b4ce208>"
       ]
      },
      {
       "javascript": [
        "$('div#f432a049-1a38-405a-bd3a-267cc5e27dde').text('791 of 971');"
       ],
       "metadata": {},
       "output_type": "display_data",
       "text": [
        "<IPython.core.display.Javascript at 0x1fd62a90>"
       ]
      },
      {
       "javascript": [
        "$('div#9b698331-1d7e-4083-ad53-749bfe7c5b2e').text(' 81%');"
       ],
       "metadata": {},
       "output_type": "display_data",
       "text": [
        "<IPython.core.display.Javascript at 0x1fd62668>"
       ]
      },
      {
       "javascript": [
        "\n",
        "        var $myPB = $(\"div#b1592b65-aa1d-4500-a708-93b1fda4c24a\")\n",
        "        if ($myPB.hasClass('ui-progressbar')) {\n",
        "            $myPB.progressbar('value', 791);\n",
        "        } else {\n",
        "            $myPB.progressbar({value: 0, max: 971});\n",
        "        }\n",
        "        "
       ],
       "metadata": {},
       "output_type": "display_data",
       "text": [
        "<IPython.core.display.Javascript at 0x1fd62b70>"
       ]
      },
      {
       "javascript": [
        "$('div#f1c5d705-f487-4301-90fd-7755fa0a02c8').text('ETA:  0:00:10');"
       ],
       "metadata": {},
       "output_type": "display_data",
       "text": [
        "<IPython.core.display.Javascript at 0x1fd62eb8>"
       ]
      },
      {
       "javascript": [
        "$('div#f432a049-1a38-405a-bd3a-267cc5e27dde').text('801 of 971');"
       ],
       "metadata": {},
       "output_type": "display_data",
       "text": [
        "<IPython.core.display.Javascript at 0x14dfbcf8>"
       ]
      },
      {
       "javascript": [
        "$('div#9b698331-1d7e-4083-ad53-749bfe7c5b2e').text(' 82%');"
       ],
       "metadata": {},
       "output_type": "display_data",
       "text": [
        "<IPython.core.display.Javascript at 0x14dfbc18>"
       ]
      },
      {
       "javascript": [
        "\n",
        "        var $myPB = $(\"div#b1592b65-aa1d-4500-a708-93b1fda4c24a\")\n",
        "        if ($myPB.hasClass('ui-progressbar')) {\n",
        "            $myPB.progressbar('value', 801);\n",
        "        } else {\n",
        "            $myPB.progressbar({value: 0, max: 971});\n",
        "        }\n",
        "        "
       ],
       "metadata": {},
       "output_type": "display_data",
       "text": [
        "<IPython.core.display.Javascript at 0x14dfb710>"
       ]
      },
      {
       "javascript": [
        "$('div#f1c5d705-f487-4301-90fd-7755fa0a02c8').text('ETA:  0:00:09');"
       ],
       "metadata": {},
       "output_type": "display_data",
       "text": [
        "<IPython.core.display.Javascript at 0x14dfb3c8>"
       ]
      },
      {
       "javascript": [
        "$('div#f432a049-1a38-405a-bd3a-267cc5e27dde').text('811 of 971');"
       ],
       "metadata": {},
       "output_type": "display_data",
       "text": [
        "<IPython.core.display.Javascript at 0x179d68d0>"
       ]
      },
      {
       "javascript": [
        "$('div#9b698331-1d7e-4083-ad53-749bfe7c5b2e').text(' 83%');"
       ],
       "metadata": {},
       "output_type": "display_data",
       "text": [
        "<IPython.core.display.Javascript at 0x179d6588>"
       ]
      },
      {
       "javascript": [
        "\n",
        "        var $myPB = $(\"div#b1592b65-aa1d-4500-a708-93b1fda4c24a\")\n",
        "        if ($myPB.hasClass('ui-progressbar')) {\n",
        "            $myPB.progressbar('value', 811);\n",
        "        } else {\n",
        "            $myPB.progressbar({value: 0, max: 971});\n",
        "        }\n",
        "        "
       ],
       "metadata": {},
       "output_type": "display_data",
       "text": [
        "<IPython.core.display.Javascript at 0x179d6eb8>"
       ]
      },
      {
       "javascript": [
        "$('div#f1c5d705-f487-4301-90fd-7755fa0a02c8').text('ETA:  0:00:09');"
       ],
       "metadata": {},
       "output_type": "display_data",
       "text": [
        "<IPython.core.display.Javascript at 0x179d6208>"
       ]
      },
      {
       "javascript": [
        "$('div#f432a049-1a38-405a-bd3a-267cc5e27dde').text('821 of 971');"
       ],
       "metadata": {},
       "output_type": "display_data",
       "text": [
        "<IPython.core.display.Javascript at 0x141336a0>"
       ]
      },
      {
       "javascript": [
        "$('div#9b698331-1d7e-4083-ad53-749bfe7c5b2e').text(' 84%');"
       ],
       "metadata": {},
       "output_type": "display_data",
       "text": [
        "<IPython.core.display.Javascript at 0x14133a20>"
       ]
      },
      {
       "javascript": [
        "\n",
        "        var $myPB = $(\"div#b1592b65-aa1d-4500-a708-93b1fda4c24a\")\n",
        "        if ($myPB.hasClass('ui-progressbar')) {\n",
        "            $myPB.progressbar('value', 821);\n",
        "        } else {\n",
        "            $myPB.progressbar({value: 0, max: 971});\n",
        "        }\n",
        "        "
       ],
       "metadata": {},
       "output_type": "display_data",
       "text": [
        "<IPython.core.display.Javascript at 0x14133ba8>"
       ]
      },
      {
       "javascript": [
        "$('div#f1c5d705-f487-4301-90fd-7755fa0a02c8').text('ETA:  0:00:08');"
       ],
       "metadata": {},
       "output_type": "display_data",
       "text": [
        "<IPython.core.display.Javascript at 0x141335c0>"
       ]
      },
      {
       "javascript": [
        "$('div#f432a049-1a38-405a-bd3a-267cc5e27dde').text('831 of 971');"
       ],
       "metadata": {},
       "output_type": "display_data",
       "text": [
        "<IPython.core.display.Javascript at 0x1a504a90>"
       ]
      },
      {
       "javascript": [
        "$('div#9b698331-1d7e-4083-ad53-749bfe7c5b2e').text(' 85%');"
       ],
       "metadata": {},
       "output_type": "display_data",
       "text": [
        "<IPython.core.display.Javascript at 0x1a5043c8>"
       ]
      },
      {
       "javascript": [
        "\n",
        "        var $myPB = $(\"div#b1592b65-aa1d-4500-a708-93b1fda4c24a\")\n",
        "        if ($myPB.hasClass('ui-progressbar')) {\n",
        "            $myPB.progressbar('value', 831);\n",
        "        } else {\n",
        "            $myPB.progressbar({value: 0, max: 971});\n",
        "        }\n",
        "        "
       ],
       "metadata": {},
       "output_type": "display_data",
       "text": [
        "<IPython.core.display.Javascript at 0x1a504710>"
       ]
      },
      {
       "javascript": [
        "$('div#f1c5d705-f487-4301-90fd-7755fa0a02c8').text('ETA:  0:00:07');"
       ],
       "metadata": {},
       "output_type": "display_data",
       "text": [
        "<IPython.core.display.Javascript at 0x1a504dd8>"
       ]
      },
      {
       "javascript": [
        "$('div#f432a049-1a38-405a-bd3a-267cc5e27dde').text('841 of 971');"
       ],
       "metadata": {},
       "output_type": "display_data",
       "text": [
        "<IPython.core.display.Javascript at 0x2001d4a8>"
       ]
      },
      {
       "javascript": [
        "$('div#9b698331-1d7e-4083-ad53-749bfe7c5b2e').text(' 86%');"
       ],
       "metadata": {},
       "output_type": "display_data",
       "text": [
        "<IPython.core.display.Javascript at 0x2001dc50>"
       ]
      },
      {
       "javascript": [
        "\n",
        "        var $myPB = $(\"div#b1592b65-aa1d-4500-a708-93b1fda4c24a\")\n",
        "        if ($myPB.hasClass('ui-progressbar')) {\n",
        "            $myPB.progressbar('value', 841);\n",
        "        } else {\n",
        "            $myPB.progressbar({value: 0, max: 971});\n",
        "        }\n",
        "        "
       ],
       "metadata": {},
       "output_type": "display_data",
       "text": [
        "<IPython.core.display.Javascript at 0x2001da58>"
       ]
      },
      {
       "javascript": [
        "$('div#f1c5d705-f487-4301-90fd-7755fa0a02c8').text('ETA:  0:00:07');"
       ],
       "metadata": {},
       "output_type": "display_data",
       "text": [
        "<IPython.core.display.Javascript at 0x2001da90>"
       ]
      },
      {
       "javascript": [
        "$('div#f432a049-1a38-405a-bd3a-267cc5e27dde').text('851 of 971');"
       ],
       "metadata": {},
       "output_type": "display_data",
       "text": [
        "<IPython.core.display.Javascript at 0x1463e198>"
       ]
      },
      {
       "javascript": [
        "$('div#9b698331-1d7e-4083-ad53-749bfe7c5b2e').text(' 87%');"
       ],
       "metadata": {},
       "output_type": "display_data",
       "text": [
        "<IPython.core.display.Javascript at 0x1463ef60>"
       ]
      },
      {
       "javascript": [
        "\n",
        "        var $myPB = $(\"div#b1592b65-aa1d-4500-a708-93b1fda4c24a\")\n",
        "        if ($myPB.hasClass('ui-progressbar')) {\n",
        "            $myPB.progressbar('value', 851);\n",
        "        } else {\n",
        "            $myPB.progressbar({value: 0, max: 971});\n",
        "        }\n",
        "        "
       ],
       "metadata": {},
       "output_type": "display_data",
       "text": [
        "<IPython.core.display.Javascript at 0x1463edd8>"
       ]
      },
      {
       "javascript": [
        "$('div#f1c5d705-f487-4301-90fd-7755fa0a02c8').text('ETA:  0:00:06');"
       ],
       "metadata": {},
       "output_type": "display_data",
       "text": [
        "<IPython.core.display.Javascript at 0x1463edd8>"
       ]
      },
      {
       "javascript": [
        "$('div#f432a049-1a38-405a-bd3a-267cc5e27dde').text('861 of 971');"
       ],
       "metadata": {},
       "output_type": "display_data",
       "text": [
        "<IPython.core.display.Javascript at 0x1f6b85f8>"
       ]
      },
      {
       "javascript": [
        "$('div#9b698331-1d7e-4083-ad53-749bfe7c5b2e').text(' 88%');"
       ],
       "metadata": {},
       "output_type": "display_data",
       "text": [
        "<IPython.core.display.Javascript at 0x1f6b8b00>"
       ]
      },
      {
       "javascript": [
        "\n",
        "        var $myPB = $(\"div#b1592b65-aa1d-4500-a708-93b1fda4c24a\")\n",
        "        if ($myPB.hasClass('ui-progressbar')) {\n",
        "            $myPB.progressbar('value', 861);\n",
        "        } else {\n",
        "            $myPB.progressbar({value: 0, max: 971});\n",
        "        }\n",
        "        "
       ],
       "metadata": {},
       "output_type": "display_data",
       "text": [
        "<IPython.core.display.Javascript at 0x1f6b8390>"
       ]
      },
      {
       "javascript": [
        "$('div#f1c5d705-f487-4301-90fd-7755fa0a02c8').text('ETA:  0:00:06');"
       ],
       "metadata": {},
       "output_type": "display_data",
       "text": [
        "<IPython.core.display.Javascript at 0x1f6b8d30>"
       ]
      },
      {
       "javascript": [
        "$('div#f432a049-1a38-405a-bd3a-267cc5e27dde').text('871 of 971');"
       ],
       "metadata": {},
       "output_type": "display_data",
       "text": [
        "<IPython.core.display.Javascript at 0x1a59b978>"
       ]
      },
      {
       "javascript": [
        "$('div#9b698331-1d7e-4083-ad53-749bfe7c5b2e').text(' 89%');"
       ],
       "metadata": {},
       "output_type": "display_data",
       "text": [
        "<IPython.core.display.Javascript at 0x1a59b0f0>"
       ]
      },
      {
       "javascript": [
        "\n",
        "        var $myPB = $(\"div#b1592b65-aa1d-4500-a708-93b1fda4c24a\")\n",
        "        if ($myPB.hasClass('ui-progressbar')) {\n",
        "            $myPB.progressbar('value', 871);\n",
        "        } else {\n",
        "            $myPB.progressbar({value: 0, max: 971});\n",
        "        }\n",
        "        "
       ],
       "metadata": {},
       "output_type": "display_data",
       "text": [
        "<IPython.core.display.Javascript at 0x1a59be80>"
       ]
      },
      {
       "javascript": [
        "$('div#f1c5d705-f487-4301-90fd-7755fa0a02c8').text('ETA:  0:00:05');"
       ],
       "metadata": {},
       "output_type": "display_data",
       "text": [
        "<IPython.core.display.Javascript at 0x1a59b278>"
       ]
      },
      {
       "javascript": [
        "$('div#f432a049-1a38-405a-bd3a-267cc5e27dde').text('881 of 971');"
       ],
       "metadata": {},
       "output_type": "display_data",
       "text": [
        "<IPython.core.display.Javascript at 0x1b9614e0>"
       ]
      },
      {
       "javascript": [
        "$('div#9b698331-1d7e-4083-ad53-749bfe7c5b2e').text(' 90%');"
       ],
       "metadata": {},
       "output_type": "display_data",
       "text": [
        "<IPython.core.display.Javascript at 0x1b961ba8>"
       ]
      },
      {
       "javascript": [
        "\n",
        "        var $myPB = $(\"div#b1592b65-aa1d-4500-a708-93b1fda4c24a\")\n",
        "        if ($myPB.hasClass('ui-progressbar')) {\n",
        "            $myPB.progressbar('value', 881);\n",
        "        } else {\n",
        "            $myPB.progressbar({value: 0, max: 971});\n",
        "        }\n",
        "        "
       ],
       "metadata": {},
       "output_type": "display_data",
       "text": [
        "<IPython.core.display.Javascript at 0x1b961240>"
       ]
      },
      {
       "javascript": [
        "$('div#f1c5d705-f487-4301-90fd-7755fa0a02c8').text('ETA:  0:00:04');"
       ],
       "metadata": {},
       "output_type": "display_data",
       "text": [
        "<IPython.core.display.Javascript at 0x1b9617f0>"
       ]
      },
      {
       "javascript": [
        "$('div#f432a049-1a38-405a-bd3a-267cc5e27dde').text('891 of 971');"
       ],
       "metadata": {},
       "output_type": "display_data",
       "text": [
        "<IPython.core.display.Javascript at 0x191200f0>"
       ]
      },
      {
       "javascript": [
        "$('div#9b698331-1d7e-4083-ad53-749bfe7c5b2e').text(' 91%');"
       ],
       "metadata": {},
       "output_type": "display_data",
       "text": [
        "<IPython.core.display.Javascript at 0x19120c18>"
       ]
      },
      {
       "javascript": [
        "\n",
        "        var $myPB = $(\"div#b1592b65-aa1d-4500-a708-93b1fda4c24a\")\n",
        "        if ($myPB.hasClass('ui-progressbar')) {\n",
        "            $myPB.progressbar('value', 891);\n",
        "        } else {\n",
        "            $myPB.progressbar({value: 0, max: 971});\n",
        "        }\n",
        "        "
       ],
       "metadata": {},
       "output_type": "display_data",
       "text": [
        "<IPython.core.display.Javascript at 0x19120400>"
       ]
      },
      {
       "javascript": [
        "$('div#f1c5d705-f487-4301-90fd-7755fa0a02c8').text('ETA:  0:00:04');"
       ],
       "metadata": {},
       "output_type": "display_data",
       "text": [
        "<IPython.core.display.Javascript at 0x19120198>"
       ]
      },
      {
       "javascript": [
        "$('div#f432a049-1a38-405a-bd3a-267cc5e27dde').text('901 of 971');"
       ],
       "metadata": {},
       "output_type": "display_data",
       "text": [
        "<IPython.core.display.Javascript at 0x18d7dc18>"
       ]
      },
      {
       "javascript": [
        "$('div#9b698331-1d7e-4083-ad53-749bfe7c5b2e').text(' 92%');"
       ],
       "metadata": {},
       "output_type": "display_data",
       "text": [
        "<IPython.core.display.Javascript at 0x18d7dcc0>"
       ]
      },
      {
       "javascript": [
        "\n",
        "        var $myPB = $(\"div#b1592b65-aa1d-4500-a708-93b1fda4c24a\")\n",
        "        if ($myPB.hasClass('ui-progressbar')) {\n",
        "            $myPB.progressbar('value', 901);\n",
        "        } else {\n",
        "            $myPB.progressbar({value: 0, max: 971});\n",
        "        }\n",
        "        "
       ],
       "metadata": {},
       "output_type": "display_data",
       "text": [
        "<IPython.core.display.Javascript at 0x18d7d6d8>"
       ]
      },
      {
       "javascript": [
        "$('div#f1c5d705-f487-4301-90fd-7755fa0a02c8').text('ETA:  0:00:03');"
       ],
       "metadata": {},
       "output_type": "display_data",
       "text": [
        "<IPython.core.display.Javascript at 0x18d7d6d8>"
       ]
      },
      {
       "javascript": [
        "$('div#f432a049-1a38-405a-bd3a-267cc5e27dde').text('911 of 971');"
       ],
       "metadata": {},
       "output_type": "display_data",
       "text": [
        "<IPython.core.display.Javascript at 0x17ca36d8>"
       ]
      },
      {
       "javascript": [
        "$('div#9b698331-1d7e-4083-ad53-749bfe7c5b2e').text(' 93%');"
       ],
       "metadata": {},
       "output_type": "display_data",
       "text": [
        "<IPython.core.display.Javascript at 0x17ca3ba8>"
       ]
      },
      {
       "javascript": [
        "\n",
        "        var $myPB = $(\"div#b1592b65-aa1d-4500-a708-93b1fda4c24a\")\n",
        "        if ($myPB.hasClass('ui-progressbar')) {\n",
        "            $myPB.progressbar('value', 911);\n",
        "        } else {\n",
        "            $myPB.progressbar({value: 0, max: 971});\n",
        "        }\n",
        "        "
       ],
       "metadata": {},
       "output_type": "display_data",
       "text": [
        "<IPython.core.display.Javascript at 0x17ca3588>"
       ]
      },
      {
       "javascript": [
        "$('div#f1c5d705-f487-4301-90fd-7755fa0a02c8').text('ETA:  0:00:03');"
       ],
       "metadata": {},
       "output_type": "display_data",
       "text": [
        "<IPython.core.display.Javascript at 0x17ca3e48>"
       ]
      },
      {
       "javascript": [
        "$('div#f432a049-1a38-405a-bd3a-267cc5e27dde').text('921 of 971');"
       ],
       "metadata": {},
       "output_type": "display_data",
       "text": [
        "<IPython.core.display.Javascript at 0x1a10d8d0>"
       ]
      },
      {
       "javascript": [
        "$('div#9b698331-1d7e-4083-ad53-749bfe7c5b2e').text(' 94%');"
       ],
       "metadata": {},
       "output_type": "display_data",
       "text": [
        "<IPython.core.display.Javascript at 0x1a10d160>"
       ]
      },
      {
       "javascript": [
        "\n",
        "        var $myPB = $(\"div#b1592b65-aa1d-4500-a708-93b1fda4c24a\")\n",
        "        if ($myPB.hasClass('ui-progressbar')) {\n",
        "            $myPB.progressbar('value', 921);\n",
        "        } else {\n",
        "            $myPB.progressbar({value: 0, max: 971});\n",
        "        }\n",
        "        "
       ],
       "metadata": {},
       "output_type": "display_data",
       "text": [
        "<IPython.core.display.Javascript at 0x1a10da20>"
       ]
      },
      {
       "javascript": [
        "$('div#f1c5d705-f487-4301-90fd-7755fa0a02c8').text('ETA:  0:00:02');"
       ],
       "metadata": {},
       "output_type": "display_data",
       "text": [
        "<IPython.core.display.Javascript at 0x1a10da20>"
       ]
      },
      {
       "javascript": [
        "$('div#f432a049-1a38-405a-bd3a-267cc5e27dde').text('930 of 971');"
       ],
       "metadata": {},
       "output_type": "display_data",
       "text": [
        "<IPython.core.display.Javascript at 0x18864b00>"
       ]
      },
      {
       "javascript": [
        "$('div#9b698331-1d7e-4083-ad53-749bfe7c5b2e').text(' 95%');"
       ],
       "metadata": {},
       "output_type": "display_data",
       "text": [
        "<IPython.core.display.Javascript at 0x18864dd8>"
       ]
      },
      {
       "javascript": [
        "\n",
        "        var $myPB = $(\"div#b1592b65-aa1d-4500-a708-93b1fda4c24a\")\n",
        "        if ($myPB.hasClass('ui-progressbar')) {\n",
        "            $myPB.progressbar('value', 930);\n",
        "        } else {\n",
        "            $myPB.progressbar({value: 0, max: 971});\n",
        "        }\n",
        "        "
       ],
       "metadata": {},
       "output_type": "display_data",
       "text": [
        "<IPython.core.display.Javascript at 0x18864828>"
       ]
      },
      {
       "javascript": [
        "$('div#f1c5d705-f487-4301-90fd-7755fa0a02c8').text('ETA:  0:00:02');"
       ],
       "metadata": {},
       "output_type": "display_data",
       "text": [
        "<IPython.core.display.Javascript at 0x18864828>"
       ]
      },
      {
       "javascript": [
        "$('div#f432a049-1a38-405a-bd3a-267cc5e27dde').text('940 of 971');"
       ],
       "metadata": {},
       "output_type": "display_data",
       "text": [
        "<IPython.core.display.Javascript at 0x173129b0>"
       ]
      },
      {
       "javascript": [
        "$('div#9b698331-1d7e-4083-ad53-749bfe7c5b2e').text(' 96%');"
       ],
       "metadata": {},
       "output_type": "display_data",
       "text": [
        "<IPython.core.display.Javascript at 0x17312e48>"
       ]
      },
      {
       "javascript": [
        "\n",
        "        var $myPB = $(\"div#b1592b65-aa1d-4500-a708-93b1fda4c24a\")\n",
        "        if ($myPB.hasClass('ui-progressbar')) {\n",
        "            $myPB.progressbar('value', 940);\n",
        "        } else {\n",
        "            $myPB.progressbar({value: 0, max: 971});\n",
        "        }\n",
        "        "
       ],
       "metadata": {},
       "output_type": "display_data",
       "text": [
        "<IPython.core.display.Javascript at 0x17312160>"
       ]
      },
      {
       "javascript": [
        "$('div#f1c5d705-f487-4301-90fd-7755fa0a02c8').text('ETA:  0:00:01');"
       ],
       "metadata": {},
       "output_type": "display_data",
       "text": [
        "<IPython.core.display.Javascript at 0x17312400>"
       ]
      },
      {
       "javascript": [
        "$('div#f432a049-1a38-405a-bd3a-267cc5e27dde').text('950 of 971');"
       ],
       "metadata": {},
       "output_type": "display_data",
       "text": [
        "<IPython.core.display.Javascript at 0x1cd065f8>"
       ]
      },
      {
       "javascript": [
        "$('div#9b698331-1d7e-4083-ad53-749bfe7c5b2e').text(' 97%');"
       ],
       "metadata": {},
       "output_type": "display_data",
       "text": [
        "<IPython.core.display.Javascript at 0x1cd06828>"
       ]
      },
      {
       "javascript": [
        "\n",
        "        var $myPB = $(\"div#b1592b65-aa1d-4500-a708-93b1fda4c24a\")\n",
        "        if ($myPB.hasClass('ui-progressbar')) {\n",
        "            $myPB.progressbar('value', 950);\n",
        "        } else {\n",
        "            $myPB.progressbar({value: 0, max: 971});\n",
        "        }\n",
        "        "
       ],
       "metadata": {},
       "output_type": "display_data",
       "text": [
        "<IPython.core.display.Javascript at 0x1cd06da0>"
       ]
      },
      {
       "javascript": [
        "$('div#f1c5d705-f487-4301-90fd-7755fa0a02c8').text('ETA:  0:00:01');"
       ],
       "metadata": {},
       "output_type": "display_data",
       "text": [
        "<IPython.core.display.Javascript at 0x1cd06da0>"
       ]
      },
      {
       "javascript": [
        "$('div#f432a049-1a38-405a-bd3a-267cc5e27dde').text('960 of 971');"
       ],
       "metadata": {},
       "output_type": "display_data",
       "text": [
        "<IPython.core.display.Javascript at 0x1bce5908>"
       ]
      },
      {
       "javascript": [
        "$('div#9b698331-1d7e-4083-ad53-749bfe7c5b2e').text(' 98%');"
       ],
       "metadata": {},
       "output_type": "display_data",
       "text": [
        "<IPython.core.display.Javascript at 0x1bce5358>"
       ]
      },
      {
       "javascript": [
        "\n",
        "        var $myPB = $(\"div#b1592b65-aa1d-4500-a708-93b1fda4c24a\")\n",
        "        if ($myPB.hasClass('ui-progressbar')) {\n",
        "            $myPB.progressbar('value', 960);\n",
        "        } else {\n",
        "            $myPB.progressbar({value: 0, max: 971});\n",
        "        }\n",
        "        "
       ],
       "metadata": {},
       "output_type": "display_data",
       "text": [
        "<IPython.core.display.Javascript at 0x1bce59b0>"
       ]
      },
      {
       "javascript": [
        "$('div#f1c5d705-f487-4301-90fd-7755fa0a02c8').text('ETA:  0:00:00');"
       ],
       "metadata": {},
       "output_type": "display_data",
       "text": [
        "<IPython.core.display.Javascript at 0x1bce59b0>"
       ]
      },
      {
       "javascript": [
        "$('div#f432a049-1a38-405a-bd3a-267cc5e27dde').text('970 of 971');"
       ],
       "metadata": {},
       "output_type": "display_data",
       "text": [
        "<IPython.core.display.Javascript at 0x17e692b0>"
       ]
      },
      {
       "javascript": [
        "$('div#9b698331-1d7e-4083-ad53-749bfe7c5b2e').text(' 99%');"
       ],
       "metadata": {},
       "output_type": "display_data",
       "text": [
        "<IPython.core.display.Javascript at 0x198e89b0>"
       ]
      },
      {
       "javascript": [
        "\n",
        "        var $myPB = $(\"div#b1592b65-aa1d-4500-a708-93b1fda4c24a\")\n",
        "        if ($myPB.hasClass('ui-progressbar')) {\n",
        "            $myPB.progressbar('value', 970);\n",
        "        } else {\n",
        "            $myPB.progressbar({value: 0, max: 971});\n",
        "        }\n",
        "        "
       ],
       "metadata": {},
       "output_type": "display_data",
       "text": [
        "<IPython.core.display.Javascript at 0x198e8978>"
       ]
      },
      {
       "javascript": [
        "$('div#f1c5d705-f487-4301-90fd-7755fa0a02c8').text('ETA:  0:00:00');"
       ],
       "metadata": {},
       "output_type": "display_data",
       "text": [
        "<IPython.core.display.Javascript at 0x198e82e8>"
       ]
      },
      {
       "javascript": [
        "$('div#f432a049-1a38-405a-bd3a-267cc5e27dde').text('971 of 971');"
       ],
       "metadata": {},
       "output_type": "display_data",
       "text": [
        "<IPython.core.display.Javascript at 0x1f6b8390>"
       ]
      },
      {
       "javascript": [
        "$('div#9b698331-1d7e-4083-ad53-749bfe7c5b2e').text('100%');"
       ],
       "metadata": {},
       "output_type": "display_data",
       "text": [
        "<IPython.core.display.Javascript at 0x198e8f28>"
       ]
      },
      {
       "javascript": [
        "\n",
        "        var $myPB = $(\"div#b1592b65-aa1d-4500-a708-93b1fda4c24a\")\n",
        "        if ($myPB.hasClass('ui-progressbar')) {\n",
        "            $myPB.progressbar('value', 971);\n",
        "        } else {\n",
        "            $myPB.progressbar({value: 0, max: 971});\n",
        "        }\n",
        "        "
       ],
       "metadata": {},
       "output_type": "display_data",
       "text": [
        "<IPython.core.display.Javascript at 0x198e8550>"
       ]
      },
      {
       "javascript": [
        "$('div#f1c5d705-f487-4301-90fd-7755fa0a02c8').text('Time: 0:00:52');"
       ],
       "metadata": {},
       "output_type": "display_data",
       "text": [
        "<IPython.core.display.Javascript at 0x198e8c88>"
       ]
      },
      {
       "javascript": [
        "var element = document.getElementById('8871952c-d7fb-439b-9aac-8569ec9a779b');\n",
        "                    var parent = element.parentNode\n",
        "                    parent.removeChild(element);\n",
        "                    parent.parentElement.remove();"
       ],
       "metadata": {},
       "output_type": "display_data",
       "text": [
        "<IPython.core.display.Javascript at 0x170c3550>"
       ]
      },
      {
       "javascript": [
        "this.cleanProgressBar(['8871952c-d7fb-439b-9aac-8569ec9a779b', 'f432a049-1a38-405a-bd3a-267cc5e27dde', '9b698331-1d7e-4083-ad53-749bfe7c5b2e', 'b1592b65-aa1d-4500-a708-93b1fda4c24a', 'f1c5d705-f487-4301-90fd-7755fa0a02c8'])"
       ],
       "metadata": {},
       "output_type": "display_data",
       "text": [
        "<IPython.core.display.Javascript at 0x1f6b8390>"
       ]
      }
     ],
     "prompt_number": 12
    },
    {
     "cell_type": "code",
     "collapsed": false,
     "input": [
      "doc_links = mun.extract_links_from_documents(docs)"
     ],
     "language": "python",
     "metadata": {},
     "outputs": [
      {
       "javascript": [
        "//ed4328a1-75c3-4400-bd15-3b1c26898c65\n",
        "$(\"head\").append(\"<style> td.pb_widget {     width: auto; } td.pb_widget_fill {     width: 100%; } table.pb {     font-family: monospace;     border: 0;     margin: 0; } table.pb tr { border: 0; } table.pb td {     white-space: nowrap;     border: 0; } div.pb {     border: 1px solid #ddd;     border-radius: 3px; } div.pb_bar {     height: 1.5em; } </style>\")"
       ],
       "metadata": {},
       "output_type": "display_data",
       "text": [
        "<IPython.core.display.Javascript at 0x1ff91358>"
       ]
      },
      {
       "javascript": [
        "\n",
        "                  // ed4328a1-75c3-4400-bd15-3b1c26898c65 -- used to remove this code blob in the end\n",
        "                  IPython.OutputArea.prototype.cleanProgressBar = function(uuids) {\n",
        "                      // filter by uuid-strings \n",
        "                      var myfilter = function(output) { \n",
        "                          var nuids = uuids.length;\n",
        "                          for (var i=0; i<nuids; i++) {\n",
        "                              if (output.hasOwnProperty('html')) {\n",
        "                                  if (output.html.indexOf(uuids[i]) != -1) {\n",
        "                                      return false;\n",
        "                                  }\n",
        "                              }\n",
        "                              if (output.hasOwnProperty('javascript')) {\n",
        "                                  if (output.javascript.indexOf(uuids[i]) != -1) {\n",
        "                                      return false;\n",
        "                                  }\n",
        "                              }\n",
        "                          }\n",
        "                          // keep all others\n",
        "                          return true;\n",
        "                      };\n",
        "\n",
        "                      // Filter the ouputs\n",
        "                      this.outputs = this.outputs.filter(myfilter);\n",
        "                };\n",
        "                "
       ],
       "metadata": {},
       "output_type": "display_data",
       "text": [
        "<IPython.core.display.Javascript at 0x2005d438>"
       ]
      },
      {
       "html": [
        "<div class=\"pb\" id=\"ed4328a1-75c3-4400-bd15-3b1c26898c65\"><table class=\"pb ui-widget\"><tr>\n",
        "<td class=\"pb_widget\">Extracting Outgoing Links </td>\n",
        "<td class=\"pb_widget\"><div id=\"55acee56-00bb-4bb8-a88c-a43d34e78e3d\">0 of 971</div></td>\n",
        "<td class=\"pb_widget\"><div id=\"3c82b7bc-6e0d-4a17-93ee-056dcee0da62\">  0%</div></td>\n",
        "<td class=\"pb_widget_fill\">\n",
        "        <div class=\"pb_bar\" id=\"8cb3c7bc-2b54-4638-a130-ac7c09d5093f\"></div>\n",
        "        <script type=\"text/javascript\">\n",
        "            $(\"div#8cb3c7bc-2b54-4638-a130-ac7c09d5093f\").progressbar({value: 0, max: 971});\n",
        "        </script>\n",
        "        </td>\n",
        "<td class=\"pb_widget\"><div id=\"4f7fbcae-e5ba-4e7c-a28b-74b7af67a13e\">ETA:  --:--:--</div></td>\n",
        "</tr></table><div>"
       ],
       "metadata": {},
       "output_type": "display_data",
       "text": [
        "<IPython.core.display.HTML at 0x3517dd8>"
       ]
      },
      {
       "javascript": [
        "$('div#55acee56-00bb-4bb8-a88c-a43d34e78e3d').text('10 of 971');"
       ],
       "metadata": {},
       "output_type": "display_data",
       "text": [
        "<IPython.core.display.Javascript at 0x1a7b69b0>"
       ]
      },
      {
       "javascript": [
        "$('div#3c82b7bc-6e0d-4a17-93ee-056dcee0da62').text('  1%');"
       ],
       "metadata": {},
       "output_type": "display_data",
       "text": [
        "<IPython.core.display.Javascript at 0x1a7b6898>"
       ]
      },
      {
       "javascript": [
        "\n",
        "        var $myPB = $(\"div#8cb3c7bc-2b54-4638-a130-ac7c09d5093f\")\n",
        "        if ($myPB.hasClass('ui-progressbar')) {\n",
        "            $myPB.progressbar('value', 10);\n",
        "        } else {\n",
        "            $myPB.progressbar({value: 0, max: 971});\n",
        "        }\n",
        "        "
       ],
       "metadata": {},
       "output_type": "display_data",
       "text": [
        "<IPython.core.display.Javascript at 0x1a7b6898>"
       ]
      },
      {
       "javascript": [
        "$('div#4f7fbcae-e5ba-4e7c-a28b-74b7af67a13e').text('ETA:  0:00:06');"
       ],
       "metadata": {},
       "output_type": "display_data",
       "text": [
        "<IPython.core.display.Javascript at 0x1a7b66d8>"
       ]
      },
      {
       "javascript": [
        "$('div#55acee56-00bb-4bb8-a88c-a43d34e78e3d').text('20 of 971');"
       ],
       "metadata": {},
       "output_type": "display_data",
       "text": [
        "<IPython.core.display.Javascript at 0x193532b0>"
       ]
      },
      {
       "javascript": [
        "$('div#3c82b7bc-6e0d-4a17-93ee-056dcee0da62').text('  2%');"
       ],
       "metadata": {},
       "output_type": "display_data",
       "text": [
        "<IPython.core.display.Javascript at 0x19353748>"
       ]
      },
      {
       "javascript": [
        "\n",
        "        var $myPB = $(\"div#8cb3c7bc-2b54-4638-a130-ac7c09d5093f\")\n",
        "        if ($myPB.hasClass('ui-progressbar')) {\n",
        "            $myPB.progressbar('value', 20);\n",
        "        } else {\n",
        "            $myPB.progressbar({value: 0, max: 971});\n",
        "        }\n",
        "        "
       ],
       "metadata": {},
       "output_type": "display_data",
       "text": [
        "<IPython.core.display.Javascript at 0x1a7b66d8>"
       ]
      },
      {
       "javascript": [
        "$('div#4f7fbcae-e5ba-4e7c-a28b-74b7af67a13e').text('ETA:  0:00:06');"
       ],
       "metadata": {},
       "output_type": "display_data",
       "text": [
        "<IPython.core.display.Javascript at 0x1a7b6898>"
       ]
      },
      {
       "javascript": [
        "$('div#55acee56-00bb-4bb8-a88c-a43d34e78e3d').text('30 of 971');"
       ],
       "metadata": {},
       "output_type": "display_data",
       "text": [
        "<IPython.core.display.Javascript at 0x16f796d8>"
       ]
      },
      {
       "javascript": [
        "$('div#3c82b7bc-6e0d-4a17-93ee-056dcee0da62').text('  3%');"
       ],
       "metadata": {},
       "output_type": "display_data",
       "text": [
        "<IPython.core.display.Javascript at 0x1f6159e8>"
       ]
      },
      {
       "javascript": [
        "\n",
        "        var $myPB = $(\"div#8cb3c7bc-2b54-4638-a130-ac7c09d5093f\")\n",
        "        if ($myPB.hasClass('ui-progressbar')) {\n",
        "            $myPB.progressbar('value', 30);\n",
        "        } else {\n",
        "            $myPB.progressbar({value: 0, max: 971});\n",
        "        }\n",
        "        "
       ],
       "metadata": {},
       "output_type": "display_data",
       "text": [
        "<IPython.core.display.Javascript at 0x16f796d8>"
       ]
      },
      {
       "javascript": [
        "$('div#4f7fbcae-e5ba-4e7c-a28b-74b7af67a13e').text('ETA:  0:00:05');"
       ],
       "metadata": {},
       "output_type": "display_data",
       "text": [
        "<IPython.core.display.Javascript at 0x1a7b6898>"
       ]
      },
      {
       "javascript": [
        "$('div#55acee56-00bb-4bb8-a88c-a43d34e78e3d').text('40 of 971');"
       ],
       "metadata": {},
       "output_type": "display_data",
       "text": [
        "<IPython.core.display.Javascript at 0x17235be0>"
       ]
      },
      {
       "javascript": [
        "$('div#3c82b7bc-6e0d-4a17-93ee-056dcee0da62').text('  4%');"
       ],
       "metadata": {},
       "output_type": "display_data",
       "text": [
        "<IPython.core.display.Javascript at 0x17235470>"
       ]
      },
      {
       "javascript": [
        "\n",
        "        var $myPB = $(\"div#8cb3c7bc-2b54-4638-a130-ac7c09d5093f\")\n",
        "        if ($myPB.hasClass('ui-progressbar')) {\n",
        "            $myPB.progressbar('value', 40);\n",
        "        } else {\n",
        "            $myPB.progressbar({value: 0, max: 971});\n",
        "        }\n",
        "        "
       ],
       "metadata": {},
       "output_type": "display_data",
       "text": [
        "<IPython.core.display.Javascript at 0x1a7b6898>"
       ]
      },
      {
       "javascript": [
        "$('div#4f7fbcae-e5ba-4e7c-a28b-74b7af67a13e').text('ETA:  0:00:06');"
       ],
       "metadata": {},
       "output_type": "display_data",
       "text": [
        "<IPython.core.display.Javascript at 0x16f796d8>"
       ]
      },
      {
       "javascript": [
        "$('div#55acee56-00bb-4bb8-a88c-a43d34e78e3d').text('50 of 971');"
       ],
       "metadata": {},
       "output_type": "display_data",
       "text": [
        "<IPython.core.display.Javascript at 0x17769c18>"
       ]
      },
      {
       "javascript": [
        "$('div#3c82b7bc-6e0d-4a17-93ee-056dcee0da62').text('  5%');"
       ],
       "metadata": {},
       "output_type": "display_data",
       "text": [
        "<IPython.core.display.Javascript at 0x17769748>"
       ]
      },
      {
       "javascript": [
        "\n",
        "        var $myPB = $(\"div#8cb3c7bc-2b54-4638-a130-ac7c09d5093f\")\n",
        "        if ($myPB.hasClass('ui-progressbar')) {\n",
        "            $myPB.progressbar('value', 50);\n",
        "        } else {\n",
        "            $myPB.progressbar({value: 0, max: 971});\n",
        "        }\n",
        "        "
       ],
       "metadata": {},
       "output_type": "display_data",
       "text": [
        "<IPython.core.display.Javascript at 0x16f796d8>"
       ]
      },
      {
       "javascript": [
        "$('div#4f7fbcae-e5ba-4e7c-a28b-74b7af67a13e').text('ETA:  0:00:07');"
       ],
       "metadata": {},
       "output_type": "display_data",
       "text": [
        "<IPython.core.display.Javascript at 0x1a7b6898>"
       ]
      },
      {
       "javascript": [
        "$('div#55acee56-00bb-4bb8-a88c-a43d34e78e3d').text('60 of 971');"
       ],
       "metadata": {},
       "output_type": "display_data",
       "text": [
        "<IPython.core.display.Javascript at 0x14cbfc18>"
       ]
      },
      {
       "javascript": [
        "$('div#3c82b7bc-6e0d-4a17-93ee-056dcee0da62').text('  6%');"
       ],
       "metadata": {},
       "output_type": "display_data",
       "text": [
        "<IPython.core.display.Javascript at 0x14cbf0f0>"
       ]
      },
      {
       "javascript": [
        "\n",
        "        var $myPB = $(\"div#8cb3c7bc-2b54-4638-a130-ac7c09d5093f\")\n",
        "        if ($myPB.hasClass('ui-progressbar')) {\n",
        "            $myPB.progressbar('value', 60);\n",
        "        } else {\n",
        "            $myPB.progressbar({value: 0, max: 971});\n",
        "        }\n",
        "        "
       ],
       "metadata": {},
       "output_type": "display_data",
       "text": [
        "<IPython.core.display.Javascript at 0x14cbfa20>"
       ]
      },
      {
       "javascript": [
        "$('div#4f7fbcae-e5ba-4e7c-a28b-74b7af67a13e').text('ETA:  0:00:07');"
       ],
       "metadata": {},
       "output_type": "display_data",
       "text": [
        "<IPython.core.display.Javascript at 0x16f796d8>"
       ]
      },
      {
       "javascript": [
        "$('div#55acee56-00bb-4bb8-a88c-a43d34e78e3d').text('70 of 971');"
       ],
       "metadata": {},
       "output_type": "display_data",
       "text": [
        "<IPython.core.display.Javascript at 0x13a3dda0>"
       ]
      },
      {
       "javascript": [
        "$('div#3c82b7bc-6e0d-4a17-93ee-056dcee0da62').text('  7%');"
       ],
       "metadata": {},
       "output_type": "display_data",
       "text": [
        "<IPython.core.display.Javascript at 0x188076a0>"
       ]
      },
      {
       "javascript": [
        "\n",
        "        var $myPB = $(\"div#8cb3c7bc-2b54-4638-a130-ac7c09d5093f\")\n",
        "        if ($myPB.hasClass('ui-progressbar')) {\n",
        "            $myPB.progressbar('value', 70);\n",
        "        } else {\n",
        "            $myPB.progressbar({value: 0, max: 971});\n",
        "        }\n",
        "        "
       ],
       "metadata": {},
       "output_type": "display_data",
       "text": [
        "<IPython.core.display.Javascript at 0x18807668>"
       ]
      },
      {
       "javascript": [
        "$('div#4f7fbcae-e5ba-4e7c-a28b-74b7af67a13e').text('ETA:  0:00:06');"
       ],
       "metadata": {},
       "output_type": "display_data",
       "text": [
        "<IPython.core.display.Javascript at 0x16f796d8>"
       ]
      },
      {
       "javascript": [
        "$('div#55acee56-00bb-4bb8-a88c-a43d34e78e3d').text('80 of 971');"
       ],
       "metadata": {},
       "output_type": "display_data",
       "text": [
        "<IPython.core.display.Javascript at 0x14c22ac8>"
       ]
      },
      {
       "javascript": [
        "$('div#3c82b7bc-6e0d-4a17-93ee-056dcee0da62').text('  8%');"
       ],
       "metadata": {},
       "output_type": "display_data",
       "text": [
        "<IPython.core.display.Javascript at 0x14c22b38>"
       ]
      },
      {
       "javascript": [
        "\n",
        "        var $myPB = $(\"div#8cb3c7bc-2b54-4638-a130-ac7c09d5093f\")\n",
        "        if ($myPB.hasClass('ui-progressbar')) {\n",
        "            $myPB.progressbar('value', 80);\n",
        "        } else {\n",
        "            $myPB.progressbar({value: 0, max: 971});\n",
        "        }\n",
        "        "
       ],
       "metadata": {},
       "output_type": "display_data",
       "text": [
        "<IPython.core.display.Javascript at 0x14c22048>"
       ]
      },
      {
       "javascript": [
        "$('div#4f7fbcae-e5ba-4e7c-a28b-74b7af67a13e').text('ETA:  0:00:07');"
       ],
       "metadata": {},
       "output_type": "display_data",
       "text": [
        "<IPython.core.display.Javascript at 0x16f796d8>"
       ]
      },
      {
       "javascript": [
        "$('div#55acee56-00bb-4bb8-a88c-a43d34e78e3d').text('90 of 971');"
       ],
       "metadata": {},
       "output_type": "display_data",
       "text": [
        "<IPython.core.display.Javascript at 0x1a44ca58>"
       ]
      },
      {
       "javascript": [
        "$('div#3c82b7bc-6e0d-4a17-93ee-056dcee0da62').text('  9%');"
       ],
       "metadata": {},
       "output_type": "display_data",
       "text": [
        "<IPython.core.display.Javascript at 0x1a44c438>"
       ]
      },
      {
       "javascript": [
        "\n",
        "        var $myPB = $(\"div#8cb3c7bc-2b54-4638-a130-ac7c09d5093f\")\n",
        "        if ($myPB.hasClass('ui-progressbar')) {\n",
        "            $myPB.progressbar('value', 90);\n",
        "        } else {\n",
        "            $myPB.progressbar({value: 0, max: 971});\n",
        "        }\n",
        "        "
       ],
       "metadata": {},
       "output_type": "display_data",
       "text": [
        "<IPython.core.display.Javascript at 0x1a44cc88>"
       ]
      },
      {
       "javascript": [
        "$('div#4f7fbcae-e5ba-4e7c-a28b-74b7af67a13e').text('ETA:  0:00:07');"
       ],
       "metadata": {},
       "output_type": "display_data",
       "text": [
        "<IPython.core.display.Javascript at 0x16f796d8>"
       ]
      },
      {
       "javascript": [
        "$('div#55acee56-00bb-4bb8-a88c-a43d34e78e3d').text('100 of 971');"
       ],
       "metadata": {},
       "output_type": "display_data",
       "text": [
        "<IPython.core.display.Javascript at 0x171824e0>"
       ]
      },
      {
       "javascript": [
        "$('div#3c82b7bc-6e0d-4a17-93ee-056dcee0da62').text(' 10%');"
       ],
       "metadata": {},
       "output_type": "display_data",
       "text": [
        "<IPython.core.display.Javascript at 0x17182a58>"
       ]
      },
      {
       "javascript": [
        "\n",
        "        var $myPB = $(\"div#8cb3c7bc-2b54-4638-a130-ac7c09d5093f\")\n",
        "        if ($myPB.hasClass('ui-progressbar')) {\n",
        "            $myPB.progressbar('value', 100);\n",
        "        } else {\n",
        "            $myPB.progressbar({value: 0, max: 971});\n",
        "        }\n",
        "        "
       ],
       "metadata": {},
       "output_type": "display_data",
       "text": [
        "<IPython.core.display.Javascript at 0x17182d68>"
       ]
      },
      {
       "javascript": [
        "$('div#4f7fbcae-e5ba-4e7c-a28b-74b7af67a13e').text('ETA:  0:00:07');"
       ],
       "metadata": {},
       "output_type": "display_data",
       "text": [
        "<IPython.core.display.Javascript at 0x16f796d8>"
       ]
      },
      {
       "javascript": [
        "$('div#55acee56-00bb-4bb8-a88c-a43d34e78e3d').text('110 of 971');"
       ],
       "metadata": {},
       "output_type": "display_data",
       "text": [
        "<IPython.core.display.Javascript at 0x1f5ba240>"
       ]
      },
      {
       "javascript": [
        "$('div#3c82b7bc-6e0d-4a17-93ee-056dcee0da62').text(' 11%');"
       ],
       "metadata": {},
       "output_type": "display_data",
       "text": [
        "<IPython.core.display.Javascript at 0x1f5ba048>"
       ]
      },
      {
       "javascript": [
        "\n",
        "        var $myPB = $(\"div#8cb3c7bc-2b54-4638-a130-ac7c09d5093f\")\n",
        "        if ($myPB.hasClass('ui-progressbar')) {\n",
        "            $myPB.progressbar('value', 110);\n",
        "        } else {\n",
        "            $myPB.progressbar({value: 0, max: 971});\n",
        "        }\n",
        "        "
       ],
       "metadata": {},
       "output_type": "display_data",
       "text": [
        "<IPython.core.display.Javascript at 0x1f5ba8d0>"
       ]
      },
      {
       "javascript": [
        "$('div#4f7fbcae-e5ba-4e7c-a28b-74b7af67a13e').text('ETA:  0:00:07');"
       ],
       "metadata": {},
       "output_type": "display_data",
       "text": [
        "<IPython.core.display.Javascript at 0x1f5ba8d0>"
       ]
      },
      {
       "javascript": [
        "$('div#55acee56-00bb-4bb8-a88c-a43d34e78e3d').text('120 of 971');"
       ],
       "metadata": {},
       "output_type": "display_data",
       "text": [
        "<IPython.core.display.Javascript at 0x1ce2c278>"
       ]
      },
      {
       "javascript": [
        "$('div#3c82b7bc-6e0d-4a17-93ee-056dcee0da62').text(' 12%');"
       ],
       "metadata": {},
       "output_type": "display_data",
       "text": [
        "<IPython.core.display.Javascript at 0x1ce2c908>"
       ]
      },
      {
       "javascript": [
        "\n",
        "        var $myPB = $(\"div#8cb3c7bc-2b54-4638-a130-ac7c09d5093f\")\n",
        "        if ($myPB.hasClass('ui-progressbar')) {\n",
        "            $myPB.progressbar('value', 120);\n",
        "        } else {\n",
        "            $myPB.progressbar({value: 0, max: 971});\n",
        "        }\n",
        "        "
       ],
       "metadata": {},
       "output_type": "display_data",
       "text": [
        "<IPython.core.display.Javascript at 0x1ce2cc18>"
       ]
      },
      {
       "javascript": [
        "$('div#4f7fbcae-e5ba-4e7c-a28b-74b7af67a13e').text('ETA:  0:00:06');"
       ],
       "metadata": {},
       "output_type": "display_data",
       "text": [
        "<IPython.core.display.Javascript at 0x1f5ba8d0>"
       ]
      },
      {
       "javascript": [
        "$('div#55acee56-00bb-4bb8-a88c-a43d34e78e3d').text('130 of 971');"
       ],
       "metadata": {},
       "output_type": "display_data",
       "text": [
        "<IPython.core.display.Javascript at 0x15d7ecf8>"
       ]
      },
      {
       "javascript": [
        "$('div#3c82b7bc-6e0d-4a17-93ee-056dcee0da62').text(' 13%');"
       ],
       "metadata": {},
       "output_type": "display_data",
       "text": [
        "<IPython.core.display.Javascript at 0x15d7eb00>"
       ]
      },
      {
       "javascript": [
        "\n",
        "        var $myPB = $(\"div#8cb3c7bc-2b54-4638-a130-ac7c09d5093f\")\n",
        "        if ($myPB.hasClass('ui-progressbar')) {\n",
        "            $myPB.progressbar('value', 130);\n",
        "        } else {\n",
        "            $myPB.progressbar({value: 0, max: 971});\n",
        "        }\n",
        "        "
       ],
       "metadata": {},
       "output_type": "display_data",
       "text": [
        "<IPython.core.display.Javascript at 0x15d7e4e0>"
       ]
      },
      {
       "javascript": [
        "$('div#4f7fbcae-e5ba-4e7c-a28b-74b7af67a13e').text('ETA:  0:00:06');"
       ],
       "metadata": {},
       "output_type": "display_data",
       "text": [
        "<IPython.core.display.Javascript at 0x1f5ba8d0>"
       ]
      },
      {
       "javascript": [
        "$('div#55acee56-00bb-4bb8-a88c-a43d34e78e3d').text('140 of 971');"
       ],
       "metadata": {},
       "output_type": "display_data",
       "text": [
        "<IPython.core.display.Javascript at 0x13d38320>"
       ]
      },
      {
       "javascript": [
        "$('div#3c82b7bc-6e0d-4a17-93ee-056dcee0da62').text(' 14%');"
       ],
       "metadata": {},
       "output_type": "display_data",
       "text": [
        "<IPython.core.display.Javascript at 0x13d38160>"
       ]
      },
      {
       "javascript": [
        "\n",
        "        var $myPB = $(\"div#8cb3c7bc-2b54-4638-a130-ac7c09d5093f\")\n",
        "        if ($myPB.hasClass('ui-progressbar')) {\n",
        "            $myPB.progressbar('value', 140);\n",
        "        } else {\n",
        "            $myPB.progressbar({value: 0, max: 971});\n",
        "        }\n",
        "        "
       ],
       "metadata": {},
       "output_type": "display_data",
       "text": [
        "<IPython.core.display.Javascript at 0x13d38e48>"
       ]
      },
      {
       "javascript": [
        "$('div#4f7fbcae-e5ba-4e7c-a28b-74b7af67a13e').text('ETA:  0:00:06');"
       ],
       "metadata": {},
       "output_type": "display_data",
       "text": [
        "<IPython.core.display.Javascript at 0x1f5ba8d0>"
       ]
      },
      {
       "javascript": [
        "$('div#55acee56-00bb-4bb8-a88c-a43d34e78e3d').text('150 of 971');"
       ],
       "metadata": {},
       "output_type": "display_data",
       "text": [
        "<IPython.core.display.Javascript at 0x1b1326d8>"
       ]
      },
      {
       "javascript": [
        "$('div#3c82b7bc-6e0d-4a17-93ee-056dcee0da62').text(' 15%');"
       ],
       "metadata": {},
       "output_type": "display_data",
       "text": [
        "<IPython.core.display.Javascript at 0x1b132358>"
       ]
      },
      {
       "javascript": [
        "\n",
        "        var $myPB = $(\"div#8cb3c7bc-2b54-4638-a130-ac7c09d5093f\")\n",
        "        if ($myPB.hasClass('ui-progressbar')) {\n",
        "            $myPB.progressbar('value', 150);\n",
        "        } else {\n",
        "            $myPB.progressbar({value: 0, max: 971});\n",
        "        }\n",
        "        "
       ],
       "metadata": {},
       "output_type": "display_data",
       "text": [
        "<IPython.core.display.Javascript at 0x1b1323c8>"
       ]
      },
      {
       "javascript": [
        "$('div#4f7fbcae-e5ba-4e7c-a28b-74b7af67a13e').text('ETA:  0:00:06');"
       ],
       "metadata": {},
       "output_type": "display_data",
       "text": [
        "<IPython.core.display.Javascript at 0x1f5ba8d0>"
       ]
      },
      {
       "javascript": [
        "$('div#55acee56-00bb-4bb8-a88c-a43d34e78e3d').text('160 of 971');"
       ],
       "metadata": {},
       "output_type": "display_data",
       "text": [
        "<IPython.core.display.Javascript at 0x17c75470>"
       ]
      },
      {
       "javascript": [
        "$('div#3c82b7bc-6e0d-4a17-93ee-056dcee0da62').text(' 16%');"
       ],
       "metadata": {},
       "output_type": "display_data",
       "text": [
        "<IPython.core.display.Javascript at 0x17c75550>"
       ]
      },
      {
       "javascript": [
        "\n",
        "        var $myPB = $(\"div#8cb3c7bc-2b54-4638-a130-ac7c09d5093f\")\n",
        "        if ($myPB.hasClass('ui-progressbar')) {\n",
        "            $myPB.progressbar('value', 160);\n",
        "        } else {\n",
        "            $myPB.progressbar({value: 0, max: 971});\n",
        "        }\n",
        "        "
       ],
       "metadata": {},
       "output_type": "display_data",
       "text": [
        "<IPython.core.display.Javascript at 0x17c75c88>"
       ]
      },
      {
       "javascript": [
        "$('div#4f7fbcae-e5ba-4e7c-a28b-74b7af67a13e').text('ETA:  0:00:05');"
       ],
       "metadata": {},
       "output_type": "display_data",
       "text": [
        "<IPython.core.display.Javascript at 0x14cbfa20>"
       ]
      },
      {
       "javascript": [
        "$('div#55acee56-00bb-4bb8-a88c-a43d34e78e3d').text('170 of 971');"
       ],
       "metadata": {},
       "output_type": "display_data",
       "text": [
        "<IPython.core.display.Javascript at 0x17f2ff98>"
       ]
      },
      {
       "javascript": [
        "$('div#3c82b7bc-6e0d-4a17-93ee-056dcee0da62').text(' 17%');"
       ],
       "metadata": {},
       "output_type": "display_data",
       "text": [
        "<IPython.core.display.Javascript at 0x17f2f6d8>"
       ]
      },
      {
       "javascript": [
        "\n",
        "        var $myPB = $(\"div#8cb3c7bc-2b54-4638-a130-ac7c09d5093f\")\n",
        "        if ($myPB.hasClass('ui-progressbar')) {\n",
        "            $myPB.progressbar('value', 170);\n",
        "        } else {\n",
        "            $myPB.progressbar({value: 0, max: 971});\n",
        "        }\n",
        "        "
       ],
       "metadata": {},
       "output_type": "display_data",
       "text": [
        "<IPython.core.display.Javascript at 0x17f2fa90>"
       ]
      },
      {
       "javascript": [
        "$('div#4f7fbcae-e5ba-4e7c-a28b-74b7af67a13e').text('ETA:  0:00:05');"
       ],
       "metadata": {},
       "output_type": "display_data",
       "text": [
        "<IPython.core.display.Javascript at 0x14cbfa20>"
       ]
      },
      {
       "javascript": [
        "$('div#55acee56-00bb-4bb8-a88c-a43d34e78e3d').text('180 of 971');"
       ],
       "metadata": {},
       "output_type": "display_data",
       "text": [
        "<IPython.core.display.Javascript at 0x1a22fcf8>"
       ]
      },
      {
       "javascript": [
        "$('div#3c82b7bc-6e0d-4a17-93ee-056dcee0da62').text(' 18%');"
       ],
       "metadata": {},
       "output_type": "display_data",
       "text": [
        "<IPython.core.display.Javascript at 0x1a22f3c8>"
       ]
      },
      {
       "javascript": [
        "\n",
        "        var $myPB = $(\"div#8cb3c7bc-2b54-4638-a130-ac7c09d5093f\")\n",
        "        if ($myPB.hasClass('ui-progressbar')) {\n",
        "            $myPB.progressbar('value', 180);\n",
        "        } else {\n",
        "            $myPB.progressbar({value: 0, max: 971});\n",
        "        }\n",
        "        "
       ],
       "metadata": {},
       "output_type": "display_data",
       "text": [
        "<IPython.core.display.Javascript at 0x1a22f240>"
       ]
      },
      {
       "javascript": [
        "$('div#4f7fbcae-e5ba-4e7c-a28b-74b7af67a13e').text('ETA:  0:00:05');"
       ],
       "metadata": {},
       "output_type": "display_data",
       "text": [
        "<IPython.core.display.Javascript at 0x14cbfa20>"
       ]
      },
      {
       "javascript": [
        "$('div#55acee56-00bb-4bb8-a88c-a43d34e78e3d').text('190 of 971');"
       ],
       "metadata": {},
       "output_type": "display_data",
       "text": [
        "<IPython.core.display.Javascript at 0x1f8743c8>"
       ]
      },
      {
       "javascript": [
        "$('div#3c82b7bc-6e0d-4a17-93ee-056dcee0da62').text(' 19%');"
       ],
       "metadata": {},
       "output_type": "display_data",
       "text": [
        "<IPython.core.display.Javascript at 0x1f874198>"
       ]
      },
      {
       "javascript": [
        "\n",
        "        var $myPB = $(\"div#8cb3c7bc-2b54-4638-a130-ac7c09d5093f\")\n",
        "        if ($myPB.hasClass('ui-progressbar')) {\n",
        "            $myPB.progressbar('value', 190);\n",
        "        } else {\n",
        "            $myPB.progressbar({value: 0, max: 971});\n",
        "        }\n",
        "        "
       ],
       "metadata": {},
       "output_type": "display_data",
       "text": [
        "<IPython.core.display.Javascript at 0x1f874e80>"
       ]
      },
      {
       "javascript": [
        "$('div#4f7fbcae-e5ba-4e7c-a28b-74b7af67a13e').text('ETA:  0:00:05');"
       ],
       "metadata": {},
       "output_type": "display_data",
       "text": [
        "<IPython.core.display.Javascript at 0x14cbfa20>"
       ]
      },
      {
       "javascript": [
        "$('div#55acee56-00bb-4bb8-a88c-a43d34e78e3d').text('200 of 971');"
       ],
       "metadata": {},
       "output_type": "display_data",
       "text": [
        "<IPython.core.display.Javascript at 0x1f7432b0>"
       ]
      },
      {
       "javascript": [
        "$('div#3c82b7bc-6e0d-4a17-93ee-056dcee0da62').text(' 20%');"
       ],
       "metadata": {},
       "output_type": "display_data",
       "text": [
        "<IPython.core.display.Javascript at 0x1f743e80>"
       ]
      },
      {
       "javascript": [
        "\n",
        "        var $myPB = $(\"div#8cb3c7bc-2b54-4638-a130-ac7c09d5093f\")\n",
        "        if ($myPB.hasClass('ui-progressbar')) {\n",
        "            $myPB.progressbar('value', 200);\n",
        "        } else {\n",
        "            $myPB.progressbar({value: 0, max: 971});\n",
        "        }\n",
        "        "
       ],
       "metadata": {},
       "output_type": "display_data",
       "text": [
        "<IPython.core.display.Javascript at 0x1f7437b8>"
       ]
      },
      {
       "javascript": [
        "$('div#4f7fbcae-e5ba-4e7c-a28b-74b7af67a13e').text('ETA:  0:00:05');"
       ],
       "metadata": {},
       "output_type": "display_data",
       "text": [
        "<IPython.core.display.Javascript at 0x14cbfa20>"
       ]
      },
      {
       "javascript": [
        "$('div#55acee56-00bb-4bb8-a88c-a43d34e78e3d').text('210 of 971');"
       ],
       "metadata": {},
       "output_type": "display_data",
       "text": [
        "<IPython.core.display.Javascript at 0x165aa3c8>"
       ]
      },
      {
       "javascript": [
        "$('div#3c82b7bc-6e0d-4a17-93ee-056dcee0da62').text(' 21%');"
       ],
       "metadata": {},
       "output_type": "display_data",
       "text": [
        "<IPython.core.display.Javascript at 0x165aa860>"
       ]
      },
      {
       "javascript": [
        "\n",
        "        var $myPB = $(\"div#8cb3c7bc-2b54-4638-a130-ac7c09d5093f\")\n",
        "        if ($myPB.hasClass('ui-progressbar')) {\n",
        "            $myPB.progressbar('value', 210);\n",
        "        } else {\n",
        "            $myPB.progressbar({value: 0, max: 971});\n",
        "        }\n",
        "        "
       ],
       "metadata": {},
       "output_type": "display_data",
       "text": [
        "<IPython.core.display.Javascript at 0x165aa470>"
       ]
      },
      {
       "javascript": [
        "$('div#4f7fbcae-e5ba-4e7c-a28b-74b7af67a13e').text('ETA:  0:00:05');"
       ],
       "metadata": {},
       "output_type": "display_data",
       "text": [
        "<IPython.core.display.Javascript at 0x165aa470>"
       ]
      },
      {
       "javascript": [
        "$('div#55acee56-00bb-4bb8-a88c-a43d34e78e3d').text('220 of 971');"
       ],
       "metadata": {},
       "output_type": "display_data",
       "text": [
        "<IPython.core.display.Javascript at 0x15c68080>"
       ]
      },
      {
       "javascript": [
        "$('div#3c82b7bc-6e0d-4a17-93ee-056dcee0da62').text(' 22%');"
       ],
       "metadata": {},
       "output_type": "display_data",
       "text": [
        "<IPython.core.display.Javascript at 0x15c684a8>"
       ]
      },
      {
       "javascript": [
        "\n",
        "        var $myPB = $(\"div#8cb3c7bc-2b54-4638-a130-ac7c09d5093f\")\n",
        "        if ($myPB.hasClass('ui-progressbar')) {\n",
        "            $myPB.progressbar('value', 220);\n",
        "        } else {\n",
        "            $myPB.progressbar({value: 0, max: 971});\n",
        "        }\n",
        "        "
       ],
       "metadata": {},
       "output_type": "display_data",
       "text": [
        "<IPython.core.display.Javascript at 0x15c68240>"
       ]
      },
      {
       "javascript": [
        "$('div#4f7fbcae-e5ba-4e7c-a28b-74b7af67a13e').text('ETA:  0:00:05');"
       ],
       "metadata": {},
       "output_type": "display_data",
       "text": [
        "<IPython.core.display.Javascript at 0x15c68240>"
       ]
      },
      {
       "javascript": [
        "$('div#55acee56-00bb-4bb8-a88c-a43d34e78e3d').text('230 of 971');"
       ],
       "metadata": {},
       "output_type": "display_data",
       "text": [
        "<IPython.core.display.Javascript at 0x17d22860>"
       ]
      },
      {
       "javascript": [
        "$('div#3c82b7bc-6e0d-4a17-93ee-056dcee0da62').text(' 23%');"
       ],
       "metadata": {},
       "output_type": "display_data",
       "text": [
        "<IPython.core.display.Javascript at 0x17d22278>"
       ]
      },
      {
       "javascript": [
        "\n",
        "        var $myPB = $(\"div#8cb3c7bc-2b54-4638-a130-ac7c09d5093f\")\n",
        "        if ($myPB.hasClass('ui-progressbar')) {\n",
        "            $myPB.progressbar('value', 230);\n",
        "        } else {\n",
        "            $myPB.progressbar({value: 0, max: 971});\n",
        "        }\n",
        "        "
       ],
       "metadata": {},
       "output_type": "display_data",
       "text": [
        "<IPython.core.display.Javascript at 0x17d22a58>"
       ]
      },
      {
       "javascript": [
        "$('div#4f7fbcae-e5ba-4e7c-a28b-74b7af67a13e').text('ETA:  0:00:05');"
       ],
       "metadata": {},
       "output_type": "display_data",
       "text": [
        "<IPython.core.display.Javascript at 0x17d22a58>"
       ]
      },
      {
       "javascript": [
        "$('div#55acee56-00bb-4bb8-a88c-a43d34e78e3d').text('240 of 971');"
       ],
       "metadata": {},
       "output_type": "display_data",
       "text": [
        "<IPython.core.display.Javascript at 0x13d7a208>"
       ]
      },
      {
       "javascript": [
        "$('div#3c82b7bc-6e0d-4a17-93ee-056dcee0da62').text(' 24%');"
       ],
       "metadata": {},
       "output_type": "display_data",
       "text": [
        "<IPython.core.display.Javascript at 0x13d7a358>"
       ]
      },
      {
       "javascript": [
        "\n",
        "        var $myPB = $(\"div#8cb3c7bc-2b54-4638-a130-ac7c09d5093f\")\n",
        "        if ($myPB.hasClass('ui-progressbar')) {\n",
        "            $myPB.progressbar('value', 240);\n",
        "        } else {\n",
        "            $myPB.progressbar({value: 0, max: 971});\n",
        "        }\n",
        "        "
       ],
       "metadata": {},
       "output_type": "display_data",
       "text": [
        "<IPython.core.display.Javascript at 0x13d7a940>"
       ]
      },
      {
       "javascript": [
        "$('div#4f7fbcae-e5ba-4e7c-a28b-74b7af67a13e').text('ETA:  0:00:04');"
       ],
       "metadata": {},
       "output_type": "display_data",
       "text": [
        "<IPython.core.display.Javascript at 0x17d22a58>"
       ]
      },
      {
       "javascript": [
        "$('div#55acee56-00bb-4bb8-a88c-a43d34e78e3d').text('250 of 971');"
       ],
       "metadata": {},
       "output_type": "display_data",
       "text": [
        "<IPython.core.display.Javascript at 0x1c8631d0>"
       ]
      },
      {
       "javascript": [
        "$('div#3c82b7bc-6e0d-4a17-93ee-056dcee0da62').text(' 25%');"
       ],
       "metadata": {},
       "output_type": "display_data",
       "text": [
        "<IPython.core.display.Javascript at 0x1c8630f0>"
       ]
      },
      {
       "javascript": [
        "\n",
        "        var $myPB = $(\"div#8cb3c7bc-2b54-4638-a130-ac7c09d5093f\")\n",
        "        if ($myPB.hasClass('ui-progressbar')) {\n",
        "            $myPB.progressbar('value', 250);\n",
        "        } else {\n",
        "            $myPB.progressbar({value: 0, max: 971});\n",
        "        }\n",
        "        "
       ],
       "metadata": {},
       "output_type": "display_data",
       "text": [
        "<IPython.core.display.Javascript at 0x1c863550>"
       ]
      },
      {
       "javascript": [
        "$('div#4f7fbcae-e5ba-4e7c-a28b-74b7af67a13e').text('ETA:  0:00:04');"
       ],
       "metadata": {},
       "output_type": "display_data",
       "text": [
        "<IPython.core.display.Javascript at 0x17d22a58>"
       ]
      },
      {
       "javascript": [
        "$('div#55acee56-00bb-4bb8-a88c-a43d34e78e3d').text('260 of 971');"
       ],
       "metadata": {},
       "output_type": "display_data",
       "text": [
        "<IPython.core.display.Javascript at 0x1fe084a8>"
       ]
      },
      {
       "javascript": [
        "$('div#3c82b7bc-6e0d-4a17-93ee-056dcee0da62').text(' 26%');"
       ],
       "metadata": {},
       "output_type": "display_data",
       "text": [
        "<IPython.core.display.Javascript at 0x1fe08978>"
       ]
      },
      {
       "javascript": [
        "\n",
        "        var $myPB = $(\"div#8cb3c7bc-2b54-4638-a130-ac7c09d5093f\")\n",
        "        if ($myPB.hasClass('ui-progressbar')) {\n",
        "            $myPB.progressbar('value', 260);\n",
        "        } else {\n",
        "            $myPB.progressbar({value: 0, max: 971});\n",
        "        }\n",
        "        "
       ],
       "metadata": {},
       "output_type": "display_data",
       "text": [
        "<IPython.core.display.Javascript at 0x1fe082e8>"
       ]
      },
      {
       "javascript": [
        "$('div#4f7fbcae-e5ba-4e7c-a28b-74b7af67a13e').text('ETA:  0:00:04');"
       ],
       "metadata": {},
       "output_type": "display_data",
       "text": [
        "<IPython.core.display.Javascript at 0x17d22a58>"
       ]
      },
      {
       "javascript": [
        "$('div#55acee56-00bb-4bb8-a88c-a43d34e78e3d').text('270 of 971');"
       ],
       "metadata": {},
       "output_type": "display_data",
       "text": [
        "<IPython.core.display.Javascript at 0x1a9ba278>"
       ]
      },
      {
       "javascript": [
        "$('div#3c82b7bc-6e0d-4a17-93ee-056dcee0da62').text(' 27%');"
       ],
       "metadata": {},
       "output_type": "display_data",
       "text": [
        "<IPython.core.display.Javascript at 0x1a9ba9b0>"
       ]
      },
      {
       "javascript": [
        "\n",
        "        var $myPB = $(\"div#8cb3c7bc-2b54-4638-a130-ac7c09d5093f\")\n",
        "        if ($myPB.hasClass('ui-progressbar')) {\n",
        "            $myPB.progressbar('value', 270);\n",
        "        } else {\n",
        "            $myPB.progressbar({value: 0, max: 971});\n",
        "        }\n",
        "        "
       ],
       "metadata": {},
       "output_type": "display_data",
       "text": [
        "<IPython.core.display.Javascript at 0x1a9ba470>"
       ]
      },
      {
       "javascript": [
        "$('div#4f7fbcae-e5ba-4e7c-a28b-74b7af67a13e').text('ETA:  0:00:04');"
       ],
       "metadata": {},
       "output_type": "display_data",
       "text": [
        "<IPython.core.display.Javascript at 0x17d22a58>"
       ]
      },
      {
       "javascript": [
        "$('div#55acee56-00bb-4bb8-a88c-a43d34e78e3d').text('280 of 971');"
       ],
       "metadata": {},
       "output_type": "display_data",
       "text": [
        "<IPython.core.display.Javascript at 0x15ff1710>"
       ]
      },
      {
       "javascript": [
        "$('div#3c82b7bc-6e0d-4a17-93ee-056dcee0da62').text(' 28%');"
       ],
       "metadata": {},
       "output_type": "display_data",
       "text": [
        "<IPython.core.display.Javascript at 0x15ff12e8>"
       ]
      },
      {
       "javascript": [
        "\n",
        "        var $myPB = $(\"div#8cb3c7bc-2b54-4638-a130-ac7c09d5093f\")\n",
        "        if ($myPB.hasClass('ui-progressbar')) {\n",
        "            $myPB.progressbar('value', 280);\n",
        "        } else {\n",
        "            $myPB.progressbar({value: 0, max: 971});\n",
        "        }\n",
        "        "
       ],
       "metadata": {},
       "output_type": "display_data",
       "text": [
        "<IPython.core.display.Javascript at 0x15ff1208>"
       ]
      },
      {
       "javascript": [
        "$('div#4f7fbcae-e5ba-4e7c-a28b-74b7af67a13e').text('ETA:  0:00:04');"
       ],
       "metadata": {},
       "output_type": "display_data",
       "text": [
        "<IPython.core.display.Javascript at 0x17d22a58>"
       ]
      },
      {
       "javascript": [
        "$('div#55acee56-00bb-4bb8-a88c-a43d34e78e3d').text('290 of 971');"
       ],
       "metadata": {},
       "output_type": "display_data",
       "text": [
        "<IPython.core.display.Javascript at 0x1fdf4080>"
       ]
      },
      {
       "javascript": [
        "$('div#3c82b7bc-6e0d-4a17-93ee-056dcee0da62').text(' 29%');"
       ],
       "metadata": {},
       "output_type": "display_data",
       "text": [
        "<IPython.core.display.Javascript at 0x1fdf4c50>"
       ]
      },
      {
       "javascript": [
        "\n",
        "        var $myPB = $(\"div#8cb3c7bc-2b54-4638-a130-ac7c09d5093f\")\n",
        "        if ($myPB.hasClass('ui-progressbar')) {\n",
        "            $myPB.progressbar('value', 290);\n",
        "        } else {\n",
        "            $myPB.progressbar({value: 0, max: 971});\n",
        "        }\n",
        "        "
       ],
       "metadata": {},
       "output_type": "display_data",
       "text": [
        "<IPython.core.display.Javascript at 0x1fdf4208>"
       ]
      },
      {
       "javascript": [
        "$('div#4f7fbcae-e5ba-4e7c-a28b-74b7af67a13e').text('ETA:  0:00:04');"
       ],
       "metadata": {},
       "output_type": "display_data",
       "text": [
        "<IPython.core.display.Javascript at 0x17d22a58>"
       ]
      },
      {
       "javascript": [
        "$('div#55acee56-00bb-4bb8-a88c-a43d34e78e3d').text('300 of 971');"
       ],
       "metadata": {},
       "output_type": "display_data",
       "text": [
        "<IPython.core.display.Javascript at 0x1a0842e8>"
       ]
      },
      {
       "javascript": [
        "$('div#3c82b7bc-6e0d-4a17-93ee-056dcee0da62').text(' 30%');"
       ],
       "metadata": {},
       "output_type": "display_data",
       "text": [
        "<IPython.core.display.Javascript at 0x1a0840f0>"
       ]
      },
      {
       "javascript": [
        "\n",
        "        var $myPB = $(\"div#8cb3c7bc-2b54-4638-a130-ac7c09d5093f\")\n",
        "        if ($myPB.hasClass('ui-progressbar')) {\n",
        "            $myPB.progressbar('value', 300);\n",
        "        } else {\n",
        "            $myPB.progressbar({value: 0, max: 971});\n",
        "        }\n",
        "        "
       ],
       "metadata": {},
       "output_type": "display_data",
       "text": [
        "<IPython.core.display.Javascript at 0x1a084198>"
       ]
      },
      {
       "javascript": [
        "$('div#4f7fbcae-e5ba-4e7c-a28b-74b7af67a13e').text('ETA:  0:00:04');"
       ],
       "metadata": {},
       "output_type": "display_data",
       "text": [
        "<IPython.core.display.Javascript at 0x17d22a58>"
       ]
      },
      {
       "javascript": [
        "$('div#55acee56-00bb-4bb8-a88c-a43d34e78e3d').text('310 of 971');"
       ],
       "metadata": {},
       "output_type": "display_data",
       "text": [
        "<IPython.core.display.Javascript at 0x1c6bf358>"
       ]
      },
      {
       "javascript": [
        "$('div#3c82b7bc-6e0d-4a17-93ee-056dcee0da62').text(' 31%');"
       ],
       "metadata": {},
       "output_type": "display_data",
       "text": [
        "<IPython.core.display.Javascript at 0x1c6bfef0>"
       ]
      },
      {
       "javascript": [
        "\n",
        "        var $myPB = $(\"div#8cb3c7bc-2b54-4638-a130-ac7c09d5093f\")\n",
        "        if ($myPB.hasClass('ui-progressbar')) {\n",
        "            $myPB.progressbar('value', 310);\n",
        "        } else {\n",
        "            $myPB.progressbar({value: 0, max: 971});\n",
        "        }\n",
        "        "
       ],
       "metadata": {},
       "output_type": "display_data",
       "text": [
        "<IPython.core.display.Javascript at 0x1c6bf860>"
       ]
      },
      {
       "javascript": [
        "$('div#4f7fbcae-e5ba-4e7c-a28b-74b7af67a13e').text('ETA:  0:00:04');"
       ],
       "metadata": {},
       "output_type": "display_data",
       "text": [
        "<IPython.core.display.Javascript at 0x17d22a58>"
       ]
      },
      {
       "javascript": [
        "$('div#55acee56-00bb-4bb8-a88c-a43d34e78e3d').text('320 of 971');"
       ],
       "metadata": {},
       "output_type": "display_data",
       "text": [
        "<IPython.core.display.Javascript at 0x16f43240>"
       ]
      },
      {
       "javascript": [
        "$('div#3c82b7bc-6e0d-4a17-93ee-056dcee0da62').text(' 32%');"
       ],
       "metadata": {},
       "output_type": "display_data",
       "text": [
        "<IPython.core.display.Javascript at 0x16f43710>"
       ]
      },
      {
       "javascript": [
        "\n",
        "        var $myPB = $(\"div#8cb3c7bc-2b54-4638-a130-ac7c09d5093f\")\n",
        "        if ($myPB.hasClass('ui-progressbar')) {\n",
        "            $myPB.progressbar('value', 320);\n",
        "        } else {\n",
        "            $myPB.progressbar({value: 0, max: 971});\n",
        "        }\n",
        "        "
       ],
       "metadata": {},
       "output_type": "display_data",
       "text": [
        "<IPython.core.display.Javascript at 0x16f437b8>"
       ]
      },
      {
       "javascript": [
        "$('div#4f7fbcae-e5ba-4e7c-a28b-74b7af67a13e').text('ETA:  0:00:04');"
       ],
       "metadata": {},
       "output_type": "display_data",
       "text": [
        "<IPython.core.display.Javascript at 0x17d22a58>"
       ]
      },
      {
       "javascript": [
        "$('div#55acee56-00bb-4bb8-a88c-a43d34e78e3d').text('330 of 971');"
       ],
       "metadata": {},
       "output_type": "display_data",
       "text": [
        "<IPython.core.display.Javascript at 0x142f3358>"
       ]
      },
      {
       "javascript": [
        "$('div#3c82b7bc-6e0d-4a17-93ee-056dcee0da62').text(' 33%');"
       ],
       "metadata": {},
       "output_type": "display_data",
       "text": [
        "<IPython.core.display.Javascript at 0x142f3630>"
       ]
      },
      {
       "javascript": [
        "\n",
        "        var $myPB = $(\"div#8cb3c7bc-2b54-4638-a130-ac7c09d5093f\")\n",
        "        if ($myPB.hasClass('ui-progressbar')) {\n",
        "            $myPB.progressbar('value', 330);\n",
        "        } else {\n",
        "            $myPB.progressbar({value: 0, max: 971});\n",
        "        }\n",
        "        "
       ],
       "metadata": {},
       "output_type": "display_data",
       "text": [
        "<IPython.core.display.Javascript at 0x142f35f8>"
       ]
      },
      {
       "javascript": [
        "$('div#4f7fbcae-e5ba-4e7c-a28b-74b7af67a13e').text('ETA:  0:00:04');"
       ],
       "metadata": {},
       "output_type": "display_data",
       "text": [
        "<IPython.core.display.Javascript at 0x17d22a58>"
       ]
      },
      {
       "javascript": [
        "$('div#55acee56-00bb-4bb8-a88c-a43d34e78e3d').text('340 of 971');"
       ],
       "metadata": {},
       "output_type": "display_data",
       "text": [
        "<IPython.core.display.Javascript at 0x1f29b160>"
       ]
      },
      {
       "javascript": [
        "$('div#3c82b7bc-6e0d-4a17-93ee-056dcee0da62').text(' 35%');"
       ],
       "metadata": {},
       "output_type": "display_data",
       "text": [
        "<IPython.core.display.Javascript at 0x1f29bac8>"
       ]
      },
      {
       "javascript": [
        "\n",
        "        var $myPB = $(\"div#8cb3c7bc-2b54-4638-a130-ac7c09d5093f\")\n",
        "        if ($myPB.hasClass('ui-progressbar')) {\n",
        "            $myPB.progressbar('value', 340);\n",
        "        } else {\n",
        "            $myPB.progressbar({value: 0, max: 971});\n",
        "        }\n",
        "        "
       ],
       "metadata": {},
       "output_type": "display_data",
       "text": [
        "<IPython.core.display.Javascript at 0x1f29b320>"
       ]
      },
      {
       "javascript": [
        "$('div#4f7fbcae-e5ba-4e7c-a28b-74b7af67a13e').text('ETA:  0:00:04');"
       ],
       "metadata": {},
       "output_type": "display_data",
       "text": [
        "<IPython.core.display.Javascript at 0x17d22a58>"
       ]
      },
      {
       "javascript": [
        "$('div#55acee56-00bb-4bb8-a88c-a43d34e78e3d').text('350 of 971');"
       ],
       "metadata": {},
       "output_type": "display_data",
       "text": [
        "<IPython.core.display.Javascript at 0x147542e8>"
       ]
      },
      {
       "javascript": [
        "$('div#3c82b7bc-6e0d-4a17-93ee-056dcee0da62').text(' 36%');"
       ],
       "metadata": {},
       "output_type": "display_data",
       "text": [
        "<IPython.core.display.Javascript at 0x14754ef0>"
       ]
      },
      {
       "javascript": [
        "\n",
        "        var $myPB = $(\"div#8cb3c7bc-2b54-4638-a130-ac7c09d5093f\")\n",
        "        if ($myPB.hasClass('ui-progressbar')) {\n",
        "            $myPB.progressbar('value', 350);\n",
        "        } else {\n",
        "            $myPB.progressbar({value: 0, max: 971});\n",
        "        }\n",
        "        "
       ],
       "metadata": {},
       "output_type": "display_data",
       "text": [
        "<IPython.core.display.Javascript at 0x14754828>"
       ]
      },
      {
       "javascript": [
        "$('div#4f7fbcae-e5ba-4e7c-a28b-74b7af67a13e').text('ETA:  0:00:04');"
       ],
       "metadata": {},
       "output_type": "display_data",
       "text": [
        "<IPython.core.display.Javascript at 0x17d22a58>"
       ]
      },
      {
       "javascript": [
        "$('div#55acee56-00bb-4bb8-a88c-a43d34e78e3d').text('360 of 971');"
       ],
       "metadata": {},
       "output_type": "display_data",
       "text": [
        "<IPython.core.display.Javascript at 0x1a3424a8>"
       ]
      },
      {
       "javascript": [
        "$('div#3c82b7bc-6e0d-4a17-93ee-056dcee0da62').text(' 37%');"
       ],
       "metadata": {},
       "output_type": "display_data",
       "text": [
        "<IPython.core.display.Javascript at 0x1a342f98>"
       ]
      },
      {
       "javascript": [
        "\n",
        "        var $myPB = $(\"div#8cb3c7bc-2b54-4638-a130-ac7c09d5093f\")\n",
        "        if ($myPB.hasClass('ui-progressbar')) {\n",
        "            $myPB.progressbar('value', 360);\n",
        "        } else {\n",
        "            $myPB.progressbar({value: 0, max: 971});\n",
        "        }\n",
        "        "
       ],
       "metadata": {},
       "output_type": "display_data",
       "text": [
        "<IPython.core.display.Javascript at 0x1a342cc0>"
       ]
      },
      {
       "javascript": [
        "$('div#4f7fbcae-e5ba-4e7c-a28b-74b7af67a13e').text('ETA:  0:00:04');"
       ],
       "metadata": {},
       "output_type": "display_data",
       "text": [
        "<IPython.core.display.Javascript at 0x17d22a58>"
       ]
      },
      {
       "javascript": [
        "$('div#55acee56-00bb-4bb8-a88c-a43d34e78e3d').text('370 of 971');"
       ],
       "metadata": {},
       "output_type": "display_data",
       "text": [
        "<IPython.core.display.Javascript at 0x1f040e48>"
       ]
      },
      {
       "javascript": [
        "$('div#3c82b7bc-6e0d-4a17-93ee-056dcee0da62').text(' 38%');"
       ],
       "metadata": {},
       "output_type": "display_data",
       "text": [
        "<IPython.core.display.Javascript at 0x1f040b00>"
       ]
      },
      {
       "javascript": [
        "\n",
        "        var $myPB = $(\"div#8cb3c7bc-2b54-4638-a130-ac7c09d5093f\")\n",
        "        if ($myPB.hasClass('ui-progressbar')) {\n",
        "            $myPB.progressbar('value', 370);\n",
        "        } else {\n",
        "            $myPB.progressbar({value: 0, max: 971});\n",
        "        }\n",
        "        "
       ],
       "metadata": {},
       "output_type": "display_data",
       "text": [
        "<IPython.core.display.Javascript at 0x1f0406d8>"
       ]
      },
      {
       "javascript": [
        "$('div#4f7fbcae-e5ba-4e7c-a28b-74b7af67a13e').text('ETA:  0:00:04');"
       ],
       "metadata": {},
       "output_type": "display_data",
       "text": [
        "<IPython.core.display.Javascript at 0x1f0406d8>"
       ]
      },
      {
       "javascript": [
        "$('div#55acee56-00bb-4bb8-a88c-a43d34e78e3d').text('380 of 971');"
       ],
       "metadata": {},
       "output_type": "display_data",
       "text": [
        "<IPython.core.display.Javascript at 0x13ade5f8>"
       ]
      },
      {
       "javascript": [
        "$('div#3c82b7bc-6e0d-4a17-93ee-056dcee0da62').text(' 39%');"
       ],
       "metadata": {},
       "output_type": "display_data",
       "text": [
        "<IPython.core.display.Javascript at 0x13ade390>"
       ]
      },
      {
       "javascript": [
        "\n",
        "        var $myPB = $(\"div#8cb3c7bc-2b54-4638-a130-ac7c09d5093f\")\n",
        "        if ($myPB.hasClass('ui-progressbar')) {\n",
        "            $myPB.progressbar('value', 380);\n",
        "        } else {\n",
        "            $myPB.progressbar({value: 0, max: 971});\n",
        "        }\n",
        "        "
       ],
       "metadata": {},
       "output_type": "display_data",
       "text": [
        "<IPython.core.display.Javascript at 0x13ade5c0>"
       ]
      },
      {
       "javascript": [
        "$('div#4f7fbcae-e5ba-4e7c-a28b-74b7af67a13e').text('ETA:  0:00:04');"
       ],
       "metadata": {},
       "output_type": "display_data",
       "text": [
        "<IPython.core.display.Javascript at 0x1f0406d8>"
       ]
      },
      {
       "javascript": [
        "$('div#55acee56-00bb-4bb8-a88c-a43d34e78e3d').text('390 of 971');"
       ],
       "metadata": {},
       "output_type": "display_data",
       "text": [
        "<IPython.core.display.Javascript at 0x15e9f9e8>"
       ]
      },
      {
       "javascript": [
        "$('div#3c82b7bc-6e0d-4a17-93ee-056dcee0da62').text(' 40%');"
       ],
       "metadata": {},
       "output_type": "display_data",
       "text": [
        "<IPython.core.display.Javascript at 0x15e9fcc0>"
       ]
      },
      {
       "javascript": [
        "\n",
        "        var $myPB = $(\"div#8cb3c7bc-2b54-4638-a130-ac7c09d5093f\")\n",
        "        if ($myPB.hasClass('ui-progressbar')) {\n",
        "            $myPB.progressbar('value', 390);\n",
        "        } else {\n",
        "            $myPB.progressbar({value: 0, max: 971});\n",
        "        }\n",
        "        "
       ],
       "metadata": {},
       "output_type": "display_data",
       "text": [
        "<IPython.core.display.Javascript at 0x15e9fd30>"
       ]
      },
      {
       "javascript": [
        "$('div#4f7fbcae-e5ba-4e7c-a28b-74b7af67a13e').text('ETA:  0:00:04');"
       ],
       "metadata": {},
       "output_type": "display_data",
       "text": [
        "<IPython.core.display.Javascript at 0x1f0406d8>"
       ]
      },
      {
       "javascript": [
        "$('div#55acee56-00bb-4bb8-a88c-a43d34e78e3d').text('400 of 971');"
       ],
       "metadata": {},
       "output_type": "display_data",
       "text": [
        "<IPython.core.display.Javascript at 0x1a459f28>"
       ]
      },
      {
       "javascript": [
        "$('div#3c82b7bc-6e0d-4a17-93ee-056dcee0da62').text(' 41%');"
       ],
       "metadata": {},
       "output_type": "display_data",
       "text": [
        "<IPython.core.display.Javascript at 0x1a459c88>"
       ]
      },
      {
       "javascript": [
        "\n",
        "        var $myPB = $(\"div#8cb3c7bc-2b54-4638-a130-ac7c09d5093f\")\n",
        "        if ($myPB.hasClass('ui-progressbar')) {\n",
        "            $myPB.progressbar('value', 400);\n",
        "        } else {\n",
        "            $myPB.progressbar({value: 0, max: 971});\n",
        "        }\n",
        "        "
       ],
       "metadata": {},
       "output_type": "display_data",
       "text": [
        "<IPython.core.display.Javascript at 0x1a4596d8>"
       ]
      },
      {
       "javascript": [
        "$('div#4f7fbcae-e5ba-4e7c-a28b-74b7af67a13e').text('ETA:  0:00:04');"
       ],
       "metadata": {},
       "output_type": "display_data",
       "text": [
        "<IPython.core.display.Javascript at 0x1f0406d8>"
       ]
      },
      {
       "javascript": [
        "$('div#55acee56-00bb-4bb8-a88c-a43d34e78e3d').text('410 of 971');"
       ],
       "metadata": {},
       "output_type": "display_data",
       "text": [
        "<IPython.core.display.Javascript at 0x1f2aa898>"
       ]
      },
      {
       "javascript": [
        "$('div#3c82b7bc-6e0d-4a17-93ee-056dcee0da62').text(' 42%');"
       ],
       "metadata": {},
       "output_type": "display_data",
       "text": [
        "<IPython.core.display.Javascript at 0x1f2aa240>"
       ]
      },
      {
       "javascript": [
        "\n",
        "        var $myPB = $(\"div#8cb3c7bc-2b54-4638-a130-ac7c09d5093f\")\n",
        "        if ($myPB.hasClass('ui-progressbar')) {\n",
        "            $myPB.progressbar('value', 410);\n",
        "        } else {\n",
        "            $myPB.progressbar({value: 0, max: 971});\n",
        "        }\n",
        "        "
       ],
       "metadata": {},
       "output_type": "display_data",
       "text": [
        "<IPython.core.display.Javascript at 0x1f2aab00>"
       ]
      },
      {
       "javascript": [
        "$('div#4f7fbcae-e5ba-4e7c-a28b-74b7af67a13e').text('ETA:  0:00:04');"
       ],
       "metadata": {},
       "output_type": "display_data",
       "text": [
        "<IPython.core.display.Javascript at 0x1f0406d8>"
       ]
      },
      {
       "javascript": [
        "$('div#55acee56-00bb-4bb8-a88c-a43d34e78e3d').text('420 of 971');"
       ],
       "metadata": {},
       "output_type": "display_data",
       "text": [
        "<IPython.core.display.Javascript at 0x1c201a58>"
       ]
      },
      {
       "javascript": [
        "$('div#3c82b7bc-6e0d-4a17-93ee-056dcee0da62').text(' 43%');"
       ],
       "metadata": {},
       "output_type": "display_data",
       "text": [
        "<IPython.core.display.Javascript at 0x1c201828>"
       ]
      },
      {
       "javascript": [
        "\n",
        "        var $myPB = $(\"div#8cb3c7bc-2b54-4638-a130-ac7c09d5093f\")\n",
        "        if ($myPB.hasClass('ui-progressbar')) {\n",
        "            $myPB.progressbar('value', 420);\n",
        "        } else {\n",
        "            $myPB.progressbar({value: 0, max: 971});\n",
        "        }\n",
        "        "
       ],
       "metadata": {},
       "output_type": "display_data",
       "text": [
        "<IPython.core.display.Javascript at 0x1c201eb8>"
       ]
      },
      {
       "javascript": [
        "$('div#4f7fbcae-e5ba-4e7c-a28b-74b7af67a13e').text('ETA:  0:00:03');"
       ],
       "metadata": {},
       "output_type": "display_data",
       "text": [
        "<IPython.core.display.Javascript at 0x1c201eb8>"
       ]
      },
      {
       "javascript": [
        "$('div#55acee56-00bb-4bb8-a88c-a43d34e78e3d').text('430 of 971');"
       ],
       "metadata": {},
       "output_type": "display_data",
       "text": [
        "<IPython.core.display.Javascript at 0x1436e668>"
       ]
      },
      {
       "javascript": [
        "$('div#3c82b7bc-6e0d-4a17-93ee-056dcee0da62').text(' 44%');"
       ],
       "metadata": {},
       "output_type": "display_data",
       "text": [
        "<IPython.core.display.Javascript at 0x1436e8d0>"
       ]
      },
      {
       "javascript": [
        "\n",
        "        var $myPB = $(\"div#8cb3c7bc-2b54-4638-a130-ac7c09d5093f\")\n",
        "        if ($myPB.hasClass('ui-progressbar')) {\n",
        "            $myPB.progressbar('value', 430);\n",
        "        } else {\n",
        "            $myPB.progressbar({value: 0, max: 971});\n",
        "        }\n",
        "        "
       ],
       "metadata": {},
       "output_type": "display_data",
       "text": [
        "<IPython.core.display.Javascript at 0x1436e3c8>"
       ]
      },
      {
       "javascript": [
        "$('div#4f7fbcae-e5ba-4e7c-a28b-74b7af67a13e').text('ETA:  0:00:03');"
       ],
       "metadata": {},
       "output_type": "display_data",
       "text": [
        "<IPython.core.display.Javascript at 0x1c201eb8>"
       ]
      },
      {
       "javascript": [
        "$('div#55acee56-00bb-4bb8-a88c-a43d34e78e3d').text('440 of 971');"
       ],
       "metadata": {},
       "output_type": "display_data",
       "text": [
        "<IPython.core.display.Javascript at 0x1b98da90>"
       ]
      },
      {
       "javascript": [
        "$('div#3c82b7bc-6e0d-4a17-93ee-056dcee0da62').text(' 45%');"
       ],
       "metadata": {},
       "output_type": "display_data",
       "text": [
        "<IPython.core.display.Javascript at 0x1b98db38>"
       ]
      },
      {
       "javascript": [
        "\n",
        "        var $myPB = $(\"div#8cb3c7bc-2b54-4638-a130-ac7c09d5093f\")\n",
        "        if ($myPB.hasClass('ui-progressbar')) {\n",
        "            $myPB.progressbar('value', 440);\n",
        "        } else {\n",
        "            $myPB.progressbar({value: 0, max: 971});\n",
        "        }\n",
        "        "
       ],
       "metadata": {},
       "output_type": "display_data",
       "text": [
        "<IPython.core.display.Javascript at 0x1b98de80>"
       ]
      },
      {
       "javascript": [
        "$('div#4f7fbcae-e5ba-4e7c-a28b-74b7af67a13e').text('ETA:  0:00:03');"
       ],
       "metadata": {},
       "output_type": "display_data",
       "text": [
        "<IPython.core.display.Javascript at 0x1c201eb8>"
       ]
      },
      {
       "javascript": [
        "$('div#55acee56-00bb-4bb8-a88c-a43d34e78e3d').text('450 of 971');"
       ],
       "metadata": {},
       "output_type": "display_data",
       "text": [
        "<IPython.core.display.Javascript at 0x19fb26d8>"
       ]
      },
      {
       "javascript": [
        "$('div#3c82b7bc-6e0d-4a17-93ee-056dcee0da62').text(' 46%');"
       ],
       "metadata": {},
       "output_type": "display_data",
       "text": [
        "<IPython.core.display.Javascript at 0x19fb27f0>"
       ]
      },
      {
       "javascript": [
        "\n",
        "        var $myPB = $(\"div#8cb3c7bc-2b54-4638-a130-ac7c09d5093f\")\n",
        "        if ($myPB.hasClass('ui-progressbar')) {\n",
        "            $myPB.progressbar('value', 450);\n",
        "        } else {\n",
        "            $myPB.progressbar({value: 0, max: 971});\n",
        "        }\n",
        "        "
       ],
       "metadata": {},
       "output_type": "display_data",
       "text": [
        "<IPython.core.display.Javascript at 0x19fb2ac8>"
       ]
      },
      {
       "javascript": [
        "$('div#4f7fbcae-e5ba-4e7c-a28b-74b7af67a13e').text('ETA:  0:00:03');"
       ],
       "metadata": {},
       "output_type": "display_data",
       "text": [
        "<IPython.core.display.Javascript at 0x19fb2ac8>"
       ]
      },
      {
       "javascript": [
        "$('div#55acee56-00bb-4bb8-a88c-a43d34e78e3d').text('460 of 971');"
       ],
       "metadata": {},
       "output_type": "display_data",
       "text": [
        "<IPython.core.display.Javascript at 0x1cd77c50>"
       ]
      },
      {
       "javascript": [
        "$('div#3c82b7bc-6e0d-4a17-93ee-056dcee0da62').text(' 47%');"
       ],
       "metadata": {},
       "output_type": "display_data",
       "text": [
        "<IPython.core.display.Javascript at 0x1cd77048>"
       ]
      },
      {
       "javascript": [
        "\n",
        "        var $myPB = $(\"div#8cb3c7bc-2b54-4638-a130-ac7c09d5093f\")\n",
        "        if ($myPB.hasClass('ui-progressbar')) {\n",
        "            $myPB.progressbar('value', 460);\n",
        "        } else {\n",
        "            $myPB.progressbar({value: 0, max: 971});\n",
        "        }\n",
        "        "
       ],
       "metadata": {},
       "output_type": "display_data",
       "text": [
        "<IPython.core.display.Javascript at 0x1cd77b38>"
       ]
      },
      {
       "javascript": [
        "$('div#4f7fbcae-e5ba-4e7c-a28b-74b7af67a13e').text('ETA:  0:00:03');"
       ],
       "metadata": {},
       "output_type": "display_data",
       "text": [
        "<IPython.core.display.Javascript at 0x19fb2ac8>"
       ]
      },
      {
       "javascript": [
        "$('div#55acee56-00bb-4bb8-a88c-a43d34e78e3d').text('470 of 971');"
       ],
       "metadata": {},
       "output_type": "display_data",
       "text": [
        "<IPython.core.display.Javascript at 0x1ad70438>"
       ]
      },
      {
       "javascript": [
        "$('div#3c82b7bc-6e0d-4a17-93ee-056dcee0da62').text(' 48%');"
       ],
       "metadata": {},
       "output_type": "display_data",
       "text": [
        "<IPython.core.display.Javascript at 0x1ad70748>"
       ]
      },
      {
       "javascript": [
        "\n",
        "        var $myPB = $(\"div#8cb3c7bc-2b54-4638-a130-ac7c09d5093f\")\n",
        "        if ($myPB.hasClass('ui-progressbar')) {\n",
        "            $myPB.progressbar('value', 470);\n",
        "        } else {\n",
        "            $myPB.progressbar({value: 0, max: 971});\n",
        "        }\n",
        "        "
       ],
       "metadata": {},
       "output_type": "display_data",
       "text": [
        "<IPython.core.display.Javascript at 0x1ad70940>"
       ]
      },
      {
       "javascript": [
        "$('div#4f7fbcae-e5ba-4e7c-a28b-74b7af67a13e').text('ETA:  0:00:03');"
       ],
       "metadata": {},
       "output_type": "display_data",
       "text": [
        "<IPython.core.display.Javascript at 0x19fb2ac8>"
       ]
      },
      {
       "javascript": [
        "$('div#55acee56-00bb-4bb8-a88c-a43d34e78e3d').text('480 of 971');"
       ],
       "metadata": {},
       "output_type": "display_data",
       "text": [
        "<IPython.core.display.Javascript at 0x193b6358>"
       ]
      },
      {
       "javascript": [
        "$('div#3c82b7bc-6e0d-4a17-93ee-056dcee0da62').text(' 49%');"
       ],
       "metadata": {},
       "output_type": "display_data",
       "text": [
        "<IPython.core.display.Javascript at 0x193b6278>"
       ]
      },
      {
       "javascript": [
        "\n",
        "        var $myPB = $(\"div#8cb3c7bc-2b54-4638-a130-ac7c09d5093f\")\n",
        "        if ($myPB.hasClass('ui-progressbar')) {\n",
        "            $myPB.progressbar('value', 480);\n",
        "        } else {\n",
        "            $myPB.progressbar({value: 0, max: 971});\n",
        "        }\n",
        "        "
       ],
       "metadata": {},
       "output_type": "display_data",
       "text": [
        "<IPython.core.display.Javascript at 0x193b66d8>"
       ]
      },
      {
       "javascript": [
        "$('div#4f7fbcae-e5ba-4e7c-a28b-74b7af67a13e').text('ETA:  0:00:03');"
       ],
       "metadata": {},
       "output_type": "display_data",
       "text": [
        "<IPython.core.display.Javascript at 0x19fb2ac8>"
       ]
      },
      {
       "javascript": [
        "$('div#55acee56-00bb-4bb8-a88c-a43d34e78e3d').text('490 of 971');"
       ],
       "metadata": {},
       "output_type": "display_data",
       "text": [
        "<IPython.core.display.Javascript at 0x1c475710>"
       ]
      },
      {
       "javascript": [
        "$('div#3c82b7bc-6e0d-4a17-93ee-056dcee0da62').text(' 50%');"
       ],
       "metadata": {},
       "output_type": "display_data",
       "text": [
        "<IPython.core.display.Javascript at 0x1c475898>"
       ]
      },
      {
       "javascript": [
        "\n",
        "        var $myPB = $(\"div#8cb3c7bc-2b54-4638-a130-ac7c09d5093f\")\n",
        "        if ($myPB.hasClass('ui-progressbar')) {\n",
        "            $myPB.progressbar('value', 490);\n",
        "        } else {\n",
        "            $myPB.progressbar({value: 0, max: 971});\n",
        "        }\n",
        "        "
       ],
       "metadata": {},
       "output_type": "display_data",
       "text": [
        "<IPython.core.display.Javascript at 0x1c475278>"
       ]
      },
      {
       "javascript": [
        "$('div#4f7fbcae-e5ba-4e7c-a28b-74b7af67a13e').text('ETA:  0:00:03');"
       ],
       "metadata": {},
       "output_type": "display_data",
       "text": [
        "<IPython.core.display.Javascript at 0x19fb2ac8>"
       ]
      },
      {
       "javascript": [
        "$('div#55acee56-00bb-4bb8-a88c-a43d34e78e3d').text('500 of 971');"
       ],
       "metadata": {},
       "output_type": "display_data",
       "text": [
        "<IPython.core.display.Javascript at 0x14e78748>"
       ]
      },
      {
       "javascript": [
        "$('div#3c82b7bc-6e0d-4a17-93ee-056dcee0da62').text(' 51%');"
       ],
       "metadata": {},
       "output_type": "display_data",
       "text": [
        "<IPython.core.display.Javascript at 0x14e78898>"
       ]
      },
      {
       "javascript": [
        "\n",
        "        var $myPB = $(\"div#8cb3c7bc-2b54-4638-a130-ac7c09d5093f\")\n",
        "        if ($myPB.hasClass('ui-progressbar')) {\n",
        "            $myPB.progressbar('value', 500);\n",
        "        } else {\n",
        "            $myPB.progressbar({value: 0, max: 971});\n",
        "        }\n",
        "        "
       ],
       "metadata": {},
       "output_type": "display_data",
       "text": [
        "<IPython.core.display.Javascript at 0x14e78b38>"
       ]
      },
      {
       "javascript": [
        "$('div#4f7fbcae-e5ba-4e7c-a28b-74b7af67a13e').text('ETA:  0:00:03');"
       ],
       "metadata": {},
       "output_type": "display_data",
       "text": [
        "<IPython.core.display.Javascript at 0x19fb2ac8>"
       ]
      },
      {
       "javascript": [
        "$('div#55acee56-00bb-4bb8-a88c-a43d34e78e3d').text('510 of 971');"
       ],
       "metadata": {},
       "output_type": "display_data",
       "text": [
        "<IPython.core.display.Javascript at 0x1b9244e0>"
       ]
      },
      {
       "javascript": [
        "$('div#3c82b7bc-6e0d-4a17-93ee-056dcee0da62').text(' 52%');"
       ],
       "metadata": {},
       "output_type": "display_data",
       "text": [
        "<IPython.core.display.Javascript at 0x1b924e48>"
       ]
      },
      {
       "javascript": [
        "\n",
        "        var $myPB = $(\"div#8cb3c7bc-2b54-4638-a130-ac7c09d5093f\")\n",
        "        if ($myPB.hasClass('ui-progressbar')) {\n",
        "            $myPB.progressbar('value', 510);\n",
        "        } else {\n",
        "            $myPB.progressbar({value: 0, max: 971});\n",
        "        }\n",
        "        "
       ],
       "metadata": {},
       "output_type": "display_data",
       "text": [
        "<IPython.core.display.Javascript at 0x1b924390>"
       ]
      },
      {
       "javascript": [
        "$('div#4f7fbcae-e5ba-4e7c-a28b-74b7af67a13e').text('ETA:  0:00:03');"
       ],
       "metadata": {},
       "output_type": "display_data",
       "text": [
        "<IPython.core.display.Javascript at 0x19fb2ac8>"
       ]
      },
      {
       "javascript": [
        "$('div#55acee56-00bb-4bb8-a88c-a43d34e78e3d').text('520 of 971');"
       ],
       "metadata": {},
       "output_type": "display_data",
       "text": [
        "<IPython.core.display.Javascript at 0x1c77c4e0>"
       ]
      },
      {
       "javascript": [
        "$('div#3c82b7bc-6e0d-4a17-93ee-056dcee0da62').text(' 53%');"
       ],
       "metadata": {},
       "output_type": "display_data",
       "text": [
        "<IPython.core.display.Javascript at 0x1c77ce48>"
       ]
      },
      {
       "javascript": [
        "\n",
        "        var $myPB = $(\"div#8cb3c7bc-2b54-4638-a130-ac7c09d5093f\")\n",
        "        if ($myPB.hasClass('ui-progressbar')) {\n",
        "            $myPB.progressbar('value', 520);\n",
        "        } else {\n",
        "            $myPB.progressbar({value: 0, max: 971});\n",
        "        }\n",
        "        "
       ],
       "metadata": {},
       "output_type": "display_data",
       "text": [
        "<IPython.core.display.Javascript at 0x1c77c400>"
       ]
      },
      {
       "javascript": [
        "$('div#4f7fbcae-e5ba-4e7c-a28b-74b7af67a13e').text('ETA:  0:00:03');"
       ],
       "metadata": {},
       "output_type": "display_data",
       "text": [
        "<IPython.core.display.Javascript at 0x19fb2ac8>"
       ]
      },
      {
       "javascript": [
        "$('div#55acee56-00bb-4bb8-a88c-a43d34e78e3d').text('530 of 971');"
       ],
       "metadata": {},
       "output_type": "display_data",
       "text": [
        "<IPython.core.display.Javascript at 0x198a24e0>"
       ]
      },
      {
       "javascript": [
        "$('div#3c82b7bc-6e0d-4a17-93ee-056dcee0da62').text(' 54%');"
       ],
       "metadata": {},
       "output_type": "display_data",
       "text": [
        "<IPython.core.display.Javascript at 0x198a22b0>"
       ]
      },
      {
       "javascript": [
        "\n",
        "        var $myPB = $(\"div#8cb3c7bc-2b54-4638-a130-ac7c09d5093f\")\n",
        "        if ($myPB.hasClass('ui-progressbar')) {\n",
        "            $myPB.progressbar('value', 530);\n",
        "        } else {\n",
        "            $myPB.progressbar({value: 0, max: 971});\n",
        "        }\n",
        "        "
       ],
       "metadata": {},
       "output_type": "display_data",
       "text": [
        "<IPython.core.display.Javascript at 0x198a2da0>"
       ]
      },
      {
       "javascript": [
        "$('div#4f7fbcae-e5ba-4e7c-a28b-74b7af67a13e').text('ETA:  0:00:03');"
       ],
       "metadata": {},
       "output_type": "display_data",
       "text": [
        "<IPython.core.display.Javascript at 0x19fb2ac8>"
       ]
      },
      {
       "javascript": [
        "$('div#55acee56-00bb-4bb8-a88c-a43d34e78e3d').text('540 of 971');"
       ],
       "metadata": {},
       "output_type": "display_data",
       "text": [
        "<IPython.core.display.Javascript at 0x15e6add8>"
       ]
      },
      {
       "javascript": [
        "$('div#3c82b7bc-6e0d-4a17-93ee-056dcee0da62').text(' 55%');"
       ],
       "metadata": {},
       "output_type": "display_data",
       "text": [
        "<IPython.core.display.Javascript at 0x15e6a0b8>"
       ]
      },
      {
       "javascript": [
        "\n",
        "        var $myPB = $(\"div#8cb3c7bc-2b54-4638-a130-ac7c09d5093f\")\n",
        "        if ($myPB.hasClass('ui-progressbar')) {\n",
        "            $myPB.progressbar('value', 540);\n",
        "        } else {\n",
        "            $myPB.progressbar({value: 0, max: 971});\n",
        "        }\n",
        "        "
       ],
       "metadata": {},
       "output_type": "display_data",
       "text": [
        "<IPython.core.display.Javascript at 0x15e6a668>"
       ]
      },
      {
       "javascript": [
        "$('div#4f7fbcae-e5ba-4e7c-a28b-74b7af67a13e').text('ETA:  0:00:03');"
       ],
       "metadata": {},
       "output_type": "display_data",
       "text": [
        "<IPython.core.display.Javascript at 0x19fb2ac8>"
       ]
      },
      {
       "javascript": [
        "$('div#55acee56-00bb-4bb8-a88c-a43d34e78e3d').text('550 of 971');"
       ],
       "metadata": {},
       "output_type": "display_data",
       "text": [
        "<IPython.core.display.Javascript at 0x1ad8a2b0>"
       ]
      },
      {
       "javascript": [
        "$('div#3c82b7bc-6e0d-4a17-93ee-056dcee0da62').text(' 56%');"
       ],
       "metadata": {},
       "output_type": "display_data",
       "text": [
        "<IPython.core.display.Javascript at 0x1ad8aa58>"
       ]
      },
      {
       "javascript": [
        "\n",
        "        var $myPB = $(\"div#8cb3c7bc-2b54-4638-a130-ac7c09d5093f\")\n",
        "        if ($myPB.hasClass('ui-progressbar')) {\n",
        "            $myPB.progressbar('value', 550);\n",
        "        } else {\n",
        "            $myPB.progressbar({value: 0, max: 971});\n",
        "        }\n",
        "        "
       ],
       "metadata": {},
       "output_type": "display_data",
       "text": [
        "<IPython.core.display.Javascript at 0x1ad8a5c0>"
       ]
      },
      {
       "javascript": [
        "$('div#4f7fbcae-e5ba-4e7c-a28b-74b7af67a13e').text('ETA:  0:00:03');"
       ],
       "metadata": {},
       "output_type": "display_data",
       "text": [
        "<IPython.core.display.Javascript at 0x19fb2ac8>"
       ]
      },
      {
       "javascript": [
        "$('div#55acee56-00bb-4bb8-a88c-a43d34e78e3d').text('560 of 971');"
       ],
       "metadata": {},
       "output_type": "display_data",
       "text": [
        "<IPython.core.display.Javascript at 0x1b09cef0>"
       ]
      },
      {
       "javascript": [
        "$('div#3c82b7bc-6e0d-4a17-93ee-056dcee0da62').text(' 57%');"
       ],
       "metadata": {},
       "output_type": "display_data",
       "text": [
        "<IPython.core.display.Javascript at 0x1b09c320>"
       ]
      },
      {
       "javascript": [
        "\n",
        "        var $myPB = $(\"div#8cb3c7bc-2b54-4638-a130-ac7c09d5093f\")\n",
        "        if ($myPB.hasClass('ui-progressbar')) {\n",
        "            $myPB.progressbar('value', 560);\n",
        "        } else {\n",
        "            $myPB.progressbar({value: 0, max: 971});\n",
        "        }\n",
        "        "
       ],
       "metadata": {},
       "output_type": "display_data",
       "text": [
        "<IPython.core.display.Javascript at 0x1b09c3c8>"
       ]
      },
      {
       "javascript": [
        "$('div#4f7fbcae-e5ba-4e7c-a28b-74b7af67a13e').text('ETA:  0:00:03');"
       ],
       "metadata": {},
       "output_type": "display_data",
       "text": [
        "<IPython.core.display.Javascript at 0x19fb2ac8>"
       ]
      },
      {
       "javascript": [
        "$('div#55acee56-00bb-4bb8-a88c-a43d34e78e3d').text('570 of 971');"
       ],
       "metadata": {},
       "output_type": "display_data",
       "text": [
        "<IPython.core.display.Javascript at 0x1b49e940>"
       ]
      },
      {
       "javascript": [
        "$('div#3c82b7bc-6e0d-4a17-93ee-056dcee0da62').text(' 58%');"
       ],
       "metadata": {},
       "output_type": "display_data",
       "text": [
        "<IPython.core.display.Javascript at 0x1b49eba8>"
       ]
      },
      {
       "javascript": [
        "\n",
        "        var $myPB = $(\"div#8cb3c7bc-2b54-4638-a130-ac7c09d5093f\")\n",
        "        if ($myPB.hasClass('ui-progressbar')) {\n",
        "            $myPB.progressbar('value', 570);\n",
        "        } else {\n",
        "            $myPB.progressbar({value: 0, max: 971});\n",
        "        }\n",
        "        "
       ],
       "metadata": {},
       "output_type": "display_data",
       "text": [
        "<IPython.core.display.Javascript at 0x1b49ecf8>"
       ]
      },
      {
       "javascript": [
        "$('div#4f7fbcae-e5ba-4e7c-a28b-74b7af67a13e').text('ETA:  0:00:02');"
       ],
       "metadata": {},
       "output_type": "display_data",
       "text": [
        "<IPython.core.display.Javascript at 0x19fb2ac8>"
       ]
      },
      {
       "javascript": [
        "$('div#55acee56-00bb-4bb8-a88c-a43d34e78e3d').text('580 of 971');"
       ],
       "metadata": {},
       "output_type": "display_data",
       "text": [
        "<IPython.core.display.Javascript at 0x17e1f940>"
       ]
      },
      {
       "javascript": [
        "$('div#3c82b7bc-6e0d-4a17-93ee-056dcee0da62').text(' 59%');"
       ],
       "metadata": {},
       "output_type": "display_data",
       "text": [
        "<IPython.core.display.Javascript at 0x17e1f630>"
       ]
      },
      {
       "javascript": [
        "\n",
        "        var $myPB = $(\"div#8cb3c7bc-2b54-4638-a130-ac7c09d5093f\")\n",
        "        if ($myPB.hasClass('ui-progressbar')) {\n",
        "            $myPB.progressbar('value', 580);\n",
        "        } else {\n",
        "            $myPB.progressbar({value: 0, max: 971});\n",
        "        }\n",
        "        "
       ],
       "metadata": {},
       "output_type": "display_data",
       "text": [
        "<IPython.core.display.Javascript at 0x17e1f5f8>"
       ]
      },
      {
       "javascript": [
        "$('div#4f7fbcae-e5ba-4e7c-a28b-74b7af67a13e').text('ETA:  0:00:02');"
       ],
       "metadata": {},
       "output_type": "display_data",
       "text": [
        "<IPython.core.display.Javascript at 0x19fb2ac8>"
       ]
      },
      {
       "javascript": [
        "$('div#55acee56-00bb-4bb8-a88c-a43d34e78e3d').text('590 of 971');"
       ],
       "metadata": {},
       "output_type": "display_data",
       "text": [
        "<IPython.core.display.Javascript at 0x16e100f0>"
       ]
      },
      {
       "javascript": [
        "$('div#3c82b7bc-6e0d-4a17-93ee-056dcee0da62').text(' 60%');"
       ],
       "metadata": {},
       "output_type": "display_data",
       "text": [
        "<IPython.core.display.Javascript at 0x16e10cc0>"
       ]
      },
      {
       "javascript": [
        "\n",
        "        var $myPB = $(\"div#8cb3c7bc-2b54-4638-a130-ac7c09d5093f\")\n",
        "        if ($myPB.hasClass('ui-progressbar')) {\n",
        "            $myPB.progressbar('value', 590);\n",
        "        } else {\n",
        "            $myPB.progressbar({value: 0, max: 971});\n",
        "        }\n",
        "        "
       ],
       "metadata": {},
       "output_type": "display_data",
       "text": [
        "<IPython.core.display.Javascript at 0x16e10da0>"
       ]
      },
      {
       "javascript": [
        "$('div#4f7fbcae-e5ba-4e7c-a28b-74b7af67a13e').text('ETA:  0:00:02');"
       ],
       "metadata": {},
       "output_type": "display_data",
       "text": [
        "<IPython.core.display.Javascript at 0x19fb2ac8>"
       ]
      },
      {
       "javascript": [
        "$('div#55acee56-00bb-4bb8-a88c-a43d34e78e3d').text('600 of 971');"
       ],
       "metadata": {},
       "output_type": "display_data",
       "text": [
        "<IPython.core.display.Javascript at 0x182d2eb8>"
       ]
      },
      {
       "javascript": [
        "$('div#3c82b7bc-6e0d-4a17-93ee-056dcee0da62').text(' 61%');"
       ],
       "metadata": {},
       "output_type": "display_data",
       "text": [
        "<IPython.core.display.Javascript at 0x182d2400>"
       ]
      },
      {
       "javascript": [
        "\n",
        "        var $myPB = $(\"div#8cb3c7bc-2b54-4638-a130-ac7c09d5093f\")\n",
        "        if ($myPB.hasClass('ui-progressbar')) {\n",
        "            $myPB.progressbar('value', 600);\n",
        "        } else {\n",
        "            $myPB.progressbar({value: 0, max: 971});\n",
        "        }\n",
        "        "
       ],
       "metadata": {},
       "output_type": "display_data",
       "text": [
        "<IPython.core.display.Javascript at 0x182d24e0>"
       ]
      },
      {
       "javascript": [
        "$('div#4f7fbcae-e5ba-4e7c-a28b-74b7af67a13e').text('ETA:  0:00:02');"
       ],
       "metadata": {},
       "output_type": "display_data",
       "text": [
        "<IPython.core.display.Javascript at 0x19fb2ac8>"
       ]
      },
      {
       "javascript": [
        "$('div#55acee56-00bb-4bb8-a88c-a43d34e78e3d').text('610 of 971');"
       ],
       "metadata": {},
       "output_type": "display_data",
       "text": [
        "<IPython.core.display.Javascript at 0x1a9a1e48>"
       ]
      },
      {
       "javascript": [
        "$('div#3c82b7bc-6e0d-4a17-93ee-056dcee0da62').text(' 62%');"
       ],
       "metadata": {},
       "output_type": "display_data",
       "text": [
        "<IPython.core.display.Javascript at 0x1a9a1470>"
       ]
      },
      {
       "javascript": [
        "\n",
        "        var $myPB = $(\"div#8cb3c7bc-2b54-4638-a130-ac7c09d5093f\")\n",
        "        if ($myPB.hasClass('ui-progressbar')) {\n",
        "            $myPB.progressbar('value', 610);\n",
        "        } else {\n",
        "            $myPB.progressbar({value: 0, max: 971});\n",
        "        }\n",
        "        "
       ],
       "metadata": {},
       "output_type": "display_data",
       "text": [
        "<IPython.core.display.Javascript at 0x1a9a1128>"
       ]
      },
      {
       "javascript": [
        "$('div#4f7fbcae-e5ba-4e7c-a28b-74b7af67a13e').text('ETA:  0:00:02');"
       ],
       "metadata": {},
       "output_type": "display_data",
       "text": [
        "<IPython.core.display.Javascript at 0x19fb2ac8>"
       ]
      },
      {
       "javascript": [
        "$('div#55acee56-00bb-4bb8-a88c-a43d34e78e3d').text('620 of 971');"
       ],
       "metadata": {},
       "output_type": "display_data",
       "text": [
        "<IPython.core.display.Javascript at 0x159616a0>"
       ]
      },
      {
       "javascript": [
        "$('div#3c82b7bc-6e0d-4a17-93ee-056dcee0da62').text(' 63%');"
       ],
       "metadata": {},
       "output_type": "display_data",
       "text": [
        "<IPython.core.display.Javascript at 0x15961d30>"
       ]
      },
      {
       "javascript": [
        "\n",
        "        var $myPB = $(\"div#8cb3c7bc-2b54-4638-a130-ac7c09d5093f\")\n",
        "        if ($myPB.hasClass('ui-progressbar')) {\n",
        "            $myPB.progressbar('value', 620);\n",
        "        } else {\n",
        "            $myPB.progressbar({value: 0, max: 971});\n",
        "        }\n",
        "        "
       ],
       "metadata": {},
       "output_type": "display_data",
       "text": [
        "<IPython.core.display.Javascript at 0x159614e0>"
       ]
      },
      {
       "javascript": [
        "$('div#4f7fbcae-e5ba-4e7c-a28b-74b7af67a13e').text('ETA:  0:00:02');"
       ],
       "metadata": {},
       "output_type": "display_data",
       "text": [
        "<IPython.core.display.Javascript at 0x19fb2ac8>"
       ]
      },
      {
       "javascript": [
        "$('div#55acee56-00bb-4bb8-a88c-a43d34e78e3d').text('630 of 971');"
       ],
       "metadata": {},
       "output_type": "display_data",
       "text": [
        "<IPython.core.display.Javascript at 0x1ef5f860>"
       ]
      },
      {
       "javascript": [
        "$('div#3c82b7bc-6e0d-4a17-93ee-056dcee0da62').text(' 64%');"
       ],
       "metadata": {},
       "output_type": "display_data",
       "text": [
        "<IPython.core.display.Javascript at 0x1ef5f940>"
       ]
      },
      {
       "javascript": [
        "\n",
        "        var $myPB = $(\"div#8cb3c7bc-2b54-4638-a130-ac7c09d5093f\")\n",
        "        if ($myPB.hasClass('ui-progressbar')) {\n",
        "            $myPB.progressbar('value', 630);\n",
        "        } else {\n",
        "            $myPB.progressbar({value: 0, max: 971});\n",
        "        }\n",
        "        "
       ],
       "metadata": {},
       "output_type": "display_data",
       "text": [
        "<IPython.core.display.Javascript at 0x1ef5fcf8>"
       ]
      },
      {
       "javascript": [
        "$('div#4f7fbcae-e5ba-4e7c-a28b-74b7af67a13e').text('ETA:  0:00:02');"
       ],
       "metadata": {},
       "output_type": "display_data",
       "text": [
        "<IPython.core.display.Javascript at 0x19fb2ac8>"
       ]
      },
      {
       "javascript": [
        "$('div#55acee56-00bb-4bb8-a88c-a43d34e78e3d').text('640 of 971');"
       ],
       "metadata": {},
       "output_type": "display_data",
       "text": [
        "<IPython.core.display.Javascript at 0x187816d8>"
       ]
      },
      {
       "javascript": [
        "$('div#3c82b7bc-6e0d-4a17-93ee-056dcee0da62').text(' 65%');"
       ],
       "metadata": {},
       "output_type": "display_data",
       "text": [
        "<IPython.core.display.Javascript at 0x18781a58>"
       ]
      },
      {
       "javascript": [
        "\n",
        "        var $myPB = $(\"div#8cb3c7bc-2b54-4638-a130-ac7c09d5093f\")\n",
        "        if ($myPB.hasClass('ui-progressbar')) {\n",
        "            $myPB.progressbar('value', 640);\n",
        "        } else {\n",
        "            $myPB.progressbar({value: 0, max: 971});\n",
        "        }\n",
        "        "
       ],
       "metadata": {},
       "output_type": "display_data",
       "text": [
        "<IPython.core.display.Javascript at 0x187815c0>"
       ]
      },
      {
       "javascript": [
        "$('div#4f7fbcae-e5ba-4e7c-a28b-74b7af67a13e').text('ETA:  0:00:02');"
       ],
       "metadata": {},
       "output_type": "display_data",
       "text": [
        "<IPython.core.display.Javascript at 0x19fb2ac8>"
       ]
      },
      {
       "javascript": [
        "$('div#55acee56-00bb-4bb8-a88c-a43d34e78e3d').text('650 of 971');"
       ],
       "metadata": {},
       "output_type": "display_data",
       "text": [
        "<IPython.core.display.Javascript at 0x19423898>"
       ]
      },
      {
       "javascript": [
        "$('div#3c82b7bc-6e0d-4a17-93ee-056dcee0da62').text(' 66%');"
       ],
       "metadata": {},
       "output_type": "display_data",
       "text": [
        "<IPython.core.display.Javascript at 0x19423208>"
       ]
      },
      {
       "javascript": [
        "\n",
        "        var $myPB = $(\"div#8cb3c7bc-2b54-4638-a130-ac7c09d5093f\")\n",
        "        if ($myPB.hasClass('ui-progressbar')) {\n",
        "            $myPB.progressbar('value', 650);\n",
        "        } else {\n",
        "            $myPB.progressbar({value: 0, max: 971});\n",
        "        }\n",
        "        "
       ],
       "metadata": {},
       "output_type": "display_data",
       "text": [
        "<IPython.core.display.Javascript at 0x194231d0>"
       ]
      },
      {
       "javascript": [
        "$('div#4f7fbcae-e5ba-4e7c-a28b-74b7af67a13e').text('ETA:  0:00:02');"
       ],
       "metadata": {},
       "output_type": "display_data",
       "text": [
        "<IPython.core.display.Javascript at 0x19fb2ac8>"
       ]
      },
      {
       "javascript": [
        "$('div#55acee56-00bb-4bb8-a88c-a43d34e78e3d').text('660 of 971');"
       ],
       "metadata": {},
       "output_type": "display_data",
       "text": [
        "<IPython.core.display.Javascript at 0x1b75c3c8>"
       ]
      },
      {
       "javascript": [
        "$('div#3c82b7bc-6e0d-4a17-93ee-056dcee0da62').text(' 67%');"
       ],
       "metadata": {},
       "output_type": "display_data",
       "text": [
        "<IPython.core.display.Javascript at 0x1b75ce48>"
       ]
      },
      {
       "javascript": [
        "\n",
        "        var $myPB = $(\"div#8cb3c7bc-2b54-4638-a130-ac7c09d5093f\")\n",
        "        if ($myPB.hasClass('ui-progressbar')) {\n",
        "            $myPB.progressbar('value', 660);\n",
        "        } else {\n",
        "            $myPB.progressbar({value: 0, max: 971});\n",
        "        }\n",
        "        "
       ],
       "metadata": {},
       "output_type": "display_data",
       "text": [
        "<IPython.core.display.Javascript at 0x1b75c710>"
       ]
      },
      {
       "javascript": [
        "$('div#4f7fbcae-e5ba-4e7c-a28b-74b7af67a13e').text('ETA:  0:00:02');"
       ],
       "metadata": {},
       "output_type": "display_data",
       "text": [
        "<IPython.core.display.Javascript at 0x19fb2ac8>"
       ]
      },
      {
       "javascript": [
        "$('div#55acee56-00bb-4bb8-a88c-a43d34e78e3d').text('670 of 971');"
       ],
       "metadata": {},
       "output_type": "display_data",
       "text": [
        "<IPython.core.display.Javascript at 0x1a3d9390>"
       ]
      },
      {
       "javascript": [
        "$('div#3c82b7bc-6e0d-4a17-93ee-056dcee0da62').text(' 69%');"
       ],
       "metadata": {},
       "output_type": "display_data",
       "text": [
        "<IPython.core.display.Javascript at 0x1a3d9b38>"
       ]
      },
      {
       "javascript": [
        "\n",
        "        var $myPB = $(\"div#8cb3c7bc-2b54-4638-a130-ac7c09d5093f\")\n",
        "        if ($myPB.hasClass('ui-progressbar')) {\n",
        "            $myPB.progressbar('value', 670);\n",
        "        } else {\n",
        "            $myPB.progressbar({value: 0, max: 971});\n",
        "        }\n",
        "        "
       ],
       "metadata": {},
       "output_type": "display_data",
       "text": [
        "<IPython.core.display.Javascript at 0x1a3d9128>"
       ]
      },
      {
       "javascript": [
        "$('div#4f7fbcae-e5ba-4e7c-a28b-74b7af67a13e').text('ETA:  0:00:02');"
       ],
       "metadata": {},
       "output_type": "display_data",
       "text": [
        "<IPython.core.display.Javascript at 0x19fb2ac8>"
       ]
      },
      {
       "javascript": [
        "$('div#55acee56-00bb-4bb8-a88c-a43d34e78e3d').text('680 of 971');"
       ],
       "metadata": {},
       "output_type": "display_data",
       "text": [
        "<IPython.core.display.Javascript at 0x17e2dd68>"
       ]
      },
      {
       "javascript": [
        "$('div#3c82b7bc-6e0d-4a17-93ee-056dcee0da62').text(' 70%');"
       ],
       "metadata": {},
       "output_type": "display_data",
       "text": [
        "<IPython.core.display.Javascript at 0x17e2dba8>"
       ]
      },
      {
       "javascript": [
        "\n",
        "        var $myPB = $(\"div#8cb3c7bc-2b54-4638-a130-ac7c09d5093f\")\n",
        "        if ($myPB.hasClass('ui-progressbar')) {\n",
        "            $myPB.progressbar('value', 680);\n",
        "        } else {\n",
        "            $myPB.progressbar({value: 0, max: 971});\n",
        "        }\n",
        "        "
       ],
       "metadata": {},
       "output_type": "display_data",
       "text": [
        "<IPython.core.display.Javascript at 0x1f20bfd0>"
       ]
      },
      {
       "javascript": [
        "$('div#4f7fbcae-e5ba-4e7c-a28b-74b7af67a13e').text('ETA:  0:00:02');"
       ],
       "metadata": {},
       "output_type": "display_data",
       "text": [
        "<IPython.core.display.Javascript at 0x19fb2ac8>"
       ]
      },
      {
       "javascript": [
        "$('div#55acee56-00bb-4bb8-a88c-a43d34e78e3d').text('690 of 971');"
       ],
       "metadata": {},
       "output_type": "display_data",
       "text": [
        "<IPython.core.display.Javascript at 0x1f397240>"
       ]
      },
      {
       "javascript": [
        "$('div#3c82b7bc-6e0d-4a17-93ee-056dcee0da62').text(' 71%');"
       ],
       "metadata": {},
       "output_type": "display_data",
       "text": [
        "<IPython.core.display.Javascript at 0x1f397080>"
       ]
      },
      {
       "javascript": [
        "\n",
        "        var $myPB = $(\"div#8cb3c7bc-2b54-4638-a130-ac7c09d5093f\")\n",
        "        if ($myPB.hasClass('ui-progressbar')) {\n",
        "            $myPB.progressbar('value', 690);\n",
        "        } else {\n",
        "            $myPB.progressbar({value: 0, max: 971});\n",
        "        }\n",
        "        "
       ],
       "metadata": {},
       "output_type": "display_data",
       "text": [
        "<IPython.core.display.Javascript at 0x1f3974e0>"
       ]
      },
      {
       "javascript": [
        "$('div#4f7fbcae-e5ba-4e7c-a28b-74b7af67a13e').text('ETA:  0:00:02');"
       ],
       "metadata": {},
       "output_type": "display_data",
       "text": [
        "<IPython.core.display.Javascript at 0x19fb2ac8>"
       ]
      },
      {
       "javascript": [
        "$('div#55acee56-00bb-4bb8-a88c-a43d34e78e3d').text('700 of 971');"
       ],
       "metadata": {},
       "output_type": "display_data",
       "text": [
        "<IPython.core.display.Javascript at 0x197e82e8>"
       ]
      },
      {
       "javascript": [
        "$('div#3c82b7bc-6e0d-4a17-93ee-056dcee0da62').text(' 72%');"
       ],
       "metadata": {},
       "output_type": "display_data",
       "text": [
        "<IPython.core.display.Javascript at 0x197e8d68>"
       ]
      },
      {
       "javascript": [
        "\n",
        "        var $myPB = $(\"div#8cb3c7bc-2b54-4638-a130-ac7c09d5093f\")\n",
        "        if ($myPB.hasClass('ui-progressbar')) {\n",
        "            $myPB.progressbar('value', 700);\n",
        "        } else {\n",
        "            $myPB.progressbar({value: 0, max: 971});\n",
        "        }\n",
        "        "
       ],
       "metadata": {},
       "output_type": "display_data",
       "text": [
        "<IPython.core.display.Javascript at 0x197e8ef0>"
       ]
      },
      {
       "javascript": [
        "$('div#4f7fbcae-e5ba-4e7c-a28b-74b7af67a13e').text('ETA:  0:00:01');"
       ],
       "metadata": {},
       "output_type": "display_data",
       "text": [
        "<IPython.core.display.Javascript at 0x19fb2ac8>"
       ]
      },
      {
       "javascript": [
        "$('div#55acee56-00bb-4bb8-a88c-a43d34e78e3d').text('710 of 971');"
       ],
       "metadata": {},
       "output_type": "display_data",
       "text": [
        "<IPython.core.display.Javascript at 0x1f935f60>"
       ]
      },
      {
       "javascript": [
        "$('div#3c82b7bc-6e0d-4a17-93ee-056dcee0da62').text(' 73%');"
       ],
       "metadata": {},
       "output_type": "display_data",
       "text": [
        "<IPython.core.display.Javascript at 0x1f935860>"
       ]
      },
      {
       "javascript": [
        "\n",
        "        var $myPB = $(\"div#8cb3c7bc-2b54-4638-a130-ac7c09d5093f\")\n",
        "        if ($myPB.hasClass('ui-progressbar')) {\n",
        "            $myPB.progressbar('value', 710);\n",
        "        } else {\n",
        "            $myPB.progressbar({value: 0, max: 971});\n",
        "        }\n",
        "        "
       ],
       "metadata": {},
       "output_type": "display_data",
       "text": [
        "<IPython.core.display.Javascript at 0x1f9352b0>"
       ]
      },
      {
       "javascript": [
        "$('div#4f7fbcae-e5ba-4e7c-a28b-74b7af67a13e').text('ETA:  0:00:01');"
       ],
       "metadata": {},
       "output_type": "display_data",
       "text": [
        "<IPython.core.display.Javascript at 0x19fb2ac8>"
       ]
      },
      {
       "javascript": [
        "$('div#55acee56-00bb-4bb8-a88c-a43d34e78e3d').text('720 of 971');"
       ],
       "metadata": {},
       "output_type": "display_data",
       "text": [
        "<IPython.core.display.Javascript at 0x1a886b70>"
       ]
      },
      {
       "javascript": [
        "$('div#3c82b7bc-6e0d-4a17-93ee-056dcee0da62').text(' 74%');"
       ],
       "metadata": {},
       "output_type": "display_data",
       "text": [
        "<IPython.core.display.Javascript at 0x1a886080>"
       ]
      },
      {
       "javascript": [
        "\n",
        "        var $myPB = $(\"div#8cb3c7bc-2b54-4638-a130-ac7c09d5093f\")\n",
        "        if ($myPB.hasClass('ui-progressbar')) {\n",
        "            $myPB.progressbar('value', 720);\n",
        "        } else {\n",
        "            $myPB.progressbar({value: 0, max: 971});\n",
        "        }\n",
        "        "
       ],
       "metadata": {},
       "output_type": "display_data",
       "text": [
        "<IPython.core.display.Javascript at 0x1a8865c0>"
       ]
      },
      {
       "javascript": [
        "$('div#4f7fbcae-e5ba-4e7c-a28b-74b7af67a13e').text('ETA:  0:00:01');"
       ],
       "metadata": {},
       "output_type": "display_data",
       "text": [
        "<IPython.core.display.Javascript at 0x19fb2ac8>"
       ]
      },
      {
       "javascript": [
        "$('div#55acee56-00bb-4bb8-a88c-a43d34e78e3d').text('730 of 971');"
       ],
       "metadata": {},
       "output_type": "display_data",
       "text": [
        "<IPython.core.display.Javascript at 0x14f0dba8>"
       ]
      },
      {
       "javascript": [
        "$('div#3c82b7bc-6e0d-4a17-93ee-056dcee0da62').text(' 75%');"
       ],
       "metadata": {},
       "output_type": "display_data",
       "text": [
        "<IPython.core.display.Javascript at 0x14f0d828>"
       ]
      },
      {
       "javascript": [
        "\n",
        "        var $myPB = $(\"div#8cb3c7bc-2b54-4638-a130-ac7c09d5093f\")\n",
        "        if ($myPB.hasClass('ui-progressbar')) {\n",
        "            $myPB.progressbar('value', 730);\n",
        "        } else {\n",
        "            $myPB.progressbar({value: 0, max: 971});\n",
        "        }\n",
        "        "
       ],
       "metadata": {},
       "output_type": "display_data",
       "text": [
        "<IPython.core.display.Javascript at 0x14f0d4a8>"
       ]
      },
      {
       "javascript": [
        "$('div#4f7fbcae-e5ba-4e7c-a28b-74b7af67a13e').text('ETA:  0:00:01');"
       ],
       "metadata": {},
       "output_type": "display_data",
       "text": [
        "<IPython.core.display.Javascript at 0x19fb2ac8>"
       ]
      },
      {
       "javascript": [
        "$('div#55acee56-00bb-4bb8-a88c-a43d34e78e3d').text('740 of 971');"
       ],
       "metadata": {},
       "output_type": "display_data",
       "text": [
        "<IPython.core.display.Javascript at 0x16cba8d0>"
       ]
      },
      {
       "javascript": [
        "$('div#3c82b7bc-6e0d-4a17-93ee-056dcee0da62').text(' 76%');"
       ],
       "metadata": {},
       "output_type": "display_data",
       "text": [
        "<IPython.core.display.Javascript at 0x16cba0b8>"
       ]
      },
      {
       "javascript": [
        "\n",
        "        var $myPB = $(\"div#8cb3c7bc-2b54-4638-a130-ac7c09d5093f\")\n",
        "        if ($myPB.hasClass('ui-progressbar')) {\n",
        "            $myPB.progressbar('value', 740);\n",
        "        } else {\n",
        "            $myPB.progressbar({value: 0, max: 971});\n",
        "        }\n",
        "        "
       ],
       "metadata": {},
       "output_type": "display_data",
       "text": [
        "<IPython.core.display.Javascript at 0x16cba390>"
       ]
      },
      {
       "javascript": [
        "$('div#4f7fbcae-e5ba-4e7c-a28b-74b7af67a13e').text('ETA:  0:00:01');"
       ],
       "metadata": {},
       "output_type": "display_data",
       "text": [
        "<IPython.core.display.Javascript at 0x16cba390>"
       ]
      },
      {
       "javascript": [
        "$('div#55acee56-00bb-4bb8-a88c-a43d34e78e3d').text('750 of 971');"
       ],
       "metadata": {},
       "output_type": "display_data",
       "text": [
        "<IPython.core.display.Javascript at 0x14fe8be0>"
       ]
      },
      {
       "javascript": [
        "$('div#3c82b7bc-6e0d-4a17-93ee-056dcee0da62').text(' 77%');"
       ],
       "metadata": {},
       "output_type": "display_data",
       "text": [
        "<IPython.core.display.Javascript at 0x14fe85c0>"
       ]
      },
      {
       "javascript": [
        "\n",
        "        var $myPB = $(\"div#8cb3c7bc-2b54-4638-a130-ac7c09d5093f\")\n",
        "        if ($myPB.hasClass('ui-progressbar')) {\n",
        "            $myPB.progressbar('value', 750);\n",
        "        } else {\n",
        "            $myPB.progressbar({value: 0, max: 971});\n",
        "        }\n",
        "        "
       ],
       "metadata": {},
       "output_type": "display_data",
       "text": [
        "<IPython.core.display.Javascript at 0x14fe88d0>"
       ]
      },
      {
       "javascript": [
        "$('div#4f7fbcae-e5ba-4e7c-a28b-74b7af67a13e').text('ETA:  0:00:01');"
       ],
       "metadata": {},
       "output_type": "display_data",
       "text": [
        "<IPython.core.display.Javascript at 0x16cba390>"
       ]
      },
      {
       "javascript": [
        "$('div#55acee56-00bb-4bb8-a88c-a43d34e78e3d').text('760 of 971');"
       ],
       "metadata": {},
       "output_type": "display_data",
       "text": [
        "<IPython.core.display.Javascript at 0x17f7a6d8>"
       ]
      },
      {
       "javascript": [
        "$('div#3c82b7bc-6e0d-4a17-93ee-056dcee0da62').text(' 78%');"
       ],
       "metadata": {},
       "output_type": "display_data",
       "text": [
        "<IPython.core.display.Javascript at 0x19fc2dd8>"
       ]
      },
      {
       "javascript": [
        "\n",
        "        var $myPB = $(\"div#8cb3c7bc-2b54-4638-a130-ac7c09d5093f\")\n",
        "        if ($myPB.hasClass('ui-progressbar')) {\n",
        "            $myPB.progressbar('value', 760);\n",
        "        } else {\n",
        "            $myPB.progressbar({value: 0, max: 971});\n",
        "        }\n",
        "        "
       ],
       "metadata": {},
       "output_type": "display_data",
       "text": [
        "<IPython.core.display.Javascript at 0x19fc29e8>"
       ]
      },
      {
       "javascript": [
        "$('div#4f7fbcae-e5ba-4e7c-a28b-74b7af67a13e').text('ETA:  0:00:01');"
       ],
       "metadata": {},
       "output_type": "display_data",
       "text": [
        "<IPython.core.display.Javascript at 0x16cba390>"
       ]
      },
      {
       "javascript": [
        "$('div#55acee56-00bb-4bb8-a88c-a43d34e78e3d').text('770 of 971');"
       ],
       "metadata": {},
       "output_type": "display_data",
       "text": [
        "<IPython.core.display.Javascript at 0x1b55ea20>"
       ]
      },
      {
       "javascript": [
        "$('div#3c82b7bc-6e0d-4a17-93ee-056dcee0da62').text(' 79%');"
       ],
       "metadata": {},
       "output_type": "display_data",
       "text": [
        "<IPython.core.display.Javascript at 0x1b55e208>"
       ]
      },
      {
       "javascript": [
        "\n",
        "        var $myPB = $(\"div#8cb3c7bc-2b54-4638-a130-ac7c09d5093f\")\n",
        "        if ($myPB.hasClass('ui-progressbar')) {\n",
        "            $myPB.progressbar('value', 770);\n",
        "        } else {\n",
        "            $myPB.progressbar({value: 0, max: 971});\n",
        "        }\n",
        "        "
       ],
       "metadata": {},
       "output_type": "display_data",
       "text": [
        "<IPython.core.display.Javascript at 0x1b55e390>"
       ]
      },
      {
       "javascript": [
        "$('div#4f7fbcae-e5ba-4e7c-a28b-74b7af67a13e').text('ETA:  0:00:01');"
       ],
       "metadata": {},
       "output_type": "display_data",
       "text": [
        "<IPython.core.display.Javascript at 0x16cba390>"
       ]
      },
      {
       "javascript": [
        "$('div#55acee56-00bb-4bb8-a88c-a43d34e78e3d').text('780 of 971');"
       ],
       "metadata": {},
       "output_type": "display_data",
       "text": [
        "<IPython.core.display.Javascript at 0x147e7940>"
       ]
      },
      {
       "javascript": [
        "$('div#3c82b7bc-6e0d-4a17-93ee-056dcee0da62').text(' 80%');"
       ],
       "metadata": {},
       "output_type": "display_data",
       "text": [
        "<IPython.core.display.Javascript at 0x147e7828>"
       ]
      },
      {
       "javascript": [
        "\n",
        "        var $myPB = $(\"div#8cb3c7bc-2b54-4638-a130-ac7c09d5093f\")\n",
        "        if ($myPB.hasClass('ui-progressbar')) {\n",
        "            $myPB.progressbar('value', 780);\n",
        "        } else {\n",
        "            $myPB.progressbar({value: 0, max: 971});\n",
        "        }\n",
        "        "
       ],
       "metadata": {},
       "output_type": "display_data",
       "text": [
        "<IPython.core.display.Javascript at 0x147e7358>"
       ]
      },
      {
       "javascript": [
        "$('div#4f7fbcae-e5ba-4e7c-a28b-74b7af67a13e').text('ETA:  0:00:01');"
       ],
       "metadata": {},
       "output_type": "display_data",
       "text": [
        "<IPython.core.display.Javascript at 0x16cba390>"
       ]
      },
      {
       "javascript": [
        "$('div#55acee56-00bb-4bb8-a88c-a43d34e78e3d').text('790 of 971');"
       ],
       "metadata": {},
       "output_type": "display_data",
       "text": [
        "<IPython.core.display.Javascript at 0x1ff6a6d8>"
       ]
      },
      {
       "javascript": [
        "$('div#3c82b7bc-6e0d-4a17-93ee-056dcee0da62').text(' 81%');"
       ],
       "metadata": {},
       "output_type": "display_data",
       "text": [
        "<IPython.core.display.Javascript at 0x1ff6ab70>"
       ]
      },
      {
       "javascript": [
        "\n",
        "        var $myPB = $(\"div#8cb3c7bc-2b54-4638-a130-ac7c09d5093f\")\n",
        "        if ($myPB.hasClass('ui-progressbar')) {\n",
        "            $myPB.progressbar('value', 790);\n",
        "        } else {\n",
        "            $myPB.progressbar({value: 0, max: 971});\n",
        "        }\n",
        "        "
       ],
       "metadata": {},
       "output_type": "display_data",
       "text": [
        "<IPython.core.display.Javascript at 0x1ff6a828>"
       ]
      },
      {
       "javascript": [
        "$('div#4f7fbcae-e5ba-4e7c-a28b-74b7af67a13e').text('ETA:  0:00:01');"
       ],
       "metadata": {},
       "output_type": "display_data",
       "text": [
        "<IPython.core.display.Javascript at 0x16cba390>"
       ]
      },
      {
       "javascript": [
        "$('div#55acee56-00bb-4bb8-a88c-a43d34e78e3d').text('800 of 971');"
       ],
       "metadata": {},
       "output_type": "display_data",
       "text": [
        "<IPython.core.display.Javascript at 0x1af75668>"
       ]
      },
      {
       "javascript": [
        "$('div#3c82b7bc-6e0d-4a17-93ee-056dcee0da62').text(' 82%');"
       ],
       "metadata": {},
       "output_type": "display_data",
       "text": [
        "<IPython.core.display.Javascript at 0x1af75e10>"
       ]
      },
      {
       "javascript": [
        "\n",
        "        var $myPB = $(\"div#8cb3c7bc-2b54-4638-a130-ac7c09d5093f\")\n",
        "        if ($myPB.hasClass('ui-progressbar')) {\n",
        "            $myPB.progressbar('value', 800);\n",
        "        } else {\n",
        "            $myPB.progressbar({value: 0, max: 971});\n",
        "        }\n",
        "        "
       ],
       "metadata": {},
       "output_type": "display_data",
       "text": [
        "<IPython.core.display.Javascript at 0x1af75a58>"
       ]
      },
      {
       "javascript": [
        "$('div#4f7fbcae-e5ba-4e7c-a28b-74b7af67a13e').text('ETA:  0:00:01');"
       ],
       "metadata": {},
       "output_type": "display_data",
       "text": [
        "<IPython.core.display.Javascript at 0x16cba390>"
       ]
      },
      {
       "javascript": [
        "$('div#55acee56-00bb-4bb8-a88c-a43d34e78e3d').text('810 of 971');"
       ],
       "metadata": {},
       "output_type": "display_data",
       "text": [
        "<IPython.core.display.Javascript at 0x1af40588>"
       ]
      },
      {
       "javascript": [
        "$('div#3c82b7bc-6e0d-4a17-93ee-056dcee0da62').text(' 83%');"
       ],
       "metadata": {},
       "output_type": "display_data",
       "text": [
        "<IPython.core.display.Javascript at 0x1af40d30>"
       ]
      },
      {
       "javascript": [
        "\n",
        "        var $myPB = $(\"div#8cb3c7bc-2b54-4638-a130-ac7c09d5093f\")\n",
        "        if ($myPB.hasClass('ui-progressbar')) {\n",
        "            $myPB.progressbar('value', 810);\n",
        "        } else {\n",
        "            $myPB.progressbar({value: 0, max: 971});\n",
        "        }\n",
        "        "
       ],
       "metadata": {},
       "output_type": "display_data",
       "text": [
        "<IPython.core.display.Javascript at 0x1af40c88>"
       ]
      },
      {
       "javascript": [
        "$('div#4f7fbcae-e5ba-4e7c-a28b-74b7af67a13e').text('ETA:  0:00:01');"
       ],
       "metadata": {},
       "output_type": "display_data",
       "text": [
        "<IPython.core.display.Javascript at 0x1af40c88>"
       ]
      },
      {
       "javascript": [
        "$('div#55acee56-00bb-4bb8-a88c-a43d34e78e3d').text('820 of 971');"
       ],
       "metadata": {},
       "output_type": "display_data",
       "text": [
        "<IPython.core.display.Javascript at 0x1bf235f8>"
       ]
      },
      {
       "javascript": [
        "$('div#3c82b7bc-6e0d-4a17-93ee-056dcee0da62').text(' 84%');"
       ],
       "metadata": {},
       "output_type": "display_data",
       "text": [
        "<IPython.core.display.Javascript at 0x1bf23dd8>"
       ]
      },
      {
       "javascript": [
        "\n",
        "        var $myPB = $(\"div#8cb3c7bc-2b54-4638-a130-ac7c09d5093f\")\n",
        "        if ($myPB.hasClass('ui-progressbar')) {\n",
        "            $myPB.progressbar('value', 820);\n",
        "        } else {\n",
        "            $myPB.progressbar({value: 0, max: 971});\n",
        "        }\n",
        "        "
       ],
       "metadata": {},
       "output_type": "display_data",
       "text": [
        "<IPython.core.display.Javascript at 0x1bf23be0>"
       ]
      },
      {
       "javascript": [
        "$('div#4f7fbcae-e5ba-4e7c-a28b-74b7af67a13e').text('ETA:  0:00:01');"
       ],
       "metadata": {},
       "output_type": "display_data",
       "text": [
        "<IPython.core.display.Javascript at 0x1af40c88>"
       ]
      },
      {
       "javascript": [
        "$('div#55acee56-00bb-4bb8-a88c-a43d34e78e3d').text('830 of 971');"
       ],
       "metadata": {},
       "output_type": "display_data",
       "text": [
        "<IPython.core.display.Javascript at 0x1701f278>"
       ]
      },
      {
       "javascript": [
        "$('div#3c82b7bc-6e0d-4a17-93ee-056dcee0da62').text(' 85%');"
       ],
       "metadata": {},
       "output_type": "display_data",
       "text": [
        "<IPython.core.display.Javascript at 0x1701f208>"
       ]
      },
      {
       "javascript": [
        "\n",
        "        var $myPB = $(\"div#8cb3c7bc-2b54-4638-a130-ac7c09d5093f\")\n",
        "        if ($myPB.hasClass('ui-progressbar')) {\n",
        "            $myPB.progressbar('value', 830);\n",
        "        } else {\n",
        "            $myPB.progressbar({value: 0, max: 971});\n",
        "        }\n",
        "        "
       ],
       "metadata": {},
       "output_type": "display_data",
       "text": [
        "<IPython.core.display.Javascript at 0x1701f128>"
       ]
      },
      {
       "javascript": [
        "$('div#4f7fbcae-e5ba-4e7c-a28b-74b7af67a13e').text('ETA:  0:00:01');"
       ],
       "metadata": {},
       "output_type": "display_data",
       "text": [
        "<IPython.core.display.Javascript at 0x1701f128>"
       ]
      },
      {
       "javascript": [
        "$('div#55acee56-00bb-4bb8-a88c-a43d34e78e3d').text('840 of 971');"
       ],
       "metadata": {},
       "output_type": "display_data",
       "text": [
        "<IPython.core.display.Javascript at 0x1a78fb00>"
       ]
      },
      {
       "javascript": [
        "$('div#3c82b7bc-6e0d-4a17-93ee-056dcee0da62').text(' 86%');"
       ],
       "metadata": {},
       "output_type": "display_data",
       "text": [
        "<IPython.core.display.Javascript at 0x1a78f048>"
       ]
      },
      {
       "javascript": [
        "\n",
        "        var $myPB = $(\"div#8cb3c7bc-2b54-4638-a130-ac7c09d5093f\")\n",
        "        if ($myPB.hasClass('ui-progressbar')) {\n",
        "            $myPB.progressbar('value', 840);\n",
        "        } else {\n",
        "            $myPB.progressbar({value: 0, max: 971});\n",
        "        }\n",
        "        "
       ],
       "metadata": {},
       "output_type": "display_data",
       "text": [
        "<IPython.core.display.Javascript at 0x1a78fa90>"
       ]
      },
      {
       "javascript": [
        "$('div#4f7fbcae-e5ba-4e7c-a28b-74b7af67a13e').text('ETA:  0:00:00');"
       ],
       "metadata": {},
       "output_type": "display_data",
       "text": [
        "<IPython.core.display.Javascript at 0x1701f128>"
       ]
      },
      {
       "javascript": [
        "$('div#55acee56-00bb-4bb8-a88c-a43d34e78e3d').text('850 of 971');"
       ],
       "metadata": {},
       "output_type": "display_data",
       "text": [
        "<IPython.core.display.Javascript at 0x170e07f0>"
       ]
      },
      {
       "javascript": [
        "$('div#3c82b7bc-6e0d-4a17-93ee-056dcee0da62').text(' 87%');"
       ],
       "metadata": {},
       "output_type": "display_data",
       "text": [
        "<IPython.core.display.Javascript at 0x170e0908>"
       ]
      },
      {
       "javascript": [
        "\n",
        "        var $myPB = $(\"div#8cb3c7bc-2b54-4638-a130-ac7c09d5093f\")\n",
        "        if ($myPB.hasClass('ui-progressbar')) {\n",
        "            $myPB.progressbar('value', 850);\n",
        "        } else {\n",
        "            $myPB.progressbar({value: 0, max: 971});\n",
        "        }\n",
        "        "
       ],
       "metadata": {},
       "output_type": "display_data",
       "text": [
        "<IPython.core.display.Javascript at 0x170e0ac8>"
       ]
      },
      {
       "javascript": [
        "$('div#4f7fbcae-e5ba-4e7c-a28b-74b7af67a13e').text('ETA:  0:00:00');"
       ],
       "metadata": {},
       "output_type": "display_data",
       "text": [
        "<IPython.core.display.Javascript at 0x1701f128>"
       ]
      },
      {
       "javascript": [
        "$('div#55acee56-00bb-4bb8-a88c-a43d34e78e3d').text('860 of 971');"
       ],
       "metadata": {},
       "output_type": "display_data",
       "text": [
        "<IPython.core.display.Javascript at 0x138822b0>"
       ]
      },
      {
       "javascript": [
        "$('div#3c82b7bc-6e0d-4a17-93ee-056dcee0da62').text(' 88%');"
       ],
       "metadata": {},
       "output_type": "display_data",
       "text": [
        "<IPython.core.display.Javascript at 0x13882748>"
       ]
      },
      {
       "javascript": [
        "\n",
        "        var $myPB = $(\"div#8cb3c7bc-2b54-4638-a130-ac7c09d5093f\")\n",
        "        if ($myPB.hasClass('ui-progressbar')) {\n",
        "            $myPB.progressbar('value', 860);\n",
        "        } else {\n",
        "            $myPB.progressbar({value: 0, max: 971});\n",
        "        }\n",
        "        "
       ],
       "metadata": {},
       "output_type": "display_data",
       "text": [
        "<IPython.core.display.Javascript at 0x138825f8>"
       ]
      },
      {
       "javascript": [
        "$('div#4f7fbcae-e5ba-4e7c-a28b-74b7af67a13e').text('ETA:  0:00:00');"
       ],
       "metadata": {},
       "output_type": "display_data",
       "text": [
        "<IPython.core.display.Javascript at 0x138825f8>"
       ]
      },
      {
       "javascript": [
        "$('div#55acee56-00bb-4bb8-a88c-a43d34e78e3d').text('870 of 971');"
       ],
       "metadata": {},
       "output_type": "display_data",
       "text": [
        "<IPython.core.display.Javascript at 0x1ccc7c88>"
       ]
      },
      {
       "javascript": [
        "$('div#3c82b7bc-6e0d-4a17-93ee-056dcee0da62').text(' 89%');"
       ],
       "metadata": {},
       "output_type": "display_data",
       "text": [
        "<IPython.core.display.Javascript at 0x1ccc7940>"
       ]
      },
      {
       "javascript": [
        "\n",
        "        var $myPB = $(\"div#8cb3c7bc-2b54-4638-a130-ac7c09d5093f\")\n",
        "        if ($myPB.hasClass('ui-progressbar')) {\n",
        "            $myPB.progressbar('value', 870);\n",
        "        } else {\n",
        "            $myPB.progressbar({value: 0, max: 971});\n",
        "        }\n",
        "        "
       ],
       "metadata": {},
       "output_type": "display_data",
       "text": [
        "<IPython.core.display.Javascript at 0x1ccc79e8>"
       ]
      },
      {
       "javascript": [
        "$('div#4f7fbcae-e5ba-4e7c-a28b-74b7af67a13e').text('ETA:  0:00:00');"
       ],
       "metadata": {},
       "output_type": "display_data",
       "text": [
        "<IPython.core.display.Javascript at 0x138825f8>"
       ]
      },
      {
       "javascript": [
        "$('div#55acee56-00bb-4bb8-a88c-a43d34e78e3d').text('880 of 971');"
       ],
       "metadata": {},
       "output_type": "display_data",
       "text": [
        "<IPython.core.display.Javascript at 0x1cb2e908>"
       ]
      },
      {
       "javascript": [
        "$('div#3c82b7bc-6e0d-4a17-93ee-056dcee0da62').text(' 90%');"
       ],
       "metadata": {},
       "output_type": "display_data",
       "text": [
        "<IPython.core.display.Javascript at 0x1cb2e0f0>"
       ]
      },
      {
       "javascript": [
        "\n",
        "        var $myPB = $(\"div#8cb3c7bc-2b54-4638-a130-ac7c09d5093f\")\n",
        "        if ($myPB.hasClass('ui-progressbar')) {\n",
        "            $myPB.progressbar('value', 880);\n",
        "        } else {\n",
        "            $myPB.progressbar({value: 0, max: 971});\n",
        "        }\n",
        "        "
       ],
       "metadata": {},
       "output_type": "display_data",
       "text": [
        "<IPython.core.display.Javascript at 0x1cb2efd0>"
       ]
      },
      {
       "javascript": [
        "$('div#4f7fbcae-e5ba-4e7c-a28b-74b7af67a13e').text('ETA:  0:00:00');"
       ],
       "metadata": {},
       "output_type": "display_data",
       "text": [
        "<IPython.core.display.Javascript at 0x138825f8>"
       ]
      },
      {
       "javascript": [
        "$('div#55acee56-00bb-4bb8-a88c-a43d34e78e3d').text('890 of 971');"
       ],
       "metadata": {},
       "output_type": "display_data",
       "text": [
        "<IPython.core.display.Javascript at 0x15fc47b8>"
       ]
      },
      {
       "javascript": [
        "$('div#3c82b7bc-6e0d-4a17-93ee-056dcee0da62').text(' 91%');"
       ],
       "metadata": {},
       "output_type": "display_data",
       "text": [
        "<IPython.core.display.Javascript at 0x15fc4588>"
       ]
      },
      {
       "javascript": [
        "\n",
        "        var $myPB = $(\"div#8cb3c7bc-2b54-4638-a130-ac7c09d5093f\")\n",
        "        if ($myPB.hasClass('ui-progressbar')) {\n",
        "            $myPB.progressbar('value', 890);\n",
        "        } else {\n",
        "            $myPB.progressbar({value: 0, max: 971});\n",
        "        }\n",
        "        "
       ],
       "metadata": {},
       "output_type": "display_data",
       "text": [
        "<IPython.core.display.Javascript at 0x15fc43c8>"
       ]
      },
      {
       "javascript": [
        "$('div#4f7fbcae-e5ba-4e7c-a28b-74b7af67a13e').text('ETA:  0:00:00');"
       ],
       "metadata": {},
       "output_type": "display_data",
       "text": [
        "<IPython.core.display.Javascript at 0x138825f8>"
       ]
      },
      {
       "javascript": [
        "$('div#55acee56-00bb-4bb8-a88c-a43d34e78e3d').text('900 of 971');"
       ],
       "metadata": {},
       "output_type": "display_data",
       "text": [
        "<IPython.core.display.Javascript at 0x1a328e80>"
       ]
      },
      {
       "javascript": [
        "$('div#3c82b7bc-6e0d-4a17-93ee-056dcee0da62').text(' 92%');"
       ],
       "metadata": {},
       "output_type": "display_data",
       "text": [
        "<IPython.core.display.Javascript at 0x1a328f60>"
       ]
      },
      {
       "javascript": [
        "\n",
        "        var $myPB = $(\"div#8cb3c7bc-2b54-4638-a130-ac7c09d5093f\")\n",
        "        if ($myPB.hasClass('ui-progressbar')) {\n",
        "            $myPB.progressbar('value', 900);\n",
        "        } else {\n",
        "            $myPB.progressbar({value: 0, max: 971});\n",
        "        }\n",
        "        "
       ],
       "metadata": {},
       "output_type": "display_data",
       "text": [
        "<IPython.core.display.Javascript at 0x1a3285f8>"
       ]
      },
      {
       "javascript": [
        "$('div#4f7fbcae-e5ba-4e7c-a28b-74b7af67a13e').text('ETA:  0:00:00');"
       ],
       "metadata": {},
       "output_type": "display_data",
       "text": [
        "<IPython.core.display.Javascript at 0x138825f8>"
       ]
      },
      {
       "javascript": [
        "$('div#55acee56-00bb-4bb8-a88c-a43d34e78e3d').text('910 of 971');"
       ],
       "metadata": {},
       "output_type": "display_data",
       "text": [
        "<IPython.core.display.Javascript at 0x191bfda0>"
       ]
      },
      {
       "javascript": [
        "$('div#3c82b7bc-6e0d-4a17-93ee-056dcee0da62').text(' 93%');"
       ],
       "metadata": {},
       "output_type": "display_data",
       "text": [
        "<IPython.core.display.Javascript at 0x191bf6d8>"
       ]
      },
      {
       "javascript": [
        "\n",
        "        var $myPB = $(\"div#8cb3c7bc-2b54-4638-a130-ac7c09d5093f\")\n",
        "        if ($myPB.hasClass('ui-progressbar')) {\n",
        "            $myPB.progressbar('value', 910);\n",
        "        } else {\n",
        "            $myPB.progressbar({value: 0, max: 971});\n",
        "        }\n",
        "        "
       ],
       "metadata": {},
       "output_type": "display_data",
       "text": [
        "<IPython.core.display.Javascript at 0x191bf5f8>"
       ]
      },
      {
       "javascript": [
        "$('div#4f7fbcae-e5ba-4e7c-a28b-74b7af67a13e').text('ETA:  0:00:00');"
       ],
       "metadata": {},
       "output_type": "display_data",
       "text": [
        "<IPython.core.display.Javascript at 0x138825f8>"
       ]
      },
      {
       "javascript": [
        "$('div#55acee56-00bb-4bb8-a88c-a43d34e78e3d').text('920 of 971');"
       ],
       "metadata": {},
       "output_type": "display_data",
       "text": [
        "<IPython.core.display.Javascript at 0x1b707e80>"
       ]
      },
      {
       "javascript": [
        "$('div#3c82b7bc-6e0d-4a17-93ee-056dcee0da62').text(' 94%');"
       ],
       "metadata": {},
       "output_type": "display_data",
       "text": [
        "<IPython.core.display.Javascript at 0x1b707f28>"
       ]
      },
      {
       "javascript": [
        "\n",
        "        var $myPB = $(\"div#8cb3c7bc-2b54-4638-a130-ac7c09d5093f\")\n",
        "        if ($myPB.hasClass('ui-progressbar')) {\n",
        "            $myPB.progressbar('value', 920);\n",
        "        } else {\n",
        "            $myPB.progressbar({value: 0, max: 971});\n",
        "        }\n",
        "        "
       ],
       "metadata": {},
       "output_type": "display_data",
       "text": [
        "<IPython.core.display.Javascript at 0x1b707978>"
       ]
      },
      {
       "javascript": [
        "$('div#4f7fbcae-e5ba-4e7c-a28b-74b7af67a13e').text('ETA:  0:00:00');"
       ],
       "metadata": {},
       "output_type": "display_data",
       "text": [
        "<IPython.core.display.Javascript at 0x138825f8>"
       ]
      },
      {
       "javascript": [
        "$('div#55acee56-00bb-4bb8-a88c-a43d34e78e3d').text('930 of 971');"
       ],
       "metadata": {},
       "output_type": "display_data",
       "text": [
        "<IPython.core.display.Javascript at 0x1a7cc438>"
       ]
      },
      {
       "javascript": [
        "$('div#3c82b7bc-6e0d-4a17-93ee-056dcee0da62').text(' 95%');"
       ],
       "metadata": {},
       "output_type": "display_data",
       "text": [
        "<IPython.core.display.Javascript at 0x1a7cc5c0>"
       ]
      },
      {
       "javascript": [
        "\n",
        "        var $myPB = $(\"div#8cb3c7bc-2b54-4638-a130-ac7c09d5093f\")\n",
        "        if ($myPB.hasClass('ui-progressbar')) {\n",
        "            $myPB.progressbar('value', 930);\n",
        "        } else {\n",
        "            $myPB.progressbar({value: 0, max: 971});\n",
        "        }\n",
        "        "
       ],
       "metadata": {},
       "output_type": "display_data",
       "text": [
        "<IPython.core.display.Javascript at 0x1a7cc630>"
       ]
      },
      {
       "javascript": [
        "$('div#4f7fbcae-e5ba-4e7c-a28b-74b7af67a13e').text('ETA:  0:00:00');"
       ],
       "metadata": {},
       "output_type": "display_data",
       "text": [
        "<IPython.core.display.Javascript at 0x138825f8>"
       ]
      },
      {
       "javascript": [
        "$('div#55acee56-00bb-4bb8-a88c-a43d34e78e3d').text('940 of 971');"
       ],
       "metadata": {},
       "output_type": "display_data",
       "text": [
        "<IPython.core.display.Javascript at 0x1b1692b0>"
       ]
      },
      {
       "javascript": [
        "$('div#3c82b7bc-6e0d-4a17-93ee-056dcee0da62').text(' 96%');"
       ],
       "metadata": {},
       "output_type": "display_data",
       "text": [
        "<IPython.core.display.Javascript at 0x1b1698d0>"
       ]
      },
      {
       "javascript": [
        "\n",
        "        var $myPB = $(\"div#8cb3c7bc-2b54-4638-a130-ac7c09d5093f\")\n",
        "        if ($myPB.hasClass('ui-progressbar')) {\n",
        "            $myPB.progressbar('value', 940);\n",
        "        } else {\n",
        "            $myPB.progressbar({value: 0, max: 971});\n",
        "        }\n",
        "        "
       ],
       "metadata": {},
       "output_type": "display_data",
       "text": [
        "<IPython.core.display.Javascript at 0x1b169978>"
       ]
      },
      {
       "javascript": [
        "$('div#4f7fbcae-e5ba-4e7c-a28b-74b7af67a13e').text('ETA:  0:00:00');"
       ],
       "metadata": {},
       "output_type": "display_data",
       "text": [
        "<IPython.core.display.Javascript at 0x138825f8>"
       ]
      },
      {
       "javascript": [
        "$('div#55acee56-00bb-4bb8-a88c-a43d34e78e3d').text('950 of 971');"
       ],
       "metadata": {},
       "output_type": "display_data",
       "text": [
        "<IPython.core.display.Javascript at 0x145d8860>"
       ]
      },
      {
       "javascript": [
        "$('div#3c82b7bc-6e0d-4a17-93ee-056dcee0da62').text(' 97%');"
       ],
       "metadata": {},
       "output_type": "display_data",
       "text": [
        "<IPython.core.display.Javascript at 0x145d8d30>"
       ]
      },
      {
       "javascript": [
        "\n",
        "        var $myPB = $(\"div#8cb3c7bc-2b54-4638-a130-ac7c09d5093f\")\n",
        "        if ($myPB.hasClass('ui-progressbar')) {\n",
        "            $myPB.progressbar('value', 950);\n",
        "        } else {\n",
        "            $myPB.progressbar({value: 0, max: 971});\n",
        "        }\n",
        "        "
       ],
       "metadata": {},
       "output_type": "display_data",
       "text": [
        "<IPython.core.display.Javascript at 0x145d8550>"
       ]
      },
      {
       "javascript": [
        "$('div#4f7fbcae-e5ba-4e7c-a28b-74b7af67a13e').text('ETA:  0:00:00');"
       ],
       "metadata": {},
       "output_type": "display_data",
       "text": [
        "<IPython.core.display.Javascript at 0x138825f8>"
       ]
      },
      {
       "javascript": [
        "$('div#55acee56-00bb-4bb8-a88c-a43d34e78e3d').text('960 of 971');"
       ],
       "metadata": {},
       "output_type": "display_data",
       "text": [
        "<IPython.core.display.Javascript at 0x14a386a0>"
       ]
      },
      {
       "javascript": [
        "$('div#3c82b7bc-6e0d-4a17-93ee-056dcee0da62').text(' 98%');"
       ],
       "metadata": {},
       "output_type": "display_data",
       "text": [
        "<IPython.core.display.Javascript at 0x14a380b8>"
       ]
      },
      {
       "javascript": [
        "\n",
        "        var $myPB = $(\"div#8cb3c7bc-2b54-4638-a130-ac7c09d5093f\")\n",
        "        if ($myPB.hasClass('ui-progressbar')) {\n",
        "            $myPB.progressbar('value', 960);\n",
        "        } else {\n",
        "            $myPB.progressbar({value: 0, max: 971});\n",
        "        }\n",
        "        "
       ],
       "metadata": {},
       "output_type": "display_data",
       "text": [
        "<IPython.core.display.Javascript at 0x14a38588>"
       ]
      },
      {
       "javascript": [
        "$('div#4f7fbcae-e5ba-4e7c-a28b-74b7af67a13e').text('ETA:  0:00:00');"
       ],
       "metadata": {},
       "output_type": "display_data",
       "text": [
        "<IPython.core.display.Javascript at 0x14a38588>"
       ]
      },
      {
       "javascript": [
        "$('div#55acee56-00bb-4bb8-a88c-a43d34e78e3d').text('970 of 971');"
       ],
       "metadata": {},
       "output_type": "display_data",
       "text": [
        "<IPython.core.display.Javascript at 0x1b2c69e8>"
       ]
      },
      {
       "javascript": [
        "$('div#3c82b7bc-6e0d-4a17-93ee-056dcee0da62').text(' 99%');"
       ],
       "metadata": {},
       "output_type": "display_data",
       "text": [
        "<IPython.core.display.Javascript at 0x1b2c6278>"
       ]
      },
      {
       "javascript": [
        "\n",
        "        var $myPB = $(\"div#8cb3c7bc-2b54-4638-a130-ac7c09d5093f\")\n",
        "        if ($myPB.hasClass('ui-progressbar')) {\n",
        "            $myPB.progressbar('value', 970);\n",
        "        } else {\n",
        "            $myPB.progressbar({value: 0, max: 971});\n",
        "        }\n",
        "        "
       ],
       "metadata": {},
       "output_type": "display_data",
       "text": [
        "<IPython.core.display.Javascript at 0x1b2c6c18>"
       ]
      },
      {
       "javascript": [
        "$('div#4f7fbcae-e5ba-4e7c-a28b-74b7af67a13e').text('ETA:  0:00:00');"
       ],
       "metadata": {},
       "output_type": "display_data",
       "text": [
        "<IPython.core.display.Javascript at 0x14a38588>"
       ]
      },
      {
       "javascript": [
        "$('div#55acee56-00bb-4bb8-a88c-a43d34e78e3d').text('971 of 971');"
       ],
       "metadata": {},
       "output_type": "display_data",
       "text": [
        "<IPython.core.display.Javascript at 0x1c087cf8>"
       ]
      },
      {
       "javascript": [
        "$('div#3c82b7bc-6e0d-4a17-93ee-056dcee0da62').text('100%');"
       ],
       "metadata": {},
       "output_type": "display_data",
       "text": [
        "<IPython.core.display.Javascript at 0x1c0876d8>"
       ]
      },
      {
       "javascript": [
        "\n",
        "        var $myPB = $(\"div#8cb3c7bc-2b54-4638-a130-ac7c09d5093f\")\n",
        "        if ($myPB.hasClass('ui-progressbar')) {\n",
        "            $myPB.progressbar('value', 971);\n",
        "        } else {\n",
        "            $myPB.progressbar({value: 0, max: 971});\n",
        "        }\n",
        "        "
       ],
       "metadata": {},
       "output_type": "display_data",
       "text": [
        "<IPython.core.display.Javascript at 0x1c087eb8>"
       ]
      },
      {
       "javascript": [
        "$('div#4f7fbcae-e5ba-4e7c-a28b-74b7af67a13e').text('Time: 0:00:07');"
       ],
       "metadata": {},
       "output_type": "display_data",
       "text": [
        "<IPython.core.display.Javascript at 0x14a38588>"
       ]
      },
      {
       "javascript": [
        "var element = document.getElementById('ed4328a1-75c3-4400-bd15-3b1c26898c65');\n",
        "                    var parent = element.parentNode\n",
        "                    parent.removeChild(element);\n",
        "                    parent.parentElement.remove();"
       ],
       "metadata": {},
       "output_type": "display_data",
       "text": [
        "<IPython.core.display.Javascript at 0x16cba390>"
       ]
      },
      {
       "javascript": [
        "this.cleanProgressBar(['ed4328a1-75c3-4400-bd15-3b1c26898c65', '55acee56-00bb-4bb8-a88c-a43d34e78e3d', '3c82b7bc-6e0d-4a17-93ee-056dcee0da62', '8cb3c7bc-2b54-4638-a130-ac7c09d5093f', '4f7fbcae-e5ba-4e7c-a28b-74b7af67a13e'])"
       ],
       "metadata": {},
       "output_type": "display_data",
       "text": [
        "<IPython.core.display.Javascript at 0x1c087eb8>"
       ]
      }
     ],
     "prompt_number": 13
    },
    {
     "cell_type": "code",
     "collapsed": false,
     "input": [
      "[doc_links[doc]['incoming'] for doc in doc_links if len(doc_links[doc]['incoming'])>0][:5]"
     ],
     "language": "python",
     "metadata": {},
     "outputs": [
      {
       "metadata": {},
       "output_type": "pyout",
       "prompt_number": 14,
       "text": [
        "[['ECE/TRANS/139',\n",
        "  'TRANS/2002/1',\n",
        "  'TRANS/WP.29/841',\n",
        "  'TRANS/WP.29/841',\n",
        "  'TRANS/WP.29/841',\n",
        "  'TRANS/WP.29/841',\n",
        "  'TRANS/WP.29/841',\n",
        "  'TRANS/WP.29/841',\n",
        "  'TRANS/WP.29/841',\n",
        "  'TRANS/WP.29/841',\n",
        "  'TRANS/WP.29/885'],\n",
        " ['A/CN.9/WG.I/WP.38', 'A/CN.9/WG.I/WP.43', 'A/CN.9/595'],\n",
        " ['A/60/19',\n",
        "  'A/61/858',\n",
        "  'A/61/858',\n",
        "  'A/61/858',\n",
        "  'A/61/858',\n",
        "  'A/61/858',\n",
        "  'A/61/858',\n",
        "  'A/61/858',\n",
        "  'A/61/858',\n",
        "  'A/61/858',\n",
        "  'A/61/858',\n",
        "  'A/61/858',\n",
        "  'A/61/100/ADD.1',\n",
        "  'A/61/100/ADD.1',\n",
        "  'A/61/100/ADD.1'],\n",
        " ['A/63/746',\n",
        "  'A/63/746',\n",
        "  'JOURNAL NO.2005/95',\n",
        "  'JOURNAL NO.2005/95',\n",
        "  'JOURNAL NO.2005/83',\n",
        "  'JOURNAL NO.2005/83',\n",
        "  'JOURNAL NO.2005/83',\n",
        "  'JOURNAL NO.2005/83',\n",
        "  'JOURNAL NO.2005/83',\n",
        "  'JOURNAL NO.2005/83',\n",
        "  'JOURNAL NO.2005/83',\n",
        "  'JOURNAL NO.2005/83',\n",
        "  'JOURNAL NO.2005/83',\n",
        "  'JOURNAL NO.2005/83',\n",
        "  'JOURNAL NO.2005/83',\n",
        "  'JOURNAL NO.2005/83',\n",
        "  'JOURNAL NO.2005/83',\n",
        "  'JOURNAL NO.2005/83',\n",
        "  'JOURNAL NO.2005/83',\n",
        "  'JOURNAL NO.2005/83',\n",
        "  'JOURNAL NO.2005/83',\n",
        "  'JOURNAL NO.2005/83',\n",
        "  'JOURNAL NO.2005/83',\n",
        "  'A/59/532/ADD.1',\n",
        "  'A/59/532/ADD.1',\n",
        "  'A/59/532/ADD.1',\n",
        "  'A/59/532/ADD.1',\n",
        "  'A/59/532/ADD.1',\n",
        "  'A/59/532/ADD.1',\n",
        "  'A/59/532/ADD.1',\n",
        "  'A/59/532/ADD.1',\n",
        "  'A/59/532/ADD.1',\n",
        "  'A/59/532/ADD.1',\n",
        "  'A/59/532/ADD.1',\n",
        "  'A/60/807',\n",
        "  'A/60/807',\n",
        "  'JOURNAL NO.2005/99',\n",
        "  'A/60/7/ADD.1-42',\n",
        "  'JOURNAL NO.2005/100'],\n",
        " ['A/58/323',\n",
        "  'E/CN.4/2005/135-E/2005/23(SUPP)',\n",
        "  'E/CN.4/2004/127(PARTI)-E/2004/23(PARTI)',\n",
        "  'E/CN.4/2004/127(PARTI)-E/2004/23(PARTI)',\n",
        "  'E/CN.4/2005/134(PARTI)-E/2005/23(PARTI)',\n",
        "  'E/CN.4/2004/127-E/2004/23(SUPP)',\n",
        "  'E/CN.4/2004/127-E/2004/23(SUPP)']]"
       ]
      }
     ],
     "prompt_number": 14
    },
    {
     "cell_type": "markdown",
     "metadata": {},
     "source": [
      "Calculate statistics"
     ]
    },
    {
     "cell_type": "code",
     "collapsed": false,
     "input": [
      "doc_ids=dict([(docs[doc]['id'],doc) for doc in docs])\n",
      "total_outgoing_count = dict(nltk.FreqDist([d for doc in doc_links for d in doc_links[doc]['outgoing'] if d in doc_ids]).items())\n",
      "total_incoming_count = dict(nltk.FreqDist([d for doc in doc_links for d in doc_links[doc]['incoming'] if d in doc_ids]).items())\n",
      "total_outgoing_unique_count = dict(nltk.FreqDist([d for doc in doc_links for d in set(doc_links[doc]['outgoing']) if d in doc_ids]).items())\n",
      "total_incoming_unique_count = dict(nltk.FreqDist([d for doc in doc_links for d in set(doc_links[doc]['incoming']) if d in doc_ids]).items())\n"
     ],
     "language": "python",
     "metadata": {},
     "outputs": [],
     "prompt_number": 15
    },
    {
     "cell_type": "code",
     "collapsed": false,
     "input": [
      "link_list = sorted([(doc_ids[id], id, docs[doc_ids[id]]['year'],\n",
      "              total_outgoing_count[id] if id in total_outgoing_count else 0,\n",
      "              total_incoming_count[id] if id in total_incoming_count else 0, \n",
      "              total_outgoing_unique_count[id] if id in total_outgoing_unique_count else 0,\n",
      "              total_incoming_unique_count[id] if id in total_incoming_unique_count else 0) \n",
      "                    for id in doc_ids]\n",
      "                ,key=lambda (doc, id, year, toc, tic, touc, tiuc): touc+tiuc, reverse=True)\n",
      "link_list[:10]"
     ],
     "language": "python",
     "metadata": {},
     "outputs": [
      {
       "metadata": {},
       "output_type": "pyout",
       "prompt_number": 16,
       "text": [
        "[('A_57_387-en.xml', 'A/57/387', 'TOP_1000', 82, 2, 47, 2),\n",
        " ('A_56_17-en.xml', 'A/56/17', 'TOP_1000', 47, 27, 39, 7),\n",
        " ('A_58_16-en.xml', 'A/58/16', 'TOP_1000', 50, 11, 27, 6),\n",
        " ('A_61_10-en.xml', 'A/61/10', 'TOP_1000', 82, 24, 18, 11),\n",
        " ('A_59_388-en.xml', 'A/59/388', 'TOP_1000', 30, 1, 27, 1),\n",
        " ('A_57_16-en.xml', 'A/57/16', 'TOP_1000', 35, 5, 24, 4),\n",
        " ('TRANS_WP30_200-en.xml', 'TRANS/WP.30/200', 'TOP_1000', 56, 41, 21, 7),\n",
        " ('A_56_767-en.xml', 'A/56/767', 'TOP_1000', 30, 0, 27, 0),\n",
        " ('A_58_189-en.xml', 'A/58/189', 'TOP_1000', 31, 0, 27, 0),\n",
        " ('TRANS_WP30_204-en.xml', 'TRANS/WP.30/204', 'TOP_1000', 70, 33, 18, 8)]"
       ]
      }
     ],
     "prompt_number": 16
    },
    {
     "cell_type": "code",
     "collapsed": false,
     "input": [
      "import zipfile, json\n",
      "try:\n",
      "    import zlib\n",
      "    compression = zipfile.ZIP_DEFLATED\n",
      "except:\n",
      "    compression = zipfile.ZIP_STORED\n",
      "import os\n",
      "\n",
      "if not os.path.isfile('data.zip'):\n",
      "    ZIP = zipfile.ZipFile('data.zip', 'w', compression=zipfile.ZIP_DEFLATED)\n",
      "    ZIP.close()\n",
      "    \n",
      "ZIP = zipfile.ZipFile('data.zip', 'a', compression=zipfile.ZIP_DEFLATED)"
     ],
     "language": "python",
     "metadata": {},
     "outputs": [],
     "prompt_number": 17
    },
    {
     "cell_type": "markdown",
     "metadata": {},
     "source": [
      "Save link statistics to a file"
     ]
    },
    {
     "cell_type": "code",
     "collapsed": false,
     "input": [
      "link_list_text = 'document, id, folder,total_out_count,total_in_count, total_out_unique_count, total_in_unique_count\\n%s' % \\\n",
      "            \"\\n\".join(['\"%s\",\"%s\",\"%s\",%d,%d,%d,%d'%(v1,v2,v3,v4,v5,v6,v7) \n",
      "                       for (v1,v2,v3,v4,v5,v6,v7)  in link_list ])\n",
      "ZIP.writestr('link_list_%s.csv'%folder, link_list_text)"
     ],
     "language": "python",
     "metadata": {},
     "outputs": [],
     "prompt_number": 18
    },
    {
     "cell_type": "markdown",
     "metadata": {},
     "source": [
      "Save pairs for network charts"
     ]
    },
    {
     "cell_type": "code",
     "collapsed": false,
     "input": [
      "outgoing_pairs = [(id,k,v ) for id in doc_ids for (k,v) in nltk.FreqDist(doc_links[doc_ids[id]]['outgoing']).items()]\n",
      "outgoing_text = 'source, target, value\\n%s'%'\\n'.join(['\"%s\",\"%s\",%d'%(s,t,v) for (s,t,v) in outgoing_pairs])\n",
      "\n",
      "ZIP.writestr('link_pairs_%s.csv'%folder, outgoing_text)"
     ],
     "language": "python",
     "metadata": {},
     "outputs": [],
     "prompt_number": 19
    },
    {
     "cell_type": "code",
     "collapsed": false,
     "input": [
      "ZIP.close()"
     ],
     "language": "python",
     "metadata": {},
     "outputs": [],
     "prompt_number": 20
    }
   ],
   "metadata": {}
  }
 ]
}