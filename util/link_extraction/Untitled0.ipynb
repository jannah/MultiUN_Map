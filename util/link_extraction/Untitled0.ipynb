{
 "metadata": {
  "name": "",
  "signature": "sha256:4fedf78e17010026e17f43c429d7b83ed7ef8bdce725b43244fe98329863f22a"
 },
 "nbformat": 3,
 "nbformat_minor": 0,
 "worksheets": [
  {
   "cells": [
    {
     "cell_type": "code",
     "collapsed": false,
     "input": [
      "MODULES_PATH = '''../../modules/mun_test.py'''\n",
      "import imp\n",
      "NF = imp.load_source('mun_test', MODULES_PATH)\n",
      "import mun_test as mun\n",
      "print mun.PATH_TO_XML_FILES"
     ],
     "language": "python",
     "metadata": {},
     "outputs": [
      {
       "output_type": "stream",
       "stream": "stdout",
       "text": [
        "this is test\n",
        "C:\\Users\\Hassan\\Dropbox\\Berkeley\\iSchool\\CURRENT Courses\\INFO 256 - Applied Natural Language Processing\\Projects\\MultiUN_Map\\data\\multiUN.en\\un\\xml\\en\n"
       ]
      }
     ],
     "prompt_number": 13
    }
   ],
   "metadata": {}
  }
 ]
}