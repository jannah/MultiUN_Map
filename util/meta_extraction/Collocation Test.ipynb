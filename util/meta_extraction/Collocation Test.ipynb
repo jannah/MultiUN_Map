{
 "metadata": {
  "name": "",
  "signature": "sha256:072c5a161425329f525a0ced31f2680564d667fe62206d659506bfe1ac32ccde"
 },
 "nbformat": 3,
 "nbformat_minor": 0,
 "worksheets": [
  {
   "cells": [
    {
     "cell_type": "code",
     "collapsed": false,
     "input": [
      "MODULES_PATH = '''../../modules/multi_un_module.py'''\n",
      "import imp\n",
      "NF = imp.load_source('multi_un_module', MODULES_PATH)\n",
      "import multi_un_module as mun"
     ],
     "language": "python",
     "metadata": {},
     "outputs": [],
     "prompt_number": 1
    },
    {
     "cell_type": "code",
     "collapsed": false,
     "input": [
      "doc = mun.get_document(doc_id='E/CN.4/2001/66', include_content=True)\n",
      "# doc"
     ],
     "language": "python",
     "metadata": {},
     "outputs": [],
     "prompt_number": 11
    },
    {
     "cell_type": "code",
     "collapsed": false,
     "input": [
      "sentences = mun.extract_sentences(doc)\n",
      "sentences[:10]"
     ],
     "language": "python",
     "metadata": {},
     "outputs": [
      {
       "output_type": "stream",
       "stream": "stdout",
       "text": [
        "flattening\n"
       ]
      },
      {
       "metadata": {},
       "output_type": "pyout",
       "prompt_number": 12,
       "text": [
        "['Sixty-first session',\n",
        " 'Agenda item 32',\n",
        " 'Report of the Special Committee to Investigate Israeli Practices Affecting the Human Rights of the Palestinian People and Other Arabs of the Occupied Territories',\n",
        " 'Report of the Special Political and Decolonization Committee (Fourth Committee)',\n",
        " 'Rapporteur: Ms. Rana Salayeva (Azerbaijan)',\n",
        " 'Introduction',\n",
        " 'At its 2nd plenary meeting, on 13 September 2006, the General Assembly, on the recommendation of the General Committee, decided to include in the agenda of its sixty-first session the item entitled \"Report of the Special Committee to Investigate Israeli Practices Affecting the Human Rights of the Palestinian People and Other Arabs of the Occupied Territories\" and to allocate it to the Special Political and Decolonization Committee (Fourth Committee).',\n",
        " 'The Fourth Committee considered the item at its 22nd to 27th meetings, from 6 to 9 and on 21 and 28 November 2006.',\n",
        " 'The Committee held a general debate on the item at its 22nd to 25th meetings and took action on the item at its 27th meeting (see A/C.4/61/SR.22-27).',\n",
        " 'For its consideration of the item, the Committee had before it the following documents:']"
       ]
      }
     ],
     "prompt_number": 12
    },
    {
     "cell_type": "code",
     "collapsed": false,
     "input": [
      "colloc = mun.get_collocations(sentences=sentences)"
     ],
     "language": "python",
     "metadata": {},
     "outputs": [
      {
       "javascript": [
        "//44366fcc-d262-4de1-9eaa-ba2faf11e508\n",
        "$(\"head\").append(\"<style> td.pb_widget {     width: auto; } td.pb_widget_fill {     width: 100%; } table.pb {     font-family: monospace;     border: 0;     margin: 0; } table.pb tr { border: 0; } table.pb td {     white-space: nowrap;     border: 0; } div.pb {     border: 1px solid #ddd;     border-radius: 3px; } div.pb_bar {     height: 1.5em; } </style>\")"
       ],
       "metadata": {},
       "output_type": "display_data",
       "text": [
        "<IPython.core.display.Javascript at 0x99d247f0>"
       ]
      },
      {
       "javascript": [
        "\n",
        "                  // 44366fcc-d262-4de1-9eaa-ba2faf11e508 -- used to remove this code blob in the end\n",
        "                  IPython.OutputArea.prototype.cleanProgressBar = function(uuids) {\n",
        "                      // filter by uuid-strings \n",
        "                      var myfilter = function(output) { \n",
        "                          var nuids = uuids.length;\n",
        "                          for (var i=0; i<nuids; i++) {\n",
        "                              if (output.hasOwnProperty('html')) {\n",
        "                                  if (output.html.indexOf(uuids[i]) != -1) {\n",
        "                                      return false;\n",
        "                                  }\n",
        "                              }\n",
        "                              if (output.hasOwnProperty('javascript')) {\n",
        "                                  if (output.javascript.indexOf(uuids[i]) != -1) {\n",
        "                                      return false;\n",
        "                                  }\n",
        "                              }\n",
        "                          }\n",
        "                          // keep all others\n",
        "                          return true;\n",
        "                      };\n",
        "\n",
        "                      // Filter the ouputs\n",
        "                      this.outputs = this.outputs.filter(myfilter);\n",
        "                };\n",
        "                "
       ],
       "metadata": {},
       "output_type": "display_data",
       "text": [
        "<IPython.core.display.Javascript at 0x902df2e8>"
       ]
      },
      {
       "html": [
        "<div class=\"pb\" id=\"44366fcc-d262-4de1-9eaa-ba2faf11e508\"><table class=\"pb ui-widget\"><tr>\n",
        "<td class=\"pb_widget\">Tokenizing sentences</td>\n",
        "<td class=\"pb_widget\"><div id=\"c9d7f753-d7e9-489d-a902-95ab0e6fcdfc\">0 of 318</div></td>\n",
        "<td class=\"pb_widget\"><div id=\"7333c525-af47-483e-95c3-351000021b4b\">  0%</div></td>\n",
        "<td class=\"pb_widget_fill\">\n",
        "        <div class=\"pb_bar\" id=\"e2951e64-dc7f-45c7-84ef-08996f42e706\"></div>\n",
        "        <script type=\"text/javascript\">\n",
        "            $(\"div#e2951e64-dc7f-45c7-84ef-08996f42e706\").progressbar({value: 0, max: 318});\n",
        "        </script>\n",
        "        </td>\n",
        "<td class=\"pb_widget\"><div id=\"f34d1b86-0894-459d-8d3d-3456a7e9a623\">ETA:  --:--:--</div></td>\n",
        "</tr></table><div>"
       ],
       "metadata": {},
       "output_type": "display_data",
       "text": [
        "<IPython.core.display.HTML at 0x99d24828>"
       ]
      },
      {
       "javascript": [
        "$('div#c9d7f753-d7e9-489d-a902-95ab0e6fcdfc').text('4 of 318');"
       ],
       "metadata": {},
       "output_type": "display_data",
       "text": [
        "<IPython.core.display.Javascript at 0x99d24a58>"
       ]
      },
      {
       "javascript": [
        "$('div#7333c525-af47-483e-95c3-351000021b4b').text('  1%');"
       ],
       "metadata": {},
       "output_type": "display_data",
       "text": [
        "<IPython.core.display.Javascript at 0x902df2e8>"
       ]
      },
      {
       "javascript": [
        "\n",
        "        var $myPB = $(\"div#e2951e64-dc7f-45c7-84ef-08996f42e706\")\n",
        "        if ($myPB.hasClass('ui-progressbar')) {\n",
        "            $myPB.progressbar('value', 4);\n",
        "        } else {\n",
        "            $myPB.progressbar({value: 0, max: 318});\n",
        "        }\n",
        "        "
       ],
       "metadata": {},
       "output_type": "display_data",
       "text": [
        "<IPython.core.display.Javascript at 0x99d24a58>"
       ]
      },
      {
       "javascript": [
        "$('div#f34d1b86-0894-459d-8d3d-3456a7e9a623').text('ETA:  0:00:00');"
       ],
       "metadata": {},
       "output_type": "display_data",
       "text": [
        "<IPython.core.display.Javascript at 0x99d24860>"
       ]
      },
      {
       "javascript": [
        "$('div#c9d7f753-d7e9-489d-a902-95ab0e6fcdfc').text('8 of 318');"
       ],
       "metadata": {},
       "output_type": "display_data",
       "text": [
        "<IPython.core.display.Javascript at 0x99d243c8>"
       ]
      },
      {
       "javascript": [
        "$('div#7333c525-af47-483e-95c3-351000021b4b').text('  2%');"
       ],
       "metadata": {},
       "output_type": "display_data",
       "text": [
        "<IPython.core.display.Javascript at 0x902df2e8>"
       ]
      },
      {
       "javascript": [
        "\n",
        "        var $myPB = $(\"div#e2951e64-dc7f-45c7-84ef-08996f42e706\")\n",
        "        if ($myPB.hasClass('ui-progressbar')) {\n",
        "            $myPB.progressbar('value', 8);\n",
        "        } else {\n",
        "            $myPB.progressbar({value: 0, max: 318});\n",
        "        }\n",
        "        "
       ],
       "metadata": {},
       "output_type": "display_data",
       "text": [
        "<IPython.core.display.Javascript at 0x99d243c8>"
       ]
      },
      {
       "javascript": [
        "$('div#f34d1b86-0894-459d-8d3d-3456a7e9a623').text('ETA:  0:00:00');"
       ],
       "metadata": {},
       "output_type": "display_data",
       "text": [
        "<IPython.core.display.Javascript at 0x99d24978>"
       ]
      },
      {
       "javascript": [
        "$('div#c9d7f753-d7e9-489d-a902-95ab0e6fcdfc').text('12 of 318');"
       ],
       "metadata": {},
       "output_type": "display_data",
       "text": [
        "<IPython.core.display.Javascript at 0x99d247f0>"
       ]
      },
      {
       "javascript": [
        "$('div#7333c525-af47-483e-95c3-351000021b4b').text('  3%');"
       ],
       "metadata": {},
       "output_type": "display_data",
       "text": [
        "<IPython.core.display.Javascript at 0x902df2e8>"
       ]
      },
      {
       "javascript": [
        "\n",
        "        var $myPB = $(\"div#e2951e64-dc7f-45c7-84ef-08996f42e706\")\n",
        "        if ($myPB.hasClass('ui-progressbar')) {\n",
        "            $myPB.progressbar('value', 12);\n",
        "        } else {\n",
        "            $myPB.progressbar({value: 0, max: 318});\n",
        "        }\n",
        "        "
       ],
       "metadata": {},
       "output_type": "display_data",
       "text": [
        "<IPython.core.display.Javascript at 0x99d247f0>"
       ]
      },
      {
       "javascript": [
        "$('div#f34d1b86-0894-459d-8d3d-3456a7e9a623').text('ETA:  0:00:00');"
       ],
       "metadata": {},
       "output_type": "display_data",
       "text": [
        "<IPython.core.display.Javascript at 0x99d24978>"
       ]
      },
      {
       "javascript": [
        "$('div#c9d7f753-d7e9-489d-a902-95ab0e6fcdfc').text('16 of 318');"
       ],
       "metadata": {},
       "output_type": "display_data",
       "text": [
        "<IPython.core.display.Javascript at 0x99d24a58>"
       ]
      },
      {
       "javascript": [
        "$('div#7333c525-af47-483e-95c3-351000021b4b').text('  5%');"
       ],
       "metadata": {},
       "output_type": "display_data",
       "text": [
        "<IPython.core.display.Javascript at 0x902df2e8>"
       ]
      },
      {
       "javascript": [
        "\n",
        "        var $myPB = $(\"div#e2951e64-dc7f-45c7-84ef-08996f42e706\")\n",
        "        if ($myPB.hasClass('ui-progressbar')) {\n",
        "            $myPB.progressbar('value', 16);\n",
        "        } else {\n",
        "            $myPB.progressbar({value: 0, max: 318});\n",
        "        }\n",
        "        "
       ],
       "metadata": {},
       "output_type": "display_data",
       "text": [
        "<IPython.core.display.Javascript at 0x99d24a58>"
       ]
      },
      {
       "javascript": [
        "$('div#f34d1b86-0894-459d-8d3d-3456a7e9a623').text('ETA:  0:00:00');"
       ],
       "metadata": {},
       "output_type": "display_data",
       "text": [
        "<IPython.core.display.Javascript at 0x99d24780>"
       ]
      },
      {
       "javascript": [
        "$('div#c9d7f753-d7e9-489d-a902-95ab0e6fcdfc').text('20 of 318');"
       ],
       "metadata": {},
       "output_type": "display_data",
       "text": [
        "<IPython.core.display.Javascript at 0x99d24828>"
       ]
      },
      {
       "javascript": [
        "$('div#7333c525-af47-483e-95c3-351000021b4b').text('  6%');"
       ],
       "metadata": {},
       "output_type": "display_data",
       "text": [
        "<IPython.core.display.Javascript at 0x902df2e8>"
       ]
      },
      {
       "javascript": [
        "\n",
        "        var $myPB = $(\"div#e2951e64-dc7f-45c7-84ef-08996f42e706\")\n",
        "        if ($myPB.hasClass('ui-progressbar')) {\n",
        "            $myPB.progressbar('value', 20);\n",
        "        } else {\n",
        "            $myPB.progressbar({value: 0, max: 318});\n",
        "        }\n",
        "        "
       ],
       "metadata": {},
       "output_type": "display_data",
       "text": [
        "<IPython.core.display.Javascript at 0x99d24828>"
       ]
      },
      {
       "javascript": [
        "$('div#f34d1b86-0894-459d-8d3d-3456a7e9a623').text('ETA:  0:00:00');"
       ],
       "metadata": {},
       "output_type": "display_data",
       "text": [
        "<IPython.core.display.Javascript at 0x99d24940>"
       ]
      },
      {
       "javascript": [
        "$('div#c9d7f753-d7e9-489d-a902-95ab0e6fcdfc').text('24 of 318');"
       ],
       "metadata": {},
       "output_type": "display_data",
       "text": [
        "<IPython.core.display.Javascript at 0x99d247f0>"
       ]
      },
      {
       "javascript": [
        "$('div#7333c525-af47-483e-95c3-351000021b4b').text('  7%');"
       ],
       "metadata": {},
       "output_type": "display_data",
       "text": [
        "<IPython.core.display.Javascript at 0x902df2e8>"
       ]
      },
      {
       "javascript": [
        "\n",
        "        var $myPB = $(\"div#e2951e64-dc7f-45c7-84ef-08996f42e706\")\n",
        "        if ($myPB.hasClass('ui-progressbar')) {\n",
        "            $myPB.progressbar('value', 24);\n",
        "        } else {\n",
        "            $myPB.progressbar({value: 0, max: 318});\n",
        "        }\n",
        "        "
       ],
       "metadata": {},
       "output_type": "display_data",
       "text": [
        "<IPython.core.display.Javascript at 0x99d247f0>"
       ]
      },
      {
       "javascript": [
        "$('div#f34d1b86-0894-459d-8d3d-3456a7e9a623').text('ETA:  0:00:00');"
       ],
       "metadata": {},
       "output_type": "display_data",
       "text": [
        "<IPython.core.display.Javascript at 0x99d243c8>"
       ]
      },
      {
       "javascript": [
        "$('div#c9d7f753-d7e9-489d-a902-95ab0e6fcdfc').text('28 of 318');"
       ],
       "metadata": {},
       "output_type": "display_data",
       "text": [
        "<IPython.core.display.Javascript at 0x99d24a58>"
       ]
      },
      {
       "javascript": [
        "$('div#7333c525-af47-483e-95c3-351000021b4b').text('  8%');"
       ],
       "metadata": {},
       "output_type": "display_data",
       "text": [
        "<IPython.core.display.Javascript at 0x902df2e8>"
       ]
      },
      {
       "javascript": [
        "\n",
        "        var $myPB = $(\"div#e2951e64-dc7f-45c7-84ef-08996f42e706\")\n",
        "        if ($myPB.hasClass('ui-progressbar')) {\n",
        "            $myPB.progressbar('value', 28);\n",
        "        } else {\n",
        "            $myPB.progressbar({value: 0, max: 318});\n",
        "        }\n",
        "        "
       ],
       "metadata": {},
       "output_type": "display_data",
       "text": [
        "<IPython.core.display.Javascript at 0x99d24a58>"
       ]
      },
      {
       "javascript": [
        "$('div#f34d1b86-0894-459d-8d3d-3456a7e9a623').text('ETA:  0:00:00');"
       ],
       "metadata": {},
       "output_type": "display_data",
       "text": [
        "<IPython.core.display.Javascript at 0x99d24978>"
       ]
      },
      {
       "javascript": [
        "$('div#c9d7f753-d7e9-489d-a902-95ab0e6fcdfc').text('32 of 318');"
       ],
       "metadata": {},
       "output_type": "display_data",
       "text": [
        "<IPython.core.display.Javascript at 0x99d24828>"
       ]
      },
      {
       "javascript": [
        "$('div#7333c525-af47-483e-95c3-351000021b4b').text(' 10%');"
       ],
       "metadata": {},
       "output_type": "display_data",
       "text": [
        "<IPython.core.display.Javascript at 0x902df2e8>"
       ]
      },
      {
       "javascript": [
        "\n",
        "        var $myPB = $(\"div#e2951e64-dc7f-45c7-84ef-08996f42e706\")\n",
        "        if ($myPB.hasClass('ui-progressbar')) {\n",
        "            $myPB.progressbar('value', 32);\n",
        "        } else {\n",
        "            $myPB.progressbar({value: 0, max: 318});\n",
        "        }\n",
        "        "
       ],
       "metadata": {},
       "output_type": "display_data",
       "text": [
        "<IPython.core.display.Javascript at 0x99d24828>"
       ]
      },
      {
       "javascript": [
        "$('div#f34d1b86-0894-459d-8d3d-3456a7e9a623').text('ETA:  0:00:00');"
       ],
       "metadata": {},
       "output_type": "display_data",
       "text": [
        "<IPython.core.display.Javascript at 0x99d24780>"
       ]
      },
      {
       "javascript": [
        "$('div#c9d7f753-d7e9-489d-a902-95ab0e6fcdfc').text('36 of 318');"
       ],
       "metadata": {},
       "output_type": "display_data",
       "text": [
        "<IPython.core.display.Javascript at 0x99d247f0>"
       ]
      },
      {
       "javascript": [
        "$('div#7333c525-af47-483e-95c3-351000021b4b').text(' 11%');"
       ],
       "metadata": {},
       "output_type": "display_data",
       "text": [
        "<IPython.core.display.Javascript at 0x99d24a58>"
       ]
      },
      {
       "javascript": [
        "\n",
        "        var $myPB = $(\"div#e2951e64-dc7f-45c7-84ef-08996f42e706\")\n",
        "        if ($myPB.hasClass('ui-progressbar')) {\n",
        "            $myPB.progressbar('value', 36);\n",
        "        } else {\n",
        "            $myPB.progressbar({value: 0, max: 318});\n",
        "        }\n",
        "        "
       ],
       "metadata": {},
       "output_type": "display_data",
       "text": [
        "<IPython.core.display.Javascript at 0x902df2e8>"
       ]
      },
      {
       "javascript": [
        "$('div#f34d1b86-0894-459d-8d3d-3456a7e9a623').text('ETA:  0:00:00');"
       ],
       "metadata": {},
       "output_type": "display_data",
       "text": [
        "<IPython.core.display.Javascript at 0x99d24940>"
       ]
      },
      {
       "javascript": [
        "$('div#c9d7f753-d7e9-489d-a902-95ab0e6fcdfc').text('40 of 318');"
       ],
       "metadata": {},
       "output_type": "display_data",
       "text": [
        "<IPython.core.display.Javascript at 0x99d243c8>"
       ]
      },
      {
       "javascript": [
        "$('div#7333c525-af47-483e-95c3-351000021b4b').text(' 12%');"
       ],
       "metadata": {},
       "output_type": "display_data",
       "text": [
        "<IPython.core.display.Javascript at 0x99d24780>"
       ]
      },
      {
       "javascript": [
        "\n",
        "        var $myPB = $(\"div#e2951e64-dc7f-45c7-84ef-08996f42e706\")\n",
        "        if ($myPB.hasClass('ui-progressbar')) {\n",
        "            $myPB.progressbar('value', 40);\n",
        "        } else {\n",
        "            $myPB.progressbar({value: 0, max: 318});\n",
        "        }\n",
        "        "
       ],
       "metadata": {},
       "output_type": "display_data",
       "text": [
        "<IPython.core.display.Javascript at 0x99d24780>"
       ]
      },
      {
       "javascript": [
        "$('div#f34d1b86-0894-459d-8d3d-3456a7e9a623').text('ETA:  0:00:00');"
       ],
       "metadata": {},
       "output_type": "display_data",
       "text": [
        "<IPython.core.display.Javascript at 0x99d24828>"
       ]
      },
      {
       "javascript": [
        "$('div#c9d7f753-d7e9-489d-a902-95ab0e6fcdfc').text('44 of 318');"
       ],
       "metadata": {},
       "output_type": "display_data",
       "text": [
        "<IPython.core.display.Javascript at 0x99d24908>"
       ]
      },
      {
       "javascript": [
        "$('div#7333c525-af47-483e-95c3-351000021b4b').text(' 13%');"
       ],
       "metadata": {},
       "output_type": "display_data",
       "text": [
        "<IPython.core.display.Javascript at 0x99d24860>"
       ]
      },
      {
       "javascript": [
        "\n",
        "        var $myPB = $(\"div#e2951e64-dc7f-45c7-84ef-08996f42e706\")\n",
        "        if ($myPB.hasClass('ui-progressbar')) {\n",
        "            $myPB.progressbar('value', 44);\n",
        "        } else {\n",
        "            $myPB.progressbar({value: 0, max: 318});\n",
        "        }\n",
        "        "
       ],
       "metadata": {},
       "output_type": "display_data",
       "text": [
        "<IPython.core.display.Javascript at 0x902df2e8>"
       ]
      },
      {
       "javascript": [
        "$('div#f34d1b86-0894-459d-8d3d-3456a7e9a623').text('ETA:  0:00:00');"
       ],
       "metadata": {},
       "output_type": "display_data",
       "text": [
        "<IPython.core.display.Javascript at 0x99d24860>"
       ]
      },
      {
       "javascript": [
        "$('div#c9d7f753-d7e9-489d-a902-95ab0e6fcdfc').text('48 of 318');"
       ],
       "metadata": {},
       "output_type": "display_data",
       "text": [
        "<IPython.core.display.Javascript at 0x99d241d0>"
       ]
      },
      {
       "javascript": [
        "$('div#7333c525-af47-483e-95c3-351000021b4b').text(' 15%');"
       ],
       "metadata": {},
       "output_type": "display_data",
       "text": [
        "<IPython.core.display.Javascript at 0x99d247f0>"
       ]
      },
      {
       "javascript": [
        "\n",
        "        var $myPB = $(\"div#e2951e64-dc7f-45c7-84ef-08996f42e706\")\n",
        "        if ($myPB.hasClass('ui-progressbar')) {\n",
        "            $myPB.progressbar('value', 48);\n",
        "        } else {\n",
        "            $myPB.progressbar({value: 0, max: 318});\n",
        "        }\n",
        "        "
       ],
       "metadata": {},
       "output_type": "display_data",
       "text": [
        "<IPython.core.display.Javascript at 0x99d247f0>"
       ]
      },
      {
       "javascript": [
        "$('div#f34d1b86-0894-459d-8d3d-3456a7e9a623').text('ETA:  0:00:00');"
       ],
       "metadata": {},
       "output_type": "display_data",
       "text": [
        "<IPython.core.display.Javascript at 0x99d24940>"
       ]
      },
      {
       "javascript": [
        "$('div#c9d7f753-d7e9-489d-a902-95ab0e6fcdfc').text('52 of 318');"
       ],
       "metadata": {},
       "output_type": "display_data",
       "text": [
        "<IPython.core.display.Javascript at 0x99d24828>"
       ]
      },
      {
       "javascript": [
        "$('div#7333c525-af47-483e-95c3-351000021b4b').text(' 16%');"
       ],
       "metadata": {},
       "output_type": "display_data",
       "text": [
        "<IPython.core.display.Javascript at 0x99d24978>"
       ]
      },
      {
       "javascript": [
        "\n",
        "        var $myPB = $(\"div#e2951e64-dc7f-45c7-84ef-08996f42e706\")\n",
        "        if ($myPB.hasClass('ui-progressbar')) {\n",
        "            $myPB.progressbar('value', 52);\n",
        "        } else {\n",
        "            $myPB.progressbar({value: 0, max: 318});\n",
        "        }\n",
        "        "
       ],
       "metadata": {},
       "output_type": "display_data",
       "text": [
        "<IPython.core.display.Javascript at 0x902df2e8>"
       ]
      },
      {
       "javascript": [
        "$('div#f34d1b86-0894-459d-8d3d-3456a7e9a623').text('ETA:  0:00:00');"
       ],
       "metadata": {},
       "output_type": "display_data",
       "text": [
        "<IPython.core.display.Javascript at 0x99d24978>"
       ]
      },
      {
       "javascript": [
        "$('div#c9d7f753-d7e9-489d-a902-95ab0e6fcdfc').text('56 of 318');"
       ],
       "metadata": {},
       "output_type": "display_data",
       "text": [
        "<IPython.core.display.Javascript at 0x99d24780>"
       ]
      },
      {
       "javascript": [
        "$('div#7333c525-af47-483e-95c3-351000021b4b').text(' 17%');"
       ],
       "metadata": {},
       "output_type": "display_data",
       "text": [
        "<IPython.core.display.Javascript at 0x99d243c8>"
       ]
      },
      {
       "javascript": [
        "\n",
        "        var $myPB = $(\"div#e2951e64-dc7f-45c7-84ef-08996f42e706\")\n",
        "        if ($myPB.hasClass('ui-progressbar')) {\n",
        "            $myPB.progressbar('value', 56);\n",
        "        } else {\n",
        "            $myPB.progressbar({value: 0, max: 318});\n",
        "        }\n",
        "        "
       ],
       "metadata": {},
       "output_type": "display_data",
       "text": [
        "<IPython.core.display.Javascript at 0x99d243c8>"
       ]
      },
      {
       "javascript": [
        "$('div#f34d1b86-0894-459d-8d3d-3456a7e9a623').text('ETA:  0:00:00');"
       ],
       "metadata": {},
       "output_type": "display_data",
       "text": [
        "<IPython.core.display.Javascript at 0x99d24860>"
       ]
      },
      {
       "javascript": [
        "$('div#c9d7f753-d7e9-489d-a902-95ab0e6fcdfc').text('60 of 318');"
       ],
       "metadata": {},
       "output_type": "display_data",
       "text": [
        "<IPython.core.display.Javascript at 0x99d24940>"
       ]
      },
      {
       "javascript": [
        "$('div#7333c525-af47-483e-95c3-351000021b4b').text(' 18%');"
       ],
       "metadata": {},
       "output_type": "display_data",
       "text": [
        "<IPython.core.display.Javascript at 0x99d24908>"
       ]
      },
      {
       "javascript": [
        "\n",
        "        var $myPB = $(\"div#e2951e64-dc7f-45c7-84ef-08996f42e706\")\n",
        "        if ($myPB.hasClass('ui-progressbar')) {\n",
        "            $myPB.progressbar('value', 60);\n",
        "        } else {\n",
        "            $myPB.progressbar({value: 0, max: 318});\n",
        "        }\n",
        "        "
       ],
       "metadata": {},
       "output_type": "display_data",
       "text": [
        "<IPython.core.display.Javascript at 0x902df2e8>"
       ]
      },
      {
       "javascript": [
        "$('div#f34d1b86-0894-459d-8d3d-3456a7e9a623').text('ETA:  0:00:00');"
       ],
       "metadata": {},
       "output_type": "display_data",
       "text": [
        "<IPython.core.display.Javascript at 0x99d24908>"
       ]
      },
      {
       "javascript": [
        "$('div#c9d7f753-d7e9-489d-a902-95ab0e6fcdfc').text('64 of 318');"
       ],
       "metadata": {},
       "output_type": "display_data",
       "text": [
        "<IPython.core.display.Javascript at 0x99d247f0>"
       ]
      },
      {
       "javascript": [
        "$('div#7333c525-af47-483e-95c3-351000021b4b').text(' 20%');"
       ],
       "metadata": {},
       "output_type": "display_data",
       "text": [
        "<IPython.core.display.Javascript at 0x99d241d0>"
       ]
      },
      {
       "javascript": [
        "\n",
        "        var $myPB = $(\"div#e2951e64-dc7f-45c7-84ef-08996f42e706\")\n",
        "        if ($myPB.hasClass('ui-progressbar')) {\n",
        "            $myPB.progressbar('value', 64);\n",
        "        } else {\n",
        "            $myPB.progressbar({value: 0, max: 318});\n",
        "        }\n",
        "        "
       ],
       "metadata": {},
       "output_type": "display_data",
       "text": [
        "<IPython.core.display.Javascript at 0x99d241d0>"
       ]
      },
      {
       "javascript": [
        "$('div#f34d1b86-0894-459d-8d3d-3456a7e9a623').text('ETA:  0:00:00');"
       ],
       "metadata": {},
       "output_type": "display_data",
       "text": [
        "<IPython.core.display.Javascript at 0x99d24978>"
       ]
      },
      {
       "javascript": [
        "$('div#c9d7f753-d7e9-489d-a902-95ab0e6fcdfc').text('68 of 318');"
       ],
       "metadata": {},
       "output_type": "display_data",
       "text": [
        "<IPython.core.display.Javascript at 0x99d24860>"
       ]
      },
      {
       "javascript": [
        "$('div#7333c525-af47-483e-95c3-351000021b4b').text(' 21%');"
       ],
       "metadata": {},
       "output_type": "display_data",
       "text": [
        "<IPython.core.display.Javascript at 0x99d24828>"
       ]
      },
      {
       "javascript": [
        "\n",
        "        var $myPB = $(\"div#e2951e64-dc7f-45c7-84ef-08996f42e706\")\n",
        "        if ($myPB.hasClass('ui-progressbar')) {\n",
        "            $myPB.progressbar('value', 68);\n",
        "        } else {\n",
        "            $myPB.progressbar({value: 0, max: 318});\n",
        "        }\n",
        "        "
       ],
       "metadata": {},
       "output_type": "display_data",
       "text": [
        "<IPython.core.display.Javascript at 0x902df2e8>"
       ]
      },
      {
       "javascript": [
        "$('div#f34d1b86-0894-459d-8d3d-3456a7e9a623').text('ETA:  0:00:00');"
       ],
       "metadata": {},
       "output_type": "display_data",
       "text": [
        "<IPython.core.display.Javascript at 0x99d24828>"
       ]
      },
      {
       "javascript": [
        "$('div#c9d7f753-d7e9-489d-a902-95ab0e6fcdfc').text('72 of 318');"
       ],
       "metadata": {},
       "output_type": "display_data",
       "text": [
        "<IPython.core.display.Javascript at 0x99d243c8>"
       ]
      },
      {
       "javascript": [
        "$('div#7333c525-af47-483e-95c3-351000021b4b').text(' 22%');"
       ],
       "metadata": {},
       "output_type": "display_data",
       "text": [
        "<IPython.core.display.Javascript at 0x99d24780>"
       ]
      },
      {
       "javascript": [
        "\n",
        "        var $myPB = $(\"div#e2951e64-dc7f-45c7-84ef-08996f42e706\")\n",
        "        if ($myPB.hasClass('ui-progressbar')) {\n",
        "            $myPB.progressbar('value', 72);\n",
        "        } else {\n",
        "            $myPB.progressbar({value: 0, max: 318});\n",
        "        }\n",
        "        "
       ],
       "metadata": {},
       "output_type": "display_data",
       "text": [
        "<IPython.core.display.Javascript at 0x99d24780>"
       ]
      },
      {
       "javascript": [
        "$('div#f34d1b86-0894-459d-8d3d-3456a7e9a623').text('ETA:  0:00:00');"
       ],
       "metadata": {},
       "output_type": "display_data",
       "text": [
        "<IPython.core.display.Javascript at 0x99d24908>"
       ]
      },
      {
       "javascript": [
        "$('div#c9d7f753-d7e9-489d-a902-95ab0e6fcdfc').text('76 of 318');"
       ],
       "metadata": {},
       "output_type": "display_data",
       "text": [
        "<IPython.core.display.Javascript at 0x99d24978>"
       ]
      },
      {
       "javascript": [
        "$('div#7333c525-af47-483e-95c3-351000021b4b').text(' 23%');"
       ],
       "metadata": {},
       "output_type": "display_data",
       "text": [
        "<IPython.core.display.Javascript at 0x99d24940>"
       ]
      },
      {
       "javascript": [
        "\n",
        "        var $myPB = $(\"div#e2951e64-dc7f-45c7-84ef-08996f42e706\")\n",
        "        if ($myPB.hasClass('ui-progressbar')) {\n",
        "            $myPB.progressbar('value', 76);\n",
        "        } else {\n",
        "            $myPB.progressbar({value: 0, max: 318});\n",
        "        }\n",
        "        "
       ],
       "metadata": {},
       "output_type": "display_data",
       "text": [
        "<IPython.core.display.Javascript at 0x902df2e8>"
       ]
      },
      {
       "javascript": [
        "$('div#f34d1b86-0894-459d-8d3d-3456a7e9a623').text('ETA:  0:00:00');"
       ],
       "metadata": {},
       "output_type": "display_data",
       "text": [
        "<IPython.core.display.Javascript at 0x99d24940>"
       ]
      },
      {
       "javascript": [
        "$('div#c9d7f753-d7e9-489d-a902-95ab0e6fcdfc').text('80 of 318');"
       ],
       "metadata": {},
       "output_type": "display_data",
       "text": [
        "<IPython.core.display.Javascript at 0x99d241d0>"
       ]
      },
      {
       "javascript": [
        "$('div#7333c525-af47-483e-95c3-351000021b4b').text(' 25%');"
       ],
       "metadata": {},
       "output_type": "display_data",
       "text": [
        "<IPython.core.display.Javascript at 0x99d247f0>"
       ]
      },
      {
       "javascript": [
        "\n",
        "        var $myPB = $(\"div#e2951e64-dc7f-45c7-84ef-08996f42e706\")\n",
        "        if ($myPB.hasClass('ui-progressbar')) {\n",
        "            $myPB.progressbar('value', 80);\n",
        "        } else {\n",
        "            $myPB.progressbar({value: 0, max: 318});\n",
        "        }\n",
        "        "
       ],
       "metadata": {},
       "output_type": "display_data",
       "text": [
        "<IPython.core.display.Javascript at 0x99d247f0>"
       ]
      },
      {
       "javascript": [
        "$('div#f34d1b86-0894-459d-8d3d-3456a7e9a623').text('ETA:  0:00:00');"
       ],
       "metadata": {},
       "output_type": "display_data",
       "text": [
        "<IPython.core.display.Javascript at 0x99d243c8>"
       ]
      },
      {
       "javascript": [
        "$('div#c9d7f753-d7e9-489d-a902-95ab0e6fcdfc').text('84 of 318');"
       ],
       "metadata": {},
       "output_type": "display_data",
       "text": [
        "<IPython.core.display.Javascript at 0x99d24978>"
       ]
      },
      {
       "javascript": [
        "$('div#7333c525-af47-483e-95c3-351000021b4b').text(' 26%');"
       ],
       "metadata": {},
       "output_type": "display_data",
       "text": [
        "<IPython.core.display.Javascript at 0x99d24860>"
       ]
      },
      {
       "javascript": [
        "\n",
        "        var $myPB = $(\"div#e2951e64-dc7f-45c7-84ef-08996f42e706\")\n",
        "        if ($myPB.hasClass('ui-progressbar')) {\n",
        "            $myPB.progressbar('value', 84);\n",
        "        } else {\n",
        "            $myPB.progressbar({value: 0, max: 318});\n",
        "        }\n",
        "        "
       ],
       "metadata": {},
       "output_type": "display_data",
       "text": [
        "<IPython.core.display.Javascript at 0x902df2e8>"
       ]
      },
      {
       "javascript": [
        "$('div#f34d1b86-0894-459d-8d3d-3456a7e9a623').text('ETA:  0:00:00');"
       ],
       "metadata": {},
       "output_type": "display_data",
       "text": [
        "<IPython.core.display.Javascript at 0x99d24860>"
       ]
      },
      {
       "javascript": [
        "$('div#c9d7f753-d7e9-489d-a902-95ab0e6fcdfc').text('88 of 318');"
       ],
       "metadata": {},
       "output_type": "display_data",
       "text": [
        "<IPython.core.display.Javascript at 0x99d24908>"
       ]
      },
      {
       "javascript": [
        "$('div#7333c525-af47-483e-95c3-351000021b4b').text(' 27%');"
       ],
       "metadata": {},
       "output_type": "display_data",
       "text": [
        "<IPython.core.display.Javascript at 0x99d24a58>"
       ]
      },
      {
       "javascript": [
        "\n",
        "        var $myPB = $(\"div#e2951e64-dc7f-45c7-84ef-08996f42e706\")\n",
        "        if ($myPB.hasClass('ui-progressbar')) {\n",
        "            $myPB.progressbar('value', 88);\n",
        "        } else {\n",
        "            $myPB.progressbar({value: 0, max: 318});\n",
        "        }\n",
        "        "
       ],
       "metadata": {},
       "output_type": "display_data",
       "text": [
        "<IPython.core.display.Javascript at 0x99d24a58>"
       ]
      },
      {
       "javascript": [
        "$('div#f34d1b86-0894-459d-8d3d-3456a7e9a623').text('ETA:  0:00:00');"
       ],
       "metadata": {},
       "output_type": "display_data",
       "text": [
        "<IPython.core.display.Javascript at 0x99d241d0>"
       ]
      },
      {
       "javascript": [
        "$('div#c9d7f753-d7e9-489d-a902-95ab0e6fcdfc').text('92 of 318');"
       ],
       "metadata": {},
       "output_type": "display_data",
       "text": [
        "<IPython.core.display.Javascript at 0x99d24978>"
       ]
      },
      {
       "javascript": [
        "$('div#7333c525-af47-483e-95c3-351000021b4b').text(' 28%');"
       ],
       "metadata": {},
       "output_type": "display_data",
       "text": [
        "<IPython.core.display.Javascript at 0x99d24828>"
       ]
      },
      {
       "javascript": [
        "\n",
        "        var $myPB = $(\"div#e2951e64-dc7f-45c7-84ef-08996f42e706\")\n",
        "        if ($myPB.hasClass('ui-progressbar')) {\n",
        "            $myPB.progressbar('value', 92);\n",
        "        } else {\n",
        "            $myPB.progressbar({value: 0, max: 318});\n",
        "        }\n",
        "        "
       ],
       "metadata": {},
       "output_type": "display_data",
       "text": [
        "<IPython.core.display.Javascript at 0x902df2e8>"
       ]
      },
      {
       "javascript": [
        "$('div#f34d1b86-0894-459d-8d3d-3456a7e9a623').text('ETA:  0:00:00');"
       ],
       "metadata": {},
       "output_type": "display_data",
       "text": [
        "<IPython.core.display.Javascript at 0x99d24828>"
       ]
      },
      {
       "javascript": [
        "$('div#c9d7f753-d7e9-489d-a902-95ab0e6fcdfc').text('96 of 318');"
       ],
       "metadata": {},
       "output_type": "display_data",
       "text": [
        "<IPython.core.display.Javascript at 0x99d243c8>"
       ]
      },
      {
       "javascript": [
        "$('div#7333c525-af47-483e-95c3-351000021b4b').text(' 30%');"
       ],
       "metadata": {},
       "output_type": "display_data",
       "text": [
        "<IPython.core.display.Javascript at 0x99d24780>"
       ]
      },
      {
       "javascript": [
        "\n",
        "        var $myPB = $(\"div#e2951e64-dc7f-45c7-84ef-08996f42e706\")\n",
        "        if ($myPB.hasClass('ui-progressbar')) {\n",
        "            $myPB.progressbar('value', 96);\n",
        "        } else {\n",
        "            $myPB.progressbar({value: 0, max: 318});\n",
        "        }\n",
        "        "
       ],
       "metadata": {},
       "output_type": "display_data",
       "text": [
        "<IPython.core.display.Javascript at 0x99d24780>"
       ]
      },
      {
       "javascript": [
        "$('div#f34d1b86-0894-459d-8d3d-3456a7e9a623').text('ETA:  0:00:00');"
       ],
       "metadata": {},
       "output_type": "display_data",
       "text": [
        "<IPython.core.display.Javascript at 0x99d24908>"
       ]
      },
      {
       "javascript": [
        "$('div#c9d7f753-d7e9-489d-a902-95ab0e6fcdfc').text('100 of 318');"
       ],
       "metadata": {},
       "output_type": "display_data",
       "text": [
        "<IPython.core.display.Javascript at 0x99d24978>"
       ]
      },
      {
       "javascript": [
        "$('div#7333c525-af47-483e-95c3-351000021b4b').text(' 31%');"
       ],
       "metadata": {},
       "output_type": "display_data",
       "text": [
        "<IPython.core.display.Javascript at 0x99d24940>"
       ]
      },
      {
       "javascript": [
        "\n",
        "        var $myPB = $(\"div#e2951e64-dc7f-45c7-84ef-08996f42e706\")\n",
        "        if ($myPB.hasClass('ui-progressbar')) {\n",
        "            $myPB.progressbar('value', 100);\n",
        "        } else {\n",
        "            $myPB.progressbar({value: 0, max: 318});\n",
        "        }\n",
        "        "
       ],
       "metadata": {},
       "output_type": "display_data",
       "text": [
        "<IPython.core.display.Javascript at 0x902df2e8>"
       ]
      },
      {
       "javascript": [
        "$('div#f34d1b86-0894-459d-8d3d-3456a7e9a623').text('ETA:  0:00:00');"
       ],
       "metadata": {},
       "output_type": "display_data",
       "text": [
        "<IPython.core.display.Javascript at 0x99d24940>"
       ]
      },
      {
       "javascript": [
        "$('div#c9d7f753-d7e9-489d-a902-95ab0e6fcdfc').text('104 of 318');"
       ],
       "metadata": {},
       "output_type": "display_data",
       "text": [
        "<IPython.core.display.Javascript at 0x99d241d0>"
       ]
      },
      {
       "javascript": [
        "$('div#7333c525-af47-483e-95c3-351000021b4b').text(' 32%');"
       ],
       "metadata": {},
       "output_type": "display_data",
       "text": [
        "<IPython.core.display.Javascript at 0x99d247f0>"
       ]
      },
      {
       "javascript": [
        "\n",
        "        var $myPB = $(\"div#e2951e64-dc7f-45c7-84ef-08996f42e706\")\n",
        "        if ($myPB.hasClass('ui-progressbar')) {\n",
        "            $myPB.progressbar('value', 104);\n",
        "        } else {\n",
        "            $myPB.progressbar({value: 0, max: 318});\n",
        "        }\n",
        "        "
       ],
       "metadata": {},
       "output_type": "display_data",
       "text": [
        "<IPython.core.display.Javascript at 0x99d247f0>"
       ]
      },
      {
       "javascript": [
        "$('div#f34d1b86-0894-459d-8d3d-3456a7e9a623').text('ETA:  0:00:00');"
       ],
       "metadata": {},
       "output_type": "display_data",
       "text": [
        "<IPython.core.display.Javascript at 0x99d243c8>"
       ]
      },
      {
       "javascript": [
        "$('div#c9d7f753-d7e9-489d-a902-95ab0e6fcdfc').text('108 of 318');"
       ],
       "metadata": {},
       "output_type": "display_data",
       "text": [
        "<IPython.core.display.Javascript at 0x99d24978>"
       ]
      },
      {
       "javascript": [
        "$('div#7333c525-af47-483e-95c3-351000021b4b').text(' 33%');"
       ],
       "metadata": {},
       "output_type": "display_data",
       "text": [
        "<IPython.core.display.Javascript at 0x99d24860>"
       ]
      },
      {
       "javascript": [
        "\n",
        "        var $myPB = $(\"div#e2951e64-dc7f-45c7-84ef-08996f42e706\")\n",
        "        if ($myPB.hasClass('ui-progressbar')) {\n",
        "            $myPB.progressbar('value', 108);\n",
        "        } else {\n",
        "            $myPB.progressbar({value: 0, max: 318});\n",
        "        }\n",
        "        "
       ],
       "metadata": {},
       "output_type": "display_data",
       "text": [
        "<IPython.core.display.Javascript at 0x902df2e8>"
       ]
      },
      {
       "javascript": [
        "$('div#f34d1b86-0894-459d-8d3d-3456a7e9a623').text('ETA:  0:00:00');"
       ],
       "metadata": {},
       "output_type": "display_data",
       "text": [
        "<IPython.core.display.Javascript at 0x99d24860>"
       ]
      },
      {
       "javascript": [
        "$('div#c9d7f753-d7e9-489d-a902-95ab0e6fcdfc').text('112 of 318');"
       ],
       "metadata": {},
       "output_type": "display_data",
       "text": [
        "<IPython.core.display.Javascript at 0x99d24908>"
       ]
      },
      {
       "javascript": [
        "$('div#7333c525-af47-483e-95c3-351000021b4b').text(' 35%');"
       ],
       "metadata": {},
       "output_type": "display_data",
       "text": [
        "<IPython.core.display.Javascript at 0x99d24a58>"
       ]
      },
      {
       "javascript": [
        "\n",
        "        var $myPB = $(\"div#e2951e64-dc7f-45c7-84ef-08996f42e706\")\n",
        "        if ($myPB.hasClass('ui-progressbar')) {\n",
        "            $myPB.progressbar('value', 112);\n",
        "        } else {\n",
        "            $myPB.progressbar({value: 0, max: 318});\n",
        "        }\n",
        "        "
       ],
       "metadata": {},
       "output_type": "display_data",
       "text": [
        "<IPython.core.display.Javascript at 0x99d24a58>"
       ]
      },
      {
       "javascript": [
        "$('div#f34d1b86-0894-459d-8d3d-3456a7e9a623').text('ETA:  0:00:00');"
       ],
       "metadata": {},
       "output_type": "display_data",
       "text": [
        "<IPython.core.display.Javascript at 0x99d241d0>"
       ]
      },
      {
       "javascript": [
        "$('div#c9d7f753-d7e9-489d-a902-95ab0e6fcdfc').text('116 of 318');"
       ],
       "metadata": {},
       "output_type": "display_data",
       "text": [
        "<IPython.core.display.Javascript at 0x99d24978>"
       ]
      },
      {
       "javascript": [
        "$('div#7333c525-af47-483e-95c3-351000021b4b').text(' 36%');"
       ],
       "metadata": {},
       "output_type": "display_data",
       "text": [
        "<IPython.core.display.Javascript at 0x99d24828>"
       ]
      },
      {
       "javascript": [
        "\n",
        "        var $myPB = $(\"div#e2951e64-dc7f-45c7-84ef-08996f42e706\")\n",
        "        if ($myPB.hasClass('ui-progressbar')) {\n",
        "            $myPB.progressbar('value', 116);\n",
        "        } else {\n",
        "            $myPB.progressbar({value: 0, max: 318});\n",
        "        }\n",
        "        "
       ],
       "metadata": {},
       "output_type": "display_data",
       "text": [
        "<IPython.core.display.Javascript at 0x902df2e8>"
       ]
      },
      {
       "javascript": [
        "$('div#f34d1b86-0894-459d-8d3d-3456a7e9a623').text('ETA:  0:00:00');"
       ],
       "metadata": {},
       "output_type": "display_data",
       "text": [
        "<IPython.core.display.Javascript at 0x99d24828>"
       ]
      },
      {
       "javascript": [
        "$('div#c9d7f753-d7e9-489d-a902-95ab0e6fcdfc').text('120 of 318');"
       ],
       "metadata": {},
       "output_type": "display_data",
       "text": [
        "<IPython.core.display.Javascript at 0x99d243c8>"
       ]
      },
      {
       "javascript": [
        "$('div#7333c525-af47-483e-95c3-351000021b4b').text(' 37%');"
       ],
       "metadata": {},
       "output_type": "display_data",
       "text": [
        "<IPython.core.display.Javascript at 0x99d24780>"
       ]
      },
      {
       "javascript": [
        "\n",
        "        var $myPB = $(\"div#e2951e64-dc7f-45c7-84ef-08996f42e706\")\n",
        "        if ($myPB.hasClass('ui-progressbar')) {\n",
        "            $myPB.progressbar('value', 120);\n",
        "        } else {\n",
        "            $myPB.progressbar({value: 0, max: 318});\n",
        "        }\n",
        "        "
       ],
       "metadata": {},
       "output_type": "display_data",
       "text": [
        "<IPython.core.display.Javascript at 0x99d24780>"
       ]
      },
      {
       "javascript": [
        "$('div#f34d1b86-0894-459d-8d3d-3456a7e9a623').text('ETA:  0:00:00');"
       ],
       "metadata": {},
       "output_type": "display_data",
       "text": [
        "<IPython.core.display.Javascript at 0x99d24908>"
       ]
      },
      {
       "javascript": [
        "$('div#c9d7f753-d7e9-489d-a902-95ab0e6fcdfc').text('124 of 318');"
       ],
       "metadata": {},
       "output_type": "display_data",
       "text": [
        "<IPython.core.display.Javascript at 0x99d24978>"
       ]
      },
      {
       "javascript": [
        "$('div#7333c525-af47-483e-95c3-351000021b4b').text(' 38%');"
       ],
       "metadata": {},
       "output_type": "display_data",
       "text": [
        "<IPython.core.display.Javascript at 0x99d24940>"
       ]
      },
      {
       "javascript": [
        "\n",
        "        var $myPB = $(\"div#e2951e64-dc7f-45c7-84ef-08996f42e706\")\n",
        "        if ($myPB.hasClass('ui-progressbar')) {\n",
        "            $myPB.progressbar('value', 124);\n",
        "        } else {\n",
        "            $myPB.progressbar({value: 0, max: 318});\n",
        "        }\n",
        "        "
       ],
       "metadata": {},
       "output_type": "display_data",
       "text": [
        "<IPython.core.display.Javascript at 0x902df2e8>"
       ]
      },
      {
       "javascript": [
        "$('div#f34d1b86-0894-459d-8d3d-3456a7e9a623').text('ETA:  0:00:00');"
       ],
       "metadata": {},
       "output_type": "display_data",
       "text": [
        "<IPython.core.display.Javascript at 0x99d24940>"
       ]
      },
      {
       "javascript": [
        "$('div#c9d7f753-d7e9-489d-a902-95ab0e6fcdfc').text('128 of 318');"
       ],
       "metadata": {},
       "output_type": "display_data",
       "text": [
        "<IPython.core.display.Javascript at 0x99d241d0>"
       ]
      },
      {
       "javascript": [
        "$('div#7333c525-af47-483e-95c3-351000021b4b').text(' 40%');"
       ],
       "metadata": {},
       "output_type": "display_data",
       "text": [
        "<IPython.core.display.Javascript at 0x99d247f0>"
       ]
      },
      {
       "javascript": [
        "\n",
        "        var $myPB = $(\"div#e2951e64-dc7f-45c7-84ef-08996f42e706\")\n",
        "        if ($myPB.hasClass('ui-progressbar')) {\n",
        "            $myPB.progressbar('value', 128);\n",
        "        } else {\n",
        "            $myPB.progressbar({value: 0, max: 318});\n",
        "        }\n",
        "        "
       ],
       "metadata": {},
       "output_type": "display_data",
       "text": [
        "<IPython.core.display.Javascript at 0x99d247f0>"
       ]
      },
      {
       "javascript": [
        "$('div#f34d1b86-0894-459d-8d3d-3456a7e9a623').text('ETA:  0:00:00');"
       ],
       "metadata": {},
       "output_type": "display_data",
       "text": [
        "<IPython.core.display.Javascript at 0x99d243c8>"
       ]
      },
      {
       "javascript": [
        "$('div#c9d7f753-d7e9-489d-a902-95ab0e6fcdfc').text('132 of 318');"
       ],
       "metadata": {},
       "output_type": "display_data",
       "text": [
        "<IPython.core.display.Javascript at 0x99d24978>"
       ]
      },
      {
       "javascript": [
        "$('div#7333c525-af47-483e-95c3-351000021b4b').text(' 41%');"
       ],
       "metadata": {},
       "output_type": "display_data",
       "text": [
        "<IPython.core.display.Javascript at 0x99d24860>"
       ]
      },
      {
       "javascript": [
        "\n",
        "        var $myPB = $(\"div#e2951e64-dc7f-45c7-84ef-08996f42e706\")\n",
        "        if ($myPB.hasClass('ui-progressbar')) {\n",
        "            $myPB.progressbar('value', 132);\n",
        "        } else {\n",
        "            $myPB.progressbar({value: 0, max: 318});\n",
        "        }\n",
        "        "
       ],
       "metadata": {},
       "output_type": "display_data",
       "text": [
        "<IPython.core.display.Javascript at 0x902df2e8>"
       ]
      },
      {
       "javascript": [
        "$('div#f34d1b86-0894-459d-8d3d-3456a7e9a623').text('ETA:  0:00:00');"
       ],
       "metadata": {},
       "output_type": "display_data",
       "text": [
        "<IPython.core.display.Javascript at 0x99d24860>"
       ]
      },
      {
       "javascript": [
        "$('div#c9d7f753-d7e9-489d-a902-95ab0e6fcdfc').text('136 of 318');"
       ],
       "metadata": {},
       "output_type": "display_data",
       "text": [
        "<IPython.core.display.Javascript at 0x99d24908>"
       ]
      },
      {
       "javascript": [
        "$('div#7333c525-af47-483e-95c3-351000021b4b').text(' 42%');"
       ],
       "metadata": {},
       "output_type": "display_data",
       "text": [
        "<IPython.core.display.Javascript at 0x99d24a58>"
       ]
      },
      {
       "javascript": [
        "\n",
        "        var $myPB = $(\"div#e2951e64-dc7f-45c7-84ef-08996f42e706\")\n",
        "        if ($myPB.hasClass('ui-progressbar')) {\n",
        "            $myPB.progressbar('value', 136);\n",
        "        } else {\n",
        "            $myPB.progressbar({value: 0, max: 318});\n",
        "        }\n",
        "        "
       ],
       "metadata": {},
       "output_type": "display_data",
       "text": [
        "<IPython.core.display.Javascript at 0x99d24a58>"
       ]
      },
      {
       "javascript": [
        "$('div#f34d1b86-0894-459d-8d3d-3456a7e9a623').text('ETA:  0:00:00');"
       ],
       "metadata": {},
       "output_type": "display_data",
       "text": [
        "<IPython.core.display.Javascript at 0x99d241d0>"
       ]
      },
      {
       "javascript": [
        "$('div#c9d7f753-d7e9-489d-a902-95ab0e6fcdfc').text('140 of 318');"
       ],
       "metadata": {},
       "output_type": "display_data",
       "text": [
        "<IPython.core.display.Javascript at 0x99d24828>"
       ]
      },
      {
       "javascript": [
        "$('div#7333c525-af47-483e-95c3-351000021b4b').text(' 44%');"
       ],
       "metadata": {},
       "output_type": "display_data",
       "text": [
        "<IPython.core.display.Javascript at 0x99d243c8>"
       ]
      },
      {
       "javascript": [
        "\n",
        "        var $myPB = $(\"div#e2951e64-dc7f-45c7-84ef-08996f42e706\")\n",
        "        if ($myPB.hasClass('ui-progressbar')) {\n",
        "            $myPB.progressbar('value', 140);\n",
        "        } else {\n",
        "            $myPB.progressbar({value: 0, max: 318});\n",
        "        }\n",
        "        "
       ],
       "metadata": {},
       "output_type": "display_data",
       "text": [
        "<IPython.core.display.Javascript at 0x902df2e8>"
       ]
      },
      {
       "javascript": [
        "$('div#f34d1b86-0894-459d-8d3d-3456a7e9a623').text('ETA:  0:00:00');"
       ],
       "metadata": {},
       "output_type": "display_data",
       "text": [
        "<IPython.core.display.Javascript at 0x99d243c8>"
       ]
      },
      {
       "javascript": [
        "$('div#c9d7f753-d7e9-489d-a902-95ab0e6fcdfc').text('144 of 318');"
       ],
       "metadata": {},
       "output_type": "display_data",
       "text": [
        "<IPython.core.display.Javascript at 0x99d24780>"
       ]
      },
      {
       "javascript": [
        "$('div#7333c525-af47-483e-95c3-351000021b4b').text(' 45%');"
       ],
       "metadata": {},
       "output_type": "display_data",
       "text": [
        "<IPython.core.display.Javascript at 0x99d24940>"
       ]
      },
      {
       "javascript": [
        "\n",
        "        var $myPB = $(\"div#e2951e64-dc7f-45c7-84ef-08996f42e706\")\n",
        "        if ($myPB.hasClass('ui-progressbar')) {\n",
        "            $myPB.progressbar('value', 144);\n",
        "        } else {\n",
        "            $myPB.progressbar({value: 0, max: 318});\n",
        "        }\n",
        "        "
       ],
       "metadata": {},
       "output_type": "display_data",
       "text": [
        "<IPython.core.display.Javascript at 0x99d24940>"
       ]
      },
      {
       "javascript": [
        "$('div#f34d1b86-0894-459d-8d3d-3456a7e9a623').text('ETA:  0:00:00');"
       ],
       "metadata": {},
       "output_type": "display_data",
       "text": [
        "<IPython.core.display.Javascript at 0x99d24860>"
       ]
      },
      {
       "javascript": [
        "$('div#c9d7f753-d7e9-489d-a902-95ab0e6fcdfc').text('148 of 318');"
       ],
       "metadata": {},
       "output_type": "display_data",
       "text": [
        "<IPython.core.display.Javascript at 0x99d241d0>"
       ]
      },
      {
       "javascript": [
        "$('div#7333c525-af47-483e-95c3-351000021b4b').text(' 46%');"
       ],
       "metadata": {},
       "output_type": "display_data",
       "text": [
        "<IPython.core.display.Javascript at 0x99d247f0>"
       ]
      },
      {
       "javascript": [
        "\n",
        "        var $myPB = $(\"div#e2951e64-dc7f-45c7-84ef-08996f42e706\")\n",
        "        if ($myPB.hasClass('ui-progressbar')) {\n",
        "            $myPB.progressbar('value', 148);\n",
        "        } else {\n",
        "            $myPB.progressbar({value: 0, max: 318});\n",
        "        }\n",
        "        "
       ],
       "metadata": {},
       "output_type": "display_data",
       "text": [
        "<IPython.core.display.Javascript at 0x902df2e8>"
       ]
      },
      {
       "javascript": [
        "$('div#f34d1b86-0894-459d-8d3d-3456a7e9a623').text('ETA:  0:00:00');"
       ],
       "metadata": {},
       "output_type": "display_data",
       "text": [
        "<IPython.core.display.Javascript at 0x99d247f0>"
       ]
      },
      {
       "javascript": [
        "$('div#c9d7f753-d7e9-489d-a902-95ab0e6fcdfc').text('152 of 318');"
       ],
       "metadata": {},
       "output_type": "display_data",
       "text": [
        "<IPython.core.display.Javascript at 0x99d24a58>"
       ]
      },
      {
       "javascript": [
        "$('div#7333c525-af47-483e-95c3-351000021b4b').text(' 47%');"
       ],
       "metadata": {},
       "output_type": "display_data",
       "text": [
        "<IPython.core.display.Javascript at 0x99d24908>"
       ]
      },
      {
       "javascript": [
        "\n",
        "        var $myPB = $(\"div#e2951e64-dc7f-45c7-84ef-08996f42e706\")\n",
        "        if ($myPB.hasClass('ui-progressbar')) {\n",
        "            $myPB.progressbar('value', 152);\n",
        "        } else {\n",
        "            $myPB.progressbar({value: 0, max: 318});\n",
        "        }\n",
        "        "
       ],
       "metadata": {},
       "output_type": "display_data",
       "text": [
        "<IPython.core.display.Javascript at 0x99d24908>"
       ]
      },
      {
       "javascript": [
        "$('div#f34d1b86-0894-459d-8d3d-3456a7e9a623').text('ETA:  0:00:00');"
       ],
       "metadata": {},
       "output_type": "display_data",
       "text": [
        "<IPython.core.display.Javascript at 0x99d243c8>"
       ]
      },
      {
       "javascript": [
        "$('div#c9d7f753-d7e9-489d-a902-95ab0e6fcdfc').text('156 of 318');"
       ],
       "metadata": {},
       "output_type": "display_data",
       "text": [
        "<IPython.core.display.Javascript at 0x99d24860>"
       ]
      },
      {
       "javascript": [
        "$('div#7333c525-af47-483e-95c3-351000021b4b').text(' 49%');"
       ],
       "metadata": {},
       "output_type": "display_data",
       "text": [
        "<IPython.core.display.Javascript at 0x99d24828>"
       ]
      },
      {
       "javascript": [
        "\n",
        "        var $myPB = $(\"div#e2951e64-dc7f-45c7-84ef-08996f42e706\")\n",
        "        if ($myPB.hasClass('ui-progressbar')) {\n",
        "            $myPB.progressbar('value', 156);\n",
        "        } else {\n",
        "            $myPB.progressbar({value: 0, max: 318});\n",
        "        }\n",
        "        "
       ],
       "metadata": {},
       "output_type": "display_data",
       "text": [
        "<IPython.core.display.Javascript at 0x902df2e8>"
       ]
      },
      {
       "javascript": [
        "$('div#f34d1b86-0894-459d-8d3d-3456a7e9a623').text('ETA:  0:00:00');"
       ],
       "metadata": {},
       "output_type": "display_data",
       "text": [
        "<IPython.core.display.Javascript at 0x99d24828>"
       ]
      },
      {
       "javascript": [
        "$('div#c9d7f753-d7e9-489d-a902-95ab0e6fcdfc').text('160 of 318');"
       ],
       "metadata": {},
       "output_type": "display_data",
       "text": [
        "<IPython.core.display.Javascript at 0x99d24940>"
       ]
      },
      {
       "javascript": [
        "$('div#7333c525-af47-483e-95c3-351000021b4b').text(' 50%');"
       ],
       "metadata": {},
       "output_type": "display_data",
       "text": [
        "<IPython.core.display.Javascript at 0x99d24780>"
       ]
      },
      {
       "javascript": [
        "\n",
        "        var $myPB = $(\"div#e2951e64-dc7f-45c7-84ef-08996f42e706\")\n",
        "        if ($myPB.hasClass('ui-progressbar')) {\n",
        "            $myPB.progressbar('value', 160);\n",
        "        } else {\n",
        "            $myPB.progressbar({value: 0, max: 318});\n",
        "        }\n",
        "        "
       ],
       "metadata": {},
       "output_type": "display_data",
       "text": [
        "<IPython.core.display.Javascript at 0x99d24780>"
       ]
      },
      {
       "javascript": [
        "$('div#f34d1b86-0894-459d-8d3d-3456a7e9a623').text('ETA:  0:00:00');"
       ],
       "metadata": {},
       "output_type": "display_data",
       "text": [
        "<IPython.core.display.Javascript at 0x99d247f0>"
       ]
      },
      {
       "javascript": [
        "$('div#c9d7f753-d7e9-489d-a902-95ab0e6fcdfc').text('164 of 318');"
       ],
       "metadata": {},
       "output_type": "display_data",
       "text": [
        "<IPython.core.display.Javascript at 0x99d243c8>"
       ]
      },
      {
       "javascript": [
        "$('div#7333c525-af47-483e-95c3-351000021b4b').text(' 51%');"
       ],
       "metadata": {},
       "output_type": "display_data",
       "text": [
        "<IPython.core.display.Javascript at 0x99d241d0>"
       ]
      },
      {
       "javascript": [
        "\n",
        "        var $myPB = $(\"div#e2951e64-dc7f-45c7-84ef-08996f42e706\")\n",
        "        if ($myPB.hasClass('ui-progressbar')) {\n",
        "            $myPB.progressbar('value', 164);\n",
        "        } else {\n",
        "            $myPB.progressbar({value: 0, max: 318});\n",
        "        }\n",
        "        "
       ],
       "metadata": {},
       "output_type": "display_data",
       "text": [
        "<IPython.core.display.Javascript at 0x902df2e8>"
       ]
      },
      {
       "javascript": [
        "$('div#f34d1b86-0894-459d-8d3d-3456a7e9a623').text('ETA:  0:00:00');"
       ],
       "metadata": {},
       "output_type": "display_data",
       "text": [
        "<IPython.core.display.Javascript at 0x99d241d0>"
       ]
      },
      {
       "javascript": [
        "$('div#c9d7f753-d7e9-489d-a902-95ab0e6fcdfc').text('168 of 318');"
       ],
       "metadata": {},
       "output_type": "display_data",
       "text": [
        "<IPython.core.display.Javascript at 0x99d24908>"
       ]
      },
      {
       "javascript": [
        "$('div#7333c525-af47-483e-95c3-351000021b4b').text(' 52%');"
       ],
       "metadata": {},
       "output_type": "display_data",
       "text": [
        "<IPython.core.display.Javascript at 0x99d24a58>"
       ]
      },
      {
       "javascript": [
        "\n",
        "        var $myPB = $(\"div#e2951e64-dc7f-45c7-84ef-08996f42e706\")\n",
        "        if ($myPB.hasClass('ui-progressbar')) {\n",
        "            $myPB.progressbar('value', 168);\n",
        "        } else {\n",
        "            $myPB.progressbar({value: 0, max: 318});\n",
        "        }\n",
        "        "
       ],
       "metadata": {},
       "output_type": "display_data",
       "text": [
        "<IPython.core.display.Javascript at 0x99d24a58>"
       ]
      },
      {
       "javascript": [
        "$('div#f34d1b86-0894-459d-8d3d-3456a7e9a623').text('ETA:  0:00:00');"
       ],
       "metadata": {},
       "output_type": "display_data",
       "text": [
        "<IPython.core.display.Javascript at 0x99d24828>"
       ]
      },
      {
       "javascript": [
        "$('div#c9d7f753-d7e9-489d-a902-95ab0e6fcdfc').text('172 of 318');"
       ],
       "metadata": {},
       "output_type": "display_data",
       "text": [
        "<IPython.core.display.Javascript at 0x99d24240>"
       ]
      },
      {
       "javascript": [
        "$('div#7333c525-af47-483e-95c3-351000021b4b').text(' 54%');"
       ],
       "metadata": {},
       "output_type": "display_data",
       "text": [
        "<IPython.core.display.Javascript at 0x99d24860>"
       ]
      },
      {
       "javascript": [
        "\n",
        "        var $myPB = $(\"div#e2951e64-dc7f-45c7-84ef-08996f42e706\")\n",
        "        if ($myPB.hasClass('ui-progressbar')) {\n",
        "            $myPB.progressbar('value', 172);\n",
        "        } else {\n",
        "            $myPB.progressbar({value: 0, max: 318});\n",
        "        }\n",
        "        "
       ],
       "metadata": {},
       "output_type": "display_data",
       "text": [
        "<IPython.core.display.Javascript at 0x902df2e8>"
       ]
      },
      {
       "javascript": [
        "$('div#f34d1b86-0894-459d-8d3d-3456a7e9a623').text('ETA:  0:00:00');"
       ],
       "metadata": {},
       "output_type": "display_data",
       "text": [
        "<IPython.core.display.Javascript at 0x99d24860>"
       ]
      },
      {
       "javascript": [
        "$('div#c9d7f753-d7e9-489d-a902-95ab0e6fcdfc').text('176 of 318');"
       ],
       "metadata": {},
       "output_type": "display_data",
       "text": [
        "<IPython.core.display.Javascript at 0x99d247f0>"
       ]
      },
      {
       "javascript": [
        "$('div#7333c525-af47-483e-95c3-351000021b4b').text(' 55%');"
       ],
       "metadata": {},
       "output_type": "display_data",
       "text": [
        "<IPython.core.display.Javascript at 0x99d24940>"
       ]
      },
      {
       "javascript": [
        "\n",
        "        var $myPB = $(\"div#e2951e64-dc7f-45c7-84ef-08996f42e706\")\n",
        "        if ($myPB.hasClass('ui-progressbar')) {\n",
        "            $myPB.progressbar('value', 176);\n",
        "        } else {\n",
        "            $myPB.progressbar({value: 0, max: 318});\n",
        "        }\n",
        "        "
       ],
       "metadata": {},
       "output_type": "display_data",
       "text": [
        "<IPython.core.display.Javascript at 0x99d24940>"
       ]
      },
      {
       "javascript": [
        "$('div#f34d1b86-0894-459d-8d3d-3456a7e9a623').text('ETA:  0:00:00');"
       ],
       "metadata": {},
       "output_type": "display_data",
       "text": [
        "<IPython.core.display.Javascript at 0x99d241d0>"
       ]
      },
      {
       "javascript": [
        "$('div#c9d7f753-d7e9-489d-a902-95ab0e6fcdfc').text('180 of 318');"
       ],
       "metadata": {},
       "output_type": "display_data",
       "text": [
        "<IPython.core.display.Javascript at 0x99d24828>"
       ]
      },
      {
       "javascript": [
        "$('div#7333c525-af47-483e-95c3-351000021b4b').text(' 56%');"
       ],
       "metadata": {},
       "output_type": "display_data",
       "text": [
        "<IPython.core.display.Javascript at 0x99d243c8>"
       ]
      },
      {
       "javascript": [
        "\n",
        "        var $myPB = $(\"div#e2951e64-dc7f-45c7-84ef-08996f42e706\")\n",
        "        if ($myPB.hasClass('ui-progressbar')) {\n",
        "            $myPB.progressbar('value', 180);\n",
        "        } else {\n",
        "            $myPB.progressbar({value: 0, max: 318});\n",
        "        }\n",
        "        "
       ],
       "metadata": {},
       "output_type": "display_data",
       "text": [
        "<IPython.core.display.Javascript at 0x902df2e8>"
       ]
      },
      {
       "javascript": [
        "$('div#f34d1b86-0894-459d-8d3d-3456a7e9a623').text('ETA:  0:00:00');"
       ],
       "metadata": {},
       "output_type": "display_data",
       "text": [
        "<IPython.core.display.Javascript at 0x99d243c8>"
       ]
      },
      {
       "javascript": [
        "$('div#c9d7f753-d7e9-489d-a902-95ab0e6fcdfc').text('184 of 318');"
       ],
       "metadata": {},
       "output_type": "display_data",
       "text": [
        "<IPython.core.display.Javascript at 0x99d24a58>"
       ]
      },
      {
       "javascript": [
        "$('div#7333c525-af47-483e-95c3-351000021b4b').text(' 57%');"
       ],
       "metadata": {},
       "output_type": "display_data",
       "text": [
        "<IPython.core.display.Javascript at 0x99d24908>"
       ]
      },
      {
       "javascript": [
        "\n",
        "        var $myPB = $(\"div#e2951e64-dc7f-45c7-84ef-08996f42e706\")\n",
        "        if ($myPB.hasClass('ui-progressbar')) {\n",
        "            $myPB.progressbar('value', 184);\n",
        "        } else {\n",
        "            $myPB.progressbar({value: 0, max: 318});\n",
        "        }\n",
        "        "
       ],
       "metadata": {},
       "output_type": "display_data",
       "text": [
        "<IPython.core.display.Javascript at 0x99d24908>"
       ]
      },
      {
       "javascript": [
        "$('div#f34d1b86-0894-459d-8d3d-3456a7e9a623').text('ETA:  0:00:00');"
       ],
       "metadata": {},
       "output_type": "display_data",
       "text": [
        "<IPython.core.display.Javascript at 0x99d24860>"
       ]
      },
      {
       "javascript": [
        "$('div#c9d7f753-d7e9-489d-a902-95ab0e6fcdfc').text('188 of 318');"
       ],
       "metadata": {},
       "output_type": "display_data",
       "text": [
        "<IPython.core.display.Javascript at 0x99d24780>"
       ]
      },
      {
       "javascript": [
        "$('div#7333c525-af47-483e-95c3-351000021b4b').text(' 59%');"
       ],
       "metadata": {},
       "output_type": "display_data",
       "text": [
        "<IPython.core.display.Javascript at 0x99d24240>"
       ]
      },
      {
       "javascript": [
        "\n",
        "        var $myPB = $(\"div#e2951e64-dc7f-45c7-84ef-08996f42e706\")\n",
        "        if ($myPB.hasClass('ui-progressbar')) {\n",
        "            $myPB.progressbar('value', 188);\n",
        "        } else {\n",
        "            $myPB.progressbar({value: 0, max: 318});\n",
        "        }\n",
        "        "
       ],
       "metadata": {},
       "output_type": "display_data",
       "text": [
        "<IPython.core.display.Javascript at 0x902df2e8>"
       ]
      },
      {
       "javascript": [
        "$('div#f34d1b86-0894-459d-8d3d-3456a7e9a623').text('ETA:  0:00:00');"
       ],
       "metadata": {},
       "output_type": "display_data",
       "text": [
        "<IPython.core.display.Javascript at 0x99d24240>"
       ]
      },
      {
       "javascript": [
        "$('div#c9d7f753-d7e9-489d-a902-95ab0e6fcdfc').text('192 of 318');"
       ],
       "metadata": {},
       "output_type": "display_data",
       "text": [
        "<IPython.core.display.Javascript at 0x99d24940>"
       ]
      },
      {
       "javascript": [
        "$('div#7333c525-af47-483e-95c3-351000021b4b').text(' 60%');"
       ],
       "metadata": {},
       "output_type": "display_data",
       "text": [
        "<IPython.core.display.Javascript at 0x99d247f0>"
       ]
      },
      {
       "javascript": [
        "\n",
        "        var $myPB = $(\"div#e2951e64-dc7f-45c7-84ef-08996f42e706\")\n",
        "        if ($myPB.hasClass('ui-progressbar')) {\n",
        "            $myPB.progressbar('value', 192);\n",
        "        } else {\n",
        "            $myPB.progressbar({value: 0, max: 318});\n",
        "        }\n",
        "        "
       ],
       "metadata": {},
       "output_type": "display_data",
       "text": [
        "<IPython.core.display.Javascript at 0x99d247f0>"
       ]
      },
      {
       "javascript": [
        "$('div#f34d1b86-0894-459d-8d3d-3456a7e9a623').text('ETA:  0:00:00');"
       ],
       "metadata": {},
       "output_type": "display_data",
       "text": [
        "<IPython.core.display.Javascript at 0x99d243c8>"
       ]
      },
      {
       "javascript": [
        "$('div#c9d7f753-d7e9-489d-a902-95ab0e6fcdfc').text('196 of 318');"
       ],
       "metadata": {},
       "output_type": "display_data",
       "text": [
        "<IPython.core.display.Javascript at 0x99d24860>"
       ]
      },
      {
       "javascript": [
        "$('div#7333c525-af47-483e-95c3-351000021b4b').text(' 61%');"
       ],
       "metadata": {},
       "output_type": "display_data",
       "text": [
        "<IPython.core.display.Javascript at 0x99d24828>"
       ]
      },
      {
       "javascript": [
        "\n",
        "        var $myPB = $(\"div#e2951e64-dc7f-45c7-84ef-08996f42e706\")\n",
        "        if ($myPB.hasClass('ui-progressbar')) {\n",
        "            $myPB.progressbar('value', 196);\n",
        "        } else {\n",
        "            $myPB.progressbar({value: 0, max: 318});\n",
        "        }\n",
        "        "
       ],
       "metadata": {},
       "output_type": "display_data",
       "text": [
        "<IPython.core.display.Javascript at 0x902df2e8>"
       ]
      },
      {
       "javascript": [
        "$('div#f34d1b86-0894-459d-8d3d-3456a7e9a623').text('ETA:  0:00:00');"
       ],
       "metadata": {},
       "output_type": "display_data",
       "text": [
        "<IPython.core.display.Javascript at 0x99d24828>"
       ]
      },
      {
       "javascript": [
        "$('div#c9d7f753-d7e9-489d-a902-95ab0e6fcdfc').text('200 of 318');"
       ],
       "metadata": {},
       "output_type": "display_data",
       "text": [
        "<IPython.core.display.Javascript at 0x99d241d0>"
       ]
      },
      {
       "javascript": [
        "$('div#7333c525-af47-483e-95c3-351000021b4b').text(' 62%');"
       ],
       "metadata": {},
       "output_type": "display_data",
       "text": [
        "<IPython.core.display.Javascript at 0x99d24a58>"
       ]
      },
      {
       "javascript": [
        "\n",
        "        var $myPB = $(\"div#e2951e64-dc7f-45c7-84ef-08996f42e706\")\n",
        "        if ($myPB.hasClass('ui-progressbar')) {\n",
        "            $myPB.progressbar('value', 200);\n",
        "        } else {\n",
        "            $myPB.progressbar({value: 0, max: 318});\n",
        "        }\n",
        "        "
       ],
       "metadata": {},
       "output_type": "display_data",
       "text": [
        "<IPython.core.display.Javascript at 0x99d24a58>"
       ]
      },
      {
       "javascript": [
        "$('div#f34d1b86-0894-459d-8d3d-3456a7e9a623').text('ETA:  0:00:00');"
       ],
       "metadata": {},
       "output_type": "display_data",
       "text": [
        "<IPython.core.display.Javascript at 0x99d24240>"
       ]
      },
      {
       "javascript": [
        "$('div#c9d7f753-d7e9-489d-a902-95ab0e6fcdfc').text('204 of 318');"
       ],
       "metadata": {},
       "output_type": "display_data",
       "text": [
        "<IPython.core.display.Javascript at 0x99d243c8>"
       ]
      },
      {
       "javascript": [
        "$('div#7333c525-af47-483e-95c3-351000021b4b').text(' 64%');"
       ],
       "metadata": {},
       "output_type": "display_data",
       "text": [
        "<IPython.core.display.Javascript at 0x99d24780>"
       ]
      },
      {
       "javascript": [
        "\n",
        "        var $myPB = $(\"div#e2951e64-dc7f-45c7-84ef-08996f42e706\")\n",
        "        if ($myPB.hasClass('ui-progressbar')) {\n",
        "            $myPB.progressbar('value', 204);\n",
        "        } else {\n",
        "            $myPB.progressbar({value: 0, max: 318});\n",
        "        }\n",
        "        "
       ],
       "metadata": {},
       "output_type": "display_data",
       "text": [
        "<IPython.core.display.Javascript at 0x902df2e8>"
       ]
      },
      {
       "javascript": [
        "$('div#f34d1b86-0894-459d-8d3d-3456a7e9a623').text('ETA:  0:00:00');"
       ],
       "metadata": {},
       "output_type": "display_data",
       "text": [
        "<IPython.core.display.Javascript at 0x99d24780>"
       ]
      },
      {
       "javascript": [
        "$('div#c9d7f753-d7e9-489d-a902-95ab0e6fcdfc').text('208 of 318');"
       ],
       "metadata": {},
       "output_type": "display_data",
       "text": [
        "<IPython.core.display.Javascript at 0x99d247f0>"
       ]
      },
      {
       "javascript": [
        "$('div#7333c525-af47-483e-95c3-351000021b4b').text(' 65%');"
       ],
       "metadata": {},
       "output_type": "display_data",
       "text": [
        "<IPython.core.display.Javascript at 0x99d24940>"
       ]
      },
      {
       "javascript": [
        "\n",
        "        var $myPB = $(\"div#e2951e64-dc7f-45c7-84ef-08996f42e706\")\n",
        "        if ($myPB.hasClass('ui-progressbar')) {\n",
        "            $myPB.progressbar('value', 208);\n",
        "        } else {\n",
        "            $myPB.progressbar({value: 0, max: 318});\n",
        "        }\n",
        "        "
       ],
       "metadata": {},
       "output_type": "display_data",
       "text": [
        "<IPython.core.display.Javascript at 0x99d24940>"
       ]
      },
      {
       "javascript": [
        "$('div#f34d1b86-0894-459d-8d3d-3456a7e9a623').text('ETA:  0:00:00');"
       ],
       "metadata": {},
       "output_type": "display_data",
       "text": [
        "<IPython.core.display.Javascript at 0x99d24828>"
       ]
      },
      {
       "javascript": [
        "$('div#c9d7f753-d7e9-489d-a902-95ab0e6fcdfc').text('212 of 318');"
       ],
       "metadata": {},
       "output_type": "display_data",
       "text": [
        "<IPython.core.display.Javascript at 0x99d24908>"
       ]
      },
      {
       "javascript": [
        "$('div#7333c525-af47-483e-95c3-351000021b4b').text(' 66%');"
       ],
       "metadata": {},
       "output_type": "display_data",
       "text": [
        "<IPython.core.display.Javascript at 0x99d24860>"
       ]
      },
      {
       "javascript": [
        "\n",
        "        var $myPB = $(\"div#e2951e64-dc7f-45c7-84ef-08996f42e706\")\n",
        "        if ($myPB.hasClass('ui-progressbar')) {\n",
        "            $myPB.progressbar('value', 212);\n",
        "        } else {\n",
        "            $myPB.progressbar({value: 0, max: 318});\n",
        "        }\n",
        "        "
       ],
       "metadata": {},
       "output_type": "display_data",
       "text": [
        "<IPython.core.display.Javascript at 0x902df2e8>"
       ]
      },
      {
       "javascript": [
        "$('div#f34d1b86-0894-459d-8d3d-3456a7e9a623').text('ETA:  0:00:00');"
       ],
       "metadata": {},
       "output_type": "display_data",
       "text": [
        "<IPython.core.display.Javascript at 0x99d24860>"
       ]
      },
      {
       "javascript": [
        "$('div#c9d7f753-d7e9-489d-a902-95ab0e6fcdfc').text('216 of 318');"
       ],
       "metadata": {},
       "output_type": "display_data",
       "text": [
        "<IPython.core.display.Javascript at 0x99d24a58>"
       ]
      },
      {
       "javascript": [
        "$('div#7333c525-af47-483e-95c3-351000021b4b').text(' 67%');"
       ],
       "metadata": {},
       "output_type": "display_data",
       "text": [
        "<IPython.core.display.Javascript at 0x99d241d0>"
       ]
      },
      {
       "javascript": [
        "\n",
        "        var $myPB = $(\"div#e2951e64-dc7f-45c7-84ef-08996f42e706\")\n",
        "        if ($myPB.hasClass('ui-progressbar')) {\n",
        "            $myPB.progressbar('value', 216);\n",
        "        } else {\n",
        "            $myPB.progressbar({value: 0, max: 318});\n",
        "        }\n",
        "        "
       ],
       "metadata": {},
       "output_type": "display_data",
       "text": [
        "<IPython.core.display.Javascript at 0x99d241d0>"
       ]
      },
      {
       "javascript": [
        "$('div#f34d1b86-0894-459d-8d3d-3456a7e9a623').text('ETA:  0:00:00');"
       ],
       "metadata": {},
       "output_type": "display_data",
       "text": [
        "<IPython.core.display.Javascript at 0x99d24780>"
       ]
      },
      {
       "javascript": [
        "$('div#c9d7f753-d7e9-489d-a902-95ab0e6fcdfc').text('220 of 318');"
       ],
       "metadata": {},
       "output_type": "display_data",
       "text": [
        "<IPython.core.display.Javascript at 0x99d24240>"
       ]
      },
      {
       "javascript": [
        "$('div#7333c525-af47-483e-95c3-351000021b4b').text(' 69%');"
       ],
       "metadata": {},
       "output_type": "display_data",
       "text": [
        "<IPython.core.display.Javascript at 0x99d243c8>"
       ]
      },
      {
       "javascript": [
        "\n",
        "        var $myPB = $(\"div#e2951e64-dc7f-45c7-84ef-08996f42e706\")\n",
        "        if ($myPB.hasClass('ui-progressbar')) {\n",
        "            $myPB.progressbar('value', 220);\n",
        "        } else {\n",
        "            $myPB.progressbar({value: 0, max: 318});\n",
        "        }\n",
        "        "
       ],
       "metadata": {},
       "output_type": "display_data",
       "text": [
        "<IPython.core.display.Javascript at 0x902df2e8>"
       ]
      },
      {
       "javascript": [
        "$('div#f34d1b86-0894-459d-8d3d-3456a7e9a623').text('ETA:  0:00:00');"
       ],
       "metadata": {},
       "output_type": "display_data",
       "text": [
        "<IPython.core.display.Javascript at 0x99d243c8>"
       ]
      },
      {
       "javascript": [
        "$('div#c9d7f753-d7e9-489d-a902-95ab0e6fcdfc').text('224 of 318');"
       ],
       "metadata": {},
       "output_type": "display_data",
       "text": [
        "<IPython.core.display.Javascript at 0x99d24940>"
       ]
      },
      {
       "javascript": [
        "$('div#7333c525-af47-483e-95c3-351000021b4b').text(' 70%');"
       ],
       "metadata": {},
       "output_type": "display_data",
       "text": [
        "<IPython.core.display.Javascript at 0x99d247f0>"
       ]
      },
      {
       "javascript": [
        "\n",
        "        var $myPB = $(\"div#e2951e64-dc7f-45c7-84ef-08996f42e706\")\n",
        "        if ($myPB.hasClass('ui-progressbar')) {\n",
        "            $myPB.progressbar('value', 224);\n",
        "        } else {\n",
        "            $myPB.progressbar({value: 0, max: 318});\n",
        "        }\n",
        "        "
       ],
       "metadata": {},
       "output_type": "display_data",
       "text": [
        "<IPython.core.display.Javascript at 0x99d247f0>"
       ]
      },
      {
       "javascript": [
        "$('div#f34d1b86-0894-459d-8d3d-3456a7e9a623').text('ETA:  0:00:00');"
       ],
       "metadata": {},
       "output_type": "display_data",
       "text": [
        "<IPython.core.display.Javascript at 0x99d24860>"
       ]
      },
      {
       "javascript": [
        "$('div#c9d7f753-d7e9-489d-a902-95ab0e6fcdfc').text('228 of 318');"
       ],
       "metadata": {},
       "output_type": "display_data",
       "text": [
        "<IPython.core.display.Javascript at 0x99d24780>"
       ]
      },
      {
       "javascript": [
        "$('div#7333c525-af47-483e-95c3-351000021b4b').text(' 71%');"
       ],
       "metadata": {},
       "output_type": "display_data",
       "text": [
        "<IPython.core.display.Javascript at 0x99d24908>"
       ]
      },
      {
       "javascript": [
        "\n",
        "        var $myPB = $(\"div#e2951e64-dc7f-45c7-84ef-08996f42e706\")\n",
        "        if ($myPB.hasClass('ui-progressbar')) {\n",
        "            $myPB.progressbar('value', 228);\n",
        "        } else {\n",
        "            $myPB.progressbar({value: 0, max: 318});\n",
        "        }\n",
        "        "
       ],
       "metadata": {},
       "output_type": "display_data",
       "text": [
        "<IPython.core.display.Javascript at 0x902df2e8>"
       ]
      },
      {
       "javascript": [
        "$('div#f34d1b86-0894-459d-8d3d-3456a7e9a623').text('ETA:  0:00:00');"
       ],
       "metadata": {},
       "output_type": "display_data",
       "text": [
        "<IPython.core.display.Javascript at 0x99d24908>"
       ]
      },
      {
       "javascript": [
        "$('div#c9d7f753-d7e9-489d-a902-95ab0e6fcdfc').text('232 of 318');"
       ],
       "metadata": {},
       "output_type": "display_data",
       "text": [
        "<IPython.core.display.Javascript at 0x99d24828>"
       ]
      },
      {
       "javascript": [
        "$('div#7333c525-af47-483e-95c3-351000021b4b').text(' 72%');"
       ],
       "metadata": {},
       "output_type": "display_data",
       "text": [
        "<IPython.core.display.Javascript at 0x99d24a58>"
       ]
      },
      {
       "javascript": [
        "\n",
        "        var $myPB = $(\"div#e2951e64-dc7f-45c7-84ef-08996f42e706\")\n",
        "        if ($myPB.hasClass('ui-progressbar')) {\n",
        "            $myPB.progressbar('value', 232);\n",
        "        } else {\n",
        "            $myPB.progressbar({value: 0, max: 318});\n",
        "        }\n",
        "        "
       ],
       "metadata": {},
       "output_type": "display_data",
       "text": [
        "<IPython.core.display.Javascript at 0x99d24a58>"
       ]
      },
      {
       "javascript": [
        "$('div#f34d1b86-0894-459d-8d3d-3456a7e9a623').text('ETA:  0:00:00');"
       ],
       "metadata": {},
       "output_type": "display_data",
       "text": [
        "<IPython.core.display.Javascript at 0x99d243c8>"
       ]
      },
      {
       "javascript": [
        "$('div#c9d7f753-d7e9-489d-a902-95ab0e6fcdfc').text('236 of 318');"
       ],
       "metadata": {},
       "output_type": "display_data",
       "text": [
        "<IPython.core.display.Javascript at 0x99d241d0>"
       ]
      },
      {
       "javascript": [
        "$('div#7333c525-af47-483e-95c3-351000021b4b').text(' 74%');"
       ],
       "metadata": {},
       "output_type": "display_data",
       "text": [
        "<IPython.core.display.Javascript at 0x99d24240>"
       ]
      },
      {
       "javascript": [
        "\n",
        "        var $myPB = $(\"div#e2951e64-dc7f-45c7-84ef-08996f42e706\")\n",
        "        if ($myPB.hasClass('ui-progressbar')) {\n",
        "            $myPB.progressbar('value', 236);\n",
        "        } else {\n",
        "            $myPB.progressbar({value: 0, max: 318});\n",
        "        }\n",
        "        "
       ],
       "metadata": {},
       "output_type": "display_data",
       "text": [
        "<IPython.core.display.Javascript at 0x902df2e8>"
       ]
      },
      {
       "javascript": [
        "$('div#f34d1b86-0894-459d-8d3d-3456a7e9a623').text('ETA:  0:00:00');"
       ],
       "metadata": {},
       "output_type": "display_data",
       "text": [
        "<IPython.core.display.Javascript at 0x99d24240>"
       ]
      },
      {
       "javascript": [
        "$('div#c9d7f753-d7e9-489d-a902-95ab0e6fcdfc').text('240 of 318');"
       ],
       "metadata": {},
       "output_type": "display_data",
       "text": [
        "<IPython.core.display.Javascript at 0x99d247f0>"
       ]
      },
      {
       "javascript": [
        "$('div#7333c525-af47-483e-95c3-351000021b4b').text(' 75%');"
       ],
       "metadata": {},
       "output_type": "display_data",
       "text": [
        "<IPython.core.display.Javascript at 0x99d24940>"
       ]
      },
      {
       "javascript": [
        "\n",
        "        var $myPB = $(\"div#e2951e64-dc7f-45c7-84ef-08996f42e706\")\n",
        "        if ($myPB.hasClass('ui-progressbar')) {\n",
        "            $myPB.progressbar('value', 240);\n",
        "        } else {\n",
        "            $myPB.progressbar({value: 0, max: 318});\n",
        "        }\n",
        "        "
       ],
       "metadata": {},
       "output_type": "display_data",
       "text": [
        "<IPython.core.display.Javascript at 0x99d24940>"
       ]
      },
      {
       "javascript": [
        "$('div#f34d1b86-0894-459d-8d3d-3456a7e9a623').text('ETA:  0:00:00');"
       ],
       "metadata": {},
       "output_type": "display_data",
       "text": [
        "<IPython.core.display.Javascript at 0x99d24908>"
       ]
      },
      {
       "javascript": [
        "$('div#c9d7f753-d7e9-489d-a902-95ab0e6fcdfc').text('244 of 318');"
       ],
       "metadata": {},
       "output_type": "display_data",
       "text": [
        "<IPython.core.display.Javascript at 0x99d24780>"
       ]
      },
      {
       "javascript": [
        "$('div#7333c525-af47-483e-95c3-351000021b4b').text(' 76%');"
       ],
       "metadata": {},
       "output_type": "display_data",
       "text": [
        "<IPython.core.display.Javascript at 0x99d24a58>"
       ]
      },
      {
       "javascript": [
        "\n",
        "        var $myPB = $(\"div#e2951e64-dc7f-45c7-84ef-08996f42e706\")\n",
        "        if ($myPB.hasClass('ui-progressbar')) {\n",
        "            $myPB.progressbar('value', 244);\n",
        "        } else {\n",
        "            $myPB.progressbar({value: 0, max: 318});\n",
        "        }\n",
        "        "
       ],
       "metadata": {},
       "output_type": "display_data",
       "text": [
        "<IPython.core.display.Javascript at 0x902df2e8>"
       ]
      },
      {
       "javascript": [
        "$('div#f34d1b86-0894-459d-8d3d-3456a7e9a623').text('ETA:  0:00:00');"
       ],
       "metadata": {},
       "output_type": "display_data",
       "text": [
        "<IPython.core.display.Javascript at 0x99d24a58>"
       ]
      },
      {
       "javascript": [
        "$('div#c9d7f753-d7e9-489d-a902-95ab0e6fcdfc').text('248 of 318');"
       ],
       "metadata": {},
       "output_type": "display_data",
       "text": [
        "<IPython.core.display.Javascript at 0x99d241d0>"
       ]
      },
      {
       "javascript": [
        "$('div#7333c525-af47-483e-95c3-351000021b4b').text(' 77%');"
       ],
       "metadata": {},
       "output_type": "display_data",
       "text": [
        "<IPython.core.display.Javascript at 0x99d24860>"
       ]
      },
      {
       "javascript": [
        "\n",
        "        var $myPB = $(\"div#e2951e64-dc7f-45c7-84ef-08996f42e706\")\n",
        "        if ($myPB.hasClass('ui-progressbar')) {\n",
        "            $myPB.progressbar('value', 248);\n",
        "        } else {\n",
        "            $myPB.progressbar({value: 0, max: 318});\n",
        "        }\n",
        "        "
       ],
       "metadata": {},
       "output_type": "display_data",
       "text": [
        "<IPython.core.display.Javascript at 0x99d24860>"
       ]
      },
      {
       "javascript": [
        "$('div#f34d1b86-0894-459d-8d3d-3456a7e9a623').text('ETA:  0:00:00');"
       ],
       "metadata": {},
       "output_type": "display_data",
       "text": [
        "<IPython.core.display.Javascript at 0x99d247f0>"
       ]
      },
      {
       "javascript": [
        "$('div#c9d7f753-d7e9-489d-a902-95ab0e6fcdfc').text('252 of 318');"
       ],
       "metadata": {},
       "output_type": "display_data",
       "text": [
        "<IPython.core.display.Javascript at 0x99d24940>"
       ]
      },
      {
       "javascript": [
        "$('div#7333c525-af47-483e-95c3-351000021b4b').text(' 79%');"
       ],
       "metadata": {},
       "output_type": "display_data",
       "text": [
        "<IPython.core.display.Javascript at 0x99d24780>"
       ]
      },
      {
       "javascript": [
        "\n",
        "        var $myPB = $(\"div#e2951e64-dc7f-45c7-84ef-08996f42e706\")\n",
        "        if ($myPB.hasClass('ui-progressbar')) {\n",
        "            $myPB.progressbar('value', 252);\n",
        "        } else {\n",
        "            $myPB.progressbar({value: 0, max: 318});\n",
        "        }\n",
        "        "
       ],
       "metadata": {},
       "output_type": "display_data",
       "text": [
        "<IPython.core.display.Javascript at 0x902df2e8>"
       ]
      },
      {
       "javascript": [
        "$('div#f34d1b86-0894-459d-8d3d-3456a7e9a623').text('ETA:  0:00:00');"
       ],
       "metadata": {},
       "output_type": "display_data",
       "text": [
        "<IPython.core.display.Javascript at 0x99d24780>"
       ]
      },
      {
       "javascript": [
        "$('div#c9d7f753-d7e9-489d-a902-95ab0e6fcdfc').text('256 of 318');"
       ],
       "metadata": {},
       "output_type": "display_data",
       "text": [
        "<IPython.core.display.Javascript at 0x99d241d0>"
       ]
      },
      {
       "javascript": [
        "$('div#7333c525-af47-483e-95c3-351000021b4b').text(' 80%');"
       ],
       "metadata": {},
       "output_type": "display_data",
       "text": [
        "<IPython.core.display.Javascript at 0x99d24240>"
       ]
      },
      {
       "javascript": [
        "\n",
        "        var $myPB = $(\"div#e2951e64-dc7f-45c7-84ef-08996f42e706\")\n",
        "        if ($myPB.hasClass('ui-progressbar')) {\n",
        "            $myPB.progressbar('value', 256);\n",
        "        } else {\n",
        "            $myPB.progressbar({value: 0, max: 318});\n",
        "        }\n",
        "        "
       ],
       "metadata": {},
       "output_type": "display_data",
       "text": [
        "<IPython.core.display.Javascript at 0x99d24240>"
       ]
      },
      {
       "javascript": [
        "$('div#f34d1b86-0894-459d-8d3d-3456a7e9a623').text('ETA:  0:00:00');"
       ],
       "metadata": {},
       "output_type": "display_data",
       "text": [
        "<IPython.core.display.Javascript at 0x99d24908>"
       ]
      },
      {
       "javascript": [
        "$('div#c9d7f753-d7e9-489d-a902-95ab0e6fcdfc').text('260 of 318');"
       ],
       "metadata": {},
       "output_type": "display_data",
       "text": [
        "<IPython.core.display.Javascript at 0x99d24860>"
       ]
      },
      {
       "javascript": [
        "$('div#7333c525-af47-483e-95c3-351000021b4b').text(' 81%');"
       ],
       "metadata": {},
       "output_type": "display_data",
       "text": [
        "<IPython.core.display.Javascript at 0x99d24940>"
       ]
      },
      {
       "javascript": [
        "\n",
        "        var $myPB = $(\"div#e2951e64-dc7f-45c7-84ef-08996f42e706\")\n",
        "        if ($myPB.hasClass('ui-progressbar')) {\n",
        "            $myPB.progressbar('value', 260);\n",
        "        } else {\n",
        "            $myPB.progressbar({value: 0, max: 318});\n",
        "        }\n",
        "        "
       ],
       "metadata": {},
       "output_type": "display_data",
       "text": [
        "<IPython.core.display.Javascript at 0x902df2e8>"
       ]
      },
      {
       "javascript": [
        "$('div#f34d1b86-0894-459d-8d3d-3456a7e9a623').text('ETA:  0:00:00');"
       ],
       "metadata": {},
       "output_type": "display_data",
       "text": [
        "<IPython.core.display.Javascript at 0x99d24940>"
       ]
      },
      {
       "javascript": [
        "$('div#c9d7f753-d7e9-489d-a902-95ab0e6fcdfc').text('264 of 318');"
       ],
       "metadata": {},
       "output_type": "display_data",
       "text": [
        "<IPython.core.display.Javascript at 0x99d241d0>"
       ]
      },
      {
       "javascript": [
        "$('div#7333c525-af47-483e-95c3-351000021b4b').text(' 83%');"
       ],
       "metadata": {},
       "output_type": "display_data",
       "text": [
        "<IPython.core.display.Javascript at 0x99d24a58>"
       ]
      },
      {
       "javascript": [
        "\n",
        "        var $myPB = $(\"div#e2951e64-dc7f-45c7-84ef-08996f42e706\")\n",
        "        if ($myPB.hasClass('ui-progressbar')) {\n",
        "            $myPB.progressbar('value', 264);\n",
        "        } else {\n",
        "            $myPB.progressbar({value: 0, max: 318});\n",
        "        }\n",
        "        "
       ],
       "metadata": {},
       "output_type": "display_data",
       "text": [
        "<IPython.core.display.Javascript at 0x99d24a58>"
       ]
      },
      {
       "javascript": [
        "$('div#f34d1b86-0894-459d-8d3d-3456a7e9a623').text('ETA:  0:00:00');"
       ],
       "metadata": {},
       "output_type": "display_data",
       "text": [
        "<IPython.core.display.Javascript at 0x99d247f0>"
       ]
      },
      {
       "javascript": [
        "$('div#c9d7f753-d7e9-489d-a902-95ab0e6fcdfc').text('268 of 318');"
       ],
       "metadata": {},
       "output_type": "display_data",
       "text": [
        "<IPython.core.display.Javascript at 0x99d24240>"
       ]
      },
      {
       "javascript": [
        "$('div#7333c525-af47-483e-95c3-351000021b4b').text(' 84%');"
       ],
       "metadata": {},
       "output_type": "display_data",
       "text": [
        "<IPython.core.display.Javascript at 0x99d24860>"
       ]
      },
      {
       "javascript": [
        "\n",
        "        var $myPB = $(\"div#e2951e64-dc7f-45c7-84ef-08996f42e706\")\n",
        "        if ($myPB.hasClass('ui-progressbar')) {\n",
        "            $myPB.progressbar('value', 268);\n",
        "        } else {\n",
        "            $myPB.progressbar({value: 0, max: 318});\n",
        "        }\n",
        "        "
       ],
       "metadata": {},
       "output_type": "display_data",
       "text": [
        "<IPython.core.display.Javascript at 0x902df2e8>"
       ]
      },
      {
       "javascript": [
        "$('div#f34d1b86-0894-459d-8d3d-3456a7e9a623').text('ETA:  0:00:00');"
       ],
       "metadata": {},
       "output_type": "display_data",
       "text": [
        "<IPython.core.display.Javascript at 0x99d24860>"
       ]
      },
      {
       "javascript": [
        "$('div#c9d7f753-d7e9-489d-a902-95ab0e6fcdfc').text('272 of 318');"
       ],
       "metadata": {},
       "output_type": "display_data",
       "text": [
        "<IPython.core.display.Javascript at 0x99d24828>"
       ]
      },
      {
       "javascript": [
        "$('div#7333c525-af47-483e-95c3-351000021b4b').text(' 85%');"
       ],
       "metadata": {},
       "output_type": "display_data",
       "text": [
        "<IPython.core.display.Javascript at 0x99d24780>"
       ]
      },
      {
       "javascript": [
        "\n",
        "        var $myPB = $(\"div#e2951e64-dc7f-45c7-84ef-08996f42e706\")\n",
        "        if ($myPB.hasClass('ui-progressbar')) {\n",
        "            $myPB.progressbar('value', 272);\n",
        "        } else {\n",
        "            $myPB.progressbar({value: 0, max: 318});\n",
        "        }\n",
        "        "
       ],
       "metadata": {},
       "output_type": "display_data",
       "text": [
        "<IPython.core.display.Javascript at 0x99d24780>"
       ]
      },
      {
       "javascript": [
        "$('div#f34d1b86-0894-459d-8d3d-3456a7e9a623').text('ETA:  0:00:00');"
       ],
       "metadata": {},
       "output_type": "display_data",
       "text": [
        "<IPython.core.display.Javascript at 0x99d24908>"
       ]
      },
      {
       "javascript": [
        "$('div#c9d7f753-d7e9-489d-a902-95ab0e6fcdfc').text('276 of 318');"
       ],
       "metadata": {},
       "output_type": "display_data",
       "text": [
        "<IPython.core.display.Javascript at 0x99d24a58>"
       ]
      },
      {
       "javascript": [
        "$('div#7333c525-af47-483e-95c3-351000021b4b').text(' 86%');"
       ],
       "metadata": {},
       "output_type": "display_data",
       "text": [
        "<IPython.core.display.Javascript at 0x99d24240>"
       ]
      },
      {
       "javascript": [
        "\n",
        "        var $myPB = $(\"div#e2951e64-dc7f-45c7-84ef-08996f42e706\")\n",
        "        if ($myPB.hasClass('ui-progressbar')) {\n",
        "            $myPB.progressbar('value', 276);\n",
        "        } else {\n",
        "            $myPB.progressbar({value: 0, max: 318});\n",
        "        }\n",
        "        "
       ],
       "metadata": {},
       "output_type": "display_data",
       "text": [
        "<IPython.core.display.Javascript at 0x902df2e8>"
       ]
      },
      {
       "javascript": [
        "$('div#f34d1b86-0894-459d-8d3d-3456a7e9a623').text('ETA:  0:00:00');"
       ],
       "metadata": {},
       "output_type": "display_data",
       "text": [
        "<IPython.core.display.Javascript at 0x99d24240>"
       ]
      },
      {
       "javascript": [
        "$('div#c9d7f753-d7e9-489d-a902-95ab0e6fcdfc').text('280 of 318');"
       ],
       "metadata": {},
       "output_type": "display_data",
       "text": [
        "<IPython.core.display.Javascript at 0x99d241d0>"
       ]
      },
      {
       "javascript": [
        "$('div#7333c525-af47-483e-95c3-351000021b4b').text(' 88%');"
       ],
       "metadata": {},
       "output_type": "display_data",
       "text": [
        "<IPython.core.display.Javascript at 0x99d24940>"
       ]
      },
      {
       "javascript": [
        "\n",
        "        var $myPB = $(\"div#e2951e64-dc7f-45c7-84ef-08996f42e706\")\n",
        "        if ($myPB.hasClass('ui-progressbar')) {\n",
        "            $myPB.progressbar('value', 280);\n",
        "        } else {\n",
        "            $myPB.progressbar({value: 0, max: 318});\n",
        "        }\n",
        "        "
       ],
       "metadata": {},
       "output_type": "display_data",
       "text": [
        "<IPython.core.display.Javascript at 0x99d24940>"
       ]
      },
      {
       "javascript": [
        "$('div#f34d1b86-0894-459d-8d3d-3456a7e9a623').text('ETA:  0:00:00');"
       ],
       "metadata": {},
       "output_type": "display_data",
       "text": [
        "<IPython.core.display.Javascript at 0x99d247f0>"
       ]
      },
      {
       "javascript": [
        "$('div#c9d7f753-d7e9-489d-a902-95ab0e6fcdfc').text('284 of 318');"
       ],
       "metadata": {},
       "output_type": "display_data",
       "text": [
        "<IPython.core.display.Javascript at 0x99d24780>"
       ]
      },
      {
       "javascript": [
        "$('div#7333c525-af47-483e-95c3-351000021b4b').text(' 89%');"
       ],
       "metadata": {},
       "output_type": "display_data",
       "text": [
        "<IPython.core.display.Javascript at 0x99d24a58>"
       ]
      },
      {
       "javascript": [
        "\n",
        "        var $myPB = $(\"div#e2951e64-dc7f-45c7-84ef-08996f42e706\")\n",
        "        if ($myPB.hasClass('ui-progressbar')) {\n",
        "            $myPB.progressbar('value', 284);\n",
        "        } else {\n",
        "            $myPB.progressbar({value: 0, max: 318});\n",
        "        }\n",
        "        "
       ],
       "metadata": {},
       "output_type": "display_data",
       "text": [
        "<IPython.core.display.Javascript at 0x902df2e8>"
       ]
      },
      {
       "javascript": [
        "$('div#f34d1b86-0894-459d-8d3d-3456a7e9a623').text('ETA:  0:00:00');"
       ],
       "metadata": {},
       "output_type": "display_data",
       "text": [
        "<IPython.core.display.Javascript at 0x99d24a58>"
       ]
      },
      {
       "javascript": [
        "$('div#c9d7f753-d7e9-489d-a902-95ab0e6fcdfc').text('288 of 318');"
       ],
       "metadata": {},
       "output_type": "display_data",
       "text": [
        "<IPython.core.display.Javascript at 0x99d241d0>"
       ]
      },
      {
       "javascript": [
        "$('div#7333c525-af47-483e-95c3-351000021b4b').text(' 90%');"
       ],
       "metadata": {},
       "output_type": "display_data",
       "text": [
        "<IPython.core.display.Javascript at 0x99d24860>"
       ]
      },
      {
       "javascript": [
        "\n",
        "        var $myPB = $(\"div#e2951e64-dc7f-45c7-84ef-08996f42e706\")\n",
        "        if ($myPB.hasClass('ui-progressbar')) {\n",
        "            $myPB.progressbar('value', 288);\n",
        "        } else {\n",
        "            $myPB.progressbar({value: 0, max: 318});\n",
        "        }\n",
        "        "
       ],
       "metadata": {},
       "output_type": "display_data",
       "text": [
        "<IPython.core.display.Javascript at 0x99d24860>"
       ]
      },
      {
       "javascript": [
        "$('div#f34d1b86-0894-459d-8d3d-3456a7e9a623').text('ETA:  0:00:00');"
       ],
       "metadata": {},
       "output_type": "display_data",
       "text": [
        "<IPython.core.display.Javascript at 0x99d24908>"
       ]
      },
      {
       "javascript": [
        "$('div#c9d7f753-d7e9-489d-a902-95ab0e6fcdfc').text('292 of 318');"
       ],
       "metadata": {},
       "output_type": "display_data",
       "text": [
        "<IPython.core.display.Javascript at 0x99d24828>"
       ]
      },
      {
       "javascript": [
        "$('div#7333c525-af47-483e-95c3-351000021b4b').text(' 91%');"
       ],
       "metadata": {},
       "output_type": "display_data",
       "text": [
        "<IPython.core.display.Javascript at 0x99d24780>"
       ]
      },
      {
       "javascript": [
        "\n",
        "        var $myPB = $(\"div#e2951e64-dc7f-45c7-84ef-08996f42e706\")\n",
        "        if ($myPB.hasClass('ui-progressbar')) {\n",
        "            $myPB.progressbar('value', 292);\n",
        "        } else {\n",
        "            $myPB.progressbar({value: 0, max: 318});\n",
        "        }\n",
        "        "
       ],
       "metadata": {},
       "output_type": "display_data",
       "text": [
        "<IPython.core.display.Javascript at 0x902df2e8>"
       ]
      },
      {
       "javascript": [
        "$('div#f34d1b86-0894-459d-8d3d-3456a7e9a623').text('ETA:  0:00:00');"
       ],
       "metadata": {},
       "output_type": "display_data",
       "text": [
        "<IPython.core.display.Javascript at 0x99d24780>"
       ]
      },
      {
       "javascript": [
        "$('div#c9d7f753-d7e9-489d-a902-95ab0e6fcdfc').text('296 of 318');"
       ],
       "metadata": {},
       "output_type": "display_data",
       "text": [
        "<IPython.core.display.Javascript at 0x99d241d0>"
       ]
      },
      {
       "javascript": [
        "$('div#7333c525-af47-483e-95c3-351000021b4b').text(' 93%');"
       ],
       "metadata": {},
       "output_type": "display_data",
       "text": [
        "<IPython.core.display.Javascript at 0x99d24240>"
       ]
      },
      {
       "javascript": [
        "\n",
        "        var $myPB = $(\"div#e2951e64-dc7f-45c7-84ef-08996f42e706\")\n",
        "        if ($myPB.hasClass('ui-progressbar')) {\n",
        "            $myPB.progressbar('value', 296);\n",
        "        } else {\n",
        "            $myPB.progressbar({value: 0, max: 318});\n",
        "        }\n",
        "        "
       ],
       "metadata": {},
       "output_type": "display_data",
       "text": [
        "<IPython.core.display.Javascript at 0x99d24240>"
       ]
      },
      {
       "javascript": [
        "$('div#f34d1b86-0894-459d-8d3d-3456a7e9a623').text('ETA:  0:00:00');"
       ],
       "metadata": {},
       "output_type": "display_data",
       "text": [
        "<IPython.core.display.Javascript at 0x99d247f0>"
       ]
      },
      {
       "javascript": [
        "$('div#c9d7f753-d7e9-489d-a902-95ab0e6fcdfc').text('300 of 318');"
       ],
       "metadata": {},
       "output_type": "display_data",
       "text": [
        "<IPython.core.display.Javascript at 0x99d24860>"
       ]
      },
      {
       "javascript": [
        "$('div#7333c525-af47-483e-95c3-351000021b4b').text(' 94%');"
       ],
       "metadata": {},
       "output_type": "display_data",
       "text": [
        "<IPython.core.display.Javascript at 0x99d24828>"
       ]
      },
      {
       "javascript": [
        "\n",
        "        var $myPB = $(\"div#e2951e64-dc7f-45c7-84ef-08996f42e706\")\n",
        "        if ($myPB.hasClass('ui-progressbar')) {\n",
        "            $myPB.progressbar('value', 300);\n",
        "        } else {\n",
        "            $myPB.progressbar({value: 0, max: 318});\n",
        "        }\n",
        "        "
       ],
       "metadata": {},
       "output_type": "display_data",
       "text": [
        "<IPython.core.display.Javascript at 0x902df2e8>"
       ]
      },
      {
       "javascript": [
        "$('div#f34d1b86-0894-459d-8d3d-3456a7e9a623').text('ETA:  0:00:00');"
       ],
       "metadata": {},
       "output_type": "display_data",
       "text": [
        "<IPython.core.display.Javascript at 0x99d24828>"
       ]
      },
      {
       "javascript": [
        "$('div#c9d7f753-d7e9-489d-a902-95ab0e6fcdfc').text('304 of 318');"
       ],
       "metadata": {},
       "output_type": "display_data",
       "text": [
        "<IPython.core.display.Javascript at 0x99d241d0>"
       ]
      },
      {
       "javascript": [
        "$('div#7333c525-af47-483e-95c3-351000021b4b').text(' 95%');"
       ],
       "metadata": {},
       "output_type": "display_data",
       "text": [
        "<IPython.core.display.Javascript at 0x99d24a58>"
       ]
      },
      {
       "javascript": [
        "\n",
        "        var $myPB = $(\"div#e2951e64-dc7f-45c7-84ef-08996f42e706\")\n",
        "        if ($myPB.hasClass('ui-progressbar')) {\n",
        "            $myPB.progressbar('value', 304);\n",
        "        } else {\n",
        "            $myPB.progressbar({value: 0, max: 318});\n",
        "        }\n",
        "        "
       ],
       "metadata": {},
       "output_type": "display_data",
       "text": [
        "<IPython.core.display.Javascript at 0x99d24a58>"
       ]
      },
      {
       "javascript": [
        "$('div#f34d1b86-0894-459d-8d3d-3456a7e9a623').text('ETA:  0:00:00');"
       ],
       "metadata": {},
       "output_type": "display_data",
       "text": [
        "<IPython.core.display.Javascript at 0x99d24908>"
       ]
      },
      {
       "javascript": [
        "$('div#c9d7f753-d7e9-489d-a902-95ab0e6fcdfc').text('308 of 318');"
       ],
       "metadata": {},
       "output_type": "display_data",
       "text": [
        "<IPython.core.display.Javascript at 0x99d24240>"
       ]
      },
      {
       "javascript": [
        "$('div#7333c525-af47-483e-95c3-351000021b4b').text(' 96%');"
       ],
       "metadata": {},
       "output_type": "display_data",
       "text": [
        "<IPython.core.display.Javascript at 0x99d24860>"
       ]
      },
      {
       "javascript": [
        "\n",
        "        var $myPB = $(\"div#e2951e64-dc7f-45c7-84ef-08996f42e706\")\n",
        "        if ($myPB.hasClass('ui-progressbar')) {\n",
        "            $myPB.progressbar('value', 308);\n",
        "        } else {\n",
        "            $myPB.progressbar({value: 0, max: 318});\n",
        "        }\n",
        "        "
       ],
       "metadata": {},
       "output_type": "display_data",
       "text": [
        "<IPython.core.display.Javascript at 0x902df2e8>"
       ]
      },
      {
       "javascript": [
        "$('div#f34d1b86-0894-459d-8d3d-3456a7e9a623').text('ETA:  0:00:00');"
       ],
       "metadata": {},
       "output_type": "display_data",
       "text": [
        "<IPython.core.display.Javascript at 0x99d24860>"
       ]
      },
      {
       "javascript": [
        "$('div#c9d7f753-d7e9-489d-a902-95ab0e6fcdfc').text('312 of 318');"
       ],
       "metadata": {},
       "output_type": "display_data",
       "text": [
        "<IPython.core.display.Javascript at 0x99d241d0>"
       ]
      },
      {
       "javascript": [
        "$('div#7333c525-af47-483e-95c3-351000021b4b').text(' 98%');"
       ],
       "metadata": {},
       "output_type": "display_data",
       "text": [
        "<IPython.core.display.Javascript at 0x99d24780>"
       ]
      },
      {
       "javascript": [
        "\n",
        "        var $myPB = $(\"div#e2951e64-dc7f-45c7-84ef-08996f42e706\")\n",
        "        if ($myPB.hasClass('ui-progressbar')) {\n",
        "            $myPB.progressbar('value', 312);\n",
        "        } else {\n",
        "            $myPB.progressbar({value: 0, max: 318});\n",
        "        }\n",
        "        "
       ],
       "metadata": {},
       "output_type": "display_data",
       "text": [
        "<IPython.core.display.Javascript at 0x99d24780>"
       ]
      },
      {
       "javascript": [
        "$('div#f34d1b86-0894-459d-8d3d-3456a7e9a623').text('ETA:  0:00:00');"
       ],
       "metadata": {},
       "output_type": "display_data",
       "text": [
        "<IPython.core.display.Javascript at 0x99d247f0>"
       ]
      },
      {
       "javascript": [
        "$('div#c9d7f753-d7e9-489d-a902-95ab0e6fcdfc').text('316 of 318');"
       ],
       "metadata": {},
       "output_type": "display_data",
       "text": [
        "<IPython.core.display.Javascript at 0x99d24a58>"
       ]
      },
      {
       "javascript": [
        "$('div#7333c525-af47-483e-95c3-351000021b4b').text(' 99%');"
       ],
       "metadata": {},
       "output_type": "display_data",
       "text": [
        "<IPython.core.display.Javascript at 0x99d24240>"
       ]
      },
      {
       "javascript": [
        "\n",
        "        var $myPB = $(\"div#e2951e64-dc7f-45c7-84ef-08996f42e706\")\n",
        "        if ($myPB.hasClass('ui-progressbar')) {\n",
        "            $myPB.progressbar('value', 316);\n",
        "        } else {\n",
        "            $myPB.progressbar({value: 0, max: 318});\n",
        "        }\n",
        "        "
       ],
       "metadata": {},
       "output_type": "display_data",
       "text": [
        "<IPython.core.display.Javascript at 0x902df2e8>"
       ]
      },
      {
       "javascript": [
        "$('div#f34d1b86-0894-459d-8d3d-3456a7e9a623').text('ETA:  0:00:00');"
       ],
       "metadata": {},
       "output_type": "display_data",
       "text": [
        "<IPython.core.display.Javascript at 0x99d24240>"
       ]
      },
      {
       "javascript": [
        "$('div#c9d7f753-d7e9-489d-a902-95ab0e6fcdfc').text('318 of 318');"
       ],
       "metadata": {},
       "output_type": "display_data",
       "text": [
        "<IPython.core.display.Javascript at 0x99d24940>"
       ]
      },
      {
       "javascript": [
        "$('div#7333c525-af47-483e-95c3-351000021b4b').text('100%');"
       ],
       "metadata": {},
       "output_type": "display_data",
       "text": [
        "<IPython.core.display.Javascript at 0x99d241d0>"
       ]
      },
      {
       "javascript": [
        "\n",
        "        var $myPB = $(\"div#e2951e64-dc7f-45c7-84ef-08996f42e706\")\n",
        "        if ($myPB.hasClass('ui-progressbar')) {\n",
        "            $myPB.progressbar('value', 318);\n",
        "        } else {\n",
        "            $myPB.progressbar({value: 0, max: 318});\n",
        "        }\n",
        "        "
       ],
       "metadata": {},
       "output_type": "display_data",
       "text": [
        "<IPython.core.display.Javascript at 0x99d241d0>"
       ]
      },
      {
       "javascript": [
        "$('div#f34d1b86-0894-459d-8d3d-3456a7e9a623').text('Time: 0:00:00');"
       ],
       "metadata": {},
       "output_type": "display_data",
       "text": [
        "<IPython.core.display.Javascript at 0x99d24a58>"
       ]
      },
      {
       "javascript": [
        "var element = document.getElementById('44366fcc-d262-4de1-9eaa-ba2faf11e508');\n",
        "                    var parent = element.parentNode\n",
        "                    parent.removeChild(element);\n",
        "                    parent.parentElement.remove();"
       ],
       "metadata": {},
       "output_type": "display_data",
       "text": [
        "<IPython.core.display.Javascript at 0x99d24898>"
       ]
      },
      {
       "javascript": [
        "this.cleanProgressBar(['44366fcc-d262-4de1-9eaa-ba2faf11e508', 'c9d7f753-d7e9-489d-a902-95ab0e6fcdfc', '7333c525-af47-483e-95c3-351000021b4b', 'e2951e64-dc7f-45c7-84ef-08996f42e706', 'f34d1b86-0894-459d-8d3d-3456a7e9a623'])"
       ],
       "metadata": {},
       "output_type": "display_data",
       "text": [
        "<IPython.core.display.Javascript at 0x99d247f0>"
       ]
      }
     ],
     "prompt_number": 31
    },
    {
     "cell_type": "code",
     "collapsed": false,
     "input": [
      "from IPython.display import HTML\n",
      "\n",
      "\n",
      "\n",
      "col = []\n",
      "# for c in colloc:\n",
      "#     print flatten_collocation(c[0])\n",
      "    \n",
      "for i in range(len(colloc[0])):\n",
      "    row = [\" <-> \".join(c[i]) for c in colloc]\n",
      "#     print row\n",
      "    col.append(row)\n",
      "\n",
      "# col\n",
      "# c1_1=[\" <-> \".join(c) for c in c1]\n",
      "HTML(mun.json2html(col))"
     ],
     "language": "python",
     "metadata": {},
     "outputs": [
      {
       "html": [
        "<table><tr><td>1</td><td><table><tr><td>1</td><td>Contracting <-> Parties</td></tr><tr><td>2</td><td>Civilian <-> Persons</td></tr><tr><td>3</td><td>High <-> Contracting <-> Parties</td></tr><tr><td>4</td><td>economic <-> social <-> cultural</td></tr></table></td></tr><tr><td>2</td><td><table><tr><td>1</td><td>High <-> Contracting</td></tr><tr><td>2</td><td>Persons <-> Time</td></tr><tr><td>3</td><td>tax <-> revenues <-> due</td></tr><tr><td>4</td><td>Burkina <-> Faso <-> Burundi</td></tr></table></td></tr><tr><td>3</td><td><table><tr><td>1</td><td>civil <-> political</td></tr><tr><td>2</td><td>Protection <-> Civilian</td></tr><tr><td>3</td><td>civil <-> political <-> economic</td></tr><tr><td>4</td><td>political <-> economic <-> social</td></tr></table></td></tr><tr><td>4</td><td><table><tr><td>1</td><td>inter <-> alia</td></tr><tr><td>2</td><td>Time <-> War</td></tr><tr><td>3</td><td>article <-> common <-> four</td></tr><tr><td>4</td><td>Andorra <-> Antigua <-> Barbuda</td></tr></table></td></tr><tr><td>5</td><td><table><tr><td>1</td><td>public <-> services</td></tr><tr><td>2</td><td>relative <-> Protection</td></tr><tr><td>3</td><td>political <-> economic <-> social</td></tr><tr><td>4</td><td>Barbuda <-> Argentina <-> Armenia</td></tr></table></td></tr><tr><td>6</td><td><table><tr><td>1</td><td>revenues <-> due</td></tr><tr><td>2</td><td>Gaza <-> Strip</td></tr><tr><td>3</td><td>vital <-> public <-> services</td></tr><tr><td>4</td><td>Belgium <-> Belize <-> Benin</td></tr></table></td></tr><tr><td>7</td><td><table><tr><td>1</td><td>tax <-> revenues</td></tr><tr><td>2</td><td>Practices <-> Affecting</td></tr><tr><td>3</td><td>Bulgaria <-> Burkina <-> Faso</td></tr><tr><td>4</td><td>Bolivia <-> Bosnia <-> Herzegovina</td></tr></table></td></tr><tr><td>8</td><td><table><tr><td>1</td><td>Bearing <-> mind</td></tr><tr><td>2</td><td>Saudi <-> Arabia</td></tr><tr><td>3</td><td>air <-> raids <-> sonic</td></tr><tr><td>4</td><td>Congo <-> Costa <-> Rica</td></tr></table></td></tr><tr><td>9</td><td><table><tr><td>1</td><td>Beit <-> Hanoun</td></tr><tr><td>2</td><td>Brunei <-> Darussalam</td></tr><tr><td>3</td><td>areas <-> air <-> raids</td></tr><tr><td>4</td><td>Eritrea <-> Estonia <-> Ethiopia</td></tr></table></td></tr><tr><td>10</td><td><table><tr><td>1</td><td>Burkina <-> Faso</td></tr><tr><td>2</td><td>South <-> Africa</td></tr><tr><td>3</td><td>booms <-> firing <-> rockets</td></tr><tr><td>4</td><td>Ethiopia <-> Finland <-> France</td></tr></table></td></tr><tr><td>11</td><td><table><tr><td>1</td><td>air <-> raids</td></tr><tr><td>2</td><td>Venezuela <-> Bolivarian</td></tr><tr><td>3</td><td>form <-> national <-> unity</td></tr><tr><td>4</td><td>Gabon <-> Georgia <-> Germany</td></tr></table></td></tr><tr><td>12</td><td><table><tr><td>1</td><td>deploring <-> killing</td></tr><tr><td>2</td><td>advisory <-> opinion</td></tr><tr><td>3</td><td>national <-> unity <-> government</td></tr><tr><td>4</td><td>Grenadines <-> San <-> Marino</td></tr></table></td></tr><tr><td>13</td><td><table><tr><td>1</td><td>economic <-> social</td></tr><tr><td>2</td><td>Sri <-> Lanka</td></tr><tr><td>3</td><td>unity <-> government <-> working</td></tr><tr><td>4</td><td>Herzegovina <-> Botswana <-> Brazil</td></tr></table></td></tr><tr><td>14</td><td><table><tr><td>1</td><td>firing <-> rockets</td></tr><tr><td>2</td><td>Trinidad <-> Tobago</td></tr><tr><td>3</td><td>contained <-> following <-> changes</td></tr><tr><td>4</td><td>Honduras <-> Hungary <-> Iceland</td></tr></table></td></tr><tr><td>15</td><td><table><tr><td>1</td><td>form <-> national</td></tr><tr><td>2</td><td>free <-> democratic</td></tr><tr><td>3</td><td>severe <-> closures <-> restrictions</td></tr><tr><td>4</td><td>Mauritius <-> Mexico <-> Moldova</td></tr></table></td></tr><tr><td>16</td><td><table><tr><td>1</td><td>government <-> working</td></tr><tr><td>2</td><td>road <-> map</td></tr><tr><td>3</td><td>tenth <-> emergency <-> special</td></tr><tr><td>4</td><td>Pakistan <-> Panama <-> Paraguay</td></tr></table></td></tr><tr><td>17</td><td><table><tr><td>1</td><td>Taking <-> note</td></tr><tr><td>2</td><td>Antigua <-> Barbuda</td></tr><tr><td>3</td><td>economic <-> social <-> cultural</td></tr><tr><td>4</td><td>Serbia <-> Sierra <-> Leone</td></tr></table></td></tr><tr><td>18</td><td><table><tr><td>1</td><td>article <-> common</td></tr><tr><td>2</td><td>Argentina <-> Armenia</td></tr><tr><td>3</td><td>northern <-> West <-> Bank</td></tr><tr><td>4</td><td>Singapore <-> Slovakia <-> Slovenia</td></tr></table></td></tr><tr><td>19</td><td><table><tr><td>1</td><td>common <-> four</td></tr><tr><td>2</td><td>Barbados <-> Belarus</td></tr><tr><td>3</td><td>parts <-> northern <-> West</td></tr><tr><td>4</td><td>Suriname <-> Sweden <-> Switzerland</td></tr></table></td></tr><tr><td>20</td><td><table><tr><td>1</td><td>detrimental <-> impact</td></tr><tr><td>2</td><td>Belize <-> Benin</td></tr><tr><td>3</td><td>raids <-> sonic <-> booms</td></tr><tr><td>4</td><td>Tajikistan <-> Thailand <-> former</td></tr></table></td></tr></table>"
       ],
       "metadata": {},
       "output_type": "pyout",
       "prompt_number": 49,
       "text": [
        "<IPython.core.display.HTML at 0x99f3bf28>"
       ]
      }
     ],
     "prompt_number": 49
    }
   ],
   "metadata": {}
  }
 ]
}