{
 "metadata": {
  "name": "",
  "signature": "sha256:3fafc57d8df8c2af0107d7d2e395552c79c22244e8b65623cf5854b9c3a17f6a"
 },
 "nbformat": 3,
 "nbformat_minor": 0,
 "worksheets": [
  {
   "cells": [
    {
     "cell_type": "heading",
     "level": 1,
     "metadata": {},
     "source": [
      "Combine Doc Map and Scrape"
     ]
    },
    {
     "cell_type": "markdown",
     "metadata": {},
     "source": [
      "This module reads the docmap generated from the corpus with the information obtained from the scrape of the UN database into a single json map file.\n",
      "\n",
      "Source Files:\n",
      "* **docmap.zip**\n",
      "* **completed_scrape.zip**\n",
      "\n",
      "Target File: **MUN_MAP.zip**"
     ]
    },
    {
     "cell_type": "heading",
     "level": 2,
     "metadata": {},
     "source": [
      "Load source files from zip archives"
     ]
    },
    {
     "cell_type": "code",
     "collapsed": false,
     "input": [
      "import json, zipfile\n",
      "docmap_zip = zipfile.ZipFile('../docmap.zip')\n",
      "scrape_zip = zipfile.ZipFile('../scrape/completed_scrape.zip')\n",
      "# file = zip.read('text1.txt')\n",
      "docmap = json.loads(docmap_zip.read('docmap.json','rb'))\n",
      "scrape = json.loads(scrape_zip.read('completed_scrape.json','rb'))"
     ],
     "language": "python",
     "metadata": {},
     "outputs": [],
     "prompt_number": 1
    },
    {
     "cell_type": "heading",
     "level": 2,
     "metadata": {},
     "source": [
      "Preview docmap format"
     ]
    },
    {
     "cell_type": "code",
     "collapsed": false,
     "input": [
      "for d in docmap:\n",
      "    print d, json.dumps(docmap[d], indent=4)\n",
      "    break"
     ],
     "language": "python",
     "metadata": {},
     "outputs": [
      {
       "output_type": "stream",
       "stream": "stdout",
       "text": [
        "multiUN.en\\un\\xml\\en\\2006\\A_61_408-en.xml {\n",
        "    \"content\": [], \n",
        "    \"attributes\": {\n",
        "        \"lang\": \"English\", \n",
        "        \"date\": \"2006/10/03\", \n",
        "        \"n\": \"N0654840\", \n",
        "        \"id\": \"A/61/408\", \n",
        "        \"path\": \"C:\\\\Users\\\\Hassan\\\\Documents\\\\iSchool\\\\NLP\\\\United Nations\\\\multiUN.en\\\\un\\\\xml\\\\en\\\\2006\\\\A_61_408-en.xml\"\n",
        "    }, \n",
        "    \"links\": [\n",
        "        {\n",
        "            \"value\": 4, \n",
        "            \"key\": \"A/C.4/61/L.18\"\n",
        "        }, \n",
        "        {\n",
        "            \"value\": 4, \n",
        "            \"key\": \"A/ES-10/273\"\n",
        "        }, \n",
        "        {\n",
        "            \"value\": 3, \n",
        "            \"key\": \"A/C.4/61/L.13\"\n",
        "        }, \n",
        "        {\n",
        "            \"value\": 3, \n",
        "            \"key\": \"A/C.4/61/L.14\"\n",
        "        }, \n",
        "        {\n",
        "            \"value\": 3, \n",
        "            \"key\": \"A/C.4/61/L.17\"\n",
        "        }, \n",
        "        {\n",
        "            \"value\": 2, \n",
        "            \"key\": \"A/61/500\"\n",
        "        }, \n",
        "        {\n",
        "            \"value\": 2, \n",
        "            \"key\": \"A/C.4/61/L.15\"\n",
        "        }, \n",
        "        {\n",
        "            \"value\": 2, \n",
        "            \"key\": \"A/C.4/61/L.16\"\n",
        "        }, \n",
        "        {\n",
        "            \"value\": 2, \n",
        "            \"key\": \"S/2003/529\"\n",
        "        }, \n",
        "        {\n",
        "            \"value\": 1, \n",
        "            \"key\": \"A/61/327\"\n",
        "        }, \n",
        "        {\n",
        "            \"value\": 1, \n",
        "            \"key\": \"A/61/328\"\n",
        "        }, \n",
        "        {\n",
        "            \"value\": 1, \n",
        "            \"key\": \"A/61/329\"\n",
        "        }, \n",
        "        {\n",
        "            \"value\": 1, \n",
        "            \"key\": \"A/61/330\"\n",
        "        }, \n",
        "        {\n",
        "            \"value\": 1, \n",
        "            \"key\": \"A/61/331\"\n",
        "        }, \n",
        "        {\n",
        "            \"value\": 1, \n",
        "            \"key\": \"A/C.4/61/SR.22\"\n",
        "        }, \n",
        "        {\n",
        "            \"value\": 1, \n",
        "            \"key\": \"A/C.4/61/SR.25\"\n",
        "        }, \n",
        "        {\n",
        "            \"value\": 1, \n",
        "            \"key\": \"A/C.4/61/SR.27\"\n",
        "        }, \n",
        "        {\n",
        "            \"value\": 1, \n",
        "            \"key\": \"E/CN.4/2006/29\"\n",
        "        }\n",
        "    ]\n",
        "}\n"
       ]
      }
     ],
     "prompt_number": 2
    },
    {
     "cell_type": "markdown",
     "metadata": {},
     "source": [
      "Convert scrape map to dictionary to make mapping easier"
     ]
    },
    {
     "cell_type": "code",
     "collapsed": false,
     "input": [
      "# scrape_map = dict(scrape)\n",
      "scrape_map = dict([ (s[1], {'name': s[0], \n",
      "                            'n':s[1], \n",
      "                            'id': s[2], \n",
      "                            'scrape':s[3]}) for s in scrape])\n"
     ],
     "language": "python",
     "metadata": {},
     "outputs": [],
     "prompt_number": 3
    },
    {
     "cell_type": "code",
     "collapsed": false,
     "input": [
      "for s in scrape_map:\n",
      "    if type(scrape_map[s]['scrape']) is not dict:\n",
      "        print s, scrape_map[s]['scrape']\n",
      "        print type( scrape_map[s]['scrape']), len(scrape_map[s])"
     ],
     "language": "python",
     "metadata": {},
     "outputs": [
      {
       "output_type": "stream",
       "stream": "stdout",
       "text": [
        "N0327027 False\n",
        "<type 'bool'> 4\n",
        "N0922346 False\n",
        "<type 'bool'> 4\n",
        "N0928932 False\n",
        "<type 'bool'> 4\n",
        "N0841921 False\n",
        "<type 'bool'> 4\n",
        "G0763555 False\n",
        "<type 'bool'> 4\n",
        "G0860091 False\n",
        "<type 'bool'> 4\n",
        "G0443570 False\n",
        "<type 'bool'> 4\n",
        "G0041890 False\n",
        "<type 'bool'> 4\n"
       ]
      }
     ],
     "prompt_number": 4
    },
    {
     "cell_type": "code",
     "collapsed": false,
     "input": [
      "next(s for s in scrape if s[1]=='N0327027')"
     ],
     "language": "python",
     "metadata": {},
     "outputs": [
      {
       "metadata": {},
       "output_type": "pyout",
       "prompt_number": 5,
       "text": [
        "[u'S_AC40_SR57-en.xml', u'N0327027', u'S/AC.40/SR.57', False]"
       ]
      }
     ],
     "prompt_number": 5
    },
    {
     "cell_type": "heading",
     "level": 2,
     "metadata": {},
     "source": [
      "Preview scrape map"
     ]
    },
    {
     "cell_type": "code",
     "collapsed": false,
     "input": [
      "for s in scrape_map:\n",
      "    print s, json.dumps(scrape_map[s], indent=4)\n",
      "    break"
     ],
     "language": "python",
     "metadata": {},
     "outputs": [
      {
       "output_type": "stream",
       "stream": "stdout",
       "text": [
        "N0752416 {\n",
        "    \"id\": \"CEDAW/C/2008/I/1\", \n",
        "    \"name\": \"CEDAW_C_2008_I_1-en.xml\", \n",
        "    \"scrape\": {\n",
        "        \"jobs\": [\n",
        "            {\n",
        "                \"lang\": \"English\", \n",
        "                \"release_date\": \"23/10/2007\", \n",
        "                \"jobno\": \"N0752416\"\n",
        "            }, \n",
        "            {\n",
        "                \"lang\": \"French\", \n",
        "                \"release_date\": \"23/10/2007\", \n",
        "                \"jobno\": \"N0752417\"\n",
        "            }, \n",
        "            {\n",
        "                \"lang\": \"Russian\", \n",
        "                \"release_date\": \"23/10/2007\", \n",
        "                \"jobno\": \"N0752418\"\n",
        "            }, \n",
        "            {\n",
        "                \"lang\": \"Spanish\", \n",
        "                \"release_date\": \"23/10/2007\", \n",
        "                \"jobno\": \"N0752419\"\n",
        "            }, \n",
        "            {\n",
        "                \"lang\": \"Arabic\", \n",
        "                \"release_date\": \"23/10/2007\", \n",
        "                \"jobno\": \"N0752414\"\n",
        "            }, \n",
        "            {\n",
        "                \"lang\": \"Chinese\", \n",
        "                \"release_date\": \"23/10/2007\", \n",
        "                \"jobno\": \"N0752415\"\n",
        "            }\n",
        "        ], \n",
        "        \"Title\": \"PROVISIONAL AGENDA : COMMITTEE ON THE ELIMINATION OF DISCRIMINATION AGAINST WOMEN, 40TH SESSION, 14 JANUARY TO 1 FEBRUARY 2008\", \n",
        "        \"Display PDF File\": [\n",
        "            {\n",
        "                \"lang\": \"English(43.8K)\", \n",
        "                \"link\": \"http://documents-dds-ny.un.org/doc/UNDOC/GEN/N07/524/16/pdf/N0752416.pdf?OpenElement\"\n",
        "            }, \n",
        "            {\n",
        "                \"lang\": \"French(46.8K)\", \n",
        "                \"link\": \"http://documents-dds-ny.un.org/doc/UNDOC/GEN/N07/524/17/pdf/N0752417.pdf?OpenElement\"\n",
        "            }, \n",
        "            {\n",
        "                \"lang\": \"Russian(189.3K)\", \n",
        "                \"link\": \"http://documents-dds-ny.un.org/doc/UNDOC/GEN/N07/524/18/pdf/N0752418.pdf?OpenElement\"\n",
        "            }, \n",
        "            {\n",
        "                \"lang\": \"Spanish(46.3K)\", \n",
        "                \"link\": \"http://documents-dds-ny.un.org/doc/UNDOC/GEN/N07/524/19/pdf/N0752419.pdf?OpenElement\"\n",
        "            }, \n",
        "            {\n",
        "                \"lang\": \"Arabic(117.3K)\", \n",
        "                \"link\": \"http://documents-dds-ny.un.org/doc/UNDOC/GEN/N07/524/14/pdf/N0752414.pdf?OpenElement\"\n",
        "            }, \n",
        "            {\n",
        "                \"lang\": \"Chinese(138.2K)\", \n",
        "                \"link\": \"http://documents-dds-ny.un.org/doc/UNDOC/GEN/N07/524/15/pdf/N0752415.pdf?OpenElement\"\n",
        "            }\n",
        "        ], \n",
        "        \"ODS\": \"CEDAW/C/2008/I/1\", \n",
        "        \"Download File\": [\n",
        "            {\n",
        "                \"lang\": \"English(168K)(WORD6)\", \n",
        "                \"link\": \"http://documents-dds-ny.un.org/doc/UNDOC/GEN/N07/524/16/doc/N0752416.DOC?OpenElement\"\n",
        "            }, \n",
        "            {\n",
        "                \"lang\": \"French(179K)(WORD6)\", \n",
        "                \"link\": \"http://documents-dds-ny.un.org/doc/UNDOC/GEN/N07/524/17/doc/N0752417.DOC?OpenElement\"\n",
        "            }, \n",
        "            {\n",
        "                \"lang\": \"Russian(198.5K)(WORD6)\", \n",
        "                \"link\": \"http://documents-dds-ny.un.org/doc/UNDOC/GEN/N07/524/18/doc/N0752418.DOC?OpenElement\"\n",
        "            }, \n",
        "            {\n",
        "                \"lang\": \"Spanish(172.5K)(WORD6)\", \n",
        "                \"link\": \"http://documents-dds-ny.un.org/doc/UNDOC/GEN/N07/524/19/doc/N0752419.DOC?OpenElement\"\n",
        "            }, \n",
        "            {\n",
        "                \"lang\": \"Arabic(284K)(WORD6)\", \n",
        "                \"link\": \"http://documents-dds-ny.un.org/doc/UNDOC/GEN/N07/524/14/doc/N0752414.DOC?OpenElement\"\n",
        "            }, \n",
        "            {\n",
        "                \"lang\": \"Chinese(177.5K)(WORD6)\", \n",
        "                \"link\": \"http://documents-dds-ny.un.org/doc/UNDOC/GEN/N07/524/15/doc/N0752415.DOC?OpenElement\"\n",
        "            }\n",
        "        ], \n",
        "        \"Agenda Items\": \"2\", \n",
        "        \"Session/Year\": \"40\", \n",
        "        \"Distribution\": \"GEN\", \n",
        "        \"Area\": \"UNDOC\", \n",
        "        \"Symbol\": \"CEDAW/C/2008/I/1\", \n",
        "        \"Publication date\": \"1/10/2007\"\n",
        "    }, \n",
        "    \"n\": \"N0752416\"\n",
        "}\n"
       ]
      }
     ],
     "prompt_number": 6
    },
    {
     "cell_type": "heading",
     "level": 2,
     "metadata": {},
     "source": [
      "Combine both files into one"
     ]
    },
    {
     "cell_type": "code",
     "collapsed": false,
     "input": [
      "for doc in docmap:\n",
      "    n = docmap[doc]['attributes']['n']\n",
      "    if n in scrape_map and type(scrape_map[n]['scrape']) is not bool:\n",
      "        docmap[doc]['scrape'] = scrape_map[n]['scrape']\n",
      "    else:\n",
      "        docmap[doc]['scrape']={}\n",
      "        print 'missing scrape for ', n, doc\n"
     ],
     "language": "python",
     "metadata": {},
     "outputs": [
      {
       "output_type": "stream",
       "stream": "stdout",
       "text": [
        "missing scrape for  G0542110 multiUN.en\\un\\xml\\en\\2005\\CCPR_C_83_D_1099_2002-en.xml\n",
        "missing scrape for  G0940874 multiUN.en\\un\\xml\\en\\2009\\CAT_C_TUR_Q_3-en.xml\n",
        "missing scrape for  N0736993 multiUN.en\\un\\xml\\en\\2007\\PBC_1_OC_SR8-en.xml\n",
        "missing scrape for  G0046203 multiUN.en\\un\\xml\\en\\2000\\CCPR_C_70_D_808_1998-en.xml\n",
        "missing scrape for  G0861842 multiUN.en\\un\\xml\\en\\2008\\CD_WP549_ADD2-en.xml\n",
        "missing scrape for  G0863951 multiUN.en\\un\\xml\\en\\2008\\CCW_GGE_2008-V_WP1_ADD1-en.xml\n",
        "missing scrape for  G0961371 multiUN.en\\un\\xml\\en\\2009\\APLC_CONF_2009_PM1_CRP1-en.xml\n",
        "missing scrape for  G0961496 multiUN.en\\un\\xml\\en\\2009\\CD_WP551_ADD7-en.xml\n",
        "missing scrape for  N0434146 multiUN.en\\un\\xml\\en\\2004\\S_2004_356-en.xml\n",
        "missing scrape for  G0043043 multiUN.en\\un\\xml\\en\\2000\\CAT_C_24_D_99_1997-en.xml\n",
        "missing scrape for  G0863721 multiUN.en\\un\\xml\\en\\2008\\CCW_GGE_2008-V_WP1-en.xml\n",
        "missing scrape for  G0913619 multiUN.en\\un\\xml\\en\\2009\\A_HRC_11_25-en.xml\n",
        "missing scrape for  G0970015 multiUN.en\\un\\xml\\en\\2009\\FCCC_2009_I_OD_7-en.xml\n",
        "missing scrape for  N0520675 multiUN.en\\un\\xml\\en\\2005\\S_2005_21-en.xml\n",
        "missing scrape for  G0862337 multiUN.en\\un\\xml\\en\\2008\\CD_WP547_ADD6-en.xml\n",
        "missing scrape for  G0970005 multiUN.en\\un\\xml\\en\\2009\\FCCC_2009_I_OD_2-en.xml\n",
        "missing scrape for  B070860 multiUN.en\\un\\xml\\en\\2007\\E_ESCAP_APDDP2_INF_2-en.xml\n",
        "missing scrape for  G0970013 multiUN.en\\un\\xml\\en\\2009\\FCCC_2009_I_OD_6-en.xml\n",
        "missing scrape for  K0950017 multiUN.en\\un\\xml\\en\\2009\\UNEP_POPS_COP4_37_ADD1-en.xml\n",
        "missing scrape for  G0643368 multiUN.en\\un\\xml\\en\\2006\\CCPR_C_SR2396-en.xml\n",
        "missing scrape for  G0040511 multiUN.en\\un\\xml\\en\\2000\\CERD_C_55_D_6_1995-en.xml\n",
        "missing scrape for "
       ]
      },
      {
       "output_type": "stream",
       "stream": "stdout",
       "text": [
        " N0939776 multiUN.en\\un\\xml\\en\\2009\\S_AC40_SR220-en.xml\n",
        "missing scrape for  G0960110 multiUN.en\\un\\xml\\en\\2009\\CD_WP551_ADD1-en.xml\n",
        "missing scrape for  N0327027 multiUN.en\\un\\xml\\en\\2003\\S_AC40_SR57-en.xml\n",
        "missing scrape for  G942167 multiUN.en\\un\\xml\\en\\2009\\E_C12_2009_SR8-en.xml\n",
        "missing scrape for  G0441197 multiUN.en\\un\\xml\\en\\2004\\CCPR_C_80_D_1214_2003-en.xml\n",
        "missing scrape for  N0545724 multiUN.en\\un\\xml\\en\\2005\\A_59_HLPM_CRP1_REV2-en.xml\n",
        "missing scrape for  G0963512 multiUN.en\\un\\xml\\en\\2009\\CD_WP554-en.xml\n",
        "missing scrape for  N0327039 multiUN.en\\un\\xml\\en\\2003\\S_AC40_SR57_ADD1-en.xml\n",
        "missing scrape for  G0860491 multiUN.en\\un\\xml\\en\\2008\\CD_WP549_ADD1-en.xml\n",
        "missing scrape for  G0914806 multiUN.en\\un\\xml\\en\\2009\\A_HRC_12_42-en.xml\n",
        "missing scrape for  G0246089 multiUN.en\\un\\xml\\en\\2002\\CCPR_C_76_D_1114_2002_REV1-en.xml\n",
        "missing scrape for  G0763555 multiUN.en\\un\\xml\\en\\2007\\CD_WP546_REV1-en.xml\n",
        "missing scrape for  G0963578 multiUN.en\\un\\xml\\en\\2009\\APLC_CONF_2009_PM2_CRP1-en.xml\n",
        "missing scrape for  G0960046 multiUN.en\\un\\xml\\en\\2009\\CD_WP552-en.xml\n",
        "missing scrape for  G0343486 multiUN.en\\un\\xml\\en\\2003\\CCPR_C_78_D_950_2000-en.xml\n",
        "missing scrape for  K0842817 multiUN.en\\un\\xml\\en\\2008\\UNEP_FAO_RC_CRC5_2-en.xml\n",
        "missing scrape for  N0741904 multiUN.en\\un\\xml\\en\\2007\\DP_FPA_DCP_GNQ_5-en.xml\n",
        "missing scrape for  G0940864 multiUN.en\\un\\xml\\en\\2009\\CAT_C_ZAF_Q_2-en.xml\n",
        "missing scrape for  G0960421 multiUN.en\\un\\xml\\en\\2009\\CD_WP551_ADD5-en.xml\n",
        "missing scrape for "
       ]
      },
      {
       "output_type": "stream",
       "stream": "stdout",
       "text": [
        " G0441655 multiUN.en\\un\\xml\\en\\2004\\CCPR_C_80_D_793_1998-en.xml\n",
        "missing scrape for  G0543759 multiUN.en\\un\\xml\\en\\2005\\CCPR_C_84_D_969_2001-en.xml\n",
        "missing scrape for  G0046562 multiUN.en\\un\\xml\\en\\2000\\CCPR_C_70_D_806_1998-en.xml\n",
        "missing scrape for  G0344913 multiUN.en\\un\\xml\\en\\2003\\CCPR_C_79_D_1003_2001-en.xml\n",
        "missing scrape for  G0860091 multiUN.en\\un\\xml\\en\\2008\\CD_WP548-en.xml\n",
        "missing scrape for  G0913598 multiUN.en\\un\\xml\\en\\2009\\A_HRC_11_21-en.xml\n",
        "missing scrape for  B090968 multiUN.en\\un\\xml\\en\\2009\\E_ESCAP_65_1-en.xml\n",
        "missing scrape for  G0913647 multiUN.en\\un\\xml\\en\\2009\\A_HRC_11_30-en.xml\n",
        "missing scrape for  G0944824 multiUN.en\\un\\xml\\en\\2009\\CERD_C_CHL_CO_15-18-en.xml\n",
        "missing scrape for  G0441157 multiUN.en\\un\\xml\\en\\2004\\CCPR_C_80_D_1138_2002-en.xml\n",
        "missing scrape for  G0863944 multiUN.en\\un\\xml\\en\\2008\\CCW_GGE_2008-V_WP2-en.xml\n",
        "missing scrape for  G0642160 multiUN.en\\un\\xml\\en\\2006\\CCPR_C_86_D_1177_2003-en.xml\n",
        "missing scrape for  G0913584 multiUN.en\\un\\xml\\en\\2009\\A_HRC_11_19-en.xml\n",
        "missing scrape for  G0141263 multiUN.en\\un\\xml\\en\\2001\\CERD_C_58_D_15_1999-en.xml\n",
        "missing scrape for  G0244043 multiUN.en\\un\\xml\\en\\2002\\CCPR_C_75_D_940_2000-en.xml\n",
        "missing scrape for  GA160087 multiUN.en\\un\\xml\\en\\2000\\A_S-24_2_ADD2PARTI-en.xml\n",
        "missing scrape for  G0242971 multiUN.en\\un\\xml\\en\\2002\\CCPR_C_74_D_880_1999-en.xml\n",
        "missing scrape for  N0931356 multiUN.en\\un\\xml\\en\\2009\\CCPR_C_SR2623_ADD1-en.xml\n",
        "missing scrape for  G0950648 multiUN.en\\un\\xml\\en\\2009\\TD_B_C5_ORIGIN_182-en.xml\n",
        "missing scrape for  G0041895 multiUN.en\\un\\xml\\en\\2000\\CERD_C_56_D_16_1999-en.xml\n",
        "missing scrape for  G0960156 multiUN.en\\un\\xml\\en\\2009\\CCW_APII_CONF10_INF1_CORR1-en.xml\n",
        "missing scrape for  G0245581 multiUN.en\\un\\xml\\en\\2002\\CCPR_C_76_D_1114_2002-en.xml\n",
        "missing scrape for  G0864123 multiUN.en\\un\\xml\\en\\2008\\CCW_GGE_2008-V_WP1_ADD1_CORR1-en.xml\n",
        "missing scrape for  N0922346 multiUN.en\\un\\xml\\en\\2009\\ICSC_68_R7-en.xml\n",
        "missing scrape for  N0928932 multiUN.en\\un\\xml\\en\\2009\\A_CN2_R729_ADD1-en.xml\n",
        "missing scrape for "
       ]
      },
      {
       "output_type": "stream",
       "stream": "stdout",
       "text": [
        " G0913570 multiUN.en\\un\\xml\\en\\2009\\A_HRC_11_17-en.xml\n",
        "missing scrape for  G0761222 multiUN.en\\un\\xml\\en\\2007\\CCW_GGE_2007_WP1_ADD1-en.xml\n",
        "missing scrape for  G942272 multiUN.en\\un\\xml\\en\\2009\\E_C12_2009_SR12-en.xml\n",
        "missing scrape for  G0441128 multiUN.en\\un\\xml\\en\\2004\\CCPR_C_80_D_1106_2002-en.xml\n",
        "missing scrape for  G0863958 multiUN.en\\un\\xml\\en\\2008\\CCW_GGE_2008-V_WP1_ADD2-en.xml\n",
        "missing scrape for  B040721 multiUN.en\\un\\xml\\en\\2004\\E_ESCAP_BPA_2-en.xml\n",
        "missing scrape for  K0580556 multiUN.en\\un\\xml\\en\\2005\\UNEP_GC_23_3_ADD5_REV1-en.xml\n",
        "missing scrape for  G0344974 multiUN.en\\un\\xml\\en\\2003\\CCPR_C_79_D_798_1998-en.xml\n",
        "missing scrape for  G0970007 multiUN.en\\un\\xml\\en\\2009\\FCCC_2009_I_OD_3-en.xml\n",
        "missing scrape for  G0913577 multiUN.en\\un\\xml\\en\\2009\\A_HRC_11_18-en.xml\n",
        "missing scrape for  G0740401 multiUN.en\\un\\xml\\en\\2007\\CAT_C_SRB_2-en.xml\n",
        "missing scrape for  G0443570 multiUN.en\\un\\xml\\en\\2004\\CCPR_C_81_D_1011_2001-en.xml\n",
        "missing scrape for  G0143919 multiUN.en\\un\\xml\\en\\2001\\CCPR_C_72_D_884_1999-en.xml\n",
        "missing scrape for  G0444495 multiUN.en\\un\\xml\\en\\2004\\CCPR_C_82_D_1188_2003-en.xml\n",
        "missing scrape for  G0963692 multiUN.en\\un\\xml\\en\\2009\\CD_WP554_REV1-en.xml\n",
        "missing scrape for  G0960146 multiUN.en\\un\\xml\\en\\2009\\CD_WP551_ADD2-en.xml\n",
        "missing scrape for  G0641618 multiUN.en\\un\\xml\\en\\2006\\CCPR_C_86_D_1315_2004-en.xml\n",
        "missing scrape for  G0240826 multiUN.en\\un\\xml\\en\\2002\\CERD_C_60_D_20_2000-en.xml\n",
        "missing scrape for  G0344094 multiUN.en\\un\\xml\\en\\2003\\CCPR_C_78_D_933_2000-en.xml\n",
        "missing scrape for  G0810468 multiUN.en\\un\\xml\\en\\2008\\A_HRC_AC1_1_1-en.xml\n",
        "missing scrape for  N0040278 multiUN.en\\un\\xml\\en\\2000\\NPT_CONF2000_WP3-en.xml\n",
        "missing scrape for  N0841921 multiUN.en\\un\\xml\\en\\2008\\CEDAW_C_SR845-en.xml\n",
        "missing scrape for  G0960393 multiUN.en\\un\\xml\\en\\2009\\CD_WP551_ADD4-en.xml\n",
        "missing scrape for  G0970017 multiUN.en\\un\\xml\\en\\2009\\FCCC_2009_I_OD_8-en.xml\n",
        "missing scrape for  N0929577 multiUN.en\\un\\xml\\en\\2009\\E_C2_2009_R2_ADD34-en.xml\n",
        "missing scrape for "
       ]
      },
      {
       "output_type": "stream",
       "stream": "stdout",
       "text": [
        " G0913605 multiUN.en\\un\\xml\\en\\2009\\A_HRC_11_22-en.xml\n",
        "missing scrape for  G0970009 multiUN.en\\un\\xml\\en\\2009\\FCCC_2009_I_OD_4-en.xml\n",
        "missing scrape for  G0344922 multiUN.en\\un\\xml\\en\\2003\\CCPR_C_79_D_1069_2002-en.xml\n",
        "missing scrape for  N0046964 multiUN.en\\un\\xml\\en\\2000\\S_C2_SR98-en.xml\n",
        "missing scrape for  G0141258 multiUN.en\\un\\xml\\en\\2001\\CERD_C_58_D_18_2000-en.xml\n",
        "missing scrape for  G0970019 multiUN.en\\un\\xml\\en\\2009\\FCCC_2009_I_OD_9-en.xml\n",
        "missing scrape for  G0913550 multiUN.en\\un\\xml\\en\\2009\\A_HRC_11_16-en.xml\n",
        "missing scrape for  G0143845 multiUN.en\\un\\xml\\en\\2001\\CCPR_C_72_D_991_2001-en.xml\n",
        "missing scrape for  G0963772 multiUN.en\\un\\xml\\en\\2009\\CD_WP554_REV1_AMEND2-en.xml\n",
        "missing scrape for  G0564342 multiUN.en\\un\\xml\\en\\2005\\CCW_MSP_2005_CRP1-en.xml\n",
        "missing scrape for  G0960328 multiUN.en\\un\\xml\\en\\2009\\CD_WP551_ADD3-en.xml\n",
        "missing scrape for  G0343955 multiUN.en\\un\\xml\\en\\2003\\CCPR_C_78_D_814_1998-en.xml\n",
        "missing scrape for  G0041890 multiUN.en\\un\\xml\\en\\2000\\CERD_C_56_D_17_1999-en.xml\n",
        "missing scrape for  G0960943 multiUN.en\\un\\xml\\en\\2009\\CCW_PV_CONF_2009_WP1-en.xml\n",
        "missing scrape for  N0932102 multiUN.en\\un\\xml\\en\\2009\\A_CN2_R730_ADD2-en.xml\n",
        "missing scrape for  G0960159 multiUN.en\\un\\xml\\en\\2009\\CD_WP553-en.xml\n",
        "missing scrape for  G0913612 multiUN.en\\un\\xml\\en\\2009\\A_HRC_11_24-en.xml\n",
        "missing scrape for  G0940363 multiUN.en\\un\\xml\\en\\2009\\E_C12_COD_5-en.xml\n",
        "missing scrape for  G0960542 multiUN.en\\un\\xml\\en\\2009\\FCCC_2009_I_OD_1-en.xml\n",
        "missing scrape for  G0443548 multiUN.en\\un\\xml\\en\\2004\\CCPR_C_81_D_1272_2004-en.xml\n",
        "missing scrape for  G0970011 multiUN.en\\un\\xml\\en\\2009\\FCCC_2009_I_OD_5-en.xml\n",
        "missing scrape for  G0913591 multiUN.en\\un\\xml\\en\\2009\\A_HRC_11_26-en.xml\n"
       ]
      }
     ],
     "prompt_number": 7
    },
    {
     "cell_type": "heading",
     "level": 2,
     "metadata": {},
     "source": [
      "Preview results"
     ]
    },
    {
     "cell_type": "code",
     "collapsed": false,
     "input": [
      "for doc in docmap:\n",
      "    print doc, json.dumps(docmap[doc], indent=4)\n",
      "    break"
     ],
     "language": "python",
     "metadata": {},
     "outputs": [
      {
       "output_type": "stream",
       "stream": "stdout",
       "text": [
        "multiUN.en\\un\\xml\\en\\2006\\A_61_408-en.xml {\n",
        "    \"content\": [], \n",
        "    \"attributes\": {\n",
        "        \"lang\": \"English\", \n",
        "        \"date\": \"2006/10/03\", \n",
        "        \"n\": \"N0654840\", \n",
        "        \"id\": \"A/61/408\", \n",
        "        \"path\": \"C:\\\\Users\\\\Hassan\\\\Documents\\\\iSchool\\\\NLP\\\\United Nations\\\\multiUN.en\\\\un\\\\xml\\\\en\\\\2006\\\\A_61_408-en.xml\"\n",
        "    }, \n",
        "    \"scrape\": {\n",
        "        \"jobs\": [\n",
        "            {\n",
        "                \"lang\": \"English\", \n",
        "                \"release_date\": \"13/12/2006\", \n",
        "                \"jobno\": \"N0654840\"\n",
        "            }, \n",
        "            {\n",
        "                \"lang\": \"French\", \n",
        "                \"release_date\": \"13/12/2006\", \n",
        "                \"jobno\": \"N0654841\"\n",
        "            }, \n",
        "            {\n",
        "                \"lang\": \"Russian\", \n",
        "                \"release_date\": \"13/12/2006\", \n",
        "                \"jobno\": \"N0654842\"\n",
        "            }, \n",
        "            {\n",
        "                \"lang\": \"Spanish\", \n",
        "                \"release_date\": \"13/12/2006\", \n",
        "                \"jobno\": \"N0654843\"\n",
        "            }, \n",
        "            {\n",
        "                \"lang\": \"Arabic\", \n",
        "                \"release_date\": \"13/12/2006\", \n",
        "                \"jobno\": \"N0654838\"\n",
        "            }, \n",
        "            {\n",
        "                \"lang\": \"Chinese\", \n",
        "                \"release_date\": \"13/12/2006\", \n",
        "                \"jobno\": \"N0654839\"\n",
        "            }\n",
        "        ], \n",
        "        \"Title\": \"REPORT OF THE SPECIAL COMMITTEE TO INVESTIGATE ISRAELI PRACTICES AFFECTING THE HUMAN RIGHTS OF THE PALESTINIAN PEOPLE AND OTHER ARABS OF THE OCCUPIED TERRITORIES : REPORT OF THE SPECIAL POLITICAL AND DECOLONIZATION COMMITTEE (4TH COMMITTEE) : GENERAL ASSEMBLY, 61ST SESSION\", \n",
        "        \"Display PDF File\": [\n",
        "            {\n",
        "                \"lang\": \"English(115.2K)\", \n",
        "                \"link\": \"http://documents-dds-ny.un.org/doc/UNDOC/GEN/N06/548/40/pdf/N0654840.pdf?OpenElement\"\n",
        "            }, \n",
        "            {\n",
        "                \"lang\": \"French(131.5K)\", \n",
        "                \"link\": \"http://documents-dds-ny.un.org/doc/UNDOC/GEN/N06/548/41/pdf/N0654841.pdf?OpenElement\"\n",
        "            }, \n",
        "            {\n",
        "                \"lang\": \"Russian(368.4K)\", \n",
        "                \"link\": \"http://documents-dds-ny.un.org/doc/UNDOC/GEN/N06/548/42/pdf/N0654842.pdf?OpenElement\"\n",
        "            }, \n",
        "            {\n",
        "                \"lang\": \"Spanish(126K)\", \n",
        "                \"link\": \"http://documents-dds-ny.un.org/doc/UNDOC/GEN/N06/548/43/pdf/N0654843.pdf?OpenElement\"\n",
        "            }, \n",
        "            {\n",
        "                \"lang\": \"Arabic(294.8K)\", \n",
        "                \"link\": \"http://documents-dds-ny.un.org/doc/UNDOC/GEN/N06/548/38/pdf/N0654838.pdf?OpenElement\"\n",
        "            }, \n",
        "            {\n",
        "                \"lang\": \"Chinese(279.8K)\", \n",
        "                \"link\": \"http://documents-dds-ny.un.org/doc/UNDOC/GEN/N06/548/39/pdf/N0654839.pdf?OpenElement\"\n",
        "            }\n",
        "        ], \n",
        "        \"ODS\": \"A/61/408\", \n",
        "        \"Download File\": [\n",
        "            {\n",
        "                \"lang\": \"English(148K)(WORD6)\", \n",
        "                \"link\": \"http://documents-dds-ny.un.org/doc/UNDOC/GEN/N06/548/40/doc/N0654840.DOC?OpenElement\"\n",
        "            }, \n",
        "            {\n",
        "                \"lang\": \"French(153K)(WORD6)\", \n",
        "                \"link\": \"http://documents-dds-ny.un.org/doc/UNDOC/GEN/N06/548/41/doc/N0654841.DOC?OpenElement\"\n",
        "            }, \n",
        "            {\n",
        "                \"lang\": \"Russian(232K)(WORD6)\", \n",
        "                \"link\": \"http://documents-dds-ny.un.org/doc/UNDOC/GEN/N06/548/42/doc/N0654842.DOC?OpenElement\"\n",
        "            }, \n",
        "            {\n",
        "                \"lang\": \"Spanish(156.5K)(WORD6)\", \n",
        "                \"link\": \"http://documents-dds-ny.un.org/doc/UNDOC/GEN/N06/548/43/doc/N0654843.DOC?OpenElement\"\n",
        "            }, \n",
        "            {\n",
        "                \"lang\": \"Arabic(309.5K)(WORD6)\", \n",
        "                \"link\": \"http://documents-dds-ny.un.org/doc/UNDOC/GEN/N06/548/38/doc/N0654838.DOC?OpenElement\"\n",
        "            }, \n",
        "            {\n",
        "                \"lang\": \"Chinese(120.5K)(WORD6)\", \n",
        "                \"link\": \"http://documents-dds-ny.un.org/doc/UNDOC/GEN/N06/548/39/doc/N0654839.DOC?OpenElement\"\n",
        "            }\n",
        "        ], \n",
        "        \"Agenda Items\": \"32\", \n",
        "        \"Subjects\": [\n",
        "            \"SETTLEMENT POLICY\", \n",
        "            \"GOLAN HEIGHTS\", \n",
        "            \"JERUSALEM\", \n",
        "            \"ISRAEL\", \n",
        "            \"SEPARATION BARRIERS\", \n",
        "            \"TROOP WITHDRAWAL\", \n",
        "            \"DESTRUCTION OF PROPERTY\", \n",
        "            \"\", \n",
        "            \"WEST BANK\", \n",
        "            \"HUMAN RIGHTS\", \n",
        "            \"TERRITORIES OCCUPIED BY ISRAEL\", \n",
        "            \"PALESTINIANS\", \n",
        "            \"INTERNATIONAL OBLIGATIONS\", \n",
        "            \"HUMAN RIGHTS VIOLATIONS\", \n",
        "            \"ARABS\", \n",
        "            \"CIVILIAN PERSONS\", \n",
        "            \"HUMAN RIGHTS IN ARMED CONFLICTS\", \n",
        "            \"EXTRALEGAL EXECUTIONS\", \n",
        "            \"ADVISORY OPINIONS\", \n",
        "            \"REPORT PREPARATION\", \n",
        "            \"PERIODIC REPORTS\", \n",
        "            \"PRISONER TREATMENT\", \n",
        "            \"DETAINED PERSONS\", \n",
        "            \"INFORMATION EXCHANGE\", \n",
        "            \"TREATY COMPLIANCE\", \n",
        "            \"WEAPONS SURRENDER\", \n",
        "            \"VIOLENCE\", \n",
        "            \"PROPERTY\", \n",
        "            \"DISPLACED PERSONS\", \n",
        "            \"SUICIDE BOMBINGS\", \n",
        "            \"ELECTIONS\", \n",
        "            \"HUMANITARIAN EMERGENCIES\", \n",
        "            \"FINANCIAL CRISIS\", \n",
        "            \"PUBLIC SERVICES\", \n",
        "            \"CIVIL AND POLITICAL RIGHTS\", \n",
        "            \"ECONOMIC, SOCIAL AND CULTURAL RIGHTS\", \n",
        "            \"WAR DAMAGE COMPENSATION\", \n",
        "            \"FREEDOM OF MOVEMENT\", \n",
        "            \"DEPORTATION\", \n",
        "            \"REPATRIATION\", \n",
        "            \"LEGAL STATUS\", \n",
        "            \"NATIONALITY\", \n",
        "            \"POPULATION COMPOSITION\", \n",
        "            \"IDENTIFICATION CARDS\", \n",
        "            \"MILITARY ACTIVITY\", \n",
        "            \"AGGRESSION\", \n",
        "            \"CONFIDENCE-BUILDING MEASURES\"\n",
        "        ], \n",
        "        \"Session/Year\": \"61\", \n",
        "        \"Distribution\": \"GEN\", \n",
        "        \"Area\": \"UNDOC\", \n",
        "        \"Symbol\": \"A/61/408\", \n",
        "        \"Publication date\": \"4/12/2006\"\n",
        "    }, \n",
        "    \"links\": [\n",
        "        {\n",
        "            \"value\": 4, \n",
        "            \"key\": \"A/C.4/61/L.18\"\n",
        "        }, \n",
        "        {\n",
        "            \"value\": 4, \n",
        "            \"key\": \"A/ES-10/273\"\n",
        "        }, \n",
        "        {\n",
        "            \"value\": 3, \n",
        "            \"key\": \"A/C.4/61/L.13\"\n",
        "        }, \n",
        "        {\n",
        "            \"value\": 3, \n",
        "            \"key\": \"A/C.4/61/L.14\"\n",
        "        }, \n",
        "        {\n",
        "            \"value\": 3, \n",
        "            \"key\": \"A/C.4/61/L.17\"\n",
        "        }, \n",
        "        {\n",
        "            \"value\": 2, \n",
        "            \"key\": \"A/61/500\"\n",
        "        }, \n",
        "        {\n",
        "            \"value\": 2, \n",
        "            \"key\": \"A/C.4/61/L.15\"\n",
        "        }, \n",
        "        {\n",
        "            \"value\": 2, \n",
        "            \"key\": \"A/C.4/61/L.16\"\n",
        "        }, \n",
        "        {\n",
        "            \"value\": 2, \n",
        "            \"key\": \"S/2003/529\"\n",
        "        }, \n",
        "        {\n",
        "            \"value\": 1, \n",
        "            \"key\": \"A/61/327\"\n",
        "        }, \n",
        "        {\n",
        "            \"value\": 1, \n",
        "            \"key\": \"A/61/328\"\n",
        "        }, \n",
        "        {\n",
        "            \"value\": 1, \n",
        "            \"key\": \"A/61/329\"\n",
        "        }, \n",
        "        {\n",
        "            \"value\": 1, \n",
        "            \"key\": \"A/61/330\"\n",
        "        }, \n",
        "        {\n",
        "            \"value\": 1, \n",
        "            \"key\": \"A/61/331\"\n",
        "        }, \n",
        "        {\n",
        "            \"value\": 1, \n",
        "            \"key\": \"A/C.4/61/SR.22\"\n",
        "        }, \n",
        "        {\n",
        "            \"value\": 1, \n",
        "            \"key\": \"A/C.4/61/SR.25\"\n",
        "        }, \n",
        "        {\n",
        "            \"value\": 1, \n",
        "            \"key\": \"A/C.4/61/SR.27\"\n",
        "        }, \n",
        "        {\n",
        "            \"value\": 1, \n",
        "            \"key\": \"E/CN.4/2006/29\"\n",
        "        }\n",
        "    ]\n",
        "}\n"
       ]
      }
     ],
     "prompt_number": 8
    },
    {
     "cell_type": "heading",
     "level": 2,
     "metadata": {},
     "source": [
      "Save output to a compressed json file"
     ]
    },
    {
     "cell_type": "code",
     "collapsed": false,
     "input": [
      "try:\n",
      "    import zlib\n",
      "    compression = zipfile.ZIP_DEFLATED\n",
      "except:\n",
      "    compression = zipfile.ZIP_STORED\n",
      "\n",
      "MUN_MAP = zipfile.ZipFile('../MUN_MAP.zip', 'w', compression=zipfile.ZIP_DEFLATED)\n",
      "MUN_MAP.writestr('map.json', json.dumps(docmap))\n",
      "MUN_MAP.close()"
     ],
     "language": "python",
     "metadata": {},
     "outputs": [],
     "prompt_number": 9
    },
    {
     "cell_type": "heading",
     "level": 1,
     "metadata": {},
     "source": [
      "Create smaller maps for Top 100 and Top 1000"
     ]
    },
    {
     "cell_type": "code",
     "collapsed": false,
     "input": [
      "MODULES_PATH = '''../../modules/multi_un_module.py'''\n",
      "import imp\n",
      "NF = imp.load_source('multi_un_module', MODULES_PATH)\n",
      "import multi_un_module as mun"
     ],
     "language": "python",
     "metadata": {},
     "outputs": [],
     "prompt_number": 10
    },
    {
     "cell_type": "code",
     "collapsed": false,
     "input": [
      "docs_100 = mun.load_xml_files_by_year('TOP_100', content=False)\n",
      "docs_1000 = mun.load_xml_files_by_year('TOP_1000', content = False)"
     ],
     "language": "python",
     "metadata": {},
     "outputs": [
      {
       "javascript": [
        "//c2456b74-f4b8-4fc6-86d5-370eededf29c\n",
        "$(\"head\").append(\"<style> td.pb_widget {     width: auto; } td.pb_widget_fill {     width: 100%; } table.pb {     font-family: monospace;     border: 0;     margin: 0; } table.pb tr { border: 0; } table.pb td {     white-space: nowrap;     border: 0; } div.pb {     border: 1px solid #ddd;     border-radius: 3px; } div.pb_bar {     height: 1.5em; } </style>\")"
       ],
       "metadata": {},
       "output_type": "display_data",
       "text": [
        "<IPython.core.display.Javascript at 0xb3e9f438>"
       ]
      },
      {
       "javascript": [
        "\n",
        "                  // c2456b74-f4b8-4fc6-86d5-370eededf29c -- used to remove this code blob in the end\n",
        "                  IPython.OutputArea.prototype.cleanProgressBar = function(uuids) {\n",
        "                      // filter by uuid-strings \n",
        "                      var myfilter = function(output) { \n",
        "                          var nuids = uuids.length;\n",
        "                          for (var i=0; i<nuids; i++) {\n",
        "                              if (output.hasOwnProperty('html')) {\n",
        "                                  if (output.html.indexOf(uuids[i]) != -1) {\n",
        "                                      return false;\n",
        "                                  }\n",
        "                              }\n",
        "                              if (output.hasOwnProperty('javascript')) {\n",
        "                                  if (output.javascript.indexOf(uuids[i]) != -1) {\n",
        "                                      return false;\n",
        "                                  }\n",
        "                              }\n",
        "                          }\n",
        "                          // keep all others\n",
        "                          return true;\n",
        "                      };\n",
        "\n",
        "                      // Filter the ouputs\n",
        "                      this.outputs = this.outputs.filter(myfilter);\n",
        "                };\n",
        "                "
       ],
       "metadata": {},
       "output_type": "display_data",
       "text": [
        "<IPython.core.display.Javascript at 0x3543d30>"
       ]
      },
      {
       "html": [
        "<div class=\"pb\" id=\"c2456b74-f4b8-4fc6-86d5-370eededf29c\"><table class=\"pb ui-widget\"><tr>\n",
        "<td class=\"pb_widget\">TOP_100</td>\n",
        "<td class=\"pb_widget\"><div id=\"e3c370fe-b4f4-428a-aa08-0b66a867db68\">0 of 98</div></td>\n",
        "<td class=\"pb_widget\"><div id=\"448cd6fc-30f6-4f66-a3f9-95460f71b294\">  0%</div></td>\n",
        "<td class=\"pb_widget_fill\">\n",
        "        <div class=\"pb_bar\" id=\"c9c62fa5-fecf-494c-bee5-3527345397c9\"></div>\n",
        "        <script type=\"text/javascript\">\n",
        "            $(\"div#c9c62fa5-fecf-494c-bee5-3527345397c9\").progressbar({value: 0, max: 98});\n",
        "        </script>\n",
        "        </td>\n",
        "<td class=\"pb_widget\"><div id=\"5688941d-bb76-4906-a2ad-353a883818e8\">ETA:  --:--:--</div></td>\n",
        "</tr></table><div>"
       ],
       "metadata": {},
       "output_type": "display_data",
       "text": [
        "<IPython.core.display.HTML at 0x3543550>"
       ]
      },
      {
       "javascript": [
        "$('div#e3c370fe-b4f4-428a-aa08-0b66a867db68').text('1 of 98');"
       ],
       "metadata": {},
       "output_type": "display_data",
       "text": [
        "<IPython.core.display.Javascript at 0xb3e9f518>"
       ]
      },
      {
       "javascript": [
        "$('div#448cd6fc-30f6-4f66-a3f9-95460f71b294').text('  1%');"
       ],
       "metadata": {},
       "output_type": "display_data",
       "text": [
        "<IPython.core.display.Javascript at 0x3543d30>"
       ]
      },
      {
       "javascript": [
        "\n",
        "        var $myPB = $(\"div#c9c62fa5-fecf-494c-bee5-3527345397c9\")\n",
        "        if ($myPB.hasClass('ui-progressbar')) {\n",
        "            $myPB.progressbar('value', 1);\n",
        "        } else {\n",
        "            $myPB.progressbar({value: 0, max: 98});\n",
        "        }\n",
        "        "
       ],
       "metadata": {},
       "output_type": "display_data",
       "text": [
        "<IPython.core.display.Javascript at 0x3543550>"
       ]
      },
      {
       "javascript": [
        "$('div#5688941d-bb76-4906-a2ad-353a883818e8').text('ETA:  0:00:00');"
       ],
       "metadata": {},
       "output_type": "display_data",
       "text": [
        "<IPython.core.display.Javascript at 0xb3e9f588>"
       ]
      },
      {
       "javascript": [
        "$('div#e3c370fe-b4f4-428a-aa08-0b66a867db68').text('2 of 98');"
       ],
       "metadata": {},
       "output_type": "display_data",
       "text": [
        "<IPython.core.display.Javascript at 0xb3e9f518>"
       ]
      },
      {
       "javascript": [
        "$('div#448cd6fc-30f6-4f66-a3f9-95460f71b294').text('  2%');"
       ],
       "metadata": {},
       "output_type": "display_data",
       "text": [
        "<IPython.core.display.Javascript at 0x3543d30>"
       ]
      },
      {
       "javascript": [
        "\n",
        "        var $myPB = $(\"div#c9c62fa5-fecf-494c-bee5-3527345397c9\")\n",
        "        if ($myPB.hasClass('ui-progressbar')) {\n",
        "            $myPB.progressbar('value', 2);\n",
        "        } else {\n",
        "            $myPB.progressbar({value: 0, max: 98});\n",
        "        }\n",
        "        "
       ],
       "metadata": {},
       "output_type": "display_data",
       "text": [
        "<IPython.core.display.Javascript at 0x3543550>"
       ]
      },
      {
       "javascript": [
        "$('div#5688941d-bb76-4906-a2ad-353a883818e8').text('ETA:  0:00:00');"
       ],
       "metadata": {},
       "output_type": "display_data",
       "text": [
        "<IPython.core.display.Javascript at 0xb3e9f438>"
       ]
      },
      {
       "javascript": [
        "$('div#e3c370fe-b4f4-428a-aa08-0b66a867db68').text('3 of 98');"
       ],
       "metadata": {},
       "output_type": "display_data",
       "text": [
        "<IPython.core.display.Javascript at 0xb3e9f518>"
       ]
      },
      {
       "javascript": [
        "$('div#448cd6fc-30f6-4f66-a3f9-95460f71b294').text('  3%');"
       ],
       "metadata": {},
       "output_type": "display_data",
       "text": [
        "<IPython.core.display.Javascript at 0x3543d30>"
       ]
      },
      {
       "javascript": [
        "\n",
        "        var $myPB = $(\"div#c9c62fa5-fecf-494c-bee5-3527345397c9\")\n",
        "        if ($myPB.hasClass('ui-progressbar')) {\n",
        "            $myPB.progressbar('value', 3);\n",
        "        } else {\n",
        "            $myPB.progressbar({value: 0, max: 98});\n",
        "        }\n",
        "        "
       ],
       "metadata": {},
       "output_type": "display_data",
       "text": [
        "<IPython.core.display.Javascript at 0x3543550>"
       ]
      },
      {
       "javascript": [
        "$('div#5688941d-bb76-4906-a2ad-353a883818e8').text('ETA:  0:00:00');"
       ],
       "metadata": {},
       "output_type": "display_data",
       "text": [
        "<IPython.core.display.Javascript at 0xb3e9f588>"
       ]
      },
      {
       "javascript": [
        "$('div#e3c370fe-b4f4-428a-aa08-0b66a867db68').text('4 of 98');"
       ],
       "metadata": {},
       "output_type": "display_data",
       "text": [
        "<IPython.core.display.Javascript at 0xb3e9f5f8>"
       ]
      },
      {
       "javascript": [
        "$('div#448cd6fc-30f6-4f66-a3f9-95460f71b294').text('  4%');"
       ],
       "metadata": {},
       "output_type": "display_data",
       "text": [
        "<IPython.core.display.Javascript at 0x3543550>"
       ]
      },
      {
       "javascript": [
        "\n",
        "        var $myPB = $(\"div#c9c62fa5-fecf-494c-bee5-3527345397c9\")\n",
        "        if ($myPB.hasClass('ui-progressbar')) {\n",
        "            $myPB.progressbar('value', 4);\n",
        "        } else {\n",
        "            $myPB.progressbar({value: 0, max: 98});\n",
        "        }\n",
        "        "
       ],
       "metadata": {},
       "output_type": "display_data",
       "text": [
        "<IPython.core.display.Javascript at 0x3543d30>"
       ]
      },
      {
       "javascript": [
        "$('div#5688941d-bb76-4906-a2ad-353a883818e8').text('ETA:  0:00:01');"
       ],
       "metadata": {},
       "output_type": "display_data",
       "text": [
        "<IPython.core.display.Javascript at 0xb3e9f630>"
       ]
      },
      {
       "javascript": [
        "$('div#e3c370fe-b4f4-428a-aa08-0b66a867db68').text('5 of 98');"
       ],
       "metadata": {},
       "output_type": "display_data",
       "text": [
        "<IPython.core.display.Javascript at 0xb3e9f5f8>"
       ]
      },
      {
       "javascript": [
        "$('div#448cd6fc-30f6-4f66-a3f9-95460f71b294').text('  5%');"
       ],
       "metadata": {},
       "output_type": "display_data",
       "text": [
        "<IPython.core.display.Javascript at 0x3543d30>"
       ]
      },
      {
       "javascript": [
        "\n",
        "        var $myPB = $(\"div#c9c62fa5-fecf-494c-bee5-3527345397c9\")\n",
        "        if ($myPB.hasClass('ui-progressbar')) {\n",
        "            $myPB.progressbar('value', 5);\n",
        "        } else {\n",
        "            $myPB.progressbar({value: 0, max: 98});\n",
        "        }\n",
        "        "
       ],
       "metadata": {},
       "output_type": "display_data",
       "text": [
        "<IPython.core.display.Javascript at 0x3543550>"
       ]
      },
      {
       "javascript": [
        "$('div#5688941d-bb76-4906-a2ad-353a883818e8').text('ETA:  0:00:01');"
       ],
       "metadata": {},
       "output_type": "display_data",
       "text": [
        "<IPython.core.display.Javascript at 0xb3e9f588>"
       ]
      },
      {
       "javascript": [
        "$('div#e3c370fe-b4f4-428a-aa08-0b66a867db68').text('6 of 98');"
       ],
       "metadata": {},
       "output_type": "display_data",
       "text": [
        "<IPython.core.display.Javascript at 0xb3e9f5f8>"
       ]
      },
      {
       "javascript": [
        "$('div#448cd6fc-30f6-4f66-a3f9-95460f71b294').text('  6%');"
       ],
       "metadata": {},
       "output_type": "display_data",
       "text": [
        "<IPython.core.display.Javascript at 0x3543550>"
       ]
      },
      {
       "javascript": [
        "\n",
        "        var $myPB = $(\"div#c9c62fa5-fecf-494c-bee5-3527345397c9\")\n",
        "        if ($myPB.hasClass('ui-progressbar')) {\n",
        "            $myPB.progressbar('value', 6);\n",
        "        } else {\n",
        "            $myPB.progressbar({value: 0, max: 98});\n",
        "        }\n",
        "        "
       ],
       "metadata": {},
       "output_type": "display_data",
       "text": [
        "<IPython.core.display.Javascript at 0x3543d30>"
       ]
      },
      {
       "javascript": [
        "$('div#5688941d-bb76-4906-a2ad-353a883818e8').text('ETA:  0:00:01');"
       ],
       "metadata": {},
       "output_type": "display_data",
       "text": [
        "<IPython.core.display.Javascript at 0xb3e9f630>"
       ]
      },
      {
       "javascript": [
        "$('div#e3c370fe-b4f4-428a-aa08-0b66a867db68').text('7 of 98');"
       ],
       "metadata": {},
       "output_type": "display_data",
       "text": [
        "<IPython.core.display.Javascript at 0xb3e9f5f8>"
       ]
      },
      {
       "javascript": [
        "$('div#448cd6fc-30f6-4f66-a3f9-95460f71b294').text('  7%');"
       ],
       "metadata": {},
       "output_type": "display_data",
       "text": [
        "<IPython.core.display.Javascript at 0x3543d30>"
       ]
      },
      {
       "javascript": [
        "\n",
        "        var $myPB = $(\"div#c9c62fa5-fecf-494c-bee5-3527345397c9\")\n",
        "        if ($myPB.hasClass('ui-progressbar')) {\n",
        "            $myPB.progressbar('value', 7);\n",
        "        } else {\n",
        "            $myPB.progressbar({value: 0, max: 98});\n",
        "        }\n",
        "        "
       ],
       "metadata": {},
       "output_type": "display_data",
       "text": [
        "<IPython.core.display.Javascript at 0x3543550>"
       ]
      },
      {
       "javascript": [
        "$('div#5688941d-bb76-4906-a2ad-353a883818e8').text('ETA:  0:00:01');"
       ],
       "metadata": {},
       "output_type": "display_data",
       "text": [
        "<IPython.core.display.Javascript at 0xb3e9f588>"
       ]
      },
      {
       "javascript": [
        "$('div#e3c370fe-b4f4-428a-aa08-0b66a867db68').text('8 of 98');"
       ],
       "metadata": {},
       "output_type": "display_data",
       "text": [
        "<IPython.core.display.Javascript at 0xb3e9f5f8>"
       ]
      },
      {
       "javascript": [
        "$('div#448cd6fc-30f6-4f66-a3f9-95460f71b294').text('  8%');"
       ],
       "metadata": {},
       "output_type": "display_data",
       "text": [
        "<IPython.core.display.Javascript at 0x3543550>"
       ]
      },
      {
       "javascript": [
        "\n",
        "        var $myPB = $(\"div#c9c62fa5-fecf-494c-bee5-3527345397c9\")\n",
        "        if ($myPB.hasClass('ui-progressbar')) {\n",
        "            $myPB.progressbar('value', 8);\n",
        "        } else {\n",
        "            $myPB.progressbar({value: 0, max: 98});\n",
        "        }\n",
        "        "
       ],
       "metadata": {},
       "output_type": "display_data",
       "text": [
        "<IPython.core.display.Javascript at 0x3543d30>"
       ]
      },
      {
       "javascript": [
        "$('div#5688941d-bb76-4906-a2ad-353a883818e8').text('ETA:  0:00:01');"
       ],
       "metadata": {},
       "output_type": "display_data",
       "text": [
        "<IPython.core.display.Javascript at 0xb3e9f630>"
       ]
      },
      {
       "javascript": [
        "$('div#e3c370fe-b4f4-428a-aa08-0b66a867db68').text('9 of 98');"
       ],
       "metadata": {},
       "output_type": "display_data",
       "text": [
        "<IPython.core.display.Javascript at 0xb3e9f5f8>"
       ]
      },
      {
       "javascript": [
        "$('div#448cd6fc-30f6-4f66-a3f9-95460f71b294').text('  9%');"
       ],
       "metadata": {},
       "output_type": "display_data",
       "text": [
        "<IPython.core.display.Javascript at 0x3543d30>"
       ]
      },
      {
       "javascript": [
        "\n",
        "        var $myPB = $(\"div#c9c62fa5-fecf-494c-bee5-3527345397c9\")\n",
        "        if ($myPB.hasClass('ui-progressbar')) {\n",
        "            $myPB.progressbar('value', 9);\n",
        "        } else {\n",
        "            $myPB.progressbar({value: 0, max: 98});\n",
        "        }\n",
        "        "
       ],
       "metadata": {},
       "output_type": "display_data",
       "text": [
        "<IPython.core.display.Javascript at 0x3543550>"
       ]
      },
      {
       "javascript": [
        "$('div#5688941d-bb76-4906-a2ad-353a883818e8').text('ETA:  0:00:01');"
       ],
       "metadata": {},
       "output_type": "display_data",
       "text": [
        "<IPython.core.display.Javascript at 0xb3e9f588>"
       ]
      },
      {
       "javascript": [
        "$('div#e3c370fe-b4f4-428a-aa08-0b66a867db68').text('10 of 98');"
       ],
       "metadata": {},
       "output_type": "display_data",
       "text": [
        "<IPython.core.display.Javascript at 0xb3e9f5f8>"
       ]
      },
      {
       "javascript": [
        "$('div#448cd6fc-30f6-4f66-a3f9-95460f71b294').text(' 10%');"
       ],
       "metadata": {},
       "output_type": "display_data",
       "text": [
        "<IPython.core.display.Javascript at 0x3543550>"
       ]
      },
      {
       "javascript": [
        "\n",
        "        var $myPB = $(\"div#c9c62fa5-fecf-494c-bee5-3527345397c9\")\n",
        "        if ($myPB.hasClass('ui-progressbar')) {\n",
        "            $myPB.progressbar('value', 10);\n",
        "        } else {\n",
        "            $myPB.progressbar({value: 0, max: 98});\n",
        "        }\n",
        "        "
       ],
       "metadata": {},
       "output_type": "display_data",
       "text": [
        "<IPython.core.display.Javascript at 0x3543d30>"
       ]
      },
      {
       "javascript": [
        "$('div#5688941d-bb76-4906-a2ad-353a883818e8').text('ETA:  0:00:01');"
       ],
       "metadata": {},
       "output_type": "display_data",
       "text": [
        "<IPython.core.display.Javascript at 0xb3e9f630>"
       ]
      },
      {
       "javascript": [
        "$('div#e3c370fe-b4f4-428a-aa08-0b66a867db68').text('11 of 98');"
       ],
       "metadata": {},
       "output_type": "display_data",
       "text": [
        "<IPython.core.display.Javascript at 0xb3e9f5f8>"
       ]
      },
      {
       "javascript": [
        "$('div#448cd6fc-30f6-4f66-a3f9-95460f71b294').text(' 11%');"
       ],
       "metadata": {},
       "output_type": "display_data",
       "text": [
        "<IPython.core.display.Javascript at 0x3543d30>"
       ]
      },
      {
       "javascript": [
        "\n",
        "        var $myPB = $(\"div#c9c62fa5-fecf-494c-bee5-3527345397c9\")\n",
        "        if ($myPB.hasClass('ui-progressbar')) {\n",
        "            $myPB.progressbar('value', 11);\n",
        "        } else {\n",
        "            $myPB.progressbar({value: 0, max: 98});\n",
        "        }\n",
        "        "
       ],
       "metadata": {},
       "output_type": "display_data",
       "text": [
        "<IPython.core.display.Javascript at 0x3543550>"
       ]
      },
      {
       "javascript": [
        "$('div#5688941d-bb76-4906-a2ad-353a883818e8').text('ETA:  0:00:01');"
       ],
       "metadata": {},
       "output_type": "display_data",
       "text": [
        "<IPython.core.display.Javascript at 0xb3e9f588>"
       ]
      },
      {
       "javascript": [
        "$('div#e3c370fe-b4f4-428a-aa08-0b66a867db68').text('12 of 98');"
       ],
       "metadata": {},
       "output_type": "display_data",
       "text": [
        "<IPython.core.display.Javascript at 0xb3e9f5f8>"
       ]
      },
      {
       "javascript": [
        "$('div#448cd6fc-30f6-4f66-a3f9-95460f71b294').text(' 12%');"
       ],
       "metadata": {},
       "output_type": "display_data",
       "text": [
        "<IPython.core.display.Javascript at 0xb3e9f630>"
       ]
      },
      {
       "javascript": [
        "\n",
        "        var $myPB = $(\"div#c9c62fa5-fecf-494c-bee5-3527345397c9\")\n",
        "        if ($myPB.hasClass('ui-progressbar')) {\n",
        "            $myPB.progressbar('value', 12);\n",
        "        } else {\n",
        "            $myPB.progressbar({value: 0, max: 98});\n",
        "        }\n",
        "        "
       ],
       "metadata": {},
       "output_type": "display_data",
       "text": [
        "<IPython.core.display.Javascript at 0x3543d30>"
       ]
      },
      {
       "javascript": [
        "$('div#5688941d-bb76-4906-a2ad-353a883818e8').text('ETA:  0:00:01');"
       ],
       "metadata": {},
       "output_type": "display_data",
       "text": [
        "<IPython.core.display.Javascript at 0x3543550>"
       ]
      },
      {
       "javascript": [
        "$('div#e3c370fe-b4f4-428a-aa08-0b66a867db68').text('13 of 98');"
       ],
       "metadata": {},
       "output_type": "display_data",
       "text": [
        "<IPython.core.display.Javascript at 0xb3e9f5c0>"
       ]
      },
      {
       "javascript": [
        "$('div#448cd6fc-30f6-4f66-a3f9-95460f71b294').text(' 13%');"
       ],
       "metadata": {},
       "output_type": "display_data",
       "text": [
        "<IPython.core.display.Javascript at 0xb3e9f6a0>"
       ]
      },
      {
       "javascript": [
        "\n",
        "        var $myPB = $(\"div#c9c62fa5-fecf-494c-bee5-3527345397c9\")\n",
        "        if ($myPB.hasClass('ui-progressbar')) {\n",
        "            $myPB.progressbar('value', 13);\n",
        "        } else {\n",
        "            $myPB.progressbar({value: 0, max: 98});\n",
        "        }\n",
        "        "
       ],
       "metadata": {},
       "output_type": "display_data",
       "text": [
        "<IPython.core.display.Javascript at 0x3543d30>"
       ]
      },
      {
       "javascript": [
        "$('div#5688941d-bb76-4906-a2ad-353a883818e8').text('ETA:  0:00:01');"
       ],
       "metadata": {},
       "output_type": "display_data",
       "text": [
        "<IPython.core.display.Javascript at 0x3543550>"
       ]
      },
      {
       "javascript": [
        "$('div#e3c370fe-b4f4-428a-aa08-0b66a867db68').text('14 of 98');"
       ],
       "metadata": {},
       "output_type": "display_data",
       "text": [
        "<IPython.core.display.Javascript at 0xb3e9f5f8>"
       ]
      },
      {
       "javascript": [
        "$('div#448cd6fc-30f6-4f66-a3f9-95460f71b294').text(' 14%');"
       ],
       "metadata": {},
       "output_type": "display_data",
       "text": [
        "<IPython.core.display.Javascript at 0xb3e9f6a0>"
       ]
      },
      {
       "javascript": [
        "\n",
        "        var $myPB = $(\"div#c9c62fa5-fecf-494c-bee5-3527345397c9\")\n",
        "        if ($myPB.hasClass('ui-progressbar')) {\n",
        "            $myPB.progressbar('value', 14);\n",
        "        } else {\n",
        "            $myPB.progressbar({value: 0, max: 98});\n",
        "        }\n",
        "        "
       ],
       "metadata": {},
       "output_type": "display_data",
       "text": [
        "<IPython.core.display.Javascript at 0x3543d30>"
       ]
      },
      {
       "javascript": [
        "$('div#5688941d-bb76-4906-a2ad-353a883818e8').text('ETA:  0:00:00');"
       ],
       "metadata": {},
       "output_type": "display_data",
       "text": [
        "<IPython.core.display.Javascript at 0x3543550>"
       ]
      },
      {
       "javascript": [
        "$('div#e3c370fe-b4f4-428a-aa08-0b66a867db68').text('15 of 98');"
       ],
       "metadata": {},
       "output_type": "display_data",
       "text": [
        "<IPython.core.display.Javascript at 0xb3e9f588>"
       ]
      },
      {
       "javascript": [
        "$('div#448cd6fc-30f6-4f66-a3f9-95460f71b294').text(' 15%');"
       ],
       "metadata": {},
       "output_type": "display_data",
       "text": [
        "<IPython.core.display.Javascript at 0xb3e9f6a0>"
       ]
      },
      {
       "javascript": [
        "\n",
        "        var $myPB = $(\"div#c9c62fa5-fecf-494c-bee5-3527345397c9\")\n",
        "        if ($myPB.hasClass('ui-progressbar')) {\n",
        "            $myPB.progressbar('value', 15);\n",
        "        } else {\n",
        "            $myPB.progressbar({value: 0, max: 98});\n",
        "        }\n",
        "        "
       ],
       "metadata": {},
       "output_type": "display_data",
       "text": [
        "<IPython.core.display.Javascript at 0x3543d30>"
       ]
      },
      {
       "javascript": [
        "$('div#5688941d-bb76-4906-a2ad-353a883818e8').text('ETA:  0:00:00');"
       ],
       "metadata": {},
       "output_type": "display_data",
       "text": [
        "<IPython.core.display.Javascript at 0x3543550>"
       ]
      },
      {
       "javascript": [
        "$('div#e3c370fe-b4f4-428a-aa08-0b66a867db68').text('16 of 98');"
       ],
       "metadata": {},
       "output_type": "display_data",
       "text": [
        "<IPython.core.display.Javascript at 0xb3e9f710>"
       ]
      },
      {
       "javascript": [
        "$('div#448cd6fc-30f6-4f66-a3f9-95460f71b294').text(' 16%');"
       ],
       "metadata": {},
       "output_type": "display_data",
       "text": [
        "<IPython.core.display.Javascript at 0xb3e9f6a0>"
       ]
      },
      {
       "javascript": [
        "\n",
        "        var $myPB = $(\"div#c9c62fa5-fecf-494c-bee5-3527345397c9\")\n",
        "        if ($myPB.hasClass('ui-progressbar')) {\n",
        "            $myPB.progressbar('value', 16);\n",
        "        } else {\n",
        "            $myPB.progressbar({value: 0, max: 98});\n",
        "        }\n",
        "        "
       ],
       "metadata": {},
       "output_type": "display_data",
       "text": [
        "<IPython.core.display.Javascript at 0x3543d30>"
       ]
      },
      {
       "javascript": [
        "$('div#5688941d-bb76-4906-a2ad-353a883818e8').text('ETA:  0:00:00');"
       ],
       "metadata": {},
       "output_type": "display_data",
       "text": [
        "<IPython.core.display.Javascript at 0x3543550>"
       ]
      },
      {
       "javascript": [
        "$('div#e3c370fe-b4f4-428a-aa08-0b66a867db68').text('17 of 98');"
       ],
       "metadata": {},
       "output_type": "display_data",
       "text": [
        "<IPython.core.display.Javascript at 0xb3e9f748>"
       ]
      },
      {
       "javascript": [
        "$('div#448cd6fc-30f6-4f66-a3f9-95460f71b294').text(' 17%');"
       ],
       "metadata": {},
       "output_type": "display_data",
       "text": [
        "<IPython.core.display.Javascript at 0xb3e9f6a0>"
       ]
      },
      {
       "javascript": [
        "\n",
        "        var $myPB = $(\"div#c9c62fa5-fecf-494c-bee5-3527345397c9\")\n",
        "        if ($myPB.hasClass('ui-progressbar')) {\n",
        "            $myPB.progressbar('value', 17);\n",
        "        } else {\n",
        "            $myPB.progressbar({value: 0, max: 98});\n",
        "        }\n",
        "        "
       ],
       "metadata": {},
       "output_type": "display_data",
       "text": [
        "<IPython.core.display.Javascript at 0x3543d30>"
       ]
      },
      {
       "javascript": [
        "$('div#5688941d-bb76-4906-a2ad-353a883818e8').text('ETA:  0:00:00');"
       ],
       "metadata": {},
       "output_type": "display_data",
       "text": [
        "<IPython.core.display.Javascript at 0x3543550>"
       ]
      },
      {
       "javascript": [
        "$('div#e3c370fe-b4f4-428a-aa08-0b66a867db68').text('18 of 98');"
       ],
       "metadata": {},
       "output_type": "display_data",
       "text": [
        "<IPython.core.display.Javascript at 0xb3e9f780>"
       ]
      },
      {
       "javascript": [
        "$('div#448cd6fc-30f6-4f66-a3f9-95460f71b294').text(' 18%');"
       ],
       "metadata": {},
       "output_type": "display_data",
       "text": [
        "<IPython.core.display.Javascript at 0xb3e9f6a0>"
       ]
      },
      {
       "javascript": [
        "\n",
        "        var $myPB = $(\"div#c9c62fa5-fecf-494c-bee5-3527345397c9\")\n",
        "        if ($myPB.hasClass('ui-progressbar')) {\n",
        "            $myPB.progressbar('value', 18);\n",
        "        } else {\n",
        "            $myPB.progressbar({value: 0, max: 98});\n",
        "        }\n",
        "        "
       ],
       "metadata": {},
       "output_type": "display_data",
       "text": [
        "<IPython.core.display.Javascript at 0x3543d30>"
       ]
      },
      {
       "javascript": [
        "$('div#5688941d-bb76-4906-a2ad-353a883818e8').text('ETA:  0:00:00');"
       ],
       "metadata": {},
       "output_type": "display_data",
       "text": [
        "<IPython.core.display.Javascript at 0x3543550>"
       ]
      },
      {
       "javascript": [
        "$('div#e3c370fe-b4f4-428a-aa08-0b66a867db68').text('19 of 98');"
       ],
       "metadata": {},
       "output_type": "display_data",
       "text": [
        "<IPython.core.display.Javascript at 0xb3e9f7b8>"
       ]
      },
      {
       "javascript": [
        "$('div#448cd6fc-30f6-4f66-a3f9-95460f71b294').text(' 19%');"
       ],
       "metadata": {},
       "output_type": "display_data",
       "text": [
        "<IPython.core.display.Javascript at 0xb3e9f6a0>"
       ]
      },
      {
       "javascript": [
        "\n",
        "        var $myPB = $(\"div#c9c62fa5-fecf-494c-bee5-3527345397c9\")\n",
        "        if ($myPB.hasClass('ui-progressbar')) {\n",
        "            $myPB.progressbar('value', 19);\n",
        "        } else {\n",
        "            $myPB.progressbar({value: 0, max: 98});\n",
        "        }\n",
        "        "
       ],
       "metadata": {},
       "output_type": "display_data",
       "text": [
        "<IPython.core.display.Javascript at 0x3543d30>"
       ]
      },
      {
       "javascript": [
        "$('div#5688941d-bb76-4906-a2ad-353a883818e8').text('ETA:  0:00:00');"
       ],
       "metadata": {},
       "output_type": "display_data",
       "text": [
        "<IPython.core.display.Javascript at 0x3543550>"
       ]
      },
      {
       "javascript": [
        "$('div#e3c370fe-b4f4-428a-aa08-0b66a867db68').text('20 of 98');"
       ],
       "metadata": {},
       "output_type": "display_data",
       "text": [
        "<IPython.core.display.Javascript at 0xb3e9f5c0>"
       ]
      },
      {
       "javascript": [
        "$('div#448cd6fc-30f6-4f66-a3f9-95460f71b294').text(' 20%');"
       ],
       "metadata": {},
       "output_type": "display_data",
       "text": [
        "<IPython.core.display.Javascript at 0xb3e9f6a0>"
       ]
      },
      {
       "javascript": [
        "\n",
        "        var $myPB = $(\"div#c9c62fa5-fecf-494c-bee5-3527345397c9\")\n",
        "        if ($myPB.hasClass('ui-progressbar')) {\n",
        "            $myPB.progressbar('value', 20);\n",
        "        } else {\n",
        "            $myPB.progressbar({value: 0, max: 98});\n",
        "        }\n",
        "        "
       ],
       "metadata": {},
       "output_type": "display_data",
       "text": [
        "<IPython.core.display.Javascript at 0x3543d30>"
       ]
      },
      {
       "javascript": [
        "$('div#5688941d-bb76-4906-a2ad-353a883818e8').text('ETA:  0:00:00');"
       ],
       "metadata": {},
       "output_type": "display_data",
       "text": [
        "<IPython.core.display.Javascript at 0x3543550>"
       ]
      },
      {
       "javascript": [
        "$('div#e3c370fe-b4f4-428a-aa08-0b66a867db68').text('21 of 98');"
       ],
       "metadata": {},
       "output_type": "display_data",
       "text": [
        "<IPython.core.display.Javascript at 0xb3e9f5f8>"
       ]
      },
      {
       "javascript": [
        "$('div#448cd6fc-30f6-4f66-a3f9-95460f71b294').text(' 21%');"
       ],
       "metadata": {},
       "output_type": "display_data",
       "text": [
        "<IPython.core.display.Javascript at 0xb3e9f6a0>"
       ]
      },
      {
       "javascript": [
        "\n",
        "        var $myPB = $(\"div#c9c62fa5-fecf-494c-bee5-3527345397c9\")\n",
        "        if ($myPB.hasClass('ui-progressbar')) {\n",
        "            $myPB.progressbar('value', 21);\n",
        "        } else {\n",
        "            $myPB.progressbar({value: 0, max: 98});\n",
        "        }\n",
        "        "
       ],
       "metadata": {},
       "output_type": "display_data",
       "text": [
        "<IPython.core.display.Javascript at 0x3543d30>"
       ]
      },
      {
       "javascript": [
        "$('div#5688941d-bb76-4906-a2ad-353a883818e8').text('ETA:  0:00:00');"
       ],
       "metadata": {},
       "output_type": "display_data",
       "text": [
        "<IPython.core.display.Javascript at 0x3543550>"
       ]
      },
      {
       "javascript": [
        "$('div#e3c370fe-b4f4-428a-aa08-0b66a867db68').text('22 of 98');"
       ],
       "metadata": {},
       "output_type": "display_data",
       "text": [
        "<IPython.core.display.Javascript at 0xb3e9f588>"
       ]
      },
      {
       "javascript": [
        "$('div#448cd6fc-30f6-4f66-a3f9-95460f71b294').text(' 22%');"
       ],
       "metadata": {},
       "output_type": "display_data",
       "text": [
        "<IPython.core.display.Javascript at 0xb3e9f6a0>"
       ]
      },
      {
       "javascript": [
        "\n",
        "        var $myPB = $(\"div#c9c62fa5-fecf-494c-bee5-3527345397c9\")\n",
        "        if ($myPB.hasClass('ui-progressbar')) {\n",
        "            $myPB.progressbar('value', 22);\n",
        "        } else {\n",
        "            $myPB.progressbar({value: 0, max: 98});\n",
        "        }\n",
        "        "
       ],
       "metadata": {},
       "output_type": "display_data",
       "text": [
        "<IPython.core.display.Javascript at 0x3543d30>"
       ]
      },
      {
       "javascript": [
        "$('div#5688941d-bb76-4906-a2ad-353a883818e8').text('ETA:  0:00:00');"
       ],
       "metadata": {},
       "output_type": "display_data",
       "text": [
        "<IPython.core.display.Javascript at 0x3543550>"
       ]
      },
      {
       "javascript": [
        "$('div#e3c370fe-b4f4-428a-aa08-0b66a867db68').text('23 of 98');"
       ],
       "metadata": {},
       "output_type": "display_data",
       "text": [
        "<IPython.core.display.Javascript at 0xb3e9f710>"
       ]
      },
      {
       "javascript": [
        "$('div#448cd6fc-30f6-4f66-a3f9-95460f71b294').text(' 23%');"
       ],
       "metadata": {},
       "output_type": "display_data",
       "text": [
        "<IPython.core.display.Javascript at 0xb3e9f6a0>"
       ]
      },
      {
       "javascript": [
        "\n",
        "        var $myPB = $(\"div#c9c62fa5-fecf-494c-bee5-3527345397c9\")\n",
        "        if ($myPB.hasClass('ui-progressbar')) {\n",
        "            $myPB.progressbar('value', 23);\n",
        "        } else {\n",
        "            $myPB.progressbar({value: 0, max: 98});\n",
        "        }\n",
        "        "
       ],
       "metadata": {},
       "output_type": "display_data",
       "text": [
        "<IPython.core.display.Javascript at 0x3543d30>"
       ]
      },
      {
       "javascript": [
        "$('div#5688941d-bb76-4906-a2ad-353a883818e8').text('ETA:  0:00:00');"
       ],
       "metadata": {},
       "output_type": "display_data",
       "text": [
        "<IPython.core.display.Javascript at 0x3543550>"
       ]
      },
      {
       "javascript": [
        "$('div#e3c370fe-b4f4-428a-aa08-0b66a867db68').text('24 of 98');"
       ],
       "metadata": {},
       "output_type": "display_data",
       "text": [
        "<IPython.core.display.Javascript at 0xb3e9f748>"
       ]
      },
      {
       "javascript": [
        "$('div#448cd6fc-30f6-4f66-a3f9-95460f71b294').text(' 24%');"
       ],
       "metadata": {},
       "output_type": "display_data",
       "text": [
        "<IPython.core.display.Javascript at 0xb3e9f6a0>"
       ]
      },
      {
       "javascript": [
        "\n",
        "        var $myPB = $(\"div#c9c62fa5-fecf-494c-bee5-3527345397c9\")\n",
        "        if ($myPB.hasClass('ui-progressbar')) {\n",
        "            $myPB.progressbar('value', 24);\n",
        "        } else {\n",
        "            $myPB.progressbar({value: 0, max: 98});\n",
        "        }\n",
        "        "
       ],
       "metadata": {},
       "output_type": "display_data",
       "text": [
        "<IPython.core.display.Javascript at 0x3543d30>"
       ]
      },
      {
       "javascript": [
        "$('div#5688941d-bb76-4906-a2ad-353a883818e8').text('ETA:  0:00:00');"
       ],
       "metadata": {},
       "output_type": "display_data",
       "text": [
        "<IPython.core.display.Javascript at 0x3543550>"
       ]
      },
      {
       "javascript": [
        "$('div#e3c370fe-b4f4-428a-aa08-0b66a867db68').text('25 of 98');"
       ],
       "metadata": {},
       "output_type": "display_data",
       "text": [
        "<IPython.core.display.Javascript at 0xb3e9f780>"
       ]
      },
      {
       "javascript": [
        "$('div#448cd6fc-30f6-4f66-a3f9-95460f71b294').text(' 25%');"
       ],
       "metadata": {},
       "output_type": "display_data",
       "text": [
        "<IPython.core.display.Javascript at 0xb3e9f6a0>"
       ]
      },
      {
       "javascript": [
        "\n",
        "        var $myPB = $(\"div#c9c62fa5-fecf-494c-bee5-3527345397c9\")\n",
        "        if ($myPB.hasClass('ui-progressbar')) {\n",
        "            $myPB.progressbar('value', 25);\n",
        "        } else {\n",
        "            $myPB.progressbar({value: 0, max: 98});\n",
        "        }\n",
        "        "
       ],
       "metadata": {},
       "output_type": "display_data",
       "text": [
        "<IPython.core.display.Javascript at 0x3543d30>"
       ]
      },
      {
       "javascript": [
        "$('div#5688941d-bb76-4906-a2ad-353a883818e8').text('ETA:  0:00:00');"
       ],
       "metadata": {},
       "output_type": "display_data",
       "text": [
        "<IPython.core.display.Javascript at 0x3543550>"
       ]
      },
      {
       "javascript": [
        "$('div#e3c370fe-b4f4-428a-aa08-0b66a867db68').text('26 of 98');"
       ],
       "metadata": {},
       "output_type": "display_data",
       "text": [
        "<IPython.core.display.Javascript at 0xb3e9f7b8>"
       ]
      },
      {
       "javascript": [
        "$('div#448cd6fc-30f6-4f66-a3f9-95460f71b294').text(' 26%');"
       ],
       "metadata": {},
       "output_type": "display_data",
       "text": [
        "<IPython.core.display.Javascript at 0xb3e9f6a0>"
       ]
      },
      {
       "javascript": [
        "\n",
        "        var $myPB = $(\"div#c9c62fa5-fecf-494c-bee5-3527345397c9\")\n",
        "        if ($myPB.hasClass('ui-progressbar')) {\n",
        "            $myPB.progressbar('value', 26);\n",
        "        } else {\n",
        "            $myPB.progressbar({value: 0, max: 98});\n",
        "        }\n",
        "        "
       ],
       "metadata": {},
       "output_type": "display_data",
       "text": [
        "<IPython.core.display.Javascript at 0x3543d30>"
       ]
      },
      {
       "javascript": [
        "$('div#5688941d-bb76-4906-a2ad-353a883818e8').text('ETA:  0:00:00');"
       ],
       "metadata": {},
       "output_type": "display_data",
       "text": [
        "<IPython.core.display.Javascript at 0x3543550>"
       ]
      },
      {
       "javascript": [
        "$('div#e3c370fe-b4f4-428a-aa08-0b66a867db68').text('27 of 98');"
       ],
       "metadata": {},
       "output_type": "display_data",
       "text": [
        "<IPython.core.display.Javascript at 0xb3e9f5c0>"
       ]
      },
      {
       "javascript": [
        "$('div#448cd6fc-30f6-4f66-a3f9-95460f71b294').text(' 27%');"
       ],
       "metadata": {},
       "output_type": "display_data",
       "text": [
        "<IPython.core.display.Javascript at 0xb3e9f6a0>"
       ]
      },
      {
       "javascript": [
        "\n",
        "        var $myPB = $(\"div#c9c62fa5-fecf-494c-bee5-3527345397c9\")\n",
        "        if ($myPB.hasClass('ui-progressbar')) {\n",
        "            $myPB.progressbar('value', 27);\n",
        "        } else {\n",
        "            $myPB.progressbar({value: 0, max: 98});\n",
        "        }\n",
        "        "
       ],
       "metadata": {},
       "output_type": "display_data",
       "text": [
        "<IPython.core.display.Javascript at 0x3543d30>"
       ]
      },
      {
       "javascript": [
        "$('div#5688941d-bb76-4906-a2ad-353a883818e8').text('ETA:  0:00:00');"
       ],
       "metadata": {},
       "output_type": "display_data",
       "text": [
        "<IPython.core.display.Javascript at 0x3543550>"
       ]
      },
      {
       "javascript": [
        "$('div#e3c370fe-b4f4-428a-aa08-0b66a867db68').text('28 of 98');"
       ],
       "metadata": {},
       "output_type": "display_data",
       "text": [
        "<IPython.core.display.Javascript at 0xb3e9f5f8>"
       ]
      },
      {
       "javascript": [
        "$('div#448cd6fc-30f6-4f66-a3f9-95460f71b294').text(' 28%');"
       ],
       "metadata": {},
       "output_type": "display_data",
       "text": [
        "<IPython.core.display.Javascript at 0xb3e9f6a0>"
       ]
      },
      {
       "javascript": [
        "\n",
        "        var $myPB = $(\"div#c9c62fa5-fecf-494c-bee5-3527345397c9\")\n",
        "        if ($myPB.hasClass('ui-progressbar')) {\n",
        "            $myPB.progressbar('value', 28);\n",
        "        } else {\n",
        "            $myPB.progressbar({value: 0, max: 98});\n",
        "        }\n",
        "        "
       ],
       "metadata": {},
       "output_type": "display_data",
       "text": [
        "<IPython.core.display.Javascript at 0x3543d30>"
       ]
      },
      {
       "javascript": [
        "$('div#5688941d-bb76-4906-a2ad-353a883818e8').text('ETA:  0:00:00');"
       ],
       "metadata": {},
       "output_type": "display_data",
       "text": [
        "<IPython.core.display.Javascript at 0x3543550>"
       ]
      },
      {
       "javascript": [
        "$('div#e3c370fe-b4f4-428a-aa08-0b66a867db68').text('29 of 98');"
       ],
       "metadata": {},
       "output_type": "display_data",
       "text": [
        "<IPython.core.display.Javascript at 0xb3e9f588>"
       ]
      },
      {
       "javascript": [
        "$('div#448cd6fc-30f6-4f66-a3f9-95460f71b294').text(' 29%');"
       ],
       "metadata": {},
       "output_type": "display_data",
       "text": [
        "<IPython.core.display.Javascript at 0xb3e9f6a0>"
       ]
      },
      {
       "javascript": [
        "\n",
        "        var $myPB = $(\"div#c9c62fa5-fecf-494c-bee5-3527345397c9\")\n",
        "        if ($myPB.hasClass('ui-progressbar')) {\n",
        "            $myPB.progressbar('value', 29);\n",
        "        } else {\n",
        "            $myPB.progressbar({value: 0, max: 98});\n",
        "        }\n",
        "        "
       ],
       "metadata": {},
       "output_type": "display_data",
       "text": [
        "<IPython.core.display.Javascript at 0x3543d30>"
       ]
      },
      {
       "javascript": [
        "$('div#5688941d-bb76-4906-a2ad-353a883818e8').text('ETA:  0:00:00');"
       ],
       "metadata": {},
       "output_type": "display_data",
       "text": [
        "<IPython.core.display.Javascript at 0x3543550>"
       ]
      },
      {
       "javascript": [
        "$('div#e3c370fe-b4f4-428a-aa08-0b66a867db68').text('30 of 98');"
       ],
       "metadata": {},
       "output_type": "display_data",
       "text": [
        "<IPython.core.display.Javascript at 0xb3e9f748>"
       ]
      },
      {
       "javascript": [
        "$('div#448cd6fc-30f6-4f66-a3f9-95460f71b294').text(' 30%');"
       ],
       "metadata": {},
       "output_type": "display_data",
       "text": [
        "<IPython.core.display.Javascript at 0xb3e9f6a0>"
       ]
      },
      {
       "javascript": [
        "\n",
        "        var $myPB = $(\"div#c9c62fa5-fecf-494c-bee5-3527345397c9\")\n",
        "        if ($myPB.hasClass('ui-progressbar')) {\n",
        "            $myPB.progressbar('value', 30);\n",
        "        } else {\n",
        "            $myPB.progressbar({value: 0, max: 98});\n",
        "        }\n",
        "        "
       ],
       "metadata": {},
       "output_type": "display_data",
       "text": [
        "<IPython.core.display.Javascript at 0x3543d30>"
       ]
      },
      {
       "javascript": [
        "$('div#5688941d-bb76-4906-a2ad-353a883818e8').text('ETA:  0:00:00');"
       ],
       "metadata": {},
       "output_type": "display_data",
       "text": [
        "<IPython.core.display.Javascript at 0x3543550>"
       ]
      },
      {
       "javascript": [
        "$('div#e3c370fe-b4f4-428a-aa08-0b66a867db68').text('31 of 98');"
       ],
       "metadata": {},
       "output_type": "display_data",
       "text": [
        "<IPython.core.display.Javascript at 0xb3e9f710>"
       ]
      },
      {
       "javascript": [
        "$('div#448cd6fc-30f6-4f66-a3f9-95460f71b294').text(' 31%');"
       ],
       "metadata": {},
       "output_type": "display_data",
       "text": [
        "<IPython.core.display.Javascript at 0xb3e9f6a0>"
       ]
      },
      {
       "javascript": [
        "\n",
        "        var $myPB = $(\"div#c9c62fa5-fecf-494c-bee5-3527345397c9\")\n",
        "        if ($myPB.hasClass('ui-progressbar')) {\n",
        "            $myPB.progressbar('value', 31);\n",
        "        } else {\n",
        "            $myPB.progressbar({value: 0, max: 98});\n",
        "        }\n",
        "        "
       ],
       "metadata": {},
       "output_type": "display_data",
       "text": [
        "<IPython.core.display.Javascript at 0x3543d30>"
       ]
      },
      {
       "javascript": [
        "$('div#5688941d-bb76-4906-a2ad-353a883818e8').text('ETA:  0:00:00');"
       ],
       "metadata": {},
       "output_type": "display_data",
       "text": [
        "<IPython.core.display.Javascript at 0x3543550>"
       ]
      },
      {
       "javascript": [
        "$('div#e3c370fe-b4f4-428a-aa08-0b66a867db68').text('32 of 98');"
       ],
       "metadata": {},
       "output_type": "display_data",
       "text": [
        "<IPython.core.display.Javascript at 0xb3e9f780>"
       ]
      },
      {
       "javascript": [
        "$('div#448cd6fc-30f6-4f66-a3f9-95460f71b294').text(' 32%');"
       ],
       "metadata": {},
       "output_type": "display_data",
       "text": [
        "<IPython.core.display.Javascript at 0xb3e9f6a0>"
       ]
      },
      {
       "javascript": [
        "\n",
        "        var $myPB = $(\"div#c9c62fa5-fecf-494c-bee5-3527345397c9\")\n",
        "        if ($myPB.hasClass('ui-progressbar')) {\n",
        "            $myPB.progressbar('value', 32);\n",
        "        } else {\n",
        "            $myPB.progressbar({value: 0, max: 98});\n",
        "        }\n",
        "        "
       ],
       "metadata": {},
       "output_type": "display_data",
       "text": [
        "<IPython.core.display.Javascript at 0x3543d30>"
       ]
      },
      {
       "javascript": [
        "$('div#5688941d-bb76-4906-a2ad-353a883818e8').text('ETA:  0:00:00');"
       ],
       "metadata": {},
       "output_type": "display_data",
       "text": [
        "<IPython.core.display.Javascript at 0x3543550>"
       ]
      },
      {
       "javascript": [
        "$('div#e3c370fe-b4f4-428a-aa08-0b66a867db68').text('33 of 98');"
       ],
       "metadata": {},
       "output_type": "display_data",
       "text": [
        "<IPython.core.display.Javascript at 0xb3e9f7b8>"
       ]
      },
      {
       "javascript": [
        "$('div#448cd6fc-30f6-4f66-a3f9-95460f71b294').text(' 33%');"
       ],
       "metadata": {},
       "output_type": "display_data",
       "text": [
        "<IPython.core.display.Javascript at 0xb3e9f6a0>"
       ]
      },
      {
       "javascript": [
        "\n",
        "        var $myPB = $(\"div#c9c62fa5-fecf-494c-bee5-3527345397c9\")\n",
        "        if ($myPB.hasClass('ui-progressbar')) {\n",
        "            $myPB.progressbar('value', 33);\n",
        "        } else {\n",
        "            $myPB.progressbar({value: 0, max: 98});\n",
        "        }\n",
        "        "
       ],
       "metadata": {},
       "output_type": "display_data",
       "text": [
        "<IPython.core.display.Javascript at 0x3543d30>"
       ]
      },
      {
       "javascript": [
        "$('div#5688941d-bb76-4906-a2ad-353a883818e8').text('ETA:  0:00:00');"
       ],
       "metadata": {},
       "output_type": "display_data",
       "text": [
        "<IPython.core.display.Javascript at 0x3543550>"
       ]
      },
      {
       "javascript": [
        "$('div#e3c370fe-b4f4-428a-aa08-0b66a867db68').text('34 of 98');"
       ],
       "metadata": {},
       "output_type": "display_data",
       "text": [
        "<IPython.core.display.Javascript at 0xb3e9f5c0>"
       ]
      },
      {
       "javascript": [
        "$('div#448cd6fc-30f6-4f66-a3f9-95460f71b294').text(' 34%');"
       ],
       "metadata": {},
       "output_type": "display_data",
       "text": [
        "<IPython.core.display.Javascript at 0xb3e9f6a0>"
       ]
      },
      {
       "javascript": [
        "\n",
        "        var $myPB = $(\"div#c9c62fa5-fecf-494c-bee5-3527345397c9\")\n",
        "        if ($myPB.hasClass('ui-progressbar')) {\n",
        "            $myPB.progressbar('value', 34);\n",
        "        } else {\n",
        "            $myPB.progressbar({value: 0, max: 98});\n",
        "        }\n",
        "        "
       ],
       "metadata": {},
       "output_type": "display_data",
       "text": [
        "<IPython.core.display.Javascript at 0x3543d30>"
       ]
      },
      {
       "javascript": [
        "$('div#5688941d-bb76-4906-a2ad-353a883818e8').text('ETA:  0:00:00');"
       ],
       "metadata": {},
       "output_type": "display_data",
       "text": [
        "<IPython.core.display.Javascript at 0x3543550>"
       ]
      },
      {
       "javascript": [
        "$('div#e3c370fe-b4f4-428a-aa08-0b66a867db68').text('35 of 98');"
       ],
       "metadata": {},
       "output_type": "display_data",
       "text": [
        "<IPython.core.display.Javascript at 0xb3e9f5f8>"
       ]
      },
      {
       "javascript": [
        "$('div#448cd6fc-30f6-4f66-a3f9-95460f71b294').text(' 35%');"
       ],
       "metadata": {},
       "output_type": "display_data",
       "text": [
        "<IPython.core.display.Javascript at 0xb3e9f6a0>"
       ]
      },
      {
       "javascript": [
        "\n",
        "        var $myPB = $(\"div#c9c62fa5-fecf-494c-bee5-3527345397c9\")\n",
        "        if ($myPB.hasClass('ui-progressbar')) {\n",
        "            $myPB.progressbar('value', 35);\n",
        "        } else {\n",
        "            $myPB.progressbar({value: 0, max: 98});\n",
        "        }\n",
        "        "
       ],
       "metadata": {},
       "output_type": "display_data",
       "text": [
        "<IPython.core.display.Javascript at 0x3543d30>"
       ]
      },
      {
       "javascript": [
        "$('div#5688941d-bb76-4906-a2ad-353a883818e8').text('ETA:  0:00:00');"
       ],
       "metadata": {},
       "output_type": "display_data",
       "text": [
        "<IPython.core.display.Javascript at 0x3543550>"
       ]
      },
      {
       "javascript": [
        "$('div#e3c370fe-b4f4-428a-aa08-0b66a867db68').text('36 of 98');"
       ],
       "metadata": {},
       "output_type": "display_data",
       "text": [
        "<IPython.core.display.Javascript at 0xb3e9f588>"
       ]
      },
      {
       "javascript": [
        "$('div#448cd6fc-30f6-4f66-a3f9-95460f71b294').text(' 36%');"
       ],
       "metadata": {},
       "output_type": "display_data",
       "text": [
        "<IPython.core.display.Javascript at 0xb3e9f6a0>"
       ]
      },
      {
       "javascript": [
        "\n",
        "        var $myPB = $(\"div#c9c62fa5-fecf-494c-bee5-3527345397c9\")\n",
        "        if ($myPB.hasClass('ui-progressbar')) {\n",
        "            $myPB.progressbar('value', 36);\n",
        "        } else {\n",
        "            $myPB.progressbar({value: 0, max: 98});\n",
        "        }\n",
        "        "
       ],
       "metadata": {},
       "output_type": "display_data",
       "text": [
        "<IPython.core.display.Javascript at 0x3543d30>"
       ]
      },
      {
       "javascript": [
        "$('div#5688941d-bb76-4906-a2ad-353a883818e8').text('ETA:  0:00:00');"
       ],
       "metadata": {},
       "output_type": "display_data",
       "text": [
        "<IPython.core.display.Javascript at 0x3543550>"
       ]
      },
      {
       "javascript": [
        "$('div#e3c370fe-b4f4-428a-aa08-0b66a867db68').text('37 of 98');"
       ],
       "metadata": {},
       "output_type": "display_data",
       "text": [
        "<IPython.core.display.Javascript at 0xb3e9f748>"
       ]
      },
      {
       "javascript": [
        "$('div#448cd6fc-30f6-4f66-a3f9-95460f71b294').text(' 37%');"
       ],
       "metadata": {},
       "output_type": "display_data",
       "text": [
        "<IPython.core.display.Javascript at 0xb3e9f6a0>"
       ]
      },
      {
       "javascript": [
        "\n",
        "        var $myPB = $(\"div#c9c62fa5-fecf-494c-bee5-3527345397c9\")\n",
        "        if ($myPB.hasClass('ui-progressbar')) {\n",
        "            $myPB.progressbar('value', 37);\n",
        "        } else {\n",
        "            $myPB.progressbar({value: 0, max: 98});\n",
        "        }\n",
        "        "
       ],
       "metadata": {},
       "output_type": "display_data",
       "text": [
        "<IPython.core.display.Javascript at 0x3543d30>"
       ]
      },
      {
       "javascript": [
        "$('div#5688941d-bb76-4906-a2ad-353a883818e8').text('ETA:  0:00:00');"
       ],
       "metadata": {},
       "output_type": "display_data",
       "text": [
        "<IPython.core.display.Javascript at 0x3543550>"
       ]
      },
      {
       "javascript": [
        "$('div#e3c370fe-b4f4-428a-aa08-0b66a867db68').text('38 of 98');"
       ],
       "metadata": {},
       "output_type": "display_data",
       "text": [
        "<IPython.core.display.Javascript at 0xb3e9f710>"
       ]
      },
      {
       "javascript": [
        "$('div#448cd6fc-30f6-4f66-a3f9-95460f71b294').text(' 38%');"
       ],
       "metadata": {},
       "output_type": "display_data",
       "text": [
        "<IPython.core.display.Javascript at 0xb3e9f6a0>"
       ]
      },
      {
       "javascript": [
        "\n",
        "        var $myPB = $(\"div#c9c62fa5-fecf-494c-bee5-3527345397c9\")\n",
        "        if ($myPB.hasClass('ui-progressbar')) {\n",
        "            $myPB.progressbar('value', 38);\n",
        "        } else {\n",
        "            $myPB.progressbar({value: 0, max: 98});\n",
        "        }\n",
        "        "
       ],
       "metadata": {},
       "output_type": "display_data",
       "text": [
        "<IPython.core.display.Javascript at 0x3543d30>"
       ]
      },
      {
       "javascript": [
        "$('div#5688941d-bb76-4906-a2ad-353a883818e8').text('ETA:  0:00:00');"
       ],
       "metadata": {},
       "output_type": "display_data",
       "text": [
        "<IPython.core.display.Javascript at 0x3543550>"
       ]
      },
      {
       "javascript": [
        "$('div#e3c370fe-b4f4-428a-aa08-0b66a867db68').text('39 of 98');"
       ],
       "metadata": {},
       "output_type": "display_data",
       "text": [
        "<IPython.core.display.Javascript at 0xb3e9f780>"
       ]
      },
      {
       "javascript": [
        "$('div#448cd6fc-30f6-4f66-a3f9-95460f71b294').text(' 39%');"
       ],
       "metadata": {},
       "output_type": "display_data",
       "text": [
        "<IPython.core.display.Javascript at 0xb3e9f6a0>"
       ]
      },
      {
       "javascript": [
        "\n",
        "        var $myPB = $(\"div#c9c62fa5-fecf-494c-bee5-3527345397c9\")\n",
        "        if ($myPB.hasClass('ui-progressbar')) {\n",
        "            $myPB.progressbar('value', 39);\n",
        "        } else {\n",
        "            $myPB.progressbar({value: 0, max: 98});\n",
        "        }\n",
        "        "
       ],
       "metadata": {},
       "output_type": "display_data",
       "text": [
        "<IPython.core.display.Javascript at 0x3543d30>"
       ]
      },
      {
       "javascript": [
        "$('div#5688941d-bb76-4906-a2ad-353a883818e8').text('ETA:  0:00:00');"
       ],
       "metadata": {},
       "output_type": "display_data",
       "text": [
        "<IPython.core.display.Javascript at 0x3543550>"
       ]
      },
      {
       "javascript": [
        "$('div#e3c370fe-b4f4-428a-aa08-0b66a867db68').text('40 of 98');"
       ],
       "metadata": {},
       "output_type": "display_data",
       "text": [
        "<IPython.core.display.Javascript at 0xb3e9f7b8>"
       ]
      },
      {
       "javascript": [
        "$('div#448cd6fc-30f6-4f66-a3f9-95460f71b294').text(' 40%');"
       ],
       "metadata": {},
       "output_type": "display_data",
       "text": [
        "<IPython.core.display.Javascript at 0xb3e9f6a0>"
       ]
      },
      {
       "javascript": [
        "\n",
        "        var $myPB = $(\"div#c9c62fa5-fecf-494c-bee5-3527345397c9\")\n",
        "        if ($myPB.hasClass('ui-progressbar')) {\n",
        "            $myPB.progressbar('value', 40);\n",
        "        } else {\n",
        "            $myPB.progressbar({value: 0, max: 98});\n",
        "        }\n",
        "        "
       ],
       "metadata": {},
       "output_type": "display_data",
       "text": [
        "<IPython.core.display.Javascript at 0x3543d30>"
       ]
      },
      {
       "javascript": [
        "$('div#5688941d-bb76-4906-a2ad-353a883818e8').text('ETA:  0:00:00');"
       ],
       "metadata": {},
       "output_type": "display_data",
       "text": [
        "<IPython.core.display.Javascript at 0x3543550>"
       ]
      },
      {
       "javascript": [
        "$('div#e3c370fe-b4f4-428a-aa08-0b66a867db68').text('41 of 98');"
       ],
       "metadata": {},
       "output_type": "display_data",
       "text": [
        "<IPython.core.display.Javascript at 0xb3e9f5c0>"
       ]
      },
      {
       "javascript": [
        "$('div#448cd6fc-30f6-4f66-a3f9-95460f71b294').text(' 41%');"
       ],
       "metadata": {},
       "output_type": "display_data",
       "text": [
        "<IPython.core.display.Javascript at 0xb3e9f6a0>"
       ]
      },
      {
       "javascript": [
        "\n",
        "        var $myPB = $(\"div#c9c62fa5-fecf-494c-bee5-3527345397c9\")\n",
        "        if ($myPB.hasClass('ui-progressbar')) {\n",
        "            $myPB.progressbar('value', 41);\n",
        "        } else {\n",
        "            $myPB.progressbar({value: 0, max: 98});\n",
        "        }\n",
        "        "
       ],
       "metadata": {},
       "output_type": "display_data",
       "text": [
        "<IPython.core.display.Javascript at 0x3543d30>"
       ]
      },
      {
       "javascript": [
        "$('div#5688941d-bb76-4906-a2ad-353a883818e8').text('ETA:  0:00:00');"
       ],
       "metadata": {},
       "output_type": "display_data",
       "text": [
        "<IPython.core.display.Javascript at 0x3543550>"
       ]
      },
      {
       "javascript": [
        "$('div#e3c370fe-b4f4-428a-aa08-0b66a867db68').text('42 of 98');"
       ],
       "metadata": {},
       "output_type": "display_data",
       "text": [
        "<IPython.core.display.Javascript at 0xb3e9f5f8>"
       ]
      },
      {
       "javascript": [
        "$('div#448cd6fc-30f6-4f66-a3f9-95460f71b294').text(' 42%');"
       ],
       "metadata": {},
       "output_type": "display_data",
       "text": [
        "<IPython.core.display.Javascript at 0xb3e9f6a0>"
       ]
      },
      {
       "javascript": [
        "\n",
        "        var $myPB = $(\"div#c9c62fa5-fecf-494c-bee5-3527345397c9\")\n",
        "        if ($myPB.hasClass('ui-progressbar')) {\n",
        "            $myPB.progressbar('value', 42);\n",
        "        } else {\n",
        "            $myPB.progressbar({value: 0, max: 98});\n",
        "        }\n",
        "        "
       ],
       "metadata": {},
       "output_type": "display_data",
       "text": [
        "<IPython.core.display.Javascript at 0x3543d30>"
       ]
      },
      {
       "javascript": [
        "$('div#5688941d-bb76-4906-a2ad-353a883818e8').text('ETA:  0:00:00');"
       ],
       "metadata": {},
       "output_type": "display_data",
       "text": [
        "<IPython.core.display.Javascript at 0x3543550>"
       ]
      },
      {
       "javascript": [
        "$('div#e3c370fe-b4f4-428a-aa08-0b66a867db68').text('43 of 98');"
       ],
       "metadata": {},
       "output_type": "display_data",
       "text": [
        "<IPython.core.display.Javascript at 0xb3e9f588>"
       ]
      },
      {
       "javascript": [
        "$('div#448cd6fc-30f6-4f66-a3f9-95460f71b294').text(' 43%');"
       ],
       "metadata": {},
       "output_type": "display_data",
       "text": [
        "<IPython.core.display.Javascript at 0xb3e9f6a0>"
       ]
      },
      {
       "javascript": [
        "\n",
        "        var $myPB = $(\"div#c9c62fa5-fecf-494c-bee5-3527345397c9\")\n",
        "        if ($myPB.hasClass('ui-progressbar')) {\n",
        "            $myPB.progressbar('value', 43);\n",
        "        } else {\n",
        "            $myPB.progressbar({value: 0, max: 98});\n",
        "        }\n",
        "        "
       ],
       "metadata": {},
       "output_type": "display_data",
       "text": [
        "<IPython.core.display.Javascript at 0x3543d30>"
       ]
      },
      {
       "javascript": [
        "$('div#5688941d-bb76-4906-a2ad-353a883818e8').text('ETA:  0:00:00');"
       ],
       "metadata": {},
       "output_type": "display_data",
       "text": [
        "<IPython.core.display.Javascript at 0x3543550>"
       ]
      },
      {
       "javascript": [
        "$('div#e3c370fe-b4f4-428a-aa08-0b66a867db68').text('44 of 98');"
       ],
       "metadata": {},
       "output_type": "display_data",
       "text": [
        "<IPython.core.display.Javascript at 0xb3e9f748>"
       ]
      },
      {
       "javascript": [
        "$('div#448cd6fc-30f6-4f66-a3f9-95460f71b294').text(' 44%');"
       ],
       "metadata": {},
       "output_type": "display_data",
       "text": [
        "<IPython.core.display.Javascript at 0xb3e9f6a0>"
       ]
      },
      {
       "javascript": [
        "\n",
        "        var $myPB = $(\"div#c9c62fa5-fecf-494c-bee5-3527345397c9\")\n",
        "        if ($myPB.hasClass('ui-progressbar')) {\n",
        "            $myPB.progressbar('value', 44);\n",
        "        } else {\n",
        "            $myPB.progressbar({value: 0, max: 98});\n",
        "        }\n",
        "        "
       ],
       "metadata": {},
       "output_type": "display_data",
       "text": [
        "<IPython.core.display.Javascript at 0x3543d30>"
       ]
      },
      {
       "javascript": [
        "$('div#5688941d-bb76-4906-a2ad-353a883818e8').text('ETA:  0:00:00');"
       ],
       "metadata": {},
       "output_type": "display_data",
       "text": [
        "<IPython.core.display.Javascript at 0x3543550>"
       ]
      },
      {
       "javascript": [
        "$('div#e3c370fe-b4f4-428a-aa08-0b66a867db68').text('45 of 98');"
       ],
       "metadata": {},
       "output_type": "display_data",
       "text": [
        "<IPython.core.display.Javascript at 0xb3e9f710>"
       ]
      },
      {
       "javascript": [
        "$('div#448cd6fc-30f6-4f66-a3f9-95460f71b294').text(' 45%');"
       ],
       "metadata": {},
       "output_type": "display_data",
       "text": [
        "<IPython.core.display.Javascript at 0xb3e9f6a0>"
       ]
      },
      {
       "javascript": [
        "\n",
        "        var $myPB = $(\"div#c9c62fa5-fecf-494c-bee5-3527345397c9\")\n",
        "        if ($myPB.hasClass('ui-progressbar')) {\n",
        "            $myPB.progressbar('value', 45);\n",
        "        } else {\n",
        "            $myPB.progressbar({value: 0, max: 98});\n",
        "        }\n",
        "        "
       ],
       "metadata": {},
       "output_type": "display_data",
       "text": [
        "<IPython.core.display.Javascript at 0x3543d30>"
       ]
      },
      {
       "javascript": [
        "$('div#5688941d-bb76-4906-a2ad-353a883818e8').text('ETA:  0:00:00');"
       ],
       "metadata": {},
       "output_type": "display_data",
       "text": [
        "<IPython.core.display.Javascript at 0x3543550>"
       ]
      },
      {
       "javascript": [
        "$('div#e3c370fe-b4f4-428a-aa08-0b66a867db68').text('46 of 98');"
       ],
       "metadata": {},
       "output_type": "display_data",
       "text": [
        "<IPython.core.display.Javascript at 0xb3e9f780>"
       ]
      },
      {
       "javascript": [
        "$('div#448cd6fc-30f6-4f66-a3f9-95460f71b294').text(' 46%');"
       ],
       "metadata": {},
       "output_type": "display_data",
       "text": [
        "<IPython.core.display.Javascript at 0xb3e9f6a0>"
       ]
      },
      {
       "javascript": [
        "\n",
        "        var $myPB = $(\"div#c9c62fa5-fecf-494c-bee5-3527345397c9\")\n",
        "        if ($myPB.hasClass('ui-progressbar')) {\n",
        "            $myPB.progressbar('value', 46);\n",
        "        } else {\n",
        "            $myPB.progressbar({value: 0, max: 98});\n",
        "        }\n",
        "        "
       ],
       "metadata": {},
       "output_type": "display_data",
       "text": [
        "<IPython.core.display.Javascript at 0x3543d30>"
       ]
      },
      {
       "javascript": [
        "$('div#5688941d-bb76-4906-a2ad-353a883818e8').text('ETA:  0:00:00');"
       ],
       "metadata": {},
       "output_type": "display_data",
       "text": [
        "<IPython.core.display.Javascript at 0x3543550>"
       ]
      },
      {
       "javascript": [
        "$('div#e3c370fe-b4f4-428a-aa08-0b66a867db68').text('47 of 98');"
       ],
       "metadata": {},
       "output_type": "display_data",
       "text": [
        "<IPython.core.display.Javascript at 0xb3e9f7b8>"
       ]
      },
      {
       "javascript": [
        "$('div#448cd6fc-30f6-4f66-a3f9-95460f71b294').text(' 47%');"
       ],
       "metadata": {},
       "output_type": "display_data",
       "text": [
        "<IPython.core.display.Javascript at 0xb3e9f6a0>"
       ]
      },
      {
       "javascript": [
        "\n",
        "        var $myPB = $(\"div#c9c62fa5-fecf-494c-bee5-3527345397c9\")\n",
        "        if ($myPB.hasClass('ui-progressbar')) {\n",
        "            $myPB.progressbar('value', 47);\n",
        "        } else {\n",
        "            $myPB.progressbar({value: 0, max: 98});\n",
        "        }\n",
        "        "
       ],
       "metadata": {},
       "output_type": "display_data",
       "text": [
        "<IPython.core.display.Javascript at 0x3543d30>"
       ]
      },
      {
       "javascript": [
        "$('div#5688941d-bb76-4906-a2ad-353a883818e8').text('ETA:  0:00:00');"
       ],
       "metadata": {},
       "output_type": "display_data",
       "text": [
        "<IPython.core.display.Javascript at 0x3543550>"
       ]
      },
      {
       "javascript": [
        "$('div#e3c370fe-b4f4-428a-aa08-0b66a867db68').text('48 of 98');"
       ],
       "metadata": {},
       "output_type": "display_data",
       "text": [
        "<IPython.core.display.Javascript at 0xb3e9f5c0>"
       ]
      },
      {
       "javascript": [
        "$('div#448cd6fc-30f6-4f66-a3f9-95460f71b294').text(' 48%');"
       ],
       "metadata": {},
       "output_type": "display_data",
       "text": [
        "<IPython.core.display.Javascript at 0xb3e9f6a0>"
       ]
      },
      {
       "javascript": [
        "\n",
        "        var $myPB = $(\"div#c9c62fa5-fecf-494c-bee5-3527345397c9\")\n",
        "        if ($myPB.hasClass('ui-progressbar')) {\n",
        "            $myPB.progressbar('value', 48);\n",
        "        } else {\n",
        "            $myPB.progressbar({value: 0, max: 98});\n",
        "        }\n",
        "        "
       ],
       "metadata": {},
       "output_type": "display_data",
       "text": [
        "<IPython.core.display.Javascript at 0x3543d30>"
       ]
      },
      {
       "javascript": [
        "$('div#5688941d-bb76-4906-a2ad-353a883818e8').text('ETA:  0:00:00');"
       ],
       "metadata": {},
       "output_type": "display_data",
       "text": [
        "<IPython.core.display.Javascript at 0x3543550>"
       ]
      },
      {
       "javascript": [
        "$('div#e3c370fe-b4f4-428a-aa08-0b66a867db68').text('49 of 98');"
       ],
       "metadata": {},
       "output_type": "display_data",
       "text": [
        "<IPython.core.display.Javascript at 0xb3e9f5f8>"
       ]
      },
      {
       "javascript": [
        "$('div#448cd6fc-30f6-4f66-a3f9-95460f71b294').text(' 50%');"
       ],
       "metadata": {},
       "output_type": "display_data",
       "text": [
        "<IPython.core.display.Javascript at 0xb3e9f6a0>"
       ]
      },
      {
       "javascript": [
        "\n",
        "        var $myPB = $(\"div#c9c62fa5-fecf-494c-bee5-3527345397c9\")\n",
        "        if ($myPB.hasClass('ui-progressbar')) {\n",
        "            $myPB.progressbar('value', 49);\n",
        "        } else {\n",
        "            $myPB.progressbar({value: 0, max: 98});\n",
        "        }\n",
        "        "
       ],
       "metadata": {},
       "output_type": "display_data",
       "text": [
        "<IPython.core.display.Javascript at 0x3543d30>"
       ]
      },
      {
       "javascript": [
        "$('div#5688941d-bb76-4906-a2ad-353a883818e8').text('ETA:  0:00:00');"
       ],
       "metadata": {},
       "output_type": "display_data",
       "text": [
        "<IPython.core.display.Javascript at 0x3543550>"
       ]
      },
      {
       "javascript": [
        "$('div#e3c370fe-b4f4-428a-aa08-0b66a867db68').text('50 of 98');"
       ],
       "metadata": {},
       "output_type": "display_data",
       "text": [
        "<IPython.core.display.Javascript at 0xb3e9f588>"
       ]
      },
      {
       "javascript": [
        "$('div#448cd6fc-30f6-4f66-a3f9-95460f71b294').text(' 51%');"
       ],
       "metadata": {},
       "output_type": "display_data",
       "text": [
        "<IPython.core.display.Javascript at 0xb3e9f6a0>"
       ]
      },
      {
       "javascript": [
        "\n",
        "        var $myPB = $(\"div#c9c62fa5-fecf-494c-bee5-3527345397c9\")\n",
        "        if ($myPB.hasClass('ui-progressbar')) {\n",
        "            $myPB.progressbar('value', 50);\n",
        "        } else {\n",
        "            $myPB.progressbar({value: 0, max: 98});\n",
        "        }\n",
        "        "
       ],
       "metadata": {},
       "output_type": "display_data",
       "text": [
        "<IPython.core.display.Javascript at 0x3543d30>"
       ]
      },
      {
       "javascript": [
        "$('div#5688941d-bb76-4906-a2ad-353a883818e8').text('ETA:  0:00:00');"
       ],
       "metadata": {},
       "output_type": "display_data",
       "text": [
        "<IPython.core.display.Javascript at 0x3543550>"
       ]
      },
      {
       "javascript": [
        "$('div#e3c370fe-b4f4-428a-aa08-0b66a867db68').text('51 of 98');"
       ],
       "metadata": {},
       "output_type": "display_data",
       "text": [
        "<IPython.core.display.Javascript at 0xb3e9f6a0>"
       ]
      },
      {
       "javascript": [
        "$('div#448cd6fc-30f6-4f66-a3f9-95460f71b294').text(' 52%');"
       ],
       "metadata": {},
       "output_type": "display_data",
       "text": [
        "<IPython.core.display.Javascript at 0xb3e9f780>"
       ]
      },
      {
       "javascript": [
        "\n",
        "        var $myPB = $(\"div#c9c62fa5-fecf-494c-bee5-3527345397c9\")\n",
        "        if ($myPB.hasClass('ui-progressbar')) {\n",
        "            $myPB.progressbar('value', 51);\n",
        "        } else {\n",
        "            $myPB.progressbar({value: 0, max: 98});\n",
        "        }\n",
        "        "
       ],
       "metadata": {},
       "output_type": "display_data",
       "text": [
        "<IPython.core.display.Javascript at 0x3543d30>"
       ]
      },
      {
       "javascript": [
        "$('div#5688941d-bb76-4906-a2ad-353a883818e8').text('ETA:  0:00:00');"
       ],
       "metadata": {},
       "output_type": "display_data",
       "text": [
        "<IPython.core.display.Javascript at 0x3543550>"
       ]
      },
      {
       "javascript": [
        "$('div#e3c370fe-b4f4-428a-aa08-0b66a867db68').text('52 of 98');"
       ],
       "metadata": {},
       "output_type": "display_data",
       "text": [
        "<IPython.core.display.Javascript at 0xb3e9f780>"
       ]
      },
      {
       "javascript": [
        "$('div#448cd6fc-30f6-4f66-a3f9-95460f71b294').text(' 53%');"
       ],
       "metadata": {},
       "output_type": "display_data",
       "text": [
        "<IPython.core.display.Javascript at 0xb3e9f5c0>"
       ]
      },
      {
       "javascript": [
        "\n",
        "        var $myPB = $(\"div#c9c62fa5-fecf-494c-bee5-3527345397c9\")\n",
        "        if ($myPB.hasClass('ui-progressbar')) {\n",
        "            $myPB.progressbar('value', 52);\n",
        "        } else {\n",
        "            $myPB.progressbar({value: 0, max: 98});\n",
        "        }\n",
        "        "
       ],
       "metadata": {},
       "output_type": "display_data",
       "text": [
        "<IPython.core.display.Javascript at 0x3543d30>"
       ]
      },
      {
       "javascript": [
        "$('div#5688941d-bb76-4906-a2ad-353a883818e8').text('ETA:  0:00:00');"
       ],
       "metadata": {},
       "output_type": "display_data",
       "text": [
        "<IPython.core.display.Javascript at 0x3543550>"
       ]
      },
      {
       "javascript": [
        "$('div#e3c370fe-b4f4-428a-aa08-0b66a867db68').text('53 of 98');"
       ],
       "metadata": {},
       "output_type": "display_data",
       "text": [
        "<IPython.core.display.Javascript at 0xb3e9f5c0>"
       ]
      },
      {
       "javascript": [
        "$('div#448cd6fc-30f6-4f66-a3f9-95460f71b294').text(' 54%');"
       ],
       "metadata": {},
       "output_type": "display_data",
       "text": [
        "<IPython.core.display.Javascript at 0xb3e9f588>"
       ]
      },
      {
       "javascript": [
        "\n",
        "        var $myPB = $(\"div#c9c62fa5-fecf-494c-bee5-3527345397c9\")\n",
        "        if ($myPB.hasClass('ui-progressbar')) {\n",
        "            $myPB.progressbar('value', 53);\n",
        "        } else {\n",
        "            $myPB.progressbar({value: 0, max: 98});\n",
        "        }\n",
        "        "
       ],
       "metadata": {},
       "output_type": "display_data",
       "text": [
        "<IPython.core.display.Javascript at 0x3543d30>"
       ]
      },
      {
       "javascript": [
        "$('div#5688941d-bb76-4906-a2ad-353a883818e8').text('ETA:  0:00:00');"
       ],
       "metadata": {},
       "output_type": "display_data",
       "text": [
        "<IPython.core.display.Javascript at 0x3543550>"
       ]
      },
      {
       "javascript": [
        "$('div#e3c370fe-b4f4-428a-aa08-0b66a867db68').text('54 of 98');"
       ],
       "metadata": {},
       "output_type": "display_data",
       "text": [
        "<IPython.core.display.Javascript at 0xb3e9f588>"
       ]
      },
      {
       "javascript": [
        "$('div#448cd6fc-30f6-4f66-a3f9-95460f71b294').text(' 55%');"
       ],
       "metadata": {},
       "output_type": "display_data",
       "text": [
        "<IPython.core.display.Javascript at 0xb3e9f6a0>"
       ]
      },
      {
       "javascript": [
        "\n",
        "        var $myPB = $(\"div#c9c62fa5-fecf-494c-bee5-3527345397c9\")\n",
        "        if ($myPB.hasClass('ui-progressbar')) {\n",
        "            $myPB.progressbar('value', 54);\n",
        "        } else {\n",
        "            $myPB.progressbar({value: 0, max: 98});\n",
        "        }\n",
        "        "
       ],
       "metadata": {},
       "output_type": "display_data",
       "text": [
        "<IPython.core.display.Javascript at 0x3543d30>"
       ]
      },
      {
       "javascript": [
        "$('div#5688941d-bb76-4906-a2ad-353a883818e8').text('ETA:  0:00:00');"
       ],
       "metadata": {},
       "output_type": "display_data",
       "text": [
        "<IPython.core.display.Javascript at 0x3543550>"
       ]
      },
      {
       "javascript": [
        "$('div#e3c370fe-b4f4-428a-aa08-0b66a867db68').text('55 of 98');"
       ],
       "metadata": {},
       "output_type": "display_data",
       "text": [
        "<IPython.core.display.Javascript at 0xb3e9f6a0>"
       ]
      },
      {
       "javascript": [
        "$('div#448cd6fc-30f6-4f66-a3f9-95460f71b294').text(' 56%');"
       ],
       "metadata": {},
       "output_type": "display_data",
       "text": [
        "<IPython.core.display.Javascript at 0xb3e9f780>"
       ]
      },
      {
       "javascript": [
        "\n",
        "        var $myPB = $(\"div#c9c62fa5-fecf-494c-bee5-3527345397c9\")\n",
        "        if ($myPB.hasClass('ui-progressbar')) {\n",
        "            $myPB.progressbar('value', 55);\n",
        "        } else {\n",
        "            $myPB.progressbar({value: 0, max: 98});\n",
        "        }\n",
        "        "
       ],
       "metadata": {},
       "output_type": "display_data",
       "text": [
        "<IPython.core.display.Javascript at 0x3543d30>"
       ]
      },
      {
       "javascript": [
        "$('div#5688941d-bb76-4906-a2ad-353a883818e8').text('ETA:  0:00:00');"
       ],
       "metadata": {},
       "output_type": "display_data",
       "text": [
        "<IPython.core.display.Javascript at 0x3543550>"
       ]
      },
      {
       "javascript": [
        "$('div#e3c370fe-b4f4-428a-aa08-0b66a867db68').text('56 of 98');"
       ],
       "metadata": {},
       "output_type": "display_data",
       "text": [
        "<IPython.core.display.Javascript at 0xb3e9f780>"
       ]
      },
      {
       "javascript": [
        "$('div#448cd6fc-30f6-4f66-a3f9-95460f71b294').text(' 57%');"
       ],
       "metadata": {},
       "output_type": "display_data",
       "text": [
        "<IPython.core.display.Javascript at 0xb3e9f5c0>"
       ]
      },
      {
       "javascript": [
        "\n",
        "        var $myPB = $(\"div#c9c62fa5-fecf-494c-bee5-3527345397c9\")\n",
        "        if ($myPB.hasClass('ui-progressbar')) {\n",
        "            $myPB.progressbar('value', 56);\n",
        "        } else {\n",
        "            $myPB.progressbar({value: 0, max: 98});\n",
        "        }\n",
        "        "
       ],
       "metadata": {},
       "output_type": "display_data",
       "text": [
        "<IPython.core.display.Javascript at 0x3543d30>"
       ]
      },
      {
       "javascript": [
        "$('div#5688941d-bb76-4906-a2ad-353a883818e8').text('ETA:  0:00:00');"
       ],
       "metadata": {},
       "output_type": "display_data",
       "text": [
        "<IPython.core.display.Javascript at 0x3543550>"
       ]
      },
      {
       "javascript": [
        "$('div#e3c370fe-b4f4-428a-aa08-0b66a867db68').text('57 of 98');"
       ],
       "metadata": {},
       "output_type": "display_data",
       "text": [
        "<IPython.core.display.Javascript at 0xb3e9f5c0>"
       ]
      },
      {
       "javascript": [
        "$('div#448cd6fc-30f6-4f66-a3f9-95460f71b294').text(' 58%');"
       ],
       "metadata": {},
       "output_type": "display_data",
       "text": [
        "<IPython.core.display.Javascript at 0xb3e9f588>"
       ]
      },
      {
       "javascript": [
        "\n",
        "        var $myPB = $(\"div#c9c62fa5-fecf-494c-bee5-3527345397c9\")\n",
        "        if ($myPB.hasClass('ui-progressbar')) {\n",
        "            $myPB.progressbar('value', 57);\n",
        "        } else {\n",
        "            $myPB.progressbar({value: 0, max: 98});\n",
        "        }\n",
        "        "
       ],
       "metadata": {},
       "output_type": "display_data",
       "text": [
        "<IPython.core.display.Javascript at 0x3543d30>"
       ]
      },
      {
       "javascript": [
        "$('div#5688941d-bb76-4906-a2ad-353a883818e8').text('ETA:  0:00:00');"
       ],
       "metadata": {},
       "output_type": "display_data",
       "text": [
        "<IPython.core.display.Javascript at 0x3543550>"
       ]
      },
      {
       "javascript": [
        "$('div#e3c370fe-b4f4-428a-aa08-0b66a867db68').text('58 of 98');"
       ],
       "metadata": {},
       "output_type": "display_data",
       "text": [
        "<IPython.core.display.Javascript at 0xb3e9f860>"
       ]
      },
      {
       "javascript": [
        "$('div#448cd6fc-30f6-4f66-a3f9-95460f71b294').text(' 59%');"
       ],
       "metadata": {},
       "output_type": "display_data",
       "text": [
        "<IPython.core.display.Javascript at 0xb3e9f588>"
       ]
      },
      {
       "javascript": [
        "\n",
        "        var $myPB = $(\"div#c9c62fa5-fecf-494c-bee5-3527345397c9\")\n",
        "        if ($myPB.hasClass('ui-progressbar')) {\n",
        "            $myPB.progressbar('value', 58);\n",
        "        } else {\n",
        "            $myPB.progressbar({value: 0, max: 98});\n",
        "        }\n",
        "        "
       ],
       "metadata": {},
       "output_type": "display_data",
       "text": [
        "<IPython.core.display.Javascript at 0x3543d30>"
       ]
      },
      {
       "javascript": [
        "$('div#5688941d-bb76-4906-a2ad-353a883818e8').text('ETA:  0:00:00');"
       ],
       "metadata": {},
       "output_type": "display_data",
       "text": [
        "<IPython.core.display.Javascript at 0x3543550>"
       ]
      },
      {
       "javascript": [
        "$('div#e3c370fe-b4f4-428a-aa08-0b66a867db68').text('59 of 98');"
       ],
       "metadata": {},
       "output_type": "display_data",
       "text": [
        "<IPython.core.display.Javascript at 0xb3e9f710>"
       ]
      },
      {
       "javascript": [
        "$('div#448cd6fc-30f6-4f66-a3f9-95460f71b294').text(' 60%');"
       ],
       "metadata": {},
       "output_type": "display_data",
       "text": [
        "<IPython.core.display.Javascript at 0xb3e9f588>"
       ]
      },
      {
       "javascript": [
        "\n",
        "        var $myPB = $(\"div#c9c62fa5-fecf-494c-bee5-3527345397c9\")\n",
        "        if ($myPB.hasClass('ui-progressbar')) {\n",
        "            $myPB.progressbar('value', 59);\n",
        "        } else {\n",
        "            $myPB.progressbar({value: 0, max: 98});\n",
        "        }\n",
        "        "
       ],
       "metadata": {},
       "output_type": "display_data",
       "text": [
        "<IPython.core.display.Javascript at 0x3543d30>"
       ]
      },
      {
       "javascript": [
        "$('div#5688941d-bb76-4906-a2ad-353a883818e8').text('ETA:  0:00:00');"
       ],
       "metadata": {},
       "output_type": "display_data",
       "text": [
        "<IPython.core.display.Javascript at 0x3543550>"
       ]
      },
      {
       "javascript": [
        "$('div#e3c370fe-b4f4-428a-aa08-0b66a867db68').text('60 of 98');"
       ],
       "metadata": {},
       "output_type": "display_data",
       "text": [
        "<IPython.core.display.Javascript at 0xb3e9f6a0>"
       ]
      },
      {
       "javascript": [
        "$('div#448cd6fc-30f6-4f66-a3f9-95460f71b294').text(' 61%');"
       ],
       "metadata": {},
       "output_type": "display_data",
       "text": [
        "<IPython.core.display.Javascript at 0xb3e9f588>"
       ]
      },
      {
       "javascript": [
        "\n",
        "        var $myPB = $(\"div#c9c62fa5-fecf-494c-bee5-3527345397c9\")\n",
        "        if ($myPB.hasClass('ui-progressbar')) {\n",
        "            $myPB.progressbar('value', 60);\n",
        "        } else {\n",
        "            $myPB.progressbar({value: 0, max: 98});\n",
        "        }\n",
        "        "
       ],
       "metadata": {},
       "output_type": "display_data",
       "text": [
        "<IPython.core.display.Javascript at 0x3543d30>"
       ]
      },
      {
       "javascript": [
        "$('div#5688941d-bb76-4906-a2ad-353a883818e8').text('ETA:  0:00:00');"
       ],
       "metadata": {},
       "output_type": "display_data",
       "text": [
        "<IPython.core.display.Javascript at 0x3543550>"
       ]
      },
      {
       "javascript": [
        "$('div#e3c370fe-b4f4-428a-aa08-0b66a867db68').text('61 of 98');"
       ],
       "metadata": {},
       "output_type": "display_data",
       "text": [
        "<IPython.core.display.Javascript at 0xb3e9f8d0>"
       ]
      },
      {
       "javascript": [
        "$('div#448cd6fc-30f6-4f66-a3f9-95460f71b294').text(' 62%');"
       ],
       "metadata": {},
       "output_type": "display_data",
       "text": [
        "<IPython.core.display.Javascript at 0xb3e9f588>"
       ]
      },
      {
       "javascript": [
        "\n",
        "        var $myPB = $(\"div#c9c62fa5-fecf-494c-bee5-3527345397c9\")\n",
        "        if ($myPB.hasClass('ui-progressbar')) {\n",
        "            $myPB.progressbar('value', 61);\n",
        "        } else {\n",
        "            $myPB.progressbar({value: 0, max: 98});\n",
        "        }\n",
        "        "
       ],
       "metadata": {},
       "output_type": "display_data",
       "text": [
        "<IPython.core.display.Javascript at 0x3543d30>"
       ]
      },
      {
       "javascript": [
        "$('div#5688941d-bb76-4906-a2ad-353a883818e8').text('ETA:  0:00:00');"
       ],
       "metadata": {},
       "output_type": "display_data",
       "text": [
        "<IPython.core.display.Javascript at 0x3543550>"
       ]
      },
      {
       "javascript": [
        "$('div#e3c370fe-b4f4-428a-aa08-0b66a867db68').text('62 of 98');"
       ],
       "metadata": {},
       "output_type": "display_data",
       "text": [
        "<IPython.core.display.Javascript at 0xb3e9f780>"
       ]
      },
      {
       "javascript": [
        "$('div#448cd6fc-30f6-4f66-a3f9-95460f71b294').text(' 63%');"
       ],
       "metadata": {},
       "output_type": "display_data",
       "text": [
        "<IPython.core.display.Javascript at 0xb3e9f588>"
       ]
      },
      {
       "javascript": [
        "\n",
        "        var $myPB = $(\"div#c9c62fa5-fecf-494c-bee5-3527345397c9\")\n",
        "        if ($myPB.hasClass('ui-progressbar')) {\n",
        "            $myPB.progressbar('value', 62);\n",
        "        } else {\n",
        "            $myPB.progressbar({value: 0, max: 98});\n",
        "        }\n",
        "        "
       ],
       "metadata": {},
       "output_type": "display_data",
       "text": [
        "<IPython.core.display.Javascript at 0x3543d30>"
       ]
      },
      {
       "javascript": [
        "$('div#5688941d-bb76-4906-a2ad-353a883818e8').text('ETA:  0:00:00');"
       ],
       "metadata": {},
       "output_type": "display_data",
       "text": [
        "<IPython.core.display.Javascript at 0x3543550>"
       ]
      },
      {
       "javascript": [
        "$('div#e3c370fe-b4f4-428a-aa08-0b66a867db68').text('63 of 98');"
       ],
       "metadata": {},
       "output_type": "display_data",
       "text": [
        "<IPython.core.display.Javascript at 0xb3e9f908>"
       ]
      },
      {
       "javascript": [
        "$('div#448cd6fc-30f6-4f66-a3f9-95460f71b294').text(' 64%');"
       ],
       "metadata": {},
       "output_type": "display_data",
       "text": [
        "<IPython.core.display.Javascript at 0xb3e9f588>"
       ]
      },
      {
       "javascript": [
        "\n",
        "        var $myPB = $(\"div#c9c62fa5-fecf-494c-bee5-3527345397c9\")\n",
        "        if ($myPB.hasClass('ui-progressbar')) {\n",
        "            $myPB.progressbar('value', 63);\n",
        "        } else {\n",
        "            $myPB.progressbar({value: 0, max: 98});\n",
        "        }\n",
        "        "
       ],
       "metadata": {},
       "output_type": "display_data",
       "text": [
        "<IPython.core.display.Javascript at 0x3543d30>"
       ]
      },
      {
       "javascript": [
        "$('div#5688941d-bb76-4906-a2ad-353a883818e8').text('ETA:  0:00:00');"
       ],
       "metadata": {},
       "output_type": "display_data",
       "text": [
        "<IPython.core.display.Javascript at 0x3543550>"
       ]
      },
      {
       "javascript": [
        "$('div#e3c370fe-b4f4-428a-aa08-0b66a867db68').text('64 of 98');"
       ],
       "metadata": {},
       "output_type": "display_data",
       "text": [
        "<IPython.core.display.Javascript at 0xb3e9f5c0>"
       ]
      },
      {
       "javascript": [
        "$('div#448cd6fc-30f6-4f66-a3f9-95460f71b294').text(' 65%');"
       ],
       "metadata": {},
       "output_type": "display_data",
       "text": [
        "<IPython.core.display.Javascript at 0xb3e9f588>"
       ]
      },
      {
       "javascript": [
        "\n",
        "        var $myPB = $(\"div#c9c62fa5-fecf-494c-bee5-3527345397c9\")\n",
        "        if ($myPB.hasClass('ui-progressbar')) {\n",
        "            $myPB.progressbar('value', 64);\n",
        "        } else {\n",
        "            $myPB.progressbar({value: 0, max: 98});\n",
        "        }\n",
        "        "
       ],
       "metadata": {},
       "output_type": "display_data",
       "text": [
        "<IPython.core.display.Javascript at 0x3543d30>"
       ]
      },
      {
       "javascript": [
        "$('div#5688941d-bb76-4906-a2ad-353a883818e8').text('ETA:  0:00:00');"
       ],
       "metadata": {},
       "output_type": "display_data",
       "text": [
        "<IPython.core.display.Javascript at 0x3543550>"
       ]
      },
      {
       "javascript": [
        "$('div#e3c370fe-b4f4-428a-aa08-0b66a867db68').text('65 of 98');"
       ],
       "metadata": {},
       "output_type": "display_data",
       "text": [
        "<IPython.core.display.Javascript at 0xb3e9f860>"
       ]
      },
      {
       "javascript": [
        "$('div#448cd6fc-30f6-4f66-a3f9-95460f71b294').text(' 66%');"
       ],
       "metadata": {},
       "output_type": "display_data",
       "text": [
        "<IPython.core.display.Javascript at 0xb3e9f588>"
       ]
      },
      {
       "javascript": [
        "\n",
        "        var $myPB = $(\"div#c9c62fa5-fecf-494c-bee5-3527345397c9\")\n",
        "        if ($myPB.hasClass('ui-progressbar')) {\n",
        "            $myPB.progressbar('value', 65);\n",
        "        } else {\n",
        "            $myPB.progressbar({value: 0, max: 98});\n",
        "        }\n",
        "        "
       ],
       "metadata": {},
       "output_type": "display_data",
       "text": [
        "<IPython.core.display.Javascript at 0x3543d30>"
       ]
      },
      {
       "javascript": [
        "$('div#5688941d-bb76-4906-a2ad-353a883818e8').text('ETA:  0:00:00');"
       ],
       "metadata": {},
       "output_type": "display_data",
       "text": [
        "<IPython.core.display.Javascript at 0x3543550>"
       ]
      },
      {
       "javascript": [
        "$('div#e3c370fe-b4f4-428a-aa08-0b66a867db68').text('66 of 98');"
       ],
       "metadata": {},
       "output_type": "display_data",
       "text": [
        "<IPython.core.display.Javascript at 0xb3e9f710>"
       ]
      },
      {
       "javascript": [
        "$('div#448cd6fc-30f6-4f66-a3f9-95460f71b294').text(' 67%');"
       ],
       "metadata": {},
       "output_type": "display_data",
       "text": [
        "<IPython.core.display.Javascript at 0xb3e9f588>"
       ]
      },
      {
       "javascript": [
        "\n",
        "        var $myPB = $(\"div#c9c62fa5-fecf-494c-bee5-3527345397c9\")\n",
        "        if ($myPB.hasClass('ui-progressbar')) {\n",
        "            $myPB.progressbar('value', 66);\n",
        "        } else {\n",
        "            $myPB.progressbar({value: 0, max: 98});\n",
        "        }\n",
        "        "
       ],
       "metadata": {},
       "output_type": "display_data",
       "text": [
        "<IPython.core.display.Javascript at 0x3543d30>"
       ]
      },
      {
       "javascript": [
        "$('div#5688941d-bb76-4906-a2ad-353a883818e8').text('ETA:  0:00:00');"
       ],
       "metadata": {},
       "output_type": "display_data",
       "text": [
        "<IPython.core.display.Javascript at 0x3543550>"
       ]
      },
      {
       "javascript": [
        "$('div#e3c370fe-b4f4-428a-aa08-0b66a867db68').text('67 of 98');"
       ],
       "metadata": {},
       "output_type": "display_data",
       "text": [
        "<IPython.core.display.Javascript at 0xb3e9f6a0>"
       ]
      },
      {
       "javascript": [
        "$('div#448cd6fc-30f6-4f66-a3f9-95460f71b294').text(' 68%');"
       ],
       "metadata": {},
       "output_type": "display_data",
       "text": [
        "<IPython.core.display.Javascript at 0xb3e9f588>"
       ]
      },
      {
       "javascript": [
        "\n",
        "        var $myPB = $(\"div#c9c62fa5-fecf-494c-bee5-3527345397c9\")\n",
        "        if ($myPB.hasClass('ui-progressbar')) {\n",
        "            $myPB.progressbar('value', 67);\n",
        "        } else {\n",
        "            $myPB.progressbar({value: 0, max: 98});\n",
        "        }\n",
        "        "
       ],
       "metadata": {},
       "output_type": "display_data",
       "text": [
        "<IPython.core.display.Javascript at 0x3543d30>"
       ]
      },
      {
       "javascript": [
        "$('div#5688941d-bb76-4906-a2ad-353a883818e8').text('ETA:  0:00:00');"
       ],
       "metadata": {},
       "output_type": "display_data",
       "text": [
        "<IPython.core.display.Javascript at 0x3543550>"
       ]
      },
      {
       "javascript": [
        "$('div#e3c370fe-b4f4-428a-aa08-0b66a867db68').text('68 of 98');"
       ],
       "metadata": {},
       "output_type": "display_data",
       "text": [
        "<IPython.core.display.Javascript at 0xb3e9f588>"
       ]
      },
      {
       "javascript": [
        "$('div#448cd6fc-30f6-4f66-a3f9-95460f71b294').text(' 69%');"
       ],
       "metadata": {},
       "output_type": "display_data",
       "text": [
        "<IPython.core.display.Javascript at 0xb3e9f908>"
       ]
      },
      {
       "javascript": [
        "\n",
        "        var $myPB = $(\"div#c9c62fa5-fecf-494c-bee5-3527345397c9\")\n",
        "        if ($myPB.hasClass('ui-progressbar')) {\n",
        "            $myPB.progressbar('value', 68);\n",
        "        } else {\n",
        "            $myPB.progressbar({value: 0, max: 98});\n",
        "        }\n",
        "        "
       ],
       "metadata": {},
       "output_type": "display_data",
       "text": [
        "<IPython.core.display.Javascript at 0x3543d30>"
       ]
      },
      {
       "javascript": [
        "$('div#5688941d-bb76-4906-a2ad-353a883818e8').text('ETA:  0:00:00');"
       ],
       "metadata": {},
       "output_type": "display_data",
       "text": [
        "<IPython.core.display.Javascript at 0x3543550>"
       ]
      },
      {
       "javascript": [
        "$('div#e3c370fe-b4f4-428a-aa08-0b66a867db68').text('69 of 98');"
       ],
       "metadata": {},
       "output_type": "display_data",
       "text": [
        "<IPython.core.display.Javascript at 0xb3e9f908>"
       ]
      },
      {
       "javascript": [
        "$('div#448cd6fc-30f6-4f66-a3f9-95460f71b294').text(' 70%');"
       ],
       "metadata": {},
       "output_type": "display_data",
       "text": [
        "<IPython.core.display.Javascript at 0xb3e9f860>"
       ]
      },
      {
       "javascript": [
        "\n",
        "        var $myPB = $(\"div#c9c62fa5-fecf-494c-bee5-3527345397c9\")\n",
        "        if ($myPB.hasClass('ui-progressbar')) {\n",
        "            $myPB.progressbar('value', 69);\n",
        "        } else {\n",
        "            $myPB.progressbar({value: 0, max: 98});\n",
        "        }\n",
        "        "
       ],
       "metadata": {},
       "output_type": "display_data",
       "text": [
        "<IPython.core.display.Javascript at 0x3543d30>"
       ]
      },
      {
       "javascript": [
        "$('div#5688941d-bb76-4906-a2ad-353a883818e8').text('ETA:  0:00:00');"
       ],
       "metadata": {},
       "output_type": "display_data",
       "text": [
        "<IPython.core.display.Javascript at 0x3543550>"
       ]
      },
      {
       "javascript": [
        "$('div#e3c370fe-b4f4-428a-aa08-0b66a867db68').text('70 of 98');"
       ],
       "metadata": {},
       "output_type": "display_data",
       "text": [
        "<IPython.core.display.Javascript at 0xb3e9f860>"
       ]
      },
      {
       "javascript": [
        "$('div#448cd6fc-30f6-4f66-a3f9-95460f71b294').text(' 71%');"
       ],
       "metadata": {},
       "output_type": "display_data",
       "text": [
        "<IPython.core.display.Javascript at 0xb3e9f6a0>"
       ]
      },
      {
       "javascript": [
        "\n",
        "        var $myPB = $(\"div#c9c62fa5-fecf-494c-bee5-3527345397c9\")\n",
        "        if ($myPB.hasClass('ui-progressbar')) {\n",
        "            $myPB.progressbar('value', 70);\n",
        "        } else {\n",
        "            $myPB.progressbar({value: 0, max: 98});\n",
        "        }\n",
        "        "
       ],
       "metadata": {},
       "output_type": "display_data",
       "text": [
        "<IPython.core.display.Javascript at 0x3543d30>"
       ]
      },
      {
       "javascript": [
        "$('div#5688941d-bb76-4906-a2ad-353a883818e8').text('ETA:  0:00:00');"
       ],
       "metadata": {},
       "output_type": "display_data",
       "text": [
        "<IPython.core.display.Javascript at 0x3543550>"
       ]
      },
      {
       "javascript": [
        "$('div#e3c370fe-b4f4-428a-aa08-0b66a867db68').text('71 of 98');"
       ],
       "metadata": {},
       "output_type": "display_data",
       "text": [
        "<IPython.core.display.Javascript at 0xb3e9f6a0>"
       ]
      },
      {
       "javascript": [
        "$('div#448cd6fc-30f6-4f66-a3f9-95460f71b294').text(' 72%');"
       ],
       "metadata": {},
       "output_type": "display_data",
       "text": [
        "<IPython.core.display.Javascript at 0xb3e9f588>"
       ]
      },
      {
       "javascript": [
        "\n",
        "        var $myPB = $(\"div#c9c62fa5-fecf-494c-bee5-3527345397c9\")\n",
        "        if ($myPB.hasClass('ui-progressbar')) {\n",
        "            $myPB.progressbar('value', 71);\n",
        "        } else {\n",
        "            $myPB.progressbar({value: 0, max: 98});\n",
        "        }\n",
        "        "
       ],
       "metadata": {},
       "output_type": "display_data",
       "text": [
        "<IPython.core.display.Javascript at 0x3543d30>"
       ]
      },
      {
       "javascript": [
        "$('div#5688941d-bb76-4906-a2ad-353a883818e8').text('ETA:  0:00:00');"
       ],
       "metadata": {},
       "output_type": "display_data",
       "text": [
        "<IPython.core.display.Javascript at 0x3543550>"
       ]
      },
      {
       "javascript": [
        "$('div#e3c370fe-b4f4-428a-aa08-0b66a867db68').text('72 of 98');"
       ],
       "metadata": {},
       "output_type": "display_data",
       "text": [
        "<IPython.core.display.Javascript at 0xb3e9f588>"
       ]
      },
      {
       "javascript": [
        "$('div#448cd6fc-30f6-4f66-a3f9-95460f71b294').text(' 73%');"
       ],
       "metadata": {},
       "output_type": "display_data",
       "text": [
        "<IPython.core.display.Javascript at 0xb3e9f908>"
       ]
      },
      {
       "javascript": [
        "\n",
        "        var $myPB = $(\"div#c9c62fa5-fecf-494c-bee5-3527345397c9\")\n",
        "        if ($myPB.hasClass('ui-progressbar')) {\n",
        "            $myPB.progressbar('value', 72);\n",
        "        } else {\n",
        "            $myPB.progressbar({value: 0, max: 98});\n",
        "        }\n",
        "        "
       ],
       "metadata": {},
       "output_type": "display_data",
       "text": [
        "<IPython.core.display.Javascript at 0x3543d30>"
       ]
      },
      {
       "javascript": [
        "$('div#5688941d-bb76-4906-a2ad-353a883818e8').text('ETA:  0:00:00');"
       ],
       "metadata": {},
       "output_type": "display_data",
       "text": [
        "<IPython.core.display.Javascript at 0x3543550>"
       ]
      },
      {
       "javascript": [
        "$('div#e3c370fe-b4f4-428a-aa08-0b66a867db68').text('73 of 98');"
       ],
       "metadata": {},
       "output_type": "display_data",
       "text": [
        "<IPython.core.display.Javascript at 0xb3e9f908>"
       ]
      },
      {
       "javascript": [
        "$('div#448cd6fc-30f6-4f66-a3f9-95460f71b294').text(' 74%');"
       ],
       "metadata": {},
       "output_type": "display_data",
       "text": [
        "<IPython.core.display.Javascript at 0xb3e9f860>"
       ]
      },
      {
       "javascript": [
        "\n",
        "        var $myPB = $(\"div#c9c62fa5-fecf-494c-bee5-3527345397c9\")\n",
        "        if ($myPB.hasClass('ui-progressbar')) {\n",
        "            $myPB.progressbar('value', 73);\n",
        "        } else {\n",
        "            $myPB.progressbar({value: 0, max: 98});\n",
        "        }\n",
        "        "
       ],
       "metadata": {},
       "output_type": "display_data",
       "text": [
        "<IPython.core.display.Javascript at 0x3543d30>"
       ]
      },
      {
       "javascript": [
        "$('div#5688941d-bb76-4906-a2ad-353a883818e8').text('ETA:  0:00:00');"
       ],
       "metadata": {},
       "output_type": "display_data",
       "text": [
        "<IPython.core.display.Javascript at 0x3543550>"
       ]
      },
      {
       "javascript": [
        "$('div#e3c370fe-b4f4-428a-aa08-0b66a867db68').text('74 of 98');"
       ],
       "metadata": {},
       "output_type": "display_data",
       "text": [
        "<IPython.core.display.Javascript at 0xb3e9f860>"
       ]
      },
      {
       "javascript": [
        "$('div#448cd6fc-30f6-4f66-a3f9-95460f71b294').text(' 75%');"
       ],
       "metadata": {},
       "output_type": "display_data",
       "text": [
        "<IPython.core.display.Javascript at 0xb3e9f6a0>"
       ]
      },
      {
       "javascript": [
        "\n",
        "        var $myPB = $(\"div#c9c62fa5-fecf-494c-bee5-3527345397c9\")\n",
        "        if ($myPB.hasClass('ui-progressbar')) {\n",
        "            $myPB.progressbar('value', 74);\n",
        "        } else {\n",
        "            $myPB.progressbar({value: 0, max: 98});\n",
        "        }\n",
        "        "
       ],
       "metadata": {},
       "output_type": "display_data",
       "text": [
        "<IPython.core.display.Javascript at 0x3543d30>"
       ]
      },
      {
       "javascript": [
        "$('div#5688941d-bb76-4906-a2ad-353a883818e8').text('ETA:  0:00:00');"
       ],
       "metadata": {},
       "output_type": "display_data",
       "text": [
        "<IPython.core.display.Javascript at 0x3543550>"
       ]
      },
      {
       "javascript": [
        "$('div#e3c370fe-b4f4-428a-aa08-0b66a867db68').text('75 of 98');"
       ],
       "metadata": {},
       "output_type": "display_data",
       "text": [
        "<IPython.core.display.Javascript at 0xb3e9f6a0>"
       ]
      },
      {
       "javascript": [
        "$('div#448cd6fc-30f6-4f66-a3f9-95460f71b294').text(' 76%');"
       ],
       "metadata": {},
       "output_type": "display_data",
       "text": [
        "<IPython.core.display.Javascript at 0xb3e9f588>"
       ]
      },
      {
       "javascript": [
        "\n",
        "        var $myPB = $(\"div#c9c62fa5-fecf-494c-bee5-3527345397c9\")\n",
        "        if ($myPB.hasClass('ui-progressbar')) {\n",
        "            $myPB.progressbar('value', 75);\n",
        "        } else {\n",
        "            $myPB.progressbar({value: 0, max: 98});\n",
        "        }\n",
        "        "
       ],
       "metadata": {},
       "output_type": "display_data",
       "text": [
        "<IPython.core.display.Javascript at 0x3543d30>"
       ]
      },
      {
       "javascript": [
        "$('div#5688941d-bb76-4906-a2ad-353a883818e8').text('ETA:  0:00:00');"
       ],
       "metadata": {},
       "output_type": "display_data",
       "text": [
        "<IPython.core.display.Javascript at 0x3543550>"
       ]
      },
      {
       "javascript": [
        "$('div#e3c370fe-b4f4-428a-aa08-0b66a867db68').text('76 of 98');"
       ],
       "metadata": {},
       "output_type": "display_data",
       "text": [
        "<IPython.core.display.Javascript at 0xb3e9f588>"
       ]
      },
      {
       "javascript": [
        "$('div#448cd6fc-30f6-4f66-a3f9-95460f71b294').text(' 77%');"
       ],
       "metadata": {},
       "output_type": "display_data",
       "text": [
        "<IPython.core.display.Javascript at 0xb3e9f908>"
       ]
      },
      {
       "javascript": [
        "\n",
        "        var $myPB = $(\"div#c9c62fa5-fecf-494c-bee5-3527345397c9\")\n",
        "        if ($myPB.hasClass('ui-progressbar')) {\n",
        "            $myPB.progressbar('value', 76);\n",
        "        } else {\n",
        "            $myPB.progressbar({value: 0, max: 98});\n",
        "        }\n",
        "        "
       ],
       "metadata": {},
       "output_type": "display_data",
       "text": [
        "<IPython.core.display.Javascript at 0x3543d30>"
       ]
      },
      {
       "javascript": [
        "$('div#5688941d-bb76-4906-a2ad-353a883818e8').text('ETA:  0:00:00');"
       ],
       "metadata": {},
       "output_type": "display_data",
       "text": [
        "<IPython.core.display.Javascript at 0x3543550>"
       ]
      },
      {
       "javascript": [
        "$('div#e3c370fe-b4f4-428a-aa08-0b66a867db68').text('77 of 98');"
       ],
       "metadata": {},
       "output_type": "display_data",
       "text": [
        "<IPython.core.display.Javascript at 0xb3e9f908>"
       ]
      },
      {
       "javascript": [
        "$('div#448cd6fc-30f6-4f66-a3f9-95460f71b294').text(' 78%');"
       ],
       "metadata": {},
       "output_type": "display_data",
       "text": [
        "<IPython.core.display.Javascript at 0xb3e9f860>"
       ]
      },
      {
       "javascript": [
        "\n",
        "        var $myPB = $(\"div#c9c62fa5-fecf-494c-bee5-3527345397c9\")\n",
        "        if ($myPB.hasClass('ui-progressbar')) {\n",
        "            $myPB.progressbar('value', 77);\n",
        "        } else {\n",
        "            $myPB.progressbar({value: 0, max: 98});\n",
        "        }\n",
        "        "
       ],
       "metadata": {},
       "output_type": "display_data",
       "text": [
        "<IPython.core.display.Javascript at 0x3543d30>"
       ]
      },
      {
       "javascript": [
        "$('div#5688941d-bb76-4906-a2ad-353a883818e8').text('ETA:  0:00:00');"
       ],
       "metadata": {},
       "output_type": "display_data",
       "text": [
        "<IPython.core.display.Javascript at 0x3543550>"
       ]
      },
      {
       "javascript": [
        "$('div#e3c370fe-b4f4-428a-aa08-0b66a867db68').text('78 of 98');"
       ],
       "metadata": {},
       "output_type": "display_data",
       "text": [
        "<IPython.core.display.Javascript at 0xb3e9f860>"
       ]
      },
      {
       "javascript": [
        "$('div#448cd6fc-30f6-4f66-a3f9-95460f71b294').text(' 79%');"
       ],
       "metadata": {},
       "output_type": "display_data",
       "text": [
        "<IPython.core.display.Javascript at 0xb3e9f6a0>"
       ]
      },
      {
       "javascript": [
        "\n",
        "        var $myPB = $(\"div#c9c62fa5-fecf-494c-bee5-3527345397c9\")\n",
        "        if ($myPB.hasClass('ui-progressbar')) {\n",
        "            $myPB.progressbar('value', 78);\n",
        "        } else {\n",
        "            $myPB.progressbar({value: 0, max: 98});\n",
        "        }\n",
        "        "
       ],
       "metadata": {},
       "output_type": "display_data",
       "text": [
        "<IPython.core.display.Javascript at 0x3543d30>"
       ]
      },
      {
       "javascript": [
        "$('div#5688941d-bb76-4906-a2ad-353a883818e8').text('ETA:  0:00:00');"
       ],
       "metadata": {},
       "output_type": "display_data",
       "text": [
        "<IPython.core.display.Javascript at 0x3543550>"
       ]
      },
      {
       "javascript": [
        "$('div#e3c370fe-b4f4-428a-aa08-0b66a867db68').text('79 of 98');"
       ],
       "metadata": {},
       "output_type": "display_data",
       "text": [
        "<IPython.core.display.Javascript at 0xb3e9f6a0>"
       ]
      },
      {
       "javascript": [
        "$('div#448cd6fc-30f6-4f66-a3f9-95460f71b294').text(' 80%');"
       ],
       "metadata": {},
       "output_type": "display_data",
       "text": [
        "<IPython.core.display.Javascript at 0xb3e9f588>"
       ]
      },
      {
       "javascript": [
        "\n",
        "        var $myPB = $(\"div#c9c62fa5-fecf-494c-bee5-3527345397c9\")\n",
        "        if ($myPB.hasClass('ui-progressbar')) {\n",
        "            $myPB.progressbar('value', 79);\n",
        "        } else {\n",
        "            $myPB.progressbar({value: 0, max: 98});\n",
        "        }\n",
        "        "
       ],
       "metadata": {},
       "output_type": "display_data",
       "text": [
        "<IPython.core.display.Javascript at 0x3543d30>"
       ]
      },
      {
       "javascript": [
        "$('div#5688941d-bb76-4906-a2ad-353a883818e8').text('ETA:  0:00:00');"
       ],
       "metadata": {},
       "output_type": "display_data",
       "text": [
        "<IPython.core.display.Javascript at 0x3543550>"
       ]
      },
      {
       "javascript": [
        "$('div#e3c370fe-b4f4-428a-aa08-0b66a867db68').text('80 of 98');"
       ],
       "metadata": {},
       "output_type": "display_data",
       "text": [
        "<IPython.core.display.Javascript at 0xb3e9f588>"
       ]
      },
      {
       "javascript": [
        "$('div#448cd6fc-30f6-4f66-a3f9-95460f71b294').text(' 81%');"
       ],
       "metadata": {},
       "output_type": "display_data",
       "text": [
        "<IPython.core.display.Javascript at 0xb3e9f908>"
       ]
      },
      {
       "javascript": [
        "\n",
        "        var $myPB = $(\"div#c9c62fa5-fecf-494c-bee5-3527345397c9\")\n",
        "        if ($myPB.hasClass('ui-progressbar')) {\n",
        "            $myPB.progressbar('value', 80);\n",
        "        } else {\n",
        "            $myPB.progressbar({value: 0, max: 98});\n",
        "        }\n",
        "        "
       ],
       "metadata": {},
       "output_type": "display_data",
       "text": [
        "<IPython.core.display.Javascript at 0x3543d30>"
       ]
      },
      {
       "javascript": [
        "$('div#5688941d-bb76-4906-a2ad-353a883818e8').text('ETA:  0:00:00');"
       ],
       "metadata": {},
       "output_type": "display_data",
       "text": [
        "<IPython.core.display.Javascript at 0x3543550>"
       ]
      },
      {
       "javascript": [
        "$('div#e3c370fe-b4f4-428a-aa08-0b66a867db68').text('81 of 98');"
       ],
       "metadata": {},
       "output_type": "display_data",
       "text": [
        "<IPython.core.display.Javascript at 0xb3e9f908>"
       ]
      },
      {
       "javascript": [
        "$('div#448cd6fc-30f6-4f66-a3f9-95460f71b294').text(' 82%');"
       ],
       "metadata": {},
       "output_type": "display_data",
       "text": [
        "<IPython.core.display.Javascript at 0xb3e9f860>"
       ]
      },
      {
       "javascript": [
        "\n",
        "        var $myPB = $(\"div#c9c62fa5-fecf-494c-bee5-3527345397c9\")\n",
        "        if ($myPB.hasClass('ui-progressbar')) {\n",
        "            $myPB.progressbar('value', 81);\n",
        "        } else {\n",
        "            $myPB.progressbar({value: 0, max: 98});\n",
        "        }\n",
        "        "
       ],
       "metadata": {},
       "output_type": "display_data",
       "text": [
        "<IPython.core.display.Javascript at 0x3543d30>"
       ]
      },
      {
       "javascript": [
        "$('div#5688941d-bb76-4906-a2ad-353a883818e8').text('ETA:  0:00:00');"
       ],
       "metadata": {},
       "output_type": "display_data",
       "text": [
        "<IPython.core.display.Javascript at 0x3543550>"
       ]
      },
      {
       "javascript": [
        "$('div#e3c370fe-b4f4-428a-aa08-0b66a867db68').text('82 of 98');"
       ],
       "metadata": {},
       "output_type": "display_data",
       "text": [
        "<IPython.core.display.Javascript at 0xb3e9f860>"
       ]
      },
      {
       "javascript": [
        "$('div#448cd6fc-30f6-4f66-a3f9-95460f71b294').text(' 83%');"
       ],
       "metadata": {},
       "output_type": "display_data",
       "text": [
        "<IPython.core.display.Javascript at 0xb3e9f6a0>"
       ]
      },
      {
       "javascript": [
        "\n",
        "        var $myPB = $(\"div#c9c62fa5-fecf-494c-bee5-3527345397c9\")\n",
        "        if ($myPB.hasClass('ui-progressbar')) {\n",
        "            $myPB.progressbar('value', 82);\n",
        "        } else {\n",
        "            $myPB.progressbar({value: 0, max: 98});\n",
        "        }\n",
        "        "
       ],
       "metadata": {},
       "output_type": "display_data",
       "text": [
        "<IPython.core.display.Javascript at 0x3543d30>"
       ]
      },
      {
       "javascript": [
        "$('div#5688941d-bb76-4906-a2ad-353a883818e8').text('ETA:  0:00:00');"
       ],
       "metadata": {},
       "output_type": "display_data",
       "text": [
        "<IPython.core.display.Javascript at 0x3543550>"
       ]
      },
      {
       "javascript": [
        "$('div#e3c370fe-b4f4-428a-aa08-0b66a867db68').text('83 of 98');"
       ],
       "metadata": {},
       "output_type": "display_data",
       "text": [
        "<IPython.core.display.Javascript at 0xb3e9f6a0>"
       ]
      },
      {
       "javascript": [
        "$('div#448cd6fc-30f6-4f66-a3f9-95460f71b294').text(' 84%');"
       ],
       "metadata": {},
       "output_type": "display_data",
       "text": [
        "<IPython.core.display.Javascript at 0xb3e9f588>"
       ]
      },
      {
       "javascript": [
        "\n",
        "        var $myPB = $(\"div#c9c62fa5-fecf-494c-bee5-3527345397c9\")\n",
        "        if ($myPB.hasClass('ui-progressbar')) {\n",
        "            $myPB.progressbar('value', 83);\n",
        "        } else {\n",
        "            $myPB.progressbar({value: 0, max: 98});\n",
        "        }\n",
        "        "
       ],
       "metadata": {},
       "output_type": "display_data",
       "text": [
        "<IPython.core.display.Javascript at 0x3543d30>"
       ]
      },
      {
       "javascript": [
        "$('div#5688941d-bb76-4906-a2ad-353a883818e8').text('ETA:  0:00:00');"
       ],
       "metadata": {},
       "output_type": "display_data",
       "text": [
        "<IPython.core.display.Javascript at 0x3543550>"
       ]
      },
      {
       "javascript": [
        "$('div#e3c370fe-b4f4-428a-aa08-0b66a867db68').text('84 of 98');"
       ],
       "metadata": {},
       "output_type": "display_data",
       "text": [
        "<IPython.core.display.Javascript at 0xb3e9f588>"
       ]
      },
      {
       "javascript": [
        "$('div#448cd6fc-30f6-4f66-a3f9-95460f71b294').text(' 85%');"
       ],
       "metadata": {},
       "output_type": "display_data",
       "text": [
        "<IPython.core.display.Javascript at 0xb3e9f908>"
       ]
      },
      {
       "javascript": [
        "\n",
        "        var $myPB = $(\"div#c9c62fa5-fecf-494c-bee5-3527345397c9\")\n",
        "        if ($myPB.hasClass('ui-progressbar')) {\n",
        "            $myPB.progressbar('value', 84);\n",
        "        } else {\n",
        "            $myPB.progressbar({value: 0, max: 98});\n",
        "        }\n",
        "        "
       ],
       "metadata": {},
       "output_type": "display_data",
       "text": [
        "<IPython.core.display.Javascript at 0x3543d30>"
       ]
      },
      {
       "javascript": [
        "$('div#5688941d-bb76-4906-a2ad-353a883818e8').text('ETA:  0:00:00');"
       ],
       "metadata": {},
       "output_type": "display_data",
       "text": [
        "<IPython.core.display.Javascript at 0x3543550>"
       ]
      },
      {
       "javascript": [
        "$('div#e3c370fe-b4f4-428a-aa08-0b66a867db68').text('85 of 98');"
       ],
       "metadata": {},
       "output_type": "display_data",
       "text": [
        "<IPython.core.display.Javascript at 0xb3e9f908>"
       ]
      },
      {
       "javascript": [
        "$('div#448cd6fc-30f6-4f66-a3f9-95460f71b294').text(' 86%');"
       ],
       "metadata": {},
       "output_type": "display_data",
       "text": [
        "<IPython.core.display.Javascript at 0xb3e9f860>"
       ]
      },
      {
       "javascript": [
        "\n",
        "        var $myPB = $(\"div#c9c62fa5-fecf-494c-bee5-3527345397c9\")\n",
        "        if ($myPB.hasClass('ui-progressbar')) {\n",
        "            $myPB.progressbar('value', 85);\n",
        "        } else {\n",
        "            $myPB.progressbar({value: 0, max: 98});\n",
        "        }\n",
        "        "
       ],
       "metadata": {},
       "output_type": "display_data",
       "text": [
        "<IPython.core.display.Javascript at 0x3543d30>"
       ]
      },
      {
       "javascript": [
        "$('div#5688941d-bb76-4906-a2ad-353a883818e8').text('ETA:  0:00:00');"
       ],
       "metadata": {},
       "output_type": "display_data",
       "text": [
        "<IPython.core.display.Javascript at 0x3543550>"
       ]
      },
      {
       "javascript": [
        "$('div#e3c370fe-b4f4-428a-aa08-0b66a867db68').text('86 of 98');"
       ],
       "metadata": {},
       "output_type": "display_data",
       "text": [
        "<IPython.core.display.Javascript at 0xb3e9f860>"
       ]
      },
      {
       "javascript": [
        "$('div#448cd6fc-30f6-4f66-a3f9-95460f71b294').text(' 87%');"
       ],
       "metadata": {},
       "output_type": "display_data",
       "text": [
        "<IPython.core.display.Javascript at 0xb3e9f6a0>"
       ]
      },
      {
       "javascript": [
        "\n",
        "        var $myPB = $(\"div#c9c62fa5-fecf-494c-bee5-3527345397c9\")\n",
        "        if ($myPB.hasClass('ui-progressbar')) {\n",
        "            $myPB.progressbar('value', 86);\n",
        "        } else {\n",
        "            $myPB.progressbar({value: 0, max: 98});\n",
        "        }\n",
        "        "
       ],
       "metadata": {},
       "output_type": "display_data",
       "text": [
        "<IPython.core.display.Javascript at 0x3543d30>"
       ]
      },
      {
       "javascript": [
        "$('div#5688941d-bb76-4906-a2ad-353a883818e8').text('ETA:  0:00:00');"
       ],
       "metadata": {},
       "output_type": "display_data",
       "text": [
        "<IPython.core.display.Javascript at 0x3543550>"
       ]
      },
      {
       "javascript": [
        "$('div#e3c370fe-b4f4-428a-aa08-0b66a867db68').text('87 of 98');"
       ],
       "metadata": {},
       "output_type": "display_data",
       "text": [
        "<IPython.core.display.Javascript at 0xb3e9fc88>"
       ]
      },
      {
       "javascript": [
        "$('div#448cd6fc-30f6-4f66-a3f9-95460f71b294').text(' 88%');"
       ],
       "metadata": {},
       "output_type": "display_data",
       "text": [
        "<IPython.core.display.Javascript at 0xb3e9f6a0>"
       ]
      },
      {
       "javascript": [
        "\n",
        "        var $myPB = $(\"div#c9c62fa5-fecf-494c-bee5-3527345397c9\")\n",
        "        if ($myPB.hasClass('ui-progressbar')) {\n",
        "            $myPB.progressbar('value', 87);\n",
        "        } else {\n",
        "            $myPB.progressbar({value: 0, max: 98});\n",
        "        }\n",
        "        "
       ],
       "metadata": {},
       "output_type": "display_data",
       "text": [
        "<IPython.core.display.Javascript at 0x3543d30>"
       ]
      },
      {
       "javascript": [
        "$('div#5688941d-bb76-4906-a2ad-353a883818e8').text('ETA:  0:00:00');"
       ],
       "metadata": {},
       "output_type": "display_data",
       "text": [
        "<IPython.core.display.Javascript at 0x3543550>"
       ]
      },
      {
       "javascript": [
        "$('div#e3c370fe-b4f4-428a-aa08-0b66a867db68').text('88 of 98');"
       ],
       "metadata": {},
       "output_type": "display_data",
       "text": [
        "<IPython.core.display.Javascript at 0xb3e9f780>"
       ]
      },
      {
       "javascript": [
        "$('div#448cd6fc-30f6-4f66-a3f9-95460f71b294').text(' 89%');"
       ],
       "metadata": {},
       "output_type": "display_data",
       "text": [
        "<IPython.core.display.Javascript at 0xb3e9f6a0>"
       ]
      },
      {
       "javascript": [
        "\n",
        "        var $myPB = $(\"div#c9c62fa5-fecf-494c-bee5-3527345397c9\")\n",
        "        if ($myPB.hasClass('ui-progressbar')) {\n",
        "            $myPB.progressbar('value', 88);\n",
        "        } else {\n",
        "            $myPB.progressbar({value: 0, max: 98});\n",
        "        }\n",
        "        "
       ],
       "metadata": {},
       "output_type": "display_data",
       "text": [
        "<IPython.core.display.Javascript at 0x3543d30>"
       ]
      },
      {
       "javascript": [
        "$('div#5688941d-bb76-4906-a2ad-353a883818e8').text('ETA:  0:00:00');"
       ],
       "metadata": {},
       "output_type": "display_data",
       "text": [
        "<IPython.core.display.Javascript at 0x3543550>"
       ]
      },
      {
       "javascript": [
        "$('div#e3c370fe-b4f4-428a-aa08-0b66a867db68').text('89 of 98');"
       ],
       "metadata": {},
       "output_type": "display_data",
       "text": [
        "<IPython.core.display.Javascript at 0xb3e9f588>"
       ]
      },
      {
       "javascript": [
        "$('div#448cd6fc-30f6-4f66-a3f9-95460f71b294').text(' 90%');"
       ],
       "metadata": {},
       "output_type": "display_data",
       "text": [
        "<IPython.core.display.Javascript at 0xb3e9f6a0>"
       ]
      },
      {
       "javascript": [
        "\n",
        "        var $myPB = $(\"div#c9c62fa5-fecf-494c-bee5-3527345397c9\")\n",
        "        if ($myPB.hasClass('ui-progressbar')) {\n",
        "            $myPB.progressbar('value', 89);\n",
        "        } else {\n",
        "            $myPB.progressbar({value: 0, max: 98});\n",
        "        }\n",
        "        "
       ],
       "metadata": {},
       "output_type": "display_data",
       "text": [
        "<IPython.core.display.Javascript at 0x3543d30>"
       ]
      },
      {
       "javascript": [
        "$('div#5688941d-bb76-4906-a2ad-353a883818e8').text('ETA:  0:00:00');"
       ],
       "metadata": {},
       "output_type": "display_data",
       "text": [
        "<IPython.core.display.Javascript at 0x3543550>"
       ]
      },
      {
       "javascript": [
        "$('div#e3c370fe-b4f4-428a-aa08-0b66a867db68').text('90 of 98');"
       ],
       "metadata": {},
       "output_type": "display_data",
       "text": [
        "<IPython.core.display.Javascript at 0xb3e9fcf8>"
       ]
      },
      {
       "javascript": [
        "$('div#448cd6fc-30f6-4f66-a3f9-95460f71b294').text(' 91%');"
       ],
       "metadata": {},
       "output_type": "display_data",
       "text": [
        "<IPython.core.display.Javascript at 0xb3e9f6a0>"
       ]
      },
      {
       "javascript": [
        "\n",
        "        var $myPB = $(\"div#c9c62fa5-fecf-494c-bee5-3527345397c9\")\n",
        "        if ($myPB.hasClass('ui-progressbar')) {\n",
        "            $myPB.progressbar('value', 90);\n",
        "        } else {\n",
        "            $myPB.progressbar({value: 0, max: 98});\n",
        "        }\n",
        "        "
       ],
       "metadata": {},
       "output_type": "display_data",
       "text": [
        "<IPython.core.display.Javascript at 0x3543d30>"
       ]
      },
      {
       "javascript": [
        "$('div#5688941d-bb76-4906-a2ad-353a883818e8').text('ETA:  0:00:00');"
       ],
       "metadata": {},
       "output_type": "display_data",
       "text": [
        "<IPython.core.display.Javascript at 0x3543550>"
       ]
      },
      {
       "javascript": [
        "$('div#e3c370fe-b4f4-428a-aa08-0b66a867db68').text('91 of 98');"
       ],
       "metadata": {},
       "output_type": "display_data",
       "text": [
        "<IPython.core.display.Javascript at 0xb3e9f908>"
       ]
      },
      {
       "javascript": [
        "$('div#448cd6fc-30f6-4f66-a3f9-95460f71b294').text(' 92%');"
       ],
       "metadata": {},
       "output_type": "display_data",
       "text": [
        "<IPython.core.display.Javascript at 0xb3e9f6a0>"
       ]
      },
      {
       "javascript": [
        "\n",
        "        var $myPB = $(\"div#c9c62fa5-fecf-494c-bee5-3527345397c9\")\n",
        "        if ($myPB.hasClass('ui-progressbar')) {\n",
        "            $myPB.progressbar('value', 91);\n",
        "        } else {\n",
        "            $myPB.progressbar({value: 0, max: 98});\n",
        "        }\n",
        "        "
       ],
       "metadata": {},
       "output_type": "display_data",
       "text": [
        "<IPython.core.display.Javascript at 0x3543d30>"
       ]
      },
      {
       "javascript": [
        "$('div#5688941d-bb76-4906-a2ad-353a883818e8').text('ETA:  0:00:00');"
       ],
       "metadata": {},
       "output_type": "display_data",
       "text": [
        "<IPython.core.display.Javascript at 0x3543550>"
       ]
      },
      {
       "javascript": [
        "$('div#e3c370fe-b4f4-428a-aa08-0b66a867db68').text('92 of 98');"
       ],
       "metadata": {},
       "output_type": "display_data",
       "text": [
        "<IPython.core.display.Javascript at 0xb3e9fd30>"
       ]
      },
      {
       "javascript": [
        "$('div#448cd6fc-30f6-4f66-a3f9-95460f71b294').text(' 93%');"
       ],
       "metadata": {},
       "output_type": "display_data",
       "text": [
        "<IPython.core.display.Javascript at 0xb3e9f6a0>"
       ]
      },
      {
       "javascript": [
        "\n",
        "        var $myPB = $(\"div#c9c62fa5-fecf-494c-bee5-3527345397c9\")\n",
        "        if ($myPB.hasClass('ui-progressbar')) {\n",
        "            $myPB.progressbar('value', 92);\n",
        "        } else {\n",
        "            $myPB.progressbar({value: 0, max: 98});\n",
        "        }\n",
        "        "
       ],
       "metadata": {},
       "output_type": "display_data",
       "text": [
        "<IPython.core.display.Javascript at 0x3543d30>"
       ]
      },
      {
       "javascript": [
        "$('div#5688941d-bb76-4906-a2ad-353a883818e8').text('ETA:  0:00:00');"
       ],
       "metadata": {},
       "output_type": "display_data",
       "text": [
        "<IPython.core.display.Javascript at 0x3543550>"
       ]
      },
      {
       "javascript": [
        "$('div#e3c370fe-b4f4-428a-aa08-0b66a867db68').text('93 of 98');"
       ],
       "metadata": {},
       "output_type": "display_data",
       "text": [
        "<IPython.core.display.Javascript at 0xb3e9f860>"
       ]
      },
      {
       "javascript": [
        "$('div#448cd6fc-30f6-4f66-a3f9-95460f71b294').text(' 94%');"
       ],
       "metadata": {},
       "output_type": "display_data",
       "text": [
        "<IPython.core.display.Javascript at 0xb3e9f6a0>"
       ]
      },
      {
       "javascript": [
        "\n",
        "        var $myPB = $(\"div#c9c62fa5-fecf-494c-bee5-3527345397c9\")\n",
        "        if ($myPB.hasClass('ui-progressbar')) {\n",
        "            $myPB.progressbar('value', 93);\n",
        "        } else {\n",
        "            $myPB.progressbar({value: 0, max: 98});\n",
        "        }\n",
        "        "
       ],
       "metadata": {},
       "output_type": "display_data",
       "text": [
        "<IPython.core.display.Javascript at 0x3543d30>"
       ]
      },
      {
       "javascript": [
        "$('div#5688941d-bb76-4906-a2ad-353a883818e8').text('ETA:  0:00:00');"
       ],
       "metadata": {},
       "output_type": "display_data",
       "text": [
        "<IPython.core.display.Javascript at 0x3543550>"
       ]
      },
      {
       "javascript": [
        "$('div#e3c370fe-b4f4-428a-aa08-0b66a867db68').text('94 of 98');"
       ],
       "metadata": {},
       "output_type": "display_data",
       "text": [
        "<IPython.core.display.Javascript at 0xb3e9fc88>"
       ]
      },
      {
       "javascript": [
        "$('div#448cd6fc-30f6-4f66-a3f9-95460f71b294').text(' 95%');"
       ],
       "metadata": {},
       "output_type": "display_data",
       "text": [
        "<IPython.core.display.Javascript at 0xb3e9f6a0>"
       ]
      },
      {
       "javascript": [
        "\n",
        "        var $myPB = $(\"div#c9c62fa5-fecf-494c-bee5-3527345397c9\")\n",
        "        if ($myPB.hasClass('ui-progressbar')) {\n",
        "            $myPB.progressbar('value', 94);\n",
        "        } else {\n",
        "            $myPB.progressbar({value: 0, max: 98});\n",
        "        }\n",
        "        "
       ],
       "metadata": {},
       "output_type": "display_data",
       "text": [
        "<IPython.core.display.Javascript at 0x3543d30>"
       ]
      },
      {
       "javascript": [
        "$('div#5688941d-bb76-4906-a2ad-353a883818e8').text('ETA:  0:00:00');"
       ],
       "metadata": {},
       "output_type": "display_data",
       "text": [
        "<IPython.core.display.Javascript at 0x3543550>"
       ]
      },
      {
       "javascript": [
        "$('div#e3c370fe-b4f4-428a-aa08-0b66a867db68').text('95 of 98');"
       ],
       "metadata": {},
       "output_type": "display_data",
       "text": [
        "<IPython.core.display.Javascript at 0xb3e9f780>"
       ]
      },
      {
       "javascript": [
        "$('div#448cd6fc-30f6-4f66-a3f9-95460f71b294').text(' 96%');"
       ],
       "metadata": {},
       "output_type": "display_data",
       "text": [
        "<IPython.core.display.Javascript at 0xb3e9f6a0>"
       ]
      },
      {
       "javascript": [
        "\n",
        "        var $myPB = $(\"div#c9c62fa5-fecf-494c-bee5-3527345397c9\")\n",
        "        if ($myPB.hasClass('ui-progressbar')) {\n",
        "            $myPB.progressbar('value', 95);\n",
        "        } else {\n",
        "            $myPB.progressbar({value: 0, max: 98});\n",
        "        }\n",
        "        "
       ],
       "metadata": {},
       "output_type": "display_data",
       "text": [
        "<IPython.core.display.Javascript at 0x3543d30>"
       ]
      },
      {
       "javascript": [
        "$('div#5688941d-bb76-4906-a2ad-353a883818e8').text('ETA:  0:00:00');"
       ],
       "metadata": {},
       "output_type": "display_data",
       "text": [
        "<IPython.core.display.Javascript at 0x3543550>"
       ]
      },
      {
       "javascript": [
        "$('div#e3c370fe-b4f4-428a-aa08-0b66a867db68').text('96 of 98');"
       ],
       "metadata": {},
       "output_type": "display_data",
       "text": [
        "<IPython.core.display.Javascript at 0xb3e9f588>"
       ]
      },
      {
       "javascript": [
        "$('div#448cd6fc-30f6-4f66-a3f9-95460f71b294').text(' 97%');"
       ],
       "metadata": {},
       "output_type": "display_data",
       "text": [
        "<IPython.core.display.Javascript at 0xb3e9f6a0>"
       ]
      },
      {
       "javascript": [
        "\n",
        "        var $myPB = $(\"div#c9c62fa5-fecf-494c-bee5-3527345397c9\")\n",
        "        if ($myPB.hasClass('ui-progressbar')) {\n",
        "            $myPB.progressbar('value', 96);\n",
        "        } else {\n",
        "            $myPB.progressbar({value: 0, max: 98});\n",
        "        }\n",
        "        "
       ],
       "metadata": {},
       "output_type": "display_data",
       "text": [
        "<IPython.core.display.Javascript at 0x3543d30>"
       ]
      },
      {
       "javascript": [
        "$('div#5688941d-bb76-4906-a2ad-353a883818e8').text('ETA:  0:00:00');"
       ],
       "metadata": {},
       "output_type": "display_data",
       "text": [
        "<IPython.core.display.Javascript at 0x3543550>"
       ]
      },
      {
       "javascript": [
        "$('div#e3c370fe-b4f4-428a-aa08-0b66a867db68').text('97 of 98');"
       ],
       "metadata": {},
       "output_type": "display_data",
       "text": [
        "<IPython.core.display.Javascript at 0xb3e9fcf8>"
       ]
      },
      {
       "javascript": [
        "$('div#448cd6fc-30f6-4f66-a3f9-95460f71b294').text(' 98%');"
       ],
       "metadata": {},
       "output_type": "display_data",
       "text": [
        "<IPython.core.display.Javascript at 0xb3e9f6a0>"
       ]
      },
      {
       "javascript": [
        "\n",
        "        var $myPB = $(\"div#c9c62fa5-fecf-494c-bee5-3527345397c9\")\n",
        "        if ($myPB.hasClass('ui-progressbar')) {\n",
        "            $myPB.progressbar('value', 97);\n",
        "        } else {\n",
        "            $myPB.progressbar({value: 0, max: 98});\n",
        "        }\n",
        "        "
       ],
       "metadata": {},
       "output_type": "display_data",
       "text": [
        "<IPython.core.display.Javascript at 0x3543d30>"
       ]
      },
      {
       "javascript": [
        "$('div#5688941d-bb76-4906-a2ad-353a883818e8').text('ETA:  0:00:00');"
       ],
       "metadata": {},
       "output_type": "display_data",
       "text": [
        "<IPython.core.display.Javascript at 0x3543550>"
       ]
      },
      {
       "javascript": [
        "$('div#e3c370fe-b4f4-428a-aa08-0b66a867db68').text('98 of 98');"
       ],
       "metadata": {},
       "output_type": "display_data",
       "text": [
        "<IPython.core.display.Javascript at 0xb3e9f6a0>"
       ]
      },
      {
       "javascript": [
        "$('div#448cd6fc-30f6-4f66-a3f9-95460f71b294').text('100%');"
       ],
       "metadata": {},
       "output_type": "display_data",
       "text": [
        "<IPython.core.display.Javascript at 0xb3e9f860>"
       ]
      },
      {
       "javascript": [
        "\n",
        "        var $myPB = $(\"div#c9c62fa5-fecf-494c-bee5-3527345397c9\")\n",
        "        if ($myPB.hasClass('ui-progressbar')) {\n",
        "            $myPB.progressbar('value', 98);\n",
        "        } else {\n",
        "            $myPB.progressbar({value: 0, max: 98});\n",
        "        }\n",
        "        "
       ],
       "metadata": {},
       "output_type": "display_data",
       "text": [
        "<IPython.core.display.Javascript at 0x3543d30>"
       ]
      },
      {
       "javascript": [
        "$('div#5688941d-bb76-4906-a2ad-353a883818e8').text('ETA:  0:00:00');"
       ],
       "metadata": {},
       "output_type": "display_data",
       "text": [
        "<IPython.core.display.Javascript at 0x3543550>"
       ]
      },
      {
       "javascript": [
        "$('div#e3c370fe-b4f4-428a-aa08-0b66a867db68').text('98 of 98');"
       ],
       "metadata": {},
       "output_type": "display_data",
       "text": [
        "<IPython.core.display.Javascript at 0xb3e9f518>"
       ]
      },
      {
       "javascript": [
        "$('div#448cd6fc-30f6-4f66-a3f9-95460f71b294').text('100%');"
       ],
       "metadata": {},
       "output_type": "display_data",
       "text": [
        "<IPython.core.display.Javascript at 0xb3e9f6d8>"
       ]
      },
      {
       "javascript": [
        "\n",
        "        var $myPB = $(\"div#c9c62fa5-fecf-494c-bee5-3527345397c9\")\n",
        "        if ($myPB.hasClass('ui-progressbar')) {\n",
        "            $myPB.progressbar('value', 98);\n",
        "        } else {\n",
        "            $myPB.progressbar({value: 0, max: 98});\n",
        "        }\n",
        "        "
       ],
       "metadata": {},
       "output_type": "display_data",
       "text": [
        "<IPython.core.display.Javascript at 0x3543d30>"
       ]
      },
      {
       "javascript": [
        "$('div#5688941d-bb76-4906-a2ad-353a883818e8').text('Time: 0:00:00');"
       ],
       "metadata": {},
       "output_type": "display_data",
       "text": [
        "<IPython.core.display.Javascript at 0x3543550>"
       ]
      },
      {
       "javascript": [
        "var element = document.getElementById('c2456b74-f4b8-4fc6-86d5-370eededf29c');\n",
        "                    var parent = element.parentNode\n",
        "                    parent.removeChild(element);\n",
        "                    parent.parentElement.remove();"
       ],
       "metadata": {},
       "output_type": "display_data",
       "text": [
        "<IPython.core.display.Javascript at 0x35430b8>"
       ]
      },
      {
       "javascript": [
        "this.cleanProgressBar(['c2456b74-f4b8-4fc6-86d5-370eededf29c', 'e3c370fe-b4f4-428a-aa08-0b66a867db68', '448cd6fc-30f6-4f66-a3f9-95460f71b294', 'c9c62fa5-fecf-494c-bee5-3527345397c9', '5688941d-bb76-4906-a2ad-353a883818e8'])"
       ],
       "metadata": {},
       "output_type": "display_data",
       "text": [
        "<IPython.core.display.Javascript at 0xb3e9f780>"
       ]
      },
      {
       "javascript": [
        "//68fca9ae-b41b-4eae-91aa-63f503d368f5\n",
        "$(\"head\").append(\"<style> td.pb_widget {     width: auto; } td.pb_widget_fill {     width: 100%; } table.pb {     font-family: monospace;     border: 0;     margin: 0; } table.pb tr { border: 0; } table.pb td {     white-space: nowrap;     border: 0; } div.pb {     border: 1px solid #ddd;     border-radius: 3px; } div.pb_bar {     height: 1.5em; } </style>\")"
       ],
       "metadata": {},
       "output_type": "display_data",
       "text": [
        "<IPython.core.display.Javascript at 0xb4095b38>"
       ]
      },
      {
       "javascript": [
        "\n",
        "                  // 68fca9ae-b41b-4eae-91aa-63f503d368f5 -- used to remove this code blob in the end\n",
        "                  IPython.OutputArea.prototype.cleanProgressBar = function(uuids) {\n",
        "                      // filter by uuid-strings \n",
        "                      var myfilter = function(output) { \n",
        "                          var nuids = uuids.length;\n",
        "                          for (var i=0; i<nuids; i++) {\n",
        "                              if (output.hasOwnProperty('html')) {\n",
        "                                  if (output.html.indexOf(uuids[i]) != -1) {\n",
        "                                      return false;\n",
        "                                  }\n",
        "                              }\n",
        "                              if (output.hasOwnProperty('javascript')) {\n",
        "                                  if (output.javascript.indexOf(uuids[i]) != -1) {\n",
        "                                      return false;\n",
        "                                  }\n",
        "                              }\n",
        "                          }\n",
        "                          // keep all others\n",
        "                          return true;\n",
        "                      };\n",
        "\n",
        "                      // Filter the ouputs\n",
        "                      this.outputs = this.outputs.filter(myfilter);\n",
        "                };\n",
        "                "
       ],
       "metadata": {},
       "output_type": "display_data",
       "text": [
        "<IPython.core.display.Javascript at 0xb4095b00>"
       ]
      },
      {
       "html": [
        "<div class=\"pb\" id=\"68fca9ae-b41b-4eae-91aa-63f503d368f5\"><table class=\"pb ui-widget\"><tr>\n",
        "<td class=\"pb_widget\">TOP_1000</td>\n",
        "<td class=\"pb_widget\"><div id=\"cb164004-0b5e-4d18-be11-10aef2c4eae8\">0 of 971</div></td>\n",
        "<td class=\"pb_widget\"><div id=\"0d01325e-65f1-4632-8c7c-8c4b9b16c81d\">  0%</div></td>\n",
        "<td class=\"pb_widget_fill\">\n",
        "        <div class=\"pb_bar\" id=\"04e661cb-448a-4647-9276-cbb43dab1a95\"></div>\n",
        "        <script type=\"text/javascript\">\n",
        "            $(\"div#04e661cb-448a-4647-9276-cbb43dab1a95\").progressbar({value: 0, max: 971});\n",
        "        </script>\n",
        "        </td>\n",
        "<td class=\"pb_widget\"><div id=\"12c23165-7bc9-49b5-8921-fd4a73bf25d7\">ETA:  --:--:--</div></td>\n",
        "</tr></table><div>"
       ],
       "metadata": {},
       "output_type": "display_data",
       "text": [
        "<IPython.core.display.HTML at 0xb4095ba8>"
       ]
      },
      {
       "javascript": [
        "$('div#cb164004-0b5e-4d18-be11-10aef2c4eae8').text('10 of 971');"
       ],
       "metadata": {},
       "output_type": "display_data",
       "text": [
        "<IPython.core.display.Javascript at 0xb4095cf8>"
       ]
      },
      {
       "javascript": [
        "$('div#0d01325e-65f1-4632-8c7c-8c4b9b16c81d').text('  1%');"
       ],
       "metadata": {},
       "output_type": "display_data",
       "text": [
        "<IPython.core.display.Javascript at 0xb4095cf8>"
       ]
      },
      {
       "javascript": [
        "\n",
        "        var $myPB = $(\"div#04e661cb-448a-4647-9276-cbb43dab1a95\")\n",
        "        if ($myPB.hasClass('ui-progressbar')) {\n",
        "            $myPB.progressbar('value', 10);\n",
        "        } else {\n",
        "            $myPB.progressbar({value: 0, max: 971});\n",
        "        }\n",
        "        "
       ],
       "metadata": {},
       "output_type": "display_data",
       "text": [
        "<IPython.core.display.Javascript at 0xb4095d30>"
       ]
      },
      {
       "javascript": [
        "$('div#12c23165-7bc9-49b5-8921-fd4a73bf25d7').text('ETA:  0:00:02');"
       ],
       "metadata": {},
       "output_type": "display_data",
       "text": [
        "<IPython.core.display.Javascript at 0xb4095b00>"
       ]
      },
      {
       "javascript": [
        "$('div#cb164004-0b5e-4d18-be11-10aef2c4eae8').text('20 of 971');"
       ],
       "metadata": {},
       "output_type": "display_data",
       "text": [
        "<IPython.core.display.Javascript at 0xb4095b38>"
       ]
      },
      {
       "javascript": [
        "$('div#0d01325e-65f1-4632-8c7c-8c4b9b16c81d').text('  2%');"
       ],
       "metadata": {},
       "output_type": "display_data",
       "text": [
        "<IPython.core.display.Javascript at 0xb4095b38>"
       ]
      },
      {
       "javascript": [
        "\n",
        "        var $myPB = $(\"div#04e661cb-448a-4647-9276-cbb43dab1a95\")\n",
        "        if ($myPB.hasClass('ui-progressbar')) {\n",
        "            $myPB.progressbar('value', 20);\n",
        "        } else {\n",
        "            $myPB.progressbar({value: 0, max: 971});\n",
        "        }\n",
        "        "
       ],
       "metadata": {},
       "output_type": "display_data",
       "text": [
        "<IPython.core.display.Javascript at 0xb4095e10>"
       ]
      },
      {
       "javascript": [
        "$('div#12c23165-7bc9-49b5-8921-fd4a73bf25d7').text('ETA:  0:00:03');"
       ],
       "metadata": {},
       "output_type": "display_data",
       "text": [
        "<IPython.core.display.Javascript at 0xb4095d30>"
       ]
      },
      {
       "javascript": [
        "$('div#cb164004-0b5e-4d18-be11-10aef2c4eae8').text('30 of 971');"
       ],
       "metadata": {},
       "output_type": "display_data",
       "text": [
        "<IPython.core.display.Javascript at 0xb4095ba8>"
       ]
      },
      {
       "javascript": [
        "$('div#0d01325e-65f1-4632-8c7c-8c4b9b16c81d').text('  3%');"
       ],
       "metadata": {},
       "output_type": "display_data",
       "text": [
        "<IPython.core.display.Javascript at 0xb4095ba8>"
       ]
      },
      {
       "javascript": [
        "\n",
        "        var $myPB = $(\"div#04e661cb-448a-4647-9276-cbb43dab1a95\")\n",
        "        if ($myPB.hasClass('ui-progressbar')) {\n",
        "            $myPB.progressbar('value', 30);\n",
        "        } else {\n",
        "            $myPB.progressbar({value: 0, max: 971});\n",
        "        }\n",
        "        "
       ],
       "metadata": {},
       "output_type": "display_data",
       "text": [
        "<IPython.core.display.Javascript at 0xb4095cf8>"
       ]
      },
      {
       "javascript": [
        "$('div#12c23165-7bc9-49b5-8921-fd4a73bf25d7').text('ETA:  0:00:03');"
       ],
       "metadata": {},
       "output_type": "display_data",
       "text": [
        "<IPython.core.display.Javascript at 0xb4095d30>"
       ]
      },
      {
       "javascript": [
        "$('div#cb164004-0b5e-4d18-be11-10aef2c4eae8').text('40 of 971');"
       ],
       "metadata": {},
       "output_type": "display_data",
       "text": [
        "<IPython.core.display.Javascript at 0xb4095d68>"
       ]
      },
      {
       "javascript": [
        "$('div#0d01325e-65f1-4632-8c7c-8c4b9b16c81d').text('  4%');"
       ],
       "metadata": {},
       "output_type": "display_data",
       "text": [
        "<IPython.core.display.Javascript at 0xb4095d68>"
       ]
      },
      {
       "javascript": [
        "\n",
        "        var $myPB = $(\"div#04e661cb-448a-4647-9276-cbb43dab1a95\")\n",
        "        if ($myPB.hasClass('ui-progressbar')) {\n",
        "            $myPB.progressbar('value', 40);\n",
        "        } else {\n",
        "            $myPB.progressbar({value: 0, max: 971});\n",
        "        }\n",
        "        "
       ],
       "metadata": {},
       "output_type": "display_data",
       "text": [
        "<IPython.core.display.Javascript at 0xb4095b38>"
       ]
      },
      {
       "javascript": [
        "$('div#12c23165-7bc9-49b5-8921-fd4a73bf25d7').text('ETA:  0:00:03');"
       ],
       "metadata": {},
       "output_type": "display_data",
       "text": [
        "<IPython.core.display.Javascript at 0xb4095d30>"
       ]
      },
      {
       "javascript": [
        "$('div#cb164004-0b5e-4d18-be11-10aef2c4eae8').text('50 of 971');"
       ],
       "metadata": {},
       "output_type": "display_data",
       "text": [
        "<IPython.core.display.Javascript at 0xb4095ba8>"
       ]
      },
      {
       "javascript": [
        "$('div#0d01325e-65f1-4632-8c7c-8c4b9b16c81d').text('  5%');"
       ],
       "metadata": {},
       "output_type": "display_data",
       "text": [
        "<IPython.core.display.Javascript at 0xb4095ba8>"
       ]
      },
      {
       "javascript": [
        "\n",
        "        var $myPB = $(\"div#04e661cb-448a-4647-9276-cbb43dab1a95\")\n",
        "        if ($myPB.hasClass('ui-progressbar')) {\n",
        "            $myPB.progressbar('value', 50);\n",
        "        } else {\n",
        "            $myPB.progressbar({value: 0, max: 971});\n",
        "        }\n",
        "        "
       ],
       "metadata": {},
       "output_type": "display_data",
       "text": [
        "<IPython.core.display.Javascript at 0xb4095e48>"
       ]
      },
      {
       "javascript": [
        "$('div#12c23165-7bc9-49b5-8921-fd4a73bf25d7').text('ETA:  0:00:03');"
       ],
       "metadata": {},
       "output_type": "display_data",
       "text": [
        "<IPython.core.display.Javascript at 0xb4095d30>"
       ]
      },
      {
       "javascript": [
        "$('div#cb164004-0b5e-4d18-be11-10aef2c4eae8').text('60 of 971');"
       ],
       "metadata": {},
       "output_type": "display_data",
       "text": [
        "<IPython.core.display.Javascript at 0xb4095cf8>"
       ]
      },
      {
       "javascript": [
        "$('div#0d01325e-65f1-4632-8c7c-8c4b9b16c81d').text('  6%');"
       ],
       "metadata": {},
       "output_type": "display_data",
       "text": [
        "<IPython.core.display.Javascript at 0xb4095cf8>"
       ]
      },
      {
       "javascript": [
        "\n",
        "        var $myPB = $(\"div#04e661cb-448a-4647-9276-cbb43dab1a95\")\n",
        "        if ($myPB.hasClass('ui-progressbar')) {\n",
        "            $myPB.progressbar('value', 60);\n",
        "        } else {\n",
        "            $myPB.progressbar({value: 0, max: 971});\n",
        "        }\n",
        "        "
       ],
       "metadata": {},
       "output_type": "display_data",
       "text": [
        "<IPython.core.display.Javascript at 0xb4095d68>"
       ]
      },
      {
       "javascript": [
        "$('div#12c23165-7bc9-49b5-8921-fd4a73bf25d7').text('ETA:  0:00:03');"
       ],
       "metadata": {},
       "output_type": "display_data",
       "text": [
        "<IPython.core.display.Javascript at 0xb4095d30>"
       ]
      },
      {
       "javascript": [
        "$('div#cb164004-0b5e-4d18-be11-10aef2c4eae8').text('70 of 971');"
       ],
       "metadata": {},
       "output_type": "display_data",
       "text": [
        "<IPython.core.display.Javascript at 0xb4095e80>"
       ]
      },
      {
       "javascript": [
        "$('div#0d01325e-65f1-4632-8c7c-8c4b9b16c81d').text('  7%');"
       ],
       "metadata": {},
       "output_type": "display_data",
       "text": [
        "<IPython.core.display.Javascript at 0xb4095e80>"
       ]
      },
      {
       "javascript": [
        "\n",
        "        var $myPB = $(\"div#04e661cb-448a-4647-9276-cbb43dab1a95\")\n",
        "        if ($myPB.hasClass('ui-progressbar')) {\n",
        "            $myPB.progressbar('value', 70);\n",
        "        } else {\n",
        "            $myPB.progressbar({value: 0, max: 971});\n",
        "        }\n",
        "        "
       ],
       "metadata": {},
       "output_type": "display_data",
       "text": [
        "<IPython.core.display.Javascript at 0xb4095ba8>"
       ]
      },
      {
       "javascript": [
        "$('div#12c23165-7bc9-49b5-8921-fd4a73bf25d7').text('ETA:  0:00:03');"
       ],
       "metadata": {},
       "output_type": "display_data",
       "text": [
        "<IPython.core.display.Javascript at 0xb4095d30>"
       ]
      },
      {
       "javascript": [
        "$('div#cb164004-0b5e-4d18-be11-10aef2c4eae8').text('80 of 971');"
       ],
       "metadata": {},
       "output_type": "display_data",
       "text": [
        "<IPython.core.display.Javascript at 0xb4095cf8>"
       ]
      },
      {
       "javascript": [
        "$('div#0d01325e-65f1-4632-8c7c-8c4b9b16c81d').text('  8%');"
       ],
       "metadata": {},
       "output_type": "display_data",
       "text": [
        "<IPython.core.display.Javascript at 0xb4095cf8>"
       ]
      },
      {
       "javascript": [
        "\n",
        "        var $myPB = $(\"div#04e661cb-448a-4647-9276-cbb43dab1a95\")\n",
        "        if ($myPB.hasClass('ui-progressbar')) {\n",
        "            $myPB.progressbar('value', 80);\n",
        "        } else {\n",
        "            $myPB.progressbar({value: 0, max: 971});\n",
        "        }\n",
        "        "
       ],
       "metadata": {},
       "output_type": "display_data",
       "text": [
        "<IPython.core.display.Javascript at 0xb4095b00>"
       ]
      },
      {
       "javascript": [
        "$('div#12c23165-7bc9-49b5-8921-fd4a73bf25d7').text('ETA:  0:00:02');"
       ],
       "metadata": {},
       "output_type": "display_data",
       "text": [
        "<IPython.core.display.Javascript at 0xb4095d30>"
       ]
      },
      {
       "javascript": [
        "$('div#cb164004-0b5e-4d18-be11-10aef2c4eae8').text('90 of 971');"
       ],
       "metadata": {},
       "output_type": "display_data",
       "text": [
        "<IPython.core.display.Javascript at 0xb4095d68>"
       ]
      },
      {
       "javascript": [
        "$('div#0d01325e-65f1-4632-8c7c-8c4b9b16c81d').text('  9%');"
       ],
       "metadata": {},
       "output_type": "display_data",
       "text": [
        "<IPython.core.display.Javascript at 0xb4095d68>"
       ]
      },
      {
       "javascript": [
        "\n",
        "        var $myPB = $(\"div#04e661cb-448a-4647-9276-cbb43dab1a95\")\n",
        "        if ($myPB.hasClass('ui-progressbar')) {\n",
        "            $myPB.progressbar('value', 90);\n",
        "        } else {\n",
        "            $myPB.progressbar({value: 0, max: 971});\n",
        "        }\n",
        "        "
       ],
       "metadata": {},
       "output_type": "display_data",
       "text": [
        "<IPython.core.display.Javascript at 0xb4095e80>"
       ]
      },
      {
       "javascript": [
        "$('div#12c23165-7bc9-49b5-8921-fd4a73bf25d7').text('ETA:  0:00:02');"
       ],
       "metadata": {},
       "output_type": "display_data",
       "text": [
        "<IPython.core.display.Javascript at 0xb4095d30>"
       ]
      },
      {
       "javascript": [
        "$('div#cb164004-0b5e-4d18-be11-10aef2c4eae8').text('100 of 971');"
       ],
       "metadata": {},
       "output_type": "display_data",
       "text": [
        "<IPython.core.display.Javascript at 0xb4095eb8>"
       ]
      },
      {
       "javascript": [
        "$('div#0d01325e-65f1-4632-8c7c-8c4b9b16c81d').text(' 10%');"
       ],
       "metadata": {},
       "output_type": "display_data",
       "text": [
        "<IPython.core.display.Javascript at 0xb4095eb8>"
       ]
      },
      {
       "javascript": [
        "\n",
        "        var $myPB = $(\"div#04e661cb-448a-4647-9276-cbb43dab1a95\")\n",
        "        if ($myPB.hasClass('ui-progressbar')) {\n",
        "            $myPB.progressbar('value', 100);\n",
        "        } else {\n",
        "            $myPB.progressbar({value: 0, max: 971});\n",
        "        }\n",
        "        "
       ],
       "metadata": {},
       "output_type": "display_data",
       "text": [
        "<IPython.core.display.Javascript at 0xb4095cf8>"
       ]
      },
      {
       "javascript": [
        "$('div#12c23165-7bc9-49b5-8921-fd4a73bf25d7').text('ETA:  0:00:02');"
       ],
       "metadata": {},
       "output_type": "display_data",
       "text": [
        "<IPython.core.display.Javascript at 0xb4095d30>"
       ]
      },
      {
       "javascript": [
        "$('div#cb164004-0b5e-4d18-be11-10aef2c4eae8').text('110 of 971');"
       ],
       "metadata": {},
       "output_type": "display_data",
       "text": [
        "<IPython.core.display.Javascript at 0xb4095d68>"
       ]
      },
      {
       "javascript": [
        "$('div#0d01325e-65f1-4632-8c7c-8c4b9b16c81d').text(' 11%');"
       ],
       "metadata": {},
       "output_type": "display_data",
       "text": [
        "<IPython.core.display.Javascript at 0xb4095d68>"
       ]
      },
      {
       "javascript": [
        "\n",
        "        var $myPB = $(\"div#04e661cb-448a-4647-9276-cbb43dab1a95\")\n",
        "        if ($myPB.hasClass('ui-progressbar')) {\n",
        "            $myPB.progressbar('value', 110);\n",
        "        } else {\n",
        "            $myPB.progressbar({value: 0, max: 971});\n",
        "        }\n",
        "        "
       ],
       "metadata": {},
       "output_type": "display_data",
       "text": [
        "<IPython.core.display.Javascript at 0xb4095b38>"
       ]
      },
      {
       "javascript": [
        "$('div#12c23165-7bc9-49b5-8921-fd4a73bf25d7').text('ETA:  0:00:02');"
       ],
       "metadata": {},
       "output_type": "display_data",
       "text": [
        "<IPython.core.display.Javascript at 0xb4095d30>"
       ]
      },
      {
       "javascript": [
        "$('div#cb164004-0b5e-4d18-be11-10aef2c4eae8').text('120 of 971');"
       ],
       "metadata": {},
       "output_type": "display_data",
       "text": [
        "<IPython.core.display.Javascript at 0xb4095eb8>"
       ]
      },
      {
       "javascript": [
        "$('div#0d01325e-65f1-4632-8c7c-8c4b9b16c81d').text(' 12%');"
       ],
       "metadata": {},
       "output_type": "display_data",
       "text": [
        "<IPython.core.display.Javascript at 0xb4095eb8>"
       ]
      },
      {
       "javascript": [
        "\n",
        "        var $myPB = $(\"div#04e661cb-448a-4647-9276-cbb43dab1a95\")\n",
        "        if ($myPB.hasClass('ui-progressbar')) {\n",
        "            $myPB.progressbar('value', 120);\n",
        "        } else {\n",
        "            $myPB.progressbar({value: 0, max: 971});\n",
        "        }\n",
        "        "
       ],
       "metadata": {},
       "output_type": "display_data",
       "text": [
        "<IPython.core.display.Javascript at 0xb4095ba8>"
       ]
      },
      {
       "javascript": [
        "$('div#12c23165-7bc9-49b5-8921-fd4a73bf25d7').text('ETA:  0:00:02');"
       ],
       "metadata": {},
       "output_type": "display_data",
       "text": [
        "<IPython.core.display.Javascript at 0xb4095d30>"
       ]
      },
      {
       "javascript": [
        "$('div#cb164004-0b5e-4d18-be11-10aef2c4eae8').text('130 of 971');"
       ],
       "metadata": {},
       "output_type": "display_data",
       "text": [
        "<IPython.core.display.Javascript at 0xb4095cf8>"
       ]
      },
      {
       "javascript": [
        "$('div#0d01325e-65f1-4632-8c7c-8c4b9b16c81d').text(' 13%');"
       ],
       "metadata": {},
       "output_type": "display_data",
       "text": [
        "<IPython.core.display.Javascript at 0xb4095cf8>"
       ]
      },
      {
       "javascript": [
        "\n",
        "        var $myPB = $(\"div#04e661cb-448a-4647-9276-cbb43dab1a95\")\n",
        "        if ($myPB.hasClass('ui-progressbar')) {\n",
        "            $myPB.progressbar('value', 130);\n",
        "        } else {\n",
        "            $myPB.progressbar({value: 0, max: 971});\n",
        "        }\n",
        "        "
       ],
       "metadata": {},
       "output_type": "display_data",
       "text": [
        "<IPython.core.display.Javascript at 0xb4095d68>"
       ]
      },
      {
       "javascript": [
        "$('div#12c23165-7bc9-49b5-8921-fd4a73bf25d7').text('ETA:  0:00:02');"
       ],
       "metadata": {},
       "output_type": "display_data",
       "text": [
        "<IPython.core.display.Javascript at 0xb4095d30>"
       ]
      },
      {
       "javascript": [
        "$('div#cb164004-0b5e-4d18-be11-10aef2c4eae8').text('140 of 971');"
       ],
       "metadata": {},
       "output_type": "display_data",
       "text": [
        "<IPython.core.display.Javascript at 0xb4095f28>"
       ]
      },
      {
       "javascript": [
        "$('div#0d01325e-65f1-4632-8c7c-8c4b9b16c81d').text(' 14%');"
       ],
       "metadata": {},
       "output_type": "display_data",
       "text": [
        "<IPython.core.display.Javascript at 0xb4095f28>"
       ]
      },
      {
       "javascript": [
        "\n",
        "        var $myPB = $(\"div#04e661cb-448a-4647-9276-cbb43dab1a95\")\n",
        "        if ($myPB.hasClass('ui-progressbar')) {\n",
        "            $myPB.progressbar('value', 140);\n",
        "        } else {\n",
        "            $myPB.progressbar({value: 0, max: 971});\n",
        "        }\n",
        "        "
       ],
       "metadata": {},
       "output_type": "display_data",
       "text": [
        "<IPython.core.display.Javascript at 0xb4095eb8>"
       ]
      },
      {
       "javascript": [
        "$('div#12c23165-7bc9-49b5-8921-fd4a73bf25d7').text('ETA:  0:00:02');"
       ],
       "metadata": {},
       "output_type": "display_data",
       "text": [
        "<IPython.core.display.Javascript at 0xb4095d30>"
       ]
      },
      {
       "javascript": [
        "$('div#cb164004-0b5e-4d18-be11-10aef2c4eae8').text('150 of 971');"
       ],
       "metadata": {},
       "output_type": "display_data",
       "text": [
        "<IPython.core.display.Javascript at 0xb4095cf8>"
       ]
      },
      {
       "javascript": [
        "$('div#0d01325e-65f1-4632-8c7c-8c4b9b16c81d').text(' 15%');"
       ],
       "metadata": {},
       "output_type": "display_data",
       "text": [
        "<IPython.core.display.Javascript at 0xb4095cf8>"
       ]
      },
      {
       "javascript": [
        "\n",
        "        var $myPB = $(\"div#04e661cb-448a-4647-9276-cbb43dab1a95\")\n",
        "        if ($myPB.hasClass('ui-progressbar')) {\n",
        "            $myPB.progressbar('value', 150);\n",
        "        } else {\n",
        "            $myPB.progressbar({value: 0, max: 971});\n",
        "        }\n",
        "        "
       ],
       "metadata": {},
       "output_type": "display_data",
       "text": [
        "<IPython.core.display.Javascript at 0xb4095ef0>"
       ]
      },
      {
       "javascript": [
        "$('div#12c23165-7bc9-49b5-8921-fd4a73bf25d7').text('ETA:  0:00:02');"
       ],
       "metadata": {},
       "output_type": "display_data",
       "text": [
        "<IPython.core.display.Javascript at 0xb4095d30>"
       ]
      },
      {
       "javascript": [
        "$('div#cb164004-0b5e-4d18-be11-10aef2c4eae8').text('160 of 971');"
       ],
       "metadata": {},
       "output_type": "display_data",
       "text": [
        "<IPython.core.display.Javascript at 0xb4095d68>"
       ]
      },
      {
       "javascript": [
        "$('div#0d01325e-65f1-4632-8c7c-8c4b9b16c81d').text(' 16%');"
       ],
       "metadata": {},
       "output_type": "display_data",
       "text": [
        "<IPython.core.display.Javascript at 0xb4095d68>"
       ]
      },
      {
       "javascript": [
        "\n",
        "        var $myPB = $(\"div#04e661cb-448a-4647-9276-cbb43dab1a95\")\n",
        "        if ($myPB.hasClass('ui-progressbar')) {\n",
        "            $myPB.progressbar('value', 160);\n",
        "        } else {\n",
        "            $myPB.progressbar({value: 0, max: 971});\n",
        "        }\n",
        "        "
       ],
       "metadata": {},
       "output_type": "display_data",
       "text": [
        "<IPython.core.display.Javascript at 0xb4095f28>"
       ]
      },
      {
       "javascript": [
        "$('div#12c23165-7bc9-49b5-8921-fd4a73bf25d7').text('ETA:  0:00:02');"
       ],
       "metadata": {},
       "output_type": "display_data",
       "text": [
        "<IPython.core.display.Javascript at 0xb4095d30>"
       ]
      },
      {
       "javascript": [
        "$('div#cb164004-0b5e-4d18-be11-10aef2c4eae8').text('170 of 971');"
       ],
       "metadata": {},
       "output_type": "display_data",
       "text": [
        "<IPython.core.display.Javascript at 0xb4095b38>"
       ]
      },
      {
       "javascript": [
        "$('div#0d01325e-65f1-4632-8c7c-8c4b9b16c81d').text(' 17%');"
       ],
       "metadata": {},
       "output_type": "display_data",
       "text": [
        "<IPython.core.display.Javascript at 0xb4095b38>"
       ]
      },
      {
       "javascript": [
        "\n",
        "        var $myPB = $(\"div#04e661cb-448a-4647-9276-cbb43dab1a95\")\n",
        "        if ($myPB.hasClass('ui-progressbar')) {\n",
        "            $myPB.progressbar('value', 170);\n",
        "        } else {\n",
        "            $myPB.progressbar({value: 0, max: 971});\n",
        "        }\n",
        "        "
       ],
       "metadata": {},
       "output_type": "display_data",
       "text": [
        "<IPython.core.display.Javascript at 0xb4095ba8>"
       ]
      },
      {
       "javascript": [
        "$('div#12c23165-7bc9-49b5-8921-fd4a73bf25d7').text('ETA:  0:00:02');"
       ],
       "metadata": {},
       "output_type": "display_data",
       "text": [
        "<IPython.core.display.Javascript at 0xb4095d30>"
       ]
      },
      {
       "javascript": [
        "$('div#cb164004-0b5e-4d18-be11-10aef2c4eae8').text('180 of 971');"
       ],
       "metadata": {},
       "output_type": "display_data",
       "text": [
        "<IPython.core.display.Javascript at 0xb4095eb8>"
       ]
      },
      {
       "javascript": [
        "$('div#0d01325e-65f1-4632-8c7c-8c4b9b16c81d').text(' 18%');"
       ],
       "metadata": {},
       "output_type": "display_data",
       "text": [
        "<IPython.core.display.Javascript at 0xb4095eb8>"
       ]
      },
      {
       "javascript": [
        "\n",
        "        var $myPB = $(\"div#04e661cb-448a-4647-9276-cbb43dab1a95\")\n",
        "        if ($myPB.hasClass('ui-progressbar')) {\n",
        "            $myPB.progressbar('value', 180);\n",
        "        } else {\n",
        "            $myPB.progressbar({value: 0, max: 971});\n",
        "        }\n",
        "        "
       ],
       "metadata": {},
       "output_type": "display_data",
       "text": [
        "<IPython.core.display.Javascript at 0xb4095d68>"
       ]
      },
      {
       "javascript": [
        "$('div#12c23165-7bc9-49b5-8921-fd4a73bf25d7').text('ETA:  0:00:02');"
       ],
       "metadata": {},
       "output_type": "display_data",
       "text": [
        "<IPython.core.display.Javascript at 0xb4095d30>"
       ]
      },
      {
       "javascript": [
        "$('div#cb164004-0b5e-4d18-be11-10aef2c4eae8').text('190 of 971');"
       ],
       "metadata": {},
       "output_type": "display_data",
       "text": [
        "<IPython.core.display.Javascript at 0xb4095fd0>"
       ]
      },
      {
       "javascript": [
        "$('div#0d01325e-65f1-4632-8c7c-8c4b9b16c81d').text(' 19%');"
       ],
       "metadata": {},
       "output_type": "display_data",
       "text": [
        "<IPython.core.display.Javascript at 0xb4095fd0>"
       ]
      },
      {
       "javascript": [
        "\n",
        "        var $myPB = $(\"div#04e661cb-448a-4647-9276-cbb43dab1a95\")\n",
        "        if ($myPB.hasClass('ui-progressbar')) {\n",
        "            $myPB.progressbar('value', 190);\n",
        "        } else {\n",
        "            $myPB.progressbar({value: 0, max: 971});\n",
        "        }\n",
        "        "
       ],
       "metadata": {},
       "output_type": "display_data",
       "text": [
        "<IPython.core.display.Javascript at 0xb4095b38>"
       ]
      },
      {
       "javascript": [
        "$('div#12c23165-7bc9-49b5-8921-fd4a73bf25d7').text('ETA:  0:00:02');"
       ],
       "metadata": {},
       "output_type": "display_data",
       "text": [
        "<IPython.core.display.Javascript at 0xb4095d30>"
       ]
      },
      {
       "javascript": [
        "$('div#cb164004-0b5e-4d18-be11-10aef2c4eae8').text('200 of 971');"
       ],
       "metadata": {},
       "output_type": "display_data",
       "text": [
        "<IPython.core.display.Javascript at 0xb4095f98>"
       ]
      },
      {
       "javascript": [
        "$('div#0d01325e-65f1-4632-8c7c-8c4b9b16c81d').text(' 20%');"
       ],
       "metadata": {},
       "output_type": "display_data",
       "text": [
        "<IPython.core.display.Javascript at 0xb4095f98>"
       ]
      },
      {
       "javascript": [
        "\n",
        "        var $myPB = $(\"div#04e661cb-448a-4647-9276-cbb43dab1a95\")\n",
        "        if ($myPB.hasClass('ui-progressbar')) {\n",
        "            $myPB.progressbar('value', 200);\n",
        "        } else {\n",
        "            $myPB.progressbar({value: 0, max: 971});\n",
        "        }\n",
        "        "
       ],
       "metadata": {},
       "output_type": "display_data",
       "text": [
        "<IPython.core.display.Javascript at 0xb4095eb8>"
       ]
      },
      {
       "javascript": [
        "$('div#12c23165-7bc9-49b5-8921-fd4a73bf25d7').text('ETA:  0:00:02');"
       ],
       "metadata": {},
       "output_type": "display_data",
       "text": [
        "<IPython.core.display.Javascript at 0xb4095d30>"
       ]
      },
      {
       "javascript": [
        "$('div#cb164004-0b5e-4d18-be11-10aef2c4eae8').text('210 of 971');"
       ],
       "metadata": {},
       "output_type": "display_data",
       "text": [
        "<IPython.core.display.Javascript at 0xb4095fd0>"
       ]
      },
      {
       "javascript": [
        "$('div#0d01325e-65f1-4632-8c7c-8c4b9b16c81d').text(' 21%');"
       ],
       "metadata": {},
       "output_type": "display_data",
       "text": [
        "<IPython.core.display.Javascript at 0xb4095fd0>"
       ]
      },
      {
       "javascript": [
        "\n",
        "        var $myPB = $(\"div#04e661cb-448a-4647-9276-cbb43dab1a95\")\n",
        "        if ($myPB.hasClass('ui-progressbar')) {\n",
        "            $myPB.progressbar('value', 210);\n",
        "        } else {\n",
        "            $myPB.progressbar({value: 0, max: 971});\n",
        "        }\n",
        "        "
       ],
       "metadata": {},
       "output_type": "display_data",
       "text": [
        "<IPython.core.display.Javascript at 0xb4095ef0>"
       ]
      },
      {
       "javascript": [
        "$('div#12c23165-7bc9-49b5-8921-fd4a73bf25d7').text('ETA:  0:00:02');"
       ],
       "metadata": {},
       "output_type": "display_data",
       "text": [
        "<IPython.core.display.Javascript at 0xb4095d30>"
       ]
      },
      {
       "javascript": [
        "$('div#cb164004-0b5e-4d18-be11-10aef2c4eae8').text('220 of 971');"
       ],
       "metadata": {},
       "output_type": "display_data",
       "text": [
        "<IPython.core.display.Javascript at 0xb4095b38>"
       ]
      },
      {
       "javascript": [
        "$('div#0d01325e-65f1-4632-8c7c-8c4b9b16c81d').text(' 22%');"
       ],
       "metadata": {},
       "output_type": "display_data",
       "text": [
        "<IPython.core.display.Javascript at 0xb4095b38>"
       ]
      },
      {
       "javascript": [
        "\n",
        "        var $myPB = $(\"div#04e661cb-448a-4647-9276-cbb43dab1a95\")\n",
        "        if ($myPB.hasClass('ui-progressbar')) {\n",
        "            $myPB.progressbar('value', 220);\n",
        "        } else {\n",
        "            $myPB.progressbar({value: 0, max: 971});\n",
        "        }\n",
        "        "
       ],
       "metadata": {},
       "output_type": "display_data",
       "text": [
        "<IPython.core.display.Javascript at 0xb4095f98>"
       ]
      },
      {
       "javascript": [
        "$('div#12c23165-7bc9-49b5-8921-fd4a73bf25d7').text('ETA:  0:00:02');"
       ],
       "metadata": {},
       "output_type": "display_data",
       "text": [
        "<IPython.core.display.Javascript at 0xb4095d30>"
       ]
      },
      {
       "javascript": [
        "$('div#cb164004-0b5e-4d18-be11-10aef2c4eae8').text('230 of 971');"
       ],
       "metadata": {},
       "output_type": "display_data",
       "text": [
        "<IPython.core.display.Javascript at 0xb4095fd0>"
       ]
      },
      {
       "javascript": [
        "$('div#0d01325e-65f1-4632-8c7c-8c4b9b16c81d').text(' 23%');"
       ],
       "metadata": {},
       "output_type": "display_data",
       "text": [
        "<IPython.core.display.Javascript at 0xb4095fd0>"
       ]
      },
      {
       "javascript": [
        "\n",
        "        var $myPB = $(\"div#04e661cb-448a-4647-9276-cbb43dab1a95\")\n",
        "        if ($myPB.hasClass('ui-progressbar')) {\n",
        "            $myPB.progressbar('value', 230);\n",
        "        } else {\n",
        "            $myPB.progressbar({value: 0, max: 971});\n",
        "        }\n",
        "        "
       ],
       "metadata": {},
       "output_type": "display_data",
       "text": [
        "<IPython.core.display.Javascript at 0xb4095ba8>"
       ]
      },
      {
       "javascript": [
        "$('div#12c23165-7bc9-49b5-8921-fd4a73bf25d7').text('ETA:  0:00:02');"
       ],
       "metadata": {},
       "output_type": "display_data",
       "text": [
        "<IPython.core.display.Javascript at 0xb4095d30>"
       ]
      },
      {
       "javascript": [
        "$('div#cb164004-0b5e-4d18-be11-10aef2c4eae8').text('240 of 971');"
       ],
       "metadata": {},
       "output_type": "display_data",
       "text": [
        "<IPython.core.display.Javascript at 0xb4095ef0>"
       ]
      },
      {
       "javascript": [
        "$('div#0d01325e-65f1-4632-8c7c-8c4b9b16c81d').text(' 24%');"
       ],
       "metadata": {},
       "output_type": "display_data",
       "text": [
        "<IPython.core.display.Javascript at 0xb4095ef0>"
       ]
      },
      {
       "javascript": [
        "\n",
        "        var $myPB = $(\"div#04e661cb-448a-4647-9276-cbb43dab1a95\")\n",
        "        if ($myPB.hasClass('ui-progressbar')) {\n",
        "            $myPB.progressbar('value', 240);\n",
        "        } else {\n",
        "            $myPB.progressbar({value: 0, max: 971});\n",
        "        }\n",
        "        "
       ],
       "metadata": {},
       "output_type": "display_data",
       "text": [
        "<IPython.core.display.Javascript at 0xb4095b38>"
       ]
      },
      {
       "javascript": [
        "$('div#12c23165-7bc9-49b5-8921-fd4a73bf25d7').text('ETA:  0:00:02');"
       ],
       "metadata": {},
       "output_type": "display_data",
       "text": [
        "<IPython.core.display.Javascript at 0xb4095d30>"
       ]
      },
      {
       "javascript": [
        "$('div#cb164004-0b5e-4d18-be11-10aef2c4eae8').text('250 of 971');"
       ],
       "metadata": {},
       "output_type": "display_data",
       "text": [
        "<IPython.core.display.Javascript at 0xb4095eb8>"
       ]
      },
      {
       "javascript": [
        "$('div#0d01325e-65f1-4632-8c7c-8c4b9b16c81d').text(' 25%');"
       ],
       "metadata": {},
       "output_type": "display_data",
       "text": [
        "<IPython.core.display.Javascript at 0xb4095eb8>"
       ]
      },
      {
       "javascript": [
        "\n",
        "        var $myPB = $(\"div#04e661cb-448a-4647-9276-cbb43dab1a95\")\n",
        "        if ($myPB.hasClass('ui-progressbar')) {\n",
        "            $myPB.progressbar('value', 250);\n",
        "        } else {\n",
        "            $myPB.progressbar({value: 0, max: 971});\n",
        "        }\n",
        "        "
       ],
       "metadata": {},
       "output_type": "display_data",
       "text": [
        "<IPython.core.display.Javascript at 0xb4095fd0>"
       ]
      },
      {
       "javascript": [
        "$('div#12c23165-7bc9-49b5-8921-fd4a73bf25d7').text('ETA:  0:00:02');"
       ],
       "metadata": {},
       "output_type": "display_data",
       "text": [
        "<IPython.core.display.Javascript at 0xb4095d30>"
       ]
      },
      {
       "javascript": [
        "$('div#cb164004-0b5e-4d18-be11-10aef2c4eae8').text('260 of 971');"
       ],
       "metadata": {},
       "output_type": "display_data",
       "text": [
        "<IPython.core.display.Javascript at 0xb4095ef0>"
       ]
      },
      {
       "javascript": [
        "$('div#0d01325e-65f1-4632-8c7c-8c4b9b16c81d').text(' 26%');"
       ],
       "metadata": {},
       "output_type": "display_data",
       "text": [
        "<IPython.core.display.Javascript at 0xb4095ef0>"
       ]
      },
      {
       "javascript": [
        "\n",
        "        var $myPB = $(\"div#04e661cb-448a-4647-9276-cbb43dab1a95\")\n",
        "        if ($myPB.hasClass('ui-progressbar')) {\n",
        "            $myPB.progressbar('value', 260);\n",
        "        } else {\n",
        "            $myPB.progressbar({value: 0, max: 971});\n",
        "        }\n",
        "        "
       ],
       "metadata": {},
       "output_type": "display_data",
       "text": [
        "<IPython.core.display.Javascript at 0xb4095b38>"
       ]
      },
      {
       "javascript": [
        "$('div#12c23165-7bc9-49b5-8921-fd4a73bf25d7').text('ETA:  0:00:02');"
       ],
       "metadata": {},
       "output_type": "display_data",
       "text": [
        "<IPython.core.display.Javascript at 0xb4095d30>"
       ]
      },
      {
       "javascript": [
        "$('div#cb164004-0b5e-4d18-be11-10aef2c4eae8').text('270 of 971');"
       ],
       "metadata": {},
       "output_type": "display_data",
       "text": [
        "<IPython.core.display.Javascript at 0xb4095eb8>"
       ]
      },
      {
       "javascript": [
        "$('div#0d01325e-65f1-4632-8c7c-8c4b9b16c81d').text(' 27%');"
       ],
       "metadata": {},
       "output_type": "display_data",
       "text": [
        "<IPython.core.display.Javascript at 0xb4095eb8>"
       ]
      },
      {
       "javascript": [
        "\n",
        "        var $myPB = $(\"div#04e661cb-448a-4647-9276-cbb43dab1a95\")\n",
        "        if ($myPB.hasClass('ui-progressbar')) {\n",
        "            $myPB.progressbar('value', 270);\n",
        "        } else {\n",
        "            $myPB.progressbar({value: 0, max: 971});\n",
        "        }\n",
        "        "
       ],
       "metadata": {},
       "output_type": "display_data",
       "text": [
        "<IPython.core.display.Javascript at 0xb4095fd0>"
       ]
      },
      {
       "javascript": [
        "$('div#12c23165-7bc9-49b5-8921-fd4a73bf25d7').text('ETA:  0:00:02');"
       ],
       "metadata": {},
       "output_type": "display_data",
       "text": [
        "<IPython.core.display.Javascript at 0xb4095b38>"
       ]
      },
      {
       "javascript": [
        "$('div#cb164004-0b5e-4d18-be11-10aef2c4eae8').text('280 of 971');"
       ],
       "metadata": {},
       "output_type": "display_data",
       "text": [
        "<IPython.core.display.Javascript at 0xb4095d30>"
       ]
      },
      {
       "javascript": [
        "$('div#0d01325e-65f1-4632-8c7c-8c4b9b16c81d').text(' 28%');"
       ],
       "metadata": {},
       "output_type": "display_data",
       "text": [
        "<IPython.core.display.Javascript at 0xb4095d30>"
       ]
      },
      {
       "javascript": [
        "\n",
        "        var $myPB = $(\"div#04e661cb-448a-4647-9276-cbb43dab1a95\")\n",
        "        if ($myPB.hasClass('ui-progressbar')) {\n",
        "            $myPB.progressbar('value', 280);\n",
        "        } else {\n",
        "            $myPB.progressbar({value: 0, max: 971});\n",
        "        }\n",
        "        "
       ],
       "metadata": {},
       "output_type": "display_data",
       "text": [
        "<IPython.core.display.Javascript at 0xb4095ef0>"
       ]
      },
      {
       "javascript": [
        "$('div#12c23165-7bc9-49b5-8921-fd4a73bf25d7').text('ETA:  0:00:02');"
       ],
       "metadata": {},
       "output_type": "display_data",
       "text": [
        "<IPython.core.display.Javascript at 0xb4095fd0>"
       ]
      },
      {
       "javascript": [
        "$('div#cb164004-0b5e-4d18-be11-10aef2c4eae8').text('290 of 971');"
       ],
       "metadata": {},
       "output_type": "display_data",
       "text": [
        "<IPython.core.display.Javascript at 0xb40d00f0>"
       ]
      },
      {
       "javascript": [
        "$('div#0d01325e-65f1-4632-8c7c-8c4b9b16c81d').text(' 29%');"
       ],
       "metadata": {},
       "output_type": "display_data",
       "text": [
        "<IPython.core.display.Javascript at 0xb4095fd0>"
       ]
      },
      {
       "javascript": [
        "\n",
        "        var $myPB = $(\"div#04e661cb-448a-4647-9276-cbb43dab1a95\")\n",
        "        if ($myPB.hasClass('ui-progressbar')) {\n",
        "            $myPB.progressbar('value', 290);\n",
        "        } else {\n",
        "            $myPB.progressbar({value: 0, max: 971});\n",
        "        }\n",
        "        "
       ],
       "metadata": {},
       "output_type": "display_data",
       "text": [
        "<IPython.core.display.Javascript at 0xb4095ef0>"
       ]
      },
      {
       "javascript": [
        "$('div#12c23165-7bc9-49b5-8921-fd4a73bf25d7').text('ETA:  0:00:02');"
       ],
       "metadata": {},
       "output_type": "display_data",
       "text": [
        "<IPython.core.display.Javascript at 0xb4095d30>"
       ]
      },
      {
       "javascript": [
        "$('div#cb164004-0b5e-4d18-be11-10aef2c4eae8').text('300 of 971');"
       ],
       "metadata": {},
       "output_type": "display_data",
       "text": [
        "<IPython.core.display.Javascript at 0xb40d0160>"
       ]
      },
      {
       "javascript": [
        "$('div#0d01325e-65f1-4632-8c7c-8c4b9b16c81d').text(' 30%');"
       ],
       "metadata": {},
       "output_type": "display_data",
       "text": [
        "<IPython.core.display.Javascript at 0xb4095d30>"
       ]
      },
      {
       "javascript": [
        "\n",
        "        var $myPB = $(\"div#04e661cb-448a-4647-9276-cbb43dab1a95\")\n",
        "        if ($myPB.hasClass('ui-progressbar')) {\n",
        "            $myPB.progressbar('value', 300);\n",
        "        } else {\n",
        "            $myPB.progressbar({value: 0, max: 971});\n",
        "        }\n",
        "        "
       ],
       "metadata": {},
       "output_type": "display_data",
       "text": [
        "<IPython.core.display.Javascript at 0xb4095ef0>"
       ]
      },
      {
       "javascript": [
        "$('div#12c23165-7bc9-49b5-8921-fd4a73bf25d7').text('ETA:  0:00:02');"
       ],
       "metadata": {},
       "output_type": "display_data",
       "text": [
        "<IPython.core.display.Javascript at 0xb4095fd0>"
       ]
      },
      {
       "javascript": [
        "$('div#cb164004-0b5e-4d18-be11-10aef2c4eae8').text('310 of 971');"
       ],
       "metadata": {},
       "output_type": "display_data",
       "text": [
        "<IPython.core.display.Javascript at 0xb40d0160>"
       ]
      },
      {
       "javascript": [
        "$('div#0d01325e-65f1-4632-8c7c-8c4b9b16c81d').text(' 31%');"
       ],
       "metadata": {},
       "output_type": "display_data",
       "text": [
        "<IPython.core.display.Javascript at 0xb4095fd0>"
       ]
      },
      {
       "javascript": [
        "\n",
        "        var $myPB = $(\"div#04e661cb-448a-4647-9276-cbb43dab1a95\")\n",
        "        if ($myPB.hasClass('ui-progressbar')) {\n",
        "            $myPB.progressbar('value', 310);\n",
        "        } else {\n",
        "            $myPB.progressbar({value: 0, max: 971});\n",
        "        }\n",
        "        "
       ],
       "metadata": {},
       "output_type": "display_data",
       "text": [
        "<IPython.core.display.Javascript at 0xb4095ef0>"
       ]
      },
      {
       "javascript": [
        "$('div#12c23165-7bc9-49b5-8921-fd4a73bf25d7').text('ETA:  0:00:02');"
       ],
       "metadata": {},
       "output_type": "display_data",
       "text": [
        "<IPython.core.display.Javascript at 0xb4095d30>"
       ]
      },
      {
       "javascript": [
        "$('div#cb164004-0b5e-4d18-be11-10aef2c4eae8').text('320 of 971');"
       ],
       "metadata": {},
       "output_type": "display_data",
       "text": [
        "<IPython.core.display.Javascript at 0xb40d0160>"
       ]
      },
      {
       "javascript": [
        "$('div#0d01325e-65f1-4632-8c7c-8c4b9b16c81d').text(' 32%');"
       ],
       "metadata": {},
       "output_type": "display_data",
       "text": [
        "<IPython.core.display.Javascript at 0xb4095d30>"
       ]
      },
      {
       "javascript": [
        "\n",
        "        var $myPB = $(\"div#04e661cb-448a-4647-9276-cbb43dab1a95\")\n",
        "        if ($myPB.hasClass('ui-progressbar')) {\n",
        "            $myPB.progressbar('value', 320);\n",
        "        } else {\n",
        "            $myPB.progressbar({value: 0, max: 971});\n",
        "        }\n",
        "        "
       ],
       "metadata": {},
       "output_type": "display_data",
       "text": [
        "<IPython.core.display.Javascript at 0xb4095ef0>"
       ]
      },
      {
       "javascript": [
        "$('div#12c23165-7bc9-49b5-8921-fd4a73bf25d7').text('ETA:  0:00:02');"
       ],
       "metadata": {},
       "output_type": "display_data",
       "text": [
        "<IPython.core.display.Javascript at 0xb4095fd0>"
       ]
      },
      {
       "javascript": [
        "$('div#cb164004-0b5e-4d18-be11-10aef2c4eae8').text('330 of 971');"
       ],
       "metadata": {},
       "output_type": "display_data",
       "text": [
        "<IPython.core.display.Javascript at 0xb40d0160>"
       ]
      },
      {
       "javascript": [
        "$('div#0d01325e-65f1-4632-8c7c-8c4b9b16c81d').text(' 33%');"
       ],
       "metadata": {},
       "output_type": "display_data",
       "text": [
        "<IPython.core.display.Javascript at 0xb4095fd0>"
       ]
      },
      {
       "javascript": [
        "\n",
        "        var $myPB = $(\"div#04e661cb-448a-4647-9276-cbb43dab1a95\")\n",
        "        if ($myPB.hasClass('ui-progressbar')) {\n",
        "            $myPB.progressbar('value', 330);\n",
        "        } else {\n",
        "            $myPB.progressbar({value: 0, max: 971});\n",
        "        }\n",
        "        "
       ],
       "metadata": {},
       "output_type": "display_data",
       "text": [
        "<IPython.core.display.Javascript at 0xb4095ef0>"
       ]
      },
      {
       "javascript": [
        "$('div#12c23165-7bc9-49b5-8921-fd4a73bf25d7').text('ETA:  0:00:01');"
       ],
       "metadata": {},
       "output_type": "display_data",
       "text": [
        "<IPython.core.display.Javascript at 0xb4095d30>"
       ]
      },
      {
       "javascript": [
        "$('div#cb164004-0b5e-4d18-be11-10aef2c4eae8').text('340 of 971');"
       ],
       "metadata": {},
       "output_type": "display_data",
       "text": [
        "<IPython.core.display.Javascript at 0xb40d0160>"
       ]
      },
      {
       "javascript": [
        "$('div#0d01325e-65f1-4632-8c7c-8c4b9b16c81d').text(' 35%');"
       ],
       "metadata": {},
       "output_type": "display_data",
       "text": [
        "<IPython.core.display.Javascript at 0xb4095d30>"
       ]
      },
      {
       "javascript": [
        "\n",
        "        var $myPB = $(\"div#04e661cb-448a-4647-9276-cbb43dab1a95\")\n",
        "        if ($myPB.hasClass('ui-progressbar')) {\n",
        "            $myPB.progressbar('value', 340);\n",
        "        } else {\n",
        "            $myPB.progressbar({value: 0, max: 971});\n",
        "        }\n",
        "        "
       ],
       "metadata": {},
       "output_type": "display_data",
       "text": [
        "<IPython.core.display.Javascript at 0xb4095ef0>"
       ]
      },
      {
       "javascript": [
        "$('div#12c23165-7bc9-49b5-8921-fd4a73bf25d7').text('ETA:  0:00:01');"
       ],
       "metadata": {},
       "output_type": "display_data",
       "text": [
        "<IPython.core.display.Javascript at 0xb4095fd0>"
       ]
      },
      {
       "javascript": [
        "$('div#cb164004-0b5e-4d18-be11-10aef2c4eae8').text('350 of 971');"
       ],
       "metadata": {},
       "output_type": "display_data",
       "text": [
        "<IPython.core.display.Javascript at 0xb40d0160>"
       ]
      },
      {
       "javascript": [
        "$('div#0d01325e-65f1-4632-8c7c-8c4b9b16c81d').text(' 36%');"
       ],
       "metadata": {},
       "output_type": "display_data",
       "text": [
        "<IPython.core.display.Javascript at 0xb4095fd0>"
       ]
      },
      {
       "javascript": [
        "\n",
        "        var $myPB = $(\"div#04e661cb-448a-4647-9276-cbb43dab1a95\")\n",
        "        if ($myPB.hasClass('ui-progressbar')) {\n",
        "            $myPB.progressbar('value', 350);\n",
        "        } else {\n",
        "            $myPB.progressbar({value: 0, max: 971});\n",
        "        }\n",
        "        "
       ],
       "metadata": {},
       "output_type": "display_data",
       "text": [
        "<IPython.core.display.Javascript at 0xb4095ef0>"
       ]
      },
      {
       "javascript": [
        "$('div#12c23165-7bc9-49b5-8921-fd4a73bf25d7').text('ETA:  0:00:01');"
       ],
       "metadata": {},
       "output_type": "display_data",
       "text": [
        "<IPython.core.display.Javascript at 0xb4095d30>"
       ]
      },
      {
       "javascript": [
        "$('div#cb164004-0b5e-4d18-be11-10aef2c4eae8').text('360 of 971');"
       ],
       "metadata": {},
       "output_type": "display_data",
       "text": [
        "<IPython.core.display.Javascript at 0xb40d0160>"
       ]
      },
      {
       "javascript": [
        "$('div#0d01325e-65f1-4632-8c7c-8c4b9b16c81d').text(' 37%');"
       ],
       "metadata": {},
       "output_type": "display_data",
       "text": [
        "<IPython.core.display.Javascript at 0xb4095d30>"
       ]
      },
      {
       "javascript": [
        "\n",
        "        var $myPB = $(\"div#04e661cb-448a-4647-9276-cbb43dab1a95\")\n",
        "        if ($myPB.hasClass('ui-progressbar')) {\n",
        "            $myPB.progressbar('value', 360);\n",
        "        } else {\n",
        "            $myPB.progressbar({value: 0, max: 971});\n",
        "        }\n",
        "        "
       ],
       "metadata": {},
       "output_type": "display_data",
       "text": [
        "<IPython.core.display.Javascript at 0xb4095ef0>"
       ]
      },
      {
       "javascript": [
        "$('div#12c23165-7bc9-49b5-8921-fd4a73bf25d7').text('ETA:  0:00:01');"
       ],
       "metadata": {},
       "output_type": "display_data",
       "text": [
        "<IPython.core.display.Javascript at 0xb4095fd0>"
       ]
      },
      {
       "javascript": [
        "$('div#cb164004-0b5e-4d18-be11-10aef2c4eae8').text('370 of 971');"
       ],
       "metadata": {},
       "output_type": "display_data",
       "text": [
        "<IPython.core.display.Javascript at 0xb40d0160>"
       ]
      },
      {
       "javascript": [
        "$('div#0d01325e-65f1-4632-8c7c-8c4b9b16c81d').text(' 38%');"
       ],
       "metadata": {},
       "output_type": "display_data",
       "text": [
        "<IPython.core.display.Javascript at 0xb4095fd0>"
       ]
      },
      {
       "javascript": [
        "\n",
        "        var $myPB = $(\"div#04e661cb-448a-4647-9276-cbb43dab1a95\")\n",
        "        if ($myPB.hasClass('ui-progressbar')) {\n",
        "            $myPB.progressbar('value', 370);\n",
        "        } else {\n",
        "            $myPB.progressbar({value: 0, max: 971});\n",
        "        }\n",
        "        "
       ],
       "metadata": {},
       "output_type": "display_data",
       "text": [
        "<IPython.core.display.Javascript at 0xb4095ef0>"
       ]
      },
      {
       "javascript": [
        "$('div#12c23165-7bc9-49b5-8921-fd4a73bf25d7').text('ETA:  0:00:01');"
       ],
       "metadata": {},
       "output_type": "display_data",
       "text": [
        "<IPython.core.display.Javascript at 0xb4095d30>"
       ]
      },
      {
       "javascript": [
        "$('div#cb164004-0b5e-4d18-be11-10aef2c4eae8').text('380 of 971');"
       ],
       "metadata": {},
       "output_type": "display_data",
       "text": [
        "<IPython.core.display.Javascript at 0xb40d0160>"
       ]
      },
      {
       "javascript": [
        "$('div#0d01325e-65f1-4632-8c7c-8c4b9b16c81d').text(' 39%');"
       ],
       "metadata": {},
       "output_type": "display_data",
       "text": [
        "<IPython.core.display.Javascript at 0xb4095d30>"
       ]
      },
      {
       "javascript": [
        "\n",
        "        var $myPB = $(\"div#04e661cb-448a-4647-9276-cbb43dab1a95\")\n",
        "        if ($myPB.hasClass('ui-progressbar')) {\n",
        "            $myPB.progressbar('value', 380);\n",
        "        } else {\n",
        "            $myPB.progressbar({value: 0, max: 971});\n",
        "        }\n",
        "        "
       ],
       "metadata": {},
       "output_type": "display_data",
       "text": [
        "<IPython.core.display.Javascript at 0xb4095ef0>"
       ]
      },
      {
       "javascript": [
        "$('div#12c23165-7bc9-49b5-8921-fd4a73bf25d7').text('ETA:  0:00:01');"
       ],
       "metadata": {},
       "output_type": "display_data",
       "text": [
        "<IPython.core.display.Javascript at 0xb4095fd0>"
       ]
      },
      {
       "javascript": [
        "$('div#cb164004-0b5e-4d18-be11-10aef2c4eae8').text('390 of 971');"
       ],
       "metadata": {},
       "output_type": "display_data",
       "text": [
        "<IPython.core.display.Javascript at 0xb40d01d0>"
       ]
      },
      {
       "javascript": [
        "$('div#0d01325e-65f1-4632-8c7c-8c4b9b16c81d').text(' 40%');"
       ],
       "metadata": {},
       "output_type": "display_data",
       "text": [
        "<IPython.core.display.Javascript at 0xb4095fd0>"
       ]
      },
      {
       "javascript": [
        "\n",
        "        var $myPB = $(\"div#04e661cb-448a-4647-9276-cbb43dab1a95\")\n",
        "        if ($myPB.hasClass('ui-progressbar')) {\n",
        "            $myPB.progressbar('value', 390);\n",
        "        } else {\n",
        "            $myPB.progressbar({value: 0, max: 971});\n",
        "        }\n",
        "        "
       ],
       "metadata": {},
       "output_type": "display_data",
       "text": [
        "<IPython.core.display.Javascript at 0xb4095ef0>"
       ]
      },
      {
       "javascript": [
        "$('div#12c23165-7bc9-49b5-8921-fd4a73bf25d7').text('ETA:  0:00:01');"
       ],
       "metadata": {},
       "output_type": "display_data",
       "text": [
        "<IPython.core.display.Javascript at 0xb4095d30>"
       ]
      },
      {
       "javascript": [
        "$('div#cb164004-0b5e-4d18-be11-10aef2c4eae8').text('400 of 971');"
       ],
       "metadata": {},
       "output_type": "display_data",
       "text": [
        "<IPython.core.display.Javascript at 0xb40d03c8>"
       ]
      },
      {
       "javascript": [
        "$('div#0d01325e-65f1-4632-8c7c-8c4b9b16c81d').text(' 41%');"
       ],
       "metadata": {},
       "output_type": "display_data",
       "text": [
        "<IPython.core.display.Javascript at 0xb4095d30>"
       ]
      },
      {
       "javascript": [
        "\n",
        "        var $myPB = $(\"div#04e661cb-448a-4647-9276-cbb43dab1a95\")\n",
        "        if ($myPB.hasClass('ui-progressbar')) {\n",
        "            $myPB.progressbar('value', 400);\n",
        "        } else {\n",
        "            $myPB.progressbar({value: 0, max: 971});\n",
        "        }\n",
        "        "
       ],
       "metadata": {},
       "output_type": "display_data",
       "text": [
        "<IPython.core.display.Javascript at 0xb4095ef0>"
       ]
      },
      {
       "javascript": [
        "$('div#12c23165-7bc9-49b5-8921-fd4a73bf25d7').text('ETA:  0:00:01');"
       ],
       "metadata": {},
       "output_type": "display_data",
       "text": [
        "<IPython.core.display.Javascript at 0xb4095fd0>"
       ]
      },
      {
       "javascript": [
        "$('div#cb164004-0b5e-4d18-be11-10aef2c4eae8').text('410 of 971');"
       ],
       "metadata": {},
       "output_type": "display_data",
       "text": [
        "<IPython.core.display.Javascript at 0xb40d05f8>"
       ]
      },
      {
       "javascript": [
        "$('div#0d01325e-65f1-4632-8c7c-8c4b9b16c81d').text(' 42%');"
       ],
       "metadata": {},
       "output_type": "display_data",
       "text": [
        "<IPython.core.display.Javascript at 0xb4095fd0>"
       ]
      },
      {
       "javascript": [
        "\n",
        "        var $myPB = $(\"div#04e661cb-448a-4647-9276-cbb43dab1a95\")\n",
        "        if ($myPB.hasClass('ui-progressbar')) {\n",
        "            $myPB.progressbar('value', 410);\n",
        "        } else {\n",
        "            $myPB.progressbar({value: 0, max: 971});\n",
        "        }\n",
        "        "
       ],
       "metadata": {},
       "output_type": "display_data",
       "text": [
        "<IPython.core.display.Javascript at 0xb4095ef0>"
       ]
      },
      {
       "javascript": [
        "$('div#12c23165-7bc9-49b5-8921-fd4a73bf25d7').text('ETA:  0:00:01');"
       ],
       "metadata": {},
       "output_type": "display_data",
       "text": [
        "<IPython.core.display.Javascript at 0xb4095d30>"
       ]
      },
      {
       "javascript": [
        "$('div#cb164004-0b5e-4d18-be11-10aef2c4eae8').text('420 of 971');"
       ],
       "metadata": {},
       "output_type": "display_data",
       "text": [
        "<IPython.core.display.Javascript at 0xb40d0828>"
       ]
      },
      {
       "javascript": [
        "$('div#0d01325e-65f1-4632-8c7c-8c4b9b16c81d').text(' 43%');"
       ],
       "metadata": {},
       "output_type": "display_data",
       "text": [
        "<IPython.core.display.Javascript at 0xb4095d30>"
       ]
      },
      {
       "javascript": [
        "\n",
        "        var $myPB = $(\"div#04e661cb-448a-4647-9276-cbb43dab1a95\")\n",
        "        if ($myPB.hasClass('ui-progressbar')) {\n",
        "            $myPB.progressbar('value', 420);\n",
        "        } else {\n",
        "            $myPB.progressbar({value: 0, max: 971});\n",
        "        }\n",
        "        "
       ],
       "metadata": {},
       "output_type": "display_data",
       "text": [
        "<IPython.core.display.Javascript at 0xb4095ef0>"
       ]
      },
      {
       "javascript": [
        "$('div#12c23165-7bc9-49b5-8921-fd4a73bf25d7').text('ETA:  0:00:01');"
       ],
       "metadata": {},
       "output_type": "display_data",
       "text": [
        "<IPython.core.display.Javascript at 0xb4095fd0>"
       ]
      },
      {
       "javascript": [
        "$('div#cb164004-0b5e-4d18-be11-10aef2c4eae8').text('430 of 971');"
       ],
       "metadata": {},
       "output_type": "display_data",
       "text": [
        "<IPython.core.display.Javascript at 0xb40d0940>"
       ]
      },
      {
       "javascript": [
        "$('div#0d01325e-65f1-4632-8c7c-8c4b9b16c81d').text(' 44%');"
       ],
       "metadata": {},
       "output_type": "display_data",
       "text": [
        "<IPython.core.display.Javascript at 0xb4095fd0>"
       ]
      },
      {
       "javascript": [
        "\n",
        "        var $myPB = $(\"div#04e661cb-448a-4647-9276-cbb43dab1a95\")\n",
        "        if ($myPB.hasClass('ui-progressbar')) {\n",
        "            $myPB.progressbar('value', 430);\n",
        "        } else {\n",
        "            $myPB.progressbar({value: 0, max: 971});\n",
        "        }\n",
        "        "
       ],
       "metadata": {},
       "output_type": "display_data",
       "text": [
        "<IPython.core.display.Javascript at 0xb4095ef0>"
       ]
      },
      {
       "javascript": [
        "$('div#12c23165-7bc9-49b5-8921-fd4a73bf25d7').text('ETA:  0:00:01');"
       ],
       "metadata": {},
       "output_type": "display_data",
       "text": [
        "<IPython.core.display.Javascript at 0xb4095d30>"
       ]
      },
      {
       "javascript": [
        "$('div#cb164004-0b5e-4d18-be11-10aef2c4eae8').text('440 of 971');"
       ],
       "metadata": {},
       "output_type": "display_data",
       "text": [
        "<IPython.core.display.Javascript at 0xb40d09e8>"
       ]
      },
      {
       "javascript": [
        "$('div#0d01325e-65f1-4632-8c7c-8c4b9b16c81d').text(' 45%');"
       ],
       "metadata": {},
       "output_type": "display_data",
       "text": [
        "<IPython.core.display.Javascript at 0xb4095d30>"
       ]
      },
      {
       "javascript": [
        "\n",
        "        var $myPB = $(\"div#04e661cb-448a-4647-9276-cbb43dab1a95\")\n",
        "        if ($myPB.hasClass('ui-progressbar')) {\n",
        "            $myPB.progressbar('value', 440);\n",
        "        } else {\n",
        "            $myPB.progressbar({value: 0, max: 971});\n",
        "        }\n",
        "        "
       ],
       "metadata": {},
       "output_type": "display_data",
       "text": [
        "<IPython.core.display.Javascript at 0xb4095ef0>"
       ]
      },
      {
       "javascript": [
        "$('div#12c23165-7bc9-49b5-8921-fd4a73bf25d7').text('ETA:  0:00:01');"
       ],
       "metadata": {},
       "output_type": "display_data",
       "text": [
        "<IPython.core.display.Javascript at 0xb4095fd0>"
       ]
      },
      {
       "javascript": [
        "$('div#cb164004-0b5e-4d18-be11-10aef2c4eae8').text('450 of 971');"
       ],
       "metadata": {},
       "output_type": "display_data",
       "text": [
        "<IPython.core.display.Javascript at 0xb40d0a90>"
       ]
      },
      {
       "javascript": [
        "$('div#0d01325e-65f1-4632-8c7c-8c4b9b16c81d').text(' 46%');"
       ],
       "metadata": {},
       "output_type": "display_data",
       "text": [
        "<IPython.core.display.Javascript at 0xb4095fd0>"
       ]
      },
      {
       "javascript": [
        "\n",
        "        var $myPB = $(\"div#04e661cb-448a-4647-9276-cbb43dab1a95\")\n",
        "        if ($myPB.hasClass('ui-progressbar')) {\n",
        "            $myPB.progressbar('value', 450);\n",
        "        } else {\n",
        "            $myPB.progressbar({value: 0, max: 971});\n",
        "        }\n",
        "        "
       ],
       "metadata": {},
       "output_type": "display_data",
       "text": [
        "<IPython.core.display.Javascript at 0xb4095ef0>"
       ]
      },
      {
       "javascript": [
        "$('div#12c23165-7bc9-49b5-8921-fd4a73bf25d7').text('ETA:  0:00:01');"
       ],
       "metadata": {},
       "output_type": "display_data",
       "text": [
        "<IPython.core.display.Javascript at 0xb4095d30>"
       ]
      },
      {
       "javascript": [
        "$('div#cb164004-0b5e-4d18-be11-10aef2c4eae8').text('460 of 971');"
       ],
       "metadata": {},
       "output_type": "display_data",
       "text": [
        "<IPython.core.display.Javascript at 0xb40d0c18>"
       ]
      },
      {
       "javascript": [
        "$('div#0d01325e-65f1-4632-8c7c-8c4b9b16c81d').text(' 47%');"
       ],
       "metadata": {},
       "output_type": "display_data",
       "text": [
        "<IPython.core.display.Javascript at 0xb4095d30>"
       ]
      },
      {
       "javascript": [
        "\n",
        "        var $myPB = $(\"div#04e661cb-448a-4647-9276-cbb43dab1a95\")\n",
        "        if ($myPB.hasClass('ui-progressbar')) {\n",
        "            $myPB.progressbar('value', 460);\n",
        "        } else {\n",
        "            $myPB.progressbar({value: 0, max: 971});\n",
        "        }\n",
        "        "
       ],
       "metadata": {},
       "output_type": "display_data",
       "text": [
        "<IPython.core.display.Javascript at 0xb4095ef0>"
       ]
      },
      {
       "javascript": [
        "$('div#12c23165-7bc9-49b5-8921-fd4a73bf25d7').text('ETA:  0:00:01');"
       ],
       "metadata": {},
       "output_type": "display_data",
       "text": [
        "<IPython.core.display.Javascript at 0xb4095fd0>"
       ]
      },
      {
       "javascript": [
        "$('div#cb164004-0b5e-4d18-be11-10aef2c4eae8').text('470 of 971');"
       ],
       "metadata": {},
       "output_type": "display_data",
       "text": [
        "<IPython.core.display.Javascript at 0xb40d0c18>"
       ]
      },
      {
       "javascript": [
        "$('div#0d01325e-65f1-4632-8c7c-8c4b9b16c81d').text(' 48%');"
       ],
       "metadata": {},
       "output_type": "display_data",
       "text": [
        "<IPython.core.display.Javascript at 0xb4095fd0>"
       ]
      },
      {
       "javascript": [
        "\n",
        "        var $myPB = $(\"div#04e661cb-448a-4647-9276-cbb43dab1a95\")\n",
        "        if ($myPB.hasClass('ui-progressbar')) {\n",
        "            $myPB.progressbar('value', 470);\n",
        "        } else {\n",
        "            $myPB.progressbar({value: 0, max: 971});\n",
        "        }\n",
        "        "
       ],
       "metadata": {},
       "output_type": "display_data",
       "text": [
        "<IPython.core.display.Javascript at 0xb4095ef0>"
       ]
      },
      {
       "javascript": [
        "$('div#12c23165-7bc9-49b5-8921-fd4a73bf25d7').text('ETA:  0:00:01');"
       ],
       "metadata": {},
       "output_type": "display_data",
       "text": [
        "<IPython.core.display.Javascript at 0xb4095d30>"
       ]
      },
      {
       "javascript": [
        "$('div#cb164004-0b5e-4d18-be11-10aef2c4eae8').text('480 of 971');"
       ],
       "metadata": {},
       "output_type": "display_data",
       "text": [
        "<IPython.core.display.Javascript at 0xb40d0c18>"
       ]
      },
      {
       "javascript": [
        "$('div#0d01325e-65f1-4632-8c7c-8c4b9b16c81d').text(' 49%');"
       ],
       "metadata": {},
       "output_type": "display_data",
       "text": [
        "<IPython.core.display.Javascript at 0xb4095d30>"
       ]
      },
      {
       "javascript": [
        "\n",
        "        var $myPB = $(\"div#04e661cb-448a-4647-9276-cbb43dab1a95\")\n",
        "        if ($myPB.hasClass('ui-progressbar')) {\n",
        "            $myPB.progressbar('value', 480);\n",
        "        } else {\n",
        "            $myPB.progressbar({value: 0, max: 971});\n",
        "        }\n",
        "        "
       ],
       "metadata": {},
       "output_type": "display_data",
       "text": [
        "<IPython.core.display.Javascript at 0xb4095ef0>"
       ]
      },
      {
       "javascript": [
        "$('div#12c23165-7bc9-49b5-8921-fd4a73bf25d7').text('ETA:  0:00:01');"
       ],
       "metadata": {},
       "output_type": "display_data",
       "text": [
        "<IPython.core.display.Javascript at 0xb4095fd0>"
       ]
      },
      {
       "javascript": [
        "$('div#cb164004-0b5e-4d18-be11-10aef2c4eae8').text('490 of 971');"
       ],
       "metadata": {},
       "output_type": "display_data",
       "text": [
        "<IPython.core.display.Javascript at 0xb40d0c18>"
       ]
      },
      {
       "javascript": [
        "$('div#0d01325e-65f1-4632-8c7c-8c4b9b16c81d').text(' 50%');"
       ],
       "metadata": {},
       "output_type": "display_data",
       "text": [
        "<IPython.core.display.Javascript at 0xb4095fd0>"
       ]
      },
      {
       "javascript": [
        "\n",
        "        var $myPB = $(\"div#04e661cb-448a-4647-9276-cbb43dab1a95\")\n",
        "        if ($myPB.hasClass('ui-progressbar')) {\n",
        "            $myPB.progressbar('value', 490);\n",
        "        } else {\n",
        "            $myPB.progressbar({value: 0, max: 971});\n",
        "        }\n",
        "        "
       ],
       "metadata": {},
       "output_type": "display_data",
       "text": [
        "<IPython.core.display.Javascript at 0xb4095ef0>"
       ]
      },
      {
       "javascript": [
        "$('div#12c23165-7bc9-49b5-8921-fd4a73bf25d7').text('ETA:  0:00:01');"
       ],
       "metadata": {},
       "output_type": "display_data",
       "text": [
        "<IPython.core.display.Javascript at 0xb4095d30>"
       ]
      },
      {
       "javascript": [
        "$('div#cb164004-0b5e-4d18-be11-10aef2c4eae8').text('500 of 971');"
       ],
       "metadata": {},
       "output_type": "display_data",
       "text": [
        "<IPython.core.display.Javascript at 0xb40d0c18>"
       ]
      },
      {
       "javascript": [
        "$('div#0d01325e-65f1-4632-8c7c-8c4b9b16c81d').text(' 51%');"
       ],
       "metadata": {},
       "output_type": "display_data",
       "text": [
        "<IPython.core.display.Javascript at 0xb4095d30>"
       ]
      },
      {
       "javascript": [
        "\n",
        "        var $myPB = $(\"div#04e661cb-448a-4647-9276-cbb43dab1a95\")\n",
        "        if ($myPB.hasClass('ui-progressbar')) {\n",
        "            $myPB.progressbar('value', 500);\n",
        "        } else {\n",
        "            $myPB.progressbar({value: 0, max: 971});\n",
        "        }\n",
        "        "
       ],
       "metadata": {},
       "output_type": "display_data",
       "text": [
        "<IPython.core.display.Javascript at 0xb4095ef0>"
       ]
      },
      {
       "javascript": [
        "$('div#12c23165-7bc9-49b5-8921-fd4a73bf25d7').text('ETA:  0:00:01');"
       ],
       "metadata": {},
       "output_type": "display_data",
       "text": [
        "<IPython.core.display.Javascript at 0xb4095fd0>"
       ]
      },
      {
       "javascript": [
        "$('div#cb164004-0b5e-4d18-be11-10aef2c4eae8').text('510 of 971');"
       ],
       "metadata": {},
       "output_type": "display_data",
       "text": [
        "<IPython.core.display.Javascript at 0xb40d0dd8>"
       ]
      },
      {
       "javascript": [
        "$('div#0d01325e-65f1-4632-8c7c-8c4b9b16c81d').text(' 52%');"
       ],
       "metadata": {},
       "output_type": "display_data",
       "text": [
        "<IPython.core.display.Javascript at 0xb4095fd0>"
       ]
      },
      {
       "javascript": [
        "\n",
        "        var $myPB = $(\"div#04e661cb-448a-4647-9276-cbb43dab1a95\")\n",
        "        if ($myPB.hasClass('ui-progressbar')) {\n",
        "            $myPB.progressbar('value', 510);\n",
        "        } else {\n",
        "            $myPB.progressbar({value: 0, max: 971});\n",
        "        }\n",
        "        "
       ],
       "metadata": {},
       "output_type": "display_data",
       "text": [
        "<IPython.core.display.Javascript at 0xb4095ef0>"
       ]
      },
      {
       "javascript": [
        "$('div#12c23165-7bc9-49b5-8921-fd4a73bf25d7').text('ETA:  0:00:01');"
       ],
       "metadata": {},
       "output_type": "display_data",
       "text": [
        "<IPython.core.display.Javascript at 0xb4095d30>"
       ]
      },
      {
       "javascript": [
        "$('div#cb164004-0b5e-4d18-be11-10aef2c4eae8').text('520 of 971');"
       ],
       "metadata": {},
       "output_type": "display_data",
       "text": [
        "<IPython.core.display.Javascript at 0xb40d0e48>"
       ]
      },
      {
       "javascript": [
        "$('div#0d01325e-65f1-4632-8c7c-8c4b9b16c81d').text(' 53%');"
       ],
       "metadata": {},
       "output_type": "display_data",
       "text": [
        "<IPython.core.display.Javascript at 0xb4095d30>"
       ]
      },
      {
       "javascript": [
        "\n",
        "        var $myPB = $(\"div#04e661cb-448a-4647-9276-cbb43dab1a95\")\n",
        "        if ($myPB.hasClass('ui-progressbar')) {\n",
        "            $myPB.progressbar('value', 520);\n",
        "        } else {\n",
        "            $myPB.progressbar({value: 0, max: 971});\n",
        "        }\n",
        "        "
       ],
       "metadata": {},
       "output_type": "display_data",
       "text": [
        "<IPython.core.display.Javascript at 0xb4095ef0>"
       ]
      },
      {
       "javascript": [
        "$('div#12c23165-7bc9-49b5-8921-fd4a73bf25d7').text('ETA:  0:00:01');"
       ],
       "metadata": {},
       "output_type": "display_data",
       "text": [
        "<IPython.core.display.Javascript at 0xb4095fd0>"
       ]
      },
      {
       "javascript": [
        "$('div#cb164004-0b5e-4d18-be11-10aef2c4eae8').text('530 of 971');"
       ],
       "metadata": {},
       "output_type": "display_data",
       "text": [
        "<IPython.core.display.Javascript at 0xb40d0e48>"
       ]
      },
      {
       "javascript": [
        "$('div#0d01325e-65f1-4632-8c7c-8c4b9b16c81d').text(' 54%');"
       ],
       "metadata": {},
       "output_type": "display_data",
       "text": [
        "<IPython.core.display.Javascript at 0xb4095fd0>"
       ]
      },
      {
       "javascript": [
        "\n",
        "        var $myPB = $(\"div#04e661cb-448a-4647-9276-cbb43dab1a95\")\n",
        "        if ($myPB.hasClass('ui-progressbar')) {\n",
        "            $myPB.progressbar('value', 530);\n",
        "        } else {\n",
        "            $myPB.progressbar({value: 0, max: 971});\n",
        "        }\n",
        "        "
       ],
       "metadata": {},
       "output_type": "display_data",
       "text": [
        "<IPython.core.display.Javascript at 0xb4095ef0>"
       ]
      },
      {
       "javascript": [
        "$('div#12c23165-7bc9-49b5-8921-fd4a73bf25d7').text('ETA:  0:00:01');"
       ],
       "metadata": {},
       "output_type": "display_data",
       "text": [
        "<IPython.core.display.Javascript at 0xb4095d30>"
       ]
      },
      {
       "javascript": [
        "$('div#cb164004-0b5e-4d18-be11-10aef2c4eae8').text('540 of 971');"
       ],
       "metadata": {},
       "output_type": "display_data",
       "text": [
        "<IPython.core.display.Javascript at 0xb40d0e10>"
       ]
      },
      {
       "javascript": [
        "$('div#0d01325e-65f1-4632-8c7c-8c4b9b16c81d').text(' 55%');"
       ],
       "metadata": {},
       "output_type": "display_data",
       "text": [
        "<IPython.core.display.Javascript at 0xb4095d30>"
       ]
      },
      {
       "javascript": [
        "\n",
        "        var $myPB = $(\"div#04e661cb-448a-4647-9276-cbb43dab1a95\")\n",
        "        if ($myPB.hasClass('ui-progressbar')) {\n",
        "            $myPB.progressbar('value', 540);\n",
        "        } else {\n",
        "            $myPB.progressbar({value: 0, max: 971});\n",
        "        }\n",
        "        "
       ],
       "metadata": {},
       "output_type": "display_data",
       "text": [
        "<IPython.core.display.Javascript at 0xb4095ef0>"
       ]
      },
      {
       "javascript": [
        "$('div#12c23165-7bc9-49b5-8921-fd4a73bf25d7').text('ETA:  0:00:01');"
       ],
       "metadata": {},
       "output_type": "display_data",
       "text": [
        "<IPython.core.display.Javascript at 0xb4095fd0>"
       ]
      },
      {
       "javascript": [
        "$('div#cb164004-0b5e-4d18-be11-10aef2c4eae8').text('550 of 971');"
       ],
       "metadata": {},
       "output_type": "display_data",
       "text": [
        "<IPython.core.display.Javascript at 0xb40d0eb8>"
       ]
      },
      {
       "javascript": [
        "$('div#0d01325e-65f1-4632-8c7c-8c4b9b16c81d').text(' 56%');"
       ],
       "metadata": {},
       "output_type": "display_data",
       "text": [
        "<IPython.core.display.Javascript at 0xb4095fd0>"
       ]
      },
      {
       "javascript": [
        "\n",
        "        var $myPB = $(\"div#04e661cb-448a-4647-9276-cbb43dab1a95\")\n",
        "        if ($myPB.hasClass('ui-progressbar')) {\n",
        "            $myPB.progressbar('value', 550);\n",
        "        } else {\n",
        "            $myPB.progressbar({value: 0, max: 971});\n",
        "        }\n",
        "        "
       ],
       "metadata": {},
       "output_type": "display_data",
       "text": [
        "<IPython.core.display.Javascript at 0xb4095ef0>"
       ]
      },
      {
       "javascript": [
        "$('div#12c23165-7bc9-49b5-8921-fd4a73bf25d7').text('ETA:  0:00:01');"
       ],
       "metadata": {},
       "output_type": "display_data",
       "text": [
        "<IPython.core.display.Javascript at 0xb4095d30>"
       ]
      },
      {
       "javascript": [
        "$('div#cb164004-0b5e-4d18-be11-10aef2c4eae8').text('560 of 971');"
       ],
       "metadata": {},
       "output_type": "display_data",
       "text": [
        "<IPython.core.display.Javascript at 0xb40d0fd0>"
       ]
      },
      {
       "javascript": [
        "$('div#0d01325e-65f1-4632-8c7c-8c4b9b16c81d').text(' 57%');"
       ],
       "metadata": {},
       "output_type": "display_data",
       "text": [
        "<IPython.core.display.Javascript at 0xb40d0fd0>"
       ]
      },
      {
       "javascript": [
        "\n",
        "        var $myPB = $(\"div#04e661cb-448a-4647-9276-cbb43dab1a95\")\n",
        "        if ($myPB.hasClass('ui-progressbar')) {\n",
        "            $myPB.progressbar('value', 560);\n",
        "        } else {\n",
        "            $myPB.progressbar({value: 0, max: 971});\n",
        "        }\n",
        "        "
       ],
       "metadata": {},
       "output_type": "display_data",
       "text": [
        "<IPython.core.display.Javascript at 0xb40d0f28>"
       ]
      },
      {
       "javascript": [
        "$('div#12c23165-7bc9-49b5-8921-fd4a73bf25d7').text('ETA:  0:00:01');"
       ],
       "metadata": {},
       "output_type": "display_data",
       "text": [
        "<IPython.core.display.Javascript at 0xb4095ef0>"
       ]
      },
      {
       "javascript": [
        "$('div#cb164004-0b5e-4d18-be11-10aef2c4eae8').text('570 of 971');"
       ],
       "metadata": {},
       "output_type": "display_data",
       "text": [
        "<IPython.core.display.Javascript at 0xb40fc080>"
       ]
      },
      {
       "javascript": [
        "$('div#0d01325e-65f1-4632-8c7c-8c4b9b16c81d').text(' 58%');"
       ],
       "metadata": {},
       "output_type": "display_data",
       "text": [
        "<IPython.core.display.Javascript at 0xb4095ef0>"
       ]
      },
      {
       "javascript": [
        "\n",
        "        var $myPB = $(\"div#04e661cb-448a-4647-9276-cbb43dab1a95\")\n",
        "        if ($myPB.hasClass('ui-progressbar')) {\n",
        "            $myPB.progressbar('value', 570);\n",
        "        } else {\n",
        "            $myPB.progressbar({value: 0, max: 971});\n",
        "        }\n",
        "        "
       ],
       "metadata": {},
       "output_type": "display_data",
       "text": [
        "<IPython.core.display.Javascript at 0xb40d0f28>"
       ]
      },
      {
       "javascript": [
        "$('div#12c23165-7bc9-49b5-8921-fd4a73bf25d7').text('ETA:  0:00:01');"
       ],
       "metadata": {},
       "output_type": "display_data",
       "text": [
        "<IPython.core.display.Javascript at 0xb40d0fd0>"
       ]
      },
      {
       "javascript": [
        "$('div#cb164004-0b5e-4d18-be11-10aef2c4eae8').text('580 of 971');"
       ],
       "metadata": {},
       "output_type": "display_data",
       "text": [
        "<IPython.core.display.Javascript at 0xb40fc278>"
       ]
      },
      {
       "javascript": [
        "$('div#0d01325e-65f1-4632-8c7c-8c4b9b16c81d').text(' 59%');"
       ],
       "metadata": {},
       "output_type": "display_data",
       "text": [
        "<IPython.core.display.Javascript at 0xb40d0fd0>"
       ]
      },
      {
       "javascript": [
        "\n",
        "        var $myPB = $(\"div#04e661cb-448a-4647-9276-cbb43dab1a95\")\n",
        "        if ($myPB.hasClass('ui-progressbar')) {\n",
        "            $myPB.progressbar('value', 580);\n",
        "        } else {\n",
        "            $myPB.progressbar({value: 0, max: 971});\n",
        "        }\n",
        "        "
       ],
       "metadata": {},
       "output_type": "display_data",
       "text": [
        "<IPython.core.display.Javascript at 0xb40d0f28>"
       ]
      },
      {
       "javascript": [
        "$('div#12c23165-7bc9-49b5-8921-fd4a73bf25d7').text('ETA:  0:00:01');"
       ],
       "metadata": {},
       "output_type": "display_data",
       "text": [
        "<IPython.core.display.Javascript at 0xb4095ef0>"
       ]
      },
      {
       "javascript": [
        "$('div#cb164004-0b5e-4d18-be11-10aef2c4eae8').text('590 of 971');"
       ],
       "metadata": {},
       "output_type": "display_data",
       "text": [
        "<IPython.core.display.Javascript at 0xb40fc470>"
       ]
      },
      {
       "javascript": [
        "$('div#0d01325e-65f1-4632-8c7c-8c4b9b16c81d').text(' 60%');"
       ],
       "metadata": {},
       "output_type": "display_data",
       "text": [
        "<IPython.core.display.Javascript at 0xb4095ef0>"
       ]
      },
      {
       "javascript": [
        "\n",
        "        var $myPB = $(\"div#04e661cb-448a-4647-9276-cbb43dab1a95\")\n",
        "        if ($myPB.hasClass('ui-progressbar')) {\n",
        "            $myPB.progressbar('value', 590);\n",
        "        } else {\n",
        "            $myPB.progressbar({value: 0, max: 971});\n",
        "        }\n",
        "        "
       ],
       "metadata": {},
       "output_type": "display_data",
       "text": [
        "<IPython.core.display.Javascript at 0xb40d0f28>"
       ]
      },
      {
       "javascript": [
        "$('div#12c23165-7bc9-49b5-8921-fd4a73bf25d7').text('ETA:  0:00:01');"
       ],
       "metadata": {},
       "output_type": "display_data",
       "text": [
        "<IPython.core.display.Javascript at 0xb40d0fd0>"
       ]
      },
      {
       "javascript": [
        "$('div#cb164004-0b5e-4d18-be11-10aef2c4eae8').text('600 of 971');"
       ],
       "metadata": {},
       "output_type": "display_data",
       "text": [
        "<IPython.core.display.Javascript at 0xb40fc588>"
       ]
      },
      {
       "javascript": [
        "$('div#0d01325e-65f1-4632-8c7c-8c4b9b16c81d').text(' 61%');"
       ],
       "metadata": {},
       "output_type": "display_data",
       "text": [
        "<IPython.core.display.Javascript at 0xb40d0fd0>"
       ]
      },
      {
       "javascript": [
        "\n",
        "        var $myPB = $(\"div#04e661cb-448a-4647-9276-cbb43dab1a95\")\n",
        "        if ($myPB.hasClass('ui-progressbar')) {\n",
        "            $myPB.progressbar('value', 600);\n",
        "        } else {\n",
        "            $myPB.progressbar({value: 0, max: 971});\n",
        "        }\n",
        "        "
       ],
       "metadata": {},
       "output_type": "display_data",
       "text": [
        "<IPython.core.display.Javascript at 0xb40d0f28>"
       ]
      },
      {
       "javascript": [
        "$('div#12c23165-7bc9-49b5-8921-fd4a73bf25d7').text('ETA:  0:00:01');"
       ],
       "metadata": {},
       "output_type": "display_data",
       "text": [
        "<IPython.core.display.Javascript at 0xb4095ef0>"
       ]
      },
      {
       "javascript": [
        "$('div#cb164004-0b5e-4d18-be11-10aef2c4eae8').text('610 of 971');"
       ],
       "metadata": {},
       "output_type": "display_data",
       "text": [
        "<IPython.core.display.Javascript at 0xb40fc748>"
       ]
      },
      {
       "javascript": [
        "$('div#0d01325e-65f1-4632-8c7c-8c4b9b16c81d').text(' 62%');"
       ],
       "metadata": {},
       "output_type": "display_data",
       "text": [
        "<IPython.core.display.Javascript at 0xb4095ef0>"
       ]
      },
      {
       "javascript": [
        "\n",
        "        var $myPB = $(\"div#04e661cb-448a-4647-9276-cbb43dab1a95\")\n",
        "        if ($myPB.hasClass('ui-progressbar')) {\n",
        "            $myPB.progressbar('value', 610);\n",
        "        } else {\n",
        "            $myPB.progressbar({value: 0, max: 971});\n",
        "        }\n",
        "        "
       ],
       "metadata": {},
       "output_type": "display_data",
       "text": [
        "<IPython.core.display.Javascript at 0xb40d0f28>"
       ]
      },
      {
       "javascript": [
        "$('div#12c23165-7bc9-49b5-8921-fd4a73bf25d7').text('ETA:  0:00:01');"
       ],
       "metadata": {},
       "output_type": "display_data",
       "text": [
        "<IPython.core.display.Javascript at 0xb40d0fd0>"
       ]
      },
      {
       "javascript": [
        "$('div#cb164004-0b5e-4d18-be11-10aef2c4eae8').text('620 of 971');"
       ],
       "metadata": {},
       "output_type": "display_data",
       "text": [
        "<IPython.core.display.Javascript at 0xb40fc908>"
       ]
      },
      {
       "javascript": [
        "$('div#0d01325e-65f1-4632-8c7c-8c4b9b16c81d').text(' 63%');"
       ],
       "metadata": {},
       "output_type": "display_data",
       "text": [
        "<IPython.core.display.Javascript at 0xb40d0fd0>"
       ]
      },
      {
       "javascript": [
        "\n",
        "        var $myPB = $(\"div#04e661cb-448a-4647-9276-cbb43dab1a95\")\n",
        "        if ($myPB.hasClass('ui-progressbar')) {\n",
        "            $myPB.progressbar('value', 620);\n",
        "        } else {\n",
        "            $myPB.progressbar({value: 0, max: 971});\n",
        "        }\n",
        "        "
       ],
       "metadata": {},
       "output_type": "display_data",
       "text": [
        "<IPython.core.display.Javascript at 0xb40d0f28>"
       ]
      },
      {
       "javascript": [
        "$('div#12c23165-7bc9-49b5-8921-fd4a73bf25d7').text('ETA:  0:00:01');"
       ],
       "metadata": {},
       "output_type": "display_data",
       "text": [
        "<IPython.core.display.Javascript at 0xb4095ef0>"
       ]
      },
      {
       "javascript": [
        "$('div#cb164004-0b5e-4d18-be11-10aef2c4eae8').text('630 of 971');"
       ],
       "metadata": {},
       "output_type": "display_data",
       "text": [
        "<IPython.core.display.Javascript at 0xb40fcb38>"
       ]
      },
      {
       "javascript": [
        "$('div#0d01325e-65f1-4632-8c7c-8c4b9b16c81d').text(' 64%');"
       ],
       "metadata": {},
       "output_type": "display_data",
       "text": [
        "<IPython.core.display.Javascript at 0xb4095ef0>"
       ]
      },
      {
       "javascript": [
        "\n",
        "        var $myPB = $(\"div#04e661cb-448a-4647-9276-cbb43dab1a95\")\n",
        "        if ($myPB.hasClass('ui-progressbar')) {\n",
        "            $myPB.progressbar('value', 630);\n",
        "        } else {\n",
        "            $myPB.progressbar({value: 0, max: 971});\n",
        "        }\n",
        "        "
       ],
       "metadata": {},
       "output_type": "display_data",
       "text": [
        "<IPython.core.display.Javascript at 0xb40d0f28>"
       ]
      },
      {
       "javascript": [
        "$('div#12c23165-7bc9-49b5-8921-fd4a73bf25d7').text('ETA:  0:00:00');"
       ],
       "metadata": {},
       "output_type": "display_data",
       "text": [
        "<IPython.core.display.Javascript at 0xb40d0fd0>"
       ]
      },
      {
       "javascript": [
        "$('div#cb164004-0b5e-4d18-be11-10aef2c4eae8').text('640 of 971');"
       ],
       "metadata": {},
       "output_type": "display_data",
       "text": [
        "<IPython.core.display.Javascript at 0xb40fcd68>"
       ]
      },
      {
       "javascript": [
        "$('div#0d01325e-65f1-4632-8c7c-8c4b9b16c81d').text(' 65%');"
       ],
       "metadata": {},
       "output_type": "display_data",
       "text": [
        "<IPython.core.display.Javascript at 0xb40d0fd0>"
       ]
      },
      {
       "javascript": [
        "\n",
        "        var $myPB = $(\"div#04e661cb-448a-4647-9276-cbb43dab1a95\")\n",
        "        if ($myPB.hasClass('ui-progressbar')) {\n",
        "            $myPB.progressbar('value', 640);\n",
        "        } else {\n",
        "            $myPB.progressbar({value: 0, max: 971});\n",
        "        }\n",
        "        "
       ],
       "metadata": {},
       "output_type": "display_data",
       "text": [
        "<IPython.core.display.Javascript at 0xb40d0f28>"
       ]
      },
      {
       "javascript": [
        "$('div#12c23165-7bc9-49b5-8921-fd4a73bf25d7').text('ETA:  0:00:00');"
       ],
       "metadata": {},
       "output_type": "display_data",
       "text": [
        "<IPython.core.display.Javascript at 0xb4095ef0>"
       ]
      },
      {
       "javascript": [
        "$('div#cb164004-0b5e-4d18-be11-10aef2c4eae8').text('650 of 971');"
       ],
       "metadata": {},
       "output_type": "display_data",
       "text": [
        "<IPython.core.display.Javascript at 0xb40fcf98>"
       ]
      },
      {
       "javascript": [
        "$('div#0d01325e-65f1-4632-8c7c-8c4b9b16c81d').text(' 66%');"
       ],
       "metadata": {},
       "output_type": "display_data",
       "text": [
        "<IPython.core.display.Javascript at 0xb40fcf98>"
       ]
      },
      {
       "javascript": [
        "\n",
        "        var $myPB = $(\"div#04e661cb-448a-4647-9276-cbb43dab1a95\")\n",
        "        if ($myPB.hasClass('ui-progressbar')) {\n",
        "            $myPB.progressbar('value', 650);\n",
        "        } else {\n",
        "            $myPB.progressbar({value: 0, max: 971});\n",
        "        }\n",
        "        "
       ],
       "metadata": {},
       "output_type": "display_data",
       "text": [
        "<IPython.core.display.Javascript at 0xb40fcfd0>"
       ]
      },
      {
       "javascript": [
        "$('div#12c23165-7bc9-49b5-8921-fd4a73bf25d7').text('ETA:  0:00:00');"
       ],
       "metadata": {},
       "output_type": "display_data",
       "text": [
        "<IPython.core.display.Javascript at 0xb4095ef0>"
       ]
      },
      {
       "javascript": [
        "$('div#cb164004-0b5e-4d18-be11-10aef2c4eae8').text('660 of 971');"
       ],
       "metadata": {},
       "output_type": "display_data",
       "text": [
        "<IPython.core.display.Javascript at 0xb410b1d0>"
       ]
      },
      {
       "javascript": [
        "$('div#0d01325e-65f1-4632-8c7c-8c4b9b16c81d').text(' 67%');"
       ],
       "metadata": {},
       "output_type": "display_data",
       "text": [
        "<IPython.core.display.Javascript at 0xb4095ef0>"
       ]
      },
      {
       "javascript": [
        "\n",
        "        var $myPB = $(\"div#04e661cb-448a-4647-9276-cbb43dab1a95\")\n",
        "        if ($myPB.hasClass('ui-progressbar')) {\n",
        "            $myPB.progressbar('value', 660);\n",
        "        } else {\n",
        "            $myPB.progressbar({value: 0, max: 971});\n",
        "        }\n",
        "        "
       ],
       "metadata": {},
       "output_type": "display_data",
       "text": [
        "<IPython.core.display.Javascript at 0xb40fcfd0>"
       ]
      },
      {
       "javascript": [
        "$('div#12c23165-7bc9-49b5-8921-fd4a73bf25d7').text('ETA:  0:00:00');"
       ],
       "metadata": {},
       "output_type": "display_data",
       "text": [
        "<IPython.core.display.Javascript at 0xb40fcf98>"
       ]
      },
      {
       "javascript": [
        "$('div#cb164004-0b5e-4d18-be11-10aef2c4eae8').text('670 of 971');"
       ],
       "metadata": {},
       "output_type": "display_data",
       "text": [
        "<IPython.core.display.Javascript at 0xb410b400>"
       ]
      },
      {
       "javascript": [
        "$('div#0d01325e-65f1-4632-8c7c-8c4b9b16c81d').text(' 69%');"
       ],
       "metadata": {},
       "output_type": "display_data",
       "text": [
        "<IPython.core.display.Javascript at 0xb40fcf98>"
       ]
      },
      {
       "javascript": [
        "\n",
        "        var $myPB = $(\"div#04e661cb-448a-4647-9276-cbb43dab1a95\")\n",
        "        if ($myPB.hasClass('ui-progressbar')) {\n",
        "            $myPB.progressbar('value', 670);\n",
        "        } else {\n",
        "            $myPB.progressbar({value: 0, max: 971});\n",
        "        }\n",
        "        "
       ],
       "metadata": {},
       "output_type": "display_data",
       "text": [
        "<IPython.core.display.Javascript at 0xb40fcfd0>"
       ]
      },
      {
       "javascript": [
        "$('div#12c23165-7bc9-49b5-8921-fd4a73bf25d7').text('ETA:  0:00:00');"
       ],
       "metadata": {},
       "output_type": "display_data",
       "text": [
        "<IPython.core.display.Javascript at 0xb4095ef0>"
       ]
      },
      {
       "javascript": [
        "$('div#cb164004-0b5e-4d18-be11-10aef2c4eae8').text('680 of 971');"
       ],
       "metadata": {},
       "output_type": "display_data",
       "text": [
        "<IPython.core.display.Javascript at 0xb410b630>"
       ]
      },
      {
       "javascript": [
        "$('div#0d01325e-65f1-4632-8c7c-8c4b9b16c81d').text(' 70%');"
       ],
       "metadata": {},
       "output_type": "display_data",
       "text": [
        "<IPython.core.display.Javascript at 0xb4095ef0>"
       ]
      },
      {
       "javascript": [
        "\n",
        "        var $myPB = $(\"div#04e661cb-448a-4647-9276-cbb43dab1a95\")\n",
        "        if ($myPB.hasClass('ui-progressbar')) {\n",
        "            $myPB.progressbar('value', 680);\n",
        "        } else {\n",
        "            $myPB.progressbar({value: 0, max: 971});\n",
        "        }\n",
        "        "
       ],
       "metadata": {},
       "output_type": "display_data",
       "text": [
        "<IPython.core.display.Javascript at 0xb40fcfd0>"
       ]
      },
      {
       "javascript": [
        "$('div#12c23165-7bc9-49b5-8921-fd4a73bf25d7').text('ETA:  0:00:00');"
       ],
       "metadata": {},
       "output_type": "display_data",
       "text": [
        "<IPython.core.display.Javascript at 0xb40fcf98>"
       ]
      },
      {
       "javascript": [
        "$('div#cb164004-0b5e-4d18-be11-10aef2c4eae8').text('690 of 971');"
       ],
       "metadata": {},
       "output_type": "display_data",
       "text": [
        "<IPython.core.display.Javascript at 0xb410b860>"
       ]
      },
      {
       "javascript": [
        "$('div#0d01325e-65f1-4632-8c7c-8c4b9b16c81d').text(' 71%');"
       ],
       "metadata": {},
       "output_type": "display_data",
       "text": [
        "<IPython.core.display.Javascript at 0xb40fcf98>"
       ]
      },
      {
       "javascript": [
        "\n",
        "        var $myPB = $(\"div#04e661cb-448a-4647-9276-cbb43dab1a95\")\n",
        "        if ($myPB.hasClass('ui-progressbar')) {\n",
        "            $myPB.progressbar('value', 690);\n",
        "        } else {\n",
        "            $myPB.progressbar({value: 0, max: 971});\n",
        "        }\n",
        "        "
       ],
       "metadata": {},
       "output_type": "display_data",
       "text": [
        "<IPython.core.display.Javascript at 0xb40fcfd0>"
       ]
      },
      {
       "javascript": [
        "$('div#12c23165-7bc9-49b5-8921-fd4a73bf25d7').text('ETA:  0:00:00');"
       ],
       "metadata": {},
       "output_type": "display_data",
       "text": [
        "<IPython.core.display.Javascript at 0xb4095ef0>"
       ]
      },
      {
       "javascript": [
        "$('div#cb164004-0b5e-4d18-be11-10aef2c4eae8').text('700 of 971');"
       ],
       "metadata": {},
       "output_type": "display_data",
       "text": [
        "<IPython.core.display.Javascript at 0xb410ba58>"
       ]
      },
      {
       "javascript": [
        "$('div#0d01325e-65f1-4632-8c7c-8c4b9b16c81d').text(' 72%');"
       ],
       "metadata": {},
       "output_type": "display_data",
       "text": [
        "<IPython.core.display.Javascript at 0xb4095ef0>"
       ]
      },
      {
       "javascript": [
        "\n",
        "        var $myPB = $(\"div#04e661cb-448a-4647-9276-cbb43dab1a95\")\n",
        "        if ($myPB.hasClass('ui-progressbar')) {\n",
        "            $myPB.progressbar('value', 700);\n",
        "        } else {\n",
        "            $myPB.progressbar({value: 0, max: 971});\n",
        "        }\n",
        "        "
       ],
       "metadata": {},
       "output_type": "display_data",
       "text": [
        "<IPython.core.display.Javascript at 0xb40fcfd0>"
       ]
      },
      {
       "javascript": [
        "$('div#12c23165-7bc9-49b5-8921-fd4a73bf25d7').text('ETA:  0:00:00');"
       ],
       "metadata": {},
       "output_type": "display_data",
       "text": [
        "<IPython.core.display.Javascript at 0xb40fcf98>"
       ]
      },
      {
       "javascript": [
        "$('div#cb164004-0b5e-4d18-be11-10aef2c4eae8').text('710 of 971');"
       ],
       "metadata": {},
       "output_type": "display_data",
       "text": [
        "<IPython.core.display.Javascript at 0xb410bc88>"
       ]
      },
      {
       "javascript": [
        "$('div#0d01325e-65f1-4632-8c7c-8c4b9b16c81d').text(' 73%');"
       ],
       "metadata": {},
       "output_type": "display_data",
       "text": [
        "<IPython.core.display.Javascript at 0xb40fcf98>"
       ]
      },
      {
       "javascript": [
        "\n",
        "        var $myPB = $(\"div#04e661cb-448a-4647-9276-cbb43dab1a95\")\n",
        "        if ($myPB.hasClass('ui-progressbar')) {\n",
        "            $myPB.progressbar('value', 710);\n",
        "        } else {\n",
        "            $myPB.progressbar({value: 0, max: 971});\n",
        "        }\n",
        "        "
       ],
       "metadata": {},
       "output_type": "display_data",
       "text": [
        "<IPython.core.display.Javascript at 0xb40fcfd0>"
       ]
      },
      {
       "javascript": [
        "$('div#12c23165-7bc9-49b5-8921-fd4a73bf25d7').text('ETA:  0:00:00');"
       ],
       "metadata": {},
       "output_type": "display_data",
       "text": [
        "<IPython.core.display.Javascript at 0xb4095ef0>"
       ]
      },
      {
       "javascript": [
        "$('div#cb164004-0b5e-4d18-be11-10aef2c4eae8').text('720 of 971');"
       ],
       "metadata": {},
       "output_type": "display_data",
       "text": [
        "<IPython.core.display.Javascript at 0xb410beb8>"
       ]
      },
      {
       "javascript": [
        "$('div#0d01325e-65f1-4632-8c7c-8c4b9b16c81d').text(' 74%');"
       ],
       "metadata": {},
       "output_type": "display_data",
       "text": [
        "<IPython.core.display.Javascript at 0xb4095ef0>"
       ]
      },
      {
       "javascript": [
        "\n",
        "        var $myPB = $(\"div#04e661cb-448a-4647-9276-cbb43dab1a95\")\n",
        "        if ($myPB.hasClass('ui-progressbar')) {\n",
        "            $myPB.progressbar('value', 720);\n",
        "        } else {\n",
        "            $myPB.progressbar({value: 0, max: 971});\n",
        "        }\n",
        "        "
       ],
       "metadata": {},
       "output_type": "display_data",
       "text": [
        "<IPython.core.display.Javascript at 0xb40fcfd0>"
       ]
      },
      {
       "javascript": [
        "$('div#12c23165-7bc9-49b5-8921-fd4a73bf25d7').text('ETA:  0:00:00');"
       ],
       "metadata": {},
       "output_type": "display_data",
       "text": [
        "<IPython.core.display.Javascript at 0xb40fcf98>"
       ]
      },
      {
       "javascript": [
        "$('div#cb164004-0b5e-4d18-be11-10aef2c4eae8').text('730 of 971');"
       ],
       "metadata": {},
       "output_type": "display_data",
       "text": [
        "<IPython.core.display.Javascript at 0x9314b128>"
       ]
      },
      {
       "javascript": [
        "$('div#0d01325e-65f1-4632-8c7c-8c4b9b16c81d').text(' 75%');"
       ],
       "metadata": {},
       "output_type": "display_data",
       "text": [
        "<IPython.core.display.Javascript at 0xb40fcf98>"
       ]
      },
      {
       "javascript": [
        "\n",
        "        var $myPB = $(\"div#04e661cb-448a-4647-9276-cbb43dab1a95\")\n",
        "        if ($myPB.hasClass('ui-progressbar')) {\n",
        "            $myPB.progressbar('value', 730);\n",
        "        } else {\n",
        "            $myPB.progressbar({value: 0, max: 971});\n",
        "        }\n",
        "        "
       ],
       "metadata": {},
       "output_type": "display_data",
       "text": [
        "<IPython.core.display.Javascript at 0xb40fcfd0>"
       ]
      },
      {
       "javascript": [
        "$('div#12c23165-7bc9-49b5-8921-fd4a73bf25d7').text('ETA:  0:00:00');"
       ],
       "metadata": {},
       "output_type": "display_data",
       "text": [
        "<IPython.core.display.Javascript at 0xb4095ef0>"
       ]
      },
      {
       "javascript": [
        "$('div#cb164004-0b5e-4d18-be11-10aef2c4eae8').text('740 of 971');"
       ],
       "metadata": {},
       "output_type": "display_data",
       "text": [
        "<IPython.core.display.Javascript at 0x9314b358>"
       ]
      },
      {
       "javascript": [
        "$('div#0d01325e-65f1-4632-8c7c-8c4b9b16c81d').text(' 76%');"
       ],
       "metadata": {},
       "output_type": "display_data",
       "text": [
        "<IPython.core.display.Javascript at 0xb4095ef0>"
       ]
      },
      {
       "javascript": [
        "\n",
        "        var $myPB = $(\"div#04e661cb-448a-4647-9276-cbb43dab1a95\")\n",
        "        if ($myPB.hasClass('ui-progressbar')) {\n",
        "            $myPB.progressbar('value', 740);\n",
        "        } else {\n",
        "            $myPB.progressbar({value: 0, max: 971});\n",
        "        }\n",
        "        "
       ],
       "metadata": {},
       "output_type": "display_data",
       "text": [
        "<IPython.core.display.Javascript at 0xb40fcfd0>"
       ]
      },
      {
       "javascript": [
        "$('div#12c23165-7bc9-49b5-8921-fd4a73bf25d7').text('ETA:  0:00:00');"
       ],
       "metadata": {},
       "output_type": "display_data",
       "text": [
        "<IPython.core.display.Javascript at 0xb40fcf98>"
       ]
      },
      {
       "javascript": [
        "$('div#cb164004-0b5e-4d18-be11-10aef2c4eae8').text('750 of 971');"
       ],
       "metadata": {},
       "output_type": "display_data",
       "text": [
        "<IPython.core.display.Javascript at 0x9314b588>"
       ]
      },
      {
       "javascript": [
        "$('div#0d01325e-65f1-4632-8c7c-8c4b9b16c81d').text(' 77%');"
       ],
       "metadata": {},
       "output_type": "display_data",
       "text": [
        "<IPython.core.display.Javascript at 0xb40fcf98>"
       ]
      },
      {
       "javascript": [
        "\n",
        "        var $myPB = $(\"div#04e661cb-448a-4647-9276-cbb43dab1a95\")\n",
        "        if ($myPB.hasClass('ui-progressbar')) {\n",
        "            $myPB.progressbar('value', 750);\n",
        "        } else {\n",
        "            $myPB.progressbar({value: 0, max: 971});\n",
        "        }\n",
        "        "
       ],
       "metadata": {},
       "output_type": "display_data",
       "text": [
        "<IPython.core.display.Javascript at 0xb40fcfd0>"
       ]
      },
      {
       "javascript": [
        "$('div#12c23165-7bc9-49b5-8921-fd4a73bf25d7').text('ETA:  0:00:00');"
       ],
       "metadata": {},
       "output_type": "display_data",
       "text": [
        "<IPython.core.display.Javascript at 0xb4095ef0>"
       ]
      },
      {
       "javascript": [
        "$('div#cb164004-0b5e-4d18-be11-10aef2c4eae8').text('760 of 971');"
       ],
       "metadata": {},
       "output_type": "display_data",
       "text": [
        "<IPython.core.display.Javascript at 0x9314b7b8>"
       ]
      },
      {
       "javascript": [
        "$('div#0d01325e-65f1-4632-8c7c-8c4b9b16c81d').text(' 78%');"
       ],
       "metadata": {},
       "output_type": "display_data",
       "text": [
        "<IPython.core.display.Javascript at 0xb4095ef0>"
       ]
      },
      {
       "javascript": [
        "\n",
        "        var $myPB = $(\"div#04e661cb-448a-4647-9276-cbb43dab1a95\")\n",
        "        if ($myPB.hasClass('ui-progressbar')) {\n",
        "            $myPB.progressbar('value', 760);\n",
        "        } else {\n",
        "            $myPB.progressbar({value: 0, max: 971});\n",
        "        }\n",
        "        "
       ],
       "metadata": {},
       "output_type": "display_data",
       "text": [
        "<IPython.core.display.Javascript at 0xb40fcfd0>"
       ]
      },
      {
       "javascript": [
        "$('div#12c23165-7bc9-49b5-8921-fd4a73bf25d7').text('ETA:  0:00:00');"
       ],
       "metadata": {},
       "output_type": "display_data",
       "text": [
        "<IPython.core.display.Javascript at 0xb40fcf98>"
       ]
      },
      {
       "javascript": [
        "$('div#cb164004-0b5e-4d18-be11-10aef2c4eae8').text('770 of 971');"
       ],
       "metadata": {},
       "output_type": "display_data",
       "text": [
        "<IPython.core.display.Javascript at 0x9314b9e8>"
       ]
      },
      {
       "javascript": [
        "$('div#0d01325e-65f1-4632-8c7c-8c4b9b16c81d').text(' 79%');"
       ],
       "metadata": {},
       "output_type": "display_data",
       "text": [
        "<IPython.core.display.Javascript at 0xb40fcf98>"
       ]
      },
      {
       "javascript": [
        "\n",
        "        var $myPB = $(\"div#04e661cb-448a-4647-9276-cbb43dab1a95\")\n",
        "        if ($myPB.hasClass('ui-progressbar')) {\n",
        "            $myPB.progressbar('value', 770);\n",
        "        } else {\n",
        "            $myPB.progressbar({value: 0, max: 971});\n",
        "        }\n",
        "        "
       ],
       "metadata": {},
       "output_type": "display_data",
       "text": [
        "<IPython.core.display.Javascript at 0xb40fcfd0>"
       ]
      },
      {
       "javascript": [
        "$('div#12c23165-7bc9-49b5-8921-fd4a73bf25d7').text('ETA:  0:00:00');"
       ],
       "metadata": {},
       "output_type": "display_data",
       "text": [
        "<IPython.core.display.Javascript at 0xb4095ef0>"
       ]
      },
      {
       "javascript": [
        "$('div#cb164004-0b5e-4d18-be11-10aef2c4eae8').text('780 of 971');"
       ],
       "metadata": {},
       "output_type": "display_data",
       "text": [
        "<IPython.core.display.Javascript at 0x9314bc18>"
       ]
      },
      {
       "javascript": [
        "$('div#0d01325e-65f1-4632-8c7c-8c4b9b16c81d').text(' 80%');"
       ],
       "metadata": {},
       "output_type": "display_data",
       "text": [
        "<IPython.core.display.Javascript at 0xb4095ef0>"
       ]
      },
      {
       "javascript": [
        "\n",
        "        var $myPB = $(\"div#04e661cb-448a-4647-9276-cbb43dab1a95\")\n",
        "        if ($myPB.hasClass('ui-progressbar')) {\n",
        "            $myPB.progressbar('value', 780);\n",
        "        } else {\n",
        "            $myPB.progressbar({value: 0, max: 971});\n",
        "        }\n",
        "        "
       ],
       "metadata": {},
       "output_type": "display_data",
       "text": [
        "<IPython.core.display.Javascript at 0xb40fcfd0>"
       ]
      },
      {
       "javascript": [
        "$('div#12c23165-7bc9-49b5-8921-fd4a73bf25d7').text('ETA:  0:00:00');"
       ],
       "metadata": {},
       "output_type": "display_data",
       "text": [
        "<IPython.core.display.Javascript at 0xb40fcf98>"
       ]
      },
      {
       "javascript": [
        "$('div#cb164004-0b5e-4d18-be11-10aef2c4eae8').text('790 of 971');"
       ],
       "metadata": {},
       "output_type": "display_data",
       "text": [
        "<IPython.core.display.Javascript at 0x9314be48>"
       ]
      },
      {
       "javascript": [
        "$('div#0d01325e-65f1-4632-8c7c-8c4b9b16c81d').text(' 81%');"
       ],
       "metadata": {},
       "output_type": "display_data",
       "text": [
        "<IPython.core.display.Javascript at 0xb40fcf98>"
       ]
      },
      {
       "javascript": [
        "\n",
        "        var $myPB = $(\"div#04e661cb-448a-4647-9276-cbb43dab1a95\")\n",
        "        if ($myPB.hasClass('ui-progressbar')) {\n",
        "            $myPB.progressbar('value', 790);\n",
        "        } else {\n",
        "            $myPB.progressbar({value: 0, max: 971});\n",
        "        }\n",
        "        "
       ],
       "metadata": {},
       "output_type": "display_data",
       "text": [
        "<IPython.core.display.Javascript at 0xb40fcfd0>"
       ]
      },
      {
       "javascript": [
        "$('div#12c23165-7bc9-49b5-8921-fd4a73bf25d7').text('ETA:  0:00:00');"
       ],
       "metadata": {},
       "output_type": "display_data",
       "text": [
        "<IPython.core.display.Javascript at 0xb4095ef0>"
       ]
      },
      {
       "javascript": [
        "$('div#cb164004-0b5e-4d18-be11-10aef2c4eae8').text('800 of 971');"
       ],
       "metadata": {},
       "output_type": "display_data",
       "text": [
        "<IPython.core.display.Javascript at 0x931560b8>"
       ]
      },
      {
       "javascript": [
        "$('div#0d01325e-65f1-4632-8c7c-8c4b9b16c81d').text(' 82%');"
       ],
       "metadata": {},
       "output_type": "display_data",
       "text": [
        "<IPython.core.display.Javascript at 0xb4095ef0>"
       ]
      },
      {
       "javascript": [
        "\n",
        "        var $myPB = $(\"div#04e661cb-448a-4647-9276-cbb43dab1a95\")\n",
        "        if ($myPB.hasClass('ui-progressbar')) {\n",
        "            $myPB.progressbar('value', 800);\n",
        "        } else {\n",
        "            $myPB.progressbar({value: 0, max: 971});\n",
        "        }\n",
        "        "
       ],
       "metadata": {},
       "output_type": "display_data",
       "text": [
        "<IPython.core.display.Javascript at 0xb40fcfd0>"
       ]
      },
      {
       "javascript": [
        "$('div#12c23165-7bc9-49b5-8921-fd4a73bf25d7').text('ETA:  0:00:00');"
       ],
       "metadata": {},
       "output_type": "display_data",
       "text": [
        "<IPython.core.display.Javascript at 0xb40fcf98>"
       ]
      },
      {
       "javascript": [
        "$('div#cb164004-0b5e-4d18-be11-10aef2c4eae8').text('810 of 971');"
       ],
       "metadata": {},
       "output_type": "display_data",
       "text": [
        "<IPython.core.display.Javascript at 0x931562e8>"
       ]
      },
      {
       "javascript": [
        "$('div#0d01325e-65f1-4632-8c7c-8c4b9b16c81d').text(' 83%');"
       ],
       "metadata": {},
       "output_type": "display_data",
       "text": [
        "<IPython.core.display.Javascript at 0xb40fcf98>"
       ]
      },
      {
       "javascript": [
        "\n",
        "        var $myPB = $(\"div#04e661cb-448a-4647-9276-cbb43dab1a95\")\n",
        "        if ($myPB.hasClass('ui-progressbar')) {\n",
        "            $myPB.progressbar('value', 810);\n",
        "        } else {\n",
        "            $myPB.progressbar({value: 0, max: 971});\n",
        "        }\n",
        "        "
       ],
       "metadata": {},
       "output_type": "display_data",
       "text": [
        "<IPython.core.display.Javascript at 0xb40fcfd0>"
       ]
      },
      {
       "javascript": [
        "$('div#12c23165-7bc9-49b5-8921-fd4a73bf25d7').text('ETA:  0:00:00');"
       ],
       "metadata": {},
       "output_type": "display_data",
       "text": [
        "<IPython.core.display.Javascript at 0xb4095ef0>"
       ]
      },
      {
       "javascript": [
        "$('div#cb164004-0b5e-4d18-be11-10aef2c4eae8').text('820 of 971');"
       ],
       "metadata": {},
       "output_type": "display_data",
       "text": [
        "<IPython.core.display.Javascript at 0x93156518>"
       ]
      },
      {
       "javascript": [
        "$('div#0d01325e-65f1-4632-8c7c-8c4b9b16c81d').text(' 84%');"
       ],
       "metadata": {},
       "output_type": "display_data",
       "text": [
        "<IPython.core.display.Javascript at 0xb4095ef0>"
       ]
      },
      {
       "javascript": [
        "\n",
        "        var $myPB = $(\"div#04e661cb-448a-4647-9276-cbb43dab1a95\")\n",
        "        if ($myPB.hasClass('ui-progressbar')) {\n",
        "            $myPB.progressbar('value', 820);\n",
        "        } else {\n",
        "            $myPB.progressbar({value: 0, max: 971});\n",
        "        }\n",
        "        "
       ],
       "metadata": {},
       "output_type": "display_data",
       "text": [
        "<IPython.core.display.Javascript at 0xb40fcfd0>"
       ]
      },
      {
       "javascript": [
        "$('div#12c23165-7bc9-49b5-8921-fd4a73bf25d7').text('ETA:  0:00:00');"
       ],
       "metadata": {},
       "output_type": "display_data",
       "text": [
        "<IPython.core.display.Javascript at 0xb40fcf98>"
       ]
      },
      {
       "javascript": [
        "$('div#cb164004-0b5e-4d18-be11-10aef2c4eae8').text('830 of 971');"
       ],
       "metadata": {},
       "output_type": "display_data",
       "text": [
        "<IPython.core.display.Javascript at 0x93156748>"
       ]
      },
      {
       "javascript": [
        "$('div#0d01325e-65f1-4632-8c7c-8c4b9b16c81d').text(' 85%');"
       ],
       "metadata": {},
       "output_type": "display_data",
       "text": [
        "<IPython.core.display.Javascript at 0xb40fcf98>"
       ]
      },
      {
       "javascript": [
        "\n",
        "        var $myPB = $(\"div#04e661cb-448a-4647-9276-cbb43dab1a95\")\n",
        "        if ($myPB.hasClass('ui-progressbar')) {\n",
        "            $myPB.progressbar('value', 830);\n",
        "        } else {\n",
        "            $myPB.progressbar({value: 0, max: 971});\n",
        "        }\n",
        "        "
       ],
       "metadata": {},
       "output_type": "display_data",
       "text": [
        "<IPython.core.display.Javascript at 0xb40fcfd0>"
       ]
      },
      {
       "javascript": [
        "$('div#12c23165-7bc9-49b5-8921-fd4a73bf25d7').text('ETA:  0:00:00');"
       ],
       "metadata": {},
       "output_type": "display_data",
       "text": [
        "<IPython.core.display.Javascript at 0xb4095ef0>"
       ]
      },
      {
       "javascript": [
        "$('div#cb164004-0b5e-4d18-be11-10aef2c4eae8').text('840 of 971');"
       ],
       "metadata": {},
       "output_type": "display_data",
       "text": [
        "<IPython.core.display.Javascript at 0x93156978>"
       ]
      },
      {
       "javascript": [
        "$('div#0d01325e-65f1-4632-8c7c-8c4b9b16c81d').text(' 86%');"
       ],
       "metadata": {},
       "output_type": "display_data",
       "text": [
        "<IPython.core.display.Javascript at 0xb4095ef0>"
       ]
      },
      {
       "javascript": [
        "\n",
        "        var $myPB = $(\"div#04e661cb-448a-4647-9276-cbb43dab1a95\")\n",
        "        if ($myPB.hasClass('ui-progressbar')) {\n",
        "            $myPB.progressbar('value', 840);\n",
        "        } else {\n",
        "            $myPB.progressbar({value: 0, max: 971});\n",
        "        }\n",
        "        "
       ],
       "metadata": {},
       "output_type": "display_data",
       "text": [
        "<IPython.core.display.Javascript at 0xb40fcfd0>"
       ]
      },
      {
       "javascript": [
        "$('div#12c23165-7bc9-49b5-8921-fd4a73bf25d7').text('ETA:  0:00:00');"
       ],
       "metadata": {},
       "output_type": "display_data",
       "text": [
        "<IPython.core.display.Javascript at 0xb40fcf98>"
       ]
      },
      {
       "javascript": [
        "$('div#cb164004-0b5e-4d18-be11-10aef2c4eae8').text('850 of 971');"
       ],
       "metadata": {},
       "output_type": "display_data",
       "text": [
        "<IPython.core.display.Javascript at 0x93156b70>"
       ]
      },
      {
       "javascript": [
        "$('div#0d01325e-65f1-4632-8c7c-8c4b9b16c81d').text(' 87%');"
       ],
       "metadata": {},
       "output_type": "display_data",
       "text": [
        "<IPython.core.display.Javascript at 0xb40fcf98>"
       ]
      },
      {
       "javascript": [
        "\n",
        "        var $myPB = $(\"div#04e661cb-448a-4647-9276-cbb43dab1a95\")\n",
        "        if ($myPB.hasClass('ui-progressbar')) {\n",
        "            $myPB.progressbar('value', 850);\n",
        "        } else {\n",
        "            $myPB.progressbar({value: 0, max: 971});\n",
        "        }\n",
        "        "
       ],
       "metadata": {},
       "output_type": "display_data",
       "text": [
        "<IPython.core.display.Javascript at 0xb40fcfd0>"
       ]
      },
      {
       "javascript": [
        "$('div#12c23165-7bc9-49b5-8921-fd4a73bf25d7').text('ETA:  0:00:00');"
       ],
       "metadata": {},
       "output_type": "display_data",
       "text": [
        "<IPython.core.display.Javascript at 0xb4095ef0>"
       ]
      },
      {
       "javascript": [
        "$('div#cb164004-0b5e-4d18-be11-10aef2c4eae8').text('860 of 971');"
       ],
       "metadata": {},
       "output_type": "display_data",
       "text": [
        "<IPython.core.display.Javascript at 0x93156c50>"
       ]
      },
      {
       "javascript": [
        "$('div#0d01325e-65f1-4632-8c7c-8c4b9b16c81d').text(' 88%');"
       ],
       "metadata": {},
       "output_type": "display_data",
       "text": [
        "<IPython.core.display.Javascript at 0xb4095ef0>"
       ]
      },
      {
       "javascript": [
        "\n",
        "        var $myPB = $(\"div#04e661cb-448a-4647-9276-cbb43dab1a95\")\n",
        "        if ($myPB.hasClass('ui-progressbar')) {\n",
        "            $myPB.progressbar('value', 860);\n",
        "        } else {\n",
        "            $myPB.progressbar({value: 0, max: 971});\n",
        "        }\n",
        "        "
       ],
       "metadata": {},
       "output_type": "display_data",
       "text": [
        "<IPython.core.display.Javascript at 0xb40fcfd0>"
       ]
      },
      {
       "javascript": [
        "$('div#12c23165-7bc9-49b5-8921-fd4a73bf25d7').text('ETA:  0:00:00');"
       ],
       "metadata": {},
       "output_type": "display_data",
       "text": [
        "<IPython.core.display.Javascript at 0xb40fcf98>"
       ]
      },
      {
       "javascript": [
        "$('div#cb164004-0b5e-4d18-be11-10aef2c4eae8').text('870 of 971');"
       ],
       "metadata": {},
       "output_type": "display_data",
       "text": [
        "<IPython.core.display.Javascript at 0x93156c50>"
       ]
      },
      {
       "javascript": [
        "$('div#0d01325e-65f1-4632-8c7c-8c4b9b16c81d').text(' 89%');"
       ],
       "metadata": {},
       "output_type": "display_data",
       "text": [
        "<IPython.core.display.Javascript at 0xb40fcf98>"
       ]
      },
      {
       "javascript": [
        "\n",
        "        var $myPB = $(\"div#04e661cb-448a-4647-9276-cbb43dab1a95\")\n",
        "        if ($myPB.hasClass('ui-progressbar')) {\n",
        "            $myPB.progressbar('value', 870);\n",
        "        } else {\n",
        "            $myPB.progressbar({value: 0, max: 971});\n",
        "        }\n",
        "        "
       ],
       "metadata": {},
       "output_type": "display_data",
       "text": [
        "<IPython.core.display.Javascript at 0xb40fcfd0>"
       ]
      },
      {
       "javascript": [
        "$('div#12c23165-7bc9-49b5-8921-fd4a73bf25d7').text('ETA:  0:00:00');"
       ],
       "metadata": {},
       "output_type": "display_data",
       "text": [
        "<IPython.core.display.Javascript at 0xb4095ef0>"
       ]
      },
      {
       "javascript": [
        "$('div#cb164004-0b5e-4d18-be11-10aef2c4eae8').text('880 of 971');"
       ],
       "metadata": {},
       "output_type": "display_data",
       "text": [
        "<IPython.core.display.Javascript at 0x93156cf8>"
       ]
      },
      {
       "javascript": [
        "$('div#0d01325e-65f1-4632-8c7c-8c4b9b16c81d').text(' 90%');"
       ],
       "metadata": {},
       "output_type": "display_data",
       "text": [
        "<IPython.core.display.Javascript at 0xb4095ef0>"
       ]
      },
      {
       "javascript": [
        "\n",
        "        var $myPB = $(\"div#04e661cb-448a-4647-9276-cbb43dab1a95\")\n",
        "        if ($myPB.hasClass('ui-progressbar')) {\n",
        "            $myPB.progressbar('value', 880);\n",
        "        } else {\n",
        "            $myPB.progressbar({value: 0, max: 971});\n",
        "        }\n",
        "        "
       ],
       "metadata": {},
       "output_type": "display_data",
       "text": [
        "<IPython.core.display.Javascript at 0xb40fcfd0>"
       ]
      },
      {
       "javascript": [
        "$('div#12c23165-7bc9-49b5-8921-fd4a73bf25d7').text('ETA:  0:00:00');"
       ],
       "metadata": {},
       "output_type": "display_data",
       "text": [
        "<IPython.core.display.Javascript at 0xb40fcf98>"
       ]
      },
      {
       "javascript": [
        "$('div#cb164004-0b5e-4d18-be11-10aef2c4eae8').text('890 of 971');"
       ],
       "metadata": {},
       "output_type": "display_data",
       "text": [
        "<IPython.core.display.Javascript at 0x93156cf8>"
       ]
      },
      {
       "javascript": [
        "$('div#0d01325e-65f1-4632-8c7c-8c4b9b16c81d').text(' 91%');"
       ],
       "metadata": {},
       "output_type": "display_data",
       "text": [
        "<IPython.core.display.Javascript at 0xb40fcf98>"
       ]
      },
      {
       "javascript": [
        "\n",
        "        var $myPB = $(\"div#04e661cb-448a-4647-9276-cbb43dab1a95\")\n",
        "        if ($myPB.hasClass('ui-progressbar')) {\n",
        "            $myPB.progressbar('value', 890);\n",
        "        } else {\n",
        "            $myPB.progressbar({value: 0, max: 971});\n",
        "        }\n",
        "        "
       ],
       "metadata": {},
       "output_type": "display_data",
       "text": [
        "<IPython.core.display.Javascript at 0xb40fcfd0>"
       ]
      },
      {
       "javascript": [
        "$('div#12c23165-7bc9-49b5-8921-fd4a73bf25d7').text('ETA:  0:00:00');"
       ],
       "metadata": {},
       "output_type": "display_data",
       "text": [
        "<IPython.core.display.Javascript at 0xb4095ef0>"
       ]
      },
      {
       "javascript": [
        "$('div#cb164004-0b5e-4d18-be11-10aef2c4eae8').text('900 of 971');"
       ],
       "metadata": {},
       "output_type": "display_data",
       "text": [
        "<IPython.core.display.Javascript at 0x93156cf8>"
       ]
      },
      {
       "javascript": [
        "$('div#0d01325e-65f1-4632-8c7c-8c4b9b16c81d').text(' 92%');"
       ],
       "metadata": {},
       "output_type": "display_data",
       "text": [
        "<IPython.core.display.Javascript at 0xb4095ef0>"
       ]
      },
      {
       "javascript": [
        "\n",
        "        var $myPB = $(\"div#04e661cb-448a-4647-9276-cbb43dab1a95\")\n",
        "        if ($myPB.hasClass('ui-progressbar')) {\n",
        "            $myPB.progressbar('value', 900);\n",
        "        } else {\n",
        "            $myPB.progressbar({value: 0, max: 971});\n",
        "        }\n",
        "        "
       ],
       "metadata": {},
       "output_type": "display_data",
       "text": [
        "<IPython.core.display.Javascript at 0xb40fcfd0>"
       ]
      },
      {
       "javascript": [
        "$('div#12c23165-7bc9-49b5-8921-fd4a73bf25d7').text('ETA:  0:00:00');"
       ],
       "metadata": {},
       "output_type": "display_data",
       "text": [
        "<IPython.core.display.Javascript at 0xb40fcf98>"
       ]
      },
      {
       "javascript": [
        "$('div#cb164004-0b5e-4d18-be11-10aef2c4eae8').text('910 of 971');"
       ],
       "metadata": {},
       "output_type": "display_data",
       "text": [
        "<IPython.core.display.Javascript at 0x93156cf8>"
       ]
      },
      {
       "javascript": [
        "$('div#0d01325e-65f1-4632-8c7c-8c4b9b16c81d').text(' 93%');"
       ],
       "metadata": {},
       "output_type": "display_data",
       "text": [
        "<IPython.core.display.Javascript at 0xb40fcf98>"
       ]
      },
      {
       "javascript": [
        "\n",
        "        var $myPB = $(\"div#04e661cb-448a-4647-9276-cbb43dab1a95\")\n",
        "        if ($myPB.hasClass('ui-progressbar')) {\n",
        "            $myPB.progressbar('value', 910);\n",
        "        } else {\n",
        "            $myPB.progressbar({value: 0, max: 971});\n",
        "        }\n",
        "        "
       ],
       "metadata": {},
       "output_type": "display_data",
       "text": [
        "<IPython.core.display.Javascript at 0xb40fcfd0>"
       ]
      },
      {
       "javascript": [
        "$('div#12c23165-7bc9-49b5-8921-fd4a73bf25d7').text('ETA:  0:00:00');"
       ],
       "metadata": {},
       "output_type": "display_data",
       "text": [
        "<IPython.core.display.Javascript at 0xb4095ef0>"
       ]
      },
      {
       "javascript": [
        "$('div#cb164004-0b5e-4d18-be11-10aef2c4eae8').text('920 of 971');"
       ],
       "metadata": {},
       "output_type": "display_data",
       "text": [
        "<IPython.core.display.Javascript at 0x93156cf8>"
       ]
      },
      {
       "javascript": [
        "$('div#0d01325e-65f1-4632-8c7c-8c4b9b16c81d').text(' 94%');"
       ],
       "metadata": {},
       "output_type": "display_data",
       "text": [
        "<IPython.core.display.Javascript at 0xb4095ef0>"
       ]
      },
      {
       "javascript": [
        "\n",
        "        var $myPB = $(\"div#04e661cb-448a-4647-9276-cbb43dab1a95\")\n",
        "        if ($myPB.hasClass('ui-progressbar')) {\n",
        "            $myPB.progressbar('value', 920);\n",
        "        } else {\n",
        "            $myPB.progressbar({value: 0, max: 971});\n",
        "        }\n",
        "        "
       ],
       "metadata": {},
       "output_type": "display_data",
       "text": [
        "<IPython.core.display.Javascript at 0xb40fcfd0>"
       ]
      },
      {
       "javascript": [
        "$('div#12c23165-7bc9-49b5-8921-fd4a73bf25d7').text('ETA:  0:00:00');"
       ],
       "metadata": {},
       "output_type": "display_data",
       "text": [
        "<IPython.core.display.Javascript at 0xb40fcf98>"
       ]
      },
      {
       "javascript": [
        "$('div#cb164004-0b5e-4d18-be11-10aef2c4eae8').text('930 of 971');"
       ],
       "metadata": {},
       "output_type": "display_data",
       "text": [
        "<IPython.core.display.Javascript at 0x93156cf8>"
       ]
      },
      {
       "javascript": [
        "$('div#0d01325e-65f1-4632-8c7c-8c4b9b16c81d').text(' 95%');"
       ],
       "metadata": {},
       "output_type": "display_data",
       "text": [
        "<IPython.core.display.Javascript at 0xb40fcf98>"
       ]
      },
      {
       "javascript": [
        "\n",
        "        var $myPB = $(\"div#04e661cb-448a-4647-9276-cbb43dab1a95\")\n",
        "        if ($myPB.hasClass('ui-progressbar')) {\n",
        "            $myPB.progressbar('value', 930);\n",
        "        } else {\n",
        "            $myPB.progressbar({value: 0, max: 971});\n",
        "        }\n",
        "        "
       ],
       "metadata": {},
       "output_type": "display_data",
       "text": [
        "<IPython.core.display.Javascript at 0xb40fcfd0>"
       ]
      },
      {
       "javascript": [
        "$('div#12c23165-7bc9-49b5-8921-fd4a73bf25d7').text('ETA:  0:00:00');"
       ],
       "metadata": {},
       "output_type": "display_data",
       "text": [
        "<IPython.core.display.Javascript at 0xb4095ef0>"
       ]
      },
      {
       "javascript": [
        "$('div#cb164004-0b5e-4d18-be11-10aef2c4eae8').text('940 of 971');"
       ],
       "metadata": {},
       "output_type": "display_data",
       "text": [
        "<IPython.core.display.Javascript at 0x93156e10>"
       ]
      },
      {
       "javascript": [
        "$('div#0d01325e-65f1-4632-8c7c-8c4b9b16c81d').text(' 96%');"
       ],
       "metadata": {},
       "output_type": "display_data",
       "text": [
        "<IPython.core.display.Javascript at 0xb4095ef0>"
       ]
      },
      {
       "javascript": [
        "\n",
        "        var $myPB = $(\"div#04e661cb-448a-4647-9276-cbb43dab1a95\")\n",
        "        if ($myPB.hasClass('ui-progressbar')) {\n",
        "            $myPB.progressbar('value', 940);\n",
        "        } else {\n",
        "            $myPB.progressbar({value: 0, max: 971});\n",
        "        }\n",
        "        "
       ],
       "metadata": {},
       "output_type": "display_data",
       "text": [
        "<IPython.core.display.Javascript at 0xb40fcfd0>"
       ]
      },
      {
       "javascript": [
        "$('div#12c23165-7bc9-49b5-8921-fd4a73bf25d7').text('ETA:  0:00:00');"
       ],
       "metadata": {},
       "output_type": "display_data",
       "text": [
        "<IPython.core.display.Javascript at 0xb40fcf98>"
       ]
      },
      {
       "javascript": [
        "$('div#cb164004-0b5e-4d18-be11-10aef2c4eae8').text('950 of 971');"
       ],
       "metadata": {},
       "output_type": "display_data",
       "text": [
        "<IPython.core.display.Javascript at 0x93156dd8>"
       ]
      },
      {
       "javascript": [
        "$('div#0d01325e-65f1-4632-8c7c-8c4b9b16c81d').text(' 97%');"
       ],
       "metadata": {},
       "output_type": "display_data",
       "text": [
        "<IPython.core.display.Javascript at 0xb40fcf98>"
       ]
      },
      {
       "javascript": [
        "\n",
        "        var $myPB = $(\"div#04e661cb-448a-4647-9276-cbb43dab1a95\")\n",
        "        if ($myPB.hasClass('ui-progressbar')) {\n",
        "            $myPB.progressbar('value', 950);\n",
        "        } else {\n",
        "            $myPB.progressbar({value: 0, max: 971});\n",
        "        }\n",
        "        "
       ],
       "metadata": {},
       "output_type": "display_data",
       "text": [
        "<IPython.core.display.Javascript at 0xb40fcfd0>"
       ]
      },
      {
       "javascript": [
        "$('div#12c23165-7bc9-49b5-8921-fd4a73bf25d7').text('ETA:  0:00:00');"
       ],
       "metadata": {},
       "output_type": "display_data",
       "text": [
        "<IPython.core.display.Javascript at 0xb4095ef0>"
       ]
      },
      {
       "javascript": [
        "$('div#cb164004-0b5e-4d18-be11-10aef2c4eae8').text('960 of 971');"
       ],
       "metadata": {},
       "output_type": "display_data",
       "text": [
        "<IPython.core.display.Javascript at 0x93156dd8>"
       ]
      },
      {
       "javascript": [
        "$('div#0d01325e-65f1-4632-8c7c-8c4b9b16c81d').text(' 98%');"
       ],
       "metadata": {},
       "output_type": "display_data",
       "text": [
        "<IPython.core.display.Javascript at 0xb4095ef0>"
       ]
      },
      {
       "javascript": [
        "\n",
        "        var $myPB = $(\"div#04e661cb-448a-4647-9276-cbb43dab1a95\")\n",
        "        if ($myPB.hasClass('ui-progressbar')) {\n",
        "            $myPB.progressbar('value', 960);\n",
        "        } else {\n",
        "            $myPB.progressbar({value: 0, max: 971});\n",
        "        }\n",
        "        "
       ],
       "metadata": {},
       "output_type": "display_data",
       "text": [
        "<IPython.core.display.Javascript at 0xb40fcfd0>"
       ]
      },
      {
       "javascript": [
        "$('div#12c23165-7bc9-49b5-8921-fd4a73bf25d7').text('ETA:  0:00:00');"
       ],
       "metadata": {},
       "output_type": "display_data",
       "text": [
        "<IPython.core.display.Javascript at 0xb40fcf98>"
       ]
      },
      {
       "javascript": [
        "$('div#cb164004-0b5e-4d18-be11-10aef2c4eae8').text('970 of 971');"
       ],
       "metadata": {},
       "output_type": "display_data",
       "text": [
        "<IPython.core.display.Javascript at 0x93156f98>"
       ]
      },
      {
       "javascript": [
        "$('div#0d01325e-65f1-4632-8c7c-8c4b9b16c81d').text(' 99%');"
       ],
       "metadata": {},
       "output_type": "display_data",
       "text": [
        "<IPython.core.display.Javascript at 0x93156f98>"
       ]
      },
      {
       "javascript": [
        "\n",
        "        var $myPB = $(\"div#04e661cb-448a-4647-9276-cbb43dab1a95\")\n",
        "        if ($myPB.hasClass('ui-progressbar')) {\n",
        "            $myPB.progressbar('value', 970);\n",
        "        } else {\n",
        "            $myPB.progressbar({value: 0, max: 971});\n",
        "        }\n",
        "        "
       ],
       "metadata": {},
       "output_type": "display_data",
       "text": [
        "<IPython.core.display.Javascript at 0x93156fd0>"
       ]
      },
      {
       "javascript": [
        "$('div#12c23165-7bc9-49b5-8921-fd4a73bf25d7').text('ETA:  0:00:00');"
       ],
       "metadata": {},
       "output_type": "display_data",
       "text": [
        "<IPython.core.display.Javascript at 0xb4095ef0>"
       ]
      },
      {
       "javascript": [
        "$('div#cb164004-0b5e-4d18-be11-10aef2c4eae8').text('971 of 971');"
       ],
       "metadata": {},
       "output_type": "display_data",
       "text": [
        "<IPython.core.display.Javascript at 0xb4095b70>"
       ]
      },
      {
       "javascript": [
        "$('div#0d01325e-65f1-4632-8c7c-8c4b9b16c81d').text('100%');"
       ],
       "metadata": {},
       "output_type": "display_data",
       "text": [
        "<IPython.core.display.Javascript at 0xb40fcfd0>"
       ]
      },
      {
       "javascript": [
        "\n",
        "        var $myPB = $(\"div#04e661cb-448a-4647-9276-cbb43dab1a95\")\n",
        "        if ($myPB.hasClass('ui-progressbar')) {\n",
        "            $myPB.progressbar('value', 971);\n",
        "        } else {\n",
        "            $myPB.progressbar({value: 0, max: 971});\n",
        "        }\n",
        "        "
       ],
       "metadata": {},
       "output_type": "display_data",
       "text": [
        "<IPython.core.display.Javascript at 0xb4095b70>"
       ]
      },
      {
       "javascript": [
        "$('div#12c23165-7bc9-49b5-8921-fd4a73bf25d7').text('Time: 0:00:02');"
       ],
       "metadata": {},
       "output_type": "display_data",
       "text": [
        "<IPython.core.display.Javascript at 0xb4095ef0>"
       ]
      },
      {
       "javascript": [
        "var element = document.getElementById('68fca9ae-b41b-4eae-91aa-63f503d368f5');\n",
        "                    var parent = element.parentNode\n",
        "                    parent.removeChild(element);\n",
        "                    parent.parentElement.remove();"
       ],
       "metadata": {},
       "output_type": "display_data",
       "text": [
        "<IPython.core.display.Javascript at 0xb4095c50>"
       ]
      },
      {
       "javascript": [
        "this.cleanProgressBar(['68fca9ae-b41b-4eae-91aa-63f503d368f5', 'cb164004-0b5e-4d18-be11-10aef2c4eae8', '0d01325e-65f1-4632-8c7c-8c4b9b16c81d', '04e661cb-448a-4647-9276-cbb43dab1a95', '12c23165-7bc9-49b5-8921-fd4a73bf25d7'])"
       ],
       "metadata": {},
       "output_type": "display_data",
       "text": [
        "<IPython.core.display.Javascript at 0x93156fd0>"
       ]
      }
     ],
     "prompt_number": 11
    },
    {
     "cell_type": "code",
     "collapsed": false,
     "input": [
      "doc_100_ns = [doc['n'] for k, doc in docs_100.iteritems()]\n",
      "doc_1000_ns = [doc['n'] for k, doc in docs_1000.iteritems()]\n",
      "docmap_100 = dict([(key, doc) for (key,doc) in docmap.iteritems() if doc['attributes']['n'] in doc_100_ns])\n",
      "docmap_1000 = dict([(key, doc) for (key,doc) in docmap.iteritems() if doc['attributes']['n'] in doc_1000_ns])"
     ],
     "language": "python",
     "metadata": {},
     "outputs": [],
     "prompt_number": 13
    },
    {
     "cell_type": "code",
     "collapsed": false,
     "input": [
      "for k,v in docmap_100.iteritems():\n",
      "    v['attributes']['path']  = '%s%s'%('TOP_100/',  v['attributes']['path'].split('/')[-1])\n",
      "    docmap_100[k] = v\n",
      "\n",
      "for k,v in docmap_1000.iteritems():\n",
      "    v['attributes']['path']  = '%s%s'%('TOP_1000/',  v['attributes']['path'].split('/')[-1])\n",
      "    docmap_1000[k] = v\n",
      "\n",
      "docmap_100.itervalues().next()['attributes']['path']"
     ],
     "language": "python",
     "metadata": {},
     "outputs": [
      {
       "metadata": {},
       "output_type": "pyout",
       "prompt_number": 21,
       "text": [
        "u'TOP_1000/A_59_565-en.xml'"
       ]
      }
     ],
     "prompt_number": 21
    },
    {
     "cell_type": "code",
     "collapsed": false,
     "input": [
      "MUN_MAP = zipfile.ZipFile('../MUN_MAP.zip', 'a', compression=zipfile.ZIP_DEFLATED)\n",
      "MUN_MAP.writestr('map_100.json', json.dumps(docmap_100, indent=4))\n",
      "MUN_MAP.writestr('map_1000.json', json.dumps(docmap_1000, indent=4))\n",
      "MUN_MAP.close()"
     ],
     "language": "python",
     "metadata": {},
     "outputs": [],
     "prompt_number": 22
    }
   ],
   "metadata": {}
  }
 ]
}