{
 "metadata": {
  "name": "",
  "signature": "sha256:408d39c944ee82b31f126b16f1c0e873dcf87a9a264f57d9699ebdd100f025f7"
 },
 "nbformat": 3,
 "nbformat_minor": 0,
 "worksheets": [
  {
   "cells": [
    {
     "cell_type": "code",
     "collapsed": false,
     "input": [
      "MODULES_PATH = '''../../modules/multi_un_module.py'''\n",
      "import imp\n",
      "NF = imp.load_source('multi_un_module', MODULES_PATH)\n",
      "import multi_un_module as mun"
     ],
     "language": "python",
     "metadata": {},
     "outputs": [],
     "prompt_number": 1
    },
    {
     "cell_type": "code",
     "collapsed": false,
     "input": [
      "import json, zipfile\n",
      "map_zip = zipfile.ZipFile('../MUN_MAP.zip')\n",
      "mun_map = json.loads(map_zip.read('map.json','r'))"
     ],
     "language": "python",
     "metadata": {},
     "outputs": [],
     "prompt_number": 1
    },
    {
     "cell_type": "code",
     "collapsed": false,
     "input": [
      "docs = mun.load_xml_files_by_year('TOP_100')"
     ],
     "language": "python",
     "metadata": {},
     "outputs": [
      {
       "javascript": [
        "//0c52d91a-ee0c-4f7c-80fa-c43ecd842ba6\n",
        "$(\"head\").append(\"<style> td.pb_widget {     width: auto; } td.pb_widget_fill {     width: 100%; } table.pb {     font-family: monospace;     border: 0;     margin: 0; } table.pb tr { border: 0; } table.pb td {     white-space: nowrap;     border: 0; } div.pb {     border: 1px solid #ddd;     border-radius: 3px; } div.pb_bar {     height: 1.5em; } </style>\")"
       ],
       "metadata": {},
       "output_type": "display_data",
       "text": [
        "<IPython.core.display.Javascript at 0x869ff9e8>"
       ]
      },
      {
       "javascript": [
        "\n",
        "                  // 0c52d91a-ee0c-4f7c-80fa-c43ecd842ba6 -- used to remove this code blob in the end\n",
        "                  IPython.OutputArea.prototype.cleanProgressBar = function(uuids) {\n",
        "                      // filter by uuid-strings \n",
        "                      var myfilter = function(output) { \n",
        "                          var nuids = uuids.length;\n",
        "                          for (var i=0; i<nuids; i++) {\n",
        "                              if (output.hasOwnProperty('html')) {\n",
        "                                  if (output.html.indexOf(uuids[i]) != -1) {\n",
        "                                      return false;\n",
        "                                  }\n",
        "                              }\n",
        "                              if (output.hasOwnProperty('javascript')) {\n",
        "                                  if (output.javascript.indexOf(uuids[i]) != -1) {\n",
        "                                      return false;\n",
        "                                  }\n",
        "                              }\n",
        "                          }\n",
        "                          // keep all others\n",
        "                          return true;\n",
        "                      };\n",
        "\n",
        "                      // Filter the ouputs\n",
        "                      this.outputs = this.outputs.filter(myfilter);\n",
        "                };\n",
        "                "
       ],
       "metadata": {},
       "output_type": "display_data",
       "text": [
        "<IPython.core.display.Javascript at 0x869ffa58>"
       ]
      },
      {
       "html": [
        "<div class=\"pb\" id=\"0c52d91a-ee0c-4f7c-80fa-c43ecd842ba6\"><table class=\"pb ui-widget\"><tr>\n",
        "<td class=\"pb_widget\">TOP_100</td>\n",
        "<td class=\"pb_widget\"><div id=\"77cc8e23-54eb-4c4c-ab47-9feb3d4e413e\">0 of 98</div></td>\n",
        "<td class=\"pb_widget\"><div id=\"31840dfe-65d4-4706-9b2c-0fb7948229c8\">  0%</div></td>\n",
        "<td class=\"pb_widget_fill\">\n",
        "        <div class=\"pb_bar\" id=\"b8acbf43-e78c-48b0-a02b-f0d2e7d0e8a6\"></div>\n",
        "        <script type=\"text/javascript\">\n",
        "            $(\"div#b8acbf43-e78c-48b0-a02b-f0d2e7d0e8a6\").progressbar({value: 0, max: 98});\n",
        "        </script>\n",
        "        </td>\n",
        "<td class=\"pb_widget\"><div id=\"933ae1fe-acfd-4da4-8944-0c3312e470e7\">ETA:  --:--:--</div></td>\n",
        "</tr></table><div>"
       ],
       "metadata": {},
       "output_type": "display_data",
       "text": [
        "<IPython.core.display.HTML at 0x869ffcc0>"
       ]
      },
      {
       "javascript": [
        "$('div#77cc8e23-54eb-4c4c-ab47-9feb3d4e413e').text('1 of 98');"
       ],
       "metadata": {},
       "output_type": "display_data",
       "text": [
        "<IPython.core.display.Javascript at 0x8a620dd8>"
       ]
      },
      {
       "javascript": [
        "$('div#31840dfe-65d4-4706-9b2c-0fb7948229c8').text('  1%');"
       ],
       "metadata": {},
       "output_type": "display_data",
       "text": [
        "<IPython.core.display.Javascript at 0x8a620898>"
       ]
      },
      {
       "javascript": [
        "\n",
        "        var $myPB = $(\"div#b8acbf43-e78c-48b0-a02b-f0d2e7d0e8a6\")\n",
        "        if ($myPB.hasClass('ui-progressbar')) {\n",
        "            $myPB.progressbar('value', 1);\n",
        "        } else {\n",
        "            $myPB.progressbar({value: 0, max: 98});\n",
        "        }\n",
        "        "
       ],
       "metadata": {},
       "output_type": "display_data",
       "text": [
        "<IPython.core.display.Javascript at 0x8a620780>"
       ]
      },
      {
       "javascript": [
        "$('div#933ae1fe-acfd-4da4-8944-0c3312e470e7').text('ETA:  0:00:02');"
       ],
       "metadata": {},
       "output_type": "display_data",
       "text": [
        "<IPython.core.display.Javascript at 0x8a620dd8>"
       ]
      },
      {
       "javascript": [
        "$('div#77cc8e23-54eb-4c4c-ab47-9feb3d4e413e').text('2 of 98');"
       ],
       "metadata": {},
       "output_type": "display_data",
       "text": [
        "<IPython.core.display.Javascript at 0x8a620940>"
       ]
      },
      {
       "javascript": [
        "$('div#31840dfe-65d4-4706-9b2c-0fb7948229c8').text('  2%');"
       ],
       "metadata": {},
       "output_type": "display_data",
       "text": [
        "<IPython.core.display.Javascript at 0x8a6204a8>"
       ]
      },
      {
       "javascript": [
        "\n",
        "        var $myPB = $(\"div#b8acbf43-e78c-48b0-a02b-f0d2e7d0e8a6\")\n",
        "        if ($myPB.hasClass('ui-progressbar')) {\n",
        "            $myPB.progressbar('value', 2);\n",
        "        } else {\n",
        "            $myPB.progressbar({value: 0, max: 98});\n",
        "        }\n",
        "        "
       ],
       "metadata": {},
       "output_type": "display_data",
       "text": [
        "<IPython.core.display.Javascript at 0x8a6204a8>"
       ]
      },
      {
       "javascript": [
        "$('div#933ae1fe-acfd-4da4-8944-0c3312e470e7').text('ETA:  0:00:02');"
       ],
       "metadata": {},
       "output_type": "display_data",
       "text": [
        "<IPython.core.display.Javascript at 0x8a6207b8>"
       ]
      },
      {
       "javascript": [
        "$('div#77cc8e23-54eb-4c4c-ab47-9feb3d4e413e').text('3 of 98');"
       ],
       "metadata": {},
       "output_type": "display_data",
       "text": [
        "<IPython.core.display.Javascript at 0x8eeb6160>"
       ]
      },
      {
       "javascript": [
        "$('div#31840dfe-65d4-4706-9b2c-0fb7948229c8').text('  3%');"
       ],
       "metadata": {},
       "output_type": "display_data",
       "text": [
        "<IPython.core.display.Javascript at 0x8eeb6cf8>"
       ]
      },
      {
       "javascript": [
        "\n",
        "        var $myPB = $(\"div#b8acbf43-e78c-48b0-a02b-f0d2e7d0e8a6\")\n",
        "        if ($myPB.hasClass('ui-progressbar')) {\n",
        "            $myPB.progressbar('value', 3);\n",
        "        } else {\n",
        "            $myPB.progressbar({value: 0, max: 98});\n",
        "        }\n",
        "        "
       ],
       "metadata": {},
       "output_type": "display_data",
       "text": [
        "<IPython.core.display.Javascript at 0x8eeb6cf8>"
       ]
      },
      {
       "javascript": [
        "$('div#933ae1fe-acfd-4da4-8944-0c3312e470e7').text('ETA:  0:00:02');"
       ],
       "metadata": {},
       "output_type": "display_data",
       "text": [
        "<IPython.core.display.Javascript at 0x8eeb6630>"
       ]
      },
      {
       "javascript": [
        "$('div#77cc8e23-54eb-4c4c-ab47-9feb3d4e413e').text('4 of 98');"
       ],
       "metadata": {},
       "output_type": "display_data",
       "text": [
        "<IPython.core.display.Javascript at 0x88268630>"
       ]
      },
      {
       "javascript": [
        "$('div#31840dfe-65d4-4706-9b2c-0fb7948229c8').text('  4%');"
       ],
       "metadata": {},
       "output_type": "display_data",
       "text": [
        "<IPython.core.display.Javascript at 0x882689b0>"
       ]
      },
      {
       "javascript": [
        "\n",
        "        var $myPB = $(\"div#b8acbf43-e78c-48b0-a02b-f0d2e7d0e8a6\")\n",
        "        if ($myPB.hasClass('ui-progressbar')) {\n",
        "            $myPB.progressbar('value', 4);\n",
        "        } else {\n",
        "            $myPB.progressbar({value: 0, max: 98});\n",
        "        }\n",
        "        "
       ],
       "metadata": {},
       "output_type": "display_data",
       "text": [
        "<IPython.core.display.Javascript at 0x88268400>"
       ]
      },
      {
       "javascript": [
        "$('div#933ae1fe-acfd-4da4-8944-0c3312e470e7').text('ETA:  0:00:05');"
       ],
       "metadata": {},
       "output_type": "display_data",
       "text": [
        "<IPython.core.display.Javascript at 0x88268d30>"
       ]
      },
      {
       "javascript": [
        "$('div#77cc8e23-54eb-4c4c-ab47-9feb3d4e413e').text('5 of 98');"
       ],
       "metadata": {},
       "output_type": "display_data",
       "text": [
        "<IPython.core.display.Javascript at 0x882683c8>"
       ]
      },
      {
       "javascript": [
        "$('div#31840dfe-65d4-4706-9b2c-0fb7948229c8').text('  5%');"
       ],
       "metadata": {},
       "output_type": "display_data",
       "text": [
        "<IPython.core.display.Javascript at 0x88268550>"
       ]
      },
      {
       "javascript": [
        "\n",
        "        var $myPB = $(\"div#b8acbf43-e78c-48b0-a02b-f0d2e7d0e8a6\")\n",
        "        if ($myPB.hasClass('ui-progressbar')) {\n",
        "            $myPB.progressbar('value', 5);\n",
        "        } else {\n",
        "            $myPB.progressbar({value: 0, max: 98});\n",
        "        }\n",
        "        "
       ],
       "metadata": {},
       "output_type": "display_data",
       "text": [
        "<IPython.core.display.Javascript at 0x88268fd0>"
       ]
      },
      {
       "javascript": [
        "$('div#933ae1fe-acfd-4da4-8944-0c3312e470e7').text('ETA:  0:00:04');"
       ],
       "metadata": {},
       "output_type": "display_data",
       "text": [
        "<IPython.core.display.Javascript at 0x88268fd0>"
       ]
      },
      {
       "javascript": [
        "$('div#77cc8e23-54eb-4c4c-ab47-9feb3d4e413e').text('6 of 98');"
       ],
       "metadata": {},
       "output_type": "display_data",
       "text": [
        "<IPython.core.display.Javascript at 0x8d7a9358>"
       ]
      },
      {
       "javascript": [
        "$('div#31840dfe-65d4-4706-9b2c-0fb7948229c8').text('  6%');"
       ],
       "metadata": {},
       "output_type": "display_data",
       "text": [
        "<IPython.core.display.Javascript at 0x8d7a9860>"
       ]
      },
      {
       "javascript": [
        "\n",
        "        var $myPB = $(\"div#b8acbf43-e78c-48b0-a02b-f0d2e7d0e8a6\")\n",
        "        if ($myPB.hasClass('ui-progressbar')) {\n",
        "            $myPB.progressbar('value', 6);\n",
        "        } else {\n",
        "            $myPB.progressbar({value: 0, max: 98});\n",
        "        }\n",
        "        "
       ],
       "metadata": {},
       "output_type": "display_data",
       "text": [
        "<IPython.core.display.Javascript at 0x8a197a20>"
       ]
      },
      {
       "javascript": [
        "$('div#933ae1fe-acfd-4da4-8944-0c3312e470e7').text('ETA:  0:00:04');"
       ],
       "metadata": {},
       "output_type": "display_data",
       "text": [
        "<IPython.core.display.Javascript at 0x8a1974a8>"
       ]
      },
      {
       "javascript": [
        "$('div#77cc8e23-54eb-4c4c-ab47-9feb3d4e413e').text('7 of 98');"
       ],
       "metadata": {},
       "output_type": "display_data",
       "text": [
        "<IPython.core.display.Javascript at 0x8e578b38>"
       ]
      },
      {
       "javascript": [
        "$('div#31840dfe-65d4-4706-9b2c-0fb7948229c8').text('  7%');"
       ],
       "metadata": {},
       "output_type": "display_data",
       "text": [
        "<IPython.core.display.Javascript at 0x8e578b38>"
       ]
      },
      {
       "javascript": [
        "\n",
        "        var $myPB = $(\"div#b8acbf43-e78c-48b0-a02b-f0d2e7d0e8a6\")\n",
        "        if ($myPB.hasClass('ui-progressbar')) {\n",
        "            $myPB.progressbar('value', 7);\n",
        "        } else {\n",
        "            $myPB.progressbar({value: 0, max: 98});\n",
        "        }\n",
        "        "
       ],
       "metadata": {},
       "output_type": "display_data",
       "text": [
        "<IPython.core.display.Javascript at 0x8e578438>"
       ]
      },
      {
       "javascript": [
        "$('div#933ae1fe-acfd-4da4-8944-0c3312e470e7').text('ETA:  0:00:06');"
       ],
       "metadata": {},
       "output_type": "display_data",
       "text": [
        "<IPython.core.display.Javascript at 0x8e578240>"
       ]
      },
      {
       "javascript": [
        "$('div#77cc8e23-54eb-4c4c-ab47-9feb3d4e413e').text('8 of 98');"
       ],
       "metadata": {},
       "output_type": "display_data",
       "text": [
        "<IPython.core.display.Javascript at 0x8e578470>"
       ]
      },
      {
       "javascript": [
        "$('div#31840dfe-65d4-4706-9b2c-0fb7948229c8').text('  8%');"
       ],
       "metadata": {},
       "output_type": "display_data",
       "text": [
        "<IPython.core.display.Javascript at 0x8e578470>"
       ]
      },
      {
       "javascript": [
        "\n",
        "        var $myPB = $(\"div#b8acbf43-e78c-48b0-a02b-f0d2e7d0e8a6\")\n",
        "        if ($myPB.hasClass('ui-progressbar')) {\n",
        "            $myPB.progressbar('value', 8);\n",
        "        } else {\n",
        "            $myPB.progressbar({value: 0, max: 98});\n",
        "        }\n",
        "        "
       ],
       "metadata": {},
       "output_type": "display_data",
       "text": [
        "<IPython.core.display.Javascript at 0x8e578e48>"
       ]
      },
      {
       "javascript": [
        "$('div#933ae1fe-acfd-4da4-8944-0c3312e470e7').text('ETA:  0:00:06');"
       ],
       "metadata": {},
       "output_type": "display_data",
       "text": [
        "<IPython.core.display.Javascript at 0x8e578ef0>"
       ]
      },
      {
       "javascript": [
        "$('div#77cc8e23-54eb-4c4c-ab47-9feb3d4e413e').text('9 of 98');"
       ],
       "metadata": {},
       "output_type": "display_data",
       "text": [
        "<IPython.core.display.Javascript at 0x8e578400>"
       ]
      },
      {
       "javascript": [
        "$('div#31840dfe-65d4-4706-9b2c-0fb7948229c8').text('  9%');"
       ],
       "metadata": {},
       "output_type": "display_data",
       "text": [
        "<IPython.core.display.Javascript at 0x8e5787f0>"
       ]
      },
      {
       "javascript": [
        "\n",
        "        var $myPB = $(\"div#b8acbf43-e78c-48b0-a02b-f0d2e7d0e8a6\")\n",
        "        if ($myPB.hasClass('ui-progressbar')) {\n",
        "            $myPB.progressbar('value', 9);\n",
        "        } else {\n",
        "            $myPB.progressbar({value: 0, max: 98});\n",
        "        }\n",
        "        "
       ],
       "metadata": {},
       "output_type": "display_data",
       "text": [
        "<IPython.core.display.Javascript at 0x8e578128>"
       ]
      },
      {
       "javascript": [
        "$('div#933ae1fe-acfd-4da4-8944-0c3312e470e7').text('ETA:  0:00:05');"
       ],
       "metadata": {},
       "output_type": "display_data",
       "text": [
        "<IPython.core.display.Javascript at 0x8e578550>"
       ]
      },
      {
       "javascript": [
        "$('div#77cc8e23-54eb-4c4c-ab47-9feb3d4e413e').text('10 of 98');"
       ],
       "metadata": {},
       "output_type": "display_data",
       "text": [
        "<IPython.core.display.Javascript at 0x88d4aa58>"
       ]
      },
      {
       "javascript": [
        "$('div#31840dfe-65d4-4706-9b2c-0fb7948229c8').text(' 10%');"
       ],
       "metadata": {},
       "output_type": "display_data",
       "text": [
        "<IPython.core.display.Javascript at 0x88d4abe0>"
       ]
      },
      {
       "javascript": [
        "\n",
        "        var $myPB = $(\"div#b8acbf43-e78c-48b0-a02b-f0d2e7d0e8a6\")\n",
        "        if ($myPB.hasClass('ui-progressbar')) {\n",
        "            $myPB.progressbar('value', 10);\n",
        "        } else {\n",
        "            $myPB.progressbar({value: 0, max: 98});\n",
        "        }\n",
        "        "
       ],
       "metadata": {},
       "output_type": "display_data",
       "text": [
        "<IPython.core.display.Javascript at 0x88d4a8d0>"
       ]
      },
      {
       "javascript": [
        "$('div#933ae1fe-acfd-4da4-8944-0c3312e470e7').text('ETA:  0:00:04');"
       ],
       "metadata": {},
       "output_type": "display_data",
       "text": [
        "<IPython.core.display.Javascript at 0x88d4a8d0>"
       ]
      },
      {
       "javascript": [
        "$('div#77cc8e23-54eb-4c4c-ab47-9feb3d4e413e').text('11 of 98');"
       ],
       "metadata": {},
       "output_type": "display_data",
       "text": [
        "<IPython.core.display.Javascript at 0x8d92c0f0>"
       ]
      },
      {
       "javascript": [
        "$('div#31840dfe-65d4-4706-9b2c-0fb7948229c8').text(' 11%');"
       ],
       "metadata": {},
       "output_type": "display_data",
       "text": [
        "<IPython.core.display.Javascript at 0x8d92c0f0>"
       ]
      },
      {
       "javascript": [
        "\n",
        "        var $myPB = $(\"div#b8acbf43-e78c-48b0-a02b-f0d2e7d0e8a6\")\n",
        "        if ($myPB.hasClass('ui-progressbar')) {\n",
        "            $myPB.progressbar('value', 11);\n",
        "        } else {\n",
        "            $myPB.progressbar({value: 0, max: 98});\n",
        "        }\n",
        "        "
       ],
       "metadata": {},
       "output_type": "display_data",
       "text": [
        "<IPython.core.display.Javascript at 0x8d92c748>"
       ]
      },
      {
       "javascript": [
        "$('div#933ae1fe-acfd-4da4-8944-0c3312e470e7').text('ETA:  0:00:04');"
       ],
       "metadata": {},
       "output_type": "display_data",
       "text": [
        "<IPython.core.display.Javascript at 0x8d92ceb8>"
       ]
      },
      {
       "javascript": [
        "$('div#77cc8e23-54eb-4c4c-ab47-9feb3d4e413e').text('12 of 98');"
       ],
       "metadata": {},
       "output_type": "display_data",
       "text": [
        "<IPython.core.display.Javascript at 0x8d92ccc0>"
       ]
      },
      {
       "javascript": [
        "$('div#31840dfe-65d4-4706-9b2c-0fb7948229c8').text(' 12%');"
       ],
       "metadata": {},
       "output_type": "display_data",
       "text": [
        "<IPython.core.display.Javascript at 0x8d92ccc0>"
       ]
      },
      {
       "javascript": [
        "\n",
        "        var $myPB = $(\"div#b8acbf43-e78c-48b0-a02b-f0d2e7d0e8a6\")\n",
        "        if ($myPB.hasClass('ui-progressbar')) {\n",
        "            $myPB.progressbar('value', 12);\n",
        "        } else {\n",
        "            $myPB.progressbar({value: 0, max: 98});\n",
        "        }\n",
        "        "
       ],
       "metadata": {},
       "output_type": "display_data",
       "text": [
        "<IPython.core.display.Javascript at 0x8d92c6d8>"
       ]
      },
      {
       "javascript": [
        "$('div#933ae1fe-acfd-4da4-8944-0c3312e470e7').text('ETA:  0:00:04');"
       ],
       "metadata": {},
       "output_type": "display_data",
       "text": [
        "<IPython.core.display.Javascript at 0x8d92c160>"
       ]
      },
      {
       "javascript": [
        "$('div#77cc8e23-54eb-4c4c-ab47-9feb3d4e413e').text('13 of 98');"
       ],
       "metadata": {},
       "output_type": "display_data",
       "text": [
        "<IPython.core.display.Javascript at 0x87c9a080>"
       ]
      },
      {
       "javascript": [
        "$('div#31840dfe-65d4-4706-9b2c-0fb7948229c8').text(' 13%');"
       ],
       "metadata": {},
       "output_type": "display_data",
       "text": [
        "<IPython.core.display.Javascript at 0x87c9af60>"
       ]
      },
      {
       "javascript": [
        "\n",
        "        var $myPB = $(\"div#b8acbf43-e78c-48b0-a02b-f0d2e7d0e8a6\")\n",
        "        if ($myPB.hasClass('ui-progressbar')) {\n",
        "            $myPB.progressbar('value', 13);\n",
        "        } else {\n",
        "            $myPB.progressbar({value: 0, max: 98});\n",
        "        }\n",
        "        "
       ],
       "metadata": {},
       "output_type": "display_data",
       "text": [
        "<IPython.core.display.Javascript at 0x87c9af60>"
       ]
      },
      {
       "javascript": [
        "$('div#933ae1fe-acfd-4da4-8944-0c3312e470e7').text('ETA:  0:00:04');"
       ],
       "metadata": {},
       "output_type": "display_data",
       "text": [
        "<IPython.core.display.Javascript at 0x87c9a780>"
       ]
      },
      {
       "javascript": [
        "$('div#77cc8e23-54eb-4c4c-ab47-9feb3d4e413e').text('14 of 98');"
       ],
       "metadata": {},
       "output_type": "display_data",
       "text": [
        "<IPython.core.display.Javascript at 0x87c9a2e8>"
       ]
      },
      {
       "javascript": [
        "$('div#31840dfe-65d4-4706-9b2c-0fb7948229c8').text(' 14%');"
       ],
       "metadata": {},
       "output_type": "display_data",
       "text": [
        "<IPython.core.display.Javascript at 0x87c9a748>"
       ]
      },
      {
       "javascript": [
        "\n",
        "        var $myPB = $(\"div#b8acbf43-e78c-48b0-a02b-f0d2e7d0e8a6\")\n",
        "        if ($myPB.hasClass('ui-progressbar')) {\n",
        "            $myPB.progressbar('value', 14);\n",
        "        } else {\n",
        "            $myPB.progressbar({value: 0, max: 98});\n",
        "        }\n",
        "        "
       ],
       "metadata": {},
       "output_type": "display_data",
       "text": [
        "<IPython.core.display.Javascript at 0x87c9a748>"
       ]
      },
      {
       "javascript": [
        "$('div#933ae1fe-acfd-4da4-8944-0c3312e470e7').text('ETA:  0:00:03');"
       ],
       "metadata": {},
       "output_type": "display_data",
       "text": [
        "<IPython.core.display.Javascript at 0x87c9aa20>"
       ]
      },
      {
       "javascript": [
        "$('div#77cc8e23-54eb-4c4c-ab47-9feb3d4e413e').text('15 of 98');"
       ],
       "metadata": {},
       "output_type": "display_data",
       "text": [
        "<IPython.core.display.Javascript at 0x879c6be0>"
       ]
      },
      {
       "javascript": [
        "$('div#31840dfe-65d4-4706-9b2c-0fb7948229c8').text(' 15%');"
       ],
       "metadata": {},
       "output_type": "display_data",
       "text": [
        "<IPython.core.display.Javascript at 0x879c6390>"
       ]
      },
      {
       "javascript": [
        "\n",
        "        var $myPB = $(\"div#b8acbf43-e78c-48b0-a02b-f0d2e7d0e8a6\")\n",
        "        if ($myPB.hasClass('ui-progressbar')) {\n",
        "            $myPB.progressbar('value', 15);\n",
        "        } else {\n",
        "            $myPB.progressbar({value: 0, max: 98});\n",
        "        }\n",
        "        "
       ],
       "metadata": {},
       "output_type": "display_data",
       "text": [
        "<IPython.core.display.Javascript at 0x879c6940>"
       ]
      },
      {
       "javascript": [
        "$('div#933ae1fe-acfd-4da4-8944-0c3312e470e7').text('ETA:  0:00:03');"
       ],
       "metadata": {},
       "output_type": "display_data",
       "text": [
        "<IPython.core.display.Javascript at 0x879c6940>"
       ]
      },
      {
       "javascript": [
        "$('div#77cc8e23-54eb-4c4c-ab47-9feb3d4e413e').text('16 of 98');"
       ],
       "metadata": {},
       "output_type": "display_data",
       "text": [
        "<IPython.core.display.Javascript at 0x879c6ef0>"
       ]
      },
      {
       "javascript": [
        "$('div#31840dfe-65d4-4706-9b2c-0fb7948229c8').text(' 16%');"
       ],
       "metadata": {},
       "output_type": "display_data",
       "text": [
        "<IPython.core.display.Javascript at 0x879c65c0>"
       ]
      },
      {
       "javascript": [
        "\n",
        "        var $myPB = $(\"div#b8acbf43-e78c-48b0-a02b-f0d2e7d0e8a6\")\n",
        "        if ($myPB.hasClass('ui-progressbar')) {\n",
        "            $myPB.progressbar('value', 16);\n",
        "        } else {\n",
        "            $myPB.progressbar({value: 0, max: 98});\n",
        "        }\n",
        "        "
       ],
       "metadata": {},
       "output_type": "display_data",
       "text": [
        "<IPython.core.display.Javascript at 0x879c65c0>"
       ]
      },
      {
       "javascript": [
        "$('div#933ae1fe-acfd-4da4-8944-0c3312e470e7').text('ETA:  0:00:03');"
       ],
       "metadata": {},
       "output_type": "display_data",
       "text": [
        "<IPython.core.display.Javascript at 0x879c6668>"
       ]
      },
      {
       "javascript": [
        "$('div#77cc8e23-54eb-4c4c-ab47-9feb3d4e413e').text('17 of 98');"
       ],
       "metadata": {},
       "output_type": "display_data",
       "text": [
        "<IPython.core.display.Javascript at 0x8f56ba90>"
       ]
      },
      {
       "javascript": [
        "$('div#31840dfe-65d4-4706-9b2c-0fb7948229c8').text(' 17%');"
       ],
       "metadata": {},
       "output_type": "display_data",
       "text": [
        "<IPython.core.display.Javascript at 0x8f56b3c8>"
       ]
      },
      {
       "javascript": [
        "\n",
        "        var $myPB = $(\"div#b8acbf43-e78c-48b0-a02b-f0d2e7d0e8a6\")\n",
        "        if ($myPB.hasClass('ui-progressbar')) {\n",
        "            $myPB.progressbar('value', 17);\n",
        "        } else {\n",
        "            $myPB.progressbar({value: 0, max: 98});\n",
        "        }\n",
        "        "
       ],
       "metadata": {},
       "output_type": "display_data",
       "text": [
        "<IPython.core.display.Javascript at 0x8f56b3c8>"
       ]
      },
      {
       "javascript": [
        "$('div#933ae1fe-acfd-4da4-8944-0c3312e470e7').text('ETA:  0:00:03');"
       ],
       "metadata": {},
       "output_type": "display_data",
       "text": [
        "<IPython.core.display.Javascript at 0x8f56bda0>"
       ]
      },
      {
       "javascript": [
        "$('div#77cc8e23-54eb-4c4c-ab47-9feb3d4e413e').text('18 of 98');"
       ],
       "metadata": {},
       "output_type": "display_data",
       "text": [
        "<IPython.core.display.Javascript at 0x8f56b470>"
       ]
      },
      {
       "javascript": [
        "$('div#31840dfe-65d4-4706-9b2c-0fb7948229c8').text(' 18%');"
       ],
       "metadata": {},
       "output_type": "display_data",
       "text": [
        "<IPython.core.display.Javascript at 0x8f56b438>"
       ]
      },
      {
       "javascript": [
        "\n",
        "        var $myPB = $(\"div#b8acbf43-e78c-48b0-a02b-f0d2e7d0e8a6\")\n",
        "        if ($myPB.hasClass('ui-progressbar')) {\n",
        "            $myPB.progressbar('value', 18);\n",
        "        } else {\n",
        "            $myPB.progressbar({value: 0, max: 98});\n",
        "        }\n",
        "        "
       ],
       "metadata": {},
       "output_type": "display_data",
       "text": [
        "<IPython.core.display.Javascript at 0x8f56b438>"
       ]
      },
      {
       "javascript": [
        "$('div#933ae1fe-acfd-4da4-8944-0c3312e470e7').text('ETA:  0:00:03');"
       ],
       "metadata": {},
       "output_type": "display_data",
       "text": [
        "<IPython.core.display.Javascript at 0x8f56bc88>"
       ]
      },
      {
       "javascript": [
        "$('div#77cc8e23-54eb-4c4c-ab47-9feb3d4e413e').text('19 of 98');"
       ],
       "metadata": {},
       "output_type": "display_data",
       "text": [
        "<IPython.core.display.Javascript at 0x8a718080>"
       ]
      },
      {
       "javascript": [
        "$('div#31840dfe-65d4-4706-9b2c-0fb7948229c8').text(' 19%');"
       ],
       "metadata": {},
       "output_type": "display_data",
       "text": [
        "<IPython.core.display.Javascript at 0x8a718080>"
       ]
      },
      {
       "javascript": [
        "\n",
        "        var $myPB = $(\"div#b8acbf43-e78c-48b0-a02b-f0d2e7d0e8a6\")\n",
        "        if ($myPB.hasClass('ui-progressbar')) {\n",
        "            $myPB.progressbar('value', 19);\n",
        "        } else {\n",
        "            $myPB.progressbar({value: 0, max: 98});\n",
        "        }\n",
        "        "
       ],
       "metadata": {},
       "output_type": "display_data",
       "text": [
        "<IPython.core.display.Javascript at 0x8a7185f8>"
       ]
      },
      {
       "javascript": [
        "$('div#933ae1fe-acfd-4da4-8944-0c3312e470e7').text('ETA:  0:00:03');"
       ],
       "metadata": {},
       "output_type": "display_data",
       "text": [
        "<IPython.core.display.Javascript at 0x8a718128>"
       ]
      },
      {
       "javascript": [
        "$('div#77cc8e23-54eb-4c4c-ab47-9feb3d4e413e').text('20 of 98');"
       ],
       "metadata": {},
       "output_type": "display_data",
       "text": [
        "<IPython.core.display.Javascript at 0x8a718c50>"
       ]
      },
      {
       "javascript": [
        "$('div#31840dfe-65d4-4706-9b2c-0fb7948229c8').text(' 20%');"
       ],
       "metadata": {},
       "output_type": "display_data",
       "text": [
        "<IPython.core.display.Javascript at 0x8a7181d0>"
       ]
      },
      {
       "javascript": [
        "\n",
        "        var $myPB = $(\"div#b8acbf43-e78c-48b0-a02b-f0d2e7d0e8a6\")\n",
        "        if ($myPB.hasClass('ui-progressbar')) {\n",
        "            $myPB.progressbar('value', 20);\n",
        "        } else {\n",
        "            $myPB.progressbar({value: 0, max: 98});\n",
        "        }\n",
        "        "
       ],
       "metadata": {},
       "output_type": "display_data",
       "text": [
        "<IPython.core.display.Javascript at 0x8a7180f0>"
       ]
      },
      {
       "javascript": [
        "$('div#933ae1fe-acfd-4da4-8944-0c3312e470e7').text('ETA:  0:00:03');"
       ],
       "metadata": {},
       "output_type": "display_data",
       "text": [
        "<IPython.core.display.Javascript at 0x8a718278>"
       ]
      },
      {
       "javascript": [
        "$('div#77cc8e23-54eb-4c4c-ab47-9feb3d4e413e').text('21 of 98');"
       ],
       "metadata": {},
       "output_type": "display_data",
       "text": [
        "<IPython.core.display.Javascript at 0x88ccbf60>"
       ]
      },
      {
       "javascript": [
        "$('div#31840dfe-65d4-4706-9b2c-0fb7948229c8').text(' 21%');"
       ],
       "metadata": {},
       "output_type": "display_data",
       "text": [
        "<IPython.core.display.Javascript at 0x88ccb2b0>"
       ]
      },
      {
       "javascript": [
        "\n",
        "        var $myPB = $(\"div#b8acbf43-e78c-48b0-a02b-f0d2e7d0e8a6\")\n",
        "        if ($myPB.hasClass('ui-progressbar')) {\n",
        "            $myPB.progressbar('value', 21);\n",
        "        } else {\n",
        "            $myPB.progressbar({value: 0, max: 98});\n",
        "        }\n",
        "        "
       ],
       "metadata": {},
       "output_type": "display_data",
       "text": [
        "<IPython.core.display.Javascript at 0x88ccb2b0>"
       ]
      },
      {
       "javascript": [
        "$('div#933ae1fe-acfd-4da4-8944-0c3312e470e7').text('ETA:  0:00:03');"
       ],
       "metadata": {},
       "output_type": "display_data",
       "text": [
        "<IPython.core.display.Javascript at 0x88ccbb70>"
       ]
      },
      {
       "javascript": [
        "$('div#77cc8e23-54eb-4c4c-ab47-9feb3d4e413e').text('22 of 98');"
       ],
       "metadata": {},
       "output_type": "display_data",
       "text": [
        "<IPython.core.display.Javascript at 0x8c7380f0>"
       ]
      },
      {
       "javascript": [
        "$('div#31840dfe-65d4-4706-9b2c-0fb7948229c8').text(' 22%');"
       ],
       "metadata": {},
       "output_type": "display_data",
       "text": [
        "<IPython.core.display.Javascript at 0x8c738358>"
       ]
      },
      {
       "javascript": [
        "\n",
        "        var $myPB = $(\"div#b8acbf43-e78c-48b0-a02b-f0d2e7d0e8a6\")\n",
        "        if ($myPB.hasClass('ui-progressbar')) {\n",
        "            $myPB.progressbar('value', 22);\n",
        "        } else {\n",
        "            $myPB.progressbar({value: 0, max: 98});\n",
        "        }\n",
        "        "
       ],
       "metadata": {},
       "output_type": "display_data",
       "text": [
        "<IPython.core.display.Javascript at 0x8c7389b0>"
       ]
      },
      {
       "javascript": [
        "$('div#933ae1fe-acfd-4da4-8944-0c3312e470e7').text('ETA:  0:00:02');"
       ],
       "metadata": {},
       "output_type": "display_data",
       "text": [
        "<IPython.core.display.Javascript at 0x8c7389b0>"
       ]
      },
      {
       "javascript": [
        "$('div#77cc8e23-54eb-4c4c-ab47-9feb3d4e413e').text('23 of 98');"
       ],
       "metadata": {},
       "output_type": "display_data",
       "text": [
        "<IPython.core.display.Javascript at 0x8c7385c0>"
       ]
      },
      {
       "javascript": [
        "$('div#31840dfe-65d4-4706-9b2c-0fb7948229c8').text(' 23%');"
       ],
       "metadata": {},
       "output_type": "display_data",
       "text": [
        "<IPython.core.display.Javascript at 0x8c738eb8>"
       ]
      },
      {
       "javascript": [
        "\n",
        "        var $myPB = $(\"div#b8acbf43-e78c-48b0-a02b-f0d2e7d0e8a6\")\n",
        "        if ($myPB.hasClass('ui-progressbar')) {\n",
        "            $myPB.progressbar('value', 23);\n",
        "        } else {\n",
        "            $myPB.progressbar({value: 0, max: 98});\n",
        "        }\n",
        "        "
       ],
       "metadata": {},
       "output_type": "display_data",
       "text": [
        "<IPython.core.display.Javascript at 0x8c738eb8>"
       ]
      },
      {
       "javascript": [
        "$('div#933ae1fe-acfd-4da4-8944-0c3312e470e7').text('ETA:  0:00:02');"
       ],
       "metadata": {},
       "output_type": "display_data",
       "text": [
        "<IPython.core.display.Javascript at 0x8c738390>"
       ]
      },
      {
       "javascript": [
        "$('div#77cc8e23-54eb-4c4c-ab47-9feb3d4e413e').text('24 of 98');"
       ],
       "metadata": {},
       "output_type": "display_data",
       "text": [
        "<IPython.core.display.Javascript at 0x8f8e2fd0>"
       ]
      },
      {
       "javascript": [
        "$('div#31840dfe-65d4-4706-9b2c-0fb7948229c8').text(' 24%');"
       ],
       "metadata": {},
       "output_type": "display_data",
       "text": [
        "<IPython.core.display.Javascript at 0x8f8e2358>"
       ]
      },
      {
       "javascript": [
        "\n",
        "        var $myPB = $(\"div#b8acbf43-e78c-48b0-a02b-f0d2e7d0e8a6\")\n",
        "        if ($myPB.hasClass('ui-progressbar')) {\n",
        "            $myPB.progressbar('value', 24);\n",
        "        } else {\n",
        "            $myPB.progressbar({value: 0, max: 98});\n",
        "        }\n",
        "        "
       ],
       "metadata": {},
       "output_type": "display_data",
       "text": [
        "<IPython.core.display.Javascript at 0x8f8e2a20>"
       ]
      },
      {
       "javascript": [
        "$('div#933ae1fe-acfd-4da4-8944-0c3312e470e7').text('ETA:  0:00:03');"
       ],
       "metadata": {},
       "output_type": "display_data",
       "text": [
        "<IPython.core.display.Javascript at 0x8f8e2780>"
       ]
      },
      {
       "javascript": [
        "$('div#77cc8e23-54eb-4c4c-ab47-9feb3d4e413e').text('25 of 98');"
       ],
       "metadata": {},
       "output_type": "display_data",
       "text": [
        "<IPython.core.display.Javascript at 0x8a07d240>"
       ]
      },
      {
       "javascript": [
        "$('div#31840dfe-65d4-4706-9b2c-0fb7948229c8').text(' 25%');"
       ],
       "metadata": {},
       "output_type": "display_data",
       "text": [
        "<IPython.core.display.Javascript at 0x8a07d4e0>"
       ]
      },
      {
       "javascript": [
        "\n",
        "        var $myPB = $(\"div#b8acbf43-e78c-48b0-a02b-f0d2e7d0e8a6\")\n",
        "        if ($myPB.hasClass('ui-progressbar')) {\n",
        "            $myPB.progressbar('value', 25);\n",
        "        } else {\n",
        "            $myPB.progressbar({value: 0, max: 98});\n",
        "        }\n",
        "        "
       ],
       "metadata": {},
       "output_type": "display_data",
       "text": [
        "<IPython.core.display.Javascript at 0x8a07d128>"
       ]
      },
      {
       "javascript": [
        "$('div#933ae1fe-acfd-4da4-8944-0c3312e470e7').text('ETA:  0:00:03');"
       ],
       "metadata": {},
       "output_type": "display_data",
       "text": [
        "<IPython.core.display.Javascript at 0x8a07d7b8>"
       ]
      },
      {
       "javascript": [
        "$('div#77cc8e23-54eb-4c4c-ab47-9feb3d4e413e').text('26 of 98');"
       ],
       "metadata": {},
       "output_type": "display_data",
       "text": [
        "<IPython.core.display.Javascript at 0x8a07de48>"
       ]
      },
      {
       "javascript": [
        "$('div#31840dfe-65d4-4706-9b2c-0fb7948229c8').text(' 26%');"
       ],
       "metadata": {},
       "output_type": "display_data",
       "text": [
        "<IPython.core.display.Javascript at 0x8e00fda0>"
       ]
      },
      {
       "javascript": [
        "\n",
        "        var $myPB = $(\"div#b8acbf43-e78c-48b0-a02b-f0d2e7d0e8a6\")\n",
        "        if ($myPB.hasClass('ui-progressbar')) {\n",
        "            $myPB.progressbar('value', 26);\n",
        "        } else {\n",
        "            $myPB.progressbar({value: 0, max: 98});\n",
        "        }\n",
        "        "
       ],
       "metadata": {},
       "output_type": "display_data",
       "text": [
        "<IPython.core.display.Javascript at 0x8e00fd68>"
       ]
      },
      {
       "javascript": [
        "$('div#933ae1fe-acfd-4da4-8944-0c3312e470e7').text('ETA:  0:00:03');"
       ],
       "metadata": {},
       "output_type": "display_data",
       "text": [
        "<IPython.core.display.Javascript at 0x8e00f3c8>"
       ]
      },
      {
       "javascript": [
        "$('div#77cc8e23-54eb-4c4c-ab47-9feb3d4e413e').text('27 of 98');"
       ],
       "metadata": {},
       "output_type": "display_data",
       "text": [
        "<IPython.core.display.Javascript at 0x8e00fb00>"
       ]
      },
      {
       "javascript": [
        "$('div#31840dfe-65d4-4706-9b2c-0fb7948229c8').text(' 27%');"
       ],
       "metadata": {},
       "output_type": "display_data",
       "text": [
        "<IPython.core.display.Javascript at 0x8e00fe80>"
       ]
      },
      {
       "javascript": [
        "\n",
        "        var $myPB = $(\"div#b8acbf43-e78c-48b0-a02b-f0d2e7d0e8a6\")\n",
        "        if ($myPB.hasClass('ui-progressbar')) {\n",
        "            $myPB.progressbar('value', 27);\n",
        "        } else {\n",
        "            $myPB.progressbar({value: 0, max: 98});\n",
        "        }\n",
        "        "
       ],
       "metadata": {},
       "output_type": "display_data",
       "text": [
        "<IPython.core.display.Javascript at 0x8e00f518>"
       ]
      },
      {
       "javascript": [
        "$('div#933ae1fe-acfd-4da4-8944-0c3312e470e7').text('ETA:  0:00:03');"
       ],
       "metadata": {},
       "output_type": "display_data",
       "text": [
        "<IPython.core.display.Javascript at 0x8e00f518>"
       ]
      },
      {
       "javascript": [
        "$('div#77cc8e23-54eb-4c4c-ab47-9feb3d4e413e').text('28 of 98');"
       ],
       "metadata": {},
       "output_type": "display_data",
       "text": [
        "<IPython.core.display.Javascript at 0x8da8f1d0>"
       ]
      },
      {
       "javascript": [
        "$('div#31840dfe-65d4-4706-9b2c-0fb7948229c8').text(' 28%');"
       ],
       "metadata": {},
       "output_type": "display_data",
       "text": [
        "<IPython.core.display.Javascript at 0x8da8f198>"
       ]
      },
      {
       "javascript": [
        "\n",
        "        var $myPB = $(\"div#b8acbf43-e78c-48b0-a02b-f0d2e7d0e8a6\")\n",
        "        if ($myPB.hasClass('ui-progressbar')) {\n",
        "            $myPB.progressbar('value', 28);\n",
        "        } else {\n",
        "            $myPB.progressbar({value: 0, max: 98});\n",
        "        }\n",
        "        "
       ],
       "metadata": {},
       "output_type": "display_data",
       "text": [
        "<IPython.core.display.Javascript at 0x8da8f470>"
       ]
      },
      {
       "javascript": [
        "$('div#933ae1fe-acfd-4da4-8944-0c3312e470e7').text('ETA:  0:00:03');"
       ],
       "metadata": {},
       "output_type": "display_data",
       "text": [
        "<IPython.core.display.Javascript at 0x8da8f358>"
       ]
      },
      {
       "javascript": [
        "$('div#77cc8e23-54eb-4c4c-ab47-9feb3d4e413e').text('29 of 98');"
       ],
       "metadata": {},
       "output_type": "display_data",
       "text": [
        "<IPython.core.display.Javascript at 0x8da8f898>"
       ]
      },
      {
       "javascript": [
        "$('div#31840dfe-65d4-4706-9b2c-0fb7948229c8').text(' 29%');"
       ],
       "metadata": {},
       "output_type": "display_data",
       "text": [
        "<IPython.core.display.Javascript at 0x8da8f390>"
       ]
      },
      {
       "javascript": [
        "\n",
        "        var $myPB = $(\"div#b8acbf43-e78c-48b0-a02b-f0d2e7d0e8a6\")\n",
        "        if ($myPB.hasClass('ui-progressbar')) {\n",
        "            $myPB.progressbar('value', 29);\n",
        "        } else {\n",
        "            $myPB.progressbar({value: 0, max: 98});\n",
        "        }\n",
        "        "
       ],
       "metadata": {},
       "output_type": "display_data",
       "text": [
        "<IPython.core.display.Javascript at 0x8da8f0f0>"
       ]
      },
      {
       "javascript": [
        "$('div#933ae1fe-acfd-4da4-8944-0c3312e470e7').text('ETA:  0:00:03');"
       ],
       "metadata": {},
       "output_type": "display_data",
       "text": [
        "<IPython.core.display.Javascript at 0x8da8f0f0>"
       ]
      },
      {
       "javascript": [
        "$('div#77cc8e23-54eb-4c4c-ab47-9feb3d4e413e').text('30 of 98');"
       ],
       "metadata": {},
       "output_type": "display_data",
       "text": [
        "<IPython.core.display.Javascript at 0x8736ad68>"
       ]
      },
      {
       "javascript": [
        "$('div#31840dfe-65d4-4706-9b2c-0fb7948229c8').text(' 30%');"
       ],
       "metadata": {},
       "output_type": "display_data",
       "text": [
        "<IPython.core.display.Javascript at 0x8eade7b8>"
       ]
      },
      {
       "javascript": [
        "\n",
        "        var $myPB = $(\"div#b8acbf43-e78c-48b0-a02b-f0d2e7d0e8a6\")\n",
        "        if ($myPB.hasClass('ui-progressbar')) {\n",
        "            $myPB.progressbar('value', 30);\n",
        "        } else {\n",
        "            $myPB.progressbar({value: 0, max: 98});\n",
        "        }\n",
        "        "
       ],
       "metadata": {},
       "output_type": "display_data",
       "text": [
        "<IPython.core.display.Javascript at 0x8736ad68>"
       ]
      },
      {
       "javascript": [
        "$('div#933ae1fe-acfd-4da4-8944-0c3312e470e7').text('ETA:  0:00:03');"
       ],
       "metadata": {},
       "output_type": "display_data",
       "text": [
        "<IPython.core.display.Javascript at 0x8eade7b8>"
       ]
      },
      {
       "javascript": [
        "$('div#77cc8e23-54eb-4c4c-ab47-9feb3d4e413e').text('31 of 98');"
       ],
       "metadata": {},
       "output_type": "display_data",
       "text": [
        "<IPython.core.display.Javascript at 0x89d102e8>"
       ]
      },
      {
       "javascript": [
        "$('div#31840dfe-65d4-4706-9b2c-0fb7948229c8').text(' 31%');"
       ],
       "metadata": {},
       "output_type": "display_data",
       "text": [
        "<IPython.core.display.Javascript at 0x89d10630>"
       ]
      },
      {
       "javascript": [
        "\n",
        "        var $myPB = $(\"div#b8acbf43-e78c-48b0-a02b-f0d2e7d0e8a6\")\n",
        "        if ($myPB.hasClass('ui-progressbar')) {\n",
        "            $myPB.progressbar('value', 31);\n",
        "        } else {\n",
        "            $myPB.progressbar({value: 0, max: 98});\n",
        "        }\n",
        "        "
       ],
       "metadata": {},
       "output_type": "display_data",
       "text": [
        "<IPython.core.display.Javascript at 0x89d103c8>"
       ]
      },
      {
       "javascript": [
        "$('div#933ae1fe-acfd-4da4-8944-0c3312e470e7').text('ETA:  0:00:03');"
       ],
       "metadata": {},
       "output_type": "display_data",
       "text": [
        "<IPython.core.display.Javascript at 0x89d10d30>"
       ]
      },
      {
       "javascript": [
        "$('div#77cc8e23-54eb-4c4c-ab47-9feb3d4e413e').text('32 of 98');"
       ],
       "metadata": {},
       "output_type": "display_data",
       "text": [
        "<IPython.core.display.Javascript at 0x8de854a8>"
       ]
      },
      {
       "javascript": [
        "$('div#31840dfe-65d4-4706-9b2c-0fb7948229c8').text(' 32%');"
       ],
       "metadata": {},
       "output_type": "display_data",
       "text": [
        "<IPython.core.display.Javascript at 0x8de857b8>"
       ]
      },
      {
       "javascript": [
        "\n",
        "        var $myPB = $(\"div#b8acbf43-e78c-48b0-a02b-f0d2e7d0e8a6\")\n",
        "        if ($myPB.hasClass('ui-progressbar')) {\n",
        "            $myPB.progressbar('value', 32);\n",
        "        } else {\n",
        "            $myPB.progressbar({value: 0, max: 98});\n",
        "        }\n",
        "        "
       ],
       "metadata": {},
       "output_type": "display_data",
       "text": [
        "<IPython.core.display.Javascript at 0x8de857b8>"
       ]
      },
      {
       "javascript": [
        "$('div#933ae1fe-acfd-4da4-8944-0c3312e470e7').text('ETA:  0:00:03');"
       ],
       "metadata": {},
       "output_type": "display_data",
       "text": [
        "<IPython.core.display.Javascript at 0x8de856a0>"
       ]
      },
      {
       "javascript": [
        "$('div#77cc8e23-54eb-4c4c-ab47-9feb3d4e413e').text('33 of 98');"
       ],
       "metadata": {},
       "output_type": "display_data",
       "text": [
        "<IPython.core.display.Javascript at 0x8de85080>"
       ]
      },
      {
       "javascript": [
        "$('div#31840dfe-65d4-4706-9b2c-0fb7948229c8').text(' 33%');"
       ],
       "metadata": {},
       "output_type": "display_data",
       "text": [
        "<IPython.core.display.Javascript at 0x8de85630>"
       ]
      },
      {
       "javascript": [
        "\n",
        "        var $myPB = $(\"div#b8acbf43-e78c-48b0-a02b-f0d2e7d0e8a6\")\n",
        "        if ($myPB.hasClass('ui-progressbar')) {\n",
        "            $myPB.progressbar('value', 33);\n",
        "        } else {\n",
        "            $myPB.progressbar({value: 0, max: 98});\n",
        "        }\n",
        "        "
       ],
       "metadata": {},
       "output_type": "display_data",
       "text": [
        "<IPython.core.display.Javascript at 0x8de85240>"
       ]
      },
      {
       "javascript": [
        "$('div#933ae1fe-acfd-4da4-8944-0c3312e470e7').text('ETA:  0:00:03');"
       ],
       "metadata": {},
       "output_type": "display_data",
       "text": [
        "<IPython.core.display.Javascript at 0x8de85240>"
       ]
      },
      {
       "javascript": [
        "$('div#77cc8e23-54eb-4c4c-ab47-9feb3d4e413e').text('34 of 98');"
       ],
       "metadata": {},
       "output_type": "display_data",
       "text": [
        "<IPython.core.display.Javascript at 0x8de85b70>"
       ]
      },
      {
       "javascript": [
        "$('div#31840dfe-65d4-4706-9b2c-0fb7948229c8').text(' 34%');"
       ],
       "metadata": {},
       "output_type": "display_data",
       "text": [
        "<IPython.core.display.Javascript at 0x8de85048>"
       ]
      },
      {
       "javascript": [
        "\n",
        "        var $myPB = $(\"div#b8acbf43-e78c-48b0-a02b-f0d2e7d0e8a6\")\n",
        "        if ($myPB.hasClass('ui-progressbar')) {\n",
        "            $myPB.progressbar('value', 34);\n",
        "        } else {\n",
        "            $myPB.progressbar({value: 0, max: 98});\n",
        "        }\n",
        "        "
       ],
       "metadata": {},
       "output_type": "display_data",
       "text": [
        "<IPython.core.display.Javascript at 0x8de85048>"
       ]
      },
      {
       "javascript": [
        "$('div#933ae1fe-acfd-4da4-8944-0c3312e470e7').text('ETA:  0:00:03');"
       ],
       "metadata": {},
       "output_type": "display_data",
       "text": [
        "<IPython.core.display.Javascript at 0x8de85a58>"
       ]
      },
      {
       "javascript": [
        "$('div#77cc8e23-54eb-4c4c-ab47-9feb3d4e413e').text('35 of 98');"
       ],
       "metadata": {},
       "output_type": "display_data",
       "text": [
        "<IPython.core.display.Javascript at 0x8de85588>"
       ]
      },
      {
       "javascript": [
        "$('div#31840dfe-65d4-4706-9b2c-0fb7948229c8').text(' 35%');"
       ],
       "metadata": {},
       "output_type": "display_data",
       "text": [
        "<IPython.core.display.Javascript at 0x8a4d1160>"
       ]
      },
      {
       "javascript": [
        "\n",
        "        var $myPB = $(\"div#b8acbf43-e78c-48b0-a02b-f0d2e7d0e8a6\")\n",
        "        if ($myPB.hasClass('ui-progressbar')) {\n",
        "            $myPB.progressbar('value', 35);\n",
        "        } else {\n",
        "            $myPB.progressbar({value: 0, max: 98});\n",
        "        }\n",
        "        "
       ],
       "metadata": {},
       "output_type": "display_data",
       "text": [
        "<IPython.core.display.Javascript at 0x8a4d1eb8>"
       ]
      },
      {
       "javascript": [
        "$('div#933ae1fe-acfd-4da4-8944-0c3312e470e7').text('ETA:  0:00:02');"
       ],
       "metadata": {},
       "output_type": "display_data",
       "text": [
        "<IPython.core.display.Javascript at 0x8a4d1c88>"
       ]
      },
      {
       "javascript": [
        "$('div#77cc8e23-54eb-4c4c-ab47-9feb3d4e413e').text('36 of 98');"
       ],
       "metadata": {},
       "output_type": "display_data",
       "text": [
        "<IPython.core.display.Javascript at 0x8a4d1f60>"
       ]
      },
      {
       "javascript": [
        "$('div#31840dfe-65d4-4706-9b2c-0fb7948229c8').text(' 36%');"
       ],
       "metadata": {},
       "output_type": "display_data",
       "text": [
        "<IPython.core.display.Javascript at 0x8a4d1320>"
       ]
      },
      {
       "javascript": [
        "\n",
        "        var $myPB = $(\"div#b8acbf43-e78c-48b0-a02b-f0d2e7d0e8a6\")\n",
        "        if ($myPB.hasClass('ui-progressbar')) {\n",
        "            $myPB.progressbar('value', 36);\n",
        "        } else {\n",
        "            $myPB.progressbar({value: 0, max: 98});\n",
        "        }\n",
        "        "
       ],
       "metadata": {},
       "output_type": "display_data",
       "text": [
        "<IPython.core.display.Javascript at 0x8a4d1860>"
       ]
      },
      {
       "javascript": [
        "$('div#933ae1fe-acfd-4da4-8944-0c3312e470e7').text('ETA:  0:00:02');"
       ],
       "metadata": {},
       "output_type": "display_data",
       "text": [
        "<IPython.core.display.Javascript at 0x8a4d1d68>"
       ]
      },
      {
       "javascript": [
        "$('div#77cc8e23-54eb-4c4c-ab47-9feb3d4e413e').text('37 of 98');"
       ],
       "metadata": {},
       "output_type": "display_data",
       "text": [
        "<IPython.core.display.Javascript at 0x8e27e6d8>"
       ]
      },
      {
       "javascript": [
        "$('div#31840dfe-65d4-4706-9b2c-0fb7948229c8').text(' 37%');"
       ],
       "metadata": {},
       "output_type": "display_data",
       "text": [
        "<IPython.core.display.Javascript at 0x8e27eef0>"
       ]
      },
      {
       "javascript": [
        "\n",
        "        var $myPB = $(\"div#b8acbf43-e78c-48b0-a02b-f0d2e7d0e8a6\")\n",
        "        if ($myPB.hasClass('ui-progressbar')) {\n",
        "            $myPB.progressbar('value', 37);\n",
        "        } else {\n",
        "            $myPB.progressbar({value: 0, max: 98});\n",
        "        }\n",
        "        "
       ],
       "metadata": {},
       "output_type": "display_data",
       "text": [
        "<IPython.core.display.Javascript at 0x8e27e4e0>"
       ]
      },
      {
       "javascript": [
        "$('div#933ae1fe-acfd-4da4-8944-0c3312e470e7').text('ETA:  0:00:02');"
       ],
       "metadata": {},
       "output_type": "display_data",
       "text": [
        "<IPython.core.display.Javascript at 0x8e27e4e0>"
       ]
      },
      {
       "javascript": [
        "$('div#77cc8e23-54eb-4c4c-ab47-9feb3d4e413e').text('38 of 98');"
       ],
       "metadata": {},
       "output_type": "display_data",
       "text": [
        "<IPython.core.display.Javascript at 0x8e27e4e0>"
       ]
      },
      {
       "javascript": [
        "$('div#31840dfe-65d4-4706-9b2c-0fb7948229c8').text(' 38%');"
       ],
       "metadata": {},
       "output_type": "display_data",
       "text": [
        "<IPython.core.display.Javascript at 0x8e27e5c0>"
       ]
      },
      {
       "javascript": [
        "\n",
        "        var $myPB = $(\"div#b8acbf43-e78c-48b0-a02b-f0d2e7d0e8a6\")\n",
        "        if ($myPB.hasClass('ui-progressbar')) {\n",
        "            $myPB.progressbar('value', 38);\n",
        "        } else {\n",
        "            $myPB.progressbar({value: 0, max: 98});\n",
        "        }\n",
        "        "
       ],
       "metadata": {},
       "output_type": "display_data",
       "text": [
        "<IPython.core.display.Javascript at 0x8e27eeb8>"
       ]
      },
      {
       "javascript": [
        "$('div#933ae1fe-acfd-4da4-8944-0c3312e470e7').text('ETA:  0:00:02');"
       ],
       "metadata": {},
       "output_type": "display_data",
       "text": [
        "<IPython.core.display.Javascript at 0x8e27ed30>"
       ]
      },
      {
       "javascript": [
        "$('div#77cc8e23-54eb-4c4c-ab47-9feb3d4e413e').text('39 of 98');"
       ],
       "metadata": {},
       "output_type": "display_data",
       "text": [
        "<IPython.core.display.Javascript at 0x8e27eb70>"
       ]
      },
      {
       "javascript": [
        "$('div#31840dfe-65d4-4706-9b2c-0fb7948229c8').text(' 39%');"
       ],
       "metadata": {},
       "output_type": "display_data",
       "text": [
        "<IPython.core.display.Javascript at 0x8e27eba8>"
       ]
      },
      {
       "javascript": [
        "\n",
        "        var $myPB = $(\"div#b8acbf43-e78c-48b0-a02b-f0d2e7d0e8a6\")\n",
        "        if ($myPB.hasClass('ui-progressbar')) {\n",
        "            $myPB.progressbar('value', 39);\n",
        "        } else {\n",
        "            $myPB.progressbar({value: 0, max: 98});\n",
        "        }\n",
        "        "
       ],
       "metadata": {},
       "output_type": "display_data",
       "text": [
        "<IPython.core.display.Javascript at 0x8e27ef60>"
       ]
      },
      {
       "javascript": [
        "$('div#933ae1fe-acfd-4da4-8944-0c3312e470e7').text('ETA:  0:00:02');"
       ],
       "metadata": {},
       "output_type": "display_data",
       "text": [
        "<IPython.core.display.Javascript at 0x8e27e470>"
       ]
      },
      {
       "javascript": [
        "$('div#77cc8e23-54eb-4c4c-ab47-9feb3d4e413e').text('40 of 98');"
       ],
       "metadata": {},
       "output_type": "display_data",
       "text": [
        "<IPython.core.display.Javascript at 0x8cfb7cf8>"
       ]
      },
      {
       "javascript": [
        "$('div#31840dfe-65d4-4706-9b2c-0fb7948229c8').text(' 40%');"
       ],
       "metadata": {},
       "output_type": "display_data",
       "text": [
        "<IPython.core.display.Javascript at 0x8cfb77f0>"
       ]
      },
      {
       "javascript": [
        "\n",
        "        var $myPB = $(\"div#b8acbf43-e78c-48b0-a02b-f0d2e7d0e8a6\")\n",
        "        if ($myPB.hasClass('ui-progressbar')) {\n",
        "            $myPB.progressbar('value', 40);\n",
        "        } else {\n",
        "            $myPB.progressbar({value: 0, max: 98});\n",
        "        }\n",
        "        "
       ],
       "metadata": {},
       "output_type": "display_data",
       "text": [
        "<IPython.core.display.Javascript at 0x8cfb7a58>"
       ]
      },
      {
       "javascript": [
        "$('div#933ae1fe-acfd-4da4-8944-0c3312e470e7').text('ETA:  0:00:02');"
       ],
       "metadata": {},
       "output_type": "display_data",
       "text": [
        "<IPython.core.display.Javascript at 0x8cfb7748>"
       ]
      },
      {
       "javascript": [
        "$('div#77cc8e23-54eb-4c4c-ab47-9feb3d4e413e').text('41 of 98');"
       ],
       "metadata": {},
       "output_type": "display_data",
       "text": [
        "<IPython.core.display.Javascript at 0x8cfb7710>"
       ]
      },
      {
       "javascript": [
        "$('div#31840dfe-65d4-4706-9b2c-0fb7948229c8').text(' 41%');"
       ],
       "metadata": {},
       "output_type": "display_data",
       "text": [
        "<IPython.core.display.Javascript at 0x8cfb7c18>"
       ]
      },
      {
       "javascript": [
        "\n",
        "        var $myPB = $(\"div#b8acbf43-e78c-48b0-a02b-f0d2e7d0e8a6\")\n",
        "        if ($myPB.hasClass('ui-progressbar')) {\n",
        "            $myPB.progressbar('value', 41);\n",
        "        } else {\n",
        "            $myPB.progressbar({value: 0, max: 98});\n",
        "        }\n",
        "        "
       ],
       "metadata": {},
       "output_type": "display_data",
       "text": [
        "<IPython.core.display.Javascript at 0x8cfb7dd8>"
       ]
      },
      {
       "javascript": [
        "$('div#933ae1fe-acfd-4da4-8944-0c3312e470e7').text('ETA:  0:00:02');"
       ],
       "metadata": {},
       "output_type": "display_data",
       "text": [
        "<IPython.core.display.Javascript at 0x8cfb7438>"
       ]
      },
      {
       "javascript": [
        "$('div#77cc8e23-54eb-4c4c-ab47-9feb3d4e413e').text('42 of 98');"
       ],
       "metadata": {},
       "output_type": "display_data",
       "text": [
        "<IPython.core.display.Javascript at 0x8cfb7dd8>"
       ]
      },
      {
       "javascript": [
        "$('div#31840dfe-65d4-4706-9b2c-0fb7948229c8').text(' 42%');"
       ],
       "metadata": {},
       "output_type": "display_data",
       "text": [
        "<IPython.core.display.Javascript at 0x8cfb7c18>"
       ]
      },
      {
       "javascript": [
        "\n",
        "        var $myPB = $(\"div#b8acbf43-e78c-48b0-a02b-f0d2e7d0e8a6\")\n",
        "        if ($myPB.hasClass('ui-progressbar')) {\n",
        "            $myPB.progressbar('value', 42);\n",
        "        } else {\n",
        "            $myPB.progressbar({value: 0, max: 98});\n",
        "        }\n",
        "        "
       ],
       "metadata": {},
       "output_type": "display_data",
       "text": [
        "<IPython.core.display.Javascript at 0x8cfb7710>"
       ]
      },
      {
       "javascript": [
        "$('div#933ae1fe-acfd-4da4-8944-0c3312e470e7').text('ETA:  0:00:02');"
       ],
       "metadata": {},
       "output_type": "display_data",
       "text": [
        "<IPython.core.display.Javascript at 0x8cfb7710>"
       ]
      },
      {
       "javascript": [
        "$('div#77cc8e23-54eb-4c4c-ab47-9feb3d4e413e').text('43 of 98');"
       ],
       "metadata": {},
       "output_type": "display_data",
       "text": [
        "<IPython.core.display.Javascript at 0x8cd9ba20>"
       ]
      },
      {
       "javascript": [
        "$('div#31840dfe-65d4-4706-9b2c-0fb7948229c8').text(' 43%');"
       ],
       "metadata": {},
       "output_type": "display_data",
       "text": [
        "<IPython.core.display.Javascript at 0x8cd9bb70>"
       ]
      },
      {
       "javascript": [
        "\n",
        "        var $myPB = $(\"div#b8acbf43-e78c-48b0-a02b-f0d2e7d0e8a6\")\n",
        "        if ($myPB.hasClass('ui-progressbar')) {\n",
        "            $myPB.progressbar('value', 43);\n",
        "        } else {\n",
        "            $myPB.progressbar({value: 0, max: 98});\n",
        "        }\n",
        "        "
       ],
       "metadata": {},
       "output_type": "display_data",
       "text": [
        "<IPython.core.display.Javascript at 0x8cd9bf28>"
       ]
      },
      {
       "javascript": [
        "$('div#933ae1fe-acfd-4da4-8944-0c3312e470e7').text('ETA:  0:00:02');"
       ],
       "metadata": {},
       "output_type": "display_data",
       "text": [
        "<IPython.core.display.Javascript at 0x8cfb7710>"
       ]
      },
      {
       "javascript": [
        "$('div#77cc8e23-54eb-4c4c-ab47-9feb3d4e413e').text('44 of 98');"
       ],
       "metadata": {},
       "output_type": "display_data",
       "text": [
        "<IPython.core.display.Javascript at 0x8cd9b6d8>"
       ]
      },
      {
       "javascript": [
        "$('div#31840dfe-65d4-4706-9b2c-0fb7948229c8').text(' 44%');"
       ],
       "metadata": {},
       "output_type": "display_data",
       "text": [
        "<IPython.core.display.Javascript at 0x8cd9b8d0>"
       ]
      },
      {
       "javascript": [
        "\n",
        "        var $myPB = $(\"div#b8acbf43-e78c-48b0-a02b-f0d2e7d0e8a6\")\n",
        "        if ($myPB.hasClass('ui-progressbar')) {\n",
        "            $myPB.progressbar('value', 44);\n",
        "        } else {\n",
        "            $myPB.progressbar({value: 0, max: 98});\n",
        "        }\n",
        "        "
       ],
       "metadata": {},
       "output_type": "display_data",
       "text": [
        "<IPython.core.display.Javascript at 0x8cd9b2b0>"
       ]
      },
      {
       "javascript": [
        "$('div#933ae1fe-acfd-4da4-8944-0c3312e470e7').text('ETA:  0:00:02');"
       ],
       "metadata": {},
       "output_type": "display_data",
       "text": [
        "<IPython.core.display.Javascript at 0x8cfb7710>"
       ]
      },
      {
       "javascript": [
        "$('div#77cc8e23-54eb-4c4c-ab47-9feb3d4e413e').text('45 of 98');"
       ],
       "metadata": {},
       "output_type": "display_data",
       "text": [
        "<IPython.core.display.Javascript at 0x8cd9b208>"
       ]
      },
      {
       "javascript": [
        "$('div#31840dfe-65d4-4706-9b2c-0fb7948229c8').text(' 45%');"
       ],
       "metadata": {},
       "output_type": "display_data",
       "text": [
        "<IPython.core.display.Javascript at 0x8cfb7710>"
       ]
      },
      {
       "javascript": [
        "\n",
        "        var $myPB = $(\"div#b8acbf43-e78c-48b0-a02b-f0d2e7d0e8a6\")\n",
        "        if ($myPB.hasClass('ui-progressbar')) {\n",
        "            $myPB.progressbar('value', 45);\n",
        "        } else {\n",
        "            $myPB.progressbar({value: 0, max: 98});\n",
        "        }\n",
        "        "
       ],
       "metadata": {},
       "output_type": "display_data",
       "text": [
        "<IPython.core.display.Javascript at 0x8cd9b208>"
       ]
      },
      {
       "javascript": [
        "$('div#933ae1fe-acfd-4da4-8944-0c3312e470e7').text('ETA:  0:00:02');"
       ],
       "metadata": {},
       "output_type": "display_data",
       "text": [
        "<IPython.core.display.Javascript at 0x8cd9bbe0>"
       ]
      },
      {
       "javascript": [
        "$('div#77cc8e23-54eb-4c4c-ab47-9feb3d4e413e').text('46 of 98');"
       ],
       "metadata": {},
       "output_type": "display_data",
       "text": [
        "<IPython.core.display.Javascript at 0x8cd9b080>"
       ]
      },
      {
       "javascript": [
        "$('div#31840dfe-65d4-4706-9b2c-0fb7948229c8').text(' 46%');"
       ],
       "metadata": {},
       "output_type": "display_data",
       "text": [
        "<IPython.core.display.Javascript at 0x8cd9b3c8>"
       ]
      },
      {
       "javascript": [
        "\n",
        "        var $myPB = $(\"div#b8acbf43-e78c-48b0-a02b-f0d2e7d0e8a6\")\n",
        "        if ($myPB.hasClass('ui-progressbar')) {\n",
        "            $myPB.progressbar('value', 46);\n",
        "        } else {\n",
        "            $myPB.progressbar({value: 0, max: 98});\n",
        "        }\n",
        "        "
       ],
       "metadata": {},
       "output_type": "display_data",
       "text": [
        "<IPython.core.display.Javascript at 0x8cd9bcc0>"
       ]
      },
      {
       "javascript": [
        "$('div#933ae1fe-acfd-4da4-8944-0c3312e470e7').text('ETA:  0:00:02');"
       ],
       "metadata": {},
       "output_type": "display_data",
       "text": [
        "<IPython.core.display.Javascript at 0x8cd9b400>"
       ]
      },
      {
       "javascript": [
        "$('div#77cc8e23-54eb-4c4c-ab47-9feb3d4e413e').text('47 of 98');"
       ],
       "metadata": {},
       "output_type": "display_data",
       "text": [
        "<IPython.core.display.Javascript at 0x8f059c50>"
       ]
      },
      {
       "javascript": [
        "$('div#31840dfe-65d4-4706-9b2c-0fb7948229c8').text(' 47%');"
       ],
       "metadata": {},
       "output_type": "display_data",
       "text": [
        "<IPython.core.display.Javascript at 0x8f059c50>"
       ]
      },
      {
       "javascript": [
        "\n",
        "        var $myPB = $(\"div#b8acbf43-e78c-48b0-a02b-f0d2e7d0e8a6\")\n",
        "        if ($myPB.hasClass('ui-progressbar')) {\n",
        "            $myPB.progressbar('value', 47);\n",
        "        } else {\n",
        "            $myPB.progressbar({value: 0, max: 98});\n",
        "        }\n",
        "        "
       ],
       "metadata": {},
       "output_type": "display_data",
       "text": [
        "<IPython.core.display.Javascript at 0x8f0594e0>"
       ]
      },
      {
       "javascript": [
        "$('div#933ae1fe-acfd-4da4-8944-0c3312e470e7').text('ETA:  0:00:01');"
       ],
       "metadata": {},
       "output_type": "display_data",
       "text": [
        "<IPython.core.display.Javascript at 0x8f059cf8>"
       ]
      },
      {
       "javascript": [
        "$('div#77cc8e23-54eb-4c4c-ab47-9feb3d4e413e').text('48 of 98');"
       ],
       "metadata": {},
       "output_type": "display_data",
       "text": [
        "<IPython.core.display.Javascript at 0x8f059080>"
       ]
      },
      {
       "javascript": [
        "$('div#31840dfe-65d4-4706-9b2c-0fb7948229c8').text(' 48%');"
       ],
       "metadata": {},
       "output_type": "display_data",
       "text": [
        "<IPython.core.display.Javascript at 0x8f059518>"
       ]
      },
      {
       "javascript": [
        "\n",
        "        var $myPB = $(\"div#b8acbf43-e78c-48b0-a02b-f0d2e7d0e8a6\")\n",
        "        if ($myPB.hasClass('ui-progressbar')) {\n",
        "            $myPB.progressbar('value', 48);\n",
        "        } else {\n",
        "            $myPB.progressbar({value: 0, max: 98});\n",
        "        }\n",
        "        "
       ],
       "metadata": {},
       "output_type": "display_data",
       "text": [
        "<IPython.core.display.Javascript at 0x8f059438>"
       ]
      },
      {
       "javascript": [
        "$('div#933ae1fe-acfd-4da4-8944-0c3312e470e7').text('ETA:  0:00:01');"
       ],
       "metadata": {},
       "output_type": "display_data",
       "text": [
        "<IPython.core.display.Javascript at 0x8f059fd0>"
       ]
      },
      {
       "javascript": [
        "$('div#77cc8e23-54eb-4c4c-ab47-9feb3d4e413e').text('49 of 98');"
       ],
       "metadata": {},
       "output_type": "display_data",
       "text": [
        "<IPython.core.display.Javascript at 0x8f059358>"
       ]
      },
      {
       "javascript": [
        "$('div#31840dfe-65d4-4706-9b2c-0fb7948229c8').text(' 50%');"
       ],
       "metadata": {},
       "output_type": "display_data",
       "text": [
        "<IPython.core.display.Javascript at 0x8f059b70>"
       ]
      },
      {
       "javascript": [
        "\n",
        "        var $myPB = $(\"div#b8acbf43-e78c-48b0-a02b-f0d2e7d0e8a6\")\n",
        "        if ($myPB.hasClass('ui-progressbar')) {\n",
        "            $myPB.progressbar('value', 49);\n",
        "        } else {\n",
        "            $myPB.progressbar({value: 0, max: 98});\n",
        "        }\n",
        "        "
       ],
       "metadata": {},
       "output_type": "display_data",
       "text": [
        "<IPython.core.display.Javascript at 0x8f059b70>"
       ]
      },
      {
       "javascript": [
        "$('div#933ae1fe-acfd-4da4-8944-0c3312e470e7').text('ETA:  0:00:01');"
       ],
       "metadata": {},
       "output_type": "display_data",
       "text": [
        "<IPython.core.display.Javascript at 0x8f059898>"
       ]
      },
      {
       "javascript": [
        "$('div#77cc8e23-54eb-4c4c-ab47-9feb3d4e413e').text('50 of 98');"
       ],
       "metadata": {},
       "output_type": "display_data",
       "text": [
        "<IPython.core.display.Javascript at 0x8aba42b0>"
       ]
      },
      {
       "javascript": [
        "$('div#31840dfe-65d4-4706-9b2c-0fb7948229c8').text(' 51%');"
       ],
       "metadata": {},
       "output_type": "display_data",
       "text": [
        "<IPython.core.display.Javascript at 0x8aba4748>"
       ]
      },
      {
       "javascript": [
        "\n",
        "        var $myPB = $(\"div#b8acbf43-e78c-48b0-a02b-f0d2e7d0e8a6\")\n",
        "        if ($myPB.hasClass('ui-progressbar')) {\n",
        "            $myPB.progressbar('value', 50);\n",
        "        } else {\n",
        "            $myPB.progressbar({value: 0, max: 98});\n",
        "        }\n",
        "        "
       ],
       "metadata": {},
       "output_type": "display_data",
       "text": [
        "<IPython.core.display.Javascript at 0x8aba4a20>"
       ]
      },
      {
       "javascript": [
        "$('div#933ae1fe-acfd-4da4-8944-0c3312e470e7').text('ETA:  0:00:01');"
       ],
       "metadata": {},
       "output_type": "display_data",
       "text": [
        "<IPython.core.display.Javascript at 0x8aba4a20>"
       ]
      },
      {
       "javascript": [
        "$('div#77cc8e23-54eb-4c4c-ab47-9feb3d4e413e').text('51 of 98');"
       ],
       "metadata": {},
       "output_type": "display_data",
       "text": [
        "<IPython.core.display.Javascript at 0x8aba4400>"
       ]
      },
      {
       "javascript": [
        "$('div#31840dfe-65d4-4706-9b2c-0fb7948229c8').text(' 52%');"
       ],
       "metadata": {},
       "output_type": "display_data",
       "text": [
        "<IPython.core.display.Javascript at 0x8aba4400>"
       ]
      },
      {
       "javascript": [
        "\n",
        "        var $myPB = $(\"div#b8acbf43-e78c-48b0-a02b-f0d2e7d0e8a6\")\n",
        "        if ($myPB.hasClass('ui-progressbar')) {\n",
        "            $myPB.progressbar('value', 51);\n",
        "        } else {\n",
        "            $myPB.progressbar({value: 0, max: 98});\n",
        "        }\n",
        "        "
       ],
       "metadata": {},
       "output_type": "display_data",
       "text": [
        "<IPython.core.display.Javascript at 0x8e5a1978>"
       ]
      },
      {
       "javascript": [
        "$('div#933ae1fe-acfd-4da4-8944-0c3312e470e7').text('ETA:  0:00:01');"
       ],
       "metadata": {},
       "output_type": "display_data",
       "text": [
        "<IPython.core.display.Javascript at 0x8e5a1780>"
       ]
      },
      {
       "javascript": [
        "$('div#77cc8e23-54eb-4c4c-ab47-9feb3d4e413e').text('52 of 98');"
       ],
       "metadata": {},
       "output_type": "display_data",
       "text": [
        "<IPython.core.display.Javascript at 0x8a3c5358>"
       ]
      },
      {
       "javascript": [
        "$('div#31840dfe-65d4-4706-9b2c-0fb7948229c8').text(' 53%');"
       ],
       "metadata": {},
       "output_type": "display_data",
       "text": [
        "<IPython.core.display.Javascript at 0x8a3c5a20>"
       ]
      },
      {
       "javascript": [
        "\n",
        "        var $myPB = $(\"div#b8acbf43-e78c-48b0-a02b-f0d2e7d0e8a6\")\n",
        "        if ($myPB.hasClass('ui-progressbar')) {\n",
        "            $myPB.progressbar('value', 52);\n",
        "        } else {\n",
        "            $myPB.progressbar({value: 0, max: 98});\n",
        "        }\n",
        "        "
       ],
       "metadata": {},
       "output_type": "display_data",
       "text": [
        "<IPython.core.display.Javascript at 0x8a3c5438>"
       ]
      },
      {
       "javascript": [
        "$('div#933ae1fe-acfd-4da4-8944-0c3312e470e7').text('ETA:  0:00:01');"
       ],
       "metadata": {},
       "output_type": "display_data",
       "text": [
        "<IPython.core.display.Javascript at 0x8a3c5438>"
       ]
      },
      {
       "javascript": [
        "$('div#77cc8e23-54eb-4c4c-ab47-9feb3d4e413e').text('53 of 98');"
       ],
       "metadata": {},
       "output_type": "display_data",
       "text": [
        "<IPython.core.display.Javascript at 0x8ffcacf8>"
       ]
      },
      {
       "javascript": [
        "$('div#31840dfe-65d4-4706-9b2c-0fb7948229c8').text(' 54%');"
       ],
       "metadata": {},
       "output_type": "display_data",
       "text": [
        "<IPython.core.display.Javascript at 0x8ffcacf8>"
       ]
      },
      {
       "javascript": [
        "\n",
        "        var $myPB = $(\"div#b8acbf43-e78c-48b0-a02b-f0d2e7d0e8a6\")\n",
        "        if ($myPB.hasClass('ui-progressbar')) {\n",
        "            $myPB.progressbar('value', 53);\n",
        "        } else {\n",
        "            $myPB.progressbar({value: 0, max: 98});\n",
        "        }\n",
        "        "
       ],
       "metadata": {},
       "output_type": "display_data",
       "text": [
        "<IPython.core.display.Javascript at 0x8ffcacc0>"
       ]
      },
      {
       "javascript": [
        "$('div#933ae1fe-acfd-4da4-8944-0c3312e470e7').text('ETA:  0:00:01');"
       ],
       "metadata": {},
       "output_type": "display_data",
       "text": [
        "<IPython.core.display.Javascript at 0x8ffca518>"
       ]
      },
      {
       "javascript": [
        "$('div#77cc8e23-54eb-4c4c-ab47-9feb3d4e413e').text('54 of 98');"
       ],
       "metadata": {},
       "output_type": "display_data",
       "text": [
        "<IPython.core.display.Javascript at 0x8faa3da0>"
       ]
      },
      {
       "javascript": [
        "$('div#31840dfe-65d4-4706-9b2c-0fb7948229c8').text(' 55%');"
       ],
       "metadata": {},
       "output_type": "display_data",
       "text": [
        "<IPython.core.display.Javascript at 0x8faa30b8>"
       ]
      },
      {
       "javascript": [
        "\n",
        "        var $myPB = $(\"div#b8acbf43-e78c-48b0-a02b-f0d2e7d0e8a6\")\n",
        "        if ($myPB.hasClass('ui-progressbar')) {\n",
        "            $myPB.progressbar('value', 54);\n",
        "        } else {\n",
        "            $myPB.progressbar({value: 0, max: 98});\n",
        "        }\n",
        "        "
       ],
       "metadata": {},
       "output_type": "display_data",
       "text": [
        "<IPython.core.display.Javascript at 0x8faa3048>"
       ]
      },
      {
       "javascript": [
        "$('div#933ae1fe-acfd-4da4-8944-0c3312e470e7').text('ETA:  0:00:01');"
       ],
       "metadata": {},
       "output_type": "display_data",
       "text": [
        "<IPython.core.display.Javascript at 0x8faa3240>"
       ]
      },
      {
       "javascript": [
        "$('div#77cc8e23-54eb-4c4c-ab47-9feb3d4e413e').text('55 of 98');"
       ],
       "metadata": {},
       "output_type": "display_data",
       "text": [
        "<IPython.core.display.Javascript at 0x906586d8>"
       ]
      },
      {
       "javascript": [
        "$('div#31840dfe-65d4-4706-9b2c-0fb7948229c8').text(' 56%');"
       ],
       "metadata": {},
       "output_type": "display_data",
       "text": [
        "<IPython.core.display.Javascript at 0x90658518>"
       ]
      },
      {
       "javascript": [
        "\n",
        "        var $myPB = $(\"div#b8acbf43-e78c-48b0-a02b-f0d2e7d0e8a6\")\n",
        "        if ($myPB.hasClass('ui-progressbar')) {\n",
        "            $myPB.progressbar('value', 55);\n",
        "        } else {\n",
        "            $myPB.progressbar({value: 0, max: 98});\n",
        "        }\n",
        "        "
       ],
       "metadata": {},
       "output_type": "display_data",
       "text": [
        "<IPython.core.display.Javascript at 0x906582b0>"
       ]
      },
      {
       "javascript": [
        "$('div#933ae1fe-acfd-4da4-8944-0c3312e470e7').text('ETA:  0:00:01');"
       ],
       "metadata": {},
       "output_type": "display_data",
       "text": [
        "<IPython.core.display.Javascript at 0x90658da0>"
       ]
      },
      {
       "javascript": [
        "$('div#77cc8e23-54eb-4c4c-ab47-9feb3d4e413e').text('56 of 98');"
       ],
       "metadata": {},
       "output_type": "display_data",
       "text": [
        "<IPython.core.display.Javascript at 0x906588d0>"
       ]
      },
      {
       "javascript": [
        "$('div#31840dfe-65d4-4706-9b2c-0fb7948229c8').text(' 57%');"
       ],
       "metadata": {},
       "output_type": "display_data",
       "text": [
        "<IPython.core.display.Javascript at 0x90658908>"
       ]
      },
      {
       "javascript": [
        "\n",
        "        var $myPB = $(\"div#b8acbf43-e78c-48b0-a02b-f0d2e7d0e8a6\")\n",
        "        if ($myPB.hasClass('ui-progressbar')) {\n",
        "            $myPB.progressbar('value', 56);\n",
        "        } else {\n",
        "            $myPB.progressbar({value: 0, max: 98});\n",
        "        }\n",
        "        "
       ],
       "metadata": {},
       "output_type": "display_data",
       "text": [
        "<IPython.core.display.Javascript at 0x90658fd0>"
       ]
      },
      {
       "javascript": [
        "$('div#933ae1fe-acfd-4da4-8944-0c3312e470e7').text('ETA:  0:00:01');"
       ],
       "metadata": {},
       "output_type": "display_data",
       "text": [
        "<IPython.core.display.Javascript at 0x90658fd0>"
       ]
      },
      {
       "javascript": [
        "$('div#77cc8e23-54eb-4c4c-ab47-9feb3d4e413e').text('57 of 98');"
       ],
       "metadata": {},
       "output_type": "display_data",
       "text": [
        "<IPython.core.display.Javascript at 0x90658ac8>"
       ]
      },
      {
       "javascript": [
        "$('div#31840dfe-65d4-4706-9b2c-0fb7948229c8').text(' 58%');"
       ],
       "metadata": {},
       "output_type": "display_data",
       "text": [
        "<IPython.core.display.Javascript at 0x90658e80>"
       ]
      },
      {
       "javascript": [
        "\n",
        "        var $myPB = $(\"div#b8acbf43-e78c-48b0-a02b-f0d2e7d0e8a6\")\n",
        "        if ($myPB.hasClass('ui-progressbar')) {\n",
        "            $myPB.progressbar('value', 57);\n",
        "        } else {\n",
        "            $myPB.progressbar({value: 0, max: 98});\n",
        "        }\n",
        "        "
       ],
       "metadata": {},
       "output_type": "display_data",
       "text": [
        "<IPython.core.display.Javascript at 0x90658e80>"
       ]
      },
      {
       "javascript": [
        "$('div#933ae1fe-acfd-4da4-8944-0c3312e470e7').text('ETA:  0:00:01');"
       ],
       "metadata": {},
       "output_type": "display_data",
       "text": [
        "<IPython.core.display.Javascript at 0x90658b70>"
       ]
      },
      {
       "javascript": [
        "$('div#77cc8e23-54eb-4c4c-ab47-9feb3d4e413e').text('58 of 98');"
       ],
       "metadata": {},
       "output_type": "display_data",
       "text": [
        "<IPython.core.display.Javascript at 0x8eae9c18>"
       ]
      },
      {
       "javascript": [
        "$('div#31840dfe-65d4-4706-9b2c-0fb7948229c8').text(' 59%');"
       ],
       "metadata": {},
       "output_type": "display_data",
       "text": [
        "<IPython.core.display.Javascript at 0x8eae9c50>"
       ]
      },
      {
       "javascript": [
        "\n",
        "        var $myPB = $(\"div#b8acbf43-e78c-48b0-a02b-f0d2e7d0e8a6\")\n",
        "        if ($myPB.hasClass('ui-progressbar')) {\n",
        "            $myPB.progressbar('value', 58);\n",
        "        } else {\n",
        "            $myPB.progressbar({value: 0, max: 98});\n",
        "        }\n",
        "        "
       ],
       "metadata": {},
       "output_type": "display_data",
       "text": [
        "<IPython.core.display.Javascript at 0x8eae9278>"
       ]
      },
      {
       "javascript": [
        "$('div#933ae1fe-acfd-4da4-8944-0c3312e470e7').text('ETA:  0:00:01');"
       ],
       "metadata": {},
       "output_type": "display_data",
       "text": [
        "<IPython.core.display.Javascript at 0x8eae9278>"
       ]
      },
      {
       "javascript": [
        "$('div#77cc8e23-54eb-4c4c-ab47-9feb3d4e413e').text('59 of 98');"
       ],
       "metadata": {},
       "output_type": "display_data",
       "text": [
        "<IPython.core.display.Javascript at 0x8d9477f0>"
       ]
      },
      {
       "javascript": [
        "$('div#31840dfe-65d4-4706-9b2c-0fb7948229c8').text(' 60%');"
       ],
       "metadata": {},
       "output_type": "display_data",
       "text": [
        "<IPython.core.display.Javascript at 0x8d9470b8>"
       ]
      },
      {
       "javascript": [
        "\n",
        "        var $myPB = $(\"div#b8acbf43-e78c-48b0-a02b-f0d2e7d0e8a6\")\n",
        "        if ($myPB.hasClass('ui-progressbar')) {\n",
        "            $myPB.progressbar('value', 59);\n",
        "        } else {\n",
        "            $myPB.progressbar({value: 0, max: 98});\n",
        "        }\n",
        "        "
       ],
       "metadata": {},
       "output_type": "display_data",
       "text": [
        "<IPython.core.display.Javascript at 0x8d9470b8>"
       ]
      },
      {
       "javascript": [
        "$('div#933ae1fe-acfd-4da4-8944-0c3312e470e7').text('ETA:  0:00:01');"
       ],
       "metadata": {},
       "output_type": "display_data",
       "text": [
        "<IPython.core.display.Javascript at 0x8d947a20>"
       ]
      },
      {
       "javascript": [
        "$('div#77cc8e23-54eb-4c4c-ab47-9feb3d4e413e').text('60 of 98');"
       ],
       "metadata": {},
       "output_type": "display_data",
       "text": [
        "<IPython.core.display.Javascript at 0x8d9474e0>"
       ]
      },
      {
       "javascript": [
        "$('div#31840dfe-65d4-4706-9b2c-0fb7948229c8').text(' 61%');"
       ],
       "metadata": {},
       "output_type": "display_data",
       "text": [
        "<IPython.core.display.Javascript at 0x8d947a58>"
       ]
      },
      {
       "javascript": [
        "\n",
        "        var $myPB = $(\"div#b8acbf43-e78c-48b0-a02b-f0d2e7d0e8a6\")\n",
        "        if ($myPB.hasClass('ui-progressbar')) {\n",
        "            $myPB.progressbar('value', 60);\n",
        "        } else {\n",
        "            $myPB.progressbar({value: 0, max: 98});\n",
        "        }\n",
        "        "
       ],
       "metadata": {},
       "output_type": "display_data",
       "text": [
        "<IPython.core.display.Javascript at 0x8d947908>"
       ]
      },
      {
       "javascript": [
        "$('div#933ae1fe-acfd-4da4-8944-0c3312e470e7').text('ETA:  0:00:01');"
       ],
       "metadata": {},
       "output_type": "display_data",
       "text": [
        "<IPython.core.display.Javascript at 0x8d947e48>"
       ]
      },
      {
       "javascript": [
        "$('div#77cc8e23-54eb-4c4c-ab47-9feb3d4e413e').text('61 of 98');"
       ],
       "metadata": {},
       "output_type": "display_data",
       "text": [
        "<IPython.core.display.Javascript at 0x8a8b5cc0>"
       ]
      },
      {
       "javascript": [
        "$('div#31840dfe-65d4-4706-9b2c-0fb7948229c8').text(' 62%');"
       ],
       "metadata": {},
       "output_type": "display_data",
       "text": [
        "<IPython.core.display.Javascript at 0x8a8b5cc0>"
       ]
      },
      {
       "javascript": [
        "\n",
        "        var $myPB = $(\"div#b8acbf43-e78c-48b0-a02b-f0d2e7d0e8a6\")\n",
        "        if ($myPB.hasClass('ui-progressbar')) {\n",
        "            $myPB.progressbar('value', 61);\n",
        "        } else {\n",
        "            $myPB.progressbar({value: 0, max: 98});\n",
        "        }\n",
        "        "
       ],
       "metadata": {},
       "output_type": "display_data",
       "text": [
        "<IPython.core.display.Javascript at 0x8a8b5d68>"
       ]
      },
      {
       "javascript": [
        "$('div#933ae1fe-acfd-4da4-8944-0c3312e470e7').text('ETA:  0:00:01');"
       ],
       "metadata": {},
       "output_type": "display_data",
       "text": [
        "<IPython.core.display.Javascript at 0x8a8b5518>"
       ]
      },
      {
       "javascript": [
        "$('div#77cc8e23-54eb-4c4c-ab47-9feb3d4e413e').text('62 of 98');"
       ],
       "metadata": {},
       "output_type": "display_data",
       "text": [
        "<IPython.core.display.Javascript at 0x87c105c0>"
       ]
      },
      {
       "javascript": [
        "$('div#31840dfe-65d4-4706-9b2c-0fb7948229c8').text(' 63%');"
       ],
       "metadata": {},
       "output_type": "display_data",
       "text": [
        "<IPython.core.display.Javascript at 0x87c107b8>"
       ]
      },
      {
       "javascript": [
        "\n",
        "        var $myPB = $(\"div#b8acbf43-e78c-48b0-a02b-f0d2e7d0e8a6\")\n",
        "        if ($myPB.hasClass('ui-progressbar')) {\n",
        "            $myPB.progressbar('value', 62);\n",
        "        } else {\n",
        "            $myPB.progressbar({value: 0, max: 98});\n",
        "        }\n",
        "        "
       ],
       "metadata": {},
       "output_type": "display_data",
       "text": [
        "<IPython.core.display.Javascript at 0x87c107b8>"
       ]
      },
      {
       "javascript": [
        "$('div#933ae1fe-acfd-4da4-8944-0c3312e470e7').text('ETA:  0:00:01');"
       ],
       "metadata": {},
       "output_type": "display_data",
       "text": [
        "<IPython.core.display.Javascript at 0x87c107f0>"
       ]
      },
      {
       "javascript": [
        "$('div#77cc8e23-54eb-4c4c-ab47-9feb3d4e413e').text('63 of 98');"
       ],
       "metadata": {},
       "output_type": "display_data",
       "text": [
        "<IPython.core.display.Javascript at 0x8b83a5f8>"
       ]
      },
      {
       "javascript": [
        "$('div#31840dfe-65d4-4706-9b2c-0fb7948229c8').text(' 64%');"
       ],
       "metadata": {},
       "output_type": "display_data",
       "text": [
        "<IPython.core.display.Javascript at 0x8b83a780>"
       ]
      },
      {
       "javascript": [
        "\n",
        "        var $myPB = $(\"div#b8acbf43-e78c-48b0-a02b-f0d2e7d0e8a6\")\n",
        "        if ($myPB.hasClass('ui-progressbar')) {\n",
        "            $myPB.progressbar('value', 63);\n",
        "        } else {\n",
        "            $myPB.progressbar({value: 0, max: 98});\n",
        "        }\n",
        "        "
       ],
       "metadata": {},
       "output_type": "display_data",
       "text": [
        "<IPython.core.display.Javascript at 0x8b83af28>"
       ]
      },
      {
       "javascript": [
        "$('div#933ae1fe-acfd-4da4-8944-0c3312e470e7').text('ETA:  0:00:01');"
       ],
       "metadata": {},
       "output_type": "display_data",
       "text": [
        "<IPython.core.display.Javascript at 0x8b83af28>"
       ]
      },
      {
       "javascript": [
        "$('div#77cc8e23-54eb-4c4c-ab47-9feb3d4e413e').text('64 of 98');"
       ],
       "metadata": {},
       "output_type": "display_data",
       "text": [
        "<IPython.core.display.Javascript at 0x8f9b9cc0>"
       ]
      },
      {
       "javascript": [
        "$('div#31840dfe-65d4-4706-9b2c-0fb7948229c8').text(' 65%');"
       ],
       "metadata": {},
       "output_type": "display_data",
       "text": [
        "<IPython.core.display.Javascript at 0x8f9b9198>"
       ]
      },
      {
       "javascript": [
        "\n",
        "        var $myPB = $(\"div#b8acbf43-e78c-48b0-a02b-f0d2e7d0e8a6\")\n",
        "        if ($myPB.hasClass('ui-progressbar')) {\n",
        "            $myPB.progressbar('value', 64);\n",
        "        } else {\n",
        "            $myPB.progressbar({value: 0, max: 98});\n",
        "        }\n",
        "        "
       ],
       "metadata": {},
       "output_type": "display_data",
       "text": [
        "<IPython.core.display.Javascript at 0x8f9b92e8>"
       ]
      },
      {
       "javascript": [
        "$('div#933ae1fe-acfd-4da4-8944-0c3312e470e7').text('ETA:  0:00:01');"
       ],
       "metadata": {},
       "output_type": "display_data",
       "text": [
        "<IPython.core.display.Javascript at 0x8f9b90b8>"
       ]
      },
      {
       "javascript": [
        "$('div#77cc8e23-54eb-4c4c-ab47-9feb3d4e413e').text('65 of 98');"
       ],
       "metadata": {},
       "output_type": "display_data",
       "text": [
        "<IPython.core.display.Javascript at 0x89f354a8>"
       ]
      },
      {
       "javascript": [
        "$('div#31840dfe-65d4-4706-9b2c-0fb7948229c8').text(' 66%');"
       ],
       "metadata": {},
       "output_type": "display_data",
       "text": [
        "<IPython.core.display.Javascript at 0x89f35a20>"
       ]
      },
      {
       "javascript": [
        "\n",
        "        var $myPB = $(\"div#b8acbf43-e78c-48b0-a02b-f0d2e7d0e8a6\")\n",
        "        if ($myPB.hasClass('ui-progressbar')) {\n",
        "            $myPB.progressbar('value', 65);\n",
        "        } else {\n",
        "            $myPB.progressbar({value: 0, max: 98});\n",
        "        }\n",
        "        "
       ],
       "metadata": {},
       "output_type": "display_data",
       "text": [
        "<IPython.core.display.Javascript at 0x89f357f0>"
       ]
      },
      {
       "javascript": [
        "$('div#933ae1fe-acfd-4da4-8944-0c3312e470e7').text('ETA:  0:00:01');"
       ],
       "metadata": {},
       "output_type": "display_data",
       "text": [
        "<IPython.core.display.Javascript at 0x89f35a90>"
       ]
      },
      {
       "javascript": [
        "$('div#77cc8e23-54eb-4c4c-ab47-9feb3d4e413e').text('66 of 98');"
       ],
       "metadata": {},
       "output_type": "display_data",
       "text": [
        "<IPython.core.display.Javascript at 0x87d95630>"
       ]
      },
      {
       "javascript": [
        "$('div#31840dfe-65d4-4706-9b2c-0fb7948229c8').text(' 67%');"
       ],
       "metadata": {},
       "output_type": "display_data",
       "text": [
        "<IPython.core.display.Javascript at 0x87d955f8>"
       ]
      },
      {
       "javascript": [
        "\n",
        "        var $myPB = $(\"div#b8acbf43-e78c-48b0-a02b-f0d2e7d0e8a6\")\n",
        "        if ($myPB.hasClass('ui-progressbar')) {\n",
        "            $myPB.progressbar('value', 66);\n",
        "        } else {\n",
        "            $myPB.progressbar({value: 0, max: 98});\n",
        "        }\n",
        "        "
       ],
       "metadata": {},
       "output_type": "display_data",
       "text": [
        "<IPython.core.display.Javascript at 0x87d95208>"
       ]
      },
      {
       "javascript": [
        "$('div#933ae1fe-acfd-4da4-8944-0c3312e470e7').text('ETA:  0:00:01');"
       ],
       "metadata": {},
       "output_type": "display_data",
       "text": [
        "<IPython.core.display.Javascript at 0x87d95048>"
       ]
      },
      {
       "javascript": [
        "$('div#77cc8e23-54eb-4c4c-ab47-9feb3d4e413e').text('67 of 98');"
       ],
       "metadata": {},
       "output_type": "display_data",
       "text": [
        "<IPython.core.display.Javascript at 0x8faed4e0>"
       ]
      },
      {
       "javascript": [
        "$('div#31840dfe-65d4-4706-9b2c-0fb7948229c8').text(' 68%');"
       ],
       "metadata": {},
       "output_type": "display_data",
       "text": [
        "<IPython.core.display.Javascript at 0x8faed4e0>"
       ]
      },
      {
       "javascript": [
        "\n",
        "        var $myPB = $(\"div#b8acbf43-e78c-48b0-a02b-f0d2e7d0e8a6\")\n",
        "        if ($myPB.hasClass('ui-progressbar')) {\n",
        "            $myPB.progressbar('value', 67);\n",
        "        } else {\n",
        "            $myPB.progressbar({value: 0, max: 98});\n",
        "        }\n",
        "        "
       ],
       "metadata": {},
       "output_type": "display_data",
       "text": [
        "<IPython.core.display.Javascript at 0x8faed748>"
       ]
      },
      {
       "javascript": [
        "$('div#933ae1fe-acfd-4da4-8944-0c3312e470e7').text('ETA:  0:00:02');"
       ],
       "metadata": {},
       "output_type": "display_data",
       "text": [
        "<IPython.core.display.Javascript at 0x8faedc18>"
       ]
      },
      {
       "javascript": [
        "$('div#77cc8e23-54eb-4c4c-ab47-9feb3d4e413e').text('68 of 98');"
       ],
       "metadata": {},
       "output_type": "display_data",
       "text": [
        "<IPython.core.display.Javascript at 0x8faed550>"
       ]
      },
      {
       "javascript": [
        "$('div#31840dfe-65d4-4706-9b2c-0fb7948229c8').text(' 69%');"
       ],
       "metadata": {},
       "output_type": "display_data",
       "text": [
        "<IPython.core.display.Javascript at 0x8b9d42e8>"
       ]
      },
      {
       "javascript": [
        "\n",
        "        var $myPB = $(\"div#b8acbf43-e78c-48b0-a02b-f0d2e7d0e8a6\")\n",
        "        if ($myPB.hasClass('ui-progressbar')) {\n",
        "            $myPB.progressbar('value', 68);\n",
        "        } else {\n",
        "            $myPB.progressbar({value: 0, max: 98});\n",
        "        }\n",
        "        "
       ],
       "metadata": {},
       "output_type": "display_data",
       "text": [
        "<IPython.core.display.Javascript at 0x8faed550>"
       ]
      },
      {
       "javascript": [
        "$('div#933ae1fe-acfd-4da4-8944-0c3312e470e7').text('ETA:  0:00:01');"
       ],
       "metadata": {},
       "output_type": "display_data",
       "text": [
        "<IPython.core.display.Javascript at 0x8b9d42e8>"
       ]
      },
      {
       "javascript": [
        "$('div#77cc8e23-54eb-4c4c-ab47-9feb3d4e413e').text('69 of 98');"
       ],
       "metadata": {},
       "output_type": "display_data",
       "text": [
        "<IPython.core.display.Javascript at 0x8b9d47f0>"
       ]
      },
      {
       "javascript": [
        "$('div#31840dfe-65d4-4706-9b2c-0fb7948229c8').text(' 70%');"
       ],
       "metadata": {},
       "output_type": "display_data",
       "text": [
        "<IPython.core.display.Javascript at 0x8b9d4080>"
       ]
      },
      {
       "javascript": [
        "\n",
        "        var $myPB = $(\"div#b8acbf43-e78c-48b0-a02b-f0d2e7d0e8a6\")\n",
        "        if ($myPB.hasClass('ui-progressbar')) {\n",
        "            $myPB.progressbar('value', 69);\n",
        "        } else {\n",
        "            $myPB.progressbar({value: 0, max: 98});\n",
        "        }\n",
        "        "
       ],
       "metadata": {},
       "output_type": "display_data",
       "text": [
        "<IPython.core.display.Javascript at 0x8b9d4080>"
       ]
      },
      {
       "javascript": [
        "$('div#933ae1fe-acfd-4da4-8944-0c3312e470e7').text('ETA:  0:00:01');"
       ],
       "metadata": {},
       "output_type": "display_data",
       "text": [
        "<IPython.core.display.Javascript at 0x8b9d4358>"
       ]
      },
      {
       "javascript": [
        "$('div#77cc8e23-54eb-4c4c-ab47-9feb3d4e413e').text('70 of 98');"
       ],
       "metadata": {},
       "output_type": "display_data",
       "text": [
        "<IPython.core.display.Javascript at 0x8b9d4ac8>"
       ]
      },
      {
       "javascript": [
        "$('div#31840dfe-65d4-4706-9b2c-0fb7948229c8').text(' 71%');"
       ],
       "metadata": {},
       "output_type": "display_data",
       "text": [
        "<IPython.core.display.Javascript at 0x88211e48>"
       ]
      },
      {
       "javascript": [
        "\n",
        "        var $myPB = $(\"div#b8acbf43-e78c-48b0-a02b-f0d2e7d0e8a6\")\n",
        "        if ($myPB.hasClass('ui-progressbar')) {\n",
        "            $myPB.progressbar('value', 70);\n",
        "        } else {\n",
        "            $myPB.progressbar({value: 0, max: 98});\n",
        "        }\n",
        "        "
       ],
       "metadata": {},
       "output_type": "display_data",
       "text": [
        "<IPython.core.display.Javascript at 0x8b9d4ac8>"
       ]
      },
      {
       "javascript": [
        "$('div#933ae1fe-acfd-4da4-8944-0c3312e470e7').text('ETA:  0:00:01');"
       ],
       "metadata": {},
       "output_type": "display_data",
       "text": [
        "<IPython.core.display.Javascript at 0x88211e48>"
       ]
      },
      {
       "javascript": [
        "$('div#77cc8e23-54eb-4c4c-ab47-9feb3d4e413e').text('71 of 98');"
       ],
       "metadata": {},
       "output_type": "display_data",
       "text": [
        "<IPython.core.display.Javascript at 0x88211470>"
       ]
      },
      {
       "javascript": [
        "$('div#31840dfe-65d4-4706-9b2c-0fb7948229c8').text(' 72%');"
       ],
       "metadata": {},
       "output_type": "display_data",
       "text": [
        "<IPython.core.display.Javascript at 0x88211390>"
       ]
      },
      {
       "javascript": [
        "\n",
        "        var $myPB = $(\"div#b8acbf43-e78c-48b0-a02b-f0d2e7d0e8a6\")\n",
        "        if ($myPB.hasClass('ui-progressbar')) {\n",
        "            $myPB.progressbar('value', 71);\n",
        "        } else {\n",
        "            $myPB.progressbar({value: 0, max: 98});\n",
        "        }\n",
        "        "
       ],
       "metadata": {},
       "output_type": "display_data",
       "text": [
        "<IPython.core.display.Javascript at 0x88211390>"
       ]
      },
      {
       "javascript": [
        "$('div#933ae1fe-acfd-4da4-8944-0c3312e470e7').text('ETA:  0:00:01');"
       ],
       "metadata": {},
       "output_type": "display_data",
       "text": [
        "<IPython.core.display.Javascript at 0x88211e10>"
       ]
      },
      {
       "javascript": [
        "$('div#77cc8e23-54eb-4c4c-ab47-9feb3d4e413e').text('72 of 98');"
       ],
       "metadata": {},
       "output_type": "display_data",
       "text": [
        "<IPython.core.display.Javascript at 0x8d45eb70>"
       ]
      },
      {
       "javascript": [
        "$('div#31840dfe-65d4-4706-9b2c-0fb7948229c8').text(' 73%');"
       ],
       "metadata": {},
       "output_type": "display_data",
       "text": [
        "<IPython.core.display.Javascript at 0x8d45e978>"
       ]
      },
      {
       "javascript": [
        "\n",
        "        var $myPB = $(\"div#b8acbf43-e78c-48b0-a02b-f0d2e7d0e8a6\")\n",
        "        if ($myPB.hasClass('ui-progressbar')) {\n",
        "            $myPB.progressbar('value', 72);\n",
        "        } else {\n",
        "            $myPB.progressbar({value: 0, max: 98});\n",
        "        }\n",
        "        "
       ],
       "metadata": {},
       "output_type": "display_data",
       "text": [
        "<IPython.core.display.Javascript at 0x8d45e978>"
       ]
      },
      {
       "javascript": [
        "$('div#933ae1fe-acfd-4da4-8944-0c3312e470e7').text('ETA:  0:00:01');"
       ],
       "metadata": {},
       "output_type": "display_data",
       "text": [
        "<IPython.core.display.Javascript at 0x8d45e390>"
       ]
      },
      {
       "javascript": [
        "$('div#77cc8e23-54eb-4c4c-ab47-9feb3d4e413e').text('73 of 98');"
       ],
       "metadata": {},
       "output_type": "display_data",
       "text": [
        "<IPython.core.display.Javascript at 0x8d45e1d0>"
       ]
      },
      {
       "javascript": [
        "$('div#31840dfe-65d4-4706-9b2c-0fb7948229c8').text(' 74%');"
       ],
       "metadata": {},
       "output_type": "display_data",
       "text": [
        "<IPython.core.display.Javascript at 0x8d45ef28>"
       ]
      },
      {
       "javascript": [
        "\n",
        "        var $myPB = $(\"div#b8acbf43-e78c-48b0-a02b-f0d2e7d0e8a6\")\n",
        "        if ($myPB.hasClass('ui-progressbar')) {\n",
        "            $myPB.progressbar('value', 73);\n",
        "        } else {\n",
        "            $myPB.progressbar({value: 0, max: 98});\n",
        "        }\n",
        "        "
       ],
       "metadata": {},
       "output_type": "display_data",
       "text": [
        "<IPython.core.display.Javascript at 0x8d45ef28>"
       ]
      },
      {
       "javascript": [
        "$('div#933ae1fe-acfd-4da4-8944-0c3312e470e7').text('ETA:  0:00:01');"
       ],
       "metadata": {},
       "output_type": "display_data",
       "text": [
        "<IPython.core.display.Javascript at 0x8d45eac8>"
       ]
      },
      {
       "javascript": [
        "$('div#77cc8e23-54eb-4c4c-ab47-9feb3d4e413e').text('74 of 98');"
       ],
       "metadata": {},
       "output_type": "display_data",
       "text": [
        "<IPython.core.display.Javascript at 0x8b57c940>"
       ]
      },
      {
       "javascript": [
        "$('div#31840dfe-65d4-4706-9b2c-0fb7948229c8').text(' 75%');"
       ],
       "metadata": {},
       "output_type": "display_data",
       "text": [
        "<IPython.core.display.Javascript at 0x8b57c940>"
       ]
      },
      {
       "javascript": [
        "\n",
        "        var $myPB = $(\"div#b8acbf43-e78c-48b0-a02b-f0d2e7d0e8a6\")\n",
        "        if ($myPB.hasClass('ui-progressbar')) {\n",
        "            $myPB.progressbar('value', 74);\n",
        "        } else {\n",
        "            $myPB.progressbar({value: 0, max: 98});\n",
        "        }\n",
        "        "
       ],
       "metadata": {},
       "output_type": "display_data",
       "text": [
        "<IPython.core.display.Javascript at 0x8b57c208>"
       ]
      },
      {
       "javascript": [
        "$('div#933ae1fe-acfd-4da4-8944-0c3312e470e7').text('ETA:  0:00:01');"
       ],
       "metadata": {},
       "output_type": "display_data",
       "text": [
        "<IPython.core.display.Javascript at 0x8b57c4a8>"
       ]
      },
      {
       "javascript": [
        "$('div#77cc8e23-54eb-4c4c-ab47-9feb3d4e413e').text('75 of 98');"
       ],
       "metadata": {},
       "output_type": "display_data",
       "text": [
        "<IPython.core.display.Javascript at 0x8feadf60>"
       ]
      },
      {
       "javascript": [
        "$('div#31840dfe-65d4-4706-9b2c-0fb7948229c8').text(' 76%');"
       ],
       "metadata": {},
       "output_type": "display_data",
       "text": [
        "<IPython.core.display.Javascript at 0x8feadf98>"
       ]
      },
      {
       "javascript": [
        "\n",
        "        var $myPB = $(\"div#b8acbf43-e78c-48b0-a02b-f0d2e7d0e8a6\")\n",
        "        if ($myPB.hasClass('ui-progressbar')) {\n",
        "            $myPB.progressbar('value', 75);\n",
        "        } else {\n",
        "            $myPB.progressbar({value: 0, max: 98});\n",
        "        }\n",
        "        "
       ],
       "metadata": {},
       "output_type": "display_data",
       "text": [
        "<IPython.core.display.Javascript at 0x8feadf98>"
       ]
      },
      {
       "javascript": [
        "$('div#933ae1fe-acfd-4da4-8944-0c3312e470e7').text('ETA:  0:00:01');"
       ],
       "metadata": {},
       "output_type": "display_data",
       "text": [
        "<IPython.core.display.Javascript at 0x8fead588>"
       ]
      },
      {
       "javascript": [
        "$('div#77cc8e23-54eb-4c4c-ab47-9feb3d4e413e').text('76 of 98');"
       ],
       "metadata": {},
       "output_type": "display_data",
       "text": [
        "<IPython.core.display.Javascript at 0x88b51470>"
       ]
      },
      {
       "javascript": [
        "$('div#31840dfe-65d4-4706-9b2c-0fb7948229c8').text(' 77%');"
       ],
       "metadata": {},
       "output_type": "display_data",
       "text": [
        "<IPython.core.display.Javascript at 0x88b51dd8>"
       ]
      },
      {
       "javascript": [
        "\n",
        "        var $myPB = $(\"div#b8acbf43-e78c-48b0-a02b-f0d2e7d0e8a6\")\n",
        "        if ($myPB.hasClass('ui-progressbar')) {\n",
        "            $myPB.progressbar('value', 76);\n",
        "        } else {\n",
        "            $myPB.progressbar({value: 0, max: 98});\n",
        "        }\n",
        "        "
       ],
       "metadata": {},
       "output_type": "display_data",
       "text": [
        "<IPython.core.display.Javascript at 0x88b51dd8>"
       ]
      },
      {
       "javascript": [
        "$('div#933ae1fe-acfd-4da4-8944-0c3312e470e7').text('ETA:  0:00:01');"
       ],
       "metadata": {},
       "output_type": "display_data",
       "text": [
        "<IPython.core.display.Javascript at 0x88b51438>"
       ]
      },
      {
       "javascript": [
        "$('div#77cc8e23-54eb-4c4c-ab47-9feb3d4e413e').text('77 of 98');"
       ],
       "metadata": {},
       "output_type": "display_data",
       "text": [
        "<IPython.core.display.Javascript at 0x8d693748>"
       ]
      },
      {
       "javascript": [
        "$('div#31840dfe-65d4-4706-9b2c-0fb7948229c8').text(' 78%');"
       ],
       "metadata": {},
       "output_type": "display_data",
       "text": [
        "<IPython.core.display.Javascript at 0x8d693240>"
       ]
      },
      {
       "javascript": [
        "\n",
        "        var $myPB = $(\"div#b8acbf43-e78c-48b0-a02b-f0d2e7d0e8a6\")\n",
        "        if ($myPB.hasClass('ui-progressbar')) {\n",
        "            $myPB.progressbar('value', 77);\n",
        "        } else {\n",
        "            $myPB.progressbar({value: 0, max: 98});\n",
        "        }\n",
        "        "
       ],
       "metadata": {},
       "output_type": "display_data",
       "text": [
        "<IPython.core.display.Javascript at 0x8d6937f0>"
       ]
      },
      {
       "javascript": [
        "$('div#933ae1fe-acfd-4da4-8944-0c3312e470e7').text('ETA:  0:00:01');"
       ],
       "metadata": {},
       "output_type": "display_data",
       "text": [
        "<IPython.core.display.Javascript at 0x8d693748>"
       ]
      },
      {
       "javascript": [
        "$('div#77cc8e23-54eb-4c4c-ab47-9feb3d4e413e').text('78 of 98');"
       ],
       "metadata": {},
       "output_type": "display_data",
       "text": [
        "<IPython.core.display.Javascript at 0x8d693780>"
       ]
      },
      {
       "javascript": [
        "$('div#31840dfe-65d4-4706-9b2c-0fb7948229c8').text(' 79%');"
       ],
       "metadata": {},
       "output_type": "display_data",
       "text": [
        "<IPython.core.display.Javascript at 0x8d693358>"
       ]
      },
      {
       "javascript": [
        "\n",
        "        var $myPB = $(\"div#b8acbf43-e78c-48b0-a02b-f0d2e7d0e8a6\")\n",
        "        if ($myPB.hasClass('ui-progressbar')) {\n",
        "            $myPB.progressbar('value', 78);\n",
        "        } else {\n",
        "            $myPB.progressbar({value: 0, max: 98});\n",
        "        }\n",
        "        "
       ],
       "metadata": {},
       "output_type": "display_data",
       "text": [
        "<IPython.core.display.Javascript at 0x8d693358>"
       ]
      },
      {
       "javascript": [
        "$('div#933ae1fe-acfd-4da4-8944-0c3312e470e7').text('ETA:  0:00:01');"
       ],
       "metadata": {},
       "output_type": "display_data",
       "text": [
        "<IPython.core.display.Javascript at 0x8d6932b0>"
       ]
      },
      {
       "javascript": [
        "$('div#77cc8e23-54eb-4c4c-ab47-9feb3d4e413e').text('79 of 98');"
       ],
       "metadata": {},
       "output_type": "display_data",
       "text": [
        "<IPython.core.display.Javascript at 0x8ccfaf98>"
       ]
      },
      {
       "javascript": [
        "$('div#31840dfe-65d4-4706-9b2c-0fb7948229c8').text(' 80%');"
       ],
       "metadata": {},
       "output_type": "display_data",
       "text": [
        "<IPython.core.display.Javascript at 0x8d693240>"
       ]
      },
      {
       "javascript": [
        "\n",
        "        var $myPB = $(\"div#b8acbf43-e78c-48b0-a02b-f0d2e7d0e8a6\")\n",
        "        if ($myPB.hasClass('ui-progressbar')) {\n",
        "            $myPB.progressbar('value', 79);\n",
        "        } else {\n",
        "            $myPB.progressbar({value: 0, max: 98});\n",
        "        }\n",
        "        "
       ],
       "metadata": {},
       "output_type": "display_data",
       "text": [
        "<IPython.core.display.Javascript at 0x8ccfaf98>"
       ]
      },
      {
       "javascript": [
        "$('div#933ae1fe-acfd-4da4-8944-0c3312e470e7').text('ETA:  0:00:01');"
       ],
       "metadata": {},
       "output_type": "display_data",
       "text": [
        "<IPython.core.display.Javascript at 0x8ccfaac8>"
       ]
      },
      {
       "javascript": [
        "$('div#77cc8e23-54eb-4c4c-ab47-9feb3d4e413e').text('80 of 98');"
       ],
       "metadata": {},
       "output_type": "display_data",
       "text": [
        "<IPython.core.display.Javascript at 0x8ccfafd0>"
       ]
      },
      {
       "javascript": [
        "$('div#31840dfe-65d4-4706-9b2c-0fb7948229c8').text(' 81%');"
       ],
       "metadata": {},
       "output_type": "display_data",
       "text": [
        "<IPython.core.display.Javascript at 0x8ccfa780>"
       ]
      },
      {
       "javascript": [
        "\n",
        "        var $myPB = $(\"div#b8acbf43-e78c-48b0-a02b-f0d2e7d0e8a6\")\n",
        "        if ($myPB.hasClass('ui-progressbar')) {\n",
        "            $myPB.progressbar('value', 80);\n",
        "        } else {\n",
        "            $myPB.progressbar({value: 0, max: 98});\n",
        "        }\n",
        "        "
       ],
       "metadata": {},
       "output_type": "display_data",
       "text": [
        "<IPython.core.display.Javascript at 0x8ccfa780>"
       ]
      },
      {
       "javascript": [
        "$('div#933ae1fe-acfd-4da4-8944-0c3312e470e7').text('ETA:  0:00:01');"
       ],
       "metadata": {},
       "output_type": "display_data",
       "text": [
        "<IPython.core.display.Javascript at 0x8ccfafd0>"
       ]
      },
      {
       "javascript": [
        "$('div#77cc8e23-54eb-4c4c-ab47-9feb3d4e413e').text('81 of 98');"
       ],
       "metadata": {},
       "output_type": "display_data",
       "text": [
        "<IPython.core.display.Javascript at 0x8c350550>"
       ]
      },
      {
       "javascript": [
        "$('div#31840dfe-65d4-4706-9b2c-0fb7948229c8').text(' 82%');"
       ],
       "metadata": {},
       "output_type": "display_data",
       "text": [
        "<IPython.core.display.Javascript at 0x8c3501d0>"
       ]
      },
      {
       "javascript": [
        "\n",
        "        var $myPB = $(\"div#b8acbf43-e78c-48b0-a02b-f0d2e7d0e8a6\")\n",
        "        if ($myPB.hasClass('ui-progressbar')) {\n",
        "            $myPB.progressbar('value', 81);\n",
        "        } else {\n",
        "            $myPB.progressbar({value: 0, max: 98});\n",
        "        }\n",
        "        "
       ],
       "metadata": {},
       "output_type": "display_data",
       "text": [
        "<IPython.core.display.Javascript at 0x8c3501d0>"
       ]
      },
      {
       "javascript": [
        "$('div#933ae1fe-acfd-4da4-8944-0c3312e470e7').text('ETA:  0:00:00');"
       ],
       "metadata": {},
       "output_type": "display_data",
       "text": [
        "<IPython.core.display.Javascript at 0x8c350d30>"
       ]
      },
      {
       "javascript": [
        "$('div#77cc8e23-54eb-4c4c-ab47-9feb3d4e413e').text('82 of 98');"
       ],
       "metadata": {},
       "output_type": "display_data",
       "text": [
        "<IPython.core.display.Javascript at 0x8f3b8550>"
       ]
      },
      {
       "javascript": [
        "$('div#31840dfe-65d4-4706-9b2c-0fb7948229c8').text(' 83%');"
       ],
       "metadata": {},
       "output_type": "display_data",
       "text": [
        "<IPython.core.display.Javascript at 0x8f3b84a8>"
       ]
      },
      {
       "javascript": [
        "\n",
        "        var $myPB = $(\"div#b8acbf43-e78c-48b0-a02b-f0d2e7d0e8a6\")\n",
        "        if ($myPB.hasClass('ui-progressbar')) {\n",
        "            $myPB.progressbar('value', 82);\n",
        "        } else {\n",
        "            $myPB.progressbar({value: 0, max: 98});\n",
        "        }\n",
        "        "
       ],
       "metadata": {},
       "output_type": "display_data",
       "text": [
        "<IPython.core.display.Javascript at 0x8f3b84a8>"
       ]
      },
      {
       "javascript": [
        "$('div#933ae1fe-acfd-4da4-8944-0c3312e470e7').text('ETA:  0:00:00');"
       ],
       "metadata": {},
       "output_type": "display_data",
       "text": [
        "<IPython.core.display.Javascript at 0x8f3b8780>"
       ]
      },
      {
       "javascript": [
        "$('div#77cc8e23-54eb-4c4c-ab47-9feb3d4e413e').text('83 of 98');"
       ],
       "metadata": {},
       "output_type": "display_data",
       "text": [
        "<IPython.core.display.Javascript at 0x8897dc50>"
       ]
      },
      {
       "javascript": [
        "$('div#31840dfe-65d4-4706-9b2c-0fb7948229c8').text(' 84%');"
       ],
       "metadata": {},
       "output_type": "display_data",
       "text": [
        "<IPython.core.display.Javascript at 0x8897d8d0>"
       ]
      },
      {
       "javascript": [
        "\n",
        "        var $myPB = $(\"div#b8acbf43-e78c-48b0-a02b-f0d2e7d0e8a6\")\n",
        "        if ($myPB.hasClass('ui-progressbar')) {\n",
        "            $myPB.progressbar('value', 83);\n",
        "        } else {\n",
        "            $myPB.progressbar({value: 0, max: 98});\n",
        "        }\n",
        "        "
       ],
       "metadata": {},
       "output_type": "display_data",
       "text": [
        "<IPython.core.display.Javascript at 0x8897d8d0>"
       ]
      },
      {
       "javascript": [
        "$('div#933ae1fe-acfd-4da4-8944-0c3312e470e7').text('ETA:  0:00:00');"
       ],
       "metadata": {},
       "output_type": "display_data",
       "text": [
        "<IPython.core.display.Javascript at 0x8897dda0>"
       ]
      },
      {
       "javascript": [
        "$('div#77cc8e23-54eb-4c4c-ab47-9feb3d4e413e').text('84 of 98');"
       ],
       "metadata": {},
       "output_type": "display_data",
       "text": [
        "<IPython.core.display.Javascript at 0x8897d0f0>"
       ]
      },
      {
       "javascript": [
        "$('div#31840dfe-65d4-4706-9b2c-0fb7948229c8').text(' 85%');"
       ],
       "metadata": {},
       "output_type": "display_data",
       "text": [
        "<IPython.core.display.Javascript at 0x8897d0f0>"
       ]
      },
      {
       "javascript": [
        "\n",
        "        var $myPB = $(\"div#b8acbf43-e78c-48b0-a02b-f0d2e7d0e8a6\")\n",
        "        if ($myPB.hasClass('ui-progressbar')) {\n",
        "            $myPB.progressbar('value', 84);\n",
        "        } else {\n",
        "            $myPB.progressbar({value: 0, max: 98});\n",
        "        }\n",
        "        "
       ],
       "metadata": {},
       "output_type": "display_data",
       "text": [
        "<IPython.core.display.Javascript at 0x8897d710>"
       ]
      },
      {
       "javascript": [
        "$('div#933ae1fe-acfd-4da4-8944-0c3312e470e7').text('ETA:  0:00:00');"
       ],
       "metadata": {},
       "output_type": "display_data",
       "text": [
        "<IPython.core.display.Javascript at 0x8897dcf8>"
       ]
      },
      {
       "javascript": [
        "$('div#77cc8e23-54eb-4c4c-ab47-9feb3d4e413e').text('85 of 98');"
       ],
       "metadata": {},
       "output_type": "display_data",
       "text": [
        "<IPython.core.display.Javascript at 0x8c8aac50>"
       ]
      },
      {
       "javascript": [
        "$('div#31840dfe-65d4-4706-9b2c-0fb7948229c8').text(' 86%');"
       ],
       "metadata": {},
       "output_type": "display_data",
       "text": [
        "<IPython.core.display.Javascript at 0x8c8aac50>"
       ]
      },
      {
       "javascript": [
        "\n",
        "        var $myPB = $(\"div#b8acbf43-e78c-48b0-a02b-f0d2e7d0e8a6\")\n",
        "        if ($myPB.hasClass('ui-progressbar')) {\n",
        "            $myPB.progressbar('value', 85);\n",
        "        } else {\n",
        "            $myPB.progressbar({value: 0, max: 98});\n",
        "        }\n",
        "        "
       ],
       "metadata": {},
       "output_type": "display_data",
       "text": [
        "<IPython.core.display.Javascript at 0x8c8aa240>"
       ]
      },
      {
       "javascript": [
        "$('div#933ae1fe-acfd-4da4-8944-0c3312e470e7').text('ETA:  0:00:00');"
       ],
       "metadata": {},
       "output_type": "display_data",
       "text": [
        "<IPython.core.display.Javascript at 0x8c8aa4a8>"
       ]
      },
      {
       "javascript": [
        "$('div#77cc8e23-54eb-4c4c-ab47-9feb3d4e413e').text('86 of 98');"
       ],
       "metadata": {},
       "output_type": "display_data",
       "text": [
        "<IPython.core.display.Javascript at 0x87664fd0>"
       ]
      },
      {
       "javascript": [
        "$('div#31840dfe-65d4-4706-9b2c-0fb7948229c8').text(' 87%');"
       ],
       "metadata": {},
       "output_type": "display_data",
       "text": [
        "<IPython.core.display.Javascript at 0x87664fd0>"
       ]
      },
      {
       "javascript": [
        "\n",
        "        var $myPB = $(\"div#b8acbf43-e78c-48b0-a02b-f0d2e7d0e8a6\")\n",
        "        if ($myPB.hasClass('ui-progressbar')) {\n",
        "            $myPB.progressbar('value', 86);\n",
        "        } else {\n",
        "            $myPB.progressbar({value: 0, max: 98});\n",
        "        }\n",
        "        "
       ],
       "metadata": {},
       "output_type": "display_data",
       "text": [
        "<IPython.core.display.Javascript at 0x87664518>"
       ]
      },
      {
       "javascript": [
        "$('div#933ae1fe-acfd-4da4-8944-0c3312e470e7').text('ETA:  0:00:00');"
       ],
       "metadata": {},
       "output_type": "display_data",
       "text": [
        "<IPython.core.display.Javascript at 0x876644a8>"
       ]
      },
      {
       "javascript": [
        "$('div#77cc8e23-54eb-4c4c-ab47-9feb3d4e413e').text('87 of 98');"
       ],
       "metadata": {},
       "output_type": "display_data",
       "text": [
        "<IPython.core.display.Javascript at 0x8f42ff98>"
       ]
      },
      {
       "javascript": [
        "$('div#31840dfe-65d4-4706-9b2c-0fb7948229c8').text(' 88%');"
       ],
       "metadata": {},
       "output_type": "display_data",
       "text": [
        "<IPython.core.display.Javascript at 0x8f42f320>"
       ]
      },
      {
       "javascript": [
        "\n",
        "        var $myPB = $(\"div#b8acbf43-e78c-48b0-a02b-f0d2e7d0e8a6\")\n",
        "        if ($myPB.hasClass('ui-progressbar')) {\n",
        "            $myPB.progressbar('value', 87);\n",
        "        } else {\n",
        "            $myPB.progressbar({value: 0, max: 98});\n",
        "        }\n",
        "        "
       ],
       "metadata": {},
       "output_type": "display_data",
       "text": [
        "<IPython.core.display.Javascript at 0x8f42f320>"
       ]
      },
      {
       "javascript": [
        "$('div#933ae1fe-acfd-4da4-8944-0c3312e470e7').text('ETA:  0:00:00');"
       ],
       "metadata": {},
       "output_type": "display_data",
       "text": [
        "<IPython.core.display.Javascript at 0x8f42fef0>"
       ]
      },
      {
       "javascript": [
        "$('div#77cc8e23-54eb-4c4c-ab47-9feb3d4e413e').text('88 of 98');"
       ],
       "metadata": {},
       "output_type": "display_data",
       "text": [
        "<IPython.core.display.Javascript at 0x90603908>"
       ]
      },
      {
       "javascript": [
        "$('div#31840dfe-65d4-4706-9b2c-0fb7948229c8').text(' 89%');"
       ],
       "metadata": {},
       "output_type": "display_data",
       "text": [
        "<IPython.core.display.Javascript at 0x90603908>"
       ]
      },
      {
       "javascript": [
        "\n",
        "        var $myPB = $(\"div#b8acbf43-e78c-48b0-a02b-f0d2e7d0e8a6\")\n",
        "        if ($myPB.hasClass('ui-progressbar')) {\n",
        "            $myPB.progressbar('value', 88);\n",
        "        } else {\n",
        "            $myPB.progressbar({value: 0, max: 98});\n",
        "        }\n",
        "        "
       ],
       "metadata": {},
       "output_type": "display_data",
       "text": [
        "<IPython.core.display.Javascript at 0x90603278>"
       ]
      },
      {
       "javascript": [
        "$('div#933ae1fe-acfd-4da4-8944-0c3312e470e7').text('ETA:  0:00:00');"
       ],
       "metadata": {},
       "output_type": "display_data",
       "text": [
        "<IPython.core.display.Javascript at 0x906031d0>"
       ]
      },
      {
       "javascript": [
        "$('div#77cc8e23-54eb-4c4c-ab47-9feb3d4e413e').text('89 of 98');"
       ],
       "metadata": {},
       "output_type": "display_data",
       "text": [
        "<IPython.core.display.Javascript at 0x870eff98>"
       ]
      },
      {
       "javascript": [
        "$('div#31840dfe-65d4-4706-9b2c-0fb7948229c8').text(' 90%');"
       ],
       "metadata": {},
       "output_type": "display_data",
       "text": [
        "<IPython.core.display.Javascript at 0x870eff98>"
       ]
      },
      {
       "javascript": [
        "\n",
        "        var $myPB = $(\"div#b8acbf43-e78c-48b0-a02b-f0d2e7d0e8a6\")\n",
        "        if ($myPB.hasClass('ui-progressbar')) {\n",
        "            $myPB.progressbar('value', 89);\n",
        "        } else {\n",
        "            $myPB.progressbar({value: 0, max: 98});\n",
        "        }\n",
        "        "
       ],
       "metadata": {},
       "output_type": "display_data",
       "text": [
        "<IPython.core.display.Javascript at 0x870ef550>"
       ]
      },
      {
       "javascript": [
        "$('div#933ae1fe-acfd-4da4-8944-0c3312e470e7').text('ETA:  0:00:00');"
       ],
       "metadata": {},
       "output_type": "display_data",
       "text": [
        "<IPython.core.display.Javascript at 0x870efda0>"
       ]
      },
      {
       "javascript": [
        "$('div#77cc8e23-54eb-4c4c-ab47-9feb3d4e413e').text('90 of 98');"
       ],
       "metadata": {},
       "output_type": "display_data",
       "text": [
        "<IPython.core.display.Javascript at 0x876c3470>"
       ]
      },
      {
       "javascript": [
        "$('div#31840dfe-65d4-4706-9b2c-0fb7948229c8').text(' 91%');"
       ],
       "metadata": {},
       "output_type": "display_data",
       "text": [
        "<IPython.core.display.Javascript at 0x876c3470>"
       ]
      },
      {
       "javascript": [
        "\n",
        "        var $myPB = $(\"div#b8acbf43-e78c-48b0-a02b-f0d2e7d0e8a6\")\n",
        "        if ($myPB.hasClass('ui-progressbar')) {\n",
        "            $myPB.progressbar('value', 90);\n",
        "        } else {\n",
        "            $myPB.progressbar({value: 0, max: 98});\n",
        "        }\n",
        "        "
       ],
       "metadata": {},
       "output_type": "display_data",
       "text": [
        "<IPython.core.display.Javascript at 0x876c39b0>"
       ]
      },
      {
       "javascript": [
        "$('div#933ae1fe-acfd-4da4-8944-0c3312e470e7').text('ETA:  0:00:00');"
       ],
       "metadata": {},
       "output_type": "display_data",
       "text": [
        "<IPython.core.display.Javascript at 0x876c31d0>"
       ]
      },
      {
       "javascript": [
        "$('div#77cc8e23-54eb-4c4c-ab47-9feb3d4e413e').text('91 of 98');"
       ],
       "metadata": {},
       "output_type": "display_data",
       "text": [
        "<IPython.core.display.Javascript at 0x8f344978>"
       ]
      },
      {
       "javascript": [
        "$('div#31840dfe-65d4-4706-9b2c-0fb7948229c8').text(' 92%');"
       ],
       "metadata": {},
       "output_type": "display_data",
       "text": [
        "<IPython.core.display.Javascript at 0x8f344978>"
       ]
      },
      {
       "javascript": [
        "\n",
        "        var $myPB = $(\"div#b8acbf43-e78c-48b0-a02b-f0d2e7d0e8a6\")\n",
        "        if ($myPB.hasClass('ui-progressbar')) {\n",
        "            $myPB.progressbar('value', 91);\n",
        "        } else {\n",
        "            $myPB.progressbar({value: 0, max: 98});\n",
        "        }\n",
        "        "
       ],
       "metadata": {},
       "output_type": "display_data",
       "text": [
        "<IPython.core.display.Javascript at 0x8f344080>"
       ]
      },
      {
       "javascript": [
        "$('div#933ae1fe-acfd-4da4-8944-0c3312e470e7').text('ETA:  0:00:00');"
       ],
       "metadata": {},
       "output_type": "display_data",
       "text": [
        "<IPython.core.display.Javascript at 0x8f3440f0>"
       ]
      },
      {
       "javascript": [
        "$('div#77cc8e23-54eb-4c4c-ab47-9feb3d4e413e').text('92 of 98');"
       ],
       "metadata": {},
       "output_type": "display_data",
       "text": [
        "<IPython.core.display.Javascript at 0x8f344ef0>"
       ]
      },
      {
       "javascript": [
        "$('div#31840dfe-65d4-4706-9b2c-0fb7948229c8').text(' 93%');"
       ],
       "metadata": {},
       "output_type": "display_data",
       "text": [
        "<IPython.core.display.Javascript at 0x8f344748>"
       ]
      },
      {
       "javascript": [
        "\n",
        "        var $myPB = $(\"div#b8acbf43-e78c-48b0-a02b-f0d2e7d0e8a6\")\n",
        "        if ($myPB.hasClass('ui-progressbar')) {\n",
        "            $myPB.progressbar('value', 92);\n",
        "        } else {\n",
        "            $myPB.progressbar({value: 0, max: 98});\n",
        "        }\n",
        "        "
       ],
       "metadata": {},
       "output_type": "display_data",
       "text": [
        "<IPython.core.display.Javascript at 0x90552978>"
       ]
      },
      {
       "javascript": [
        "$('div#933ae1fe-acfd-4da4-8944-0c3312e470e7').text('ETA:  0:00:00');"
       ],
       "metadata": {},
       "output_type": "display_data",
       "text": [
        "<IPython.core.display.Javascript at 0x8f344ef0>"
       ]
      },
      {
       "javascript": [
        "$('div#77cc8e23-54eb-4c4c-ab47-9feb3d4e413e').text('93 of 98');"
       ],
       "metadata": {},
       "output_type": "display_data",
       "text": [
        "<IPython.core.display.Javascript at 0x90552978>"
       ]
      },
      {
       "javascript": [
        "$('div#31840dfe-65d4-4706-9b2c-0fb7948229c8').text(' 94%');"
       ],
       "metadata": {},
       "output_type": "display_data",
       "text": [
        "<IPython.core.display.Javascript at 0x90552630>"
       ]
      },
      {
       "javascript": [
        "\n",
        "        var $myPB = $(\"div#b8acbf43-e78c-48b0-a02b-f0d2e7d0e8a6\")\n",
        "        if ($myPB.hasClass('ui-progressbar')) {\n",
        "            $myPB.progressbar('value', 93);\n",
        "        } else {\n",
        "            $myPB.progressbar({value: 0, max: 98});\n",
        "        }\n",
        "        "
       ],
       "metadata": {},
       "output_type": "display_data",
       "text": [
        "<IPython.core.display.Javascript at 0x90552f60>"
       ]
      },
      {
       "javascript": [
        "$('div#933ae1fe-acfd-4da4-8944-0c3312e470e7').text('ETA:  0:00:00');"
       ],
       "metadata": {},
       "output_type": "display_data",
       "text": [
        "<IPython.core.display.Javascript at 0x905523c8>"
       ]
      },
      {
       "javascript": [
        "$('div#77cc8e23-54eb-4c4c-ab47-9feb3d4e413e').text('94 of 98');"
       ],
       "metadata": {},
       "output_type": "display_data",
       "text": [
        "<IPython.core.display.Javascript at 0x8f344ef0>"
       ]
      },
      {
       "javascript": [
        "$('div#31840dfe-65d4-4706-9b2c-0fb7948229c8').text(' 95%');"
       ],
       "metadata": {},
       "output_type": "display_data",
       "text": [
        "<IPython.core.display.Javascript at 0x90552940>"
       ]
      },
      {
       "javascript": [
        "\n",
        "        var $myPB = $(\"div#b8acbf43-e78c-48b0-a02b-f0d2e7d0e8a6\")\n",
        "        if ($myPB.hasClass('ui-progressbar')) {\n",
        "            $myPB.progressbar('value', 94);\n",
        "        } else {\n",
        "            $myPB.progressbar({value: 0, max: 98});\n",
        "        }\n",
        "        "
       ],
       "metadata": {},
       "output_type": "display_data",
       "text": [
        "<IPython.core.display.Javascript at 0x90552f60>"
       ]
      },
      {
       "javascript": [
        "$('div#933ae1fe-acfd-4da4-8944-0c3312e470e7').text('ETA:  0:00:00');"
       ],
       "metadata": {},
       "output_type": "display_data",
       "text": [
        "<IPython.core.display.Javascript at 0x90552080>"
       ]
      },
      {
       "javascript": [
        "$('div#77cc8e23-54eb-4c4c-ab47-9feb3d4e413e').text('95 of 98');"
       ],
       "metadata": {},
       "output_type": "display_data",
       "text": [
        "<IPython.core.display.Javascript at 0x90552390>"
       ]
      },
      {
       "javascript": [
        "$('div#31840dfe-65d4-4706-9b2c-0fb7948229c8').text(' 96%');"
       ],
       "metadata": {},
       "output_type": "display_data",
       "text": [
        "<IPython.core.display.Javascript at 0x90552cf8>"
       ]
      },
      {
       "javascript": [
        "\n",
        "        var $myPB = $(\"div#b8acbf43-e78c-48b0-a02b-f0d2e7d0e8a6\")\n",
        "        if ($myPB.hasClass('ui-progressbar')) {\n",
        "            $myPB.progressbar('value', 95);\n",
        "        } else {\n",
        "            $myPB.progressbar({value: 0, max: 98});\n",
        "        }\n",
        "        "
       ],
       "metadata": {},
       "output_type": "display_data",
       "text": [
        "<IPython.core.display.Javascript at 0x90552b00>"
       ]
      },
      {
       "javascript": [
        "$('div#933ae1fe-acfd-4da4-8944-0c3312e470e7').text('ETA:  0:00:00');"
       ],
       "metadata": {},
       "output_type": "display_data",
       "text": [
        "<IPython.core.display.Javascript at 0x90552b00>"
       ]
      },
      {
       "javascript": [
        "$('div#77cc8e23-54eb-4c4c-ab47-9feb3d4e413e').text('96 of 98');"
       ],
       "metadata": {},
       "output_type": "display_data",
       "text": [
        "<IPython.core.display.Javascript at 0x8a37bf28>"
       ]
      },
      {
       "javascript": [
        "$('div#31840dfe-65d4-4706-9b2c-0fb7948229c8').text(' 97%');"
       ],
       "metadata": {},
       "output_type": "display_data",
       "text": [
        "<IPython.core.display.Javascript at 0x8a37bf28>"
       ]
      },
      {
       "javascript": [
        "\n",
        "        var $myPB = $(\"div#b8acbf43-e78c-48b0-a02b-f0d2e7d0e8a6\")\n",
        "        if ($myPB.hasClass('ui-progressbar')) {\n",
        "            $myPB.progressbar('value', 96);\n",
        "        } else {\n",
        "            $myPB.progressbar({value: 0, max: 98});\n",
        "        }\n",
        "        "
       ],
       "metadata": {},
       "output_type": "display_data",
       "text": [
        "<IPython.core.display.Javascript at 0x8a37b8d0>"
       ]
      },
      {
       "javascript": [
        "$('div#933ae1fe-acfd-4da4-8944-0c3312e470e7').text('ETA:  0:00:00');"
       ],
       "metadata": {},
       "output_type": "display_data",
       "text": [
        "<IPython.core.display.Javascript at 0x8a37b630>"
       ]
      },
      {
       "javascript": [
        "$('div#77cc8e23-54eb-4c4c-ab47-9feb3d4e413e').text('97 of 98');"
       ],
       "metadata": {},
       "output_type": "display_data",
       "text": [
        "<IPython.core.display.Javascript at 0x8a37b9b0>"
       ]
      },
      {
       "javascript": [
        "$('div#31840dfe-65d4-4706-9b2c-0fb7948229c8').text(' 98%');"
       ],
       "metadata": {},
       "output_type": "display_data",
       "text": [
        "<IPython.core.display.Javascript at 0x8a37b668>"
       ]
      },
      {
       "javascript": [
        "\n",
        "        var $myPB = $(\"div#b8acbf43-e78c-48b0-a02b-f0d2e7d0e8a6\")\n",
        "        if ($myPB.hasClass('ui-progressbar')) {\n",
        "            $myPB.progressbar('value', 97);\n",
        "        } else {\n",
        "            $myPB.progressbar({value: 0, max: 98});\n",
        "        }\n",
        "        "
       ],
       "metadata": {},
       "output_type": "display_data",
       "text": [
        "<IPython.core.display.Javascript at 0x8a37b668>"
       ]
      },
      {
       "javascript": [
        "$('div#933ae1fe-acfd-4da4-8944-0c3312e470e7').text('ETA:  0:00:00');"
       ],
       "metadata": {},
       "output_type": "display_data",
       "text": [
        "<IPython.core.display.Javascript at 0x8a37b7f0>"
       ]
      },
      {
       "javascript": [
        "$('div#77cc8e23-54eb-4c4c-ab47-9feb3d4e413e').text('98 of 98');"
       ],
       "metadata": {},
       "output_type": "display_data",
       "text": [
        "<IPython.core.display.Javascript at 0x8ad30518>"
       ]
      },
      {
       "javascript": [
        "$('div#31840dfe-65d4-4706-9b2c-0fb7948229c8').text('100%');"
       ],
       "metadata": {},
       "output_type": "display_data",
       "text": [
        "<IPython.core.display.Javascript at 0x8ad30518>"
       ]
      },
      {
       "javascript": [
        "\n",
        "        var $myPB = $(\"div#b8acbf43-e78c-48b0-a02b-f0d2e7d0e8a6\")\n",
        "        if ($myPB.hasClass('ui-progressbar')) {\n",
        "            $myPB.progressbar('value', 98);\n",
        "        } else {\n",
        "            $myPB.progressbar({value: 0, max: 98});\n",
        "        }\n",
        "        "
       ],
       "metadata": {},
       "output_type": "display_data",
       "text": [
        "<IPython.core.display.Javascript at 0x8ad30978>"
       ]
      },
      {
       "javascript": [
        "$('div#933ae1fe-acfd-4da4-8944-0c3312e470e7').text('ETA:  0:00:00');"
       ],
       "metadata": {},
       "output_type": "display_data",
       "text": [
        "<IPython.core.display.Javascript at 0x8ad30d30>"
       ]
      },
      {
       "javascript": [
        "$('div#77cc8e23-54eb-4c4c-ab47-9feb3d4e413e').text('98 of 98');"
       ],
       "metadata": {},
       "output_type": "display_data",
       "text": [
        "<IPython.core.display.Javascript at 0x8ccfafd0>"
       ]
      },
      {
       "javascript": [
        "$('div#31840dfe-65d4-4706-9b2c-0fb7948229c8').text('100%');"
       ],
       "metadata": {},
       "output_type": "display_data",
       "text": [
        "<IPython.core.display.Javascript at 0x8ccfafd0>"
       ]
      },
      {
       "javascript": [
        "\n",
        "        var $myPB = $(\"div#b8acbf43-e78c-48b0-a02b-f0d2e7d0e8a6\")\n",
        "        if ($myPB.hasClass('ui-progressbar')) {\n",
        "            $myPB.progressbar('value', 98);\n",
        "        } else {\n",
        "            $myPB.progressbar({value: 0, max: 98});\n",
        "        }\n",
        "        "
       ],
       "metadata": {},
       "output_type": "display_data",
       "text": [
        "<IPython.core.display.Javascript at 0x8ad30a20>"
       ]
      },
      {
       "javascript": [
        "$('div#933ae1fe-acfd-4da4-8944-0c3312e470e7').text('Time: 0:00:04');"
       ],
       "metadata": {},
       "output_type": "display_data",
       "text": [
        "<IPython.core.display.Javascript at 0x8ad30978>"
       ]
      },
      {
       "javascript": [
        "var element = document.getElementById('0c52d91a-ee0c-4f7c-80fa-c43ecd842ba6');\n",
        "                    var parent = element.parentNode\n",
        "                    parent.removeChild(element);\n",
        "                    parent.parentElement.remove();"
       ],
       "metadata": {},
       "output_type": "display_data",
       "text": [
        "<IPython.core.display.Javascript at 0x869ffd68>"
       ]
      },
      {
       "javascript": [
        "this.cleanProgressBar(['0c52d91a-ee0c-4f7c-80fa-c43ecd842ba6', '77cc8e23-54eb-4c4c-ab47-9feb3d4e413e', '31840dfe-65d4-4706-9b2c-0fb7948229c8', 'b8acbf43-e78c-48b0-a02b-f0d2e7d0e8a6', '933ae1fe-acfd-4da4-8944-0c3312e470e7'])"
       ],
       "metadata": {},
       "output_type": "display_data",
       "text": [
        "<IPython.core.display.Javascript at 0x869ffd68>"
       ]
      }
     ],
     "prompt_number": 3
    },
    {
     "cell_type": "code",
     "collapsed": false,
     "input": [
      "\n",
      "mun_map_id = dict([(mun_map[doc]['attributes']['n'], doc) for doc in mun_map])\n",
      "# for d in mun_map:\n",
      "#     print d, mun_map[d]\n",
      "#     break"
     ],
     "language": "python",
     "metadata": {},
     "outputs": [],
     "prompt_number": 21
    },
    {
     "cell_type": "code",
     "collapsed": false,
     "input": [],
     "language": "python",
     "metadata": {},
     "outputs": []
    },
    {
     "cell_type": "code",
     "collapsed": false,
     "input": [
      "def get_info_from_map(doc):\n",
      "    doc_id = docs[doc]['n']\n",
      "    return mun_map[mun_map_id[doc_id]]\n",
      "\n",
      "def get_subjects(mdoc):\n",
      "    if 'scrape' in mdoc and 'Subjects' in mdoc['scrape']:\n",
      "        return mdoc['scrape']['Subjects']\n",
      "    else:\n",
      "        return []\n",
      "for doc in docs:\n",
      "    mdoc = get_info_from_map(doc)\n",
      "    subjects = get_subjects(mdoc)\n",
      "    text = mun.extract_sentences(docs)\n",
      "    tokens = mun.tokenize_text(text)\n",
      "    bigrams = mun.get_frequent_ngrams(sentences=text, ngram_length = 2, alnum_only=True, \\\n",
      "                                    remove_stopwords=True, lower_case=True)\n",
      "    \n",
      "    print bigrams.items()[:10]\n",
      "#     print text\n",
      "    \n",
      "    print subjects\n",
      "    break"
     ],
     "language": "python",
     "metadata": {},
     "outputs": [
      {
       "output_type": "stream",
       "stream": "stdout",
       "text": [
        "flattening\n"
       ]
      },
      {
       "javascript": [
        "//d599aa8e-75f0-471a-9a2c-b6ffcd30b867\n",
        "$(\"head\").append(\"<style> td.pb_widget {     width: auto; } td.pb_widget_fill {     width: 100%; } table.pb {     font-family: monospace;     border: 0;     margin: 0; } table.pb tr { border: 0; } table.pb td {     white-space: nowrap;     border: 0; } div.pb {     border: 1px solid #ddd;     border-radius: 3px; } div.pb_bar {     height: 1.5em; } </style>\")"
       ],
       "metadata": {},
       "output_type": "display_data",
       "text": [
        "<IPython.core.display.Javascript at 0x8f495cf8>"
       ]
      },
      {
       "javascript": [
        "\n",
        "                  // d599aa8e-75f0-471a-9a2c-b6ffcd30b867 -- used to remove this code blob in the end\n",
        "                  IPython.OutputArea.prototype.cleanProgressBar = function(uuids) {\n",
        "                      // filter by uuid-strings \n",
        "                      var myfilter = function(output) { \n",
        "                          var nuids = uuids.length;\n",
        "                          for (var i=0; i<nuids; i++) {\n",
        "                              if (output.hasOwnProperty('html')) {\n",
        "                                  if (output.html.indexOf(uuids[i]) != -1) {\n",
        "                                      return false;\n",
        "                                  }\n",
        "                              }\n",
        "                              if (output.hasOwnProperty('javascript')) {\n",
        "                                  if (output.javascript.indexOf(uuids[i]) != -1) {\n",
        "                                      return false;\n",
        "                                  }\n",
        "                              }\n",
        "                          }\n",
        "                          // keep all others\n",
        "                          return true;\n",
        "                      };\n",
        "\n",
        "                      // Filter the ouputs\n",
        "                      this.outputs = this.outputs.filter(myfilter);\n",
        "                };\n",
        "                "
       ],
       "metadata": {},
       "output_type": "display_data",
       "text": [
        "<IPython.core.display.Javascript at 0x8f4953c8>"
       ]
      },
      {
       "html": [
        "<div class=\"pb\" id=\"d599aa8e-75f0-471a-9a2c-b6ffcd30b867\"><table class=\"pb ui-widget\"><tr>\n",
        "<td class=\"pb_widget\">Tokenizing sentences</td>\n",
        "<td class=\"pb_widget\"><div id=\"815ed220-2881-46ff-a3ed-647162e3f0f0\">0 of 161907</div></td>\n",
        "<td class=\"pb_widget\"><div id=\"b0bf4be2-0798-4d71-b4ad-1557c6e1e574\">  0%</div></td>\n",
        "<td class=\"pb_widget_fill\">\n",
        "        <div class=\"pb_bar\" id=\"01f61595-1f6b-4101-aeac-06353daec82b\"></div>\n",
        "        <script type=\"text/javascript\">\n",
        "            $(\"div#01f61595-1f6b-4101-aeac-06353daec82b\").progressbar({value: 0, max: 161907});\n",
        "        </script>\n",
        "        </td>\n",
        "<td class=\"pb_widget\"><div id=\"f2ed42be-da08-4787-9c63-ec1433e26809\">ETA:  --:--:--</div></td>\n",
        "</tr></table><div>"
       ],
       "metadata": {},
       "output_type": "display_data",
       "text": [
        "<IPython.core.display.HTML at 0x8f495208>"
       ]
      },
      {
       "javascript": [
        "$('div#815ed220-2881-46ff-a3ed-647162e3f0f0').text('1620 of 161907');"
       ],
       "metadata": {},
       "output_type": "display_data",
       "text": [
        "<IPython.core.display.Javascript at 0x8eee6b38>"
       ]
      },
      {
       "javascript": [
        "$('div#b0bf4be2-0798-4d71-b4ad-1557c6e1e574').text('  1%');"
       ],
       "metadata": {},
       "output_type": "display_data",
       "text": [
        "<IPython.core.display.Javascript at 0x8eee6cf8>"
       ]
      },
      {
       "javascript": [
        "\n",
        "        var $myPB = $(\"div#01f61595-1f6b-4101-aeac-06353daec82b\")\n",
        "        if ($myPB.hasClass('ui-progressbar')) {\n",
        "            $myPB.progressbar('value', 1620);\n",
        "        } else {\n",
        "            $myPB.progressbar({value: 0, max: 161907});\n",
        "        }\n",
        "        "
       ],
       "metadata": {},
       "output_type": "display_data",
       "text": [
        "<IPython.core.display.Javascript at 0x8eee64e0>"
       ]
      },
      {
       "javascript": [
        "$('div#f2ed42be-da08-4787-9c63-ec1433e26809').text('ETA:  0:00:19');"
       ],
       "metadata": {},
       "output_type": "display_data",
       "text": [
        "<IPython.core.display.Javascript at 0x8eee66a0>"
       ]
      },
      {
       "javascript": [
        "$('div#815ed220-2881-46ff-a3ed-647162e3f0f0').text('3240 of 161907');"
       ],
       "metadata": {},
       "output_type": "display_data",
       "text": [
        "<IPython.core.display.Javascript at 0x8eee6b38>"
       ]
      },
      {
       "javascript": [
        "$('div#b0bf4be2-0798-4d71-b4ad-1557c6e1e574').text('  2%');"
       ],
       "metadata": {},
       "output_type": "display_data",
       "text": [
        "<IPython.core.display.Javascript at 0x8eee6320>"
       ]
      },
      {
       "javascript": [
        "\n",
        "        var $myPB = $(\"div#01f61595-1f6b-4101-aeac-06353daec82b\")\n",
        "        if ($myPB.hasClass('ui-progressbar')) {\n",
        "            $myPB.progressbar('value', 3240);\n",
        "        } else {\n",
        "            $myPB.progressbar({value: 0, max: 161907});\n",
        "        }\n",
        "        "
       ],
       "metadata": {},
       "output_type": "display_data",
       "text": [
        "<IPython.core.display.Javascript at 0x8eee6320>"
       ]
      },
      {
       "javascript": [
        "$('div#f2ed42be-da08-4787-9c63-ec1433e26809').text('ETA:  0:00:19');"
       ],
       "metadata": {},
       "output_type": "display_data",
       "text": [
        "<IPython.core.display.Javascript at 0x8eee6e10>"
       ]
      },
      {
       "javascript": [
        "$('div#815ed220-2881-46ff-a3ed-647162e3f0f0').text('4860 of 161907');"
       ],
       "metadata": {},
       "output_type": "display_data",
       "text": [
        "<IPython.core.display.Javascript at 0x8a8c5da0>"
       ]
      },
      {
       "javascript": [
        "$('div#b0bf4be2-0798-4d71-b4ad-1557c6e1e574').text('  3%');"
       ],
       "metadata": {},
       "output_type": "display_data",
       "text": [
        "<IPython.core.display.Javascript at 0x8a8c5da0>"
       ]
      },
      {
       "javascript": [
        "\n",
        "        var $myPB = $(\"div#01f61595-1f6b-4101-aeac-06353daec82b\")\n",
        "        if ($myPB.hasClass('ui-progressbar')) {\n",
        "            $myPB.progressbar('value', 4860);\n",
        "        } else {\n",
        "            $myPB.progressbar({value: 0, max: 161907});\n",
        "        }\n",
        "        "
       ],
       "metadata": {},
       "output_type": "display_data",
       "text": [
        "<IPython.core.display.Javascript at 0x8a8c5e10>"
       ]
      },
      {
       "javascript": [
        "$('div#f2ed42be-da08-4787-9c63-ec1433e26809').text('ETA:  0:00:17');"
       ],
       "metadata": {},
       "output_type": "display_data",
       "text": [
        "<IPython.core.display.Javascript at 0x8a8c5518>"
       ]
      },
      {
       "javascript": [
        "$('div#815ed220-2881-46ff-a3ed-647162e3f0f0').text('6480 of 161907');"
       ],
       "metadata": {},
       "output_type": "display_data",
       "text": [
        "<IPython.core.display.Javascript at 0x8bc21da0>"
       ]
      },
      {
       "javascript": [
        "$('div#b0bf4be2-0798-4d71-b4ad-1557c6e1e574').text('  4%');"
       ],
       "metadata": {},
       "output_type": "display_data",
       "text": [
        "<IPython.core.display.Javascript at 0x8bc21dd8>"
       ]
      },
      {
       "javascript": [
        "\n",
        "        var $myPB = $(\"div#01f61595-1f6b-4101-aeac-06353daec82b\")\n",
        "        if ($myPB.hasClass('ui-progressbar')) {\n",
        "            $myPB.progressbar('value', 6480);\n",
        "        } else {\n",
        "            $myPB.progressbar({value: 0, max: 161907});\n",
        "        }\n",
        "        "
       ],
       "metadata": {},
       "output_type": "display_data",
       "text": [
        "<IPython.core.display.Javascript at 0x8bc21080>"
       ]
      },
      {
       "javascript": [
        "$('div#f2ed42be-da08-4787-9c63-ec1433e26809').text('ETA:  0:00:16');"
       ],
       "metadata": {},
       "output_type": "display_data",
       "text": [
        "<IPython.core.display.Javascript at 0x8bc21898>"
       ]
      },
      {
       "javascript": [
        "$('div#815ed220-2881-46ff-a3ed-647162e3f0f0').text('8100 of 161907');"
       ],
       "metadata": {},
       "output_type": "display_data",
       "text": [
        "<IPython.core.display.Javascript at 0x8bc21e80>"
       ]
      },
      {
       "javascript": [
        "$('div#b0bf4be2-0798-4d71-b4ad-1557c6e1e574').text('  5%');"
       ],
       "metadata": {},
       "output_type": "display_data",
       "text": [
        "<IPython.core.display.Javascript at 0x8bc210f0>"
       ]
      },
      {
       "javascript": [
        "\n",
        "        var $myPB = $(\"div#01f61595-1f6b-4101-aeac-06353daec82b\")\n",
        "        if ($myPB.hasClass('ui-progressbar')) {\n",
        "            $myPB.progressbar('value', 8100);\n",
        "        } else {\n",
        "            $myPB.progressbar({value: 0, max: 161907});\n",
        "        }\n",
        "        "
       ],
       "metadata": {},
       "output_type": "display_data",
       "text": [
        "<IPython.core.display.Javascript at 0x8bc21b00>"
       ]
      },
      {
       "javascript": [
        "$('div#f2ed42be-da08-4787-9c63-ec1433e26809').text('ETA:  0:00:16');"
       ],
       "metadata": {},
       "output_type": "display_data",
       "text": [
        "<IPython.core.display.Javascript at 0x8bc21b00>"
       ]
      },
      {
       "javascript": [
        "$('div#815ed220-2881-46ff-a3ed-647162e3f0f0').text('9720 of 161907');"
       ],
       "metadata": {},
       "output_type": "display_data",
       "text": [
        "<IPython.core.display.Javascript at 0x8bc21c88>"
       ]
      },
      {
       "javascript": [
        "$('div#b0bf4be2-0798-4d71-b4ad-1557c6e1e574').text('  6%');"
       ],
       "metadata": {},
       "output_type": "display_data",
       "text": [
        "<IPython.core.display.Javascript at 0x8bc21ba8>"
       ]
      },
      {
       "javascript": [
        "\n",
        "        var $myPB = $(\"div#01f61595-1f6b-4101-aeac-06353daec82b\")\n",
        "        if ($myPB.hasClass('ui-progressbar')) {\n",
        "            $myPB.progressbar('value', 9720);\n",
        "        } else {\n",
        "            $myPB.progressbar({value: 0, max: 161907});\n",
        "        }\n",
        "        "
       ],
       "metadata": {},
       "output_type": "display_data",
       "text": [
        "<IPython.core.display.Javascript at 0x8bc21ba8>"
       ]
      },
      {
       "javascript": [
        "$('div#f2ed42be-da08-4787-9c63-ec1433e26809').text('ETA:  0:00:16');"
       ],
       "metadata": {},
       "output_type": "display_data",
       "text": [
        "<IPython.core.display.Javascript at 0x8bc21278>"
       ]
      },
      {
       "javascript": [
        "$('div#815ed220-2881-46ff-a3ed-647162e3f0f0').text('11340 of 161907');"
       ],
       "metadata": {},
       "output_type": "display_data",
       "text": [
        "<IPython.core.display.Javascript at 0x8bc214e0>"
       ]
      },
      {
       "javascript": [
        "$('div#b0bf4be2-0798-4d71-b4ad-1557c6e1e574').text('  7%');"
       ],
       "metadata": {},
       "output_type": "display_data",
       "text": [
        "<IPython.core.display.Javascript at 0x8bc214e0>"
       ]
      },
      {
       "javascript": [
        "\n",
        "        var $myPB = $(\"div#01f61595-1f6b-4101-aeac-06353daec82b\")\n",
        "        if ($myPB.hasClass('ui-progressbar')) {\n",
        "            $myPB.progressbar('value', 11340);\n",
        "        } else {\n",
        "            $myPB.progressbar({value: 0, max: 161907});\n",
        "        }\n",
        "        "
       ],
       "metadata": {},
       "output_type": "display_data",
       "text": [
        "<IPython.core.display.Javascript at 0x8bc214a8>"
       ]
      },
      {
       "javascript": [
        "$('div#f2ed42be-da08-4787-9c63-ec1433e26809').text('ETA:  0:00:15');"
       ],
       "metadata": {},
       "output_type": "display_data",
       "text": [
        "<IPython.core.display.Javascript at 0x8bc21c18>"
       ]
      },
      {
       "javascript": [
        "$('div#815ed220-2881-46ff-a3ed-647162e3f0f0').text('12960 of 161907');"
       ],
       "metadata": {},
       "output_type": "display_data",
       "text": [
        "<IPython.core.display.Javascript at 0x8af50fd0>"
       ]
      },
      {
       "javascript": [
        "$('div#b0bf4be2-0798-4d71-b4ad-1557c6e1e574').text('  8%');"
       ],
       "metadata": {},
       "output_type": "display_data",
       "text": [
        "<IPython.core.display.Javascript at 0x8af50d68>"
       ]
      },
      {
       "javascript": [
        "\n",
        "        var $myPB = $(\"div#01f61595-1f6b-4101-aeac-06353daec82b\")\n",
        "        if ($myPB.hasClass('ui-progressbar')) {\n",
        "            $myPB.progressbar('value', 12960);\n",
        "        } else {\n",
        "            $myPB.progressbar({value: 0, max: 161907});\n",
        "        }\n",
        "        "
       ],
       "metadata": {},
       "output_type": "display_data",
       "text": [
        "<IPython.core.display.Javascript at 0x8af50400>"
       ]
      },
      {
       "javascript": [
        "$('div#f2ed42be-da08-4787-9c63-ec1433e26809').text('ETA:  0:00:15');"
       ],
       "metadata": {},
       "output_type": "display_data",
       "text": [
        "<IPython.core.display.Javascript at 0x8af50908>"
       ]
      },
      {
       "javascript": [
        "$('div#815ed220-2881-46ff-a3ed-647162e3f0f0').text('14580 of 161907');"
       ],
       "metadata": {},
       "output_type": "display_data",
       "text": [
        "<IPython.core.display.Javascript at 0x8af50828>"
       ]
      },
      {
       "javascript": [
        "$('div#b0bf4be2-0798-4d71-b4ad-1557c6e1e574').text('  9%');"
       ],
       "metadata": {},
       "output_type": "display_data",
       "text": [
        "<IPython.core.display.Javascript at 0x8af50ba8>"
       ]
      },
      {
       "javascript": [
        "\n",
        "        var $myPB = $(\"div#01f61595-1f6b-4101-aeac-06353daec82b\")\n",
        "        if ($myPB.hasClass('ui-progressbar')) {\n",
        "            $myPB.progressbar('value', 14580);\n",
        "        } else {\n",
        "            $myPB.progressbar({value: 0, max: 161907});\n",
        "        }\n",
        "        "
       ],
       "metadata": {},
       "output_type": "display_data",
       "text": [
        "<IPython.core.display.Javascript at 0x8af50ba8>"
       ]
      },
      {
       "javascript": [
        "$('div#f2ed42be-da08-4787-9c63-ec1433e26809').text('ETA:  0:00:14');"
       ],
       "metadata": {},
       "output_type": "display_data",
       "text": [
        "<IPython.core.display.Javascript at 0x8af50278>"
       ]
      },
      {
       "javascript": [
        "$('div#815ed220-2881-46ff-a3ed-647162e3f0f0').text('16200 of 161907');"
       ],
       "metadata": {},
       "output_type": "display_data",
       "text": [
        "<IPython.core.display.Javascript at 0x8af50c50>"
       ]
      },
      {
       "javascript": [
        "$('div#b0bf4be2-0798-4d71-b4ad-1557c6e1e574').text(' 10%');"
       ],
       "metadata": {},
       "output_type": "display_data",
       "text": [
        "<IPython.core.display.Javascript at 0x8af50c50>"
       ]
      },
      {
       "javascript": [
        "\n",
        "        var $myPB = $(\"div#01f61595-1f6b-4101-aeac-06353daec82b\")\n",
        "        if ($myPB.hasClass('ui-progressbar')) {\n",
        "            $myPB.progressbar('value', 16200);\n",
        "        } else {\n",
        "            $myPB.progressbar({value: 0, max: 161907});\n",
        "        }\n",
        "        "
       ],
       "metadata": {},
       "output_type": "display_data",
       "text": [
        "<IPython.core.display.Javascript at 0x8af50860>"
       ]
      },
      {
       "javascript": [
        "$('div#f2ed42be-da08-4787-9c63-ec1433e26809').text('ETA:  0:00:14');"
       ],
       "metadata": {},
       "output_type": "display_data",
       "text": [
        "<IPython.core.display.Javascript at 0x8af505f8>"
       ]
      },
      {
       "javascript": [
        "$('div#815ed220-2881-46ff-a3ed-647162e3f0f0').text('17820 of 161907');"
       ],
       "metadata": {},
       "output_type": "display_data",
       "text": [
        "<IPython.core.display.Javascript at 0x8af50cf8>"
       ]
      },
      {
       "javascript": [
        "$('div#b0bf4be2-0798-4d71-b4ad-1557c6e1e574').text(' 11%');"
       ],
       "metadata": {},
       "output_type": "display_data",
       "text": [
        "<IPython.core.display.Javascript at 0x8af50a20>"
       ]
      },
      {
       "javascript": [
        "\n",
        "        var $myPB = $(\"div#01f61595-1f6b-4101-aeac-06353daec82b\")\n",
        "        if ($myPB.hasClass('ui-progressbar')) {\n",
        "            $myPB.progressbar('value', 17820);\n",
        "        } else {\n",
        "            $myPB.progressbar({value: 0, max: 161907});\n",
        "        }\n",
        "        "
       ],
       "metadata": {},
       "output_type": "display_data",
       "text": [
        "<IPython.core.display.Javascript at 0x8af500f0>"
       ]
      },
      {
       "javascript": [
        "$('div#f2ed42be-da08-4787-9c63-ec1433e26809').text('ETA:  0:00:14');"
       ],
       "metadata": {},
       "output_type": "display_data",
       "text": [
        "<IPython.core.display.Javascript at 0x8af50470>"
       ]
      },
      {
       "javascript": [
        "$('div#815ed220-2881-46ff-a3ed-647162e3f0f0').text('19440 of 161907');"
       ],
       "metadata": {},
       "output_type": "display_data",
       "text": [
        "<IPython.core.display.Javascript at 0x8af50e48>"
       ]
      },
      {
       "javascript": [
        "$('div#b0bf4be2-0798-4d71-b4ad-1557c6e1e574').text(' 12%');"
       ],
       "metadata": {},
       "output_type": "display_data",
       "text": [
        "<IPython.core.display.Javascript at 0x8af50f60>"
       ]
      },
      {
       "javascript": [
        "\n",
        "        var $myPB = $(\"div#01f61595-1f6b-4101-aeac-06353daec82b\")\n",
        "        if ($myPB.hasClass('ui-progressbar')) {\n",
        "            $myPB.progressbar('value', 19440);\n",
        "        } else {\n",
        "            $myPB.progressbar({value: 0, max: 161907});\n",
        "        }\n",
        "        "
       ],
       "metadata": {},
       "output_type": "display_data",
       "text": [
        "<IPython.core.display.Javascript at 0x8af50198>"
       ]
      },
      {
       "javascript": [
        "$('div#f2ed42be-da08-4787-9c63-ec1433e26809').text('ETA:  0:00:14');"
       ],
       "metadata": {},
       "output_type": "display_data",
       "text": [
        "<IPython.core.display.Javascript at 0x8af50198>"
       ]
      },
      {
       "javascript": [
        "$('div#815ed220-2881-46ff-a3ed-647162e3f0f0').text('21060 of 161907');"
       ],
       "metadata": {},
       "output_type": "display_data",
       "text": [
        "<IPython.core.display.Javascript at 0x8e44dc88>"
       ]
      },
      {
       "javascript": [
        "$('div#b0bf4be2-0798-4d71-b4ad-1557c6e1e574').text(' 13%');"
       ],
       "metadata": {},
       "output_type": "display_data",
       "text": [
        "<IPython.core.display.Javascript at 0x8e44d5c0>"
       ]
      },
      {
       "javascript": [
        "\n",
        "        var $myPB = $(\"div#01f61595-1f6b-4101-aeac-06353daec82b\")\n",
        "        if ($myPB.hasClass('ui-progressbar')) {\n",
        "            $myPB.progressbar('value', 21060);\n",
        "        } else {\n",
        "            $myPB.progressbar({value: 0, max: 161907});\n",
        "        }\n",
        "        "
       ],
       "metadata": {},
       "output_type": "display_data",
       "text": [
        "<IPython.core.display.Javascript at 0x8e44d5c0>"
       ]
      },
      {
       "javascript": [
        "$('div#f2ed42be-da08-4787-9c63-ec1433e26809').text('ETA:  0:00:14');"
       ],
       "metadata": {},
       "output_type": "display_data",
       "text": [
        "<IPython.core.display.Javascript at 0x8e44db00>"
       ]
      },
      {
       "javascript": [
        "$('div#815ed220-2881-46ff-a3ed-647162e3f0f0').text('22680 of 161907');"
       ],
       "metadata": {},
       "output_type": "display_data",
       "text": [
        "<IPython.core.display.Javascript at 0x8e44d550>"
       ]
      },
      {
       "javascript": [
        "$('div#b0bf4be2-0798-4d71-b4ad-1557c6e1e574').text(' 14%');"
       ],
       "metadata": {},
       "output_type": "display_data",
       "text": [
        "<IPython.core.display.Javascript at 0x8e44d550>"
       ]
      },
      {
       "javascript": [
        "\n",
        "        var $myPB = $(\"div#01f61595-1f6b-4101-aeac-06353daec82b\")\n",
        "        if ($myPB.hasClass('ui-progressbar')) {\n",
        "            $myPB.progressbar('value', 22680);\n",
        "        } else {\n",
        "            $myPB.progressbar({value: 0, max: 161907});\n",
        "        }\n",
        "        "
       ],
       "metadata": {},
       "output_type": "display_data",
       "text": [
        "<IPython.core.display.Javascript at 0x8e44dc18>"
       ]
      },
      {
       "javascript": [
        "$('div#f2ed42be-da08-4787-9c63-ec1433e26809').text('ETA:  0:00:14');"
       ],
       "metadata": {},
       "output_type": "display_data",
       "text": [
        "<IPython.core.display.Javascript at 0x8e44d8d0>"
       ]
      },
      {
       "javascript": [
        "$('div#815ed220-2881-46ff-a3ed-647162e3f0f0').text('24300 of 161907');"
       ],
       "metadata": {},
       "output_type": "display_data",
       "text": [
        "<IPython.core.display.Javascript at 0x8e44d1d0>"
       ]
      },
      {
       "javascript": [
        "$('div#b0bf4be2-0798-4d71-b4ad-1557c6e1e574').text(' 15%');"
       ],
       "metadata": {},
       "output_type": "display_data",
       "text": [
        "<IPython.core.display.Javascript at 0x8e44d320>"
       ]
      },
      {
       "javascript": [
        "\n",
        "        var $myPB = $(\"div#01f61595-1f6b-4101-aeac-06353daec82b\")\n",
        "        if ($myPB.hasClass('ui-progressbar')) {\n",
        "            $myPB.progressbar('value', 24300);\n",
        "        } else {\n",
        "            $myPB.progressbar({value: 0, max: 161907});\n",
        "        }\n",
        "        "
       ],
       "metadata": {},
       "output_type": "display_data",
       "text": [
        "<IPython.core.display.Javascript at 0x8e44ddd8>"
       ]
      },
      {
       "javascript": [
        "$('div#f2ed42be-da08-4787-9c63-ec1433e26809').text('ETA:  0:00:13');"
       ],
       "metadata": {},
       "output_type": "display_data",
       "text": [
        "<IPython.core.display.Javascript at 0x8e44d630>"
       ]
      },
      {
       "javascript": [
        "$('div#815ed220-2881-46ff-a3ed-647162e3f0f0').text('25920 of 161907');"
       ],
       "metadata": {},
       "output_type": "display_data",
       "text": [
        "<IPython.core.display.Javascript at 0x8e44d780>"
       ]
      },
      {
       "javascript": [
        "$('div#b0bf4be2-0798-4d71-b4ad-1557c6e1e574').text(' 16%');"
       ],
       "metadata": {},
       "output_type": "display_data",
       "text": [
        "<IPython.core.display.Javascript at 0x8ef36470>"
       ]
      },
      {
       "javascript": [
        "\n",
        "        var $myPB = $(\"div#01f61595-1f6b-4101-aeac-06353daec82b\")\n",
        "        if ($myPB.hasClass('ui-progressbar')) {\n",
        "            $myPB.progressbar('value', 25920);\n",
        "        } else {\n",
        "            $myPB.progressbar({value: 0, max: 161907});\n",
        "        }\n",
        "        "
       ],
       "metadata": {},
       "output_type": "display_data",
       "text": [
        "<IPython.core.display.Javascript at 0x8ef366d8>"
       ]
      },
      {
       "javascript": [
        "$('div#f2ed42be-da08-4787-9c63-ec1433e26809').text('ETA:  0:00:13');"
       ],
       "metadata": {},
       "output_type": "display_data",
       "text": [
        "<IPython.core.display.Javascript at 0x8e44d780>"
       ]
      },
      {
       "javascript": [
        "$('div#815ed220-2881-46ff-a3ed-647162e3f0f0').text('27540 of 161907');"
       ],
       "metadata": {},
       "output_type": "display_data",
       "text": [
        "<IPython.core.display.Javascript at 0x8ef36b00>"
       ]
      },
      {
       "javascript": [
        "$('div#b0bf4be2-0798-4d71-b4ad-1557c6e1e574').text(' 17%');"
       ],
       "metadata": {},
       "output_type": "display_data",
       "text": [
        "<IPython.core.display.Javascript at 0x8ef36b00>"
       ]
      },
      {
       "javascript": [
        "\n",
        "        var $myPB = $(\"div#01f61595-1f6b-4101-aeac-06353daec82b\")\n",
        "        if ($myPB.hasClass('ui-progressbar')) {\n",
        "            $myPB.progressbar('value', 27540);\n",
        "        } else {\n",
        "            $myPB.progressbar({value: 0, max: 161907});\n",
        "        }\n",
        "        "
       ],
       "metadata": {},
       "output_type": "display_data",
       "text": [
        "<IPython.core.display.Javascript at 0x8ef36a20>"
       ]
      },
      {
       "javascript": [
        "$('div#f2ed42be-da08-4787-9c63-ec1433e26809').text('ETA:  0:00:13');"
       ],
       "metadata": {},
       "output_type": "display_data",
       "text": [
        "<IPython.core.display.Javascript at 0x8ef36780>"
       ]
      },
      {
       "javascript": [
        "$('div#815ed220-2881-46ff-a3ed-647162e3f0f0').text('29160 of 161907');"
       ],
       "metadata": {},
       "output_type": "display_data",
       "text": [
        "<IPython.core.display.Javascript at 0x8ef36b38>"
       ]
      },
      {
       "javascript": [
        "$('div#b0bf4be2-0798-4d71-b4ad-1557c6e1e574').text(' 18%');"
       ],
       "metadata": {},
       "output_type": "display_data",
       "text": [
        "<IPython.core.display.Javascript at 0x8ef362e8>"
       ]
      },
      {
       "javascript": [
        "\n",
        "        var $myPB = $(\"div#01f61595-1f6b-4101-aeac-06353daec82b\")\n",
        "        if ($myPB.hasClass('ui-progressbar')) {\n",
        "            $myPB.progressbar('value', 29160);\n",
        "        } else {\n",
        "            $myPB.progressbar({value: 0, max: 161907});\n",
        "        }\n",
        "        "
       ],
       "metadata": {},
       "output_type": "display_data",
       "text": [
        "<IPython.core.display.Javascript at 0x8ef368d0>"
       ]
      },
      {
       "javascript": [
        "$('div#f2ed42be-da08-4787-9c63-ec1433e26809').text('ETA:  0:00:13');"
       ],
       "metadata": {},
       "output_type": "display_data",
       "text": [
        "<IPython.core.display.Javascript at 0x8ef36198>"
       ]
      },
      {
       "javascript": [
        "$('div#815ed220-2881-46ff-a3ed-647162e3f0f0').text('30780 of 161907');"
       ],
       "metadata": {},
       "output_type": "display_data",
       "text": [
        "<IPython.core.display.Javascript at 0x8ef36c88>"
       ]
      },
      {
       "javascript": [
        "$('div#b0bf4be2-0798-4d71-b4ad-1557c6e1e574').text(' 19%');"
       ],
       "metadata": {},
       "output_type": "display_data",
       "text": [
        "<IPython.core.display.Javascript at 0x8ef36fd0>"
       ]
      },
      {
       "javascript": [
        "\n",
        "        var $myPB = $(\"div#01f61595-1f6b-4101-aeac-06353daec82b\")\n",
        "        if ($myPB.hasClass('ui-progressbar')) {\n",
        "            $myPB.progressbar('value', 30780);\n",
        "        } else {\n",
        "            $myPB.progressbar({value: 0, max: 161907});\n",
        "        }\n",
        "        "
       ],
       "metadata": {},
       "output_type": "display_data",
       "text": [
        "<IPython.core.display.Javascript at 0x8ef363c8>"
       ]
      },
      {
       "javascript": [
        "$('div#f2ed42be-da08-4787-9c63-ec1433e26809').text('ETA:  0:00:12');"
       ],
       "metadata": {},
       "output_type": "display_data",
       "text": [
        "<IPython.core.display.Javascript at 0x8ef363c8>"
       ]
      },
      {
       "javascript": [
        "$('div#815ed220-2881-46ff-a3ed-647162e3f0f0').text('32400 of 161907');"
       ],
       "metadata": {},
       "output_type": "display_data",
       "text": [
        "<IPython.core.display.Javascript at 0x8a6c2278>"
       ]
      },
      {
       "javascript": [
        "$('div#b0bf4be2-0798-4d71-b4ad-1557c6e1e574').text(' 20%');"
       ],
       "metadata": {},
       "output_type": "display_data",
       "text": [
        "<IPython.core.display.Javascript at 0x8a6c2c18>"
       ]
      },
      {
       "javascript": [
        "\n",
        "        var $myPB = $(\"div#01f61595-1f6b-4101-aeac-06353daec82b\")\n",
        "        if ($myPB.hasClass('ui-progressbar')) {\n",
        "            $myPB.progressbar('value', 32400);\n",
        "        } else {\n",
        "            $myPB.progressbar({value: 0, max: 161907});\n",
        "        }\n",
        "        "
       ],
       "metadata": {},
       "output_type": "display_data",
       "text": [
        "<IPython.core.display.Javascript at 0x8a6c2c18>"
       ]
      },
      {
       "javascript": [
        "$('div#f2ed42be-da08-4787-9c63-ec1433e26809').text('ETA:  0:00:12');"
       ],
       "metadata": {},
       "output_type": "display_data",
       "text": [
        "<IPython.core.display.Javascript at 0x8a6c2240>"
       ]
      },
      {
       "javascript": [
        "$('div#815ed220-2881-46ff-a3ed-647162e3f0f0').text('34020 of 161907');"
       ],
       "metadata": {},
       "output_type": "display_data",
       "text": [
        "<IPython.core.display.Javascript at 0x8ebaf1d0>"
       ]
      },
      {
       "javascript": [
        "$('div#b0bf4be2-0798-4d71-b4ad-1557c6e1e574').text(' 21%');"
       ],
       "metadata": {},
       "output_type": "display_data",
       "text": [
        "<IPython.core.display.Javascript at 0x8ebaf1d0>"
       ]
      },
      {
       "javascript": [
        "\n",
        "        var $myPB = $(\"div#01f61595-1f6b-4101-aeac-06353daec82b\")\n",
        "        if ($myPB.hasClass('ui-progressbar')) {\n",
        "            $myPB.progressbar('value', 34020);\n",
        "        } else {\n",
        "            $myPB.progressbar({value: 0, max: 161907});\n",
        "        }\n",
        "        "
       ],
       "metadata": {},
       "output_type": "display_data",
       "text": [
        "<IPython.core.display.Javascript at 0x8ebaf278>"
       ]
      },
      {
       "javascript": [
        "$('div#f2ed42be-da08-4787-9c63-ec1433e26809').text('ETA:  0:00:12');"
       ],
       "metadata": {},
       "output_type": "display_data",
       "text": [
        "<IPython.core.display.Javascript at 0x8ebaff60>"
       ]
      },
      {
       "javascript": [
        "$('div#815ed220-2881-46ff-a3ed-647162e3f0f0').text('35640 of 161907');"
       ],
       "metadata": {},
       "output_type": "display_data",
       "text": [
        "<IPython.core.display.Javascript at 0x8ebafdd8>"
       ]
      },
      {
       "javascript": [
        "$('div#b0bf4be2-0798-4d71-b4ad-1557c6e1e574').text(' 22%');"
       ],
       "metadata": {},
       "output_type": "display_data",
       "text": [
        "<IPython.core.display.Javascript at 0x8ebaf908>"
       ]
      },
      {
       "javascript": [
        "\n",
        "        var $myPB = $(\"div#01f61595-1f6b-4101-aeac-06353daec82b\")\n",
        "        if ($myPB.hasClass('ui-progressbar')) {\n",
        "            $myPB.progressbar('value', 35640);\n",
        "        } else {\n",
        "            $myPB.progressbar({value: 0, max: 161907});\n",
        "        }\n",
        "        "
       ],
       "metadata": {},
       "output_type": "display_data",
       "text": [
        "<IPython.core.display.Javascript at 0x8ebaffd0>"
       ]
      },
      {
       "javascript": [
        "$('div#f2ed42be-da08-4787-9c63-ec1433e26809').text('ETA:  0:00:12');"
       ],
       "metadata": {},
       "output_type": "display_data",
       "text": [
        "<IPython.core.display.Javascript at 0x8ebaf9e8>"
       ]
      },
      {
       "javascript": [
        "$('div#815ed220-2881-46ff-a3ed-647162e3f0f0').text('37260 of 161907');"
       ],
       "metadata": {},
       "output_type": "display_data",
       "text": [
        "<IPython.core.display.Javascript at 0x8ebafdd8>"
       ]
      },
      {
       "javascript": [
        "$('div#b0bf4be2-0798-4d71-b4ad-1557c6e1e574').text(' 23%');"
       ],
       "metadata": {},
       "output_type": "display_data",
       "text": [
        "<IPython.core.display.Javascript at 0x8ebaf588>"
       ]
      },
      {
       "javascript": [
        "\n",
        "        var $myPB = $(\"div#01f61595-1f6b-4101-aeac-06353daec82b\")\n",
        "        if ($myPB.hasClass('ui-progressbar')) {\n",
        "            $myPB.progressbar('value', 37260);\n",
        "        } else {\n",
        "            $myPB.progressbar({value: 0, max: 161907});\n",
        "        }\n",
        "        "
       ],
       "metadata": {},
       "output_type": "display_data",
       "text": [
        "<IPython.core.display.Javascript at 0x8ebaf0f0>"
       ]
      },
      {
       "javascript": [
        "$('div#f2ed42be-da08-4787-9c63-ec1433e26809').text('ETA:  0:00:12');"
       ],
       "metadata": {},
       "output_type": "display_data",
       "text": [
        "<IPython.core.display.Javascript at 0x8ebaf0f0>"
       ]
      },
      {
       "javascript": [
        "$('div#815ed220-2881-46ff-a3ed-647162e3f0f0').text('38880 of 161907');"
       ],
       "metadata": {},
       "output_type": "display_data",
       "text": [
        "<IPython.core.display.Javascript at 0x8f11ea58>"
       ]
      },
      {
       "javascript": [
        "$('div#b0bf4be2-0798-4d71-b4ad-1557c6e1e574').text(' 24%');"
       ],
       "metadata": {},
       "output_type": "display_data",
       "text": [
        "<IPython.core.display.Javascript at 0x8f11e400>"
       ]
      },
      {
       "javascript": [
        "\n",
        "        var $myPB = $(\"div#01f61595-1f6b-4101-aeac-06353daec82b\")\n",
        "        if ($myPB.hasClass('ui-progressbar')) {\n",
        "            $myPB.progressbar('value', 38880);\n",
        "        } else {\n",
        "            $myPB.progressbar({value: 0, max: 161907});\n",
        "        }\n",
        "        "
       ],
       "metadata": {},
       "output_type": "display_data",
       "text": [
        "<IPython.core.display.Javascript at 0x8f11e160>"
       ]
      },
      {
       "javascript": [
        "$('div#f2ed42be-da08-4787-9c63-ec1433e26809').text('ETA:  0:00:12');"
       ],
       "metadata": {},
       "output_type": "display_data",
       "text": [
        "<IPython.core.display.Javascript at 0x8f11ea58>"
       ]
      },
      {
       "javascript": [
        "$('div#815ed220-2881-46ff-a3ed-647162e3f0f0').text('40500 of 161907');"
       ],
       "metadata": {},
       "output_type": "display_data",
       "text": [
        "<IPython.core.display.Javascript at 0x8f11e860>"
       ]
      },
      {
       "javascript": [
        "$('div#b0bf4be2-0798-4d71-b4ad-1557c6e1e574').text(' 25%');"
       ],
       "metadata": {},
       "output_type": "display_data",
       "text": [
        "<IPython.core.display.Javascript at 0x8f11e1d0>"
       ]
      },
      {
       "javascript": [
        "\n",
        "        var $myPB = $(\"div#01f61595-1f6b-4101-aeac-06353daec82b\")\n",
        "        if ($myPB.hasClass('ui-progressbar')) {\n",
        "            $myPB.progressbar('value', 40500);\n",
        "        } else {\n",
        "            $myPB.progressbar({value: 0, max: 161907});\n",
        "        }\n",
        "        "
       ],
       "metadata": {},
       "output_type": "display_data",
       "text": [
        "<IPython.core.display.Javascript at 0x8f11eda0>"
       ]
      },
      {
       "javascript": [
        "$('div#f2ed42be-da08-4787-9c63-ec1433e26809').text('ETA:  0:00:12');"
       ],
       "metadata": {},
       "output_type": "display_data",
       "text": [
        "<IPython.core.display.Javascript at 0x8f11e438>"
       ]
      },
      {
       "javascript": [
        "$('div#815ed220-2881-46ff-a3ed-647162e3f0f0').text('42120 of 161907');"
       ],
       "metadata": {},
       "output_type": "display_data",
       "text": [
        "<IPython.core.display.Javascript at 0x8d197240>"
       ]
      },
      {
       "javascript": [
        "$('div#b0bf4be2-0798-4d71-b4ad-1557c6e1e574').text(' 26%');"
       ],
       "metadata": {},
       "output_type": "display_data",
       "text": [
        "<IPython.core.display.Javascript at 0x8d197208>"
       ]
      },
      {
       "javascript": [
        "\n",
        "        var $myPB = $(\"div#01f61595-1f6b-4101-aeac-06353daec82b\")\n",
        "        if ($myPB.hasClass('ui-progressbar')) {\n",
        "            $myPB.progressbar('value', 42120);\n",
        "        } else {\n",
        "            $myPB.progressbar({value: 0, max: 161907});\n",
        "        }\n",
        "        "
       ],
       "metadata": {},
       "output_type": "display_data",
       "text": [
        "<IPython.core.display.Javascript at 0x8d197630>"
       ]
      },
      {
       "javascript": [
        "$('div#f2ed42be-da08-4787-9c63-ec1433e26809').text('ETA:  0:00:11');"
       ],
       "metadata": {},
       "output_type": "display_data",
       "text": [
        "<IPython.core.display.Javascript at 0x8d197630>"
       ]
      },
      {
       "javascript": [
        "$('div#815ed220-2881-46ff-a3ed-647162e3f0f0').text('43740 of 161907');"
       ],
       "metadata": {},
       "output_type": "display_data",
       "text": [
        "<IPython.core.display.Javascript at 0x8d197a90>"
       ]
      },
      {
       "javascript": [
        "$('div#b0bf4be2-0798-4d71-b4ad-1557c6e1e574').text(' 27%');"
       ],
       "metadata": {},
       "output_type": "display_data",
       "text": [
        "<IPython.core.display.Javascript at 0x8d1970b8>"
       ]
      },
      {
       "javascript": [
        "\n",
        "        var $myPB = $(\"div#01f61595-1f6b-4101-aeac-06353daec82b\")\n",
        "        if ($myPB.hasClass('ui-progressbar')) {\n",
        "            $myPB.progressbar('value', 43740);\n",
        "        } else {\n",
        "            $myPB.progressbar({value: 0, max: 161907});\n",
        "        }\n",
        "        "
       ],
       "metadata": {},
       "output_type": "display_data",
       "text": [
        "<IPython.core.display.Javascript at 0x8d1970b8>"
       ]
      },
      {
       "javascript": [
        "$('div#f2ed42be-da08-4787-9c63-ec1433e26809').text('ETA:  0:00:11');"
       ],
       "metadata": {},
       "output_type": "display_data",
       "text": [
        "<IPython.core.display.Javascript at 0x8d197588>"
       ]
      },
      {
       "javascript": [
        "$('div#815ed220-2881-46ff-a3ed-647162e3f0f0').text('45360 of 161907');"
       ],
       "metadata": {},
       "output_type": "display_data",
       "text": [
        "<IPython.core.display.Javascript at 0x8d1972b0>"
       ]
      },
      {
       "javascript": [
        "$('div#b0bf4be2-0798-4d71-b4ad-1557c6e1e574').text(' 28%');"
       ],
       "metadata": {},
       "output_type": "display_data",
       "text": [
        "<IPython.core.display.Javascript at 0x8d1972b0>"
       ]
      },
      {
       "javascript": [
        "\n",
        "        var $myPB = $(\"div#01f61595-1f6b-4101-aeac-06353daec82b\")\n",
        "        if ($myPB.hasClass('ui-progressbar')) {\n",
        "            $myPB.progressbar('value', 45360);\n",
        "        } else {\n",
        "            $myPB.progressbar({value: 0, max: 161907});\n",
        "        }\n",
        "        "
       ],
       "metadata": {},
       "output_type": "display_data",
       "text": [
        "<IPython.core.display.Javascript at 0x8d1976d8>"
       ]
      },
      {
       "javascript": [
        "$('div#f2ed42be-da08-4787-9c63-ec1433e26809').text('ETA:  0:00:11');"
       ],
       "metadata": {},
       "output_type": "display_data",
       "text": [
        "<IPython.core.display.Javascript at 0x8d197828>"
       ]
      },
      {
       "javascript": [
        "$('div#815ed220-2881-46ff-a3ed-647162e3f0f0').text('46980 of 161907');"
       ],
       "metadata": {},
       "output_type": "display_data",
       "text": [
        "<IPython.core.display.Javascript at 0x8d197940>"
       ]
      },
      {
       "javascript": [
        "$('div#b0bf4be2-0798-4d71-b4ad-1557c6e1e574').text(' 29%');"
       ],
       "metadata": {},
       "output_type": "display_data",
       "text": [
        "<IPython.core.display.Javascript at 0x8d197128>"
       ]
      },
      {
       "javascript": [
        "\n",
        "        var $myPB = $(\"div#01f61595-1f6b-4101-aeac-06353daec82b\")\n",
        "        if ($myPB.hasClass('ui-progressbar')) {\n",
        "            $myPB.progressbar('value', 46980);\n",
        "        } else {\n",
        "            $myPB.progressbar({value: 0, max: 161907});\n",
        "        }\n",
        "        "
       ],
       "metadata": {},
       "output_type": "display_data",
       "text": [
        "<IPython.core.display.Javascript at 0x8d197e48>"
       ]
      },
      {
       "javascript": [
        "$('div#f2ed42be-da08-4787-9c63-ec1433e26809').text('ETA:  0:00:11');"
       ],
       "metadata": {},
       "output_type": "display_data",
       "text": [
        "<IPython.core.display.Javascript at 0x8d197e10>"
       ]
      },
      {
       "javascript": [
        "$('div#815ed220-2881-46ff-a3ed-647162e3f0f0').text('48600 of 161907');"
       ],
       "metadata": {},
       "output_type": "display_data",
       "text": [
        "<IPython.core.display.Javascript at 0x8b5b16a0>"
       ]
      },
      {
       "javascript": [
        "$('div#b0bf4be2-0798-4d71-b4ad-1557c6e1e574').text(' 30%');"
       ],
       "metadata": {},
       "output_type": "display_data",
       "text": [
        "<IPython.core.display.Javascript at 0x8b5b1908>"
       ]
      },
      {
       "javascript": [
        "\n",
        "        var $myPB = $(\"div#01f61595-1f6b-4101-aeac-06353daec82b\")\n",
        "        if ($myPB.hasClass('ui-progressbar')) {\n",
        "            $myPB.progressbar('value', 48600);\n",
        "        } else {\n",
        "            $myPB.progressbar({value: 0, max: 161907});\n",
        "        }\n",
        "        "
       ],
       "metadata": {},
       "output_type": "display_data",
       "text": [
        "<IPython.core.display.Javascript at 0x8b5b1f98>"
       ]
      },
      {
       "javascript": [
        "$('div#f2ed42be-da08-4787-9c63-ec1433e26809').text('ETA:  0:00:11');"
       ],
       "metadata": {},
       "output_type": "display_data",
       "text": [
        "<IPython.core.display.Javascript at 0x8b5b1f98>"
       ]
      },
      {
       "javascript": [
        "$('div#815ed220-2881-46ff-a3ed-647162e3f0f0').text('50220 of 161907');"
       ],
       "metadata": {},
       "output_type": "display_data",
       "text": [
        "<IPython.core.display.Javascript at 0x8b5b16d8>"
       ]
      },
      {
       "javascript": [
        "$('div#b0bf4be2-0798-4d71-b4ad-1557c6e1e574').text(' 31%');"
       ],
       "metadata": {},
       "output_type": "display_data",
       "text": [
        "<IPython.core.display.Javascript at 0x8b5b1860>"
       ]
      },
      {
       "javascript": [
        "\n",
        "        var $myPB = $(\"div#01f61595-1f6b-4101-aeac-06353daec82b\")\n",
        "        if ($myPB.hasClass('ui-progressbar')) {\n",
        "            $myPB.progressbar('value', 50220);\n",
        "        } else {\n",
        "            $myPB.progressbar({value: 0, max: 161907});\n",
        "        }\n",
        "        "
       ],
       "metadata": {},
       "output_type": "display_data",
       "text": [
        "<IPython.core.display.Javascript at 0x8b5b1860>"
       ]
      },
      {
       "javascript": [
        "$('div#f2ed42be-da08-4787-9c63-ec1433e26809').text('ETA:  0:00:10');"
       ],
       "metadata": {},
       "output_type": "display_data",
       "text": [
        "<IPython.core.display.Javascript at 0x8b5b1cf8>"
       ]
      },
      {
       "javascript": [
        "$('div#815ed220-2881-46ff-a3ed-647162e3f0f0').text('51840 of 161907');"
       ],
       "metadata": {},
       "output_type": "display_data",
       "text": [
        "<IPython.core.display.Javascript at 0x8b5b14a8>"
       ]
      },
      {
       "javascript": [
        "$('div#b0bf4be2-0798-4d71-b4ad-1557c6e1e574').text(' 32%');"
       ],
       "metadata": {},
       "output_type": "display_data",
       "text": [
        "<IPython.core.display.Javascript at 0x8b5b1ef0>"
       ]
      },
      {
       "javascript": [
        "\n",
        "        var $myPB = $(\"div#01f61595-1f6b-4101-aeac-06353daec82b\")\n",
        "        if ($myPB.hasClass('ui-progressbar')) {\n",
        "            $myPB.progressbar('value', 51840);\n",
        "        } else {\n",
        "            $myPB.progressbar({value: 0, max: 161907});\n",
        "        }\n",
        "        "
       ],
       "metadata": {},
       "output_type": "display_data",
       "text": [
        "<IPython.core.display.Javascript at 0x8b5b14e0>"
       ]
      },
      {
       "javascript": [
        "$('div#f2ed42be-da08-4787-9c63-ec1433e26809').text('ETA:  0:00:10');"
       ],
       "metadata": {},
       "output_type": "display_data",
       "text": [
        "<IPython.core.display.Javascript at 0x8b5b15c0>"
       ]
      },
      {
       "javascript": [
        "$('div#815ed220-2881-46ff-a3ed-647162e3f0f0').text('53460 of 161907');"
       ],
       "metadata": {},
       "output_type": "display_data",
       "text": [
        "<IPython.core.display.Javascript at 0x8d0b8048>"
       ]
      },
      {
       "javascript": [
        "$('div#b0bf4be2-0798-4d71-b4ad-1557c6e1e574').text(' 33%');"
       ],
       "metadata": {},
       "output_type": "display_data",
       "text": [
        "<IPython.core.display.Javascript at 0x8d0b8470>"
       ]
      },
      {
       "javascript": [
        "\n",
        "        var $myPB = $(\"div#01f61595-1f6b-4101-aeac-06353daec82b\")\n",
        "        if ($myPB.hasClass('ui-progressbar')) {\n",
        "            $myPB.progressbar('value', 53460);\n",
        "        } else {\n",
        "            $myPB.progressbar({value: 0, max: 161907});\n",
        "        }\n",
        "        "
       ],
       "metadata": {},
       "output_type": "display_data",
       "text": [
        "<IPython.core.display.Javascript at 0x8d0b8dd8>"
       ]
      },
      {
       "javascript": [
        "$('div#f2ed42be-da08-4787-9c63-ec1433e26809').text('ETA:  0:00:10');"
       ],
       "metadata": {},
       "output_type": "display_data",
       "text": [
        "<IPython.core.display.Javascript at 0x8d0b8dd8>"
       ]
      },
      {
       "javascript": [
        "$('div#815ed220-2881-46ff-a3ed-647162e3f0f0').text('55080 of 161907');"
       ],
       "metadata": {},
       "output_type": "display_data",
       "text": [
        "<IPython.core.display.Javascript at 0x8d0b8e80>"
       ]
      },
      {
       "javascript": [
        "$('div#b0bf4be2-0798-4d71-b4ad-1557c6e1e574').text(' 34%');"
       ],
       "metadata": {},
       "output_type": "display_data",
       "text": [
        "<IPython.core.display.Javascript at 0x8d0b8ef0>"
       ]
      },
      {
       "javascript": [
        "\n",
        "        var $myPB = $(\"div#01f61595-1f6b-4101-aeac-06353daec82b\")\n",
        "        if ($myPB.hasClass('ui-progressbar')) {\n",
        "            $myPB.progressbar('value', 55080);\n",
        "        } else {\n",
        "            $myPB.progressbar({value: 0, max: 161907});\n",
        "        }\n",
        "        "
       ],
       "metadata": {},
       "output_type": "display_data",
       "text": [
        "<IPython.core.display.Javascript at 0x8d0b8ef0>"
       ]
      },
      {
       "javascript": [
        "$('div#f2ed42be-da08-4787-9c63-ec1433e26809').text('ETA:  0:00:10');"
       ],
       "metadata": {},
       "output_type": "display_data",
       "text": [
        "<IPython.core.display.Javascript at 0x8d0b8780>"
       ]
      },
      {
       "javascript": [
        "$('div#815ed220-2881-46ff-a3ed-647162e3f0f0').text('56700 of 161907');"
       ],
       "metadata": {},
       "output_type": "display_data",
       "text": [
        "<IPython.core.display.Javascript at 0x90173f60>"
       ]
      },
      {
       "javascript": [
        "$('div#b0bf4be2-0798-4d71-b4ad-1557c6e1e574').text(' 35%');"
       ],
       "metadata": {},
       "output_type": "display_data",
       "text": [
        "<IPython.core.display.Javascript at 0x90173f60>"
       ]
      },
      {
       "javascript": [
        "\n",
        "        var $myPB = $(\"div#01f61595-1f6b-4101-aeac-06353daec82b\")\n",
        "        if ($myPB.hasClass('ui-progressbar')) {\n",
        "            $myPB.progressbar('value', 56700);\n",
        "        } else {\n",
        "            $myPB.progressbar({value: 0, max: 161907});\n",
        "        }\n",
        "        "
       ],
       "metadata": {},
       "output_type": "display_data",
       "text": [
        "<IPython.core.display.Javascript at 0x901735c0>"
       ]
      },
      {
       "javascript": [
        "$('div#f2ed42be-da08-4787-9c63-ec1433e26809').text('ETA:  0:00:10');"
       ],
       "metadata": {},
       "output_type": "display_data",
       "text": [
        "<IPython.core.display.Javascript at 0x90173208>"
       ]
      },
      {
       "javascript": [
        "$('div#815ed220-2881-46ff-a3ed-647162e3f0f0').text('58320 of 161907');"
       ],
       "metadata": {},
       "output_type": "display_data",
       "text": [
        "<IPython.core.display.Javascript at 0x8d594668>"
       ]
      },
      {
       "javascript": [
        "$('div#b0bf4be2-0798-4d71-b4ad-1557c6e1e574').text(' 36%');"
       ],
       "metadata": {},
       "output_type": "display_data",
       "text": [
        "<IPython.core.display.Javascript at 0x8d594828>"
       ]
      },
      {
       "javascript": [
        "\n",
        "        var $myPB = $(\"div#01f61595-1f6b-4101-aeac-06353daec82b\")\n",
        "        if ($myPB.hasClass('ui-progressbar')) {\n",
        "            $myPB.progressbar('value', 58320);\n",
        "        } else {\n",
        "            $myPB.progressbar({value: 0, max: 161907});\n",
        "        }\n",
        "        "
       ],
       "metadata": {},
       "output_type": "display_data",
       "text": [
        "<IPython.core.display.Javascript at 0x8d594160>"
       ]
      },
      {
       "javascript": [
        "$('div#f2ed42be-da08-4787-9c63-ec1433e26809').text('ETA:  0:00:10');"
       ],
       "metadata": {},
       "output_type": "display_data",
       "text": [
        "<IPython.core.display.Javascript at 0x8d594080>"
       ]
      },
      {
       "javascript": [
        "$('div#815ed220-2881-46ff-a3ed-647162e3f0f0').text('59940 of 161907');"
       ],
       "metadata": {},
       "output_type": "display_data",
       "text": [
        "<IPython.core.display.Javascript at 0x8d594978>"
       ]
      },
      {
       "javascript": [
        "$('div#b0bf4be2-0798-4d71-b4ad-1557c6e1e574').text(' 37%');"
       ],
       "metadata": {},
       "output_type": "display_data",
       "text": [
        "<IPython.core.display.Javascript at 0x8d594128>"
       ]
      },
      {
       "javascript": [
        "\n",
        "        var $myPB = $(\"div#01f61595-1f6b-4101-aeac-06353daec82b\")\n",
        "        if ($myPB.hasClass('ui-progressbar')) {\n",
        "            $myPB.progressbar('value', 59940);\n",
        "        } else {\n",
        "            $myPB.progressbar({value: 0, max: 161907});\n",
        "        }\n",
        "        "
       ],
       "metadata": {},
       "output_type": "display_data",
       "text": [
        "<IPython.core.display.Javascript at 0x8d594048>"
       ]
      },
      {
       "javascript": [
        "$('div#f2ed42be-da08-4787-9c63-ec1433e26809').text('ETA:  0:00:10');"
       ],
       "metadata": {},
       "output_type": "display_data",
       "text": [
        "<IPython.core.display.Javascript at 0x8d594048>"
       ]
      },
      {
       "javascript": [
        "$('div#815ed220-2881-46ff-a3ed-647162e3f0f0').text('61560 of 161907');"
       ],
       "metadata": {},
       "output_type": "display_data",
       "text": [
        "<IPython.core.display.Javascript at 0x8d594f60>"
       ]
      },
      {
       "javascript": [
        "$('div#b0bf4be2-0798-4d71-b4ad-1557c6e1e574').text(' 38%');"
       ],
       "metadata": {},
       "output_type": "display_data",
       "text": [
        "<IPython.core.display.Javascript at 0x8d594240>"
       ]
      },
      {
       "javascript": [
        "\n",
        "        var $myPB = $(\"div#01f61595-1f6b-4101-aeac-06353daec82b\")\n",
        "        if ($myPB.hasClass('ui-progressbar')) {\n",
        "            $myPB.progressbar('value', 61560);\n",
        "        } else {\n",
        "            $myPB.progressbar({value: 0, max: 161907});\n",
        "        }\n",
        "        "
       ],
       "metadata": {},
       "output_type": "display_data",
       "text": [
        "<IPython.core.display.Javascript at 0x8d594240>"
       ]
      },
      {
       "javascript": [
        "$('div#f2ed42be-da08-4787-9c63-ec1433e26809').text('ETA:  0:00:09');"
       ],
       "metadata": {},
       "output_type": "display_data",
       "text": [
        "<IPython.core.display.Javascript at 0x8d594940>"
       ]
      },
      {
       "javascript": [
        "$('div#815ed220-2881-46ff-a3ed-647162e3f0f0').text('63180 of 161907');"
       ],
       "metadata": {},
       "output_type": "display_data",
       "text": [
        "<IPython.core.display.Javascript at 0x8ca795f8>"
       ]
      },
      {
       "javascript": [
        "$('div#b0bf4be2-0798-4d71-b4ad-1557c6e1e574').text(' 39%');"
       ],
       "metadata": {},
       "output_type": "display_data",
       "text": [
        "<IPython.core.display.Javascript at 0x8ca795f8>"
       ]
      },
      {
       "javascript": [
        "\n",
        "        var $myPB = $(\"div#01f61595-1f6b-4101-aeac-06353daec82b\")\n",
        "        if ($myPB.hasClass('ui-progressbar')) {\n",
        "            $myPB.progressbar('value', 63180);\n",
        "        } else {\n",
        "            $myPB.progressbar({value: 0, max: 161907});\n",
        "        }\n",
        "        "
       ],
       "metadata": {},
       "output_type": "display_data",
       "text": [
        "<IPython.core.display.Javascript at 0x8ca79898>"
       ]
      },
      {
       "javascript": [
        "$('div#f2ed42be-da08-4787-9c63-ec1433e26809').text('ETA:  0:00:09');"
       ],
       "metadata": {},
       "output_type": "display_data",
       "text": [
        "<IPython.core.display.Javascript at 0x8ca79eb8>"
       ]
      },
      {
       "javascript": [
        "$('div#815ed220-2881-46ff-a3ed-647162e3f0f0').text('64800 of 161907');"
       ],
       "metadata": {},
       "output_type": "display_data",
       "text": [
        "<IPython.core.display.Javascript at 0x8ca79940>"
       ]
      },
      {
       "javascript": [
        "$('div#b0bf4be2-0798-4d71-b4ad-1557c6e1e574').text(' 40%');"
       ],
       "metadata": {},
       "output_type": "display_data",
       "text": [
        "<IPython.core.display.Javascript at 0x8ca796d8>"
       ]
      },
      {
       "javascript": [
        "\n",
        "        var $myPB = $(\"div#01f61595-1f6b-4101-aeac-06353daec82b\")\n",
        "        if ($myPB.hasClass('ui-progressbar')) {\n",
        "            $myPB.progressbar('value', 64800);\n",
        "        } else {\n",
        "            $myPB.progressbar({value: 0, max: 161907});\n",
        "        }\n",
        "        "
       ],
       "metadata": {},
       "output_type": "display_data",
       "text": [
        "<IPython.core.display.Javascript at 0x8ca79be0>"
       ]
      },
      {
       "javascript": [
        "$('div#f2ed42be-da08-4787-9c63-ec1433e26809').text('ETA:  0:00:09');"
       ],
       "metadata": {},
       "output_type": "display_data",
       "text": [
        "<IPython.core.display.Javascript at 0x8ca79be0>"
       ]
      },
      {
       "javascript": [
        "$('div#815ed220-2881-46ff-a3ed-647162e3f0f0').text('66420 of 161907');"
       ],
       "metadata": {},
       "output_type": "display_data",
       "text": [
        "<IPython.core.display.Javascript at 0x8ca797f0>"
       ]
      },
      {
       "javascript": [
        "$('div#b0bf4be2-0798-4d71-b4ad-1557c6e1e574').text(' 41%');"
       ],
       "metadata": {},
       "output_type": "display_data",
       "text": [
        "<IPython.core.display.Javascript at 0x8ca799e8>"
       ]
      },
      {
       "javascript": [
        "\n",
        "        var $myPB = $(\"div#01f61595-1f6b-4101-aeac-06353daec82b\")\n",
        "        if ($myPB.hasClass('ui-progressbar')) {\n",
        "            $myPB.progressbar('value', 66420);\n",
        "        } else {\n",
        "            $myPB.progressbar({value: 0, max: 161907});\n",
        "        }\n",
        "        "
       ],
       "metadata": {},
       "output_type": "display_data",
       "text": [
        "<IPython.core.display.Javascript at 0x8ca799e8>"
       ]
      },
      {
       "javascript": [
        "$('div#f2ed42be-da08-4787-9c63-ec1433e26809').text('ETA:  0:00:09');"
       ],
       "metadata": {},
       "output_type": "display_data",
       "text": [
        "<IPython.core.display.Javascript at 0x8ca799b0>"
       ]
      },
      {
       "javascript": [
        "$('div#815ed220-2881-46ff-a3ed-647162e3f0f0').text('68040 of 161907');"
       ],
       "metadata": {},
       "output_type": "display_data",
       "text": [
        "<IPython.core.display.Javascript at 0x8b29ea90>"
       ]
      },
      {
       "javascript": [
        "$('div#b0bf4be2-0798-4d71-b4ad-1557c6e1e574').text(' 42%');"
       ],
       "metadata": {},
       "output_type": "display_data",
       "text": [
        "<IPython.core.display.Javascript at 0x8b29ea90>"
       ]
      },
      {
       "javascript": [
        "\n",
        "        var $myPB = $(\"div#01f61595-1f6b-4101-aeac-06353daec82b\")\n",
        "        if ($myPB.hasClass('ui-progressbar')) {\n",
        "            $myPB.progressbar('value', 68040);\n",
        "        } else {\n",
        "            $myPB.progressbar({value: 0, max: 161907});\n",
        "        }\n",
        "        "
       ],
       "metadata": {},
       "output_type": "display_data",
       "text": [
        "<IPython.core.display.Javascript at 0x8b29ef28>"
       ]
      },
      {
       "javascript": [
        "$('div#f2ed42be-da08-4787-9c63-ec1433e26809').text('ETA:  0:00:09');"
       ],
       "metadata": {},
       "output_type": "display_data",
       "text": [
        "<IPython.core.display.Javascript at 0x8b29ee48>"
       ]
      },
      {
       "javascript": [
        "$('div#815ed220-2881-46ff-a3ed-647162e3f0f0').text('69660 of 161907');"
       ],
       "metadata": {},
       "output_type": "display_data",
       "text": [
        "<IPython.core.display.Javascript at 0x8b29e898>"
       ]
      },
      {
       "javascript": [
        "$('div#b0bf4be2-0798-4d71-b4ad-1557c6e1e574').text(' 43%');"
       ],
       "metadata": {},
       "output_type": "display_data",
       "text": [
        "<IPython.core.display.Javascript at 0x8b29e080>"
       ]
      },
      {
       "javascript": [
        "\n",
        "        var $myPB = $(\"div#01f61595-1f6b-4101-aeac-06353daec82b\")\n",
        "        if ($myPB.hasClass('ui-progressbar')) {\n",
        "            $myPB.progressbar('value', 69660);\n",
        "        } else {\n",
        "            $myPB.progressbar({value: 0, max: 161907});\n",
        "        }\n",
        "        "
       ],
       "metadata": {},
       "output_type": "display_data",
       "text": [
        "<IPython.core.display.Javascript at 0x8b29e0f0>"
       ]
      },
      {
       "javascript": [
        "$('div#f2ed42be-da08-4787-9c63-ec1433e26809').text('ETA:  0:00:09');"
       ],
       "metadata": {},
       "output_type": "display_data",
       "text": [
        "<IPython.core.display.Javascript at 0x8b29ec50>"
       ]
      },
      {
       "javascript": [
        "$('div#815ed220-2881-46ff-a3ed-647162e3f0f0').text('71280 of 161907');"
       ],
       "metadata": {},
       "output_type": "display_data",
       "text": [
        "<IPython.core.display.Javascript at 0x8b29e080>"
       ]
      },
      {
       "javascript": [
        "$('div#b0bf4be2-0798-4d71-b4ad-1557c6e1e574').text(' 44%');"
       ],
       "metadata": {},
       "output_type": "display_data",
       "text": [
        "<IPython.core.display.Javascript at 0x8b29e898>"
       ]
      },
      {
       "javascript": [
        "\n",
        "        var $myPB = $(\"div#01f61595-1f6b-4101-aeac-06353daec82b\")\n",
        "        if ($myPB.hasClass('ui-progressbar')) {\n",
        "            $myPB.progressbar('value', 71280);\n",
        "        } else {\n",
        "            $myPB.progressbar({value: 0, max: 161907});\n",
        "        }\n",
        "        "
       ],
       "metadata": {},
       "output_type": "display_data",
       "text": [
        "<IPython.core.display.Javascript at 0x8b29e400>"
       ]
      },
      {
       "javascript": [
        "$('div#f2ed42be-da08-4787-9c63-ec1433e26809').text('ETA:  0:00:08');"
       ],
       "metadata": {},
       "output_type": "display_data",
       "text": [
        "<IPython.core.display.Javascript at 0x8b29e400>"
       ]
      },
      {
       "javascript": [
        "$('div#815ed220-2881-46ff-a3ed-647162e3f0f0').text('72900 of 161907');"
       ],
       "metadata": {},
       "output_type": "display_data",
       "text": [
        "<IPython.core.display.Javascript at 0x906cf438>"
       ]
      },
      {
       "javascript": [
        "$('div#b0bf4be2-0798-4d71-b4ad-1557c6e1e574').text(' 45%');"
       ],
       "metadata": {},
       "output_type": "display_data",
       "text": [
        "<IPython.core.display.Javascript at 0x906cf0f0>"
       ]
      },
      {
       "javascript": [
        "\n",
        "        var $myPB = $(\"div#01f61595-1f6b-4101-aeac-06353daec82b\")\n",
        "        if ($myPB.hasClass('ui-progressbar')) {\n",
        "            $myPB.progressbar('value', 72900);\n",
        "        } else {\n",
        "            $myPB.progressbar({value: 0, max: 161907});\n",
        "        }\n",
        "        "
       ],
       "metadata": {},
       "output_type": "display_data",
       "text": [
        "<IPython.core.display.Javascript at 0x906cf0f0>"
       ]
      },
      {
       "javascript": [
        "$('div#f2ed42be-da08-4787-9c63-ec1433e26809').text('ETA:  0:00:08');"
       ],
       "metadata": {},
       "output_type": "display_data",
       "text": [
        "<IPython.core.display.Javascript at 0x906cfe10>"
       ]
      },
      {
       "javascript": [
        "$('div#815ed220-2881-46ff-a3ed-647162e3f0f0').text('74520 of 161907');"
       ],
       "metadata": {},
       "output_type": "display_data",
       "text": [
        "<IPython.core.display.Javascript at 0x906cf048>"
       ]
      },
      {
       "javascript": [
        "$('div#b0bf4be2-0798-4d71-b4ad-1557c6e1e574').text(' 46%');"
       ],
       "metadata": {},
       "output_type": "display_data",
       "text": [
        "<IPython.core.display.Javascript at 0x906cf048>"
       ]
      },
      {
       "javascript": [
        "\n",
        "        var $myPB = $(\"div#01f61595-1f6b-4101-aeac-06353daec82b\")\n",
        "        if ($myPB.hasClass('ui-progressbar')) {\n",
        "            $myPB.progressbar('value', 74520);\n",
        "        } else {\n",
        "            $myPB.progressbar({value: 0, max: 161907});\n",
        "        }\n",
        "        "
       ],
       "metadata": {},
       "output_type": "display_data",
       "text": [
        "<IPython.core.display.Javascript at 0x906cf1d0>"
       ]
      },
      {
       "javascript": [
        "$('div#f2ed42be-da08-4787-9c63-ec1433e26809').text('ETA:  0:00:08');"
       ],
       "metadata": {},
       "output_type": "display_data",
       "text": [
        "<IPython.core.display.Javascript at 0x906cf240>"
       ]
      },
      {
       "javascript": [
        "$('div#815ed220-2881-46ff-a3ed-647162e3f0f0').text('76140 of 161907');"
       ],
       "metadata": {},
       "output_type": "display_data",
       "text": [
        "<IPython.core.display.Javascript at 0x8b81b080>"
       ]
      },
      {
       "javascript": [
        "$('div#b0bf4be2-0798-4d71-b4ad-1557c6e1e574').text(' 47%');"
       ],
       "metadata": {},
       "output_type": "display_data",
       "text": [
        "<IPython.core.display.Javascript at 0x8b81bb00>"
       ]
      },
      {
       "javascript": [
        "\n",
        "        var $myPB = $(\"div#01f61595-1f6b-4101-aeac-06353daec82b\")\n",
        "        if ($myPB.hasClass('ui-progressbar')) {\n",
        "            $myPB.progressbar('value', 76140);\n",
        "        } else {\n",
        "            $myPB.progressbar({value: 0, max: 161907});\n",
        "        }\n",
        "        "
       ],
       "metadata": {},
       "output_type": "display_data",
       "text": [
        "<IPython.core.display.Javascript at 0x8b81b5f8>"
       ]
      },
      {
       "javascript": [
        "$('div#f2ed42be-da08-4787-9c63-ec1433e26809').text('ETA:  0:00:08');"
       ],
       "metadata": {},
       "output_type": "display_data",
       "text": [
        "<IPython.core.display.Javascript at 0x8b81b630>"
       ]
      },
      {
       "javascript": [
        "$('div#815ed220-2881-46ff-a3ed-647162e3f0f0').text('77760 of 161907');"
       ],
       "metadata": {},
       "output_type": "display_data",
       "text": [
        "<IPython.core.display.Javascript at 0x8b81b0f0>"
       ]
      },
      {
       "javascript": [
        "$('div#b0bf4be2-0798-4d71-b4ad-1557c6e1e574').text(' 48%');"
       ],
       "metadata": {},
       "output_type": "display_data",
       "text": [
        "<IPython.core.display.Javascript at 0x8b81bc18>"
       ]
      },
      {
       "javascript": [
        "\n",
        "        var $myPB = $(\"div#01f61595-1f6b-4101-aeac-06353daec82b\")\n",
        "        if ($myPB.hasClass('ui-progressbar')) {\n",
        "            $myPB.progressbar('value', 77760);\n",
        "        } else {\n",
        "            $myPB.progressbar({value: 0, max: 161907});\n",
        "        }\n",
        "        "
       ],
       "metadata": {},
       "output_type": "display_data",
       "text": [
        "<IPython.core.display.Javascript at 0x8b81bc18>"
       ]
      },
      {
       "javascript": [
        "$('div#f2ed42be-da08-4787-9c63-ec1433e26809').text('ETA:  0:00:08');"
       ],
       "metadata": {},
       "output_type": "display_data",
       "text": [
        "<IPython.core.display.Javascript at 0x8b81b240>"
       ]
      },
      {
       "javascript": [
        "$('div#815ed220-2881-46ff-a3ed-647162e3f0f0').text('79380 of 161907');"
       ],
       "metadata": {},
       "output_type": "display_data",
       "text": [
        "<IPython.core.display.Javascript at 0x8b81be10>"
       ]
      },
      {
       "javascript": [
        "$('div#b0bf4be2-0798-4d71-b4ad-1557c6e1e574').text(' 49%');"
       ],
       "metadata": {},
       "output_type": "display_data",
       "text": [
        "<IPython.core.display.Javascript at 0x8b81be10>"
       ]
      },
      {
       "javascript": [
        "\n",
        "        var $myPB = $(\"div#01f61595-1f6b-4101-aeac-06353daec82b\")\n",
        "        if ($myPB.hasClass('ui-progressbar')) {\n",
        "            $myPB.progressbar('value', 79380);\n",
        "        } else {\n",
        "            $myPB.progressbar({value: 0, max: 161907});\n",
        "        }\n",
        "        "
       ],
       "metadata": {},
       "output_type": "display_data",
       "text": [
        "<IPython.core.display.Javascript at 0x8b81bd68>"
       ]
      },
      {
       "javascript": [
        "$('div#f2ed42be-da08-4787-9c63-ec1433e26809').text('ETA:  0:00:07');"
       ],
       "metadata": {},
       "output_type": "display_data",
       "text": [
        "<IPython.core.display.Javascript at 0x8b81bcf8>"
       ]
      },
      {
       "javascript": [
        "$('div#815ed220-2881-46ff-a3ed-647162e3f0f0').text('81000 of 161907');"
       ],
       "metadata": {},
       "output_type": "display_data",
       "text": [
        "<IPython.core.display.Javascript at 0x8f6166a0>"
       ]
      },
      {
       "javascript": [
        "$('div#b0bf4be2-0798-4d71-b4ad-1557c6e1e574').text(' 50%');"
       ],
       "metadata": {},
       "output_type": "display_data",
       "text": [
        "<IPython.core.display.Javascript at 0x8f616a90>"
       ]
      },
      {
       "javascript": [
        "\n",
        "        var $myPB = $(\"div#01f61595-1f6b-4101-aeac-06353daec82b\")\n",
        "        if ($myPB.hasClass('ui-progressbar')) {\n",
        "            $myPB.progressbar('value', 81000);\n",
        "        } else {\n",
        "            $myPB.progressbar({value: 0, max: 161907});\n",
        "        }\n",
        "        "
       ],
       "metadata": {},
       "output_type": "display_data",
       "text": [
        "<IPython.core.display.Javascript at 0x8f616d30>"
       ]
      },
      {
       "javascript": [
        "$('div#f2ed42be-da08-4787-9c63-ec1433e26809').text('ETA:  0:00:07');"
       ],
       "metadata": {},
       "output_type": "display_data",
       "text": [
        "<IPython.core.display.Javascript at 0x8f616be0>"
       ]
      },
      {
       "javascript": [
        "$('div#815ed220-2881-46ff-a3ed-647162e3f0f0').text('82620 of 161907');"
       ],
       "metadata": {},
       "output_type": "display_data",
       "text": [
        "<IPython.core.display.Javascript at 0x8f616be0>"
       ]
      },
      {
       "javascript": [
        "$('div#b0bf4be2-0798-4d71-b4ad-1557c6e1e574').text(' 51%');"
       ],
       "metadata": {},
       "output_type": "display_data",
       "text": [
        "<IPython.core.display.Javascript at 0x8f616a58>"
       ]
      },
      {
       "javascript": [
        "\n",
        "        var $myPB = $(\"div#01f61595-1f6b-4101-aeac-06353daec82b\")\n",
        "        if ($myPB.hasClass('ui-progressbar')) {\n",
        "            $myPB.progressbar('value', 82620);\n",
        "        } else {\n",
        "            $myPB.progressbar({value: 0, max: 161907});\n",
        "        }\n",
        "        "
       ],
       "metadata": {},
       "output_type": "display_data",
       "text": [
        "<IPython.core.display.Javascript at 0x8f616d30>"
       ]
      },
      {
       "javascript": [
        "$('div#f2ed42be-da08-4787-9c63-ec1433e26809').text('ETA:  0:00:07');"
       ],
       "metadata": {},
       "output_type": "display_data",
       "text": [
        "<IPython.core.display.Javascript at 0x8f616d30>"
       ]
      },
      {
       "javascript": [
        "$('div#815ed220-2881-46ff-a3ed-647162e3f0f0').text('84240 of 161907');"
       ],
       "metadata": {},
       "output_type": "display_data",
       "text": [
        "<IPython.core.display.Javascript at 0x8f616208>"
       ]
      },
      {
       "javascript": [
        "$('div#b0bf4be2-0798-4d71-b4ad-1557c6e1e574').text(' 52%');"
       ],
       "metadata": {},
       "output_type": "display_data",
       "text": [
        "<IPython.core.display.Javascript at 0x8f616e80>"
       ]
      },
      {
       "javascript": [
        "\n",
        "        var $myPB = $(\"div#01f61595-1f6b-4101-aeac-06353daec82b\")\n",
        "        if ($myPB.hasClass('ui-progressbar')) {\n",
        "            $myPB.progressbar('value', 84240);\n",
        "        } else {\n",
        "            $myPB.progressbar({value: 0, max: 161907});\n",
        "        }\n",
        "        "
       ],
       "metadata": {},
       "output_type": "display_data",
       "text": [
        "<IPython.core.display.Javascript at 0x8f616e80>"
       ]
      },
      {
       "javascript": [
        "$('div#f2ed42be-da08-4787-9c63-ec1433e26809').text('ETA:  0:00:07');"
       ],
       "metadata": {},
       "output_type": "display_data",
       "text": [
        "<IPython.core.display.Javascript at 0x8f616160>"
       ]
      },
      {
       "javascript": [
        "$('div#815ed220-2881-46ff-a3ed-647162e3f0f0').text('85860 of 161907');"
       ],
       "metadata": {},
       "output_type": "display_data",
       "text": [
        "<IPython.core.display.Javascript at 0x8f6168d0>"
       ]
      },
      {
       "javascript": [
        "$('div#b0bf4be2-0798-4d71-b4ad-1557c6e1e574').text(' 53%');"
       ],
       "metadata": {},
       "output_type": "display_data",
       "text": [
        "<IPython.core.display.Javascript at 0x8f6168d0>"
       ]
      },
      {
       "javascript": [
        "\n",
        "        var $myPB = $(\"div#01f61595-1f6b-4101-aeac-06353daec82b\")\n",
        "        if ($myPB.hasClass('ui-progressbar')) {\n",
        "            $myPB.progressbar('value', 85860);\n",
        "        } else {\n",
        "            $myPB.progressbar({value: 0, max: 161907});\n",
        "        }\n",
        "        "
       ],
       "metadata": {},
       "output_type": "display_data",
       "text": [
        "<IPython.core.display.Javascript at 0x8f616048>"
       ]
      },
      {
       "javascript": [
        "$('div#f2ed42be-da08-4787-9c63-ec1433e26809').text('ETA:  0:00:07');"
       ],
       "metadata": {},
       "output_type": "display_data",
       "text": [
        "<IPython.core.display.Javascript at 0x8f616b70>"
       ]
      },
      {
       "javascript": [
        "$('div#815ed220-2881-46ff-a3ed-647162e3f0f0').text('87480 of 161907');"
       ],
       "metadata": {},
       "output_type": "display_data",
       "text": [
        "<IPython.core.display.Javascript at 0x8f6165f8>"
       ]
      },
      {
       "javascript": [
        "$('div#b0bf4be2-0798-4d71-b4ad-1557c6e1e574').text(' 54%');"
       ],
       "metadata": {},
       "output_type": "display_data",
       "text": [
        "<IPython.core.display.Javascript at 0x8f616780>"
       ]
      },
      {
       "javascript": [
        "\n",
        "        var $myPB = $(\"div#01f61595-1f6b-4101-aeac-06353daec82b\")\n",
        "        if ($myPB.hasClass('ui-progressbar')) {\n",
        "            $myPB.progressbar('value', 87480);\n",
        "        } else {\n",
        "            $myPB.progressbar({value: 0, max: 161907});\n",
        "        }\n",
        "        "
       ],
       "metadata": {},
       "output_type": "display_data",
       "text": [
        "<IPython.core.display.Javascript at 0x8f616ba8>"
       ]
      },
      {
       "javascript": [
        "$('div#f2ed42be-da08-4787-9c63-ec1433e26809').text('ETA:  0:00:07');"
       ],
       "metadata": {},
       "output_type": "display_data",
       "text": [
        "<IPython.core.display.Javascript at 0x8f616978>"
       ]
      },
      {
       "javascript": [
        "$('div#815ed220-2881-46ff-a3ed-647162e3f0f0').text('89100 of 161907');"
       ],
       "metadata": {},
       "output_type": "display_data",
       "text": [
        "<IPython.core.display.Javascript at 0x8f616630>"
       ]
      },
      {
       "javascript": [
        "$('div#b0bf4be2-0798-4d71-b4ad-1557c6e1e574').text(' 55%');"
       ],
       "metadata": {},
       "output_type": "display_data",
       "text": [
        "<IPython.core.display.Javascript at 0x8f616320>"
       ]
      },
      {
       "javascript": [
        "\n",
        "        var $myPB = $(\"div#01f61595-1f6b-4101-aeac-06353daec82b\")\n",
        "        if ($myPB.hasClass('ui-progressbar')) {\n",
        "            $myPB.progressbar('value', 89100);\n",
        "        } else {\n",
        "            $myPB.progressbar({value: 0, max: 161907});\n",
        "        }\n",
        "        "
       ],
       "metadata": {},
       "output_type": "display_data",
       "text": [
        "<IPython.core.display.Javascript at 0x8f616390>"
       ]
      },
      {
       "javascript": [
        "$('div#f2ed42be-da08-4787-9c63-ec1433e26809').text('ETA:  0:00:06');"
       ],
       "metadata": {},
       "output_type": "display_data",
       "text": [
        "<IPython.core.display.Javascript at 0x8f616d68>"
       ]
      },
      {
       "javascript": [
        "$('div#815ed220-2881-46ff-a3ed-647162e3f0f0').text('90720 of 161907');"
       ],
       "metadata": {},
       "output_type": "display_data",
       "text": [
        "<IPython.core.display.Javascript at 0x8f616198>"
       ]
      },
      {
       "javascript": [
        "$('div#b0bf4be2-0798-4d71-b4ad-1557c6e1e574').text(' 56%');"
       ],
       "metadata": {},
       "output_type": "display_data",
       "text": [
        "<IPython.core.display.Javascript at 0x906cf9b0>"
       ]
      },
      {
       "javascript": [
        "\n",
        "        var $myPB = $(\"div#01f61595-1f6b-4101-aeac-06353daec82b\")\n",
        "        if ($myPB.hasClass('ui-progressbar')) {\n",
        "            $myPB.progressbar('value', 90720);\n",
        "        } else {\n",
        "            $myPB.progressbar({value: 0, max: 161907});\n",
        "        }\n",
        "        "
       ],
       "metadata": {},
       "output_type": "display_data",
       "text": [
        "<IPython.core.display.Javascript at 0x8f616198>"
       ]
      },
      {
       "javascript": [
        "$('div#f2ed42be-da08-4787-9c63-ec1433e26809').text('ETA:  0:00:06');"
       ],
       "metadata": {},
       "output_type": "display_data",
       "text": [
        "<IPython.core.display.Javascript at 0x8f616630>"
       ]
      },
      {
       "javascript": [
        "$('div#815ed220-2881-46ff-a3ed-647162e3f0f0').text('92340 of 161907');"
       ],
       "metadata": {},
       "output_type": "display_data",
       "text": [
        "<IPython.core.display.Javascript at 0x8d8d1e80>"
       ]
      },
      {
       "javascript": [
        "$('div#b0bf4be2-0798-4d71-b4ad-1557c6e1e574').text(' 57%');"
       ],
       "metadata": {},
       "output_type": "display_data",
       "text": [
        "<IPython.core.display.Javascript at 0x8d8d18d0>"
       ]
      },
      {
       "javascript": [
        "\n",
        "        var $myPB = $(\"div#01f61595-1f6b-4101-aeac-06353daec82b\")\n",
        "        if ($myPB.hasClass('ui-progressbar')) {\n",
        "            $myPB.progressbar('value', 92340);\n",
        "        } else {\n",
        "            $myPB.progressbar({value: 0, max: 161907});\n",
        "        }\n",
        "        "
       ],
       "metadata": {},
       "output_type": "display_data",
       "text": [
        "<IPython.core.display.Javascript at 0x8d8d13c8>"
       ]
      },
      {
       "javascript": [
        "$('div#f2ed42be-da08-4787-9c63-ec1433e26809').text('ETA:  0:00:06');"
       ],
       "metadata": {},
       "output_type": "display_data",
       "text": [
        "<IPython.core.display.Javascript at 0x8d8d14a8>"
       ]
      },
      {
       "javascript": [
        "$('div#815ed220-2881-46ff-a3ed-647162e3f0f0').text('93960 of 161907');"
       ],
       "metadata": {},
       "output_type": "display_data",
       "text": [
        "<IPython.core.display.Javascript at 0x8d8d17f0>"
       ]
      },
      {
       "javascript": [
        "$('div#b0bf4be2-0798-4d71-b4ad-1557c6e1e574').text(' 58%');"
       ],
       "metadata": {},
       "output_type": "display_data",
       "text": [
        "<IPython.core.display.Javascript at 0x8d8d1cf8>"
       ]
      },
      {
       "javascript": [
        "\n",
        "        var $myPB = $(\"div#01f61595-1f6b-4101-aeac-06353daec82b\")\n",
        "        if ($myPB.hasClass('ui-progressbar')) {\n",
        "            $myPB.progressbar('value', 93960);\n",
        "        } else {\n",
        "            $myPB.progressbar({value: 0, max: 161907});\n",
        "        }\n",
        "        "
       ],
       "metadata": {},
       "output_type": "display_data",
       "text": [
        "<IPython.core.display.Javascript at 0x8d8d15c0>"
       ]
      },
      {
       "javascript": [
        "$('div#f2ed42be-da08-4787-9c63-ec1433e26809').text('ETA:  0:00:06');"
       ],
       "metadata": {},
       "output_type": "display_data",
       "text": [
        "<IPython.core.display.Javascript at 0x8d8d15c0>"
       ]
      },
      {
       "javascript": [
        "$('div#815ed220-2881-46ff-a3ed-647162e3f0f0').text('95580 of 161907');"
       ],
       "metadata": {},
       "output_type": "display_data",
       "text": [
        "<IPython.core.display.Javascript at 0x8d8d1a58>"
       ]
      },
      {
       "javascript": [
        "$('div#b0bf4be2-0798-4d71-b4ad-1557c6e1e574').text(' 59%');"
       ],
       "metadata": {},
       "output_type": "display_data",
       "text": [
        "<IPython.core.display.Javascript at 0x8d8d12b0>"
       ]
      },
      {
       "javascript": [
        "\n",
        "        var $myPB = $(\"div#01f61595-1f6b-4101-aeac-06353daec82b\")\n",
        "        if ($myPB.hasClass('ui-progressbar')) {\n",
        "            $myPB.progressbar('value', 95580);\n",
        "        } else {\n",
        "            $myPB.progressbar({value: 0, max: 161907});\n",
        "        }\n",
        "        "
       ],
       "metadata": {},
       "output_type": "display_data",
       "text": [
        "<IPython.core.display.Javascript at 0x8d8d12b0>"
       ]
      },
      {
       "javascript": [
        "$('div#f2ed42be-da08-4787-9c63-ec1433e26809').text('ETA:  0:00:06');"
       ],
       "metadata": {},
       "output_type": "display_data",
       "text": [
        "<IPython.core.display.Javascript at 0x8d8d16d8>"
       ]
      },
      {
       "javascript": [
        "$('div#815ed220-2881-46ff-a3ed-647162e3f0f0').text('97200 of 161907');"
       ],
       "metadata": {},
       "output_type": "display_data",
       "text": [
        "<IPython.core.display.Javascript at 0x8d8d1518>"
       ]
      },
      {
       "javascript": [
        "$('div#b0bf4be2-0798-4d71-b4ad-1557c6e1e574').text(' 60%');"
       ],
       "metadata": {},
       "output_type": "display_data",
       "text": [
        "<IPython.core.display.Javascript at 0x8d8d1518>"
       ]
      },
      {
       "javascript": [
        "\n",
        "        var $myPB = $(\"div#01f61595-1f6b-4101-aeac-06353daec82b\")\n",
        "        if ($myPB.hasClass('ui-progressbar')) {\n",
        "            $myPB.progressbar('value', 97200);\n",
        "        } else {\n",
        "            $myPB.progressbar({value: 0, max: 161907});\n",
        "        }\n",
        "        "
       ],
       "metadata": {},
       "output_type": "display_data",
       "text": [
        "<IPython.core.display.Javascript at 0x8d8d1908>"
       ]
      },
      {
       "javascript": [
        "$('div#f2ed42be-da08-4787-9c63-ec1433e26809').text('ETA:  0:00:06');"
       ],
       "metadata": {},
       "output_type": "display_data",
       "text": [
        "<IPython.core.display.Javascript at 0x8948fe80>"
       ]
      },
      {
       "javascript": [
        "$('div#815ed220-2881-46ff-a3ed-647162e3f0f0').text('98820 of 161907');"
       ],
       "metadata": {},
       "output_type": "display_data",
       "text": [
        "<IPython.core.display.Javascript at 0x8948fc88>"
       ]
      },
      {
       "javascript": [
        "$('div#b0bf4be2-0798-4d71-b4ad-1557c6e1e574').text(' 61%');"
       ],
       "metadata": {},
       "output_type": "display_data",
       "text": [
        "<IPython.core.display.Javascript at 0x8948f208>"
       ]
      },
      {
       "javascript": [
        "\n",
        "        var $myPB = $(\"div#01f61595-1f6b-4101-aeac-06353daec82b\")\n",
        "        if ($myPB.hasClass('ui-progressbar')) {\n",
        "            $myPB.progressbar('value', 98820);\n",
        "        } else {\n",
        "            $myPB.progressbar({value: 0, max: 161907});\n",
        "        }\n",
        "        "
       ],
       "metadata": {},
       "output_type": "display_data",
       "text": [
        "<IPython.core.display.Javascript at 0x8948fdd8>"
       ]
      },
      {
       "javascript": [
        "$('div#f2ed42be-da08-4787-9c63-ec1433e26809').text('ETA:  0:00:06');"
       ],
       "metadata": {},
       "output_type": "display_data",
       "text": [
        "<IPython.core.display.Javascript at 0x8948ff98>"
       ]
      },
      {
       "javascript": [
        "$('div#815ed220-2881-46ff-a3ed-647162e3f0f0').text('100440 of 161907');"
       ],
       "metadata": {},
       "output_type": "display_data",
       "text": [
        "<IPython.core.display.Javascript at 0x8d73d5c0>"
       ]
      },
      {
       "javascript": [
        "$('div#b0bf4be2-0798-4d71-b4ad-1557c6e1e574').text(' 62%');"
       ],
       "metadata": {},
       "output_type": "display_data",
       "text": [
        "<IPython.core.display.Javascript at 0x8d73d0b8>"
       ]
      },
      {
       "javascript": [
        "\n",
        "        var $myPB = $(\"div#01f61595-1f6b-4101-aeac-06353daec82b\")\n",
        "        if ($myPB.hasClass('ui-progressbar')) {\n",
        "            $myPB.progressbar('value', 100440);\n",
        "        } else {\n",
        "            $myPB.progressbar({value: 0, max: 161907});\n",
        "        }\n",
        "        "
       ],
       "metadata": {},
       "output_type": "display_data",
       "text": [
        "<IPython.core.display.Javascript at 0x8d73d898>"
       ]
      },
      {
       "javascript": [
        "$('div#f2ed42be-da08-4787-9c63-ec1433e26809').text('ETA:  0:00:05');"
       ],
       "metadata": {},
       "output_type": "display_data",
       "text": [
        "<IPython.core.display.Javascript at 0x8d73d898>"
       ]
      },
      {
       "javascript": [
        "$('div#815ed220-2881-46ff-a3ed-647162e3f0f0').text('102060 of 161907');"
       ],
       "metadata": {},
       "output_type": "display_data",
       "text": [
        "<IPython.core.display.Javascript at 0x8d649128>"
       ]
      },
      {
       "javascript": [
        "$('div#b0bf4be2-0798-4d71-b4ad-1557c6e1e574').text(' 63%');"
       ],
       "metadata": {},
       "output_type": "display_data",
       "text": [
        "<IPython.core.display.Javascript at 0x8d649438>"
       ]
      },
      {
       "javascript": [
        "\n",
        "        var $myPB = $(\"div#01f61595-1f6b-4101-aeac-06353daec82b\")\n",
        "        if ($myPB.hasClass('ui-progressbar')) {\n",
        "            $myPB.progressbar('value', 102060);\n",
        "        } else {\n",
        "            $myPB.progressbar({value: 0, max: 161907});\n",
        "        }\n",
        "        "
       ],
       "metadata": {},
       "output_type": "display_data",
       "text": [
        "<IPython.core.display.Javascript at 0x8d649710>"
       ]
      },
      {
       "javascript": [
        "$('div#f2ed42be-da08-4787-9c63-ec1433e26809').text('ETA:  0:00:05');"
       ],
       "metadata": {},
       "output_type": "display_data",
       "text": [
        "<IPython.core.display.Javascript at 0x8d649128>"
       ]
      },
      {
       "javascript": [
        "$('div#815ed220-2881-46ff-a3ed-647162e3f0f0').text('103680 of 161907');"
       ],
       "metadata": {},
       "output_type": "display_data",
       "text": [
        "<IPython.core.display.Javascript at 0x8d6496a0>"
       ]
      },
      {
       "javascript": [
        "$('div#b0bf4be2-0798-4d71-b4ad-1557c6e1e574').text(' 64%');"
       ],
       "metadata": {},
       "output_type": "display_data",
       "text": [
        "<IPython.core.display.Javascript at 0x8d649160>"
       ]
      },
      {
       "javascript": [
        "\n",
        "        var $myPB = $(\"div#01f61595-1f6b-4101-aeac-06353daec82b\")\n",
        "        if ($myPB.hasClass('ui-progressbar')) {\n",
        "            $myPB.progressbar('value', 103680);\n",
        "        } else {\n",
        "            $myPB.progressbar({value: 0, max: 161907});\n",
        "        }\n",
        "        "
       ],
       "metadata": {},
       "output_type": "display_data",
       "text": [
        "<IPython.core.display.Javascript at 0x8d6492b0>"
       ]
      },
      {
       "javascript": [
        "$('div#f2ed42be-da08-4787-9c63-ec1433e26809').text('ETA:  0:00:05');"
       ],
       "metadata": {},
       "output_type": "display_data",
       "text": [
        "<IPython.core.display.Javascript at 0x8d649080>"
       ]
      },
      {
       "javascript": [
        "$('div#815ed220-2881-46ff-a3ed-647162e3f0f0').text('105300 of 161907');"
       ],
       "metadata": {},
       "output_type": "display_data",
       "text": [
        "<IPython.core.display.Javascript at 0x8d6492e8>"
       ]
      },
      {
       "javascript": [
        "$('div#b0bf4be2-0798-4d71-b4ad-1557c6e1e574').text(' 65%');"
       ],
       "metadata": {},
       "output_type": "display_data",
       "text": [
        "<IPython.core.display.Javascript at 0x90802e48>"
       ]
      },
      {
       "javascript": [
        "\n",
        "        var $myPB = $(\"div#01f61595-1f6b-4101-aeac-06353daec82b\")\n",
        "        if ($myPB.hasClass('ui-progressbar')) {\n",
        "            $myPB.progressbar('value', 105300);\n",
        "        } else {\n",
        "            $myPB.progressbar({value: 0, max: 161907});\n",
        "        }\n",
        "        "
       ],
       "metadata": {},
       "output_type": "display_data",
       "text": [
        "<IPython.core.display.Javascript at 0x90802780>"
       ]
      },
      {
       "javascript": [
        "$('div#f2ed42be-da08-4787-9c63-ec1433e26809').text('ETA:  0:00:05');"
       ],
       "metadata": {},
       "output_type": "display_data",
       "text": [
        "<IPython.core.display.Javascript at 0x8d6492e8>"
       ]
      },
      {
       "javascript": [
        "$('div#815ed220-2881-46ff-a3ed-647162e3f0f0').text('106920 of 161907');"
       ],
       "metadata": {},
       "output_type": "display_data",
       "text": [
        "<IPython.core.display.Javascript at 0x90802e10>"
       ]
      },
      {
       "javascript": [
        "$('div#b0bf4be2-0798-4d71-b4ad-1557c6e1e574').text(' 66%');"
       ],
       "metadata": {},
       "output_type": "display_data",
       "text": [
        "<IPython.core.display.Javascript at 0x908025c0>"
       ]
      },
      {
       "javascript": [
        "\n",
        "        var $myPB = $(\"div#01f61595-1f6b-4101-aeac-06353daec82b\")\n",
        "        if ($myPB.hasClass('ui-progressbar')) {\n",
        "            $myPB.progressbar('value', 106920);\n",
        "        } else {\n",
        "            $myPB.progressbar({value: 0, max: 161907});\n",
        "        }\n",
        "        "
       ],
       "metadata": {},
       "output_type": "display_data",
       "text": [
        "<IPython.core.display.Javascript at 0x908025c0>"
       ]
      },
      {
       "javascript": [
        "$('div#f2ed42be-da08-4787-9c63-ec1433e26809').text('ETA:  0:00:05');"
       ],
       "metadata": {},
       "output_type": "display_data",
       "text": [
        "<IPython.core.display.Javascript at 0x90802f98>"
       ]
      },
      {
       "javascript": [
        "$('div#815ed220-2881-46ff-a3ed-647162e3f0f0').text('108540 of 161907');"
       ],
       "metadata": {},
       "output_type": "display_data",
       "text": [
        "<IPython.core.display.Javascript at 0x8dc3dc88>"
       ]
      },
      {
       "javascript": [
        "$('div#b0bf4be2-0798-4d71-b4ad-1557c6e1e574').text(' 67%');"
       ],
       "metadata": {},
       "output_type": "display_data",
       "text": [
        "<IPython.core.display.Javascript at 0x8dc3dc88>"
       ]
      },
      {
       "javascript": [
        "\n",
        "        var $myPB = $(\"div#01f61595-1f6b-4101-aeac-06353daec82b\")\n",
        "        if ($myPB.hasClass('ui-progressbar')) {\n",
        "            $myPB.progressbar('value', 108540);\n",
        "        } else {\n",
        "            $myPB.progressbar({value: 0, max: 161907});\n",
        "        }\n",
        "        "
       ],
       "metadata": {},
       "output_type": "display_data",
       "text": [
        "<IPython.core.display.Javascript at 0x8dc3d5f8>"
       ]
      },
      {
       "javascript": [
        "$('div#f2ed42be-da08-4787-9c63-ec1433e26809').text('ETA:  0:00:05');"
       ],
       "metadata": {},
       "output_type": "display_data",
       "text": [
        "<IPython.core.display.Javascript at 0x8dc3d8d0>"
       ]
      },
      {
       "javascript": [
        "$('div#815ed220-2881-46ff-a3ed-647162e3f0f0').text('110160 of 161907');"
       ],
       "metadata": {},
       "output_type": "display_data",
       "text": [
        "<IPython.core.display.Javascript at 0x8e01ca90>"
       ]
      },
      {
       "javascript": [
        "$('div#b0bf4be2-0798-4d71-b4ad-1557c6e1e574').text(' 68%');"
       ],
       "metadata": {},
       "output_type": "display_data",
       "text": [
        "<IPython.core.display.Javascript at 0x8e01cc88>"
       ]
      },
      {
       "javascript": [
        "\n",
        "        var $myPB = $(\"div#01f61595-1f6b-4101-aeac-06353daec82b\")\n",
        "        if ($myPB.hasClass('ui-progressbar')) {\n",
        "            $myPB.progressbar('value', 110160);\n",
        "        } else {\n",
        "            $myPB.progressbar({value: 0, max: 161907});\n",
        "        }\n",
        "        "
       ],
       "metadata": {},
       "output_type": "display_data",
       "text": [
        "<IPython.core.display.Javascript at 0x8e01cc50>"
       ]
      },
      {
       "javascript": [
        "$('div#f2ed42be-da08-4787-9c63-ec1433e26809').text('ETA:  0:00:04');"
       ],
       "metadata": {},
       "output_type": "display_data",
       "text": [
        "<IPython.core.display.Javascript at 0x8e01cba8>"
       ]
      },
      {
       "javascript": [
        "$('div#815ed220-2881-46ff-a3ed-647162e3f0f0').text('111780 of 161907');"
       ],
       "metadata": {},
       "output_type": "display_data",
       "text": [
        "<IPython.core.display.Javascript at 0x8e01cac8>"
       ]
      },
      {
       "javascript": [
        "$('div#b0bf4be2-0798-4d71-b4ad-1557c6e1e574').text(' 69%');"
       ],
       "metadata": {},
       "output_type": "display_data",
       "text": [
        "<IPython.core.display.Javascript at 0x8e01c390>"
       ]
      },
      {
       "javascript": [
        "\n",
        "        var $myPB = $(\"div#01f61595-1f6b-4101-aeac-06353daec82b\")\n",
        "        if ($myPB.hasClass('ui-progressbar')) {\n",
        "            $myPB.progressbar('value', 111780);\n",
        "        } else {\n",
        "            $myPB.progressbar({value: 0, max: 161907});\n",
        "        }\n",
        "        "
       ],
       "metadata": {},
       "output_type": "display_data",
       "text": [
        "<IPython.core.display.Javascript at 0x8e01c588>"
       ]
      },
      {
       "javascript": [
        "$('div#f2ed42be-da08-4787-9c63-ec1433e26809').text('ETA:  0:00:04');"
       ],
       "metadata": {},
       "output_type": "display_data",
       "text": [
        "<IPython.core.display.Javascript at 0x8e01c588>"
       ]
      },
      {
       "javascript": [
        "$('div#815ed220-2881-46ff-a3ed-647162e3f0f0').text('113400 of 161907');"
       ],
       "metadata": {},
       "output_type": "display_data",
       "text": [
        "<IPython.core.display.Javascript at 0x8e01c4e0>"
       ]
      },
      {
       "javascript": [
        "$('div#b0bf4be2-0798-4d71-b4ad-1557c6e1e574').text(' 70%');"
       ],
       "metadata": {},
       "output_type": "display_data",
       "text": [
        "<IPython.core.display.Javascript at 0x8e01c128>"
       ]
      },
      {
       "javascript": [
        "\n",
        "        var $myPB = $(\"div#01f61595-1f6b-4101-aeac-06353daec82b\")\n",
        "        if ($myPB.hasClass('ui-progressbar')) {\n",
        "            $myPB.progressbar('value', 113400);\n",
        "        } else {\n",
        "            $myPB.progressbar({value: 0, max: 161907});\n",
        "        }\n",
        "        "
       ],
       "metadata": {},
       "output_type": "display_data",
       "text": [
        "<IPython.core.display.Javascript at 0x8e01c128>"
       ]
      },
      {
       "javascript": [
        "$('div#f2ed42be-da08-4787-9c63-ec1433e26809').text('ETA:  0:00:04');"
       ],
       "metadata": {},
       "output_type": "display_data",
       "text": [
        "<IPython.core.display.Javascript at 0x8e01cb00>"
       ]
      },
      {
       "javascript": [
        "$('div#815ed220-2881-46ff-a3ed-647162e3f0f0').text('115020 of 161907');"
       ],
       "metadata": {},
       "output_type": "display_data",
       "text": [
        "<IPython.core.display.Javascript at 0x88933160>"
       ]
      },
      {
       "javascript": [
        "$('div#b0bf4be2-0798-4d71-b4ad-1557c6e1e574').text(' 71%');"
       ],
       "metadata": {},
       "output_type": "display_data",
       "text": [
        "<IPython.core.display.Javascript at 0x88933710>"
       ]
      },
      {
       "javascript": [
        "\n",
        "        var $myPB = $(\"div#01f61595-1f6b-4101-aeac-06353daec82b\")\n",
        "        if ($myPB.hasClass('ui-progressbar')) {\n",
        "            $myPB.progressbar('value', 115020);\n",
        "        } else {\n",
        "            $myPB.progressbar({value: 0, max: 161907});\n",
        "        }\n",
        "        "
       ],
       "metadata": {},
       "output_type": "display_data",
       "text": [
        "<IPython.core.display.Javascript at 0x88933a90>"
       ]
      },
      {
       "javascript": [
        "$('div#f2ed42be-da08-4787-9c63-ec1433e26809').text('ETA:  0:00:04');"
       ],
       "metadata": {},
       "output_type": "display_data",
       "text": [
        "<IPython.core.display.Javascript at 0x88933940>"
       ]
      },
      {
       "javascript": [
        "$('div#815ed220-2881-46ff-a3ed-647162e3f0f0').text('116640 of 161907');"
       ],
       "metadata": {},
       "output_type": "display_data",
       "text": [
        "<IPython.core.display.Javascript at 0x88933da0>"
       ]
      },
      {
       "javascript": [
        "$('div#b0bf4be2-0798-4d71-b4ad-1557c6e1e574').text(' 72%');"
       ],
       "metadata": {},
       "output_type": "display_data",
       "text": [
        "<IPython.core.display.Javascript at 0x889335c0>"
       ]
      },
      {
       "javascript": [
        "\n",
        "        var $myPB = $(\"div#01f61595-1f6b-4101-aeac-06353daec82b\")\n",
        "        if ($myPB.hasClass('ui-progressbar')) {\n",
        "            $myPB.progressbar('value', 116640);\n",
        "        } else {\n",
        "            $myPB.progressbar({value: 0, max: 161907});\n",
        "        }\n",
        "        "
       ],
       "metadata": {},
       "output_type": "display_data",
       "text": [
        "<IPython.core.display.Javascript at 0x88933550>"
       ]
      },
      {
       "javascript": [
        "$('div#f2ed42be-da08-4787-9c63-ec1433e26809').text('ETA:  0:00:04');"
       ],
       "metadata": {},
       "output_type": "display_data",
       "text": [
        "<IPython.core.display.Javascript at 0x88933550>"
       ]
      },
      {
       "javascript": [
        "$('div#815ed220-2881-46ff-a3ed-647162e3f0f0').text('118260 of 161907');"
       ],
       "metadata": {},
       "output_type": "display_data",
       "text": [
        "<IPython.core.display.Javascript at 0x88933eb8>"
       ]
      },
      {
       "javascript": [
        "$('div#b0bf4be2-0798-4d71-b4ad-1557c6e1e574').text(' 73%');"
       ],
       "metadata": {},
       "output_type": "display_data",
       "text": [
        "<IPython.core.display.Javascript at 0x88933dd8>"
       ]
      },
      {
       "javascript": [
        "\n",
        "        var $myPB = $(\"div#01f61595-1f6b-4101-aeac-06353daec82b\")\n",
        "        if ($myPB.hasClass('ui-progressbar')) {\n",
        "            $myPB.progressbar('value', 118260);\n",
        "        } else {\n",
        "            $myPB.progressbar({value: 0, max: 161907});\n",
        "        }\n",
        "        "
       ],
       "metadata": {},
       "output_type": "display_data",
       "text": [
        "<IPython.core.display.Javascript at 0x88933dd8>"
       ]
      },
      {
       "javascript": [
        "$('div#f2ed42be-da08-4787-9c63-ec1433e26809').text('ETA:  0:00:04');"
       ],
       "metadata": {},
       "output_type": "display_data",
       "text": [
        "<IPython.core.display.Javascript at 0x889332b0>"
       ]
      },
      {
       "javascript": [
        "$('div#815ed220-2881-46ff-a3ed-647162e3f0f0').text('119880 of 161907');"
       ],
       "metadata": {},
       "output_type": "display_data",
       "text": [
        "<IPython.core.display.Javascript at 0x8c3dc048>"
       ]
      },
      {
       "javascript": [
        "$('div#b0bf4be2-0798-4d71-b4ad-1557c6e1e574').text(' 74%');"
       ],
       "metadata": {},
       "output_type": "display_data",
       "text": [
        "<IPython.core.display.Javascript at 0x8c3dc048>"
       ]
      },
      {
       "javascript": [
        "\n",
        "        var $myPB = $(\"div#01f61595-1f6b-4101-aeac-06353daec82b\")\n",
        "        if ($myPB.hasClass('ui-progressbar')) {\n",
        "            $myPB.progressbar('value', 119880);\n",
        "        } else {\n",
        "            $myPB.progressbar({value: 0, max: 161907});\n",
        "        }\n",
        "        "
       ],
       "metadata": {},
       "output_type": "display_data",
       "text": [
        "<IPython.core.display.Javascript at 0x8c3dca58>"
       ]
      },
      {
       "javascript": [
        "$('div#f2ed42be-da08-4787-9c63-ec1433e26809').text('ETA:  0:00:04');"
       ],
       "metadata": {},
       "output_type": "display_data",
       "text": [
        "<IPython.core.display.Javascript at 0x8c3dc898>"
       ]
      },
      {
       "javascript": [
        "$('div#815ed220-2881-46ff-a3ed-647162e3f0f0').text('121500 of 161907');"
       ],
       "metadata": {},
       "output_type": "display_data",
       "text": [
        "<IPython.core.display.Javascript at 0x8c3dc5c0>"
       ]
      },
      {
       "javascript": [
        "$('div#b0bf4be2-0798-4d71-b4ad-1557c6e1e574').text(' 75%');"
       ],
       "metadata": {},
       "output_type": "display_data",
       "text": [
        "<IPython.core.display.Javascript at 0x8c3dc908>"
       ]
      },
      {
       "javascript": [
        "\n",
        "        var $myPB = $(\"div#01f61595-1f6b-4101-aeac-06353daec82b\")\n",
        "        if ($myPB.hasClass('ui-progressbar')) {\n",
        "            $myPB.progressbar('value', 121500);\n",
        "        } else {\n",
        "            $myPB.progressbar({value: 0, max: 161907});\n",
        "        }\n",
        "        "
       ],
       "metadata": {},
       "output_type": "display_data",
       "text": [
        "<IPython.core.display.Javascript at 0x8c3dc278>"
       ]
      },
      {
       "javascript": [
        "$('div#f2ed42be-da08-4787-9c63-ec1433e26809').text('ETA:  0:00:03');"
       ],
       "metadata": {},
       "output_type": "display_data",
       "text": [
        "<IPython.core.display.Javascript at 0x8c3dcc18>"
       ]
      },
      {
       "javascript": [
        "$('div#815ed220-2881-46ff-a3ed-647162e3f0f0').text('123120 of 161907');"
       ],
       "metadata": {},
       "output_type": "display_data",
       "text": [
        "<IPython.core.display.Javascript at 0x8e664b70>"
       ]
      },
      {
       "javascript": [
        "$('div#b0bf4be2-0798-4d71-b4ad-1557c6e1e574').text(' 76%');"
       ],
       "metadata": {},
       "output_type": "display_data",
       "text": [
        "<IPython.core.display.Javascript at 0x8e664748>"
       ]
      },
      {
       "javascript": [
        "\n",
        "        var $myPB = $(\"div#01f61595-1f6b-4101-aeac-06353daec82b\")\n",
        "        if ($myPB.hasClass('ui-progressbar')) {\n",
        "            $myPB.progressbar('value', 123120);\n",
        "        } else {\n",
        "            $myPB.progressbar({value: 0, max: 161907});\n",
        "        }\n",
        "        "
       ],
       "metadata": {},
       "output_type": "display_data",
       "text": [
        "<IPython.core.display.Javascript at 0x8e664eb8>"
       ]
      },
      {
       "javascript": [
        "$('div#f2ed42be-da08-4787-9c63-ec1433e26809').text('ETA:  0:00:03');"
       ],
       "metadata": {},
       "output_type": "display_data",
       "text": [
        "<IPython.core.display.Javascript at 0x8e664eb8>"
       ]
      },
      {
       "javascript": [
        "$('div#815ed220-2881-46ff-a3ed-647162e3f0f0').text('124740 of 161907');"
       ],
       "metadata": {},
       "output_type": "display_data",
       "text": [
        "<IPython.core.display.Javascript at 0x8e664438>"
       ]
      },
      {
       "javascript": [
        "$('div#b0bf4be2-0798-4d71-b4ad-1557c6e1e574').text(' 77%');"
       ],
       "metadata": {},
       "output_type": "display_data",
       "text": [
        "<IPython.core.display.Javascript at 0x8e664320>"
       ]
      },
      {
       "javascript": [
        "\n",
        "        var $myPB = $(\"div#01f61595-1f6b-4101-aeac-06353daec82b\")\n",
        "        if ($myPB.hasClass('ui-progressbar')) {\n",
        "            $myPB.progressbar('value', 124740);\n",
        "        } else {\n",
        "            $myPB.progressbar({value: 0, max: 161907});\n",
        "        }\n",
        "        "
       ],
       "metadata": {},
       "output_type": "display_data",
       "text": [
        "<IPython.core.display.Javascript at 0x8e664320>"
       ]
      },
      {
       "javascript": [
        "$('div#f2ed42be-da08-4787-9c63-ec1433e26809').text('ETA:  0:00:03');"
       ],
       "metadata": {},
       "output_type": "display_data",
       "text": [
        "<IPython.core.display.Javascript at 0x8e664940>"
       ]
      },
      {
       "javascript": [
        "$('div#815ed220-2881-46ff-a3ed-647162e3f0f0').text('126360 of 161907');"
       ],
       "metadata": {},
       "output_type": "display_data",
       "text": [
        "<IPython.core.display.Javascript at 0x8e664908>"
       ]
      },
      {
       "javascript": [
        "$('div#b0bf4be2-0798-4d71-b4ad-1557c6e1e574').text(' 78%');"
       ],
       "metadata": {},
       "output_type": "display_data",
       "text": [
        "<IPython.core.display.Javascript at 0x8e664470>"
       ]
      },
      {
       "javascript": [
        "\n",
        "        var $myPB = $(\"div#01f61595-1f6b-4101-aeac-06353daec82b\")\n",
        "        if ($myPB.hasClass('ui-progressbar')) {\n",
        "            $myPB.progressbar('value', 126360);\n",
        "        } else {\n",
        "            $myPB.progressbar({value: 0, max: 161907});\n",
        "        }\n",
        "        "
       ],
       "metadata": {},
       "output_type": "display_data",
       "text": [
        "<IPython.core.display.Javascript at 0x8e493be0>"
       ]
      },
      {
       "javascript": [
        "$('div#f2ed42be-da08-4787-9c63-ec1433e26809').text('ETA:  0:00:03');"
       ],
       "metadata": {},
       "output_type": "display_data",
       "text": [
        "<IPython.core.display.Javascript at 0x8e493b70>"
       ]
      },
      {
       "javascript": [
        "$('div#815ed220-2881-46ff-a3ed-647162e3f0f0').text('127980 of 161907');"
       ],
       "metadata": {},
       "output_type": "display_data",
       "text": [
        "<IPython.core.display.Javascript at 0x8e493e80>"
       ]
      },
      {
       "javascript": [
        "$('div#b0bf4be2-0798-4d71-b4ad-1557c6e1e574').text(' 79%');"
       ],
       "metadata": {},
       "output_type": "display_data",
       "text": [
        "<IPython.core.display.Javascript at 0x8e493240>"
       ]
      },
      {
       "javascript": [
        "\n",
        "        var $myPB = $(\"div#01f61595-1f6b-4101-aeac-06353daec82b\")\n",
        "        if ($myPB.hasClass('ui-progressbar')) {\n",
        "            $myPB.progressbar('value', 127980);\n",
        "        } else {\n",
        "            $myPB.progressbar({value: 0, max: 161907});\n",
        "        }\n",
        "        "
       ],
       "metadata": {},
       "output_type": "display_data",
       "text": [
        "<IPython.core.display.Javascript at 0x8e493cf8>"
       ]
      },
      {
       "javascript": [
        "$('div#f2ed42be-da08-4787-9c63-ec1433e26809').text('ETA:  0:00:03');"
       ],
       "metadata": {},
       "output_type": "display_data",
       "text": [
        "<IPython.core.display.Javascript at 0x8e493cf8>"
       ]
      },
      {
       "javascript": [
        "$('div#815ed220-2881-46ff-a3ed-647162e3f0f0').text('129600 of 161907');"
       ],
       "metadata": {},
       "output_type": "display_data",
       "text": [
        "<IPython.core.display.Javascript at 0x8e493e48>"
       ]
      },
      {
       "javascript": [
        "$('div#b0bf4be2-0798-4d71-b4ad-1557c6e1e574').text(' 80%');"
       ],
       "metadata": {},
       "output_type": "display_data",
       "text": [
        "<IPython.core.display.Javascript at 0x8e4933c8>"
       ]
      },
      {
       "javascript": [
        "\n",
        "        var $myPB = $(\"div#01f61595-1f6b-4101-aeac-06353daec82b\")\n",
        "        if ($myPB.hasClass('ui-progressbar')) {\n",
        "            $myPB.progressbar('value', 129600);\n",
        "        } else {\n",
        "            $myPB.progressbar({value: 0, max: 161907});\n",
        "        }\n",
        "        "
       ],
       "metadata": {},
       "output_type": "display_data",
       "text": [
        "<IPython.core.display.Javascript at 0x8e4933c8>"
       ]
      },
      {
       "javascript": [
        "$('div#f2ed42be-da08-4787-9c63-ec1433e26809').text('ETA:  0:00:03');"
       ],
       "metadata": {},
       "output_type": "display_data",
       "text": [
        "<IPython.core.display.Javascript at 0x8e493080>"
       ]
      },
      {
       "javascript": [
        "$('div#815ed220-2881-46ff-a3ed-647162e3f0f0').text('131220 of 161907');"
       ],
       "metadata": {},
       "output_type": "display_data",
       "text": [
        "<IPython.core.display.Javascript at 0x8aa93c88>"
       ]
      },
      {
       "javascript": [
        "$('div#b0bf4be2-0798-4d71-b4ad-1557c6e1e574').text(' 81%');"
       ],
       "metadata": {},
       "output_type": "display_data",
       "text": [
        "<IPython.core.display.Javascript at 0x8aa93c88>"
       ]
      },
      {
       "javascript": [
        "\n",
        "        var $myPB = $(\"div#01f61595-1f6b-4101-aeac-06353daec82b\")\n",
        "        if ($myPB.hasClass('ui-progressbar')) {\n",
        "            $myPB.progressbar('value', 131220);\n",
        "        } else {\n",
        "            $myPB.progressbar({value: 0, max: 161907});\n",
        "        }\n",
        "        "
       ],
       "metadata": {},
       "output_type": "display_data",
       "text": [
        "<IPython.core.display.Javascript at 0x8aa93898>"
       ]
      },
      {
       "javascript": [
        "$('div#f2ed42be-da08-4787-9c63-ec1433e26809').text('ETA:  0:00:02');"
       ],
       "metadata": {},
       "output_type": "display_data",
       "text": [
        "<IPython.core.display.Javascript at 0x8aa93fd0>"
       ]
      },
      {
       "javascript": [
        "$('div#815ed220-2881-46ff-a3ed-647162e3f0f0').text('132840 of 161907');"
       ],
       "metadata": {},
       "output_type": "display_data",
       "text": [
        "<IPython.core.display.Javascript at 0x8aa93a20>"
       ]
      },
      {
       "javascript": [
        "$('div#b0bf4be2-0798-4d71-b4ad-1557c6e1e574').text(' 82%');"
       ],
       "metadata": {},
       "output_type": "display_data",
       "text": [
        "<IPython.core.display.Javascript at 0x8aa934a8>"
       ]
      },
      {
       "javascript": [
        "\n",
        "        var $myPB = $(\"div#01f61595-1f6b-4101-aeac-06353daec82b\")\n",
        "        if ($myPB.hasClass('ui-progressbar')) {\n",
        "            $myPB.progressbar('value', 132840);\n",
        "        } else {\n",
        "            $myPB.progressbar({value: 0, max: 161907});\n",
        "        }\n",
        "        "
       ],
       "metadata": {},
       "output_type": "display_data",
       "text": [
        "<IPython.core.display.Javascript at 0x8aa93780>"
       ]
      },
      {
       "javascript": [
        "$('div#f2ed42be-da08-4787-9c63-ec1433e26809').text('ETA:  0:00:02');"
       ],
       "metadata": {},
       "output_type": "display_data",
       "text": [
        "<IPython.core.display.Javascript at 0x8aa93cc0>"
       ]
      },
      {
       "javascript": [
        "$('div#815ed220-2881-46ff-a3ed-647162e3f0f0').text('134460 of 161907');"
       ],
       "metadata": {},
       "output_type": "display_data",
       "text": [
        "<IPython.core.display.Javascript at 0x8a8e4978>"
       ]
      },
      {
       "javascript": [
        "$('div#b0bf4be2-0798-4d71-b4ad-1557c6e1e574').text(' 83%');"
       ],
       "metadata": {},
       "output_type": "display_data",
       "text": [
        "<IPython.core.display.Javascript at 0x8a8e49b0>"
       ]
      },
      {
       "javascript": [
        "\n",
        "        var $myPB = $(\"div#01f61595-1f6b-4101-aeac-06353daec82b\")\n",
        "        if ($myPB.hasClass('ui-progressbar')) {\n",
        "            $myPB.progressbar('value', 134460);\n",
        "        } else {\n",
        "            $myPB.progressbar({value: 0, max: 161907});\n",
        "        }\n",
        "        "
       ],
       "metadata": {},
       "output_type": "display_data",
       "text": [
        "<IPython.core.display.Javascript at 0x8a8e4d68>"
       ]
      },
      {
       "javascript": [
        "$('div#f2ed42be-da08-4787-9c63-ec1433e26809').text('ETA:  0:00:02');"
       ],
       "metadata": {},
       "output_type": "display_data",
       "text": [
        "<IPython.core.display.Javascript at 0x8a8e4d68>"
       ]
      },
      {
       "javascript": [
        "$('div#815ed220-2881-46ff-a3ed-647162e3f0f0').text('136080 of 161907');"
       ],
       "metadata": {},
       "output_type": "display_data",
       "text": [
        "<IPython.core.display.Javascript at 0x8f20cba8>"
       ]
      },
      {
       "javascript": [
        "$('div#b0bf4be2-0798-4d71-b4ad-1557c6e1e574').text(' 84%');"
       ],
       "metadata": {},
       "output_type": "display_data",
       "text": [
        "<IPython.core.display.Javascript at 0x8f20ca20>"
       ]
      },
      {
       "javascript": [
        "\n",
        "        var $myPB = $(\"div#01f61595-1f6b-4101-aeac-06353daec82b\")\n",
        "        if ($myPB.hasClass('ui-progressbar')) {\n",
        "            $myPB.progressbar('value', 136080);\n",
        "        } else {\n",
        "            $myPB.progressbar({value: 0, max: 161907});\n",
        "        }\n",
        "        "
       ],
       "metadata": {},
       "output_type": "display_data",
       "text": [
        "<IPython.core.display.Javascript at 0x8f20ca20>"
       ]
      },
      {
       "javascript": [
        "$('div#f2ed42be-da08-4787-9c63-ec1433e26809').text('ETA:  0:00:02');"
       ],
       "metadata": {},
       "output_type": "display_data",
       "text": [
        "<IPython.core.display.Javascript at 0x8f20c518>"
       ]
      },
      {
       "javascript": [
        "$('div#815ed220-2881-46ff-a3ed-647162e3f0f0').text('137700 of 161907');"
       ],
       "metadata": {},
       "output_type": "display_data",
       "text": [
        "<IPython.core.display.Javascript at 0x8f20cf60>"
       ]
      },
      {
       "javascript": [
        "$('div#b0bf4be2-0798-4d71-b4ad-1557c6e1e574').text(' 85%');"
       ],
       "metadata": {},
       "output_type": "display_data",
       "text": [
        "<IPython.core.display.Javascript at 0x8f20cf60>"
       ]
      },
      {
       "javascript": [
        "\n",
        "        var $myPB = $(\"div#01f61595-1f6b-4101-aeac-06353daec82b\")\n",
        "        if ($myPB.hasClass('ui-progressbar')) {\n",
        "            $myPB.progressbar('value', 137700);\n",
        "        } else {\n",
        "            $myPB.progressbar({value: 0, max: 161907});\n",
        "        }\n",
        "        "
       ],
       "metadata": {},
       "output_type": "display_data",
       "text": [
        "<IPython.core.display.Javascript at 0x8f20cbe0>"
       ]
      },
      {
       "javascript": [
        "$('div#f2ed42be-da08-4787-9c63-ec1433e26809').text('ETA:  0:00:02');"
       ],
       "metadata": {},
       "output_type": "display_data",
       "text": [
        "<IPython.core.display.Javascript at 0x8f20c898>"
       ]
      },
      {
       "javascript": [
        "$('div#815ed220-2881-46ff-a3ed-647162e3f0f0').text('139320 of 161907');"
       ],
       "metadata": {},
       "output_type": "display_data",
       "text": [
        "<IPython.core.display.Javascript at 0x8f20ce80>"
       ]
      },
      {
       "javascript": [
        "$('div#b0bf4be2-0798-4d71-b4ad-1557c6e1e574').text(' 86%');"
       ],
       "metadata": {},
       "output_type": "display_data",
       "text": [
        "<IPython.core.display.Javascript at 0x8f20ceb8>"
       ]
      },
      {
       "javascript": [
        "\n",
        "        var $myPB = $(\"div#01f61595-1f6b-4101-aeac-06353daec82b\")\n",
        "        if ($myPB.hasClass('ui-progressbar')) {\n",
        "            $myPB.progressbar('value', 139320);\n",
        "        } else {\n",
        "            $myPB.progressbar({value: 0, max: 161907});\n",
        "        }\n",
        "        "
       ],
       "metadata": {},
       "output_type": "display_data",
       "text": [
        "<IPython.core.display.Javascript at 0x8f20c240>"
       ]
      },
      {
       "javascript": [
        "$('div#f2ed42be-da08-4787-9c63-ec1433e26809').text('ETA:  0:00:02');"
       ],
       "metadata": {},
       "output_type": "display_data",
       "text": [
        "<IPython.core.display.Javascript at 0x8f20c240>"
       ]
      },
      {
       "javascript": [
        "$('div#815ed220-2881-46ff-a3ed-647162e3f0f0').text('140940 of 161907');"
       ],
       "metadata": {},
       "output_type": "display_data",
       "text": [
        "<IPython.core.display.Javascript at 0x8dade978>"
       ]
      },
      {
       "javascript": [
        "$('div#b0bf4be2-0798-4d71-b4ad-1557c6e1e574').text(' 87%');"
       ],
       "metadata": {},
       "output_type": "display_data",
       "text": [
        "<IPython.core.display.Javascript at 0x8dade7b8>"
       ]
      },
      {
       "javascript": [
        "\n",
        "        var $myPB = $(\"div#01f61595-1f6b-4101-aeac-06353daec82b\")\n",
        "        if ($myPB.hasClass('ui-progressbar')) {\n",
        "            $myPB.progressbar('value', 140940);\n",
        "        } else {\n",
        "            $myPB.progressbar({value: 0, max: 161907});\n",
        "        }\n",
        "        "
       ],
       "metadata": {},
       "output_type": "display_data",
       "text": [
        "<IPython.core.display.Javascript at 0x8dade7b8>"
       ]
      },
      {
       "javascript": [
        "$('div#f2ed42be-da08-4787-9c63-ec1433e26809').text('ETA:  0:00:02');"
       ],
       "metadata": {},
       "output_type": "display_data",
       "text": [
        "<IPython.core.display.Javascript at 0x8dadeac8>"
       ]
      },
      {
       "javascript": [
        "$('div#815ed220-2881-46ff-a3ed-647162e3f0f0').text('142560 of 161907');"
       ],
       "metadata": {},
       "output_type": "display_data",
       "text": [
        "<IPython.core.display.Javascript at 0x8dade2e8>"
       ]
      },
      {
       "javascript": [
        "$('div#b0bf4be2-0798-4d71-b4ad-1557c6e1e574').text(' 88%');"
       ],
       "metadata": {},
       "output_type": "display_data",
       "text": [
        "<IPython.core.display.Javascript at 0x8dade2e8>"
       ]
      },
      {
       "javascript": [
        "\n",
        "        var $myPB = $(\"div#01f61595-1f6b-4101-aeac-06353daec82b\")\n",
        "        if ($myPB.hasClass('ui-progressbar')) {\n",
        "            $myPB.progressbar('value', 142560);\n",
        "        } else {\n",
        "            $myPB.progressbar({value: 0, max: 161907});\n",
        "        }\n",
        "        "
       ],
       "metadata": {},
       "output_type": "display_data",
       "text": [
        "<IPython.core.display.Javascript at 0x8dade390>"
       ]
      },
      {
       "javascript": [
        "$('div#f2ed42be-da08-4787-9c63-ec1433e26809').text('ETA:  0:00:01');"
       ],
       "metadata": {},
       "output_type": "display_data",
       "text": [
        "<IPython.core.display.Javascript at 0x8dade1d0>"
       ]
      },
      {
       "javascript": [
        "$('div#815ed220-2881-46ff-a3ed-647162e3f0f0').text('144180 of 161907');"
       ],
       "metadata": {},
       "output_type": "display_data",
       "text": [
        "<IPython.core.display.Javascript at 0x8d7df3c8>"
       ]
      },
      {
       "javascript": [
        "$('div#b0bf4be2-0798-4d71-b4ad-1557c6e1e574').text(' 89%');"
       ],
       "metadata": {},
       "output_type": "display_data",
       "text": [
        "<IPython.core.display.Javascript at 0x8d7df240>"
       ]
      },
      {
       "javascript": [
        "\n",
        "        var $myPB = $(\"div#01f61595-1f6b-4101-aeac-06353daec82b\")\n",
        "        if ($myPB.hasClass('ui-progressbar')) {\n",
        "            $myPB.progressbar('value', 144180);\n",
        "        } else {\n",
        "            $myPB.progressbar({value: 0, max: 161907});\n",
        "        }\n",
        "        "
       ],
       "metadata": {},
       "output_type": "display_data",
       "text": [
        "<IPython.core.display.Javascript at 0x8d7df860>"
       ]
      },
      {
       "javascript": [
        "$('div#f2ed42be-da08-4787-9c63-ec1433e26809').text('ETA:  0:00:01');"
       ],
       "metadata": {},
       "output_type": "display_data",
       "text": [
        "<IPython.core.display.Javascript at 0x8d7dfc88>"
       ]
      },
      {
       "javascript": [
        "$('div#815ed220-2881-46ff-a3ed-647162e3f0f0').text('145800 of 161907');"
       ],
       "metadata": {},
       "output_type": "display_data",
       "text": [
        "<IPython.core.display.Javascript at 0x8d7dfcc0>"
       ]
      },
      {
       "javascript": [
        "$('div#b0bf4be2-0798-4d71-b4ad-1557c6e1e574').text(' 90%');"
       ],
       "metadata": {},
       "output_type": "display_data",
       "text": [
        "<IPython.core.display.Javascript at 0x8d7dfcf8>"
       ]
      },
      {
       "javascript": [
        "\n",
        "        var $myPB = $(\"div#01f61595-1f6b-4101-aeac-06353daec82b\")\n",
        "        if ($myPB.hasClass('ui-progressbar')) {\n",
        "            $myPB.progressbar('value', 145800);\n",
        "        } else {\n",
        "            $myPB.progressbar({value: 0, max: 161907});\n",
        "        }\n",
        "        "
       ],
       "metadata": {},
       "output_type": "display_data",
       "text": [
        "<IPython.core.display.Javascript at 0x8d7df6a0>"
       ]
      },
      {
       "javascript": [
        "$('div#f2ed42be-da08-4787-9c63-ec1433e26809').text('ETA:  0:00:01');"
       ],
       "metadata": {},
       "output_type": "display_data",
       "text": [
        "<IPython.core.display.Javascript at 0x8d7df6a0>"
       ]
      },
      {
       "javascript": [
        "$('div#815ed220-2881-46ff-a3ed-647162e3f0f0').text('147420 of 161907');"
       ],
       "metadata": {},
       "output_type": "display_data",
       "text": [
        "<IPython.core.display.Javascript at 0x8d7df5c0>"
       ]
      },
      {
       "javascript": [
        "$('div#b0bf4be2-0798-4d71-b4ad-1557c6e1e574').text(' 91%');"
       ],
       "metadata": {},
       "output_type": "display_data",
       "text": [
        "<IPython.core.display.Javascript at 0x8d7df160>"
       ]
      },
      {
       "javascript": [
        "\n",
        "        var $myPB = $(\"div#01f61595-1f6b-4101-aeac-06353daec82b\")\n",
        "        if ($myPB.hasClass('ui-progressbar')) {\n",
        "            $myPB.progressbar('value', 147420);\n",
        "        } else {\n",
        "            $myPB.progressbar({value: 0, max: 161907});\n",
        "        }\n",
        "        "
       ],
       "metadata": {},
       "output_type": "display_data",
       "text": [
        "<IPython.core.display.Javascript at 0x8d7df160>"
       ]
      },
      {
       "javascript": [
        "$('div#f2ed42be-da08-4787-9c63-ec1433e26809').text('ETA:  0:00:01');"
       ],
       "metadata": {},
       "output_type": "display_data",
       "text": [
        "<IPython.core.display.Javascript at 0x8d7dfe48>"
       ]
      },
      {
       "javascript": [
        "$('div#815ed220-2881-46ff-a3ed-647162e3f0f0').text('149040 of 161907');"
       ],
       "metadata": {},
       "output_type": "display_data",
       "text": [
        "<IPython.core.display.Javascript at 0x8d7dfa90>"
       ]
      },
      {
       "javascript": [
        "$('div#b0bf4be2-0798-4d71-b4ad-1557c6e1e574').text(' 92%');"
       ],
       "metadata": {},
       "output_type": "display_data",
       "text": [
        "<IPython.core.display.Javascript at 0x8d7dfa90>"
       ]
      },
      {
       "javascript": [
        "\n",
        "        var $myPB = $(\"div#01f61595-1f6b-4101-aeac-06353daec82b\")\n",
        "        if ($myPB.hasClass('ui-progressbar')) {\n",
        "            $myPB.progressbar('value', 149040);\n",
        "        } else {\n",
        "            $myPB.progressbar({value: 0, max: 161907});\n",
        "        }\n",
        "        "
       ],
       "metadata": {},
       "output_type": "display_data",
       "text": [
        "<IPython.core.display.Javascript at 0x8d6e66a0>"
       ]
      },
      {
       "javascript": [
        "$('div#f2ed42be-da08-4787-9c63-ec1433e26809').text('ETA:  0:00:01');"
       ],
       "metadata": {},
       "output_type": "display_data",
       "text": [
        "<IPython.core.display.Javascript at 0x8d6e66d8>"
       ]
      },
      {
       "javascript": [
        "$('div#815ed220-2881-46ff-a3ed-647162e3f0f0').text('150660 of 161907');"
       ],
       "metadata": {},
       "output_type": "display_data",
       "text": [
        "<IPython.core.display.Javascript at 0x8d6e6b38>"
       ]
      },
      {
       "javascript": [
        "$('div#b0bf4be2-0798-4d71-b4ad-1557c6e1e574').text(' 93%');"
       ],
       "metadata": {},
       "output_type": "display_data",
       "text": [
        "<IPython.core.display.Javascript at 0x8d6e6278>"
       ]
      },
      {
       "javascript": [
        "\n",
        "        var $myPB = $(\"div#01f61595-1f6b-4101-aeac-06353daec82b\")\n",
        "        if ($myPB.hasClass('ui-progressbar')) {\n",
        "            $myPB.progressbar('value', 150660);\n",
        "        } else {\n",
        "            $myPB.progressbar({value: 0, max: 161907});\n",
        "        }\n",
        "        "
       ],
       "metadata": {},
       "output_type": "display_data",
       "text": [
        "<IPython.core.display.Javascript at 0x8d6e6358>"
       ]
      },
      {
       "javascript": [
        "$('div#f2ed42be-da08-4787-9c63-ec1433e26809').text('ETA:  0:00:01');"
       ],
       "metadata": {},
       "output_type": "display_data",
       "text": [
        "<IPython.core.display.Javascript at 0x8d6e6cf8>"
       ]
      },
      {
       "javascript": [
        "$('div#815ed220-2881-46ff-a3ed-647162e3f0f0').text('152280 of 161907');"
       ],
       "metadata": {},
       "output_type": "display_data",
       "text": [
        "<IPython.core.display.Javascript at 0x8d6e6780>"
       ]
      },
      {
       "javascript": [
        "$('div#b0bf4be2-0798-4d71-b4ad-1557c6e1e574').text(' 94%');"
       ],
       "metadata": {},
       "output_type": "display_data",
       "text": [
        "<IPython.core.display.Javascript at 0x8d6e6c50>"
       ]
      },
      {
       "javascript": [
        "\n",
        "        var $myPB = $(\"div#01f61595-1f6b-4101-aeac-06353daec82b\")\n",
        "        if ($myPB.hasClass('ui-progressbar')) {\n",
        "            $myPB.progressbar('value', 152280);\n",
        "        } else {\n",
        "            $myPB.progressbar({value: 0, max: 161907});\n",
        "        }\n",
        "        "
       ],
       "metadata": {},
       "output_type": "display_data",
       "text": [
        "<IPython.core.display.Javascript at 0x8d6e6c50>"
       ]
      },
      {
       "javascript": [
        "$('div#f2ed42be-da08-4787-9c63-ec1433e26809').text('ETA:  0:00:00');"
       ],
       "metadata": {},
       "output_type": "display_data",
       "text": [
        "<IPython.core.display.Javascript at 0x8d6e6a90>"
       ]
      },
      {
       "javascript": [
        "$('div#815ed220-2881-46ff-a3ed-647162e3f0f0').text('153900 of 161907');"
       ],
       "metadata": {},
       "output_type": "display_data",
       "text": [
        "<IPython.core.display.Javascript at 0x8d6e6588>"
       ]
      },
      {
       "javascript": [
        "$('div#b0bf4be2-0798-4d71-b4ad-1557c6e1e574').text(' 95%');"
       ],
       "metadata": {},
       "output_type": "display_data",
       "text": [
        "<IPython.core.display.Javascript at 0x8d6e6588>"
       ]
      },
      {
       "javascript": [
        "\n",
        "        var $myPB = $(\"div#01f61595-1f6b-4101-aeac-06353daec82b\")\n",
        "        if ($myPB.hasClass('ui-progressbar')) {\n",
        "            $myPB.progressbar('value', 153900);\n",
        "        } else {\n",
        "            $myPB.progressbar({value: 0, max: 161907});\n",
        "        }\n",
        "        "
       ],
       "metadata": {},
       "output_type": "display_data",
       "text": [
        "<IPython.core.display.Javascript at 0x8d6e6128>"
       ]
      },
      {
       "javascript": [
        "$('div#f2ed42be-da08-4787-9c63-ec1433e26809').text('ETA:  0:00:00');"
       ],
       "metadata": {},
       "output_type": "display_data",
       "text": [
        "<IPython.core.display.Javascript at 0x8d6e62e8>"
       ]
      },
      {
       "javascript": [
        "$('div#815ed220-2881-46ff-a3ed-647162e3f0f0').text('155520 of 161907');"
       ],
       "metadata": {},
       "output_type": "display_data",
       "text": [
        "<IPython.core.display.Javascript at 0x8d6e6128>"
       ]
      },
      {
       "javascript": [
        "$('div#b0bf4be2-0798-4d71-b4ad-1557c6e1e574').text(' 96%');"
       ],
       "metadata": {},
       "output_type": "display_data",
       "text": [
        "<IPython.core.display.Javascript at 0x8d6e6a58>"
       ]
      },
      {
       "javascript": [
        "\n",
        "        var $myPB = $(\"div#01f61595-1f6b-4101-aeac-06353daec82b\")\n",
        "        if ($myPB.hasClass('ui-progressbar')) {\n",
        "            $myPB.progressbar('value', 155520);\n",
        "        } else {\n",
        "            $myPB.progressbar({value: 0, max: 161907});\n",
        "        }\n",
        "        "
       ],
       "metadata": {},
       "output_type": "display_data",
       "text": [
        "<IPython.core.display.Javascript at 0x8d6e6438>"
       ]
      },
      {
       "javascript": [
        "$('div#f2ed42be-da08-4787-9c63-ec1433e26809').text('ETA:  0:00:00');"
       ],
       "metadata": {},
       "output_type": "display_data",
       "text": [
        "<IPython.core.display.Javascript at 0x8d6e69e8>"
       ]
      },
      {
       "javascript": [
        "$('div#815ed220-2881-46ff-a3ed-647162e3f0f0').text('157140 of 161907');"
       ],
       "metadata": {},
       "output_type": "display_data",
       "text": [
        "<IPython.core.display.Javascript at 0x8d6e6c88>"
       ]
      },
      {
       "javascript": [
        "$('div#b0bf4be2-0798-4d71-b4ad-1557c6e1e574').text(' 97%');"
       ],
       "metadata": {},
       "output_type": "display_data",
       "text": [
        "<IPython.core.display.Javascript at 0x8d6e6898>"
       ]
      },
      {
       "javascript": [
        "\n",
        "        var $myPB = $(\"div#01f61595-1f6b-4101-aeac-06353daec82b\")\n",
        "        if ($myPB.hasClass('ui-progressbar')) {\n",
        "            $myPB.progressbar('value', 157140);\n",
        "        } else {\n",
        "            $myPB.progressbar({value: 0, max: 161907});\n",
        "        }\n",
        "        "
       ],
       "metadata": {},
       "output_type": "display_data",
       "text": [
        "<IPython.core.display.Javascript at 0x8d6e6d68>"
       ]
      },
      {
       "javascript": [
        "$('div#f2ed42be-da08-4787-9c63-ec1433e26809').text('ETA:  0:00:00');"
       ],
       "metadata": {},
       "output_type": "display_data",
       "text": [
        "<IPython.core.display.Javascript at 0x8d6e6d68>"
       ]
      },
      {
       "javascript": [
        "$('div#815ed220-2881-46ff-a3ed-647162e3f0f0').text('158760 of 161907');"
       ],
       "metadata": {},
       "output_type": "display_data",
       "text": [
        "<IPython.core.display.Javascript at 0x8d8ba710>"
       ]
      },
      {
       "javascript": [
        "$('div#b0bf4be2-0798-4d71-b4ad-1557c6e1e574').text(' 98%');"
       ],
       "metadata": {},
       "output_type": "display_data",
       "text": [
        "<IPython.core.display.Javascript at 0x8d8ba748>"
       ]
      },
      {
       "javascript": [
        "\n",
        "        var $myPB = $(\"div#01f61595-1f6b-4101-aeac-06353daec82b\")\n",
        "        if ($myPB.hasClass('ui-progressbar')) {\n",
        "            $myPB.progressbar('value', 158760);\n",
        "        } else {\n",
        "            $myPB.progressbar({value: 0, max: 161907});\n",
        "        }\n",
        "        "
       ],
       "metadata": {},
       "output_type": "display_data",
       "text": [
        "<IPython.core.display.Javascript at 0x8d8ba748>"
       ]
      },
      {
       "javascript": [
        "$('div#f2ed42be-da08-4787-9c63-ec1433e26809').text('ETA:  0:00:00');"
       ],
       "metadata": {},
       "output_type": "display_data",
       "text": [
        "<IPython.core.display.Javascript at 0x8d8bac50>"
       ]
      },
      {
       "javascript": [
        "$('div#815ed220-2881-46ff-a3ed-647162e3f0f0').text('160380 of 161907');"
       ],
       "metadata": {},
       "output_type": "display_data",
       "text": [
        "<IPython.core.display.Javascript at 0x8d8bae10>"
       ]
      },
      {
       "javascript": [
        "$('div#b0bf4be2-0798-4d71-b4ad-1557c6e1e574').text(' 99%');"
       ],
       "metadata": {},
       "output_type": "display_data",
       "text": [
        "<IPython.core.display.Javascript at 0x8d8bae10>"
       ]
      },
      {
       "javascript": [
        "\n",
        "        var $myPB = $(\"div#01f61595-1f6b-4101-aeac-06353daec82b\")\n",
        "        if ($myPB.hasClass('ui-progressbar')) {\n",
        "            $myPB.progressbar('value', 160380);\n",
        "        } else {\n",
        "            $myPB.progressbar({value: 0, max: 161907});\n",
        "        }\n",
        "        "
       ],
       "metadata": {},
       "output_type": "display_data",
       "text": [
        "<IPython.core.display.Javascript at 0x8d8ba5c0>"
       ]
      },
      {
       "javascript": [
        "$('div#f2ed42be-da08-4787-9c63-ec1433e26809').text('ETA:  0:00:00');"
       ],
       "metadata": {},
       "output_type": "display_data",
       "text": [
        "<IPython.core.display.Javascript at 0x8d8ba6d8>"
       ]
      },
      {
       "javascript": [
        "$('div#815ed220-2881-46ff-a3ed-647162e3f0f0').text('161907 of 161907');"
       ],
       "metadata": {},
       "output_type": "display_data",
       "text": [
        "<IPython.core.display.Javascript at 0x8f20cb70>"
       ]
      },
      {
       "javascript": [
        "$('div#b0bf4be2-0798-4d71-b4ad-1557c6e1e574').text('100%');"
       ],
       "metadata": {},
       "output_type": "display_data",
       "text": [
        "<IPython.core.display.Javascript at 0x8d8bae10>"
       ]
      },
      {
       "javascript": [
        "\n",
        "        var $myPB = $(\"div#01f61595-1f6b-4101-aeac-06353daec82b\")\n",
        "        if ($myPB.hasClass('ui-progressbar')) {\n",
        "            $myPB.progressbar('value', 161907);\n",
        "        } else {\n",
        "            $myPB.progressbar({value: 0, max: 161907});\n",
        "        }\n",
        "        "
       ],
       "metadata": {},
       "output_type": "display_data",
       "text": [
        "<IPython.core.display.Javascript at 0x8d8ba5f8>"
       ]
      },
      {
       "javascript": [
        "$('div#f2ed42be-da08-4787-9c63-ec1433e26809').text('Time: 0:00:15');"
       ],
       "metadata": {},
       "output_type": "display_data",
       "text": [
        "<IPython.core.display.Javascript at 0x8d8bacc0>"
       ]
      },
      {
       "javascript": [
        "var element = document.getElementById('d599aa8e-75f0-471a-9a2c-b6ffcd30b867');\n",
        "                    var parent = element.parentNode\n",
        "                    parent.removeChild(element);\n",
        "                    parent.parentElement.remove();"
       ],
       "metadata": {},
       "output_type": "display_data",
       "text": [
        "<IPython.core.display.Javascript at 0x8f495208>"
       ]
      },
      {
       "javascript": [
        "this.cleanProgressBar(['d599aa8e-75f0-471a-9a2c-b6ffcd30b867', '815ed220-2881-46ff-a3ed-647162e3f0f0', 'b0bf4be2-0798-4d71-b4ad-1557c6e1e574', '01f61595-1f6b-4101-aeac-06353daec82b', 'f2ed42be-da08-4787-9c63-ec1433e26809'])"
       ],
       "metadata": {},
       "output_type": "display_data",
       "text": [
        "<IPython.core.display.Javascript at 0x8f20cb70>"
       ]
      },
      {
       "output_type": "stream",
       "stream": "stdout",
       "text": [
        "[('united nations', 15847), ('human rights', 15820), ('security council', 8446), ('working group', 4955), ('general assembly', 4434), ('draft resolution', 3917), ('letter dated', 3872), ('economic social', 2978), ('cn 9', 2859), ('president security', 2811)]\n",
        "[u'ADMINISTRATIVE REFORM', u'PERSONNEL MANAGEMENT', u'INTERNATIONAL CIVIL SERVICE', u'EMPLOYMENT POLICY', u'FINANCIAL IMPLICATIONS', u'VACANCY MANAGEMENT', u'HUMAN RESOURCES', u'RECRUITMENT', u'STAFFING', u'OCCUPATIONAL MOBILITY', u'CAREER DEVELOPMENT', u'CONTRACTUAL SERVICES', u'WORKING CONDITIONS', u'MANPOWER DEVELOPMENT', u'TERMINATION OF EMPLOYMENT', u'COMPENSATION', u'LABOUR CONTRACTS', u'STAFF COMPOSITION', u'INFORMATION TECHNOLOGY', u'ACCOUNTABILITY', u'RECOMMENDATIONS']\n"
       ]
      }
     ],
     "prompt_number": 44
    }
   ],
   "metadata": {}
  }
 ]
}