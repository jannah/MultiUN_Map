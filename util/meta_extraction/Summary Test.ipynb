{
 "metadata": {
  "name": "",
  "signature": "sha256:f4404eecc95e760ed8e2519a7a6c2e69e6d33c05c17f1f80f36093e419c0e151"
 },
 "nbformat": 3,
 "nbformat_minor": 0,
 "worksheets": [
  {
   "cells": [
    {
     "cell_type": "code",
     "collapsed": false,
     "input": [],
     "language": "python",
     "metadata": {},
     "outputs": [],
     "prompt_number": 65
    },
    {
     "cell_type": "code",
     "collapsed": false,
     "input": [
      "MODULES_PATH = '''../../modules/multi_un_module.py'''\n",
      "import imp\n",
      "NF = imp.load_source('multi_un_module', MODULES_PATH)\n",
      "import multi_un_module as mun"
     ],
     "language": "python",
     "metadata": {},
     "outputs": [],
     "prompt_number": 66
    },
    {
     "cell_type": "code",
     "collapsed": false,
     "input": [
      "docs = mun.get_document(term='A_61_255-en.xml', include_content=True)\n",
      "len(docs)"
     ],
     "language": "python",
     "metadata": {},
     "outputs": [
      {
       "metadata": {},
       "output_type": "pyout",
       "prompt_number": 67,
       "text": [
        "1"
       ]
      }
     ],
     "prompt_number": 67
    },
    {
     "cell_type": "code",
     "collapsed": false,
     "input": [
      "k,doc = docs.iteritems().next()"
     ],
     "language": "python",
     "metadata": {},
     "outputs": [],
     "prompt_number": 68
    },
    {
     "cell_type": "code",
     "collapsed": false,
     "input": [],
     "language": "python",
     "metadata": {},
     "outputs": [],
     "prompt_number": 68
    },
    {
     "cell_type": "code",
     "collapsed": false,
     "input": [
      "paragraphs = mun.extract_paragraphs(docs)\n",
      "sentences = mun.extract_sentences(docs)\n",
      "len(paragraphs)"
     ],
     "language": "python",
     "metadata": {},
     "outputs": [
      {
       "output_type": "stream",
       "stream": "stdout",
       "text": [
        "flattening\n"
       ]
      },
      {
       "metadata": {},
       "output_type": "pyout",
       "prompt_number": 69,
       "text": [
        "735"
       ]
      }
     ],
     "prompt_number": 69
    },
    {
     "cell_type": "code",
     "collapsed": false,
     "input": [
      "sent_first = [p[0] for p in paragraphs if not mun.is_heading(p)]\n",
      "sent_first_tokenized = mun.tokenize_sentence_text(sent_first, remove_stopwords=True)\n",
      "# sent_first_tokenized[:10]"
     ],
     "language": "python",
     "metadata": {},
     "outputs": [
      {
       "javascript": [
        "//37e57d9c-dac7-49f2-8211-3988354fb9d8\n",
        "$(\"head\").append(\"<style> td.pb_widget {     width: auto; } td.pb_widget_fill {     width: 100%; } table.pb {     font-family: monospace;     border: 0;     margin: 0; } table.pb tr { border: 0; } table.pb td {     white-space: nowrap;     border: 0; } div.pb {     border: 1px solid #ddd;     border-radius: 3px; } div.pb_bar {     height: 1.5em; } </style>\")"
       ],
       "metadata": {},
       "output_type": "display_data",
       "text": [
        "<IPython.core.display.Javascript at 0x99bd6eb8>"
       ]
      },
      {
       "javascript": [
        "\n",
        "                  // 37e57d9c-dac7-49f2-8211-3988354fb9d8 -- used to remove this code blob in the end\n",
        "                  IPython.OutputArea.prototype.cleanProgressBar = function(uuids) {\n",
        "                      // filter by uuid-strings \n",
        "                      var myfilter = function(output) { \n",
        "                          var nuids = uuids.length;\n",
        "                          for (var i=0; i<nuids; i++) {\n",
        "                              if (output.hasOwnProperty('html')) {\n",
        "                                  if (output.html.indexOf(uuids[i]) != -1) {\n",
        "                                      return false;\n",
        "                                  }\n",
        "                              }\n",
        "                              if (output.hasOwnProperty('javascript')) {\n",
        "                                  if (output.javascript.indexOf(uuids[i]) != -1) {\n",
        "                                      return false;\n",
        "                                  }\n",
        "                              }\n",
        "                          }\n",
        "                          // keep all others\n",
        "                          return true;\n",
        "                      };\n",
        "\n",
        "                      // Filter the ouputs\n",
        "                      this.outputs = this.outputs.filter(myfilter);\n",
        "                };\n",
        "                "
       ],
       "metadata": {},
       "output_type": "display_data",
       "text": [
        "<IPython.core.display.Javascript at 0x99bd6f28>"
       ]
      },
      {
       "html": [
        "<div class=\"pb\" id=\"37e57d9c-dac7-49f2-8211-3988354fb9d8\"><table class=\"pb ui-widget\"><tr>\n",
        "<td class=\"pb_widget\">Tokenizing sentences</td>\n",
        "<td class=\"pb_widget\"><div id=\"9f790da1-0b7c-463b-ab6a-e28566eab3ba\">0 of 542</div></td>\n",
        "<td class=\"pb_widget\"><div id=\"742866b4-1583-410c-8155-43a68dabc7f8\">  0%</div></td>\n",
        "<td class=\"pb_widget_fill\">\n",
        "        <div class=\"pb_bar\" id=\"4283e7be-79e3-4400-b08f-07545025bd25\"></div>\n",
        "        <script type=\"text/javascript\">\n",
        "            $(\"div#4283e7be-79e3-4400-b08f-07545025bd25\").progressbar({value: 0, max: 542});\n",
        "        </script>\n",
        "        </td>\n",
        "<td class=\"pb_widget\"><div id=\"796d8c95-cd80-4d5b-9393-4e5856d98c98\">ETA:  --:--:--</div></td>\n",
        "</tr></table><div>"
       ],
       "metadata": {},
       "output_type": "display_data",
       "text": [
        "<IPython.core.display.HTML at 0x9a069400>"
       ]
      },
      {
       "javascript": [
        "$('div#9f790da1-0b7c-463b-ab6a-e28566eab3ba').text('6 of 542');"
       ],
       "metadata": {},
       "output_type": "display_data",
       "text": [
        "<IPython.core.display.Javascript at 0x9a062cf8>"
       ]
      },
      {
       "javascript": [
        "$('div#742866b4-1583-410c-8155-43a68dabc7f8').text('  1%');"
       ],
       "metadata": {},
       "output_type": "display_data",
       "text": [
        "<IPython.core.display.Javascript at 0x9a062c18>"
       ]
      },
      {
       "javascript": [
        "\n",
        "        var $myPB = $(\"div#4283e7be-79e3-4400-b08f-07545025bd25\")\n",
        "        if ($myPB.hasClass('ui-progressbar')) {\n",
        "            $myPB.progressbar('value', 6);\n",
        "        } else {\n",
        "            $myPB.progressbar({value: 0, max: 542});\n",
        "        }\n",
        "        "
       ],
       "metadata": {},
       "output_type": "display_data",
       "text": [
        "<IPython.core.display.Javascript at 0x9a062278>"
       ]
      },
      {
       "javascript": [
        "$('div#796d8c95-cd80-4d5b-9393-4e5856d98c98').text('ETA:  0:00:00');"
       ],
       "metadata": {},
       "output_type": "display_data",
       "text": [
        "<IPython.core.display.Javascript at 0x9a0621d0>"
       ]
      },
      {
       "javascript": [
        "$('div#9f790da1-0b7c-463b-ab6a-e28566eab3ba').text('12 of 542');"
       ],
       "metadata": {},
       "output_type": "display_data",
       "text": [
        "<IPython.core.display.Javascript at 0x9a062278>"
       ]
      },
      {
       "javascript": [
        "$('div#742866b4-1583-410c-8155-43a68dabc7f8').text('  2%');"
       ],
       "metadata": {},
       "output_type": "display_data",
       "text": [
        "<IPython.core.display.Javascript at 0x9a062cf8>"
       ]
      },
      {
       "javascript": [
        "\n",
        "        var $myPB = $(\"div#4283e7be-79e3-4400-b08f-07545025bd25\")\n",
        "        if ($myPB.hasClass('ui-progressbar')) {\n",
        "            $myPB.progressbar('value', 12);\n",
        "        } else {\n",
        "            $myPB.progressbar({value: 0, max: 542});\n",
        "        }\n",
        "        "
       ],
       "metadata": {},
       "output_type": "display_data",
       "text": [
        "<IPython.core.display.Javascript at 0x5d9934e0>"
       ]
      },
      {
       "javascript": [
        "$('div#796d8c95-cd80-4d5b-9393-4e5856d98c98').text('ETA:  0:00:00');"
       ],
       "metadata": {},
       "output_type": "display_data",
       "text": [
        "<IPython.core.display.Javascript at 0x5d9934a8>"
       ]
      },
      {
       "javascript": [
        "$('div#9f790da1-0b7c-463b-ab6a-e28566eab3ba').text('18 of 542');"
       ],
       "metadata": {},
       "output_type": "display_data",
       "text": [
        "<IPython.core.display.Javascript at 0x5d993470>"
       ]
      },
      {
       "javascript": [
        "$('div#742866b4-1583-410c-8155-43a68dabc7f8').text('  3%');"
       ],
       "metadata": {},
       "output_type": "display_data",
       "text": [
        "<IPython.core.display.Javascript at 0x5d9935c0>"
       ]
      },
      {
       "javascript": [
        "\n",
        "        var $myPB = $(\"div#4283e7be-79e3-4400-b08f-07545025bd25\")\n",
        "        if ($myPB.hasClass('ui-progressbar')) {\n",
        "            $myPB.progressbar('value', 18);\n",
        "        } else {\n",
        "            $myPB.progressbar({value: 0, max: 542});\n",
        "        }\n",
        "        "
       ],
       "metadata": {},
       "output_type": "display_data",
       "text": [
        "<IPython.core.display.Javascript at 0x5d993630>"
       ]
      },
      {
       "javascript": [
        "$('div#796d8c95-cd80-4d5b-9393-4e5856d98c98').text('ETA:  0:00:00');"
       ],
       "metadata": {},
       "output_type": "display_data",
       "text": [
        "<IPython.core.display.Javascript at 0x5d9934e0>"
       ]
      },
      {
       "javascript": [
        "$('div#9f790da1-0b7c-463b-ab6a-e28566eab3ba').text('24 of 542');"
       ],
       "metadata": {},
       "output_type": "display_data",
       "text": [
        "<IPython.core.display.Javascript at 0x5d9934e0>"
       ]
      },
      {
       "javascript": [
        "$('div#742866b4-1583-410c-8155-43a68dabc7f8').text('  4%');"
       ],
       "metadata": {},
       "output_type": "display_data",
       "text": [
        "<IPython.core.display.Javascript at 0x5d993588>"
       ]
      },
      {
       "javascript": [
        "\n",
        "        var $myPB = $(\"div#4283e7be-79e3-4400-b08f-07545025bd25\")\n",
        "        if ($myPB.hasClass('ui-progressbar')) {\n",
        "            $myPB.progressbar('value', 24);\n",
        "        } else {\n",
        "            $myPB.progressbar({value: 0, max: 542});\n",
        "        }\n",
        "        "
       ],
       "metadata": {},
       "output_type": "display_data",
       "text": [
        "<IPython.core.display.Javascript at 0x5d9935c0>"
       ]
      },
      {
       "javascript": [
        "$('div#796d8c95-cd80-4d5b-9393-4e5856d98c98').text('ETA:  0:00:00');"
       ],
       "metadata": {},
       "output_type": "display_data",
       "text": [
        "<IPython.core.display.Javascript at 0x5d993668>"
       ]
      },
      {
       "javascript": [
        "$('div#9f790da1-0b7c-463b-ab6a-e28566eab3ba').text('30 of 542');"
       ],
       "metadata": {},
       "output_type": "display_data",
       "text": [
        "<IPython.core.display.Javascript at 0x5d993668>"
       ]
      },
      {
       "javascript": [
        "$('div#742866b4-1583-410c-8155-43a68dabc7f8').text('  5%');"
       ],
       "metadata": {},
       "output_type": "display_data",
       "text": [
        "<IPython.core.display.Javascript at 0x5d9936d8>"
       ]
      },
      {
       "javascript": [
        "\n",
        "        var $myPB = $(\"div#4283e7be-79e3-4400-b08f-07545025bd25\")\n",
        "        if ($myPB.hasClass('ui-progressbar')) {\n",
        "            $myPB.progressbar('value', 30);\n",
        "        } else {\n",
        "            $myPB.progressbar({value: 0, max: 542});\n",
        "        }\n",
        "        "
       ],
       "metadata": {},
       "output_type": "display_data",
       "text": [
        "<IPython.core.display.Javascript at 0x5d9935c0>"
       ]
      },
      {
       "javascript": [
        "$('div#796d8c95-cd80-4d5b-9393-4e5856d98c98').text('ETA:  0:00:00');"
       ],
       "metadata": {},
       "output_type": "display_data",
       "text": [
        "<IPython.core.display.Javascript at 0x5d9936a0>"
       ]
      },
      {
       "javascript": [
        "$('div#9f790da1-0b7c-463b-ab6a-e28566eab3ba').text('36 of 542');"
       ],
       "metadata": {},
       "output_type": "display_data",
       "text": [
        "<IPython.core.display.Javascript at 0x5d9934e0>"
       ]
      },
      {
       "javascript": [
        "$('div#742866b4-1583-410c-8155-43a68dabc7f8').text('  6%');"
       ],
       "metadata": {},
       "output_type": "display_data",
       "text": [
        "<IPython.core.display.Javascript at 0x5d993710>"
       ]
      },
      {
       "javascript": [
        "\n",
        "        var $myPB = $(\"div#4283e7be-79e3-4400-b08f-07545025bd25\")\n",
        "        if ($myPB.hasClass('ui-progressbar')) {\n",
        "            $myPB.progressbar('value', 36);\n",
        "        } else {\n",
        "            $myPB.progressbar({value: 0, max: 542});\n",
        "        }\n",
        "        "
       ],
       "metadata": {},
       "output_type": "display_data",
       "text": [
        "<IPython.core.display.Javascript at 0x5d9936d8>"
       ]
      },
      {
       "javascript": [
        "$('div#796d8c95-cd80-4d5b-9393-4e5856d98c98').text('ETA:  0:00:00');"
       ],
       "metadata": {},
       "output_type": "display_data",
       "text": [
        "<IPython.core.display.Javascript at 0x5d9935c0>"
       ]
      },
      {
       "javascript": [
        "$('div#9f790da1-0b7c-463b-ab6a-e28566eab3ba').text('42 of 542');"
       ],
       "metadata": {},
       "output_type": "display_data",
       "text": [
        "<IPython.core.display.Javascript at 0x5d9936d8>"
       ]
      },
      {
       "javascript": [
        "$('div#742866b4-1583-410c-8155-43a68dabc7f8').text('  7%');"
       ],
       "metadata": {},
       "output_type": "display_data",
       "text": [
        "<IPython.core.display.Javascript at 0x5d993710>"
       ]
      },
      {
       "javascript": [
        "\n",
        "        var $myPB = $(\"div#4283e7be-79e3-4400-b08f-07545025bd25\")\n",
        "        if ($myPB.hasClass('ui-progressbar')) {\n",
        "            $myPB.progressbar('value', 42);\n",
        "        } else {\n",
        "            $myPB.progressbar({value: 0, max: 542});\n",
        "        }\n",
        "        "
       ],
       "metadata": {},
       "output_type": "display_data",
       "text": [
        "<IPython.core.display.Javascript at 0x5d993748>"
       ]
      },
      {
       "javascript": [
        "$('div#796d8c95-cd80-4d5b-9393-4e5856d98c98').text('ETA:  0:00:00');"
       ],
       "metadata": {},
       "output_type": "display_data",
       "text": [
        "<IPython.core.display.Javascript at 0x5d9934e0>"
       ]
      },
      {
       "javascript": [
        "$('div#9f790da1-0b7c-463b-ab6a-e28566eab3ba').text('48 of 542');"
       ],
       "metadata": {},
       "output_type": "display_data",
       "text": [
        "<IPython.core.display.Javascript at 0x5d993780>"
       ]
      },
      {
       "javascript": [
        "$('div#742866b4-1583-410c-8155-43a68dabc7f8').text('  8%');"
       ],
       "metadata": {},
       "output_type": "display_data",
       "text": [
        "<IPython.core.display.Javascript at 0x5d993748>"
       ]
      },
      {
       "javascript": [
        "\n",
        "        var $myPB = $(\"div#4283e7be-79e3-4400-b08f-07545025bd25\")\n",
        "        if ($myPB.hasClass('ui-progressbar')) {\n",
        "            $myPB.progressbar('value', 48);\n",
        "        } else {\n",
        "            $myPB.progressbar({value: 0, max: 542});\n",
        "        }\n",
        "        "
       ],
       "metadata": {},
       "output_type": "display_data",
       "text": [
        "<IPython.core.display.Javascript at 0x5d9936d8>"
       ]
      },
      {
       "javascript": [
        "$('div#796d8c95-cd80-4d5b-9393-4e5856d98c98').text('ETA:  0:00:00');"
       ],
       "metadata": {},
       "output_type": "display_data",
       "text": [
        "<IPython.core.display.Javascript at 0x5d993710>"
       ]
      },
      {
       "javascript": [
        "$('div#9f790da1-0b7c-463b-ab6a-e28566eab3ba').text('54 of 542');"
       ],
       "metadata": {},
       "output_type": "display_data",
       "text": [
        "<IPython.core.display.Javascript at 0x5d9937b8>"
       ]
      },
      {
       "javascript": [
        "$('div#742866b4-1583-410c-8155-43a68dabc7f8').text('  9%');"
       ],
       "metadata": {},
       "output_type": "display_data",
       "text": [
        "<IPython.core.display.Javascript at 0x5d993588>"
       ]
      },
      {
       "javascript": [
        "\n",
        "        var $myPB = $(\"div#4283e7be-79e3-4400-b08f-07545025bd25\")\n",
        "        if ($myPB.hasClass('ui-progressbar')) {\n",
        "            $myPB.progressbar('value', 54);\n",
        "        } else {\n",
        "            $myPB.progressbar({value: 0, max: 542});\n",
        "        }\n",
        "        "
       ],
       "metadata": {},
       "output_type": "display_data",
       "text": [
        "<IPython.core.display.Javascript at 0x5d993748>"
       ]
      },
      {
       "javascript": [
        "$('div#796d8c95-cd80-4d5b-9393-4e5856d98c98').text('ETA:  0:00:00');"
       ],
       "metadata": {},
       "output_type": "display_data",
       "text": [
        "<IPython.core.display.Javascript at 0x5d9936d8>"
       ]
      },
      {
       "javascript": [
        "$('div#9f790da1-0b7c-463b-ab6a-e28566eab3ba').text('60 of 542');"
       ],
       "metadata": {},
       "output_type": "display_data",
       "text": [
        "<IPython.core.display.Javascript at 0x5d993588>"
       ]
      },
      {
       "javascript": [
        "$('div#742866b4-1583-410c-8155-43a68dabc7f8').text(' 11%');"
       ],
       "metadata": {},
       "output_type": "display_data",
       "text": [
        "<IPython.core.display.Javascript at 0x5d9937b8>"
       ]
      },
      {
       "javascript": [
        "\n",
        "        var $myPB = $(\"div#4283e7be-79e3-4400-b08f-07545025bd25\")\n",
        "        if ($myPB.hasClass('ui-progressbar')) {\n",
        "            $myPB.progressbar('value', 60);\n",
        "        } else {\n",
        "            $myPB.progressbar({value: 0, max: 542});\n",
        "        }\n",
        "        "
       ],
       "metadata": {},
       "output_type": "display_data",
       "text": [
        "<IPython.core.display.Javascript at 0x5d9937f0>"
       ]
      },
      {
       "javascript": [
        "$('div#796d8c95-cd80-4d5b-9393-4e5856d98c98').text('ETA:  0:00:00');"
       ],
       "metadata": {},
       "output_type": "display_data",
       "text": [
        "<IPython.core.display.Javascript at 0x5d993898>"
       ]
      },
      {
       "javascript": [
        "$('div#9f790da1-0b7c-463b-ab6a-e28566eab3ba').text('66 of 542');"
       ],
       "metadata": {},
       "output_type": "display_data",
       "text": [
        "<IPython.core.display.Javascript at 0x5d993898>"
       ]
      },
      {
       "javascript": [
        "$('div#742866b4-1583-410c-8155-43a68dabc7f8').text(' 12%');"
       ],
       "metadata": {},
       "output_type": "display_data",
       "text": [
        "<IPython.core.display.Javascript at 0x5d9938d0>"
       ]
      },
      {
       "javascript": [
        "\n",
        "        var $myPB = $(\"div#4283e7be-79e3-4400-b08f-07545025bd25\")\n",
        "        if ($myPB.hasClass('ui-progressbar')) {\n",
        "            $myPB.progressbar('value', 66);\n",
        "        } else {\n",
        "            $myPB.progressbar({value: 0, max: 542});\n",
        "        }\n",
        "        "
       ],
       "metadata": {},
       "output_type": "display_data",
       "text": [
        "<IPython.core.display.Javascript at 0x5d9937f0>"
       ]
      },
      {
       "javascript": [
        "$('div#796d8c95-cd80-4d5b-9393-4e5856d98c98').text('ETA:  0:00:00');"
       ],
       "metadata": {},
       "output_type": "display_data",
       "text": [
        "<IPython.core.display.Javascript at 0x5d993908>"
       ]
      },
      {
       "javascript": [
        "$('div#9f790da1-0b7c-463b-ab6a-e28566eab3ba').text('72 of 542');"
       ],
       "metadata": {},
       "output_type": "display_data",
       "text": [
        "<IPython.core.display.Javascript at 0x5d993908>"
       ]
      },
      {
       "javascript": [
        "$('div#742866b4-1583-410c-8155-43a68dabc7f8').text(' 13%');"
       ],
       "metadata": {},
       "output_type": "display_data",
       "text": [
        "<IPython.core.display.Javascript at 0x5d993588>"
       ]
      },
      {
       "javascript": [
        "\n",
        "        var $myPB = $(\"div#4283e7be-79e3-4400-b08f-07545025bd25\")\n",
        "        if ($myPB.hasClass('ui-progressbar')) {\n",
        "            $myPB.progressbar('value', 72);\n",
        "        } else {\n",
        "            $myPB.progressbar({value: 0, max: 542});\n",
        "        }\n",
        "        "
       ],
       "metadata": {},
       "output_type": "display_data",
       "text": [
        "<IPython.core.display.Javascript at 0x5d9937f0>"
       ]
      },
      {
       "javascript": [
        "$('div#796d8c95-cd80-4d5b-9393-4e5856d98c98').text('ETA:  0:00:00');"
       ],
       "metadata": {},
       "output_type": "display_data",
       "text": [
        "<IPython.core.display.Javascript at 0x5d993978>"
       ]
      },
      {
       "javascript": [
        "$('div#9f790da1-0b7c-463b-ab6a-e28566eab3ba').text('78 of 542');"
       ],
       "metadata": {},
       "output_type": "display_data",
       "text": [
        "<IPython.core.display.Javascript at 0x5d993978>"
       ]
      },
      {
       "javascript": [
        "$('div#742866b4-1583-410c-8155-43a68dabc7f8').text(' 14%');"
       ],
       "metadata": {},
       "output_type": "display_data",
       "text": [
        "<IPython.core.display.Javascript at 0x5d993898>"
       ]
      },
      {
       "javascript": [
        "\n",
        "        var $myPB = $(\"div#4283e7be-79e3-4400-b08f-07545025bd25\")\n",
        "        if ($myPB.hasClass('ui-progressbar')) {\n",
        "            $myPB.progressbar('value', 78);\n",
        "        } else {\n",
        "            $myPB.progressbar({value: 0, max: 542});\n",
        "        }\n",
        "        "
       ],
       "metadata": {},
       "output_type": "display_data",
       "text": [
        "<IPython.core.display.Javascript at 0x5d9937f0>"
       ]
      },
      {
       "javascript": [
        "$('div#796d8c95-cd80-4d5b-9393-4e5856d98c98').text('ETA:  0:00:00');"
       ],
       "metadata": {},
       "output_type": "display_data",
       "text": [
        "<IPython.core.display.Javascript at 0x5d993780>"
       ]
      },
      {
       "javascript": [
        "$('div#9f790da1-0b7c-463b-ab6a-e28566eab3ba').text('84 of 542');"
       ],
       "metadata": {},
       "output_type": "display_data",
       "text": [
        "<IPython.core.display.Javascript at 0x5d9937b8>"
       ]
      },
      {
       "javascript": [
        "$('div#742866b4-1583-410c-8155-43a68dabc7f8').text(' 15%');"
       ],
       "metadata": {},
       "output_type": "display_data",
       "text": [
        "<IPython.core.display.Javascript at 0x5d9937f0>"
       ]
      },
      {
       "javascript": [
        "\n",
        "        var $myPB = $(\"div#4283e7be-79e3-4400-b08f-07545025bd25\")\n",
        "        if ($myPB.hasClass('ui-progressbar')) {\n",
        "            $myPB.progressbar('value', 84);\n",
        "        } else {\n",
        "            $myPB.progressbar({value: 0, max: 542});\n",
        "        }\n",
        "        "
       ],
       "metadata": {},
       "output_type": "display_data",
       "text": [
        "<IPython.core.display.Javascript at 0x5d993978>"
       ]
      },
      {
       "javascript": [
        "$('div#796d8c95-cd80-4d5b-9393-4e5856d98c98').text('ETA:  0:00:00');"
       ],
       "metadata": {},
       "output_type": "display_data",
       "text": [
        "<IPython.core.display.Javascript at 0x5d993898>"
       ]
      },
      {
       "javascript": [
        "$('div#9f790da1-0b7c-463b-ab6a-e28566eab3ba').text('90 of 542');"
       ],
       "metadata": {},
       "output_type": "display_data",
       "text": [
        "<IPython.core.display.Javascript at 0x5d993898>"
       ]
      },
      {
       "javascript": [
        "$('div#742866b4-1583-410c-8155-43a68dabc7f8').text(' 16%');"
       ],
       "metadata": {},
       "output_type": "display_data",
       "text": [
        "<IPython.core.display.Javascript at 0x5d993940>"
       ]
      },
      {
       "javascript": [
        "\n",
        "        var $myPB = $(\"div#4283e7be-79e3-4400-b08f-07545025bd25\")\n",
        "        if ($myPB.hasClass('ui-progressbar')) {\n",
        "            $myPB.progressbar('value', 90);\n",
        "        } else {\n",
        "            $myPB.progressbar({value: 0, max: 542});\n",
        "        }\n",
        "        "
       ],
       "metadata": {},
       "output_type": "display_data",
       "text": [
        "<IPython.core.display.Javascript at 0x5d993978>"
       ]
      },
      {
       "javascript": [
        "$('div#796d8c95-cd80-4d5b-9393-4e5856d98c98').text('ETA:  0:00:00');"
       ],
       "metadata": {},
       "output_type": "display_data",
       "text": [
        "<IPython.core.display.Javascript at 0x5d993588>"
       ]
      },
      {
       "javascript": [
        "$('div#9f790da1-0b7c-463b-ab6a-e28566eab3ba').text('96 of 542');"
       ],
       "metadata": {},
       "output_type": "display_data",
       "text": [
        "<IPython.core.display.Javascript at 0x5d993588>"
       ]
      },
      {
       "javascript": [
        "$('div#742866b4-1583-410c-8155-43a68dabc7f8').text(' 17%');"
       ],
       "metadata": {},
       "output_type": "display_data",
       "text": [
        "<IPython.core.display.Javascript at 0x5d9937b8>"
       ]
      },
      {
       "javascript": [
        "\n",
        "        var $myPB = $(\"div#4283e7be-79e3-4400-b08f-07545025bd25\")\n",
        "        if ($myPB.hasClass('ui-progressbar')) {\n",
        "            $myPB.progressbar('value', 96);\n",
        "        } else {\n",
        "            $myPB.progressbar({value: 0, max: 542});\n",
        "        }\n",
        "        "
       ],
       "metadata": {},
       "output_type": "display_data",
       "text": [
        "<IPython.core.display.Javascript at 0x5d993978>"
       ]
      },
      {
       "javascript": [
        "$('div#796d8c95-cd80-4d5b-9393-4e5856d98c98').text('ETA:  0:00:00');"
       ],
       "metadata": {},
       "output_type": "display_data",
       "text": [
        "<IPython.core.display.Javascript at 0x5d9939e8>"
       ]
      },
      {
       "javascript": [
        "$('div#9f790da1-0b7c-463b-ab6a-e28566eab3ba').text('102 of 542');"
       ],
       "metadata": {},
       "output_type": "display_data",
       "text": [
        "<IPython.core.display.Javascript at 0x5d993898>"
       ]
      },
      {
       "javascript": [
        "$('div#742866b4-1583-410c-8155-43a68dabc7f8').text(' 18%');"
       ],
       "metadata": {},
       "output_type": "display_data",
       "text": [
        "<IPython.core.display.Javascript at 0x5d9938d0>"
       ]
      },
      {
       "javascript": [
        "\n",
        "        var $myPB = $(\"div#4283e7be-79e3-4400-b08f-07545025bd25\")\n",
        "        if ($myPB.hasClass('ui-progressbar')) {\n",
        "            $myPB.progressbar('value', 102);\n",
        "        } else {\n",
        "            $myPB.progressbar({value: 0, max: 542});\n",
        "        }\n",
        "        "
       ],
       "metadata": {},
       "output_type": "display_data",
       "text": [
        "<IPython.core.display.Javascript at 0x5d9937b8>"
       ]
      },
      {
       "javascript": [
        "$('div#796d8c95-cd80-4d5b-9393-4e5856d98c98').text('ETA:  0:00:00');"
       ],
       "metadata": {},
       "output_type": "display_data",
       "text": [
        "<IPython.core.display.Javascript at 0x5d993978>"
       ]
      },
      {
       "javascript": [
        "$('div#9f790da1-0b7c-463b-ab6a-e28566eab3ba').text('108 of 542');"
       ],
       "metadata": {},
       "output_type": "display_data",
       "text": [
        "<IPython.core.display.Javascript at 0x5d9937f0>"
       ]
      },
      {
       "javascript": [
        "$('div#742866b4-1583-410c-8155-43a68dabc7f8').text(' 19%');"
       ],
       "metadata": {},
       "output_type": "display_data",
       "text": [
        "<IPython.core.display.Javascript at 0x5d9939b0>"
       ]
      },
      {
       "javascript": [
        "\n",
        "        var $myPB = $(\"div#4283e7be-79e3-4400-b08f-07545025bd25\")\n",
        "        if ($myPB.hasClass('ui-progressbar')) {\n",
        "            $myPB.progressbar('value', 108);\n",
        "        } else {\n",
        "            $myPB.progressbar({value: 0, max: 542});\n",
        "        }\n",
        "        "
       ],
       "metadata": {},
       "output_type": "display_data",
       "text": [
        "<IPython.core.display.Javascript at 0x5d9938d0>"
       ]
      },
      {
       "javascript": [
        "$('div#796d8c95-cd80-4d5b-9393-4e5856d98c98').text('ETA:  0:00:00');"
       ],
       "metadata": {},
       "output_type": "display_data",
       "text": [
        "<IPython.core.display.Javascript at 0x5d9937b8>"
       ]
      },
      {
       "javascript": [
        "$('div#9f790da1-0b7c-463b-ab6a-e28566eab3ba').text('114 of 542');"
       ],
       "metadata": {},
       "output_type": "display_data",
       "text": [
        "<IPython.core.display.Javascript at 0x5d9938d0>"
       ]
      },
      {
       "javascript": [
        "$('div#742866b4-1583-410c-8155-43a68dabc7f8').text(' 21%');"
       ],
       "metadata": {},
       "output_type": "display_data",
       "text": [
        "<IPython.core.display.Javascript at 0x5d9939b0>"
       ]
      },
      {
       "javascript": [
        "\n",
        "        var $myPB = $(\"div#4283e7be-79e3-4400-b08f-07545025bd25\")\n",
        "        if ($myPB.hasClass('ui-progressbar')) {\n",
        "            $myPB.progressbar('value', 114);\n",
        "        } else {\n",
        "            $myPB.progressbar({value: 0, max: 542});\n",
        "        }\n",
        "        "
       ],
       "metadata": {},
       "output_type": "display_data",
       "text": [
        "<IPython.core.display.Javascript at 0x5d993a58>"
       ]
      },
      {
       "javascript": [
        "$('div#796d8c95-cd80-4d5b-9393-4e5856d98c98').text('ETA:  0:00:00');"
       ],
       "metadata": {},
       "output_type": "display_data",
       "text": [
        "<IPython.core.display.Javascript at 0x5d9937f0>"
       ]
      },
      {
       "javascript": [
        "$('div#9f790da1-0b7c-463b-ab6a-e28566eab3ba').text('120 of 542');"
       ],
       "metadata": {},
       "output_type": "display_data",
       "text": [
        "<IPython.core.display.Javascript at 0x5d993a90>"
       ]
      },
      {
       "javascript": [
        "$('div#742866b4-1583-410c-8155-43a68dabc7f8').text(' 22%');"
       ],
       "metadata": {},
       "output_type": "display_data",
       "text": [
        "<IPython.core.display.Javascript at 0x5d993a58>"
       ]
      },
      {
       "javascript": [
        "\n",
        "        var $myPB = $(\"div#4283e7be-79e3-4400-b08f-07545025bd25\")\n",
        "        if ($myPB.hasClass('ui-progressbar')) {\n",
        "            $myPB.progressbar('value', 120);\n",
        "        } else {\n",
        "            $myPB.progressbar({value: 0, max: 542});\n",
        "        }\n",
        "        "
       ],
       "metadata": {},
       "output_type": "display_data",
       "text": [
        "<IPython.core.display.Javascript at 0x5d9938d0>"
       ]
      },
      {
       "javascript": [
        "$('div#796d8c95-cd80-4d5b-9393-4e5856d98c98').text('ETA:  0:00:00');"
       ],
       "metadata": {},
       "output_type": "display_data",
       "text": [
        "<IPython.core.display.Javascript at 0x5d9939b0>"
       ]
      },
      {
       "javascript": [
        "$('div#9f790da1-0b7c-463b-ab6a-e28566eab3ba').text('126 of 542');"
       ],
       "metadata": {},
       "output_type": "display_data",
       "text": [
        "<IPython.core.display.Javascript at 0x5d9939b0>"
       ]
      },
      {
       "javascript": [
        "$('div#742866b4-1583-410c-8155-43a68dabc7f8').text(' 23%');"
       ],
       "metadata": {},
       "output_type": "display_data",
       "text": [
        "<IPython.core.display.Javascript at 0x5d993ac8>"
       ]
      },
      {
       "javascript": [
        "\n",
        "        var $myPB = $(\"div#4283e7be-79e3-4400-b08f-07545025bd25\")\n",
        "        if ($myPB.hasClass('ui-progressbar')) {\n",
        "            $myPB.progressbar('value', 126);\n",
        "        } else {\n",
        "            $myPB.progressbar({value: 0, max: 542});\n",
        "        }\n",
        "        "
       ],
       "metadata": {},
       "output_type": "display_data",
       "text": [
        "<IPython.core.display.Javascript at 0x5d9938d0>"
       ]
      },
      {
       "javascript": [
        "$('div#796d8c95-cd80-4d5b-9393-4e5856d98c98').text('ETA:  0:00:00');"
       ],
       "metadata": {},
       "output_type": "display_data",
       "text": [
        "<IPython.core.display.Javascript at 0x5d993588>"
       ]
      },
      {
       "javascript": [
        "$('div#9f790da1-0b7c-463b-ab6a-e28566eab3ba').text('132 of 542');"
       ],
       "metadata": {},
       "output_type": "display_data",
       "text": [
        "<IPython.core.display.Javascript at 0x5d993b70>"
       ]
      },
      {
       "javascript": [
        "$('div#742866b4-1583-410c-8155-43a68dabc7f8').text(' 24%');"
       ],
       "metadata": {},
       "output_type": "display_data",
       "text": [
        "<IPython.core.display.Javascript at 0x5d9938d0>"
       ]
      },
      {
       "javascript": [
        "\n",
        "        var $myPB = $(\"div#4283e7be-79e3-4400-b08f-07545025bd25\")\n",
        "        if ($myPB.hasClass('ui-progressbar')) {\n",
        "            $myPB.progressbar('value', 132);\n",
        "        } else {\n",
        "            $myPB.progressbar({value: 0, max: 542});\n",
        "        }\n",
        "        "
       ],
       "metadata": {},
       "output_type": "display_data",
       "text": [
        "<IPython.core.display.Javascript at 0x5d9939b0>"
       ]
      },
      {
       "javascript": [
        "$('div#796d8c95-cd80-4d5b-9393-4e5856d98c98').text('ETA:  0:00:00');"
       ],
       "metadata": {},
       "output_type": "display_data",
       "text": [
        "<IPython.core.display.Javascript at 0x5d993ac8>"
       ]
      },
      {
       "javascript": [
        "$('div#9f790da1-0b7c-463b-ab6a-e28566eab3ba').text('138 of 542');"
       ],
       "metadata": {},
       "output_type": "display_data",
       "text": [
        "<IPython.core.display.Javascript at 0x5d993b38>"
       ]
      },
      {
       "javascript": [
        "$('div#742866b4-1583-410c-8155-43a68dabc7f8').text(' 25%');"
       ],
       "metadata": {},
       "output_type": "display_data",
       "text": [
        "<IPython.core.display.Javascript at 0x5d993a58>"
       ]
      },
      {
       "javascript": [
        "\n",
        "        var $myPB = $(\"div#4283e7be-79e3-4400-b08f-07545025bd25\")\n",
        "        if ($myPB.hasClass('ui-progressbar')) {\n",
        "            $myPB.progressbar('value', 138);\n",
        "        } else {\n",
        "            $myPB.progressbar({value: 0, max: 542});\n",
        "        }\n",
        "        "
       ],
       "metadata": {},
       "output_type": "display_data",
       "text": [
        "<IPython.core.display.Javascript at 0x5d9938d0>"
       ]
      },
      {
       "javascript": [
        "$('div#796d8c95-cd80-4d5b-9393-4e5856d98c98').text('ETA:  0:00:00');"
       ],
       "metadata": {},
       "output_type": "display_data",
       "text": [
        "<IPython.core.display.Javascript at 0x5d9939b0>"
       ]
      },
      {
       "javascript": [
        "$('div#9f790da1-0b7c-463b-ab6a-e28566eab3ba').text('144 of 542');"
       ],
       "metadata": {},
       "output_type": "display_data",
       "text": [
        "<IPython.core.display.Javascript at 0x5d9939b0>"
       ]
      },
      {
       "javascript": [
        "$('div#742866b4-1583-410c-8155-43a68dabc7f8').text(' 26%');"
       ],
       "metadata": {},
       "output_type": "display_data",
       "text": [
        "<IPython.core.display.Javascript at 0x5d993be0>"
       ]
      },
      {
       "javascript": [
        "\n",
        "        var $myPB = $(\"div#4283e7be-79e3-4400-b08f-07545025bd25\")\n",
        "        if ($myPB.hasClass('ui-progressbar')) {\n",
        "            $myPB.progressbar('value', 144);\n",
        "        } else {\n",
        "            $myPB.progressbar({value: 0, max: 542});\n",
        "        }\n",
        "        "
       ],
       "metadata": {},
       "output_type": "display_data",
       "text": [
        "<IPython.core.display.Javascript at 0x5d9938d0>"
       ]
      },
      {
       "javascript": [
        "$('div#796d8c95-cd80-4d5b-9393-4e5856d98c98').text('ETA:  0:00:00');"
       ],
       "metadata": {},
       "output_type": "display_data",
       "text": [
        "<IPython.core.display.Javascript at 0x5d993ba8>"
       ]
      },
      {
       "javascript": [
        "$('div#9f790da1-0b7c-463b-ab6a-e28566eab3ba').text('150 of 542');"
       ],
       "metadata": {},
       "output_type": "display_data",
       "text": [
        "<IPython.core.display.Javascript at 0x5d993ba8>"
       ]
      },
      {
       "javascript": [
        "$('div#742866b4-1583-410c-8155-43a68dabc7f8').text(' 27%');"
       ],
       "metadata": {},
       "output_type": "display_data",
       "text": [
        "<IPython.core.display.Javascript at 0x5d993b38>"
       ]
      },
      {
       "javascript": [
        "\n",
        "        var $myPB = $(\"div#4283e7be-79e3-4400-b08f-07545025bd25\")\n",
        "        if ($myPB.hasClass('ui-progressbar')) {\n",
        "            $myPB.progressbar('value', 150);\n",
        "        } else {\n",
        "            $myPB.progressbar({value: 0, max: 542});\n",
        "        }\n",
        "        "
       ],
       "metadata": {},
       "output_type": "display_data",
       "text": [
        "<IPython.core.display.Javascript at 0x5d9938d0>"
       ]
      },
      {
       "javascript": [
        "$('div#796d8c95-cd80-4d5b-9393-4e5856d98c98').text('ETA:  0:00:00');"
       ],
       "metadata": {},
       "output_type": "display_data",
       "text": [
        "<IPython.core.display.Javascript at 0x5d993c18>"
       ]
      },
      {
       "javascript": [
        "$('div#9f790da1-0b7c-463b-ab6a-e28566eab3ba').text('156 of 542');"
       ],
       "metadata": {},
       "output_type": "display_data",
       "text": [
        "<IPython.core.display.Javascript at 0x5d993c18>"
       ]
      },
      {
       "javascript": [
        "$('div#742866b4-1583-410c-8155-43a68dabc7f8').text(' 28%');"
       ],
       "metadata": {},
       "output_type": "display_data",
       "text": [
        "<IPython.core.display.Javascript at 0x5d9939b0>"
       ]
      },
      {
       "javascript": [
        "\n",
        "        var $myPB = $(\"div#4283e7be-79e3-4400-b08f-07545025bd25\")\n",
        "        if ($myPB.hasClass('ui-progressbar')) {\n",
        "            $myPB.progressbar('value', 156);\n",
        "        } else {\n",
        "            $myPB.progressbar({value: 0, max: 542});\n",
        "        }\n",
        "        "
       ],
       "metadata": {},
       "output_type": "display_data",
       "text": [
        "<IPython.core.display.Javascript at 0x5d9938d0>"
       ]
      },
      {
       "javascript": [
        "$('div#796d8c95-cd80-4d5b-9393-4e5856d98c98').text('ETA:  0:00:00');"
       ],
       "metadata": {},
       "output_type": "display_data",
       "text": [
        "<IPython.core.display.Javascript at 0x5d993b70>"
       ]
      },
      {
       "javascript": [
        "$('div#9f790da1-0b7c-463b-ab6a-e28566eab3ba').text('162 of 542');"
       ],
       "metadata": {},
       "output_type": "display_data",
       "text": [
        "<IPython.core.display.Javascript at 0x5d993ba8>"
       ]
      },
      {
       "javascript": [
        "$('div#742866b4-1583-410c-8155-43a68dabc7f8').text(' 29%');"
       ],
       "metadata": {},
       "output_type": "display_data",
       "text": [
        "<IPython.core.display.Javascript at 0x5d993a58>"
       ]
      },
      {
       "javascript": [
        "\n",
        "        var $myPB = $(\"div#4283e7be-79e3-4400-b08f-07545025bd25\")\n",
        "        if ($myPB.hasClass('ui-progressbar')) {\n",
        "            $myPB.progressbar('value', 162);\n",
        "        } else {\n",
        "            $myPB.progressbar({value: 0, max: 542});\n",
        "        }\n",
        "        "
       ],
       "metadata": {},
       "output_type": "display_data",
       "text": [
        "<IPython.core.display.Javascript at 0x5d9939b0>"
       ]
      },
      {
       "javascript": [
        "$('div#796d8c95-cd80-4d5b-9393-4e5856d98c98').text('ETA:  0:00:00');"
       ],
       "metadata": {},
       "output_type": "display_data",
       "text": [
        "<IPython.core.display.Javascript at 0x5d9938d0>"
       ]
      },
      {
       "javascript": [
        "$('div#9f790da1-0b7c-463b-ab6a-e28566eab3ba').text('168 of 542');"
       ],
       "metadata": {},
       "output_type": "display_data",
       "text": [
        "<IPython.core.display.Javascript at 0x5d9938d0>"
       ]
      },
      {
       "javascript": [
        "$('div#742866b4-1583-410c-8155-43a68dabc7f8').text(' 30%');"
       ],
       "metadata": {},
       "output_type": "display_data",
       "text": [
        "<IPython.core.display.Javascript at 0x5d993be0>"
       ]
      },
      {
       "javascript": [
        "\n",
        "        var $myPB = $(\"div#4283e7be-79e3-4400-b08f-07545025bd25\")\n",
        "        if ($myPB.hasClass('ui-progressbar')) {\n",
        "            $myPB.progressbar('value', 168);\n",
        "        } else {\n",
        "            $myPB.progressbar({value: 0, max: 542});\n",
        "        }\n",
        "        "
       ],
       "metadata": {},
       "output_type": "display_data",
       "text": [
        "<IPython.core.display.Javascript at 0x5d9939b0>"
       ]
      },
      {
       "javascript": [
        "$('div#796d8c95-cd80-4d5b-9393-4e5856d98c98').text('ETA:  0:00:00');"
       ],
       "metadata": {},
       "output_type": "display_data",
       "text": [
        "<IPython.core.display.Javascript at 0x5d993b00>"
       ]
      },
      {
       "javascript": [
        "$('div#9f790da1-0b7c-463b-ab6a-e28566eab3ba').text('174 of 542');"
       ],
       "metadata": {},
       "output_type": "display_data",
       "text": [
        "<IPython.core.display.Javascript at 0x5d993c50>"
       ]
      },
      {
       "javascript": [
        "$('div#742866b4-1583-410c-8155-43a68dabc7f8').text(' 32%');"
       ],
       "metadata": {},
       "output_type": "display_data",
       "text": [
        "<IPython.core.display.Javascript at 0x5d9939b0>"
       ]
      },
      {
       "javascript": [
        "\n",
        "        var $myPB = $(\"div#4283e7be-79e3-4400-b08f-07545025bd25\")\n",
        "        if ($myPB.hasClass('ui-progressbar')) {\n",
        "            $myPB.progressbar('value', 174);\n",
        "        } else {\n",
        "            $myPB.progressbar({value: 0, max: 542});\n",
        "        }\n",
        "        "
       ],
       "metadata": {},
       "output_type": "display_data",
       "text": [
        "<IPython.core.display.Javascript at 0x5d9938d0>"
       ]
      },
      {
       "javascript": [
        "$('div#796d8c95-cd80-4d5b-9393-4e5856d98c98').text('ETA:  0:00:00');"
       ],
       "metadata": {},
       "output_type": "display_data",
       "text": [
        "<IPython.core.display.Javascript at 0x5d993be0>"
       ]
      },
      {
       "javascript": [
        "$('div#9f790da1-0b7c-463b-ab6a-e28566eab3ba').text('180 of 542');"
       ],
       "metadata": {},
       "output_type": "display_data",
       "text": [
        "<IPython.core.display.Javascript at 0x5d993b38>"
       ]
      },
      {
       "javascript": [
        "$('div#742866b4-1583-410c-8155-43a68dabc7f8').text(' 33%');"
       ],
       "metadata": {},
       "output_type": "display_data",
       "text": [
        "<IPython.core.display.Javascript at 0x5d993a58>"
       ]
      },
      {
       "javascript": [
        "\n",
        "        var $myPB = $(\"div#4283e7be-79e3-4400-b08f-07545025bd25\")\n",
        "        if ($myPB.hasClass('ui-progressbar')) {\n",
        "            $myPB.progressbar('value', 180);\n",
        "        } else {\n",
        "            $myPB.progressbar({value: 0, max: 542});\n",
        "        }\n",
        "        "
       ],
       "metadata": {},
       "output_type": "display_data",
       "text": [
        "<IPython.core.display.Javascript at 0x5d9939b0>"
       ]
      },
      {
       "javascript": [
        "$('div#796d8c95-cd80-4d5b-9393-4e5856d98c98').text('ETA:  0:00:00');"
       ],
       "metadata": {},
       "output_type": "display_data",
       "text": [
        "<IPython.core.display.Javascript at 0x5d9938d0>"
       ]
      },
      {
       "javascript": [
        "$('div#9f790da1-0b7c-463b-ab6a-e28566eab3ba').text('186 of 542');"
       ],
       "metadata": {},
       "output_type": "display_data",
       "text": [
        "<IPython.core.display.Javascript at 0x5d9938d0>"
       ]
      },
      {
       "javascript": [
        "$('div#742866b4-1583-410c-8155-43a68dabc7f8').text(' 34%');"
       ],
       "metadata": {},
       "output_type": "display_data",
       "text": [
        "<IPython.core.display.Javascript at 0x5d993cc0>"
       ]
      },
      {
       "javascript": [
        "\n",
        "        var $myPB = $(\"div#4283e7be-79e3-4400-b08f-07545025bd25\")\n",
        "        if ($myPB.hasClass('ui-progressbar')) {\n",
        "            $myPB.progressbar('value', 186);\n",
        "        } else {\n",
        "            $myPB.progressbar({value: 0, max: 542});\n",
        "        }\n",
        "        "
       ],
       "metadata": {},
       "output_type": "display_data",
       "text": [
        "<IPython.core.display.Javascript at 0x5d9939b0>"
       ]
      },
      {
       "javascript": [
        "$('div#796d8c95-cd80-4d5b-9393-4e5856d98c98').text('ETA:  0:00:00');"
       ],
       "metadata": {},
       "output_type": "display_data",
       "text": [
        "<IPython.core.display.Javascript at 0x5d993c88>"
       ]
      },
      {
       "javascript": [
        "$('div#9f790da1-0b7c-463b-ab6a-e28566eab3ba').text('192 of 542');"
       ],
       "metadata": {},
       "output_type": "display_data",
       "text": [
        "<IPython.core.display.Javascript at 0x5d993c88>"
       ]
      },
      {
       "javascript": [
        "$('div#742866b4-1583-410c-8155-43a68dabc7f8').text(' 35%');"
       ],
       "metadata": {},
       "output_type": "display_data",
       "text": [
        "<IPython.core.display.Javascript at 0x5d993b38>"
       ]
      },
      {
       "javascript": [
        "\n",
        "        var $myPB = $(\"div#4283e7be-79e3-4400-b08f-07545025bd25\")\n",
        "        if ($myPB.hasClass('ui-progressbar')) {\n",
        "            $myPB.progressbar('value', 192);\n",
        "        } else {\n",
        "            $myPB.progressbar({value: 0, max: 542});\n",
        "        }\n",
        "        "
       ],
       "metadata": {},
       "output_type": "display_data",
       "text": [
        "<IPython.core.display.Javascript at 0x5d9939b0>"
       ]
      },
      {
       "javascript": [
        "$('div#796d8c95-cd80-4d5b-9393-4e5856d98c98').text('ETA:  0:00:00');"
       ],
       "metadata": {},
       "output_type": "display_data",
       "text": [
        "<IPython.core.display.Javascript at 0x5d993cf8>"
       ]
      },
      {
       "javascript": [
        "$('div#9f790da1-0b7c-463b-ab6a-e28566eab3ba').text('198 of 542');"
       ],
       "metadata": {},
       "output_type": "display_data",
       "text": [
        "<IPython.core.display.Javascript at 0x5d9938d0>"
       ]
      },
      {
       "javascript": [
        "$('div#742866b4-1583-410c-8155-43a68dabc7f8').text(' 36%');"
       ],
       "metadata": {},
       "output_type": "display_data",
       "text": [
        "<IPython.core.display.Javascript at 0x5d993c50>"
       ]
      },
      {
       "javascript": [
        "\n",
        "        var $myPB = $(\"div#4283e7be-79e3-4400-b08f-07545025bd25\")\n",
        "        if ($myPB.hasClass('ui-progressbar')) {\n",
        "            $myPB.progressbar('value', 198);\n",
        "        } else {\n",
        "            $myPB.progressbar({value: 0, max: 542});\n",
        "        }\n",
        "        "
       ],
       "metadata": {},
       "output_type": "display_data",
       "text": [
        "<IPython.core.display.Javascript at 0x5d993b38>"
       ]
      },
      {
       "javascript": [
        "$('div#796d8c95-cd80-4d5b-9393-4e5856d98c98').text('ETA:  0:00:00');"
       ],
       "metadata": {},
       "output_type": "display_data",
       "text": [
        "<IPython.core.display.Javascript at 0x5d9939b0>"
       ]
      },
      {
       "javascript": [
        "$('div#9f790da1-0b7c-463b-ab6a-e28566eab3ba').text('204 of 542');"
       ],
       "metadata": {},
       "output_type": "display_data",
       "text": [
        "<IPython.core.display.Javascript at 0x5d993a58>"
       ]
      },
      {
       "javascript": [
        "$('div#742866b4-1583-410c-8155-43a68dabc7f8').text(' 37%');"
       ],
       "metadata": {},
       "output_type": "display_data",
       "text": [
        "<IPython.core.display.Javascript at 0x5d993c18>"
       ]
      },
      {
       "javascript": [
        "\n",
        "        var $myPB = $(\"div#4283e7be-79e3-4400-b08f-07545025bd25\")\n",
        "        if ($myPB.hasClass('ui-progressbar')) {\n",
        "            $myPB.progressbar('value', 204);\n",
        "        } else {\n",
        "            $myPB.progressbar({value: 0, max: 542});\n",
        "        }\n",
        "        "
       ],
       "metadata": {},
       "output_type": "display_data",
       "text": [
        "<IPython.core.display.Javascript at 0x5d993c50>"
       ]
      },
      {
       "javascript": [
        "$('div#796d8c95-cd80-4d5b-9393-4e5856d98c98').text('ETA:  0:00:00');"
       ],
       "metadata": {},
       "output_type": "display_data",
       "text": [
        "<IPython.core.display.Javascript at 0x5d993b38>"
       ]
      },
      {
       "javascript": [
        "$('div#9f790da1-0b7c-463b-ab6a-e28566eab3ba').text('210 of 542');"
       ],
       "metadata": {},
       "output_type": "display_data",
       "text": [
        "<IPython.core.display.Javascript at 0x5d993b38>"
       ]
      },
      {
       "javascript": [
        "$('div#742866b4-1583-410c-8155-43a68dabc7f8').text(' 38%');"
       ],
       "metadata": {},
       "output_type": "display_data",
       "text": [
        "<IPython.core.display.Javascript at 0x5d993d30>"
       ]
      },
      {
       "javascript": [
        "\n",
        "        var $myPB = $(\"div#4283e7be-79e3-4400-b08f-07545025bd25\")\n",
        "        if ($myPB.hasClass('ui-progressbar')) {\n",
        "            $myPB.progressbar('value', 210);\n",
        "        } else {\n",
        "            $myPB.progressbar({value: 0, max: 542});\n",
        "        }\n",
        "        "
       ],
       "metadata": {},
       "output_type": "display_data",
       "text": [
        "<IPython.core.display.Javascript at 0x5d993c50>"
       ]
      },
      {
       "javascript": [
        "$('div#796d8c95-cd80-4d5b-9393-4e5856d98c98').text('ETA:  0:00:00');"
       ],
       "metadata": {},
       "output_type": "display_data",
       "text": [
        "<IPython.core.display.Javascript at 0x5d993cc0>"
       ]
      },
      {
       "javascript": [
        "$('div#9f790da1-0b7c-463b-ab6a-e28566eab3ba').text('216 of 542');"
       ],
       "metadata": {},
       "output_type": "display_data",
       "text": [
        "<IPython.core.display.Javascript at 0x5d993d68>"
       ]
      },
      {
       "javascript": [
        "$('div#742866b4-1583-410c-8155-43a68dabc7f8').text(' 39%');"
       ],
       "metadata": {},
       "output_type": "display_data",
       "text": [
        "<IPython.core.display.Javascript at 0x5d993c50>"
       ]
      },
      {
       "javascript": [
        "\n",
        "        var $myPB = $(\"div#4283e7be-79e3-4400-b08f-07545025bd25\")\n",
        "        if ($myPB.hasClass('ui-progressbar')) {\n",
        "            $myPB.progressbar('value', 216);\n",
        "        } else {\n",
        "            $myPB.progressbar({value: 0, max: 542});\n",
        "        }\n",
        "        "
       ],
       "metadata": {},
       "output_type": "display_data",
       "text": [
        "<IPython.core.display.Javascript at 0x5d993b38>"
       ]
      },
      {
       "javascript": [
        "$('div#796d8c95-cd80-4d5b-9393-4e5856d98c98').text('ETA:  0:00:00');"
       ],
       "metadata": {},
       "output_type": "display_data",
       "text": [
        "<IPython.core.display.Javascript at 0x5d993d30>"
       ]
      },
      {
       "javascript": [
        "$('div#9f790da1-0b7c-463b-ab6a-e28566eab3ba').text('222 of 542');"
       ],
       "metadata": {},
       "output_type": "display_data",
       "text": [
        "<IPython.core.display.Javascript at 0x5d993d30>"
       ]
      },
      {
       "javascript": [
        "$('div#742866b4-1583-410c-8155-43a68dabc7f8').text(' 40%');"
       ],
       "metadata": {},
       "output_type": "display_data",
       "text": [
        "<IPython.core.display.Javascript at 0x5d993c88>"
       ]
      },
      {
       "javascript": [
        "\n",
        "        var $myPB = $(\"div#4283e7be-79e3-4400-b08f-07545025bd25\")\n",
        "        if ($myPB.hasClass('ui-progressbar')) {\n",
        "            $myPB.progressbar('value', 222);\n",
        "        } else {\n",
        "            $myPB.progressbar({value: 0, max: 542});\n",
        "        }\n",
        "        "
       ],
       "metadata": {},
       "output_type": "display_data",
       "text": [
        "<IPython.core.display.Javascript at 0x5d993b38>"
       ]
      },
      {
       "javascript": [
        "$('div#796d8c95-cd80-4d5b-9393-4e5856d98c98').text('ETA:  0:00:00');"
       ],
       "metadata": {},
       "output_type": "display_data",
       "text": [
        "<IPython.core.display.Javascript at 0x5d993c18>"
       ]
      },
      {
       "javascript": [
        "$('div#9f790da1-0b7c-463b-ab6a-e28566eab3ba').text('228 of 542');"
       ],
       "metadata": {},
       "output_type": "display_data",
       "text": [
        "<IPython.core.display.Javascript at 0x5d993c18>"
       ]
      },
      {
       "javascript": [
        "$('div#742866b4-1583-410c-8155-43a68dabc7f8').text(' 42%');"
       ],
       "metadata": {},
       "output_type": "display_data",
       "text": [
        "<IPython.core.display.Javascript at 0x5d993d68>"
       ]
      },
      {
       "javascript": [
        "\n",
        "        var $myPB = $(\"div#4283e7be-79e3-4400-b08f-07545025bd25\")\n",
        "        if ($myPB.hasClass('ui-progressbar')) {\n",
        "            $myPB.progressbar('value', 228);\n",
        "        } else {\n",
        "            $myPB.progressbar({value: 0, max: 542});\n",
        "        }\n",
        "        "
       ],
       "metadata": {},
       "output_type": "display_data",
       "text": [
        "<IPython.core.display.Javascript at 0x5d993b38>"
       ]
      },
      {
       "javascript": [
        "$('div#796d8c95-cd80-4d5b-9393-4e5856d98c98').text('ETA:  0:00:00');"
       ],
       "metadata": {},
       "output_type": "display_data",
       "text": [
        "<IPython.core.display.Javascript at 0x5d993dd8>"
       ]
      },
      {
       "javascript": [
        "$('div#9f790da1-0b7c-463b-ab6a-e28566eab3ba').text('234 of 542');"
       ],
       "metadata": {},
       "output_type": "display_data",
       "text": [
        "<IPython.core.display.Javascript at 0x5d993dd8>"
       ]
      },
      {
       "javascript": [
        "$('div#742866b4-1583-410c-8155-43a68dabc7f8').text(' 43%');"
       ],
       "metadata": {},
       "output_type": "display_data",
       "text": [
        "<IPython.core.display.Javascript at 0x5d993d30>"
       ]
      },
      {
       "javascript": [
        "\n",
        "        var $myPB = $(\"div#4283e7be-79e3-4400-b08f-07545025bd25\")\n",
        "        if ($myPB.hasClass('ui-progressbar')) {\n",
        "            $myPB.progressbar('value', 234);\n",
        "        } else {\n",
        "            $myPB.progressbar({value: 0, max: 542});\n",
        "        }\n",
        "        "
       ],
       "metadata": {},
       "output_type": "display_data",
       "text": [
        "<IPython.core.display.Javascript at 0x5d993b38>"
       ]
      },
      {
       "javascript": [
        "$('div#796d8c95-cd80-4d5b-9393-4e5856d98c98').text('ETA:  0:00:00');"
       ],
       "metadata": {},
       "output_type": "display_data",
       "text": [
        "<IPython.core.display.Javascript at 0x5d9938d0>"
       ]
      },
      {
       "javascript": [
        "$('div#9f790da1-0b7c-463b-ab6a-e28566eab3ba').text('240 of 542');"
       ],
       "metadata": {},
       "output_type": "display_data",
       "text": [
        "<IPython.core.display.Javascript at 0x5d9938d0>"
       ]
      },
      {
       "javascript": [
        "$('div#742866b4-1583-410c-8155-43a68dabc7f8').text(' 44%');"
       ],
       "metadata": {},
       "output_type": "display_data",
       "text": [
        "<IPython.core.display.Javascript at 0x5d993c18>"
       ]
      },
      {
       "javascript": [
        "\n",
        "        var $myPB = $(\"div#4283e7be-79e3-4400-b08f-07545025bd25\")\n",
        "        if ($myPB.hasClass('ui-progressbar')) {\n",
        "            $myPB.progressbar('value', 240);\n",
        "        } else {\n",
        "            $myPB.progressbar({value: 0, max: 542});\n",
        "        }\n",
        "        "
       ],
       "metadata": {},
       "output_type": "display_data",
       "text": [
        "<IPython.core.display.Javascript at 0x5d993b38>"
       ]
      },
      {
       "javascript": [
        "$('div#796d8c95-cd80-4d5b-9393-4e5856d98c98').text('ETA:  0:00:00');"
       ],
       "metadata": {},
       "output_type": "display_data",
       "text": [
        "<IPython.core.display.Javascript at 0x5d993c50>"
       ]
      },
      {
       "javascript": [
        "$('div#9f790da1-0b7c-463b-ab6a-e28566eab3ba').text('246 of 542');"
       ],
       "metadata": {},
       "output_type": "display_data",
       "text": [
        "<IPython.core.display.Javascript at 0x5d993c88>"
       ]
      },
      {
       "javascript": [
        "$('div#742866b4-1583-410c-8155-43a68dabc7f8').text(' 45%');"
       ],
       "metadata": {},
       "output_type": "display_data",
       "text": [
        "<IPython.core.display.Javascript at 0x5d993b38>"
       ]
      },
      {
       "javascript": [
        "\n",
        "        var $myPB = $(\"div#4283e7be-79e3-4400-b08f-07545025bd25\")\n",
        "        if ($myPB.hasClass('ui-progressbar')) {\n",
        "            $myPB.progressbar('value', 246);\n",
        "        } else {\n",
        "            $myPB.progressbar({value: 0, max: 542});\n",
        "        }\n",
        "        "
       ],
       "metadata": {},
       "output_type": "display_data",
       "text": [
        "<IPython.core.display.Javascript at 0x5d9938d0>"
       ]
      },
      {
       "javascript": [
        "$('div#796d8c95-cd80-4d5b-9393-4e5856d98c98').text('ETA:  0:00:00');"
       ],
       "metadata": {},
       "output_type": "display_data",
       "text": [
        "<IPython.core.display.Javascript at 0x5d993c18>"
       ]
      },
      {
       "javascript": [
        "$('div#9f790da1-0b7c-463b-ab6a-e28566eab3ba').text('252 of 542');"
       ],
       "metadata": {},
       "output_type": "display_data",
       "text": [
        "<IPython.core.display.Javascript at 0x5d993da0>"
       ]
      },
      {
       "javascript": [
        "$('div#742866b4-1583-410c-8155-43a68dabc7f8').text(' 46%');"
       ],
       "metadata": {},
       "output_type": "display_data",
       "text": [
        "<IPython.core.display.Javascript at 0x5d993d30>"
       ]
      },
      {
       "javascript": [
        "\n",
        "        var $myPB = $(\"div#4283e7be-79e3-4400-b08f-07545025bd25\")\n",
        "        if ($myPB.hasClass('ui-progressbar')) {\n",
        "            $myPB.progressbar('value', 252);\n",
        "        } else {\n",
        "            $myPB.progressbar({value: 0, max: 542});\n",
        "        }\n",
        "        "
       ],
       "metadata": {},
       "output_type": "display_data",
       "text": [
        "<IPython.core.display.Javascript at 0x5d993b38>"
       ]
      },
      {
       "javascript": [
        "$('div#796d8c95-cd80-4d5b-9393-4e5856d98c98').text('ETA:  0:00:00');"
       ],
       "metadata": {},
       "output_type": "display_data",
       "text": [
        "<IPython.core.display.Javascript at 0x5d9938d0>"
       ]
      },
      {
       "javascript": [
        "$('div#9f790da1-0b7c-463b-ab6a-e28566eab3ba').text('258 of 542');"
       ],
       "metadata": {},
       "output_type": "display_data",
       "text": [
        "<IPython.core.display.Javascript at 0x5d993e10>"
       ]
      },
      {
       "javascript": [
        "$('div#742866b4-1583-410c-8155-43a68dabc7f8').text(' 47%');"
       ],
       "metadata": {},
       "output_type": "display_data",
       "text": [
        "<IPython.core.display.Javascript at 0x5d993b38>"
       ]
      },
      {
       "javascript": [
        "\n",
        "        var $myPB = $(\"div#4283e7be-79e3-4400-b08f-07545025bd25\")\n",
        "        if ($myPB.hasClass('ui-progressbar')) {\n",
        "            $myPB.progressbar('value', 258);\n",
        "        } else {\n",
        "            $myPB.progressbar({value: 0, max: 542});\n",
        "        }\n",
        "        "
       ],
       "metadata": {},
       "output_type": "display_data",
       "text": [
        "<IPython.core.display.Javascript at 0x5d993da0>"
       ]
      },
      {
       "javascript": [
        "$('div#796d8c95-cd80-4d5b-9393-4e5856d98c98').text('ETA:  0:00:00');"
       ],
       "metadata": {},
       "output_type": "display_data",
       "text": [
        "<IPython.core.display.Javascript at 0x5d993d30>"
       ]
      },
      {
       "javascript": [
        "$('div#9f790da1-0b7c-463b-ab6a-e28566eab3ba').text('264 of 542');"
       ],
       "metadata": {},
       "output_type": "display_data",
       "text": [
        "<IPython.core.display.Javascript at 0x5d993e10>"
       ]
      },
      {
       "javascript": [
        "$('div#742866b4-1583-410c-8155-43a68dabc7f8').text(' 48%');"
       ],
       "metadata": {},
       "output_type": "display_data",
       "text": [
        "<IPython.core.display.Javascript at 0x5d993ef0>"
       ]
      },
      {
       "javascript": [
        "\n",
        "        var $myPB = $(\"div#4283e7be-79e3-4400-b08f-07545025bd25\")\n",
        "        if ($myPB.hasClass('ui-progressbar')) {\n",
        "            $myPB.progressbar('value', 264);\n",
        "        } else {\n",
        "            $myPB.progressbar({value: 0, max: 542});\n",
        "        }\n",
        "        "
       ],
       "metadata": {},
       "output_type": "display_data",
       "text": [
        "<IPython.core.display.Javascript at 0x5d993e80>"
       ]
      },
      {
       "javascript": [
        "$('div#796d8c95-cd80-4d5b-9393-4e5856d98c98').text('ETA:  0:00:00');"
       ],
       "metadata": {},
       "output_type": "display_data",
       "text": [
        "<IPython.core.display.Javascript at 0x5d993eb8>"
       ]
      },
      {
       "javascript": [
        "$('div#9f790da1-0b7c-463b-ab6a-e28566eab3ba').text('270 of 542');"
       ],
       "metadata": {},
       "output_type": "display_data",
       "text": [
        "<IPython.core.display.Javascript at 0x5d993f60>"
       ]
      },
      {
       "javascript": [
        "$('div#742866b4-1583-410c-8155-43a68dabc7f8').text(' 49%');"
       ],
       "metadata": {},
       "output_type": "display_data",
       "text": [
        "<IPython.core.display.Javascript at 0x5d993f98>"
       ]
      },
      {
       "javascript": [
        "\n",
        "        var $myPB = $(\"div#4283e7be-79e3-4400-b08f-07545025bd25\")\n",
        "        if ($myPB.hasClass('ui-progressbar')) {\n",
        "            $myPB.progressbar('value', 270);\n",
        "        } else {\n",
        "            $myPB.progressbar({value: 0, max: 542});\n",
        "        }\n",
        "        "
       ],
       "metadata": {},
       "output_type": "display_data",
       "text": [
        "<IPython.core.display.Javascript at 0x5d993ef0>"
       ]
      },
      {
       "javascript": [
        "$('div#796d8c95-cd80-4d5b-9393-4e5856d98c98').text('ETA:  0:00:00');"
       ],
       "metadata": {},
       "output_type": "display_data",
       "text": [
        "<IPython.core.display.Javascript at 0x5d993e80>"
       ]
      },
      {
       "javascript": [
        "$('div#9f790da1-0b7c-463b-ab6a-e28566eab3ba').text('276 of 542');"
       ],
       "metadata": {},
       "output_type": "display_data",
       "text": [
        "<IPython.core.display.Javascript at 0x5d993f28>"
       ]
      },
      {
       "javascript": [
        "$('div#742866b4-1583-410c-8155-43a68dabc7f8').text(' 50%');"
       ],
       "metadata": {},
       "output_type": "display_data",
       "text": [
        "<IPython.core.display.Javascript at 0x5d993fd0>"
       ]
      },
      {
       "javascript": [
        "\n",
        "        var $myPB = $(\"div#4283e7be-79e3-4400-b08f-07545025bd25\")\n",
        "        if ($myPB.hasClass('ui-progressbar')) {\n",
        "            $myPB.progressbar('value', 276);\n",
        "        } else {\n",
        "            $myPB.progressbar({value: 0, max: 542});\n",
        "        }\n",
        "        "
       ],
       "metadata": {},
       "output_type": "display_data",
       "text": [
        "<IPython.core.display.Javascript at 0x5d993f98>"
       ]
      },
      {
       "javascript": [
        "$('div#796d8c95-cd80-4d5b-9393-4e5856d98c98').text('ETA:  0:00:00');"
       ],
       "metadata": {},
       "output_type": "display_data",
       "text": [
        "<IPython.core.display.Javascript at 0x5d993ef0>"
       ]
      },
      {
       "javascript": [
        "$('div#9f790da1-0b7c-463b-ab6a-e28566eab3ba').text('282 of 542');"
       ],
       "metadata": {},
       "output_type": "display_data",
       "text": [
        "<IPython.core.display.Javascript at 0x5d993e10>"
       ]
      },
      {
       "javascript": [
        "$('div#742866b4-1583-410c-8155-43a68dabc7f8').text(' 52%');"
       ],
       "metadata": {},
       "output_type": "display_data",
       "text": [
        "<IPython.core.display.Javascript at 0x5d993f60>"
       ]
      },
      {
       "javascript": [
        "\n",
        "        var $myPB = $(\"div#4283e7be-79e3-4400-b08f-07545025bd25\")\n",
        "        if ($myPB.hasClass('ui-progressbar')) {\n",
        "            $myPB.progressbar('value', 282);\n",
        "        } else {\n",
        "            $myPB.progressbar({value: 0, max: 542});\n",
        "        }\n",
        "        "
       ],
       "metadata": {},
       "output_type": "display_data",
       "text": [
        "<IPython.core.display.Javascript at 0x5d993fd0>"
       ]
      },
      {
       "javascript": [
        "$('div#796d8c95-cd80-4d5b-9393-4e5856d98c98').text('ETA:  0:00:00');"
       ],
       "metadata": {},
       "output_type": "display_data",
       "text": [
        "<IPython.core.display.Javascript at 0x5d993f98>"
       ]
      },
      {
       "javascript": [
        "$('div#9f790da1-0b7c-463b-ab6a-e28566eab3ba').text('288 of 542');"
       ],
       "metadata": {},
       "output_type": "display_data",
       "text": [
        "<IPython.core.display.Javascript at 0x5d993f28>"
       ]
      },
      {
       "javascript": [
        "$('div#742866b4-1583-410c-8155-43a68dabc7f8').text(' 53%');"
       ],
       "metadata": {},
       "output_type": "display_data",
       "text": [
        "<IPython.core.display.Javascript at 0x5d993fd0>"
       ]
      },
      {
       "javascript": [
        "\n",
        "        var $myPB = $(\"div#4283e7be-79e3-4400-b08f-07545025bd25\")\n",
        "        if ($myPB.hasClass('ui-progressbar')) {\n",
        "            $myPB.progressbar('value', 288);\n",
        "        } else {\n",
        "            $myPB.progressbar({value: 0, max: 542});\n",
        "        }\n",
        "        "
       ],
       "metadata": {},
       "output_type": "display_data",
       "text": [
        "<IPython.core.display.Javascript at 0x5d993e10>"
       ]
      },
      {
       "javascript": [
        "$('div#796d8c95-cd80-4d5b-9393-4e5856d98c98').text('ETA:  0:00:00');"
       ],
       "metadata": {},
       "output_type": "display_data",
       "text": [
        "<IPython.core.display.Javascript at 0x5d993f60>"
       ]
      },
      {
       "javascript": [
        "$('div#9f790da1-0b7c-463b-ab6a-e28566eab3ba').text('294 of 542');"
       ],
       "metadata": {},
       "output_type": "display_data",
       "text": [
        "<IPython.core.display.Javascript at 0x5d993fd0>"
       ]
      },
      {
       "javascript": [
        "$('div#742866b4-1583-410c-8155-43a68dabc7f8').text(' 54%');"
       ],
       "metadata": {},
       "output_type": "display_data",
       "text": [
        "<IPython.core.display.Javascript at 0x5d993f28>"
       ]
      },
      {
       "javascript": [
        "\n",
        "        var $myPB = $(\"div#4283e7be-79e3-4400-b08f-07545025bd25\")\n",
        "        if ($myPB.hasClass('ui-progressbar')) {\n",
        "            $myPB.progressbar('value', 294);\n",
        "        } else {\n",
        "            $myPB.progressbar({value: 0, max: 542});\n",
        "        }\n",
        "        "
       ],
       "metadata": {},
       "output_type": "display_data",
       "text": [
        "<IPython.core.display.Javascript at 0x5da1c080>"
       ]
      },
      {
       "javascript": [
        "$('div#796d8c95-cd80-4d5b-9393-4e5856d98c98').text('ETA:  0:00:00');"
       ],
       "metadata": {},
       "output_type": "display_data",
       "text": [
        "<IPython.core.display.Javascript at 0x5da1c048>"
       ]
      },
      {
       "javascript": [
        "$('div#9f790da1-0b7c-463b-ab6a-e28566eab3ba').text('300 of 542');"
       ],
       "metadata": {},
       "output_type": "display_data",
       "text": [
        "<IPython.core.display.Javascript at 0x5d993f28>"
       ]
      },
      {
       "javascript": [
        "$('div#742866b4-1583-410c-8155-43a68dabc7f8').text(' 55%');"
       ],
       "metadata": {},
       "output_type": "display_data",
       "text": [
        "<IPython.core.display.Javascript at 0x5d993fd0>"
       ]
      },
      {
       "javascript": [
        "\n",
        "        var $myPB = $(\"div#4283e7be-79e3-4400-b08f-07545025bd25\")\n",
        "        if ($myPB.hasClass('ui-progressbar')) {\n",
        "            $myPB.progressbar('value', 300);\n",
        "        } else {\n",
        "            $myPB.progressbar({value: 0, max: 542});\n",
        "        }\n",
        "        "
       ],
       "metadata": {},
       "output_type": "display_data",
       "text": [
        "<IPython.core.display.Javascript at 0x5da1e080>"
       ]
      },
      {
       "javascript": [
        "$('div#796d8c95-cd80-4d5b-9393-4e5856d98c98').text('ETA:  0:00:00');"
       ],
       "metadata": {},
       "output_type": "display_data",
       "text": [
        "<IPython.core.display.Javascript at 0x5da1e048>"
       ]
      },
      {
       "javascript": [
        "$('div#9f790da1-0b7c-463b-ab6a-e28566eab3ba').text('306 of 542');"
       ],
       "metadata": {},
       "output_type": "display_data",
       "text": [
        "<IPython.core.display.Javascript at 0x5d993fd0>"
       ]
      },
      {
       "javascript": [
        "$('div#742866b4-1583-410c-8155-43a68dabc7f8').text(' 56%');"
       ],
       "metadata": {},
       "output_type": "display_data",
       "text": [
        "<IPython.core.display.Javascript at 0x5d993f28>"
       ]
      },
      {
       "javascript": [
        "\n",
        "        var $myPB = $(\"div#4283e7be-79e3-4400-b08f-07545025bd25\")\n",
        "        if ($myPB.hasClass('ui-progressbar')) {\n",
        "            $myPB.progressbar('value', 306);\n",
        "        } else {\n",
        "            $myPB.progressbar({value: 0, max: 542});\n",
        "        }\n",
        "        "
       ],
       "metadata": {},
       "output_type": "display_data",
       "text": [
        "<IPython.core.display.Javascript at 0x5da1e0f0>"
       ]
      },
      {
       "javascript": [
        "$('div#796d8c95-cd80-4d5b-9393-4e5856d98c98').text('ETA:  0:00:00');"
       ],
       "metadata": {},
       "output_type": "display_data",
       "text": [
        "<IPython.core.display.Javascript at 0x5da1e048>"
       ]
      },
      {
       "javascript": [
        "$('div#9f790da1-0b7c-463b-ab6a-e28566eab3ba').text('312 of 542');"
       ],
       "metadata": {},
       "output_type": "display_data",
       "text": [
        "<IPython.core.display.Javascript at 0x5d993fd0>"
       ]
      },
      {
       "javascript": [
        "$('div#742866b4-1583-410c-8155-43a68dabc7f8').text(' 57%');"
       ],
       "metadata": {},
       "output_type": "display_data",
       "text": [
        "<IPython.core.display.Javascript at 0x5da21048>"
       ]
      },
      {
       "javascript": [
        "\n",
        "        var $myPB = $(\"div#4283e7be-79e3-4400-b08f-07545025bd25\")\n",
        "        if ($myPB.hasClass('ui-progressbar')) {\n",
        "            $myPB.progressbar('value', 312);\n",
        "        } else {\n",
        "            $myPB.progressbar({value: 0, max: 542});\n",
        "        }\n",
        "        "
       ],
       "metadata": {},
       "output_type": "display_data",
       "text": [
        "<IPython.core.display.Javascript at 0x5da210b8>"
       ]
      },
      {
       "javascript": [
        "$('div#796d8c95-cd80-4d5b-9393-4e5856d98c98').text('ETA:  0:00:00');"
       ],
       "metadata": {},
       "output_type": "display_data",
       "text": [
        "<IPython.core.display.Javascript at 0x5da21080>"
       ]
      },
      {
       "javascript": [
        "$('div#9f790da1-0b7c-463b-ab6a-e28566eab3ba').text('318 of 542');"
       ],
       "metadata": {},
       "output_type": "display_data",
       "text": [
        "<IPython.core.display.Javascript at 0x5da23048>"
       ]
      },
      {
       "javascript": [
        "$('div#742866b4-1583-410c-8155-43a68dabc7f8').text(' 58%');"
       ],
       "metadata": {},
       "output_type": "display_data",
       "text": [
        "<IPython.core.display.Javascript at 0x5da23080>"
       ]
      },
      {
       "javascript": [
        "\n",
        "        var $myPB = $(\"div#4283e7be-79e3-4400-b08f-07545025bd25\")\n",
        "        if ($myPB.hasClass('ui-progressbar')) {\n",
        "            $myPB.progressbar('value', 318);\n",
        "        } else {\n",
        "            $myPB.progressbar({value: 0, max: 542});\n",
        "        }\n",
        "        "
       ],
       "metadata": {},
       "output_type": "display_data",
       "text": [
        "<IPython.core.display.Javascript at 0x5da230f0>"
       ]
      },
      {
       "javascript": [
        "$('div#796d8c95-cd80-4d5b-9393-4e5856d98c98').text('ETA:  0:00:00');"
       ],
       "metadata": {},
       "output_type": "display_data",
       "text": [
        "<IPython.core.display.Javascript at 0x5da230b8>"
       ]
      },
      {
       "javascript": [
        "$('div#9f790da1-0b7c-463b-ab6a-e28566eab3ba').text('324 of 542');"
       ],
       "metadata": {},
       "output_type": "display_data",
       "text": [
        "<IPython.core.display.Javascript at 0x5da25048>"
       ]
      },
      {
       "javascript": [
        "$('div#742866b4-1583-410c-8155-43a68dabc7f8').text(' 59%');"
       ],
       "metadata": {},
       "output_type": "display_data",
       "text": [
        "<IPython.core.display.Javascript at 0x5da25080>"
       ]
      },
      {
       "javascript": [
        "\n",
        "        var $myPB = $(\"div#4283e7be-79e3-4400-b08f-07545025bd25\")\n",
        "        if ($myPB.hasClass('ui-progressbar')) {\n",
        "            $myPB.progressbar('value', 324);\n",
        "        } else {\n",
        "            $myPB.progressbar({value: 0, max: 542});\n",
        "        }\n",
        "        "
       ],
       "metadata": {},
       "output_type": "display_data",
       "text": [
        "<IPython.core.display.Javascript at 0x5da250f0>"
       ]
      },
      {
       "javascript": [
        "$('div#796d8c95-cd80-4d5b-9393-4e5856d98c98').text('ETA:  0:00:00');"
       ],
       "metadata": {},
       "output_type": "display_data",
       "text": [
        "<IPython.core.display.Javascript at 0x5da250b8>"
       ]
      },
      {
       "javascript": [
        "$('div#9f790da1-0b7c-463b-ab6a-e28566eab3ba').text('330 of 542');"
       ],
       "metadata": {},
       "output_type": "display_data",
       "text": [
        "<IPython.core.display.Javascript at 0x5da250b8>"
       ]
      },
      {
       "javascript": [
        "$('div#742866b4-1583-410c-8155-43a68dabc7f8').text(' 60%');"
       ],
       "metadata": {},
       "output_type": "display_data",
       "text": [
        "<IPython.core.display.Javascript at 0x5da25160>"
       ]
      },
      {
       "javascript": [
        "\n",
        "        var $myPB = $(\"div#4283e7be-79e3-4400-b08f-07545025bd25\")\n",
        "        if ($myPB.hasClass('ui-progressbar')) {\n",
        "            $myPB.progressbar('value', 330);\n",
        "        } else {\n",
        "            $myPB.progressbar({value: 0, max: 542});\n",
        "        }\n",
        "        "
       ],
       "metadata": {},
       "output_type": "display_data",
       "text": [
        "<IPython.core.display.Javascript at 0x5da250f0>"
       ]
      },
      {
       "javascript": [
        "$('div#796d8c95-cd80-4d5b-9393-4e5856d98c98').text('ETA:  0:00:00');"
       ],
       "metadata": {},
       "output_type": "display_data",
       "text": [
        "<IPython.core.display.Javascript at 0x5da25198>"
       ]
      },
      {
       "javascript": [
        "$('div#9f790da1-0b7c-463b-ab6a-e28566eab3ba').text('336 of 542');"
       ],
       "metadata": {},
       "output_type": "display_data",
       "text": [
        "<IPython.core.display.Javascript at 0x5da26080>"
       ]
      },
      {
       "javascript": [
        "$('div#742866b4-1583-410c-8155-43a68dabc7f8').text(' 61%');"
       ],
       "metadata": {},
       "output_type": "display_data",
       "text": [
        "<IPython.core.display.Javascript at 0x5da260b8>"
       ]
      },
      {
       "javascript": [
        "\n",
        "        var $myPB = $(\"div#4283e7be-79e3-4400-b08f-07545025bd25\")\n",
        "        if ($myPB.hasClass('ui-progressbar')) {\n",
        "            $myPB.progressbar('value', 336);\n",
        "        } else {\n",
        "            $myPB.progressbar({value: 0, max: 542});\n",
        "        }\n",
        "        "
       ],
       "metadata": {},
       "output_type": "display_data",
       "text": [
        "<IPython.core.display.Javascript at 0x5da26128>"
       ]
      },
      {
       "javascript": [
        "$('div#796d8c95-cd80-4d5b-9393-4e5856d98c98').text('ETA:  0:00:00');"
       ],
       "metadata": {},
       "output_type": "display_data",
       "text": [
        "<IPython.core.display.Javascript at 0x5da260f0>"
       ]
      },
      {
       "javascript": [
        "$('div#9f790da1-0b7c-463b-ab6a-e28566eab3ba').text('342 of 542');"
       ],
       "metadata": {},
       "output_type": "display_data",
       "text": [
        "<IPython.core.display.Javascript at 0x5da260f0>"
       ]
      },
      {
       "javascript": [
        "$('div#742866b4-1583-410c-8155-43a68dabc7f8').text(' 63%');"
       ],
       "metadata": {},
       "output_type": "display_data",
       "text": [
        "<IPython.core.display.Javascript at 0x5da26198>"
       ]
      },
      {
       "javascript": [
        "\n",
        "        var $myPB = $(\"div#4283e7be-79e3-4400-b08f-07545025bd25\")\n",
        "        if ($myPB.hasClass('ui-progressbar')) {\n",
        "            $myPB.progressbar('value', 342);\n",
        "        } else {\n",
        "            $myPB.progressbar({value: 0, max: 542});\n",
        "        }\n",
        "        "
       ],
       "metadata": {},
       "output_type": "display_data",
       "text": [
        "<IPython.core.display.Javascript at 0x5da26128>"
       ]
      },
      {
       "javascript": [
        "$('div#796d8c95-cd80-4d5b-9393-4e5856d98c98').text('ETA:  0:00:00');"
       ],
       "metadata": {},
       "output_type": "display_data",
       "text": [
        "<IPython.core.display.Javascript at 0x5da261d0>"
       ]
      },
      {
       "javascript": [
        "$('div#9f790da1-0b7c-463b-ab6a-e28566eab3ba').text('348 of 542');"
       ],
       "metadata": {},
       "output_type": "display_data",
       "text": [
        "<IPython.core.display.Javascript at 0x5da261d0>"
       ]
      },
      {
       "javascript": [
        "$('div#742866b4-1583-410c-8155-43a68dabc7f8').text(' 64%');"
       ],
       "metadata": {},
       "output_type": "display_data",
       "text": [
        "<IPython.core.display.Javascript at 0x5da26080>"
       ]
      },
      {
       "javascript": [
        "\n",
        "        var $myPB = $(\"div#4283e7be-79e3-4400-b08f-07545025bd25\")\n",
        "        if ($myPB.hasClass('ui-progressbar')) {\n",
        "            $myPB.progressbar('value', 348);\n",
        "        } else {\n",
        "            $myPB.progressbar({value: 0, max: 542});\n",
        "        }\n",
        "        "
       ],
       "metadata": {},
       "output_type": "display_data",
       "text": [
        "<IPython.core.display.Javascript at 0x5da26128>"
       ]
      },
      {
       "javascript": [
        "$('div#796d8c95-cd80-4d5b-9393-4e5856d98c98').text('ETA:  0:00:00');"
       ],
       "metadata": {},
       "output_type": "display_data",
       "text": [
        "<IPython.core.display.Javascript at 0x5da26240>"
       ]
      },
      {
       "javascript": [
        "$('div#9f790da1-0b7c-463b-ab6a-e28566eab3ba').text('354 of 542');"
       ],
       "metadata": {},
       "output_type": "display_data",
       "text": [
        "<IPython.core.display.Javascript at 0x5da260f0>"
       ]
      },
      {
       "javascript": [
        "$('div#742866b4-1583-410c-8155-43a68dabc7f8').text(' 65%');"
       ],
       "metadata": {},
       "output_type": "display_data",
       "text": [
        "<IPython.core.display.Javascript at 0x5da26160>"
       ]
      },
      {
       "javascript": [
        "\n",
        "        var $myPB = $(\"div#4283e7be-79e3-4400-b08f-07545025bd25\")\n",
        "        if ($myPB.hasClass('ui-progressbar')) {\n",
        "            $myPB.progressbar('value', 354);\n",
        "        } else {\n",
        "            $myPB.progressbar({value: 0, max: 542});\n",
        "        }\n",
        "        "
       ],
       "metadata": {},
       "output_type": "display_data",
       "text": [
        "<IPython.core.display.Javascript at 0x5da26080>"
       ]
      },
      {
       "javascript": [
        "$('div#796d8c95-cd80-4d5b-9393-4e5856d98c98').text('ETA:  0:00:00');"
       ],
       "metadata": {},
       "output_type": "display_data",
       "text": [
        "<IPython.core.display.Javascript at 0x5da26128>"
       ]
      },
      {
       "javascript": [
        "$('div#9f790da1-0b7c-463b-ab6a-e28566eab3ba').text('360 of 542');"
       ],
       "metadata": {},
       "output_type": "display_data",
       "text": [
        "<IPython.core.display.Javascript at 0x5da260b8>"
       ]
      },
      {
       "javascript": [
        "$('div#742866b4-1583-410c-8155-43a68dabc7f8').text(' 66%');"
       ],
       "metadata": {},
       "output_type": "display_data",
       "text": [
        "<IPython.core.display.Javascript at 0x5da26208>"
       ]
      },
      {
       "javascript": [
        "\n",
        "        var $myPB = $(\"div#4283e7be-79e3-4400-b08f-07545025bd25\")\n",
        "        if ($myPB.hasClass('ui-progressbar')) {\n",
        "            $myPB.progressbar('value', 360);\n",
        "        } else {\n",
        "            $myPB.progressbar({value: 0, max: 542});\n",
        "        }\n",
        "        "
       ],
       "metadata": {},
       "output_type": "display_data",
       "text": [
        "<IPython.core.display.Javascript at 0x5da26160>"
       ]
      },
      {
       "javascript": [
        "$('div#796d8c95-cd80-4d5b-9393-4e5856d98c98').text('ETA:  0:00:00');"
       ],
       "metadata": {},
       "output_type": "display_data",
       "text": [
        "<IPython.core.display.Javascript at 0x5da26080>"
       ]
      },
      {
       "javascript": [
        "$('div#9f790da1-0b7c-463b-ab6a-e28566eab3ba').text('366 of 542');"
       ],
       "metadata": {},
       "output_type": "display_data",
       "text": [
        "<IPython.core.display.Javascript at 0x5da26278>"
       ]
      },
      {
       "javascript": [
        "$('div#742866b4-1583-410c-8155-43a68dabc7f8').text(' 67%');"
       ],
       "metadata": {},
       "output_type": "display_data",
       "text": [
        "<IPython.core.display.Javascript at 0x5da26198>"
       ]
      },
      {
       "javascript": [
        "\n",
        "        var $myPB = $(\"div#4283e7be-79e3-4400-b08f-07545025bd25\")\n",
        "        if ($myPB.hasClass('ui-progressbar')) {\n",
        "            $myPB.progressbar('value', 366);\n",
        "        } else {\n",
        "            $myPB.progressbar({value: 0, max: 542});\n",
        "        }\n",
        "        "
       ],
       "metadata": {},
       "output_type": "display_data",
       "text": [
        "<IPython.core.display.Javascript at 0x5da26208>"
       ]
      },
      {
       "javascript": [
        "$('div#796d8c95-cd80-4d5b-9393-4e5856d98c98').text('ETA:  0:00:00');"
       ],
       "metadata": {},
       "output_type": "display_data",
       "text": [
        "<IPython.core.display.Javascript at 0x5da26160>"
       ]
      },
      {
       "javascript": [
        "$('div#9f790da1-0b7c-463b-ab6a-e28566eab3ba').text('372 of 542');"
       ],
       "metadata": {},
       "output_type": "display_data",
       "text": [
        "<IPython.core.display.Javascript at 0x5da26208>"
       ]
      },
      {
       "javascript": [
        "$('div#742866b4-1583-410c-8155-43a68dabc7f8').text(' 68%');"
       ],
       "metadata": {},
       "output_type": "display_data",
       "text": [
        "<IPython.core.display.Javascript at 0x5da26198>"
       ]
      },
      {
       "javascript": [
        "\n",
        "        var $myPB = $(\"div#4283e7be-79e3-4400-b08f-07545025bd25\")\n",
        "        if ($myPB.hasClass('ui-progressbar')) {\n",
        "            $myPB.progressbar('value', 372);\n",
        "        } else {\n",
        "            $myPB.progressbar({value: 0, max: 542});\n",
        "        }\n",
        "        "
       ],
       "metadata": {},
       "output_type": "display_data",
       "text": [
        "<IPython.core.display.Javascript at 0x5da262e8>"
       ]
      },
      {
       "javascript": [
        "$('div#796d8c95-cd80-4d5b-9393-4e5856d98c98').text('ETA:  0:00:00');"
       ],
       "metadata": {},
       "output_type": "display_data",
       "text": [
        "<IPython.core.display.Javascript at 0x5da26278>"
       ]
      },
      {
       "javascript": [
        "$('div#9f790da1-0b7c-463b-ab6a-e28566eab3ba').text('378 of 542');"
       ],
       "metadata": {},
       "output_type": "display_data",
       "text": [
        "<IPython.core.display.Javascript at 0x5da26320>"
       ]
      },
      {
       "javascript": [
        "$('div#742866b4-1583-410c-8155-43a68dabc7f8').text(' 69%');"
       ],
       "metadata": {},
       "output_type": "display_data",
       "text": [
        "<IPython.core.display.Javascript at 0x5da262e8>"
       ]
      },
      {
       "javascript": [
        "\n",
        "        var $myPB = $(\"div#4283e7be-79e3-4400-b08f-07545025bd25\")\n",
        "        if ($myPB.hasClass('ui-progressbar')) {\n",
        "            $myPB.progressbar('value', 378);\n",
        "        } else {\n",
        "            $myPB.progressbar({value: 0, max: 542});\n",
        "        }\n",
        "        "
       ],
       "metadata": {},
       "output_type": "display_data",
       "text": [
        "<IPython.core.display.Javascript at 0x5da26208>"
       ]
      },
      {
       "javascript": [
        "$('div#796d8c95-cd80-4d5b-9393-4e5856d98c98').text('ETA:  0:00:00');"
       ],
       "metadata": {},
       "output_type": "display_data",
       "text": [
        "<IPython.core.display.Javascript at 0x5da26198>"
       ]
      },
      {
       "javascript": [
        "$('div#9f790da1-0b7c-463b-ab6a-e28566eab3ba').text('384 of 542');"
       ],
       "metadata": {},
       "output_type": "display_data",
       "text": [
        "<IPython.core.display.Javascript at 0x5da262e8>"
       ]
      },
      {
       "javascript": [
        "$('div#742866b4-1583-410c-8155-43a68dabc7f8').text(' 70%');"
       ],
       "metadata": {},
       "output_type": "display_data",
       "text": [
        "<IPython.core.display.Javascript at 0x5da26320>"
       ]
      },
      {
       "javascript": [
        "\n",
        "        var $myPB = $(\"div#4283e7be-79e3-4400-b08f-07545025bd25\")\n",
        "        if ($myPB.hasClass('ui-progressbar')) {\n",
        "            $myPB.progressbar('value', 384);\n",
        "        } else {\n",
        "            $myPB.progressbar({value: 0, max: 542});\n",
        "        }\n",
        "        "
       ],
       "metadata": {},
       "output_type": "display_data",
       "text": [
        "<IPython.core.display.Javascript at 0x5da263c8>"
       ]
      },
      {
       "javascript": [
        "$('div#796d8c95-cd80-4d5b-9393-4e5856d98c98').text('ETA:  0:00:00');"
       ],
       "metadata": {},
       "output_type": "display_data",
       "text": [
        "<IPython.core.display.Javascript at 0x5da26400>"
       ]
      },
      {
       "javascript": [
        "$('div#9f790da1-0b7c-463b-ab6a-e28566eab3ba').text('390 of 542');"
       ],
       "metadata": {},
       "output_type": "display_data",
       "text": [
        "<IPython.core.display.Javascript at 0x5da26400>"
       ]
      },
      {
       "javascript": [
        "$('div#742866b4-1583-410c-8155-43a68dabc7f8').text(' 71%');"
       ],
       "metadata": {},
       "output_type": "display_data",
       "text": [
        "<IPython.core.display.Javascript at 0x5da26438>"
       ]
      },
      {
       "javascript": [
        "\n",
        "        var $myPB = $(\"div#4283e7be-79e3-4400-b08f-07545025bd25\")\n",
        "        if ($myPB.hasClass('ui-progressbar')) {\n",
        "            $myPB.progressbar('value', 390);\n",
        "        } else {\n",
        "            $myPB.progressbar({value: 0, max: 542});\n",
        "        }\n",
        "        "
       ],
       "metadata": {},
       "output_type": "display_data",
       "text": [
        "<IPython.core.display.Javascript at 0x5da263c8>"
       ]
      },
      {
       "javascript": [
        "$('div#796d8c95-cd80-4d5b-9393-4e5856d98c98').text('ETA:  0:00:00');"
       ],
       "metadata": {},
       "output_type": "display_data",
       "text": [
        "<IPython.core.display.Javascript at 0x5da26470>"
       ]
      },
      {
       "javascript": [
        "$('div#9f790da1-0b7c-463b-ab6a-e28566eab3ba').text('396 of 542');"
       ],
       "metadata": {},
       "output_type": "display_data",
       "text": [
        "<IPython.core.display.Javascript at 0x5da262e8>"
       ]
      },
      {
       "javascript": [
        "$('div#742866b4-1583-410c-8155-43a68dabc7f8').text(' 73%');"
       ],
       "metadata": {},
       "output_type": "display_data",
       "text": [
        "<IPython.core.display.Javascript at 0x5da264e0>"
       ]
      },
      {
       "javascript": [
        "\n",
        "        var $myPB = $(\"div#4283e7be-79e3-4400-b08f-07545025bd25\")\n",
        "        if ($myPB.hasClass('ui-progressbar')) {\n",
        "            $myPB.progressbar('value', 396);\n",
        "        } else {\n",
        "            $myPB.progressbar({value: 0, max: 542});\n",
        "        }\n",
        "        "
       ],
       "metadata": {},
       "output_type": "display_data",
       "text": [
        "<IPython.core.display.Javascript at 0x5da26438>"
       ]
      },
      {
       "javascript": [
        "$('div#796d8c95-cd80-4d5b-9393-4e5856d98c98').text('ETA:  0:00:00');"
       ],
       "metadata": {},
       "output_type": "display_data",
       "text": [
        "<IPython.core.display.Javascript at 0x5da263c8>"
       ]
      },
      {
       "javascript": [
        "$('div#9f790da1-0b7c-463b-ab6a-e28566eab3ba').text('402 of 542');"
       ],
       "metadata": {},
       "output_type": "display_data",
       "text": [
        "<IPython.core.display.Javascript at 0x5da26390>"
       ]
      },
      {
       "javascript": [
        "$('div#742866b4-1583-410c-8155-43a68dabc7f8').text(' 74%');"
       ],
       "metadata": {},
       "output_type": "display_data",
       "text": [
        "<IPython.core.display.Javascript at 0x5da264a8>"
       ]
      },
      {
       "javascript": [
        "\n",
        "        var $myPB = $(\"div#4283e7be-79e3-4400-b08f-07545025bd25\")\n",
        "        if ($myPB.hasClass('ui-progressbar')) {\n",
        "            $myPB.progressbar('value', 402);\n",
        "        } else {\n",
        "            $myPB.progressbar({value: 0, max: 542});\n",
        "        }\n",
        "        "
       ],
       "metadata": {},
       "output_type": "display_data",
       "text": [
        "<IPython.core.display.Javascript at 0x5da264e0>"
       ]
      },
      {
       "javascript": [
        "$('div#796d8c95-cd80-4d5b-9393-4e5856d98c98').text('ETA:  0:00:00');"
       ],
       "metadata": {},
       "output_type": "display_data",
       "text": [
        "<IPython.core.display.Javascript at 0x5da26438>"
       ]
      },
      {
       "javascript": [
        "$('div#9f790da1-0b7c-463b-ab6a-e28566eab3ba').text('408 of 542');"
       ],
       "metadata": {},
       "output_type": "display_data",
       "text": [
        "<IPython.core.display.Javascript at 0x5da26320>"
       ]
      },
      {
       "javascript": [
        "$('div#742866b4-1583-410c-8155-43a68dabc7f8').text(' 75%');"
       ],
       "metadata": {},
       "output_type": "display_data",
       "text": [
        "<IPython.core.display.Javascript at 0x5da264e0>"
       ]
      },
      {
       "javascript": [
        "\n",
        "        var $myPB = $(\"div#4283e7be-79e3-4400-b08f-07545025bd25\")\n",
        "        if ($myPB.hasClass('ui-progressbar')) {\n",
        "            $myPB.progressbar('value', 408);\n",
        "        } else {\n",
        "            $myPB.progressbar({value: 0, max: 542});\n",
        "        }\n",
        "        "
       ],
       "metadata": {},
       "output_type": "display_data",
       "text": [
        "<IPython.core.display.Javascript at 0x5da26390>"
       ]
      },
      {
       "javascript": [
        "$('div#796d8c95-cd80-4d5b-9393-4e5856d98c98').text('ETA:  0:00:00');"
       ],
       "metadata": {},
       "output_type": "display_data",
       "text": [
        "<IPython.core.display.Javascript at 0x5da264a8>"
       ]
      },
      {
       "javascript": [
        "$('div#9f790da1-0b7c-463b-ab6a-e28566eab3ba').text('414 of 542');"
       ],
       "metadata": {},
       "output_type": "display_data",
       "text": [
        "<IPython.core.display.Javascript at 0x5da264a8>"
       ]
      },
      {
       "javascript": [
        "$('div#742866b4-1583-410c-8155-43a68dabc7f8').text(' 76%');"
       ],
       "metadata": {},
       "output_type": "display_data",
       "text": [
        "<IPython.core.display.Javascript at 0x5da26400>"
       ]
      },
      {
       "javascript": [
        "\n",
        "        var $myPB = $(\"div#4283e7be-79e3-4400-b08f-07545025bd25\")\n",
        "        if ($myPB.hasClass('ui-progressbar')) {\n",
        "            $myPB.progressbar('value', 414);\n",
        "        } else {\n",
        "            $myPB.progressbar({value: 0, max: 542});\n",
        "        }\n",
        "        "
       ],
       "metadata": {},
       "output_type": "display_data",
       "text": [
        "<IPython.core.display.Javascript at 0x5da26390>"
       ]
      },
      {
       "javascript": [
        "$('div#796d8c95-cd80-4d5b-9393-4e5856d98c98').text('ETA:  0:00:00');"
       ],
       "metadata": {},
       "output_type": "display_data",
       "text": [
        "<IPython.core.display.Javascript at 0x5da262e8>"
       ]
      },
      {
       "javascript": [
        "$('div#9f790da1-0b7c-463b-ab6a-e28566eab3ba').text('420 of 542');"
       ],
       "metadata": {},
       "output_type": "display_data",
       "text": [
        "<IPython.core.display.Javascript at 0x5da262e8>"
       ]
      },
      {
       "javascript": [
        "$('div#742866b4-1583-410c-8155-43a68dabc7f8').text(' 77%');"
       ],
       "metadata": {},
       "output_type": "display_data",
       "text": [
        "<IPython.core.display.Javascript at 0x5da26320>"
       ]
      },
      {
       "javascript": [
        "\n",
        "        var $myPB = $(\"div#4283e7be-79e3-4400-b08f-07545025bd25\")\n",
        "        if ($myPB.hasClass('ui-progressbar')) {\n",
        "            $myPB.progressbar('value', 420);\n",
        "        } else {\n",
        "            $myPB.progressbar({value: 0, max: 542});\n",
        "        }\n",
        "        "
       ],
       "metadata": {},
       "output_type": "display_data",
       "text": [
        "<IPython.core.display.Javascript at 0x5da26390>"
       ]
      },
      {
       "javascript": [
        "$('div#796d8c95-cd80-4d5b-9393-4e5856d98c98').text('ETA:  0:00:00');"
       ],
       "metadata": {},
       "output_type": "display_data",
       "text": [
        "<IPython.core.display.Javascript at 0x5da265c0>"
       ]
      },
      {
       "javascript": [
        "$('div#9f790da1-0b7c-463b-ab6a-e28566eab3ba').text('426 of 542');"
       ],
       "metadata": {},
       "output_type": "display_data",
       "text": [
        "<IPython.core.display.Javascript at 0x5da264a8>"
       ]
      },
      {
       "javascript": [
        "$('div#742866b4-1583-410c-8155-43a68dabc7f8').text(' 78%');"
       ],
       "metadata": {},
       "output_type": "display_data",
       "text": [
        "<IPython.core.display.Javascript at 0x5da26550>"
       ]
      },
      {
       "javascript": [
        "\n",
        "        var $myPB = $(\"div#4283e7be-79e3-4400-b08f-07545025bd25\")\n",
        "        if ($myPB.hasClass('ui-progressbar')) {\n",
        "            $myPB.progressbar('value', 426);\n",
        "        } else {\n",
        "            $myPB.progressbar({value: 0, max: 542});\n",
        "        }\n",
        "        "
       ],
       "metadata": {},
       "output_type": "display_data",
       "text": [
        "<IPython.core.display.Javascript at 0x5da26320>"
       ]
      },
      {
       "javascript": [
        "$('div#796d8c95-cd80-4d5b-9393-4e5856d98c98').text('ETA:  0:00:00');"
       ],
       "metadata": {},
       "output_type": "display_data",
       "text": [
        "<IPython.core.display.Javascript at 0x5da26390>"
       ]
      },
      {
       "javascript": [
        "$('div#9f790da1-0b7c-463b-ab6a-e28566eab3ba').text('432 of 542');"
       ],
       "metadata": {},
       "output_type": "display_data",
       "text": [
        "<IPython.core.display.Javascript at 0x5da26390>"
       ]
      },
      {
       "javascript": [
        "$('div#742866b4-1583-410c-8155-43a68dabc7f8').text(' 79%');"
       ],
       "metadata": {},
       "output_type": "display_data",
       "text": [
        "<IPython.core.display.Javascript at 0x5da264e0>"
       ]
      },
      {
       "javascript": [
        "\n",
        "        var $myPB = $(\"div#4283e7be-79e3-4400-b08f-07545025bd25\")\n",
        "        if ($myPB.hasClass('ui-progressbar')) {\n",
        "            $myPB.progressbar('value', 432);\n",
        "        } else {\n",
        "            $myPB.progressbar({value: 0, max: 542});\n",
        "        }\n",
        "        "
       ],
       "metadata": {},
       "output_type": "display_data",
       "text": [
        "<IPython.core.display.Javascript at 0x5da26320>"
       ]
      },
      {
       "javascript": [
        "$('div#796d8c95-cd80-4d5b-9393-4e5856d98c98').text('ETA:  0:00:00');"
       ],
       "metadata": {},
       "output_type": "display_data",
       "text": [
        "<IPython.core.display.Javascript at 0x5da26588>"
       ]
      },
      {
       "javascript": [
        "$('div#9f790da1-0b7c-463b-ab6a-e28566eab3ba').text('438 of 542');"
       ],
       "metadata": {},
       "output_type": "display_data",
       "text": [
        "<IPython.core.display.Javascript at 0x5da26588>"
       ]
      },
      {
       "javascript": [
        "$('div#742866b4-1583-410c-8155-43a68dabc7f8').text(' 80%');"
       ],
       "metadata": {},
       "output_type": "display_data",
       "text": [
        "<IPython.core.display.Javascript at 0x5da264a8>"
       ]
      },
      {
       "javascript": [
        "\n",
        "        var $myPB = $(\"div#4283e7be-79e3-4400-b08f-07545025bd25\")\n",
        "        if ($myPB.hasClass('ui-progressbar')) {\n",
        "            $myPB.progressbar('value', 438);\n",
        "        } else {\n",
        "            $myPB.progressbar({value: 0, max: 542});\n",
        "        }\n",
        "        "
       ],
       "metadata": {},
       "output_type": "display_data",
       "text": [
        "<IPython.core.display.Javascript at 0x5da26320>"
       ]
      },
      {
       "javascript": [
        "$('div#796d8c95-cd80-4d5b-9393-4e5856d98c98').text('ETA:  0:00:00');"
       ],
       "metadata": {},
       "output_type": "display_data",
       "text": [
        "<IPython.core.display.Javascript at 0x5da265f8>"
       ]
      },
      {
       "javascript": [
        "$('div#9f790da1-0b7c-463b-ab6a-e28566eab3ba').text('444 of 542');"
       ],
       "metadata": {},
       "output_type": "display_data",
       "text": [
        "<IPython.core.display.Javascript at 0x5da265f8>"
       ]
      },
      {
       "javascript": [
        "$('div#742866b4-1583-410c-8155-43a68dabc7f8').text(' 81%');"
       ],
       "metadata": {},
       "output_type": "display_data",
       "text": [
        "<IPython.core.display.Javascript at 0x5da26390>"
       ]
      },
      {
       "javascript": [
        "\n",
        "        var $myPB = $(\"div#4283e7be-79e3-4400-b08f-07545025bd25\")\n",
        "        if ($myPB.hasClass('ui-progressbar')) {\n",
        "            $myPB.progressbar('value', 444);\n",
        "        } else {\n",
        "            $myPB.progressbar({value: 0, max: 542});\n",
        "        }\n",
        "        "
       ],
       "metadata": {},
       "output_type": "display_data",
       "text": [
        "<IPython.core.display.Javascript at 0x5da26320>"
       ]
      },
      {
       "javascript": [
        "$('div#796d8c95-cd80-4d5b-9393-4e5856d98c98').text('ETA:  0:00:00');"
       ],
       "metadata": {},
       "output_type": "display_data",
       "text": [
        "<IPython.core.display.Javascript at 0x5da262e8>"
       ]
      },
      {
       "javascript": [
        "$('div#9f790da1-0b7c-463b-ab6a-e28566eab3ba').text('450 of 542');"
       ],
       "metadata": {},
       "output_type": "display_data",
       "text": [
        "<IPython.core.display.Javascript at 0x5da265f8>"
       ]
      },
      {
       "javascript": [
        "$('div#742866b4-1583-410c-8155-43a68dabc7f8').text(' 83%');"
       ],
       "metadata": {},
       "output_type": "display_data",
       "text": [
        "<IPython.core.display.Javascript at 0x5da264e0>"
       ]
      },
      {
       "javascript": [
        "\n",
        "        var $myPB = $(\"div#4283e7be-79e3-4400-b08f-07545025bd25\")\n",
        "        if ($myPB.hasClass('ui-progressbar')) {\n",
        "            $myPB.progressbar('value', 450);\n",
        "        } else {\n",
        "            $myPB.progressbar({value: 0, max: 542});\n",
        "        }\n",
        "        "
       ],
       "metadata": {},
       "output_type": "display_data",
       "text": [
        "<IPython.core.display.Javascript at 0x5da264a8>"
       ]
      },
      {
       "javascript": [
        "$('div#796d8c95-cd80-4d5b-9393-4e5856d98c98').text('ETA:  0:00:00');"
       ],
       "metadata": {},
       "output_type": "display_data",
       "text": [
        "<IPython.core.display.Javascript at 0x5da26400>"
       ]
      },
      {
       "javascript": [
        "$('div#9f790da1-0b7c-463b-ab6a-e28566eab3ba').text('456 of 542');"
       ],
       "metadata": {},
       "output_type": "display_data",
       "text": [
        "<IPython.core.display.Javascript at 0x5da26668>"
       ]
      },
      {
       "javascript": [
        "$('div#742866b4-1583-410c-8155-43a68dabc7f8').text(' 84%');"
       ],
       "metadata": {},
       "output_type": "display_data",
       "text": [
        "<IPython.core.display.Javascript at 0x5da266a0>"
       ]
      },
      {
       "javascript": [
        "\n",
        "        var $myPB = $(\"div#4283e7be-79e3-4400-b08f-07545025bd25\")\n",
        "        if ($myPB.hasClass('ui-progressbar')) {\n",
        "            $myPB.progressbar('value', 456);\n",
        "        } else {\n",
        "            $myPB.progressbar({value: 0, max: 542});\n",
        "        }\n",
        "        "
       ],
       "metadata": {},
       "output_type": "display_data",
       "text": [
        "<IPython.core.display.Javascript at 0x5da264e0>"
       ]
      },
      {
       "javascript": [
        "$('div#796d8c95-cd80-4d5b-9393-4e5856d98c98').text('ETA:  0:00:00');"
       ],
       "metadata": {},
       "output_type": "display_data",
       "text": [
        "<IPython.core.display.Javascript at 0x5da264a8>"
       ]
      },
      {
       "javascript": [
        "$('div#9f790da1-0b7c-463b-ab6a-e28566eab3ba').text('462 of 542');"
       ],
       "metadata": {},
       "output_type": "display_data",
       "text": [
        "<IPython.core.display.Javascript at 0x5da264a8>"
       ]
      },
      {
       "javascript": [
        "$('div#742866b4-1583-410c-8155-43a68dabc7f8').text(' 85%');"
       ],
       "metadata": {},
       "output_type": "display_data",
       "text": [
        "<IPython.core.display.Javascript at 0x5da26710>"
       ]
      },
      {
       "javascript": [
        "\n",
        "        var $myPB = $(\"div#4283e7be-79e3-4400-b08f-07545025bd25\")\n",
        "        if ($myPB.hasClass('ui-progressbar')) {\n",
        "            $myPB.progressbar('value', 462);\n",
        "        } else {\n",
        "            $myPB.progressbar({value: 0, max: 542});\n",
        "        }\n",
        "        "
       ],
       "metadata": {},
       "output_type": "display_data",
       "text": [
        "<IPython.core.display.Javascript at 0x5da264e0>"
       ]
      },
      {
       "javascript": [
        "$('div#796d8c95-cd80-4d5b-9393-4e5856d98c98').text('ETA:  0:00:00');"
       ],
       "metadata": {},
       "output_type": "display_data",
       "text": [
        "<IPython.core.display.Javascript at 0x5da266d8>"
       ]
      },
      {
       "javascript": [
        "$('div#9f790da1-0b7c-463b-ab6a-e28566eab3ba').text('468 of 542');"
       ],
       "metadata": {},
       "output_type": "display_data",
       "text": [
        "<IPython.core.display.Javascript at 0x5da266d8>"
       ]
      },
      {
       "javascript": [
        "$('div#742866b4-1583-410c-8155-43a68dabc7f8').text(' 86%');"
       ],
       "metadata": {},
       "output_type": "display_data",
       "text": [
        "<IPython.core.display.Javascript at 0x5da26668>"
       ]
      },
      {
       "javascript": [
        "\n",
        "        var $myPB = $(\"div#4283e7be-79e3-4400-b08f-07545025bd25\")\n",
        "        if ($myPB.hasClass('ui-progressbar')) {\n",
        "            $myPB.progressbar('value', 468);\n",
        "        } else {\n",
        "            $myPB.progressbar({value: 0, max: 542});\n",
        "        }\n",
        "        "
       ],
       "metadata": {},
       "output_type": "display_data",
       "text": [
        "<IPython.core.display.Javascript at 0x5da264e0>"
       ]
      },
      {
       "javascript": [
        "$('div#796d8c95-cd80-4d5b-9393-4e5856d98c98').text('ETA:  0:00:00');"
       ],
       "metadata": {},
       "output_type": "display_data",
       "text": [
        "<IPython.core.display.Javascript at 0x5da26748>"
       ]
      },
      {
       "javascript": [
        "$('div#9f790da1-0b7c-463b-ab6a-e28566eab3ba').text('474 of 542');"
       ],
       "metadata": {},
       "output_type": "display_data",
       "text": [
        "<IPython.core.display.Javascript at 0x5da264e0>"
       ]
      },
      {
       "javascript": [
        "$('div#742866b4-1583-410c-8155-43a68dabc7f8').text(' 87%');"
       ],
       "metadata": {},
       "output_type": "display_data",
       "text": [
        "<IPython.core.display.Javascript at 0x5da26668>"
       ]
      },
      {
       "javascript": [
        "\n",
        "        var $myPB = $(\"div#4283e7be-79e3-4400-b08f-07545025bd25\")\n",
        "        if ($myPB.hasClass('ui-progressbar')) {\n",
        "            $myPB.progressbar('value', 474);\n",
        "        } else {\n",
        "            $myPB.progressbar({value: 0, max: 542});\n",
        "        }\n",
        "        "
       ],
       "metadata": {},
       "output_type": "display_data",
       "text": [
        "<IPython.core.display.Javascript at 0x5da266a0>"
       ]
      },
      {
       "javascript": [
        "$('div#796d8c95-cd80-4d5b-9393-4e5856d98c98').text('ETA:  0:00:00');"
       ],
       "metadata": {},
       "output_type": "display_data",
       "text": [
        "<IPython.core.display.Javascript at 0x5da266d8>"
       ]
      },
      {
       "javascript": [
        "$('div#9f790da1-0b7c-463b-ab6a-e28566eab3ba').text('480 of 542');"
       ],
       "metadata": {},
       "output_type": "display_data",
       "text": [
        "<IPython.core.display.Javascript at 0x5da26710>"
       ]
      },
      {
       "javascript": [
        "$('div#742866b4-1583-410c-8155-43a68dabc7f8').text(' 88%');"
       ],
       "metadata": {},
       "output_type": "display_data",
       "text": [
        "<IPython.core.display.Javascript at 0x5da26780>"
       ]
      },
      {
       "javascript": [
        "\n",
        "        var $myPB = $(\"div#4283e7be-79e3-4400-b08f-07545025bd25\")\n",
        "        if ($myPB.hasClass('ui-progressbar')) {\n",
        "            $myPB.progressbar('value', 480);\n",
        "        } else {\n",
        "            $myPB.progressbar({value: 0, max: 542});\n",
        "        }\n",
        "        "
       ],
       "metadata": {},
       "output_type": "display_data",
       "text": [
        "<IPython.core.display.Javascript at 0x5da26668>"
       ]
      },
      {
       "javascript": [
        "$('div#796d8c95-cd80-4d5b-9393-4e5856d98c98').text('ETA:  0:00:00');"
       ],
       "metadata": {},
       "output_type": "display_data",
       "text": [
        "<IPython.core.display.Javascript at 0x5da266a0>"
       ]
      },
      {
       "javascript": [
        "$('div#9f790da1-0b7c-463b-ab6a-e28566eab3ba').text('486 of 542');"
       ],
       "metadata": {},
       "output_type": "display_data",
       "text": [
        "<IPython.core.display.Javascript at 0x5da267f0>"
       ]
      },
      {
       "javascript": [
        "$('div#742866b4-1583-410c-8155-43a68dabc7f8').text(' 89%');"
       ],
       "metadata": {},
       "output_type": "display_data",
       "text": [
        "<IPython.core.display.Javascript at 0x5da267b8>"
       ]
      },
      {
       "javascript": [
        "\n",
        "        var $myPB = $(\"div#4283e7be-79e3-4400-b08f-07545025bd25\")\n",
        "        if ($myPB.hasClass('ui-progressbar')) {\n",
        "            $myPB.progressbar('value', 486);\n",
        "        } else {\n",
        "            $myPB.progressbar({value: 0, max: 542});\n",
        "        }\n",
        "        "
       ],
       "metadata": {},
       "output_type": "display_data",
       "text": [
        "<IPython.core.display.Javascript at 0x5da26780>"
       ]
      },
      {
       "javascript": [
        "$('div#796d8c95-cd80-4d5b-9393-4e5856d98c98').text('ETA:  0:00:00');"
       ],
       "metadata": {},
       "output_type": "display_data",
       "text": [
        "<IPython.core.display.Javascript at 0x5da26668>"
       ]
      },
      {
       "javascript": [
        "$('div#9f790da1-0b7c-463b-ab6a-e28566eab3ba').text('492 of 542');"
       ],
       "metadata": {},
       "output_type": "display_data",
       "text": [
        "<IPython.core.display.Javascript at 0x5da26668>"
       ]
      },
      {
       "javascript": [
        "$('div#742866b4-1583-410c-8155-43a68dabc7f8').text(' 90%');"
       ],
       "metadata": {},
       "output_type": "display_data",
       "text": [
        "<IPython.core.display.Javascript at 0x5da26828>"
       ]
      },
      {
       "javascript": [
        "\n",
        "        var $myPB = $(\"div#4283e7be-79e3-4400-b08f-07545025bd25\")\n",
        "        if ($myPB.hasClass('ui-progressbar')) {\n",
        "            $myPB.progressbar('value', 492);\n",
        "        } else {\n",
        "            $myPB.progressbar({value: 0, max: 542});\n",
        "        }\n",
        "        "
       ],
       "metadata": {},
       "output_type": "display_data",
       "text": [
        "<IPython.core.display.Javascript at 0x5da26780>"
       ]
      },
      {
       "javascript": [
        "$('div#796d8c95-cd80-4d5b-9393-4e5856d98c98').text('ETA:  0:00:00');"
       ],
       "metadata": {},
       "output_type": "display_data",
       "text": [
        "<IPython.core.display.Javascript at 0x5da26630>"
       ]
      },
      {
       "javascript": [
        "$('div#9f790da1-0b7c-463b-ab6a-e28566eab3ba').text('498 of 542');"
       ],
       "metadata": {},
       "output_type": "display_data",
       "text": [
        "<IPython.core.display.Javascript at 0x5da26630>"
       ]
      },
      {
       "javascript": [
        "$('div#742866b4-1583-410c-8155-43a68dabc7f8').text(' 91%');"
       ],
       "metadata": {},
       "output_type": "display_data",
       "text": [
        "<IPython.core.display.Javascript at 0x5da267f0>"
       ]
      },
      {
       "javascript": [
        "\n",
        "        var $myPB = $(\"div#4283e7be-79e3-4400-b08f-07545025bd25\")\n",
        "        if ($myPB.hasClass('ui-progressbar')) {\n",
        "            $myPB.progressbar('value', 498);\n",
        "        } else {\n",
        "            $myPB.progressbar({value: 0, max: 542});\n",
        "        }\n",
        "        "
       ],
       "metadata": {},
       "output_type": "display_data",
       "text": [
        "<IPython.core.display.Javascript at 0x5da26780>"
       ]
      },
      {
       "javascript": [
        "$('div#796d8c95-cd80-4d5b-9393-4e5856d98c98').text('ETA:  0:00:00');"
       ],
       "metadata": {},
       "output_type": "display_data",
       "text": [
        "<IPython.core.display.Javascript at 0x5da26860>"
       ]
      },
      {
       "javascript": [
        "$('div#9f790da1-0b7c-463b-ab6a-e28566eab3ba').text('504 of 542');"
       ],
       "metadata": {},
       "output_type": "display_data",
       "text": [
        "<IPython.core.display.Javascript at 0x5da26668>"
       ]
      },
      {
       "javascript": [
        "$('div#742866b4-1583-410c-8155-43a68dabc7f8').text(' 92%');"
       ],
       "metadata": {},
       "output_type": "display_data",
       "text": [
        "<IPython.core.display.Javascript at 0x5da26710>"
       ]
      },
      {
       "javascript": [
        "\n",
        "        var $myPB = $(\"div#4283e7be-79e3-4400-b08f-07545025bd25\")\n",
        "        if ($myPB.hasClass('ui-progressbar')) {\n",
        "            $myPB.progressbar('value', 504);\n",
        "        } else {\n",
        "            $myPB.progressbar({value: 0, max: 542});\n",
        "        }\n",
        "        "
       ],
       "metadata": {},
       "output_type": "display_data",
       "text": [
        "<IPython.core.display.Javascript at 0x5da267f0>"
       ]
      },
      {
       "javascript": [
        "$('div#796d8c95-cd80-4d5b-9393-4e5856d98c98').text('ETA:  0:00:00');"
       ],
       "metadata": {},
       "output_type": "display_data",
       "text": [
        "<IPython.core.display.Javascript at 0x5da26780>"
       ]
      },
      {
       "javascript": [
        "$('div#9f790da1-0b7c-463b-ab6a-e28566eab3ba').text('510 of 542');"
       ],
       "metadata": {},
       "output_type": "display_data",
       "text": [
        "<IPython.core.display.Javascript at 0x5da264e0>"
       ]
      },
      {
       "javascript": [
        "$('div#742866b4-1583-410c-8155-43a68dabc7f8').text(' 94%');"
       ],
       "metadata": {},
       "output_type": "display_data",
       "text": [
        "<IPython.core.display.Javascript at 0x5da267f0>"
       ]
      },
      {
       "javascript": [
        "\n",
        "        var $myPB = $(\"div#4283e7be-79e3-4400-b08f-07545025bd25\")\n",
        "        if ($myPB.hasClass('ui-progressbar')) {\n",
        "            $myPB.progressbar('value', 510);\n",
        "        } else {\n",
        "            $myPB.progressbar({value: 0, max: 542});\n",
        "        }\n",
        "        "
       ],
       "metadata": {},
       "output_type": "display_data",
       "text": [
        "<IPython.core.display.Javascript at 0x5da26668>"
       ]
      },
      {
       "javascript": [
        "$('div#796d8c95-cd80-4d5b-9393-4e5856d98c98').text('ETA:  0:00:00');"
       ],
       "metadata": {},
       "output_type": "display_data",
       "text": [
        "<IPython.core.display.Javascript at 0x5da26710>"
       ]
      },
      {
       "javascript": [
        "$('div#9f790da1-0b7c-463b-ab6a-e28566eab3ba').text('516 of 542');"
       ],
       "metadata": {},
       "output_type": "display_data",
       "text": [
        "<IPython.core.display.Javascript at 0x5da264e0>"
       ]
      },
      {
       "javascript": [
        "$('div#742866b4-1583-410c-8155-43a68dabc7f8').text(' 95%');"
       ],
       "metadata": {},
       "output_type": "display_data",
       "text": [
        "<IPython.core.display.Javascript at 0x5da26908>"
       ]
      },
      {
       "javascript": [
        "\n",
        "        var $myPB = $(\"div#4283e7be-79e3-4400-b08f-07545025bd25\")\n",
        "        if ($myPB.hasClass('ui-progressbar')) {\n",
        "            $myPB.progressbar('value', 516);\n",
        "        } else {\n",
        "            $myPB.progressbar({value: 0, max: 542});\n",
        "        }\n",
        "        "
       ],
       "metadata": {},
       "output_type": "display_data",
       "text": [
        "<IPython.core.display.Javascript at 0x5da26898>"
       ]
      },
      {
       "javascript": [
        "$('div#796d8c95-cd80-4d5b-9393-4e5856d98c98').text('ETA:  0:00:00');"
       ],
       "metadata": {},
       "output_type": "display_data",
       "text": [
        "<IPython.core.display.Javascript at 0x5da268d0>"
       ]
      },
      {
       "javascript": [
        "$('div#9f790da1-0b7c-463b-ab6a-e28566eab3ba').text('522 of 542');"
       ],
       "metadata": {},
       "output_type": "display_data",
       "text": [
        "<IPython.core.display.Javascript at 0x5da26908>"
       ]
      },
      {
       "javascript": [
        "$('div#742866b4-1583-410c-8155-43a68dabc7f8').text(' 96%');"
       ],
       "metadata": {},
       "output_type": "display_data",
       "text": [
        "<IPython.core.display.Javascript at 0x5da264e0>"
       ]
      },
      {
       "javascript": [
        "\n",
        "        var $myPB = $(\"div#4283e7be-79e3-4400-b08f-07545025bd25\")\n",
        "        if ($myPB.hasClass('ui-progressbar')) {\n",
        "            $myPB.progressbar('value', 522);\n",
        "        } else {\n",
        "            $myPB.progressbar({value: 0, max: 542});\n",
        "        }\n",
        "        "
       ],
       "metadata": {},
       "output_type": "display_data",
       "text": [
        "<IPython.core.display.Javascript at 0x5da269e8>"
       ]
      },
      {
       "javascript": [
        "$('div#796d8c95-cd80-4d5b-9393-4e5856d98c98').text('ETA:  0:00:00');"
       ],
       "metadata": {},
       "output_type": "display_data",
       "text": [
        "<IPython.core.display.Javascript at 0x5da26a20>"
       ]
      },
      {
       "javascript": [
        "$('div#9f790da1-0b7c-463b-ab6a-e28566eab3ba').text('528 of 542');"
       ],
       "metadata": {},
       "output_type": "display_data",
       "text": [
        "<IPython.core.display.Javascript at 0x5da26a90>"
       ]
      },
      {
       "javascript": [
        "$('div#742866b4-1583-410c-8155-43a68dabc7f8').text(' 97%');"
       ],
       "metadata": {},
       "output_type": "display_data",
       "text": [
        "<IPython.core.display.Javascript at 0x5da269e8>"
       ]
      },
      {
       "javascript": [
        "\n",
        "        var $myPB = $(\"div#4283e7be-79e3-4400-b08f-07545025bd25\")\n",
        "        if ($myPB.hasClass('ui-progressbar')) {\n",
        "            $myPB.progressbar('value', 528);\n",
        "        } else {\n",
        "            $myPB.progressbar({value: 0, max: 542});\n",
        "        }\n",
        "        "
       ],
       "metadata": {},
       "output_type": "display_data",
       "text": [
        "<IPython.core.display.Javascript at 0x5da26908>"
       ]
      },
      {
       "javascript": [
        "$('div#796d8c95-cd80-4d5b-9393-4e5856d98c98').text('ETA:  0:00:00');"
       ],
       "metadata": {},
       "output_type": "display_data",
       "text": [
        "<IPython.core.display.Javascript at 0x5da264e0>"
       ]
      },
      {
       "javascript": [
        "$('div#9f790da1-0b7c-463b-ab6a-e28566eab3ba').text('534 of 542');"
       ],
       "metadata": {},
       "output_type": "display_data",
       "text": [
        "<IPython.core.display.Javascript at 0x5da264e0>"
       ]
      },
      {
       "javascript": [
        "$('div#742866b4-1583-410c-8155-43a68dabc7f8').text(' 98%');"
       ],
       "metadata": {},
       "output_type": "display_data",
       "text": [
        "<IPython.core.display.Javascript at 0x5da26ac8>"
       ]
      },
      {
       "javascript": [
        "\n",
        "        var $myPB = $(\"div#4283e7be-79e3-4400-b08f-07545025bd25\")\n",
        "        if ($myPB.hasClass('ui-progressbar')) {\n",
        "            $myPB.progressbar('value', 534);\n",
        "        } else {\n",
        "            $myPB.progressbar({value: 0, max: 542});\n",
        "        }\n",
        "        "
       ],
       "metadata": {},
       "output_type": "display_data",
       "text": [
        "<IPython.core.display.Javascript at 0x5da26908>"
       ]
      },
      {
       "javascript": [
        "$('div#796d8c95-cd80-4d5b-9393-4e5856d98c98').text('ETA:  0:00:00');"
       ],
       "metadata": {},
       "output_type": "display_data",
       "text": [
        "<IPython.core.display.Javascript at 0x5da26940>"
       ]
      },
      {
       "javascript": [
        "$('div#9f790da1-0b7c-463b-ab6a-e28566eab3ba').text('540 of 542');"
       ],
       "metadata": {},
       "output_type": "display_data",
       "text": [
        "<IPython.core.display.Javascript at 0x5da26b70>"
       ]
      },
      {
       "javascript": [
        "$('div#742866b4-1583-410c-8155-43a68dabc7f8').text(' 99%');"
       ],
       "metadata": {},
       "output_type": "display_data",
       "text": [
        "<IPython.core.display.Javascript at 0x5da26908>"
       ]
      },
      {
       "javascript": [
        "\n",
        "        var $myPB = $(\"div#4283e7be-79e3-4400-b08f-07545025bd25\")\n",
        "        if ($myPB.hasClass('ui-progressbar')) {\n",
        "            $myPB.progressbar('value', 540);\n",
        "        } else {\n",
        "            $myPB.progressbar({value: 0, max: 542});\n",
        "        }\n",
        "        "
       ],
       "metadata": {},
       "output_type": "display_data",
       "text": [
        "<IPython.core.display.Javascript at 0x5da264e0>"
       ]
      },
      {
       "javascript": [
        "$('div#796d8c95-cd80-4d5b-9393-4e5856d98c98').text('ETA:  0:00:00');"
       ],
       "metadata": {},
       "output_type": "display_data",
       "text": [
        "<IPython.core.display.Javascript at 0x5da26ac8>"
       ]
      },
      {
       "javascript": [
        "$('div#9f790da1-0b7c-463b-ab6a-e28566eab3ba').text('542 of 542');"
       ],
       "metadata": {},
       "output_type": "display_data",
       "text": [
        "<IPython.core.display.Javascript at 0x9a069320>"
       ]
      },
      {
       "javascript": [
        "$('div#742866b4-1583-410c-8155-43a68dabc7f8').text('100%');"
       ],
       "metadata": {},
       "output_type": "display_data",
       "text": [
        "<IPython.core.display.Javascript at 0x5da26ac8>"
       ]
      },
      {
       "javascript": [
        "\n",
        "        var $myPB = $(\"div#4283e7be-79e3-4400-b08f-07545025bd25\")\n",
        "        if ($myPB.hasClass('ui-progressbar')) {\n",
        "            $myPB.progressbar('value', 542);\n",
        "        } else {\n",
        "            $myPB.progressbar({value: 0, max: 542});\n",
        "        }\n",
        "        "
       ],
       "metadata": {},
       "output_type": "display_data",
       "text": [
        "<IPython.core.display.Javascript at 0x5da269e8>"
       ]
      },
      {
       "javascript": [
        "$('div#796d8c95-cd80-4d5b-9393-4e5856d98c98').text('Time: 0:00:00');"
       ],
       "metadata": {},
       "output_type": "display_data",
       "text": [
        "<IPython.core.display.Javascript at 0x5da26b38>"
       ]
      },
      {
       "javascript": [
        "var element = document.getElementById('37e57d9c-dac7-49f2-8211-3988354fb9d8');\n",
        "                    var parent = element.parentNode\n",
        "                    parent.removeChild(element);\n",
        "                    parent.parentElement.remove();"
       ],
       "metadata": {},
       "output_type": "display_data",
       "text": [
        "<IPython.core.display.Javascript at 0x9a069400>"
       ]
      },
      {
       "javascript": [
        "this.cleanProgressBar(['37e57d9c-dac7-49f2-8211-3988354fb9d8', '9f790da1-0b7c-463b-ab6a-e28566eab3ba', '742866b4-1583-410c-8155-43a68dabc7f8', '4283e7be-79e3-4400-b08f-07545025bd25', '796d8c95-cd80-4d5b-9393-4e5856d98c98'])"
       ],
       "metadata": {},
       "output_type": "display_data",
       "text": [
        "<IPython.core.display.Javascript at 0x9a069320>"
       ]
      }
     ],
     "prompt_number": 70
    },
    {
     "cell_type": "code",
     "collapsed": false,
     "input": [
      "trigrams = mun.get_frequent_ngrams(sentences=sentences, ngram_length=3, remove_stopwords=True)\n",
      "trigrams.items()[:10]"
     ],
     "language": "python",
     "metadata": {},
     "outputs": [
      {
       "javascript": [
        "//6e65faf2-5d97-4237-91c7-9a8ccb55b40e\n",
        "$(\"head\").append(\"<style> td.pb_widget {     width: auto; } td.pb_widget_fill {     width: 100%; } table.pb {     font-family: monospace;     border: 0;     margin: 0; } table.pb tr { border: 0; } table.pb td {     white-space: nowrap;     border: 0; } div.pb {     border: 1px solid #ddd;     border-radius: 3px; } div.pb_bar {     height: 1.5em; } </style>\")"
       ],
       "metadata": {},
       "output_type": "display_data",
       "text": [
        "<IPython.core.display.Javascript at 0x99ef6cf8>"
       ]
      },
      {
       "javascript": [
        "\n",
        "                  // 6e65faf2-5d97-4237-91c7-9a8ccb55b40e -- used to remove this code blob in the end\n",
        "                  IPython.OutputArea.prototype.cleanProgressBar = function(uuids) {\n",
        "                      // filter by uuid-strings \n",
        "                      var myfilter = function(output) { \n",
        "                          var nuids = uuids.length;\n",
        "                          for (var i=0; i<nuids; i++) {\n",
        "                              if (output.hasOwnProperty('html')) {\n",
        "                                  if (output.html.indexOf(uuids[i]) != -1) {\n",
        "                                      return false;\n",
        "                                  }\n",
        "                              }\n",
        "                              if (output.hasOwnProperty('javascript')) {\n",
        "                                  if (output.javascript.indexOf(uuids[i]) != -1) {\n",
        "                                      return false;\n",
        "                                  }\n",
        "                              }\n",
        "                          }\n",
        "                          // keep all others\n",
        "                          return true;\n",
        "                      };\n",
        "\n",
        "                      // Filter the ouputs\n",
        "                      this.outputs = this.outputs.filter(myfilter);\n",
        "                };\n",
        "                "
       ],
       "metadata": {},
       "output_type": "display_data",
       "text": [
        "<IPython.core.display.Javascript at 0x99ef6eb8>"
       ]
      },
      {
       "html": [
        "<div class=\"pb\" id=\"6e65faf2-5d97-4237-91c7-9a8ccb55b40e\"><table class=\"pb ui-widget\"><tr>\n",
        "<td class=\"pb_widget\">Tokenizing sentences</td>\n",
        "<td class=\"pb_widget\"><div id=\"a359e94f-26aa-4adf-992c-6622630c312c\">0 of 1498</div></td>\n",
        "<td class=\"pb_widget\"><div id=\"c95c068a-ed1a-44b2-aecc-be4e8a26d1ff\">  0%</div></td>\n",
        "<td class=\"pb_widget_fill\">\n",
        "        <div class=\"pb_bar\" id=\"2bf93351-5e27-414e-8506-1aff7d48d552\"></div>\n",
        "        <script type=\"text/javascript\">\n",
        "            $(\"div#2bf93351-5e27-414e-8506-1aff7d48d552\").progressbar({value: 0, max: 1498});\n",
        "        </script>\n",
        "        </td>\n",
        "<td class=\"pb_widget\"><div id=\"36abd297-8fd4-4568-988c-774e0fe24bde\">ETA:  --:--:--</div></td>\n",
        "</tr></table><div>"
       ],
       "metadata": {},
       "output_type": "display_data",
       "text": [
        "<IPython.core.display.HTML at 0x99ef6f60>"
       ]
      },
      {
       "javascript": [
        "$('div#a359e94f-26aa-4adf-992c-6622630c312c').text('15 of 1498');"
       ],
       "metadata": {},
       "output_type": "display_data",
       "text": [
        "<IPython.core.display.Javascript at 0x99f76048>"
       ]
      },
      {
       "javascript": [
        "$('div#c95c068a-ed1a-44b2-aecc-be4e8a26d1ff').text('  1%');"
       ],
       "metadata": {},
       "output_type": "display_data",
       "text": [
        "<IPython.core.display.Javascript at 0x99ef6f60>"
       ]
      },
      {
       "javascript": [
        "\n",
        "        var $myPB = $(\"div#2bf93351-5e27-414e-8506-1aff7d48d552\")\n",
        "        if ($myPB.hasClass('ui-progressbar')) {\n",
        "            $myPB.progressbar('value', 15);\n",
        "        } else {\n",
        "            $myPB.progressbar({value: 0, max: 1498});\n",
        "        }\n",
        "        "
       ],
       "metadata": {},
       "output_type": "display_data",
       "text": [
        "<IPython.core.display.Javascript at 0x99ef6eb8>"
       ]
      },
      {
       "javascript": [
        "$('div#36abd297-8fd4-4568-988c-774e0fe24bde').text('ETA:  0:00:00');"
       ],
       "metadata": {},
       "output_type": "display_data",
       "text": [
        "<IPython.core.display.Javascript at 0x99ef6cf8>"
       ]
      },
      {
       "javascript": [
        "$('div#a359e94f-26aa-4adf-992c-6622630c312c').text('30 of 1498');"
       ],
       "metadata": {},
       "output_type": "display_data",
       "text": [
        "<IPython.core.display.Javascript at 0x99f76320>"
       ]
      },
      {
       "javascript": [
        "$('div#c95c068a-ed1a-44b2-aecc-be4e8a26d1ff').text('  2%');"
       ],
       "metadata": {},
       "output_type": "display_data",
       "text": [
        "<IPython.core.display.Javascript at 0x99f76198>"
       ]
      },
      {
       "javascript": [
        "\n",
        "        var $myPB = $(\"div#2bf93351-5e27-414e-8506-1aff7d48d552\")\n",
        "        if ($myPB.hasClass('ui-progressbar')) {\n",
        "            $myPB.progressbar('value', 30);\n",
        "        } else {\n",
        "            $myPB.progressbar({value: 0, max: 1498});\n",
        "        }\n",
        "        "
       ],
       "metadata": {},
       "output_type": "display_data",
       "text": [
        "<IPython.core.display.Javascript at 0x99ef6f60>"
       ]
      },
      {
       "javascript": [
        "$('div#36abd297-8fd4-4568-988c-774e0fe24bde').text('ETA:  0:00:00');"
       ],
       "metadata": {},
       "output_type": "display_data",
       "text": [
        "<IPython.core.display.Javascript at 0x99ef6eb8>"
       ]
      },
      {
       "javascript": [
        "$('div#a359e94f-26aa-4adf-992c-6622630c312c').text('45 of 1498');"
       ],
       "metadata": {},
       "output_type": "display_data",
       "text": [
        "<IPython.core.display.Javascript at 0x99f76390>"
       ]
      },
      {
       "javascript": [
        "$('div#c95c068a-ed1a-44b2-aecc-be4e8a26d1ff').text('  3%');"
       ],
       "metadata": {},
       "output_type": "display_data",
       "text": [
        "<IPython.core.display.Javascript at 0x99f763c8>"
       ]
      },
      {
       "javascript": [
        "\n",
        "        var $myPB = $(\"div#2bf93351-5e27-414e-8506-1aff7d48d552\")\n",
        "        if ($myPB.hasClass('ui-progressbar')) {\n",
        "            $myPB.progressbar('value', 45);\n",
        "        } else {\n",
        "            $myPB.progressbar({value: 0, max: 1498});\n",
        "        }\n",
        "        "
       ],
       "metadata": {},
       "output_type": "display_data",
       "text": [
        "<IPython.core.display.Javascript at 0x99ef6f60>"
       ]
      },
      {
       "javascript": [
        "$('div#36abd297-8fd4-4568-988c-774e0fe24bde').text('ETA:  0:00:00');"
       ],
       "metadata": {},
       "output_type": "display_data",
       "text": [
        "<IPython.core.display.Javascript at 0x99ef6eb8>"
       ]
      },
      {
       "javascript": [
        "$('div#a359e94f-26aa-4adf-992c-6622630c312c').text('60 of 1498');"
       ],
       "metadata": {},
       "output_type": "display_data",
       "text": [
        "<IPython.core.display.Javascript at 0x99f76358>"
       ]
      },
      {
       "javascript": [
        "$('div#c95c068a-ed1a-44b2-aecc-be4e8a26d1ff').text('  4%');"
       ],
       "metadata": {},
       "output_type": "display_data",
       "text": [
        "<IPython.core.display.Javascript at 0x99f76390>"
       ]
      },
      {
       "javascript": [
        "\n",
        "        var $myPB = $(\"div#2bf93351-5e27-414e-8506-1aff7d48d552\")\n",
        "        if ($myPB.hasClass('ui-progressbar')) {\n",
        "            $myPB.progressbar('value', 60);\n",
        "        } else {\n",
        "            $myPB.progressbar({value: 0, max: 1498});\n",
        "        }\n",
        "        "
       ],
       "metadata": {},
       "output_type": "display_data",
       "text": [
        "<IPython.core.display.Javascript at 0x99f76390>"
       ]
      },
      {
       "javascript": [
        "$('div#36abd297-8fd4-4568-988c-774e0fe24bde').text('ETA:  0:00:00');"
       ],
       "metadata": {},
       "output_type": "display_data",
       "text": [
        "<IPython.core.display.Javascript at 0x99f76198>"
       ]
      },
      {
       "javascript": [
        "$('div#a359e94f-26aa-4adf-992c-6622630c312c').text('75 of 1498');"
       ],
       "metadata": {},
       "output_type": "display_data",
       "text": [
        "<IPython.core.display.Javascript at 0x99bd6be0>"
       ]
      },
      {
       "javascript": [
        "$('div#c95c068a-ed1a-44b2-aecc-be4e8a26d1ff').text('  5%');"
       ],
       "metadata": {},
       "output_type": "display_data",
       "text": [
        "<IPython.core.display.Javascript at 0x99bd6b38>"
       ]
      },
      {
       "javascript": [
        "\n",
        "        var $myPB = $(\"div#2bf93351-5e27-414e-8506-1aff7d48d552\")\n",
        "        if ($myPB.hasClass('ui-progressbar')) {\n",
        "            $myPB.progressbar('value', 75);\n",
        "        } else {\n",
        "            $myPB.progressbar({value: 0, max: 1498});\n",
        "        }\n",
        "        "
       ],
       "metadata": {},
       "output_type": "display_data",
       "text": [
        "<IPython.core.display.Javascript at 0x99f76390>"
       ]
      },
      {
       "javascript": [
        "$('div#36abd297-8fd4-4568-988c-774e0fe24bde').text('ETA:  0:00:00');"
       ],
       "metadata": {},
       "output_type": "display_data",
       "text": [
        "<IPython.core.display.Javascript at 0x99f76198>"
       ]
      },
      {
       "javascript": [
        "$('div#a359e94f-26aa-4adf-992c-6622630c312c').text('90 of 1498');"
       ],
       "metadata": {},
       "output_type": "display_data",
       "text": [
        "<IPython.core.display.Javascript at 0x99bd6b38>"
       ]
      },
      {
       "javascript": [
        "$('div#c95c068a-ed1a-44b2-aecc-be4e8a26d1ff').text('  6%');"
       ],
       "metadata": {},
       "output_type": "display_data",
       "text": [
        "<IPython.core.display.Javascript at 0x99bd6c18>"
       ]
      },
      {
       "javascript": [
        "\n",
        "        var $myPB = $(\"div#2bf93351-5e27-414e-8506-1aff7d48d552\")\n",
        "        if ($myPB.hasClass('ui-progressbar')) {\n",
        "            $myPB.progressbar('value', 90);\n",
        "        } else {\n",
        "            $myPB.progressbar({value: 0, max: 1498});\n",
        "        }\n",
        "        "
       ],
       "metadata": {},
       "output_type": "display_data",
       "text": [
        "<IPython.core.display.Javascript at 0x99f76390>"
       ]
      },
      {
       "javascript": [
        "$('div#36abd297-8fd4-4568-988c-774e0fe24bde').text('ETA:  0:00:00');"
       ],
       "metadata": {},
       "output_type": "display_data",
       "text": [
        "<IPython.core.display.Javascript at 0x99f76198>"
       ]
      },
      {
       "javascript": [
        "$('div#a359e94f-26aa-4adf-992c-6622630c312c').text('105 of 1498');"
       ],
       "metadata": {},
       "output_type": "display_data",
       "text": [
        "<IPython.core.display.Javascript at 0x99bd6a90>"
       ]
      },
      {
       "javascript": [
        "$('div#c95c068a-ed1a-44b2-aecc-be4e8a26d1ff').text('  7%');"
       ],
       "metadata": {},
       "output_type": "display_data",
       "text": [
        "<IPython.core.display.Javascript at 0x99bd6c18>"
       ]
      },
      {
       "javascript": [
        "\n",
        "        var $myPB = $(\"div#2bf93351-5e27-414e-8506-1aff7d48d552\")\n",
        "        if ($myPB.hasClass('ui-progressbar')) {\n",
        "            $myPB.progressbar('value', 105);\n",
        "        } else {\n",
        "            $myPB.progressbar({value: 0, max: 1498});\n",
        "        }\n",
        "        "
       ],
       "metadata": {},
       "output_type": "display_data",
       "text": [
        "<IPython.core.display.Javascript at 0x99f76390>"
       ]
      },
      {
       "javascript": [
        "$('div#36abd297-8fd4-4568-988c-774e0fe24bde').text('ETA:  0:00:00');"
       ],
       "metadata": {},
       "output_type": "display_data",
       "text": [
        "<IPython.core.display.Javascript at 0x99f76198>"
       ]
      },
      {
       "javascript": [
        "$('div#a359e94f-26aa-4adf-992c-6622630c312c').text('120 of 1498');"
       ],
       "metadata": {},
       "output_type": "display_data",
       "text": [
        "<IPython.core.display.Javascript at 0x99bd6be0>"
       ]
      },
      {
       "javascript": [
        "$('div#c95c068a-ed1a-44b2-aecc-be4e8a26d1ff').text('  8%');"
       ],
       "metadata": {},
       "output_type": "display_data",
       "text": [
        "<IPython.core.display.Javascript at 0x99bd6b70>"
       ]
      },
      {
       "javascript": [
        "\n",
        "        var $myPB = $(\"div#2bf93351-5e27-414e-8506-1aff7d48d552\")\n",
        "        if ($myPB.hasClass('ui-progressbar')) {\n",
        "            $myPB.progressbar('value', 120);\n",
        "        } else {\n",
        "            $myPB.progressbar({value: 0, max: 1498});\n",
        "        }\n",
        "        "
       ],
       "metadata": {},
       "output_type": "display_data",
       "text": [
        "<IPython.core.display.Javascript at 0x99f76390>"
       ]
      },
      {
       "javascript": [
        "$('div#36abd297-8fd4-4568-988c-774e0fe24bde').text('ETA:  0:00:00');"
       ],
       "metadata": {},
       "output_type": "display_data",
       "text": [
        "<IPython.core.display.Javascript at 0x99f76198>"
       ]
      },
      {
       "javascript": [
        "$('div#a359e94f-26aa-4adf-992c-6622630c312c').text('135 of 1498');"
       ],
       "metadata": {},
       "output_type": "display_data",
       "text": [
        "<IPython.core.display.Javascript at 0x99bd6be0>"
       ]
      },
      {
       "javascript": [
        "$('div#c95c068a-ed1a-44b2-aecc-be4e8a26d1ff').text('  9%');"
       ],
       "metadata": {},
       "output_type": "display_data",
       "text": [
        "<IPython.core.display.Javascript at 0x99bd6d30>"
       ]
      },
      {
       "javascript": [
        "\n",
        "        var $myPB = $(\"div#2bf93351-5e27-414e-8506-1aff7d48d552\")\n",
        "        if ($myPB.hasClass('ui-progressbar')) {\n",
        "            $myPB.progressbar('value', 135);\n",
        "        } else {\n",
        "            $myPB.progressbar({value: 0, max: 1498});\n",
        "        }\n",
        "        "
       ],
       "metadata": {},
       "output_type": "display_data",
       "text": [
        "<IPython.core.display.Javascript at 0x99bd6d30>"
       ]
      },
      {
       "javascript": [
        "$('div#36abd297-8fd4-4568-988c-774e0fe24bde').text('ETA:  0:00:00');"
       ],
       "metadata": {},
       "output_type": "display_data",
       "text": [
        "<IPython.core.display.Javascript at 0x99bd6e48>"
       ]
      },
      {
       "javascript": [
        "$('div#a359e94f-26aa-4adf-992c-6622630c312c').text('150 of 1498');"
       ],
       "metadata": {},
       "output_type": "display_data",
       "text": [
        "<IPython.core.display.Javascript at 0x99bd6e10>"
       ]
      },
      {
       "javascript": [
        "$('div#c95c068a-ed1a-44b2-aecc-be4e8a26d1ff').text(' 10%');"
       ],
       "metadata": {},
       "output_type": "display_data",
       "text": [
        "<IPython.core.display.Javascript at 0x99bd6be0>"
       ]
      },
      {
       "javascript": [
        "\n",
        "        var $myPB = $(\"div#2bf93351-5e27-414e-8506-1aff7d48d552\")\n",
        "        if ($myPB.hasClass('ui-progressbar')) {\n",
        "            $myPB.progressbar('value', 150);\n",
        "        } else {\n",
        "            $myPB.progressbar({value: 0, max: 1498});\n",
        "        }\n",
        "        "
       ],
       "metadata": {},
       "output_type": "display_data",
       "text": [
        "<IPython.core.display.Javascript at 0x99f76390>"
       ]
      },
      {
       "javascript": [
        "$('div#36abd297-8fd4-4568-988c-774e0fe24bde').text('ETA:  0:00:00');"
       ],
       "metadata": {},
       "output_type": "display_data",
       "text": [
        "<IPython.core.display.Javascript at 0x99f76198>"
       ]
      },
      {
       "javascript": [
        "$('div#a359e94f-26aa-4adf-992c-6622630c312c').text('165 of 1498');"
       ],
       "metadata": {},
       "output_type": "display_data",
       "text": [
        "<IPython.core.display.Javascript at 0x99bd6e10>"
       ]
      },
      {
       "javascript": [
        "$('div#c95c068a-ed1a-44b2-aecc-be4e8a26d1ff').text(' 11%');"
       ],
       "metadata": {},
       "output_type": "display_data",
       "text": [
        "<IPython.core.display.Javascript at 0x99bd6d30>"
       ]
      },
      {
       "javascript": [
        "\n",
        "        var $myPB = $(\"div#2bf93351-5e27-414e-8506-1aff7d48d552\")\n",
        "        if ($myPB.hasClass('ui-progressbar')) {\n",
        "            $myPB.progressbar('value', 165);\n",
        "        } else {\n",
        "            $myPB.progressbar({value: 0, max: 1498});\n",
        "        }\n",
        "        "
       ],
       "metadata": {},
       "output_type": "display_data",
       "text": [
        "<IPython.core.display.Javascript at 0x99bd6d30>"
       ]
      },
      {
       "javascript": [
        "$('div#36abd297-8fd4-4568-988c-774e0fe24bde').text('ETA:  0:00:00');"
       ],
       "metadata": {},
       "output_type": "display_data",
       "text": [
        "<IPython.core.display.Javascript at 0x99bd6e10>"
       ]
      },
      {
       "javascript": [
        "$('div#a359e94f-26aa-4adf-992c-6622630c312c').text('180 of 1498');"
       ],
       "metadata": {},
       "output_type": "display_data",
       "text": [
        "<IPython.core.display.Javascript at 0x5da26b00>"
       ]
      },
      {
       "javascript": [
        "$('div#c95c068a-ed1a-44b2-aecc-be4e8a26d1ff').text(' 12%');"
       ],
       "metadata": {},
       "output_type": "display_data",
       "text": [
        "<IPython.core.display.Javascript at 0x5da26c18>"
       ]
      },
      {
       "javascript": [
        "\n",
        "        var $myPB = $(\"div#2bf93351-5e27-414e-8506-1aff7d48d552\")\n",
        "        if ($myPB.hasClass('ui-progressbar')) {\n",
        "            $myPB.progressbar('value', 180);\n",
        "        } else {\n",
        "            $myPB.progressbar({value: 0, max: 1498});\n",
        "        }\n",
        "        "
       ],
       "metadata": {},
       "output_type": "display_data",
       "text": [
        "<IPython.core.display.Javascript at 0x99bd6d30>"
       ]
      },
      {
       "javascript": [
        "$('div#36abd297-8fd4-4568-988c-774e0fe24bde').text('ETA:  0:00:00');"
       ],
       "metadata": {},
       "output_type": "display_data",
       "text": [
        "<IPython.core.display.Javascript at 0x99bd6e10>"
       ]
      },
      {
       "javascript": [
        "$('div#a359e94f-26aa-4adf-992c-6622630c312c').text('195 of 1498');"
       ],
       "metadata": {},
       "output_type": "display_data",
       "text": [
        "<IPython.core.display.Javascript at 0x5da26cf8>"
       ]
      },
      {
       "javascript": [
        "$('div#c95c068a-ed1a-44b2-aecc-be4e8a26d1ff').text(' 13%');"
       ],
       "metadata": {},
       "output_type": "display_data",
       "text": [
        "<IPython.core.display.Javascript at 0x5da26cc0>"
       ]
      },
      {
       "javascript": [
        "\n",
        "        var $myPB = $(\"div#2bf93351-5e27-414e-8506-1aff7d48d552\")\n",
        "        if ($myPB.hasClass('ui-progressbar')) {\n",
        "            $myPB.progressbar('value', 195);\n",
        "        } else {\n",
        "            $myPB.progressbar({value: 0, max: 1498});\n",
        "        }\n",
        "        "
       ],
       "metadata": {},
       "output_type": "display_data",
       "text": [
        "<IPython.core.display.Javascript at 0x99bd6d30>"
       ]
      },
      {
       "javascript": [
        "$('div#36abd297-8fd4-4568-988c-774e0fe24bde').text('ETA:  0:00:00');"
       ],
       "metadata": {},
       "output_type": "display_data",
       "text": [
        "<IPython.core.display.Javascript at 0x99bd6e10>"
       ]
      },
      {
       "javascript": [
        "$('div#a359e94f-26aa-4adf-992c-6622630c312c').text('210 of 1498');"
       ],
       "metadata": {},
       "output_type": "display_data",
       "text": [
        "<IPython.core.display.Javascript at 0x5da26dd8>"
       ]
      },
      {
       "javascript": [
        "$('div#c95c068a-ed1a-44b2-aecc-be4e8a26d1ff').text(' 14%');"
       ],
       "metadata": {},
       "output_type": "display_data",
       "text": [
        "<IPython.core.display.Javascript at 0x5da26da0>"
       ]
      },
      {
       "javascript": [
        "\n",
        "        var $myPB = $(\"div#2bf93351-5e27-414e-8506-1aff7d48d552\")\n",
        "        if ($myPB.hasClass('ui-progressbar')) {\n",
        "            $myPB.progressbar('value', 210);\n",
        "        } else {\n",
        "            $myPB.progressbar({value: 0, max: 1498});\n",
        "        }\n",
        "        "
       ],
       "metadata": {},
       "output_type": "display_data",
       "text": [
        "<IPython.core.display.Javascript at 0x99bd6d30>"
       ]
      },
      {
       "javascript": [
        "$('div#36abd297-8fd4-4568-988c-774e0fe24bde').text('ETA:  0:00:00');"
       ],
       "metadata": {},
       "output_type": "display_data",
       "text": [
        "<IPython.core.display.Javascript at 0x99bd6e10>"
       ]
      },
      {
       "javascript": [
        "$('div#a359e94f-26aa-4adf-992c-6622630c312c').text('225 of 1498');"
       ],
       "metadata": {},
       "output_type": "display_data",
       "text": [
        "<IPython.core.display.Javascript at 0x5da26e48>"
       ]
      },
      {
       "javascript": [
        "$('div#c95c068a-ed1a-44b2-aecc-be4e8a26d1ff').text(' 15%');"
       ],
       "metadata": {},
       "output_type": "display_data",
       "text": [
        "<IPython.core.display.Javascript at 0x5da26eb8>"
       ]
      },
      {
       "javascript": [
        "\n",
        "        var $myPB = $(\"div#2bf93351-5e27-414e-8506-1aff7d48d552\")\n",
        "        if ($myPB.hasClass('ui-progressbar')) {\n",
        "            $myPB.progressbar('value', 225);\n",
        "        } else {\n",
        "            $myPB.progressbar({value: 0, max: 1498});\n",
        "        }\n",
        "        "
       ],
       "metadata": {},
       "output_type": "display_data",
       "text": [
        "<IPython.core.display.Javascript at 0x5da26eb8>"
       ]
      },
      {
       "javascript": [
        "$('div#36abd297-8fd4-4568-988c-774e0fe24bde').text('ETA:  0:00:00');"
       ],
       "metadata": {},
       "output_type": "display_data",
       "text": [
        "<IPython.core.display.Javascript at 0x5da26f28>"
       ]
      },
      {
       "javascript": [
        "$('div#a359e94f-26aa-4adf-992c-6622630c312c').text('240 of 1498');"
       ],
       "metadata": {},
       "output_type": "display_data",
       "text": [
        "<IPython.core.display.Javascript at 0x5da26fd0>"
       ]
      },
      {
       "javascript": [
        "$('div#c95c068a-ed1a-44b2-aecc-be4e8a26d1ff').text(' 16%');"
       ],
       "metadata": {},
       "output_type": "display_data",
       "text": [
        "<IPython.core.display.Javascript at 0x5da26dd8>"
       ]
      },
      {
       "javascript": [
        "\n",
        "        var $myPB = $(\"div#2bf93351-5e27-414e-8506-1aff7d48d552\")\n",
        "        if ($myPB.hasClass('ui-progressbar')) {\n",
        "            $myPB.progressbar('value', 240);\n",
        "        } else {\n",
        "            $myPB.progressbar({value: 0, max: 1498});\n",
        "        }\n",
        "        "
       ],
       "metadata": {},
       "output_type": "display_data",
       "text": [
        "<IPython.core.display.Javascript at 0x99bd6e10>"
       ]
      },
      {
       "javascript": [
        "$('div#36abd297-8fd4-4568-988c-774e0fe24bde').text('ETA:  0:00:00');"
       ],
       "metadata": {},
       "output_type": "display_data",
       "text": [
        "<IPython.core.display.Javascript at 0x99bd6d30>"
       ]
      },
      {
       "javascript": [
        "$('div#a359e94f-26aa-4adf-992c-6622630c312c').text('255 of 1498');"
       ],
       "metadata": {},
       "output_type": "display_data",
       "text": [
        "<IPython.core.display.Javascript at 0x5da26fd0>"
       ]
      },
      {
       "javascript": [
        "$('div#c95c068a-ed1a-44b2-aecc-be4e8a26d1ff').text(' 17%');"
       ],
       "metadata": {},
       "output_type": "display_data",
       "text": [
        "<IPython.core.display.Javascript at 0x5da26f60>"
       ]
      },
      {
       "javascript": [
        "\n",
        "        var $myPB = $(\"div#2bf93351-5e27-414e-8506-1aff7d48d552\")\n",
        "        if ($myPB.hasClass('ui-progressbar')) {\n",
        "            $myPB.progressbar('value', 255);\n",
        "        } else {\n",
        "            $myPB.progressbar({value: 0, max: 1498});\n",
        "        }\n",
        "        "
       ],
       "metadata": {},
       "output_type": "display_data",
       "text": [
        "<IPython.core.display.Javascript at 0x5da26f60>"
       ]
      },
      {
       "javascript": [
        "$('div#36abd297-8fd4-4568-988c-774e0fe24bde').text('ETA:  0:00:00');"
       ],
       "metadata": {},
       "output_type": "display_data",
       "text": [
        "<IPython.core.display.Javascript at 0x5da26eb8>"
       ]
      },
      {
       "javascript": [
        "$('div#a359e94f-26aa-4adf-992c-6622630c312c').text('270 of 1498');"
       ],
       "metadata": {},
       "output_type": "display_data",
       "text": [
        "<IPython.core.display.Javascript at 0x2f9a9080>"
       ]
      },
      {
       "javascript": [
        "$('div#c95c068a-ed1a-44b2-aecc-be4e8a26d1ff').text(' 18%');"
       ],
       "metadata": {},
       "output_type": "display_data",
       "text": [
        "<IPython.core.display.Javascript at 0x2f9a90b8>"
       ]
      },
      {
       "javascript": [
        "\n",
        "        var $myPB = $(\"div#2bf93351-5e27-414e-8506-1aff7d48d552\")\n",
        "        if ($myPB.hasClass('ui-progressbar')) {\n",
        "            $myPB.progressbar('value', 270);\n",
        "        } else {\n",
        "            $myPB.progressbar({value: 0, max: 1498});\n",
        "        }\n",
        "        "
       ],
       "metadata": {},
       "output_type": "display_data",
       "text": [
        "<IPython.core.display.Javascript at 0x5da26f60>"
       ]
      },
      {
       "javascript": [
        "$('div#36abd297-8fd4-4568-988c-774e0fe24bde').text('ETA:  0:00:00');"
       ],
       "metadata": {},
       "output_type": "display_data",
       "text": [
        "<IPython.core.display.Javascript at 0x5da26eb8>"
       ]
      },
      {
       "javascript": [
        "$('div#a359e94f-26aa-4adf-992c-6622630c312c').text('285 of 1498');"
       ],
       "metadata": {},
       "output_type": "display_data",
       "text": [
        "<IPython.core.display.Javascript at 0x2f9a90b8>"
       ]
      },
      {
       "javascript": [
        "$('div#c95c068a-ed1a-44b2-aecc-be4e8a26d1ff').text(' 19%');"
       ],
       "metadata": {},
       "output_type": "display_data",
       "text": [
        "<IPython.core.display.Javascript at 0x2f9a91d0>"
       ]
      },
      {
       "javascript": [
        "\n",
        "        var $myPB = $(\"div#2bf93351-5e27-414e-8506-1aff7d48d552\")\n",
        "        if ($myPB.hasClass('ui-progressbar')) {\n",
        "            $myPB.progressbar('value', 285);\n",
        "        } else {\n",
        "            $myPB.progressbar({value: 0, max: 1498});\n",
        "        }\n",
        "        "
       ],
       "metadata": {},
       "output_type": "display_data",
       "text": [
        "<IPython.core.display.Javascript at 0x5da26f60>"
       ]
      },
      {
       "javascript": [
        "$('div#36abd297-8fd4-4568-988c-774e0fe24bde').text('ETA:  0:00:00');"
       ],
       "metadata": {},
       "output_type": "display_data",
       "text": [
        "<IPython.core.display.Javascript at 0x5da26eb8>"
       ]
      },
      {
       "javascript": [
        "$('div#a359e94f-26aa-4adf-992c-6622630c312c').text('300 of 1498');"
       ],
       "metadata": {},
       "output_type": "display_data",
       "text": [
        "<IPython.core.display.Javascript at 0x2f9a9198>"
       ]
      },
      {
       "javascript": [
        "$('div#c95c068a-ed1a-44b2-aecc-be4e8a26d1ff').text(' 20%');"
       ],
       "metadata": {},
       "output_type": "display_data",
       "text": [
        "<IPython.core.display.Javascript at 0x2f9a91d0>"
       ]
      },
      {
       "javascript": [
        "\n",
        "        var $myPB = $(\"div#2bf93351-5e27-414e-8506-1aff7d48d552\")\n",
        "        if ($myPB.hasClass('ui-progressbar')) {\n",
        "            $myPB.progressbar('value', 300);\n",
        "        } else {\n",
        "            $myPB.progressbar({value: 0, max: 1498});\n",
        "        }\n",
        "        "
       ],
       "metadata": {},
       "output_type": "display_data",
       "text": [
        "<IPython.core.display.Javascript at 0x5da26f60>"
       ]
      },
      {
       "javascript": [
        "$('div#36abd297-8fd4-4568-988c-774e0fe24bde').text('ETA:  0:00:00');"
       ],
       "metadata": {},
       "output_type": "display_data",
       "text": [
        "<IPython.core.display.Javascript at 0x5da26eb8>"
       ]
      },
      {
       "javascript": [
        "$('div#a359e94f-26aa-4adf-992c-6622630c312c').text('315 of 1498');"
       ],
       "metadata": {},
       "output_type": "display_data",
       "text": [
        "<IPython.core.display.Javascript at 0x2f9a90f0>"
       ]
      },
      {
       "javascript": [
        "$('div#c95c068a-ed1a-44b2-aecc-be4e8a26d1ff').text(' 21%');"
       ],
       "metadata": {},
       "output_type": "display_data",
       "text": [
        "<IPython.core.display.Javascript at 0x2f9a91d0>"
       ]
      },
      {
       "javascript": [
        "\n",
        "        var $myPB = $(\"div#2bf93351-5e27-414e-8506-1aff7d48d552\")\n",
        "        if ($myPB.hasClass('ui-progressbar')) {\n",
        "            $myPB.progressbar('value', 315);\n",
        "        } else {\n",
        "            $myPB.progressbar({value: 0, max: 1498});\n",
        "        }\n",
        "        "
       ],
       "metadata": {},
       "output_type": "display_data",
       "text": [
        "<IPython.core.display.Javascript at 0x5da26f60>"
       ]
      },
      {
       "javascript": [
        "$('div#36abd297-8fd4-4568-988c-774e0fe24bde').text('ETA:  0:00:00');"
       ],
       "metadata": {},
       "output_type": "display_data",
       "text": [
        "<IPython.core.display.Javascript at 0x5da26eb8>"
       ]
      },
      {
       "javascript": [
        "$('div#a359e94f-26aa-4adf-992c-6622630c312c').text('330 of 1498');"
       ],
       "metadata": {},
       "output_type": "display_data",
       "text": [
        "<IPython.core.display.Javascript at 0x2f9a91d0>"
       ]
      },
      {
       "javascript": [
        "$('div#c95c068a-ed1a-44b2-aecc-be4e8a26d1ff').text(' 22%');"
       ],
       "metadata": {},
       "output_type": "display_data",
       "text": [
        "<IPython.core.display.Javascript at 0x2f9a90b8>"
       ]
      },
      {
       "javascript": [
        "\n",
        "        var $myPB = $(\"div#2bf93351-5e27-414e-8506-1aff7d48d552\")\n",
        "        if ($myPB.hasClass('ui-progressbar')) {\n",
        "            $myPB.progressbar('value', 330);\n",
        "        } else {\n",
        "            $myPB.progressbar({value: 0, max: 1498});\n",
        "        }\n",
        "        "
       ],
       "metadata": {},
       "output_type": "display_data",
       "text": [
        "<IPython.core.display.Javascript at 0x5da26f60>"
       ]
      },
      {
       "javascript": [
        "$('div#36abd297-8fd4-4568-988c-774e0fe24bde').text('ETA:  0:00:00');"
       ],
       "metadata": {},
       "output_type": "display_data",
       "text": [
        "<IPython.core.display.Javascript at 0x5da26eb8>"
       ]
      },
      {
       "javascript": [
        "$('div#a359e94f-26aa-4adf-992c-6622630c312c').text('345 of 1498');"
       ],
       "metadata": {},
       "output_type": "display_data",
       "text": [
        "<IPython.core.display.Javascript at 0x2f9a90b8>"
       ]
      },
      {
       "javascript": [
        "$('div#c95c068a-ed1a-44b2-aecc-be4e8a26d1ff').text(' 23%');"
       ],
       "metadata": {},
       "output_type": "display_data",
       "text": [
        "<IPython.core.display.Javascript at 0x2f9a90f0>"
       ]
      },
      {
       "javascript": [
        "\n",
        "        var $myPB = $(\"div#2bf93351-5e27-414e-8506-1aff7d48d552\")\n",
        "        if ($myPB.hasClass('ui-progressbar')) {\n",
        "            $myPB.progressbar('value', 345);\n",
        "        } else {\n",
        "            $myPB.progressbar({value: 0, max: 1498});\n",
        "        }\n",
        "        "
       ],
       "metadata": {},
       "output_type": "display_data",
       "text": [
        "<IPython.core.display.Javascript at 0x5da26f60>"
       ]
      },
      {
       "javascript": [
        "$('div#36abd297-8fd4-4568-988c-774e0fe24bde').text('ETA:  0:00:00');"
       ],
       "metadata": {},
       "output_type": "display_data",
       "text": [
        "<IPython.core.display.Javascript at 0x5da26eb8>"
       ]
      },
      {
       "javascript": [
        "$('div#a359e94f-26aa-4adf-992c-6622630c312c').text('360 of 1498');"
       ],
       "metadata": {},
       "output_type": "display_data",
       "text": [
        "<IPython.core.display.Javascript at 0x2f9a90f0>"
       ]
      },
      {
       "javascript": [
        "$('div#c95c068a-ed1a-44b2-aecc-be4e8a26d1ff').text(' 24%');"
       ],
       "metadata": {},
       "output_type": "display_data",
       "text": [
        "<IPython.core.display.Javascript at 0x2f9a91d0>"
       ]
      },
      {
       "javascript": [
        "\n",
        "        var $myPB = $(\"div#2bf93351-5e27-414e-8506-1aff7d48d552\")\n",
        "        if ($myPB.hasClass('ui-progressbar')) {\n",
        "            $myPB.progressbar('value', 360);\n",
        "        } else {\n",
        "            $myPB.progressbar({value: 0, max: 1498});\n",
        "        }\n",
        "        "
       ],
       "metadata": {},
       "output_type": "display_data",
       "text": [
        "<IPython.core.display.Javascript at 0x5da26f60>"
       ]
      },
      {
       "javascript": [
        "$('div#36abd297-8fd4-4568-988c-774e0fe24bde').text('ETA:  0:00:00');"
       ],
       "metadata": {},
       "output_type": "display_data",
       "text": [
        "<IPython.core.display.Javascript at 0x5da26eb8>"
       ]
      },
      {
       "javascript": [
        "$('div#a359e94f-26aa-4adf-992c-6622630c312c').text('375 of 1498');"
       ],
       "metadata": {},
       "output_type": "display_data",
       "text": [
        "<IPython.core.display.Javascript at 0x2f9a9160>"
       ]
      },
      {
       "javascript": [
        "$('div#c95c068a-ed1a-44b2-aecc-be4e8a26d1ff').text(' 25%');"
       ],
       "metadata": {},
       "output_type": "display_data",
       "text": [
        "<IPython.core.display.Javascript at 0x2f9a92e8>"
       ]
      },
      {
       "javascript": [
        "\n",
        "        var $myPB = $(\"div#2bf93351-5e27-414e-8506-1aff7d48d552\")\n",
        "        if ($myPB.hasClass('ui-progressbar')) {\n",
        "            $myPB.progressbar('value', 375);\n",
        "        } else {\n",
        "            $myPB.progressbar({value: 0, max: 1498});\n",
        "        }\n",
        "        "
       ],
       "metadata": {},
       "output_type": "display_data",
       "text": [
        "<IPython.core.display.Javascript at 0x5da26f60>"
       ]
      },
      {
       "javascript": [
        "$('div#36abd297-8fd4-4568-988c-774e0fe24bde').text('ETA:  0:00:00');"
       ],
       "metadata": {},
       "output_type": "display_data",
       "text": [
        "<IPython.core.display.Javascript at 0x5da26eb8>"
       ]
      },
      {
       "javascript": [
        "$('div#a359e94f-26aa-4adf-992c-6622630c312c').text('390 of 1498');"
       ],
       "metadata": {},
       "output_type": "display_data",
       "text": [
        "<IPython.core.display.Javascript at 0x2f9a9358>"
       ]
      },
      {
       "javascript": [
        "$('div#c95c068a-ed1a-44b2-aecc-be4e8a26d1ff').text(' 26%');"
       ],
       "metadata": {},
       "output_type": "display_data",
       "text": [
        "<IPython.core.display.Javascript at 0x2f9a9400>"
       ]
      },
      {
       "javascript": [
        "\n",
        "        var $myPB = $(\"div#2bf93351-5e27-414e-8506-1aff7d48d552\")\n",
        "        if ($myPB.hasClass('ui-progressbar')) {\n",
        "            $myPB.progressbar('value', 390);\n",
        "        } else {\n",
        "            $myPB.progressbar({value: 0, max: 1498});\n",
        "        }\n",
        "        "
       ],
       "metadata": {},
       "output_type": "display_data",
       "text": [
        "<IPython.core.display.Javascript at 0x5da26f60>"
       ]
      },
      {
       "javascript": [
        "$('div#36abd297-8fd4-4568-988c-774e0fe24bde').text('ETA:  0:00:00');"
       ],
       "metadata": {},
       "output_type": "display_data",
       "text": [
        "<IPython.core.display.Javascript at 0x5da26eb8>"
       ]
      },
      {
       "javascript": [
        "$('div#a359e94f-26aa-4adf-992c-6622630c312c').text('405 of 1498');"
       ],
       "metadata": {},
       "output_type": "display_data",
       "text": [
        "<IPython.core.display.Javascript at 0x2f9a9438>"
       ]
      },
      {
       "javascript": [
        "$('div#c95c068a-ed1a-44b2-aecc-be4e8a26d1ff').text(' 27%');"
       ],
       "metadata": {},
       "output_type": "display_data",
       "text": [
        "<IPython.core.display.Javascript at 0x2f9a9400>"
       ]
      },
      {
       "javascript": [
        "\n",
        "        var $myPB = $(\"div#2bf93351-5e27-414e-8506-1aff7d48d552\")\n",
        "        if ($myPB.hasClass('ui-progressbar')) {\n",
        "            $myPB.progressbar('value', 405);\n",
        "        } else {\n",
        "            $myPB.progressbar({value: 0, max: 1498});\n",
        "        }\n",
        "        "
       ],
       "metadata": {},
       "output_type": "display_data",
       "text": [
        "<IPython.core.display.Javascript at 0x5da26f60>"
       ]
      },
      {
       "javascript": [
        "$('div#36abd297-8fd4-4568-988c-774e0fe24bde').text('ETA:  0:00:00');"
       ],
       "metadata": {},
       "output_type": "display_data",
       "text": [
        "<IPython.core.display.Javascript at 0x5da26eb8>"
       ]
      },
      {
       "javascript": [
        "$('div#a359e94f-26aa-4adf-992c-6622630c312c').text('420 of 1498');"
       ],
       "metadata": {},
       "output_type": "display_data",
       "text": [
        "<IPython.core.display.Javascript at 0x2f9a9160>"
       ]
      },
      {
       "javascript": [
        "$('div#c95c068a-ed1a-44b2-aecc-be4e8a26d1ff').text(' 28%');"
       ],
       "metadata": {},
       "output_type": "display_data",
       "text": [
        "<IPython.core.display.Javascript at 0x2f9a9400>"
       ]
      },
      {
       "javascript": [
        "\n",
        "        var $myPB = $(\"div#2bf93351-5e27-414e-8506-1aff7d48d552\")\n",
        "        if ($myPB.hasClass('ui-progressbar')) {\n",
        "            $myPB.progressbar('value', 420);\n",
        "        } else {\n",
        "            $myPB.progressbar({value: 0, max: 1498});\n",
        "        }\n",
        "        "
       ],
       "metadata": {},
       "output_type": "display_data",
       "text": [
        "<IPython.core.display.Javascript at 0x5da26f60>"
       ]
      },
      {
       "javascript": [
        "$('div#36abd297-8fd4-4568-988c-774e0fe24bde').text('ETA:  0:00:00');"
       ],
       "metadata": {},
       "output_type": "display_data",
       "text": [
        "<IPython.core.display.Javascript at 0x5da26eb8>"
       ]
      },
      {
       "javascript": [
        "$('div#a359e94f-26aa-4adf-992c-6622630c312c').text('435 of 1498');"
       ],
       "metadata": {},
       "output_type": "display_data",
       "text": [
        "<IPython.core.display.Javascript at 0x2f9a94a8>"
       ]
      },
      {
       "javascript": [
        "$('div#c95c068a-ed1a-44b2-aecc-be4e8a26d1ff').text(' 29%');"
       ],
       "metadata": {},
       "output_type": "display_data",
       "text": [
        "<IPython.core.display.Javascript at 0x2f9a9470>"
       ]
      },
      {
       "javascript": [
        "\n",
        "        var $myPB = $(\"div#2bf93351-5e27-414e-8506-1aff7d48d552\")\n",
        "        if ($myPB.hasClass('ui-progressbar')) {\n",
        "            $myPB.progressbar('value', 435);\n",
        "        } else {\n",
        "            $myPB.progressbar({value: 0, max: 1498});\n",
        "        }\n",
        "        "
       ],
       "metadata": {},
       "output_type": "display_data",
       "text": [
        "<IPython.core.display.Javascript at 0x5da26f60>"
       ]
      },
      {
       "javascript": [
        "$('div#36abd297-8fd4-4568-988c-774e0fe24bde').text('ETA:  0:00:00');"
       ],
       "metadata": {},
       "output_type": "display_data",
       "text": [
        "<IPython.core.display.Javascript at 0x5da26eb8>"
       ]
      },
      {
       "javascript": [
        "$('div#a359e94f-26aa-4adf-992c-6622630c312c').text('450 of 1498');"
       ],
       "metadata": {},
       "output_type": "display_data",
       "text": [
        "<IPython.core.display.Javascript at 0x2f9a9470>"
       ]
      },
      {
       "javascript": [
        "$('div#c95c068a-ed1a-44b2-aecc-be4e8a26d1ff').text(' 30%');"
       ],
       "metadata": {},
       "output_type": "display_data",
       "text": [
        "<IPython.core.display.Javascript at 0x2f9a95c0>"
       ]
      },
      {
       "javascript": [
        "\n",
        "        var $myPB = $(\"div#2bf93351-5e27-414e-8506-1aff7d48d552\")\n",
        "        if ($myPB.hasClass('ui-progressbar')) {\n",
        "            $myPB.progressbar('value', 450);\n",
        "        } else {\n",
        "            $myPB.progressbar({value: 0, max: 1498});\n",
        "        }\n",
        "        "
       ],
       "metadata": {},
       "output_type": "display_data",
       "text": [
        "<IPython.core.display.Javascript at 0x5da26f60>"
       ]
      },
      {
       "javascript": [
        "$('div#36abd297-8fd4-4568-988c-774e0fe24bde').text('ETA:  0:00:00');"
       ],
       "metadata": {},
       "output_type": "display_data",
       "text": [
        "<IPython.core.display.Javascript at 0x5da26eb8>"
       ]
      },
      {
       "javascript": [
        "$('div#a359e94f-26aa-4adf-992c-6622630c312c').text('465 of 1498');"
       ],
       "metadata": {},
       "output_type": "display_data",
       "text": [
        "<IPython.core.display.Javascript at 0x2f9a95c0>"
       ]
      },
      {
       "javascript": [
        "$('div#c95c068a-ed1a-44b2-aecc-be4e8a26d1ff').text(' 31%');"
       ],
       "metadata": {},
       "output_type": "display_data",
       "text": [
        "<IPython.core.display.Javascript at 0x2f9a94a8>"
       ]
      },
      {
       "javascript": [
        "\n",
        "        var $myPB = $(\"div#2bf93351-5e27-414e-8506-1aff7d48d552\")\n",
        "        if ($myPB.hasClass('ui-progressbar')) {\n",
        "            $myPB.progressbar('value', 465);\n",
        "        } else {\n",
        "            $myPB.progressbar({value: 0, max: 1498});\n",
        "        }\n",
        "        "
       ],
       "metadata": {},
       "output_type": "display_data",
       "text": [
        "<IPython.core.display.Javascript at 0x5da26f60>"
       ]
      },
      {
       "javascript": [
        "$('div#36abd297-8fd4-4568-988c-774e0fe24bde').text('ETA:  0:00:00');"
       ],
       "metadata": {},
       "output_type": "display_data",
       "text": [
        "<IPython.core.display.Javascript at 0x5da26eb8>"
       ]
      },
      {
       "javascript": [
        "$('div#a359e94f-26aa-4adf-992c-6622630c312c').text('480 of 1498');"
       ],
       "metadata": {},
       "output_type": "display_data",
       "text": [
        "<IPython.core.display.Javascript at 0x2f9a94a8>"
       ]
      },
      {
       "javascript": [
        "$('div#c95c068a-ed1a-44b2-aecc-be4e8a26d1ff').text(' 32%');"
       ],
       "metadata": {},
       "output_type": "display_data",
       "text": [
        "<IPython.core.display.Javascript at 0x2f9a9470>"
       ]
      },
      {
       "javascript": [
        "\n",
        "        var $myPB = $(\"div#2bf93351-5e27-414e-8506-1aff7d48d552\")\n",
        "        if ($myPB.hasClass('ui-progressbar')) {\n",
        "            $myPB.progressbar('value', 480);\n",
        "        } else {\n",
        "            $myPB.progressbar({value: 0, max: 1498});\n",
        "        }\n",
        "        "
       ],
       "metadata": {},
       "output_type": "display_data",
       "text": [
        "<IPython.core.display.Javascript at 0x5da26f60>"
       ]
      },
      {
       "javascript": [
        "$('div#36abd297-8fd4-4568-988c-774e0fe24bde').text('ETA:  0:00:00');"
       ],
       "metadata": {},
       "output_type": "display_data",
       "text": [
        "<IPython.core.display.Javascript at 0x5da26eb8>"
       ]
      },
      {
       "javascript": [
        "$('div#a359e94f-26aa-4adf-992c-6622630c312c').text('495 of 1498');"
       ],
       "metadata": {},
       "output_type": "display_data",
       "text": [
        "<IPython.core.display.Javascript at 0x2f9a9630>"
       ]
      },
      {
       "javascript": [
        "$('div#c95c068a-ed1a-44b2-aecc-be4e8a26d1ff').text(' 33%');"
       ],
       "metadata": {},
       "output_type": "display_data",
       "text": [
        "<IPython.core.display.Javascript at 0x2f9a9470>"
       ]
      },
      {
       "javascript": [
        "\n",
        "        var $myPB = $(\"div#2bf93351-5e27-414e-8506-1aff7d48d552\")\n",
        "        if ($myPB.hasClass('ui-progressbar')) {\n",
        "            $myPB.progressbar('value', 495);\n",
        "        } else {\n",
        "            $myPB.progressbar({value: 0, max: 1498});\n",
        "        }\n",
        "        "
       ],
       "metadata": {},
       "output_type": "display_data",
       "text": [
        "<IPython.core.display.Javascript at 0x5da26f60>"
       ]
      },
      {
       "javascript": [
        "$('div#36abd297-8fd4-4568-988c-774e0fe24bde').text('ETA:  0:00:00');"
       ],
       "metadata": {},
       "output_type": "display_data",
       "text": [
        "<IPython.core.display.Javascript at 0x5da26eb8>"
       ]
      },
      {
       "javascript": [
        "$('div#a359e94f-26aa-4adf-992c-6622630c312c').text('510 of 1498');"
       ],
       "metadata": {},
       "output_type": "display_data",
       "text": [
        "<IPython.core.display.Javascript at 0x2f9a96d8>"
       ]
      },
      {
       "javascript": [
        "$('div#c95c068a-ed1a-44b2-aecc-be4e8a26d1ff').text(' 34%');"
       ],
       "metadata": {},
       "output_type": "display_data",
       "text": [
        "<IPython.core.display.Javascript at 0x2f9a9710>"
       ]
      },
      {
       "javascript": [
        "\n",
        "        var $myPB = $(\"div#2bf93351-5e27-414e-8506-1aff7d48d552\")\n",
        "        if ($myPB.hasClass('ui-progressbar')) {\n",
        "            $myPB.progressbar('value', 510);\n",
        "        } else {\n",
        "            $myPB.progressbar({value: 0, max: 1498});\n",
        "        }\n",
        "        "
       ],
       "metadata": {},
       "output_type": "display_data",
       "text": [
        "<IPython.core.display.Javascript at 0x5da26f60>"
       ]
      },
      {
       "javascript": [
        "$('div#36abd297-8fd4-4568-988c-774e0fe24bde').text('ETA:  0:00:00');"
       ],
       "metadata": {},
       "output_type": "display_data",
       "text": [
        "<IPython.core.display.Javascript at 0x5da26eb8>"
       ]
      },
      {
       "javascript": [
        "$('div#a359e94f-26aa-4adf-992c-6622630c312c').text('525 of 1498');"
       ],
       "metadata": {},
       "output_type": "display_data",
       "text": [
        "<IPython.core.display.Javascript at 0x2f9a9748>"
       ]
      },
      {
       "javascript": [
        "$('div#c95c068a-ed1a-44b2-aecc-be4e8a26d1ff').text(' 35%');"
       ],
       "metadata": {},
       "output_type": "display_data",
       "text": [
        "<IPython.core.display.Javascript at 0x2f9a97f0>"
       ]
      },
      {
       "javascript": [
        "\n",
        "        var $myPB = $(\"div#2bf93351-5e27-414e-8506-1aff7d48d552\")\n",
        "        if ($myPB.hasClass('ui-progressbar')) {\n",
        "            $myPB.progressbar('value', 525);\n",
        "        } else {\n",
        "            $myPB.progressbar({value: 0, max: 1498});\n",
        "        }\n",
        "        "
       ],
       "metadata": {},
       "output_type": "display_data",
       "text": [
        "<IPython.core.display.Javascript at 0x5da26f60>"
       ]
      },
      {
       "javascript": [
        "$('div#36abd297-8fd4-4568-988c-774e0fe24bde').text('ETA:  0:00:00');"
       ],
       "metadata": {},
       "output_type": "display_data",
       "text": [
        "<IPython.core.display.Javascript at 0x5da26eb8>"
       ]
      },
      {
       "javascript": [
        "$('div#a359e94f-26aa-4adf-992c-6622630c312c').text('540 of 1498');"
       ],
       "metadata": {},
       "output_type": "display_data",
       "text": [
        "<IPython.core.display.Javascript at 0x2f9a9860>"
       ]
      },
      {
       "javascript": [
        "$('div#c95c068a-ed1a-44b2-aecc-be4e8a26d1ff').text(' 36%');"
       ],
       "metadata": {},
       "output_type": "display_data",
       "text": [
        "<IPython.core.display.Javascript at 0x2f9a97f0>"
       ]
      },
      {
       "javascript": [
        "\n",
        "        var $myPB = $(\"div#2bf93351-5e27-414e-8506-1aff7d48d552\")\n",
        "        if ($myPB.hasClass('ui-progressbar')) {\n",
        "            $myPB.progressbar('value', 540);\n",
        "        } else {\n",
        "            $myPB.progressbar({value: 0, max: 1498});\n",
        "        }\n",
        "        "
       ],
       "metadata": {},
       "output_type": "display_data",
       "text": [
        "<IPython.core.display.Javascript at 0x5da26f60>"
       ]
      },
      {
       "javascript": [
        "$('div#36abd297-8fd4-4568-988c-774e0fe24bde').text('ETA:  0:00:00');"
       ],
       "metadata": {},
       "output_type": "display_data",
       "text": [
        "<IPython.core.display.Javascript at 0x5da26eb8>"
       ]
      },
      {
       "javascript": [
        "$('div#a359e94f-26aa-4adf-992c-6622630c312c').text('555 of 1498');"
       ],
       "metadata": {},
       "output_type": "display_data",
       "text": [
        "<IPython.core.display.Javascript at 0x2f9a9908>"
       ]
      },
      {
       "javascript": [
        "$('div#c95c068a-ed1a-44b2-aecc-be4e8a26d1ff').text(' 37%');"
       ],
       "metadata": {},
       "output_type": "display_data",
       "text": [
        "<IPython.core.display.Javascript at 0x2f9a98d0>"
       ]
      },
      {
       "javascript": [
        "\n",
        "        var $myPB = $(\"div#2bf93351-5e27-414e-8506-1aff7d48d552\")\n",
        "        if ($myPB.hasClass('ui-progressbar')) {\n",
        "            $myPB.progressbar('value', 555);\n",
        "        } else {\n",
        "            $myPB.progressbar({value: 0, max: 1498});\n",
        "        }\n",
        "        "
       ],
       "metadata": {},
       "output_type": "display_data",
       "text": [
        "<IPython.core.display.Javascript at 0x5da26f60>"
       ]
      },
      {
       "javascript": [
        "$('div#36abd297-8fd4-4568-988c-774e0fe24bde').text('ETA:  0:00:00');"
       ],
       "metadata": {},
       "output_type": "display_data",
       "text": [
        "<IPython.core.display.Javascript at 0x5da26eb8>"
       ]
      },
      {
       "javascript": [
        "$('div#a359e94f-26aa-4adf-992c-6622630c312c').text('570 of 1498');"
       ],
       "metadata": {},
       "output_type": "display_data",
       "text": [
        "<IPython.core.display.Javascript at 0x2f9a96d8>"
       ]
      },
      {
       "javascript": [
        "$('div#c95c068a-ed1a-44b2-aecc-be4e8a26d1ff').text(' 38%');"
       ],
       "metadata": {},
       "output_type": "display_data",
       "text": [
        "<IPython.core.display.Javascript at 0x2f9a9860>"
       ]
      },
      {
       "javascript": [
        "\n",
        "        var $myPB = $(\"div#2bf93351-5e27-414e-8506-1aff7d48d552\")\n",
        "        if ($myPB.hasClass('ui-progressbar')) {\n",
        "            $myPB.progressbar('value', 570);\n",
        "        } else {\n",
        "            $myPB.progressbar({value: 0, max: 1498});\n",
        "        }\n",
        "        "
       ],
       "metadata": {},
       "output_type": "display_data",
       "text": [
        "<IPython.core.display.Javascript at 0x5da26f60>"
       ]
      },
      {
       "javascript": [
        "$('div#36abd297-8fd4-4568-988c-774e0fe24bde').text('ETA:  0:00:00');"
       ],
       "metadata": {},
       "output_type": "display_data",
       "text": [
        "<IPython.core.display.Javascript at 0x5da26eb8>"
       ]
      },
      {
       "javascript": [
        "$('div#a359e94f-26aa-4adf-992c-6622630c312c').text('585 of 1498');"
       ],
       "metadata": {},
       "output_type": "display_data",
       "text": [
        "<IPython.core.display.Javascript at 0x2f9a9860>"
       ]
      },
      {
       "javascript": [
        "$('div#c95c068a-ed1a-44b2-aecc-be4e8a26d1ff').text(' 39%');"
       ],
       "metadata": {},
       "output_type": "display_data",
       "text": [
        "<IPython.core.display.Javascript at 0x2f9a99e8>"
       ]
      },
      {
       "javascript": [
        "\n",
        "        var $myPB = $(\"div#2bf93351-5e27-414e-8506-1aff7d48d552\")\n",
        "        if ($myPB.hasClass('ui-progressbar')) {\n",
        "            $myPB.progressbar('value', 585);\n",
        "        } else {\n",
        "            $myPB.progressbar({value: 0, max: 1498});\n",
        "        }\n",
        "        "
       ],
       "metadata": {},
       "output_type": "display_data",
       "text": [
        "<IPython.core.display.Javascript at 0x5da26f60>"
       ]
      },
      {
       "javascript": [
        "$('div#36abd297-8fd4-4568-988c-774e0fe24bde').text('ETA:  0:00:00');"
       ],
       "metadata": {},
       "output_type": "display_data",
       "text": [
        "<IPython.core.display.Javascript at 0x5da26eb8>"
       ]
      },
      {
       "javascript": [
        "$('div#a359e94f-26aa-4adf-992c-6622630c312c').text('600 of 1498');"
       ],
       "metadata": {},
       "output_type": "display_data",
       "text": [
        "<IPython.core.display.Javascript at 0x2f9a99b0>"
       ]
      },
      {
       "javascript": [
        "$('div#c95c068a-ed1a-44b2-aecc-be4e8a26d1ff').text(' 40%');"
       ],
       "metadata": {},
       "output_type": "display_data",
       "text": [
        "<IPython.core.display.Javascript at 0x2f9a99e8>"
       ]
      },
      {
       "javascript": [
        "\n",
        "        var $myPB = $(\"div#2bf93351-5e27-414e-8506-1aff7d48d552\")\n",
        "        if ($myPB.hasClass('ui-progressbar')) {\n",
        "            $myPB.progressbar('value', 600);\n",
        "        } else {\n",
        "            $myPB.progressbar({value: 0, max: 1498});\n",
        "        }\n",
        "        "
       ],
       "metadata": {},
       "output_type": "display_data",
       "text": [
        "<IPython.core.display.Javascript at 0x5da26f60>"
       ]
      },
      {
       "javascript": [
        "$('div#36abd297-8fd4-4568-988c-774e0fe24bde').text('ETA:  0:00:00');"
       ],
       "metadata": {},
       "output_type": "display_data",
       "text": [
        "<IPython.core.display.Javascript at 0x5da26eb8>"
       ]
      },
      {
       "javascript": [
        "$('div#a359e94f-26aa-4adf-992c-6622630c312c').text('615 of 1498');"
       ],
       "metadata": {},
       "output_type": "display_data",
       "text": [
        "<IPython.core.display.Javascript at 0x2f9a9748>"
       ]
      },
      {
       "javascript": [
        "$('div#c95c068a-ed1a-44b2-aecc-be4e8a26d1ff').text(' 41%');"
       ],
       "metadata": {},
       "output_type": "display_data",
       "text": [
        "<IPython.core.display.Javascript at 0x2f9a99e8>"
       ]
      },
      {
       "javascript": [
        "\n",
        "        var $myPB = $(\"div#2bf93351-5e27-414e-8506-1aff7d48d552\")\n",
        "        if ($myPB.hasClass('ui-progressbar')) {\n",
        "            $myPB.progressbar('value', 615);\n",
        "        } else {\n",
        "            $myPB.progressbar({value: 0, max: 1498});\n",
        "        }\n",
        "        "
       ],
       "metadata": {},
       "output_type": "display_data",
       "text": [
        "<IPython.core.display.Javascript at 0x5da26f60>"
       ]
      },
      {
       "javascript": [
        "$('div#36abd297-8fd4-4568-988c-774e0fe24bde').text('ETA:  0:00:00');"
       ],
       "metadata": {},
       "output_type": "display_data",
       "text": [
        "<IPython.core.display.Javascript at 0x5da26eb8>"
       ]
      },
      {
       "javascript": [
        "$('div#a359e94f-26aa-4adf-992c-6622630c312c').text('630 of 1498');"
       ],
       "metadata": {},
       "output_type": "display_data",
       "text": [
        "<IPython.core.display.Javascript at 0x2f9a99e8>"
       ]
      },
      {
       "javascript": [
        "$('div#c95c068a-ed1a-44b2-aecc-be4e8a26d1ff').text(' 42%');"
       ],
       "metadata": {},
       "output_type": "display_data",
       "text": [
        "<IPython.core.display.Javascript at 0x2f9a9860>"
       ]
      },
      {
       "javascript": [
        "\n",
        "        var $myPB = $(\"div#2bf93351-5e27-414e-8506-1aff7d48d552\")\n",
        "        if ($myPB.hasClass('ui-progressbar')) {\n",
        "            $myPB.progressbar('value', 630);\n",
        "        } else {\n",
        "            $myPB.progressbar({value: 0, max: 1498});\n",
        "        }\n",
        "        "
       ],
       "metadata": {},
       "output_type": "display_data",
       "text": [
        "<IPython.core.display.Javascript at 0x5da26f60>"
       ]
      },
      {
       "javascript": [
        "$('div#36abd297-8fd4-4568-988c-774e0fe24bde').text('ETA:  0:00:00');"
       ],
       "metadata": {},
       "output_type": "display_data",
       "text": [
        "<IPython.core.display.Javascript at 0x5da26eb8>"
       ]
      },
      {
       "javascript": [
        "$('div#a359e94f-26aa-4adf-992c-6622630c312c').text('645 of 1498');"
       ],
       "metadata": {},
       "output_type": "display_data",
       "text": [
        "<IPython.core.display.Javascript at 0x2f9a9748>"
       ]
      },
      {
       "javascript": [
        "$('div#c95c068a-ed1a-44b2-aecc-be4e8a26d1ff').text(' 43%');"
       ],
       "metadata": {},
       "output_type": "display_data",
       "text": [
        "<IPython.core.display.Javascript at 0x2f9a9a58>"
       ]
      },
      {
       "javascript": [
        "\n",
        "        var $myPB = $(\"div#2bf93351-5e27-414e-8506-1aff7d48d552\")\n",
        "        if ($myPB.hasClass('ui-progressbar')) {\n",
        "            $myPB.progressbar('value', 645);\n",
        "        } else {\n",
        "            $myPB.progressbar({value: 0, max: 1498});\n",
        "        }\n",
        "        "
       ],
       "metadata": {},
       "output_type": "display_data",
       "text": [
        "<IPython.core.display.Javascript at 0x5da26f60>"
       ]
      },
      {
       "javascript": [
        "$('div#36abd297-8fd4-4568-988c-774e0fe24bde').text('ETA:  0:00:00');"
       ],
       "metadata": {},
       "output_type": "display_data",
       "text": [
        "<IPython.core.display.Javascript at 0x5da26eb8>"
       ]
      },
      {
       "javascript": [
        "$('div#a359e94f-26aa-4adf-992c-6622630c312c').text('660 of 1498');"
       ],
       "metadata": {},
       "output_type": "display_data",
       "text": [
        "<IPython.core.display.Javascript at 0x2f9a9908>"
       ]
      },
      {
       "javascript": [
        "$('div#c95c068a-ed1a-44b2-aecc-be4e8a26d1ff').text(' 44%');"
       ],
       "metadata": {},
       "output_type": "display_data",
       "text": [
        "<IPython.core.display.Javascript at 0x2f9a9a58>"
       ]
      },
      {
       "javascript": [
        "\n",
        "        var $myPB = $(\"div#2bf93351-5e27-414e-8506-1aff7d48d552\")\n",
        "        if ($myPB.hasClass('ui-progressbar')) {\n",
        "            $myPB.progressbar('value', 660);\n",
        "        } else {\n",
        "            $myPB.progressbar({value: 0, max: 1498});\n",
        "        }\n",
        "        "
       ],
       "metadata": {},
       "output_type": "display_data",
       "text": [
        "<IPython.core.display.Javascript at 0x5da26f60>"
       ]
      },
      {
       "javascript": [
        "$('div#36abd297-8fd4-4568-988c-774e0fe24bde').text('ETA:  0:00:00');"
       ],
       "metadata": {},
       "output_type": "display_data",
       "text": [
        "<IPython.core.display.Javascript at 0x5da26eb8>"
       ]
      },
      {
       "javascript": [
        "$('div#a359e94f-26aa-4adf-992c-6622630c312c').text('675 of 1498');"
       ],
       "metadata": {},
       "output_type": "display_data",
       "text": [
        "<IPython.core.display.Javascript at 0x2f9a9ac8>"
       ]
      },
      {
       "javascript": [
        "$('div#c95c068a-ed1a-44b2-aecc-be4e8a26d1ff').text(' 45%');"
       ],
       "metadata": {},
       "output_type": "display_data",
       "text": [
        "<IPython.core.display.Javascript at 0x2f9a9a90>"
       ]
      },
      {
       "javascript": [
        "\n",
        "        var $myPB = $(\"div#2bf93351-5e27-414e-8506-1aff7d48d552\")\n",
        "        if ($myPB.hasClass('ui-progressbar')) {\n",
        "            $myPB.progressbar('value', 675);\n",
        "        } else {\n",
        "            $myPB.progressbar({value: 0, max: 1498});\n",
        "        }\n",
        "        "
       ],
       "metadata": {},
       "output_type": "display_data",
       "text": [
        "<IPython.core.display.Javascript at 0x5da26f60>"
       ]
      },
      {
       "javascript": [
        "$('div#36abd297-8fd4-4568-988c-774e0fe24bde').text('ETA:  0:00:00');"
       ],
       "metadata": {},
       "output_type": "display_data",
       "text": [
        "<IPython.core.display.Javascript at 0x5da26eb8>"
       ]
      },
      {
       "javascript": [
        "$('div#a359e94f-26aa-4adf-992c-6622630c312c').text('690 of 1498');"
       ],
       "metadata": {},
       "output_type": "display_data",
       "text": [
        "<IPython.core.display.Javascript at 0x2f9a9b38>"
       ]
      },
      {
       "javascript": [
        "$('div#c95c068a-ed1a-44b2-aecc-be4e8a26d1ff').text(' 46%');"
       ],
       "metadata": {},
       "output_type": "display_data",
       "text": [
        "<IPython.core.display.Javascript at 0x2f9a9908>"
       ]
      },
      {
       "javascript": [
        "\n",
        "        var $myPB = $(\"div#2bf93351-5e27-414e-8506-1aff7d48d552\")\n",
        "        if ($myPB.hasClass('ui-progressbar')) {\n",
        "            $myPB.progressbar('value', 690);\n",
        "        } else {\n",
        "            $myPB.progressbar({value: 0, max: 1498});\n",
        "        }\n",
        "        "
       ],
       "metadata": {},
       "output_type": "display_data",
       "text": [
        "<IPython.core.display.Javascript at 0x5da26f60>"
       ]
      },
      {
       "javascript": [
        "$('div#36abd297-8fd4-4568-988c-774e0fe24bde').text('ETA:  0:00:00');"
       ],
       "metadata": {},
       "output_type": "display_data",
       "text": [
        "<IPython.core.display.Javascript at 0x5da26eb8>"
       ]
      },
      {
       "javascript": [
        "$('div#a359e94f-26aa-4adf-992c-6622630c312c').text('705 of 1498');"
       ],
       "metadata": {},
       "output_type": "display_data",
       "text": [
        "<IPython.core.display.Javascript at 0x2f9a9ac8>"
       ]
      },
      {
       "javascript": [
        "$('div#c95c068a-ed1a-44b2-aecc-be4e8a26d1ff').text(' 47%');"
       ],
       "metadata": {},
       "output_type": "display_data",
       "text": [
        "<IPython.core.display.Javascript at 0x2f9a9908>"
       ]
      },
      {
       "javascript": [
        "\n",
        "        var $myPB = $(\"div#2bf93351-5e27-414e-8506-1aff7d48d552\")\n",
        "        if ($myPB.hasClass('ui-progressbar')) {\n",
        "            $myPB.progressbar('value', 705);\n",
        "        } else {\n",
        "            $myPB.progressbar({value: 0, max: 1498});\n",
        "        }\n",
        "        "
       ],
       "metadata": {},
       "output_type": "display_data",
       "text": [
        "<IPython.core.display.Javascript at 0x5da26f60>"
       ]
      },
      {
       "javascript": [
        "$('div#36abd297-8fd4-4568-988c-774e0fe24bde').text('ETA:  0:00:00');"
       ],
       "metadata": {},
       "output_type": "display_data",
       "text": [
        "<IPython.core.display.Javascript at 0x5da26eb8>"
       ]
      },
      {
       "javascript": [
        "$('div#a359e94f-26aa-4adf-992c-6622630c312c').text('720 of 1498');"
       ],
       "metadata": {},
       "output_type": "display_data",
       "text": [
        "<IPython.core.display.Javascript at 0x2f9a9c88>"
       ]
      },
      {
       "javascript": [
        "$('div#c95c068a-ed1a-44b2-aecc-be4e8a26d1ff').text(' 48%');"
       ],
       "metadata": {},
       "output_type": "display_data",
       "text": [
        "<IPython.core.display.Javascript at 0x2f9a9c50>"
       ]
      },
      {
       "javascript": [
        "\n",
        "        var $myPB = $(\"div#2bf93351-5e27-414e-8506-1aff7d48d552\")\n",
        "        if ($myPB.hasClass('ui-progressbar')) {\n",
        "            $myPB.progressbar('value', 720);\n",
        "        } else {\n",
        "            $myPB.progressbar({value: 0, max: 1498});\n",
        "        }\n",
        "        "
       ],
       "metadata": {},
       "output_type": "display_data",
       "text": [
        "<IPython.core.display.Javascript at 0x5da26f60>"
       ]
      },
      {
       "javascript": [
        "$('div#36abd297-8fd4-4568-988c-774e0fe24bde').text('ETA:  0:00:00');"
       ],
       "metadata": {},
       "output_type": "display_data",
       "text": [
        "<IPython.core.display.Javascript at 0x5da26eb8>"
       ]
      },
      {
       "javascript": [
        "$('div#a359e94f-26aa-4adf-992c-6622630c312c').text('735 of 1498');"
       ],
       "metadata": {},
       "output_type": "display_data",
       "text": [
        "<IPython.core.display.Javascript at 0x2f9a9c18>"
       ]
      },
      {
       "javascript": [
        "$('div#c95c068a-ed1a-44b2-aecc-be4e8a26d1ff').text(' 49%');"
       ],
       "metadata": {},
       "output_type": "display_data",
       "text": [
        "<IPython.core.display.Javascript at 0x2f9a9c50>"
       ]
      },
      {
       "javascript": [
        "\n",
        "        var $myPB = $(\"div#2bf93351-5e27-414e-8506-1aff7d48d552\")\n",
        "        if ($myPB.hasClass('ui-progressbar')) {\n",
        "            $myPB.progressbar('value', 735);\n",
        "        } else {\n",
        "            $myPB.progressbar({value: 0, max: 1498});\n",
        "        }\n",
        "        "
       ],
       "metadata": {},
       "output_type": "display_data",
       "text": [
        "<IPython.core.display.Javascript at 0x5da26f60>"
       ]
      },
      {
       "javascript": [
        "$('div#36abd297-8fd4-4568-988c-774e0fe24bde').text('ETA:  0:00:00');"
       ],
       "metadata": {},
       "output_type": "display_data",
       "text": [
        "<IPython.core.display.Javascript at 0x5da26eb8>"
       ]
      },
      {
       "javascript": [
        "$('div#a359e94f-26aa-4adf-992c-6622630c312c').text('750 of 1498');"
       ],
       "metadata": {},
       "output_type": "display_data",
       "text": [
        "<IPython.core.display.Javascript at 0x2f9a9c50>"
       ]
      },
      {
       "javascript": [
        "$('div#c95c068a-ed1a-44b2-aecc-be4e8a26d1ff').text(' 50%');"
       ],
       "metadata": {},
       "output_type": "display_data",
       "text": [
        "<IPython.core.display.Javascript at 0x2f9a9cf8>"
       ]
      },
      {
       "javascript": [
        "\n",
        "        var $myPB = $(\"div#2bf93351-5e27-414e-8506-1aff7d48d552\")\n",
        "        if ($myPB.hasClass('ui-progressbar')) {\n",
        "            $myPB.progressbar('value', 750);\n",
        "        } else {\n",
        "            $myPB.progressbar({value: 0, max: 1498});\n",
        "        }\n",
        "        "
       ],
       "metadata": {},
       "output_type": "display_data",
       "text": [
        "<IPython.core.display.Javascript at 0x5da26f60>"
       ]
      },
      {
       "javascript": [
        "$('div#36abd297-8fd4-4568-988c-774e0fe24bde').text('ETA:  0:00:00');"
       ],
       "metadata": {},
       "output_type": "display_data",
       "text": [
        "<IPython.core.display.Javascript at 0x5da26eb8>"
       ]
      },
      {
       "javascript": [
        "$('div#a359e94f-26aa-4adf-992c-6622630c312c').text('765 of 1498');"
       ],
       "metadata": {},
       "output_type": "display_data",
       "text": [
        "<IPython.core.display.Javascript at 0x2f9a9c18>"
       ]
      },
      {
       "javascript": [
        "$('div#c95c068a-ed1a-44b2-aecc-be4e8a26d1ff').text(' 51%');"
       ],
       "metadata": {},
       "output_type": "display_data",
       "text": [
        "<IPython.core.display.Javascript at 0x2f9a9cc0>"
       ]
      },
      {
       "javascript": [
        "\n",
        "        var $myPB = $(\"div#2bf93351-5e27-414e-8506-1aff7d48d552\")\n",
        "        if ($myPB.hasClass('ui-progressbar')) {\n",
        "            $myPB.progressbar('value', 765);\n",
        "        } else {\n",
        "            $myPB.progressbar({value: 0, max: 1498});\n",
        "        }\n",
        "        "
       ],
       "metadata": {},
       "output_type": "display_data",
       "text": [
        "<IPython.core.display.Javascript at 0x5da26f60>"
       ]
      },
      {
       "javascript": [
        "$('div#36abd297-8fd4-4568-988c-774e0fe24bde').text('ETA:  0:00:00');"
       ],
       "metadata": {},
       "output_type": "display_data",
       "text": [
        "<IPython.core.display.Javascript at 0x5da26eb8>"
       ]
      },
      {
       "javascript": [
        "$('div#a359e94f-26aa-4adf-992c-6622630c312c').text('780 of 1498');"
       ],
       "metadata": {},
       "output_type": "display_data",
       "text": [
        "<IPython.core.display.Javascript at 0x2f9a9cc0>"
       ]
      },
      {
       "javascript": [
        "$('div#c95c068a-ed1a-44b2-aecc-be4e8a26d1ff').text(' 52%');"
       ],
       "metadata": {},
       "output_type": "display_data",
       "text": [
        "<IPython.core.display.Javascript at 0x2f9a9d68>"
       ]
      },
      {
       "javascript": [
        "\n",
        "        var $myPB = $(\"div#2bf93351-5e27-414e-8506-1aff7d48d552\")\n",
        "        if ($myPB.hasClass('ui-progressbar')) {\n",
        "            $myPB.progressbar('value', 780);\n",
        "        } else {\n",
        "            $myPB.progressbar({value: 0, max: 1498});\n",
        "        }\n",
        "        "
       ],
       "metadata": {},
       "output_type": "display_data",
       "text": [
        "<IPython.core.display.Javascript at 0x5da26f60>"
       ]
      },
      {
       "javascript": [
        "$('div#36abd297-8fd4-4568-988c-774e0fe24bde').text('ETA:  0:00:00');"
       ],
       "metadata": {},
       "output_type": "display_data",
       "text": [
        "<IPython.core.display.Javascript at 0x5da26eb8>"
       ]
      },
      {
       "javascript": [
        "$('div#a359e94f-26aa-4adf-992c-6622630c312c').text('795 of 1498');"
       ],
       "metadata": {},
       "output_type": "display_data",
       "text": [
        "<IPython.core.display.Javascript at 0x2f9a9dd8>"
       ]
      },
      {
       "javascript": [
        "$('div#c95c068a-ed1a-44b2-aecc-be4e8a26d1ff').text(' 53%');"
       ],
       "metadata": {},
       "output_type": "display_data",
       "text": [
        "<IPython.core.display.Javascript at 0x2f9a9cc0>"
       ]
      },
      {
       "javascript": [
        "\n",
        "        var $myPB = $(\"div#2bf93351-5e27-414e-8506-1aff7d48d552\")\n",
        "        if ($myPB.hasClass('ui-progressbar')) {\n",
        "            $myPB.progressbar('value', 795);\n",
        "        } else {\n",
        "            $myPB.progressbar({value: 0, max: 1498});\n",
        "        }\n",
        "        "
       ],
       "metadata": {},
       "output_type": "display_data",
       "text": [
        "<IPython.core.display.Javascript at 0x5da26f60>"
       ]
      },
      {
       "javascript": [
        "$('div#36abd297-8fd4-4568-988c-774e0fe24bde').text('ETA:  0:00:00');"
       ],
       "metadata": {},
       "output_type": "display_data",
       "text": [
        "<IPython.core.display.Javascript at 0x5da26eb8>"
       ]
      },
      {
       "javascript": [
        "$('div#a359e94f-26aa-4adf-992c-6622630c312c').text('810 of 1498');"
       ],
       "metadata": {},
       "output_type": "display_data",
       "text": [
        "<IPython.core.display.Javascript at 0x2f9a9f98>"
       ]
      },
      {
       "javascript": [
        "$('div#c95c068a-ed1a-44b2-aecc-be4e8a26d1ff').text(' 54%');"
       ],
       "metadata": {},
       "output_type": "display_data",
       "text": [
        "<IPython.core.display.Javascript at 0x2f9a9fd0>"
       ]
      },
      {
       "javascript": [
        "\n",
        "        var $myPB = $(\"div#2bf93351-5e27-414e-8506-1aff7d48d552\")\n",
        "        if ($myPB.hasClass('ui-progressbar')) {\n",
        "            $myPB.progressbar('value', 810);\n",
        "        } else {\n",
        "            $myPB.progressbar({value: 0, max: 1498});\n",
        "        }\n",
        "        "
       ],
       "metadata": {},
       "output_type": "display_data",
       "text": [
        "<IPython.core.display.Javascript at 0x2f9a9fd0>"
       ]
      },
      {
       "javascript": [
        "$('div#36abd297-8fd4-4568-988c-774e0fe24bde').text('ETA:  0:00:00');"
       ],
       "metadata": {},
       "output_type": "display_data",
       "text": [
        "<IPython.core.display.Javascript at 0x2f9a9f98>"
       ]
      },
      {
       "javascript": [
        "$('div#a359e94f-26aa-4adf-992c-6622630c312c').text('825 of 1498');"
       ],
       "metadata": {},
       "output_type": "display_data",
       "text": [
        "<IPython.core.display.Javascript at 0x99f230b8>"
       ]
      },
      {
       "javascript": [
        "$('div#c95c068a-ed1a-44b2-aecc-be4e8a26d1ff').text(' 55%');"
       ],
       "metadata": {},
       "output_type": "display_data",
       "text": [
        "<IPython.core.display.Javascript at 0x99f230f0>"
       ]
      },
      {
       "javascript": [
        "\n",
        "        var $myPB = $(\"div#2bf93351-5e27-414e-8506-1aff7d48d552\")\n",
        "        if ($myPB.hasClass('ui-progressbar')) {\n",
        "            $myPB.progressbar('value', 825);\n",
        "        } else {\n",
        "            $myPB.progressbar({value: 0, max: 1498});\n",
        "        }\n",
        "        "
       ],
       "metadata": {},
       "output_type": "display_data",
       "text": [
        "<IPython.core.display.Javascript at 0x2f9a9fd0>"
       ]
      },
      {
       "javascript": [
        "$('div#36abd297-8fd4-4568-988c-774e0fe24bde').text('ETA:  0:00:00');"
       ],
       "metadata": {},
       "output_type": "display_data",
       "text": [
        "<IPython.core.display.Javascript at 0x2f9a9f98>"
       ]
      },
      {
       "javascript": [
        "$('div#a359e94f-26aa-4adf-992c-6622630c312c').text('840 of 1498');"
       ],
       "metadata": {},
       "output_type": "display_data",
       "text": [
        "<IPython.core.display.Javascript at 0x99f230f0>"
       ]
      },
      {
       "javascript": [
        "$('div#c95c068a-ed1a-44b2-aecc-be4e8a26d1ff').text(' 56%');"
       ],
       "metadata": {},
       "output_type": "display_data",
       "text": [
        "<IPython.core.display.Javascript at 0x99f23208>"
       ]
      },
      {
       "javascript": [
        "\n",
        "        var $myPB = $(\"div#2bf93351-5e27-414e-8506-1aff7d48d552\")\n",
        "        if ($myPB.hasClass('ui-progressbar')) {\n",
        "            $myPB.progressbar('value', 840);\n",
        "        } else {\n",
        "            $myPB.progressbar({value: 0, max: 1498});\n",
        "        }\n",
        "        "
       ],
       "metadata": {},
       "output_type": "display_data",
       "text": [
        "<IPython.core.display.Javascript at 0x2f9a9fd0>"
       ]
      },
      {
       "javascript": [
        "$('div#36abd297-8fd4-4568-988c-774e0fe24bde').text('ETA:  0:00:00');"
       ],
       "metadata": {},
       "output_type": "display_data",
       "text": [
        "<IPython.core.display.Javascript at 0x2f9a9f98>"
       ]
      },
      {
       "javascript": [
        "$('div#a359e94f-26aa-4adf-992c-6622630c312c').text('855 of 1498');"
       ],
       "metadata": {},
       "output_type": "display_data",
       "text": [
        "<IPython.core.display.Javascript at 0x99f23208>"
       ]
      },
      {
       "javascript": [
        "$('div#c95c068a-ed1a-44b2-aecc-be4e8a26d1ff').text(' 57%');"
       ],
       "metadata": {},
       "output_type": "display_data",
       "text": [
        "<IPython.core.display.Javascript at 0x99f230b8>"
       ]
      },
      {
       "javascript": [
        "\n",
        "        var $myPB = $(\"div#2bf93351-5e27-414e-8506-1aff7d48d552\")\n",
        "        if ($myPB.hasClass('ui-progressbar')) {\n",
        "            $myPB.progressbar('value', 855);\n",
        "        } else {\n",
        "            $myPB.progressbar({value: 0, max: 1498});\n",
        "        }\n",
        "        "
       ],
       "metadata": {},
       "output_type": "display_data",
       "text": [
        "<IPython.core.display.Javascript at 0x2f9a9fd0>"
       ]
      },
      {
       "javascript": [
        "$('div#36abd297-8fd4-4568-988c-774e0fe24bde').text('ETA:  0:00:00');"
       ],
       "metadata": {},
       "output_type": "display_data",
       "text": [
        "<IPython.core.display.Javascript at 0x2f9a9f98>"
       ]
      },
      {
       "javascript": [
        "$('div#a359e94f-26aa-4adf-992c-6622630c312c').text('870 of 1498');"
       ],
       "metadata": {},
       "output_type": "display_data",
       "text": [
        "<IPython.core.display.Javascript at 0x99f23128>"
       ]
      },
      {
       "javascript": [
        "$('div#c95c068a-ed1a-44b2-aecc-be4e8a26d1ff').text(' 58%');"
       ],
       "metadata": {},
       "output_type": "display_data",
       "text": [
        "<IPython.core.display.Javascript at 0x99f23278>"
       ]
      },
      {
       "javascript": [
        "\n",
        "        var $myPB = $(\"div#2bf93351-5e27-414e-8506-1aff7d48d552\")\n",
        "        if ($myPB.hasClass('ui-progressbar')) {\n",
        "            $myPB.progressbar('value', 870);\n",
        "        } else {\n",
        "            $myPB.progressbar({value: 0, max: 1498});\n",
        "        }\n",
        "        "
       ],
       "metadata": {},
       "output_type": "display_data",
       "text": [
        "<IPython.core.display.Javascript at 0x2f9a9fd0>"
       ]
      },
      {
       "javascript": [
        "$('div#36abd297-8fd4-4568-988c-774e0fe24bde').text('ETA:  0:00:00');"
       ],
       "metadata": {},
       "output_type": "display_data",
       "text": [
        "<IPython.core.display.Javascript at 0x2f9a9f98>"
       ]
      },
      {
       "javascript": [
        "$('div#a359e94f-26aa-4adf-992c-6622630c312c').text('885 of 1498');"
       ],
       "metadata": {},
       "output_type": "display_data",
       "text": [
        "<IPython.core.display.Javascript at 0x99f23198>"
       ]
      },
      {
       "javascript": [
        "$('div#c95c068a-ed1a-44b2-aecc-be4e8a26d1ff').text(' 59%');"
       ],
       "metadata": {},
       "output_type": "display_data",
       "text": [
        "<IPython.core.display.Javascript at 0x99f232e8>"
       ]
      },
      {
       "javascript": [
        "\n",
        "        var $myPB = $(\"div#2bf93351-5e27-414e-8506-1aff7d48d552\")\n",
        "        if ($myPB.hasClass('ui-progressbar')) {\n",
        "            $myPB.progressbar('value', 885);\n",
        "        } else {\n",
        "            $myPB.progressbar({value: 0, max: 1498});\n",
        "        }\n",
        "        "
       ],
       "metadata": {},
       "output_type": "display_data",
       "text": [
        "<IPython.core.display.Javascript at 0x2f9a9fd0>"
       ]
      },
      {
       "javascript": [
        "$('div#36abd297-8fd4-4568-988c-774e0fe24bde').text('ETA:  0:00:00');"
       ],
       "metadata": {},
       "output_type": "display_data",
       "text": [
        "<IPython.core.display.Javascript at 0x2f9a9f98>"
       ]
      },
      {
       "javascript": [
        "$('div#a359e94f-26aa-4adf-992c-6622630c312c').text('900 of 1498');"
       ],
       "metadata": {},
       "output_type": "display_data",
       "text": [
        "<IPython.core.display.Javascript at 0x99f23390>"
       ]
      },
      {
       "javascript": [
        "$('div#c95c068a-ed1a-44b2-aecc-be4e8a26d1ff').text(' 60%');"
       ],
       "metadata": {},
       "output_type": "display_data",
       "text": [
        "<IPython.core.display.Javascript at 0x99f23128>"
       ]
      },
      {
       "javascript": [
        "\n",
        "        var $myPB = $(\"div#2bf93351-5e27-414e-8506-1aff7d48d552\")\n",
        "        if ($myPB.hasClass('ui-progressbar')) {\n",
        "            $myPB.progressbar('value', 900);\n",
        "        } else {\n",
        "            $myPB.progressbar({value: 0, max: 1498});\n",
        "        }\n",
        "        "
       ],
       "metadata": {},
       "output_type": "display_data",
       "text": [
        "<IPython.core.display.Javascript at 0x2f9a9fd0>"
       ]
      },
      {
       "javascript": [
        "$('div#36abd297-8fd4-4568-988c-774e0fe24bde').text('ETA:  0:00:00');"
       ],
       "metadata": {},
       "output_type": "display_data",
       "text": [
        "<IPython.core.display.Javascript at 0x2f9a9f98>"
       ]
      },
      {
       "javascript": [
        "$('div#a359e94f-26aa-4adf-992c-6622630c312c').text('915 of 1498');"
       ],
       "metadata": {},
       "output_type": "display_data",
       "text": [
        "<IPython.core.display.Javascript at 0x99f23198>"
       ]
      },
      {
       "javascript": [
        "$('div#c95c068a-ed1a-44b2-aecc-be4e8a26d1ff').text(' 61%');"
       ],
       "metadata": {},
       "output_type": "display_data",
       "text": [
        "<IPython.core.display.Javascript at 0x99f23128>"
       ]
      },
      {
       "javascript": [
        "\n",
        "        var $myPB = $(\"div#2bf93351-5e27-414e-8506-1aff7d48d552\")\n",
        "        if ($myPB.hasClass('ui-progressbar')) {\n",
        "            $myPB.progressbar('value', 915);\n",
        "        } else {\n",
        "            $myPB.progressbar({value: 0, max: 1498});\n",
        "        }\n",
        "        "
       ],
       "metadata": {},
       "output_type": "display_data",
       "text": [
        "<IPython.core.display.Javascript at 0x2f9a9fd0>"
       ]
      },
      {
       "javascript": [
        "$('div#36abd297-8fd4-4568-988c-774e0fe24bde').text('ETA:  0:00:00');"
       ],
       "metadata": {},
       "output_type": "display_data",
       "text": [
        "<IPython.core.display.Javascript at 0x2f9a9f98>"
       ]
      },
      {
       "javascript": [
        "$('div#a359e94f-26aa-4adf-992c-6622630c312c').text('930 of 1498');"
       ],
       "metadata": {},
       "output_type": "display_data",
       "text": [
        "<IPython.core.display.Javascript at 0x99f23128>"
       ]
      },
      {
       "javascript": [
        "$('div#c95c068a-ed1a-44b2-aecc-be4e8a26d1ff').text(' 62%');"
       ],
       "metadata": {},
       "output_type": "display_data",
       "text": [
        "<IPython.core.display.Javascript at 0x99f234e0>"
       ]
      },
      {
       "javascript": [
        "\n",
        "        var $myPB = $(\"div#2bf93351-5e27-414e-8506-1aff7d48d552\")\n",
        "        if ($myPB.hasClass('ui-progressbar')) {\n",
        "            $myPB.progressbar('value', 930);\n",
        "        } else {\n",
        "            $myPB.progressbar({value: 0, max: 1498});\n",
        "        }\n",
        "        "
       ],
       "metadata": {},
       "output_type": "display_data",
       "text": [
        "<IPython.core.display.Javascript at 0x2f9a9fd0>"
       ]
      },
      {
       "javascript": [
        "$('div#36abd297-8fd4-4568-988c-774e0fe24bde').text('ETA:  0:00:00');"
       ],
       "metadata": {},
       "output_type": "display_data",
       "text": [
        "<IPython.core.display.Javascript at 0x2f9a9f98>"
       ]
      },
      {
       "javascript": [
        "$('div#a359e94f-26aa-4adf-992c-6622630c312c').text('945 of 1498');"
       ],
       "metadata": {},
       "output_type": "display_data",
       "text": [
        "<IPython.core.display.Javascript at 0x99f23438>"
       ]
      },
      {
       "javascript": [
        "$('div#c95c068a-ed1a-44b2-aecc-be4e8a26d1ff').text(' 63%');"
       ],
       "metadata": {},
       "output_type": "display_data",
       "text": [
        "<IPython.core.display.Javascript at 0x99f234e0>"
       ]
      },
      {
       "javascript": [
        "\n",
        "        var $myPB = $(\"div#2bf93351-5e27-414e-8506-1aff7d48d552\")\n",
        "        if ($myPB.hasClass('ui-progressbar')) {\n",
        "            $myPB.progressbar('value', 945);\n",
        "        } else {\n",
        "            $myPB.progressbar({value: 0, max: 1498});\n",
        "        }\n",
        "        "
       ],
       "metadata": {},
       "output_type": "display_data",
       "text": [
        "<IPython.core.display.Javascript at 0x2f9a9fd0>"
       ]
      },
      {
       "javascript": [
        "$('div#36abd297-8fd4-4568-988c-774e0fe24bde').text('ETA:  0:00:00');"
       ],
       "metadata": {},
       "output_type": "display_data",
       "text": [
        "<IPython.core.display.Javascript at 0x2f9a9f98>"
       ]
      },
      {
       "javascript": [
        "$('div#a359e94f-26aa-4adf-992c-6622630c312c').text('960 of 1498');"
       ],
       "metadata": {},
       "output_type": "display_data",
       "text": [
        "<IPython.core.display.Javascript at 0x99f23198>"
       ]
      },
      {
       "javascript": [
        "$('div#c95c068a-ed1a-44b2-aecc-be4e8a26d1ff').text(' 64%');"
       ],
       "metadata": {},
       "output_type": "display_data",
       "text": [
        "<IPython.core.display.Javascript at 0x99f23470>"
       ]
      },
      {
       "javascript": [
        "\n",
        "        var $myPB = $(\"div#2bf93351-5e27-414e-8506-1aff7d48d552\")\n",
        "        if ($myPB.hasClass('ui-progressbar')) {\n",
        "            $myPB.progressbar('value', 960);\n",
        "        } else {\n",
        "            $myPB.progressbar({value: 0, max: 1498});\n",
        "        }\n",
        "        "
       ],
       "metadata": {},
       "output_type": "display_data",
       "text": [
        "<IPython.core.display.Javascript at 0x2f9a9fd0>"
       ]
      },
      {
       "javascript": [
        "$('div#36abd297-8fd4-4568-988c-774e0fe24bde').text('ETA:  0:00:00');"
       ],
       "metadata": {},
       "output_type": "display_data",
       "text": [
        "<IPython.core.display.Javascript at 0x2f9a9f98>"
       ]
      },
      {
       "javascript": [
        "$('div#a359e94f-26aa-4adf-992c-6622630c312c').text('975 of 1498');"
       ],
       "metadata": {},
       "output_type": "display_data",
       "text": [
        "<IPython.core.display.Javascript at 0x99f23128>"
       ]
      },
      {
       "javascript": [
        "$('div#c95c068a-ed1a-44b2-aecc-be4e8a26d1ff').text(' 65%');"
       ],
       "metadata": {},
       "output_type": "display_data",
       "text": [
        "<IPython.core.display.Javascript at 0x99f23470>"
       ]
      },
      {
       "javascript": [
        "\n",
        "        var $myPB = $(\"div#2bf93351-5e27-414e-8506-1aff7d48d552\")\n",
        "        if ($myPB.hasClass('ui-progressbar')) {\n",
        "            $myPB.progressbar('value', 975);\n",
        "        } else {\n",
        "            $myPB.progressbar({value: 0, max: 1498});\n",
        "        }\n",
        "        "
       ],
       "metadata": {},
       "output_type": "display_data",
       "text": [
        "<IPython.core.display.Javascript at 0x2f9a9fd0>"
       ]
      },
      {
       "javascript": [
        "$('div#36abd297-8fd4-4568-988c-774e0fe24bde').text('ETA:  0:00:00');"
       ],
       "metadata": {},
       "output_type": "display_data",
       "text": [
        "<IPython.core.display.Javascript at 0x2f9a9f98>"
       ]
      },
      {
       "javascript": [
        "$('div#a359e94f-26aa-4adf-992c-6622630c312c').text('990 of 1498');"
       ],
       "metadata": {},
       "output_type": "display_data",
       "text": [
        "<IPython.core.display.Javascript at 0x99f23390>"
       ]
      },
      {
       "javascript": [
        "$('div#c95c068a-ed1a-44b2-aecc-be4e8a26d1ff').text(' 66%');"
       ],
       "metadata": {},
       "output_type": "display_data",
       "text": [
        "<IPython.core.display.Javascript at 0x99f23470>"
       ]
      },
      {
       "javascript": [
        "\n",
        "        var $myPB = $(\"div#2bf93351-5e27-414e-8506-1aff7d48d552\")\n",
        "        if ($myPB.hasClass('ui-progressbar')) {\n",
        "            $myPB.progressbar('value', 990);\n",
        "        } else {\n",
        "            $myPB.progressbar({value: 0, max: 1498});\n",
        "        }\n",
        "        "
       ],
       "metadata": {},
       "output_type": "display_data",
       "text": [
        "<IPython.core.display.Javascript at 0x2f9a9fd0>"
       ]
      },
      {
       "javascript": [
        "$('div#36abd297-8fd4-4568-988c-774e0fe24bde').text('ETA:  0:00:00');"
       ],
       "metadata": {},
       "output_type": "display_data",
       "text": [
        "<IPython.core.display.Javascript at 0x2f9a9f98>"
       ]
      },
      {
       "javascript": [
        "$('div#a359e94f-26aa-4adf-992c-6622630c312c').text('1005 of 1498');"
       ],
       "metadata": {},
       "output_type": "display_data",
       "text": [
        "<IPython.core.display.Javascript at 0x99f23588>"
       ]
      },
      {
       "javascript": [
        "$('div#c95c068a-ed1a-44b2-aecc-be4e8a26d1ff').text(' 67%');"
       ],
       "metadata": {},
       "output_type": "display_data",
       "text": [
        "<IPython.core.display.Javascript at 0x99f23470>"
       ]
      },
      {
       "javascript": [
        "\n",
        "        var $myPB = $(\"div#2bf93351-5e27-414e-8506-1aff7d48d552\")\n",
        "        if ($myPB.hasClass('ui-progressbar')) {\n",
        "            $myPB.progressbar('value', 1005);\n",
        "        } else {\n",
        "            $myPB.progressbar({value: 0, max: 1498});\n",
        "        }\n",
        "        "
       ],
       "metadata": {},
       "output_type": "display_data",
       "text": [
        "<IPython.core.display.Javascript at 0x2f9a9fd0>"
       ]
      },
      {
       "javascript": [
        "$('div#36abd297-8fd4-4568-988c-774e0fe24bde').text('ETA:  0:00:00');"
       ],
       "metadata": {},
       "output_type": "display_data",
       "text": [
        "<IPython.core.display.Javascript at 0x2f9a9f98>"
       ]
      },
      {
       "javascript": [
        "$('div#a359e94f-26aa-4adf-992c-6622630c312c').text('1020 of 1498');"
       ],
       "metadata": {},
       "output_type": "display_data",
       "text": [
        "<IPython.core.display.Javascript at 0x99f23470>"
       ]
      },
      {
       "javascript": [
        "$('div#c95c068a-ed1a-44b2-aecc-be4e8a26d1ff').text(' 68%');"
       ],
       "metadata": {},
       "output_type": "display_data",
       "text": [
        "<IPython.core.display.Javascript at 0x99f23128>"
       ]
      },
      {
       "javascript": [
        "\n",
        "        var $myPB = $(\"div#2bf93351-5e27-414e-8506-1aff7d48d552\")\n",
        "        if ($myPB.hasClass('ui-progressbar')) {\n",
        "            $myPB.progressbar('value', 1020);\n",
        "        } else {\n",
        "            $myPB.progressbar({value: 0, max: 1498});\n",
        "        }\n",
        "        "
       ],
       "metadata": {},
       "output_type": "display_data",
       "text": [
        "<IPython.core.display.Javascript at 0x2f9a9fd0>"
       ]
      },
      {
       "javascript": [
        "$('div#36abd297-8fd4-4568-988c-774e0fe24bde').text('ETA:  0:00:00');"
       ],
       "metadata": {},
       "output_type": "display_data",
       "text": [
        "<IPython.core.display.Javascript at 0x2f9a9f98>"
       ]
      },
      {
       "javascript": [
        "$('div#a359e94f-26aa-4adf-992c-6622630c312c').text('1035 of 1498');"
       ],
       "metadata": {},
       "output_type": "display_data",
       "text": [
        "<IPython.core.display.Javascript at 0x99f23438>"
       ]
      },
      {
       "javascript": [
        "$('div#c95c068a-ed1a-44b2-aecc-be4e8a26d1ff').text(' 69%');"
       ],
       "metadata": {},
       "output_type": "display_data",
       "text": [
        "<IPython.core.display.Javascript at 0x99f23128>"
       ]
      },
      {
       "javascript": [
        "\n",
        "        var $myPB = $(\"div#2bf93351-5e27-414e-8506-1aff7d48d552\")\n",
        "        if ($myPB.hasClass('ui-progressbar')) {\n",
        "            $myPB.progressbar('value', 1035);\n",
        "        } else {\n",
        "            $myPB.progressbar({value: 0, max: 1498});\n",
        "        }\n",
        "        "
       ],
       "metadata": {},
       "output_type": "display_data",
       "text": [
        "<IPython.core.display.Javascript at 0x2f9a9fd0>"
       ]
      },
      {
       "javascript": [
        "$('div#36abd297-8fd4-4568-988c-774e0fe24bde').text('ETA:  0:00:00');"
       ],
       "metadata": {},
       "output_type": "display_data",
       "text": [
        "<IPython.core.display.Javascript at 0x2f9a9f98>"
       ]
      },
      {
       "javascript": [
        "$('div#a359e94f-26aa-4adf-992c-6622630c312c').text('1050 of 1498');"
       ],
       "metadata": {},
       "output_type": "display_data",
       "text": [
        "<IPython.core.display.Javascript at 0x99f235f8>"
       ]
      },
      {
       "javascript": [
        "$('div#c95c068a-ed1a-44b2-aecc-be4e8a26d1ff').text(' 70%');"
       ],
       "metadata": {},
       "output_type": "display_data",
       "text": [
        "<IPython.core.display.Javascript at 0x99f23588>"
       ]
      },
      {
       "javascript": [
        "\n",
        "        var $myPB = $(\"div#2bf93351-5e27-414e-8506-1aff7d48d552\")\n",
        "        if ($myPB.hasClass('ui-progressbar')) {\n",
        "            $myPB.progressbar('value', 1050);\n",
        "        } else {\n",
        "            $myPB.progressbar({value: 0, max: 1498});\n",
        "        }\n",
        "        "
       ],
       "metadata": {},
       "output_type": "display_data",
       "text": [
        "<IPython.core.display.Javascript at 0x2f9a9fd0>"
       ]
      },
      {
       "javascript": [
        "$('div#36abd297-8fd4-4568-988c-774e0fe24bde').text('ETA:  0:00:00');"
       ],
       "metadata": {},
       "output_type": "display_data",
       "text": [
        "<IPython.core.display.Javascript at 0x2f9a9f98>"
       ]
      },
      {
       "javascript": [
        "$('div#a359e94f-26aa-4adf-992c-6622630c312c').text('1065 of 1498');"
       ],
       "metadata": {},
       "output_type": "display_data",
       "text": [
        "<IPython.core.display.Javascript at 0x99f23588>"
       ]
      },
      {
       "javascript": [
        "$('div#c95c068a-ed1a-44b2-aecc-be4e8a26d1ff').text(' 71%');"
       ],
       "metadata": {},
       "output_type": "display_data",
       "text": [
        "<IPython.core.display.Javascript at 0x99f23630>"
       ]
      },
      {
       "javascript": [
        "\n",
        "        var $myPB = $(\"div#2bf93351-5e27-414e-8506-1aff7d48d552\")\n",
        "        if ($myPB.hasClass('ui-progressbar')) {\n",
        "            $myPB.progressbar('value', 1065);\n",
        "        } else {\n",
        "            $myPB.progressbar({value: 0, max: 1498});\n",
        "        }\n",
        "        "
       ],
       "metadata": {},
       "output_type": "display_data",
       "text": [
        "<IPython.core.display.Javascript at 0x2f9a9fd0>"
       ]
      },
      {
       "javascript": [
        "$('div#36abd297-8fd4-4568-988c-774e0fe24bde').text('ETA:  0:00:00');"
       ],
       "metadata": {},
       "output_type": "display_data",
       "text": [
        "<IPython.core.display.Javascript at 0x2f9a9f98>"
       ]
      },
      {
       "javascript": [
        "$('div#a359e94f-26aa-4adf-992c-6622630c312c').text('1080 of 1498');"
       ],
       "metadata": {},
       "output_type": "display_data",
       "text": [
        "<IPython.core.display.Javascript at 0x99f23470>"
       ]
      },
      {
       "javascript": [
        "$('div#c95c068a-ed1a-44b2-aecc-be4e8a26d1ff').text(' 72%');"
       ],
       "metadata": {},
       "output_type": "display_data",
       "text": [
        "<IPython.core.display.Javascript at 0x99f236a0>"
       ]
      },
      {
       "javascript": [
        "\n",
        "        var $myPB = $(\"div#2bf93351-5e27-414e-8506-1aff7d48d552\")\n",
        "        if ($myPB.hasClass('ui-progressbar')) {\n",
        "            $myPB.progressbar('value', 1080);\n",
        "        } else {\n",
        "            $myPB.progressbar({value: 0, max: 1498});\n",
        "        }\n",
        "        "
       ],
       "metadata": {},
       "output_type": "display_data",
       "text": [
        "<IPython.core.display.Javascript at 0x2f9a9fd0>"
       ]
      },
      {
       "javascript": [
        "$('div#36abd297-8fd4-4568-988c-774e0fe24bde').text('ETA:  0:00:00');"
       ],
       "metadata": {},
       "output_type": "display_data",
       "text": [
        "<IPython.core.display.Javascript at 0x2f9a9f98>"
       ]
      },
      {
       "javascript": [
        "$('div#a359e94f-26aa-4adf-992c-6622630c312c').text('1095 of 1498');"
       ],
       "metadata": {},
       "output_type": "display_data",
       "text": [
        "<IPython.core.display.Javascript at 0x99f23588>"
       ]
      },
      {
       "javascript": [
        "$('div#c95c068a-ed1a-44b2-aecc-be4e8a26d1ff').text(' 73%');"
       ],
       "metadata": {},
       "output_type": "display_data",
       "text": [
        "<IPython.core.display.Javascript at 0x99f23748>"
       ]
      },
      {
       "javascript": [
        "\n",
        "        var $myPB = $(\"div#2bf93351-5e27-414e-8506-1aff7d48d552\")\n",
        "        if ($myPB.hasClass('ui-progressbar')) {\n",
        "            $myPB.progressbar('value', 1095);\n",
        "        } else {\n",
        "            $myPB.progressbar({value: 0, max: 1498});\n",
        "        }\n",
        "        "
       ],
       "metadata": {},
       "output_type": "display_data",
       "text": [
        "<IPython.core.display.Javascript at 0x2f9a9fd0>"
       ]
      },
      {
       "javascript": [
        "$('div#36abd297-8fd4-4568-988c-774e0fe24bde').text('ETA:  0:00:00');"
       ],
       "metadata": {},
       "output_type": "display_data",
       "text": [
        "<IPython.core.display.Javascript at 0x2f9a9f98>"
       ]
      },
      {
       "javascript": [
        "$('div#a359e94f-26aa-4adf-992c-6622630c312c').text('1110 of 1498');"
       ],
       "metadata": {},
       "output_type": "display_data",
       "text": [
        "<IPython.core.display.Javascript at 0x99f23860>"
       ]
      },
      {
       "javascript": [
        "$('div#c95c068a-ed1a-44b2-aecc-be4e8a26d1ff').text(' 74%');"
       ],
       "metadata": {},
       "output_type": "display_data",
       "text": [
        "<IPython.core.display.Javascript at 0x99f23588>"
       ]
      },
      {
       "javascript": [
        "\n",
        "        var $myPB = $(\"div#2bf93351-5e27-414e-8506-1aff7d48d552\")\n",
        "        if ($myPB.hasClass('ui-progressbar')) {\n",
        "            $myPB.progressbar('value', 1110);\n",
        "        } else {\n",
        "            $myPB.progressbar({value: 0, max: 1498});\n",
        "        }\n",
        "        "
       ],
       "metadata": {},
       "output_type": "display_data",
       "text": [
        "<IPython.core.display.Javascript at 0x2f9a9fd0>"
       ]
      },
      {
       "javascript": [
        "$('div#36abd297-8fd4-4568-988c-774e0fe24bde').text('ETA:  0:00:00');"
       ],
       "metadata": {},
       "output_type": "display_data",
       "text": [
        "<IPython.core.display.Javascript at 0x2f9a9f98>"
       ]
      },
      {
       "javascript": [
        "$('div#a359e94f-26aa-4adf-992c-6622630c312c').text('1125 of 1498');"
       ],
       "metadata": {},
       "output_type": "display_data",
       "text": [
        "<IPython.core.display.Javascript at 0x99f23898>"
       ]
      },
      {
       "javascript": [
        "$('div#c95c068a-ed1a-44b2-aecc-be4e8a26d1ff').text(' 75%');"
       ],
       "metadata": {},
       "output_type": "display_data",
       "text": [
        "<IPython.core.display.Javascript at 0x99f23940>"
       ]
      },
      {
       "javascript": [
        "\n",
        "        var $myPB = $(\"div#2bf93351-5e27-414e-8506-1aff7d48d552\")\n",
        "        if ($myPB.hasClass('ui-progressbar')) {\n",
        "            $myPB.progressbar('value', 1125);\n",
        "        } else {\n",
        "            $myPB.progressbar({value: 0, max: 1498});\n",
        "        }\n",
        "        "
       ],
       "metadata": {},
       "output_type": "display_data",
       "text": [
        "<IPython.core.display.Javascript at 0x2f9a9fd0>"
       ]
      },
      {
       "javascript": [
        "$('div#36abd297-8fd4-4568-988c-774e0fe24bde').text('ETA:  0:00:00');"
       ],
       "metadata": {},
       "output_type": "display_data",
       "text": [
        "<IPython.core.display.Javascript at 0x2f9a9f98>"
       ]
      },
      {
       "javascript": [
        "$('div#a359e94f-26aa-4adf-992c-6622630c312c').text('1140 of 1498');"
       ],
       "metadata": {},
       "output_type": "display_data",
       "text": [
        "<IPython.core.display.Javascript at 0x99f23860>"
       ]
      },
      {
       "javascript": [
        "$('div#c95c068a-ed1a-44b2-aecc-be4e8a26d1ff').text(' 76%');"
       ],
       "metadata": {},
       "output_type": "display_data",
       "text": [
        "<IPython.core.display.Javascript at 0x99f23a58>"
       ]
      },
      {
       "javascript": [
        "\n",
        "        var $myPB = $(\"div#2bf93351-5e27-414e-8506-1aff7d48d552\")\n",
        "        if ($myPB.hasClass('ui-progressbar')) {\n",
        "            $myPB.progressbar('value', 1140);\n",
        "        } else {\n",
        "            $myPB.progressbar({value: 0, max: 1498});\n",
        "        }\n",
        "        "
       ],
       "metadata": {},
       "output_type": "display_data",
       "text": [
        "<IPython.core.display.Javascript at 0x2f9a9fd0>"
       ]
      },
      {
       "javascript": [
        "$('div#36abd297-8fd4-4568-988c-774e0fe24bde').text('ETA:  0:00:00');"
       ],
       "metadata": {},
       "output_type": "display_data",
       "text": [
        "<IPython.core.display.Javascript at 0x2f9a9f98>"
       ]
      },
      {
       "javascript": [
        "$('div#a359e94f-26aa-4adf-992c-6622630c312c').text('1155 of 1498');"
       ],
       "metadata": {},
       "output_type": "display_data",
       "text": [
        "<IPython.core.display.Javascript at 0x99f23a90>"
       ]
      },
      {
       "javascript": [
        "$('div#c95c068a-ed1a-44b2-aecc-be4e8a26d1ff').text(' 77%');"
       ],
       "metadata": {},
       "output_type": "display_data",
       "text": [
        "<IPython.core.display.Javascript at 0x99f23a58>"
       ]
      },
      {
       "javascript": [
        "\n",
        "        var $myPB = $(\"div#2bf93351-5e27-414e-8506-1aff7d48d552\")\n",
        "        if ($myPB.hasClass('ui-progressbar')) {\n",
        "            $myPB.progressbar('value', 1155);\n",
        "        } else {\n",
        "            $myPB.progressbar({value: 0, max: 1498});\n",
        "        }\n",
        "        "
       ],
       "metadata": {},
       "output_type": "display_data",
       "text": [
        "<IPython.core.display.Javascript at 0x2f9a9fd0>"
       ]
      },
      {
       "javascript": [
        "$('div#36abd297-8fd4-4568-988c-774e0fe24bde').text('ETA:  0:00:00');"
       ],
       "metadata": {},
       "output_type": "display_data",
       "text": [
        "<IPython.core.display.Javascript at 0x2f9a9f98>"
       ]
      },
      {
       "javascript": [
        "$('div#a359e94f-26aa-4adf-992c-6622630c312c').text('1170 of 1498');"
       ],
       "metadata": {},
       "output_type": "display_data",
       "text": [
        "<IPython.core.display.Javascript at 0x99f23a58>"
       ]
      },
      {
       "javascript": [
        "$('div#c95c068a-ed1a-44b2-aecc-be4e8a26d1ff').text(' 78%');"
       ],
       "metadata": {},
       "output_type": "display_data",
       "text": [
        "<IPython.core.display.Javascript at 0x99f23b70>"
       ]
      },
      {
       "javascript": [
        "\n",
        "        var $myPB = $(\"div#2bf93351-5e27-414e-8506-1aff7d48d552\")\n",
        "        if ($myPB.hasClass('ui-progressbar')) {\n",
        "            $myPB.progressbar('value', 1170);\n",
        "        } else {\n",
        "            $myPB.progressbar({value: 0, max: 1498});\n",
        "        }\n",
        "        "
       ],
       "metadata": {},
       "output_type": "display_data",
       "text": [
        "<IPython.core.display.Javascript at 0x2f9a9fd0>"
       ]
      },
      {
       "javascript": [
        "$('div#36abd297-8fd4-4568-988c-774e0fe24bde').text('ETA:  0:00:00');"
       ],
       "metadata": {},
       "output_type": "display_data",
       "text": [
        "<IPython.core.display.Javascript at 0x2f9a9f98>"
       ]
      },
      {
       "javascript": [
        "$('div#a359e94f-26aa-4adf-992c-6622630c312c').text('1185 of 1498');"
       ],
       "metadata": {},
       "output_type": "display_data",
       "text": [
        "<IPython.core.display.Javascript at 0x99f23a58>"
       ]
      },
      {
       "javascript": [
        "$('div#c95c068a-ed1a-44b2-aecc-be4e8a26d1ff').text(' 79%');"
       ],
       "metadata": {},
       "output_type": "display_data",
       "text": [
        "<IPython.core.display.Javascript at 0x99f23be0>"
       ]
      },
      {
       "javascript": [
        "\n",
        "        var $myPB = $(\"div#2bf93351-5e27-414e-8506-1aff7d48d552\")\n",
        "        if ($myPB.hasClass('ui-progressbar')) {\n",
        "            $myPB.progressbar('value', 1185);\n",
        "        } else {\n",
        "            $myPB.progressbar({value: 0, max: 1498});\n",
        "        }\n",
        "        "
       ],
       "metadata": {},
       "output_type": "display_data",
       "text": [
        "<IPython.core.display.Javascript at 0x2f9a9fd0>"
       ]
      },
      {
       "javascript": [
        "$('div#36abd297-8fd4-4568-988c-774e0fe24bde').text('ETA:  0:00:00');"
       ],
       "metadata": {},
       "output_type": "display_data",
       "text": [
        "<IPython.core.display.Javascript at 0x2f9a9f98>"
       ]
      },
      {
       "javascript": [
        "$('div#a359e94f-26aa-4adf-992c-6622630c312c').text('1200 of 1498');"
       ],
       "metadata": {},
       "output_type": "display_data",
       "text": [
        "<IPython.core.display.Javascript at 0x99f23cf8>"
       ]
      },
      {
       "javascript": [
        "$('div#c95c068a-ed1a-44b2-aecc-be4e8a26d1ff').text(' 80%');"
       ],
       "metadata": {},
       "output_type": "display_data",
       "text": [
        "<IPython.core.display.Javascript at 0x99f23c18>"
       ]
      },
      {
       "javascript": [
        "\n",
        "        var $myPB = $(\"div#2bf93351-5e27-414e-8506-1aff7d48d552\")\n",
        "        if ($myPB.hasClass('ui-progressbar')) {\n",
        "            $myPB.progressbar('value', 1200);\n",
        "        } else {\n",
        "            $myPB.progressbar({value: 0, max: 1498});\n",
        "        }\n",
        "        "
       ],
       "metadata": {},
       "output_type": "display_data",
       "text": [
        "<IPython.core.display.Javascript at 0x2f9a9fd0>"
       ]
      },
      {
       "javascript": [
        "$('div#36abd297-8fd4-4568-988c-774e0fe24bde').text('ETA:  0:00:00');"
       ],
       "metadata": {},
       "output_type": "display_data",
       "text": [
        "<IPython.core.display.Javascript at 0x2f9a9f98>"
       ]
      },
      {
       "javascript": [
        "$('div#a359e94f-26aa-4adf-992c-6622630c312c').text('1215 of 1498');"
       ],
       "metadata": {},
       "output_type": "display_data",
       "text": [
        "<IPython.core.display.Javascript at 0x99f23d68>"
       ]
      },
      {
       "javascript": [
        "$('div#c95c068a-ed1a-44b2-aecc-be4e8a26d1ff').text(' 81%');"
       ],
       "metadata": {},
       "output_type": "display_data",
       "text": [
        "<IPython.core.display.Javascript at 0x99f23cc0>"
       ]
      },
      {
       "javascript": [
        "\n",
        "        var $myPB = $(\"div#2bf93351-5e27-414e-8506-1aff7d48d552\")\n",
        "        if ($myPB.hasClass('ui-progressbar')) {\n",
        "            $myPB.progressbar('value', 1215);\n",
        "        } else {\n",
        "            $myPB.progressbar({value: 0, max: 1498});\n",
        "        }\n",
        "        "
       ],
       "metadata": {},
       "output_type": "display_data",
       "text": [
        "<IPython.core.display.Javascript at 0x2f9a9fd0>"
       ]
      },
      {
       "javascript": [
        "$('div#36abd297-8fd4-4568-988c-774e0fe24bde').text('ETA:  0:00:00');"
       ],
       "metadata": {},
       "output_type": "display_data",
       "text": [
        "<IPython.core.display.Javascript at 0x2f9a9f98>"
       ]
      },
      {
       "javascript": [
        "$('div#a359e94f-26aa-4adf-992c-6622630c312c').text('1230 of 1498');"
       ],
       "metadata": {},
       "output_type": "display_data",
       "text": [
        "<IPython.core.display.Javascript at 0x99f23da0>"
       ]
      },
      {
       "javascript": [
        "$('div#c95c068a-ed1a-44b2-aecc-be4e8a26d1ff').text(' 82%');"
       ],
       "metadata": {},
       "output_type": "display_data",
       "text": [
        "<IPython.core.display.Javascript at 0x99f23e10>"
       ]
      },
      {
       "javascript": [
        "\n",
        "        var $myPB = $(\"div#2bf93351-5e27-414e-8506-1aff7d48d552\")\n",
        "        if ($myPB.hasClass('ui-progressbar')) {\n",
        "            $myPB.progressbar('value', 1230);\n",
        "        } else {\n",
        "            $myPB.progressbar({value: 0, max: 1498});\n",
        "        }\n",
        "        "
       ],
       "metadata": {},
       "output_type": "display_data",
       "text": [
        "<IPython.core.display.Javascript at 0x2f9a9fd0>"
       ]
      },
      {
       "javascript": [
        "$('div#36abd297-8fd4-4568-988c-774e0fe24bde').text('ETA:  0:00:00');"
       ],
       "metadata": {},
       "output_type": "display_data",
       "text": [
        "<IPython.core.display.Javascript at 0x2f9a9f98>"
       ]
      },
      {
       "javascript": [
        "$('div#a359e94f-26aa-4adf-992c-6622630c312c').text('1245 of 1498');"
       ],
       "metadata": {},
       "output_type": "display_data",
       "text": [
        "<IPython.core.display.Javascript at 0x99f23e48>"
       ]
      },
      {
       "javascript": [
        "$('div#c95c068a-ed1a-44b2-aecc-be4e8a26d1ff').text(' 83%');"
       ],
       "metadata": {},
       "output_type": "display_data",
       "text": [
        "<IPython.core.display.Javascript at 0x99f23e10>"
       ]
      },
      {
       "javascript": [
        "\n",
        "        var $myPB = $(\"div#2bf93351-5e27-414e-8506-1aff7d48d552\")\n",
        "        if ($myPB.hasClass('ui-progressbar')) {\n",
        "            $myPB.progressbar('value', 1245);\n",
        "        } else {\n",
        "            $myPB.progressbar({value: 0, max: 1498});\n",
        "        }\n",
        "        "
       ],
       "metadata": {},
       "output_type": "display_data",
       "text": [
        "<IPython.core.display.Javascript at 0x2f9a9fd0>"
       ]
      },
      {
       "javascript": [
        "$('div#36abd297-8fd4-4568-988c-774e0fe24bde').text('ETA:  0:00:00');"
       ],
       "metadata": {},
       "output_type": "display_data",
       "text": [
        "<IPython.core.display.Javascript at 0x2f9a9f98>"
       ]
      },
      {
       "javascript": [
        "$('div#a359e94f-26aa-4adf-992c-6622630c312c').text('1260 of 1498');"
       ],
       "metadata": {},
       "output_type": "display_data",
       "text": [
        "<IPython.core.display.Javascript at 0x99f23ef0>"
       ]
      },
      {
       "javascript": [
        "$('div#c95c068a-ed1a-44b2-aecc-be4e8a26d1ff').text(' 84%');"
       ],
       "metadata": {},
       "output_type": "display_data",
       "text": [
        "<IPython.core.display.Javascript at 0x99f23e80>"
       ]
      },
      {
       "javascript": [
        "\n",
        "        var $myPB = $(\"div#2bf93351-5e27-414e-8506-1aff7d48d552\")\n",
        "        if ($myPB.hasClass('ui-progressbar')) {\n",
        "            $myPB.progressbar('value', 1260);\n",
        "        } else {\n",
        "            $myPB.progressbar({value: 0, max: 1498});\n",
        "        }\n",
        "        "
       ],
       "metadata": {},
       "output_type": "display_data",
       "text": [
        "<IPython.core.display.Javascript at 0x99f23e80>"
       ]
      },
      {
       "javascript": [
        "$('div#36abd297-8fd4-4568-988c-774e0fe24bde').text('ETA:  0:00:00');"
       ],
       "metadata": {},
       "output_type": "display_data",
       "text": [
        "<IPython.core.display.Javascript at 0x99f23da0>"
       ]
      },
      {
       "javascript": [
        "$('div#a359e94f-26aa-4adf-992c-6622630c312c').text('1275 of 1498');"
       ],
       "metadata": {},
       "output_type": "display_data",
       "text": [
        "<IPython.core.display.Javascript at 0x99f23e48>"
       ]
      },
      {
       "javascript": [
        "$('div#c95c068a-ed1a-44b2-aecc-be4e8a26d1ff').text(' 85%');"
       ],
       "metadata": {},
       "output_type": "display_data",
       "text": [
        "<IPython.core.display.Javascript at 0x99f23f60>"
       ]
      },
      {
       "javascript": [
        "\n",
        "        var $myPB = $(\"div#2bf93351-5e27-414e-8506-1aff7d48d552\")\n",
        "        if ($myPB.hasClass('ui-progressbar')) {\n",
        "            $myPB.progressbar('value', 1275);\n",
        "        } else {\n",
        "            $myPB.progressbar({value: 0, max: 1498});\n",
        "        }\n",
        "        "
       ],
       "metadata": {},
       "output_type": "display_data",
       "text": [
        "<IPython.core.display.Javascript at 0x2f9a9f98>"
       ]
      },
      {
       "javascript": [
        "$('div#36abd297-8fd4-4568-988c-774e0fe24bde').text('ETA:  0:00:00');"
       ],
       "metadata": {},
       "output_type": "display_data",
       "text": [
        "<IPython.core.display.Javascript at 0x2f9a9fd0>"
       ]
      },
      {
       "javascript": [
        "$('div#a359e94f-26aa-4adf-992c-6622630c312c').text('1290 of 1498');"
       ],
       "metadata": {},
       "output_type": "display_data",
       "text": [
        "<IPython.core.display.Javascript at 0x99f23f60>"
       ]
      },
      {
       "javascript": [
        "$('div#c95c068a-ed1a-44b2-aecc-be4e8a26d1ff').text(' 86%');"
       ],
       "metadata": {},
       "output_type": "display_data",
       "text": [
        "<IPython.core.display.Javascript at 0x99f23e80>"
       ]
      },
      {
       "javascript": [
        "\n",
        "        var $myPB = $(\"div#2bf93351-5e27-414e-8506-1aff7d48d552\")\n",
        "        if ($myPB.hasClass('ui-progressbar')) {\n",
        "            $myPB.progressbar('value', 1290);\n",
        "        } else {\n",
        "            $myPB.progressbar({value: 0, max: 1498});\n",
        "        }\n",
        "        "
       ],
       "metadata": {},
       "output_type": "display_data",
       "text": [
        "<IPython.core.display.Javascript at 0x99f23e80>"
       ]
      },
      {
       "javascript": [
        "$('div#36abd297-8fd4-4568-988c-774e0fe24bde').text('ETA:  0:00:00');"
       ],
       "metadata": {},
       "output_type": "display_data",
       "text": [
        "<IPython.core.display.Javascript at 0x99f23e48>"
       ]
      },
      {
       "javascript": [
        "$('div#a359e94f-26aa-4adf-992c-6622630c312c').text('1305 of 1498');"
       ],
       "metadata": {},
       "output_type": "display_data",
       "text": [
        "<IPython.core.display.Javascript at 0x99f23da0>"
       ]
      },
      {
       "javascript": [
        "$('div#c95c068a-ed1a-44b2-aecc-be4e8a26d1ff').text(' 87%');"
       ],
       "metadata": {},
       "output_type": "display_data",
       "text": [
        "<IPython.core.display.Javascript at 0x99f23f60>"
       ]
      },
      {
       "javascript": [
        "\n",
        "        var $myPB = $(\"div#2bf93351-5e27-414e-8506-1aff7d48d552\")\n",
        "        if ($myPB.hasClass('ui-progressbar')) {\n",
        "            $myPB.progressbar('value', 1305);\n",
        "        } else {\n",
        "            $myPB.progressbar({value: 0, max: 1498});\n",
        "        }\n",
        "        "
       ],
       "metadata": {},
       "output_type": "display_data",
       "text": [
        "<IPython.core.display.Javascript at 0x2f9a9f98>"
       ]
      },
      {
       "javascript": [
        "$('div#36abd297-8fd4-4568-988c-774e0fe24bde').text('ETA:  0:00:00');"
       ],
       "metadata": {},
       "output_type": "display_data",
       "text": [
        "<IPython.core.display.Javascript at 0x2f9a9fd0>"
       ]
      },
      {
       "javascript": [
        "$('div#a359e94f-26aa-4adf-992c-6622630c312c').text('1320 of 1498');"
       ],
       "metadata": {},
       "output_type": "display_data",
       "text": [
        "<IPython.core.display.Javascript at 0x99f23f60>"
       ]
      },
      {
       "javascript": [
        "$('div#c95c068a-ed1a-44b2-aecc-be4e8a26d1ff').text(' 88%');"
       ],
       "metadata": {},
       "output_type": "display_data",
       "text": [
        "<IPython.core.display.Javascript at 0x99f23da0>"
       ]
      },
      {
       "javascript": [
        "\n",
        "        var $myPB = $(\"div#2bf93351-5e27-414e-8506-1aff7d48d552\")\n",
        "        if ($myPB.hasClass('ui-progressbar')) {\n",
        "            $myPB.progressbar('value', 1320);\n",
        "        } else {\n",
        "            $myPB.progressbar({value: 0, max: 1498});\n",
        "        }\n",
        "        "
       ],
       "metadata": {},
       "output_type": "display_data",
       "text": [
        "<IPython.core.display.Javascript at 0x99f23da0>"
       ]
      },
      {
       "javascript": [
        "$('div#36abd297-8fd4-4568-988c-774e0fe24bde').text('ETA:  0:00:00');"
       ],
       "metadata": {},
       "output_type": "display_data",
       "text": [
        "<IPython.core.display.Javascript at 0x99f23e80>"
       ]
      },
      {
       "javascript": [
        "$('div#a359e94f-26aa-4adf-992c-6622630c312c').text('1335 of 1498');"
       ],
       "metadata": {},
       "output_type": "display_data",
       "text": [
        "<IPython.core.display.Javascript at 0x99f23f60>"
       ]
      },
      {
       "javascript": [
        "$('div#c95c068a-ed1a-44b2-aecc-be4e8a26d1ff').text(' 89%');"
       ],
       "metadata": {},
       "output_type": "display_data",
       "text": [
        "<IPython.core.display.Javascript at 0x2f9a9f98>"
       ]
      },
      {
       "javascript": [
        "\n",
        "        var $myPB = $(\"div#2bf93351-5e27-414e-8506-1aff7d48d552\")\n",
        "        if ($myPB.hasClass('ui-progressbar')) {\n",
        "            $myPB.progressbar('value', 1335);\n",
        "        } else {\n",
        "            $myPB.progressbar({value: 0, max: 1498});\n",
        "        }\n",
        "        "
       ],
       "metadata": {},
       "output_type": "display_data",
       "text": [
        "<IPython.core.display.Javascript at 0x2f9a9f98>"
       ]
      },
      {
       "javascript": [
        "$('div#36abd297-8fd4-4568-988c-774e0fe24bde').text('ETA:  0:00:00');"
       ],
       "metadata": {},
       "output_type": "display_data",
       "text": [
        "<IPython.core.display.Javascript at 0x2f9a9fd0>"
       ]
      },
      {
       "javascript": [
        "$('div#a359e94f-26aa-4adf-992c-6622630c312c').text('1350 of 1498');"
       ],
       "metadata": {},
       "output_type": "display_data",
       "text": [
        "<IPython.core.display.Javascript at 0x2fa0d0f0>"
       ]
      },
      {
       "javascript": [
        "$('div#c95c068a-ed1a-44b2-aecc-be4e8a26d1ff').text(' 90%');"
       ],
       "metadata": {},
       "output_type": "display_data",
       "text": [
        "<IPython.core.display.Javascript at 0x2fa0d128>"
       ]
      },
      {
       "javascript": [
        "\n",
        "        var $myPB = $(\"div#2bf93351-5e27-414e-8506-1aff7d48d552\")\n",
        "        if ($myPB.hasClass('ui-progressbar')) {\n",
        "            $myPB.progressbar('value', 1350);\n",
        "        } else {\n",
        "            $myPB.progressbar({value: 0, max: 1498});\n",
        "        }\n",
        "        "
       ],
       "metadata": {},
       "output_type": "display_data",
       "text": [
        "<IPython.core.display.Javascript at 0x2f9a9f98>"
       ]
      },
      {
       "javascript": [
        "$('div#36abd297-8fd4-4568-988c-774e0fe24bde').text('ETA:  0:00:00');"
       ],
       "metadata": {},
       "output_type": "display_data",
       "text": [
        "<IPython.core.display.Javascript at 0x2f9a9fd0>"
       ]
      },
      {
       "javascript": [
        "$('div#a359e94f-26aa-4adf-992c-6622630c312c').text('1365 of 1498');"
       ],
       "metadata": {},
       "output_type": "display_data",
       "text": [
        "<IPython.core.display.Javascript at 0x2fa0d240>"
       ]
      },
      {
       "javascript": [
        "$('div#c95c068a-ed1a-44b2-aecc-be4e8a26d1ff').text(' 91%');"
       ],
       "metadata": {},
       "output_type": "display_data",
       "text": [
        "<IPython.core.display.Javascript at 0x2fa0d160>"
       ]
      },
      {
       "javascript": [
        "\n",
        "        var $myPB = $(\"div#2bf93351-5e27-414e-8506-1aff7d48d552\")\n",
        "        if ($myPB.hasClass('ui-progressbar')) {\n",
        "            $myPB.progressbar('value', 1365);\n",
        "        } else {\n",
        "            $myPB.progressbar({value: 0, max: 1498});\n",
        "        }\n",
        "        "
       ],
       "metadata": {},
       "output_type": "display_data",
       "text": [
        "<IPython.core.display.Javascript at 0x2f9a9f98>"
       ]
      },
      {
       "javascript": [
        "$('div#36abd297-8fd4-4568-988c-774e0fe24bde').text('ETA:  0:00:00');"
       ],
       "metadata": {},
       "output_type": "display_data",
       "text": [
        "<IPython.core.display.Javascript at 0x2f9a9fd0>"
       ]
      },
      {
       "javascript": [
        "$('div#a359e94f-26aa-4adf-992c-6622630c312c').text('1380 of 1498');"
       ],
       "metadata": {},
       "output_type": "display_data",
       "text": [
        "<IPython.core.display.Javascript at 0x2fa0d1d0>"
       ]
      },
      {
       "javascript": [
        "$('div#c95c068a-ed1a-44b2-aecc-be4e8a26d1ff').text(' 92%');"
       ],
       "metadata": {},
       "output_type": "display_data",
       "text": [
        "<IPython.core.display.Javascript at 0x2fa0d160>"
       ]
      },
      {
       "javascript": [
        "\n",
        "        var $myPB = $(\"div#2bf93351-5e27-414e-8506-1aff7d48d552\")\n",
        "        if ($myPB.hasClass('ui-progressbar')) {\n",
        "            $myPB.progressbar('value', 1380);\n",
        "        } else {\n",
        "            $myPB.progressbar({value: 0, max: 1498});\n",
        "        }\n",
        "        "
       ],
       "metadata": {},
       "output_type": "display_data",
       "text": [
        "<IPython.core.display.Javascript at 0x2f9a9f98>"
       ]
      },
      {
       "javascript": [
        "$('div#36abd297-8fd4-4568-988c-774e0fe24bde').text('ETA:  0:00:00');"
       ],
       "metadata": {},
       "output_type": "display_data",
       "text": [
        "<IPython.core.display.Javascript at 0x2f9a9fd0>"
       ]
      },
      {
       "javascript": [
        "$('div#a359e94f-26aa-4adf-992c-6622630c312c').text('1395 of 1498');"
       ],
       "metadata": {},
       "output_type": "display_data",
       "text": [
        "<IPython.core.display.Javascript at 0x2fa0d160>"
       ]
      },
      {
       "javascript": [
        "$('div#c95c068a-ed1a-44b2-aecc-be4e8a26d1ff').text(' 93%');"
       ],
       "metadata": {},
       "output_type": "display_data",
       "text": [
        "<IPython.core.display.Javascript at 0x2fa0d2e8>"
       ]
      },
      {
       "javascript": [
        "\n",
        "        var $myPB = $(\"div#2bf93351-5e27-414e-8506-1aff7d48d552\")\n",
        "        if ($myPB.hasClass('ui-progressbar')) {\n",
        "            $myPB.progressbar('value', 1395);\n",
        "        } else {\n",
        "            $myPB.progressbar({value: 0, max: 1498});\n",
        "        }\n",
        "        "
       ],
       "metadata": {},
       "output_type": "display_data",
       "text": [
        "<IPython.core.display.Javascript at 0x2f9a9f98>"
       ]
      },
      {
       "javascript": [
        "$('div#36abd297-8fd4-4568-988c-774e0fe24bde').text('ETA:  0:00:00');"
       ],
       "metadata": {},
       "output_type": "display_data",
       "text": [
        "<IPython.core.display.Javascript at 0x2f9a9fd0>"
       ]
      },
      {
       "javascript": [
        "$('div#a359e94f-26aa-4adf-992c-6622630c312c').text('1410 of 1498');"
       ],
       "metadata": {},
       "output_type": "display_data",
       "text": [
        "<IPython.core.display.Javascript at 0x2fa0d240>"
       ]
      },
      {
       "javascript": [
        "$('div#c95c068a-ed1a-44b2-aecc-be4e8a26d1ff').text(' 94%');"
       ],
       "metadata": {},
       "output_type": "display_data",
       "text": [
        "<IPython.core.display.Javascript at 0x2fa0d0f0>"
       ]
      },
      {
       "javascript": [
        "\n",
        "        var $myPB = $(\"div#2bf93351-5e27-414e-8506-1aff7d48d552\")\n",
        "        if ($myPB.hasClass('ui-progressbar')) {\n",
        "            $myPB.progressbar('value', 1410);\n",
        "        } else {\n",
        "            $myPB.progressbar({value: 0, max: 1498});\n",
        "        }\n",
        "        "
       ],
       "metadata": {},
       "output_type": "display_data",
       "text": [
        "<IPython.core.display.Javascript at 0x2f9a9f98>"
       ]
      },
      {
       "javascript": [
        "$('div#36abd297-8fd4-4568-988c-774e0fe24bde').text('ETA:  0:00:00');"
       ],
       "metadata": {},
       "output_type": "display_data",
       "text": [
        "<IPython.core.display.Javascript at 0x2f9a9fd0>"
       ]
      },
      {
       "javascript": [
        "$('div#a359e94f-26aa-4adf-992c-6622630c312c').text('1425 of 1498');"
       ],
       "metadata": {},
       "output_type": "display_data",
       "text": [
        "<IPython.core.display.Javascript at 0x2fa0d3c8>"
       ]
      },
      {
       "javascript": [
        "$('div#c95c068a-ed1a-44b2-aecc-be4e8a26d1ff').text(' 95%');"
       ],
       "metadata": {},
       "output_type": "display_data",
       "text": [
        "<IPython.core.display.Javascript at 0x2fa0d320>"
       ]
      },
      {
       "javascript": [
        "\n",
        "        var $myPB = $(\"div#2bf93351-5e27-414e-8506-1aff7d48d552\")\n",
        "        if ($myPB.hasClass('ui-progressbar')) {\n",
        "            $myPB.progressbar('value', 1425);\n",
        "        } else {\n",
        "            $myPB.progressbar({value: 0, max: 1498});\n",
        "        }\n",
        "        "
       ],
       "metadata": {},
       "output_type": "display_data",
       "text": [
        "<IPython.core.display.Javascript at 0x2f9a9f98>"
       ]
      },
      {
       "javascript": [
        "$('div#36abd297-8fd4-4568-988c-774e0fe24bde').text('ETA:  0:00:00');"
       ],
       "metadata": {},
       "output_type": "display_data",
       "text": [
        "<IPython.core.display.Javascript at 0x2f9a9fd0>"
       ]
      },
      {
       "javascript": [
        "$('div#a359e94f-26aa-4adf-992c-6622630c312c').text('1440 of 1498');"
       ],
       "metadata": {},
       "output_type": "display_data",
       "text": [
        "<IPython.core.display.Javascript at 0x2fa0d358>"
       ]
      },
      {
       "javascript": [
        "$('div#c95c068a-ed1a-44b2-aecc-be4e8a26d1ff').text(' 96%');"
       ],
       "metadata": {},
       "output_type": "display_data",
       "text": [
        "<IPython.core.display.Javascript at 0x2fa0d320>"
       ]
      },
      {
       "javascript": [
        "\n",
        "        var $myPB = $(\"div#2bf93351-5e27-414e-8506-1aff7d48d552\")\n",
        "        if ($myPB.hasClass('ui-progressbar')) {\n",
        "            $myPB.progressbar('value', 1440);\n",
        "        } else {\n",
        "            $myPB.progressbar({value: 0, max: 1498});\n",
        "        }\n",
        "        "
       ],
       "metadata": {},
       "output_type": "display_data",
       "text": [
        "<IPython.core.display.Javascript at 0x2f9a9f98>"
       ]
      },
      {
       "javascript": [
        "$('div#36abd297-8fd4-4568-988c-774e0fe24bde').text('ETA:  0:00:00');"
       ],
       "metadata": {},
       "output_type": "display_data",
       "text": [
        "<IPython.core.display.Javascript at 0x2f9a9fd0>"
       ]
      },
      {
       "javascript": [
        "$('div#a359e94f-26aa-4adf-992c-6622630c312c').text('1455 of 1498');"
       ],
       "metadata": {},
       "output_type": "display_data",
       "text": [
        "<IPython.core.display.Javascript at 0x2fa0d400>"
       ]
      },
      {
       "javascript": [
        "$('div#c95c068a-ed1a-44b2-aecc-be4e8a26d1ff').text(' 97%');"
       ],
       "metadata": {},
       "output_type": "display_data",
       "text": [
        "<IPython.core.display.Javascript at 0x2fa0d240>"
       ]
      },
      {
       "javascript": [
        "\n",
        "        var $myPB = $(\"div#2bf93351-5e27-414e-8506-1aff7d48d552\")\n",
        "        if ($myPB.hasClass('ui-progressbar')) {\n",
        "            $myPB.progressbar('value', 1455);\n",
        "        } else {\n",
        "            $myPB.progressbar({value: 0, max: 1498});\n",
        "        }\n",
        "        "
       ],
       "metadata": {},
       "output_type": "display_data",
       "text": [
        "<IPython.core.display.Javascript at 0x2f9a9f98>"
       ]
      },
      {
       "javascript": [
        "$('div#36abd297-8fd4-4568-988c-774e0fe24bde').text('ETA:  0:00:00');"
       ],
       "metadata": {},
       "output_type": "display_data",
       "text": [
        "<IPython.core.display.Javascript at 0x2f9a9fd0>"
       ]
      },
      {
       "javascript": [
        "$('div#a359e94f-26aa-4adf-992c-6622630c312c').text('1470 of 1498');"
       ],
       "metadata": {},
       "output_type": "display_data",
       "text": [
        "<IPython.core.display.Javascript at 0x2fa0d5c0>"
       ]
      },
      {
       "javascript": [
        "$('div#c95c068a-ed1a-44b2-aecc-be4e8a26d1ff').text(' 98%');"
       ],
       "metadata": {},
       "output_type": "display_data",
       "text": [
        "<IPython.core.display.Javascript at 0x2fa0d5f8>"
       ]
      },
      {
       "javascript": [
        "\n",
        "        var $myPB = $(\"div#2bf93351-5e27-414e-8506-1aff7d48d552\")\n",
        "        if ($myPB.hasClass('ui-progressbar')) {\n",
        "            $myPB.progressbar('value', 1470);\n",
        "        } else {\n",
        "            $myPB.progressbar({value: 0, max: 1498});\n",
        "        }\n",
        "        "
       ],
       "metadata": {},
       "output_type": "display_data",
       "text": [
        "<IPython.core.display.Javascript at 0x2f9a9f98>"
       ]
      },
      {
       "javascript": [
        "$('div#36abd297-8fd4-4568-988c-774e0fe24bde').text('ETA:  0:00:00');"
       ],
       "metadata": {},
       "output_type": "display_data",
       "text": [
        "<IPython.core.display.Javascript at 0x2f9a9fd0>"
       ]
      },
      {
       "javascript": [
        "$('div#a359e94f-26aa-4adf-992c-6622630c312c').text('1485 of 1498');"
       ],
       "metadata": {},
       "output_type": "display_data",
       "text": [
        "<IPython.core.display.Javascript at 0x2fa0d710>"
       ]
      },
      {
       "javascript": [
        "$('div#c95c068a-ed1a-44b2-aecc-be4e8a26d1ff').text(' 99%');"
       ],
       "metadata": {},
       "output_type": "display_data",
       "text": [
        "<IPython.core.display.Javascript at 0x2fa0d630>"
       ]
      },
      {
       "javascript": [
        "\n",
        "        var $myPB = $(\"div#2bf93351-5e27-414e-8506-1aff7d48d552\")\n",
        "        if ($myPB.hasClass('ui-progressbar')) {\n",
        "            $myPB.progressbar('value', 1485);\n",
        "        } else {\n",
        "            $myPB.progressbar({value: 0, max: 1498});\n",
        "        }\n",
        "        "
       ],
       "metadata": {},
       "output_type": "display_data",
       "text": [
        "<IPython.core.display.Javascript at 0x2f9a9f98>"
       ]
      },
      {
       "javascript": [
        "$('div#36abd297-8fd4-4568-988c-774e0fe24bde').text('ETA:  0:00:00');"
       ],
       "metadata": {},
       "output_type": "display_data",
       "text": [
        "<IPython.core.display.Javascript at 0x2f9a9fd0>"
       ]
      },
      {
       "javascript": [
        "$('div#a359e94f-26aa-4adf-992c-6622630c312c').text('1498 of 1498');"
       ],
       "metadata": {},
       "output_type": "display_data",
       "text": [
        "<IPython.core.display.Javascript at 0x18a86278>"
       ]
      },
      {
       "javascript": [
        "$('div#c95c068a-ed1a-44b2-aecc-be4e8a26d1ff').text('100%');"
       ],
       "metadata": {},
       "output_type": "display_data",
       "text": [
        "<IPython.core.display.Javascript at 0x2fa0d780>"
       ]
      },
      {
       "javascript": [
        "\n",
        "        var $myPB = $(\"div#2bf93351-5e27-414e-8506-1aff7d48d552\")\n",
        "        if ($myPB.hasClass('ui-progressbar')) {\n",
        "            $myPB.progressbar('value', 1498);\n",
        "        } else {\n",
        "            $myPB.progressbar({value: 0, max: 1498});\n",
        "        }\n",
        "        "
       ],
       "metadata": {},
       "output_type": "display_data",
       "text": [
        "<IPython.core.display.Javascript at 0x18a86278>"
       ]
      },
      {
       "javascript": [
        "$('div#36abd297-8fd4-4568-988c-774e0fe24bde').text('Time: 0:00:00');"
       ],
       "metadata": {},
       "output_type": "display_data",
       "text": [
        "<IPython.core.display.Javascript at 0x2f9a9f98>"
       ]
      },
      {
       "javascript": [
        "var element = document.getElementById('6e65faf2-5d97-4237-91c7-9a8ccb55b40e');\n",
        "                    var parent = element.parentNode\n",
        "                    parent.removeChild(element);\n",
        "                    parent.parentElement.remove();"
       ],
       "metadata": {},
       "output_type": "display_data",
       "text": [
        "<IPython.core.display.Javascript at 0x9a05acf8>"
       ]
      },
      {
       "javascript": [
        "this.cleanProgressBar(['6e65faf2-5d97-4237-91c7-9a8ccb55b40e', 'a359e94f-26aa-4adf-992c-6622630c312c', 'c95c068a-ed1a-44b2-aecc-be4e8a26d1ff', '2bf93351-5e27-414e-8506-1aff7d48d552', '36abd297-8fd4-4568-988c-774e0fe24bde'])"
       ],
       "metadata": {},
       "output_type": "display_data",
       "text": [
        "<IPython.core.display.Javascript at 0x2f9a9fd0>"
       ]
      },
      {
       "metadata": {},
       "output_type": "pyout",
       "prompt_number": 71,
       "text": [
        "[('Human Resources Management', 103),\n",
        " ('Office Human Resources', 94),\n",
        " ('period 1 July', 51),\n",
        " ('30 June 2007', 47),\n",
        " ('account peacekeeping operations', 43),\n",
        " ('support account peacekeeping', 43),\n",
        " ('programme budget biennium', 42),\n",
        " ('human resources management', 39),\n",
        " ('peacekeeping operations period', 32),\n",
        " ('budget biennium 2006-2007', 31)]"
       ]
      }
     ],
     "prompt_number": 71
    },
    {
     "cell_type": "code",
     "collapsed": false,
     "input": [
      "title = doc['scrape']['Title']\n",
      "title"
     ],
     "language": "python",
     "metadata": {},
     "outputs": [
      {
       "metadata": {},
       "output_type": "pyout",
       "prompt_number": 72,
       "text": [
        "u'INVESTING IN PEOPLE : REPORT OF THE SECRETARY-GENERAL'"
       ]
      }
     ],
     "prompt_number": 72
    },
    {
     "cell_type": "code",
     "collapsed": false,
     "input": [
      "title_tokens = \" \".join([ s.lower() for s in mun.tokenize_text(title, remove_stopwords=True)])\n",
      "title_tokens"
     ],
     "language": "python",
     "metadata": {},
     "outputs": [
      {
       "metadata": {},
       "output_type": "pyout",
       "prompt_number": 73,
       "text": [
        "u'investing people report secretary-general'"
       ]
      }
     ],
     "prompt_number": 73
    },
    {
     "cell_type": "code",
     "collapsed": false,
     "input": [
      "weights = [{'sent':s,'in_title':0, 'tri':0, 'keyword':0} for s in sent_first]"
     ],
     "language": "python",
     "metadata": {},
     "outputs": [],
     "prompt_number": 74
    },
    {
     "cell_type": "code",
     "collapsed": false,
     "input": [
      "keywords_start=['in order to', 'thus', 'to sum up', 'finally', 'in conclusion', 'to conclude', 'to summerize', 'in summary', 'therefore'\n",
      "                'goal', 'the ultimate goal', 'finally']\n",
      "keywords_body = ['goal', 'summar', 'conclu', 'goal',' aim','objective', 'decide', 'decision', 'focus', 'recommen', 'request']\n",
      "\n",
      "def check_features(sent):\n",
      "    result = {'in_title':0, 'tri':0, 'keyword':0, 'keyword_s':0} \n",
      "    result['tri'] = sum([1 for tri, freq in trigrams.items()[:20] if tri.lower() in sent.lower()])\n",
      "    result['keyword_s'] = sum([1 for k in keywords_start if k in sent.lower()])*2\n",
      "    result['keyword'] = sum([1 for k in keywords_body if k in sent.lower()])\n",
      "    total = sum([v for v in result.itervalues()])\n",
      "#     print total\n",
      "    result['total'] = total\n",
      "    result['sent'] = sent\n",
      "    return result;\n",
      "#     print result\n",
      "#     print result['tri']\n",
      "\n",
      "def get_after_intro(paras):\n",
      "    for i in range(len(paras)):\n",
      "        p = paras[i]\n",
      "        if mun.is_heading(p) and \" \".join(p).lower()=='introduction' and  i<len(paras):\n",
      "#             print paragraphs[i]\n",
      "#             print paragraphs[i+1]\n",
      "            return paras[i+1]\n",
      "            \n",
      "    \n",
      "intro = get_after_intro(paragraphs)\n",
      "results = [check_features(s) for s in sent_first]\n",
      "top_sents = [ r['sent'] for r in results if r['total']>3]\n",
      "# [(r['total'], r['sent']) for r in results if r['total']>3]\n",
      "summary = intro + top_sents\n",
      "summary\n",
      "# intro"
     ],
     "language": "python",
     "metadata": {},
     "outputs": [
      {
       "metadata": {},
       "output_type": "pyout",
       "prompt_number": 81,
       "text": [
        "['The 2005 World Summit, in paragraphs 162 and 163 of General Assembly resolution 60/1, reaffirmed the role of the Secretary-General as the chief administrative officer of the Organization and requested him to make proposals to the Assembly on the conditions and measures necessary for him to carry out his managerial responsibilities effectively.',\n",
        " \"In commending the Secretary-General's previous and ongoing efforts to ensure the effective management of the United Nations and his commitment to updating the Organization, the Assembly also emphasized the need to decide on additional reforms to make more efficient use of the financial and human resources available to the Organization and thus better comply with its principles, objectives and mandates.\",\n",
        " \"The Staff Management Coordination Committee, the highest level of formal consultation between the staff and the management of the United Nations, convened its twenty-seventh session in June 2006 to discuss the Secretary-General's human resources management reform proposals.\",\n",
        " 'Some of the main goals of the new system were (a) to change the culture of the Organization by further empowering staff and managers to discharge their responsibilities and holding them accountable for their actions and their results; (b) to develop a more versatile, multi-skilled and experienced international civil service, on the basis of the predicted needs of the Organization; (c) to select staff on the basis of merit, demonstrated competencies and performance, through a competitive process where the paramount consideration is the necessity of securing the highest standards of efficiency, competence and integrity, with due regard to the importance of recruiting the staff on as wide a geographical basis as possible and to the gender distribution goals set by the General Assembly; (d) to ensure that selection decisions made by the heads of departments or offices are based on objective, job-related criteria, following confirmation by the new central review bodies of compliance with the relevant procedures; and (e) to make recruitment and placement procedures more transparent and timely.',\n",
        " 'Building on recommendations made in the report of the Panel on United Nations Peace Operations (see A/55/305-S/2000/809), as well as policy guidance from the General Assembly and the Office of Human Resources Management, the Department of Peacekeeping Operations has developed and maintained a central roster of pre-cleared civilian candidates available to deploy to United Nations peace operations at short notice.',\n",
        " 'In order to hold managers more accountable for meeting human resources mandates and to reinforce human resources management as a key managerial responsibility, a system of human resources action planning was introduced in 1999.',\n",
        " 'In order to speed up the placement of candidates successful in national competitive examinations, the placement will be managed centrally by the Office of Human Resources Management.',\n",
        " 'The monitoring function of the Office of Human Resources Management will be strengthened in order to assist with the early identification of potential problems, so that they can be addressed in a timely fashion and recorded for further action.',\n",
        " 'The International Civil Service Commission, after considering at its sixty-second session, in July 2006, that the details of the Secretary-General\\'s human resources management reform proposals in his report entitled \"Investing in the United Nations: for a stronger Organization worldwide\" would be submitted to the General Assembly at its sixty-first session, decided as an interim measure to allow maximum flexibility under the current contractual arrangements for staff in peace operations and to recommend the following measures: (a) to remove the four-year limitation on 300-series appointments; (b) to permit the conversion to mission-specific contracts for staff members who have a minimum of four years of service, provided that their functions have been reviewed and found necessary and their performance has been confirmed as fully satisfactory; and (c) permit the reassignment of mission-specific appointees to another mission in a similar capacity to meet the requirements of the Organization.',\n",
        " 'The mechanisms for implementation of a buyout programme would include safeguards in order to prevent arbitrary decisions and to preserve the strategic goals of the Organization.',\n",
        " 'In order to strengthen the human resources information technology function in the Office of Human Resources Management in support of human resources management reform, additional resources for the transitional period from 2007 to 2009 would be required.',\n",
        " 'Finally, the Secretary-General may terminate the appointment of a staff member who holds a permanent appointment if such action would be in the interest of the good administration of the Organization and in accordance with the standards of the Charter, provided that the action is not contested by the staff member concerned.']"
       ]
      }
     ],
     "prompt_number": 81
    },
    {
     "cell_type": "code",
     "collapsed": false,
     "input": [],
     "language": "python",
     "metadata": {},
     "outputs": [],
     "prompt_number": 75
    }
   ],
   "metadata": {}
  }
 ]
}