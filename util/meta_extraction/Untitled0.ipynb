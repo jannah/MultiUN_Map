{
 "metadata": {
  "name": "",
  "signature": "sha256:3eaee2f1a3c81507f3666d1e09400e83aa09d9c3402c62a4aa61b872a5eed6fa"
 },
 "nbformat": 3,
 "nbformat_minor": 0,
 "worksheets": [
  {
   "cells": [
    {
     "cell_type": "code",
     "collapsed": false,
     "input": [
      "'''Sumy requires the following imports'''\n",
      "\n",
      "\n",
      "from sumy.parsers.html import HtmlParser\n",
      "from sumy.parsers.plaintext import PlaintextParser\n",
      "from sumy.nlp.tokenizers import Tokenizer\n",
      "from sumy.summarizers.lsa import LsaSummarizer as Summarizer\n",
      "from sumy.nlp.stemmers import Stemmer\n",
      "from sumy.utils import get_stop_words\n",
      "def sumy_text(paragraphs, sentence_count=5):\n",
      "    text = \"\\n\".join([\" \".join(p) for p in paragraphs])\n",
      "    LANGUAGE = \"english\"\n",
      "    \n",
      "    parser = PlaintextParser.from_string(text,  Tokenizer(LANGUAGE))\n",
      "#     parser = PlaintextParser.from_file(doc_id, Tokenizer(LANGUAGE))\n",
      "    stemmer = Stemmer(LANGUAGE)\n",
      "    summarizer = Summarizer(stemmer)\n",
      "    summarizer.stop_words = get_stop_words(LANGUAGE)\n",
      "    summary_of_doc = [sent for sent in summarizer(parser.document, sentence_count)]\n",
      "    \n",
      "    return summary_of_doc"
     ],
     "language": "python",
     "metadata": {},
     "outputs": [],
     "prompt_number": 2
    },
    {
     "cell_type": "code",
     "collapsed": false,
     "input": [
      "print sumy_text('BLA BLA BLA')"
     ],
     "language": "python",
     "metadata": {},
     "outputs": [
      {
       "output_type": "stream",
       "stream": "stdout",
       "text": [
        "[]\n"
       ]
      }
     ],
     "prompt_number": 3
    }
   ],
   "metadata": {}
  }
 ]
}