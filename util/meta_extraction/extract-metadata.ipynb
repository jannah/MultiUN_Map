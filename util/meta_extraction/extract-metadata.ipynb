{
 "metadata": {
  "name": "",
  "signature": "sha256:366ae158e18b94281e580069e52bf6f5bdde83c79e095294f91202ea510df3f5"
 },
 "nbformat": 3,
 "nbformat_minor": 0,
 "worksheets": [
  {
   "cells": [
    {
     "cell_type": "code",
     "collapsed": false,
     "input": [
      "MODULES_PATH = '''../../modules/multi_un_module.py'''\n",
      "import imp\n",
      "NF = imp.load_source('multi_un_module', MODULES_PATH)\n",
      "import multi_un_module as mun"
     ],
     "language": "python",
     "metadata": {},
     "outputs": [],
     "prompt_number": 1
    },
    {
     "cell_type": "code",
     "collapsed": false,
     "input": [
      "mun.PATH_TO_XML_FILES"
     ],
     "language": "python",
     "metadata": {},
     "outputs": [
      {
       "metadata": {},
       "output_type": "pyout",
       "prompt_number": 4,
       "text": [
        "'C:\\\\Users\\\\Hassan\\\\Dropbox\\\\Berkeley\\\\iSchool\\\\CURRENT Courses\\\\INFO 256 - Applied Natural Language Processing\\\\Projects\\\\MultiUN_Map\\\\data\\\\multiUN.en\\\\un\\\\xml\\\\en'"
       ]
      }
     ],
     "prompt_number": 4
    },
    {
     "cell_type": "code",
     "collapsed": false,
     "input": [
      "docs = mun.load_xml_files_by_year(\"TOP_100\")"
     ],
     "language": "python",
     "metadata": {},
     "outputs": [
      {
       "javascript": [
        "//e546153b-296e-48da-b764-e804df0b0e60\n",
        "$(\"head\").append(\"<style> td.pb_widget {     width: auto; } td.pb_widget_fill {     width: 100%; } table.pb {     font-family: monospace;     border: 0;     margin: 0; } table.pb tr { border: 0; } table.pb td {     white-space: nowrap;     border: 0; } div.pb {     border: 1px solid #ddd;     border-radius: 3px; } div.pb_bar {     height: 1.5em; } </style>\")"
       ],
       "metadata": {},
       "output_type": "display_data",
       "text": [
        "<IPython.core.display.Javascript at 0x18a19f60>"
       ]
      },
      {
       "javascript": [
        "\n",
        "                  // e546153b-296e-48da-b764-e804df0b0e60 -- used to remove this code blob in the end\n",
        "                  IPython.OutputArea.prototype.cleanProgressBar = function(uuids) {\n",
        "                      // filter by uuid-strings \n",
        "                      var myfilter = function(output) { \n",
        "                          var nuids = uuids.length;\n",
        "                          for (var i=0; i<nuids; i++) {\n",
        "                              if (output.hasOwnProperty('html')) {\n",
        "                                  if (output.html.indexOf(uuids[i]) != -1) {\n",
        "                                      return false;\n",
        "                                  }\n",
        "                              }\n",
        "                              if (output.hasOwnProperty('javascript')) {\n",
        "                                  if (output.javascript.indexOf(uuids[i]) != -1) {\n",
        "                                      return false;\n",
        "                                  }\n",
        "                              }\n",
        "                          }\n",
        "                          // keep all others\n",
        "                          return true;\n",
        "                      };\n",
        "\n",
        "                      // Filter the ouputs\n",
        "                      this.outputs = this.outputs.filter(myfilter);\n",
        "                };\n",
        "                "
       ],
       "metadata": {},
       "output_type": "display_data",
       "text": [
        "<IPython.core.display.Javascript at 0x18a19f60>"
       ]
      },
      {
       "html": [
        "<div class=\"pb\" id=\"e546153b-296e-48da-b764-e804df0b0e60\"><table class=\"pb ui-widget\"><tr>\n",
        "<td class=\"pb_widget\">TOP_100</td>\n",
        "<td class=\"pb_widget\"><div id=\"4bd98855-d528-4ec7-b74d-bb2309335724\">0 of 98</div></td>\n",
        "<td class=\"pb_widget\"><div id=\"b9324454-5f17-4942-be47-2b59597f165c\">  0%</div></td>\n",
        "<td class=\"pb_widget_fill\">\n",
        "        <div class=\"pb_bar\" id=\"f40a52a1-eb7e-4fd0-9400-6b816c0da353\"></div>\n",
        "        <script type=\"text/javascript\">\n",
        "            $(\"div#f40a52a1-eb7e-4fd0-9400-6b816c0da353\").progressbar({value: 0, max: 98});\n",
        "        </script>\n",
        "        </td>\n",
        "<td class=\"pb_widget\"><div id=\"be81adb4-b581-4a00-a68e-b27745bdc4f1\">ETA:  --:--:--</div></td>\n",
        "</tr></table><div>"
       ],
       "metadata": {},
       "output_type": "display_data",
       "text": [
        "<IPython.core.display.HTML at 0x18a19fd0>"
       ]
      },
      {
       "javascript": [
        "$('div#4bd98855-d528-4ec7-b74d-bb2309335724').text('1 of 98');"
       ],
       "metadata": {},
       "output_type": "display_data",
       "text": [
        "<IPython.core.display.Javascript at 0x19403be0>"
       ]
      },
      {
       "javascript": [
        "$('div#b9324454-5f17-4942-be47-2b59597f165c').text('  1%');"
       ],
       "metadata": {},
       "output_type": "display_data",
       "text": [
        "<IPython.core.display.Javascript at 0x19403828>"
       ]
      },
      {
       "javascript": [
        "\n",
        "        var $myPB = $(\"div#f40a52a1-eb7e-4fd0-9400-6b816c0da353\")\n",
        "        if ($myPB.hasClass('ui-progressbar')) {\n",
        "            $myPB.progressbar('value', 1);\n",
        "        } else {\n",
        "            $myPB.progressbar({value: 0, max: 98});\n",
        "        }\n",
        "        "
       ],
       "metadata": {},
       "output_type": "display_data",
       "text": [
        "<IPython.core.display.Javascript at 0x194037b8>"
       ]
      },
      {
       "javascript": [
        "$('div#be81adb4-b581-4a00-a68e-b27745bdc4f1').text('ETA:  0:00:01');"
       ],
       "metadata": {},
       "output_type": "display_data",
       "text": [
        "<IPython.core.display.Javascript at 0x194037b8>"
       ]
      },
      {
       "javascript": [
        "$('div#4bd98855-d528-4ec7-b74d-bb2309335724').text('2 of 98');"
       ],
       "metadata": {},
       "output_type": "display_data",
       "text": [
        "<IPython.core.display.Javascript at 0x19403d30>"
       ]
      },
      {
       "javascript": [
        "$('div#b9324454-5f17-4942-be47-2b59597f165c').text('  2%');"
       ],
       "metadata": {},
       "output_type": "display_data",
       "text": [
        "<IPython.core.display.Javascript at 0x19403cc0>"
       ]
      },
      {
       "javascript": [
        "\n",
        "        var $myPB = $(\"div#f40a52a1-eb7e-4fd0-9400-6b816c0da353\")\n",
        "        if ($myPB.hasClass('ui-progressbar')) {\n",
        "            $myPB.progressbar('value', 2);\n",
        "        } else {\n",
        "            $myPB.progressbar({value: 0, max: 98});\n",
        "        }\n",
        "        "
       ],
       "metadata": {},
       "output_type": "display_data",
       "text": [
        "<IPython.core.display.Javascript at 0x19403cc0>"
       ]
      },
      {
       "javascript": [
        "$('div#be81adb4-b581-4a00-a68e-b27745bdc4f1').text('ETA:  0:00:02');"
       ],
       "metadata": {},
       "output_type": "display_data",
       "text": [
        "<IPython.core.display.Javascript at 0x19403da0>"
       ]
      },
      {
       "javascript": [
        "$('div#4bd98855-d528-4ec7-b74d-bb2309335724').text('3 of 98');"
       ],
       "metadata": {},
       "output_type": "display_data",
       "text": [
        "<IPython.core.display.Javascript at 0x225ee0b8>"
       ]
      },
      {
       "javascript": [
        "$('div#b9324454-5f17-4942-be47-2b59597f165c').text('  3%');"
       ],
       "metadata": {},
       "output_type": "display_data",
       "text": [
        "<IPython.core.display.Javascript at 0x1a926048>"
       ]
      },
      {
       "javascript": [
        "\n",
        "        var $myPB = $(\"div#f40a52a1-eb7e-4fd0-9400-6b816c0da353\")\n",
        "        if ($myPB.hasClass('ui-progressbar')) {\n",
        "            $myPB.progressbar('value', 3);\n",
        "        } else {\n",
        "            $myPB.progressbar({value: 0, max: 98});\n",
        "        }\n",
        "        "
       ],
       "metadata": {},
       "output_type": "display_data",
       "text": [
        "<IPython.core.display.Javascript at 0x225ee0b8>"
       ]
      },
      {
       "javascript": [
        "$('div#be81adb4-b581-4a00-a68e-b27745bdc4f1').text('ETA:  0:00:02');"
       ],
       "metadata": {},
       "output_type": "display_data",
       "text": [
        "<IPython.core.display.Javascript at 0x1a926048>"
       ]
      },
      {
       "javascript": [
        "$('div#4bd98855-d528-4ec7-b74d-bb2309335724').text('4 of 98');"
       ],
       "metadata": {},
       "output_type": "display_data",
       "text": [
        "<IPython.core.display.Javascript at 0x1b162c18>"
       ]
      },
      {
       "javascript": [
        "$('div#b9324454-5f17-4942-be47-2b59597f165c').text('  4%');"
       ],
       "metadata": {},
       "output_type": "display_data",
       "text": [
        "<IPython.core.display.Javascript at 0x1b1620b8>"
       ]
      },
      {
       "javascript": [
        "\n",
        "        var $myPB = $(\"div#f40a52a1-eb7e-4fd0-9400-6b816c0da353\")\n",
        "        if ($myPB.hasClass('ui-progressbar')) {\n",
        "            $myPB.progressbar('value', 4);\n",
        "        } else {\n",
        "            $myPB.progressbar({value: 0, max: 98});\n",
        "        }\n",
        "        "
       ],
       "metadata": {},
       "output_type": "display_data",
       "text": [
        "<IPython.core.display.Javascript at 0x1c1cdf28>"
       ]
      },
      {
       "javascript": [
        "$('div#be81adb4-b581-4a00-a68e-b27745bdc4f1').text('ETA:  0:00:05');"
       ],
       "metadata": {},
       "output_type": "display_data",
       "text": [
        "<IPython.core.display.Javascript at 0x1b162c18>"
       ]
      },
      {
       "javascript": [
        "$('div#4bd98855-d528-4ec7-b74d-bb2309335724').text('5 of 98');"
       ],
       "metadata": {},
       "output_type": "display_data",
       "text": [
        "<IPython.core.display.Javascript at 0x1c1cd048>"
       ]
      },
      {
       "javascript": [
        "$('div#b9324454-5f17-4942-be47-2b59597f165c').text('  5%');"
       ],
       "metadata": {},
       "output_type": "display_data",
       "text": [
        "<IPython.core.display.Javascript at 0x1c1cd7b8>"
       ]
      },
      {
       "javascript": [
        "\n",
        "        var $myPB = $(\"div#f40a52a1-eb7e-4fd0-9400-6b816c0da353\")\n",
        "        if ($myPB.hasClass('ui-progressbar')) {\n",
        "            $myPB.progressbar('value', 5);\n",
        "        } else {\n",
        "            $myPB.progressbar({value: 0, max: 98});\n",
        "        }\n",
        "        "
       ],
       "metadata": {},
       "output_type": "display_data",
       "text": [
        "<IPython.core.display.Javascript at 0x1c1cdda0>"
       ]
      },
      {
       "javascript": [
        "$('div#be81adb4-b581-4a00-a68e-b27745bdc4f1').text('ETA:  0:00:04');"
       ],
       "metadata": {},
       "output_type": "display_data",
       "text": [
        "<IPython.core.display.Javascript at 0x1c1cda20>"
       ]
      },
      {
       "javascript": [
        "$('div#4bd98855-d528-4ec7-b74d-bb2309335724').text('6 of 98');"
       ],
       "metadata": {},
       "output_type": "display_data",
       "text": [
        "<IPython.core.display.Javascript at 0x19c149e8>"
       ]
      },
      {
       "javascript": [
        "$('div#b9324454-5f17-4942-be47-2b59597f165c').text('  6%');"
       ],
       "metadata": {},
       "output_type": "display_data",
       "text": [
        "<IPython.core.display.Javascript at 0x19c14b00>"
       ]
      },
      {
       "javascript": [
        "\n",
        "        var $myPB = $(\"div#f40a52a1-eb7e-4fd0-9400-6b816c0da353\")\n",
        "        if ($myPB.hasClass('ui-progressbar')) {\n",
        "            $myPB.progressbar('value', 6);\n",
        "        } else {\n",
        "            $myPB.progressbar({value: 0, max: 98});\n",
        "        }\n",
        "        "
       ],
       "metadata": {},
       "output_type": "display_data",
       "text": [
        "<IPython.core.display.Javascript at 0x19c140f0>"
       ]
      },
      {
       "javascript": [
        "$('div#be81adb4-b581-4a00-a68e-b27745bdc4f1').text('ETA:  0:00:04');"
       ],
       "metadata": {},
       "output_type": "display_data",
       "text": [
        "<IPython.core.display.Javascript at 0x19c14cf8>"
       ]
      },
      {
       "javascript": [
        "$('div#4bd98855-d528-4ec7-b74d-bb2309335724').text('7 of 98');"
       ],
       "metadata": {},
       "output_type": "display_data",
       "text": [
        "<IPython.core.display.Javascript at 0x1ae0e898>"
       ]
      },
      {
       "javascript": [
        "$('div#b9324454-5f17-4942-be47-2b59597f165c').text('  7%');"
       ],
       "metadata": {},
       "output_type": "display_data",
       "text": [
        "<IPython.core.display.Javascript at 0x1ae0e898>"
       ]
      },
      {
       "javascript": [
        "\n",
        "        var $myPB = $(\"div#f40a52a1-eb7e-4fd0-9400-6b816c0da353\")\n",
        "        if ($myPB.hasClass('ui-progressbar')) {\n",
        "            $myPB.progressbar('value', 7);\n",
        "        } else {\n",
        "            $myPB.progressbar({value: 0, max: 98});\n",
        "        }\n",
        "        "
       ],
       "metadata": {},
       "output_type": "display_data",
       "text": [
        "<IPython.core.display.Javascript at 0x1ae0e2e8>"
       ]
      },
      {
       "javascript": [
        "$('div#be81adb4-b581-4a00-a68e-b27745bdc4f1').text('ETA:  0:00:07');"
       ],
       "metadata": {},
       "output_type": "display_data",
       "text": [
        "<IPython.core.display.Javascript at 0x1ae0e630>"
       ]
      },
      {
       "javascript": [
        "$('div#4bd98855-d528-4ec7-b74d-bb2309335724').text('8 of 98');"
       ],
       "metadata": {},
       "output_type": "display_data",
       "text": [
        "<IPython.core.display.Javascript at 0x1ae0e240>"
       ]
      },
      {
       "javascript": [
        "$('div#b9324454-5f17-4942-be47-2b59597f165c').text('  8%');"
       ],
       "metadata": {},
       "output_type": "display_data",
       "text": [
        "<IPython.core.display.Javascript at 0x1ae0e240>"
       ]
      },
      {
       "javascript": [
        "\n",
        "        var $myPB = $(\"div#f40a52a1-eb7e-4fd0-9400-6b816c0da353\")\n",
        "        if ($myPB.hasClass('ui-progressbar')) {\n",
        "            $myPB.progressbar('value', 8);\n",
        "        } else {\n",
        "            $myPB.progressbar({value: 0, max: 98});\n",
        "        }\n",
        "        "
       ],
       "metadata": {},
       "output_type": "display_data",
       "text": [
        "<IPython.core.display.Javascript at 0x1ae0e0b8>"
       ]
      },
      {
       "javascript": [
        "$('div#be81adb4-b581-4a00-a68e-b27745bdc4f1').text('ETA:  0:00:06');"
       ],
       "metadata": {},
       "output_type": "display_data",
       "text": [
        "<IPython.core.display.Javascript at 0x1ae0e048>"
       ]
      },
      {
       "javascript": [
        "$('div#4bd98855-d528-4ec7-b74d-bb2309335724').text('9 of 98');"
       ],
       "metadata": {},
       "output_type": "display_data",
       "text": [
        "<IPython.core.display.Javascript at 0x1ae0e780>"
       ]
      },
      {
       "javascript": [
        "$('div#b9324454-5f17-4942-be47-2b59597f165c').text('  9%');"
       ],
       "metadata": {},
       "output_type": "display_data",
       "text": [
        "<IPython.core.display.Javascript at 0x1ae0ed30>"
       ]
      },
      {
       "javascript": [
        "\n",
        "        var $myPB = $(\"div#f40a52a1-eb7e-4fd0-9400-6b816c0da353\")\n",
        "        if ($myPB.hasClass('ui-progressbar')) {\n",
        "            $myPB.progressbar('value', 9);\n",
        "        } else {\n",
        "            $myPB.progressbar({value: 0, max: 98});\n",
        "        }\n",
        "        "
       ],
       "metadata": {},
       "output_type": "display_data",
       "text": [
        "<IPython.core.display.Javascript at 0x1ae0ea58>"
       ]
      },
      {
       "javascript": [
        "$('div#be81adb4-b581-4a00-a68e-b27745bdc4f1').text('ETA:  0:00:06');"
       ],
       "metadata": {},
       "output_type": "display_data",
       "text": [
        "<IPython.core.display.Javascript at 0x1ae0e9b0>"
       ]
      },
      {
       "javascript": [
        "$('div#4bd98855-d528-4ec7-b74d-bb2309335724').text('10 of 98');"
       ],
       "metadata": {},
       "output_type": "display_data",
       "text": [
        "<IPython.core.display.Javascript at 0x1ae0e8d0>"
       ]
      },
      {
       "javascript": [
        "$('div#b9324454-5f17-4942-be47-2b59597f165c').text(' 10%');"
       ],
       "metadata": {},
       "output_type": "display_data",
       "text": [
        "<IPython.core.display.Javascript at 0x1ae0efd0>"
       ]
      },
      {
       "javascript": [
        "\n",
        "        var $myPB = $(\"div#f40a52a1-eb7e-4fd0-9400-6b816c0da353\")\n",
        "        if ($myPB.hasClass('ui-progressbar')) {\n",
        "            $myPB.progressbar('value', 10);\n",
        "        } else {\n",
        "            $myPB.progressbar({value: 0, max: 98});\n",
        "        }\n",
        "        "
       ],
       "metadata": {},
       "output_type": "display_data",
       "text": [
        "<IPython.core.display.Javascript at 0x1ae0e438>"
       ]
      },
      {
       "javascript": [
        "$('div#be81adb4-b581-4a00-a68e-b27745bdc4f1').text('ETA:  0:00:05');"
       ],
       "metadata": {},
       "output_type": "display_data",
       "text": [
        "<IPython.core.display.Javascript at 0x1ae0e438>"
       ]
      },
      {
       "javascript": [
        "$('div#4bd98855-d528-4ec7-b74d-bb2309335724').text('11 of 98');"
       ],
       "metadata": {},
       "output_type": "display_data",
       "text": [
        "<IPython.core.display.Javascript at 0x1ffaed68>"
       ]
      },
      {
       "javascript": [
        "$('div#b9324454-5f17-4942-be47-2b59597f165c').text(' 11%');"
       ],
       "metadata": {},
       "output_type": "display_data",
       "text": [
        "<IPython.core.display.Javascript at 0x1ffaed68>"
       ]
      },
      {
       "javascript": [
        "\n",
        "        var $myPB = $(\"div#f40a52a1-eb7e-4fd0-9400-6b816c0da353\")\n",
        "        if ($myPB.hasClass('ui-progressbar')) {\n",
        "            $myPB.progressbar('value', 11);\n",
        "        } else {\n",
        "            $myPB.progressbar({value: 0, max: 98});\n",
        "        }\n",
        "        "
       ],
       "metadata": {},
       "output_type": "display_data",
       "text": [
        "<IPython.core.display.Javascript at 0x1ffaea20>"
       ]
      },
      {
       "javascript": [
        "$('div#be81adb4-b581-4a00-a68e-b27745bdc4f1').text('ETA:  0:00:05');"
       ],
       "metadata": {},
       "output_type": "display_data",
       "text": [
        "<IPython.core.display.Javascript at 0x1ffae208>"
       ]
      },
      {
       "javascript": [
        "$('div#4bd98855-d528-4ec7-b74d-bb2309335724').text('12 of 98');"
       ],
       "metadata": {},
       "output_type": "display_data",
       "text": [
        "<IPython.core.display.Javascript at 0x1b7a1400>"
       ]
      },
      {
       "javascript": [
        "$('div#b9324454-5f17-4942-be47-2b59597f165c').text(' 12%');"
       ],
       "metadata": {},
       "output_type": "display_data",
       "text": [
        "<IPython.core.display.Javascript at 0x1b7a1400>"
       ]
      },
      {
       "javascript": [
        "\n",
        "        var $myPB = $(\"div#f40a52a1-eb7e-4fd0-9400-6b816c0da353\")\n",
        "        if ($myPB.hasClass('ui-progressbar')) {\n",
        "            $myPB.progressbar('value', 12);\n",
        "        } else {\n",
        "            $myPB.progressbar({value: 0, max: 98});\n",
        "        }\n",
        "        "
       ],
       "metadata": {},
       "output_type": "display_data",
       "text": [
        "<IPython.core.display.Javascript at 0x1b7a16d8>"
       ]
      },
      {
       "javascript": [
        "$('div#be81adb4-b581-4a00-a68e-b27745bdc4f1').text('ETA:  0:00:04');"
       ],
       "metadata": {},
       "output_type": "display_data",
       "text": [
        "<IPython.core.display.Javascript at 0x1b7a15f8>"
       ]
      },
      {
       "javascript": [
        "$('div#4bd98855-d528-4ec7-b74d-bb2309335724').text('13 of 98');"
       ],
       "metadata": {},
       "output_type": "display_data",
       "text": [
        "<IPython.core.display.Javascript at 0x1b7a12e8>"
       ]
      },
      {
       "javascript": [
        "$('div#b9324454-5f17-4942-be47-2b59597f165c').text(' 13%');"
       ],
       "metadata": {},
       "output_type": "display_data",
       "text": [
        "<IPython.core.display.Javascript at 0x1b7a1390>"
       ]
      },
      {
       "javascript": [
        "\n",
        "        var $myPB = $(\"div#f40a52a1-eb7e-4fd0-9400-6b816c0da353\")\n",
        "        if ($myPB.hasClass('ui-progressbar')) {\n",
        "            $myPB.progressbar('value', 13);\n",
        "        } else {\n",
        "            $myPB.progressbar({value: 0, max: 98});\n",
        "        }\n",
        "        "
       ],
       "metadata": {},
       "output_type": "display_data",
       "text": [
        "<IPython.core.display.Javascript at 0x1b7a1390>"
       ]
      },
      {
       "javascript": [
        "$('div#be81adb4-b581-4a00-a68e-b27745bdc4f1').text('ETA:  0:00:04');"
       ],
       "metadata": {},
       "output_type": "display_data",
       "text": [
        "<IPython.core.display.Javascript at 0x1b7a1860>"
       ]
      },
      {
       "javascript": [
        "$('div#4bd98855-d528-4ec7-b74d-bb2309335724').text('14 of 98');"
       ],
       "metadata": {},
       "output_type": "display_data",
       "text": [
        "<IPython.core.display.Javascript at 0x1b7a1780>"
       ]
      },
      {
       "javascript": [
        "$('div#b9324454-5f17-4942-be47-2b59597f165c').text(' 14%');"
       ],
       "metadata": {},
       "output_type": "display_data",
       "text": [
        "<IPython.core.display.Javascript at 0x1b7a1940>"
       ]
      },
      {
       "javascript": [
        "\n",
        "        var $myPB = $(\"div#f40a52a1-eb7e-4fd0-9400-6b816c0da353\")\n",
        "        if ($myPB.hasClass('ui-progressbar')) {\n",
        "            $myPB.progressbar('value', 14);\n",
        "        } else {\n",
        "            $myPB.progressbar({value: 0, max: 98});\n",
        "        }\n",
        "        "
       ],
       "metadata": {},
       "output_type": "display_data",
       "text": [
        "<IPython.core.display.Javascript at 0x1b7a1940>"
       ]
      },
      {
       "javascript": [
        "$('div#be81adb4-b581-4a00-a68e-b27745bdc4f1').text('ETA:  0:00:04');"
       ],
       "metadata": {},
       "output_type": "display_data",
       "text": [
        "<IPython.core.display.Javascript at 0x1b7a15c0>"
       ]
      },
      {
       "javascript": [
        "$('div#4bd98855-d528-4ec7-b74d-bb2309335724').text('15 of 98');"
       ],
       "metadata": {},
       "output_type": "display_data",
       "text": [
        "<IPython.core.display.Javascript at 0x1f9f9be0>"
       ]
      },
      {
       "javascript": [
        "$('div#b9324454-5f17-4942-be47-2b59597f165c').text(' 15%');"
       ],
       "metadata": {},
       "output_type": "display_data",
       "text": [
        "<IPython.core.display.Javascript at 0x1f9f9c50>"
       ]
      },
      {
       "javascript": [
        "\n",
        "        var $myPB = $(\"div#f40a52a1-eb7e-4fd0-9400-6b816c0da353\")\n",
        "        if ($myPB.hasClass('ui-progressbar')) {\n",
        "            $myPB.progressbar('value', 15);\n",
        "        } else {\n",
        "            $myPB.progressbar({value: 0, max: 98});\n",
        "        }\n",
        "        "
       ],
       "metadata": {},
       "output_type": "display_data",
       "text": [
        "<IPython.core.display.Javascript at 0x1f9f9eb8>"
       ]
      },
      {
       "javascript": [
        "$('div#be81adb4-b581-4a00-a68e-b27745bdc4f1').text('ETA:  0:00:04');"
       ],
       "metadata": {},
       "output_type": "display_data",
       "text": [
        "<IPython.core.display.Javascript at 0x1f9f9eb8>"
       ]
      },
      {
       "javascript": [
        "$('div#4bd98855-d528-4ec7-b74d-bb2309335724').text('16 of 98');"
       ],
       "metadata": {},
       "output_type": "display_data",
       "text": [
        "<IPython.core.display.Javascript at 0x21ee8630>"
       ]
      },
      {
       "javascript": [
        "$('div#b9324454-5f17-4942-be47-2b59597f165c').text(' 16%');"
       ],
       "metadata": {},
       "output_type": "display_data",
       "text": [
        "<IPython.core.display.Javascript at 0x21ee8ba8>"
       ]
      },
      {
       "javascript": [
        "\n",
        "        var $myPB = $(\"div#f40a52a1-eb7e-4fd0-9400-6b816c0da353\")\n",
        "        if ($myPB.hasClass('ui-progressbar')) {\n",
        "            $myPB.progressbar('value', 16);\n",
        "        } else {\n",
        "            $myPB.progressbar({value: 0, max: 98});\n",
        "        }\n",
        "        "
       ],
       "metadata": {},
       "output_type": "display_data",
       "text": [
        "<IPython.core.display.Javascript at 0x21ee8ba8>"
       ]
      },
      {
       "javascript": [
        "$('div#be81adb4-b581-4a00-a68e-b27745bdc4f1').text('ETA:  0:00:03');"
       ],
       "metadata": {},
       "output_type": "display_data",
       "text": [
        "<IPython.core.display.Javascript at 0x21ee8860>"
       ]
      },
      {
       "javascript": [
        "$('div#4bd98855-d528-4ec7-b74d-bb2309335724').text('17 of 98');"
       ],
       "metadata": {},
       "output_type": "display_data",
       "text": [
        "<IPython.core.display.Javascript at 0x1fadd320>"
       ]
      },
      {
       "javascript": [
        "$('div#b9324454-5f17-4942-be47-2b59597f165c').text(' 17%');"
       ],
       "metadata": {},
       "output_type": "display_data",
       "text": [
        "<IPython.core.display.Javascript at 0x22de8710>"
       ]
      },
      {
       "javascript": [
        "\n",
        "        var $myPB = $(\"div#f40a52a1-eb7e-4fd0-9400-6b816c0da353\")\n",
        "        if ($myPB.hasClass('ui-progressbar')) {\n",
        "            $myPB.progressbar('value', 17);\n",
        "        } else {\n",
        "            $myPB.progressbar({value: 0, max: 98});\n",
        "        }\n",
        "        "
       ],
       "metadata": {},
       "output_type": "display_data",
       "text": [
        "<IPython.core.display.Javascript at 0x1fadd320>"
       ]
      },
      {
       "javascript": [
        "$('div#be81adb4-b581-4a00-a68e-b27745bdc4f1').text('ETA:  0:00:03');"
       ],
       "metadata": {},
       "output_type": "display_data",
       "text": [
        "<IPython.core.display.Javascript at 0x22de8710>"
       ]
      },
      {
       "javascript": [
        "$('div#4bd98855-d528-4ec7-b74d-bb2309335724').text('18 of 98');"
       ],
       "metadata": {},
       "output_type": "display_data",
       "text": [
        "<IPython.core.display.Javascript at 0x22de8a58>"
       ]
      },
      {
       "javascript": [
        "$('div#b9324454-5f17-4942-be47-2b59597f165c').text(' 18%');"
       ],
       "metadata": {},
       "output_type": "display_data",
       "text": [
        "<IPython.core.display.Javascript at 0x22de8e80>"
       ]
      },
      {
       "javascript": [
        "\n",
        "        var $myPB = $(\"div#f40a52a1-eb7e-4fd0-9400-6b816c0da353\")\n",
        "        if ($myPB.hasClass('ui-progressbar')) {\n",
        "            $myPB.progressbar('value', 18);\n",
        "        } else {\n",
        "            $myPB.progressbar({value: 0, max: 98});\n",
        "        }\n",
        "        "
       ],
       "metadata": {},
       "output_type": "display_data",
       "text": [
        "<IPython.core.display.Javascript at 0x22de8e80>"
       ]
      },
      {
       "javascript": [
        "$('div#be81adb4-b581-4a00-a68e-b27745bdc4f1').text('ETA:  0:00:03');"
       ],
       "metadata": {},
       "output_type": "display_data",
       "text": [
        "<IPython.core.display.Javascript at 0x22de8a90>"
       ]
      },
      {
       "javascript": [
        "$('div#4bd98855-d528-4ec7-b74d-bb2309335724').text('19 of 98');"
       ],
       "metadata": {},
       "output_type": "display_data",
       "text": [
        "<IPython.core.display.Javascript at 0x22de82b0>"
       ]
      },
      {
       "javascript": [
        "$('div#b9324454-5f17-4942-be47-2b59597f165c').text(' 19%');"
       ],
       "metadata": {},
       "output_type": "display_data",
       "text": [
        "<IPython.core.display.Javascript at 0x22de82b0>"
       ]
      },
      {
       "javascript": [
        "\n",
        "        var $myPB = $(\"div#f40a52a1-eb7e-4fd0-9400-6b816c0da353\")\n",
        "        if ($myPB.hasClass('ui-progressbar')) {\n",
        "            $myPB.progressbar('value', 19);\n",
        "        } else {\n",
        "            $myPB.progressbar({value: 0, max: 98});\n",
        "        }\n",
        "        "
       ],
       "metadata": {},
       "output_type": "display_data",
       "text": [
        "<IPython.core.display.Javascript at 0x22de87b8>"
       ]
      },
      {
       "javascript": [
        "$('div#be81adb4-b581-4a00-a68e-b27745bdc4f1').text('ETA:  0:00:03');"
       ],
       "metadata": {},
       "output_type": "display_data",
       "text": [
        "<IPython.core.display.Javascript at 0x22de8400>"
       ]
      },
      {
       "javascript": [
        "$('div#4bd98855-d528-4ec7-b74d-bb2309335724').text('20 of 98');"
       ],
       "metadata": {},
       "output_type": "display_data",
       "text": [
        "<IPython.core.display.Javascript at 0x21777b70>"
       ]
      },
      {
       "javascript": [
        "$('div#b9324454-5f17-4942-be47-2b59597f165c').text(' 20%');"
       ],
       "metadata": {},
       "output_type": "display_data",
       "text": [
        "<IPython.core.display.Javascript at 0x21777cc0>"
       ]
      },
      {
       "javascript": [
        "\n",
        "        var $myPB = $(\"div#f40a52a1-eb7e-4fd0-9400-6b816c0da353\")\n",
        "        if ($myPB.hasClass('ui-progressbar')) {\n",
        "            $myPB.progressbar('value', 20);\n",
        "        } else {\n",
        "            $myPB.progressbar({value: 0, max: 98});\n",
        "        }\n",
        "        "
       ],
       "metadata": {},
       "output_type": "display_data",
       "text": [
        "<IPython.core.display.Javascript at 0x21777128>"
       ]
      },
      {
       "javascript": [
        "$('div#be81adb4-b581-4a00-a68e-b27745bdc4f1').text('ETA:  0:00:03');"
       ],
       "metadata": {},
       "output_type": "display_data",
       "text": [
        "<IPython.core.display.Javascript at 0x21777518>"
       ]
      },
      {
       "javascript": [
        "$('div#4bd98855-d528-4ec7-b74d-bb2309335724').text('21 of 98');"
       ],
       "metadata": {},
       "output_type": "display_data",
       "text": [
        "<IPython.core.display.Javascript at 0x2497a400>"
       ]
      },
      {
       "javascript": [
        "$('div#b9324454-5f17-4942-be47-2b59597f165c').text(' 21%');"
       ],
       "metadata": {},
       "output_type": "display_data",
       "text": [
        "<IPython.core.display.Javascript at 0x1a464d30>"
       ]
      },
      {
       "javascript": [
        "\n",
        "        var $myPB = $(\"div#f40a52a1-eb7e-4fd0-9400-6b816c0da353\")\n",
        "        if ($myPB.hasClass('ui-progressbar')) {\n",
        "            $myPB.progressbar('value', 21);\n",
        "        } else {\n",
        "            $myPB.progressbar({value: 0, max: 98});\n",
        "        }\n",
        "        "
       ],
       "metadata": {},
       "output_type": "display_data",
       "text": [
        "<IPython.core.display.Javascript at 0x2497a400>"
       ]
      },
      {
       "javascript": [
        "$('div#be81adb4-b581-4a00-a68e-b27745bdc4f1').text('ETA:  0:00:03');"
       ],
       "metadata": {},
       "output_type": "display_data",
       "text": [
        "<IPython.core.display.Javascript at 0x1a464d30>"
       ]
      },
      {
       "javascript": [
        "$('div#4bd98855-d528-4ec7-b74d-bb2309335724').text('22 of 98');"
       ],
       "metadata": {},
       "output_type": "display_data",
       "text": [
        "<IPython.core.display.Javascript at 0x1a4647f0>"
       ]
      },
      {
       "javascript": [
        "$('div#b9324454-5f17-4942-be47-2b59597f165c').text(' 22%');"
       ],
       "metadata": {},
       "output_type": "display_data",
       "text": [
        "<IPython.core.display.Javascript at 0x1a464a58>"
       ]
      },
      {
       "javascript": [
        "\n",
        "        var $myPB = $(\"div#f40a52a1-eb7e-4fd0-9400-6b816c0da353\")\n",
        "        if ($myPB.hasClass('ui-progressbar')) {\n",
        "            $myPB.progressbar('value', 22);\n",
        "        } else {\n",
        "            $myPB.progressbar({value: 0, max: 98});\n",
        "        }\n",
        "        "
       ],
       "metadata": {},
       "output_type": "display_data",
       "text": [
        "<IPython.core.display.Javascript at 0x1a464160>"
       ]
      },
      {
       "javascript": [
        "$('div#be81adb4-b581-4a00-a68e-b27745bdc4f1').text('ETA:  0:00:03');"
       ],
       "metadata": {},
       "output_type": "display_data",
       "text": [
        "<IPython.core.display.Javascript at 0x1a464160>"
       ]
      },
      {
       "javascript": [
        "$('div#4bd98855-d528-4ec7-b74d-bb2309335724').text('23 of 98');"
       ],
       "metadata": {},
       "output_type": "display_data",
       "text": [
        "<IPython.core.display.Javascript at 0x1a4644e0>"
       ]
      },
      {
       "javascript": [
        "$('div#b9324454-5f17-4942-be47-2b59597f165c').text(' 23%');"
       ],
       "metadata": {},
       "output_type": "display_data",
       "text": [
        "<IPython.core.display.Javascript at 0x1a464b70>"
       ]
      },
      {
       "javascript": [
        "\n",
        "        var $myPB = $(\"div#f40a52a1-eb7e-4fd0-9400-6b816c0da353\")\n",
        "        if ($myPB.hasClass('ui-progressbar')) {\n",
        "            $myPB.progressbar('value', 23);\n",
        "        } else {\n",
        "            $myPB.progressbar({value: 0, max: 98});\n",
        "        }\n",
        "        "
       ],
       "metadata": {},
       "output_type": "display_data",
       "text": [
        "<IPython.core.display.Javascript at 0x1a464b70>"
       ]
      },
      {
       "javascript": [
        "$('div#be81adb4-b581-4a00-a68e-b27745bdc4f1').text('ETA:  0:00:02');"
       ],
       "metadata": {},
       "output_type": "display_data",
       "text": [
        "<IPython.core.display.Javascript at 0x1a4646d8>"
       ]
      },
      {
       "javascript": [
        "$('div#4bd98855-d528-4ec7-b74d-bb2309335724').text('24 of 98');"
       ],
       "metadata": {},
       "output_type": "display_data",
       "text": [
        "<IPython.core.display.Javascript at 0x227ebb38>"
       ]
      },
      {
       "javascript": [
        "$('div#b9324454-5f17-4942-be47-2b59597f165c').text(' 24%');"
       ],
       "metadata": {},
       "output_type": "display_data",
       "text": [
        "<IPython.core.display.Javascript at 0x19672320>"
       ]
      },
      {
       "javascript": [
        "\n",
        "        var $myPB = $(\"div#f40a52a1-eb7e-4fd0-9400-6b816c0da353\")\n",
        "        if ($myPB.hasClass('ui-progressbar')) {\n",
        "            $myPB.progressbar('value', 24);\n",
        "        } else {\n",
        "            $myPB.progressbar({value: 0, max: 98});\n",
        "        }\n",
        "        "
       ],
       "metadata": {},
       "output_type": "display_data",
       "text": [
        "<IPython.core.display.Javascript at 0x19672080>"
       ]
      },
      {
       "javascript": [
        "$('div#be81adb4-b581-4a00-a68e-b27745bdc4f1').text('ETA:  0:00:03');"
       ],
       "metadata": {},
       "output_type": "display_data",
       "text": [
        "<IPython.core.display.Javascript at 0x19672b38>"
       ]
      },
      {
       "javascript": [
        "$('div#4bd98855-d528-4ec7-b74d-bb2309335724').text('25 of 98');"
       ],
       "metadata": {},
       "output_type": "display_data",
       "text": [
        "<IPython.core.display.Javascript at 0x23755eb8>"
       ]
      },
      {
       "javascript": [
        "$('div#b9324454-5f17-4942-be47-2b59597f165c').text(' 25%');"
       ],
       "metadata": {},
       "output_type": "display_data",
       "text": [
        "<IPython.core.display.Javascript at 0x23755978>"
       ]
      },
      {
       "javascript": [
        "\n",
        "        var $myPB = $(\"div#f40a52a1-eb7e-4fd0-9400-6b816c0da353\")\n",
        "        if ($myPB.hasClass('ui-progressbar')) {\n",
        "            $myPB.progressbar('value', 25);\n",
        "        } else {\n",
        "            $myPB.progressbar({value: 0, max: 98});\n",
        "        }\n",
        "        "
       ],
       "metadata": {},
       "output_type": "display_data",
       "text": [
        "<IPython.core.display.Javascript at 0x23755ac8>"
       ]
      },
      {
       "javascript": [
        "$('div#be81adb4-b581-4a00-a68e-b27745bdc4f1').text('ETA:  0:00:03');"
       ],
       "metadata": {},
       "output_type": "display_data",
       "text": [
        "<IPython.core.display.Javascript at 0x237559b0>"
       ]
      },
      {
       "javascript": [
        "$('div#4bd98855-d528-4ec7-b74d-bb2309335724').text('26 of 98');"
       ],
       "metadata": {},
       "output_type": "display_data",
       "text": [
        "<IPython.core.display.Javascript at 0x23755da0>"
       ]
      },
      {
       "javascript": [
        "$('div#b9324454-5f17-4942-be47-2b59597f165c').text(' 26%');"
       ],
       "metadata": {},
       "output_type": "display_data",
       "text": [
        "<IPython.core.display.Javascript at 0x23755a58>"
       ]
      },
      {
       "javascript": [
        "\n",
        "        var $myPB = $(\"div#f40a52a1-eb7e-4fd0-9400-6b816c0da353\")\n",
        "        if ($myPB.hasClass('ui-progressbar')) {\n",
        "            $myPB.progressbar('value', 26);\n",
        "        } else {\n",
        "            $myPB.progressbar({value: 0, max: 98});\n",
        "        }\n",
        "        "
       ],
       "metadata": {},
       "output_type": "display_data",
       "text": [
        "<IPython.core.display.Javascript at 0x23755c18>"
       ]
      },
      {
       "javascript": [
        "$('div#be81adb4-b581-4a00-a68e-b27745bdc4f1').text('ETA:  0:00:03');"
       ],
       "metadata": {},
       "output_type": "display_data",
       "text": [
        "<IPython.core.display.Javascript at 0x237551d0>"
       ]
      },
      {
       "javascript": [
        "$('div#4bd98855-d528-4ec7-b74d-bb2309335724').text('27 of 98');"
       ],
       "metadata": {},
       "output_type": "display_data",
       "text": [
        "<IPython.core.display.Javascript at 0x23755518>"
       ]
      },
      {
       "javascript": [
        "$('div#b9324454-5f17-4942-be47-2b59597f165c').text(' 27%');"
       ],
       "metadata": {},
       "output_type": "display_data",
       "text": [
        "<IPython.core.display.Javascript at 0x23755e48>"
       ]
      },
      {
       "javascript": [
        "\n",
        "        var $myPB = $(\"div#f40a52a1-eb7e-4fd0-9400-6b816c0da353\")\n",
        "        if ($myPB.hasClass('ui-progressbar')) {\n",
        "            $myPB.progressbar('value', 27);\n",
        "        } else {\n",
        "            $myPB.progressbar({value: 0, max: 98});\n",
        "        }\n",
        "        "
       ],
       "metadata": {},
       "output_type": "display_data",
       "text": [
        "<IPython.core.display.Javascript at 0x23755d30>"
       ]
      },
      {
       "javascript": [
        "$('div#be81adb4-b581-4a00-a68e-b27745bdc4f1').text('ETA:  0:00:03');"
       ],
       "metadata": {},
       "output_type": "display_data",
       "text": [
        "<IPython.core.display.Javascript at 0x23755d30>"
       ]
      },
      {
       "javascript": [
        "$('div#4bd98855-d528-4ec7-b74d-bb2309335724').text('28 of 98');"
       ],
       "metadata": {},
       "output_type": "display_data",
       "text": [
        "<IPython.core.display.Javascript at 0x22b740b8>"
       ]
      },
      {
       "javascript": [
        "$('div#b9324454-5f17-4942-be47-2b59597f165c').text(' 28%');"
       ],
       "metadata": {},
       "output_type": "display_data",
       "text": [
        "<IPython.core.display.Javascript at 0x22b74240>"
       ]
      },
      {
       "javascript": [
        "\n",
        "        var $myPB = $(\"div#f40a52a1-eb7e-4fd0-9400-6b816c0da353\")\n",
        "        if ($myPB.hasClass('ui-progressbar')) {\n",
        "            $myPB.progressbar('value', 28);\n",
        "        } else {\n",
        "            $myPB.progressbar({value: 0, max: 98});\n",
        "        }\n",
        "        "
       ],
       "metadata": {},
       "output_type": "display_data",
       "text": [
        "<IPython.core.display.Javascript at 0x223cd748>"
       ]
      },
      {
       "javascript": [
        "$('div#be81adb4-b581-4a00-a68e-b27745bdc4f1').text('ETA:  0:00:03');"
       ],
       "metadata": {},
       "output_type": "display_data",
       "text": [
        "<IPython.core.display.Javascript at 0x223cdf28>"
       ]
      },
      {
       "javascript": [
        "$('div#4bd98855-d528-4ec7-b74d-bb2309335724').text('29 of 98');"
       ],
       "metadata": {},
       "output_type": "display_data",
       "text": [
        "<IPython.core.display.Javascript at 0x223cd6a0>"
       ]
      },
      {
       "javascript": [
        "$('div#b9324454-5f17-4942-be47-2b59597f165c').text(' 29%');"
       ],
       "metadata": {},
       "output_type": "display_data",
       "text": [
        "<IPython.core.display.Javascript at 0x223cd710>"
       ]
      },
      {
       "javascript": [
        "\n",
        "        var $myPB = $(\"div#f40a52a1-eb7e-4fd0-9400-6b816c0da353\")\n",
        "        if ($myPB.hasClass('ui-progressbar')) {\n",
        "            $myPB.progressbar('value', 29);\n",
        "        } else {\n",
        "            $myPB.progressbar({value: 0, max: 98});\n",
        "        }\n",
        "        "
       ],
       "metadata": {},
       "output_type": "display_data",
       "text": [
        "<IPython.core.display.Javascript at 0x223cd518>"
       ]
      },
      {
       "javascript": [
        "$('div#be81adb4-b581-4a00-a68e-b27745bdc4f1').text('ETA:  0:00:03');"
       ],
       "metadata": {},
       "output_type": "display_data",
       "text": [
        "<IPython.core.display.Javascript at 0x223cd518>"
       ]
      },
      {
       "javascript": [
        "$('div#4bd98855-d528-4ec7-b74d-bb2309335724').text('30 of 98');"
       ],
       "metadata": {},
       "output_type": "display_data",
       "text": [
        "<IPython.core.display.Javascript at 0x22ff4940>"
       ]
      },
      {
       "javascript": [
        "$('div#b9324454-5f17-4942-be47-2b59597f165c').text(' 30%');"
       ],
       "metadata": {},
       "output_type": "display_data",
       "text": [
        "<IPython.core.display.Javascript at 0x22ff4f28>"
       ]
      },
      {
       "javascript": [
        "\n",
        "        var $myPB = $(\"div#f40a52a1-eb7e-4fd0-9400-6b816c0da353\")\n",
        "        if ($myPB.hasClass('ui-progressbar')) {\n",
        "            $myPB.progressbar('value', 30);\n",
        "        } else {\n",
        "            $myPB.progressbar({value: 0, max: 98});\n",
        "        }\n",
        "        "
       ],
       "metadata": {},
       "output_type": "display_data",
       "text": [
        "<IPython.core.display.Javascript at 0x22ff4f28>"
       ]
      },
      {
       "javascript": [
        "$('div#be81adb4-b581-4a00-a68e-b27745bdc4f1').text('ETA:  0:00:03');"
       ],
       "metadata": {},
       "output_type": "display_data",
       "text": [
        "<IPython.core.display.Javascript at 0x22ff4400>"
       ]
      },
      {
       "javascript": [
        "$('div#4bd98855-d528-4ec7-b74d-bb2309335724').text('31 of 98');"
       ],
       "metadata": {},
       "output_type": "display_data",
       "text": [
        "<IPython.core.display.Javascript at 0x19eb7b00>"
       ]
      },
      {
       "javascript": [
        "$('div#b9324454-5f17-4942-be47-2b59597f165c').text(' 31%');"
       ],
       "metadata": {},
       "output_type": "display_data",
       "text": [
        "<IPython.core.display.Javascript at 0x19eb7940>"
       ]
      },
      {
       "javascript": [
        "\n",
        "        var $myPB = $(\"div#f40a52a1-eb7e-4fd0-9400-6b816c0da353\")\n",
        "        if ($myPB.hasClass('ui-progressbar')) {\n",
        "            $myPB.progressbar('value', 31);\n",
        "        } else {\n",
        "            $myPB.progressbar({value: 0, max: 98});\n",
        "        }\n",
        "        "
       ],
       "metadata": {},
       "output_type": "display_data",
       "text": [
        "<IPython.core.display.Javascript at 0x19eb7eb8>"
       ]
      },
      {
       "javascript": [
        "$('div#be81adb4-b581-4a00-a68e-b27745bdc4f1').text('ETA:  0:00:03');"
       ],
       "metadata": {},
       "output_type": "display_data",
       "text": [
        "<IPython.core.display.Javascript at 0x19eb7630>"
       ]
      },
      {
       "javascript": [
        "$('div#4bd98855-d528-4ec7-b74d-bb2309335724').text('32 of 98');"
       ],
       "metadata": {},
       "output_type": "display_data",
       "text": [
        "<IPython.core.display.Javascript at 0x226302e8>"
       ]
      },
      {
       "javascript": [
        "$('div#b9324454-5f17-4942-be47-2b59597f165c').text(' 32%');"
       ],
       "metadata": {},
       "output_type": "display_data",
       "text": [
        "<IPython.core.display.Javascript at 0x22630198>"
       ]
      },
      {
       "javascript": [
        "\n",
        "        var $myPB = $(\"div#f40a52a1-eb7e-4fd0-9400-6b816c0da353\")\n",
        "        if ($myPB.hasClass('ui-progressbar')) {\n",
        "            $myPB.progressbar('value', 32);\n",
        "        } else {\n",
        "            $myPB.progressbar({value: 0, max: 98});\n",
        "        }\n",
        "        "
       ],
       "metadata": {},
       "output_type": "display_data",
       "text": [
        "<IPython.core.display.Javascript at 0x22630198>"
       ]
      },
      {
       "javascript": [
        "$('div#be81adb4-b581-4a00-a68e-b27745bdc4f1').text('ETA:  0:00:03');"
       ],
       "metadata": {},
       "output_type": "display_data",
       "text": [
        "<IPython.core.display.Javascript at 0x22630d68>"
       ]
      },
      {
       "javascript": [
        "$('div#4bd98855-d528-4ec7-b74d-bb2309335724').text('33 of 98');"
       ],
       "metadata": {},
       "output_type": "display_data",
       "text": [
        "<IPython.core.display.Javascript at 0x22630f60>"
       ]
      },
      {
       "javascript": [
        "$('div#b9324454-5f17-4942-be47-2b59597f165c').text(' 33%');"
       ],
       "metadata": {},
       "output_type": "display_data",
       "text": [
        "<IPython.core.display.Javascript at 0x22630ef0>"
       ]
      },
      {
       "javascript": [
        "\n",
        "        var $myPB = $(\"div#f40a52a1-eb7e-4fd0-9400-6b816c0da353\")\n",
        "        if ($myPB.hasClass('ui-progressbar')) {\n",
        "            $myPB.progressbar('value', 33);\n",
        "        } else {\n",
        "            $myPB.progressbar({value: 0, max: 98});\n",
        "        }\n",
        "        "
       ],
       "metadata": {},
       "output_type": "display_data",
       "text": [
        "<IPython.core.display.Javascript at 0x22630320>"
       ]
      },
      {
       "javascript": [
        "$('div#be81adb4-b581-4a00-a68e-b27745bdc4f1').text('ETA:  0:00:03');"
       ],
       "metadata": {},
       "output_type": "display_data",
       "text": [
        "<IPython.core.display.Javascript at 0x22630320>"
       ]
      },
      {
       "javascript": [
        "$('div#4bd98855-d528-4ec7-b74d-bb2309335724').text('34 of 98');"
       ],
       "metadata": {},
       "output_type": "display_data",
       "text": [
        "<IPython.core.display.Javascript at 0x1bec3cf8>"
       ]
      },
      {
       "javascript": [
        "$('div#b9324454-5f17-4942-be47-2b59597f165c').text(' 34%');"
       ],
       "metadata": {},
       "output_type": "display_data",
       "text": [
        "<IPython.core.display.Javascript at 0x1bec30b8>"
       ]
      },
      {
       "javascript": [
        "\n",
        "        var $myPB = $(\"div#f40a52a1-eb7e-4fd0-9400-6b816c0da353\")\n",
        "        if ($myPB.hasClass('ui-progressbar')) {\n",
        "            $myPB.progressbar('value', 34);\n",
        "        } else {\n",
        "            $myPB.progressbar({value: 0, max: 98});\n",
        "        }\n",
        "        "
       ],
       "metadata": {},
       "output_type": "display_data",
       "text": [
        "<IPython.core.display.Javascript at 0x1bec30b8>"
       ]
      },
      {
       "javascript": [
        "$('div#be81adb4-b581-4a00-a68e-b27745bdc4f1').text('ETA:  0:00:02');"
       ],
       "metadata": {},
       "output_type": "display_data",
       "text": [
        "<IPython.core.display.Javascript at 0x1bec3710>"
       ]
      },
      {
       "javascript": [
        "$('div#4bd98855-d528-4ec7-b74d-bb2309335724').text('35 of 98');"
       ],
       "metadata": {},
       "output_type": "display_data",
       "text": [
        "<IPython.core.display.Javascript at 0x1bec3f98>"
       ]
      },
      {
       "javascript": [
        "$('div#b9324454-5f17-4942-be47-2b59597f165c').text(' 35%');"
       ],
       "metadata": {},
       "output_type": "display_data",
       "text": [
        "<IPython.core.display.Javascript at 0x1bec3a20>"
       ]
      },
      {
       "javascript": [
        "\n",
        "        var $myPB = $(\"div#f40a52a1-eb7e-4fd0-9400-6b816c0da353\")\n",
        "        if ($myPB.hasClass('ui-progressbar')) {\n",
        "            $myPB.progressbar('value', 35);\n",
        "        } else {\n",
        "            $myPB.progressbar({value: 0, max: 98});\n",
        "        }\n",
        "        "
       ],
       "metadata": {},
       "output_type": "display_data",
       "text": [
        "<IPython.core.display.Javascript at 0x1bec3860>"
       ]
      },
      {
       "javascript": [
        "$('div#be81adb4-b581-4a00-a68e-b27745bdc4f1').text('ETA:  0:00:02');"
       ],
       "metadata": {},
       "output_type": "display_data",
       "text": [
        "<IPython.core.display.Javascript at 0x1bec3400>"
       ]
      },
      {
       "javascript": [
        "$('div#4bd98855-d528-4ec7-b74d-bb2309335724').text('36 of 98');"
       ],
       "metadata": {},
       "output_type": "display_data",
       "text": [
        "<IPython.core.display.Javascript at 0x1bec3f28>"
       ]
      },
      {
       "javascript": [
        "$('div#b9324454-5f17-4942-be47-2b59597f165c').text(' 36%');"
       ],
       "metadata": {},
       "output_type": "display_data",
       "text": [
        "<IPython.core.display.Javascript at 0x1bec3c50>"
       ]
      },
      {
       "javascript": [
        "\n",
        "        var $myPB = $(\"div#f40a52a1-eb7e-4fd0-9400-6b816c0da353\")\n",
        "        if ($myPB.hasClass('ui-progressbar')) {\n",
        "            $myPB.progressbar('value', 36);\n",
        "        } else {\n",
        "            $myPB.progressbar({value: 0, max: 98});\n",
        "        }\n",
        "        "
       ],
       "metadata": {},
       "output_type": "display_data",
       "text": [
        "<IPython.core.display.Javascript at 0x1bec3518>"
       ]
      },
      {
       "javascript": [
        "$('div#be81adb4-b581-4a00-a68e-b27745bdc4f1').text('ETA:  0:00:02');"
       ],
       "metadata": {},
       "output_type": "display_data",
       "text": [
        "<IPython.core.display.Javascript at 0x1bec3e10>"
       ]
      },
      {
       "javascript": [
        "$('div#4bd98855-d528-4ec7-b74d-bb2309335724').text('37 of 98');"
       ],
       "metadata": {},
       "output_type": "display_data",
       "text": [
        "<IPython.core.display.Javascript at 0x19dc4a90>"
       ]
      },
      {
       "javascript": [
        "$('div#b9324454-5f17-4942-be47-2b59597f165c').text(' 37%');"
       ],
       "metadata": {},
       "output_type": "display_data",
       "text": [
        "<IPython.core.display.Javascript at 0x19dc46d8>"
       ]
      },
      {
       "javascript": [
        "\n",
        "        var $myPB = $(\"div#f40a52a1-eb7e-4fd0-9400-6b816c0da353\")\n",
        "        if ($myPB.hasClass('ui-progressbar')) {\n",
        "            $myPB.progressbar('value', 37);\n",
        "        } else {\n",
        "            $myPB.progressbar({value: 0, max: 98});\n",
        "        }\n",
        "        "
       ],
       "metadata": {},
       "output_type": "display_data",
       "text": [
        "<IPython.core.display.Javascript at 0x19dc4518>"
       ]
      },
      {
       "javascript": [
        "$('div#be81adb4-b581-4a00-a68e-b27745bdc4f1').text('ETA:  0:00:02');"
       ],
       "metadata": {},
       "output_type": "display_data",
       "text": [
        "<IPython.core.display.Javascript at 0x19dc4518>"
       ]
      },
      {
       "javascript": [
        "$('div#4bd98855-d528-4ec7-b74d-bb2309335724').text('38 of 98');"
       ],
       "metadata": {},
       "output_type": "display_data",
       "text": [
        "<IPython.core.display.Javascript at 0x19dc4518>"
       ]
      },
      {
       "javascript": [
        "$('div#b9324454-5f17-4942-be47-2b59597f165c').text(' 38%');"
       ],
       "metadata": {},
       "output_type": "display_data",
       "text": [
        "<IPython.core.display.Javascript at 0x19dc4e80>"
       ]
      },
      {
       "javascript": [
        "\n",
        "        var $myPB = $(\"div#f40a52a1-eb7e-4fd0-9400-6b816c0da353\")\n",
        "        if ($myPB.hasClass('ui-progressbar')) {\n",
        "            $myPB.progressbar('value', 38);\n",
        "        } else {\n",
        "            $myPB.progressbar({value: 0, max: 98});\n",
        "        }\n",
        "        "
       ],
       "metadata": {},
       "output_type": "display_data",
       "text": [
        "<IPython.core.display.Javascript at 0x19dc4438>"
       ]
      },
      {
       "javascript": [
        "$('div#be81adb4-b581-4a00-a68e-b27745bdc4f1').text('ETA:  0:00:02');"
       ],
       "metadata": {},
       "output_type": "display_data",
       "text": [
        "<IPython.core.display.Javascript at 0x19dc42e8>"
       ]
      },
      {
       "javascript": [
        "$('div#4bd98855-d528-4ec7-b74d-bb2309335724').text('39 of 98');"
       ],
       "metadata": {},
       "output_type": "display_data",
       "text": [
        "<IPython.core.display.Javascript at 0x23af4e48>"
       ]
      },
      {
       "javascript": [
        "$('div#b9324454-5f17-4942-be47-2b59597f165c').text(' 39%');"
       ],
       "metadata": {},
       "output_type": "display_data",
       "text": [
        "<IPython.core.display.Javascript at 0x23af47f0>"
       ]
      },
      {
       "javascript": [
        "\n",
        "        var $myPB = $(\"div#f40a52a1-eb7e-4fd0-9400-6b816c0da353\")\n",
        "        if ($myPB.hasClass('ui-progressbar')) {\n",
        "            $myPB.progressbar('value', 39);\n",
        "        } else {\n",
        "            $myPB.progressbar({value: 0, max: 98});\n",
        "        }\n",
        "        "
       ],
       "metadata": {},
       "output_type": "display_data",
       "text": [
        "<IPython.core.display.Javascript at 0x23af44a8>"
       ]
      },
      {
       "javascript": [
        "$('div#be81adb4-b581-4a00-a68e-b27745bdc4f1').text('ETA:  0:00:02');"
       ],
       "metadata": {},
       "output_type": "display_data",
       "text": [
        "<IPython.core.display.Javascript at 0x23af43c8>"
       ]
      },
      {
       "javascript": [
        "$('div#4bd98855-d528-4ec7-b74d-bb2309335724').text('40 of 98');"
       ],
       "metadata": {},
       "output_type": "display_data",
       "text": [
        "<IPython.core.display.Javascript at 0x237e3470>"
       ]
      },
      {
       "javascript": [
        "$('div#b9324454-5f17-4942-be47-2b59597f165c').text(' 40%');"
       ],
       "metadata": {},
       "output_type": "display_data",
       "text": [
        "<IPython.core.display.Javascript at 0x237e3a90>"
       ]
      },
      {
       "javascript": [
        "\n",
        "        var $myPB = $(\"div#f40a52a1-eb7e-4fd0-9400-6b816c0da353\")\n",
        "        if ($myPB.hasClass('ui-progressbar')) {\n",
        "            $myPB.progressbar('value', 40);\n",
        "        } else {\n",
        "            $myPB.progressbar({value: 0, max: 98});\n",
        "        }\n",
        "        "
       ],
       "metadata": {},
       "output_type": "display_data",
       "text": [
        "<IPython.core.display.Javascript at 0x237e32e8>"
       ]
      },
      {
       "javascript": [
        "$('div#be81adb4-b581-4a00-a68e-b27745bdc4f1').text('ETA:  0:00:02');"
       ],
       "metadata": {},
       "output_type": "display_data",
       "text": [
        "<IPython.core.display.Javascript at 0x237e33c8>"
       ]
      },
      {
       "javascript": [
        "$('div#4bd98855-d528-4ec7-b74d-bb2309335724').text('41 of 98');"
       ],
       "metadata": {},
       "output_type": "display_data",
       "text": [
        "<IPython.core.display.Javascript at 0x237e3f60>"
       ]
      },
      {
       "javascript": [
        "$('div#b9324454-5f17-4942-be47-2b59597f165c').text(' 41%');"
       ],
       "metadata": {},
       "output_type": "display_data",
       "text": [
        "<IPython.core.display.Javascript at 0x237e3fd0>"
       ]
      },
      {
       "javascript": [
        "\n",
        "        var $myPB = $(\"div#f40a52a1-eb7e-4fd0-9400-6b816c0da353\")\n",
        "        if ($myPB.hasClass('ui-progressbar')) {\n",
        "            $myPB.progressbar('value', 41);\n",
        "        } else {\n",
        "            $myPB.progressbar({value: 0, max: 98});\n",
        "        }\n",
        "        "
       ],
       "metadata": {},
       "output_type": "display_data",
       "text": [
        "<IPython.core.display.Javascript at 0x237e3438>"
       ]
      },
      {
       "javascript": [
        "$('div#be81adb4-b581-4a00-a68e-b27745bdc4f1').text('ETA:  0:00:02');"
       ],
       "metadata": {},
       "output_type": "display_data",
       "text": [
        "<IPython.core.display.Javascript at 0x237e35c0>"
       ]
      },
      {
       "javascript": [
        "$('div#4bd98855-d528-4ec7-b74d-bb2309335724').text('42 of 98');"
       ],
       "metadata": {},
       "output_type": "display_data",
       "text": [
        "<IPython.core.display.Javascript at 0x237e3f28>"
       ]
      },
      {
       "javascript": [
        "$('div#b9324454-5f17-4942-be47-2b59597f165c').text(' 42%');"
       ],
       "metadata": {},
       "output_type": "display_data",
       "text": [
        "<IPython.core.display.Javascript at 0x237e3c50>"
       ]
      },
      {
       "javascript": [
        "\n",
        "        var $myPB = $(\"div#f40a52a1-eb7e-4fd0-9400-6b816c0da353\")\n",
        "        if ($myPB.hasClass('ui-progressbar')) {\n",
        "            $myPB.progressbar('value', 42);\n",
        "        } else {\n",
        "            $myPB.progressbar({value: 0, max: 98});\n",
        "        }\n",
        "        "
       ],
       "metadata": {},
       "output_type": "display_data",
       "text": [
        "<IPython.core.display.Javascript at 0x237e3fd0>"
       ]
      },
      {
       "javascript": [
        "$('div#be81adb4-b581-4a00-a68e-b27745bdc4f1').text('ETA:  0:00:02');"
       ],
       "metadata": {},
       "output_type": "display_data",
       "text": [
        "<IPython.core.display.Javascript at 0x237e3fd0>"
       ]
      },
      {
       "javascript": [
        "$('div#4bd98855-d528-4ec7-b74d-bb2309335724').text('43 of 98');"
       ],
       "metadata": {},
       "output_type": "display_data",
       "text": [
        "<IPython.core.display.Javascript at 0x237e37f0>"
       ]
      },
      {
       "javascript": [
        "$('div#b9324454-5f17-4942-be47-2b59597f165c').text(' 43%');"
       ],
       "metadata": {},
       "output_type": "display_data",
       "text": [
        "<IPython.core.display.Javascript at 0x237e3358>"
       ]
      },
      {
       "javascript": [
        "\n",
        "        var $myPB = $(\"div#f40a52a1-eb7e-4fd0-9400-6b816c0da353\")\n",
        "        if ($myPB.hasClass('ui-progressbar')) {\n",
        "            $myPB.progressbar('value', 43);\n",
        "        } else {\n",
        "            $myPB.progressbar({value: 0, max: 98});\n",
        "        }\n",
        "        "
       ],
       "metadata": {},
       "output_type": "display_data",
       "text": [
        "<IPython.core.display.Javascript at 0x237e3e80>"
       ]
      },
      {
       "javascript": [
        "$('div#be81adb4-b581-4a00-a68e-b27745bdc4f1').text('ETA:  0:00:02');"
       ],
       "metadata": {},
       "output_type": "display_data",
       "text": [
        "<IPython.core.display.Javascript at 0x237e3e80>"
       ]
      },
      {
       "javascript": [
        "$('div#4bd98855-d528-4ec7-b74d-bb2309335724').text('44 of 98');"
       ],
       "metadata": {},
       "output_type": "display_data",
       "text": [
        "<IPython.core.display.Javascript at 0x237e3b70>"
       ]
      },
      {
       "javascript": [
        "$('div#b9324454-5f17-4942-be47-2b59597f165c').text(' 44%');"
       ],
       "metadata": {},
       "output_type": "display_data",
       "text": [
        "<IPython.core.display.Javascript at 0x237e3b38>"
       ]
      },
      {
       "javascript": [
        "\n",
        "        var $myPB = $(\"div#f40a52a1-eb7e-4fd0-9400-6b816c0da353\")\n",
        "        if ($myPB.hasClass('ui-progressbar')) {\n",
        "            $myPB.progressbar('value', 44);\n",
        "        } else {\n",
        "            $myPB.progressbar({value: 0, max: 98});\n",
        "        }\n",
        "        "
       ],
       "metadata": {},
       "output_type": "display_data",
       "text": [
        "<IPython.core.display.Javascript at 0x237e3320>"
       ]
      },
      {
       "javascript": [
        "$('div#be81adb4-b581-4a00-a68e-b27745bdc4f1').text('ETA:  0:00:02');"
       ],
       "metadata": {},
       "output_type": "display_data",
       "text": [
        "<IPython.core.display.Javascript at 0x237e3320>"
       ]
      },
      {
       "javascript": [
        "$('div#4bd98855-d528-4ec7-b74d-bb2309335724').text('45 of 98');"
       ],
       "metadata": {},
       "output_type": "display_data",
       "text": [
        "<IPython.core.display.Javascript at 0x237e3dd8>"
       ]
      },
      {
       "javascript": [
        "$('div#b9324454-5f17-4942-be47-2b59597f165c').text(' 45%');"
       ],
       "metadata": {},
       "output_type": "display_data",
       "text": [
        "<IPython.core.display.Javascript at 0x237e3dd8>"
       ]
      },
      {
       "javascript": [
        "\n",
        "        var $myPB = $(\"div#f40a52a1-eb7e-4fd0-9400-6b816c0da353\")\n",
        "        if ($myPB.hasClass('ui-progressbar')) {\n",
        "            $myPB.progressbar('value', 45);\n",
        "        } else {\n",
        "            $myPB.progressbar({value: 0, max: 98});\n",
        "        }\n",
        "        "
       ],
       "metadata": {},
       "output_type": "display_data",
       "text": [
        "<IPython.core.display.Javascript at 0x237e3ba8>"
       ]
      },
      {
       "javascript": [
        "$('div#be81adb4-b581-4a00-a68e-b27745bdc4f1').text('ETA:  0:00:02');"
       ],
       "metadata": {},
       "output_type": "display_data",
       "text": [
        "<IPython.core.display.Javascript at 0x237e3710>"
       ]
      },
      {
       "javascript": [
        "$('div#4bd98855-d528-4ec7-b74d-bb2309335724').text('46 of 98');"
       ],
       "metadata": {},
       "output_type": "display_data",
       "text": [
        "<IPython.core.display.Javascript at 0x237e3048>"
       ]
      },
      {
       "javascript": [
        "$('div#b9324454-5f17-4942-be47-2b59597f165c').text(' 46%');"
       ],
       "metadata": {},
       "output_type": "display_data",
       "text": [
        "<IPython.core.display.Javascript at 0x237e3940>"
       ]
      },
      {
       "javascript": [
        "\n",
        "        var $myPB = $(\"div#f40a52a1-eb7e-4fd0-9400-6b816c0da353\")\n",
        "        if ($myPB.hasClass('ui-progressbar')) {\n",
        "            $myPB.progressbar('value', 46);\n",
        "        } else {\n",
        "            $myPB.progressbar({value: 0, max: 98});\n",
        "        }\n",
        "        "
       ],
       "metadata": {},
       "output_type": "display_data",
       "text": [
        "<IPython.core.display.Javascript at 0x237e3b00>"
       ]
      },
      {
       "javascript": [
        "$('div#be81adb4-b581-4a00-a68e-b27745bdc4f1').text('ETA:  0:00:01');"
       ],
       "metadata": {},
       "output_type": "display_data",
       "text": [
        "<IPython.core.display.Javascript at 0x19f64d68>"
       ]
      },
      {
       "javascript": [
        "$('div#4bd98855-d528-4ec7-b74d-bb2309335724').text('47 of 98');"
       ],
       "metadata": {},
       "output_type": "display_data",
       "text": [
        "<IPython.core.display.Javascript at 0x19f649b0>"
       ]
      },
      {
       "javascript": [
        "$('div#b9324454-5f17-4942-be47-2b59597f165c').text(' 47%');"
       ],
       "metadata": {},
       "output_type": "display_data",
       "text": [
        "<IPython.core.display.Javascript at 0x19f649b0>"
       ]
      },
      {
       "javascript": [
        "\n",
        "        var $myPB = $(\"div#f40a52a1-eb7e-4fd0-9400-6b816c0da353\")\n",
        "        if ($myPB.hasClass('ui-progressbar')) {\n",
        "            $myPB.progressbar('value', 47);\n",
        "        } else {\n",
        "            $myPB.progressbar({value: 0, max: 98});\n",
        "        }\n",
        "        "
       ],
       "metadata": {},
       "output_type": "display_data",
       "text": [
        "<IPython.core.display.Javascript at 0x19f64048>"
       ]
      },
      {
       "javascript": [
        "$('div#be81adb4-b581-4a00-a68e-b27745bdc4f1').text('ETA:  0:00:01');"
       ],
       "metadata": {},
       "output_type": "display_data",
       "text": [
        "<IPython.core.display.Javascript at 0x19f64358>"
       ]
      },
      {
       "javascript": [
        "$('div#4bd98855-d528-4ec7-b74d-bb2309335724').text('48 of 98');"
       ],
       "metadata": {},
       "output_type": "display_data",
       "text": [
        "<IPython.core.display.Javascript at 0x19f64fd0>"
       ]
      },
      {
       "javascript": [
        "$('div#b9324454-5f17-4942-be47-2b59597f165c').text(' 48%');"
       ],
       "metadata": {},
       "output_type": "display_data",
       "text": [
        "<IPython.core.display.Javascript at 0x19f642e8>"
       ]
      },
      {
       "javascript": [
        "\n",
        "        var $myPB = $(\"div#f40a52a1-eb7e-4fd0-9400-6b816c0da353\")\n",
        "        if ($myPB.hasClass('ui-progressbar')) {\n",
        "            $myPB.progressbar('value', 48);\n",
        "        } else {\n",
        "            $myPB.progressbar({value: 0, max: 98});\n",
        "        }\n",
        "        "
       ],
       "metadata": {},
       "output_type": "display_data",
       "text": [
        "<IPython.core.display.Javascript at 0x19f64ba8>"
       ]
      },
      {
       "javascript": [
        "$('div#be81adb4-b581-4a00-a68e-b27745bdc4f1').text('ETA:  0:00:01');"
       ],
       "metadata": {},
       "output_type": "display_data",
       "text": [
        "<IPython.core.display.Javascript at 0x19f640b8>"
       ]
      },
      {
       "javascript": [
        "$('div#4bd98855-d528-4ec7-b74d-bb2309335724').text('49 of 98');"
       ],
       "metadata": {},
       "output_type": "display_data",
       "text": [
        "<IPython.core.display.Javascript at 0x19f64d30>"
       ]
      },
      {
       "javascript": [
        "$('div#b9324454-5f17-4942-be47-2b59597f165c').text(' 50%');"
       ],
       "metadata": {},
       "output_type": "display_data",
       "text": [
        "<IPython.core.display.Javascript at 0x246e6780>"
       ]
      },
      {
       "javascript": [
        "\n",
        "        var $myPB = $(\"div#f40a52a1-eb7e-4fd0-9400-6b816c0da353\")\n",
        "        if ($myPB.hasClass('ui-progressbar')) {\n",
        "            $myPB.progressbar('value', 49);\n",
        "        } else {\n",
        "            $myPB.progressbar({value: 0, max: 98});\n",
        "        }\n",
        "        "
       ],
       "metadata": {},
       "output_type": "display_data",
       "text": [
        "<IPython.core.display.Javascript at 0x19f64d30>"
       ]
      },
      {
       "javascript": [
        "$('div#be81adb4-b581-4a00-a68e-b27745bdc4f1').text('ETA:  0:00:01');"
       ],
       "metadata": {},
       "output_type": "display_data",
       "text": [
        "<IPython.core.display.Javascript at 0x246e6780>"
       ]
      },
      {
       "javascript": [
        "$('div#4bd98855-d528-4ec7-b74d-bb2309335724').text('50 of 98');"
       ],
       "metadata": {},
       "output_type": "display_data",
       "text": [
        "<IPython.core.display.Javascript at 0x246e6a90>"
       ]
      },
      {
       "javascript": [
        "$('div#b9324454-5f17-4942-be47-2b59597f165c').text(' 51%');"
       ],
       "metadata": {},
       "output_type": "display_data",
       "text": [
        "<IPython.core.display.Javascript at 0x246e65c0>"
       ]
      },
      {
       "javascript": [
        "\n",
        "        var $myPB = $(\"div#f40a52a1-eb7e-4fd0-9400-6b816c0da353\")\n",
        "        if ($myPB.hasClass('ui-progressbar')) {\n",
        "            $myPB.progressbar('value', 50);\n",
        "        } else {\n",
        "            $myPB.progressbar({value: 0, max: 98});\n",
        "        }\n",
        "        "
       ],
       "metadata": {},
       "output_type": "display_data",
       "text": [
        "<IPython.core.display.Javascript at 0x246e67f0>"
       ]
      },
      {
       "javascript": [
        "$('div#be81adb4-b581-4a00-a68e-b27745bdc4f1').text('ETA:  0:00:01');"
       ],
       "metadata": {},
       "output_type": "display_data",
       "text": [
        "<IPython.core.display.Javascript at 0x246e67f0>"
       ]
      },
      {
       "javascript": [
        "$('div#4bd98855-d528-4ec7-b74d-bb2309335724').text('51 of 98');"
       ],
       "metadata": {},
       "output_type": "display_data",
       "text": [
        "<IPython.core.display.Javascript at 0x235e2a90>"
       ]
      },
      {
       "javascript": [
        "$('div#b9324454-5f17-4942-be47-2b59597f165c').text(' 52%');"
       ],
       "metadata": {},
       "output_type": "display_data",
       "text": [
        "<IPython.core.display.Javascript at 0x235e2208>"
       ]
      },
      {
       "javascript": [
        "\n",
        "        var $myPB = $(\"div#f40a52a1-eb7e-4fd0-9400-6b816c0da353\")\n",
        "        if ($myPB.hasClass('ui-progressbar')) {\n",
        "            $myPB.progressbar('value', 51);\n",
        "        } else {\n",
        "            $myPB.progressbar({value: 0, max: 98});\n",
        "        }\n",
        "        "
       ],
       "metadata": {},
       "output_type": "display_data",
       "text": [
        "<IPython.core.display.Javascript at 0x235e28d0>"
       ]
      },
      {
       "javascript": [
        "$('div#be81adb4-b581-4a00-a68e-b27745bdc4f1').text('ETA:  0:00:01');"
       ],
       "metadata": {},
       "output_type": "display_data",
       "text": [
        "<IPython.core.display.Javascript at 0x235e2860>"
       ]
      },
      {
       "javascript": [
        "$('div#4bd98855-d528-4ec7-b74d-bb2309335724').text('52 of 98');"
       ],
       "metadata": {},
       "output_type": "display_data",
       "text": [
        "<IPython.core.display.Javascript at 0x235e2ba8>"
       ]
      },
      {
       "javascript": [
        "$('div#b9324454-5f17-4942-be47-2b59597f165c').text(' 53%');"
       ],
       "metadata": {},
       "output_type": "display_data",
       "text": [
        "<IPython.core.display.Javascript at 0x235e20b8>"
       ]
      },
      {
       "javascript": [
        "\n",
        "        var $myPB = $(\"div#f40a52a1-eb7e-4fd0-9400-6b816c0da353\")\n",
        "        if ($myPB.hasClass('ui-progressbar')) {\n",
        "            $myPB.progressbar('value', 52);\n",
        "        } else {\n",
        "            $myPB.progressbar({value: 0, max: 98});\n",
        "        }\n",
        "        "
       ],
       "metadata": {},
       "output_type": "display_data",
       "text": [
        "<IPython.core.display.Javascript at 0x235e2240>"
       ]
      },
      {
       "javascript": [
        "$('div#be81adb4-b581-4a00-a68e-b27745bdc4f1').text('ETA:  0:00:01');"
       ],
       "metadata": {},
       "output_type": "display_data",
       "text": [
        "<IPython.core.display.Javascript at 0x235e2240>"
       ]
      },
      {
       "javascript": [
        "$('div#4bd98855-d528-4ec7-b74d-bb2309335724').text('53 of 98');"
       ],
       "metadata": {},
       "output_type": "display_data",
       "text": [
        "<IPython.core.display.Javascript at 0x18aecf28>"
       ]
      },
      {
       "javascript": [
        "$('div#b9324454-5f17-4942-be47-2b59597f165c').text(' 54%');"
       ],
       "metadata": {},
       "output_type": "display_data",
       "text": [
        "<IPython.core.display.Javascript at 0x18aecf28>"
       ]
      },
      {
       "javascript": [
        "\n",
        "        var $myPB = $(\"div#f40a52a1-eb7e-4fd0-9400-6b816c0da353\")\n",
        "        if ($myPB.hasClass('ui-progressbar')) {\n",
        "            $myPB.progressbar('value', 53);\n",
        "        } else {\n",
        "            $myPB.progressbar({value: 0, max: 98});\n",
        "        }\n",
        "        "
       ],
       "metadata": {},
       "output_type": "display_data",
       "text": [
        "<IPython.core.display.Javascript at 0x18aec6d8>"
       ]
      },
      {
       "javascript": [
        "$('div#be81adb4-b581-4a00-a68e-b27745bdc4f1').text('ETA:  0:00:01');"
       ],
       "metadata": {},
       "output_type": "display_data",
       "text": [
        "<IPython.core.display.Javascript at 0x18aec9e8>"
       ]
      },
      {
       "javascript": [
        "$('div#4bd98855-d528-4ec7-b74d-bb2309335724').text('54 of 98');"
       ],
       "metadata": {},
       "output_type": "display_data",
       "text": [
        "<IPython.core.display.Javascript at 0x24465a90>"
       ]
      },
      {
       "javascript": [
        "$('div#b9324454-5f17-4942-be47-2b59597f165c').text(' 55%');"
       ],
       "metadata": {},
       "output_type": "display_data",
       "text": [
        "<IPython.core.display.Javascript at 0x24465e80>"
       ]
      },
      {
       "javascript": [
        "\n",
        "        var $myPB = $(\"div#f40a52a1-eb7e-4fd0-9400-6b816c0da353\")\n",
        "        if ($myPB.hasClass('ui-progressbar')) {\n",
        "            $myPB.progressbar('value', 54);\n",
        "        } else {\n",
        "            $myPB.progressbar({value: 0, max: 98});\n",
        "        }\n",
        "        "
       ],
       "metadata": {},
       "output_type": "display_data",
       "text": [
        "<IPython.core.display.Javascript at 0x24465518>"
       ]
      },
      {
       "javascript": [
        "$('div#be81adb4-b581-4a00-a68e-b27745bdc4f1').text('ETA:  0:00:01');"
       ],
       "metadata": {},
       "output_type": "display_data",
       "text": [
        "<IPython.core.display.Javascript at 0x24465358>"
       ]
      },
      {
       "javascript": [
        "$('div#4bd98855-d528-4ec7-b74d-bb2309335724').text('55 of 98');"
       ],
       "metadata": {},
       "output_type": "display_data",
       "text": [
        "<IPython.core.display.Javascript at 0x24465128>"
       ]
      },
      {
       "javascript": [
        "$('div#b9324454-5f17-4942-be47-2b59597f165c').text(' 56%');"
       ],
       "metadata": {},
       "output_type": "display_data",
       "text": [
        "<IPython.core.display.Javascript at 0x24465860>"
       ]
      },
      {
       "javascript": [
        "\n",
        "        var $myPB = $(\"div#f40a52a1-eb7e-4fd0-9400-6b816c0da353\")\n",
        "        if ($myPB.hasClass('ui-progressbar')) {\n",
        "            $myPB.progressbar('value', 55);\n",
        "        } else {\n",
        "            $myPB.progressbar({value: 0, max: 98});\n",
        "        }\n",
        "        "
       ],
       "metadata": {},
       "output_type": "display_data",
       "text": [
        "<IPython.core.display.Javascript at 0x24465080>"
       ]
      },
      {
       "javascript": [
        "$('div#be81adb4-b581-4a00-a68e-b27745bdc4f1').text('ETA:  0:00:01');"
       ],
       "metadata": {},
       "output_type": "display_data",
       "text": [
        "<IPython.core.display.Javascript at 0x244657f0>"
       ]
      },
      {
       "javascript": [
        "$('div#4bd98855-d528-4ec7-b74d-bb2309335724').text('56 of 98');"
       ],
       "metadata": {},
       "output_type": "display_data",
       "text": [
        "<IPython.core.display.Javascript at 0x2452b278>"
       ]
      },
      {
       "javascript": [
        "$('div#b9324454-5f17-4942-be47-2b59597f165c').text(' 57%');"
       ],
       "metadata": {},
       "output_type": "display_data",
       "text": [
        "<IPython.core.display.Javascript at 0x2452b6a0>"
       ]
      },
      {
       "javascript": [
        "\n",
        "        var $myPB = $(\"div#f40a52a1-eb7e-4fd0-9400-6b816c0da353\")\n",
        "        if ($myPB.hasClass('ui-progressbar')) {\n",
        "            $myPB.progressbar('value', 56);\n",
        "        } else {\n",
        "            $myPB.progressbar({value: 0, max: 98});\n",
        "        }\n",
        "        "
       ],
       "metadata": {},
       "output_type": "display_data",
       "text": [
        "<IPython.core.display.Javascript at 0x2452bdd8>"
       ]
      },
      {
       "javascript": [
        "$('div#be81adb4-b581-4a00-a68e-b27745bdc4f1').text('ETA:  0:00:01');"
       ],
       "metadata": {},
       "output_type": "display_data",
       "text": [
        "<IPython.core.display.Javascript at 0x2452bdd8>"
       ]
      },
      {
       "javascript": [
        "$('div#4bd98855-d528-4ec7-b74d-bb2309335724').text('57 of 98');"
       ],
       "metadata": {},
       "output_type": "display_data",
       "text": [
        "<IPython.core.display.Javascript at 0x2452b5f8>"
       ]
      },
      {
       "javascript": [
        "$('div#b9324454-5f17-4942-be47-2b59597f165c').text(' 58%');"
       ],
       "metadata": {},
       "output_type": "display_data",
       "text": [
        "<IPython.core.display.Javascript at 0x2452bba8>"
       ]
      },
      {
       "javascript": [
        "\n",
        "        var $myPB = $(\"div#f40a52a1-eb7e-4fd0-9400-6b816c0da353\")\n",
        "        if ($myPB.hasClass('ui-progressbar')) {\n",
        "            $myPB.progressbar('value', 57);\n",
        "        } else {\n",
        "            $myPB.progressbar({value: 0, max: 98});\n",
        "        }\n",
        "        "
       ],
       "metadata": {},
       "output_type": "display_data",
       "text": [
        "<IPython.core.display.Javascript at 0x2452bba8>"
       ]
      },
      {
       "javascript": [
        "$('div#be81adb4-b581-4a00-a68e-b27745bdc4f1').text('ETA:  0:00:01');"
       ],
       "metadata": {},
       "output_type": "display_data",
       "text": [
        "<IPython.core.display.Javascript at 0x2452b358>"
       ]
      },
      {
       "javascript": [
        "$('div#4bd98855-d528-4ec7-b74d-bb2309335724').text('58 of 98');"
       ],
       "metadata": {},
       "output_type": "display_data",
       "text": [
        "<IPython.core.display.Javascript at 0x1bfd9d30>"
       ]
      },
      {
       "javascript": [
        "$('div#b9324454-5f17-4942-be47-2b59597f165c').text(' 59%');"
       ],
       "metadata": {},
       "output_type": "display_data",
       "text": [
        "<IPython.core.display.Javascript at 0x1bfd94a8>"
       ]
      },
      {
       "javascript": [
        "\n",
        "        var $myPB = $(\"div#f40a52a1-eb7e-4fd0-9400-6b816c0da353\")\n",
        "        if ($myPB.hasClass('ui-progressbar')) {\n",
        "            $myPB.progressbar('value', 58);\n",
        "        } else {\n",
        "            $myPB.progressbar({value: 0, max: 98});\n",
        "        }\n",
        "        "
       ],
       "metadata": {},
       "output_type": "display_data",
       "text": [
        "<IPython.core.display.Javascript at 0x1bfd9748>"
       ]
      },
      {
       "javascript": [
        "$('div#be81adb4-b581-4a00-a68e-b27745bdc4f1').text('ETA:  0:00:01');"
       ],
       "metadata": {},
       "output_type": "display_data",
       "text": [
        "<IPython.core.display.Javascript at 0x1bfd9748>"
       ]
      },
      {
       "javascript": [
        "$('div#4bd98855-d528-4ec7-b74d-bb2309335724').text('59 of 98');"
       ],
       "metadata": {},
       "output_type": "display_data",
       "text": [
        "<IPython.core.display.Javascript at 0x1bfd96d8>"
       ]
      },
      {
       "javascript": [
        "$('div#b9324454-5f17-4942-be47-2b59597f165c').text(' 60%');"
       ],
       "metadata": {},
       "output_type": "display_data",
       "text": [
        "<IPython.core.display.Javascript at 0x1bfd9860>"
       ]
      },
      {
       "javascript": [
        "\n",
        "        var $myPB = $(\"div#f40a52a1-eb7e-4fd0-9400-6b816c0da353\")\n",
        "        if ($myPB.hasClass('ui-progressbar')) {\n",
        "            $myPB.progressbar('value', 59);\n",
        "        } else {\n",
        "            $myPB.progressbar({value: 0, max: 98});\n",
        "        }\n",
        "        "
       ],
       "metadata": {},
       "output_type": "display_data",
       "text": [
        "<IPython.core.display.Javascript at 0x1bfd9860>"
       ]
      },
      {
       "javascript": [
        "$('div#be81adb4-b581-4a00-a68e-b27745bdc4f1').text('ETA:  0:00:01');"
       ],
       "metadata": {},
       "output_type": "display_data",
       "text": [
        "<IPython.core.display.Javascript at 0x1bfd9940>"
       ]
      },
      {
       "javascript": [
        "$('div#4bd98855-d528-4ec7-b74d-bb2309335724').text('60 of 98');"
       ],
       "metadata": {},
       "output_type": "display_data",
       "text": [
        "<IPython.core.display.Javascript at 0x1fa63ac8>"
       ]
      },
      {
       "javascript": [
        "$('div#b9324454-5f17-4942-be47-2b59597f165c').text(' 61%');"
       ],
       "metadata": {},
       "output_type": "display_data",
       "text": [
        "<IPython.core.display.Javascript at 0x1fa63080>"
       ]
      },
      {
       "javascript": [
        "\n",
        "        var $myPB = $(\"div#f40a52a1-eb7e-4fd0-9400-6b816c0da353\")\n",
        "        if ($myPB.hasClass('ui-progressbar')) {\n",
        "            $myPB.progressbar('value', 60);\n",
        "        } else {\n",
        "            $myPB.progressbar({value: 0, max: 98});\n",
        "        }\n",
        "        "
       ],
       "metadata": {},
       "output_type": "display_data",
       "text": [
        "<IPython.core.display.Javascript at 0x1fa63a90>"
       ]
      },
      {
       "javascript": [
        "$('div#be81adb4-b581-4a00-a68e-b27745bdc4f1').text('ETA:  0:00:01');"
       ],
       "metadata": {},
       "output_type": "display_data",
       "text": [
        "<IPython.core.display.Javascript at 0x1fa639b0>"
       ]
      },
      {
       "javascript": [
        "$('div#4bd98855-d528-4ec7-b74d-bb2309335724').text('61 of 98');"
       ],
       "metadata": {},
       "output_type": "display_data",
       "text": [
        "<IPython.core.display.Javascript at 0x19314080>"
       ]
      },
      {
       "javascript": [
        "$('div#b9324454-5f17-4942-be47-2b59597f165c').text(' 62%');"
       ],
       "metadata": {},
       "output_type": "display_data",
       "text": [
        "<IPython.core.display.Javascript at 0x19314080>"
       ]
      },
      {
       "javascript": [
        "\n",
        "        var $myPB = $(\"div#f40a52a1-eb7e-4fd0-9400-6b816c0da353\")\n",
        "        if ($myPB.hasClass('ui-progressbar')) {\n",
        "            $myPB.progressbar('value', 61);\n",
        "        } else {\n",
        "            $myPB.progressbar({value: 0, max: 98});\n",
        "        }\n",
        "        "
       ],
       "metadata": {},
       "output_type": "display_data",
       "text": [
        "<IPython.core.display.Javascript at 0x1bad4358>"
       ]
      },
      {
       "javascript": [
        "$('div#be81adb4-b581-4a00-a68e-b27745bdc4f1').text('ETA:  0:00:01');"
       ],
       "metadata": {},
       "output_type": "display_data",
       "text": [
        "<IPython.core.display.Javascript at 0x1bad46a0>"
       ]
      },
      {
       "javascript": [
        "$('div#4bd98855-d528-4ec7-b74d-bb2309335724').text('62 of 98');"
       ],
       "metadata": {},
       "output_type": "display_data",
       "text": [
        "<IPython.core.display.Javascript at 0x20d093c8>"
       ]
      },
      {
       "javascript": [
        "$('div#b9324454-5f17-4942-be47-2b59597f165c').text(' 63%');"
       ],
       "metadata": {},
       "output_type": "display_data",
       "text": [
        "<IPython.core.display.Javascript at 0x20d09a20>"
       ]
      },
      {
       "javascript": [
        "\n",
        "        var $myPB = $(\"div#f40a52a1-eb7e-4fd0-9400-6b816c0da353\")\n",
        "        if ($myPB.hasClass('ui-progressbar')) {\n",
        "            $myPB.progressbar('value', 62);\n",
        "        } else {\n",
        "            $myPB.progressbar({value: 0, max: 98});\n",
        "        }\n",
        "        "
       ],
       "metadata": {},
       "output_type": "display_data",
       "text": [
        "<IPython.core.display.Javascript at 0x20d09a20>"
       ]
      },
      {
       "javascript": [
        "$('div#be81adb4-b581-4a00-a68e-b27745bdc4f1').text('ETA:  0:00:01');"
       ],
       "metadata": {},
       "output_type": "display_data",
       "text": [
        "<IPython.core.display.Javascript at 0x20d09a90>"
       ]
      },
      {
       "javascript": [
        "$('div#4bd98855-d528-4ec7-b74d-bb2309335724').text('63 of 98');"
       ],
       "metadata": {},
       "output_type": "display_data",
       "text": [
        "<IPython.core.display.Javascript at 0x2026c588>"
       ]
      },
      {
       "javascript": [
        "$('div#b9324454-5f17-4942-be47-2b59597f165c').text(' 64%');"
       ],
       "metadata": {},
       "output_type": "display_data",
       "text": [
        "<IPython.core.display.Javascript at 0x2026cd68>"
       ]
      },
      {
       "javascript": [
        "\n",
        "        var $myPB = $(\"div#f40a52a1-eb7e-4fd0-9400-6b816c0da353\")\n",
        "        if ($myPB.hasClass('ui-progressbar')) {\n",
        "            $myPB.progressbar('value', 63);\n",
        "        } else {\n",
        "            $myPB.progressbar({value: 0, max: 98});\n",
        "        }\n",
        "        "
       ],
       "metadata": {},
       "output_type": "display_data",
       "text": [
        "<IPython.core.display.Javascript at 0x2026c9e8>"
       ]
      },
      {
       "javascript": [
        "$('div#be81adb4-b581-4a00-a68e-b27745bdc4f1').text('ETA:  0:00:01');"
       ],
       "metadata": {},
       "output_type": "display_data",
       "text": [
        "<IPython.core.display.Javascript at 0x2026c9e8>"
       ]
      },
      {
       "javascript": [
        "$('div#4bd98855-d528-4ec7-b74d-bb2309335724').text('64 of 98');"
       ],
       "metadata": {},
       "output_type": "display_data",
       "text": [
        "<IPython.core.display.Javascript at 0x23a894a8>"
       ]
      },
      {
       "javascript": [
        "$('div#b9324454-5f17-4942-be47-2b59597f165c').text(' 65%');"
       ],
       "metadata": {},
       "output_type": "display_data",
       "text": [
        "<IPython.core.display.Javascript at 0x23a89518>"
       ]
      },
      {
       "javascript": [
        "\n",
        "        var $myPB = $(\"div#f40a52a1-eb7e-4fd0-9400-6b816c0da353\")\n",
        "        if ($myPB.hasClass('ui-progressbar')) {\n",
        "            $myPB.progressbar('value', 64);\n",
        "        } else {\n",
        "            $myPB.progressbar({value: 0, max: 98});\n",
        "        }\n",
        "        "
       ],
       "metadata": {},
       "output_type": "display_data",
       "text": [
        "<IPython.core.display.Javascript at 0x23a89048>"
       ]
      },
      {
       "javascript": [
        "$('div#be81adb4-b581-4a00-a68e-b27745bdc4f1').text('ETA:  0:00:01');"
       ],
       "metadata": {},
       "output_type": "display_data",
       "text": [
        "<IPython.core.display.Javascript at 0x23a896a0>"
       ]
      },
      {
       "javascript": [
        "$('div#4bd98855-d528-4ec7-b74d-bb2309335724').text('65 of 98');"
       ],
       "metadata": {},
       "output_type": "display_data",
       "text": [
        "<IPython.core.display.Javascript at 0x1b9c4cc0>"
       ]
      },
      {
       "javascript": [
        "$('div#b9324454-5f17-4942-be47-2b59597f165c').text(' 66%');"
       ],
       "metadata": {},
       "output_type": "display_data",
       "text": [
        "<IPython.core.display.Javascript at 0x1b9c4780>"
       ]
      },
      {
       "javascript": [
        "\n",
        "        var $myPB = $(\"div#f40a52a1-eb7e-4fd0-9400-6b816c0da353\")\n",
        "        if ($myPB.hasClass('ui-progressbar')) {\n",
        "            $myPB.progressbar('value', 65);\n",
        "        } else {\n",
        "            $myPB.progressbar({value: 0, max: 98});\n",
        "        }\n",
        "        "
       ],
       "metadata": {},
       "output_type": "display_data",
       "text": [
        "<IPython.core.display.Javascript at 0x1b9c4978>"
       ]
      },
      {
       "javascript": [
        "$('div#be81adb4-b581-4a00-a68e-b27745bdc4f1').text('ETA:  0:00:01');"
       ],
       "metadata": {},
       "output_type": "display_data",
       "text": [
        "<IPython.core.display.Javascript at 0x1b9c4320>"
       ]
      },
      {
       "javascript": [
        "$('div#4bd98855-d528-4ec7-b74d-bb2309335724').text('66 of 98');"
       ],
       "metadata": {},
       "output_type": "display_data",
       "text": [
        "<IPython.core.display.Javascript at 0x1fbf02b0>"
       ]
      },
      {
       "javascript": [
        "$('div#b9324454-5f17-4942-be47-2b59597f165c').text(' 67%');"
       ],
       "metadata": {},
       "output_type": "display_data",
       "text": [
        "<IPython.core.display.Javascript at 0x1fbf0278>"
       ]
      },
      {
       "javascript": [
        "\n",
        "        var $myPB = $(\"div#f40a52a1-eb7e-4fd0-9400-6b816c0da353\")\n",
        "        if ($myPB.hasClass('ui-progressbar')) {\n",
        "            $myPB.progressbar('value', 66);\n",
        "        } else {\n",
        "            $myPB.progressbar({value: 0, max: 98});\n",
        "        }\n",
        "        "
       ],
       "metadata": {},
       "output_type": "display_data",
       "text": [
        "<IPython.core.display.Javascript at 0x1fbf07f0>"
       ]
      },
      {
       "javascript": [
        "$('div#be81adb4-b581-4a00-a68e-b27745bdc4f1').text('ETA:  0:00:01');"
       ],
       "metadata": {},
       "output_type": "display_data",
       "text": [
        "<IPython.core.display.Javascript at 0x1fbf0d30>"
       ]
      },
      {
       "javascript": [
        "$('div#4bd98855-d528-4ec7-b74d-bb2309335724').text('67 of 98');"
       ],
       "metadata": {},
       "output_type": "display_data",
       "text": [
        "<IPython.core.display.Javascript at 0x1ee114a8>"
       ]
      },
      {
       "javascript": [
        "$('div#b9324454-5f17-4942-be47-2b59597f165c').text(' 68%');"
       ],
       "metadata": {},
       "output_type": "display_data",
       "text": [
        "<IPython.core.display.Javascript at 0x1ee114a8>"
       ]
      },
      {
       "javascript": [
        "\n",
        "        var $myPB = $(\"div#f40a52a1-eb7e-4fd0-9400-6b816c0da353\")\n",
        "        if ($myPB.hasClass('ui-progressbar')) {\n",
        "            $myPB.progressbar('value', 67);\n",
        "        } else {\n",
        "            $myPB.progressbar({value: 0, max: 98});\n",
        "        }\n",
        "        "
       ],
       "metadata": {},
       "output_type": "display_data",
       "text": [
        "<IPython.core.display.Javascript at 0x1ee11b38>"
       ]
      },
      {
       "javascript": [
        "$('div#be81adb4-b581-4a00-a68e-b27745bdc4f1').text('ETA:  0:00:01');"
       ],
       "metadata": {},
       "output_type": "display_data",
       "text": [
        "<IPython.core.display.Javascript at 0x1ee11cc0>"
       ]
      },
      {
       "javascript": [
        "$('div#4bd98855-d528-4ec7-b74d-bb2309335724').text('68 of 98');"
       ],
       "metadata": {},
       "output_type": "display_data",
       "text": [
        "<IPython.core.display.Javascript at 0x208ad668>"
       ]
      },
      {
       "javascript": [
        "$('div#b9324454-5f17-4942-be47-2b59597f165c').text(' 69%');"
       ],
       "metadata": {},
       "output_type": "display_data",
       "text": [
        "<IPython.core.display.Javascript at 0x208ad6a0>"
       ]
      },
      {
       "javascript": [
        "\n",
        "        var $myPB = $(\"div#f40a52a1-eb7e-4fd0-9400-6b816c0da353\")\n",
        "        if ($myPB.hasClass('ui-progressbar')) {\n",
        "            $myPB.progressbar('value', 68);\n",
        "        } else {\n",
        "            $myPB.progressbar({value: 0, max: 98});\n",
        "        }\n",
        "        "
       ],
       "metadata": {},
       "output_type": "display_data",
       "text": [
        "<IPython.core.display.Javascript at 0x208ad6a0>"
       ]
      },
      {
       "javascript": [
        "$('div#be81adb4-b581-4a00-a68e-b27745bdc4f1').text('ETA:  0:00:01');"
       ],
       "metadata": {},
       "output_type": "display_data",
       "text": [
        "<IPython.core.display.Javascript at 0x208ad710>"
       ]
      },
      {
       "javascript": [
        "$('div#4bd98855-d528-4ec7-b74d-bb2309335724').text('69 of 98');"
       ],
       "metadata": {},
       "output_type": "display_data",
       "text": [
        "<IPython.core.display.Javascript at 0x208ad278>"
       ]
      },
      {
       "javascript": [
        "$('div#b9324454-5f17-4942-be47-2b59597f165c').text(' 70%');"
       ],
       "metadata": {},
       "output_type": "display_data",
       "text": [
        "<IPython.core.display.Javascript at 0x208ad6d8>"
       ]
      },
      {
       "javascript": [
        "\n",
        "        var $myPB = $(\"div#f40a52a1-eb7e-4fd0-9400-6b816c0da353\")\n",
        "        if ($myPB.hasClass('ui-progressbar')) {\n",
        "            $myPB.progressbar('value', 69);\n",
        "        } else {\n",
        "            $myPB.progressbar({value: 0, max: 98});\n",
        "        }\n",
        "        "
       ],
       "metadata": {},
       "output_type": "display_data",
       "text": [
        "<IPython.core.display.Javascript at 0x208ad6d8>"
       ]
      },
      {
       "javascript": [
        "$('div#be81adb4-b581-4a00-a68e-b27745bdc4f1').text('ETA:  0:00:01');"
       ],
       "metadata": {},
       "output_type": "display_data",
       "text": [
        "<IPython.core.display.Javascript at 0x208ad860>"
       ]
      },
      {
       "javascript": [
        "$('div#4bd98855-d528-4ec7-b74d-bb2309335724').text('70 of 98');"
       ],
       "metadata": {},
       "output_type": "display_data",
       "text": [
        "<IPython.core.display.Javascript at 0x24907c50>"
       ]
      },
      {
       "javascript": [
        "$('div#b9324454-5f17-4942-be47-2b59597f165c').text(' 71%');"
       ],
       "metadata": {},
       "output_type": "display_data",
       "text": [
        "<IPython.core.display.Javascript at 0x24907828>"
       ]
      },
      {
       "javascript": [
        "\n",
        "        var $myPB = $(\"div#f40a52a1-eb7e-4fd0-9400-6b816c0da353\")\n",
        "        if ($myPB.hasClass('ui-progressbar')) {\n",
        "            $myPB.progressbar('value', 70);\n",
        "        } else {\n",
        "            $myPB.progressbar({value: 0, max: 98});\n",
        "        }\n",
        "        "
       ],
       "metadata": {},
       "output_type": "display_data",
       "text": [
        "<IPython.core.display.Javascript at 0x24907828>"
       ]
      },
      {
       "javascript": [
        "$('div#be81adb4-b581-4a00-a68e-b27745bdc4f1').text('ETA:  0:00:01');"
       ],
       "metadata": {},
       "output_type": "display_data",
       "text": [
        "<IPython.core.display.Javascript at 0x249078d0>"
       ]
      },
      {
       "javascript": [
        "$('div#4bd98855-d528-4ec7-b74d-bb2309335724').text('71 of 98');"
       ],
       "metadata": {},
       "output_type": "display_data",
       "text": [
        "<IPython.core.display.Javascript at 0x24907dd8>"
       ]
      },
      {
       "javascript": [
        "$('div#b9324454-5f17-4942-be47-2b59597f165c').text(' 72%');"
       ],
       "metadata": {},
       "output_type": "display_data",
       "text": [
        "<IPython.core.display.Javascript at 0x24907240>"
       ]
      },
      {
       "javascript": [
        "\n",
        "        var $myPB = $(\"div#f40a52a1-eb7e-4fd0-9400-6b816c0da353\")\n",
        "        if ($myPB.hasClass('ui-progressbar')) {\n",
        "            $myPB.progressbar('value', 71);\n",
        "        } else {\n",
        "            $myPB.progressbar({value: 0, max: 98});\n",
        "        }\n",
        "        "
       ],
       "metadata": {},
       "output_type": "display_data",
       "text": [
        "<IPython.core.display.Javascript at 0x24907240>"
       ]
      },
      {
       "javascript": [
        "$('div#be81adb4-b581-4a00-a68e-b27745bdc4f1').text('ETA:  0:00:01');"
       ],
       "metadata": {},
       "output_type": "display_data",
       "text": [
        "<IPython.core.display.Javascript at 0x24907da0>"
       ]
      },
      {
       "javascript": [
        "$('div#4bd98855-d528-4ec7-b74d-bb2309335724').text('72 of 98');"
       ],
       "metadata": {},
       "output_type": "display_data",
       "text": [
        "<IPython.core.display.Javascript at 0x1ef774e0>"
       ]
      },
      {
       "javascript": [
        "$('div#b9324454-5f17-4942-be47-2b59597f165c').text(' 73%');"
       ],
       "metadata": {},
       "output_type": "display_data",
       "text": [
        "<IPython.core.display.Javascript at 0x1ef77278>"
       ]
      },
      {
       "javascript": [
        "\n",
        "        var $myPB = $(\"div#f40a52a1-eb7e-4fd0-9400-6b816c0da353\")\n",
        "        if ($myPB.hasClass('ui-progressbar')) {\n",
        "            $myPB.progressbar('value', 72);\n",
        "        } else {\n",
        "            $myPB.progressbar({value: 0, max: 98});\n",
        "        }\n",
        "        "
       ],
       "metadata": {},
       "output_type": "display_data",
       "text": [
        "<IPython.core.display.Javascript at 0x1ef77278>"
       ]
      },
      {
       "javascript": [
        "$('div#be81adb4-b581-4a00-a68e-b27745bdc4f1').text('ETA:  0:00:01');"
       ],
       "metadata": {},
       "output_type": "display_data",
       "text": [
        "<IPython.core.display.Javascript at 0x1ef77c88>"
       ]
      },
      {
       "javascript": [
        "$('div#4bd98855-d528-4ec7-b74d-bb2309335724').text('73 of 98');"
       ],
       "metadata": {},
       "output_type": "display_data",
       "text": [
        "<IPython.core.display.Javascript at 0x1ef77be0>"
       ]
      },
      {
       "javascript": [
        "$('div#b9324454-5f17-4942-be47-2b59597f165c').text(' 74%');"
       ],
       "metadata": {},
       "output_type": "display_data",
       "text": [
        "<IPython.core.display.Javascript at 0x1ef77f98>"
       ]
      },
      {
       "javascript": [
        "\n",
        "        var $myPB = $(\"div#f40a52a1-eb7e-4fd0-9400-6b816c0da353\")\n",
        "        if ($myPB.hasClass('ui-progressbar')) {\n",
        "            $myPB.progressbar('value', 73);\n",
        "        } else {\n",
        "            $myPB.progressbar({value: 0, max: 98});\n",
        "        }\n",
        "        "
       ],
       "metadata": {},
       "output_type": "display_data",
       "text": [
        "<IPython.core.display.Javascript at 0x1ef77f98>"
       ]
      },
      {
       "javascript": [
        "$('div#be81adb4-b581-4a00-a68e-b27745bdc4f1').text('ETA:  0:00:01');"
       ],
       "metadata": {},
       "output_type": "display_data",
       "text": [
        "<IPython.core.display.Javascript at 0x1ef77198>"
       ]
      },
      {
       "javascript": [
        "$('div#4bd98855-d528-4ec7-b74d-bb2309335724').text('74 of 98');"
       ],
       "metadata": {},
       "output_type": "display_data",
       "text": [
        "<IPython.core.display.Javascript at 0x23a96320>"
       ]
      },
      {
       "javascript": [
        "$('div#b9324454-5f17-4942-be47-2b59597f165c').text(' 75%');"
       ],
       "metadata": {},
       "output_type": "display_data",
       "text": [
        "<IPython.core.display.Javascript at 0x23a96320>"
       ]
      },
      {
       "javascript": [
        "\n",
        "        var $myPB = $(\"div#f40a52a1-eb7e-4fd0-9400-6b816c0da353\")\n",
        "        if ($myPB.hasClass('ui-progressbar')) {\n",
        "            $myPB.progressbar('value', 74);\n",
        "        } else {\n",
        "            $myPB.progressbar({value: 0, max: 98});\n",
        "        }\n",
        "        "
       ],
       "metadata": {},
       "output_type": "display_data",
       "text": [
        "<IPython.core.display.Javascript at 0x23a96908>"
       ]
      },
      {
       "javascript": [
        "$('div#be81adb4-b581-4a00-a68e-b27745bdc4f1').text('ETA:  0:00:01');"
       ],
       "metadata": {},
       "output_type": "display_data",
       "text": [
        "<IPython.core.display.Javascript at 0x23a96ac8>"
       ]
      },
      {
       "javascript": [
        "$('div#4bd98855-d528-4ec7-b74d-bb2309335724').text('75 of 98');"
       ],
       "metadata": {},
       "output_type": "display_data",
       "text": [
        "<IPython.core.display.Javascript at 0x22a05c88>"
       ]
      },
      {
       "javascript": [
        "$('div#b9324454-5f17-4942-be47-2b59597f165c').text(' 76%');"
       ],
       "metadata": {},
       "output_type": "display_data",
       "text": [
        "<IPython.core.display.Javascript at 0x22a05a58>"
       ]
      },
      {
       "javascript": [
        "\n",
        "        var $myPB = $(\"div#f40a52a1-eb7e-4fd0-9400-6b816c0da353\")\n",
        "        if ($myPB.hasClass('ui-progressbar')) {\n",
        "            $myPB.progressbar('value', 75);\n",
        "        } else {\n",
        "            $myPB.progressbar({value: 0, max: 98});\n",
        "        }\n",
        "        "
       ],
       "metadata": {},
       "output_type": "display_data",
       "text": [
        "<IPython.core.display.Javascript at 0x22a05a58>"
       ]
      },
      {
       "javascript": [
        "$('div#be81adb4-b581-4a00-a68e-b27745bdc4f1').text('ETA:  0:00:01');"
       ],
       "metadata": {},
       "output_type": "display_data",
       "text": [
        "<IPython.core.display.Javascript at 0x22a05550>"
       ]
      },
      {
       "javascript": [
        "$('div#4bd98855-d528-4ec7-b74d-bb2309335724').text('76 of 98');"
       ],
       "metadata": {},
       "output_type": "display_data",
       "text": [
        "<IPython.core.display.Javascript at 0x24374c18>"
       ]
      },
      {
       "javascript": [
        "$('div#b9324454-5f17-4942-be47-2b59597f165c').text(' 77%');"
       ],
       "metadata": {},
       "output_type": "display_data",
       "text": [
        "<IPython.core.display.Javascript at 0x24374f60>"
       ]
      },
      {
       "javascript": [
        "\n",
        "        var $myPB = $(\"div#f40a52a1-eb7e-4fd0-9400-6b816c0da353\")\n",
        "        if ($myPB.hasClass('ui-progressbar')) {\n",
        "            $myPB.progressbar('value', 76);\n",
        "        } else {\n",
        "            $myPB.progressbar({value: 0, max: 98});\n",
        "        }\n",
        "        "
       ],
       "metadata": {},
       "output_type": "display_data",
       "text": [
        "<IPython.core.display.Javascript at 0x24374f60>"
       ]
      },
      {
       "javascript": [
        "$('div#be81adb4-b581-4a00-a68e-b27745bdc4f1').text('ETA:  0:00:01');"
       ],
       "metadata": {},
       "output_type": "display_data",
       "text": [
        "<IPython.core.display.Javascript at 0x24374240>"
       ]
      },
      {
       "javascript": [
        "$('div#4bd98855-d528-4ec7-b74d-bb2309335724').text('77 of 98');"
       ],
       "metadata": {},
       "output_type": "display_data",
       "text": [
        "<IPython.core.display.Javascript at 0x1c0fc780>"
       ]
      },
      {
       "javascript": [
        "$('div#b9324454-5f17-4942-be47-2b59597f165c').text(' 78%');"
       ],
       "metadata": {},
       "output_type": "display_data",
       "text": [
        "<IPython.core.display.Javascript at 0x1c0fc898>"
       ]
      },
      {
       "javascript": [
        "\n",
        "        var $myPB = $(\"div#f40a52a1-eb7e-4fd0-9400-6b816c0da353\")\n",
        "        if ($myPB.hasClass('ui-progressbar')) {\n",
        "            $myPB.progressbar('value', 77);\n",
        "        } else {\n",
        "            $myPB.progressbar({value: 0, max: 98});\n",
        "        }\n",
        "        "
       ],
       "metadata": {},
       "output_type": "display_data",
       "text": [
        "<IPython.core.display.Javascript at 0x1c0fca20>"
       ]
      },
      {
       "javascript": [
        "$('div#be81adb4-b581-4a00-a68e-b27745bdc4f1').text('ETA:  0:00:01');"
       ],
       "metadata": {},
       "output_type": "display_data",
       "text": [
        "<IPython.core.display.Javascript at 0x1c0fc780>"
       ]
      },
      {
       "javascript": [
        "$('div#4bd98855-d528-4ec7-b74d-bb2309335724').text('78 of 98');"
       ],
       "metadata": {},
       "output_type": "display_data",
       "text": [
        "<IPython.core.display.Javascript at 0x1c0fc6d8>"
       ]
      },
      {
       "javascript": [
        "$('div#b9324454-5f17-4942-be47-2b59597f165c').text(' 79%');"
       ],
       "metadata": {},
       "output_type": "display_data",
       "text": [
        "<IPython.core.display.Javascript at 0x1c0fc8d0>"
       ]
      },
      {
       "javascript": [
        "\n",
        "        var $myPB = $(\"div#f40a52a1-eb7e-4fd0-9400-6b816c0da353\")\n",
        "        if ($myPB.hasClass('ui-progressbar')) {\n",
        "            $myPB.progressbar('value', 78);\n",
        "        } else {\n",
        "            $myPB.progressbar({value: 0, max: 98});\n",
        "        }\n",
        "        "
       ],
       "metadata": {},
       "output_type": "display_data",
       "text": [
        "<IPython.core.display.Javascript at 0x1c0fc8d0>"
       ]
      },
      {
       "javascript": [
        "$('div#be81adb4-b581-4a00-a68e-b27745bdc4f1').text('ETA:  0:00:00');"
       ],
       "metadata": {},
       "output_type": "display_data",
       "text": [
        "<IPython.core.display.Javascript at 0x1c0fc940>"
       ]
      },
      {
       "javascript": [
        "$('div#4bd98855-d528-4ec7-b74d-bb2309335724').text('79 of 98');"
       ],
       "metadata": {},
       "output_type": "display_data",
       "text": [
        "<IPython.core.display.Javascript at 0x171294e0>"
       ]
      },
      {
       "javascript": [
        "$('div#b9324454-5f17-4942-be47-2b59597f165c').text(' 80%');"
       ],
       "metadata": {},
       "output_type": "display_data",
       "text": [
        "<IPython.core.display.Javascript at 0x171294e0>"
       ]
      },
      {
       "javascript": [
        "\n",
        "        var $myPB = $(\"div#f40a52a1-eb7e-4fd0-9400-6b816c0da353\")\n",
        "        if ($myPB.hasClass('ui-progressbar')) {\n",
        "            $myPB.progressbar('value', 79);\n",
        "        } else {\n",
        "            $myPB.progressbar({value: 0, max: 98});\n",
        "        }\n",
        "        "
       ],
       "metadata": {},
       "output_type": "display_data",
       "text": [
        "<IPython.core.display.Javascript at 0x171297b8>"
       ]
      },
      {
       "javascript": [
        "$('div#be81adb4-b581-4a00-a68e-b27745bdc4f1').text('ETA:  0:00:00');"
       ],
       "metadata": {},
       "output_type": "display_data",
       "text": [
        "<IPython.core.display.Javascript at 0x17129160>"
       ]
      },
      {
       "javascript": [
        "$('div#4bd98855-d528-4ec7-b74d-bb2309335724').text('80 of 98');"
       ],
       "metadata": {},
       "output_type": "display_data",
       "text": [
        "<IPython.core.display.Javascript at 0x19751b38>"
       ]
      },
      {
       "javascript": [
        "$('div#b9324454-5f17-4942-be47-2b59597f165c').text(' 81%');"
       ],
       "metadata": {},
       "output_type": "display_data",
       "text": [
        "<IPython.core.display.Javascript at 0x197514a8>"
       ]
      },
      {
       "javascript": [
        "\n",
        "        var $myPB = $(\"div#f40a52a1-eb7e-4fd0-9400-6b816c0da353\")\n",
        "        if ($myPB.hasClass('ui-progressbar')) {\n",
        "            $myPB.progressbar('value', 80);\n",
        "        } else {\n",
        "            $myPB.progressbar({value: 0, max: 98});\n",
        "        }\n",
        "        "
       ],
       "metadata": {},
       "output_type": "display_data",
       "text": [
        "<IPython.core.display.Javascript at 0x197514a8>"
       ]
      },
      {
       "javascript": [
        "$('div#be81adb4-b581-4a00-a68e-b27745bdc4f1').text('ETA:  0:00:00');"
       ],
       "metadata": {},
       "output_type": "display_data",
       "text": [
        "<IPython.core.display.Javascript at 0x19751a58>"
       ]
      },
      {
       "javascript": [
        "$('div#4bd98855-d528-4ec7-b74d-bb2309335724').text('81 of 98');"
       ],
       "metadata": {},
       "output_type": "display_data",
       "text": [
        "<IPython.core.display.Javascript at 0x19751da0>"
       ]
      },
      {
       "javascript": [
        "$('div#b9324454-5f17-4942-be47-2b59597f165c').text(' 82%');"
       ],
       "metadata": {},
       "output_type": "display_data",
       "text": [
        "<IPython.core.display.Javascript at 0x19751198>"
       ]
      },
      {
       "javascript": [
        "\n",
        "        var $myPB = $(\"div#f40a52a1-eb7e-4fd0-9400-6b816c0da353\")\n",
        "        if ($myPB.hasClass('ui-progressbar')) {\n",
        "            $myPB.progressbar('value', 81);\n",
        "        } else {\n",
        "            $myPB.progressbar({value: 0, max: 98});\n",
        "        }\n",
        "        "
       ],
       "metadata": {},
       "output_type": "display_data",
       "text": [
        "<IPython.core.display.Javascript at 0x19751198>"
       ]
      },
      {
       "javascript": [
        "$('div#be81adb4-b581-4a00-a68e-b27745bdc4f1').text('ETA:  0:00:00');"
       ],
       "metadata": {},
       "output_type": "display_data",
       "text": [
        "<IPython.core.display.Javascript at 0x19751da0>"
       ]
      },
      {
       "javascript": [
        "$('div#4bd98855-d528-4ec7-b74d-bb2309335724').text('82 of 98');"
       ],
       "metadata": {},
       "output_type": "display_data",
       "text": [
        "<IPython.core.display.Javascript at 0x222ed668>"
       ]
      },
      {
       "javascript": [
        "$('div#b9324454-5f17-4942-be47-2b59597f165c').text(' 83%');"
       ],
       "metadata": {},
       "output_type": "display_data",
       "text": [
        "<IPython.core.display.Javascript at 0x222edc18>"
       ]
      },
      {
       "javascript": [
        "\n",
        "        var $myPB = $(\"div#f40a52a1-eb7e-4fd0-9400-6b816c0da353\")\n",
        "        if ($myPB.hasClass('ui-progressbar')) {\n",
        "            $myPB.progressbar('value', 82);\n",
        "        } else {\n",
        "            $myPB.progressbar({value: 0, max: 98});\n",
        "        }\n",
        "        "
       ],
       "metadata": {},
       "output_type": "display_data",
       "text": [
        "<IPython.core.display.Javascript at 0x222edc18>"
       ]
      },
      {
       "javascript": [
        "$('div#be81adb4-b581-4a00-a68e-b27745bdc4f1').text('ETA:  0:00:00');"
       ],
       "metadata": {},
       "output_type": "display_data",
       "text": [
        "<IPython.core.display.Javascript at 0x222edfd0>"
       ]
      },
      {
       "javascript": [
        "$('div#4bd98855-d528-4ec7-b74d-bb2309335724').text('83 of 98');"
       ],
       "metadata": {},
       "output_type": "display_data",
       "text": [
        "<IPython.core.display.Javascript at 0x1badf1d0>"
       ]
      },
      {
       "javascript": [
        "$('div#b9324454-5f17-4942-be47-2b59597f165c').text(' 84%');"
       ],
       "metadata": {},
       "output_type": "display_data",
       "text": [
        "<IPython.core.display.Javascript at 0x1badfbe0>"
       ]
      },
      {
       "javascript": [
        "\n",
        "        var $myPB = $(\"div#f40a52a1-eb7e-4fd0-9400-6b816c0da353\")\n",
        "        if ($myPB.hasClass('ui-progressbar')) {\n",
        "            $myPB.progressbar('value', 83);\n",
        "        } else {\n",
        "            $myPB.progressbar({value: 0, max: 98});\n",
        "        }\n",
        "        "
       ],
       "metadata": {},
       "output_type": "display_data",
       "text": [
        "<IPython.core.display.Javascript at 0x1badfbe0>"
       ]
      },
      {
       "javascript": [
        "$('div#be81adb4-b581-4a00-a68e-b27745bdc4f1').text('ETA:  0:00:00');"
       ],
       "metadata": {},
       "output_type": "display_data",
       "text": [
        "<IPython.core.display.Javascript at 0x1badf6d8>"
       ]
      },
      {
       "javascript": [
        "$('div#4bd98855-d528-4ec7-b74d-bb2309335724').text('84 of 98');"
       ],
       "metadata": {},
       "output_type": "display_data",
       "text": [
        "<IPython.core.display.Javascript at 0x1fca38d0>"
       ]
      },
      {
       "javascript": [
        "$('div#b9324454-5f17-4942-be47-2b59597f165c').text(' 85%');"
       ],
       "metadata": {},
       "output_type": "display_data",
       "text": [
        "<IPython.core.display.Javascript at 0x1fca38d0>"
       ]
      },
      {
       "javascript": [
        "\n",
        "        var $myPB = $(\"div#f40a52a1-eb7e-4fd0-9400-6b816c0da353\")\n",
        "        if ($myPB.hasClass('ui-progressbar')) {\n",
        "            $myPB.progressbar('value', 84);\n",
        "        } else {\n",
        "            $myPB.progressbar({value: 0, max: 98});\n",
        "        }\n",
        "        "
       ],
       "metadata": {},
       "output_type": "display_data",
       "text": [
        "<IPython.core.display.Javascript at 0x1fca3be0>"
       ]
      },
      {
       "javascript": [
        "$('div#be81adb4-b581-4a00-a68e-b27745bdc4f1').text('ETA:  0:00:00');"
       ],
       "metadata": {},
       "output_type": "display_data",
       "text": [
        "<IPython.core.display.Javascript at 0x1fca3d30>"
       ]
      },
      {
       "javascript": [
        "$('div#4bd98855-d528-4ec7-b74d-bb2309335724').text('85 of 98');"
       ],
       "metadata": {},
       "output_type": "display_data",
       "text": [
        "<IPython.core.display.Javascript at 0x1ff291d0>"
       ]
      },
      {
       "javascript": [
        "$('div#b9324454-5f17-4942-be47-2b59597f165c').text(' 86%');"
       ],
       "metadata": {},
       "output_type": "display_data",
       "text": [
        "<IPython.core.display.Javascript at 0x1ff291d0>"
       ]
      },
      {
       "javascript": [
        "\n",
        "        var $myPB = $(\"div#f40a52a1-eb7e-4fd0-9400-6b816c0da353\")\n",
        "        if ($myPB.hasClass('ui-progressbar')) {\n",
        "            $myPB.progressbar('value', 85);\n",
        "        } else {\n",
        "            $myPB.progressbar({value: 0, max: 98});\n",
        "        }\n",
        "        "
       ],
       "metadata": {},
       "output_type": "display_data",
       "text": [
        "<IPython.core.display.Javascript at 0x1ff297f0>"
       ]
      },
      {
       "javascript": [
        "$('div#be81adb4-b581-4a00-a68e-b27745bdc4f1').text('ETA:  0:00:00');"
       ],
       "metadata": {},
       "output_type": "display_data",
       "text": [
        "<IPython.core.display.Javascript at 0x1ff29208>"
       ]
      },
      {
       "javascript": [
        "$('div#4bd98855-d528-4ec7-b74d-bb2309335724').text('86 of 98');"
       ],
       "metadata": {},
       "output_type": "display_data",
       "text": [
        "<IPython.core.display.Javascript at 0x1ff29940>"
       ]
      },
      {
       "javascript": [
        "$('div#b9324454-5f17-4942-be47-2b59597f165c').text(' 87%');"
       ],
       "metadata": {},
       "output_type": "display_data",
       "text": [
        "<IPython.core.display.Javascript at 0x1ff29940>"
       ]
      },
      {
       "javascript": [
        "\n",
        "        var $myPB = $(\"div#f40a52a1-eb7e-4fd0-9400-6b816c0da353\")\n",
        "        if ($myPB.hasClass('ui-progressbar')) {\n",
        "            $myPB.progressbar('value', 86);\n",
        "        } else {\n",
        "            $myPB.progressbar({value: 0, max: 98});\n",
        "        }\n",
        "        "
       ],
       "metadata": {},
       "output_type": "display_data",
       "text": [
        "<IPython.core.display.Javascript at 0x1ff29390>"
       ]
      },
      {
       "javascript": [
        "$('div#be81adb4-b581-4a00-a68e-b27745bdc4f1').text('ETA:  0:00:00');"
       ],
       "metadata": {},
       "output_type": "display_data",
       "text": [
        "<IPython.core.display.Javascript at 0x1ff295f8>"
       ]
      },
      {
       "javascript": [
        "$('div#4bd98855-d528-4ec7-b74d-bb2309335724').text('87 of 98');"
       ],
       "metadata": {},
       "output_type": "display_data",
       "text": [
        "<IPython.core.display.Javascript at 0x19d63a90>"
       ]
      },
      {
       "javascript": [
        "$('div#b9324454-5f17-4942-be47-2b59597f165c').text(' 88%');"
       ],
       "metadata": {},
       "output_type": "display_data",
       "text": [
        "<IPython.core.display.Javascript at 0x19d63390>"
       ]
      },
      {
       "javascript": [
        "\n",
        "        var $myPB = $(\"div#f40a52a1-eb7e-4fd0-9400-6b816c0da353\")\n",
        "        if ($myPB.hasClass('ui-progressbar')) {\n",
        "            $myPB.progressbar('value', 87);\n",
        "        } else {\n",
        "            $myPB.progressbar({value: 0, max: 98});\n",
        "        }\n",
        "        "
       ],
       "metadata": {},
       "output_type": "display_data",
       "text": [
        "<IPython.core.display.Javascript at 0x19d63390>"
       ]
      },
      {
       "javascript": [
        "$('div#be81adb4-b581-4a00-a68e-b27745bdc4f1').text('ETA:  0:00:00');"
       ],
       "metadata": {},
       "output_type": "display_data",
       "text": [
        "<IPython.core.display.Javascript at 0x19d63f28>"
       ]
      },
      {
       "javascript": [
        "$('div#4bd98855-d528-4ec7-b74d-bb2309335724').text('88 of 98');"
       ],
       "metadata": {},
       "output_type": "display_data",
       "text": [
        "<IPython.core.display.Javascript at 0x22069048>"
       ]
      },
      {
       "javascript": [
        "$('div#b9324454-5f17-4942-be47-2b59597f165c').text(' 89%');"
       ],
       "metadata": {},
       "output_type": "display_data",
       "text": [
        "<IPython.core.display.Javascript at 0x22069048>"
       ]
      },
      {
       "javascript": [
        "\n",
        "        var $myPB = $(\"div#f40a52a1-eb7e-4fd0-9400-6b816c0da353\")\n",
        "        if ($myPB.hasClass('ui-progressbar')) {\n",
        "            $myPB.progressbar('value', 88);\n",
        "        } else {\n",
        "            $myPB.progressbar({value: 0, max: 98});\n",
        "        }\n",
        "        "
       ],
       "metadata": {},
       "output_type": "display_data",
       "text": [
        "<IPython.core.display.Javascript at 0x22069630>"
       ]
      },
      {
       "javascript": [
        "$('div#be81adb4-b581-4a00-a68e-b27745bdc4f1').text('ETA:  0:00:00');"
       ],
       "metadata": {},
       "output_type": "display_data",
       "text": [
        "<IPython.core.display.Javascript at 0x22069a90>"
       ]
      },
      {
       "javascript": [
        "$('div#4bd98855-d528-4ec7-b74d-bb2309335724').text('89 of 98');"
       ],
       "metadata": {},
       "output_type": "display_data",
       "text": [
        "<IPython.core.display.Javascript at 0x1b004eb8>"
       ]
      },
      {
       "javascript": [
        "$('div#b9324454-5f17-4942-be47-2b59597f165c').text(' 90%');"
       ],
       "metadata": {},
       "output_type": "display_data",
       "text": [
        "<IPython.core.display.Javascript at 0x1b004eb8>"
       ]
      },
      {
       "javascript": [
        "\n",
        "        var $myPB = $(\"div#f40a52a1-eb7e-4fd0-9400-6b816c0da353\")\n",
        "        if ($myPB.hasClass('ui-progressbar')) {\n",
        "            $myPB.progressbar('value', 89);\n",
        "        } else {\n",
        "            $myPB.progressbar({value: 0, max: 98});\n",
        "        }\n",
        "        "
       ],
       "metadata": {},
       "output_type": "display_data",
       "text": [
        "<IPython.core.display.Javascript at 0x1b004c18>"
       ]
      },
      {
       "javascript": [
        "$('div#be81adb4-b581-4a00-a68e-b27745bdc4f1').text('ETA:  0:00:00');"
       ],
       "metadata": {},
       "output_type": "display_data",
       "text": [
        "<IPython.core.display.Javascript at 0x1b004400>"
       ]
      },
      {
       "javascript": [
        "$('div#4bd98855-d528-4ec7-b74d-bb2309335724').text('90 of 98');"
       ],
       "metadata": {},
       "output_type": "display_data",
       "text": [
        "<IPython.core.display.Javascript at 0x242bfa58>"
       ]
      },
      {
       "javascript": [
        "$('div#b9324454-5f17-4942-be47-2b59597f165c').text(' 91%');"
       ],
       "metadata": {},
       "output_type": "display_data",
       "text": [
        "<IPython.core.display.Javascript at 0x242bfa58>"
       ]
      },
      {
       "javascript": [
        "\n",
        "        var $myPB = $(\"div#f40a52a1-eb7e-4fd0-9400-6b816c0da353\")\n",
        "        if ($myPB.hasClass('ui-progressbar')) {\n",
        "            $myPB.progressbar('value', 90);\n",
        "        } else {\n",
        "            $myPB.progressbar({value: 0, max: 98});\n",
        "        }\n",
        "        "
       ],
       "metadata": {},
       "output_type": "display_data",
       "text": [
        "<IPython.core.display.Javascript at 0x242bfe10>"
       ]
      },
      {
       "javascript": [
        "$('div#be81adb4-b581-4a00-a68e-b27745bdc4f1').text('ETA:  0:00:00');"
       ],
       "metadata": {},
       "output_type": "display_data",
       "text": [
        "<IPython.core.display.Javascript at 0x242bf668>"
       ]
      },
      {
       "javascript": [
        "$('div#4bd98855-d528-4ec7-b74d-bb2309335724').text('91 of 98');"
       ],
       "metadata": {},
       "output_type": "display_data",
       "text": [
        "<IPython.core.display.Javascript at 0x242bf278>"
       ]
      },
      {
       "javascript": [
        "$('div#b9324454-5f17-4942-be47-2b59597f165c').text(' 92%');"
       ],
       "metadata": {},
       "output_type": "display_data",
       "text": [
        "<IPython.core.display.Javascript at 0x242bf278>"
       ]
      },
      {
       "javascript": [
        "\n",
        "        var $myPB = $(\"div#f40a52a1-eb7e-4fd0-9400-6b816c0da353\")\n",
        "        if ($myPB.hasClass('ui-progressbar')) {\n",
        "            $myPB.progressbar('value', 91);\n",
        "        } else {\n",
        "            $myPB.progressbar({value: 0, max: 98});\n",
        "        }\n",
        "        "
       ],
       "metadata": {},
       "output_type": "display_data",
       "text": [
        "<IPython.core.display.Javascript at 0x2326c860>"
       ]
      },
      {
       "javascript": [
        "$('div#be81adb4-b581-4a00-a68e-b27745bdc4f1').text('ETA:  0:00:00');"
       ],
       "metadata": {},
       "output_type": "display_data",
       "text": [
        "<IPython.core.display.Javascript at 0x2326ce48>"
       ]
      },
      {
       "javascript": [
        "$('div#4bd98855-d528-4ec7-b74d-bb2309335724').text('92 of 98');"
       ],
       "metadata": {},
       "output_type": "display_data",
       "text": [
        "<IPython.core.display.Javascript at 0x2326c668>"
       ]
      },
      {
       "javascript": [
        "$('div#b9324454-5f17-4942-be47-2b59597f165c').text(' 93%');"
       ],
       "metadata": {},
       "output_type": "display_data",
       "text": [
        "<IPython.core.display.Javascript at 0x2326c6a0>"
       ]
      },
      {
       "javascript": [
        "\n",
        "        var $myPB = $(\"div#f40a52a1-eb7e-4fd0-9400-6b816c0da353\")\n",
        "        if ($myPB.hasClass('ui-progressbar')) {\n",
        "            $myPB.progressbar('value', 92);\n",
        "        } else {\n",
        "            $myPB.progressbar({value: 0, max: 98});\n",
        "        }\n",
        "        "
       ],
       "metadata": {},
       "output_type": "display_data",
       "text": [
        "<IPython.core.display.Javascript at 0x2326c9b0>"
       ]
      },
      {
       "javascript": [
        "$('div#be81adb4-b581-4a00-a68e-b27745bdc4f1').text('ETA:  0:00:00');"
       ],
       "metadata": {},
       "output_type": "display_data",
       "text": [
        "<IPython.core.display.Javascript at 0x2326c9b0>"
       ]
      },
      {
       "javascript": [
        "$('div#4bd98855-d528-4ec7-b74d-bb2309335724').text('93 of 98');"
       ],
       "metadata": {},
       "output_type": "display_data",
       "text": [
        "<IPython.core.display.Javascript at 0x2326cd68>"
       ]
      },
      {
       "javascript": [
        "$('div#b9324454-5f17-4942-be47-2b59597f165c').text(' 94%');"
       ],
       "metadata": {},
       "output_type": "display_data",
       "text": [
        "<IPython.core.display.Javascript at 0x2326c6a0>"
       ]
      },
      {
       "javascript": [
        "\n",
        "        var $myPB = $(\"div#f40a52a1-eb7e-4fd0-9400-6b816c0da353\")\n",
        "        if ($myPB.hasClass('ui-progressbar')) {\n",
        "            $myPB.progressbar('value', 93);\n",
        "        } else {\n",
        "            $myPB.progressbar({value: 0, max: 98});\n",
        "        }\n",
        "        "
       ],
       "metadata": {},
       "output_type": "display_data",
       "text": [
        "<IPython.core.display.Javascript at 0x2326cb38>"
       ]
      },
      {
       "javascript": [
        "$('div#be81adb4-b581-4a00-a68e-b27745bdc4f1').text('ETA:  0:00:00');"
       ],
       "metadata": {},
       "output_type": "display_data",
       "text": [
        "<IPython.core.display.Javascript at 0x2326c748>"
       ]
      },
      {
       "javascript": [
        "$('div#4bd98855-d528-4ec7-b74d-bb2309335724').text('94 of 98');"
       ],
       "metadata": {},
       "output_type": "display_data",
       "text": [
        "<IPython.core.display.Javascript at 0x2326cf28>"
       ]
      },
      {
       "javascript": [
        "$('div#b9324454-5f17-4942-be47-2b59597f165c').text(' 95%');"
       ],
       "metadata": {},
       "output_type": "display_data",
       "text": [
        "<IPython.core.display.Javascript at 0x2326cfd0>"
       ]
      },
      {
       "javascript": [
        "\n",
        "        var $myPB = $(\"div#f40a52a1-eb7e-4fd0-9400-6b816c0da353\")\n",
        "        if ($myPB.hasClass('ui-progressbar')) {\n",
        "            $myPB.progressbar('value', 94);\n",
        "        } else {\n",
        "            $myPB.progressbar({value: 0, max: 98});\n",
        "        }\n",
        "        "
       ],
       "metadata": {},
       "output_type": "display_data",
       "text": [
        "<IPython.core.display.Javascript at 0x2326c6a0>"
       ]
      },
      {
       "javascript": [
        "$('div#be81adb4-b581-4a00-a68e-b27745bdc4f1').text('ETA:  0:00:00');"
       ],
       "metadata": {},
       "output_type": "display_data",
       "text": [
        "<IPython.core.display.Javascript at 0x2326cb38>"
       ]
      },
      {
       "javascript": [
        "$('div#4bd98855-d528-4ec7-b74d-bb2309335724').text('95 of 98');"
       ],
       "metadata": {},
       "output_type": "display_data",
       "text": [
        "<IPython.core.display.Javascript at 0x2326c710>"
       ]
      },
      {
       "javascript": [
        "$('div#b9324454-5f17-4942-be47-2b59597f165c').text(' 96%');"
       ],
       "metadata": {},
       "output_type": "display_data",
       "text": [
        "<IPython.core.display.Javascript at 0x2326ce10>"
       ]
      },
      {
       "javascript": [
        "\n",
        "        var $myPB = $(\"div#f40a52a1-eb7e-4fd0-9400-6b816c0da353\")\n",
        "        if ($myPB.hasClass('ui-progressbar')) {\n",
        "            $myPB.progressbar('value', 95);\n",
        "        } else {\n",
        "            $myPB.progressbar({value: 0, max: 98});\n",
        "        }\n",
        "        "
       ],
       "metadata": {},
       "output_type": "display_data",
       "text": [
        "<IPython.core.display.Javascript at 0x2326ca90>"
       ]
      },
      {
       "javascript": [
        "$('div#be81adb4-b581-4a00-a68e-b27745bdc4f1').text('ETA:  0:00:00');"
       ],
       "metadata": {},
       "output_type": "display_data",
       "text": [
        "<IPython.core.display.Javascript at 0x2326ca90>"
       ]
      },
      {
       "javascript": [
        "$('div#4bd98855-d528-4ec7-b74d-bb2309335724').text('96 of 98');"
       ],
       "metadata": {},
       "output_type": "display_data",
       "text": [
        "<IPython.core.display.Javascript at 0x177d3278>"
       ]
      },
      {
       "javascript": [
        "$('div#b9324454-5f17-4942-be47-2b59597f165c').text(' 97%');"
       ],
       "metadata": {},
       "output_type": "display_data",
       "text": [
        "<IPython.core.display.Javascript at 0x177d3278>"
       ]
      },
      {
       "javascript": [
        "\n",
        "        var $myPB = $(\"div#f40a52a1-eb7e-4fd0-9400-6b816c0da353\")\n",
        "        if ($myPB.hasClass('ui-progressbar')) {\n",
        "            $myPB.progressbar('value', 96);\n",
        "        } else {\n",
        "            $myPB.progressbar({value: 0, max: 98});\n",
        "        }\n",
        "        "
       ],
       "metadata": {},
       "output_type": "display_data",
       "text": [
        "<IPython.core.display.Javascript at 0x177d3e80>"
       ]
      },
      {
       "javascript": [
        "$('div#be81adb4-b581-4a00-a68e-b27745bdc4f1').text('ETA:  0:00:00');"
       ],
       "metadata": {},
       "output_type": "display_data",
       "text": [
        "<IPython.core.display.Javascript at 0x177d3898>"
       ]
      },
      {
       "javascript": [
        "$('div#4bd98855-d528-4ec7-b74d-bb2309335724').text('97 of 98');"
       ],
       "metadata": {},
       "output_type": "display_data",
       "text": [
        "<IPython.core.display.Javascript at 0x1a843780>"
       ]
      },
      {
       "javascript": [
        "$('div#b9324454-5f17-4942-be47-2b59597f165c').text(' 98%');"
       ],
       "metadata": {},
       "output_type": "display_data",
       "text": [
        "<IPython.core.display.Javascript at 0x1a843320>"
       ]
      },
      {
       "javascript": [
        "\n",
        "        var $myPB = $(\"div#f40a52a1-eb7e-4fd0-9400-6b816c0da353\")\n",
        "        if ($myPB.hasClass('ui-progressbar')) {\n",
        "            $myPB.progressbar('value', 97);\n",
        "        } else {\n",
        "            $myPB.progressbar({value: 0, max: 98});\n",
        "        }\n",
        "        "
       ],
       "metadata": {},
       "output_type": "display_data",
       "text": [
        "<IPython.core.display.Javascript at 0x1a843320>"
       ]
      },
      {
       "javascript": [
        "$('div#be81adb4-b581-4a00-a68e-b27745bdc4f1').text('ETA:  0:00:00');"
       ],
       "metadata": {},
       "output_type": "display_data",
       "text": [
        "<IPython.core.display.Javascript at 0x1a843278>"
       ]
      },
      {
       "javascript": [
        "$('div#4bd98855-d528-4ec7-b74d-bb2309335724').text('98 of 98');"
       ],
       "metadata": {},
       "output_type": "display_data",
       "text": [
        "<IPython.core.display.Javascript at 0x1b9d1f28>"
       ]
      },
      {
       "javascript": [
        "$('div#b9324454-5f17-4942-be47-2b59597f165c').text('100%');"
       ],
       "metadata": {},
       "output_type": "display_data",
       "text": [
        "<IPython.core.display.Javascript at 0x1b9d1f28>"
       ]
      },
      {
       "javascript": [
        "\n",
        "        var $myPB = $(\"div#f40a52a1-eb7e-4fd0-9400-6b816c0da353\")\n",
        "        if ($myPB.hasClass('ui-progressbar')) {\n",
        "            $myPB.progressbar('value', 98);\n",
        "        } else {\n",
        "            $myPB.progressbar({value: 0, max: 98});\n",
        "        }\n",
        "        "
       ],
       "metadata": {},
       "output_type": "display_data",
       "text": [
        "<IPython.core.display.Javascript at 0x1b9d1128>"
       ]
      },
      {
       "javascript": [
        "$('div#be81adb4-b581-4a00-a68e-b27745bdc4f1').text('ETA:  0:00:00');"
       ],
       "metadata": {},
       "output_type": "display_data",
       "text": [
        "<IPython.core.display.Javascript at 0x1b9d1278>"
       ]
      },
      {
       "javascript": [
        "$('div#4bd98855-d528-4ec7-b74d-bb2309335724').text('98 of 98');"
       ],
       "metadata": {},
       "output_type": "display_data",
       "text": [
        "<IPython.core.display.Javascript at 0x242bf278>"
       ]
      },
      {
       "javascript": [
        "$('div#b9324454-5f17-4942-be47-2b59597f165c').text('100%');"
       ],
       "metadata": {},
       "output_type": "display_data",
       "text": [
        "<IPython.core.display.Javascript at 0x242bf278>"
       ]
      },
      {
       "javascript": [
        "\n",
        "        var $myPB = $(\"div#f40a52a1-eb7e-4fd0-9400-6b816c0da353\")\n",
        "        if ($myPB.hasClass('ui-progressbar')) {\n",
        "            $myPB.progressbar('value', 98);\n",
        "        } else {\n",
        "            $myPB.progressbar({value: 0, max: 98});\n",
        "        }\n",
        "        "
       ],
       "metadata": {},
       "output_type": "display_data",
       "text": [
        "<IPython.core.display.Javascript at 0x1b9d14e0>"
       ]
      },
      {
       "javascript": [
        "$('div#be81adb4-b581-4a00-a68e-b27745bdc4f1').text('Time: 0:00:04');"
       ],
       "metadata": {},
       "output_type": "display_data",
       "text": [
        "<IPython.core.display.Javascript at 0x1b9d1128>"
       ]
      },
      {
       "javascript": [
        "var element = document.getElementById('e546153b-296e-48da-b764-e804df0b0e60');\n",
        "                    var parent = element.parentNode\n",
        "                    parent.removeChild(element);\n",
        "                    parent.parentElement.remove();"
       ],
       "metadata": {},
       "output_type": "display_data",
       "text": [
        "<IPython.core.display.Javascript at 0x12196278>"
       ]
      },
      {
       "javascript": [
        "this.cleanProgressBar(['e546153b-296e-48da-b764-e804df0b0e60', '4bd98855-d528-4ec7-b74d-bb2309335724', 'b9324454-5f17-4942-be47-2b59597f165c', 'f40a52a1-eb7e-4fd0-9400-6b816c0da353', 'be81adb4-b581-4a00-a68e-b27745bdc4f1'])"
       ],
       "metadata": {},
       "output_type": "display_data",
       "text": [
        "<IPython.core.display.Javascript at 0x12196278>"
       ]
      }
     ],
     "prompt_number": 5
    },
    {
     "cell_type": "code",
     "collapsed": false,
     "input": [
      "import urllib\n",
      "for doc in docs:\n",
      "    u = urllib.urlencode({'term':docs[doc]['id']})\n",
      "    print doc, docs[doc]['n'], docs[doc]['id'], u\n",
      "    paragraphs = docs[doc]['content']\n",
      "    if ['Contents'] in paragraphs:\n",
      "        print 'found contents'\n",
      "    for para in paragraphs:\n",
      "        if len(para)==1 and not para[0].endswith('.'):\n",
      "#             print para\n",
      "            pass\n",
      "        else:\n",
      "            break\n",
      "    print '----------------------'\n",
      "#     break"
     ],
     "language": "python",
     "metadata": {},
     "outputs": [
      {
       "output_type": "stream",
       "stream": "stdout",
       "text": [
        " A_61_255-en.xml N0646317 A/61/255 term=A%2F61%2F255\n",
        "found contents\n",
        "----------------------\n",
        "A_CN9_631-en.xml V0781711 A/CN.9/631 term=A%2FCN.9%2F631\n",
        "found contents\n",
        "----------------------\n",
        "A_59_736-en.xml N0531927 A/59/736 term=A%2F59%2F736\n",
        "found contents\n",
        "----------------------\n",
        "A_60_727-en.xml N0628231 A/60/727 term=A%2F60%2F727\n",
        "found contents\n",
        "----------------------\n",
        "TD_386-en.xml G0070209 TD/386 term=TD%2F386\n",
        "----------------------\n",
        "A_60_692-en.xml N0625177 A/60/692 term=A%2F60%2F692\n",
        "found contents\n",
        "----------------------\n",
        "S_2003_529-en.xml N0334879 S/2003/529 term=S%2F2003%2F529\n",
        "----------------------\n",
        "A_CN9_614-en.xml V0657526 A/CN.9/614 term=A%2FCN.9%2F614\n",
        "found contents\n",
        "----------------------\n",
        "ST_SGB_2003_13-en.xml N0355040 ST/SGB/2003/13 term=ST%2FSGB%2F2003%2F13\n",
        "----------------------\n",
        "A_CN9_WGIII_WP32-en.xml V0387701 A/CN.9/WG.III/WP.32 term=A%2FCN.9%2FWG.III%2FWP.32\n",
        "found contents\n",
        "----------------------\n",
        "A_CN9_619-en.xml V0781818 A/CN.9/619 term=A%2FCN.9%2F619\n",
        "found contents\n",
        "----------------------\n",
        "A_CN9_WGI_WP65-en.xml V0857955 A/CN.9/WG.I/WP.65 term=A%2FCN.9%2FWG.I%2FWP.65\n",
        "----------------------\n",
        "A_56_17-en.xml V0186106 A/56/17 term=A%2F56%2F17\n",
        "found contents\n",
        "----------------------\n",
        "A_61_299-en.xml N0649105 A/61/299 term=A%2F61%2F299\n",
        "found contents\n",
        "----------------------\n",
        "JOURNALNO2002_227-en.xml N0268852 JOURNAL NO. 2002/227 term=JOURNAL+NO.+2002%2F227\n",
        "----------------------\n",
        "A_CN4_610-en.xml N0928275 A/CN.4/610 term=A%2FCN.4%2F610\n",
        "found contents\n",
        "----------------------\n",
        "A_AC105_848-en.xml V0582289 A/AC.105/848 term=A%2FAC.105%2F848\n",
        "found contents\n",
        "----------------------\n",
        "ST_IC_2006_1-en.xml N0621304 ST/IC/2006/1 term=ST%2FIC%2F2006%2F1\n",
        "found contents\n",
        "----------------------\n",
        "JOURNALNO2008_207-en.xml N0856312 JOURNAL NO.2008/207 term=JOURNAL+NO.2008%2F207\n",
        "----------------------\n",
        "A_55_2SUPP-A_55_2-en.xml N0062814 A/55/2(SUPP)-A/55/2 term=A%2F55%2F2%28SUPP%29-A%2F55%2F2\n",
        "found contents\n",
        "----------------------\n",
        "JOURNALNO2006_203-en.xml N0655993 JOURNAL NO.2006/203 term=JOURNAL+NO.2006%2F203\n",
        "----------------------\n",
        "A_59_2SUPP-en.xml N0452572 A/59/2(SUPP) term=A%2F59%2F2%28SUPP%29\n",
        "found contents\n",
        "----------------------\n",
        "E_CN4_2002_200-E_2002_23SUPP-en.xml G0215272 E/CN.4/2002/200-E/2002/23(SUPP) term=E%2FCN.4%2F2002%2F200-E%2F2002%2F23%28SUPP%29\n",
        "----------------------\n",
        "E_CN4_2005_135-E_2005_23SUPP-en.xml G0516105 E/CN.4/2005/135-E/2005/23(SUPP) term=E%2FCN.4%2F2005%2F135-E%2F2005%2F23%28SUPP%29\n",
        "found contents\n",
        "----------------------\n",
        "A_57_304-en.xml N0252584 A/57/304 term=A%2F57%2F304\n",
        "----------------------\n",
        "JOURNALNO2003_202-en.xml N0355168 JOURNAL NO. 2003/202 term=JOURNAL+NO.+2003%2F202\n",
        "----------------------\n",
        "A_61_10-en.xml G0663620 A/61/10 term=A%2F61%2F10\n",
        "----------------------\n",
        "A_CN9_WGI_WP70-en.xml V0986568 A/CN.9/WG.I/WP.70 term=A%2FCN.9%2FWG.I%2FWP.70\n",
        "----------------------\n",
        "A_62_439_ADD2-en.xml N0763022 A/62/439/ADD.2 term=A%2F62%2F439%2FADD.2\n",
        "----------------------\n",
        "A_CN9_WGIII_WP81-en.xml V0780735 A/CN.9/WG.III/WP.81 term=A%2FCN.9%2FWG.III%2FWP.81\n",
        "found contents\n",
        "----------------------\n",
        "A_AC261_IPM_14-en.xml V0188747 A/AC.261/IPM/14 term=A%2FAC.261%2FIPM%2F14\n",
        "----------------------\n",
        "APLC_CONF_2004_5-en.xml G0560290 APLC/CONF/2004/5 term=APLC%2FCONF%2F2004%2F5\n",
        "----------------------\n",
        "A_56_326-en.xml N0152607 A/56/326 term=A%2F56%2F326\n",
        "found contents\n",
        "----------------------\n",
        "JOURNALNO2002_241-en.xml N0271991 JOURNAL NO. 2002/241 term=JOURNAL+NO.+2002%2F241\n",
        "----------------------\n",
        "A_CN9_526-en.xml V0383978 A/CN.9/526 term=A%2FCN.9%2F526\n",
        "found contents\n",
        "----------------------\n",
        "JOURNALNO2006_205-en.xml N0657522 JOURNAL NO.2006/205 term=JOURNAL+NO.2006%2F205\n",
        "----------------------\n",
        "A_56_887-en.xml N0231925 A/56/887 term=A%2F56%2F887\n",
        "found contents\n",
        "----------------------\n",
        "A_CN9_575-en.xml V0583411 A/CN.9/575 term=A%2FCN.9%2F575\n",
        "found contents\n",
        "----------------------\n",
        "A_CN9_WGI_WP67-en.xml V0981479 A/CN.9/WG.I/WP.67 term=A%2FCN.9%2FWG.I%2FWP.67\n",
        "----------------------\n",
        "A_CN9_595-en.xml V0653909 A/CN.9/595 term=A%2FCN.9%2F595\n",
        "found contents\n",
        "----------------------\n",
        "JOURNALNO2004_206-en.xml N0455137 JOURNAL NO. 2004/206 term=JOURNAL+NO.+2004%2F206\n",
        "----------------------\n",
        "A_ES-10_273-en.xml N0441986 A/ES-10/273 term=A%2FES-10%2F273\n",
        "----------------------\n",
        "A_54_2000-en.xml N0038897 A/54/2000 term=A%2F54%2F2000\n",
        "found contents\n",
        "----------------------\n",
        "A_CN9_509-en.xml V0252726 A/CN.9/509 term=A%2FCN.9%2F509\n",
        "found contents\n",
        "----------------------\n",
        "A_CN9_WGIII_WP101-en.xml V0788107 A/CN.9/WG.III/WP.101 term=A%2FCN.9%2FWG.III%2FWP.101\n",
        "found contents\n",
        "----------------------\n",
        "ST_SGB_2000_8-en.xml N0040845 ST/SGB/2000/8 term=ST%2FSGB%2F2000%2F8\n",
        "found contents\n",
        "----------------------\n",
        "JOURNALNO2003_204-en.xml N0355192 JOURNAL NO. 2003/204 term=JOURNAL+NO.+2003%2F204\n",
        "----------------------\n",
        "ST_IC_2007_1-en.xml N0723572 ST/IC/2007/1 term=ST%2FIC%2F2007%2F1\n",
        "found contents\n",
        "----------------------\n",
        "A_CONF206_6-en.xml G0561029 A/CONF.206/6 term=A%2FCONF.206%2F6\n",
        "found contents\n",
        "----------------------\n",
        "A_CONF189_12-en.xml N0221543 A/CONF.189/12 term=A%2FCONF.189%2F12\n",
        "----------------------\n",
        "TRANS_WP30_AC2_59-en.xml G0120042 TRANS/WP.30/AC.2/59 term=TRANS%2FWP.30%2FAC.2%2F59\n",
        "----------------------\n",
        "ST_IC_2008_1-en.xml N0824547 ST/IC/2008/1 term=ST%2FIC%2F2008%2F1\n",
        "found contents\n",
        "----------------------\n",
        "A_58_16-en.xml N0342481 A/58/16 term=A%2F58%2F16\n",
        "found contents\n",
        "----------------------\n",
        "JOURNALNO2003_240-en.xml N0363884 JOURNAL NO. 2003/240 term=JOURNAL+NO.+2003%2F240\n",
        "----------------------\n",
        "A_61_2SUPP-en.xml N0663736 A/61/2(SUPP) term=A%2F61%2F2%28SUPP%29\n",
        "found contents\n",
        "----------------------\n",
        "A_56_61-en.xml N0130266 A/56/61 term=A%2F56%2F61\n",
        "found contents\n",
        "----------------------\n",
        "A_CN9_485-en.xml V0060407 A/CN.9/485 term=A%2FCN.9%2F485\n",
        "found contents\n",
        "----------------------\n",
        "JOURNALNO2008_210-en.xml N0857057 JOURNAL NO.2008/210 term=JOURNAL+NO.2008%2F210\n",
        "----------------------\n",
        "A_57_2SUPP-en.xml N0260781 A/57/2(SUPP) term=A%2F57%2F2%28SUPP%29\n",
        "found contents\n",
        "----------------------\n",
        "A_56_2SUPP-en.xml N0154435 A/56/2(SUPP) term=A%2F56%2F2%28SUPP%29\n",
        "found contents\n",
        "----------------------\n",
        "JOURNALNO2007_208-en.xml N0753338 JOURNAL NO.2007/208 term=JOURNAL+NO.2007%2F208\n",
        "----------------------\n",
        "E_CN4_2001_167-E_2001_23SUPP-E_2001_23-en.xml G0115748 E/CN.4/2001/167-E/2001/23(SUPP)-E/2001/23 term=E%2FCN.4%2F2001%2F167-E%2F2001%2F23%28SUPP%29-E%2F2001%2F23\n",
        "----------------------\n",
        "JOURNALNO2003_205-en.xml N0355936 JOURNAL NO. 2003/205 term=JOURNAL+NO.+2003%2F205\n",
        "----------------------\n",
        "A_55_253-en.xml N0059175 A/55/253 term=A%2F55%2F253\n",
        "found contents\n",
        "----------------------\n",
        "E_CN4_2004_127-E_2004_23SUPP-en.xml G0416200 E/CN.4/2004/127-E/2004/23(SUPP) term=E%2FCN.4%2F2004%2F127-E%2F2004%2F23%28SUPP%29\n",
        "----------------------\n",
        "A_60_2SUPP-en.xml N0551747 A/60/2(SUPP) term=A%2F60%2F2%28SUPP%29\n",
        "found contents\n",
        "----------------------\n",
        "A_HRC_8_52-en.xml G0815283 A/HRC/8/52 term=A%2FHRC%2F8%2F52\n",
        "----------------------\n",
        "A_59_303-en.xml N0447505 A/59/303 term=A%2F59%2F303\n",
        "found contents\n",
        "----------------------\n",
        "A_CN9_668-en.xml V0980883 A/CN.9/668 term=A%2FCN.9%2F668\n",
        "found contents\n",
        "----------------------\n",
        "A_62_100_ADD1-en.xml N0754109 A/62/100/ADD.1 term=A%2F62%2F100%2FADD.1\n",
        "found contents\n",
        "----------------------\n",
        "A_59_2005-en.xml N0527078 A/59/2005 term=A%2F59%2F2005\n",
        "found contents\n",
        "----------------------\n",
        "JOURNALNO2006_202-en.xml N0655981 JOURNAL NO.2006/202 term=JOURNAL+NO.2006%2F202\n",
        "----------------------\n",
        "A_CN9_468-en.xml V0053064 A/CN.9/468 term=A%2FCN.9%2F468\n",
        "found contents\n",
        "----------------------\n",
        "JOURNALNO2006_204-en.xml N0655999 JOURNAL NO.2006/204 term=JOURNAL+NO.2006%2F204\n",
        "----------------------\n",
        "A_59_565-en.xml N0460231 A/59/565 term=A%2F59%2F565\n",
        "found contents\n",
        "----------------------\n",
        "A_C2_56_7-en.xml N0166129 A/C.2/56/7 term=A%2FC.2%2F56%2F7\n",
        "----------------------\n",
        "JOURNALNO2002_228-en.xml N0268858 JOURNAL NO. 2002/228 term=JOURNAL+NO.+2002%2F228\n",
        "----------------------\n",
        "S_INF_63-en.xml N0860709 S/INF/63 term=S%2FINF%2F63\n",
        "found contents\n",
        "----------------------\n",
        "E_CN4_2003_135-E_2003_23SUPP-en.xml G0316227 E/CN.4/2003/135-E/2003/23(SUPP) term=E%2FCN.4%2F2003%2F135-E%2F2003%2F23%28SUPP%29\n",
        "----------------------\n",
        "JOURNALNO2004_209-en.xml N0456991 JOURNAL NO. 2004/209 term=JOURNAL+NO.+2004%2F209\n",
        "----------------------\n",
        "A_57_387-en.xml N0258326 A/57/387 term=A%2F57%2F387\n",
        "found contents\n",
        "----------------------\n",
        "A_60_7_ADD1-42-en.xml N0740587 A/60/7/ADD.1-42 term=A%2F60%2F7%2FADD.1-42\n",
        "found contents\n",
        "----------------------\n",
        "JOURNALNO2007_209-en.xml N0754212 JOURNAL NO.2007/209 term=JOURNAL+NO.2007%2F209\n",
        "----------------------\n",
        "ST_IC_2009_1-en.xml N0921438 ST/IC/2009/1 term=ST%2FIC%2F2009%2F1\n",
        "found contents\n",
        "----------------------\n",
        "CRC_C_118-en.xml G0244335 CRC/C/118 term=CRC%2FC%2F118\n",
        "----------------------\n",
        "A_CN9_623-en.xml V0784106 A/CN.9/623 term=A%2FCN.9%2F623\n",
        "found contents\n",
        "----------------------\n",
        "JOURNALNO2004_208-en.xml N0456985 JOURNAL NO. 2004/208 term=JOURNAL+NO.+2004%2F208\n",
        "----------------------\n",
        "S_2006_507-en.xml N0643544 S/2006/507 term=S%2F2006%2F507\n",
        "found contents\n",
        "----------------------\n",
        "A_57_772-en.xml N0331136 A/57/772 term=A%2F57%2F772\n",
        "found contents\n",
        "----------------------\n",
        "A_CN9_568-en.xml V0457812 A/CN.9/568 term=A%2FCN.9%2F568\n",
        "found contents\n",
        "----------------------\n",
        "A_CN9_615-en.xml V0657564 A/CN.9/615 term=A%2FCN.9%2F615\n",
        "found contents\n",
        "----------------------\n",
        "JOURNALNO2007_204-en.xml N0753313 JOURNAL NO.2007/204 term=JOURNAL+NO.2007%2F204\n",
        "----------------------\n",
        "A_55_874-en.xml N0132461 A/55/874 term=A%2F55%2F874\n",
        "----------------------\n",
        "A_CN9_590-en.xml V0590125 A/CN.9/590 term=A%2FCN.9%2F590\n",
        "found contents\n",
        "----------------------\n",
        "ST_IC_2005_1-en.xml N0521787 ST/IC/2005/1 term=ST%2FIC%2F2005%2F1\n",
        "found contents\n",
        "----------------------\n",
        "A_62_2SUPP-en.xml N0756517 A/62/2(SUPP) term=A%2F62%2F2%28SUPP%29\n",
        "found contents\n",
        "----------------------\n",
        "A_63_2SUPP-en.xml N0857742 A/63/2(SUPP) term=A%2F63%2F2%28SUPP%29\n",
        "found contents\n",
        "----------------------\n",
        "A_CN9_WGIII_WP56-en.xml V0587082 A/CN.9/WG.III/WP.56 term=A%2FCN.9%2FWG.III%2FWP.56\n",
        "found contents\n",
        "----------------------\n"
       ]
      }
     ],
     "prompt_number": 24
    },
    {
     "cell_type": "code",
     "collapsed": false,
     "input": [
      "for doc in docs:\n",
      "    print docs[doc]['n']"
     ],
     "language": "python",
     "metadata": {},
     "outputs": [
      {
       "output_type": "stream",
       "stream": "stdout",
       "text": [
        "N0646317\n",
        "V0781711\n",
        "N0531927\n",
        "N0628231\n",
        "G0070209\n",
        "N0625177\n",
        "N0334879\n",
        "V0657526\n",
        "N0355040\n",
        "V0387701\n",
        "V0781818\n",
        "V0857955\n",
        "V0186106\n",
        "N0649105\n",
        "N0268852\n",
        "N0928275\n",
        "V0582289\n",
        "N0621304\n",
        "N0856312\n",
        "N0062814\n",
        "N0655993\n",
        "N0452572\n",
        "G0215272\n",
        "G0516105\n",
        "N0252584\n",
        "N0355168\n",
        "G0663620\n",
        "V0986568\n",
        "N0763022\n",
        "V0780735\n",
        "V0188747\n",
        "G0560290\n",
        "N0152607\n",
        "N0271991\n",
        "V0383978\n",
        "N0657522\n",
        "N0231925\n",
        "V0583411\n",
        "V0981479\n",
        "V0653909\n",
        "N0455137\n",
        "N0441986\n",
        "N0038897\n",
        "V0252726\n",
        "V0788107\n",
        "N0040845\n",
        "N0355192\n",
        "N0723572\n",
        "G0561029\n",
        "N0221543\n",
        "G0120042\n",
        "N0824547\n",
        "N0342481\n",
        "N0363884\n",
        "N0663736\n",
        "N0130266\n",
        "V0060407\n",
        "N0857057\n",
        "N0260781\n",
        "N0154435\n",
        "N0753338\n",
        "G0115748\n",
        "N0355936\n",
        "N0059175\n",
        "G0416200\n",
        "N0551747\n",
        "G0815283\n",
        "N0447505\n",
        "V0980883\n",
        "N0754109\n",
        "N0527078\n",
        "N0655981\n",
        "V0053064\n",
        "N0655999\n",
        "N0460231\n",
        "N0166129\n",
        "N0268858\n",
        "N0860709\n",
        "G0316227\n",
        "N0456991\n",
        "N0258326\n",
        "N0740587\n",
        "N0754212\n",
        "N0921438\n",
        "G0244335\n",
        "V0784106\n",
        "N0456985\n",
        "N0643544\n",
        "N0331136\n",
        "V0457812\n",
        "V0657564\n",
        "N0753313\n",
        "N0132461\n",
        "V0590125\n",
        "N0521787\n",
        "N0756517\n",
        "N0857742\n",
        "V0587082\n"
       ]
      }
     ],
     "prompt_number": 25
    }
   ],
   "metadata": {}
  }
 ]
}