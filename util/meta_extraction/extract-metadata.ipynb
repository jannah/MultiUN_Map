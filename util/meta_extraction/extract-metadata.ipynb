{
 "metadata": {
  "name": "",
  "signature": "sha256:4e14d822fc80329beae0d4684abfad31adee7ee26e4facec4c7ce8d5f0bac7a7"
 },
 "nbformat": 3,
 "nbformat_minor": 0,
 "worksheets": [
  {
   "cells": [
    {
     "cell_type": "code",
     "collapsed": false,
     "input": [
      "MODULES_PATH = '''../../modules/multi_un_module.py'''\n",
      "import imp\n",
      "NF = imp.load_source('multi_un_module', MODULES_PATH)\n",
      "import multi_un_module as mun"
     ],
     "language": "python",
     "metadata": {},
     "outputs": [],
     "prompt_number": 6
    },
    {
     "cell_type": "code",
     "collapsed": false,
     "input": [
      "mun.PATH_TO_XML_FILES"
     ],
     "language": "python",
     "metadata": {},
     "outputs": [
      {
       "metadata": {},
       "output_type": "pyout",
       "prompt_number": 7,
       "text": [
        "'C:\\\\Users\\\\Hassan\\\\Dropbox\\\\Berkeley\\\\iSchool\\\\CURRENT Courses\\\\INFO 256 - Applied Natural Language Processing\\\\Projects\\\\MultiUN_Map\\\\data\\\\multiUN.en\\\\un\\\\xml\\\\en'"
       ]
      }
     ],
     "prompt_number": 7
    },
    {
     "cell_type": "code",
     "collapsed": false,
     "input": [
      "docs = mun.load_xml_files_by_year(\"TOP_100\")"
     ],
     "language": "python",
     "metadata": {},
     "outputs": [
      {
       "javascript": [
        "//09af18da-a968-4b57-9cc6-912bb92531ba\n",
        "$(\"head\").append(\"<style> td.pb_widget {     width: auto; } td.pb_widget_fill {     width: 100%; } table.pb {     font-family: monospace;     border: 0;     margin: 0; } table.pb tr { border: 0; } table.pb td {     white-space: nowrap;     border: 0; } div.pb {     border: 1px solid #ddd;     border-radius: 3px; } div.pb_bar {     height: 1.5em; } </style>\")"
       ],
       "metadata": {},
       "output_type": "display_data",
       "text": [
        "<IPython.core.display.Javascript at 0x1bed2160>"
       ]
      },
      {
       "javascript": [
        "\n",
        "                  // 09af18da-a968-4b57-9cc6-912bb92531ba -- used to remove this code blob in the end\n",
        "                  IPython.OutputArea.prototype.cleanProgressBar = function(uuids) {\n",
        "                      // filter by uuid-strings \n",
        "                      var myfilter = function(output) { \n",
        "                          var nuids = uuids.length;\n",
        "                          for (var i=0; i<nuids; i++) {\n",
        "                              if (output.hasOwnProperty('html')) {\n",
        "                                  if (output.html.indexOf(uuids[i]) != -1) {\n",
        "                                      return false;\n",
        "                                  }\n",
        "                              }\n",
        "                              if (output.hasOwnProperty('javascript')) {\n",
        "                                  if (output.javascript.indexOf(uuids[i]) != -1) {\n",
        "                                      return false;\n",
        "                                  }\n",
        "                              }\n",
        "                          }\n",
        "                          // keep all others\n",
        "                          return true;\n",
        "                      };\n",
        "\n",
        "                      // Filter the ouputs\n",
        "                      this.outputs = this.outputs.filter(myfilter);\n",
        "                };\n",
        "                "
       ],
       "metadata": {},
       "output_type": "display_data",
       "text": [
        "<IPython.core.display.Javascript at 0x1bed2780>"
       ]
      },
      {
       "html": [
        "<div class=\"pb\" id=\"09af18da-a968-4b57-9cc6-912bb92531ba\"><table class=\"pb ui-widget\"><tr>\n",
        "<td class=\"pb_widget\">TOP_100</td>\n",
        "<td class=\"pb_widget\"><div id=\"2b6fdf44-3dc4-4d94-b024-4d59d77ba782\">0 of 98</div></td>\n",
        "<td class=\"pb_widget\"><div id=\"fe91487f-a190-4b58-bdc9-6e47a4433108\">  0%</div></td>\n",
        "<td class=\"pb_widget_fill\">\n",
        "        <div class=\"pb_bar\" id=\"34e81fa7-d6c2-4da2-80f3-d7d4d17b6f63\"></div>\n",
        "        <script type=\"text/javascript\">\n",
        "            $(\"div#34e81fa7-d6c2-4da2-80f3-d7d4d17b6f63\").progressbar({value: 0, max: 98});\n",
        "        </script>\n",
        "        </td>\n",
        "<td class=\"pb_widget\"><div id=\"d437ff1f-7e31-4ea1-81f8-37d3f55cb49f\">ETA:  --:--:--</div></td>\n",
        "</tr></table><div>"
       ],
       "metadata": {},
       "output_type": "display_data",
       "text": [
        "<IPython.core.display.HTML at 0x1bed2be0>"
       ]
      },
      {
       "javascript": [
        "$('div#2b6fdf44-3dc4-4d94-b024-4d59d77ba782').text('1 of 98');"
       ],
       "metadata": {},
       "output_type": "display_data",
       "text": [
        "<IPython.core.display.Javascript at 0x1bed2198>"
       ]
      },
      {
       "javascript": [
        "$('div#fe91487f-a190-4b58-bdc9-6e47a4433108').text('  1%');"
       ],
       "metadata": {},
       "output_type": "display_data",
       "text": [
        "<IPython.core.display.Javascript at 0x1bed2898>"
       ]
      },
      {
       "javascript": [
        "\n",
        "        var $myPB = $(\"div#34e81fa7-d6c2-4da2-80f3-d7d4d17b6f63\")\n",
        "        if ($myPB.hasClass('ui-progressbar')) {\n",
        "            $myPB.progressbar('value', 1);\n",
        "        } else {\n",
        "            $myPB.progressbar({value: 0, max: 98});\n",
        "        }\n",
        "        "
       ],
       "metadata": {},
       "output_type": "display_data",
       "text": [
        "<IPython.core.display.Javascript at 0x1bed2898>"
       ]
      },
      {
       "javascript": [
        "$('div#d437ff1f-7e31-4ea1-81f8-37d3f55cb49f').text('ETA:  0:00:01');"
       ],
       "metadata": {},
       "output_type": "display_data",
       "text": [
        "<IPython.core.display.Javascript at 0x1bed2588>"
       ]
      },
      {
       "javascript": [
        "$('div#2b6fdf44-3dc4-4d94-b024-4d59d77ba782').text('2 of 98');"
       ],
       "metadata": {},
       "output_type": "display_data",
       "text": [
        "<IPython.core.display.Javascript at 0x1bed2940>"
       ]
      },
      {
       "javascript": [
        "$('div#fe91487f-a190-4b58-bdc9-6e47a4433108').text('  2%');"
       ],
       "metadata": {},
       "output_type": "display_data",
       "text": [
        "<IPython.core.display.Javascript at 0x1bed2d30>"
       ]
      },
      {
       "javascript": [
        "\n",
        "        var $myPB = $(\"div#34e81fa7-d6c2-4da2-80f3-d7d4d17b6f63\")\n",
        "        if ($myPB.hasClass('ui-progressbar')) {\n",
        "            $myPB.progressbar('value', 2);\n",
        "        } else {\n",
        "            $myPB.progressbar({value: 0, max: 98});\n",
        "        }\n",
        "        "
       ],
       "metadata": {},
       "output_type": "display_data",
       "text": [
        "<IPython.core.display.Javascript at 0x1bed2d30>"
       ]
      },
      {
       "javascript": [
        "$('div#d437ff1f-7e31-4ea1-81f8-37d3f55cb49f').text('ETA:  0:00:01');"
       ],
       "metadata": {},
       "output_type": "display_data",
       "text": [
        "<IPython.core.display.Javascript at 0x1bed2940>"
       ]
      },
      {
       "javascript": [
        "$('div#2b6fdf44-3dc4-4d94-b024-4d59d77ba782').text('3 of 98');"
       ],
       "metadata": {},
       "output_type": "display_data",
       "text": [
        "<IPython.core.display.Javascript at 0x1fcfe630>"
       ]
      },
      {
       "javascript": [
        "$('div#fe91487f-a190-4b58-bdc9-6e47a4433108').text('  3%');"
       ],
       "metadata": {},
       "output_type": "display_data",
       "text": [
        "<IPython.core.display.Javascript at 0x1fcfe780>"
       ]
      },
      {
       "javascript": [
        "\n",
        "        var $myPB = $(\"div#34e81fa7-d6c2-4da2-80f3-d7d4d17b6f63\")\n",
        "        if ($myPB.hasClass('ui-progressbar')) {\n",
        "            $myPB.progressbar('value', 3);\n",
        "        } else {\n",
        "            $myPB.progressbar({value: 0, max: 98});\n",
        "        }\n",
        "        "
       ],
       "metadata": {},
       "output_type": "display_data",
       "text": [
        "<IPython.core.display.Javascript at 0x1fcfe780>"
       ]
      },
      {
       "javascript": [
        "$('div#d437ff1f-7e31-4ea1-81f8-37d3f55cb49f').text('ETA:  0:00:01');"
       ],
       "metadata": {},
       "output_type": "display_data",
       "text": [
        "<IPython.core.display.Javascript at 0x1fcfe470>"
       ]
      },
      {
       "javascript": [
        "$('div#2b6fdf44-3dc4-4d94-b024-4d59d77ba782').text('4 of 98');"
       ],
       "metadata": {},
       "output_type": "display_data",
       "text": [
        "<IPython.core.display.Javascript at 0x22fc6b00>"
       ]
      },
      {
       "javascript": [
        "$('div#fe91487f-a190-4b58-bdc9-6e47a4433108').text('  4%');"
       ],
       "metadata": {},
       "output_type": "display_data",
       "text": [
        "<IPython.core.display.Javascript at 0x22fc6fd0>"
       ]
      },
      {
       "javascript": [
        "\n",
        "        var $myPB = $(\"div#34e81fa7-d6c2-4da2-80f3-d7d4d17b6f63\")\n",
        "        if ($myPB.hasClass('ui-progressbar')) {\n",
        "            $myPB.progressbar('value', 4);\n",
        "        } else {\n",
        "            $myPB.progressbar({value: 0, max: 98});\n",
        "        }\n",
        "        "
       ],
       "metadata": {},
       "output_type": "display_data",
       "text": [
        "<IPython.core.display.Javascript at 0x22fc6828>"
       ]
      },
      {
       "javascript": [
        "$('div#d437ff1f-7e31-4ea1-81f8-37d3f55cb49f').text('ETA:  0:00:05');"
       ],
       "metadata": {},
       "output_type": "display_data",
       "text": [
        "<IPython.core.display.Javascript at 0x22fc6c88>"
       ]
      },
      {
       "javascript": [
        "$('div#2b6fdf44-3dc4-4d94-b024-4d59d77ba782').text('5 of 98');"
       ],
       "metadata": {},
       "output_type": "display_data",
       "text": [
        "<IPython.core.display.Javascript at 0x22fc6dd8>"
       ]
      },
      {
       "javascript": [
        "$('div#fe91487f-a190-4b58-bdc9-6e47a4433108').text('  5%');"
       ],
       "metadata": {},
       "output_type": "display_data",
       "text": [
        "<IPython.core.display.Javascript at 0x22fc6438>"
       ]
      },
      {
       "javascript": [
        "\n",
        "        var $myPB = $(\"div#34e81fa7-d6c2-4da2-80f3-d7d4d17b6f63\")\n",
        "        if ($myPB.hasClass('ui-progressbar')) {\n",
        "            $myPB.progressbar('value', 5);\n",
        "        } else {\n",
        "            $myPB.progressbar({value: 0, max: 98});\n",
        "        }\n",
        "        "
       ],
       "metadata": {},
       "output_type": "display_data",
       "text": [
        "<IPython.core.display.Javascript at 0x22fc6860>"
       ]
      },
      {
       "javascript": [
        "$('div#d437ff1f-7e31-4ea1-81f8-37d3f55cb49f').text('ETA:  0:00:04');"
       ],
       "metadata": {},
       "output_type": "display_data",
       "text": [
        "<IPython.core.display.Javascript at 0x22fc6f60>"
       ]
      },
      {
       "javascript": [
        "$('div#2b6fdf44-3dc4-4d94-b024-4d59d77ba782').text('6 of 98');"
       ],
       "metadata": {},
       "output_type": "display_data",
       "text": [
        "<IPython.core.display.Javascript at 0x225770f0>"
       ]
      },
      {
       "javascript": [
        "$('div#fe91487f-a190-4b58-bdc9-6e47a4433108').text('  6%');"
       ],
       "metadata": {},
       "output_type": "display_data",
       "text": [
        "<IPython.core.display.Javascript at 0x225772b0>"
       ]
      },
      {
       "javascript": [
        "\n",
        "        var $myPB = $(\"div#34e81fa7-d6c2-4da2-80f3-d7d4d17b6f63\")\n",
        "        if ($myPB.hasClass('ui-progressbar')) {\n",
        "            $myPB.progressbar('value', 6);\n",
        "        } else {\n",
        "            $myPB.progressbar({value: 0, max: 98});\n",
        "        }\n",
        "        "
       ],
       "metadata": {},
       "output_type": "display_data",
       "text": [
        "<IPython.core.display.Javascript at 0x22577d68>"
       ]
      },
      {
       "javascript": [
        "$('div#d437ff1f-7e31-4ea1-81f8-37d3f55cb49f').text('ETA:  0:00:04');"
       ],
       "metadata": {},
       "output_type": "display_data",
       "text": [
        "<IPython.core.display.Javascript at 0x22577320>"
       ]
      },
      {
       "javascript": [
        "$('div#2b6fdf44-3dc4-4d94-b024-4d59d77ba782').text('7 of 98');"
       ],
       "metadata": {},
       "output_type": "display_data",
       "text": [
        "<IPython.core.display.Javascript at 0x20833ac8>"
       ]
      },
      {
       "javascript": [
        "$('div#fe91487f-a190-4b58-bdc9-6e47a4433108').text('  7%');"
       ],
       "metadata": {},
       "output_type": "display_data",
       "text": [
        "<IPython.core.display.Javascript at 0x20833ac8>"
       ]
      },
      {
       "javascript": [
        "\n",
        "        var $myPB = $(\"div#34e81fa7-d6c2-4da2-80f3-d7d4d17b6f63\")\n",
        "        if ($myPB.hasClass('ui-progressbar')) {\n",
        "            $myPB.progressbar('value', 7);\n",
        "        } else {\n",
        "            $myPB.progressbar({value: 0, max: 98});\n",
        "        }\n",
        "        "
       ],
       "metadata": {},
       "output_type": "display_data",
       "text": [
        "<IPython.core.display.Javascript at 0x20833710>"
       ]
      },
      {
       "javascript": [
        "$('div#d437ff1f-7e31-4ea1-81f8-37d3f55cb49f').text('ETA:  0:00:06');"
       ],
       "metadata": {},
       "output_type": "display_data",
       "text": [
        "<IPython.core.display.Javascript at 0x208336a0>"
       ]
      },
      {
       "javascript": [
        "$('div#2b6fdf44-3dc4-4d94-b024-4d59d77ba782').text('8 of 98');"
       ],
       "metadata": {},
       "output_type": "display_data",
       "text": [
        "<IPython.core.display.Javascript at 0x208330b8>"
       ]
      },
      {
       "javascript": [
        "$('div#fe91487f-a190-4b58-bdc9-6e47a4433108').text('  8%');"
       ],
       "metadata": {},
       "output_type": "display_data",
       "text": [
        "<IPython.core.display.Javascript at 0x208330b8>"
       ]
      },
      {
       "javascript": [
        "\n",
        "        var $myPB = $(\"div#34e81fa7-d6c2-4da2-80f3-d7d4d17b6f63\")\n",
        "        if ($myPB.hasClass('ui-progressbar')) {\n",
        "            $myPB.progressbar('value', 8);\n",
        "        } else {\n",
        "            $myPB.progressbar({value: 0, max: 98});\n",
        "        }\n",
        "        "
       ],
       "metadata": {},
       "output_type": "display_data",
       "text": [
        "<IPython.core.display.Javascript at 0x20833b38>"
       ]
      },
      {
       "javascript": [
        "$('div#d437ff1f-7e31-4ea1-81f8-37d3f55cb49f').text('ETA:  0:00:05');"
       ],
       "metadata": {},
       "output_type": "display_data",
       "text": [
        "<IPython.core.display.Javascript at 0x20833668>"
       ]
      },
      {
       "javascript": [
        "$('div#2b6fdf44-3dc4-4d94-b024-4d59d77ba782').text('9 of 98');"
       ],
       "metadata": {},
       "output_type": "display_data",
       "text": [
        "<IPython.core.display.Javascript at 0x208332b0>"
       ]
      },
      {
       "javascript": [
        "$('div#fe91487f-a190-4b58-bdc9-6e47a4433108').text('  9%');"
       ],
       "metadata": {},
       "output_type": "display_data",
       "text": [
        "<IPython.core.display.Javascript at 0x20833390>"
       ]
      },
      {
       "javascript": [
        "\n",
        "        var $myPB = $(\"div#34e81fa7-d6c2-4da2-80f3-d7d4d17b6f63\")\n",
        "        if ($myPB.hasClass('ui-progressbar')) {\n",
        "            $myPB.progressbar('value', 9);\n",
        "        } else {\n",
        "            $myPB.progressbar({value: 0, max: 98});\n",
        "        }\n",
        "        "
       ],
       "metadata": {},
       "output_type": "display_data",
       "text": [
        "<IPython.core.display.Javascript at 0x20833908>"
       ]
      },
      {
       "javascript": [
        "$('div#d437ff1f-7e31-4ea1-81f8-37d3f55cb49f').text('ETA:  0:00:04');"
       ],
       "metadata": {},
       "output_type": "display_data",
       "text": [
        "<IPython.core.display.Javascript at 0x208332e8>"
       ]
      },
      {
       "javascript": [
        "$('div#2b6fdf44-3dc4-4d94-b024-4d59d77ba782').text('10 of 98');"
       ],
       "metadata": {},
       "output_type": "display_data",
       "text": [
        "<IPython.core.display.Javascript at 0x20833198>"
       ]
      },
      {
       "javascript": [
        "$('div#fe91487f-a190-4b58-bdc9-6e47a4433108').text(' 10%');"
       ],
       "metadata": {},
       "output_type": "display_data",
       "text": [
        "<IPython.core.display.Javascript at 0x20833f98>"
       ]
      },
      {
       "javascript": [
        "\n",
        "        var $myPB = $(\"div#34e81fa7-d6c2-4da2-80f3-d7d4d17b6f63\")\n",
        "        if ($myPB.hasClass('ui-progressbar')) {\n",
        "            $myPB.progressbar('value', 10);\n",
        "        } else {\n",
        "            $myPB.progressbar({value: 0, max: 98});\n",
        "        }\n",
        "        "
       ],
       "metadata": {},
       "output_type": "display_data",
       "text": [
        "<IPython.core.display.Javascript at 0x20833048>"
       ]
      },
      {
       "javascript": [
        "$('div#d437ff1f-7e31-4ea1-81f8-37d3f55cb49f').text('ETA:  0:00:04');"
       ],
       "metadata": {},
       "output_type": "display_data",
       "text": [
        "<IPython.core.display.Javascript at 0x20833048>"
       ]
      },
      {
       "javascript": [
        "$('div#2b6fdf44-3dc4-4d94-b024-4d59d77ba782').text('11 of 98');"
       ],
       "metadata": {},
       "output_type": "display_data",
       "text": [
        "<IPython.core.display.Javascript at 0x1954f780>"
       ]
      },
      {
       "javascript": [
        "$('div#fe91487f-a190-4b58-bdc9-6e47a4433108').text(' 11%');"
       ],
       "metadata": {},
       "output_type": "display_data",
       "text": [
        "<IPython.core.display.Javascript at 0x1954f780>"
       ]
      },
      {
       "javascript": [
        "\n",
        "        var $myPB = $(\"div#34e81fa7-d6c2-4da2-80f3-d7d4d17b6f63\")\n",
        "        if ($myPB.hasClass('ui-progressbar')) {\n",
        "            $myPB.progressbar('value', 11);\n",
        "        } else {\n",
        "            $myPB.progressbar({value: 0, max: 98});\n",
        "        }\n",
        "        "
       ],
       "metadata": {},
       "output_type": "display_data",
       "text": [
        "<IPython.core.display.Javascript at 0x1954f390>"
       ]
      },
      {
       "javascript": [
        "$('div#d437ff1f-7e31-4ea1-81f8-37d3f55cb49f').text('ETA:  0:00:04');"
       ],
       "metadata": {},
       "output_type": "display_data",
       "text": [
        "<IPython.core.display.Javascript at 0x1954fac8>"
       ]
      },
      {
       "javascript": [
        "$('div#2b6fdf44-3dc4-4d94-b024-4d59d77ba782').text('12 of 98');"
       ],
       "metadata": {},
       "output_type": "display_data",
       "text": [
        "<IPython.core.display.Javascript at 0x1954f710>"
       ]
      },
      {
       "javascript": [
        "$('div#fe91487f-a190-4b58-bdc9-6e47a4433108').text(' 12%');"
       ],
       "metadata": {},
       "output_type": "display_data",
       "text": [
        "<IPython.core.display.Javascript at 0x1954f710>"
       ]
      },
      {
       "javascript": [
        "\n",
        "        var $myPB = $(\"div#34e81fa7-d6c2-4da2-80f3-d7d4d17b6f63\")\n",
        "        if ($myPB.hasClass('ui-progressbar')) {\n",
        "            $myPB.progressbar('value', 12);\n",
        "        } else {\n",
        "            $myPB.progressbar({value: 0, max: 98});\n",
        "        }\n",
        "        "
       ],
       "metadata": {},
       "output_type": "display_data",
       "text": [
        "<IPython.core.display.Javascript at 0x23d8eeb8>"
       ]
      },
      {
       "javascript": [
        "$('div#d437ff1f-7e31-4ea1-81f8-37d3f55cb49f').text('ETA:  0:00:03');"
       ],
       "metadata": {},
       "output_type": "display_data",
       "text": [
        "<IPython.core.display.Javascript at 0x23d8e0b8>"
       ]
      },
      {
       "javascript": [
        "$('div#2b6fdf44-3dc4-4d94-b024-4d59d77ba782').text('13 of 98');"
       ],
       "metadata": {},
       "output_type": "display_data",
       "text": [
        "<IPython.core.display.Javascript at 0x23d8e7f0>"
       ]
      },
      {
       "javascript": [
        "$('div#fe91487f-a190-4b58-bdc9-6e47a4433108').text(' 13%');"
       ],
       "metadata": {},
       "output_type": "display_data",
       "text": [
        "<IPython.core.display.Javascript at 0x23d8e358>"
       ]
      },
      {
       "javascript": [
        "\n",
        "        var $myPB = $(\"div#34e81fa7-d6c2-4da2-80f3-d7d4d17b6f63\")\n",
        "        if ($myPB.hasClass('ui-progressbar')) {\n",
        "            $myPB.progressbar('value', 13);\n",
        "        } else {\n",
        "            $myPB.progressbar({value: 0, max: 98});\n",
        "        }\n",
        "        "
       ],
       "metadata": {},
       "output_type": "display_data",
       "text": [
        "<IPython.core.display.Javascript at 0x23d8e358>"
       ]
      },
      {
       "javascript": [
        "$('div#d437ff1f-7e31-4ea1-81f8-37d3f55cb49f').text('ETA:  0:00:03');"
       ],
       "metadata": {},
       "output_type": "display_data",
       "text": [
        "<IPython.core.display.Javascript at 0x23d8e8d0>"
       ]
      },
      {
       "javascript": [
        "$('div#2b6fdf44-3dc4-4d94-b024-4d59d77ba782').text('14 of 98');"
       ],
       "metadata": {},
       "output_type": "display_data",
       "text": [
        "<IPython.core.display.Javascript at 0x23d8ef28>"
       ]
      },
      {
       "javascript": [
        "$('div#fe91487f-a190-4b58-bdc9-6e47a4433108').text(' 14%');"
       ],
       "metadata": {},
       "output_type": "display_data",
       "text": [
        "<IPython.core.display.Javascript at 0x23d8e240>"
       ]
      },
      {
       "javascript": [
        "\n",
        "        var $myPB = $(\"div#34e81fa7-d6c2-4da2-80f3-d7d4d17b6f63\")\n",
        "        if ($myPB.hasClass('ui-progressbar')) {\n",
        "            $myPB.progressbar('value', 14);\n",
        "        } else {\n",
        "            $myPB.progressbar({value: 0, max: 98});\n",
        "        }\n",
        "        "
       ],
       "metadata": {},
       "output_type": "display_data",
       "text": [
        "<IPython.core.display.Javascript at 0x23d8e240>"
       ]
      },
      {
       "javascript": [
        "$('div#d437ff1f-7e31-4ea1-81f8-37d3f55cb49f').text('ETA:  0:00:03');"
       ],
       "metadata": {},
       "output_type": "display_data",
       "text": [
        "<IPython.core.display.Javascript at 0x23d8e128>"
       ]
      },
      {
       "javascript": [
        "$('div#2b6fdf44-3dc4-4d94-b024-4d59d77ba782').text('15 of 98');"
       ],
       "metadata": {},
       "output_type": "display_data",
       "text": [
        "<IPython.core.display.Javascript at 0x23eb2710>"
       ]
      },
      {
       "javascript": [
        "$('div#fe91487f-a190-4b58-bdc9-6e47a4433108').text(' 15%');"
       ],
       "metadata": {},
       "output_type": "display_data",
       "text": [
        "<IPython.core.display.Javascript at 0x23eb2390>"
       ]
      },
      {
       "javascript": [
        "\n",
        "        var $myPB = $(\"div#34e81fa7-d6c2-4da2-80f3-d7d4d17b6f63\")\n",
        "        if ($myPB.hasClass('ui-progressbar')) {\n",
        "            $myPB.progressbar('value', 15);\n",
        "        } else {\n",
        "            $myPB.progressbar({value: 0, max: 98});\n",
        "        }\n",
        "        "
       ],
       "metadata": {},
       "output_type": "display_data",
       "text": [
        "<IPython.core.display.Javascript at 0x23eb24a8>"
       ]
      },
      {
       "javascript": [
        "$('div#d437ff1f-7e31-4ea1-81f8-37d3f55cb49f').text('ETA:  0:00:03');"
       ],
       "metadata": {},
       "output_type": "display_data",
       "text": [
        "<IPython.core.display.Javascript at 0x23eb24a8>"
       ]
      },
      {
       "javascript": [
        "$('div#2b6fdf44-3dc4-4d94-b024-4d59d77ba782').text('16 of 98');"
       ],
       "metadata": {},
       "output_type": "display_data",
       "text": [
        "<IPython.core.display.Javascript at 0x23eb2a90>"
       ]
      },
      {
       "javascript": [
        "$('div#fe91487f-a190-4b58-bdc9-6e47a4433108').text(' 16%');"
       ],
       "metadata": {},
       "output_type": "display_data",
       "text": [
        "<IPython.core.display.Javascript at 0x23eb2c50>"
       ]
      },
      {
       "javascript": [
        "\n",
        "        var $myPB = $(\"div#34e81fa7-d6c2-4da2-80f3-d7d4d17b6f63\")\n",
        "        if ($myPB.hasClass('ui-progressbar')) {\n",
        "            $myPB.progressbar('value', 16);\n",
        "        } else {\n",
        "            $myPB.progressbar({value: 0, max: 98});\n",
        "        }\n",
        "        "
       ],
       "metadata": {},
       "output_type": "display_data",
       "text": [
        "<IPython.core.display.Javascript at 0x23eb2c50>"
       ]
      },
      {
       "javascript": [
        "$('div#d437ff1f-7e31-4ea1-81f8-37d3f55cb49f').text('ETA:  0:00:03');"
       ],
       "metadata": {},
       "output_type": "display_data",
       "text": [
        "<IPython.core.display.Javascript at 0x23eb2cf8>"
       ]
      },
      {
       "javascript": [
        "$('div#2b6fdf44-3dc4-4d94-b024-4d59d77ba782').text('17 of 98');"
       ],
       "metadata": {},
       "output_type": "display_data",
       "text": [
        "<IPython.core.display.Javascript at 0x1b3c2eb8>"
       ]
      },
      {
       "javascript": [
        "$('div#fe91487f-a190-4b58-bdc9-6e47a4433108').text(' 17%');"
       ],
       "metadata": {},
       "output_type": "display_data",
       "text": [
        "<IPython.core.display.Javascript at 0x1b3c2940>"
       ]
      },
      {
       "javascript": [
        "\n",
        "        var $myPB = $(\"div#34e81fa7-d6c2-4da2-80f3-d7d4d17b6f63\")\n",
        "        if ($myPB.hasClass('ui-progressbar')) {\n",
        "            $myPB.progressbar('value', 17);\n",
        "        } else {\n",
        "            $myPB.progressbar({value: 0, max: 98});\n",
        "        }\n",
        "        "
       ],
       "metadata": {},
       "output_type": "display_data",
       "text": [
        "<IPython.core.display.Javascript at 0x1b3c2940>"
       ]
      },
      {
       "javascript": [
        "$('div#d437ff1f-7e31-4ea1-81f8-37d3f55cb49f').text('ETA:  0:00:03');"
       ],
       "metadata": {},
       "output_type": "display_data",
       "text": [
        "<IPython.core.display.Javascript at 0x1b3c2be0>"
       ]
      },
      {
       "javascript": [
        "$('div#2b6fdf44-3dc4-4d94-b024-4d59d77ba782').text('18 of 98');"
       ],
       "metadata": {},
       "output_type": "display_data",
       "text": [
        "<IPython.core.display.Javascript at 0x1b3c2b00>"
       ]
      },
      {
       "javascript": [
        "$('div#fe91487f-a190-4b58-bdc9-6e47a4433108').text(' 18%');"
       ],
       "metadata": {},
       "output_type": "display_data",
       "text": [
        "<IPython.core.display.Javascript at 0x1b3c2550>"
       ]
      },
      {
       "javascript": [
        "\n",
        "        var $myPB = $(\"div#34e81fa7-d6c2-4da2-80f3-d7d4d17b6f63\")\n",
        "        if ($myPB.hasClass('ui-progressbar')) {\n",
        "            $myPB.progressbar('value', 18);\n",
        "        } else {\n",
        "            $myPB.progressbar({value: 0, max: 98});\n",
        "        }\n",
        "        "
       ],
       "metadata": {},
       "output_type": "display_data",
       "text": [
        "<IPython.core.display.Javascript at 0x1b3c2550>"
       ]
      },
      {
       "javascript": [
        "$('div#d437ff1f-7e31-4ea1-81f8-37d3f55cb49f').text('ETA:  0:00:02');"
       ],
       "metadata": {},
       "output_type": "display_data",
       "text": [
        "<IPython.core.display.Javascript at 0x1b3c2ef0>"
       ]
      },
      {
       "javascript": [
        "$('div#2b6fdf44-3dc4-4d94-b024-4d59d77ba782').text('19 of 98');"
       ],
       "metadata": {},
       "output_type": "display_data",
       "text": [
        "<IPython.core.display.Javascript at 0x1c18f668>"
       ]
      },
      {
       "javascript": [
        "$('div#fe91487f-a190-4b58-bdc9-6e47a4433108').text(' 19%');"
       ],
       "metadata": {},
       "output_type": "display_data",
       "text": [
        "<IPython.core.display.Javascript at 0x1c18f668>"
       ]
      },
      {
       "javascript": [
        "\n",
        "        var $myPB = $(\"div#34e81fa7-d6c2-4da2-80f3-d7d4d17b6f63\")\n",
        "        if ($myPB.hasClass('ui-progressbar')) {\n",
        "            $myPB.progressbar('value', 19);\n",
        "        } else {\n",
        "            $myPB.progressbar({value: 0, max: 98});\n",
        "        }\n",
        "        "
       ],
       "metadata": {},
       "output_type": "display_data",
       "text": [
        "<IPython.core.display.Javascript at 0x1c18f6d8>"
       ]
      },
      {
       "javascript": [
        "$('div#d437ff1f-7e31-4ea1-81f8-37d3f55cb49f').text('ETA:  0:00:02');"
       ],
       "metadata": {},
       "output_type": "display_data",
       "text": [
        "<IPython.core.display.Javascript at 0x1c18ff98>"
       ]
      },
      {
       "javascript": [
        "$('div#2b6fdf44-3dc4-4d94-b024-4d59d77ba782').text('20 of 98');"
       ],
       "metadata": {},
       "output_type": "display_data",
       "text": [
        "<IPython.core.display.Javascript at 0x1c18f240>"
       ]
      },
      {
       "javascript": [
        "$('div#fe91487f-a190-4b58-bdc9-6e47a4433108').text(' 20%');"
       ],
       "metadata": {},
       "output_type": "display_data",
       "text": [
        "<IPython.core.display.Javascript at 0x1c18f320>"
       ]
      },
      {
       "javascript": [
        "\n",
        "        var $myPB = $(\"div#34e81fa7-d6c2-4da2-80f3-d7d4d17b6f63\")\n",
        "        if ($myPB.hasClass('ui-progressbar')) {\n",
        "            $myPB.progressbar('value', 20);\n",
        "        } else {\n",
        "            $myPB.progressbar({value: 0, max: 98});\n",
        "        }\n",
        "        "
       ],
       "metadata": {},
       "output_type": "display_data",
       "text": [
        "<IPython.core.display.Javascript at 0x1c18f748>"
       ]
      },
      {
       "javascript": [
        "$('div#d437ff1f-7e31-4ea1-81f8-37d3f55cb49f').text('ETA:  0:00:02');"
       ],
       "metadata": {},
       "output_type": "display_data",
       "text": [
        "<IPython.core.display.Javascript at 0x1c18fbe0>"
       ]
      },
      {
       "javascript": [
        "$('div#2b6fdf44-3dc4-4d94-b024-4d59d77ba782').text('21 of 98');"
       ],
       "metadata": {},
       "output_type": "display_data",
       "text": [
        "<IPython.core.display.Javascript at 0x216b6c88>"
       ]
      },
      {
       "javascript": [
        "$('div#fe91487f-a190-4b58-bdc9-6e47a4433108').text(' 21%');"
       ],
       "metadata": {},
       "output_type": "display_data",
       "text": [
        "<IPython.core.display.Javascript at 0x226c72e8>"
       ]
      },
      {
       "javascript": [
        "\n",
        "        var $myPB = $(\"div#34e81fa7-d6c2-4da2-80f3-d7d4d17b6f63\")\n",
        "        if ($myPB.hasClass('ui-progressbar')) {\n",
        "            $myPB.progressbar('value', 21);\n",
        "        } else {\n",
        "            $myPB.progressbar({value: 0, max: 98});\n",
        "        }\n",
        "        "
       ],
       "metadata": {},
       "output_type": "display_data",
       "text": [
        "<IPython.core.display.Javascript at 0x216b6c88>"
       ]
      },
      {
       "javascript": [
        "$('div#d437ff1f-7e31-4ea1-81f8-37d3f55cb49f').text('ETA:  0:00:02');"
       ],
       "metadata": {},
       "output_type": "display_data",
       "text": [
        "<IPython.core.display.Javascript at 0x226c72e8>"
       ]
      },
      {
       "javascript": [
        "$('div#2b6fdf44-3dc4-4d94-b024-4d59d77ba782').text('22 of 98');"
       ],
       "metadata": {},
       "output_type": "display_data",
       "text": [
        "<IPython.core.display.Javascript at 0x226c7438>"
       ]
      },
      {
       "javascript": [
        "$('div#fe91487f-a190-4b58-bdc9-6e47a4433108').text(' 22%');"
       ],
       "metadata": {},
       "output_type": "display_data",
       "text": [
        "<IPython.core.display.Javascript at 0x226c7940>"
       ]
      },
      {
       "javascript": [
        "\n",
        "        var $myPB = $(\"div#34e81fa7-d6c2-4da2-80f3-d7d4d17b6f63\")\n",
        "        if ($myPB.hasClass('ui-progressbar')) {\n",
        "            $myPB.progressbar('value', 22);\n",
        "        } else {\n",
        "            $myPB.progressbar({value: 0, max: 98});\n",
        "        }\n",
        "        "
       ],
       "metadata": {},
       "output_type": "display_data",
       "text": [
        "<IPython.core.display.Javascript at 0x226c75c0>"
       ]
      },
      {
       "javascript": [
        "$('div#d437ff1f-7e31-4ea1-81f8-37d3f55cb49f').text('ETA:  0:00:02');"
       ],
       "metadata": {},
       "output_type": "display_data",
       "text": [
        "<IPython.core.display.Javascript at 0x226c75c0>"
       ]
      },
      {
       "javascript": [
        "$('div#2b6fdf44-3dc4-4d94-b024-4d59d77ba782').text('23 of 98');"
       ],
       "metadata": {},
       "output_type": "display_data",
       "text": [
        "<IPython.core.display.Javascript at 0x226c7cc0>"
       ]
      },
      {
       "javascript": [
        "$('div#fe91487f-a190-4b58-bdc9-6e47a4433108').text(' 23%');"
       ],
       "metadata": {},
       "output_type": "display_data",
       "text": [
        "<IPython.core.display.Javascript at 0x226c7d30>"
       ]
      },
      {
       "javascript": [
        "\n",
        "        var $myPB = $(\"div#34e81fa7-d6c2-4da2-80f3-d7d4d17b6f63\")\n",
        "        if ($myPB.hasClass('ui-progressbar')) {\n",
        "            $myPB.progressbar('value', 23);\n",
        "        } else {\n",
        "            $myPB.progressbar({value: 0, max: 98});\n",
        "        }\n",
        "        "
       ],
       "metadata": {},
       "output_type": "display_data",
       "text": [
        "<IPython.core.display.Javascript at 0x226c7d30>"
       ]
      },
      {
       "javascript": [
        "$('div#d437ff1f-7e31-4ea1-81f8-37d3f55cb49f').text('ETA:  0:00:02');"
       ],
       "metadata": {},
       "output_type": "display_data",
       "text": [
        "<IPython.core.display.Javascript at 0x226c7978>"
       ]
      },
      {
       "javascript": [
        "$('div#2b6fdf44-3dc4-4d94-b024-4d59d77ba782').text('24 of 98');"
       ],
       "metadata": {},
       "output_type": "display_data",
       "text": [
        "<IPython.core.display.Javascript at 0x221187f0>"
       ]
      },
      {
       "javascript": [
        "$('div#fe91487f-a190-4b58-bdc9-6e47a4433108').text(' 24%');"
       ],
       "metadata": {},
       "output_type": "display_data",
       "text": [
        "<IPython.core.display.Javascript at 0x22118ac8>"
       ]
      },
      {
       "javascript": [
        "\n",
        "        var $myPB = $(\"div#34e81fa7-d6c2-4da2-80f3-d7d4d17b6f63\")\n",
        "        if ($myPB.hasClass('ui-progressbar')) {\n",
        "            $myPB.progressbar('value', 24);\n",
        "        } else {\n",
        "            $myPB.progressbar({value: 0, max: 98});\n",
        "        }\n",
        "        "
       ],
       "metadata": {},
       "output_type": "display_data",
       "text": [
        "<IPython.core.display.Javascript at 0x221180f0>"
       ]
      },
      {
       "javascript": [
        "$('div#d437ff1f-7e31-4ea1-81f8-37d3f55cb49f').text('ETA:  0:00:02');"
       ],
       "metadata": {},
       "output_type": "display_data",
       "text": [
        "<IPython.core.display.Javascript at 0x22118a90>"
       ]
      },
      {
       "javascript": [
        "$('div#2b6fdf44-3dc4-4d94-b024-4d59d77ba782').text('25 of 98');"
       ],
       "metadata": {},
       "output_type": "display_data",
       "text": [
        "<IPython.core.display.Javascript at 0x224bb160>"
       ]
      },
      {
       "javascript": [
        "$('div#fe91487f-a190-4b58-bdc9-6e47a4433108').text(' 25%');"
       ],
       "metadata": {},
       "output_type": "display_data",
       "text": [
        "<IPython.core.display.Javascript at 0x224bb358>"
       ]
      },
      {
       "javascript": [
        "\n",
        "        var $myPB = $(\"div#34e81fa7-d6c2-4da2-80f3-d7d4d17b6f63\")\n",
        "        if ($myPB.hasClass('ui-progressbar')) {\n",
        "            $myPB.progressbar('value', 25);\n",
        "        } else {\n",
        "            $myPB.progressbar({value: 0, max: 98});\n",
        "        }\n",
        "        "
       ],
       "metadata": {},
       "output_type": "display_data",
       "text": [
        "<IPython.core.display.Javascript at 0x224bb940>"
       ]
      },
      {
       "javascript": [
        "$('div#d437ff1f-7e31-4ea1-81f8-37d3f55cb49f').text('ETA:  0:00:03');"
       ],
       "metadata": {},
       "output_type": "display_data",
       "text": [
        "<IPython.core.display.Javascript at 0x224bb240>"
       ]
      },
      {
       "javascript": [
        "$('div#2b6fdf44-3dc4-4d94-b024-4d59d77ba782').text('26 of 98');"
       ],
       "metadata": {},
       "output_type": "display_data",
       "text": [
        "<IPython.core.display.Javascript at 0x22c75160>"
       ]
      },
      {
       "javascript": [
        "$('div#fe91487f-a190-4b58-bdc9-6e47a4433108').text(' 26%');"
       ],
       "metadata": {},
       "output_type": "display_data",
       "text": [
        "<IPython.core.display.Javascript at 0x22c75668>"
       ]
      },
      {
       "javascript": [
        "\n",
        "        var $myPB = $(\"div#34e81fa7-d6c2-4da2-80f3-d7d4d17b6f63\")\n",
        "        if ($myPB.hasClass('ui-progressbar')) {\n",
        "            $myPB.progressbar('value', 26);\n",
        "        } else {\n",
        "            $myPB.progressbar({value: 0, max: 98});\n",
        "        }\n",
        "        "
       ],
       "metadata": {},
       "output_type": "display_data",
       "text": [
        "<IPython.core.display.Javascript at 0x22c75da0>"
       ]
      },
      {
       "javascript": [
        "$('div#d437ff1f-7e31-4ea1-81f8-37d3f55cb49f').text('ETA:  0:00:03');"
       ],
       "metadata": {},
       "output_type": "display_data",
       "text": [
        "<IPython.core.display.Javascript at 0x22c756a0>"
       ]
      },
      {
       "javascript": [
        "$('div#2b6fdf44-3dc4-4d94-b024-4d59d77ba782').text('27 of 98');"
       ],
       "metadata": {},
       "output_type": "display_data",
       "text": [
        "<IPython.core.display.Javascript at 0x22c757f0>"
       ]
      },
      {
       "javascript": [
        "$('div#fe91487f-a190-4b58-bdc9-6e47a4433108').text(' 27%');"
       ],
       "metadata": {},
       "output_type": "display_data",
       "text": [
        "<IPython.core.display.Javascript at 0x22c752e8>"
       ]
      },
      {
       "javascript": [
        "\n",
        "        var $myPB = $(\"div#34e81fa7-d6c2-4da2-80f3-d7d4d17b6f63\")\n",
        "        if ($myPB.hasClass('ui-progressbar')) {\n",
        "            $myPB.progressbar('value', 27);\n",
        "        } else {\n",
        "            $myPB.progressbar({value: 0, max: 98});\n",
        "        }\n",
        "        "
       ],
       "metadata": {},
       "output_type": "display_data",
       "text": [
        "<IPython.core.display.Javascript at 0x22c754a8>"
       ]
      },
      {
       "javascript": [
        "$('div#d437ff1f-7e31-4ea1-81f8-37d3f55cb49f').text('ETA:  0:00:03');"
       ],
       "metadata": {},
       "output_type": "display_data",
       "text": [
        "<IPython.core.display.Javascript at 0x22c754a8>"
       ]
      },
      {
       "javascript": [
        "$('div#2b6fdf44-3dc4-4d94-b024-4d59d77ba782').text('28 of 98');"
       ],
       "metadata": {},
       "output_type": "display_data",
       "text": [
        "<IPython.core.display.Javascript at 0x233e25f8>"
       ]
      },
      {
       "javascript": [
        "$('div#fe91487f-a190-4b58-bdc9-6e47a4433108').text(' 28%');"
       ],
       "metadata": {},
       "output_type": "display_data",
       "text": [
        "<IPython.core.display.Javascript at 0x233e23c8>"
       ]
      },
      {
       "javascript": [
        "\n",
        "        var $myPB = $(\"div#34e81fa7-d6c2-4da2-80f3-d7d4d17b6f63\")\n",
        "        if ($myPB.hasClass('ui-progressbar')) {\n",
        "            $myPB.progressbar('value', 28);\n",
        "        } else {\n",
        "            $myPB.progressbar({value: 0, max: 98});\n",
        "        }\n",
        "        "
       ],
       "metadata": {},
       "output_type": "display_data",
       "text": [
        "<IPython.core.display.Javascript at 0x233e2dd8>"
       ]
      },
      {
       "javascript": [
        "$('div#d437ff1f-7e31-4ea1-81f8-37d3f55cb49f').text('ETA:  0:00:03');"
       ],
       "metadata": {},
       "output_type": "display_data",
       "text": [
        "<IPython.core.display.Javascript at 0x233e2be0>"
       ]
      },
      {
       "javascript": [
        "$('div#2b6fdf44-3dc4-4d94-b024-4d59d77ba782').text('29 of 98');"
       ],
       "metadata": {},
       "output_type": "display_data",
       "text": [
        "<IPython.core.display.Javascript at 0x233e2438>"
       ]
      },
      {
       "javascript": [
        "$('div#fe91487f-a190-4b58-bdc9-6e47a4433108').text(' 29%');"
       ],
       "metadata": {},
       "output_type": "display_data",
       "text": [
        "<IPython.core.display.Javascript at 0x26f56828>"
       ]
      },
      {
       "javascript": [
        "\n",
        "        var $myPB = $(\"div#34e81fa7-d6c2-4da2-80f3-d7d4d17b6f63\")\n",
        "        if ($myPB.hasClass('ui-progressbar')) {\n",
        "            $myPB.progressbar('value', 29);\n",
        "        } else {\n",
        "            $myPB.progressbar({value: 0, max: 98});\n",
        "        }\n",
        "        "
       ],
       "metadata": {},
       "output_type": "display_data",
       "text": [
        "<IPython.core.display.Javascript at 0x26f561d0>"
       ]
      },
      {
       "javascript": [
        "$('div#d437ff1f-7e31-4ea1-81f8-37d3f55cb49f').text('ETA:  0:00:03');"
       ],
       "metadata": {},
       "output_type": "display_data",
       "text": [
        "<IPython.core.display.Javascript at 0x233e2438>"
       ]
      },
      {
       "javascript": [
        "$('div#2b6fdf44-3dc4-4d94-b024-4d59d77ba782').text('30 of 98');"
       ],
       "metadata": {},
       "output_type": "display_data",
       "text": [
        "<IPython.core.display.Javascript at 0x1f8165c0>"
       ]
      },
      {
       "javascript": [
        "$('div#fe91487f-a190-4b58-bdc9-6e47a4433108').text(' 30%');"
       ],
       "metadata": {},
       "output_type": "display_data",
       "text": [
        "<IPython.core.display.Javascript at 0x1f816ba8>"
       ]
      },
      {
       "javascript": [
        "\n",
        "        var $myPB = $(\"div#34e81fa7-d6c2-4da2-80f3-d7d4d17b6f63\")\n",
        "        if ($myPB.hasClass('ui-progressbar')) {\n",
        "            $myPB.progressbar('value', 30);\n",
        "        } else {\n",
        "            $myPB.progressbar({value: 0, max: 98});\n",
        "        }\n",
        "        "
       ],
       "metadata": {},
       "output_type": "display_data",
       "text": [
        "<IPython.core.display.Javascript at 0x1f816ba8>"
       ]
      },
      {
       "javascript": [
        "$('div#d437ff1f-7e31-4ea1-81f8-37d3f55cb49f').text('ETA:  0:00:02');"
       ],
       "metadata": {},
       "output_type": "display_data",
       "text": [
        "<IPython.core.display.Javascript at 0x1f816940>"
       ]
      },
      {
       "javascript": [
        "$('div#2b6fdf44-3dc4-4d94-b024-4d59d77ba782').text('31 of 98');"
       ],
       "metadata": {},
       "output_type": "display_data",
       "text": [
        "<IPython.core.display.Javascript at 0x26ca2630>"
       ]
      },
      {
       "javascript": [
        "$('div#fe91487f-a190-4b58-bdc9-6e47a4433108').text(' 31%');"
       ],
       "metadata": {},
       "output_type": "display_data",
       "text": [
        "<IPython.core.display.Javascript at 0x1af35b38>"
       ]
      },
      {
       "javascript": [
        "\n",
        "        var $myPB = $(\"div#34e81fa7-d6c2-4da2-80f3-d7d4d17b6f63\")\n",
        "        if ($myPB.hasClass('ui-progressbar')) {\n",
        "            $myPB.progressbar('value', 31);\n",
        "        } else {\n",
        "            $myPB.progressbar({value: 0, max: 98});\n",
        "        }\n",
        "        "
       ],
       "metadata": {},
       "output_type": "display_data",
       "text": [
        "<IPython.core.display.Javascript at 0x1af35978>"
       ]
      },
      {
       "javascript": [
        "$('div#d437ff1f-7e31-4ea1-81f8-37d3f55cb49f').text('ETA:  0:00:02');"
       ],
       "metadata": {},
       "output_type": "display_data",
       "text": [
        "<IPython.core.display.Javascript at 0x1af350f0>"
       ]
      },
      {
       "javascript": [
        "$('div#2b6fdf44-3dc4-4d94-b024-4d59d77ba782').text('32 of 98');"
       ],
       "metadata": {},
       "output_type": "display_data",
       "text": [
        "<IPython.core.display.Javascript at 0x21538eb8>"
       ]
      },
      {
       "javascript": [
        "$('div#fe91487f-a190-4b58-bdc9-6e47a4433108').text(' 32%');"
       ],
       "metadata": {},
       "output_type": "display_data",
       "text": [
        "<IPython.core.display.Javascript at 0x215382e8>"
       ]
      },
      {
       "javascript": [
        "\n",
        "        var $myPB = $(\"div#34e81fa7-d6c2-4da2-80f3-d7d4d17b6f63\")\n",
        "        if ($myPB.hasClass('ui-progressbar')) {\n",
        "            $myPB.progressbar('value', 32);\n",
        "        } else {\n",
        "            $myPB.progressbar({value: 0, max: 98});\n",
        "        }\n",
        "        "
       ],
       "metadata": {},
       "output_type": "display_data",
       "text": [
        "<IPython.core.display.Javascript at 0x215382e8>"
       ]
      },
      {
       "javascript": [
        "$('div#d437ff1f-7e31-4ea1-81f8-37d3f55cb49f').text('ETA:  0:00:02');"
       ],
       "metadata": {},
       "output_type": "display_data",
       "text": [
        "<IPython.core.display.Javascript at 0x21538358>"
       ]
      },
      {
       "javascript": [
        "$('div#2b6fdf44-3dc4-4d94-b024-4d59d77ba782').text('33 of 98');"
       ],
       "metadata": {},
       "output_type": "display_data",
       "text": [
        "<IPython.core.display.Javascript at 0x21538b00>"
       ]
      },
      {
       "javascript": [
        "$('div#fe91487f-a190-4b58-bdc9-6e47a4433108').text(' 33%');"
       ],
       "metadata": {},
       "output_type": "display_data",
       "text": [
        "<IPython.core.display.Javascript at 0x21538cc0>"
       ]
      },
      {
       "javascript": [
        "\n",
        "        var $myPB = $(\"div#34e81fa7-d6c2-4da2-80f3-d7d4d17b6f63\")\n",
        "        if ($myPB.hasClass('ui-progressbar')) {\n",
        "            $myPB.progressbar('value', 33);\n",
        "        } else {\n",
        "            $myPB.progressbar({value: 0, max: 98});\n",
        "        }\n",
        "        "
       ],
       "metadata": {},
       "output_type": "display_data",
       "text": [
        "<IPython.core.display.Javascript at 0x21538208>"
       ]
      },
      {
       "javascript": [
        "$('div#d437ff1f-7e31-4ea1-81f8-37d3f55cb49f').text('ETA:  0:00:02');"
       ],
       "metadata": {},
       "output_type": "display_data",
       "text": [
        "<IPython.core.display.Javascript at 0x21538208>"
       ]
      },
      {
       "javascript": [
        "$('div#2b6fdf44-3dc4-4d94-b024-4d59d77ba782').text('34 of 98');"
       ],
       "metadata": {},
       "output_type": "display_data",
       "text": [
        "<IPython.core.display.Javascript at 0x1bedfb00>"
       ]
      },
      {
       "javascript": [
        "$('div#fe91487f-a190-4b58-bdc9-6e47a4433108').text(' 34%');"
       ],
       "metadata": {},
       "output_type": "display_data",
       "text": [
        "<IPython.core.display.Javascript at 0x1bedf3c8>"
       ]
      },
      {
       "javascript": [
        "\n",
        "        var $myPB = $(\"div#34e81fa7-d6c2-4da2-80f3-d7d4d17b6f63\")\n",
        "        if ($myPB.hasClass('ui-progressbar')) {\n",
        "            $myPB.progressbar('value', 34);\n",
        "        } else {\n",
        "            $myPB.progressbar({value: 0, max: 98});\n",
        "        }\n",
        "        "
       ],
       "metadata": {},
       "output_type": "display_data",
       "text": [
        "<IPython.core.display.Javascript at 0x1bedf3c8>"
       ]
      },
      {
       "javascript": [
        "$('div#d437ff1f-7e31-4ea1-81f8-37d3f55cb49f').text('ETA:  0:00:02');"
       ],
       "metadata": {},
       "output_type": "display_data",
       "text": [
        "<IPython.core.display.Javascript at 0x1bedf6a0>"
       ]
      },
      {
       "javascript": [
        "$('div#2b6fdf44-3dc4-4d94-b024-4d59d77ba782').text('35 of 98');"
       ],
       "metadata": {},
       "output_type": "display_data",
       "text": [
        "<IPython.core.display.Javascript at 0x1bedf780>"
       ]
      },
      {
       "javascript": [
        "$('div#fe91487f-a190-4b58-bdc9-6e47a4433108').text(' 35%');"
       ],
       "metadata": {},
       "output_type": "display_data",
       "text": [
        "<IPython.core.display.Javascript at 0x1bedf2b0>"
       ]
      },
      {
       "javascript": [
        "\n",
        "        var $myPB = $(\"div#34e81fa7-d6c2-4da2-80f3-d7d4d17b6f63\")\n",
        "        if ($myPB.hasClass('ui-progressbar')) {\n",
        "            $myPB.progressbar('value', 35);\n",
        "        } else {\n",
        "            $myPB.progressbar({value: 0, max: 98});\n",
        "        }\n",
        "        "
       ],
       "metadata": {},
       "output_type": "display_data",
       "text": [
        "<IPython.core.display.Javascript at 0x1bedf5f8>"
       ]
      },
      {
       "javascript": [
        "$('div#d437ff1f-7e31-4ea1-81f8-37d3f55cb49f').text('ETA:  0:00:02');"
       ],
       "metadata": {},
       "output_type": "display_data",
       "text": [
        "<IPython.core.display.Javascript at 0x1bedfa58>"
       ]
      },
      {
       "javascript": [
        "$('div#2b6fdf44-3dc4-4d94-b024-4d59d77ba782').text('36 of 98');"
       ],
       "metadata": {},
       "output_type": "display_data",
       "text": [
        "<IPython.core.display.Javascript at 0x1bedf128>"
       ]
      },
      {
       "javascript": [
        "$('div#fe91487f-a190-4b58-bdc9-6e47a4433108').text(' 36%');"
       ],
       "metadata": {},
       "output_type": "display_data",
       "text": [
        "<IPython.core.display.Javascript at 0x1a65d710>"
       ]
      },
      {
       "javascript": [
        "\n",
        "        var $myPB = $(\"div#34e81fa7-d6c2-4da2-80f3-d7d4d17b6f63\")\n",
        "        if ($myPB.hasClass('ui-progressbar')) {\n",
        "            $myPB.progressbar('value', 36);\n",
        "        } else {\n",
        "            $myPB.progressbar({value: 0, max: 98});\n",
        "        }\n",
        "        "
       ],
       "metadata": {},
       "output_type": "display_data",
       "text": [
        "<IPython.core.display.Javascript at 0x1a65d5c0>"
       ]
      },
      {
       "javascript": [
        "$('div#d437ff1f-7e31-4ea1-81f8-37d3f55cb49f').text('ETA:  0:00:02');"
       ],
       "metadata": {},
       "output_type": "display_data",
       "text": [
        "<IPython.core.display.Javascript at 0x1a65da90>"
       ]
      },
      {
       "javascript": [
        "$('div#2b6fdf44-3dc4-4d94-b024-4d59d77ba782').text('37 of 98');"
       ],
       "metadata": {},
       "output_type": "display_data",
       "text": [
        "<IPython.core.display.Javascript at 0x1a65d128>"
       ]
      },
      {
       "javascript": [
        "$('div#fe91487f-a190-4b58-bdc9-6e47a4433108').text(' 37%');"
       ],
       "metadata": {},
       "output_type": "display_data",
       "text": [
        "<IPython.core.display.Javascript at 0x1a65dba8>"
       ]
      },
      {
       "javascript": [
        "\n",
        "        var $myPB = $(\"div#34e81fa7-d6c2-4da2-80f3-d7d4d17b6f63\")\n",
        "        if ($myPB.hasClass('ui-progressbar')) {\n",
        "            $myPB.progressbar('value', 37);\n",
        "        } else {\n",
        "            $myPB.progressbar({value: 0, max: 98});\n",
        "        }\n",
        "        "
       ],
       "metadata": {},
       "output_type": "display_data",
       "text": [
        "<IPython.core.display.Javascript at 0x1a65d0f0>"
       ]
      },
      {
       "javascript": [
        "$('div#d437ff1f-7e31-4ea1-81f8-37d3f55cb49f').text('ETA:  0:00:02');"
       ],
       "metadata": {},
       "output_type": "display_data",
       "text": [
        "<IPython.core.display.Javascript at 0x1a65d0f0>"
       ]
      },
      {
       "javascript": [
        "$('div#2b6fdf44-3dc4-4d94-b024-4d59d77ba782').text('38 of 98');"
       ],
       "metadata": {},
       "output_type": "display_data",
       "text": [
        "<IPython.core.display.Javascript at 0x1a65d0f0>"
       ]
      },
      {
       "javascript": [
        "$('div#fe91487f-a190-4b58-bdc9-6e47a4433108').text(' 38%');"
       ],
       "metadata": {},
       "output_type": "display_data",
       "text": [
        "<IPython.core.display.Javascript at 0x1a65da20>"
       ]
      },
      {
       "javascript": [
        "\n",
        "        var $myPB = $(\"div#34e81fa7-d6c2-4da2-80f3-d7d4d17b6f63\")\n",
        "        if ($myPB.hasClass('ui-progressbar')) {\n",
        "            $myPB.progressbar('value', 38);\n",
        "        } else {\n",
        "            $myPB.progressbar({value: 0, max: 98});\n",
        "        }\n",
        "        "
       ],
       "metadata": {},
       "output_type": "display_data",
       "text": [
        "<IPython.core.display.Javascript at 0x1b88f978>"
       ]
      },
      {
       "javascript": [
        "$('div#d437ff1f-7e31-4ea1-81f8-37d3f55cb49f').text('ETA:  0:00:02');"
       ],
       "metadata": {},
       "output_type": "display_data",
       "text": [
        "<IPython.core.display.Javascript at 0x1b88ff60>"
       ]
      },
      {
       "javascript": [
        "$('div#2b6fdf44-3dc4-4d94-b024-4d59d77ba782').text('39 of 98');"
       ],
       "metadata": {},
       "output_type": "display_data",
       "text": [
        "<IPython.core.display.Javascript at 0x1b88fc50>"
       ]
      },
      {
       "javascript": [
        "$('div#fe91487f-a190-4b58-bdc9-6e47a4433108').text(' 39%');"
       ],
       "metadata": {},
       "output_type": "display_data",
       "text": [
        "<IPython.core.display.Javascript at 0x1b88f048>"
       ]
      },
      {
       "javascript": [
        "\n",
        "        var $myPB = $(\"div#34e81fa7-d6c2-4da2-80f3-d7d4d17b6f63\")\n",
        "        if ($myPB.hasClass('ui-progressbar')) {\n",
        "            $myPB.progressbar('value', 39);\n",
        "        } else {\n",
        "            $myPB.progressbar({value: 0, max: 98});\n",
        "        }\n",
        "        "
       ],
       "metadata": {},
       "output_type": "display_data",
       "text": [
        "<IPython.core.display.Javascript at 0x1b88f630>"
       ]
      },
      {
       "javascript": [
        "$('div#d437ff1f-7e31-4ea1-81f8-37d3f55cb49f').text('ETA:  0:00:02');"
       ],
       "metadata": {},
       "output_type": "display_data",
       "text": [
        "<IPython.core.display.Javascript at 0x1b88f828>"
       ]
      },
      {
       "javascript": [
        "$('div#2b6fdf44-3dc4-4d94-b024-4d59d77ba782').text('40 of 98');"
       ],
       "metadata": {},
       "output_type": "display_data",
       "text": [
        "<IPython.core.display.Javascript at 0x1aabbe10>"
       ]
      },
      {
       "javascript": [
        "$('div#fe91487f-a190-4b58-bdc9-6e47a4433108').text(' 40%');"
       ],
       "metadata": {},
       "output_type": "display_data",
       "text": [
        "<IPython.core.display.Javascript at 0x1aabb4e0>"
       ]
      },
      {
       "javascript": [
        "\n",
        "        var $myPB = $(\"div#34e81fa7-d6c2-4da2-80f3-d7d4d17b6f63\")\n",
        "        if ($myPB.hasClass('ui-progressbar')) {\n",
        "            $myPB.progressbar('value', 40);\n",
        "        } else {\n",
        "            $myPB.progressbar({value: 0, max: 98});\n",
        "        }\n",
        "        "
       ],
       "metadata": {},
       "output_type": "display_data",
       "text": [
        "<IPython.core.display.Javascript at 0x1aabb128>"
       ]
      },
      {
       "javascript": [
        "$('div#d437ff1f-7e31-4ea1-81f8-37d3f55cb49f').text('ETA:  0:00:02');"
       ],
       "metadata": {},
       "output_type": "display_data",
       "text": [
        "<IPython.core.display.Javascript at 0x1aabbac8>"
       ]
      },
      {
       "javascript": [
        "$('div#2b6fdf44-3dc4-4d94-b024-4d59d77ba782').text('41 of 98');"
       ],
       "metadata": {},
       "output_type": "display_data",
       "text": [
        "<IPython.core.display.Javascript at 0x1aabb0b8>"
       ]
      },
      {
       "javascript": [
        "$('div#fe91487f-a190-4b58-bdc9-6e47a4433108').text(' 41%');"
       ],
       "metadata": {},
       "output_type": "display_data",
       "text": [
        "<IPython.core.display.Javascript at 0x1aabbc50>"
       ]
      },
      {
       "javascript": [
        "\n",
        "        var $myPB = $(\"div#34e81fa7-d6c2-4da2-80f3-d7d4d17b6f63\")\n",
        "        if ($myPB.hasClass('ui-progressbar')) {\n",
        "            $myPB.progressbar('value', 41);\n",
        "        } else {\n",
        "            $myPB.progressbar({value: 0, max: 98});\n",
        "        }\n",
        "        "
       ],
       "metadata": {},
       "output_type": "display_data",
       "text": [
        "<IPython.core.display.Javascript at 0x1aabb898>"
       ]
      },
      {
       "javascript": [
        "$('div#d437ff1f-7e31-4ea1-81f8-37d3f55cb49f').text('ETA:  0:00:02');"
       ],
       "metadata": {},
       "output_type": "display_data",
       "text": [
        "<IPython.core.display.Javascript at 0x1aabb710>"
       ]
      },
      {
       "javascript": [
        "$('div#2b6fdf44-3dc4-4d94-b024-4d59d77ba782').text('42 of 98');"
       ],
       "metadata": {},
       "output_type": "display_data",
       "text": [
        "<IPython.core.display.Javascript at 0x1aabb668>"
       ]
      },
      {
       "javascript": [
        "$('div#fe91487f-a190-4b58-bdc9-6e47a4433108').text(' 42%');"
       ],
       "metadata": {},
       "output_type": "display_data",
       "text": [
        "<IPython.core.display.Javascript at 0x1aabb7f0>"
       ]
      },
      {
       "javascript": [
        "\n",
        "        var $myPB = $(\"div#34e81fa7-d6c2-4da2-80f3-d7d4d17b6f63\")\n",
        "        if ($myPB.hasClass('ui-progressbar')) {\n",
        "            $myPB.progressbar('value', 42);\n",
        "        } else {\n",
        "            $myPB.progressbar({value: 0, max: 98});\n",
        "        }\n",
        "        "
       ],
       "metadata": {},
       "output_type": "display_data",
       "text": [
        "<IPython.core.display.Javascript at 0x1aabbc50>"
       ]
      },
      {
       "javascript": [
        "$('div#d437ff1f-7e31-4ea1-81f8-37d3f55cb49f').text('ETA:  0:00:02');"
       ],
       "metadata": {},
       "output_type": "display_data",
       "text": [
        "<IPython.core.display.Javascript at 0x1aabbc50>"
       ]
      },
      {
       "javascript": [
        "$('div#2b6fdf44-3dc4-4d94-b024-4d59d77ba782').text('43 of 98');"
       ],
       "metadata": {},
       "output_type": "display_data",
       "text": [
        "<IPython.core.display.Javascript at 0x1aabb198>"
       ]
      },
      {
       "javascript": [
        "$('div#fe91487f-a190-4b58-bdc9-6e47a4433108').text(' 43%');"
       ],
       "metadata": {},
       "output_type": "display_data",
       "text": [
        "<IPython.core.display.Javascript at 0x1aabb630>"
       ]
      },
      {
       "javascript": [
        "\n",
        "        var $myPB = $(\"div#34e81fa7-d6c2-4da2-80f3-d7d4d17b6f63\")\n",
        "        if ($myPB.hasClass('ui-progressbar')) {\n",
        "            $myPB.progressbar('value', 43);\n",
        "        } else {\n",
        "            $myPB.progressbar({value: 0, max: 98});\n",
        "        }\n",
        "        "
       ],
       "metadata": {},
       "output_type": "display_data",
       "text": [
        "<IPython.core.display.Javascript at 0x1aabb080>"
       ]
      },
      {
       "javascript": [
        "$('div#d437ff1f-7e31-4ea1-81f8-37d3f55cb49f').text('ETA:  0:00:01');"
       ],
       "metadata": {},
       "output_type": "display_data",
       "text": [
        "<IPython.core.display.Javascript at 0x1aabb080>"
       ]
      },
      {
       "javascript": [
        "$('div#2b6fdf44-3dc4-4d94-b024-4d59d77ba782').text('44 of 98');"
       ],
       "metadata": {},
       "output_type": "display_data",
       "text": [
        "<IPython.core.display.Javascript at 0x1aabb780>"
       ]
      },
      {
       "javascript": [
        "$('div#fe91487f-a190-4b58-bdc9-6e47a4433108').text(' 44%');"
       ],
       "metadata": {},
       "output_type": "display_data",
       "text": [
        "<IPython.core.display.Javascript at 0x1aabb940>"
       ]
      },
      {
       "javascript": [
        "\n",
        "        var $myPB = $(\"div#34e81fa7-d6c2-4da2-80f3-d7d4d17b6f63\")\n",
        "        if ($myPB.hasClass('ui-progressbar')) {\n",
        "            $myPB.progressbar('value', 44);\n",
        "        } else {\n",
        "            $myPB.progressbar({value: 0, max: 98});\n",
        "        }\n",
        "        "
       ],
       "metadata": {},
       "output_type": "display_data",
       "text": [
        "<IPython.core.display.Javascript at 0x1aabbe48>"
       ]
      },
      {
       "javascript": [
        "$('div#d437ff1f-7e31-4ea1-81f8-37d3f55cb49f').text('ETA:  0:00:01');"
       ],
       "metadata": {},
       "output_type": "display_data",
       "text": [
        "<IPython.core.display.Javascript at 0x1aabbe48>"
       ]
      },
      {
       "javascript": [
        "$('div#2b6fdf44-3dc4-4d94-b024-4d59d77ba782').text('45 of 98');"
       ],
       "metadata": {},
       "output_type": "display_data",
       "text": [
        "<IPython.core.display.Javascript at 0x278636d8>"
       ]
      },
      {
       "javascript": [
        "$('div#fe91487f-a190-4b58-bdc9-6e47a4433108').text(' 45%');"
       ],
       "metadata": {},
       "output_type": "display_data",
       "text": [
        "<IPython.core.display.Javascript at 0x1aabbe48>"
       ]
      },
      {
       "javascript": [
        "\n",
        "        var $myPB = $(\"div#34e81fa7-d6c2-4da2-80f3-d7d4d17b6f63\")\n",
        "        if ($myPB.hasClass('ui-progressbar')) {\n",
        "            $myPB.progressbar('value', 45);\n",
        "        } else {\n",
        "            $myPB.progressbar({value: 0, max: 98});\n",
        "        }\n",
        "        "
       ],
       "metadata": {},
       "output_type": "display_data",
       "text": [
        "<IPython.core.display.Javascript at 0x278636d8>"
       ]
      },
      {
       "javascript": [
        "$('div#d437ff1f-7e31-4ea1-81f8-37d3f55cb49f').text('ETA:  0:00:01');"
       ],
       "metadata": {},
       "output_type": "display_data",
       "text": [
        "<IPython.core.display.Javascript at 0x27863da0>"
       ]
      },
      {
       "javascript": [
        "$('div#2b6fdf44-3dc4-4d94-b024-4d59d77ba782').text('46 of 98');"
       ],
       "metadata": {},
       "output_type": "display_data",
       "text": [
        "<IPython.core.display.Javascript at 0x278634e0>"
       ]
      },
      {
       "javascript": [
        "$('div#fe91487f-a190-4b58-bdc9-6e47a4433108').text(' 46%');"
       ],
       "metadata": {},
       "output_type": "display_data",
       "text": [
        "<IPython.core.display.Javascript at 0x27863cc0>"
       ]
      },
      {
       "javascript": [
        "\n",
        "        var $myPB = $(\"div#34e81fa7-d6c2-4da2-80f3-d7d4d17b6f63\")\n",
        "        if ($myPB.hasClass('ui-progressbar')) {\n",
        "            $myPB.progressbar('value', 46);\n",
        "        } else {\n",
        "            $myPB.progressbar({value: 0, max: 98});\n",
        "        }\n",
        "        "
       ],
       "metadata": {},
       "output_type": "display_data",
       "text": [
        "<IPython.core.display.Javascript at 0x27863a90>"
       ]
      },
      {
       "javascript": [
        "$('div#d437ff1f-7e31-4ea1-81f8-37d3f55cb49f').text('ETA:  0:00:01');"
       ],
       "metadata": {},
       "output_type": "display_data",
       "text": [
        "<IPython.core.display.Javascript at 0x27863e80>"
       ]
      },
      {
       "javascript": [
        "$('div#2b6fdf44-3dc4-4d94-b024-4d59d77ba782').text('47 of 98');"
       ],
       "metadata": {},
       "output_type": "display_data",
       "text": [
        "<IPython.core.display.Javascript at 0x27863a58>"
       ]
      },
      {
       "javascript": [
        "$('div#fe91487f-a190-4b58-bdc9-6e47a4433108').text(' 47%');"
       ],
       "metadata": {},
       "output_type": "display_data",
       "text": [
        "<IPython.core.display.Javascript at 0x27863a58>"
       ]
      },
      {
       "javascript": [
        "\n",
        "        var $myPB = $(\"div#34e81fa7-d6c2-4da2-80f3-d7d4d17b6f63\")\n",
        "        if ($myPB.hasClass('ui-progressbar')) {\n",
        "            $myPB.progressbar('value', 47);\n",
        "        } else {\n",
        "            $myPB.progressbar({value: 0, max: 98});\n",
        "        }\n",
        "        "
       ],
       "metadata": {},
       "output_type": "display_data",
       "text": [
        "<IPython.core.display.Javascript at 0x278635f8>"
       ]
      },
      {
       "javascript": [
        "$('div#d437ff1f-7e31-4ea1-81f8-37d3f55cb49f').text('ETA:  0:00:01');"
       ],
       "metadata": {},
       "output_type": "display_data",
       "text": [
        "<IPython.core.display.Javascript at 0x27863320>"
       ]
      },
      {
       "javascript": [
        "$('div#2b6fdf44-3dc4-4d94-b024-4d59d77ba782').text('48 of 98');"
       ],
       "metadata": {},
       "output_type": "display_data",
       "text": [
        "<IPython.core.display.Javascript at 0x27863908>"
       ]
      },
      {
       "javascript": [
        "$('div#fe91487f-a190-4b58-bdc9-6e47a4433108').text(' 48%');"
       ],
       "metadata": {},
       "output_type": "display_data",
       "text": [
        "<IPython.core.display.Javascript at 0x278639e8>"
       ]
      },
      {
       "javascript": [
        "\n",
        "        var $myPB = $(\"div#34e81fa7-d6c2-4da2-80f3-d7d4d17b6f63\")\n",
        "        if ($myPB.hasClass('ui-progressbar')) {\n",
        "            $myPB.progressbar('value', 48);\n",
        "        } else {\n",
        "            $myPB.progressbar({value: 0, max: 98});\n",
        "        }\n",
        "        "
       ],
       "metadata": {},
       "output_type": "display_data",
       "text": [
        "<IPython.core.display.Javascript at 0x27863828>"
       ]
      },
      {
       "javascript": [
        "$('div#d437ff1f-7e31-4ea1-81f8-37d3f55cb49f').text('ETA:  0:00:01');"
       ],
       "metadata": {},
       "output_type": "display_data",
       "text": [
        "<IPython.core.display.Javascript at 0x279e87f0>"
       ]
      },
      {
       "javascript": [
        "$('div#2b6fdf44-3dc4-4d94-b024-4d59d77ba782').text('49 of 98');"
       ],
       "metadata": {},
       "output_type": "display_data",
       "text": [
        "<IPython.core.display.Javascript at 0x279e8898>"
       ]
      },
      {
       "javascript": [
        "$('div#fe91487f-a190-4b58-bdc9-6e47a4433108').text(' 50%');"
       ],
       "metadata": {},
       "output_type": "display_data",
       "text": [
        "<IPython.core.display.Javascript at 0x279e8940>"
       ]
      },
      {
       "javascript": [
        "\n",
        "        var $myPB = $(\"div#34e81fa7-d6c2-4da2-80f3-d7d4d17b6f63\")\n",
        "        if ($myPB.hasClass('ui-progressbar')) {\n",
        "            $myPB.progressbar('value', 49);\n",
        "        } else {\n",
        "            $myPB.progressbar({value: 0, max: 98});\n",
        "        }\n",
        "        "
       ],
       "metadata": {},
       "output_type": "display_data",
       "text": [
        "<IPython.core.display.Javascript at 0x279e8940>"
       ]
      },
      {
       "javascript": [
        "$('div#d437ff1f-7e31-4ea1-81f8-37d3f55cb49f').text('ETA:  0:00:01');"
       ],
       "metadata": {},
       "output_type": "display_data",
       "text": [
        "<IPython.core.display.Javascript at 0x279e8128>"
       ]
      },
      {
       "javascript": [
        "$('div#2b6fdf44-3dc4-4d94-b024-4d59d77ba782').text('50 of 98');"
       ],
       "metadata": {},
       "output_type": "display_data",
       "text": [
        "<IPython.core.display.Javascript at 0x279e8a90>"
       ]
      },
      {
       "javascript": [
        "$('div#fe91487f-a190-4b58-bdc9-6e47a4433108').text(' 51%');"
       ],
       "metadata": {},
       "output_type": "display_data",
       "text": [
        "<IPython.core.display.Javascript at 0x279e8198>"
       ]
      },
      {
       "javascript": [
        "\n",
        "        var $myPB = $(\"div#34e81fa7-d6c2-4da2-80f3-d7d4d17b6f63\")\n",
        "        if ($myPB.hasClass('ui-progressbar')) {\n",
        "            $myPB.progressbar('value', 50);\n",
        "        } else {\n",
        "            $myPB.progressbar({value: 0, max: 98});\n",
        "        }\n",
        "        "
       ],
       "metadata": {},
       "output_type": "display_data",
       "text": [
        "<IPython.core.display.Javascript at 0x279e8278>"
       ]
      },
      {
       "javascript": [
        "$('div#d437ff1f-7e31-4ea1-81f8-37d3f55cb49f').text('ETA:  0:00:01');"
       ],
       "metadata": {},
       "output_type": "display_data",
       "text": [
        "<IPython.core.display.Javascript at 0x279e8278>"
       ]
      },
      {
       "javascript": [
        "$('div#2b6fdf44-3dc4-4d94-b024-4d59d77ba782').text('51 of 98');"
       ],
       "metadata": {},
       "output_type": "display_data",
       "text": [
        "<IPython.core.display.Javascript at 0x23a27940>"
       ]
      },
      {
       "javascript": [
        "$('div#fe91487f-a190-4b58-bdc9-6e47a4433108').text(' 52%');"
       ],
       "metadata": {},
       "output_type": "display_data",
       "text": [
        "<IPython.core.display.Javascript at 0x23a27940>"
       ]
      },
      {
       "javascript": [
        "\n",
        "        var $myPB = $(\"div#34e81fa7-d6c2-4da2-80f3-d7d4d17b6f63\")\n",
        "        if ($myPB.hasClass('ui-progressbar')) {\n",
        "            $myPB.progressbar('value', 51);\n",
        "        } else {\n",
        "            $myPB.progressbar({value: 0, max: 98});\n",
        "        }\n",
        "        "
       ],
       "metadata": {},
       "output_type": "display_data",
       "text": [
        "<IPython.core.display.Javascript at 0x23a27160>"
       ]
      },
      {
       "javascript": [
        "$('div#d437ff1f-7e31-4ea1-81f8-37d3f55cb49f').text('ETA:  0:00:01');"
       ],
       "metadata": {},
       "output_type": "display_data",
       "text": [
        "<IPython.core.display.Javascript at 0x23a27cc0>"
       ]
      },
      {
       "javascript": [
        "$('div#2b6fdf44-3dc4-4d94-b024-4d59d77ba782').text('52 of 98');"
       ],
       "metadata": {},
       "output_type": "display_data",
       "text": [
        "<IPython.core.display.Javascript at 0x1bc53668>"
       ]
      },
      {
       "javascript": [
        "$('div#fe91487f-a190-4b58-bdc9-6e47a4433108').text(' 53%');"
       ],
       "metadata": {},
       "output_type": "display_data",
       "text": [
        "<IPython.core.display.Javascript at 0x1bc53710>"
       ]
      },
      {
       "javascript": [
        "\n",
        "        var $myPB = $(\"div#34e81fa7-d6c2-4da2-80f3-d7d4d17b6f63\")\n",
        "        if ($myPB.hasClass('ui-progressbar')) {\n",
        "            $myPB.progressbar('value', 52);\n",
        "        } else {\n",
        "            $myPB.progressbar({value: 0, max: 98});\n",
        "        }\n",
        "        "
       ],
       "metadata": {},
       "output_type": "display_data",
       "text": [
        "<IPython.core.display.Javascript at 0x1bc536a0>"
       ]
      },
      {
       "javascript": [
        "$('div#d437ff1f-7e31-4ea1-81f8-37d3f55cb49f').text('ETA:  0:00:01');"
       ],
       "metadata": {},
       "output_type": "display_data",
       "text": [
        "<IPython.core.display.Javascript at 0x1bc536a0>"
       ]
      },
      {
       "javascript": [
        "$('div#2b6fdf44-3dc4-4d94-b024-4d59d77ba782').text('53 of 98');"
       ],
       "metadata": {},
       "output_type": "display_data",
       "text": [
        "<IPython.core.display.Javascript at 0x1b17cba8>"
       ]
      },
      {
       "javascript": [
        "$('div#fe91487f-a190-4b58-bdc9-6e47a4433108').text(' 54%');"
       ],
       "metadata": {},
       "output_type": "display_data",
       "text": [
        "<IPython.core.display.Javascript at 0x1b17cba8>"
       ]
      },
      {
       "javascript": [
        "\n",
        "        var $myPB = $(\"div#34e81fa7-d6c2-4da2-80f3-d7d4d17b6f63\")\n",
        "        if ($myPB.hasClass('ui-progressbar')) {\n",
        "            $myPB.progressbar('value', 53);\n",
        "        } else {\n",
        "            $myPB.progressbar({value: 0, max: 98});\n",
        "        }\n",
        "        "
       ],
       "metadata": {},
       "output_type": "display_data",
       "text": [
        "<IPython.core.display.Javascript at 0x1b17cb00>"
       ]
      },
      {
       "javascript": [
        "$('div#d437ff1f-7e31-4ea1-81f8-37d3f55cb49f').text('ETA:  0:00:01');"
       ],
       "metadata": {},
       "output_type": "display_data",
       "text": [
        "<IPython.core.display.Javascript at 0x1b17cda0>"
       ]
      },
      {
       "javascript": [
        "$('div#2b6fdf44-3dc4-4d94-b024-4d59d77ba782').text('54 of 98');"
       ],
       "metadata": {},
       "output_type": "display_data",
       "text": [
        "<IPython.core.display.Javascript at 0x222215f8>"
       ]
      },
      {
       "javascript": [
        "$('div#fe91487f-a190-4b58-bdc9-6e47a4433108').text(' 55%');"
       ],
       "metadata": {},
       "output_type": "display_data",
       "text": [
        "<IPython.core.display.Javascript at 0x22221978>"
       ]
      },
      {
       "javascript": [
        "\n",
        "        var $myPB = $(\"div#34e81fa7-d6c2-4da2-80f3-d7d4d17b6f63\")\n",
        "        if ($myPB.hasClass('ui-progressbar')) {\n",
        "            $myPB.progressbar('value', 54);\n",
        "        } else {\n",
        "            $myPB.progressbar({value: 0, max: 98});\n",
        "        }\n",
        "        "
       ],
       "metadata": {},
       "output_type": "display_data",
       "text": [
        "<IPython.core.display.Javascript at 0x22221860>"
       ]
      },
      {
       "javascript": [
        "$('div#d437ff1f-7e31-4ea1-81f8-37d3f55cb49f').text('ETA:  0:00:01');"
       ],
       "metadata": {},
       "output_type": "display_data",
       "text": [
        "<IPython.core.display.Javascript at 0x22221518>"
       ]
      },
      {
       "javascript": [
        "$('div#2b6fdf44-3dc4-4d94-b024-4d59d77ba782').text('55 of 98');"
       ],
       "metadata": {},
       "output_type": "display_data",
       "text": [
        "<IPython.core.display.Javascript at 0x2821a898>"
       ]
      },
      {
       "javascript": [
        "$('div#fe91487f-a190-4b58-bdc9-6e47a4433108').text(' 56%');"
       ],
       "metadata": {},
       "output_type": "display_data",
       "text": [
        "<IPython.core.display.Javascript at 0x2821acf8>"
       ]
      },
      {
       "javascript": [
        "\n",
        "        var $myPB = $(\"div#34e81fa7-d6c2-4da2-80f3-d7d4d17b6f63\")\n",
        "        if ($myPB.hasClass('ui-progressbar')) {\n",
        "            $myPB.progressbar('value', 55);\n",
        "        } else {\n",
        "            $myPB.progressbar({value: 0, max: 98});\n",
        "        }\n",
        "        "
       ],
       "metadata": {},
       "output_type": "display_data",
       "text": [
        "<IPython.core.display.Javascript at 0x2821aa90>"
       ]
      },
      {
       "javascript": [
        "$('div#d437ff1f-7e31-4ea1-81f8-37d3f55cb49f').text('ETA:  0:00:01');"
       ],
       "metadata": {},
       "output_type": "display_data",
       "text": [
        "<IPython.core.display.Javascript at 0x2821a828>"
       ]
      },
      {
       "javascript": [
        "$('div#2b6fdf44-3dc4-4d94-b024-4d59d77ba782').text('56 of 98');"
       ],
       "metadata": {},
       "output_type": "display_data",
       "text": [
        "<IPython.core.display.Javascript at 0x2821a390>"
       ]
      },
      {
       "javascript": [
        "$('div#fe91487f-a190-4b58-bdc9-6e47a4433108').text(' 57%');"
       ],
       "metadata": {},
       "output_type": "display_data",
       "text": [
        "<IPython.core.display.Javascript at 0x2821ae48>"
       ]
      },
      {
       "javascript": [
        "\n",
        "        var $myPB = $(\"div#34e81fa7-d6c2-4da2-80f3-d7d4d17b6f63\")\n",
        "        if ($myPB.hasClass('ui-progressbar')) {\n",
        "            $myPB.progressbar('value', 56);\n",
        "        } else {\n",
        "            $myPB.progressbar({value: 0, max: 98});\n",
        "        }\n",
        "        "
       ],
       "metadata": {},
       "output_type": "display_data",
       "text": [
        "<IPython.core.display.Javascript at 0x2821add8>"
       ]
      },
      {
       "javascript": [
        "$('div#d437ff1f-7e31-4ea1-81f8-37d3f55cb49f').text('ETA:  0:00:01');"
       ],
       "metadata": {},
       "output_type": "display_data",
       "text": [
        "<IPython.core.display.Javascript at 0x2821add8>"
       ]
      },
      {
       "javascript": [
        "$('div#2b6fdf44-3dc4-4d94-b024-4d59d77ba782').text('57 of 98');"
       ],
       "metadata": {},
       "output_type": "display_data",
       "text": [
        "<IPython.core.display.Javascript at 0x24564780>"
       ]
      },
      {
       "javascript": [
        "$('div#fe91487f-a190-4b58-bdc9-6e47a4433108').text(' 58%');"
       ],
       "metadata": {},
       "output_type": "display_data",
       "text": [
        "<IPython.core.display.Javascript at 0x24564198>"
       ]
      },
      {
       "javascript": [
        "\n",
        "        var $myPB = $(\"div#34e81fa7-d6c2-4da2-80f3-d7d4d17b6f63\")\n",
        "        if ($myPB.hasClass('ui-progressbar')) {\n",
        "            $myPB.progressbar('value', 57);\n",
        "        } else {\n",
        "            $myPB.progressbar({value: 0, max: 98});\n",
        "        }\n",
        "        "
       ],
       "metadata": {},
       "output_type": "display_data",
       "text": [
        "<IPython.core.display.Javascript at 0x2821add8>"
       ]
      },
      {
       "javascript": [
        "$('div#d437ff1f-7e31-4ea1-81f8-37d3f55cb49f').text('ETA:  0:00:01');"
       ],
       "metadata": {},
       "output_type": "display_data",
       "text": [
        "<IPython.core.display.Javascript at 0x24564198>"
       ]
      },
      {
       "javascript": [
        "$('div#2b6fdf44-3dc4-4d94-b024-4d59d77ba782').text('58 of 98');"
       ],
       "metadata": {},
       "output_type": "display_data",
       "text": [
        "<IPython.core.display.Javascript at 0x22f7c2b0>"
       ]
      },
      {
       "javascript": [
        "$('div#fe91487f-a190-4b58-bdc9-6e47a4433108').text(' 59%');"
       ],
       "metadata": {},
       "output_type": "display_data",
       "text": [
        "<IPython.core.display.Javascript at 0x22f7c5f8>"
       ]
      },
      {
       "javascript": [
        "\n",
        "        var $myPB = $(\"div#34e81fa7-d6c2-4da2-80f3-d7d4d17b6f63\")\n",
        "        if ($myPB.hasClass('ui-progressbar')) {\n",
        "            $myPB.progressbar('value', 58);\n",
        "        } else {\n",
        "            $myPB.progressbar({value: 0, max: 98});\n",
        "        }\n",
        "        "
       ],
       "metadata": {},
       "output_type": "display_data",
       "text": [
        "<IPython.core.display.Javascript at 0x22f7cd68>"
       ]
      },
      {
       "javascript": [
        "$('div#d437ff1f-7e31-4ea1-81f8-37d3f55cb49f').text('ETA:  0:00:01');"
       ],
       "metadata": {},
       "output_type": "display_data",
       "text": [
        "<IPython.core.display.Javascript at 0x22f7cd68>"
       ]
      },
      {
       "javascript": [
        "$('div#2b6fdf44-3dc4-4d94-b024-4d59d77ba782').text('59 of 98');"
       ],
       "metadata": {},
       "output_type": "display_data",
       "text": [
        "<IPython.core.display.Javascript at 0x22f7c898>"
       ]
      },
      {
       "javascript": [
        "$('div#fe91487f-a190-4b58-bdc9-6e47a4433108').text(' 60%');"
       ],
       "metadata": {},
       "output_type": "display_data",
       "text": [
        "<IPython.core.display.Javascript at 0x22f7c4a8>"
       ]
      },
      {
       "javascript": [
        "\n",
        "        var $myPB = $(\"div#34e81fa7-d6c2-4da2-80f3-d7d4d17b6f63\")\n",
        "        if ($myPB.hasClass('ui-progressbar')) {\n",
        "            $myPB.progressbar('value', 59);\n",
        "        } else {\n",
        "            $myPB.progressbar({value: 0, max: 98});\n",
        "        }\n",
        "        "
       ],
       "metadata": {},
       "output_type": "display_data",
       "text": [
        "<IPython.core.display.Javascript at 0x22f7c4a8>"
       ]
      },
      {
       "javascript": [
        "$('div#d437ff1f-7e31-4ea1-81f8-37d3f55cb49f').text('ETA:  0:00:01');"
       ],
       "metadata": {},
       "output_type": "display_data",
       "text": [
        "<IPython.core.display.Javascript at 0x22f7c1d0>"
       ]
      },
      {
       "javascript": [
        "$('div#2b6fdf44-3dc4-4d94-b024-4d59d77ba782').text('60 of 98');"
       ],
       "metadata": {},
       "output_type": "display_data",
       "text": [
        "<IPython.core.display.Javascript at 0x1f871d30>"
       ]
      },
      {
       "javascript": [
        "$('div#fe91487f-a190-4b58-bdc9-6e47a4433108').text(' 61%');"
       ],
       "metadata": {},
       "output_type": "display_data",
       "text": [
        "<IPython.core.display.Javascript at 0x1f871a20>"
       ]
      },
      {
       "javascript": [
        "\n",
        "        var $myPB = $(\"div#34e81fa7-d6c2-4da2-80f3-d7d4d17b6f63\")\n",
        "        if ($myPB.hasClass('ui-progressbar')) {\n",
        "            $myPB.progressbar('value', 60);\n",
        "        } else {\n",
        "            $myPB.progressbar({value: 0, max: 98});\n",
        "        }\n",
        "        "
       ],
       "metadata": {},
       "output_type": "display_data",
       "text": [
        "<IPython.core.display.Javascript at 0x1f871b00>"
       ]
      },
      {
       "javascript": [
        "$('div#d437ff1f-7e31-4ea1-81f8-37d3f55cb49f').text('ETA:  0:00:01');"
       ],
       "metadata": {},
       "output_type": "display_data",
       "text": [
        "<IPython.core.display.Javascript at 0x1f871b00>"
       ]
      },
      {
       "javascript": [
        "$('div#2b6fdf44-3dc4-4d94-b024-4d59d77ba782').text('61 of 98');"
       ],
       "metadata": {},
       "output_type": "display_data",
       "text": [
        "<IPython.core.display.Javascript at 0x23eb2828>"
       ]
      },
      {
       "javascript": [
        "$('div#fe91487f-a190-4b58-bdc9-6e47a4433108').text(' 62%');"
       ],
       "metadata": {},
       "output_type": "display_data",
       "text": [
        "<IPython.core.display.Javascript at 0x23eb2828>"
       ]
      },
      {
       "javascript": [
        "\n",
        "        var $myPB = $(\"div#34e81fa7-d6c2-4da2-80f3-d7d4d17b6f63\")\n",
        "        if ($myPB.hasClass('ui-progressbar')) {\n",
        "            $myPB.progressbar('value', 61);\n",
        "        } else {\n",
        "            $myPB.progressbar({value: 0, max: 98});\n",
        "        }\n",
        "        "
       ],
       "metadata": {},
       "output_type": "display_data",
       "text": [
        "<IPython.core.display.Javascript at 0x23eb2320>"
       ]
      },
      {
       "javascript": [
        "$('div#d437ff1f-7e31-4ea1-81f8-37d3f55cb49f').text('ETA:  0:00:01');"
       ],
       "metadata": {},
       "output_type": "display_data",
       "text": [
        "<IPython.core.display.Javascript at 0x23eb2c18>"
       ]
      },
      {
       "javascript": [
        "$('div#2b6fdf44-3dc4-4d94-b024-4d59d77ba782').text('62 of 98');"
       ],
       "metadata": {},
       "output_type": "display_data",
       "text": [
        "<IPython.core.display.Javascript at 0x1f67dc18>"
       ]
      },
      {
       "javascript": [
        "$('div#fe91487f-a190-4b58-bdc9-6e47a4433108').text(' 63%');"
       ],
       "metadata": {},
       "output_type": "display_data",
       "text": [
        "<IPython.core.display.Javascript at 0x1f67d6d8>"
       ]
      },
      {
       "javascript": [
        "\n",
        "        var $myPB = $(\"div#34e81fa7-d6c2-4da2-80f3-d7d4d17b6f63\")\n",
        "        if ($myPB.hasClass('ui-progressbar')) {\n",
        "            $myPB.progressbar('value', 62);\n",
        "        } else {\n",
        "            $myPB.progressbar({value: 0, max: 98});\n",
        "        }\n",
        "        "
       ],
       "metadata": {},
       "output_type": "display_data",
       "text": [
        "<IPython.core.display.Javascript at 0x1f67d6d8>"
       ]
      },
      {
       "javascript": [
        "$('div#d437ff1f-7e31-4ea1-81f8-37d3f55cb49f').text('ETA:  0:00:01');"
       ],
       "metadata": {},
       "output_type": "display_data",
       "text": [
        "<IPython.core.display.Javascript at 0x1f67dc18>"
       ]
      },
      {
       "javascript": [
        "$('div#2b6fdf44-3dc4-4d94-b024-4d59d77ba782').text('63 of 98');"
       ],
       "metadata": {},
       "output_type": "display_data",
       "text": [
        "<IPython.core.display.Javascript at 0x1b98d0f0>"
       ]
      },
      {
       "javascript": [
        "$('div#fe91487f-a190-4b58-bdc9-6e47a4433108').text(' 64%');"
       ],
       "metadata": {},
       "output_type": "display_data",
       "text": [
        "<IPython.core.display.Javascript at 0x21777c50>"
       ]
      },
      {
       "javascript": [
        "\n",
        "        var $myPB = $(\"div#34e81fa7-d6c2-4da2-80f3-d7d4d17b6f63\")\n",
        "        if ($myPB.hasClass('ui-progressbar')) {\n",
        "            $myPB.progressbar('value', 63);\n",
        "        } else {\n",
        "            $myPB.progressbar({value: 0, max: 98});\n",
        "        }\n",
        "        "
       ],
       "metadata": {},
       "output_type": "display_data",
       "text": [
        "<IPython.core.display.Javascript at 0x21777588>"
       ]
      },
      {
       "javascript": [
        "$('div#d437ff1f-7e31-4ea1-81f8-37d3f55cb49f').text('ETA:  0:00:01');"
       ],
       "metadata": {},
       "output_type": "display_data",
       "text": [
        "<IPython.core.display.Javascript at 0x21777588>"
       ]
      },
      {
       "javascript": [
        "$('div#2b6fdf44-3dc4-4d94-b024-4d59d77ba782').text('64 of 98');"
       ],
       "metadata": {},
       "output_type": "display_data",
       "text": [
        "<IPython.core.display.Javascript at 0x1f941fd0>"
       ]
      },
      {
       "javascript": [
        "$('div#fe91487f-a190-4b58-bdc9-6e47a4433108').text(' 65%');"
       ],
       "metadata": {},
       "output_type": "display_data",
       "text": [
        "<IPython.core.display.Javascript at 0x1f941828>"
       ]
      },
      {
       "javascript": [
        "\n",
        "        var $myPB = $(\"div#34e81fa7-d6c2-4da2-80f3-d7d4d17b6f63\")\n",
        "        if ($myPB.hasClass('ui-progressbar')) {\n",
        "            $myPB.progressbar('value', 64);\n",
        "        } else {\n",
        "            $myPB.progressbar({value: 0, max: 98});\n",
        "        }\n",
        "        "
       ],
       "metadata": {},
       "output_type": "display_data",
       "text": [
        "<IPython.core.display.Javascript at 0x1f941438>"
       ]
      },
      {
       "javascript": [
        "$('div#d437ff1f-7e31-4ea1-81f8-37d3f55cb49f').text('ETA:  0:00:01');"
       ],
       "metadata": {},
       "output_type": "display_data",
       "text": [
        "<IPython.core.display.Javascript at 0x1f941860>"
       ]
      },
      {
       "javascript": [
        "$('div#2b6fdf44-3dc4-4d94-b024-4d59d77ba782').text('65 of 98');"
       ],
       "metadata": {},
       "output_type": "display_data",
       "text": [
        "<IPython.core.display.Javascript at 0x1ffaec88>"
       ]
      },
      {
       "javascript": [
        "$('div#fe91487f-a190-4b58-bdc9-6e47a4433108').text(' 66%');"
       ],
       "metadata": {},
       "output_type": "display_data",
       "text": [
        "<IPython.core.display.Javascript at 0x2497a5f8>"
       ]
      },
      {
       "javascript": [
        "\n",
        "        var $myPB = $(\"div#34e81fa7-d6c2-4da2-80f3-d7d4d17b6f63\")\n",
        "        if ($myPB.hasClass('ui-progressbar')) {\n",
        "            $myPB.progressbar('value', 65);\n",
        "        } else {\n",
        "            $myPB.progressbar({value: 0, max: 98});\n",
        "        }\n",
        "        "
       ],
       "metadata": {},
       "output_type": "display_data",
       "text": [
        "<IPython.core.display.Javascript at 0x2497ada0>"
       ]
      },
      {
       "javascript": [
        "$('div#d437ff1f-7e31-4ea1-81f8-37d3f55cb49f').text('ETA:  0:00:01');"
       ],
       "metadata": {},
       "output_type": "display_data",
       "text": [
        "<IPython.core.display.Javascript at 0x2497a128>"
       ]
      },
      {
       "javascript": [
        "$('div#2b6fdf44-3dc4-4d94-b024-4d59d77ba782').text('66 of 98');"
       ],
       "metadata": {},
       "output_type": "display_data",
       "text": [
        "<IPython.core.display.Javascript at 0x208adc88>"
       ]
      },
      {
       "javascript": [
        "$('div#fe91487f-a190-4b58-bdc9-6e47a4433108').text(' 67%');"
       ],
       "metadata": {},
       "output_type": "display_data",
       "text": [
        "<IPython.core.display.Javascript at 0x226306a0>"
       ]
      },
      {
       "javascript": [
        "\n",
        "        var $myPB = $(\"div#34e81fa7-d6c2-4da2-80f3-d7d4d17b6f63\")\n",
        "        if ($myPB.hasClass('ui-progressbar')) {\n",
        "            $myPB.progressbar('value', 66);\n",
        "        } else {\n",
        "            $myPB.progressbar({value: 0, max: 98});\n",
        "        }\n",
        "        "
       ],
       "metadata": {},
       "output_type": "display_data",
       "text": [
        "<IPython.core.display.Javascript at 0x22630d30>"
       ]
      },
      {
       "javascript": [
        "$('div#d437ff1f-7e31-4ea1-81f8-37d3f55cb49f').text('ETA:  0:00:01');"
       ],
       "metadata": {},
       "output_type": "display_data",
       "text": [
        "<IPython.core.display.Javascript at 0x22630438>"
       ]
      },
      {
       "javascript": [
        "$('div#2b6fdf44-3dc4-4d94-b024-4d59d77ba782').text('67 of 98');"
       ],
       "metadata": {},
       "output_type": "display_data",
       "text": [
        "<IPython.core.display.Javascript at 0x1fcfe208>"
       ]
      },
      {
       "javascript": [
        "$('div#fe91487f-a190-4b58-bdc9-6e47a4433108').text(' 68%');"
       ],
       "metadata": {},
       "output_type": "display_data",
       "text": [
        "<IPython.core.display.Javascript at 0x1fcfe208>"
       ]
      },
      {
       "javascript": [
        "\n",
        "        var $myPB = $(\"div#34e81fa7-d6c2-4da2-80f3-d7d4d17b6f63\")\n",
        "        if ($myPB.hasClass('ui-progressbar')) {\n",
        "            $myPB.progressbar('value', 67);\n",
        "        } else {\n",
        "            $myPB.progressbar({value: 0, max: 98});\n",
        "        }\n",
        "        "
       ],
       "metadata": {},
       "output_type": "display_data",
       "text": [
        "<IPython.core.display.Javascript at 0x1fcfec88>"
       ]
      },
      {
       "javascript": [
        "$('div#d437ff1f-7e31-4ea1-81f8-37d3f55cb49f').text('ETA:  0:00:01');"
       ],
       "metadata": {},
       "output_type": "display_data",
       "text": [
        "<IPython.core.display.Javascript at 0x19751390>"
       ]
      },
      {
       "javascript": [
        "$('div#2b6fdf44-3dc4-4d94-b024-4d59d77ba782').text('68 of 98');"
       ],
       "metadata": {},
       "output_type": "display_data",
       "text": [
        "<IPython.core.display.Javascript at 0x234451d0>"
       ]
      },
      {
       "javascript": [
        "$('div#fe91487f-a190-4b58-bdc9-6e47a4433108').text(' 69%');"
       ],
       "metadata": {},
       "output_type": "display_data",
       "text": [
        "<IPython.core.display.Javascript at 0x20055588>"
       ]
      },
      {
       "javascript": [
        "\n",
        "        var $myPB = $(\"div#34e81fa7-d6c2-4da2-80f3-d7d4d17b6f63\")\n",
        "        if ($myPB.hasClass('ui-progressbar')) {\n",
        "            $myPB.progressbar('value', 68);\n",
        "        } else {\n",
        "            $myPB.progressbar({value: 0, max: 98});\n",
        "        }\n",
        "        "
       ],
       "metadata": {},
       "output_type": "display_data",
       "text": [
        "<IPython.core.display.Javascript at 0x234451d0>"
       ]
      },
      {
       "javascript": [
        "$('div#d437ff1f-7e31-4ea1-81f8-37d3f55cb49f').text('ETA:  0:00:01');"
       ],
       "metadata": {},
       "output_type": "display_data",
       "text": [
        "<IPython.core.display.Javascript at 0x20055588>"
       ]
      },
      {
       "javascript": [
        "$('div#2b6fdf44-3dc4-4d94-b024-4d59d77ba782').text('69 of 98');"
       ],
       "metadata": {},
       "output_type": "display_data",
       "text": [
        "<IPython.core.display.Javascript at 0x23dd4828>"
       ]
      },
      {
       "javascript": [
        "$('div#fe91487f-a190-4b58-bdc9-6e47a4433108').text(' 70%');"
       ],
       "metadata": {},
       "output_type": "display_data",
       "text": [
        "<IPython.core.display.Javascript at 0x1b5f89e8>"
       ]
      },
      {
       "javascript": [
        "\n",
        "        var $myPB = $(\"div#34e81fa7-d6c2-4da2-80f3-d7d4d17b6f63\")\n",
        "        if ($myPB.hasClass('ui-progressbar')) {\n",
        "            $myPB.progressbar('value', 69);\n",
        "        } else {\n",
        "            $myPB.progressbar({value: 0, max: 98});\n",
        "        }\n",
        "        "
       ],
       "metadata": {},
       "output_type": "display_data",
       "text": [
        "<IPython.core.display.Javascript at 0x23dd4828>"
       ]
      },
      {
       "javascript": [
        "$('div#d437ff1f-7e31-4ea1-81f8-37d3f55cb49f').text('ETA:  0:00:01');"
       ],
       "metadata": {},
       "output_type": "display_data",
       "text": [
        "<IPython.core.display.Javascript at 0x1b5f89e8>"
       ]
      },
      {
       "javascript": [
        "$('div#2b6fdf44-3dc4-4d94-b024-4d59d77ba782').text('70 of 98');"
       ],
       "metadata": {},
       "output_type": "display_data",
       "text": [
        "<IPython.core.display.Javascript at 0x21b03c88>"
       ]
      },
      {
       "javascript": [
        "$('div#fe91487f-a190-4b58-bdc9-6e47a4433108').text(' 71%');"
       ],
       "metadata": {},
       "output_type": "display_data",
       "text": [
        "<IPython.core.display.Javascript at 0x22456b38>"
       ]
      },
      {
       "javascript": [
        "\n",
        "        var $myPB = $(\"div#34e81fa7-d6c2-4da2-80f3-d7d4d17b6f63\")\n",
        "        if ($myPB.hasClass('ui-progressbar')) {\n",
        "            $myPB.progressbar('value', 70);\n",
        "        } else {\n",
        "            $myPB.progressbar({value: 0, max: 98});\n",
        "        }\n",
        "        "
       ],
       "metadata": {},
       "output_type": "display_data",
       "text": [
        "<IPython.core.display.Javascript at 0x21b03c88>"
       ]
      },
      {
       "javascript": [
        "$('div#d437ff1f-7e31-4ea1-81f8-37d3f55cb49f').text('ETA:  0:00:01');"
       ],
       "metadata": {},
       "output_type": "display_data",
       "text": [
        "<IPython.core.display.Javascript at 0x22456b38>"
       ]
      },
      {
       "javascript": [
        "$('div#2b6fdf44-3dc4-4d94-b024-4d59d77ba782').text('71 of 98');"
       ],
       "metadata": {},
       "output_type": "display_data",
       "text": [
        "<IPython.core.display.Javascript at 0x225ee588>"
       ]
      },
      {
       "javascript": [
        "$('div#fe91487f-a190-4b58-bdc9-6e47a4433108').text(' 72%');"
       ],
       "metadata": {},
       "output_type": "display_data",
       "text": [
        "<IPython.core.display.Javascript at 0x225ee0f0>"
       ]
      },
      {
       "javascript": [
        "\n",
        "        var $myPB = $(\"div#34e81fa7-d6c2-4da2-80f3-d7d4d17b6f63\")\n",
        "        if ($myPB.hasClass('ui-progressbar')) {\n",
        "            $myPB.progressbar('value', 71);\n",
        "        } else {\n",
        "            $myPB.progressbar({value: 0, max: 98});\n",
        "        }\n",
        "        "
       ],
       "metadata": {},
       "output_type": "display_data",
       "text": [
        "<IPython.core.display.Javascript at 0x225ee0f0>"
       ]
      },
      {
       "javascript": [
        "$('div#d437ff1f-7e31-4ea1-81f8-37d3f55cb49f').text('ETA:  0:00:01');"
       ],
       "metadata": {},
       "output_type": "display_data",
       "text": [
        "<IPython.core.display.Javascript at 0x225ee860>"
       ]
      },
      {
       "javascript": [
        "$('div#2b6fdf44-3dc4-4d94-b024-4d59d77ba782').text('72 of 98');"
       ],
       "metadata": {},
       "output_type": "display_data",
       "text": [
        "<IPython.core.display.Javascript at 0x225eeb70>"
       ]
      },
      {
       "javascript": [
        "$('div#fe91487f-a190-4b58-bdc9-6e47a4433108').text(' 73%');"
       ],
       "metadata": {},
       "output_type": "display_data",
       "text": [
        "<IPython.core.display.Javascript at 0x225ee2b0>"
       ]
      },
      {
       "javascript": [
        "\n",
        "        var $myPB = $(\"div#34e81fa7-d6c2-4da2-80f3-d7d4d17b6f63\")\n",
        "        if ($myPB.hasClass('ui-progressbar')) {\n",
        "            $myPB.progressbar('value', 72);\n",
        "        } else {\n",
        "            $myPB.progressbar({value: 0, max: 98});\n",
        "        }\n",
        "        "
       ],
       "metadata": {},
       "output_type": "display_data",
       "text": [
        "<IPython.core.display.Javascript at 0x225ee2b0>"
       ]
      },
      {
       "javascript": [
        "$('div#d437ff1f-7e31-4ea1-81f8-37d3f55cb49f').text('ETA:  0:00:01');"
       ],
       "metadata": {},
       "output_type": "display_data",
       "text": [
        "<IPython.core.display.Javascript at 0x225ee358>"
       ]
      },
      {
       "javascript": [
        "$('div#2b6fdf44-3dc4-4d94-b024-4d59d77ba782').text('73 of 98');"
       ],
       "metadata": {},
       "output_type": "display_data",
       "text": [
        "<IPython.core.display.Javascript at 0x1fca3160>"
       ]
      },
      {
       "javascript": [
        "$('div#fe91487f-a190-4b58-bdc9-6e47a4433108').text(' 74%');"
       ],
       "metadata": {},
       "output_type": "display_data",
       "text": [
        "<IPython.core.display.Javascript at 0x1fca3748>"
       ]
      },
      {
       "javascript": [
        "\n",
        "        var $myPB = $(\"div#34e81fa7-d6c2-4da2-80f3-d7d4d17b6f63\")\n",
        "        if ($myPB.hasClass('ui-progressbar')) {\n",
        "            $myPB.progressbar('value', 73);\n",
        "        } else {\n",
        "            $myPB.progressbar({value: 0, max: 98});\n",
        "        }\n",
        "        "
       ],
       "metadata": {},
       "output_type": "display_data",
       "text": [
        "<IPython.core.display.Javascript at 0x1fca3748>"
       ]
      },
      {
       "javascript": [
        "$('div#d437ff1f-7e31-4ea1-81f8-37d3f55cb49f').text('ETA:  0:00:01');"
       ],
       "metadata": {},
       "output_type": "display_data",
       "text": [
        "<IPython.core.display.Javascript at 0x1fca3eb8>"
       ]
      },
      {
       "javascript": [
        "$('div#2b6fdf44-3dc4-4d94-b024-4d59d77ba782').text('74 of 98');"
       ],
       "metadata": {},
       "output_type": "display_data",
       "text": [
        "<IPython.core.display.Javascript at 0x216b6e10>"
       ]
      },
      {
       "javascript": [
        "$('div#fe91487f-a190-4b58-bdc9-6e47a4433108').text(' 75%');"
       ],
       "metadata": {},
       "output_type": "display_data",
       "text": [
        "<IPython.core.display.Javascript at 0x216b6e10>"
       ]
      },
      {
       "javascript": [
        "\n",
        "        var $myPB = $(\"div#34e81fa7-d6c2-4da2-80f3-d7d4d17b6f63\")\n",
        "        if ($myPB.hasClass('ui-progressbar')) {\n",
        "            $myPB.progressbar('value', 74);\n",
        "        } else {\n",
        "            $myPB.progressbar({value: 0, max: 98});\n",
        "        }\n",
        "        "
       ],
       "metadata": {},
       "output_type": "display_data",
       "text": [
        "<IPython.core.display.Javascript at 0x20c70a90>"
       ]
      },
      {
       "javascript": [
        "$('div#d437ff1f-7e31-4ea1-81f8-37d3f55cb49f').text('ETA:  0:00:01');"
       ],
       "metadata": {},
       "output_type": "display_data",
       "text": [
        "<IPython.core.display.Javascript at 0x20c701d0>"
       ]
      },
      {
       "javascript": [
        "$('div#2b6fdf44-3dc4-4d94-b024-4d59d77ba782').text('75 of 98');"
       ],
       "metadata": {},
       "output_type": "display_data",
       "text": [
        "<IPython.core.display.Javascript at 0x245fc4a8>"
       ]
      },
      {
       "javascript": [
        "$('div#fe91487f-a190-4b58-bdc9-6e47a4433108').text(' 76%');"
       ],
       "metadata": {},
       "output_type": "display_data",
       "text": [
        "<IPython.core.display.Javascript at 0x245fc320>"
       ]
      },
      {
       "javascript": [
        "\n",
        "        var $myPB = $(\"div#34e81fa7-d6c2-4da2-80f3-d7d4d17b6f63\")\n",
        "        if ($myPB.hasClass('ui-progressbar')) {\n",
        "            $myPB.progressbar('value', 75);\n",
        "        } else {\n",
        "            $myPB.progressbar({value: 0, max: 98});\n",
        "        }\n",
        "        "
       ],
       "metadata": {},
       "output_type": "display_data",
       "text": [
        "<IPython.core.display.Javascript at 0x245fc320>"
       ]
      },
      {
       "javascript": [
        "$('div#d437ff1f-7e31-4ea1-81f8-37d3f55cb49f').text('ETA:  0:00:01');"
       ],
       "metadata": {},
       "output_type": "display_data",
       "text": [
        "<IPython.core.display.Javascript at 0x245fc9b0>"
       ]
      },
      {
       "javascript": [
        "$('div#2b6fdf44-3dc4-4d94-b024-4d59d77ba782').text('76 of 98');"
       ],
       "metadata": {},
       "output_type": "display_data",
       "text": [
        "<IPython.core.display.Javascript at 0x1bc53c88>"
       ]
      },
      {
       "javascript": [
        "$('div#fe91487f-a190-4b58-bdc9-6e47a4433108').text(' 77%');"
       ],
       "metadata": {},
       "output_type": "display_data",
       "text": [
        "<IPython.core.display.Javascript at 0x1bc53c18>"
       ]
      },
      {
       "javascript": [
        "\n",
        "        var $myPB = $(\"div#34e81fa7-d6c2-4da2-80f3-d7d4d17b6f63\")\n",
        "        if ($myPB.hasClass('ui-progressbar')) {\n",
        "            $myPB.progressbar('value', 76);\n",
        "        } else {\n",
        "            $myPB.progressbar({value: 0, max: 98});\n",
        "        }\n",
        "        "
       ],
       "metadata": {},
       "output_type": "display_data",
       "text": [
        "<IPython.core.display.Javascript at 0x1bc53c18>"
       ]
      },
      {
       "javascript": [
        "$('div#d437ff1f-7e31-4ea1-81f8-37d3f55cb49f').text('ETA:  0:00:01');"
       ],
       "metadata": {},
       "output_type": "display_data",
       "text": [
        "<IPython.core.display.Javascript at 0x1bc53898>"
       ]
      },
      {
       "javascript": [
        "$('div#2b6fdf44-3dc4-4d94-b024-4d59d77ba782').text('77 of 98');"
       ],
       "metadata": {},
       "output_type": "display_data",
       "text": [
        "<IPython.core.display.Javascript at 0x218384a8>"
       ]
      },
      {
       "javascript": [
        "$('div#fe91487f-a190-4b58-bdc9-6e47a4433108').text(' 78%');"
       ],
       "metadata": {},
       "output_type": "display_data",
       "text": [
        "<IPython.core.display.Javascript at 0x21838a58>"
       ]
      },
      {
       "javascript": [
        "\n",
        "        var $myPB = $(\"div#34e81fa7-d6c2-4da2-80f3-d7d4d17b6f63\")\n",
        "        if ($myPB.hasClass('ui-progressbar')) {\n",
        "            $myPB.progressbar('value', 77);\n",
        "        } else {\n",
        "            $myPB.progressbar({value: 0, max: 98});\n",
        "        }\n",
        "        "
       ],
       "metadata": {},
       "output_type": "display_data",
       "text": [
        "<IPython.core.display.Javascript at 0x21838b00>"
       ]
      },
      {
       "javascript": [
        "$('div#d437ff1f-7e31-4ea1-81f8-37d3f55cb49f').text('ETA:  0:00:00');"
       ],
       "metadata": {},
       "output_type": "display_data",
       "text": [
        "<IPython.core.display.Javascript at 0x218384a8>"
       ]
      },
      {
       "javascript": [
        "$('div#2b6fdf44-3dc4-4d94-b024-4d59d77ba782').text('78 of 98');"
       ],
       "metadata": {},
       "output_type": "display_data",
       "text": [
        "<IPython.core.display.Javascript at 0x22ff4710>"
       ]
      },
      {
       "javascript": [
        "$('div#fe91487f-a190-4b58-bdc9-6e47a4433108').text(' 79%');"
       ],
       "metadata": {},
       "output_type": "display_data",
       "text": [
        "<IPython.core.display.Javascript at 0x22ff4048>"
       ]
      },
      {
       "javascript": [
        "\n",
        "        var $myPB = $(\"div#34e81fa7-d6c2-4da2-80f3-d7d4d17b6f63\")\n",
        "        if ($myPB.hasClass('ui-progressbar')) {\n",
        "            $myPB.progressbar('value', 78);\n",
        "        } else {\n",
        "            $myPB.progressbar({value: 0, max: 98});\n",
        "        }\n",
        "        "
       ],
       "metadata": {},
       "output_type": "display_data",
       "text": [
        "<IPython.core.display.Javascript at 0x22ff4048>"
       ]
      },
      {
       "javascript": [
        "$('div#d437ff1f-7e31-4ea1-81f8-37d3f55cb49f').text('ETA:  0:00:00');"
       ],
       "metadata": {},
       "output_type": "display_data",
       "text": [
        "<IPython.core.display.Javascript at 0x22ff4518>"
       ]
      },
      {
       "javascript": [
        "$('div#2b6fdf44-3dc4-4d94-b024-4d59d77ba782').text('79 of 98');"
       ],
       "metadata": {},
       "output_type": "display_data",
       "text": [
        "<IPython.core.display.Javascript at 0x225771d0>"
       ]
      },
      {
       "javascript": [
        "$('div#fe91487f-a190-4b58-bdc9-6e47a4433108').text(' 80%');"
       ],
       "metadata": {},
       "output_type": "display_data",
       "text": [
        "<IPython.core.display.Javascript at 0x225771d0>"
       ]
      },
      {
       "javascript": [
        "\n",
        "        var $myPB = $(\"div#34e81fa7-d6c2-4da2-80f3-d7d4d17b6f63\")\n",
        "        if ($myPB.hasClass('ui-progressbar')) {\n",
        "            $myPB.progressbar('value', 79);\n",
        "        } else {\n",
        "            $myPB.progressbar({value: 0, max: 98});\n",
        "        }\n",
        "        "
       ],
       "metadata": {},
       "output_type": "display_data",
       "text": [
        "<IPython.core.display.Javascript at 0x225779b0>"
       ]
      },
      {
       "javascript": [
        "$('div#d437ff1f-7e31-4ea1-81f8-37d3f55cb49f').text('ETA:  0:00:00');"
       ],
       "metadata": {},
       "output_type": "display_data",
       "text": [
        "<IPython.core.display.Javascript at 0x225775f8>"
       ]
      },
      {
       "javascript": [
        "$('div#2b6fdf44-3dc4-4d94-b024-4d59d77ba782').text('80 of 98');"
       ],
       "metadata": {},
       "output_type": "display_data",
       "text": [
        "<IPython.core.display.Javascript at 0x21ab38d0>"
       ]
      },
      {
       "javascript": [
        "$('div#fe91487f-a190-4b58-bdc9-6e47a4433108').text(' 81%');"
       ],
       "metadata": {},
       "output_type": "display_data",
       "text": [
        "<IPython.core.display.Javascript at 0x21ab3390>"
       ]
      },
      {
       "javascript": [
        "\n",
        "        var $myPB = $(\"div#34e81fa7-d6c2-4da2-80f3-d7d4d17b6f63\")\n",
        "        if ($myPB.hasClass('ui-progressbar')) {\n",
        "            $myPB.progressbar('value', 80);\n",
        "        } else {\n",
        "            $myPB.progressbar({value: 0, max: 98});\n",
        "        }\n",
        "        "
       ],
       "metadata": {},
       "output_type": "display_data",
       "text": [
        "<IPython.core.display.Javascript at 0x21ab3390>"
       ]
      },
      {
       "javascript": [
        "$('div#d437ff1f-7e31-4ea1-81f8-37d3f55cb49f').text('ETA:  0:00:00');"
       ],
       "metadata": {},
       "output_type": "display_data",
       "text": [
        "<IPython.core.display.Javascript at 0x21ab35f8>"
       ]
      },
      {
       "javascript": [
        "$('div#2b6fdf44-3dc4-4d94-b024-4d59d77ba782').text('81 of 98');"
       ],
       "metadata": {},
       "output_type": "display_data",
       "text": [
        "<IPython.core.display.Javascript at 0x22627ef0>"
       ]
      },
      {
       "javascript": [
        "$('div#fe91487f-a190-4b58-bdc9-6e47a4433108').text(' 82%');"
       ],
       "metadata": {},
       "output_type": "display_data",
       "text": [
        "<IPython.core.display.Javascript at 0x22627320>"
       ]
      },
      {
       "javascript": [
        "\n",
        "        var $myPB = $(\"div#34e81fa7-d6c2-4da2-80f3-d7d4d17b6f63\")\n",
        "        if ($myPB.hasClass('ui-progressbar')) {\n",
        "            $myPB.progressbar('value', 81);\n",
        "        } else {\n",
        "            $myPB.progressbar({value: 0, max: 98});\n",
        "        }\n",
        "        "
       ],
       "metadata": {},
       "output_type": "display_data",
       "text": [
        "<IPython.core.display.Javascript at 0x22627320>"
       ]
      },
      {
       "javascript": [
        "$('div#d437ff1f-7e31-4ea1-81f8-37d3f55cb49f').text('ETA:  0:00:00');"
       ],
       "metadata": {},
       "output_type": "display_data",
       "text": [
        "<IPython.core.display.Javascript at 0x22627da0>"
       ]
      },
      {
       "javascript": [
        "$('div#2b6fdf44-3dc4-4d94-b024-4d59d77ba782').text('82 of 98');"
       ],
       "metadata": {},
       "output_type": "display_data",
       "text": [
        "<IPython.core.display.Javascript at 0x1a6a86a0>"
       ]
      },
      {
       "javascript": [
        "$('div#fe91487f-a190-4b58-bdc9-6e47a4433108').text(' 83%');"
       ],
       "metadata": {},
       "output_type": "display_data",
       "text": [
        "<IPython.core.display.Javascript at 0x1a6a82b0>"
       ]
      },
      {
       "javascript": [
        "\n",
        "        var $myPB = $(\"div#34e81fa7-d6c2-4da2-80f3-d7d4d17b6f63\")\n",
        "        if ($myPB.hasClass('ui-progressbar')) {\n",
        "            $myPB.progressbar('value', 82);\n",
        "        } else {\n",
        "            $myPB.progressbar({value: 0, max: 98});\n",
        "        }\n",
        "        "
       ],
       "metadata": {},
       "output_type": "display_data",
       "text": [
        "<IPython.core.display.Javascript at 0x1a6a82b0>"
       ]
      },
      {
       "javascript": [
        "$('div#d437ff1f-7e31-4ea1-81f8-37d3f55cb49f').text('ETA:  0:00:00');"
       ],
       "metadata": {},
       "output_type": "display_data",
       "text": [
        "<IPython.core.display.Javascript at 0x1a6a8748>"
       ]
      },
      {
       "javascript": [
        "$('div#2b6fdf44-3dc4-4d94-b024-4d59d77ba782').text('83 of 98');"
       ],
       "metadata": {},
       "output_type": "display_data",
       "text": [
        "<IPython.core.display.Javascript at 0x195d9518>"
       ]
      },
      {
       "javascript": [
        "$('div#fe91487f-a190-4b58-bdc9-6e47a4433108').text(' 84%');"
       ],
       "metadata": {},
       "output_type": "display_data",
       "text": [
        "<IPython.core.display.Javascript at 0x195d9828>"
       ]
      },
      {
       "javascript": [
        "\n",
        "        var $myPB = $(\"div#34e81fa7-d6c2-4da2-80f3-d7d4d17b6f63\")\n",
        "        if ($myPB.hasClass('ui-progressbar')) {\n",
        "            $myPB.progressbar('value', 83);\n",
        "        } else {\n",
        "            $myPB.progressbar({value: 0, max: 98});\n",
        "        }\n",
        "        "
       ],
       "metadata": {},
       "output_type": "display_data",
       "text": [
        "<IPython.core.display.Javascript at 0x195d9828>"
       ]
      },
      {
       "javascript": [
        "$('div#d437ff1f-7e31-4ea1-81f8-37d3f55cb49f').text('ETA:  0:00:00');"
       ],
       "metadata": {},
       "output_type": "display_data",
       "text": [
        "<IPython.core.display.Javascript at 0x195d97f0>"
       ]
      },
      {
       "javascript": [
        "$('div#2b6fdf44-3dc4-4d94-b024-4d59d77ba782').text('84 of 98');"
       ],
       "metadata": {},
       "output_type": "display_data",
       "text": [
        "<IPython.core.display.Javascript at 0x18aec978>"
       ]
      },
      {
       "javascript": [
        "$('div#fe91487f-a190-4b58-bdc9-6e47a4433108').text(' 85%');"
       ],
       "metadata": {},
       "output_type": "display_data",
       "text": [
        "<IPython.core.display.Javascript at 0x18aec978>"
       ]
      },
      {
       "javascript": [
        "\n",
        "        var $myPB = $(\"div#34e81fa7-d6c2-4da2-80f3-d7d4d17b6f63\")\n",
        "        if ($myPB.hasClass('ui-progressbar')) {\n",
        "            $myPB.progressbar('value', 84);\n",
        "        } else {\n",
        "            $myPB.progressbar({value: 0, max: 98});\n",
        "        }\n",
        "        "
       ],
       "metadata": {},
       "output_type": "display_data",
       "text": [
        "<IPython.core.display.Javascript at 0x18aecf60>"
       ]
      },
      {
       "javascript": [
        "$('div#d437ff1f-7e31-4ea1-81f8-37d3f55cb49f').text('ETA:  0:00:00');"
       ],
       "metadata": {},
       "output_type": "display_data",
       "text": [
        "<IPython.core.display.Javascript at 0x18aec550>"
       ]
      },
      {
       "javascript": [
        "$('div#2b6fdf44-3dc4-4d94-b024-4d59d77ba782').text('85 of 98');"
       ],
       "metadata": {},
       "output_type": "display_data",
       "text": [
        "<IPython.core.display.Javascript at 0x16e6cb70>"
       ]
      },
      {
       "javascript": [
        "$('div#fe91487f-a190-4b58-bdc9-6e47a4433108').text(' 86%');"
       ],
       "metadata": {},
       "output_type": "display_data",
       "text": [
        "<IPython.core.display.Javascript at 0x16e6cb70>"
       ]
      },
      {
       "javascript": [
        "\n",
        "        var $myPB = $(\"div#34e81fa7-d6c2-4da2-80f3-d7d4d17b6f63\")\n",
        "        if ($myPB.hasClass('ui-progressbar')) {\n",
        "            $myPB.progressbar('value', 85);\n",
        "        } else {\n",
        "            $myPB.progressbar({value: 0, max: 98});\n",
        "        }\n",
        "        "
       ],
       "metadata": {},
       "output_type": "display_data",
       "text": [
        "<IPython.core.display.Javascript at 0x16e6c160>"
       ]
      },
      {
       "javascript": [
        "$('div#d437ff1f-7e31-4ea1-81f8-37d3f55cb49f').text('ETA:  0:00:00');"
       ],
       "metadata": {},
       "output_type": "display_data",
       "text": [
        "<IPython.core.display.Javascript at 0x16e6cdd8>"
       ]
      },
      {
       "javascript": [
        "$('div#2b6fdf44-3dc4-4d94-b024-4d59d77ba782').text('86 of 98');"
       ],
       "metadata": {},
       "output_type": "display_data",
       "text": [
        "<IPython.core.display.Javascript at 0x16c5d9e8>"
       ]
      },
      {
       "javascript": [
        "$('div#fe91487f-a190-4b58-bdc9-6e47a4433108').text(' 87%');"
       ],
       "metadata": {},
       "output_type": "display_data",
       "text": [
        "<IPython.core.display.Javascript at 0x16c5d9e8>"
       ]
      },
      {
       "javascript": [
        "\n",
        "        var $myPB = $(\"div#34e81fa7-d6c2-4da2-80f3-d7d4d17b6f63\")\n",
        "        if ($myPB.hasClass('ui-progressbar')) {\n",
        "            $myPB.progressbar('value', 86);\n",
        "        } else {\n",
        "            $myPB.progressbar({value: 0, max: 98});\n",
        "        }\n",
        "        "
       ],
       "metadata": {},
       "output_type": "display_data",
       "text": [
        "<IPython.core.display.Javascript at 0x16c5d470>"
       ]
      },
      {
       "javascript": [
        "$('div#d437ff1f-7e31-4ea1-81f8-37d3f55cb49f').text('ETA:  0:00:00');"
       ],
       "metadata": {},
       "output_type": "display_data",
       "text": [
        "<IPython.core.display.Javascript at 0x16c5d6a0>"
       ]
      },
      {
       "javascript": [
        "$('div#2b6fdf44-3dc4-4d94-b024-4d59d77ba782').text('87 of 98');"
       ],
       "metadata": {},
       "output_type": "display_data",
       "text": [
        "<IPython.core.display.Javascript at 0x19bab588>"
       ]
      },
      {
       "javascript": [
        "$('div#fe91487f-a190-4b58-bdc9-6e47a4433108').text(' 88%');"
       ],
       "metadata": {},
       "output_type": "display_data",
       "text": [
        "<IPython.core.display.Javascript at 0x1219a438>"
       ]
      },
      {
       "javascript": [
        "\n",
        "        var $myPB = $(\"div#34e81fa7-d6c2-4da2-80f3-d7d4d17b6f63\")\n",
        "        if ($myPB.hasClass('ui-progressbar')) {\n",
        "            $myPB.progressbar('value', 87);\n",
        "        } else {\n",
        "            $myPB.progressbar({value: 0, max: 98});\n",
        "        }\n",
        "        "
       ],
       "metadata": {},
       "output_type": "display_data",
       "text": [
        "<IPython.core.display.Javascript at 0x1219a438>"
       ]
      },
      {
       "javascript": [
        "$('div#d437ff1f-7e31-4ea1-81f8-37d3f55cb49f').text('ETA:  0:00:00');"
       ],
       "metadata": {},
       "output_type": "display_data",
       "text": [
        "<IPython.core.display.Javascript at 0x19bab588>"
       ]
      },
      {
       "javascript": [
        "$('div#2b6fdf44-3dc4-4d94-b024-4d59d77ba782').text('88 of 98');"
       ],
       "metadata": {},
       "output_type": "display_data",
       "text": [
        "<IPython.core.display.Javascript at 0x2000ecc0>"
       ]
      },
      {
       "javascript": [
        "$('div#fe91487f-a190-4b58-bdc9-6e47a4433108').text(' 89%');"
       ],
       "metadata": {},
       "output_type": "display_data",
       "text": [
        "<IPython.core.display.Javascript at 0x2000ecc0>"
       ]
      },
      {
       "javascript": [
        "\n",
        "        var $myPB = $(\"div#34e81fa7-d6c2-4da2-80f3-d7d4d17b6f63\")\n",
        "        if ($myPB.hasClass('ui-progressbar')) {\n",
        "            $myPB.progressbar('value', 88);\n",
        "        } else {\n",
        "            $myPB.progressbar({value: 0, max: 98});\n",
        "        }\n",
        "        "
       ],
       "metadata": {},
       "output_type": "display_data",
       "text": [
        "<IPython.core.display.Javascript at 0x2000eda0>"
       ]
      },
      {
       "javascript": [
        "$('div#d437ff1f-7e31-4ea1-81f8-37d3f55cb49f').text('ETA:  0:00:00');"
       ],
       "metadata": {},
       "output_type": "display_data",
       "text": [
        "<IPython.core.display.Javascript at 0x2000e4e0>"
       ]
      },
      {
       "javascript": [
        "$('div#2b6fdf44-3dc4-4d94-b024-4d59d77ba782').text('89 of 98');"
       ],
       "metadata": {},
       "output_type": "display_data",
       "text": [
        "<IPython.core.display.Javascript at 0x1ee622b0>"
       ]
      },
      {
       "javascript": [
        "$('div#fe91487f-a190-4b58-bdc9-6e47a4433108').text(' 90%');"
       ],
       "metadata": {},
       "output_type": "display_data",
       "text": [
        "<IPython.core.display.Javascript at 0x1ee622b0>"
       ]
      },
      {
       "javascript": [
        "\n",
        "        var $myPB = $(\"div#34e81fa7-d6c2-4da2-80f3-d7d4d17b6f63\")\n",
        "        if ($myPB.hasClass('ui-progressbar')) {\n",
        "            $myPB.progressbar('value', 89);\n",
        "        } else {\n",
        "            $myPB.progressbar({value: 0, max: 98});\n",
        "        }\n",
        "        "
       ],
       "metadata": {},
       "output_type": "display_data",
       "text": [
        "<IPython.core.display.Javascript at 0x1ee62c88>"
       ]
      },
      {
       "javascript": [
        "$('div#d437ff1f-7e31-4ea1-81f8-37d3f55cb49f').text('ETA:  0:00:00');"
       ],
       "metadata": {},
       "output_type": "display_data",
       "text": [
        "<IPython.core.display.Javascript at 0x1ee62c50>"
       ]
      },
      {
       "javascript": [
        "$('div#2b6fdf44-3dc4-4d94-b024-4d59d77ba782').text('90 of 98');"
       ],
       "metadata": {},
       "output_type": "display_data",
       "text": [
        "<IPython.core.display.Javascript at 0x199ed6d8>"
       ]
      },
      {
       "javascript": [
        "$('div#fe91487f-a190-4b58-bdc9-6e47a4433108').text(' 91%');"
       ],
       "metadata": {},
       "output_type": "display_data",
       "text": [
        "<IPython.core.display.Javascript at 0x199ed6d8>"
       ]
      },
      {
       "javascript": [
        "\n",
        "        var $myPB = $(\"div#34e81fa7-d6c2-4da2-80f3-d7d4d17b6f63\")\n",
        "        if ($myPB.hasClass('ui-progressbar')) {\n",
        "            $myPB.progressbar('value', 90);\n",
        "        } else {\n",
        "            $myPB.progressbar({value: 0, max: 98});\n",
        "        }\n",
        "        "
       ],
       "metadata": {},
       "output_type": "display_data",
       "text": [
        "<IPython.core.display.Javascript at 0x199ed470>"
       ]
      },
      {
       "javascript": [
        "$('div#d437ff1f-7e31-4ea1-81f8-37d3f55cb49f').text('ETA:  0:00:00');"
       ],
       "metadata": {},
       "output_type": "display_data",
       "text": [
        "<IPython.core.display.Javascript at 0x199edfd0>"
       ]
      },
      {
       "javascript": [
        "$('div#2b6fdf44-3dc4-4d94-b024-4d59d77ba782').text('91 of 98');"
       ],
       "metadata": {},
       "output_type": "display_data",
       "text": [
        "<IPython.core.display.Javascript at 0x26ed2358>"
       ]
      },
      {
       "javascript": [
        "$('div#fe91487f-a190-4b58-bdc9-6e47a4433108').text(' 92%');"
       ],
       "metadata": {},
       "output_type": "display_data",
       "text": [
        "<IPython.core.display.Javascript at 0x26ed2358>"
       ]
      },
      {
       "javascript": [
        "\n",
        "        var $myPB = $(\"div#34e81fa7-d6c2-4da2-80f3-d7d4d17b6f63\")\n",
        "        if ($myPB.hasClass('ui-progressbar')) {\n",
        "            $myPB.progressbar('value', 91);\n",
        "        } else {\n",
        "            $myPB.progressbar({value: 0, max: 98});\n",
        "        }\n",
        "        "
       ],
       "metadata": {},
       "output_type": "display_data",
       "text": [
        "<IPython.core.display.Javascript at 0x26ed2048>"
       ]
      },
      {
       "javascript": [
        "$('div#d437ff1f-7e31-4ea1-81f8-37d3f55cb49f').text('ETA:  0:00:00');"
       ],
       "metadata": {},
       "output_type": "display_data",
       "text": [
        "<IPython.core.display.Javascript at 0x26ed2da0>"
       ]
      },
      {
       "javascript": [
        "$('div#2b6fdf44-3dc4-4d94-b024-4d59d77ba782').text('92 of 98');"
       ],
       "metadata": {},
       "output_type": "display_data",
       "text": [
        "<IPython.core.display.Javascript at 0x26ed2c88>"
       ]
      },
      {
       "javascript": [
        "$('div#fe91487f-a190-4b58-bdc9-6e47a4433108').text(' 93%');"
       ],
       "metadata": {},
       "output_type": "display_data",
       "text": [
        "<IPython.core.display.Javascript at 0x26ed2278>"
       ]
      },
      {
       "javascript": [
        "\n",
        "        var $myPB = $(\"div#34e81fa7-d6c2-4da2-80f3-d7d4d17b6f63\")\n",
        "        if ($myPB.hasClass('ui-progressbar')) {\n",
        "            $myPB.progressbar('value', 92);\n",
        "        } else {\n",
        "            $myPB.progressbar({value: 0, max: 98});\n",
        "        }\n",
        "        "
       ],
       "metadata": {},
       "output_type": "display_data",
       "text": [
        "<IPython.core.display.Javascript at 0x26ed2908>"
       ]
      },
      {
       "javascript": [
        "$('div#d437ff1f-7e31-4ea1-81f8-37d3f55cb49f').text('ETA:  0:00:00');"
       ],
       "metadata": {},
       "output_type": "display_data",
       "text": [
        "<IPython.core.display.Javascript at 0x26ed2908>"
       ]
      },
      {
       "javascript": [
        "$('div#2b6fdf44-3dc4-4d94-b024-4d59d77ba782').text('93 of 98');"
       ],
       "metadata": {},
       "output_type": "display_data",
       "text": [
        "<IPython.core.display.Javascript at 0x26ed25c0>"
       ]
      },
      {
       "javascript": [
        "$('div#fe91487f-a190-4b58-bdc9-6e47a4433108').text(' 94%');"
       ],
       "metadata": {},
       "output_type": "display_data",
       "text": [
        "<IPython.core.display.Javascript at 0x26ed2278>"
       ]
      },
      {
       "javascript": [
        "\n",
        "        var $myPB = $(\"div#34e81fa7-d6c2-4da2-80f3-d7d4d17b6f63\")\n",
        "        if ($myPB.hasClass('ui-progressbar')) {\n",
        "            $myPB.progressbar('value', 93);\n",
        "        } else {\n",
        "            $myPB.progressbar({value: 0, max: 98});\n",
        "        }\n",
        "        "
       ],
       "metadata": {},
       "output_type": "display_data",
       "text": [
        "<IPython.core.display.Javascript at 0x26ed2d30>"
       ]
      },
      {
       "javascript": [
        "$('div#d437ff1f-7e31-4ea1-81f8-37d3f55cb49f').text('ETA:  0:00:00');"
       ],
       "metadata": {},
       "output_type": "display_data",
       "text": [
        "<IPython.core.display.Javascript at 0x26ed2208>"
       ]
      },
      {
       "javascript": [
        "$('div#2b6fdf44-3dc4-4d94-b024-4d59d77ba782').text('94 of 98');"
       ],
       "metadata": {},
       "output_type": "display_data",
       "text": [
        "<IPython.core.display.Javascript at 0x26ed2a20>"
       ]
      },
      {
       "javascript": [
        "$('div#fe91487f-a190-4b58-bdc9-6e47a4433108').text(' 95%');"
       ],
       "metadata": {},
       "output_type": "display_data",
       "text": [
        "<IPython.core.display.Javascript at 0x26ed2a90>"
       ]
      },
      {
       "javascript": [
        "\n",
        "        var $myPB = $(\"div#34e81fa7-d6c2-4da2-80f3-d7d4d17b6f63\")\n",
        "        if ($myPB.hasClass('ui-progressbar')) {\n",
        "            $myPB.progressbar('value', 94);\n",
        "        } else {\n",
        "            $myPB.progressbar({value: 0, max: 98});\n",
        "        }\n",
        "        "
       ],
       "metadata": {},
       "output_type": "display_data",
       "text": [
        "<IPython.core.display.Javascript at 0x26ed2278>"
       ]
      },
      {
       "javascript": [
        "$('div#d437ff1f-7e31-4ea1-81f8-37d3f55cb49f').text('ETA:  0:00:00');"
       ],
       "metadata": {},
       "output_type": "display_data",
       "text": [
        "<IPython.core.display.Javascript at 0x26ed2d30>"
       ]
      },
      {
       "javascript": [
        "$('div#2b6fdf44-3dc4-4d94-b024-4d59d77ba782').text('95 of 98');"
       ],
       "metadata": {},
       "output_type": "display_data",
       "text": [
        "<IPython.core.display.Javascript at 0x26ed2e48>"
       ]
      },
      {
       "javascript": [
        "$('div#fe91487f-a190-4b58-bdc9-6e47a4433108').text(' 96%');"
       ],
       "metadata": {},
       "output_type": "display_data",
       "text": [
        "<IPython.core.display.Javascript at 0x26ed2be0>"
       ]
      },
      {
       "javascript": [
        "\n",
        "        var $myPB = $(\"div#34e81fa7-d6c2-4da2-80f3-d7d4d17b6f63\")\n",
        "        if ($myPB.hasClass('ui-progressbar')) {\n",
        "            $myPB.progressbar('value', 95);\n",
        "        } else {\n",
        "            $myPB.progressbar({value: 0, max: 98});\n",
        "        }\n",
        "        "
       ],
       "metadata": {},
       "output_type": "display_data",
       "text": [
        "<IPython.core.display.Javascript at 0x1970ca58>"
       ]
      },
      {
       "javascript": [
        "$('div#d437ff1f-7e31-4ea1-81f8-37d3f55cb49f').text('ETA:  0:00:00');"
       ],
       "metadata": {},
       "output_type": "display_data",
       "text": [
        "<IPython.core.display.Javascript at 0x26ed2be0>"
       ]
      },
      {
       "javascript": [
        "$('div#2b6fdf44-3dc4-4d94-b024-4d59d77ba782').text('96 of 98');"
       ],
       "metadata": {},
       "output_type": "display_data",
       "text": [
        "<IPython.core.display.Javascript at 0x21abe7b8>"
       ]
      },
      {
       "javascript": [
        "$('div#fe91487f-a190-4b58-bdc9-6e47a4433108').text(' 97%');"
       ],
       "metadata": {},
       "output_type": "display_data",
       "text": [
        "<IPython.core.display.Javascript at 0x21abe7b8>"
       ]
      },
      {
       "javascript": [
        "\n",
        "        var $myPB = $(\"div#34e81fa7-d6c2-4da2-80f3-d7d4d17b6f63\")\n",
        "        if ($myPB.hasClass('ui-progressbar')) {\n",
        "            $myPB.progressbar('value', 96);\n",
        "        } else {\n",
        "            $myPB.progressbar({value: 0, max: 98});\n",
        "        }\n",
        "        "
       ],
       "metadata": {},
       "output_type": "display_data",
       "text": [
        "<IPython.core.display.Javascript at 0x21abed30>"
       ]
      },
      {
       "javascript": [
        "$('div#d437ff1f-7e31-4ea1-81f8-37d3f55cb49f').text('ETA:  0:00:00');"
       ],
       "metadata": {},
       "output_type": "display_data",
       "text": [
        "<IPython.core.display.Javascript at 0x21abe208>"
       ]
      },
      {
       "javascript": [
        "$('div#2b6fdf44-3dc4-4d94-b024-4d59d77ba782').text('97 of 98');"
       ],
       "metadata": {},
       "output_type": "display_data",
       "text": [
        "<IPython.core.display.Javascript at 0x21abe5c0>"
       ]
      },
      {
       "javascript": [
        "$('div#fe91487f-a190-4b58-bdc9-6e47a4433108').text(' 98%');"
       ],
       "metadata": {},
       "output_type": "display_data",
       "text": [
        "<IPython.core.display.Javascript at 0x21abee80>"
       ]
      },
      {
       "javascript": [
        "\n",
        "        var $myPB = $(\"div#34e81fa7-d6c2-4da2-80f3-d7d4d17b6f63\")\n",
        "        if ($myPB.hasClass('ui-progressbar')) {\n",
        "            $myPB.progressbar('value', 97);\n",
        "        } else {\n",
        "            $myPB.progressbar({value: 0, max: 98});\n",
        "        }\n",
        "        "
       ],
       "metadata": {},
       "output_type": "display_data",
       "text": [
        "<IPython.core.display.Javascript at 0x21abee80>"
       ]
      },
      {
       "javascript": [
        "$('div#d437ff1f-7e31-4ea1-81f8-37d3f55cb49f').text('ETA:  0:00:00');"
       ],
       "metadata": {},
       "output_type": "display_data",
       "text": [
        "<IPython.core.display.Javascript at 0x21abe400>"
       ]
      },
      {
       "javascript": [
        "$('div#2b6fdf44-3dc4-4d94-b024-4d59d77ba782').text('98 of 98');"
       ],
       "metadata": {},
       "output_type": "display_data",
       "text": [
        "<IPython.core.display.Javascript at 0x2129e208>"
       ]
      },
      {
       "javascript": [
        "$('div#fe91487f-a190-4b58-bdc9-6e47a4433108').text('100%');"
       ],
       "metadata": {},
       "output_type": "display_data",
       "text": [
        "<IPython.core.display.Javascript at 0x2129e208>"
       ]
      },
      {
       "javascript": [
        "\n",
        "        var $myPB = $(\"div#34e81fa7-d6c2-4da2-80f3-d7d4d17b6f63\")\n",
        "        if ($myPB.hasClass('ui-progressbar')) {\n",
        "            $myPB.progressbar('value', 98);\n",
        "        } else {\n",
        "            $myPB.progressbar({value: 0, max: 98});\n",
        "        }\n",
        "        "
       ],
       "metadata": {},
       "output_type": "display_data",
       "text": [
        "<IPython.core.display.Javascript at 0x2129e400>"
       ]
      },
      {
       "javascript": [
        "$('div#d437ff1f-7e31-4ea1-81f8-37d3f55cb49f').text('ETA:  0:00:00');"
       ],
       "metadata": {},
       "output_type": "display_data",
       "text": [
        "<IPython.core.display.Javascript at 0x2129eef0>"
       ]
      },
      {
       "javascript": [
        "$('div#2b6fdf44-3dc4-4d94-b024-4d59d77ba782').text('98 of 98');"
       ],
       "metadata": {},
       "output_type": "display_data",
       "text": [
        "<IPython.core.display.Javascript at 0x19bab588>"
       ]
      },
      {
       "javascript": [
        "$('div#fe91487f-a190-4b58-bdc9-6e47a4433108').text('100%');"
       ],
       "metadata": {},
       "output_type": "display_data",
       "text": [
        "<IPython.core.display.Javascript at 0x19bab588>"
       ]
      },
      {
       "javascript": [
        "\n",
        "        var $myPB = $(\"div#34e81fa7-d6c2-4da2-80f3-d7d4d17b6f63\")\n",
        "        if ($myPB.hasClass('ui-progressbar')) {\n",
        "            $myPB.progressbar('value', 98);\n",
        "        } else {\n",
        "            $myPB.progressbar({value: 0, max: 98});\n",
        "        }\n",
        "        "
       ],
       "metadata": {},
       "output_type": "display_data",
       "text": [
        "<IPython.core.display.Javascript at 0x2129e2e8>"
       ]
      },
      {
       "javascript": [
        "$('div#d437ff1f-7e31-4ea1-81f8-37d3f55cb49f').text('Time: 0:00:04');"
       ],
       "metadata": {},
       "output_type": "display_data",
       "text": [
        "<IPython.core.display.Javascript at 0x2129e400>"
       ]
      },
      {
       "javascript": [
        "var element = document.getElementById('09af18da-a968-4b57-9cc6-912bb92531ba');\n",
        "                    var parent = element.parentNode\n",
        "                    parent.removeChild(element);\n",
        "                    parent.parentElement.remove();"
       ],
       "metadata": {},
       "output_type": "display_data",
       "text": [
        "<IPython.core.display.Javascript at 0x1bed25f8>"
       ]
      },
      {
       "javascript": [
        "this.cleanProgressBar(['09af18da-a968-4b57-9cc6-912bb92531ba', '2b6fdf44-3dc4-4d94-b024-4d59d77ba782', 'fe91487f-a190-4b58-bdc9-6e47a4433108', '34e81fa7-d6c2-4da2-80f3-d7d4d17b6f63', 'd437ff1f-7e31-4ea1-81f8-37d3f55cb49f'])"
       ],
       "metadata": {},
       "output_type": "display_data",
       "text": [
        "<IPython.core.display.Javascript at 0x1bed25f8>"
       ]
      }
     ],
     "prompt_number": 8
    },
    {
     "cell_type": "code",
     "collapsed": false,
     "input": [
      "import urllib, json\n",
      "stop_list = ['United Nations']\n",
      "\n",
      "def is_meta(sentence):\n",
      "    return not( sentence in stop_list\n",
      "               or sentence.endswith('.'))\n",
      "#     if sentence in stop_list:\n",
      "#         return False\n",
      "#     if sentence.endswith('.');\n",
      "#         return False\n",
      "#     return True\n",
      "def extract_meta(paragraphs):\n",
      "    index = len(paragraphs)-1\n",
      "    index_c = None\n",
      "    index_n = None\n",
      "    index_n2 = None\n",
      "    if ['Contents'] in paragraphs:\n",
      "        index_c= paragraphs.index(['Contents'])\n",
      "    if ['Notes'] in paragraphs:\n",
      "        index_n= paragraphs.index(['Notes'])\n",
      "    if ['Note'] in paragraphs:\n",
      "        index_n2= paragraphs.index(['Note'])\n",
      "    index = min([index_c, index_n, index_n2])\n",
      "    print index\n",
      "#     print 'found contents', index\n",
      "    if index is not None:\n",
      "        meta = [ sent for para in paragraphs[:index] for sent in para if is_meta(sent)]\n",
      "        print \"\\n\".join(meta)\n",
      "        return meta\n",
      "    return None\n",
      "\n",
      "\n",
      "for doc in docs:\n",
      "    u = urllib.urlencode({'term':docs[doc]['id']})\n",
      "    print doc, docs[doc]['n'], docs[doc]['id'], u\n",
      "    paragraphs = docs[doc]['content']\n",
      "#     if ['Contents'] in paragraphs:\n",
      "    extract_meta(paragraphs)\n",
      "    for para in paragraphs:\n",
      "        if len(para)==1 and not para[0].endswith('.'):\n",
      "#             print para\n",
      "            pass\n",
      "        else:\n",
      "            break\n",
      "    print '----------------------'\n",
      "#     break"
     ],
     "language": "python",
     "metadata": {},
     "outputs": [
      {
       "output_type": "stream",
       "stream": "stdout",
       "text": [
        "A_61_255-en.xml N0646317 A/61/255 term=A%2F61%2F255\n",
        "None\n",
        "----------------------\n",
        "A_CN9_631-en.xml V0781711 A/CN.9/631 term=A%2FCN.9%2F631\n",
        "None\n",
        "----------------------\n",
        "A_59_736-en.xml N0531927 A/59/736 term=A%2F59%2F736\n",
        "None\n",
        "----------------------\n",
        "A_60_727-en.xml N0628231 A/60/727 term=A%2F60%2F727\n",
        "None\n",
        "----------------------\n",
        "TD_386-en.xml G0070209 TD/386 term=TD%2F386\n",
        "None\n",
        "----------------------\n",
        "A_60_692-en.xml N0625177 A/60/692 term=A%2F60%2F692\n",
        "None\n",
        "----------------------\n",
        "S_2003_529-en.xml N0334879 S/2003/529 term=S%2F2003%2F529\n",
        "None\n",
        "----------------------\n",
        "A_CN9_614-en.xml V0657526 A/CN.9/614 term=A%2FCN.9%2F614\n",
        "None\n",
        "----------------------\n",
        "ST_SGB_2003_13-en.xml N0355040 ST/SGB/2003/13 term=ST%2FSGB%2F2003%2F13\n",
        "None\n",
        "----------------------\n",
        "A_CN9_WGIII_WP32-en.xml V0387701 A/CN.9/WG.III/WP.32 term=A%2FCN.9%2FWG.III%2FWP.32\n",
        "None\n",
        "----------------------\n",
        "A_CN9_619-en.xml V0781818 A/CN.9/619 term=A%2FCN.9%2F619\n",
        "None\n",
        "----------------------\n",
        "A_CN9_WGI_WP65-en.xml V0857955 A/CN.9/WG.I/WP.65 term=A%2FCN.9%2FWG.I%2FWP.65\n",
        "None\n",
        "----------------------\n",
        "A_56_17-en.xml V0186106 A/56/17 term=A%2F56%2F17\n",
        "10\n",
        "Report of the United Nations Commission on International Trade Law on its thirty-fourth session\n",
        "25 June-13 July 2001\n",
        "General Assembly\n",
        "Official Records Fifty-sixth session Supplement No. 17 (A/56/17)\n",
        "General Assembly Official Records Fifty-sixth session Supplement No. 17 (A/56/17)\n",
        "United Nations * New York, 2001\n",
        "Report of the United Nations\n",
        "Commission on International Trade Law on its thirty-fourth session\n",
        "25 June-13 July 2001\n",
        "----------------------\n",
        "A_61_299-en.xml N0649105 A/61/299 term=A%2F61%2F299\n",
        "None\n",
        "----------------------\n",
        "JOURNALNO2002_227-en.xml N0268852 JOURNAL NO. 2002/227 term=JOURNAL+NO.+2002%2F227\n",
        "None\n",
        "----------------------\n",
        "A_CN4_610-en.xml N0928275 A/CN.4/610 term=A%2FCN.4%2F610\n",
        "None\n",
        "----------------------\n",
        "A_AC105_848-en.xml V0582289 A/AC.105/848 term=A%2FAC.105%2F848\n",
        "None\n",
        "----------------------\n",
        "ST_IC_2006_1-en.xml N0621304 ST/IC/2006/1 term=ST%2FIC%2F2006%2F1\n",
        "None\n",
        "----------------------\n",
        "JOURNALNO2008_207-en.xml N0856312 JOURNAL NO.2008/207 term=JOURNAL+NO.2008%2F207\n",
        "None\n",
        "----------------------\n",
        "A_55_2SUPP-A_55_2-en.xml N0062814 A/55/2(SUPP)-A/55/2 term=A%2F55%2F2%28SUPP%29-A%2F55%2F2\n",
        "9\n",
        "Report of the Security Council\n",
        "16 June 1999-15 June 2000\n",
        "General Assembly\n",
        "Official Records Fifty-fifth session Supplement No. 2 (A/55/2)\n",
        "General Assembly Official Records Fifty-fifth session Supplement No. 2 (A/55/2)\n",
        "United Nations * New York, 2000\n",
        "Report of the Security Council\n",
        "16 June 1999-15 June 2000\n",
        "----------------------\n",
        "JOURNALNO2006_203-en.xml N0655993 JOURNAL NO.2006/203 term=JOURNAL+NO.2006%2F203\n",
        "None\n",
        "----------------------\n",
        "A_59_2SUPP-en.xml N0452572 A/59/2(SUPP) term=A%2F59%2F2%28SUPP%29\n",
        "9\n",
        "Report of the Security Council\n",
        "1 August 2003-31 July 2004\n",
        "General Assembly\n",
        "Official Records Fifty-ninth Session Supplement No. 2 (A/59/2)\n",
        "General Assembly Official Records Fifty-ninth Session Supplement No. 2 (A/59/2)\n",
        "United Nations * New York, 2004\n",
        "Report of the Security Council\n",
        "1 August 2003-31 July 2004\n",
        "----------------------\n",
        "E_CN4_2002_200-E_2002_23SUPP-en.xml G0215272 E/CN.4/2002/200-E/2002/23(SUPP) term=E%2FCN.4%2F2002%2F200-E%2F2002%2F23%28SUPP%29\n",
        "None\n",
        "----------------------\n",
        "E_CN4_2005_135-E_2005_23SUPP-en.xml G0516105 E/CN.4/2005/135-E/2005/23(SUPP) term=E%2FCN.4%2F2005%2F135-E%2F2005%2F23%28SUPP%29\n",
        "None\n",
        "----------------------\n",
        "A_57_304-en.xml N0252584 A/57/304 term=A%2F57%2F304\n",
        "None\n",
        "----------------------\n",
        "JOURNALNO2003_202-en.xml N0355168 JOURNAL NO. 2003/202 term=JOURNAL+NO.+2003%2F202\n",
        "None\n",
        "----------------------\n",
        "A_61_10-en.xml G0663620 A/61/10 term=A%2F61%2F10\n",
        "None\n",
        "----------------------\n",
        "A_CN9_WGI_WP70-en.xml V0986568 A/CN.9/WG.I/WP.70 term=A%2FCN.9%2FWG.I%2FWP.70\n",
        "None\n",
        "----------------------\n",
        "A_62_439_ADD2-en.xml N0763022 A/62/439/ADD.2 term=A%2F62%2F439%2FADD.2\n",
        "None\n",
        "----------------------\n",
        "A_CN9_WGIII_WP81-en.xml V0780735 A/CN.9/WG.III/WP.81 term=A%2FCN.9%2FWG.III%2FWP.81\n",
        "None\n",
        "----------------------\n",
        "A_AC261_IPM_14-en.xml V0188747 A/AC.261/IPM/14 term=A%2FAC.261%2FIPM%2F14\n",
        "None\n",
        "----------------------\n",
        "APLC_CONF_2004_5-en.xml G0560290 APLC/CONF/2004/5 term=APLC%2FCONF%2F2004%2F5\n",
        "None\n",
        "----------------------\n",
        "A_56_326-en.xml N0152607 A/56/326 term=A%2F56%2F326\n",
        "None\n",
        "----------------------\n",
        "JOURNALNO2002_241-en.xml N0271991 JOURNAL NO. 2002/241 term=JOURNAL+NO.+2002%2F241\n",
        "None\n",
        "----------------------\n",
        "A_CN9_526-en.xml V0383978 A/CN.9/526 term=A%2FCN.9%2F526\n",
        "None\n",
        "----------------------\n",
        "JOURNALNO2006_205-en.xml N0657522 JOURNAL NO.2006/205 term=JOURNAL+NO.2006%2F205\n",
        "None\n",
        "----------------------\n",
        "A_56_887-en.xml N0231925 A/56/887 term=A%2F56%2F887\n",
        "None\n",
        "----------------------\n",
        "A_CN9_575-en.xml V0583411 A/CN.9/575 term=A%2FCN.9%2F575\n",
        "None\n",
        "----------------------\n",
        "A_CN9_WGI_WP67-en.xml V0981479 A/CN.9/WG.I/WP.67 term=A%2FCN.9%2FWG.I%2FWP.67\n",
        "None\n",
        "----------------------\n",
        "A_CN9_595-en.xml V0653909 A/CN.9/595 term=A%2FCN.9%2F595\n",
        "None\n",
        "----------------------\n",
        "JOURNALNO2004_206-en.xml N0455137 JOURNAL NO. 2004/206 term=JOURNAL+NO.+2004%2F206\n",
        "None\n",
        "----------------------\n",
        "A_ES-10_273-en.xml N0441986 A/ES-10/273 term=A%2FES-10%2F273\n",
        "None\n",
        "----------------------\n",
        "A_54_2000-en.xml N0038897 A/54/2000 term=A%2F54%2F2000\n",
        "None\n",
        "----------------------\n",
        "A_CN9_509-en.xml V0252726 A/CN.9/509 term=A%2FCN.9%2F509\n",
        "None\n",
        "----------------------\n",
        "A_CN9_WGIII_WP101-en.xml V0788107 A/CN.9/WG.III/WP.101 term=A%2FCN.9%2FWG.III%2FWP.101\n",
        "None\n",
        "----------------------\n",
        "ST_SGB_2000_8-en.xml N0040845 ST/SGB/2000/8 term=ST%2FSGB%2F2000%2F8\n",
        "None\n",
        "----------------------\n",
        "JOURNALNO2003_204-en.xml N0355192 JOURNAL NO. 2003/204 term=JOURNAL+NO.+2003%2F204\n",
        "None\n",
        "----------------------\n",
        "ST_IC_2007_1-en.xml N0723572 ST/IC/2007/1 term=ST%2FIC%2F2007%2F1\n",
        "None\n",
        "----------------------\n",
        "A_CONF206_6-en.xml G0561029 A/CONF.206/6 term=A%2FCONF.206%2F6\n",
        "None\n",
        "----------------------\n",
        "A_CONF189_12-en.xml N0221543 A/CONF.189/12 term=A%2FCONF.189%2F12\n",
        "None\n",
        "----------------------\n",
        "TRANS_WP30_AC2_59-en.xml G0120042 TRANS/WP.30/AC.2/59 term=TRANS%2FWP.30%2FAC.2%2F59\n",
        "None\n",
        "----------------------\n",
        "ST_IC_2008_1-en.xml N0824547 ST/IC/2008/1 term=ST%2FIC%2F2008%2F1\n",
        "None\n",
        "----------------------\n",
        "A_58_16-en.xml N0342481 A/58/16 term=A%2F58%2F16\n",
        "None\n",
        "----------------------\n",
        "JOURNALNO2003_240-en.xml N0363884 JOURNAL NO. 2003/240 term=JOURNAL+NO.+2003%2F240\n",
        "None\n",
        "----------------------\n",
        "A_61_2SUPP-en.xml N0663736 A/61/2(SUPP) term=A%2F61%2F2%28SUPP%29\n",
        "9\n",
        "Report of the Security Council\n",
        "1 August 2005-31 July 2006\n",
        "General Assembly\n",
        "Official Records Sixty-first Session Supplement No. 2 (A/61/2)\n",
        "General Assembly Official Records Sixty-first Session Supplement No. 2 (A/61/2)\n",
        "United Nations * New York, 2006\n",
        "Report of the Security Council\n",
        "1 August 2005-31 July 2006\n",
        "----------------------\n",
        "A_56_61-en.xml N0130266 A/56/61 term=A%2F56%2F61\n",
        "None\n",
        "----------------------\n",
        "A_CN9_485-en.xml V0060407 A/CN.9/485 term=A%2FCN.9%2F485\n",
        "None\n",
        "----------------------\n",
        "JOURNALNO2008_210-en.xml N0857057 JOURNAL NO.2008/210 term=JOURNAL+NO.2008%2F210\n",
        "None\n",
        "----------------------\n",
        "A_57_2SUPP-en.xml N0260781 A/57/2(SUPP) term=A%2F57%2F2%28SUPP%29\n",
        "9\n",
        "Report of the Security Council\n",
        "16 June 2001-31 July 2002\n",
        "General Assembly\n",
        "Official Records Fifty-seventh Session Supplement No. 2 (A/57/2)\n",
        "General Assembly Official Records Fifty-seventh Session Supplement No. 2 (A/57/2)\n",
        "United Nations * New York, 2002\n",
        "Report of the Security Council\n",
        "16 June 2001-31 July 2002\n",
        "----------------------\n",
        "A_56_2SUPP-en.xml N0154435 A/56/2(SUPP) term=A%2F56%2F2%28SUPP%29\n",
        "9\n",
        "Report of the Security Council\n",
        "16 June 2000-15 June 2001\n",
        "General Assembly\n",
        "Official Records Fifty-sixth Session Supplement No. 2 (A/56/2)\n",
        "General Assembly Official Records Fifty-sixth Session Supplement No. 2 (A/56/2)\n",
        "United Nations * New York, 2001\n",
        "Report of the Security Council\n",
        "16 June 2000-15 June 2001\n",
        "----------------------\n",
        "JOURNALNO2007_208-en.xml N0753338 JOURNAL NO.2007/208 term=JOURNAL+NO.2007%2F208\n",
        "None\n",
        "----------------------\n",
        "E_CN4_2001_167-E_2001_23SUPP-E_2001_23-en.xml G0115748 E/CN.4/2001/167-E/2001/23(SUPP)-E/2001/23 term=E%2FCN.4%2F2001%2F167-E%2F2001%2F23%28SUPP%29-E%2F2001%2F23\n",
        "None\n",
        "----------------------\n",
        "JOURNALNO2003_205-en.xml N0355936 JOURNAL NO. 2003/205 term=JOURNAL+NO.+2003%2F205\n",
        "None\n",
        "----------------------\n",
        "A_55_253-en.xml N0059175 A/55/253 term=A%2F55%2F253\n",
        "None\n",
        "----------------------\n",
        "E_CN4_2004_127-E_2004_23SUPP-en.xml G0416200 E/CN.4/2004/127-E/2004/23(SUPP) term=E%2FCN.4%2F2004%2F127-E%2F2004%2F23%28SUPP%29\n",
        "None\n",
        "----------------------\n",
        "A_60_2SUPP-en.xml N0551747 A/60/2(SUPP) term=A%2F60%2F2%28SUPP%29\n",
        "9\n",
        "Report of the Security Council\n",
        "1 August 2004-31 July 2005\n",
        "General Assembly\n",
        "Official Records Sixtieth Session Supplement No. 2 (A/60/2)\n",
        "General Assembly Official Records Sixtieth Session Supplement No. 2 (A/60/2)\n",
        "United Nations * New York, 2005\n",
        "Report of the Security Council\n",
        "1 August 2004-31 July 2005\n",
        "----------------------\n",
        "A_HRC_8_52-en.xml G0815283 A/HRC/8/52 term=A%2FHRC%2F8%2F52\n",
        "None\n",
        "----------------------\n",
        "A_59_303-en.xml N0447505 A/59/303 term=A%2F59%2F303\n",
        "None\n",
        "----------------------\n",
        "A_CN9_668-en.xml V0980883 A/CN.9/668 term=A%2FCN.9%2F668\n",
        "None\n",
        "----------------------\n",
        "A_62_100_ADD1-en.xml N0754109 A/62/100/ADD.1 term=A%2F62%2F100%2FADD.1\n",
        "None\n",
        "----------------------\n",
        "A_59_2005-en.xml N0527078 A/59/2005 term=A%2F59%2F2005\n",
        "None\n",
        "----------------------\n",
        "JOURNALNO2006_202-en.xml N0655981 JOURNAL NO.2006/202 term=JOURNAL+NO.2006%2F202\n",
        "None\n",
        "----------------------\n",
        "A_CN9_468-en.xml V0053064 A/CN.9/468 term=A%2FCN.9%2F468\n",
        "None\n",
        "----------------------\n",
        "JOURNALNO2006_204-en.xml N0655999 JOURNAL NO.2006/204 term=JOURNAL+NO.2006%2F204\n",
        "None\n",
        "----------------------\n",
        "A_59_565-en.xml N0460231 A/59/565 term=A%2F59%2F565\n",
        "None\n",
        "----------------------\n",
        "A_C2_56_7-en.xml N0166129 A/C.2/56/7 term=A%2FC.2%2F56%2F7\n",
        "None\n",
        "----------------------\n",
        "JOURNALNO2002_228-en.xml N0268858 JOURNAL NO. 2002/228 term=JOURNAL+NO.+2002%2F228\n",
        "None\n",
        "----------------------\n",
        "S_INF_63-en.xml N0860709 S/INF/63 term=S%2FINF%2F63\n",
        "None\n",
        "----------------------\n",
        "E_CN4_2003_135-E_2003_23SUPP-en.xml G0316227 E/CN.4/2003/135-E/2003/23(SUPP) term=E%2FCN.4%2F2003%2F135-E%2F2003%2F23%28SUPP%29\n",
        "None\n",
        "----------------------\n",
        "JOURNALNO2004_209-en.xml N0456991 JOURNAL NO. 2004/209 term=JOURNAL+NO.+2004%2F209\n",
        "None\n",
        "----------------------\n",
        "A_57_387-en.xml N0258326 A/57/387 term=A%2F57%2F387\n",
        "None\n",
        "----------------------\n",
        "A_60_7_ADD1-42-en.xml N0740587 A/60/7/ADD.1-42 term=A%2F60%2F7%2FADD.1-42\n",
        "0\n",
        "\n",
        "----------------------\n",
        "JOURNALNO2007_209-en.xml N0754212 JOURNAL NO.2007/209 term=JOURNAL+NO.2007%2F209\n",
        "None\n",
        "----------------------\n",
        "ST_IC_2009_1-en.xml N0921438 ST/IC/2009/1 term=ST%2FIC%2F2009%2F1\n",
        "None\n",
        "----------------------\n",
        "CRC_C_118-en.xml G0244335 CRC/C/118 term=CRC%2FC%2F118\n",
        "None\n",
        "----------------------\n",
        "A_CN9_623-en.xml V0784106 A/CN.9/623 term=A%2FCN.9%2F623\n",
        "None\n",
        "----------------------\n",
        "JOURNALNO2004_208-en.xml N0456985 JOURNAL NO. 2004/208 term=JOURNAL+NO.+2004%2F208\n",
        "None\n",
        "----------------------\n",
        "S_2006_507-en.xml N0643544 S/2006/507 term=S%2F2006%2F507\n",
        "None\n",
        "----------------------\n",
        "A_57_772-en.xml N0331136 A/57/772 term=A%2F57%2F772\n",
        "None\n",
        "----------------------\n",
        "A_CN9_568-en.xml V0457812 A/CN.9/568 term=A%2FCN.9%2F568\n",
        "None\n",
        "----------------------\n",
        "A_CN9_615-en.xml V0657564 A/CN.9/615 term=A%2FCN.9%2F615\n",
        "None\n",
        "----------------------\n",
        "JOURNALNO2007_204-en.xml N0753313 JOURNAL NO.2007/204 term=JOURNAL+NO.2007%2F204\n",
        "None\n",
        "----------------------\n",
        "A_55_874-en.xml N0132461 A/55/874 term=A%2F55%2F874\n",
        "None\n",
        "----------------------\n",
        "A_CN9_590-en.xml V0590125 A/CN.9/590 term=A%2FCN.9%2F590\n",
        "None\n",
        "----------------------\n",
        "ST_IC_2005_1-en.xml N0521787 ST/IC/2005/1 term=ST%2FIC%2F2005%2F1\n",
        "None\n",
        "----------------------\n",
        "A_62_2SUPP-en.xml N0756517 A/62/2(SUPP) term=A%2F62%2F2%28SUPP%29\n",
        "9\n",
        "Report of the Security Council\n",
        "1 August 2006-31 July 2007\n",
        "General Assembly\n",
        "Official Records Sixty-second Session Supplement No. 2 (A/62/2)\n",
        "General Assembly Official Records Sixty-second Session Supplement No. 2 (A/62/2)\n",
        "United Nations * New York, 2007\n",
        "Report of the Security Council\n",
        "1 August 2006-31 July 2007\n",
        "----------------------\n",
        "A_63_2SUPP-en.xml N0857742 A/63/2(SUPP) term=A%2F63%2F2%28SUPP%29\n",
        "None\n",
        "----------------------\n",
        "A_CN9_WGIII_WP56-en.xml V0587082 A/CN.9/WG.III/WP.56 term=A%2FCN.9%2FWG.III%2FWP.56\n",
        "None\n",
        "----------------------\n"
       ]
      }
     ],
     "prompt_number": 41
    },
    {
     "cell_type": "code",
     "collapsed": false,
     "input": [],
     "language": "python",
     "metadata": {},
     "outputs": [],
     "prompt_number": 9
    }
   ],
   "metadata": {}
  }
 ]
}