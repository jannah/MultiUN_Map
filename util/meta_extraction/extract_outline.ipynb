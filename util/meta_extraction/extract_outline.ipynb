{
 "metadata": {
  "name": "",
  "signature": "sha256:bc554f48c13ba85e83ca95459c838910aa23e51e326f8b7f370d29aaa1cf3a24"
 },
 "nbformat": 3,
 "nbformat_minor": 0,
 "worksheets": [
  {
   "cells": [
    {
     "cell_type": "code",
     "collapsed": false,
     "input": [
      "MODULES_PATH = '''../../modules/multi_un_module.py'''\n",
      "import imp\n",
      "NF = imp.load_source('multi_un_module', MODULES_PATH)\n",
      "import multi_un_module as mun"
     ],
     "language": "python",
     "metadata": {},
     "outputs": [],
     "prompt_number": 3
    },
    {
     "cell_type": "code",
     "collapsed": false,
     "input": [
      "docs = mun.load_xml_files_by_year('TOP_100')"
     ],
     "language": "python",
     "metadata": {},
     "outputs": [
      {
       "javascript": [
        "//b11447c8-5ba5-4af8-9f44-867d27e6b9c6\n",
        "$(\"head\").append(\"<style> td.pb_widget {     width: auto; } td.pb_widget_fill {     width: 100%; } table.pb {     font-family: monospace;     border: 0;     margin: 0; } table.pb tr { border: 0; } table.pb td {     white-space: nowrap;     border: 0; } div.pb {     border: 1px solid #ddd;     border-radius: 3px; } div.pb_bar {     height: 1.5em; } </style>\")"
       ],
       "metadata": {},
       "output_type": "display_data",
       "text": [
        "<IPython.core.display.Javascript at 0x19bb1080>"
       ]
      },
      {
       "javascript": [
        "\n",
        "                  // b11447c8-5ba5-4af8-9f44-867d27e6b9c6 -- used to remove this code blob in the end\n",
        "                  IPython.OutputArea.prototype.cleanProgressBar = function(uuids) {\n",
        "                      // filter by uuid-strings \n",
        "                      var myfilter = function(output) { \n",
        "                          var nuids = uuids.length;\n",
        "                          for (var i=0; i<nuids; i++) {\n",
        "                              if (output.hasOwnProperty('html')) {\n",
        "                                  if (output.html.indexOf(uuids[i]) != -1) {\n",
        "                                      return false;\n",
        "                                  }\n",
        "                              }\n",
        "                              if (output.hasOwnProperty('javascript')) {\n",
        "                                  if (output.javascript.indexOf(uuids[i]) != -1) {\n",
        "                                      return false;\n",
        "                                  }\n",
        "                              }\n",
        "                          }\n",
        "                          // keep all others\n",
        "                          return true;\n",
        "                      };\n",
        "\n",
        "                      // Filter the ouputs\n",
        "                      this.outputs = this.outputs.filter(myfilter);\n",
        "                };\n",
        "                "
       ],
       "metadata": {},
       "output_type": "display_data",
       "text": [
        "<IPython.core.display.Javascript at 0x13b54a58>"
       ]
      },
      {
       "html": [
        "<div class=\"pb\" id=\"b11447c8-5ba5-4af8-9f44-867d27e6b9c6\"><table class=\"pb ui-widget\"><tr>\n",
        "<td class=\"pb_widget\">TOP_100</td>\n",
        "<td class=\"pb_widget\"><div id=\"6858ba0f-a5a7-4bff-a77b-6725b8c8c183\">0 of 98</div></td>\n",
        "<td class=\"pb_widget\"><div id=\"ade2d04e-b3ff-4d60-8bee-38076f6024ed\">  0%</div></td>\n",
        "<td class=\"pb_widget_fill\">\n",
        "        <div class=\"pb_bar\" id=\"97d49072-c1cb-441f-96a9-fe20754dc9f7\"></div>\n",
        "        <script type=\"text/javascript\">\n",
        "            $(\"div#97d49072-c1cb-441f-96a9-fe20754dc9f7\").progressbar({value: 0, max: 98});\n",
        "        </script>\n",
        "        </td>\n",
        "<td class=\"pb_widget\"><div id=\"2b08205f-1843-4f7f-974d-837bedbd4baf\">ETA:  --:--:--</div></td>\n",
        "</tr></table><div>"
       ],
       "metadata": {},
       "output_type": "display_data",
       "text": [
        "<IPython.core.display.HTML at 0x19bb10b8>"
       ]
      },
      {
       "javascript": [
        "$('div#6858ba0f-a5a7-4bff-a77b-6725b8c8c183').text('1 of 98');"
       ],
       "metadata": {},
       "output_type": "display_data",
       "text": [
        "<IPython.core.display.Javascript at 0x19bb1ba8>"
       ]
      },
      {
       "javascript": [
        "$('div#ade2d04e-b3ff-4d60-8bee-38076f6024ed').text('  1%');"
       ],
       "metadata": {},
       "output_type": "display_data",
       "text": [
        "<IPython.core.display.Javascript at 0x23a0d908>"
       ]
      },
      {
       "javascript": [
        "\n",
        "        var $myPB = $(\"div#97d49072-c1cb-441f-96a9-fe20754dc9f7\")\n",
        "        if ($myPB.hasClass('ui-progressbar')) {\n",
        "            $myPB.progressbar('value', 1);\n",
        "        } else {\n",
        "            $myPB.progressbar({value: 0, max: 98});\n",
        "        }\n",
        "        "
       ],
       "metadata": {},
       "output_type": "display_data",
       "text": [
        "<IPython.core.display.Javascript at 0x19bb1ba8>"
       ]
      },
      {
       "javascript": [
        "$('div#2b08205f-1843-4f7f-974d-837bedbd4baf').text('ETA:  0:00:01');"
       ],
       "metadata": {},
       "output_type": "display_data",
       "text": [
        "<IPython.core.display.Javascript at 0x23a0d908>"
       ]
      },
      {
       "javascript": [
        "$('div#6858ba0f-a5a7-4bff-a77b-6725b8c8c183').text('2 of 98');"
       ],
       "metadata": {},
       "output_type": "display_data",
       "text": [
        "<IPython.core.display.Javascript at 0x23a0d278>"
       ]
      },
      {
       "javascript": [
        "$('div#ade2d04e-b3ff-4d60-8bee-38076f6024ed').text('  2%');"
       ],
       "metadata": {},
       "output_type": "display_data",
       "text": [
        "<IPython.core.display.Javascript at 0x23a0d6a0>"
       ]
      },
      {
       "javascript": [
        "\n",
        "        var $myPB = $(\"div#97d49072-c1cb-441f-96a9-fe20754dc9f7\")\n",
        "        if ($myPB.hasClass('ui-progressbar')) {\n",
        "            $myPB.progressbar('value', 2);\n",
        "        } else {\n",
        "            $myPB.progressbar({value: 0, max: 98});\n",
        "        }\n",
        "        "
       ],
       "metadata": {},
       "output_type": "display_data",
       "text": [
        "<IPython.core.display.Javascript at 0x23a0d6a0>"
       ]
      },
      {
       "javascript": [
        "$('div#2b08205f-1843-4f7f-974d-837bedbd4baf').text('ETA:  0:00:02');"
       ],
       "metadata": {},
       "output_type": "display_data",
       "text": [
        "<IPython.core.display.Javascript at 0x23a0d0b8>"
       ]
      },
      {
       "javascript": [
        "$('div#6858ba0f-a5a7-4bff-a77b-6725b8c8c183').text('3 of 98');"
       ],
       "metadata": {},
       "output_type": "display_data",
       "text": [
        "<IPython.core.display.Javascript at 0x23263cf8>"
       ]
      },
      {
       "javascript": [
        "$('div#ade2d04e-b3ff-4d60-8bee-38076f6024ed').text('  3%');"
       ],
       "metadata": {},
       "output_type": "display_data",
       "text": [
        "<IPython.core.display.Javascript at 0x232639b0>"
       ]
      },
      {
       "javascript": [
        "\n",
        "        var $myPB = $(\"div#97d49072-c1cb-441f-96a9-fe20754dc9f7\")\n",
        "        if ($myPB.hasClass('ui-progressbar')) {\n",
        "            $myPB.progressbar('value', 3);\n",
        "        } else {\n",
        "            $myPB.progressbar({value: 0, max: 98});\n",
        "        }\n",
        "        "
       ],
       "metadata": {},
       "output_type": "display_data",
       "text": [
        "<IPython.core.display.Javascript at 0x232639b0>"
       ]
      },
      {
       "javascript": [
        "$('div#2b08205f-1843-4f7f-974d-837bedbd4baf').text('ETA:  0:00:01');"
       ],
       "metadata": {},
       "output_type": "display_data",
       "text": [
        "<IPython.core.display.Javascript at 0x232632b0>"
       ]
      },
      {
       "javascript": [
        "$('div#6858ba0f-a5a7-4bff-a77b-6725b8c8c183').text('4 of 98');"
       ],
       "metadata": {},
       "output_type": "display_data",
       "text": [
        "<IPython.core.display.Javascript at 0x1ab13978>"
       ]
      },
      {
       "javascript": [
        "$('div#ade2d04e-b3ff-4d60-8bee-38076f6024ed').text('  4%');"
       ],
       "metadata": {},
       "output_type": "display_data",
       "text": [
        "<IPython.core.display.Javascript at 0x1ab132b0>"
       ]
      },
      {
       "javascript": [
        "\n",
        "        var $myPB = $(\"div#97d49072-c1cb-441f-96a9-fe20754dc9f7\")\n",
        "        if ($myPB.hasClass('ui-progressbar')) {\n",
        "            $myPB.progressbar('value', 4);\n",
        "        } else {\n",
        "            $myPB.progressbar({value: 0, max: 98});\n",
        "        }\n",
        "        "
       ],
       "metadata": {},
       "output_type": "display_data",
       "text": [
        "<IPython.core.display.Javascript at 0x1ab132b0>"
       ]
      },
      {
       "javascript": [
        "$('div#2b08205f-1843-4f7f-974d-837bedbd4baf').text('ETA:  0:00:06');"
       ],
       "metadata": {},
       "output_type": "display_data",
       "text": [
        "<IPython.core.display.Javascript at 0x1ab136a0>"
       ]
      },
      {
       "javascript": [
        "$('div#6858ba0f-a5a7-4bff-a77b-6725b8c8c183').text('5 of 98');"
       ],
       "metadata": {},
       "output_type": "display_data",
       "text": [
        "<IPython.core.display.Javascript at 0x1ab135c0>"
       ]
      },
      {
       "javascript": [
        "$('div#ade2d04e-b3ff-4d60-8bee-38076f6024ed').text('  5%');"
       ],
       "metadata": {},
       "output_type": "display_data",
       "text": [
        "<IPython.core.display.Javascript at 0x1ab13278>"
       ]
      },
      {
       "javascript": [
        "\n",
        "        var $myPB = $(\"div#97d49072-c1cb-441f-96a9-fe20754dc9f7\")\n",
        "        if ($myPB.hasClass('ui-progressbar')) {\n",
        "            $myPB.progressbar('value', 5);\n",
        "        } else {\n",
        "            $myPB.progressbar({value: 0, max: 98});\n",
        "        }\n",
        "        "
       ],
       "metadata": {},
       "output_type": "display_data",
       "text": [
        "<IPython.core.display.Javascript at 0x1ab13b38>"
       ]
      },
      {
       "javascript": [
        "$('div#2b08205f-1843-4f7f-974d-837bedbd4baf').text('ETA:  0:00:05');"
       ],
       "metadata": {},
       "output_type": "display_data",
       "text": [
        "<IPython.core.display.Javascript at 0x1ab13b38>"
       ]
      },
      {
       "javascript": [
        "$('div#6858ba0f-a5a7-4bff-a77b-6725b8c8c183').text('6 of 98');"
       ],
       "metadata": {},
       "output_type": "display_data",
       "text": [
        "<IPython.core.display.Javascript at 0x1c1149b0>"
       ]
      },
      {
       "javascript": [
        "$('div#ade2d04e-b3ff-4d60-8bee-38076f6024ed').text('  6%');"
       ],
       "metadata": {},
       "output_type": "display_data",
       "text": [
        "<IPython.core.display.Javascript at 0x1c114668>"
       ]
      },
      {
       "javascript": [
        "\n",
        "        var $myPB = $(\"div#97d49072-c1cb-441f-96a9-fe20754dc9f7\")\n",
        "        if ($myPB.hasClass('ui-progressbar')) {\n",
        "            $myPB.progressbar('value', 6);\n",
        "        } else {\n",
        "            $myPB.progressbar({value: 0, max: 98});\n",
        "        }\n",
        "        "
       ],
       "metadata": {},
       "output_type": "display_data",
       "text": [
        "<IPython.core.display.Javascript at 0x1c114208>"
       ]
      },
      {
       "javascript": [
        "$('div#2b08205f-1843-4f7f-974d-837bedbd4baf').text('ETA:  0:00:05');"
       ],
       "metadata": {},
       "output_type": "display_data",
       "text": [
        "<IPython.core.display.Javascript at 0x1c114208>"
       ]
      },
      {
       "javascript": [
        "$('div#6858ba0f-a5a7-4bff-a77b-6725b8c8c183').text('7 of 98');"
       ],
       "metadata": {},
       "output_type": "display_data",
       "text": [
        "<IPython.core.display.Javascript at 0x22631898>"
       ]
      },
      {
       "javascript": [
        "$('div#ade2d04e-b3ff-4d60-8bee-38076f6024ed').text('  7%');"
       ],
       "metadata": {},
       "output_type": "display_data",
       "text": [
        "<IPython.core.display.Javascript at 0x22631898>"
       ]
      },
      {
       "javascript": [
        "\n",
        "        var $myPB = $(\"div#97d49072-c1cb-441f-96a9-fe20754dc9f7\")\n",
        "        if ($myPB.hasClass('ui-progressbar')) {\n",
        "            $myPB.progressbar('value', 7);\n",
        "        } else {\n",
        "            $myPB.progressbar({value: 0, max: 98});\n",
        "        }\n",
        "        "
       ],
       "metadata": {},
       "output_type": "display_data",
       "text": [
        "<IPython.core.display.Javascript at 0x22631160>"
       ]
      },
      {
       "javascript": [
        "$('div#2b08205f-1843-4f7f-974d-837bedbd4baf').text('ETA:  0:00:06');"
       ],
       "metadata": {},
       "output_type": "display_data",
       "text": [
        "<IPython.core.display.Javascript at 0x22631748>"
       ]
      },
      {
       "javascript": [
        "$('div#6858ba0f-a5a7-4bff-a77b-6725b8c8c183').text('8 of 98');"
       ],
       "metadata": {},
       "output_type": "display_data",
       "text": [
        "<IPython.core.display.Javascript at 0x22631dd8>"
       ]
      },
      {
       "javascript": [
        "$('div#ade2d04e-b3ff-4d60-8bee-38076f6024ed').text('  8%');"
       ],
       "metadata": {},
       "output_type": "display_data",
       "text": [
        "<IPython.core.display.Javascript at 0x22631dd8>"
       ]
      },
      {
       "javascript": [
        "\n",
        "        var $myPB = $(\"div#97d49072-c1cb-441f-96a9-fe20754dc9f7\")\n",
        "        if ($myPB.hasClass('ui-progressbar')) {\n",
        "            $myPB.progressbar('value', 8);\n",
        "        } else {\n",
        "            $myPB.progressbar({value: 0, max: 98});\n",
        "        }\n",
        "        "
       ],
       "metadata": {},
       "output_type": "display_data",
       "text": [
        "<IPython.core.display.Javascript at 0x22631588>"
       ]
      },
      {
       "javascript": [
        "$('div#2b08205f-1843-4f7f-974d-837bedbd4baf').text('ETA:  0:00:06');"
       ],
       "metadata": {},
       "output_type": "display_data",
       "text": [
        "<IPython.core.display.Javascript at 0x22631ac8>"
       ]
      },
      {
       "javascript": [
        "$('div#6858ba0f-a5a7-4bff-a77b-6725b8c8c183').text('9 of 98');"
       ],
       "metadata": {},
       "output_type": "display_data",
       "text": [
        "<IPython.core.display.Javascript at 0x22631128>"
       ]
      },
      {
       "javascript": [
        "$('div#ade2d04e-b3ff-4d60-8bee-38076f6024ed').text('  9%');"
       ],
       "metadata": {},
       "output_type": "display_data",
       "text": [
        "<IPython.core.display.Javascript at 0x226317f0>"
       ]
      },
      {
       "javascript": [
        "\n",
        "        var $myPB = $(\"div#97d49072-c1cb-441f-96a9-fe20754dc9f7\")\n",
        "        if ($myPB.hasClass('ui-progressbar')) {\n",
        "            $myPB.progressbar('value', 9);\n",
        "        } else {\n",
        "            $myPB.progressbar({value: 0, max: 98});\n",
        "        }\n",
        "        "
       ],
       "metadata": {},
       "output_type": "display_data",
       "text": [
        "<IPython.core.display.Javascript at 0x22631518>"
       ]
      },
      {
       "javascript": [
        "$('div#2b08205f-1843-4f7f-974d-837bedbd4baf').text('ETA:  0:00:05');"
       ],
       "metadata": {},
       "output_type": "display_data",
       "text": [
        "<IPython.core.display.Javascript at 0x22631320>"
       ]
      },
      {
       "javascript": [
        "$('div#6858ba0f-a5a7-4bff-a77b-6725b8c8c183').text('10 of 98');"
       ],
       "metadata": {},
       "output_type": "display_data",
       "text": [
        "<IPython.core.display.Javascript at 0x226315c0>"
       ]
      },
      {
       "javascript": [
        "$('div#ade2d04e-b3ff-4d60-8bee-38076f6024ed').text(' 10%');"
       ],
       "metadata": {},
       "output_type": "display_data",
       "text": [
        "<IPython.core.display.Javascript at 0x226316d8>"
       ]
      },
      {
       "javascript": [
        "\n",
        "        var $myPB = $(\"div#97d49072-c1cb-441f-96a9-fe20754dc9f7\")\n",
        "        if ($myPB.hasClass('ui-progressbar')) {\n",
        "            $myPB.progressbar('value', 10);\n",
        "        } else {\n",
        "            $myPB.progressbar({value: 0, max: 98});\n",
        "        }\n",
        "        "
       ],
       "metadata": {},
       "output_type": "display_data",
       "text": [
        "<IPython.core.display.Javascript at 0x226317b8>"
       ]
      },
      {
       "javascript": [
        "$('div#2b08205f-1843-4f7f-974d-837bedbd4baf').text('ETA:  0:00:05');"
       ],
       "metadata": {},
       "output_type": "display_data",
       "text": [
        "<IPython.core.display.Javascript at 0x226317b8>"
       ]
      },
      {
       "javascript": [
        "$('div#6858ba0f-a5a7-4bff-a77b-6725b8c8c183').text('11 of 98');"
       ],
       "metadata": {},
       "output_type": "display_data",
       "text": [
        "<IPython.core.display.Javascript at 0x206db668>"
       ]
      },
      {
       "javascript": [
        "$('div#ade2d04e-b3ff-4d60-8bee-38076f6024ed').text(' 11%');"
       ],
       "metadata": {},
       "output_type": "display_data",
       "text": [
        "<IPython.core.display.Javascript at 0x206db668>"
       ]
      },
      {
       "javascript": [
        "\n",
        "        var $myPB = $(\"div#97d49072-c1cb-441f-96a9-fe20754dc9f7\")\n",
        "        if ($myPB.hasClass('ui-progressbar')) {\n",
        "            $myPB.progressbar('value', 11);\n",
        "        } else {\n",
        "            $myPB.progressbar({value: 0, max: 98});\n",
        "        }\n",
        "        "
       ],
       "metadata": {},
       "output_type": "display_data",
       "text": [
        "<IPython.core.display.Javascript at 0x206db470>"
       ]
      },
      {
       "javascript": [
        "$('div#2b08205f-1843-4f7f-974d-837bedbd4baf').text('ETA:  0:00:04');"
       ],
       "metadata": {},
       "output_type": "display_data",
       "text": [
        "<IPython.core.display.Javascript at 0x206db710>"
       ]
      },
      {
       "javascript": [
        "$('div#6858ba0f-a5a7-4bff-a77b-6725b8c8c183').text('12 of 98');"
       ],
       "metadata": {},
       "output_type": "display_data",
       "text": [
        "<IPython.core.display.Javascript at 0x206dbe48>"
       ]
      },
      {
       "javascript": [
        "$('div#ade2d04e-b3ff-4d60-8bee-38076f6024ed').text(' 12%');"
       ],
       "metadata": {},
       "output_type": "display_data",
       "text": [
        "<IPython.core.display.Javascript at 0x206dbe48>"
       ]
      },
      {
       "javascript": [
        "\n",
        "        var $myPB = $(\"div#97d49072-c1cb-441f-96a9-fe20754dc9f7\")\n",
        "        if ($myPB.hasClass('ui-progressbar')) {\n",
        "            $myPB.progressbar('value', 12);\n",
        "        } else {\n",
        "            $myPB.progressbar({value: 0, max: 98});\n",
        "        }\n",
        "        "
       ],
       "metadata": {},
       "output_type": "display_data",
       "text": [
        "<IPython.core.display.Javascript at 0x206db588>"
       ]
      },
      {
       "javascript": [
        "$('div#2b08205f-1843-4f7f-974d-837bedbd4baf').text('ETA:  0:00:04');"
       ],
       "metadata": {},
       "output_type": "display_data",
       "text": [
        "<IPython.core.display.Javascript at 0x206db128>"
       ]
      },
      {
       "javascript": [
        "$('div#6858ba0f-a5a7-4bff-a77b-6725b8c8c183').text('13 of 98');"
       ],
       "metadata": {},
       "output_type": "display_data",
       "text": [
        "<IPython.core.display.Javascript at 0x206dbeb8>"
       ]
      },
      {
       "javascript": [
        "$('div#ade2d04e-b3ff-4d60-8bee-38076f6024ed').text(' 13%');"
       ],
       "metadata": {},
       "output_type": "display_data",
       "text": [
        "<IPython.core.display.Javascript at 0x206dbfd0>"
       ]
      },
      {
       "javascript": [
        "\n",
        "        var $myPB = $(\"div#97d49072-c1cb-441f-96a9-fe20754dc9f7\")\n",
        "        if ($myPB.hasClass('ui-progressbar')) {\n",
        "            $myPB.progressbar('value', 13);\n",
        "        } else {\n",
        "            $myPB.progressbar({value: 0, max: 98});\n",
        "        }\n",
        "        "
       ],
       "metadata": {},
       "output_type": "display_data",
       "text": [
        "<IPython.core.display.Javascript at 0x206dbfd0>"
       ]
      },
      {
       "javascript": [
        "$('div#2b08205f-1843-4f7f-974d-837bedbd4baf').text('ETA:  0:00:04');"
       ],
       "metadata": {},
       "output_type": "display_data",
       "text": [
        "<IPython.core.display.Javascript at 0x206db240>"
       ]
      },
      {
       "javascript": [
        "$('div#6858ba0f-a5a7-4bff-a77b-6725b8c8c183').text('14 of 98');"
       ],
       "metadata": {},
       "output_type": "display_data",
       "text": [
        "<IPython.core.display.Javascript at 0x206dbb00>"
       ]
      },
      {
       "javascript": [
        "$('div#ade2d04e-b3ff-4d60-8bee-38076f6024ed').text(' 14%');"
       ],
       "metadata": {},
       "output_type": "display_data",
       "text": [
        "<IPython.core.display.Javascript at 0x240ad5c0>"
       ]
      },
      {
       "javascript": [
        "\n",
        "        var $myPB = $(\"div#97d49072-c1cb-441f-96a9-fe20754dc9f7\")\n",
        "        if ($myPB.hasClass('ui-progressbar')) {\n",
        "            $myPB.progressbar('value', 14);\n",
        "        } else {\n",
        "            $myPB.progressbar({value: 0, max: 98});\n",
        "        }\n",
        "        "
       ],
       "metadata": {},
       "output_type": "display_data",
       "text": [
        "<IPython.core.display.Javascript at 0x206dbb00>"
       ]
      },
      {
       "javascript": [
        "$('div#2b08205f-1843-4f7f-974d-837bedbd4baf').text('ETA:  0:00:03');"
       ],
       "metadata": {},
       "output_type": "display_data",
       "text": [
        "<IPython.core.display.Javascript at 0x206db240>"
       ]
      },
      {
       "javascript": [
        "$('div#6858ba0f-a5a7-4bff-a77b-6725b8c8c183').text('15 of 98');"
       ],
       "metadata": {},
       "output_type": "display_data",
       "text": [
        "<IPython.core.display.Javascript at 0x1ff5e588>"
       ]
      },
      {
       "javascript": [
        "$('div#ade2d04e-b3ff-4d60-8bee-38076f6024ed').text(' 15%');"
       ],
       "metadata": {},
       "output_type": "display_data",
       "text": [
        "<IPython.core.display.Javascript at 0x1ff5e470>"
       ]
      },
      {
       "javascript": [
        "\n",
        "        var $myPB = $(\"div#97d49072-c1cb-441f-96a9-fe20754dc9f7\")\n",
        "        if ($myPB.hasClass('ui-progressbar')) {\n",
        "            $myPB.progressbar('value', 15);\n",
        "        } else {\n",
        "            $myPB.progressbar({value: 0, max: 98});\n",
        "        }\n",
        "        "
       ],
       "metadata": {},
       "output_type": "display_data",
       "text": [
        "<IPython.core.display.Javascript at 0x1ff5e0b8>"
       ]
      },
      {
       "javascript": [
        "$('div#2b08205f-1843-4f7f-974d-837bedbd4baf').text('ETA:  0:00:03');"
       ],
       "metadata": {},
       "output_type": "display_data",
       "text": [
        "<IPython.core.display.Javascript at 0x1ff5e0b8>"
       ]
      },
      {
       "javascript": [
        "$('div#6858ba0f-a5a7-4bff-a77b-6725b8c8c183').text('16 of 98');"
       ],
       "metadata": {},
       "output_type": "display_data",
       "text": [
        "<IPython.core.display.Javascript at 0x1ff5ec18>"
       ]
      },
      {
       "javascript": [
        "$('div#ade2d04e-b3ff-4d60-8bee-38076f6024ed').text(' 16%');"
       ],
       "metadata": {},
       "output_type": "display_data",
       "text": [
        "<IPython.core.display.Javascript at 0x1ff5e240>"
       ]
      },
      {
       "javascript": [
        "\n",
        "        var $myPB = $(\"div#97d49072-c1cb-441f-96a9-fe20754dc9f7\")\n",
        "        if ($myPB.hasClass('ui-progressbar')) {\n",
        "            $myPB.progressbar('value', 16);\n",
        "        } else {\n",
        "            $myPB.progressbar({value: 0, max: 98});\n",
        "        }\n",
        "        "
       ],
       "metadata": {},
       "output_type": "display_data",
       "text": [
        "<IPython.core.display.Javascript at 0x1ff5e240>"
       ]
      },
      {
       "javascript": [
        "$('div#2b08205f-1843-4f7f-974d-837bedbd4baf').text('ETA:  0:00:03');"
       ],
       "metadata": {},
       "output_type": "display_data",
       "text": [
        "<IPython.core.display.Javascript at 0x1ff5e898>"
       ]
      },
      {
       "javascript": [
        "$('div#6858ba0f-a5a7-4bff-a77b-6725b8c8c183').text('17 of 98');"
       ],
       "metadata": {},
       "output_type": "display_data",
       "text": [
        "<IPython.core.display.Javascript at 0x1af803c8>"
       ]
      },
      {
       "javascript": [
        "$('div#ade2d04e-b3ff-4d60-8bee-38076f6024ed').text(' 17%');"
       ],
       "metadata": {},
       "output_type": "display_data",
       "text": [
        "<IPython.core.display.Javascript at 0x1af80d30>"
       ]
      },
      {
       "javascript": [
        "\n",
        "        var $myPB = $(\"div#97d49072-c1cb-441f-96a9-fe20754dc9f7\")\n",
        "        if ($myPB.hasClass('ui-progressbar')) {\n",
        "            $myPB.progressbar('value', 17);\n",
        "        } else {\n",
        "            $myPB.progressbar({value: 0, max: 98});\n",
        "        }\n",
        "        "
       ],
       "metadata": {},
       "output_type": "display_data",
       "text": [
        "<IPython.core.display.Javascript at 0x1af80d30>"
       ]
      },
      {
       "javascript": [
        "$('div#2b08205f-1843-4f7f-974d-837bedbd4baf').text('ETA:  0:00:03');"
       ],
       "metadata": {},
       "output_type": "display_data",
       "text": [
        "<IPython.core.display.Javascript at 0x1af80908>"
       ]
      },
      {
       "javascript": [
        "$('div#6858ba0f-a5a7-4bff-a77b-6725b8c8c183').text('18 of 98');"
       ],
       "metadata": {},
       "output_type": "display_data",
       "text": [
        "<IPython.core.display.Javascript at 0x1af80a20>"
       ]
      },
      {
       "javascript": [
        "$('div#ade2d04e-b3ff-4d60-8bee-38076f6024ed').text(' 18%');"
       ],
       "metadata": {},
       "output_type": "display_data",
       "text": [
        "<IPython.core.display.Javascript at 0x1af80c50>"
       ]
      },
      {
       "javascript": [
        "\n",
        "        var $myPB = $(\"div#97d49072-c1cb-441f-96a9-fe20754dc9f7\")\n",
        "        if ($myPB.hasClass('ui-progressbar')) {\n",
        "            $myPB.progressbar('value', 18);\n",
        "        } else {\n",
        "            $myPB.progressbar({value: 0, max: 98});\n",
        "        }\n",
        "        "
       ],
       "metadata": {},
       "output_type": "display_data",
       "text": [
        "<IPython.core.display.Javascript at 0x1af80c50>"
       ]
      },
      {
       "javascript": [
        "$('div#2b08205f-1843-4f7f-974d-837bedbd4baf').text('ETA:  0:00:03');"
       ],
       "metadata": {},
       "output_type": "display_data",
       "text": [
        "<IPython.core.display.Javascript at 0x1af80898>"
       ]
      },
      {
       "javascript": [
        "$('div#6858ba0f-a5a7-4bff-a77b-6725b8c8c183').text('19 of 98');"
       ],
       "metadata": {},
       "output_type": "display_data",
       "text": [
        "<IPython.core.display.Javascript at 0x255b5390>"
       ]
      },
      {
       "javascript": [
        "$('div#ade2d04e-b3ff-4d60-8bee-38076f6024ed').text(' 19%');"
       ],
       "metadata": {},
       "output_type": "display_data",
       "text": [
        "<IPython.core.display.Javascript at 0x255b5390>"
       ]
      },
      {
       "javascript": [
        "\n",
        "        var $myPB = $(\"div#97d49072-c1cb-441f-96a9-fe20754dc9f7\")\n",
        "        if ($myPB.hasClass('ui-progressbar')) {\n",
        "            $myPB.progressbar('value', 19);\n",
        "        } else {\n",
        "            $myPB.progressbar({value: 0, max: 98});\n",
        "        }\n",
        "        "
       ],
       "metadata": {},
       "output_type": "display_data",
       "text": [
        "<IPython.core.display.Javascript at 0x255b5b00>"
       ]
      },
      {
       "javascript": [
        "$('div#2b08205f-1843-4f7f-974d-837bedbd4baf').text('ETA:  0:00:03');"
       ],
       "metadata": {},
       "output_type": "display_data",
       "text": [
        "<IPython.core.display.Javascript at 0x255b5588>"
       ]
      },
      {
       "javascript": [
        "$('div#6858ba0f-a5a7-4bff-a77b-6725b8c8c183').text('20 of 98');"
       ],
       "metadata": {},
       "output_type": "display_data",
       "text": [
        "<IPython.core.display.Javascript at 0x255b54a8>"
       ]
      },
      {
       "javascript": [
        "$('div#ade2d04e-b3ff-4d60-8bee-38076f6024ed').text(' 20%');"
       ],
       "metadata": {},
       "output_type": "display_data",
       "text": [
        "<IPython.core.display.Javascript at 0x255b50b8>"
       ]
      },
      {
       "javascript": [
        "\n",
        "        var $myPB = $(\"div#97d49072-c1cb-441f-96a9-fe20754dc9f7\")\n",
        "        if ($myPB.hasClass('ui-progressbar')) {\n",
        "            $myPB.progressbar('value', 20);\n",
        "        } else {\n",
        "            $myPB.progressbar({value: 0, max: 98});\n",
        "        }\n",
        "        "
       ],
       "metadata": {},
       "output_type": "display_data",
       "text": [
        "<IPython.core.display.Javascript at 0x255b5320>"
       ]
      },
      {
       "javascript": [
        "$('div#2b08205f-1843-4f7f-974d-837bedbd4baf').text('ETA:  0:00:03');"
       ],
       "metadata": {},
       "output_type": "display_data",
       "text": [
        "<IPython.core.display.Javascript at 0x255b5e48>"
       ]
      },
      {
       "javascript": [
        "$('div#6858ba0f-a5a7-4bff-a77b-6725b8c8c183').text('21 of 98');"
       ],
       "metadata": {},
       "output_type": "display_data",
       "text": [
        "<IPython.core.display.Javascript at 0x1ed8f358>"
       ]
      },
      {
       "javascript": [
        "$('div#ade2d04e-b3ff-4d60-8bee-38076f6024ed').text(' 21%');"
       ],
       "metadata": {},
       "output_type": "display_data",
       "text": [
        "<IPython.core.display.Javascript at 0x1ed8f208>"
       ]
      },
      {
       "javascript": [
        "\n",
        "        var $myPB = $(\"div#97d49072-c1cb-441f-96a9-fe20754dc9f7\")\n",
        "        if ($myPB.hasClass('ui-progressbar')) {\n",
        "            $myPB.progressbar('value', 21);\n",
        "        } else {\n",
        "            $myPB.progressbar({value: 0, max: 98});\n",
        "        }\n",
        "        "
       ],
       "metadata": {},
       "output_type": "display_data",
       "text": [
        "<IPython.core.display.Javascript at 0x1ed8f208>"
       ]
      },
      {
       "javascript": [
        "$('div#2b08205f-1843-4f7f-974d-837bedbd4baf').text('ETA:  0:00:03');"
       ],
       "metadata": {},
       "output_type": "display_data",
       "text": [
        "<IPython.core.display.Javascript at 0x1ed8f8d0>"
       ]
      },
      {
       "javascript": [
        "$('div#6858ba0f-a5a7-4bff-a77b-6725b8c8c183').text('22 of 98');"
       ],
       "metadata": {},
       "output_type": "display_data",
       "text": [
        "<IPython.core.display.Javascript at 0x1ed8f4e0>"
       ]
      },
      {
       "javascript": [
        "$('div#ade2d04e-b3ff-4d60-8bee-38076f6024ed').text(' 22%');"
       ],
       "metadata": {},
       "output_type": "display_data",
       "text": [
        "<IPython.core.display.Javascript at 0x22f8a630>"
       ]
      },
      {
       "javascript": [
        "\n",
        "        var $myPB = $(\"div#97d49072-c1cb-441f-96a9-fe20754dc9f7\")\n",
        "        if ($myPB.hasClass('ui-progressbar')) {\n",
        "            $myPB.progressbar('value', 22);\n",
        "        } else {\n",
        "            $myPB.progressbar({value: 0, max: 98});\n",
        "        }\n",
        "        "
       ],
       "metadata": {},
       "output_type": "display_data",
       "text": [
        "<IPython.core.display.Javascript at 0x22f8a320>"
       ]
      },
      {
       "javascript": [
        "$('div#2b08205f-1843-4f7f-974d-837bedbd4baf').text('ETA:  0:00:02');"
       ],
       "metadata": {},
       "output_type": "display_data",
       "text": [
        "<IPython.core.display.Javascript at 0x1ed8f4e0>"
       ]
      },
      {
       "javascript": [
        "$('div#6858ba0f-a5a7-4bff-a77b-6725b8c8c183').text('23 of 98');"
       ],
       "metadata": {},
       "output_type": "display_data",
       "text": [
        "<IPython.core.display.Javascript at 0x22f8a710>"
       ]
      },
      {
       "javascript": [
        "$('div#ade2d04e-b3ff-4d60-8bee-38076f6024ed').text(' 23%');"
       ],
       "metadata": {},
       "output_type": "display_data",
       "text": [
        "<IPython.core.display.Javascript at 0x22f8a390>"
       ]
      },
      {
       "javascript": [
        "\n",
        "        var $myPB = $(\"div#97d49072-c1cb-441f-96a9-fe20754dc9f7\")\n",
        "        if ($myPB.hasClass('ui-progressbar')) {\n",
        "            $myPB.progressbar('value', 23);\n",
        "        } else {\n",
        "            $myPB.progressbar({value: 0, max: 98});\n",
        "        }\n",
        "        "
       ],
       "metadata": {},
       "output_type": "display_data",
       "text": [
        "<IPython.core.display.Javascript at 0x22f8a390>"
       ]
      },
      {
       "javascript": [
        "$('div#2b08205f-1843-4f7f-974d-837bedbd4baf').text('ETA:  0:00:02');"
       ],
       "metadata": {},
       "output_type": "display_data",
       "text": [
        "<IPython.core.display.Javascript at 0x22f8acf8>"
       ]
      },
      {
       "javascript": [
        "$('div#6858ba0f-a5a7-4bff-a77b-6725b8c8c183').text('24 of 98');"
       ],
       "metadata": {},
       "output_type": "display_data",
       "text": [
        "<IPython.core.display.Javascript at 0x233946a0>"
       ]
      },
      {
       "javascript": [
        "$('div#ade2d04e-b3ff-4d60-8bee-38076f6024ed').text(' 24%');"
       ],
       "metadata": {},
       "output_type": "display_data",
       "text": [
        "<IPython.core.display.Javascript at 0x23394320>"
       ]
      },
      {
       "javascript": [
        "\n",
        "        var $myPB = $(\"div#97d49072-c1cb-441f-96a9-fe20754dc9f7\")\n",
        "        if ($myPB.hasClass('ui-progressbar')) {\n",
        "            $myPB.progressbar('value', 24);\n",
        "        } else {\n",
        "            $myPB.progressbar({value: 0, max: 98});\n",
        "        }\n",
        "        "
       ],
       "metadata": {},
       "output_type": "display_data",
       "text": [
        "<IPython.core.display.Javascript at 0x23394358>"
       ]
      },
      {
       "javascript": [
        "$('div#2b08205f-1843-4f7f-974d-837bedbd4baf').text('ETA:  0:00:03');"
       ],
       "metadata": {},
       "output_type": "display_data",
       "text": [
        "<IPython.core.display.Javascript at 0x233940f0>"
       ]
      },
      {
       "javascript": [
        "$('div#6858ba0f-a5a7-4bff-a77b-6725b8c8c183').text('25 of 98');"
       ],
       "metadata": {},
       "output_type": "display_data",
       "text": [
        "<IPython.core.display.Javascript at 0x231eba90>"
       ]
      },
      {
       "javascript": [
        "$('div#ade2d04e-b3ff-4d60-8bee-38076f6024ed').text(' 25%');"
       ],
       "metadata": {},
       "output_type": "display_data",
       "text": [
        "<IPython.core.display.Javascript at 0x231eb9b0>"
       ]
      },
      {
       "javascript": [
        "\n",
        "        var $myPB = $(\"div#97d49072-c1cb-441f-96a9-fe20754dc9f7\")\n",
        "        if ($myPB.hasClass('ui-progressbar')) {\n",
        "            $myPB.progressbar('value', 25);\n",
        "        } else {\n",
        "            $myPB.progressbar({value: 0, max: 98});\n",
        "        }\n",
        "        "
       ],
       "metadata": {},
       "output_type": "display_data",
       "text": [
        "<IPython.core.display.Javascript at 0x231eb860>"
       ]
      },
      {
       "javascript": [
        "$('div#2b08205f-1843-4f7f-974d-837bedbd4baf').text('ETA:  0:00:03');"
       ],
       "metadata": {},
       "output_type": "display_data",
       "text": [
        "<IPython.core.display.Javascript at 0x231ebef0>"
       ]
      },
      {
       "javascript": [
        "$('div#6858ba0f-a5a7-4bff-a77b-6725b8c8c183').text('26 of 98');"
       ],
       "metadata": {},
       "output_type": "display_data",
       "text": [
        "<IPython.core.display.Javascript at 0x231ebcc0>"
       ]
      },
      {
       "javascript": [
        "$('div#ade2d04e-b3ff-4d60-8bee-38076f6024ed').text(' 26%');"
       ],
       "metadata": {},
       "output_type": "display_data",
       "text": [
        "<IPython.core.display.Javascript at 0x231ebda0>"
       ]
      },
      {
       "javascript": [
        "\n",
        "        var $myPB = $(\"div#97d49072-c1cb-441f-96a9-fe20754dc9f7\")\n",
        "        if ($myPB.hasClass('ui-progressbar')) {\n",
        "            $myPB.progressbar('value', 26);\n",
        "        } else {\n",
        "            $myPB.progressbar({value: 0, max: 98});\n",
        "        }\n",
        "        "
       ],
       "metadata": {},
       "output_type": "display_data",
       "text": [
        "<IPython.core.display.Javascript at 0x237eec18>"
       ]
      },
      {
       "javascript": [
        "$('div#2b08205f-1843-4f7f-974d-837bedbd4baf').text('ETA:  0:00:03');"
       ],
       "metadata": {},
       "output_type": "display_data",
       "text": [
        "<IPython.core.display.Javascript at 0x237ee7b8>"
       ]
      },
      {
       "javascript": [
        "$('div#6858ba0f-a5a7-4bff-a77b-6725b8c8c183').text('27 of 98');"
       ],
       "metadata": {},
       "output_type": "display_data",
       "text": [
        "<IPython.core.display.Javascript at 0x237eedd8>"
       ]
      },
      {
       "javascript": [
        "$('div#ade2d04e-b3ff-4d60-8bee-38076f6024ed').text(' 27%');"
       ],
       "metadata": {},
       "output_type": "display_data",
       "text": [
        "<IPython.core.display.Javascript at 0x237eef98>"
       ]
      },
      {
       "javascript": [
        "\n",
        "        var $myPB = $(\"div#97d49072-c1cb-441f-96a9-fe20754dc9f7\")\n",
        "        if ($myPB.hasClass('ui-progressbar')) {\n",
        "            $myPB.progressbar('value', 27);\n",
        "        } else {\n",
        "            $myPB.progressbar({value: 0, max: 98});\n",
        "        }\n",
        "        "
       ],
       "metadata": {},
       "output_type": "display_data",
       "text": [
        "<IPython.core.display.Javascript at 0x237ee668>"
       ]
      },
      {
       "javascript": [
        "$('div#2b08205f-1843-4f7f-974d-837bedbd4baf').text('ETA:  0:00:03');"
       ],
       "metadata": {},
       "output_type": "display_data",
       "text": [
        "<IPython.core.display.Javascript at 0x237ee668>"
       ]
      },
      {
       "javascript": [
        "$('div#6858ba0f-a5a7-4bff-a77b-6725b8c8c183').text('28 of 98');"
       ],
       "metadata": {},
       "output_type": "display_data",
       "text": [
        "<IPython.core.display.Javascript at 0x21a4aef0>"
       ]
      },
      {
       "javascript": [
        "$('div#ade2d04e-b3ff-4d60-8bee-38076f6024ed').text(' 28%');"
       ],
       "metadata": {},
       "output_type": "display_data",
       "text": [
        "<IPython.core.display.Javascript at 0x21a4a518>"
       ]
      },
      {
       "javascript": [
        "\n",
        "        var $myPB = $(\"div#97d49072-c1cb-441f-96a9-fe20754dc9f7\")\n",
        "        if ($myPB.hasClass('ui-progressbar')) {\n",
        "            $myPB.progressbar('value', 28);\n",
        "        } else {\n",
        "            $myPB.progressbar({value: 0, max: 98});\n",
        "        }\n",
        "        "
       ],
       "metadata": {},
       "output_type": "display_data",
       "text": [
        "<IPython.core.display.Javascript at 0x21a4a2e8>"
       ]
      },
      {
       "javascript": [
        "$('div#2b08205f-1843-4f7f-974d-837bedbd4baf').text('ETA:  0:00:03');"
       ],
       "metadata": {},
       "output_type": "display_data",
       "text": [
        "<IPython.core.display.Javascript at 0x21a4a8d0>"
       ]
      },
      {
       "javascript": [
        "$('div#6858ba0f-a5a7-4bff-a77b-6725b8c8c183').text('29 of 98');"
       ],
       "metadata": {},
       "output_type": "display_data",
       "text": [
        "<IPython.core.display.Javascript at 0x21a4a898>"
       ]
      },
      {
       "javascript": [
        "$('div#ade2d04e-b3ff-4d60-8bee-38076f6024ed').text(' 29%');"
       ],
       "metadata": {},
       "output_type": "display_data",
       "text": [
        "<IPython.core.display.Javascript at 0x21a4a0f0>"
       ]
      },
      {
       "javascript": [
        "\n",
        "        var $myPB = $(\"div#97d49072-c1cb-441f-96a9-fe20754dc9f7\")\n",
        "        if ($myPB.hasClass('ui-progressbar')) {\n",
        "            $myPB.progressbar('value', 29);\n",
        "        } else {\n",
        "            $myPB.progressbar({value: 0, max: 98});\n",
        "        }\n",
        "        "
       ],
       "metadata": {},
       "output_type": "display_data",
       "text": [
        "<IPython.core.display.Javascript at 0x21a4aa20>"
       ]
      },
      {
       "javascript": [
        "$('div#2b08205f-1843-4f7f-974d-837bedbd4baf').text('ETA:  0:00:03');"
       ],
       "metadata": {},
       "output_type": "display_data",
       "text": [
        "<IPython.core.display.Javascript at 0x21a4aa20>"
       ]
      },
      {
       "javascript": [
        "$('div#6858ba0f-a5a7-4bff-a77b-6725b8c8c183').text('30 of 98');"
       ],
       "metadata": {},
       "output_type": "display_data",
       "text": [
        "<IPython.core.display.Javascript at 0x21895c50>"
       ]
      },
      {
       "javascript": [
        "$('div#ade2d04e-b3ff-4d60-8bee-38076f6024ed').text(' 30%');"
       ],
       "metadata": {},
       "output_type": "display_data",
       "text": [
        "<IPython.core.display.Javascript at 0x21895978>"
       ]
      },
      {
       "javascript": [
        "\n",
        "        var $myPB = $(\"div#97d49072-c1cb-441f-96a9-fe20754dc9f7\")\n",
        "        if ($myPB.hasClass('ui-progressbar')) {\n",
        "            $myPB.progressbar('value', 30);\n",
        "        } else {\n",
        "            $myPB.progressbar({value: 0, max: 98});\n",
        "        }\n",
        "        "
       ],
       "metadata": {},
       "output_type": "display_data",
       "text": [
        "<IPython.core.display.Javascript at 0x21895978>"
       ]
      },
      {
       "javascript": [
        "$('div#2b08205f-1843-4f7f-974d-837bedbd4baf').text('ETA:  0:00:03');"
       ],
       "metadata": {},
       "output_type": "display_data",
       "text": [
        "<IPython.core.display.Javascript at 0x218952e8>"
       ]
      },
      {
       "javascript": [
        "$('div#6858ba0f-a5a7-4bff-a77b-6725b8c8c183').text('31 of 98');"
       ],
       "metadata": {},
       "output_type": "display_data",
       "text": [
        "<IPython.core.display.Javascript at 0x236c9da0>"
       ]
      },
      {
       "javascript": [
        "$('div#ade2d04e-b3ff-4d60-8bee-38076f6024ed').text(' 31%');"
       ],
       "metadata": {},
       "output_type": "display_data",
       "text": [
        "<IPython.core.display.Javascript at 0x236c9630>"
       ]
      },
      {
       "javascript": [
        "\n",
        "        var $myPB = $(\"div#97d49072-c1cb-441f-96a9-fe20754dc9f7\")\n",
        "        if ($myPB.hasClass('ui-progressbar')) {\n",
        "            $myPB.progressbar('value', 31);\n",
        "        } else {\n",
        "            $myPB.progressbar({value: 0, max: 98});\n",
        "        }\n",
        "        "
       ],
       "metadata": {},
       "output_type": "display_data",
       "text": [
        "<IPython.core.display.Javascript at 0x236c95c0>"
       ]
      },
      {
       "javascript": [
        "$('div#2b08205f-1843-4f7f-974d-837bedbd4baf').text('ETA:  0:00:03');"
       ],
       "metadata": {},
       "output_type": "display_data",
       "text": [
        "<IPython.core.display.Javascript at 0x236c9a20>"
       ]
      },
      {
       "javascript": [
        "$('div#6858ba0f-a5a7-4bff-a77b-6725b8c8c183').text('32 of 98');"
       ],
       "metadata": {},
       "output_type": "display_data",
       "text": [
        "<IPython.core.display.Javascript at 0x1f5c9470>"
       ]
      },
      {
       "javascript": [
        "$('div#ade2d04e-b3ff-4d60-8bee-38076f6024ed').text(' 32%');"
       ],
       "metadata": {},
       "output_type": "display_data",
       "text": [
        "<IPython.core.display.Javascript at 0x1f5c9b70>"
       ]
      },
      {
       "javascript": [
        "\n",
        "        var $myPB = $(\"div#97d49072-c1cb-441f-96a9-fe20754dc9f7\")\n",
        "        if ($myPB.hasClass('ui-progressbar')) {\n",
        "            $myPB.progressbar('value', 32);\n",
        "        } else {\n",
        "            $myPB.progressbar({value: 0, max: 98});\n",
        "        }\n",
        "        "
       ],
       "metadata": {},
       "output_type": "display_data",
       "text": [
        "<IPython.core.display.Javascript at 0x1f5c9b70>"
       ]
      },
      {
       "javascript": [
        "$('div#2b08205f-1843-4f7f-974d-837bedbd4baf').text('ETA:  0:00:03');"
       ],
       "metadata": {},
       "output_type": "display_data",
       "text": [
        "<IPython.core.display.Javascript at 0x1f5c9860>"
       ]
      },
      {
       "javascript": [
        "$('div#6858ba0f-a5a7-4bff-a77b-6725b8c8c183').text('33 of 98');"
       ],
       "metadata": {},
       "output_type": "display_data",
       "text": [
        "<IPython.core.display.Javascript at 0x1f5c9630>"
       ]
      },
      {
       "javascript": [
        "$('div#ade2d04e-b3ff-4d60-8bee-38076f6024ed').text(' 33%');"
       ],
       "metadata": {},
       "output_type": "display_data",
       "text": [
        "<IPython.core.display.Javascript at 0x1f5c9f60>"
       ]
      },
      {
       "javascript": [
        "\n",
        "        var $myPB = $(\"div#97d49072-c1cb-441f-96a9-fe20754dc9f7\")\n",
        "        if ($myPB.hasClass('ui-progressbar')) {\n",
        "            $myPB.progressbar('value', 33);\n",
        "        } else {\n",
        "            $myPB.progressbar({value: 0, max: 98});\n",
        "        }\n",
        "        "
       ],
       "metadata": {},
       "output_type": "display_data",
       "text": [
        "<IPython.core.display.Javascript at 0x1f5c9240>"
       ]
      },
      {
       "javascript": [
        "$('div#2b08205f-1843-4f7f-974d-837bedbd4baf').text('ETA:  0:00:03');"
       ],
       "metadata": {},
       "output_type": "display_data",
       "text": [
        "<IPython.core.display.Javascript at 0x1f5c9240>"
       ]
      },
      {
       "javascript": [
        "$('div#6858ba0f-a5a7-4bff-a77b-6725b8c8c183').text('34 of 98');"
       ],
       "metadata": {},
       "output_type": "display_data",
       "text": [
        "<IPython.core.display.Javascript at 0x1f5c9c18>"
       ]
      },
      {
       "javascript": [
        "$('div#ade2d04e-b3ff-4d60-8bee-38076f6024ed').text(' 34%');"
       ],
       "metadata": {},
       "output_type": "display_data",
       "text": [
        "<IPython.core.display.Javascript at 0x2472a4a8>"
       ]
      },
      {
       "javascript": [
        "\n",
        "        var $myPB = $(\"div#97d49072-c1cb-441f-96a9-fe20754dc9f7\")\n",
        "        if ($myPB.hasClass('ui-progressbar')) {\n",
        "            $myPB.progressbar('value', 34);\n",
        "        } else {\n",
        "            $myPB.progressbar({value: 0, max: 98});\n",
        "        }\n",
        "        "
       ],
       "metadata": {},
       "output_type": "display_data",
       "text": [
        "<IPython.core.display.Javascript at 0x1f5c9c18>"
       ]
      },
      {
       "javascript": [
        "$('div#2b08205f-1843-4f7f-974d-837bedbd4baf').text('ETA:  0:00:02');"
       ],
       "metadata": {},
       "output_type": "display_data",
       "text": [
        "<IPython.core.display.Javascript at 0x2472a4a8>"
       ]
      },
      {
       "javascript": [
        "$('div#6858ba0f-a5a7-4bff-a77b-6725b8c8c183').text('35 of 98');"
       ],
       "metadata": {},
       "output_type": "display_data",
       "text": [
        "<IPython.core.display.Javascript at 0x2472aef0>"
       ]
      },
      {
       "javascript": [
        "$('div#ade2d04e-b3ff-4d60-8bee-38076f6024ed').text(' 35%');"
       ],
       "metadata": {},
       "output_type": "display_data",
       "text": [
        "<IPython.core.display.Javascript at 0x2472ada0>"
       ]
      },
      {
       "javascript": [
        "\n",
        "        var $myPB = $(\"div#97d49072-c1cb-441f-96a9-fe20754dc9f7\")\n",
        "        if ($myPB.hasClass('ui-progressbar')) {\n",
        "            $myPB.progressbar('value', 35);\n",
        "        } else {\n",
        "            $myPB.progressbar({value: 0, max: 98});\n",
        "        }\n",
        "        "
       ],
       "metadata": {},
       "output_type": "display_data",
       "text": [
        "<IPython.core.display.Javascript at 0x2472a6a0>"
       ]
      },
      {
       "javascript": [
        "$('div#2b08205f-1843-4f7f-974d-837bedbd4baf').text('ETA:  0:00:02');"
       ],
       "metadata": {},
       "output_type": "display_data",
       "text": [
        "<IPython.core.display.Javascript at 0x2472aac8>"
       ]
      },
      {
       "javascript": [
        "$('div#6858ba0f-a5a7-4bff-a77b-6725b8c8c183').text('36 of 98');"
       ],
       "metadata": {},
       "output_type": "display_data",
       "text": [
        "<IPython.core.display.Javascript at 0x2472a7f0>"
       ]
      },
      {
       "javascript": [
        "$('div#ade2d04e-b3ff-4d60-8bee-38076f6024ed').text(' 36%');"
       ],
       "metadata": {},
       "output_type": "display_data",
       "text": [
        "<IPython.core.display.Javascript at 0x2472a208>"
       ]
      },
      {
       "javascript": [
        "\n",
        "        var $myPB = $(\"div#97d49072-c1cb-441f-96a9-fe20754dc9f7\")\n",
        "        if ($myPB.hasClass('ui-progressbar')) {\n",
        "            $myPB.progressbar('value', 36);\n",
        "        } else {\n",
        "            $myPB.progressbar({value: 0, max: 98});\n",
        "        }\n",
        "        "
       ],
       "metadata": {},
       "output_type": "display_data",
       "text": [
        "<IPython.core.display.Javascript at 0x2472a518>"
       ]
      },
      {
       "javascript": [
        "$('div#2b08205f-1843-4f7f-974d-837bedbd4baf').text('ETA:  0:00:02');"
       ],
       "metadata": {},
       "output_type": "display_data",
       "text": [
        "<IPython.core.display.Javascript at 0x2472a9b0>"
       ]
      },
      {
       "javascript": [
        "$('div#6858ba0f-a5a7-4bff-a77b-6725b8c8c183').text('37 of 98');"
       ],
       "metadata": {},
       "output_type": "display_data",
       "text": [
        "<IPython.core.display.Javascript at 0x24259cf8>"
       ]
      },
      {
       "javascript": [
        "$('div#ade2d04e-b3ff-4d60-8bee-38076f6024ed').text(' 37%');"
       ],
       "metadata": {},
       "output_type": "display_data",
       "text": [
        "<IPython.core.display.Javascript at 0x24259d30>"
       ]
      },
      {
       "javascript": [
        "\n",
        "        var $myPB = $(\"div#97d49072-c1cb-441f-96a9-fe20754dc9f7\")\n",
        "        if ($myPB.hasClass('ui-progressbar')) {\n",
        "            $myPB.progressbar('value', 37);\n",
        "        } else {\n",
        "            $myPB.progressbar({value: 0, max: 98});\n",
        "        }\n",
        "        "
       ],
       "metadata": {},
       "output_type": "display_data",
       "text": [
        "<IPython.core.display.Javascript at 0x24259c88>"
       ]
      },
      {
       "javascript": [
        "$('div#2b08205f-1843-4f7f-974d-837bedbd4baf').text('ETA:  0:00:02');"
       ],
       "metadata": {},
       "output_type": "display_data",
       "text": [
        "<IPython.core.display.Javascript at 0x24259c88>"
       ]
      },
      {
       "javascript": [
        "$('div#6858ba0f-a5a7-4bff-a77b-6725b8c8c183').text('38 of 98');"
       ],
       "metadata": {},
       "output_type": "display_data",
       "text": [
        "<IPython.core.display.Javascript at 0x1f80b400>"
       ]
      },
      {
       "javascript": [
        "$('div#ade2d04e-b3ff-4d60-8bee-38076f6024ed').text(' 38%');"
       ],
       "metadata": {},
       "output_type": "display_data",
       "text": [
        "<IPython.core.display.Javascript at 0x1ab13d68>"
       ]
      },
      {
       "javascript": [
        "\n",
        "        var $myPB = $(\"div#97d49072-c1cb-441f-96a9-fe20754dc9f7\")\n",
        "        if ($myPB.hasClass('ui-progressbar')) {\n",
        "            $myPB.progressbar('value', 38);\n",
        "        } else {\n",
        "            $myPB.progressbar({value: 0, max: 98});\n",
        "        }\n",
        "        "
       ],
       "metadata": {},
       "output_type": "display_data",
       "text": [
        "<IPython.core.display.Javascript at 0x1ab13160>"
       ]
      },
      {
       "javascript": [
        "$('div#2b08205f-1843-4f7f-974d-837bedbd4baf').text('ETA:  0:00:02');"
       ],
       "metadata": {},
       "output_type": "display_data",
       "text": [
        "<IPython.core.display.Javascript at 0x24259f28>"
       ]
      },
      {
       "javascript": [
        "$('div#6858ba0f-a5a7-4bff-a77b-6725b8c8c183').text('39 of 98');"
       ],
       "metadata": {},
       "output_type": "display_data",
       "text": [
        "<IPython.core.display.Javascript at 0x242591d0>"
       ]
      },
      {
       "javascript": [
        "$('div#ade2d04e-b3ff-4d60-8bee-38076f6024ed').text(' 39%');"
       ],
       "metadata": {},
       "output_type": "display_data",
       "text": [
        "<IPython.core.display.Javascript at 0x24259dd8>"
       ]
      },
      {
       "javascript": [
        "\n",
        "        var $myPB = $(\"div#97d49072-c1cb-441f-96a9-fe20754dc9f7\")\n",
        "        if ($myPB.hasClass('ui-progressbar')) {\n",
        "            $myPB.progressbar('value', 39);\n",
        "        } else {\n",
        "            $myPB.progressbar({value: 0, max: 98});\n",
        "        }\n",
        "        "
       ],
       "metadata": {},
       "output_type": "display_data",
       "text": [
        "<IPython.core.display.Javascript at 0x24259940>"
       ]
      },
      {
       "javascript": [
        "$('div#2b08205f-1843-4f7f-974d-837bedbd4baf').text('ETA:  0:00:02');"
       ],
       "metadata": {},
       "output_type": "display_data",
       "text": [
        "<IPython.core.display.Javascript at 0x24259588>"
       ]
      },
      {
       "javascript": [
        "$('div#6858ba0f-a5a7-4bff-a77b-6725b8c8c183').text('40 of 98');"
       ],
       "metadata": {},
       "output_type": "display_data",
       "text": [
        "<IPython.core.display.Javascript at 0x213ddf98>"
       ]
      },
      {
       "javascript": [
        "$('div#ade2d04e-b3ff-4d60-8bee-38076f6024ed').text(' 40%');"
       ],
       "metadata": {},
       "output_type": "display_data",
       "text": [
        "<IPython.core.display.Javascript at 0x213dd3c8>"
       ]
      },
      {
       "javascript": [
        "\n",
        "        var $myPB = $(\"div#97d49072-c1cb-441f-96a9-fe20754dc9f7\")\n",
        "        if ($myPB.hasClass('ui-progressbar')) {\n",
        "            $myPB.progressbar('value', 40);\n",
        "        } else {\n",
        "            $myPB.progressbar({value: 0, max: 98});\n",
        "        }\n",
        "        "
       ],
       "metadata": {},
       "output_type": "display_data",
       "text": [
        "<IPython.core.display.Javascript at 0x213ddb38>"
       ]
      },
      {
       "javascript": [
        "$('div#2b08205f-1843-4f7f-974d-837bedbd4baf').text('ETA:  0:00:02');"
       ],
       "metadata": {},
       "output_type": "display_data",
       "text": [
        "<IPython.core.display.Javascript at 0x213ddcc0>"
       ]
      },
      {
       "javascript": [
        "$('div#6858ba0f-a5a7-4bff-a77b-6725b8c8c183').text('41 of 98');"
       ],
       "metadata": {},
       "output_type": "display_data",
       "text": [
        "<IPython.core.display.Javascript at 0x213ddf98>"
       ]
      },
      {
       "javascript": [
        "$('div#ade2d04e-b3ff-4d60-8bee-38076f6024ed').text(' 41%');"
       ],
       "metadata": {},
       "output_type": "display_data",
       "text": [
        "<IPython.core.display.Javascript at 0x213dd240>"
       ]
      },
      {
       "javascript": [
        "\n",
        "        var $myPB = $(\"div#97d49072-c1cb-441f-96a9-fe20754dc9f7\")\n",
        "        if ($myPB.hasClass('ui-progressbar')) {\n",
        "            $myPB.progressbar('value', 41);\n",
        "        } else {\n",
        "            $myPB.progressbar({value: 0, max: 98});\n",
        "        }\n",
        "        "
       ],
       "metadata": {},
       "output_type": "display_data",
       "text": [
        "<IPython.core.display.Javascript at 0x24b31b70>"
       ]
      },
      {
       "javascript": [
        "$('div#2b08205f-1843-4f7f-974d-837bedbd4baf').text('ETA:  0:00:02');"
       ],
       "metadata": {},
       "output_type": "display_data",
       "text": [
        "<IPython.core.display.Javascript at 0x24b31470>"
       ]
      },
      {
       "javascript": [
        "$('div#6858ba0f-a5a7-4bff-a77b-6725b8c8c183').text('42 of 98');"
       ],
       "metadata": {},
       "output_type": "display_data",
       "text": [
        "<IPython.core.display.Javascript at 0x24b31400>"
       ]
      },
      {
       "javascript": [
        "$('div#ade2d04e-b3ff-4d60-8bee-38076f6024ed').text(' 42%');"
       ],
       "metadata": {},
       "output_type": "display_data",
       "text": [
        "<IPython.core.display.Javascript at 0x24b31a20>"
       ]
      },
      {
       "javascript": [
        "\n",
        "        var $myPB = $(\"div#97d49072-c1cb-441f-96a9-fe20754dc9f7\")\n",
        "        if ($myPB.hasClass('ui-progressbar')) {\n",
        "            $myPB.progressbar('value', 42);\n",
        "        } else {\n",
        "            $myPB.progressbar({value: 0, max: 98});\n",
        "        }\n",
        "        "
       ],
       "metadata": {},
       "output_type": "display_data",
       "text": [
        "<IPython.core.display.Javascript at 0x24b31ef0>"
       ]
      },
      {
       "javascript": [
        "$('div#2b08205f-1843-4f7f-974d-837bedbd4baf').text('ETA:  0:00:02');"
       ],
       "metadata": {},
       "output_type": "display_data",
       "text": [
        "<IPython.core.display.Javascript at 0x24b31ef0>"
       ]
      },
      {
       "javascript": [
        "$('div#6858ba0f-a5a7-4bff-a77b-6725b8c8c183').text('43 of 98');"
       ],
       "metadata": {},
       "output_type": "display_data",
       "text": [
        "<IPython.core.display.Javascript at 0x24b317b8>"
       ]
      },
      {
       "javascript": [
        "$('div#ade2d04e-b3ff-4d60-8bee-38076f6024ed').text(' 43%');"
       ],
       "metadata": {},
       "output_type": "display_data",
       "text": [
        "<IPython.core.display.Javascript at 0x24b313c8>"
       ]
      },
      {
       "javascript": [
        "\n",
        "        var $myPB = $(\"div#97d49072-c1cb-441f-96a9-fe20754dc9f7\")\n",
        "        if ($myPB.hasClass('ui-progressbar')) {\n",
        "            $myPB.progressbar('value', 43);\n",
        "        } else {\n",
        "            $myPB.progressbar({value: 0, max: 98});\n",
        "        }\n",
        "        "
       ],
       "metadata": {},
       "output_type": "display_data",
       "text": [
        "<IPython.core.display.Javascript at 0x24b31e10>"
       ]
      },
      {
       "javascript": [
        "$('div#2b08205f-1843-4f7f-974d-837bedbd4baf').text('ETA:  0:00:02');"
       ],
       "metadata": {},
       "output_type": "display_data",
       "text": [
        "<IPython.core.display.Javascript at 0x24b31e10>"
       ]
      },
      {
       "javascript": [
        "$('div#6858ba0f-a5a7-4bff-a77b-6725b8c8c183').text('44 of 98');"
       ],
       "metadata": {},
       "output_type": "display_data",
       "text": [
        "<IPython.core.display.Javascript at 0x24b31550>"
       ]
      },
      {
       "javascript": [
        "$('div#ade2d04e-b3ff-4d60-8bee-38076f6024ed').text(' 44%');"
       ],
       "metadata": {},
       "output_type": "display_data",
       "text": [
        "<IPython.core.display.Javascript at 0x24b31eb8>"
       ]
      },
      {
       "javascript": [
        "\n",
        "        var $myPB = $(\"div#97d49072-c1cb-441f-96a9-fe20754dc9f7\")\n",
        "        if ($myPB.hasClass('ui-progressbar')) {\n",
        "            $myPB.progressbar('value', 44);\n",
        "        } else {\n",
        "            $myPB.progressbar({value: 0, max: 98});\n",
        "        }\n",
        "        "
       ],
       "metadata": {},
       "output_type": "display_data",
       "text": [
        "<IPython.core.display.Javascript at 0x24b31b00>"
       ]
      },
      {
       "javascript": [
        "$('div#2b08205f-1843-4f7f-974d-837bedbd4baf').text('ETA:  0:00:02');"
       ],
       "metadata": {},
       "output_type": "display_data",
       "text": [
        "<IPython.core.display.Javascript at 0x24b31b00>"
       ]
      },
      {
       "javascript": [
        "$('div#6858ba0f-a5a7-4bff-a77b-6725b8c8c183').text('45 of 98');"
       ],
       "metadata": {},
       "output_type": "display_data",
       "text": [
        "<IPython.core.display.Javascript at 0x24b31da0>"
       ]
      },
      {
       "javascript": [
        "$('div#ade2d04e-b3ff-4d60-8bee-38076f6024ed').text(' 45%');"
       ],
       "metadata": {},
       "output_type": "display_data",
       "text": [
        "<IPython.core.display.Javascript at 0x24b31da0>"
       ]
      },
      {
       "javascript": [
        "\n",
        "        var $myPB = $(\"div#97d49072-c1cb-441f-96a9-fe20754dc9f7\")\n",
        "        if ($myPB.hasClass('ui-progressbar')) {\n",
        "            $myPB.progressbar('value', 45);\n",
        "        } else {\n",
        "            $myPB.progressbar({value: 0, max: 98});\n",
        "        }\n",
        "        "
       ],
       "metadata": {},
       "output_type": "display_data",
       "text": [
        "<IPython.core.display.Javascript at 0x24b31ba8>"
       ]
      },
      {
       "javascript": [
        "$('div#2b08205f-1843-4f7f-974d-837bedbd4baf').text('ETA:  0:00:02');"
       ],
       "metadata": {},
       "output_type": "display_data",
       "text": [
        "<IPython.core.display.Javascript at 0x24b31ac8>"
       ]
      },
      {
       "javascript": [
        "$('div#6858ba0f-a5a7-4bff-a77b-6725b8c8c183').text('46 of 98');"
       ],
       "metadata": {},
       "output_type": "display_data",
       "text": [
        "<IPython.core.display.Javascript at 0x24b31e80>"
       ]
      },
      {
       "javascript": [
        "$('div#ade2d04e-b3ff-4d60-8bee-38076f6024ed').text(' 46%');"
       ],
       "metadata": {},
       "output_type": "display_data",
       "text": [
        "<IPython.core.display.Javascript at 0x24b314e0>"
       ]
      },
      {
       "javascript": [
        "\n",
        "        var $myPB = $(\"div#97d49072-c1cb-441f-96a9-fe20754dc9f7\")\n",
        "        if ($myPB.hasClass('ui-progressbar')) {\n",
        "            $myPB.progressbar('value', 46);\n",
        "        } else {\n",
        "            $myPB.progressbar({value: 0, max: 98});\n",
        "        }\n",
        "        "
       ],
       "metadata": {},
       "output_type": "display_data",
       "text": [
        "<IPython.core.display.Javascript at 0x24b314a8>"
       ]
      },
      {
       "javascript": [
        "$('div#2b08205f-1843-4f7f-974d-837bedbd4baf').text('ETA:  0:00:02');"
       ],
       "metadata": {},
       "output_type": "display_data",
       "text": [
        "<IPython.core.display.Javascript at 0x24b31a90>"
       ]
      },
      {
       "javascript": [
        "$('div#6858ba0f-a5a7-4bff-a77b-6725b8c8c183').text('47 of 98');"
       ],
       "metadata": {},
       "output_type": "display_data",
       "text": [
        "<IPython.core.display.Javascript at 0x2263c940>"
       ]
      },
      {
       "javascript": [
        "$('div#ade2d04e-b3ff-4d60-8bee-38076f6024ed').text(' 47%');"
       ],
       "metadata": {},
       "output_type": "display_data",
       "text": [
        "<IPython.core.display.Javascript at 0x2263c940>"
       ]
      },
      {
       "javascript": [
        "\n",
        "        var $myPB = $(\"div#97d49072-c1cb-441f-96a9-fe20754dc9f7\")\n",
        "        if ($myPB.hasClass('ui-progressbar')) {\n",
        "            $myPB.progressbar('value', 47);\n",
        "        } else {\n",
        "            $myPB.progressbar({value: 0, max: 98});\n",
        "        }\n",
        "        "
       ],
       "metadata": {},
       "output_type": "display_data",
       "text": [
        "<IPython.core.display.Javascript at 0x2263c860>"
       ]
      },
      {
       "javascript": [
        "$('div#2b08205f-1843-4f7f-974d-837bedbd4baf').text('ETA:  0:00:01');"
       ],
       "metadata": {},
       "output_type": "display_data",
       "text": [
        "<IPython.core.display.Javascript at 0x2263c400>"
       ]
      },
      {
       "javascript": [
        "$('div#6858ba0f-a5a7-4bff-a77b-6725b8c8c183').text('48 of 98');"
       ],
       "metadata": {},
       "output_type": "display_data",
       "text": [
        "<IPython.core.display.Javascript at 0x2263c160>"
       ]
      },
      {
       "javascript": [
        "$('div#ade2d04e-b3ff-4d60-8bee-38076f6024ed').text(' 48%');"
       ],
       "metadata": {},
       "output_type": "display_data",
       "text": [
        "<IPython.core.display.Javascript at 0x2263cf28>"
       ]
      },
      {
       "javascript": [
        "\n",
        "        var $myPB = $(\"div#97d49072-c1cb-441f-96a9-fe20754dc9f7\")\n",
        "        if ($myPB.hasClass('ui-progressbar')) {\n",
        "            $myPB.progressbar('value', 48);\n",
        "        } else {\n",
        "            $myPB.progressbar({value: 0, max: 98});\n",
        "        }\n",
        "        "
       ],
       "metadata": {},
       "output_type": "display_data",
       "text": [
        "<IPython.core.display.Javascript at 0x2263c080>"
       ]
      },
      {
       "javascript": [
        "$('div#2b08205f-1843-4f7f-974d-837bedbd4baf').text('ETA:  0:00:01');"
       ],
       "metadata": {},
       "output_type": "display_data",
       "text": [
        "<IPython.core.display.Javascript at 0x2263c4e0>"
       ]
      },
      {
       "javascript": [
        "$('div#6858ba0f-a5a7-4bff-a77b-6725b8c8c183').text('49 of 98');"
       ],
       "metadata": {},
       "output_type": "display_data",
       "text": [
        "<IPython.core.display.Javascript at 0x2263c780>"
       ]
      },
      {
       "javascript": [
        "$('div#ade2d04e-b3ff-4d60-8bee-38076f6024ed').text(' 50%');"
       ],
       "metadata": {},
       "output_type": "display_data",
       "text": [
        "<IPython.core.display.Javascript at 0x2263c5c0>"
       ]
      },
      {
       "javascript": [
        "\n",
        "        var $myPB = $(\"div#97d49072-c1cb-441f-96a9-fe20754dc9f7\")\n",
        "        if ($myPB.hasClass('ui-progressbar')) {\n",
        "            $myPB.progressbar('value', 49);\n",
        "        } else {\n",
        "            $myPB.progressbar({value: 0, max: 98});\n",
        "        }\n",
        "        "
       ],
       "metadata": {},
       "output_type": "display_data",
       "text": [
        "<IPython.core.display.Javascript at 0x2263c5c0>"
       ]
      },
      {
       "javascript": [
        "$('div#2b08205f-1843-4f7f-974d-837bedbd4baf').text('ETA:  0:00:01');"
       ],
       "metadata": {},
       "output_type": "display_data",
       "text": [
        "<IPython.core.display.Javascript at 0x2263ce80>"
       ]
      },
      {
       "javascript": [
        "$('div#6858ba0f-a5a7-4bff-a77b-6725b8c8c183').text('50 of 98');"
       ],
       "metadata": {},
       "output_type": "display_data",
       "text": [
        "<IPython.core.display.Javascript at 0x23e188d0>"
       ]
      },
      {
       "javascript": [
        "$('div#ade2d04e-b3ff-4d60-8bee-38076f6024ed').text(' 51%');"
       ],
       "metadata": {},
       "output_type": "display_data",
       "text": [
        "<IPython.core.display.Javascript at 0x23e18518>"
       ]
      },
      {
       "javascript": [
        "\n",
        "        var $myPB = $(\"div#97d49072-c1cb-441f-96a9-fe20754dc9f7\")\n",
        "        if ($myPB.hasClass('ui-progressbar')) {\n",
        "            $myPB.progressbar('value', 50);\n",
        "        } else {\n",
        "            $myPB.progressbar({value: 0, max: 98});\n",
        "        }\n",
        "        "
       ],
       "metadata": {},
       "output_type": "display_data",
       "text": [
        "<IPython.core.display.Javascript at 0x23e186a0>"
       ]
      },
      {
       "javascript": [
        "$('div#2b08205f-1843-4f7f-974d-837bedbd4baf').text('ETA:  0:00:01');"
       ],
       "metadata": {},
       "output_type": "display_data",
       "text": [
        "<IPython.core.display.Javascript at 0x23e186a0>"
       ]
      },
      {
       "javascript": [
        "$('div#6858ba0f-a5a7-4bff-a77b-6725b8c8c183').text('51 of 98');"
       ],
       "metadata": {},
       "output_type": "display_data",
       "text": [
        "<IPython.core.display.Javascript at 0x2467db70>"
       ]
      },
      {
       "javascript": [
        "$('div#ade2d04e-b3ff-4d60-8bee-38076f6024ed').text(' 52%');"
       ],
       "metadata": {},
       "output_type": "display_data",
       "text": [
        "<IPython.core.display.Javascript at 0x2467db70>"
       ]
      },
      {
       "javascript": [
        "\n",
        "        var $myPB = $(\"div#97d49072-c1cb-441f-96a9-fe20754dc9f7\")\n",
        "        if ($myPB.hasClass('ui-progressbar')) {\n",
        "            $myPB.progressbar('value', 51);\n",
        "        } else {\n",
        "            $myPB.progressbar({value: 0, max: 98});\n",
        "        }\n",
        "        "
       ],
       "metadata": {},
       "output_type": "display_data",
       "text": [
        "<IPython.core.display.Javascript at 0x2467d940>"
       ]
      },
      {
       "javascript": [
        "$('div#2b08205f-1843-4f7f-974d-837bedbd4baf').text('ETA:  0:00:01');"
       ],
       "metadata": {},
       "output_type": "display_data",
       "text": [
        "<IPython.core.display.Javascript at 0x2467d4e0>"
       ]
      },
      {
       "javascript": [
        "$('div#6858ba0f-a5a7-4bff-a77b-6725b8c8c183').text('52 of 98');"
       ],
       "metadata": {},
       "output_type": "display_data",
       "text": [
        "<IPython.core.display.Javascript at 0x2467d860>"
       ]
      },
      {
       "javascript": [
        "$('div#ade2d04e-b3ff-4d60-8bee-38076f6024ed').text(' 53%');"
       ],
       "metadata": {},
       "output_type": "display_data",
       "text": [
        "<IPython.core.display.Javascript at 0x2467da20>"
       ]
      },
      {
       "javascript": [
        "\n",
        "        var $myPB = $(\"div#97d49072-c1cb-441f-96a9-fe20754dc9f7\")\n",
        "        if ($myPB.hasClass('ui-progressbar')) {\n",
        "            $myPB.progressbar('value', 52);\n",
        "        } else {\n",
        "            $myPB.progressbar({value: 0, max: 98});\n",
        "        }\n",
        "        "
       ],
       "metadata": {},
       "output_type": "display_data",
       "text": [
        "<IPython.core.display.Javascript at 0x2467d080>"
       ]
      },
      {
       "javascript": [
        "$('div#2b08205f-1843-4f7f-974d-837bedbd4baf').text('ETA:  0:00:01');"
       ],
       "metadata": {},
       "output_type": "display_data",
       "text": [
        "<IPython.core.display.Javascript at 0x2467d080>"
       ]
      },
      {
       "javascript": [
        "$('div#6858ba0f-a5a7-4bff-a77b-6725b8c8c183').text('53 of 98');"
       ],
       "metadata": {},
       "output_type": "display_data",
       "text": [
        "<IPython.core.display.Javascript at 0x25099cc0>"
       ]
      },
      {
       "javascript": [
        "$('div#ade2d04e-b3ff-4d60-8bee-38076f6024ed').text(' 54%');"
       ],
       "metadata": {},
       "output_type": "display_data",
       "text": [
        "<IPython.core.display.Javascript at 0x25099cc0>"
       ]
      },
      {
       "javascript": [
        "\n",
        "        var $myPB = $(\"div#97d49072-c1cb-441f-96a9-fe20754dc9f7\")\n",
        "        if ($myPB.hasClass('ui-progressbar')) {\n",
        "            $myPB.progressbar('value', 53);\n",
        "        } else {\n",
        "            $myPB.progressbar({value: 0, max: 98});\n",
        "        }\n",
        "        "
       ],
       "metadata": {},
       "output_type": "display_data",
       "text": [
        "<IPython.core.display.Javascript at 0x25099fd0>"
       ]
      },
      {
       "javascript": [
        "$('div#2b08205f-1843-4f7f-974d-837bedbd4baf').text('ETA:  0:00:01');"
       ],
       "metadata": {},
       "output_type": "display_data",
       "text": [
        "<IPython.core.display.Javascript at 0x25099a58>"
       ]
      },
      {
       "javascript": [
        "$('div#6858ba0f-a5a7-4bff-a77b-6725b8c8c183').text('54 of 98');"
       ],
       "metadata": {},
       "output_type": "display_data",
       "text": [
        "<IPython.core.display.Javascript at 0x1bf2f9e8>"
       ]
      },
      {
       "javascript": [
        "$('div#ade2d04e-b3ff-4d60-8bee-38076f6024ed').text(' 55%');"
       ],
       "metadata": {},
       "output_type": "display_data",
       "text": [
        "<IPython.core.display.Javascript at 0x1bf2fc18>"
       ]
      },
      {
       "javascript": [
        "\n",
        "        var $myPB = $(\"div#97d49072-c1cb-441f-96a9-fe20754dc9f7\")\n",
        "        if ($myPB.hasClass('ui-progressbar')) {\n",
        "            $myPB.progressbar('value', 54);\n",
        "        } else {\n",
        "            $myPB.progressbar({value: 0, max: 98});\n",
        "        }\n",
        "        "
       ],
       "metadata": {},
       "output_type": "display_data",
       "text": [
        "<IPython.core.display.Javascript at 0x1bf2f048>"
       ]
      },
      {
       "javascript": [
        "$('div#2b08205f-1843-4f7f-974d-837bedbd4baf').text('ETA:  0:00:01');"
       ],
       "metadata": {},
       "output_type": "display_data",
       "text": [
        "<IPython.core.display.Javascript at 0x1bf2feb8>"
       ]
      },
      {
       "javascript": [
        "$('div#6858ba0f-a5a7-4bff-a77b-6725b8c8c183').text('55 of 98');"
       ],
       "metadata": {},
       "output_type": "display_data",
       "text": [
        "<IPython.core.display.Javascript at 0x1abde710>"
       ]
      },
      {
       "javascript": [
        "$('div#ade2d04e-b3ff-4d60-8bee-38076f6024ed').text(' 56%');"
       ],
       "metadata": {},
       "output_type": "display_data",
       "text": [
        "<IPython.core.display.Javascript at 0x1abde7b8>"
       ]
      },
      {
       "javascript": [
        "\n",
        "        var $myPB = $(\"div#97d49072-c1cb-441f-96a9-fe20754dc9f7\")\n",
        "        if ($myPB.hasClass('ui-progressbar')) {\n",
        "            $myPB.progressbar('value', 55);\n",
        "        } else {\n",
        "            $myPB.progressbar({value: 0, max: 98});\n",
        "        }\n",
        "        "
       ],
       "metadata": {},
       "output_type": "display_data",
       "text": [
        "<IPython.core.display.Javascript at 0x1abdef98>"
       ]
      },
      {
       "javascript": [
        "$('div#2b08205f-1843-4f7f-974d-837bedbd4baf').text('ETA:  0:00:01');"
       ],
       "metadata": {},
       "output_type": "display_data",
       "text": [
        "<IPython.core.display.Javascript at 0x1abde780>"
       ]
      },
      {
       "javascript": [
        "$('div#6858ba0f-a5a7-4bff-a77b-6725b8c8c183').text('56 of 98');"
       ],
       "metadata": {},
       "output_type": "display_data",
       "text": [
        "<IPython.core.display.Javascript at 0x1abde6d8>"
       ]
      },
      {
       "javascript": [
        "$('div#ade2d04e-b3ff-4d60-8bee-38076f6024ed').text(' 57%');"
       ],
       "metadata": {},
       "output_type": "display_data",
       "text": [
        "<IPython.core.display.Javascript at 0x1abdea20>"
       ]
      },
      {
       "javascript": [
        "\n",
        "        var $myPB = $(\"div#97d49072-c1cb-441f-96a9-fe20754dc9f7\")\n",
        "        if ($myPB.hasClass('ui-progressbar')) {\n",
        "            $myPB.progressbar('value', 56);\n",
        "        } else {\n",
        "            $myPB.progressbar({value: 0, max: 98});\n",
        "        }\n",
        "        "
       ],
       "metadata": {},
       "output_type": "display_data",
       "text": [
        "<IPython.core.display.Javascript at 0x1abdef60>"
       ]
      },
      {
       "javascript": [
        "$('div#2b08205f-1843-4f7f-974d-837bedbd4baf').text('ETA:  0:00:01');"
       ],
       "metadata": {},
       "output_type": "display_data",
       "text": [
        "<IPython.core.display.Javascript at 0x1abdef60>"
       ]
      },
      {
       "javascript": [
        "$('div#6858ba0f-a5a7-4bff-a77b-6725b8c8c183').text('57 of 98');"
       ],
       "metadata": {},
       "output_type": "display_data",
       "text": [
        "<IPython.core.display.Javascript at 0x1b325160>"
       ]
      },
      {
       "javascript": [
        "$('div#ade2d04e-b3ff-4d60-8bee-38076f6024ed').text(' 58%');"
       ],
       "metadata": {},
       "output_type": "display_data",
       "text": [
        "<IPython.core.display.Javascript at 0x1b325550>"
       ]
      },
      {
       "javascript": [
        "\n",
        "        var $myPB = $(\"div#97d49072-c1cb-441f-96a9-fe20754dc9f7\")\n",
        "        if ($myPB.hasClass('ui-progressbar')) {\n",
        "            $myPB.progressbar('value', 57);\n",
        "        } else {\n",
        "            $myPB.progressbar({value: 0, max: 98});\n",
        "        }\n",
        "        "
       ],
       "metadata": {},
       "output_type": "display_data",
       "text": [
        "<IPython.core.display.Javascript at 0x1abdef60>"
       ]
      },
      {
       "javascript": [
        "$('div#2b08205f-1843-4f7f-974d-837bedbd4baf').text('ETA:  0:00:01');"
       ],
       "metadata": {},
       "output_type": "display_data",
       "text": [
        "<IPython.core.display.Javascript at 0x1b325550>"
       ]
      },
      {
       "javascript": [
        "$('div#6858ba0f-a5a7-4bff-a77b-6725b8c8c183').text('58 of 98');"
       ],
       "metadata": {},
       "output_type": "display_data",
       "text": [
        "<IPython.core.display.Javascript at 0x1f6cc208>"
       ]
      },
      {
       "javascript": [
        "$('div#ade2d04e-b3ff-4d60-8bee-38076f6024ed').text(' 59%');"
       ],
       "metadata": {},
       "output_type": "display_data",
       "text": [
        "<IPython.core.display.Javascript at 0x1f6cc0b8>"
       ]
      },
      {
       "javascript": [
        "\n",
        "        var $myPB = $(\"div#97d49072-c1cb-441f-96a9-fe20754dc9f7\")\n",
        "        if ($myPB.hasClass('ui-progressbar')) {\n",
        "            $myPB.progressbar('value', 58);\n",
        "        } else {\n",
        "            $myPB.progressbar({value: 0, max: 98});\n",
        "        }\n",
        "        "
       ],
       "metadata": {},
       "output_type": "display_data",
       "text": [
        "<IPython.core.display.Javascript at 0x1f6cc3c8>"
       ]
      },
      {
       "javascript": [
        "$('div#2b08205f-1843-4f7f-974d-837bedbd4baf').text('ETA:  0:00:01');"
       ],
       "metadata": {},
       "output_type": "display_data",
       "text": [
        "<IPython.core.display.Javascript at 0x1f6cc3c8>"
       ]
      },
      {
       "javascript": [
        "$('div#6858ba0f-a5a7-4bff-a77b-6725b8c8c183').text('59 of 98');"
       ],
       "metadata": {},
       "output_type": "display_data",
       "text": [
        "<IPython.core.display.Javascript at 0x1f6ccf28>"
       ]
      },
      {
       "javascript": [
        "$('div#ade2d04e-b3ff-4d60-8bee-38076f6024ed').text(' 60%');"
       ],
       "metadata": {},
       "output_type": "display_data",
       "text": [
        "<IPython.core.display.Javascript at 0x1f6cc7f0>"
       ]
      },
      {
       "javascript": [
        "\n",
        "        var $myPB = $(\"div#97d49072-c1cb-441f-96a9-fe20754dc9f7\")\n",
        "        if ($myPB.hasClass('ui-progressbar')) {\n",
        "            $myPB.progressbar('value', 59);\n",
        "        } else {\n",
        "            $myPB.progressbar({value: 0, max: 98});\n",
        "        }\n",
        "        "
       ],
       "metadata": {},
       "output_type": "display_data",
       "text": [
        "<IPython.core.display.Javascript at 0x1f6cc7f0>"
       ]
      },
      {
       "javascript": [
        "$('div#2b08205f-1843-4f7f-974d-837bedbd4baf').text('ETA:  0:00:01');"
       ],
       "metadata": {},
       "output_type": "display_data",
       "text": [
        "<IPython.core.display.Javascript at 0x1f6cceb8>"
       ]
      },
      {
       "javascript": [
        "$('div#6858ba0f-a5a7-4bff-a77b-6725b8c8c183').text('60 of 98');"
       ],
       "metadata": {},
       "output_type": "display_data",
       "text": [
        "<IPython.core.display.Javascript at 0x1f6ccda0>"
       ]
      },
      {
       "javascript": [
        "$('div#ade2d04e-b3ff-4d60-8bee-38076f6024ed').text(' 61%');"
       ],
       "metadata": {},
       "output_type": "display_data",
       "text": [
        "<IPython.core.display.Javascript at 0x1f1caf60>"
       ]
      },
      {
       "javascript": [
        "\n",
        "        var $myPB = $(\"div#97d49072-c1cb-441f-96a9-fe20754dc9f7\")\n",
        "        if ($myPB.hasClass('ui-progressbar')) {\n",
        "            $myPB.progressbar('value', 60);\n",
        "        } else {\n",
        "            $myPB.progressbar({value: 0, max: 98});\n",
        "        }\n",
        "        "
       ],
       "metadata": {},
       "output_type": "display_data",
       "text": [
        "<IPython.core.display.Javascript at 0x1f1ca630>"
       ]
      },
      {
       "javascript": [
        "$('div#2b08205f-1843-4f7f-974d-837bedbd4baf').text('ETA:  0:00:01');"
       ],
       "metadata": {},
       "output_type": "display_data",
       "text": [
        "<IPython.core.display.Javascript at 0x1f1ca128>"
       ]
      },
      {
       "javascript": [
        "$('div#6858ba0f-a5a7-4bff-a77b-6725b8c8c183').text('61 of 98');"
       ],
       "metadata": {},
       "output_type": "display_data",
       "text": [
        "<IPython.core.display.Javascript at 0x1eec3240>"
       ]
      },
      {
       "javascript": [
        "$('div#ade2d04e-b3ff-4d60-8bee-38076f6024ed').text(' 62%');"
       ],
       "metadata": {},
       "output_type": "display_data",
       "text": [
        "<IPython.core.display.Javascript at 0x1eec3240>"
       ]
      },
      {
       "javascript": [
        "\n",
        "        var $myPB = $(\"div#97d49072-c1cb-441f-96a9-fe20754dc9f7\")\n",
        "        if ($myPB.hasClass('ui-progressbar')) {\n",
        "            $myPB.progressbar('value', 61);\n",
        "        } else {\n",
        "            $myPB.progressbar({value: 0, max: 98});\n",
        "        }\n",
        "        "
       ],
       "metadata": {},
       "output_type": "display_data",
       "text": [
        "<IPython.core.display.Javascript at 0x1eec3d68>"
       ]
      },
      {
       "javascript": [
        "$('div#2b08205f-1843-4f7f-974d-837bedbd4baf').text('ETA:  0:00:01');"
       ],
       "metadata": {},
       "output_type": "display_data",
       "text": [
        "<IPython.core.display.Javascript at 0x1eec3a20>"
       ]
      },
      {
       "javascript": [
        "$('div#6858ba0f-a5a7-4bff-a77b-6725b8c8c183').text('62 of 98');"
       ],
       "metadata": {},
       "output_type": "display_data",
       "text": [
        "<IPython.core.display.Javascript at 0x215bbf28>"
       ]
      },
      {
       "javascript": [
        "$('div#ade2d04e-b3ff-4d60-8bee-38076f6024ed').text(' 63%');"
       ],
       "metadata": {},
       "output_type": "display_data",
       "text": [
        "<IPython.core.display.Javascript at 0x2182ff28>"
       ]
      },
      {
       "javascript": [
        "\n",
        "        var $myPB = $(\"div#97d49072-c1cb-441f-96a9-fe20754dc9f7\")\n",
        "        if ($myPB.hasClass('ui-progressbar')) {\n",
        "            $myPB.progressbar('value', 62);\n",
        "        } else {\n",
        "            $myPB.progressbar({value: 0, max: 98});\n",
        "        }\n",
        "        "
       ],
       "metadata": {},
       "output_type": "display_data",
       "text": [
        "<IPython.core.display.Javascript at 0x215bbf28>"
       ]
      },
      {
       "javascript": [
        "$('div#2b08205f-1843-4f7f-974d-837bedbd4baf').text('ETA:  0:00:01');"
       ],
       "metadata": {},
       "output_type": "display_data",
       "text": [
        "<IPython.core.display.Javascript at 0x2182ff28>"
       ]
      },
      {
       "javascript": [
        "$('div#6858ba0f-a5a7-4bff-a77b-6725b8c8c183').text('63 of 98');"
       ],
       "metadata": {},
       "output_type": "display_data",
       "text": [
        "<IPython.core.display.Javascript at 0x24367c50>"
       ]
      },
      {
       "javascript": [
        "$('div#ade2d04e-b3ff-4d60-8bee-38076f6024ed').text(' 64%');"
       ],
       "metadata": {},
       "output_type": "display_data",
       "text": [
        "<IPython.core.display.Javascript at 0x243677f0>"
       ]
      },
      {
       "javascript": [
        "\n",
        "        var $myPB = $(\"div#97d49072-c1cb-441f-96a9-fe20754dc9f7\")\n",
        "        if ($myPB.hasClass('ui-progressbar')) {\n",
        "            $myPB.progressbar('value', 63);\n",
        "        } else {\n",
        "            $myPB.progressbar({value: 0, max: 98});\n",
        "        }\n",
        "        "
       ],
       "metadata": {},
       "output_type": "display_data",
       "text": [
        "<IPython.core.display.Javascript at 0x24367be0>"
       ]
      },
      {
       "javascript": [
        "$('div#2b08205f-1843-4f7f-974d-837bedbd4baf').text('ETA:  0:00:01');"
       ],
       "metadata": {},
       "output_type": "display_data",
       "text": [
        "<IPython.core.display.Javascript at 0x24367be0>"
       ]
      },
      {
       "javascript": [
        "$('div#6858ba0f-a5a7-4bff-a77b-6725b8c8c183').text('64 of 98');"
       ],
       "metadata": {},
       "output_type": "display_data",
       "text": [
        "<IPython.core.display.Javascript at 0x18a030f0>"
       ]
      },
      {
       "javascript": [
        "$('div#ade2d04e-b3ff-4d60-8bee-38076f6024ed').text(' 65%');"
       ],
       "metadata": {},
       "output_type": "display_data",
       "text": [
        "<IPython.core.display.Javascript at 0x18a034e0>"
       ]
      },
      {
       "javascript": [
        "\n",
        "        var $myPB = $(\"div#97d49072-c1cb-441f-96a9-fe20754dc9f7\")\n",
        "        if ($myPB.hasClass('ui-progressbar')) {\n",
        "            $myPB.progressbar('value', 64);\n",
        "        } else {\n",
        "            $myPB.progressbar({value: 0, max: 98});\n",
        "        }\n",
        "        "
       ],
       "metadata": {},
       "output_type": "display_data",
       "text": [
        "<IPython.core.display.Javascript at 0x18a03940>"
       ]
      },
      {
       "javascript": [
        "$('div#2b08205f-1843-4f7f-974d-837bedbd4baf').text('ETA:  0:00:01');"
       ],
       "metadata": {},
       "output_type": "display_data",
       "text": [
        "<IPython.core.display.Javascript at 0x18a039e8>"
       ]
      },
      {
       "javascript": [
        "$('div#6858ba0f-a5a7-4bff-a77b-6725b8c8c183').text('65 of 98');"
       ],
       "metadata": {},
       "output_type": "display_data",
       "text": [
        "<IPython.core.display.Javascript at 0x2174c5f8>"
       ]
      },
      {
       "javascript": [
        "$('div#ade2d04e-b3ff-4d60-8bee-38076f6024ed').text(' 66%');"
       ],
       "metadata": {},
       "output_type": "display_data",
       "text": [
        "<IPython.core.display.Javascript at 0x246c3e80>"
       ]
      },
      {
       "javascript": [
        "\n",
        "        var $myPB = $(\"div#97d49072-c1cb-441f-96a9-fe20754dc9f7\")\n",
        "        if ($myPB.hasClass('ui-progressbar')) {\n",
        "            $myPB.progressbar('value', 65);\n",
        "        } else {\n",
        "            $myPB.progressbar({value: 0, max: 98});\n",
        "        }\n",
        "        "
       ],
       "metadata": {},
       "output_type": "display_data",
       "text": [
        "<IPython.core.display.Javascript at 0x246c38d0>"
       ]
      },
      {
       "javascript": [
        "$('div#2b08205f-1843-4f7f-974d-837bedbd4baf').text('ETA:  0:00:01');"
       ],
       "metadata": {},
       "output_type": "display_data",
       "text": [
        "<IPython.core.display.Javascript at 0x246c3f60>"
       ]
      },
      {
       "javascript": [
        "$('div#6858ba0f-a5a7-4bff-a77b-6725b8c8c183').text('66 of 98');"
       ],
       "metadata": {},
       "output_type": "display_data",
       "text": [
        "<IPython.core.display.Javascript at 0x22a7b518>"
       ]
      },
      {
       "javascript": [
        "$('div#ade2d04e-b3ff-4d60-8bee-38076f6024ed').text(' 67%');"
       ],
       "metadata": {},
       "output_type": "display_data",
       "text": [
        "<IPython.core.display.Javascript at 0x22a7be80>"
       ]
      },
      {
       "javascript": [
        "\n",
        "        var $myPB = $(\"div#97d49072-c1cb-441f-96a9-fe20754dc9f7\")\n",
        "        if ($myPB.hasClass('ui-progressbar')) {\n",
        "            $myPB.progressbar('value', 66);\n",
        "        } else {\n",
        "            $myPB.progressbar({value: 0, max: 98});\n",
        "        }\n",
        "        "
       ],
       "metadata": {},
       "output_type": "display_data",
       "text": [
        "<IPython.core.display.Javascript at 0x22a7bc18>"
       ]
      },
      {
       "javascript": [
        "$('div#2b08205f-1843-4f7f-974d-837bedbd4baf').text('ETA:  0:00:01');"
       ],
       "metadata": {},
       "output_type": "display_data",
       "text": [
        "<IPython.core.display.Javascript at 0x22a7b2e8>"
       ]
      },
      {
       "javascript": [
        "$('div#6858ba0f-a5a7-4bff-a77b-6725b8c8c183').text('67 of 98');"
       ],
       "metadata": {},
       "output_type": "display_data",
       "text": [
        "<IPython.core.display.Javascript at 0x19e36be0>"
       ]
      },
      {
       "javascript": [
        "$('div#ade2d04e-b3ff-4d60-8bee-38076f6024ed').text(' 68%');"
       ],
       "metadata": {},
       "output_type": "display_data",
       "text": [
        "<IPython.core.display.Javascript at 0x19e36be0>"
       ]
      },
      {
       "javascript": [
        "\n",
        "        var $myPB = $(\"div#97d49072-c1cb-441f-96a9-fe20754dc9f7\")\n",
        "        if ($myPB.hasClass('ui-progressbar')) {\n",
        "            $myPB.progressbar('value', 67);\n",
        "        } else {\n",
        "            $myPB.progressbar({value: 0, max: 98});\n",
        "        }\n",
        "        "
       ],
       "metadata": {},
       "output_type": "display_data",
       "text": [
        "<IPython.core.display.Javascript at 0x19e36710>"
       ]
      },
      {
       "javascript": [
        "$('div#2b08205f-1843-4f7f-974d-837bedbd4baf').text('ETA:  0:00:01');"
       ],
       "metadata": {},
       "output_type": "display_data",
       "text": [
        "<IPython.core.display.Javascript at 0x19e368d0>"
       ]
      },
      {
       "javascript": [
        "$('div#6858ba0f-a5a7-4bff-a77b-6725b8c8c183').text('68 of 98');"
       ],
       "metadata": {},
       "output_type": "display_data",
       "text": [
        "<IPython.core.display.Javascript at 0x19e36588>"
       ]
      },
      {
       "javascript": [
        "$('div#ade2d04e-b3ff-4d60-8bee-38076f6024ed').text(' 69%');"
       ],
       "metadata": {},
       "output_type": "display_data",
       "text": [
        "<IPython.core.display.Javascript at 0x19e36dd8>"
       ]
      },
      {
       "javascript": [
        "\n",
        "        var $myPB = $(\"div#97d49072-c1cb-441f-96a9-fe20754dc9f7\")\n",
        "        if ($myPB.hasClass('ui-progressbar')) {\n",
        "            $myPB.progressbar('value', 68);\n",
        "        } else {\n",
        "            $myPB.progressbar({value: 0, max: 98});\n",
        "        }\n",
        "        "
       ],
       "metadata": {},
       "output_type": "display_data",
       "text": [
        "<IPython.core.display.Javascript at 0x19e36dd8>"
       ]
      },
      {
       "javascript": [
        "$('div#2b08205f-1843-4f7f-974d-837bedbd4baf').text('ETA:  0:00:01');"
       ],
       "metadata": {},
       "output_type": "display_data",
       "text": [
        "<IPython.core.display.Javascript at 0x19e36c88>"
       ]
      },
      {
       "javascript": [
        "$('div#6858ba0f-a5a7-4bff-a77b-6725b8c8c183').text('69 of 98');"
       ],
       "metadata": {},
       "output_type": "display_data",
       "text": [
        "<IPython.core.display.Javascript at 0x19e36eb8>"
       ]
      },
      {
       "javascript": [
        "$('div#ade2d04e-b3ff-4d60-8bee-38076f6024ed').text(' 70%');"
       ],
       "metadata": {},
       "output_type": "display_data",
       "text": [
        "<IPython.core.display.Javascript at 0x224e5828>"
       ]
      },
      {
       "javascript": [
        "\n",
        "        var $myPB = $(\"div#97d49072-c1cb-441f-96a9-fe20754dc9f7\")\n",
        "        if ($myPB.hasClass('ui-progressbar')) {\n",
        "            $myPB.progressbar('value', 69);\n",
        "        } else {\n",
        "            $myPB.progressbar({value: 0, max: 98});\n",
        "        }\n",
        "        "
       ],
       "metadata": {},
       "output_type": "display_data",
       "text": [
        "<IPython.core.display.Javascript at 0x19e36eb8>"
       ]
      },
      {
       "javascript": [
        "$('div#2b08205f-1843-4f7f-974d-837bedbd4baf').text('ETA:  0:00:01');"
       ],
       "metadata": {},
       "output_type": "display_data",
       "text": [
        "<IPython.core.display.Javascript at 0x224e5828>"
       ]
      },
      {
       "javascript": [
        "$('div#6858ba0f-a5a7-4bff-a77b-6725b8c8c183').text('70 of 98');"
       ],
       "metadata": {},
       "output_type": "display_data",
       "text": [
        "<IPython.core.display.Javascript at 0x224e52b0>"
       ]
      },
      {
       "javascript": [
        "$('div#ade2d04e-b3ff-4d60-8bee-38076f6024ed').text(' 71%');"
       ],
       "metadata": {},
       "output_type": "display_data",
       "text": [
        "<IPython.core.display.Javascript at 0x224e5208>"
       ]
      },
      {
       "javascript": [
        "\n",
        "        var $myPB = $(\"div#97d49072-c1cb-441f-96a9-fe20754dc9f7\")\n",
        "        if ($myPB.hasClass('ui-progressbar')) {\n",
        "            $myPB.progressbar('value', 70);\n",
        "        } else {\n",
        "            $myPB.progressbar({value: 0, max: 98});\n",
        "        }\n",
        "        "
       ],
       "metadata": {},
       "output_type": "display_data",
       "text": [
        "<IPython.core.display.Javascript at 0x224e5208>"
       ]
      },
      {
       "javascript": [
        "$('div#2b08205f-1843-4f7f-974d-837bedbd4baf').text('ETA:  0:00:01');"
       ],
       "metadata": {},
       "output_type": "display_data",
       "text": [
        "<IPython.core.display.Javascript at 0x224e5128>"
       ]
      },
      {
       "javascript": [
        "$('div#6858ba0f-a5a7-4bff-a77b-6725b8c8c183').text('71 of 98');"
       ],
       "metadata": {},
       "output_type": "display_data",
       "text": [
        "<IPython.core.display.Javascript at 0x24046e48>"
       ]
      },
      {
       "javascript": [
        "$('div#ade2d04e-b3ff-4d60-8bee-38076f6024ed').text(' 72%');"
       ],
       "metadata": {},
       "output_type": "display_data",
       "text": [
        "<IPython.core.display.Javascript at 0x24046710>"
       ]
      },
      {
       "javascript": [
        "\n",
        "        var $myPB = $(\"div#97d49072-c1cb-441f-96a9-fe20754dc9f7\")\n",
        "        if ($myPB.hasClass('ui-progressbar')) {\n",
        "            $myPB.progressbar('value', 71);\n",
        "        } else {\n",
        "            $myPB.progressbar({value: 0, max: 98});\n",
        "        }\n",
        "        "
       ],
       "metadata": {},
       "output_type": "display_data",
       "text": [
        "<IPython.core.display.Javascript at 0x24046710>"
       ]
      },
      {
       "javascript": [
        "$('div#2b08205f-1843-4f7f-974d-837bedbd4baf').text('ETA:  0:00:01');"
       ],
       "metadata": {},
       "output_type": "display_data",
       "text": [
        "<IPython.core.display.Javascript at 0x240460f0>"
       ]
      },
      {
       "javascript": [
        "$('div#6858ba0f-a5a7-4bff-a77b-6725b8c8c183').text('72 of 98');"
       ],
       "metadata": {},
       "output_type": "display_data",
       "text": [
        "<IPython.core.display.Javascript at 0x24046fd0>"
       ]
      },
      {
       "javascript": [
        "$('div#ade2d04e-b3ff-4d60-8bee-38076f6024ed').text(' 73%');"
       ],
       "metadata": {},
       "output_type": "display_data",
       "text": [
        "<IPython.core.display.Javascript at 0x240466d8>"
       ]
      },
      {
       "javascript": [
        "\n",
        "        var $myPB = $(\"div#97d49072-c1cb-441f-96a9-fe20754dc9f7\")\n",
        "        if ($myPB.hasClass('ui-progressbar')) {\n",
        "            $myPB.progressbar('value', 72);\n",
        "        } else {\n",
        "            $myPB.progressbar({value: 0, max: 98});\n",
        "        }\n",
        "        "
       ],
       "metadata": {},
       "output_type": "display_data",
       "text": [
        "<IPython.core.display.Javascript at 0x240466d8>"
       ]
      },
      {
       "javascript": [
        "$('div#2b08205f-1843-4f7f-974d-837bedbd4baf').text('ETA:  0:00:01');"
       ],
       "metadata": {},
       "output_type": "display_data",
       "text": [
        "<IPython.core.display.Javascript at 0x24046080>"
       ]
      },
      {
       "javascript": [
        "$('div#6858ba0f-a5a7-4bff-a77b-6725b8c8c183').text('73 of 98');"
       ],
       "metadata": {},
       "output_type": "display_data",
       "text": [
        "<IPython.core.display.Javascript at 0x24bf74e0>"
       ]
      },
      {
       "javascript": [
        "$('div#ade2d04e-b3ff-4d60-8bee-38076f6024ed').text(' 74%');"
       ],
       "metadata": {},
       "output_type": "display_data",
       "text": [
        "<IPython.core.display.Javascript at 0x24bf78d0>"
       ]
      },
      {
       "javascript": [
        "\n",
        "        var $myPB = $(\"div#97d49072-c1cb-441f-96a9-fe20754dc9f7\")\n",
        "        if ($myPB.hasClass('ui-progressbar')) {\n",
        "            $myPB.progressbar('value', 73);\n",
        "        } else {\n",
        "            $myPB.progressbar({value: 0, max: 98});\n",
        "        }\n",
        "        "
       ],
       "metadata": {},
       "output_type": "display_data",
       "text": [
        "<IPython.core.display.Javascript at 0x24bf78d0>"
       ]
      },
      {
       "javascript": [
        "$('div#2b08205f-1843-4f7f-974d-837bedbd4baf').text('ETA:  0:00:01');"
       ],
       "metadata": {},
       "output_type": "display_data",
       "text": [
        "<IPython.core.display.Javascript at 0x24bf7ba8>"
       ]
      },
      {
       "javascript": [
        "$('div#6858ba0f-a5a7-4bff-a77b-6725b8c8c183').text('74 of 98');"
       ],
       "metadata": {},
       "output_type": "display_data",
       "text": [
        "<IPython.core.display.Javascript at 0x24bf7b70>"
       ]
      },
      {
       "javascript": [
        "$('div#ade2d04e-b3ff-4d60-8bee-38076f6024ed').text(' 75%');"
       ],
       "metadata": {},
       "output_type": "display_data",
       "text": [
        "<IPython.core.display.Javascript at 0x24bf7b70>"
       ]
      },
      {
       "javascript": [
        "\n",
        "        var $myPB = $(\"div#97d49072-c1cb-441f-96a9-fe20754dc9f7\")\n",
        "        if ($myPB.hasClass('ui-progressbar')) {\n",
        "            $myPB.progressbar('value', 74);\n",
        "        } else {\n",
        "            $myPB.progressbar({value: 0, max: 98});\n",
        "        }\n",
        "        "
       ],
       "metadata": {},
       "output_type": "display_data",
       "text": [
        "<IPython.core.display.Javascript at 0x20862b70>"
       ]
      },
      {
       "javascript": [
        "$('div#2b08205f-1843-4f7f-974d-837bedbd4baf').text('ETA:  0:00:01');"
       ],
       "metadata": {},
       "output_type": "display_data",
       "text": [
        "<IPython.core.display.Javascript at 0x20862278>"
       ]
      },
      {
       "javascript": [
        "$('div#6858ba0f-a5a7-4bff-a77b-6725b8c8c183').text('75 of 98');"
       ],
       "metadata": {},
       "output_type": "display_data",
       "text": [
        "<IPython.core.display.Javascript at 0x20862e80>"
       ]
      },
      {
       "javascript": [
        "$('div#ade2d04e-b3ff-4d60-8bee-38076f6024ed').text(' 76%');"
       ],
       "metadata": {},
       "output_type": "display_data",
       "text": [
        "<IPython.core.display.Javascript at 0x20862a20>"
       ]
      },
      {
       "javascript": [
        "\n",
        "        var $myPB = $(\"div#97d49072-c1cb-441f-96a9-fe20754dc9f7\")\n",
        "        if ($myPB.hasClass('ui-progressbar')) {\n",
        "            $myPB.progressbar('value', 75);\n",
        "        } else {\n",
        "            $myPB.progressbar({value: 0, max: 98});\n",
        "        }\n",
        "        "
       ],
       "metadata": {},
       "output_type": "display_data",
       "text": [
        "<IPython.core.display.Javascript at 0x20862a20>"
       ]
      },
      {
       "javascript": [
        "$('div#2b08205f-1843-4f7f-974d-837bedbd4baf').text('ETA:  0:00:01');"
       ],
       "metadata": {},
       "output_type": "display_data",
       "text": [
        "<IPython.core.display.Javascript at 0x20862d30>"
       ]
      },
      {
       "javascript": [
        "$('div#6858ba0f-a5a7-4bff-a77b-6725b8c8c183').text('76 of 98');"
       ],
       "metadata": {},
       "output_type": "display_data",
       "text": [
        "<IPython.core.display.Javascript at 0x2553d198>"
       ]
      },
      {
       "javascript": [
        "$('div#ade2d04e-b3ff-4d60-8bee-38076f6024ed').text(' 77%');"
       ],
       "metadata": {},
       "output_type": "display_data",
       "text": [
        "<IPython.core.display.Javascript at 0x2553d1d0>"
       ]
      },
      {
       "javascript": [
        "\n",
        "        var $myPB = $(\"div#97d49072-c1cb-441f-96a9-fe20754dc9f7\")\n",
        "        if ($myPB.hasClass('ui-progressbar')) {\n",
        "            $myPB.progressbar('value', 76);\n",
        "        } else {\n",
        "            $myPB.progressbar({value: 0, max: 98});\n",
        "        }\n",
        "        "
       ],
       "metadata": {},
       "output_type": "display_data",
       "text": [
        "<IPython.core.display.Javascript at 0x2553d1d0>"
       ]
      },
      {
       "javascript": [
        "$('div#2b08205f-1843-4f7f-974d-837bedbd4baf').text('ETA:  0:00:01');"
       ],
       "metadata": {},
       "output_type": "display_data",
       "text": [
        "<IPython.core.display.Javascript at 0x2553dda0>"
       ]
      },
      {
       "javascript": [
        "$('div#6858ba0f-a5a7-4bff-a77b-6725b8c8c183').text('77 of 98');"
       ],
       "metadata": {},
       "output_type": "display_data",
       "text": [
        "<IPython.core.display.Javascript at 0x1fbd65f8>"
       ]
      },
      {
       "javascript": [
        "$('div#ade2d04e-b3ff-4d60-8bee-38076f6024ed').text(' 78%');"
       ],
       "metadata": {},
       "output_type": "display_data",
       "text": [
        "<IPython.core.display.Javascript at 0x1fbd6940>"
       ]
      },
      {
       "javascript": [
        "\n",
        "        var $myPB = $(\"div#97d49072-c1cb-441f-96a9-fe20754dc9f7\")\n",
        "        if ($myPB.hasClass('ui-progressbar')) {\n",
        "            $myPB.progressbar('value', 77);\n",
        "        } else {\n",
        "            $myPB.progressbar({value: 0, max: 98});\n",
        "        }\n",
        "        "
       ],
       "metadata": {},
       "output_type": "display_data",
       "text": [
        "<IPython.core.display.Javascript at 0x1fbd6710>"
       ]
      },
      {
       "javascript": [
        "$('div#2b08205f-1843-4f7f-974d-837bedbd4baf').text('ETA:  0:00:01');"
       ],
       "metadata": {},
       "output_type": "display_data",
       "text": [
        "<IPython.core.display.Javascript at 0x1fbd65f8>"
       ]
      },
      {
       "javascript": [
        "$('div#6858ba0f-a5a7-4bff-a77b-6725b8c8c183').text('78 of 98');"
       ],
       "metadata": {},
       "output_type": "display_data",
       "text": [
        "<IPython.core.display.Javascript at 0x246cd828>"
       ]
      },
      {
       "javascript": [
        "$('div#ade2d04e-b3ff-4d60-8bee-38076f6024ed').text(' 79%');"
       ],
       "metadata": {},
       "output_type": "display_data",
       "text": [
        "<IPython.core.display.Javascript at 0x246cdb38>"
       ]
      },
      {
       "javascript": [
        "\n",
        "        var $myPB = $(\"div#97d49072-c1cb-441f-96a9-fe20754dc9f7\")\n",
        "        if ($myPB.hasClass('ui-progressbar')) {\n",
        "            $myPB.progressbar('value', 78);\n",
        "        } else {\n",
        "            $myPB.progressbar({value: 0, max: 98});\n",
        "        }\n",
        "        "
       ],
       "metadata": {},
       "output_type": "display_data",
       "text": [
        "<IPython.core.display.Javascript at 0x246cdb38>"
       ]
      },
      {
       "javascript": [
        "$('div#2b08205f-1843-4f7f-974d-837bedbd4baf').text('ETA:  0:00:00');"
       ],
       "metadata": {},
       "output_type": "display_data",
       "text": [
        "<IPython.core.display.Javascript at 0x246cd2b0>"
       ]
      },
      {
       "javascript": [
        "$('div#6858ba0f-a5a7-4bff-a77b-6725b8c8c183').text('79 of 98');"
       ],
       "metadata": {},
       "output_type": "display_data",
       "text": [
        "<IPython.core.display.Javascript at 0x17de9da0>"
       ]
      },
      {
       "javascript": [
        "$('div#ade2d04e-b3ff-4d60-8bee-38076f6024ed').text(' 80%');"
       ],
       "metadata": {},
       "output_type": "display_data",
       "text": [
        "<IPython.core.display.Javascript at 0x17de9da0>"
       ]
      },
      {
       "javascript": [
        "\n",
        "        var $myPB = $(\"div#97d49072-c1cb-441f-96a9-fe20754dc9f7\")\n",
        "        if ($myPB.hasClass('ui-progressbar')) {\n",
        "            $myPB.progressbar('value', 79);\n",
        "        } else {\n",
        "            $myPB.progressbar({value: 0, max: 98});\n",
        "        }\n",
        "        "
       ],
       "metadata": {},
       "output_type": "display_data",
       "text": [
        "<IPython.core.display.Javascript at 0x17de9cc0>"
       ]
      },
      {
       "javascript": [
        "$('div#2b08205f-1843-4f7f-974d-837bedbd4baf').text('ETA:  0:00:00');"
       ],
       "metadata": {},
       "output_type": "display_data",
       "text": [
        "<IPython.core.display.Javascript at 0x17de9390>"
       ]
      },
      {
       "javascript": [
        "$('div#6858ba0f-a5a7-4bff-a77b-6725b8c8c183').text('80 of 98');"
       ],
       "metadata": {},
       "output_type": "display_data",
       "text": [
        "<IPython.core.display.Javascript at 0x17de90b8>"
       ]
      },
      {
       "javascript": [
        "$('div#ade2d04e-b3ff-4d60-8bee-38076f6024ed').text(' 81%');"
       ],
       "metadata": {},
       "output_type": "display_data",
       "text": [
        "<IPython.core.display.Javascript at 0x17de9f28>"
       ]
      },
      {
       "javascript": [
        "\n",
        "        var $myPB = $(\"div#97d49072-c1cb-441f-96a9-fe20754dc9f7\")\n",
        "        if ($myPB.hasClass('ui-progressbar')) {\n",
        "            $myPB.progressbar('value', 80);\n",
        "        } else {\n",
        "            $myPB.progressbar({value: 0, max: 98});\n",
        "        }\n",
        "        "
       ],
       "metadata": {},
       "output_type": "display_data",
       "text": [
        "<IPython.core.display.Javascript at 0x17de9f28>"
       ]
      },
      {
       "javascript": [
        "$('div#2b08205f-1843-4f7f-974d-837bedbd4baf').text('ETA:  0:00:00');"
       ],
       "metadata": {},
       "output_type": "display_data",
       "text": [
        "<IPython.core.display.Javascript at 0x17de9eb8>"
       ]
      },
      {
       "javascript": [
        "$('div#6858ba0f-a5a7-4bff-a77b-6725b8c8c183').text('81 of 98');"
       ],
       "metadata": {},
       "output_type": "display_data",
       "text": [
        "<IPython.core.display.Javascript at 0x239ea588>"
       ]
      },
      {
       "javascript": [
        "$('div#ade2d04e-b3ff-4d60-8bee-38076f6024ed').text(' 82%');"
       ],
       "metadata": {},
       "output_type": "display_data",
       "text": [
        "<IPython.core.display.Javascript at 0x239ea3c8>"
       ]
      },
      {
       "javascript": [
        "\n",
        "        var $myPB = $(\"div#97d49072-c1cb-441f-96a9-fe20754dc9f7\")\n",
        "        if ($myPB.hasClass('ui-progressbar')) {\n",
        "            $myPB.progressbar('value', 81);\n",
        "        } else {\n",
        "            $myPB.progressbar({value: 0, max: 98});\n",
        "        }\n",
        "        "
       ],
       "metadata": {},
       "output_type": "display_data",
       "text": [
        "<IPython.core.display.Javascript at 0x239ea3c8>"
       ]
      },
      {
       "javascript": [
        "$('div#2b08205f-1843-4f7f-974d-837bedbd4baf').text('ETA:  0:00:00');"
       ],
       "metadata": {},
       "output_type": "display_data",
       "text": [
        "<IPython.core.display.Javascript at 0x239eacc0>"
       ]
      },
      {
       "javascript": [
        "$('div#6858ba0f-a5a7-4bff-a77b-6725b8c8c183').text('82 of 98');"
       ],
       "metadata": {},
       "output_type": "display_data",
       "text": [
        "<IPython.core.display.Javascript at 0x22f5de10>"
       ]
      },
      {
       "javascript": [
        "$('div#ade2d04e-b3ff-4d60-8bee-38076f6024ed').text(' 83%');"
       ],
       "metadata": {},
       "output_type": "display_data",
       "text": [
        "<IPython.core.display.Javascript at 0x22f5d198>"
       ]
      },
      {
       "javascript": [
        "\n",
        "        var $myPB = $(\"div#97d49072-c1cb-441f-96a9-fe20754dc9f7\")\n",
        "        if ($myPB.hasClass('ui-progressbar')) {\n",
        "            $myPB.progressbar('value', 82);\n",
        "        } else {\n",
        "            $myPB.progressbar({value: 0, max: 98});\n",
        "        }\n",
        "        "
       ],
       "metadata": {},
       "output_type": "display_data",
       "text": [
        "<IPython.core.display.Javascript at 0x22f5d198>"
       ]
      },
      {
       "javascript": [
        "$('div#2b08205f-1843-4f7f-974d-837bedbd4baf').text('ETA:  0:00:00');"
       ],
       "metadata": {},
       "output_type": "display_data",
       "text": [
        "<IPython.core.display.Javascript at 0x22f5d160>"
       ]
      },
      {
       "javascript": [
        "$('div#6858ba0f-a5a7-4bff-a77b-6725b8c8c183').text('83 of 98');"
       ],
       "metadata": {},
       "output_type": "display_data",
       "text": [
        "<IPython.core.display.Javascript at 0x22f5def0>"
       ]
      },
      {
       "javascript": [
        "$('div#ade2d04e-b3ff-4d60-8bee-38076f6024ed').text(' 84%');"
       ],
       "metadata": {},
       "output_type": "display_data",
       "text": [
        "<IPython.core.display.Javascript at 0x22f5da58>"
       ]
      },
      {
       "javascript": [
        "\n",
        "        var $myPB = $(\"div#97d49072-c1cb-441f-96a9-fe20754dc9f7\")\n",
        "        if ($myPB.hasClass('ui-progressbar')) {\n",
        "            $myPB.progressbar('value', 83);\n",
        "        } else {\n",
        "            $myPB.progressbar({value: 0, max: 98});\n",
        "        }\n",
        "        "
       ],
       "metadata": {},
       "output_type": "display_data",
       "text": [
        "<IPython.core.display.Javascript at 0x22f5da58>"
       ]
      },
      {
       "javascript": [
        "$('div#2b08205f-1843-4f7f-974d-837bedbd4baf').text('ETA:  0:00:00');"
       ],
       "metadata": {},
       "output_type": "display_data",
       "text": [
        "<IPython.core.display.Javascript at 0x22f5dc18>"
       ]
      },
      {
       "javascript": [
        "$('div#6858ba0f-a5a7-4bff-a77b-6725b8c8c183').text('84 of 98');"
       ],
       "metadata": {},
       "output_type": "display_data",
       "text": [
        "<IPython.core.display.Javascript at 0x1f1d6eb8>"
       ]
      },
      {
       "javascript": [
        "$('div#ade2d04e-b3ff-4d60-8bee-38076f6024ed').text(' 85%');"
       ],
       "metadata": {},
       "output_type": "display_data",
       "text": [
        "<IPython.core.display.Javascript at 0x1f1d6eb8>"
       ]
      },
      {
       "javascript": [
        "\n",
        "        var $myPB = $(\"div#97d49072-c1cb-441f-96a9-fe20754dc9f7\")\n",
        "        if ($myPB.hasClass('ui-progressbar')) {\n",
        "            $myPB.progressbar('value', 84);\n",
        "        } else {\n",
        "            $myPB.progressbar({value: 0, max: 98});\n",
        "        }\n",
        "        "
       ],
       "metadata": {},
       "output_type": "display_data",
       "text": [
        "<IPython.core.display.Javascript at 0x1f1d6240>"
       ]
      },
      {
       "javascript": [
        "$('div#2b08205f-1843-4f7f-974d-837bedbd4baf').text('ETA:  0:00:00');"
       ],
       "metadata": {},
       "output_type": "display_data",
       "text": [
        "<IPython.core.display.Javascript at 0x1f1d6438>"
       ]
      },
      {
       "javascript": [
        "$('div#6858ba0f-a5a7-4bff-a77b-6725b8c8c183').text('85 of 98');"
       ],
       "metadata": {},
       "output_type": "display_data",
       "text": [
        "<IPython.core.display.Javascript at 0x1c0404a8>"
       ]
      },
      {
       "javascript": [
        "$('div#ade2d04e-b3ff-4d60-8bee-38076f6024ed').text(' 86%');"
       ],
       "metadata": {},
       "output_type": "display_data",
       "text": [
        "<IPython.core.display.Javascript at 0x1c0404a8>"
       ]
      },
      {
       "javascript": [
        "\n",
        "        var $myPB = $(\"div#97d49072-c1cb-441f-96a9-fe20754dc9f7\")\n",
        "        if ($myPB.hasClass('ui-progressbar')) {\n",
        "            $myPB.progressbar('value', 85);\n",
        "        } else {\n",
        "            $myPB.progressbar({value: 0, max: 98});\n",
        "        }\n",
        "        "
       ],
       "metadata": {},
       "output_type": "display_data",
       "text": [
        "<IPython.core.display.Javascript at 0x1c040b70>"
       ]
      },
      {
       "javascript": [
        "$('div#2b08205f-1843-4f7f-974d-837bedbd4baf').text('ETA:  0:00:00');"
       ],
       "metadata": {},
       "output_type": "display_data",
       "text": [
        "<IPython.core.display.Javascript at 0x1c040d30>"
       ]
      },
      {
       "javascript": [
        "$('div#6858ba0f-a5a7-4bff-a77b-6725b8c8c183').text('86 of 98');"
       ],
       "metadata": {},
       "output_type": "display_data",
       "text": [
        "<IPython.core.display.Javascript at 0x208c79b0>"
       ]
      },
      {
       "javascript": [
        "$('div#ade2d04e-b3ff-4d60-8bee-38076f6024ed').text(' 87%');"
       ],
       "metadata": {},
       "output_type": "display_data",
       "text": [
        "<IPython.core.display.Javascript at 0x208c79b0>"
       ]
      },
      {
       "javascript": [
        "\n",
        "        var $myPB = $(\"div#97d49072-c1cb-441f-96a9-fe20754dc9f7\")\n",
        "        if ($myPB.hasClass('ui-progressbar')) {\n",
        "            $myPB.progressbar('value', 86);\n",
        "        } else {\n",
        "            $myPB.progressbar({value: 0, max: 98});\n",
        "        }\n",
        "        "
       ],
       "metadata": {},
       "output_type": "display_data",
       "text": [
        "<IPython.core.display.Javascript at 0x208c7ba8>"
       ]
      },
      {
       "javascript": [
        "$('div#2b08205f-1843-4f7f-974d-837bedbd4baf').text('ETA:  0:00:00');"
       ],
       "metadata": {},
       "output_type": "display_data",
       "text": [
        "<IPython.core.display.Javascript at 0x208c7400>"
       ]
      },
      {
       "javascript": [
        "$('div#6858ba0f-a5a7-4bff-a77b-6725b8c8c183').text('87 of 98');"
       ],
       "metadata": {},
       "output_type": "display_data",
       "text": [
        "<IPython.core.display.Javascript at 0x20b4f5c0>"
       ]
      },
      {
       "javascript": [
        "$('div#ade2d04e-b3ff-4d60-8bee-38076f6024ed').text(' 88%');"
       ],
       "metadata": {},
       "output_type": "display_data",
       "text": [
        "<IPython.core.display.Javascript at 0x20b4ff60>"
       ]
      },
      {
       "javascript": [
        "\n",
        "        var $myPB = $(\"div#97d49072-c1cb-441f-96a9-fe20754dc9f7\")\n",
        "        if ($myPB.hasClass('ui-progressbar')) {\n",
        "            $myPB.progressbar('value', 87);\n",
        "        } else {\n",
        "            $myPB.progressbar({value: 0, max: 98});\n",
        "        }\n",
        "        "
       ],
       "metadata": {},
       "output_type": "display_data",
       "text": [
        "<IPython.core.display.Javascript at 0x20b4ff60>"
       ]
      },
      {
       "javascript": [
        "$('div#2b08205f-1843-4f7f-974d-837bedbd4baf').text('ETA:  0:00:00');"
       ],
       "metadata": {},
       "output_type": "display_data",
       "text": [
        "<IPython.core.display.Javascript at 0x20b4fcf8>"
       ]
      },
      {
       "javascript": [
        "$('div#6858ba0f-a5a7-4bff-a77b-6725b8c8c183').text('88 of 98');"
       ],
       "metadata": {},
       "output_type": "display_data",
       "text": [
        "<IPython.core.display.Javascript at 0x1a5c8b38>"
       ]
      },
      {
       "javascript": [
        "$('div#ade2d04e-b3ff-4d60-8bee-38076f6024ed').text(' 89%');"
       ],
       "metadata": {},
       "output_type": "display_data",
       "text": [
        "<IPython.core.display.Javascript at 0x1a5c8b38>"
       ]
      },
      {
       "javascript": [
        "\n",
        "        var $myPB = $(\"div#97d49072-c1cb-441f-96a9-fe20754dc9f7\")\n",
        "        if ($myPB.hasClass('ui-progressbar')) {\n",
        "            $myPB.progressbar('value', 88);\n",
        "        } else {\n",
        "            $myPB.progressbar({value: 0, max: 98});\n",
        "        }\n",
        "        "
       ],
       "metadata": {},
       "output_type": "display_data",
       "text": [
        "<IPython.core.display.Javascript at 0x1a5c8e80>"
       ]
      },
      {
       "javascript": [
        "$('div#2b08205f-1843-4f7f-974d-837bedbd4baf').text('ETA:  0:00:00');"
       ],
       "metadata": {},
       "output_type": "display_data",
       "text": [
        "<IPython.core.display.Javascript at 0x1a5c8240>"
       ]
      },
      {
       "javascript": [
        "$('div#6858ba0f-a5a7-4bff-a77b-6725b8c8c183').text('89 of 98');"
       ],
       "metadata": {},
       "output_type": "display_data",
       "text": [
        "<IPython.core.display.Javascript at 0x1bd20dd8>"
       ]
      },
      {
       "javascript": [
        "$('div#ade2d04e-b3ff-4d60-8bee-38076f6024ed').text(' 90%');"
       ],
       "metadata": {},
       "output_type": "display_data",
       "text": [
        "<IPython.core.display.Javascript at 0x1bd20dd8>"
       ]
      },
      {
       "javascript": [
        "\n",
        "        var $myPB = $(\"div#97d49072-c1cb-441f-96a9-fe20754dc9f7\")\n",
        "        if ($myPB.hasClass('ui-progressbar')) {\n",
        "            $myPB.progressbar('value', 89);\n",
        "        } else {\n",
        "            $myPB.progressbar({value: 0, max: 98});\n",
        "        }\n",
        "        "
       ],
       "metadata": {},
       "output_type": "display_data",
       "text": [
        "<IPython.core.display.Javascript at 0x1bd204e0>"
       ]
      },
      {
       "javascript": [
        "$('div#2b08205f-1843-4f7f-974d-837bedbd4baf').text('ETA:  0:00:00');"
       ],
       "metadata": {},
       "output_type": "display_data",
       "text": [
        "<IPython.core.display.Javascript at 0x1bd20518>"
       ]
      },
      {
       "javascript": [
        "$('div#6858ba0f-a5a7-4bff-a77b-6725b8c8c183').text('90 of 98');"
       ],
       "metadata": {},
       "output_type": "display_data",
       "text": [
        "<IPython.core.display.Javascript at 0x24ef7390>"
       ]
      },
      {
       "javascript": [
        "$('div#ade2d04e-b3ff-4d60-8bee-38076f6024ed').text(' 91%');"
       ],
       "metadata": {},
       "output_type": "display_data",
       "text": [
        "<IPython.core.display.Javascript at 0x24ef7390>"
       ]
      },
      {
       "javascript": [
        "\n",
        "        var $myPB = $(\"div#97d49072-c1cb-441f-96a9-fe20754dc9f7\")\n",
        "        if ($myPB.hasClass('ui-progressbar')) {\n",
        "            $myPB.progressbar('value', 90);\n",
        "        } else {\n",
        "            $myPB.progressbar({value: 0, max: 98});\n",
        "        }\n",
        "        "
       ],
       "metadata": {},
       "output_type": "display_data",
       "text": [
        "<IPython.core.display.Javascript at 0x24ef7b38>"
       ]
      },
      {
       "javascript": [
        "$('div#2b08205f-1843-4f7f-974d-837bedbd4baf').text('ETA:  0:00:00');"
       ],
       "metadata": {},
       "output_type": "display_data",
       "text": [
        "<IPython.core.display.Javascript at 0x24ef77b8>"
       ]
      },
      {
       "javascript": [
        "$('div#6858ba0f-a5a7-4bff-a77b-6725b8c8c183').text('91 of 98');"
       ],
       "metadata": {},
       "output_type": "display_data",
       "text": [
        "<IPython.core.display.Javascript at 0x1f5f4630>"
       ]
      },
      {
       "javascript": [
        "$('div#ade2d04e-b3ff-4d60-8bee-38076f6024ed').text(' 92%');"
       ],
       "metadata": {},
       "output_type": "display_data",
       "text": [
        "<IPython.core.display.Javascript at 0x1f5f4630>"
       ]
      },
      {
       "javascript": [
        "\n",
        "        var $myPB = $(\"div#97d49072-c1cb-441f-96a9-fe20754dc9f7\")\n",
        "        if ($myPB.hasClass('ui-progressbar')) {\n",
        "            $myPB.progressbar('value', 91);\n",
        "        } else {\n",
        "            $myPB.progressbar({value: 0, max: 98});\n",
        "        }\n",
        "        "
       ],
       "metadata": {},
       "output_type": "display_data",
       "text": [
        "<IPython.core.display.Javascript at 0x1f5f44e0>"
       ]
      },
      {
       "javascript": [
        "$('div#2b08205f-1843-4f7f-974d-837bedbd4baf').text('ETA:  0:00:00');"
       ],
       "metadata": {},
       "output_type": "display_data",
       "text": [
        "<IPython.core.display.Javascript at 0x1f5f4e80>"
       ]
      },
      {
       "javascript": [
        "$('div#6858ba0f-a5a7-4bff-a77b-6725b8c8c183').text('92 of 98');"
       ],
       "metadata": {},
       "output_type": "display_data",
       "text": [
        "<IPython.core.display.Javascript at 0x1f5f4cc0>"
       ]
      },
      {
       "javascript": [
        "$('div#ade2d04e-b3ff-4d60-8bee-38076f6024ed').text(' 93%');"
       ],
       "metadata": {},
       "output_type": "display_data",
       "text": [
        "<IPython.core.display.Javascript at 0x200e92b0>"
       ]
      },
      {
       "javascript": [
        "\n",
        "        var $myPB = $(\"div#97d49072-c1cb-441f-96a9-fe20754dc9f7\")\n",
        "        if ($myPB.hasClass('ui-progressbar')) {\n",
        "            $myPB.progressbar('value', 92);\n",
        "        } else {\n",
        "            $myPB.progressbar({value: 0, max: 98});\n",
        "        }\n",
        "        "
       ],
       "metadata": {},
       "output_type": "display_data",
       "text": [
        "<IPython.core.display.Javascript at 0x200e9a58>"
       ]
      },
      {
       "javascript": [
        "$('div#2b08205f-1843-4f7f-974d-837bedbd4baf').text('ETA:  0:00:00');"
       ],
       "metadata": {},
       "output_type": "display_data",
       "text": [
        "<IPython.core.display.Javascript at 0x1f5f4cc0>"
       ]
      },
      {
       "javascript": [
        "$('div#6858ba0f-a5a7-4bff-a77b-6725b8c8c183').text('93 of 98');"
       ],
       "metadata": {},
       "output_type": "display_data",
       "text": [
        "<IPython.core.display.Javascript at 0x200e9160>"
       ]
      },
      {
       "javascript": [
        "$('div#ade2d04e-b3ff-4d60-8bee-38076f6024ed').text(' 94%');"
       ],
       "metadata": {},
       "output_type": "display_data",
       "text": [
        "<IPython.core.display.Javascript at 0x200e92b0>"
       ]
      },
      {
       "javascript": [
        "\n",
        "        var $myPB = $(\"div#97d49072-c1cb-441f-96a9-fe20754dc9f7\")\n",
        "        if ($myPB.hasClass('ui-progressbar')) {\n",
        "            $myPB.progressbar('value', 93);\n",
        "        } else {\n",
        "            $myPB.progressbar({value: 0, max: 98});\n",
        "        }\n",
        "        "
       ],
       "metadata": {},
       "output_type": "display_data",
       "text": [
        "<IPython.core.display.Javascript at 0x200e9ba8>"
       ]
      },
      {
       "javascript": [
        "$('div#2b08205f-1843-4f7f-974d-837bedbd4baf').text('ETA:  0:00:00');"
       ],
       "metadata": {},
       "output_type": "display_data",
       "text": [
        "<IPython.core.display.Javascript at 0x200e9828>"
       ]
      },
      {
       "javascript": [
        "$('div#6858ba0f-a5a7-4bff-a77b-6725b8c8c183').text('94 of 98');"
       ],
       "metadata": {},
       "output_type": "display_data",
       "text": [
        "<IPython.core.display.Javascript at 0x1f5f4cc0>"
       ]
      },
      {
       "javascript": [
        "$('div#ade2d04e-b3ff-4d60-8bee-38076f6024ed').text(' 95%');"
       ],
       "metadata": {},
       "output_type": "display_data",
       "text": [
        "<IPython.core.display.Javascript at 0x200e9748>"
       ]
      },
      {
       "javascript": [
        "\n",
        "        var $myPB = $(\"div#97d49072-c1cb-441f-96a9-fe20754dc9f7\")\n",
        "        if ($myPB.hasClass('ui-progressbar')) {\n",
        "            $myPB.progressbar('value', 94);\n",
        "        } else {\n",
        "            $myPB.progressbar({value: 0, max: 98});\n",
        "        }\n",
        "        "
       ],
       "metadata": {},
       "output_type": "display_data",
       "text": [
        "<IPython.core.display.Javascript at 0x200e9ba8>"
       ]
      },
      {
       "javascript": [
        "$('div#2b08205f-1843-4f7f-974d-837bedbd4baf').text('ETA:  0:00:00');"
       ],
       "metadata": {},
       "output_type": "display_data",
       "text": [
        "<IPython.core.display.Javascript at 0x200e94a8>"
       ]
      },
      {
       "javascript": [
        "$('div#6858ba0f-a5a7-4bff-a77b-6725b8c8c183').text('95 of 98');"
       ],
       "metadata": {},
       "output_type": "display_data",
       "text": [
        "<IPython.core.display.Javascript at 0x200e9668>"
       ]
      },
      {
       "javascript": [
        "$('div#ade2d04e-b3ff-4d60-8bee-38076f6024ed').text(' 96%');"
       ],
       "metadata": {},
       "output_type": "display_data",
       "text": [
        "<IPython.core.display.Javascript at 0x200e9940>"
       ]
      },
      {
       "javascript": [
        "\n",
        "        var $myPB = $(\"div#97d49072-c1cb-441f-96a9-fe20754dc9f7\")\n",
        "        if ($myPB.hasClass('ui-progressbar')) {\n",
        "            $myPB.progressbar('value', 95);\n",
        "        } else {\n",
        "            $myPB.progressbar({value: 0, max: 98});\n",
        "        }\n",
        "        "
       ],
       "metadata": {},
       "output_type": "display_data",
       "text": [
        "<IPython.core.display.Javascript at 0x200e9390>"
       ]
      },
      {
       "javascript": [
        "$('div#2b08205f-1843-4f7f-974d-837bedbd4baf').text('ETA:  0:00:00');"
       ],
       "metadata": {},
       "output_type": "display_data",
       "text": [
        "<IPython.core.display.Javascript at 0x200e9390>"
       ]
      },
      {
       "javascript": [
        "$('div#6858ba0f-a5a7-4bff-a77b-6725b8c8c183').text('96 of 98');"
       ],
       "metadata": {},
       "output_type": "display_data",
       "text": [
        "<IPython.core.display.Javascript at 0x1824b470>"
       ]
      },
      {
       "javascript": [
        "$('div#ade2d04e-b3ff-4d60-8bee-38076f6024ed').text(' 97%');"
       ],
       "metadata": {},
       "output_type": "display_data",
       "text": [
        "<IPython.core.display.Javascript at 0x1824b470>"
       ]
      },
      {
       "javascript": [
        "\n",
        "        var $myPB = $(\"div#97d49072-c1cb-441f-96a9-fe20754dc9f7\")\n",
        "        if ($myPB.hasClass('ui-progressbar')) {\n",
        "            $myPB.progressbar('value', 96);\n",
        "        } else {\n",
        "            $myPB.progressbar({value: 0, max: 98});\n",
        "        }\n",
        "        "
       ],
       "metadata": {},
       "output_type": "display_data",
       "text": [
        "<IPython.core.display.Javascript at 0x1824b828>"
       ]
      },
      {
       "javascript": [
        "$('div#2b08205f-1843-4f7f-974d-837bedbd4baf').text('ETA:  0:00:00');"
       ],
       "metadata": {},
       "output_type": "display_data",
       "text": [
        "<IPython.core.display.Javascript at 0x1824bdd8>"
       ]
      },
      {
       "javascript": [
        "$('div#6858ba0f-a5a7-4bff-a77b-6725b8c8c183').text('97 of 98');"
       ],
       "metadata": {},
       "output_type": "display_data",
       "text": [
        "<IPython.core.display.Javascript at 0x1824bbe0>"
       ]
      },
      {
       "javascript": [
        "$('div#ade2d04e-b3ff-4d60-8bee-38076f6024ed').text(' 98%');"
       ],
       "metadata": {},
       "output_type": "display_data",
       "text": [
        "<IPython.core.display.Javascript at 0x1824b588>"
       ]
      },
      {
       "javascript": [
        "\n",
        "        var $myPB = $(\"div#97d49072-c1cb-441f-96a9-fe20754dc9f7\")\n",
        "        if ($myPB.hasClass('ui-progressbar')) {\n",
        "            $myPB.progressbar('value', 97);\n",
        "        } else {\n",
        "            $myPB.progressbar({value: 0, max: 98});\n",
        "        }\n",
        "        "
       ],
       "metadata": {},
       "output_type": "display_data",
       "text": [
        "<IPython.core.display.Javascript at 0x1824b588>"
       ]
      },
      {
       "javascript": [
        "$('div#2b08205f-1843-4f7f-974d-837bedbd4baf').text('ETA:  0:00:00');"
       ],
       "metadata": {},
       "output_type": "display_data",
       "text": [
        "<IPython.core.display.Javascript at 0x1824b9e8>"
       ]
      },
      {
       "javascript": [
        "$('div#6858ba0f-a5a7-4bff-a77b-6725b8c8c183').text('98 of 98');"
       ],
       "metadata": {},
       "output_type": "display_data",
       "text": [
        "<IPython.core.display.Javascript at 0x1f0c9518>"
       ]
      },
      {
       "javascript": [
        "$('div#ade2d04e-b3ff-4d60-8bee-38076f6024ed').text('100%');"
       ],
       "metadata": {},
       "output_type": "display_data",
       "text": [
        "<IPython.core.display.Javascript at 0x1f0c9518>"
       ]
      },
      {
       "javascript": [
        "\n",
        "        var $myPB = $(\"div#97d49072-c1cb-441f-96a9-fe20754dc9f7\")\n",
        "        if ($myPB.hasClass('ui-progressbar')) {\n",
        "            $myPB.progressbar('value', 98);\n",
        "        } else {\n",
        "            $myPB.progressbar({value: 0, max: 98});\n",
        "        }\n",
        "        "
       ],
       "metadata": {},
       "output_type": "display_data",
       "text": [
        "<IPython.core.display.Javascript at 0x1f0c9f28>"
       ]
      },
      {
       "javascript": [
        "$('div#2b08205f-1843-4f7f-974d-837bedbd4baf').text('ETA:  0:00:00');"
       ],
       "metadata": {},
       "output_type": "display_data",
       "text": [
        "<IPython.core.display.Javascript at 0x1f0c9a58>"
       ]
      },
      {
       "javascript": [
        "$('div#6858ba0f-a5a7-4bff-a77b-6725b8c8c183').text('98 of 98');"
       ],
       "metadata": {},
       "output_type": "display_data",
       "text": [
        "<IPython.core.display.Javascript at 0x1fbd6940>"
       ]
      },
      {
       "javascript": [
        "$('div#ade2d04e-b3ff-4d60-8bee-38076f6024ed').text('100%');"
       ],
       "metadata": {},
       "output_type": "display_data",
       "text": [
        "<IPython.core.display.Javascript at 0x1fbd6940>"
       ]
      },
      {
       "javascript": [
        "\n",
        "        var $myPB = $(\"div#97d49072-c1cb-441f-96a9-fe20754dc9f7\")\n",
        "        if ($myPB.hasClass('ui-progressbar')) {\n",
        "            $myPB.progressbar('value', 98);\n",
        "        } else {\n",
        "            $myPB.progressbar({value: 0, max: 98});\n",
        "        }\n",
        "        "
       ],
       "metadata": {},
       "output_type": "display_data",
       "text": [
        "<IPython.core.display.Javascript at 0x1f0c9828>"
       ]
      },
      {
       "javascript": [
        "$('div#2b08205f-1843-4f7f-974d-837bedbd4baf').text('Time: 0:00:04');"
       ],
       "metadata": {},
       "output_type": "display_data",
       "text": [
        "<IPython.core.display.Javascript at 0x1f0c9f28>"
       ]
      },
      {
       "javascript": [
        "var element = document.getElementById('b11447c8-5ba5-4af8-9f44-867d27e6b9c6');\n",
        "                    var parent = element.parentNode\n",
        "                    parent.removeChild(element);\n",
        "                    parent.parentElement.remove();"
       ],
       "metadata": {},
       "output_type": "display_data",
       "text": [
        "<IPython.core.display.Javascript at 0x19bb1198>"
       ]
      },
      {
       "javascript": [
        "this.cleanProgressBar(['b11447c8-5ba5-4af8-9f44-867d27e6b9c6', '6858ba0f-a5a7-4bff-a77b-6725b8c8c183', 'ade2d04e-b3ff-4d60-8bee-38076f6024ed', '97d49072-c1cb-441f-96a9-fe20754dc9f7', '2b08205f-1843-4f7f-974d-837bedbd4baf'])"
       ],
       "metadata": {},
       "output_type": "display_data",
       "text": [
        "<IPython.core.display.Javascript at 0x19bb1198>"
       ]
      }
     ],
     "prompt_number": 4
    },
    {
     "cell_type": "code",
     "collapsed": false,
     "input": [
      "import json\n",
      "def get_outline_tree(paras, index):\n",
      "    start_index = index\n",
      "    tree = []\n",
      "#     if index==0:\n",
      "    order, para = paras[index]\n",
      "    tree.append({'order':order,'paragraph':para,'children':[]})\n",
      "    index+=1\n",
      "#     index = j\n",
      "    for index in range(index, len(paras)):\n",
      "        order, para = paras[index]\n",
      "        prev_order, prev_para = paras[index-1]\n",
      "        if order-prev_order>1:\n",
      "            tree.append({'order':order,'paragraph':para,'children':[]})\n",
      "        else:\n",
      "            tree[-1]['children'], index = get_outline_tree(paras, index)\n",
      "#         print order, prev_order, para\n",
      "    return tree, index\n",
      "def is_heading(para):\n",
      "    return len(para)==1 and para[0][-1] not in ['.', ':', '\"'] and para[0][0] not in ['*', '(', '\"']\n",
      "\n",
      "def get_outline(doc):\n",
      "    sents = [s for para in doc for s in para]\n",
      "    paras = []\n",
      "    counter = 0\n",
      "    for para in doc:\n",
      "        if is_heading(para):\n",
      "            paras.append((counter, para[0]))\n",
      "        counter+=len(para)\n",
      "#     paras = [(i,s) for i in range(len(doc)) for s in doc[i] if len(doc[i])==1 and s[-1] not in ['.', ':'] and s[0] not in ['*', '(']]\n",
      "    outline =[]\n",
      "    for i in range(len(paras)):\n",
      "        order = paras[i][0]\n",
      "        next_order = len(sents) if i>= len(paras)-1 else paras[i+1][0] \n",
      "        child_count = next_order-order-1\n",
      "        outline.append({'order':order,\n",
      "                        'header':paras[i][1], \n",
      "                        'child_count': child_count,\n",
      "                        'children':sents[order+1:next_order]})\n",
      "#     last_index = len(paras)-1\n",
      "#     outline.append((paras[last_index][0],paras[last_index][1], len(doc)-paras[last_index][0]-1))\n",
      "        #     tree, index = get_outline_tree(paras, 0)\n",
      "    return outline\n",
      "    \n",
      "outlines = [(doc, docs[doc]['n'], get_outline(docs[doc]['content'])) for doc in docs]\n",
      "# print json.dumps(outlines[0], indent=4)"
     ],
     "language": "python",
     "metadata": {},
     "outputs": [],
     "prompt_number": 31
    },
    {
     "cell_type": "code",
     "collapsed": false,
     "input": [
      "%matplotlib inline\n",
      "from matplotlib import pyplot as plt\n",
      "def plot_outline(outline):\n",
      "#     print outline\n",
      "    y = [ p['child_count'] for p in outline]\n",
      "    x = [i for i in range(len(outline))]\n",
      "    return plt.plot(x, y)\n",
      "\n",
      "plot_outline(outlines[0][2])"
     ],
     "language": "python",
     "metadata": {},
     "outputs": [
      {
       "metadata": {},
       "output_type": "pyout",
       "prompt_number": 15,
       "text": [
        "[<matplotlib.lines.Line2D at 0x1a8f7128>]"
       ]
      },
      {
       "metadata": {},
       "output_type": "display_data",
       "png": "[encoded data removed]",
       "text": [
        "<matplotlib.figure.Figure at 0x1f1fa860>"
       ]
      }
     ],
     "prompt_number": 15
    },
    {
     "cell_type": "code",
     "collapsed": false,
     "input": [
      "from IPython.display import HTML\n",
      "def get_doc_html(doc):\n",
      "    html = ''\n",
      "    for para in doc['content']:\n",
      "        if is_heading(para):\n",
      "            html+='<h1>%s</h1>'%para[0]\n",
      "        else:\n",
      "            html+= '<p>%s</p>'%(\" \".join(para))\n",
      "            \n",
      "#     html = [ '<p>%s</p>'%(\" \".join(para)) for para in doc['content']]\n",
      "    return html"
     ],
     "language": "python",
     "metadata": {},
     "outputs": [],
     "prompt_number": 29
    },
    {
     "cell_type": "code",
     "collapsed": false,
     "input": [
      "doc1 = None\n",
      "for doc in docs:\n",
      "    doc1 = docs[doc]\n",
      "    break\n",
      "h = HTML(get_doc_html(doc1));h"
     ],
     "language": "python",
     "metadata": {},
     "outputs": [
      {
       "html": [
        "<h1>Sixty-first session</h1><h1>Items 46, 110, 114, 115, 120, 121,130, 145 and 148 of the provisional agenda*</h1><h1>Integrated and coordinated implementation of and follow-up to the outcomes of the major United Nations conferences and summits in the economic, social and related fields</h1><h1>Follow-up to the outcome of the Millennium Summit</h1><h1>Review of the efficiency of the administrative and financial functioning of the United Nations</h1><h1>Programme budget for the biennium 2006-2007</h1><h1>Scale of assessments for the apportionment of the expenses of the United Nations</h1><h1>Human resources management</h1><h1>Administrative and budgetary aspects of the financing of the United Nations peacekeeping operations</h1><h1>Financing of the United Nations Mission for the Referendum in Western Sahara</h1><h1>United Nations reform: measures and proposals</h1><h1>Investing in people</h1><h1>Report of the Secretary-General</h1><h1>Contents</h1><h1>Introduction</h1><p>The 2005 World Summit, in paragraphs 162 and 163 of General Assembly resolution 60/1, reaffirmed the role of the Secretary-General as the chief administrative officer of the Organization and requested him to make proposals to the Assembly on the conditions and measures necessary for him to carry out his managerial responsibilities effectively. In commending the Secretary-General's previous and ongoing efforts to ensure the effective management of the United Nations and his commitment to updating the Organization, the Assembly also emphasized the need to decide on additional reforms to make more efficient use of the financial and human resources available to the Organization and thus better comply with its principles, objectives and mandates.</p><p>In response, in his report entitled \"Investing in the United Nations: for a stronger Organization worldwide\" (A/60/692 and Corr.1), the Secretary-General set out a blueprint for comprehensive management reform which contained proposals in seven interrelated areas: people, leadership, information and communications technology, ways of delivering services, budget and finance, governance, and change management.</p><p>The present report, submitted pursuant to General Assembly resolutions 60/260 of 8 May 2006 and 60/283 of 7 July 2006, provides details on the new human resources framework put forward in that report, particularly with respect to proposals 1 to 4, 7 and 22. In formulating this report, the Secretary-General has taken into account the guidance given by the Advisory Committee on Administrative and Budgetary Questions (see A/60/735) and by the General Assembly in section II of resolution 60/260.</p><p>The framework draws on the experience gained from previous reform efforts, a broad outreach among staff and managers throughout the Organization, consultations with staff representatives, and discussions with other organizations of the United Nations system.</p><p>This integrated package of reforms reflects standards of global best practice and is aimed at strengthening the current and future human capital of the Organization. It requires investment in people and processes to ensure that the new human resources framework, building on reforms to date, will give the Organization the ability to respond effectively to the evolving requirements of Member States.</p><h1>Overview</h1><h1>Vision</h1><p>The Secretary-General's vision is of an independent international civil service with the highest standards of performance and accountability. The Secretariat of the future will be an integrated, field-oriented, operational Organization. Its multi-skilled, versatile and mobile staff will be working across disciplines to fulfil the Organization's complex and interrelated mandates in an efficient and cost-effective manner. It will be known for its high standards of ethics, fairness, transparency and accountability and its culture of continuous learning, high performance, managerial excellence and respect for diversity. Headquarters and field staff will be integrated into one global Secretariat with competitive conditions of service.</p><p>To achieve this vision, the United Nations will need to reaffirm and communicate the mission of the Organization, to strengthen the organizational culture, to renew commitment to core values and ethics and further reform its human resources management framework to meet the challenges of the future.</p><h1>Reforms to date</h1><p>In 1997, the Secretary-General in his report entitled \"Renewing the United Nations: a programme for reform\" (A/51/950), launched a review of the management of the Organization's human resources in order to enhance its effectiveness and strengthen the international civil service. To this end, in 1998, he convened a Task Force on Human Resources Management, comprising experts from the public and private sectors to advise on specific measures and actions for renewal and change. The subsequent report of the Secretary-General to the General Assembly (A/53/414) drew extensively on the recommendations of the Task Force, setting out a vision of organizational change and a programme of action. The need was recognized for a new culture of empowerment, responsibility, accountability and continuous learning. Also stressed was the importance of a more strategic role for human resources management in the Organization in implementing organizational change.</p><p>In 2000 the Secretary-General introduced a new organizational human resources framework based on a series of building blocks for human resources management reform, which were integrated elements in the drive to improve the Organization's delivery of programmes. The focus was on 10 key areas: human resources planning; streamlined rules and procedures; recruitment, placement and promotion; mobility; competencies and continuous learning; performance management; career development; conditions of service; contractual arrangements; and administration of justice (see A/55/253 and Corr.1).</p><p>Since that time, significant progress has been made in bringing about the changes envisioned in these areas. Major achievements to date include the establishment of a system of human resources planning and monitoring; the introduction of an electronic performance management system; the streamlining of rules and procedures and the launching of an electronic Human Resources Handbook; the establishment of a staff selection system which delegated the responsibility for selection decisions to department heads; the introduction of a policy on organizational mobility; the definition of organizational core values and competencies and their integration into all human resources systems. Further details on progress made are also reported in the relevant sections of the present report and in the Secretary-General's biennial report on human resources management reform.</p><p>Also in 2000, the Secretary-General convened a high-level Panel on United Nations Peace Operations (the Brahimi Panel) to undertake a thorough review of the United Nations peace and security activities and make specific, practical recommendations for improving future activities, including on human resource management. Building on the Panel's recommendations (see A/55/305-S/2000/809), policy guidance from the legislative bodies and the Office of Human Resources Management as well as lessons learned, the Department of Peacekeeping Operations focused its efforts on improving its ability to meet its mandate to recruit and retain high-quality civilian staff for United Nations peace operations. Related actions included human resource requirements forecasting and targeted outreach and recruitment efforts to identify and build rosters of pre-cleared candidates available to deploy to United Nations peace operations at short notice; standardizing to the extent possible mission structures and generic job-profiling to ensure rational organizational structures that respond to mission mandates and consistent job design and classification for field missions; and efforts to put in place conditions of service that offer job security and recognize the arduous requirements of work in field operations and better enable the Organization to recruit and retain high-quality civilian personnel for United Nations peace operations.</p><p>In response to the recommendations of the Brahimi Panel and the recommendations of the Joint Inspection Unit as approved by the General Assembly in resolution 58/257, the Department of Peacekeeping Operations has also examined the evolving nature of United Nations peacekeeping and its impact on human resources requirements since the early 1990s. That study demonstrated the need to designate 2,500 career positions for the development of a cadre of highly mobile, experienced, trained and multi-skilled civilian staff to meet the baseline human resources requirements of United Nations peace operations. The results of the study and details of the proposed designation of those 2,500 career positions are set out in the report of the Secretary-General on the reform of the Field Service category: investing in meeting the human resources requirements of United Nations peace operations in the twenty-first century (A/61/255/Add.1).</p><h1>New challenges and the case for change</h1><p>Success in achieving the ambitious programme of reform set out by the Secretary-General's blueprint for change and in meeting the expectations of Member States and the world community rests, in no small measure, on the quality of the people who serve the Organization. To maximize the investment in people, representing 80 per cent of its resources, the United Nations requires modern, effective human resources systems and an organizational culture that enables staff at all levels throughout the Organization to contribute to their greatest potential.</p><p>Despite significant progress, the current human resources management framework, which was designed for a stable, largely Headquarters-based environment, has been only partially adapted to accommodate more dynamic field-based operations. The Organization's increasingly complex mandates require a new skill profile to respond to needs in areas as diverse as humanitarian assistance, peacekeeping, human rights, electoral assistance, counter-terrorism and drugs and crime, in an integrated way. The Organization needs to be able to recruit, develop and retain leaders, managers and personnel capable of handling large, complex multidisciplinary operations with increasingly high budgets. While the United Nations will always require specialist expertise, there is an increasing need for multi-skilled, versatile and mobile staff able to work across occupational groups to enable the Organization to respond in an integrated way to diverse new requirements.</p><p>Some 30,000 staff members are now serving in the United Nations Secretariat, of whom over half are serving in field locations (see annex I). While all these staff are international civil servants, they serve under several different contractual arrangements with different benefits and conditions of service. These arrangements evolved over time to address special situations, but no longer meet the needs of an increasingly field-based organization. They have become cumbersome and difficult to administer, and result in inequitable treatment of staff. In addition, the conditions of service offered by the United Nations Secretariat to staff serving in the most difficult locations are less favourable than those offered by the funds and programmes to their staff, who increasingly work side by side with Secretariat staff. This is unfair and impedes the Organization's ability to attract and retain qualified staff.</p><p>The Organization's ability to respond to changing requirements is hampered by complex, outmoded and fragmented systems and processes. Separate processes for staff in the field and headquarters duty stations, complex contractual arrangements and multiple conditions of service are confusing for staff to understand and difficult to administer. They also work against the development of a global integrated Secretariat. The existing human resources information technology systems do not support the demands of a more strategic and integrated approach to human resources management. The absence of an enterprise resource planning system has contributed to the proliferation of stand-alone human resources systems, frequently supporting similar functions and processing the same information. Processes are often labour-intensive and still largely paper-based. As the systems are rarely integrated, reporting at a global level becomes a challenge, frequently necessitating manual consolidation and validation of data from the diverse systems.</p><p>The Secretary-General's ability and authority to effectively manage the Organization as chief administrative officer in accordance with Article 97 of the Charter of the United Nations are handicapped by multiple, restrictive, and often contradictory, legislative mandates. Internal justice mechanisms are cumbersome and need to strike a proper balance between management objectives and the right of staff members to due process.</p><p>Despite the improvements introduced in recent years, the Organization's approach to recruitment is still reactive and slow; on average, 174 days elapse from the time a vacancy announcement is issued to the time a head of office selects a candidate. Under the staff selection system, vacancies must be advertised for 60 days, limiting the ability of the Organization to recruit staff to respond promptly to the requirements of the Organization as they arise. Large numbers of applications (more than 350,000 per year) are received from applicants, many of whom do not meet the job requirements. Complex eligibility requirements limit staff, in particular field staff, from equal consideration for opportunities elsewhere in the Organization, prevent managers from having access to the broadest pools of talent and reinforce divisions between field and Headquarters.</p><p>Increasing staff mobility is essential to augment the Organization's flexibility, responsiveness and effectiveness. Despite the growing global reach of the Organization, mobility of staff remains ad hoc and limited. Occupational groups are often \"silos\" with limited opportunities for staff to cross over, even in the early stages of their careers. Difficult and hardship duty stations often face high vacancy rates in the Professional category, thereby affecting the ability of those offices to achieve organizational mandates. The overall vacancy rate in missions administered by the Department of Peacekeeping Operations is between 22 and 26 per cent.</p><p>While the Organization's efforts in recruiting the highest calibre talent from around the world, particularly through the national competitive examinations, are significant, insufficient investment has been made in developing and managing that talent. Investment in staff development remains less than 1 per cent of total staff costs. This is less than in the United Nations funds and programmes and far from the average of at least 4 per cent in best-practice organizations.</p><p>The Organization has put in place new leadership, management and organizational development programmes and assessment and evaluation tools. However, senior managers are still selected primarily on the basis of their substantive expertise or political acumen. In some cases, senior leaders who join the Organization have had little or no prior leadership or managerial experience in a complex, multicultural environment. The Organization can no longer afford to have leaders who are only substantive experts. Operating in a complex, multicultural environment with increasing decentralization and delegation of authority, senior managers must be leaders of people and managers of resources, information and change. Management capacity must be strengthened as a key underpinning of reform.</p><p>A significant number of staff will reach retirement age over the next five years. For example, among approximately 7,300 Professional staff with contracts of one year or longer, 12.7 per cent will reach retirement age by 2010. In particular, this will have an impact on the number of senior managers at the P-5 (24.2 per cent) and Director levels (37.7 per cent). These upcoming retirements, combined with possible buy-out options, will give the Organization the possibility to realign the workforce in line with future workforce needs. This situation also provides an opportunity for more proactive workforce and succession planning, and more strategic and systematic talent management.</p><p>Creation of a new human resources framework aligned to the needs of the Secretariat requires building on reforms made to date, and implementing the integrated package of proposals presented in this report. They must be considered in a holistic manner as they are all interrelated. The proposals address recruitment and selection; mobility; career development and support; contractual arrangements and harmonization of conditions of service in the field; building leadership and management capacity; and limited staff buyout. Improving the internal justice system, which is an important aspect of the reform endeavours, is being pursued through the redesign panel process mandated by the General Assembly, and will be the subject of a separate report.</p><p>The new human resources framework is based on the following principles:</p><p>* Flexibility to respond to evolving organizational needs</p><p>* Clear ethical standards</p><p>* Simplicity, clarity and transparency</p><p>* Merit-based recruitment and career development</p><p>* Compliance with geographical distribution and gender balance mandates</p><p>* Accountability of managers and staff</p><p>* Integration of Headquarters and field staff into a global Secretariat</p><p>* Strong partnerships between managers and the Office of Human Resources Management.</p><h1>Consultations with staff representatives and the staff at large</h1><p>An extensive communication effort with respect to the new human resources management framework, directed to both management and the staff at large, has been undertaken since October 2005. Broad outreach was carried out to solicit views and ideas from staff, managers and staff representatives through a variety of means including an e-mail to all staff requesting them to express their views on the human resources policies, regulations and rules. A common thread among the suggestions received was the need for equity of treatment among staff, as well as for greater transparency and accountability, and responsiveness to the needs of field operations. Consultations were also held with interdepartmental focus groups, the United Nations funds and programmes, and in the context of the interagency Human Resources Network.</p><p>Following the issuance of the Secretary-General's report entitled \"Investing in the United Nations: for a stronger Organization worldwide\" in March 2006, an extensive outreach effort was made to provide staff at large with information and explanations, to answer questions, and to elicit feedback. Town hall meetings were held in some 25 departments and duty stations. The report was also discussed in local joint staff-management advisory mechanisms throughout the Organization.</p><p>From April to June 2006, the Office of Human Resources Management sent teams of staff members from 10 different departments or offices and six duty stations to meet with staff throughout the Secretariat to provide further information on the reform proposals and to seek further feedback from the staff at large. They visited 23 duty stations and some 31 offices, including peacekeeping missions. Some 100 meetings were held, attended by over 5,000 staff. This outreach included town hall meetings, focus groups, meetings with staff representatives and meetings with management.</p><p>All proposals affecting the conditions of service of staff serving in United Nations peacekeeping operations and special political missions have been the subject of broad consultations in the context of the Department of Peacekeeping Operation's Working Group on People. The Working Group comprises representatives of all areas of the Department, representatives of the Department staff at Headquarters and the President and Vice-President of the Field Staff Union.</p><p>The Staff Management Coordination Committee, the highest level of formal consultation between the staff and the management of the United Nations, convened its twenty-seventh session in June 2006 to discuss the Secretary-General's human resources management reform proposals. The Committee is the Secretariat-wide joint mechanism established by the Secretary-General, in accordance with the Staff Regulations and Rules, to advise him regarding issues of staff welfare, conditions of work, and other Organization-wide personnel policies. The full membership, with the exception of staff representatives from New York, attended the session, including staff representatives from the Economic Commission for Africa, the Economic Commission for Latin America and the Caribbean, the Economic and Social Commission for Asia and the Pacific, the Economic and Social Commission for Western Asia, the Field Staff Union, the United Nations Office at Geneva, the United Nations Office at Nairobi, the United Nations Office at Vienna, the International Criminal Tribunal for Rwanda, the International Tribunal for the Former Yugoslavia, the United Nations Children's Fund, the Office of the United Nations High Commissioner for Refugees and the United Nations University, and management representatives from all major duty stations. The session included eight days of extensive discussions.</p><p>Prior to the twenty-seventh session of the Coordination Committee, the management posted its reform-related papers on the United Nations Intranet, iSeek. All staff members were invited to provide feedback either through their representatives, or to a dedicated e-mail address. This provided further opportunity to the staff at large to contribute their views. Within a three-week span, the management papers on iSeek were accessed over 16,000 times, which is approximately double that of the next most-accessed feature on iSeek.</p><p>At its twenty-seventh session, which was conducted in a very constructive and collaborative manner, the Committee expressed support for the Secretary-General's human resources management proposals and made a number of recommendations with respect to the details of the proposals. The Committee's recommendations were accepted by the Secretary-General and are incorporated in the present report.</p><p>The details of proposals 1, 2, 3, 4, 7 and 22 contained in the report of the Secretary-General (A/60/692 and Corr.1) are set out below.</p><h1>Recruitment and staffing</h1><p>The ability to attract, recruit, select and retain a world class staff is at the heart of organizational performance and success. The United Nations needs a system that integrates field and Headquarters staff into one global Secretariat, and realigns staff profiles with future needs. The overall aim is to build a high-quality, multi-skilled and mobile workforce, with the highest standards of efficiency, competence and integrity and with due regard to geographic representation and gender balance.</p><h1>Previous reforms</h1><p>Pursuant to General Assembly resolution 55/258, a new staff selection system was implemented in 2002. The system integrated recruitment, selection, promotion and managed mobility of staff. It led to changes that included the delegation of selection decisions to programme managers, establishment of central review bodies, development of generic formats for vacancy announcements for similar jobs, and rostering of qualified shortlisted candidates for similar jobs. The new system was the outcome of extensive consultations with staff and management throughout the Secretariat.</p><p>Some of the main goals of the new system were (a) to change the culture of the Organization by further empowering staff and managers to discharge their responsibilities and holding them accountable for their actions and their results; (b) to develop a more versatile, multi-skilled and experienced international civil service, on the basis of the predicted needs of the Organization; (c) to select staff on the basis of merit, demonstrated competencies and performance, through a competitive process where the paramount consideration is the necessity of securing the highest standards of efficiency, competence and integrity, with due regard to the importance of recruiting the staff on as wide a geographical basis as possible and to the gender distribution goals set by the General Assembly; (d) to ensure that selection decisions made by the heads of departments or offices are based on objective, job-related criteria, following confirmation by the new central review bodies of compliance with the relevant procedures; and (e) to make recruitment and placement procedures more transparent and timely.</p><p>Previously, the Organization had engaged in a Secretariat-wide participatory process to define organizational core values and core competencies -- the combination of skills, attributes and behaviours which are essential for all staff -- as well as the additional managerial competencies required by all those who manage others. Organizational core values are integrity, professionalism and respect for diversity. The core competencies include communication, teamwork, planning and organizing, accountability, creativity, client orientation, commitment to continuous learning and technological awareness. Managerial competencies are leadership, vision, empowering others, building trust, managing performance and judgement/decision-making. These competencies have been integrated progressively into all key human resources systems, including recruitment, placement, staff development and performance appraisal.</p><p>In support of the goals of the new system, a number of additional changes were introduced. In the previous system, the responsibility for selection decisions was diffuse and the selection decision was not made by the manager responsible for the programme of work. The new system delegated the responsibility and authority for staff selection to heads of department. Furthermore, heads of department are required to certify that they have taken into account the Organization's policies on geography and gender targets in making selection decisions.</p><p>The changes implemented pursuant to resolution 55/258 included the introduction of central review bodies whose main function is to review the process of filling vacancies. To comply with the General Assembly's request to the Secretary-General in its resolution 59/266 to ensure that the central review bodies discharge fully and effectively their roles in the staff selection system and to make proposals to amend the terms of reference of those bodies, the Office of Human Resources Management has provided training to members of central review bodies, and issued guidelines to facilitate their work.</p><p>In accordance with General Assembly resolutions 51/226 and 52/219, staff serving in peacekeeping and other field missions under the 100 and 300 series of the Staff Rules and Professional staff appointed to peacekeeping support account posts at Headquarters are, after having served for at least 12 months, eligible to be considered for internal vacancies at the P-4 and P-5 levels under established recruitment criteria and relevant rules.</p><p>Building on recommendations made in the report of the Panel on United Nations Peace Operations (see A/55/305-S/2000/809), as well as policy guidance from the General Assembly and the Office of Human Resources Management, the Department of Peacekeeping Operations has developed and maintained a central roster of pre-cleared civilian candidates available to deploy to United Nations peace operations at short notice. Internal and external applicants may apply for a range of different occupational groups, where they are vetted for eligibility and technical qualifications and maintained in a roster of pre-cleared candidates. Programme managers in field missions review the roster of pre-cleared candidates, and conduct competency-based interviews and the comparative evaluation of candidates at the mission level. This system facilitates the rapid identification, evaluation and selection of potential candidates, while adhering to the principles of a transparent and competitive selection process against the same criteria and standards applied across the Secretariat.</p><p>An electronic staffing tool, Galaxy, was introduced in 2002 to support the staff selection system. The availability of Galaxy had a significant effect on the ability of the Organization to achieve a worldwide reach and led to a marked increase in the number of applications. More than 350,000 applications have been received annually. Applications have been received from nationals of 191 Member States. Galaxy also allowed the process of application and processing to be more efficient and transparent. In compliance with General Assembly resolutions 57/305 and 59/266, the Secretariat has made efforts to improve the e-staffing tool in order to deal with the high number of applications, to make it more efficient and user-friendly, and to develop screening mechanisms.</p><p>Since 2004, all vacancies in United Nations peace operations are also posted on the Galaxy website. In accordance with the provisions of General Assembly resolution 59/266, the Galaxy website has been redesigned to enable applicants to express their preference on where they would wish to serve when they apply to generic vacancy announcements which include information on the location of the various positions. In the case of highly specialized positions or positions that cannot be filled through rosters, post-specific vacancy announcements are issued for positions in United Nations peace operations.</p><p>In order to hold managers more accountable for meeting human resources mandates and to reinforce human resources management as a key managerial responsibility, a system of human resources action planning was introduced in 1999. This system also serves to promote greater consistency in the application of organizational standards and encourage proactive human resources planning. The human resources action plan system has institutionalized a process for discussing and reviewing the performance of heads of department and office in 10 key human resources management areas, namely, vacancy management, geographical distribution, gender, mobility, revitalization of the Organization, performance appraisal, staff development, staff-management relations and welfare, employment of consultants and contractors, and employment of retirees.</p><p>The plans constitute the management framework to guide programme managers in their human resources management activities during the biennium. Departmental progress is monitored by the Office of Human Resources Management, which provides departments with the required information, guidance and assistance. There are two formal stages in this process: a mid-cycle review, during which departmental performance on each goal is evaluated, difficulties are identified and remedial actions considered, as required; and an end-of-cycle review to assess the degree of success attained. Progress is monitored by the Office of Human Resources Management and performance is reviewed by the Management Performance Board. At present, the system covers 28 departments, and it is envisaged that it will be extended to peacekeeping missions in the near future.</p><p>Compliance with General Assembly mandates on geographical distribution and gender balance is a priority. In resolution 59/266 the Assembly requested the Secretary-General to continue his ongoing efforts to attain equitable geographical distribution in the Secretariat and to ensure as wide a geographical distribution of staff as possible in all main departments and offices of the Secretariat. It also reiterated its request in resolution 57/305 that the Secretary-General set specific targets and develop a programme for achieving equitable geographical representation.</p><p>In response to those requests the Secretary-General has implemented a number of measures to improve geographical distribution. A main vehicle for improving the representation of Member States is the national competitive examinations offered to Member States that are unrepresented, underrepresented or may fall below their desirable ranges. Other measures include the setting of specific targets in the human resources action plans to increase the number of recruitments of candidates from unrepresented and underrepresented Member States; certification by heads of department and office that they have taken into account the targets in their human resources action plans with regard to geography, when making selection decisions; the holding of periodic meetings and briefings with representatives from unrepresented and underrepresented Member States; organizing special recruitment missions; requesting unrepresented and underrepresented Member States to identify national focal points to facilitate collaboration with the Secretariat; designation of a full-time focal point in the Office of Human Resources Management for geographical distribution to work with Member States and departments; enhancements in the Galaxy e-staffing system to highlight candidates from unrepresented and underrepresented Member States as well as a search function to help managers identify candidates by nationality.</p><p>An additional measure intended to reduce the numbers of unrepresented and underrepresented Member States was a fast-track pilot project, approved by the General Assembly in its resolution 59/266. The project envisaged establishing a special roster of candidates, for posts at the P-4 and P-5 levels, from unrepresented and underrepresented Member States. The candidates would remain on the special roster until the representation came within the desirable ranges. A total of 319 applications have been received from nationals of nine of the Member States concerned. At the time of writing of this report, the applications are under review by programme managers and central review bodies.</p><p>In resolutions 57/305 and 59/266, the General Assembly requested the Secretary-General to increase his efforts to attain and monitor the goal of gender parity in the Secretariat, in particular at senior levels, and in this context to ensure that women, especially those from developing countries and countries with economies in transition, are appropriately represented within the Secretariat.</p><p>In response to those requests, the Secretary-General has implemented several measures to hold managers more accountable for meeting gender targets. The measures include setting specific gender targets in the human resources action plans in the light of individual departmental performance with a view to achieving gender parity; requiring heads of department to certify that geography and gender targets were taken into consideration in their selection decisions; enhancement of the Galaxy e-staffing system to include a special feature that highlights women candidates and a search function to help managers identify candidates by gender. In addition, a new target was introduced in the human resources action plans to raise awareness among heads of department about the number of women staff from developing countries, from countries with economies in transition and from developed countries.</p><p>The General Assembly has indicated that movement of staff from the General Service and related categories to the Professional category should be exclusively through competitive methods of selection (resolution 33/143). Originally, the percentage of posts available for such moves was 30 per cent of appointments at the P-1 and P-2 levels. By resolution 55/258 the Assembly limited the recruitment of qualified staff from the General Service and related categories to the Professional category to up to 10 per cent of the appointments at those levels. In addition, in accordance with resolution 59/266, from 2005 up to seven successful candidates from the General Service to Professional examination may be appointed to posts not subject to geographical distribution at the P-2 level each year. In duty stations with chronically high vacancy rates, up to three successful candidates from the General Service to Professional examination may be appointed to P-2 posts each year when no successful candidates from the national competitive examination are available.</p><h1>Impact of reforms to date and rationale for change</h1><p>Reforms undertaken in recent years have resulted in greater consistency in recruitment and staffing through the institutionalizing of organizational standards and encouragement of proactive human resources planning. They have simplified and expedited the recruitment process, and broadened the pool of applicants. The Galaxy system has made the circulation of vacancies more transparent and the application process more accessible. It has allowed candidates to access the vacancies online, considerably widening the pool of external applications. Candidates from 191 Member States have submitted applications through Galaxy. The increase in the number of applications has, however, created a substantial increase in screening and administrative processing for managers and administrative staff.</p><p>Consistency and objectivity have been enhanced in the review of cases, as the central review bodies ensure that evaluation criteria are approved prior to the review of candidates, and that only pre-approved criteria are used to evaluate candidates. The central review bodies also provide a mechanism to ensure that the process has been properly applied and that selections are based on pre-approved, objective, job-related evaluation criteria.</p><p>The organizational core values and core and managerial competencies are now an integral part of all generic job profiles, vacancy announcements, learning programmes and the performance appraisal system. Competency-based interviews are conducted in accordance with evaluation criteria pre-approved by the central review body, and staff have been trained in competency-based interviewing techniques. This has led to a more common approach to the evaluation of candidates.</p><p>The use of generic job profiles has introduced more coherence to vacancy announcements. Generic job profiles provide standard job descriptions that encompass a large group of related jobs with similar duties and responsibilities, education, work experience and technical skill requirements, and essential core competencies. The use of these profiles has contributed to greater standardization, efficiency, speed and transparency in creating vacancy announcements and clarifying job expectations.</p><p>The use of human resources action plans has resulted in enhanced planning, monitoring and accountability. Progress in meeting organizational goals is now measured through targets and performance indicators for mandates determined by the General Assembly, and in areas where organizational performance needs to be closely monitored. Human resources action plans allow for a more detailed analysis, on a larger scale and with a wider scope, of the achievements and needs of the Organization's workforce.</p><p>Human resources action plan focal points have been established in all departments. Progress in the achievement of the action plan goals is evaluated by measuring the progress made towards achieving targets and indicators established for those goals. Performance scorecards facilitate strategic monitoring by departments and the Office of Human Resources Management. An online system which will improve the monitoring of the implementation of departmental plans will become operational in the near future. The Office of Human Resources Management provides assistance to participating departments and offices in data gathering, analysis and interpretation and the required support in reaching the human resources action plan goals.</p><p>In July 2006, the new Management Performance Board reviewed organizational performance in meeting human resources targets and noted that, although certain departments had made good progress in attaining the goals, overall performance continued to fall short of targets particularly in the areas of geography and gender. The Deputy Secretary-General has followed up with all department heads, emphasizing their accountability in this regard.</p><p>Building on the improvements achieved by previous reforms, including the introduction of the staff selection system in 2002, and the experience gained over the past four years, further adjustments to the recruitment and staffing process are required to keep pace with the operational demands placed on the Organization. Reforms are also needed to make the processes more transparent and to promote greater equity for staff.</p><p>The human resources action plan process has indicated that stronger measures are needed to promote equitable geographical representation and gender balance in the staff composition, which are essential for a truly diverse international civil service. During the third planning cycle (2003-2004), the target of increasing recruitments from unrepresented and underrepresented Member States was met by 19 per cent of departments. The level of representation of Member States has remained fairly constant over the past five years. As at 30 June 2006, 18 Member States were unrepresented, 11 were underrepresented, 141 were within range and 21 were overrepresented.</p><p>While 56.5 per cent of the candidates recruited through the national competitive examination from 2001 to 2005 have been female, gender parity has still to be attained at the Professional and higher levels. As at 30 June 2006, women constitute only 37.4 per cent of staff in the Professional and higher levels. Among senior staff gender balance is especially inadequate: 15.4 per cent of under-secretary-generals, 21.1 per cent of assistant secretary-generals and 30.4 per cent of D-2s are women. Progress in this area has also been slow; the proportion of women staff in Professional and higher categories has increased over the past five years, from 34.9 to 37.4 per cent in 2006.</p><p>The process for recruitment according to administrative instruction ST/AI/2002/4 remains too long, with an average of 174 days from the time a vacancy announcement is issued to the time a candidate is selected. Delays have been caused, in part, by the increase in the volume of applications following the introduction of Galaxy and the difficulty of making enhancements to the e-staffing tool. Galaxy is perceived as not user-friendly, and its lack of integration with the electronic Performance Appraisal System and the Integrated Management Information System makes the processing of data and reporting on performance difficult and time-consuming.</p><p>Currently, the staff selection system is hampered by excessively complex internal eligibility requirements that are governed by numerous factors, including the staff member's time in post and contractual status; the source of funding of the post; level, category, length of contract or limitations of service to a particular office; and whether the staff member has geographical status. This has restricted career opportunities for staff, and limited the pool of available talent. The application of eligibility requirements has proved to be administratively time-consuming and difficult for staff and managers to understand. Their complexity has undermined the transparency of the system. Eliminating most eligibility requirements would ensure that selections are based on merit, taking into account qualifications, experience and competencies.</p><p>Staff have also expressed concern that the system does not have the required degree of transparency and that there are insufficient mechanisms to hold managers accountable. At the twenty-seventh session of the Staff Management Coordination Committee, it was agreed that, when recommending the selection of a candidate to the head of department, programme managers would be required to substantiate their recommendations in writing.</p><p>The Organization's rapidly evolving and increasing field activities require strategic forecasting of human resource needs and targeted, proactive, outreach and recruitment measures, while ensuring that organizational standards are met and applied uniformly and transparently. Recruitment of highly qualified, expert and experienced staff to the 2,500 career Professional and Field Service category positions will meet the identified baseline human resource requirements for United Nations peace operations in designated occupational groups. Staff selected for those career positions would be recruited against Secretariat-wide standards and through the same recruitment, selection and placement mechanisms. To meet the particular needs of peacekeeping, they will be subject to rapid deployment to any peace operation at short notice. Their appointments will not be limited to service in any mission or in any way.</p><p>The implementation of the recommendations of the Brahimi Panel to build rosters of pre-vetted candidates for selection and rapid deployment to United Nations peace operations has yielded valuable experience. The lessons learned and best practices are being applied to refine the systems in place, in particular in terms of improved forecasting of human resource requirements; outreach and identification of sources of qualified and experienced candidates; maintaining open-ended generic vacancy announcements to continually source candidates to meet areas of sustained need; electronic screening of candidates and improvements in the process of clearing candidates against the technical requirements of posts; competency-based interviews; introduction of a central review body mechanism to review rosters of pre-vetted candidates; and electronic access of field missions to the rosters of pre-vetted candidates.</p><p>The standards applicable to the recruitment of Headquarters and field staff are the same. Moreover as agreed at the twenty-seventh session of the Staff Management Coordination Committee, a central review body mechanism is being established for positions in peace operations. Ensuring the consistent application of recruitment policies and procedures throughout the Secretariat will make it possible to eliminate current eligibility restrictions that hinder mobility, thus enabling the essential integration of field and Headquarters staff into one global Secretariat.</p><h1>Elaboration of proposals</h1><h1>More extensive outreach based on strategic workforce planning</h1><p>The Organization will conduct more proactive and targeted recruitment campaigns to provide information about employment opportunities with the United Nations and to invite applications. As part of such outreach, the Organization will approach, for example, academic and policy institutions, professional associations, non-governmental organizations, women's associations, and Member States. The Organization will be more creative in seeking alternative means to disseminate information about vacancies and to attract the attention of promising candidates.</p><p>This outreach will be based on strategic and systematic workforce planning, rather than simply waiting for applications to be sent in response to advertised vacancies. Strategic workforce planning will be based on a systematic analysis of the supply and demand requirements, gap analysis, and proposing solutions to address the gaps between today's workforce and tomorrow's needs, while taking into consideration ongoing departmental efforts undertaken within the human resources action plan system.</p><p>Outreach based on organizational needs will enhance the ability of the Organization to identify and attract the most suitable candidates in a more timely manner and to ensure that the right people are in the right place at the right time to accomplish the mandates of the Organization.</p><h1>Use of rosters of pre-screened candidates</h1><p>In order to expedite recruitment, rosters would be used as the primary instrument for recruitment, placement and promotion for vacancies throughout the Secretariat, including in the field. As all steps in the processing of applicants, from the review of suitability to background checks, will be done before placement on the roster, the use of rosters will significantly reduce the time from the selection to the time the candidate can take up functions.</p><p>On the basis of organizational needs identified through strategic workforce planning exercises, generic job profiles will be developed and generic vacancy announcements will be issued for different occupational groups. The qualifications and competencies of candidates -- both serving staff members and external applicants -- will be pre-screened by human resource officers and confirmed by expert groups. To this end, competency-based interviews will be mandatory for all positions and all supervisory staff will be required to complete training in competency-based interviewing. In general, the composition of the expert groups will be interdepartmental.</p><p>The central review bodies will endorse the generic vacancy announcements and the applicable evaluation criteria. At the end of the process, the central review bodies will review the process leading to proposals for placement on a roster. Central review bodies will also be established for the recruitment of staff for the field-based activities. This will ensure more consistency in the application of rules, policies and procedures for the review and selection of candidates throughout the Secretariat.</p><p>Pre-screened candidates will be administratively cleared and placed on rosters for possible recruitment. The clearance process will include checking of references, educational background, employment history and internal clearances. This upstream work will greatly simplify and speed up the selection of candidates, and allow them to take up their functions sooner.</p><p>When a vacancy arises, the head of department or office will be able to select a candidate from the roster for the relevant occupational group. The manager will conduct interviews with candidates on the roster to determine their suitability for a particular function. Pre-screened candidates will be ready to be reviewed and selected, ensuring significant gains in time. The rosters will be periodically replenished and updated to ensure that staff members have regular opportunities to apply for jobs, and that those on the roster continue to be available for recruitment.</p><p>Staff members will be able to apply for placement on rosters, leading to subsequent selection to posts at the same level or one level higher than their current level. To give staff an opportunity to apply, generic vacancy announcements will be issued regularly, in accordance with the Organization's strategic needs or upon request from departments. If selected for a higher-level post, staff members will be promoted.</p><h1>Establishment of a recruitment and staffing centre to support managers in their selection of staff</h1><p>To support managers in the selection of staff and to enhance the professionalization and consistency of recruitment across the Secretariat, a dedicated recruitment and staffing centre would be established within the Office of Human Resources Management to work in partnership with departments. The main functions of the centre would include building rosters based on strategic workforce planning, conducting outreach campaigns, identifying high-quality candidates, undertaking administrative upstream functions, and supporting recruitment through specific vacancy announcements or temporary recruitment through expedited selection procedures. In creating rosters, the centre would advertise anticipated vacancies using generic vacancy announcement. The centre would also monitor the functioning of central review bodies throughout the Secretariat to ensure the application of consistent standards across the Organization.</p><p>The centre would provide support to the entire Secretariat, including departments and offices with field-based activities. It would be staffed by human resources professionals who would identify operational needs, provide expert support in strategic workforce planning, outreach activities, and efficient selection and recruitment. This would facilitate speedy recruitment and placement of staff which, in turn, would enable the Organization to meet its operational needs in a more effective and efficient manner. It would also increase the consistency in applying rules and policies, and simplify administrative processes.</p><p>The centre would set and administer the national competitive examination for entry-level geographic posts in the Professional category and set the standards for examinations of other types such as pre-employment examinations for General Service and related categories and other entrance tests.</p><p>The work of the centre would be complemented by the activities of career support centres in each duty station which would provide training in areas related to United Nations core values and core and managerial competences, assist staff in developing their careers and offer technical assistance on creating resumes, preparing job applications and participating in interviews.</p><h1>Reduction of the advertising time</h1><p>In order to speed up the recruitment process, heads of office or department would be expected to use rosters as the primary means of filling vacancies. They would have a strong incentive to do so in view of the rapid recruitment which would be made possible by the rosters. In cases where posts are highly specialized and managers are unable to identify a suitable candidate from a roster, specific vacancy announcements would be issued. The procedures for selecting a candidate after advertising for a specific post would remain as under the current system, including the review of evaluation criteria and the process by a joint body.</p><p>As agreed at the twenty-seventh session of the Staff Management Coordination Committee, generic vacancy announcements would be posted for 60 days, while it is proposed that the duration of advertising for specific vacancies would be 30 days. This reduced advertising time would speed up the process in cases where, owing to very specialized needs, a manager is not able to select a candidate from the roster for a specific post to be filled. As approved by the General Assembly in resolution 59/296 (sect. VIII, para. 9), generic vacancy announcements to meet the international staff requirements of United Nations peace operations are accompanied by information on the location of the various positions. Vacancy announcements will have the possibility of not having a closing date, so as to ensure the continuous ability to replenish rosters.</p><h1>Expedited recruitment processes for surge needs</h1><p>In order to respond effectively and expeditiously to possible unexpected surge requirements, heads of department or office would have the discretion to select candidates from either a roster of pre-screened candidates or from departmental databases of qualified candidates in accordance with their delegated authority. Memorandums of understanding could be set up with partner organizations to identify short-term staff members. Staff members recruited through this process would be given a temporary appointment for a period of up to one year, or up to two years in field operations. Staff needed for a longer period would be subject to successful selection for the roster through the regular recruitment procedures. If not selected through the competitive process before reaching the maximum period, such staff members would be separated from service.</p><h1>Expanded career opportunities for serving staff, and the creation of a broader pool of talent by eliminating eligibility restrictions</h1><p>In order to expand career opportunities for serving staff and create a broader pool of talent, internal eligibility restrictions based on contractual status, category, location or duration of service will be eliminated, so that staff have an equal opportunity to be considered on merit.</p><p>It is proposed to eliminate the existing restrictions for applicants to junior Professional posts that are not subject to geographical distribution. Applications for P-2 posts not subject to geographical distribution would be accepted from qualified staff at any level in the General Service and related categories, field staff, and National Professional Officers. As agreed at the twenty-seventh session of the Staff Management Coordination Committee, staff selected for those posts would retain the contractual status they previously held.</p><p>Staff in the General Service and related categories would continue to be able to take the national competitive examination if they are nationals of the countries concerned and meet the requirements. The G to P examination for movement from the General Service and related categories to the Professional category would no longer be held. Posts at the P-2 level subject to geographical distribution and language posts would continue to be filled through competitive examinations. These proposals would broaden career opportunities for qualified staff members in the General Service and related categories, while ensuring that all P-2 posts subject to geographical distribution are available for the national competitive examinations.</p><h1>Revision of examinations and job profiles to match current needs</h1><p>All existing generic job profiles will be systematically reviewed to ensure that they meet organizational needs and facilitate mobility across functions by valuing experience in related occupations. The endorsement of generic vacancy announcements and the applicable evaluation criteria will be done by a central review body in advance, thus avoiding the need for further review. The grading guidelines will also be reviewed in order to ensure consistency in organizational structures across the Secretariat and adequate recognition of different types of qualifications and experience, including service in the field. The process for national competitive examinations will be adjusted where required in order to ensure that junior Professional staff recruited through examinations have the versatility and the potential to work in changing environments, including across occupational groups.</p><h1>Strictly enforced compliance with geography and gender targets</h1><p>In order to meet organizational mandates to improve geographic distribution and gender balance, overall compliance with geography and gender targets will be addressed at the time of individual selection decisions. As agreed at the twenty-seventh session of the Staff Management Coordination Committee, programme managers will be required to substantiate in writing the recommendation for a selection of a candidate to a head of department. Heads of department will have to certify that the geography and gender targets as set out in their respective human resources action plans were taken into account in selection decisions. In cases where department heads, particularly those who are not meeting departmental targets for geography and gender, recommend an external candidate from an overrepresented Member State or a male candidate where there is an equally qualified female candidate, the recommendation will need to be justified to and approved by the Office of Human Resources Management.</p><p>In order to speed up the placement of candidates successful in national competitive examinations, the placement will be managed centrally by the Office of Human Resources Management. To protect the career prospects of staff recruited through the national competitive examinations process, managers who intend to select external candidates at the P-3 level will be required to justify the selection to the Office of Human Resources Management when internal candidates are available.</p><p>As part of workforce planning, the Office of Human Resources Management will be able to identify the Member States that might fall below their desirable ranges so as to engage in more proactive outreach. In addition, to support and strengthen compliance with geography targets it is proposed that the fast-track concept, which was authorized by the General Assembly for a trial period of two years, be mainstreamed as an ongoing mechanism.</p><p>In cooperation with the Office of the Special Adviser on Gender Issues and Advancement of Women and heads of department or office, outreach strategies will expand the pool of qualified women candidates, especially for senior positions and in occupational groups where women are seriously underrepresented. Selection of candidates in departments and offices with significant gender disparity, where gender representation is below the target indicated in the human resources action plan for at least two consecutive years, will be closely monitored and addressed through the Management Performance Board.</p><h1>Aiming to reduce average recruitment times by half</h1><p>The proposals detailed in this report are designed to significantly reduce recruitment times. By using strategic workforce planning, the Organization's needs will be identified in the short, medium and long term. The recruitment system will be streamlined to facilitate more speedy recruitment through the use of rosters as the primary means of recruitment. Specific vacancies for which managers were unable to identify a suitable candidate from a roster would be advertised for 30 days only. All of these proposals are aimed at reducing the current recruitment time of 174 days by one half.</p><p>While the proposed measures would contribute to the reduction of recruitment time, it should be noted that the review of the system has revealed the considerable variation in time taken between departments and duty stations, and among individual managers. Monitoring of managerial and departmental performance in recruitment and selection will help to identify bottlenecks. In addition, enhanced training for managers and review bodies will contribute to alleviating current deficiencies. This will include mandatory competency-based interview training, as agreed at the twenty-seventh session of the Staff Management Coordination Committee.</p><h1>Expected impact of proposals</h1><p>Proactive and strategic recruitment will enhance the Organization's ability to attract and retain high-quality staff who meet organizational standards. While the norm will be recruitment through rosters, the principles of competition and transparency will be applied regardless of the means used, including for surge requirements.</p><p>The proposals on recruitment and staffing will give the Organization important tools to expedite and streamline the staff selection process. They are based on the premise of transparency, simplicity, and flexibility to meet a variety of staffing needs. They seek to take full advantage of upstream work done by the Office of Human Resources Management, programme managers and review bodies, so as to avoid duplication of effort and minimize administrative delays.</p><p>Common recruitment and staffing functions will facilitate more consistent application of organizational standards throughout the Secretariat, thus enabling the Organization to fully benefit from its global pool of talent. In addition, this common function will support better workforce planning and overview of the staffing situation and needs, including in field operations. It will allow the Organization to be proactive and strategic in identifying candidates whose profiles meet the needs.</p><p>Streamlining of the administrative process, including the preparation and review of vacancy announcements and evaluation criteria, and upstreaming of substantive and administrative review, will shorten the time required to fill a vacancy. This will help to reduce the high vacancy rates that prevail in certain duty stations and field operations, as candidates would be reassigned or brought on board with minimum delay. It will also allow for rapid deployment of personnel, which is frequently critical to the success of field operations.</p><p>The proposed measures of strategic planning, targeted outreach activities and close monitoring of performance through human resources action plans will enhance the Organization's ability to meet geographical distribution and gender equity mandates set by the General Assembly.</p><h1>Required changes to the Staff Regulations and Rules</h1><p>No changes in the Staff Regulations would be necessary to implement the proposals. Staff rule 104.14 would be amended to provide for an expedited recruitment process for surge needs and to expand the competence of central review bodies to the recruitment of all staff at the G-5 level and above recruited for a fixed-term appointment of one year or longer. Staff rule 104.15 would also be amended to permit promotion of staff in the General Service and related categories to non-geographical posts.</p><h1>Impact of proposals on the role and authority of the central human resources function</h1><p>As requested by the General Assembly, the proposed measures will strengthen the central role of the Office of Human Resources Management in the management of the Organization's human resources. The Office will be able to conduct and support strategic workforce planning in collaboration with departments, and to have a better overview of the staffing situation and staffing needs, including in field operations. The measures will also ensure a more consistent application of rules, policies and tools in the context of a more integrated Secretariat and enable the Office to spend less time on processing and more on policy-setting and monitoring.</p><p>The Office of Human Resources Management will have a stronger role in supporting the Secretary-General in holding heads of department accountable for their selection decisions and for meeting geography and gender targets. The Assistant Secretary-General for Human Resources Management will have the authority to place candidates from the roster of those who were successful in the national competitive examination for P-2 posts. In cases where a department head recommends an external candidate from an overrepresented Member State or a male candidate where there is an equally qualified female candidate, the recommendation will need to be justified to and approved by the Office of Human Resources Management, except for mission posts and posts located in an office, fund or programme whose executive head has received specific appointment and promotion authority, such as the United Nations Environment Programme (UNEP), the United Nations Office on Drugs and Crime or the Office of Internal Oversight Services. To protect the career prospects of staff recruited through the national competitive examinations process, managers who wish to select external candidates at the P-3 level will be required to justify that recommendation to the Office of Human Resources Management when internal candidates are available.</p><p>Through the human resources action plan system, the Assistant Secretary-General for Human Resources Management will monitor compliance with the requirements of delegated authority by heads of department. In cases where delegated authority in the management of human resources has been improperly exercised, the Assistant Secretary-General for Human Resources Management would, through the Management Performance Board, advise the Secretary-General, who could limit or withdraw delegated authority.</p><h1>Specific accountability measures</h1><p>Managers, the Office of Human Resources Management, central review bodies and staff all have responsibility for ensuring effective and efficient implementation of the proposed recruitment and staffing system. Accountability measures are as follows:</p><h1>Managers</h1><p>Heads of department and office have delegated authority for recruitment and placement and, together with their programme managers, remain responsible for ensuring that the vacant posts are filled in a timely manner, by the most suitable candidate, and in accordance with the organizational mandates, principles and standards. Managers are responsible for ensuring compliance with the policies on selection and mobility, and for releasing staff in a timely manner.</p><p>As agreed at the twenty-seventh session of the Staff Management Coordination Committee, when recommending the selection of a candidate to a head of department, programme managers will be required to substantiate the recommendation in writing. In cases where department heads, particularly those who are not meeting departmental targets for geography and gender, recommend an external candidate from an overrepresented Member State or a male candidate where there is an equally qualified female candidate, the recommendation will need to be justified to and approved by the Office of Human Resources Management, except for mission posts and posts located in an office, fund or programme whose executive head has received specific appointment and promotion authority, such as UNEP, the United Nations Office on Drugs and Crime or the Office of Internal Oversight Services. Moreover, managers who wish to select external candidates for P-3 positions over internal ones will be required to justify that recommendation to the Office of Human Resources Management.</p><p>Heads of department are accountable to the Secretary-General for meeting the targets in their human resources action plans, including on geography and gender.</p><p>In cases where delegated authority in the management of human resources has been improperly exercised, the delegation of authority may be limited or withdrawn by the Secretary-General.</p><h1>Management Performance Board</h1><p>Managerial performance in human resources management is reviewed by the Management Performance Board, chaired by the Deputy Secretary-General, which serves as an instrument of managerial accountability at the highest levels. Compliance with mandates on equitable geographical distribution and gender balance set by the General Assembly are key performance indicators in the management performance plans of department heads. The Management Performance Board can report cases of non-compliance to the Secretary-General for action.</p><h1>Office of Human Resources Management</h1><p>The role of the Office of Human Resources Management will be strengthened in supporting the Secretary-General in holding programme managers accountable for their selection decision. In cases where department heads, particularly those who are not meeting departmental targets for geography and gender, recommend an external candidate from an overrepresented Member State or a male candidate where there is an equally qualified female candidate, the recommendation will need to be justified to and approved by the Office of Human Resources Management, except for mission posts and posts located in an office, fund or programme whose executive head has received specific appointment and promotion authority, such as UNEP, the United Nations Office on Drugs and Crime or the Office of Internal Oversight Services. Moreover, managers who wish to select external candidates for P-3 positions over internal ones will be required to justify that recommendation to the Office of Human Resources Management.</p><p>The Office of Human Resources Management will continue to provide clearance for candidates being proposed for significant functions in human resources management. In the event that clearance is not given to a staff member being proposed for significant functions in human resources management, an explanation will be provided to the staff member. Furthermore, staff members who were interviewed but not selected will be informed that they have not been selected.</p><h1>Department of Management</h1><p>As at present, the Department of Management will continue to provide clearance for candidates being proposed for significant functions in other areas of administration. As agreed at the twenty-seventh session of the Staff Management Coordination Committee, in the event that clearance is not given to a staff member being proposed for significant functions in other areas of administration subject to clearance from the Department of Management, an explanation will be provided to the staff member.</p><h1>Central review bodies</h1><p>The central review bodies will continue to perform a key monitoring role by ensuring that the proposals made by departments or offices are reasoned and objectively justifiable on the basis of the pre-approved evaluation criteria and by reviewing the record to determine whether it indicates the existence of a mistake of fact, a mistake of law or procedure, prejudice or improper motive that could have prevented a full and fair consideration of the requisite qualifications and experience of the candidates. They will continue to review evaluation criteria for all vacancy announcements, including generic announcements, in advance of advertisement or posting, and to review the recommendations to make sure that the process was properly followed before placement on the roster or selection for specific vacancies. Expansion of the use of central review bodies for staff not currently governed by this mechanism will be a major factor in ensuring consistency in the application of recruitment procedures and standards.</p><h1>Staff</h1><p>Staff members are responsible for being proactive in the development of their own careers, for example, by taking the steps to upgrade their skills, to apply for inclusion on rosters, to review regularly the compendium of vacancies and to update periodically their personal information on the rosters. Staff should make proactive use of the staffing system to move periodically to new positions, organizational units, departments or occupational groups.</p><h1>Timeline for implementation</h1><p>The full implementation of the recruitment and staffing strategy would be done in a phased manner over a three-year period. The relevant changes to the Staff Rules and development of administrative issuances for the new recruitment and staffing system would be completed within 12 months of approval.</p><p>The development of a proactive recruitment strategy and the establishment of a recruitment and staffing centre would take approximately one year, provided that the appropriate resources are available and the required information and communication technology infrastructure is in place. The development of rosters could begin as soon as the procedures are in place, the aim being full implementation of the new system at the end of three years.</p><h1>Resource implications</h1><p>As indicated above, the implementation of these reform proposals will be carried out over a three-year period (2007-2009). During the transition period, the Office of Human Resources Management intends to conduct a detailed review of existing structures and capacities relating to recruitment and staffing with a view to realigning its organizational structure to reflect the requirements of the new reform proposals.</p><p>To facilitate the implementation of the proposal outlined above, a recruitment and staffing centre would be established. The main functions of the recruitment and staffing centre would include building rosters based on strategic workforce planning, conducting outreach campaigns, identifying high-quality candidates through targeted recruitment campaigns, and undertaking administrative upstream functions. To undertake these functions in an efficient and effective manner, the Organization would require development and expansion of current skills sets, rearrangement of business processes and enhancement of information technology systems.</p><p>Given the envisaged strategic functions of the new recruitment and staffing centre, additional resources for the transition period of 2007-2009 will be required. The total additional resource requirements for the first year of the transitional period are estimated at $1,390,300. The amount is sought under the programme budget for the biennium 2006-2007 ($709,400) and the support account for peacekeeping operations for the period from 1 July 2006 to 30 June 2007 ($366,100). The remaining amount under the support account for 2007 would be sought under the proposed budget for the support account for peacekeeping operations for the period from 1 July 2007 to 30 June 2008 ($314,800).</p><p>Upon the establishment of the centre, one D-2 post would be required to lead, manage and coordinate the activities of the centre, including working with heads of department and forging partnerships for sourcing of potential candidates. It is proposed to submit to the General Assembly in the context of the proposed programme budget for the biennium 2008-2009 such requirements with regard to that post as may be necessary and any realignment of resources arising from the preliminary assessment of the organizational structure in the Office of Human Resources Management.</p><p>The total requirements for general temporary assistance for 2007 to establish the new recruitment and staffing centre during the initial transitional period amount to $500,600, reflecting the equivalent of one P-5, one P-4 and two General Service (Other level) positions. Of this amount, $263,600 is sought under section 28C, Office of Human Resources Management, of the programme budget for the biennium 2006-2007 for one P-5 and one General Service (Other level) positions. In addition resources would be required from the support account for peacekeeping operations for the period ending 30 June 2007 ($118,500) for one P-4 and one General Service (Other level) positions and the balance for 2007 would be sought in the context of the proposed budget for the support account for peacekeeping operations for the period from 1 July 2007 to 30 June 2008 ($118,500).</p><p>In addition, non-post resources amounting to $889,700 are required for 2007, to be shared between the programme budget for the biennium 2006-2007 ($445,800) and the support account for peacekeeping operations ($247,600) for the period ending 30 June 2007 and subsequently in the context of the budget for the support account for the period from 1 July 2007 to 30 June 2008 ($196,300). Of this amount, total requirements of $250,000 relate to consultancy service, to provide expertise in mapping out a new set of business processes and to assist in the setting-up of the various facets of the operations of the centre. For the advertising and outreach campaigns planned in 2007 with a view to improving geographical distribution and gender balance the anticipated cost is $300,000. Recruitment campaigns will be conducted in unrepresented and underrepresented countries. The expected travel costs for the recruitment campaigns are $180,000. Requirements relating to common services such as rental of office accommodation, communications and supplies would total $159,700.</p><h1>Action requested of the General Assembly</h1><p>The General Assembly is requested:</p><p>(a) To approve the reduction of the advertising time for vacancy announcements from 60 to 30 days for specific vacancies;</p><p>(b) Also to approve the elimination of eligibility restrictions based on category in order to provide greater opportunities for staff in the General Service and related categories to be promoted to posts not subject to geographical distribution at the P-2 level through a competitive process;</p><p>(c) To note that the trial period for the special roster authorized by the General Assembly in resolution 59/266 will expire in December 2006 and to authorize the Secretary-General to continue the use of the special roster for posts at the P-4 and P-5 levels with a view to improving the geographical representation of unrepresented and underrepresented Member States until such Member States are within their desirable ranges;</p><p>(d) To appropriate a total amount under the programme budget for the biennium 2006-2007 of $755,200, comprising $638,400 under section 28C, Office of Human Resources Management, $71,000 under section 28D, Office of Central Support Services, and $45,800 under section 35, Staff assessment, to be offset by an equivalent amount under income section 1, Income from staff assessment;</p><p>(e) To grant the Secretary-General commitment authority for the requirements relating to the strategic functions of the new recruitment centre estimated at $366,100 (net of staff assessment) under the budget for the support account for peacekeeping operations for the period ending 30 June 2007 and to report in the context of the performance report for the support account for peacekeeping operations for the period from 1 July 2006 to 30 June 2007;</p><p>(f) To note that further requirements relating to the transitional period including the establishment of a post of head of the recruitment centre at the D-2 level, will be considered in the context of the proposed programme budget for the biennium 2008-2009, as appropriate, and the proposed budget for the support account for peacekeeping operations for the period from 1 July 2007 to 30 June 2008.</p><h1>Mobility</h1><p>In the past 20 years, the Organization has experienced a dramatic expansion in operations, budgets and functions. The mobility of staff is essential to creating a more versatile, multi-skilled and experienced international civil service capable of fulfilling both the standing requirements of Headquarters programmes and the complex mandates of field activities.</p><h1>Previous reforms</h1><p>The General Assembly has long recognized the value of staff mobility in the Organization and regarded the requirement for mobility as one of the essential elements of contractual status of staff (resolution 55/258, sect. Moreover, staff regulation 1.2 (c) specifically provides that staff are subject to assignment by the Secretary-General to any of the activities or offices of the United Nations. Nevertheless, the principle of mobility as a fundamental cornerstone of service with the United Nations has yet to be fully integrated into the organizational culture.</p><p>Beginning in January 2000, staff at the P-2 level recruited through the national competitive examinations or promoted through the G to P examinations have been subject to managed reassignment during their first five years of service. In offers and letters of appointment, candidates are now informed that when accepting a post in the Organization, they will be expected to move to a different post with new functions and supervision, in the same or a different department or duty station, after two or three years in their first assignment. The Office of Human Resources Management conducts a central matching exercise taking into account the criteria established by managers, the needs of the Organization, and the qualifications and preferences of staff.</p><p>All new junior Professional staff receive ongoing support for their careers and, in particular, for mobility. They attend a week-long special orientation programme, which includes mobility preparedness and assignment of a mentor. They also participate in ongoing follow-up development programmes, career support workshops and career counselling.</p><p>Building on the experience with P-2 mobility, a more comprehensive mobility policy was introduced in 2002, following extensive discussions in the Staff Management Coordination Committee. The policy was designed to stimulate the mobility of 100 series staff as an essential element of career development, as well as to ensure that posts in all duty stations would be filled with experienced and skilled staff. Under this policy, mobility was defined broadly to include movement across functions, occupational groups, departments, duty stations and organizations of the United Nations system. Post occupancy limits were placed on all posts (a maximum of five years for posts from G-5 to P-5 levels, except for posts at the P-2 level; and six years for posts at the D-1 and D-2 levels), and will become effective in May 2007.</p><p>In order to link mobility to career progression, the staff selection system requires two lateral moves prior to promotion to the P-5 level, or one lateral move if the staff member has served in a designated duty station with high vacancy rates or was initially appointed at the P-4 level. In 2005-2006, voluntary lateral reassignment programmes were piloted for staff at the P-3, P-4 and P-5 levels and the G-5, G-6 and G-7 levels.</p><p>In defining and developing the mobility policy, full consideration has been given to the guidance of the General Assembly, as set out in paragraph 49 of resolution 57/305 and affirmed in resolution 59/266 (sect. VIII, para. 2), in which the Secretary-General was requested to ensure that:</p><p>* Mobility does not negatively affect the continuity and the quality of services and the institutional memory and capacity of the Organization. To that end, knowledge management best practice has been examined and will be shared. Initiatives have included rotating staff through different assignments to expand the knowledge base and broaden the shared institutional memory.</p><p>* Mobility does not lead to the transfer or abolition of posts as a result of vacancies. The Office of Human Resources Management has emphasized that mobility is intended to facilitate the movement of staff and should not be linked to the transfer or abolition of posts.</p><p>* Mobility has a positive impact in filling existing high vacancy rates at some United Nations duty stations and regional commissions. Accordingly, incentives have been created to encourage mobility to duty stations with high vacancy rates, for example, by requiring only one, as opposed to two, lateral moves for promotion to the P-5 level where there has been service in Nairobi or a regional commission other than the Economic Commission for Europe for two years.</p><p>* There is a clear differentiation between mobility within duty stations and mobility across duty stations, and that the latter is a more important factor in career development. Again, the policy of requiring only one lateral move for promotion to the P-5 level where there has been service in certain duty stations is intended to give greater weight to mobility across duty stations.</p><p>* Mobility is encouraged for all posts in the Professional and higher categories. The mobility policy reflects this approach, as post occupancy limits have been placed on all posts at the Professional and higher categories up to the D-2 level.</p><p>A detailed strategy was put in place to implement the organizational mobility policy. The first two phases of the strategy have been completed. The first phase (2002-2004) involved introducing the concept of mobility, promoting organizational change, and creating the programmes and mechanisms to prepare and support staff. The second phase of refining the mobility policy and a strategic implementation plan, and developing the information technology (IT) infrastructure to support mobility, was completed in 2005. Further refinements to the policy and infrastructure and awareness-building are continuing during the third phase. The final phase of implementing managed mobility for staff other than those at the P-2 level will begin in 2007.</p><p>Initiatives which have been taken to support staff in preparing for mobility include (a) training programmes to introduce the new staff selection system and mobility policy to staff at all levels at all duty stations; (b) workshops for staff and managers on career planning; (c) the establishment of Career Resource Centres in all major duty stations; (d) a revised e-PAS which includes a career development goal, a learning goal and expression of interest in mission assignment; and (e) the issuance online of generic job profiles covering the majority of Professional posts and General Service posts (G-5 and higher), to clarify job expectations.</p><p>Staff surveys indicate that a critical obstacle to mobility is the serious difficulty faced by dual-career families. Recognizing that incentives alone will not be sufficient to encourage mobility unless progress can be made in addressing obstacles to mobility, the Organization has undertaken some efforts to examine and address work and life issues.</p><h1>Impact of reforms to date and rationale for change</h1><p>Prior to the introduction of the managed reassignment programmes for P-2 staff and the mobility policy, which established mobility as an integral part of careers at the United Nations, mobility was largely ad hoc and mobility mechanisms were fragmented and weak.</p><p>Since 2000, major progress has been made in managed reassignment and voluntary reassignment programmes for P-2 staff, resulting in the movement of 196 staff members. Among these, almost one half were promoted or obtained lateral moves on their own initiative. While the programmes were initially met with some reluctance when introduced in 2000, over the years there has been a growing acceptance and willingness to participate in the programmes, on the part of both staff members and programme managers. The experience of these programmes showed that, when P-2 staff were aware that they would be required to participate in a mandatory managed mobility programme, almost half took the initiative to move on their own before the time when they would otherwise be due to move. As a result, the Office of Human Resources Management had to move only 40 per cent of eligible P-2 staff in a centrally managed programme.</p><p>Progress has been made towards creating an organizational culture where mobility is accepted as an essential element of international civil service. For example, records on staff mobility in 25 departments show an increase from 10.8 per cent in 2002, when the policy was first introduced, to 15.3 per cent in 2005. Nevertheless, full and effective implementation of the mobility policy remains a significant challenge. The numbers of international Professional staff are large, and the sizes of locations where they serve differ. There are at least 23 occupational groups, not all of which are replicated in all duty stations. Some of the Professional staff are highly specialized and based only in certain locations. These factors make the administration of mobility complex and substantially different from the situation prevailing in the United Nations funds and programmes, and make straight forward rotation not feasible.</p><p>Much can and should be done to improve mobility, however. The current policy applies only to a limited number of staff recruited under the 100 series of the Staff Rules. The Organization cannot fully utilize the valuable experience, skills and knowledge of large numbers of staff, as the policy does not apply to the majority of staff serving in the field who are recruited under the 200 and 300 series of the Staff Rules. In addition, the limits on the number of staff in the General Service and related categories who may serve in United Nations peace operations, as set out in General Assembly resolutions 59/266 and 59/296, create further restrictions and have further challenged the ability to staff peacekeeping missions. As a result of the effort to meet the 5 per cent limit imposed by the General Assembly in resolution 59/269, recruitment efforts had to be undertaken to fill some additional 200 vacancies, because of the need to return General Service staff concerned to their parent duty stations.</p><p>All United Nations staff should have equal access to opportunities in the Organization as well as equal responsibility to share the burden of service in hardship duty stations, and contribute their services to challenging field activities. The increasingly integrated nature of the Organization's work in the field, evidenced most clearly by Security Council mandates for \"integrated\" United Nations peace operations, demands a workforce that has an integrated Headquarters and field perspective and is able to work collaboratively with staff of the United Nations agencies, funds and programmes.</p><p>The integrated nature of work makes movement within the United Nations common system more important, but the current policies do not provide for easy movement throughout the system. Inter-agency movement is further jeopardized by unequal conditions of service, as the funds and programmes offer better compensation packages which also improve work/life balance in non-family duty stations.</p><p>The Organization has established links with Partnerjob.com, an association of companies and organizations with mobile employees which provides a database for resumes and job openings to help find jobs for employees' spouses and partners, and the Permits Foundation, an association of international companies working together to encourage Governments to relax work permit regulations to assist with expatriate spouse employment. The United Nations has also participated in an inter-agency project fostered by the United Nations Development Group to establish expatriate spouse support networks at field duty stations. However, additional measures are required to address this major concern.</p><p>Building on experience to date, further action is needed to strengthen the organizational mobility policy to ensure that it meets both the needs of the Organization and individual staff members, and to put in place the necessary information technology structure and support.</p><h1>Elaboration of proposals</h1><h1>Authority for the Secretary-General to move staff members wherever they are needed</h1><p>Critical to the most effective use of the Organization's human resources is the Secretary-General's authority under staff regulation 1.2 (c) to move staff members to any of the activities or offices of the United Nations, inclusive of departments, offices and field missions, in the interests of the Organization. The General Assembly in resolution 51/226 limited the discretionary power of the Secretary-General of appointment and promotion outside the established procedures to his Executive Office and the Under-Secretary-General and Assistant Secretary-General levels, as well as special envoys at all levels, while in resolution 59/266 the Assembly recognized the authority of the Secretary-General to assign and deploy staff according to the operational needs of the Organization. The Secretary-General's authority to move staff members wherever they are needed to meet organizational requirements should be recognized and respected. As clarified at the twenty-seventh session of the Staff Management Coordination Committee, the discretionary power of the Secretary-General to assign staff members to any of the activities or offices of the Organization must be exercised properly, that is, without mistake of fact or law, prejudice or improper motive.</p><h1>Strict enforcement of current post occupancy limits</h1><p>The current provisions for post occupancy limits of five years for posts from G-5 to P-5 levels (except for posts at the P-2 level where there is a managed reassignment after two to three years in post) and six years for posts at the D-1 and D-2 levels, will be strictly enforced. When a staff member has reached his or her post occupancy limit, the post will be included in a mobility compendium and he or she will be required to move to another function, occupational group, department or duty station; the mobility requirement can also be fulfilled by movement to another agency of the United Nations system.</p><p>As a general rule, international posts will be designated as rotational in a global context, and the posts at the G-5 to G-7 levels will be rotational within the duty station. A limited number of posts which involve the performance of highly specialized and/or location-specific functions may be designated as non-rotational. The designation will be made by the Office of Human Resources Management in consultation with department heads.</p><p>Starting in May 2007, managed mobility will be implemented in a gradual and phased manner so as to maintain continuity and quality of service, starting with staff at the P-3 and G-7 levels, from May to October 2007; staff at the P-4 and G-6 levels, from November 2007 to April 2008; staff at the P-5 and G-5 levels, from May to October 2008; and staff at the D-1 and D-2 levels in November 2008. Managed reassignment exercises will have four main phases: (a) the establishment of a compendium, listing posts encumbered by participating staff members who have reached their post occupancy limit; (b) the application by staff members to posts in the compendium; (c) the review and evaluation of applications by programme managers; and (d) a matching exercise of participants for posts in the compendium, conducted by the Office of Human Resources Management after evaluation by the programme managers.</p><p>Staff members or managers may request a delay in the placement of a post on the compendium, if there are legitimate reasons to do so relating to personal hardship or organizational interests. The requests will be examined by the Office of Human Resources Management and granted only in exceptional cases. In certain special situations, staff members may be exempt from mobility and/or have their move deferred for a specified period -- normally not more than one year. When applying to the compendium, staff will be provided an opportunity to express their preferences for posts or locations. While those preferences will not be binding, they will be taken into consideration to the greatest extent possible when deciding on individual moves.</p><p>To respond to the request of the General Assembly that geographical mobility should be a more important factor in career development, geographical mobility or service at a field mission or another agency, in the same or a different duty station, for at least one year will also be introduced as precondition for promotion to the P-5 level and above. This will help to ensure that by the time a staff member has reached the P-5 level, he or she has had a diverse background with increasing responsibilities, including supervisory experience and, therefore, a more integrated perspective and ability to contribute more fully to the work of the Organization.</p><h1>Integrating field operations in Organization-wide mobility programmes</h1><p>As a critical element of the effort to build an integrated Secretariat workforce committed to, and knowledgeable of, the work of the Organization both at Headquarters and in the field, staff serving within the 2,500 career positions in United Nations peace operations, as well as staff serving in other in United Nations field offices, would be eligible for inclusion in the mobility programme. Those positions would also be open to qualified staff from all duty stations.</p><p>Noting the request by the General Assembly that consideration be given to the use of incentives with a view to encouraging staff to move to duty stations with chronically high vacancy rates (resolution 59/266, sect. VIII, para. 8), international staff serving in duty stations with a more severe hardship classification (C to E classifications) will have shorter post occupancy limits. Priority consideration will be given to those staff members for subsequent reassignment. This will contribute to alleviating the problem of chronic vacancies at these locations by communicating to staff that those who take up posts in difficult duty stations would be able to move to other duty stations. Post occupancy limits for field missions will be determined by the respective managing departments in accordance with operational needs, security considerations and other relevant factors. In all cases, post occupancy limits will not exceed the current five or six years, as applicable.</p><h1>Expanded training and improved work/life conditions and career development</h1><p>Staff will be provided with more training opportunities for professional growth and development to upgrade or broaden their skills to prepare them for changing mandates, working in different departments or offices, duty stations or peacekeeping missions, and moving across occupational groups. In particular, additional resources will be needed to expand global access to learning and development, for example, developing the United Nations Virtual Academy to provide self-study courses, providing additional learning resources to staff serving in hardship duty stations, and other training resources online. The proposals relating to increased career development opportunities are set out in section V below.</p><p>In its resolution 59/266 (sect. VIII, para. 12), the General Assembly acknowledged that mobility needs to be supported through greater efforts to improve conditions of life and work at the various duty stations. The Organization will continue to address work/life issues that impede mobility and are a barrier to achieving gender parity, in particular concerns affecting women and staff with family responsibilities. In the implementation of the managed reassignment exercises, every effort will be made, when determining the timing of a geographical reassignment, to minimize the disruption of work in the duty station involved and to take into account leave and school calendar requirements, as well as the requirements of staff whose children have special needs.</p><p>In the conduct of matching exercises, the Office of Human Resources Management will give priority consideration to staff who have served in hardship and/or non-family duty stations for postings in headquarters/family duty station postings, and accord greater weight to the preferences expressed by staff members serving in hardship duty stations (C to E classifications) when they apply to the mobility compendium. In order to expand possibilities for dual career couples, the Organization will continue to provide career counselling and job search assistance; explore telecommuting options for spouses; give priority consideration of spouses for consulting opportunities, where appropriate; give priority to the relocation of spouses within the managed mobility programme, subject to availability of suitable posts and satisfactory performance; review host country agreements with a view to obtaining permission for spouses to work; and support the creation of inter-agency spouse support networks at all duty stations.</p><h1>Greater opportunities for General Service mobility</h1><p>The mobility, including inter-agency mobility, of staff in the General Service and related categories will continue to be encouraged and supported.</p><p>The Office of Human Resources Management will continue to introduce and enhance development programmes Secretariat-wide, including special career development workshops aimed at General Service staff, to provide staff with new skills and competencies, promote culture change and create awareness of the benefits of mobility. Career Resource Centres will continue to provide services to staff, including individual counselling and opportunities to practise their skills and consult a wide assortment of books, videos, websites and other self-study materials related to career development. Further details of these programmes can be found in section V below.</p><p>As proposed in section III above, staff in the General Service and related categories would also have greater opportunities for mobility to the Professional categories through the elimination of restrictions for applications for P-2 posts not subject to geographical distribution.</p><p>Where staff members in General Service and related categories move from another agency within the same duty station, they will be permitted to apply and be appointed at the level of the new post instead of at the entry level as at present. The same practice will be followed with respect to staff who relocate themselves to another duty station.</p><p>Staff members in the General Service and related categories who are temporarily assigned to field missions bring with them institutional knowledge and considerable value and expertise from a Headquarters perspective to United Nations peace operations. They are operational immediately upon deployment, with minimal if any requirement for training. In addition, given their knowledge of United Nations regulations and rules, they are a valuable resource to train and mentor new and locally recruited mission staff. For staff members, mission service is an opportunity to acquire additional experience and new skills, as they are often called upon to function at higher levels in a work structure which is more flexible than that of the established environment of their parent duty station. Most important, upon their return from assignment, staff members bring back a field perspective which enhances the integration of support between Headquarters and the field.</p><p>In view of the fluctuating requirements of United Nations peace operations, depending on the phases of surge or liquidation of field missions, it is critical that the Organization maintains the flexibility of determining its needs for temporary assignment of staff members to mission service. As agreed at the twenty-seventh session of the Staff Management Coordination Committee, it is proposed that the General Assembly remove the limit on staff on assignment from Headquarters, which is currently set at 5 per cent of authorized General Service/Field Service posts across missions, with the exception of those missions in a start-up phase, and other exceptional circumstances (resolution 59/296, sect. VIII, para.</p><h1>Expected impact of proposals</h1><p>Increased mobility of staff will lead to a more versatile, multi-skilled and experienced international civil service capable of fulfilling the standing requirements of Headquarters programmes as well as the complex and diverse mandates entrusted to the Organization by Member States. Therefore, once mobility has been institutionalized as an integral part of each staff member's career, it is expected that this will result in increased flexibility and responsiveness, including the ability to meet rapid deployment requirements, by preparing staff to operate in a multidisciplinary environment. Programme delivery capacity will be increased by addressing chronic vacancy challenges and ensuring that staff have the opportunity to serve, on a rotational basis and for time-bound periods, in both hardship and non-hardship duty stations.</p><p>The possibility of offering increased staff development and career advancement opportunities will be reinforced, helping to attract and retain high-calibre staff. It will result in a growing managerial cadre with a more comprehensive understanding of, and therefore ability to address, the many facets of the Organization's work programme, through greater integration and mutual understanding and support of the work of field and Headquarters-based staff.</p><p>An effective organizational mobility policy will ensure that there are no adverse effects on the quality of services or the capacity of the Organization. Accordingly, the proposals provide for the managed reassignment exercises to be implemented in a manner that allows for the consideration of requests to delay the enforcement of post occupancy limits where legitimate reasons relating to organizational interests exist. Similarly, the managed reassignment exercises will allow programme managers to play an important role in evaluating candidates for encumbered posts so that placement decisions would take their input into account.</p><h1>Required changes to the Staff Regulations and Rules</h1><p>To implement the proposals relating to mobility, no changes to the Staff Regulations and Rules would be needed other than the change in staff rule 104.15 noted in section III above (para.</p><h1>Impact of proposals on the role and authority of the central human resources function</h1><p>The Office of Human Resources Management will play a significant role in all aspects of the implementation of the mobility policies, in particular the conduct of the managed reassignment exercises for all Professional staff, Secretariat-wide, and for General Service staff at Headquarters. The Office will be responsible for compiling and issuing the compendium of posts, reviewing the applications to the compendium and submitting interested and qualified participants to the respective departments or offices, and conducting matching exercises to place the participants following evaluation by the programme managers. In cases where staff members are unwilling or unable to move in accordance with the mobility policy, the Office will have the authority to place those staff members.</p><p>The monitoring function of the Office of Human Resources Management will be strengthened in order to assist with the early identification of potential problems, so that they can be addressed in a timely fashion and recorded for further action. To provide the necessary support for mobility, another major area of responsibility for the Office will be in the expansion of staff development and career support programmes. This will include developing programmes to upgrade substantive skills or to prepare staff for work in other duty stations or field missions. Other functions to be undertaken by the Office include evaluating and deciding on requests to delay the placement of a post on the mobility compendium, designating international posts as rotational, making determinations on appropriate post occupancy limits and ensuring compliance with organizational policies.</p><h1>Specific accountability measures</h1><h1>Managers</h1><p>Heads of department and office will be expected to comply with the mobility policy, to release and accept staff members who are selected to be moved or need to be reassigned, including those placed by the Office of Human Resources Management. Heads of department and office will be responsible for putting into place systems to support mobility, which will include the introduction of standard operating procedures to facilitate knowledge management and the preservation of institutional memory, and undertaking succession planning and cross-training to ensure that the institutional capacity to deliver the programme is preserved. They will also be responsible for providing staff with the opportunities to support mobility, including enabling staff to undertake the necessary training.</p><h1>Staff</h1><p>Staff are required to assume their responsibility for mobility by actively applying for vacancies and participating in the managed mobility programme in accordance with the timeframes and procedures set out in the policy. They are also expected to avail themselves of career advancement and development opportunities.</p><h1>Office of Human Resources Management</h1><p>The Office of Human Resources Management will be responsible for monitoring compliance with the mobility policy by staff and managers. It will also be responsible for placing staff who were not able to move themselves. As agreed at the twenty-seventh session of the Staff Management Coordination Committee, the Office will designate a mobility focal point for staff associations so that they have an avenue for raising any concerns with respect to the implementation of the programme.</p><h1>Timeline for implementation</h1><p>In the context of the overall mobility policy, the basic policies and procedures have already been put in place. From May 2007, managed mobility will be implemented in a phased manner, in order to maintain continuity and quality of service, in accordance with the proposals for a four-stage approach supported by expanded training and improved work/life conditions set out in section V below.</p><p>Upon the approval of the concept of designation of the 2,500 posts in United Nations peace operations as career positions, those positions would be integrated into the Organization's mobility programme.</p><h1>Resource implications</h1><p>The implementation of the managed reassignment programme will, in the initial three-year transitional period, result in a surge in the workload of the Office of Human Resources Management. Accordingly, during 2007, staffing resources equivalent to two P-4, one P-3 and two General Service posts are proposed, amounting to $339,700, $220,300 under the programme budget for the biennium 2006-2007 and $59,700 under the support account for peacekeeping operations for the period ending 30 June 2007; the balance for 2007, estimated at $59,700, would be sought in the context of the budget for the support account for the period from 1 July 2007 to 30 June 2008. Of this total amount, two new P-4 posts and one General Service (Other level) post are sought under the programme budget for the biennium 2006-2007 and one P-3 and one General Service (Other level) posts are sought under the support account for peacekeeping operations for the current period ending 30 June 2007.</p><p>Additional common services requirements, including rental of office accommodation, communication and supplies and the like, totalling $189,500, would be required in 2007. Of this amount $110,700, comprising $14,700 under section 28C, Office of Human Resources Management, and $96,000 under section 28D, Office of Central Support Services, would be required under the programme budget for the biennium 2006-2007; the remainder, amounting to $65,000 covering similar common services requirements, is sought from the support account for peacekeeping operations for the financial period ending 30 June 2007; and an estimated amount of $13,800 would be sought in the context of the proposed budget for the support account for peacekeeping operations for the period from 1 July 2007 to 30 June 2008.</p><p>Continuing resources for the subsequent budgetary period would be considered in the context of the proposed programme budget for the biennium 2008-2009 and the proposed budget for the support account for peacekeeping operations for the period from 1 July 2007 to 30 June 2008.</p><p>The expansion of staff development and career support programmes to support mobility will also be required to upgrade substantive skills, to maintain Career Resource Centres and increase the delivery of career development workshops at every duty station. These requirements are addressed in section V below.</p><p>While the total population of staff that could potentially move under the managed mobility programme in 2007 is preliminarily estimated at 500, definitive numbers would not be available pending full implementation and experience gained from the exercise. Mobility within the same duty station would not require additional resources. However, as would be expected, mobility between duty stations would give rise to additional requirements. At this time, a possible estimate would be 20 per cent of the 500 eligible staff. In the absence of concrete information on the numbers involved, however, such additional requirements would be accommodated under common staff costs and reported in the context of the performance report.</p><h1>Action requested of the General Assembly</h1><p>The General Assembly is requested:</p><p>(a) To decide to eliminate the restrictions on staff on assignment to United Nations peace missions, currently set at 5 per cent of authorized General Service and Field Service posts across missions, with the exception of those missions in a start-up phase or other exceptional circumstances;</p><p>(b) To support the review of host country agreements and the issuance of work permits with a view to supporting the employment of spouses of United Nations staff;</p><p>(c) To approve the establishment of five new temporary posts (2 P-4, 1 P-3 and 2 General Service (Other level));</p><p>(d) To appropriate a total amount under the programme budget for the biennium 2006-2007 of $366,400, comprising $235,000 under section 28C, Office of Human Resources Management, $96,000 under section 28D, Office of Central Support Services, and $35,400 under section 35, Staff assessment, to be offset by an equivalent amount under income section 1, Income from staff assessment;</p><p>(e) To grant the Secretary-General commitment authority for the requirements relating to the establishment of two posts (1 P-3 and 1 General Service (Other level)) and associated common service costs estimated at $124,700 (net of staff assessment) under the budget for the support account for peacekeeping operations for the period ending 30 June 2007 and to report in the context of the performance report for the support account for peacekeeping operations for the period from 1 July 2006 to 30 June 2007;</p><p>(f) To note that further requirements relating to the transitional period will be presented in the context of the proposed programme budget for the biennium 2008-2009 and the proposed budget for the support account for peacekeeping operations for the period from 1 July 2007 to 30 June 2008.</p><h1>Career development and support</h1><p>An effective career development policy simultaneously builds organizational and individual capacity. It is based on the principle that responsibility for career growth and development is shared by the Organization, its managers and its staff, with each playing a critical role. The policy requires the Organization to provide a framework of opportunity and the requisite supporting programmes and systems; it requires managers to support staff development and career progress; and it requires staff members to be committed to their continuous professional growth. The goal is to build and maintain a highly competent, multi-skilled and versatile international civil service capable of meeting the Organization's present and future needs and, in so doing, to meet the development needs and aspirations of individual staff members.</p><h1>Previous reforms</h1><p>The Organization has put in place a comprehensive career development policy which emphasizes that career development is a shared responsibility. To support the implementation of this policy, the Organization's career development system has been made more systematic through the integration of organizational core and managerial competencies into all human resources management systems, including recruitment, staff development, performance management and career progression; a staff selection system which emphasizes demonstrated competencies and performance as the basis for career progression and which includes mobility as an integral part of all staff members' careers; and development and career support programmes to ensure continuous professional growth of staff at all levels.</p><p>Progress has been made in strengthening staff development and career support for Secretariat staff stationed at Headquarters and regional commission duty stations, which, among other things, include centrally organized programmes provided in-house and external training for development of substantive and information technology skills based on annual needs assessments. Career resources centres have been established in those duty stations, and individual career coaching is also available. In support of mobility and career development, programmes have been developed for all staff at all levels, focusing on career and life planning, networking and developing effective written job applications and interviewing techniques, as well as for managers to prepare them better to engage effectively in career coaching and succession development.</p><p>A key objective of the career development system is to attract, develop and retain young Professional staff of the highest calibre from all parts of the world. Upon joining the Organization, entry-level Professionals throughout the Secretariat take part in a week-long orientation programme. An additional component of the orientation is a mentoring programme to provide young Professionals with career support by complementing the initiation and training offered to them by their direct supervisors and managers. Specific customized sessions on conflict resolution and global diversity are integrated into the programme.</p><p>After staff members take on supervisory functions, they are expected to participate in the supervisory skills development programme, which is part of an integrated series of mandatory programmes to build progressive leadership and managerial competencies at appropriate intervals throughout a staff member's career. This series of programmes includes supervisory skills development for all supervisors; middle-level management development for P-4 and P-5 staff; and leadership development programme for staff at the Director level.</p><p>Further to the Secretary-General's commitment contained in action 27 of his report entitled \"Strengthening of the United Nations: an agenda for further change\" (A/57/387 and Corr.1), the supervisory programme for General Service staff has been expanded into two modules to be taken within a period of six months to a year of each other and is complemented by a series of other programmes, which seek to build up effective communication and listening in a culturally diverse environment, and to develop win-win relationships through influence and managing resistance. Some additional relevant programmes for General Service staff are those on effective communication, effective meetings, time management and collaborative negotiation skills.</p><p>While the Organization is committed to providing staff with a framework of opportunities, the role of managers in the development of their staff is critical. This role is being reinforced in supervisory and managerial development programmes, as well as in special career planning workshops for managers.</p><p>Increased use of online training and distance learning is making training available to larger numbers of staff across the Secretariat. An expanded library of self-study online courses on more than 5,000 topics is now offered via the Internet, providing learning opportunities in the office, at home or anywhere staff have Internet access. Online language-learning support tools have been developed, for which the Language and Communication Programme received the UN 21 Award in 2005. In respect of the core values of integrity, professionalism and respect for diversity a mandatory online training on integrity awareness was introduced in 2005. At the inter-agency level, a mandatory online training programme on prevention of harassment, sexual harassment and abuse of authority in the workplace has been launched in collaboration with the United Nations Development Programme (UNDP), the United Nations Population Fund, the Office of the United Nations High Commissioner for Refugees (UNHCR), the United Nations Children's Fund, the United Nations Office for Project Services (UNOPS) and the World Food Programme.</p><p>Evaluation is an integral part of all developmental activities, both to ensure that programmes meet priority organizational needs and to measure impact. In addition to internal monitoring and assessment, periodic independent external evaluations of staff development programmes are conducted.</p><h1>Impact of reforms to date and rationale for change</h1><p>In recent years, staff development in the global Secretariat has evolved from a limited programme devoted primarily to language and information technology training to a strategic function with an organizational development focus. The approach to training and development has evolved from ad hoc and reactive to proactive and integrated. Commitment to continuous learning has been identified as an organizational core competency and a key underpinning of reform.</p><p>The most recent external evaluation of staff development programmes in 2004 showed, overall, a high level of satisfaction with the quality and relevance of centrally managed programmes as well as an increased awareness among staff and managers of the key role that developmental activities play in career development and job satisfaction. The evaluation confirmed that programmes are aligned and integrated with the larger changes in human resources management and with the overall reform process. However, the report concluded that taking development programmes to the next level of impact would require investment in capacity (people, process and technology) and that, without an infusion of capacity, the Organization risked losing the momentum gained in the reform efforts.</p><p>As the Organization moves to become more integrated and field-based, and takes on increasingly complex mandates, new skills and competencies will be required of both staff and managers. Building on past initiatives, career development and learning opportunities, including continuous development of skills and competencies, must be expanded to meet the changing needs of the Organization -- and the expectations of staff.</p><p>Research has shown that talented young professionals increasingly look at possibilities for learning, growth and development when choosing a future employer. The investment the Organization makes in recruiting the highest calibre of talent from around the world must be matched by a commensurate investment in further developing and retaining that talent. In this context, focus must be given to providing entry-level professionals, who represent the future of the Organization, with systematic developmental opportunities to enhance their career satisfaction and their value to the Organization.</p><p>Attention must be paid to developing managers who not only play a key role in managing the staff but are also entrusted with the stewardship of the Organization's resources. More systematic training and certification in key areas of resource management will help promote common understanding of organizational rules, regulations, procedures and ethical standards and contribute significantly to managing risk.</p><p>The Secretary-General has consistently stressed that sustained efforts are required to build and maintain the professional competence of staff, and that devoting resources for this purpose is a critical investment in the Organization's future. Still, annual Secretariat-wide training needs assessments, carried out in the context of decentralized programmes for the upgrading of technical and substantive skills, consistently indicate a sizeable gap (as much as 70 per cent) between available resources and the needs indicated. Training funds amount to less that 1 per cent of staff costs, well below the level of other United Nations funds and programmes and far from the average of at least 4 per cent in best-practice organizations.</p><h1>Elaboration of proposals</h1><p>Paragraphs 190 to 202 below elaborate on the first three points in proposal 3. Details on the fourth point are provided in section VIII below.</p><h1>Significant increase in resources for staff development and career support</h1><p>The Secretary-General has proposed a much-needed doubling of regular budget resources dedicated to training and developing United Nations staff. This would increase the annual training budget to $20 million. The increased resources, among other things, would facilitate the expansion of the online learning environment, including through e-learning and the establishment of a United Nations Virtual Academy; provide for the introduction of programmes to groom high-potential staff; permit greater attention to leadership and management development, more extensive career counselling and other career support activities; expand programmes for substantive and technical skills on the basis of departmental annual needs assessments; and harmonize language and communications programmes among duty stations.</p><p>Sustaining an integrated, global Secretariat requires that all staff, regardless of their location or source of funding, be trained to the same standard, in order to build a common organizational culture, better manage talent and promote geographic mobility. Funding for staff development and career support for field staff is not adequate to meet current and future needs. Every effort will be made to seek additional funding to ensure a similar level of staff development and career support for staff financed from sources other than the regular budget.</p><p>Training and development programmes would include expanded online learning opportunities, which would be available equitably to all staff regardless of location. To build management capacity, functional and technical training and certification in certain key areas of administration and management would be provided, such as in human resources management, finance and budget, administration of justice and HIV/AIDS awareness. Emphasis would be placed on the development of cross-cutting programmes on management issues, under the auspices of the United Nations System Staff College and with inter-agency collaboration.</p><p>Greater investment would be made in leadership, management and organizational development, as evidence shows this to have a strong impact on the performance and motivation of staff. For example, potential candidates for managerial positions could be offered specific developmental assignments, training and the opportunity to be assessed for future managerial openings. The mandatory orientation programme for newly appointed senior officials, including those in field missions, would be expanded to include briefings on expectations and accountabilities, ethics and current organizational issues so as to promote shared values and ethical standards across all facets of the Organization's work.</p><p>A United Nations Virtual Academy would be established to promote core values and support staff of the United Nations, and for the development of both core and managerial competencies and professional skills. As envisaged, the Virtual Academy would be universally accessible to staff Secretariat-wide and would take full advantage of the United Nations information and communication technology infrastructure. It would serve as a central repository for organizational experience and best practices and provide learning tools and curricula for staff development in all occupational groups and for staff at all levels. The Academy would place special emphasis on those tools and curricula that could serve to develop networks, build bridges across duty stations and occupational groups and create an Organization-wide environment of trust and common goals. It would provide self-paced courses, face-to-face workshops, online capabilities and cooperation with international educational institutions.</p><p>Gender mainstreaming programmes would be increased to promote gender sensitivity in the workplace and promote diversity awareness and cross-cultural sensitivity. Development programmes for women leaders and emerging women leaders at the middle-management level would be expanded. General Service development programmes, including those which build essential skills and competencies in areas such as supervisory skills, communication, teamwork, work planning and organization, client orientation and time management, would be increased. Training programmes would be expanded in the area of administration of justice, including through the provision of training to investigators of allegations of harassment, sexual harassment, abuse of authority and discrimination, in conjunction with the Office of Internal Oversight Services.</p><p>The substantive and technical skills programme is offered to develop and maintain the specialized competence needed to carry out the Organization's substantive and technical work. Increased funding would permit the needs at all duty stations to be met in a more responsive manner and widen the opportunities for external studies to allow more staff to participate. This could include more assistance for the pursuit of higher education, especially for staff in duty stations where opportunities are limited. Current resources are adequate for only a fraction of the requests made by managers and staff.</p><p>Language and communication programmes would continue to be offered and would be expanded to promote multilingualism through building and strengthening linguistic skills in the six official languages and developing and strengthening cross-cultural understanding. The programme would be extended across all duty stations. With the implementation of geographical mobility, it is critical that all staff have equitable access and opportunities to build and strengthen their linguistic skills and ensure continuity in opportunities for language training, regardless of location.</p><h1>Systematic development of entry-level Professionals and mandatory requirements for advancement to successive levels of responsibility</h1><p>Systematic development of entry-level Professional staff (P-2/P-3) would begin with increased emphasis in recruitment on their \"core competencies\" and potential as international civil servants. It would require that positions at the P-2 and P-3 levels be maintained normally as non-specialist rather than specialist positions. In addition, it would be necessary to ensure broad-based development of junior Professionals in the early years of their careers by enhancing mandatory P-2 development programmes and extending the programmes to P-3 staff. This would facilitate staff movement across silos and enhance their employability in different parts of the Organization. Performance management of this group would be strengthened to include more systematic and candid feedback, counselling and mentoring.</p><p>The requirements for advancement to successive levels of responsibility in the Organization, together with the establishment and enforcement of clear standards, would be developed. They would involve instituting mandatory training in key areas (e.g., ethics, finance, human resources, budget and finance), managed developmental experiences and assessments, as appropriate, linked to each stage of a staff member's career. Staff would be encouraged to manage their careers proactively by applying for inclusion on rosters of occupational groups for which they met the qualifications for either a lateral move or promotion.</p><h1>Career models, potential career paths and crossover points</h1><p>The development of career models with potential career paths and crossover points would require promoting and supporting organizational culture change to encourage and value diverse career paths and to reinforce the importance of mobility and continuous learning as key elements of career success. Some of the priority actions required in this regard would include developing career models showing multiple possible career paths and crossover points; specifying development requirements for various related career paths and crossover points where staff might move into new areas to strengthen cross-functional expertise; aligning organizational rewards and accountabilities with desired culture change by, for example, linking career advancement to continuous learning and mobility; removing barriers such as contract type to allow access to a greater pool of talent; and providing staff with information on requirements for moving across functions, as well as into supervisory/managerial functions, to assist with individual career planning.</p><p>The implementation of these proposals to foster staff development and career support would be supported by instituting systematic succession planning with a five-year horizon. On the basis of an analysis of the evolving role of the Organization and its medium- and long-term human resources needs, and taking into account upcoming retirements and the desired new workforce profile, the Organization would undertake systematic workforce planning and targeted recruitment in anticipation of future skills needs. Forecasts of future talent needs will be projected at both the individual departmental and organizational levels. Departments would undertake systematic cross-training and focused development, including developmental work assignments, to build needed skills and competencies. Future talent needs will be a key factor in the allocation of organizational training and learning resources.</p><p>Since not all staff would necessarily want, or be able, to have long-term careers in the Secretariat, the Organization would commit itself to supporting its workforce's employability. To remain an employer of choice and retain good talent, the Organization would provide all staff with opportunities for continuous learning and development of skills.</p><h1>Expected impact of proposals</h1><p>Investing in managers will have an impact not only on their effectiveness but also on that of their staff. Experience has shown that building strong managerial capacity can have a powerful effect on overall productivity, morale and organizational performance. As managers play a key role in recruiting, selecting and developing staff, their decisions will affect the future of the Organization and the successful implementation of the reform efforts.</p><p>Increased investment in career development will allow staff to acquire the requisite skills and knowledge to meet the evolving needs of the Organization. It will contribute to building an integrated global Secretariat by making staff more multi-skilled and versatile, thus better able to move across functions, departments and duty stations.</p><p>Increased resources will enable the Organization to make development opportunities more equitably available to all staff at all duty stations and help to create a common global culture of transparency, integrity and accountability.</p><p>Instituting mandatory training and certification in key areas of resource administration will contribute to ensuring the availability of a skilled pool of managers and administrators able to take up critical positions both at Headquarters, regional commissions and the field, including peace missions. It will lead to greater understanding and compliance with organizational requirements and expectations and significantly reduce risk.</p><p>Having a more systematic and effective system of career development will enhance the Organization's status as an employer of choice in the international public sector and help to attract and retain staff of the highest calibre.</p><h1>Required changes to the Staff Regulations and Rules</h1><p>No changes to the Staff Regulations and Rules would be needed to implement the proposals relating to building leadership and management capacity.</p><h1>Impact of proposals on the role and authority of the central human resources function</h1><p>To ensure that a framework of opportunity for staff development and the requisite supporting programmes and systems are in place, the development of policy and implementation strategy would remain centrally located in the Office of Human Resources Management.</p><p>The Office of Human Resources Management, in coordination with other departments and offices, will also take the lead in developing career models and crossover points in the new career development framework.</p><h1>Specific accountability measures</h1><h1>Managers</h1><p>Managers are accountable for the development and learning of their staff through the Performance Appraisal System, which requires managers to have a career development discussion and set staff development goals with each of their staff members and monitor the fulfilment of those goals for each reporting period. In their management compact, they are held accountable for supporting and contributing to the development of their staff.</p><p>Managers will be accountable for having systems in place for ensuring that knowledge is shared and knowledge management systems are in place.</p><h1>Office of Human Resources Management</h1><p>The Office of Human Resources Management is accountable for policy development and for monitoring and reporting on the implementation of career development programmes and the use of resources. In accordance with the agreement reached at the twenty-seventh session of the Staff Management Coordination Committee, the Office will set up a training focal point for staff associations so that they have an avenue for providing input with respect to strategies and policies on learning needs.</p><h1>Staff</h1><p>Staff are expected to commit themselves to continuous professional growth and to participate proactively in their career planning and mobility. For career advancement, they must complete prerequisite programmes in addition to developing their substantive and technical skills.</p><h1>Timeline for implementation</h1><p>The staff development and career programmes described above will be implemented progressively over a three-year period. Generic job profiles will be reviewed and amended where required, to include reference to mandatory requirements for staff within 12 months. The development of career models and paths will also require some 12 months of work. Training requirements will be made mandatory as soon as programmes are made available globally and appropriate administrative issuances are promulgated after consultations with staff.</p><h1>Resource implications</h1><p>The Secretary-General has proposed a doubling of the regular budget resources dedicated to training and developing United Nations staff. This would increase the annual training budget from $10 to $20 million. In this connection, an amount of $10 million is sought under the programme budget for the biennium 2006-2007. The proposed distribution of the additional resources is detailed below.</p><p>An amount of $3,000,000 is required for leadership and management development in order to increase the number of sessions of management and leadership development programmes offered throughout the Secretariat so that the target group of staff can take advantage in a timely manner (currently, the availability of resources restricts the number of sessions that can be held each year); develop and implement a new programme to groom high-potential staff; implement mandatory induction and orientation for newly appointed senior officials, including those in the field; increase the numbers of programmes for middle- and senior-level women leaders; expand and enhance the mandatory ethics programmes for staff at all levels; develop cross-cutting programmes on management issues, under the auspices of the United Nations System Staff College, in particular the senior leadership programme; and develop and launch of the United Nations Virtual Academy.</p><p>An additional $3,500,000 for mobility and career development is required to help bridge the sizeable gap in departmental requests for funds to upgrade the substantive and technical skills of staff; allow for greater numbers of staff to take part in career support activities by strengthening the local capacity of career resource centres in all duty stations; expand mentoring to all categories of staff; and develop a managerial coaching programme.</p><p>An increase of $1,500,000 is required to allow the Secretariat to better meet the demand for information technology training by addressing the gap between assessed needs and resources available; support the development of new distance-learning programmes (e-learning), enabling wider distribution of and access to these tools for staff at all duty stations; and develop training programmes for new information technology tools.</p><p>An amount of $1,000,000 for resource management will be required to support the development and implementation of mandatory training programmes in the areas which will now require certification, e.g., finance, human resources, etc.; to develop and implement training programmes on the administration of justice; and to support new and enhanced staff welfare programmes for staff at all duty stations, covering subjects from stress management to HIV/AIDS awareness.</p><p>An additional $1,000,000 for multilingualism is required to support the expansion of language and communication programmes in the six official languages across all duty stations to facilitate greater mobility and develop e-language and communication learning tools.</p><h1>Action requested of the General Assembly</h1><p>The General Assembly is requested:</p><p>(a) To decide to double the biennial training budget of the Organization;</p><p>(b) To appropriate an additional $10 million for training under section 28C, Office of Human Resources Management, of the programme budget for the biennium 2006-2007;</p><p>(c) To decide to revert to appropriation for training resources in the context of the proposed programme budget for the biennium 2008-2009, in line with the proposal of the Secretary-General to initially double the training budget.</p><h1>Contractual arrangements</h1><p>While all United Nations staff members are international civil servants, they serve under a wide range of contractual arrangements and are subject to different conditions of service. One of the major objectives of human resources management reform is to recognize the Organization's need for a truly integrated, field-oriented and global workforce. This requires simplified and streamlined contractual arrangements which will better serve operational requirements and ensure transparency, fairness and consistency in the treatment of staff.</p><h1>Previous reforms</h1><p>Initially, all staff served under one set of Staff Rules, now known as the 100 series. Over the years, separate contractual arrangements have evolved to address special situations. The 200 series was introduced for specialist personnel working on technical assistance projects. Conditions of service and benefits are broadly similar under the 100 and the 200 series. They are significantly different under the 300 series, which now applies to more than half of the staff in the field.</p><p>The 300 series was initially applied to staff expected to serve for no more than six months to meet short-term needs, such as conference services during General Assembly sessions. It was expanded in 1994 to include appointments of limited duration to provide a mechanism for the recruitment of non-career staff in peacekeeping, peacebuilding and humanitarian missions, technical cooperation in the field and other emergency situations who would perform time-limited activities for up to three years, with a possible exceptional extension for a fourth and final year.</p><p>The introduction of appointments of limited duration was in response to the dramatic increase in peacekeeping activity that occurred in the early 1990s. From 1948 to 1989, there were a total of 16 peacekeeping operations established. With the end of the cold war, the number of peacekeeping missions grew dramatically, with 34 new peacekeeping operations established between 1990 and 1999 alone. The appointment of limited duration was intended to meet the need for large numbers of staff in the field who would serve for only a few years, after which their services would no longer be required.</p><p>The conditions of service under an appointment of limited duration were designed to be simple to administer and to reflect the temporary nature of the contract. The initial compensation package provided for less social security than generally available to staff under the 100 series. The package consisted of the base salary plus a non-pensionable service allowance payable as a monthly lump sum which was intended to replace all other entitlements normally payable under 100-series appointments, such as dependency allowance, education grant and within-grade salary increments.</p><p>With the expansion of the Organization's responsibilities for peacekeeping and other field activities and the increased use of appointments of limited duration in the field for extended periods of time, the dissatisfaction of 300-series staff with their conditions of service grew. Gradually, changes were introduced to the appointment of limited duration to provide more adequate social security coverage and to reduce some of the most glaring differences with the conditions of service of other groups of staff. To ensure transparency and competitiveness in the recruitment of all mission staff, the recruitment standards for 100-series mission staff have been extended to the recruitment of 300-series staff. While these changes improved the conditions of service of staff on appointments of limited duration, significant differences remain between staff on different types of contracts. Over time, appointments of limited duration have become more complex to administer and no longer have the advantage of administrative simplicity.</p><p>The Secretary-General explained in his comprehensive report on the staffing of field missions, including the use of 300- and 100-series appointments (A/59/291) that peacekeeping had become a core activity of the Organization which required staff to serve for longer periods than initially envisaged in the 1990s as the length of peacekeeping missions generally exceeded the maximum duration provided for appointments of limited duration. He concluded that such appointments no longer met the needs of the Secretariat as they did not provide adequate compensation or job security to attract and retain the skilled experts, leaders and managers needed in large, multidimensional peace operations. Accordingly, the Secretary-General proposed to use the 100-series contract for the appointment of field staff for six months or longer when the functions to be performed were not clearly of a short-term nature.</p><p>At present, the three series of the Staff Rules provide for several different types of appointment, as shown below:</p><p>A proposal to simplify contractual arrangements by using only three types of appointments (short-term, fixed-term and continuing) was submitted by the Secretary-General to the General Assembly at its fifty-fifth session in his report on human resources management reform (A/55/253 and Corr.1, para. 47 and annex IV). The Assembly requested the Secretary-General to submit definitive proposals on new contractual arrangements, spelling out the differences between existing and proposed types of appointments (resolutions 55/258, sect. III, and 57/305, sect. II, para. Detailed proposals for contractual arrangements were presented by the Secretary-General in an addendum to his report on human resources management reform (A/59/263/Add.1), which reflected agreements reached at the twenty-sixth session of the Staff Management Coordination Committee, in 2002. The Assembly decided to revert to the issue at its sixtieth session in the context of its consideration of the report of the International Civil Service Commission on contractual arrangements (resolution 59/266, sect.</p><p>In August 2005, the International Civil Service Commission presented a framework for contractual arrangements in the organization of the United Nations common system. The proposals of the Secretary-General were consistent with the Commission's proposed framework, which provided for temporary, fixed-term and continuing appointments and also envisaged probationary periods. The Commission's proposed framework for contractual arrangements is under consideration by the General Assembly.</p><p>In its resolution 59/266, the Assembly requested the Secretary-General to report on the reappointment of mission staff who had reached the four-year limit under 300-series appointments of limited duration by 31 December 2004 or later, and to submit proposals indicating which functions should be considered for reappointment under 100-series contracts. In response to that request, the Secretary-General submitted his reports on the staffing of field missions, including the use of 300- and 100-series appointments (A/59/762 and A/60/698 and Corr.1 and 2). Meanwhile, in its resolutions 59/266, 59/296 and 60/266, the Assembly suspended for specified periods the application of the four-year maximum limit for appointments of limited duration, authorized reappointment under the 100 series of staff members having reached the four-year limit under the 300 series under specified conditions, and requested the Secretary-General to continue the practice of using 300-series contracts as the primary instrument for the appointment of new staff.</p><p>The International Civil Service Commission, after considering at its sixty-second session, in July 2006, that the details of the Secretary-General's human resources management reform proposals in his report entitled \"Investing in the United Nations: for a stronger Organization worldwide\" would be submitted to the General Assembly at its sixty-first session, decided as an interim measure to allow maximum flexibility under the current contractual arrangements for staff in peace operations and to recommend the following measures: (a) to remove the four-year limitation on 300-series appointments; (b) to permit the conversion to mission-specific contracts for staff members who have a minimum of four years of service, provided that their functions have been reviewed and found necessary and their performance has been confirmed as fully satisfactory; and (c) permit the reassignment of mission-specific appointees to another mission in a similar capacity to meet the requirements of the Organization.</p><h1>Impact of reforms to date and rationale for change</h1><p>While limited improvements have been made over the years to adjust to changing requirements, existing contractual arrangements no longer meet the operational requirements of an integrated, global Secretariat. The current arrangements are labour-intensive and complex and lack transparency. The existing contractual arrangements were designed for a stable, largely Headquarters-based environment, while more than half of the Secretariat staff now serve in the field. There is a need to simplify contractual arrangements to systematically manage staff across programmes and duty stations, so that the Organization will be able to respond to complex new mandates, particularly in diverse areas such as humanitarian assistance, peacekeeping, electoral assistance, human rights, and drug control and crime prevention.</p><p>There is no longer any clear linkage between the nature and duration of functions and the mode of financing. The 200 series was introduced to accommodate the special needs of technical cooperation projects, many of which were expected to be of short or medium duration in the country where a project was located, and were funded through extrabudgetary sources. However, the exponential growth of extrabudgetary funding in the Secretariat for core activities has now led to an increase in the use of 200-series appointments for staff in a variety of functions, many of whom now discharge core functions and serve at established duty stations as well as in field offices, often side by side with 100-series staff members.</p><p>The introduction of appointments of limited duration was intended to address peacekeeping needs which were seen as temporary in the 1990s. However, more than half of the Secretariat staff now serve in the field for extended periods of time. Individual peacekeeping missions may open and close, but there is a sustained high demand for peacekeeping activities. Even when peacekeeping missions close, the exit strategy requires transitioning from peacekeeping to capacity-building through the establishment of follow-up special political missions that are integrated with the United Nations country team in order to consolidate the gains achieved in establishing peace. All of this creates a continuous need to retain qualified staff for a longer term than originally envisaged.</p><p>Moreover, the use of the appointment of limited duration did not yield the anticipated benefits and no longer meets its intended purpose of facilitating rapid recruitment and streamlining the administration of staff to meet the surge requirements of peacekeeping. Over the years, safeguards have increasingly been introduced to ensure transparency and competitiveness in the recruitment process, so that the recruitment of 300-series staff on appointments of limited duration follows the standards and processes applied throughout the Secretariat. Administering the compensation package has become similarly complex as a result of improvements introduced to meet legitimate staff concerns and needs. As appointments of limited duration did not provide adequate compensation or job security to attract and retain the skilled experts, leaders and managers needed in large, multidimensional operations, the Secretary-General concluded that such appointments no longer met the purpose or need for which they were intended.</p><p>Pending consideration of the Secretary-General's proposals to reform contractual arrangements, thousands of staff continue to serve the Organization on various types of contracts with very different conditions of service. This limits the Organization's ability to both attract and retain qualified staff and maximize the use of its existing workforce. Among the 30,548 United Nations staff members, the following contractual arrangements apply:</p><p>* 19,141 staff members serve on 100-series appointments. This includes staff appointed to special missions serving under a fixed-term mission appointment granted after completing four years under 300-series appointments of limited duration. Such appointments are limited to service with a specific mission, with no entitlement to post adjustment, assignment grant, mobility and hardship allowance or related entitlements.</p><p>* 1,163 staff members serve on 200-series appointments.</p><p>* 9,020 staff members serve on 300-series appointments of limited duration.</p><p>* 626 staff members serve on 300-series short-term appointments.</p><p>* 598 staff members serve on 300 series \"when actually employed\" appointments.</p><h1>Elaboration of proposals</h1><h1>Introduction of one United Nations staff contract under one set of Staff Rules</h1><p>In order to build an integrated, global workforce, the Secretary-General has proposed the introduction of one United Nations staff contract. Under this new contractual arrangement, the terms of employment for all United Nations Secretariat staff would be governed by a single series of Staff Rules. The introduction of the one United Nations staff contract would therefore streamline the multiplicity of contractual arrangements which are currently possible under the three different series of the Staff Rules:</p><p>Under the United Nations staff contract, the duration of appointment would be determined in accordance with the operational needs of the Organization. The following three types of appointments would be used for all Secretariat functions, departments, duty stations and field missions:</p><p>(a) A temporary appointment, which would cover up to a maximum period of one year (or up to two years to meet surge needs in the field), for staff appointed to meet seasonal or peak workloads and specific short-term requirements;</p><p>(b) A fixed-term appointment, which could be renewed or extended to cover a maximum period of five years;</p><p>(c) A continuing appointment, which would be open-ended.</p><p>Staff members entering the Organization would be offered either a temporary or fixed-term appointment. Staff members with five years of continuous service with the Organization would be eligible for consideration for a continuing appointment.</p><p>The conditions of service under the one United Nations staff contract would be determined by the length of continuous service, as is already the case for staff currently serving under the 200 series of the Staff Rules.</p><p>Depending on the needs of the Organization, fixed-term and continuing contracts could still be limited to particular projects or missions in order to avoid the creation of undue expectations of long-term employment, particularly where the mandate is clearly finite. As clarified at the twenty-seventh session of the Staff Management Coordination Committee, continuing contracts would have no limitations in terms of assignment to a specific entity within the Secretariat, except for staff recruited for service in a specific peace operation, in a specific technical cooperation project or in entities having special status as determined by the General Assembly. These staff would, however, be able to compete without restriction for all positions in the Secretariat and to receive a termination indemnity, as appropriate.</p><p>The Secretary-General, in an addendum to the present report entitled \"Reforming the Field Service category: investing in meeting the human resources requirements of United Nations peace operations in the twenty-first century\", proposes to designate 2,500 career peacekeeping positions for functions in various occupational groups at the Professional and Field Service levels that are of a long-term, enduring nature, required under the mandates of most peace operations and critical to rapid deployment. They would be selected through a competitive process involving a central review body and receive a fixed-term appointment of one year or longer. As these staff would be subject to mobility and rapid deployment to any field activity at short notice, their appointments would not be limited to service at any specific mission.</p><p>All staff recruited for field positions would be appointed under the one United Nations staff contract, initially on either a temporary or a fixed-term basis. Temporary appointments of up to two years could be given to field staff recruited to respond to surge requirements. Staff on temporary contracts would need to apply for advertised longer-term positions through a competitive process involving a central review body in order to be appointed under fixed-term appointments for a period of one year or longer, which may be extended subject to the considerations of satisfactory service and continued need. Upon reaching five years of continuous service, they would be considered for conversion to a continuing contract against the same criteria as other staff members. The appointments of field staff recruited for service at a specific mission would be limited to service at a particular mission, whether the staff members were on a temporary, fixed-term or continuing contract.</p><h1>Replacement of permanent contracts with continuing appointments</h1><p>As previously proposed to the General Assembly (A/59/263/Add.1), staff with five years of continuing service in the Organization would be considered for a continuing appointment which would be granted if there were a continuing need for the services of the staff member in the same department or elsewhere in the Organization and if the staff member had demonstrated the highest standards of efficiency, competence and integrity, as documented by his or her performance evaluations. Permanent appointments would no longer be offered. The change would not affect the staff who currently hold permanent appointments, or the acquired rights of staff who, by the time the change became effective, would have the right under existing rules to be considered for permanent appointment.</p><p>The cases of staff members eligible for consideration for a continuing appointment would be reviewed by the department or office concerned and by the Office of Human Resources Management or the local human resources office to evaluate whether they had fulfilled the criteria for granting continuing appointments. Continuing appointments would be granted by the Secretary-General on the basis of agreement between the department or office concerned and the Office of Human Resources Management or the local human resources office. In the absence of such agreement, the matter would be submitted to a central review body for review.</p><p>A continuing appointment could be terminated on the same grounds as is currently the case for permanent appointments. In addition, a continuing appointment could be terminated in the interest of the good administration of the Organization, in the light of, for example, a change in mandate, needs or functions. The grounds for such termination would have to be specified and documented. As agreed at the twenty-seventh session of the Staff Management Coordination Committee, the termination of continuing appointments in the interest of the good administration of the Organization would require a reasoned and documented recommendation by the head of department or office to the Assistant Secretary-General for Human Resources Management for decision in all cases. In the interest of due process, the staff member concerned would be given the opportunity to review the recommendation and supporting documentation and to provide comments to the Assistant Secretary-General for Human Resources Management before a final decision was made.</p><p>Staff entering the Organization at any level would be subject to a probationary period during their first year of service with the Organization. During that period, the performance of staff members would be closely monitored and staff would be given an opportunity to address any shortcomings. Were such shortcomings not corrected, the appointment could be terminated during the probationary period or at the end of the probationary period in the interest of the good administration of the Organization.</p><h1>Expected impact of the proposals</h1><p>The use of one United Nations contract will enhance transparency and the equity of treatment of staff. The Secretary-General's proposals will enhance the Organization's ability to recruit and retain high-quality civilian staff and thereby address the deficiencies identified in the current contractual arrangements. High vacancy and turnover rates in the field place the Organization at managerial and financial risk. The effectiveness of the Organization will be enhanced by strengthening the Organization's ability to attract and retain talent by ensuring equitable treatment of staff. At present, there are significant differences in the conditions of service for staff under the 100 and 300 series. Since employment under the 300 series is characterized as temporary, staff holding such appointments have conditions of service significantly different from those of their colleagues appointed under the 100 series with whom they serve side by side, even though they may have accrued the same number of years of service. The proposal to base conditions of service on the length of continuous service rather than on the type of contractual arrangement would help ensure that staff serving in field operations would be offered the same conditions of service as those of staff serving in other duty stations.</p><p>Maintaining a multiplicity of contracts is administratively burdensome, as it requires managers to be familiar with each contractual arrangement under which staff would be appointed, administrators to apply the different sets of rules and staff members to understand the different conditions of service offered by the different sets of Staff Rules. A single United Nations staff contract governed by a single series of Staff Rules would be more transparent and easier to understand, and less cumbersome and time-consuming to administer.</p><h1>Required changes to the Staff Regulations and Rules</h1><p>The introduction of the one United Nations staff contract would require a new set of Staff Rules which would replace the current three sets of staff rules (100, 200 and 300 series).</p><p>Changes to the Staff Regulations and Rules required for the introduction of the continuing appointment to replace the permanent appointment are set out in annex II to A/59/263/Add.1. Another change to staff regulation 9.1 (c) will be necessary to implement the agreement reached at the twenty-seventh session of the Staff Management Coordination Committee that the continuing appointment could be terminated \"in the interest of the good administration of the Organization\". Changes to the Staff Regulations that would need approval by the General Assembly are set out in annex II to the present report. The introduction of the one United Nations staff contract would also require that staff rule 104.12 be changed to include temporary appointments of up to one year (up to two years to meet surge needs in the field) and that staff rule 104.14 be changed to specify that central review bodies would advise the Secretary-General on fixed-term appointments of one year or longer.</p><h1>Impact of proposals on the role and authority of the central human resources function</h1><p>The Office of Human Resources Management, on behalf of the Secretary-General, would retain overall authority to grant continuing contracts, which may be delegated to offices away from Headquarters for locally recruited staff. Authority to grant continuing appointments for field staff limited to service at a specific mission or on a particular project may be delegated to the appropriate department.</p><p>The Office of Human Resources Management, on behalf of the Secretary-General, would also have authority to terminate continuing contracts. The Assistant Secretary-General for Human Resources Management would review the reasoned and documented recommendation submitted by the head of department/office in all cases of a termination of continuing contracts in the interests of the good administration of the Organization. As agreed at the twenty-seventh session of the Staff Management Coordination Committee, the Assistant Secretary-General would also ensure that the staff member concerned was given the opportunity to review the recommendation and supporting documentation and to provide comments before a final decision was made.</p><h1>Specific accountability measures</h1><h1>Managers</h1><p>Managers will continue to be accountable for timely and objective performance evaluations and for well-reasoned and justified recommendations for extensions and non-extensions of temporary and fixed-term appointments, as well as for the granting of continuing appointments. Accountability for the timely completion of performance appraisals would be enforced by requiring managers to complete the performance appraisal prior to their separation for all staff for whom they are first or second reporting officers, as a standard check-out procedure.</p><h1>Staff</h1><p>Staff would continue to be responsible for upholding the highest standards of performance and integrity. They would also be responsible for the timely completion of their performance appraisals.</p><h1>Office of Human Resources Management</h1><p>The Office of Human Resources Management would ensure that the granting and termination of continuing contracts would be undertaken in a fair and transparent manner, with full regard for the due process rights of staff members.</p><h1>Timeline for implementation</h1><p>It is expected that within 6 to 12 months of approval by the Assembly of the proposals for streamlined contractual arrangements, new Staff Rules would be finalized after consultation with the staff and the funds and programmes.</p><p>The transitional measures which will be undertaken concurrently with the development of the new Staff Rules would ensure the protection of the acquired rights of staff members. Staff members appointed under the 100 series of the Staff Rules who meet the criteria for consideration for a permanent appointment at the time of the introduction of continuing contracts would be considered for a permanent appointment. Staff members in this category would include both those who hold a probationary appointment and those who have completed five years of continuous service on a fixed-term appointment at the time of the introduction of continuing contracts.</p><h1>Resource implications</h1><p>The introduction of one United Nations staff contract would require the appointment of staff under a single set of Staff Rules which would offer benefits equivalent to those currently available under the current 100 series of the Staff Rules, with a simplified regime for staff appointed for six months or less. The introduction of one United Nations contract would result in no additional financial implications for the following categories of staff:</p><p>(a) Locally recruited staff for whom the conditions of service are equivalent under the 100 series and the appointment of limited duration under the 300 series;</p><p>(b) International staff with appointments under the 100 series, for whom there would be no change as a result of the new contract;</p><p>(c) International staff with appointments under the 200 series, for whom the benefits are the same as those of 100-series staff.</p><p>(d) International staff on short-term (non-appointment of limited duration) appointments under the 300 series appointed to serve for six months or less, for whom a simplified regime of benefits would apply which would be equivalent to conditions of service currently applicable to staff on short-term appointments.</p><p>However, financial implications would arise for the reappointment of international staff currently serving on an appointment of limited duration to a new mission appointment governed by the new United Nations contract, which would entail additional entitlements in the form of education grant, family visit travel and repatriation grant. At present, there are 2,686 international staff who hold appointments of limited duration in field missions. Accordingly, the reappointment of affected staff under the new contract would result in additional costs for the full year 2007, estimated at $19.1 million on the basis of current patterns of dependency and marital status of staff. The $19.1 million comprises $3.4 million relating to 17 special political missions which are funded under the provision for special political missions under section 3, Political affairs, of the programme budget for the biennium 2006-2007, and a total of $15.7 million for 15 individual peacekeeping missions.</p><h1>Action requested of the General Assembly</h1><p>The General Assembly is requested:</p><p>(a) To approve the introduction of one United Nations staff contract under one set of Staff Rules, with three types of appointment status (temporary, fixed-term and continuing), with conditions of service which would be equivalent to those offered under the current 100 series and would vary according to the length of service;</p><p>(b) To approve the replacement of permanent contracts with continuing appointments, for which staff could be given consideration if they have completed five years of continuous service;</p><p>(c) To approve the amendments to staff regulations 4.5 and 9.1 and to annex III to the Staff Regulations, as set out in annex II to the present report;</p><p>(d) To note that the review of all staff members appointed under the 100 series of the Staff Rules who meet the conditions to be considered for permanent appointment by the time the amended regulations and rules introducing the continuing appointment come into force may result in a proportion of permanent staff in posts subject to geographical distribution which may temporarily exceed the 70 per cent level otherwise applicable under section V, paragraph 2, of resolution 51/226;</p><p>(e) To appropriate a total of $3,370,800 under the provision for special political missions of section 3, Political affairs, of the programme budget for the biennium 2006-2007;</p><p>(f) To authorize the changing of a total estimated amount of $7,851,950, as appropriate, to the relevant budgets of the individual peacekeeping missions for the period 1 July 2006 to 30 June 2007, to be reported in the context of the performance reports for the period ending 30 June 2007.</p><h1>Harmonization of conditions of service</h1><p>In the past 60 years, the role of the United Nations has evolved to keep pace with global political, economic and social developments. While its operations have expanded, particularly in the field, the Organization has maintained the traditional approaches to conditions of service which were developed at a time when the activities of the Organization were carried out mainly at Headquarters duty stations or established offices. As at 30 June 2006, 16,960 United Nations staff members serve in field locations, with a wide range of functions in such areas as human rights, humanitarian assistance, peacekeeping, electoral assistance, and drugs and crime, often in highly volatile post-conflict situations, away from their families; of these, 15,749 staff members serve in missions administered by the Department of Peacekeeping Operations. Over time, the ad hoc approach to meeting the needs of what has become a largely field-based Organization has led to the development of vastly different conditions of service for staff members who serve side by side in the field.</p><h1>Previous reforms</h1><p>In his report on human resources management reform (A/55/253 and Corr.1), the Secretary-General identified enhanced conditions of service as a crucial element of his overall human resources management reform programme, emphasizing that the Organization requires a competitive compensation package which is able to attract and retain high-quality staff and a good working environment. The General Assembly, in its resolution 55/258 (sect. XII, para. 1), endorsed the view of the Advisory Committee on Administrative and Budgetary Questions (A/55/499, para. 19) that a competitive package of conditions of service is a prerequisite for the successful achievement of goals of human resources management reform.</p><p>During the 1990s, the United Nations experienced an unprecedented demand for peacekeeping with the establishment of a number of large missions, which dramatically increased the number of staff in the field. At that time, the surge in peacekeeping was regarded as temporary and the contractual arrangements used to appoint staff in the field (namely, the appointments of limited duration under the 300 series) reflected this perception. The compensation package for 300-series appointments of limited duration was geared towards non-career employment and was designed to minimize administration and permit the speedy recruitment of large numbers of staff. It did not provide mechanisms to reward staff for good service, such as promotions or salary increments, nor did it provide the same level of social security benefits or other allowances available to staff appointed under the 100-series fixed-term appointment. Under the initial appointments of limited duration, there was no entitlement to medical insurance coverage for family members and a lower entitlement to annual leave, sick leave and maternity leave than that provided for under the 100 series of Staff Rules. Newly established missions were routinely designated as \"special\", non-family missions in which mission subsistence allowance was paid in lieu of post adjustment, mobility and hardship allowance and assignment grant.</p><p>As a result, a number of changes were gradually made to the 300-series appointment. In 1997, an occasional recuperation break was granted to internationally recruited civilian staff, serving on 100- 200- and 300-series appointments in all special (non-family) missions to permit temporary relief for staff members from the highly stressful environment of a mission. Annual leave and maternity leave entitlements were enhanced and aligned with those applicable under the 100-series appointment. In July 2000, the service allowance was modified to include a family element, family members became eligible for medical insurance coverage and 300-series staff became eligible to participate in the United Nations group life insurance scheme. Further changes were made to allow 300-series staff to be eligible for special post allowance.</p><p>In view of the significant differences in the conditions of service extended to staff under the 300 and 100 series, the Secretary-General recommended to the General Assembly the use of the 100-series appointment as the principal mechanism for the recruitment of mission staff for periods of six months or longer, for functions for which there is a continuing requirement, in the comprehensive report on the staffing of field missions, including the use of 300 and 100 series appointments (A/59/291). In the same report, the Secretary-General indicated the need to explore approaches that would more closely align the conditions of service of field staff with those offered by the United Nations agencies and the funds and programmes.</p><p>The International Civil Service Commission was requested to present an analysis to the General Assembly at its sixty-first session of the desirability and feasibility of harmonizing conditions of service in the field (resolution 59/266, sect. X, para. At its sixty-second session, the Commission, after considering the information brought to light by the Secretary-General's report (A/60/692 and Corr.1), decided to withdraw the recommendations related to the harmonization of benefits for field staff presented in its 2005 annual report. It also decided to establish a working group to expedite the review of the compensation packages for internationally recruited staff serving at non-family duty stations and submit proposals for a harmonized approach within the United Nations system to the Commission at its sixty-fourth session, in March 2007.</p><h1>Impact of reforms to date and rationale for change</h1><p>While enhancements to the compensation package for 300-series appointments of limited duration have improved conditions of service to a certain extent, they have also had the negative effect of diminishing the administrative simplicity of the 300 series. The same administrative actions associated with the 100-series appointments are now required for the 300 series, in terms of verifying, establishing and monitoring family status and processing actions in the Integrated Management Information System.</p><p>Moreover, significant differences continue to persist in the conditions of service among staff serving in the field. These differences exist between staff with 300-series appointments and those with 100-series appointments, between staff with 100-series appointments who are mission appointees and those who are assigned from Headquarters and between staff serving with peace operations and those serving with the United Nations funds and programmes. The differences relate to the designation of missions as family or non-family, the payment of compensation for maintaining a second household, the scope of the rest and recuperation scheme, the calculation of hazard pay and the lump-summing of travel entitlements.</p><p>When a staff member serves in a non-family mission, family members are precluded from accompanying the staff member to the duty station and will need to reside elsewhere. Consequently, the maintenance of two households in different locations constitutes a significant expense for the staff member. Staff who are recruited for service in a non-family duty station limited to special missions receive only a base salary and a mission subsistence allowance, which is intended to cover the cost of accommodation, food and incidentals at the special mission duty station. There is no compensation for maintaining a separate household, and they are not entitled to payment of assignment grant, post adjustment, rental subsidy or mobility and hardship allowance.</p><p>In recent years, the United Nations funds and programmes have adopted several innovative approaches to recognize and compensate for the fact that a number of their staff members had to perform their functions in locations where they were not allowed to bring their families. In 2000 and 2001, the funds and programmes introduced the special operations approach for situations in which staff members are appointed to duty stations at security phase III or above, where families may not join them. Under this approach, a staff member assigned to a non-family duty station is given the option of installing his or her family in a location with appropriate facilities situated near the actual place of work (the administrative place of assignment). Alternatively, families can remain in the former duty station of the staff member or move to another location with entitlements based on the administrative place of assignment. These staff members receive salary, assignment grant, post adjustment, rental subsidy and mobility and hardship allowance at the administrative place of assignment rate and a special operations living allowance at the duty station.</p><p>Inconsistent approaches in the provision of rest breaks also serve to generate a sense of unfairness among staff from the Secretariat and from the funds and programmes working in the field. At present, the Secretariat provides an occasional recuperation break to international staff required to work for extended periods in locations under hazardous, stressful and difficult conditions. The break consists of five working days of special leave at regular intervals with full pay, and does not cover any travel costs. Requiring the entire cost of travel to be borne by the staff members limits their ability to recuperate properly. By contrast, the funds and programmes provide rest and recuperation breaks of five consecutive calendar days plus travel time and pay for standard travel costs between the duty station and the administrative place of assignment, in order to facilitate family visits and to provide greater relief from the hardship and isolation of the non-family duty station.</p><p>With the high demand for peacekeeping both lasting longer and expanding beyond what was anticipated in the 1990s, there was growing dissatisfaction with the inequities between the conditions of service of staff appointed under the 300- and 100-series of staff rules. Unequal treatment between staff from the Secretariat and staff of the funds and programmes working in the field generates a sense of unfairness and creates obstacles for the Secretariat to attract and retain staff members to perform essential functions in the field. As a result, United Nations peace operations face significant challenges in recruiting and retaining high-quality staff, experiencing persistently high vacancy rates that hover between 22 and 26 per cent and a turnover rate of 30 per cent for Professional posts. As a result, some 51 per cent of the Professional staff serving in United Nations peace operations have two years experience or less with the Organization. As audit reports reveal, this failure to offer job security and conditions of service that enable the Organization to sustain and develop the stable and expert workforce required to work in the uptempo, complex operational environment of United Nations field missions places our Organization at financial and managerial risk.</p><p>If the United Nations is to become an employer of choice in today's highly competitive global market and maintain a workforce capable of meeting the challenges of increasingly complex work in the field, it needs to offer conditions of service which will attract and retain high-quality personnel. At present, the conditions of service offered by the Secretariat are not conducive to this vision, thus preventing the Organization from effectively managing its human resources and fully benefiting from its investment in people.</p><h1>Elaboration of proposals</h1><h1>Designating field missions in line with security phases</h1><p>The designation of field missions determines whether staff members may or may not be accompanied by their families at a duty station, a factor which has a powerful impact on their work and life conditions. Currently, there are 23 missions designated \"special\" missions and seven \"established\" missions (five are peacekeeping missions and two are political missions), plus the United Nations Logistics Base at Brindisi, Italy, and the Office of the Special Envoy for the future status process for Kosovo. All special missions are treated as non-family, and family members may not be installed in and live at the mission, even if the security conditions and funds and programmes would permit it.</p><p>It is proposed that in the future, the designation of missions be in line with security considerations, as is the case at the common system level. The classification of field duty stations as non-family or family (as opposed to \"established\" and \"special\") would be based on the security phase in effect, taking into account the size of the United Nations presence at the duty stations and relevant political, legal, practical and other logistical considerations. Under this proposal, where a mission is classified as a family duty station, staff members may be joined at the duty station by their eligible dependants, and would be entitled to payment of post adjustment, mobility and hardship allowance, rental subsidy and related entitlements applicable to the duty station.</p><h1>Introducing the special operations approach for non-family duty stations</h1><p>The introduction of the special operations approach for all Secretariat offices with a field presence would standardize the treatment of staff members and ensure that they receive benefits comparable or equivalent to those of the funds and programmes. In this regard, and as indicated in paragraph 270 above, the International Civil Service Commission has established a working group to review the compensation packages for internationally recruited staff serving at non-family duty stations and submit proposals for a harmonized approach within the United Nations system to the Commission at its sixty-fourth session, in March 2007. Therefore, the exact elements of the special operations approach will be submitted to the General Assembly at the second part of its resumed sixty-first session, in May 2007.</p><p>Currently, under the special operations approach as applied by the funds and programmes, a location near a non-family duty station with adequate medical, educational and housing facilities is designated as an administrative place of assignment. The staff member and eligible family members are installed at the administrative place of assignment, unless the staff member elects to instal his or her family at another location. The staff member receives the post adjustment, assignment grant and mobility and hardship allowance applicable to the administrative place of assignment duty station, as well as the special operations living allowance at the non-family duty station.</p><p>In reviewing the compensation packages for internationally recruited staff serving at non-family duty stations, the working group will take into consideration that in some duty stations, the size of the United Nations presence, or other political, legal, security or logistical concerns, may prevent the full application of the current special operations approach.</p><h1>Revising the scheme for rest breaks</h1><p>The Secretariat's occasional recuperation break scheme would be replaced with the rest and recuperation scheme of the funds and programmes. Under the rest and recuperation scheme, staff would be given five calendar days of leave and travel time, and would be paid the travel costs to an approved destination or provided with United Nations transportation where available. For administrative simplicity, applicable travel payments would be lump-summed.</p><h1>Streamlining administration, including through the use of lump-sum options</h1><p>The Secretariat will continue to streamline administration through the adoption of the lump-sum options wherever possible. The practices of the United Nations funds and programmes with respect to travel and shipment will be taken into account.</p><h1>Expected impact of proposals</h1><p>High vacancy rates and turnover rates for Professional staff in the field undermine the capacity of the Organization to carry out its mandates in the field. The effectiveness of the Organization would be enhanced by strengthening its ability to attract and retain talent by ensuring equity and fairness in the treatment of staff and providing conditions of service that are competitive with those offered by other employers in the field.</p><p>The proposals to harmonize contractual arrangements and conditions of service would also address recommendations 3, 4 and 5 of the report of the Joint Inspection Unit on reforming the Field Service category, which called for the concept of a parent duty station to be revisited, the designation of duty stations as family and non-family to be revised and measures to be taken to alleviate the strain of field service life on individual staff members and their families.</p><p>The proposals to designate field missions in line with security phases and to introduce the special operations approach for non-family duty stations are designed to offer staff members serving in the field the opportunity for better work/life balance, which is ultimately linked to performance on the job and retention of staff.</p><p>The proposal to replace the occasional recuperation break scheme with the rest and recuperation scheme is intended not only to ensure financial parity, but to protect the health and well-being of staff members who work under hazardous and stressful conditions by providing them with the necessary opportunities for recuperation and family visits to alleviate stress, which detracts from optimum performance.</p><h1>Required changes to the Staff Regulations and Rules</h1><p>The introduction of the special operations approach would require the replacement of staff rule 103.21 on salary and allowances during mission assignments with a new staff rule elaborating conditions of service for non-family duty stations.</p><h1>Impact of proposals on the role and authority of the central human resources function</h1><p>The Office of Human Resources Management, on behalf of the Secretary-General, would continue to be responsible for determining the status of field duty stations in consultation with the relevant departments and offices, including the Department of Safety and Security and the Department of Peacekeeping Operations. The Office of Human Resources Management would be responsible for monitoring the implementation of the new policies, as well as establishing the necessary procedures and policies for streamlining administration.</p><h1>Specific accountability measures</h1><h1>Managers</h1><p>Managers would be accountable for ensuring that staff avail themselves of rest and recuperation at appropriate intervals.</p><h1>Staff</h1><p>Staff would be accountable for respecting the designation of non-family duty stations, and for taking proper care of themselves by availing themselves of rest and recuperation travel at appropriate intervals. Staff would also be accountable for complying with the requirements for retention of records in conjunction with streamlining of entitlements. Failure to produce such records may lead to disciplinary action.</p><h1>Office of Human Resources Management</h1><p>The Office of Human Resources Management, together with departments with a field presence, will ensure consistency and coordinated implementation of the measures set out above.</p><h1>Timeline for implementation</h1><p>Immediate action can be taken by the Secretariat to revise the scheme for rest breaks, as proposed.</p><p>It is expected that the assessment and determination of the status of field duty stations as family or non-family and the identification of appropriate administrative place of assignment locations could be undertaken within six months of the approval of the proposals by the General Assembly. The finalization of compensation packages for non-family duty stations will reflect the conclusions reached by the International Civil Service Commission in March 2007.</p><h1>Resource implications</h1><h1>Designation of family status for current non-family special missions</h1><p>The designation of the family status of each field mission will be carried out by the Office of Human Resources Management, in consultation with the relevant departments and offices, including the Department of Safety and Security and the Department of Peacekeeping Operations. The review will be based mainly on the security phase in effect but will also take into consideration the housing, medical and other facilities available at the duty station. For planning purposes, it is anticipated that 7 of the current 23 non-family \"special\" missions could be converted to family status. The financial implications are estimated at $9.9 million per year (approximately $5.1 million from the budget of the affected peacekeeping operations and $4.8 million under the provisions for special political missions under the political affairs section of the programme budget).</p><h1>Introduction of the special operations approach</h1><p>The introduction of the special operations approach for non-family duty stations, or a modified approach, would standardize the treatment of staff members and ensure that they received benefits comparable or equivalent to those of the funds and programmes. The International Civil Service Commission has formed a working group to review the compensation packages for internationally recruited staff serving at non-family duty stations and submit its proposals for a harmonized approach within the United Nations system to the Commission at its sixty-fourth session, in March 2007. Preliminary indications are that the financial implications of introducing the special operations approach, or a modified approach, could be estimated at (a) $228 million per year for staff in field missions ($194 million for Department of Peacekeeping Operations missions from the peacekeeping budget and $34 million for special political missions from the regular budget) and (b) $701,000 per year from extrabudgetary resources. The requirements arising from decisions that may be taken by the General Assembly with regard to the proposals of the Commission to be submitted to the Assembly at the second part of its resumed sixty-first session would be considered in accordance with established procedures.</p><h1>Replacing occasional recuperation breaks with rest and recuperation breaks</h1><p>Replacement of the current occasional recuperation break scheme with the rest and recuperation breaks as used by the funds and programmes, would entail paying travel costs to an approved nearby destination if United Nations transportation were not available. The financial implications of this proposal are estimated at (a) $19.5 million per year for staff in field missions ($16.9 million under the budgets of the individual peacekeeping missions, and $2.6 million from the programme budget) and (b) $92,000 from extrabudgetary resources.</p><h1>Action requested of the General Assembly</h1><p>The General Assembly is requested:</p><p>(a) To appropriate a total amount of $7,451,300 under the provision for special political missions of section 3, Political affairs, of the programme budget for the biennium 2006-2007 for the conversion of \"special\" missions from non-family to family status, and for the replacement of the current occasional recuperation break scheme with rest and recuperation breaks;</p><p>(b) To authorize the charging of an amount estimated at $2,527,350, relating to the conversion of the United Nations Mission for the Referendum in Western Sahara (MINURSO) from non-family status to family status, to the MINURSO budget for the period from 1 July 2006 to 30 June 2007, with the expenditures to be repeated in the context of the performance report for MINURSO for the period 1 July 2006 to 30 June 2007;</p><p>(c) To authorize the charging of an amount estimated at $8,440,000, relating to the costs of replacing the current occasional recuperation break with the rest and recuperation break, as appropriate, to the relevant budgets of the individual peacekeeping missions for the period 1 July 2006 to 30 June 2007, to be reported in the context of the performance reports for the period 1 July 2006 to 30 June 2007;</p><p>(d) To approve in principle the harmonization of conditions of service for Secretariat staff serving in non-family duty stations with those of the staff of the United Nations funds and programmes;</p><p>(e) To decide to revert to the issue of the resources necessary to harmonize the conditions of service in non-family duty stations at the time of its consideration of the report of the International Civil Service Commission on the compensation package in such locations to be submitted to the General Assembly at the second part of its resumed sixty-first session.</p><h1>Building leadership and management capacity</h1><p>The Organization's ability to successfully meet current and future challenges and drive organizational and cultural change will depend, to a great extent, on skilful leadership and management. In recent years there has been a dramatic expansion and increase in the complexity of United Nations global operations, functions and budgets supporting a broad range of mandates and new requirements from peacekeeping and peacebuilding to humanitarian and human rights to drug and crime control and other critical global issues. Although increasing emphasis has been placed on leadership and managerial competencies, senior leaders at the Under-Secretary-General level are expected to perform a variety of substantive, political and representational functions in addition to their management role. Successful leadership and strong management, in a multicultural global workplace with often difficult and demanding environments, are vital if the Organization is to achieve its goals and utilize its human and financial resources to their maximum potential.</p><h1>Previous reforms</h1><p>A wide range of learning and organizational development programmes have been designed to systematically and progressively build management and leadership capacity. The People Management Training Programme was launched in 1996 in order to build practical people management skills of staff in managerial positions. The development of core and managerial competencies facilitated further refinements and focus of that programme, which has now evolved into two programmes: the Leadership Development Programme for D-1 and D-2 managers and a Management Development Programme for staff at the P-4 and P-5 levels, both of which are now mandatory for staff with supervisory functions.</p><p>Complementary programmes have been developed to support the grooming of future managers and leaders, including the intensive Junior Professional Development Programme, a foundation course for new staff recruited through the competitive examination process, and a Supervisory Development Programme to support all staff up to the P-4 level in developing key supervisory skills. These programmes are delivered throughout the global Secretariat.</p><p>To supplement programmes for individual managers, the Office of Human Resources Management offers department-based managerial and organizational development programmes aimed at strengthening overall management capacity, building a culture of continuous learning and developing skills of individual managers and teams. These programmes are customized to meet the specific needs of a particular department or office following various assessments and use of diagnostic tools. Follow-up activities have included short-duration training in targeted competency areas, team-building exercises, process reviews and coaching for teams and/or individual managers.</p><p>Several new tools have been developed to strengthen leadership, management and organizational development programmes. The profile of an effective department and the profile of an effective manager, which are set within the Organization's competency framework, provide a common language, shared values and a shared understanding of what constitutes effectiveness at the individual and departmental levels.</p><p>Within the organizational development framework, the profiles have guided the development of an online assessment instrument in the form of a new all-staff survey, the organizational effectiveness indicator, which provides departments with an indicator of their perceived level of development. They have also been used to develop an enhanced online 360-degree feedback instrument for individual managers.</p><p>Several mandatory online and face-to-face learning initiatives on the subject of ethics and integrity have also been introduced. With the establishment of the Ethics Office, these programmes have been strengthened and new programmes will be developed to meet evolving needs. A Guidebook on Delegation of Authority provides senior managers with information on their authority to make decisions relating to human, financial and physical resources. The Department of Peacekeeping Operations has introduced senior mission leadership induction programmes for special representatives of the Secretary-General and their deputies, force commanders, police commissioners and other senior mission leaders.</p><p>In addition to the above management, leadership and organizational development programmes, a variety of interrelated programmes and tools designed for managers at all levels support the goal of enhancing the leadership and managerial capacity of the Secretariat. Examples of these programmes include negotiation skills, conflict resolution, career planning and staff development, competency-based interviewing, prevention of harassment, sexual harassment and abuse of authority and the various language programmes.</p><p>In order to strengthen leadership and to enhance transparency in the appointment of senior officials, in 2005 the Secretary-General put in place a selection process that ensures much greater outreach and a wider search for qualified candidates. Clear job descriptions and required competencies are developed against which candidates can be assessed. A more systematic process of vetting candidates and checking their references was instituted, with external assistance when necessary. Interview panels submit recommendations to the Secretary-General for final selection.</p><h1>Impact of reforms to date and rationale for change</h1><p>The development of core and managerial competencies has been a significant step in setting standards and for communicating the Organization's expectations of high performance and managerial excellence. Competencies have served as a basis for the design of focused development programmes, the creation of feedback instruments and the establishment of recruitment and selection criteria.</p><p>While the selection measures for the appointment of senior officials introduced by the Secretary-General have improved the transparency of the process, recruitment of staff in leadership and management positions must be further enhanced, particularly to meet geographical distribution and gender balance targets.</p><p>The Department of Peacekeeping Operations utilizes a Senior Leadership Review Group for the selection of senior officials in peace operations to ensure the appointment of highly experienced professional leaders capable of meeting the challenges of large and complex peace operations. The Senior Leadership Review Group is composed of senior officials of the Department and, depending on the type of position being filled, senior officials from the Executive Committee on Humanitarian Affairs, the United Nations Development Group and other departments or offices as appropriate, including the Office of Human Resources Management. The Senior Leadership Review Group presents its recommendations to the Secretary-General for a decision.</p><p>In recent years the importance of building a new management culture has been recognized and programmes to develop managers have evolved in scope and size. A large number of staff members at the P-4/P-5 and D-1/D-2 levels have participated in at least one management development programme, and feedback indicates that the programmes have had a positive effect on the behaviour and approaches of managers. Participants have reported greater awareness of their role and impact as managers, enhanced communication skills and greater interaction with their staff.</p><p>The impact of the programmes, while significant, has been largely at the level of the individual manager. Current resources do not allow for the ongoing development that other organizations have found to be essential in developing and sustaining a strong leadership cadre and bringing about lasting culture change.</p><p>True management culture change will require investment in both the selection and the development of leaders. The Organization can no longer continue to select senior leaders based solely on their substantive expertise. An ability to manage the Organization's human and financial resources is also critical. Previous management experience and proven ability to operate in a complex multicultural environment must become key factors in selection. Leaders joining the United Nations from outside must quickly receive induction and orientation in order to fully understand the Organization's culture and the responsibilities and accountabilities of senior managers. They also require ongoing support and development opportunities. At the same time, the Organization must invest in developing staff on board in order to groom future managers and leaders.</p><p>The demand for leadership development and support outstrips the ability to meet the need in the global Secretariat. In view of the fact that leadership and management capacity will be crucial to the success of the reform and the future of the United Nations, the Organization can no longer risk under-investing in this area.</p><h1>Elaboration of proposals</h1><h1>Strengthened leadership recruitment</h1><p>More rigorous and systematic approaches to selection at the Under-Secretary-General, Assistant Secretary-General and Director levels, including for peace operations, will be established. For this purpose more proactive headhunting strategies will be adopted to identify and attract promising senior leaders. Candidates from the widest possible pool will be presented to the Secretary-General to facilitate the selection of a person who meets stringent criteria, with due regard to geographical distribution and gender balance. One of the key elements of the evaluation criteria for all senior posts will be a sound track record of successful managerial and leadership experience.</p><p>Competency-based interviews will be mandatory for all senior positions, complemented by other assessment techniques, as appropriate. All members of interview panels for senior staff will be required to undergo training in competency-based interviewing.</p><p>It is recognized that certain functions and positions require senior specialists who do not necessarily have the desire or the aptitude to assume managerial responsibilities. In order to recognize the value of such highly competent senior specialists and as an alternative to the managerial track, a \"substantive career track\" will be introduced. The substantive career track will be available up to the Director level, as has already been reflected in the new International Civil Service Commission job classification standards.</p><h1>Strengthened leadership and management training and development</h1><p>The new Leadership Development Programme for D-1 and D-2 managers and the Management Development Programme for P-4 and P-5 managers, which have been redesigned to ensure continuous development, will be further strengthened by the addition of more comprehensive assessment and evaluation tools. Ongoing programmes will be offered progressively to managers throughout their careers with the opportunity to participate in at least one programme per year. They will use both online and face-to-face coaching, with executive coaching available on request. The use of the 360-degree assessment tool will be expanded to allow more systematic feedback. The expansion of the scope and frequency of these programmes will ensure that all managers in all locations will have the opportunity to participate at a time and in a place that meets their personal and professional needs.</p><p>In addition to in-house programmes, senior staff will have the opportunity to participate in inter-agency programmes such as the Senior Management Network Leadership Development Programme, which is an integral component of the proposal for the establishment of the Senior Management Network, endorsed by the United Nations System Chief Executives Board for Coordination. This system-wide programme will be developed by the United Nations System Staff College, in close collaboration with the organizations of the system, and will be based on a set of core competencies developed for the Senior Management Network.</p><p>In order to develop internal capacity and facilitate succession planning, candidates with high potential for managerial positions would be offered specific developmental assignments, training, mentoring and the opportunity to be assessed for future managerial openings.</p><p>The Office of Human Resources Management will continue to partner with other departments and offices in developing appropriate learning programmes. For example, the Office of Human Resources Management and the Ethics Office are developing a user-friendly booklet explaining the Organization's code of conduct and are working together to ensure that the online mandatory training programme, the organizational integrity initiative, is kept current.</p><h1>Mandatory induction and training requirements</h1><p>All newly appointed senior staff, including those in field missions, will complete a focused induction and orientation programme consisting of briefings on expectations and accountabilities to guide them in the proper exercise of their delegated authority, managerial and substantive responsibilities and current organizational issues. These briefings could also be supplemented by an executive-level retreat approximately six months after appointment for all new senior staff to share experiences and become more familiar with the organizational culture, current challenges and common concerns.</p><p>In the context of the policy on senior leadership appointments in United Nations peace operations, the Department of Peacekeeping Operations has introduced an initiative known as the Senior Leadership Induction Programme. The newly appointed senior leaders of field missions will be required to undertake mandatory induction training and development within the first six months of their appointment as a condition of their service. The programme is intended to familiarize selected senior officials with the functioning of peace operations, as well as to assist them in acquiring critical knowledge and an understanding of their wider United Nations accountabilities in terms of programme, human resources and financial management.</p><h1>Expected impact of proposals</h1><p>Focusing on the leadership group and building strong managerial capacity will have a powerful impact on the performance and motivation of the rest of the staff and will lead to improved overall organizational effectiveness. The complex role of the senior-most leaders at Headquarters and in field operations coupled with the ever-evolving needs of the Organization provide a compelling rationale for increasing the level of investment in managerial selection and development.</p><p>More rigorous selection of senior leaders would ensure that those selected possess the appropriate combination of substantive and managerial expertise to carry out their complex role effectively, appropriately manage the Organization's resources and meet the high standards expected of United Nations senior officials.</p><p>Greater and more systematic investment in building a strong managerial cadre will help strengthen and retain those already in the Organization, and increase staff capabilities to meet the emerging demands. Concerted efforts to develop female leaders will result in an increase in the number of women in management and leadership functions.</p><h1>Required changes to the Staff Regulations and Rules</h1><p>No changes to the Staff Regulations and Rules would be needed to implement the proposals relating to building leadership and management capacity.</p><h1>Impact of proposals on the role and authority of the central human resources function</h1><p>The Office of Human Resources Management is responsible for designing and ensuring consistent implementation and monitoring of leadership and management programmes as part of its central role of providing the framework for career development and learning in the Organization. In this context, the Office will continue working in close cooperation with other departments, the Department of Peacekeeping Operations in particular, to ensure the consistency and coherence of programmes offered by different departments within the Secretariat. The Office will remain responsible for ensuring that the appropriate learning tools and programmes are available and for the Secretariat-wide implementation of standards of recruitment, including ensuring training in competency-based interviewing.</p><h1>Specific accountability measures</h1><h1>Managers</h1><p>As a mandatory part of their orientation and induction, newly appointed Under-Secretaries-General and Assistant Secretaries-General would sign the declaration whereby they undertake to exercise their functions as international civil servants of the United Nations in a formal meeting with the Secretary-General. This would reinforce the importance of this commitment.</p><p>Managers are responsible for implementing their individual yearly performance management plans, which constitute annual compacts between the Secretary-General and department heads, and the department's human resources action plan. The profile of an effective manager and profile of an effective department will be used as benchmarks for setting management standards in the context of the individual performance management plans. Senior managers are accountable for managing the performance of their staff and creating an environment conducive to the professional development of their staff.</p><p>The Management Performance Board is responsible for monitoring the manner in which senior managers exercise all aspects of the authority that has been delegated to them, including their performance in achieving the objectives contained in human resources action plans, for reviewing the outcome of the administration of justice proceedings in the Secretariat for management accountability purposes and for recommending appropriate remedies.</p><h1>Office of Human Resources Management</h1><p>The Office of Human Resources Management is accountable for policy development, implementation of mandatory programmes and monitoring and reporting on implementation.</p><h1>Timeline for implementation</h1><p>New policies for the recruitment of senior leaders and managers are being introduced. The requirement for formal signature of the declaration upon appointment could be implemented immediately.</p><p>Subject to the availability of additional resources, the expansion of leadership, management and organizational development programmes will be implemented over the next three years.</p><h1>Resource implications</h1><p>Resource implications for building leadership and management capacity are an integral part of the career development and support proposal (see sect. V above).</p><h1>Buyout</h1><h1>Previous programmes</h1><p>The Staff Regulations provide for agreed terminations to be given when it is determined that termination would be in the interest of the Organization and it is not contested by the staff member concerned, and in situations such as the closure of an office. Agreed terminations are granted under staff regulations 9.1 and 9.3 and annex III to the Regulations. In 2004 a total of 101 staff members separated under these terms, and 115 in 2005.</p><p>Early separation or buyout programmes have occasionally been offered to staff members who wished to be considered for separations under such programmes. The 1995 buyout programme, noted by the General Assembly in its resolution 49/222 A, was an element of the human resources management strategy to facilitate early retirement or separation of staff who found that they were no longer able to meet their career aspirations. It was open to all levels of staff who held permanent appointments and had at least two years to serve before reaching the normal retirement age. An estimated 250 staff were separated under this programme. Another buyout programme was initiated in April 1996 as a result of the implementation of General Assembly resolutions 50/214 and 50/215, which required substantial reductions of staff for the biennium 1996-1997. An estimated total of 150 staff were separated under this programme.</p><p>Early separation programmes in effect in 1995 (see A/C.5/49/5 and General Assembly resolution 49/222 A, sect. I, para. 8 and 1996 (see resolutions 50/214 and 50/215) were open to all levels of staff, including those in the Professional and higher categories, Field Service and General Service and related categories, who held permanent appointments and had at least two years to serve before reaching retirement age. Staff members were offered termination indemnity in accordance with annex III to the Staff Regulations and, consistent with the authority of the Secretary-General, an additional amount equal to 50 per cent of that indemnity, in accordance with staff regulation 9.3 (b).</p><p>The early separation programme in 1995 offered a compensation package either as a lump-sum payment in accordance with annex III to the Staff Regulations or a period of special leave with full pay up to the amount of the lump sum normally payable. The programme in 1996 also offered to staff members who were within two years of reaching age 55 and/or completing 25 years of contributory service in the Pension Fund an option to use, for a period of up to two years, part of their termination indemnity for the purpose of continued full contribution to the Pension Fund and after-service health insurance.</p><p>Staff members who fulfilled the eligibility criteria and who wished to be considered for the early separation programme were invited to submit a request to that effect. If the request was endorsed by the head of department or office concerned, a mutually acceptable separation date was established. Following a review by the Assistant Secretary-General for Human Resources Management and drawing on the priority order set by the heads of department or office, the Under-Secretary-General for Administration and Management made the final decision on behalf of the Secretary-General on the basis, inter alia, of available financial resources. In all cases, consistent with the best interests of the Organization, the Secretary-General reserved the right to reject or defer a staff member's application for an agreed separation.</p><p>Staff separated in accordance with the provisions of the early separation programmes were precluded from employment with the United Nations and its subsidiary organs and programmes for a period of four years following separation. Staff who opted for special leave for pension purposes were requested to sign an agreement acknowledging that they had severed all ties with the Organization except for the status of special leave for pension purposes and that all their entitlements from the Organization, with the exception of refund of amounts retained for pension contribution, were fixed and finally settled on the basis of their status as at the date special leave commenced.</p><h1>Elaboration of proposals</h1><p>The General Assembly, in paragraph 163 (c) of its resolution 60/1, called upon the Secretary-General to submit \"a detailed proposal on the framework for a one-time staff buyout to improve personnel structure and quality, including an indication of costs involved and mechanisms to ensure that it achieves its intended purpose\". The Secretary-General in his report (A/60/692, para. 91) stated that a buyout would be an essential tool for implementing the reforms proposed and the conclusions of the mandate review.</p><p>The buyout programme is envisaged as a tool to support implementation of management reforms and the outcome of the mandate review. The Secretary-General must be able to realign the staff in accordance with the Organization's priorities. Throughout this process, the Organization's interests must be protected by ensuring that the buyout does not result in the loss of staff whose skills, experience or knowledge are aligned with operational needs. The buyout programme would take into account staff attrition owing to retirement, resignation, expiry of appointment or other reasons. It is anticipated that a significant number of staff will reach retirement age over the next five years. In particular, this will have an impact at the managerial levels, with an anticipated retirement rate of 24.2 per cent and 37.7 per cent at the P-5 and Director levels respectively. Maintaining the balance between the anticipated attrition and early separation programme is essential in ensuring that a viable workforce, capable of carrying out the tasks entrusted to the Organization, is retained.</p><p>The decisions on participation in the buyout programme would be guided by the interest in maintaining a workforce adapted to the Organization's needs, and decisions on the separation of staff would be based on a determination that the separation is in the best interests of the Organization and that at least one of the following criteria has been met: the staff member's skills no longer match United Nations competency requirements; the staff member's functions have become redundant or obsolete; alternative placement is unlikely to be found; retraining is not possible; or there are compelling health or other personal circumstances.</p><p>In all instances it must be demonstrated that the loss of experience and knowledge would not be detrimental to the Organization. Not all interested eligible staff would be able to avail themselves of the programme. Conversely, the Organization would have the ability to encourage staff members to separate under the programme.</p><p>The mechanisms for implementation of a buyout programme would include safeguards in order to prevent arbitrary decisions and to preserve the strategic goals of the Organization.</p><p>As reform is a process, it is envisaged that the buyout programme would be carried out in two phases: an initial, voluntary phase followed by a targeted buyout aligned with the Organization's managerial and strategic priorities as identified upon completion of the mandate review and the implementation of management reforms, including any decisions on structural changes, simplification of processing, outsourcing and relocation that may lead to redundancies and new staff requirements.</p><h1>Voluntary phase</h1><p>As agreed at the twenty-seventh session of the Staff Management Coordination Committee, the voluntary phase would be limited and would be available to staff at all levels, including those in the Professional and General Service and related categories, who hold contracts under the 100 series of the Staff Rules, have a minimum of 25 years of continuous service and are at least 55 years of age. Field Service officers who had served in peacekeeping operations for 15 years, regardless of age, would also be eligible for voluntary buyouts.</p><p>Under the voluntary phase of the buyout programme, a staff member's request would have to be endorsed by the head of department or office and the Office of Human Resources Management and approved by the Under-Secretary-General for Management on behalf of the Secretary-General. The staff member would receive compensation as a lump-sum payment in accordance with annex III to the Staff Regulations, including the discretionary increase of up to 50 per cent in accordance with the provisions of staff regulation 9.3 (b). When warranted and possible, the Organization could offer a customized package that would allow the staff member to remain on special leave with full or partial pay or without pay for pension and medical insurance purposes or other compelling reasons. Customized separation packages would not exceed the amount that would normally be granted under the lump-sum option. The size of a voluntary buyout would depend on the amount appropriated for that purpose. It is estimated that an individual package would average $100,000.</p><p>Decisions on the separation of staff members who volunteer to participate in this programme would be based on a determination that the separation is in the best interests of the Organization, subject to available resources. Staff members who separate under the voluntary aspect of the programme would be precluded from full-time employment with the United Nations and its funds and programmes for a period of three years from the date of separation.</p><h1>Targeted phase</h1><p>The size, scope and details of the targeted phase of the buyout programme would depend on decisions to be made by the General Assembly with respect to alternative service delivery and the mandate review. In principle, this phase would be open to United Nations staff members at all levels, including those in the Professional, Field Service and General Service and related categories, holding contracts under the 100 series of the Staff Rules whose positions would have been made redundant as a result of the implementation of management reform proposals and the results of the mandate reviews. Under these circumstances and in order to facilitate the transition, the compensation package would be contingent upon length of service and in accordance with the schedule set out in annex III to the Staff Regulations. As discussed at the twenty-seventh session of the Staff Management Coordination Committee, the Secretary-General would intend to propose a discretionary increase of 100 per cent to facilitate staff members' transition from their employment with the United Nations.</p><p>In view of the fact that the targeted phase of the buyout programme would take place upon completion of the review of organizational mandates and the implementation of the Secretary-General's management reforms, the twenty-seventh session of the Staff Management Coordination Committee agreed that further consultations on the implementation criteria would be held once details of the scope and size were available.</p><h1>Expected impact of proposals</h1><p>The main objective of the voluntary buyout programme is to realign staff competencies to meet the Organization's new demands. The voluntary phase approach would free up a certain number of posts for recruitment of new skills and open career opportunities for younger staff. This could also contribute to the rejuvenation of the Organization and to the desired changes in management culture.</p><h1>Required changes to the Staff Regulations and Rules</h1><p>The voluntary phase of the buyout does not require any changes to the Staff Regulations and Rules.</p><h1>Impact of proposals on the role and authority of the central human resources function</h1><p>All requests for voluntary buyouts would be reviewed by the Assistant Secretary-General for Human Resources Management, in consultation with the heads of department or office. The final decision would be made by the Under-Secretary-General for Management on the basis of a recommendation from the department concerned, which must be approved by the Office of Human Resources Management, taking into account the best interests of the Organization and the financial resources available. In all cases, consistent with the best interests of the Organization, the Secretary-General would reserve the right to reject or defer a staff member's application for buyout.</p><h1>Specific accountability measures</h1><h1>Managers</h1><p>Managers would be accountable for ensuring that the Organization's strategic goals and interests were protected and for the transparent and equitable implementation of the voluntary phase of the buyout, as well as for ensuring that all decisions on separations were consistent with the intent and purpose of the programme. They would also be accountable for committing themselves to the guiding principles of the programme and for making recommendations on separations in strict accordance with the set criteria, in a transparent and equitable manner, based on the priorities and needs of the office.</p><h1>Staff</h1><p>Staff would be accountable for compliance with the provisions of the voluntary phase of buyout.</p><h1>Office of Human Resources Management</h1><p>The Office of Human Resources Management would be accountable for supporting the programme and for making recommendations to the Under-Secretary-General for Management.</p><h1>Department of Management</h1><p>The Under-Secretary-General for Management would be accountable for the final approval of separations carried out under the programme.</p><h1>Timeline for implementation</h1><p>The voluntary phase of the buyout programme would come into effect as soon as the resources for the programme were available.</p><p>The targeted phase would be implemented following consideration by the General Assembly of the management reform proposals and the results of the mandate reviews, and after details of the programme were discussed with staff, as agreed at the twenty-seventh session of the Staff Management Coordination Committee.</p><h1>Resource implications</h1><p>Staff at all levels in the Professional and General Service and related categories who hold contracts under the 100 series of the Staff Rules, have a minimum of 25 years of continuous service and are at least 55 years of age would be eligible for consideration for the voluntary phase of buyout. Field Service officers who had served in peacekeeping operations for 15 years, regardless of age, would also be eligible to be considered for a voluntary buyout. Under these criteria, the number of eligible staff would be approximately 1,000, comprising 850 eligible staff under the programme budget and 150 eligible staff from peacekeeping missions.</p><p>The size of this phase of the buyout programme will depend on the number of eligible staff who express an interest in participating. The average cost of a separation package is anticipated to amount to $100,000. Should 15 per cent of the eligible population participate, the cost would amount to $15 million.</p><p>The size and scope of the targeted phase of the buyout programme will depend on the outcome of the mandate review and the implementation of decisions on management reform. The locations from which staff who might avail themselves of the buyout programme is unknown at this time. During the course of implementation, the appropriate charges and distribution would be reported to the General Assembly in the context of performance reports.</p><h1>Action requested of the General Assembly</h1><p>The General Assembly is requested:</p><p>(a) To appropriate a total amount of $12,750,000 under section 28C, Office of Human Resources Management, of the programme budget for the biennium 2006-2007 to cover the costs of the voluntary phase of the buyout programme;</p><p>(b) To authorize the charging of an amount estimated at $1,125,000 relating to the costs of the voluntary phase of the buyout programme to the budgets of the relevant individual peacekeeping missions for the period from 1 July 2006 to 30 June 2007, with the expenditures to be reported in the context of the performance reports for those missions for the period ending 30 June 2007;</p><p>(c) To decide to consider additional resources estimated at $1,125,000 for the remainder of 2007 in the context of the proposed budgets of the individual peacekeeping missions for the period from 1 July 2007 to 30 June 2008;</p><p>(d) Also to decide to revert to the issue of the targeted phase of the buyout programme at its sixty-second session.</p><h1>Human resources information technology</h1><p>The Secretary-General, in his detailed report on investing in information and communication technology (A/60/846/Add.1), set out the organizational strategy for information and communication technology (ICT), which is to align ICT priorities with Secretariat performance objectives. The implementation of the strategy will be key in supporting the Secretary-General's vision of an integrated, field-oriented Secretariat with multi-skilled, versatile and mobile staff.</p><p>A major component of the organizational ICT strategy will be the introduction of an Enterprise Resource Planning (ERP) system to provide the Organization with new capability and tools to increase efficiency and effectiveness, transparency and accountability. The ERP system will facilitate the integration of currently fragmented process aspects of human resources management, such as benefits administration, personnel actions, payroll and post management, as well as the implementation of human resources planning and performance management. However, an ERP system will not resolve or eliminate the deficiencies and constraints currently hampering several strategic areas of human resources management, including recruitment, mobility, staff development and career support.</p><p>The existing human resources information technology systems do not support an integrated approach to human resources management. They have contributed to the proliferation of stand-alone systems, frequently supporting similar functions and processing the same information. With a workforce of over 30,000 staff serving in a vast number of duty stations and field missions, reporting at a global level has become a challenge, frequently necessitating manual consolidation and validation of data from diverse systems, which is a complex and labour-intensive process.</p><p>Over the years there has been some automation of human resources administrative processes through many applications, including Galaxy. However, strategic processes involving more complex workflows and collaboration among various offices are not sufficiently automated, resulting in delays and the unavailability of accurate data. If the approach to human resources management is to become more strategic and integrated, the necessary human resources information technology systems must be in place. Human resources management reform requires streamlined and automated processes, enhanced management of human resources data and improved communication technology.</p><p>The specific proposals outlined below would meet this requirement in support of functions which are outside the core ERP areas of automation. They will not duplicate but rather will complement the function of an ERP system. They include a new technological infrastructure for e-staffing, a learning management system, a system for reporting and managing data, a document management system and knowledge management and e-office tools.</p><h1>New technological infrastructure for e-staffing</h1><p>In support of the introduction of the new staff selection system in May 2002, an e-staffing tool was developed in-house by the Department of Peacekeeping Operations, in partnership with the Office of Human Resources Management. The tool was internally named \"Galaxy\" and its main focus was to move from a paper-based to a web-based electronic system. The Office of Human Resources Management initiated the advertising of vacancies in Galaxy in 2002 and the Department of Peacekeeping Operations commenced advertising field vacancies in 2004. The system was welcomed by the General Assembly in its resolution 57/305, in which the Assembly requested the Secretary-General to ensure that the system would enhance transparency, efficiency and effectiveness in the recruitment process. The introduction of Galaxy greatly improved the transparency of recruitment processes, as it enabled the wide dissemination of information and significantly reduced the time needed to fill vacancies. The custom-made technological infrastructure of Galaxy, however, severely limits its flexibility and does not allow for modifications that are required to accommodate dynamic and changing operational requirements. Furthermore, the Office of Internal Oversight Services noted that the primary responsibility for system maintenance and development remained with the Department of Peacekeeping Operations, even though the system had become one of the Organization's core human resources applications and, in that context, recommended that responsibility for Galaxy be migrated to the Department of Management.</p><p>In reviewing the proposed programme budget for the biennium 2004-2005, the Advisory Committee on Administrative and Budgetary Questions stated that experience so far with the Galaxy system showed that there had been an inadequate analysis of tasks, scope and coverage of the system before it was implemented. The Committee further emphasized that, unless Galaxy problems were resolved, its effectiveness would be compromised and the cost-effectiveness of its future use would be called into question. The General Assembly, in its resolution 59/266, requested the Secretary-General to fully develop the support tool and make it more efficient and user-friendly. In a subsequent report (A/59/265/Add.1), the Secretary-General stated his intention to undertake a review to establish the most appropriate technological infrastructure for the system, including the possible use of \"off-the-shelf\" packages.</p><p>In the biennium 2005-2006, the Secretariat conducted a detailed analysis of the possible solutions and concluded that further modification of the existing Galaxy technological infrastructure would not be a cost-effective solution. Galaxy was designed as a recruitment tool that met the need at the time it was introduced for the Organization to move away from a paper-based system. Significant changes are now required to bring the current system up to the industry standard and to permit a broader use for staffing purposes, including implementation of managed mobility. It was also noted that there were now commercially available recruitment applications that were not available at the time of deployment of Galaxy and that could meet projected organizational needs.</p><p>Drawing on this analysis and the experience gained so far, it is recommended that the most cost-effective and feasible solution would be to procure an off-the-shelf e-staffing software package that would be integrated into the future ERP system. The new software package would overhaul technological infrastructure and provide flexibility to adjust to the Organization's changing requirements. This approach conforms to best practices in the use of technology for recruitment. The estimated cost of launching a new e-staffing tool is $1.45 million, which includes the installation and customization of software, vendor technical maintenance and support for project management in 2007 with a view to making the transition to the new system in 2008.</p><h1>Learning management system</h1><p>In support of career development and mobility across the Secretariat, a learning management system is required to manage learning resources globally and provide access to them. Such a system would offer web-based training and performance support tools to develop staff knowledge and skills, provide online coaching and assistance in creating career development plans and maintain a library of supplemental learning resources. For example, the learning management system would allow for global electronic access to mandatory courses such as those on ethics and prohibition of harassment and would enable central compliance monitoring, which at present is not possible. The learning management system would also be a central technical component of the Virtual Academy (see sect. V above). The total estimated cost of the new learning management system would be $535,000 for 2007.</p><h1>Document management system</h1><p>Human resources functions are currently not supported by a document management system and documents are managed on local or shared drives. A new document management system, which would be an integral part of the Secretariat's Enterprise Content Management system, would streamline processes for human resources document management and meet digitization and classification needs for day-to-day operational requirements as well as for archiving purposes. The cost of the new document management system is $200,000 for 2007.</p><h1>Knowledge management and e-office system</h1><p>With increased mobility of staff and the need for global implementation of standards, policies and procedures, systematic improvements should be made to current human resources management practices in the Secretariat to provide the Organization with the capacity to share knowledge in a more transparent manner. It is for these reasons that better knowledge management, including e-office systems, should be implemented. This would be a part of the Secretariat's customer relationship management initiative, expected to be implemented in 2008.</p><h1>Reporting and data repository</h1><p>The new ERP system will consolidate all transactional data for the Secretariat. This includes all staff-related data, including on posts, salary levels and benefits. However, the new system will not include data from, for example, the new learning management system, the current medical system or data from other agencies' ERP systems. In order to manage the Secretariat's workforce in an integrated manner, there is a need to generate and manage information from many sources other than the new ERP system or the Integrated Management Information System. This investment will provide human resources practitioners and programme managers throughout the Secretariat with new, easy-to-use web-based tools to access the data repository and to obtain, analyse and report on human resources information in a timely and more comprehensive manner. The underlying technology of the new repository will be fully compliant with ERP integration standards. This initiative will cost $160,000 for 2007.</p><h1>Expected impact of proposals</h1><p>A modern human resources information technology infrastructure is an essential tool for the efficient management of the Organization's global human resources in an integrated and timely manner. The system would automate recruitment and staffing processes, facilitate mobility and support staff development and career support. It would empower the managers, human resources practitioners and staff by providing them with direct and timely access to relevant information and reduce the need for day-to-day reliance on technical experts' assistance for routine tasks and functions. An enhanced human resources information technology system that meets the need of an integrated Secretariat is essential for overall efficiency in human resources management. It would increase transparency, promote consistency in human resources management throughout the Secretariat and enable end-users to have access to information necessary to fulfil their responsibilities.</p><p>The new e-staffing technological infrastructure would enable the Organization to have a flexible and scalable platform to support the range of functions necessary for recruitment, staffing and mobility. These would include faster processing of applications, more effective screening, more efficient roster management, self-service components for applicants and an integrated approach to reporting. The system would be sufficiently flexible to accommodate the evolving needs of the Organization.</p><p>The learning management system would provide automated tools for core learning support functions such as registration, course development, results management, compliance and reporting, which are currently not available.</p><p>The investment in reporting infrastructure would provide non-technical staff with easy and timely access to accurate human resources data. This would reduce the time spent on gathering and consolidating data and would improve the quality and timeliness of reports.</p><p>The document management system would enable the Organization to have one central repository of all human resources documents, which would provide easy access to information and contribute to consistency and transparency in human resources management globally. It would also ensure the preservation of institutional knowledge through central records management and archiving. Knowledge management and e-office automation would improve the tracking of human resources transactions as they went through various stages of approval and completion.</p><h1>Resource requirements</h1><p>In order to strengthen the human resources information technology function in the Office of Human Resources Management in support of human resources management reform, additional resources for the transitional period from 2007 to 2009 would be required.</p><p>In order to support the new e-staffing tool and other human resources information technology systems, the equivalent of two P-4, one P-3, one P-2 and two General Service (Other level) temporary posts would be required at an estimated cost for 2007 of $396,000. Those resources would be sought under both the budget for the support account for peacekeeping operations and the programme budget.</p><p>Three posts, one P-4, one P-2 and one General Service (Other level), at an estimated cost of $191,000, are requested under the programme budget for the biennium 2006-2007. Three further posts, one P-4, one P-3 and one General Service (Other level), estimated at $102,500, would initially be met from the support account for peacekeeping operations for the period ending 30 June 2007. An amount estimated at $102,500 for the balance of 2007 would be sought in the context of the budget for the support account for peacekeeping operations for the period from 1 July 2007 to 30 June 2008.</p><p>In addition, non-post resources amounting to $2,660,500 are required for 2007 to be shared between the programme budget for the biennium 2006-2007 ($1,300,700) and the budget for the support account for peacekeeping operations ($761,600) for the period ending 30 June 2007, and an amount estimated at $598,200 would subsequently be sought in the context of the budget for the support account for peacekeeping operations for the period from 1 July 2007 to 30 June 2008. Of that amount, total requirements of $60,000 relate to consultancy services to provide for the data repository. An amount of $1,250,000 relates to contractual services, comprising $850,000 for the new e-staffing tool, $200,000 for the learning management system and $200,000 for the document management system. A total of $1,035,000 relates to information technology software, comprising $600,000 for the new e-staffing tool, $335,000 for the learning management system and $100,000 for the reporting and data repository. These costs will be shared between the programme budget and the peacekeeping support account. Requirements relating to common services costs, such as rental of office accommodation, communications and supplies, would total $315,500.</p><h1>Action required of the General Assembly</h1><p>The General Assembly is requested:</p><p>(a) To approve the establishment of six new temporary posts (2 P-4, 1 P-3, 1 P-2, 2 General Service (Other level);</p><p>(b) To appropriate an amount under the programme budget for the biennium 2006-2007 of $1,521,500, comprising $1,395,700 under section 28C, Office of Human Resources Management, $96,000 under section 28D, Office of Central Support Services, and $29,800 under section 35, Staff assessment, to be offset by an equivalent amount under income section 1, Income from staff assessment;</p><p>(c) To grant the Secretary-General commitment authority for requirements estimated at $864,100 (net of staff assessment) relating to the strengthening of human resources information technology under the budget for the support account for peacekeeping operations for the period from 1 July 2006 to 30 June 2007, with the expenditures to be reported in the context of the performance report for the support account for the period from 1 July 2006 to 30 June 2007;</p><p>(d) To note that further requirements would be presented in the context of the proposed programme budget for the biennium 2008-2009 and the proposed budget for the support account for peacekeeping operations for the period from 1 July 2007 to 30 June 2008.</p><h1>Strengthening accountability measures</h1><p>As recently presented by the Secretary-General in his detailed report addressing accountability in the context of his management reform proposals, the term \"accountability\" has been used to refer, on the one hand, to the broad responsibility of the Secretary-General to Member States for the use of resources and the delivery of programmes and services (results) and, on the other hand, to the responsibility of individual staff members to the Secretary-General for the performance of duties and ethical conduct (see A/60/846/Add.6, para. The first corresponds to \"institutional accountability\" and the second to \"personal accountability\" (ibid., para. The detailed proposals contained in the present report address and strengthen both aspects.</p><p>Institutional accountability in respect of human resources management will be reinforced through the strengthened role of the Office of Human Resources Management in acting on behalf of the Secretary-General to ensure that all possible means are used to comply with legislative mandates regarding human resources and in presenting the performance of the Organization to Member States. A critical aspect of this role is the formulation of clear policies and rules that can be applied in a transparent manner and that will be monitored closely by the Office of Human Resources Management to promote and preserve a consistent application. In so doing, the Office will act as a catalyst for change, introducing improved approaches to problems and good practices to promote an organizational culture of high performance, responsiveness, integrity and managerial excellence, helping to identify and address the needs of the Organization by formulating global human resources strategies, policies, guidelines and accountability measures.</p><p>Many of the proposals contained in the present report are designed to support institutional accountability, for instance the introduction of one United Nations staff contract, or the replacement of the current staff selection system by the new proposed system of recruitment and staffing. Another key feature of the proposals is reinforcement of the authority that the Office of Human Resources Management exercises on behalf of the Secretary-General in respect of mandate implementation and increasing the level and effectiveness of its monitoring of the exercise of the authority delegated to heads of departments and offices in human resources management. In that respect, the Management Performance Board will play a crucial role, reinforcing the impact of the other accountability measures explained in detail after each proposal. All this, when combined with improved information technology tools, will permit much better reporting to Member States on the results achieved.</p><p>Personal accountability requires a clear definition of responsibilities and the means to discharge them. The responsibility of heads of departments and offices in the management of human resources is well defined, and those senior officials must ensure that those to whom they delegate the exercise of elements of their authority are answerable to them. The proposals contained in the present report would result in a significant increase in resources for staff development and career support and for building leadership and management capacity, thus providing to all concerned the means to discharge their respective responsibilities. An integral part of these proposals is the consistent reinforcement of core values, ethics and rules of conduct in all the mandatory and optional programmes that will be made available. This will foster a better understanding of what the Organization expects of its staff at all levels, including its senior managers, and of the consequences of meeting or not meeting those expectations, including the withdrawal of delegated authority and the imposition of disciplinary sanctions.</p><p>Accountability is addressed in more specific detail for each of the proposals contained in the present report.</p><h1>Revised estimates</h1><p>Table 1 below provides an overview of the total resources required in 2007 to implement the comprehensive human resources proposals contained in the present report. It details the full-year 2007 requirements under the programme budget for the biennium 2006-2007 as well as the requirements under peacekeeping. As the cycle for resources approved by the General Assembly for peacekeeping covers a yearly period, it is also noted that details are provided on the requirements that are sought under the current financial period (1 July 2006-30 June 2007) and those that would be proposed in the context of the peacekeeping and support account budgets for the succeeding period (1 July 2007-30 June 2008).</p><h1>Table 1 Total resources required in 2007</h1><p>(Thousands of United States dollars)</p><p>a Programme budget for the biennium 2006-2007.</p><p>b Budget for the support account for peacekeeping operations, 1 July 2006 to 30 June 2007.</p><p>c 1 July 2007 to 30 June 2008.</p><p>Details are provided in tables 2 to 5 of the requirements under the programme budget and in tables 6 to 9 under the budget for the support account for peacekeeping operations.</p><h1>Programme budget for the biennium 2006-2007</h1><p>The overall financial impact of the proposals contained in the present report, as reflected in changes to the programme budget for the biennium 2006-2007, would amount to $36,215,200, including an increase of six posts. These changes are reflected in the present revised estimates and are summarized in tables 2 to 5 below.</p><h1>Table 2 Total resource requirements -- regular budget</h1><h1>Table 3</h1><h1>Resource requirements by budget section</h1><p>(Thousands of United States dollars)</p><h1>Table 4</h1><h1>Posts by grade -- regular budget</h1><h1>Table 5 Posts by budget section</h1><p>Additional resource requirements for the biennium 2006-2007, as outlined in table 2, might normally be considered to be potentially subject to the provisions governing the contingency fund (see General Assembly resolutions 41/213 and 42/211). In this regard, it is recalled that the Assembly, in its resolution 59/278, approved a contingency fund for the biennium 2006-2007 in the amount of $27.2 million. The balance of the contingency fund following decisions taken by the Assembly amounts to $637,300. However, it would appear that resolution 42/211 did not foresee circumstances such as those currently faced by Member States. A reduction of resources to fit within the remaining balance of the contingency fund would preclude fulfilling the intent of the Assembly as expressed in the 2005 World Summit Outcome (resolution 60/1) and associated reform actions. Under the circumstances, the Assembly may wish to proceed for the purposes of this exercise in the same manner in which it handled a similar situation in December 2005 and June 2006 in addressing costs related to follow-up to the Summit Outcome.</p><h1>Peacekeeping</h1><p>The change in the budget for the support account for peacekeeping operations and individual peacekeeping missions for the period from 1 January to 30 June 2007 would amount to $21,345,200, including an increase of five posts. The General Assembly is requested to grant the Secretary-General commitment authority not exceeding $1,400,900 for the additional staff and non-staff costs required under the budget for the support account for peacekeeping operations for the period from 1 July 2006 to 30 June 2007, with reporting thereon to the Assembly in the context of the performance report for the support account for peacekeeping operations. The Assembly is also requested to authorize the charging of an amount not exceeding $19,944,300 to the individual peacekeeping missions for the period from 1 July 2006 to 30 June 2007, with reporting thereon in the context of the performance reports. As concerns requirements for the second part of 2007, they would be considered in the context of the budgets for the support account for peacekeeping operations and the individual peacekeeping missions for the period from 1 July 2007 to 30 June 2008.</p><h1>Table 6 Total resource requirements -- support account</h1><p>a Including additional resources ($706,600) approved for procurement services.</p><p>b Proposed for the period 1 January-30 June 2007.</p><h1>Table 7 Resource requirements of the Office of Human Resources Management -- support account</h1><p>(Thousands of United States dollars)</p><p>a Proposed for the period 1 January-30 June 2007.</p><h1>Table 8 Posts by grade -- support account</h1><h1>Table 9 Posts for the Office of Human Resources Management -- support account</h1><h1>Conclusion and recommendations</h1><p>This integrated package of reform measures aims at adapting the Organization's human resources management framework to meet evolving requirements, increase transparency and clarify accountability lines. Only by investing in its people and processes will the Secretariat be able to attract, recruit and retain the high-quality staff it needs to meet its complex mandates. The Secretary-General believes that the return on this investment will increase the Organization's effectiveness in implementing the mandates of Member States.</p><p>The General Assembly is requested:</p><h1>Proposal 1</h1><p>(a) To approve the reduction of the advertising time for vacancy announcements from 60 to 30 days for specific vacancies;</p><p>(b) Also to approve the elimination of eligibility restrictions based on category in order to provide greater opportunities for staff in the General Service and related categories to be promoted to posts not subject to geographical distribution at the P-2 level through a competitive process;</p><p>(c) To note that the trial period for the special roster authorized by the General Assembly in resolution 59/266 will expire in December 2006 and to authorize the Secretary-General to continue the use of the special roster for posts at the P-4 and P-5 levels with a view to improving the geographical representation of unrepresented and underrepresented Member States until such Member States are within their desirable ranges;</p><p>(d) To appropriate a total amount under the programme budget for the biennium 2006-2007 of $755,200, comprising $638,400 under section 28C, Office of Human Resources Management, $71,000 under section 28D, Office of Central Support Services, and $45,800 under section 35, Staff assessment, to be offset by an equivalent amount under income section 1, Income from staff assessment;</p><p>(e) To grant the Secretary-General commitment authority for the requirements relating to the strategic functions of the new recruitment centre estimated at $366,100 (net of staff assessment) under the budget for the support account for peacekeeping operations for the period ending 30 June 2007 and to report in the context of the performance report for the support account for peacekeeping operations for the period from 1 July 2006 to 30 June 2007;</p><p>(f) To take note that further requirements relating to the transitional period, including the establishment of a post of head of the recruitment centre at the D-2 level, will be considered in the context of the proposed programme budget for the biennium 2008-2009, as appropriate, and the proposed budget for the support account for peacekeeping operations for the period from 1 July 2007 to 30 June 2008;</p><h1>Proposal 2</h1><p>(a) To decide to eliminate the restrictions on staff on assignment to United Nations peace missions, currently set at 5 per cent of authorized General Service and Field Service posts across missions, with the exception of those missions in a start-up phase or other exceptional circumstances;</p><p>(b) To support the review of host country agreements and the issuance of work permits with a view to supporting the employment of spouses of United Nations staff;</p><p>(c) To approve the establishment of five new temporary posts (2 P-4, 1 P-3 and 2 General Service (Other level));</p><p>(d) To appropriate a total amount under the programme budget for the biennium 2006-2007 of $366,400, comprising $235,000 under section 28C, Office of Human Resources Management, $96,000 under section 28D, Office of Central Support Services, and $35,400 under section 35, Staff assessment, to be offset by an equivalent amount under income section 1, Income from staff assessment;</p><p>(e) To grant the Secretary-General commitment authority for the requirements relating to the establishment of two posts (1 P-3 and 1 General Service (Other level)) and associated common service costs estimated at $124,700 (net of staff assessment) under the budget for the support account for peacekeeping operations for the period ending 30 June 2007 and to report in the context of the performance report for the support account for peacekeeping operations for the period from 1 July 2006 to 30 June 2007;</p><p>(f) To note that further requirements relating to the transitional period will be presented in the context of the proposed programme budget for the biennium 2008-2009 and the proposed budget for the support account for peacekeeping operations for the period from 1 July 2007 to 30 June 2008;</p><h1>Proposal 3</h1><p>(a) To decide to double the biennial training budget of the Organization;</p><p>(b) To appropriate an additional $10 million for training under section 28C, Office of Human Resources Management, of the programme budget for the biennium 2006-2007;</p><p>(c) To decide to revert to appropriation for training resources in the context of the proposed programme budget for the biennium 2008-2009, in line with the proposal of the Secretary-General to initially double the training budget;</p><h1>Proposal 4</h1><p>(a) To approve the introduction of one United Nations staff contract under one set of Staff Rules, with three types of appointment status (temporary, fixed-term and continuing), with conditions of service which would be equivalent to those offered under the current 100 series and would vary according to the length of service;</p><p>(b) To approve the replacement of permanent contracts with continuing appointments, for which staff could be given consideration if they have completed five years of continuous service;</p><p>(c) To approve the amendments to staff regulations 4.5 and 9.1 and to annex III to the Staff Regulations, as set out in annex II to the present report;</p><p>(d) To note that the review of all staff members appointed under the 100 series of the Staff Rules who meet the conditions to be considered for permanent appointment by the time the amended regulations and rules introducing the continuing appointment come into force may result in a proportion of permanent staff in posts subject to geographical distribution which may temporarily exceed the 70 per cent level otherwise applicable under section V, paragraph 2, of resolution 51/226;</p><p>(e) To appropriate a total of $3,370,800 under the provision for special political missions of section 3, Political affairs, of the programme budget for the biennium 2006-2007;</p><p>(f) To authorize the changing of a total estimated amount of $7,851,950, as appropriate, to the relevant budgets of the individual peacekeeping missions for the period 1 July 2006 to 30 June 2007, to be reported in the context of the performance reports for the period ending 30 June 2007;</p><p>(g) To appropriate a total amount of $7,451,300 under the provision for special political missions of section 3, Political affairs, of the programme budget for the biennium 2006-2007 for the conversion of \"special\" missions from non-family to family status, and for the replacement of the current occasional recuperation break scheme with rest and recuperation breaks;</p><p>(h) To authorize the charging of an amount estimated at $2,527,350, relating to the conversion of MINURSO from non-family status to family status, to the MINURSO budget for the period from 1 July 2006 to 30 June 2007, with the expenditures to be reported in the context of the performance report for MINURSO for the period from 1 July 2006 to 30 June 2007;</p><p>(i) To authorize the charging of an amount estimated at $8,440,000, relating to the costs of replacing the current occasional recuperation break with the rest and recuperation break, as appropriate, to the relevant budgets of the individual peacekeeping missions for the period 1 July 2006 to 30 June 2007, to be reported in the context of the performance reports for the period 1 July 2006 to 30 June 2007;</p><p>(j) To approve in principle the harmonization of conditions of service for Secretariat staff serving in non-family duty stations with those of the staff of the United Nations funds and programmes;</p><p>(k) To decide to revert to the issue of the resources necessary to harmonize the conditions of service in non-family duty stations at the time of its consideration of the report of the International Civil Service Commission on the compensation package in such locations to be submitted to the General Assembly at the second part of its resumed sixty-first session;</p><h1>Proposal 22</h1><p>(a) To appropriate a total amount of $12,750,000 under section 28C, Office of Human Resources Management, of the programme budget for the biennium 2006-2007 to cover the costs of the voluntary phase of the buyout programme;</p><p>(b) To authorize the charging of an amount estimated at $1,125,000 relating to the costs of the voluntary phase of the buyout programme to the budgets of the relevant individual peacekeeping missions for the period from 1 July 2006 to 30 June 2007, and with the expenditures to be reported in the context of the performance reports for those missions for the period ending 30 June 2007;</p><p>(c) To decide to consider additional resources estimated at $1,125,000 for the remainder of 2007 in the context of the proposed budgets of the individual peacekeeping missions for the period from 1 July 2007 to 30 June 2008;</p><p>(d) Also to decide to revert to the issue of the targeted phase of the buyout programme at its sixty-second session;</p><h1>Human resources information technology</h1><p>(a) To approve the establishment of six new temporary posts (2 P-4, 1 P-3, 1 P-2, 2 General Service (Other level));</p><p>(b) To appropriate an amount under the programme budget for the biennium 2006-2007 of $1,521,500, comprising $1,395,700 under section 28C, Office of Human Resources Management, $96,000 under section 28D, Office of Central Support Services, and $29,800 under section 35, Staff assessment, to be offset by an equivalent amount under income section 1, Income from staff assessment;</p><p>(c) To grant the Secretary-General commitment authority for requirements estimated at $864,100 (net of staff assessment) relating to the strengthening of human resources information technology under the budget for the support account for peacekeeping operations for the period from 1 July 2006 to 30 June 2007, with the expenditures to be reported in the context of the performance report for the support account for the period from 1 July 2006 to 30 June 2007;</p><p>(d) To note that further requirements would be presented in the context of the proposed programme budget for the biennium 2008-2009 and the proposed budget for the support account for peacekeeping operations for the period from 1 July 2007 to 30 June 2008;</p><h1>Summary of financing action</h1><p>(a) To decide to appropriate a total of $36,215,200, comprising $10,822,100 under the provision for special political missions under section 3, Political affairs; $25,019,100 under section 28C, Office of Human Resources Management; $263,000 under section 28D, Office of Central Support Services; and $111,000 under section 35, Staff assessment, to be offset by an equivalent amount under income section 1, Income from staff assessment, of the programme budget for the biennium 2006-2007;</p><p>(b) To approve the establishment of six temporary posts, consisting of three P-4, one P-2 and two General Service (Other level) posts, under section 28C, Office of Human Resources Management, of the programme budget for the biennium 2006-2007;</p><p>(c) To note that further requirements relating to the transitional period for recruitment and staffing and mobility reform, including the establishment of a post of head of the recruitment centre at the D-2 level, will be considered in the context of the proposed programme budget for the biennium 2008-2009, as appropriate, and the proposed budget for the support account for peacekeeping operations for the period from 1 July 2007 to 30 June 2008;</p><p>(d) To note, further, that resources to strengthen the human resources information technology function in the Office of Human Resources Management would be presented in the context of the proposed programme budget for the biennium 2008-2009, as appropriate, and the proposed budget for the support account for peacekeeping operations for the period from 1 July 2007 to 30 June 2008;</p><p>(e) To decide to revert to appropriation for further training resources in the context of the proposed programme budget for the biennium 2008-2009, in line with the proposal of the Secretary-General to initially double the training budget;</p><p>(f) To approve the establishment of five temporary posts, consisting of two P-4, one P-3 and two General Service (Other level) posts, for the Office of Human Resources Management under the support account for peacekeeping operations for the period ending 30 June 2007;</p><p>(g) To grant the Secretary-General commitment authority for an amount not exceeding $1,400,900 for the additional staff and non-staff costs required under the budget for the support account for peacekeeping operations for the period from 1 July 2006 to 30 June 2007, and with reporting thereon to the Assembly in the context of the performance report for the support account for peacekeeping operations for the period from 1 July 2006 to 30 June 2007;</p><p>(h) To authorize the Secretary-General to charge an amount not exceeding $17,416,950 to the individual peacekeeping missions for the period from 1 July 2006 to 30 June 2007, with reporting thereon to the Assembly in the context of the performance reports for the period from 1 July 2006 to 30 June 2007;</p><p>(i) To authorize the charging of an amount estimated at $2,527,350, relating to the conversion of MINURSO from non-family status to family status, to the MINURSO budget for the period from 1 July 2006 to 30 June 2007, with the expenditures to be reported in the context of the performance report for MINURSO for the period from 1 July 2006 to 30 June 2007;</p><p>(j) To note that in the connection with paragraphs (g) and (h) above, for the second part of 2007, these amounts would be considered in the context of budgets for the support account for peacekeeping operations and the individual peacekeeping missions for the period from 1 July 2007 to 30 June 2008.</p><h1>Annex I</h1><h1>Workforce data</h1><h1>Annex II</h1><h1>Proposed amendments to the Staff Regulations</h1><h1>Regulation 4.5</h1><p>(a) Appointment of Under-Secretaries-General and of Assistant Secretaries-General shall normally be for a period of up to five years, subject to prolongation or renewal. Other staff members shall be granted either permanent or temporary appointments of either unlimited or fixed duration under such terms and conditions consistent with the present Regulations as the Secretary-General may prescribe.</p><p>(b) The Secretary-General shall prescribe which staff members are eligible for each type of permanent appointments. The probationary period for granting or confirming a permanent appointment shall normally not exceed two years, provided that in individual cases the Secretary-General may extend the probationary period for not more than one additional year.</p><h1>Regulation 9.1</h1><p>(a) The Secretary-General may terminate the appointment of a staff member who holds a permanent appointment and whose probationary period has been completed if the necessities of service require abolition of the post or reduction of the staff, if the services of the individual concerned prove unsatisfactory or if he or she is, for reasons of health, incapacitated for further service.</p><p>The Secretary-General may also, giving the reasons therefor, terminate the appointment of a staff member who holds a permanent appointment:</p><p>(i) If the conduct of the staff member indicates that the staff member does not meet the highest standards of integrity required by Article 101, paragraph 3, of the Charter;</p><p>(ii) If facts anterior to the appointment of the staff member and relevant to his or her suitability come to light that, if they had been known at the time of his or her appointment, should, under the standards established by the Charter, have precluded his or her appointment.</p><p>No termination under subparagraphs (i) and (ii) shall take place until the matter has been considered and reported on by a special advisory board appointed for that purpose by the Secretary-General.</p><p>Finally, the Secretary-General may terminate the appointment of a staff member who holds a permanent appointment if such action would be in the interest of the good administration of the Organization and in accordance with the standards of the Charter, provided that the action is not contested by the staff member concerned.</p><p>(b) The Secretary-General may terminate the appointment of a staff member with a fixed-term appointment prior to the expiration date for any of the reasons specified in paragraph (a) above, or for such other reason as may be specified in the letter of appointment.</p><p>(c) In the case of all other staff members, including staff members serving on a continuing, temporary or probationary period for a permanent appointment, the Secretary-General may, at any time, terminate the appointment if, in his or her opinion, such action would be in the interest of the good administration of the Organization United Nations and in accordance with the Charter, or for any of the reasons specified in paragraph (a) above.</p><h1>Annex III</h1><h1>Termination indemnity</h1><p>Staff members whose appointments are terminated shall be paid an indemnity in accordance with the following provisions:</p><p>(a) Except as provided in paragraphs (b), (c) and (e) below and in regulation 9.3 (b), the termination indemnity shall be paid in accordance with the following schedule:</p><p>(b) A staff member whose appointment is terminated for reasons of health shall receive an indemnity equal to the indemnity provided under paragraph (a) of the present annex reduced by the amount of any disability benefit that the staff member may receive under the Regulations of the United Nations Joint Staff Pension Fund for the number of months to which the indemnity rate corresponds.</p><p>(c) A staff member whose appointment is terminated for unsatisfactory services or who for disciplinary reasons is dismissed for misconduct other than by summary dismissal may be paid, at the discretion of the Secretary-General an indemnity not exceeding one half of the indemnity provided under paragraph (a) of the present annex.</p><p>(d) No indemnity payments shall be made to:</p><p>(i) A staff member who resigns, except where termination notice has been given and the termination date agreed upon;</p><p>(ii) A staff member who has a probationary or indefinite appointment that is terminated during the first year of service;</p><p>(iii) A staff member who has a temporary appointment for a fixed term that is completed on the expiration date specified in the letter of appointment;</p><p>(iv) A staff member who is summarily dismissed;</p><p>(v) A staff member who abandons his or her post;</p><p>(vi) A staff member who is retired under the Regulations of the United Nations Joint Staff Pension Fund.</p><p>(e) Staff members specifically engaged for conference and other short-term service or for service with a mission, or as experts, and staff members who are locally recruited for service in established offices away from Headquarters may be paid termination indemnity if and as provided in their letters of appointment.</p><p>The Field Staff Union represents all international staff appointed under the 100 or 300 series of the Staff Rules who have been recruited specifically for service in peacekeeping and other field operations, and staff on temporary assignment to those missions.</p><p>Biennial report of the Secretary-General on human resources management reform.</p><p>\"Staff members are subject to the authority of the Secretary-General and to assignment by him or her to any of the activities or offices of the United Nations.\"</p><p>Official Records of the General Assembly, Sixtieth Session, Supplement No. 30 (A/60/30), annex IV.</p><p>As at 30 June 2006. This includes internationally and locally recruited staff. It excludes United Nations international and local staff administered by UNDP and UNOPS (approximately 1,500); staff in the Tribunals (approximately 2,200); staff on special leave without pay (144) and staff on secondment to other entities (74).</p><p>Official Records of the General Assembly, Sixtieth Session, Supplement No. 30 (A/60/30), paras. 161 and 162.</p><p>Official Records of the General Assembly, Fifty-eighth Session, Supplement No. 7 (A/58/7), para.</p><h1>Directors</h1><h1>Professionals</h1><h1>General Service and related</h1>"
       ],
       "metadata": {},
       "output_type": "pyout",
       "prompt_number": 32,
       "text": [
        "<IPython.core.display.HTML at 0x22d5fe48>"
       ]
      }
     ],
     "prompt_number": 32
    },
    {
     "cell_type": "code",
     "collapsed": true,
     "input": [
      "[doc for doc in docs if ['Introduction'] not in docs[doc]['content']]"
     ],
     "language": "python",
     "metadata": {},
     "outputs": []
    }
   ],
   "metadata": {}
  }
 ]
}