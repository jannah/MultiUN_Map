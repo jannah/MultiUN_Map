{
 "metadata": {
  "name": "",
  "signature": "sha256:9a6bb9a98620452ecbd09aeb28bdc053fa1b49470a12a008b623a8a82d61c30d"
 },
 "nbformat": 3,
 "nbformat_minor": 0,
 "worksheets": [
  {
   "cells": [
    {
     "cell_type": "code",
     "collapsed": false,
     "input": [
      "MODULES_PATH = '''..\\\\modules\\\\multi_un_module.py'''\n",
      "import imp\n",
      "NF = imp.load_source('multi_un_module', MODULES_PATH)\n",
      "import multi_un_module as mun"
     ],
     "language": "python",
     "metadata": {},
     "outputs": [],
     "prompt_number": 1
    },
    {
     "cell_type": "code",
     "collapsed": false,
     "input": [
      "docs = mun.load_xml_files_by_year(\"TOP_100\")"
     ],
     "language": "python",
     "metadata": {},
     "outputs": [
      {
       "javascript": [
        "//02732685-530f-4a50-a863-44ddb45a5b44\n",
        "$(\"head\").append(\"<style> td.pb_widget {     width: auto; } td.pb_widget_fill {     width: 100%; } table.pb {     font-family: monospace;     border: 0;     margin: 0; } table.pb tr { border: 0; } table.pb td {     white-space: nowrap;     border: 0; } div.pb {     border: 1px solid #ddd;     border-radius: 3px; } div.pb_bar {     height: 1.5em; } </style>\")"
       ],
       "metadata": {},
       "output_type": "display_data",
       "text": [
        "<IPython.core.display.Javascript at 0x22cfda90>"
       ]
      },
      {
       "javascript": [
        "\n",
        "                  // 02732685-530f-4a50-a863-44ddb45a5b44 -- used to remove this code blob in the end\n",
        "                  IPython.OutputArea.prototype.cleanProgressBar = function(uuids) {\n",
        "                      // filter by uuid-strings \n",
        "                      var myfilter = function(output) { \n",
        "                          var nuids = uuids.length;\n",
        "                          for (var i=0; i<nuids; i++) {\n",
        "                              if (output.hasOwnProperty('html')) {\n",
        "                                  if (output.html.indexOf(uuids[i]) != -1) {\n",
        "                                      return false;\n",
        "                                  }\n",
        "                              }\n",
        "                              if (output.hasOwnProperty('javascript')) {\n",
        "                                  if (output.javascript.indexOf(uuids[i]) != -1) {\n",
        "                                      return false;\n",
        "                                  }\n",
        "                              }\n",
        "                          }\n",
        "                          // keep all others\n",
        "                          return true;\n",
        "                      };\n",
        "\n",
        "                      // Filter the ouputs\n",
        "                      this.outputs = this.outputs.filter(myfilter);\n",
        "                };\n",
        "                "
       ],
       "metadata": {},
       "output_type": "display_data",
       "text": [
        "<IPython.core.display.Javascript at 0x356bd68>"
       ]
      },
      {
       "html": [
        "<div class=\"pb\" id=\"02732685-530f-4a50-a863-44ddb45a5b44\"><table class=\"pb ui-widget\"><tr>\n",
        "<td class=\"pb_widget\">TOP_100</td>\n",
        "<td class=\"pb_widget\"><div id=\"24a77d32-bd1e-4348-bb17-5f8f400398e3\">0 of 98</div></td>\n",
        "<td class=\"pb_widget\"><div id=\"1376cca4-1872-4091-8a31-c944e6de24c3\">  0%</div></td>\n",
        "<td class=\"pb_widget_fill\">\n",
        "        <div class=\"pb_bar\" id=\"d55c3fbc-f17c-4fe5-920d-8754d2e89ee8\"></div>\n",
        "        <script type=\"text/javascript\">\n",
        "            $(\"div#d55c3fbc-f17c-4fe5-920d-8754d2e89ee8\").progressbar({value: 0, max: 98});\n",
        "        </script>\n",
        "        </td>\n",
        "<td class=\"pb_widget\"><div id=\"ff646143-9018-49ef-8b96-a033b93b4828\">ETA:  --:--:--</div></td>\n",
        "</tr></table><div>"
       ],
       "metadata": {},
       "output_type": "display_data",
       "text": [
        "<IPython.core.display.HTML at 0x22cfd898>"
       ]
      },
      {
       "javascript": [
        "$('div#24a77d32-bd1e-4348-bb17-5f8f400398e3').text('1 of 98');"
       ],
       "metadata": {},
       "output_type": "display_data",
       "text": [
        "<IPython.core.display.Javascript at 0x22cfd7f0>"
       ]
      },
      {
       "javascript": [
        "$('div#1376cca4-1872-4091-8a31-c944e6de24c3').text('  1%');"
       ],
       "metadata": {},
       "output_type": "display_data",
       "text": [
        "<IPython.core.display.Javascript at 0x22cfd7f0>"
       ]
      },
      {
       "javascript": [
        "\n",
        "        var $myPB = $(\"div#d55c3fbc-f17c-4fe5-920d-8754d2e89ee8\")\n",
        "        if ($myPB.hasClass('ui-progressbar')) {\n",
        "            $myPB.progressbar('value', 1);\n",
        "        } else {\n",
        "            $myPB.progressbar({value: 0, max: 98});\n",
        "        }\n",
        "        "
       ],
       "metadata": {},
       "output_type": "display_data",
       "text": [
        "<IPython.core.display.Javascript at 0x17869588>"
       ]
      },
      {
       "javascript": [
        "$('div#ff646143-9018-49ef-8b96-a033b93b4828').text('ETA:  0:00:01');"
       ],
       "metadata": {},
       "output_type": "display_data",
       "text": [
        "<IPython.core.display.Javascript at 0x17869710>"
       ]
      },
      {
       "javascript": [
        "$('div#24a77d32-bd1e-4348-bb17-5f8f400398e3').text('2 of 98');"
       ],
       "metadata": {},
       "output_type": "display_data",
       "text": [
        "<IPython.core.display.Javascript at 0x22505208>"
       ]
      },
      {
       "javascript": [
        "$('div#1376cca4-1872-4091-8a31-c944e6de24c3').text('  2%');"
       ],
       "metadata": {},
       "output_type": "display_data",
       "text": [
        "<IPython.core.display.Javascript at 0x225056d8>"
       ]
      },
      {
       "javascript": [
        "\n",
        "        var $myPB = $(\"div#d55c3fbc-f17c-4fe5-920d-8754d2e89ee8\")\n",
        "        if ($myPB.hasClass('ui-progressbar')) {\n",
        "            $myPB.progressbar('value', 2);\n",
        "        } else {\n",
        "            $myPB.progressbar({value: 0, max: 98});\n",
        "        }\n",
        "        "
       ],
       "metadata": {},
       "output_type": "display_data",
       "text": [
        "<IPython.core.display.Javascript at 0x225056d8>"
       ]
      },
      {
       "javascript": [
        "$('div#ff646143-9018-49ef-8b96-a033b93b4828').text('ETA:  0:00:02');"
       ],
       "metadata": {},
       "output_type": "display_data",
       "text": [
        "<IPython.core.display.Javascript at 0x22505240>"
       ]
      },
      {
       "javascript": [
        "$('div#24a77d32-bd1e-4348-bb17-5f8f400398e3').text('3 of 98');"
       ],
       "metadata": {},
       "output_type": "display_data",
       "text": [
        "<IPython.core.display.Javascript at 0x22a09a90>"
       ]
      },
      {
       "javascript": [
        "$('div#1376cca4-1872-4091-8a31-c944e6de24c3').text('  3%');"
       ],
       "metadata": {},
       "output_type": "display_data",
       "text": [
        "<IPython.core.display.Javascript at 0x22a092b0>"
       ]
      },
      {
       "javascript": [
        "\n",
        "        var $myPB = $(\"div#d55c3fbc-f17c-4fe5-920d-8754d2e89ee8\")\n",
        "        if ($myPB.hasClass('ui-progressbar')) {\n",
        "            $myPB.progressbar('value', 3);\n",
        "        } else {\n",
        "            $myPB.progressbar({value: 0, max: 98});\n",
        "        }\n",
        "        "
       ],
       "metadata": {},
       "output_type": "display_data",
       "text": [
        "<IPython.core.display.Javascript at 0x22a092b0>"
       ]
      },
      {
       "javascript": [
        "$('div#ff646143-9018-49ef-8b96-a033b93b4828').text('ETA:  0:00:01');"
       ],
       "metadata": {},
       "output_type": "display_data",
       "text": [
        "<IPython.core.display.Javascript at 0x22a093c8>"
       ]
      },
      {
       "javascript": [
        "$('div#24a77d32-bd1e-4348-bb17-5f8f400398e3').text('4 of 98');"
       ],
       "metadata": {},
       "output_type": "display_data",
       "text": [
        "<IPython.core.display.Javascript at 0x1b0f8550>"
       ]
      },
      {
       "javascript": [
        "$('div#1376cca4-1872-4091-8a31-c944e6de24c3').text('  4%');"
       ],
       "metadata": {},
       "output_type": "display_data",
       "text": [
        "<IPython.core.display.Javascript at 0x1b0f80f0>"
       ]
      },
      {
       "javascript": [
        "\n",
        "        var $myPB = $(\"div#d55c3fbc-f17c-4fe5-920d-8754d2e89ee8\")\n",
        "        if ($myPB.hasClass('ui-progressbar')) {\n",
        "            $myPB.progressbar('value', 4);\n",
        "        } else {\n",
        "            $myPB.progressbar({value: 0, max: 98});\n",
        "        }\n",
        "        "
       ],
       "metadata": {},
       "output_type": "display_data",
       "text": [
        "<IPython.core.display.Javascript at 0x1b0f8128>"
       ]
      },
      {
       "javascript": [
        "$('div#ff646143-9018-49ef-8b96-a033b93b4828').text('ETA:  0:00:04');"
       ],
       "metadata": {},
       "output_type": "display_data",
       "text": [
        "<IPython.core.display.Javascript at 0x1b0f8b70>"
       ]
      },
      {
       "javascript": [
        "$('div#24a77d32-bd1e-4348-bb17-5f8f400398e3').text('5 of 98');"
       ],
       "metadata": {},
       "output_type": "display_data",
       "text": [
        "<IPython.core.display.Javascript at 0x1b0f88d0>"
       ]
      },
      {
       "javascript": [
        "$('div#1376cca4-1872-4091-8a31-c944e6de24c3').text('  5%');"
       ],
       "metadata": {},
       "output_type": "display_data",
       "text": [
        "<IPython.core.display.Javascript at 0x1b0f80b8>"
       ]
      },
      {
       "javascript": [
        "\n",
        "        var $myPB = $(\"div#d55c3fbc-f17c-4fe5-920d-8754d2e89ee8\")\n",
        "        if ($myPB.hasClass('ui-progressbar')) {\n",
        "            $myPB.progressbar('value', 5);\n",
        "        } else {\n",
        "            $myPB.progressbar({value: 0, max: 98});\n",
        "        }\n",
        "        "
       ],
       "metadata": {},
       "output_type": "display_data",
       "text": [
        "<IPython.core.display.Javascript at 0x1b0f8828>"
       ]
      },
      {
       "javascript": [
        "$('div#ff646143-9018-49ef-8b96-a033b93b4828').text('ETA:  0:00:04');"
       ],
       "metadata": {},
       "output_type": "display_data",
       "text": [
        "<IPython.core.display.Javascript at 0x1b0f8828>"
       ]
      },
      {
       "javascript": [
        "$('div#24a77d32-bd1e-4348-bb17-5f8f400398e3').text('6 of 98');"
       ],
       "metadata": {},
       "output_type": "display_data",
       "text": [
        "<IPython.core.display.Javascript at 0x2024bcc0>"
       ]
      },
      {
       "javascript": [
        "$('div#1376cca4-1872-4091-8a31-c944e6de24c3').text('  6%');"
       ],
       "metadata": {},
       "output_type": "display_data",
       "text": [
        "<IPython.core.display.Javascript at 0x2024b2e8>"
       ]
      },
      {
       "javascript": [
        "\n",
        "        var $myPB = $(\"div#d55c3fbc-f17c-4fe5-920d-8754d2e89ee8\")\n",
        "        if ($myPB.hasClass('ui-progressbar')) {\n",
        "            $myPB.progressbar('value', 6);\n",
        "        } else {\n",
        "            $myPB.progressbar({value: 0, max: 98});\n",
        "        }\n",
        "        "
       ],
       "metadata": {},
       "output_type": "display_data",
       "text": [
        "<IPython.core.display.Javascript at 0x2024b550>"
       ]
      },
      {
       "javascript": [
        "$('div#ff646143-9018-49ef-8b96-a033b93b4828').text('ETA:  0:00:04');"
       ],
       "metadata": {},
       "output_type": "display_data",
       "text": [
        "<IPython.core.display.Javascript at 0x2024ba58>"
       ]
      },
      {
       "javascript": [
        "$('div#24a77d32-bd1e-4348-bb17-5f8f400398e3').text('7 of 98');"
       ],
       "metadata": {},
       "output_type": "display_data",
       "text": [
        "<IPython.core.display.Javascript at 0x23e6f470>"
       ]
      },
      {
       "javascript": [
        "$('div#1376cca4-1872-4091-8a31-c944e6de24c3').text('  7%');"
       ],
       "metadata": {},
       "output_type": "display_data",
       "text": [
        "<IPython.core.display.Javascript at 0x23e6f470>"
       ]
      },
      {
       "javascript": [
        "\n",
        "        var $myPB = $(\"div#d55c3fbc-f17c-4fe5-920d-8754d2e89ee8\")\n",
        "        if ($myPB.hasClass('ui-progressbar')) {\n",
        "            $myPB.progressbar('value', 7);\n",
        "        } else {\n",
        "            $myPB.progressbar({value: 0, max: 98});\n",
        "        }\n",
        "        "
       ],
       "metadata": {},
       "output_type": "display_data",
       "text": [
        "<IPython.core.display.Javascript at 0x23e6f630>"
       ]
      },
      {
       "javascript": [
        "$('div#ff646143-9018-49ef-8b96-a033b93b4828').text('ETA:  0:00:06');"
       ],
       "metadata": {},
       "output_type": "display_data",
       "text": [
        "<IPython.core.display.Javascript at 0x23e6f4a8>"
       ]
      },
      {
       "javascript": [
        "$('div#24a77d32-bd1e-4348-bb17-5f8f400398e3').text('8 of 98');"
       ],
       "metadata": {},
       "output_type": "display_data",
       "text": [
        "<IPython.core.display.Javascript at 0x23e6fe80>"
       ]
      },
      {
       "javascript": [
        "$('div#1376cca4-1872-4091-8a31-c944e6de24c3').text('  8%');"
       ],
       "metadata": {},
       "output_type": "display_data",
       "text": [
        "<IPython.core.display.Javascript at 0x23e6fe80>"
       ]
      },
      {
       "javascript": [
        "\n",
        "        var $myPB = $(\"div#d55c3fbc-f17c-4fe5-920d-8754d2e89ee8\")\n",
        "        if ($myPB.hasClass('ui-progressbar')) {\n",
        "            $myPB.progressbar('value', 8);\n",
        "        } else {\n",
        "            $myPB.progressbar({value: 0, max: 98});\n",
        "        }\n",
        "        "
       ],
       "metadata": {},
       "output_type": "display_data",
       "text": [
        "<IPython.core.display.Javascript at 0x23e6f588>"
       ]
      },
      {
       "javascript": [
        "$('div#ff646143-9018-49ef-8b96-a033b93b4828').text('ETA:  0:00:05');"
       ],
       "metadata": {},
       "output_type": "display_data",
       "text": [
        "<IPython.core.display.Javascript at 0x23e6f128>"
       ]
      },
      {
       "javascript": [
        "$('div#24a77d32-bd1e-4348-bb17-5f8f400398e3').text('9 of 98');"
       ],
       "metadata": {},
       "output_type": "display_data",
       "text": [
        "<IPython.core.display.Javascript at 0x23e6fef0>"
       ]
      },
      {
       "javascript": [
        "$('div#1376cca4-1872-4091-8a31-c944e6de24c3').text('  9%');"
       ],
       "metadata": {},
       "output_type": "display_data",
       "text": [
        "<IPython.core.display.Javascript at 0x23e6feb8>"
       ]
      },
      {
       "javascript": [
        "\n",
        "        var $myPB = $(\"div#d55c3fbc-f17c-4fe5-920d-8754d2e89ee8\")\n",
        "        if ($myPB.hasClass('ui-progressbar')) {\n",
        "            $myPB.progressbar('value', 9);\n",
        "        } else {\n",
        "            $myPB.progressbar({value: 0, max: 98});\n",
        "        }\n",
        "        "
       ],
       "metadata": {},
       "output_type": "display_data",
       "text": [
        "<IPython.core.display.Javascript at 0x23e6fb38>"
       ]
      },
      {
       "javascript": [
        "$('div#ff646143-9018-49ef-8b96-a033b93b4828').text('ETA:  0:00:05');"
       ],
       "metadata": {},
       "output_type": "display_data",
       "text": [
        "<IPython.core.display.Javascript at 0x23e6fa20>"
       ]
      },
      {
       "javascript": [
        "$('div#24a77d32-bd1e-4348-bb17-5f8f400398e3').text('10 of 98');"
       ],
       "metadata": {},
       "output_type": "display_data",
       "text": [
        "<IPython.core.display.Javascript at 0x21852898>"
       ]
      },
      {
       "javascript": [
        "$('div#1376cca4-1872-4091-8a31-c944e6de24c3').text(' 10%');"
       ],
       "metadata": {},
       "output_type": "display_data",
       "text": [
        "<IPython.core.display.Javascript at 0x21852278>"
       ]
      },
      {
       "javascript": [
        "\n",
        "        var $myPB = $(\"div#d55c3fbc-f17c-4fe5-920d-8754d2e89ee8\")\n",
        "        if ($myPB.hasClass('ui-progressbar')) {\n",
        "            $myPB.progressbar('value', 10);\n",
        "        } else {\n",
        "            $myPB.progressbar({value: 0, max: 98});\n",
        "        }\n",
        "        "
       ],
       "metadata": {},
       "output_type": "display_data",
       "text": [
        "<IPython.core.display.Javascript at 0x218521d0>"
       ]
      },
      {
       "javascript": [
        "$('div#ff646143-9018-49ef-8b96-a033b93b4828').text('ETA:  0:00:04');"
       ],
       "metadata": {},
       "output_type": "display_data",
       "text": [
        "<IPython.core.display.Javascript at 0x218521d0>"
       ]
      },
      {
       "javascript": [
        "$('div#24a77d32-bd1e-4348-bb17-5f8f400398e3').text('11 of 98');"
       ],
       "metadata": {},
       "output_type": "display_data",
       "text": [
        "<IPython.core.display.Javascript at 0x18f539b0>"
       ]
      },
      {
       "javascript": [
        "$('div#1376cca4-1872-4091-8a31-c944e6de24c3').text(' 11%');"
       ],
       "metadata": {},
       "output_type": "display_data",
       "text": [
        "<IPython.core.display.Javascript at 0x18f53710>"
       ]
      },
      {
       "javascript": [
        "\n",
        "        var $myPB = $(\"div#d55c3fbc-f17c-4fe5-920d-8754d2e89ee8\")\n",
        "        if ($myPB.hasClass('ui-progressbar')) {\n",
        "            $myPB.progressbar('value', 11);\n",
        "        } else {\n",
        "            $myPB.progressbar({value: 0, max: 98});\n",
        "        }\n",
        "        "
       ],
       "metadata": {},
       "output_type": "display_data",
       "text": [
        "<IPython.core.display.Javascript at 0x18f53c18>"
       ]
      },
      {
       "javascript": [
        "$('div#ff646143-9018-49ef-8b96-a033b93b4828').text('ETA:  0:00:04');"
       ],
       "metadata": {},
       "output_type": "display_data",
       "text": [
        "<IPython.core.display.Javascript at 0x18f53ba8>"
       ]
      },
      {
       "javascript": [
        "$('div#24a77d32-bd1e-4348-bb17-5f8f400398e3').text('12 of 98');"
       ],
       "metadata": {},
       "output_type": "display_data",
       "text": [
        "<IPython.core.display.Javascript at 0x20827a58>"
       ]
      },
      {
       "javascript": [
        "$('div#1376cca4-1872-4091-8a31-c944e6de24c3').text(' 12%');"
       ],
       "metadata": {},
       "output_type": "display_data",
       "text": [
        "<IPython.core.display.Javascript at 0x20827a58>"
       ]
      },
      {
       "javascript": [
        "\n",
        "        var $myPB = $(\"div#d55c3fbc-f17c-4fe5-920d-8754d2e89ee8\")\n",
        "        if ($myPB.hasClass('ui-progressbar')) {\n",
        "            $myPB.progressbar('value', 12);\n",
        "        } else {\n",
        "            $myPB.progressbar({value: 0, max: 98});\n",
        "        }\n",
        "        "
       ],
       "metadata": {},
       "output_type": "display_data",
       "text": [
        "<IPython.core.display.Javascript at 0x20827f28>"
       ]
      },
      {
       "javascript": [
        "$('div#ff646143-9018-49ef-8b96-a033b93b4828').text('ETA:  0:00:04');"
       ],
       "metadata": {},
       "output_type": "display_data",
       "text": [
        "<IPython.core.display.Javascript at 0x20827898>"
       ]
      },
      {
       "javascript": [
        "$('div#24a77d32-bd1e-4348-bb17-5f8f400398e3').text('13 of 98');"
       ],
       "metadata": {},
       "output_type": "display_data",
       "text": [
        "<IPython.core.display.Javascript at 0x208272e8>"
       ]
      },
      {
       "javascript": [
        "$('div#1376cca4-1872-4091-8a31-c944e6de24c3').text(' 13%');"
       ],
       "metadata": {},
       "output_type": "display_data",
       "text": [
        "<IPython.core.display.Javascript at 0x20827a90>"
       ]
      },
      {
       "javascript": [
        "\n",
        "        var $myPB = $(\"div#d55c3fbc-f17c-4fe5-920d-8754d2e89ee8\")\n",
        "        if ($myPB.hasClass('ui-progressbar')) {\n",
        "            $myPB.progressbar('value', 13);\n",
        "        } else {\n",
        "            $myPB.progressbar({value: 0, max: 98});\n",
        "        }\n",
        "        "
       ],
       "metadata": {},
       "output_type": "display_data",
       "text": [
        "<IPython.core.display.Javascript at 0x20827a90>"
       ]
      },
      {
       "javascript": [
        "$('div#ff646143-9018-49ef-8b96-a033b93b4828').text('ETA:  0:00:03');"
       ],
       "metadata": {},
       "output_type": "display_data",
       "text": [
        "<IPython.core.display.Javascript at 0x20827278>"
       ]
      },
      {
       "javascript": [
        "$('div#24a77d32-bd1e-4348-bb17-5f8f400398e3').text('14 of 98');"
       ],
       "metadata": {},
       "output_type": "display_data",
       "text": [
        "<IPython.core.display.Javascript at 0x20827780>"
       ]
      },
      {
       "javascript": [
        "$('div#1376cca4-1872-4091-8a31-c944e6de24c3').text(' 14%');"
       ],
       "metadata": {},
       "output_type": "display_data",
       "text": [
        "<IPython.core.display.Javascript at 0x20827860>"
       ]
      },
      {
       "javascript": [
        "\n",
        "        var $myPB = $(\"div#d55c3fbc-f17c-4fe5-920d-8754d2e89ee8\")\n",
        "        if ($myPB.hasClass('ui-progressbar')) {\n",
        "            $myPB.progressbar('value', 14);\n",
        "        } else {\n",
        "            $myPB.progressbar({value: 0, max: 98});\n",
        "        }\n",
        "        "
       ],
       "metadata": {},
       "output_type": "display_data",
       "text": [
        "<IPython.core.display.Javascript at 0x20827860>"
       ]
      },
      {
       "javascript": [
        "$('div#ff646143-9018-49ef-8b96-a033b93b4828').text('ETA:  0:00:03');"
       ],
       "metadata": {},
       "output_type": "display_data",
       "text": [
        "<IPython.core.display.Javascript at 0x20827080>"
       ]
      },
      {
       "javascript": [
        "$('div#24a77d32-bd1e-4348-bb17-5f8f400398e3').text('15 of 98');"
       ],
       "metadata": {},
       "output_type": "display_data",
       "text": [
        "<IPython.core.display.Javascript at 0x1ad8c550>"
       ]
      },
      {
       "javascript": [
        "$('div#1376cca4-1872-4091-8a31-c944e6de24c3').text(' 15%');"
       ],
       "metadata": {},
       "output_type": "display_data",
       "text": [
        "<IPython.core.display.Javascript at 0x1ad8cc18>"
       ]
      },
      {
       "javascript": [
        "\n",
        "        var $myPB = $(\"div#d55c3fbc-f17c-4fe5-920d-8754d2e89ee8\")\n",
        "        if ($myPB.hasClass('ui-progressbar')) {\n",
        "            $myPB.progressbar('value', 15);\n",
        "        } else {\n",
        "            $myPB.progressbar({value: 0, max: 98});\n",
        "        }\n",
        "        "
       ],
       "metadata": {},
       "output_type": "display_data",
       "text": [
        "<IPython.core.display.Javascript at 0x1ad8c4e0>"
       ]
      },
      {
       "javascript": [
        "$('div#ff646143-9018-49ef-8b96-a033b93b4828').text('ETA:  0:00:03');"
       ],
       "metadata": {},
       "output_type": "display_data",
       "text": [
        "<IPython.core.display.Javascript at 0x1ad8c4e0>"
       ]
      },
      {
       "javascript": [
        "$('div#24a77d32-bd1e-4348-bb17-5f8f400398e3').text('16 of 98');"
       ],
       "metadata": {},
       "output_type": "display_data",
       "text": [
        "<IPython.core.display.Javascript at 0x1fa2fac8>"
       ]
      },
      {
       "javascript": [
        "$('div#1376cca4-1872-4091-8a31-c944e6de24c3').text(' 16%');"
       ],
       "metadata": {},
       "output_type": "display_data",
       "text": [
        "<IPython.core.display.Javascript at 0x1fa2f7b8>"
       ]
      },
      {
       "javascript": [
        "\n",
        "        var $myPB = $(\"div#d55c3fbc-f17c-4fe5-920d-8754d2e89ee8\")\n",
        "        if ($myPB.hasClass('ui-progressbar')) {\n",
        "            $myPB.progressbar('value', 16);\n",
        "        } else {\n",
        "            $myPB.progressbar({value: 0, max: 98});\n",
        "        }\n",
        "        "
       ],
       "metadata": {},
       "output_type": "display_data",
       "text": [
        "<IPython.core.display.Javascript at 0x1fa2f7b8>"
       ]
      },
      {
       "javascript": [
        "$('div#ff646143-9018-49ef-8b96-a033b93b4828').text('ETA:  0:00:03');"
       ],
       "metadata": {},
       "output_type": "display_data",
       "text": [
        "<IPython.core.display.Javascript at 0x1fa2fe10>"
       ]
      },
      {
       "javascript": [
        "$('div#24a77d32-bd1e-4348-bb17-5f8f400398e3').text('17 of 98');"
       ],
       "metadata": {},
       "output_type": "display_data",
       "text": [
        "<IPython.core.display.Javascript at 0x21c27588>"
       ]
      },
      {
       "javascript": [
        "$('div#1376cca4-1872-4091-8a31-c944e6de24c3').text(' 17%');"
       ],
       "metadata": {},
       "output_type": "display_data",
       "text": [
        "<IPython.core.display.Javascript at 0x21c27320>"
       ]
      },
      {
       "javascript": [
        "\n",
        "        var $myPB = $(\"div#d55c3fbc-f17c-4fe5-920d-8754d2e89ee8\")\n",
        "        if ($myPB.hasClass('ui-progressbar')) {\n",
        "            $myPB.progressbar('value', 17);\n",
        "        } else {\n",
        "            $myPB.progressbar({value: 0, max: 98});\n",
        "        }\n",
        "        "
       ],
       "metadata": {},
       "output_type": "display_data",
       "text": [
        "<IPython.core.display.Javascript at 0x21c27320>"
       ]
      },
      {
       "javascript": [
        "$('div#ff646143-9018-49ef-8b96-a033b93b4828').text('ETA:  0:00:03');"
       ],
       "metadata": {},
       "output_type": "display_data",
       "text": [
        "<IPython.core.display.Javascript at 0x21c272b0>"
       ]
      },
      {
       "javascript": [
        "$('div#24a77d32-bd1e-4348-bb17-5f8f400398e3').text('18 of 98');"
       ],
       "metadata": {},
       "output_type": "display_data",
       "text": [
        "<IPython.core.display.Javascript at 0x21c270b8>"
       ]
      },
      {
       "javascript": [
        "$('div#1376cca4-1872-4091-8a31-c944e6de24c3').text(' 18%');"
       ],
       "metadata": {},
       "output_type": "display_data",
       "text": [
        "<IPython.core.display.Javascript at 0x21c27208>"
       ]
      },
      {
       "javascript": [
        "\n",
        "        var $myPB = $(\"div#d55c3fbc-f17c-4fe5-920d-8754d2e89ee8\")\n",
        "        if ($myPB.hasClass('ui-progressbar')) {\n",
        "            $myPB.progressbar('value', 18);\n",
        "        } else {\n",
        "            $myPB.progressbar({value: 0, max: 98});\n",
        "        }\n",
        "        "
       ],
       "metadata": {},
       "output_type": "display_data",
       "text": [
        "<IPython.core.display.Javascript at 0x21c27208>"
       ]
      },
      {
       "javascript": [
        "$('div#ff646143-9018-49ef-8b96-a033b93b4828').text('ETA:  0:00:03');"
       ],
       "metadata": {},
       "output_type": "display_data",
       "text": [
        "<IPython.core.display.Javascript at 0x21c27128>"
       ]
      },
      {
       "javascript": [
        "$('div#24a77d32-bd1e-4348-bb17-5f8f400398e3').text('19 of 98');"
       ],
       "metadata": {},
       "output_type": "display_data",
       "text": [
        "<IPython.core.display.Javascript at 0x1aabf588>"
       ]
      },
      {
       "javascript": [
        "$('div#1376cca4-1872-4091-8a31-c944e6de24c3').text(' 19%');"
       ],
       "metadata": {},
       "output_type": "display_data",
       "text": [
        "<IPython.core.display.Javascript at 0x1aabf588>"
       ]
      },
      {
       "javascript": [
        "\n",
        "        var $myPB = $(\"div#d55c3fbc-f17c-4fe5-920d-8754d2e89ee8\")\n",
        "        if ($myPB.hasClass('ui-progressbar')) {\n",
        "            $myPB.progressbar('value', 19);\n",
        "        } else {\n",
        "            $myPB.progressbar({value: 0, max: 98});\n",
        "        }\n",
        "        "
       ],
       "metadata": {},
       "output_type": "display_data",
       "text": [
        "<IPython.core.display.Javascript at 0x1aabf3c8>"
       ]
      },
      {
       "javascript": [
        "$('div#ff646143-9018-49ef-8b96-a033b93b4828').text('ETA:  0:00:03');"
       ],
       "metadata": {},
       "output_type": "display_data",
       "text": [
        "<IPython.core.display.Javascript at 0x1aabf7b8>"
       ]
      },
      {
       "javascript": [
        "$('div#24a77d32-bd1e-4348-bb17-5f8f400398e3').text('20 of 98');"
       ],
       "metadata": {},
       "output_type": "display_data",
       "text": [
        "<IPython.core.display.Javascript at 0x1aabf320>"
       ]
      },
      {
       "javascript": [
        "$('div#1376cca4-1872-4091-8a31-c944e6de24c3').text(' 20%');"
       ],
       "metadata": {},
       "output_type": "display_data",
       "text": [
        "<IPython.core.display.Javascript at 0x1aabf5f8>"
       ]
      },
      {
       "javascript": [
        "\n",
        "        var $myPB = $(\"div#d55c3fbc-f17c-4fe5-920d-8754d2e89ee8\")\n",
        "        if ($myPB.hasClass('ui-progressbar')) {\n",
        "            $myPB.progressbar('value', 20);\n",
        "        } else {\n",
        "            $myPB.progressbar({value: 0, max: 98});\n",
        "        }\n",
        "        "
       ],
       "metadata": {},
       "output_type": "display_data",
       "text": [
        "<IPython.core.display.Javascript at 0x1aabf438>"
       ]
      },
      {
       "javascript": [
        "$('div#ff646143-9018-49ef-8b96-a033b93b4828').text('ETA:  0:00:02');"
       ],
       "metadata": {},
       "output_type": "display_data",
       "text": [
        "<IPython.core.display.Javascript at 0x1aabf6d8>"
       ]
      },
      {
       "javascript": [
        "$('div#24a77d32-bd1e-4348-bb17-5f8f400398e3').text('21 of 98');"
       ],
       "metadata": {},
       "output_type": "display_data",
       "text": [
        "<IPython.core.display.Javascript at 0x23967400>"
       ]
      },
      {
       "javascript": [
        "$('div#1376cca4-1872-4091-8a31-c944e6de24c3').text(' 21%');"
       ],
       "metadata": {},
       "output_type": "display_data",
       "text": [
        "<IPython.core.display.Javascript at 0x239677b8>"
       ]
      },
      {
       "javascript": [
        "\n",
        "        var $myPB = $(\"div#d55c3fbc-f17c-4fe5-920d-8754d2e89ee8\")\n",
        "        if ($myPB.hasClass('ui-progressbar')) {\n",
        "            $myPB.progressbar('value', 21);\n",
        "        } else {\n",
        "            $myPB.progressbar({value: 0, max: 98});\n",
        "        }\n",
        "        "
       ],
       "metadata": {},
       "output_type": "display_data",
       "text": [
        "<IPython.core.display.Javascript at 0x239677b8>"
       ]
      },
      {
       "javascript": [
        "$('div#ff646143-9018-49ef-8b96-a033b93b4828').text('ETA:  0:00:02');"
       ],
       "metadata": {},
       "output_type": "display_data",
       "text": [
        "<IPython.core.display.Javascript at 0x239676d8>"
       ]
      },
      {
       "javascript": [
        "$('div#24a77d32-bd1e-4348-bb17-5f8f400398e3').text('22 of 98');"
       ],
       "metadata": {},
       "output_type": "display_data",
       "text": [
        "<IPython.core.display.Javascript at 0x23967668>"
       ]
      },
      {
       "javascript": [
        "$('div#1376cca4-1872-4091-8a31-c944e6de24c3').text(' 22%');"
       ],
       "metadata": {},
       "output_type": "display_data",
       "text": [
        "<IPython.core.display.Javascript at 0x239674e0>"
       ]
      },
      {
       "javascript": [
        "\n",
        "        var $myPB = $(\"div#d55c3fbc-f17c-4fe5-920d-8754d2e89ee8\")\n",
        "        if ($myPB.hasClass('ui-progressbar')) {\n",
        "            $myPB.progressbar('value', 22);\n",
        "        } else {\n",
        "            $myPB.progressbar({value: 0, max: 98});\n",
        "        }\n",
        "        "
       ],
       "metadata": {},
       "output_type": "display_data",
       "text": [
        "<IPython.core.display.Javascript at 0x23967b00>"
       ]
      },
      {
       "javascript": [
        "$('div#ff646143-9018-49ef-8b96-a033b93b4828').text('ETA:  0:00:02');"
       ],
       "metadata": {},
       "output_type": "display_data",
       "text": [
        "<IPython.core.display.Javascript at 0x23967b00>"
       ]
      },
      {
       "javascript": [
        "$('div#24a77d32-bd1e-4348-bb17-5f8f400398e3').text('23 of 98');"
       ],
       "metadata": {},
       "output_type": "display_data",
       "text": [
        "<IPython.core.display.Javascript at 0x20bd3080>"
       ]
      },
      {
       "javascript": [
        "$('div#1376cca4-1872-4091-8a31-c944e6de24c3').text(' 23%');"
       ],
       "metadata": {},
       "output_type": "display_data",
       "text": [
        "<IPython.core.display.Javascript at 0x20bd3b38>"
       ]
      },
      {
       "javascript": [
        "\n",
        "        var $myPB = $(\"div#d55c3fbc-f17c-4fe5-920d-8754d2e89ee8\")\n",
        "        if ($myPB.hasClass('ui-progressbar')) {\n",
        "            $myPB.progressbar('value', 23);\n",
        "        } else {\n",
        "            $myPB.progressbar({value: 0, max: 98});\n",
        "        }\n",
        "        "
       ],
       "metadata": {},
       "output_type": "display_data",
       "text": [
        "<IPython.core.display.Javascript at 0x20bd3b38>"
       ]
      },
      {
       "javascript": [
        "$('div#ff646143-9018-49ef-8b96-a033b93b4828').text('ETA:  0:00:02');"
       ],
       "metadata": {},
       "output_type": "display_data",
       "text": [
        "<IPython.core.display.Javascript at 0x20bd3f28>"
       ]
      },
      {
       "javascript": [
        "$('div#24a77d32-bd1e-4348-bb17-5f8f400398e3').text('24 of 98');"
       ],
       "metadata": {},
       "output_type": "display_data",
       "text": [
        "<IPython.core.display.Javascript at 0x1f853940>"
       ]
      },
      {
       "javascript": [
        "$('div#1376cca4-1872-4091-8a31-c944e6de24c3').text(' 24%');"
       ],
       "metadata": {},
       "output_type": "display_data",
       "text": [
        "<IPython.core.display.Javascript at 0x1f853eb8>"
       ]
      },
      {
       "javascript": [
        "\n",
        "        var $myPB = $(\"div#d55c3fbc-f17c-4fe5-920d-8754d2e89ee8\")\n",
        "        if ($myPB.hasClass('ui-progressbar')) {\n",
        "            $myPB.progressbar('value', 24);\n",
        "        } else {\n",
        "            $myPB.progressbar({value: 0, max: 98});\n",
        "        }\n",
        "        "
       ],
       "metadata": {},
       "output_type": "display_data",
       "text": [
        "<IPython.core.display.Javascript at 0x1f853240>"
       ]
      },
      {
       "javascript": [
        "$('div#ff646143-9018-49ef-8b96-a033b93b4828').text('ETA:  0:00:02');"
       ],
       "metadata": {},
       "output_type": "display_data",
       "text": [
        "<IPython.core.display.Javascript at 0x1f853da0>"
       ]
      },
      {
       "javascript": [
        "$('div#24a77d32-bd1e-4348-bb17-5f8f400398e3').text('25 of 98');"
       ],
       "metadata": {},
       "output_type": "display_data",
       "text": [
        "<IPython.core.display.Javascript at 0x22967d30>"
       ]
      },
      {
       "javascript": [
        "$('div#1376cca4-1872-4091-8a31-c944e6de24c3').text(' 25%');"
       ],
       "metadata": {},
       "output_type": "display_data",
       "text": [
        "<IPython.core.display.Javascript at 0x22967828>"
       ]
      },
      {
       "javascript": [
        "\n",
        "        var $myPB = $(\"div#d55c3fbc-f17c-4fe5-920d-8754d2e89ee8\")\n",
        "        if ($myPB.hasClass('ui-progressbar')) {\n",
        "            $myPB.progressbar('value', 25);\n",
        "        } else {\n",
        "            $myPB.progressbar({value: 0, max: 98});\n",
        "        }\n",
        "        "
       ],
       "metadata": {},
       "output_type": "display_data",
       "text": [
        "<IPython.core.display.Javascript at 0x22967748>"
       ]
      },
      {
       "javascript": [
        "$('div#ff646143-9018-49ef-8b96-a033b93b4828').text('ETA:  0:00:03');"
       ],
       "metadata": {},
       "output_type": "display_data",
       "text": [
        "<IPython.core.display.Javascript at 0x22967eb8>"
       ]
      },
      {
       "javascript": [
        "$('div#24a77d32-bd1e-4348-bb17-5f8f400398e3').text('26 of 98');"
       ],
       "metadata": {},
       "output_type": "display_data",
       "text": [
        "<IPython.core.display.Javascript at 0x229670f0>"
       ]
      },
      {
       "javascript": [
        "$('div#1376cca4-1872-4091-8a31-c944e6de24c3').text(' 26%');"
       ],
       "metadata": {},
       "output_type": "display_data",
       "text": [
        "<IPython.core.display.Javascript at 0x22967940>"
       ]
      },
      {
       "javascript": [
        "\n",
        "        var $myPB = $(\"div#d55c3fbc-f17c-4fe5-920d-8754d2e89ee8\")\n",
        "        if ($myPB.hasClass('ui-progressbar')) {\n",
        "            $myPB.progressbar('value', 26);\n",
        "        } else {\n",
        "            $myPB.progressbar({value: 0, max: 98});\n",
        "        }\n",
        "        "
       ],
       "metadata": {},
       "output_type": "display_data",
       "text": [
        "<IPython.core.display.Javascript at 0x229675f8>"
       ]
      },
      {
       "javascript": [
        "$('div#ff646143-9018-49ef-8b96-a033b93b4828').text('ETA:  0:00:03');"
       ],
       "metadata": {},
       "output_type": "display_data",
       "text": [
        "<IPython.core.display.Javascript at 0x22967128>"
       ]
      },
      {
       "javascript": [
        "$('div#24a77d32-bd1e-4348-bb17-5f8f400398e3').text('27 of 98');"
       ],
       "metadata": {},
       "output_type": "display_data",
       "text": [
        "<IPython.core.display.Javascript at 0x1fec49b0>"
       ]
      },
      {
       "javascript": [
        "$('div#1376cca4-1872-4091-8a31-c944e6de24c3').text(' 27%');"
       ],
       "metadata": {},
       "output_type": "display_data",
       "text": [
        "<IPython.core.display.Javascript at 0x1fec4278>"
       ]
      },
      {
       "javascript": [
        "\n",
        "        var $myPB = $(\"div#d55c3fbc-f17c-4fe5-920d-8754d2e89ee8\")\n",
        "        if ($myPB.hasClass('ui-progressbar')) {\n",
        "            $myPB.progressbar('value', 27);\n",
        "        } else {\n",
        "            $myPB.progressbar({value: 0, max: 98});\n",
        "        }\n",
        "        "
       ],
       "metadata": {},
       "output_type": "display_data",
       "text": [
        "<IPython.core.display.Javascript at 0x1fec4160>"
       ]
      },
      {
       "javascript": [
        "$('div#ff646143-9018-49ef-8b96-a033b93b4828').text('ETA:  0:00:03');"
       ],
       "metadata": {},
       "output_type": "display_data",
       "text": [
        "<IPython.core.display.Javascript at 0x1fec4160>"
       ]
      },
      {
       "javascript": [
        "$('div#24a77d32-bd1e-4348-bb17-5f8f400398e3').text('28 of 98');"
       ],
       "metadata": {},
       "output_type": "display_data",
       "text": [
        "<IPython.core.display.Javascript at 0x20e9e630>"
       ]
      },
      {
       "javascript": [
        "$('div#1376cca4-1872-4091-8a31-c944e6de24c3').text(' 28%');"
       ],
       "metadata": {},
       "output_type": "display_data",
       "text": [
        "<IPython.core.display.Javascript at 0x20e9e710>"
       ]
      },
      {
       "javascript": [
        "\n",
        "        var $myPB = $(\"div#d55c3fbc-f17c-4fe5-920d-8754d2e89ee8\")\n",
        "        if ($myPB.hasClass('ui-progressbar')) {\n",
        "            $myPB.progressbar('value', 28);\n",
        "        } else {\n",
        "            $myPB.progressbar({value: 0, max: 98});\n",
        "        }\n",
        "        "
       ],
       "metadata": {},
       "output_type": "display_data",
       "text": [
        "<IPython.core.display.Javascript at 0x20e9e5c0>"
       ]
      },
      {
       "javascript": [
        "$('div#ff646143-9018-49ef-8b96-a033b93b4828').text('ETA:  0:00:03');"
       ],
       "metadata": {},
       "output_type": "display_data",
       "text": [
        "<IPython.core.display.Javascript at 0x20e9e8d0>"
       ]
      },
      {
       "javascript": [
        "$('div#24a77d32-bd1e-4348-bb17-5f8f400398e3').text('29 of 98');"
       ],
       "metadata": {},
       "output_type": "display_data",
       "text": [
        "<IPython.core.display.Javascript at 0x20e9e4e0>"
       ]
      },
      {
       "javascript": [
        "$('div#1376cca4-1872-4091-8a31-c944e6de24c3').text(' 29%');"
       ],
       "metadata": {},
       "output_type": "display_data",
       "text": [
        "<IPython.core.display.Javascript at 0x20e9ec18>"
       ]
      },
      {
       "javascript": [
        "\n",
        "        var $myPB = $(\"div#d55c3fbc-f17c-4fe5-920d-8754d2e89ee8\")\n",
        "        if ($myPB.hasClass('ui-progressbar')) {\n",
        "            $myPB.progressbar('value', 29);\n",
        "        } else {\n",
        "            $myPB.progressbar({value: 0, max: 98});\n",
        "        }\n",
        "        "
       ],
       "metadata": {},
       "output_type": "display_data",
       "text": [
        "<IPython.core.display.Javascript at 0x20e9e9e8>"
       ]
      },
      {
       "javascript": [
        "$('div#ff646143-9018-49ef-8b96-a033b93b4828').text('ETA:  0:00:03');"
       ],
       "metadata": {},
       "output_type": "display_data",
       "text": [
        "<IPython.core.display.Javascript at 0x20e9e9e8>"
       ]
      },
      {
       "javascript": [
        "$('div#24a77d32-bd1e-4348-bb17-5f8f400398e3').text('30 of 98');"
       ],
       "metadata": {},
       "output_type": "display_data",
       "text": [
        "<IPython.core.display.Javascript at 0x22204470>"
       ]
      },
      {
       "javascript": [
        "$('div#1376cca4-1872-4091-8a31-c944e6de24c3').text(' 30%');"
       ],
       "metadata": {},
       "output_type": "display_data",
       "text": [
        "<IPython.core.display.Javascript at 0x22204fd0>"
       ]
      },
      {
       "javascript": [
        "\n",
        "        var $myPB = $(\"div#d55c3fbc-f17c-4fe5-920d-8754d2e89ee8\")\n",
        "        if ($myPB.hasClass('ui-progressbar')) {\n",
        "            $myPB.progressbar('value', 30);\n",
        "        } else {\n",
        "            $myPB.progressbar({value: 0, max: 98});\n",
        "        }\n",
        "        "
       ],
       "metadata": {},
       "output_type": "display_data",
       "text": [
        "<IPython.core.display.Javascript at 0x22204fd0>"
       ]
      },
      {
       "javascript": [
        "$('div#ff646143-9018-49ef-8b96-a033b93b4828').text('ETA:  0:00:03');"
       ],
       "metadata": {},
       "output_type": "display_data",
       "text": [
        "<IPython.core.display.Javascript at 0x22204400>"
       ]
      },
      {
       "javascript": [
        "$('div#24a77d32-bd1e-4348-bb17-5f8f400398e3').text('31 of 98');"
       ],
       "metadata": {},
       "output_type": "display_data",
       "text": [
        "<IPython.core.display.Javascript at 0x16bd4e80>"
       ]
      },
      {
       "javascript": [
        "$('div#1376cca4-1872-4091-8a31-c944e6de24c3').text(' 31%');"
       ],
       "metadata": {},
       "output_type": "display_data",
       "text": [
        "<IPython.core.display.Javascript at 0x16bd4208>"
       ]
      },
      {
       "javascript": [
        "\n",
        "        var $myPB = $(\"div#d55c3fbc-f17c-4fe5-920d-8754d2e89ee8\")\n",
        "        if ($myPB.hasClass('ui-progressbar')) {\n",
        "            $myPB.progressbar('value', 31);\n",
        "        } else {\n",
        "            $myPB.progressbar({value: 0, max: 98});\n",
        "        }\n",
        "        "
       ],
       "metadata": {},
       "output_type": "display_data",
       "text": [
        "<IPython.core.display.Javascript at 0x16bd4c18>"
       ]
      },
      {
       "javascript": [
        "$('div#ff646143-9018-49ef-8b96-a033b93b4828').text('ETA:  0:00:03');"
       ],
       "metadata": {},
       "output_type": "display_data",
       "text": [
        "<IPython.core.display.Javascript at 0x16bd4198>"
       ]
      },
      {
       "javascript": [
        "$('div#24a77d32-bd1e-4348-bb17-5f8f400398e3').text('32 of 98');"
       ],
       "metadata": {},
       "output_type": "display_data",
       "text": [
        "<IPython.core.display.Javascript at 0x20b36080>"
       ]
      },
      {
       "javascript": [
        "$('div#1376cca4-1872-4091-8a31-c944e6de24c3').text(' 32%');"
       ],
       "metadata": {},
       "output_type": "display_data",
       "text": [
        "<IPython.core.display.Javascript at 0x20b36828>"
       ]
      },
      {
       "javascript": [
        "\n",
        "        var $myPB = $(\"div#d55c3fbc-f17c-4fe5-920d-8754d2e89ee8\")\n",
        "        if ($myPB.hasClass('ui-progressbar')) {\n",
        "            $myPB.progressbar('value', 32);\n",
        "        } else {\n",
        "            $myPB.progressbar({value: 0, max: 98});\n",
        "        }\n",
        "        "
       ],
       "metadata": {},
       "output_type": "display_data",
       "text": [
        "<IPython.core.display.Javascript at 0x20b36828>"
       ]
      },
      {
       "javascript": [
        "$('div#ff646143-9018-49ef-8b96-a033b93b4828').text('ETA:  0:00:03');"
       ],
       "metadata": {},
       "output_type": "display_data",
       "text": [
        "<IPython.core.display.Javascript at 0x20b36f60>"
       ]
      },
      {
       "javascript": [
        "$('div#24a77d32-bd1e-4348-bb17-5f8f400398e3').text('33 of 98');"
       ],
       "metadata": {},
       "output_type": "display_data",
       "text": [
        "<IPython.core.display.Javascript at 0x20b36c18>"
       ]
      },
      {
       "javascript": [
        "$('div#1376cca4-1872-4091-8a31-c944e6de24c3').text(' 33%');"
       ],
       "metadata": {},
       "output_type": "display_data",
       "text": [
        "<IPython.core.display.Javascript at 0x20b36978>"
       ]
      },
      {
       "javascript": [
        "\n",
        "        var $myPB = $(\"div#d55c3fbc-f17c-4fe5-920d-8754d2e89ee8\")\n",
        "        if ($myPB.hasClass('ui-progressbar')) {\n",
        "            $myPB.progressbar('value', 33);\n",
        "        } else {\n",
        "            $myPB.progressbar({value: 0, max: 98});\n",
        "        }\n",
        "        "
       ],
       "metadata": {},
       "output_type": "display_data",
       "text": [
        "<IPython.core.display.Javascript at 0x20b36be0>"
       ]
      },
      {
       "javascript": [
        "$('div#ff646143-9018-49ef-8b96-a033b93b4828').text('ETA:  0:00:02');"
       ],
       "metadata": {},
       "output_type": "display_data",
       "text": [
        "<IPython.core.display.Javascript at 0x20b36be0>"
       ]
      },
      {
       "javascript": [
        "$('div#24a77d32-bd1e-4348-bb17-5f8f400398e3').text('34 of 98');"
       ],
       "metadata": {},
       "output_type": "display_data",
       "text": [
        "<IPython.core.display.Javascript at 0x231c7320>"
       ]
      },
      {
       "javascript": [
        "$('div#1376cca4-1872-4091-8a31-c944e6de24c3').text(' 34%');"
       ],
       "metadata": {},
       "output_type": "display_data",
       "text": [
        "<IPython.core.display.Javascript at 0x231c7a20>"
       ]
      },
      {
       "javascript": [
        "\n",
        "        var $myPB = $(\"div#d55c3fbc-f17c-4fe5-920d-8754d2e89ee8\")\n",
        "        if ($myPB.hasClass('ui-progressbar')) {\n",
        "            $myPB.progressbar('value', 34);\n",
        "        } else {\n",
        "            $myPB.progressbar({value: 0, max: 98});\n",
        "        }\n",
        "        "
       ],
       "metadata": {},
       "output_type": "display_data",
       "text": [
        "<IPython.core.display.Javascript at 0x231c7a20>"
       ]
      },
      {
       "javascript": [
        "$('div#ff646143-9018-49ef-8b96-a033b93b4828').text('ETA:  0:00:02');"
       ],
       "metadata": {},
       "output_type": "display_data",
       "text": [
        "<IPython.core.display.Javascript at 0x231c70b8>"
       ]
      },
      {
       "javascript": [
        "$('div#24a77d32-bd1e-4348-bb17-5f8f400398e3').text('35 of 98');"
       ],
       "metadata": {},
       "output_type": "display_data",
       "text": [
        "<IPython.core.display.Javascript at 0x231c7c88>"
       ]
      },
      {
       "javascript": [
        "$('div#1376cca4-1872-4091-8a31-c944e6de24c3').text(' 35%');"
       ],
       "metadata": {},
       "output_type": "display_data",
       "text": [
        "<IPython.core.display.Javascript at 0x231c76d8>"
       ]
      },
      {
       "javascript": [
        "\n",
        "        var $myPB = $(\"div#d55c3fbc-f17c-4fe5-920d-8754d2e89ee8\")\n",
        "        if ($myPB.hasClass('ui-progressbar')) {\n",
        "            $myPB.progressbar('value', 35);\n",
        "        } else {\n",
        "            $myPB.progressbar({value: 0, max: 98});\n",
        "        }\n",
        "        "
       ],
       "metadata": {},
       "output_type": "display_data",
       "text": [
        "<IPython.core.display.Javascript at 0x231c78d0>"
       ]
      },
      {
       "javascript": [
        "$('div#ff646143-9018-49ef-8b96-a033b93b4828').text('ETA:  0:00:02');"
       ],
       "metadata": {},
       "output_type": "display_data",
       "text": [
        "<IPython.core.display.Javascript at 0x231c7d68>"
       ]
      },
      {
       "javascript": [
        "$('div#24a77d32-bd1e-4348-bb17-5f8f400398e3').text('36 of 98');"
       ],
       "metadata": {},
       "output_type": "display_data",
       "text": [
        "<IPython.core.display.Javascript at 0x231c7390>"
       ]
      },
      {
       "javascript": [
        "$('div#1376cca4-1872-4091-8a31-c944e6de24c3').text(' 36%');"
       ],
       "metadata": {},
       "output_type": "display_data",
       "text": [
        "<IPython.core.display.Javascript at 0x231c72b0>"
       ]
      },
      {
       "javascript": [
        "\n",
        "        var $myPB = $(\"div#d55c3fbc-f17c-4fe5-920d-8754d2e89ee8\")\n",
        "        if ($myPB.hasClass('ui-progressbar')) {\n",
        "            $myPB.progressbar('value', 36);\n",
        "        } else {\n",
        "            $myPB.progressbar({value: 0, max: 98});\n",
        "        }\n",
        "        "
       ],
       "metadata": {},
       "output_type": "display_data",
       "text": [
        "<IPython.core.display.Javascript at 0x231c7128>"
       ]
      },
      {
       "javascript": [
        "$('div#ff646143-9018-49ef-8b96-a033b93b4828').text('ETA:  0:00:02');"
       ],
       "metadata": {},
       "output_type": "display_data",
       "text": [
        "<IPython.core.display.Javascript at 0x231c7d30>"
       ]
      },
      {
       "javascript": [
        "$('div#24a77d32-bd1e-4348-bb17-5f8f400398e3').text('37 of 98');"
       ],
       "metadata": {},
       "output_type": "display_data",
       "text": [
        "<IPython.core.display.Javascript at 0x23a23080>"
       ]
      },
      {
       "javascript": [
        "$('div#1376cca4-1872-4091-8a31-c944e6de24c3').text(' 37%');"
       ],
       "metadata": {},
       "output_type": "display_data",
       "text": [
        "<IPython.core.display.Javascript at 0x23a23cc0>"
       ]
      },
      {
       "javascript": [
        "\n",
        "        var $myPB = $(\"div#d55c3fbc-f17c-4fe5-920d-8754d2e89ee8\")\n",
        "        if ($myPB.hasClass('ui-progressbar')) {\n",
        "            $myPB.progressbar('value', 37);\n",
        "        } else {\n",
        "            $myPB.progressbar({value: 0, max: 98});\n",
        "        }\n",
        "        "
       ],
       "metadata": {},
       "output_type": "display_data",
       "text": [
        "<IPython.core.display.Javascript at 0x23a23f98>"
       ]
      },
      {
       "javascript": [
        "$('div#ff646143-9018-49ef-8b96-a033b93b4828').text('ETA:  0:00:02');"
       ],
       "metadata": {},
       "output_type": "display_data",
       "text": [
        "<IPython.core.display.Javascript at 0x23a23f98>"
       ]
      },
      {
       "javascript": [
        "$('div#24a77d32-bd1e-4348-bb17-5f8f400398e3').text('38 of 98');"
       ],
       "metadata": {},
       "output_type": "display_data",
       "text": [
        "<IPython.core.display.Javascript at 0x23a23f98>"
       ]
      },
      {
       "javascript": [
        "$('div#1376cca4-1872-4091-8a31-c944e6de24c3').text(' 38%');"
       ],
       "metadata": {},
       "output_type": "display_data",
       "text": [
        "<IPython.core.display.Javascript at 0x23a231d0>"
       ]
      },
      {
       "javascript": [
        "\n",
        "        var $myPB = $(\"div#d55c3fbc-f17c-4fe5-920d-8754d2e89ee8\")\n",
        "        if ($myPB.hasClass('ui-progressbar')) {\n",
        "            $myPB.progressbar('value', 38);\n",
        "        } else {\n",
        "            $myPB.progressbar({value: 0, max: 98});\n",
        "        }\n",
        "        "
       ],
       "metadata": {},
       "output_type": "display_data",
       "text": [
        "<IPython.core.display.Javascript at 0x23a235c0>"
       ]
      },
      {
       "javascript": [
        "$('div#ff646143-9018-49ef-8b96-a033b93b4828').text('ETA:  0:00:02');"
       ],
       "metadata": {},
       "output_type": "display_data",
       "text": [
        "<IPython.core.display.Javascript at 0x23a23fd0>"
       ]
      },
      {
       "javascript": [
        "$('div#24a77d32-bd1e-4348-bb17-5f8f400398e3').text('39 of 98');"
       ],
       "metadata": {},
       "output_type": "display_data",
       "text": [
        "<IPython.core.display.Javascript at 0x23a239b0>"
       ]
      },
      {
       "javascript": [
        "$('div#1376cca4-1872-4091-8a31-c944e6de24c3').text(' 39%');"
       ],
       "metadata": {},
       "output_type": "display_data",
       "text": [
        "<IPython.core.display.Javascript at 0x1981cf98>"
       ]
      },
      {
       "javascript": [
        "\n",
        "        var $myPB = $(\"div#d55c3fbc-f17c-4fe5-920d-8754d2e89ee8\")\n",
        "        if ($myPB.hasClass('ui-progressbar')) {\n",
        "            $myPB.progressbar('value', 39);\n",
        "        } else {\n",
        "            $myPB.progressbar({value: 0, max: 98});\n",
        "        }\n",
        "        "
       ],
       "metadata": {},
       "output_type": "display_data",
       "text": [
        "<IPython.core.display.Javascript at 0x1981c668>"
       ]
      },
      {
       "javascript": [
        "$('div#ff646143-9018-49ef-8b96-a033b93b4828').text('ETA:  0:00:02');"
       ],
       "metadata": {},
       "output_type": "display_data",
       "text": [
        "<IPython.core.display.Javascript at 0x1981c4e0>"
       ]
      },
      {
       "javascript": [
        "$('div#24a77d32-bd1e-4348-bb17-5f8f400398e3').text('40 of 98');"
       ],
       "metadata": {},
       "output_type": "display_data",
       "text": [
        "<IPython.core.display.Javascript at 0x1981c2e8>"
       ]
      },
      {
       "javascript": [
        "$('div#1376cca4-1872-4091-8a31-c944e6de24c3').text(' 40%');"
       ],
       "metadata": {},
       "output_type": "display_data",
       "text": [
        "<IPython.core.display.Javascript at 0x1981c748>"
       ]
      },
      {
       "javascript": [
        "\n",
        "        var $myPB = $(\"div#d55c3fbc-f17c-4fe5-920d-8754d2e89ee8\")\n",
        "        if ($myPB.hasClass('ui-progressbar')) {\n",
        "            $myPB.progressbar('value', 40);\n",
        "        } else {\n",
        "            $myPB.progressbar({value: 0, max: 98});\n",
        "        }\n",
        "        "
       ],
       "metadata": {},
       "output_type": "display_data",
       "text": [
        "<IPython.core.display.Javascript at 0x1981cac8>"
       ]
      },
      {
       "javascript": [
        "$('div#ff646143-9018-49ef-8b96-a033b93b4828').text('ETA:  0:00:02');"
       ],
       "metadata": {},
       "output_type": "display_data",
       "text": [
        "<IPython.core.display.Javascript at 0x1981c9b0>"
       ]
      },
      {
       "javascript": [
        "$('div#24a77d32-bd1e-4348-bb17-5f8f400398e3').text('41 of 98');"
       ],
       "metadata": {},
       "output_type": "display_data",
       "text": [
        "<IPython.core.display.Javascript at 0x1981c048>"
       ]
      },
      {
       "javascript": [
        "$('div#1376cca4-1872-4091-8a31-c944e6de24c3').text(' 41%');"
       ],
       "metadata": {},
       "output_type": "display_data",
       "text": [
        "<IPython.core.display.Javascript at 0x1be2a2b0>"
       ]
      },
      {
       "javascript": [
        "\n",
        "        var $myPB = $(\"div#d55c3fbc-f17c-4fe5-920d-8754d2e89ee8\")\n",
        "        if ($myPB.hasClass('ui-progressbar')) {\n",
        "            $myPB.progressbar('value', 41);\n",
        "        } else {\n",
        "            $myPB.progressbar({value: 0, max: 98});\n",
        "        }\n",
        "        "
       ],
       "metadata": {},
       "output_type": "display_data",
       "text": [
        "<IPython.core.display.Javascript at 0x1be2a5f8>"
       ]
      },
      {
       "javascript": [
        "$('div#ff646143-9018-49ef-8b96-a033b93b4828').text('ETA:  0:00:02');"
       ],
       "metadata": {},
       "output_type": "display_data",
       "text": [
        "<IPython.core.display.Javascript at 0x1be2aeb8>"
       ]
      },
      {
       "javascript": [
        "$('div#24a77d32-bd1e-4348-bb17-5f8f400398e3').text('42 of 98');"
       ],
       "metadata": {},
       "output_type": "display_data",
       "text": [
        "<IPython.core.display.Javascript at 0x1be2ab38>"
       ]
      },
      {
       "javascript": [
        "$('div#1376cca4-1872-4091-8a31-c944e6de24c3').text(' 42%');"
       ],
       "metadata": {},
       "output_type": "display_data",
       "text": [
        "<IPython.core.display.Javascript at 0x1be2ab70>"
       ]
      },
      {
       "javascript": [
        "\n",
        "        var $myPB = $(\"div#d55c3fbc-f17c-4fe5-920d-8754d2e89ee8\")\n",
        "        if ($myPB.hasClass('ui-progressbar')) {\n",
        "            $myPB.progressbar('value', 42);\n",
        "        } else {\n",
        "            $myPB.progressbar({value: 0, max: 98});\n",
        "        }\n",
        "        "
       ],
       "metadata": {},
       "output_type": "display_data",
       "text": [
        "<IPython.core.display.Javascript at 0x1be2a5f8>"
       ]
      },
      {
       "javascript": [
        "$('div#ff646143-9018-49ef-8b96-a033b93b4828').text('ETA:  0:00:02');"
       ],
       "metadata": {},
       "output_type": "display_data",
       "text": [
        "<IPython.core.display.Javascript at 0x1be2a5f8>"
       ]
      },
      {
       "javascript": [
        "$('div#24a77d32-bd1e-4348-bb17-5f8f400398e3').text('43 of 98');"
       ],
       "metadata": {},
       "output_type": "display_data",
       "text": [
        "<IPython.core.display.Javascript at 0x1be2a7f0>"
       ]
      },
      {
       "javascript": [
        "$('div#1376cca4-1872-4091-8a31-c944e6de24c3').text(' 43%');"
       ],
       "metadata": {},
       "output_type": "display_data",
       "text": [
        "<IPython.core.display.Javascript at 0x1be2a898>"
       ]
      },
      {
       "javascript": [
        "\n",
        "        var $myPB = $(\"div#d55c3fbc-f17c-4fe5-920d-8754d2e89ee8\")\n",
        "        if ($myPB.hasClass('ui-progressbar')) {\n",
        "            $myPB.progressbar('value', 43);\n",
        "        } else {\n",
        "            $myPB.progressbar({value: 0, max: 98});\n",
        "        }\n",
        "        "
       ],
       "metadata": {},
       "output_type": "display_data",
       "text": [
        "<IPython.core.display.Javascript at 0x1be2a828>"
       ]
      },
      {
       "javascript": [
        "$('div#ff646143-9018-49ef-8b96-a033b93b4828').text('ETA:  0:00:02');"
       ],
       "metadata": {},
       "output_type": "display_data",
       "text": [
        "<IPython.core.display.Javascript at 0x1be2a828>"
       ]
      },
      {
       "javascript": [
        "$('div#24a77d32-bd1e-4348-bb17-5f8f400398e3').text('44 of 98');"
       ],
       "metadata": {},
       "output_type": "display_data",
       "text": [
        "<IPython.core.display.Javascript at 0x1be2af98>"
       ]
      },
      {
       "javascript": [
        "$('div#1376cca4-1872-4091-8a31-c944e6de24c3').text(' 44%');"
       ],
       "metadata": {},
       "output_type": "display_data",
       "text": [
        "<IPython.core.display.Javascript at 0x1be2af28>"
       ]
      },
      {
       "javascript": [
        "\n",
        "        var $myPB = $(\"div#d55c3fbc-f17c-4fe5-920d-8754d2e89ee8\")\n",
        "        if ($myPB.hasClass('ui-progressbar')) {\n",
        "            $myPB.progressbar('value', 44);\n",
        "        } else {\n",
        "            $myPB.progressbar({value: 0, max: 98});\n",
        "        }\n",
        "        "
       ],
       "metadata": {},
       "output_type": "display_data",
       "text": [
        "<IPython.core.display.Javascript at 0x1be2a390>"
       ]
      },
      {
       "javascript": [
        "$('div#ff646143-9018-49ef-8b96-a033b93b4828').text('ETA:  0:00:02');"
       ],
       "metadata": {},
       "output_type": "display_data",
       "text": [
        "<IPython.core.display.Javascript at 0x1be2a390>"
       ]
      },
      {
       "javascript": [
        "$('div#24a77d32-bd1e-4348-bb17-5f8f400398e3').text('45 of 98');"
       ],
       "metadata": {},
       "output_type": "display_data",
       "text": [
        "<IPython.core.display.Javascript at 0x1be2a160>"
       ]
      },
      {
       "javascript": [
        "$('div#1376cca4-1872-4091-8a31-c944e6de24c3').text(' 45%');"
       ],
       "metadata": {},
       "output_type": "display_data",
       "text": [
        "<IPython.core.display.Javascript at 0x1be2a160>"
       ]
      },
      {
       "javascript": [
        "\n",
        "        var $myPB = $(\"div#d55c3fbc-f17c-4fe5-920d-8754d2e89ee8\")\n",
        "        if ($myPB.hasClass('ui-progressbar')) {\n",
        "            $myPB.progressbar('value', 45);\n",
        "        } else {\n",
        "            $myPB.progressbar({value: 0, max: 98});\n",
        "        }\n",
        "        "
       ],
       "metadata": {},
       "output_type": "display_data",
       "text": [
        "<IPython.core.display.Javascript at 0x1be2a588>"
       ]
      },
      {
       "javascript": [
        "$('div#ff646143-9018-49ef-8b96-a033b93b4828').text('ETA:  0:00:01');"
       ],
       "metadata": {},
       "output_type": "display_data",
       "text": [
        "<IPython.core.display.Javascript at 0x1be2ac88>"
       ]
      },
      {
       "javascript": [
        "$('div#24a77d32-bd1e-4348-bb17-5f8f400398e3').text('46 of 98');"
       ],
       "metadata": {},
       "output_type": "display_data",
       "text": [
        "<IPython.core.display.Javascript at 0x1be2a4e0>"
       ]
      },
      {
       "javascript": [
        "$('div#1376cca4-1872-4091-8a31-c944e6de24c3').text(' 46%');"
       ],
       "metadata": {},
       "output_type": "display_data",
       "text": [
        "<IPython.core.display.Javascript at 0x1be2a748>"
       ]
      },
      {
       "javascript": [
        "\n",
        "        var $myPB = $(\"div#d55c3fbc-f17c-4fe5-920d-8754d2e89ee8\")\n",
        "        if ($myPB.hasClass('ui-progressbar')) {\n",
        "            $myPB.progressbar('value', 46);\n",
        "        } else {\n",
        "            $myPB.progressbar({value: 0, max: 98});\n",
        "        }\n",
        "        "
       ],
       "metadata": {},
       "output_type": "display_data",
       "text": [
        "<IPython.core.display.Javascript at 0x1be2a358>"
       ]
      },
      {
       "javascript": [
        "$('div#ff646143-9018-49ef-8b96-a033b93b4828').text('ETA:  0:00:01');"
       ],
       "metadata": {},
       "output_type": "display_data",
       "text": [
        "<IPython.core.display.Javascript at 0x1be2ada0>"
       ]
      },
      {
       "javascript": [
        "$('div#24a77d32-bd1e-4348-bb17-5f8f400398e3').text('47 of 98');"
       ],
       "metadata": {},
       "output_type": "display_data",
       "text": [
        "<IPython.core.display.Javascript at 0x23a08c88>"
       ]
      },
      {
       "javascript": [
        "$('div#1376cca4-1872-4091-8a31-c944e6de24c3').text(' 47%');"
       ],
       "metadata": {},
       "output_type": "display_data",
       "text": [
        "<IPython.core.display.Javascript at 0x23a08c88>"
       ]
      },
      {
       "javascript": [
        "\n",
        "        var $myPB = $(\"div#d55c3fbc-f17c-4fe5-920d-8754d2e89ee8\")\n",
        "        if ($myPB.hasClass('ui-progressbar')) {\n",
        "            $myPB.progressbar('value', 47);\n",
        "        } else {\n",
        "            $myPB.progressbar({value: 0, max: 98});\n",
        "        }\n",
        "        "
       ],
       "metadata": {},
       "output_type": "display_data",
       "text": [
        "<IPython.core.display.Javascript at 0x23a087f0>"
       ]
      },
      {
       "javascript": [
        "$('div#ff646143-9018-49ef-8b96-a033b93b4828').text('ETA:  0:00:01');"
       ],
       "metadata": {},
       "output_type": "display_data",
       "text": [
        "<IPython.core.display.Javascript at 0x23a08668>"
       ]
      },
      {
       "javascript": [
        "$('div#24a77d32-bd1e-4348-bb17-5f8f400398e3').text('48 of 98');"
       ],
       "metadata": {},
       "output_type": "display_data",
       "text": [
        "<IPython.core.display.Javascript at 0x23a08710>"
       ]
      },
      {
       "javascript": [
        "$('div#1376cca4-1872-4091-8a31-c944e6de24c3').text(' 48%');"
       ],
       "metadata": {},
       "output_type": "display_data",
       "text": [
        "<IPython.core.display.Javascript at 0x23a08ba8>"
       ]
      },
      {
       "javascript": [
        "\n",
        "        var $myPB = $(\"div#d55c3fbc-f17c-4fe5-920d-8754d2e89ee8\")\n",
        "        if ($myPB.hasClass('ui-progressbar')) {\n",
        "            $myPB.progressbar('value', 48);\n",
        "        } else {\n",
        "            $myPB.progressbar({value: 0, max: 98});\n",
        "        }\n",
        "        "
       ],
       "metadata": {},
       "output_type": "display_data",
       "text": [
        "<IPython.core.display.Javascript at 0x23a08828>"
       ]
      },
      {
       "javascript": [
        "$('div#ff646143-9018-49ef-8b96-a033b93b4828').text('ETA:  0:00:01');"
       ],
       "metadata": {},
       "output_type": "display_data",
       "text": [
        "<IPython.core.display.Javascript at 0x23a086a0>"
       ]
      },
      {
       "javascript": [
        "$('div#24a77d32-bd1e-4348-bb17-5f8f400398e3').text('49 of 98');"
       ],
       "metadata": {},
       "output_type": "display_data",
       "text": [
        "<IPython.core.display.Javascript at 0x23a08d30>"
       ]
      },
      {
       "javascript": [
        "$('div#1376cca4-1872-4091-8a31-c944e6de24c3').text(' 50%');"
       ],
       "metadata": {},
       "output_type": "display_data",
       "text": [
        "<IPython.core.display.Javascript at 0x23a08518>"
       ]
      },
      {
       "javascript": [
        "\n",
        "        var $myPB = $(\"div#d55c3fbc-f17c-4fe5-920d-8754d2e89ee8\")\n",
        "        if ($myPB.hasClass('ui-progressbar')) {\n",
        "            $myPB.progressbar('value', 49);\n",
        "        } else {\n",
        "            $myPB.progressbar({value: 0, max: 98});\n",
        "        }\n",
        "        "
       ],
       "metadata": {},
       "output_type": "display_data",
       "text": [
        "<IPython.core.display.Javascript at 0x23a08518>"
       ]
      },
      {
       "javascript": [
        "$('div#ff646143-9018-49ef-8b96-a033b93b4828').text('ETA:  0:00:01');"
       ],
       "metadata": {},
       "output_type": "display_data",
       "text": [
        "<IPython.core.display.Javascript at 0x23a089b0>"
       ]
      },
      {
       "javascript": [
        "$('div#24a77d32-bd1e-4348-bb17-5f8f400398e3').text('50 of 98');"
       ],
       "metadata": {},
       "output_type": "display_data",
       "text": [
        "<IPython.core.display.Javascript at 0x21d56470>"
       ]
      },
      {
       "javascript": [
        "$('div#1376cca4-1872-4091-8a31-c944e6de24c3').text(' 51%');"
       ],
       "metadata": {},
       "output_type": "display_data",
       "text": [
        "<IPython.core.display.Javascript at 0x21d56da0>"
       ]
      },
      {
       "javascript": [
        "\n",
        "        var $myPB = $(\"div#d55c3fbc-f17c-4fe5-920d-8754d2e89ee8\")\n",
        "        if ($myPB.hasClass('ui-progressbar')) {\n",
        "            $myPB.progressbar('value', 50);\n",
        "        } else {\n",
        "            $myPB.progressbar({value: 0, max: 98});\n",
        "        }\n",
        "        "
       ],
       "metadata": {},
       "output_type": "display_data",
       "text": [
        "<IPython.core.display.Javascript at 0x21d56a20>"
       ]
      },
      {
       "javascript": [
        "$('div#ff646143-9018-49ef-8b96-a033b93b4828').text('ETA:  0:00:01');"
       ],
       "metadata": {},
       "output_type": "display_data",
       "text": [
        "<IPython.core.display.Javascript at 0x21d56a20>"
       ]
      },
      {
       "javascript": [
        "$('div#24a77d32-bd1e-4348-bb17-5f8f400398e3').text('51 of 98');"
       ],
       "metadata": {},
       "output_type": "display_data",
       "text": [
        "<IPython.core.display.Javascript at 0x1f927080>"
       ]
      },
      {
       "javascript": [
        "$('div#1376cca4-1872-4091-8a31-c944e6de24c3').text(' 52%');"
       ],
       "metadata": {},
       "output_type": "display_data",
       "text": [
        "<IPython.core.display.Javascript at 0x1f927080>"
       ]
      },
      {
       "javascript": [
        "\n",
        "        var $myPB = $(\"div#d55c3fbc-f17c-4fe5-920d-8754d2e89ee8\")\n",
        "        if ($myPB.hasClass('ui-progressbar')) {\n",
        "            $myPB.progressbar('value', 51);\n",
        "        } else {\n",
        "            $myPB.progressbar({value: 0, max: 98});\n",
        "        }\n",
        "        "
       ],
       "metadata": {},
       "output_type": "display_data",
       "text": [
        "<IPython.core.display.Javascript at 0x1f927ac8>"
       ]
      },
      {
       "javascript": [
        "$('div#ff646143-9018-49ef-8b96-a033b93b4828').text('ETA:  0:00:01');"
       ],
       "metadata": {},
       "output_type": "display_data",
       "text": [
        "<IPython.core.display.Javascript at 0x1f9279b0>"
       ]
      },
      {
       "javascript": [
        "$('div#24a77d32-bd1e-4348-bb17-5f8f400398e3').text('52 of 98');"
       ],
       "metadata": {},
       "output_type": "display_data",
       "text": [
        "<IPython.core.display.Javascript at 0x1f927e80>"
       ]
      },
      {
       "javascript": [
        "$('div#1376cca4-1872-4091-8a31-c944e6de24c3').text(' 53%');"
       ],
       "metadata": {},
       "output_type": "display_data",
       "text": [
        "<IPython.core.display.Javascript at 0x1f927b70>"
       ]
      },
      {
       "javascript": [
        "\n",
        "        var $myPB = $(\"div#d55c3fbc-f17c-4fe5-920d-8754d2e89ee8\")\n",
        "        if ($myPB.hasClass('ui-progressbar')) {\n",
        "            $myPB.progressbar('value', 52);\n",
        "        } else {\n",
        "            $myPB.progressbar({value: 0, max: 98});\n",
        "        }\n",
        "        "
       ],
       "metadata": {},
       "output_type": "display_data",
       "text": [
        "<IPython.core.display.Javascript at 0x1f927a20>"
       ]
      },
      {
       "javascript": [
        "$('div#ff646143-9018-49ef-8b96-a033b93b4828').text('ETA:  0:00:01');"
       ],
       "metadata": {},
       "output_type": "display_data",
       "text": [
        "<IPython.core.display.Javascript at 0x1f927a20>"
       ]
      },
      {
       "javascript": [
        "$('div#24a77d32-bd1e-4348-bb17-5f8f400398e3').text('53 of 98');"
       ],
       "metadata": {},
       "output_type": "display_data",
       "text": [
        "<IPython.core.display.Javascript at 0x1bfadf60>"
       ]
      },
      {
       "javascript": [
        "$('div#1376cca4-1872-4091-8a31-c944e6de24c3').text(' 54%');"
       ],
       "metadata": {},
       "output_type": "display_data",
       "text": [
        "<IPython.core.display.Javascript at 0x1bfadf60>"
       ]
      },
      {
       "javascript": [
        "\n",
        "        var $myPB = $(\"div#d55c3fbc-f17c-4fe5-920d-8754d2e89ee8\")\n",
        "        if ($myPB.hasClass('ui-progressbar')) {\n",
        "            $myPB.progressbar('value', 53);\n",
        "        } else {\n",
        "            $myPB.progressbar({value: 0, max: 98});\n",
        "        }\n",
        "        "
       ],
       "metadata": {},
       "output_type": "display_data",
       "text": [
        "<IPython.core.display.Javascript at 0x1bfad780>"
       ]
      },
      {
       "javascript": [
        "$('div#ff646143-9018-49ef-8b96-a033b93b4828').text('ETA:  0:00:01');"
       ],
       "metadata": {},
       "output_type": "display_data",
       "text": [
        "<IPython.core.display.Javascript at 0x1bfadb00>"
       ]
      },
      {
       "javascript": [
        "$('div#24a77d32-bd1e-4348-bb17-5f8f400398e3').text('54 of 98');"
       ],
       "metadata": {},
       "output_type": "display_data",
       "text": [
        "<IPython.core.display.Javascript at 0x242f57f0>"
       ]
      },
      {
       "javascript": [
        "$('div#1376cca4-1872-4091-8a31-c944e6de24c3').text(' 55%');"
       ],
       "metadata": {},
       "output_type": "display_data",
       "text": [
        "<IPython.core.display.Javascript at 0x242f5208>"
       ]
      },
      {
       "javascript": [
        "\n",
        "        var $myPB = $(\"div#d55c3fbc-f17c-4fe5-920d-8754d2e89ee8\")\n",
        "        if ($myPB.hasClass('ui-progressbar')) {\n",
        "            $myPB.progressbar('value', 54);\n",
        "        } else {\n",
        "            $myPB.progressbar({value: 0, max: 98});\n",
        "        }\n",
        "        "
       ],
       "metadata": {},
       "output_type": "display_data",
       "text": [
        "<IPython.core.display.Javascript at 0x242f51d0>"
       ]
      },
      {
       "javascript": [
        "$('div#ff646143-9018-49ef-8b96-a033b93b4828').text('ETA:  0:00:01');"
       ],
       "metadata": {},
       "output_type": "display_data",
       "text": [
        "<IPython.core.display.Javascript at 0x242f5b70>"
       ]
      },
      {
       "javascript": [
        "$('div#24a77d32-bd1e-4348-bb17-5f8f400398e3').text('55 of 98');"
       ],
       "metadata": {},
       "output_type": "display_data",
       "text": [
        "<IPython.core.display.Javascript at 0x18ad74a8>"
       ]
      },
      {
       "javascript": [
        "$('div#1376cca4-1872-4091-8a31-c944e6de24c3').text(' 56%');"
       ],
       "metadata": {},
       "output_type": "display_data",
       "text": [
        "<IPython.core.display.Javascript at 0x18ad74e0>"
       ]
      },
      {
       "javascript": [
        "\n",
        "        var $myPB = $(\"div#d55c3fbc-f17c-4fe5-920d-8754d2e89ee8\")\n",
        "        if ($myPB.hasClass('ui-progressbar')) {\n",
        "            $myPB.progressbar('value', 55);\n",
        "        } else {\n",
        "            $myPB.progressbar({value: 0, max: 98});\n",
        "        }\n",
        "        "
       ],
       "metadata": {},
       "output_type": "display_data",
       "text": [
        "<IPython.core.display.Javascript at 0x18ad7550>"
       ]
      },
      {
       "javascript": [
        "$('div#ff646143-9018-49ef-8b96-a033b93b4828').text('ETA:  0:00:01');"
       ],
       "metadata": {},
       "output_type": "display_data",
       "text": [
        "<IPython.core.display.Javascript at 0x18ad7518>"
       ]
      },
      {
       "javascript": [
        "$('div#24a77d32-bd1e-4348-bb17-5f8f400398e3').text('56 of 98');"
       ],
       "metadata": {},
       "output_type": "display_data",
       "text": [
        "<IPython.core.display.Javascript at 0x172b0b70>"
       ]
      },
      {
       "javascript": [
        "$('div#1376cca4-1872-4091-8a31-c944e6de24c3').text(' 57%');"
       ],
       "metadata": {},
       "output_type": "display_data",
       "text": [
        "<IPython.core.display.Javascript at 0x172b07f0>"
       ]
      },
      {
       "javascript": [
        "\n",
        "        var $myPB = $(\"div#d55c3fbc-f17c-4fe5-920d-8754d2e89ee8\")\n",
        "        if ($myPB.hasClass('ui-progressbar')) {\n",
        "            $myPB.progressbar('value', 56);\n",
        "        } else {\n",
        "            $myPB.progressbar({value: 0, max: 98});\n",
        "        }\n",
        "        "
       ],
       "metadata": {},
       "output_type": "display_data",
       "text": [
        "<IPython.core.display.Javascript at 0x172b09e8>"
       ]
      },
      {
       "javascript": [
        "$('div#ff646143-9018-49ef-8b96-a033b93b4828').text('ETA:  0:00:01');"
       ],
       "metadata": {},
       "output_type": "display_data",
       "text": [
        "<IPython.core.display.Javascript at 0x172b09e8>"
       ]
      },
      {
       "javascript": [
        "$('div#24a77d32-bd1e-4348-bb17-5f8f400398e3').text('57 of 98');"
       ],
       "metadata": {},
       "output_type": "display_data",
       "text": [
        "<IPython.core.display.Javascript at 0x172b0438>"
       ]
      },
      {
       "javascript": [
        "$('div#1376cca4-1872-4091-8a31-c944e6de24c3').text(' 58%');"
       ],
       "metadata": {},
       "output_type": "display_data",
       "text": [
        "<IPython.core.display.Javascript at 0x172b0470>"
       ]
      },
      {
       "javascript": [
        "\n",
        "        var $myPB = $(\"div#d55c3fbc-f17c-4fe5-920d-8754d2e89ee8\")\n",
        "        if ($myPB.hasClass('ui-progressbar')) {\n",
        "            $myPB.progressbar('value', 57);\n",
        "        } else {\n",
        "            $myPB.progressbar({value: 0, max: 98});\n",
        "        }\n",
        "        "
       ],
       "metadata": {},
       "output_type": "display_data",
       "text": [
        "<IPython.core.display.Javascript at 0x18f53320>"
       ]
      },
      {
       "javascript": [
        "$('div#ff646143-9018-49ef-8b96-a033b93b4828').text('ETA:  0:00:01');"
       ],
       "metadata": {},
       "output_type": "display_data",
       "text": [
        "<IPython.core.display.Javascript at 0x18f53400>"
       ]
      },
      {
       "javascript": [
        "$('div#24a77d32-bd1e-4348-bb17-5f8f400398e3').text('58 of 98');"
       ],
       "metadata": {},
       "output_type": "display_data",
       "text": [
        "<IPython.core.display.Javascript at 0x1b496438>"
       ]
      },
      {
       "javascript": [
        "$('div#1376cca4-1872-4091-8a31-c944e6de24c3').text(' 59%');"
       ],
       "metadata": {},
       "output_type": "display_data",
       "text": [
        "<IPython.core.display.Javascript at 0x1b4965c0>"
       ]
      },
      {
       "javascript": [
        "\n",
        "        var $myPB = $(\"div#d55c3fbc-f17c-4fe5-920d-8754d2e89ee8\")\n",
        "        if ($myPB.hasClass('ui-progressbar')) {\n",
        "            $myPB.progressbar('value', 58);\n",
        "        } else {\n",
        "            $myPB.progressbar({value: 0, max: 98});\n",
        "        }\n",
        "        "
       ],
       "metadata": {},
       "output_type": "display_data",
       "text": [
        "<IPython.core.display.Javascript at 0x1b496ba8>"
       ]
      },
      {
       "javascript": [
        "$('div#ff646143-9018-49ef-8b96-a033b93b4828').text('ETA:  0:00:01');"
       ],
       "metadata": {},
       "output_type": "display_data",
       "text": [
        "<IPython.core.display.Javascript at 0x1b496ba8>"
       ]
      },
      {
       "javascript": [
        "$('div#24a77d32-bd1e-4348-bb17-5f8f400398e3').text('59 of 98');"
       ],
       "metadata": {},
       "output_type": "display_data",
       "text": [
        "<IPython.core.display.Javascript at 0x1b496080>"
       ]
      },
      {
       "javascript": [
        "$('div#1376cca4-1872-4091-8a31-c944e6de24c3').text(' 60%');"
       ],
       "metadata": {},
       "output_type": "display_data",
       "text": [
        "<IPython.core.display.Javascript at 0x1b496128>"
       ]
      },
      {
       "javascript": [
        "\n",
        "        var $myPB = $(\"div#d55c3fbc-f17c-4fe5-920d-8754d2e89ee8\")\n",
        "        if ($myPB.hasClass('ui-progressbar')) {\n",
        "            $myPB.progressbar('value', 59);\n",
        "        } else {\n",
        "            $myPB.progressbar({value: 0, max: 98});\n",
        "        }\n",
        "        "
       ],
       "metadata": {},
       "output_type": "display_data",
       "text": [
        "<IPython.core.display.Javascript at 0x1b496128>"
       ]
      },
      {
       "javascript": [
        "$('div#ff646143-9018-49ef-8b96-a033b93b4828').text('ETA:  0:00:01');"
       ],
       "metadata": {},
       "output_type": "display_data",
       "text": [
        "<IPython.core.display.Javascript at 0x1b496320>"
       ]
      },
      {
       "javascript": [
        "$('div#24a77d32-bd1e-4348-bb17-5f8f400398e3').text('60 of 98');"
       ],
       "metadata": {},
       "output_type": "display_data",
       "text": [
        "<IPython.core.display.Javascript at 0x2437b630>"
       ]
      },
      {
       "javascript": [
        "$('div#1376cca4-1872-4091-8a31-c944e6de24c3').text(' 61%');"
       ],
       "metadata": {},
       "output_type": "display_data",
       "text": [
        "<IPython.core.display.Javascript at 0x2437b7f0>"
       ]
      },
      {
       "javascript": [
        "\n",
        "        var $myPB = $(\"div#d55c3fbc-f17c-4fe5-920d-8754d2e89ee8\")\n",
        "        if ($myPB.hasClass('ui-progressbar')) {\n",
        "            $myPB.progressbar('value', 60);\n",
        "        } else {\n",
        "            $myPB.progressbar({value: 0, max: 98});\n",
        "        }\n",
        "        "
       ],
       "metadata": {},
       "output_type": "display_data",
       "text": [
        "<IPython.core.display.Javascript at 0x2437ba90>"
       ]
      },
      {
       "javascript": [
        "$('div#ff646143-9018-49ef-8b96-a033b93b4828').text('ETA:  0:00:01');"
       ],
       "metadata": {},
       "output_type": "display_data",
       "text": [
        "<IPython.core.display.Javascript at 0x2437ba90>"
       ]
      },
      {
       "javascript": [
        "$('div#24a77d32-bd1e-4348-bb17-5f8f400398e3').text('61 of 98');"
       ],
       "metadata": {},
       "output_type": "display_data",
       "text": [
        "<IPython.core.display.Javascript at 0x1aafa2b0>"
       ]
      },
      {
       "javascript": [
        "$('div#1376cca4-1872-4091-8a31-c944e6de24c3').text(' 62%');"
       ],
       "metadata": {},
       "output_type": "display_data",
       "text": [
        "<IPython.core.display.Javascript at 0x1aafa2b0>"
       ]
      },
      {
       "javascript": [
        "\n",
        "        var $myPB = $(\"div#d55c3fbc-f17c-4fe5-920d-8754d2e89ee8\")\n",
        "        if ($myPB.hasClass('ui-progressbar')) {\n",
        "            $myPB.progressbar('value', 61);\n",
        "        } else {\n",
        "            $myPB.progressbar({value: 0, max: 98});\n",
        "        }\n",
        "        "
       ],
       "metadata": {},
       "output_type": "display_data",
       "text": [
        "<IPython.core.display.Javascript at 0x1aafa550>"
       ]
      },
      {
       "javascript": [
        "$('div#ff646143-9018-49ef-8b96-a033b93b4828').text('ETA:  0:00:01');"
       ],
       "metadata": {},
       "output_type": "display_data",
       "text": [
        "<IPython.core.display.Javascript at 0x1aafa978>"
       ]
      },
      {
       "javascript": [
        "$('div#24a77d32-bd1e-4348-bb17-5f8f400398e3').text('62 of 98');"
       ],
       "metadata": {},
       "output_type": "display_data",
       "text": [
        "<IPython.core.display.Javascript at 0x1f4d7a58>"
       ]
      },
      {
       "javascript": [
        "$('div#1376cca4-1872-4091-8a31-c944e6de24c3').text(' 63%');"
       ],
       "metadata": {},
       "output_type": "display_data",
       "text": [
        "<IPython.core.display.Javascript at 0x1f4d75c0>"
       ]
      },
      {
       "javascript": [
        "\n",
        "        var $myPB = $(\"div#d55c3fbc-f17c-4fe5-920d-8754d2e89ee8\")\n",
        "        if ($myPB.hasClass('ui-progressbar')) {\n",
        "            $myPB.progressbar('value', 62);\n",
        "        } else {\n",
        "            $myPB.progressbar({value: 0, max: 98});\n",
        "        }\n",
        "        "
       ],
       "metadata": {},
       "output_type": "display_data",
       "text": [
        "<IPython.core.display.Javascript at 0x1f4d75c0>"
       ]
      },
      {
       "javascript": [
        "$('div#ff646143-9018-49ef-8b96-a033b93b4828').text('ETA:  0:00:01');"
       ],
       "metadata": {},
       "output_type": "display_data",
       "text": [
        "<IPython.core.display.Javascript at 0x1f4d7400>"
       ]
      },
      {
       "javascript": [
        "$('div#24a77d32-bd1e-4348-bb17-5f8f400398e3').text('63 of 98');"
       ],
       "metadata": {},
       "output_type": "display_data",
       "text": [
        "<IPython.core.display.Javascript at 0x1ba2b748>"
       ]
      },
      {
       "javascript": [
        "$('div#1376cca4-1872-4091-8a31-c944e6de24c3').text(' 64%');"
       ],
       "metadata": {},
       "output_type": "display_data",
       "text": [
        "<IPython.core.display.Javascript at 0x1ba2b5f8>"
       ]
      },
      {
       "javascript": [
        "\n",
        "        var $myPB = $(\"div#d55c3fbc-f17c-4fe5-920d-8754d2e89ee8\")\n",
        "        if ($myPB.hasClass('ui-progressbar')) {\n",
        "            $myPB.progressbar('value', 63);\n",
        "        } else {\n",
        "            $myPB.progressbar({value: 0, max: 98});\n",
        "        }\n",
        "        "
       ],
       "metadata": {},
       "output_type": "display_data",
       "text": [
        "<IPython.core.display.Javascript at 0x1ba2bdd8>"
       ]
      },
      {
       "javascript": [
        "$('div#ff646143-9018-49ef-8b96-a033b93b4828').text('ETA:  0:00:01');"
       ],
       "metadata": {},
       "output_type": "display_data",
       "text": [
        "<IPython.core.display.Javascript at 0x1ba2bdd8>"
       ]
      },
      {
       "javascript": [
        "$('div#24a77d32-bd1e-4348-bb17-5f8f400398e3').text('64 of 98');"
       ],
       "metadata": {},
       "output_type": "display_data",
       "text": [
        "<IPython.core.display.Javascript at 0x1ee8a860>"
       ]
      },
      {
       "javascript": [
        "$('div#1376cca4-1872-4091-8a31-c944e6de24c3').text(' 65%');"
       ],
       "metadata": {},
       "output_type": "display_data",
       "text": [
        "<IPython.core.display.Javascript at 0x1ee8acf8>"
       ]
      },
      {
       "javascript": [
        "\n",
        "        var $myPB = $(\"div#d55c3fbc-f17c-4fe5-920d-8754d2e89ee8\")\n",
        "        if ($myPB.hasClass('ui-progressbar')) {\n",
        "            $myPB.progressbar('value', 64);\n",
        "        } else {\n",
        "            $myPB.progressbar({value: 0, max: 98});\n",
        "        }\n",
        "        "
       ],
       "metadata": {},
       "output_type": "display_data",
       "text": [
        "<IPython.core.display.Javascript at 0x1ee8a208>"
       ]
      },
      {
       "javascript": [
        "$('div#ff646143-9018-49ef-8b96-a033b93b4828').text('ETA:  0:00:01');"
       ],
       "metadata": {},
       "output_type": "display_data",
       "text": [
        "<IPython.core.display.Javascript at 0x1ee8a780>"
       ]
      },
      {
       "javascript": [
        "$('div#24a77d32-bd1e-4348-bb17-5f8f400398e3').text('65 of 98');"
       ],
       "metadata": {},
       "output_type": "display_data",
       "text": [
        "<IPython.core.display.Javascript at 0x1a012d68>"
       ]
      },
      {
       "javascript": [
        "$('div#1376cca4-1872-4091-8a31-c944e6de24c3').text(' 66%');"
       ],
       "metadata": {},
       "output_type": "display_data",
       "text": [
        "<IPython.core.display.Javascript at 0x1a012438>"
       ]
      },
      {
       "javascript": [
        "\n",
        "        var $myPB = $(\"div#d55c3fbc-f17c-4fe5-920d-8754d2e89ee8\")\n",
        "        if ($myPB.hasClass('ui-progressbar')) {\n",
        "            $myPB.progressbar('value', 65);\n",
        "        } else {\n",
        "            $myPB.progressbar({value: 0, max: 98});\n",
        "        }\n",
        "        "
       ],
       "metadata": {},
       "output_type": "display_data",
       "text": [
        "<IPython.core.display.Javascript at 0x1a0126a0>"
       ]
      },
      {
       "javascript": [
        "$('div#ff646143-9018-49ef-8b96-a033b93b4828').text('ETA:  0:00:01');"
       ],
       "metadata": {},
       "output_type": "display_data",
       "text": [
        "<IPython.core.display.Javascript at 0x1a012358>"
       ]
      },
      {
       "javascript": [
        "$('div#24a77d32-bd1e-4348-bb17-5f8f400398e3').text('66 of 98');"
       ],
       "metadata": {},
       "output_type": "display_data",
       "text": [
        "<IPython.core.display.Javascript at 0x209efb70>"
       ]
      },
      {
       "javascript": [
        "$('div#1376cca4-1872-4091-8a31-c944e6de24c3').text(' 67%');"
       ],
       "metadata": {},
       "output_type": "display_data",
       "text": [
        "<IPython.core.display.Javascript at 0x209ef358>"
       ]
      },
      {
       "javascript": [
        "\n",
        "        var $myPB = $(\"div#d55c3fbc-f17c-4fe5-920d-8754d2e89ee8\")\n",
        "        if ($myPB.hasClass('ui-progressbar')) {\n",
        "            $myPB.progressbar('value', 66);\n",
        "        } else {\n",
        "            $myPB.progressbar({value: 0, max: 98});\n",
        "        }\n",
        "        "
       ],
       "metadata": {},
       "output_type": "display_data",
       "text": [
        "<IPython.core.display.Javascript at 0x209ef898>"
       ]
      },
      {
       "javascript": [
        "$('div#ff646143-9018-49ef-8b96-a033b93b4828').text('ETA:  0:00:01');"
       ],
       "metadata": {},
       "output_type": "display_data",
       "text": [
        "<IPython.core.display.Javascript at 0x209efd30>"
       ]
      },
      {
       "javascript": [
        "$('div#24a77d32-bd1e-4348-bb17-5f8f400398e3').text('67 of 98');"
       ],
       "metadata": {},
       "output_type": "display_data",
       "text": [
        "<IPython.core.display.Javascript at 0x2334ce10>"
       ]
      },
      {
       "javascript": [
        "$('div#1376cca4-1872-4091-8a31-c944e6de24c3').text(' 68%');"
       ],
       "metadata": {},
       "output_type": "display_data",
       "text": [
        "<IPython.core.display.Javascript at 0x2334ce10>"
       ]
      },
      {
       "javascript": [
        "\n",
        "        var $myPB = $(\"div#d55c3fbc-f17c-4fe5-920d-8754d2e89ee8\")\n",
        "        if ($myPB.hasClass('ui-progressbar')) {\n",
        "            $myPB.progressbar('value', 67);\n",
        "        } else {\n",
        "            $myPB.progressbar({value: 0, max: 98});\n",
        "        }\n",
        "        "
       ],
       "metadata": {},
       "output_type": "display_data",
       "text": [
        "<IPython.core.display.Javascript at 0x2334cbe0>"
       ]
      },
      {
       "javascript": [
        "$('div#ff646143-9018-49ef-8b96-a033b93b4828').text('ETA:  0:00:01');"
       ],
       "metadata": {},
       "output_type": "display_data",
       "text": [
        "<IPython.core.display.Javascript at 0x2334c7f0>"
       ]
      },
      {
       "javascript": [
        "$('div#24a77d32-bd1e-4348-bb17-5f8f400398e3').text('68 of 98');"
       ],
       "metadata": {},
       "output_type": "display_data",
       "text": [
        "<IPython.core.display.Javascript at 0x2334c048>"
       ]
      },
      {
       "javascript": [
        "$('div#1376cca4-1872-4091-8a31-c944e6de24c3').text(' 69%');"
       ],
       "metadata": {},
       "output_type": "display_data",
       "text": [
        "<IPython.core.display.Javascript at 0x1b919e10>"
       ]
      },
      {
       "javascript": [
        "\n",
        "        var $myPB = $(\"div#d55c3fbc-f17c-4fe5-920d-8754d2e89ee8\")\n",
        "        if ($myPB.hasClass('ui-progressbar')) {\n",
        "            $myPB.progressbar('value', 68);\n",
        "        } else {\n",
        "            $myPB.progressbar({value: 0, max: 98});\n",
        "        }\n",
        "        "
       ],
       "metadata": {},
       "output_type": "display_data",
       "text": [
        "<IPython.core.display.Javascript at 0x2334c048>"
       ]
      },
      {
       "javascript": [
        "$('div#ff646143-9018-49ef-8b96-a033b93b4828').text('ETA:  0:00:01');"
       ],
       "metadata": {},
       "output_type": "display_data",
       "text": [
        "<IPython.core.display.Javascript at 0x1b919e10>"
       ]
      },
      {
       "javascript": [
        "$('div#24a77d32-bd1e-4348-bb17-5f8f400398e3').text('69 of 98');"
       ],
       "metadata": {},
       "output_type": "display_data",
       "text": [
        "<IPython.core.display.Javascript at 0x1b919208>"
       ]
      },
      {
       "javascript": [
        "$('div#1376cca4-1872-4091-8a31-c944e6de24c3').text(' 70%');"
       ],
       "metadata": {},
       "output_type": "display_data",
       "text": [
        "<IPython.core.display.Javascript at 0x1b919a58>"
       ]
      },
      {
       "javascript": [
        "\n",
        "        var $myPB = $(\"div#d55c3fbc-f17c-4fe5-920d-8754d2e89ee8\")\n",
        "        if ($myPB.hasClass('ui-progressbar')) {\n",
        "            $myPB.progressbar('value', 69);\n",
        "        } else {\n",
        "            $myPB.progressbar({value: 0, max: 98});\n",
        "        }\n",
        "        "
       ],
       "metadata": {},
       "output_type": "display_data",
       "text": [
        "<IPython.core.display.Javascript at 0x1b919a58>"
       ]
      },
      {
       "javascript": [
        "$('div#ff646143-9018-49ef-8b96-a033b93b4828').text('ETA:  0:00:01');"
       ],
       "metadata": {},
       "output_type": "display_data",
       "text": [
        "<IPython.core.display.Javascript at 0x1b9195f8>"
       ]
      },
      {
       "javascript": [
        "$('div#24a77d32-bd1e-4348-bb17-5f8f400398e3').text('70 of 98');"
       ],
       "metadata": {},
       "output_type": "display_data",
       "text": [
        "<IPython.core.display.Javascript at 0x1b919b38>"
       ]
      },
      {
       "javascript": [
        "$('div#1376cca4-1872-4091-8a31-c944e6de24c3').text(' 71%');"
       ],
       "metadata": {},
       "output_type": "display_data",
       "text": [
        "<IPython.core.display.Javascript at 0x1a9ff1d0>"
       ]
      },
      {
       "javascript": [
        "\n",
        "        var $myPB = $(\"div#d55c3fbc-f17c-4fe5-920d-8754d2e89ee8\")\n",
        "        if ($myPB.hasClass('ui-progressbar')) {\n",
        "            $myPB.progressbar('value', 70);\n",
        "        } else {\n",
        "            $myPB.progressbar({value: 0, max: 98});\n",
        "        }\n",
        "        "
       ],
       "metadata": {},
       "output_type": "display_data",
       "text": [
        "<IPython.core.display.Javascript at 0x1b919b38>"
       ]
      },
      {
       "javascript": [
        "$('div#ff646143-9018-49ef-8b96-a033b93b4828').text('ETA:  0:00:01');"
       ],
       "metadata": {},
       "output_type": "display_data",
       "text": [
        "<IPython.core.display.Javascript at 0x1a9ff1d0>"
       ]
      },
      {
       "javascript": [
        "$('div#24a77d32-bd1e-4348-bb17-5f8f400398e3').text('71 of 98');"
       ],
       "metadata": {},
       "output_type": "display_data",
       "text": [
        "<IPython.core.display.Javascript at 0x1a9ff208>"
       ]
      },
      {
       "javascript": [
        "$('div#1376cca4-1872-4091-8a31-c944e6de24c3').text(' 72%');"
       ],
       "metadata": {},
       "output_type": "display_data",
       "text": [
        "<IPython.core.display.Javascript at 0x1a9fffd0>"
       ]
      },
      {
       "javascript": [
        "\n",
        "        var $myPB = $(\"div#d55c3fbc-f17c-4fe5-920d-8754d2e89ee8\")\n",
        "        if ($myPB.hasClass('ui-progressbar')) {\n",
        "            $myPB.progressbar('value', 71);\n",
        "        } else {\n",
        "            $myPB.progressbar({value: 0, max: 98});\n",
        "        }\n",
        "        "
       ],
       "metadata": {},
       "output_type": "display_data",
       "text": [
        "<IPython.core.display.Javascript at 0x1a9fffd0>"
       ]
      },
      {
       "javascript": [
        "$('div#ff646143-9018-49ef-8b96-a033b93b4828').text('ETA:  0:00:01');"
       ],
       "metadata": {},
       "output_type": "display_data",
       "text": [
        "<IPython.core.display.Javascript at 0x1a9ff438>"
       ]
      },
      {
       "javascript": [
        "$('div#24a77d32-bd1e-4348-bb17-5f8f400398e3').text('72 of 98');"
       ],
       "metadata": {},
       "output_type": "display_data",
       "text": [
        "<IPython.core.display.Javascript at 0x21785550>"
       ]
      },
      {
       "javascript": [
        "$('div#1376cca4-1872-4091-8a31-c944e6de24c3').text(' 73%');"
       ],
       "metadata": {},
       "output_type": "display_data",
       "text": [
        "<IPython.core.display.Javascript at 0x21785390>"
       ]
      },
      {
       "javascript": [
        "\n",
        "        var $myPB = $(\"div#d55c3fbc-f17c-4fe5-920d-8754d2e89ee8\")\n",
        "        if ($myPB.hasClass('ui-progressbar')) {\n",
        "            $myPB.progressbar('value', 72);\n",
        "        } else {\n",
        "            $myPB.progressbar({value: 0, max: 98});\n",
        "        }\n",
        "        "
       ],
       "metadata": {},
       "output_type": "display_data",
       "text": [
        "<IPython.core.display.Javascript at 0x21785390>"
       ]
      },
      {
       "javascript": [
        "$('div#ff646143-9018-49ef-8b96-a033b93b4828').text('ETA:  0:00:01');"
       ],
       "metadata": {},
       "output_type": "display_data",
       "text": [
        "<IPython.core.display.Javascript at 0x217857f0>"
       ]
      },
      {
       "javascript": [
        "$('div#24a77d32-bd1e-4348-bb17-5f8f400398e3').text('73 of 98');"
       ],
       "metadata": {},
       "output_type": "display_data",
       "text": [
        "<IPython.core.display.Javascript at 0x21785a90>"
       ]
      },
      {
       "javascript": [
        "$('div#1376cca4-1872-4091-8a31-c944e6de24c3').text(' 74%');"
       ],
       "metadata": {},
       "output_type": "display_data",
       "text": [
        "<IPython.core.display.Javascript at 0x21785518>"
       ]
      },
      {
       "javascript": [
        "\n",
        "        var $myPB = $(\"div#d55c3fbc-f17c-4fe5-920d-8754d2e89ee8\")\n",
        "        if ($myPB.hasClass('ui-progressbar')) {\n",
        "            $myPB.progressbar('value', 73);\n",
        "        } else {\n",
        "            $myPB.progressbar({value: 0, max: 98});\n",
        "        }\n",
        "        "
       ],
       "metadata": {},
       "output_type": "display_data",
       "text": [
        "<IPython.core.display.Javascript at 0x21785518>"
       ]
      },
      {
       "javascript": [
        "$('div#ff646143-9018-49ef-8b96-a033b93b4828').text('ETA:  0:00:01');"
       ],
       "metadata": {},
       "output_type": "display_data",
       "text": [
        "<IPython.core.display.Javascript at 0x217850f0>"
       ]
      },
      {
       "javascript": [
        "$('div#24a77d32-bd1e-4348-bb17-5f8f400398e3').text('74 of 98');"
       ],
       "metadata": {},
       "output_type": "display_data",
       "text": [
        "<IPython.core.display.Javascript at 0x232e5630>"
       ]
      },
      {
       "javascript": [
        "$('div#1376cca4-1872-4091-8a31-c944e6de24c3').text(' 75%');"
       ],
       "metadata": {},
       "output_type": "display_data",
       "text": [
        "<IPython.core.display.Javascript at 0x232e5630>"
       ]
      },
      {
       "javascript": [
        "\n",
        "        var $myPB = $(\"div#d55c3fbc-f17c-4fe5-920d-8754d2e89ee8\")\n",
        "        if ($myPB.hasClass('ui-progressbar')) {\n",
        "            $myPB.progressbar('value', 74);\n",
        "        } else {\n",
        "            $myPB.progressbar({value: 0, max: 98});\n",
        "        }\n",
        "        "
       ],
       "metadata": {},
       "output_type": "display_data",
       "text": [
        "<IPython.core.display.Javascript at 0x232e5f28>"
       ]
      },
      {
       "javascript": [
        "$('div#ff646143-9018-49ef-8b96-a033b93b4828').text('ETA:  0:00:01');"
       ],
       "metadata": {},
       "output_type": "display_data",
       "text": [
        "<IPython.core.display.Javascript at 0x232e5b38>"
       ]
      },
      {
       "javascript": [
        "$('div#24a77d32-bd1e-4348-bb17-5f8f400398e3').text('75 of 98');"
       ],
       "metadata": {},
       "output_type": "display_data",
       "text": [
        "<IPython.core.display.Javascript at 0x212c3080>"
       ]
      },
      {
       "javascript": [
        "$('div#1376cca4-1872-4091-8a31-c944e6de24c3').text(' 76%');"
       ],
       "metadata": {},
       "output_type": "display_data",
       "text": [
        "<IPython.core.display.Javascript at 0x212c32e8>"
       ]
      },
      {
       "javascript": [
        "\n",
        "        var $myPB = $(\"div#d55c3fbc-f17c-4fe5-920d-8754d2e89ee8\")\n",
        "        if ($myPB.hasClass('ui-progressbar')) {\n",
        "            $myPB.progressbar('value', 75);\n",
        "        } else {\n",
        "            $myPB.progressbar({value: 0, max: 98});\n",
        "        }\n",
        "        "
       ],
       "metadata": {},
       "output_type": "display_data",
       "text": [
        "<IPython.core.display.Javascript at 0x212c32e8>"
       ]
      },
      {
       "javascript": [
        "$('div#ff646143-9018-49ef-8b96-a033b93b4828').text('ETA:  0:00:01');"
       ],
       "metadata": {},
       "output_type": "display_data",
       "text": [
        "<IPython.core.display.Javascript at 0x212c3208>"
       ]
      },
      {
       "javascript": [
        "$('div#24a77d32-bd1e-4348-bb17-5f8f400398e3').text('76 of 98');"
       ],
       "metadata": {},
       "output_type": "display_data",
       "text": [
        "<IPython.core.display.Javascript at 0x23ed84e0>"
       ]
      },
      {
       "javascript": [
        "$('div#1376cca4-1872-4091-8a31-c944e6de24c3').text(' 77%');"
       ],
       "metadata": {},
       "output_type": "display_data",
       "text": [
        "<IPython.core.display.Javascript at 0x23ed8c50>"
       ]
      },
      {
       "javascript": [
        "\n",
        "        var $myPB = $(\"div#d55c3fbc-f17c-4fe5-920d-8754d2e89ee8\")\n",
        "        if ($myPB.hasClass('ui-progressbar')) {\n",
        "            $myPB.progressbar('value', 76);\n",
        "        } else {\n",
        "            $myPB.progressbar({value: 0, max: 98});\n",
        "        }\n",
        "        "
       ],
       "metadata": {},
       "output_type": "display_data",
       "text": [
        "<IPython.core.display.Javascript at 0x23ed8c50>"
       ]
      },
      {
       "javascript": [
        "$('div#ff646143-9018-49ef-8b96-a033b93b4828').text('ETA:  0:00:01');"
       ],
       "metadata": {},
       "output_type": "display_data",
       "text": [
        "<IPython.core.display.Javascript at 0x23ed8c18>"
       ]
      },
      {
       "javascript": [
        "$('div#24a77d32-bd1e-4348-bb17-5f8f400398e3').text('77 of 98');"
       ],
       "metadata": {},
       "output_type": "display_data",
       "text": [
        "<IPython.core.display.Javascript at 0x1fb03908>"
       ]
      },
      {
       "javascript": [
        "$('div#1376cca4-1872-4091-8a31-c944e6de24c3').text(' 78%');"
       ],
       "metadata": {},
       "output_type": "display_data",
       "text": [
        "<IPython.core.display.Javascript at 0x1fb03e10>"
       ]
      },
      {
       "javascript": [
        "\n",
        "        var $myPB = $(\"div#d55c3fbc-f17c-4fe5-920d-8754d2e89ee8\")\n",
        "        if ($myPB.hasClass('ui-progressbar')) {\n",
        "            $myPB.progressbar('value', 77);\n",
        "        } else {\n",
        "            $myPB.progressbar({value: 0, max: 98});\n",
        "        }\n",
        "        "
       ],
       "metadata": {},
       "output_type": "display_data",
       "text": [
        "<IPython.core.display.Javascript at 0x1fb037b8>"
       ]
      },
      {
       "javascript": [
        "$('div#ff646143-9018-49ef-8b96-a033b93b4828').text('ETA:  0:00:01');"
       ],
       "metadata": {},
       "output_type": "display_data",
       "text": [
        "<IPython.core.display.Javascript at 0x1fb03908>"
       ]
      },
      {
       "javascript": [
        "$('div#24a77d32-bd1e-4348-bb17-5f8f400398e3').text('78 of 98');"
       ],
       "metadata": {},
       "output_type": "display_data",
       "text": [
        "<IPython.core.display.Javascript at 0x22ae1ba8>"
       ]
      },
      {
       "javascript": [
        "$('div#1376cca4-1872-4091-8a31-c944e6de24c3').text(' 79%');"
       ],
       "metadata": {},
       "output_type": "display_data",
       "text": [
        "<IPython.core.display.Javascript at 0x22ae1630>"
       ]
      },
      {
       "javascript": [
        "\n",
        "        var $myPB = $(\"div#d55c3fbc-f17c-4fe5-920d-8754d2e89ee8\")\n",
        "        if ($myPB.hasClass('ui-progressbar')) {\n",
        "            $myPB.progressbar('value', 78);\n",
        "        } else {\n",
        "            $myPB.progressbar({value: 0, max: 98});\n",
        "        }\n",
        "        "
       ],
       "metadata": {},
       "output_type": "display_data",
       "text": [
        "<IPython.core.display.Javascript at 0x22ae1630>"
       ]
      },
      {
       "javascript": [
        "$('div#ff646143-9018-49ef-8b96-a033b93b4828').text('ETA:  0:00:00');"
       ],
       "metadata": {},
       "output_type": "display_data",
       "text": [
        "<IPython.core.display.Javascript at 0x22ae1198>"
       ]
      },
      {
       "javascript": [
        "$('div#24a77d32-bd1e-4348-bb17-5f8f400398e3').text('79 of 98');"
       ],
       "metadata": {},
       "output_type": "display_data",
       "text": [
        "<IPython.core.display.Javascript at 0x22ae13c8>"
       ]
      },
      {
       "javascript": [
        "$('div#1376cca4-1872-4091-8a31-c944e6de24c3').text(' 80%');"
       ],
       "metadata": {},
       "output_type": "display_data",
       "text": [
        "<IPython.core.display.Javascript at 0x22ae13c8>"
       ]
      },
      {
       "javascript": [
        "\n",
        "        var $myPB = $(\"div#d55c3fbc-f17c-4fe5-920d-8754d2e89ee8\")\n",
        "        if ($myPB.hasClass('ui-progressbar')) {\n",
        "            $myPB.progressbar('value', 79);\n",
        "        } else {\n",
        "            $myPB.progressbar({value: 0, max: 98});\n",
        "        }\n",
        "        "
       ],
       "metadata": {},
       "output_type": "display_data",
       "text": [
        "<IPython.core.display.Javascript at 0x22ae11d0>"
       ]
      },
      {
       "javascript": [
        "$('div#ff646143-9018-49ef-8b96-a033b93b4828').text('ETA:  0:00:00');"
       ],
       "metadata": {},
       "output_type": "display_data",
       "text": [
        "<IPython.core.display.Javascript at 0x22ae1b38>"
       ]
      },
      {
       "javascript": [
        "$('div#24a77d32-bd1e-4348-bb17-5f8f400398e3').text('80 of 98');"
       ],
       "metadata": {},
       "output_type": "display_data",
       "text": [
        "<IPython.core.display.Javascript at 0x1eec94e0>"
       ]
      },
      {
       "javascript": [
        "$('div#1376cca4-1872-4091-8a31-c944e6de24c3').text(' 81%');"
       ],
       "metadata": {},
       "output_type": "display_data",
       "text": [
        "<IPython.core.display.Javascript at 0x1eec9ac8>"
       ]
      },
      {
       "javascript": [
        "\n",
        "        var $myPB = $(\"div#d55c3fbc-f17c-4fe5-920d-8754d2e89ee8\")\n",
        "        if ($myPB.hasClass('ui-progressbar')) {\n",
        "            $myPB.progressbar('value', 80);\n",
        "        } else {\n",
        "            $myPB.progressbar({value: 0, max: 98});\n",
        "        }\n",
        "        "
       ],
       "metadata": {},
       "output_type": "display_data",
       "text": [
        "<IPython.core.display.Javascript at 0x1eec9ac8>"
       ]
      },
      {
       "javascript": [
        "$('div#ff646143-9018-49ef-8b96-a033b93b4828').text('ETA:  0:00:00');"
       ],
       "metadata": {},
       "output_type": "display_data",
       "text": [
        "<IPython.core.display.Javascript at 0x1eec9fd0>"
       ]
      },
      {
       "javascript": [
        "$('div#24a77d32-bd1e-4348-bb17-5f8f400398e3').text('81 of 98');"
       ],
       "metadata": {},
       "output_type": "display_data",
       "text": [
        "<IPython.core.display.Javascript at 0x239ac7b8>"
       ]
      },
      {
       "javascript": [
        "$('div#1376cca4-1872-4091-8a31-c944e6de24c3').text(' 82%');"
       ],
       "metadata": {},
       "output_type": "display_data",
       "text": [
        "<IPython.core.display.Javascript at 0x239acba8>"
       ]
      },
      {
       "javascript": [
        "\n",
        "        var $myPB = $(\"div#d55c3fbc-f17c-4fe5-920d-8754d2e89ee8\")\n",
        "        if ($myPB.hasClass('ui-progressbar')) {\n",
        "            $myPB.progressbar('value', 81);\n",
        "        } else {\n",
        "            $myPB.progressbar({value: 0, max: 98});\n",
        "        }\n",
        "        "
       ],
       "metadata": {},
       "output_type": "display_data",
       "text": [
        "<IPython.core.display.Javascript at 0x239acba8>"
       ]
      },
      {
       "javascript": [
        "$('div#ff646143-9018-49ef-8b96-a033b93b4828').text('ETA:  0:00:00');"
       ],
       "metadata": {},
       "output_type": "display_data",
       "text": [
        "<IPython.core.display.Javascript at 0x239ac828>"
       ]
      },
      {
       "javascript": [
        "$('div#24a77d32-bd1e-4348-bb17-5f8f400398e3').text('82 of 98');"
       ],
       "metadata": {},
       "output_type": "display_data",
       "text": [
        "<IPython.core.display.Javascript at 0x239aca90>"
       ]
      },
      {
       "javascript": [
        "$('div#1376cca4-1872-4091-8a31-c944e6de24c3').text(' 83%');"
       ],
       "metadata": {},
       "output_type": "display_data",
       "text": [
        "<IPython.core.display.Javascript at 0x239acdd8>"
       ]
      },
      {
       "javascript": [
        "\n",
        "        var $myPB = $(\"div#d55c3fbc-f17c-4fe5-920d-8754d2e89ee8\")\n",
        "        if ($myPB.hasClass('ui-progressbar')) {\n",
        "            $myPB.progressbar('value', 82);\n",
        "        } else {\n",
        "            $myPB.progressbar({value: 0, max: 98});\n",
        "        }\n",
        "        "
       ],
       "metadata": {},
       "output_type": "display_data",
       "text": [
        "<IPython.core.display.Javascript at 0x239acdd8>"
       ]
      },
      {
       "javascript": [
        "$('div#ff646143-9018-49ef-8b96-a033b93b4828').text('ETA:  0:00:00');"
       ],
       "metadata": {},
       "output_type": "display_data",
       "text": [
        "<IPython.core.display.Javascript at 0x239acbe0>"
       ]
      },
      {
       "javascript": [
        "$('div#24a77d32-bd1e-4348-bb17-5f8f400398e3').text('83 of 98');"
       ],
       "metadata": {},
       "output_type": "display_data",
       "text": [
        "<IPython.core.display.Javascript at 0x22cd7198>"
       ]
      },
      {
       "javascript": [
        "$('div#1376cca4-1872-4091-8a31-c944e6de24c3').text(' 84%');"
       ],
       "metadata": {},
       "output_type": "display_data",
       "text": [
        "<IPython.core.display.Javascript at 0x22cd7748>"
       ]
      },
      {
       "javascript": [
        "\n",
        "        var $myPB = $(\"div#d55c3fbc-f17c-4fe5-920d-8754d2e89ee8\")\n",
        "        if ($myPB.hasClass('ui-progressbar')) {\n",
        "            $myPB.progressbar('value', 83);\n",
        "        } else {\n",
        "            $myPB.progressbar({value: 0, max: 98});\n",
        "        }\n",
        "        "
       ],
       "metadata": {},
       "output_type": "display_data",
       "text": [
        "<IPython.core.display.Javascript at 0x22cd7748>"
       ]
      },
      {
       "javascript": [
        "$('div#ff646143-9018-49ef-8b96-a033b93b4828').text('ETA:  0:00:00');"
       ],
       "metadata": {},
       "output_type": "display_data",
       "text": [
        "<IPython.core.display.Javascript at 0x22cd7f98>"
       ]
      },
      {
       "javascript": [
        "$('div#24a77d32-bd1e-4348-bb17-5f8f400398e3').text('84 of 98');"
       ],
       "metadata": {},
       "output_type": "display_data",
       "text": [
        "<IPython.core.display.Javascript at 0x202ed518>"
       ]
      },
      {
       "javascript": [
        "$('div#1376cca4-1872-4091-8a31-c944e6de24c3').text(' 85%');"
       ],
       "metadata": {},
       "output_type": "display_data",
       "text": [
        "<IPython.core.display.Javascript at 0x202ed518>"
       ]
      },
      {
       "javascript": [
        "\n",
        "        var $myPB = $(\"div#d55c3fbc-f17c-4fe5-920d-8754d2e89ee8\")\n",
        "        if ($myPB.hasClass('ui-progressbar')) {\n",
        "            $myPB.progressbar('value', 84);\n",
        "        } else {\n",
        "            $myPB.progressbar({value: 0, max: 98});\n",
        "        }\n",
        "        "
       ],
       "metadata": {},
       "output_type": "display_data",
       "text": [
        "<IPython.core.display.Javascript at 0x202edef0>"
       ]
      },
      {
       "javascript": [
        "$('div#ff646143-9018-49ef-8b96-a033b93b4828').text('ETA:  0:00:00');"
       ],
       "metadata": {},
       "output_type": "display_data",
       "text": [
        "<IPython.core.display.Javascript at 0x202ed400>"
       ]
      },
      {
       "javascript": [
        "$('div#24a77d32-bd1e-4348-bb17-5f8f400398e3').text('85 of 98');"
       ],
       "metadata": {},
       "output_type": "display_data",
       "text": [
        "<IPython.core.display.Javascript at 0x1a8fd128>"
       ]
      },
      {
       "javascript": [
        "$('div#1376cca4-1872-4091-8a31-c944e6de24c3').text(' 86%');"
       ],
       "metadata": {},
       "output_type": "display_data",
       "text": [
        "<IPython.core.display.Javascript at 0x1a8fd128>"
       ]
      },
      {
       "javascript": [
        "\n",
        "        var $myPB = $(\"div#d55c3fbc-f17c-4fe5-920d-8754d2e89ee8\")\n",
        "        if ($myPB.hasClass('ui-progressbar')) {\n",
        "            $myPB.progressbar('value', 85);\n",
        "        } else {\n",
        "            $myPB.progressbar({value: 0, max: 98});\n",
        "        }\n",
        "        "
       ],
       "metadata": {},
       "output_type": "display_data",
       "text": [
        "<IPython.core.display.Javascript at 0x1a8fdc18>"
       ]
      },
      {
       "javascript": [
        "$('div#ff646143-9018-49ef-8b96-a033b93b4828').text('ETA:  0:00:00');"
       ],
       "metadata": {},
       "output_type": "display_data",
       "text": [
        "<IPython.core.display.Javascript at 0x1a8fd1d0>"
       ]
      },
      {
       "javascript": [
        "$('div#24a77d32-bd1e-4348-bb17-5f8f400398e3').text('86 of 98');"
       ],
       "metadata": {},
       "output_type": "display_data",
       "text": [
        "<IPython.core.display.Javascript at 0x21155278>"
       ]
      },
      {
       "javascript": [
        "$('div#1376cca4-1872-4091-8a31-c944e6de24c3').text(' 87%');"
       ],
       "metadata": {},
       "output_type": "display_data",
       "text": [
        "<IPython.core.display.Javascript at 0x21155278>"
       ]
      },
      {
       "javascript": [
        "\n",
        "        var $myPB = $(\"div#d55c3fbc-f17c-4fe5-920d-8754d2e89ee8\")\n",
        "        if ($myPB.hasClass('ui-progressbar')) {\n",
        "            $myPB.progressbar('value', 86);\n",
        "        } else {\n",
        "            $myPB.progressbar({value: 0, max: 98});\n",
        "        }\n",
        "        "
       ],
       "metadata": {},
       "output_type": "display_data",
       "text": [
        "<IPython.core.display.Javascript at 0x21155a90>"
       ]
      },
      {
       "javascript": [
        "$('div#ff646143-9018-49ef-8b96-a033b93b4828').text('ETA:  0:00:00');"
       ],
       "metadata": {},
       "output_type": "display_data",
       "text": [
        "<IPython.core.display.Javascript at 0x21155b00>"
       ]
      },
      {
       "javascript": [
        "$('div#24a77d32-bd1e-4348-bb17-5f8f400398e3').text('87 of 98');"
       ],
       "metadata": {},
       "output_type": "display_data",
       "text": [
        "<IPython.core.display.Javascript at 0x1ba35ba8>"
       ]
      },
      {
       "javascript": [
        "$('div#1376cca4-1872-4091-8a31-c944e6de24c3').text(' 88%');"
       ],
       "metadata": {},
       "output_type": "display_data",
       "text": [
        "<IPython.core.display.Javascript at 0x1ba35a20>"
       ]
      },
      {
       "javascript": [
        "\n",
        "        var $myPB = $(\"div#d55c3fbc-f17c-4fe5-920d-8754d2e89ee8\")\n",
        "        if ($myPB.hasClass('ui-progressbar')) {\n",
        "            $myPB.progressbar('value', 87);\n",
        "        } else {\n",
        "            $myPB.progressbar({value: 0, max: 98});\n",
        "        }\n",
        "        "
       ],
       "metadata": {},
       "output_type": "display_data",
       "text": [
        "<IPython.core.display.Javascript at 0x1ba35a20>"
       ]
      },
      {
       "javascript": [
        "$('div#ff646143-9018-49ef-8b96-a033b93b4828').text('ETA:  0:00:00');"
       ],
       "metadata": {},
       "output_type": "display_data",
       "text": [
        "<IPython.core.display.Javascript at 0x1ba35748>"
       ]
      },
      {
       "javascript": [
        "$('div#24a77d32-bd1e-4348-bb17-5f8f400398e3').text('88 of 98');"
       ],
       "metadata": {},
       "output_type": "display_data",
       "text": [
        "<IPython.core.display.Javascript at 0x1ac89f98>"
       ]
      },
      {
       "javascript": [
        "$('div#1376cca4-1872-4091-8a31-c944e6de24c3').text(' 89%');"
       ],
       "metadata": {},
       "output_type": "display_data",
       "text": [
        "<IPython.core.display.Javascript at 0x1ac89f98>"
       ]
      },
      {
       "javascript": [
        "\n",
        "        var $myPB = $(\"div#d55c3fbc-f17c-4fe5-920d-8754d2e89ee8\")\n",
        "        if ($myPB.hasClass('ui-progressbar')) {\n",
        "            $myPB.progressbar('value', 88);\n",
        "        } else {\n",
        "            $myPB.progressbar({value: 0, max: 98});\n",
        "        }\n",
        "        "
       ],
       "metadata": {},
       "output_type": "display_data",
       "text": [
        "<IPython.core.display.Javascript at 0x1ac895f8>"
       ]
      },
      {
       "javascript": [
        "$('div#ff646143-9018-49ef-8b96-a033b93b4828').text('ETA:  0:00:00');"
       ],
       "metadata": {},
       "output_type": "display_data",
       "text": [
        "<IPython.core.display.Javascript at 0x1ac892b0>"
       ]
      },
      {
       "javascript": [
        "$('div#24a77d32-bd1e-4348-bb17-5f8f400398e3').text('89 of 98');"
       ],
       "metadata": {},
       "output_type": "display_data",
       "text": [
        "<IPython.core.display.Javascript at 0x2395eba8>"
       ]
      },
      {
       "javascript": [
        "$('div#1376cca4-1872-4091-8a31-c944e6de24c3').text(' 90%');"
       ],
       "metadata": {},
       "output_type": "display_data",
       "text": [
        "<IPython.core.display.Javascript at 0x2395eba8>"
       ]
      },
      {
       "javascript": [
        "\n",
        "        var $myPB = $(\"div#d55c3fbc-f17c-4fe5-920d-8754d2e89ee8\")\n",
        "        if ($myPB.hasClass('ui-progressbar')) {\n",
        "            $myPB.progressbar('value', 89);\n",
        "        } else {\n",
        "            $myPB.progressbar({value: 0, max: 98});\n",
        "        }\n",
        "        "
       ],
       "metadata": {},
       "output_type": "display_data",
       "text": [
        "<IPython.core.display.Javascript at 0x2395ea20>"
       ]
      },
      {
       "javascript": [
        "$('div#ff646143-9018-49ef-8b96-a033b93b4828').text('ETA:  0:00:00');"
       ],
       "metadata": {},
       "output_type": "display_data",
       "text": [
        "<IPython.core.display.Javascript at 0x2395eeb8>"
       ]
      },
      {
       "javascript": [
        "$('div#24a77d32-bd1e-4348-bb17-5f8f400398e3').text('90 of 98');"
       ],
       "metadata": {},
       "output_type": "display_data",
       "text": [
        "<IPython.core.display.Javascript at 0x243ba128>"
       ]
      },
      {
       "javascript": [
        "$('div#1376cca4-1872-4091-8a31-c944e6de24c3').text(' 91%');"
       ],
       "metadata": {},
       "output_type": "display_data",
       "text": [
        "<IPython.core.display.Javascript at 0x243ba128>"
       ]
      },
      {
       "javascript": [
        "\n",
        "        var $myPB = $(\"div#d55c3fbc-f17c-4fe5-920d-8754d2e89ee8\")\n",
        "        if ($myPB.hasClass('ui-progressbar')) {\n",
        "            $myPB.progressbar('value', 90);\n",
        "        } else {\n",
        "            $myPB.progressbar({value: 0, max: 98});\n",
        "        }\n",
        "        "
       ],
       "metadata": {},
       "output_type": "display_data",
       "text": [
        "<IPython.core.display.Javascript at 0x243ba5c0>"
       ]
      },
      {
       "javascript": [
        "$('div#ff646143-9018-49ef-8b96-a033b93b4828').text('ETA:  0:00:00');"
       ],
       "metadata": {},
       "output_type": "display_data",
       "text": [
        "<IPython.core.display.Javascript at 0x243ba898>"
       ]
      },
      {
       "javascript": [
        "$('div#24a77d32-bd1e-4348-bb17-5f8f400398e3').text('91 of 98');"
       ],
       "metadata": {},
       "output_type": "display_data",
       "text": [
        "<IPython.core.display.Javascript at 0x1fb67240>"
       ]
      },
      {
       "javascript": [
        "$('div#1376cca4-1872-4091-8a31-c944e6de24c3').text(' 92%');"
       ],
       "metadata": {},
       "output_type": "display_data",
       "text": [
        "<IPython.core.display.Javascript at 0x1fb67240>"
       ]
      },
      {
       "javascript": [
        "\n",
        "        var $myPB = $(\"div#d55c3fbc-f17c-4fe5-920d-8754d2e89ee8\")\n",
        "        if ($myPB.hasClass('ui-progressbar')) {\n",
        "            $myPB.progressbar('value', 91);\n",
        "        } else {\n",
        "            $myPB.progressbar({value: 0, max: 98});\n",
        "        }\n",
        "        "
       ],
       "metadata": {},
       "output_type": "display_data",
       "text": [
        "<IPython.core.display.Javascript at 0x1fb67f28>"
       ]
      },
      {
       "javascript": [
        "$('div#ff646143-9018-49ef-8b96-a033b93b4828').text('ETA:  0:00:00');"
       ],
       "metadata": {},
       "output_type": "display_data",
       "text": [
        "<IPython.core.display.Javascript at 0x1fb675f8>"
       ]
      },
      {
       "javascript": [
        "$('div#24a77d32-bd1e-4348-bb17-5f8f400398e3').text('92 of 98');"
       ],
       "metadata": {},
       "output_type": "display_data",
       "text": [
        "<IPython.core.display.Javascript at 0x1fb67160>"
       ]
      },
      {
       "javascript": [
        "$('div#1376cca4-1872-4091-8a31-c944e6de24c3').text(' 93%');"
       ],
       "metadata": {},
       "output_type": "display_data",
       "text": [
        "<IPython.core.display.Javascript at 0x1fb67710>"
       ]
      },
      {
       "javascript": [
        "\n",
        "        var $myPB = $(\"div#d55c3fbc-f17c-4fe5-920d-8754d2e89ee8\")\n",
        "        if ($myPB.hasClass('ui-progressbar')) {\n",
        "            $myPB.progressbar('value', 92);\n",
        "        } else {\n",
        "            $myPB.progressbar({value: 0, max: 98});\n",
        "        }\n",
        "        "
       ],
       "metadata": {},
       "output_type": "display_data",
       "text": [
        "<IPython.core.display.Javascript at 0x1fb67278>"
       ]
      },
      {
       "javascript": [
        "$('div#ff646143-9018-49ef-8b96-a033b93b4828').text('ETA:  0:00:00');"
       ],
       "metadata": {},
       "output_type": "display_data",
       "text": [
        "<IPython.core.display.Javascript at 0x1fb67278>"
       ]
      },
      {
       "javascript": [
        "$('div#24a77d32-bd1e-4348-bb17-5f8f400398e3').text('93 of 98');"
       ],
       "metadata": {},
       "output_type": "display_data",
       "text": [
        "<IPython.core.display.Javascript at 0x1fb67438>"
       ]
      },
      {
       "javascript": [
        "$('div#1376cca4-1872-4091-8a31-c944e6de24c3').text(' 94%');"
       ],
       "metadata": {},
       "output_type": "display_data",
       "text": [
        "<IPython.core.display.Javascript at 0x1fb67710>"
       ]
      },
      {
       "javascript": [
        "\n",
        "        var $myPB = $(\"div#d55c3fbc-f17c-4fe5-920d-8754d2e89ee8\")\n",
        "        if ($myPB.hasClass('ui-progressbar')) {\n",
        "            $myPB.progressbar('value', 93);\n",
        "        } else {\n",
        "            $myPB.progressbar({value: 0, max: 98});\n",
        "        }\n",
        "        "
       ],
       "metadata": {},
       "output_type": "display_data",
       "text": [
        "<IPython.core.display.Javascript at 0x1fb679b0>"
       ]
      },
      {
       "javascript": [
        "$('div#ff646143-9018-49ef-8b96-a033b93b4828').text('ETA:  0:00:00');"
       ],
       "metadata": {},
       "output_type": "display_data",
       "text": [
        "<IPython.core.display.Javascript at 0x1fb67588>"
       ]
      },
      {
       "javascript": [
        "$('div#24a77d32-bd1e-4348-bb17-5f8f400398e3').text('94 of 98');"
       ],
       "metadata": {},
       "output_type": "display_data",
       "text": [
        "<IPython.core.display.Javascript at 0x1fb67eb8>"
       ]
      },
      {
       "javascript": [
        "$('div#1376cca4-1872-4091-8a31-c944e6de24c3').text(' 95%');"
       ],
       "metadata": {},
       "output_type": "display_data",
       "text": [
        "<IPython.core.display.Javascript at 0x1fb67630>"
       ]
      },
      {
       "javascript": [
        "\n",
        "        var $myPB = $(\"div#d55c3fbc-f17c-4fe5-920d-8754d2e89ee8\")\n",
        "        if ($myPB.hasClass('ui-progressbar')) {\n",
        "            $myPB.progressbar('value', 94);\n",
        "        } else {\n",
        "            $myPB.progressbar({value: 0, max: 98});\n",
        "        }\n",
        "        "
       ],
       "metadata": {},
       "output_type": "display_data",
       "text": [
        "<IPython.core.display.Javascript at 0x1fb67710>"
       ]
      },
      {
       "javascript": [
        "$('div#ff646143-9018-49ef-8b96-a033b93b4828').text('ETA:  0:00:00');"
       ],
       "metadata": {},
       "output_type": "display_data",
       "text": [
        "<IPython.core.display.Javascript at 0x1fb679b0>"
       ]
      },
      {
       "javascript": [
        "$('div#24a77d32-bd1e-4348-bb17-5f8f400398e3').text('95 of 98');"
       ],
       "metadata": {},
       "output_type": "display_data",
       "text": [
        "<IPython.core.display.Javascript at 0x1fb67898>"
       ]
      },
      {
       "javascript": [
        "$('div#1376cca4-1872-4091-8a31-c944e6de24c3').text(' 96%');"
       ],
       "metadata": {},
       "output_type": "display_data",
       "text": [
        "<IPython.core.display.Javascript at 0x1fb674a8>"
       ]
      },
      {
       "javascript": [
        "\n",
        "        var $myPB = $(\"div#d55c3fbc-f17c-4fe5-920d-8754d2e89ee8\")\n",
        "        if ($myPB.hasClass('ui-progressbar')) {\n",
        "            $myPB.progressbar('value', 95);\n",
        "        } else {\n",
        "            $myPB.progressbar({value: 0, max: 98});\n",
        "        }\n",
        "        "
       ],
       "metadata": {},
       "output_type": "display_data",
       "text": [
        "<IPython.core.display.Javascript at 0x1fb67e10>"
       ]
      },
      {
       "javascript": [
        "$('div#ff646143-9018-49ef-8b96-a033b93b4828').text('ETA:  0:00:00');"
       ],
       "metadata": {},
       "output_type": "display_data",
       "text": [
        "<IPython.core.display.Javascript at 0x1fb67e10>"
       ]
      },
      {
       "javascript": [
        "$('div#24a77d32-bd1e-4348-bb17-5f8f400398e3').text('96 of 98');"
       ],
       "metadata": {},
       "output_type": "display_data",
       "text": [
        "<IPython.core.display.Javascript at 0x16e25208>"
       ]
      },
      {
       "javascript": [
        "$('div#1376cca4-1872-4091-8a31-c944e6de24c3').text(' 97%');"
       ],
       "metadata": {},
       "output_type": "display_data",
       "text": [
        "<IPython.core.display.Javascript at 0x16e25208>"
       ]
      },
      {
       "javascript": [
        "\n",
        "        var $myPB = $(\"div#d55c3fbc-f17c-4fe5-920d-8754d2e89ee8\")\n",
        "        if ($myPB.hasClass('ui-progressbar')) {\n",
        "            $myPB.progressbar('value', 96);\n",
        "        } else {\n",
        "            $myPB.progressbar({value: 0, max: 98});\n",
        "        }\n",
        "        "
       ],
       "metadata": {},
       "output_type": "display_data",
       "text": [
        "<IPython.core.display.Javascript at 0x16e25780>"
       ]
      },
      {
       "javascript": [
        "$('div#ff646143-9018-49ef-8b96-a033b93b4828').text('ETA:  0:00:00');"
       ],
       "metadata": {},
       "output_type": "display_data",
       "text": [
        "<IPython.core.display.Javascript at 0x16e250f0>"
       ]
      },
      {
       "javascript": [
        "$('div#24a77d32-bd1e-4348-bb17-5f8f400398e3').text('97 of 98');"
       ],
       "metadata": {},
       "output_type": "display_data",
       "text": [
        "<IPython.core.display.Javascript at 0x235aeef0>"
       ]
      },
      {
       "javascript": [
        "$('div#1376cca4-1872-4091-8a31-c944e6de24c3').text(' 98%');"
       ],
       "metadata": {},
       "output_type": "display_data",
       "text": [
        "<IPython.core.display.Javascript at 0x235ae5f8>"
       ]
      },
      {
       "javascript": [
        "\n",
        "        var $myPB = $(\"div#d55c3fbc-f17c-4fe5-920d-8754d2e89ee8\")\n",
        "        if ($myPB.hasClass('ui-progressbar')) {\n",
        "            $myPB.progressbar('value', 97);\n",
        "        } else {\n",
        "            $myPB.progressbar({value: 0, max: 98});\n",
        "        }\n",
        "        "
       ],
       "metadata": {},
       "output_type": "display_data",
       "text": [
        "<IPython.core.display.Javascript at 0x235ae5f8>"
       ]
      },
      {
       "javascript": [
        "$('div#ff646143-9018-49ef-8b96-a033b93b4828').text('ETA:  0:00:00');"
       ],
       "metadata": {},
       "output_type": "display_data",
       "text": [
        "<IPython.core.display.Javascript at 0x235ae160>"
       ]
      },
      {
       "javascript": [
        "$('div#24a77d32-bd1e-4348-bb17-5f8f400398e3').text('98 of 98');"
       ],
       "metadata": {},
       "output_type": "display_data",
       "text": [
        "<IPython.core.display.Javascript at 0x194b1588>"
       ]
      },
      {
       "javascript": [
        "$('div#1376cca4-1872-4091-8a31-c944e6de24c3').text('100%');"
       ],
       "metadata": {},
       "output_type": "display_data",
       "text": [
        "<IPython.core.display.Javascript at 0x194b1588>"
       ]
      },
      {
       "javascript": [
        "\n",
        "        var $myPB = $(\"div#d55c3fbc-f17c-4fe5-920d-8754d2e89ee8\")\n",
        "        if ($myPB.hasClass('ui-progressbar')) {\n",
        "            $myPB.progressbar('value', 98);\n",
        "        } else {\n",
        "            $myPB.progressbar({value: 0, max: 98});\n",
        "        }\n",
        "        "
       ],
       "metadata": {},
       "output_type": "display_data",
       "text": [
        "<IPython.core.display.Javascript at 0x194b1cc0>"
       ]
      },
      {
       "javascript": [
        "$('div#ff646143-9018-49ef-8b96-a033b93b4828').text('ETA:  0:00:00');"
       ],
       "metadata": {},
       "output_type": "display_data",
       "text": [
        "<IPython.core.display.Javascript at 0x194b1c50>"
       ]
      },
      {
       "javascript": [
        "$('div#24a77d32-bd1e-4348-bb17-5f8f400398e3').text('98 of 98');"
       ],
       "metadata": {},
       "output_type": "display_data",
       "text": [
        "<IPython.core.display.Javascript at 0x1fb03e10>"
       ]
      },
      {
       "javascript": [
        "$('div#1376cca4-1872-4091-8a31-c944e6de24c3').text('100%');"
       ],
       "metadata": {},
       "output_type": "display_data",
       "text": [
        "<IPython.core.display.Javascript at 0x1fb03e10>"
       ]
      },
      {
       "javascript": [
        "\n",
        "        var $myPB = $(\"div#d55c3fbc-f17c-4fe5-920d-8754d2e89ee8\")\n",
        "        if ($myPB.hasClass('ui-progressbar')) {\n",
        "            $myPB.progressbar('value', 98);\n",
        "        } else {\n",
        "            $myPB.progressbar({value: 0, max: 98});\n",
        "        }\n",
        "        "
       ],
       "metadata": {},
       "output_type": "display_data",
       "text": [
        "<IPython.core.display.Javascript at 0x194b16a0>"
       ]
      },
      {
       "javascript": [
        "$('div#ff646143-9018-49ef-8b96-a033b93b4828').text('Time: 0:00:04');"
       ],
       "metadata": {},
       "output_type": "display_data",
       "text": [
        "<IPython.core.display.Javascript at 0x194b1cc0>"
       ]
      },
      {
       "javascript": [
        "var element = document.getElementById('02732685-530f-4a50-a863-44ddb45a5b44');\n",
        "                    var parent = element.parentNode\n",
        "                    parent.removeChild(element);\n",
        "                    parent.parentElement.remove();"
       ],
       "metadata": {},
       "output_type": "display_data",
       "text": [
        "<IPython.core.display.Javascript at 0x356bd68>"
       ]
      },
      {
       "javascript": [
        "this.cleanProgressBar(['02732685-530f-4a50-a863-44ddb45a5b44', '24a77d32-bd1e-4348-bb17-5f8f400398e3', '1376cca4-1872-4091-8a31-c944e6de24c3', 'd55c3fbc-f17c-4fe5-920d-8754d2e89ee8', 'ff646143-9018-49ef-8b96-a033b93b4828'])"
       ],
       "metadata": {},
       "output_type": "display_data",
       "text": [
        "<IPython.core.display.Javascript at 0x356bd68>"
       ]
      }
     ],
     "prompt_number": 2
    },
    {
     "cell_type": "code",
     "collapsed": false,
     "input": [
      "import logging, json\n",
      "from importio import importio, latch"
     ],
     "language": "python",
     "metadata": {},
     "outputs": [],
     "prompt_number": 3
    },
    {
     "cell_type": "code",
     "collapsed": false,
     "input": [
      "client = importio.importio(user_id=\"a6104087-f99f-4652-bb9d-104fb2de0cdd\", api_key=\"kRkl8Rrg1C0WC2AxZQH76CSLI4W/IZ683bM7CIpgWlQp/NhrY/8ybyafAM46C/TNifopB9jUbSTf16REKNoXDw==\")\n"
     ],
     "language": "python",
     "metadata": {},
     "outputs": [],
     "prompt_number": 4
    },
    {
     "cell_type": "code",
     "collapsed": false,
     "input": [
      "# Because import.io queries are asynchronous, for this simple script we will use a \"latch\"\n",
      "# to stop the script from exiting before all of our queries are returned\n",
      "# For more information on the latch class, see the latch.py file included in this client library\n",
      "queryLatch = latch.latch(5)\n",
      "\n",
      "# Define here a global variable that we can put all our results in to when they come back from\n",
      "# the server, so we can use the data later on in the script\n",
      "dataRows = []\n",
      "\n",
      "# In order to receive the data from the queries we issue, we need to define a callback method\n",
      "# This method will receive each message that comes back from the queries, and we can take that\n",
      "# data and store it for use in our app\n",
      "def callback(query, message):\n",
      "    global dataRows\n",
      "    print 'in call back'\n",
      "    # Disconnect messages happen if we disconnect the client library while a query is in progress\n",
      "    if message[\"type\"] == \"DISCONNECT\":\n",
      "        print \"Query in progress when library disconnected\"\n",
      "        print json.dumps(message[\"data\"], indent = 4)\n",
      "\n",
      "  # Check the message we receive actually has some data in it\n",
      "    if message[\"type\"] == \"MESSAGE\":\n",
      "        if \"errorType\" in message[\"data\"]:\n",
      "            # In this case, we received a message, but it was an error from the external service\n",
      "            print \"Got an error!\" \n",
      "            print json.dumps(message[\"data\"], indent = 4)\n",
      "        else:\n",
      "      \n",
      "      # We got a message and it was not an error, so we can process the data\n",
      "#       print \"Got data!\"\n",
      "#       print json.dumps(message[\"data\"], indent = 4)\n",
      "      # Save the data we got in our dataRows variable for later\n",
      "            print message\n",
      "            dataRows.extend(message[\"data\"][\"results\"])\n",
      "  \n",
      "  # When the query is finished, countdown the latch so the program can continue when everything is done\n",
      "    if query.finished(): queryLatch.countdown()"
     ],
     "language": "python",
     "metadata": {},
     "outputs": [],
     "prompt_number": 5
    },
    {
     "cell_type": "code",
     "collapsed": false,
     "input": [
      "# client.disconnect()\n",
      "client.connect()\n",
      "datarows = []\n",
      "# d = docs.\n",
      "n = 0\n",
      "for doc in docs:\n",
      "    n = docs[doc]['n']\n",
      "    print n\n",
      "#     id = docs[doc]['id']\n",
      "    break\n",
      "client.query({\"input\":{ \"jobno\": n },\"connectorGuids\": [ \"17f99187-07d8-4678-8773-6f7570d9d84c\" ]}, callback)\n",
      "#     break\n",
      "print \"Queries dispatched, now waiting for results\"\n",
      "\n",
      "# Now we have issued all of the queries, we can \"await\" on the latch so that we know when it is all done\n",
      "queryLatch.await()\n",
      "\n",
      "print \"Latch has completed, all results returned\"\n",
      "\n",
      "# It is best practice to disconnect when you are finished sending queries and getting data - it allows us to\n",
      "# clean up resources on the client and the server\n",
      "client.disconnect()"
     ],
     "language": "python",
     "metadata": {},
     "outputs": [
      {
       "output_type": "stream",
       "stream": "stdout",
       "text": [
        "N0646317\n",
        "Queries dispatched, now waiting for results"
       ]
      }
     ]
    },
    {
     "cell_type": "code",
     "collapsed": false,
     "input": [
      "# client.query({\"input\":{ \"jobno\": \"N0531927\" },\"connectorGuids\": [ \"17f99187-07d8-4678-8773-6f7570d9d84c\" ]}, callback)\n",
      "# # Now we have issued all of the queries, we can \"await\" on the latch so that we know when it is all done\n",
      "# queryLatch.await()\n",
      "# # It is best practice to disconnect when you are finished sending queries and getting data - it allows us to\n",
      "# # clean up resources on the client and the server\n"
     ],
     "language": "python",
     "metadata": {},
     "outputs": []
    },
    {
     "cell_type": "code",
     "collapsed": false,
     "input": [
      "\n",
      "\n",
      "# Now we can print out the data we got\n",
      "print \"All data received:\"\n",
      "print json.dumps(dataRows, indent = 4)"
     ],
     "language": "python",
     "metadata": {},
     "outputs": []
    },
    {
     "cell_type": "code",
     "collapsed": false,
     "input": [],
     "language": "python",
     "metadata": {},
     "outputs": []
    },
    {
     "cell_type": "code",
     "collapsed": false,
     "input": [
      "for r in dataRows:\n",
      "    if 'title' in r:\n",
      "        print r['title'], r['symbol']\n"
     ],
     "language": "python",
     "metadata": {},
     "outputs": []
    }
   ],
   "metadata": {}
  }
 ]
}