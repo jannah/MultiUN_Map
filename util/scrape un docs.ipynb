{
 "metadata": {
  "name": "",
  "signature": "sha256:619a98a0660e4f0bef03f2e400444dd78262d6fd5e9b5395d14042438d1cb15e"
 },
 "nbformat": 3,
 "nbformat_minor": 0,
 "worksheets": [
  {
   "cells": [
    {
     "cell_type": "code",
     "collapsed": false,
     "input": [
      "MODULES_PATH = '''..\\\\modules\\\\multi_un_module.py'''\n",
      "import imp\n",
      "NF = imp.load_source('multi_un_module', MODULES_PATH)\n",
      "import multi_un_module as mun"
     ],
     "language": "python",
     "metadata": {},
     "outputs": [],
     "prompt_number": 2
    },
    {
     "cell_type": "code",
     "collapsed": false,
     "input": [
      "docs = mun.load_xml_files_by_year(\"TOP_100\")"
     ],
     "language": "python",
     "metadata": {},
     "outputs": [
      {
       "javascript": [
        "//c0ad6478-8bf4-401d-94e7-62f5cbba4282\n",
        "$(\"head\").append(\"<style> td.pb_widget {     width: auto; } td.pb_widget_fill {     width: 100%; } table.pb {     font-family: monospace;     border: 0;     margin: 0; } table.pb tr { border: 0; } table.pb td {     white-space: nowrap;     border: 0; } div.pb {     border: 1px solid #ddd;     border-radius: 3px; } div.pb_bar {     height: 1.5em; } </style>\")"
       ],
       "metadata": {},
       "output_type": "display_data",
       "text": [
        "<IPython.core.display.Javascript at 0x23c10c18>"
       ]
      },
      {
       "javascript": [
        "\n",
        "                  // c0ad6478-8bf4-401d-94e7-62f5cbba4282 -- used to remove this code blob in the end\n",
        "                  IPython.OutputArea.prototype.cleanProgressBar = function(uuids) {\n",
        "                      // filter by uuid-strings \n",
        "                      var myfilter = function(output) { \n",
        "                          var nuids = uuids.length;\n",
        "                          for (var i=0; i<nuids; i++) {\n",
        "                              if (output.hasOwnProperty('html')) {\n",
        "                                  if (output.html.indexOf(uuids[i]) != -1) {\n",
        "                                      return false;\n",
        "                                  }\n",
        "                              }\n",
        "                              if (output.hasOwnProperty('javascript')) {\n",
        "                                  if (output.javascript.indexOf(uuids[i]) != -1) {\n",
        "                                      return false;\n",
        "                                  }\n",
        "                              }\n",
        "                          }\n",
        "                          // keep all others\n",
        "                          return true;\n",
        "                      };\n",
        "\n",
        "                      // Filter the ouputs\n",
        "                      this.outputs = this.outputs.filter(myfilter);\n",
        "                };\n",
        "                "
       ],
       "metadata": {},
       "output_type": "display_data",
       "text": [
        "<IPython.core.display.Javascript at 0x23c10c18>"
       ]
      },
      {
       "html": [
        "<div class=\"pb\" id=\"c0ad6478-8bf4-401d-94e7-62f5cbba4282\"><table class=\"pb ui-widget\"><tr>\n",
        "<td class=\"pb_widget\">TOP_100</td>\n",
        "<td class=\"pb_widget\"><div id=\"3eeef062-d96b-4e44-b510-402fc0d0ab59\">0 of 98</div></td>\n",
        "<td class=\"pb_widget\"><div id=\"b7664d59-c1aa-4889-91de-9b04dde52690\">  0%</div></td>\n",
        "<td class=\"pb_widget_fill\">\n",
        "        <div class=\"pb_bar\" id=\"29861ff2-2ca1-41c5-ac2f-b687f1f599ec\"></div>\n",
        "        <script type=\"text/javascript\">\n",
        "            $(\"div#29861ff2-2ca1-41c5-ac2f-b687f1f599ec\").progressbar({value: 0, max: 98});\n",
        "        </script>\n",
        "        </td>\n",
        "<td class=\"pb_widget\"><div id=\"8dace548-dd8c-4eef-8238-c9641d07c7a4\">ETA:  --:--:--</div></td>\n",
        "</tr></table><div>"
       ],
       "metadata": {},
       "output_type": "display_data",
       "text": [
        "<IPython.core.display.HTML at 0x23c10ba8>"
       ]
      },
      {
       "javascript": [
        "$('div#3eeef062-d96b-4e44-b510-402fc0d0ab59').text('1 of 98');"
       ],
       "metadata": {},
       "output_type": "display_data",
       "text": [
        "<IPython.core.display.Javascript at 0x1fae79e8>"
       ]
      },
      {
       "javascript": [
        "$('div#b7664d59-c1aa-4889-91de-9b04dde52690').text('  1%');"
       ],
       "metadata": {},
       "output_type": "display_data",
       "text": [
        "<IPython.core.display.Javascript at 0x1fae7518>"
       ]
      },
      {
       "javascript": [
        "\n",
        "        var $myPB = $(\"div#29861ff2-2ca1-41c5-ac2f-b687f1f599ec\")\n",
        "        if ($myPB.hasClass('ui-progressbar')) {\n",
        "            $myPB.progressbar('value', 1);\n",
        "        } else {\n",
        "            $myPB.progressbar({value: 0, max: 98});\n",
        "        }\n",
        "        "
       ],
       "metadata": {},
       "output_type": "display_data",
       "text": [
        "<IPython.core.display.Javascript at 0x1fae7320>"
       ]
      },
      {
       "javascript": [
        "$('div#8dace548-dd8c-4eef-8238-c9641d07c7a4').text('ETA:  0:00:01');"
       ],
       "metadata": {},
       "output_type": "display_data",
       "text": [
        "<IPython.core.display.Javascript at 0x1fae7320>"
       ]
      },
      {
       "javascript": [
        "$('div#3eeef062-d96b-4e44-b510-402fc0d0ab59').text('2 of 98');"
       ],
       "metadata": {},
       "output_type": "display_data",
       "text": [
        "<IPython.core.display.Javascript at 0x1fae7a90>"
       ]
      },
      {
       "javascript": [
        "$('div#b7664d59-c1aa-4889-91de-9b04dde52690').text('  2%');"
       ],
       "metadata": {},
       "output_type": "display_data",
       "text": [
        "<IPython.core.display.Javascript at 0x1fae7cf8>"
       ]
      },
      {
       "javascript": [
        "\n",
        "        var $myPB = $(\"div#29861ff2-2ca1-41c5-ac2f-b687f1f599ec\")\n",
        "        if ($myPB.hasClass('ui-progressbar')) {\n",
        "            $myPB.progressbar('value', 2);\n",
        "        } else {\n",
        "            $myPB.progressbar({value: 0, max: 98});\n",
        "        }\n",
        "        "
       ],
       "metadata": {},
       "output_type": "display_data",
       "text": [
        "<IPython.core.display.Javascript at 0x1fae7cf8>"
       ]
      },
      {
       "javascript": [
        "$('div#8dace548-dd8c-4eef-8238-c9641d07c7a4').text('ETA:  0:00:01');"
       ],
       "metadata": {},
       "output_type": "display_data",
       "text": [
        "<IPython.core.display.Javascript at 0x1fae7668>"
       ]
      },
      {
       "javascript": [
        "$('div#3eeef062-d96b-4e44-b510-402fc0d0ab59').text('3 of 98');"
       ],
       "metadata": {},
       "output_type": "display_data",
       "text": [
        "<IPython.core.display.Javascript at 0x1a3083c8>"
       ]
      },
      {
       "javascript": [
        "$('div#b7664d59-c1aa-4889-91de-9b04dde52690').text('  3%');"
       ],
       "metadata": {},
       "output_type": "display_data",
       "text": [
        "<IPython.core.display.Javascript at 0x1a3087b8>"
       ]
      },
      {
       "javascript": [
        "\n",
        "        var $myPB = $(\"div#29861ff2-2ca1-41c5-ac2f-b687f1f599ec\")\n",
        "        if ($myPB.hasClass('ui-progressbar')) {\n",
        "            $myPB.progressbar('value', 3);\n",
        "        } else {\n",
        "            $myPB.progressbar({value: 0, max: 98});\n",
        "        }\n",
        "        "
       ],
       "metadata": {},
       "output_type": "display_data",
       "text": [
        "<IPython.core.display.Javascript at 0x1a3087b8>"
       ]
      },
      {
       "javascript": [
        "$('div#8dace548-dd8c-4eef-8238-c9641d07c7a4').text('ETA:  0:00:01');"
       ],
       "metadata": {},
       "output_type": "display_data",
       "text": [
        "<IPython.core.display.Javascript at 0x1a3085f8>"
       ]
      },
      {
       "javascript": [
        "$('div#3eeef062-d96b-4e44-b510-402fc0d0ab59').text('4 of 98');"
       ],
       "metadata": {},
       "output_type": "display_data",
       "text": [
        "<IPython.core.display.Javascript at 0x1f9edb38>"
       ]
      },
      {
       "javascript": [
        "$('div#b7664d59-c1aa-4889-91de-9b04dde52690').text('  4%');"
       ],
       "metadata": {},
       "output_type": "display_data",
       "text": [
        "<IPython.core.display.Javascript at 0x224e3fd0>"
       ]
      },
      {
       "javascript": [
        "\n",
        "        var $myPB = $(\"div#29861ff2-2ca1-41c5-ac2f-b687f1f599ec\")\n",
        "        if ($myPB.hasClass('ui-progressbar')) {\n",
        "            $myPB.progressbar('value', 4);\n",
        "        } else {\n",
        "            $myPB.progressbar({value: 0, max: 98});\n",
        "        }\n",
        "        "
       ],
       "metadata": {},
       "output_type": "display_data",
       "text": [
        "<IPython.core.display.Javascript at 0x224e3b38>"
       ]
      },
      {
       "javascript": [
        "$('div#8dace548-dd8c-4eef-8238-c9641d07c7a4').text('ETA:  0:00:05');"
       ],
       "metadata": {},
       "output_type": "display_data",
       "text": [
        "<IPython.core.display.Javascript at 0x1f9edb38>"
       ]
      },
      {
       "javascript": [
        "$('div#3eeef062-d96b-4e44-b510-402fc0d0ab59').text('5 of 98');"
       ],
       "metadata": {},
       "output_type": "display_data",
       "text": [
        "<IPython.core.display.Javascript at 0x2178fe10>"
       ]
      },
      {
       "javascript": [
        "$('div#b7664d59-c1aa-4889-91de-9b04dde52690').text('  5%');"
       ],
       "metadata": {},
       "output_type": "display_data",
       "text": [
        "<IPython.core.display.Javascript at 0x2178f828>"
       ]
      },
      {
       "javascript": [
        "\n",
        "        var $myPB = $(\"div#29861ff2-2ca1-41c5-ac2f-b687f1f599ec\")\n",
        "        if ($myPB.hasClass('ui-progressbar')) {\n",
        "            $myPB.progressbar('value', 5);\n",
        "        } else {\n",
        "            $myPB.progressbar({value: 0, max: 98});\n",
        "        }\n",
        "        "
       ],
       "metadata": {},
       "output_type": "display_data",
       "text": [
        "<IPython.core.display.Javascript at 0x2178f128>"
       ]
      },
      {
       "javascript": [
        "$('div#8dace548-dd8c-4eef-8238-c9641d07c7a4').text('ETA:  0:00:04');"
       ],
       "metadata": {},
       "output_type": "display_data",
       "text": [
        "<IPython.core.display.Javascript at 0x1f9edb38>"
       ]
      },
      {
       "javascript": [
        "$('div#3eeef062-d96b-4e44-b510-402fc0d0ab59').text('6 of 98');"
       ],
       "metadata": {},
       "output_type": "display_data",
       "text": [
        "<IPython.core.display.Javascript at 0x238c7470>"
       ]
      },
      {
       "javascript": [
        "$('div#b7664d59-c1aa-4889-91de-9b04dde52690').text('  6%');"
       ],
       "metadata": {},
       "output_type": "display_data",
       "text": [
        "<IPython.core.display.Javascript at 0x238c7b00>"
       ]
      },
      {
       "javascript": [
        "\n",
        "        var $myPB = $(\"div#29861ff2-2ca1-41c5-ac2f-b687f1f599ec\")\n",
        "        if ($myPB.hasClass('ui-progressbar')) {\n",
        "            $myPB.progressbar('value', 6);\n",
        "        } else {\n",
        "            $myPB.progressbar({value: 0, max: 98});\n",
        "        }\n",
        "        "
       ],
       "metadata": {},
       "output_type": "display_data",
       "text": [
        "<IPython.core.display.Javascript at 0x238c70f0>"
       ]
      },
      {
       "javascript": [
        "$('div#8dace548-dd8c-4eef-8238-c9641d07c7a4').text('ETA:  0:00:05');"
       ],
       "metadata": {},
       "output_type": "display_data",
       "text": [
        "<IPython.core.display.Javascript at 0x12158f98>"
       ]
      },
      {
       "javascript": [
        "$('div#3eeef062-d96b-4e44-b510-402fc0d0ab59').text('7 of 98');"
       ],
       "metadata": {},
       "output_type": "display_data",
       "text": [
        "<IPython.core.display.Javascript at 0x21aec9b0>"
       ]
      },
      {
       "javascript": [
        "$('div#b7664d59-c1aa-4889-91de-9b04dde52690').text('  7%');"
       ],
       "metadata": {},
       "output_type": "display_data",
       "text": [
        "<IPython.core.display.Javascript at 0x21aec9b0>"
       ]
      },
      {
       "javascript": [
        "\n",
        "        var $myPB = $(\"div#29861ff2-2ca1-41c5-ac2f-b687f1f599ec\")\n",
        "        if ($myPB.hasClass('ui-progressbar')) {\n",
        "            $myPB.progressbar('value', 7);\n",
        "        } else {\n",
        "            $myPB.progressbar({value: 0, max: 98});\n",
        "        }\n",
        "        "
       ],
       "metadata": {},
       "output_type": "display_data",
       "text": [
        "<IPython.core.display.Javascript at 0x21aeceb8>"
       ]
      },
      {
       "javascript": [
        "$('div#8dace548-dd8c-4eef-8238-c9641d07c7a4').text('ETA:  0:00:06');"
       ],
       "metadata": {},
       "output_type": "display_data",
       "text": [
        "<IPython.core.display.Javascript at 0x21aec080>"
       ]
      },
      {
       "javascript": [
        "$('div#3eeef062-d96b-4e44-b510-402fc0d0ab59').text('8 of 98');"
       ],
       "metadata": {},
       "output_type": "display_data",
       "text": [
        "<IPython.core.display.Javascript at 0x21aec2b0>"
       ]
      },
      {
       "javascript": [
        "$('div#b7664d59-c1aa-4889-91de-9b04dde52690').text('  8%');"
       ],
       "metadata": {},
       "output_type": "display_data",
       "text": [
        "<IPython.core.display.Javascript at 0x21aec2b0>"
       ]
      },
      {
       "javascript": [
        "\n",
        "        var $myPB = $(\"div#29861ff2-2ca1-41c5-ac2f-b687f1f599ec\")\n",
        "        if ($myPB.hasClass('ui-progressbar')) {\n",
        "            $myPB.progressbar('value', 8);\n",
        "        } else {\n",
        "            $myPB.progressbar({value: 0, max: 98});\n",
        "        }\n",
        "        "
       ],
       "metadata": {},
       "output_type": "display_data",
       "text": [
        "<IPython.core.display.Javascript at 0x21aecdd8>"
       ]
      },
      {
       "javascript": [
        "$('div#8dace548-dd8c-4eef-8238-c9641d07c7a4').text('ETA:  0:00:06');"
       ],
       "metadata": {},
       "output_type": "display_data",
       "text": [
        "<IPython.core.display.Javascript at 0x21aec048>"
       ]
      },
      {
       "javascript": [
        "$('div#3eeef062-d96b-4e44-b510-402fc0d0ab59').text('9 of 98');"
       ],
       "metadata": {},
       "output_type": "display_data",
       "text": [
        "<IPython.core.display.Javascript at 0x21aeca58>"
       ]
      },
      {
       "javascript": [
        "$('div#b7664d59-c1aa-4889-91de-9b04dde52690').text('  9%');"
       ],
       "metadata": {},
       "output_type": "display_data",
       "text": [
        "<IPython.core.display.Javascript at 0x21aec940>"
       ]
      },
      {
       "javascript": [
        "\n",
        "        var $myPB = $(\"div#29861ff2-2ca1-41c5-ac2f-b687f1f599ec\")\n",
        "        if ($myPB.hasClass('ui-progressbar')) {\n",
        "            $myPB.progressbar('value', 9);\n",
        "        } else {\n",
        "            $myPB.progressbar({value: 0, max: 98});\n",
        "        }\n",
        "        "
       ],
       "metadata": {},
       "output_type": "display_data",
       "text": [
        "<IPython.core.display.Javascript at 0x21aec400>"
       ]
      },
      {
       "javascript": [
        "$('div#8dace548-dd8c-4eef-8238-c9641d07c7a4').text('ETA:  0:00:05');"
       ],
       "metadata": {},
       "output_type": "display_data",
       "text": [
        "<IPython.core.display.Javascript at 0x21aec860>"
       ]
      },
      {
       "javascript": [
        "$('div#3eeef062-d96b-4e44-b510-402fc0d0ab59').text('10 of 98');"
       ],
       "metadata": {},
       "output_type": "display_data",
       "text": [
        "<IPython.core.display.Javascript at 0x21aeccc0>"
       ]
      },
      {
       "javascript": [
        "$('div#b7664d59-c1aa-4889-91de-9b04dde52690').text(' 10%');"
       ],
       "metadata": {},
       "output_type": "display_data",
       "text": [
        "<IPython.core.display.Javascript at 0x21aec518>"
       ]
      },
      {
       "javascript": [
        "\n",
        "        var $myPB = $(\"div#29861ff2-2ca1-41c5-ac2f-b687f1f599ec\")\n",
        "        if ($myPB.hasClass('ui-progressbar')) {\n",
        "            $myPB.progressbar('value', 10);\n",
        "        } else {\n",
        "            $myPB.progressbar({value: 0, max: 98});\n",
        "        }\n",
        "        "
       ],
       "metadata": {},
       "output_type": "display_data",
       "text": [
        "<IPython.core.display.Javascript at 0x21aecbe0>"
       ]
      },
      {
       "javascript": [
        "$('div#8dace548-dd8c-4eef-8238-c9641d07c7a4').text('ETA:  0:00:04');"
       ],
       "metadata": {},
       "output_type": "display_data",
       "text": [
        "<IPython.core.display.Javascript at 0x21aecbe0>"
       ]
      },
      {
       "javascript": [
        "$('div#3eeef062-d96b-4e44-b510-402fc0d0ab59').text('11 of 98');"
       ],
       "metadata": {},
       "output_type": "display_data",
       "text": [
        "<IPython.core.display.Javascript at 0x1f9d05f8>"
       ]
      },
      {
       "javascript": [
        "$('div#b7664d59-c1aa-4889-91de-9b04dde52690').text(' 11%');"
       ],
       "metadata": {},
       "output_type": "display_data",
       "text": [
        "<IPython.core.display.Javascript at 0x1f9d05f8>"
       ]
      },
      {
       "javascript": [
        "\n",
        "        var $myPB = $(\"div#29861ff2-2ca1-41c5-ac2f-b687f1f599ec\")\n",
        "        if ($myPB.hasClass('ui-progressbar')) {\n",
        "            $myPB.progressbar('value', 11);\n",
        "        } else {\n",
        "            $myPB.progressbar({value: 0, max: 98});\n",
        "        }\n",
        "        "
       ],
       "metadata": {},
       "output_type": "display_data",
       "text": [
        "<IPython.core.display.Javascript at 0x1f9d0b70>"
       ]
      },
      {
       "javascript": [
        "$('div#8dace548-dd8c-4eef-8238-c9641d07c7a4').text('ETA:  0:00:04');"
       ],
       "metadata": {},
       "output_type": "display_data",
       "text": [
        "<IPython.core.display.Javascript at 0x1f9d0eb8>"
       ]
      },
      {
       "javascript": [
        "$('div#3eeef062-d96b-4e44-b510-402fc0d0ab59').text('12 of 98');"
       ],
       "metadata": {},
       "output_type": "display_data",
       "text": [
        "<IPython.core.display.Javascript at 0x1f9d0c50>"
       ]
      },
      {
       "javascript": [
        "$('div#b7664d59-c1aa-4889-91de-9b04dde52690').text(' 12%');"
       ],
       "metadata": {},
       "output_type": "display_data",
       "text": [
        "<IPython.core.display.Javascript at 0x1f9d0c50>"
       ]
      },
      {
       "javascript": [
        "\n",
        "        var $myPB = $(\"div#29861ff2-2ca1-41c5-ac2f-b687f1f599ec\")\n",
        "        if ($myPB.hasClass('ui-progressbar')) {\n",
        "            $myPB.progressbar('value', 12);\n",
        "        } else {\n",
        "            $myPB.progressbar({value: 0, max: 98});\n",
        "        }\n",
        "        "
       ],
       "metadata": {},
       "output_type": "display_data",
       "text": [
        "<IPython.core.display.Javascript at 0x1f9d0d30>"
       ]
      },
      {
       "javascript": [
        "$('div#8dace548-dd8c-4eef-8238-c9641d07c7a4').text('ETA:  0:00:04');"
       ],
       "metadata": {},
       "output_type": "display_data",
       "text": [
        "<IPython.core.display.Javascript at 0x1f9d0048>"
       ]
      },
      {
       "javascript": [
        "$('div#3eeef062-d96b-4e44-b510-402fc0d0ab59').text('13 of 98');"
       ],
       "metadata": {},
       "output_type": "display_data",
       "text": [
        "<IPython.core.display.Javascript at 0x1f9d0908>"
       ]
      },
      {
       "javascript": [
        "$('div#b7664d59-c1aa-4889-91de-9b04dde52690').text(' 13%');"
       ],
       "metadata": {},
       "output_type": "display_data",
       "text": [
        "<IPython.core.display.Javascript at 0x1f9d09b0>"
       ]
      },
      {
       "javascript": [
        "\n",
        "        var $myPB = $(\"div#29861ff2-2ca1-41c5-ac2f-b687f1f599ec\")\n",
        "        if ($myPB.hasClass('ui-progressbar')) {\n",
        "            $myPB.progressbar('value', 13);\n",
        "        } else {\n",
        "            $myPB.progressbar({value: 0, max: 98});\n",
        "        }\n",
        "        "
       ],
       "metadata": {},
       "output_type": "display_data",
       "text": [
        "<IPython.core.display.Javascript at 0x1f9d09b0>"
       ]
      },
      {
       "javascript": [
        "$('div#8dace548-dd8c-4eef-8238-c9641d07c7a4').text('ETA:  0:00:03');"
       ],
       "metadata": {},
       "output_type": "display_data",
       "text": [
        "<IPython.core.display.Javascript at 0x1f9d0cf8>"
       ]
      },
      {
       "javascript": [
        "$('div#3eeef062-d96b-4e44-b510-402fc0d0ab59').text('14 of 98');"
       ],
       "metadata": {},
       "output_type": "display_data",
       "text": [
        "<IPython.core.display.Javascript at 0x1a019fd0>"
       ]
      },
      {
       "javascript": [
        "$('div#b7664d59-c1aa-4889-91de-9b04dde52690').text(' 14%');"
       ],
       "metadata": {},
       "output_type": "display_data",
       "text": [
        "<IPython.core.display.Javascript at 0x1a019320>"
       ]
      },
      {
       "javascript": [
        "\n",
        "        var $myPB = $(\"div#29861ff2-2ca1-41c5-ac2f-b687f1f599ec\")\n",
        "        if ($myPB.hasClass('ui-progressbar')) {\n",
        "            $myPB.progressbar('value', 14);\n",
        "        } else {\n",
        "            $myPB.progressbar({value: 0, max: 98});\n",
        "        }\n",
        "        "
       ],
       "metadata": {},
       "output_type": "display_data",
       "text": [
        "<IPython.core.display.Javascript at 0x1f9d0cf8>"
       ]
      },
      {
       "javascript": [
        "$('div#8dace548-dd8c-4eef-8238-c9641d07c7a4').text('ETA:  0:00:03');"
       ],
       "metadata": {},
       "output_type": "display_data",
       "text": [
        "<IPython.core.display.Javascript at 0x1f9d09b0>"
       ]
      },
      {
       "javascript": [
        "$('div#3eeef062-d96b-4e44-b510-402fc0d0ab59').text('15 of 98');"
       ],
       "metadata": {},
       "output_type": "display_data",
       "text": [
        "<IPython.core.display.Javascript at 0x1fbb49b0>"
       ]
      },
      {
       "javascript": [
        "$('div#b7664d59-c1aa-4889-91de-9b04dde52690').text(' 15%');"
       ],
       "metadata": {},
       "output_type": "display_data",
       "text": [
        "<IPython.core.display.Javascript at 0x1fbb4470>"
       ]
      },
      {
       "javascript": [
        "\n",
        "        var $myPB = $(\"div#29861ff2-2ca1-41c5-ac2f-b687f1f599ec\")\n",
        "        if ($myPB.hasClass('ui-progressbar')) {\n",
        "            $myPB.progressbar('value', 15);\n",
        "        } else {\n",
        "            $myPB.progressbar({value: 0, max: 98});\n",
        "        }\n",
        "        "
       ],
       "metadata": {},
       "output_type": "display_data",
       "text": [
        "<IPython.core.display.Javascript at 0x1fbb4358>"
       ]
      },
      {
       "javascript": [
        "$('div#8dace548-dd8c-4eef-8238-c9641d07c7a4').text('ETA:  0:00:03');"
       ],
       "metadata": {},
       "output_type": "display_data",
       "text": [
        "<IPython.core.display.Javascript at 0x1fbb4358>"
       ]
      },
      {
       "javascript": [
        "$('div#3eeef062-d96b-4e44-b510-402fc0d0ab59').text('16 of 98');"
       ],
       "metadata": {},
       "output_type": "display_data",
       "text": [
        "<IPython.core.display.Javascript at 0x1fbb4c18>"
       ]
      },
      {
       "javascript": [
        "$('div#b7664d59-c1aa-4889-91de-9b04dde52690').text(' 16%');"
       ],
       "metadata": {},
       "output_type": "display_data",
       "text": [
        "<IPython.core.display.Javascript at 0x1fbb4400>"
       ]
      },
      {
       "javascript": [
        "\n",
        "        var $myPB = $(\"div#29861ff2-2ca1-41c5-ac2f-b687f1f599ec\")\n",
        "        if ($myPB.hasClass('ui-progressbar')) {\n",
        "            $myPB.progressbar('value', 16);\n",
        "        } else {\n",
        "            $myPB.progressbar({value: 0, max: 98});\n",
        "        }\n",
        "        "
       ],
       "metadata": {},
       "output_type": "display_data",
       "text": [
        "<IPython.core.display.Javascript at 0x1fbb4400>"
       ]
      },
      {
       "javascript": [
        "$('div#8dace548-dd8c-4eef-8238-c9641d07c7a4').text('ETA:  0:00:03');"
       ],
       "metadata": {},
       "output_type": "display_data",
       "text": [
        "<IPython.core.display.Javascript at 0x1fbb4f60>"
       ]
      },
      {
       "javascript": [
        "$('div#3eeef062-d96b-4e44-b510-402fc0d0ab59').text('17 of 98');"
       ],
       "metadata": {},
       "output_type": "display_data",
       "text": [
        "<IPython.core.display.Javascript at 0x240a9080>"
       ]
      },
      {
       "javascript": [
        "$('div#b7664d59-c1aa-4889-91de-9b04dde52690').text(' 17%');"
       ],
       "metadata": {},
       "output_type": "display_data",
       "text": [
        "<IPython.core.display.Javascript at 0x240a9588>"
       ]
      },
      {
       "javascript": [
        "\n",
        "        var $myPB = $(\"div#29861ff2-2ca1-41c5-ac2f-b687f1f599ec\")\n",
        "        if ($myPB.hasClass('ui-progressbar')) {\n",
        "            $myPB.progressbar('value', 17);\n",
        "        } else {\n",
        "            $myPB.progressbar({value: 0, max: 98});\n",
        "        }\n",
        "        "
       ],
       "metadata": {},
       "output_type": "display_data",
       "text": [
        "<IPython.core.display.Javascript at 0x240a9588>"
       ]
      },
      {
       "javascript": [
        "$('div#8dace548-dd8c-4eef-8238-c9641d07c7a4').text('ETA:  0:00:03');"
       ],
       "metadata": {},
       "output_type": "display_data",
       "text": [
        "<IPython.core.display.Javascript at 0x240a99e8>"
       ]
      },
      {
       "javascript": [
        "$('div#3eeef062-d96b-4e44-b510-402fc0d0ab59').text('18 of 98');"
       ],
       "metadata": {},
       "output_type": "display_data",
       "text": [
        "<IPython.core.display.Javascript at 0x240a9a58>"
       ]
      },
      {
       "javascript": [
        "$('div#b7664d59-c1aa-4889-91de-9b04dde52690').text(' 18%');"
       ],
       "metadata": {},
       "output_type": "display_data",
       "text": [
        "<IPython.core.display.Javascript at 0x240a9b00>"
       ]
      },
      {
       "javascript": [
        "\n",
        "        var $myPB = $(\"div#29861ff2-2ca1-41c5-ac2f-b687f1f599ec\")\n",
        "        if ($myPB.hasClass('ui-progressbar')) {\n",
        "            $myPB.progressbar('value', 18);\n",
        "        } else {\n",
        "            $myPB.progressbar({value: 0, max: 98});\n",
        "        }\n",
        "        "
       ],
       "metadata": {},
       "output_type": "display_data",
       "text": [
        "<IPython.core.display.Javascript at 0x240a9b00>"
       ]
      },
      {
       "javascript": [
        "$('div#8dace548-dd8c-4eef-8238-c9641d07c7a4').text('ETA:  0:00:03');"
       ],
       "metadata": {},
       "output_type": "display_data",
       "text": [
        "<IPython.core.display.Javascript at 0x240a9ac8>"
       ]
      },
      {
       "javascript": [
        "$('div#3eeef062-d96b-4e44-b510-402fc0d0ab59').text('19 of 98');"
       ],
       "metadata": {},
       "output_type": "display_data",
       "text": [
        "<IPython.core.display.Javascript at 0x1bbda0b8>"
       ]
      },
      {
       "javascript": [
        "$('div#b7664d59-c1aa-4889-91de-9b04dde52690').text(' 19%');"
       ],
       "metadata": {},
       "output_type": "display_data",
       "text": [
        "<IPython.core.display.Javascript at 0x1bbda0b8>"
       ]
      },
      {
       "javascript": [
        "\n",
        "        var $myPB = $(\"div#29861ff2-2ca1-41c5-ac2f-b687f1f599ec\")\n",
        "        if ($myPB.hasClass('ui-progressbar')) {\n",
        "            $myPB.progressbar('value', 19);\n",
        "        } else {\n",
        "            $myPB.progressbar({value: 0, max: 98});\n",
        "        }\n",
        "        "
       ],
       "metadata": {},
       "output_type": "display_data",
       "text": [
        "<IPython.core.display.Javascript at 0x1bbdab00>"
       ]
      },
      {
       "javascript": [
        "$('div#8dace548-dd8c-4eef-8238-c9641d07c7a4').text('ETA:  0:00:03');"
       ],
       "metadata": {},
       "output_type": "display_data",
       "text": [
        "<IPython.core.display.Javascript at 0x1bbda518>"
       ]
      },
      {
       "javascript": [
        "$('div#3eeef062-d96b-4e44-b510-402fc0d0ab59').text('20 of 98');"
       ],
       "metadata": {},
       "output_type": "display_data",
       "text": [
        "<IPython.core.display.Javascript at 0x1bbda4a8>"
       ]
      },
      {
       "javascript": [
        "$('div#b7664d59-c1aa-4889-91de-9b04dde52690').text(' 20%');"
       ],
       "metadata": {},
       "output_type": "display_data",
       "text": [
        "<IPython.core.display.Javascript at 0x1bbda668>"
       ]
      },
      {
       "javascript": [
        "\n",
        "        var $myPB = $(\"div#29861ff2-2ca1-41c5-ac2f-b687f1f599ec\")\n",
        "        if ($myPB.hasClass('ui-progressbar')) {\n",
        "            $myPB.progressbar('value', 20);\n",
        "        } else {\n",
        "            $myPB.progressbar({value: 0, max: 98});\n",
        "        }\n",
        "        "
       ],
       "metadata": {},
       "output_type": "display_data",
       "text": [
        "<IPython.core.display.Javascript at 0x1bbdaef0>"
       ]
      },
      {
       "javascript": [
        "$('div#8dace548-dd8c-4eef-8238-c9641d07c7a4').text('ETA:  0:00:02');"
       ],
       "metadata": {},
       "output_type": "display_data",
       "text": [
        "<IPython.core.display.Javascript at 0x1bbdacc0>"
       ]
      },
      {
       "javascript": [
        "$('div#3eeef062-d96b-4e44-b510-402fc0d0ab59').text('21 of 98');"
       ],
       "metadata": {},
       "output_type": "display_data",
       "text": [
        "<IPython.core.display.Javascript at 0x21a75a90>"
       ]
      },
      {
       "javascript": [
        "$('div#b7664d59-c1aa-4889-91de-9b04dde52690').text(' 21%');"
       ],
       "metadata": {},
       "output_type": "display_data",
       "text": [
        "<IPython.core.display.Javascript at 0x21a755f8>"
       ]
      },
      {
       "javascript": [
        "\n",
        "        var $myPB = $(\"div#29861ff2-2ca1-41c5-ac2f-b687f1f599ec\")\n",
        "        if ($myPB.hasClass('ui-progressbar')) {\n",
        "            $myPB.progressbar('value', 21);\n",
        "        } else {\n",
        "            $myPB.progressbar({value: 0, max: 98});\n",
        "        }\n",
        "        "
       ],
       "metadata": {},
       "output_type": "display_data",
       "text": [
        "<IPython.core.display.Javascript at 0x21a755f8>"
       ]
      },
      {
       "javascript": [
        "$('div#8dace548-dd8c-4eef-8238-c9641d07c7a4').text('ETA:  0:00:02');"
       ],
       "metadata": {},
       "output_type": "display_data",
       "text": [
        "<IPython.core.display.Javascript at 0x21a75b70>"
       ]
      },
      {
       "javascript": [
        "$('div#3eeef062-d96b-4e44-b510-402fc0d0ab59').text('22 of 98');"
       ],
       "metadata": {},
       "output_type": "display_data",
       "text": [
        "<IPython.core.display.Javascript at 0x1a8f6e10>"
       ]
      },
      {
       "javascript": [
        "$('div#b7664d59-c1aa-4889-91de-9b04dde52690').text(' 22%');"
       ],
       "metadata": {},
       "output_type": "display_data",
       "text": [
        "<IPython.core.display.Javascript at 0x1a8f63c8>"
       ]
      },
      {
       "javascript": [
        "\n",
        "        var $myPB = $(\"div#29861ff2-2ca1-41c5-ac2f-b687f1f599ec\")\n",
        "        if ($myPB.hasClass('ui-progressbar')) {\n",
        "            $myPB.progressbar('value', 22);\n",
        "        } else {\n",
        "            $myPB.progressbar({value: 0, max: 98});\n",
        "        }\n",
        "        "
       ],
       "metadata": {},
       "output_type": "display_data",
       "text": [
        "<IPython.core.display.Javascript at 0x1a8f6748>"
       ]
      },
      {
       "javascript": [
        "$('div#8dace548-dd8c-4eef-8238-c9641d07c7a4').text('ETA:  0:00:02');"
       ],
       "metadata": {},
       "output_type": "display_data",
       "text": [
        "<IPython.core.display.Javascript at 0x1a8f6748>"
       ]
      },
      {
       "javascript": [
        "$('div#3eeef062-d96b-4e44-b510-402fc0d0ab59').text('23 of 98');"
       ],
       "metadata": {},
       "output_type": "display_data",
       "text": [
        "<IPython.core.display.Javascript at 0x1a8f6fd0>"
       ]
      },
      {
       "javascript": [
        "$('div#b7664d59-c1aa-4889-91de-9b04dde52690').text(' 23%');"
       ],
       "metadata": {},
       "output_type": "display_data",
       "text": [
        "<IPython.core.display.Javascript at 0x1a8f6780>"
       ]
      },
      {
       "javascript": [
        "\n",
        "        var $myPB = $(\"div#29861ff2-2ca1-41c5-ac2f-b687f1f599ec\")\n",
        "        if ($myPB.hasClass('ui-progressbar')) {\n",
        "            $myPB.progressbar('value', 23);\n",
        "        } else {\n",
        "            $myPB.progressbar({value: 0, max: 98});\n",
        "        }\n",
        "        "
       ],
       "metadata": {},
       "output_type": "display_data",
       "text": [
        "<IPython.core.display.Javascript at 0x1a8f6780>"
       ]
      },
      {
       "javascript": [
        "$('div#8dace548-dd8c-4eef-8238-c9641d07c7a4').text('ETA:  0:00:02');"
       ],
       "metadata": {},
       "output_type": "display_data",
       "text": [
        "<IPython.core.display.Javascript at 0x1a8f6e48>"
       ]
      },
      {
       "javascript": [
        "$('div#3eeef062-d96b-4e44-b510-402fc0d0ab59').text('24 of 98');"
       ],
       "metadata": {},
       "output_type": "display_data",
       "text": [
        "<IPython.core.display.Javascript at 0x1763f160>"
       ]
      },
      {
       "javascript": [
        "$('div#b7664d59-c1aa-4889-91de-9b04dde52690').text(' 24%');"
       ],
       "metadata": {},
       "output_type": "display_data",
       "text": [
        "<IPython.core.display.Javascript at 0x1763fe48>"
       ]
      },
      {
       "javascript": [
        "\n",
        "        var $myPB = $(\"div#29861ff2-2ca1-41c5-ac2f-b687f1f599ec\")\n",
        "        if ($myPB.hasClass('ui-progressbar')) {\n",
        "            $myPB.progressbar('value', 24);\n",
        "        } else {\n",
        "            $myPB.progressbar({value: 0, max: 98});\n",
        "        }\n",
        "        "
       ],
       "metadata": {},
       "output_type": "display_data",
       "text": [
        "<IPython.core.display.Javascript at 0x1763f4e0>"
       ]
      },
      {
       "javascript": [
        "$('div#8dace548-dd8c-4eef-8238-c9641d07c7a4').text('ETA:  0:00:02');"
       ],
       "metadata": {},
       "output_type": "display_data",
       "text": [
        "<IPython.core.display.Javascript at 0x1763fc88>"
       ]
      },
      {
       "javascript": [
        "$('div#3eeef062-d96b-4e44-b510-402fc0d0ab59').text('25 of 98');"
       ],
       "metadata": {},
       "output_type": "display_data",
       "text": [
        "<IPython.core.display.Javascript at 0x234d5ac8>"
       ]
      },
      {
       "javascript": [
        "$('div#b7664d59-c1aa-4889-91de-9b04dde52690').text(' 25%');"
       ],
       "metadata": {},
       "output_type": "display_data",
       "text": [
        "<IPython.core.display.Javascript at 0x234d59b0>"
       ]
      },
      {
       "javascript": [
        "\n",
        "        var $myPB = $(\"div#29861ff2-2ca1-41c5-ac2f-b687f1f599ec\")\n",
        "        if ($myPB.hasClass('ui-progressbar')) {\n",
        "            $myPB.progressbar('value', 25);\n",
        "        } else {\n",
        "            $myPB.progressbar({value: 0, max: 98});\n",
        "        }\n",
        "        "
       ],
       "metadata": {},
       "output_type": "display_data",
       "text": [
        "<IPython.core.display.Javascript at 0x234d5be0>"
       ]
      },
      {
       "javascript": [
        "$('div#8dace548-dd8c-4eef-8238-c9641d07c7a4').text('ETA:  0:00:03');"
       ],
       "metadata": {},
       "output_type": "display_data",
       "text": [
        "<IPython.core.display.Javascript at 0x234d5b38>"
       ]
      },
      {
       "javascript": [
        "$('div#3eeef062-d96b-4e44-b510-402fc0d0ab59').text('26 of 98');"
       ],
       "metadata": {},
       "output_type": "display_data",
       "text": [
        "<IPython.core.display.Javascript at 0x16e15128>"
       ]
      },
      {
       "javascript": [
        "$('div#b7664d59-c1aa-4889-91de-9b04dde52690').text(' 26%');"
       ],
       "metadata": {},
       "output_type": "display_data",
       "text": [
        "<IPython.core.display.Javascript at 0x16e15908>"
       ]
      },
      {
       "javascript": [
        "\n",
        "        var $myPB = $(\"div#29861ff2-2ca1-41c5-ac2f-b687f1f599ec\")\n",
        "        if ($myPB.hasClass('ui-progressbar')) {\n",
        "            $myPB.progressbar('value', 26);\n",
        "        } else {\n",
        "            $myPB.progressbar({value: 0, max: 98});\n",
        "        }\n",
        "        "
       ],
       "metadata": {},
       "output_type": "display_data",
       "text": [
        "<IPython.core.display.Javascript at 0x16e159e8>"
       ]
      },
      {
       "javascript": [
        "$('div#8dace548-dd8c-4eef-8238-c9641d07c7a4').text('ETA:  0:00:03');"
       ],
       "metadata": {},
       "output_type": "display_data",
       "text": [
        "<IPython.core.display.Javascript at 0x16e15358>"
       ]
      },
      {
       "javascript": [
        "$('div#3eeef062-d96b-4e44-b510-402fc0d0ab59').text('27 of 98');"
       ],
       "metadata": {},
       "output_type": "display_data",
       "text": [
        "<IPython.core.display.Javascript at 0x16e156a0>"
       ]
      },
      {
       "javascript": [
        "$('div#b7664d59-c1aa-4889-91de-9b04dde52690').text(' 27%');"
       ],
       "metadata": {},
       "output_type": "display_data",
       "text": [
        "<IPython.core.display.Javascript at 0x16e15ef0>"
       ]
      },
      {
       "javascript": [
        "\n",
        "        var $myPB = $(\"div#29861ff2-2ca1-41c5-ac2f-b687f1f599ec\")\n",
        "        if ($myPB.hasClass('ui-progressbar')) {\n",
        "            $myPB.progressbar('value', 27);\n",
        "        } else {\n",
        "            $myPB.progressbar({value: 0, max: 98});\n",
        "        }\n",
        "        "
       ],
       "metadata": {},
       "output_type": "display_data",
       "text": [
        "<IPython.core.display.Javascript at 0x16e15080>"
       ]
      },
      {
       "javascript": [
        "$('div#8dace548-dd8c-4eef-8238-c9641d07c7a4').text('ETA:  0:00:03');"
       ],
       "metadata": {},
       "output_type": "display_data",
       "text": [
        "<IPython.core.display.Javascript at 0x16e15080>"
       ]
      },
      {
       "javascript": [
        "$('div#3eeef062-d96b-4e44-b510-402fc0d0ab59').text('28 of 98');"
       ],
       "metadata": {},
       "output_type": "display_data",
       "text": [
        "<IPython.core.display.Javascript at 0x22d58e48>"
       ]
      },
      {
       "javascript": [
        "$('div#b7664d59-c1aa-4889-91de-9b04dde52690').text(' 28%');"
       ],
       "metadata": {},
       "output_type": "display_data",
       "text": [
        "<IPython.core.display.Javascript at 0x22d58208>"
       ]
      },
      {
       "javascript": [
        "\n",
        "        var $myPB = $(\"div#29861ff2-2ca1-41c5-ac2f-b687f1f599ec\")\n",
        "        if ($myPB.hasClass('ui-progressbar')) {\n",
        "            $myPB.progressbar('value', 28);\n",
        "        } else {\n",
        "            $myPB.progressbar({value: 0, max: 98});\n",
        "        }\n",
        "        "
       ],
       "metadata": {},
       "output_type": "display_data",
       "text": [
        "<IPython.core.display.Javascript at 0x22d58160>"
       ]
      },
      {
       "javascript": [
        "$('div#8dace548-dd8c-4eef-8238-c9641d07c7a4').text('ETA:  0:00:03');"
       ],
       "metadata": {},
       "output_type": "display_data",
       "text": [
        "<IPython.core.display.Javascript at 0x22d58828>"
       ]
      },
      {
       "javascript": [
        "$('div#3eeef062-d96b-4e44-b510-402fc0d0ab59').text('29 of 98');"
       ],
       "metadata": {},
       "output_type": "display_data",
       "text": [
        "<IPython.core.display.Javascript at 0x22d582b0>"
       ]
      },
      {
       "javascript": [
        "$('div#b7664d59-c1aa-4889-91de-9b04dde52690').text(' 29%');"
       ],
       "metadata": {},
       "output_type": "display_data",
       "text": [
        "<IPython.core.display.Javascript at 0x22d58d68>"
       ]
      },
      {
       "javascript": [
        "\n",
        "        var $myPB = $(\"div#29861ff2-2ca1-41c5-ac2f-b687f1f599ec\")\n",
        "        if ($myPB.hasClass('ui-progressbar')) {\n",
        "            $myPB.progressbar('value', 29);\n",
        "        } else {\n",
        "            $myPB.progressbar({value: 0, max: 98});\n",
        "        }\n",
        "        "
       ],
       "metadata": {},
       "output_type": "display_data",
       "text": [
        "<IPython.core.display.Javascript at 0x22d581d0>"
       ]
      },
      {
       "javascript": [
        "$('div#8dace548-dd8c-4eef-8238-c9641d07c7a4').text('ETA:  0:00:03');"
       ],
       "metadata": {},
       "output_type": "display_data",
       "text": [
        "<IPython.core.display.Javascript at 0x22d581d0>"
       ]
      },
      {
       "javascript": [
        "$('div#3eeef062-d96b-4e44-b510-402fc0d0ab59').text('30 of 98');"
       ],
       "metadata": {},
       "output_type": "display_data",
       "text": [
        "<IPython.core.display.Javascript at 0x179df940>"
       ]
      },
      {
       "javascript": [
        "$('div#b7664d59-c1aa-4889-91de-9b04dde52690').text(' 30%');"
       ],
       "metadata": {},
       "output_type": "display_data",
       "text": [
        "<IPython.core.display.Javascript at 0x179df860>"
       ]
      },
      {
       "javascript": [
        "\n",
        "        var $myPB = $(\"div#29861ff2-2ca1-41c5-ac2f-b687f1f599ec\")\n",
        "        if ($myPB.hasClass('ui-progressbar')) {\n",
        "            $myPB.progressbar('value', 30);\n",
        "        } else {\n",
        "            $myPB.progressbar({value: 0, max: 98});\n",
        "        }\n",
        "        "
       ],
       "metadata": {},
       "output_type": "display_data",
       "text": [
        "<IPython.core.display.Javascript at 0x179df860>"
       ]
      },
      {
       "javascript": [
        "$('div#8dace548-dd8c-4eef-8238-c9641d07c7a4').text('ETA:  0:00:03');"
       ],
       "metadata": {},
       "output_type": "display_data",
       "text": [
        "<IPython.core.display.Javascript at 0x179df7b8>"
       ]
      },
      {
       "javascript": [
        "$('div#3eeef062-d96b-4e44-b510-402fc0d0ab59').text('31 of 98');"
       ],
       "metadata": {},
       "output_type": "display_data",
       "text": [
        "<IPython.core.display.Javascript at 0x1f413278>"
       ]
      },
      {
       "javascript": [
        "$('div#b7664d59-c1aa-4889-91de-9b04dde52690').text(' 31%');"
       ],
       "metadata": {},
       "output_type": "display_data",
       "text": [
        "<IPython.core.display.Javascript at 0x1f4139e8>"
       ]
      },
      {
       "javascript": [
        "\n",
        "        var $myPB = $(\"div#29861ff2-2ca1-41c5-ac2f-b687f1f599ec\")\n",
        "        if ($myPB.hasClass('ui-progressbar')) {\n",
        "            $myPB.progressbar('value', 31);\n",
        "        } else {\n",
        "            $myPB.progressbar({value: 0, max: 98});\n",
        "        }\n",
        "        "
       ],
       "metadata": {},
       "output_type": "display_data",
       "text": [
        "<IPython.core.display.Javascript at 0x1f4134e0>"
       ]
      },
      {
       "javascript": [
        "$('div#8dace548-dd8c-4eef-8238-c9641d07c7a4').text('ETA:  0:00:03');"
       ],
       "metadata": {},
       "output_type": "display_data",
       "text": [
        "<IPython.core.display.Javascript at 0x1f413438>"
       ]
      },
      {
       "javascript": [
        "$('div#3eeef062-d96b-4e44-b510-402fc0d0ab59').text('32 of 98');"
       ],
       "metadata": {},
       "output_type": "display_data",
       "text": [
        "<IPython.core.display.Javascript at 0x1f0cc1d0>"
       ]
      },
      {
       "javascript": [
        "$('div#b7664d59-c1aa-4889-91de-9b04dde52690').text(' 32%');"
       ],
       "metadata": {},
       "output_type": "display_data",
       "text": [
        "<IPython.core.display.Javascript at 0x1f0ccef0>"
       ]
      },
      {
       "javascript": [
        "\n",
        "        var $myPB = $(\"div#29861ff2-2ca1-41c5-ac2f-b687f1f599ec\")\n",
        "        if ($myPB.hasClass('ui-progressbar')) {\n",
        "            $myPB.progressbar('value', 32);\n",
        "        } else {\n",
        "            $myPB.progressbar({value: 0, max: 98});\n",
        "        }\n",
        "        "
       ],
       "metadata": {},
       "output_type": "display_data",
       "text": [
        "<IPython.core.display.Javascript at 0x1f0ccef0>"
       ]
      },
      {
       "javascript": [
        "$('div#8dace548-dd8c-4eef-8238-c9641d07c7a4').text('ETA:  0:00:02');"
       ],
       "metadata": {},
       "output_type": "display_data",
       "text": [
        "<IPython.core.display.Javascript at 0x1f0ccd68>"
       ]
      },
      {
       "javascript": [
        "$('div#3eeef062-d96b-4e44-b510-402fc0d0ab59').text('33 of 98');"
       ],
       "metadata": {},
       "output_type": "display_data",
       "text": [
        "<IPython.core.display.Javascript at 0x1f0ccc88>"
       ]
      },
      {
       "javascript": [
        "$('div#b7664d59-c1aa-4889-91de-9b04dde52690').text(' 33%');"
       ],
       "metadata": {},
       "output_type": "display_data",
       "text": [
        "<IPython.core.display.Javascript at 0x1f0ccbe0>"
       ]
      },
      {
       "javascript": [
        "\n",
        "        var $myPB = $(\"div#29861ff2-2ca1-41c5-ac2f-b687f1f599ec\")\n",
        "        if ($myPB.hasClass('ui-progressbar')) {\n",
        "            $myPB.progressbar('value', 33);\n",
        "        } else {\n",
        "            $myPB.progressbar({value: 0, max: 98});\n",
        "        }\n",
        "        "
       ],
       "metadata": {},
       "output_type": "display_data",
       "text": [
        "<IPython.core.display.Javascript at 0x1f0ccb00>"
       ]
      },
      {
       "javascript": [
        "$('div#8dace548-dd8c-4eef-8238-c9641d07c7a4').text('ETA:  0:00:02');"
       ],
       "metadata": {},
       "output_type": "display_data",
       "text": [
        "<IPython.core.display.Javascript at 0x1f0ccb00>"
       ]
      },
      {
       "javascript": [
        "$('div#3eeef062-d96b-4e44-b510-402fc0d0ab59').text('34 of 98');"
       ],
       "metadata": {},
       "output_type": "display_data",
       "text": [
        "<IPython.core.display.Javascript at 0x20cee7f0>"
       ]
      },
      {
       "javascript": [
        "$('div#b7664d59-c1aa-4889-91de-9b04dde52690').text(' 34%');"
       ],
       "metadata": {},
       "output_type": "display_data",
       "text": [
        "<IPython.core.display.Javascript at 0x20cee198>"
       ]
      },
      {
       "javascript": [
        "\n",
        "        var $myPB = $(\"div#29861ff2-2ca1-41c5-ac2f-b687f1f599ec\")\n",
        "        if ($myPB.hasClass('ui-progressbar')) {\n",
        "            $myPB.progressbar('value', 34);\n",
        "        } else {\n",
        "            $myPB.progressbar({value: 0, max: 98});\n",
        "        }\n",
        "        "
       ],
       "metadata": {},
       "output_type": "display_data",
       "text": [
        "<IPython.core.display.Javascript at 0x20cee198>"
       ]
      },
      {
       "javascript": [
        "$('div#8dace548-dd8c-4eef-8238-c9641d07c7a4').text('ETA:  0:00:02');"
       ],
       "metadata": {},
       "output_type": "display_data",
       "text": [
        "<IPython.core.display.Javascript at 0x20ceec88>"
       ]
      },
      {
       "javascript": [
        "$('div#3eeef062-d96b-4e44-b510-402fc0d0ab59').text('35 of 98');"
       ],
       "metadata": {},
       "output_type": "display_data",
       "text": [
        "<IPython.core.display.Javascript at 0x20cee898>"
       ]
      },
      {
       "javascript": [
        "$('div#b7664d59-c1aa-4889-91de-9b04dde52690').text(' 35%');"
       ],
       "metadata": {},
       "output_type": "display_data",
       "text": [
        "<IPython.core.display.Javascript at 0x20cee7b8>"
       ]
      },
      {
       "javascript": [
        "\n",
        "        var $myPB = $(\"div#29861ff2-2ca1-41c5-ac2f-b687f1f599ec\")\n",
        "        if ($myPB.hasClass('ui-progressbar')) {\n",
        "            $myPB.progressbar('value', 35);\n",
        "        } else {\n",
        "            $myPB.progressbar({value: 0, max: 98});\n",
        "        }\n",
        "        "
       ],
       "metadata": {},
       "output_type": "display_data",
       "text": [
        "<IPython.core.display.Javascript at 0x20cee2e8>"
       ]
      },
      {
       "javascript": [
        "$('div#8dace548-dd8c-4eef-8238-c9641d07c7a4').text('ETA:  0:00:02');"
       ],
       "metadata": {},
       "output_type": "display_data",
       "text": [
        "<IPython.core.display.Javascript at 0x20ceef60>"
       ]
      },
      {
       "javascript": [
        "$('div#3eeef062-d96b-4e44-b510-402fc0d0ab59').text('36 of 98');"
       ],
       "metadata": {},
       "output_type": "display_data",
       "text": [
        "<IPython.core.display.Javascript at 0x20cee128>"
       ]
      },
      {
       "javascript": [
        "$('div#b7664d59-c1aa-4889-91de-9b04dde52690').text(' 36%');"
       ],
       "metadata": {},
       "output_type": "display_data",
       "text": [
        "<IPython.core.display.Javascript at 0x20cee0b8>"
       ]
      },
      {
       "javascript": [
        "\n",
        "        var $myPB = $(\"div#29861ff2-2ca1-41c5-ac2f-b687f1f599ec\")\n",
        "        if ($myPB.hasClass('ui-progressbar')) {\n",
        "            $myPB.progressbar('value', 36);\n",
        "        } else {\n",
        "            $myPB.progressbar({value: 0, max: 98});\n",
        "        }\n",
        "        "
       ],
       "metadata": {},
       "output_type": "display_data",
       "text": [
        "<IPython.core.display.Javascript at 0x20cee470>"
       ]
      },
      {
       "javascript": [
        "$('div#8dace548-dd8c-4eef-8238-c9641d07c7a4').text('ETA:  0:00:02');"
       ],
       "metadata": {},
       "output_type": "display_data",
       "text": [
        "<IPython.core.display.Javascript at 0x20cee048>"
       ]
      },
      {
       "javascript": [
        "$('div#3eeef062-d96b-4e44-b510-402fc0d0ab59').text('37 of 98');"
       ],
       "metadata": {},
       "output_type": "display_data",
       "text": [
        "<IPython.core.display.Javascript at 0x242f9e48>"
       ]
      },
      {
       "javascript": [
        "$('div#b7664d59-c1aa-4889-91de-9b04dde52690').text(' 37%');"
       ],
       "metadata": {},
       "output_type": "display_data",
       "text": [
        "<IPython.core.display.Javascript at 0x242f9f28>"
       ]
      },
      {
       "javascript": [
        "\n",
        "        var $myPB = $(\"div#29861ff2-2ca1-41c5-ac2f-b687f1f599ec\")\n",
        "        if ($myPB.hasClass('ui-progressbar')) {\n",
        "            $myPB.progressbar('value', 37);\n",
        "        } else {\n",
        "            $myPB.progressbar({value: 0, max: 98});\n",
        "        }\n",
        "        "
       ],
       "metadata": {},
       "output_type": "display_data",
       "text": [
        "<IPython.core.display.Javascript at 0x242f9f98>"
       ]
      },
      {
       "javascript": [
        "$('div#8dace548-dd8c-4eef-8238-c9641d07c7a4').text('ETA:  0:00:02');"
       ],
       "metadata": {},
       "output_type": "display_data",
       "text": [
        "<IPython.core.display.Javascript at 0x242f9f98>"
       ]
      },
      {
       "javascript": [
        "$('div#3eeef062-d96b-4e44-b510-402fc0d0ab59').text('38 of 98');"
       ],
       "metadata": {},
       "output_type": "display_data",
       "text": [
        "<IPython.core.display.Javascript at 0x242f9f98>"
       ]
      },
      {
       "javascript": [
        "$('div#b7664d59-c1aa-4889-91de-9b04dde52690').text(' 38%');"
       ],
       "metadata": {},
       "output_type": "display_data",
       "text": [
        "<IPython.core.display.Javascript at 0x242f9438>"
       ]
      },
      {
       "javascript": [
        "\n",
        "        var $myPB = $(\"div#29861ff2-2ca1-41c5-ac2f-b687f1f599ec\")\n",
        "        if ($myPB.hasClass('ui-progressbar')) {\n",
        "            $myPB.progressbar('value', 38);\n",
        "        } else {\n",
        "            $myPB.progressbar({value: 0, max: 98});\n",
        "        }\n",
        "        "
       ],
       "metadata": {},
       "output_type": "display_data",
       "text": [
        "<IPython.core.display.Javascript at 0x242f9908>"
       ]
      },
      {
       "javascript": [
        "$('div#8dace548-dd8c-4eef-8238-c9641d07c7a4').text('ETA:  0:00:02');"
       ],
       "metadata": {},
       "output_type": "display_data",
       "text": [
        "<IPython.core.display.Javascript at 0x242f92b0>"
       ]
      },
      {
       "javascript": [
        "$('div#3eeef062-d96b-4e44-b510-402fc0d0ab59').text('39 of 98');"
       ],
       "metadata": {},
       "output_type": "display_data",
       "text": [
        "<IPython.core.display.Javascript at 0x242f9ef0>"
       ]
      },
      {
       "javascript": [
        "$('div#b7664d59-c1aa-4889-91de-9b04dde52690').text(' 39%');"
       ],
       "metadata": {},
       "output_type": "display_data",
       "text": [
        "<IPython.core.display.Javascript at 0x242f9828>"
       ]
      },
      {
       "javascript": [
        "\n",
        "        var $myPB = $(\"div#29861ff2-2ca1-41c5-ac2f-b687f1f599ec\")\n",
        "        if ($myPB.hasClass('ui-progressbar')) {\n",
        "            $myPB.progressbar('value', 39);\n",
        "        } else {\n",
        "            $myPB.progressbar({value: 0, max: 98});\n",
        "        }\n",
        "        "
       ],
       "metadata": {},
       "output_type": "display_data",
       "text": [
        "<IPython.core.display.Javascript at 0x242f9240>"
       ]
      },
      {
       "javascript": [
        "$('div#8dace548-dd8c-4eef-8238-c9641d07c7a4').text('ETA:  0:00:02');"
       ],
       "metadata": {},
       "output_type": "display_data",
       "text": [
        "<IPython.core.display.Javascript at 0x242f90b8>"
       ]
      },
      {
       "javascript": [
        "$('div#3eeef062-d96b-4e44-b510-402fc0d0ab59').text('40 of 98');"
       ],
       "metadata": {},
       "output_type": "display_data",
       "text": [
        "<IPython.core.display.Javascript at 0x192ee160>"
       ]
      },
      {
       "javascript": [
        "$('div#b7664d59-c1aa-4889-91de-9b04dde52690').text(' 40%');"
       ],
       "metadata": {},
       "output_type": "display_data",
       "text": [
        "<IPython.core.display.Javascript at 0x192ee400>"
       ]
      },
      {
       "javascript": [
        "\n",
        "        var $myPB = $(\"div#29861ff2-2ca1-41c5-ac2f-b687f1f599ec\")\n",
        "        if ($myPB.hasClass('ui-progressbar')) {\n",
        "            $myPB.progressbar('value', 40);\n",
        "        } else {\n",
        "            $myPB.progressbar({value: 0, max: 98});\n",
        "        }\n",
        "        "
       ],
       "metadata": {},
       "output_type": "display_data",
       "text": [
        "<IPython.core.display.Javascript at 0x192eed30>"
       ]
      },
      {
       "javascript": [
        "$('div#8dace548-dd8c-4eef-8238-c9641d07c7a4').text('ETA:  0:00:02');"
       ],
       "metadata": {},
       "output_type": "display_data",
       "text": [
        "<IPython.core.display.Javascript at 0x192ee6d8>"
       ]
      },
      {
       "javascript": [
        "$('div#3eeef062-d96b-4e44-b510-402fc0d0ab59').text('41 of 98');"
       ],
       "metadata": {},
       "output_type": "display_data",
       "text": [
        "<IPython.core.display.Javascript at 0x192eecc0>"
       ]
      },
      {
       "javascript": [
        "$('div#b7664d59-c1aa-4889-91de-9b04dde52690').text(' 41%');"
       ],
       "metadata": {},
       "output_type": "display_data",
       "text": [
        "<IPython.core.display.Javascript at 0x192ee0b8>"
       ]
      },
      {
       "javascript": [
        "\n",
        "        var $myPB = $(\"div#29861ff2-2ca1-41c5-ac2f-b687f1f599ec\")\n",
        "        if ($myPB.hasClass('ui-progressbar')) {\n",
        "            $myPB.progressbar('value', 41);\n",
        "        } else {\n",
        "            $myPB.progressbar({value: 0, max: 98});\n",
        "        }\n",
        "        "
       ],
       "metadata": {},
       "output_type": "display_data",
       "text": [
        "<IPython.core.display.Javascript at 0x192ee780>"
       ]
      },
      {
       "javascript": [
        "$('div#8dace548-dd8c-4eef-8238-c9641d07c7a4').text('ETA:  0:00:02');"
       ],
       "metadata": {},
       "output_type": "display_data",
       "text": [
        "<IPython.core.display.Javascript at 0x192eef28>"
       ]
      },
      {
       "javascript": [
        "$('div#3eeef062-d96b-4e44-b510-402fc0d0ab59').text('42 of 98');"
       ],
       "metadata": {},
       "output_type": "display_data",
       "text": [
        "<IPython.core.display.Javascript at 0x192eee10>"
       ]
      },
      {
       "javascript": [
        "$('div#b7664d59-c1aa-4889-91de-9b04dde52690').text(' 42%');"
       ],
       "metadata": {},
       "output_type": "display_data",
       "text": [
        "<IPython.core.display.Javascript at 0x192eec88>"
       ]
      },
      {
       "javascript": [
        "\n",
        "        var $myPB = $(\"div#29861ff2-2ca1-41c5-ac2f-b687f1f599ec\")\n",
        "        if ($myPB.hasClass('ui-progressbar')) {\n",
        "            $myPB.progressbar('value', 42);\n",
        "        } else {\n",
        "            $myPB.progressbar({value: 0, max: 98});\n",
        "        }\n",
        "        "
       ],
       "metadata": {},
       "output_type": "display_data",
       "text": [
        "<IPython.core.display.Javascript at 0x192ee0b8>"
       ]
      },
      {
       "javascript": [
        "$('div#8dace548-dd8c-4eef-8238-c9641d07c7a4').text('ETA:  0:00:02');"
       ],
       "metadata": {},
       "output_type": "display_data",
       "text": [
        "<IPython.core.display.Javascript at 0x124fca58>"
       ]
      },
      {
       "javascript": [
        "$('div#3eeef062-d96b-4e44-b510-402fc0d0ab59').text('43 of 98');"
       ],
       "metadata": {},
       "output_type": "display_data",
       "text": [
        "<IPython.core.display.Javascript at 0x192eea58>"
       ]
      },
      {
       "javascript": [
        "$('div#b7664d59-c1aa-4889-91de-9b04dde52690').text(' 43%');"
       ],
       "metadata": {},
       "output_type": "display_data",
       "text": [
        "<IPython.core.display.Javascript at 0x192eeeb8>"
       ]
      },
      {
       "javascript": [
        "\n",
        "        var $myPB = $(\"div#29861ff2-2ca1-41c5-ac2f-b687f1f599ec\")\n",
        "        if ($myPB.hasClass('ui-progressbar')) {\n",
        "            $myPB.progressbar('value', 43);\n",
        "        } else {\n",
        "            $myPB.progressbar({value: 0, max: 98});\n",
        "        }\n",
        "        "
       ],
       "metadata": {},
       "output_type": "display_data",
       "text": [
        "<IPython.core.display.Javascript at 0x192ee668>"
       ]
      },
      {
       "javascript": [
        "$('div#8dace548-dd8c-4eef-8238-c9641d07c7a4').text('ETA:  0:00:02');"
       ],
       "metadata": {},
       "output_type": "display_data",
       "text": [
        "<IPython.core.display.Javascript at 0x124fca58>"
       ]
      },
      {
       "javascript": [
        "$('div#3eeef062-d96b-4e44-b510-402fc0d0ab59').text('44 of 98');"
       ],
       "metadata": {},
       "output_type": "display_data",
       "text": [
        "<IPython.core.display.Javascript at 0x20433940>"
       ]
      },
      {
       "javascript": [
        "$('div#b7664d59-c1aa-4889-91de-9b04dde52690').text(' 44%');"
       ],
       "metadata": {},
       "output_type": "display_data",
       "text": [
        "<IPython.core.display.Javascript at 0x20433278>"
       ]
      },
      {
       "javascript": [
        "\n",
        "        var $myPB = $(\"div#29861ff2-2ca1-41c5-ac2f-b687f1f599ec\")\n",
        "        if ($myPB.hasClass('ui-progressbar')) {\n",
        "            $myPB.progressbar('value', 44);\n",
        "        } else {\n",
        "            $myPB.progressbar({value: 0, max: 98});\n",
        "        }\n",
        "        "
       ],
       "metadata": {},
       "output_type": "display_data",
       "text": [
        "<IPython.core.display.Javascript at 0x124fca58>"
       ]
      },
      {
       "javascript": [
        "$('div#8dace548-dd8c-4eef-8238-c9641d07c7a4').text('ETA:  0:00:02');"
       ],
       "metadata": {},
       "output_type": "display_data",
       "text": [
        "<IPython.core.display.Javascript at 0x20433278>"
       ]
      },
      {
       "javascript": [
        "$('div#3eeef062-d96b-4e44-b510-402fc0d0ab59').text('45 of 98');"
       ],
       "metadata": {},
       "output_type": "display_data",
       "text": [
        "<IPython.core.display.Javascript at 0x124fca58>"
       ]
      },
      {
       "javascript": [
        "$('div#b7664d59-c1aa-4889-91de-9b04dde52690').text(' 45%');"
       ],
       "metadata": {},
       "output_type": "display_data",
       "text": [
        "<IPython.core.display.Javascript at 0x20433ef0>"
       ]
      },
      {
       "javascript": [
        "\n",
        "        var $myPB = $(\"div#29861ff2-2ca1-41c5-ac2f-b687f1f599ec\")\n",
        "        if ($myPB.hasClass('ui-progressbar')) {\n",
        "            $myPB.progressbar('value', 45);\n",
        "        } else {\n",
        "            $myPB.progressbar({value: 0, max: 98});\n",
        "        }\n",
        "        "
       ],
       "metadata": {},
       "output_type": "display_data",
       "text": [
        "<IPython.core.display.Javascript at 0x20433320>"
       ]
      },
      {
       "javascript": [
        "$('div#8dace548-dd8c-4eef-8238-c9641d07c7a4').text('ETA:  0:00:01');"
       ],
       "metadata": {},
       "output_type": "display_data",
       "text": [
        "<IPython.core.display.Javascript at 0x204335c0>"
       ]
      },
      {
       "javascript": [
        "$('div#3eeef062-d96b-4e44-b510-402fc0d0ab59').text('46 of 98');"
       ],
       "metadata": {},
       "output_type": "display_data",
       "text": [
        "<IPython.core.display.Javascript at 0x20433d68>"
       ]
      },
      {
       "javascript": [
        "$('div#b7664d59-c1aa-4889-91de-9b04dde52690').text(' 46%');"
       ],
       "metadata": {},
       "output_type": "display_data",
       "text": [
        "<IPython.core.display.Javascript at 0x204339b0>"
       ]
      },
      {
       "javascript": [
        "\n",
        "        var $myPB = $(\"div#29861ff2-2ca1-41c5-ac2f-b687f1f599ec\")\n",
        "        if ($myPB.hasClass('ui-progressbar')) {\n",
        "            $myPB.progressbar('value', 46);\n",
        "        } else {\n",
        "            $myPB.progressbar({value: 0, max: 98});\n",
        "        }\n",
        "        "
       ],
       "metadata": {},
       "output_type": "display_data",
       "text": [
        "<IPython.core.display.Javascript at 0x20433b38>"
       ]
      },
      {
       "javascript": [
        "$('div#8dace548-dd8c-4eef-8238-c9641d07c7a4').text('ETA:  0:00:01');"
       ],
       "metadata": {},
       "output_type": "display_data",
       "text": [
        "<IPython.core.display.Javascript at 0x20433630>"
       ]
      },
      {
       "javascript": [
        "$('div#3eeef062-d96b-4e44-b510-402fc0d0ab59').text('47 of 98');"
       ],
       "metadata": {},
       "output_type": "display_data",
       "text": [
        "<IPython.core.display.Javascript at 0x20433dd8>"
       ]
      },
      {
       "javascript": [
        "$('div#b7664d59-c1aa-4889-91de-9b04dde52690').text(' 47%');"
       ],
       "metadata": {},
       "output_type": "display_data",
       "text": [
        "<IPython.core.display.Javascript at 0x20433dd8>"
       ]
      },
      {
       "javascript": [
        "\n",
        "        var $myPB = $(\"div#29861ff2-2ca1-41c5-ac2f-b687f1f599ec\")\n",
        "        if ($myPB.hasClass('ui-progressbar')) {\n",
        "            $myPB.progressbar('value', 47);\n",
        "        } else {\n",
        "            $myPB.progressbar({value: 0, max: 98});\n",
        "        }\n",
        "        "
       ],
       "metadata": {},
       "output_type": "display_data",
       "text": [
        "<IPython.core.display.Javascript at 0x20433470>"
       ]
      },
      {
       "javascript": [
        "$('div#8dace548-dd8c-4eef-8238-c9641d07c7a4').text('ETA:  0:00:01');"
       ],
       "metadata": {},
       "output_type": "display_data",
       "text": [
        "<IPython.core.display.Javascript at 0x20433358>"
       ]
      },
      {
       "javascript": [
        "$('div#3eeef062-d96b-4e44-b510-402fc0d0ab59').text('48 of 98');"
       ],
       "metadata": {},
       "output_type": "display_data",
       "text": [
        "<IPython.core.display.Javascript at 0x20433518>"
       ]
      },
      {
       "javascript": [
        "$('div#b7664d59-c1aa-4889-91de-9b04dde52690').text(' 48%');"
       ],
       "metadata": {},
       "output_type": "display_data",
       "text": [
        "<IPython.core.display.Javascript at 0x1b7a8748>"
       ]
      },
      {
       "javascript": [
        "\n",
        "        var $myPB = $(\"div#29861ff2-2ca1-41c5-ac2f-b687f1f599ec\")\n",
        "        if ($myPB.hasClass('ui-progressbar')) {\n",
        "            $myPB.progressbar('value', 48);\n",
        "        } else {\n",
        "            $myPB.progressbar({value: 0, max: 98});\n",
        "        }\n",
        "        "
       ],
       "metadata": {},
       "output_type": "display_data",
       "text": [
        "<IPython.core.display.Javascript at 0x1b7a8e80>"
       ]
      },
      {
       "javascript": [
        "$('div#8dace548-dd8c-4eef-8238-c9641d07c7a4').text('ETA:  0:00:01');"
       ],
       "metadata": {},
       "output_type": "display_data",
       "text": [
        "<IPython.core.display.Javascript at 0x1b7a8cf8>"
       ]
      },
      {
       "javascript": [
        "$('div#3eeef062-d96b-4e44-b510-402fc0d0ab59').text('49 of 98');"
       ],
       "metadata": {},
       "output_type": "display_data",
       "text": [
        "<IPython.core.display.Javascript at 0x1b7a8198>"
       ]
      },
      {
       "javascript": [
        "$('div#b7664d59-c1aa-4889-91de-9b04dde52690').text(' 50%');"
       ],
       "metadata": {},
       "output_type": "display_data",
       "text": [
        "<IPython.core.display.Javascript at 0x1b7a87f0>"
       ]
      },
      {
       "javascript": [
        "\n",
        "        var $myPB = $(\"div#29861ff2-2ca1-41c5-ac2f-b687f1f599ec\")\n",
        "        if ($myPB.hasClass('ui-progressbar')) {\n",
        "            $myPB.progressbar('value', 49);\n",
        "        } else {\n",
        "            $myPB.progressbar({value: 0, max: 98});\n",
        "        }\n",
        "        "
       ],
       "metadata": {},
       "output_type": "display_data",
       "text": [
        "<IPython.core.display.Javascript at 0x1b7a87f0>"
       ]
      },
      {
       "javascript": [
        "$('div#8dace548-dd8c-4eef-8238-c9641d07c7a4').text('ETA:  0:00:01');"
       ],
       "metadata": {},
       "output_type": "display_data",
       "text": [
        "<IPython.core.display.Javascript at 0x1b7a8860>"
       ]
      },
      {
       "javascript": [
        "$('div#3eeef062-d96b-4e44-b510-402fc0d0ab59').text('50 of 98');"
       ],
       "metadata": {},
       "output_type": "display_data",
       "text": [
        "<IPython.core.display.Javascript at 0x1b7a82e8>"
       ]
      },
      {
       "javascript": [
        "$('div#b7664d59-c1aa-4889-91de-9b04dde52690').text(' 51%');"
       ],
       "metadata": {},
       "output_type": "display_data",
       "text": [
        "<IPython.core.display.Javascript at 0x1b7a8c88>"
       ]
      },
      {
       "javascript": [
        "\n",
        "        var $myPB = $(\"div#29861ff2-2ca1-41c5-ac2f-b687f1f599ec\")\n",
        "        if ($myPB.hasClass('ui-progressbar')) {\n",
        "            $myPB.progressbar('value', 50);\n",
        "        } else {\n",
        "            $myPB.progressbar({value: 0, max: 98});\n",
        "        }\n",
        "        "
       ],
       "metadata": {},
       "output_type": "display_data",
       "text": [
        "<IPython.core.display.Javascript at 0x1b7a8b00>"
       ]
      },
      {
       "javascript": [
        "$('div#8dace548-dd8c-4eef-8238-c9641d07c7a4').text('ETA:  0:00:01');"
       ],
       "metadata": {},
       "output_type": "display_data",
       "text": [
        "<IPython.core.display.Javascript at 0x1b7a8b00>"
       ]
      },
      {
       "javascript": [
        "$('div#3eeef062-d96b-4e44-b510-402fc0d0ab59').text('51 of 98');"
       ],
       "metadata": {},
       "output_type": "display_data",
       "text": [
        "<IPython.core.display.Javascript at 0x21febb70>"
       ]
      },
      {
       "javascript": [
        "$('div#b7664d59-c1aa-4889-91de-9b04dde52690').text(' 52%');"
       ],
       "metadata": {},
       "output_type": "display_data",
       "text": [
        "<IPython.core.display.Javascript at 0x21febb70>"
       ]
      },
      {
       "javascript": [
        "\n",
        "        var $myPB = $(\"div#29861ff2-2ca1-41c5-ac2f-b687f1f599ec\")\n",
        "        if ($myPB.hasClass('ui-progressbar')) {\n",
        "            $myPB.progressbar('value', 51);\n",
        "        } else {\n",
        "            $myPB.progressbar({value: 0, max: 98});\n",
        "        }\n",
        "        "
       ],
       "metadata": {},
       "output_type": "display_data",
       "text": [
        "<IPython.core.display.Javascript at 0x21febfd0>"
       ]
      },
      {
       "javascript": [
        "$('div#8dace548-dd8c-4eef-8238-c9641d07c7a4').text('ETA:  0:00:01');"
       ],
       "metadata": {},
       "output_type": "display_data",
       "text": [
        "<IPython.core.display.Javascript at 0x21feb6d8>"
       ]
      },
      {
       "javascript": [
        "$('div#3eeef062-d96b-4e44-b510-402fc0d0ab59').text('52 of 98');"
       ],
       "metadata": {},
       "output_type": "display_data",
       "text": [
        "<IPython.core.display.Javascript at 0x2059fc18>"
       ]
      },
      {
       "javascript": [
        "$('div#b7664d59-c1aa-4889-91de-9b04dde52690').text(' 53%');"
       ],
       "metadata": {},
       "output_type": "display_data",
       "text": [
        "<IPython.core.display.Javascript at 0x2059fa58>"
       ]
      },
      {
       "javascript": [
        "\n",
        "        var $myPB = $(\"div#29861ff2-2ca1-41c5-ac2f-b687f1f599ec\")\n",
        "        if ($myPB.hasClass('ui-progressbar')) {\n",
        "            $myPB.progressbar('value', 52);\n",
        "        } else {\n",
        "            $myPB.progressbar({value: 0, max: 98});\n",
        "        }\n",
        "        "
       ],
       "metadata": {},
       "output_type": "display_data",
       "text": [
        "<IPython.core.display.Javascript at 0x2059fd30>"
       ]
      },
      {
       "javascript": [
        "$('div#8dace548-dd8c-4eef-8238-c9641d07c7a4').text('ETA:  0:00:01');"
       ],
       "metadata": {},
       "output_type": "display_data",
       "text": [
        "<IPython.core.display.Javascript at 0x2059fd30>"
       ]
      },
      {
       "javascript": [
        "$('div#3eeef062-d96b-4e44-b510-402fc0d0ab59').text('53 of 98');"
       ],
       "metadata": {},
       "output_type": "display_data",
       "text": [
        "<IPython.core.display.Javascript at 0x1750b550>"
       ]
      },
      {
       "javascript": [
        "$('div#b7664d59-c1aa-4889-91de-9b04dde52690').text(' 54%');"
       ],
       "metadata": {},
       "output_type": "display_data",
       "text": [
        "<IPython.core.display.Javascript at 0x1750b550>"
       ]
      },
      {
       "javascript": [
        "\n",
        "        var $myPB = $(\"div#29861ff2-2ca1-41c5-ac2f-b687f1f599ec\")\n",
        "        if ($myPB.hasClass('ui-progressbar')) {\n",
        "            $myPB.progressbar('value', 53);\n",
        "        } else {\n",
        "            $myPB.progressbar({value: 0, max: 98});\n",
        "        }\n",
        "        "
       ],
       "metadata": {},
       "output_type": "display_data",
       "text": [
        "<IPython.core.display.Javascript at 0x1750b828>"
       ]
      },
      {
       "javascript": [
        "$('div#8dace548-dd8c-4eef-8238-c9641d07c7a4').text('ETA:  0:00:01');"
       ],
       "metadata": {},
       "output_type": "display_data",
       "text": [
        "<IPython.core.display.Javascript at 0x1750beb8>"
       ]
      },
      {
       "javascript": [
        "$('div#3eeef062-d96b-4e44-b510-402fc0d0ab59').text('54 of 98');"
       ],
       "metadata": {},
       "output_type": "display_data",
       "text": [
        "<IPython.core.display.Javascript at 0x1bf4b6d8>"
       ]
      },
      {
       "javascript": [
        "$('div#b7664d59-c1aa-4889-91de-9b04dde52690').text(' 55%');"
       ],
       "metadata": {},
       "output_type": "display_data",
       "text": [
        "<IPython.core.display.Javascript at 0x1bf4b048>"
       ]
      },
      {
       "javascript": [
        "\n",
        "        var $myPB = $(\"div#29861ff2-2ca1-41c5-ac2f-b687f1f599ec\")\n",
        "        if ($myPB.hasClass('ui-progressbar')) {\n",
        "            $myPB.progressbar('value', 54);\n",
        "        } else {\n",
        "            $myPB.progressbar({value: 0, max: 98});\n",
        "        }\n",
        "        "
       ],
       "metadata": {},
       "output_type": "display_data",
       "text": [
        "<IPython.core.display.Javascript at 0x1f1456d8>"
       ]
      },
      {
       "javascript": [
        "$('div#8dace548-dd8c-4eef-8238-c9641d07c7a4').text('ETA:  0:00:01');"
       ],
       "metadata": {},
       "output_type": "display_data",
       "text": [
        "<IPython.core.display.Javascript at 0x1f1457f0>"
       ]
      },
      {
       "javascript": [
        "$('div#3eeef062-d96b-4e44-b510-402fc0d0ab59').text('55 of 98');"
       ],
       "metadata": {},
       "output_type": "display_data",
       "text": [
        "<IPython.core.display.Javascript at 0x1f1459e8>"
       ]
      },
      {
       "javascript": [
        "$('div#b7664d59-c1aa-4889-91de-9b04dde52690').text(' 56%');"
       ],
       "metadata": {},
       "output_type": "display_data",
       "text": [
        "<IPython.core.display.Javascript at 0x1f145a58>"
       ]
      },
      {
       "javascript": [
        "\n",
        "        var $myPB = $(\"div#29861ff2-2ca1-41c5-ac2f-b687f1f599ec\")\n",
        "        if ($myPB.hasClass('ui-progressbar')) {\n",
        "            $myPB.progressbar('value', 55);\n",
        "        } else {\n",
        "            $myPB.progressbar({value: 0, max: 98});\n",
        "        }\n",
        "        "
       ],
       "metadata": {},
       "output_type": "display_data",
       "text": [
        "<IPython.core.display.Javascript at 0x1f145f28>"
       ]
      },
      {
       "javascript": [
        "$('div#8dace548-dd8c-4eef-8238-c9641d07c7a4').text('ETA:  0:00:01');"
       ],
       "metadata": {},
       "output_type": "display_data",
       "text": [
        "<IPython.core.display.Javascript at 0x1f145c50>"
       ]
      },
      {
       "javascript": [
        "$('div#3eeef062-d96b-4e44-b510-402fc0d0ab59').text('56 of 98');"
       ],
       "metadata": {},
       "output_type": "display_data",
       "text": [
        "<IPython.core.display.Javascript at 0x1f145eb8>"
       ]
      },
      {
       "javascript": [
        "$('div#b7664d59-c1aa-4889-91de-9b04dde52690').text(' 57%');"
       ],
       "metadata": {},
       "output_type": "display_data",
       "text": [
        "<IPython.core.display.Javascript at 0x1f145668>"
       ]
      },
      {
       "javascript": [
        "\n",
        "        var $myPB = $(\"div#29861ff2-2ca1-41c5-ac2f-b687f1f599ec\")\n",
        "        if ($myPB.hasClass('ui-progressbar')) {\n",
        "            $myPB.progressbar('value', 56);\n",
        "        } else {\n",
        "            $myPB.progressbar({value: 0, max: 98});\n",
        "        }\n",
        "        "
       ],
       "metadata": {},
       "output_type": "display_data",
       "text": [
        "<IPython.core.display.Javascript at 0x1f145588>"
       ]
      },
      {
       "javascript": [
        "$('div#8dace548-dd8c-4eef-8238-c9641d07c7a4').text('ETA:  0:00:01');"
       ],
       "metadata": {},
       "output_type": "display_data",
       "text": [
        "<IPython.core.display.Javascript at 0x1f145588>"
       ]
      },
      {
       "javascript": [
        "$('div#3eeef062-d96b-4e44-b510-402fc0d0ab59').text('57 of 98');"
       ],
       "metadata": {},
       "output_type": "display_data",
       "text": [
        "<IPython.core.display.Javascript at 0x1b18e198>"
       ]
      },
      {
       "javascript": [
        "$('div#b7664d59-c1aa-4889-91de-9b04dde52690').text(' 58%');"
       ],
       "metadata": {},
       "output_type": "display_data",
       "text": [
        "<IPython.core.display.Javascript at 0x1b18e860>"
       ]
      },
      {
       "javascript": [
        "\n",
        "        var $myPB = $(\"div#29861ff2-2ca1-41c5-ac2f-b687f1f599ec\")\n",
        "        if ($myPB.hasClass('ui-progressbar')) {\n",
        "            $myPB.progressbar('value', 57);\n",
        "        } else {\n",
        "            $myPB.progressbar({value: 0, max: 98});\n",
        "        }\n",
        "        "
       ],
       "metadata": {},
       "output_type": "display_data",
       "text": [
        "<IPython.core.display.Javascript at 0x1f145588>"
       ]
      },
      {
       "javascript": [
        "$('div#8dace548-dd8c-4eef-8238-c9641d07c7a4').text('ETA:  0:00:01');"
       ],
       "metadata": {},
       "output_type": "display_data",
       "text": [
        "<IPython.core.display.Javascript at 0x1b18e860>"
       ]
      },
      {
       "javascript": [
        "$('div#3eeef062-d96b-4e44-b510-402fc0d0ab59').text('58 of 98');"
       ],
       "metadata": {},
       "output_type": "display_data",
       "text": [
        "<IPython.core.display.Javascript at 0x20d29630>"
       ]
      },
      {
       "javascript": [
        "$('div#b7664d59-c1aa-4889-91de-9b04dde52690').text(' 59%');"
       ],
       "metadata": {},
       "output_type": "display_data",
       "text": [
        "<IPython.core.display.Javascript at 0x20d29128>"
       ]
      },
      {
       "javascript": [
        "\n",
        "        var $myPB = $(\"div#29861ff2-2ca1-41c5-ac2f-b687f1f599ec\")\n",
        "        if ($myPB.hasClass('ui-progressbar')) {\n",
        "            $myPB.progressbar('value', 58);\n",
        "        } else {\n",
        "            $myPB.progressbar({value: 0, max: 98});\n",
        "        }\n",
        "        "
       ],
       "metadata": {},
       "output_type": "display_data",
       "text": [
        "<IPython.core.display.Javascript at 0x20d29400>"
       ]
      },
      {
       "javascript": [
        "$('div#8dace548-dd8c-4eef-8238-c9641d07c7a4').text('ETA:  0:00:01');"
       ],
       "metadata": {},
       "output_type": "display_data",
       "text": [
        "<IPython.core.display.Javascript at 0x20d29400>"
       ]
      },
      {
       "javascript": [
        "$('div#3eeef062-d96b-4e44-b510-402fc0d0ab59').text('59 of 98');"
       ],
       "metadata": {},
       "output_type": "display_data",
       "text": [
        "<IPython.core.display.Javascript at 0x20d290b8>"
       ]
      },
      {
       "javascript": [
        "$('div#b7664d59-c1aa-4889-91de-9b04dde52690').text(' 60%');"
       ],
       "metadata": {},
       "output_type": "display_data",
       "text": [
        "<IPython.core.display.Javascript at 0x20d29a58>"
       ]
      },
      {
       "javascript": [
        "\n",
        "        var $myPB = $(\"div#29861ff2-2ca1-41c5-ac2f-b687f1f599ec\")\n",
        "        if ($myPB.hasClass('ui-progressbar')) {\n",
        "            $myPB.progressbar('value', 59);\n",
        "        } else {\n",
        "            $myPB.progressbar({value: 0, max: 98});\n",
        "        }\n",
        "        "
       ],
       "metadata": {},
       "output_type": "display_data",
       "text": [
        "<IPython.core.display.Javascript at 0x20d29a58>"
       ]
      },
      {
       "javascript": [
        "$('div#8dace548-dd8c-4eef-8238-c9641d07c7a4').text('ETA:  0:00:01');"
       ],
       "metadata": {},
       "output_type": "display_data",
       "text": [
        "<IPython.core.display.Javascript at 0x20d29198>"
       ]
      },
      {
       "javascript": [
        "$('div#3eeef062-d96b-4e44-b510-402fc0d0ab59').text('60 of 98');"
       ],
       "metadata": {},
       "output_type": "display_data",
       "text": [
        "<IPython.core.display.Javascript at 0x20d29320>"
       ]
      },
      {
       "javascript": [
        "$('div#b7664d59-c1aa-4889-91de-9b04dde52690').text(' 61%');"
       ],
       "metadata": {},
       "output_type": "display_data",
       "text": [
        "<IPython.core.display.Javascript at 0x20d29898>"
       ]
      },
      {
       "javascript": [
        "\n",
        "        var $myPB = $(\"div#29861ff2-2ca1-41c5-ac2f-b687f1f599ec\")\n",
        "        if ($myPB.hasClass('ui-progressbar')) {\n",
        "            $myPB.progressbar('value', 60);\n",
        "        } else {\n",
        "            $myPB.progressbar({value: 0, max: 98});\n",
        "        }\n",
        "        "
       ],
       "metadata": {},
       "output_type": "display_data",
       "text": [
        "<IPython.core.display.Javascript at 0x20d29a20>"
       ]
      },
      {
       "javascript": [
        "$('div#8dace548-dd8c-4eef-8238-c9641d07c7a4').text('ETA:  0:00:01');"
       ],
       "metadata": {},
       "output_type": "display_data",
       "text": [
        "<IPython.core.display.Javascript at 0x20d11748>"
       ]
      },
      {
       "javascript": [
        "$('div#3eeef062-d96b-4e44-b510-402fc0d0ab59').text('61 of 98');"
       ],
       "metadata": {},
       "output_type": "display_data",
       "text": [
        "<IPython.core.display.Javascript at 0x2195fcf8>"
       ]
      },
      {
       "javascript": [
        "$('div#b7664d59-c1aa-4889-91de-9b04dde52690').text(' 62%');"
       ],
       "metadata": {},
       "output_type": "display_data",
       "text": [
        "<IPython.core.display.Javascript at 0x2195fcf8>"
       ]
      },
      {
       "javascript": [
        "\n",
        "        var $myPB = $(\"div#29861ff2-2ca1-41c5-ac2f-b687f1f599ec\")\n",
        "        if ($myPB.hasClass('ui-progressbar')) {\n",
        "            $myPB.progressbar('value', 61);\n",
        "        } else {\n",
        "            $myPB.progressbar({value: 0, max: 98});\n",
        "        }\n",
        "        "
       ],
       "metadata": {},
       "output_type": "display_data",
       "text": [
        "<IPython.core.display.Javascript at 0x2195fac8>"
       ]
      },
      {
       "javascript": [
        "$('div#8dace548-dd8c-4eef-8238-c9641d07c7a4').text('ETA:  0:00:01');"
       ],
       "metadata": {},
       "output_type": "display_data",
       "text": [
        "<IPython.core.display.Javascript at 0x2195feb8>"
       ]
      },
      {
       "javascript": [
        "$('div#3eeef062-d96b-4e44-b510-402fc0d0ab59').text('62 of 98');"
       ],
       "metadata": {},
       "output_type": "display_data",
       "text": [
        "<IPython.core.display.Javascript at 0x1efce438>"
       ]
      },
      {
       "javascript": [
        "$('div#b7664d59-c1aa-4889-91de-9b04dde52690').text(' 63%');"
       ],
       "metadata": {},
       "output_type": "display_data",
       "text": [
        "<IPython.core.display.Javascript at 0x1efcee10>"
       ]
      },
      {
       "javascript": [
        "\n",
        "        var $myPB = $(\"div#29861ff2-2ca1-41c5-ac2f-b687f1f599ec\")\n",
        "        if ($myPB.hasClass('ui-progressbar')) {\n",
        "            $myPB.progressbar('value', 62);\n",
        "        } else {\n",
        "            $myPB.progressbar({value: 0, max: 98});\n",
        "        }\n",
        "        "
       ],
       "metadata": {},
       "output_type": "display_data",
       "text": [
        "<IPython.core.display.Javascript at 0x1efcee10>"
       ]
      },
      {
       "javascript": [
        "$('div#8dace548-dd8c-4eef-8238-c9641d07c7a4').text('ETA:  0:00:01');"
       ],
       "metadata": {},
       "output_type": "display_data",
       "text": [
        "<IPython.core.display.Javascript at 0x1efce550>"
       ]
      },
      {
       "javascript": [
        "$('div#3eeef062-d96b-4e44-b510-402fc0d0ab59').text('63 of 98');"
       ],
       "metadata": {},
       "output_type": "display_data",
       "text": [
        "<IPython.core.display.Javascript at 0x21b2bda0>"
       ]
      },
      {
       "javascript": [
        "$('div#b7664d59-c1aa-4889-91de-9b04dde52690').text(' 64%');"
       ],
       "metadata": {},
       "output_type": "display_data",
       "text": [
        "<IPython.core.display.Javascript at 0x21b2b1d0>"
       ]
      },
      {
       "javascript": [
        "\n",
        "        var $myPB = $(\"div#29861ff2-2ca1-41c5-ac2f-b687f1f599ec\")\n",
        "        if ($myPB.hasClass('ui-progressbar')) {\n",
        "            $myPB.progressbar('value', 63);\n",
        "        } else {\n",
        "            $myPB.progressbar({value: 0, max: 98});\n",
        "        }\n",
        "        "
       ],
       "metadata": {},
       "output_type": "display_data",
       "text": [
        "<IPython.core.display.Javascript at 0x21b2bfd0>"
       ]
      },
      {
       "javascript": [
        "$('div#8dace548-dd8c-4eef-8238-c9641d07c7a4').text('ETA:  0:00:01');"
       ],
       "metadata": {},
       "output_type": "display_data",
       "text": [
        "<IPython.core.display.Javascript at 0x21b2bfd0>"
       ]
      },
      {
       "javascript": [
        "$('div#3eeef062-d96b-4e44-b510-402fc0d0ab59').text('64 of 98');"
       ],
       "metadata": {},
       "output_type": "display_data",
       "text": [
        "<IPython.core.display.Javascript at 0x2314eb38>"
       ]
      },
      {
       "javascript": [
        "$('div#b7664d59-c1aa-4889-91de-9b04dde52690').text(' 65%');"
       ],
       "metadata": {},
       "output_type": "display_data",
       "text": [
        "<IPython.core.display.Javascript at 0x2314eac8>"
       ]
      },
      {
       "javascript": [
        "\n",
        "        var $myPB = $(\"div#29861ff2-2ca1-41c5-ac2f-b687f1f599ec\")\n",
        "        if ($myPB.hasClass('ui-progressbar')) {\n",
        "            $myPB.progressbar('value', 64);\n",
        "        } else {\n",
        "            $myPB.progressbar({value: 0, max: 98});\n",
        "        }\n",
        "        "
       ],
       "metadata": {},
       "output_type": "display_data",
       "text": [
        "<IPython.core.display.Javascript at 0x2314ea20>"
       ]
      },
      {
       "javascript": [
        "$('div#8dace548-dd8c-4eef-8238-c9641d07c7a4').text('ETA:  0:00:01');"
       ],
       "metadata": {},
       "output_type": "display_data",
       "text": [
        "<IPython.core.display.Javascript at 0x2314ee10>"
       ]
      },
      {
       "javascript": [
        "$('div#3eeef062-d96b-4e44-b510-402fc0d0ab59').text('65 of 98');"
       ],
       "metadata": {},
       "output_type": "display_data",
       "text": [
        "<IPython.core.display.Javascript at 0x20bdbb38>"
       ]
      },
      {
       "javascript": [
        "$('div#b7664d59-c1aa-4889-91de-9b04dde52690').text(' 66%');"
       ],
       "metadata": {},
       "output_type": "display_data",
       "text": [
        "<IPython.core.display.Javascript at 0x22d6d978>"
       ]
      },
      {
       "javascript": [
        "\n",
        "        var $myPB = $(\"div#29861ff2-2ca1-41c5-ac2f-b687f1f599ec\")\n",
        "        if ($myPB.hasClass('ui-progressbar')) {\n",
        "            $myPB.progressbar('value', 65);\n",
        "        } else {\n",
        "            $myPB.progressbar({value: 0, max: 98});\n",
        "        }\n",
        "        "
       ],
       "metadata": {},
       "output_type": "display_data",
       "text": [
        "<IPython.core.display.Javascript at 0x22d6d080>"
       ]
      },
      {
       "javascript": [
        "$('div#8dace548-dd8c-4eef-8238-c9641d07c7a4').text('ETA:  0:00:01');"
       ],
       "metadata": {},
       "output_type": "display_data",
       "text": [
        "<IPython.core.display.Javascript at 0x22d6d208>"
       ]
      },
      {
       "javascript": [
        "$('div#3eeef062-d96b-4e44-b510-402fc0d0ab59').text('66 of 98');"
       ],
       "metadata": {},
       "output_type": "display_data",
       "text": [
        "<IPython.core.display.Javascript at 0x1a990e48>"
       ]
      },
      {
       "javascript": [
        "$('div#b7664d59-c1aa-4889-91de-9b04dde52690').text(' 67%');"
       ],
       "metadata": {},
       "output_type": "display_data",
       "text": [
        "<IPython.core.display.Javascript at 0x1a3dc160>"
       ]
      },
      {
       "javascript": [
        "\n",
        "        var $myPB = $(\"div#29861ff2-2ca1-41c5-ac2f-b687f1f599ec\")\n",
        "        if ($myPB.hasClass('ui-progressbar')) {\n",
        "            $myPB.progressbar('value', 66);\n",
        "        } else {\n",
        "            $myPB.progressbar({value: 0, max: 98});\n",
        "        }\n",
        "        "
       ],
       "metadata": {},
       "output_type": "display_data",
       "text": [
        "<IPython.core.display.Javascript at 0x1a3dce10>"
       ]
      },
      {
       "javascript": [
        "$('div#8dace548-dd8c-4eef-8238-c9641d07c7a4').text('ETA:  0:00:01');"
       ],
       "metadata": {},
       "output_type": "display_data",
       "text": [
        "<IPython.core.display.Javascript at 0x1a3dc240>"
       ]
      },
      {
       "javascript": [
        "$('div#3eeef062-d96b-4e44-b510-402fc0d0ab59').text('67 of 98');"
       ],
       "metadata": {},
       "output_type": "display_data",
       "text": [
        "<IPython.core.display.Javascript at 0x1b353c50>"
       ]
      },
      {
       "javascript": [
        "$('div#b7664d59-c1aa-4889-91de-9b04dde52690').text(' 68%');"
       ],
       "metadata": {},
       "output_type": "display_data",
       "text": [
        "<IPython.core.display.Javascript at 0x1b353c50>"
       ]
      },
      {
       "javascript": [
        "\n",
        "        var $myPB = $(\"div#29861ff2-2ca1-41c5-ac2f-b687f1f599ec\")\n",
        "        if ($myPB.hasClass('ui-progressbar')) {\n",
        "            $myPB.progressbar('value', 67);\n",
        "        } else {\n",
        "            $myPB.progressbar({value: 0, max: 98});\n",
        "        }\n",
        "        "
       ],
       "metadata": {},
       "output_type": "display_data",
       "text": [
        "<IPython.core.display.Javascript at 0x1b353438>"
       ]
      },
      {
       "javascript": [
        "$('div#8dace548-dd8c-4eef-8238-c9641d07c7a4').text('ETA:  0:00:01');"
       ],
       "metadata": {},
       "output_type": "display_data",
       "text": [
        "<IPython.core.display.Javascript at 0x1b353710>"
       ]
      },
      {
       "javascript": [
        "$('div#3eeef062-d96b-4e44-b510-402fc0d0ab59').text('68 of 98');"
       ],
       "metadata": {},
       "output_type": "display_data",
       "text": [
        "<IPython.core.display.Javascript at 0x1b353e48>"
       ]
      },
      {
       "javascript": [
        "$('div#b7664d59-c1aa-4889-91de-9b04dde52690').text(' 69%');"
       ],
       "metadata": {},
       "output_type": "display_data",
       "text": [
        "<IPython.core.display.Javascript at 0x1b353b70>"
       ]
      },
      {
       "javascript": [
        "\n",
        "        var $myPB = $(\"div#29861ff2-2ca1-41c5-ac2f-b687f1f599ec\")\n",
        "        if ($myPB.hasClass('ui-progressbar')) {\n",
        "            $myPB.progressbar('value', 68);\n",
        "        } else {\n",
        "            $myPB.progressbar({value: 0, max: 98});\n",
        "        }\n",
        "        "
       ],
       "metadata": {},
       "output_type": "display_data",
       "text": [
        "<IPython.core.display.Javascript at 0x1b353b70>"
       ]
      },
      {
       "javascript": [
        "$('div#8dace548-dd8c-4eef-8238-c9641d07c7a4').text('ETA:  0:00:01');"
       ],
       "metadata": {},
       "output_type": "display_data",
       "text": [
        "<IPython.core.display.Javascript at 0x1b353208>"
       ]
      },
      {
       "javascript": [
        "$('div#3eeef062-d96b-4e44-b510-402fc0d0ab59').text('69 of 98');"
       ],
       "metadata": {},
       "output_type": "display_data",
       "text": [
        "<IPython.core.display.Javascript at 0x1b353fd0>"
       ]
      },
      {
       "javascript": [
        "$('div#b7664d59-c1aa-4889-91de-9b04dde52690').text(' 70%');"
       ],
       "metadata": {},
       "output_type": "display_data",
       "text": [
        "<IPython.core.display.Javascript at 0x2057e240>"
       ]
      },
      {
       "javascript": [
        "\n",
        "        var $myPB = $(\"div#29861ff2-2ca1-41c5-ac2f-b687f1f599ec\")\n",
        "        if ($myPB.hasClass('ui-progressbar')) {\n",
        "            $myPB.progressbar('value', 69);\n",
        "        } else {\n",
        "            $myPB.progressbar({value: 0, max: 98});\n",
        "        }\n",
        "        "
       ],
       "metadata": {},
       "output_type": "display_data",
       "text": [
        "<IPython.core.display.Javascript at 0x1b353fd0>"
       ]
      },
      {
       "javascript": [
        "$('div#8dace548-dd8c-4eef-8238-c9641d07c7a4').text('ETA:  0:00:01');"
       ],
       "metadata": {},
       "output_type": "display_data",
       "text": [
        "<IPython.core.display.Javascript at 0x2057e240>"
       ]
      },
      {
       "javascript": [
        "$('div#3eeef062-d96b-4e44-b510-402fc0d0ab59').text('70 of 98');"
       ],
       "metadata": {},
       "output_type": "display_data",
       "text": [
        "<IPython.core.display.Javascript at 0x2057ee10>"
       ]
      },
      {
       "javascript": [
        "$('div#b7664d59-c1aa-4889-91de-9b04dde52690').text(' 71%');"
       ],
       "metadata": {},
       "output_type": "display_data",
       "text": [
        "<IPython.core.display.Javascript at 0x2057e160>"
       ]
      },
      {
       "javascript": [
        "\n",
        "        var $myPB = $(\"div#29861ff2-2ca1-41c5-ac2f-b687f1f599ec\")\n",
        "        if ($myPB.hasClass('ui-progressbar')) {\n",
        "            $myPB.progressbar('value', 70);\n",
        "        } else {\n",
        "            $myPB.progressbar({value: 0, max: 98});\n",
        "        }\n",
        "        "
       ],
       "metadata": {},
       "output_type": "display_data",
       "text": [
        "<IPython.core.display.Javascript at 0x2057e160>"
       ]
      },
      {
       "javascript": [
        "$('div#8dace548-dd8c-4eef-8238-c9641d07c7a4').text('ETA:  0:00:01');"
       ],
       "metadata": {},
       "output_type": "display_data",
       "text": [
        "<IPython.core.display.Javascript at 0x2057eb70>"
       ]
      },
      {
       "javascript": [
        "$('div#3eeef062-d96b-4e44-b510-402fc0d0ab59').text('71 of 98');"
       ],
       "metadata": {},
       "output_type": "display_data",
       "text": [
        "<IPython.core.display.Javascript at 0x1f744d68>"
       ]
      },
      {
       "javascript": [
        "$('div#b7664d59-c1aa-4889-91de-9b04dde52690').text(' 72%');"
       ],
       "metadata": {},
       "output_type": "display_data",
       "text": [
        "<IPython.core.display.Javascript at 0x1f7442e8>"
       ]
      },
      {
       "javascript": [
        "\n",
        "        var $myPB = $(\"div#29861ff2-2ca1-41c5-ac2f-b687f1f599ec\")\n",
        "        if ($myPB.hasClass('ui-progressbar')) {\n",
        "            $myPB.progressbar('value', 71);\n",
        "        } else {\n",
        "            $myPB.progressbar({value: 0, max: 98});\n",
        "        }\n",
        "        "
       ],
       "metadata": {},
       "output_type": "display_data",
       "text": [
        "<IPython.core.display.Javascript at 0x1f7442e8>"
       ]
      },
      {
       "javascript": [
        "$('div#8dace548-dd8c-4eef-8238-c9641d07c7a4').text('ETA:  0:00:01');"
       ],
       "metadata": {},
       "output_type": "display_data",
       "text": [
        "<IPython.core.display.Javascript at 0x1f744748>"
       ]
      },
      {
       "javascript": [
        "$('div#3eeef062-d96b-4e44-b510-402fc0d0ab59').text('72 of 98');"
       ],
       "metadata": {},
       "output_type": "display_data",
       "text": [
        "<IPython.core.display.Javascript at 0x1f744e80>"
       ]
      },
      {
       "javascript": [
        "$('div#b7664d59-c1aa-4889-91de-9b04dde52690').text(' 73%');"
       ],
       "metadata": {},
       "output_type": "display_data",
       "text": [
        "<IPython.core.display.Javascript at 0x1f7444a8>"
       ]
      },
      {
       "javascript": [
        "\n",
        "        var $myPB = $(\"div#29861ff2-2ca1-41c5-ac2f-b687f1f599ec\")\n",
        "        if ($myPB.hasClass('ui-progressbar')) {\n",
        "            $myPB.progressbar('value', 72);\n",
        "        } else {\n",
        "            $myPB.progressbar({value: 0, max: 98});\n",
        "        }\n",
        "        "
       ],
       "metadata": {},
       "output_type": "display_data",
       "text": [
        "<IPython.core.display.Javascript at 0x1f7444a8>"
       ]
      },
      {
       "javascript": [
        "$('div#8dace548-dd8c-4eef-8238-c9641d07c7a4').text('ETA:  0:00:01');"
       ],
       "metadata": {},
       "output_type": "display_data",
       "text": [
        "<IPython.core.display.Javascript at 0x1f7443c8>"
       ]
      },
      {
       "javascript": [
        "$('div#3eeef062-d96b-4e44-b510-402fc0d0ab59').text('73 of 98');"
       ],
       "metadata": {},
       "output_type": "display_data",
       "text": [
        "<IPython.core.display.Javascript at 0x21efcdd8>"
       ]
      },
      {
       "javascript": [
        "$('div#b7664d59-c1aa-4889-91de-9b04dde52690').text(' 74%');"
       ],
       "metadata": {},
       "output_type": "display_data",
       "text": [
        "<IPython.core.display.Javascript at 0x21efc518>"
       ]
      },
      {
       "javascript": [
        "\n",
        "        var $myPB = $(\"div#29861ff2-2ca1-41c5-ac2f-b687f1f599ec\")\n",
        "        if ($myPB.hasClass('ui-progressbar')) {\n",
        "            $myPB.progressbar('value', 73);\n",
        "        } else {\n",
        "            $myPB.progressbar({value: 0, max: 98});\n",
        "        }\n",
        "        "
       ],
       "metadata": {},
       "output_type": "display_data",
       "text": [
        "<IPython.core.display.Javascript at 0x21efc518>"
       ]
      },
      {
       "javascript": [
        "$('div#8dace548-dd8c-4eef-8238-c9641d07c7a4').text('ETA:  0:00:01');"
       ],
       "metadata": {},
       "output_type": "display_data",
       "text": [
        "<IPython.core.display.Javascript at 0x21efcb00>"
       ]
      },
      {
       "javascript": [
        "$('div#3eeef062-d96b-4e44-b510-402fc0d0ab59').text('74 of 98');"
       ],
       "metadata": {},
       "output_type": "display_data",
       "text": [
        "<IPython.core.display.Javascript at 0x21efc390>"
       ]
      },
      {
       "javascript": [
        "$('div#b7664d59-c1aa-4889-91de-9b04dde52690').text(' 75%');"
       ],
       "metadata": {},
       "output_type": "display_data",
       "text": [
        "<IPython.core.display.Javascript at 0x21efc390>"
       ]
      },
      {
       "javascript": [
        "\n",
        "        var $myPB = $(\"div#29861ff2-2ca1-41c5-ac2f-b687f1f599ec\")\n",
        "        if ($myPB.hasClass('ui-progressbar')) {\n",
        "            $myPB.progressbar('value', 74);\n",
        "        } else {\n",
        "            $myPB.progressbar({value: 0, max: 98});\n",
        "        }\n",
        "        "
       ],
       "metadata": {},
       "output_type": "display_data",
       "text": [
        "<IPython.core.display.Javascript at 0x17701be0>"
       ]
      },
      {
       "javascript": [
        "$('div#8dace548-dd8c-4eef-8238-c9641d07c7a4').text('ETA:  0:00:01');"
       ],
       "metadata": {},
       "output_type": "display_data",
       "text": [
        "<IPython.core.display.Javascript at 0x17701a90>"
       ]
      },
      {
       "javascript": [
        "$('div#3eeef062-d96b-4e44-b510-402fc0d0ab59').text('75 of 98');"
       ],
       "metadata": {},
       "output_type": "display_data",
       "text": [
        "<IPython.core.display.Javascript at 0x177017f0>"
       ]
      },
      {
       "javascript": [
        "$('div#b7664d59-c1aa-4889-91de-9b04dde52690').text(' 76%');"
       ],
       "metadata": {},
       "output_type": "display_data",
       "text": [
        "<IPython.core.display.Javascript at 0x17701048>"
       ]
      },
      {
       "javascript": [
        "\n",
        "        var $myPB = $(\"div#29861ff2-2ca1-41c5-ac2f-b687f1f599ec\")\n",
        "        if ($myPB.hasClass('ui-progressbar')) {\n",
        "            $myPB.progressbar('value', 75);\n",
        "        } else {\n",
        "            $myPB.progressbar({value: 0, max: 98});\n",
        "        }\n",
        "        "
       ],
       "metadata": {},
       "output_type": "display_data",
       "text": [
        "<IPython.core.display.Javascript at 0x17701048>"
       ]
      },
      {
       "javascript": [
        "$('div#8dace548-dd8c-4eef-8238-c9641d07c7a4').text('ETA:  0:00:01');"
       ],
       "metadata": {},
       "output_type": "display_data",
       "text": [
        "<IPython.core.display.Javascript at 0x17701400>"
       ]
      },
      {
       "javascript": [
        "$('div#3eeef062-d96b-4e44-b510-402fc0d0ab59').text('76 of 98');"
       ],
       "metadata": {},
       "output_type": "display_data",
       "text": [
        "<IPython.core.display.Javascript at 0x21657630>"
       ]
      },
      {
       "javascript": [
        "$('div#b7664d59-c1aa-4889-91de-9b04dde52690').text(' 77%');"
       ],
       "metadata": {},
       "output_type": "display_data",
       "text": [
        "<IPython.core.display.Javascript at 0x21657240>"
       ]
      },
      {
       "javascript": [
        "\n",
        "        var $myPB = $(\"div#29861ff2-2ca1-41c5-ac2f-b687f1f599ec\")\n",
        "        if ($myPB.hasClass('ui-progressbar')) {\n",
        "            $myPB.progressbar('value', 76);\n",
        "        } else {\n",
        "            $myPB.progressbar({value: 0, max: 98});\n",
        "        }\n",
        "        "
       ],
       "metadata": {},
       "output_type": "display_data",
       "text": [
        "<IPython.core.display.Javascript at 0x21657240>"
       ]
      },
      {
       "javascript": [
        "$('div#8dace548-dd8c-4eef-8238-c9641d07c7a4').text('ETA:  0:00:01');"
       ],
       "metadata": {},
       "output_type": "display_data",
       "text": [
        "<IPython.core.display.Javascript at 0x21657dd8>"
       ]
      },
      {
       "javascript": [
        "$('div#3eeef062-d96b-4e44-b510-402fc0d0ab59').text('77 of 98');"
       ],
       "metadata": {},
       "output_type": "display_data",
       "text": [
        "<IPython.core.display.Javascript at 0x1a36f9e8>"
       ]
      },
      {
       "javascript": [
        "$('div#b7664d59-c1aa-4889-91de-9b04dde52690').text(' 78%');"
       ],
       "metadata": {},
       "output_type": "display_data",
       "text": [
        "<IPython.core.display.Javascript at 0x1a36f0b8>"
       ]
      },
      {
       "javascript": [
        "\n",
        "        var $myPB = $(\"div#29861ff2-2ca1-41c5-ac2f-b687f1f599ec\")\n",
        "        if ($myPB.hasClass('ui-progressbar')) {\n",
        "            $myPB.progressbar('value', 77);\n",
        "        } else {\n",
        "            $myPB.progressbar({value: 0, max: 98});\n",
        "        }\n",
        "        "
       ],
       "metadata": {},
       "output_type": "display_data",
       "text": [
        "<IPython.core.display.Javascript at 0x1a36f518>"
       ]
      },
      {
       "javascript": [
        "$('div#8dace548-dd8c-4eef-8238-c9641d07c7a4').text('ETA:  0:00:00');"
       ],
       "metadata": {},
       "output_type": "display_data",
       "text": [
        "<IPython.core.display.Javascript at 0x1a36f9e8>"
       ]
      },
      {
       "javascript": [
        "$('div#3eeef062-d96b-4e44-b510-402fc0d0ab59').text('78 of 98');"
       ],
       "metadata": {},
       "output_type": "display_data",
       "text": [
        "<IPython.core.display.Javascript at 0x2461b5f8>"
       ]
      },
      {
       "javascript": [
        "$('div#b7664d59-c1aa-4889-91de-9b04dde52690').text(' 79%');"
       ],
       "metadata": {},
       "output_type": "display_data",
       "text": [
        "<IPython.core.display.Javascript at 0x2461b780>"
       ]
      },
      {
       "javascript": [
        "\n",
        "        var $myPB = $(\"div#29861ff2-2ca1-41c5-ac2f-b687f1f599ec\")\n",
        "        if ($myPB.hasClass('ui-progressbar')) {\n",
        "            $myPB.progressbar('value', 78);\n",
        "        } else {\n",
        "            $myPB.progressbar({value: 0, max: 98});\n",
        "        }\n",
        "        "
       ],
       "metadata": {},
       "output_type": "display_data",
       "text": [
        "<IPython.core.display.Javascript at 0x2461b780>"
       ]
      },
      {
       "javascript": [
        "$('div#8dace548-dd8c-4eef-8238-c9641d07c7a4').text('ETA:  0:00:00');"
       ],
       "metadata": {},
       "output_type": "display_data",
       "text": [
        "<IPython.core.display.Javascript at 0x2461b080>"
       ]
      },
      {
       "javascript": [
        "$('div#3eeef062-d96b-4e44-b510-402fc0d0ab59').text('79 of 98');"
       ],
       "metadata": {},
       "output_type": "display_data",
       "text": [
        "<IPython.core.display.Javascript at 0x2461bd30>"
       ]
      },
      {
       "javascript": [
        "$('div#b7664d59-c1aa-4889-91de-9b04dde52690').text(' 80%');"
       ],
       "metadata": {},
       "output_type": "display_data",
       "text": [
        "<IPython.core.display.Javascript at 0x2461bd30>"
       ]
      },
      {
       "javascript": [
        "\n",
        "        var $myPB = $(\"div#29861ff2-2ca1-41c5-ac2f-b687f1f599ec\")\n",
        "        if ($myPB.hasClass('ui-progressbar')) {\n",
        "            $myPB.progressbar('value', 79);\n",
        "        } else {\n",
        "            $myPB.progressbar({value: 0, max: 98});\n",
        "        }\n",
        "        "
       ],
       "metadata": {},
       "output_type": "display_data",
       "text": [
        "<IPython.core.display.Javascript at 0x2461b978>"
       ]
      },
      {
       "javascript": [
        "$('div#8dace548-dd8c-4eef-8238-c9641d07c7a4').text('ETA:  0:00:00');"
       ],
       "metadata": {},
       "output_type": "display_data",
       "text": [
        "<IPython.core.display.Javascript at 0x2461b438>"
       ]
      },
      {
       "javascript": [
        "$('div#3eeef062-d96b-4e44-b510-402fc0d0ab59').text('80 of 98');"
       ],
       "metadata": {},
       "output_type": "display_data",
       "text": [
        "<IPython.core.display.Javascript at 0x1b204438>"
       ]
      },
      {
       "javascript": [
        "$('div#b7664d59-c1aa-4889-91de-9b04dde52690').text(' 81%');"
       ],
       "metadata": {},
       "output_type": "display_data",
       "text": [
        "<IPython.core.display.Javascript at 0x1b204a20>"
       ]
      },
      {
       "javascript": [
        "\n",
        "        var $myPB = $(\"div#29861ff2-2ca1-41c5-ac2f-b687f1f599ec\")\n",
        "        if ($myPB.hasClass('ui-progressbar')) {\n",
        "            $myPB.progressbar('value', 80);\n",
        "        } else {\n",
        "            $myPB.progressbar({value: 0, max: 98});\n",
        "        }\n",
        "        "
       ],
       "metadata": {},
       "output_type": "display_data",
       "text": [
        "<IPython.core.display.Javascript at 0x1b204a20>"
       ]
      },
      {
       "javascript": [
        "$('div#8dace548-dd8c-4eef-8238-c9641d07c7a4').text('ETA:  0:00:00');"
       ],
       "metadata": {},
       "output_type": "display_data",
       "text": [
        "<IPython.core.display.Javascript at 0x1b204e80>"
       ]
      },
      {
       "javascript": [
        "$('div#3eeef062-d96b-4e44-b510-402fc0d0ab59').text('81 of 98');"
       ],
       "metadata": {},
       "output_type": "display_data",
       "text": [
        "<IPython.core.display.Javascript at 0x1a679d30>"
       ]
      },
      {
       "javascript": [
        "$('div#b7664d59-c1aa-4889-91de-9b04dde52690').text(' 82%');"
       ],
       "metadata": {},
       "output_type": "display_data",
       "text": [
        "<IPython.core.display.Javascript at 0x1a679828>"
       ]
      },
      {
       "javascript": [
        "\n",
        "        var $myPB = $(\"div#29861ff2-2ca1-41c5-ac2f-b687f1f599ec\")\n",
        "        if ($myPB.hasClass('ui-progressbar')) {\n",
        "            $myPB.progressbar('value', 81);\n",
        "        } else {\n",
        "            $myPB.progressbar({value: 0, max: 98});\n",
        "        }\n",
        "        "
       ],
       "metadata": {},
       "output_type": "display_data",
       "text": [
        "<IPython.core.display.Javascript at 0x1a679828>"
       ]
      },
      {
       "javascript": [
        "$('div#8dace548-dd8c-4eef-8238-c9641d07c7a4').text('ETA:  0:00:00');"
       ],
       "metadata": {},
       "output_type": "display_data",
       "text": [
        "<IPython.core.display.Javascript at 0x1a679a58>"
       ]
      },
      {
       "javascript": [
        "$('div#3eeef062-d96b-4e44-b510-402fc0d0ab59').text('82 of 98');"
       ],
       "metadata": {},
       "output_type": "display_data",
       "text": [
        "<IPython.core.display.Javascript at 0x1a6792e8>"
       ]
      },
      {
       "javascript": [
        "$('div#b7664d59-c1aa-4889-91de-9b04dde52690').text(' 83%');"
       ],
       "metadata": {},
       "output_type": "display_data",
       "text": [
        "<IPython.core.display.Javascript at 0x23bd5748>"
       ]
      },
      {
       "javascript": [
        "\n",
        "        var $myPB = $(\"div#29861ff2-2ca1-41c5-ac2f-b687f1f599ec\")\n",
        "        if ($myPB.hasClass('ui-progressbar')) {\n",
        "            $myPB.progressbar('value', 82);\n",
        "        } else {\n",
        "            $myPB.progressbar({value: 0, max: 98});\n",
        "        }\n",
        "        "
       ],
       "metadata": {},
       "output_type": "display_data",
       "text": [
        "<IPython.core.display.Javascript at 0x1a6792e8>"
       ]
      },
      {
       "javascript": [
        "$('div#8dace548-dd8c-4eef-8238-c9641d07c7a4').text('ETA:  0:00:00');"
       ],
       "metadata": {},
       "output_type": "display_data",
       "text": [
        "<IPython.core.display.Javascript at 0x23bd5748>"
       ]
      },
      {
       "javascript": [
        "$('div#3eeef062-d96b-4e44-b510-402fc0d0ab59').text('83 of 98');"
       ],
       "metadata": {},
       "output_type": "display_data",
       "text": [
        "<IPython.core.display.Javascript at 0x23bd5208>"
       ]
      },
      {
       "javascript": [
        "$('div#b7664d59-c1aa-4889-91de-9b04dde52690').text(' 84%');"
       ],
       "metadata": {},
       "output_type": "display_data",
       "text": [
        "<IPython.core.display.Javascript at 0x23bd54e0>"
       ]
      },
      {
       "javascript": [
        "\n",
        "        var $myPB = $(\"div#29861ff2-2ca1-41c5-ac2f-b687f1f599ec\")\n",
        "        if ($myPB.hasClass('ui-progressbar')) {\n",
        "            $myPB.progressbar('value', 83);\n",
        "        } else {\n",
        "            $myPB.progressbar({value: 0, max: 98});\n",
        "        }\n",
        "        "
       ],
       "metadata": {},
       "output_type": "display_data",
       "text": [
        "<IPython.core.display.Javascript at 0x23bd54e0>"
       ]
      },
      {
       "javascript": [
        "$('div#8dace548-dd8c-4eef-8238-c9641d07c7a4').text('ETA:  0:00:00');"
       ],
       "metadata": {},
       "output_type": "display_data",
       "text": [
        "<IPython.core.display.Javascript at 0x23bd5518>"
       ]
      },
      {
       "javascript": [
        "$('div#3eeef062-d96b-4e44-b510-402fc0d0ab59').text('84 of 98');"
       ],
       "metadata": {},
       "output_type": "display_data",
       "text": [
        "<IPython.core.display.Javascript at 0x23818898>"
       ]
      },
      {
       "javascript": [
        "$('div#b7664d59-c1aa-4889-91de-9b04dde52690').text(' 85%');"
       ],
       "metadata": {},
       "output_type": "display_data",
       "text": [
        "<IPython.core.display.Javascript at 0x23818898>"
       ]
      },
      {
       "javascript": [
        "\n",
        "        var $myPB = $(\"div#29861ff2-2ca1-41c5-ac2f-b687f1f599ec\")\n",
        "        if ($myPB.hasClass('ui-progressbar')) {\n",
        "            $myPB.progressbar('value', 84);\n",
        "        } else {\n",
        "            $myPB.progressbar({value: 0, max: 98});\n",
        "        }\n",
        "        "
       ],
       "metadata": {},
       "output_type": "display_data",
       "text": [
        "<IPython.core.display.Javascript at 0x238182b0>"
       ]
      },
      {
       "javascript": [
        "$('div#8dace548-dd8c-4eef-8238-c9641d07c7a4').text('ETA:  0:00:00');"
       ],
       "metadata": {},
       "output_type": "display_data",
       "text": [
        "<IPython.core.display.Javascript at 0x238186d8>"
       ]
      },
      {
       "javascript": [
        "$('div#3eeef062-d96b-4e44-b510-402fc0d0ab59').text('85 of 98');"
       ],
       "metadata": {},
       "output_type": "display_data",
       "text": [
        "<IPython.core.display.Javascript at 0x1f273a58>"
       ]
      },
      {
       "javascript": [
        "$('div#b7664d59-c1aa-4889-91de-9b04dde52690').text(' 86%');"
       ],
       "metadata": {},
       "output_type": "display_data",
       "text": [
        "<IPython.core.display.Javascript at 0x1f273a58>"
       ]
      },
      {
       "javascript": [
        "\n",
        "        var $myPB = $(\"div#29861ff2-2ca1-41c5-ac2f-b687f1f599ec\")\n",
        "        if ($myPB.hasClass('ui-progressbar')) {\n",
        "            $myPB.progressbar('value', 85);\n",
        "        } else {\n",
        "            $myPB.progressbar({value: 0, max: 98});\n",
        "        }\n",
        "        "
       ],
       "metadata": {},
       "output_type": "display_data",
       "text": [
        "<IPython.core.display.Javascript at 0x1f2732b0>"
       ]
      },
      {
       "javascript": [
        "$('div#8dace548-dd8c-4eef-8238-c9641d07c7a4').text('ETA:  0:00:00');"
       ],
       "metadata": {},
       "output_type": "display_data",
       "text": [
        "<IPython.core.display.Javascript at 0x1f2730b8>"
       ]
      },
      {
       "javascript": [
        "$('div#3eeef062-d96b-4e44-b510-402fc0d0ab59').text('86 of 98');"
       ],
       "metadata": {},
       "output_type": "display_data",
       "text": [
        "<IPython.core.display.Javascript at 0x244ee5c0>"
       ]
      },
      {
       "javascript": [
        "$('div#b7664d59-c1aa-4889-91de-9b04dde52690').text(' 87%');"
       ],
       "metadata": {},
       "output_type": "display_data",
       "text": [
        "<IPython.core.display.Javascript at 0x244ee5c0>"
       ]
      },
      {
       "javascript": [
        "\n",
        "        var $myPB = $(\"div#29861ff2-2ca1-41c5-ac2f-b687f1f599ec\")\n",
        "        if ($myPB.hasClass('ui-progressbar')) {\n",
        "            $myPB.progressbar('value', 86);\n",
        "        } else {\n",
        "            $myPB.progressbar({value: 0, max: 98});\n",
        "        }\n",
        "        "
       ],
       "metadata": {},
       "output_type": "display_data",
       "text": [
        "<IPython.core.display.Javascript at 0x244eeb38>"
       ]
      },
      {
       "javascript": [
        "$('div#8dace548-dd8c-4eef-8238-c9641d07c7a4').text('ETA:  0:00:00');"
       ],
       "metadata": {},
       "output_type": "display_data",
       "text": [
        "<IPython.core.display.Javascript at 0x244ee438>"
       ]
      },
      {
       "javascript": [
        "$('div#3eeef062-d96b-4e44-b510-402fc0d0ab59').text('87 of 98');"
       ],
       "metadata": {},
       "output_type": "display_data",
       "text": [
        "<IPython.core.display.Javascript at 0x22ac4da0>"
       ]
      },
      {
       "javascript": [
        "$('div#b7664d59-c1aa-4889-91de-9b04dde52690').text(' 88%');"
       ],
       "metadata": {},
       "output_type": "display_data",
       "text": [
        "<IPython.core.display.Javascript at 0x22ac4a90>"
       ]
      },
      {
       "javascript": [
        "\n",
        "        var $myPB = $(\"div#29861ff2-2ca1-41c5-ac2f-b687f1f599ec\")\n",
        "        if ($myPB.hasClass('ui-progressbar')) {\n",
        "            $myPB.progressbar('value', 87);\n",
        "        } else {\n",
        "            $myPB.progressbar({value: 0, max: 98});\n",
        "        }\n",
        "        "
       ],
       "metadata": {},
       "output_type": "display_data",
       "text": [
        "<IPython.core.display.Javascript at 0x22ac4a90>"
       ]
      },
      {
       "javascript": [
        "$('div#8dace548-dd8c-4eef-8238-c9641d07c7a4').text('ETA:  0:00:00');"
       ],
       "metadata": {},
       "output_type": "display_data",
       "text": [
        "<IPython.core.display.Javascript at 0x22ac49e8>"
       ]
      },
      {
       "javascript": [
        "$('div#3eeef062-d96b-4e44-b510-402fc0d0ab59').text('88 of 98');"
       ],
       "metadata": {},
       "output_type": "display_data",
       "text": [
        "<IPython.core.display.Javascript at 0x1bc16e10>"
       ]
      },
      {
       "javascript": [
        "$('div#b7664d59-c1aa-4889-91de-9b04dde52690').text(' 89%');"
       ],
       "metadata": {},
       "output_type": "display_data",
       "text": [
        "<IPython.core.display.Javascript at 0x1bc16e10>"
       ]
      },
      {
       "javascript": [
        "\n",
        "        var $myPB = $(\"div#29861ff2-2ca1-41c5-ac2f-b687f1f599ec\")\n",
        "        if ($myPB.hasClass('ui-progressbar')) {\n",
        "            $myPB.progressbar('value', 88);\n",
        "        } else {\n",
        "            $myPB.progressbar({value: 0, max: 98});\n",
        "        }\n",
        "        "
       ],
       "metadata": {},
       "output_type": "display_data",
       "text": [
        "<IPython.core.display.Javascript at 0x1bc169b0>"
       ]
      },
      {
       "javascript": [
        "$('div#8dace548-dd8c-4eef-8238-c9641d07c7a4').text('ETA:  0:00:00');"
       ],
       "metadata": {},
       "output_type": "display_data",
       "text": [
        "<IPython.core.display.Javascript at 0x1bc168d0>"
       ]
      },
      {
       "javascript": [
        "$('div#3eeef062-d96b-4e44-b510-402fc0d0ab59').text('89 of 98');"
       ],
       "metadata": {},
       "output_type": "display_data",
       "text": [
        "<IPython.core.display.Javascript at 0x2467c470>"
       ]
      },
      {
       "javascript": [
        "$('div#b7664d59-c1aa-4889-91de-9b04dde52690').text(' 90%');"
       ],
       "metadata": {},
       "output_type": "display_data",
       "text": [
        "<IPython.core.display.Javascript at 0x2467c470>"
       ]
      },
      {
       "javascript": [
        "\n",
        "        var $myPB = $(\"div#29861ff2-2ca1-41c5-ac2f-b687f1f599ec\")\n",
        "        if ($myPB.hasClass('ui-progressbar')) {\n",
        "            $myPB.progressbar('value', 89);\n",
        "        } else {\n",
        "            $myPB.progressbar({value: 0, max: 98});\n",
        "        }\n",
        "        "
       ],
       "metadata": {},
       "output_type": "display_data",
       "text": [
        "<IPython.core.display.Javascript at 0x2467c4e0>"
       ]
      },
      {
       "javascript": [
        "$('div#8dace548-dd8c-4eef-8238-c9641d07c7a4').text('ETA:  0:00:00');"
       ],
       "metadata": {},
       "output_type": "display_data",
       "text": [
        "<IPython.core.display.Javascript at 0x2467c2b0>"
       ]
      },
      {
       "javascript": [
        "$('div#3eeef062-d96b-4e44-b510-402fc0d0ab59').text('90 of 98');"
       ],
       "metadata": {},
       "output_type": "display_data",
       "text": [
        "<IPython.core.display.Javascript at 0x246e1c18>"
       ]
      },
      {
       "javascript": [
        "$('div#b7664d59-c1aa-4889-91de-9b04dde52690').text(' 91%');"
       ],
       "metadata": {},
       "output_type": "display_data",
       "text": [
        "<IPython.core.display.Javascript at 0x246e1c18>"
       ]
      },
      {
       "javascript": [
        "\n",
        "        var $myPB = $(\"div#29861ff2-2ca1-41c5-ac2f-b687f1f599ec\")\n",
        "        if ($myPB.hasClass('ui-progressbar')) {\n",
        "            $myPB.progressbar('value', 90);\n",
        "        } else {\n",
        "            $myPB.progressbar({value: 0, max: 98});\n",
        "        }\n",
        "        "
       ],
       "metadata": {},
       "output_type": "display_data",
       "text": [
        "<IPython.core.display.Javascript at 0x246e1518>"
       ]
      },
      {
       "javascript": [
        "$('div#8dace548-dd8c-4eef-8238-c9641d07c7a4').text('ETA:  0:00:00');"
       ],
       "metadata": {},
       "output_type": "display_data",
       "text": [
        "<IPython.core.display.Javascript at 0x246e1048>"
       ]
      },
      {
       "javascript": [
        "$('div#3eeef062-d96b-4e44-b510-402fc0d0ab59').text('91 of 98');"
       ],
       "metadata": {},
       "output_type": "display_data",
       "text": [
        "<IPython.core.display.Javascript at 0x1b5989e8>"
       ]
      },
      {
       "javascript": [
        "$('div#b7664d59-c1aa-4889-91de-9b04dde52690').text(' 92%');"
       ],
       "metadata": {},
       "output_type": "display_data",
       "text": [
        "<IPython.core.display.Javascript at 0x1b5989e8>"
       ]
      },
      {
       "javascript": [
        "\n",
        "        var $myPB = $(\"div#29861ff2-2ca1-41c5-ac2f-b687f1f599ec\")\n",
        "        if ($myPB.hasClass('ui-progressbar')) {\n",
        "            $myPB.progressbar('value', 91);\n",
        "        } else {\n",
        "            $myPB.progressbar({value: 0, max: 98});\n",
        "        }\n",
        "        "
       ],
       "metadata": {},
       "output_type": "display_data",
       "text": [
        "<IPython.core.display.Javascript at 0x1b5988d0>"
       ]
      },
      {
       "javascript": [
        "$('div#8dace548-dd8c-4eef-8238-c9641d07c7a4').text('ETA:  0:00:00');"
       ],
       "metadata": {},
       "output_type": "display_data",
       "text": [
        "<IPython.core.display.Javascript at 0x1b5981d0>"
       ]
      },
      {
       "javascript": [
        "$('div#3eeef062-d96b-4e44-b510-402fc0d0ab59').text('92 of 98');"
       ],
       "metadata": {},
       "output_type": "display_data",
       "text": [
        "<IPython.core.display.Javascript at 0x1b598748>"
       ]
      },
      {
       "javascript": [
        "$('div#b7664d59-c1aa-4889-91de-9b04dde52690').text(' 93%');"
       ],
       "metadata": {},
       "output_type": "display_data",
       "text": [
        "<IPython.core.display.Javascript at 0x1b598048>"
       ]
      },
      {
       "javascript": [
        "\n",
        "        var $myPB = $(\"div#29861ff2-2ca1-41c5-ac2f-b687f1f599ec\")\n",
        "        if ($myPB.hasClass('ui-progressbar')) {\n",
        "            $myPB.progressbar('value', 92);\n",
        "        } else {\n",
        "            $myPB.progressbar({value: 0, max: 98});\n",
        "        }\n",
        "        "
       ],
       "metadata": {},
       "output_type": "display_data",
       "text": [
        "<IPython.core.display.Javascript at 0x1b598710>"
       ]
      },
      {
       "javascript": [
        "$('div#8dace548-dd8c-4eef-8238-c9641d07c7a4').text('ETA:  0:00:00');"
       ],
       "metadata": {},
       "output_type": "display_data",
       "text": [
        "<IPython.core.display.Javascript at 0x1b598710>"
       ]
      },
      {
       "javascript": [
        "$('div#3eeef062-d96b-4e44-b510-402fc0d0ab59').text('93 of 98');"
       ],
       "metadata": {},
       "output_type": "display_data",
       "text": [
        "<IPython.core.display.Javascript at 0x1b5984a8>"
       ]
      },
      {
       "javascript": [
        "$('div#b7664d59-c1aa-4889-91de-9b04dde52690').text(' 94%');"
       ],
       "metadata": {},
       "output_type": "display_data",
       "text": [
        "<IPython.core.display.Javascript at 0x1b598048>"
       ]
      },
      {
       "javascript": [
        "\n",
        "        var $myPB = $(\"div#29861ff2-2ca1-41c5-ac2f-b687f1f599ec\")\n",
        "        if ($myPB.hasClass('ui-progressbar')) {\n",
        "            $myPB.progressbar('value', 93);\n",
        "        } else {\n",
        "            $myPB.progressbar({value: 0, max: 98});\n",
        "        }\n",
        "        "
       ],
       "metadata": {},
       "output_type": "display_data",
       "text": [
        "<IPython.core.display.Javascript at 0x1b598f28>"
       ]
      },
      {
       "javascript": [
        "$('div#8dace548-dd8c-4eef-8238-c9641d07c7a4').text('ETA:  0:00:00');"
       ],
       "metadata": {},
       "output_type": "display_data",
       "text": [
        "<IPython.core.display.Javascript at 0x1b598470>"
       ]
      },
      {
       "javascript": [
        "$('div#3eeef062-d96b-4e44-b510-402fc0d0ab59').text('94 of 98');"
       ],
       "metadata": {},
       "output_type": "display_data",
       "text": [
        "<IPython.core.display.Javascript at 0x1b598a20>"
       ]
      },
      {
       "javascript": [
        "$('div#b7664d59-c1aa-4889-91de-9b04dde52690').text(' 95%');"
       ],
       "metadata": {},
       "output_type": "display_data",
       "text": [
        "<IPython.core.display.Javascript at 0x1b598f60>"
       ]
      },
      {
       "javascript": [
        "\n",
        "        var $myPB = $(\"div#29861ff2-2ca1-41c5-ac2f-b687f1f599ec\")\n",
        "        if ($myPB.hasClass('ui-progressbar')) {\n",
        "            $myPB.progressbar('value', 94);\n",
        "        } else {\n",
        "            $myPB.progressbar({value: 0, max: 98});\n",
        "        }\n",
        "        "
       ],
       "metadata": {},
       "output_type": "display_data",
       "text": [
        "<IPython.core.display.Javascript at 0x1b598048>"
       ]
      },
      {
       "javascript": [
        "$('div#8dace548-dd8c-4eef-8238-c9641d07c7a4').text('ETA:  0:00:00');"
       ],
       "metadata": {},
       "output_type": "display_data",
       "text": [
        "<IPython.core.display.Javascript at 0x1b598f28>"
       ]
      },
      {
       "javascript": [
        "$('div#3eeef062-d96b-4e44-b510-402fc0d0ab59').text('95 of 98');"
       ],
       "metadata": {},
       "output_type": "display_data",
       "text": [
        "<IPython.core.display.Javascript at 0x1b598588>"
       ]
      },
      {
       "javascript": [
        "$('div#b7664d59-c1aa-4889-91de-9b04dde52690').text(' 96%');"
       ],
       "metadata": {},
       "output_type": "display_data",
       "text": [
        "<IPython.core.display.Javascript at 0x1b598240>"
       ]
      },
      {
       "javascript": [
        "\n",
        "        var $myPB = $(\"div#29861ff2-2ca1-41c5-ac2f-b687f1f599ec\")\n",
        "        if ($myPB.hasClass('ui-progressbar')) {\n",
        "            $myPB.progressbar('value', 95);\n",
        "        } else {\n",
        "            $myPB.progressbar({value: 0, max: 98});\n",
        "        }\n",
        "        "
       ],
       "metadata": {},
       "output_type": "display_data",
       "text": [
        "<IPython.core.display.Javascript at 0x1b598b38>"
       ]
      },
      {
       "javascript": [
        "$('div#8dace548-dd8c-4eef-8238-c9641d07c7a4').text('ETA:  0:00:00');"
       ],
       "metadata": {},
       "output_type": "display_data",
       "text": [
        "<IPython.core.display.Javascript at 0x1b598b38>"
       ]
      },
      {
       "javascript": [
        "$('div#3eeef062-d96b-4e44-b510-402fc0d0ab59').text('96 of 98');"
       ],
       "metadata": {},
       "output_type": "display_data",
       "text": [
        "<IPython.core.display.Javascript at 0x24be2f98>"
       ]
      },
      {
       "javascript": [
        "$('div#b7664d59-c1aa-4889-91de-9b04dde52690').text(' 97%');"
       ],
       "metadata": {},
       "output_type": "display_data",
       "text": [
        "<IPython.core.display.Javascript at 0x24be2f98>"
       ]
      },
      {
       "javascript": [
        "\n",
        "        var $myPB = $(\"div#29861ff2-2ca1-41c5-ac2f-b687f1f599ec\")\n",
        "        if ($myPB.hasClass('ui-progressbar')) {\n",
        "            $myPB.progressbar('value', 96);\n",
        "        } else {\n",
        "            $myPB.progressbar({value: 0, max: 98});\n",
        "        }\n",
        "        "
       ],
       "metadata": {},
       "output_type": "display_data",
       "text": [
        "<IPython.core.display.Javascript at 0x24be2b00>"
       ]
      },
      {
       "javascript": [
        "$('div#8dace548-dd8c-4eef-8238-c9641d07c7a4').text('ETA:  0:00:00');"
       ],
       "metadata": {},
       "output_type": "display_data",
       "text": [
        "<IPython.core.display.Javascript at 0x24be22e8>"
       ]
      },
      {
       "javascript": [
        "$('div#3eeef062-d96b-4e44-b510-402fc0d0ab59').text('97 of 98');"
       ],
       "metadata": {},
       "output_type": "display_data",
       "text": [
        "<IPython.core.display.Javascript at 0x24be2fd0>"
       ]
      },
      {
       "javascript": [
        "$('div#b7664d59-c1aa-4889-91de-9b04dde52690').text(' 98%');"
       ],
       "metadata": {},
       "output_type": "display_data",
       "text": [
        "<IPython.core.display.Javascript at 0x24be2cc0>"
       ]
      },
      {
       "javascript": [
        "\n",
        "        var $myPB = $(\"div#29861ff2-2ca1-41c5-ac2f-b687f1f599ec\")\n",
        "        if ($myPB.hasClass('ui-progressbar')) {\n",
        "            $myPB.progressbar('value', 97);\n",
        "        } else {\n",
        "            $myPB.progressbar({value: 0, max: 98});\n",
        "        }\n",
        "        "
       ],
       "metadata": {},
       "output_type": "display_data",
       "text": [
        "<IPython.core.display.Javascript at 0x24be2cc0>"
       ]
      },
      {
       "javascript": [
        "$('div#8dace548-dd8c-4eef-8238-c9641d07c7a4').text('ETA:  0:00:00');"
       ],
       "metadata": {},
       "output_type": "display_data",
       "text": [
        "<IPython.core.display.Javascript at 0x24be2278>"
       ]
      },
      {
       "javascript": [
        "$('div#3eeef062-d96b-4e44-b510-402fc0d0ab59').text('98 of 98');"
       ],
       "metadata": {},
       "output_type": "display_data",
       "text": [
        "<IPython.core.display.Javascript at 0x2047d6d8>"
       ]
      },
      {
       "javascript": [
        "$('div#b7664d59-c1aa-4889-91de-9b04dde52690').text('100%');"
       ],
       "metadata": {},
       "output_type": "display_data",
       "text": [
        "<IPython.core.display.Javascript at 0x2047d6d8>"
       ]
      },
      {
       "javascript": [
        "\n",
        "        var $myPB = $(\"div#29861ff2-2ca1-41c5-ac2f-b687f1f599ec\")\n",
        "        if ($myPB.hasClass('ui-progressbar')) {\n",
        "            $myPB.progressbar('value', 98);\n",
        "        } else {\n",
        "            $myPB.progressbar({value: 0, max: 98});\n",
        "        }\n",
        "        "
       ],
       "metadata": {},
       "output_type": "display_data",
       "text": [
        "<IPython.core.display.Javascript at 0x2047d9b0>"
       ]
      },
      {
       "javascript": [
        "$('div#8dace548-dd8c-4eef-8238-c9641d07c7a4').text('ETA:  0:00:00');"
       ],
       "metadata": {},
       "output_type": "display_data",
       "text": [
        "<IPython.core.display.Javascript at 0x2047df60>"
       ]
      },
      {
       "javascript": [
        "$('div#3eeef062-d96b-4e44-b510-402fc0d0ab59').text('98 of 98');"
       ],
       "metadata": {},
       "output_type": "display_data",
       "text": [
        "<IPython.core.display.Javascript at 0x1a6792e8>"
       ]
      },
      {
       "javascript": [
        "$('div#b7664d59-c1aa-4889-91de-9b04dde52690').text('100%');"
       ],
       "metadata": {},
       "output_type": "display_data",
       "text": [
        "<IPython.core.display.Javascript at 0x1a6792e8>"
       ]
      },
      {
       "javascript": [
        "\n",
        "        var $myPB = $(\"div#29861ff2-2ca1-41c5-ac2f-b687f1f599ec\")\n",
        "        if ($myPB.hasClass('ui-progressbar')) {\n",
        "            $myPB.progressbar('value', 98);\n",
        "        } else {\n",
        "            $myPB.progressbar({value: 0, max: 98});\n",
        "        }\n",
        "        "
       ],
       "metadata": {},
       "output_type": "display_data",
       "text": [
        "<IPython.core.display.Javascript at 0x2047df28>"
       ]
      },
      {
       "javascript": [
        "$('div#8dace548-dd8c-4eef-8238-c9641d07c7a4').text('Time: 0:00:04');"
       ],
       "metadata": {},
       "output_type": "display_data",
       "text": [
        "<IPython.core.display.Javascript at 0x2047d9b0>"
       ]
      },
      {
       "javascript": [
        "var element = document.getElementById('c0ad6478-8bf4-401d-94e7-62f5cbba4282');\n",
        "                    var parent = element.parentNode\n",
        "                    parent.removeChild(element);\n",
        "                    parent.parentElement.remove();"
       ],
       "metadata": {},
       "output_type": "display_data",
       "text": [
        "<IPython.core.display.Javascript at 0x23c10ef0>"
       ]
      },
      {
       "javascript": [
        "this.cleanProgressBar(['c0ad6478-8bf4-401d-94e7-62f5cbba4282', '3eeef062-d96b-4e44-b510-402fc0d0ab59', 'b7664d59-c1aa-4889-91de-9b04dde52690', '29861ff2-2ca1-41c5-ac2f-b687f1f599ec', '8dace548-dd8c-4eef-8238-c9641d07c7a4'])"
       ],
       "metadata": {},
       "output_type": "display_data",
       "text": [
        "<IPython.core.display.Javascript at 0x1a6792e8>"
       ]
      }
     ],
     "prompt_number": 3
    },
    {
     "cell_type": "code",
     "collapsed": false,
     "input": [
      "from selenium import webdriver\n",
      "import selenium\n",
      "from selenium.webdriver.common.keys import Keys\n",
      "from selenium.webdriver.common.by import By\n",
      "from selenium.webdriver.support.ui import WebDriverWait\n",
      "from selenium.webdriver.support import expected_conditions as EC\n",
      "# from selenium.webdriver.chrome\n",
      "from progressbar import AnimatedMarker, Bar, BouncingBar,\\\n",
      "                            Counter, ETA, Percentage, ProgressBar, SimpleProgress, FileTransferSpeed\n",
      "f"
     ],
     "language": "python",
     "metadata": {},
     "outputs": [
      {
       "metadata": {},
       "output_type": "pyout",
       "prompt_number": 125,
       "text": [
        "<closed file 'scrape.json', mode 'w' at 0x00000000238D74B0>"
       ]
      }
     ],
     "prompt_number": 125
    },
    {
     "cell_type": "code",
     "collapsed": false,
     "input": [
      "\n",
      "# driver = webdriver.Firefox()\n",
      "def get_data(driver, n, i):\n",
      "    driver.get(search_url)\n",
      "    advance_search = driver.find_element_by_name('advanced')\n",
      "    advance_search.click()\n",
      "    \n",
      "    try:\n",
      "        jobno_box = WebDriverWait(driver, 10).until(EC.presence_of_element_located((By.NAME, \"jobno\")))\n",
      "    except:\n",
      "#         driver.quit()\n",
      "        print 'failed to find jobno'\n",
      "        return None\n",
      "    jobno_box = driver.find_element_by_name('jobno')\n",
      "    jobno_box.clear()\n",
      "    jobno_box.send_keys(n)\n",
      "    driver.find_element_by_xpath('/html/body/form/table/tbody/tr[5]/td/table/tbody/tr/td[1]/input').click()\n",
      "    \n",
      "    try:\n",
      "        link = WebDriverWait(driver, 10).until(EC.presence_of_element_located((By.XPATH,'/html/body/form/table/tbody/tr[8]/td/table/tbody/tr[1]/td[2]/b/u/a' )))\n",
      "    except:\n",
      "        print 'failed to find link'\n",
      "        return None\n",
      "    link = driver.find_element_by_xpath('/html/body/form/table/tbody/tr[8]/td/table/tbody/tr[1]/td[2]/b/u/a')\n",
      "#     link = driver.find_element_by_link_text(i)\n",
      "#     link.click()\n",
      "    href = link.get_attribute('href')\n",
      "#     print href\n",
      "    driver.execute_script(href) \n",
      "    try:\n",
      "        main = WebDriverWait(driver, 10).until(EC.presence_of_element_located((By.NAME, \"main\")))\n",
      "    except:\n",
      "        print 'failed to find frame main'\n",
      "        \n",
      "    \n",
      "    driver.switch_to_frame('main')\n",
      "    table = driver.find_element_by_xpath('/html/body/form/table/tbody/tr[5]/td/div/table')\n",
      "    table_elemnents = table.find_elements_by_tag_name('tr')\n",
      "    result = {}\n",
      "    for rows in table_elemnents:\n",
      "        cells =  rows.find_elements_by_tag_name('td')\n",
      "    #     print len(cells)\n",
      "        if len(cells)==2:\n",
      "            result[cells[0].text] = cells[1].text\n",
      "    return result\n",
      "#             print cells[0].text, cells[1].text"
     ],
     "language": "python",
     "metadata": {},
     "outputs": [],
     "prompt_number": 126
    },
    {
     "cell_type": "code",
     "collapsed": false,
     "input": [
      "results = {}\n",
      "pbar = ProgressBar(widgets=[SimpleProgress(), Percentage(), Bar(), ETA()], maxval=len(docs)).start()\n",
      "count = 0\n",
      "drivers = []\n",
      "for i in range(10):\n",
      "    drivers.append(webdriver.Firefox())\n",
      "for doc in docs:\n",
      "    n = docs[doc]['n']\n",
      "    i = docs[doc]['id']\n",
      "    print count, n, i\n",
      "    count+=1\n",
      "    pbar.update(count)\n",
      "    driver = drivers[count%len(drivers)]\n",
      "    results[n] = get_data(driver, n, i)\n",
      "pbar.finish()"
     ],
     "language": "python",
     "metadata": {},
     "outputs": [
      {
       "javascript": [
        "//b9cd95d2-a517-40bc-9dc7-557417372cc7\n",
        "$(\"head\").append(\"<style> td.pb_widget {     width: auto; } td.pb_widget_fill {     width: 100%; } table.pb {     font-family: monospace;     border: 0;     margin: 0; } table.pb tr { border: 0; } table.pb td {     white-space: nowrap;     border: 0; } div.pb {     border: 1px solid #ddd;     border-radius: 3px; } div.pb_bar {     height: 1.5em; } </style>\")"
       ],
       "metadata": {},
       "output_type": "display_data",
       "text": [
        "<IPython.core.display.Javascript at 0x1c216668>"
       ]
      },
      {
       "javascript": [
        "\n",
        "                  // b9cd95d2-a517-40bc-9dc7-557417372cc7 -- used to remove this code blob in the end\n",
        "                  IPython.OutputArea.prototype.cleanProgressBar = function(uuids) {\n",
        "                      // filter by uuid-strings \n",
        "                      var myfilter = function(output) { \n",
        "                          var nuids = uuids.length;\n",
        "                          for (var i=0; i<nuids; i++) {\n",
        "                              if (output.hasOwnProperty('html')) {\n",
        "                                  if (output.html.indexOf(uuids[i]) != -1) {\n",
        "                                      return false;\n",
        "                                  }\n",
        "                              }\n",
        "                              if (output.hasOwnProperty('javascript')) {\n",
        "                                  if (output.javascript.indexOf(uuids[i]) != -1) {\n",
        "                                      return false;\n",
        "                                  }\n",
        "                              }\n",
        "                          }\n",
        "                          // keep all others\n",
        "                          return true;\n",
        "                      };\n",
        "\n",
        "                      // Filter the ouputs\n",
        "                      this.outputs = this.outputs.filter(myfilter);\n",
        "                };\n",
        "                "
       ],
       "metadata": {},
       "output_type": "display_data",
       "text": [
        "<IPython.core.display.Javascript at 0x2402c9e8>"
       ]
      },
      {
       "html": [
        "<div class=\"pb\" id=\"b9cd95d2-a517-40bc-9dc7-557417372cc7\"><table class=\"pb ui-widget\"><tr>\n",
        "<td class=\"pb_widget\"><div id=\"1f4ac291-afa2-4895-83a0-b0e839cc27c2\">0 of 98</div></td>\n",
        "<td class=\"pb_widget\"><div id=\"22cb57b3-ac57-45cd-8af6-c3c85370f654\">  0%</div></td>\n",
        "<td class=\"pb_widget_fill\">\n",
        "        <div class=\"pb_bar\" id=\"e300d84a-e272-49aa-9b70-16a9c2beaadf\"></div>\n",
        "        <script type=\"text/javascript\">\n",
        "            $(\"div#e300d84a-e272-49aa-9b70-16a9c2beaadf\").progressbar({value: 0, max: 98});\n",
        "        </script>\n",
        "        </td>\n",
        "<td class=\"pb_widget\"><div id=\"eb29a14f-abb9-4b6b-b9e0-01245d284885\">ETA:  --:--:--</div></td>\n",
        "</tr></table><div>"
       ],
       "metadata": {},
       "output_type": "display_data",
       "text": [
        "<IPython.core.display.HTML at 0x2402c3c8>"
       ]
      },
      {
       "output_type": "stream",
       "stream": "stdout",
       "text": [
        "0 N0646317 A/61/255\n"
       ]
      },
      {
       "javascript": [
        "$('div#1f4ac291-afa2-4895-83a0-b0e839cc27c2').text('1 of 98');"
       ],
       "metadata": {},
       "output_type": "display_data",
       "text": [
        "<IPython.core.display.Javascript at 0x216680b8>"
       ]
      },
      {
       "javascript": [
        "$('div#22cb57b3-ac57-45cd-8af6-c3c85370f654').text('  1%');"
       ],
       "metadata": {},
       "output_type": "display_data",
       "text": [
        "<IPython.core.display.Javascript at 0x216687b8>"
       ]
      },
      {
       "javascript": [
        "\n",
        "        var $myPB = $(\"div#e300d84a-e272-49aa-9b70-16a9c2beaadf\")\n",
        "        if ($myPB.hasClass('ui-progressbar')) {\n",
        "            $myPB.progressbar('value', 1);\n",
        "        } else {\n",
        "            $myPB.progressbar({value: 0, max: 98});\n",
        "        }\n",
        "        "
       ],
       "metadata": {},
       "output_type": "display_data",
       "text": [
        "<IPython.core.display.Javascript at 0x21668f98>"
       ]
      },
      {
       "javascript": [
        "$('div#eb29a14f-abb9-4b6b-b9e0-01245d284885').text('ETA:  1:04:51');"
       ],
       "metadata": {},
       "output_type": "display_data",
       "text": [
        "<IPython.core.display.Javascript at 0x21668f98>"
       ]
      },
      {
       "output_type": "stream",
       "stream": "stdout",
       "text": [
        "1 V0781711 A/CN.9/631\n"
       ]
      },
      {
       "javascript": [
        "$('div#1f4ac291-afa2-4895-83a0-b0e839cc27c2').text('2 of 98');"
       ],
       "metadata": {},
       "output_type": "display_data",
       "text": [
        "<IPython.core.display.Javascript at 0x21668438>"
       ]
      },
      {
       "javascript": [
        "$('div#22cb57b3-ac57-45cd-8af6-c3c85370f654').text('  2%');"
       ],
       "metadata": {},
       "output_type": "display_data",
       "text": [
        "<IPython.core.display.Javascript at 0x21668358>"
       ]
      },
      {
       "javascript": [
        "\n",
        "        var $myPB = $(\"div#e300d84a-e272-49aa-9b70-16a9c2beaadf\")\n",
        "        if ($myPB.hasClass('ui-progressbar')) {\n",
        "            $myPB.progressbar('value', 2);\n",
        "        } else {\n",
        "            $myPB.progressbar({value: 0, max: 98});\n",
        "        }\n",
        "        "
       ],
       "metadata": {},
       "output_type": "display_data",
       "text": [
        "<IPython.core.display.Javascript at 0x21668358>"
       ]
      },
      {
       "javascript": [
        "$('div#eb29a14f-abb9-4b6b-b9e0-01245d284885').text('ETA:  0:36:41');"
       ],
       "metadata": {},
       "output_type": "display_data",
       "text": [
        "<IPython.core.display.Javascript at 0x21668400>"
       ]
      },
      {
       "output_type": "stream",
       "stream": "stdout",
       "text": [
        "2 N0531927 A/59/736\n"
       ]
      },
      {
       "javascript": [
        "$('div#1f4ac291-afa2-4895-83a0-b0e839cc27c2').text('3 of 98');"
       ],
       "metadata": {},
       "output_type": "display_data",
       "text": [
        "<IPython.core.display.Javascript at 0x21668f60>"
       ]
      },
      {
       "javascript": [
        "$('div#22cb57b3-ac57-45cd-8af6-c3c85370f654').text('  3%');"
       ],
       "metadata": {},
       "output_type": "display_data",
       "text": [
        "<IPython.core.display.Javascript at 0x21668550>"
       ]
      },
      {
       "javascript": [
        "\n",
        "        var $myPB = $(\"div#e300d84a-e272-49aa-9b70-16a9c2beaadf\")\n",
        "        if ($myPB.hasClass('ui-progressbar')) {\n",
        "            $myPB.progressbar('value', 3);\n",
        "        } else {\n",
        "            $myPB.progressbar({value: 0, max: 98});\n",
        "        }\n",
        "        "
       ],
       "metadata": {},
       "output_type": "display_data",
       "text": [
        "<IPython.core.display.Javascript at 0x21668438>"
       ]
      },
      {
       "javascript": [
        "$('div#eb29a14f-abb9-4b6b-b9e0-01245d284885').text('ETA:  0:26:37');"
       ],
       "metadata": {},
       "output_type": "display_data",
       "text": [
        "<IPython.core.display.Javascript at 0x21668f60>"
       ]
      },
      {
       "output_type": "stream",
       "stream": "stdout",
       "text": [
        "failed to find jobno\n",
        "3 N0628231 A/60/727\n"
       ]
      },
      {
       "javascript": [
        "$('div#1f4ac291-afa2-4895-83a0-b0e839cc27c2').text('4 of 98');"
       ],
       "metadata": {},
       "output_type": "display_data",
       "text": [
        "<IPython.core.display.Javascript at 0x216688d0>"
       ]
      },
      {
       "javascript": [
        "$('div#22cb57b3-ac57-45cd-8af6-c3c85370f654').text('  4%');"
       ],
       "metadata": {},
       "output_type": "display_data",
       "text": [
        "<IPython.core.display.Javascript at 0x216688d0>"
       ]
      },
      {
       "javascript": [
        "\n",
        "        var $myPB = $(\"div#e300d84a-e272-49aa-9b70-16a9c2beaadf\")\n",
        "        if ($myPB.hasClass('ui-progressbar')) {\n",
        "            $myPB.progressbar('value', 4);\n",
        "        } else {\n",
        "            $myPB.progressbar({value: 0, max: 98});\n",
        "        }\n",
        "        "
       ],
       "metadata": {},
       "output_type": "display_data",
       "text": [
        "<IPython.core.display.Javascript at 0x216685f8>"
       ]
      },
      {
       "javascript": [
        "$('div#eb29a14f-abb9-4b6b-b9e0-01245d284885').text('ETA:  0:20:10');"
       ],
       "metadata": {},
       "output_type": "display_data",
       "text": [
        "<IPython.core.display.Javascript at 0x21668438>"
       ]
      },
      {
       "ename": "error",
       "evalue": "[Errno 10061] No connection could be made because the target machine actively refused it",
       "output_type": "pyerr",
       "traceback": [
        "\u001b[1;31m---------------------------------------------------------------------------\u001b[0m\n\u001b[1;31merror\u001b[0m                                     Traceback (most recent call last)",
        "\u001b[1;32m<ipython-input-127-9d7951ed69b5>\u001b[0m in \u001b[0;36m<module>\u001b[1;34m()\u001b[0m\n\u001b[0;32m     12\u001b[0m     \u001b[0mpbar\u001b[0m\u001b[1;33m.\u001b[0m\u001b[0mupdate\u001b[0m\u001b[1;33m(\u001b[0m\u001b[0mcount\u001b[0m\u001b[1;33m)\u001b[0m\u001b[1;33m\u001b[0m\u001b[0m\n\u001b[0;32m     13\u001b[0m     \u001b[0mdriver\u001b[0m \u001b[1;33m=\u001b[0m \u001b[0mdrivers\u001b[0m\u001b[1;33m[\u001b[0m\u001b[0mcount\u001b[0m\u001b[1;33m%\u001b[0m\u001b[0mlen\u001b[0m\u001b[1;33m(\u001b[0m\u001b[0mdrivers\u001b[0m\u001b[1;33m)\u001b[0m\u001b[1;33m]\u001b[0m\u001b[1;33m\u001b[0m\u001b[0m\n\u001b[1;32m---> 14\u001b[1;33m     \u001b[0mresults\u001b[0m\u001b[1;33m[\u001b[0m\u001b[0mn\u001b[0m\u001b[1;33m]\u001b[0m \u001b[1;33m=\u001b[0m \u001b[0mget_data\u001b[0m\u001b[1;33m(\u001b[0m\u001b[0mdriver\u001b[0m\u001b[1;33m,\u001b[0m \u001b[0mn\u001b[0m\u001b[1;33m,\u001b[0m \u001b[0mi\u001b[0m\u001b[1;33m)\u001b[0m\u001b[1;33m\u001b[0m\u001b[0m\n\u001b[0m\u001b[0;32m     15\u001b[0m \u001b[0mpbar\u001b[0m\u001b[1;33m.\u001b[0m\u001b[0mfinish\u001b[0m\u001b[1;33m(\u001b[0m\u001b[1;33m)\u001b[0m\u001b[1;33m\u001b[0m\u001b[0m\n",
        "\u001b[1;32m<ipython-input-126-4bcbc29613fc>\u001b[0m in \u001b[0;36mget_data\u001b[1;34m(driver, n, i)\u001b[0m\n\u001b[0;32m      2\u001b[0m \u001b[1;31m# driver = webdriver.Firefox()\u001b[0m\u001b[1;33m\u001b[0m\u001b[1;33m\u001b[0m\u001b[0m\n\u001b[0;32m      3\u001b[0m \u001b[1;32mdef\u001b[0m \u001b[0mget_data\u001b[0m\u001b[1;33m(\u001b[0m\u001b[0mdriver\u001b[0m\u001b[1;33m,\u001b[0m \u001b[0mn\u001b[0m\u001b[1;33m,\u001b[0m \u001b[0mi\u001b[0m\u001b[1;33m)\u001b[0m\u001b[1;33m:\u001b[0m\u001b[1;33m\u001b[0m\u001b[0m\n\u001b[1;32m----> 4\u001b[1;33m     \u001b[0mdriver\u001b[0m\u001b[1;33m.\u001b[0m\u001b[0mget\u001b[0m\u001b[1;33m(\u001b[0m\u001b[0msearch_url\u001b[0m\u001b[1;33m)\u001b[0m\u001b[1;33m\u001b[0m\u001b[0m\n\u001b[0m\u001b[0;32m      5\u001b[0m     \u001b[0madvance_search\u001b[0m \u001b[1;33m=\u001b[0m \u001b[0mdriver\u001b[0m\u001b[1;33m.\u001b[0m\u001b[0mfind_element_by_name\u001b[0m\u001b[1;33m(\u001b[0m\u001b[1;34m'advanced'\u001b[0m\u001b[1;33m)\u001b[0m\u001b[1;33m\u001b[0m\u001b[0m\n\u001b[0;32m      6\u001b[0m     \u001b[0madvance_search\u001b[0m\u001b[1;33m.\u001b[0m\u001b[0mclick\u001b[0m\u001b[1;33m(\u001b[0m\u001b[1;33m)\u001b[0m\u001b[1;33m\u001b[0m\u001b[0m\n",
        "\u001b[1;32mc:\\Python27\\Scripts\\VENV\\nlp\\lib\\site-packages\\selenium\\webdriver\\remote\\webdriver.pyc\u001b[0m in \u001b[0;36mget\u001b[1;34m(self, url)\u001b[0m\n\u001b[0;32m    183\u001b[0m         \u001b[0mLoads\u001b[0m \u001b[0ma\u001b[0m \u001b[0mweb\u001b[0m \u001b[0mpage\u001b[0m \u001b[1;32min\u001b[0m \u001b[0mthe\u001b[0m \u001b[0mcurrent\u001b[0m \u001b[0mbrowser\u001b[0m \u001b[0msession\u001b[0m\u001b[1;33m.\u001b[0m\u001b[1;33m\u001b[0m\u001b[0m\n\u001b[0;32m    184\u001b[0m         \"\"\"\n\u001b[1;32m--> 185\u001b[1;33m         \u001b[0mself\u001b[0m\u001b[1;33m.\u001b[0m\u001b[0mexecute\u001b[0m\u001b[1;33m(\u001b[0m\u001b[0mCommand\u001b[0m\u001b[1;33m.\u001b[0m\u001b[0mGET\u001b[0m\u001b[1;33m,\u001b[0m \u001b[1;33m{\u001b[0m\u001b[1;34m'url'\u001b[0m\u001b[1;33m:\u001b[0m \u001b[0murl\u001b[0m\u001b[1;33m}\u001b[0m\u001b[1;33m)\u001b[0m\u001b[1;33m\u001b[0m\u001b[0m\n\u001b[0m\u001b[0;32m    186\u001b[0m \u001b[1;33m\u001b[0m\u001b[0m\n\u001b[0;32m    187\u001b[0m     \u001b[1;33m@\u001b[0m\u001b[0mproperty\u001b[0m\u001b[1;33m\u001b[0m\u001b[0m\n",
        "\u001b[1;32mc:\\Python27\\Scripts\\VENV\\nlp\\lib\\site-packages\\selenium\\webdriver\\remote\\webdriver.pyc\u001b[0m in \u001b[0;36mexecute\u001b[1;34m(self, driver_command, params)\u001b[0m\n\u001b[0;32m    169\u001b[0m \u001b[1;33m\u001b[0m\u001b[0m\n\u001b[0;32m    170\u001b[0m         \u001b[0mparams\u001b[0m \u001b[1;33m=\u001b[0m \u001b[0mself\u001b[0m\u001b[1;33m.\u001b[0m\u001b[0m_wrap_value\u001b[0m\u001b[1;33m(\u001b[0m\u001b[0mparams\u001b[0m\u001b[1;33m)\u001b[0m\u001b[1;33m\u001b[0m\u001b[0m\n\u001b[1;32m--> 171\u001b[1;33m         \u001b[0mresponse\u001b[0m \u001b[1;33m=\u001b[0m \u001b[0mself\u001b[0m\u001b[1;33m.\u001b[0m\u001b[0mcommand_executor\u001b[0m\u001b[1;33m.\u001b[0m\u001b[0mexecute\u001b[0m\u001b[1;33m(\u001b[0m\u001b[0mdriver_command\u001b[0m\u001b[1;33m,\u001b[0m \u001b[0mparams\u001b[0m\u001b[1;33m)\u001b[0m\u001b[1;33m\u001b[0m\u001b[0m\n\u001b[0m\u001b[0;32m    172\u001b[0m         \u001b[1;32mif\u001b[0m \u001b[0mresponse\u001b[0m\u001b[1;33m:\u001b[0m\u001b[1;33m\u001b[0m\u001b[0m\n\u001b[0;32m    173\u001b[0m             \u001b[0mself\u001b[0m\u001b[1;33m.\u001b[0m\u001b[0merror_handler\u001b[0m\u001b[1;33m.\u001b[0m\u001b[0mcheck_response\u001b[0m\u001b[1;33m(\u001b[0m\u001b[0mresponse\u001b[0m\u001b[1;33m)\u001b[0m\u001b[1;33m\u001b[0m\u001b[0m\n",
        "\u001b[1;32mc:\\Python27\\Scripts\\VENV\\nlp\\lib\\site-packages\\selenium\\webdriver\\remote\\remote_connection.pyc\u001b[0m in \u001b[0;36mexecute\u001b[1;34m(self, command, params)\u001b[0m\n\u001b[0;32m    347\u001b[0m         \u001b[0mpath\u001b[0m \u001b[1;33m=\u001b[0m \u001b[0mstring\u001b[0m\u001b[1;33m.\u001b[0m\u001b[0mTemplate\u001b[0m\u001b[1;33m(\u001b[0m\u001b[0mcommand_info\u001b[0m\u001b[1;33m[\u001b[0m\u001b[1;36m1\u001b[0m\u001b[1;33m]\u001b[0m\u001b[1;33m)\u001b[0m\u001b[1;33m.\u001b[0m\u001b[0msubstitute\u001b[0m\u001b[1;33m(\u001b[0m\u001b[0mparams\u001b[0m\u001b[1;33m)\u001b[0m\u001b[1;33m\u001b[0m\u001b[0m\n\u001b[0;32m    348\u001b[0m         \u001b[0murl\u001b[0m \u001b[1;33m=\u001b[0m \u001b[1;34m'%s%s'\u001b[0m \u001b[1;33m%\u001b[0m \u001b[1;33m(\u001b[0m\u001b[0mself\u001b[0m\u001b[1;33m.\u001b[0m\u001b[0m_url\u001b[0m\u001b[1;33m,\u001b[0m \u001b[0mpath\u001b[0m\u001b[1;33m)\u001b[0m\u001b[1;33m\u001b[0m\u001b[0m\n\u001b[1;32m--> 349\u001b[1;33m         \u001b[1;32mreturn\u001b[0m \u001b[0mself\u001b[0m\u001b[1;33m.\u001b[0m\u001b[0m_request\u001b[0m\u001b[1;33m(\u001b[0m\u001b[0mcommand_info\u001b[0m\u001b[1;33m[\u001b[0m\u001b[1;36m0\u001b[0m\u001b[1;33m]\u001b[0m\u001b[1;33m,\u001b[0m \u001b[0murl\u001b[0m\u001b[1;33m,\u001b[0m \u001b[0mbody\u001b[0m\u001b[1;33m=\u001b[0m\u001b[0mdata\u001b[0m\u001b[1;33m)\u001b[0m\u001b[1;33m\u001b[0m\u001b[0m\n\u001b[0m\u001b[0;32m    350\u001b[0m \u001b[1;33m\u001b[0m\u001b[0m\n\u001b[0;32m    351\u001b[0m     \u001b[1;32mdef\u001b[0m \u001b[0m_request\u001b[0m\u001b[1;33m(\u001b[0m\u001b[0mself\u001b[0m\u001b[1;33m,\u001b[0m \u001b[0mmethod\u001b[0m\u001b[1;33m,\u001b[0m \u001b[0murl\u001b[0m\u001b[1;33m,\u001b[0m \u001b[0mbody\u001b[0m\u001b[1;33m=\u001b[0m\u001b[0mNone\u001b[0m\u001b[1;33m)\u001b[0m\u001b[1;33m:\u001b[0m\u001b[1;33m\u001b[0m\u001b[0m\n",
        "\u001b[1;32mc:\\Python27\\Scripts\\VENV\\nlp\\lib\\site-packages\\selenium\\webdriver\\remote\\remote_connection.pyc\u001b[0m in \u001b[0;36m_request\u001b[1;34m(self, method, url, body)\u001b[0m\n\u001b[0;32m    377\u001b[0m                 \u001b[0mbody\u001b[0m \u001b[1;33m=\u001b[0m \u001b[0mNone\u001b[0m\u001b[1;33m\u001b[0m\u001b[0m\n\u001b[0;32m    378\u001b[0m             \u001b[1;32mtry\u001b[0m\u001b[1;33m:\u001b[0m\u001b[1;33m\u001b[0m\u001b[0m\n\u001b[1;32m--> 379\u001b[1;33m                 \u001b[0mself\u001b[0m\u001b[1;33m.\u001b[0m\u001b[0m_conn\u001b[0m\u001b[1;33m.\u001b[0m\u001b[0mrequest\u001b[0m\u001b[1;33m(\u001b[0m\u001b[0mmethod\u001b[0m\u001b[1;33m,\u001b[0m \u001b[0mparsed_url\u001b[0m\u001b[1;33m.\u001b[0m\u001b[0mpath\u001b[0m\u001b[1;33m,\u001b[0m \u001b[0mbody\u001b[0m\u001b[1;33m,\u001b[0m \u001b[0mheaders\u001b[0m\u001b[1;33m)\u001b[0m\u001b[1;33m\u001b[0m\u001b[0m\n\u001b[0m\u001b[0;32m    380\u001b[0m                 \u001b[0mresp\u001b[0m \u001b[1;33m=\u001b[0m \u001b[0mself\u001b[0m\u001b[1;33m.\u001b[0m\u001b[0m_conn\u001b[0m\u001b[1;33m.\u001b[0m\u001b[0mgetresponse\u001b[0m\u001b[1;33m(\u001b[0m\u001b[1;33m)\u001b[0m\u001b[1;33m\u001b[0m\u001b[0m\n\u001b[0;32m    381\u001b[0m             \u001b[1;32mexcept\u001b[0m \u001b[0mhttplib\u001b[0m\u001b[1;33m.\u001b[0m\u001b[0mHTTPException\u001b[0m\u001b[1;33m:\u001b[0m\u001b[1;33m\u001b[0m\u001b[0m\n",
        "\u001b[1;32mC:\\Python27\\Lib\\httplib.pyc\u001b[0m in \u001b[0;36mrequest\u001b[1;34m(self, method, url, body, headers)\u001b[0m\n\u001b[0;32m    993\u001b[0m     \u001b[1;32mdef\u001b[0m \u001b[0mrequest\u001b[0m\u001b[1;33m(\u001b[0m\u001b[0mself\u001b[0m\u001b[1;33m,\u001b[0m \u001b[0mmethod\u001b[0m\u001b[1;33m,\u001b[0m \u001b[0murl\u001b[0m\u001b[1;33m,\u001b[0m \u001b[0mbody\u001b[0m\u001b[1;33m=\u001b[0m\u001b[0mNone\u001b[0m\u001b[1;33m,\u001b[0m \u001b[0mheaders\u001b[0m\u001b[1;33m=\u001b[0m\u001b[1;33m{\u001b[0m\u001b[1;33m}\u001b[0m\u001b[1;33m)\u001b[0m\u001b[1;33m:\u001b[0m\u001b[1;33m\u001b[0m\u001b[0m\n\u001b[0;32m    994\u001b[0m         \u001b[1;34m\"\"\"Send a complete request to the server.\"\"\"\u001b[0m\u001b[1;33m\u001b[0m\u001b[0m\n\u001b[1;32m--> 995\u001b[1;33m         \u001b[0mself\u001b[0m\u001b[1;33m.\u001b[0m\u001b[0m_send_request\u001b[0m\u001b[1;33m(\u001b[0m\u001b[0mmethod\u001b[0m\u001b[1;33m,\u001b[0m \u001b[0murl\u001b[0m\u001b[1;33m,\u001b[0m \u001b[0mbody\u001b[0m\u001b[1;33m,\u001b[0m \u001b[0mheaders\u001b[0m\u001b[1;33m)\u001b[0m\u001b[1;33m\u001b[0m\u001b[0m\n\u001b[0m\u001b[0;32m    996\u001b[0m \u001b[1;33m\u001b[0m\u001b[0m\n\u001b[0;32m    997\u001b[0m     \u001b[1;32mdef\u001b[0m \u001b[0m_set_content_length\u001b[0m\u001b[1;33m(\u001b[0m\u001b[0mself\u001b[0m\u001b[1;33m,\u001b[0m \u001b[0mbody\u001b[0m\u001b[1;33m)\u001b[0m\u001b[1;33m:\u001b[0m\u001b[1;33m\u001b[0m\u001b[0m\n",
        "\u001b[1;32mC:\\Python27\\Lib\\httplib.pyc\u001b[0m in \u001b[0;36m_send_request\u001b[1;34m(self, method, url, body, headers)\u001b[0m\n\u001b[0;32m   1027\u001b[0m         \u001b[1;32mfor\u001b[0m \u001b[0mhdr\u001b[0m\u001b[1;33m,\u001b[0m \u001b[0mvalue\u001b[0m \u001b[1;32min\u001b[0m \u001b[0mheaders\u001b[0m\u001b[1;33m.\u001b[0m\u001b[0miteritems\u001b[0m\u001b[1;33m(\u001b[0m\u001b[1;33m)\u001b[0m\u001b[1;33m:\u001b[0m\u001b[1;33m\u001b[0m\u001b[0m\n\u001b[0;32m   1028\u001b[0m             \u001b[0mself\u001b[0m\u001b[1;33m.\u001b[0m\u001b[0mputheader\u001b[0m\u001b[1;33m(\u001b[0m\u001b[0mhdr\u001b[0m\u001b[1;33m,\u001b[0m \u001b[0mvalue\u001b[0m\u001b[1;33m)\u001b[0m\u001b[1;33m\u001b[0m\u001b[0m\n\u001b[1;32m-> 1029\u001b[1;33m         \u001b[0mself\u001b[0m\u001b[1;33m.\u001b[0m\u001b[0mendheaders\u001b[0m\u001b[1;33m(\u001b[0m\u001b[0mbody\u001b[0m\u001b[1;33m)\u001b[0m\u001b[1;33m\u001b[0m\u001b[0m\n\u001b[0m\u001b[0;32m   1030\u001b[0m \u001b[1;33m\u001b[0m\u001b[0m\n\u001b[0;32m   1031\u001b[0m     \u001b[1;32mdef\u001b[0m \u001b[0mgetresponse\u001b[0m\u001b[1;33m(\u001b[0m\u001b[0mself\u001b[0m\u001b[1;33m,\u001b[0m \u001b[0mbuffering\u001b[0m\u001b[1;33m=\u001b[0m\u001b[0mFalse\u001b[0m\u001b[1;33m)\u001b[0m\u001b[1;33m:\u001b[0m\u001b[1;33m\u001b[0m\u001b[0m\n",
        "\u001b[1;32mC:\\Python27\\Lib\\httplib.pyc\u001b[0m in \u001b[0;36mendheaders\u001b[1;34m(self, message_body)\u001b[0m\n\u001b[0;32m    989\u001b[0m         \u001b[1;32melse\u001b[0m\u001b[1;33m:\u001b[0m\u001b[1;33m\u001b[0m\u001b[0m\n\u001b[0;32m    990\u001b[0m             \u001b[1;32mraise\u001b[0m \u001b[0mCannotSendHeader\u001b[0m\u001b[1;33m(\u001b[0m\u001b[1;33m)\u001b[0m\u001b[1;33m\u001b[0m\u001b[0m\n\u001b[1;32m--> 991\u001b[1;33m         \u001b[0mself\u001b[0m\u001b[1;33m.\u001b[0m\u001b[0m_send_output\u001b[0m\u001b[1;33m(\u001b[0m\u001b[0mmessage_body\u001b[0m\u001b[1;33m)\u001b[0m\u001b[1;33m\u001b[0m\u001b[0m\n\u001b[0m\u001b[0;32m    992\u001b[0m \u001b[1;33m\u001b[0m\u001b[0m\n\u001b[0;32m    993\u001b[0m     \u001b[1;32mdef\u001b[0m \u001b[0mrequest\u001b[0m\u001b[1;33m(\u001b[0m\u001b[0mself\u001b[0m\u001b[1;33m,\u001b[0m \u001b[0mmethod\u001b[0m\u001b[1;33m,\u001b[0m \u001b[0murl\u001b[0m\u001b[1;33m,\u001b[0m \u001b[0mbody\u001b[0m\u001b[1;33m=\u001b[0m\u001b[0mNone\u001b[0m\u001b[1;33m,\u001b[0m \u001b[0mheaders\u001b[0m\u001b[1;33m=\u001b[0m\u001b[1;33m{\u001b[0m\u001b[1;33m}\u001b[0m\u001b[1;33m)\u001b[0m\u001b[1;33m:\u001b[0m\u001b[1;33m\u001b[0m\u001b[0m\n",
        "\u001b[1;32mC:\\Python27\\Lib\\httplib.pyc\u001b[0m in \u001b[0;36m_send_output\u001b[1;34m(self, message_body)\u001b[0m\n\u001b[0;32m    842\u001b[0m             \u001b[0mmsg\u001b[0m \u001b[1;33m+=\u001b[0m \u001b[0mmessage_body\u001b[0m\u001b[1;33m\u001b[0m\u001b[0m\n\u001b[0;32m    843\u001b[0m             \u001b[0mmessage_body\u001b[0m \u001b[1;33m=\u001b[0m \u001b[0mNone\u001b[0m\u001b[1;33m\u001b[0m\u001b[0m\n\u001b[1;32m--> 844\u001b[1;33m         \u001b[0mself\u001b[0m\u001b[1;33m.\u001b[0m\u001b[0msend\u001b[0m\u001b[1;33m(\u001b[0m\u001b[0mmsg\u001b[0m\u001b[1;33m)\u001b[0m\u001b[1;33m\u001b[0m\u001b[0m\n\u001b[0m\u001b[0;32m    845\u001b[0m         \u001b[1;32mif\u001b[0m \u001b[0mmessage_body\u001b[0m \u001b[1;32mis\u001b[0m \u001b[1;32mnot\u001b[0m \u001b[0mNone\u001b[0m\u001b[1;33m:\u001b[0m\u001b[1;33m\u001b[0m\u001b[0m\n\u001b[0;32m    846\u001b[0m             \u001b[1;31m#message_body was not a string (i.e. it is a file) and\u001b[0m\u001b[1;33m\u001b[0m\u001b[1;33m\u001b[0m\u001b[0m\n",
        "\u001b[1;32mC:\\Python27\\Lib\\httplib.pyc\u001b[0m in \u001b[0;36msend\u001b[1;34m(self, data)\u001b[0m\n\u001b[0;32m    804\u001b[0m         \u001b[1;32mif\u001b[0m \u001b[0mself\u001b[0m\u001b[1;33m.\u001b[0m\u001b[0msock\u001b[0m \u001b[1;32mis\u001b[0m \u001b[0mNone\u001b[0m\u001b[1;33m:\u001b[0m\u001b[1;33m\u001b[0m\u001b[0m\n\u001b[0;32m    805\u001b[0m             \u001b[1;32mif\u001b[0m \u001b[0mself\u001b[0m\u001b[1;33m.\u001b[0m\u001b[0mauto_open\u001b[0m\u001b[1;33m:\u001b[0m\u001b[1;33m\u001b[0m\u001b[0m\n\u001b[1;32m--> 806\u001b[1;33m                 \u001b[0mself\u001b[0m\u001b[1;33m.\u001b[0m\u001b[0mconnect\u001b[0m\u001b[1;33m(\u001b[0m\u001b[1;33m)\u001b[0m\u001b[1;33m\u001b[0m\u001b[0m\n\u001b[0m\u001b[0;32m    807\u001b[0m             \u001b[1;32melse\u001b[0m\u001b[1;33m:\u001b[0m\u001b[1;33m\u001b[0m\u001b[0m\n\u001b[0;32m    808\u001b[0m                 \u001b[1;32mraise\u001b[0m \u001b[0mNotConnected\u001b[0m\u001b[1;33m(\u001b[0m\u001b[1;33m)\u001b[0m\u001b[1;33m\u001b[0m\u001b[0m\n",
        "\u001b[1;32mC:\\Python27\\Lib\\httplib.pyc\u001b[0m in \u001b[0;36mconnect\u001b[1;34m(self)\u001b[0m\n\u001b[0;32m    785\u001b[0m         \u001b[1;34m\"\"\"Connect to the host and port specified in __init__.\"\"\"\u001b[0m\u001b[1;33m\u001b[0m\u001b[0m\n\u001b[0;32m    786\u001b[0m         self.sock = self._create_connection((self.host,self.port),\n\u001b[1;32m--> 787\u001b[1;33m                                            self.timeout, self.source_address)\n\u001b[0m\u001b[0;32m    788\u001b[0m \u001b[1;33m\u001b[0m\u001b[0m\n\u001b[0;32m    789\u001b[0m         \u001b[1;32mif\u001b[0m \u001b[0mself\u001b[0m\u001b[1;33m.\u001b[0m\u001b[0m_tunnel_host\u001b[0m\u001b[1;33m:\u001b[0m\u001b[1;33m\u001b[0m\u001b[0m\n",
        "\u001b[1;32mC:\\Python27\\Lib\\socket.pyc\u001b[0m in \u001b[0;36mcreate_connection\u001b[1;34m(address, timeout, source_address)\u001b[0m\n\u001b[0;32m    569\u001b[0m \u001b[1;33m\u001b[0m\u001b[0m\n\u001b[0;32m    570\u001b[0m     \u001b[1;32mif\u001b[0m \u001b[0merr\u001b[0m \u001b[1;32mis\u001b[0m \u001b[1;32mnot\u001b[0m \u001b[0mNone\u001b[0m\u001b[1;33m:\u001b[0m\u001b[1;33m\u001b[0m\u001b[0m\n\u001b[1;32m--> 571\u001b[1;33m         \u001b[1;32mraise\u001b[0m \u001b[0merr\u001b[0m\u001b[1;33m\u001b[0m\u001b[0m\n\u001b[0m\u001b[0;32m    572\u001b[0m     \u001b[1;32melse\u001b[0m\u001b[1;33m:\u001b[0m\u001b[1;33m\u001b[0m\u001b[0m\n\u001b[0;32m    573\u001b[0m         \u001b[1;32mraise\u001b[0m \u001b[0merror\u001b[0m\u001b[1;33m(\u001b[0m\u001b[1;34m\"getaddrinfo returns an empty list\"\u001b[0m\u001b[1;33m)\u001b[0m\u001b[1;33m\u001b[0m\u001b[0m\n",
        "\u001b[1;31merror\u001b[0m: [Errno 10061] No connection could be made because the target machine actively refused it"
       ]
      }
     ],
     "prompt_number": 127
    },
    {
     "cell_type": "code",
     "collapsed": false,
     "input": [
      "results"
     ],
     "language": "python",
     "metadata": {},
     "outputs": [
      {
       "metadata": {},
       "output_type": "pyout",
       "prompt_number": 119,
       "text": [
        "{'G0070209': {u'Display PDF File  ': u'English(150.9K) , French(144.6K) , Russian(405.9K) , Spanish(145.4K) , Arabic(397K) , Chinese(2413.6K)  ',\n",
        "  u'Download File  ': u'English(240.5K)(WORD6) , French(231K)(WORD6) , Russian(330K)(WORD6) , Spanish(247.5K)(WORD6) , Arabic(269.5K)(WORD6) , Chinese(141.5K)(WORD6)  ',\n",
        "  u'ODS ': u'TD/386',\n",
        "  u'Publication date  ': u'18/1/2000 ',\n",
        "  u'Session/Year  ': u'10  ',\n",
        "  u'Subjects  ': u'GLOBALIZATION\\nINTERNATIONAL ECONOMIC RELATIONS\\nINTERNATIONAL TRADE\\nDEVELOPMENT STRATEGIES\\nDEVELOPMENT POLICY\\nECONOMIC POLICY\\nPROGRAMMES OF ACTION\\nINTERDEPENDENCE\\nDEVELOPING COUNTRIES\\nECONOMIC LIBERALIZATION\\nMULTILATERAL TRADE NEGOTIATIONS\\nMARKET ACCESS\\nTRADE AGREEMENTS\\nECONOMIC DEVELOPMENT\\nAFRICA\\nLEAST DEVELOPED COUNTRIES\\nTECHNICAL COOPERATION\\nDEBT RELIEF\\nDEVELOPMENT FINANCE\\nRESOURCES MOBILIZATION\\nECONOMIC COOPERATION\\nDEVELOPMENT ASSISTANCE\\nFOREIGN DIRECT INVESTMENT\\nTRADE LIBERALIZATION\\nTRADE POLICY\\nTRADE PREFERENCES\\nCOMMODITIES\\nINTERNATIONAL COMPETITION\\nTRADE IN SERVICES\\nECONOMIC COOPERATION AMONG DEVELOPING COUNTRIES\\nENTERPRISE DEVELOPMENT\\nCOMPETITIVENESS\\nSMALL ENTERPRISES\\nTECHNOLOGY TRANSFER\\nTECHNOLOGICAL CHANGE\\nCAPACITY BUILDING\\nEXPORT DEVELOPMENT\\nENVIRONMENTAL POLICY\\nTRADE FACILITATION\\nELECTRONIC COMMERCE\\nSERVICE INDUSTRIES\\nTRANSPORT FACILITATION\\nLANDLOCKED DEVELOPING COUNTRIES  ',\n",
        "  u'Symbol  ': u'TD/386  ',\n",
        "  u'Title  ': u'PLAN OF ACTION : UNITED NATIONS CONFERENCE ON TRADE AND DEVELOPMENT, 10TH SESSION, BANGKOK, 12-19 FEBRUARY 2000 '},\n",
        " 'G0115748': {u'Agenda Items  ': u'14g  ',\n",
        "  u'Agenda Items 2  ': u'14g  ',\n",
        "  u'Display PDF File  ': u'English(2395.6K) , French(1770.8K) , Russian(3861.8K) , Spanish(1930K) , Arabic(3602.8K) , Chinese(2610.5K)  ',\n",
        "  u'Download File  ': u'English(2458.5K)(WORD6) , French(3276.5K)(WORD6) , Russian(3856.5K)(WORD6) , Spanish(2327.5K)(WORD6) , Arabic(3118K)(WORD6) , Chinese(2014.5K)(WORD6)  ',\n",
        "  u'ODS ': u'E/2001/23(SUPP)\\nE/CN.4/2001/167\\nE/2001/23',\n",
        "  u'Publication date  ': u'1/10/2001 ',\n",
        "  u'Session/Year  ': u'2001-S  ',\n",
        "  u'Session/Year 2  ': u'57  ',\n",
        "  u'Subjects  ': u\"HUMAN RIGHTS\\nCOLOMBIA\\nSELF-DETERMINATION OF PEOPLES\\nRACIAL DISCRIMINATION\\nXENOPHOBIA\\nRIGHT TO DEVELOPMENT\\nTERRITORIES OCCUPIED BY ISRAEL\\nHUMAN RIGHTS VIOLATIONS\\nCYPRUS QUESTION\\nCOMMUNICATIONS PROCEDURES\\nEAST TIMOR SITUATION\\nECONOMIC, SOCIAL AND CULTURAL RIGHTS\\nCIVIL AND POLITICAL RIGHTS\\nWOMEN'S RIGHTS\\nGENDER-BASED VIOLENCE\\nRIGHTS OF THE CHILD\\nMIGRANTS\\nMINORITIES\\nDISPLACED PERSONS\\nINDIGENOUS PEOPLES\\nHUMAN RIGHTS ADVANCEMENT\\nTREATY-MONITORING BODIES\\nHUMAN RIGHTS INSTITUTIONS\\nINSTITUTIONAL MACHINERY\\nADVISORY SERVICES\\nTECHNICAL COOPERATION\\nDOCUMENTS  \",\n",
        "  u'Symbol  ': u'E/2001/23(SUPP)  ',\n",
        "  u'Symbol 2  ': u'E/CN.4/2001/167  ',\n",
        "  u'Symbol 3  ': u'E/2001/23  ',\n",
        "  u'Title  ': u'COMMISSION ON HUMAN RIGHTS : REPORT ON THE 57TH SESSION, 19 MARCH-27 APRIL 2001 '},\n",
        " 'G0120042': {u'Display PDF File  ': u'English(187.5K) , French(257.8K) , Russian(658.4K)  ',\n",
        "  u'Download File  ': u'English(372K)(WORD6) , French(341K)(WORD6) , Russian(505K)(WORD6)  ',\n",
        "  u'ODS ': u'TRANS/WP.30/AC.2/59',\n",
        "  u'Publication date  ': u'4/1/2001 ',\n",
        "  u'Session/Year  ': u'29  ',\n",
        "  u'Subjects  ': u'CUSTOMS CONVENTIONS\\nGOODS TRANSPORT\\nTIR CARNETS\\nCUSTOMS ADMINISTRATION\\nELECTION OF MEMBERS\\nBUDGETING\\nPRINTING\\nMANUALS\\nWEBSITES\\nIDENTIFICATION NUMBERS\\nCODES\\nTRANSPORT EQUIPMENT\\nCONTAINERS  ',\n",
        "  u'Symbol  ': u'TRANS/WP.30/AC.2/59  ',\n",
        "  u'Title  ': u'REPORT OF THE ADMINISTRATIVE COMMITTEE FOR THE TIR CONVENTION 1975 ON ITS 29TH SESSION, 19 AND 20 OCTOBER 2000 '},\n",
        " 'G0215272': {u'Agenda Items  ': u'14g  ',\n",
        "  u'Agenda Items 2  ': u'14g  ',\n",
        "  u'Display PDF File  ': u'English(2016.6K) , French(3079.5K) , Russian(5361.3K) , Spanish(2110.8K) , Arabic(4414.2K) , Chinese(2702.3K)  ',\n",
        "  u'Download File  ': u'English(2774.5K)(WORD6) , French(2746K)(WORD6) , Russian(4318.5K)(WORD6) , Spanish(2455.5K)(WORD6) , Arabic(3537.5K)(WORD6) , Chinese(2439K)(WORD6)  ',\n",
        "  u'ODS ': u'E/2002/23(SUPP)\\nE/CN.4/2002/200',\n",
        "  u'Publication date  ': u'25/9/2002 ',\n",
        "  u'Session/Year  ': u'2002-S  ',\n",
        "  u'Session/Year 2  ': u'58  ',\n",
        "  u'Subjects  ': u\"HUMAN RIGHTS\\nCOLOMBIA\\nSELF-DETERMINATION OF PEOPLES\\nRACIAL DISCRIMINATION\\nXENOPHOBIA\\nRIGHT TO DEVELOPMENT\\nTERRITORIES OCCUPIED BY ISRAEL\\nHUMAN RIGHTS VIOLATIONS\\nCYPRUS QUESTION\\nCOMMUNICATIONS PROCEDURES\\nEAST TIMOR SITUATION\\nECONOMIC, SOCIAL AND CULTURAL RIGHTS\\nCIVIL AND POLITICAL RIGHTS\\nWOMEN'S RIGHTS\\nGENDER-BASED VIOLENCE\\nRIGHTS OF THE CHILD\\nMIGRANTS\\nMINORITIES\\nINDIGENOUS PEOPLES\\nELECTION OF MEMBERS\\nHUMAN RIGHTS ADVANCEMENT\\nINSTITUTIONAL MACHINERY\\nADVISORY SERVICES\\nTECHNICAL COOPERATION  \",\n",
        "  u'Symbol  ': u'E/2002/23(SUPP)  ',\n",
        "  u'Symbol 2  ': u'E/CN.4/2002/200  ',\n",
        "  u'Title  ': u'COMMISSION ON HUMAN RIGHTS : REPORT ON THE 58TH SESSION, 18 MARCH-26 APRIL 2002 '},\n",
        " 'G0244335': {u'Display PDF File  ': u'English(730.6K) , French(825.6K) , Russian(1159.9K) , Spanish(676.7K) , Arabic(1431.9K) , Chinese(1117.8K)  ',\n",
        "  u'Download File  ': u'English(1379K)(WORD6) , French(951K)(WORD6) , Russian(1418.5K)(WORD6) , Spanish(904K)(WORD6) , Arabic(1076K)(WORD6) , Chinese(1227.5K)(WORD6)  ',\n",
        "  u'ODS ': u'CRC/C/118',\n",
        "  u'Publication date  ': u'3/9/2002 ',\n",
        "  u'Session/Year  ': u'30  ',\n",
        "  u'Subjects  ': u'RIGHTS OF THE CHILD\\nPERIODIC REPORTS\\nGUINEA-BISSAU\\nBELGIUM\\nNIGER\\nBELARUS\\nTUNISIA\\nSWITZERLAND\\nUNITED ARAB EMIRATES\\nSAINT VINCENT AND THE GRENADINES\\nSPAIN\\nNETHERLANDS\\nNETHERLANDS ANTILLES\\nTREATIES\\nSIGNATURES, ACCESSIONS, RATIFICATIONS  ',\n",
        "  u'Symbol  ': u'CRC/C/118  ',\n",
        "  u'Title  ': u'REPORT ON THE 30TH SESSION, GENEVA, 21 MAY-7 JUNE 2002 : COMMITTEE ON THE RIGHTS OF THE CHILD '},\n",
        " 'G0316227': {u'Agenda Items  ': u'14g  ',\n",
        "  u'Agenda Items 2  ': u'14g  ',\n",
        "  u'Display PDF File  ': u'English(2030.1K) , French(2304.9K) , Russian(5039.9K) , Spanish(2327.4K) , Arabic(4093.7K) , Chinese(3604.5K)  ',\n",
        "  u'Download File  ': u'English(2399K)(WORD6) , French(2657.5K)(WORD6) , Russian(4016.5K)(WORD6) , Spanish(2447.5K)(WORD6) , Arabic(3920K)(WORD6) , Chinese(2530.5K)(WORD6)  ',\n",
        "  u'ODS ': u'E/2003/23(SUPP)\\nE/CN.4/2003/135',\n",
        "  u'Publication date  ': u'30/9/2003 ',\n",
        "  u'Session/Year  ': u'2003-S  ',\n",
        "  u'Session/Year 2  ': u'59  ',\n",
        "  u'Subjects  ': u\"HUMAN RIGHTS\\nCOLOMBIA\\nSELF-DETERMINATION OF PEOPLES\\nRACIAL DISCRIMINATION\\nRIGHT TO DEVELOPMENT\\nTERRITORIES OCCUPIED BY ISRAEL\\nHUMAN RIGHTS VIOLATIONS\\nCYPRUS QUESTION\\nCOMMUNICATIONS PROCEDURES\\nADMINISTRATION OF JUSTICE\\nTIMOR-LESTE\\nECONOMIC, SOCIAL AND CULTURAL RIGHTS\\nCIVIL AND POLITICAL RIGHTS\\nWOMEN'S RIGHTS\\nGENDER-BASED VIOLENCE\\nRIGHTS OF THE CHILD\\nMIGRANTS\\nMINORITIES\\nREFUGEES\\nDISPLACED PERSONS\\nINDIGENOUS PEOPLES\\nHUMAN RIGHTS ADVANCEMENT\\nINSTITUTIONAL MACHINERY\\nADVISORY SERVICES\\nTECHNICAL COOPERATION\\nDOCUMENTS  \",\n",
        "  u'Symbol  ': u'E/2003/23(SUPP)  ',\n",
        "  u'Symbol 2  ': u'E/CN.4/2003/135  ',\n",
        "  u'Title  ': u'COMMISSION ON HUMAN RIGHTS : REPORT ON THE 59TH SESSION, 17 MARCH-24 APRIL 2003 '},\n",
        " 'G0416200': {u'Agenda Items  ': u'14g  ',\n",
        "  u'Agenda Items 2  ': u'14g  ',\n",
        "  u'Display PDF File  ': u'English(2155.2K) , French(2505.7K) , Russian(4311.5K) , Spanish(2481.9K) , Arabic(3449.7K) , Chinese(3781.6K)  ',\n",
        "  u'Download File  ': u'English(3029.5K)(WORD6) , French(3434K)(WORD6) , Russian(4546K)(WORD6) , Spanish(2823.5K)(WORD6) , Arabic(4042.5K)(WORD6) , Chinese(2822K)(WORD6)  ',\n",
        "  u'ODS ': u'E/2004/23(SUPP)\\nE/CN.4/2004/127',\n",
        "  u'Publication date  ': u'15/10/2004 ',\n",
        "  u'Session/Year  ': u'2004-S  ',\n",
        "  u'Session/Year 2  ': u'60  ',\n",
        "  u'Subjects  ': u\"HUMAN RIGHTS\\nSELF-DETERMINATION OF PEOPLES\\nRACIAL DISCRIMINATION\\nRIGHT TO DEVELOPMENT\\nTERRITORIES OCCUPIED BY ISRAEL\\nHUMAN RIGHTS VIOLATIONS\\nCYPRUS QUESTION\\nCOMMUNICATIONS PROCEDURES\\nECONOMIC, SOCIAL AND CULTURAL RIGHTS\\nCIVIL AND POLITICAL RIGHTS\\nWOMEN'S RIGHTS\\nGENDER-BASED VIOLENCE\\nRIGHTS OF THE CHILD\\nMIGRANT WORKERS\\nMINORITIES\\nREFUGEES\\nDISPLACED PERSONS\\nINDIGENOUS PEOPLES\\nHUMAN RIGHTS ADVANCEMENT\\nINSTITUTIONAL MACHINERY\\nADVISORY SERVICES\\nTECHNICAL COOPERATION\\nDOCUMENTS  \",\n",
        "  u'Symbol  ': u'E/2004/23(SUPP)  ',\n",
        "  u'Symbol 2  ': u'E/CN.4/2004/127  ',\n",
        "  u'Title  ': u'COMMISSION ON HUMAN RIGHTS : REPORT ON THE 60TH SESSION, 15 MARCH-23 APRIL 2004 '},\n",
        " 'G0516105': {u'Agenda Items  ': u'14g  ',\n",
        "  u'Agenda Items 2  ': u'14g  ',\n",
        "  u'Display PDF File  ': u'English(2305.7K) , French(2647.1K) , Russian(77135.1K) , Spanish(2278.5K) , Arabic(3937.3K) , Chinese(6013.4K)  ',\n",
        "  u'Download File  ': u'English(2710.5K)(WORD6) , French(3371.5K)(WORD6) , Spanish(2837K)(WORD6) , Arabic(4460.5K)(WORD6) , Chinese(2807K)(WORD6)  ',\n",
        "  u'ODS ': u'E/2005/23(SUPP)\\nE/CN.4/2005/135',\n",
        "  u'Publication date  ': u'1/11/2005 ',\n",
        "  u'Session/Year  ': u'2005-S  ',\n",
        "  u'Session/Year 2  ': u'61  ',\n",
        "  u'Subjects  ': u\"HUMAN RIGHTS\\nSELF-DETERMINATION OF PEOPLES\\nRACIAL DISCRIMINATION\\nRIGHT TO DEVELOPMENT\\nTERRITORIES OCCUPIED BY ISRAEL\\nHUMAN RIGHTS VIOLATIONS\\nCYPRUS QUESTION\\nCOMMUNICATIONS PROCEDURES\\nECONOMIC, SOCIAL AND CULTURAL RIGHTS\\nCIVIL AND POLITICAL RIGHTS\\nWOMEN'S RIGHTS\\nGENDER-BASED VIOLENCE\\nRIGHTS OF THE CHILD\\nDISPLACED PERSONS\\nMINORITIES\\nMIGRANTS\\nPERSONS WITH DISABILITIES\\nINDIGENOUS PEOPLES\\nHUMAN RIGHTS ADVANCEMENT\\nINSTITUTIONAL MACHINERY\\nADVISORY SERVICES\\nTECHNICAL COOPERATION\\nDOCUMENTS  \",\n",
        "  u'Symbol  ': u'E/2005/23(SUPP)  ',\n",
        "  u'Symbol 2  ': u'E/CN.4/2005/135  ',\n",
        "  u'Title  ': u'COMMISSION ON HUMAN RIGHTS : REPORT ON THE 61ST SESSION, 14 MARCH-22 APRIL 2005 '},\n",
        " 'G0560290': {u'Agenda Items  ': u'18  ',\n",
        "  u'Display PDF File  ': u'English(601.6K) , French(771.2K) , Russian(1098.8K) , Spanish(700.6K) , Arabic(1448.6K) , Chinese(2901.4K)  ',\n",
        "  u'Download File  ': u'English(1125K)(WORD6) , French(960.5K)(WORD6) , Russian(1526.5K)(WORD6) , Spanish(953.5K)(WORD6) , Arabic(1406.5K)(WORD6) , Chinese(961.5K)(WORD6)  ',\n",
        "  u'ODS ': u'APLC/CONF/2004/5',\n",
        "  u'Publication date  ': u'9/2/2005 ',\n",
        "  u'Session/Year  ': u'2004  ',\n",
        "  u'Subjects  ': u'LANDMINES\\nMINE CLEARANCE\\nPROGRAMMES OF ACTION\\nSIGNATURES, ACCESSIONS, RATIFICATIONS  ',\n",
        "  u'Symbol  ': u'APLC/CONF/2004/5  ',\n",
        "  u'Title  ': u'FINAL REPORT : 1ST REVIEW CONFERENCE OF THE STATES PARTIES TO THE CONVENTION ON THE PROHIBITION OF THE USE, STOCKPILING, PRODUCTION AND TRANSFER OF ANTI-PERSONNEL MINES AND ON THEIR DESTRUCTION, NAIROBI, 29 NOVEMBER-3 DECEMBER 2004 '},\n",
        " 'G0561029': {u'Display PDF File  ': u'English(126.3K) , French(343.6K) , Russian(404K) , Spanish(319.5K) , Arabic(528.7K) , Chinese(1706.3K)  ',\n",
        "  u'Download File  ': u'English(219K)(WORD6) , French(254K)(WORD6) , Russian(347K)(WORD6) , Spanish(244.5K)(WORD6) , Arabic(324K)(WORD6) , Chinese(624K)(WORD6)  ',\n",
        "  u'ODS ': u'A/CONF.206/6',\n",
        "  u'Publication date  ': u'16/3/2005 ',\n",
        "  u'Symbol  ': u'A/CONF.206/6  ',\n",
        "  u'Title  ': u' '},\n",
        " 'G0663620': {u'Display PDF File  ': u'English(2258.6K) , French(2592.8K) , Russian(4158.8K) , Spanish(2554.1K) , Arabic(5389.7K) , Chinese(6200.6K)  ',\n",
        "  u'Download File  ': u'English(2015.5K)(WORD6) , French(2410K)(WORD6) , Russian(3755.5K)(WORD6) , Spanish(2087.5K)(WORD6) , Arabic(2947.5K)(WORD6) , Chinese(1525K)(WORD6)  ',\n",
        "  u'ODS ': u'A/61/10',\n",
        "  u'Publication date  ': u'1/10/2006 ',\n",
        "  u'Symbol  ': u'A/61/10  ',\n",
        "  u'Title  ': u' '},\n",
        " 'G0815283': {u'Agenda Items  ': u'1  ',\n",
        "  u'Display PDF File  ': u'English(1185.6K) , French(1756.5K) , Russian(2434.9K) , Spanish(1381.3K) , Arabic(1936K) , Chinese(1924.1K)  ',\n",
        "  u'Download File  ': u'English(1934.5K)(WORD6) , French(1713K)(WORD6) , Russian(2907K)(WORD6) , Spanish(1726K)(WORD6) , Arabic(2674.5K)(WORD6) , Chinese(1413K)(WORD6)  ',\n",
        "  u'ODS ': u'A/HRC/8/52',\n",
        "  u'Publication date  ': u'1/9/2008 ',\n",
        "  u'Session/Year  ': u'8  ',\n",
        "  u'Subjects  ': u\"HUMAN RIGHTS\\nSPECIAL PROCEDURES\\nMYANMAR\\nTERRITORIES OCCUPIED BY ISRAEL\\nWOMEN'S RIGHTS\\nRACIAL DISCRIMINATION\\nFINANCIAL IMPLICATIONS\\nDOCUMENTS  \",\n",
        "  u'Symbol  ': u'A/HRC/8/52  ',\n",
        "  u'Title  ': u'REPORT OF THE HUMAN RIGHTS COUNCIL ON ITS 8TH SESSION '},\n",
        " 'N0038897': {u'Agenda Items  ': u'49b  ',\n",
        "  u'Display PDF File  ': u'English(3908.6K) , French(4600.3K) , Russian(5160.3K) , Spanish(4869.8K) , Arabic(3264.7K) , Chinese(924.5K) , Other (German)(5035.4K)  ',\n",
        "  u'Download File  ': u'English(771.5K)(WORD6) , French(1148K)(WORD6) , Russian(546.5K)(WORD6) , Spanish(361.5K)(WORD6) , Arabic(423K)(WORD6) , Chinese(233.5K)(WORD6)  ',\n",
        "  u'ODS ': u'A/54/2000',\n",
        "  u'Publication date  ': u'13/4/2000 ',\n",
        "  u'Session/Year  ': u'54  ',\n",
        "  u'Subjects  ': u'GLOBALIZATION\\nGOVERNANCE\\nSUSTAINABLE DEVELOPMENT\\nPEACEKEEPING OPERATIONS\\nPOVERTY MITIGATION\\nDIGITAL TECHNOLOGY\\nAFRICA\\nYOUTH POLICY\\nAIDS PREVENTION\\nSANCTIONS\\nARMS LIMITATION\\nCLIMATE CHANGE\\nENVIRONMENTAL PROTECTION  ',\n",
        "  u'Symbol  ': u'A/54/2000  ',\n",
        "  u'Title  ': u'WE THE PEOPLES : THE ROLE OF THE UNITED NATIONS IN THE 21ST CENTURY : REPORT OF THE SECRETARY-GENERAL '},\n",
        " 'N0040845': {u'Display PDF File  ': u'English(146.6K) , French(176.5K) , Russian(378.9K) , Spanish(160.9K) , Arabic(245.8K) , Chinese(437.3K) , Other (German)(137.6K)  ',\n",
        "  u'Download File  ': u'English(145.5K)(WORD6) , French(171.5K)(WORD6) , Russian(222K)(WORD6) , Spanish(166K)(WORD6) , Arabic(232.5K)(WORD6) , Chinese(129.5K)(WORD6) , Other (German)(126K)(WORD6)  ',\n",
        "  u'ODS ': u'ST/SGB/2000/8',\n",
        "  u'Publication date  ': u'19/4/2000 ',\n",
        "  u'Subjects  ': u'GLOSSARIES\\nPROGRAMME PLANNING\\nPROGRAMME BUDGETING\\nPROGRAMME EVALUATION\\nPROGRAMME IMPLEMENTATION\\nRULES AND REGULATIONS  ',\n",
        "  u'Symbol  ': u'ST/SGB/2000/8  ',\n",
        "  u'Title  ': u'REGULATIONS AND RULES GOVERNING PROGRAMME PLANNING, THE PROGRAMME ASPECTS OF THE BUDGET, THE MONITORING OF IMPLEMENTATION AND THE METHODS OF EVALUATION '},\n",
        " 'N0059175': {u'Agenda Items  ': u'60 60a 123  ',\n",
        "  u'Display PDF File  ': u'English(318.4K) , French(387.4K) , Russian(694.7K) , Spanish(387.7K) , Arabic(334.9K) , Chinese(598.1K)  ',\n",
        "  u'Download File  ': u'English(237K)(WORD6) , French(315K)(WORD6) , Russian(455K)(WORD6) , Spanish(298K)(WORD6) , Arabic(326.5K)(WORD6) , Chinese(190.5K)(WORD6)  ',\n",
        "  u'ODS ': u'A/55/253',\n",
        "  u'Publication date  ': u'1/8/2000 ',\n",
        "  u'Session/Year  ': u'55  ',\n",
        "  u'Subjects  ': u'PERSONNEL MANAGEMENT\\nADMINISTRATIVE REFORM\\nHUMAN RESOURCES\\nMANPOWER PLANNING\\nRECRUITMENT\\nCAREER DEVELOPMENT\\nCOMPETITIVE EXAMINATIONS\\nPERFORMANCE APPRAISAL\\nWORKING CONDITIONS\\nVACANCY MANAGEMENT\\nPROMOTION\\nADMINISTRATION OF JUSTICE\\nINTERNAL OVERSIGHT\\nRECOMMENDATIONS  ',\n",
        "  u'Symbol  ': u'A/55/253  ',\n",
        "  u'Title  ': u'HUMAN RESOURCES MANAGEMENT REFORM : REPORT OF THE SECRETARY-GENERAL '},\n",
        " 'N0062814': {u'Agenda Items  ': u'11  ',\n",
        "  u'Agenda Items 2  ': u'11  ',\n",
        "  u'Display PDF File  ': u'English(4041.9K) , French(4401.3K) , Russian(6849.3K) , Spanish(4516.9K) , Arabic(3405.1K) , Chinese(3479.6K)  ',\n",
        "  u'Download File  ': u'English(2774K)(WORD6) , French(3119.5K)(WORD6) , Russian(5112.5K)(WORD6) , Spanish(3191.5K)(WORD6) , Arabic(3848.5K)(WORD6) , Chinese(2410.5K)(WORD6)  ',\n",
        "  u'ODS ': u'A/55/2\\nA/55/2(SUPP)',\n",
        "  u'Publication date  ': u'1/1/2000 ',\n",
        "  u'Session/Year  ': u'55  ',\n",
        "  u'Session/Year 2  ': u'55  ',\n",
        "  u'Subjects  ': u'HUMANITARIAN ASSISTANCE\\nCYPRUS QUESTION\\nERITREA\\nETHIOPIA\\nMIDDLE EAST SITUATION\\nTERRITORIES OCCUPIED BY ISRAEL\\nEAST TIMOR QUESTION\\nWESTERN SAHARA QUESTION\\nWRITTEN COMMUNICATIONS\\nANGOLA SITUATION\\nINTERNATIONAL SECURITY\\nIRAQ-KUWAIT SITUATION\\nSANCTIONS\\nPOLITICAL CONDITIONS\\nBOSNIA AND HERZEGOVINA SITUATION\\nHUMAN RIGHTS IN ARMED CONFLICTS\\nSTAFF SECURITY\\nSOMALIA SITUATION\\nFORMER YUGOSLAVIA SITUATION\\nAFRICAN REFUGEES\\nAFGHANISTAN SITUATION\\nCROATIA SITUATION\\nTHE FORMER YUGOSLAV REPUBLIC OF MACEDONIA\\nKOSOVO (SERBIA)\\nSIERRA LEONE\\nPEACEBUILDING\\nCENTRAL AFRICAN REPUBLIC\\nRWANDA SITUATION\\nTAJIKISTAN SITUATION\\nGEORGIA SITUATION\\nGUINEA-BISSAU\\nBURUNDI SITUATION\\nCHILDREN IN ARMED CONFLICTS\\nHAITI QUESTION\\nDEMOCRATIC REPUBLIC OF THE CONGO SITUATION\\nSMALL ARMS\\nPEACEKEEPING OPERATIONS\\nEAST TIMOR SITUATION  ',\n",
        "  u'Symbol  ': u'A/55/2  ',\n",
        "  u'Symbol 2  ': u'A/55/2(SUPP)  ',\n",
        "  u'Title  ': u'REPORT OF THE SECURITY COUNCIL, 16 JUNE 1999-15 JUNE 2000 '},\n",
        " 'N0130266': {u'Agenda Items  ': u'18  ',\n",
        "  u'Display PDF File  ': u'English(135.5K) , French(55.4K) , Russian(183.3K) , Spanish(56.3K) , Arabic(129.1K) , Chinese(239.8K)  ',\n",
        "  u'Download File  ': u'English(61.5K)(WORD6) , French(64K)(WORD6) , Russian(81K)(WORD6) , Spanish(64K)(WORD6) , Arabic(68.5K)(WORD6) , Chinese(60.5K)(WORD6)  ',\n",
        "  u'ODS ': u'A/56/61',\n",
        "  u'Publication date  ': u'22/3/2001 ',\n",
        "  u'Session/Year  ': u'56  ',\n",
        "  u'Subjects  ': u'DECOLONIZATION\\nNON-SELF-GOVERNING TERRITORIES\\nSPECIALIZED AGENCIES\\nNON-GOVERNMENTAL ORGANIZATIONS\\nCOOPERATION BETWEEN ORGANIZATIONS\\nINTERNATIONAL DECADES\\nPROGRAMMES OF ACTION  ',\n",
        "  u'Symbol  ': u'A/56/61  ',\n",
        "  u'Title  ': u'SECOND INTERNATIONAL DECADE FOR THE ERADICATION OF COLONIALISM : REPORT OF THE SECRETARY-GENERAL '},\n",
        " 'N0132461': {u'Agenda Items  ': u'130a 133 135 138a 143 144 148 153a 126 134 123  ',\n",
        "  u'Display PDF File  ': u'English(218.8K) , French(168K) , Russian(406.2K) , Spanish(184K) , Arabic(304K) , Chinese(523.2K)  ',\n",
        "  u'Download File  ': u'English(208K)(WORD6) , French(247.5K)(WORD6) , Russian(295.5K)(WORD6) , Spanish(241K)(WORD6) , Arabic(290K)(WORD6) , Chinese(300K)(WORD6)  ',\n",
        "  u'ODS ': u'A/55/874',\n",
        "  u'Publication date  ': u'6/4/2001 ',\n",
        "  u'Session/Year  ': u'55  ',\n",
        "  u'Subjects  ': u'PEACEKEEPING OPERATIONS\\nBUDGET PERFORMANCE\\nFINANCING\\nDISSOLUTION\\nSTAFFING\\nVACANCY MANAGEMENT\\nTRAINING PROGRAMMES\\nPUBLIC INFORMATION\\nPURCHASING\\nTROOP-CONTRIBUTING STATES\\nREIMBURSEMENT  ',\n",
        "  u'Symbol  ': u'A/55/874  ',\n",
        "  u'Title  ': u'FINANCING OF THE UNITED NATIONS PEACEKEEPING OPERATIONS : REPORT OF THE ADVISORY COMMITTEE ON ADMINISTRATIVE AND BUDGETARY QUESTIONS '},\n",
        " 'N0152607': {u'Agenda Items  ': u'29  ',\n",
        "  u'Display PDF File  ': u'English(443.9K) , French(496.6K) , Russian(1037.5K) , Spanish(564.8K) , Arabic(660.4K) , Chinese(701.5K) , Other (German)(508.8K)  ',\n",
        "  u'Download File  ': u'English(312.5K)(WORD6) , French(395K)(WORD6) , Russian(644.5K)(WORD6) , Spanish(401.5K)(WORD6) , Arabic(477.5K)(WORD6) , Chinese(251.5K)(WORD6) , Other (German)(485.5K)(WORD6)  ',\n",
        "  u'ODS ': u'A/56/326',\n",
        "  u'Publication date  ': u'6/9/2001 ',\n",
        "  u'Session/Year  ': u'56  ',\n",
        "  u'Subjects  ': u'SUSTAINABLE DEVELOPMENT\\nAFRICA\\nINTERNATIONAL SECURITY\\nDEVELOPMENT\\nENVIRONMENTAL PROTECTION\\nHUMANITARIAN ASSISTANCE\\nHUMAN RIGHTS\\nDISARMAMENT\\nPOVERTY MITIGATION\\nGOVERNANCE\\nDEMOCRACY\\nINSTITUTIONAL MACHINERY\\nREFUGEE PROTECTION\\nDECLARATIONS  ',\n",
        "  u'Symbol  ': u'A/56/326  ',\n",
        "  u'Title  ': u'ROAD MAP TOWARDS THE IMPLEMENTATION OF THE UNITED NATIONS MILLENNIUM DECLARATION : REPORT OF THE SECRETARY-GENERAL '},\n",
        " 'N0154435': {u'Agenda Items  ': u'11  ',\n",
        "  u'Display PDF File  ': u'English(2641.9K) , French(3095.9K) , Russian(7337.2K) , Spanish(4634.9K) , Arabic(4871.9K) , Chinese(3245.5K)  ',\n",
        "  u'Download File  ': u'English(2734K)(WORD6) , French(3202K)(WORD6) , Russian(5167K)(WORD6) , Spanish(3290K)(WORD6) , Arabic(4185K)(WORD6) , Chinese(2728K)(WORD6)  ',\n",
        "  u'ODS ': u'A/56/2(SUPP)',\n",
        "  u'Publication date  ': u'20/9/2001 ',\n",
        "  u'Session/Year  ': u'56  ',\n",
        "  u'Subjects  ': u'INTERNATIONAL SECURITY\\nPEACEKEEPING OPERATIONS\\nDEMOCRATIC REPUBLIC OF THE CONGO SITUATION\\nMIDDLE EAST SITUATION\\nPALESTINE QUESTION\\nTERRITORIES OCCUPIED BY ISRAEL\\nFORMER YUGOSLAVIA SITUATION\\nBOSNIA AND HERZEGOVINA SITUATION\\nCROATIA SITUATION\\nTHE FORMER YUGOSLAV REPUBLIC OF MACEDONIA\\nPOLITICAL CONDITIONS\\nSIERRA LEONE\\nEAST TIMOR SITUATION\\nSOMALIA SITUATION\\nAIDS\\nWESTERN SAHARA QUESTION\\nCHILDREN IN ARMED CONFLICTS\\nANGOLA SITUATION\\nGEORGIA SITUATION\\nETHIOPIA\\nERITREA\\nAFRICA\\nBURUNDI SITUATION\\nWOMEN\\nSOLOMON ISLANDS\\nGUINEA-BISSAU\\nIRAQ-KUWAIT SITUATION\\nCYPRUS QUESTION\\nAFGHANISTAN SITUATION\\nGUINEA\\nTROOP-CONTRIBUTING STATES\\nCENTRAL AFRICAN REPUBLIC\\nCOOPERATION BETWEEN ORGANIZATIONS\\nPEACEBUILDING\\nGREAT LAKES REGION (AFRICA)\\nLIBERIA SITUATION\\nRWANDA SITUATION\\nARMED CONFLICTS\\nSANCTIONS  ',\n",
        "  u'Symbol  ': u'A/56/2(SUPP)  ',\n",
        "  u'Title  ': u'REPORT OF THE SECURITY COUNCIL, 16 JUNE 2000-15 JUNE 2001 '},\n",
        " 'N0166129': {u'Agenda Items  ': u'107  ',\n",
        "  u'Display PDF File  ': u'English(693.2K) , French(153.2K) , Russian(245.3K) , Spanish(155.9K) , Arabic(148.3K) , Chinese(379.5K)  ',\n",
        "  u'Download File  ': u'English(37.5K)(WORD6) , French(90K)(WORD6) , Russian(125.5K)(WORD6) , Spanish(88K)(WORD6) , Arabic(101K)(WORD6) , Chinese(70K)(WORD6)  ',\n",
        "  u'ODS ': u'A/C.2/56/7',\n",
        "  u'Publication date  ': u'27/11/2001 ',\n",
        "  u'Session/Year  ': u'56  ',\n",
        "  u'Subjects  ': u'INTERNATIONAL TRADE\\nMULTILATERAL TRADE NEGOTIATIONS\\nTRADE AGREEMENTS\\nDECLARATIONS (TEXT)\\nTRADE POLICY\\nLEAST DEVELOPED COUNTRIES  ',\n",
        "  u'Symbol  ': u'A/C.2/56/7  ',\n",
        "  u'Title  ': u'LETTER DATED 2001/11/19 FROM THE PERMANENT REPRESENTATIVE OF QATAR TO THE UNITED NATIONS ADDRESSED TO THE SECRETARY-GENERAL '},\n",
        " 'N0221543': {u'Display PDF File  ': u'English(603.6K) , French(745K) , Russian(1493.1K) , Spanish(527.1K) , Arabic(1087.1K) , Chinese(1132.1K)  ',\n",
        "  u'Download File  ': u'English(649K)(WORD6) , French(636K)(WORD6) , Russian(1019.5K)(WORD6) , Spanish(607.5K)(WORD6) , Arabic(827K)(WORD6) , Chinese(453.5K)(WORD6)  ',\n",
        "  u'ODS ': u'A/CONF.189/12',\n",
        "  u'Publication date  ': u'1/1/2002 ',\n",
        "  u'Session/Year  ': u'2001  ',\n",
        "  u'Subjects  ': u'RACIAL DISCRIMINATION\\nXENOPHOBIA\\nHUMAN RIGHTS\\nANTI-DISCRIMINATION MEASURES\\nDECLARATIONS (TEXT)\\nPROGRAMMES OF ACTION  ',\n",
        "  u'Symbol  ': u'A/CONF.189/12  ',\n",
        "  u'Title  ': u'REPORT OF THE WORLD CONFERENCE AGAINST RACISM, RACIAL DISCRIMINATION, XENOPHOBIA AND RELATED INTOLERANCE, DURBAN, 31 AUGUST-8SEPTEMBER 2001 '},\n",
        " 'N0231925': {u'Agenda Items  ': u'133  ',\n",
        "  u'Display PDF File  ': u'English(176.2K) , French(280.9K) , Russian(472.8K) , Spanish(272.1K) , Arabic(330.5K) , Chinese(651.8K)  ',\n",
        "  u'Download File  ': u'English(270K)(WORD6) , French(437.5K)(WORD6) , Russian(351K)(WORD6) , Spanish(280.5K)(WORD6) , Arabic(308.5K)(WORD6) , Chinese(375.5K)(WORD6)  ',\n",
        "  u'ODS ': u'A/56/887',\n",
        "  u'Publication date  ': u'5/4/2002 ',\n",
        "  u'Session/Year  ': u'56  ',\n",
        "  u'Subjects  ': u'PEACEKEEPING OPERATIONS\\nFINANCING\\nBUDGET PERFORMANCE\\nSPECIAL MISSIONS\\nMILITARY PERSONNEL\\nFIELD STAFF\\nEQUIPMENT AND SUPPLIES\\nSUBSISTENCE ALLOWANCE\\nINFORMATION TECHNOLOGY\\nPUBLIC INFORMATION\\nTRAINING PROGRAMMES  ',\n",
        "  u'Symbol  ': u'A/56/887  ',\n",
        "  u'Title  ': u'ADMINISTRATIVE AND BUDGETARY ASPECTS OF THE FINANCING OF THE UNITED NATIONS PEACEKEEPING OPERATIONS : REPORT OF THE ADVISORY COMMITTEE ON ADMINISTRATIVE AND BUDGETARY QUESTIONS '},\n",
        " 'N0252584': {u'Agenda Items  ': u'41  ',\n",
        "  u'Display PDF File  ': u'English(253.4K) , French(300.7K) , Russian(589.4K) , Spanish(291K) , Arabic(366.8K) , Chinese(582.1K)  ',\n",
        "  u'Download File  ': u'English(409.5K)(WORD6) , French(278K)(WORD6) , Russian(346K)(WORD6) , Spanish(238.5K)(WORD6) , Arabic(279.5K)(WORD6) , Chinese(165K)(WORD6)  ',\n",
        "  u'ODS ': u'A/57/304',\n",
        "  u'Publication date  ': u'15/8/2002 ',\n",
        "  u'Session/Year  ': u'57  ',\n",
        "  u'Subjects  ': u'POVERTY MITIGATION\\nSUSTAINABLE DEVELOPMENT\\nDEVELOPMENT STRATEGIES\\nPARTNERSHIP\\nAFRICA\\nREGIONAL SECURITY\\nGOVERNANCE\\nNATURAL RESOURCES DEVELOPMENT\\nDIGITAL DIVIDE\\nHUMAN RESOURCES\\nBRAIN DRAIN\\nAGRICULTURE\\nENVIRONMENT\\nCULTURE\\nRESOURCES MOBILIZATION  ',\n",
        "  u'Symbol  ': u'A/57/304  ',\n",
        "  u'Title  ': u'LETTER DATED 2002/08/14 FROM THE PERMANENT REPRESENTATIVE OF SOUTH AFRICA TO THE UNITED NATIONS ADDRESSED TO THE PRESIDENT OF THE GENERAL ASSEMBLY '},\n",
        " 'N0258326': {u'Agenda Items  ': u'52  ',\n",
        "  u'Display PDF File  ': u'English(175K) , French(313.1K) , Russian(687.5K) , Spanish(321.6K) , Arabic(423.4K) , Chinese(670.3K) , Other (German)(313.4K)  ',\n",
        "  u'Download File  ': u'English(199.5K)(WORD6) , French(239K)(WORD6) , Russian(382K)(WORD6) , Spanish(245K)(WORD6) , Arabic(278.5K)(WORD6) , Chinese(152.5K)(WORD6) , Other (German)(307.5K)(WORD6)  ',\n",
        "  u'ODS ': u'A/57/387',\n",
        "  u'Publication date  ': u'11/9/2002 ',\n",
        "  u'Session/Year  ': u'57  ',\n",
        "  u'Subjects  ': u'ADMINISTRATIVE REFORM\\nPUBLIC INFORMATION\\nINFORMATION CENTRES\\nHUMAN RIGHTS\\nCONFERENCE AND MEETING SERVICES\\nCOORDINATION WITHIN UN SYSTEM\\nINSTITUTIONAL MACHINERY\\nDOCUMENTS LIMITATION\\nNEW TECHNOLOGIES\\nPUBLICATIONS\\nLIBRARIES\\nREPORTING PROCEDURES\\nREPORT PREPARATION\\nRESOURCES ALLOCATION\\nPERSONNEL MANAGEMENT\\nCAREER DEVELOPMENT\\nBUDGETARY POLICY\\nRECOMMENDATIONS  ',\n",
        "  u'Symbol  ': u'A/57/387  ',\n",
        "  u'Title  ': u'STRENGTHENING OF THE UNITED NATIONS : AN AGENDA FOR FURTHER CHANGE : REPORT OF THE SECRETARY-GENERAL '},\n",
        " 'N0260781': {u'Agenda Items  ': u'11  ',\n",
        "  u'Display PDF File  ': u'English(1205K) , French(928.6K) , Russian(1818.5K) , Spanish(991.9K) , Arabic(1274K) , Chinese(1280.6K)  ',\n",
        "  u'Download File  ': u'English(1368K)(WORD6) , French(1755K)(WORD6) , Russian(1940.5K)(WORD6) , Spanish(1631.5K)(WORD6) , Arabic(1616K)(WORD6) , Chinese(1772.5K)(WORD6)  ',\n",
        "  u'ODS ': u'A/57/2(SUPP)',\n",
        "  u'Publication date  ': u'1/1/2002 ',\n",
        "  u'Session/Year  ': u'57  ',\n",
        "  u'Subjects  ': u'INTERNATIONAL SECURITY\\nPEACEKEEPING OPERATIONS\\nPEACEBUILDING\\nSUBSIDIARY BODIES\\nDOCUMENTATION\\nAFGHANISTAN SITUATION\\nEAST TIMOR SITUATION\\nANGOLA SITUATION\\nPOLITICAL CONDITIONS\\nSIERRA LEONE\\nSOMALIA SITUATION\\nGUINEA-BISSAU\\nETHIOPIA\\nERITREA\\nPALESTINE QUESTION\\nFORMER YUGOSLAVIA SITUATION\\nCYPRUS QUESTION\\nGEORGIA SITUATION\\nCOUNTER-TERRORISM\\nWRITTEN COMMUNICATIONS\\nSANCTIONS\\nCONSULTATIONS  ',\n",
        "  u'Symbol  ': u'A/57/2(SUPP)  ',\n",
        "  u'Title  ': u'REPORT OF THE SECURITY COUNCIL, 16 JUNE 2001-31 JULY 2002 '},\n",
        " 'N0268852': {u'Display PDF File  ': u'English(201.4K) , French(147.3K) , Russian(434.7K) , Spanish(310.7K) , Arabic(440.7K) , Chinese(536.4K)  ',\n",
        "  u'Download File  ': u'English(305.5K)(WORD6) , French(277.5K)(WORD6) , Russian(351.5K)(WORD6) , Spanish(276K)(WORD6) , Arabic(449.5K)(WORD6) , Chinese(400.5K)(WORD6)  ',\n",
        "  u'ODS ': u'JOURNAL NO. 2002/227',\n",
        "  u'Publication date  ': u'20/11/2002 ',\n",
        "  u'Symbol  ': u'JOURNAL NO. 2002/227  ',\n",
        "  u'Title  ': u'PROGRAMME OF MEETINGS AND AGENDA '},\n",
        " 'N0268858': {u'Display PDF File  ': u'English(206.9K) , French(168.8K) , Russian(431.4K) , Spanish(169.2K) , Arabic(440K) , Chinese(476.5K)  ',\n",
        "  u'Download File  ': u'English(328K)(WORD6) , French(289.5K)(WORD6) , Russian(365K)(WORD6) , Spanish(289.5K)(WORD6) , Arabic(458K)(WORD6) , Chinese(327.5K)(WORD6)  ',\n",
        "  u'ODS ': u'JOURNAL NO. 2002/228',\n",
        "  u'Publication date  ': u'21/11/2002 ',\n",
        "  u'Symbol  ': u'JOURNAL NO. 2002/228  ',\n",
        "  u'Title  ': u'PROGRAMME OF MEETINGS AND AGENDA '},\n",
        " 'N0271991': {u'Display PDF File  ': u'English(214.3K) , French(174.2K) , Russian(454.5K) , Spanish(181.9K) , Arabic(470K) , Chinese(449.8K)  ',\n",
        "  u'Download File  ': u'English(461K)(WORD6) , French(314.5K)(WORD6) , Russian(478K)(WORD6) , Spanish(318K)(WORD6) , Arabic(473.5K)(WORD6) , Chinese(348.5K)(WORD6)  ',\n",
        "  u'ODS ': u'JOURNAL NO. 2002/241',\n",
        "  u'Publication date  ': u'12/12/2002 ',\n",
        "  u'Symbol  ': u'JOURNAL NO. 2002/241  ',\n",
        "  u'Title  ': u'PROGRAMME OF MEETINGS AND AGENDA '},\n",
        " 'N0331136': {u'Agenda Items  ': u'126  ',\n",
        "  u'Display PDF File  ': u'English(214.8K) , French(273K) , Russian(554.2K) , Spanish(289.3K) , Arabic(364.7K) , Chinese(622K)  ',\n",
        "  u'Download File  ': u'English(227K)(WORD6) , French(270.5K)(WORD6) , Russian(341.5K)(WORD6) , Spanish(244K)(WORD6) , Arabic(284.5K)(WORD6) , Chinese(220K)(WORD6)  ',\n",
        "  u'ODS ': u'A/57/772',\n",
        "  u'Publication date  ': u'4/4/2003 ',\n",
        "  u'Session/Year  ': u'57  ',\n",
        "  u'Subjects  ': u'PEACEKEEPING OPERATIONS\\nFINANCING\\nBUDGET PERFORMANCE\\nSPECIAL MISSIONS\\nMILITARY PERSONNEL\\nPOLICE\\nEQUIPMENT AND SUPPLIES\\nSUBSISTENCE ALLOWANCE\\nFIELD STAFF\\nINFORMATION TECHNOLOGY\\nCOMMUNICATION TECHNOLOGY\\nAIR TRANSPORT\\nMOTOR VEHICLE INSURANCE\\nPURCHASING\\nCONTRACT MANAGEMENT\\nTRAVEL COSTS\\nDISABILITY BENEFITS\\nDEATH GRANT\\nTRAINING PROGRAMMES  ',\n",
        "  u'Symbol  ': u'A/57/772  ',\n",
        "  u'Title  ': u'ADMINISTRATIVE AND BUDGETARY ASPECTS OF THE FINANCING OF THE UNITED NATIONS PEACEKEEPING OPERATIONS : REPORT OF THE ADVISORY COMMITTEE ON ADMINISTRATIVE AND BUDGETARY QUESTIONS '},\n",
        " 'N0334879': {u'Display PDF File  ': u'English(385K) , French(119.3K) , Russian(174.7K) , Spanish(117.2K) , Arabic(114.4K) , Chinese(265.2K) , Other (German)(47K)  ',\n",
        "  u'Download File  ': u'English(37K)(WORD6) , French(67K)(WORD6) , Russian(84.5K)(WORD6) , Spanish(62.5K)(WORD6) , Arabic(71K)(WORD6) , Chinese(59K)(WORD6) , Other (German)(53.5K)(WORD6)  ',\n",
        "  u'ODS ': u'S/2003/529',\n",
        "  u'Publication date  ': u'7/5/2003 ',\n",
        "  u'Session/Year  ': u'58  ',\n",
        "  u'Subjects  ': u'TROOP WITHDRAWAL\\nSETTLEMENT POLICY\\nISRAEL\\nINSTITUTION BUILDING\\nTERRITORIES OCCUPIED BY ISRAEL\\nPALESTINE QUESTION\\nDISPUTE SETTLEMENT\\nCEASEFIRES\\nNEGOTIATION\\nVIOLENCE\\nREPRESENTATIVE GOVERNMENT\\nELECTIONS\\nTERRORISM\\nMIDDLE EAST SITUATION\\nHUMANITARIAN ASSISTANCE\\nCONFERENCES\\nINTERNAL SECURITY  ',\n",
        "  u'Symbol  ': u'S/2003/529  ',\n",
        "  u'Title  ': u'LETTER DATED 2003/05/07 FROM THE SECRETARY-GENERAL ADDRESSED TO THE PRESIDENT OF THE SECURITY COUNCIL '},\n",
        " 'N0342481': {u'Agenda Items  ': u'122  ',\n",
        "  u'Display PDF File  ': u'English(628.8K) , French(601.3K) , Russian(1422.6K) , Spanish(658.4K) , Arabic(855.4K)  ',\n",
        "  u'Download File  ': u'English(508K)(WORD6) , French(531K)(WORD6) , Russian(872K)(WORD6) , Spanish(585K)(WORD6) , Arabic(656.5K)(WORD6) , Chinese(644K)(WORD6)  ',\n",
        "  u'ODS ': u'A/58/16',\n",
        "  u'Publication date  ': u'11/7/2003 ',\n",
        "  u'Session/Year  ': u'58  ',\n",
        "  u'Subjects  ': u'PROGRAMME PLANNING\\nPROGRAMME EVALUATION\\nCOORDINATION WITHIN UN SYSTEM\\nDOCUMENTS  ',\n",
        "  u'Symbol  ': u'A/58/16  ',\n",
        "  u'Title  ': u'REPORT OF THE COMMITTEE FOR PROGRAMME AND COORDINATION, 43RD SESSION (9 JUNE-3 JULY AND 9 JULY 2003) '},\n",
        " 'N0355040': {u'Display PDF File  ': u'English(31.5K) , French(40.4K) , Russian(141.6K) , Spanish(33.6K) , Arabic(93.1K) , Chinese(128.4K)  ',\n",
        "  u'Download File  ': u'English(47.5K)(WORD6) , French(52K)(WORD6) , Russian(69.5K)(WORD6) , Spanish(58K)(WORD6) , Arabic(160K)(WORD6) , Chinese(54.5K)(WORD6)  ',\n",
        "  u'ODS ': u'ST/SGB/2003/13',\n",
        "  u'Publication date  ': u'9/10/2003 ',\n",
        "  u'Subjects  ': u'SEXUAL HARASSMENT\\nCODES OF CONDUCT\\nINTERNATIONAL CIVIL SERVICE\\nREPORTING PROCEDURES  ',\n",
        "  u'Symbol  ': u'ST/SGB/2003/13  ',\n",
        "  u'Title  ': u'SPECIAL MEASURES FOR PROTECTION FROM SEXUAL EXPLOITATION AND SEXUAL ABUSE '},\n",
        " 'N0355168': {u'Display PDF File  ': u'English(599.8K) , French(190.5K) , Russian(508.4K) , Spanish(197.3K) , Arabic(266K) , Chinese(1033K)  ',\n",
        "  u'Download File  ': u'English(299.5K)(WORD6) , French(324K)(WORD6) , Russian(393K)(WORD6) , Spanish(322K)(WORD6) , Arabic(459.5K)(WORD6) , Chinese(455.5K)(WORD6)  ',\n",
        "  u'ODS ': u'JOURNAL NO. 2003/202',\n",
        "  u'Publication date  ': u'21/10/2003 ',\n",
        "  u'Symbol  ': u'JOURNAL NO. 2003/202  ',\n",
        "  u'Title  ': u'PROGRAMME OF MEETINGS AND AGENDA '},\n",
        " 'N0355192': {u'Display PDF File  ': u'English(170.4K) , French(178K) , Russian(486.5K) , Spanish(178K) , Arabic(393.1K) , Chinese(947.8K)  ',\n",
        "  u'Download File  ': u'English(285.5K)(WORD6) , French(309K)(WORD6) , Russian(362K)(WORD6) , Spanish(297K)(WORD6) , Arabic(429.5K)(WORD6) , Chinese(421K)(WORD6)  ',\n",
        "  u'ODS ': u'JOURNAL NO. 2003/204',\n",
        "  u'Publication date  ': u'23/10/2003 ',\n",
        "  u'Symbol  ': u'JOURNAL NO. 2003/204  ',\n",
        "  u'Title  ': u'PROGRAMME OF MEETINGS AND AGENDA '},\n",
        " 'N0355936': {u'Display PDF File  ': u'English(599K) , French(190.5K) , Russian(517.4K) , Spanish(213.9K) , Arabic(388.9K) , Chinese(969.3K)  ',\n",
        "  u'Download File  ': u'English(309K)(WORD6) , French(329K)(WORD6) , Russian(387.5K)(WORD6) , Spanish(363.5K)(WORD6) , Arabic(364K)(WORD6) , Chinese(482.5K)(WORD6)  ',\n",
        "  u'ODS ': u'JOURNAL NO. 2003/205',\n",
        "  u'Publication date  ': u'24/10/2003 ',\n",
        "  u'Symbol  ': u'JOURNAL NO. 2003/205  ',\n",
        "  u'Title  ': u'PROGRAMME OF MEETINGS AND AGENDA '},\n",
        " 'N0363884': {u'Display PDF File  ': u'English(252.8K) , French(258.1K) , Russian(640.1K) , Spanish(278.1K) , Arabic(445.2K) , Chinese(678.7K)  ',\n",
        "  u'Download File  ': u'English(273.5K)(WORD6) , French(397K)(WORD6) , Russian(538.5K)(WORD6) , Spanish(454.5K)(WORD6) , Arabic(603.5K)(WORD6) , Chinese(656.5K)(WORD6)  ',\n",
        "  u'ODS ': u'JOURNAL NO. 2003/240',\n",
        "  u'Publication date  ': u'16/12/2003 ',\n",
        "  u'Symbol  ': u'JOURNAL NO. 2003/240  ',\n",
        "  u'Title  ': u'PROGRAMME OF MEETINGS AND AGENDA '},\n",
        " 'N0441986': {u'Agenda Items  ': u'5  ',\n",
        "  u'Display PDF File  ': u'English(468.5K) , French(628.8K) , Russian(1501.2K) , Spanish(678.6K) , Arabic(1761.9K) , Chinese(1251K)  ',\n",
        "  u'Download File  ': u'English(453.5K)(WORD6) , French(522.5K)(WORD6) , Russian(849K)(WORD6) , Spanish(499K)(WORD6) , Arabic(750K)(WORD6) , Chinese(363K)(WORD6)  ',\n",
        "  u'ODS ': u'A/ES-10/273',\n",
        "  u'Publication date  ': u'9/7/2004 ',\n",
        "  u'Session/Year  ': u'10emsp  ',\n",
        "  u'Subjects  ': u'SEPARATION BARRIERS\\nCONSTRUCTION\\nWEST BANK\\n\\nISRAEL\\nADVISORY OPINIONS\\nTERRITORIES OCCUPIED BY ISRAEL\\nINTERNATIONAL LAW\\nANNEXATION OF TERRITORY\\nJERUSALEM\\nPALESTINE QUESTION\\nMIDDLE EAST SITUATION\\nSETTLEMENT POLICY\\nTERRITORIAL PARTITION\\nINTERNATIONAL COURTS\\nLEGAL ASPECTS\\nDISPUTE SETTLEMENT  ',\n",
        "  u'Symbol  ': u'A/ES-10/273  ',\n",
        "  u'Title  ': u'ADVISORY OPINION OF THE INTERNATIONAL COURT OF JUSTICE ON THE LEGAL CONSEQUENCES OF THE CONSTRUCTION OF A WALL IN THE OCCUPIED PALESTINIAN TERRITORY : NOTE / BY THE SECRETARY-GENERAL '},\n",
        " 'N0447505': {u'Agenda Items  ': u'56 56a 56b 56c 56d 56e 56f 56g 56h 56i 56j 56k 56l 56m 56n 56o 56p 56q 56r 56s  ',\n",
        "  u'Display PDF File  ': u'English(272.3K) , French(376.1K) , Russian(626.9K) , Spanish(349.5K) , Arabic(581.6K) , Chinese(802.3K)  ',\n",
        "  u'Download File  ': u'English(274K)(WORD6) , French(329.5K)(WORD6) , Russian(528.5K)(WORD6) , Spanish(325K)(WORD6) , Arabic(490K)(WORD6) , Chinese(239K)(WORD6)  ',\n",
        "  u'ODS ': u'A/59/303',\n",
        "  u'Publication date  ': u'30/8/2004 ',\n",
        "  u'Session/Year  ': u'59  ',\n",
        "  u'Subjects  ': u'COOPERATION BETWEEN ORGANIZATIONS\\nREGIONAL COOPERATION\\nCAPACITY BUILDING\\nINTERNATIONAL SECURITY\\nTERRORISM\\nHUMAN RIGHTS ADVANCEMENT  ',\n",
        "  u'Symbol  ': u'A/59/303  ',\n",
        "  u'Title  ': u'COOPERATION BETWEEN THE UNITED NATIONS AND REGIONAL AND OTHER ORGANIZATIONS : REPORT OF THE SECRETARY-GENERAL '},\n",
        " 'N0452572': {u'Agenda Items  ': u'11  ',\n",
        "  u'Display PDF File  ': u'English(741.8K) , French(833.2K) , Russian(1768.5K) , Spanish(853.9K) , Arabic(1333K) , Chinese(3662.5K)  ',\n",
        "  u'Download File  ': u'English(1250.5K)(WORD6) , French(1554K)(WORD6) , Russian(1688.5K)(WORD6) , Spanish(1373.5K)(WORD6) , Arabic(3329.5K)(WORD6) , Chinese(2515.5K)(WORD6)  ',\n",
        "  u'ODS ': u'A/59/2(SUPP)',\n",
        "  u'Publication date  ': u'1/1/2004 ',\n",
        "  u'Session/Year  ': u'59  ',\n",
        "  u'Subjects  ': u'INTERNATIONAL SECURITY\\nPEACEKEEPING OPERATIONS\\nPEACEBUILDING\\nSUBSIDIARY BODIES\\nDOCUMENTATION\\nCOUNTER-TERRORISM\\nWRITTEN COMMUNICATIONS\\nSANCTIONS\\nCONSULTATIONS  ',\n",
        "  u'Symbol  ': u'A/59/2(SUPP)  ',\n",
        "  u'Title  ': u'REPORT OF THE SECURITY COUNCIL, 1 AUGUST 2003-31 JULY 2004 '},\n",
        " 'N0455137': {u'Display PDF File  ': u'English(618.3K) , French(233.3K) , Russian(517.5K) , Spanish(319.9K) , Arabic(361.5K) , Chinese(1199K)  ',\n",
        "  u'Download File  ': u'English(311K)(WORD6) , French(344K)(WORD6) , Russian(410K)(WORD6) , Spanish(437.5K)(WORD6) , Arabic(490K)(WORD6) , Chinese(665.5K)(WORD6)  ',\n",
        "  u'ODS ': u'JOURNAL NO. 2004/206',\n",
        "  u'Publication date  ': u'25/10/2004 ',\n",
        "  u'Symbol  ': u'JOURNAL NO. 2004/206  ',\n",
        "  u'Title  ': u'PROGRAMME OF MEETINGS AND AGENDA '},\n",
        " 'N0456985': {u'Display PDF File  ': u'English(684.1K) , French(251.1K) , Russian(578.7K) , Spanish(340.8K) , Arabic(378.8K) , Chinese(788.1K)  ',\n",
        "  u'Download File  ': u'English(380K)(WORD6) , French(398.5K)(WORD6) , Russian(427K)(WORD6) , Spanish(450K)(WORD6) , Arabic(503K)(WORD6) , Chinese(390.5K)(WORD6)  ',\n",
        "  u'ODS ': u'JOURNAL NO. 2004/208',\n",
        "  u'Publication date  ': u'27/10/2004 ',\n",
        "  u'Symbol  ': u'JOURNAL NO. 2004/208  ',\n",
        "  u'Title  ': u'PROGRAMME OF MEETINGS AND AGENDA '},\n",
        " 'N0456991': {u'Display PDF File  ': u'English(723.2K) , French(268.8K) , Russian(595.9K) , Spanish(356.6K) , Arabic(401.7K) , Chinese(865.2K)  ',\n",
        "  u'Download File  ': u'English(369.5K)(WORD6) , French(395.5K)(WORD6) , Russian(483.5K)(WORD6) , Spanish(476K)(WORD6) , Arabic(536.5K)(WORD6) , Chinese(488.5K)(WORD6)  ',\n",
        "  u'ODS ': u'JOURNAL NO. 2004/209',\n",
        "  u'Publication date  ': u'28/10/2004 ',\n",
        "  u'Symbol  ': u'JOURNAL NO. 2004/209  ',\n",
        "  u'Title  ': u'PROGRAMME OF MEETINGS AND AGENDA '},\n",
        " 'N0460231': {u'Agenda Items  ': u'55  ',\n",
        "  u'Display PDF File  ': u'English(424.4K) , French(491.6K) , Russian(1568.1K) , Spanish(574K) , Arabic(816.5K) , Chinese(794.2K) , Other (German)(667.3K)  ',\n",
        "  u'Download File  ': u'English(467.5K)(WORD6) , French(581.5K)(WORD6) , Russian(1130.5K)(WORD6) , Spanish(783K)(WORD6) , Arabic(1043K)(WORD6) , Chinese(429.5K)(WORD6) , Other (German)(973K)(WORD6)  ',\n",
        "  u'ODS ': u'A/59/565',\n",
        "  u'Publication date  ': u'17/11/2004 ',\n",
        "  u'Session/Year  ': u'59  ',\n",
        "  u'Subjects  ': u'INTERNATIONAL SECURITY\\nWAR PREVENTION\\nFORCE IN INTERNATIONAL RELATIONS\\nORGANIZATIONAL CHANGE\\nSELF-DEFENCE\\nSOVEREIGNTY\\nPOVERTY\\nCOMMUNICABLE DISEASES\\nENVIRONMENTAL DEGRADATION\\nCONFLICT\\nINTERNATIONAL LAW\\nPREVENTIVE DIPLOMACY\\nNUCLEAR WEAPONS\\nRADIOLOGICAL WEAPONS\\nCHEMICAL AND BIOLOGICAL WARFARE\\nTERRORISM\\nCOUNTER-TERRORISM\\nTRANSNATIONAL CRIME\\nORGANIZED CRIME\\nINTERNATIONAL INSTRUMENTS\\nCAPACITY BUILDING\\nSANCTIONS\\nPEACEKEEPING OPERATIONS\\nREGIONAL COOPERATION\\nPOST-CONFLICT RECONSTRUCTION\\nHUMAN RIGHTS IN ARMED CONFLICTS\\nSTAFF SECURITY  ',\n",
        "  u'Symbol  ': u'A/59/565  ',\n",
        "  u'Title  ': u'NOTE [TRANSMITTING REPORT OF THE HIGH-LEVEL PANEL ON THREATS, CHALLENGES AND CHANGE, ENTITLED \"A MORE SECURE WORLD : OUR SHARED RESPONSIBILITY\"] '},\n",
        " 'N0521787': {u'Display PDF File  ': u'English(181.8K)  ',\n",
        "  u'Download File  ': u'English(269K)(WORD6)  ',\n",
        "  u'ODS ': u'ST/IC/2005/1',\n",
        "  u'Publication date  ': u'1/1/2005 ',\n",
        "  u'Subjects  ': u'INDEXES\\nDOCUMENTS\\nPERSONNEL MANAGEMENT  ',\n",
        "  u'Symbol  ': u'ST/IC/2005/1  ',\n",
        "  u'Title  ': u'INDEX TO ADMINISTRATIVE ISSUANCES '},\n",
        " 'N0527078': {u'Agenda Items  ': u'45 55  ',\n",
        "  u'Display PDF File  ': u'English(274.4K) , French(343.1K) , Russian(966.9K) , Spanish(350.5K) , Arabic(1215.1K) , Chinese(592.2K) , Other (German)(475.7K)  ',\n",
        "  u'Download File  ': u'English(268K)(WORD6) , French(353.5K)(WORD6) , Russian(555.5K)(WORD6) , Spanish(349.5K)(WORD6) , Arabic(544.5K)(WORD6) , Chinese(230K)(WORD6) , Other (German)(479K)(WORD6)  ',\n",
        "  u'ODS ': u'A/59/2005',\n",
        "  u'Publication date  ': u'15/3/2005 ',\n",
        "  u'Session/Year  ': u'59  ',\n",
        "  u'Subjects  ': u'INTERNATIONAL SECURITY\\nPEACEKEEPING OPERATIONS\\nDEVELOPMENT STRATEGIES\\nDEVELOPMENT ASSISTANCE\\nDISASTER PREVENTION\\nDEVELOPMENT\\nDEVELOPMENT FINANCE\\nTRANSNATIONAL CRIME\\nPEACEBUILDING\\nPOVERTY\\nPOVERTY MITIGATION\\nHUNGER\\nGENDER EQUALITY\\nMATERNAL AND CHILD HEALTH\\nAIDS\\nSUSTAINABLE DEVELOPMENT\\nPARTNERSHIP\\nDEBT RELIEF\\nSOCIAL DEVELOPMENT\\nCONFERENCES\\nCIVIL SOCIETY\\nPRIVATE SECTOR\\nGUIDELINES\\nOPERATIONAL ACTIVITIES\\nINTER-AGENCY COOPERATION\\nREGIONAL COMMISSIONS\\nFUNCTIONAL COMMISSIONS\\nRULE OF LAW\\nHUMAN RIGHTS\\nDEMOCRACY\\nDISARMAMENT\\nTERRORISM  ',\n",
        "  u'Symbol  ': u'A/59/2005  ',\n",
        "  u'Title  ': u'IN LARGER FREEDOM : TOWARDS DEVELOPMENT, SECURITY AND HUMAN RIGHTS FOR ALL : REPORT OF THE SECRETARY-GENERAL '},\n",
        " 'N0531927': {u'Agenda Items  ': u'106 123  ',\n",
        "  u'Display PDF File  ': u'English(272.3K) , French(284.7K) , Russian(691.7K) , Spanish(410.7K) , Arabic(542.4K) , Chinese(529.3K)  ',\n",
        "  u'Download File  ': u'English(389.5K)(WORD6) , French(725K)(WORD6) , Russian(617.5K)(WORD6) , Spanish(458K)(WORD6) , Arabic(1073.5K)(WORD6) , Chinese(597K)(WORD6)  ',\n",
        "  u'ODS ': u'A/59/736',\n",
        "  u'Publication date  ': u'22/4/2005 ',\n",
        "  u'Session/Year  ': u'59  ',\n",
        "  u'Subjects  ': u'PEACEKEEPING OPERATIONS\\nAUDITING\\nFUNDS\\nCONTRACT MANAGEMENT\\nFINANCIAL RESOURCES\\nSUPPORT ACCOUNTS\\nRESULTS-BASED BUDGETING\\nCOORDINATION WITHIN UN SYSTEM\\nREIMBURSEMENT\\nTROOP-CONTRIBUTING STATES\\nCOSTS\\nEQUIPMENT AND SUPPLIES\\nSTAFFING\\nMILITARY PERSONNEL\\nVOLUNTARY SERVICE\\nTRAVEL COSTS\\nPURCHASING\\nMANAGEMENT INFORMATION SYSTEMS\\nDATABASES\\nTRAINING PROGRAMMES\\nRECRUITMENT\\nGENERAL SERVICE STAFF\\nRAPID DEPLOYMENT FORCES  ',\n",
        "  u'Symbol  ': u'A/59/736  ',\n",
        "  u'Title  ': u'ADMINISTRATIVE AND BUDGETARY ASPECTS OF THE FINANCING OF THE UNITED NATIONS PEACEKEEPING OPERATIONS : REPORT OF THE BOARD OF AUDITORS : REPORT OF THE ADVISORY COMMITTEE ON ADMINISTRATIVE AND BUDGETARY QUESTIONS '},\n",
        " 'N0551747': {u'Agenda Items  ': u'9  ',\n",
        "  u'Display PDF File  ': u'English(822.1K) , French(877.3K) , Russian(1856.1K) , Spanish(958.7K) , Arabic(1520.7K) , Chinese(928.3K)  ',\n",
        "  u'Download File  ': u'English(1298K)(WORD6) , French(1632.5K)(WORD6) , Russian(1778.5K)(WORD6) , Spanish(1378K)(WORD6) , Arabic(3479.5K)(WORD6) , Chinese(1513K)(WORD6)  ',\n",
        "  u'ODS ': u'A/60/2(SUPP)',\n",
        "  u'Publication date  ': u'21/9/2005 ',\n",
        "  u'Session/Year  ': u'60  ',\n",
        "  u'Subjects  ': u'INTERNATIONAL SECURITY\\nPEACEKEEPING OPERATIONS\\nPEACEBUILDING\\nSUBSIDIARY BODIES\\nDOCUMENTATION\\nWRITTEN COMMUNICATIONS\\nCONSULTATIONS  ',\n",
        "  u'Symbol  ': u'A/60/2(SUPP)  ',\n",
        "  u'Title  ': u'REPORT OF THE SECURITY COUNCIL, 1 AUGUST 2004-31 JULY 2005 '},\n",
        " 'N0621304': {u'Display PDF File  ': u'English(186.6K)  ',\n",
        "  u'Download File  ': u'English(299K)(WORD6)  ',\n",
        "  u'ODS ': u'ST/IC/2006/1',\n",
        "  u'Publication date  ': u'1/1/2006 ',\n",
        "  u'Subjects  ': u'INDEXES\\nDOCUMENTS\\nPERSONNEL MANAGEMENT  ',\n",
        "  u'Symbol  ': u'ST/IC/2006/1  ',\n",
        "  u'Title  ': u'INDEX TO ADMINISTRATIVE ISSUANCES '},\n",
        " 'N0625177': {u'Agenda Items  ': u'46 118 120 122 124 128 129 136  ',\n",
        "  u'Display PDF File  ': u'English(278.4K) , French(241.9K) , Russian(538.2K) , Spanish(489.1K) , Arabic(486.5K) , Chinese(558.5K) , Other (German)(354.9K)  ',\n",
        "  u'Download File  ': u'English(596.5K)(WORD6) , French(560.5K)(WORD6) , Russian(432.5K)(WORD6) , Spanish(411.5K)(WORD6) , Arabic(691.5K)(WORD6) , Chinese(357K)(WORD6)  ',\n",
        "  u'ODS ': u'A/60/692',\n",
        "  u'Publication date  ': u'23/2/2006 ',\n",
        "  u'Session/Year  ': u'60  ',\n",
        "  u'Subjects  ': u'ADMINISTRATIVE REFORM\\nORGANIZATIONAL CHANGE\\nLEADERSHIP\\nSTAFFING\\nFINANCIAL IMPLICATIONS\\nINFORMATION TECHNOLOGY\\nBUDGETING\\nRECRUITMENT\\nGOVERNANCE\\nPURCHASING\\nTRAINING PROGRAMMES\\nMANPOWER DEVELOPMENT\\nCAREER DEVELOPMENT\\nLABOUR CONTRACTS\\nCOST EFFECTIVENESS\\nSTAFF COMPOSITION\\nRESOURCES ALLOCATION\\nRESULTS-BASED BUDGETING\\nFINANCIAL MANAGEMENT\\nPERFORMANCE APPRAISAL\\nREPORT PREPARATION\\nPOLICY-MAKING\\nPROFESSIONAL ETHICS\\nACCOUNTABILITY\\nINTERNAL OVERSIGHT\\nAUDITING\\nPEACEKEEPING OPERATIONS\\nSUPPORT ACCOUNTS  ',\n",
        "  u'Symbol  ': u'A/60/692  ',\n",
        "  u'Title  ': u'INVESTING IN THE UNITED NATIONS : FOR A STRONGER ORGANIZATION WORLDWIDE : REPORT OF THE SECRETARY-GENERAL '},\n",
        " 'N0628231': {u'Agenda Items  ': u'136  ',\n",
        "  u'Display PDF File  ': u'English(782.4K) , French(953.7K) , Russian(2021.7K) , Spanish(887.5K) , Arabic(1869.9K) , Chinese(1055.2K)  ',\n",
        "  u'Download File  ': u'English(1269.5K)(WORD6) , French(2632K)(WORD6) , Russian(2152K)(WORD6) , Spanish(2872K)(WORD6) , Arabic(3131K)(WORD6) , Chinese(1654K)(WORD6)  ',\n",
        "  u'ODS ': u'A/60/727',\n",
        "  u'Publication date  ': u'23/3/2006 ',\n",
        "  u'Session/Year  ': u'60  ',\n",
        "  u'Subjects  ': u'PEACEKEEPING OPERATIONS\\nSUPPORT ACCOUNTS\\nPROGRAMME BUDGETING\\nSTAFFING\\nCOSTS\\nFINANCIAL RESOURCES\\nRESOURCES ALLOCATION\\nINFORMATION TECHNOLOGY\\nBUDGET PERFORMANCE\\nRESULTS-BASED BUDGETING\\nRESULTS-BASED MANAGEMENT  ',\n",
        "  u'Symbol  ': u'A/60/727  ',\n",
        "  u'Title  ': u'BUDGET FOR THE SUPPORT ACCOUNT FOR PEACEKEEPING OPERATIONS FOR THE PERIOD FROM 1 JULY 2006 TO 30 JUNE 2007 : REPORT OF THE SECRETARY-GENERAL '},\n",
        " 'N0643544': {u'Display PDF File  ': u'English(61.2K) , French(77.3K) , Russian(251.2K) , Spanish(68.2K) , Arabic(163.7K) , Chinese(215.4K) , Other (German)(74.5K)  ',\n",
        "  u'Download File  ': u'English(105.5K)(WORD6) , French(117K)(WORD6) , Russian(144K)(WORD6) , Spanish(120K)(WORD6) , Arabic(222.5K)(WORD6) , Chinese(74.5K)(WORD6) , Other (German)(117K)(WORD6)  ',\n",
        "  u'ODS ': u'S/2006/507',\n",
        "  u'Publication date  ': u'19/7/2006 ',\n",
        "  u'Session/Year  ': u'61  ',\n",
        "  u'Subjects  ': u'DOCUMENTS\\nADMINISTRATIVE PROCEDURE\\nCONSULTATIONS\\nCONFERENCES\\nSUBSIDIARY BODIES\\nPUBLIC MEETINGS  ',\n",
        "  u'Symbol  ': u'S/2006/507  ',\n",
        "  u'Title  ': u'NOTE [TRANSMITTING LIST OF RECENT PRACTICES AND NEWLY AGREED MEASURES SERVING AS GUIDANCE FOR THE WORK OF THE SECURITY COUNCIL] '},\n",
        " 'N0646317': {u'Agenda Items  ': u'47 113 116 117 122 123 132 147 149  ',\n",
        "  u'Display PDF File  ': u'English(428.7K) , French(585.6K) , Russian(1219K) , Spanish(524.3K) , Arabic(980.7K) , Chinese(585.4K)  ',\n",
        "  u'Download File  ': u'English(2133.5K)(WORD6) , French(906.5K)(WORD6) , Russian(1163.5K)(WORD6) , Spanish(804K)(WORD6) , Arabic(2155.5K)(WORD6) , Chinese(632.5K)(WORD6)  ',\n",
        "  u'ODS ': u'A/61/255',\n",
        "  u'Publication date  ': u'9/8/2006 ',\n",
        "  u'Session/Year  ': u'61  ',\n",
        "  u'Subjects  ': u'ADMINISTRATIVE REFORM\\nPERSONNEL MANAGEMENT\\nINTERNATIONAL CIVIL SERVICE\\nEMPLOYMENT POLICY\\nFINANCIAL IMPLICATIONS\\nVACANCY MANAGEMENT\\nHUMAN RESOURCES\\nRECRUITMENT\\nSTAFFING\\nOCCUPATIONAL MOBILITY\\nCAREER DEVELOPMENT\\nCONTRACTUAL SERVICES\\nWORKING CONDITIONS\\nMANPOWER DEVELOPMENT\\nTERMINATION OF EMPLOYMENT\\nCOMPENSATION\\nLABOUR CONTRACTS\\nSTAFF COMPOSITION\\nINFORMATION TECHNOLOGY\\nACCOUNTABILITY\\nRECOMMENDATIONS  ',\n",
        "  u'Symbol  ': u'A/61/255  ',\n",
        "  u'Title  ': u'INVESTING IN PEOPLE : REPORT OF THE SECRETARY-GENERAL '},\n",
        " 'N0649105': {u'Agenda Items  ': u'63a  ',\n",
        "  u'Display PDF File  ': u'English(168.2K) , French(196.4K) , Russian(531K) , Spanish(188.4K) , Arabic(369.5K) , Chinese(387.9K)  ',\n",
        "  u'Download File  ': u'English(231K)(WORD6) , French(251.5K)(WORD6) , Russian(368K)(WORD6) , Spanish(262.5K)(WORD6) , Arabic(400K)(WORD6) , Chinese(183K)(WORD6)  ',\n",
        "  u'ODS ': u'A/61/299',\n",
        "  u'Publication date  ': u'29/8/2006 ',\n",
        "  u'Session/Year  ': u'61  ',\n",
        "  u'Subjects  ': u'RIGHTS OF THE CHILD\\nCHILD ABUSE\\nVIOLENCE\\nVIOLENCE RESEARCH\\nEXPERTS\\nDOMESTIC VIOLENCE\\nCHILD WELFARE\\nJUVENILE JUSTICE\\nJUVENILE DETENTION HOMES\\nRESOURCES MOBILIZATION\\nRECOMMENDATIONS  ',\n",
        "  u'Symbol  ': u'A/61/299  ',\n",
        "  u'Title  ': u'RIGHTS OF THE CHILD : NOTE / BY THE SECRETARY-GENERAL '},\n",
        " 'N0655981': {u'Display PDF File  ': u'English(231.2K) , French(177.8K) , Russian(512K) , Spanish(267.4K) , Arabic(362.6K) , Chinese(575.2K)  ',\n",
        "  u'Download File  ': u'English(425K)(WORD6) , French(214.5K)(WORD6) , Russian(543K)(WORD6) , Spanish(411K)(WORD6) , Arabic(504.5K)(WORD6) , Chinese(469.5K)(WORD6)  ',\n",
        "  u'ODS ': u'JOURNAL NO.2006/202',\n",
        "  u'Publication date  ': u'19/10/2006 ',\n",
        "  u'Symbol  ': u'JOURNAL NO.2006/202  ',\n",
        "  u'Title  ': u'PROGRAMME OF MEETINGS AND AGENDA '},\n",
        " 'N0655993': {u'Display PDF File  ': u'English(215.7K) , French(218.6K) , Russian(495.4K) , Spanish(242.6K) , Arabic(365.6K) , Chinese(470.8K)  ',\n",
        "  u'Download File  ': u'English(396K)(WORD6) , French(343K)(WORD6) , Russian(558.5K)(WORD6) , Spanish(360K)(WORD6) , Arabic(487K)(WORD6) , Chinese(377.5K)(WORD6)  ',\n",
        "  u'ODS ': u'JOURNAL NO.2006/203',\n",
        "  u'Publication date  ': u'20/10/2006 ',\n",
        "  u'Symbol  ': u'JOURNAL NO.2006/203  ',\n",
        "  u'Title  ': u'PROGRAMME OF MEETINGS AND AGENDA '},\n",
        " 'N0655999': {u'Display PDF File  ': u'English(290.7K) , French(295K) , Russian(538.9K) , Spanish(335.4K) , Arabic(391.8K) , Chinese(540.3K)  ',\n",
        "  u'Download File  ': u'English(445.5K)(WORD6) , French(448.5K)(WORD6) , Russian(572K)(WORD6) , Spanish(453.5K)(WORD6) , Arabic(580K)(WORD6) , Chinese(515.5K)(WORD6)  ',\n",
        "  u'ODS ': u'JOURNAL NO.2006/204',\n",
        "  u'Publication date  ': u'23/10/2006 ',\n",
        "  u'Symbol  ': u'JOURNAL NO.2006/204  ',\n",
        "  u'Title  ': u'PROGRAMME OF MEETINGS AND AGENDA '},\n",
        " 'N0657522': {u'Display PDF File  ': u'English(239.1K) , French(246K) , Russian(454.4K) , Spanish(287.5K) , Arabic(330.8K) , Chinese(520.8K)  ',\n",
        "  u'Download File  ': u'English(304K)(WORD6) , French(353K)(WORD6) , Russian(452.5K)(WORD6) , Spanish(315K)(WORD6) , Arabic(470K)(WORD6) , Chinese(408K)(WORD6)  ',\n",
        "  u'ODS ': u'JOURNAL NO.2006/205',\n",
        "  u'Publication date  ': u'25/10/2006 ',\n",
        "  u'Symbol  ': u'JOURNAL NO.2006/205  ',\n",
        "  u'Title  ': u'PROGRAMME OF MEETINGS AND AGENDA '},\n",
        " 'N0663736': {u'Agenda Items  ': u'9  ',\n",
        "  u'Display PDF File  ': u'English(661.5K) , French(855.4K) , Russian(1531.4K) , Spanish(746.6K) , Arabic(1464K) , Chinese(966.9K)  ',\n",
        "  u'Download File  ': u'English(3288.5K)(WORD6) , French(2983K)(WORD6) , Russian(3294.5K)(WORD6) , Spanish(3164K)(WORD6) , Arabic(3708.5K)(WORD6) , Chinese(2922K)(WORD6)  ',\n",
        "  u'ODS ': u'A/61/2(SUPP)',\n",
        "  u'Publication date  ': u'1/1/2006 ',\n",
        "  u'Session/Year  ': u'61  ',\n",
        "  u'Subjects  ': u'INTERNATIONAL SECURITY\\nPEACEKEEPING OPERATIONS\\nPEACEBUILDING\\nSUBSIDIARY BODIES\\nDOCUMENTATION\\nWRITTEN COMMUNICATIONS\\nCONSULTATIONS  ',\n",
        "  u'Symbol  ': u'A/61/2(SUPP)  ',\n",
        "  u'Title  ': u'REPORT OF THE SECURITY COUNCIL, 1 AUGUST 2005-31 JULY 2006 '},\n",
        " 'N0723572': {u'Display PDF File  ': u'English(180.7K)  ',\n",
        "  u'Download File  ': u'English(626K)(WORD6)  ',\n",
        "  u'ODS ': u'ST/IC/2007/1',\n",
        "  u'Publication date  ': u'1/1/2007 ',\n",
        "  u'Subjects  ': u'INDEXES\\nDOCUMENTS\\nPERSONNEL MANAGEMENT  ',\n",
        "  u'Symbol  ': u'ST/IC/2007/1  ',\n",
        "  u'Title  ': u'INDEX TO ADMINISTRATIVE ISSUANCES '},\n",
        " 'N0740587': {u'Display PDF File  ': u'English(1105.8K) , French(1275.4K) , Russian(2410.4K) , Spanish(1291.1K) , Arabic(1923.5K) , Chinese(1249K)  ',\n",
        "  u'Download File  ': u'English(1517K)(WORD6) , French(1940K)(WORD6) , Russian(2564.5K)(WORD6) , Spanish(1961.5K)(WORD6) , Arabic(2300.5K)(WORD6) , Chinese(1474K)(WORD6)  ',\n",
        "  u'ODS ': u'A/60/7/ADD.1-42',\n",
        "  u'Publication date  ': u'29/6/2007 ',\n",
        "  u'Symbol  ': u'A/60/7/ADD.1-42  ',\n",
        "  u'Title  ': u'SUPPL. 7A - ACABQ FOR 2006-2007 BIENNIUM '},\n",
        " 'N0753313': {u'Display PDF File  ': u'English(288.2K) , French(284.1K) , Russian(549K) , Spanish(358.4K) , Arabic(383.7K) , Chinese(498K)  ',\n",
        "  u'Download File  ': u'English(400K)(WORD6) , French(421.5K)(WORD6) , Russian(557.5K)(WORD6) , Spanish(386.5K)(WORD6) , Arabic(494K)(WORD6) , Chinese(464.5K)(WORD6)  ',\n",
        "  u'ODS ': u'JOURNAL NO.2007/204',\n",
        "  u'Publication date  ': u'23/10/2007 ',\n",
        "  u'Symbol  ': u'JOURNAL NO.2007/204  ',\n",
        "  u'Title  ': u'PROGRAMME OF MEETINGS AND AGENDA '},\n",
        " 'N0753338': {u'Display PDF File  ': u'English(314.6K) , French(306.8K) , Russian(610.7K) , Spanish(450K) , Arabic(494.7K) , Chinese(531.5K)  ',\n",
        "  u'Download File  ': u'English(469K)(WORD6) , French(482K)(WORD6) , Russian(662.5K)(WORD6) , Spanish(441K)(WORD6) , Arabic(586.5K)(WORD6) , Chinese(588K)(WORD6)  ',\n",
        "  u'ODS ': u'JOURNAL NO.2007/208',\n",
        "  u'Publication date  ': u'29/10/2007 ',\n",
        "  u'Symbol  ': u'JOURNAL NO.2007/208  ',\n",
        "  u'Title  ': u'PROGRAMME OF MEETINGS AND AGENDA '},\n",
        " 'N0754109': {u'Agenda Items  ': u'7  ',\n",
        "  u'Display PDF File  ': u'English(330.3K) , French(407.3K) , Russian(987.5K) , Spanish(384.5K) , Arabic(815.3K) , Chinese(518.7K)  ',\n",
        "  u'Download File  ': u'English(714K)(WORD6) , French(857.5K)(WORD6) , Russian(1227.5K)(WORD6) , Spanish(868.5K)(WORD6) , Arabic(1226.5K)(WORD6) , Chinese(570K)(WORD6)  ',\n",
        "  u'ODS ': u'A/62/100/ADD.1',\n",
        "  u'Publication date  ': u'19/9/2007 ',\n",
        "  u'Session/Year  ': u'62  ',\n",
        "  u'Symbol  ': u'A/62/100/ADD.1  ',\n",
        "  u'Title  ': u'ANNOTATED DRAFT AGENDA OF THE 62ND SESSION OF THE GENERAL ASSEMBLY : ADDENDUM '},\n",
        " 'N0754212': {u'Display PDF File  ': u'English(322.2K) , French(319.3K) , Russian(603.9K) , Spanish(445.9K) , Arabic(438.8K) , Chinese(592.5K)  ',\n",
        "  u'Download File  ': u'English(480K)(WORD6) , French(490.5K)(WORD6) , Russian(648.5K)(WORD6) , Spanish(455K)(WORD6) , Arabic(582K)(WORD6) , Chinese(601K)(WORD6)  ',\n",
        "  u'ODS ': u'JOURNAL NO.2007/209',\n",
        "  u'Publication date  ': u'30/10/2007 ',\n",
        "  u'Symbol  ': u'JOURNAL NO.2007/209  ',\n",
        "  u'Title  ': u'PROGRAMME OF MEETINGS AND AGENDA '},\n",
        " 'N0756517': {u'Agenda Items  ': u'9  ',\n",
        "  u'Display PDF File  ': u'English(699.5K) , French(813.3K) , Russian(1688.7K) , Spanish(760.1K) , Arabic(1460.8K) , Chinese(925.6K)  ',\n",
        "  u'Download File  ': u'English(3302K)(WORD6) , French(2955K)(WORD6) , Russian(3645K)(WORD6) , Spanish(3487.5K)(WORD6) , Arabic(4121K)(WORD6) , Chinese(2907.5K)(WORD6)  ',\n",
        "  u'ODS ': u'A/62/2(SUPP)',\n",
        "  u'Publication date  ': u'1/1/2007 ',\n",
        "  u'Session/Year  ': u'62  ',\n",
        "  u'Subjects  ': u'INTERNATIONAL SECURITY\\nPEACEKEEPING OPERATIONS\\nPEACEBUILDING\\nSUBSIDIARY BODIES\\nDOCUMENTATION\\nWRITTEN COMMUNICATIONS\\nCONSULTATIONS\\nTROOP-CONTRIBUTING STATES  ',\n",
        "  u'Symbol  ': u'A/62/2(SUPP)  ',\n",
        "  u'Title  ': u'REPORT OF THE SECURITY COUNCIL, 1 AUGUST 2006-31 JULY 2007 '},\n",
        " 'N0763022': {u'Agenda Items  ': u'70b  ',\n",
        "  u'Display PDF File  ': u'English(564.7K) , French(639.8K) , Russian(1490.3K) , Spanish(629.6K) , Arabic(1230K) , Chinese(686.1K)  ',\n",
        "  u'Download File  ': u'English(632.5K)(WORD6) , French(742K)(WORD6) , Russian(1139.5K)(WORD6) , Spanish(745.5K)(WORD6) , Arabic(1118.5K)(WORD6) , Chinese(465K)(WORD6)  ',\n",
        "  u'ODS ': u'A/62/439/ADD.2',\n",
        "  u'Publication date  ': u'6/12/2007 ',\n",
        "  u'Session/Year  ': u'62  ',\n",
        "  u'Subjects  ': u'CAPITAL PUNISHMENT\\nGLOBALIZATION\\nHUMAN RIGHTS\\nDISPLACED PERSONS\\nRELIGIOUS INTOLERANCE\\nCULTURAL PLURALISM\\nMIGRANTS\\nHUMAN RIGHTS INSTITUTIONS\\nADMINISTRATION OF JUSTICE\\nMINORITIES\\nCOUNTER-TERRORISM\\nRIGHT TO DEVELOPMENT\\nSANCTIONS\\nPEACE\\nRIGHT TO FOOD\\nELECTIONS\\nELECTION VERIFICATION\\nADVISORY SERVICES\\nTECHNICAL COOPERATION\\nDEMOCRATIZATION\\nINTERNATIONAL ECONOMIC RELATIONS\\nDEVELOPMENT\\nDECLARATIONS\\nHUMAN RIGHTS ACTIVISTS\\nHUMAN RIGHTS VIOLATIONS\\nHUMANITARIAN ASSISTANCE\\nAID COORDINATION\\nDISCRIMINATION\\nLIBEL AND SLANDER\\nISLAMOPHOBIA\\nRETURN MIGRATION\\nABKHAZIA (GEORGIA)\\nGEORGIA\\nGEORGIAN REFUGEES\\nGEORGIA SITUATION\\nCULTURAL DEVELOPMENT\\nCULTURAL HERITAGE\\nTOLERANCE\\nINTERNATIONAL MIGRATION\\nRACIAL DISCRIMINATION\\nXENOPHOBIA\\nRELIGIOUS FREEDOM\\nFREEDOM OF THOUGHT\\nINTERCULTURAL COMMUNICATION\\nHUMAN RIGHTS ADVANCEMENT\\nREGIONAL COOPERATION\\nRULE OF LAW\\nCENTRAL AFRICA\\nCAPACITY BUILDING\\nJUVENILE JUSTICE\\nTERRORISM\\nINTERNATIONAL HUMANITARIAN LAW\\nREFUGEE LAW\\nREFOULEMENT\\nHUMAN RIGHTS MONITORING\\nINTERNATIONAL COOPERATION\\nPARTNERSHIP\\nDEVELOPMENT ASSISTANCE\\nINTERNATIONAL OBLIGATIONS\\nUNILATERAL ACTS OF STATES\\nRIGHT TO PEACE\\nINTERNATIONAL SECURITY\\nFRIENDLY RELATIONS AMONG STATES\\nHUNGER\\nFOOD SECURITY\\nMALNUTRITION\\nPRINCIPLES  ',\n",
        "  u'Symbol  ': u'A/62/439/ADD.2  ',\n",
        "  u'Title  ': u'PROMOTION AND PROTECTION OF HUMAN RIGHTS : HUMAN RIGHTS QUESTIONS, INCLUDING ALTERNATIVE APPROACHES FOR IMPROVING THE EFFECTIVE ENJOYMENT OF HUMAN RIGHTS AND FUNDAMENTAL FREEDOMS : REPORT OF THE 3RD COMMITTEE : GENERAL ASSEMBLY, 62ND SESSION '},\n",
        " 'N0824547': {u'Display PDF File  ': u'English(184.7K)  ',\n",
        "  u'Download File  ': u'English(633.5K)(WORD6)  ',\n",
        "  u'ODS ': u'ST/IC/2008/1',\n",
        "  u'Publication date  ': u'1/1/2008 ',\n",
        "  u'Subjects  ': u'INDEXES\\nDOCUMENTS\\nPERSONNEL MANAGEMENT  ',\n",
        "  u'Symbol  ': u'ST/IC/2008/1  ',\n",
        "  u'Title  ': u'INDEX TO ADMINISTRATIVE ISSUANCES '},\n",
        " 'N0856312': {u'Display PDF File  ': u'English(330.3K) , French(264.9K) , Russian(532.5K) , Spanish(330.1K) , Arabic(457.9K) , Chinese(507.8K)  ',\n",
        "  u'Download File  ': u'English(487K)(WORD6) , French(456K)(WORD6) , Russian(612K)(WORD6) , Spanish(422.5K)(WORD6) , Arabic(645K)(WORD6) , Chinese(542.5K)(WORD6)  ',\n",
        "  u'ODS ': u'JOURNAL NO.2008/207',\n",
        "  u'Publication date  ': u'23/10/2008 ',\n",
        "  u'Symbol  ': u'JOURNAL NO.2008/207  ',\n",
        "  u'Title  ': u'PROGRAMME OF MEETINGS AND AGENDA '},\n",
        " 'N0857057': {u'Display PDF File  ': u'English(295.6K) , French(242.4K) , Russian(589.2K) , Spanish(388.3K) , Arabic(412K) , Chinese(495.5K)  ',\n",
        "  u'Download File  ': u'English(389K)(WORD6) , French(393K)(WORD6) , Russian(520.5K)(WORD6) , Spanish(425K)(WORD6) , Arabic(525K)(WORD6) , Chinese(457K)(WORD6)  ',\n",
        "  u'ODS ': u'JOURNAL NO.2008/210',\n",
        "  u'Publication date  ': u'27/10/2008 ',\n",
        "  u'Symbol  ': u'JOURNAL NO.2008/210  ',\n",
        "  u'Title  ': u'PROGRAMME OF MEETINGS AND AGENDA '},\n",
        " 'N0857742': {u'Agenda Items  ': u'9  ',\n",
        "  u'Display PDF File  ': u'English(798K) , French(887.9K) , Russian(1974K) , Spanish(862.1K) , Arabic(1757.4K) , Chinese(990.3K)  ',\n",
        "  u'Download File  ': u'English(3478.5K)(WORD6) , French(3416.5K)(WORD6) , Russian(3855.5K)(WORD6) , Spanish(3317.5K)(WORD6) , Arabic(4447.5K)(WORD6) , Chinese(2804K)(WORD6)  ',\n",
        "  u'ODS ': u'A/63/2(SUPP)',\n",
        "  u'Publication date  ': u'1/1/2008 ',\n",
        "  u'Session/Year  ': u'63  ',\n",
        "  u'Subjects  ': u'INTERNATIONAL SECURITY\\nPEACEKEEPING OPERATIONS\\nPEACEBUILDING\\nSUBSIDIARY BODIES\\nDOCUMENTATION\\nWRITTEN COMMUNICATIONS\\nCONSULTATIONS\\nTROOP-CONTRIBUTING STATES  ',\n",
        "  u'Symbol  ': u'A/63/2(SUPP)  ',\n",
        "  u'Title  ': u'REPORT OF THE SECURITY COUNCIL, 1 AUGUST 2007-31 JULY 2008 '},\n",
        " 'N0860709': {u'Display PDF File  ': u'English(2067.8K) , French(2216.8K) , Russian(3941K) , Spanish(2215.8K) , Arabic(3286.2K) , Chinese(1418.1K) , Other (German)(3413.1K)  ',\n",
        "  u'Download File  ': u'English(1972K)(WORD6) , French(1984K)(WORD6) , Russian(3136K)(WORD6) , Spanish(1954.5K)(WORD6) , Arabic(2745K)(WORD6) , Chinese(1778K)(WORD6)  ',\n",
        "  u'ODS ': u'S/INF/63',\n",
        "  u'Publication date  ': u'3/6/2009 ',\n",
        "  u'Symbol  ': u'S/INF/63  ',\n",
        "  u'Title  ': u'RESOLUTIONS AND DECISIONS OF THE SECURITY COUNCIL 07-08 '},\n",
        " 'N0921438': {u'Display PDF File  ': u'English(184.9K)  ',\n",
        "  u'Download File  ': u'English(639.5K)(WORD6)  ',\n",
        "  u'ODS ': u'ST/IC/2009/1',\n",
        "  u'Publication date  ': u'5/2/2009 ',\n",
        "  u'Subjects  ': u'INDEXES\\nDOCUMENTS\\nPERSONNEL MANAGEMENT  ',\n",
        "  u'Symbol  ': u'ST/IC/2009/1  ',\n",
        "  u'Title  ': u'INDEX TO ADMINISTRATIVE ISSUANCES '},\n",
        " 'N0928275': {u'Display PDF File  ': u'English(330.3K) , French(361.3K) , Russian(662.5K) , Spanish(378.7K) , Arabic(610.3K) , Chinese(431.7K)  ',\n",
        "  u'Download File  ': u'English(281K)(WORD6) , French(297K)(WORD6) , Russian(463.5K)(WORD6) , Spanish(283K)(WORD6) , Arabic(521.5K)(WORD6) , Chinese(231.5K)(WORD6)  ',\n",
        "  u'ODS ': u'A/CN.4/610',\n",
        "  u'Publication date  ': u'27/3/2009 ',\n",
        "  u'Session/Year  ': u'61  ',\n",
        "  u'Subjects  ': u'RESPONSIBILITY OF INTERNATIONAL ORGANIZATIONS\\nCOUNTERMEASURES (INTERNATIONAL LAW)  ',\n",
        "  u'Symbol  ': u'A/CN.4/610  ',\n",
        "  u'Title  ': u'SEVENTH REPORT ON RESPONSIBILITY OF INTERNATIONAL ORGANIZATIONS / BY GIORGIO GAJA, SPECIAL RAPPORTEUR '},\n",
        " 'V0053064': {u'Display PDF File  ': u'English(240.9K) , French(127.8K) , Russian(165.4K) , Spanish(144.7K) , Arabic(181.2K) , Chinese(1546.3K)  ',\n",
        "  u'Download File  ': u'English(201K)(WORD6) , French(215.8K)(WPF61) , Russian(459.3K)(WPF51) , Spanish(203.5K)(WPF51) , Arabic(303.1K)(WPF51) , Chinese(109K)(WORD6)  ',\n",
        "  u'ODS ': u'A/CN.9/468',\n",
        "  u'Publication date  ': u'10/4/2000 ',\n",
        "  u'Session/Year  ': u'33  ',\n",
        "  u'Subjects  ': u'INTERNATIONAL COMMERCIAL ARBITRATION\\nCONCILIATION\\nARBITRATION RULES\\nARBITRAL AWARDS\\nUNIFORM RULES  ',\n",
        "  u'Symbol  ': u'A/CN.9/468  ',\n",
        "  u'Title  ': u'REPORT OF THE WORKING GROUP ON ARBITRATION ON THE WORK OF ITS 32ND SESSION (VIENNA, 20-31 MARCH 2000) '},\n",
        " 'V0060407': {u'Display PDF File  ': u'English(316.1K) , French(319.9K) , Russian(985.7K) , Spanish(281.5K) , Arabic(391.4K) , Chinese(479.3K)  ',\n",
        "  u'Download File  ': u'English(234.5K)(WORD6) , French(218.5K)(WORD6) , Russian(344.5K)(WORD6) , Spanish(205K)(WORD6) , Arabic(301K)(WORD6) , Chinese(142.5K)(WORD6)  ',\n",
        "  u'ODS ': u'A/CN.9/485',\n",
        "  u'Publication date  ': u'20/12/2000 ',\n",
        "  u'Session/Year  ': u'34  ',\n",
        "  u'Subjects  ': u'INTERNATIONAL COMMERCIAL ARBITRATION\\nCONCILIATION\\nTREATIES  ',\n",
        "  u'Symbol  ': u'A/CN.9/485  ',\n",
        "  u'Title  ': u'REPORT OF THE WORKING GROUP ON ARBITRATION ON THE WORK OF ITS 33RD SESSION (VIENNA, 20 NOVEMBER-1 DECEMBER 2000) '},\n",
        " 'V0186106': {u'Agenda Items  ': u'161  ',\n",
        "  u'Display PDF File  ': u'English(830.3K) , French(903.9K) , Russian(2542.5K) , Spanish(904K) , Arabic(1544.7K) , Chinese(786.4K)  ',\n",
        "  u'Download File  ': u'English(595.5K)(WORD6) , French(646K)(WORD6) , Russian(1123K)(WORD6) , Spanish(590K)(WORD6) , Arabic(962.5K)(WORD6) , Chinese(430K)(WORD6)  ',\n",
        "  u'ODS ': u'A/56/17',\n",
        "  u'Publication date  ': u'1/1/2001 ',\n",
        "  u'Session/Year  ': u'56  ',\n",
        "  u'Subjects  ': u'RECEIVABLES FINANCING\\nELECTRONIC SIGNATURES\\nELECTRONIC COMMERCE\\nBANKRUPTCY\\nCOMMERCIAL ARBITRATION\\nMODEL LAWS\\nTRANSPORT\\nLAWS AND REGULATIONS\\nTRAINING PROGRAMMES\\nTECHNICAL COOPERATION\\nCOOPERATION BETWEEN ORGANIZATIONS\\nCALENDAR OF MEETINGS\\nTREATIES\\nGUIDELINES  ',\n",
        "  u'Symbol  ': u'A/56/17  ',\n",
        "  u'Title  ': u'REPORT OF THE UNITED NATIONS COMMISSION ON INTERNATIONAL TRADE LAW ON ITS 34TH SESSION, 25 JUNE-13 JULY 2001 '},\n",
        " 'V0188747': {u'Display PDF File  ': u'English(287.8K) , French(213.5K) , Russian(469.4K) , Spanish(194.3K) , Arabic(325.2K) , Chinese(387.9K)  ',\n",
        "  u'Download File  ': u'English(145.5K)(WORD6) , French(142K)(WORD6) , Russian(256K)(WORD6) , Spanish(151K)(WORD6) , Arabic(216K)(WORD6) , Chinese(111K)(WORD6)  ',\n",
        "  u'ODS ': u'A/AC.261/IPM/14',\n",
        "  u'Publication date  ': u'20/11/2001 ',\n",
        "  u'Session/Year  ': u'2001  ',\n",
        "  u'Subjects  ': u'CORRUPTION\\nCRIME PREVENTION\\nTREATIES  ',\n",
        "  u'Symbol  ': u'A/AC.261/IPM/14  ',\n",
        "  u'Title  ': u'PROPOSALS AND CONTRIBUTIONS RECEIVED FROM GOVERNMENTS : PROPOSED DRAFT OF THE UNITED NATIONS CONVENTION AGAINST CORRUPTION / COLOMBIA '},\n",
        " 'V0252726': {u'Display PDF File  ': u'English(219.2K) , French(231.8K) , Russian(520.9K) , Spanish(234.3K) , Arabic(380.7K) , Chinese(367.8K)  ',\n",
        "  u'Download File  ': u'English(153K)(WORD6) , French(156K)(WORD6) , Russian(270.5K)(WORD6) , Spanish(158.5K)(WORD6) , Arabic(222K)(WORD6) , Chinese(115K)(WORD6)  ',\n",
        "  u'ODS ': u'A/CN.9/509',\n",
        "  u'Publication date  ': u'21/3/2002 ',\n",
        "  u'Session/Year  ': u'35  ',\n",
        "  u'Subjects  ': u'ELECTRONIC COMMERCE\\nINTERNATIONAL INSTRUMENTS\\nSTANDARD MESSAGES\\nCONTRACTS  ',\n",
        "  u'Symbol  ': u'A/CN.9/509  ',\n",
        "  u'Title  ': u'REPORT OF THE WORKING GROUP ON ELECTRONIC COMMERCE ON ITS 39TH SESSION (NEW YORK, 11-15 MARCH 2002) '},\n",
        " 'V0383978': {u'Display PDF File  ': u'English(401.8K) , French(467.1K) , Russian(1049.5K) , Spanish(478.2K) , Arabic(780.7K) , Chinese(611.8K)  ',\n",
        "  u'Download File  ': u'English(416K)(WORD6) , French(418K)(WORD6) , Russian(637K)(WORD6) , Spanish(435.5K)(WORD6) , Arabic(575.5K)(WORD6) , Chinese(280.5K)(WORD6)  ',\n",
        "  u'ODS ': u'A/CN.9/526',\n",
        "  u'Publication date  ': u'9/5/2003 ',\n",
        "  u'Session/Year  ': u'36  ',\n",
        "  u'Subjects  ': u'TRANSPORT REGULATIONS\\nGOODS TRANSPORT\\nTREATIES\\nTRANSPORT DOCUMENTS\\nDELIVERY OF GOODS\\nCARRIERS  ',\n",
        "  u'Symbol  ': u'A/CN.9/526  ',\n",
        "  u'Title  ': u'REPORT OF WORKING GROUP III (TRANSPORT LAW) ON THE WORK OF ITS 11TH SESSION (NEW YORK, 24 MARCH TO 4 APRIL 2003) '},\n",
        " 'V0387701': {u'Display PDF File  ': u'English(431.6K) , French(473.8K) , Russian(1009.9K) , Spanish(487.9K) , Arabic(794.1K) , Chinese(808.7K)  ',\n",
        "  u'Download File  ': u'English(498.5K)(WORD6) , French(534K)(WORD6) , Russian(649.5K)(WORD6) , Spanish(527K)(WORD6) , Arabic(621K)(WORD6) , Chinese(330K)(WORD6)  ',\n",
        "  u'ODS ': u'A/CN.9/WG.III/WP.32',\n",
        "  u'Publication date  ': u'4/9/2003 ',\n",
        "  u'Session/Year  ': u'12  ',\n",
        "  u'Subjects  ': u'GOODS TRANSPORT\\nTRANSPORT REGULATIONS\\nINTERNATIONAL INSTRUMENTS  ',\n",
        "  u'Symbol  ': u'A/CN.9/WG.III/WP.32  ',\n",
        "  u'Title  ': u'TRANSPORT LAW : DRAFT INSTRUMENT ON THE CARRIAGE OF GOODS [WHOLLY OR PARTLY] [BY SEA] : NOTE / BY THE SECRETARIAT '},\n",
        " 'V0457812': {u'Display PDF File  ': u'English(207.4K) , French(225.1K) , Russian(444.2K) , Spanish(232.7K) , Arabic(369.3K) , Chinese(392K)  ',\n",
        "  u'Download File  ': u'English(211K)(WORD6) , French(214K)(WORD6) , Russian(317.5K)(WORD6) , Spanish(237K)(WORD6) , Arabic(265K)(WORD6) , Chinese(156.5K)(WORD6)  ',\n",
        "  u'ODS ': u'A/CN.9/568',\n",
        "  u'Publication date  ': u'17/9/2004 ',\n",
        "  u'Session/Year  ': u'38  ',\n",
        "  u'Subjects  ': u'ELECTRONIC COMMERCE\\nINDUSTRIAL PROCUREMENT\\nMODEL LAWS\\nPURCHASING\\nINTERNATIONAL TRADE LAW  ',\n",
        "  u'Symbol  ': u'A/CN.9/568  ',\n",
        "  u'Title  ': u'REPORT OF WORKING GROUP I (PROCUREMENT) ON THE WORK OF ITS 6TH SESSION (VIENNA, 30 AUGUST-3 SEPTEMBER 2004) '},\n",
        " 'V0582289': {u'Display PDF File  ': u'English(261.2K) , French(282.9K) , Russian(558.9K) , Spanish(294.5K) , Arabic(495K) , Chinese(494.2K)  ',\n",
        "  u'Download File  ': u'English(245K)(WORD6) , French(262K)(WORD6) , Russian(399K)(WORD6) , Spanish(266K)(WORD6) , Arabic(351K)(WORD6) , Chinese(214K)(WORD6)  ',\n",
        "  u'ODS ': u'A/AC.105/848',\n",
        "  u'Publication date  ': u'25/2/2005 ',\n",
        "  u'Session/Year  ': u'48  ',\n",
        "  u'Subjects  ': u'OUTER SPACE\\nSPACE TECHNOLOGY\\nREMOTE SENSING\\nSATELLITES  ',\n",
        "  u'Symbol  ': u'A/AC.105/848  ',\n",
        "  u'Title  ': u'REPORT OF THE SCIENTIFIC AND TECHNICAL SUBCOMMITTEE ON ITS 42ND SESSION, HELD IN VIENNA FROM 21 FEBRUARY TO 4 MARCH 2005 '},\n",
        " 'V0583411': {u'Display PDF File  ': u'English(197K) , French(229.9K) , Russian(388.8K) , Spanish(216K) , Arabic(335.4K) , Chinese(366.1K)  ',\n",
        "  u'Download File  ': u'English(189K)(WORD6) , French(179K)(WORD6) , Russian(234K)(WORD6) , Spanish(173K)(WORD6) , Arabic(225.5K)(WORD6) , Chinese(145K)(WORD6)  ',\n",
        "  u'ODS ': u'A/CN.9/575',\n",
        "  u'Publication date  ': u'12/4/2005 ',\n",
        "  u'Session/Year  ': u'38  ',\n",
        "  u'Subjects  ': u'PURCHASING\\nCOMMUNICATION TECHNOLOGY\\nELECTRONIC PUBLISHING\\nMODEL LAWS  ',\n",
        "  u'Symbol  ': u'A/CN.9/575  ',\n",
        "  u'Title  ': u'REPORT OF WORKING GROUP I (PROCUREMENT) ON THE WORK OF ITS 7TH SESSION (NEW YORK, 4-8 APRIL 2005) '},\n",
        " 'V0587082': {u'Display PDF File  ': u'English(828.3K) , French(880K) , Russian(1824.6K) , Spanish(910.9K) , Arabic(1475.5K) , Chinese(1326.1K)  ',\n",
        "  u'Download File  ': u'English(993.5K)(WORD6) , French(941.5K)(WORD6) , Russian(1540K)(WORD6) , Spanish(1045K)(WORD6) , Arabic(1298.5K)(WORD6) , Chinese(822K)(WORD6)  ',\n",
        "  u'ODS ': u'A/CN.9/WG.III/WP.56',\n",
        "  u'Publication date  ': u'8/9/2005 ',\n",
        "  u'Session/Year  ': u'16  ',\n",
        "  u'Subjects  ': u'MARITIME TRANSPORT\\nGOODS TRANSPORT\\nTRANSPORT REGULATIONS\\nINTERNATIONAL INSTRUMENTS\\nTREATIES (TEXT)  ',\n",
        "  u'Symbol  ': u'A/CN.9/WG.III/WP.56  ',\n",
        "  u'Title  ': u'TRANSPORT LAW : DRAFT CONVENTION ON THE CARRIAGE OF GOODS [WHOLLY OR PARTLY] [BY SEA] : NOTE / BY THE SECRETARIAT '},\n",
        " 'V0590125': {u'Display PDF File  ': u'English(194.9K) , French(217.7K) , Russian(404.1K) , Spanish(213.7K) , Arabic(357.6K) , Chinese(374.4K)  ',\n",
        "  u'Download File  ': u'English(176K)(WORD6) , French(210.5K)(WORD6) , Russian(272.5K)(WORD6) , Spanish(219K)(WORD6) , Arabic(237.5K)(WORD6) , Chinese(159K)(WORD6)  ',\n",
        "  u'ODS ': u'A/CN.9/590',\n",
        "  u'Publication date  ': u'18/11/2005 ',\n",
        "  u'Session/Year  ': u'39  ',\n",
        "  u'Subjects  ': u'PURCHASING\\nCOMMUNICATION TECHNOLOGY\\nELECTRONIC PUBLISHING\\nMODEL LAWS  ',\n",
        "  u'Symbol  ': u'A/CN.9/590  ',\n",
        "  u'Title  ': u'REPORT OF WORKING GROUP I (PROCUREMENT) ON THE WORK OF ITS 8TH SESSION (VIENNA 7-11 NOVEMBER 2005) '},\n",
        " 'V0653909': {u'Display PDF File  ': u'English(192.5K) , French(217.4K) , Russian(393.8K) , Spanish(207.5K) , Arabic(336.9K) , Chinese(372.1K)  ',\n",
        "  u'Download File  ': u'English(172K)(WORD6) , French(194K)(WORD6) , Russian(257.5K)(WORD6) , Spanish(181.5K)(WORD6) , Arabic(239.5K)(WORD6) , Chinese(155K)(WORD6)  ',\n",
        "  u'ODS ': u'A/CN.9/595',\n",
        "  u'Publication date  ': u'8/5/2006 ',\n",
        "  u'Session/Year  ': u'39  ',\n",
        "  u'Subjects  ': u'PURCHASING\\nCOMMUNICATION TECHNOLOGY\\nELECTRONIC COMMERCE\\nMODEL LAWS\\nINFORMATION EXCHANGE\\nTRADE DOCUMENTS  ',\n",
        "  u'Symbol  ': u'A/CN.9/595  ',\n",
        "  u'Title  ': u'REPORT OF WORKING GROUP I (PROCUREMENT) ON THE WORK OF ITS 9TH SESSION (NEW YORK, 24-28 APRIL 2006) '},\n",
        " 'V0657526': {u'Display PDF File  ': u'English(223.7K) , French(231.9K) , Russian(462.7K) , Spanish(240.4K) , Arabic(378.3K) , Chinese(390.2K)  ',\n",
        "  u'Download File  ': u'English(188K)(WORD6) , French(197.5K)(WORD6) , Russian(285.5K)(WORD6) , Spanish(204K)(WORD6) , Arabic(239K)(WORD6) , Chinese(154K)(WORD6)  ',\n",
        "  u'ODS ': u'A/CN.9/614',\n",
        "  u'Publication date  ': u'5/10/2006 ',\n",
        "  u'Session/Year  ': u'40  ',\n",
        "  u'Subjects  ': u'INTERNATIONAL COMMERCIAL ARBITRATION\\nINTERNATIONAL INSTRUMENTS\\nTRADE DISPUTES\\nDISPUTE SETTLEMENT  ',\n",
        "  u'Symbol  ': u'A/CN.9/614  ',\n",
        "  u'Title  ': u'REPORT OF THE WORKING GROUP ON ARBITRATION AND CONCILIATION ON THE WORK OF ITS 45TH SESSION (VIENNA, 11-15 SEPTEMBER 2006) '},\n",
        " 'V0657564': {u'Display PDF File  ': u'English(186.4K) , French(211.6K) , Russian(373.8K) , Spanish(205.1K) , Arabic(325.9K) , Chinese(364K)  ',\n",
        "  u'Download File  ': u'English(164.5K)(WORD6) , French(190K)(WORD6) , Russian(241.5K)(WORD6) , Spanish(183.5K)(WORD6) , Arabic(259K)(WORD6) , Chinese(154.5K)(WORD6)  ',\n",
        "  u'ODS ': u'A/CN.9/615',\n",
        "  u'Publication date  ': u'6/10/2006 ',\n",
        "  u'Session/Year  ': u'40  ',\n",
        "  u'Subjects  ': u'PURCHASING\\nMODEL LAWS\\nGUIDELINES\\nCONSTRUCTION\\nELECTRONIC COMMERCE  ',\n",
        "  u'Symbol  ': u'A/CN.9/615  ',\n",
        "  u'Title  ': u'REPORT OF WORKING GROUP I (PROCUREMENT) ON THE WORK OF ITS 10TH SESSION (VIENNA, 25-29 SEPTEMBER 2006) '},\n",
        " 'V0780735': {u'Display PDF File  ': u'English(468.6K) , French(502.2K) , Russian(836.5K) , Spanish(494.3K) , Arabic(810K) , Chinese(539.8K)  ',\n",
        "  u'Download File  ': u'English(481.5K)(WORD6) , French(523.5K)(WORD6) , Russian(607.5K)(WORD6) , Spanish(507.5K)(WORD6) , Arabic(660.5K)(WORD6) , Chinese(346.5K)(WORD6)  ',\n",
        "  u'ODS ': u'A/CN.9/WG.III/WP.81',\n",
        "  u'Publication date  ': u'13/2/2007 ',\n",
        "  u'Session/Year  ': u'19  ',\n",
        "  u'Subjects  ': u'GOODS TRANSPORT\\nMARITIME TRANSPORT\\nSHIPPING CONTRACTS\\nLIABILITY\\nTRANSPORT REGULATIONS\\nJURISDICTION OVER SHIPS AT SEA  ',\n",
        "  u'Symbol  ': u'A/CN.9/WG.III/WP.81  ',\n",
        "  u'Title  ': u'TRANSPORT LAW : DRAFT CONVENTION ON THE CARRIAGE OF GOODS [WHOLLY OR PARTLY] [BY SEA] : NOTE / BY THE SECRETARIAT '},\n",
        " 'V0781711': {u'Display PDF File  ': u'English(507.5K) , French(527.1K) , Russian(910.9K) , Spanish(553.1K) , Arabic(775.3K) , Chinese(591K)  ',\n",
        "  u'Download File  ': u'English(363.5K)(WORD6) , French(390K)(WORD6) , Russian(627.5K)(WORD6) , Spanish(390.5K)(WORD6) , Arabic(567.5K)(WORD6) , Chinese(291.5K)(WORD6)  ',\n",
        "  u'ODS ': u'A/CN.9/631',\n",
        "  u'Publication date  ': u'15/3/2007 ',\n",
        "  u'Session/Year  ': u'40  ',\n",
        "  u'Subjects  ': u'SECURITY INTERESTS IN GOODS\\nGUIDELINES\\nRECOMMENDATIONS\\nCROSS-BORDER INSOLVENCY\\nPRIVATE INTERNATIONAL LAW  ',\n",
        "  u'Symbol  ': u'A/CN.9/631  ',\n",
        "  u'Title  ': u'SECURITY INTERESTS : RECOMMENDATIONS OF THE UNCITRAL DRAFT LEGISLATIVE GUIDE ON SECURED TRANSACTIONS : NOTE / BY THE SECRETARIAT '},\n",
        " 'V0781818': {u'Display PDF File  ': u'English(295.4K) , French(293.3K) , Russian(494.4K) , Spanish(298.5K) , Arabic(426.6K) , Chinese(398K)  ',\n",
        "  u'Download File  ': u'English(198.5K)(WORD6) , French(207.5K)(WORD6) , Russian(296K)(WORD6) , Spanish(195K)(WORD6) , Arabic(259K)(WORD6) , Chinese(166K)(WORD6)  ',\n",
        "  u'ODS ': u'A/CN.9/619',\n",
        "  u'Publication date  ': u'19/3/2007 ',\n",
        "  u'Session/Year  ': u'40  ',\n",
        "  u'Subjects  ': u'INTERNATIONAL COMMERCIAL ARBITRATION\\nINTERNATIONAL INSTRUMENTS\\nADMINISTRATIVE COURTS AND TRIBUNALS  ',\n",
        "  u'Symbol  ': u'A/CN.9/619  ',\n",
        "  u'Title  ': u'REPORT OF THE WORKING GROUP ON ARBITRATION AND CONCILIATION ON THE WORK OF ITS 46TH SESSION (NEW YORK, 5-9 FEBRUARY 2007) '},\n",
        " 'V0784106': {u'Display PDF File  ': u'English(242.2K) , French(262.5K) , Russian(422K) , Spanish(306.3K) , Arabic(368.6K) , Chinese(406.5K)  ',\n",
        "  u'Download File  ': u'English(172.5K)(WORD6) , French(182.5K)(WORD6) , Russian(258K)(WORD6) , Spanish(183K)(WORD6) , Arabic(244.5K)(WORD6) , Chinese(152K)(WORD6)  ',\n",
        "  u'ODS ': u'A/CN.9/623',\n",
        "  u'Publication date  ': u'1/6/2007 ',\n",
        "  u'Session/Year  ': u'40  ',\n",
        "  u'Subjects  ': u'PURCHASING\\nCOMMUNICATION TECHNOLOGY\\nELECTRONIC COMMERCE\\nMODEL LAWS  ',\n",
        "  u'Symbol  ': u'A/CN.9/623  ',\n",
        "  u'Title  ': u'REPORT OF WORKING GROUP I (PROCUREMENT) ON THE WORK OF ITS 11TH SESSION (NEW YORK, 21-25 MAY 2007) '},\n",
        " 'V0788107': {u'Display PDF File  ': u'English(472.6K) , French(687.6K) , Russian(782K) , Spanish(479.6K) , Arabic(722.8K) , Chinese(554.6K)  ',\n",
        "  u'Download File  ': u'English(393.5K)(WORD6) , French(397.5K)(WORD6) , Russian(573K)(WORD6) , Spanish(377K)(WORD6) , Arabic(621.5K)(WORD6) , Chinese(375K)(WORD6)  ',\n",
        "  u'ODS ': u'A/CN.9/WG.III/WP.101',\n",
        "  u'Publication date  ': u'14/11/2007 ',\n",
        "  u'Session/Year  ': u'9  ',\n",
        "  u'Subjects  ': u'MARITIME TRANSPORT\\nGOODS TRANSPORT\\nTRANSPORT REGULATIONS\\nINTERNATIONAL INSTRUMENTS\\nTREATIES (TEXT)  ',\n",
        "  u'Symbol  ': u'A/CN.9/WG.III/WP.101  ',\n",
        "  u'Title  ': u'TRANSPORT LAW : DRAFT CONVENTION ON THE CARRIAGE OF GOODS [WHOLLY OR PARTLY] [BY SEA] : NOTE / BY THE SECRETARIAT '},\n",
        " 'V0857955': {u'Display PDF File  ': u'English(239.2K) , French(246K) , Russian(369.6K) , Spanish(245.7K) , Arabic(353.2K) , Chinese(414.6K)  ',\n",
        "  u'Download File  ': u'English(163.5K)(WORD6) , French(176K)(WORD6) , Russian(234.5K)(WORD6) , Spanish(186K)(WORD6) , Arabic(225K)(WORD6) , Chinese(151.5K)(WORD6)  ',\n",
        "  u'ODS ': u'A/CN.9/WG.I/WP.65',\n",
        "  u'Publication date  ': u'10/11/2008 ',\n",
        "  u'Session/Year  ': u'15  ',\n",
        "  u'Symbol  ': u'A/CN.9/WG.I/WP.65  ',\n",
        "  u'Title  ': u'ANNOTATED PROVISIONAL AGENDA FOR THE 15TH SESSION OF WORKING GROUP I (PROCUREMENT) : UNITED NATIONS COMMISSION ON INTERNATIONAL TRADE LAW, WORKING GROUP I (PROCUREMENT), 15TH SESSION, NEW YORK, 2-6 FEBRUARY 2009 '},\n",
        " 'V0980883': {u'Display PDF File  ': u'English(328.6K) , French(336.6K) , Russian(546.2K) , Spanish(365.9K) , Arabic(518K) , Chinese(542.8K)  ',\n",
        "  u'Download File  ': u'English(281K)(WORD6) , French(312K)(WORD6) , Russian(398.5K)(WORD6) , Spanish(305.5K)(WORD6) , Arabic(373.5K)(WORD6) , Chinese(204.5K)(WORD6)  ',\n",
        "  u'ODS ': u'A/CN.9/668',\n",
        "  u'Publication date  ': u'16/2/2009 ',\n",
        "  u'Session/Year  ': u'42  ',\n",
        "  u'Subjects  ': u'PURCHASING\\nELECTRONIC COMMERCE\\nTENDERING\\nMODEL LAWS  ',\n",
        "  u'Symbol  ': u'A/CN.9/668  ',\n",
        "  u'Title  ': u'REPORT OF WORKING GROUP I (PROCUREMENT) ON THE WORK OF ITS 15TH SESSION (NEW YORK, 2-6 FEBRUARY 2009) '},\n",
        " 'V0981479': {u'Display PDF File  ': u'English(228.8K) , French(243.3K) , Russian(368.9K) , Spanish(247.2K) , Arabic(357.1K) , Chinese(420.4K)  ',\n",
        "  u'Download File  ': u'English(169K)(WORD6) , French(177K)(WORD6) , Russian(233.5K)(WORD6) , Spanish(172.5K)(WORD6) , Arabic(227K)(WORD6) , Chinese(155K)(WORD6)  ',\n",
        "  u'ODS ': u'A/CN.9/WG.I/WP.67',\n",
        "  u'Publication date  ': u'9/3/2009 ',\n",
        "  u'Session/Year  ': u'16  ',\n",
        "  u'Symbol  ': u'A/CN.9/WG.I/WP.67  ',\n",
        "  u'Title  ': u'ANNOTATED PROVISIONAL AGENDA FOR THE 16TH SESSION OF WORKING GROUP I (PROCUREMENT) : UNITED NATIONS COMMISSION ON INTERNATIONAL TRADE LAW, WORKING GROUP I (PROCUREMENT), 16TH SESSION, NEW YORK, 26-29 MAY 2009 '},\n",
        " 'V0986568': {u'Display PDF File  ': u'English(232.1K) , French(249.2K) , Russian(369.7K) , Spanish(250.3K) , Arabic(356.7K) , Chinese(422.7K)  ',\n",
        "  u'Download File  ': u'English(168.5K)(WORD6) , French(181.5K)(WORD6) , Russian(234K)(WORD6) , Spanish(186K)(WORD6) , Arabic(230K)(WORD6) , Chinese(163K)(WORD6)  ',\n",
        "  u'ODS ': u'A/CN.9/WG.I/WP.70',\n",
        "  u'Publication date  ': u'22/9/2009 ',\n",
        "  u'Symbol  ': u'A/CN.9/WG.I/WP.70  ',\n",
        "  u'Title  ': u'ANNOTATED PROVISIONAL AGENDA FOR THE 17TH SESSION OF WORKING GROUP I (PROCUREMENT) '}}"
       ]
      }
     ],
     "prompt_number": 119
    },
    {
     "cell_type": "code",
     "collapsed": false,
     "input": [
      "import json\n",
      "with open('scrape.json', 'w') as f:\n",
      "    f.write(json.dumps(results))\n",
      "          "
     ],
     "language": "python",
     "metadata": {},
     "outputs": [],
     "prompt_number": 121
    },
    {
     "cell_type": "code",
     "collapsed": false,
     "input": [
      "\n",
      "    "
     ],
     "language": "python",
     "metadata": {},
     "outputs": [],
     "prompt_number": 67
    },
    {
     "cell_type": "code",
     "collapsed": false,
     "input": [
      "\n",
      "    "
     ],
     "language": "python",
     "metadata": {},
     "outputs": [],
     "prompt_number": 68
    }
   ],
   "metadata": {}
  }
 ]
}