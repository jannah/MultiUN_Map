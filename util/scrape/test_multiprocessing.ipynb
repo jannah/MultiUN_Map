{
 "metadata": {
  "name": "",
  "signature": "sha256:f46a9622fca2a8fedb70b3ed80352cb28183d8cee431997c2ba8d163ab120bf9"
 },
 "nbformat": 3,
 "nbformat_minor": 0,
 "worksheets": [
  {
   "cells": [
    {
     "cell_type": "code",
     "collapsed": false,
     "input": [
      "%%file test_multiprocessing.py\n",
      "import multiprocessing as mp\n",
      "\n",
      "import sys\n",
      "\n",
      "def tasks(lv, output):\n",
      "    print 'new list', lv\n",
      "    out = []\n",
      "    for v in range(len(lv)):\n",
      "#         print v, lv[v]\n",
      "        try:\n",
      "            out.append(task(lv[v]))\n",
      "        except Exception, e:\n",
      "            print v\n",
      "            print e\n",
      "            pass\n",
      "    output.put(out)\n",
      "def task(v):\n",
      "#     print v\n",
      "    sys.stdout.flush()\n",
      "    return v**3\n",
      "\n",
      "def split_list(alist, wanted_parts=1):\n",
      "    length = len(alist)\n",
      "    return [ alist[i*length // wanted_parts: (i+1)*length // wanted_parts] \n",
      "             for i in range(wanted_parts) ]\n",
      "# vals = split_list(values, 5)\n",
      "# print vals\n",
      "# print __name__\n",
      "if __name__ == '__main__':\n",
      "    values = [i for i in range(2000)]\n",
      "    # print values\n",
      "#     print mp.cpu_count()\n",
      "#     pool = mp.Pool(processes = 4)\n",
      "    # print pool\n",
      "    output = mp.Queue()\n",
      "    val_lists = split_list(values, 4)\n",
      "    print len(val_lists)\n",
      "    processes = [mp.Process(target=tasks, args=(val_lists[x], output)) for x in range(len(val_lists))]\n",
      "    print 'processes=', len(processes)\n",
      "#     for i in range(4):\n",
      "#         proc = mp.Process()\n",
      "    # results = pool.map(task, values)\n",
      "#     results = pool.map(task, values)\n",
      "#     print output.get()\n",
      "    for p in processes:\n",
      "        p.start()\n",
      "\n",
      "    # Exit the completed processes\n",
      "    for p in processes:\n",
      "        p.join()\n",
      "\n",
      "    # Get process results from the output queue\n",
      "    results = [output.get() for p in processes]\n",
      "    print 'results'\n",
      "    print results\n",
      "    \n",
      "    # output = [p.get() for p in results]\n",
      "    # print output\n",
      "        # print results\n",
      "        # pool = multiprocessing.Pool(processes=5)\n",
      "        # new_values =pool.map(task, [1,2,3,4,5])\n",
      "        # print(result)\n",
      "\n",
      "\n"
     ],
     "language": "python",
     "metadata": {},
     "outputs": [
      {
       "output_type": "stream",
       "stream": "stdout",
       "text": [
        "Overwriting test_multiprocessing.py\n"
       ]
      }
     ],
     "prompt_number": 58
    },
    {
     "cell_type": "code",
     "collapsed": false,
     "input": [
      "%%cmd\n",
      "python test_multiprocessing.py"
     ],
     "language": "python",
     "metadata": {},
     "outputs": []
    }
   ],
   "metadata": {}
  }
 ]
}