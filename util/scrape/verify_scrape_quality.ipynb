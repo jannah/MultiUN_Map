{
 "metadata": {
  "name": "",
  "signature": "sha256:065cf0d1d8d28f60d19cb833d5086f90d3db5fca9dd85459aba16b6309b7f4a3"
 },
 "nbformat": 3,
 "nbformat_minor": 0,
 "worksheets": [
  {
   "cells": [
    {
     "cell_type": "code",
     "collapsed": false,
     "input": [
      "# MODULES_PATH = '''../../modules/multi_un_module.py'''\n",
      "# import imp\n",
      "# NF = imp.load_source('multi_un_module', MODULES_PATH)\n",
      "# import multi_un_module as mun\n",
      "\n",
      "# path = 'C:\\\\Users\\\\Hassan\\\\Documents\\\\iSchool\\\\NLP\\\\United Nations\\\\multiUN.en\\\\un\\\\xml\\\\en'\n",
      "# docs = mun.load_xml_files(path=path, content=False)\n",
      "# with open('docs_meta.json', 'wb') as f:\n",
      "#     f.write(json.dumps(docs))"
     ],
     "language": "python",
     "metadata": {},
     "outputs": [],
     "prompt_number": 1
    },
    {
     "cell_type": "code",
     "collapsed": false,
     "input": [
      "import json\n",
      "import csv"
     ],
     "language": "python",
     "metadata": {},
     "outputs": [],
     "prompt_number": 6
    },
    {
     "cell_type": "code",
     "collapsed": false,
     "input": [
      "docs = json.load(open('docs_meta.json', 'rb'))\n",
      "\n"
     ],
     "language": "python",
     "metadata": {},
     "outputs": [],
     "prompt_number": 11
    },
    {
     "cell_type": "code",
     "collapsed": false,
     "input": [
      "meta = []\n",
      "error_lines = []\n",
      "with open('output_progress.json','rb') as m:\n",
      "    index = 0\n",
      "    for line in m.readlines():\n",
      "        try:\n",
      "            meta.append(json.loads(line))\n",
      "        except Exception, e:\n",
      "#             print e            \n",
      "#             print index,  line\n",
      "            error_lines.append(line)\n",
      "        index+=1\n",
      "print 'OK', len(meta), 'Errors:', len(error_lines)"
     ],
     "language": "python",
     "metadata": {},
     "outputs": [
      {
       "output_type": "stream",
       "stream": "stdout",
       "text": [
        "OK 100286 Errors: 98\n"
       ]
      }
     ],
     "prompt_number": 74
    },
    {
     "cell_type": "code",
     "collapsed": false,
     "input": [
      "# error_lines\n",
      "# meta[:10]"
     ],
     "language": "python",
     "metadata": {},
     "outputs": [],
     "prompt_number": 75
    },
    {
     "cell_type": "code",
     "collapsed": false,
     "input": [
      "import re\n",
      "pattern = re.compile(r'(\\w+\\.(pdf|PDF|doc|docx|DOC|DOCX))')\n",
      "bu_pattern = re.compile(r'\"Symbol\": \"(.)+\",')\n",
      "error_codes = []\n",
      "for error_line in error_lines:\n",
      "    match = pattern.search(error_line)\n",
      "    result = ''\n",
      "    if match:\n",
      "        print match.group(0)\n",
      "        result = match.group(0)[:8]\n",
      "    else:\n",
      "        match = bu_pattern.search(error_line)\n",
      "        if match:\n",
      "            print match.group(0)\n",
      "        else:\n",
      "            print 'not found', error_line\n",
      "    error_codes.append(result)\n",
      "# error_codes"
     ],
     "language": "python",
     "metadata": {},
     "outputs": [
      {
       "output_type": "stream",
       "stream": "stdout",
       "text": [
        "N0544879.pdf\n",
        "N0751842.DOC\n",
        "\"Symbol\": \"A/61/L.11/REV.2\",\n",
        "\"Symbol\": \"S/AC.29/2009/23\",\n",
        "\"Symbol\": \"A/61/264(PARTII)/ADD.1\",\n",
        "NO023006.DOC\n",
        "not found \"}]\n",
        "\n",
        "N0366456.DOC\n",
        "G0550550.pdf\n",
        "\"Symbol\": \"A/AC.105/C.2/L.256\",\n",
        "not found bol\": \"ST/IC/2006/51\", \"Publication date\": \"29/11/2006\"}]\n",
        "\n",
        "N0032445.pdf\n",
        "\"Symbol\": \"A/HRC/6/NGO/37\",\n",
        "\"Symbol\": \"S/2004/342\",\n",
        "N0827978.DOC\n",
        "N0822703.DOC\n",
        "V0980781.DOC\n",
        "\"Symbol\": \"A/AC.198/2002/2\",\n",
        "\"Symbol\": \"S/2003/337\",\n",
        "N0268256.pdf\n",
        "G0421641.DOC\n",
        "\"Symbol\": \"E/CN.4/2003/G/58\",\n",
        "\"Symbol\": \"A/61/PV.99\",\n",
        "not found \n",
        "\n",
        "\"Symbol\": \"CD/1650\",\n",
        "N0556378.pdf\n",
        "not found e\": \"1/1/2008\"}]\n",
        "\n",
        "G0812743.pdf\n",
        "N0240471.DOC\n",
        "N0652464.DOC\n",
        "not found C.I/2\", \"Publication date\": \"27/4/2007\"}]\n",
        "\n",
        "\"Symbol\": \"E/CN.4/SUB.2/2001/L.18\",\n",
        "G0314207.DOC\n",
        "\"Symbol\": \"A/57/772/ADD.9\",\n",
        "\"Symbol\": \"S/2003/979\",\n",
        "\"Symbol\": \"S/RES/1386(2001)\",\n",
        "G0821599.pdf\n",
        "\"Symbol\": \"TRADE/WP.7/GE.2/2003/10\",\n",
        "V0182305.DOC\n",
        "\"Symbol\": \"S/PV.4699\",\n",
        "N0332309.DOC\n",
        "N0069623.pdf\n",
        "\"Symbol\": \"A/63/338\",\n",
        "\"Symbol\": \"S/2001/455\",\n",
        "\"Symbol\": \"S/2003/978\",\n",
        "N0235165.DOC\n",
        "\"Symbol\": \"A/56/481\",\n",
        "\"Symbol\": \"A/64/333\",\n",
        "N0555121.pdf\n",
        "G0412191.pdf\n",
        "N0621851.pdf\n",
        "\"Symbol\": \"A/HRC/10/NGO/15\",\n",
        "N0132949.pdf\n",
        "\"Symbol\": \"A/HRC/11/6\",\n",
        "N0750527.pdf\n",
        "G0714102.pdf\n",
        "\"Symbol\": \"A/C.3/61/L.13\",\n",
        "not found  \"Publication date\": \"10/7/2007\"}]\n",
        "\n",
        "N0745730.DOC\n",
        "N0138384.pdf\n",
        "N0521392.DOC\n",
        "4346.pdf\n",
        "N0056740.DOC\n",
        "not found  \"A/59/668/ADD.7\", \"Publication date\": \"23/2/2005\"}]\n",
        "\n",
        "N0146366.DOC\n",
        "\"Symbol\": \"S/PV.6005\",\n",
        "N0524648.DOC\n",
        "\"Symbol\": \"APLC/MSP.9/2008/WP.20\",\n",
        "V0851260.DOC\n",
        "\"Symbol\": \"A/57/44(SUPP)\",\n",
        "G0221653.pdf\n",
        "\"Symbol\": \"ICCD/COP(6)/L.19/REV.1\",\n",
        "G0452936.pdf\n",
        "N0743344.DOC\n",
        "G0911200.pdf\n",
        "V0651363.DOC\n",
        "G0415285.pdf\n",
        "N0559579.pdf\n",
        "not found : \"24/9/2001\"}]\n",
        "\n",
        "\"Symbol\": \"S/2001/1338\",\n",
        "\"Symbol\": \"S/2005/100\",\n",
        "G0044489.DOC\n",
        "NO051612.DOC\n",
        "\"Symbol\": \"TRANS/WP.1/2001/23\",\n",
        "N0736043.DOC\n",
        "\"Symbol\": \"A/60/408\",\n",
        "N0735139.pdf\n",
        "\"Symbol\": \"CAC/COSP/WG.2/2008/3\",\n",
        "not found : \"CCW/MSP/2008/SR.4\", \"Publication date\": \"26/11/2008\"}]\n",
        "\n",
        "\"Symbol\": \"A/56/547\",\n",
        "N0365674.DOC\n",
        "G0944186.pdf\n",
        "N0121134.DOC\n",
        "\"Symbol\": \"TD/B/51/L.2\",\n",
        "\"Symbol\": \"S/2001/45\",\n",
        "N0923991.DOC\n",
        "N0462506.pdf\n",
        "\"Symbol\": \"A/CONF.207/L.4/ADD.2\",\n"
       ]
      }
     ],
     "prompt_number": 76
    },
    {
     "cell_type": "code",
     "collapsed": false,
     "input": [
      "completed_docs = []\n",
      "with open('scrape_progress.txt', 'rb') as f:\n",
      "    completed_docs = [item for row in csv.reader(f) for item in row]"
     ],
     "language": "python",
     "metadata": {},
     "outputs": [],
     "prompt_number": 77
    },
    {
     "cell_type": "code",
     "collapsed": false,
     "input": [
      "completed_docs[:10]\n",
      " "
     ],
     "language": "python",
     "metadata": {},
     "outputs": [
      {
       "metadata": {},
       "output_type": "pyout",
       "prompt_number": 78,
       "text": [
        "['N0355040',\n",
        " 'N0646317',\n",
        " 'N0857057',\n",
        " 'N0455137',\n",
        " 'N0740587',\n",
        " 'N0152607',\n",
        " 'N0252584',\n",
        " 'V0582289',\n",
        " 'N0551747',\n",
        " 'N0655999']"
       ]
      }
     ],
     "prompt_number": 78
    },
    {
     "cell_type": "code",
     "collapsed": true,
     "input": [
      "# docs"
     ],
     "language": "python",
     "metadata": {},
     "outputs": [],
     "prompt_number": 56
    },
    {
     "cell_type": "code",
     "collapsed": false,
     "input": [
      "doc_n = [str(docs[doc]['n']) for doc in docs]\n",
      "doc_n[:10]"
     ],
     "language": "python",
     "metadata": {},
     "outputs": [
      {
       "metadata": {},
       "output_type": "pyout",
       "prompt_number": 79,
       "text": [
        "['N0046480',\n",
        " 'N0159291',\n",
        " 'N0122386',\n",
        " 'N0845908',\n",
        " 'N0337449',\n",
        " 'N0466828',\n",
        " 'N0932907',\n",
        " 'N0550110',\n",
        " 'V0850578',\n",
        " 'G0761502']"
       ]
      }
     ],
     "prompt_number": 79
    },
    {
     "cell_type": "code",
     "collapsed": false,
     "input": [
      "scraped_n = [str(m[1]) for m in meta]\n",
      "len(scraped_n)"
     ],
     "language": "python",
     "metadata": {},
     "outputs": [
      {
       "metadata": {},
       "output_type": "pyout",
       "prompt_number": 81,
       "text": [
        "100286"
       ]
      }
     ],
     "prompt_number": 81
    },
    {
     "cell_type": "code",
     "collapsed": false,
     "input": [
      "missing = []\n",
      "incomplete = []\n",
      "print 'available docs', len(missing)\n",
      "for d in doc_n:\n",
      "    if d not in completed_docs:\n",
      "        missing.append(d)\n",
      "    if d not in scraped_n:\n",
      "        incomplete.append(d)\n",
      "#     try:\n",
      "#         missing.remove(d)\n",
      "#     except:\n",
      "#         pass\n",
      "print 'missing', len(missing), 'incomplete', len(incomplete)\n"
     ],
     "language": "python",
     "metadata": {},
     "outputs": [
      {
       "output_type": "stream",
       "stream": "stdout",
       "text": [
        "available docs 0\n",
        "missing"
       ]
      },
      {
       "output_type": "stream",
       "stream": "stdout",
       "text": [
        " 104 incomplete 104\n"
       ]
      },
      {
       "ename": "TypeError",
       "evalue": "set(['G0913550', 'G0141263', 'G0864123', 'G0963578', 'G0862337', 'G0441197', 'G0642160', 'G0913605', 'G0641618', 'G0861842', 'G0344094', 'G0740401', 'G0960046', 'K0950017', 'N0040278', 'G0960156', 'G0863721', 'N0434146', 'G0960159', 'N0939776', 'G0143919', 'G0944824', 'B070860', 'G0960393', 'G0960943', 'G0961371', 'G0564342', 'G0913647', 'G0643368', 'G0246089', 'G0970005', 'G0960542', 'G0863958', 'G0242971', 'G0863951', 'G0143845', 'G0761222', 'G0041895', 'N0520675', 'G0961496', 'G0960421', 'G0970019', 'G0940864', 'G0970013', 'G0970011', 'G0970017', 'G0970015', 'G0963772', 'G0240826', 'B040721', 'G0441157', 'G0046203', 'G0863944', 'G0963692', 'G0970009', 'G0245581', 'N0741904', 'G0970007', 'G0940874', 'G0443548', 'G0244043', 'G0046562', 'G0913577', 'G0960146', 'G0860491', 'GA160087', 'G0344922', 'B090968', 'G0040511', 'G0343955', 'G0343486', 'G942167', 'G0441655', 'G0963512', 'G0960328', 'K0842817', 'G0344913', 'G0141258', 'K0580556', 'G0913619', 'G0940363', 'N0931356', 'N0046964', 'G0913591', 'G0441128', 'G0913598', 'G0950648', 'G0444495', 'N0327039', 'G0913612', 'G942272', 'N0929577', 'G0960110', 'G0913584', 'G0810468', 'N0932102', 'G0543759', 'G0344974', 'N0545724', 'G0914806', 'G0913570', 'G0043043', 'G0542110', 'N0736993']) is not JSON serializable",
       "output_type": "pyerr",
       "traceback": [
        "\u001b[1;31m---------------------------------------------------------------------------\u001b[0m\n\u001b[1;31mTypeError\u001b[0m                                 Traceback (most recent call last)",
        "\u001b[1;32m<ipython-input-82-2925e84c6725>\u001b[0m in \u001b[0;36m<module>\u001b[1;34m()\u001b[0m\n\u001b[0;32m     14\u001b[0m \u001b[0mredo_list\u001b[0m \u001b[1;33m=\u001b[0m \u001b[0mset\u001b[0m\u001b[1;33m(\u001b[0m\u001b[0mmissing\u001b[0m\u001b[1;33m+\u001b[0m\u001b[0mincomplete\u001b[0m\u001b[1;33m)\u001b[0m\u001b[1;33m\u001b[0m\u001b[0m\n\u001b[0;32m     15\u001b[0m \u001b[1;32mwith\u001b[0m \u001b[0mopen\u001b[0m\u001b[1;33m(\u001b[0m\u001b[1;34m'missing.json'\u001b[0m\u001b[1;33m,\u001b[0m \u001b[1;34m'wb'\u001b[0m\u001b[1;33m)\u001b[0m \u001b[1;32mas\u001b[0m \u001b[0mm\u001b[0m\u001b[1;33m:\u001b[0m\u001b[1;33m\u001b[0m\u001b[0m\n\u001b[1;32m---> 16\u001b[1;33m     \u001b[0mm\u001b[0m\u001b[1;33m.\u001b[0m\u001b[0mwrite\u001b[0m\u001b[1;33m(\u001b[0m\u001b[0mjson\u001b[0m\u001b[1;33m.\u001b[0m\u001b[0mdumps\u001b[0m\u001b[1;33m(\u001b[0m\u001b[0mredo_list\u001b[0m\u001b[1;33m)\u001b[0m\u001b[1;33m)\u001b[0m\u001b[1;33m\u001b[0m\u001b[0m\n\u001b[0m\u001b[0;32m     17\u001b[0m \u001b[1;31m# missing\u001b[0m\u001b[1;33m\u001b[0m\u001b[1;33m\u001b[0m\u001b[0m\n",
        "\u001b[1;32mC:\\Python27\\Lib\\json\\__init__.pyc\u001b[0m in \u001b[0;36mdumps\u001b[1;34m(obj, skipkeys, ensure_ascii, check_circular, allow_nan, cls, indent, separators, encoding, default, sort_keys, **kw)\u001b[0m\n\u001b[0;32m    241\u001b[0m         \u001b[0mcls\u001b[0m \u001b[1;32mis\u001b[0m \u001b[0mNone\u001b[0m \u001b[1;32mand\u001b[0m \u001b[0mindent\u001b[0m \u001b[1;32mis\u001b[0m \u001b[0mNone\u001b[0m \u001b[1;32mand\u001b[0m \u001b[0mseparators\u001b[0m \u001b[1;32mis\u001b[0m \u001b[0mNone\u001b[0m \u001b[1;32mand\u001b[0m\u001b[1;33m\u001b[0m\u001b[0m\n\u001b[0;32m    242\u001b[0m         encoding == 'utf-8' and default is None and not sort_keys and not kw):\n\u001b[1;32m--> 243\u001b[1;33m         \u001b[1;32mreturn\u001b[0m \u001b[0m_default_encoder\u001b[0m\u001b[1;33m.\u001b[0m\u001b[0mencode\u001b[0m\u001b[1;33m(\u001b[0m\u001b[0mobj\u001b[0m\u001b[1;33m)\u001b[0m\u001b[1;33m\u001b[0m\u001b[0m\n\u001b[0m\u001b[0;32m    244\u001b[0m     \u001b[1;32mif\u001b[0m \u001b[0mcls\u001b[0m \u001b[1;32mis\u001b[0m \u001b[0mNone\u001b[0m\u001b[1;33m:\u001b[0m\u001b[1;33m\u001b[0m\u001b[0m\n\u001b[0;32m    245\u001b[0m         \u001b[0mcls\u001b[0m \u001b[1;33m=\u001b[0m \u001b[0mJSONEncoder\u001b[0m\u001b[1;33m\u001b[0m\u001b[0m\n",
        "\u001b[1;32mC:\\Python27\\Lib\\json\\encoder.pyc\u001b[0m in \u001b[0;36mencode\u001b[1;34m(self, o)\u001b[0m\n\u001b[0;32m    205\u001b[0m         \u001b[1;31m# exceptions aren't as detailed.  The list call should be roughly\u001b[0m\u001b[1;33m\u001b[0m\u001b[1;33m\u001b[0m\u001b[0m\n\u001b[0;32m    206\u001b[0m         \u001b[1;31m# equivalent to the PySequence_Fast that ''.join() would do.\u001b[0m\u001b[1;33m\u001b[0m\u001b[1;33m\u001b[0m\u001b[0m\n\u001b[1;32m--> 207\u001b[1;33m         \u001b[0mchunks\u001b[0m \u001b[1;33m=\u001b[0m \u001b[0mself\u001b[0m\u001b[1;33m.\u001b[0m\u001b[0miterencode\u001b[0m\u001b[1;33m(\u001b[0m\u001b[0mo\u001b[0m\u001b[1;33m,\u001b[0m \u001b[0m_one_shot\u001b[0m\u001b[1;33m=\u001b[0m\u001b[0mTrue\u001b[0m\u001b[1;33m)\u001b[0m\u001b[1;33m\u001b[0m\u001b[0m\n\u001b[0m\u001b[0;32m    208\u001b[0m         \u001b[1;32mif\u001b[0m \u001b[1;32mnot\u001b[0m \u001b[0misinstance\u001b[0m\u001b[1;33m(\u001b[0m\u001b[0mchunks\u001b[0m\u001b[1;33m,\u001b[0m \u001b[1;33m(\u001b[0m\u001b[0mlist\u001b[0m\u001b[1;33m,\u001b[0m \u001b[0mtuple\u001b[0m\u001b[1;33m)\u001b[0m\u001b[1;33m)\u001b[0m\u001b[1;33m:\u001b[0m\u001b[1;33m\u001b[0m\u001b[0m\n\u001b[0;32m    209\u001b[0m             \u001b[0mchunks\u001b[0m \u001b[1;33m=\u001b[0m \u001b[0mlist\u001b[0m\u001b[1;33m(\u001b[0m\u001b[0mchunks\u001b[0m\u001b[1;33m)\u001b[0m\u001b[1;33m\u001b[0m\u001b[0m\n",
        "\u001b[1;32mC:\\Python27\\Lib\\json\\encoder.pyc\u001b[0m in \u001b[0;36miterencode\u001b[1;34m(self, o, _one_shot)\u001b[0m\n\u001b[0;32m    268\u001b[0m                 \u001b[0mself\u001b[0m\u001b[1;33m.\u001b[0m\u001b[0mkey_separator\u001b[0m\u001b[1;33m,\u001b[0m \u001b[0mself\u001b[0m\u001b[1;33m.\u001b[0m\u001b[0mitem_separator\u001b[0m\u001b[1;33m,\u001b[0m \u001b[0mself\u001b[0m\u001b[1;33m.\u001b[0m\u001b[0msort_keys\u001b[0m\u001b[1;33m,\u001b[0m\u001b[1;33m\u001b[0m\u001b[0m\n\u001b[0;32m    269\u001b[0m                 self.skipkeys, _one_shot)\n\u001b[1;32m--> 270\u001b[1;33m         \u001b[1;32mreturn\u001b[0m \u001b[0m_iterencode\u001b[0m\u001b[1;33m(\u001b[0m\u001b[0mo\u001b[0m\u001b[1;33m,\u001b[0m \u001b[1;36m0\u001b[0m\u001b[1;33m)\u001b[0m\u001b[1;33m\u001b[0m\u001b[0m\n\u001b[0m\u001b[0;32m    271\u001b[0m \u001b[1;33m\u001b[0m\u001b[0m\n\u001b[0;32m    272\u001b[0m def _make_iterencode(markers, _default, _encoder, _indent, _floatstr,\n",
        "\u001b[1;32mC:\\Python27\\Lib\\json\\encoder.pyc\u001b[0m in \u001b[0;36mdefault\u001b[1;34m(self, o)\u001b[0m\n\u001b[0;32m    182\u001b[0m \u001b[1;33m\u001b[0m\u001b[0m\n\u001b[0;32m    183\u001b[0m         \"\"\"\n\u001b[1;32m--> 184\u001b[1;33m         \u001b[1;32mraise\u001b[0m \u001b[0mTypeError\u001b[0m\u001b[1;33m(\u001b[0m\u001b[0mrepr\u001b[0m\u001b[1;33m(\u001b[0m\u001b[0mo\u001b[0m\u001b[1;33m)\u001b[0m \u001b[1;33m+\u001b[0m \u001b[1;34m\" is not JSON serializable\"\u001b[0m\u001b[1;33m)\u001b[0m\u001b[1;33m\u001b[0m\u001b[0m\n\u001b[0m\u001b[0;32m    185\u001b[0m \u001b[1;33m\u001b[0m\u001b[0m\n\u001b[0;32m    186\u001b[0m     \u001b[1;32mdef\u001b[0m \u001b[0mencode\u001b[0m\u001b[1;33m(\u001b[0m\u001b[0mself\u001b[0m\u001b[1;33m,\u001b[0m \u001b[0mo\u001b[0m\u001b[1;33m)\u001b[0m\u001b[1;33m:\u001b[0m\u001b[1;33m\u001b[0m\u001b[0m\n",
        "\u001b[1;31mTypeError\u001b[0m: set(['G0913550', 'G0141263', 'G0864123', 'G0963578', 'G0862337', 'G0441197', 'G0642160', 'G0913605', 'G0641618', 'G0861842', 'G0344094', 'G0740401', 'G0960046', 'K0950017', 'N0040278', 'G0960156', 'G0863721', 'N0434146', 'G0960159', 'N0939776', 'G0143919', 'G0944824', 'B070860', 'G0960393', 'G0960943', 'G0961371', 'G0564342', 'G0913647', 'G0643368', 'G0246089', 'G0970005', 'G0960542', 'G0863958', 'G0242971', 'G0863951', 'G0143845', 'G0761222', 'G0041895', 'N0520675', 'G0961496', 'G0960421', 'G0970019', 'G0940864', 'G0970013', 'G0970011', 'G0970017', 'G0970015', 'G0963772', 'G0240826', 'B040721', 'G0441157', 'G0046203', 'G0863944', 'G0963692', 'G0970009', 'G0245581', 'N0741904', 'G0970007', 'G0940874', 'G0443548', 'G0244043', 'G0046562', 'G0913577', 'G0960146', 'G0860491', 'GA160087', 'G0344922', 'B090968', 'G0040511', 'G0343955', 'G0343486', 'G942167', 'G0441655', 'G0963512', 'G0960328', 'K0842817', 'G0344913', 'G0141258', 'K0580556', 'G0913619', 'G0940363', 'N0931356', 'N0046964', 'G0913591', 'G0441128', 'G0913598', 'G0950648', 'G0444495', 'N0327039', 'G0913612', 'G942272', 'N0929577', 'G0960110', 'G0913584', 'G0810468', 'N0932102', 'G0543759', 'G0344974', 'N0545724', 'G0914806', 'G0913570', 'G0043043', 'G0542110', 'N0736993']) is not JSON serializable"
       ]
      }
     ],
     "prompt_number": 82
    },
    {
     "cell_type": "code",
     "collapsed": false,
     "input": [
      "redo_list = missing+incomplete\n",
      "redo_list = list(set(redo_list))\n",
      "with open('missing.json', 'wb') as m:\n",
      "    m.write(json.dumps(redo_list))\n",
      "# missing"
     ],
     "language": "python",
     "metadata": {},
     "outputs": [],
     "prompt_number": 84
    },
    {
     "cell_type": "code",
     "collapsed": false,
     "input": [
      "len(redo_list), len(set(redo_list))"
     ],
     "language": "python",
     "metadata": {},
     "outputs": [
      {
       "metadata": {},
       "output_type": "pyout",
       "prompt_number": 85,
       "text": [
        "(104, 104)"
       ]
      }
     ],
     "prompt_number": 85
    },
    {
     "cell_type": "code",
     "collapsed": false,
     "input": [
      "with open('completed_scrape.json', 'wb') as f:\n",
      "    f.write(json.dumps(meta))"
     ],
     "language": "python",
     "metadata": {},
     "outputs": [],
     "prompt_number": 86
    }
   ],
   "metadata": {}
  }
 ]
}